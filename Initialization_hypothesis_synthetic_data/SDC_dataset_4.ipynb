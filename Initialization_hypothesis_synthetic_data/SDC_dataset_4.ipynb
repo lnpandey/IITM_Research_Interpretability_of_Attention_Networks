{
 "cells": [
  {
   "cell_type": "code",
   "execution_count": 1,
   "metadata": {
    "id": "0vlCAi2JLSzD"
   },
   "outputs": [],
   "source": [
    "# from google.colab import drive\n",
    "# drive.mount('/content/drive')"
   ]
  },
  {
   "cell_type": "code",
   "execution_count": 2,
   "metadata": {
    "id": "PiPNZm1iTgHy"
   },
   "outputs": [],
   "source": [
    "# path=\"/content/drive/MyDrive/Research/SDC/dataset_4/m_100_size_500/run_\""
   ]
  },
  {
   "cell_type": "code",
   "execution_count": 3,
   "metadata": {
    "colab": {
     "base_uri": "https://localhost:8080/"
    },
    "id": "N2_J4Rw2r0SQ",
    "outputId": "71bf0966-6dcb-44a7-91b8-b19aae53286e"
   },
   "outputs": [
    {
     "name": "stdout",
     "output_type": "stream",
     "text": [
      "cpu\n"
     ]
    }
   ],
   "source": [
    "import numpy as np\n",
    "import pandas as pd\n",
    "from matplotlib import pyplot as plt\n",
    "import matplotlib\n",
    "from tqdm import tqdm\n",
    "%matplotlib inline\n",
    "from torch.utils.data import Dataset, DataLoader\n",
    "import torch\n",
    "import torchvision\n",
    "from matplotlib.colors import ListedColormap\n",
    "\n",
    "import torch.nn as nn\n",
    "import torch.optim as optim\n",
    "from torch.nn import functional as F\n",
    "from tqdm import tqdm as tqdm\n",
    "device = torch.device(\"cuda\" if torch.cuda.is_available() else \"cpu\")\n",
    "print(device)"
   ]
  },
  {
   "cell_type": "markdown",
   "metadata": {
    "id": "F6fjud_Fr0Sa"
   },
   "source": [
    "# Generate dataset"
   ]
  },
  {
   "cell_type": "code",
   "execution_count": 4,
   "metadata": {
    "colab": {
     "base_uri": "https://localhost:8080/"
    },
    "id": "CqdXHO0Cr0Sd",
    "outputId": "5627aaaf-29d3-4280-fe53-aa7291f4d46e"
   },
   "outputs": [
    {
     "name": "stdout",
     "output_type": "stream",
     "text": [
      "0 530\n",
      "1 463\n",
      "2 494\n",
      "3 517\n",
      "4 488\n",
      "5 497\n",
      "6 493\n",
      "7 507\n",
      "8 492\n",
      "9 519\n"
     ]
    }
   ],
   "source": [
    "np.random.seed(12)\n",
    "y = np.random.randint(0,10,5000)\n",
    "idx= []\n",
    "for i in range(10):\n",
    "    print(i,sum(y==i))\n",
    "    idx.append(y==i)"
   ]
  },
  {
   "cell_type": "code",
   "execution_count": 5,
   "metadata": {
    "id": "ddhXyODwr0Sk"
   },
   "outputs": [],
   "source": [
    "x = np.zeros((5000,2))"
   ]
  },
  {
   "cell_type": "code",
   "execution_count": 6,
   "metadata": {
    "id": "DyV3N2DIr0Sp"
   },
   "outputs": [],
   "source": [
    "np.random.seed(12)\n",
    "x[idx[0],:] = np.random.multivariate_normal(mean = [4,6.5],cov=[[0.01,0],[0,0.01]],size=sum(idx[0]))\n",
    "x[idx[1],:] = np.random.multivariate_normal(mean = [5.5,6],cov=[[0.01,0],[0,0.01]],size=sum(idx[1]))\n",
    "x[idx[2],:] = np.random.multivariate_normal(mean = [4.5,4.5],cov=[[0.01,0],[0,0.01]],size=sum(idx[2]))\n",
    "x[idx[3],:] = np.random.multivariate_normal(mean = [3,3.5],cov=[[0.01,0],[0,0.01]],size=sum(idx[3]))\n",
    "x[idx[4],:] = np.random.multivariate_normal(mean = [2.5,5.5],cov=[[0.01,0],[0,0.01]],size=sum(idx[4]))\n",
    "x[idx[5],:] = np.random.multivariate_normal(mean = [3.5,8],cov=[[0.01,0],[0,0.01]],size=sum(idx[5]))\n",
    "x[idx[6],:] = np.random.multivariate_normal(mean = [5.5,8],cov=[[0.01,0],[0,0.01]],size=sum(idx[6]))\n",
    "x[idx[7],:] = np.random.multivariate_normal(mean = [7,6.5],cov=[[0.01,0],[0,0.01]],size=sum(idx[7]))\n",
    "x[idx[8],:] = np.random.multivariate_normal(mean = [6.5,4.5],cov=[[0.01,0],[0,0.01]],size=sum(idx[8]))\n",
    "x[idx[9],:] = np.random.multivariate_normal(mean = [5,3],cov=[[0.01,0],[0,0.01]],size=sum(idx[9]))"
   ]
  },
  {
   "cell_type": "code",
   "execution_count": 7,
   "metadata": {
    "colab": {
     "base_uri": "https://localhost:8080/"
    },
    "id": "qh1mDScsU07I",
    "outputId": "c544f0d8-f636-4514-99e9-2323729168b4"
   },
   "outputs": [
    {
     "data": {
      "text/plain": [
       "(array([4.04729858, 6.43185741]), array([4.46762703, 4.2460364 ]))"
      ]
     },
     "execution_count": 7,
     "metadata": {},
     "output_type": "execute_result"
    }
   ],
   "source": [
    "x[idx[0]][0], x[idx[2]][5] "
   ]
  },
  {
   "cell_type": "code",
   "execution_count": 8,
   "metadata": {
    "colab": {
     "base_uri": "https://localhost:8080/"
    },
    "id": "9Vr5ErQ_wSrV",
    "outputId": "31ce33ff-f319-4ee0-e3fd-88bbe1bdb08e"
   },
   "outputs": [
    {
     "name": "stdout",
     "output_type": "stream",
     "text": [
      "(5000, 2) (5000,)\n"
     ]
    }
   ],
   "source": [
    "print(x.shape,y.shape)"
   ]
  },
  {
   "cell_type": "code",
   "execution_count": 9,
   "metadata": {
    "id": "NG-3RpffwU_i"
   },
   "outputs": [],
   "source": [
    "idx= []\n",
    "for i in range(10):\n",
    "  idx.append(y==i)"
   ]
  },
  {
   "cell_type": "code",
   "execution_count": 10,
   "metadata": {
    "colab": {
     "base_uri": "https://localhost:8080/",
     "height": 283
    },
    "id": "hJ8Jm7YUr0St",
    "outputId": "bbc108f3-4e02-4ea0-ef1d-8ec494da8bc8"
   },
   "outputs": [
    {
     "data": {
      "text/plain": [
       "<matplotlib.legend.Legend at 0x1303775e0>"
      ]
     },
     "execution_count": 10,
     "metadata": {},
     "output_type": "execute_result"
    },
    {
     "data": {
      "image/png": "[encoded data removed]",
      "text/plain": [
       "<Figure size 432x288 with 1 Axes>"
      ]
     },
     "metadata": {
      "needs_background": "light"
     },
     "output_type": "display_data"
    }
   ],
   "source": [
    "colors_base_data = ['red','green','blue','brown','brown','brown','brown','brown','brown','brown']\n",
    "plt.figure()\n",
    "\n",
    "scatter = plt.scatter(x[:,0],x[:,1],c=y,cmap=matplotlib.colors.ListedColormap(colors_base_data),alpha=0.5,s=100)\n",
    "plt.legend(loc='center left', bbox_to_anchor=(1, 0.5),\n",
    "           handles=scatter.legend_elements()[0],labels=(\"fg1\",\"fg2\",\"fg3\",\"bg\"))"
   ]
  },
  {
   "cell_type": "code",
   "execution_count": 11,
   "metadata": {
    "id": "fNWgnhUJnWLV"
   },
   "outputs": [],
   "source": [
    "x = ( x -  np.mean(x,axis=0,keepdims=True) ) / np.std(x,axis=0,keepdims=True) \n"
   ]
  },
  {
   "cell_type": "code",
   "execution_count": 12,
   "metadata": {
    "colab": {
     "base_uri": "https://localhost:8080/",
     "height": 283
    },
    "id": "8-VLhUfDDeHt",
    "outputId": "c3c1d17c-0f13-4b9e-8ce9-95e767379a54"
   },
   "outputs": [
    {
     "data": {
      "text/plain": [
       "<matplotlib.legend.Legend at 0x1304b8d00>"
      ]
     },
     "execution_count": 12,
     "metadata": {},
     "output_type": "execute_result"
    },
    {
     "data": {
      "image/png": "[encoded data removed]",
      "text/plain": [
       "<Figure size 432x288 with 1 Axes>"
      ]
     },
     "metadata": {
      "needs_background": "light"
     },
     "output_type": "display_data"
    }
   ],
   "source": [
    "plt.figure()\n",
    "\n",
    "scatter = plt.scatter(x[:,0],x[:,1],c=y,cmap=matplotlib.colors.ListedColormap(colors_base_data),alpha=0.5,s=100)\n",
    "plt.legend(loc='center left', bbox_to_anchor=(1, 0.5),\n",
    "           handles=scatter.legend_elements()[0],labels=(\"fg1\",\"fg2\",\"fg3\",\"bg\"))"
   ]
  },
  {
   "cell_type": "code",
   "execution_count": 13,
   "metadata": {
    "id": "UfFHcZJOr0Sz"
   },
   "outputs": [],
   "source": [
    "foreground_classes = {'class_0','class_1' }\n",
    "\n",
    "background_classes = {'bg_classes',}"
   ]
  },
  {
   "cell_type": "code",
   "execution_count": 14,
   "metadata": {
    "colab": {
     "base_uri": "https://localhost:8080/"
    },
    "id": "jqbvfbwVr0TN",
    "outputId": "20be5bad-3c63-4eed-81df-4a503036e209"
   },
   "outputs": [
    {
     "name": "stderr",
     "output_type": "stream",
     "text": [
      "100%|██████████████████████████████████████| 1500/1500 [00:04<00:00, 349.27it/s]\n"
     ]
    }
   ],
   "source": [
    "desired_num = 1500\n",
    "mosaic_list_of_images =[]\n",
    "mosaic_label = []\n",
    "fore_idx=[]\n",
    "m = 100\n",
    "for j in tqdm(range(desired_num)):\n",
    "    np.random.seed(j)\n",
    "    fg_class  = np.random.randint(0,3)\n",
    "    fg_idx = np.random.randint(0,m)\n",
    "    a = []\n",
    "    for i in range(m):\n",
    "        if i == fg_idx:\n",
    "            b = np.random.choice(np.where(idx[fg_class]==True)[0],size=1)\n",
    "            a.append(x[b])\n",
    "#             print(\"foreground \"+str(fg_class)+\" present at \" + str(fg_idx))\n",
    "        else:\n",
    "            bg_class = np.random.randint(3,10)\n",
    "            b = np.random.choice(np.where(idx[bg_class]==True)[0],size=1)\n",
    "            a.append(x[b])\n",
    "#             print(\"background \"+str(bg_class)+\" present at \" + str(i))\n",
    "    a = np.concatenate(a,axis=0)\n",
    "    mosaic_list_of_images.append(np.reshape(a,(m,2)))\n",
    "    mosaic_label.append(fg_class)\n",
    "    fore_idx.append(fg_idx)"
   ]
  },
  {
   "cell_type": "code",
   "execution_count": 15,
   "metadata": {
    "id": "BOsFmWfMr0TR"
   },
   "outputs": [],
   "source": [
    "# mosaic_list_of_images = np.concatenate(mosaic_list_of_images,axis=1).T\n"
   ]
  },
  {
   "cell_type": "code",
   "execution_count": 16,
   "metadata": {
    "colab": {
     "base_uri": "https://localhost:8080/"
    },
    "id": "2aIPMgLXNiXW",
    "outputId": "257bd429-0a3a-4002-e48e-9010edf5509c"
   },
   "outputs": [
    {
     "data": {
      "text/plain": [
       "(1500,\n",
       " array([[ 1.47567327e+00, -6.54288463e-01],\n",
       "        [ 5.70309537e-01,  1.40548543e+00],\n",
       "        [ 6.45138085e-01,  1.45552171e+00],\n",
       "        [-1.49276692e+00, -1.19351958e-01],\n",
       "        [ 1.29302537e+00, -6.59632751e-01],\n",
       "        [ 1.69530635e+00,  5.77825956e-01],\n",
       "        [ 2.33298162e-01, -1.60818073e+00],\n",
       "        [-1.19634229e+00, -1.30879595e+00],\n",
       "        [-8.94887062e-01,  1.45514933e+00],\n",
       "        [ 2.31230274e-01, -1.53243055e+00],\n",
       "        [ 1.60485457e-01, -1.54922073e+00],\n",
       "        [-1.58705852e+00, -1.43409509e-02],\n",
       "        [ 6.43994604e-01,  1.37759531e+00],\n",
       "        [ 5.67602372e-01,  1.52378643e+00],\n",
       "        [ 2.19141185e-01, -1.59850438e+00],\n",
       "        [-1.13305281e+00, -1.34940200e+00],\n",
       "        [-1.32318630e+00, -1.25935820e+00],\n",
       "        [ 6.10206335e-01,  1.48882458e+00],\n",
       "        [ 6.56593191e-01,  1.48538108e+00],\n",
       "        [ 1.42863187e-01, -1.46428492e+00],\n",
       "        [-1.25305585e+00, -1.31546647e+00],\n",
       "        [-1.51580467e+00, -8.43213567e-02],\n",
       "        [-1.19906115e+00, -1.18174435e+00],\n",
       "        [ 6.28343328e-01,  1.55594855e+00],\n",
       "        [-8.97748535e-01,  1.44098228e+00],\n",
       "        [ 1.58563572e+00,  5.45633256e-01],\n",
       "        [-1.23958600e+00, -1.26929349e+00],\n",
       "        [ 1.67469652e+00,  5.69472602e-01],\n",
       "        [ 1.37546680e+00, -6.31545200e-01],\n",
       "        [-1.32505456e+00, -1.26799052e+00],\n",
       "        [ 1.46468120e+00,  6.10498182e-01],\n",
       "        [-8.16613621e-01,  1.45647377e+00],\n",
       "        [-1.14232548e+00, -1.23503365e+00],\n",
       "        [-1.63291782e+00,  4.95762597e-02],\n",
       "        [-1.51951617e+00, -1.21371650e-01],\n",
       "        [ 4.69045862e-01,  1.45018922e+00],\n",
       "        [ 4.83058336e-01,  1.44376473e+00],\n",
       "        [-8.89971805e-01,  1.49910135e+00],\n",
       "        [-1.23143353e+00, -1.34405625e+00],\n",
       "        [ 5.09252371e-01,  1.45534899e+00],\n",
       "        [ 1.53684567e+00,  4.86635785e-01],\n",
       "        [-8.29725918e-01,  1.40842065e+00],\n",
       "        [ 6.14858751e-01,  1.49202074e+00],\n",
       "        [ 1.50091087e-01, -1.53824743e+00],\n",
       "        [ 1.52842963e+00,  6.44487541e-01],\n",
       "        [ 1.64892680e+00,  6.16406969e-01],\n",
       "        [ 1.59238480e+00,  5.06386652e-01],\n",
       "        [-5.74515784e-01,  5.79089334e-01],\n",
       "        [ 1.67017993e+00,  5.96584790e-01],\n",
       "        [-8.47011720e-01,  1.50402942e+00],\n",
       "        [ 1.26663504e+00, -6.94369377e-01],\n",
       "        [ 1.34864635e+00, -6.50992083e-01],\n",
       "        [-1.57681308e+00, -1.03412162e-01],\n",
       "        [-1.62083665e+00, -2.34346205e-02],\n",
       "        [-1.18797330e+00, -1.22347654e+00],\n",
       "        [ 1.26400408e+00, -5.73771901e-01],\n",
       "        [-1.22942338e+00, -1.24589602e+00],\n",
       "        [-8.28442628e-01,  1.51057408e+00],\n",
       "        [ 1.28849974e+00, -5.42326844e-01],\n",
       "        [-9.10492765e-01,  1.41777369e+00],\n",
       "        [ 1.22968306e+00, -6.96017079e-01],\n",
       "        [ 1.15878459e+00, -6.59468466e-01],\n",
       "        [-1.23501402e+00, -1.23847275e+00],\n",
       "        [ 5.68842218e-01,  1.49852030e+00],\n",
       "        [ 5.18425270e-01,  1.54971268e+00],\n",
       "        [-1.48492701e+00, -1.31341245e-01],\n",
       "        [ 2.81402880e-01, -1.71205234e+00],\n",
       "        [ 5.99978264e-01,  1.49712089e+00],\n",
       "        [ 1.33333581e-01, -1.48131362e+00],\n",
       "        [-1.48905434e+00,  1.23871994e-03],\n",
       "        [ 5.34006639e-01,  1.44069134e+00],\n",
       "        [-1.59626027e+00,  1.07945020e-01],\n",
       "        [-1.61629849e+00,  7.75542796e-03],\n",
       "        [-8.35371578e-01,  1.47228385e+00],\n",
       "        [ 6.78066096e-01,  1.45090916e+00],\n",
       "        [ 5.97863871e-01,  1.46532902e+00],\n",
       "        [ 6.31928990e-01,  1.57014559e+00],\n",
       "        [-1.17144196e+00, -1.28794326e+00],\n",
       "        [-1.18213368e+00, -1.35100264e+00],\n",
       "        [ 2.46161946e-01, -1.52300501e+00],\n",
       "        [-1.10761046e+00, -1.23980879e+00],\n",
       "        [-1.25451062e+00, -1.26833739e+00],\n",
       "        [-1.03223212e+00, -1.36791077e+00],\n",
       "        [ 1.18241284e-01, -1.60172763e+00],\n",
       "        [ 4.81442432e-01,  1.49303372e+00],\n",
       "        [-1.20294315e+00, -1.24594665e+00],\n",
       "        [-1.24630017e+00, -1.28451460e+00],\n",
       "        [-1.17268744e+00, -1.21658850e+00],\n",
       "        [-9.70536784e-01,  1.50610835e+00],\n",
       "        [ 1.76037249e+00,  3.71768765e-01],\n",
       "        [ 1.58335920e+00,  4.65317759e-01],\n",
       "        [ 2.32035310e-01, -1.49719273e+00],\n",
       "        [ 7.24250136e-01,  1.49918052e+00],\n",
       "        [ 4.97428609e-01,  1.50323162e+00],\n",
       "        [ 1.16821861e+00, -6.43014672e-01],\n",
       "        [ 1.33477217e+00, -6.83864855e-01],\n",
       "        [-1.24885703e+00, -1.17999277e+00],\n",
       "        [ 1.35557085e+00, -6.96214876e-01],\n",
       "        [ 1.23057750e-01, -1.52496469e+00],\n",
       "        [-1.31197751e+00, -1.34726904e+00]]),\n",
       " (100, 2))"
      ]
     },
     "execution_count": 16,
     "metadata": {},
     "output_type": "execute_result"
    }
   ],
   "source": [
    "len(mosaic_list_of_images), mosaic_list_of_images[0],mosaic_list_of_images[0].shape"
   ]
  },
  {
   "cell_type": "code",
   "execution_count": 17,
   "metadata": {
    "id": "iPoIwbMHx44n"
   },
   "outputs": [],
   "source": [
    "class MosaicDataset(Dataset):\n",
    "  \"\"\"MosaicDataset dataset.\"\"\"\n",
    "\n",
    "  def __init__(self, mosaic_list_of_images, mosaic_label, fore_idx):\n",
    "    \"\"\"\n",
    "      Args:\n",
    "        csv_file (string): Path to the csv file with annotations.\n",
    "        root_dir (string): Directory with all the images.\n",
    "        transform (callable, optional): Optional transform to be applied\n",
    "            on a sample.\n",
    "    \"\"\"\n",
    "    self.mosaic = mosaic_list_of_images\n",
    "    self.label = mosaic_label\n",
    "    self.fore_idx = fore_idx\n",
    "\n",
    "  def __len__(self):\n",
    "    return len(self.label)\n",
    "\n",
    "  def __getitem__(self, idx):\n",
    "    return self.mosaic[idx] , self.label[idx], self.fore_idx[idx]\n",
    "\n"
   ]
  },
  {
   "cell_type": "code",
   "execution_count": 18,
   "metadata": {
    "id": "fOPAJQJeW8Ah"
   },
   "outputs": [],
   "source": [
    "batch = 100\n",
    "msd1 = MosaicDataset(mosaic_list_of_images[0:500], mosaic_label[0:500] , fore_idx[0:500])\n",
    "train_loader = DataLoader( msd1 ,batch_size= batch ,shuffle=True)"
   ]
  },
  {
   "cell_type": "code",
   "execution_count": 19,
   "metadata": {
    "id": "aWBIcyvGApLt"
   },
   "outputs": [],
   "source": [
    "data,_,_=iter(train_loader).next()"
   ]
  },
  {
   "cell_type": "code",
   "execution_count": 20,
   "metadata": {
    "colab": {
     "base_uri": "https://localhost:8080/"
    },
    "id": "cauJIvKEAxKM",
    "outputId": "701452cb-ec2e-4c72-8e8a-e3b5d9715847"
   },
   "outputs": [
    {
     "data": {
      "text/plain": [
       "torch.Size([100, 100, 2])"
      ]
     },
     "execution_count": 20,
     "metadata": {},
     "output_type": "execute_result"
    }
   ],
   "source": [
    "data.shape"
   ]
  },
  {
   "cell_type": "code",
   "execution_count": 21,
   "metadata": {
    "id": "qjNiQgxZW8bA"
   },
   "outputs": [],
   "source": [
    "batch = 250\n",
    "msd2 = MosaicDataset(mosaic_list_of_images[500:], mosaic_label[500:] , fore_idx[500:])\n",
    "test_loader = DataLoader( msd2 ,batch_size= batch ,shuffle=True)"
   ]
  },
  {
   "cell_type": "code",
   "execution_count": 22,
   "metadata": {
    "id": "yda1E5ApiKpH"
   },
   "outputs": [],
   "source": [
    "class Focus(nn.Module):\n",
    "    def __init__(self):\n",
    "        super(Focus, self).__init__()\n",
    "        self.fc1 = nn.Linear(2,50, bias=False)\n",
    "        torch.nn.init.xavier_normal_(self.fc1.weight)\n",
    "        self.fc2 = nn.Linear(50, 1, bias=False)\n",
    "        torch.nn.init.xavier_normal_(self.fc2.weight)\n",
    "\n",
    "    def forward(self,z):\n",
    "        #print(\"data\",z)\n",
    "        batch = z.size(0)\n",
    "        patches = z.size(1)\n",
    "        z = z.view(batch,patches,2*1)\n",
    "        alp1,ft1 = self.helper(z)\n",
    "        \n",
    "  \n",
    "        alpha = F.softmax(alp1,dim=1)\n",
    "        y = torch.sum(alpha*ft1,dim=1)\n",
    "        #print(alpha.shape,y.shape)\n",
    "        alpha =alpha[:,:,0]\n",
    "\n",
    "        return alpha,y   # return  alpha values,attended data\n",
    "  \n",
    "    \n",
    "    def helper(self, x):\n",
    "      x1 = x\n",
    "      x = F.relu(self.fc1(x))\n",
    "      x = self.fc2(x)\n",
    "\n",
    "      return x,x1"
   ]
  },
  {
   "cell_type": "code",
   "execution_count": 23,
   "metadata": {
    "id": "0dYXnywAD-4l"
   },
   "outputs": [],
   "source": [
    "class Classification(nn.Module):\n",
    "  def __init__(self):\n",
    "    super(Classification, self).__init__()\n",
    "    self.fc1 = nn.Linear(2, 3)\n",
    "    #self.fc2 = nn.Linear(50,3)\n",
    "    torch.nn.init.xavier_normal_(self.fc1.weight)\n",
    "    torch.nn.init.zeros_(self.fc1.bias)\n",
    "    #torch.nn.init.xavier_normal_(self.fc2.weight)\n",
    "    #torch.nn.init.zeros_(self.fc2.bias)\n",
    "\n",
    "  def forward(self, x):\n",
    "    #print(x.shape)\n",
    "    #x = x.view(-1, 1)\n",
    "    #print(x.shape)\n",
    "    #x = F.relu(self.fc1(x))\n",
    "    x = self.fc1(x)\n",
    "    # print(x.shape)\n",
    "    return x"
   ]
  },
  {
   "cell_type": "code",
   "execution_count": 24,
   "metadata": {},
   "outputs": [],
   "source": [
    "def plot_attended_data(trainloader,fnet,cnet,base_data,base_labels,nepoch=0):\n",
    "    attended_data = []\n",
    "    mlabels = []\n",
    "    with torch.no_grad():\n",
    "        for data in train_loader:\n",
    "            inputs, labels , fore_idx = data\n",
    "            inputs = inputs.double()\n",
    "            #inputs, labels , fore_idx = inputs.to(\"cuda\"),labels.to(\"cuda\"), fore_idx.to(\"cuda\")\n",
    "            alphas, avg_data = fnet(inputs)\n",
    "            mlabels.append(labels.cpu().numpy())\n",
    "            attended_data.append(avg_data.cpu().numpy())\n",
    "    mlabels = np.concatenate(mlabels,axis=0)\n",
    "    attended_data = np.concatenate(attended_data,axis=0)\n",
    "    plt.figure(figsize=(6,8))\n",
    "    colors = ['red','green',\"blue\"]\n",
    "    scatter = plt.scatter(attended_data[:,0] ,attended_data[:,1],c=mlabels,\n",
    "                          cmap=matplotlib.colors.ListedColormap(colors),alpha=0.8)\n",
    "    plt.legend(handles=scatter.legend_elements()[0], labels=[\"fg0\",\"fg1\",\"fg2\"])\n",
    "    plt.title(\"Attended Data \"+str(nepoch))\n",
    "    \n",
    "    X,Y = torch.meshgrid(torch.linspace(-2,2,100), torch.linspace(-2,2,100))\n",
    "    n=X.shape[0]*X.shape[1]\n",
    "    data = torch.zeros((n,2)).double()\n",
    "    data[:,0]=X.reshape((-1,))\n",
    "    data[:,1]=Y.reshape((-1,))\n",
    "    #data = data.to(\"cuda\")\n",
    "    with torch.no_grad():\n",
    "        Z,_ = fnet.helper(data)\n",
    "    Z = Z.cpu().numpy()\n",
    "    Z = Z.reshape(X.shape)\n",
    "    plt.figure(figsize=(6,8))\n",
    "    cax = plt.contourf(X,Y,Z,)\n",
    "    scatter = plt.scatter(base_data[:,0] ,base_data[:,1],c=base_labels,\n",
    "                          cmap=matplotlib.colors.ListedColormap(colors_base_data)\n",
    "                          ,alpha=0.8)\n",
    "    plt.legend(handles=scatter.legend_elements()[0], labels=[\"fg0\",\"fg1\",\"fg2\",\"bg\"])\n",
    "    plt.colorbar(cax)\n",
    "    plt.title(\"Focus Map \"+str(nepoch))\n",
    "\n",
    "    with torch.no_grad():\n",
    "        Z1 = cnet(data)\n",
    "        _, Z1 = torch.max(Z1.data, 1)\n",
    "        Z1 = Z1.cpu().numpy()\n",
    "        Z1 = Z1.reshape(X.shape)\n",
    "    plt.figure(figsize=(6,8))\n",
    "    cax = plt.contourf(X,Y,Z1)\n",
    "    plt.colorbar(cax)\n",
    "    scatter = plt.scatter(attended_data[:,0] ,attended_data[:,1],c=mlabels,\n",
    "                          cmap=matplotlib.colors.ListedColormap(colors),alpha=0.8)\n",
    "    plt.legend(handles=scatter.legend_elements()[0], labels=[\"fg0\",\"fg1\",\"fg2\"])\n",
    "    plt.title(\"classification map \"+str(nepoch))"
   ]
  },
  {
   "cell_type": "code",
   "execution_count": 25,
   "metadata": {
    "id": "lSa6O9f6XNf4"
   },
   "outputs": [],
   "source": [
    "torch.manual_seed(14)\n",
    "focus_net = Focus().double()\n",
    "#focus_net = focus_net.to(\"cuda\")"
   ]
  },
  {
   "cell_type": "code",
   "execution_count": 26,
   "metadata": {
    "id": "36k3H2G-XO9A"
   },
   "outputs": [],
   "source": [
    "torch.manual_seed(14)\n",
    "classify = Classification().double()\n",
    "#classify = classify.to(\"cuda\")"
   ]
  },
  {
   "cell_type": "code",
   "execution_count": 27,
   "metadata": {},
   "outputs": [
    {
     "data": {
      "image/png": "[encoded data removed]",
      "text/plain": [
       "<Figure size 432x576 with 1 Axes>"
      ]
     },
     "metadata": {
      "needs_background": "light"
     },
     "output_type": "display_data"
    },
    {
     "data": {
      "image/png": "[encoded data removed]",
      "text/plain": [
       "<Figure size 432x576 with 2 Axes>"
      ]
     },
     "metadata": {
      "needs_background": "light"
     },
     "output_type": "display_data"
    },
    {
     "data": {
      "image/png": "[encoded data removed]",
      "text/plain": [
       "<Figure size 432x576 with 2 Axes>"
      ]
     },
     "metadata": {
      "needs_background": "light"
     },
     "output_type": "display_data"
    }
   ],
   "source": [
    "plot_attended_data(train_loader,focus_net,classify,x,y,0)"
   ]
  },
  {
   "cell_type": "code",
   "execution_count": 28,
   "metadata": {},
   "outputs": [],
   "source": [
    "# for params in focus_net.named_parameters():\n",
    "#     print(params)\n",
    "#focus_net = focus_net.to(\"cuda\")\n",
    "\n",
    "# focus_net.fc2.weight.data = -focus_net.fc2.weight.data\n",
    "# plot_attended_data(train_loader,focus_net,classify,x,y,0)"
   ]
  },
  {
   "cell_type": "code",
   "execution_count": null,
   "metadata": {},
   "outputs": [],
   "source": []
  },
  {
   "cell_type": "code",
   "execution_count": 29,
   "metadata": {
    "id": "7MHBbL7FXRQk"
   },
   "outputs": [],
   "source": [
    "import torch.optim as optim\n",
    "criterion = nn.CrossEntropyLoss()\n",
    "optimizer_classify = optim.SGD(classify.parameters(), lr=0.05 , momentum=0.9)\n",
    "optimizer_focus = optim.SGD(focus_net.parameters(), lr=0.05 , momentum=0.9)"
   ]
  },
  {
   "cell_type": "code",
   "execution_count": 30,
   "metadata": {
    "id": "pjD2VZuV9Ed4"
   },
   "outputs": [],
   "source": [
    "col1=[]\n",
    "col2=[]\n",
    "col3=[]\n",
    "col4=[]\n",
    "col5=[]\n",
    "col6=[]\n",
    "col7=[]\n",
    "col8=[]\n",
    "col9=[]\n",
    "col10=[]\n",
    "col11=[]\n",
    "col12=[]\n",
    "col13=[]"
   ]
  },
  {
   "cell_type": "code",
   "execution_count": 31,
   "metadata": {
    "colab": {
     "base_uri": "https://localhost:8080/"
    },
    "id": "uALi25pmzQHV",
    "outputId": "7f578464-4b2c-4943-b8a8-06ff3d30eb8d"
   },
   "outputs": [
    {
     "name": "stdout",
     "output_type": "stream",
     "text": [
      "Accuracy of the network on the train images: 34.800000 %\n",
      "total correct 174\n",
      "total train set images 500\n",
      "focus_true_pred_true 0 =============> FTPT : 0.000000 %\n",
      "focus_false_pred_true 174 =============> FFPT : 34.800000 %\n",
      "focus_true_pred_false 0 =============> FTPF : 0.000000 %\n",
      "focus_false_pred_false 326 =============> FFPF : 65.200000 %\n",
      "argmax_more_than_half ==================>  0\n",
      "argmax_less_than_half ==================>  500\n",
      "500\n",
      "====================================================================================================\n"
     ]
    }
   ],
   "source": [
    "correct = 0\n",
    "total = 0\n",
    "count = 0\n",
    "flag = 1\n",
    "focus_true_pred_true =0\n",
    "focus_false_pred_true =0\n",
    "focus_true_pred_false =0\n",
    "focus_false_pred_false =0\n",
    "\n",
    "argmax_more_than_half = 0\n",
    "argmax_less_than_half =0\n",
    "\n",
    "with torch.no_grad():\n",
    "  for data in train_loader:\n",
    "    inputs, labels , fore_idx = data\n",
    "    inputs = inputs.double()\n",
    "    #inputs, labels , fore_idx = inputs.to(\"cuda\"),labels.to(\"cuda\"), fore_idx.to(\"cuda\")\n",
    "    alphas, avg_images = focus_net(inputs)\n",
    "    outputs = classify(avg_images)\n",
    "    # print(outputs.shape)\n",
    "    _, predicted = torch.max(outputs.data, 1)\n",
    "    # print(predicted.shape)\n",
    "\n",
    "    for j in range(labels.size(0)):\n",
    "      count += 1\n",
    "      focus = torch.argmax(alphas[j])\n",
    "      if alphas[j][focus] >= 0.5 :\n",
    "        argmax_more_than_half += 1\n",
    "      else:\n",
    "        argmax_less_than_half += 1\n",
    "\n",
    "      # print(focus, fore_idx[j], predicted[j])\n",
    "      if(focus == fore_idx[j] and predicted[j] == labels[j]):\n",
    "          focus_true_pred_true += 1\n",
    "      elif(focus != fore_idx[j] and predicted[j] == labels[j]):\n",
    "        focus_false_pred_true += 1\n",
    "      elif(focus == fore_idx[j] and predicted[j] != labels[j]):\n",
    "        focus_true_pred_false += 1\n",
    "      elif(focus != fore_idx[j] and predicted[j] != labels[j]):\n",
    "        focus_false_pred_false += 1\n",
    "\n",
    "    total += labels.size(0)\n",
    "    correct += (predicted == labels).sum().item()\n",
    "\n",
    "print('Accuracy of the network on the train images: %f %%' % ( 100 * correct / total))\n",
    "print(\"total correct\", correct)\n",
    "print(\"total train set images\", total)\n",
    "\n",
    "print(\"focus_true_pred_true %d =============> FTPT : %f %%\" % (focus_true_pred_true , (100 * focus_true_pred_true / total) ) )\n",
    "print(\"focus_false_pred_true %d =============> FFPT : %f %%\" % (focus_false_pred_true, (100 * focus_false_pred_true / total) ) )\n",
    "print(\"focus_true_pred_false %d =============> FTPF : %f %%\" %( focus_true_pred_false , ( 100 * focus_true_pred_false / total) ) )\n",
    "print(\"focus_false_pred_false %d =============> FFPF : %f %%\" % (focus_false_pred_false, ( 100 * focus_false_pred_false / total) ) )\n",
    "\n",
    "print(\"argmax_more_than_half ==================> \",argmax_more_than_half)\n",
    "print(\"argmax_less_than_half ==================> \",argmax_less_than_half)\n",
    "print(count)\n",
    "\n",
    "print(\"=\"*100)\n",
    "\n",
    "col1.append(0)\n",
    "col2.append(argmax_more_than_half)\n",
    "col3.append(argmax_less_than_half)\n",
    "col4.append(focus_true_pred_true)\n",
    "col5.append(focus_false_pred_true)\n",
    "col6.append(focus_true_pred_false)\n",
    "col7.append(focus_false_pred_false)"
   ]
  },
  {
   "cell_type": "code",
   "execution_count": 32,
   "metadata": {
    "colab": {
     "base_uri": "https://localhost:8080/"
    },
    "id": "4vmNprlPzTjP",
    "outputId": "f18d3deb-b612-46d6-97c5-866deffb3dcc"
   },
   "outputs": [
    {
     "name": "stdout",
     "output_type": "stream",
     "text": [
      "Accuracy of the network on the test images: 33.900000 %\n",
      "total correct 339\n",
      "total train set images 1000\n",
      "focus_true_pred_true 0 =============> FTPT : 0.000000 %\n",
      "focus_false_pred_true 339 =============> FFPT : 33.900000 %\n",
      "focus_true_pred_false 0 =============> FTPF : 0.000000 %\n",
      "focus_false_pred_false 661 =============> FFPF : 66.100000 %\n",
      "argmax_more_than_half ==================>  0\n",
      "argmax_less_than_half ==================>  1000\n"
     ]
    }
   ],
   "source": [
    "correct = 0\n",
    "total = 0\n",
    "count = 0\n",
    "flag = 1\n",
    "focus_true_pred_true =0\n",
    "focus_false_pred_true =0\n",
    "focus_true_pred_false =0\n",
    "focus_false_pred_false =0\n",
    "\n",
    "argmax_more_than_half = 0\n",
    "argmax_less_than_half =0\n",
    "\n",
    "with torch.no_grad():\n",
    "  for data in test_loader:\n",
    "    inputs, labels , fore_idx = data\n",
    "    inputs = inputs.double()\n",
    "    #inputs, labels , fore_idx = inputs.to(\"cuda\"),labels.to(\"cuda\"), fore_idx.to(\"cuda\")\n",
    "    alphas, avg_images = focus_net(inputs)\n",
    "    outputs = classify(avg_images)\n",
    "\n",
    "    _, predicted = torch.max(outputs.data, 1)\n",
    "\n",
    "    for j in range(labels.size(0)):\n",
    "      focus = torch.argmax(alphas[j])\n",
    "      if alphas[j][focus] >= 0.5 :\n",
    "        argmax_more_than_half += 1\n",
    "      else:\n",
    "        argmax_less_than_half += 1\n",
    "\n",
    "      if(focus == fore_idx[j] and predicted[j] == labels[j]):\n",
    "          focus_true_pred_true += 1\n",
    "      elif(focus != fore_idx[j] and predicted[j] == labels[j]):\n",
    "        focus_false_pred_true += 1\n",
    "      elif(focus == fore_idx[j] and predicted[j] != labels[j]):\n",
    "        focus_true_pred_false += 1\n",
    "      elif(focus != fore_idx[j] and predicted[j] != labels[j]):\n",
    "        focus_false_pred_false += 1\n",
    "\n",
    "    total += labels.size(0)\n",
    "    correct += (predicted == labels).sum().item()\n",
    "\n",
    "print('Accuracy of the network on the test images: %f %%' % (\n",
    "    100 * correct / total))\n",
    "print(\"total correct\", correct)\n",
    "print(\"total train set images\", total)\n",
    "\n",
    "print(\"focus_true_pred_true %d =============> FTPT : %f %%\" % (focus_true_pred_true , (100 * focus_true_pred_true / total) ) )\n",
    "print(\"focus_false_pred_true %d =============> FFPT : %f %%\" % (focus_false_pred_true, (100 * focus_false_pred_true / total) ) )\n",
    "print(\"focus_true_pred_false %d =============> FTPF : %f %%\" %( focus_true_pred_false , ( 100 * focus_true_pred_false / total) ) )\n",
    "print(\"focus_false_pred_false %d =============> FFPF : %f %%\" % (focus_false_pred_false, ( 100 * focus_false_pred_false / total) ) )\n",
    "\n",
    "print(\"argmax_more_than_half ==================> \",argmax_more_than_half)\n",
    "print(\"argmax_less_than_half ==================> \",argmax_less_than_half)\n",
    "col8.append(argmax_more_than_half)\n",
    "col9.append(argmax_less_than_half)\n",
    "col10.append(focus_true_pred_true)\n",
    "col11.append(focus_false_pred_true)\n",
    "col12.append(focus_true_pred_false)\n",
    "col13.append(focus_false_pred_false)"
   ]
  },
  {
   "cell_type": "code",
   "execution_count": null,
   "metadata": {
    "colab": {
     "base_uri": "https://localhost:8080/"
    },
    "id": "Yl41sE8vFERk",
    "outputId": "2b8047d9-52e5-4feb-a0ed-5bc5eb259029"
   },
   "outputs": [
    {
     "name": "stdout",
     "output_type": "stream",
     "text": [
      "[1,     5] loss: 1.106\n",
      "[2,     5] loss: 1.102\n",
      "[3,     5] loss: 1.105\n",
      "[4,     5] loss: 1.104\n",
      "[5,     5] loss: 1.101\n",
      "[6,     5] loss: 1.102\n",
      "[7,     5] loss: 1.102\n",
      "[8,     5] loss: 1.101\n",
      "[9,     5] loss: 1.101\n",
      "[10,     5] loss: 1.101\n",
      "[11,     5] loss: 1.100\n",
      "[12,     5] loss: 1.101\n",
      "[13,     5] loss: 1.100\n",
      "[14,     5] loss: 1.100\n",
      "[15,     5] loss: 1.100\n",
      "[16,     5] loss: 1.099\n",
      "[17,     5] loss: 1.100\n",
      "[18,     5] loss: 1.100\n",
      "[19,     5] loss: 1.099\n",
      "[20,     5] loss: 1.099\n",
      "[21,     5] loss: 1.100\n",
      "[22,     5] loss: 1.099\n",
      "[23,     5] loss: 1.099\n",
      "[24,     5] loss: 1.099\n",
      "[25,     5] loss: 1.100\n",
      "[26,     5] loss: 1.100\n",
      "[27,     5] loss: 1.098\n",
      "[28,     5] loss: 1.099\n",
      "[29,     5] loss: 1.099\n",
      "[30,     5] loss: 1.098\n",
      "[31,     5] loss: 1.098\n",
      "[32,     5] loss: 1.098\n",
      "[33,     5] loss: 1.098\n",
      "[34,     5] loss: 1.098\n",
      "[35,     5] loss: 1.098\n",
      "[36,     5] loss: 1.098\n",
      "[37,     5] loss: 1.098\n",
      "[38,     5] loss: 1.097\n",
      "[39,     5] loss: 1.099\n",
      "[40,     5] loss: 1.098\n",
      "[41,     5] loss: 1.098\n",
      "[42,     5] loss: 1.097\n",
      "[43,     5] loss: 1.098\n",
      "[44,     5] loss: 1.098\n",
      "[45,     5] loss: 1.098\n",
      "[46,     5] loss: 1.097\n",
      "[47,     5] loss: 1.097\n",
      "[48,     5] loss: 1.097\n",
      "[49,     5] loss: 1.098\n",
      "[50,     5] loss: 1.097\n",
      "[51,     5] loss: 1.097\n",
      "[52,     5] loss: 1.097\n",
      "[53,     5] loss: 1.097\n",
      "[54,     5] loss: 1.097\n",
      "[55,     5] loss: 1.096\n",
      "[56,     5] loss: 1.097\n",
      "[57,     5] loss: 1.096\n",
      "[58,     5] loss: 1.096\n",
      "[59,     5] loss: 1.097\n",
      "[60,     5] loss: 1.097\n",
      "[61,     5] loss: 1.096\n",
      "[62,     5] loss: 1.097\n",
      "[63,     5] loss: 1.096\n",
      "[64,     5] loss: 1.096\n",
      "[65,     5] loss: 1.096\n",
      "[66,     5] loss: 1.096\n",
      "[67,     5] loss: 1.096\n",
      "[68,     5] loss: 1.096\n",
      "[69,     5] loss: 1.096\n",
      "[70,     5] loss: 1.096\n",
      "[71,     5] loss: 1.096\n",
      "[72,     5] loss: 1.095\n",
      "[73,     5] loss: 1.095\n",
      "[74,     5] loss: 1.096\n",
      "[75,     5] loss: 1.096\n",
      "[76,     5] loss: 1.096\n",
      "[77,     5] loss: 1.095\n",
      "[78,     5] loss: 1.095\n",
      "[79,     5] loss: 1.095\n",
      "[80,     5] loss: 1.095\n",
      "[81,     5] loss: 1.097\n",
      "[82,     5] loss: 1.095\n",
      "[83,     5] loss: 1.096\n",
      "[84,     5] loss: 1.095\n",
      "[85,     5] loss: 1.094\n",
      "[86,     5] loss: 1.095\n",
      "[87,     5] loss: 1.095\n",
      "[88,     5] loss: 1.095\n",
      "[89,     5] loss: 1.094\n",
      "[90,     5] loss: 1.094\n",
      "[91,     5] loss: 1.095\n",
      "[92,     5] loss: 1.094\n",
      "[93,     5] loss: 1.094\n",
      "[94,     5] loss: 1.094\n",
      "[95,     5] loss: 1.094\n",
      "[96,     5] loss: 1.094\n",
      "[97,     5] loss: 1.094\n",
      "[98,     5] loss: 1.094\n",
      "[99,     5] loss: 1.094\n",
      "[100,     5] loss: 1.093\n",
      "[101,     5] loss: 1.095\n",
      "[102,     5] loss: 1.094\n",
      "[103,     5] loss: 1.093\n",
      "[104,     5] loss: 1.093\n",
      "[105,     5] loss: 1.094\n",
      "[106,     5] loss: 1.093\n",
      "[107,     5] loss: 1.092\n",
      "[108,     5] loss: 1.093\n",
      "[109,     5] loss: 1.093\n",
      "[110,     5] loss: 1.092\n",
      "[111,     5] loss: 1.093\n",
      "[112,     5] loss: 1.092\n",
      "[113,     5] loss: 1.092\n",
      "[114,     5] loss: 1.093\n",
      "[115,     5] loss: 1.092\n",
      "[116,     5] loss: 1.092\n",
      "[117,     5] loss: 1.092\n",
      "[118,     5] loss: 1.092\n",
      "[119,     5] loss: 1.092\n",
      "[120,     5] loss: 1.091\n",
      "[121,     5] loss: 1.091\n"
     ]
    },
    {
     "name": "stderr",
     "output_type": "stream",
     "text": [
      "/var/folders/gl/27byknls1z5_v94kltf90q2h0000gn/T/ipykernel_13572/3538267679.py:45: RuntimeWarning: More than 20 figures have been opened. Figures created through the pyplot interface (`matplotlib.pyplot.figure`) are retained until explicitly closed and may consume too much memory. (To control this warning, see the rcParam `figure.max_open_warning`).\n",
      "  plt.figure(figsize=(6,8))\n"
     ]
    },
    {
     "name": "stdout",
     "output_type": "stream",
     "text": [
      "[122,     5] loss: 1.091\n",
      "[123,     5] loss: 1.091\n",
      "[124,     5] loss: 1.091\n",
      "[125,     5] loss: 1.090\n",
      "[126,     5] loss: 1.092\n",
      "[127,     5] loss: 1.091\n",
      "[128,     5] loss: 1.090\n",
      "[129,     5] loss: 1.090\n",
      "[130,     5] loss: 1.090\n",
      "[131,     5] loss: 1.089\n",
      "[132,     5] loss: 1.089\n",
      "[133,     5] loss: 1.090\n",
      "[134,     5] loss: 1.089\n",
      "[135,     5] loss: 1.088\n",
      "[136,     5] loss: 1.088\n",
      "[137,     5] loss: 1.089\n",
      "[138,     5] loss: 1.089\n",
      "[139,     5] loss: 1.087\n",
      "[140,     5] loss: 1.091\n",
      "[141,     5] loss: 1.088\n",
      "[142,     5] loss: 1.088\n",
      "[143,     5] loss: 1.088\n",
      "[144,     5] loss: 1.086\n",
      "[145,     5] loss: 1.085\n",
      "[146,     5] loss: 1.084\n",
      "[147,     5] loss: 1.084\n",
      "[148,     5] loss: 1.082\n",
      "[149,     5] loss: 1.082\n",
      "[150,     5] loss: 1.081\n",
      "[151,     5] loss: 1.080\n",
      "[152,     5] loss: 1.080\n",
      "[153,     5] loss: 1.079\n",
      "[154,     5] loss: 1.078\n",
      "[155,     5] loss: 1.076\n",
      "[156,     5] loss: 1.076\n",
      "[157,     5] loss: 1.073\n",
      "[158,     5] loss: 1.069\n",
      "[159,     5] loss: 1.067\n",
      "[160,     5] loss: 1.065\n",
      "[161,     5] loss: 1.060\n",
      "[162,     5] loss: 1.055\n",
      "[163,     5] loss: 1.049\n",
      "[164,     5] loss: 1.042\n",
      "[165,     5] loss: 1.027\n",
      "[166,     5] loss: 1.015\n",
      "[167,     5] loss: 0.987\n",
      "[168,     5] loss: 0.940\n",
      "[169,     5] loss: 0.871\n",
      "[170,     5] loss: 0.765\n",
      "[171,     5] loss: 0.628\n",
      "[172,     5] loss: 0.492\n",
      "[173,     5] loss: 0.384\n",
      "[174,     5] loss: 0.312\n",
      "[175,     5] loss: 0.254\n",
      "[176,     5] loss: 0.211\n",
      "[177,     5] loss: 0.178\n",
      "[178,     5] loss: 0.153\n",
      "[179,     5] loss: 0.134\n",
      "[180,     5] loss: 0.119\n",
      "[181,     5] loss: 0.107\n",
      "[182,     5] loss: 0.098\n",
      "[183,     5] loss: 0.090\n",
      "[184,     5] loss: 0.084\n",
      "[185,     5] loss: 0.078\n",
      "[186,     5] loss: 0.073\n",
      "[187,     5] loss: 0.069\n",
      "[188,     5] loss: 0.065\n",
      "[189,     5] loss: 0.062\n",
      "[190,     5] loss: 0.059\n",
      "[191,     5] loss: 0.056\n",
      "[192,     5] loss: 0.054\n",
      "[193,     5] loss: 0.052\n",
      "[194,     5] loss: 0.050\n",
      "[195,     5] loss: 0.048\n",
      "[196,     5] loss: 0.046\n",
      "[197,     5] loss: 0.044\n",
      "[198,     5] loss: 0.043\n",
      "[199,     5] loss: 0.041\n",
      "[200,     5] loss: 0.040\n",
      "[201,     5] loss: 0.039\n",
      "[202,     5] loss: 0.038\n",
      "[203,     5] loss: 0.037\n",
      "[204,     5] loss: 0.036\n",
      "[205,     5] loss: 0.035\n",
      "[206,     5] loss: 0.034\n",
      "[207,     5] loss: 0.033\n",
      "[208,     5] loss: 0.032\n",
      "[209,     5] loss: 0.031\n",
      "[210,     5] loss: 0.031\n",
      "[211,     5] loss: 0.030\n",
      "[212,     5] loss: 0.029\n",
      "[213,     5] loss: 0.029\n",
      "[214,     5] loss: 0.028\n",
      "[215,     5] loss: 0.027\n",
      "[216,     5] loss: 0.027\n",
      "[217,     5] loss: 0.026\n",
      "[218,     5] loss: 0.026\n",
      "[219,     5] loss: 0.025\n",
      "[220,     5] loss: 0.025\n",
      "[221,     5] loss: 0.024\n",
      "[222,     5] loss: 0.024\n",
      "[223,     5] loss: 0.023\n",
      "[224,     5] loss: 0.023\n",
      "[225,     5] loss: 0.023\n",
      "[226,     5] loss: 0.022\n",
      "[227,     5] loss: 0.022\n",
      "[228,     5] loss: 0.022\n",
      "[229,     5] loss: 0.021\n",
      "[230,     5] loss: 0.021\n",
      "[231,     5] loss: 0.021\n",
      "[232,     5] loss: 0.020\n",
      "[233,     5] loss: 0.020\n",
      "[234,     5] loss: 0.020\n",
      "[235,     5] loss: 0.019\n",
      "[236,     5] loss: 0.019\n",
      "[237,     5] loss: 0.019\n",
      "[238,     5] loss: 0.019\n",
      "[239,     5] loss: 0.018\n",
      "[240,     5] loss: 0.018\n",
      "[241,     5] loss: 0.018\n",
      "[242,     5] loss: 0.018\n",
      "[243,     5] loss: 0.017\n",
      "[244,     5] loss: 0.017\n",
      "[245,     5] loss: 0.017\n",
      "[246,     5] loss: 0.017\n",
      "[247,     5] loss: 0.016\n",
      "[248,     5] loss: 0.016\n",
      "[249,     5] loss: 0.016\n",
      "[250,     5] loss: 0.016\n",
      "[251,     5] loss: 0.016\n",
      "[252,     5] loss: 0.016\n",
      "[253,     5] loss: 0.015\n",
      "[254,     5] loss: 0.015\n",
      "[255,     5] loss: 0.015\n",
      "[256,     5] loss: 0.015\n",
      "[257,     5] loss: 0.015\n",
      "[258,     5] loss: 0.015\n",
      "[259,     5] loss: 0.014\n",
      "[260,     5] loss: 0.014\n",
      "[261,     5] loss: 0.014\n",
      "[262,     5] loss: 0.014\n",
      "[263,     5] loss: 0.014\n",
      "[264,     5] loss: 0.014\n",
      "[265,     5] loss: 0.014\n",
      "[266,     5] loss: 0.013\n",
      "[267,     5] loss: 0.013\n",
      "[268,     5] loss: 0.013\n",
      "[269,     5] loss: 0.013\n",
      "[270,     5] loss: 0.013\n",
      "[271,     5] loss: 0.013\n",
      "[272,     5] loss: 0.013\n",
      "[273,     5] loss: 0.013\n",
      "[274,     5] loss: 0.012\n",
      "[275,     5] loss: 0.012\n",
      "[276,     5] loss: 0.012\n",
      "[277,     5] loss: 0.012\n",
      "[278,     5] loss: 0.012\n",
      "[279,     5] loss: 0.012\n",
      "[280,     5] loss: 0.012\n",
      "[281,     5] loss: 0.012\n",
      "[282,     5] loss: 0.012\n",
      "[283,     5] loss: 0.011\n",
      "[284,     5] loss: 0.011\n",
      "[285,     5] loss: 0.011\n",
      "[286,     5] loss: 0.011\n",
      "[287,     5] loss: 0.011\n",
      "[288,     5] loss: 0.011\n",
      "[289,     5] loss: 0.011\n",
      "[290,     5] loss: 0.011\n",
      "[291,     5] loss: 0.011\n",
      "[292,     5] loss: 0.011\n",
      "[293,     5] loss: 0.011\n",
      "[294,     5] loss: 0.010\n",
      "[295,     5] loss: 0.010\n",
      "[296,     5] loss: 0.010\n",
      "[297,     5] loss: 0.010\n",
      "[298,     5] loss: 0.010\n",
      "[299,     5] loss: 0.010\n",
      "[300,     5] loss: 0.010\n",
      "[301,     5] loss: 0.010\n",
      "[302,     5] loss: 0.010\n",
      "[303,     5] loss: 0.010\n",
      "[304,     5] loss: 0.010\n",
      "[305,     5] loss: 0.010\n",
      "[306,     5] loss: 0.010\n",
      "[307,     5] loss: 0.010\n",
      "[308,     5] loss: 0.009\n",
      "[309,     5] loss: 0.009\n",
      "[310,     5] loss: 0.009\n",
      "[311,     5] loss: 0.009\n",
      "[312,     5] loss: 0.009\n",
      "[313,     5] loss: 0.009\n",
      "[314,     5] loss: 0.009\n",
      "[315,     5] loss: 0.009\n",
      "[316,     5] loss: 0.009\n",
      "[317,     5] loss: 0.009\n",
      "[318,     5] loss: 0.009\n",
      "[319,     5] loss: 0.009\n",
      "[320,     5] loss: 0.009\n",
      "[321,     5] loss: 0.009\n",
      "[322,     5] loss: 0.009\n",
      "[323,     5] loss: 0.009\n",
      "[324,     5] loss: 0.009\n",
      "[325,     5] loss: 0.008\n",
      "[326,     5] loss: 0.008\n",
      "[327,     5] loss: 0.008\n",
      "[328,     5] loss: 0.008\n",
      "[329,     5] loss: 0.008\n",
      "[330,     5] loss: 0.008\n",
      "[331,     5] loss: 0.008\n",
      "[332,     5] loss: 0.008\n",
      "[333,     5] loss: 0.008\n",
      "[334,     5] loss: 0.008\n",
      "[335,     5] loss: 0.008\n",
      "[336,     5] loss: 0.008\n",
      "[337,     5] loss: 0.008\n",
      "[338,     5] loss: 0.008\n",
      "[339,     5] loss: 0.008\n",
      "[340,     5] loss: 0.008\n",
      "[341,     5] loss: 0.008\n",
      "[342,     5] loss: 0.008\n",
      "[343,     5] loss: 0.008\n",
      "[344,     5] loss: 0.008\n",
      "[345,     5] loss: 0.008\n",
      "[346,     5] loss: 0.008\n",
      "[347,     5] loss: 0.007\n",
      "[348,     5] loss: 0.007\n",
      "[349,     5] loss: 0.007\n",
      "[350,     5] loss: 0.007\n",
      "[351,     5] loss: 0.007\n",
      "[352,     5] loss: 0.007\n",
      "[353,     5] loss: 0.007\n",
      "[354,     5] loss: 0.007\n",
      "[355,     5] loss: 0.007\n",
      "[356,     5] loss: 0.007\n",
      "[357,     5] loss: 0.007\n",
      "[358,     5] loss: 0.007\n",
      "[359,     5] loss: 0.007\n",
      "[360,     5] loss: 0.007\n",
      "[361,     5] loss: 0.007\n",
      "[362,     5] loss: 0.007\n",
      "[363,     5] loss: 0.007\n",
      "[364,     5] loss: 0.007\n",
      "[365,     5] loss: 0.007\n",
      "[366,     5] loss: 0.007\n",
      "[367,     5] loss: 0.007\n",
      "[368,     5] loss: 0.007\n",
      "[369,     5] loss: 0.007\n",
      "[370,     5] loss: 0.007\n",
      "[371,     5] loss: 0.007\n",
      "[372,     5] loss: 0.007\n",
      "[373,     5] loss: 0.007\n",
      "[374,     5] loss: 0.007\n",
      "[375,     5] loss: 0.006\n",
      "[376,     5] loss: 0.006\n",
      "[377,     5] loss: 0.006\n",
      "[378,     5] loss: 0.006\n",
      "[379,     5] loss: 0.006\n",
      "[380,     5] loss: 0.006\n",
      "[381,     5] loss: 0.006\n",
      "[382,     5] loss: 0.006\n",
      "[383,     5] loss: 0.006\n",
      "[384,     5] loss: 0.006\n",
      "[385,     5] loss: 0.006\n",
      "[386,     5] loss: 0.006\n",
      "[387,     5] loss: 0.006\n",
      "[388,     5] loss: 0.006\n",
      "[389,     5] loss: 0.006\n",
      "[390,     5] loss: 0.006\n",
      "[391,     5] loss: 0.006\n",
      "[392,     5] loss: 0.006\n",
      "[393,     5] loss: 0.006\n",
      "[394,     5] loss: 0.006\n",
      "[395,     5] loss: 0.006\n",
      "[396,     5] loss: 0.006\n",
      "[397,     5] loss: 0.006\n",
      "[398,     5] loss: 0.006\n",
      "[399,     5] loss: 0.006\n",
      "[400,     5] loss: 0.006\n"
     ]
    }
   ],
   "source": [
    "nos_epochs = 1000\n",
    "focus_true_pred_true =0\n",
    "focus_false_pred_true =0\n",
    "focus_true_pred_false =0\n",
    "focus_false_pred_false =0\n",
    "\n",
    "argmax_more_than_half = 0\n",
    "argmax_less_than_half =0\n",
    "\n",
    "\n",
    "for epoch in range(nos_epochs):  # loop over the dataset multiple times\n",
    "\n",
    "  focus_true_pred_true =0\n",
    "  focus_false_pred_true =0\n",
    "  focus_true_pred_false =0\n",
    "  focus_false_pred_false =0\n",
    "  \n",
    "  argmax_more_than_half = 0\n",
    "  argmax_less_than_half =0\n",
    "  \n",
    "  running_loss = 0.0\n",
    "  epoch_loss = []\n",
    "  cnt=0\n",
    "\n",
    "  iteration = desired_num // batch\n",
    "  \n",
    "  #training data set\n",
    "  \n",
    "  for i, data in  enumerate(train_loader):\n",
    "    inputs , labels , fore_idx = data\n",
    "    batch = inputs.size(0)\n",
    "    #inputs, labels = inputs.to(\"cuda\"), labels.to(\"cuda\")\n",
    "    inputs = inputs.double()\n",
    "    # zero the parameter gradients\n",
    "    \n",
    "    optimizer_focus.zero_grad()\n",
    "    optimizer_classify.zero_grad()\n",
    "    \n",
    "    alphas, avg_images = focus_net(inputs)\n",
    "    outputs = classify(avg_images)\n",
    "\n",
    "    _, predicted = torch.max(outputs.data, 1)\n",
    "#     print(outputs)\n",
    "#     print(outputs.shape,labels.shape , torch.argmax(outputs, dim=1))\n",
    "\n",
    "    loss = criterion(outputs, labels) \n",
    "    loss.backward()\n",
    "    optimizer_focus.step()\n",
    "    optimizer_classify.step()\n",
    "\n",
    "    running_loss += loss.item()\n",
    "    mini = 5\n",
    "    if cnt % mini == mini-1:    # print every 40 mini-batches\n",
    "      print('[%d, %5d] loss: %.3f' %(epoch + 1, cnt + 1, running_loss / mini))\n",
    "      epoch_loss.append(running_loss/mini)\n",
    "      running_loss = 0.0\n",
    "    cnt=cnt+1\n",
    "    \n",
    "    if epoch % 1 == 0:\n",
    "      for j in range (batch):\n",
    "        focus = torch.argmax(alphas[j])\n",
    "\n",
    "        if(alphas[j][focus] >= 0.5):\n",
    "          argmax_more_than_half +=1\n",
    "        else:\n",
    "          argmax_less_than_half +=1\n",
    "\n",
    "        if(focus == fore_idx[j] and predicted[j] == labels[j]):\n",
    "          focus_true_pred_true += 1\n",
    "\n",
    "        elif(focus != fore_idx[j] and predicted[j] == labels[j]):\n",
    "          focus_false_pred_true +=1\n",
    "\n",
    "        elif(focus == fore_idx[j] and predicted[j] != labels[j]):\n",
    "          focus_true_pred_false +=1\n",
    "\n",
    "        elif(focus != fore_idx[j] and predicted[j] != labels[j]):\n",
    "          focus_false_pred_false +=1\n",
    "\n",
    "  if(np.mean(epoch_loss) <= 0.001):\n",
    "      break;\n",
    "    \n",
    "  if epoch % 20 ==0:\n",
    "    plot_attended_data(train_loader,focus_net,classify,x,y,epoch+1)\n",
    "\n",
    "  if epoch % 1 == 0:\n",
    "    col1.append(epoch + 1)\n",
    "    col2.append(argmax_more_than_half)\n",
    "    col3.append(argmax_less_than_half)\n",
    "    col4.append(focus_true_pred_true)\n",
    "    col5.append(focus_false_pred_true)\n",
    "    col6.append(focus_true_pred_false)\n",
    "    col7.append(focus_false_pred_false)\n",
    "    # print(\"=\"*20)\n",
    "    # print(\"Train FTPT : \", col4)\n",
    "    # print(\"Train FFPT : \", col5)\n",
    "    #************************************************************************\n",
    "    #testing data set  \n",
    "    # focus_net.eval()\n",
    "    with torch.no_grad():\n",
    "      focus_true_pred_true =0\n",
    "      focus_false_pred_true =0\n",
    "      focus_true_pred_false =0\n",
    "      focus_false_pred_false =0\n",
    "\n",
    "      argmax_more_than_half = 0\n",
    "      argmax_less_than_half =0\n",
    "      for data in test_loader:\n",
    "        inputs, labels , fore_idx = data\n",
    "        batch = inputs.size(0)\n",
    "        inputs = inputs.double()\n",
    "        #inputs, labels = inputs.to(\"cuda\"), labels.to(\"cuda\")\n",
    "        alphas, avg_images = focus_net(inputs)\n",
    "        outputs = classify(avg_images)\n",
    "        _, predicted = torch.max(outputs.data, 1)\n",
    "\n",
    "        for j in range (batch):\n",
    "          focus = torch.argmax(alphas[j])\n",
    "\n",
    "          if(alphas[j][focus] >= 0.5):\n",
    "            argmax_more_than_half +=1\n",
    "          else:\n",
    "            argmax_less_than_half +=1\n",
    "\n",
    "          if(focus == fore_idx[j] and predicted[j] == labels[j]):\n",
    "            focus_true_pred_true += 1\n",
    "\n",
    "          elif(focus != fore_idx[j] and predicted[j] == labels[j]):\n",
    "            focus_false_pred_true +=1\n",
    "\n",
    "          elif(focus == fore_idx[j] and predicted[j] != labels[j]):\n",
    "            focus_true_pred_false +=1\n",
    "\n",
    "          elif(focus != fore_idx[j] and predicted[j] != labels[j]):\n",
    "            focus_false_pred_false +=1\n",
    "      \n",
    "    col8.append(argmax_more_than_half)\n",
    "    col9.append(argmax_less_than_half)\n",
    "    col10.append(focus_true_pred_true)\n",
    "    col11.append(focus_false_pred_true)\n",
    "    col12.append(focus_true_pred_false)\n",
    "    col13.append(focus_false_pred_false)\n",
    "    # print(\"Test FTPT : \", col10)\n",
    "    # print(\"Test FFPT : \", col11)\n",
    "    # print(\"=\"*20)\n",
    "    \n",
    "print('Finished Training')"
   ]
  },
  {
   "cell_type": "code",
   "execution_count": null,
   "metadata": {
    "id": "R7K9UW3-PVYM"
   },
   "outputs": [],
   "source": [
    "# torch.save(focus_net.state_dict(),path+\"_focus.pt\")\n",
    "# torch.save(classify.state_dict(),path+\"_classify.pt\")"
   ]
  },
  {
   "cell_type": "code",
   "execution_count": null,
   "metadata": {
    "id": "5gQoPST5zW2t"
   },
   "outputs": [],
   "source": [
    "df_train = pd.DataFrame()\n",
    "df_test = pd.DataFrame()"
   ]
  },
  {
   "cell_type": "code",
   "execution_count": null,
   "metadata": {
    "id": "In76SYH_zZHV"
   },
   "outputs": [],
   "source": [
    "columns = [\"epochs\", \"argmax > 0.5\" ,\"argmax < 0.5\", \"focus_true_pred_true\", \"focus_false_pred_true\", \"focus_true_pred_false\", \"focus_false_pred_false\" ]"
   ]
  },
  {
   "cell_type": "code",
   "execution_count": null,
   "metadata": {
    "id": "BS4HtOHEzZ0E"
   },
   "outputs": [],
   "source": [
    "df_train[columns[0]] = col1\n",
    "df_train[columns[1]] = col2\n",
    "df_train[columns[2]] = col3\n",
    "df_train[columns[3]] = col4\n",
    "df_train[columns[4]] = col5\n",
    "df_train[columns[5]] = col6\n",
    "df_train[columns[6]] = col7\n",
    "\n",
    "df_test[columns[0]] = col1\n",
    "df_test[columns[1]] = col8\n",
    "df_test[columns[2]] = col9\n",
    "df_test[columns[3]] = col10\n",
    "df_test[columns[4]] = col11\n",
    "df_test[columns[5]] = col12\n",
    "df_test[columns[6]] = col13"
   ]
  },
  {
   "cell_type": "code",
   "execution_count": null,
   "metadata": {
    "colab": {
     "base_uri": "https://localhost:8080/",
     "height": 423
    },
    "id": "1UbTkfLUINTI",
    "outputId": "9d15b136-0549-4a83-9861-f51eba32fea0"
   },
   "outputs": [],
   "source": [
    "df_train"
   ]
  },
  {
   "cell_type": "code",
   "execution_count": null,
   "metadata": {
    "colab": {
     "base_uri": "https://localhost:8080/",
     "height": 354
    },
    "id": "YU0LC2_JSzhT",
    "outputId": "59fbe5ad-d94e-45df-cd08-b956880a23d7"
   },
   "outputs": [],
   "source": [
    "num  = 5\n",
    "plt.figure(figsize=(6,5))\n",
    "plt.plot(col1,np.array(col4)/num, label =\"FTPT\")\n",
    "plt.plot(col1,np.array(col5)/num, label =\"FFPT\")\n",
    "plt.plot(col1,np.array(col6)/num, label =\"FTPF\")\n",
    "plt.plot(col1,np.array(col7)/num, label =\"FFPF\")\n",
    "plt.title(\"Dataset1 - SDC On Train set\")\n",
    "plt.grid()\n",
    "# plt.legend(loc='center left', bbox_to_anchor=(1, 0.5))\n",
    "plt.legend()\n",
    "plt.xlabel(\"epochs\", fontsize=14, fontweight = 'bold')\n",
    "plt.ylabel(\"percentage train data\", fontsize=14, fontweight = 'bold')\n",
    "# plt.savefig(path+\"_train.png\", bbox_inches=\"tight\")\n",
    "# plt.savefig(path+\"_train.pdf\", bbox_inches=\"tight\")\n",
    "# plt.savefig(path+\"_train.png\", bbox_inches=\"tight\")\n",
    "# plt.savefig(path+\"_train.pdf\", bbox_inches=\"tight\")\n",
    "plt.show()"
   ]
  },
  {
   "cell_type": "code",
   "execution_count": null,
   "metadata": {
    "colab": {
     "base_uri": "https://localhost:8080/",
     "height": 423
    },
    "id": "hrb68lvueMA-",
    "outputId": "3402f6b3-1797-4bdd-f50b-7ab6894fdaca"
   },
   "outputs": [],
   "source": [
    "df_test"
   ]
  },
  {
   "cell_type": "code",
   "execution_count": null,
   "metadata": {
    "colab": {
     "base_uri": "https://localhost:8080/",
     "height": 354
    },
    "id": "CPFqF3MdUC6D",
    "outputId": "a2f8d6cf-b193-4caa-dd11-e258678e830b"
   },
   "outputs": [],
   "source": [
    "num = 10\n",
    "plt.figure(figsize=(6,5))\n",
    "plt.plot(col1,np.array(col10)/num, label =\"FTPT\")\n",
    "plt.plot(col1,np.array(col11)/num, label =\"FFPT\")\n",
    "plt.plot(col1,np.array(col12)/num, label =\"FTPF\")\n",
    "plt.plot(col1,np.array(col13)/num, label =\"FFPF\")\n",
    "plt.title(\"Dataset1 - SDC On Test set\")\n",
    "plt.grid()\n",
    "# plt.legend(loc='center left', bbox_to_anchor=(1, 0.5))\n",
    "plt.legend()\n",
    "plt.xlabel(\"epochs\", fontsize=14, fontweight = 'bold')\n",
    "plt.ylabel(\"percentage test data\", fontsize=14, fontweight = 'bold')\n",
    "# plt.savefig(path+\"_test.png\", bbox_inches=\"tight\")\n",
    "# plt.savefig(path+\"_test.pdf\", bbox_inches=\"tight\")\n",
    "# plt.savefig(path+\"_test.png\", bbox_inches=\"tight\")\n",
    "# plt.savefig(path+\"_test.pdf\", bbox_inches=\"tight\")\n",
    "plt.show()"
   ]
  },
  {
   "cell_type": "code",
   "execution_count": null,
   "metadata": {
    "colab": {
     "base_uri": "https://localhost:8080/"
    },
    "id": "TGrzYDWxeO6m",
    "outputId": "f11f7f0c-99da-4705-a1f3-13b9f8ad4f9a"
   },
   "outputs": [],
   "source": [
    "correct = 0\n",
    "total = 0\n",
    "count = 0\n",
    "flag = 1\n",
    "focus_true_pred_true =0\n",
    "focus_false_pred_true =0\n",
    "focus_true_pred_false =0\n",
    "focus_false_pred_false =0\n",
    "\n",
    "argmax_more_than_half = 0\n",
    "argmax_less_than_half =0\n",
    "\n",
    "with torch.no_grad():\n",
    "  for data in train_loader:\n",
    "    inputs, labels , fore_idx = data\n",
    "    inputs = inputs.double()\n",
    "    #inputs, labels , fore_idx = inputs.to(\"cuda\"),labels.to(\"cuda\"), fore_idx.to(\"cuda\")\n",
    "    alphas, avg_images = focus_net(inputs)\n",
    "    outputs = classify(avg_images)\n",
    "\n",
    "    _, predicted = torch.max(outputs.data, 1)\n",
    "\n",
    "    for j in range(labels.size(0)):\n",
    "      focus = torch.argmax(alphas[j])\n",
    "      if alphas[j][focus] >= 0.5 :\n",
    "        argmax_more_than_half += 1\n",
    "      else:\n",
    "        argmax_less_than_half += 1\n",
    "\n",
    "      if(focus == fore_idx[j] and predicted[j] == labels[j]):\n",
    "          focus_true_pred_true += 1\n",
    "      elif(focus != fore_idx[j] and predicted[j] == labels[j]):\n",
    "        focus_false_pred_true += 1\n",
    "      elif(focus == fore_idx[j] and predicted[j] != labels[j]):\n",
    "        focus_true_pred_false += 1\n",
    "      elif(focus != fore_idx[j] and predicted[j] != labels[j]):\n",
    "        focus_false_pred_false += 1\n",
    "\n",
    "    total += labels.size(0)\n",
    "    correct += (predicted == labels).sum().item()\n",
    "\n",
    "print('Accuracy of the network on the train images: %f %%' % (\n",
    "    100 * correct / total))\n",
    "print(\"total correct\", correct)\n",
    "print(\"total train set images\", total)\n",
    "\n",
    "print(\"focus_true_pred_true %d =============> FTPT : %f %%\" % (focus_true_pred_true , (100 * focus_true_pred_true / total) ) )\n",
    "print(\"focus_false_pred_true %d =============> FFPT : %f %%\" % (focus_false_pred_true, (100 * focus_false_pred_true / total) ) )\n",
    "print(\"focus_true_pred_false %d =============> FTPF : %f %%\" %( focus_true_pred_false , ( 100 * focus_true_pred_false / total) ) )\n",
    "print(\"focus_false_pred_false %d =============> FFPF : %f %%\" % (focus_false_pred_false, ( 100 * focus_false_pred_false / total) ) )\n",
    "\n",
    "print(\"argmax_more_than_half ==================> \",argmax_more_than_half)\n",
    "print(\"argmax_less_than_half ==================> \",argmax_less_than_half)"
   ]
  },
  {
   "cell_type": "code",
   "execution_count": null,
   "metadata": {
    "colab": {
     "base_uri": "https://localhost:8080/"
    },
    "id": "67_H9pkCeQNs",
    "outputId": "9808a3d2-85ea-4721-f640-a9cd810c8ec7"
   },
   "outputs": [],
   "source": [
    "correct = 0\n",
    "total = 0\n",
    "count = 0\n",
    "flag = 1\n",
    "focus_true_pred_true =0\n",
    "focus_false_pred_true =0\n",
    "focus_true_pred_false =0\n",
    "focus_false_pred_false =0\n",
    "\n",
    "argmax_more_than_half = 0\n",
    "argmax_less_than_half =0\n",
    "\n",
    "with torch.no_grad():\n",
    "  for data in test_loader:\n",
    "    inputs, labels , fore_idx = data\n",
    "    inputs = inputs.double()\n",
    "    #inputs, labels , fore_idx = inputs.to(\"cuda\"),labels.to(\"cuda\"), fore_idx.to(\"cuda\")\n",
    "    alphas, avg_images = focus_net(inputs)\n",
    "    outputs = classify(avg_images)\n",
    "\n",
    "    _, predicted = torch.max(outputs.data, 1)\n",
    "\n",
    "    for j in range(labels.size(0)):\n",
    "      focus = torch.argmax(alphas[j])\n",
    "      if alphas[j][focus] >= 0.5 :\n",
    "        argmax_more_than_half += 1\n",
    "      else:\n",
    "        argmax_less_than_half += 1\n",
    "\n",
    "      if(focus == fore_idx[j] and predicted[j] == labels[j]):\n",
    "          focus_true_pred_true += 1\n",
    "      elif(focus != fore_idx[j] and predicted[j] == labels[j]):\n",
    "        focus_false_pred_true += 1\n",
    "      elif(focus == fore_idx[j] and predicted[j] != labels[j]):\n",
    "        focus_true_pred_false += 1\n",
    "      elif(focus != fore_idx[j] and predicted[j] != labels[j]):\n",
    "        focus_false_pred_false += 1\n",
    "\n",
    "    total += labels.size(0)\n",
    "    correct += (predicted == labels).sum().item()\n",
    "\n",
    "print('Accuracy of the network on the test images: %f %%' % (\n",
    "    100 * correct / total))\n",
    "print(\"total correct\", correct)\n",
    "print(\"total train set images\", total)\n",
    "\n",
    "print(\"focus_true_pred_true %d =============> FTPT : %f %%\" % (focus_true_pred_true , (100 * focus_true_pred_true / total) ) )\n",
    "print(\"focus_false_pred_true %d =============> FFPT : %f %%\" % (focus_false_pred_true, (100 * focus_false_pred_true / total) ) )\n",
    "print(\"focus_true_pred_false %d =============> FTPF : %f %%\" %( focus_true_pred_false , ( 100 * focus_true_pred_false / total) ) )\n",
    "print(\"focus_false_pred_false %d =============> FFPF : %f %%\" % (focus_false_pred_false, ( 100 * focus_false_pred_false / total) ) )\n",
    "\n",
    "print(\"argmax_more_than_half ==================> \",argmax_more_than_half)\n",
    "print(\"argmax_less_than_half ==================> \",argmax_less_than_half)"
   ]
  },
  {
   "cell_type": "code",
   "execution_count": null,
   "metadata": {
    "colab": {
     "base_uri": "https://localhost:8080/"
    },
    "id": "jhvhkEAyeRpt",
    "outputId": "6b92455e-5c4a-45d4-e885-b8daab765e33"
   },
   "outputs": [],
   "source": [
    "correct = 0\n",
    "total = 0\n",
    "\n",
    "with torch.no_grad():\n",
    "  for data in train_loader:\n",
    "    inputs, labels , fore_idx = data\n",
    "    inputs = inputs.double()\n",
    "    #inputs, labels = inputs.to(\"cuda\"), labels.to(\"cuda\")\n",
    "    alphas, avg_images = focus_net(inputs)\n",
    "    outputs = classify(avg_images)\n",
    "\n",
    "    _, predicted = torch.max(outputs.data, 1)\n",
    "\n",
    "    total += labels.size(0)\n",
    "    correct += (predicted == labels).sum().item()\n",
    "\n",
    "print('Accuracy of the network on the train images: %f %%' % ( 100 * correct / total))\n",
    "print(\"total correct\", correct)\n",
    "print(\"total train set images\", total)"
   ]
  },
  {
   "cell_type": "code",
   "execution_count": null,
   "metadata": {
    "colab": {
     "base_uri": "https://localhost:8080/"
    },
    "id": "OKcmpKwGeS8M",
    "outputId": "336929d7-8d7d-4044-ec84-a30846393aeb"
   },
   "outputs": [],
   "source": [
    "correct = 0\n",
    "total = 0\n",
    "\n",
    "with torch.no_grad():\n",
    "  for data in test_loader:\n",
    "    inputs, labels , fore_idx = data\n",
    "    inputs = inputs.double()\n",
    "    #inputs, labels = inputs.to(\"cuda\"), labels.to(\"cuda\")\n",
    "    alphas, avg_images = focus_net(inputs)\n",
    "    outputs = classify(avg_images)\n",
    "\n",
    "    _, predicted = torch.max(outputs.data, 1)\n",
    "\n",
    "    total += labels.size(0)\n",
    "    correct += (predicted == labels).sum().item()\n",
    "\n",
    "print('Accuracy of the network on the test images: %f %%' % ( 100 * correct / total))\n",
    "print(\"total correct\", correct)\n",
    "print(\"total train set images\", total)"
   ]
  },
  {
   "cell_type": "code",
   "execution_count": null,
   "metadata": {
    "id": "xlalQug_egcl"
   },
   "outputs": [],
   "source": []
  },
  {
   "cell_type": "code",
   "execution_count": null,
   "metadata": {},
   "outputs": [],
   "source": [
    "plot_attended_data(train_loader,focus_net,classify,x,y,epoch+1)"
   ]
  },
  {
   "cell_type": "code",
   "execution_count": null,
   "metadata": {},
   "outputs": [],
   "source": []
  }
 ],
 "metadata": {
  "accelerator": "GPU",
  "colab": {
   "collapsed_sections": [],
   "name": "SDC_dataset_4_fl_cl_non_linear_run_3.ipynb",
   "provenance": []
  },
  "kernelspec": {
   "display_name": "Python 3 (ipykernel)",
   "language": "python",
   "name": "python3"
  },
  "language_info": {
   "codemirror_mode": {
    "name": "ipython",
    "version": 3
   },
   "file_extension": ".py",
   "mimetype": "text/x-python",
   "name": "python",
   "nbconvert_exporter": "python",
   "pygments_lexer": "ipython3",
   "version": "3.8.12"
  }
 },
 "nbformat": 4,
 "nbformat_minor": 1
}
