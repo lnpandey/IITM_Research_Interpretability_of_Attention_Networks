{
  "cells": [
    {
      "cell_type": "code",
      "execution_count": 1,
      "id": "78565916",
      "metadata": {
        "execution": {
          "iopub.execute_input": "2021-09-07T04:24:05.397293Z",
          "iopub.status.busy": "2021-09-07T04:24:05.395719Z",
          "iopub.status.idle": "2021-09-07T04:24:06.033760Z",
          "shell.execute_reply": "2021-09-07T04:24:06.034201Z",
          "shell.execute_reply.started": "2021-09-07T04:23:26.443613Z"
        },
        "id": "78565916",
        "outputId": "0bfd3bc9-ecf2-4ae4-de55-8773ab0a95bd",
        "papermill": {
          "duration": 0.682623,
          "end_time": "2021-09-07T04:24:06.034466",
          "exception": false,
          "start_time": "2021-09-07T04:24:05.351843",
          "status": "completed"
        },
        "tags": [],
        "colab": {
          "base_uri": "https://localhost:8080/"
        }
      },
      "outputs": [
        {
          "output_type": "stream",
          "name": "stdout",
          "text": [
            "/content\n"
          ]
        }
      ],
      "source": [
        "# from google.colab import drive\n",
        "# drive.mount('/content/drive')\n",
        "!pwd"
      ]
    },
    {
      "cell_type": "code",
      "execution_count": 2,
      "id": "011d8aa9",
      "metadata": {
        "execution": {
          "iopub.execute_input": "2021-09-07T04:24:06.117303Z",
          "iopub.status.busy": "2021-09-07T04:24:06.116750Z",
          "iopub.status.idle": "2021-09-07T04:24:06.120292Z",
          "shell.execute_reply": "2021-09-07T04:24:06.120693Z",
          "shell.execute_reply.started": "2021-09-07T03:25:04.950207Z"
        },
        "id": "011d8aa9",
        "papermill": {
          "duration": 0.046258,
          "end_time": "2021-09-07T04:24:06.120816",
          "exception": false,
          "start_time": "2021-09-07T04:24:06.074558",
          "status": "completed"
        },
        "tags": []
      },
      "outputs": [],
      "source": [
        "path = \"/kaggle/working/run_m_20\""
      ]
    },
    {
      "cell_type": "code",
      "execution_count": 3,
      "id": "a8a0823b",
      "metadata": {
        "execution": {
          "iopub.execute_input": "2021-09-07T04:24:06.205338Z",
          "iopub.status.busy": "2021-09-07T04:24:06.204766Z",
          "iopub.status.idle": "2021-09-07T04:24:07.458824Z",
          "shell.execute_reply": "2021-09-07T04:24:07.458356Z",
          "shell.execute_reply.started": "2021-09-07T03:25:04.998311Z"
        },
        "id": "a8a0823b",
        "papermill": {
          "duration": 1.298287,
          "end_time": "2021-09-07T04:24:07.458952",
          "exception": false,
          "start_time": "2021-09-07T04:24:06.160665",
          "status": "completed"
        },
        "tags": []
      },
      "outputs": [],
      "source": [
        "import torch.nn as nn\n",
        "import torch.nn.functional as F\n",
        "\n",
        "import pandas as pd\n",
        "import numpy as np\n",
        "import matplotlib.pyplot as plt\n",
        "\n",
        "import torch\n",
        "import torchvision\n",
        "import torchvision.transforms as transforms\n",
        "from torch.utils.data import Dataset, DataLoader\n",
        "from torchvision import transforms, utils\n",
        "\n",
        "from matplotlib import pyplot as plt\n",
        "\n",
        "import copy\n",
        "\n",
        "# Ignore warnings\n",
        "import warnings\n",
        "warnings.filterwarnings(\"ignore\")\n",
        "\n",
        "torch.backends.cudnn.deterministic = True\n",
        "torch.backends.cudnn.benchmark = False\n"
      ]
    },
    {
      "cell_type": "code",
      "execution_count": 4,
      "id": "75656523",
      "metadata": {
        "execution": {
          "iopub.execute_input": "2021-09-07T04:24:07.548425Z",
          "iopub.status.busy": "2021-09-07T04:24:07.545520Z",
          "iopub.status.idle": "2021-09-07T04:25:07.139970Z",
          "shell.execute_reply": "2021-09-07T04:25:07.139313Z",
          "shell.execute_reply.started": "2021-09-07T03:25:06.290202Z"
        },
        "id": "75656523",
        "outputId": "65d5cc53-d7eb-4949-9b82-1040fb8d92e8",
        "papermill": {
          "duration": 59.641496,
          "end_time": "2021-09-07T04:25:07.140143",
          "exception": false,
          "start_time": "2021-09-07T04:24:07.498647",
          "status": "completed"
        },
        "tags": [],
        "colab": {
          "referenced_widgets": [
            "8695e4487d5349e6bf417c3410ddee6f",
            "be8ba4ebe7b349969e83d16cdc2a10e8",
            "7694528b5d8546719a540054df67d753",
            "e7b7447789e74e5a87c23b1c71158739",
            "85e1e60c43664e22966c599936d1a3f1",
            "3b2c8152c6fd4ae2b0aef0d201d0a902",
            "21f4830cecd148099d39c9f2006b1232",
            "06cdda41573646e4a3a06ca63914363b",
            "e838e0b00ce346e9974fe2d8b1974d1c",
            "b3ff9884eb7d4b06b0d3b38c5851c667",
            "987e78c58ced45a9b30bd39540495c42"
          ],
          "base_uri": "https://localhost:8080/",
          "height": 104
        }
      },
      "outputs": [
        {
          "output_type": "stream",
          "name": "stdout",
          "text": [
            "Downloading https://www.cs.toronto.edu/~kriz/cifar-10-python.tar.gz to ./data/cifar-10-python.tar.gz\n"
          ]
        },
        {
          "output_type": "display_data",
          "data": {
            "application/vnd.jupyter.widget-view+json": {
              "model_id": "8695e4487d5349e6bf417c3410ddee6f",
              "version_minor": 0,
              "version_major": 2
            },
            "text/plain": [
              "  0%|          | 0/170498071 [00:00<?, ?it/s]"
            ]
          },
          "metadata": {}
        },
        {
          "output_type": "stream",
          "name": "stdout",
          "text": [
            "Extracting ./data/cifar-10-python.tar.gz to ./data\n",
            "Files already downloaded and verified\n"
          ]
        }
      ],
      "source": [
        "transform = transforms.Compose(\n",
        "    [transforms.ToTensor(),\n",
        "     transforms.Normalize((0.5, 0.5, 0.5), (0.5, 0.5, 0.5))])\n",
        "\n",
        "trainset = torchvision.datasets.CIFAR10(root='./data', train=True, download=True, transform=transform)\n",
        "\n",
        "\n",
        "testset = torchvision.datasets.CIFAR10(root='./data', train=False, download=True, transform=transform)\n",
        "\n",
        "trainloader = torch.utils.data.DataLoader(trainset, batch_size=10, shuffle=False)\n",
        "testloader = torch.utils.data.DataLoader(testset, batch_size=10, shuffle=False)\n",
        "\n",
        "\n",
        "classes = ('plane', 'car', 'bird', 'cat', 'deer', 'dog', 'frog', 'horse', 'ship', 'truck')\n",
        "\n",
        "foreground_classes = {'plane', 'car', 'bird'}\n",
        "\n",
        "background_classes = {'cat', 'deer', 'dog', 'frog', 'horse','ship', 'truck'}\n",
        "\n",
        "# print(type(foreground_classes))\n",
        "\n",
        "dataiter = iter(trainloader)\n",
        "background_data=[]\n",
        "background_label=[]\n",
        "foreground_data=[]\n",
        "foreground_label=[]\n",
        "batch_size=10\n",
        "\n",
        "for i in range(5000):   #5000*batch_size = 50000 data points\n",
        "  images, labels = dataiter.next()\n",
        "  for j in range(batch_size):\n",
        "    if(classes[labels[j]] in background_classes):\n",
        "      img = images[j].tolist()\n",
        "      background_data.append(img)\n",
        "      background_label.append(labels[j])\n",
        "    else:\n",
        "      img = images[j].tolist()\n",
        "      foreground_data.append(img)\n",
        "      foreground_label.append(labels[j])\n",
        "            \n",
        "foreground_data = torch.tensor(foreground_data)\n",
        "foreground_label = torch.tensor(foreground_label)\n",
        "background_data = torch.tensor(background_data)\n",
        "background_label = torch.tensor(background_label)\n",
        "    \n",
        "  "
      ]
    },
    {
      "cell_type": "code",
      "execution_count": 5,
      "id": "384ac238",
      "metadata": {
        "execution": {
          "iopub.execute_input": "2021-09-07T04:25:07.226414Z",
          "iopub.status.busy": "2021-09-07T04:25:07.225796Z",
          "iopub.status.idle": "2021-09-07T04:25:07.230276Z",
          "shell.execute_reply": "2021-09-07T04:25:07.230660Z",
          "shell.execute_reply.started": "2021-09-07T03:26:02.211057Z"
        },
        "id": "384ac238",
        "outputId": "98122135-815f-466f-b573-ad9cd984e149",
        "papermill": {
          "duration": 0.049825,
          "end_time": "2021-09-07T04:25:07.230785",
          "exception": false,
          "start_time": "2021-09-07T04:25:07.180960",
          "status": "completed"
        },
        "tags": [],
        "colab": {
          "base_uri": "https://localhost:8080/"
        }
      },
      "outputs": [
        {
          "output_type": "execute_result",
          "data": {
            "text/plain": [
              "4"
            ]
          },
          "metadata": {},
          "execution_count": 5
        }
      ],
      "source": [
        "foreground_data.element_size()"
      ]
    },
    {
      "cell_type": "code",
      "execution_count": 6,
      "id": "f79864c3",
      "metadata": {
        "execution": {
          "iopub.execute_input": "2021-09-07T04:25:07.324586Z",
          "iopub.status.busy": "2021-09-07T04:25:07.323828Z",
          "iopub.status.idle": "2021-09-07T04:25:07.326046Z",
          "shell.execute_reply": "2021-09-07T04:25:07.326554Z",
          "shell.execute_reply.started": "2021-09-07T03:26:02.220196Z"
        },
        "id": "f79864c3",
        "papermill": {
          "duration": 0.046638,
          "end_time": "2021-09-07T04:25:07.326675",
          "exception": false,
          "start_time": "2021-09-07T04:25:07.280037",
          "status": "completed"
        },
        "tags": []
      },
      "outputs": [],
      "source": [
        "fg1, fg2, fg3 = 0,1,2"
      ]
    },
    {
      "cell_type": "code",
      "execution_count": 7,
      "id": "d25685ca",
      "metadata": {
        "execution": {
          "iopub.execute_input": "2021-09-07T04:25:07.411687Z",
          "iopub.status.busy": "2021-09-07T04:25:07.410849Z",
          "iopub.status.idle": "2021-09-07T04:25:07.413374Z",
          "shell.execute_reply": "2021-09-07T04:25:07.412926Z",
          "shell.execute_reply.started": "2021-09-07T03:26:02.229294Z"
        },
        "id": "d25685ca",
        "papermill": {
          "duration": 0.046794,
          "end_time": "2021-09-07T04:25:07.413481",
          "exception": false,
          "start_time": "2021-09-07T04:25:07.366687",
          "status": "completed"
        },
        "tags": []
      },
      "outputs": [],
      "source": [
        "def imshow(img):\n",
        "  img = img / 2 + 0.5     # unnormalize\n",
        "  npimg = img#.numpy()\n",
        "  plt.imshow(np.transpose(npimg, (1, 2, 0)))\n",
        "  plt.show()"
      ]
    },
    {
      "cell_type": "code",
      "execution_count": 8,
      "id": "f850477e",
      "metadata": {
        "execution": {
          "iopub.execute_input": "2021-09-07T04:25:07.498350Z",
          "iopub.status.busy": "2021-09-07T04:25:07.497626Z",
          "iopub.status.idle": "2021-09-07T04:25:07.500219Z",
          "shell.execute_reply": "2021-09-07T04:25:07.499807Z",
          "shell.execute_reply.started": "2021-09-07T03:26:02.238525Z"
        },
        "id": "f850477e",
        "papermill": {
          "duration": 0.04571,
          "end_time": "2021-09-07T04:25:07.500323",
          "exception": false,
          "start_time": "2021-09-07T04:25:07.454613",
          "status": "completed"
        },
        "tags": []
      },
      "outputs": [],
      "source": [
        "# foreground_data.shape, foreground_label.shape, background_data.shape, background_label.shape"
      ]
    },
    {
      "cell_type": "code",
      "execution_count": 9,
      "id": "2c1770d8",
      "metadata": {
        "execution": {
          "iopub.execute_input": "2021-09-07T04:25:07.584378Z",
          "iopub.status.busy": "2021-09-07T04:25:07.583551Z",
          "iopub.status.idle": "2021-09-07T04:25:07.585811Z",
          "shell.execute_reply": "2021-09-07T04:25:07.586197Z",
          "shell.execute_reply.started": "2021-09-07T03:26:02.247544Z"
        },
        "id": "2c1770d8",
        "papermill": {
          "duration": 0.045884,
          "end_time": "2021-09-07T04:25:07.586318",
          "exception": false,
          "start_time": "2021-09-07T04:25:07.540434",
          "status": "completed"
        },
        "tags": []
      },
      "outputs": [],
      "source": [
        "# val, idx = torch.max(background_data, dim=0, keepdims= True,)\n",
        "# torch.abs(val)"
      ]
    },
    {
      "cell_type": "code",
      "execution_count": 10,
      "id": "8b8ec3b8",
      "metadata": {
        "execution": {
          "iopub.execute_input": "2021-09-07T04:25:07.671433Z",
          "iopub.status.busy": "2021-09-07T04:25:07.670559Z",
          "iopub.status.idle": "2021-09-07T04:25:07.673093Z",
          "shell.execute_reply": "2021-09-07T04:25:07.672709Z",
          "shell.execute_reply.started": "2021-09-07T03:26:02.258147Z"
        },
        "id": "8b8ec3b8",
        "papermill": {
          "duration": 0.046509,
          "end_time": "2021-09-07T04:25:07.673221",
          "exception": false,
          "start_time": "2021-09-07T04:25:07.626712",
          "status": "completed"
        },
        "tags": []
      },
      "outputs": [],
      "source": [
        "# mean_bg = torch.mean(background_data, dim=0, keepdims= True)\n",
        "# std_bg = torch.std(background_data, dim=0, keepdims= True)"
      ]
    },
    {
      "cell_type": "code",
      "execution_count": 11,
      "id": "dc577c5b",
      "metadata": {
        "execution": {
          "iopub.execute_input": "2021-09-07T04:25:07.757342Z",
          "iopub.status.busy": "2021-09-07T04:25:07.756680Z",
          "iopub.status.idle": "2021-09-07T04:25:07.759460Z",
          "shell.execute_reply": "2021-09-07T04:25:07.759002Z",
          "shell.execute_reply.started": "2021-09-07T03:26:02.265740Z"
        },
        "id": "dc577c5b",
        "papermill": {
          "duration": 0.045773,
          "end_time": "2021-09-07T04:25:07.759567",
          "exception": false,
          "start_time": "2021-09-07T04:25:07.713794",
          "status": "completed"
        },
        "tags": []
      },
      "outputs": [],
      "source": [
        "# mean_bg.shape, std_bg.shape"
      ]
    },
    {
      "cell_type": "code",
      "execution_count": 12,
      "id": "b03c8843",
      "metadata": {
        "execution": {
          "iopub.execute_input": "2021-09-07T04:25:07.843362Z",
          "iopub.status.busy": "2021-09-07T04:25:07.842687Z",
          "iopub.status.idle": "2021-09-07T04:25:07.845095Z",
          "shell.execute_reply": "2021-09-07T04:25:07.845553Z",
          "shell.execute_reply.started": "2021-09-07T03:26:02.272744Z"
        },
        "id": "b03c8843",
        "papermill": {
          "duration": 0.045587,
          "end_time": "2021-09-07T04:25:07.845670",
          "exception": false,
          "start_time": "2021-09-07T04:25:07.800083",
          "status": "completed"
        },
        "tags": []
      },
      "outputs": [],
      "source": [
        "# foreground_data = (foreground_data - mean_bg) / std_bg\n",
        "# background_data = (background_data - mean_bg) / std_bg"
      ]
    },
    {
      "cell_type": "code",
      "execution_count": 13,
      "id": "182a78d5",
      "metadata": {
        "execution": {
          "iopub.execute_input": "2021-09-07T04:25:07.929710Z",
          "iopub.status.busy": "2021-09-07T04:25:07.928976Z",
          "iopub.status.idle": "2021-09-07T04:25:07.931210Z",
          "shell.execute_reply": "2021-09-07T04:25:07.931578Z",
          "shell.execute_reply.started": "2021-09-07T03:26:02.285860Z"
        },
        "id": "182a78d5",
        "papermill": {
          "duration": 0.045711,
          "end_time": "2021-09-07T04:25:07.931697",
          "exception": false,
          "start_time": "2021-09-07T04:25:07.885986",
          "status": "completed"
        },
        "tags": []
      },
      "outputs": [],
      "source": [
        "# foreground_data.shape, foreground_label.shape, background_data.shape, background_label.shape"
      ]
    },
    {
      "cell_type": "code",
      "execution_count": 14,
      "id": "35086ac2",
      "metadata": {
        "execution": {
          "iopub.execute_input": "2021-09-07T04:25:08.015627Z",
          "iopub.status.busy": "2021-09-07T04:25:08.014908Z",
          "iopub.status.idle": "2021-09-07T04:25:08.017685Z",
          "shell.execute_reply": "2021-09-07T04:25:08.017291Z",
          "shell.execute_reply.started": "2021-09-07T03:26:02.293439Z"
        },
        "id": "35086ac2",
        "papermill": {
          "duration": 0.045969,
          "end_time": "2021-09-07T04:25:08.017787",
          "exception": false,
          "start_time": "2021-09-07T04:25:07.971818",
          "status": "completed"
        },
        "tags": []
      },
      "outputs": [],
      "source": [
        "# torch.sum(torch.isnan(foreground_data)), torch.sum(torch.isnan(background_data))"
      ]
    },
    {
      "cell_type": "code",
      "execution_count": 15,
      "id": "38fbfd69",
      "metadata": {
        "execution": {
          "iopub.execute_input": "2021-09-07T04:25:08.103748Z",
          "iopub.status.busy": "2021-09-07T04:25:08.102929Z",
          "iopub.status.idle": "2021-09-07T04:25:08.105271Z",
          "shell.execute_reply": "2021-09-07T04:25:08.105633Z",
          "shell.execute_reply.started": "2021-09-07T03:26:02.301527Z"
        },
        "id": "38fbfd69",
        "papermill": {
          "duration": 0.047232,
          "end_time": "2021-09-07T04:25:08.105751",
          "exception": false,
          "start_time": "2021-09-07T04:25:08.058519",
          "status": "completed"
        },
        "tags": []
      },
      "outputs": [],
      "source": [
        "# imshow(foreground_data[0])"
      ]
    },
    {
      "cell_type": "code",
      "execution_count": 16,
      "id": "5d6787f8",
      "metadata": {
        "execution": {
          "iopub.execute_input": "2021-09-07T04:25:08.189416Z",
          "iopub.status.busy": "2021-09-07T04:25:08.188897Z",
          "iopub.status.idle": "2021-09-07T04:25:08.192564Z",
          "shell.execute_reply": "2021-09-07T04:25:08.192078Z",
          "shell.execute_reply.started": "2021-09-07T03:26:02.310718Z"
        },
        "id": "5d6787f8",
        "papermill": {
          "duration": 0.047051,
          "end_time": "2021-09-07T04:25:08.192675",
          "exception": false,
          "start_time": "2021-09-07T04:25:08.145624",
          "status": "completed"
        },
        "tags": []
      },
      "outputs": [],
      "source": [
        "# imshow(background_data[2])"
      ]
    },
    {
      "cell_type": "code",
      "execution_count": 17,
      "id": "0cb21f83",
      "metadata": {
        "execution": {
          "iopub.execute_input": "2021-09-07T04:25:08.279566Z",
          "iopub.status.busy": "2021-09-07T04:25:08.278875Z",
          "iopub.status.idle": "2021-09-07T04:25:08.282407Z",
          "shell.execute_reply": "2021-09-07T04:25:08.281970Z",
          "shell.execute_reply.started": "2021-09-07T03:26:02.320516Z"
        },
        "id": "0cb21f83",
        "papermill": {
          "duration": 0.049282,
          "end_time": "2021-09-07T04:25:08.282507",
          "exception": false,
          "start_time": "2021-09-07T04:25:08.233225",
          "status": "completed"
        },
        "tags": []
      },
      "outputs": [],
      "source": [
        "def create_mosaic_img(bg_idx,fg_idx,fg): \n",
        "  \"\"\"\n",
        "  bg_idx : list of indexes of background_data[] to be used as background images in mosaic\n",
        "  fg_idx : index of image to be used as foreground image from foreground data\n",
        "  fg : at what position/index foreground image has to be stored out of 0-8\n",
        "  \"\"\"\n",
        "  image_list=[]\n",
        "  j=0\n",
        "  for i in range(20):  # m value \n",
        "    if i != fg:\n",
        "      image_list.append(background_data[bg_idx[j]])\n",
        "      j+=1\n",
        "    else: \n",
        "      image_list.append(foreground_data[fg_idx])\n",
        "      label = foreground_label[fg_idx] - fg1  # minus fg1 because our fore ground classes are fg1,fg2,fg3 but we have to store it as 0,1,2\n",
        "  #image_list = np.concatenate(image_list ,axis=0)\n",
        "  image_list = torch.stack(image_list) \n",
        "  return image_list,label"
      ]
    },
    {
      "cell_type": "code",
      "execution_count": 18,
      "id": "1b32022e",
      "metadata": {
        "execution": {
          "iopub.execute_input": "2021-09-07T04:25:08.374877Z",
          "iopub.status.busy": "2021-09-07T04:25:08.374378Z",
          "iopub.status.idle": "2021-09-07T04:25:22.314073Z",
          "shell.execute_reply": "2021-09-07T04:25:22.314524Z",
          "shell.execute_reply.started": "2021-09-07T03:26:02.330187Z"
        },
        "id": "1b32022e",
        "papermill": {
          "duration": 13.989242,
          "end_time": "2021-09-07T04:25:22.314688",
          "exception": false,
          "start_time": "2021-09-07T04:25:08.325446",
          "status": "completed"
        },
        "tags": []
      },
      "outputs": [],
      "source": [
        "desired_num = 40000\n",
        "mosaic_list_of_images =[]      # list of mosaic images, each mosaic image is saved as list of 9 images\n",
        "fore_idx =[]                   # list of indexes at which foreground image is present in a mosaic image i.e from 0 to 9               \n",
        "mosaic_label=[]                # label of mosaic image = foreground class present in that mosaic\n",
        "list_set_labels = [] \n",
        "for i in range(desired_num):\n",
        "  set_idx = set()\n",
        "  np.random.seed(i)\n",
        "  bg_idx = np.random.randint(0,35000,19)\n",
        "  set_idx = set(background_label[bg_idx].tolist())\n",
        "  fg_idx = np.random.randint(0,15000)\n",
        "  set_idx.add(foreground_label[fg_idx].item())\n",
        "  fg = np.random.randint(0,20)\n",
        "  fore_idx.append(fg)\n",
        "  image_list,label = create_mosaic_img(bg_idx,fg_idx,fg)\n",
        "  mosaic_list_of_images.append(image_list)\n",
        "  mosaic_label.append(label)\n",
        "  list_set_labels.append(set_idx)"
      ]
    },
    {
      "cell_type": "code",
      "execution_count": 19,
      "id": "c875aa8d",
      "metadata": {
        "execution": {
          "iopub.execute_input": "2021-09-07T04:25:22.400413Z",
          "iopub.status.busy": "2021-09-07T04:25:22.399859Z",
          "iopub.status.idle": "2021-09-07T04:25:22.404928Z",
          "shell.execute_reply": "2021-09-07T04:25:22.405316Z",
          "shell.execute_reply.started": "2021-09-07T03:26:16.407098Z"
        },
        "id": "c875aa8d",
        "outputId": "6fe0c71f-ea6a-4853-cb61-e47d8de0f690",
        "papermill": {
          "duration": 0.049758,
          "end_time": "2021-09-07T04:25:22.405448",
          "exception": false,
          "start_time": "2021-09-07T04:25:22.355690",
          "status": "completed"
        },
        "tags": [],
        "colab": {
          "base_uri": "https://localhost:8080/"
        }
      },
      "outputs": [
        {
          "output_type": "execute_result",
          "data": {
            "text/plain": [
              "(40000, torch.Size([20, 3, 32, 32]))"
            ]
          },
          "metadata": {},
          "execution_count": 19
        }
      ],
      "source": [
        "# mosaic_list_of_images_train = torch.stack(mosaic_list_of_images)\n",
        "len(mosaic_list_of_images),mosaic_list_of_images[0].shape"
      ]
    },
    {
      "cell_type": "code",
      "execution_count": 20,
      "id": "e93dbde7",
      "metadata": {
        "execution": {
          "iopub.execute_input": "2021-09-07T04:25:22.491091Z",
          "iopub.status.busy": "2021-09-07T04:25:22.490490Z",
          "iopub.status.idle": "2021-09-07T04:25:22.633837Z",
          "shell.execute_reply": "2021-09-07T04:25:22.633400Z",
          "shell.execute_reply.started": "2021-09-07T03:26:16.416114Z"
        },
        "id": "e93dbde7",
        "outputId": "e6d2cd24-902b-4290-f013-cfa6e6b7cf72",
        "papermill": {
          "duration": 0.187926,
          "end_time": "2021-09-07T04:25:22.633964",
          "exception": false,
          "start_time": "2021-09-07T04:25:22.446038",
          "status": "completed"
        },
        "tags": [],
        "colab": {
          "base_uri": "https://localhost:8080/",
          "height": 266
        }
      },
      "outputs": [
        {
          "output_type": "display_data",
          "data": {
            "image/png": "[encoded data removed]",
            "text/plain": [
              "<Figure size 432x288 with 1 Axes>"
            ]
          },
          "metadata": {
            "needs_background": "light"
          }
        }
      ],
      "source": [
        "imshow(mosaic_list_of_images[0][1])"
      ]
    },
    {
      "cell_type": "code",
      "execution_count": 21,
      "id": "cc189c28",
      "metadata": {
        "execution": {
          "iopub.execute_input": "2021-09-07T04:25:22.720076Z",
          "iopub.status.busy": "2021-09-07T04:25:22.719598Z",
          "iopub.status.idle": "2021-09-07T04:25:22.723332Z",
          "shell.execute_reply": "2021-09-07T04:25:22.722922Z",
          "shell.execute_reply.started": "2021-09-07T03:26:16.565084Z"
        },
        "id": "cc189c28",
        "papermill": {
          "duration": 0.04781,
          "end_time": "2021-09-07T04:25:22.723440",
          "exception": false,
          "start_time": "2021-09-07T04:25:22.675630",
          "status": "completed"
        },
        "tags": []
      },
      "outputs": [],
      "source": [
        "# mean_train = torch.mean(mosaic_list_of_images_train[0:2500], dim=0, keepdims= True)\n",
        "# std_train = torch.std(mosaic_list_of_images_train[0:2500], dim=0, keepdims= True) \n",
        "# mosaic_list_of_images_train = (mosaic_list_of_images_train - mean_train) / std_train"
      ]
    },
    {
      "cell_type": "code",
      "execution_count": 22,
      "id": "7a23db8a",
      "metadata": {
        "execution": {
          "iopub.execute_input": "2021-09-07T04:25:22.808591Z",
          "iopub.status.busy": "2021-09-07T04:25:22.808048Z",
          "iopub.status.idle": "2021-09-07T04:25:22.811478Z",
          "shell.execute_reply": "2021-09-07T04:25:22.811844Z",
          "shell.execute_reply.started": "2021-09-07T03:26:16.570002Z"
        },
        "id": "7a23db8a",
        "papermill": {
          "duration": 0.047585,
          "end_time": "2021-09-07T04:25:22.811963",
          "exception": false,
          "start_time": "2021-09-07T04:25:22.764378",
          "status": "completed"
        },
        "tags": []
      },
      "outputs": [],
      "source": [
        "# imshow(mosaic_list_of_images_train[0][2])"
      ]
    },
    {
      "cell_type": "code",
      "execution_count": 23,
      "id": "37034e13",
      "metadata": {
        "execution": {
          "iopub.execute_input": "2021-09-07T04:25:22.901969Z",
          "iopub.status.busy": "2021-09-07T04:25:22.901460Z",
          "iopub.status.idle": "2021-09-07T04:25:22.905121Z",
          "shell.execute_reply": "2021-09-07T04:25:22.904739Z",
          "shell.execute_reply.started": "2021-09-07T03:26:16.579317Z"
        },
        "id": "37034e13",
        "papermill": {
          "duration": 0.052183,
          "end_time": "2021-09-07T04:25:22.905246",
          "exception": false,
          "start_time": "2021-09-07T04:25:22.853063",
          "status": "completed"
        },
        "tags": []
      },
      "outputs": [],
      "source": [
        "class MosaicDataset(Dataset):\n",
        "  \"\"\"MosaicDataset dataset.\"\"\"\n",
        "\n",
        "  def __init__(self, mosaic_list_of_images, mosaic_label, fore_idx):\n",
        "    \"\"\"\n",
        "      Args:\n",
        "        csv_file (string): Path to the csv file with annotations.\n",
        "        root_dir (string): Directory with all the images.\n",
        "        transform (callable, optional): Optional transform to be applied\n",
        "            on a sample.\n",
        "    \"\"\"\n",
        "    self.mosaic = mosaic_list_of_images\n",
        "    self.label = mosaic_label\n",
        "    self.fore_idx = fore_idx\n",
        "\n",
        "  def __len__(self):\n",
        "    return len(self.label)\n",
        "\n",
        "  def __getitem__(self, idx):\n",
        "    return self.mosaic[idx] , self.label[idx], self.fore_idx[idx]\n",
        "\n",
        "batch = 100\n",
        "msd = MosaicDataset(mosaic_list_of_images[0:30000], mosaic_label[0:30000] , fore_idx[0:30000])\n",
        "train_loader = DataLoader( msd,batch_size= batch ,shuffle=True)\n",
        "\n",
        "test_data = MosaicDataset(mosaic_list_of_images[30000:], mosaic_label[30000:] , fore_idx[30000:])\n",
        "test_loader = DataLoader( test_data,batch_size= batch ,shuffle=False)"
      ]
    },
    {
      "cell_type": "code",
      "execution_count": 24,
      "id": "75e865db",
      "metadata": {
        "execution": {
          "iopub.execute_input": "2021-09-07T04:25:23.011930Z",
          "iopub.status.busy": "2021-09-07T04:25:23.011322Z",
          "iopub.status.idle": "2021-09-07T04:25:23.013820Z",
          "shell.execute_reply": "2021-09-07T04:25:23.014272Z",
          "shell.execute_reply.started": "2021-09-07T03:26:16.591517Z"
        },
        "id": "75e865db",
        "papermill": {
          "duration": 0.06772,
          "end_time": "2021-09-07T04:25:23.014391",
          "exception": false,
          "start_time": "2021-09-07T04:25:22.946671",
          "status": "completed"
        },
        "tags": []
      },
      "outputs": [],
      "source": [
        "del foreground_data\n",
        "del background_data"
      ]
    },
    {
      "cell_type": "code",
      "execution_count": 25,
      "id": "ad082da7",
      "metadata": {
        "execution": {
          "iopub.execute_input": "2021-09-07T04:25:23.113640Z",
          "iopub.status.busy": "2021-09-07T04:25:23.112857Z",
          "iopub.status.idle": "2021-09-07T04:25:23.115514Z",
          "shell.execute_reply": "2021-09-07T04:25:23.115085Z",
          "shell.execute_reply.started": "2021-09-07T03:26:16.622465Z"
        },
        "id": "ad082da7",
        "papermill": {
          "duration": 0.05913,
          "end_time": "2021-09-07T04:25:23.115620",
          "exception": false,
          "start_time": "2021-09-07T04:25:23.056490",
          "status": "completed"
        },
        "tags": []
      },
      "outputs": [],
      "source": [
        "class Focus(nn.Module):\n",
        "  def __init__(self):\n",
        "    super(Focus, self).__init__()\n",
        "\n",
        "    self.conv1 = nn.Conv2d(in_channels=3, out_channels=32, kernel_size=3, padding=0, bias=False)\n",
        "    self.pool = nn.MaxPool2d(2, 2)\n",
        "    self.conv2 = nn.Conv2d(in_channels=32, out_channels=64, kernel_size=3, padding=0, bias=False)\n",
        "    self.conv3 = nn.Conv2d(in_channels=64, out_channels=64, kernel_size=3, padding=0, bias=False)\n",
        "    self.fc1 = nn.Linear(1024, 512, bias=False)\n",
        "    self.fc2 = nn.Linear(512, 64, bias=False)\n",
        "    self.fc3 = nn.Linear(64, 10, bias=False)\n",
        "    self.fc4 = nn.Linear(10,1, bias=False)\n",
        "\n",
        "    torch.nn.init.xavier_normal_(self.conv1.weight)\n",
        "    torch.nn.init.xavier_normal_(self.conv2.weight)\n",
        "    torch.nn.init.xavier_normal_(self.conv3.weight)\n",
        "    torch.nn.init.xavier_normal_(self.fc1.weight)\n",
        "    torch.nn.init.xavier_normal_(self.fc2.weight)\n",
        "    torch.nn.init.xavier_normal_(self.fc3.weight)\n",
        "    torch.nn.init.xavier_normal_(self.fc4.weight)\n",
        "\n",
        "  def forward(self,z):  #y is avg image #z batch of list of 9 images\n",
        "    batch = z.size(0)\n",
        "    patches = z.size(1)\n",
        "    z = z.view(batch*patches,3,32,32)\n",
        "    alpha =  self.helper(z)\n",
        "    alpha = alpha.view(batch,patches,-1)\n",
        "    z = z.view(batch,patches,3,32,32)\n",
        "    #print(alpha.shape,z.shape)\n",
        "    alpha = F.softmax(alpha,dim=1)\n",
        "\n",
        "    x = torch.sum(alpha[:,:,:,None,None]*z,dim=1)\n",
        "\n",
        "    #alpha =alpha.view(batch,patches,-1)\n",
        "\n",
        "\n",
        "\n",
        "    return alpha[:,:,0],x # alpha, averaged data\n",
        "    \n",
        "  def helper(self, x):\n",
        "    x = self.pool(F.relu(self.conv1(x)))\n",
        "    x = self.pool(F.relu(self.conv2(x)))\n",
        "    # print(x.shape)\n",
        "    x = (F.relu(self.conv3(x)))\n",
        "    x =  x.view(x.size(0), -1)\n",
        "    # print(x.shape)\n",
        "    x = F.relu(self.fc1(x))\n",
        "    x = F.relu(self.fc2(x))\n",
        "    x = F.relu(self.fc3(x))\n",
        "    x = self.fc4(x)\n",
        "    return x"
      ]
    },
    {
      "cell_type": "code",
      "execution_count": 26,
      "id": "2e7438f1",
      "metadata": {
        "execution": {
          "iopub.execute_input": "2021-09-07T04:25:23.296936Z",
          "iopub.status.busy": "2021-09-07T04:25:23.296193Z",
          "iopub.status.idle": "2021-09-07T04:25:23.298789Z",
          "shell.execute_reply": "2021-09-07T04:25:23.298391Z",
          "shell.execute_reply.started": "2021-09-07T03:26:16.650521Z"
        },
        "id": "2e7438f1",
        "papermill": {
          "duration": 0.052934,
          "end_time": "2021-09-07T04:25:23.298893",
          "exception": false,
          "start_time": "2021-09-07T04:25:23.245959",
          "status": "completed"
        },
        "tags": []
      },
      "outputs": [],
      "source": [
        "class Classification(nn.Module):\n",
        "  def __init__(self):\n",
        "    super(Classification, self).__init__()\n",
        "    self.conv1 = nn.Conv2d(3, 6, 5)\n",
        "    self.pool = nn.MaxPool2d(2, 2)\n",
        "    self.fc1 = nn.Linear(6 * 14 * 14, 120)\n",
        "    self.fc2 = nn.Linear(120, 84)\n",
        "    self.fc3 = nn.Linear(84, 10)\n",
        "    self.fc4 = nn.Linear(10,3)\n",
        "\n",
        "    torch.nn.init.xavier_normal_(self.conv1.weight)\n",
        "    torch.nn.init.zeros_(self.conv1.bias)\n",
        "    torch.nn.init.xavier_normal_(self.fc1.weight)\n",
        "    torch.nn.init.zeros_(self.fc1.bias)\n",
        "    torch.nn.init.xavier_normal_(self.fc2.weight)\n",
        "    torch.nn.init.zeros_(self.fc2.bias)\n",
        "    torch.nn.init.xavier_normal_(self.fc3.weight)\n",
        "    torch.nn.init.zeros_(self.fc3.bias)\n",
        "    torch.nn.init.xavier_normal_(self.fc4.weight)\n",
        "    torch.nn.init.zeros_(self.fc4.bias)\n",
        "\n",
        "  def forward(self,z): \n",
        "    y1 = self.pool(F.relu(self.conv1(z)))\n",
        "    #print(y1.shape)\n",
        "    y1 = y1.view(-1, 6 * 14 * 14)\n",
        "\n",
        "    y1 = F.relu(self.fc1(y1))\n",
        "    y1 = F.relu(self.fc2(y1))\n",
        "    y1 = F.relu(self.fc3(y1))\n",
        "    y1 = self.fc4(y1)\n",
        "    return y1 "
      ]
    },
    {
      "cell_type": "code",
      "execution_count": 27,
      "id": "ac088f8b",
      "metadata": {
        "execution": {
          "iopub.execute_input": "2021-09-07T04:25:23.385093Z",
          "iopub.status.busy": "2021-09-07T04:25:23.384592Z",
          "iopub.status.idle": "2021-09-07T04:25:27.941908Z",
          "shell.execute_reply": "2021-09-07T04:25:27.941254Z",
          "shell.execute_reply.started": "2021-09-07T03:26:16.665641Z"
        },
        "id": "ac088f8b",
        "papermill": {
          "duration": 4.601721,
          "end_time": "2021-09-07T04:25:27.942039",
          "exception": false,
          "start_time": "2021-09-07T04:25:23.340318",
          "status": "completed"
        },
        "tags": []
      },
      "outputs": [],
      "source": [
        "torch.manual_seed(13)\n",
        "focus_net = Focus().double()\n",
        "focus_net = focus_net.to(\"cuda\")"
      ]
    },
    {
      "cell_type": "code",
      "execution_count": 28,
      "id": "6cd61b4d",
      "metadata": {
        "execution": {
          "iopub.execute_input": "2021-09-07T04:25:28.031505Z",
          "iopub.status.busy": "2021-09-07T04:25:28.030947Z",
          "iopub.status.idle": "2021-09-07T04:25:28.036578Z",
          "shell.execute_reply": "2021-09-07T04:25:28.036159Z",
          "shell.execute_reply.started": "2021-09-07T03:26:21.085687Z"
        },
        "id": "6cd61b4d",
        "outputId": "ddef2bda-f2ed-48ec-b345-553e14b00934",
        "papermill": {
          "duration": 0.052486,
          "end_time": "2021-09-07T04:25:28.036690",
          "exception": false,
          "start_time": "2021-09-07T04:25:27.984204",
          "status": "completed"
        },
        "tags": [],
        "colab": {
          "base_uri": "https://localhost:8080/"
        }
      },
      "outputs": [
        {
          "output_type": "execute_result",
          "data": {
            "text/plain": [
              "(torch.Size([10, 64]), torch.Size([1, 10]))"
            ]
          },
          "metadata": {},
          "execution_count": 28
        }
      ],
      "source": [
        "focus_net.fc3.weight.shape,focus_net.fc4.weight.shape"
      ]
    },
    {
      "cell_type": "code",
      "execution_count": 29,
      "id": "f522eaac",
      "metadata": {
        "execution": {
          "iopub.execute_input": "2021-09-07T04:25:28.125853Z",
          "iopub.status.busy": "2021-09-07T04:25:28.125351Z",
          "iopub.status.idle": "2021-09-07T04:25:28.129005Z",
          "shell.execute_reply": "2021-09-07T04:25:28.128607Z",
          "shell.execute_reply.started": "2021-09-07T03:26:21.093772Z"
        },
        "id": "f522eaac",
        "papermill": {
          "duration": 0.050181,
          "end_time": "2021-09-07T04:25:28.129109",
          "exception": false,
          "start_time": "2021-09-07T04:25:28.078928",
          "status": "completed"
        },
        "tags": []
      },
      "outputs": [],
      "source": [
        "focus_net.fc3.weight.data[5:,:] = focus_net.fc3.weight.data[:5,:] #torch.nn.Parameter(torch.tensor([last_layer]) )\n",
        "# (focus_net.fc3.weight[:5,:]== focus_net.fc3.weight[5:,:] )"
      ]
    },
    {
      "cell_type": "code",
      "execution_count": 30,
      "id": "4c7f0a9e",
      "metadata": {
        "execution": {
          "iopub.execute_input": "2021-09-07T04:25:28.217660Z",
          "iopub.status.busy": "2021-09-07T04:25:28.217086Z",
          "iopub.status.idle": "2021-09-07T04:25:28.224343Z",
          "shell.execute_reply": "2021-09-07T04:25:28.224706Z",
          "shell.execute_reply.started": "2021-09-07T03:26:21.102943Z"
        },
        "id": "4c7f0a9e",
        "papermill": {
          "duration": 0.053346,
          "end_time": "2021-09-07T04:25:28.224826",
          "exception": false,
          "start_time": "2021-09-07T04:25:28.171480",
          "status": "completed"
        },
        "tags": []
      },
      "outputs": [],
      "source": [
        "focus_net.fc4.weight.data[:,5:] = -focus_net.fc4.weight.data[:,:5] #torch.nn.Parameter(torch.tensor([last_layer]) )\n",
        "# focus_net.fc4.weight"
      ]
    },
    {
      "cell_type": "code",
      "execution_count": 31,
      "id": "2ecacad8",
      "metadata": {
        "execution": {
          "iopub.execute_input": "2021-09-07T04:25:28.317639Z",
          "iopub.status.busy": "2021-09-07T04:25:28.316426Z",
          "iopub.status.idle": "2021-09-07T04:25:28.319086Z",
          "shell.execute_reply": "2021-09-07T04:25:28.318704Z",
          "shell.execute_reply.started": "2021-09-07T03:26:21.119117Z"
        },
        "id": "2ecacad8",
        "papermill": {
          "duration": 0.048822,
          "end_time": "2021-09-07T04:25:28.319209",
          "exception": false,
          "start_time": "2021-09-07T04:25:28.270387",
          "status": "completed"
        },
        "tags": []
      },
      "outputs": [],
      "source": [
        "focus_net = focus_net.double().to(\"cuda\")"
      ]
    },
    {
      "cell_type": "code",
      "execution_count": 32,
      "id": "a8d075f1",
      "metadata": {
        "execution": {
          "iopub.execute_input": "2021-09-07T04:25:28.404897Z",
          "iopub.status.busy": "2021-09-07T04:25:28.404399Z",
          "iopub.status.idle": "2021-09-07T04:25:28.407970Z",
          "shell.execute_reply": "2021-09-07T04:25:28.407500Z",
          "shell.execute_reply.started": "2021-09-07T03:26:21.127214Z"
        },
        "id": "a8d075f1",
        "papermill": {
          "duration": 0.047585,
          "end_time": "2021-09-07T04:25:28.408135",
          "exception": false,
          "start_time": "2021-09-07T04:25:28.360550",
          "status": "completed"
        },
        "tags": []
      },
      "outputs": [],
      "source": [
        "# alpha,output = focus_net( torch.randn((128,50,3,32,32)).double().to(\"cuda\") )"
      ]
    },
    {
      "cell_type": "code",
      "execution_count": 33,
      "id": "31768703",
      "metadata": {
        "execution": {
          "iopub.execute_input": "2021-09-07T04:25:28.494349Z",
          "iopub.status.busy": "2021-09-07T04:25:28.493789Z",
          "iopub.status.idle": "2021-09-07T04:25:28.497523Z",
          "shell.execute_reply": "2021-09-07T04:25:28.497086Z",
          "shell.execute_reply.started": "2021-09-07T03:26:21.134103Z"
        },
        "id": "31768703",
        "papermill": {
          "duration": 0.047533,
          "end_time": "2021-09-07T04:25:28.497628",
          "exception": false,
          "start_time": "2021-09-07T04:25:28.450095",
          "status": "completed"
        },
        "tags": []
      },
      "outputs": [],
      "source": [
        "# alpha.shape,output.shape"
      ]
    },
    {
      "cell_type": "code",
      "execution_count": 33,
      "id": "48b53acc",
      "metadata": {
        "id": "48b53acc",
        "papermill": {
          "duration": 0.04153,
          "end_time": "2021-09-07T04:25:28.580538",
          "exception": false,
          "start_time": "2021-09-07T04:25:28.539008",
          "status": "completed"
        },
        "tags": []
      },
      "outputs": [],
      "source": [
        "\n"
      ]
    },
    {
      "cell_type": "code",
      "execution_count": 34,
      "id": "6222b14b",
      "metadata": {
        "execution": {
          "iopub.execute_input": "2021-09-07T04:25:28.667256Z",
          "iopub.status.busy": "2021-09-07T04:25:28.666574Z",
          "iopub.status.idle": "2021-09-07T04:25:28.675699Z",
          "shell.execute_reply": "2021-09-07T04:25:28.675302Z",
          "shell.execute_reply.started": "2021-09-07T03:26:21.146429Z"
        },
        "id": "6222b14b",
        "papermill": {
          "duration": 0.054116,
          "end_time": "2021-09-07T04:25:28.675801",
          "exception": false,
          "start_time": "2021-09-07T04:25:28.621685",
          "status": "completed"
        },
        "tags": []
      },
      "outputs": [],
      "source": [
        "torch.manual_seed(12)\n",
        "classify = Classification().double()\n",
        "classify = classify.to(\"cuda\")"
      ]
    },
    {
      "cell_type": "code",
      "execution_count": 35,
      "id": "5650d731",
      "metadata": {
        "execution": {
          "iopub.execute_input": "2021-09-07T04:25:28.762358Z",
          "iopub.status.busy": "2021-09-07T04:25:28.761643Z",
          "iopub.status.idle": "2021-09-07T04:25:28.764314Z",
          "shell.execute_reply": "2021-09-07T04:25:28.763851Z",
          "shell.execute_reply.started": "2021-09-07T03:26:21.161553Z"
        },
        "id": "5650d731",
        "papermill": {
          "duration": 0.046851,
          "end_time": "2021-09-07T04:25:28.764413",
          "exception": false,
          "start_time": "2021-09-07T04:25:28.717562",
          "status": "completed"
        },
        "tags": []
      },
      "outputs": [],
      "source": [
        "# classify.conv1.bias"
      ]
    },
    {
      "cell_type": "code",
      "execution_count": 36,
      "id": "b8a59c01",
      "metadata": {
        "execution": {
          "iopub.execute_input": "2021-09-07T04:25:28.850424Z",
          "iopub.status.busy": "2021-09-07T04:25:28.849758Z",
          "iopub.status.idle": "2021-09-07T04:25:28.852468Z",
          "shell.execute_reply": "2021-09-07T04:25:28.851977Z",
          "shell.execute_reply.started": "2021-09-07T03:26:21.167049Z"
        },
        "id": "b8a59c01",
        "papermill": {
          "duration": 0.046892,
          "end_time": "2021-09-07T04:25:28.852565",
          "exception": false,
          "start_time": "2021-09-07T04:25:28.805673",
          "status": "completed"
        },
        "tags": []
      },
      "outputs": [],
      "source": [
        "# classify.fc1.weight"
      ]
    },
    {
      "cell_type": "code",
      "execution_count": 37,
      "id": "4f452eda",
      "metadata": {
        "execution": {
          "iopub.execute_input": "2021-09-07T04:25:28.938726Z",
          "iopub.status.busy": "2021-09-07T04:25:28.938021Z",
          "iopub.status.idle": "2021-09-07T04:25:28.940315Z",
          "shell.execute_reply": "2021-09-07T04:25:28.940691Z",
          "shell.execute_reply.started": "2021-09-07T03:26:21.176047Z"
        },
        "id": "4f452eda",
        "papermill": {
          "duration": 0.046991,
          "end_time": "2021-09-07T04:25:28.940813",
          "exception": false,
          "start_time": "2021-09-07T04:25:28.893822",
          "status": "completed"
        },
        "tags": []
      },
      "outputs": [],
      "source": [
        "# classify.fc1.bias"
      ]
    },
    {
      "cell_type": "code",
      "execution_count": 38,
      "id": "15688e20",
      "metadata": {
        "execution": {
          "iopub.execute_input": "2021-09-07T04:25:29.029027Z",
          "iopub.status.busy": "2021-09-07T04:25:29.028540Z",
          "iopub.status.idle": "2021-09-07T04:25:29.032379Z",
          "shell.execute_reply": "2021-09-07T04:25:29.031925Z",
          "shell.execute_reply.started": "2021-09-07T03:26:21.185575Z"
        },
        "id": "15688e20",
        "papermill": {
          "duration": 0.050348,
          "end_time": "2021-09-07T04:25:29.032480",
          "exception": false,
          "start_time": "2021-09-07T04:25:28.982132",
          "status": "completed"
        },
        "tags": []
      },
      "outputs": [],
      "source": [
        "import torch.optim as optim\n",
        "criterion = nn.CrossEntropyLoss()\n",
        "optimizer_classify = optim.Adam(classify.parameters(), lr=0.0005  ) #, momentum=0.9)\n",
        "optimizer_focus = optim.Adam(focus_net.parameters(), lr=0.0005  ) #, momentum=0.9)"
      ]
    },
    {
      "cell_type": "code",
      "execution_count": 39,
      "id": "65231afa",
      "metadata": {
        "execution": {
          "iopub.execute_input": "2021-09-07T04:25:29.129715Z",
          "iopub.status.busy": "2021-09-07T04:25:29.129090Z",
          "iopub.status.idle": "2021-09-07T04:25:29.132945Z",
          "shell.execute_reply": "2021-09-07T04:25:29.133395Z",
          "shell.execute_reply.started": "2021-09-07T03:26:21.193525Z"
        },
        "id": "65231afa",
        "papermill": {
          "duration": 0.057336,
          "end_time": "2021-09-07T04:25:29.133542",
          "exception": false,
          "start_time": "2021-09-07T04:25:29.076206",
          "status": "completed"
        },
        "tags": []
      },
      "outputs": [],
      "source": [
        "col1=[]\n",
        "col2=[]\n",
        "col3=[]\n",
        "col4=[]\n",
        "col5=[]\n",
        "col6=[]\n",
        "col7=[]\n",
        "col8=[]\n",
        "col9=[]\n",
        "col10=[]\n",
        "col11=[]\n",
        "col12=[]\n",
        "col13=[]"
      ]
    },
    {
      "cell_type": "code",
      "execution_count": 40,
      "id": "7d709fc4",
      "metadata": {
        "execution": {
          "iopub.execute_input": "2021-09-07T04:25:29.241947Z",
          "iopub.status.busy": "2021-09-07T04:25:29.241397Z",
          "iopub.status.idle": "2021-09-07T04:25:53.357618Z",
          "shell.execute_reply": "2021-09-07T04:25:53.358012Z",
          "shell.execute_reply.started": "2021-09-07T03:26:21.206931Z"
        },
        "id": "7d709fc4",
        "outputId": "d30b9785-6459-4a12-c7d3-a1dc5e19a917",
        "papermill": {
          "duration": 24.179999,
          "end_time": "2021-09-07T04:25:53.358163",
          "exception": false,
          "start_time": "2021-09-07T04:25:29.178164",
          "status": "completed"
        },
        "tags": [],
        "colab": {
          "base_uri": "https://localhost:8080/"
        }
      },
      "outputs": [
        {
          "output_type": "stream",
          "name": "stdout",
          "text": [
            "Accuracy of the network on the 30000 train images: 32.763333 %\n",
            "total correct 9829\n",
            "total train set images 30000\n",
            "focus_true_pred_true 510 =============> FTPT : 1.700000 %\n",
            "focus_false_pred_true 9319 =============> FFPT : 31.063333 %\n",
            "focus_true_pred_false 1019 =============> FTPF : 3.396667 %\n",
            "focus_false_pred_false 19152 =============> FFPF : 63.840000 %\n",
            "argmax_more_than_half ==================>  0\n",
            "argmax_less_than_half ==================>  30000\n",
            "30000\n",
            "====================================================================================================\n"
          ]
        }
      ],
      "source": [
        "correct = 0\n",
        "total = 0\n",
        "count = 0\n",
        "flag = 1\n",
        "focus_true_pred_true =0\n",
        "focus_false_pred_true =0\n",
        "focus_true_pred_false =0\n",
        "focus_false_pred_false =0\n",
        "\n",
        "argmax_more_than_half = 0\n",
        "argmax_less_than_half =0\n",
        "\n",
        "with torch.no_grad():\n",
        "  for data in train_loader:\n",
        "    inputs, labels , fore_idx = data\n",
        "    inputs = inputs.double()\n",
        "    inputs, labels , fore_idx = inputs.to(\"cuda\"),labels.to(\"cuda\"), fore_idx.to(\"cuda\")\n",
        "    alphas, avg_images = focus_net(inputs)\n",
        "    # print(alphas)\n",
        "    outputs = classify(avg_images)\n",
        "\n",
        "    _, predicted = torch.max(outputs.data, 1)\n",
        "\n",
        "    for j in range(labels.size(0)):\n",
        "      count += 1\n",
        "      focus = torch.argmax(alphas[j])\n",
        "      if alphas[j][focus] >= 0.5 :\n",
        "        argmax_more_than_half += 1\n",
        "      else:\n",
        "        argmax_less_than_half += 1\n",
        "\n",
        "      if(focus == fore_idx[j] and predicted[j] == labels[j]):\n",
        "          focus_true_pred_true += 1\n",
        "      elif(focus != fore_idx[j] and predicted[j] == labels[j]):\n",
        "        focus_false_pred_true += 1\n",
        "      elif(focus == fore_idx[j] and predicted[j] != labels[j]):\n",
        "        focus_true_pred_false += 1\n",
        "      elif(focus != fore_idx[j] and predicted[j] != labels[j]):\n",
        "        focus_false_pred_false += 1\n",
        "\n",
        "    total += labels.size(0)\n",
        "    correct += (predicted == labels).sum().item()\n",
        "\n",
        "print('Accuracy of the network on the 30000 train images: %f %%' % ( 100 * correct / total))\n",
        "print(\"total correct\", correct)\n",
        "print(\"total train set images\", total)\n",
        "\n",
        "print(\"focus_true_pred_true %d =============> FTPT : %f %%\" % (focus_true_pred_true , (100 * focus_true_pred_true / total) ) )\n",
        "print(\"focus_false_pred_true %d =============> FFPT : %f %%\" % (focus_false_pred_true, (100 * focus_false_pred_true / total) ) )\n",
        "print(\"focus_true_pred_false %d =============> FTPF : %f %%\" %( focus_true_pred_false , ( 100 * focus_true_pred_false / total) ) )\n",
        "print(\"focus_false_pred_false %d =============> FFPF : %f %%\" % (focus_false_pred_false, ( 100 * focus_false_pred_false / total) ) )\n",
        "\n",
        "print(\"argmax_more_than_half ==================> \",argmax_more_than_half)\n",
        "print(\"argmax_less_than_half ==================> \",argmax_less_than_half)\n",
        "print(count)\n",
        "\n",
        "print(\"=\"*100)\n",
        "\n",
        "col1.append(0)\n",
        "col2.append(argmax_more_than_half)\n",
        "col3.append(argmax_less_than_half)\n",
        "col4.append(focus_true_pred_true)\n",
        "col5.append(focus_false_pred_true)\n",
        "col6.append(focus_true_pred_false)\n",
        "col7.append(focus_false_pred_false)"
      ]
    },
    {
      "cell_type": "code",
      "execution_count": 41,
      "id": "84ca9d03",
      "metadata": {
        "execution": {
          "iopub.execute_input": "2021-09-07T04:25:53.457008Z",
          "iopub.status.busy": "2021-09-07T04:25:53.455567Z",
          "iopub.status.idle": "2021-09-07T04:26:01.109375Z",
          "shell.execute_reply": "2021-09-07T04:26:01.108892Z",
          "shell.execute_reply.started": "2021-09-07T03:26:45.135210Z"
        },
        "id": "84ca9d03",
        "outputId": "386e4649-6f4a-43b5-9220-ad830cfff69b",
        "papermill": {
          "duration": 7.708972,
          "end_time": "2021-09-07T04:26:01.109508",
          "exception": false,
          "start_time": "2021-09-07T04:25:53.400536",
          "status": "completed"
        },
        "tags": [],
        "colab": {
          "base_uri": "https://localhost:8080/"
        }
      },
      "outputs": [
        {
          "output_type": "stream",
          "name": "stdout",
          "text": [
            "Accuracy of the network on the 10000 test images: 33.330000 %\n",
            "total correct 3333\n",
            "total train set images 10000\n",
            "focus_true_pred_true 157 =============> FTPT : 1.570000 %\n",
            "focus_false_pred_true 3176 =============> FFPT : 31.760000 %\n",
            "focus_true_pred_false 300 =============> FTPF : 3.000000 %\n",
            "focus_false_pred_false 6367 =============> FFPF : 63.670000 %\n",
            "argmax_more_than_half ==================>  0\n",
            "argmax_less_than_half ==================>  10000\n"
          ]
        }
      ],
      "source": [
        "correct = 0\n",
        "total = 0\n",
        "count = 0\n",
        "flag = 1\n",
        "focus_true_pred_true =0\n",
        "focus_false_pred_true =0\n",
        "focus_true_pred_false =0\n",
        "focus_false_pred_false =0\n",
        "\n",
        "argmax_more_than_half = 0\n",
        "argmax_less_than_half =0\n",
        "\n",
        "with torch.no_grad():\n",
        "  for data in test_loader:\n",
        "    inputs, labels , fore_idx = data\n",
        "    inputs = inputs.double()\n",
        "    inputs, labels , fore_idx = inputs.to(\"cuda\"),labels.to(\"cuda\"), fore_idx.to(\"cuda\")\n",
        "    alphas, avg_images = focus_net(inputs)\n",
        "    outputs = classify(avg_images)\n",
        "\n",
        "    _, predicted = torch.max(outputs.data, 1)\n",
        "\n",
        "    for j in range(labels.size(0)):\n",
        "      focus = torch.argmax(alphas[j])\n",
        "      if alphas[j][focus] >= 0.5 :\n",
        "        argmax_more_than_half += 1\n",
        "      else:\n",
        "        argmax_less_than_half += 1\n",
        "\n",
        "      if(focus == fore_idx[j] and predicted[j] == labels[j]):\n",
        "          focus_true_pred_true += 1\n",
        "      elif(focus != fore_idx[j] and predicted[j] == labels[j]):\n",
        "        focus_false_pred_true += 1\n",
        "      elif(focus == fore_idx[j] and predicted[j] != labels[j]):\n",
        "        focus_true_pred_false += 1\n",
        "      elif(focus != fore_idx[j] and predicted[j] != labels[j]):\n",
        "        focus_false_pred_false += 1\n",
        "\n",
        "    total += labels.size(0)\n",
        "    correct += (predicted == labels).sum().item()\n",
        "\n",
        "print('Accuracy of the network on the 10000 test images: %f %%' % (\n",
        "    100 * correct / total))\n",
        "print(\"total correct\", correct)\n",
        "print(\"total train set images\", total)\n",
        "\n",
        "print(\"focus_true_pred_true %d =============> FTPT : %f %%\" % (focus_true_pred_true , (100 * focus_true_pred_true / total) ) )\n",
        "print(\"focus_false_pred_true %d =============> FFPT : %f %%\" % (focus_false_pred_true, (100 * focus_false_pred_true / total) ) )\n",
        "print(\"focus_true_pred_false %d =============> FTPF : %f %%\" %( focus_true_pred_false , ( 100 * focus_true_pred_false / total) ) )\n",
        "print(\"focus_false_pred_false %d =============> FFPF : %f %%\" % (focus_false_pred_false, ( 100 * focus_false_pred_false / total) ) )\n",
        "\n",
        "print(\"argmax_more_than_half ==================> \",argmax_more_than_half)\n",
        "print(\"argmax_less_than_half ==================> \",argmax_less_than_half)\n",
        "col8.append(argmax_more_than_half)\n",
        "col9.append(argmax_less_than_half)\n",
        "col10.append(focus_true_pred_true)\n",
        "col11.append(focus_false_pred_true)\n",
        "col12.append(focus_true_pred_false)\n",
        "col13.append(focus_false_pred_false)"
      ]
    },
    {
      "cell_type": "code",
      "execution_count": null,
      "id": "032ee5e7",
      "metadata": {
        "execution": {
          "iopub.execute_input": "2021-09-07T04:26:01.214908Z",
          "iopub.status.busy": "2021-09-07T04:26:01.214088Z",
          "iopub.status.idle": "2021-09-07T05:10:54.957393Z",
          "shell.execute_reply": "2021-09-07T05:10:54.956461Z"
        },
        "id": "032ee5e7",
        "outputId": "fe9d2b67-e655-49f5-e012-9c491fbabb83",
        "papermill": {
          "duration": 2693.805349,
          "end_time": "2021-09-07T05:10:54.957573",
          "exception": false,
          "start_time": "2021-09-07T04:26:01.152224",
          "status": "completed"
        },
        "tags": [],
        "colab": {
          "base_uri": "https://localhost:8080/"
        }
      },
      "outputs": [
        {
          "output_type": "stream",
          "name": "stdout",
          "text": [
            "[1,   150] loss: 1.097\n",
            "[1,   300] loss: 1.086\n",
            "====================\n",
            "Train FTPT :  [510, 1119]\n",
            "Train FFPT :  [9319, 10098]\n",
            "Test FTPT :  [157, 247]\n",
            "Test FFPT :  [3176, 3552]\n",
            "====================\n",
            "[2,   150] loss: 1.068\n",
            "[2,   300] loss: 1.052\n",
            "[3,   150] loss: 1.032\n",
            "[3,   300] loss: 1.003\n",
            "[4,   150] loss: 0.947\n",
            "[4,   300] loss: 0.904\n",
            "[5,   150] loss: 0.848\n",
            "[5,   300] loss: 0.798\n"
          ]
        }
      ],
      "source": [
        "nos_epochs = 200\n",
        "focus_true_pred_true =0\n",
        "focus_false_pred_true =0\n",
        "focus_true_pred_false =0\n",
        "focus_false_pred_false =0\n",
        "\n",
        "argmax_more_than_half = 0\n",
        "argmax_less_than_half =0\n",
        "\n",
        "\n",
        "for epoch in range(nos_epochs):  # loop over the dataset multiple times\n",
        "\n",
        "  focus_true_pred_true =0\n",
        "  focus_false_pred_true =0\n",
        "  focus_true_pred_false =0\n",
        "  focus_false_pred_false =0\n",
        "  \n",
        "  argmax_more_than_half = 0\n",
        "  argmax_less_than_half =0\n",
        "  \n",
        "  running_loss = 0.0\n",
        "  epoch_loss = []\n",
        "  cnt=0\n",
        "\n",
        "  iteration = desired_num // batch\n",
        "  \n",
        "  #training data set\n",
        "  \n",
        "  for i, data in  enumerate(train_loader):\n",
        "    inputs , labels , fore_idx = data\n",
        "    inputs, labels = inputs.to(\"cuda\"), labels.to(\"cuda\")\n",
        "    inputs = inputs.double()\n",
        "    # zero the parameter gradients\n",
        "    \n",
        "    optimizer_focus.zero_grad()\n",
        "    optimizer_classify.zero_grad()\n",
        "    \n",
        "    alphas, avg_images = focus_net(inputs)\n",
        "    outputs = classify(avg_images)\n",
        "\n",
        "    _, predicted = torch.max(outputs.data, 1)\n",
        "#     print(outputs)\n",
        "#     print(outputs.shape,labels.shape , torch.argmax(outputs, dim=1))\n",
        "\n",
        "    loss = criterion(outputs, labels) \n",
        "    loss.backward()\n",
        "    optimizer_focus.step()\n",
        "    optimizer_classify.step()\n",
        "\n",
        "    running_loss += loss.item()\n",
        "    mini = 150\n",
        "    if cnt % mini == mini-1:    # print every 40 mini-batches\n",
        "      print('[%d, %5d] loss: %.3f' %(epoch + 1, cnt + 1, running_loss / mini))\n",
        "      epoch_loss.append(running_loss/mini)\n",
        "      running_loss = 0.0\n",
        "    cnt=cnt+1\n",
        "    \n",
        "    if epoch % 5 == 0:\n",
        "      for j in range (inputs.size(0)):\n",
        "        #print(alphas.shape)\n",
        "        focus = torch.argmax(alphas[j])\n",
        "\n",
        "        if(alphas[j][focus] >= 0.5):\n",
        "          argmax_more_than_half +=1\n",
        "        else:\n",
        "          argmax_less_than_half +=1\n",
        "\n",
        "        if(focus == fore_idx[j] and predicted[j] == labels[j]):\n",
        "          focus_true_pred_true += 1\n",
        "\n",
        "        elif(focus != fore_idx[j] and predicted[j] == labels[j]):\n",
        "          focus_false_pred_true +=1\n",
        "\n",
        "        elif(focus == fore_idx[j] and predicted[j] != labels[j]):\n",
        "          focus_true_pred_false +=1\n",
        "\n",
        "        elif(focus != fore_idx[j] and predicted[j] != labels[j]):\n",
        "          focus_false_pred_false +=1\n",
        "\n",
        "  if(np.mean(epoch_loss) <= 0.01):\n",
        "      break;\n",
        "\n",
        "  if epoch % 5 == 0:\n",
        "    col1.append(epoch + 1)\n",
        "    col2.append(argmax_more_than_half)\n",
        "    col3.append(argmax_less_than_half)\n",
        "    col4.append(focus_true_pred_true)\n",
        "    col5.append(focus_false_pred_true)\n",
        "    col6.append(focus_true_pred_false)\n",
        "    col7.append(focus_false_pred_false)\n",
        "    print(\"=\"*20)\n",
        "    print(\"Train FTPT : \", col4)\n",
        "    print(\"Train FFPT : \", col5)\n",
        "    #************************************************************************\n",
        "    #testing data set  \n",
        "    # focus_net.eval()\n",
        "    with torch.no_grad():\n",
        "      focus_true_pred_true =0\n",
        "      focus_false_pred_true =0\n",
        "      focus_true_pred_false =0\n",
        "      focus_false_pred_false =0\n",
        "\n",
        "      argmax_more_than_half = 0\n",
        "      argmax_less_than_half =0\n",
        "      for data in test_loader:\n",
        "        inputs, labels , fore_idx = data\n",
        "        inputs = inputs.double()\n",
        "        inputs, labels = inputs.to(\"cuda\"), labels.to(\"cuda\")\n",
        "        alphas, avg_images = focus_net(inputs)\n",
        "        outputs = classify(avg_images)\n",
        "        _, predicted = torch.max(outputs.data, 1)\n",
        "\n",
        "        for j in range (inputs.size(0)):\n",
        "          focus = torch.argmax(alphas[j],dim=-1)\n",
        "\n",
        "          if(alphas[j][focus] >= 0.5):\n",
        "            argmax_more_than_half +=1\n",
        "          else:\n",
        "            argmax_less_than_half +=1\n",
        "\n",
        "          if(focus == fore_idx[j] and predicted[j] == labels[j]):\n",
        "            focus_true_pred_true += 1\n",
        "\n",
        "          elif(focus != fore_idx[j] and predicted[j] == labels[j]):\n",
        "            focus_false_pred_true +=1\n",
        "\n",
        "          elif(focus == fore_idx[j] and predicted[j] != labels[j]):\n",
        "            focus_true_pred_false +=1\n",
        "\n",
        "          elif(focus != fore_idx[j] and predicted[j] != labels[j]):\n",
        "            focus_false_pred_false +=1\n",
        "      \n",
        "    col8.append(argmax_more_than_half)\n",
        "    col9.append(argmax_less_than_half)\n",
        "    col10.append(focus_true_pred_true)\n",
        "    col11.append(focus_false_pred_true)\n",
        "    col12.append(focus_true_pred_false)\n",
        "    col13.append(focus_false_pred_false)\n",
        "    print(\"Test FTPT : \", col10)\n",
        "    print(\"Test FFPT : \", col11)\n",
        "    print(\"=\"*20)\n",
        "    \n",
        "print('Finished Training')"
      ]
    },
    {
      "cell_type": "code",
      "execution_count": null,
      "id": "543529a6",
      "metadata": {
        "execution": {
          "iopub.execute_input": "2021-09-07T05:10:55.322225Z",
          "iopub.status.busy": "2021-09-07T05:10:55.321696Z",
          "iopub.status.idle": "2021-09-07T05:10:55.353508Z",
          "shell.execute_reply": "2021-09-07T05:10:55.353902Z"
        },
        "id": "543529a6",
        "papermill": {
          "duration": 0.156969,
          "end_time": "2021-09-07T05:10:55.354047",
          "exception": false,
          "start_time": "2021-09-07T05:10:55.197078",
          "status": "completed"
        },
        "tags": []
      },
      "outputs": [],
      "source": [
        "torch.save(focus_net.state_dict(),path+\"_focus.pt\")\n",
        "torch.save(classify.state_dict(),path+\"_classify.pt\")"
      ]
    },
    {
      "cell_type": "code",
      "execution_count": null,
      "id": "4d1dc161",
      "metadata": {
        "execution": {
          "iopub.execute_input": "2021-09-07T05:10:55.549021Z",
          "iopub.status.busy": "2021-09-07T05:10:55.548381Z",
          "iopub.status.idle": "2021-09-07T05:10:55.551645Z",
          "shell.execute_reply": "2021-09-07T05:10:55.551222Z"
        },
        "id": "4d1dc161",
        "papermill": {
          "duration": 0.103562,
          "end_time": "2021-09-07T05:10:55.551749",
          "exception": false,
          "start_time": "2021-09-07T05:10:55.448187",
          "status": "completed"
        },
        "tags": []
      },
      "outputs": [],
      "source": [
        "df_train = pd.DataFrame()\n",
        "df_test = pd.DataFrame()"
      ]
    },
    {
      "cell_type": "code",
      "execution_count": null,
      "id": "c4ef918b",
      "metadata": {
        "execution": {
          "iopub.execute_input": "2021-09-07T05:10:55.759104Z",
          "iopub.status.busy": "2021-09-07T05:10:55.758228Z",
          "iopub.status.idle": "2021-09-07T05:10:55.760539Z",
          "shell.execute_reply": "2021-09-07T05:10:55.760969Z"
        },
        "id": "c4ef918b",
        "papermill": {
          "duration": 0.10782,
          "end_time": "2021-09-07T05:10:55.761096",
          "exception": false,
          "start_time": "2021-09-07T05:10:55.653276",
          "status": "completed"
        },
        "tags": []
      },
      "outputs": [],
      "source": [
        "columns = [\"epochs\", \"argmax > 0.5\" ,\"argmax < 0.5\", \"focus_true_pred_true\", \"focus_false_pred_true\", \"focus_true_pred_false\", \"focus_false_pred_false\" ]"
      ]
    },
    {
      "cell_type": "code",
      "execution_count": null,
      "id": "c53786dd",
      "metadata": {
        "execution": {
          "iopub.execute_input": "2021-09-07T05:10:55.989833Z",
          "iopub.status.busy": "2021-09-07T05:10:55.988238Z",
          "iopub.status.idle": "2021-09-07T05:10:55.990685Z",
          "shell.execute_reply": "2021-09-07T05:10:55.991090Z"
        },
        "id": "c53786dd",
        "papermill": {
          "duration": 0.128715,
          "end_time": "2021-09-07T05:10:55.991234",
          "exception": false,
          "start_time": "2021-09-07T05:10:55.862519",
          "status": "completed"
        },
        "tags": []
      },
      "outputs": [],
      "source": [
        "df_train[columns[0]] = col1\n",
        "df_train[columns[1]] = col2\n",
        "df_train[columns[2]] = col3\n",
        "df_train[columns[3]] = col4\n",
        "df_train[columns[4]] = col5\n",
        "df_train[columns[5]] = col6\n",
        "df_train[columns[6]] = col7\n",
        "\n",
        "df_test[columns[0]] = col1\n",
        "df_test[columns[1]] = col8\n",
        "df_test[columns[2]] = col9\n",
        "df_test[columns[3]] = col10\n",
        "df_test[columns[4]] = col11\n",
        "df_test[columns[5]] = col12\n",
        "df_test[columns[6]] = col13"
      ]
    },
    {
      "cell_type": "code",
      "execution_count": null,
      "id": "241727ba",
      "metadata": {
        "execution": {
          "iopub.execute_input": "2021-09-07T05:10:56.199811Z",
          "iopub.status.busy": "2021-09-07T05:10:56.199279Z",
          "iopub.status.idle": "2021-09-07T05:10:56.218046Z",
          "shell.execute_reply": "2021-09-07T05:10:56.217606Z"
        },
        "id": "241727ba",
        "papermill": {
          "duration": 0.124832,
          "end_time": "2021-09-07T05:10:56.218204",
          "exception": false,
          "start_time": "2021-09-07T05:10:56.093372",
          "status": "completed"
        },
        "tags": []
      },
      "outputs": [],
      "source": [
        "df_train"
      ]
    },
    {
      "cell_type": "code",
      "execution_count": null,
      "id": "c27db92a",
      "metadata": {
        "execution": {
          "iopub.execute_input": "2021-09-07T05:10:56.413815Z",
          "iopub.status.busy": "2021-09-07T05:10:56.413321Z",
          "iopub.status.idle": "2021-09-07T05:10:56.421783Z",
          "shell.execute_reply": "2021-09-07T05:10:56.421361Z"
        },
        "id": "c27db92a",
        "papermill": {
          "duration": 0.105965,
          "end_time": "2021-09-07T05:10:56.421883",
          "exception": false,
          "start_time": "2021-09-07T05:10:56.315918",
          "status": "completed"
        },
        "tags": []
      },
      "outputs": [],
      "source": [
        "df_train.to_csv(path+\"_train.csv\",index=False)"
      ]
    },
    {
      "cell_type": "code",
      "execution_count": null,
      "id": "e0b2ae2e",
      "metadata": {
        "execution": {
          "iopub.execute_input": "2021-09-07T05:10:56.628548Z",
          "iopub.status.busy": "2021-09-07T05:10:56.627746Z",
          "iopub.status.idle": "2021-09-07T05:10:56.758580Z",
          "shell.execute_reply": "2021-09-07T05:10:56.759032Z"
        },
        "id": "e0b2ae2e",
        "papermill": {
          "duration": 0.242106,
          "end_time": "2021-09-07T05:10:56.759161",
          "exception": false,
          "start_time": "2021-09-07T05:10:56.517055",
          "status": "completed"
        },
        "tags": []
      },
      "outputs": [],
      "source": [
        "# plt.figure(12,12)\n",
        "plt.plot(col1,col2, label='argmax > 0.5')\n",
        "plt.plot(col1,col3, label='argmax < 0.5')\n",
        "\n",
        "plt.legend(loc='center left', bbox_to_anchor=(1, 0.5))\n",
        "plt.xlabel(\"epochs\")\n",
        "plt.ylabel(\"training data\")\n",
        "plt.title(\"On Training set\")\n",
        "plt.show()\n",
        "\n"
      ]
    },
    {
      "cell_type": "code",
      "execution_count": null,
      "id": "cefa93f7",
      "metadata": {
        "execution": {
          "iopub.execute_input": "2021-09-07T05:10:56.972500Z",
          "iopub.status.busy": "2021-09-07T05:10:56.971485Z",
          "iopub.status.idle": "2021-09-07T05:10:57.557382Z",
          "shell.execute_reply": "2021-09-07T05:10:57.557767Z"
        },
        "id": "cefa93f7",
        "papermill": {
          "duration": 0.698837,
          "end_time": "2021-09-07T05:10:57.557918",
          "exception": false,
          "start_time": "2021-09-07T05:10:56.859081",
          "status": "completed"
        },
        "tags": []
      },
      "outputs": [],
      "source": [
        "plt.figure(figsize=(6,5))\n",
        "plt.plot(col1,np.array(col4)/300, label =\"FTPT\")\n",
        "plt.plot(col1,np.array(col5)/300, label =\"FFPT\")\n",
        "plt.plot(col1,np.array(col6)/300, label =\"FTPF\")\n",
        "plt.plot(col1,np.array(col7)/300, label =\"FFPF\")\n",
        "plt.title(\"CIFAR - SDC On Train set\")\n",
        "plt.grid()\n",
        "# plt.legend(loc='center left', bbox_to_anchor=(1, 0.5))\n",
        "plt.legend()\n",
        "plt.xlabel(\"epochs\", fontsize=14, fontweight = 'bold')\n",
        "plt.ylabel(\"percentage train data\", fontsize=14, fontweight = 'bold')\n",
        "# plt.savefig(path+\"cifar_train.png\", bbox_inches=\"tight\")\n",
        "# plt.savefig(path+\"cifar_train.pdf\", bbox_inches=\"tight\")\n",
        "plt.savefig(path+\"cifar_train.png\", bbox_inches=\"tight\")\n",
        "plt.savefig(path+\"cifar_train.pdf\", bbox_inches=\"tight\")\n",
        "plt.show()"
      ]
    },
    {
      "cell_type": "code",
      "execution_count": null,
      "id": "f824396f",
      "metadata": {
        "execution": {
          "iopub.execute_input": "2021-09-07T05:10:57.773581Z",
          "iopub.status.busy": "2021-09-07T05:10:57.772826Z",
          "iopub.status.idle": "2021-09-07T05:10:57.777927Z",
          "shell.execute_reply": "2021-09-07T05:10:57.777532Z"
        },
        "id": "f824396f",
        "papermill": {
          "duration": 0.116135,
          "end_time": "2021-09-07T05:10:57.778038",
          "exception": false,
          "start_time": "2021-09-07T05:10:57.661903",
          "status": "completed"
        },
        "tags": []
      },
      "outputs": [],
      "source": [
        "df_test"
      ]
    },
    {
      "cell_type": "code",
      "execution_count": null,
      "id": "93452628",
      "metadata": {
        "execution": {
          "iopub.execute_input": "2021-09-07T05:10:57.978279Z",
          "iopub.status.busy": "2021-09-07T05:10:57.977730Z",
          "iopub.status.idle": "2021-09-07T05:10:57.980834Z",
          "shell.execute_reply": "2021-09-07T05:10:57.980287Z"
        },
        "id": "93452628",
        "papermill": {
          "duration": 0.105273,
          "end_time": "2021-09-07T05:10:57.980952",
          "exception": false,
          "start_time": "2021-09-07T05:10:57.875679",
          "status": "completed"
        },
        "tags": []
      },
      "outputs": [],
      "source": [
        "df_test.to_csv(path+\"_test.csv\",index=False)"
      ]
    },
    {
      "cell_type": "code",
      "execution_count": null,
      "id": "c0861137",
      "metadata": {
        "execution": {
          "iopub.execute_input": "2021-09-07T05:10:58.186464Z",
          "iopub.status.busy": "2021-09-07T05:10:58.185599Z",
          "iopub.status.idle": "2021-09-07T05:10:58.323676Z",
          "shell.execute_reply": "2021-09-07T05:10:58.323259Z"
        },
        "id": "c0861137",
        "papermill": {
          "duration": 0.241781,
          "end_time": "2021-09-07T05:10:58.323789",
          "exception": false,
          "start_time": "2021-09-07T05:10:58.082008",
          "status": "completed"
        },
        "tags": []
      },
      "outputs": [],
      "source": [
        "# plt.figure(12,12)\n",
        "plt.plot(col1,col8, label='argmax > 0.5')\n",
        "plt.plot(col1,col9, label='argmax < 0.5')\n",
        "\n",
        "plt.legend(loc='center left', bbox_to_anchor=(1, 0.5))\n",
        "plt.xlabel(\"epochs\")\n",
        "plt.ylabel(\"Testing data\")\n",
        "plt.title(\"On Testing set\")\n",
        "plt.show()\n",
        "\n"
      ]
    },
    {
      "cell_type": "code",
      "execution_count": null,
      "id": "a56719d1",
      "metadata": {
        "execution": {
          "iopub.execute_input": "2021-09-07T05:10:58.554854Z",
          "iopub.status.busy": "2021-09-07T05:10:58.546913Z",
          "iopub.status.idle": "2021-09-07T05:10:59.017863Z",
          "shell.execute_reply": "2021-09-07T05:10:59.017101Z"
        },
        "id": "a56719d1",
        "papermill": {
          "duration": 0.591676,
          "end_time": "2021-09-07T05:10:59.017981",
          "exception": false,
          "start_time": "2021-09-07T05:10:58.426305",
          "status": "completed"
        },
        "tags": []
      },
      "outputs": [],
      "source": [
        "plt.figure(figsize=(6,5))\n",
        "plt.plot(col1,np.array(col10)/100, label =\"FTPT\")\n",
        "plt.plot(col1,np.array(col11)/100, label =\"FFPT\")\n",
        "plt.plot(col1,np.array(col12)/100, label =\"FTPF\")\n",
        "plt.plot(col1,np.array(col13)/100, label =\"FFPF\")\n",
        "plt.title(\"CIFAR - SDC On Test set\")\n",
        "plt.grid()\n",
        "# plt.legend(loc='center left', bbox_to_anchor=(1, 0.5))\n",
        "plt.legend()\n",
        "plt.xlabel(\"epochs\", fontsize=14, fontweight = 'bold')\n",
        "plt.ylabel(\"percentage test data\", fontsize=14, fontweight = 'bold')\n",
        "# plt.savefig(path+\"cifar_test.png\", bbox_inches=\"tight\")\n",
        "# plt.savefig(path+\"cifar_test.pdf\", bbox_inches=\"tight\")\n",
        "plt.savefig(path+\"cifar_test.png\", bbox_inches=\"tight\")\n",
        "plt.savefig(path+\"cifar_test.pdf\", bbox_inches=\"tight\")\n",
        "plt.show()"
      ]
    },
    {
      "cell_type": "code",
      "execution_count": null,
      "id": "3eacb413",
      "metadata": {
        "execution": {
          "iopub.execute_input": "2021-09-07T05:10:59.232247Z",
          "iopub.status.busy": "2021-09-07T05:10:59.231470Z",
          "iopub.status.idle": "2021-09-07T05:11:21.628407Z",
          "shell.execute_reply": "2021-09-07T05:11:21.628992Z"
        },
        "id": "3eacb413",
        "papermill": {
          "duration": 22.510266,
          "end_time": "2021-09-07T05:11:21.629204",
          "exception": false,
          "start_time": "2021-09-07T05:10:59.118938",
          "status": "completed"
        },
        "tags": []
      },
      "outputs": [],
      "source": [
        "correct = 0\n",
        "total = 0\n",
        "count = 0\n",
        "flag = 1\n",
        "focus_true_pred_true =0\n",
        "focus_false_pred_true =0\n",
        "focus_true_pred_false =0\n",
        "focus_false_pred_false =0\n",
        "\n",
        "argmax_more_than_half = 0\n",
        "argmax_less_than_half =0\n",
        "\n",
        "with torch.no_grad():\n",
        "  for data in train_loader:\n",
        "    inputs, labels , fore_idx = data\n",
        "    inputs = inputs.double()\n",
        "    inputs, labels , fore_idx = inputs.to(\"cuda\"),labels.to(\"cuda\"), fore_idx.to(\"cuda\")\n",
        "    alphas, avg_images = focus_net(inputs)\n",
        "    outputs = classify(avg_images)\n",
        "\n",
        "    _, predicted = torch.max(outputs.data, 1)\n",
        "\n",
        "    for j in range(labels.size(0)):\n",
        "      focus = torch.argmax(alphas[j])\n",
        "      if alphas[j][focus] >= 0.5 :\n",
        "        argmax_more_than_half += 1\n",
        "      else:\n",
        "        argmax_less_than_half += 1\n",
        "\n",
        "      if(focus == fore_idx[j] and predicted[j] == labels[j]):\n",
        "          focus_true_pred_true += 1\n",
        "      elif(focus != fore_idx[j] and predicted[j] == labels[j]):\n",
        "        focus_false_pred_true += 1\n",
        "      elif(focus == fore_idx[j] and predicted[j] != labels[j]):\n",
        "        focus_true_pred_false += 1\n",
        "      elif(focus != fore_idx[j] and predicted[j] != labels[j]):\n",
        "        focus_false_pred_false += 1\n",
        "\n",
        "    total += labels.size(0)\n",
        "    correct += (predicted == labels).sum().item()\n",
        "\n",
        "print('Accuracy of the network on the  train images: %f %%' % (\n",
        "    100 * correct / total))\n",
        "print(\"total correct\", correct)\n",
        "print(\"total train set images\", total)\n",
        "\n",
        "print(\"focus_true_pred_true %d =============> FTPT : %f %%\" % (focus_true_pred_true , (100 * focus_true_pred_true / total) ) )\n",
        "print(\"focus_false_pred_true %d =============> FFPT : %f %%\" % (focus_false_pred_true, (100 * focus_false_pred_true / total) ) )\n",
        "print(\"focus_true_pred_false %d =============> FTPF : %f %%\" %( focus_true_pred_false , ( 100 * focus_true_pred_false / total) ) )\n",
        "print(\"focus_false_pred_false %d =============> FFPF : %f %%\" % (focus_false_pred_false, ( 100 * focus_false_pred_false / total) ) )\n",
        "\n",
        "print(\"argmax_more_than_half ==================> \",argmax_more_than_half)\n",
        "print(\"argmax_less_than_half ==================> \",argmax_less_than_half)"
      ]
    },
    {
      "cell_type": "code",
      "execution_count": null,
      "id": "0daa54d2",
      "metadata": {
        "execution": {
          "iopub.execute_input": "2021-09-07T05:11:21.838561Z",
          "iopub.status.busy": "2021-09-07T05:11:21.837074Z",
          "iopub.status.idle": "2021-09-07T05:11:29.627666Z",
          "shell.execute_reply": "2021-09-07T05:11:29.628211Z"
        },
        "id": "0daa54d2",
        "papermill": {
          "duration": 7.900859,
          "end_time": "2021-09-07T05:11:29.628407",
          "exception": false,
          "start_time": "2021-09-07T05:11:21.727548",
          "status": "completed"
        },
        "tags": []
      },
      "outputs": [],
      "source": [
        "correct = 0\n",
        "total = 0\n",
        "count = 0\n",
        "flag = 1\n",
        "focus_true_pred_true =0\n",
        "focus_false_pred_true =0\n",
        "focus_true_pred_false =0\n",
        "focus_false_pred_false =0\n",
        "\n",
        "argmax_more_than_half = 0\n",
        "argmax_less_than_half =0\n",
        "\n",
        "with torch.no_grad():\n",
        "  for data in test_loader:\n",
        "    inputs, labels , fore_idx = data\n",
        "    inputs = inputs.double()\n",
        "    inputs, labels , fore_idx = inputs.to(\"cuda\"),labels.to(\"cuda\"), fore_idx.to(\"cuda\")\n",
        "    alphas, avg_images = focus_net(inputs)\n",
        "    outputs = classify(avg_images)\n",
        "\n",
        "    _, predicted = torch.max(outputs.data, 1)\n",
        "\n",
        "    for j in range(labels.size(0)):\n",
        "      focus = torch.argmax(alphas[j])\n",
        "      if alphas[j][focus] >= 0.5 :\n",
        "        argmax_more_than_half += 1\n",
        "      else:\n",
        "        argmax_less_than_half += 1\n",
        "\n",
        "      if(focus == fore_idx[j] and predicted[j] == labels[j]):\n",
        "          focus_true_pred_true += 1\n",
        "      elif(focus != fore_idx[j] and predicted[j] == labels[j]):\n",
        "        focus_false_pred_true += 1\n",
        "      elif(focus == fore_idx[j] and predicted[j] != labels[j]):\n",
        "        focus_true_pred_false += 1\n",
        "      elif(focus != fore_idx[j] and predicted[j] != labels[j]):\n",
        "        focus_false_pred_false += 1\n",
        "\n",
        "    total += labels.size(0)\n",
        "    correct += (predicted == labels).sum().item()\n",
        "\n",
        "print('Accuracy of the network on the  test images: %f %%' % (\n",
        "    100 * correct / total))\n",
        "print(\"total correct\", correct)\n",
        "print(\"total train set images\", total)\n",
        "\n",
        "print(\"focus_true_pred_true %d =============> FTPT : %f %%\" % (focus_true_pred_true , (100 * focus_true_pred_true / total) ) )\n",
        "print(\"focus_false_pred_true %d =============> FFPT : %f %%\" % (focus_false_pred_true, (100 * focus_false_pred_true / total) ) )\n",
        "print(\"focus_true_pred_false %d =============> FTPF : %f %%\" %( focus_true_pred_false , ( 100 * focus_true_pred_false / total) ) )\n",
        "print(\"focus_false_pred_false %d =============> FFPF : %f %%\" % (focus_false_pred_false, ( 100 * focus_false_pred_false / total) ) )\n",
        "\n",
        "print(\"argmax_more_than_half ==================> \",argmax_more_than_half)\n",
        "print(\"argmax_less_than_half ==================> \",argmax_less_than_half)"
      ]
    },
    {
      "cell_type": "code",
      "execution_count": null,
      "id": "5863e7c1",
      "metadata": {
        "execution": {
          "iopub.execute_input": "2021-09-07T05:11:29.833271Z",
          "iopub.status.busy": "2021-09-07T05:11:29.832522Z",
          "iopub.status.idle": "2021-09-07T05:11:46.333600Z",
          "shell.execute_reply": "2021-09-07T05:11:46.332967Z"
        },
        "id": "5863e7c1",
        "papermill": {
          "duration": 16.606088,
          "end_time": "2021-09-07T05:11:46.333763",
          "exception": false,
          "start_time": "2021-09-07T05:11:29.727675",
          "status": "completed"
        },
        "tags": []
      },
      "outputs": [],
      "source": [
        "correct = 0\n",
        "total = 0\n",
        "\n",
        "with torch.no_grad():\n",
        "  for data in train_loader:\n",
        "    inputs, labels , fore_idx = data\n",
        "    inputs = inputs.double()\n",
        "    inputs, labels = inputs.to(\"cuda\"), labels.to(\"cuda\")\n",
        "    alphas, avg_images = focus_net(inputs)\n",
        "    outputs = classify(avg_images)\n",
        "\n",
        "    _, predicted = torch.max(outputs.data, 1)\n",
        "\n",
        "    total += labels.size(0)\n",
        "    correct += (predicted == labels).sum().item()\n",
        "\n",
        "print('Accuracy of the network on the  train images: %f %%' % ( 100 * correct / total))\n",
        "print(\"total correct\", correct)\n",
        "print(\"total train set images\", total)"
      ]
    },
    {
      "cell_type": "code",
      "execution_count": null,
      "id": "d749907d",
      "metadata": {
        "execution": {
          "iopub.execute_input": "2021-09-07T05:11:46.537051Z",
          "iopub.status.busy": "2021-09-07T05:11:46.536048Z",
          "iopub.status.idle": "2021-09-07T05:11:52.166490Z",
          "shell.execute_reply": "2021-09-07T05:11:52.166009Z"
        },
        "id": "d749907d",
        "papermill": {
          "duration": 5.734594,
          "end_time": "2021-09-07T05:11:52.166622",
          "exception": false,
          "start_time": "2021-09-07T05:11:46.432028",
          "status": "completed"
        },
        "tags": []
      },
      "outputs": [],
      "source": [
        "correct = 0\n",
        "total = 0\n",
        "\n",
        "with torch.no_grad():\n",
        "  for data in test_loader:\n",
        "    inputs, labels , fore_idx = data\n",
        "    inputs = inputs.double()\n",
        "    inputs, labels = inputs.to(\"cuda\"), labels.to(\"cuda\")\n",
        "    alphas, avg_images = focus_net(inputs)\n",
        "    outputs = classify(avg_images)\n",
        "\n",
        "    _, predicted = torch.max(outputs.data, 1)\n",
        "\n",
        "    total += labels.size(0)\n",
        "    correct += (predicted == labels).sum().item()\n",
        "\n",
        "print('Accuracy of the network on the 10000 test images: %f %%' % ( 100 * correct / total))\n",
        "print(\"total correct\", correct)\n",
        "print(\"total train set images\", total)"
      ]
    },
    {
      "cell_type": "code",
      "execution_count": null,
      "id": "5afc814f",
      "metadata": {
        "id": "5afc814f",
        "papermill": {
          "duration": 0.098506,
          "end_time": "2021-09-07T05:11:52.365716",
          "exception": false,
          "start_time": "2021-09-07T05:11:52.267210",
          "status": "completed"
        },
        "tags": []
      },
      "outputs": [],
      "source": [
        ""
      ]
    }
  ],
  "metadata": {
    "kernelspec": {
      "display_name": "Python 3",
      "language": "python",
      "name": "python3"
    },
    "language_info": {
      "codemirror_mode": {
        "name": "ipython",
        "version": 3
      },
      "file_extension": ".py",
      "mimetype": "text/x-python",
      "name": "python",
      "nbconvert_exporter": "python",
      "pygments_lexer": "ipython3",
      "version": "3.7.10"
    },
    "papermill": {
      "default_parameters": {},
      "duration": 2875.415394,
      "end_time": "2021-09-07T05:11:54.174497",
      "environment_variables": {},
      "exception": null,
      "input_path": "__notebook__.ipynb",
      "output_path": "__notebook__.ipynb",
      "parameters": {},
      "start_time": "2021-09-07T04:23:58.759103",
      "version": "2.3.3"
    },
    "widgets": {
      "application/vnd.jupyter.widget-state+json": {
        "8695e4487d5349e6bf417c3410ddee6f": {
          "model_module": "@jupyter-widgets/controls",
          "model_name": "HBoxModel",
          "model_module_version": "1.5.0",
          "state": {
            "_view_name": "HBoxView",
            "_dom_classes": [],
            "_model_name": "HBoxModel",
            "_view_module": "@jupyter-widgets/controls",
            "_model_module_version": "1.5.0",
            "_view_count": null,
            "_view_module_version": "1.5.0",
            "box_style": "",
            "layout": "IPY_MODEL_be8ba4ebe7b349969e83d16cdc2a10e8",
            "_model_module": "@jupyter-widgets/controls",
            "children": [
              "IPY_MODEL_7694528b5d8546719a540054df67d753",
              "IPY_MODEL_e7b7447789e74e5a87c23b1c71158739",
              "IPY_MODEL_85e1e60c43664e22966c599936d1a3f1"
            ]
          }
        },
        "be8ba4ebe7b349969e83d16cdc2a10e8": {
          "model_module": "@jupyter-widgets/base",
          "model_name": "LayoutModel",
          "model_module_version": "1.2.0",
          "state": {
            "_view_name": "LayoutView",
            "grid_template_rows": null,
            "right": null,
            "justify_content": null,
            "_view_module": "@jupyter-widgets/base",
            "overflow": null,
            "_model_module_version": "1.2.0",
            "_view_count": null,
            "flex_flow": null,
            "width": null,
            "min_width": null,
            "border": null,
            "align_items": null,
            "bottom": null,
            "_model_module": "@jupyter-widgets/base",
            "top": null,
            "grid_column": null,
            "overflow_y": null,
            "overflow_x": null,
            "grid_auto_flow": null,
            "grid_area": null,
            "grid_template_columns": null,
            "flex": null,
            "_model_name": "LayoutModel",
            "justify_items": null,
            "grid_row": null,
            "max_height": null,
            "align_content": null,
            "visibility": null,
            "align_self": null,
            "height": null,
            "min_height": null,
            "padding": null,
            "grid_auto_rows": null,
            "grid_gap": null,
            "max_width": null,
            "order": null,
            "_view_module_version": "1.2.0",
            "grid_template_areas": null,
            "object_position": null,
            "object_fit": null,
            "grid_auto_columns": null,
            "margin": null,
            "display": null,
            "left": null
          }
        },
        "7694528b5d8546719a540054df67d753": {
          "model_module": "@jupyter-widgets/controls",
          "model_name": "HTMLModel",
          "model_module_version": "1.5.0",
          "state": {
            "_view_name": "HTMLView",
            "style": "IPY_MODEL_3b2c8152c6fd4ae2b0aef0d201d0a902",
            "_dom_classes": [],
            "description": "",
            "_model_name": "HTMLModel",
            "placeholder": "​",
            "_view_module": "@jupyter-widgets/controls",
            "_model_module_version": "1.5.0",
            "value": "",
            "_view_count": null,
            "_view_module_version": "1.5.0",
            "description_tooltip": null,
            "_model_module": "@jupyter-widgets/controls",
            "layout": "IPY_MODEL_21f4830cecd148099d39c9f2006b1232"
          }
        },
        "e7b7447789e74e5a87c23b1c71158739": {
          "model_module": "@jupyter-widgets/controls",
          "model_name": "FloatProgressModel",
          "model_module_version": "1.5.0",
          "state": {
            "_view_name": "ProgressView",
            "style": "IPY_MODEL_06cdda41573646e4a3a06ca63914363b",
            "_dom_classes": [],
            "description": "",
            "_model_name": "FloatProgressModel",
            "bar_style": "success",
            "max": 170498071,
            "_view_module": "@jupyter-widgets/controls",
            "_model_module_version": "1.5.0",
            "value": 170498071,
            "_view_count": null,
            "_view_module_version": "1.5.0",
            "orientation": "horizontal",
            "min": 0,
            "description_tooltip": null,
            "_model_module": "@jupyter-widgets/controls",
            "layout": "IPY_MODEL_e838e0b00ce346e9974fe2d8b1974d1c"
          }
        },
        "85e1e60c43664e22966c599936d1a3f1": {
          "model_module": "@jupyter-widgets/controls",
          "model_name": "HTMLModel",
          "model_module_version": "1.5.0",
          "state": {
            "_view_name": "HTMLView",
            "style": "IPY_MODEL_b3ff9884eb7d4b06b0d3b38c5851c667",
            "_dom_classes": [],
            "description": "",
            "_model_name": "HTMLModel",
            "placeholder": "​",
            "_view_module": "@jupyter-widgets/controls",
            "_model_module_version": "1.5.0",
            "value": " 170499072/? [00:02&lt;00:00, 65761931.10it/s]",
            "_view_count": null,
            "_view_module_version": "1.5.0",
            "description_tooltip": null,
            "_model_module": "@jupyter-widgets/controls",
            "layout": "IPY_MODEL_987e78c58ced45a9b30bd39540495c42"
          }
        },
        "3b2c8152c6fd4ae2b0aef0d201d0a902": {
          "model_module": "@jupyter-widgets/controls",
          "model_name": "DescriptionStyleModel",
          "model_module_version": "1.5.0",
          "state": {
            "_view_name": "StyleView",
            "_model_name": "DescriptionStyleModel",
            "description_width": "",
            "_view_module": "@jupyter-widgets/base",
            "_model_module_version": "1.5.0",
            "_view_count": null,
            "_view_module_version": "1.2.0",
            "_model_module": "@jupyter-widgets/controls"
          }
        },
        "21f4830cecd148099d39c9f2006b1232": {
          "model_module": "@jupyter-widgets/base",
          "model_name": "LayoutModel",
          "model_module_version": "1.2.0",
          "state": {
            "_view_name": "LayoutView",
            "grid_template_rows": null,
            "right": null,
            "justify_content": null,
            "_view_module": "@jupyter-widgets/base",
            "overflow": null,
            "_model_module_version": "1.2.0",
            "_view_count": null,
            "flex_flow": null,
            "width": null,
            "min_width": null,
            "border": null,
            "align_items": null,
            "bottom": null,
            "_model_module": "@jupyter-widgets/base",
            "top": null,
            "grid_column": null,
            "overflow_y": null,
            "overflow_x": null,
            "grid_auto_flow": null,
            "grid_area": null,
            "grid_template_columns": null,
            "flex": null,
            "_model_name": "LayoutModel",
            "justify_items": null,
            "grid_row": null,
            "max_height": null,
            "align_content": null,
            "visibility": null,
            "align_self": null,
            "height": null,
            "min_height": null,
            "padding": null,
            "grid_auto_rows": null,
            "grid_gap": null,
            "max_width": null,
            "order": null,
            "_view_module_version": "1.2.0",
            "grid_template_areas": null,
            "object_position": null,
            "object_fit": null,
            "grid_auto_columns": null,
            "margin": null,
            "display": null,
            "left": null
          }
        },
        "06cdda41573646e4a3a06ca63914363b": {
          "model_module": "@jupyter-widgets/controls",
          "model_name": "ProgressStyleModel",
          "model_module_version": "1.5.0",
          "state": {
            "_view_name": "StyleView",
            "_model_name": "ProgressStyleModel",
            "description_width": "",
            "_view_module": "@jupyter-widgets/base",
            "_model_module_version": "1.5.0",
            "_view_count": null,
            "_view_module_version": "1.2.0",
            "bar_color": null,
            "_model_module": "@jupyter-widgets/controls"
          }
        },
        "e838e0b00ce346e9974fe2d8b1974d1c": {
          "model_module": "@jupyter-widgets/base",
          "model_name": "LayoutModel",
          "model_module_version": "1.2.0",
          "state": {
            "_view_name": "LayoutView",
            "grid_template_rows": null,
            "right": null,
            "justify_content": null,
            "_view_module": "@jupyter-widgets/base",
            "overflow": null,
            "_model_module_version": "1.2.0",
            "_view_count": null,
            "flex_flow": null,
            "width": null,
            "min_width": null,
            "border": null,
            "align_items": null,
            "bottom": null,
            "_model_module": "@jupyter-widgets/base",
            "top": null,
            "grid_column": null,
            "overflow_y": null,
            "overflow_x": null,
            "grid_auto_flow": null,
            "grid_area": null,
            "grid_template_columns": null,
            "flex": null,
            "_model_name": "LayoutModel",
            "justify_items": null,
            "grid_row": null,
            "max_height": null,
            "align_content": null,
            "visibility": null,
            "align_self": null,
            "height": null,
            "min_height": null,
            "padding": null,
            "grid_auto_rows": null,
            "grid_gap": null,
            "max_width": null,
            "order": null,
            "_view_module_version": "1.2.0",
            "grid_template_areas": null,
            "object_position": null,
            "object_fit": null,
            "grid_auto_columns": null,
            "margin": null,
            "display": null,
            "left": null
          }
        },
        "b3ff9884eb7d4b06b0d3b38c5851c667": {
          "model_module": "@jupyter-widgets/controls",
          "model_name": "DescriptionStyleModel",
          "model_module_version": "1.5.0",
          "state": {
            "_view_name": "StyleView",
            "_model_name": "DescriptionStyleModel",
            "description_width": "",
            "_view_module": "@jupyter-widgets/base",
            "_model_module_version": "1.5.0",
            "_view_count": null,
            "_view_module_version": "1.2.0",
            "_model_module": "@jupyter-widgets/controls"
          }
        },
        "987e78c58ced45a9b30bd39540495c42": {
          "model_module": "@jupyter-widgets/base",
          "model_name": "LayoutModel",
          "model_module_version": "1.2.0",
          "state": {
            "_view_name": "LayoutView",
            "grid_template_rows": null,
            "right": null,
            "justify_content": null,
            "_view_module": "@jupyter-widgets/base",
            "overflow": null,
            "_model_module_version": "1.2.0",
            "_view_count": null,
            "flex_flow": null,
            "width": null,
            "min_width": null,
            "border": null,
            "align_items": null,
            "bottom": null,
            "_model_module": "@jupyter-widgets/base",
            "top": null,
            "grid_column": null,
            "overflow_y": null,
            "overflow_x": null,
            "grid_auto_flow": null,
            "grid_area": null,
            "grid_template_columns": null,
            "flex": null,
            "_model_name": "LayoutModel",
            "justify_items": null,
            "grid_row": null,
            "max_height": null,
            "align_content": null,
            "visibility": null,
            "align_self": null,
            "height": null,
            "min_height": null,
            "padding": null,
            "grid_auto_rows": null,
            "grid_gap": null,
            "max_width": null,
            "order": null,
            "_view_module_version": "1.2.0",
            "grid_template_areas": null,
            "object_position": null,
            "object_fit": null,
            "grid_auto_columns": null,
            "margin": null,
            "display": null,
            "left": null
          }
        }
      }
    },
    "colab": {
      "name": "focus_cnn3_classify_cnn1_m_20_size_30k_run1.ipynb",
      "provenance": []
    },
    "accelerator": "GPU"
  },
  "nbformat": 4,
  "nbformat_minor": 5
}