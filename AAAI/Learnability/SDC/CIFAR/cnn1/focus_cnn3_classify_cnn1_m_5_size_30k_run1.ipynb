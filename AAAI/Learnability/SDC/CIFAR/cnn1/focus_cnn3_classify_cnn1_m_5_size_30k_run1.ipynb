{
  "cells": [
    {
      "cell_type": "code",
      "execution_count": null,
      "id": "134182ad",
      "metadata": {
        "execution": {
          "iopub.execute_input": "2021-09-07T08:23:32.365724Z",
          "iopub.status.busy": "2021-09-07T08:23:32.364231Z",
          "iopub.status.idle": "2021-09-07T08:23:33.079837Z",
          "shell.execute_reply": "2021-09-07T08:23:33.078906Z",
          "shell.execute_reply.started": "2021-09-07T04:23:26.443613Z"
        },
        "id": "134182ad",
        "outputId": "7a82e111-0d86-4b84-b308-f16e16c44abf",
        "papermill": {
          "duration": 0.760078,
          "end_time": "2021-09-07T08:23:33.080034",
          "exception": false,
          "start_time": "2021-09-07T08:23:32.319956",
          "status": "completed"
        },
        "tags": []
      },
      "outputs": [
        {
          "name": "stdout",
          "output_type": "stream",
          "text": [
            "/kaggle/working\r\n"
          ]
        }
      ],
      "source": [
        "# from google.colab import drive\n",
        "# drive.mount('/content/drive')\n",
        "!pwd"
      ]
    },
    {
      "cell_type": "code",
      "execution_count": null,
      "id": "c0cea8ad",
      "metadata": {
        "execution": {
          "iopub.execute_input": "2021-09-07T08:23:33.164479Z",
          "iopub.status.busy": "2021-09-07T08:23:33.163768Z",
          "iopub.status.idle": "2021-09-07T08:23:33.166560Z",
          "shell.execute_reply": "2021-09-07T08:23:33.166164Z",
          "shell.execute_reply.started": "2021-09-07T03:25:04.950207Z"
        },
        "id": "c0cea8ad",
        "papermill": {
          "duration": 0.045651,
          "end_time": "2021-09-07T08:23:33.166667",
          "exception": false,
          "start_time": "2021-09-07T08:23:33.121016",
          "status": "completed"
        },
        "tags": []
      },
      "outputs": [],
      "source": [
        "path = \"/kaggle/working/run_m_5\""
      ]
    },
    {
      "cell_type": "code",
      "execution_count": null,
      "id": "e8837382",
      "metadata": {
        "execution": {
          "iopub.execute_input": "2021-09-07T08:23:33.250535Z",
          "iopub.status.busy": "2021-09-07T08:23:33.250016Z",
          "iopub.status.idle": "2021-09-07T08:23:34.804354Z",
          "shell.execute_reply": "2021-09-07T08:23:34.803267Z",
          "shell.execute_reply.started": "2021-09-07T03:25:04.998311Z"
        },
        "id": "e8837382",
        "papermill": {
          "duration": 1.597962,
          "end_time": "2021-09-07T08:23:34.804543",
          "exception": false,
          "start_time": "2021-09-07T08:23:33.206581",
          "status": "completed"
        },
        "tags": []
      },
      "outputs": [],
      "source": [
        "import torch.nn as nn\n",
        "import torch.nn.functional as F\n",
        "\n",
        "import pandas as pd\n",
        "import numpy as np\n",
        "import matplotlib.pyplot as plt\n",
        "\n",
        "import torch\n",
        "import torchvision\n",
        "import torchvision.transforms as transforms\n",
        "from torch.utils.data import Dataset, DataLoader\n",
        "from torchvision import transforms, utils\n",
        "\n",
        "from matplotlib import pyplot as plt\n",
        "\n",
        "import copy\n",
        "\n",
        "# Ignore warnings\n",
        "import warnings\n",
        "warnings.filterwarnings(\"ignore\")\n",
        "\n",
        "torch.backends.cudnn.deterministic = True\n",
        "torch.backends.cudnn.benchmark = False\n"
      ]
    },
    {
      "cell_type": "code",
      "execution_count": null,
      "id": "7d8e0bc3",
      "metadata": {
        "execution": {
          "iopub.execute_input": "2021-09-07T08:23:34.927915Z",
          "iopub.status.busy": "2021-09-07T08:23:34.927353Z",
          "iopub.status.idle": "2021-09-07T08:24:31.689685Z",
          "shell.execute_reply": "2021-09-07T08:24:31.689208Z",
          "shell.execute_reply.started": "2021-09-07T03:25:06.290202Z"
        },
        "id": "7d8e0bc3",
        "outputId": "32e04fcd-1045-4c64-83f1-ed44b22ea82d",
        "papermill": {
          "duration": 56.817297,
          "end_time": "2021-09-07T08:24:31.689823",
          "exception": false,
          "start_time": "2021-09-07T08:23:34.872526",
          "status": "completed"
        },
        "tags": [],
        "colab": {
          "referenced_widgets": [
            "21da45059357451e8724a91d22e269a2"
          ]
        }
      },
      "outputs": [
        {
          "name": "stdout",
          "output_type": "stream",
          "text": [
            "Downloading https://www.cs.toronto.edu/~kriz/cifar-10-python.tar.gz to ./data/cifar-10-python.tar.gz\n"
          ]
        },
        {
          "data": {
            "application/vnd.jupyter.widget-view+json": {
              "model_id": "21da45059357451e8724a91d22e269a2",
              "version_major": 2,
              "version_minor": 0
            },
            "text/plain": [
              "0it [00:00, ?it/s]"
            ]
          },
          "metadata": {},
          "output_type": "display_data"
        },
        {
          "name": "stdout",
          "output_type": "stream",
          "text": [
            "Extracting ./data/cifar-10-python.tar.gz to ./data\n",
            "Files already downloaded and verified\n"
          ]
        }
      ],
      "source": [
        "transform = transforms.Compose(\n",
        "    [transforms.ToTensor(),\n",
        "     transforms.Normalize((0.5, 0.5, 0.5), (0.5, 0.5, 0.5))])\n",
        "\n",
        "trainset = torchvision.datasets.CIFAR10(root='./data', train=True, download=True, transform=transform)\n",
        "\n",
        "\n",
        "testset = torchvision.datasets.CIFAR10(root='./data', train=False, download=True, transform=transform)\n",
        "\n",
        "trainloader = torch.utils.data.DataLoader(trainset, batch_size=10, shuffle=False)\n",
        "testloader = torch.utils.data.DataLoader(testset, batch_size=10, shuffle=False)\n",
        "\n",
        "\n",
        "classes = ('plane', 'car', 'bird', 'cat', 'deer', 'dog', 'frog', 'horse', 'ship', 'truck')\n",
        "\n",
        "foreground_classes = {'plane', 'car', 'bird'}\n",
        "\n",
        "background_classes = {'cat', 'deer', 'dog', 'frog', 'horse','ship', 'truck'}\n",
        "\n",
        "# print(type(foreground_classes))\n",
        "\n",
        "dataiter = iter(trainloader)\n",
        "background_data=[]\n",
        "background_label=[]\n",
        "foreground_data=[]\n",
        "foreground_label=[]\n",
        "batch_size=10\n",
        "\n",
        "for i in range(5000):   #5000*batch_size = 50000 data points\n",
        "  images, labels = dataiter.next()\n",
        "  for j in range(batch_size):\n",
        "    if(classes[labels[j]] in background_classes):\n",
        "      img = images[j].tolist()\n",
        "      background_data.append(img)\n",
        "      background_label.append(labels[j])\n",
        "    else:\n",
        "      img = images[j].tolist()\n",
        "      foreground_data.append(img)\n",
        "      foreground_label.append(labels[j])\n",
        "            \n",
        "foreground_data = torch.tensor(foreground_data)\n",
        "foreground_label = torch.tensor(foreground_label)\n",
        "background_data = torch.tensor(background_data)\n",
        "background_label = torch.tensor(background_label)\n",
        "    \n",
        "  "
      ]
    },
    {
      "cell_type": "code",
      "execution_count": null,
      "id": "7f4a97bf",
      "metadata": {
        "execution": {
          "iopub.execute_input": "2021-09-07T08:24:31.777170Z",
          "iopub.status.busy": "2021-09-07T08:24:31.776544Z",
          "iopub.status.idle": "2021-09-07T08:24:31.779782Z",
          "shell.execute_reply": "2021-09-07T08:24:31.780200Z",
          "shell.execute_reply.started": "2021-09-07T03:26:02.211057Z"
        },
        "id": "7f4a97bf",
        "outputId": "04ff16f2-5c0c-4554-ed9a-51899cc6fd4e",
        "papermill": {
          "duration": 0.049461,
          "end_time": "2021-09-07T08:24:31.780323",
          "exception": false,
          "start_time": "2021-09-07T08:24:31.730862",
          "status": "completed"
        },
        "tags": []
      },
      "outputs": [
        {
          "data": {
            "text/plain": [
              "4"
            ]
          },
          "execution_count": 5,
          "metadata": {},
          "output_type": "execute_result"
        }
      ],
      "source": [
        "foreground_data.element_size()"
      ]
    },
    {
      "cell_type": "code",
      "execution_count": null,
      "id": "7c442569",
      "metadata": {
        "execution": {
          "iopub.execute_input": "2021-09-07T08:24:31.864409Z",
          "iopub.status.busy": "2021-09-07T08:24:31.863767Z",
          "iopub.status.idle": "2021-09-07T08:24:31.866630Z",
          "shell.execute_reply": "2021-09-07T08:24:31.866116Z",
          "shell.execute_reply.started": "2021-09-07T03:26:02.220196Z"
        },
        "id": "7c442569",
        "papermill": {
          "duration": 0.045974,
          "end_time": "2021-09-07T08:24:31.866728",
          "exception": false,
          "start_time": "2021-09-07T08:24:31.820754",
          "status": "completed"
        },
        "tags": []
      },
      "outputs": [],
      "source": [
        "fg1, fg2, fg3 = 0,1,2"
      ]
    },
    {
      "cell_type": "code",
      "execution_count": null,
      "id": "1c6b0256",
      "metadata": {
        "execution": {
          "iopub.execute_input": "2021-09-07T08:24:31.951528Z",
          "iopub.status.busy": "2021-09-07T08:24:31.950847Z",
          "iopub.status.idle": "2021-09-07T08:24:31.953604Z",
          "shell.execute_reply": "2021-09-07T08:24:31.953195Z",
          "shell.execute_reply.started": "2021-09-07T03:26:02.229294Z"
        },
        "id": "1c6b0256",
        "papermill": {
          "duration": 0.04654,
          "end_time": "2021-09-07T08:24:31.953701",
          "exception": false,
          "start_time": "2021-09-07T08:24:31.907161",
          "status": "completed"
        },
        "tags": []
      },
      "outputs": [],
      "source": [
        "def imshow(img):\n",
        "  img = img / 2 + 0.5     # unnormalize\n",
        "  npimg = img#.numpy()\n",
        "  plt.imshow(np.transpose(npimg, (1, 2, 0)))\n",
        "  plt.show()"
      ]
    },
    {
      "cell_type": "code",
      "execution_count": null,
      "id": "f4762ba6",
      "metadata": {
        "execution": {
          "iopub.execute_input": "2021-09-07T08:24:32.039285Z",
          "iopub.status.busy": "2021-09-07T08:24:32.038399Z",
          "iopub.status.idle": "2021-09-07T08:24:32.040584Z",
          "shell.execute_reply": "2021-09-07T08:24:32.040997Z",
          "shell.execute_reply.started": "2021-09-07T03:26:02.238525Z"
        },
        "id": "f4762ba6",
        "papermill": {
          "duration": 0.04692,
          "end_time": "2021-09-07T08:24:32.041113",
          "exception": false,
          "start_time": "2021-09-07T08:24:31.994193",
          "status": "completed"
        },
        "tags": []
      },
      "outputs": [],
      "source": [
        "# foreground_data.shape, foreground_label.shape, background_data.shape, background_label.shape"
      ]
    },
    {
      "cell_type": "code",
      "execution_count": null,
      "id": "a18231ae",
      "metadata": {
        "execution": {
          "iopub.execute_input": "2021-09-07T08:24:32.125698Z",
          "iopub.status.busy": "2021-09-07T08:24:32.124990Z",
          "iopub.status.idle": "2021-09-07T08:24:32.127644Z",
          "shell.execute_reply": "2021-09-07T08:24:32.127251Z",
          "shell.execute_reply.started": "2021-09-07T03:26:02.247544Z"
        },
        "id": "a18231ae",
        "papermill": {
          "duration": 0.045347,
          "end_time": "2021-09-07T08:24:32.127743",
          "exception": false,
          "start_time": "2021-09-07T08:24:32.082396",
          "status": "completed"
        },
        "tags": []
      },
      "outputs": [],
      "source": [
        "# val, idx = torch.max(background_data, dim=0, keepdims= True,)\n",
        "# torch.abs(val)"
      ]
    },
    {
      "cell_type": "code",
      "execution_count": null,
      "id": "4345b53f",
      "metadata": {
        "execution": {
          "iopub.execute_input": "2021-09-07T08:24:32.212029Z",
          "iopub.status.busy": "2021-09-07T08:24:32.211354Z",
          "iopub.status.idle": "2021-09-07T08:24:32.214034Z",
          "shell.execute_reply": "2021-09-07T08:24:32.213653Z",
          "shell.execute_reply.started": "2021-09-07T03:26:02.258147Z"
        },
        "id": "4345b53f",
        "papermill": {
          "duration": 0.046028,
          "end_time": "2021-09-07T08:24:32.214149",
          "exception": false,
          "start_time": "2021-09-07T08:24:32.168121",
          "status": "completed"
        },
        "tags": []
      },
      "outputs": [],
      "source": [
        "# mean_bg = torch.mean(background_data, dim=0, keepdims= True)\n",
        "# std_bg = torch.std(background_data, dim=0, keepdims= True)"
      ]
    },
    {
      "cell_type": "code",
      "execution_count": null,
      "id": "7b0ea3b6",
      "metadata": {
        "execution": {
          "iopub.execute_input": "2021-09-07T08:24:32.297669Z",
          "iopub.status.busy": "2021-09-07T08:24:32.296985Z",
          "iopub.status.idle": "2021-09-07T08:24:32.299883Z",
          "shell.execute_reply": "2021-09-07T08:24:32.299497Z",
          "shell.execute_reply.started": "2021-09-07T03:26:02.265740Z"
        },
        "id": "7b0ea3b6",
        "papermill": {
          "duration": 0.045627,
          "end_time": "2021-09-07T08:24:32.299981",
          "exception": false,
          "start_time": "2021-09-07T08:24:32.254354",
          "status": "completed"
        },
        "tags": []
      },
      "outputs": [],
      "source": [
        "# mean_bg.shape, std_bg.shape"
      ]
    },
    {
      "cell_type": "code",
      "execution_count": null,
      "id": "36d990aa",
      "metadata": {
        "execution": {
          "iopub.execute_input": "2021-09-07T08:24:32.387344Z",
          "iopub.status.busy": "2021-09-07T08:24:32.386669Z",
          "iopub.status.idle": "2021-09-07T08:24:32.389570Z",
          "shell.execute_reply": "2021-09-07T08:24:32.389118Z",
          "shell.execute_reply.started": "2021-09-07T03:26:02.272744Z"
        },
        "id": "36d990aa",
        "papermill": {
          "duration": 0.046875,
          "end_time": "2021-09-07T08:24:32.389680",
          "exception": false,
          "start_time": "2021-09-07T08:24:32.342805",
          "status": "completed"
        },
        "tags": []
      },
      "outputs": [],
      "source": [
        "# foreground_data = (foreground_data - mean_bg) / std_bg\n",
        "# background_data = (background_data - mean_bg) / std_bg"
      ]
    },
    {
      "cell_type": "code",
      "execution_count": null,
      "id": "99e5d917",
      "metadata": {
        "execution": {
          "iopub.execute_input": "2021-09-07T08:24:32.483498Z",
          "iopub.status.busy": "2021-09-07T08:24:32.482792Z",
          "iopub.status.idle": "2021-09-07T08:24:32.485597Z",
          "shell.execute_reply": "2021-09-07T08:24:32.485186Z",
          "shell.execute_reply.started": "2021-09-07T03:26:02.285860Z"
        },
        "id": "99e5d917",
        "papermill": {
          "duration": 0.04595,
          "end_time": "2021-09-07T08:24:32.485692",
          "exception": false,
          "start_time": "2021-09-07T08:24:32.439742",
          "status": "completed"
        },
        "tags": []
      },
      "outputs": [],
      "source": [
        "# foreground_data.shape, foreground_label.shape, background_data.shape, background_label.shape"
      ]
    },
    {
      "cell_type": "code",
      "execution_count": null,
      "id": "b4129198",
      "metadata": {
        "execution": {
          "iopub.execute_input": "2021-09-07T08:24:32.570546Z",
          "iopub.status.busy": "2021-09-07T08:24:32.569874Z",
          "iopub.status.idle": "2021-09-07T08:24:32.572172Z",
          "shell.execute_reply": "2021-09-07T08:24:32.572543Z",
          "shell.execute_reply.started": "2021-09-07T03:26:02.293439Z"
        },
        "id": "b4129198",
        "papermill": {
          "duration": 0.046337,
          "end_time": "2021-09-07T08:24:32.572664",
          "exception": false,
          "start_time": "2021-09-07T08:24:32.526327",
          "status": "completed"
        },
        "tags": []
      },
      "outputs": [],
      "source": [
        "# torch.sum(torch.isnan(foreground_data)), torch.sum(torch.isnan(background_data))"
      ]
    },
    {
      "cell_type": "code",
      "execution_count": null,
      "id": "c1eec1ba",
      "metadata": {
        "execution": {
          "iopub.execute_input": "2021-09-07T08:24:32.657338Z",
          "iopub.status.busy": "2021-09-07T08:24:32.656638Z",
          "iopub.status.idle": "2021-09-07T08:24:32.658964Z",
          "shell.execute_reply": "2021-09-07T08:24:32.659433Z",
          "shell.execute_reply.started": "2021-09-07T03:26:02.301527Z"
        },
        "id": "c1eec1ba",
        "papermill": {
          "duration": 0.045873,
          "end_time": "2021-09-07T08:24:32.659561",
          "exception": false,
          "start_time": "2021-09-07T08:24:32.613688",
          "status": "completed"
        },
        "tags": []
      },
      "outputs": [],
      "source": [
        "# imshow(foreground_data[0])"
      ]
    },
    {
      "cell_type": "code",
      "execution_count": null,
      "id": "42f66a88",
      "metadata": {
        "execution": {
          "iopub.execute_input": "2021-09-07T08:24:32.743281Z",
          "iopub.status.busy": "2021-09-07T08:24:32.742620Z",
          "iopub.status.idle": "2021-09-07T08:24:32.745316Z",
          "shell.execute_reply": "2021-09-07T08:24:32.744889Z",
          "shell.execute_reply.started": "2021-09-07T03:26:02.310718Z"
        },
        "id": "42f66a88",
        "papermill": {
          "duration": 0.045802,
          "end_time": "2021-09-07T08:24:32.745416",
          "exception": false,
          "start_time": "2021-09-07T08:24:32.699614",
          "status": "completed"
        },
        "tags": []
      },
      "outputs": [],
      "source": [
        "# imshow(background_data[2])"
      ]
    },
    {
      "cell_type": "code",
      "execution_count": null,
      "id": "a81cabf7",
      "metadata": {
        "execution": {
          "iopub.execute_input": "2021-09-07T08:24:32.831645Z",
          "iopub.status.busy": "2021-09-07T08:24:32.830937Z",
          "iopub.status.idle": "2021-09-07T08:24:32.833533Z",
          "shell.execute_reply": "2021-09-07T08:24:32.833144Z",
          "shell.execute_reply.started": "2021-09-07T03:26:02.320516Z"
        },
        "id": "a81cabf7",
        "papermill": {
          "duration": 0.047963,
          "end_time": "2021-09-07T08:24:32.833633",
          "exception": false,
          "start_time": "2021-09-07T08:24:32.785670",
          "status": "completed"
        },
        "tags": []
      },
      "outputs": [],
      "source": [
        "def create_mosaic_img(bg_idx,fg_idx,fg): \n",
        "  \"\"\"\n",
        "  bg_idx : list of indexes of background_data[] to be used as background images in mosaic\n",
        "  fg_idx : index of image to be used as foreground image from foreground data\n",
        "  fg : at what position/index foreground image has to be stored out of 0-8\n",
        "  \"\"\"\n",
        "  image_list=[]\n",
        "  j=0\n",
        "  for i in range(5):  # m value \n",
        "    if i != fg:\n",
        "      image_list.append(background_data[bg_idx[j]])\n",
        "      j+=1\n",
        "    else: \n",
        "      image_list.append(foreground_data[fg_idx])\n",
        "      label = foreground_label[fg_idx] - fg1  # minus fg1 because our fore ground classes are fg1,fg2,fg3 but we have to store it as 0,1,2\n",
        "  #image_list = np.concatenate(image_list ,axis=0)\n",
        "  image_list = torch.stack(image_list) \n",
        "  return image_list,label"
      ]
    },
    {
      "cell_type": "code",
      "execution_count": null,
      "id": "fcc56107",
      "metadata": {
        "execution": {
          "iopub.execute_input": "2021-09-07T08:24:32.921989Z",
          "iopub.status.busy": "2021-09-07T08:24:32.921431Z",
          "iopub.status.idle": "2021-09-07T08:24:39.366781Z",
          "shell.execute_reply": "2021-09-07T08:24:39.367210Z",
          "shell.execute_reply.started": "2021-09-07T03:26:02.330187Z"
        },
        "id": "fcc56107",
        "papermill": {
          "duration": 6.493637,
          "end_time": "2021-09-07T08:24:39.367379",
          "exception": false,
          "start_time": "2021-09-07T08:24:32.873742",
          "status": "completed"
        },
        "tags": []
      },
      "outputs": [],
      "source": [
        "desired_num = 40000\n",
        "mosaic_list_of_images =[]      # list of mosaic images, each mosaic image is saved as list of 9 images\n",
        "fore_idx =[]                   # list of indexes at which foreground image is present in a mosaic image i.e from 0 to 9               \n",
        "mosaic_label=[]                # label of mosaic image = foreground class present in that mosaic\n",
        "list_set_labels = [] \n",
        "for i in range(desired_num):\n",
        "  set_idx = set()\n",
        "  np.random.seed(i)\n",
        "  bg_idx = np.random.randint(0,35000,4)\n",
        "  set_idx = set(background_label[bg_idx].tolist())\n",
        "  fg_idx = np.random.randint(0,15000)\n",
        "  set_idx.add(foreground_label[fg_idx].item())\n",
        "  fg = np.random.randint(0,5)\n",
        "  fore_idx.append(fg)\n",
        "  image_list,label = create_mosaic_img(bg_idx,fg_idx,fg)\n",
        "  mosaic_list_of_images.append(image_list)\n",
        "  mosaic_label.append(label)\n",
        "  list_set_labels.append(set_idx)"
      ]
    },
    {
      "cell_type": "code",
      "execution_count": null,
      "id": "78453fcc",
      "metadata": {
        "execution": {
          "iopub.execute_input": "2021-09-07T08:24:39.457627Z",
          "iopub.status.busy": "2021-09-07T08:24:39.457044Z",
          "iopub.status.idle": "2021-09-07T08:24:39.463192Z",
          "shell.execute_reply": "2021-09-07T08:24:39.462772Z",
          "shell.execute_reply.started": "2021-09-07T03:26:16.407098Z"
        },
        "id": "78453fcc",
        "outputId": "7acf9dc5-b179-437d-a4f1-7a3607f6e5ee",
        "papermill": {
          "duration": 0.050868,
          "end_time": "2021-09-07T08:24:39.463306",
          "exception": false,
          "start_time": "2021-09-07T08:24:39.412438",
          "status": "completed"
        },
        "tags": []
      },
      "outputs": [
        {
          "data": {
            "text/plain": [
              "(40000, torch.Size([5, 3, 32, 32]))"
            ]
          },
          "execution_count": 19,
          "metadata": {},
          "output_type": "execute_result"
        }
      ],
      "source": [
        "# mosaic_list_of_images_train = torch.stack(mosaic_list_of_images)\n",
        "len(mosaic_list_of_images),mosaic_list_of_images[0].shape"
      ]
    },
    {
      "cell_type": "code",
      "execution_count": null,
      "id": "689bdeb7",
      "metadata": {
        "execution": {
          "iopub.execute_input": "2021-09-07T08:24:39.552796Z",
          "iopub.status.busy": "2021-09-07T08:24:39.552029Z",
          "iopub.status.idle": "2021-09-07T08:24:39.691769Z",
          "shell.execute_reply": "2021-09-07T08:24:39.691311Z",
          "shell.execute_reply.started": "2021-09-07T03:26:16.416114Z"
        },
        "id": "689bdeb7",
        "outputId": "757ab6ed-9dbe-460a-f3be-92d809a075cd",
        "papermill": {
          "duration": 0.187384,
          "end_time": "2021-09-07T08:24:39.691928",
          "exception": false,
          "start_time": "2021-09-07T08:24:39.504544",
          "status": "completed"
        },
        "tags": []
      },
      "outputs": [
        {
          "data": {
            "image/png": "[encoded data removed]",
            "text/plain": [
              "<Figure size 432x288 with 1 Axes>"
            ]
          },
          "metadata": {
            "needs_background": "light"
          },
          "output_type": "display_data"
        }
      ],
      "source": [
        "imshow(mosaic_list_of_images[0][1])"
      ]
    },
    {
      "cell_type": "code",
      "execution_count": null,
      "id": "5db3bbac",
      "metadata": {
        "execution": {
          "iopub.execute_input": "2021-09-07T08:24:39.778678Z",
          "iopub.status.busy": "2021-09-07T08:24:39.777817Z",
          "iopub.status.idle": "2021-09-07T08:24:39.780215Z",
          "shell.execute_reply": "2021-09-07T08:24:39.780576Z",
          "shell.execute_reply.started": "2021-09-07T03:26:16.565084Z"
        },
        "id": "5db3bbac",
        "papermill": {
          "duration": 0.047187,
          "end_time": "2021-09-07T08:24:39.780701",
          "exception": false,
          "start_time": "2021-09-07T08:24:39.733514",
          "status": "completed"
        },
        "tags": []
      },
      "outputs": [],
      "source": [
        "# mean_train = torch.mean(mosaic_list_of_images_train[0:2500], dim=0, keepdims= True)\n",
        "# std_train = torch.std(mosaic_list_of_images_train[0:2500], dim=0, keepdims= True) \n",
        "# mosaic_list_of_images_train = (mosaic_list_of_images_train - mean_train) / std_train"
      ]
    },
    {
      "cell_type": "code",
      "execution_count": null,
      "id": "e8779764",
      "metadata": {
        "execution": {
          "iopub.execute_input": "2021-09-07T08:24:39.866417Z",
          "iopub.status.busy": "2021-09-07T08:24:39.865765Z",
          "iopub.status.idle": "2021-09-07T08:24:39.867969Z",
          "shell.execute_reply": "2021-09-07T08:24:39.868414Z",
          "shell.execute_reply.started": "2021-09-07T03:26:16.570002Z"
        },
        "id": "e8779764",
        "papermill": {
          "duration": 0.046816,
          "end_time": "2021-09-07T08:24:39.868540",
          "exception": false,
          "start_time": "2021-09-07T08:24:39.821724",
          "status": "completed"
        },
        "tags": []
      },
      "outputs": [],
      "source": [
        "# imshow(mosaic_list_of_images_train[0][2])"
      ]
    },
    {
      "cell_type": "code",
      "execution_count": null,
      "id": "8814f0a1",
      "metadata": {
        "execution": {
          "iopub.execute_input": "2021-09-07T08:24:39.959485Z",
          "iopub.status.busy": "2021-09-07T08:24:39.958642Z",
          "iopub.status.idle": "2021-09-07T08:24:39.960753Z",
          "shell.execute_reply": "2021-09-07T08:24:39.961211Z",
          "shell.execute_reply.started": "2021-09-07T03:26:16.579317Z"
        },
        "id": "8814f0a1",
        "papermill": {
          "duration": 0.05173,
          "end_time": "2021-09-07T08:24:39.961327",
          "exception": false,
          "start_time": "2021-09-07T08:24:39.909597",
          "status": "completed"
        },
        "tags": []
      },
      "outputs": [],
      "source": [
        "class MosaicDataset(Dataset):\n",
        "  \"\"\"MosaicDataset dataset.\"\"\"\n",
        "\n",
        "  def __init__(self, mosaic_list_of_images, mosaic_label, fore_idx):\n",
        "    \"\"\"\n",
        "      Args:\n",
        "        csv_file (string): Path to the csv file with annotations.\n",
        "        root_dir (string): Directory with all the images.\n",
        "        transform (callable, optional): Optional transform to be applied\n",
        "            on a sample.\n",
        "    \"\"\"\n",
        "    self.mosaic = mosaic_list_of_images\n",
        "    self.label = mosaic_label\n",
        "    self.fore_idx = fore_idx\n",
        "\n",
        "  def __len__(self):\n",
        "    return len(self.label)\n",
        "\n",
        "  def __getitem__(self, idx):\n",
        "    return self.mosaic[idx] , self.label[idx], self.fore_idx[idx]\n",
        "\n",
        "batch = 100\n",
        "msd = MosaicDataset(mosaic_list_of_images[0:30000], mosaic_label[0:30000] , fore_idx[0:30000])\n",
        "train_loader = DataLoader( msd,batch_size= batch ,shuffle=True)\n",
        "\n",
        "test_data = MosaicDataset(mosaic_list_of_images[30000:], mosaic_label[30000:] , fore_idx[30000:])\n",
        "test_loader = DataLoader( test_data,batch_size= batch ,shuffle=False)"
      ]
    },
    {
      "cell_type": "code",
      "execution_count": null,
      "id": "b8d9f3a8",
      "metadata": {
        "execution": {
          "iopub.execute_input": "2021-09-07T08:24:40.068374Z",
          "iopub.status.busy": "2021-09-07T08:24:40.067610Z",
          "iopub.status.idle": "2021-09-07T08:24:40.070371Z",
          "shell.execute_reply": "2021-09-07T08:24:40.069884Z",
          "shell.execute_reply.started": "2021-09-07T03:26:16.591517Z"
        },
        "id": "b8d9f3a8",
        "papermill": {
          "duration": 0.06783,
          "end_time": "2021-09-07T08:24:40.070485",
          "exception": false,
          "start_time": "2021-09-07T08:24:40.002655",
          "status": "completed"
        },
        "tags": []
      },
      "outputs": [],
      "source": [
        "del foreground_data\n",
        "del background_data"
      ]
    },
    {
      "cell_type": "code",
      "execution_count": null,
      "id": "554a8a44",
      "metadata": {
        "execution": {
          "iopub.execute_input": "2021-09-07T08:24:40.170290Z",
          "iopub.status.busy": "2021-09-07T08:24:40.169550Z",
          "iopub.status.idle": "2021-09-07T08:24:40.171898Z",
          "shell.execute_reply": "2021-09-07T08:24:40.172327Z",
          "shell.execute_reply.started": "2021-09-07T03:26:16.622465Z"
        },
        "id": "554a8a44",
        "papermill": {
          "duration": 0.060034,
          "end_time": "2021-09-07T08:24:40.172448",
          "exception": false,
          "start_time": "2021-09-07T08:24:40.112414",
          "status": "completed"
        },
        "tags": []
      },
      "outputs": [],
      "source": [
        "class Focus(nn.Module):\n",
        "  def __init__(self):\n",
        "    super(Focus, self).__init__()\n",
        "\n",
        "    self.conv1 = nn.Conv2d(in_channels=3, out_channels=32, kernel_size=3, padding=0, bias=False)\n",
        "    self.pool = nn.MaxPool2d(2, 2)\n",
        "    self.conv2 = nn.Conv2d(in_channels=32, out_channels=64, kernel_size=3, padding=0, bias=False)\n",
        "    self.conv3 = nn.Conv2d(in_channels=64, out_channels=64, kernel_size=3, padding=0, bias=False)\n",
        "    self.fc1 = nn.Linear(1024, 512, bias=False)\n",
        "    self.fc2 = nn.Linear(512, 64, bias=False)\n",
        "    self.fc3 = nn.Linear(64, 10, bias=False)\n",
        "    self.fc4 = nn.Linear(10,1, bias=False)\n",
        "\n",
        "    torch.nn.init.xavier_normal_(self.conv1.weight)\n",
        "    torch.nn.init.xavier_normal_(self.conv2.weight)\n",
        "    torch.nn.init.xavier_normal_(self.conv3.weight)\n",
        "    torch.nn.init.xavier_normal_(self.fc1.weight)\n",
        "    torch.nn.init.xavier_normal_(self.fc2.weight)\n",
        "    torch.nn.init.xavier_normal_(self.fc3.weight)\n",
        "    torch.nn.init.xavier_normal_(self.fc4.weight)\n",
        "\n",
        "  def forward(self,z):  #y is avg image #z batch of list of 9 images\n",
        "    batch = z.size(0)\n",
        "    patches = z.size(1)\n",
        "    z = z.view(batch*patches,3,32,32)\n",
        "    alpha =  self.helper(z)\n",
        "    alpha = alpha.view(batch,patches,-1)\n",
        "    z = z.view(batch,patches,3,32,32)\n",
        "    #print(alpha.shape,z.shape)\n",
        "    alpha = F.softmax(alpha,dim=1)\n",
        "\n",
        "    x = torch.sum(alpha[:,:,:,None,None]*z,dim=1)\n",
        "\n",
        "    #alpha =alpha.view(batch,patches,-1)\n",
        "\n",
        "\n",
        "\n",
        "    return alpha[:,:,0],x # alpha, averaged data\n",
        "    \n",
        "  def helper(self, x):\n",
        "    x = self.pool(F.relu(self.conv1(x)))\n",
        "    x = self.pool(F.relu(self.conv2(x)))\n",
        "    # print(x.shape)\n",
        "    x = (F.relu(self.conv3(x)))\n",
        "    x =  x.view(x.size(0), -1)\n",
        "    # print(x.shape)\n",
        "    x = F.relu(self.fc1(x))\n",
        "    x = F.relu(self.fc2(x))\n",
        "    x = F.relu(self.fc3(x))\n",
        "    x = self.fc4(x)\n",
        "    return x"
      ]
    },
    {
      "cell_type": "code",
      "execution_count": null,
      "id": "c0c8f2ff",
      "metadata": {
        "execution": {
          "iopub.execute_input": "2021-09-07T08:24:40.258714Z",
          "iopub.status.busy": "2021-09-07T08:24:40.257787Z",
          "iopub.status.idle": "2021-09-07T08:24:40.260460Z",
          "shell.execute_reply": "2021-09-07T08:24:40.260042Z",
          "shell.execute_reply.started": "2021-09-07T03:26:16.641315Z"
        },
        "id": "c0c8f2ff",
        "papermill": {
          "duration": 0.04704,
          "end_time": "2021-09-07T08:24:40.260565",
          "exception": false,
          "start_time": "2021-09-07T08:24:40.213525",
          "status": "completed"
        },
        "tags": []
      },
      "outputs": [],
      "source": [
        "# class Classification(nn.Module):\n",
        "#   def __init__(self):\n",
        "#     super(Classification, self).__init__()\n",
        "#     self.conv1 = nn.Conv2d(3, 6, 5)\n",
        "#     self.pool = nn.MaxPool2d(2, 2)\n",
        "#     self.conv2 = nn.Conv2d(6, 16, 5)\n",
        "#     self.fc1 = nn.Linear(16 * 5 * 5, 120)\n",
        "#     self.fc2 = nn.Linear(120, 84)\n",
        "#     self.fc3 = nn.Linear(84, 10)\n",
        "#     self.fc4 = nn.Linear(10,3)\n",
        "\n",
        "#     torch.nn.init.xavier_normal_(self.conv1.weight)\n",
        "#     torch.nn.init.zeros_(self.conv1.bias)\n",
        "#     torch.nn.init.xavier_normal_(self.conv2.weight)\n",
        "#     torch.nn.init.zeros_(self.conv2.bias)\n",
        "#     torch.nn.init.xavier_normal_(self.fc1.weight)\n",
        "#     torch.nn.init.zeros_(self.fc1.bias)\n",
        "#     torch.nn.init.xavier_normal_(self.fc2.weight)\n",
        "#     torch.nn.init.zeros_(self.fc2.bias)\n",
        "#     torch.nn.init.xavier_normal_(self.fc3.weight)\n",
        "#     torch.nn.init.zeros_(self.fc3.bias)\n",
        "#     torch.nn.init.xavier_normal_(self.fc4.weight)\n",
        "#     torch.nn.init.zeros_(self.fc4.bias)\n",
        "\n",
        "#   def forward(self,z): \n",
        "#     y1 = self.pool(F.relu(self.conv1(z)))\n",
        "#     y1 = self.pool(F.relu(self.conv2(y1)))\n",
        "#     y1 = y1.view(-1, 16 * 5 * 5)\n",
        "\n",
        "#     y1 = F.relu(self.fc1(y1))\n",
        "#     y1 = F.relu(self.fc2(y1))\n",
        "#     y1 = F.relu(self.fc3(y1))\n",
        "#     y1 = self.fc4(y1)\n",
        "#     return y1 "
      ]
    },
    {
      "cell_type": "code",
      "execution_count": null,
      "id": "4b92184f",
      "metadata": {
        "execution": {
          "iopub.execute_input": "2021-09-07T08:24:40.353043Z",
          "iopub.status.busy": "2021-09-07T08:24:40.352501Z",
          "iopub.status.idle": "2021-09-07T08:24:40.355389Z",
          "shell.execute_reply": "2021-09-07T08:24:40.354976Z",
          "shell.execute_reply.started": "2021-09-07T03:26:16.650521Z"
        },
        "id": "4b92184f",
        "papermill": {
          "duration": 0.053701,
          "end_time": "2021-09-07T08:24:40.355494",
          "exception": false,
          "start_time": "2021-09-07T08:24:40.301793",
          "status": "completed"
        },
        "tags": []
      },
      "outputs": [],
      "source": [
        "class Classification(nn.Module):\n",
        "  def __init__(self):\n",
        "    super(Classification, self).__init__()\n",
        "    self.conv1 = nn.Conv2d(3, 6, 5)\n",
        "    self.pool = nn.MaxPool2d(2, 2)\n",
        "    self.fc1 = nn.Linear(6 * 14 * 14, 120)\n",
        "    self.fc2 = nn.Linear(120, 84)\n",
        "    self.fc3 = nn.Linear(84, 10)\n",
        "    self.fc4 = nn.Linear(10,3)\n",
        "\n",
        "    torch.nn.init.xavier_normal_(self.conv1.weight)\n",
        "    torch.nn.init.zeros_(self.conv1.bias)\n",
        "    torch.nn.init.xavier_normal_(self.fc1.weight)\n",
        "    torch.nn.init.zeros_(self.fc1.bias)\n",
        "    torch.nn.init.xavier_normal_(self.fc2.weight)\n",
        "    torch.nn.init.zeros_(self.fc2.bias)\n",
        "    torch.nn.init.xavier_normal_(self.fc3.weight)\n",
        "    torch.nn.init.zeros_(self.fc3.bias)\n",
        "    torch.nn.init.xavier_normal_(self.fc4.weight)\n",
        "    torch.nn.init.zeros_(self.fc4.bias)\n",
        "\n",
        "  def forward(self,z): \n",
        "    y1 = self.pool(F.relu(self.conv1(z)))\n",
        "    #print(y1.shape)\n",
        "    y1 = y1.view(-1, 6 * 14 * 14)\n",
        "\n",
        "    y1 = F.relu(self.fc1(y1))\n",
        "    y1 = F.relu(self.fc2(y1))\n",
        "    y1 = F.relu(self.fc3(y1))\n",
        "    y1 = self.fc4(y1)\n",
        "    return y1 "
      ]
    },
    {
      "cell_type": "code",
      "execution_count": null,
      "id": "0bdb54f0",
      "metadata": {
        "execution": {
          "iopub.execute_input": "2021-09-07T08:24:40.475934Z",
          "iopub.status.busy": "2021-09-07T08:24:40.475058Z",
          "iopub.status.idle": "2021-09-07T08:24:44.772618Z",
          "shell.execute_reply": "2021-09-07T08:24:44.772146Z",
          "shell.execute_reply.started": "2021-09-07T03:26:16.665641Z"
        },
        "id": "0bdb54f0",
        "papermill": {
          "duration": 4.374748,
          "end_time": "2021-09-07T08:24:44.772746",
          "exception": false,
          "start_time": "2021-09-07T08:24:40.397998",
          "status": "completed"
        },
        "tags": []
      },
      "outputs": [],
      "source": [
        "torch.manual_seed(12)\n",
        "focus_net = Focus().double()\n",
        "focus_net = focus_net.to(\"cuda\")"
      ]
    },
    {
      "cell_type": "code",
      "execution_count": null,
      "id": "44f2d676",
      "metadata": {
        "execution": {
          "iopub.execute_input": "2021-09-07T08:24:44.859754Z",
          "iopub.status.busy": "2021-09-07T08:24:44.859005Z",
          "iopub.status.idle": "2021-09-07T08:24:44.861982Z",
          "shell.execute_reply": "2021-09-07T08:24:44.862542Z",
          "shell.execute_reply.started": "2021-09-07T03:26:21.085687Z"
        },
        "id": "44f2d676",
        "outputId": "df543468-f170-4189-8122-efa8a0ac7bb7",
        "papermill": {
          "duration": 0.048441,
          "end_time": "2021-09-07T08:24:44.862673",
          "exception": false,
          "start_time": "2021-09-07T08:24:44.814232",
          "status": "completed"
        },
        "tags": []
      },
      "outputs": [
        {
          "data": {
            "text/plain": [
              "(torch.Size([10, 64]), torch.Size([1, 10]))"
            ]
          },
          "execution_count": 29,
          "metadata": {},
          "output_type": "execute_result"
        }
      ],
      "source": [
        "focus_net.fc3.weight.shape,focus_net.fc4.weight.shape"
      ]
    },
    {
      "cell_type": "code",
      "execution_count": null,
      "id": "4b15cff1",
      "metadata": {
        "execution": {
          "iopub.execute_input": "2021-09-07T08:24:44.950025Z",
          "iopub.status.busy": "2021-09-07T08:24:44.949441Z",
          "iopub.status.idle": "2021-09-07T08:24:44.952232Z",
          "shell.execute_reply": "2021-09-07T08:24:44.951807Z",
          "shell.execute_reply.started": "2021-09-07T03:26:21.093772Z"
        },
        "id": "4b15cff1",
        "papermill": {
          "duration": 0.047678,
          "end_time": "2021-09-07T08:24:44.952331",
          "exception": false,
          "start_time": "2021-09-07T08:24:44.904653",
          "status": "completed"
        },
        "tags": []
      },
      "outputs": [],
      "source": [
        "focus_net.fc3.weight.data[5:,:] = focus_net.fc3.weight.data[:5,:] #torch.nn.Parameter(torch.tensor([last_layer]) )\n",
        "# (focus_net.fc3.weight[:5,:]== focus_net.fc3.weight[5:,:] )"
      ]
    },
    {
      "cell_type": "code",
      "execution_count": null,
      "id": "3d0f656b",
      "metadata": {
        "execution": {
          "iopub.execute_input": "2021-09-07T08:24:45.041732Z",
          "iopub.status.busy": "2021-09-07T08:24:45.041147Z",
          "iopub.status.idle": "2021-09-07T08:24:45.049745Z",
          "shell.execute_reply": "2021-09-07T08:24:45.049315Z",
          "shell.execute_reply.started": "2021-09-07T03:26:21.102943Z"
        },
        "id": "3d0f656b",
        "papermill": {
          "duration": 0.055768,
          "end_time": "2021-09-07T08:24:45.049851",
          "exception": false,
          "start_time": "2021-09-07T08:24:44.994083",
          "status": "completed"
        },
        "tags": []
      },
      "outputs": [],
      "source": [
        "focus_net.fc4.weight.data[:,5:] = -focus_net.fc4.weight.data[:,:5] #torch.nn.Parameter(torch.tensor([last_layer]) )\n",
        "# focus_net.fc4.weight"
      ]
    },
    {
      "cell_type": "code",
      "execution_count": null,
      "id": "3ef7e7c7",
      "metadata": {
        "execution": {
          "iopub.execute_input": "2021-09-07T08:24:45.137642Z",
          "iopub.status.busy": "2021-09-07T08:24:45.136909Z",
          "iopub.status.idle": "2021-09-07T08:24:45.139986Z",
          "shell.execute_reply": "2021-09-07T08:24:45.140435Z",
          "shell.execute_reply.started": "2021-09-07T03:26:21.119117Z"
        },
        "id": "3ef7e7c7",
        "papermill": {
          "duration": 0.048401,
          "end_time": "2021-09-07T08:24:45.140555",
          "exception": false,
          "start_time": "2021-09-07T08:24:45.092154",
          "status": "completed"
        },
        "tags": []
      },
      "outputs": [],
      "source": [
        "focus_net = focus_net.double().to(\"cuda\")"
      ]
    },
    {
      "cell_type": "code",
      "execution_count": null,
      "id": "1be8d88e",
      "metadata": {
        "execution": {
          "iopub.execute_input": "2021-09-07T08:24:45.227399Z",
          "iopub.status.busy": "2021-09-07T08:24:45.226741Z",
          "iopub.status.idle": "2021-09-07T08:24:45.229483Z",
          "shell.execute_reply": "2021-09-07T08:24:45.229040Z",
          "shell.execute_reply.started": "2021-09-07T03:26:21.127214Z"
        },
        "id": "1be8d88e",
        "papermill": {
          "duration": 0.047757,
          "end_time": "2021-09-07T08:24:45.229594",
          "exception": false,
          "start_time": "2021-09-07T08:24:45.181837",
          "status": "completed"
        },
        "tags": []
      },
      "outputs": [],
      "source": [
        "# alpha,output = focus_net( torch.randn((128,50,3,32,32)).double().to(\"cuda\") )"
      ]
    },
    {
      "cell_type": "code",
      "execution_count": null,
      "id": "f06c0b38",
      "metadata": {
        "execution": {
          "iopub.execute_input": "2021-09-07T08:24:45.315948Z",
          "iopub.status.busy": "2021-09-07T08:24:45.315234Z",
          "iopub.status.idle": "2021-09-07T08:24:45.317434Z",
          "shell.execute_reply": "2021-09-07T08:24:45.317888Z",
          "shell.execute_reply.started": "2021-09-07T03:26:21.134103Z"
        },
        "id": "f06c0b38",
        "papermill": {
          "duration": 0.047011,
          "end_time": "2021-09-07T08:24:45.318005",
          "exception": false,
          "start_time": "2021-09-07T08:24:45.270994",
          "status": "completed"
        },
        "tags": []
      },
      "outputs": [],
      "source": [
        "# alpha.shape,output.shape"
      ]
    },
    {
      "cell_type": "code",
      "execution_count": null,
      "id": "e1c98adf",
      "metadata": {
        "id": "e1c98adf",
        "papermill": {
          "duration": 0.041056,
          "end_time": "2021-09-07T08:24:45.400652",
          "exception": false,
          "start_time": "2021-09-07T08:24:45.359596",
          "status": "completed"
        },
        "tags": []
      },
      "outputs": [],
      "source": [
        "\n"
      ]
    },
    {
      "cell_type": "code",
      "execution_count": null,
      "id": "4dce20eb",
      "metadata": {
        "execution": {
          "iopub.execute_input": "2021-09-07T08:24:45.488104Z",
          "iopub.status.busy": "2021-09-07T08:24:45.487464Z",
          "iopub.status.idle": "2021-09-07T08:24:45.497167Z",
          "shell.execute_reply": "2021-09-07T08:24:45.496741Z",
          "shell.execute_reply.started": "2021-09-07T03:26:21.146429Z"
        },
        "id": "4dce20eb",
        "papermill": {
          "duration": 0.054853,
          "end_time": "2021-09-07T08:24:45.497293",
          "exception": false,
          "start_time": "2021-09-07T08:24:45.442440",
          "status": "completed"
        },
        "tags": []
      },
      "outputs": [],
      "source": [
        "torch.manual_seed(12)\n",
        "classify = Classification().double()\n",
        "classify = classify.to(\"cuda\")"
      ]
    },
    {
      "cell_type": "code",
      "execution_count": null,
      "id": "6a48a69e",
      "metadata": {
        "execution": {
          "iopub.execute_input": "2021-09-07T08:24:45.583610Z",
          "iopub.status.busy": "2021-09-07T08:24:45.582904Z",
          "iopub.status.idle": "2021-09-07T08:24:45.585600Z",
          "shell.execute_reply": "2021-09-07T08:24:45.585187Z",
          "shell.execute_reply.started": "2021-09-07T03:26:21.161553Z"
        },
        "id": "6a48a69e",
        "papermill": {
          "duration": 0.046642,
          "end_time": "2021-09-07T08:24:45.585697",
          "exception": false,
          "start_time": "2021-09-07T08:24:45.539055",
          "status": "completed"
        },
        "tags": []
      },
      "outputs": [],
      "source": [
        "# classify.conv1.bias"
      ]
    },
    {
      "cell_type": "code",
      "execution_count": null,
      "id": "aeca5f67",
      "metadata": {
        "execution": {
          "iopub.execute_input": "2021-09-07T08:24:45.671715Z",
          "iopub.status.busy": "2021-09-07T08:24:45.670993Z",
          "iopub.status.idle": "2021-09-07T08:24:45.673803Z",
          "shell.execute_reply": "2021-09-07T08:24:45.673369Z",
          "shell.execute_reply.started": "2021-09-07T03:26:21.167049Z"
        },
        "id": "aeca5f67",
        "papermill": {
          "duration": 0.046734,
          "end_time": "2021-09-07T08:24:45.673906",
          "exception": false,
          "start_time": "2021-09-07T08:24:45.627172",
          "status": "completed"
        },
        "tags": []
      },
      "outputs": [],
      "source": [
        "# classify.fc1.weight"
      ]
    },
    {
      "cell_type": "code",
      "execution_count": null,
      "id": "4ecfe118",
      "metadata": {
        "execution": {
          "iopub.execute_input": "2021-09-07T08:24:45.762237Z",
          "iopub.status.busy": "2021-09-07T08:24:45.761403Z",
          "iopub.status.idle": "2021-09-07T08:24:45.763879Z",
          "shell.execute_reply": "2021-09-07T08:24:45.763459Z",
          "shell.execute_reply.started": "2021-09-07T03:26:21.176047Z"
        },
        "id": "4ecfe118",
        "papermill": {
          "duration": 0.048475,
          "end_time": "2021-09-07T08:24:45.763976",
          "exception": false,
          "start_time": "2021-09-07T08:24:45.715501",
          "status": "completed"
        },
        "tags": []
      },
      "outputs": [],
      "source": [
        "# classify.fc1.bias"
      ]
    },
    {
      "cell_type": "code",
      "execution_count": null,
      "id": "bd4b5795",
      "metadata": {
        "execution": {
          "iopub.execute_input": "2021-09-07T08:24:45.853642Z",
          "iopub.status.busy": "2021-09-07T08:24:45.852830Z",
          "iopub.status.idle": "2021-09-07T08:24:45.855357Z",
          "shell.execute_reply": "2021-09-07T08:24:45.854947Z",
          "shell.execute_reply.started": "2021-09-07T03:26:21.185575Z"
        },
        "id": "bd4b5795",
        "papermill": {
          "duration": 0.050032,
          "end_time": "2021-09-07T08:24:45.855466",
          "exception": false,
          "start_time": "2021-09-07T08:24:45.805434",
          "status": "completed"
        },
        "tags": []
      },
      "outputs": [],
      "source": [
        "import torch.optim as optim\n",
        "criterion = nn.CrossEntropyLoss()\n",
        "optimizer_classify = optim.Adam(classify.parameters(), lr=0.0005  ) #, momentum=0.9)\n",
        "optimizer_focus = optim.Adam(focus_net.parameters(), lr=0.0005  ) #, momentum=0.9)"
      ]
    },
    {
      "cell_type": "code",
      "execution_count": null,
      "id": "7347cc63",
      "metadata": {
        "execution": {
          "iopub.execute_input": "2021-09-07T08:24:45.942955Z",
          "iopub.status.busy": "2021-09-07T08:24:45.942255Z",
          "iopub.status.idle": "2021-09-07T08:24:45.944765Z",
          "shell.execute_reply": "2021-09-07T08:24:45.944380Z",
          "shell.execute_reply.started": "2021-09-07T03:26:21.193525Z"
        },
        "id": "7347cc63",
        "papermill": {
          "duration": 0.047771,
          "end_time": "2021-09-07T08:24:45.944864",
          "exception": false,
          "start_time": "2021-09-07T08:24:45.897093",
          "status": "completed"
        },
        "tags": []
      },
      "outputs": [],
      "source": [
        "col1=[]\n",
        "col2=[]\n",
        "col3=[]\n",
        "col4=[]\n",
        "col5=[]\n",
        "col6=[]\n",
        "col7=[]\n",
        "col8=[]\n",
        "col9=[]\n",
        "col10=[]\n",
        "col11=[]\n",
        "col12=[]\n",
        "col13=[]"
      ]
    },
    {
      "cell_type": "code",
      "execution_count": null,
      "id": "80b742b5",
      "metadata": {
        "execution": {
          "iopub.execute_input": "2021-09-07T08:24:46.041691Z",
          "iopub.status.busy": "2021-09-07T08:24:46.041152Z",
          "iopub.status.idle": "2021-09-07T08:24:59.228857Z",
          "shell.execute_reply": "2021-09-07T08:24:59.229604Z",
          "shell.execute_reply.started": "2021-09-07T03:26:21.206931Z"
        },
        "id": "80b742b5",
        "outputId": "1344419f-71f9-4d11-ef01-341261412005",
        "papermill": {
          "duration": 13.243085,
          "end_time": "2021-09-07T08:24:59.229756",
          "exception": false,
          "start_time": "2021-09-07T08:24:45.986671",
          "status": "completed"
        },
        "tags": []
      },
      "outputs": [
        {
          "name": "stdout",
          "output_type": "stream",
          "text": [
            "Accuracy of the network on the 30000 train images: 33.086667 %\n",
            "total correct 9926\n",
            "total train set images 30000\n",
            "focus_true_pred_true 1994 =============> FTPT : 6.646667 %\n",
            "focus_false_pred_true 7932 =============> FFPT : 26.440000 %\n",
            "focus_true_pred_false 4116 =============> FTPF : 13.720000 %\n",
            "focus_false_pred_false 15958 =============> FFPF : 53.193333 %\n",
            "argmax_more_than_half ==================>  0\n",
            "argmax_less_than_half ==================>  30000\n",
            "30000\n",
            "====================================================================================================\n"
          ]
        }
      ],
      "source": [
        "correct = 0\n",
        "total = 0\n",
        "count = 0\n",
        "flag = 1\n",
        "focus_true_pred_true =0\n",
        "focus_false_pred_true =0\n",
        "focus_true_pred_false =0\n",
        "focus_false_pred_false =0\n",
        "\n",
        "argmax_more_than_half = 0\n",
        "argmax_less_than_half =0\n",
        "\n",
        "with torch.no_grad():\n",
        "  for data in train_loader:\n",
        "    inputs, labels , fore_idx = data\n",
        "    inputs = inputs.double()\n",
        "    inputs, labels , fore_idx = inputs.to(\"cuda\"),labels.to(\"cuda\"), fore_idx.to(\"cuda\")\n",
        "    alphas, avg_images = focus_net(inputs)\n",
        "    # print(alphas)\n",
        "    outputs = classify(avg_images)\n",
        "\n",
        "    _, predicted = torch.max(outputs.data, 1)\n",
        "\n",
        "    for j in range(labels.size(0)):\n",
        "      count += 1\n",
        "      focus = torch.argmax(alphas[j])\n",
        "      if alphas[j][focus] >= 0.5 :\n",
        "        argmax_more_than_half += 1\n",
        "      else:\n",
        "        argmax_less_than_half += 1\n",
        "\n",
        "      if(focus == fore_idx[j] and predicted[j] == labels[j]):\n",
        "          focus_true_pred_true += 1\n",
        "      elif(focus != fore_idx[j] and predicted[j] == labels[j]):\n",
        "        focus_false_pred_true += 1\n",
        "      elif(focus == fore_idx[j] and predicted[j] != labels[j]):\n",
        "        focus_true_pred_false += 1\n",
        "      elif(focus != fore_idx[j] and predicted[j] != labels[j]):\n",
        "        focus_false_pred_false += 1\n",
        "\n",
        "    total += labels.size(0)\n",
        "    correct += (predicted == labels).sum().item()\n",
        "\n",
        "print('Accuracy of the network on the 30000 train images: %f %%' % ( 100 * correct / total))\n",
        "print(\"total correct\", correct)\n",
        "print(\"total train set images\", total)\n",
        "\n",
        "print(\"focus_true_pred_true %d =============> FTPT : %f %%\" % (focus_true_pred_true , (100 * focus_true_pred_true / total) ) )\n",
        "print(\"focus_false_pred_true %d =============> FFPT : %f %%\" % (focus_false_pred_true, (100 * focus_false_pred_true / total) ) )\n",
        "print(\"focus_true_pred_false %d =============> FTPF : %f %%\" %( focus_true_pred_false , ( 100 * focus_true_pred_false / total) ) )\n",
        "print(\"focus_false_pred_false %d =============> FFPF : %f %%\" % (focus_false_pred_false, ( 100 * focus_false_pred_false / total) ) )\n",
        "\n",
        "print(\"argmax_more_than_half ==================> \",argmax_more_than_half)\n",
        "print(\"argmax_less_than_half ==================> \",argmax_less_than_half)\n",
        "print(count)\n",
        "\n",
        "print(\"=\"*100)\n",
        "\n",
        "col1.append(0)\n",
        "col2.append(argmax_more_than_half)\n",
        "col3.append(argmax_less_than_half)\n",
        "col4.append(focus_true_pred_true)\n",
        "col5.append(focus_false_pred_true)\n",
        "col6.append(focus_true_pred_false)\n",
        "col7.append(focus_false_pred_false)"
      ]
    },
    {
      "cell_type": "code",
      "execution_count": null,
      "id": "eeccb3cc",
      "metadata": {
        "execution": {
          "iopub.execute_input": "2021-09-07T08:24:59.329920Z",
          "iopub.status.busy": "2021-09-07T08:24:59.328877Z",
          "iopub.status.idle": "2021-09-07T08:25:03.444169Z",
          "shell.execute_reply": "2021-09-07T08:25:03.443038Z",
          "shell.execute_reply.started": "2021-09-07T03:26:45.135210Z"
        },
        "id": "eeccb3cc",
        "outputId": "f0acf694-b3f9-4e61-905f-a6562d7318f4",
        "papermill": {
          "duration": 4.171112,
          "end_time": "2021-09-07T08:25:03.444331",
          "exception": false,
          "start_time": "2021-09-07T08:24:59.273219",
          "status": "completed"
        },
        "tags": []
      },
      "outputs": [
        {
          "name": "stdout",
          "output_type": "stream",
          "text": [
            "Accuracy of the network on the 10000 test images: 33.790000 %\n",
            "total correct 3379\n",
            "total train set images 10000\n",
            "focus_true_pred_true 707 =============> FTPT : 7.070000 %\n",
            "focus_false_pred_true 2672 =============> FFPT : 26.720000 %\n",
            "focus_true_pred_false 1362 =============> FTPF : 13.620000 %\n",
            "focus_false_pred_false 5259 =============> FFPF : 52.590000 %\n",
            "argmax_more_than_half ==================>  0\n",
            "argmax_less_than_half ==================>  10000\n"
          ]
        }
      ],
      "source": [
        "correct = 0\n",
        "total = 0\n",
        "count = 0\n",
        "flag = 1\n",
        "focus_true_pred_true =0\n",
        "focus_false_pred_true =0\n",
        "focus_true_pred_false =0\n",
        "focus_false_pred_false =0\n",
        "\n",
        "argmax_more_than_half = 0\n",
        "argmax_less_than_half =0\n",
        "\n",
        "with torch.no_grad():\n",
        "  for data in test_loader:\n",
        "    inputs, labels , fore_idx = data\n",
        "    inputs = inputs.double()\n",
        "    inputs, labels , fore_idx = inputs.to(\"cuda\"),labels.to(\"cuda\"), fore_idx.to(\"cuda\")\n",
        "    alphas, avg_images = focus_net(inputs)\n",
        "    outputs = classify(avg_images)\n",
        "\n",
        "    _, predicted = torch.max(outputs.data, 1)\n",
        "\n",
        "    for j in range(labels.size(0)):\n",
        "      focus = torch.argmax(alphas[j])\n",
        "      if alphas[j][focus] >= 0.5 :\n",
        "        argmax_more_than_half += 1\n",
        "      else:\n",
        "        argmax_less_than_half += 1\n",
        "\n",
        "      if(focus == fore_idx[j] and predicted[j] == labels[j]):\n",
        "          focus_true_pred_true += 1\n",
        "      elif(focus != fore_idx[j] and predicted[j] == labels[j]):\n",
        "        focus_false_pred_true += 1\n",
        "      elif(focus == fore_idx[j] and predicted[j] != labels[j]):\n",
        "        focus_true_pred_false += 1\n",
        "      elif(focus != fore_idx[j] and predicted[j] != labels[j]):\n",
        "        focus_false_pred_false += 1\n",
        "\n",
        "    total += labels.size(0)\n",
        "    correct += (predicted == labels).sum().item()\n",
        "\n",
        "print('Accuracy of the network on the 10000 test images: %f %%' % (\n",
        "    100 * correct / total))\n",
        "print(\"total correct\", correct)\n",
        "print(\"total train set images\", total)\n",
        "\n",
        "print(\"focus_true_pred_true %d =============> FTPT : %f %%\" % (focus_true_pred_true , (100 * focus_true_pred_true / total) ) )\n",
        "print(\"focus_false_pred_true %d =============> FFPT : %f %%\" % (focus_false_pred_true, (100 * focus_false_pred_true / total) ) )\n",
        "print(\"focus_true_pred_false %d =============> FTPF : %f %%\" %( focus_true_pred_false , ( 100 * focus_true_pred_false / total) ) )\n",
        "print(\"focus_false_pred_false %d =============> FFPF : %f %%\" % (focus_false_pred_false, ( 100 * focus_false_pred_false / total) ) )\n",
        "\n",
        "print(\"argmax_more_than_half ==================> \",argmax_more_than_half)\n",
        "print(\"argmax_less_than_half ==================> \",argmax_less_than_half)\n",
        "col8.append(argmax_more_than_half)\n",
        "col9.append(argmax_less_than_half)\n",
        "col10.append(focus_true_pred_true)\n",
        "col11.append(focus_false_pred_true)\n",
        "col12.append(focus_true_pred_false)\n",
        "col13.append(focus_false_pred_false)"
      ]
    },
    {
      "cell_type": "code",
      "execution_count": null,
      "id": "e59d07e7",
      "metadata": {
        "execution": {
          "iopub.execute_input": "2021-09-07T08:25:03.550687Z",
          "iopub.status.busy": "2021-09-07T08:25:03.549871Z",
          "iopub.status.idle": "2021-09-07T08:34:29.247761Z",
          "shell.execute_reply": "2021-09-07T08:34:29.248317Z"
        },
        "id": "e59d07e7",
        "outputId": "9eb8c352-95f9-405e-a7d0-e0739cd1cd16",
        "papermill": {
          "duration": 565.760935,
          "end_time": "2021-09-07T08:34:29.248527",
          "exception": false,
          "start_time": "2021-09-07T08:25:03.487592",
          "status": "completed"
        },
        "tags": []
      },
      "outputs": [
        {
          "name": "stdout",
          "output_type": "stream",
          "text": [
            "[1,   150] loss: 1.003\n",
            "[1,   300] loss: 0.876\n",
            "====================\n",
            "Train FTPT :  [1994, 9432]\n",
            "Train FFPT :  [7932, 7093]\n",
            "Test FTPT :  [707, 4023]\n",
            "Test FFPT :  [2672, 2287]\n",
            "====================\n",
            "[2,   150] loss: 0.787\n",
            "[2,   300] loss: 0.746\n",
            "[3,   150] loss: 0.687\n",
            "[3,   300] loss: 0.652\n",
            "[4,   150] loss: 0.593\n",
            "[4,   300] loss: 0.554\n",
            "[5,   150] loss: 0.500\n",
            "[5,   300] loss: 0.478\n",
            "[6,   150] loss: 0.428\n",
            "[6,   300] loss: 0.417\n",
            "====================\n",
            "Train FTPT :  [1994, 9432, 20186]\n",
            "Train FFPT :  [7932, 7093, 4747]\n",
            "Test FTPT :  [707, 4023, 6477]\n",
            "Test FFPT :  [2672, 2287, 1497]\n",
            "====================\n",
            "[7,   150] loss: 0.359\n",
            "[7,   300] loss: 0.361\n",
            "[8,   150] loss: 0.309\n",
            "[8,   300] loss: 0.308\n",
            "[9,   150] loss: 0.262\n",
            "[9,   300] loss: 0.268\n",
            "[10,   150] loss: 0.221\n",
            "[10,   300] loss: 0.224\n",
            "[11,   150] loss: 0.189\n",
            "[11,   300] loss: 0.203\n",
            "====================\n",
            "Train FTPT :  [1994, 9432, 20186, 23477]\n",
            "Train FFPT :  [7932, 7093, 4747, 4425]\n",
            "Test FTPT :  [707, 4023, 6477, 7221]\n",
            "Test FFPT :  [2672, 2287, 1497, 1398]\n",
            "====================\n",
            "[12,   150] loss: 0.174\n",
            "[12,   300] loss: 0.174\n",
            "[13,   150] loss: 0.147\n",
            "[13,   300] loss: 0.161\n",
            "[14,   150] loss: 0.128\n",
            "[14,   300] loss: 0.143\n",
            "[15,   150] loss: 0.114\n",
            "[15,   300] loss: 0.131\n",
            "[16,   150] loss: 0.096\n",
            "[16,   300] loss: 0.114\n",
            "====================\n",
            "Train FTPT :  [1994, 9432, 20186, 23477, 24673]\n",
            "Train FFPT :  [7932, 7093, 4747, 4425, 4315]\n",
            "Test FTPT :  [707, 4023, 6477, 7221, 7650]\n",
            "Test FFPT :  [2672, 2287, 1497, 1398, 1262]\n",
            "====================\n",
            "[17,   150] loss: 0.091\n",
            "[17,   300] loss: 0.104\n",
            "[18,   150] loss: 0.080\n",
            "[18,   300] loss: 0.083\n",
            "[19,   150] loss: 0.073\n",
            "[19,   300] loss: 0.085\n",
            "[20,   150] loss: 0.064\n",
            "[20,   300] loss: 0.066\n",
            "[21,   150] loss: 0.062\n",
            "[21,   300] loss: 0.071\n",
            "====================\n",
            "Train FTPT :  [1994, 9432, 20186, 23477, 24673, 25100]\n",
            "Train FFPT :  [7932, 7093, 4747, 4425, 4315, 4260]\n",
            "Test FTPT :  [707, 4023, 6477, 7221, 7650, 7653]\n",
            "Test FFPT :  [2672, 2287, 1497, 1398, 1262, 1179]\n",
            "====================\n",
            "[22,   150] loss: 0.073\n",
            "[22,   300] loss: 0.070\n",
            "[23,   150] loss: 0.063\n",
            "[23,   300] loss: 0.070\n",
            "[24,   150] loss: 0.053\n",
            "[24,   300] loss: 0.052\n",
            "[25,   150] loss: 0.035\n",
            "[25,   300] loss: 0.066\n",
            "[26,   150] loss: 0.053\n",
            "[26,   300] loss: 0.044\n",
            "====================\n",
            "Train FTPT :  [1994, 9432, 20186, 23477, 24673, 25100, 25279]\n",
            "Train FFPT :  [7932, 7093, 4747, 4425, 4315, 4260, 4253]\n",
            "Test FTPT :  [707, 4023, 6477, 7221, 7650, 7653, 7732]\n",
            "Test FFPT :  [2672, 2287, 1497, 1398, 1262, 1179, 1241]\n",
            "====================\n",
            "[27,   150] loss: 0.028\n",
            "[27,   300] loss: 0.042\n",
            "[28,   150] loss: 0.042\n",
            "[28,   300] loss: 0.045\n",
            "[29,   150] loss: 0.047\n",
            "[29,   300] loss: 0.062\n",
            "[30,   150] loss: 0.036\n",
            "[30,   300] loss: 0.035\n",
            "[31,   150] loss: 0.035\n",
            "[31,   300] loss: 0.036\n",
            "====================\n",
            "Train FTPT :  [1994, 9432, 20186, 23477, 24673, 25100, 25279, 25490]\n",
            "Train FFPT :  [7932, 7093, 4747, 4425, 4315, 4260, 4253, 4164]\n",
            "Test FTPT :  [707, 4023, 6477, 7221, 7650, 7653, 7732, 7720]\n",
            "Test FFPT :  [2672, 2287, 1497, 1398, 1262, 1179, 1241, 1149]\n",
            "====================\n",
            "[32,   150] loss: 0.040\n",
            "[32,   300] loss: 0.068\n",
            "[33,   150] loss: 0.025\n",
            "[33,   300] loss: 0.030\n",
            "[34,   150] loss: 0.028\n",
            "[34,   300] loss: 0.038\n",
            "[35,   150] loss: 0.027\n",
            "[35,   300] loss: 0.039\n",
            "[36,   150] loss: 0.036\n",
            "[36,   300] loss: 0.031\n",
            "====================\n",
            "Train FTPT :  [1994, 9432, 20186, 23477, 24673, 25100, 25279, 25490, 25549]\n",
            "Train FFPT :  [7932, 7093, 4747, 4425, 4315, 4260, 4253, 4164, 4168]\n",
            "Test FTPT :  [707, 4023, 6477, 7221, 7650, 7653, 7732, 7720, 7804]\n",
            "Test FFPT :  [2672, 2287, 1497, 1398, 1262, 1179, 1241, 1149, 1142]\n",
            "====================\n",
            "[37,   150] loss: 0.027\n",
            "[37,   300] loss: 0.040\n",
            "[38,   150] loss: 0.040\n",
            "[38,   300] loss: 0.033\n",
            "[39,   150] loss: 0.016\n",
            "[39,   300] loss: 0.021\n",
            "[40,   150] loss: 0.014\n",
            "[40,   300] loss: 0.041\n",
            "[41,   150] loss: 0.043\n",
            "[41,   300] loss: 0.029\n",
            "====================\n",
            "Train FTPT :  [1994, 9432, 20186, 23477, 24673, 25100, 25279, 25490, 25549, 25438]\n",
            "Train FFPT :  [7932, 7093, 4747, 4425, 4315, 4260, 4253, 4164, 4168, 4237]\n",
            "Test FTPT :  [707, 4023, 6477, 7221, 7650, 7653, 7732, 7720, 7804, 7819]\n",
            "Test FFPT :  [2672, 2287, 1497, 1398, 1262, 1179, 1241, 1149, 1142, 1106]\n",
            "====================\n",
            "[42,   150] loss: 0.017\n",
            "[42,   300] loss: 0.014\n",
            "[43,   150] loss: 0.031\n",
            "[43,   300] loss: 0.057\n",
            "[44,   150] loss: 0.045\n",
            "[44,   300] loss: 0.025\n",
            "[45,   150] loss: 0.017\n",
            "[45,   300] loss: 0.015\n",
            "[46,   150] loss: 0.012\n",
            "[46,   300] loss: 0.034\n",
            "====================\n",
            "Train FTPT :  [1994, 9432, 20186, 23477, 24673, 25100, 25279, 25490, 25549, 25438, 25711]\n",
            "Train FFPT :  [7932, 7093, 4747, 4425, 4315, 4260, 4253, 4164, 4168, 4237, 4091]\n",
            "Test FTPT :  [707, 4023, 6477, 7221, 7650, 7653, 7732, 7720, 7804, 7819, 7799]\n",
            "Test FFPT :  [2672, 2287, 1497, 1398, 1262, 1179, 1241, 1149, 1142, 1106, 1197]\n",
            "====================\n",
            "[47,   150] loss: 0.029\n",
            "[47,   300] loss: 0.047\n",
            "[48,   150] loss: 0.021\n",
            "[48,   300] loss: 0.023\n",
            "[49,   150] loss: 0.024\n",
            "[49,   300] loss: 0.023\n",
            "[50,   150] loss: 0.024\n",
            "[50,   300] loss: 0.020\n",
            "[51,   150] loss: 0.015\n",
            "[51,   300] loss: 0.021\n",
            "====================\n",
            "Train FTPT :  [1994, 9432, 20186, 23477, 24673, 25100, 25279, 25490, 25549, 25438, 25711, 25663]\n",
            "Train FFPT :  [7932, 7093, 4747, 4425, 4315, 4260, 4253, 4164, 4168, 4237, 4091, 4179]\n",
            "Test FTPT :  [707, 4023, 6477, 7221, 7650, 7653, 7732, 7720, 7804, 7819, 7799, 7864]\n",
            "Test FFPT :  [2672, 2287, 1497, 1398, 1262, 1179, 1241, 1149, 1142, 1106, 1197, 1120]\n",
            "====================\n",
            "[52,   150] loss: 0.015\n",
            "[52,   300] loss: 0.017\n",
            "[53,   150] loss: 0.020\n",
            "[53,   300] loss: 0.041\n",
            "[54,   150] loss: 0.028\n",
            "[54,   300] loss: 0.029\n",
            "[55,   150] loss: 0.011\n",
            "[55,   300] loss: 0.007\n",
            "Finished Training\n"
          ]
        }
      ],
      "source": [
        "nos_epochs = 200\n",
        "focus_true_pred_true =0\n",
        "focus_false_pred_true =0\n",
        "focus_true_pred_false =0\n",
        "focus_false_pred_false =0\n",
        "\n",
        "argmax_more_than_half = 0\n",
        "argmax_less_than_half =0\n",
        "\n",
        "\n",
        "for epoch in range(nos_epochs):  # loop over the dataset multiple times\n",
        "\n",
        "  focus_true_pred_true =0\n",
        "  focus_false_pred_true =0\n",
        "  focus_true_pred_false =0\n",
        "  focus_false_pred_false =0\n",
        "  \n",
        "  argmax_more_than_half = 0\n",
        "  argmax_less_than_half =0\n",
        "  \n",
        "  running_loss = 0.0\n",
        "  epoch_loss = []\n",
        "  cnt=0\n",
        "\n",
        "  iteration = desired_num // batch\n",
        "  \n",
        "  #training data set\n",
        "  \n",
        "  for i, data in  enumerate(train_loader):\n",
        "    inputs , labels , fore_idx = data\n",
        "    inputs, labels = inputs.to(\"cuda\"), labels.to(\"cuda\")\n",
        "    inputs = inputs.double()\n",
        "    # zero the parameter gradients\n",
        "    \n",
        "    optimizer_focus.zero_grad()\n",
        "    optimizer_classify.zero_grad()\n",
        "    \n",
        "    alphas, avg_images = focus_net(inputs)\n",
        "    outputs = classify(avg_images)\n",
        "\n",
        "    _, predicted = torch.max(outputs.data, 1)\n",
        "#     print(outputs)\n",
        "#     print(outputs.shape,labels.shape , torch.argmax(outputs, dim=1))\n",
        "\n",
        "    loss = criterion(outputs, labels) \n",
        "    loss.backward()\n",
        "    optimizer_focus.step()\n",
        "    optimizer_classify.step()\n",
        "\n",
        "    running_loss += loss.item()\n",
        "    mini = 150\n",
        "    if cnt % mini == mini-1:    # print every 40 mini-batches\n",
        "      print('[%d, %5d] loss: %.3f' %(epoch + 1, cnt + 1, running_loss / mini))\n",
        "      epoch_loss.append(running_loss/mini)\n",
        "      running_loss = 0.0\n",
        "    cnt=cnt+1\n",
        "    \n",
        "    if epoch % 5 == 0:\n",
        "      for j in range (inputs.size(0)):\n",
        "        #print(alphas.shape)\n",
        "        focus = torch.argmax(alphas[j])\n",
        "\n",
        "        if(alphas[j][focus] >= 0.5):\n",
        "          argmax_more_than_half +=1\n",
        "        else:\n",
        "          argmax_less_than_half +=1\n",
        "\n",
        "        if(focus == fore_idx[j] and predicted[j] == labels[j]):\n",
        "          focus_true_pred_true += 1\n",
        "\n",
        "        elif(focus != fore_idx[j] and predicted[j] == labels[j]):\n",
        "          focus_false_pred_true +=1\n",
        "\n",
        "        elif(focus == fore_idx[j] and predicted[j] != labels[j]):\n",
        "          focus_true_pred_false +=1\n",
        "\n",
        "        elif(focus != fore_idx[j] and predicted[j] != labels[j]):\n",
        "          focus_false_pred_false +=1\n",
        "\n",
        "  if(np.mean(epoch_loss) <= 0.01):\n",
        "      break;\n",
        "\n",
        "  if epoch % 5 == 0:\n",
        "    col1.append(epoch + 1)\n",
        "    col2.append(argmax_more_than_half)\n",
        "    col3.append(argmax_less_than_half)\n",
        "    col4.append(focus_true_pred_true)\n",
        "    col5.append(focus_false_pred_true)\n",
        "    col6.append(focus_true_pred_false)\n",
        "    col7.append(focus_false_pred_false)\n",
        "    print(\"=\"*20)\n",
        "    print(\"Train FTPT : \", col4)\n",
        "    print(\"Train FFPT : \", col5)\n",
        "    #************************************************************************\n",
        "    #testing data set  \n",
        "    # focus_net.eval()\n",
        "    with torch.no_grad():\n",
        "      focus_true_pred_true =0\n",
        "      focus_false_pred_true =0\n",
        "      focus_true_pred_false =0\n",
        "      focus_false_pred_false =0\n",
        "\n",
        "      argmax_more_than_half = 0\n",
        "      argmax_less_than_half =0\n",
        "      for data in test_loader:\n",
        "        inputs, labels , fore_idx = data\n",
        "        inputs = inputs.double()\n",
        "        inputs, labels = inputs.to(\"cuda\"), labels.to(\"cuda\")\n",
        "        alphas, avg_images = focus_net(inputs)\n",
        "        outputs = classify(avg_images)\n",
        "        _, predicted = torch.max(outputs.data, 1)\n",
        "\n",
        "        for j in range (inputs.size(0)):\n",
        "          focus = torch.argmax(alphas[j],dim=-1)\n",
        "\n",
        "          if(alphas[j][focus] >= 0.5):\n",
        "            argmax_more_than_half +=1\n",
        "          else:\n",
        "            argmax_less_than_half +=1\n",
        "\n",
        "          if(focus == fore_idx[j] and predicted[j] == labels[j]):\n",
        "            focus_true_pred_true += 1\n",
        "\n",
        "          elif(focus != fore_idx[j] and predicted[j] == labels[j]):\n",
        "            focus_false_pred_true +=1\n",
        "\n",
        "          elif(focus == fore_idx[j] and predicted[j] != labels[j]):\n",
        "            focus_true_pred_false +=1\n",
        "\n",
        "          elif(focus != fore_idx[j] and predicted[j] != labels[j]):\n",
        "            focus_false_pred_false +=1\n",
        "      \n",
        "    col8.append(argmax_more_than_half)\n",
        "    col9.append(argmax_less_than_half)\n",
        "    col10.append(focus_true_pred_true)\n",
        "    col11.append(focus_false_pred_true)\n",
        "    col12.append(focus_true_pred_false)\n",
        "    col13.append(focus_false_pred_false)\n",
        "    print(\"Test FTPT : \", col10)\n",
        "    print(\"Test FFPT : \", col11)\n",
        "    print(\"=\"*20)\n",
        "    \n",
        "print('Finished Training')"
      ]
    },
    {
      "cell_type": "code",
      "execution_count": null,
      "id": "c84443ee",
      "metadata": {
        "execution": {
          "iopub.execute_input": "2021-09-07T08:34:29.398533Z",
          "iopub.status.busy": "2021-09-07T08:34:29.398000Z",
          "iopub.status.idle": "2021-09-07T08:34:29.424427Z",
          "shell.execute_reply": "2021-09-07T08:34:29.423477Z"
        },
        "id": "c84443ee",
        "papermill": {
          "duration": 0.101591,
          "end_time": "2021-09-07T08:34:29.424544",
          "exception": false,
          "start_time": "2021-09-07T08:34:29.322953",
          "status": "completed"
        },
        "tags": []
      },
      "outputs": [],
      "source": [
        "torch.save(focus_net.state_dict(),path+\"_focus.pt\")\n",
        "torch.save(classify.state_dict(),path+\"_classify.pt\")"
      ]
    },
    {
      "cell_type": "code",
      "execution_count": null,
      "id": "4a1153f9",
      "metadata": {
        "execution": {
          "iopub.execute_input": "2021-09-07T08:34:29.574980Z",
          "iopub.status.busy": "2021-09-07T08:34:29.574218Z",
          "iopub.status.idle": "2021-09-07T08:34:29.576395Z",
          "shell.execute_reply": "2021-09-07T08:34:29.576801Z"
        },
        "id": "4a1153f9",
        "papermill": {
          "duration": 0.079947,
          "end_time": "2021-09-07T08:34:29.576926",
          "exception": false,
          "start_time": "2021-09-07T08:34:29.496979",
          "status": "completed"
        },
        "tags": []
      },
      "outputs": [],
      "source": [
        "df_train = pd.DataFrame()\n",
        "df_test = pd.DataFrame()"
      ]
    },
    {
      "cell_type": "code",
      "execution_count": null,
      "id": "d0fe3eab",
      "metadata": {
        "execution": {
          "iopub.execute_input": "2021-09-07T08:34:29.724549Z",
          "iopub.status.busy": "2021-09-07T08:34:29.723873Z",
          "iopub.status.idle": "2021-09-07T08:34:29.726222Z",
          "shell.execute_reply": "2021-09-07T08:34:29.726596Z"
        },
        "id": "d0fe3eab",
        "papermill": {
          "duration": 0.077535,
          "end_time": "2021-09-07T08:34:29.726721",
          "exception": false,
          "start_time": "2021-09-07T08:34:29.649186",
          "status": "completed"
        },
        "tags": []
      },
      "outputs": [],
      "source": [
        "columns = [\"epochs\", \"argmax > 0.5\" ,\"argmax < 0.5\", \"focus_true_pred_true\", \"focus_false_pred_true\", \"focus_true_pred_false\", \"focus_false_pred_false\" ]"
      ]
    },
    {
      "cell_type": "code",
      "execution_count": null,
      "id": "c94329a0",
      "metadata": {
        "execution": {
          "iopub.execute_input": "2021-09-07T08:34:29.892048Z",
          "iopub.status.busy": "2021-09-07T08:34:29.891346Z",
          "iopub.status.idle": "2021-09-07T08:34:29.893657Z",
          "shell.execute_reply": "2021-09-07T08:34:29.894047Z"
        },
        "id": "c94329a0",
        "papermill": {
          "duration": 0.095269,
          "end_time": "2021-09-07T08:34:29.894183",
          "exception": false,
          "start_time": "2021-09-07T08:34:29.798914",
          "status": "completed"
        },
        "tags": []
      },
      "outputs": [],
      "source": [
        "df_train[columns[0]] = col1\n",
        "df_train[columns[1]] = col2\n",
        "df_train[columns[2]] = col3\n",
        "df_train[columns[3]] = col4\n",
        "df_train[columns[4]] = col5\n",
        "df_train[columns[5]] = col6\n",
        "df_train[columns[6]] = col7\n",
        "\n",
        "df_test[columns[0]] = col1\n",
        "df_test[columns[1]] = col8\n",
        "df_test[columns[2]] = col9\n",
        "df_test[columns[3]] = col10\n",
        "df_test[columns[4]] = col11\n",
        "df_test[columns[5]] = col12\n",
        "df_test[columns[6]] = col13"
      ]
    },
    {
      "cell_type": "code",
      "execution_count": null,
      "id": "ecd5aabd",
      "metadata": {
        "execution": {
          "iopub.execute_input": "2021-09-07T08:34:30.041538Z",
          "iopub.status.busy": "2021-09-07T08:34:30.040908Z",
          "iopub.status.idle": "2021-09-07T08:34:30.057910Z",
          "shell.execute_reply": "2021-09-07T08:34:30.057490Z"
        },
        "id": "ecd5aabd",
        "outputId": "dd02c76f-29d0-4717-eb4d-0cfc3fcff5f6",
        "papermill": {
          "duration": 0.092535,
          "end_time": "2021-09-07T08:34:30.058027",
          "exception": false,
          "start_time": "2021-09-07T08:34:29.965492",
          "status": "completed"
        },
        "tags": []
      },
      "outputs": [
        {
          "data": {
            "text/html": [
              "<div>\n",
              "<style scoped>\n",
              "    .dataframe tbody tr th:only-of-type {\n",
              "        vertical-align: middle;\n",
              "    }\n",
              "\n",
              "    .dataframe tbody tr th {\n",
              "        vertical-align: top;\n",
              "    }\n",
              "\n",
              "    .dataframe thead th {\n",
              "        text-align: right;\n",
              "    }\n",
              "</style>\n",
              "<table border=\"1\" class=\"dataframe\">\n",
              "  <thead>\n",
              "    <tr style=\"text-align: right;\">\n",
              "      <th></th>\n",
              "      <th>epochs</th>\n",
              "      <th>argmax &gt; 0.5</th>\n",
              "      <th>argmax &lt; 0.5</th>\n",
              "      <th>focus_true_pred_true</th>\n",
              "      <th>focus_false_pred_true</th>\n",
              "      <th>focus_true_pred_false</th>\n",
              "      <th>focus_false_pred_false</th>\n",
              "    </tr>\n",
              "  </thead>\n",
              "  <tbody>\n",
              "    <tr>\n",
              "      <th>0</th>\n",
              "      <td>0</td>\n",
              "      <td>0</td>\n",
              "      <td>30000</td>\n",
              "      <td>1994</td>\n",
              "      <td>7932</td>\n",
              "      <td>4116</td>\n",
              "      <td>15958</td>\n",
              "    </tr>\n",
              "    <tr>\n",
              "      <th>1</th>\n",
              "      <td>1</td>\n",
              "      <td>11840</td>\n",
              "      <td>18160</td>\n",
              "      <td>9432</td>\n",
              "      <td>7093</td>\n",
              "      <td>4165</td>\n",
              "      <td>9310</td>\n",
              "    </tr>\n",
              "    <tr>\n",
              "      <th>2</th>\n",
              "      <td>6</td>\n",
              "      <td>22011</td>\n",
              "      <td>7989</td>\n",
              "      <td>20186</td>\n",
              "      <td>4747</td>\n",
              "      <td>2107</td>\n",
              "      <td>2960</td>\n",
              "    </tr>\n",
              "    <tr>\n",
              "      <th>3</th>\n",
              "      <td>11</td>\n",
              "      <td>24228</td>\n",
              "      <td>5772</td>\n",
              "      <td>23477</td>\n",
              "      <td>4425</td>\n",
              "      <td>782</td>\n",
              "      <td>1316</td>\n",
              "    </tr>\n",
              "    <tr>\n",
              "      <th>4</th>\n",
              "      <td>16</td>\n",
              "      <td>24926</td>\n",
              "      <td>5074</td>\n",
              "      <td>24673</td>\n",
              "      <td>4315</td>\n",
              "      <td>345</td>\n",
              "      <td>667</td>\n",
              "    </tr>\n",
              "    <tr>\n",
              "      <th>5</th>\n",
              "      <td>21</td>\n",
              "      <td>24906</td>\n",
              "      <td>5094</td>\n",
              "      <td>25100</td>\n",
              "      <td>4260</td>\n",
              "      <td>237</td>\n",
              "      <td>403</td>\n",
              "    </tr>\n",
              "    <tr>\n",
              "      <th>6</th>\n",
              "      <td>26</td>\n",
              "      <td>25004</td>\n",
              "      <td>4996</td>\n",
              "      <td>25279</td>\n",
              "      <td>4253</td>\n",
              "      <td>171</td>\n",
              "      <td>297</td>\n",
              "    </tr>\n",
              "    <tr>\n",
              "      <th>7</th>\n",
              "      <td>31</td>\n",
              "      <td>25015</td>\n",
              "      <td>4985</td>\n",
              "      <td>25490</td>\n",
              "      <td>4164</td>\n",
              "      <td>134</td>\n",
              "      <td>212</td>\n",
              "    </tr>\n",
              "    <tr>\n",
              "      <th>8</th>\n",
              "      <td>36</td>\n",
              "      <td>24574</td>\n",
              "      <td>5426</td>\n",
              "      <td>25549</td>\n",
              "      <td>4168</td>\n",
              "      <td>111</td>\n",
              "      <td>172</td>\n",
              "    </tr>\n",
              "    <tr>\n",
              "      <th>9</th>\n",
              "      <td>41</td>\n",
              "      <td>24590</td>\n",
              "      <td>5410</td>\n",
              "      <td>25438</td>\n",
              "      <td>4237</td>\n",
              "      <td>144</td>\n",
              "      <td>181</td>\n",
              "    </tr>\n",
              "    <tr>\n",
              "      <th>10</th>\n",
              "      <td>46</td>\n",
              "      <td>24711</td>\n",
              "      <td>5289</td>\n",
              "      <td>25711</td>\n",
              "      <td>4091</td>\n",
              "      <td>99</td>\n",
              "      <td>99</td>\n",
              "    </tr>\n",
              "    <tr>\n",
              "      <th>11</th>\n",
              "      <td>51</td>\n",
              "      <td>24525</td>\n",
              "      <td>5475</td>\n",
              "      <td>25663</td>\n",
              "      <td>4179</td>\n",
              "      <td>81</td>\n",
              "      <td>77</td>\n",
              "    </tr>\n",
              "  </tbody>\n",
              "</table>\n",
              "</div>"
            ],
            "text/plain": [
              "    epochs  argmax > 0.5  argmax < 0.5  focus_true_pred_true  \\\n",
              "0        0             0         30000                  1994   \n",
              "1        1         11840         18160                  9432   \n",
              "2        6         22011          7989                 20186   \n",
              "3       11         24228          5772                 23477   \n",
              "4       16         24926          5074                 24673   \n",
              "5       21         24906          5094                 25100   \n",
              "6       26         25004          4996                 25279   \n",
              "7       31         25015          4985                 25490   \n",
              "8       36         24574          5426                 25549   \n",
              "9       41         24590          5410                 25438   \n",
              "10      46         24711          5289                 25711   \n",
              "11      51         24525          5475                 25663   \n",
              "\n",
              "    focus_false_pred_true  focus_true_pred_false  focus_false_pred_false  \n",
              "0                    7932                   4116                   15958  \n",
              "1                    7093                   4165                    9310  \n",
              "2                    4747                   2107                    2960  \n",
              "3                    4425                    782                    1316  \n",
              "4                    4315                    345                     667  \n",
              "5                    4260                    237                     403  \n",
              "6                    4253                    171                     297  \n",
              "7                    4164                    134                     212  \n",
              "8                    4168                    111                     172  \n",
              "9                    4237                    144                     181  \n",
              "10                   4091                     99                      99  \n",
              "11                   4179                     81                      77  "
            ]
          },
          "execution_count": 48,
          "metadata": {},
          "output_type": "execute_result"
        }
      ],
      "source": [
        "df_train"
      ]
    },
    {
      "cell_type": "code",
      "execution_count": null,
      "id": "6a969b1e",
      "metadata": {
        "execution": {
          "iopub.execute_input": "2021-09-07T08:34:30.208460Z",
          "iopub.status.busy": "2021-09-07T08:34:30.207935Z",
          "iopub.status.idle": "2021-09-07T08:34:30.215002Z",
          "shell.execute_reply": "2021-09-07T08:34:30.214606Z"
        },
        "id": "6a969b1e",
        "papermill": {
          "duration": 0.084109,
          "end_time": "2021-09-07T08:34:30.215107",
          "exception": false,
          "start_time": "2021-09-07T08:34:30.130998",
          "status": "completed"
        },
        "tags": []
      },
      "outputs": [],
      "source": [
        "df_train.to_csv(path+\"_train.csv\",index=False)"
      ]
    },
    {
      "cell_type": "code",
      "execution_count": null,
      "id": "5af97fa3",
      "metadata": {
        "execution": {
          "iopub.execute_input": "2021-09-07T08:34:30.372063Z",
          "iopub.status.busy": "2021-09-07T08:34:30.371280Z",
          "iopub.status.idle": "2021-09-07T08:34:30.502984Z",
          "shell.execute_reply": "2021-09-07T08:34:30.503420Z"
        },
        "id": "5af97fa3",
        "outputId": "43ee8c71-04a2-47c3-b20b-a2283c7c1920",
        "papermill": {
          "duration": 0.215713,
          "end_time": "2021-09-07T08:34:30.503550",
          "exception": false,
          "start_time": "2021-09-07T08:34:30.287837",
          "status": "completed"
        },
        "tags": []
      },
      "outputs": [
        {
          "data": {
            "image/png": "[encoded data removed]",
            "text/plain": [
              "<Figure size 432x288 with 1 Axes>"
            ]
          },
          "metadata": {
            "needs_background": "light"
          },
          "output_type": "display_data"
        }
      ],
      "source": [
        "# plt.figure(12,12)\n",
        "plt.plot(col1,col2, label='argmax > 0.5')\n",
        "plt.plot(col1,col3, label='argmax < 0.5')\n",
        "\n",
        "plt.legend(loc='center left', bbox_to_anchor=(1, 0.5))\n",
        "plt.xlabel(\"epochs\")\n",
        "plt.ylabel(\"training data\")\n",
        "plt.title(\"On Training set\")\n",
        "plt.show()\n",
        "\n"
      ]
    },
    {
      "cell_type": "code",
      "execution_count": null,
      "id": "1ddc6df1",
      "metadata": {
        "execution": {
          "iopub.execute_input": "2021-09-07T08:34:30.682715Z",
          "iopub.status.busy": "2021-09-07T08:34:30.681665Z",
          "iopub.status.idle": "2021-09-07T08:34:31.160501Z",
          "shell.execute_reply": "2021-09-07T08:34:31.160896Z"
        },
        "id": "1ddc6df1",
        "outputId": "7913a937-8a85-4ffa-e8bc-718aeb17d01f",
        "papermill": {
          "duration": 0.582498,
          "end_time": "2021-09-07T08:34:31.161035",
          "exception": false,
          "start_time": "2021-09-07T08:34:30.578537",
          "status": "completed"
        },
        "tags": []
      },
      "outputs": [
        {
          "data": {
            "image/png": "[encoded data removed]",
            "text/plain": [
              "<Figure size 432x360 with 1 Axes>"
            ]
          },
          "metadata": {
            "needs_background": "light"
          },
          "output_type": "display_data"
        }
      ],
      "source": [
        "plt.figure(figsize=(6,5))\n",
        "plt.plot(col1,np.array(col4)/300, label =\"FTPT\")\n",
        "plt.plot(col1,np.array(col5)/300, label =\"FFPT\")\n",
        "plt.plot(col1,np.array(col6)/300, label =\"FTPF\")\n",
        "plt.plot(col1,np.array(col7)/300, label =\"FFPF\")\n",
        "plt.title(\"CIFAR - SDC On Train set\")\n",
        "plt.grid()\n",
        "# plt.legend(loc='center left', bbox_to_anchor=(1, 0.5))\n",
        "plt.legend()\n",
        "plt.xlabel(\"epochs\", fontsize=14, fontweight = 'bold')\n",
        "plt.ylabel(\"percentage train data\", fontsize=14, fontweight = 'bold')\n",
        "# plt.savefig(path+\"cifar_train.png\", bbox_inches=\"tight\")\n",
        "# plt.savefig(path+\"cifar_train.pdf\", bbox_inches=\"tight\")\n",
        "plt.savefig(path+\"cifar_train.png\", bbox_inches=\"tight\")\n",
        "plt.savefig(path+\"cifar_train.pdf\", bbox_inches=\"tight\")\n",
        "plt.show()"
      ]
    },
    {
      "cell_type": "code",
      "execution_count": null,
      "id": "6912ec78",
      "metadata": {
        "execution": {
          "iopub.execute_input": "2021-09-07T08:34:31.322636Z",
          "iopub.status.busy": "2021-09-07T08:34:31.321817Z",
          "iopub.status.idle": "2021-09-07T08:34:31.325033Z",
          "shell.execute_reply": "2021-09-07T08:34:31.325448Z"
        },
        "id": "6912ec78",
        "outputId": "8664f28e-e61f-4b57-928f-f4b971abbd6f",
        "papermill": {
          "duration": 0.088376,
          "end_time": "2021-09-07T08:34:31.325583",
          "exception": false,
          "start_time": "2021-09-07T08:34:31.237207",
          "status": "completed"
        },
        "tags": []
      },
      "outputs": [
        {
          "data": {
            "text/html": [
              "<div>\n",
              "<style scoped>\n",
              "    .dataframe tbody tr th:only-of-type {\n",
              "        vertical-align: middle;\n",
              "    }\n",
              "\n",
              "    .dataframe tbody tr th {\n",
              "        vertical-align: top;\n",
              "    }\n",
              "\n",
              "    .dataframe thead th {\n",
              "        text-align: right;\n",
              "    }\n",
              "</style>\n",
              "<table border=\"1\" class=\"dataframe\">\n",
              "  <thead>\n",
              "    <tr style=\"text-align: right;\">\n",
              "      <th></th>\n",
              "      <th>epochs</th>\n",
              "      <th>argmax &gt; 0.5</th>\n",
              "      <th>argmax &lt; 0.5</th>\n",
              "      <th>focus_true_pred_true</th>\n",
              "      <th>focus_false_pred_true</th>\n",
              "      <th>focus_true_pred_false</th>\n",
              "      <th>focus_false_pred_false</th>\n",
              "    </tr>\n",
              "  </thead>\n",
              "  <tbody>\n",
              "    <tr>\n",
              "      <th>0</th>\n",
              "      <td>0</td>\n",
              "      <td>0</td>\n",
              "      <td>10000</td>\n",
              "      <td>707</td>\n",
              "      <td>2672</td>\n",
              "      <td>1362</td>\n",
              "      <td>5259</td>\n",
              "    </tr>\n",
              "    <tr>\n",
              "      <th>1</th>\n",
              "      <td>1</td>\n",
              "      <td>4783</td>\n",
              "      <td>5217</td>\n",
              "      <td>4023</td>\n",
              "      <td>2287</td>\n",
              "      <td>1443</td>\n",
              "      <td>2247</td>\n",
              "    </tr>\n",
              "    <tr>\n",
              "      <th>2</th>\n",
              "      <td>6</td>\n",
              "      <td>7158</td>\n",
              "      <td>2842</td>\n",
              "      <td>6477</td>\n",
              "      <td>1497</td>\n",
              "      <td>950</td>\n",
              "      <td>1076</td>\n",
              "    </tr>\n",
              "    <tr>\n",
              "      <th>3</th>\n",
              "      <td>11</td>\n",
              "      <td>7879</td>\n",
              "      <td>2121</td>\n",
              "      <td>7221</td>\n",
              "      <td>1398</td>\n",
              "      <td>557</td>\n",
              "      <td>824</td>\n",
              "    </tr>\n",
              "    <tr>\n",
              "      <th>4</th>\n",
              "      <td>16</td>\n",
              "      <td>8146</td>\n",
              "      <td>1854</td>\n",
              "      <td>7650</td>\n",
              "      <td>1262</td>\n",
              "      <td>410</td>\n",
              "      <td>678</td>\n",
              "    </tr>\n",
              "    <tr>\n",
              "      <th>5</th>\n",
              "      <td>21</td>\n",
              "      <td>8146</td>\n",
              "      <td>1854</td>\n",
              "      <td>7653</td>\n",
              "      <td>1179</td>\n",
              "      <td>399</td>\n",
              "      <td>769</td>\n",
              "    </tr>\n",
              "    <tr>\n",
              "      <th>6</th>\n",
              "      <td>26</td>\n",
              "      <td>8034</td>\n",
              "      <td>1966</td>\n",
              "      <td>7732</td>\n",
              "      <td>1241</td>\n",
              "      <td>384</td>\n",
              "      <td>643</td>\n",
              "    </tr>\n",
              "    <tr>\n",
              "      <th>7</th>\n",
              "      <td>31</td>\n",
              "      <td>7969</td>\n",
              "      <td>2031</td>\n",
              "      <td>7720</td>\n",
              "      <td>1149</td>\n",
              "      <td>442</td>\n",
              "      <td>689</td>\n",
              "    </tr>\n",
              "    <tr>\n",
              "      <th>8</th>\n",
              "      <td>36</td>\n",
              "      <td>8130</td>\n",
              "      <td>1870</td>\n",
              "      <td>7804</td>\n",
              "      <td>1142</td>\n",
              "      <td>405</td>\n",
              "      <td>649</td>\n",
              "    </tr>\n",
              "    <tr>\n",
              "      <th>9</th>\n",
              "      <td>41</td>\n",
              "      <td>7798</td>\n",
              "      <td>2202</td>\n",
              "      <td>7819</td>\n",
              "      <td>1106</td>\n",
              "      <td>409</td>\n",
              "      <td>666</td>\n",
              "    </tr>\n",
              "    <tr>\n",
              "      <th>10</th>\n",
              "      <td>46</td>\n",
              "      <td>8124</td>\n",
              "      <td>1876</td>\n",
              "      <td>7799</td>\n",
              "      <td>1197</td>\n",
              "      <td>398</td>\n",
              "      <td>606</td>\n",
              "    </tr>\n",
              "    <tr>\n",
              "      <th>11</th>\n",
              "      <td>51</td>\n",
              "      <td>8141</td>\n",
              "      <td>1859</td>\n",
              "      <td>7864</td>\n",
              "      <td>1120</td>\n",
              "      <td>356</td>\n",
              "      <td>660</td>\n",
              "    </tr>\n",
              "  </tbody>\n",
              "</table>\n",
              "</div>"
            ],
            "text/plain": [
              "    epochs  argmax > 0.5  argmax < 0.5  focus_true_pred_true  \\\n",
              "0        0             0         10000                   707   \n",
              "1        1          4783          5217                  4023   \n",
              "2        6          7158          2842                  6477   \n",
              "3       11          7879          2121                  7221   \n",
              "4       16          8146          1854                  7650   \n",
              "5       21          8146          1854                  7653   \n",
              "6       26          8034          1966                  7732   \n",
              "7       31          7969          2031                  7720   \n",
              "8       36          8130          1870                  7804   \n",
              "9       41          7798          2202                  7819   \n",
              "10      46          8124          1876                  7799   \n",
              "11      51          8141          1859                  7864   \n",
              "\n",
              "    focus_false_pred_true  focus_true_pred_false  focus_false_pred_false  \n",
              "0                    2672                   1362                    5259  \n",
              "1                    2287                   1443                    2247  \n",
              "2                    1497                    950                    1076  \n",
              "3                    1398                    557                     824  \n",
              "4                    1262                    410                     678  \n",
              "5                    1179                    399                     769  \n",
              "6                    1241                    384                     643  \n",
              "7                    1149                    442                     689  \n",
              "8                    1142                    405                     649  \n",
              "9                    1106                    409                     666  \n",
              "10                   1197                    398                     606  \n",
              "11                   1120                    356                     660  "
            ]
          },
          "execution_count": 52,
          "metadata": {},
          "output_type": "execute_result"
        }
      ],
      "source": [
        "df_test"
      ]
    },
    {
      "cell_type": "code",
      "execution_count": null,
      "id": "0eac729d",
      "metadata": {
        "execution": {
          "iopub.execute_input": "2021-09-07T08:34:31.483859Z",
          "iopub.status.busy": "2021-09-07T08:34:31.483277Z",
          "iopub.status.idle": "2021-09-07T08:34:31.486335Z",
          "shell.execute_reply": "2021-09-07T08:34:31.485853Z"
        },
        "id": "0eac729d",
        "papermill": {
          "duration": 0.085984,
          "end_time": "2021-09-07T08:34:31.486445",
          "exception": false,
          "start_time": "2021-09-07T08:34:31.400461",
          "status": "completed"
        },
        "tags": []
      },
      "outputs": [],
      "source": [
        "df_test.to_csv(path+\"_test.csv\",index=False)"
      ]
    },
    {
      "cell_type": "code",
      "execution_count": null,
      "id": "fef44c03",
      "metadata": {
        "execution": {
          "iopub.execute_input": "2021-09-07T08:34:31.658603Z",
          "iopub.status.busy": "2021-09-07T08:34:31.657792Z",
          "iopub.status.idle": "2021-09-07T08:34:31.779217Z",
          "shell.execute_reply": "2021-09-07T08:34:31.778803Z"
        },
        "id": "fef44c03",
        "outputId": "48947570-f15a-47c7-d67f-c321551b5a09",
        "papermill": {
          "duration": 0.216452,
          "end_time": "2021-09-07T08:34:31.779328",
          "exception": false,
          "start_time": "2021-09-07T08:34:31.562876",
          "status": "completed"
        },
        "tags": []
      },
      "outputs": [
        {
          "data": {
            "image/png": "[encoded data removed]",
            "text/plain": [
              "<Figure size 432x288 with 1 Axes>"
            ]
          },
          "metadata": {
            "needs_background": "light"
          },
          "output_type": "display_data"
        }
      ],
      "source": [
        "# plt.figure(12,12)\n",
        "plt.plot(col1,col8, label='argmax > 0.5')\n",
        "plt.plot(col1,col9, label='argmax < 0.5')\n",
        "\n",
        "plt.legend(loc='center left', bbox_to_anchor=(1, 0.5))\n",
        "plt.xlabel(\"epochs\")\n",
        "plt.ylabel(\"Testing data\")\n",
        "plt.title(\"On Testing set\")\n",
        "plt.show()\n",
        "\n"
      ]
    },
    {
      "cell_type": "code",
      "execution_count": null,
      "id": "9b0dc081",
      "metadata": {
        "execution": {
          "iopub.execute_input": "2021-09-07T08:34:31.968576Z",
          "iopub.status.busy": "2021-09-07T08:34:31.967652Z",
          "iopub.status.idle": "2021-09-07T08:34:32.464902Z",
          "shell.execute_reply": "2021-09-07T08:34:32.464100Z"
        },
        "id": "9b0dc081",
        "outputId": "ec5e4375-ad04-4482-bc4f-b38e85ee5b9b",
        "papermill": {
          "duration": 0.606317,
          "end_time": "2021-09-07T08:34:32.465045",
          "exception": false,
          "start_time": "2021-09-07T08:34:31.858728",
          "status": "completed"
        },
        "tags": []
      },
      "outputs": [
        {
          "data": {
            "image/png": "[encoded data removed]",
            "text/plain": [
              "<Figure size 432x360 with 1 Axes>"
            ]
          },
          "metadata": {
            "needs_background": "light"
          },
          "output_type": "display_data"
        }
      ],
      "source": [
        "plt.figure(figsize=(6,5))\n",
        "plt.plot(col1,np.array(col10)/100, label =\"FTPT\")\n",
        "plt.plot(col1,np.array(col11)/100, label =\"FFPT\")\n",
        "plt.plot(col1,np.array(col12)/100, label =\"FTPF\")\n",
        "plt.plot(col1,np.array(col13)/100, label =\"FFPF\")\n",
        "plt.title(\"CIFAR - SDC On Test set\")\n",
        "plt.grid()\n",
        "# plt.legend(loc='center left', bbox_to_anchor=(1, 0.5))\n",
        "plt.legend()\n",
        "plt.xlabel(\"epochs\", fontsize=14, fontweight = 'bold')\n",
        "plt.ylabel(\"percentage test data\", fontsize=14, fontweight = 'bold')\n",
        "# plt.savefig(path+\"cifar_test.png\", bbox_inches=\"tight\")\n",
        "# plt.savefig(path+\"cifar_test.pdf\", bbox_inches=\"tight\")\n",
        "plt.savefig(path+\"cifar_test.png\", bbox_inches=\"tight\")\n",
        "plt.savefig(path+\"cifar_test.pdf\", bbox_inches=\"tight\")\n",
        "plt.show()"
      ]
    },
    {
      "cell_type": "code",
      "execution_count": null,
      "id": "36d8966f",
      "metadata": {
        "execution": {
          "iopub.execute_input": "2021-09-07T08:34:32.634446Z",
          "iopub.status.busy": "2021-09-07T08:34:32.633624Z",
          "iopub.status.idle": "2021-09-07T08:34:41.586551Z",
          "shell.execute_reply": "2021-09-07T08:34:41.587144Z"
        },
        "id": "36d8966f",
        "outputId": "11904b06-53ed-4129-d9fb-273175f6c2ed",
        "papermill": {
          "duration": 9.043773,
          "end_time": "2021-09-07T08:34:41.587341",
          "exception": false,
          "start_time": "2021-09-07T08:34:32.543568",
          "status": "completed"
        },
        "tags": []
      },
      "outputs": [
        {
          "name": "stdout",
          "output_type": "stream",
          "text": [
            "Accuracy of the network on the  train images: 99.810000 %\n",
            "total correct 29943\n",
            "total train set images 30000\n",
            "focus_true_pred_true 25945 =============> FTPT : 86.483333 %\n",
            "focus_false_pred_true 3998 =============> FFPT : 13.326667 %\n",
            "focus_true_pred_false 19 =============> FTPF : 0.063333 %\n",
            "focus_false_pred_false 38 =============> FFPF : 0.126667 %\n",
            "argmax_more_than_half ==================>  25062\n",
            "argmax_less_than_half ==================>  4938\n"
          ]
        }
      ],
      "source": [
        "correct = 0\n",
        "total = 0\n",
        "count = 0\n",
        "flag = 1\n",
        "focus_true_pred_true =0\n",
        "focus_false_pred_true =0\n",
        "focus_true_pred_false =0\n",
        "focus_false_pred_false =0\n",
        "\n",
        "argmax_more_than_half = 0\n",
        "argmax_less_than_half =0\n",
        "\n",
        "with torch.no_grad():\n",
        "  for data in train_loader:\n",
        "    inputs, labels , fore_idx = data\n",
        "    inputs = inputs.double()\n",
        "    inputs, labels , fore_idx = inputs.to(\"cuda\"),labels.to(\"cuda\"), fore_idx.to(\"cuda\")\n",
        "    alphas, avg_images = focus_net(inputs)\n",
        "    outputs = classify(avg_images)\n",
        "\n",
        "    _, predicted = torch.max(outputs.data, 1)\n",
        "\n",
        "    for j in range(labels.size(0)):\n",
        "      focus = torch.argmax(alphas[j])\n",
        "      if alphas[j][focus] >= 0.5 :\n",
        "        argmax_more_than_half += 1\n",
        "      else:\n",
        "        argmax_less_than_half += 1\n",
        "\n",
        "      if(focus == fore_idx[j] and predicted[j] == labels[j]):\n",
        "          focus_true_pred_true += 1\n",
        "      elif(focus != fore_idx[j] and predicted[j] == labels[j]):\n",
        "        focus_false_pred_true += 1\n",
        "      elif(focus == fore_idx[j] and predicted[j] != labels[j]):\n",
        "        focus_true_pred_false += 1\n",
        "      elif(focus != fore_idx[j] and predicted[j] != labels[j]):\n",
        "        focus_false_pred_false += 1\n",
        "\n",
        "    total += labels.size(0)\n",
        "    correct += (predicted == labels).sum().item()\n",
        "\n",
        "print('Accuracy of the network on the  train images: %f %%' % (\n",
        "    100 * correct / total))\n",
        "print(\"total correct\", correct)\n",
        "print(\"total train set images\", total)\n",
        "\n",
        "print(\"focus_true_pred_true %d =============> FTPT : %f %%\" % (focus_true_pred_true , (100 * focus_true_pred_true / total) ) )\n",
        "print(\"focus_false_pred_true %d =============> FFPT : %f %%\" % (focus_false_pred_true, (100 * focus_false_pred_true / total) ) )\n",
        "print(\"focus_true_pred_false %d =============> FTPF : %f %%\" %( focus_true_pred_false , ( 100 * focus_true_pred_false / total) ) )\n",
        "print(\"focus_false_pred_false %d =============> FFPF : %f %%\" % (focus_false_pred_false, ( 100 * focus_false_pred_false / total) ) )\n",
        "\n",
        "print(\"argmax_more_than_half ==================> \",argmax_more_than_half)\n",
        "print(\"argmax_less_than_half ==================> \",argmax_less_than_half)"
      ]
    },
    {
      "cell_type": "code",
      "execution_count": null,
      "id": "577da7db",
      "metadata": {
        "execution": {
          "iopub.execute_input": "2021-09-07T08:34:41.759113Z",
          "iopub.status.busy": "2021-09-07T08:34:41.757949Z",
          "iopub.status.idle": "2021-09-07T08:34:44.779305Z",
          "shell.execute_reply": "2021-09-07T08:34:44.780311Z"
        },
        "id": "577da7db",
        "outputId": "9fbdc2d9-34b6-4414-821c-03bf7bea869b",
        "papermill": {
          "duration": 3.113473,
          "end_time": "2021-09-07T08:34:44.780518",
          "exception": false,
          "start_time": "2021-09-07T08:34:41.667045",
          "status": "completed"
        },
        "tags": []
      },
      "outputs": [
        {
          "name": "stdout",
          "output_type": "stream",
          "text": [
            "Accuracy of the network on the  test images: 90.480000 %\n",
            "total correct 9048\n",
            "total train set images 10000\n",
            "focus_true_pred_true 7906 =============> FTPT : 79.060000 %\n",
            "focus_false_pred_true 1142 =============> FFPT : 11.420000 %\n",
            "focus_true_pred_false 329 =============> FTPF : 3.290000 %\n",
            "focus_false_pred_false 623 =============> FFPF : 6.230000 %\n",
            "argmax_more_than_half ==================>  8076\n",
            "argmax_less_than_half ==================>  1924\n"
          ]
        }
      ],
      "source": [
        "correct = 0\n",
        "total = 0\n",
        "count = 0\n",
        "flag = 1\n",
        "focus_true_pred_true =0\n",
        "focus_false_pred_true =0\n",
        "focus_true_pred_false =0\n",
        "focus_false_pred_false =0\n",
        "\n",
        "argmax_more_than_half = 0\n",
        "argmax_less_than_half =0\n",
        "\n",
        "with torch.no_grad():\n",
        "  for data in test_loader:\n",
        "    inputs, labels , fore_idx = data\n",
        "    inputs = inputs.double()\n",
        "    inputs, labels , fore_idx = inputs.to(\"cuda\"),labels.to(\"cuda\"), fore_idx.to(\"cuda\")\n",
        "    alphas, avg_images = focus_net(inputs)\n",
        "    outputs = classify(avg_images)\n",
        "\n",
        "    _, predicted = torch.max(outputs.data, 1)\n",
        "\n",
        "    for j in range(labels.size(0)):\n",
        "      focus = torch.argmax(alphas[j])\n",
        "      if alphas[j][focus] >= 0.5 :\n",
        "        argmax_more_than_half += 1\n",
        "      else:\n",
        "        argmax_less_than_half += 1\n",
        "\n",
        "      if(focus == fore_idx[j] and predicted[j] == labels[j]):\n",
        "          focus_true_pred_true += 1\n",
        "      elif(focus != fore_idx[j] and predicted[j] == labels[j]):\n",
        "        focus_false_pred_true += 1\n",
        "      elif(focus == fore_idx[j] and predicted[j] != labels[j]):\n",
        "        focus_true_pred_false += 1\n",
        "      elif(focus != fore_idx[j] and predicted[j] != labels[j]):\n",
        "        focus_false_pred_false += 1\n",
        "\n",
        "    total += labels.size(0)\n",
        "    correct += (predicted == labels).sum().item()\n",
        "\n",
        "print('Accuracy of the network on the  test images: %f %%' % (\n",
        "    100 * correct / total))\n",
        "print(\"total correct\", correct)\n",
        "print(\"total train set images\", total)\n",
        "\n",
        "print(\"focus_true_pred_true %d =============> FTPT : %f %%\" % (focus_true_pred_true , (100 * focus_true_pred_true / total) ) )\n",
        "print(\"focus_false_pred_true %d =============> FFPT : %f %%\" % (focus_false_pred_true, (100 * focus_false_pred_true / total) ) )\n",
        "print(\"focus_true_pred_false %d =============> FTPF : %f %%\" %( focus_true_pred_false , ( 100 * focus_true_pred_false / total) ) )\n",
        "print(\"focus_false_pred_false %d =============> FFPF : %f %%\" % (focus_false_pred_false, ( 100 * focus_false_pred_false / total) ) )\n",
        "\n",
        "print(\"argmax_more_than_half ==================> \",argmax_more_than_half)\n",
        "print(\"argmax_less_than_half ==================> \",argmax_less_than_half)"
      ]
    },
    {
      "cell_type": "code",
      "execution_count": null,
      "id": "cccfb887",
      "metadata": {
        "execution": {
          "iopub.execute_input": "2021-09-07T08:34:44.953649Z",
          "iopub.status.busy": "2021-09-07T08:34:44.952893Z",
          "iopub.status.idle": "2021-09-07T08:34:48.348917Z",
          "shell.execute_reply": "2021-09-07T08:34:48.349473Z"
        },
        "id": "cccfb887",
        "outputId": "be045505-70c0-4448-84fc-30d918247157",
        "papermill": {
          "duration": 3.482753,
          "end_time": "2021-09-07T08:34:48.349667",
          "exception": false,
          "start_time": "2021-09-07T08:34:44.866914",
          "status": "completed"
        },
        "tags": []
      },
      "outputs": [
        {
          "name": "stdout",
          "output_type": "stream",
          "text": [
            "Accuracy of the network on the  train images: 99.810000 %\n",
            "total correct 29943\n",
            "total train set images 30000\n"
          ]
        }
      ],
      "source": [
        "correct = 0\n",
        "total = 0\n",
        "\n",
        "with torch.no_grad():\n",
        "  for data in train_loader:\n",
        "    inputs, labels , fore_idx = data\n",
        "    inputs = inputs.double()\n",
        "    inputs, labels = inputs.to(\"cuda\"), labels.to(\"cuda\")\n",
        "    alphas, avg_images = focus_net(inputs)\n",
        "    outputs = classify(avg_images)\n",
        "\n",
        "    _, predicted = torch.max(outputs.data, 1)\n",
        "\n",
        "    total += labels.size(0)\n",
        "    correct += (predicted == labels).sum().item()\n",
        "\n",
        "print('Accuracy of the network on the  train images: %f %%' % ( 100 * correct / total))\n",
        "print(\"total correct\", correct)\n",
        "print(\"total train set images\", total)"
      ]
    },
    {
      "cell_type": "code",
      "execution_count": null,
      "id": "5508ba5b",
      "metadata": {
        "execution": {
          "iopub.execute_input": "2021-09-07T08:34:48.516319Z",
          "iopub.status.busy": "2021-09-07T08:34:48.515242Z",
          "iopub.status.idle": "2021-09-07T08:34:49.624596Z",
          "shell.execute_reply": "2021-09-07T08:34:49.625178Z"
        },
        "id": "5508ba5b",
        "outputId": "3e29ff37-e633-4c40-87e7-decf37c3503d",
        "papermill": {
          "duration": 1.195982,
          "end_time": "2021-09-07T08:34:49.625370",
          "exception": false,
          "start_time": "2021-09-07T08:34:48.429388",
          "status": "completed"
        },
        "tags": []
      },
      "outputs": [
        {
          "name": "stdout",
          "output_type": "stream",
          "text": [
            "Accuracy of the network on the 10000 test images: 90.480000 %\n",
            "total correct 9048\n",
            "total train set images 10000\n"
          ]
        }
      ],
      "source": [
        "correct = 0\n",
        "total = 0\n",
        "\n",
        "with torch.no_grad():\n",
        "  for data in test_loader:\n",
        "    inputs, labels , fore_idx = data\n",
        "    inputs = inputs.double()\n",
        "    inputs, labels = inputs.to(\"cuda\"), labels.to(\"cuda\")\n",
        "    alphas, avg_images = focus_net(inputs)\n",
        "    outputs = classify(avg_images)\n",
        "\n",
        "    _, predicted = torch.max(outputs.data, 1)\n",
        "\n",
        "    total += labels.size(0)\n",
        "    correct += (predicted == labels).sum().item()\n",
        "\n",
        "print('Accuracy of the network on the 10000 test images: %f %%' % ( 100 * correct / total))\n",
        "print(\"total correct\", correct)\n",
        "print(\"total train set images\", total)"
      ]
    },
    {
      "cell_type": "code",
      "execution_count": null,
      "id": "341a7c12",
      "metadata": {
        "id": "341a7c12",
        "papermill": {
          "duration": 0.078958,
          "end_time": "2021-09-07T08:34:49.784036",
          "exception": false,
          "start_time": "2021-09-07T08:34:49.705078",
          "status": "completed"
        },
        "tags": []
      },
      "outputs": [],
      "source": [
        ""
      ]
    }
  ],
  "metadata": {
    "kernelspec": {
      "display_name": "Python 3",
      "language": "python",
      "name": "python3"
    },
    "language_info": {
      "codemirror_mode": {
        "name": "ipython",
        "version": 3
      },
      "file_extension": ".py",
      "mimetype": "text/x-python",
      "name": "python",
      "nbconvert_exporter": "python",
      "pygments_lexer": "ipython3",
      "version": "3.7.10"
    },
    "papermill": {
      "default_parameters": {},
      "duration": 685.943608,
      "end_time": "2021-09-07T08:34:51.567252",
      "environment_variables": {},
      "exception": null,
      "input_path": "__notebook__.ipynb",
      "output_path": "__notebook__.ipynb",
      "parameters": {},
      "start_time": "2021-09-07T08:23:25.623644",
      "version": "2.3.3"
    },
    "widgets": {
      "application/vnd.jupyter.widget-state+json": {}
    },
    "colab": {
      "name": "cifar-sdc-focus-cnn3-classify-cnn1-m-5.ipynb",
      "provenance": []
    }
  },
  "nbformat": 4,
  "nbformat_minor": 5
}