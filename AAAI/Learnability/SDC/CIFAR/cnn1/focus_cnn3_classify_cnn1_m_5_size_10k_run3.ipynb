{
  "metadata": {
    "kernelspec": {
      "language": "python",
      "display_name": "Python 3",
      "name": "python3"
    },
    "language_info": {
      "name": "python",
      "version": "3.7.12",
      "mimetype": "text/x-python",
      "codemirror_mode": {
        "name": "ipython",
        "version": 3
      },
      "pygments_lexer": "ipython3",
      "nbconvert_exporter": "python",
      "file_extension": ".py"
    },
    "colab": {
      "name": "focus_cnn3_classify_cnn1_m_5_size_10k_run3.ipynb",
      "provenance": []
    },
    "accelerator": "GPU",
    "widgets": {
      "application/vnd.jupyter.widget-state+json": {
        "937a17aaccdc40c0bc112d959d815fdb": {
          "model_module": "@jupyter-widgets/controls",
          "model_name": "HBoxModel",
          "model_module_version": "1.5.0",
          "state": {
            "_view_name": "HBoxView",
            "_dom_classes": [],
            "_model_name": "HBoxModel",
            "_view_module": "@jupyter-widgets/controls",
            "_model_module_version": "1.5.0",
            "_view_count": null,
            "_view_module_version": "1.5.0",
            "box_style": "",
            "layout": "IPY_MODEL_6fa215a30035418987ec99c009a1494c",
            "_model_module": "@jupyter-widgets/controls",
            "children": [
              "IPY_MODEL_10320e6bb2024e7d88ca41e8be7c3d1c",
              "IPY_MODEL_6c5663a80ec542aa9bc0aeeb3ce608c9",
              "IPY_MODEL_68bec88ccd674304994f6422cc9aaa84"
            ]
          }
        },
        "6fa215a30035418987ec99c009a1494c": {
          "model_module": "@jupyter-widgets/base",
          "model_name": "LayoutModel",
          "model_module_version": "1.2.0",
          "state": {
            "_view_name": "LayoutView",
            "grid_template_rows": null,
            "right": null,
            "justify_content": null,
            "_view_module": "@jupyter-widgets/base",
            "overflow": null,
            "_model_module_version": "1.2.0",
            "_view_count": null,
            "flex_flow": null,
            "width": null,
            "min_width": null,
            "border": null,
            "align_items": null,
            "bottom": null,
            "_model_module": "@jupyter-widgets/base",
            "top": null,
            "grid_column": null,
            "overflow_y": null,
            "overflow_x": null,
            "grid_auto_flow": null,
            "grid_area": null,
            "grid_template_columns": null,
            "flex": null,
            "_model_name": "LayoutModel",
            "justify_items": null,
            "grid_row": null,
            "max_height": null,
            "align_content": null,
            "visibility": null,
            "align_self": null,
            "height": null,
            "min_height": null,
            "padding": null,
            "grid_auto_rows": null,
            "grid_gap": null,
            "max_width": null,
            "order": null,
            "_view_module_version": "1.2.0",
            "grid_template_areas": null,
            "object_position": null,
            "object_fit": null,
            "grid_auto_columns": null,
            "margin": null,
            "display": null,
            "left": null
          }
        },
        "10320e6bb2024e7d88ca41e8be7c3d1c": {
          "model_module": "@jupyter-widgets/controls",
          "model_name": "HTMLModel",
          "model_module_version": "1.5.0",
          "state": {
            "_view_name": "HTMLView",
            "style": "IPY_MODEL_1854169f1a08471b8c77c60db6477284",
            "_dom_classes": [],
            "description": "",
            "_model_name": "HTMLModel",
            "placeholder": "​",
            "_view_module": "@jupyter-widgets/controls",
            "_model_module_version": "1.5.0",
            "value": "",
            "_view_count": null,
            "_view_module_version": "1.5.0",
            "description_tooltip": null,
            "_model_module": "@jupyter-widgets/controls",
            "layout": "IPY_MODEL_21f38e6050c54d1ca87e5c5a9a94386c"
          }
        },
        "6c5663a80ec542aa9bc0aeeb3ce608c9": {
          "model_module": "@jupyter-widgets/controls",
          "model_name": "FloatProgressModel",
          "model_module_version": "1.5.0",
          "state": {
            "_view_name": "ProgressView",
            "style": "IPY_MODEL_108a212479154707907dd5e31a7416f0",
            "_dom_classes": [],
            "description": "",
            "_model_name": "FloatProgressModel",
            "bar_style": "success",
            "max": 170498071,
            "_view_module": "@jupyter-widgets/controls",
            "_model_module_version": "1.5.0",
            "value": 170498071,
            "_view_count": null,
            "_view_module_version": "1.5.0",
            "orientation": "horizontal",
            "min": 0,
            "description_tooltip": null,
            "_model_module": "@jupyter-widgets/controls",
            "layout": "IPY_MODEL_3be12dbd49b140f98f275b79d8f1f52b"
          }
        },
        "68bec88ccd674304994f6422cc9aaa84": {
          "model_module": "@jupyter-widgets/controls",
          "model_name": "HTMLModel",
          "model_module_version": "1.5.0",
          "state": {
            "_view_name": "HTMLView",
            "style": "IPY_MODEL_b93e6ffabd3c47c691d8f872b8f071e6",
            "_dom_classes": [],
            "description": "",
            "_model_name": "HTMLModel",
            "placeholder": "​",
            "_view_module": "@jupyter-widgets/controls",
            "_model_module_version": "1.5.0",
            "value": " 170499072/? [00:05&lt;00:00, 33366128.04it/s]",
            "_view_count": null,
            "_view_module_version": "1.5.0",
            "description_tooltip": null,
            "_model_module": "@jupyter-widgets/controls",
            "layout": "IPY_MODEL_5fd86109c8c5496483fa7e3ac5827f79"
          }
        },
        "1854169f1a08471b8c77c60db6477284": {
          "model_module": "@jupyter-widgets/controls",
          "model_name": "DescriptionStyleModel",
          "model_module_version": "1.5.0",
          "state": {
            "_view_name": "StyleView",
            "_model_name": "DescriptionStyleModel",
            "description_width": "",
            "_view_module": "@jupyter-widgets/base",
            "_model_module_version": "1.5.0",
            "_view_count": null,
            "_view_module_version": "1.2.0",
            "_model_module": "@jupyter-widgets/controls"
          }
        },
        "21f38e6050c54d1ca87e5c5a9a94386c": {
          "model_module": "@jupyter-widgets/base",
          "model_name": "LayoutModel",
          "model_module_version": "1.2.0",
          "state": {
            "_view_name": "LayoutView",
            "grid_template_rows": null,
            "right": null,
            "justify_content": null,
            "_view_module": "@jupyter-widgets/base",
            "overflow": null,
            "_model_module_version": "1.2.0",
            "_view_count": null,
            "flex_flow": null,
            "width": null,
            "min_width": null,
            "border": null,
            "align_items": null,
            "bottom": null,
            "_model_module": "@jupyter-widgets/base",
            "top": null,
            "grid_column": null,
            "overflow_y": null,
            "overflow_x": null,
            "grid_auto_flow": null,
            "grid_area": null,
            "grid_template_columns": null,
            "flex": null,
            "_model_name": "LayoutModel",
            "justify_items": null,
            "grid_row": null,
            "max_height": null,
            "align_content": null,
            "visibility": null,
            "align_self": null,
            "height": null,
            "min_height": null,
            "padding": null,
            "grid_auto_rows": null,
            "grid_gap": null,
            "max_width": null,
            "order": null,
            "_view_module_version": "1.2.0",
            "grid_template_areas": null,
            "object_position": null,
            "object_fit": null,
            "grid_auto_columns": null,
            "margin": null,
            "display": null,
            "left": null
          }
        },
        "108a212479154707907dd5e31a7416f0": {
          "model_module": "@jupyter-widgets/controls",
          "model_name": "ProgressStyleModel",
          "model_module_version": "1.5.0",
          "state": {
            "_view_name": "StyleView",
            "_model_name": "ProgressStyleModel",
            "description_width": "",
            "_view_module": "@jupyter-widgets/base",
            "_model_module_version": "1.5.0",
            "_view_count": null,
            "_view_module_version": "1.2.0",
            "bar_color": null,
            "_model_module": "@jupyter-widgets/controls"
          }
        },
        "3be12dbd49b140f98f275b79d8f1f52b": {
          "model_module": "@jupyter-widgets/base",
          "model_name": "LayoutModel",
          "model_module_version": "1.2.0",
          "state": {
            "_view_name": "LayoutView",
            "grid_template_rows": null,
            "right": null,
            "justify_content": null,
            "_view_module": "@jupyter-widgets/base",
            "overflow": null,
            "_model_module_version": "1.2.0",
            "_view_count": null,
            "flex_flow": null,
            "width": null,
            "min_width": null,
            "border": null,
            "align_items": null,
            "bottom": null,
            "_model_module": "@jupyter-widgets/base",
            "top": null,
            "grid_column": null,
            "overflow_y": null,
            "overflow_x": null,
            "grid_auto_flow": null,
            "grid_area": null,
            "grid_template_columns": null,
            "flex": null,
            "_model_name": "LayoutModel",
            "justify_items": null,
            "grid_row": null,
            "max_height": null,
            "align_content": null,
            "visibility": null,
            "align_self": null,
            "height": null,
            "min_height": null,
            "padding": null,
            "grid_auto_rows": null,
            "grid_gap": null,
            "max_width": null,
            "order": null,
            "_view_module_version": "1.2.0",
            "grid_template_areas": null,
            "object_position": null,
            "object_fit": null,
            "grid_auto_columns": null,
            "margin": null,
            "display": null,
            "left": null
          }
        },
        "b93e6ffabd3c47c691d8f872b8f071e6": {
          "model_module": "@jupyter-widgets/controls",
          "model_name": "DescriptionStyleModel",
          "model_module_version": "1.5.0",
          "state": {
            "_view_name": "StyleView",
            "_model_name": "DescriptionStyleModel",
            "description_width": "",
            "_view_module": "@jupyter-widgets/base",
            "_model_module_version": "1.5.0",
            "_view_count": null,
            "_view_module_version": "1.2.0",
            "_model_module": "@jupyter-widgets/controls"
          }
        },
        "5fd86109c8c5496483fa7e3ac5827f79": {
          "model_module": "@jupyter-widgets/base",
          "model_name": "LayoutModel",
          "model_module_version": "1.2.0",
          "state": {
            "_view_name": "LayoutView",
            "grid_template_rows": null,
            "right": null,
            "justify_content": null,
            "_view_module": "@jupyter-widgets/base",
            "overflow": null,
            "_model_module_version": "1.2.0",
            "_view_count": null,
            "flex_flow": null,
            "width": null,
            "min_width": null,
            "border": null,
            "align_items": null,
            "bottom": null,
            "_model_module": "@jupyter-widgets/base",
            "top": null,
            "grid_column": null,
            "overflow_y": null,
            "overflow_x": null,
            "grid_auto_flow": null,
            "grid_area": null,
            "grid_template_columns": null,
            "flex": null,
            "_model_name": "LayoutModel",
            "justify_items": null,
            "grid_row": null,
            "max_height": null,
            "align_content": null,
            "visibility": null,
            "align_self": null,
            "height": null,
            "min_height": null,
            "padding": null,
            "grid_auto_rows": null,
            "grid_gap": null,
            "max_width": null,
            "order": null,
            "_view_module_version": "1.2.0",
            "grid_template_areas": null,
            "object_position": null,
            "object_fit": null,
            "grid_auto_columns": null,
            "margin": null,
            "display": null,
            "left": null
          }
        }
      }
    }
  },
  "nbformat_minor": 0,
  "nbformat": 4,
  "cells": [
    {
      "cell_type": "code",
      "source": [
        "# from google.colab import drive\n",
        "# drive.mount('/content/drive')\n",
        "!pwd"
      ],
      "metadata": {
        "id": "134182ad",
        "outputId": "654d4707-345b-402e-98f4-d3341599b3f0",
        "papermill": {
          "duration": 0.760078,
          "end_time": "2021-09-07T08:23:33.080034",
          "exception": false,
          "start_time": "2021-09-07T08:23:32.319956",
          "status": "completed"
        },
        "tags": [],
        "execution": {
          "iopub.status.busy": "2022-01-08T09:58:23.530060Z",
          "iopub.execute_input": "2022-01-08T09:58:23.530464Z",
          "iopub.status.idle": "2022-01-08T09:58:24.316999Z",
          "shell.execute_reply.started": "2022-01-08T09:58:23.530419Z",
          "shell.execute_reply": "2022-01-08T09:58:24.315934Z"
        },
        "trusted": true,
        "colab": {
          "base_uri": "https://localhost:8080/"
        }
      },
      "execution_count": 1,
      "outputs": [
        {
          "output_type": "stream",
          "name": "stdout",
          "text": [
            "/content\n"
          ]
        }
      ]
    },
    {
      "cell_type": "code",
      "source": [
        "# path = \"/kaggle/working/run_m_5\""
      ],
      "metadata": {
        "id": "c0cea8ad",
        "papermill": {
          "duration": 0.045651,
          "end_time": "2021-09-07T08:23:33.166667",
          "exception": false,
          "start_time": "2021-09-07T08:23:33.121016",
          "status": "completed"
        },
        "tags": [],
        "execution": {
          "iopub.status.busy": "2022-01-08T09:58:24.319710Z",
          "iopub.execute_input": "2022-01-08T09:58:24.320359Z",
          "iopub.status.idle": "2022-01-08T09:58:24.325872Z",
          "shell.execute_reply.started": "2022-01-08T09:58:24.320298Z",
          "shell.execute_reply": "2022-01-08T09:58:24.324543Z"
        },
        "trusted": true
      },
      "execution_count": 2,
      "outputs": []
    },
    {
      "cell_type": "code",
      "source": [
        "import torch.nn as nn\n",
        "import torch.nn.functional as F\n",
        "\n",
        "import pandas as pd\n",
        "import numpy as np\n",
        "import matplotlib.pyplot as plt\n",
        "\n",
        "import torch\n",
        "import torchvision\n",
        "import torchvision.transforms as transforms\n",
        "from torch.utils.data import Dataset, DataLoader\n",
        "from torchvision import transforms, utils\n",
        "\n",
        "from matplotlib import pyplot as plt\n",
        "\n",
        "import copy\n",
        "\n",
        "# Ignore warnings\n",
        "import warnings\n",
        "warnings.filterwarnings(\"ignore\")\n",
        "\n",
        "torch.backends.cudnn.deterministic = True\n",
        "torch.backends.cudnn.benchmark = False\n"
      ],
      "metadata": {
        "id": "e8837382",
        "papermill": {
          "duration": 1.597962,
          "end_time": "2021-09-07T08:23:34.804543",
          "exception": false,
          "start_time": "2021-09-07T08:23:33.206581",
          "status": "completed"
        },
        "tags": [],
        "execution": {
          "iopub.status.busy": "2022-01-08T09:58:24.327885Z",
          "iopub.execute_input": "2022-01-08T09:58:24.328666Z",
          "iopub.status.idle": "2022-01-08T09:58:24.341103Z",
          "shell.execute_reply.started": "2022-01-08T09:58:24.328620Z",
          "shell.execute_reply": "2022-01-08T09:58:24.339702Z"
        },
        "trusted": true
      },
      "execution_count": 3,
      "outputs": []
    },
    {
      "cell_type": "code",
      "source": [
        "transform = transforms.Compose(\n",
        "    [transforms.ToTensor(),\n",
        "     transforms.Normalize((0.5, 0.5, 0.5), (0.5, 0.5, 0.5))])\n",
        "\n",
        "trainset = torchvision.datasets.CIFAR10(root='./data', train=True, download=True, transform=transform)\n",
        "\n",
        "\n",
        "testset = torchvision.datasets.CIFAR10(root='./data', train=False, download=True, transform=transform)\n",
        "\n",
        "trainloader = torch.utils.data.DataLoader(trainset, batch_size=10, shuffle=False)\n",
        "testloader = torch.utils.data.DataLoader(testset, batch_size=10, shuffle=False)\n",
        "\n",
        "\n",
        "classes = ('plane', 'car', 'bird', 'cat', 'deer', 'dog', 'frog', 'horse', 'ship', 'truck')\n",
        "\n",
        "foreground_classes = {'plane', 'car', 'bird'}\n",
        "\n",
        "background_classes = {'cat', 'deer', 'dog', 'frog', 'horse','ship', 'truck'}\n",
        "\n",
        "# print(type(foreground_classes))\n",
        "\n",
        "dataiter = iter(trainloader)\n",
        "background_data=[]\n",
        "background_label=[]\n",
        "foreground_data=[]\n",
        "foreground_label=[]\n",
        "batch_size=10\n",
        "\n",
        "for i in range(5000):   #5000*batch_size = 50000 data points\n",
        "  images, labels = dataiter.next()\n",
        "  for j in range(batch_size):\n",
        "    if(classes[labels[j]] in background_classes):\n",
        "      img = images[j].tolist()\n",
        "      background_data.append(img)\n",
        "      background_label.append(labels[j])\n",
        "    else:\n",
        "      img = images[j].tolist()\n",
        "      foreground_data.append(img)\n",
        "      foreground_label.append(labels[j])\n",
        "            \n",
        "foreground_data = torch.tensor(foreground_data)\n",
        "foreground_label = torch.tensor(foreground_label)\n",
        "background_data = torch.tensor(background_data)\n",
        "background_label = torch.tensor(background_label)\n",
        "    \n",
        "  "
      ],
      "metadata": {
        "id": "7d8e0bc3",
        "outputId": "e17952d8-df02-411d-943c-03d94678b046",
        "papermill": {
          "duration": 56.817297,
          "end_time": "2021-09-07T08:24:31.689823",
          "exception": false,
          "start_time": "2021-09-07T08:23:34.872526",
          "status": "completed"
        },
        "tags": [],
        "execution": {
          "iopub.status.busy": "2022-01-08T09:58:24.343333Z",
          "iopub.execute_input": "2022-01-08T09:58:24.344045Z",
          "iopub.status.idle": "2022-01-08T09:59:25.854053Z",
          "shell.execute_reply.started": "2022-01-08T09:58:24.343998Z",
          "shell.execute_reply": "2022-01-08T09:59:25.852887Z"
        },
        "trusted": true,
        "colab": {
          "base_uri": "https://localhost:8080/",
          "height": 104,
          "referenced_widgets": [
            "937a17aaccdc40c0bc112d959d815fdb",
            "6fa215a30035418987ec99c009a1494c",
            "10320e6bb2024e7d88ca41e8be7c3d1c",
            "6c5663a80ec542aa9bc0aeeb3ce608c9",
            "68bec88ccd674304994f6422cc9aaa84",
            "1854169f1a08471b8c77c60db6477284",
            "21f38e6050c54d1ca87e5c5a9a94386c",
            "108a212479154707907dd5e31a7416f0",
            "3be12dbd49b140f98f275b79d8f1f52b",
            "b93e6ffabd3c47c691d8f872b8f071e6",
            "5fd86109c8c5496483fa7e3ac5827f79"
          ]
        }
      },
      "execution_count": 4,
      "outputs": [
        {
          "output_type": "stream",
          "name": "stdout",
          "text": [
            "Downloading https://www.cs.toronto.edu/~kriz/cifar-10-python.tar.gz to ./data/cifar-10-python.tar.gz\n"
          ]
        },
        {
          "output_type": "display_data",
          "data": {
            "application/vnd.jupyter.widget-view+json": {
              "model_id": "937a17aaccdc40c0bc112d959d815fdb",
              "version_minor": 0,
              "version_major": 2
            },
            "text/plain": [
              "  0%|          | 0/170498071 [00:00<?, ?it/s]"
            ]
          },
          "metadata": {}
        },
        {
          "output_type": "stream",
          "name": "stdout",
          "text": [
            "Extracting ./data/cifar-10-python.tar.gz to ./data\n",
            "Files already downloaded and verified\n"
          ]
        }
      ]
    },
    {
      "cell_type": "code",
      "source": [
        "foreground_data.element_size()"
      ],
      "metadata": {
        "id": "7f4a97bf",
        "outputId": "6c68de03-bad4-4ca3-8a9a-8d9fd3252a72",
        "papermill": {
          "duration": 0.049461,
          "end_time": "2021-09-07T08:24:31.780323",
          "exception": false,
          "start_time": "2021-09-07T08:24:31.730862",
          "status": "completed"
        },
        "tags": [],
        "execution": {
          "iopub.status.busy": "2022-01-08T09:59:25.856785Z",
          "iopub.execute_input": "2022-01-08T09:59:25.857080Z",
          "iopub.status.idle": "2022-01-08T09:59:25.868180Z",
          "shell.execute_reply.started": "2022-01-08T09:59:25.857051Z",
          "shell.execute_reply": "2022-01-08T09:59:25.867304Z"
        },
        "trusted": true,
        "colab": {
          "base_uri": "https://localhost:8080/"
        }
      },
      "execution_count": 5,
      "outputs": [
        {
          "output_type": "execute_result",
          "data": {
            "text/plain": [
              "4"
            ]
          },
          "metadata": {},
          "execution_count": 5
        }
      ]
    },
    {
      "cell_type": "code",
      "source": [
        "fg1, fg2, fg3 = 0,1,2"
      ],
      "metadata": {
        "id": "7c442569",
        "papermill": {
          "duration": 0.045974,
          "end_time": "2021-09-07T08:24:31.866728",
          "exception": false,
          "start_time": "2021-09-07T08:24:31.820754",
          "status": "completed"
        },
        "tags": [],
        "execution": {
          "iopub.status.busy": "2022-01-08T09:59:25.869875Z",
          "iopub.execute_input": "2022-01-08T09:59:25.870553Z",
          "iopub.status.idle": "2022-01-08T09:59:25.882725Z",
          "shell.execute_reply.started": "2022-01-08T09:59:25.870478Z",
          "shell.execute_reply": "2022-01-08T09:59:25.881576Z"
        },
        "trusted": true
      },
      "execution_count": 6,
      "outputs": []
    },
    {
      "cell_type": "code",
      "source": [
        "def imshow(img):\n",
        "  img = img / 2 + 0.5     # unnormalize\n",
        "  npimg = img#.numpy()\n",
        "  plt.imshow(np.transpose(npimg, (1, 2, 0)))\n",
        "  plt.show()"
      ],
      "metadata": {
        "id": "1c6b0256",
        "papermill": {
          "duration": 0.04654,
          "end_time": "2021-09-07T08:24:31.953701",
          "exception": false,
          "start_time": "2021-09-07T08:24:31.907161",
          "status": "completed"
        },
        "tags": [],
        "execution": {
          "iopub.status.busy": "2022-01-08T09:59:25.884604Z",
          "iopub.execute_input": "2022-01-08T09:59:25.885246Z",
          "iopub.status.idle": "2022-01-08T09:59:25.896925Z",
          "shell.execute_reply.started": "2022-01-08T09:59:25.885083Z",
          "shell.execute_reply": "2022-01-08T09:59:25.895858Z"
        },
        "trusted": true
      },
      "execution_count": 7,
      "outputs": []
    },
    {
      "cell_type": "code",
      "source": [
        "# foreground_data.shape, foreground_label.shape, background_data.shape, background_label.shape"
      ],
      "metadata": {
        "id": "f4762ba6",
        "papermill": {
          "duration": 0.04692,
          "end_time": "2021-09-07T08:24:32.041113",
          "exception": false,
          "start_time": "2021-09-07T08:24:31.994193",
          "status": "completed"
        },
        "tags": [],
        "execution": {
          "iopub.status.busy": "2022-01-08T09:59:25.899068Z",
          "iopub.execute_input": "2022-01-08T09:59:25.899919Z",
          "iopub.status.idle": "2022-01-08T09:59:25.909261Z",
          "shell.execute_reply.started": "2022-01-08T09:59:25.899859Z",
          "shell.execute_reply": "2022-01-08T09:59:25.908160Z"
        },
        "trusted": true
      },
      "execution_count": 8,
      "outputs": []
    },
    {
      "cell_type": "code",
      "source": [
        "# val, idx = torch.max(background_data, dim=0, keepdims= True,)\n",
        "# torch.abs(val)"
      ],
      "metadata": {
        "id": "a18231ae",
        "papermill": {
          "duration": 0.045347,
          "end_time": "2021-09-07T08:24:32.127743",
          "exception": false,
          "start_time": "2021-09-07T08:24:32.082396",
          "status": "completed"
        },
        "tags": [],
        "execution": {
          "iopub.status.busy": "2022-01-08T09:59:25.911419Z",
          "iopub.execute_input": "2022-01-08T09:59:25.912214Z",
          "iopub.status.idle": "2022-01-08T09:59:25.919308Z",
          "shell.execute_reply.started": "2022-01-08T09:59:25.912167Z",
          "shell.execute_reply": "2022-01-08T09:59:25.918247Z"
        },
        "trusted": true
      },
      "execution_count": 9,
      "outputs": []
    },
    {
      "cell_type": "code",
      "source": [
        "# mean_bg = torch.mean(background_data, dim=0, keepdims= True)\n",
        "# std_bg = torch.std(background_data, dim=0, keepdims= True)"
      ],
      "metadata": {
        "id": "4345b53f",
        "papermill": {
          "duration": 0.046028,
          "end_time": "2021-09-07T08:24:32.214149",
          "exception": false,
          "start_time": "2021-09-07T08:24:32.168121",
          "status": "completed"
        },
        "tags": [],
        "execution": {
          "iopub.status.busy": "2022-01-08T09:59:25.921648Z",
          "iopub.execute_input": "2022-01-08T09:59:25.922631Z",
          "iopub.status.idle": "2022-01-08T09:59:25.930395Z",
          "shell.execute_reply.started": "2022-01-08T09:59:25.922381Z",
          "shell.execute_reply": "2022-01-08T09:59:25.929287Z"
        },
        "trusted": true
      },
      "execution_count": 10,
      "outputs": []
    },
    {
      "cell_type": "code",
      "source": [
        "# mean_bg.shape, std_bg.shape"
      ],
      "metadata": {
        "id": "7b0ea3b6",
        "papermill": {
          "duration": 0.045627,
          "end_time": "2021-09-07T08:24:32.299981",
          "exception": false,
          "start_time": "2021-09-07T08:24:32.254354",
          "status": "completed"
        },
        "tags": [],
        "execution": {
          "iopub.status.busy": "2022-01-08T09:59:25.934973Z",
          "iopub.execute_input": "2022-01-08T09:59:25.935247Z",
          "iopub.status.idle": "2022-01-08T09:59:25.942425Z",
          "shell.execute_reply.started": "2022-01-08T09:59:25.935217Z",
          "shell.execute_reply": "2022-01-08T09:59:25.941220Z"
        },
        "trusted": true
      },
      "execution_count": 11,
      "outputs": []
    },
    {
      "cell_type": "code",
      "source": [
        "# foreground_data = (foreground_data - mean_bg) / std_bg\n",
        "# background_data = (background_data - mean_bg) / std_bg"
      ],
      "metadata": {
        "id": "36d990aa",
        "papermill": {
          "duration": 0.046875,
          "end_time": "2021-09-07T08:24:32.389680",
          "exception": false,
          "start_time": "2021-09-07T08:24:32.342805",
          "status": "completed"
        },
        "tags": [],
        "execution": {
          "iopub.status.busy": "2022-01-08T09:59:25.943880Z",
          "iopub.execute_input": "2022-01-08T09:59:25.944389Z",
          "iopub.status.idle": "2022-01-08T09:59:25.950751Z",
          "shell.execute_reply.started": "2022-01-08T09:59:25.944343Z",
          "shell.execute_reply": "2022-01-08T09:59:25.949304Z"
        },
        "trusted": true
      },
      "execution_count": 12,
      "outputs": []
    },
    {
      "cell_type": "code",
      "source": [
        "# foreground_data.shape, foreground_label.shape, background_data.shape, background_label.shape"
      ],
      "metadata": {
        "id": "99e5d917",
        "papermill": {
          "duration": 0.04595,
          "end_time": "2021-09-07T08:24:32.485692",
          "exception": false,
          "start_time": "2021-09-07T08:24:32.439742",
          "status": "completed"
        },
        "tags": [],
        "execution": {
          "iopub.status.busy": "2022-01-08T09:59:25.952681Z",
          "iopub.execute_input": "2022-01-08T09:59:25.953419Z",
          "iopub.status.idle": "2022-01-08T09:59:25.960641Z",
          "shell.execute_reply.started": "2022-01-08T09:59:25.953371Z",
          "shell.execute_reply": "2022-01-08T09:59:25.959376Z"
        },
        "trusted": true
      },
      "execution_count": 13,
      "outputs": []
    },
    {
      "cell_type": "code",
      "source": [
        "# torch.sum(torch.isnan(foreground_data)), torch.sum(torch.isnan(background_data))"
      ],
      "metadata": {
        "id": "b4129198",
        "papermill": {
          "duration": 0.046337,
          "end_time": "2021-09-07T08:24:32.572664",
          "exception": false,
          "start_time": "2021-09-07T08:24:32.526327",
          "status": "completed"
        },
        "tags": [],
        "execution": {
          "iopub.status.busy": "2022-01-08T09:59:25.968204Z",
          "iopub.execute_input": "2022-01-08T09:59:25.968873Z",
          "iopub.status.idle": "2022-01-08T09:59:25.973191Z",
          "shell.execute_reply.started": "2022-01-08T09:59:25.968828Z",
          "shell.execute_reply": "2022-01-08T09:59:25.972029Z"
        },
        "trusted": true
      },
      "execution_count": 14,
      "outputs": []
    },
    {
      "cell_type": "code",
      "source": [
        "# imshow(foreground_data[0])"
      ],
      "metadata": {
        "id": "c1eec1ba",
        "papermill": {
          "duration": 0.045873,
          "end_time": "2021-09-07T08:24:32.659561",
          "exception": false,
          "start_time": "2021-09-07T08:24:32.613688",
          "status": "completed"
        },
        "tags": [],
        "execution": {
          "iopub.status.busy": "2022-01-08T09:59:25.975049Z",
          "iopub.execute_input": "2022-01-08T09:59:25.975822Z",
          "iopub.status.idle": "2022-01-08T09:59:25.982791Z",
          "shell.execute_reply.started": "2022-01-08T09:59:25.975769Z",
          "shell.execute_reply": "2022-01-08T09:59:25.981662Z"
        },
        "trusted": true
      },
      "execution_count": 15,
      "outputs": []
    },
    {
      "cell_type": "code",
      "source": [
        "# imshow(background_data[2])"
      ],
      "metadata": {
        "id": "42f66a88",
        "papermill": {
          "duration": 0.045802,
          "end_time": "2021-09-07T08:24:32.745416",
          "exception": false,
          "start_time": "2021-09-07T08:24:32.699614",
          "status": "completed"
        },
        "tags": [],
        "execution": {
          "iopub.status.busy": "2022-01-08T09:59:25.984774Z",
          "iopub.execute_input": "2022-01-08T09:59:25.985389Z",
          "iopub.status.idle": "2022-01-08T09:59:25.993753Z",
          "shell.execute_reply.started": "2022-01-08T09:59:25.985336Z",
          "shell.execute_reply": "2022-01-08T09:59:25.992229Z"
        },
        "trusted": true
      },
      "execution_count": 16,
      "outputs": []
    },
    {
      "cell_type": "code",
      "source": [
        "def create_mosaic_img(bg_idx,fg_idx,fg): \n",
        "  \"\"\"\n",
        "  bg_idx : list of indexes of background_data[] to be used as background images in mosaic\n",
        "  fg_idx : index of image to be used as foreground image from foreground data\n",
        "  fg : at what position/index foreground image has to be stored out of 0-8\n",
        "  \"\"\"\n",
        "  image_list=[]\n",
        "  j=0\n",
        "  for i in range(5):  # m value \n",
        "    if i != fg:\n",
        "      image_list.append(background_data[bg_idx[j]])\n",
        "      j+=1\n",
        "    else: \n",
        "      image_list.append(foreground_data[fg_idx])\n",
        "      label = foreground_label[fg_idx] - fg1  # minus fg1 because our fore ground classes are fg1,fg2,fg3 but we have to store it as 0,1,2\n",
        "  #image_list = np.concatenate(image_list ,axis=0)\n",
        "  image_list = torch.stack(image_list) \n",
        "  return image_list,label"
      ],
      "metadata": {
        "id": "a81cabf7",
        "papermill": {
          "duration": 0.047963,
          "end_time": "2021-09-07T08:24:32.833633",
          "exception": false,
          "start_time": "2021-09-07T08:24:32.785670",
          "status": "completed"
        },
        "tags": [],
        "execution": {
          "iopub.status.busy": "2022-01-08T09:59:25.995604Z",
          "iopub.execute_input": "2022-01-08T09:59:25.996083Z",
          "iopub.status.idle": "2022-01-08T09:59:26.007805Z",
          "shell.execute_reply.started": "2022-01-08T09:59:25.996038Z",
          "shell.execute_reply": "2022-01-08T09:59:26.006419Z"
        },
        "trusted": true
      },
      "execution_count": 17,
      "outputs": []
    },
    {
      "cell_type": "code",
      "source": [
        "desired_num = 20000\n",
        "mosaic_list_of_images =[]      # list of mosaic images, each mosaic image is saved as list of 9 images\n",
        "fore_idx =[]                   # list of indexes at which foreground image is present in a mosaic image i.e from 0 to 9               \n",
        "mosaic_label=[]                # label of mosaic image = foreground class present in that mosaic\n",
        "list_set_labels = [] \n",
        "for i in range(desired_num):\n",
        "  set_idx = set()\n",
        "  np.random.seed(i)\n",
        "  bg_idx = np.random.randint(0,35000,4)\n",
        "  set_idx = set(background_label[bg_idx].tolist())\n",
        "  fg_idx = np.random.randint(0,15000)\n",
        "  set_idx.add(foreground_label[fg_idx].item())\n",
        "  fg = np.random.randint(0,5)\n",
        "  fore_idx.append(fg)\n",
        "  image_list,label = create_mosaic_img(bg_idx,fg_idx,fg)\n",
        "  mosaic_list_of_images.append(image_list)\n",
        "  mosaic_label.append(label)\n",
        "  list_set_labels.append(set_idx)"
      ],
      "metadata": {
        "id": "fcc56107",
        "papermill": {
          "duration": 6.493637,
          "end_time": "2021-09-07T08:24:39.367379",
          "exception": false,
          "start_time": "2021-09-07T08:24:32.873742",
          "status": "completed"
        },
        "tags": [],
        "execution": {
          "iopub.status.busy": "2022-01-08T09:59:26.010596Z",
          "iopub.execute_input": "2022-01-08T09:59:26.010927Z",
          "iopub.status.idle": "2022-01-08T09:59:34.444239Z",
          "shell.execute_reply.started": "2022-01-08T09:59:26.010884Z",
          "shell.execute_reply": "2022-01-08T09:59:34.443277Z"
        },
        "trusted": true
      },
      "execution_count": 18,
      "outputs": []
    },
    {
      "cell_type": "code",
      "source": [
        "# mosaic_list_of_images_train = torch.stack(mosaic_list_of_images)\n",
        "len(mosaic_list_of_images),mosaic_list_of_images[0].shape"
      ],
      "metadata": {
        "id": "78453fcc",
        "outputId": "6f860f68-ce28-49eb-c069-93e95493df8a",
        "papermill": {
          "duration": 0.050868,
          "end_time": "2021-09-07T08:24:39.463306",
          "exception": false,
          "start_time": "2021-09-07T08:24:39.412438",
          "status": "completed"
        },
        "tags": [],
        "execution": {
          "iopub.status.busy": "2022-01-08T09:59:34.446135Z",
          "iopub.execute_input": "2022-01-08T09:59:34.446467Z",
          "iopub.status.idle": "2022-01-08T09:59:34.455809Z",
          "shell.execute_reply.started": "2022-01-08T09:59:34.446410Z",
          "shell.execute_reply": "2022-01-08T09:59:34.454316Z"
        },
        "trusted": true,
        "colab": {
          "base_uri": "https://localhost:8080/"
        }
      },
      "execution_count": 19,
      "outputs": [
        {
          "output_type": "execute_result",
          "data": {
            "text/plain": [
              "(20000, torch.Size([5, 3, 32, 32]))"
            ]
          },
          "metadata": {},
          "execution_count": 19
        }
      ]
    },
    {
      "cell_type": "code",
      "source": [
        "imshow(mosaic_list_of_images[0][1])"
      ],
      "metadata": {
        "id": "689bdeb7",
        "outputId": "d0ddca72-e2f8-4883-df78-34597831f027",
        "papermill": {
          "duration": 0.187384,
          "end_time": "2021-09-07T08:24:39.691928",
          "exception": false,
          "start_time": "2021-09-07T08:24:39.504544",
          "status": "completed"
        },
        "tags": [],
        "execution": {
          "iopub.status.busy": "2022-01-08T09:59:34.458428Z",
          "iopub.execute_input": "2022-01-08T09:59:34.458863Z",
          "iopub.status.idle": "2022-01-08T09:59:34.716191Z",
          "shell.execute_reply.started": "2022-01-08T09:59:34.458820Z",
          "shell.execute_reply": "2022-01-08T09:59:34.715385Z"
        },
        "trusted": true,
        "colab": {
          "base_uri": "https://localhost:8080/",
          "height": 266
        }
      },
      "execution_count": 20,
      "outputs": [
        {
          "output_type": "display_data",
          "data": {
            "image/png": "[encoded data removed]",
            "text/plain": [
              "<Figure size 432x288 with 1 Axes>"
            ]
          },
          "metadata": {
            "needs_background": "light"
          }
        }
      ]
    },
    {
      "cell_type": "code",
      "source": [
        "# mean_train = torch.mean(mosaic_list_of_images_train[0:2500], dim=0, keepdims= True)\n",
        "# std_train = torch.std(mosaic_list_of_images_train[0:2500], dim=0, keepdims= True) \n",
        "# mosaic_list_of_images_train = (mosaic_list_of_images_train - mean_train) / std_train"
      ],
      "metadata": {
        "id": "5db3bbac",
        "papermill": {
          "duration": 0.047187,
          "end_time": "2021-09-07T08:24:39.780701",
          "exception": false,
          "start_time": "2021-09-07T08:24:39.733514",
          "status": "completed"
        },
        "tags": [],
        "execution": {
          "iopub.status.busy": "2022-01-08T09:59:34.717583Z",
          "iopub.execute_input": "2022-01-08T09:59:34.718029Z",
          "iopub.status.idle": "2022-01-08T09:59:34.725879Z",
          "shell.execute_reply.started": "2022-01-08T09:59:34.717986Z",
          "shell.execute_reply": "2022-01-08T09:59:34.724391Z"
        },
        "trusted": true
      },
      "execution_count": 21,
      "outputs": []
    },
    {
      "cell_type": "code",
      "source": [
        "# imshow(mosaic_list_of_images_train[0][2])"
      ],
      "metadata": {
        "id": "e8779764",
        "papermill": {
          "duration": 0.046816,
          "end_time": "2021-09-07T08:24:39.868540",
          "exception": false,
          "start_time": "2021-09-07T08:24:39.821724",
          "status": "completed"
        },
        "tags": [],
        "execution": {
          "iopub.status.busy": "2022-01-08T09:59:34.727671Z",
          "iopub.execute_input": "2022-01-08T09:59:34.728835Z",
          "iopub.status.idle": "2022-01-08T09:59:34.733586Z",
          "shell.execute_reply.started": "2022-01-08T09:59:34.728701Z",
          "shell.execute_reply": "2022-01-08T09:59:34.732423Z"
        },
        "trusted": true
      },
      "execution_count": 22,
      "outputs": []
    },
    {
      "cell_type": "code",
      "source": [
        "class MosaicDataset(Dataset):\n",
        "  \"\"\"MosaicDataset dataset.\"\"\"\n",
        "\n",
        "  def __init__(self, mosaic_list_of_images, mosaic_label, fore_idx):\n",
        "    \"\"\"\n",
        "      Args:\n",
        "        csv_file (string): Path to the csv file with annotations.\n",
        "        root_dir (string): Directory with all the images.\n",
        "        transform (callable, optional): Optional transform to be applied\n",
        "            on a sample.\n",
        "    \"\"\"\n",
        "    self.mosaic = mosaic_list_of_images\n",
        "    self.label = mosaic_label\n",
        "    self.fore_idx = fore_idx\n",
        "\n",
        "  def __len__(self):\n",
        "    return len(self.label)\n",
        "\n",
        "  def __getitem__(self, idx):\n",
        "    return self.mosaic[idx] , self.label[idx], self.fore_idx[idx]\n",
        "\n",
        "batch = 100\n",
        "msd = MosaicDataset(mosaic_list_of_images[0:10000], mosaic_label[0:10000] , fore_idx[0:10000])\n",
        "train_loader = DataLoader( msd,batch_size= batch ,shuffle=True)\n",
        "\n",
        "test_data = MosaicDataset(mosaic_list_of_images[10000:], mosaic_label[10000:] , fore_idx[10000:])\n",
        "test_loader = DataLoader( test_data,batch_size= batch ,shuffle=False)"
      ],
      "metadata": {
        "id": "8814f0a1",
        "papermill": {
          "duration": 0.05173,
          "end_time": "2021-09-07T08:24:39.961327",
          "exception": false,
          "start_time": "2021-09-07T08:24:39.909597",
          "status": "completed"
        },
        "tags": [],
        "execution": {
          "iopub.status.busy": "2022-01-08T09:59:34.735123Z",
          "iopub.execute_input": "2022-01-08T09:59:34.735983Z",
          "iopub.status.idle": "2022-01-08T09:59:34.751239Z",
          "shell.execute_reply.started": "2022-01-08T09:59:34.735919Z",
          "shell.execute_reply": "2022-01-08T09:59:34.749865Z"
        },
        "trusted": true
      },
      "execution_count": 23,
      "outputs": []
    },
    {
      "cell_type": "code",
      "source": [
        "del foreground_data\n",
        "del background_data"
      ],
      "metadata": {
        "id": "b8d9f3a8",
        "papermill": {
          "duration": 0.06783,
          "end_time": "2021-09-07T08:24:40.070485",
          "exception": false,
          "start_time": "2021-09-07T08:24:40.002655",
          "status": "completed"
        },
        "tags": [],
        "execution": {
          "iopub.status.busy": "2022-01-08T09:59:34.753046Z",
          "iopub.execute_input": "2022-01-08T09:59:34.753694Z",
          "iopub.status.idle": "2022-01-08T09:59:34.791223Z",
          "shell.execute_reply.started": "2022-01-08T09:59:34.753648Z",
          "shell.execute_reply": "2022-01-08T09:59:34.790016Z"
        },
        "trusted": true
      },
      "execution_count": 24,
      "outputs": []
    },
    {
      "cell_type": "code",
      "source": [
        "class Focus(nn.Module):\n",
        "  def __init__(self):\n",
        "    super(Focus, self).__init__()\n",
        "\n",
        "    self.conv1 = nn.Conv2d(in_channels=3, out_channels=32, kernel_size=3, padding=0, bias=False)\n",
        "    self.pool = nn.MaxPool2d(2, 2)\n",
        "    self.conv2 = nn.Conv2d(in_channels=32, out_channels=64, kernel_size=3, padding=0, bias=False)\n",
        "    self.conv3 = nn.Conv2d(in_channels=64, out_channels=64, kernel_size=3, padding=0, bias=False)\n",
        "    self.fc1 = nn.Linear(1024, 512, bias=False)\n",
        "    self.fc2 = nn.Linear(512, 64, bias=False)\n",
        "    self.fc3 = nn.Linear(64, 10, bias=False)\n",
        "    self.fc4 = nn.Linear(10,1, bias=False)\n",
        "\n",
        "    torch.nn.init.xavier_normal_(self.conv1.weight)\n",
        "    torch.nn.init.xavier_normal_(self.conv2.weight)\n",
        "    torch.nn.init.xavier_normal_(self.conv3.weight)\n",
        "    torch.nn.init.xavier_normal_(self.fc1.weight)\n",
        "    torch.nn.init.xavier_normal_(self.fc2.weight)\n",
        "    torch.nn.init.xavier_normal_(self.fc3.weight)\n",
        "    torch.nn.init.xavier_normal_(self.fc4.weight)\n",
        "\n",
        "  def forward(self,z):  #y is avg image #z batch of list of 9 images\n",
        "    batch = z.size(0)\n",
        "    patches = z.size(1)\n",
        "    z = z.view(batch*patches,3,32,32)\n",
        "    alpha =  self.helper(z)\n",
        "    alpha = alpha.view(batch,patches,-1)\n",
        "    z = z.view(batch,patches,3,32,32)\n",
        "    #print(alpha.shape,z.shape)\n",
        "    alpha = F.softmax(alpha,dim=1)\n",
        "\n",
        "    x = torch.sum(alpha[:,:,:,None,None]*z,dim=1)\n",
        "\n",
        "    #alpha =alpha.view(batch,patches,-1)\n",
        "\n",
        "\n",
        "\n",
        "    return alpha[:,:,0],x # alpha, averaged data\n",
        "    \n",
        "  def helper(self, x):\n",
        "    x = self.pool(F.relu(self.conv1(x)))\n",
        "    x = self.pool(F.relu(self.conv2(x)))\n",
        "    # print(x.shape)\n",
        "    x = (F.relu(self.conv3(x)))\n",
        "    x =  x.view(x.size(0), -1)\n",
        "    # print(x.shape)\n",
        "    x = F.relu(self.fc1(x))\n",
        "    x = F.relu(self.fc2(x))\n",
        "    x = F.relu(self.fc3(x))\n",
        "    x = self.fc4(x)\n",
        "    return x"
      ],
      "metadata": {
        "id": "554a8a44",
        "papermill": {
          "duration": 0.060034,
          "end_time": "2021-09-07T08:24:40.172448",
          "exception": false,
          "start_time": "2021-09-07T08:24:40.112414",
          "status": "completed"
        },
        "tags": [],
        "execution": {
          "iopub.status.busy": "2022-01-08T09:59:34.793592Z",
          "iopub.execute_input": "2022-01-08T09:59:34.794410Z",
          "iopub.status.idle": "2022-01-08T09:59:34.816072Z",
          "shell.execute_reply.started": "2022-01-08T09:59:34.794363Z",
          "shell.execute_reply": "2022-01-08T09:59:34.814978Z"
        },
        "trusted": true
      },
      "execution_count": 25,
      "outputs": []
    },
    {
      "cell_type": "code",
      "source": [
        "class Classification(nn.Module):\n",
        "  def __init__(self):\n",
        "    super(Classification, self).__init__()\n",
        "    self.conv1 = nn.Conv2d(3, 6, 5)\n",
        "    self.pool = nn.MaxPool2d(2, 2)\n",
        "    self.fc1 = nn.Linear(6 * 14 * 14, 120)\n",
        "    self.fc2 = nn.Linear(120, 84)\n",
        "    self.fc3 = nn.Linear(84, 10)\n",
        "    self.fc4 = nn.Linear(10,3)\n",
        "\n",
        "    torch.nn.init.xavier_normal_(self.conv1.weight)\n",
        "    torch.nn.init.zeros_(self.conv1.bias)\n",
        "    torch.nn.init.xavier_normal_(self.fc1.weight)\n",
        "    torch.nn.init.zeros_(self.fc1.bias)\n",
        "    torch.nn.init.xavier_normal_(self.fc2.weight)\n",
        "    torch.nn.init.zeros_(self.fc2.bias)\n",
        "    torch.nn.init.xavier_normal_(self.fc3.weight)\n",
        "    torch.nn.init.zeros_(self.fc3.bias)\n",
        "    torch.nn.init.xavier_normal_(self.fc4.weight)\n",
        "    torch.nn.init.zeros_(self.fc4.bias)\n",
        "\n",
        "  def forward(self,z): \n",
        "    y1 = self.pool(F.relu(self.conv1(z)))\n",
        "    #print(y1.shape)\n",
        "    y1 = y1.view(-1, 6 * 14 * 14)\n",
        "\n",
        "    y1 = F.relu(self.fc1(y1))\n",
        "    y1 = F.relu(self.fc2(y1))\n",
        "    y1 = F.relu(self.fc3(y1))\n",
        "    y1 = self.fc4(y1)\n",
        "    return y1 "
      ],
      "metadata": {
        "id": "c0c8f2ff",
        "papermill": {
          "duration": 0.04704,
          "end_time": "2021-09-07T08:24:40.260565",
          "exception": false,
          "start_time": "2021-09-07T08:24:40.213525",
          "status": "completed"
        },
        "tags": [],
        "execution": {
          "iopub.status.busy": "2022-01-08T09:59:34.817865Z",
          "iopub.execute_input": "2022-01-08T09:59:34.819283Z",
          "iopub.status.idle": "2022-01-08T09:59:34.831160Z",
          "shell.execute_reply.started": "2022-01-08T09:59:34.819240Z",
          "shell.execute_reply": "2022-01-08T09:59:34.830083Z"
        },
        "trusted": true
      },
      "execution_count": 26,
      "outputs": []
    },
    {
      "cell_type": "code",
      "source": [
        "torch.manual_seed(14)\n",
        "focus_net = Focus().double()\n",
        "focus_net = focus_net.to(\"cuda\")"
      ],
      "metadata": {
        "id": "0bdb54f0",
        "papermill": {
          "duration": 4.374748,
          "end_time": "2021-09-07T08:24:44.772746",
          "exception": false,
          "start_time": "2021-09-07T08:24:40.397998",
          "status": "completed"
        },
        "tags": [],
        "execution": {
          "iopub.status.busy": "2022-01-08T09:59:34.852823Z",
          "iopub.execute_input": "2022-01-08T09:59:34.853240Z",
          "iopub.status.idle": "2022-01-08T09:59:38.112577Z",
          "shell.execute_reply.started": "2022-01-08T09:59:34.853193Z",
          "shell.execute_reply": "2022-01-08T09:59:38.111542Z"
        },
        "trusted": true
      },
      "execution_count": 27,
      "outputs": []
    },
    {
      "cell_type": "code",
      "source": [
        "focus_net.fc3.weight.shape,focus_net.fc4.weight.shape"
      ],
      "metadata": {
        "id": "44f2d676",
        "papermill": {
          "duration": 0.048441,
          "end_time": "2021-09-07T08:24:44.862673",
          "exception": false,
          "start_time": "2021-09-07T08:24:44.814232",
          "status": "completed"
        },
        "tags": [],
        "execution": {
          "iopub.status.busy": "2022-01-08T09:59:38.115703Z",
          "iopub.execute_input": "2022-01-08T09:59:38.116240Z",
          "iopub.status.idle": "2022-01-08T09:59:38.125492Z",
          "shell.execute_reply.started": "2022-01-08T09:59:38.116189Z",
          "shell.execute_reply": "2022-01-08T09:59:38.124339Z"
        },
        "trusted": true,
        "colab": {
          "base_uri": "https://localhost:8080/"
        },
        "outputId": "9937807c-16b2-4746-eb26-569eab5f6684"
      },
      "execution_count": 28,
      "outputs": [
        {
          "output_type": "execute_result",
          "data": {
            "text/plain": [
              "(torch.Size([10, 64]), torch.Size([1, 10]))"
            ]
          },
          "metadata": {},
          "execution_count": 28
        }
      ]
    },
    {
      "cell_type": "code",
      "source": [
        "focus_net.fc3.weight.data[5:,:] = focus_net.fc3.weight.data[:5,:] #torch.nn.Parameter(torch.tensor([last_layer]) )\n",
        "# (focus_net.fc3.weight[:5,:]== focus_net.fc3.weight[5:,:] )"
      ],
      "metadata": {
        "id": "4b15cff1",
        "papermill": {
          "duration": 0.047678,
          "end_time": "2021-09-07T08:24:44.952331",
          "exception": false,
          "start_time": "2021-09-07T08:24:44.904653",
          "status": "completed"
        },
        "tags": [],
        "execution": {
          "iopub.status.busy": "2022-01-08T09:59:38.127273Z",
          "iopub.execute_input": "2022-01-08T09:59:38.129117Z",
          "iopub.status.idle": "2022-01-08T09:59:38.140292Z",
          "shell.execute_reply.started": "2022-01-08T09:59:38.129083Z",
          "shell.execute_reply": "2022-01-08T09:59:38.138934Z"
        },
        "trusted": true
      },
      "execution_count": 29,
      "outputs": []
    },
    {
      "cell_type": "code",
      "source": [
        "focus_net.fc4.weight.data[:,5:] = -focus_net.fc4.weight.data[:,:5] #torch.nn.Parameter(torch.tensor([last_layer]) )\n",
        "# focus_net.fc4.weight"
      ],
      "metadata": {
        "id": "3d0f656b",
        "papermill": {
          "duration": 0.055768,
          "end_time": "2021-09-07T08:24:45.049851",
          "exception": false,
          "start_time": "2021-09-07T08:24:44.994083",
          "status": "completed"
        },
        "tags": [],
        "execution": {
          "iopub.status.busy": "2022-01-08T09:59:38.143691Z",
          "iopub.execute_input": "2022-01-08T09:59:38.144404Z",
          "iopub.status.idle": "2022-01-08T09:59:38.159745Z",
          "shell.execute_reply.started": "2022-01-08T09:59:38.144356Z",
          "shell.execute_reply": "2022-01-08T09:59:38.158822Z"
        },
        "trusted": true
      },
      "execution_count": 30,
      "outputs": []
    },
    {
      "cell_type": "code",
      "source": [
        "focus_net = focus_net.double().to(\"cuda\")"
      ],
      "metadata": {
        "id": "3ef7e7c7",
        "papermill": {
          "duration": 0.048401,
          "end_time": "2021-09-07T08:24:45.140555",
          "exception": false,
          "start_time": "2021-09-07T08:24:45.092154",
          "status": "completed"
        },
        "tags": [],
        "execution": {
          "iopub.status.busy": "2022-01-08T09:59:38.161337Z",
          "iopub.execute_input": "2022-01-08T09:59:38.161921Z",
          "iopub.status.idle": "2022-01-08T09:59:38.167355Z",
          "shell.execute_reply.started": "2022-01-08T09:59:38.161879Z",
          "shell.execute_reply": "2022-01-08T09:59:38.166193Z"
        },
        "trusted": true
      },
      "execution_count": 31,
      "outputs": []
    },
    {
      "cell_type": "code",
      "source": [
        "# alpha,output = focus_net( torch.randn((128,50,3,32,32)).double().to(\"cuda\") )"
      ],
      "metadata": {
        "id": "1be8d88e",
        "papermill": {
          "duration": 0.047757,
          "end_time": "2021-09-07T08:24:45.229594",
          "exception": false,
          "start_time": "2021-09-07T08:24:45.181837",
          "status": "completed"
        },
        "tags": [],
        "execution": {
          "iopub.status.busy": "2022-01-08T09:59:38.169412Z",
          "iopub.execute_input": "2022-01-08T09:59:38.170224Z",
          "iopub.status.idle": "2022-01-08T09:59:38.176933Z",
          "shell.execute_reply.started": "2022-01-08T09:59:38.170178Z",
          "shell.execute_reply": "2022-01-08T09:59:38.175862Z"
        },
        "trusted": true
      },
      "execution_count": 32,
      "outputs": []
    },
    {
      "cell_type": "code",
      "source": [
        "# alpha.shape,output.shape"
      ],
      "metadata": {
        "id": "f06c0b38",
        "papermill": {
          "duration": 0.047011,
          "end_time": "2021-09-07T08:24:45.318005",
          "exception": false,
          "start_time": "2021-09-07T08:24:45.270994",
          "status": "completed"
        },
        "tags": [],
        "execution": {
          "iopub.status.busy": "2022-01-08T09:59:38.178907Z",
          "iopub.execute_input": "2022-01-08T09:59:38.179576Z",
          "iopub.status.idle": "2022-01-08T09:59:38.187204Z",
          "shell.execute_reply.started": "2022-01-08T09:59:38.179472Z",
          "shell.execute_reply": "2022-01-08T09:59:38.186092Z"
        },
        "trusted": true
      },
      "execution_count": 33,
      "outputs": []
    },
    {
      "cell_type": "code",
      "source": [
        "torch.manual_seed(14)\n",
        "classify = Classification().double()\n",
        "classify = classify.to(\"cuda\")"
      ],
      "metadata": {
        "id": "4dce20eb",
        "papermill": {
          "duration": 0.054853,
          "end_time": "2021-09-07T08:24:45.497293",
          "exception": false,
          "start_time": "2021-09-07T08:24:45.442440",
          "status": "completed"
        },
        "tags": [],
        "execution": {
          "iopub.status.busy": "2022-01-08T09:59:38.189450Z",
          "iopub.execute_input": "2022-01-08T09:59:38.190283Z",
          "iopub.status.idle": "2022-01-08T09:59:38.207341Z",
          "shell.execute_reply.started": "2022-01-08T09:59:38.190236Z",
          "shell.execute_reply": "2022-01-08T09:59:38.206465Z"
        },
        "trusted": true
      },
      "execution_count": 34,
      "outputs": []
    },
    {
      "cell_type": "code",
      "source": [
        "# classify.conv1.bias"
      ],
      "metadata": {
        "id": "6a48a69e",
        "papermill": {
          "duration": 0.046642,
          "end_time": "2021-09-07T08:24:45.585697",
          "exception": false,
          "start_time": "2021-09-07T08:24:45.539055",
          "status": "completed"
        },
        "tags": [],
        "execution": {
          "iopub.status.busy": "2022-01-08T09:59:38.209161Z",
          "iopub.execute_input": "2022-01-08T09:59:38.209477Z",
          "iopub.status.idle": "2022-01-08T09:59:38.216283Z",
          "shell.execute_reply.started": "2022-01-08T09:59:38.209436Z",
          "shell.execute_reply": "2022-01-08T09:59:38.213521Z"
        },
        "trusted": true
      },
      "execution_count": 35,
      "outputs": []
    },
    {
      "cell_type": "code",
      "source": [
        "# classify.fc1.weight"
      ],
      "metadata": {
        "id": "aeca5f67",
        "papermill": {
          "duration": 0.046734,
          "end_time": "2021-09-07T08:24:45.673906",
          "exception": false,
          "start_time": "2021-09-07T08:24:45.627172",
          "status": "completed"
        },
        "tags": [],
        "execution": {
          "iopub.status.busy": "2022-01-08T09:59:38.218872Z",
          "iopub.execute_input": "2022-01-08T09:59:38.219872Z",
          "iopub.status.idle": "2022-01-08T09:59:38.225416Z",
          "shell.execute_reply.started": "2022-01-08T09:59:38.219581Z",
          "shell.execute_reply": "2022-01-08T09:59:38.224277Z"
        },
        "trusted": true
      },
      "execution_count": 36,
      "outputs": []
    },
    {
      "cell_type": "code",
      "source": [
        "# classify.fc1.bias"
      ],
      "metadata": {
        "id": "4ecfe118",
        "papermill": {
          "duration": 0.048475,
          "end_time": "2021-09-07T08:24:45.763976",
          "exception": false,
          "start_time": "2021-09-07T08:24:45.715501",
          "status": "completed"
        },
        "tags": [],
        "execution": {
          "iopub.status.busy": "2022-01-08T09:59:38.227684Z",
          "iopub.execute_input": "2022-01-08T09:59:38.228709Z",
          "iopub.status.idle": "2022-01-08T09:59:38.236374Z",
          "shell.execute_reply.started": "2022-01-08T09:59:38.228635Z",
          "shell.execute_reply": "2022-01-08T09:59:38.235044Z"
        },
        "trusted": true
      },
      "execution_count": 37,
      "outputs": []
    },
    {
      "cell_type": "code",
      "source": [
        "import torch.optim as optim\n",
        "criterion = nn.CrossEntropyLoss()\n",
        "optimizer_classify = optim.Adam(classify.parameters(), lr=0.0005  ) #, momentum=0.9)\n",
        "optimizer_focus = optim.Adam(focus_net.parameters(), lr=0.0005  ) #, momentum=0.9)"
      ],
      "metadata": {
        "id": "bd4b5795",
        "papermill": {
          "duration": 0.050032,
          "end_time": "2021-09-07T08:24:45.855466",
          "exception": false,
          "start_time": "2021-09-07T08:24:45.805434",
          "status": "completed"
        },
        "tags": [],
        "execution": {
          "iopub.status.busy": "2022-01-08T09:59:38.238442Z",
          "iopub.execute_input": "2022-01-08T09:59:38.239755Z",
          "iopub.status.idle": "2022-01-08T09:59:38.247891Z",
          "shell.execute_reply.started": "2022-01-08T09:59:38.239693Z",
          "shell.execute_reply": "2022-01-08T09:59:38.246673Z"
        },
        "trusted": true
      },
      "execution_count": 38,
      "outputs": []
    },
    {
      "cell_type": "code",
      "source": [
        "col1=[]\n",
        "col2=[]\n",
        "col3=[]\n",
        "col4=[]\n",
        "col5=[]\n",
        "col6=[]\n",
        "col7=[]\n",
        "col8=[]\n",
        "col9=[]\n",
        "col10=[]\n",
        "col11=[]\n",
        "col12=[]\n",
        "col13=[]"
      ],
      "metadata": {
        "id": "7347cc63",
        "papermill": {
          "duration": 0.047771,
          "end_time": "2021-09-07T08:24:45.944864",
          "exception": false,
          "start_time": "2021-09-07T08:24:45.897093",
          "status": "completed"
        },
        "tags": [],
        "execution": {
          "iopub.status.busy": "2022-01-08T09:59:38.249946Z",
          "iopub.execute_input": "2022-01-08T09:59:38.251141Z",
          "iopub.status.idle": "2022-01-08T09:59:38.262757Z",
          "shell.execute_reply.started": "2022-01-08T09:59:38.251082Z",
          "shell.execute_reply": "2022-01-08T09:59:38.261535Z"
        },
        "trusted": true
      },
      "execution_count": 39,
      "outputs": []
    },
    {
      "cell_type": "code",
      "source": [
        "correct = 0\n",
        "total = 0\n",
        "count = 0\n",
        "flag = 1\n",
        "focus_true_pred_true =0\n",
        "focus_false_pred_true =0\n",
        "focus_true_pred_false =0\n",
        "focus_false_pred_false =0\n",
        "\n",
        "argmax_more_than_half = 0\n",
        "argmax_less_than_half =0\n",
        "\n",
        "with torch.no_grad():\n",
        "  for data in train_loader:\n",
        "    inputs, labels , fore_idx = data\n",
        "    inputs = inputs.double()\n",
        "    inputs, labels , fore_idx = inputs.to(\"cuda\"),labels.to(\"cuda\"), fore_idx.to(\"cuda\")\n",
        "    alphas, avg_images = focus_net(inputs)\n",
        "    # print(alphas)\n",
        "    outputs = classify(avg_images)\n",
        "\n",
        "    _, predicted = torch.max(outputs.data, 1)\n",
        "\n",
        "    for j in range(labels.size(0)):\n",
        "      count += 1\n",
        "      focus = torch.argmax(alphas[j])\n",
        "      if alphas[j][focus] >= 0.5 :\n",
        "        argmax_more_than_half += 1\n",
        "      else:\n",
        "        argmax_less_than_half += 1\n",
        "\n",
        "      if(focus == fore_idx[j] and predicted[j] == labels[j]):\n",
        "          focus_true_pred_true += 1\n",
        "      elif(focus != fore_idx[j] and predicted[j] == labels[j]):\n",
        "        focus_false_pred_true += 1\n",
        "      elif(focus == fore_idx[j] and predicted[j] != labels[j]):\n",
        "        focus_true_pred_false += 1\n",
        "      elif(focus != fore_idx[j] and predicted[j] != labels[j]):\n",
        "        focus_false_pred_false += 1\n",
        "\n",
        "    total += labels.size(0)\n",
        "    correct += (predicted == labels).sum().item()\n",
        "\n",
        "print('Accuracy of the network on the 30000 train images: %f %%' % ( 100 * correct / total))\n",
        "print(\"total correct\", correct)\n",
        "print(\"total train set images\", total)\n",
        "\n",
        "print(\"focus_true_pred_true %d =============> FTPT : %f %%\" % (focus_true_pred_true , (100 * focus_true_pred_true / total) ) )\n",
        "print(\"focus_false_pred_true %d =============> FFPT : %f %%\" % (focus_false_pred_true, (100 * focus_false_pred_true / total) ) )\n",
        "print(\"focus_true_pred_false %d =============> FTPF : %f %%\" %( focus_true_pred_false , ( 100 * focus_true_pred_false / total) ) )\n",
        "print(\"focus_false_pred_false %d =============> FFPF : %f %%\" % (focus_false_pred_false, ( 100 * focus_false_pred_false / total) ) )\n",
        "\n",
        "print(\"argmax_more_than_half ==================> \",argmax_more_than_half)\n",
        "print(\"argmax_less_than_half ==================> \",argmax_less_than_half)\n",
        "print(count)\n",
        "\n",
        "print(\"=\"*100)\n",
        "\n",
        "col1.append(0)\n",
        "col2.append(argmax_more_than_half)\n",
        "col3.append(argmax_less_than_half)\n",
        "col4.append(focus_true_pred_true)\n",
        "col5.append(focus_false_pred_true)\n",
        "col6.append(focus_true_pred_false)\n",
        "col7.append(focus_false_pred_false)"
      ],
      "metadata": {
        "id": "80b742b5",
        "papermill": {
          "duration": 13.243085,
          "end_time": "2021-09-07T08:24:59.229756",
          "exception": false,
          "start_time": "2021-09-07T08:24:45.986671",
          "status": "completed"
        },
        "tags": [],
        "execution": {
          "iopub.status.busy": "2022-01-08T09:59:38.272139Z",
          "iopub.execute_input": "2022-01-08T09:59:38.272610Z",
          "iopub.status.idle": "2022-01-08T09:59:56.897634Z",
          "shell.execute_reply.started": "2022-01-08T09:59:38.272577Z",
          "shell.execute_reply": "2022-01-08T09:59:56.896636Z"
        },
        "trusted": true,
        "colab": {
          "base_uri": "https://localhost:8080/"
        },
        "outputId": "6a7cffbe-33e2-4a15-ef95-4f9f4804d349"
      },
      "execution_count": 40,
      "outputs": [
        {
          "output_type": "stream",
          "name": "stdout",
          "text": [
            "Accuracy of the network on the 30000 train images: 31.630000 %\n",
            "total correct 3163\n",
            "total train set images 10000\n",
            "focus_true_pred_true 648 =============> FTPT : 6.480000 %\n",
            "focus_false_pred_true 2515 =============> FFPT : 25.150000 %\n",
            "focus_true_pred_false 1411 =============> FTPF : 14.110000 %\n",
            "focus_false_pred_false 5426 =============> FFPF : 54.260000 %\n",
            "argmax_more_than_half ==================>  0\n",
            "argmax_less_than_half ==================>  10000\n",
            "10000\n",
            "====================================================================================================\n"
          ]
        }
      ]
    },
    {
      "cell_type": "code",
      "source": [
        "correct = 0\n",
        "total = 0\n",
        "count = 0\n",
        "flag = 1\n",
        "focus_true_pred_true =0\n",
        "focus_false_pred_true =0\n",
        "focus_true_pred_false =0\n",
        "focus_false_pred_false =0\n",
        "\n",
        "argmax_more_than_half = 0\n",
        "argmax_less_than_half =0\n",
        "\n",
        "with torch.no_grad():\n",
        "  for data in test_loader:\n",
        "    inputs, labels , fore_idx = data\n",
        "    inputs = inputs.double()\n",
        "    inputs, labels , fore_idx = inputs.to(\"cuda\"),labels.to(\"cuda\"), fore_idx.to(\"cuda\")\n",
        "    alphas, avg_images = focus_net(inputs)\n",
        "    outputs = classify(avg_images)\n",
        "\n",
        "    _, predicted = torch.max(outputs.data, 1)\n",
        "\n",
        "    for j in range(labels.size(0)):\n",
        "      focus = torch.argmax(alphas[j])\n",
        "      if alphas[j][focus] >= 0.5 :\n",
        "        argmax_more_than_half += 1\n",
        "      else:\n",
        "        argmax_less_than_half += 1\n",
        "\n",
        "      if(focus == fore_idx[j] and predicted[j] == labels[j]):\n",
        "          focus_true_pred_true += 1\n",
        "      elif(focus != fore_idx[j] and predicted[j] == labels[j]):\n",
        "        focus_false_pred_true += 1\n",
        "      elif(focus == fore_idx[j] and predicted[j] != labels[j]):\n",
        "        focus_true_pred_false += 1\n",
        "      elif(focus != fore_idx[j] and predicted[j] != labels[j]):\n",
        "        focus_false_pred_false += 1\n",
        "\n",
        "    total += labels.size(0)\n",
        "    correct += (predicted == labels).sum().item()\n",
        "\n",
        "print('Accuracy of the network on the 10000 test images: %f %%' % (\n",
        "    100 * correct / total))\n",
        "print(\"total correct\", correct)\n",
        "print(\"total train set images\", total)\n",
        "\n",
        "print(\"focus_true_pred_true %d =============> FTPT : %f %%\" % (focus_true_pred_true , (100 * focus_true_pred_true / total) ) )\n",
        "print(\"focus_false_pred_true %d =============> FFPT : %f %%\" % (focus_false_pred_true, (100 * focus_false_pred_true / total) ) )\n",
        "print(\"focus_true_pred_false %d =============> FTPF : %f %%\" %( focus_true_pred_false , ( 100 * focus_true_pred_false / total) ) )\n",
        "print(\"focus_false_pred_false %d =============> FFPF : %f %%\" % (focus_false_pred_false, ( 100 * focus_false_pred_false / total) ) )\n",
        "\n",
        "print(\"argmax_more_than_half ==================> \",argmax_more_than_half)\n",
        "print(\"argmax_less_than_half ==================> \",argmax_less_than_half)\n",
        "col8.append(argmax_more_than_half)\n",
        "col9.append(argmax_less_than_half)\n",
        "col10.append(focus_true_pred_true)\n",
        "col11.append(focus_false_pred_true)\n",
        "col12.append(focus_true_pred_false)\n",
        "col13.append(focus_false_pred_false)"
      ],
      "metadata": {
        "id": "eeccb3cc",
        "papermill": {
          "duration": 4.171112,
          "end_time": "2021-09-07T08:25:03.444331",
          "exception": false,
          "start_time": "2021-09-07T08:24:59.273219",
          "status": "completed"
        },
        "tags": [],
        "execution": {
          "iopub.status.busy": "2022-01-08T09:59:56.899690Z",
          "iopub.execute_input": "2022-01-08T09:59:56.900065Z",
          "iopub.status.idle": "2022-01-08T10:00:00.911988Z",
          "shell.execute_reply.started": "2022-01-08T09:59:56.900020Z",
          "shell.execute_reply": "2022-01-08T10:00:00.910962Z"
        },
        "trusted": true,
        "colab": {
          "base_uri": "https://localhost:8080/"
        },
        "outputId": "26ad3c29-f3bd-4a4b-8258-db2638bedb83"
      },
      "execution_count": 41,
      "outputs": [
        {
          "output_type": "stream",
          "name": "stdout",
          "text": [
            "Accuracy of the network on the 10000 test images: 31.870000 %\n",
            "total correct 3187\n",
            "total train set images 10000\n",
            "focus_true_pred_true 615 =============> FTPT : 6.150000 %\n",
            "focus_false_pred_true 2572 =============> FFPT : 25.720000 %\n",
            "focus_true_pred_false 1386 =============> FTPF : 13.860000 %\n",
            "focus_false_pred_false 5427 =============> FFPF : 54.270000 %\n",
            "argmax_more_than_half ==================>  0\n",
            "argmax_less_than_half ==================>  10000\n"
          ]
        }
      ]
    },
    {
      "cell_type": "code",
      "source": [
        "nos_epochs = 200\n",
        "focus_true_pred_true =0\n",
        "focus_false_pred_true =0\n",
        "focus_true_pred_false =0\n",
        "focus_false_pred_false =0\n",
        "\n",
        "argmax_more_than_half = 0\n",
        "argmax_less_than_half =0\n",
        "\n",
        "\n",
        "for epoch in range(nos_epochs):  # loop over the dataset multiple times\n",
        "\n",
        "  focus_true_pred_true =0\n",
        "  focus_false_pred_true =0\n",
        "  focus_true_pred_false =0\n",
        "  focus_false_pred_false =0\n",
        "  \n",
        "  argmax_more_than_half = 0\n",
        "  argmax_less_than_half =0\n",
        "  \n",
        "  running_loss = 0.0\n",
        "  epoch_loss = []\n",
        "  cnt=0\n",
        "\n",
        "  iteration = desired_num // batch\n",
        "  \n",
        "  #training data set\n",
        "  \n",
        "  for i, data in  enumerate(train_loader):\n",
        "    inputs , labels , fore_idx = data\n",
        "    inputs, labels = inputs.to(\"cuda\"), labels.to(\"cuda\")\n",
        "    inputs = inputs.double()\n",
        "    # zero the parameter gradients\n",
        "    \n",
        "    optimizer_focus.zero_grad()\n",
        "    optimizer_classify.zero_grad()\n",
        "    \n",
        "    alphas, avg_images = focus_net(inputs)\n",
        "    outputs = classify(avg_images)\n",
        "\n",
        "    _, predicted = torch.max(outputs.data, 1)\n",
        "#     print(outputs)\n",
        "#     print(outputs.shape,labels.shape , torch.argmax(outputs, dim=1))\n",
        "\n",
        "    loss = criterion(outputs, labels) \n",
        "    loss.backward()\n",
        "    optimizer_focus.step()\n",
        "    optimizer_classify.step()\n",
        "\n",
        "    running_loss += loss.item()\n",
        "    mini = 20\n",
        "    if cnt % mini == mini-1:    # print every 40 mini-batches\n",
        "      print('[%d, %5d] loss: %.3f' %(epoch + 1, cnt + 1, running_loss / mini))\n",
        "      epoch_loss.append(running_loss/mini)\n",
        "      running_loss = 0.0\n",
        "    cnt=cnt+1\n",
        "    \n",
        "    if epoch % 5 == 0:\n",
        "      for j in range (inputs.size(0)):\n",
        "        #print(alphas.shape)\n",
        "        focus = torch.argmax(alphas[j])\n",
        "\n",
        "        if(alphas[j][focus] >= 0.5):\n",
        "          argmax_more_than_half +=1\n",
        "        else:\n",
        "          argmax_less_than_half +=1\n",
        "\n",
        "        if(focus == fore_idx[j] and predicted[j] == labels[j]):\n",
        "          focus_true_pred_true += 1\n",
        "\n",
        "        elif(focus != fore_idx[j] and predicted[j] == labels[j]):\n",
        "          focus_false_pred_true +=1\n",
        "\n",
        "        elif(focus == fore_idx[j] and predicted[j] != labels[j]):\n",
        "          focus_true_pred_false +=1\n",
        "\n",
        "        elif(focus != fore_idx[j] and predicted[j] != labels[j]):\n",
        "          focus_false_pred_false +=1\n",
        "\n",
        "  if(np.mean(epoch_loss) <= 0.05):\n",
        "      break;\n",
        "\n",
        "  if epoch % 5 == 0:\n",
        "    col1.append(epoch + 1)\n",
        "    col2.append(argmax_more_than_half)\n",
        "    col3.append(argmax_less_than_half)\n",
        "    col4.append(focus_true_pred_true)\n",
        "    col5.append(focus_false_pred_true)\n",
        "    col6.append(focus_true_pred_false)\n",
        "    col7.append(focus_false_pred_false)\n",
        "    print(\"=\"*20)\n",
        "    print(\"Train FTPT : \", col4)\n",
        "    print(\"Train FFPT : \", col5)\n",
        "    #************************************************************************\n",
        "    #testing data set  \n",
        "    # focus_net.eval()\n",
        "    with torch.no_grad():\n",
        "      focus_true_pred_true =0\n",
        "      focus_false_pred_true =0\n",
        "      focus_true_pred_false =0\n",
        "      focus_false_pred_false =0\n",
        "\n",
        "      argmax_more_than_half = 0\n",
        "      argmax_less_than_half =0\n",
        "      for data in test_loader:\n",
        "        inputs, labels , fore_idx = data\n",
        "        inputs = inputs.double()\n",
        "        inputs, labels = inputs.to(\"cuda\"), labels.to(\"cuda\")\n",
        "        alphas, avg_images = focus_net(inputs)\n",
        "        outputs = classify(avg_images)\n",
        "        _, predicted = torch.max(outputs.data, 1)\n",
        "\n",
        "        for j in range (inputs.size(0)):\n",
        "          focus = torch.argmax(alphas[j],dim=-1)\n",
        "\n",
        "          if(alphas[j][focus] >= 0.5):\n",
        "            argmax_more_than_half +=1\n",
        "          else:\n",
        "            argmax_less_than_half +=1\n",
        "\n",
        "          if(focus == fore_idx[j] and predicted[j] == labels[j]):\n",
        "            focus_true_pred_true += 1\n",
        "\n",
        "          elif(focus != fore_idx[j] and predicted[j] == labels[j]):\n",
        "            focus_false_pred_true +=1\n",
        "\n",
        "          elif(focus == fore_idx[j] and predicted[j] != labels[j]):\n",
        "            focus_true_pred_false +=1\n",
        "\n",
        "          elif(focus != fore_idx[j] and predicted[j] != labels[j]):\n",
        "            focus_false_pred_false +=1\n",
        "      \n",
        "    col8.append(argmax_more_than_half)\n",
        "    col9.append(argmax_less_than_half)\n",
        "    col10.append(focus_true_pred_true)\n",
        "    col11.append(focus_false_pred_true)\n",
        "    col12.append(focus_true_pred_false)\n",
        "    col13.append(focus_false_pred_false)\n",
        "    print(\"Test FTPT : \", col10)\n",
        "    print(\"Test FFPT : \", col11)\n",
        "    print(\"=\"*20)\n",
        "    \n",
        "print('Finished Training')"
      ],
      "metadata": {
        "id": "e59d07e7",
        "papermill": {
          "duration": 565.760935,
          "end_time": "2021-09-07T08:34:29.248527",
          "exception": false,
          "start_time": "2021-09-07T08:25:03.487592",
          "status": "completed"
        },
        "tags": [],
        "execution": {
          "iopub.status.busy": "2022-01-08T10:00:00.914364Z",
          "iopub.execute_input": "2022-01-08T10:00:00.915361Z",
          "iopub.status.idle": "2022-01-08T10:08:48.586863Z",
          "shell.execute_reply.started": "2022-01-08T10:00:00.915286Z",
          "shell.execute_reply": "2022-01-08T10:08:48.584028Z"
        },
        "trusted": true,
        "colab": {
          "base_uri": "https://localhost:8080/"
        },
        "outputId": "8253c331-ace0-4e50-d358-572f26556e2c"
      },
      "execution_count": 42,
      "outputs": [
        {
          "output_type": "stream",
          "name": "stdout",
          "text": [
            "[1,    20] loss: 1.097\n",
            "[1,    40] loss: 1.075\n",
            "[1,    60] loss: 1.041\n",
            "[1,    80] loss: 0.995\n",
            "[1,   100] loss: 0.974\n",
            "====================\n",
            "Train FTPT :  [648, 1892]\n",
            "Train FFPT :  [2515, 2741]\n",
            "Test FTPT :  [615, 3040]\n",
            "Test FFPT :  [2572, 2356]\n",
            "====================\n",
            "[2,    20] loss: 0.944\n",
            "[2,    40] loss: 0.942\n",
            "[2,    60] loss: 0.913\n",
            "[2,    80] loss: 0.895\n",
            "[2,   100] loss: 0.894\n",
            "[3,    20] loss: 0.838\n",
            "[3,    40] loss: 0.826\n",
            "[3,    60] loss: 0.836\n",
            "[3,    80] loss: 0.835\n",
            "[3,   100] loss: 0.806\n",
            "[4,    20] loss: 0.751\n",
            "[4,    40] loss: 0.757\n",
            "[4,    60] loss: 0.778\n",
            "[4,    80] loss: 0.794\n",
            "[4,   100] loss: 0.744\n",
            "[5,    20] loss: 0.704\n",
            "[5,    40] loss: 0.709\n",
            "[5,    60] loss: 0.728\n",
            "[5,    80] loss: 0.665\n",
            "[5,   100] loss: 0.710\n",
            "[6,    20] loss: 0.712\n",
            "[6,    40] loss: 0.652\n",
            "[6,    60] loss: 0.655\n",
            "[6,    80] loss: 0.643\n",
            "[6,   100] loss: 0.646\n",
            "====================\n",
            "Train FTPT :  [648, 1892, 5131]\n",
            "Train FFPT :  [2515, 2741, 1998]\n",
            "Test FTPT :  [615, 3040, 4725]\n",
            "Test FFPT :  [2572, 2356, 1932]\n",
            "====================\n",
            "[7,    20] loss: 0.590\n",
            "[7,    40] loss: 0.567\n",
            "[7,    60] loss: 0.583\n",
            "[7,    80] loss: 0.610\n",
            "[7,   100] loss: 0.648\n",
            "[8,    20] loss: 0.561\n",
            "[8,    40] loss: 0.576\n",
            "[8,    60] loss: 0.552\n",
            "[8,    80] loss: 0.563\n",
            "[8,   100] loss: 0.563\n",
            "[9,    20] loss: 0.509\n",
            "[9,    40] loss: 0.504\n",
            "[9,    60] loss: 0.479\n",
            "[9,    80] loss: 0.511\n",
            "[9,   100] loss: 0.526\n",
            "[10,    20] loss: 0.445\n",
            "[10,    40] loss: 0.435\n",
            "[10,    60] loss: 0.470\n",
            "[10,    80] loss: 0.540\n",
            "[10,   100] loss: 0.479\n",
            "[11,    20] loss: 0.408\n",
            "[11,    40] loss: 0.420\n",
            "[11,    60] loss: 0.430\n",
            "[11,    80] loss: 0.411\n",
            "[11,   100] loss: 0.389\n",
            "====================\n",
            "Train FTPT :  [648, 1892, 5131, 6347]\n",
            "Train FFPT :  [2515, 2741, 1998, 2004]\n",
            "Test FTPT :  [615, 3040, 4725, 5427]\n",
            "Test FFPT :  [2572, 2356, 1932, 1741]\n",
            "====================\n",
            "[12,    20] loss: 0.391\n",
            "[12,    40] loss: 0.355\n",
            "[12,    60] loss: 0.365\n",
            "[12,    80] loss: 0.397\n",
            "[12,   100] loss: 0.355\n",
            "[13,    20] loss: 0.322\n",
            "[13,    40] loss: 0.335\n",
            "[13,    60] loss: 0.357\n",
            "[13,    80] loss: 0.357\n",
            "[13,   100] loss: 0.360\n",
            "[14,    20] loss: 0.283\n",
            "[14,    40] loss: 0.296\n",
            "[14,    60] loss: 0.298\n",
            "[14,    80] loss: 0.332\n",
            "[14,   100] loss: 0.326\n",
            "[15,    20] loss: 0.251\n",
            "[15,    40] loss: 0.268\n",
            "[15,    60] loss: 0.263\n",
            "[15,    80] loss: 0.275\n",
            "[15,   100] loss: 0.292\n",
            "[16,    20] loss: 0.242\n",
            "[16,    40] loss: 0.231\n",
            "[16,    60] loss: 0.227\n",
            "[16,    80] loss: 0.235\n",
            "[16,   100] loss: 0.280\n",
            "====================\n",
            "Train FTPT :  [648, 1892, 5131, 6347, 6940]\n",
            "Train FFPT :  [2515, 2741, 1998, 2004, 2147]\n",
            "Test FTPT :  [615, 3040, 4725, 5427, 5666]\n",
            "Test FFPT :  [2572, 2356, 1932, 1741, 1628]\n",
            "====================\n",
            "[17,    20] loss: 0.219\n",
            "[17,    40] loss: 0.195\n",
            "[17,    60] loss: 0.207\n",
            "[17,    80] loss: 0.195\n",
            "[17,   100] loss: 0.222\n",
            "[18,    20] loss: 0.183\n",
            "[18,    40] loss: 0.168\n",
            "[18,    60] loss: 0.188\n",
            "[18,    80] loss: 0.213\n",
            "[18,   100] loss: 0.201\n",
            "[19,    20] loss: 0.154\n",
            "[19,    40] loss: 0.156\n",
            "[19,    60] loss: 0.144\n",
            "[19,    80] loss: 0.147\n",
            "[19,   100] loss: 0.186\n",
            "[20,    20] loss: 0.177\n",
            "[20,    40] loss: 0.177\n",
            "[20,    60] loss: 0.168\n",
            "[20,    80] loss: 0.161\n",
            "[20,   100] loss: 0.163\n",
            "[21,    20] loss: 0.130\n",
            "[21,    40] loss: 0.136\n",
            "[21,    60] loss: 0.144\n",
            "[21,    80] loss: 0.138\n",
            "[21,   100] loss: 0.162\n",
            "====================\n",
            "Train FTPT :  [648, 1892, 5131, 6347, 6940, 7270]\n",
            "Train FFPT :  [2515, 2741, 1998, 2004, 2147, 2234]\n",
            "Test FTPT :  [615, 3040, 4725, 5427, 5666, 5851]\n",
            "Test FFPT :  [2572, 2356, 1932, 1741, 1628, 1492]\n",
            "====================\n",
            "[22,    20] loss: 0.119\n",
            "[22,    40] loss: 0.136\n",
            "[22,    60] loss: 0.132\n",
            "[22,    80] loss: 0.108\n",
            "[22,   100] loss: 0.150\n",
            "[23,    20] loss: 0.131\n",
            "[23,    40] loss: 0.119\n",
            "[23,    60] loss: 0.109\n",
            "[23,    80] loss: 0.120\n",
            "[23,   100] loss: 0.150\n",
            "[24,    20] loss: 0.103\n",
            "[24,    40] loss: 0.089\n",
            "[24,    60] loss: 0.099\n",
            "[24,    80] loss: 0.105\n",
            "[24,   100] loss: 0.116\n",
            "[25,    20] loss: 0.071\n",
            "[25,    40] loss: 0.077\n",
            "[25,    60] loss: 0.079\n",
            "[25,    80] loss: 0.081\n",
            "[25,   100] loss: 0.105\n",
            "[26,    20] loss: 0.093\n",
            "[26,    40] loss: 0.133\n",
            "[26,    60] loss: 0.098\n",
            "[26,    80] loss: 0.107\n",
            "[26,   100] loss: 0.105\n",
            "====================\n",
            "Train FTPT :  [648, 1892, 5131, 6347, 6940, 7270, 7297]\n",
            "Train FFPT :  [2515, 2741, 1998, 2004, 2147, 2234, 2361]\n",
            "Test FTPT :  [615, 3040, 4725, 5427, 5666, 5851, 5899]\n",
            "Test FFPT :  [2572, 2356, 1932, 1741, 1628, 1492, 1552]\n",
            "====================\n",
            "[27,    20] loss: 0.083\n",
            "[27,    40] loss: 0.077\n",
            "[27,    60] loss: 0.062\n",
            "[27,    80] loss: 0.082\n",
            "[27,   100] loss: 0.081\n",
            "[28,    20] loss: 0.077\n",
            "[28,    40] loss: 0.081\n",
            "[28,    60] loss: 0.081\n",
            "[28,    80] loss: 0.069\n",
            "[28,   100] loss: 0.076\n",
            "[29,    20] loss: 0.073\n",
            "[29,    40] loss: 0.066\n",
            "[29,    60] loss: 0.080\n",
            "[29,    80] loss: 0.074\n",
            "[29,   100] loss: 0.062\n",
            "[30,    20] loss: 0.039\n",
            "[30,    40] loss: 0.057\n",
            "[30,    60] loss: 0.037\n",
            "[30,    80] loss: 0.086\n",
            "[30,   100] loss: 0.129\n",
            "[31,    20] loss: 0.067\n",
            "[31,    40] loss: 0.061\n",
            "[31,    60] loss: 0.080\n",
            "[31,    80] loss: 0.107\n",
            "[31,   100] loss: 0.071\n",
            "====================\n",
            "Train FTPT :  [648, 1892, 5131, 6347, 6940, 7270, 7297, 7390]\n",
            "Train FFPT :  [2515, 2741, 1998, 2004, 2147, 2234, 2361, 2372]\n",
            "Test FTPT :  [615, 3040, 4725, 5427, 5666, 5851, 5899, 5800]\n",
            "Test FFPT :  [2572, 2356, 1932, 1741, 1628, 1492, 1552, 1663]\n",
            "====================\n",
            "[32,    20] loss: 0.057\n",
            "[32,    40] loss: 0.042\n",
            "[32,    60] loss: 0.053\n",
            "[32,    80] loss: 0.043\n",
            "[32,   100] loss: 0.051\n",
            "Finished Training\n"
          ]
        }
      ]
    },
    {
      "cell_type": "code",
      "source": [
        "# torch.save(focus_net.state_dict(),path+\"_focus.pt\")\n",
        "# torch.save(classify.state_dict(),path+\"_classify.pt\")"
      ],
      "metadata": {
        "id": "c84443ee",
        "papermill": {
          "duration": 0.101591,
          "end_time": "2021-09-07T08:34:29.424544",
          "exception": false,
          "start_time": "2021-09-07T08:34:29.322953",
          "status": "completed"
        },
        "tags": [],
        "execution": {
          "iopub.status.busy": "2022-01-08T10:08:48.588602Z",
          "iopub.execute_input": "2022-01-08T10:08:48.589076Z",
          "iopub.status.idle": "2022-01-08T10:08:48.615199Z",
          "shell.execute_reply.started": "2022-01-08T10:08:48.589034Z",
          "shell.execute_reply": "2022-01-08T10:08:48.614229Z"
        },
        "trusted": true
      },
      "execution_count": 43,
      "outputs": []
    },
    {
      "cell_type": "code",
      "source": [
        "df_train = pd.DataFrame()\n",
        "df_test = pd.DataFrame()"
      ],
      "metadata": {
        "id": "4a1153f9",
        "papermill": {
          "duration": 0.079947,
          "end_time": "2021-09-07T08:34:29.576926",
          "exception": false,
          "start_time": "2021-09-07T08:34:29.496979",
          "status": "completed"
        },
        "tags": [],
        "execution": {
          "iopub.status.busy": "2022-01-08T10:08:48.616832Z",
          "iopub.execute_input": "2022-01-08T10:08:48.617562Z",
          "iopub.status.idle": "2022-01-08T10:08:48.625579Z",
          "shell.execute_reply.started": "2022-01-08T10:08:48.617487Z",
          "shell.execute_reply": "2022-01-08T10:08:48.624582Z"
        },
        "trusted": true
      },
      "execution_count": 44,
      "outputs": []
    },
    {
      "cell_type": "code",
      "source": [
        "columns = [\"epochs\", \"argmax > 0.5\" ,\"argmax < 0.5\", \"focus_true_pred_true\", \"focus_false_pred_true\", \"focus_true_pred_false\", \"focus_false_pred_false\" ]"
      ],
      "metadata": {
        "id": "d0fe3eab",
        "papermill": {
          "duration": 0.077535,
          "end_time": "2021-09-07T08:34:29.726721",
          "exception": false,
          "start_time": "2021-09-07T08:34:29.649186",
          "status": "completed"
        },
        "tags": [],
        "execution": {
          "iopub.status.busy": "2022-01-08T10:08:48.627471Z",
          "iopub.execute_input": "2022-01-08T10:08:48.628142Z",
          "iopub.status.idle": "2022-01-08T10:08:48.638841Z",
          "shell.execute_reply.started": "2022-01-08T10:08:48.628082Z",
          "shell.execute_reply": "2022-01-08T10:08:48.637911Z"
        },
        "trusted": true
      },
      "execution_count": 45,
      "outputs": []
    },
    {
      "cell_type": "code",
      "source": [
        "df_train[columns[0]] = col1\n",
        "df_train[columns[1]] = col2\n",
        "df_train[columns[2]] = col3\n",
        "df_train[columns[3]] = col4\n",
        "df_train[columns[4]] = col5\n",
        "df_train[columns[5]] = col6\n",
        "df_train[columns[6]] = col7\n",
        "\n",
        "df_test[columns[0]] = col1\n",
        "df_test[columns[1]] = col8\n",
        "df_test[columns[2]] = col9\n",
        "df_test[columns[3]] = col10\n",
        "df_test[columns[4]] = col11\n",
        "df_test[columns[5]] = col12\n",
        "df_test[columns[6]] = col13"
      ],
      "metadata": {
        "id": "c94329a0",
        "papermill": {
          "duration": 0.095269,
          "end_time": "2021-09-07T08:34:29.894183",
          "exception": false,
          "start_time": "2021-09-07T08:34:29.798914",
          "status": "completed"
        },
        "tags": [],
        "execution": {
          "iopub.status.busy": "2022-01-08T10:08:48.640236Z",
          "iopub.execute_input": "2022-01-08T10:08:48.640637Z",
          "iopub.status.idle": "2022-01-08T10:08:48.671702Z",
          "shell.execute_reply.started": "2022-01-08T10:08:48.640591Z",
          "shell.execute_reply": "2022-01-08T10:08:48.670715Z"
        },
        "trusted": true
      },
      "execution_count": 46,
      "outputs": []
    },
    {
      "cell_type": "code",
      "source": [
        "df_train"
      ],
      "metadata": {
        "id": "ecd5aabd",
        "papermill": {
          "duration": 0.092535,
          "end_time": "2021-09-07T08:34:30.058027",
          "exception": false,
          "start_time": "2021-09-07T08:34:29.965492",
          "status": "completed"
        },
        "tags": [],
        "execution": {
          "iopub.status.busy": "2022-01-08T10:08:48.673048Z",
          "iopub.execute_input": "2022-01-08T10:08:48.673476Z",
          "iopub.status.idle": "2022-01-08T10:08:48.693419Z",
          "shell.execute_reply.started": "2022-01-08T10:08:48.673433Z",
          "shell.execute_reply": "2022-01-08T10:08:48.692421Z"
        },
        "trusted": true,
        "colab": {
          "base_uri": "https://localhost:8080/",
          "height": 300
        },
        "outputId": "befb1388-67c9-4ac6-f220-48e8cde09491"
      },
      "execution_count": 47,
      "outputs": [
        {
          "output_type": "execute_result",
          "data": {
            "text/html": [
              "\n",
              "  <div id=\"df-1eb996e4-57a2-4725-80b3-576d64cad205\">\n",
              "    <div class=\"colab-df-container\">\n",
              "      <div>\n",
              "<style scoped>\n",
              "    .dataframe tbody tr th:only-of-type {\n",
              "        vertical-align: middle;\n",
              "    }\n",
              "\n",
              "    .dataframe tbody tr th {\n",
              "        vertical-align: top;\n",
              "    }\n",
              "\n",
              "    .dataframe thead th {\n",
              "        text-align: right;\n",
              "    }\n",
              "</style>\n",
              "<table border=\"1\" class=\"dataframe\">\n",
              "  <thead>\n",
              "    <tr style=\"text-align: right;\">\n",
              "      <th></th>\n",
              "      <th>epochs</th>\n",
              "      <th>argmax &gt; 0.5</th>\n",
              "      <th>argmax &lt; 0.5</th>\n",
              "      <th>focus_true_pred_true</th>\n",
              "      <th>focus_false_pred_true</th>\n",
              "      <th>focus_true_pred_false</th>\n",
              "      <th>focus_false_pred_false</th>\n",
              "    </tr>\n",
              "  </thead>\n",
              "  <tbody>\n",
              "    <tr>\n",
              "      <th>0</th>\n",
              "      <td>0</td>\n",
              "      <td>0</td>\n",
              "      <td>10000</td>\n",
              "      <td>648</td>\n",
              "      <td>2515</td>\n",
              "      <td>1411</td>\n",
              "      <td>5426</td>\n",
              "    </tr>\n",
              "    <tr>\n",
              "      <th>1</th>\n",
              "      <td>1</td>\n",
              "      <td>1950</td>\n",
              "      <td>8050</td>\n",
              "      <td>1892</td>\n",
              "      <td>2741</td>\n",
              "      <td>1559</td>\n",
              "      <td>3808</td>\n",
              "    </tr>\n",
              "    <tr>\n",
              "      <th>2</th>\n",
              "      <td>6</td>\n",
              "      <td>6734</td>\n",
              "      <td>3266</td>\n",
              "      <td>5131</td>\n",
              "      <td>1998</td>\n",
              "      <td>1135</td>\n",
              "      <td>1736</td>\n",
              "    </tr>\n",
              "    <tr>\n",
              "      <th>3</th>\n",
              "      <td>11</td>\n",
              "      <td>7590</td>\n",
              "      <td>2410</td>\n",
              "      <td>6347</td>\n",
              "      <td>2004</td>\n",
              "      <td>689</td>\n",
              "      <td>960</td>\n",
              "    </tr>\n",
              "    <tr>\n",
              "      <th>4</th>\n",
              "      <td>16</td>\n",
              "      <td>8010</td>\n",
              "      <td>1990</td>\n",
              "      <td>6940</td>\n",
              "      <td>2147</td>\n",
              "      <td>344</td>\n",
              "      <td>569</td>\n",
              "    </tr>\n",
              "    <tr>\n",
              "      <th>5</th>\n",
              "      <td>21</td>\n",
              "      <td>8213</td>\n",
              "      <td>1787</td>\n",
              "      <td>7270</td>\n",
              "      <td>2234</td>\n",
              "      <td>176</td>\n",
              "      <td>320</td>\n",
              "    </tr>\n",
              "    <tr>\n",
              "      <th>6</th>\n",
              "      <td>26</td>\n",
              "      <td>8125</td>\n",
              "      <td>1875</td>\n",
              "      <td>7297</td>\n",
              "      <td>2361</td>\n",
              "      <td>123</td>\n",
              "      <td>219</td>\n",
              "    </tr>\n",
              "    <tr>\n",
              "      <th>7</th>\n",
              "      <td>31</td>\n",
              "      <td>8040</td>\n",
              "      <td>1960</td>\n",
              "      <td>7390</td>\n",
              "      <td>2372</td>\n",
              "      <td>76</td>\n",
              "      <td>162</td>\n",
              "    </tr>\n",
              "  </tbody>\n",
              "</table>\n",
              "</div>\n",
              "      <button class=\"colab-df-convert\" onclick=\"convertToInteractive('df-1eb996e4-57a2-4725-80b3-576d64cad205')\"\n",
              "              title=\"Convert this dataframe to an interactive table.\"\n",
              "              style=\"display:none;\">\n",
              "        \n",
              "  <svg xmlns=\"http://www.w3.org/2000/svg\" height=\"24px\"viewBox=\"0 0 24 24\"\n",
              "       width=\"24px\">\n",
              "    <path d=\"M0 0h24v24H0V0z\" fill=\"none\"/>\n",
              "    <path d=\"M18.56 5.44l.94 2.06.94-2.06 2.06-.94-2.06-.94-.94-2.06-.94 2.06-2.06.94zm-11 1L8.5 8.5l.94-2.06 2.06-.94-2.06-.94L8.5 2.5l-.94 2.06-2.06.94zm10 10l.94 2.06.94-2.06 2.06-.94-2.06-.94-.94-2.06-.94 2.06-2.06.94z\"/><path d=\"M17.41 7.96l-1.37-1.37c-.4-.4-.92-.59-1.43-.59-.52 0-1.04.2-1.43.59L10.3 9.45l-7.72 7.72c-.78.78-.78 2.05 0 2.83L4 21.41c.39.39.9.59 1.41.59.51 0 1.02-.2 1.41-.59l7.78-7.78 2.81-2.81c.8-.78.8-2.07 0-2.86zM5.41 20L4 18.59l7.72-7.72 1.47 1.35L5.41 20z\"/>\n",
              "  </svg>\n",
              "      </button>\n",
              "      \n",
              "  <style>\n",
              "    .colab-df-container {\n",
              "      display:flex;\n",
              "      flex-wrap:wrap;\n",
              "      gap: 12px;\n",
              "    }\n",
              "\n",
              "    .colab-df-convert {\n",
              "      background-color: #E8F0FE;\n",
              "      border: none;\n",
              "      border-radius: 50%;\n",
              "      cursor: pointer;\n",
              "      display: none;\n",
              "      fill: #1967D2;\n",
              "      height: 32px;\n",
              "      padding: 0 0 0 0;\n",
              "      width: 32px;\n",
              "    }\n",
              "\n",
              "    .colab-df-convert:hover {\n",
              "      background-color: #E2EBFA;\n",
              "      box-shadow: 0px 1px 2px rgba(60, 64, 67, 0.3), 0px 1px 3px 1px rgba(60, 64, 67, 0.15);\n",
              "      fill: #174EA6;\n",
              "    }\n",
              "\n",
              "    [theme=dark] .colab-df-convert {\n",
              "      background-color: #3B4455;\n",
              "      fill: #D2E3FC;\n",
              "    }\n",
              "\n",
              "    [theme=dark] .colab-df-convert:hover {\n",
              "      background-color: #434B5C;\n",
              "      box-shadow: 0px 1px 3px 1px rgba(0, 0, 0, 0.15);\n",
              "      filter: drop-shadow(0px 1px 2px rgba(0, 0, 0, 0.3));\n",
              "      fill: #FFFFFF;\n",
              "    }\n",
              "  </style>\n",
              "\n",
              "      <script>\n",
              "        const buttonEl =\n",
              "          document.querySelector('#df-1eb996e4-57a2-4725-80b3-576d64cad205 button.colab-df-convert');\n",
              "        buttonEl.style.display =\n",
              "          google.colab.kernel.accessAllowed ? 'block' : 'none';\n",
              "\n",
              "        async function convertToInteractive(key) {\n",
              "          const element = document.querySelector('#df-1eb996e4-57a2-4725-80b3-576d64cad205');\n",
              "          const dataTable =\n",
              "            await google.colab.kernel.invokeFunction('convertToInteractive',\n",
              "                                                     [key], {});\n",
              "          if (!dataTable) return;\n",
              "\n",
              "          const docLinkHtml = 'Like what you see? Visit the ' +\n",
              "            '<a target=\"_blank\" href=https://colab.research.google.com/notebooks/data_table.ipynb>data table notebook</a>'\n",
              "            + ' to learn more about interactive tables.';\n",
              "          element.innerHTML = '';\n",
              "          dataTable['output_type'] = 'display_data';\n",
              "          await google.colab.output.renderOutput(dataTable, element);\n",
              "          const docLink = document.createElement('div');\n",
              "          docLink.innerHTML = docLinkHtml;\n",
              "          element.appendChild(docLink);\n",
              "        }\n",
              "      </script>\n",
              "    </div>\n",
              "  </div>\n",
              "  "
            ],
            "text/plain": [
              "   epochs  argmax > 0.5  ...  focus_true_pred_false  focus_false_pred_false\n",
              "0       0             0  ...                   1411                    5426\n",
              "1       1          1950  ...                   1559                    3808\n",
              "2       6          6734  ...                   1135                    1736\n",
              "3      11          7590  ...                    689                     960\n",
              "4      16          8010  ...                    344                     569\n",
              "5      21          8213  ...                    176                     320\n",
              "6      26          8125  ...                    123                     219\n",
              "7      31          8040  ...                     76                     162\n",
              "\n",
              "[8 rows x 7 columns]"
            ]
          },
          "metadata": {},
          "execution_count": 47
        }
      ]
    },
    {
      "cell_type": "code",
      "source": [
        "# df_train.to_csv(path+\"_train.csv\",index=False)"
      ],
      "metadata": {
        "id": "6a969b1e",
        "papermill": {
          "duration": 0.084109,
          "end_time": "2021-09-07T08:34:30.215107",
          "exception": false,
          "start_time": "2021-09-07T08:34:30.130998",
          "status": "completed"
        },
        "tags": [],
        "execution": {
          "iopub.status.busy": "2022-01-08T10:08:48.695080Z",
          "iopub.execute_input": "2022-01-08T10:08:48.695408Z",
          "iopub.status.idle": "2022-01-08T10:08:48.704932Z",
          "shell.execute_reply.started": "2022-01-08T10:08:48.695364Z",
          "shell.execute_reply": "2022-01-08T10:08:48.703635Z"
        },
        "trusted": true
      },
      "execution_count": 48,
      "outputs": []
    },
    {
      "cell_type": "code",
      "source": [
        "# plt.figure(12,12)\n",
        "plt.plot(col1,col2, label='argmax > 0.5')\n",
        "plt.plot(col1,col3, label='argmax < 0.5')\n",
        "\n",
        "plt.legend(loc='center left', bbox_to_anchor=(1, 0.5))\n",
        "plt.xlabel(\"epochs\")\n",
        "plt.ylabel(\"training data\")\n",
        "plt.title(\"On Training set\")\n",
        "plt.show()\n",
        "\n"
      ],
      "metadata": {
        "id": "5af97fa3",
        "papermill": {
          "duration": 0.215713,
          "end_time": "2021-09-07T08:34:30.503550",
          "exception": false,
          "start_time": "2021-09-07T08:34:30.287837",
          "status": "completed"
        },
        "tags": [],
        "execution": {
          "iopub.status.busy": "2022-01-08T10:08:48.706903Z",
          "iopub.execute_input": "2022-01-08T10:08:48.707554Z",
          "iopub.status.idle": "2022-01-08T10:08:48.947539Z",
          "shell.execute_reply.started": "2022-01-08T10:08:48.707478Z",
          "shell.execute_reply": "2022-01-08T10:08:48.946553Z"
        },
        "trusted": true,
        "colab": {
          "base_uri": "https://localhost:8080/",
          "height": 295
        },
        "outputId": "04c18968-106b-415d-ea57-baad62ff9574"
      },
      "execution_count": 49,
      "outputs": [
        {
          "output_type": "display_data",
          "data": {
            "image/png": "[encoded data removed]",
            "text/plain": [
              "<Figure size 432x288 with 1 Axes>"
            ]
          },
          "metadata": {
            "needs_background": "light"
          }
        }
      ]
    },
    {
      "cell_type": "code",
      "source": [
        "plt.figure(figsize=(6,5))\n",
        "plt.plot(col1,np.array(col4)/300, label =\"FTPT\")\n",
        "plt.plot(col1,np.array(col5)/300, label =\"FFPT\")\n",
        "plt.plot(col1,np.array(col6)/300, label =\"FTPF\")\n",
        "plt.plot(col1,np.array(col7)/300, label =\"FFPF\")\n",
        "plt.title(\"CIFAR - SDC On Train set\")\n",
        "plt.grid()\n",
        "# plt.legend(loc='center left', bbox_to_anchor=(1, 0.5))\n",
        "plt.legend()\n",
        "plt.xlabel(\"epochs\", fontsize=14, fontweight = 'bold')\n",
        "plt.ylabel(\"percentage train data\", fontsize=14, fontweight = 'bold')\n",
        "# plt.savefig(path+\"cifar_train.png\", bbox_inches=\"tight\")\n",
        "# plt.savefig(path+\"cifar_train.pdf\", bbox_inches=\"tight\")\n",
        "# plt.savefig(path+\"cifar_train.png\", bbox_inches=\"tight\")\n",
        "# plt.savefig(path+\"cifar_train.pdf\", bbox_inches=\"tight\")\n",
        "plt.show()"
      ],
      "metadata": {
        "id": "1ddc6df1",
        "papermill": {
          "duration": 0.582498,
          "end_time": "2021-09-07T08:34:31.161035",
          "exception": false,
          "start_time": "2021-09-07T08:34:30.578537",
          "status": "completed"
        },
        "tags": [],
        "execution": {
          "iopub.status.busy": "2022-01-08T10:08:48.949243Z",
          "iopub.execute_input": "2022-01-08T10:08:48.949771Z",
          "iopub.status.idle": "2022-01-08T10:08:49.855097Z",
          "shell.execute_reply.started": "2022-01-08T10:08:48.949708Z",
          "shell.execute_reply": "2022-01-08T10:08:49.854126Z"
        },
        "trusted": true,
        "colab": {
          "base_uri": "https://localhost:8080/",
          "height": 354
        },
        "outputId": "7012be4c-6228-4eeb-9c37-130e13492a36"
      },
      "execution_count": 50,
      "outputs": [
        {
          "output_type": "display_data",
          "data": {
            "image/png": "[encoded data removed]",
            "text/plain": [
              "<Figure size 432x360 with 1 Axes>"
            ]
          },
          "metadata": {
            "needs_background": "light"
          }
        }
      ]
    },
    {
      "cell_type": "code",
      "source": [
        "df_test"
      ],
      "metadata": {
        "id": "6912ec78",
        "papermill": {
          "duration": 0.088376,
          "end_time": "2021-09-07T08:34:31.325583",
          "exception": false,
          "start_time": "2021-09-07T08:34:31.237207",
          "status": "completed"
        },
        "tags": [],
        "execution": {
          "iopub.status.busy": "2022-01-08T10:08:49.857067Z",
          "iopub.execute_input": "2022-01-08T10:08:49.857456Z",
          "iopub.status.idle": "2022-01-08T10:08:49.870188Z",
          "shell.execute_reply.started": "2022-01-08T10:08:49.857390Z",
          "shell.execute_reply": "2022-01-08T10:08:49.869149Z"
        },
        "trusted": true,
        "colab": {
          "base_uri": "https://localhost:8080/",
          "height": 300
        },
        "outputId": "44a2c7bb-892b-48d6-9f11-58867fd32c9a"
      },
      "execution_count": 51,
      "outputs": [
        {
          "output_type": "execute_result",
          "data": {
            "text/html": [
              "\n",
              "  <div id=\"df-3e558300-11d5-484d-9cd2-11a67df2b433\">\n",
              "    <div class=\"colab-df-container\">\n",
              "      <div>\n",
              "<style scoped>\n",
              "    .dataframe tbody tr th:only-of-type {\n",
              "        vertical-align: middle;\n",
              "    }\n",
              "\n",
              "    .dataframe tbody tr th {\n",
              "        vertical-align: top;\n",
              "    }\n",
              "\n",
              "    .dataframe thead th {\n",
              "        text-align: right;\n",
              "    }\n",
              "</style>\n",
              "<table border=\"1\" class=\"dataframe\">\n",
              "  <thead>\n",
              "    <tr style=\"text-align: right;\">\n",
              "      <th></th>\n",
              "      <th>epochs</th>\n",
              "      <th>argmax &gt; 0.5</th>\n",
              "      <th>argmax &lt; 0.5</th>\n",
              "      <th>focus_true_pred_true</th>\n",
              "      <th>focus_false_pred_true</th>\n",
              "      <th>focus_true_pred_false</th>\n",
              "      <th>focus_false_pred_false</th>\n",
              "    </tr>\n",
              "  </thead>\n",
              "  <tbody>\n",
              "    <tr>\n",
              "      <th>0</th>\n",
              "      <td>0</td>\n",
              "      <td>0</td>\n",
              "      <td>10000</td>\n",
              "      <td>615</td>\n",
              "      <td>2572</td>\n",
              "      <td>1386</td>\n",
              "      <td>5427</td>\n",
              "    </tr>\n",
              "    <tr>\n",
              "      <th>1</th>\n",
              "      <td>1</td>\n",
              "      <td>4018</td>\n",
              "      <td>5982</td>\n",
              "      <td>3040</td>\n",
              "      <td>2356</td>\n",
              "      <td>1559</td>\n",
              "      <td>3045</td>\n",
              "    </tr>\n",
              "    <tr>\n",
              "      <th>2</th>\n",
              "      <td>6</td>\n",
              "      <td>7312</td>\n",
              "      <td>2688</td>\n",
              "      <td>4725</td>\n",
              "      <td>1932</td>\n",
              "      <td>1356</td>\n",
              "      <td>1987</td>\n",
              "    </tr>\n",
              "    <tr>\n",
              "      <th>3</th>\n",
              "      <td>11</td>\n",
              "      <td>7372</td>\n",
              "      <td>2628</td>\n",
              "      <td>5427</td>\n",
              "      <td>1741</td>\n",
              "      <td>1168</td>\n",
              "      <td>1664</td>\n",
              "    </tr>\n",
              "    <tr>\n",
              "      <th>4</th>\n",
              "      <td>16</td>\n",
              "      <td>7499</td>\n",
              "      <td>2501</td>\n",
              "      <td>5666</td>\n",
              "      <td>1628</td>\n",
              "      <td>1006</td>\n",
              "      <td>1700</td>\n",
              "    </tr>\n",
              "    <tr>\n",
              "      <th>5</th>\n",
              "      <td>21</td>\n",
              "      <td>7972</td>\n",
              "      <td>2028</td>\n",
              "      <td>5851</td>\n",
              "      <td>1492</td>\n",
              "      <td>951</td>\n",
              "      <td>1706</td>\n",
              "    </tr>\n",
              "    <tr>\n",
              "      <th>6</th>\n",
              "      <td>26</td>\n",
              "      <td>7958</td>\n",
              "      <td>2042</td>\n",
              "      <td>5899</td>\n",
              "      <td>1552</td>\n",
              "      <td>926</td>\n",
              "      <td>1623</td>\n",
              "    </tr>\n",
              "    <tr>\n",
              "      <th>7</th>\n",
              "      <td>31</td>\n",
              "      <td>7679</td>\n",
              "      <td>2321</td>\n",
              "      <td>5800</td>\n",
              "      <td>1663</td>\n",
              "      <td>888</td>\n",
              "      <td>1649</td>\n",
              "    </tr>\n",
              "  </tbody>\n",
              "</table>\n",
              "</div>\n",
              "      <button class=\"colab-df-convert\" onclick=\"convertToInteractive('df-3e558300-11d5-484d-9cd2-11a67df2b433')\"\n",
              "              title=\"Convert this dataframe to an interactive table.\"\n",
              "              style=\"display:none;\">\n",
              "        \n",
              "  <svg xmlns=\"http://www.w3.org/2000/svg\" height=\"24px\"viewBox=\"0 0 24 24\"\n",
              "       width=\"24px\">\n",
              "    <path d=\"M0 0h24v24H0V0z\" fill=\"none\"/>\n",
              "    <path d=\"M18.56 5.44l.94 2.06.94-2.06 2.06-.94-2.06-.94-.94-2.06-.94 2.06-2.06.94zm-11 1L8.5 8.5l.94-2.06 2.06-.94-2.06-.94L8.5 2.5l-.94 2.06-2.06.94zm10 10l.94 2.06.94-2.06 2.06-.94-2.06-.94-.94-2.06-.94 2.06-2.06.94z\"/><path d=\"M17.41 7.96l-1.37-1.37c-.4-.4-.92-.59-1.43-.59-.52 0-1.04.2-1.43.59L10.3 9.45l-7.72 7.72c-.78.78-.78 2.05 0 2.83L4 21.41c.39.39.9.59 1.41.59.51 0 1.02-.2 1.41-.59l7.78-7.78 2.81-2.81c.8-.78.8-2.07 0-2.86zM5.41 20L4 18.59l7.72-7.72 1.47 1.35L5.41 20z\"/>\n",
              "  </svg>\n",
              "      </button>\n",
              "      \n",
              "  <style>\n",
              "    .colab-df-container {\n",
              "      display:flex;\n",
              "      flex-wrap:wrap;\n",
              "      gap: 12px;\n",
              "    }\n",
              "\n",
              "    .colab-df-convert {\n",
              "      background-color: #E8F0FE;\n",
              "      border: none;\n",
              "      border-radius: 50%;\n",
              "      cursor: pointer;\n",
              "      display: none;\n",
              "      fill: #1967D2;\n",
              "      height: 32px;\n",
              "      padding: 0 0 0 0;\n",
              "      width: 32px;\n",
              "    }\n",
              "\n",
              "    .colab-df-convert:hover {\n",
              "      background-color: #E2EBFA;\n",
              "      box-shadow: 0px 1px 2px rgba(60, 64, 67, 0.3), 0px 1px 3px 1px rgba(60, 64, 67, 0.15);\n",
              "      fill: #174EA6;\n",
              "    }\n",
              "\n",
              "    [theme=dark] .colab-df-convert {\n",
              "      background-color: #3B4455;\n",
              "      fill: #D2E3FC;\n",
              "    }\n",
              "\n",
              "    [theme=dark] .colab-df-convert:hover {\n",
              "      background-color: #434B5C;\n",
              "      box-shadow: 0px 1px 3px 1px rgba(0, 0, 0, 0.15);\n",
              "      filter: drop-shadow(0px 1px 2px rgba(0, 0, 0, 0.3));\n",
              "      fill: #FFFFFF;\n",
              "    }\n",
              "  </style>\n",
              "\n",
              "      <script>\n",
              "        const buttonEl =\n",
              "          document.querySelector('#df-3e558300-11d5-484d-9cd2-11a67df2b433 button.colab-df-convert');\n",
              "        buttonEl.style.display =\n",
              "          google.colab.kernel.accessAllowed ? 'block' : 'none';\n",
              "\n",
              "        async function convertToInteractive(key) {\n",
              "          const element = document.querySelector('#df-3e558300-11d5-484d-9cd2-11a67df2b433');\n",
              "          const dataTable =\n",
              "            await google.colab.kernel.invokeFunction('convertToInteractive',\n",
              "                                                     [key], {});\n",
              "          if (!dataTable) return;\n",
              "\n",
              "          const docLinkHtml = 'Like what you see? Visit the ' +\n",
              "            '<a target=\"_blank\" href=https://colab.research.google.com/notebooks/data_table.ipynb>data table notebook</a>'\n",
              "            + ' to learn more about interactive tables.';\n",
              "          element.innerHTML = '';\n",
              "          dataTable['output_type'] = 'display_data';\n",
              "          await google.colab.output.renderOutput(dataTable, element);\n",
              "          const docLink = document.createElement('div');\n",
              "          docLink.innerHTML = docLinkHtml;\n",
              "          element.appendChild(docLink);\n",
              "        }\n",
              "      </script>\n",
              "    </div>\n",
              "  </div>\n",
              "  "
            ],
            "text/plain": [
              "   epochs  argmax > 0.5  ...  focus_true_pred_false  focus_false_pred_false\n",
              "0       0             0  ...                   1386                    5427\n",
              "1       1          4018  ...                   1559                    3045\n",
              "2       6          7312  ...                   1356                    1987\n",
              "3      11          7372  ...                   1168                    1664\n",
              "4      16          7499  ...                   1006                    1700\n",
              "5      21          7972  ...                    951                    1706\n",
              "6      26          7958  ...                    926                    1623\n",
              "7      31          7679  ...                    888                    1649\n",
              "\n",
              "[8 rows x 7 columns]"
            ]
          },
          "metadata": {},
          "execution_count": 51
        }
      ]
    },
    {
      "cell_type": "code",
      "source": [
        "# df_test.to_csv(path+\"_test.csv\",index=False)"
      ],
      "metadata": {
        "id": "0eac729d",
        "papermill": {
          "duration": 0.085984,
          "end_time": "2021-09-07T08:34:31.486445",
          "exception": false,
          "start_time": "2021-09-07T08:34:31.400461",
          "status": "completed"
        },
        "tags": [],
        "execution": {
          "iopub.status.busy": "2022-01-08T10:08:49.872393Z",
          "iopub.execute_input": "2022-01-08T10:08:49.873277Z",
          "iopub.status.idle": "2022-01-08T10:08:49.883991Z",
          "shell.execute_reply.started": "2022-01-08T10:08:49.873217Z",
          "shell.execute_reply": "2022-01-08T10:08:49.882948Z"
        },
        "trusted": true
      },
      "execution_count": 52,
      "outputs": []
    },
    {
      "cell_type": "code",
      "source": [
        "# plt.figure(12,12)\n",
        "plt.plot(col1,col8, label='argmax > 0.5')\n",
        "plt.plot(col1,col9, label='argmax < 0.5')\n",
        "\n",
        "plt.legend(loc='center left', bbox_to_anchor=(1, 0.5))\n",
        "plt.xlabel(\"epochs\")\n",
        "plt.ylabel(\"Testing data\")\n",
        "plt.title(\"On Testing set\")\n",
        "plt.show()\n",
        "\n"
      ],
      "metadata": {
        "id": "fef44c03",
        "papermill": {
          "duration": 0.216452,
          "end_time": "2021-09-07T08:34:31.779328",
          "exception": false,
          "start_time": "2021-09-07T08:34:31.562876",
          "status": "completed"
        },
        "tags": [],
        "execution": {
          "iopub.status.busy": "2022-01-08T10:08:49.886133Z",
          "iopub.execute_input": "2022-01-08T10:08:49.886859Z",
          "iopub.status.idle": "2022-01-08T10:08:50.120326Z",
          "shell.execute_reply.started": "2022-01-08T10:08:49.886814Z",
          "shell.execute_reply": "2022-01-08T10:08:50.119344Z"
        },
        "trusted": true,
        "colab": {
          "base_uri": "https://localhost:8080/",
          "height": 295
        },
        "outputId": "aac9a6f4-ffc9-4541-8b70-bc9879f5a3d8"
      },
      "execution_count": 53,
      "outputs": [
        {
          "output_type": "display_data",
          "data": {
            "image/png": "[encoded data removed]",
            "text/plain": [
              "<Figure size 432x288 with 1 Axes>"
            ]
          },
          "metadata": {
            "needs_background": "light"
          }
        }
      ]
    },
    {
      "cell_type": "code",
      "source": [
        "plt.figure(figsize=(6,5))\n",
        "plt.plot(col1,np.array(col10)/100, label =\"FTPT\")\n",
        "plt.plot(col1,np.array(col11)/100, label =\"FFPT\")\n",
        "plt.plot(col1,np.array(col12)/100, label =\"FTPF\")\n",
        "plt.plot(col1,np.array(col13)/100, label =\"FFPF\")\n",
        "plt.title(\"CIFAR - SDC On Test set\")\n",
        "plt.grid()\n",
        "# plt.legend(loc='center left', bbox_to_anchor=(1, 0.5))\n",
        "plt.legend()\n",
        "plt.xlabel(\"epochs\", fontsize=14, fontweight = 'bold')\n",
        "plt.ylabel(\"percentage test data\", fontsize=14, fontweight = 'bold')\n",
        "# plt.savefig(path+\"cifar_test.png\", bbox_inches=\"tight\")\n",
        "# plt.savefig(path+\"cifar_test.pdf\", bbox_inches=\"tight\")\n",
        "# plt.savefig(path+\"cifar_test.png\", bbox_inches=\"tight\")\n",
        "# plt.savefig(path+\"cifar_test.pdf\", bbox_inches=\"tight\")\n",
        "plt.show()"
      ],
      "metadata": {
        "id": "9b0dc081",
        "papermill": {
          "duration": 0.606317,
          "end_time": "2021-09-07T08:34:32.465045",
          "exception": false,
          "start_time": "2021-09-07T08:34:31.858728",
          "status": "completed"
        },
        "tags": [],
        "execution": {
          "iopub.status.busy": "2022-01-08T10:08:50.122271Z",
          "iopub.execute_input": "2022-01-08T10:08:50.122742Z",
          "iopub.status.idle": "2022-01-08T10:08:50.812547Z",
          "shell.execute_reply.started": "2022-01-08T10:08:50.122697Z",
          "shell.execute_reply": "2022-01-08T10:08:50.811425Z"
        },
        "trusted": true,
        "colab": {
          "base_uri": "https://localhost:8080/",
          "height": 354
        },
        "outputId": "e98d5b11-782e-4066-c7cd-e3c78414ada1"
      },
      "execution_count": 54,
      "outputs": [
        {
          "output_type": "display_data",
          "data": {
            "image/png": "[encoded data removed]",
            "text/plain": [
              "<Figure size 432x360 with 1 Axes>"
            ]
          },
          "metadata": {
            "needs_background": "light"
          }
        }
      ]
    },
    {
      "cell_type": "code",
      "source": [
        "correct = 0\n",
        "total = 0\n",
        "count = 0\n",
        "flag = 1\n",
        "focus_true_pred_true =0\n",
        "focus_false_pred_true =0\n",
        "focus_true_pred_false =0\n",
        "focus_false_pred_false =0\n",
        "\n",
        "argmax_more_than_half = 0\n",
        "argmax_less_than_half =0\n",
        "\n",
        "with torch.no_grad():\n",
        "  for data in train_loader:\n",
        "    inputs, labels , fore_idx = data\n",
        "    inputs = inputs.double()\n",
        "    inputs, labels , fore_idx = inputs.to(\"cuda\"),labels.to(\"cuda\"), fore_idx.to(\"cuda\")\n",
        "    alphas, avg_images = focus_net(inputs)\n",
        "    outputs = classify(avg_images)\n",
        "\n",
        "    _, predicted = torch.max(outputs.data, 1)\n",
        "\n",
        "    for j in range(labels.size(0)):\n",
        "      focus = torch.argmax(alphas[j])\n",
        "      if alphas[j][focus] >= 0.5 :\n",
        "        argmax_more_than_half += 1\n",
        "      else:\n",
        "        argmax_less_than_half += 1\n",
        "\n",
        "      if(focus == fore_idx[j] and predicted[j] == labels[j]):\n",
        "          focus_true_pred_true += 1\n",
        "      elif(focus != fore_idx[j] and predicted[j] == labels[j]):\n",
        "        focus_false_pred_true += 1\n",
        "      elif(focus == fore_idx[j] and predicted[j] != labels[j]):\n",
        "        focus_true_pred_false += 1\n",
        "      elif(focus != fore_idx[j] and predicted[j] != labels[j]):\n",
        "        focus_false_pred_false += 1\n",
        "\n",
        "    total += labels.size(0)\n",
        "    correct += (predicted == labels).sum().item()\n",
        "\n",
        "print('Accuracy of the network on the  train images: %f %%' % (\n",
        "    100 * correct / total))\n",
        "print(\"total correct\", correct)\n",
        "print(\"total train set images\", total)\n",
        "\n",
        "print(\"focus_true_pred_true %d =============> FTPT : %f %%\" % (focus_true_pred_true , (100 * focus_true_pred_true / total) ) )\n",
        "print(\"focus_false_pred_true %d =============> FFPT : %f %%\" % (focus_false_pred_true, (100 * focus_false_pred_true / total) ) )\n",
        "print(\"focus_true_pred_false %d =============> FTPF : %f %%\" %( focus_true_pred_false , ( 100 * focus_true_pred_false / total) ) )\n",
        "print(\"focus_false_pred_false %d =============> FFPF : %f %%\" % (focus_false_pred_false, ( 100 * focus_false_pred_false / total) ) )\n",
        "\n",
        "print(\"argmax_more_than_half ==================> \",argmax_more_than_half)\n",
        "print(\"argmax_less_than_half ==================> \",argmax_less_than_half)"
      ],
      "metadata": {
        "id": "36d8966f",
        "papermill": {
          "duration": 9.043773,
          "end_time": "2021-09-07T08:34:41.587341",
          "exception": false,
          "start_time": "2021-09-07T08:34:32.543568",
          "status": "completed"
        },
        "tags": [],
        "execution": {
          "iopub.status.busy": "2022-01-08T10:08:50.815286Z",
          "iopub.execute_input": "2022-01-08T10:08:50.815645Z",
          "iopub.status.idle": "2022-01-08T10:09:00.387754Z",
          "shell.execute_reply.started": "2022-01-08T10:08:50.815602Z",
          "shell.execute_reply": "2022-01-08T10:09:00.386599Z"
        },
        "trusted": true,
        "colab": {
          "base_uri": "https://localhost:8080/"
        },
        "outputId": "e36b781f-36a1-468b-f7a8-1364a95013cf"
      },
      "execution_count": 55,
      "outputs": [
        {
          "output_type": "stream",
          "name": "stdout",
          "text": [
            "Accuracy of the network on the  train images: 99.090000 %\n",
            "total correct 9909\n",
            "total train set images 10000\n",
            "focus_true_pred_true 7538 =============> FTPT : 75.380000 %\n",
            "focus_false_pred_true 2371 =============> FFPT : 23.710000 %\n",
            "focus_true_pred_false 43 =============> FTPF : 0.430000 %\n",
            "focus_false_pred_false 48 =============> FFPF : 0.480000 %\n",
            "argmax_more_than_half ==================>  8118\n",
            "argmax_less_than_half ==================>  1882\n"
          ]
        }
      ]
    },
    {
      "cell_type": "code",
      "source": [
        "correct = 0\n",
        "total = 0\n",
        "count = 0\n",
        "flag = 1\n",
        "focus_true_pred_true =0\n",
        "focus_false_pred_true =0\n",
        "focus_true_pred_false =0\n",
        "focus_false_pred_false =0\n",
        "\n",
        "argmax_more_than_half = 0\n",
        "argmax_less_than_half =0\n",
        "\n",
        "with torch.no_grad():\n",
        "  for data in test_loader:\n",
        "    inputs, labels , fore_idx = data\n",
        "    inputs = inputs.double()\n",
        "    inputs, labels , fore_idx = inputs.to(\"cuda\"),labels.to(\"cuda\"), fore_idx.to(\"cuda\")\n",
        "    alphas, avg_images = focus_net(inputs)\n",
        "    outputs = classify(avg_images)\n",
        "\n",
        "    _, predicted = torch.max(outputs.data, 1)\n",
        "\n",
        "    for j in range(labels.size(0)):\n",
        "      focus = torch.argmax(alphas[j])\n",
        "      if alphas[j][focus] >= 0.5 :\n",
        "        argmax_more_than_half += 1\n",
        "      else:\n",
        "        argmax_less_than_half += 1\n",
        "\n",
        "      if(focus == fore_idx[j] and predicted[j] == labels[j]):\n",
        "          focus_true_pred_true += 1\n",
        "      elif(focus != fore_idx[j] and predicted[j] == labels[j]):\n",
        "        focus_false_pred_true += 1\n",
        "      elif(focus == fore_idx[j] and predicted[j] != labels[j]):\n",
        "        focus_true_pred_false += 1\n",
        "      elif(focus != fore_idx[j] and predicted[j] != labels[j]):\n",
        "        focus_false_pred_false += 1\n",
        "\n",
        "    total += labels.size(0)\n",
        "    correct += (predicted == labels).sum().item()\n",
        "\n",
        "print('Accuracy of the network on the  test images: %f %%' % (\n",
        "    100 * correct / total))\n",
        "print(\"total correct\", correct)\n",
        "print(\"total train set images\", total)\n",
        "\n",
        "print(\"focus_true_pred_true %d =============> FTPT : %f %%\" % (focus_true_pred_true , (100 * focus_true_pred_true / total) ) )\n",
        "print(\"focus_false_pred_true %d =============> FFPT : %f %%\" % (focus_false_pred_true, (100 * focus_false_pred_true / total) ) )\n",
        "print(\"focus_true_pred_false %d =============> FTPF : %f %%\" %( focus_true_pred_false , ( 100 * focus_true_pred_false / total) ) )\n",
        "print(\"focus_false_pred_false %d =============> FFPF : %f %%\" % (focus_false_pred_false, ( 100 * focus_false_pred_false / total) ) )\n",
        "\n",
        "print(\"argmax_more_than_half ==================> \",argmax_more_than_half)\n",
        "print(\"argmax_less_than_half ==================> \",argmax_less_than_half)"
      ],
      "metadata": {
        "id": "577da7db",
        "papermill": {
          "duration": 3.113473,
          "end_time": "2021-09-07T08:34:44.780518",
          "exception": false,
          "start_time": "2021-09-07T08:34:41.667045",
          "status": "completed"
        },
        "tags": [],
        "execution": {
          "iopub.status.busy": "2022-01-08T10:09:00.389688Z",
          "iopub.execute_input": "2022-01-08T10:09:00.390004Z",
          "iopub.status.idle": "2022-01-08T10:09:03.668519Z",
          "shell.execute_reply.started": "2022-01-08T10:09:00.389946Z",
          "shell.execute_reply": "2022-01-08T10:09:03.667541Z"
        },
        "trusted": true,
        "colab": {
          "base_uri": "https://localhost:8080/"
        },
        "outputId": "f716662a-993f-4ae8-8e8e-696cde6eb4b3"
      },
      "execution_count": 56,
      "outputs": [
        {
          "output_type": "stream",
          "name": "stdout",
          "text": [
            "Accuracy of the network on the  test images: 74.200000 %\n",
            "total correct 7420\n",
            "total train set images 10000\n",
            "focus_true_pred_true 5861 =============> FTPT : 58.610000 %\n",
            "focus_false_pred_true 1559 =============> FFPT : 15.590000 %\n",
            "focus_true_pred_false 1007 =============> FTPF : 10.070000 %\n",
            "focus_false_pred_false 1573 =============> FFPF : 15.730000 %\n",
            "argmax_more_than_half ==================>  7621\n",
            "argmax_less_than_half ==================>  2379\n"
          ]
        }
      ]
    },
    {
      "cell_type": "code",
      "source": [
        "correct = 0\n",
        "total = 0\n",
        "\n",
        "with torch.no_grad():\n",
        "  for data in train_loader:\n",
        "    inputs, labels , fore_idx = data\n",
        "    inputs = inputs.double()\n",
        "    inputs, labels = inputs.to(\"cuda\"), labels.to(\"cuda\")\n",
        "    alphas, avg_images = focus_net(inputs)\n",
        "    outputs = classify(avg_images)\n",
        "\n",
        "    _, predicted = torch.max(outputs.data, 1)\n",
        "\n",
        "    total += labels.size(0)\n",
        "    correct += (predicted == labels).sum().item()\n",
        "\n",
        "print('Accuracy of the network on the  train images: %f %%' % ( 100 * correct / total))\n",
        "print(\"total correct\", correct)\n",
        "print(\"total train set images\", total)"
      ],
      "metadata": {
        "id": "cccfb887",
        "papermill": {
          "duration": 3.482753,
          "end_time": "2021-09-07T08:34:48.349667",
          "exception": false,
          "start_time": "2021-09-07T08:34:44.866914",
          "status": "completed"
        },
        "tags": [],
        "execution": {
          "iopub.status.busy": "2022-01-08T10:09:03.673305Z",
          "iopub.execute_input": "2022-01-08T10:09:03.673649Z",
          "iopub.status.idle": "2022-01-08T10:09:06.344847Z",
          "shell.execute_reply.started": "2022-01-08T10:09:03.673606Z",
          "shell.execute_reply": "2022-01-08T10:09:06.343840Z"
        },
        "trusted": true,
        "colab": {
          "base_uri": "https://localhost:8080/"
        },
        "outputId": "165392a5-8bf8-4368-f380-be2a3beec678"
      },
      "execution_count": 57,
      "outputs": [
        {
          "output_type": "stream",
          "name": "stdout",
          "text": [
            "Accuracy of the network on the  train images: 99.090000 %\n",
            "total correct 9909\n",
            "total train set images 10000\n"
          ]
        }
      ]
    },
    {
      "cell_type": "code",
      "source": [
        "correct = 0\n",
        "total = 0\n",
        "\n",
        "with torch.no_grad():\n",
        "  for data in test_loader:\n",
        "    inputs, labels , fore_idx = data\n",
        "    inputs = inputs.double()\n",
        "    inputs, labels = inputs.to(\"cuda\"), labels.to(\"cuda\")\n",
        "    alphas, avg_images = focus_net(inputs)\n",
        "    outputs = classify(avg_images)\n",
        "\n",
        "    _, predicted = torch.max(outputs.data, 1)\n",
        "\n",
        "    total += labels.size(0)\n",
        "    correct += (predicted == labels).sum().item()\n",
        "\n",
        "print('Accuracy of the network on the 10000 test images: %f %%' % ( 100 * correct / total))\n",
        "print(\"total correct\", correct)\n",
        "print(\"total train set images\", total)"
      ],
      "metadata": {
        "id": "5508ba5b",
        "papermill": {
          "duration": 1.195982,
          "end_time": "2021-09-07T08:34:49.625370",
          "exception": false,
          "start_time": "2021-09-07T08:34:48.429388",
          "status": "completed"
        },
        "tags": [],
        "execution": {
          "iopub.status.busy": "2022-01-08T10:09:06.346397Z",
          "iopub.execute_input": "2022-01-08T10:09:06.347044Z",
          "iopub.status.idle": "2022-01-08T10:09:07.207983Z",
          "shell.execute_reply.started": "2022-01-08T10:09:06.346990Z",
          "shell.execute_reply": "2022-01-08T10:09:07.206767Z"
        },
        "trusted": true,
        "colab": {
          "base_uri": "https://localhost:8080/"
        },
        "outputId": "73c25677-abd7-4a2a-bc2b-5420d3bbdf97"
      },
      "execution_count": 58,
      "outputs": [
        {
          "output_type": "stream",
          "name": "stdout",
          "text": [
            "Accuracy of the network on the 10000 test images: 74.200000 %\n",
            "total correct 7420\n",
            "total train set images 10000\n"
          ]
        }
      ]
    },
    {
      "cell_type": "code",
      "source": [
        ""
      ],
      "metadata": {
        "id": "341a7c12",
        "papermill": {
          "duration": 0.078958,
          "end_time": "2021-09-07T08:34:49.784036",
          "exception": false,
          "start_time": "2021-09-07T08:34:49.705078",
          "status": "completed"
        },
        "tags": []
      },
      "execution_count": 58,
      "outputs": []
    }
  ]
}