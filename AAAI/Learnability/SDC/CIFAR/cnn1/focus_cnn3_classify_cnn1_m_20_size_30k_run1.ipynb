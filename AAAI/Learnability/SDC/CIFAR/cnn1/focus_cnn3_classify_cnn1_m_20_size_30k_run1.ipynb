{
  "cells": [
    {
      "cell_type": "code",
      "execution_count": null,
      "id": "78565916",
      "metadata": {
        "execution": {
          "iopub.execute_input": "2021-09-07T04:24:05.397293Z",
          "iopub.status.busy": "2021-09-07T04:24:05.395719Z",
          "iopub.status.idle": "2021-09-07T04:24:06.033760Z",
          "shell.execute_reply": "2021-09-07T04:24:06.034201Z",
          "shell.execute_reply.started": "2021-09-07T04:23:26.443613Z"
        },
        "id": "78565916",
        "outputId": "7a82e111-0d86-4b84-b308-f16e16c44abf",
        "papermill": {
          "duration": 0.682623,
          "end_time": "2021-09-07T04:24:06.034466",
          "exception": false,
          "start_time": "2021-09-07T04:24:05.351843",
          "status": "completed"
        },
        "tags": []
      },
      "outputs": [
        {
          "name": "stdout",
          "output_type": "stream",
          "text": [
            "/kaggle/working\r\n"
          ]
        }
      ],
      "source": [
        "# from google.colab import drive\n",
        "# drive.mount('/content/drive')\n",
        "!pwd"
      ]
    },
    {
      "cell_type": "code",
      "execution_count": null,
      "id": "011d8aa9",
      "metadata": {
        "execution": {
          "iopub.execute_input": "2021-09-07T04:24:06.117303Z",
          "iopub.status.busy": "2021-09-07T04:24:06.116750Z",
          "iopub.status.idle": "2021-09-07T04:24:06.120292Z",
          "shell.execute_reply": "2021-09-07T04:24:06.120693Z",
          "shell.execute_reply.started": "2021-09-07T03:25:04.950207Z"
        },
        "id": "011d8aa9",
        "papermill": {
          "duration": 0.046258,
          "end_time": "2021-09-07T04:24:06.120816",
          "exception": false,
          "start_time": "2021-09-07T04:24:06.074558",
          "status": "completed"
        },
        "tags": []
      },
      "outputs": [],
      "source": [
        "path = \"/kaggle/working/run_m_20\""
      ]
    },
    {
      "cell_type": "code",
      "execution_count": null,
      "id": "a8a0823b",
      "metadata": {
        "execution": {
          "iopub.execute_input": "2021-09-07T04:24:06.205338Z",
          "iopub.status.busy": "2021-09-07T04:24:06.204766Z",
          "iopub.status.idle": "2021-09-07T04:24:07.458824Z",
          "shell.execute_reply": "2021-09-07T04:24:07.458356Z",
          "shell.execute_reply.started": "2021-09-07T03:25:04.998311Z"
        },
        "id": "a8a0823b",
        "papermill": {
          "duration": 1.298287,
          "end_time": "2021-09-07T04:24:07.458952",
          "exception": false,
          "start_time": "2021-09-07T04:24:06.160665",
          "status": "completed"
        },
        "tags": []
      },
      "outputs": [],
      "source": [
        "import torch.nn as nn\n",
        "import torch.nn.functional as F\n",
        "\n",
        "import pandas as pd\n",
        "import numpy as np\n",
        "import matplotlib.pyplot as plt\n",
        "\n",
        "import torch\n",
        "import torchvision\n",
        "import torchvision.transforms as transforms\n",
        "from torch.utils.data import Dataset, DataLoader\n",
        "from torchvision import transforms, utils\n",
        "\n",
        "from matplotlib import pyplot as plt\n",
        "\n",
        "import copy\n",
        "\n",
        "# Ignore warnings\n",
        "import warnings\n",
        "warnings.filterwarnings(\"ignore\")\n",
        "\n",
        "torch.backends.cudnn.deterministic = True\n",
        "torch.backends.cudnn.benchmark = False\n"
      ]
    },
    {
      "cell_type": "code",
      "execution_count": null,
      "id": "75656523",
      "metadata": {
        "execution": {
          "iopub.execute_input": "2021-09-07T04:24:07.548425Z",
          "iopub.status.busy": "2021-09-07T04:24:07.545520Z",
          "iopub.status.idle": "2021-09-07T04:25:07.139970Z",
          "shell.execute_reply": "2021-09-07T04:25:07.139313Z",
          "shell.execute_reply.started": "2021-09-07T03:25:06.290202Z"
        },
        "id": "75656523",
        "outputId": "32e04fcd-1045-4c64-83f1-ed44b22ea82d",
        "papermill": {
          "duration": 59.641496,
          "end_time": "2021-09-07T04:25:07.140143",
          "exception": false,
          "start_time": "2021-09-07T04:24:07.498647",
          "status": "completed"
        },
        "tags": [],
        "colab": {
          "referenced_widgets": [
            "217b8c086b1c4135b819a26cf318c0e3"
          ]
        }
      },
      "outputs": [
        {
          "name": "stdout",
          "output_type": "stream",
          "text": [
            "Downloading https://www.cs.toronto.edu/~kriz/cifar-10-python.tar.gz to ./data/cifar-10-python.tar.gz\n"
          ]
        },
        {
          "data": {
            "application/vnd.jupyter.widget-view+json": {
              "model_id": "217b8c086b1c4135b819a26cf318c0e3",
              "version_major": 2,
              "version_minor": 0
            },
            "text/plain": [
              "0it [00:00, ?it/s]"
            ]
          },
          "metadata": {},
          "output_type": "display_data"
        },
        {
          "name": "stdout",
          "output_type": "stream",
          "text": [
            "Extracting ./data/cifar-10-python.tar.gz to ./data\n",
            "Files already downloaded and verified\n"
          ]
        }
      ],
      "source": [
        "transform = transforms.Compose(\n",
        "    [transforms.ToTensor(),\n",
        "     transforms.Normalize((0.5, 0.5, 0.5), (0.5, 0.5, 0.5))])\n",
        "\n",
        "trainset = torchvision.datasets.CIFAR10(root='./data', train=True, download=True, transform=transform)\n",
        "\n",
        "\n",
        "testset = torchvision.datasets.CIFAR10(root='./data', train=False, download=True, transform=transform)\n",
        "\n",
        "trainloader = torch.utils.data.DataLoader(trainset, batch_size=10, shuffle=False)\n",
        "testloader = torch.utils.data.DataLoader(testset, batch_size=10, shuffle=False)\n",
        "\n",
        "\n",
        "classes = ('plane', 'car', 'bird', 'cat', 'deer', 'dog', 'frog', 'horse', 'ship', 'truck')\n",
        "\n",
        "foreground_classes = {'plane', 'car', 'bird'}\n",
        "\n",
        "background_classes = {'cat', 'deer', 'dog', 'frog', 'horse','ship', 'truck'}\n",
        "\n",
        "# print(type(foreground_classes))\n",
        "\n",
        "dataiter = iter(trainloader)\n",
        "background_data=[]\n",
        "background_label=[]\n",
        "foreground_data=[]\n",
        "foreground_label=[]\n",
        "batch_size=10\n",
        "\n",
        "for i in range(5000):   #5000*batch_size = 50000 data points\n",
        "  images, labels = dataiter.next()\n",
        "  for j in range(batch_size):\n",
        "    if(classes[labels[j]] in background_classes):\n",
        "      img = images[j].tolist()\n",
        "      background_data.append(img)\n",
        "      background_label.append(labels[j])\n",
        "    else:\n",
        "      img = images[j].tolist()\n",
        "      foreground_data.append(img)\n",
        "      foreground_label.append(labels[j])\n",
        "            \n",
        "foreground_data = torch.tensor(foreground_data)\n",
        "foreground_label = torch.tensor(foreground_label)\n",
        "background_data = torch.tensor(background_data)\n",
        "background_label = torch.tensor(background_label)\n",
        "    \n",
        "  "
      ]
    },
    {
      "cell_type": "code",
      "execution_count": null,
      "id": "384ac238",
      "metadata": {
        "execution": {
          "iopub.execute_input": "2021-09-07T04:25:07.226414Z",
          "iopub.status.busy": "2021-09-07T04:25:07.225796Z",
          "iopub.status.idle": "2021-09-07T04:25:07.230276Z",
          "shell.execute_reply": "2021-09-07T04:25:07.230660Z",
          "shell.execute_reply.started": "2021-09-07T03:26:02.211057Z"
        },
        "id": "384ac238",
        "outputId": "04ff16f2-5c0c-4554-ed9a-51899cc6fd4e",
        "papermill": {
          "duration": 0.049825,
          "end_time": "2021-09-07T04:25:07.230785",
          "exception": false,
          "start_time": "2021-09-07T04:25:07.180960",
          "status": "completed"
        },
        "tags": []
      },
      "outputs": [
        {
          "data": {
            "text/plain": [
              "4"
            ]
          },
          "execution_count": 5,
          "metadata": {},
          "output_type": "execute_result"
        }
      ],
      "source": [
        "foreground_data.element_size()"
      ]
    },
    {
      "cell_type": "code",
      "execution_count": null,
      "id": "f79864c3",
      "metadata": {
        "execution": {
          "iopub.execute_input": "2021-09-07T04:25:07.324586Z",
          "iopub.status.busy": "2021-09-07T04:25:07.323828Z",
          "iopub.status.idle": "2021-09-07T04:25:07.326046Z",
          "shell.execute_reply": "2021-09-07T04:25:07.326554Z",
          "shell.execute_reply.started": "2021-09-07T03:26:02.220196Z"
        },
        "id": "f79864c3",
        "papermill": {
          "duration": 0.046638,
          "end_time": "2021-09-07T04:25:07.326675",
          "exception": false,
          "start_time": "2021-09-07T04:25:07.280037",
          "status": "completed"
        },
        "tags": []
      },
      "outputs": [],
      "source": [
        "fg1, fg2, fg3 = 0,1,2"
      ]
    },
    {
      "cell_type": "code",
      "execution_count": null,
      "id": "d25685ca",
      "metadata": {
        "execution": {
          "iopub.execute_input": "2021-09-07T04:25:07.411687Z",
          "iopub.status.busy": "2021-09-07T04:25:07.410849Z",
          "iopub.status.idle": "2021-09-07T04:25:07.413374Z",
          "shell.execute_reply": "2021-09-07T04:25:07.412926Z",
          "shell.execute_reply.started": "2021-09-07T03:26:02.229294Z"
        },
        "id": "d25685ca",
        "papermill": {
          "duration": 0.046794,
          "end_time": "2021-09-07T04:25:07.413481",
          "exception": false,
          "start_time": "2021-09-07T04:25:07.366687",
          "status": "completed"
        },
        "tags": []
      },
      "outputs": [],
      "source": [
        "def imshow(img):\n",
        "  img = img / 2 + 0.5     # unnormalize\n",
        "  npimg = img#.numpy()\n",
        "  plt.imshow(np.transpose(npimg, (1, 2, 0)))\n",
        "  plt.show()"
      ]
    },
    {
      "cell_type": "code",
      "execution_count": null,
      "id": "f850477e",
      "metadata": {
        "execution": {
          "iopub.execute_input": "2021-09-07T04:25:07.498350Z",
          "iopub.status.busy": "2021-09-07T04:25:07.497626Z",
          "iopub.status.idle": "2021-09-07T04:25:07.500219Z",
          "shell.execute_reply": "2021-09-07T04:25:07.499807Z",
          "shell.execute_reply.started": "2021-09-07T03:26:02.238525Z"
        },
        "id": "f850477e",
        "papermill": {
          "duration": 0.04571,
          "end_time": "2021-09-07T04:25:07.500323",
          "exception": false,
          "start_time": "2021-09-07T04:25:07.454613",
          "status": "completed"
        },
        "tags": []
      },
      "outputs": [],
      "source": [
        "# foreground_data.shape, foreground_label.shape, background_data.shape, background_label.shape"
      ]
    },
    {
      "cell_type": "code",
      "execution_count": null,
      "id": "2c1770d8",
      "metadata": {
        "execution": {
          "iopub.execute_input": "2021-09-07T04:25:07.584378Z",
          "iopub.status.busy": "2021-09-07T04:25:07.583551Z",
          "iopub.status.idle": "2021-09-07T04:25:07.585811Z",
          "shell.execute_reply": "2021-09-07T04:25:07.586197Z",
          "shell.execute_reply.started": "2021-09-07T03:26:02.247544Z"
        },
        "id": "2c1770d8",
        "papermill": {
          "duration": 0.045884,
          "end_time": "2021-09-07T04:25:07.586318",
          "exception": false,
          "start_time": "2021-09-07T04:25:07.540434",
          "status": "completed"
        },
        "tags": []
      },
      "outputs": [],
      "source": [
        "# val, idx = torch.max(background_data, dim=0, keepdims= True,)\n",
        "# torch.abs(val)"
      ]
    },
    {
      "cell_type": "code",
      "execution_count": null,
      "id": "8b8ec3b8",
      "metadata": {
        "execution": {
          "iopub.execute_input": "2021-09-07T04:25:07.671433Z",
          "iopub.status.busy": "2021-09-07T04:25:07.670559Z",
          "iopub.status.idle": "2021-09-07T04:25:07.673093Z",
          "shell.execute_reply": "2021-09-07T04:25:07.672709Z",
          "shell.execute_reply.started": "2021-09-07T03:26:02.258147Z"
        },
        "id": "8b8ec3b8",
        "papermill": {
          "duration": 0.046509,
          "end_time": "2021-09-07T04:25:07.673221",
          "exception": false,
          "start_time": "2021-09-07T04:25:07.626712",
          "status": "completed"
        },
        "tags": []
      },
      "outputs": [],
      "source": [
        "# mean_bg = torch.mean(background_data, dim=0, keepdims= True)\n",
        "# std_bg = torch.std(background_data, dim=0, keepdims= True)"
      ]
    },
    {
      "cell_type": "code",
      "execution_count": null,
      "id": "dc577c5b",
      "metadata": {
        "execution": {
          "iopub.execute_input": "2021-09-07T04:25:07.757342Z",
          "iopub.status.busy": "2021-09-07T04:25:07.756680Z",
          "iopub.status.idle": "2021-09-07T04:25:07.759460Z",
          "shell.execute_reply": "2021-09-07T04:25:07.759002Z",
          "shell.execute_reply.started": "2021-09-07T03:26:02.265740Z"
        },
        "id": "dc577c5b",
        "papermill": {
          "duration": 0.045773,
          "end_time": "2021-09-07T04:25:07.759567",
          "exception": false,
          "start_time": "2021-09-07T04:25:07.713794",
          "status": "completed"
        },
        "tags": []
      },
      "outputs": [],
      "source": [
        "# mean_bg.shape, std_bg.shape"
      ]
    },
    {
      "cell_type": "code",
      "execution_count": null,
      "id": "b03c8843",
      "metadata": {
        "execution": {
          "iopub.execute_input": "2021-09-07T04:25:07.843362Z",
          "iopub.status.busy": "2021-09-07T04:25:07.842687Z",
          "iopub.status.idle": "2021-09-07T04:25:07.845095Z",
          "shell.execute_reply": "2021-09-07T04:25:07.845553Z",
          "shell.execute_reply.started": "2021-09-07T03:26:02.272744Z"
        },
        "id": "b03c8843",
        "papermill": {
          "duration": 0.045587,
          "end_time": "2021-09-07T04:25:07.845670",
          "exception": false,
          "start_time": "2021-09-07T04:25:07.800083",
          "status": "completed"
        },
        "tags": []
      },
      "outputs": [],
      "source": [
        "# foreground_data = (foreground_data - mean_bg) / std_bg\n",
        "# background_data = (background_data - mean_bg) / std_bg"
      ]
    },
    {
      "cell_type": "code",
      "execution_count": null,
      "id": "182a78d5",
      "metadata": {
        "execution": {
          "iopub.execute_input": "2021-09-07T04:25:07.929710Z",
          "iopub.status.busy": "2021-09-07T04:25:07.928976Z",
          "iopub.status.idle": "2021-09-07T04:25:07.931210Z",
          "shell.execute_reply": "2021-09-07T04:25:07.931578Z",
          "shell.execute_reply.started": "2021-09-07T03:26:02.285860Z"
        },
        "id": "182a78d5",
        "papermill": {
          "duration": 0.045711,
          "end_time": "2021-09-07T04:25:07.931697",
          "exception": false,
          "start_time": "2021-09-07T04:25:07.885986",
          "status": "completed"
        },
        "tags": []
      },
      "outputs": [],
      "source": [
        "# foreground_data.shape, foreground_label.shape, background_data.shape, background_label.shape"
      ]
    },
    {
      "cell_type": "code",
      "execution_count": null,
      "id": "35086ac2",
      "metadata": {
        "execution": {
          "iopub.execute_input": "2021-09-07T04:25:08.015627Z",
          "iopub.status.busy": "2021-09-07T04:25:08.014908Z",
          "iopub.status.idle": "2021-09-07T04:25:08.017685Z",
          "shell.execute_reply": "2021-09-07T04:25:08.017291Z",
          "shell.execute_reply.started": "2021-09-07T03:26:02.293439Z"
        },
        "id": "35086ac2",
        "papermill": {
          "duration": 0.045969,
          "end_time": "2021-09-07T04:25:08.017787",
          "exception": false,
          "start_time": "2021-09-07T04:25:07.971818",
          "status": "completed"
        },
        "tags": []
      },
      "outputs": [],
      "source": [
        "# torch.sum(torch.isnan(foreground_data)), torch.sum(torch.isnan(background_data))"
      ]
    },
    {
      "cell_type": "code",
      "execution_count": null,
      "id": "38fbfd69",
      "metadata": {
        "execution": {
          "iopub.execute_input": "2021-09-07T04:25:08.103748Z",
          "iopub.status.busy": "2021-09-07T04:25:08.102929Z",
          "iopub.status.idle": "2021-09-07T04:25:08.105271Z",
          "shell.execute_reply": "2021-09-07T04:25:08.105633Z",
          "shell.execute_reply.started": "2021-09-07T03:26:02.301527Z"
        },
        "id": "38fbfd69",
        "papermill": {
          "duration": 0.047232,
          "end_time": "2021-09-07T04:25:08.105751",
          "exception": false,
          "start_time": "2021-09-07T04:25:08.058519",
          "status": "completed"
        },
        "tags": []
      },
      "outputs": [],
      "source": [
        "# imshow(foreground_data[0])"
      ]
    },
    {
      "cell_type": "code",
      "execution_count": null,
      "id": "5d6787f8",
      "metadata": {
        "execution": {
          "iopub.execute_input": "2021-09-07T04:25:08.189416Z",
          "iopub.status.busy": "2021-09-07T04:25:08.188897Z",
          "iopub.status.idle": "2021-09-07T04:25:08.192564Z",
          "shell.execute_reply": "2021-09-07T04:25:08.192078Z",
          "shell.execute_reply.started": "2021-09-07T03:26:02.310718Z"
        },
        "id": "5d6787f8",
        "papermill": {
          "duration": 0.047051,
          "end_time": "2021-09-07T04:25:08.192675",
          "exception": false,
          "start_time": "2021-09-07T04:25:08.145624",
          "status": "completed"
        },
        "tags": []
      },
      "outputs": [],
      "source": [
        "# imshow(background_data[2])"
      ]
    },
    {
      "cell_type": "code",
      "execution_count": null,
      "id": "0cb21f83",
      "metadata": {
        "execution": {
          "iopub.execute_input": "2021-09-07T04:25:08.279566Z",
          "iopub.status.busy": "2021-09-07T04:25:08.278875Z",
          "iopub.status.idle": "2021-09-07T04:25:08.282407Z",
          "shell.execute_reply": "2021-09-07T04:25:08.281970Z",
          "shell.execute_reply.started": "2021-09-07T03:26:02.320516Z"
        },
        "id": "0cb21f83",
        "papermill": {
          "duration": 0.049282,
          "end_time": "2021-09-07T04:25:08.282507",
          "exception": false,
          "start_time": "2021-09-07T04:25:08.233225",
          "status": "completed"
        },
        "tags": []
      },
      "outputs": [],
      "source": [
        "def create_mosaic_img(bg_idx,fg_idx,fg): \n",
        "  \"\"\"\n",
        "  bg_idx : list of indexes of background_data[] to be used as background images in mosaic\n",
        "  fg_idx : index of image to be used as foreground image from foreground data\n",
        "  fg : at what position/index foreground image has to be stored out of 0-8\n",
        "  \"\"\"\n",
        "  image_list=[]\n",
        "  j=0\n",
        "  for i in range(20):  # m value \n",
        "    if i != fg:\n",
        "      image_list.append(background_data[bg_idx[j]])\n",
        "      j+=1\n",
        "    else: \n",
        "      image_list.append(foreground_data[fg_idx])\n",
        "      label = foreground_label[fg_idx] - fg1  # minus fg1 because our fore ground classes are fg1,fg2,fg3 but we have to store it as 0,1,2\n",
        "  #image_list = np.concatenate(image_list ,axis=0)\n",
        "  image_list = torch.stack(image_list) \n",
        "  return image_list,label"
      ]
    },
    {
      "cell_type": "code",
      "execution_count": null,
      "id": "1b32022e",
      "metadata": {
        "execution": {
          "iopub.execute_input": "2021-09-07T04:25:08.374877Z",
          "iopub.status.busy": "2021-09-07T04:25:08.374378Z",
          "iopub.status.idle": "2021-09-07T04:25:22.314073Z",
          "shell.execute_reply": "2021-09-07T04:25:22.314524Z",
          "shell.execute_reply.started": "2021-09-07T03:26:02.330187Z"
        },
        "id": "1b32022e",
        "papermill": {
          "duration": 13.989242,
          "end_time": "2021-09-07T04:25:22.314688",
          "exception": false,
          "start_time": "2021-09-07T04:25:08.325446",
          "status": "completed"
        },
        "tags": []
      },
      "outputs": [],
      "source": [
        "desired_num = 40000\n",
        "mosaic_list_of_images =[]      # list of mosaic images, each mosaic image is saved as list of 9 images\n",
        "fore_idx =[]                   # list of indexes at which foreground image is present in a mosaic image i.e from 0 to 9               \n",
        "mosaic_label=[]                # label of mosaic image = foreground class present in that mosaic\n",
        "list_set_labels = [] \n",
        "for i in range(desired_num):\n",
        "  set_idx = set()\n",
        "  np.random.seed(i)\n",
        "  bg_idx = np.random.randint(0,35000,19)\n",
        "  set_idx = set(background_label[bg_idx].tolist())\n",
        "  fg_idx = np.random.randint(0,15000)\n",
        "  set_idx.add(foreground_label[fg_idx].item())\n",
        "  fg = np.random.randint(0,20)\n",
        "  fore_idx.append(fg)\n",
        "  image_list,label = create_mosaic_img(bg_idx,fg_idx,fg)\n",
        "  mosaic_list_of_images.append(image_list)\n",
        "  mosaic_label.append(label)\n",
        "  list_set_labels.append(set_idx)"
      ]
    },
    {
      "cell_type": "code",
      "execution_count": null,
      "id": "c875aa8d",
      "metadata": {
        "execution": {
          "iopub.execute_input": "2021-09-07T04:25:22.400413Z",
          "iopub.status.busy": "2021-09-07T04:25:22.399859Z",
          "iopub.status.idle": "2021-09-07T04:25:22.404928Z",
          "shell.execute_reply": "2021-09-07T04:25:22.405316Z",
          "shell.execute_reply.started": "2021-09-07T03:26:16.407098Z"
        },
        "id": "c875aa8d",
        "outputId": "7acf9dc5-b179-437d-a4f1-7a3607f6e5ee",
        "papermill": {
          "duration": 0.049758,
          "end_time": "2021-09-07T04:25:22.405448",
          "exception": false,
          "start_time": "2021-09-07T04:25:22.355690",
          "status": "completed"
        },
        "tags": []
      },
      "outputs": [
        {
          "data": {
            "text/plain": [
              "(40000, torch.Size([20, 3, 32, 32]))"
            ]
          },
          "execution_count": 19,
          "metadata": {},
          "output_type": "execute_result"
        }
      ],
      "source": [
        "# mosaic_list_of_images_train = torch.stack(mosaic_list_of_images)\n",
        "len(mosaic_list_of_images),mosaic_list_of_images[0].shape"
      ]
    },
    {
      "cell_type": "code",
      "execution_count": null,
      "id": "e93dbde7",
      "metadata": {
        "execution": {
          "iopub.execute_input": "2021-09-07T04:25:22.491091Z",
          "iopub.status.busy": "2021-09-07T04:25:22.490490Z",
          "iopub.status.idle": "2021-09-07T04:25:22.633837Z",
          "shell.execute_reply": "2021-09-07T04:25:22.633400Z",
          "shell.execute_reply.started": "2021-09-07T03:26:16.416114Z"
        },
        "id": "e93dbde7",
        "outputId": "757ab6ed-9dbe-460a-f3be-92d809a075cd",
        "papermill": {
          "duration": 0.187926,
          "end_time": "2021-09-07T04:25:22.633964",
          "exception": false,
          "start_time": "2021-09-07T04:25:22.446038",
          "status": "completed"
        },
        "tags": []
      },
      "outputs": [
        {
          "data": {
            "image/png": "[encoded data removed]",
            "text/plain": [
              "<Figure size 432x288 with 1 Axes>"
            ]
          },
          "metadata": {
            "needs_background": "light"
          },
          "output_type": "display_data"
        }
      ],
      "source": [
        "imshow(mosaic_list_of_images[0][1])"
      ]
    },
    {
      "cell_type": "code",
      "execution_count": null,
      "id": "cc189c28",
      "metadata": {
        "execution": {
          "iopub.execute_input": "2021-09-07T04:25:22.720076Z",
          "iopub.status.busy": "2021-09-07T04:25:22.719598Z",
          "iopub.status.idle": "2021-09-07T04:25:22.723332Z",
          "shell.execute_reply": "2021-09-07T04:25:22.722922Z",
          "shell.execute_reply.started": "2021-09-07T03:26:16.565084Z"
        },
        "id": "cc189c28",
        "papermill": {
          "duration": 0.04781,
          "end_time": "2021-09-07T04:25:22.723440",
          "exception": false,
          "start_time": "2021-09-07T04:25:22.675630",
          "status": "completed"
        },
        "tags": []
      },
      "outputs": [],
      "source": [
        "# mean_train = torch.mean(mosaic_list_of_images_train[0:2500], dim=0, keepdims= True)\n",
        "# std_train = torch.std(mosaic_list_of_images_train[0:2500], dim=0, keepdims= True) \n",
        "# mosaic_list_of_images_train = (mosaic_list_of_images_train - mean_train) / std_train"
      ]
    },
    {
      "cell_type": "code",
      "execution_count": null,
      "id": "7a23db8a",
      "metadata": {
        "execution": {
          "iopub.execute_input": "2021-09-07T04:25:22.808591Z",
          "iopub.status.busy": "2021-09-07T04:25:22.808048Z",
          "iopub.status.idle": "2021-09-07T04:25:22.811478Z",
          "shell.execute_reply": "2021-09-07T04:25:22.811844Z",
          "shell.execute_reply.started": "2021-09-07T03:26:16.570002Z"
        },
        "id": "7a23db8a",
        "papermill": {
          "duration": 0.047585,
          "end_time": "2021-09-07T04:25:22.811963",
          "exception": false,
          "start_time": "2021-09-07T04:25:22.764378",
          "status": "completed"
        },
        "tags": []
      },
      "outputs": [],
      "source": [
        "# imshow(mosaic_list_of_images_train[0][2])"
      ]
    },
    {
      "cell_type": "code",
      "execution_count": null,
      "id": "37034e13",
      "metadata": {
        "execution": {
          "iopub.execute_input": "2021-09-07T04:25:22.901969Z",
          "iopub.status.busy": "2021-09-07T04:25:22.901460Z",
          "iopub.status.idle": "2021-09-07T04:25:22.905121Z",
          "shell.execute_reply": "2021-09-07T04:25:22.904739Z",
          "shell.execute_reply.started": "2021-09-07T03:26:16.579317Z"
        },
        "id": "37034e13",
        "papermill": {
          "duration": 0.052183,
          "end_time": "2021-09-07T04:25:22.905246",
          "exception": false,
          "start_time": "2021-09-07T04:25:22.853063",
          "status": "completed"
        },
        "tags": []
      },
      "outputs": [],
      "source": [
        "class MosaicDataset(Dataset):\n",
        "  \"\"\"MosaicDataset dataset.\"\"\"\n",
        "\n",
        "  def __init__(self, mosaic_list_of_images, mosaic_label, fore_idx):\n",
        "    \"\"\"\n",
        "      Args:\n",
        "        csv_file (string): Path to the csv file with annotations.\n",
        "        root_dir (string): Directory with all the images.\n",
        "        transform (callable, optional): Optional transform to be applied\n",
        "            on a sample.\n",
        "    \"\"\"\n",
        "    self.mosaic = mosaic_list_of_images\n",
        "    self.label = mosaic_label\n",
        "    self.fore_idx = fore_idx\n",
        "\n",
        "  def __len__(self):\n",
        "    return len(self.label)\n",
        "\n",
        "  def __getitem__(self, idx):\n",
        "    return self.mosaic[idx] , self.label[idx], self.fore_idx[idx]\n",
        "\n",
        "batch = 100\n",
        "msd = MosaicDataset(mosaic_list_of_images[0:30000], mosaic_label[0:30000] , fore_idx[0:30000])\n",
        "train_loader = DataLoader( msd,batch_size= batch ,shuffle=True)\n",
        "\n",
        "test_data = MosaicDataset(mosaic_list_of_images[30000:], mosaic_label[30000:] , fore_idx[30000:])\n",
        "test_loader = DataLoader( test_data,batch_size= batch ,shuffle=False)"
      ]
    },
    {
      "cell_type": "code",
      "execution_count": null,
      "id": "75e865db",
      "metadata": {
        "execution": {
          "iopub.execute_input": "2021-09-07T04:25:23.011930Z",
          "iopub.status.busy": "2021-09-07T04:25:23.011322Z",
          "iopub.status.idle": "2021-09-07T04:25:23.013820Z",
          "shell.execute_reply": "2021-09-07T04:25:23.014272Z",
          "shell.execute_reply.started": "2021-09-07T03:26:16.591517Z"
        },
        "id": "75e865db",
        "papermill": {
          "duration": 0.06772,
          "end_time": "2021-09-07T04:25:23.014391",
          "exception": false,
          "start_time": "2021-09-07T04:25:22.946671",
          "status": "completed"
        },
        "tags": []
      },
      "outputs": [],
      "source": [
        "del foreground_data\n",
        "del background_data"
      ]
    },
    {
      "cell_type": "code",
      "execution_count": null,
      "id": "ad082da7",
      "metadata": {
        "execution": {
          "iopub.execute_input": "2021-09-07T04:25:23.113640Z",
          "iopub.status.busy": "2021-09-07T04:25:23.112857Z",
          "iopub.status.idle": "2021-09-07T04:25:23.115514Z",
          "shell.execute_reply": "2021-09-07T04:25:23.115085Z",
          "shell.execute_reply.started": "2021-09-07T03:26:16.622465Z"
        },
        "id": "ad082da7",
        "papermill": {
          "duration": 0.05913,
          "end_time": "2021-09-07T04:25:23.115620",
          "exception": false,
          "start_time": "2021-09-07T04:25:23.056490",
          "status": "completed"
        },
        "tags": []
      },
      "outputs": [],
      "source": [
        "class Focus(nn.Module):\n",
        "  def __init__(self):\n",
        "    super(Focus, self).__init__()\n",
        "\n",
        "    self.conv1 = nn.Conv2d(in_channels=3, out_channels=32, kernel_size=3, padding=0, bias=False)\n",
        "    self.pool = nn.MaxPool2d(2, 2)\n",
        "    self.conv2 = nn.Conv2d(in_channels=32, out_channels=64, kernel_size=3, padding=0, bias=False)\n",
        "    self.conv3 = nn.Conv2d(in_channels=64, out_channels=64, kernel_size=3, padding=0, bias=False)\n",
        "    self.fc1 = nn.Linear(1024, 512, bias=False)\n",
        "    self.fc2 = nn.Linear(512, 64, bias=False)\n",
        "    self.fc3 = nn.Linear(64, 10, bias=False)\n",
        "    self.fc4 = nn.Linear(10,1, bias=False)\n",
        "\n",
        "    torch.nn.init.xavier_normal_(self.conv1.weight)\n",
        "    torch.nn.init.xavier_normal_(self.conv2.weight)\n",
        "    torch.nn.init.xavier_normal_(self.conv3.weight)\n",
        "    torch.nn.init.xavier_normal_(self.fc1.weight)\n",
        "    torch.nn.init.xavier_normal_(self.fc2.weight)\n",
        "    torch.nn.init.xavier_normal_(self.fc3.weight)\n",
        "    torch.nn.init.xavier_normal_(self.fc4.weight)\n",
        "\n",
        "  def forward(self,z):  #y is avg image #z batch of list of 9 images\n",
        "    batch = z.size(0)\n",
        "    patches = z.size(1)\n",
        "    z = z.view(batch*patches,3,32,32)\n",
        "    alpha =  self.helper(z)\n",
        "    alpha = alpha.view(batch,patches,-1)\n",
        "    z = z.view(batch,patches,3,32,32)\n",
        "    #print(alpha.shape,z.shape)\n",
        "    alpha = F.softmax(alpha,dim=1)\n",
        "\n",
        "    x = torch.sum(alpha[:,:,:,None,None]*z,dim=1)\n",
        "\n",
        "    #alpha =alpha.view(batch,patches,-1)\n",
        "\n",
        "\n",
        "\n",
        "    return alpha[:,:,0],x # alpha, averaged data\n",
        "    \n",
        "  def helper(self, x):\n",
        "    x = self.pool(F.relu(self.conv1(x)))\n",
        "    x = self.pool(F.relu(self.conv2(x)))\n",
        "    # print(x.shape)\n",
        "    x = (F.relu(self.conv3(x)))\n",
        "    x =  x.view(x.size(0), -1)\n",
        "    # print(x.shape)\n",
        "    x = F.relu(self.fc1(x))\n",
        "    x = F.relu(self.fc2(x))\n",
        "    x = F.relu(self.fc3(x))\n",
        "    x = self.fc4(x)\n",
        "    return x"
      ]
    },
    {
      "cell_type": "code",
      "execution_count": null,
      "id": "2e7438f1",
      "metadata": {
        "execution": {
          "iopub.execute_input": "2021-09-07T04:25:23.296936Z",
          "iopub.status.busy": "2021-09-07T04:25:23.296193Z",
          "iopub.status.idle": "2021-09-07T04:25:23.298789Z",
          "shell.execute_reply": "2021-09-07T04:25:23.298391Z",
          "shell.execute_reply.started": "2021-09-07T03:26:16.650521Z"
        },
        "id": "2e7438f1",
        "papermill": {
          "duration": 0.052934,
          "end_time": "2021-09-07T04:25:23.298893",
          "exception": false,
          "start_time": "2021-09-07T04:25:23.245959",
          "status": "completed"
        },
        "tags": []
      },
      "outputs": [],
      "source": [
        "class Classification(nn.Module):\n",
        "  def __init__(self):\n",
        "    super(Classification, self).__init__()\n",
        "    self.conv1 = nn.Conv2d(3, 6, 5)\n",
        "    self.pool = nn.MaxPool2d(2, 2)\n",
        "    self.fc1 = nn.Linear(6 * 14 * 14, 120)\n",
        "    self.fc2 = nn.Linear(120, 84)\n",
        "    self.fc3 = nn.Linear(84, 10)\n",
        "    self.fc4 = nn.Linear(10,3)\n",
        "\n",
        "    torch.nn.init.xavier_normal_(self.conv1.weight)\n",
        "    torch.nn.init.zeros_(self.conv1.bias)\n",
        "    torch.nn.init.xavier_normal_(self.fc1.weight)\n",
        "    torch.nn.init.zeros_(self.fc1.bias)\n",
        "    torch.nn.init.xavier_normal_(self.fc2.weight)\n",
        "    torch.nn.init.zeros_(self.fc2.bias)\n",
        "    torch.nn.init.xavier_normal_(self.fc3.weight)\n",
        "    torch.nn.init.zeros_(self.fc3.bias)\n",
        "    torch.nn.init.xavier_normal_(self.fc4.weight)\n",
        "    torch.nn.init.zeros_(self.fc4.bias)\n",
        "\n",
        "  def forward(self,z): \n",
        "    y1 = self.pool(F.relu(self.conv1(z)))\n",
        "    #print(y1.shape)\n",
        "    y1 = y1.view(-1, 6 * 14 * 14)\n",
        "\n",
        "    y1 = F.relu(self.fc1(y1))\n",
        "    y1 = F.relu(self.fc2(y1))\n",
        "    y1 = F.relu(self.fc3(y1))\n",
        "    y1 = self.fc4(y1)\n",
        "    return y1 "
      ]
    },
    {
      "cell_type": "code",
      "execution_count": null,
      "id": "ac088f8b",
      "metadata": {
        "execution": {
          "iopub.execute_input": "2021-09-07T04:25:23.385093Z",
          "iopub.status.busy": "2021-09-07T04:25:23.384592Z",
          "iopub.status.idle": "2021-09-07T04:25:27.941908Z",
          "shell.execute_reply": "2021-09-07T04:25:27.941254Z",
          "shell.execute_reply.started": "2021-09-07T03:26:16.665641Z"
        },
        "id": "ac088f8b",
        "papermill": {
          "duration": 4.601721,
          "end_time": "2021-09-07T04:25:27.942039",
          "exception": false,
          "start_time": "2021-09-07T04:25:23.340318",
          "status": "completed"
        },
        "tags": []
      },
      "outputs": [],
      "source": [
        "torch.manual_seed(12)\n",
        "focus_net = Focus().double()\n",
        "focus_net = focus_net.to(\"cuda\")"
      ]
    },
    {
      "cell_type": "code",
      "execution_count": null,
      "id": "6cd61b4d",
      "metadata": {
        "execution": {
          "iopub.execute_input": "2021-09-07T04:25:28.031505Z",
          "iopub.status.busy": "2021-09-07T04:25:28.030947Z",
          "iopub.status.idle": "2021-09-07T04:25:28.036578Z",
          "shell.execute_reply": "2021-09-07T04:25:28.036159Z",
          "shell.execute_reply.started": "2021-09-07T03:26:21.085687Z"
        },
        "id": "6cd61b4d",
        "outputId": "df543468-f170-4189-8122-efa8a0ac7bb7",
        "papermill": {
          "duration": 0.052486,
          "end_time": "2021-09-07T04:25:28.036690",
          "exception": false,
          "start_time": "2021-09-07T04:25:27.984204",
          "status": "completed"
        },
        "tags": []
      },
      "outputs": [
        {
          "data": {
            "text/plain": [
              "(torch.Size([10, 64]), torch.Size([1, 10]))"
            ]
          },
          "execution_count": 29,
          "metadata": {},
          "output_type": "execute_result"
        }
      ],
      "source": [
        "focus_net.fc3.weight.shape,focus_net.fc4.weight.shape"
      ]
    },
    {
      "cell_type": "code",
      "execution_count": null,
      "id": "f522eaac",
      "metadata": {
        "execution": {
          "iopub.execute_input": "2021-09-07T04:25:28.125853Z",
          "iopub.status.busy": "2021-09-07T04:25:28.125351Z",
          "iopub.status.idle": "2021-09-07T04:25:28.129005Z",
          "shell.execute_reply": "2021-09-07T04:25:28.128607Z",
          "shell.execute_reply.started": "2021-09-07T03:26:21.093772Z"
        },
        "id": "f522eaac",
        "papermill": {
          "duration": 0.050181,
          "end_time": "2021-09-07T04:25:28.129109",
          "exception": false,
          "start_time": "2021-09-07T04:25:28.078928",
          "status": "completed"
        },
        "tags": []
      },
      "outputs": [],
      "source": [
        "focus_net.fc3.weight.data[5:,:] = focus_net.fc3.weight.data[:5,:] #torch.nn.Parameter(torch.tensor([last_layer]) )\n",
        "# (focus_net.fc3.weight[:5,:]== focus_net.fc3.weight[5:,:] )"
      ]
    },
    {
      "cell_type": "code",
      "execution_count": null,
      "id": "4c7f0a9e",
      "metadata": {
        "execution": {
          "iopub.execute_input": "2021-09-07T04:25:28.217660Z",
          "iopub.status.busy": "2021-09-07T04:25:28.217086Z",
          "iopub.status.idle": "2021-09-07T04:25:28.224343Z",
          "shell.execute_reply": "2021-09-07T04:25:28.224706Z",
          "shell.execute_reply.started": "2021-09-07T03:26:21.102943Z"
        },
        "id": "4c7f0a9e",
        "papermill": {
          "duration": 0.053346,
          "end_time": "2021-09-07T04:25:28.224826",
          "exception": false,
          "start_time": "2021-09-07T04:25:28.171480",
          "status": "completed"
        },
        "tags": []
      },
      "outputs": [],
      "source": [
        "focus_net.fc4.weight.data[:,5:] = -focus_net.fc4.weight.data[:,:5] #torch.nn.Parameter(torch.tensor([last_layer]) )\n",
        "# focus_net.fc4.weight"
      ]
    },
    {
      "cell_type": "code",
      "execution_count": null,
      "id": "2ecacad8",
      "metadata": {
        "execution": {
          "iopub.execute_input": "2021-09-07T04:25:28.317639Z",
          "iopub.status.busy": "2021-09-07T04:25:28.316426Z",
          "iopub.status.idle": "2021-09-07T04:25:28.319086Z",
          "shell.execute_reply": "2021-09-07T04:25:28.318704Z",
          "shell.execute_reply.started": "2021-09-07T03:26:21.119117Z"
        },
        "id": "2ecacad8",
        "papermill": {
          "duration": 0.048822,
          "end_time": "2021-09-07T04:25:28.319209",
          "exception": false,
          "start_time": "2021-09-07T04:25:28.270387",
          "status": "completed"
        },
        "tags": []
      },
      "outputs": [],
      "source": [
        "focus_net = focus_net.double().to(\"cuda\")"
      ]
    },
    {
      "cell_type": "code",
      "execution_count": null,
      "id": "a8d075f1",
      "metadata": {
        "execution": {
          "iopub.execute_input": "2021-09-07T04:25:28.404897Z",
          "iopub.status.busy": "2021-09-07T04:25:28.404399Z",
          "iopub.status.idle": "2021-09-07T04:25:28.407970Z",
          "shell.execute_reply": "2021-09-07T04:25:28.407500Z",
          "shell.execute_reply.started": "2021-09-07T03:26:21.127214Z"
        },
        "id": "a8d075f1",
        "papermill": {
          "duration": 0.047585,
          "end_time": "2021-09-07T04:25:28.408135",
          "exception": false,
          "start_time": "2021-09-07T04:25:28.360550",
          "status": "completed"
        },
        "tags": []
      },
      "outputs": [],
      "source": [
        "# alpha,output = focus_net( torch.randn((128,50,3,32,32)).double().to(\"cuda\") )"
      ]
    },
    {
      "cell_type": "code",
      "execution_count": null,
      "id": "31768703",
      "metadata": {
        "execution": {
          "iopub.execute_input": "2021-09-07T04:25:28.494349Z",
          "iopub.status.busy": "2021-09-07T04:25:28.493789Z",
          "iopub.status.idle": "2021-09-07T04:25:28.497523Z",
          "shell.execute_reply": "2021-09-07T04:25:28.497086Z",
          "shell.execute_reply.started": "2021-09-07T03:26:21.134103Z"
        },
        "id": "31768703",
        "papermill": {
          "duration": 0.047533,
          "end_time": "2021-09-07T04:25:28.497628",
          "exception": false,
          "start_time": "2021-09-07T04:25:28.450095",
          "status": "completed"
        },
        "tags": []
      },
      "outputs": [],
      "source": [
        "# alpha.shape,output.shape"
      ]
    },
    {
      "cell_type": "code",
      "execution_count": null,
      "id": "48b53acc",
      "metadata": {
        "id": "48b53acc",
        "papermill": {
          "duration": 0.04153,
          "end_time": "2021-09-07T04:25:28.580538",
          "exception": false,
          "start_time": "2021-09-07T04:25:28.539008",
          "status": "completed"
        },
        "tags": []
      },
      "outputs": [],
      "source": [
        "\n"
      ]
    },
    {
      "cell_type": "code",
      "execution_count": null,
      "id": "6222b14b",
      "metadata": {
        "execution": {
          "iopub.execute_input": "2021-09-07T04:25:28.667256Z",
          "iopub.status.busy": "2021-09-07T04:25:28.666574Z",
          "iopub.status.idle": "2021-09-07T04:25:28.675699Z",
          "shell.execute_reply": "2021-09-07T04:25:28.675302Z",
          "shell.execute_reply.started": "2021-09-07T03:26:21.146429Z"
        },
        "id": "6222b14b",
        "papermill": {
          "duration": 0.054116,
          "end_time": "2021-09-07T04:25:28.675801",
          "exception": false,
          "start_time": "2021-09-07T04:25:28.621685",
          "status": "completed"
        },
        "tags": []
      },
      "outputs": [],
      "source": [
        "torch.manual_seed(12)\n",
        "classify = Classification().double()\n",
        "classify = classify.to(\"cuda\")"
      ]
    },
    {
      "cell_type": "code",
      "execution_count": null,
      "id": "5650d731",
      "metadata": {
        "execution": {
          "iopub.execute_input": "2021-09-07T04:25:28.762358Z",
          "iopub.status.busy": "2021-09-07T04:25:28.761643Z",
          "iopub.status.idle": "2021-09-07T04:25:28.764314Z",
          "shell.execute_reply": "2021-09-07T04:25:28.763851Z",
          "shell.execute_reply.started": "2021-09-07T03:26:21.161553Z"
        },
        "id": "5650d731",
        "papermill": {
          "duration": 0.046851,
          "end_time": "2021-09-07T04:25:28.764413",
          "exception": false,
          "start_time": "2021-09-07T04:25:28.717562",
          "status": "completed"
        },
        "tags": []
      },
      "outputs": [],
      "source": [
        "# classify.conv1.bias"
      ]
    },
    {
      "cell_type": "code",
      "execution_count": null,
      "id": "b8a59c01",
      "metadata": {
        "execution": {
          "iopub.execute_input": "2021-09-07T04:25:28.850424Z",
          "iopub.status.busy": "2021-09-07T04:25:28.849758Z",
          "iopub.status.idle": "2021-09-07T04:25:28.852468Z",
          "shell.execute_reply": "2021-09-07T04:25:28.851977Z",
          "shell.execute_reply.started": "2021-09-07T03:26:21.167049Z"
        },
        "id": "b8a59c01",
        "papermill": {
          "duration": 0.046892,
          "end_time": "2021-09-07T04:25:28.852565",
          "exception": false,
          "start_time": "2021-09-07T04:25:28.805673",
          "status": "completed"
        },
        "tags": []
      },
      "outputs": [],
      "source": [
        "# classify.fc1.weight"
      ]
    },
    {
      "cell_type": "code",
      "execution_count": null,
      "id": "4f452eda",
      "metadata": {
        "execution": {
          "iopub.execute_input": "2021-09-07T04:25:28.938726Z",
          "iopub.status.busy": "2021-09-07T04:25:28.938021Z",
          "iopub.status.idle": "2021-09-07T04:25:28.940315Z",
          "shell.execute_reply": "2021-09-07T04:25:28.940691Z",
          "shell.execute_reply.started": "2021-09-07T03:26:21.176047Z"
        },
        "id": "4f452eda",
        "papermill": {
          "duration": 0.046991,
          "end_time": "2021-09-07T04:25:28.940813",
          "exception": false,
          "start_time": "2021-09-07T04:25:28.893822",
          "status": "completed"
        },
        "tags": []
      },
      "outputs": [],
      "source": [
        "# classify.fc1.bias"
      ]
    },
    {
      "cell_type": "code",
      "execution_count": null,
      "id": "15688e20",
      "metadata": {
        "execution": {
          "iopub.execute_input": "2021-09-07T04:25:29.029027Z",
          "iopub.status.busy": "2021-09-07T04:25:29.028540Z",
          "iopub.status.idle": "2021-09-07T04:25:29.032379Z",
          "shell.execute_reply": "2021-09-07T04:25:29.031925Z",
          "shell.execute_reply.started": "2021-09-07T03:26:21.185575Z"
        },
        "id": "15688e20",
        "papermill": {
          "duration": 0.050348,
          "end_time": "2021-09-07T04:25:29.032480",
          "exception": false,
          "start_time": "2021-09-07T04:25:28.982132",
          "status": "completed"
        },
        "tags": []
      },
      "outputs": [],
      "source": [
        "import torch.optim as optim\n",
        "criterion = nn.CrossEntropyLoss()\n",
        "optimizer_classify = optim.Adam(classify.parameters(), lr=0.0005  ) #, momentum=0.9)\n",
        "optimizer_focus = optim.Adam(focus_net.parameters(), lr=0.0005  ) #, momentum=0.9)"
      ]
    },
    {
      "cell_type": "code",
      "execution_count": null,
      "id": "65231afa",
      "metadata": {
        "execution": {
          "iopub.execute_input": "2021-09-07T04:25:29.129715Z",
          "iopub.status.busy": "2021-09-07T04:25:29.129090Z",
          "iopub.status.idle": "2021-09-07T04:25:29.132945Z",
          "shell.execute_reply": "2021-09-07T04:25:29.133395Z",
          "shell.execute_reply.started": "2021-09-07T03:26:21.193525Z"
        },
        "id": "65231afa",
        "papermill": {
          "duration": 0.057336,
          "end_time": "2021-09-07T04:25:29.133542",
          "exception": false,
          "start_time": "2021-09-07T04:25:29.076206",
          "status": "completed"
        },
        "tags": []
      },
      "outputs": [],
      "source": [
        "col1=[]\n",
        "col2=[]\n",
        "col3=[]\n",
        "col4=[]\n",
        "col5=[]\n",
        "col6=[]\n",
        "col7=[]\n",
        "col8=[]\n",
        "col9=[]\n",
        "col10=[]\n",
        "col11=[]\n",
        "col12=[]\n",
        "col13=[]"
      ]
    },
    {
      "cell_type": "code",
      "execution_count": null,
      "id": "7d709fc4",
      "metadata": {
        "execution": {
          "iopub.execute_input": "2021-09-07T04:25:29.241947Z",
          "iopub.status.busy": "2021-09-07T04:25:29.241397Z",
          "iopub.status.idle": "2021-09-07T04:25:53.357618Z",
          "shell.execute_reply": "2021-09-07T04:25:53.358012Z",
          "shell.execute_reply.started": "2021-09-07T03:26:21.206931Z"
        },
        "id": "7d709fc4",
        "outputId": "1344419f-71f9-4d11-ef01-341261412005",
        "papermill": {
          "duration": 24.179999,
          "end_time": "2021-09-07T04:25:53.358163",
          "exception": false,
          "start_time": "2021-09-07T04:25:29.178164",
          "status": "completed"
        },
        "tags": []
      },
      "outputs": [
        {
          "name": "stdout",
          "output_type": "stream",
          "text": [
            "Accuracy of the network on the 30000 train images: 32.763333 %\n",
            "total correct 9829\n",
            "total train set images 30000\n",
            "focus_true_pred_true 510 =============> FTPT : 1.700000 %\n",
            "focus_false_pred_true 9319 =============> FFPT : 31.063333 %\n",
            "focus_true_pred_false 1019 =============> FTPF : 3.396667 %\n",
            "focus_false_pred_false 19152 =============> FFPF : 63.840000 %\n",
            "argmax_more_than_half ==================>  0\n",
            "argmax_less_than_half ==================>  30000\n",
            "30000\n",
            "====================================================================================================\n"
          ]
        }
      ],
      "source": [
        "correct = 0\n",
        "total = 0\n",
        "count = 0\n",
        "flag = 1\n",
        "focus_true_pred_true =0\n",
        "focus_false_pred_true =0\n",
        "focus_true_pred_false =0\n",
        "focus_false_pred_false =0\n",
        "\n",
        "argmax_more_than_half = 0\n",
        "argmax_less_than_half =0\n",
        "\n",
        "with torch.no_grad():\n",
        "  for data in train_loader:\n",
        "    inputs, labels , fore_idx = data\n",
        "    inputs = inputs.double()\n",
        "    inputs, labels , fore_idx = inputs.to(\"cuda\"),labels.to(\"cuda\"), fore_idx.to(\"cuda\")\n",
        "    alphas, avg_images = focus_net(inputs)\n",
        "    # print(alphas)\n",
        "    outputs = classify(avg_images)\n",
        "\n",
        "    _, predicted = torch.max(outputs.data, 1)\n",
        "\n",
        "    for j in range(labels.size(0)):\n",
        "      count += 1\n",
        "      focus = torch.argmax(alphas[j])\n",
        "      if alphas[j][focus] >= 0.5 :\n",
        "        argmax_more_than_half += 1\n",
        "      else:\n",
        "        argmax_less_than_half += 1\n",
        "\n",
        "      if(focus == fore_idx[j] and predicted[j] == labels[j]):\n",
        "          focus_true_pred_true += 1\n",
        "      elif(focus != fore_idx[j] and predicted[j] == labels[j]):\n",
        "        focus_false_pred_true += 1\n",
        "      elif(focus == fore_idx[j] and predicted[j] != labels[j]):\n",
        "        focus_true_pred_false += 1\n",
        "      elif(focus != fore_idx[j] and predicted[j] != labels[j]):\n",
        "        focus_false_pred_false += 1\n",
        "\n",
        "    total += labels.size(0)\n",
        "    correct += (predicted == labels).sum().item()\n",
        "\n",
        "print('Accuracy of the network on the 30000 train images: %f %%' % ( 100 * correct / total))\n",
        "print(\"total correct\", correct)\n",
        "print(\"total train set images\", total)\n",
        "\n",
        "print(\"focus_true_pred_true %d =============> FTPT : %f %%\" % (focus_true_pred_true , (100 * focus_true_pred_true / total) ) )\n",
        "print(\"focus_false_pred_true %d =============> FFPT : %f %%\" % (focus_false_pred_true, (100 * focus_false_pred_true / total) ) )\n",
        "print(\"focus_true_pred_false %d =============> FTPF : %f %%\" %( focus_true_pred_false , ( 100 * focus_true_pred_false / total) ) )\n",
        "print(\"focus_false_pred_false %d =============> FFPF : %f %%\" % (focus_false_pred_false, ( 100 * focus_false_pred_false / total) ) )\n",
        "\n",
        "print(\"argmax_more_than_half ==================> \",argmax_more_than_half)\n",
        "print(\"argmax_less_than_half ==================> \",argmax_less_than_half)\n",
        "print(count)\n",
        "\n",
        "print(\"=\"*100)\n",
        "\n",
        "col1.append(0)\n",
        "col2.append(argmax_more_than_half)\n",
        "col3.append(argmax_less_than_half)\n",
        "col4.append(focus_true_pred_true)\n",
        "col5.append(focus_false_pred_true)\n",
        "col6.append(focus_true_pred_false)\n",
        "col7.append(focus_false_pred_false)"
      ]
    },
    {
      "cell_type": "code",
      "execution_count": null,
      "id": "84ca9d03",
      "metadata": {
        "execution": {
          "iopub.execute_input": "2021-09-07T04:25:53.457008Z",
          "iopub.status.busy": "2021-09-07T04:25:53.455567Z",
          "iopub.status.idle": "2021-09-07T04:26:01.109375Z",
          "shell.execute_reply": "2021-09-07T04:26:01.108892Z",
          "shell.execute_reply.started": "2021-09-07T03:26:45.135210Z"
        },
        "id": "84ca9d03",
        "outputId": "f0acf694-b3f9-4e61-905f-a6562d7318f4",
        "papermill": {
          "duration": 7.708972,
          "end_time": "2021-09-07T04:26:01.109508",
          "exception": false,
          "start_time": "2021-09-07T04:25:53.400536",
          "status": "completed"
        },
        "tags": []
      },
      "outputs": [
        {
          "name": "stdout",
          "output_type": "stream",
          "text": [
            "Accuracy of the network on the 10000 test images: 33.330000 %\n",
            "total correct 3333\n",
            "total train set images 10000\n",
            "focus_true_pred_true 157 =============> FTPT : 1.570000 %\n",
            "focus_false_pred_true 3176 =============> FFPT : 31.760000 %\n",
            "focus_true_pred_false 300 =============> FTPF : 3.000000 %\n",
            "focus_false_pred_false 6367 =============> FFPF : 63.670000 %\n",
            "argmax_more_than_half ==================>  0\n",
            "argmax_less_than_half ==================>  10000\n"
          ]
        }
      ],
      "source": [
        "correct = 0\n",
        "total = 0\n",
        "count = 0\n",
        "flag = 1\n",
        "focus_true_pred_true =0\n",
        "focus_false_pred_true =0\n",
        "focus_true_pred_false =0\n",
        "focus_false_pred_false =0\n",
        "\n",
        "argmax_more_than_half = 0\n",
        "argmax_less_than_half =0\n",
        "\n",
        "with torch.no_grad():\n",
        "  for data in test_loader:\n",
        "    inputs, labels , fore_idx = data\n",
        "    inputs = inputs.double()\n",
        "    inputs, labels , fore_idx = inputs.to(\"cuda\"),labels.to(\"cuda\"), fore_idx.to(\"cuda\")\n",
        "    alphas, avg_images = focus_net(inputs)\n",
        "    outputs = classify(avg_images)\n",
        "\n",
        "    _, predicted = torch.max(outputs.data, 1)\n",
        "\n",
        "    for j in range(labels.size(0)):\n",
        "      focus = torch.argmax(alphas[j])\n",
        "      if alphas[j][focus] >= 0.5 :\n",
        "        argmax_more_than_half += 1\n",
        "      else:\n",
        "        argmax_less_than_half += 1\n",
        "\n",
        "      if(focus == fore_idx[j] and predicted[j] == labels[j]):\n",
        "          focus_true_pred_true += 1\n",
        "      elif(focus != fore_idx[j] and predicted[j] == labels[j]):\n",
        "        focus_false_pred_true += 1\n",
        "      elif(focus == fore_idx[j] and predicted[j] != labels[j]):\n",
        "        focus_true_pred_false += 1\n",
        "      elif(focus != fore_idx[j] and predicted[j] != labels[j]):\n",
        "        focus_false_pred_false += 1\n",
        "\n",
        "    total += labels.size(0)\n",
        "    correct += (predicted == labels).sum().item()\n",
        "\n",
        "print('Accuracy of the network on the 10000 test images: %f %%' % (\n",
        "    100 * correct / total))\n",
        "print(\"total correct\", correct)\n",
        "print(\"total train set images\", total)\n",
        "\n",
        "print(\"focus_true_pred_true %d =============> FTPT : %f %%\" % (focus_true_pred_true , (100 * focus_true_pred_true / total) ) )\n",
        "print(\"focus_false_pred_true %d =============> FFPT : %f %%\" % (focus_false_pred_true, (100 * focus_false_pred_true / total) ) )\n",
        "print(\"focus_true_pred_false %d =============> FTPF : %f %%\" %( focus_true_pred_false , ( 100 * focus_true_pred_false / total) ) )\n",
        "print(\"focus_false_pred_false %d =============> FFPF : %f %%\" % (focus_false_pred_false, ( 100 * focus_false_pred_false / total) ) )\n",
        "\n",
        "print(\"argmax_more_than_half ==================> \",argmax_more_than_half)\n",
        "print(\"argmax_less_than_half ==================> \",argmax_less_than_half)\n",
        "col8.append(argmax_more_than_half)\n",
        "col9.append(argmax_less_than_half)\n",
        "col10.append(focus_true_pred_true)\n",
        "col11.append(focus_false_pred_true)\n",
        "col12.append(focus_true_pred_false)\n",
        "col13.append(focus_false_pred_false)"
      ]
    },
    {
      "cell_type": "code",
      "execution_count": null,
      "id": "032ee5e7",
      "metadata": {
        "execution": {
          "iopub.execute_input": "2021-09-07T04:26:01.214908Z",
          "iopub.status.busy": "2021-09-07T04:26:01.214088Z",
          "iopub.status.idle": "2021-09-07T05:10:54.957393Z",
          "shell.execute_reply": "2021-09-07T05:10:54.956461Z"
        },
        "id": "032ee5e7",
        "outputId": "9eb8c352-95f9-405e-a7d0-e0739cd1cd16",
        "papermill": {
          "duration": 2693.805349,
          "end_time": "2021-09-07T05:10:54.957573",
          "exception": false,
          "start_time": "2021-09-07T04:26:01.152224",
          "status": "completed"
        },
        "tags": []
      },
      "outputs": [
        {
          "name": "stdout",
          "output_type": "stream",
          "text": [
            "[1,   150] loss: 1.087\n",
            "[1,   300] loss: 1.061\n",
            "====================\n",
            "Train FTPT :  [510, 2818]\n",
            "Train FFPT :  [9319, 9388]\n",
            "Test FTPT :  [157, 1636]\n",
            "Test FFPT :  [3176, 2879]\n",
            "====================\n",
            "[2,   150] loss: 1.016\n",
            "[2,   300] loss: 0.972\n",
            "[3,   150] loss: 0.912\n",
            "[3,   300] loss: 0.856\n",
            "[4,   150] loss: 0.806\n",
            "[4,   300] loss: 0.763\n",
            "[5,   150] loss: 0.700\n",
            "[5,   300] loss: 0.665\n",
            "[6,   150] loss: 0.616\n",
            "[6,   300] loss: 0.604\n",
            "====================\n",
            "Train FTPT :  [510, 2818, 13845]\n",
            "Train FFPT :  [9319, 9388, 7950]\n",
            "Test FTPT :  [157, 1636, 4773]\n",
            "Test FFPT :  [3176, 2879, 2473]\n",
            "====================\n",
            "[7,   150] loss: 0.561\n",
            "[7,   300] loss: 0.533\n",
            "[8,   150] loss: 0.494\n",
            "[8,   300] loss: 0.480\n",
            "[9,   150] loss: 0.440\n",
            "[9,   300] loss: 0.447\n",
            "[10,   150] loss: 0.400\n",
            "[10,   300] loss: 0.409\n",
            "[11,   150] loss: 0.374\n",
            "[11,   300] loss: 0.364\n",
            "====================\n",
            "Train FTPT :  [510, 2818, 13845, 18141]\n",
            "Train FFPT :  [9319, 9388, 7950, 7436]\n",
            "Test FTPT :  [157, 1636, 4773, 5733]\n",
            "Test FFPT :  [3176, 2879, 2473, 2531]\n",
            "====================\n",
            "[12,   150] loss: 0.342\n",
            "[12,   300] loss: 0.348\n",
            "[13,   150] loss: 0.319\n",
            "[13,   300] loss: 0.321\n",
            "[14,   150] loss: 0.285\n",
            "[14,   300] loss: 0.308\n",
            "[15,   150] loss: 0.277\n",
            "[15,   300] loss: 0.269\n",
            "[16,   150] loss: 0.255\n",
            "[16,   300] loss: 0.260\n",
            "====================\n",
            "Train FTPT :  [510, 2818, 13845, 18141, 19967]\n",
            "Train FFPT :  [9319, 9388, 7950, 7436, 7136]\n",
            "Test FTPT :  [157, 1636, 4773, 5733, 6279]\n",
            "Test FFPT :  [3176, 2879, 2473, 2531, 2254]\n",
            "====================\n",
            "[17,   150] loss: 0.236\n",
            "[17,   300] loss: 0.241\n",
            "[18,   150] loss: 0.219\n",
            "[18,   300] loss: 0.230\n",
            "[19,   150] loss: 0.209\n",
            "[19,   300] loss: 0.217\n",
            "[20,   150] loss: 0.202\n",
            "[20,   300] loss: 0.200\n",
            "[21,   150] loss: 0.172\n",
            "[21,   300] loss: 0.203\n",
            "====================\n",
            "Train FTPT :  [510, 2818, 13845, 18141, 19967, 21003]\n",
            "Train FFPT :  [9319, 9388, 7950, 7436, 7136, 6965]\n",
            "Test FTPT :  [157, 1636, 4773, 5733, 6279, 6600]\n",
            "Test FFPT :  [3176, 2879, 2473, 2531, 2254, 2092]\n",
            "====================\n",
            "[22,   150] loss: 0.163\n",
            "[22,   300] loss: 0.175\n",
            "[23,   150] loss: 0.149\n",
            "[23,   300] loss: 0.155\n",
            "[24,   150] loss: 0.134\n",
            "[24,   300] loss: 0.157\n",
            "[25,   150] loss: 0.130\n",
            "[25,   300] loss: 0.140\n",
            "[26,   150] loss: 0.122\n",
            "[26,   300] loss: 0.132\n",
            "====================\n",
            "Train FTPT :  [510, 2818, 13845, 18141, 19967, 21003, 21454]\n",
            "Train FFPT :  [9319, 9388, 7950, 7436, 7136, 6965, 7164]\n",
            "Test FTPT :  [157, 1636, 4773, 5733, 6279, 6600, 6482]\n",
            "Test FFPT :  [3176, 2879, 2473, 2531, 2254, 2092, 2225]\n",
            "====================\n",
            "[27,   150] loss: 0.112\n",
            "[27,   300] loss: 0.115\n",
            "[28,   150] loss: 0.102\n",
            "[28,   300] loss: 0.126\n",
            "[29,   150] loss: 0.096\n",
            "[29,   300] loss: 0.102\n",
            "[30,   150] loss: 0.074\n",
            "[30,   300] loss: 0.099\n",
            "[31,   150] loss: 0.085\n",
            "[31,   300] loss: 0.091\n",
            "====================\n",
            "Train FTPT :  [510, 2818, 13845, 18141, 19967, 21003, 21454, 21744]\n",
            "Train FFPT :  [9319, 9388, 7950, 7436, 7136, 6965, 7164, 7336]\n",
            "Test FTPT :  [157, 1636, 4773, 5733, 6279, 6600, 6482, 6728]\n",
            "Test FFPT :  [3176, 2879, 2473, 2531, 2254, 2092, 2225, 2079]\n",
            "====================\n",
            "[32,   150] loss: 0.076\n",
            "[32,   300] loss: 0.080\n",
            "[33,   150] loss: 0.069\n",
            "[33,   300] loss: 0.077\n",
            "[34,   150] loss: 0.052\n",
            "[34,   300] loss: 0.062\n",
            "[35,   150] loss: 0.064\n",
            "[35,   300] loss: 0.089\n",
            "[36,   150] loss: 0.079\n",
            "[36,   300] loss: 0.073\n",
            "====================\n",
            "Train FTPT :  [510, 2818, 13845, 18141, 19967, 21003, 21454, 21744, 21700]\n",
            "Train FFPT :  [9319, 9388, 7950, 7436, 7136, 6965, 7164, 7336, 7512]\n",
            "Test FTPT :  [157, 1636, 4773, 5733, 6279, 6600, 6482, 6728, 6713]\n",
            "Test FFPT :  [3176, 2879, 2473, 2531, 2254, 2092, 2225, 2079, 2154]\n",
            "====================\n",
            "[37,   150] loss: 0.037\n",
            "[37,   300] loss: 0.081\n",
            "[38,   150] loss: 0.055\n",
            "[38,   300] loss: 0.050\n",
            "[39,   150] loss: 0.053\n",
            "[39,   300] loss: 0.067\n",
            "[40,   150] loss: 0.033\n",
            "[40,   300] loss: 0.064\n",
            "[41,   150] loss: 0.038\n",
            "[41,   300] loss: 0.055\n",
            "====================\n",
            "Train FTPT :  [510, 2818, 13845, 18141, 19967, 21003, 21454, 21744, 21700, 21998]\n",
            "Train FFPT :  [9319, 9388, 7950, 7436, 7136, 6965, 7164, 7336, 7512, 7541]\n",
            "Test FTPT :  [157, 1636, 4773, 5733, 6279, 6600, 6482, 6728, 6713, 6605]\n",
            "Test FFPT :  [3176, 2879, 2473, 2531, 2254, 2092, 2225, 2079, 2154, 2043]\n",
            "====================\n",
            "[42,   150] loss: 0.043\n",
            "[42,   300] loss: 0.047\n",
            "[43,   150] loss: 0.037\n",
            "[43,   300] loss: 0.032\n",
            "[44,   150] loss: 0.019\n",
            "[44,   300] loss: 0.033\n",
            "[45,   150] loss: 0.023\n",
            "[45,   300] loss: 0.063\n",
            "[46,   150] loss: 0.052\n",
            "[46,   300] loss: 0.047\n",
            "====================\n",
            "Train FTPT :  [510, 2818, 13845, 18141, 19967, 21003, 21454, 21744, 21700, 21998, 21930]\n",
            "Train FFPT :  [9319, 9388, 7950, 7436, 7136, 6965, 7164, 7336, 7512, 7541, 7616]\n",
            "Test FTPT :  [157, 1636, 4773, 5733, 6279, 6600, 6482, 6728, 6713, 6605, 6803]\n",
            "Test FFPT :  [3176, 2879, 2473, 2531, 2254, 2092, 2225, 2079, 2154, 2043, 1896]\n",
            "====================\n",
            "[47,   150] loss: 0.025\n",
            "[47,   300] loss: 0.027\n",
            "[48,   150] loss: 0.030\n",
            "[48,   300] loss: 0.045\n",
            "[49,   150] loss: 0.073\n",
            "[49,   300] loss: 0.044\n",
            "[50,   150] loss: 0.022\n",
            "[50,   300] loss: 0.038\n",
            "[51,   150] loss: 0.036\n",
            "[51,   300] loss: 0.057\n",
            "====================\n",
            "Train FTPT :  [510, 2818, 13845, 18141, 19967, 21003, 21454, 21744, 21700, 21998, 21930, 21912]\n",
            "Train FFPT :  [9319, 9388, 7950, 7436, 7136, 6965, 7164, 7336, 7512, 7541, 7616, 7677]\n",
            "Test FTPT :  [157, 1636, 4773, 5733, 6279, 6600, 6482, 6728, 6713, 6605, 6803, 6796]\n",
            "Test FFPT :  [3176, 2879, 2473, 2531, 2254, 2092, 2225, 2079, 2154, 2043, 1896, 1973]\n",
            "====================\n",
            "[52,   150] loss: 0.024\n",
            "[52,   300] loss: 0.054\n",
            "[53,   150] loss: 0.036\n",
            "[53,   300] loss: 0.037\n",
            "[54,   150] loss: 0.035\n",
            "[54,   300] loss: 0.018\n",
            "[55,   150] loss: 0.011\n",
            "[55,   300] loss: 0.020\n",
            "[56,   150] loss: 0.027\n",
            "[56,   300] loss: 0.024\n",
            "====================\n",
            "Train FTPT :  [510, 2818, 13845, 18141, 19967, 21003, 21454, 21744, 21700, 21998, 21930, 21912, 22091]\n",
            "Train FFPT :  [9319, 9388, 7950, 7436, 7136, 6965, 7164, 7336, 7512, 7541, 7616, 7677, 7661]\n",
            "Test FTPT :  [157, 1636, 4773, 5733, 6279, 6600, 6482, 6728, 6713, 6605, 6803, 6796, 6821]\n",
            "Test FFPT :  [3176, 2879, 2473, 2531, 2254, 2092, 2225, 2079, 2154, 2043, 1896, 1973, 2037]\n",
            "====================\n",
            "[57,   150] loss: 0.057\n",
            "[57,   300] loss: 0.036\n",
            "[58,   150] loss: 0.018\n",
            "[58,   300] loss: 0.046\n",
            "[59,   150] loss: 0.019\n",
            "[59,   300] loss: 0.023\n",
            "[60,   150] loss: 0.052\n",
            "[60,   300] loss: 0.025\n",
            "[61,   150] loss: 0.018\n",
            "[61,   300] loss: 0.035\n",
            "====================\n",
            "Train FTPT :  [510, 2818, 13845, 18141, 19967, 21003, 21454, 21744, 21700, 21998, 21930, 21912, 22091, 22144]\n",
            "Train FFPT :  [9319, 9388, 7950, 7436, 7136, 6965, 7164, 7336, 7512, 7541, 7616, 7677, 7661, 7617]\n",
            "Test FTPT :  [157, 1636, 4773, 5733, 6279, 6600, 6482, 6728, 6713, 6605, 6803, 6796, 6821, 6704]\n",
            "Test FFPT :  [3176, 2879, 2473, 2531, 2254, 2092, 2225, 2079, 2154, 2043, 1896, 1973, 2037, 2106]\n",
            "====================\n",
            "[62,   150] loss: 0.026\n",
            "[62,   300] loss: 0.017\n",
            "[63,   150] loss: 0.035\n",
            "[63,   300] loss: 0.019\n",
            "[64,   150] loss: 0.006\n",
            "[64,   300] loss: 0.027\n",
            "[65,   150] loss: 0.035\n",
            "[65,   300] loss: 0.047\n",
            "[66,   150] loss: 0.026\n",
            "[66,   300] loss: 0.044\n",
            "====================\n",
            "Train FTPT :  [510, 2818, 13845, 18141, 19967, 21003, 21454, 21744, 21700, 21998, 21930, 21912, 22091, 22144, 22049]\n",
            "Train FFPT :  [9319, 9388, 7950, 7436, 7136, 6965, 7164, 7336, 7512, 7541, 7616, 7677, 7661, 7617, 7617]\n",
            "Test FTPT :  [157, 1636, 4773, 5733, 6279, 6600, 6482, 6728, 6713, 6605, 6803, 6796, 6821, 6704, 6775]\n",
            "Test FFPT :  [3176, 2879, 2473, 2531, 2254, 2092, 2225, 2079, 2154, 2043, 1896, 1973, 2037, 2106, 2086]\n",
            "====================\n",
            "[67,   150] loss: 0.017\n",
            "[67,   300] loss: 0.025\n",
            "[68,   150] loss: 0.025\n",
            "[68,   300] loss: 0.028\n",
            "[69,   150] loss: 0.015\n",
            "[69,   300] loss: 0.030\n",
            "[70,   150] loss: 0.024\n",
            "[70,   300] loss: 0.022\n",
            "[71,   150] loss: 0.034\n",
            "[71,   300] loss: 0.033\n",
            "====================\n",
            "Train FTPT :  [510, 2818, 13845, 18141, 19967, 21003, 21454, 21744, 21700, 21998, 21930, 21912, 22091, 22144, 22049, 22076]\n",
            "Train FFPT :  [9319, 9388, 7950, 7436, 7136, 6965, 7164, 7336, 7512, 7541, 7616, 7677, 7661, 7617, 7617, 7624]\n",
            "Test FTPT :  [157, 1636, 4773, 5733, 6279, 6600, 6482, 6728, 6713, 6605, 6803, 6796, 6821, 6704, 6775, 6725]\n",
            "Test FFPT :  [3176, 2879, 2473, 2531, 2254, 2092, 2225, 2079, 2154, 2043, 1896, 1973, 2037, 2106, 2086, 2112]\n",
            "====================\n",
            "[72,   150] loss: 0.009\n",
            "[72,   300] loss: 0.012\n",
            "[73,   150] loss: 0.018\n",
            "[73,   300] loss: 0.027\n",
            "[74,   150] loss: 0.018\n",
            "[74,   300] loss: 0.031\n",
            "[75,   150] loss: 0.024\n",
            "[75,   300] loss: 0.013\n",
            "[76,   150] loss: 0.014\n",
            "[76,   300] loss: 0.029\n",
            "====================\n",
            "Train FTPT :  [510, 2818, 13845, 18141, 19967, 21003, 21454, 21744, 21700, 21998, 21930, 21912, 22091, 22144, 22049, 22076, 22120]\n",
            "Train FFPT :  [9319, 9388, 7950, 7436, 7136, 6965, 7164, 7336, 7512, 7541, 7616, 7677, 7661, 7617, 7617, 7624, 7683]\n",
            "Test FTPT :  [157, 1636, 4773, 5733, 6279, 6600, 6482, 6728, 6713, 6605, 6803, 6796, 6821, 6704, 6775, 6725, 6764]\n",
            "Test FFPT :  [3176, 2879, 2473, 2531, 2254, 2092, 2225, 2079, 2154, 2043, 1896, 1973, 2037, 2106, 2086, 2112, 2043]\n",
            "====================\n",
            "[77,   150] loss: 0.037\n",
            "[77,   300] loss: 0.029\n",
            "[78,   150] loss: 0.014\n",
            "[78,   300] loss: 0.015\n",
            "[79,   150] loss: 0.018\n",
            "[79,   300] loss: 0.017\n",
            "[80,   150] loss: 0.012\n",
            "[80,   300] loss: 0.019\n",
            "[81,   150] loss: 0.020\n",
            "[81,   300] loss: 0.017\n",
            "====================\n",
            "Train FTPT :  [510, 2818, 13845, 18141, 19967, 21003, 21454, 21744, 21700, 21998, 21930, 21912, 22091, 22144, 22049, 22076, 22120, 22246]\n",
            "Train FFPT :  [9319, 9388, 7950, 7436, 7136, 6965, 7164, 7336, 7512, 7541, 7616, 7677, 7661, 7617, 7617, 7624, 7683, 7593]\n",
            "Test FTPT :  [157, 1636, 4773, 5733, 6279, 6600, 6482, 6728, 6713, 6605, 6803, 6796, 6821, 6704, 6775, 6725, 6764, 6763]\n",
            "Test FFPT :  [3176, 2879, 2473, 2531, 2254, 2092, 2225, 2079, 2154, 2043, 1896, 1973, 2037, 2106, 2086, 2112, 2043, 2065]\n",
            "====================\n",
            "[82,   150] loss: 0.029\n",
            "[82,   300] loss: 0.029\n",
            "[83,   150] loss: 0.020\n",
            "[83,   300] loss: 0.023\n",
            "[84,   150] loss: 0.034\n",
            "[84,   300] loss: 0.018\n",
            "[85,   150] loss: 0.043\n",
            "[85,   300] loss: 0.011\n",
            "[86,   150] loss: 0.010\n",
            "[86,   300] loss: 0.014\n",
            "====================\n",
            "Train FTPT :  [510, 2818, 13845, 18141, 19967, 21003, 21454, 21744, 21700, 21998, 21930, 21912, 22091, 22144, 22049, 22076, 22120, 22246, 22229]\n",
            "Train FFPT :  [9319, 9388, 7950, 7436, 7136, 6965, 7164, 7336, 7512, 7541, 7616, 7677, 7661, 7617, 7617, 7624, 7683, 7593, 7654]\n",
            "Test FTPT :  [157, 1636, 4773, 5733, 6279, 6600, 6482, 6728, 6713, 6605, 6803, 6796, 6821, 6704, 6775, 6725, 6764, 6763, 6879]\n",
            "Test FFPT :  [3176, 2879, 2473, 2531, 2254, 2092, 2225, 2079, 2154, 2043, 1896, 1973, 2037, 2106, 2086, 2112, 2043, 2065, 2048]\n",
            "====================\n",
            "[87,   150] loss: 0.022\n",
            "[87,   300] loss: 0.010\n",
            "[88,   150] loss: 0.004\n",
            "[88,   300] loss: 0.014\n",
            "Finished Training\n"
          ]
        }
      ],
      "source": [
        "nos_epochs = 200\n",
        "focus_true_pred_true =0\n",
        "focus_false_pred_true =0\n",
        "focus_true_pred_false =0\n",
        "focus_false_pred_false =0\n",
        "\n",
        "argmax_more_than_half = 0\n",
        "argmax_less_than_half =0\n",
        "\n",
        "\n",
        "for epoch in range(nos_epochs):  # loop over the dataset multiple times\n",
        "\n",
        "  focus_true_pred_true =0\n",
        "  focus_false_pred_true =0\n",
        "  focus_true_pred_false =0\n",
        "  focus_false_pred_false =0\n",
        "  \n",
        "  argmax_more_than_half = 0\n",
        "  argmax_less_than_half =0\n",
        "  \n",
        "  running_loss = 0.0\n",
        "  epoch_loss = []\n",
        "  cnt=0\n",
        "\n",
        "  iteration = desired_num // batch\n",
        "  \n",
        "  #training data set\n",
        "  \n",
        "  for i, data in  enumerate(train_loader):\n",
        "    inputs , labels , fore_idx = data\n",
        "    inputs, labels = inputs.to(\"cuda\"), labels.to(\"cuda\")\n",
        "    inputs = inputs.double()\n",
        "    # zero the parameter gradients\n",
        "    \n",
        "    optimizer_focus.zero_grad()\n",
        "    optimizer_classify.zero_grad()\n",
        "    \n",
        "    alphas, avg_images = focus_net(inputs)\n",
        "    outputs = classify(avg_images)\n",
        "\n",
        "    _, predicted = torch.max(outputs.data, 1)\n",
        "#     print(outputs)\n",
        "#     print(outputs.shape,labels.shape , torch.argmax(outputs, dim=1))\n",
        "\n",
        "    loss = criterion(outputs, labels) \n",
        "    loss.backward()\n",
        "    optimizer_focus.step()\n",
        "    optimizer_classify.step()\n",
        "\n",
        "    running_loss += loss.item()\n",
        "    mini = 150\n",
        "    if cnt % mini == mini-1:    # print every 40 mini-batches\n",
        "      print('[%d, %5d] loss: %.3f' %(epoch + 1, cnt + 1, running_loss / mini))\n",
        "      epoch_loss.append(running_loss/mini)\n",
        "      running_loss = 0.0\n",
        "    cnt=cnt+1\n",
        "    \n",
        "    if epoch % 5 == 0:\n",
        "      for j in range (inputs.size(0)):\n",
        "        #print(alphas.shape)\n",
        "        focus = torch.argmax(alphas[j])\n",
        "\n",
        "        if(alphas[j][focus] >= 0.5):\n",
        "          argmax_more_than_half +=1\n",
        "        else:\n",
        "          argmax_less_than_half +=1\n",
        "\n",
        "        if(focus == fore_idx[j] and predicted[j] == labels[j]):\n",
        "          focus_true_pred_true += 1\n",
        "\n",
        "        elif(focus != fore_idx[j] and predicted[j] == labels[j]):\n",
        "          focus_false_pred_true +=1\n",
        "\n",
        "        elif(focus == fore_idx[j] and predicted[j] != labels[j]):\n",
        "          focus_true_pred_false +=1\n",
        "\n",
        "        elif(focus != fore_idx[j] and predicted[j] != labels[j]):\n",
        "          focus_false_pred_false +=1\n",
        "\n",
        "  if(np.mean(epoch_loss) <= 0.01):\n",
        "      break;\n",
        "\n",
        "  if epoch % 5 == 0:\n",
        "    col1.append(epoch + 1)\n",
        "    col2.append(argmax_more_than_half)\n",
        "    col3.append(argmax_less_than_half)\n",
        "    col4.append(focus_true_pred_true)\n",
        "    col5.append(focus_false_pred_true)\n",
        "    col6.append(focus_true_pred_false)\n",
        "    col7.append(focus_false_pred_false)\n",
        "    print(\"=\"*20)\n",
        "    print(\"Train FTPT : \", col4)\n",
        "    print(\"Train FFPT : \", col5)\n",
        "    #************************************************************************\n",
        "    #testing data set  \n",
        "    # focus_net.eval()\n",
        "    with torch.no_grad():\n",
        "      focus_true_pred_true =0\n",
        "      focus_false_pred_true =0\n",
        "      focus_true_pred_false =0\n",
        "      focus_false_pred_false =0\n",
        "\n",
        "      argmax_more_than_half = 0\n",
        "      argmax_less_than_half =0\n",
        "      for data in test_loader:\n",
        "        inputs, labels , fore_idx = data\n",
        "        inputs = inputs.double()\n",
        "        inputs, labels = inputs.to(\"cuda\"), labels.to(\"cuda\")\n",
        "        alphas, avg_images = focus_net(inputs)\n",
        "        outputs = classify(avg_images)\n",
        "        _, predicted = torch.max(outputs.data, 1)\n",
        "\n",
        "        for j in range (inputs.size(0)):\n",
        "          focus = torch.argmax(alphas[j],dim=-1)\n",
        "\n",
        "          if(alphas[j][focus] >= 0.5):\n",
        "            argmax_more_than_half +=1\n",
        "          else:\n",
        "            argmax_less_than_half +=1\n",
        "\n",
        "          if(focus == fore_idx[j] and predicted[j] == labels[j]):\n",
        "            focus_true_pred_true += 1\n",
        "\n",
        "          elif(focus != fore_idx[j] and predicted[j] == labels[j]):\n",
        "            focus_false_pred_true +=1\n",
        "\n",
        "          elif(focus == fore_idx[j] and predicted[j] != labels[j]):\n",
        "            focus_true_pred_false +=1\n",
        "\n",
        "          elif(focus != fore_idx[j] and predicted[j] != labels[j]):\n",
        "            focus_false_pred_false +=1\n",
        "      \n",
        "    col8.append(argmax_more_than_half)\n",
        "    col9.append(argmax_less_than_half)\n",
        "    col10.append(focus_true_pred_true)\n",
        "    col11.append(focus_false_pred_true)\n",
        "    col12.append(focus_true_pred_false)\n",
        "    col13.append(focus_false_pred_false)\n",
        "    print(\"Test FTPT : \", col10)\n",
        "    print(\"Test FFPT : \", col11)\n",
        "    print(\"=\"*20)\n",
        "    \n",
        "print('Finished Training')"
      ]
    },
    {
      "cell_type": "code",
      "execution_count": null,
      "id": "543529a6",
      "metadata": {
        "execution": {
          "iopub.execute_input": "2021-09-07T05:10:55.322225Z",
          "iopub.status.busy": "2021-09-07T05:10:55.321696Z",
          "iopub.status.idle": "2021-09-07T05:10:55.353508Z",
          "shell.execute_reply": "2021-09-07T05:10:55.353902Z"
        },
        "id": "543529a6",
        "papermill": {
          "duration": 0.156969,
          "end_time": "2021-09-07T05:10:55.354047",
          "exception": false,
          "start_time": "2021-09-07T05:10:55.197078",
          "status": "completed"
        },
        "tags": []
      },
      "outputs": [],
      "source": [
        "torch.save(focus_net.state_dict(),path+\"_focus.pt\")\n",
        "torch.save(classify.state_dict(),path+\"_classify.pt\")"
      ]
    },
    {
      "cell_type": "code",
      "execution_count": null,
      "id": "4d1dc161",
      "metadata": {
        "execution": {
          "iopub.execute_input": "2021-09-07T05:10:55.549021Z",
          "iopub.status.busy": "2021-09-07T05:10:55.548381Z",
          "iopub.status.idle": "2021-09-07T05:10:55.551645Z",
          "shell.execute_reply": "2021-09-07T05:10:55.551222Z"
        },
        "id": "4d1dc161",
        "papermill": {
          "duration": 0.103562,
          "end_time": "2021-09-07T05:10:55.551749",
          "exception": false,
          "start_time": "2021-09-07T05:10:55.448187",
          "status": "completed"
        },
        "tags": []
      },
      "outputs": [],
      "source": [
        "df_train = pd.DataFrame()\n",
        "df_test = pd.DataFrame()"
      ]
    },
    {
      "cell_type": "code",
      "execution_count": null,
      "id": "c4ef918b",
      "metadata": {
        "execution": {
          "iopub.execute_input": "2021-09-07T05:10:55.759104Z",
          "iopub.status.busy": "2021-09-07T05:10:55.758228Z",
          "iopub.status.idle": "2021-09-07T05:10:55.760539Z",
          "shell.execute_reply": "2021-09-07T05:10:55.760969Z"
        },
        "id": "c4ef918b",
        "papermill": {
          "duration": 0.10782,
          "end_time": "2021-09-07T05:10:55.761096",
          "exception": false,
          "start_time": "2021-09-07T05:10:55.653276",
          "status": "completed"
        },
        "tags": []
      },
      "outputs": [],
      "source": [
        "columns = [\"epochs\", \"argmax > 0.5\" ,\"argmax < 0.5\", \"focus_true_pred_true\", \"focus_false_pred_true\", \"focus_true_pred_false\", \"focus_false_pred_false\" ]"
      ]
    },
    {
      "cell_type": "code",
      "execution_count": null,
      "id": "c53786dd",
      "metadata": {
        "execution": {
          "iopub.execute_input": "2021-09-07T05:10:55.989833Z",
          "iopub.status.busy": "2021-09-07T05:10:55.988238Z",
          "iopub.status.idle": "2021-09-07T05:10:55.990685Z",
          "shell.execute_reply": "2021-09-07T05:10:55.991090Z"
        },
        "id": "c53786dd",
        "papermill": {
          "duration": 0.128715,
          "end_time": "2021-09-07T05:10:55.991234",
          "exception": false,
          "start_time": "2021-09-07T05:10:55.862519",
          "status": "completed"
        },
        "tags": []
      },
      "outputs": [],
      "source": [
        "df_train[columns[0]] = col1\n",
        "df_train[columns[1]] = col2\n",
        "df_train[columns[2]] = col3\n",
        "df_train[columns[3]] = col4\n",
        "df_train[columns[4]] = col5\n",
        "df_train[columns[5]] = col6\n",
        "df_train[columns[6]] = col7\n",
        "\n",
        "df_test[columns[0]] = col1\n",
        "df_test[columns[1]] = col8\n",
        "df_test[columns[2]] = col9\n",
        "df_test[columns[3]] = col10\n",
        "df_test[columns[4]] = col11\n",
        "df_test[columns[5]] = col12\n",
        "df_test[columns[6]] = col13"
      ]
    },
    {
      "cell_type": "code",
      "execution_count": null,
      "id": "241727ba",
      "metadata": {
        "execution": {
          "iopub.execute_input": "2021-09-07T05:10:56.199811Z",
          "iopub.status.busy": "2021-09-07T05:10:56.199279Z",
          "iopub.status.idle": "2021-09-07T05:10:56.218046Z",
          "shell.execute_reply": "2021-09-07T05:10:56.217606Z"
        },
        "id": "241727ba",
        "outputId": "dd02c76f-29d0-4717-eb4d-0cfc3fcff5f6",
        "papermill": {
          "duration": 0.124832,
          "end_time": "2021-09-07T05:10:56.218204",
          "exception": false,
          "start_time": "2021-09-07T05:10:56.093372",
          "status": "completed"
        },
        "tags": []
      },
      "outputs": [
        {
          "data": {
            "text/html": [
              "<div>\n",
              "<style scoped>\n",
              "    .dataframe tbody tr th:only-of-type {\n",
              "        vertical-align: middle;\n",
              "    }\n",
              "\n",
              "    .dataframe tbody tr th {\n",
              "        vertical-align: top;\n",
              "    }\n",
              "\n",
              "    .dataframe thead th {\n",
              "        text-align: right;\n",
              "    }\n",
              "</style>\n",
              "<table border=\"1\" class=\"dataframe\">\n",
              "  <thead>\n",
              "    <tr style=\"text-align: right;\">\n",
              "      <th></th>\n",
              "      <th>epochs</th>\n",
              "      <th>argmax &gt; 0.5</th>\n",
              "      <th>argmax &lt; 0.5</th>\n",
              "      <th>focus_true_pred_true</th>\n",
              "      <th>focus_false_pred_true</th>\n",
              "      <th>focus_true_pred_false</th>\n",
              "      <th>focus_false_pred_false</th>\n",
              "    </tr>\n",
              "  </thead>\n",
              "  <tbody>\n",
              "    <tr>\n",
              "      <th>0</th>\n",
              "      <td>0</td>\n",
              "      <td>0</td>\n",
              "      <td>30000</td>\n",
              "      <td>510</td>\n",
              "      <td>9319</td>\n",
              "      <td>1019</td>\n",
              "      <td>19152</td>\n",
              "    </tr>\n",
              "    <tr>\n",
              "      <th>1</th>\n",
              "      <td>1</td>\n",
              "      <td>2408</td>\n",
              "      <td>27592</td>\n",
              "      <td>2818</td>\n",
              "      <td>9388</td>\n",
              "      <td>2054</td>\n",
              "      <td>15740</td>\n",
              "    </tr>\n",
              "    <tr>\n",
              "      <th>2</th>\n",
              "      <td>6</td>\n",
              "      <td>13575</td>\n",
              "      <td>16425</td>\n",
              "      <td>13845</td>\n",
              "      <td>7950</td>\n",
              "      <td>2180</td>\n",
              "      <td>6025</td>\n",
              "    </tr>\n",
              "    <tr>\n",
              "      <th>3</th>\n",
              "      <td>11</td>\n",
              "      <td>17401</td>\n",
              "      <td>12599</td>\n",
              "      <td>18141</td>\n",
              "      <td>7436</td>\n",
              "      <td>1155</td>\n",
              "      <td>3268</td>\n",
              "    </tr>\n",
              "    <tr>\n",
              "      <th>4</th>\n",
              "      <td>16</td>\n",
              "      <td>18774</td>\n",
              "      <td>11226</td>\n",
              "      <td>19967</td>\n",
              "      <td>7136</td>\n",
              "      <td>603</td>\n",
              "      <td>2294</td>\n",
              "    </tr>\n",
              "    <tr>\n",
              "      <th>5</th>\n",
              "      <td>21</td>\n",
              "      <td>19428</td>\n",
              "      <td>10572</td>\n",
              "      <td>21003</td>\n",
              "      <td>6965</td>\n",
              "      <td>367</td>\n",
              "      <td>1665</td>\n",
              "    </tr>\n",
              "    <tr>\n",
              "      <th>6</th>\n",
              "      <td>26</td>\n",
              "      <td>19384</td>\n",
              "      <td>10616</td>\n",
              "      <td>21454</td>\n",
              "      <td>7164</td>\n",
              "      <td>231</td>\n",
              "      <td>1151</td>\n",
              "    </tr>\n",
              "    <tr>\n",
              "      <th>7</th>\n",
              "      <td>31</td>\n",
              "      <td>19075</td>\n",
              "      <td>10925</td>\n",
              "      <td>21744</td>\n",
              "      <td>7336</td>\n",
              "      <td>176</td>\n",
              "      <td>744</td>\n",
              "    </tr>\n",
              "    <tr>\n",
              "      <th>8</th>\n",
              "      <td>36</td>\n",
              "      <td>18933</td>\n",
              "      <td>11067</td>\n",
              "      <td>21700</td>\n",
              "      <td>7512</td>\n",
              "      <td>169</td>\n",
              "      <td>619</td>\n",
              "    </tr>\n",
              "    <tr>\n",
              "      <th>9</th>\n",
              "      <td>41</td>\n",
              "      <td>18982</td>\n",
              "      <td>11018</td>\n",
              "      <td>21998</td>\n",
              "      <td>7541</td>\n",
              "      <td>105</td>\n",
              "      <td>356</td>\n",
              "    </tr>\n",
              "    <tr>\n",
              "      <th>10</th>\n",
              "      <td>46</td>\n",
              "      <td>18913</td>\n",
              "      <td>11087</td>\n",
              "      <td>21930</td>\n",
              "      <td>7616</td>\n",
              "      <td>127</td>\n",
              "      <td>327</td>\n",
              "    </tr>\n",
              "    <tr>\n",
              "      <th>11</th>\n",
              "      <td>51</td>\n",
              "      <td>18681</td>\n",
              "      <td>11319</td>\n",
              "      <td>21912</td>\n",
              "      <td>7677</td>\n",
              "      <td>117</td>\n",
              "      <td>294</td>\n",
              "    </tr>\n",
              "    <tr>\n",
              "      <th>12</th>\n",
              "      <td>56</td>\n",
              "      <td>18956</td>\n",
              "      <td>11044</td>\n",
              "      <td>22091</td>\n",
              "      <td>7661</td>\n",
              "      <td>92</td>\n",
              "      <td>156</td>\n",
              "    </tr>\n",
              "    <tr>\n",
              "      <th>13</th>\n",
              "      <td>61</td>\n",
              "      <td>19073</td>\n",
              "      <td>10927</td>\n",
              "      <td>22144</td>\n",
              "      <td>7617</td>\n",
              "      <td>74</td>\n",
              "      <td>165</td>\n",
              "    </tr>\n",
              "    <tr>\n",
              "      <th>14</th>\n",
              "      <td>66</td>\n",
              "      <td>19063</td>\n",
              "      <td>10937</td>\n",
              "      <td>22049</td>\n",
              "      <td>7617</td>\n",
              "      <td>107</td>\n",
              "      <td>227</td>\n",
              "    </tr>\n",
              "    <tr>\n",
              "      <th>15</th>\n",
              "      <td>71</td>\n",
              "      <td>18951</td>\n",
              "      <td>11049</td>\n",
              "      <td>22076</td>\n",
              "      <td>7624</td>\n",
              "      <td>96</td>\n",
              "      <td>204</td>\n",
              "    </tr>\n",
              "    <tr>\n",
              "      <th>16</th>\n",
              "      <td>76</td>\n",
              "      <td>18899</td>\n",
              "      <td>11101</td>\n",
              "      <td>22120</td>\n",
              "      <td>7683</td>\n",
              "      <td>51</td>\n",
              "      <td>146</td>\n",
              "    </tr>\n",
              "    <tr>\n",
              "      <th>17</th>\n",
              "      <td>81</td>\n",
              "      <td>18987</td>\n",
              "      <td>11013</td>\n",
              "      <td>22246</td>\n",
              "      <td>7593</td>\n",
              "      <td>45</td>\n",
              "      <td>116</td>\n",
              "    </tr>\n",
              "    <tr>\n",
              "      <th>18</th>\n",
              "      <td>86</td>\n",
              "      <td>19094</td>\n",
              "      <td>10906</td>\n",
              "      <td>22229</td>\n",
              "      <td>7654</td>\n",
              "      <td>43</td>\n",
              "      <td>74</td>\n",
              "    </tr>\n",
              "  </tbody>\n",
              "</table>\n",
              "</div>"
            ],
            "text/plain": [
              "    epochs  argmax > 0.5  argmax < 0.5  focus_true_pred_true  \\\n",
              "0        0             0         30000                   510   \n",
              "1        1          2408         27592                  2818   \n",
              "2        6         13575         16425                 13845   \n",
              "3       11         17401         12599                 18141   \n",
              "4       16         18774         11226                 19967   \n",
              "5       21         19428         10572                 21003   \n",
              "6       26         19384         10616                 21454   \n",
              "7       31         19075         10925                 21744   \n",
              "8       36         18933         11067                 21700   \n",
              "9       41         18982         11018                 21998   \n",
              "10      46         18913         11087                 21930   \n",
              "11      51         18681         11319                 21912   \n",
              "12      56         18956         11044                 22091   \n",
              "13      61         19073         10927                 22144   \n",
              "14      66         19063         10937                 22049   \n",
              "15      71         18951         11049                 22076   \n",
              "16      76         18899         11101                 22120   \n",
              "17      81         18987         11013                 22246   \n",
              "18      86         19094         10906                 22229   \n",
              "\n",
              "    focus_false_pred_true  focus_true_pred_false  focus_false_pred_false  \n",
              "0                    9319                   1019                   19152  \n",
              "1                    9388                   2054                   15740  \n",
              "2                    7950                   2180                    6025  \n",
              "3                    7436                   1155                    3268  \n",
              "4                    7136                    603                    2294  \n",
              "5                    6965                    367                    1665  \n",
              "6                    7164                    231                    1151  \n",
              "7                    7336                    176                     744  \n",
              "8                    7512                    169                     619  \n",
              "9                    7541                    105                     356  \n",
              "10                   7616                    127                     327  \n",
              "11                   7677                    117                     294  \n",
              "12                   7661                     92                     156  \n",
              "13                   7617                     74                     165  \n",
              "14                   7617                    107                     227  \n",
              "15                   7624                     96                     204  \n",
              "16                   7683                     51                     146  \n",
              "17                   7593                     45                     116  \n",
              "18                   7654                     43                      74  "
            ]
          },
          "execution_count": 48,
          "metadata": {},
          "output_type": "execute_result"
        }
      ],
      "source": [
        "df_train"
      ]
    },
    {
      "cell_type": "code",
      "execution_count": null,
      "id": "c27db92a",
      "metadata": {
        "execution": {
          "iopub.execute_input": "2021-09-07T05:10:56.413815Z",
          "iopub.status.busy": "2021-09-07T05:10:56.413321Z",
          "iopub.status.idle": "2021-09-07T05:10:56.421783Z",
          "shell.execute_reply": "2021-09-07T05:10:56.421361Z"
        },
        "id": "c27db92a",
        "papermill": {
          "duration": 0.105965,
          "end_time": "2021-09-07T05:10:56.421883",
          "exception": false,
          "start_time": "2021-09-07T05:10:56.315918",
          "status": "completed"
        },
        "tags": []
      },
      "outputs": [],
      "source": [
        "df_train.to_csv(path+\"_train.csv\",index=False)"
      ]
    },
    {
      "cell_type": "code",
      "execution_count": null,
      "id": "e0b2ae2e",
      "metadata": {
        "execution": {
          "iopub.execute_input": "2021-09-07T05:10:56.628548Z",
          "iopub.status.busy": "2021-09-07T05:10:56.627746Z",
          "iopub.status.idle": "2021-09-07T05:10:56.758580Z",
          "shell.execute_reply": "2021-09-07T05:10:56.759032Z"
        },
        "id": "e0b2ae2e",
        "outputId": "43ee8c71-04a2-47c3-b20b-a2283c7c1920",
        "papermill": {
          "duration": 0.242106,
          "end_time": "2021-09-07T05:10:56.759161",
          "exception": false,
          "start_time": "2021-09-07T05:10:56.517055",
          "status": "completed"
        },
        "tags": []
      },
      "outputs": [
        {
          "data": {
            "image/png": "[encoded data removed]",
            "text/plain": [
              "<Figure size 432x288 with 1 Axes>"
            ]
          },
          "metadata": {
            "needs_background": "light"
          },
          "output_type": "display_data"
        }
      ],
      "source": [
        "# plt.figure(12,12)\n",
        "plt.plot(col1,col2, label='argmax > 0.5')\n",
        "plt.plot(col1,col3, label='argmax < 0.5')\n",
        "\n",
        "plt.legend(loc='center left', bbox_to_anchor=(1, 0.5))\n",
        "plt.xlabel(\"epochs\")\n",
        "plt.ylabel(\"training data\")\n",
        "plt.title(\"On Training set\")\n",
        "plt.show()\n",
        "\n"
      ]
    },
    {
      "cell_type": "code",
      "execution_count": null,
      "id": "cefa93f7",
      "metadata": {
        "execution": {
          "iopub.execute_input": "2021-09-07T05:10:56.972500Z",
          "iopub.status.busy": "2021-09-07T05:10:56.971485Z",
          "iopub.status.idle": "2021-09-07T05:10:57.557382Z",
          "shell.execute_reply": "2021-09-07T05:10:57.557767Z"
        },
        "id": "cefa93f7",
        "outputId": "7913a937-8a85-4ffa-e8bc-718aeb17d01f",
        "papermill": {
          "duration": 0.698837,
          "end_time": "2021-09-07T05:10:57.557918",
          "exception": false,
          "start_time": "2021-09-07T05:10:56.859081",
          "status": "completed"
        },
        "tags": []
      },
      "outputs": [
        {
          "data": {
            "image/png": "[encoded data removed]",
            "text/plain": [
              "<Figure size 432x360 with 1 Axes>"
            ]
          },
          "metadata": {
            "needs_background": "light"
          },
          "output_type": "display_data"
        }
      ],
      "source": [
        "plt.figure(figsize=(6,5))\n",
        "plt.plot(col1,np.array(col4)/300, label =\"FTPT\")\n",
        "plt.plot(col1,np.array(col5)/300, label =\"FFPT\")\n",
        "plt.plot(col1,np.array(col6)/300, label =\"FTPF\")\n",
        "plt.plot(col1,np.array(col7)/300, label =\"FFPF\")\n",
        "plt.title(\"CIFAR - SDC On Train set\")\n",
        "plt.grid()\n",
        "# plt.legend(loc='center left', bbox_to_anchor=(1, 0.5))\n",
        "plt.legend()\n",
        "plt.xlabel(\"epochs\", fontsize=14, fontweight = 'bold')\n",
        "plt.ylabel(\"percentage train data\", fontsize=14, fontweight = 'bold')\n",
        "# plt.savefig(path+\"cifar_train.png\", bbox_inches=\"tight\")\n",
        "# plt.savefig(path+\"cifar_train.pdf\", bbox_inches=\"tight\")\n",
        "plt.savefig(path+\"cifar_train.png\", bbox_inches=\"tight\")\n",
        "plt.savefig(path+\"cifar_train.pdf\", bbox_inches=\"tight\")\n",
        "plt.show()"
      ]
    },
    {
      "cell_type": "code",
      "execution_count": null,
      "id": "f824396f",
      "metadata": {
        "execution": {
          "iopub.execute_input": "2021-09-07T05:10:57.773581Z",
          "iopub.status.busy": "2021-09-07T05:10:57.772826Z",
          "iopub.status.idle": "2021-09-07T05:10:57.777927Z",
          "shell.execute_reply": "2021-09-07T05:10:57.777532Z"
        },
        "id": "f824396f",
        "outputId": "8664f28e-e61f-4b57-928f-f4b971abbd6f",
        "papermill": {
          "duration": 0.116135,
          "end_time": "2021-09-07T05:10:57.778038",
          "exception": false,
          "start_time": "2021-09-07T05:10:57.661903",
          "status": "completed"
        },
        "tags": []
      },
      "outputs": [
        {
          "data": {
            "text/html": [
              "<div>\n",
              "<style scoped>\n",
              "    .dataframe tbody tr th:only-of-type {\n",
              "        vertical-align: middle;\n",
              "    }\n",
              "\n",
              "    .dataframe tbody tr th {\n",
              "        vertical-align: top;\n",
              "    }\n",
              "\n",
              "    .dataframe thead th {\n",
              "        text-align: right;\n",
              "    }\n",
              "</style>\n",
              "<table border=\"1\" class=\"dataframe\">\n",
              "  <thead>\n",
              "    <tr style=\"text-align: right;\">\n",
              "      <th></th>\n",
              "      <th>epochs</th>\n",
              "      <th>argmax &gt; 0.5</th>\n",
              "      <th>argmax &lt; 0.5</th>\n",
              "      <th>focus_true_pred_true</th>\n",
              "      <th>focus_false_pred_true</th>\n",
              "      <th>focus_true_pred_false</th>\n",
              "      <th>focus_false_pred_false</th>\n",
              "    </tr>\n",
              "  </thead>\n",
              "  <tbody>\n",
              "    <tr>\n",
              "      <th>0</th>\n",
              "      <td>0</td>\n",
              "      <td>0</td>\n",
              "      <td>10000</td>\n",
              "      <td>157</td>\n",
              "      <td>3176</td>\n",
              "      <td>300</td>\n",
              "      <td>6367</td>\n",
              "    </tr>\n",
              "    <tr>\n",
              "      <th>1</th>\n",
              "      <td>1</td>\n",
              "      <td>1488</td>\n",
              "      <td>8512</td>\n",
              "      <td>1636</td>\n",
              "      <td>2879</td>\n",
              "      <td>714</td>\n",
              "      <td>4771</td>\n",
              "    </tr>\n",
              "    <tr>\n",
              "      <th>2</th>\n",
              "      <td>6</td>\n",
              "      <td>5308</td>\n",
              "      <td>4692</td>\n",
              "      <td>4773</td>\n",
              "      <td>2473</td>\n",
              "      <td>654</td>\n",
              "      <td>2100</td>\n",
              "    </tr>\n",
              "    <tr>\n",
              "      <th>3</th>\n",
              "      <td>11</td>\n",
              "      <td>5404</td>\n",
              "      <td>4596</td>\n",
              "      <td>5733</td>\n",
              "      <td>2531</td>\n",
              "      <td>565</td>\n",
              "      <td>1171</td>\n",
              "    </tr>\n",
              "    <tr>\n",
              "      <th>4</th>\n",
              "      <td>16</td>\n",
              "      <td>5942</td>\n",
              "      <td>4058</td>\n",
              "      <td>6279</td>\n",
              "      <td>2254</td>\n",
              "      <td>395</td>\n",
              "      <td>1072</td>\n",
              "    </tr>\n",
              "    <tr>\n",
              "      <th>5</th>\n",
              "      <td>21</td>\n",
              "      <td>6240</td>\n",
              "      <td>3760</td>\n",
              "      <td>6600</td>\n",
              "      <td>2092</td>\n",
              "      <td>302</td>\n",
              "      <td>1006</td>\n",
              "    </tr>\n",
              "    <tr>\n",
              "      <th>6</th>\n",
              "      <td>26</td>\n",
              "      <td>5912</td>\n",
              "      <td>4088</td>\n",
              "      <td>6482</td>\n",
              "      <td>2225</td>\n",
              "      <td>318</td>\n",
              "      <td>975</td>\n",
              "    </tr>\n",
              "    <tr>\n",
              "      <th>7</th>\n",
              "      <td>31</td>\n",
              "      <td>5972</td>\n",
              "      <td>4028</td>\n",
              "      <td>6728</td>\n",
              "      <td>2079</td>\n",
              "      <td>294</td>\n",
              "      <td>899</td>\n",
              "    </tr>\n",
              "    <tr>\n",
              "      <th>8</th>\n",
              "      <td>36</td>\n",
              "      <td>5794</td>\n",
              "      <td>4206</td>\n",
              "      <td>6713</td>\n",
              "      <td>2154</td>\n",
              "      <td>298</td>\n",
              "      <td>835</td>\n",
              "    </tr>\n",
              "    <tr>\n",
              "      <th>9</th>\n",
              "      <td>41</td>\n",
              "      <td>5904</td>\n",
              "      <td>4096</td>\n",
              "      <td>6605</td>\n",
              "      <td>2043</td>\n",
              "      <td>335</td>\n",
              "      <td>1017</td>\n",
              "    </tr>\n",
              "    <tr>\n",
              "      <th>10</th>\n",
              "      <td>46</td>\n",
              "      <td>5696</td>\n",
              "      <td>4304</td>\n",
              "      <td>6803</td>\n",
              "      <td>1896</td>\n",
              "      <td>357</td>\n",
              "      <td>944</td>\n",
              "    </tr>\n",
              "    <tr>\n",
              "      <th>11</th>\n",
              "      <td>51</td>\n",
              "      <td>5821</td>\n",
              "      <td>4179</td>\n",
              "      <td>6796</td>\n",
              "      <td>1973</td>\n",
              "      <td>285</td>\n",
              "      <td>946</td>\n",
              "    </tr>\n",
              "    <tr>\n",
              "      <th>12</th>\n",
              "      <td>56</td>\n",
              "      <td>6012</td>\n",
              "      <td>3988</td>\n",
              "      <td>6821</td>\n",
              "      <td>2037</td>\n",
              "      <td>344</td>\n",
              "      <td>798</td>\n",
              "    </tr>\n",
              "    <tr>\n",
              "      <th>13</th>\n",
              "      <td>61</td>\n",
              "      <td>5825</td>\n",
              "      <td>4175</td>\n",
              "      <td>6704</td>\n",
              "      <td>2106</td>\n",
              "      <td>311</td>\n",
              "      <td>879</td>\n",
              "    </tr>\n",
              "    <tr>\n",
              "      <th>14</th>\n",
              "      <td>66</td>\n",
              "      <td>6039</td>\n",
              "      <td>3961</td>\n",
              "      <td>6775</td>\n",
              "      <td>2086</td>\n",
              "      <td>300</td>\n",
              "      <td>839</td>\n",
              "    </tr>\n",
              "    <tr>\n",
              "      <th>15</th>\n",
              "      <td>71</td>\n",
              "      <td>5815</td>\n",
              "      <td>4185</td>\n",
              "      <td>6725</td>\n",
              "      <td>2112</td>\n",
              "      <td>333</td>\n",
              "      <td>830</td>\n",
              "    </tr>\n",
              "    <tr>\n",
              "      <th>16</th>\n",
              "      <td>76</td>\n",
              "      <td>6089</td>\n",
              "      <td>3911</td>\n",
              "      <td>6764</td>\n",
              "      <td>2043</td>\n",
              "      <td>249</td>\n",
              "      <td>944</td>\n",
              "    </tr>\n",
              "    <tr>\n",
              "      <th>17</th>\n",
              "      <td>81</td>\n",
              "      <td>5828</td>\n",
              "      <td>4172</td>\n",
              "      <td>6763</td>\n",
              "      <td>2065</td>\n",
              "      <td>339</td>\n",
              "      <td>833</td>\n",
              "    </tr>\n",
              "    <tr>\n",
              "      <th>18</th>\n",
              "      <td>86</td>\n",
              "      <td>5898</td>\n",
              "      <td>4102</td>\n",
              "      <td>6879</td>\n",
              "      <td>2048</td>\n",
              "      <td>275</td>\n",
              "      <td>798</td>\n",
              "    </tr>\n",
              "  </tbody>\n",
              "</table>\n",
              "</div>"
            ],
            "text/plain": [
              "    epochs  argmax > 0.5  argmax < 0.5  focus_true_pred_true  \\\n",
              "0        0             0         10000                   157   \n",
              "1        1          1488          8512                  1636   \n",
              "2        6          5308          4692                  4773   \n",
              "3       11          5404          4596                  5733   \n",
              "4       16          5942          4058                  6279   \n",
              "5       21          6240          3760                  6600   \n",
              "6       26          5912          4088                  6482   \n",
              "7       31          5972          4028                  6728   \n",
              "8       36          5794          4206                  6713   \n",
              "9       41          5904          4096                  6605   \n",
              "10      46          5696          4304                  6803   \n",
              "11      51          5821          4179                  6796   \n",
              "12      56          6012          3988                  6821   \n",
              "13      61          5825          4175                  6704   \n",
              "14      66          6039          3961                  6775   \n",
              "15      71          5815          4185                  6725   \n",
              "16      76          6089          3911                  6764   \n",
              "17      81          5828          4172                  6763   \n",
              "18      86          5898          4102                  6879   \n",
              "\n",
              "    focus_false_pred_true  focus_true_pred_false  focus_false_pred_false  \n",
              "0                    3176                    300                    6367  \n",
              "1                    2879                    714                    4771  \n",
              "2                    2473                    654                    2100  \n",
              "3                    2531                    565                    1171  \n",
              "4                    2254                    395                    1072  \n",
              "5                    2092                    302                    1006  \n",
              "6                    2225                    318                     975  \n",
              "7                    2079                    294                     899  \n",
              "8                    2154                    298                     835  \n",
              "9                    2043                    335                    1017  \n",
              "10                   1896                    357                     944  \n",
              "11                   1973                    285                     946  \n",
              "12                   2037                    344                     798  \n",
              "13                   2106                    311                     879  \n",
              "14                   2086                    300                     839  \n",
              "15                   2112                    333                     830  \n",
              "16                   2043                    249                     944  \n",
              "17                   2065                    339                     833  \n",
              "18                   2048                    275                     798  "
            ]
          },
          "execution_count": 52,
          "metadata": {},
          "output_type": "execute_result"
        }
      ],
      "source": [
        "df_test"
      ]
    },
    {
      "cell_type": "code",
      "execution_count": null,
      "id": "93452628",
      "metadata": {
        "execution": {
          "iopub.execute_input": "2021-09-07T05:10:57.978279Z",
          "iopub.status.busy": "2021-09-07T05:10:57.977730Z",
          "iopub.status.idle": "2021-09-07T05:10:57.980834Z",
          "shell.execute_reply": "2021-09-07T05:10:57.980287Z"
        },
        "id": "93452628",
        "papermill": {
          "duration": 0.105273,
          "end_time": "2021-09-07T05:10:57.980952",
          "exception": false,
          "start_time": "2021-09-07T05:10:57.875679",
          "status": "completed"
        },
        "tags": []
      },
      "outputs": [],
      "source": [
        "df_test.to_csv(path+\"_test.csv\",index=False)"
      ]
    },
    {
      "cell_type": "code",
      "execution_count": null,
      "id": "c0861137",
      "metadata": {
        "execution": {
          "iopub.execute_input": "2021-09-07T05:10:58.186464Z",
          "iopub.status.busy": "2021-09-07T05:10:58.185599Z",
          "iopub.status.idle": "2021-09-07T05:10:58.323676Z",
          "shell.execute_reply": "2021-09-07T05:10:58.323259Z"
        },
        "id": "c0861137",
        "outputId": "48947570-f15a-47c7-d67f-c321551b5a09",
        "papermill": {
          "duration": 0.241781,
          "end_time": "2021-09-07T05:10:58.323789",
          "exception": false,
          "start_time": "2021-09-07T05:10:58.082008",
          "status": "completed"
        },
        "tags": []
      },
      "outputs": [
        {
          "data": {
            "image/png": "[encoded data removed]",
            "text/plain": [
              "<Figure size 432x288 with 1 Axes>"
            ]
          },
          "metadata": {
            "needs_background": "light"
          },
          "output_type": "display_data"
        }
      ],
      "source": [
        "# plt.figure(12,12)\n",
        "plt.plot(col1,col8, label='argmax > 0.5')\n",
        "plt.plot(col1,col9, label='argmax < 0.5')\n",
        "\n",
        "plt.legend(loc='center left', bbox_to_anchor=(1, 0.5))\n",
        "plt.xlabel(\"epochs\")\n",
        "plt.ylabel(\"Testing data\")\n",
        "plt.title(\"On Testing set\")\n",
        "plt.show()\n",
        "\n"
      ]
    },
    {
      "cell_type": "code",
      "execution_count": null,
      "id": "a56719d1",
      "metadata": {
        "execution": {
          "iopub.execute_input": "2021-09-07T05:10:58.554854Z",
          "iopub.status.busy": "2021-09-07T05:10:58.546913Z",
          "iopub.status.idle": "2021-09-07T05:10:59.017863Z",
          "shell.execute_reply": "2021-09-07T05:10:59.017101Z"
        },
        "id": "a56719d1",
        "outputId": "ec5e4375-ad04-4482-bc4f-b38e85ee5b9b",
        "papermill": {
          "duration": 0.591676,
          "end_time": "2021-09-07T05:10:59.017981",
          "exception": false,
          "start_time": "2021-09-07T05:10:58.426305",
          "status": "completed"
        },
        "tags": []
      },
      "outputs": [
        {
          "data": {
            "image/png": "[encoded data removed]",
            "text/plain": [
              "<Figure size 432x360 with 1 Axes>"
            ]
          },
          "metadata": {
            "needs_background": "light"
          },
          "output_type": "display_data"
        }
      ],
      "source": [
        "plt.figure(figsize=(6,5))\n",
        "plt.plot(col1,np.array(col10)/100, label =\"FTPT\")\n",
        "plt.plot(col1,np.array(col11)/100, label =\"FFPT\")\n",
        "plt.plot(col1,np.array(col12)/100, label =\"FTPF\")\n",
        "plt.plot(col1,np.array(col13)/100, label =\"FFPF\")\n",
        "plt.title(\"CIFAR - SDC On Test set\")\n",
        "plt.grid()\n",
        "# plt.legend(loc='center left', bbox_to_anchor=(1, 0.5))\n",
        "plt.legend()\n",
        "plt.xlabel(\"epochs\", fontsize=14, fontweight = 'bold')\n",
        "plt.ylabel(\"percentage test data\", fontsize=14, fontweight = 'bold')\n",
        "# plt.savefig(path+\"cifar_test.png\", bbox_inches=\"tight\")\n",
        "# plt.savefig(path+\"cifar_test.pdf\", bbox_inches=\"tight\")\n",
        "plt.savefig(path+\"cifar_test.png\", bbox_inches=\"tight\")\n",
        "plt.savefig(path+\"cifar_test.pdf\", bbox_inches=\"tight\")\n",
        "plt.show()"
      ]
    },
    {
      "cell_type": "code",
      "execution_count": null,
      "id": "3eacb413",
      "metadata": {
        "execution": {
          "iopub.execute_input": "2021-09-07T05:10:59.232247Z",
          "iopub.status.busy": "2021-09-07T05:10:59.231470Z",
          "iopub.status.idle": "2021-09-07T05:11:21.628407Z",
          "shell.execute_reply": "2021-09-07T05:11:21.628992Z"
        },
        "id": "3eacb413",
        "outputId": "11904b06-53ed-4129-d9fb-273175f6c2ed",
        "papermill": {
          "duration": 22.510266,
          "end_time": "2021-09-07T05:11:21.629204",
          "exception": false,
          "start_time": "2021-09-07T05:10:59.118938",
          "status": "completed"
        },
        "tags": []
      },
      "outputs": [
        {
          "name": "stdout",
          "output_type": "stream",
          "text": [
            "Accuracy of the network on the  train images: 98.760000 %\n",
            "total correct 29628\n",
            "total train set images 30000\n",
            "focus_true_pred_true 22132 =============> FTPT : 73.773333 %\n",
            "focus_false_pred_true 7496 =============> FFPT : 24.986667 %\n",
            "focus_true_pred_false 107 =============> FTPF : 0.356667 %\n",
            "focus_false_pred_false 265 =============> FFPF : 0.883333 %\n",
            "argmax_more_than_half ==================>  18675\n",
            "argmax_less_than_half ==================>  11325\n"
          ]
        }
      ],
      "source": [
        "correct = 0\n",
        "total = 0\n",
        "count = 0\n",
        "flag = 1\n",
        "focus_true_pred_true =0\n",
        "focus_false_pred_true =0\n",
        "focus_true_pred_false =0\n",
        "focus_false_pred_false =0\n",
        "\n",
        "argmax_more_than_half = 0\n",
        "argmax_less_than_half =0\n",
        "\n",
        "with torch.no_grad():\n",
        "  for data in train_loader:\n",
        "    inputs, labels , fore_idx = data\n",
        "    inputs = inputs.double()\n",
        "    inputs, labels , fore_idx = inputs.to(\"cuda\"),labels.to(\"cuda\"), fore_idx.to(\"cuda\")\n",
        "    alphas, avg_images = focus_net(inputs)\n",
        "    outputs = classify(avg_images)\n",
        "\n",
        "    _, predicted = torch.max(outputs.data, 1)\n",
        "\n",
        "    for j in range(labels.size(0)):\n",
        "      focus = torch.argmax(alphas[j])\n",
        "      if alphas[j][focus] >= 0.5 :\n",
        "        argmax_more_than_half += 1\n",
        "      else:\n",
        "        argmax_less_than_half += 1\n",
        "\n",
        "      if(focus == fore_idx[j] and predicted[j] == labels[j]):\n",
        "          focus_true_pred_true += 1\n",
        "      elif(focus != fore_idx[j] and predicted[j] == labels[j]):\n",
        "        focus_false_pred_true += 1\n",
        "      elif(focus == fore_idx[j] and predicted[j] != labels[j]):\n",
        "        focus_true_pred_false += 1\n",
        "      elif(focus != fore_idx[j] and predicted[j] != labels[j]):\n",
        "        focus_false_pred_false += 1\n",
        "\n",
        "    total += labels.size(0)\n",
        "    correct += (predicted == labels).sum().item()\n",
        "\n",
        "print('Accuracy of the network on the  train images: %f %%' % (\n",
        "    100 * correct / total))\n",
        "print(\"total correct\", correct)\n",
        "print(\"total train set images\", total)\n",
        "\n",
        "print(\"focus_true_pred_true %d =============> FTPT : %f %%\" % (focus_true_pred_true , (100 * focus_true_pred_true / total) ) )\n",
        "print(\"focus_false_pred_true %d =============> FFPT : %f %%\" % (focus_false_pred_true, (100 * focus_false_pred_true / total) ) )\n",
        "print(\"focus_true_pred_false %d =============> FTPF : %f %%\" %( focus_true_pred_false , ( 100 * focus_true_pred_false / total) ) )\n",
        "print(\"focus_false_pred_false %d =============> FFPF : %f %%\" % (focus_false_pred_false, ( 100 * focus_false_pred_false / total) ) )\n",
        "\n",
        "print(\"argmax_more_than_half ==================> \",argmax_more_than_half)\n",
        "print(\"argmax_less_than_half ==================> \",argmax_less_than_half)"
      ]
    },
    {
      "cell_type": "code",
      "execution_count": null,
      "id": "0daa54d2",
      "metadata": {
        "execution": {
          "iopub.execute_input": "2021-09-07T05:11:21.838561Z",
          "iopub.status.busy": "2021-09-07T05:11:21.837074Z",
          "iopub.status.idle": "2021-09-07T05:11:29.627666Z",
          "shell.execute_reply": "2021-09-07T05:11:29.628211Z"
        },
        "id": "0daa54d2",
        "outputId": "9fbdc2d9-34b6-4414-821c-03bf7bea869b",
        "papermill": {
          "duration": 7.900859,
          "end_time": "2021-09-07T05:11:29.628407",
          "exception": false,
          "start_time": "2021-09-07T05:11:21.727548",
          "status": "completed"
        },
        "tags": []
      },
      "outputs": [
        {
          "name": "stdout",
          "output_type": "stream",
          "text": [
            "Accuracy of the network on the  test images: 87.970000 %\n",
            "total correct 8797\n",
            "total train set images 10000\n",
            "focus_true_pred_true 6781 =============> FTPT : 67.810000 %\n",
            "focus_false_pred_true 2016 =============> FFPT : 20.160000 %\n",
            "focus_true_pred_false 331 =============> FTPF : 3.310000 %\n",
            "focus_false_pred_false 872 =============> FFPF : 8.720000 %\n",
            "argmax_more_than_half ==================>  5807\n",
            "argmax_less_than_half ==================>  4193\n"
          ]
        }
      ],
      "source": [
        "correct = 0\n",
        "total = 0\n",
        "count = 0\n",
        "flag = 1\n",
        "focus_true_pred_true =0\n",
        "focus_false_pred_true =0\n",
        "focus_true_pred_false =0\n",
        "focus_false_pred_false =0\n",
        "\n",
        "argmax_more_than_half = 0\n",
        "argmax_less_than_half =0\n",
        "\n",
        "with torch.no_grad():\n",
        "  for data in test_loader:\n",
        "    inputs, labels , fore_idx = data\n",
        "    inputs = inputs.double()\n",
        "    inputs, labels , fore_idx = inputs.to(\"cuda\"),labels.to(\"cuda\"), fore_idx.to(\"cuda\")\n",
        "    alphas, avg_images = focus_net(inputs)\n",
        "    outputs = classify(avg_images)\n",
        "\n",
        "    _, predicted = torch.max(outputs.data, 1)\n",
        "\n",
        "    for j in range(labels.size(0)):\n",
        "      focus = torch.argmax(alphas[j])\n",
        "      if alphas[j][focus] >= 0.5 :\n",
        "        argmax_more_than_half += 1\n",
        "      else:\n",
        "        argmax_less_than_half += 1\n",
        "\n",
        "      if(focus == fore_idx[j] and predicted[j] == labels[j]):\n",
        "          focus_true_pred_true += 1\n",
        "      elif(focus != fore_idx[j] and predicted[j] == labels[j]):\n",
        "        focus_false_pred_true += 1\n",
        "      elif(focus == fore_idx[j] and predicted[j] != labels[j]):\n",
        "        focus_true_pred_false += 1\n",
        "      elif(focus != fore_idx[j] and predicted[j] != labels[j]):\n",
        "        focus_false_pred_false += 1\n",
        "\n",
        "    total += labels.size(0)\n",
        "    correct += (predicted == labels).sum().item()\n",
        "\n",
        "print('Accuracy of the network on the  test images: %f %%' % (\n",
        "    100 * correct / total))\n",
        "print(\"total correct\", correct)\n",
        "print(\"total train set images\", total)\n",
        "\n",
        "print(\"focus_true_pred_true %d =============> FTPT : %f %%\" % (focus_true_pred_true , (100 * focus_true_pred_true / total) ) )\n",
        "print(\"focus_false_pred_true %d =============> FFPT : %f %%\" % (focus_false_pred_true, (100 * focus_false_pred_true / total) ) )\n",
        "print(\"focus_true_pred_false %d =============> FTPF : %f %%\" %( focus_true_pred_false , ( 100 * focus_true_pred_false / total) ) )\n",
        "print(\"focus_false_pred_false %d =============> FFPF : %f %%\" % (focus_false_pred_false, ( 100 * focus_false_pred_false / total) ) )\n",
        "\n",
        "print(\"argmax_more_than_half ==================> \",argmax_more_than_half)\n",
        "print(\"argmax_less_than_half ==================> \",argmax_less_than_half)"
      ]
    },
    {
      "cell_type": "code",
      "execution_count": null,
      "id": "5863e7c1",
      "metadata": {
        "execution": {
          "iopub.execute_input": "2021-09-07T05:11:29.833271Z",
          "iopub.status.busy": "2021-09-07T05:11:29.832522Z",
          "iopub.status.idle": "2021-09-07T05:11:46.333600Z",
          "shell.execute_reply": "2021-09-07T05:11:46.332967Z"
        },
        "id": "5863e7c1",
        "outputId": "be045505-70c0-4448-84fc-30d918247157",
        "papermill": {
          "duration": 16.606088,
          "end_time": "2021-09-07T05:11:46.333763",
          "exception": false,
          "start_time": "2021-09-07T05:11:29.727675",
          "status": "completed"
        },
        "tags": []
      },
      "outputs": [
        {
          "name": "stdout",
          "output_type": "stream",
          "text": [
            "Accuracy of the network on the  train images: 98.760000 %\n",
            "total correct 29628\n",
            "total train set images 30000\n"
          ]
        }
      ],
      "source": [
        "correct = 0\n",
        "total = 0\n",
        "\n",
        "with torch.no_grad():\n",
        "  for data in train_loader:\n",
        "    inputs, labels , fore_idx = data\n",
        "    inputs = inputs.double()\n",
        "    inputs, labels = inputs.to(\"cuda\"), labels.to(\"cuda\")\n",
        "    alphas, avg_images = focus_net(inputs)\n",
        "    outputs = classify(avg_images)\n",
        "\n",
        "    _, predicted = torch.max(outputs.data, 1)\n",
        "\n",
        "    total += labels.size(0)\n",
        "    correct += (predicted == labels).sum().item()\n",
        "\n",
        "print('Accuracy of the network on the  train images: %f %%' % ( 100 * correct / total))\n",
        "print(\"total correct\", correct)\n",
        "print(\"total train set images\", total)"
      ]
    },
    {
      "cell_type": "code",
      "execution_count": null,
      "id": "d749907d",
      "metadata": {
        "execution": {
          "iopub.execute_input": "2021-09-07T05:11:46.537051Z",
          "iopub.status.busy": "2021-09-07T05:11:46.536048Z",
          "iopub.status.idle": "2021-09-07T05:11:52.166490Z",
          "shell.execute_reply": "2021-09-07T05:11:52.166009Z"
        },
        "id": "d749907d",
        "outputId": "3e29ff37-e633-4c40-87e7-decf37c3503d",
        "papermill": {
          "duration": 5.734594,
          "end_time": "2021-09-07T05:11:52.166622",
          "exception": false,
          "start_time": "2021-09-07T05:11:46.432028",
          "status": "completed"
        },
        "tags": []
      },
      "outputs": [
        {
          "name": "stdout",
          "output_type": "stream",
          "text": [
            "Accuracy of the network on the 10000 test images: 87.970000 %\n",
            "total correct 8797\n",
            "total train set images 10000\n"
          ]
        }
      ],
      "source": [
        "correct = 0\n",
        "total = 0\n",
        "\n",
        "with torch.no_grad():\n",
        "  for data in test_loader:\n",
        "    inputs, labels , fore_idx = data\n",
        "    inputs = inputs.double()\n",
        "    inputs, labels = inputs.to(\"cuda\"), labels.to(\"cuda\")\n",
        "    alphas, avg_images = focus_net(inputs)\n",
        "    outputs = classify(avg_images)\n",
        "\n",
        "    _, predicted = torch.max(outputs.data, 1)\n",
        "\n",
        "    total += labels.size(0)\n",
        "    correct += (predicted == labels).sum().item()\n",
        "\n",
        "print('Accuracy of the network on the 10000 test images: %f %%' % ( 100 * correct / total))\n",
        "print(\"total correct\", correct)\n",
        "print(\"total train set images\", total)"
      ]
    },
    {
      "cell_type": "code",
      "execution_count": null,
      "id": "5afc814f",
      "metadata": {
        "id": "5afc814f",
        "papermill": {
          "duration": 0.098506,
          "end_time": "2021-09-07T05:11:52.365716",
          "exception": false,
          "start_time": "2021-09-07T05:11:52.267210",
          "status": "completed"
        },
        "tags": []
      },
      "outputs": [],
      "source": [
        ""
      ]
    }
  ],
  "metadata": {
    "kernelspec": {
      "display_name": "Python 3",
      "language": "python",
      "name": "python3"
    },
    "language_info": {
      "codemirror_mode": {
        "name": "ipython",
        "version": 3
      },
      "file_extension": ".py",
      "mimetype": "text/x-python",
      "name": "python",
      "nbconvert_exporter": "python",
      "pygments_lexer": "ipython3",
      "version": "3.7.10"
    },
    "papermill": {
      "default_parameters": {},
      "duration": 2875.415394,
      "end_time": "2021-09-07T05:11:54.174497",
      "environment_variables": {},
      "exception": null,
      "input_path": "__notebook__.ipynb",
      "output_path": "__notebook__.ipynb",
      "parameters": {},
      "start_time": "2021-09-07T04:23:58.759103",
      "version": "2.3.3"
    },
    "widgets": {
      "application/vnd.jupyter.widget-state+json": {}
    },
    "colab": {
      "name": "cifar-sdc-focus-cnn3-classify-cnn1-m-20.ipynb",
      "provenance": []
    }
  },
  "nbformat": 4,
  "nbformat_minor": 5
}