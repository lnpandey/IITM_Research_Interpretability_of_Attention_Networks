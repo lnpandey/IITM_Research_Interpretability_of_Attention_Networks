{
  "metadata": {
    "kernelspec": {
      "language": "python",
      "display_name": "Python 3",
      "name": "python3"
    },
    "language_info": {
      "name": "python",
      "version": "3.7.12",
      "mimetype": "text/x-python",
      "codemirror_mode": {
        "name": "ipython",
        "version": 3
      },
      "pygments_lexer": "ipython3",
      "nbconvert_exporter": "python",
      "file_extension": ".py"
    },
    "colab": {
      "name": "focus-cnn3-classify-cnn1-m-20-size-30k-run3.ipynb",
      "provenance": []
    },
    "accelerator": "GPU",
    "widgets": {
      "application/vnd.jupyter.widget-state+json": {
        "02c7105a0bc44bac8845117bf1c772e4": {
          "model_module": "@jupyter-widgets/controls",
          "model_name": "HBoxModel",
          "model_module_version": "1.5.0",
          "state": {
            "_view_name": "HBoxView",
            "_dom_classes": [],
            "_model_name": "HBoxModel",
            "_view_module": "@jupyter-widgets/controls",
            "_model_module_version": "1.5.0",
            "_view_count": null,
            "_view_module_version": "1.5.0",
            "box_style": "",
            "layout": "IPY_MODEL_3740d7c3cb62456d9b21c44aea3662ec",
            "_model_module": "@jupyter-widgets/controls",
            "children": [
              "IPY_MODEL_3565cd2edc2f4cada21b9a5863fae102",
              "IPY_MODEL_fc0392fe82ef416ea8e795fc5534278a",
              "IPY_MODEL_eff220009e16454ab36c46a1f6eef5fd"
            ]
          }
        },
        "3740d7c3cb62456d9b21c44aea3662ec": {
          "model_module": "@jupyter-widgets/base",
          "model_name": "LayoutModel",
          "model_module_version": "1.2.0",
          "state": {
            "_view_name": "LayoutView",
            "grid_template_rows": null,
            "right": null,
            "justify_content": null,
            "_view_module": "@jupyter-widgets/base",
            "overflow": null,
            "_model_module_version": "1.2.0",
            "_view_count": null,
            "flex_flow": null,
            "width": null,
            "min_width": null,
            "border": null,
            "align_items": null,
            "bottom": null,
            "_model_module": "@jupyter-widgets/base",
            "top": null,
            "grid_column": null,
            "overflow_y": null,
            "overflow_x": null,
            "grid_auto_flow": null,
            "grid_area": null,
            "grid_template_columns": null,
            "flex": null,
            "_model_name": "LayoutModel",
            "justify_items": null,
            "grid_row": null,
            "max_height": null,
            "align_content": null,
            "visibility": null,
            "align_self": null,
            "height": null,
            "min_height": null,
            "padding": null,
            "grid_auto_rows": null,
            "grid_gap": null,
            "max_width": null,
            "order": null,
            "_view_module_version": "1.2.0",
            "grid_template_areas": null,
            "object_position": null,
            "object_fit": null,
            "grid_auto_columns": null,
            "margin": null,
            "display": null,
            "left": null
          }
        },
        "3565cd2edc2f4cada21b9a5863fae102": {
          "model_module": "@jupyter-widgets/controls",
          "model_name": "HTMLModel",
          "model_module_version": "1.5.0",
          "state": {
            "_view_name": "HTMLView",
            "style": "IPY_MODEL_aea4393e591c423492eb84a737ab2709",
            "_dom_classes": [],
            "description": "",
            "_model_name": "HTMLModel",
            "placeholder": "​",
            "_view_module": "@jupyter-widgets/controls",
            "_model_module_version": "1.5.0",
            "value": "",
            "_view_count": null,
            "_view_module_version": "1.5.0",
            "description_tooltip": null,
            "_model_module": "@jupyter-widgets/controls",
            "layout": "IPY_MODEL_4d387b613c99416b96af22a15e8cda2c"
          }
        },
        "fc0392fe82ef416ea8e795fc5534278a": {
          "model_module": "@jupyter-widgets/controls",
          "model_name": "FloatProgressModel",
          "model_module_version": "1.5.0",
          "state": {
            "_view_name": "ProgressView",
            "style": "IPY_MODEL_bf27f1389fd6427683f8cd6dffecc16b",
            "_dom_classes": [],
            "description": "",
            "_model_name": "FloatProgressModel",
            "bar_style": "success",
            "max": 170498071,
            "_view_module": "@jupyter-widgets/controls",
            "_model_module_version": "1.5.0",
            "value": 170498071,
            "_view_count": null,
            "_view_module_version": "1.5.0",
            "orientation": "horizontal",
            "min": 0,
            "description_tooltip": null,
            "_model_module": "@jupyter-widgets/controls",
            "layout": "IPY_MODEL_f160162b46bc4482afe14799c58eabd8"
          }
        },
        "eff220009e16454ab36c46a1f6eef5fd": {
          "model_module": "@jupyter-widgets/controls",
          "model_name": "HTMLModel",
          "model_module_version": "1.5.0",
          "state": {
            "_view_name": "HTMLView",
            "style": "IPY_MODEL_42664a21f9c840868bfc80cd1136486d",
            "_dom_classes": [],
            "description": "",
            "_model_name": "HTMLModel",
            "placeholder": "​",
            "_view_module": "@jupyter-widgets/controls",
            "_model_module_version": "1.5.0",
            "value": " 170499072/? [00:02&lt;00:00, 71412794.66it/s]",
            "_view_count": null,
            "_view_module_version": "1.5.0",
            "description_tooltip": null,
            "_model_module": "@jupyter-widgets/controls",
            "layout": "IPY_MODEL_cf1fb65cc94041568dc08f181a64fa83"
          }
        },
        "aea4393e591c423492eb84a737ab2709": {
          "model_module": "@jupyter-widgets/controls",
          "model_name": "DescriptionStyleModel",
          "model_module_version": "1.5.0",
          "state": {
            "_view_name": "StyleView",
            "_model_name": "DescriptionStyleModel",
            "description_width": "",
            "_view_module": "@jupyter-widgets/base",
            "_model_module_version": "1.5.0",
            "_view_count": null,
            "_view_module_version": "1.2.0",
            "_model_module": "@jupyter-widgets/controls"
          }
        },
        "4d387b613c99416b96af22a15e8cda2c": {
          "model_module": "@jupyter-widgets/base",
          "model_name": "LayoutModel",
          "model_module_version": "1.2.0",
          "state": {
            "_view_name": "LayoutView",
            "grid_template_rows": null,
            "right": null,
            "justify_content": null,
            "_view_module": "@jupyter-widgets/base",
            "overflow": null,
            "_model_module_version": "1.2.0",
            "_view_count": null,
            "flex_flow": null,
            "width": null,
            "min_width": null,
            "border": null,
            "align_items": null,
            "bottom": null,
            "_model_module": "@jupyter-widgets/base",
            "top": null,
            "grid_column": null,
            "overflow_y": null,
            "overflow_x": null,
            "grid_auto_flow": null,
            "grid_area": null,
            "grid_template_columns": null,
            "flex": null,
            "_model_name": "LayoutModel",
            "justify_items": null,
            "grid_row": null,
            "max_height": null,
            "align_content": null,
            "visibility": null,
            "align_self": null,
            "height": null,
            "min_height": null,
            "padding": null,
            "grid_auto_rows": null,
            "grid_gap": null,
            "max_width": null,
            "order": null,
            "_view_module_version": "1.2.0",
            "grid_template_areas": null,
            "object_position": null,
            "object_fit": null,
            "grid_auto_columns": null,
            "margin": null,
            "display": null,
            "left": null
          }
        },
        "bf27f1389fd6427683f8cd6dffecc16b": {
          "model_module": "@jupyter-widgets/controls",
          "model_name": "ProgressStyleModel",
          "model_module_version": "1.5.0",
          "state": {
            "_view_name": "StyleView",
            "_model_name": "ProgressStyleModel",
            "description_width": "",
            "_view_module": "@jupyter-widgets/base",
            "_model_module_version": "1.5.0",
            "_view_count": null,
            "_view_module_version": "1.2.0",
            "bar_color": null,
            "_model_module": "@jupyter-widgets/controls"
          }
        },
        "f160162b46bc4482afe14799c58eabd8": {
          "model_module": "@jupyter-widgets/base",
          "model_name": "LayoutModel",
          "model_module_version": "1.2.0",
          "state": {
            "_view_name": "LayoutView",
            "grid_template_rows": null,
            "right": null,
            "justify_content": null,
            "_view_module": "@jupyter-widgets/base",
            "overflow": null,
            "_model_module_version": "1.2.0",
            "_view_count": null,
            "flex_flow": null,
            "width": null,
            "min_width": null,
            "border": null,
            "align_items": null,
            "bottom": null,
            "_model_module": "@jupyter-widgets/base",
            "top": null,
            "grid_column": null,
            "overflow_y": null,
            "overflow_x": null,
            "grid_auto_flow": null,
            "grid_area": null,
            "grid_template_columns": null,
            "flex": null,
            "_model_name": "LayoutModel",
            "justify_items": null,
            "grid_row": null,
            "max_height": null,
            "align_content": null,
            "visibility": null,
            "align_self": null,
            "height": null,
            "min_height": null,
            "padding": null,
            "grid_auto_rows": null,
            "grid_gap": null,
            "max_width": null,
            "order": null,
            "_view_module_version": "1.2.0",
            "grid_template_areas": null,
            "object_position": null,
            "object_fit": null,
            "grid_auto_columns": null,
            "margin": null,
            "display": null,
            "left": null
          }
        },
        "42664a21f9c840868bfc80cd1136486d": {
          "model_module": "@jupyter-widgets/controls",
          "model_name": "DescriptionStyleModel",
          "model_module_version": "1.5.0",
          "state": {
            "_view_name": "StyleView",
            "_model_name": "DescriptionStyleModel",
            "description_width": "",
            "_view_module": "@jupyter-widgets/base",
            "_model_module_version": "1.5.0",
            "_view_count": null,
            "_view_module_version": "1.2.0",
            "_model_module": "@jupyter-widgets/controls"
          }
        },
        "cf1fb65cc94041568dc08f181a64fa83": {
          "model_module": "@jupyter-widgets/base",
          "model_name": "LayoutModel",
          "model_module_version": "1.2.0",
          "state": {
            "_view_name": "LayoutView",
            "grid_template_rows": null,
            "right": null,
            "justify_content": null,
            "_view_module": "@jupyter-widgets/base",
            "overflow": null,
            "_model_module_version": "1.2.0",
            "_view_count": null,
            "flex_flow": null,
            "width": null,
            "min_width": null,
            "border": null,
            "align_items": null,
            "bottom": null,
            "_model_module": "@jupyter-widgets/base",
            "top": null,
            "grid_column": null,
            "overflow_y": null,
            "overflow_x": null,
            "grid_auto_flow": null,
            "grid_area": null,
            "grid_template_columns": null,
            "flex": null,
            "_model_name": "LayoutModel",
            "justify_items": null,
            "grid_row": null,
            "max_height": null,
            "align_content": null,
            "visibility": null,
            "align_self": null,
            "height": null,
            "min_height": null,
            "padding": null,
            "grid_auto_rows": null,
            "grid_gap": null,
            "max_width": null,
            "order": null,
            "_view_module_version": "1.2.0",
            "grid_template_areas": null,
            "object_position": null,
            "object_fit": null,
            "grid_auto_columns": null,
            "margin": null,
            "display": null,
            "left": null
          }
        }
      }
    }
  },
  "nbformat_minor": 0,
  "nbformat": 4,
  "cells": [
    {
      "cell_type": "code",
      "source": [
        "# from google.colab import drive\n",
        "# drive.mount('/content/drive')\n",
        "!pwd"
      ],
      "metadata": {
        "id": "78565916",
        "outputId": "fb305b54-a298-448d-dd7a-aca26a673d4d",
        "papermill": {
          "duration": 0.682623,
          "end_time": "2021-09-07T04:24:06.034466",
          "exception": false,
          "start_time": "2021-09-07T04:24:05.351843",
          "status": "completed"
        },
        "tags": [],
        "execution": {
          "iopub.status.busy": "2022-01-08T07:32:28.239197Z",
          "iopub.execute_input": "2022-01-08T07:32:28.239656Z",
          "iopub.status.idle": "2022-01-08T07:32:29.047039Z",
          "shell.execute_reply.started": "2022-01-08T07:32:28.239500Z",
          "shell.execute_reply": "2022-01-08T07:32:29.046172Z"
        },
        "trusted": true,
        "colab": {
          "base_uri": "https://localhost:8080/"
        }
      },
      "execution_count": 1,
      "outputs": [
        {
          "output_type": "stream",
          "name": "stdout",
          "text": [
            "/content\n"
          ]
        }
      ]
    },
    {
      "cell_type": "code",
      "source": [
        "path = \"/kaggle/working/run_m_20\""
      ],
      "metadata": {
        "id": "011d8aa9",
        "papermill": {
          "duration": 0.046258,
          "end_time": "2021-09-07T04:24:06.120816",
          "exception": false,
          "start_time": "2021-09-07T04:24:06.074558",
          "status": "completed"
        },
        "tags": [],
        "execution": {
          "iopub.status.busy": "2022-01-08T07:32:29.049699Z",
          "iopub.execute_input": "2022-01-08T07:32:29.050262Z",
          "iopub.status.idle": "2022-01-08T07:32:29.054791Z",
          "shell.execute_reply.started": "2022-01-08T07:32:29.050206Z",
          "shell.execute_reply": "2022-01-08T07:32:29.054041Z"
        },
        "trusted": true
      },
      "execution_count": 2,
      "outputs": []
    },
    {
      "cell_type": "code",
      "source": [
        "import torch.nn as nn\n",
        "import torch.nn.functional as F\n",
        "\n",
        "import pandas as pd\n",
        "import numpy as np\n",
        "import matplotlib.pyplot as plt\n",
        "\n",
        "import torch\n",
        "import torchvision\n",
        "import torchvision.transforms as transforms\n",
        "from torch.utils.data import Dataset, DataLoader\n",
        "from torchvision import transforms, utils\n",
        "\n",
        "from matplotlib import pyplot as plt\n",
        "\n",
        "import copy\n",
        "\n",
        "# Ignore warnings\n",
        "import warnings\n",
        "warnings.filterwarnings(\"ignore\")\n",
        "\n",
        "torch.backends.cudnn.deterministic = True\n",
        "torch.backends.cudnn.benchmark = False\n"
      ],
      "metadata": {
        "id": "a8a0823b",
        "papermill": {
          "duration": 1.298287,
          "end_time": "2021-09-07T04:24:07.458952",
          "exception": false,
          "start_time": "2021-09-07T04:24:06.160665",
          "status": "completed"
        },
        "tags": [],
        "execution": {
          "iopub.status.busy": "2022-01-08T07:32:29.058701Z",
          "iopub.execute_input": "2022-01-08T07:32:29.059966Z",
          "iopub.status.idle": "2022-01-08T07:32:30.710799Z",
          "shell.execute_reply.started": "2022-01-08T07:32:29.059925Z",
          "shell.execute_reply": "2022-01-08T07:32:30.710033Z"
        },
        "trusted": true
      },
      "execution_count": 3,
      "outputs": []
    },
    {
      "cell_type": "code",
      "source": [
        "transform = transforms.Compose(\n",
        "    [transforms.ToTensor(),\n",
        "     transforms.Normalize((0.5, 0.5, 0.5), (0.5, 0.5, 0.5))])\n",
        "\n",
        "trainset = torchvision.datasets.CIFAR10(root='./data', train=True, download=True, transform=transform)\n",
        "\n",
        "\n",
        "testset = torchvision.datasets.CIFAR10(root='./data', train=False, download=True, transform=transform)\n",
        "\n",
        "trainloader = torch.utils.data.DataLoader(trainset, batch_size=10, shuffle=False)\n",
        "testloader = torch.utils.data.DataLoader(testset, batch_size=10, shuffle=False)\n",
        "\n",
        "\n",
        "classes = ('plane', 'car', 'bird', 'cat', 'deer', 'dog', 'frog', 'horse', 'ship', 'truck')\n",
        "\n",
        "foreground_classes = {'plane', 'car', 'bird'}\n",
        "\n",
        "background_classes = {'cat', 'deer', 'dog', 'frog', 'horse','ship', 'truck'}\n",
        "\n",
        "# print(type(foreground_classes))\n",
        "\n",
        "dataiter = iter(trainloader)\n",
        "background_data=[]\n",
        "background_label=[]\n",
        "foreground_data=[]\n",
        "foreground_label=[]\n",
        "batch_size=10\n",
        "\n",
        "for i in range(5000):   #5000*batch_size = 50000 data points\n",
        "  images, labels = dataiter.next()\n",
        "  for j in range(batch_size):\n",
        "    if(classes[labels[j]] in background_classes):\n",
        "      img = images[j].tolist()\n",
        "      background_data.append(img)\n",
        "      background_label.append(labels[j])\n",
        "    else:\n",
        "      img = images[j].tolist()\n",
        "      foreground_data.append(img)\n",
        "      foreground_label.append(labels[j])\n",
        "            \n",
        "foreground_data = torch.tensor(foreground_data)\n",
        "foreground_label = torch.tensor(foreground_label)\n",
        "background_data = torch.tensor(background_data)\n",
        "background_label = torch.tensor(background_label)\n",
        "    \n",
        "  "
      ],
      "metadata": {
        "id": "75656523",
        "outputId": "e564b999-9de3-46e4-8b70-f6d7d3e0fa6f",
        "papermill": {
          "duration": 59.641496,
          "end_time": "2021-09-07T04:25:07.140143",
          "exception": false,
          "start_time": "2021-09-07T04:24:07.498647",
          "status": "completed"
        },
        "tags": [],
        "execution": {
          "iopub.status.busy": "2022-01-08T07:32:30.712365Z",
          "iopub.execute_input": "2022-01-08T07:32:30.712630Z",
          "iopub.status.idle": "2022-01-08T07:33:28.196181Z",
          "shell.execute_reply.started": "2022-01-08T07:32:30.712571Z",
          "shell.execute_reply": "2022-01-08T07:33:28.195440Z"
        },
        "trusted": true,
        "colab": {
          "base_uri": "https://localhost:8080/",
          "height": 104,
          "referenced_widgets": [
            "02c7105a0bc44bac8845117bf1c772e4",
            "3740d7c3cb62456d9b21c44aea3662ec",
            "3565cd2edc2f4cada21b9a5863fae102",
            "fc0392fe82ef416ea8e795fc5534278a",
            "eff220009e16454ab36c46a1f6eef5fd",
            "aea4393e591c423492eb84a737ab2709",
            "4d387b613c99416b96af22a15e8cda2c",
            "bf27f1389fd6427683f8cd6dffecc16b",
            "f160162b46bc4482afe14799c58eabd8",
            "42664a21f9c840868bfc80cd1136486d",
            "cf1fb65cc94041568dc08f181a64fa83"
          ]
        }
      },
      "execution_count": 4,
      "outputs": [
        {
          "output_type": "stream",
          "name": "stdout",
          "text": [
            "Downloading https://www.cs.toronto.edu/~kriz/cifar-10-python.tar.gz to ./data/cifar-10-python.tar.gz\n"
          ]
        },
        {
          "output_type": "display_data",
          "data": {
            "application/vnd.jupyter.widget-view+json": {
              "model_id": "02c7105a0bc44bac8845117bf1c772e4",
              "version_minor": 0,
              "version_major": 2
            },
            "text/plain": [
              "  0%|          | 0/170498071 [00:00<?, ?it/s]"
            ]
          },
          "metadata": {}
        },
        {
          "output_type": "stream",
          "name": "stdout",
          "text": [
            "Extracting ./data/cifar-10-python.tar.gz to ./data\n",
            "Files already downloaded and verified\n"
          ]
        }
      ]
    },
    {
      "cell_type": "code",
      "source": [
        "foreground_data.element_size()"
      ],
      "metadata": {
        "id": "384ac238",
        "outputId": "14bbe825-8a0f-4e40-83d6-8e05d1cba5f8",
        "papermill": {
          "duration": 0.049825,
          "end_time": "2021-09-07T04:25:07.230785",
          "exception": false,
          "start_time": "2021-09-07T04:25:07.180960",
          "status": "completed"
        },
        "tags": [],
        "execution": {
          "iopub.status.busy": "2022-01-08T07:33:28.198349Z",
          "iopub.execute_input": "2022-01-08T07:33:28.198775Z",
          "iopub.status.idle": "2022-01-08T07:33:28.206449Z",
          "shell.execute_reply.started": "2022-01-08T07:33:28.198738Z",
          "shell.execute_reply": "2022-01-08T07:33:28.205631Z"
        },
        "trusted": true,
        "colab": {
          "base_uri": "https://localhost:8080/"
        }
      },
      "execution_count": 5,
      "outputs": [
        {
          "output_type": "execute_result",
          "data": {
            "text/plain": [
              "4"
            ]
          },
          "metadata": {},
          "execution_count": 5
        }
      ]
    },
    {
      "cell_type": "code",
      "source": [
        "fg1, fg2, fg3 = 0,1,2"
      ],
      "metadata": {
        "id": "f79864c3",
        "papermill": {
          "duration": 0.046638,
          "end_time": "2021-09-07T04:25:07.326675",
          "exception": false,
          "start_time": "2021-09-07T04:25:07.280037",
          "status": "completed"
        },
        "tags": [],
        "execution": {
          "iopub.status.busy": "2022-01-08T07:33:28.207688Z",
          "iopub.execute_input": "2022-01-08T07:33:28.208007Z",
          "iopub.status.idle": "2022-01-08T07:33:28.223933Z",
          "shell.execute_reply.started": "2022-01-08T07:33:28.207972Z",
          "shell.execute_reply": "2022-01-08T07:33:28.223298Z"
        },
        "trusted": true
      },
      "execution_count": 6,
      "outputs": []
    },
    {
      "cell_type": "code",
      "source": [
        "def imshow(img):\n",
        "  img = img / 2 + 0.5     # unnormalize\n",
        "  npimg = img#.numpy()\n",
        "  plt.imshow(np.transpose(npimg, (1, 2, 0)))\n",
        "  plt.show()"
      ],
      "metadata": {
        "id": "d25685ca",
        "papermill": {
          "duration": 0.046794,
          "end_time": "2021-09-07T04:25:07.413481",
          "exception": false,
          "start_time": "2021-09-07T04:25:07.366687",
          "status": "completed"
        },
        "tags": [],
        "execution": {
          "iopub.status.busy": "2022-01-08T07:33:28.225172Z",
          "iopub.execute_input": "2022-01-08T07:33:28.225495Z",
          "iopub.status.idle": "2022-01-08T07:33:28.233536Z",
          "shell.execute_reply.started": "2022-01-08T07:33:28.225457Z",
          "shell.execute_reply": "2022-01-08T07:33:28.232676Z"
        },
        "trusted": true
      },
      "execution_count": 7,
      "outputs": []
    },
    {
      "cell_type": "code",
      "source": [
        "# foreground_data.shape, foreground_label.shape, background_data.shape, background_label.shape"
      ],
      "metadata": {
        "id": "f850477e",
        "papermill": {
          "duration": 0.04571,
          "end_time": "2021-09-07T04:25:07.500323",
          "exception": false,
          "start_time": "2021-09-07T04:25:07.454613",
          "status": "completed"
        },
        "tags": [],
        "execution": {
          "iopub.status.busy": "2022-01-08T07:33:28.235041Z",
          "iopub.execute_input": "2022-01-08T07:33:28.235520Z",
          "iopub.status.idle": "2022-01-08T07:33:28.242233Z",
          "shell.execute_reply.started": "2022-01-08T07:33:28.235481Z",
          "shell.execute_reply": "2022-01-08T07:33:28.241391Z"
        },
        "trusted": true
      },
      "execution_count": 8,
      "outputs": []
    },
    {
      "cell_type": "code",
      "source": [
        "# val, idx = torch.max(background_data, dim=0, keepdims= True,)\n",
        "# torch.abs(val)"
      ],
      "metadata": {
        "id": "2c1770d8",
        "papermill": {
          "duration": 0.045884,
          "end_time": "2021-09-07T04:25:07.586318",
          "exception": false,
          "start_time": "2021-09-07T04:25:07.540434",
          "status": "completed"
        },
        "tags": [],
        "execution": {
          "iopub.status.busy": "2022-01-08T07:33:28.243347Z",
          "iopub.execute_input": "2022-01-08T07:33:28.244747Z",
          "iopub.status.idle": "2022-01-08T07:33:28.251659Z",
          "shell.execute_reply.started": "2022-01-08T07:33:28.244696Z",
          "shell.execute_reply": "2022-01-08T07:33:28.250932Z"
        },
        "trusted": true
      },
      "execution_count": 9,
      "outputs": []
    },
    {
      "cell_type": "code",
      "source": [
        "# mean_bg = torch.mean(background_data, dim=0, keepdims= True)\n",
        "# std_bg = torch.std(background_data, dim=0, keepdims= True)"
      ],
      "metadata": {
        "id": "8b8ec3b8",
        "papermill": {
          "duration": 0.046509,
          "end_time": "2021-09-07T04:25:07.673221",
          "exception": false,
          "start_time": "2021-09-07T04:25:07.626712",
          "status": "completed"
        },
        "tags": [],
        "execution": {
          "iopub.status.busy": "2022-01-08T07:33:28.252908Z",
          "iopub.execute_input": "2022-01-08T07:33:28.253361Z",
          "iopub.status.idle": "2022-01-08T07:33:28.259714Z",
          "shell.execute_reply.started": "2022-01-08T07:33:28.253325Z",
          "shell.execute_reply": "2022-01-08T07:33:28.259059Z"
        },
        "trusted": true
      },
      "execution_count": 10,
      "outputs": []
    },
    {
      "cell_type": "code",
      "source": [
        "# mean_bg.shape, std_bg.shape"
      ],
      "metadata": {
        "id": "dc577c5b",
        "papermill": {
          "duration": 0.045773,
          "end_time": "2021-09-07T04:25:07.759567",
          "exception": false,
          "start_time": "2021-09-07T04:25:07.713794",
          "status": "completed"
        },
        "tags": [],
        "execution": {
          "iopub.status.busy": "2022-01-08T07:33:28.261779Z",
          "iopub.execute_input": "2022-01-08T07:33:28.262783Z",
          "iopub.status.idle": "2022-01-08T07:33:28.268823Z",
          "shell.execute_reply.started": "2022-01-08T07:33:28.262756Z",
          "shell.execute_reply": "2022-01-08T07:33:28.268055Z"
        },
        "trusted": true
      },
      "execution_count": 11,
      "outputs": []
    },
    {
      "cell_type": "code",
      "source": [
        "# foreground_data = (foreground_data - mean_bg) / std_bg\n",
        "# background_data = (background_data - mean_bg) / std_bg"
      ],
      "metadata": {
        "id": "b03c8843",
        "papermill": {
          "duration": 0.045587,
          "end_time": "2021-09-07T04:25:07.845670",
          "exception": false,
          "start_time": "2021-09-07T04:25:07.800083",
          "status": "completed"
        },
        "tags": [],
        "execution": {
          "iopub.status.busy": "2022-01-08T07:33:28.270148Z",
          "iopub.execute_input": "2022-01-08T07:33:28.270586Z",
          "iopub.status.idle": "2022-01-08T07:33:28.280461Z",
          "shell.execute_reply.started": "2022-01-08T07:33:28.270507Z",
          "shell.execute_reply": "2022-01-08T07:33:28.279216Z"
        },
        "trusted": true
      },
      "execution_count": 12,
      "outputs": []
    },
    {
      "cell_type": "code",
      "source": [
        "# foreground_data.shape, foreground_label.shape, background_data.shape, background_label.shape"
      ],
      "metadata": {
        "id": "182a78d5",
        "papermill": {
          "duration": 0.045711,
          "end_time": "2021-09-07T04:25:07.931697",
          "exception": false,
          "start_time": "2021-09-07T04:25:07.885986",
          "status": "completed"
        },
        "tags": [],
        "execution": {
          "iopub.status.busy": "2022-01-08T07:33:28.281763Z",
          "iopub.execute_input": "2022-01-08T07:33:28.282242Z",
          "iopub.status.idle": "2022-01-08T07:33:28.288192Z",
          "shell.execute_reply.started": "2022-01-08T07:33:28.282200Z",
          "shell.execute_reply": "2022-01-08T07:33:28.287451Z"
        },
        "trusted": true
      },
      "execution_count": 13,
      "outputs": []
    },
    {
      "cell_type": "code",
      "source": [
        "# torch.sum(torch.isnan(foreground_data)), torch.sum(torch.isnan(background_data))"
      ],
      "metadata": {
        "id": "35086ac2",
        "papermill": {
          "duration": 0.045969,
          "end_time": "2021-09-07T04:25:08.017787",
          "exception": false,
          "start_time": "2021-09-07T04:25:07.971818",
          "status": "completed"
        },
        "tags": [],
        "execution": {
          "iopub.status.busy": "2022-01-08T07:33:28.293425Z",
          "iopub.execute_input": "2022-01-08T07:33:28.293890Z",
          "iopub.status.idle": "2022-01-08T07:33:28.297037Z",
          "shell.execute_reply.started": "2022-01-08T07:33:28.293859Z",
          "shell.execute_reply": "2022-01-08T07:33:28.296225Z"
        },
        "trusted": true
      },
      "execution_count": 14,
      "outputs": []
    },
    {
      "cell_type": "code",
      "source": [
        "# imshow(foreground_data[0])"
      ],
      "metadata": {
        "id": "38fbfd69",
        "papermill": {
          "duration": 0.047232,
          "end_time": "2021-09-07T04:25:08.105751",
          "exception": false,
          "start_time": "2021-09-07T04:25:08.058519",
          "status": "completed"
        },
        "tags": [],
        "execution": {
          "iopub.status.busy": "2022-01-08T07:33:28.298366Z",
          "iopub.execute_input": "2022-01-08T07:33:28.298815Z",
          "iopub.status.idle": "2022-01-08T07:33:28.305311Z",
          "shell.execute_reply.started": "2022-01-08T07:33:28.298763Z",
          "shell.execute_reply": "2022-01-08T07:33:28.304533Z"
        },
        "trusted": true
      },
      "execution_count": 15,
      "outputs": []
    },
    {
      "cell_type": "code",
      "source": [
        "# imshow(background_data[2])"
      ],
      "metadata": {
        "id": "5d6787f8",
        "papermill": {
          "duration": 0.047051,
          "end_time": "2021-09-07T04:25:08.192675",
          "exception": false,
          "start_time": "2021-09-07T04:25:08.145624",
          "status": "completed"
        },
        "tags": [],
        "execution": {
          "iopub.status.busy": "2022-01-08T07:33:28.306523Z",
          "iopub.execute_input": "2022-01-08T07:33:28.306971Z",
          "iopub.status.idle": "2022-01-08T07:33:28.313507Z",
          "shell.execute_reply.started": "2022-01-08T07:33:28.306936Z",
          "shell.execute_reply": "2022-01-08T07:33:28.312844Z"
        },
        "trusted": true
      },
      "execution_count": 16,
      "outputs": []
    },
    {
      "cell_type": "code",
      "source": [
        "def create_mosaic_img(bg_idx,fg_idx,fg): \n",
        "  \"\"\"\n",
        "  bg_idx : list of indexes of background_data[] to be used as background images in mosaic\n",
        "  fg_idx : index of image to be used as foreground image from foreground data\n",
        "  fg : at what position/index foreground image has to be stored out of 0-8\n",
        "  \"\"\"\n",
        "  image_list=[]\n",
        "  j=0\n",
        "  for i in range(20):  # m value \n",
        "    if i != fg:\n",
        "      image_list.append(background_data[bg_idx[j]])\n",
        "      j+=1\n",
        "    else: \n",
        "      image_list.append(foreground_data[fg_idx])\n",
        "      label = foreground_label[fg_idx] - fg1  # minus fg1 because our fore ground classes are fg1,fg2,fg3 but we have to store it as 0,1,2\n",
        "  #image_list = np.concatenate(image_list ,axis=0)\n",
        "  image_list = torch.stack(image_list) \n",
        "  return image_list,label"
      ],
      "metadata": {
        "id": "0cb21f83",
        "papermill": {
          "duration": 0.049282,
          "end_time": "2021-09-07T04:25:08.282507",
          "exception": false,
          "start_time": "2021-09-07T04:25:08.233225",
          "status": "completed"
        },
        "tags": [],
        "execution": {
          "iopub.status.busy": "2022-01-08T07:33:28.315732Z",
          "iopub.execute_input": "2022-01-08T07:33:28.317495Z",
          "iopub.status.idle": "2022-01-08T07:33:28.326096Z",
          "shell.execute_reply.started": "2022-01-08T07:33:28.317465Z",
          "shell.execute_reply": "2022-01-08T07:33:28.325406Z"
        },
        "trusted": true
      },
      "execution_count": 17,
      "outputs": []
    },
    {
      "cell_type": "code",
      "source": [
        "desired_num = 40000\n",
        "mosaic_list_of_images =[]      # list of mosaic images, each mosaic image is saved as list of 9 images\n",
        "fore_idx =[]                   # list of indexes at which foreground image is present in a mosaic image i.e from 0 to 9               \n",
        "mosaic_label=[]                # label of mosaic image = foreground class present in that mosaic\n",
        "list_set_labels = [] \n",
        "for i in range(desired_num):\n",
        "  set_idx = set()\n",
        "  np.random.seed(i)\n",
        "  bg_idx = np.random.randint(0,35000,19)\n",
        "  set_idx = set(background_label[bg_idx].tolist())\n",
        "  fg_idx = np.random.randint(0,15000)\n",
        "  set_idx.add(foreground_label[fg_idx].item())\n",
        "  fg = np.random.randint(0,20)\n",
        "  fore_idx.append(fg)\n",
        "  image_list,label = create_mosaic_img(bg_idx,fg_idx,fg)\n",
        "  mosaic_list_of_images.append(image_list)\n",
        "  mosaic_label.append(label)\n",
        "  list_set_labels.append(set_idx)"
      ],
      "metadata": {
        "id": "1b32022e",
        "papermill": {
          "duration": 13.989242,
          "end_time": "2021-09-07T04:25:22.314688",
          "exception": false,
          "start_time": "2021-09-07T04:25:08.325446",
          "status": "completed"
        },
        "tags": [],
        "execution": {
          "iopub.status.busy": "2022-01-08T07:33:28.328774Z",
          "iopub.execute_input": "2022-01-08T07:33:28.329044Z",
          "iopub.status.idle": "2022-01-08T07:33:40.707847Z",
          "shell.execute_reply.started": "2022-01-08T07:33:28.329007Z",
          "shell.execute_reply": "2022-01-08T07:33:40.707093Z"
        },
        "trusted": true
      },
      "execution_count": 18,
      "outputs": []
    },
    {
      "cell_type": "code",
      "source": [
        "# mosaic_list_of_images_train = torch.stack(mosaic_list_of_images)\n",
        "len(mosaic_list_of_images),mosaic_list_of_images[0].shape"
      ],
      "metadata": {
        "id": "c875aa8d",
        "outputId": "3a6a86d0-0592-47ea-a242-17b57cd9c819",
        "papermill": {
          "duration": 0.049758,
          "end_time": "2021-09-07T04:25:22.405448",
          "exception": false,
          "start_time": "2021-09-07T04:25:22.355690",
          "status": "completed"
        },
        "tags": [],
        "execution": {
          "iopub.status.busy": "2022-01-08T07:33:40.712070Z",
          "iopub.execute_input": "2022-01-08T07:33:40.712414Z",
          "iopub.status.idle": "2022-01-08T07:33:40.721178Z",
          "shell.execute_reply.started": "2022-01-08T07:33:40.712382Z",
          "shell.execute_reply": "2022-01-08T07:33:40.720463Z"
        },
        "trusted": true,
        "colab": {
          "base_uri": "https://localhost:8080/"
        }
      },
      "execution_count": 19,
      "outputs": [
        {
          "output_type": "execute_result",
          "data": {
            "text/plain": [
              "(40000, torch.Size([20, 3, 32, 32]))"
            ]
          },
          "metadata": {},
          "execution_count": 19
        }
      ]
    },
    {
      "cell_type": "code",
      "source": [
        "imshow(mosaic_list_of_images[0][1])"
      ],
      "metadata": {
        "id": "e93dbde7",
        "outputId": "bea57883-9987-4f89-8db7-12f5909e5b01",
        "papermill": {
          "duration": 0.187926,
          "end_time": "2021-09-07T04:25:22.633964",
          "exception": false,
          "start_time": "2021-09-07T04:25:22.446038",
          "status": "completed"
        },
        "tags": [],
        "execution": {
          "iopub.status.busy": "2022-01-08T07:33:40.722563Z",
          "iopub.execute_input": "2022-01-08T07:33:40.722880Z",
          "iopub.status.idle": "2022-01-08T07:33:40.924323Z",
          "shell.execute_reply.started": "2022-01-08T07:33:40.722832Z",
          "shell.execute_reply": "2022-01-08T07:33:40.923649Z"
        },
        "trusted": true,
        "colab": {
          "base_uri": "https://localhost:8080/",
          "height": 266
        }
      },
      "execution_count": 20,
      "outputs": [
        {
          "output_type": "display_data",
          "data": {
            "image/png": "[encoded data removed]",
            "text/plain": [
              "<Figure size 432x288 with 1 Axes>"
            ]
          },
          "metadata": {
            "needs_background": "light"
          }
        }
      ]
    },
    {
      "cell_type": "code",
      "source": [
        "# mean_train = torch.mean(mosaic_list_of_images_train[0:2500], dim=0, keepdims= True)\n",
        "# std_train = torch.std(mosaic_list_of_images_train[0:2500], dim=0, keepdims= True) \n",
        "# mosaic_list_of_images_train = (mosaic_list_of_images_train - mean_train) / std_train"
      ],
      "metadata": {
        "id": "cc189c28",
        "papermill": {
          "duration": 0.04781,
          "end_time": "2021-09-07T04:25:22.723440",
          "exception": false,
          "start_time": "2021-09-07T04:25:22.675630",
          "status": "completed"
        },
        "tags": [],
        "execution": {
          "iopub.status.busy": "2022-01-08T07:33:40.925726Z",
          "iopub.execute_input": "2022-01-08T07:33:40.926169Z",
          "iopub.status.idle": "2022-01-08T07:33:40.930466Z",
          "shell.execute_reply.started": "2022-01-08T07:33:40.926128Z",
          "shell.execute_reply": "2022-01-08T07:33:40.929650Z"
        },
        "trusted": true
      },
      "execution_count": 21,
      "outputs": []
    },
    {
      "cell_type": "code",
      "source": [
        "# imshow(mosaic_list_of_images_train[0][2])"
      ],
      "metadata": {
        "id": "7a23db8a",
        "papermill": {
          "duration": 0.047585,
          "end_time": "2021-09-07T04:25:22.811963",
          "exception": false,
          "start_time": "2021-09-07T04:25:22.764378",
          "status": "completed"
        },
        "tags": [],
        "execution": {
          "iopub.status.busy": "2022-01-08T07:33:40.931884Z",
          "iopub.execute_input": "2022-01-08T07:33:40.932687Z",
          "iopub.status.idle": "2022-01-08T07:33:40.938442Z",
          "shell.execute_reply.started": "2022-01-08T07:33:40.932649Z",
          "shell.execute_reply": "2022-01-08T07:33:40.937647Z"
        },
        "trusted": true
      },
      "execution_count": 22,
      "outputs": []
    },
    {
      "cell_type": "code",
      "source": [
        "class MosaicDataset(Dataset):\n",
        "  \"\"\"MosaicDataset dataset.\"\"\"\n",
        "\n",
        "  def __init__(self, mosaic_list_of_images, mosaic_label, fore_idx):\n",
        "    \"\"\"\n",
        "      Args:\n",
        "        csv_file (string): Path to the csv file with annotations.\n",
        "        root_dir (string): Directory with all the images.\n",
        "        transform (callable, optional): Optional transform to be applied\n",
        "            on a sample.\n",
        "    \"\"\"\n",
        "    self.mosaic = mosaic_list_of_images\n",
        "    self.label = mosaic_label\n",
        "    self.fore_idx = fore_idx\n",
        "\n",
        "  def __len__(self):\n",
        "    return len(self.label)\n",
        "\n",
        "  def __getitem__(self, idx):\n",
        "    return self.mosaic[idx] , self.label[idx], self.fore_idx[idx]\n",
        "\n",
        "batch = 100\n",
        "msd = MosaicDataset(mosaic_list_of_images[0:30000], mosaic_label[0:30000] , fore_idx[0:30000])\n",
        "train_loader = DataLoader( msd,batch_size= batch ,shuffle=True)\n",
        "\n",
        "test_data = MosaicDataset(mosaic_list_of_images[30000:], mosaic_label[30000:] , fore_idx[30000:])\n",
        "test_loader = DataLoader( test_data,batch_size= batch ,shuffle=False)"
      ],
      "metadata": {
        "id": "37034e13",
        "papermill": {
          "duration": 0.052183,
          "end_time": "2021-09-07T04:25:22.905246",
          "exception": false,
          "start_time": "2021-09-07T04:25:22.853063",
          "status": "completed"
        },
        "tags": [],
        "execution": {
          "iopub.status.busy": "2022-01-08T07:33:40.939942Z",
          "iopub.execute_input": "2022-01-08T07:33:40.940885Z",
          "iopub.status.idle": "2022-01-08T07:33:40.951380Z",
          "shell.execute_reply.started": "2022-01-08T07:33:40.940843Z",
          "shell.execute_reply": "2022-01-08T07:33:40.950662Z"
        },
        "trusted": true
      },
      "execution_count": 23,
      "outputs": []
    },
    {
      "cell_type": "code",
      "source": [
        "del foreground_data\n",
        "del background_data"
      ],
      "metadata": {
        "id": "75e865db",
        "papermill": {
          "duration": 0.06772,
          "end_time": "2021-09-07T04:25:23.014391",
          "exception": false,
          "start_time": "2021-09-07T04:25:22.946671",
          "status": "completed"
        },
        "tags": [],
        "execution": {
          "iopub.status.busy": "2022-01-08T07:33:40.954349Z",
          "iopub.execute_input": "2022-01-08T07:33:40.954753Z",
          "iopub.status.idle": "2022-01-08T07:33:40.984509Z",
          "shell.execute_reply.started": "2022-01-08T07:33:40.954725Z",
          "shell.execute_reply": "2022-01-08T07:33:40.983798Z"
        },
        "trusted": true
      },
      "execution_count": 24,
      "outputs": []
    },
    {
      "cell_type": "code",
      "source": [
        "class Focus(nn.Module):\n",
        "  def __init__(self):\n",
        "    super(Focus, self).__init__()\n",
        "\n",
        "    self.conv1 = nn.Conv2d(in_channels=3, out_channels=32, kernel_size=3, padding=0, bias=False)\n",
        "    self.pool = nn.MaxPool2d(2, 2)\n",
        "    self.conv2 = nn.Conv2d(in_channels=32, out_channels=64, kernel_size=3, padding=0, bias=False)\n",
        "    self.conv3 = nn.Conv2d(in_channels=64, out_channels=64, kernel_size=3, padding=0, bias=False)\n",
        "    self.fc1 = nn.Linear(1024, 512, bias=False)\n",
        "    self.fc2 = nn.Linear(512, 64, bias=False)\n",
        "    self.fc3 = nn.Linear(64, 10, bias=False)\n",
        "    self.fc4 = nn.Linear(10,1, bias=False)\n",
        "\n",
        "    torch.nn.init.xavier_normal_(self.conv1.weight)\n",
        "    torch.nn.init.xavier_normal_(self.conv2.weight)\n",
        "    torch.nn.init.xavier_normal_(self.conv3.weight)\n",
        "    torch.nn.init.xavier_normal_(self.fc1.weight)\n",
        "    torch.nn.init.xavier_normal_(self.fc2.weight)\n",
        "    torch.nn.init.xavier_normal_(self.fc3.weight)\n",
        "    torch.nn.init.xavier_normal_(self.fc4.weight)\n",
        "\n",
        "  def forward(self,z):  #y is avg image #z batch of list of 9 images\n",
        "    batch = z.size(0)\n",
        "    patches = z.size(1)\n",
        "    z = z.view(batch*patches,3,32,32)\n",
        "    alpha =  self.helper(z)\n",
        "    alpha = alpha.view(batch,patches,-1)\n",
        "    z = z.view(batch,patches,3,32,32)\n",
        "    #print(alpha.shape,z.shape)\n",
        "    alpha = F.softmax(alpha,dim=1)\n",
        "\n",
        "    x = torch.sum(alpha[:,:,:,None,None]*z,dim=1)\n",
        "\n",
        "    #alpha =alpha.view(batch,patches,-1)\n",
        "\n",
        "\n",
        "\n",
        "    return alpha[:,:,0],x # alpha, averaged data\n",
        "    \n",
        "  def helper(self, x):\n",
        "    x = self.pool(F.relu(self.conv1(x)))\n",
        "    x = self.pool(F.relu(self.conv2(x)))\n",
        "    # print(x.shape)\n",
        "    x = (F.relu(self.conv3(x)))\n",
        "    x =  x.view(x.size(0), -1)\n",
        "    # print(x.shape)\n",
        "    x = F.relu(self.fc1(x))\n",
        "    x = F.relu(self.fc2(x))\n",
        "    x = F.relu(self.fc3(x))\n",
        "    x = self.fc4(x)\n",
        "    return x"
      ],
      "metadata": {
        "id": "ad082da7",
        "papermill": {
          "duration": 0.05913,
          "end_time": "2021-09-07T04:25:23.115620",
          "exception": false,
          "start_time": "2021-09-07T04:25:23.056490",
          "status": "completed"
        },
        "tags": [],
        "execution": {
          "iopub.status.busy": "2022-01-08T07:33:40.987858Z",
          "iopub.execute_input": "2022-01-08T07:33:40.988544Z",
          "iopub.status.idle": "2022-01-08T07:33:41.006920Z",
          "shell.execute_reply.started": "2022-01-08T07:33:40.988512Z",
          "shell.execute_reply": "2022-01-08T07:33:41.006103Z"
        },
        "trusted": true
      },
      "execution_count": 25,
      "outputs": []
    },
    {
      "cell_type": "code",
      "source": [
        "class Classification(nn.Module):\n",
        "  def __init__(self):\n",
        "    super(Classification, self).__init__()\n",
        "    self.conv1 = nn.Conv2d(3, 6, 5)\n",
        "    self.pool = nn.MaxPool2d(2, 2)\n",
        "    self.fc1 = nn.Linear(6 * 14 * 14, 120)\n",
        "    self.fc2 = nn.Linear(120, 84)\n",
        "    self.fc3 = nn.Linear(84, 10)\n",
        "    self.fc4 = nn.Linear(10,3)\n",
        "\n",
        "    torch.nn.init.xavier_normal_(self.conv1.weight)\n",
        "    torch.nn.init.zeros_(self.conv1.bias)\n",
        "    torch.nn.init.xavier_normal_(self.fc1.weight)\n",
        "    torch.nn.init.zeros_(self.fc1.bias)\n",
        "    torch.nn.init.xavier_normal_(self.fc2.weight)\n",
        "    torch.nn.init.zeros_(self.fc2.bias)\n",
        "    torch.nn.init.xavier_normal_(self.fc3.weight)\n",
        "    torch.nn.init.zeros_(self.fc3.bias)\n",
        "    torch.nn.init.xavier_normal_(self.fc4.weight)\n",
        "    torch.nn.init.zeros_(self.fc4.bias)\n",
        "\n",
        "  def forward(self,z): \n",
        "    y1 = self.pool(F.relu(self.conv1(z)))\n",
        "    #print(y1.shape)\n",
        "    y1 = y1.view(-1, 6 * 14 * 14)\n",
        "\n",
        "    y1 = F.relu(self.fc1(y1))\n",
        "    y1 = F.relu(self.fc2(y1))\n",
        "    y1 = F.relu(self.fc3(y1))\n",
        "    y1 = self.fc4(y1)\n",
        "    return y1 "
      ],
      "metadata": {
        "id": "2e7438f1",
        "papermill": {
          "duration": 0.052934,
          "end_time": "2021-09-07T04:25:23.298893",
          "exception": false,
          "start_time": "2021-09-07T04:25:23.245959",
          "status": "completed"
        },
        "tags": [],
        "execution": {
          "iopub.status.busy": "2022-01-08T07:33:41.008658Z",
          "iopub.execute_input": "2022-01-08T07:33:41.009460Z",
          "iopub.status.idle": "2022-01-08T07:33:41.022037Z",
          "shell.execute_reply.started": "2022-01-08T07:33:41.009417Z",
          "shell.execute_reply": "2022-01-08T07:33:41.021141Z"
        },
        "trusted": true
      },
      "execution_count": 26,
      "outputs": []
    },
    {
      "cell_type": "code",
      "source": [
        "seed_set = 14\n",
        "torch.manual_seed(seed_set)\n",
        "focus_net = Focus().double()\n",
        "focus_net = focus_net.to(\"cuda\")"
      ],
      "metadata": {
        "id": "ac088f8b",
        "papermill": {
          "duration": 4.601721,
          "end_time": "2021-09-07T04:25:27.942039",
          "exception": false,
          "start_time": "2021-09-07T04:25:23.340318",
          "status": "completed"
        },
        "tags": [],
        "execution": {
          "iopub.status.busy": "2022-01-08T07:33:41.023556Z",
          "iopub.execute_input": "2022-01-08T07:33:41.023947Z",
          "iopub.status.idle": "2022-01-08T07:33:44.023164Z",
          "shell.execute_reply.started": "2022-01-08T07:33:41.023911Z",
          "shell.execute_reply": "2022-01-08T07:33:44.022424Z"
        },
        "trusted": true
      },
      "execution_count": 39,
      "outputs": []
    },
    {
      "cell_type": "code",
      "source": [
        "focus_net.fc3.weight.shape,focus_net.fc4.weight.shape"
      ],
      "metadata": {
        "id": "6cd61b4d",
        "outputId": "3a96a2f6-1aa3-44f6-f6d6-0684e1579d48",
        "papermill": {
          "duration": 0.052486,
          "end_time": "2021-09-07T04:25:28.036690",
          "exception": false,
          "start_time": "2021-09-07T04:25:27.984204",
          "status": "completed"
        },
        "tags": [],
        "execution": {
          "iopub.status.busy": "2022-01-08T07:33:44.024615Z",
          "iopub.execute_input": "2022-01-08T07:33:44.024869Z",
          "iopub.status.idle": "2022-01-08T07:33:44.031781Z",
          "shell.execute_reply.started": "2022-01-08T07:33:44.024834Z",
          "shell.execute_reply": "2022-01-08T07:33:44.030855Z"
        },
        "trusted": true,
        "colab": {
          "base_uri": "https://localhost:8080/"
        }
      },
      "execution_count": 40,
      "outputs": [
        {
          "output_type": "execute_result",
          "data": {
            "text/plain": [
              "(torch.Size([10, 64]), torch.Size([1, 10]))"
            ]
          },
          "metadata": {},
          "execution_count": 40
        }
      ]
    },
    {
      "cell_type": "code",
      "source": [
        "focus_net.fc3.weight.data[5:,:] = focus_net.fc3.weight.data[:5,:] #torch.nn.Parameter(torch.tensor([last_layer]) )\n",
        "# (focus_net.fc3.weight[:5,:]== focus_net.fc3.weight[5:,:] )"
      ],
      "metadata": {
        "id": "f522eaac",
        "papermill": {
          "duration": 0.050181,
          "end_time": "2021-09-07T04:25:28.129109",
          "exception": false,
          "start_time": "2021-09-07T04:25:28.078928",
          "status": "completed"
        },
        "tags": [],
        "execution": {
          "iopub.status.busy": "2022-01-08T07:33:44.033191Z",
          "iopub.execute_input": "2022-01-08T07:33:44.034023Z",
          "iopub.status.idle": "2022-01-08T07:33:44.042147Z",
          "shell.execute_reply.started": "2022-01-08T07:33:44.033986Z",
          "shell.execute_reply": "2022-01-08T07:33:44.041471Z"
        },
        "trusted": true
      },
      "execution_count": 41,
      "outputs": []
    },
    {
      "cell_type": "code",
      "source": [
        "focus_net.fc4.weight.data[:,5:] = -focus_net.fc4.weight.data[:,:5] #torch.nn.Parameter(torch.tensor([last_layer]) )\n",
        "# focus_net.fc4.weight"
      ],
      "metadata": {
        "id": "4c7f0a9e",
        "papermill": {
          "duration": 0.053346,
          "end_time": "2021-09-07T04:25:28.224826",
          "exception": false,
          "start_time": "2021-09-07T04:25:28.171480",
          "status": "completed"
        },
        "tags": [],
        "execution": {
          "iopub.status.busy": "2022-01-08T07:33:44.043469Z",
          "iopub.execute_input": "2022-01-08T07:33:44.044216Z",
          "iopub.status.idle": "2022-01-08T07:33:44.057948Z",
          "shell.execute_reply.started": "2022-01-08T07:33:44.044177Z",
          "shell.execute_reply": "2022-01-08T07:33:44.057284Z"
        },
        "trusted": true
      },
      "execution_count": 42,
      "outputs": []
    },
    {
      "cell_type": "code",
      "source": [
        "focus_net = focus_net.double().to(\"cuda\")"
      ],
      "metadata": {
        "id": "2ecacad8",
        "papermill": {
          "duration": 0.048822,
          "end_time": "2021-09-07T04:25:28.319209",
          "exception": false,
          "start_time": "2021-09-07T04:25:28.270387",
          "status": "completed"
        },
        "tags": [],
        "execution": {
          "iopub.status.busy": "2022-01-08T07:33:44.059307Z",
          "iopub.execute_input": "2022-01-08T07:33:44.059797Z",
          "iopub.status.idle": "2022-01-08T07:33:44.063886Z",
          "shell.execute_reply.started": "2022-01-08T07:33:44.059760Z",
          "shell.execute_reply": "2022-01-08T07:33:44.063233Z"
        },
        "trusted": true
      },
      "execution_count": 43,
      "outputs": []
    },
    {
      "cell_type": "code",
      "source": [
        "torch.manual_seed(seed_set)\n",
        "classify = Classification().double()\n",
        "classify = classify.to(\"cuda\")"
      ],
      "metadata": {
        "id": "6222b14b",
        "papermill": {
          "duration": 0.054116,
          "end_time": "2021-09-07T04:25:28.675801",
          "exception": false,
          "start_time": "2021-09-07T04:25:28.621685",
          "status": "completed"
        },
        "tags": [],
        "execution": {
          "iopub.status.busy": "2022-01-08T07:33:44.065292Z",
          "iopub.execute_input": "2022-01-08T07:33:44.065871Z",
          "iopub.status.idle": "2022-01-08T07:33:44.077149Z",
          "shell.execute_reply.started": "2022-01-08T07:33:44.065833Z",
          "shell.execute_reply": "2022-01-08T07:33:44.076404Z"
        },
        "trusted": true
      },
      "execution_count": 44,
      "outputs": []
    },
    {
      "cell_type": "code",
      "source": [
        "import torch.optim as optim\n",
        "criterion = nn.CrossEntropyLoss()\n",
        "optimizer_classify = optim.Adam(classify.parameters(), lr=0.0005  ) #, momentum=0.9)\n",
        "optimizer_focus = optim.Adam(focus_net.parameters(), lr=0.0005  ) #, momentum=0.9)"
      ],
      "metadata": {
        "id": "15688e20",
        "papermill": {
          "duration": 0.050348,
          "end_time": "2021-09-07T04:25:29.032480",
          "exception": false,
          "start_time": "2021-09-07T04:25:28.982132",
          "status": "completed"
        },
        "tags": [],
        "execution": {
          "iopub.status.busy": "2022-01-08T07:33:44.079928Z",
          "iopub.execute_input": "2022-01-08T07:33:44.081620Z",
          "iopub.status.idle": "2022-01-08T07:33:44.086270Z",
          "shell.execute_reply.started": "2022-01-08T07:33:44.081573Z",
          "shell.execute_reply": "2022-01-08T07:33:44.085338Z"
        },
        "trusted": true
      },
      "execution_count": 45,
      "outputs": []
    },
    {
      "cell_type": "code",
      "source": [
        "col1=[]\n",
        "col2=[]\n",
        "col3=[]\n",
        "col4=[]\n",
        "col5=[]\n",
        "col6=[]\n",
        "col7=[]\n",
        "col8=[]\n",
        "col9=[]\n",
        "col10=[]\n",
        "col11=[]\n",
        "col12=[]\n",
        "col13=[]"
      ],
      "metadata": {
        "id": "65231afa",
        "papermill": {
          "duration": 0.057336,
          "end_time": "2021-09-07T04:25:29.133542",
          "exception": false,
          "start_time": "2021-09-07T04:25:29.076206",
          "status": "completed"
        },
        "tags": [],
        "execution": {
          "iopub.status.busy": "2022-01-08T07:33:44.087620Z",
          "iopub.execute_input": "2022-01-08T07:33:44.087947Z",
          "iopub.status.idle": "2022-01-08T07:33:44.095393Z",
          "shell.execute_reply.started": "2022-01-08T07:33:44.087912Z",
          "shell.execute_reply": "2022-01-08T07:33:44.094670Z"
        },
        "trusted": true
      },
      "execution_count": 46,
      "outputs": []
    },
    {
      "cell_type": "code",
      "source": [
        "correct = 0\n",
        "total = 0\n",
        "count = 0\n",
        "flag = 1\n",
        "focus_true_pred_true =0\n",
        "focus_false_pred_true =0\n",
        "focus_true_pred_false =0\n",
        "focus_false_pred_false =0\n",
        "\n",
        "argmax_more_than_half = 0\n",
        "argmax_less_than_half =0\n",
        "\n",
        "with torch.no_grad():\n",
        "  for data in train_loader:\n",
        "    inputs, labels , fore_idx = data\n",
        "    inputs = inputs.double()\n",
        "    inputs, labels , fore_idx = inputs.to(\"cuda\"),labels.to(\"cuda\"), fore_idx.to(\"cuda\")\n",
        "    alphas, avg_images = focus_net(inputs)\n",
        "    # print(alphas)\n",
        "    outputs = classify(avg_images)\n",
        "\n",
        "    _, predicted = torch.max(outputs.data, 1)\n",
        "\n",
        "    for j in range(labels.size(0)):\n",
        "      count += 1\n",
        "      focus = torch.argmax(alphas[j])\n",
        "      if alphas[j][focus] >= 0.5 :\n",
        "        argmax_more_than_half += 1\n",
        "      else:\n",
        "        argmax_less_than_half += 1\n",
        "\n",
        "      if(focus == fore_idx[j] and predicted[j] == labels[j]):\n",
        "          focus_true_pred_true += 1\n",
        "      elif(focus != fore_idx[j] and predicted[j] == labels[j]):\n",
        "        focus_false_pred_true += 1\n",
        "      elif(focus == fore_idx[j] and predicted[j] != labels[j]):\n",
        "        focus_true_pred_false += 1\n",
        "      elif(focus != fore_idx[j] and predicted[j] != labels[j]):\n",
        "        focus_false_pred_false += 1\n",
        "\n",
        "    total += labels.size(0)\n",
        "    correct += (predicted == labels).sum().item()\n",
        "\n",
        "print('Accuracy of the network on the 30000 train images: %f %%' % ( 100 * correct / total))\n",
        "print(\"total correct\", correct)\n",
        "print(\"total train set images\", total)\n",
        "\n",
        "print(\"focus_true_pred_true %d =============> FTPT : %f %%\" % (focus_true_pred_true , (100 * focus_true_pred_true / total) ) )\n",
        "print(\"focus_false_pred_true %d =============> FFPT : %f %%\" % (focus_false_pred_true, (100 * focus_false_pred_true / total) ) )\n",
        "print(\"focus_true_pred_false %d =============> FTPF : %f %%\" %( focus_true_pred_false , ( 100 * focus_true_pred_false / total) ) )\n",
        "print(\"focus_false_pred_false %d =============> FFPF : %f %%\" % (focus_false_pred_false, ( 100 * focus_false_pred_false / total) ) )\n",
        "\n",
        "print(\"argmax_more_than_half ==================> \",argmax_more_than_half)\n",
        "print(\"argmax_less_than_half ==================> \",argmax_less_than_half)\n",
        "print(count)\n",
        "\n",
        "print(\"=\"*100)\n",
        "\n",
        "col1.append(0)\n",
        "col2.append(argmax_more_than_half)\n",
        "col3.append(argmax_less_than_half)\n",
        "col4.append(focus_true_pred_true)\n",
        "col5.append(focus_false_pred_true)\n",
        "col6.append(focus_true_pred_false)\n",
        "col7.append(focus_false_pred_false)"
      ],
      "metadata": {
        "id": "7d709fc4",
        "outputId": "e6e4470d-7ecc-4c22-e500-2df55ded7b3c",
        "papermill": {
          "duration": 24.179999,
          "end_time": "2021-09-07T04:25:53.358163",
          "exception": false,
          "start_time": "2021-09-07T04:25:29.178164",
          "status": "completed"
        },
        "tags": [],
        "execution": {
          "iopub.status.busy": "2022-01-08T07:33:44.096828Z",
          "iopub.execute_input": "2022-01-08T07:33:44.097424Z",
          "iopub.status.idle": "2022-01-08T07:34:09.605704Z",
          "shell.execute_reply.started": "2022-01-08T07:33:44.097372Z",
          "shell.execute_reply": "2022-01-08T07:34:09.604942Z"
        },
        "trusted": true,
        "colab": {
          "base_uri": "https://localhost:8080/"
        }
      },
      "execution_count": 47,
      "outputs": [
        {
          "output_type": "stream",
          "name": "stdout",
          "text": [
            "Accuracy of the network on the 30000 train images: 32.293333 %\n",
            "total correct 9688\n",
            "total train set images 30000\n",
            "focus_true_pred_true 484 =============> FTPT : 1.613333 %\n",
            "focus_false_pred_true 9204 =============> FFPT : 30.680000 %\n",
            "focus_true_pred_false 1045 =============> FTPF : 3.483333 %\n",
            "focus_false_pred_false 19267 =============> FFPF : 64.223333 %\n",
            "argmax_more_than_half ==================>  0\n",
            "argmax_less_than_half ==================>  30000\n",
            "30000\n",
            "====================================================================================================\n"
          ]
        }
      ]
    },
    {
      "cell_type": "code",
      "source": [
        "correct = 0\n",
        "total = 0\n",
        "count = 0\n",
        "flag = 1\n",
        "focus_true_pred_true =0\n",
        "focus_false_pred_true =0\n",
        "focus_true_pred_false =0\n",
        "focus_false_pred_false =0\n",
        "\n",
        "argmax_more_than_half = 0\n",
        "argmax_less_than_half =0\n",
        "\n",
        "with torch.no_grad():\n",
        "  for data in test_loader:\n",
        "    inputs, labels , fore_idx = data\n",
        "    inputs = inputs.double()\n",
        "    inputs, labels , fore_idx = inputs.to(\"cuda\"),labels.to(\"cuda\"), fore_idx.to(\"cuda\")\n",
        "    alphas, avg_images = focus_net(inputs)\n",
        "    outputs = classify(avg_images)\n",
        "\n",
        "    _, predicted = torch.max(outputs.data, 1)\n",
        "\n",
        "    for j in range(labels.size(0)):\n",
        "      focus = torch.argmax(alphas[j])\n",
        "      if alphas[j][focus] >= 0.5 :\n",
        "        argmax_more_than_half += 1\n",
        "      else:\n",
        "        argmax_less_than_half += 1\n",
        "\n",
        "      if(focus == fore_idx[j] and predicted[j] == labels[j]):\n",
        "          focus_true_pred_true += 1\n",
        "      elif(focus != fore_idx[j] and predicted[j] == labels[j]):\n",
        "        focus_false_pred_true += 1\n",
        "      elif(focus == fore_idx[j] and predicted[j] != labels[j]):\n",
        "        focus_true_pred_false += 1\n",
        "      elif(focus != fore_idx[j] and predicted[j] != labels[j]):\n",
        "        focus_false_pred_false += 1\n",
        "\n",
        "    total += labels.size(0)\n",
        "    correct += (predicted == labels).sum().item()\n",
        "\n",
        "print('Accuracy of the network on the 10000 test images: %f %%' % (\n",
        "    100 * correct / total))\n",
        "print(\"total correct\", correct)\n",
        "print(\"total train set images\", total)\n",
        "\n",
        "print(\"focus_true_pred_true %d =============> FTPT : %f %%\" % (focus_true_pred_true , (100 * focus_true_pred_true / total) ) )\n",
        "print(\"focus_false_pred_true %d =============> FFPT : %f %%\" % (focus_false_pred_true, (100 * focus_false_pred_true / total) ) )\n",
        "print(\"focus_true_pred_false %d =============> FTPF : %f %%\" %( focus_true_pred_false , ( 100 * focus_true_pred_false / total) ) )\n",
        "print(\"focus_false_pred_false %d =============> FFPF : %f %%\" % (focus_false_pred_false, ( 100 * focus_false_pred_false / total) ) )\n",
        "\n",
        "print(\"argmax_more_than_half ==================> \",argmax_more_than_half)\n",
        "print(\"argmax_less_than_half ==================> \",argmax_less_than_half)\n",
        "col8.append(argmax_more_than_half)\n",
        "col9.append(argmax_less_than_half)\n",
        "col10.append(focus_true_pred_true)\n",
        "col11.append(focus_false_pred_true)\n",
        "col12.append(focus_true_pred_false)\n",
        "col13.append(focus_false_pred_false)"
      ],
      "metadata": {
        "id": "84ca9d03",
        "outputId": "7e5962af-8703-46f0-94d3-158d147a5786",
        "papermill": {
          "duration": 7.708972,
          "end_time": "2021-09-07T04:26:01.109508",
          "exception": false,
          "start_time": "2021-09-07T04:25:53.400536",
          "status": "completed"
        },
        "tags": [],
        "execution": {
          "iopub.status.busy": "2022-01-08T07:34:09.607215Z",
          "iopub.execute_input": "2022-01-08T07:34:09.607479Z",
          "iopub.status.idle": "2022-01-08T07:34:16.005746Z",
          "shell.execute_reply.started": "2022-01-08T07:34:09.607442Z",
          "shell.execute_reply": "2022-01-08T07:34:16.005023Z"
        },
        "trusted": true,
        "colab": {
          "base_uri": "https://localhost:8080/"
        }
      },
      "execution_count": 48,
      "outputs": [
        {
          "output_type": "stream",
          "name": "stdout",
          "text": [
            "Accuracy of the network on the 10000 test images: 32.510000 %\n",
            "total correct 3251\n",
            "total train set images 10000\n",
            "focus_true_pred_true 161 =============> FTPT : 1.610000 %\n",
            "focus_false_pred_true 3090 =============> FFPT : 30.900000 %\n",
            "focus_true_pred_false 296 =============> FTPF : 2.960000 %\n",
            "focus_false_pred_false 6453 =============> FFPF : 64.530000 %\n",
            "argmax_more_than_half ==================>  0\n",
            "argmax_less_than_half ==================>  10000\n"
          ]
        }
      ]
    },
    {
      "cell_type": "code",
      "source": [
        "nos_epochs = 200\n",
        "focus_true_pred_true =0\n",
        "focus_false_pred_true =0\n",
        "focus_true_pred_false =0\n",
        "focus_false_pred_false =0\n",
        "\n",
        "argmax_more_than_half = 0\n",
        "argmax_less_than_half =0\n",
        "\n",
        "\n",
        "for epoch in range(nos_epochs):  # loop over the dataset multiple times\n",
        "\n",
        "  focus_true_pred_true =0\n",
        "  focus_false_pred_true =0\n",
        "  focus_true_pred_false =0\n",
        "  focus_false_pred_false =0\n",
        "  \n",
        "  argmax_more_than_half = 0\n",
        "  argmax_less_than_half =0\n",
        "  \n",
        "  running_loss = 0.0\n",
        "  epoch_loss = []\n",
        "  cnt=0\n",
        "\n",
        "  iteration = desired_num // batch\n",
        "  \n",
        "  #training data set\n",
        "  \n",
        "  for i, data in  enumerate(train_loader):\n",
        "    inputs , labels , fore_idx = data\n",
        "    inputs, labels = inputs.to(\"cuda\"), labels.to(\"cuda\")\n",
        "    inputs = inputs.double()\n",
        "    # zero the parameter gradients\n",
        "    \n",
        "    optimizer_focus.zero_grad()\n",
        "    optimizer_classify.zero_grad()\n",
        "    \n",
        "    alphas, avg_images = focus_net(inputs)\n",
        "    outputs = classify(avg_images)\n",
        "\n",
        "    _, predicted = torch.max(outputs.data, 1)\n",
        "#     print(outputs)\n",
        "#     print(outputs.shape,labels.shape , torch.argmax(outputs, dim=1))\n",
        "\n",
        "    loss = criterion(outputs, labels) \n",
        "    loss.backward()\n",
        "    optimizer_focus.step()\n",
        "    optimizer_classify.step()\n",
        "\n",
        "    running_loss += loss.item()\n",
        "    mini = 150\n",
        "    if cnt % mini == mini-1:    # print every 40 mini-batches\n",
        "      print('[%d, %5d] loss: %.3f' %(epoch + 1, cnt + 1, running_loss / mini))\n",
        "      epoch_loss.append(running_loss/mini)\n",
        "      running_loss = 0.0\n",
        "    cnt=cnt+1\n",
        "    \n",
        "    if epoch % 5 == 0:\n",
        "      for j in range (inputs.size(0)):\n",
        "        #print(alphas.shape)\n",
        "        focus = torch.argmax(alphas[j])\n",
        "\n",
        "        if(alphas[j][focus] >= 0.5):\n",
        "          argmax_more_than_half +=1\n",
        "        else:\n",
        "          argmax_less_than_half +=1\n",
        "\n",
        "        if(focus == fore_idx[j] and predicted[j] == labels[j]):\n",
        "          focus_true_pred_true += 1\n",
        "\n",
        "        elif(focus != fore_idx[j] and predicted[j] == labels[j]):\n",
        "          focus_false_pred_true +=1\n",
        "\n",
        "        elif(focus == fore_idx[j] and predicted[j] != labels[j]):\n",
        "          focus_true_pred_false +=1\n",
        "\n",
        "        elif(focus != fore_idx[j] and predicted[j] != labels[j]):\n",
        "          focus_false_pred_false +=1\n",
        "\n",
        "  if(np.mean(epoch_loss) <= 0.05):\n",
        "      break;\n",
        "\n",
        "  if epoch % 5 == 0:\n",
        "    col1.append(epoch + 1)\n",
        "    col2.append(argmax_more_than_half)\n",
        "    col3.append(argmax_less_than_half)\n",
        "    col4.append(focus_true_pred_true)\n",
        "    col5.append(focus_false_pred_true)\n",
        "    col6.append(focus_true_pred_false)\n",
        "    col7.append(focus_false_pred_false)\n",
        "    print(\"=\"*20)\n",
        "    print(\"Train FTPT : \", col4)\n",
        "    print(\"Train FFPT : \", col5)\n",
        "    #************************************************************************\n",
        "    #testing data set  \n",
        "    # focus_net.eval()\n",
        "    with torch.no_grad():\n",
        "      focus_true_pred_true =0\n",
        "      focus_false_pred_true =0\n",
        "      focus_true_pred_false =0\n",
        "      focus_false_pred_false =0\n",
        "\n",
        "      argmax_more_than_half = 0\n",
        "      argmax_less_than_half =0\n",
        "      for data in test_loader:\n",
        "        inputs, labels , fore_idx = data\n",
        "        inputs = inputs.double()\n",
        "        inputs, labels = inputs.to(\"cuda\"), labels.to(\"cuda\")\n",
        "        alphas, avg_images = focus_net(inputs)\n",
        "        outputs = classify(avg_images)\n",
        "        _, predicted = torch.max(outputs.data, 1)\n",
        "\n",
        "        for j in range (inputs.size(0)):\n",
        "          focus = torch.argmax(alphas[j],dim=-1)\n",
        "\n",
        "          if(alphas[j][focus] >= 0.5):\n",
        "            argmax_more_than_half +=1\n",
        "          else:\n",
        "            argmax_less_than_half +=1\n",
        "\n",
        "          if(focus == fore_idx[j] and predicted[j] == labels[j]):\n",
        "            focus_true_pred_true += 1\n",
        "\n",
        "          elif(focus != fore_idx[j] and predicted[j] == labels[j]):\n",
        "            focus_false_pred_true +=1\n",
        "\n",
        "          elif(focus == fore_idx[j] and predicted[j] != labels[j]):\n",
        "            focus_true_pred_false +=1\n",
        "\n",
        "          elif(focus != fore_idx[j] and predicted[j] != labels[j]):\n",
        "            focus_false_pred_false +=1\n",
        "      \n",
        "    col8.append(argmax_more_than_half)\n",
        "    col9.append(argmax_less_than_half)\n",
        "    col10.append(focus_true_pred_true)\n",
        "    col11.append(focus_false_pred_true)\n",
        "    col12.append(focus_true_pred_false)\n",
        "    col13.append(focus_false_pred_false)\n",
        "    print(\"Test FTPT : \", col10)\n",
        "    print(\"Test FFPT : \", col11)\n",
        "    print(\"=\"*20)\n",
        "    \n",
        "print('Finished Training')"
      ],
      "metadata": {
        "id": "032ee5e7",
        "outputId": "f76966e7-2222-4c97-8125-c645d953932b",
        "papermill": {
          "duration": 2693.805349,
          "end_time": "2021-09-07T05:10:54.957573",
          "exception": false,
          "start_time": "2021-09-07T04:26:01.152224",
          "status": "completed"
        },
        "tags": [],
        "execution": {
          "iopub.status.busy": "2022-01-08T07:34:16.007211Z",
          "iopub.execute_input": "2022-01-08T07:34:16.007463Z"
        },
        "trusted": true,
        "colab": {
          "base_uri": "https://localhost:8080/"
        }
      },
      "execution_count": 49,
      "outputs": [
        {
          "output_type": "stream",
          "name": "stdout",
          "text": [
            "[1,   150] loss: 1.088\n",
            "[1,   300] loss: 1.059\n",
            "====================\n",
            "Train FTPT :  [484, 2830]\n",
            "Train FFPT :  [9204, 9371]\n",
            "Test FTPT :  [161, 1706]\n",
            "Test FFPT :  [3090, 2727]\n",
            "====================\n",
            "[2,   150] loss: 1.019\n",
            "[2,   300] loss: 0.976\n",
            "[3,   150] loss: 0.918\n",
            "[3,   300] loss: 0.868\n",
            "[4,   150] loss: 0.791\n",
            "[4,   300] loss: 0.756\n",
            "[5,   150] loss: 0.690\n",
            "[5,   300] loss: 0.664\n",
            "[6,   150] loss: 0.602\n",
            "[6,   300] loss: 0.599\n",
            "====================\n",
            "Train FTPT :  [484, 2830, 13821]\n",
            "Train FFPT :  [9204, 9371, 8190]\n",
            "Test FTPT :  [161, 1706, 4480]\n",
            "Test FFPT :  [3090, 2727, 2702]\n",
            "====================\n",
            "[7,   150] loss: 0.554\n",
            "[7,   300] loss: 0.538\n",
            "[8,   150] loss: 0.495\n",
            "[8,   300] loss: 0.480\n",
            "[9,   150] loss: 0.448\n",
            "[9,   300] loss: 0.444\n",
            "[10,   150] loss: 0.407\n",
            "[10,   300] loss: 0.417\n",
            "[11,   150] loss: 0.359\n",
            "[11,   300] loss: 0.365\n",
            "====================\n",
            "Train FTPT :  [484, 2830, 13821, 17681]\n",
            "Train FFPT :  [9204, 9371, 8190, 7857]\n",
            "Test FTPT :  [161, 1706, 4480, 5651]\n",
            "Test FFPT :  [3090, 2727, 2702, 2569]\n",
            "====================\n",
            "[12,   150] loss: 0.351\n",
            "[12,   300] loss: 0.342\n",
            "[13,   150] loss: 0.314\n",
            "[13,   300] loss: 0.311\n",
            "[14,   150] loss: 0.289\n",
            "[14,   300] loss: 0.283\n",
            "[15,   150] loss: 0.263\n",
            "[15,   300] loss: 0.269\n",
            "[16,   150] loss: 0.243\n",
            "[16,   300] loss: 0.258\n",
            "====================\n",
            "Train FTPT :  [484, 2830, 13821, 17681, 19405]\n",
            "Train FFPT :  [9204, 9371, 8190, 7857, 7762]\n",
            "Test FTPT :  [161, 1706, 4480, 5651, 6124]\n",
            "Test FFPT :  [3090, 2727, 2702, 2569, 2425]\n",
            "====================\n",
            "[17,   150] loss: 0.226\n",
            "[17,   300] loss: 0.230\n",
            "[18,   150] loss: 0.206\n",
            "[18,   300] loss: 0.220\n",
            "[19,   150] loss: 0.185\n",
            "[19,   300] loss: 0.208\n",
            "[20,   150] loss: 0.176\n",
            "[20,   300] loss: 0.192\n",
            "[21,   150] loss: 0.171\n",
            "[21,   300] loss: 0.190\n",
            "====================\n",
            "Train FTPT :  [484, 2830, 13821, 17681, 19405, 20165]\n",
            "Train FFPT :  [9204, 9371, 8190, 7857, 7762, 7851]\n",
            "Test FTPT :  [161, 1706, 4480, 5651, 6124, 6309]\n",
            "Test FFPT :  [3090, 2727, 2702, 2569, 2425, 2260]\n",
            "====================\n",
            "[22,   150] loss: 0.146\n",
            "[22,   300] loss: 0.160\n",
            "[23,   150] loss: 0.151\n",
            "[23,   300] loss: 0.147\n",
            "[24,   150] loss: 0.123\n",
            "[24,   300] loss: 0.139\n",
            "[25,   150] loss: 0.115\n",
            "[25,   300] loss: 0.125\n",
            "[26,   150] loss: 0.101\n",
            "[26,   300] loss: 0.115\n",
            "====================\n",
            "Train FTPT :  [484, 2830, 13821, 17681, 19405, 20165, 20685]\n",
            "Train FFPT :  [9204, 9371, 8190, 7857, 7762, 7851, 8183]\n",
            "Test FTPT :  [161, 1706, 4480, 5651, 6124, 6309, 6274]\n",
            "Test FFPT :  [3090, 2727, 2702, 2569, 2425, 2260, 2374]\n",
            "====================\n",
            "[27,   150] loss: 0.093\n",
            "[27,   300] loss: 0.118\n",
            "[28,   150] loss: 0.098\n",
            "[28,   300] loss: 0.096\n",
            "[29,   150] loss: 0.081\n",
            "[29,   300] loss: 0.095\n",
            "[30,   150] loss: 0.082\n",
            "[30,   300] loss: 0.072\n",
            "[31,   150] loss: 0.054\n",
            "[31,   300] loss: 0.081\n",
            "====================\n",
            "Train FTPT :  [484, 2830, 13821, 17681, 19405, 20165, 20685, 20950]\n",
            "Train FFPT :  [9204, 9371, 8190, 7857, 7762, 7851, 8183, 8371]\n",
            "Test FTPT :  [161, 1706, 4480, 5651, 6124, 6309, 6274, 6279]\n",
            "Test FFPT :  [3090, 2727, 2702, 2569, 2425, 2260, 2374, 2253]\n",
            "====================\n",
            "[32,   150] loss: 0.077\n",
            "[32,   300] loss: 0.060\n",
            "[33,   150] loss: 0.047\n",
            "[33,   300] loss: 0.076\n",
            "[34,   150] loss: 0.067\n",
            "[34,   300] loss: 0.057\n",
            "[35,   150] loss: 0.048\n",
            "[35,   300] loss: 0.072\n",
            "[36,   150] loss: 0.075\n",
            "[36,   300] loss: 0.066\n",
            "====================\n",
            "Train FTPT :  [484, 2830, 13821, 17681, 19405, 20165, 20685, 20950, 20878]\n",
            "Train FFPT :  [9204, 9371, 8190, 7857, 7762, 7851, 8183, 8371, 8402]\n",
            "Test FTPT :  [161, 1706, 4480, 5651, 6124, 6309, 6274, 6279, 6187]\n",
            "Test FFPT :  [3090, 2727, 2702, 2569, 2425, 2260, 2374, 2253, 2369]\n",
            "====================\n",
            "[37,   150] loss: 0.050\n",
            "[37,   300] loss: 0.065\n",
            "[38,   150] loss: 0.035\n",
            "[38,   300] loss: 0.060\n",
            "Finished Training\n"
          ]
        }
      ]
    },
    {
      "cell_type": "code",
      "source": [
        "# torch.save(focus_net.state_dict(),path+\"_focus.pt\")\n",
        "# torch.save(classify.state_dict(),path+\"_classify.pt\")"
      ],
      "metadata": {
        "id": "543529a6",
        "papermill": {
          "duration": 0.156969,
          "end_time": "2021-09-07T05:10:55.354047",
          "exception": false,
          "start_time": "2021-09-07T05:10:55.197078",
          "status": "completed"
        },
        "tags": [],
        "trusted": true
      },
      "execution_count": 51,
      "outputs": []
    },
    {
      "cell_type": "code",
      "source": [
        "df_train = pd.DataFrame()\n",
        "df_test = pd.DataFrame()"
      ],
      "metadata": {
        "id": "4d1dc161",
        "papermill": {
          "duration": 0.103562,
          "end_time": "2021-09-07T05:10:55.551749",
          "exception": false,
          "start_time": "2021-09-07T05:10:55.448187",
          "status": "completed"
        },
        "tags": [],
        "trusted": true
      },
      "execution_count": 52,
      "outputs": []
    },
    {
      "cell_type": "code",
      "source": [
        "columns = [\"epochs\", \"argmax > 0.5\" ,\"argmax < 0.5\", \"focus_true_pred_true\", \"focus_false_pred_true\", \"focus_true_pred_false\", \"focus_false_pred_false\" ]"
      ],
      "metadata": {
        "id": "c4ef918b",
        "papermill": {
          "duration": 0.10782,
          "end_time": "2021-09-07T05:10:55.761096",
          "exception": false,
          "start_time": "2021-09-07T05:10:55.653276",
          "status": "completed"
        },
        "tags": [],
        "trusted": true
      },
      "execution_count": 53,
      "outputs": []
    },
    {
      "cell_type": "code",
      "source": [
        "df_train[columns[0]] = col1\n",
        "df_train[columns[1]] = col2\n",
        "df_train[columns[2]] = col3\n",
        "df_train[columns[3]] = col4\n",
        "df_train[columns[4]] = col5\n",
        "df_train[columns[5]] = col6\n",
        "df_train[columns[6]] = col7\n",
        "\n",
        "df_test[columns[0]] = col1\n",
        "df_test[columns[1]] = col8\n",
        "df_test[columns[2]] = col9\n",
        "df_test[columns[3]] = col10\n",
        "df_test[columns[4]] = col11\n",
        "df_test[columns[5]] = col12\n",
        "df_test[columns[6]] = col13"
      ],
      "metadata": {
        "id": "c53786dd",
        "papermill": {
          "duration": 0.128715,
          "end_time": "2021-09-07T05:10:55.991234",
          "exception": false,
          "start_time": "2021-09-07T05:10:55.862519",
          "status": "completed"
        },
        "tags": [],
        "trusted": true
      },
      "execution_count": 54,
      "outputs": []
    },
    {
      "cell_type": "code",
      "source": [
        "df_train"
      ],
      "metadata": {
        "id": "241727ba",
        "papermill": {
          "duration": 0.124832,
          "end_time": "2021-09-07T05:10:56.218204",
          "exception": false,
          "start_time": "2021-09-07T05:10:56.093372",
          "status": "completed"
        },
        "tags": [],
        "trusted": true,
        "colab": {
          "base_uri": "https://localhost:8080/",
          "height": 332
        },
        "outputId": "c8a3596d-8439-40a3-94bb-8e302977b6ab"
      },
      "execution_count": 55,
      "outputs": [
        {
          "output_type": "execute_result",
          "data": {
            "text/html": [
              "\n",
              "  <div id=\"df-1912ec87-c304-4a60-86c2-af2b46603c36\">\n",
              "    <div class=\"colab-df-container\">\n",
              "      <div>\n",
              "<style scoped>\n",
              "    .dataframe tbody tr th:only-of-type {\n",
              "        vertical-align: middle;\n",
              "    }\n",
              "\n",
              "    .dataframe tbody tr th {\n",
              "        vertical-align: top;\n",
              "    }\n",
              "\n",
              "    .dataframe thead th {\n",
              "        text-align: right;\n",
              "    }\n",
              "</style>\n",
              "<table border=\"1\" class=\"dataframe\">\n",
              "  <thead>\n",
              "    <tr style=\"text-align: right;\">\n",
              "      <th></th>\n",
              "      <th>epochs</th>\n",
              "      <th>argmax &gt; 0.5</th>\n",
              "      <th>argmax &lt; 0.5</th>\n",
              "      <th>focus_true_pred_true</th>\n",
              "      <th>focus_false_pred_true</th>\n",
              "      <th>focus_true_pred_false</th>\n",
              "      <th>focus_false_pred_false</th>\n",
              "    </tr>\n",
              "  </thead>\n",
              "  <tbody>\n",
              "    <tr>\n",
              "      <th>0</th>\n",
              "      <td>0</td>\n",
              "      <td>0</td>\n",
              "      <td>30000</td>\n",
              "      <td>484</td>\n",
              "      <td>9204</td>\n",
              "      <td>1045</td>\n",
              "      <td>19267</td>\n",
              "    </tr>\n",
              "    <tr>\n",
              "      <th>1</th>\n",
              "      <td>1</td>\n",
              "      <td>795</td>\n",
              "      <td>29205</td>\n",
              "      <td>2830</td>\n",
              "      <td>9371</td>\n",
              "      <td>2172</td>\n",
              "      <td>15627</td>\n",
              "    </tr>\n",
              "    <tr>\n",
              "      <th>2</th>\n",
              "      <td>6</td>\n",
              "      <td>13123</td>\n",
              "      <td>16877</td>\n",
              "      <td>13821</td>\n",
              "      <td>8190</td>\n",
              "      <td>2008</td>\n",
              "      <td>5981</td>\n",
              "    </tr>\n",
              "    <tr>\n",
              "      <th>3</th>\n",
              "      <td>11</td>\n",
              "      <td>16383</td>\n",
              "      <td>13617</td>\n",
              "      <td>17681</td>\n",
              "      <td>7857</td>\n",
              "      <td>1009</td>\n",
              "      <td>3453</td>\n",
              "    </tr>\n",
              "    <tr>\n",
              "      <th>4</th>\n",
              "      <td>16</td>\n",
              "      <td>17347</td>\n",
              "      <td>12653</td>\n",
              "      <td>19405</td>\n",
              "      <td>7762</td>\n",
              "      <td>553</td>\n",
              "      <td>2280</td>\n",
              "    </tr>\n",
              "    <tr>\n",
              "      <th>5</th>\n",
              "      <td>21</td>\n",
              "      <td>17822</td>\n",
              "      <td>12178</td>\n",
              "      <td>20165</td>\n",
              "      <td>7851</td>\n",
              "      <td>349</td>\n",
              "      <td>1635</td>\n",
              "    </tr>\n",
              "    <tr>\n",
              "      <th>6</th>\n",
              "      <td>26</td>\n",
              "      <td>17822</td>\n",
              "      <td>12178</td>\n",
              "      <td>20685</td>\n",
              "      <td>8183</td>\n",
              "      <td>196</td>\n",
              "      <td>936</td>\n",
              "    </tr>\n",
              "    <tr>\n",
              "      <th>7</th>\n",
              "      <td>31</td>\n",
              "      <td>17692</td>\n",
              "      <td>12308</td>\n",
              "      <td>20950</td>\n",
              "      <td>8371</td>\n",
              "      <td>158</td>\n",
              "      <td>521</td>\n",
              "    </tr>\n",
              "    <tr>\n",
              "      <th>8</th>\n",
              "      <td>36</td>\n",
              "      <td>17500</td>\n",
              "      <td>12500</td>\n",
              "      <td>20878</td>\n",
              "      <td>8402</td>\n",
              "      <td>184</td>\n",
              "      <td>536</td>\n",
              "    </tr>\n",
              "  </tbody>\n",
              "</table>\n",
              "</div>\n",
              "      <button class=\"colab-df-convert\" onclick=\"convertToInteractive('df-1912ec87-c304-4a60-86c2-af2b46603c36')\"\n",
              "              title=\"Convert this dataframe to an interactive table.\"\n",
              "              style=\"display:none;\">\n",
              "        \n",
              "  <svg xmlns=\"http://www.w3.org/2000/svg\" height=\"24px\"viewBox=\"0 0 24 24\"\n",
              "       width=\"24px\">\n",
              "    <path d=\"M0 0h24v24H0V0z\" fill=\"none\"/>\n",
              "    <path d=\"M18.56 5.44l.94 2.06.94-2.06 2.06-.94-2.06-.94-.94-2.06-.94 2.06-2.06.94zm-11 1L8.5 8.5l.94-2.06 2.06-.94-2.06-.94L8.5 2.5l-.94 2.06-2.06.94zm10 10l.94 2.06.94-2.06 2.06-.94-2.06-.94-.94-2.06-.94 2.06-2.06.94z\"/><path d=\"M17.41 7.96l-1.37-1.37c-.4-.4-.92-.59-1.43-.59-.52 0-1.04.2-1.43.59L10.3 9.45l-7.72 7.72c-.78.78-.78 2.05 0 2.83L4 21.41c.39.39.9.59 1.41.59.51 0 1.02-.2 1.41-.59l7.78-7.78 2.81-2.81c.8-.78.8-2.07 0-2.86zM5.41 20L4 18.59l7.72-7.72 1.47 1.35L5.41 20z\"/>\n",
              "  </svg>\n",
              "      </button>\n",
              "      \n",
              "  <style>\n",
              "    .colab-df-container {\n",
              "      display:flex;\n",
              "      flex-wrap:wrap;\n",
              "      gap: 12px;\n",
              "    }\n",
              "\n",
              "    .colab-df-convert {\n",
              "      background-color: #E8F0FE;\n",
              "      border: none;\n",
              "      border-radius: 50%;\n",
              "      cursor: pointer;\n",
              "      display: none;\n",
              "      fill: #1967D2;\n",
              "      height: 32px;\n",
              "      padding: 0 0 0 0;\n",
              "      width: 32px;\n",
              "    }\n",
              "\n",
              "    .colab-df-convert:hover {\n",
              "      background-color: #E2EBFA;\n",
              "      box-shadow: 0px 1px 2px rgba(60, 64, 67, 0.3), 0px 1px 3px 1px rgba(60, 64, 67, 0.15);\n",
              "      fill: #174EA6;\n",
              "    }\n",
              "\n",
              "    [theme=dark] .colab-df-convert {\n",
              "      background-color: #3B4455;\n",
              "      fill: #D2E3FC;\n",
              "    }\n",
              "\n",
              "    [theme=dark] .colab-df-convert:hover {\n",
              "      background-color: #434B5C;\n",
              "      box-shadow: 0px 1px 3px 1px rgba(0, 0, 0, 0.15);\n",
              "      filter: drop-shadow(0px 1px 2px rgba(0, 0, 0, 0.3));\n",
              "      fill: #FFFFFF;\n",
              "    }\n",
              "  </style>\n",
              "\n",
              "      <script>\n",
              "        const buttonEl =\n",
              "          document.querySelector('#df-1912ec87-c304-4a60-86c2-af2b46603c36 button.colab-df-convert');\n",
              "        buttonEl.style.display =\n",
              "          google.colab.kernel.accessAllowed ? 'block' : 'none';\n",
              "\n",
              "        async function convertToInteractive(key) {\n",
              "          const element = document.querySelector('#df-1912ec87-c304-4a60-86c2-af2b46603c36');\n",
              "          const dataTable =\n",
              "            await google.colab.kernel.invokeFunction('convertToInteractive',\n",
              "                                                     [key], {});\n",
              "          if (!dataTable) return;\n",
              "\n",
              "          const docLinkHtml = 'Like what you see? Visit the ' +\n",
              "            '<a target=\"_blank\" href=https://colab.research.google.com/notebooks/data_table.ipynb>data table notebook</a>'\n",
              "            + ' to learn more about interactive tables.';\n",
              "          element.innerHTML = '';\n",
              "          dataTable['output_type'] = 'display_data';\n",
              "          await google.colab.output.renderOutput(dataTable, element);\n",
              "          const docLink = document.createElement('div');\n",
              "          docLink.innerHTML = docLinkHtml;\n",
              "          element.appendChild(docLink);\n",
              "        }\n",
              "      </script>\n",
              "    </div>\n",
              "  </div>\n",
              "  "
            ],
            "text/plain": [
              "   epochs  argmax > 0.5  ...  focus_true_pred_false  focus_false_pred_false\n",
              "0       0             0  ...                   1045                   19267\n",
              "1       1           795  ...                   2172                   15627\n",
              "2       6         13123  ...                   2008                    5981\n",
              "3      11         16383  ...                   1009                    3453\n",
              "4      16         17347  ...                    553                    2280\n",
              "5      21         17822  ...                    349                    1635\n",
              "6      26         17822  ...                    196                     936\n",
              "7      31         17692  ...                    158                     521\n",
              "8      36         17500  ...                    184                     536\n",
              "\n",
              "[9 rows x 7 columns]"
            ]
          },
          "metadata": {},
          "execution_count": 55
        }
      ]
    },
    {
      "cell_type": "code",
      "source": [
        "# df_train.to_csv(path+\"_train.csv\",index=False)"
      ],
      "metadata": {
        "id": "c27db92a",
        "papermill": {
          "duration": 0.105965,
          "end_time": "2021-09-07T05:10:56.421883",
          "exception": false,
          "start_time": "2021-09-07T05:10:56.315918",
          "status": "completed"
        },
        "tags": [],
        "trusted": true
      },
      "execution_count": 56,
      "outputs": []
    },
    {
      "cell_type": "code",
      "source": [
        "# plt.figure(12,12)\n",
        "plt.plot(col1,col2, label='argmax > 0.5')\n",
        "plt.plot(col1,col3, label='argmax < 0.5')\n",
        "\n",
        "plt.legend(loc='center left', bbox_to_anchor=(1, 0.5))\n",
        "plt.xlabel(\"epochs\")\n",
        "plt.ylabel(\"training data\")\n",
        "plt.title(\"On Training set\")\n",
        "plt.show()\n",
        "\n"
      ],
      "metadata": {
        "id": "e0b2ae2e",
        "papermill": {
          "duration": 0.242106,
          "end_time": "2021-09-07T05:10:56.759161",
          "exception": false,
          "start_time": "2021-09-07T05:10:56.517055",
          "status": "completed"
        },
        "tags": [],
        "trusted": true,
        "colab": {
          "base_uri": "https://localhost:8080/",
          "height": 295
        },
        "outputId": "bee242b1-a818-4f97-8e88-840b8e887a48"
      },
      "execution_count": 57,
      "outputs": [
        {
          "output_type": "display_data",
          "data": {
            "image/png": "[encoded data removed]",
            "text/plain": [
              "<Figure size 432x288 with 1 Axes>"
            ]
          },
          "metadata": {
            "needs_background": "light"
          }
        }
      ]
    },
    {
      "cell_type": "code",
      "source": [
        "plt.figure(figsize=(6,5))\n",
        "plt.plot(col1,np.array(col4)/300, label =\"FTPT\")\n",
        "plt.plot(col1,np.array(col5)/300, label =\"FFPT\")\n",
        "plt.plot(col1,np.array(col6)/300, label =\"FTPF\")\n",
        "plt.plot(col1,np.array(col7)/300, label =\"FFPF\")\n",
        "plt.title(\"CIFAR - SDC On Train set\")\n",
        "plt.grid()\n",
        "# plt.legend(loc='center left', bbox_to_anchor=(1, 0.5))\n",
        "plt.legend()\n",
        "plt.xlabel(\"epochs\", fontsize=14, fontweight = 'bold')\n",
        "plt.ylabel(\"percentage train data\", fontsize=14, fontweight = 'bold')\n",
        "# plt.savefig(path+\"cifar_train.png\", bbox_inches=\"tight\")\n",
        "# plt.savefig(path+\"cifar_train.pdf\", bbox_inches=\"tight\")\n",
        "# plt.savefig(path+\"cifar_train.png\", bbox_inches=\"tight\")\n",
        "# plt.savefig(path+\"cifar_train.pdf\", bbox_inches=\"tight\")\n",
        "plt.show()"
      ],
      "metadata": {
        "id": "cefa93f7",
        "papermill": {
          "duration": 0.698837,
          "end_time": "2021-09-07T05:10:57.557918",
          "exception": false,
          "start_time": "2021-09-07T05:10:56.859081",
          "status": "completed"
        },
        "tags": [],
        "trusted": true,
        "colab": {
          "base_uri": "https://localhost:8080/",
          "height": 354
        },
        "outputId": "e2fcc729-b2e2-4b96-f0b8-47e841c86ff4"
      },
      "execution_count": 58,
      "outputs": [
        {
          "output_type": "display_data",
          "data": {
            "image/png": "[encoded data removed]",
            "text/plain": [
              "<Figure size 432x360 with 1 Axes>"
            ]
          },
          "metadata": {
            "needs_background": "light"
          }
        }
      ]
    },
    {
      "cell_type": "code",
      "source": [
        "df_test"
      ],
      "metadata": {
        "id": "f824396f",
        "papermill": {
          "duration": 0.116135,
          "end_time": "2021-09-07T05:10:57.778038",
          "exception": false,
          "start_time": "2021-09-07T05:10:57.661903",
          "status": "completed"
        },
        "tags": [],
        "trusted": true,
        "colab": {
          "base_uri": "https://localhost:8080/",
          "height": 332
        },
        "outputId": "b65a15e4-4ac4-4690-86ca-f14737068eec"
      },
      "execution_count": 59,
      "outputs": [
        {
          "output_type": "execute_result",
          "data": {
            "text/html": [
              "\n",
              "  <div id=\"df-4ba77762-2e35-4530-98bf-7ab53564ae24\">\n",
              "    <div class=\"colab-df-container\">\n",
              "      <div>\n",
              "<style scoped>\n",
              "    .dataframe tbody tr th:only-of-type {\n",
              "        vertical-align: middle;\n",
              "    }\n",
              "\n",
              "    .dataframe tbody tr th {\n",
              "        vertical-align: top;\n",
              "    }\n",
              "\n",
              "    .dataframe thead th {\n",
              "        text-align: right;\n",
              "    }\n",
              "</style>\n",
              "<table border=\"1\" class=\"dataframe\">\n",
              "  <thead>\n",
              "    <tr style=\"text-align: right;\">\n",
              "      <th></th>\n",
              "      <th>epochs</th>\n",
              "      <th>argmax &gt; 0.5</th>\n",
              "      <th>argmax &lt; 0.5</th>\n",
              "      <th>focus_true_pred_true</th>\n",
              "      <th>focus_false_pred_true</th>\n",
              "      <th>focus_true_pred_false</th>\n",
              "      <th>focus_false_pred_false</th>\n",
              "    </tr>\n",
              "  </thead>\n",
              "  <tbody>\n",
              "    <tr>\n",
              "      <th>0</th>\n",
              "      <td>0</td>\n",
              "      <td>0</td>\n",
              "      <td>10000</td>\n",
              "      <td>161</td>\n",
              "      <td>3090</td>\n",
              "      <td>296</td>\n",
              "      <td>6453</td>\n",
              "    </tr>\n",
              "    <tr>\n",
              "      <th>1</th>\n",
              "      <td>1</td>\n",
              "      <td>631</td>\n",
              "      <td>9369</td>\n",
              "      <td>1706</td>\n",
              "      <td>2727</td>\n",
              "      <td>757</td>\n",
              "      <td>4810</td>\n",
              "    </tr>\n",
              "    <tr>\n",
              "      <th>2</th>\n",
              "      <td>6</td>\n",
              "      <td>4611</td>\n",
              "      <td>5389</td>\n",
              "      <td>4480</td>\n",
              "      <td>2702</td>\n",
              "      <td>728</td>\n",
              "      <td>2090</td>\n",
              "    </tr>\n",
              "    <tr>\n",
              "      <th>3</th>\n",
              "      <td>11</td>\n",
              "      <td>5230</td>\n",
              "      <td>4770</td>\n",
              "      <td>5651</td>\n",
              "      <td>2569</td>\n",
              "      <td>501</td>\n",
              "      <td>1279</td>\n",
              "    </tr>\n",
              "    <tr>\n",
              "      <th>4</th>\n",
              "      <td>16</td>\n",
              "      <td>5576</td>\n",
              "      <td>4424</td>\n",
              "      <td>6124</td>\n",
              "      <td>2425</td>\n",
              "      <td>366</td>\n",
              "      <td>1085</td>\n",
              "    </tr>\n",
              "    <tr>\n",
              "      <th>5</th>\n",
              "      <td>21</td>\n",
              "      <td>5574</td>\n",
              "      <td>4426</td>\n",
              "      <td>6309</td>\n",
              "      <td>2260</td>\n",
              "      <td>330</td>\n",
              "      <td>1101</td>\n",
              "    </tr>\n",
              "    <tr>\n",
              "      <th>6</th>\n",
              "      <td>26</td>\n",
              "      <td>5224</td>\n",
              "      <td>4776</td>\n",
              "      <td>6274</td>\n",
              "      <td>2374</td>\n",
              "      <td>390</td>\n",
              "      <td>962</td>\n",
              "    </tr>\n",
              "    <tr>\n",
              "      <th>7</th>\n",
              "      <td>31</td>\n",
              "      <td>5335</td>\n",
              "      <td>4665</td>\n",
              "      <td>6279</td>\n",
              "      <td>2253</td>\n",
              "      <td>354</td>\n",
              "      <td>1114</td>\n",
              "    </tr>\n",
              "    <tr>\n",
              "      <th>8</th>\n",
              "      <td>36</td>\n",
              "      <td>5261</td>\n",
              "      <td>4739</td>\n",
              "      <td>6187</td>\n",
              "      <td>2369</td>\n",
              "      <td>420</td>\n",
              "      <td>1024</td>\n",
              "    </tr>\n",
              "  </tbody>\n",
              "</table>\n",
              "</div>\n",
              "      <button class=\"colab-df-convert\" onclick=\"convertToInteractive('df-4ba77762-2e35-4530-98bf-7ab53564ae24')\"\n",
              "              title=\"Convert this dataframe to an interactive table.\"\n",
              "              style=\"display:none;\">\n",
              "        \n",
              "  <svg xmlns=\"http://www.w3.org/2000/svg\" height=\"24px\"viewBox=\"0 0 24 24\"\n",
              "       width=\"24px\">\n",
              "    <path d=\"M0 0h24v24H0V0z\" fill=\"none\"/>\n",
              "    <path d=\"M18.56 5.44l.94 2.06.94-2.06 2.06-.94-2.06-.94-.94-2.06-.94 2.06-2.06.94zm-11 1L8.5 8.5l.94-2.06 2.06-.94-2.06-.94L8.5 2.5l-.94 2.06-2.06.94zm10 10l.94 2.06.94-2.06 2.06-.94-2.06-.94-.94-2.06-.94 2.06-2.06.94z\"/><path d=\"M17.41 7.96l-1.37-1.37c-.4-.4-.92-.59-1.43-.59-.52 0-1.04.2-1.43.59L10.3 9.45l-7.72 7.72c-.78.78-.78 2.05 0 2.83L4 21.41c.39.39.9.59 1.41.59.51 0 1.02-.2 1.41-.59l7.78-7.78 2.81-2.81c.8-.78.8-2.07 0-2.86zM5.41 20L4 18.59l7.72-7.72 1.47 1.35L5.41 20z\"/>\n",
              "  </svg>\n",
              "      </button>\n",
              "      \n",
              "  <style>\n",
              "    .colab-df-container {\n",
              "      display:flex;\n",
              "      flex-wrap:wrap;\n",
              "      gap: 12px;\n",
              "    }\n",
              "\n",
              "    .colab-df-convert {\n",
              "      background-color: #E8F0FE;\n",
              "      border: none;\n",
              "      border-radius: 50%;\n",
              "      cursor: pointer;\n",
              "      display: none;\n",
              "      fill: #1967D2;\n",
              "      height: 32px;\n",
              "      padding: 0 0 0 0;\n",
              "      width: 32px;\n",
              "    }\n",
              "\n",
              "    .colab-df-convert:hover {\n",
              "      background-color: #E2EBFA;\n",
              "      box-shadow: 0px 1px 2px rgba(60, 64, 67, 0.3), 0px 1px 3px 1px rgba(60, 64, 67, 0.15);\n",
              "      fill: #174EA6;\n",
              "    }\n",
              "\n",
              "    [theme=dark] .colab-df-convert {\n",
              "      background-color: #3B4455;\n",
              "      fill: #D2E3FC;\n",
              "    }\n",
              "\n",
              "    [theme=dark] .colab-df-convert:hover {\n",
              "      background-color: #434B5C;\n",
              "      box-shadow: 0px 1px 3px 1px rgba(0, 0, 0, 0.15);\n",
              "      filter: drop-shadow(0px 1px 2px rgba(0, 0, 0, 0.3));\n",
              "      fill: #FFFFFF;\n",
              "    }\n",
              "  </style>\n",
              "\n",
              "      <script>\n",
              "        const buttonEl =\n",
              "          document.querySelector('#df-4ba77762-2e35-4530-98bf-7ab53564ae24 button.colab-df-convert');\n",
              "        buttonEl.style.display =\n",
              "          google.colab.kernel.accessAllowed ? 'block' : 'none';\n",
              "\n",
              "        async function convertToInteractive(key) {\n",
              "          const element = document.querySelector('#df-4ba77762-2e35-4530-98bf-7ab53564ae24');\n",
              "          const dataTable =\n",
              "            await google.colab.kernel.invokeFunction('convertToInteractive',\n",
              "                                                     [key], {});\n",
              "          if (!dataTable) return;\n",
              "\n",
              "          const docLinkHtml = 'Like what you see? Visit the ' +\n",
              "            '<a target=\"_blank\" href=https://colab.research.google.com/notebooks/data_table.ipynb>data table notebook</a>'\n",
              "            + ' to learn more about interactive tables.';\n",
              "          element.innerHTML = '';\n",
              "          dataTable['output_type'] = 'display_data';\n",
              "          await google.colab.output.renderOutput(dataTable, element);\n",
              "          const docLink = document.createElement('div');\n",
              "          docLink.innerHTML = docLinkHtml;\n",
              "          element.appendChild(docLink);\n",
              "        }\n",
              "      </script>\n",
              "    </div>\n",
              "  </div>\n",
              "  "
            ],
            "text/plain": [
              "   epochs  argmax > 0.5  ...  focus_true_pred_false  focus_false_pred_false\n",
              "0       0             0  ...                    296                    6453\n",
              "1       1           631  ...                    757                    4810\n",
              "2       6          4611  ...                    728                    2090\n",
              "3      11          5230  ...                    501                    1279\n",
              "4      16          5576  ...                    366                    1085\n",
              "5      21          5574  ...                    330                    1101\n",
              "6      26          5224  ...                    390                     962\n",
              "7      31          5335  ...                    354                    1114\n",
              "8      36          5261  ...                    420                    1024\n",
              "\n",
              "[9 rows x 7 columns]"
            ]
          },
          "metadata": {},
          "execution_count": 59
        }
      ]
    },
    {
      "cell_type": "code",
      "source": [
        "# df_test.to_csv(path+\"_test.csv\",index=False)"
      ],
      "metadata": {
        "id": "93452628",
        "papermill": {
          "duration": 0.105273,
          "end_time": "2021-09-07T05:10:57.980952",
          "exception": false,
          "start_time": "2021-09-07T05:10:57.875679",
          "status": "completed"
        },
        "tags": [],
        "trusted": true
      },
      "execution_count": 60,
      "outputs": []
    },
    {
      "cell_type": "code",
      "source": [
        "# plt.figure(12,12)\n",
        "plt.plot(col1,col8, label='argmax > 0.5')\n",
        "plt.plot(col1,col9, label='argmax < 0.5')\n",
        "\n",
        "plt.legend(loc='center left', bbox_to_anchor=(1, 0.5))\n",
        "plt.xlabel(\"epochs\")\n",
        "# plt.ylabel(\"Testing data\")\n",
        "# plt.title(\"On Testing set\")\n",
        "plt.show()\n",
        "\n"
      ],
      "metadata": {
        "id": "c0861137",
        "papermill": {
          "duration": 0.241781,
          "end_time": "2021-09-07T05:10:58.323789",
          "exception": false,
          "start_time": "2021-09-07T05:10:58.082008",
          "status": "completed"
        },
        "tags": [],
        "trusted": true,
        "colab": {
          "base_uri": "https://localhost:8080/",
          "height": 279
        },
        "outputId": "82d6952f-b1fb-4b4c-91ef-39fcbacf9b87"
      },
      "execution_count": 61,
      "outputs": [
        {
          "output_type": "display_data",
          "data": {
            "image/png": "[encoded data removed]",
            "text/plain": [
              "<Figure size 432x288 with 1 Axes>"
            ]
          },
          "metadata": {
            "needs_background": "light"
          }
        }
      ]
    },
    {
      "cell_type": "code",
      "source": [
        "plt.figure(figsize=(6,5))\n",
        "plt.plot(col1,np.array(col10)/100, label =\"FTPT\")\n",
        "plt.plot(col1,np.array(col11)/100, label =\"FFPT\")\n",
        "plt.plot(col1,np.array(col12)/100, label =\"FTPF\")\n",
        "plt.plot(col1,np.array(col13)/100, label =\"FFPF\")\n",
        "plt.title(\"CIFAR - SDC On Test set\")\n",
        "plt.grid()\n",
        "# plt.legend(loc='center left', bbox_to_anchor=(1, 0.5))\n",
        "plt.legend()\n",
        "plt.xlabel(\"epochs\", fontsize=14, fontweight = 'bold')\n",
        "plt.ylabel(\"percentage test data\", fontsize=14, fontweight = 'bold')\n",
        "# plt.savefig(path+\"cifar_test.png\", bbox_inches=\"tight\")\n",
        "# plt.savefig(path+\"cifar_test.pdf\", bbox_inches=\"tight\")\n",
        "# plt.savefig(path+\"cifar_test.png\", bbox_inches=\"tight\")\n",
        "# plt.savefig(path+\"cifar_test.pdf\", bbox_inches=\"tight\")\n",
        "plt.show()"
      ],
      "metadata": {
        "id": "a56719d1",
        "papermill": {
          "duration": 0.591676,
          "end_time": "2021-09-07T05:10:59.017981",
          "exception": false,
          "start_time": "2021-09-07T05:10:58.426305",
          "status": "completed"
        },
        "tags": [],
        "trusted": true,
        "colab": {
          "base_uri": "https://localhost:8080/",
          "height": 354
        },
        "outputId": "e63347a5-bfaa-4dad-ac54-dd96607616a5"
      },
      "execution_count": 62,
      "outputs": [
        {
          "output_type": "display_data",
          "data": {
            "image/png": "[encoded data removed]",
            "text/plain": [
              "<Figure size 432x360 with 1 Axes>"
            ]
          },
          "metadata": {
            "needs_background": "light"
          }
        }
      ]
    },
    {
      "cell_type": "code",
      "source": [
        "correct = 0\n",
        "total = 0\n",
        "count = 0\n",
        "flag = 1\n",
        "focus_true_pred_true =0\n",
        "focus_false_pred_true =0\n",
        "focus_true_pred_false =0\n",
        "focus_false_pred_false =0\n",
        "\n",
        "argmax_more_than_half = 0\n",
        "argmax_less_than_half =0\n",
        "\n",
        "with torch.no_grad():\n",
        "  for data in train_loader:\n",
        "    inputs, labels , fore_idx = data\n",
        "    inputs = inputs.double()\n",
        "    inputs, labels , fore_idx = inputs.to(\"cuda\"),labels.to(\"cuda\"), fore_idx.to(\"cuda\")\n",
        "    alphas, avg_images = focus_net(inputs)\n",
        "    outputs = classify(avg_images)\n",
        "\n",
        "    _, predicted = torch.max(outputs.data, 1)\n",
        "\n",
        "    for j in range(labels.size(0)):\n",
        "      focus = torch.argmax(alphas[j])\n",
        "      if alphas[j][focus] >= 0.5 :\n",
        "        argmax_more_than_half += 1\n",
        "      else:\n",
        "        argmax_less_than_half += 1\n",
        "\n",
        "      if(focus == fore_idx[j] and predicted[j] == labels[j]):\n",
        "          focus_true_pred_true += 1\n",
        "      elif(focus != fore_idx[j] and predicted[j] == labels[j]):\n",
        "        focus_false_pred_true += 1\n",
        "      elif(focus == fore_idx[j] and predicted[j] != labels[j]):\n",
        "        focus_true_pred_false += 1\n",
        "      elif(focus != fore_idx[j] and predicted[j] != labels[j]):\n",
        "        focus_false_pred_false += 1\n",
        "\n",
        "    total += labels.size(0)\n",
        "    correct += (predicted == labels).sum().item()\n",
        "\n",
        "print('Accuracy of the network on the  train images: %f %%' % (\n",
        "    100 * correct / total))\n",
        "print(\"total correct\", correct)\n",
        "print(\"total train set images\", total)\n",
        "\n",
        "print(\"focus_true_pred_true %d =============> FTPT : %f %%\" % (focus_true_pred_true , (100 * focus_true_pred_true / total) ) )\n",
        "print(\"focus_false_pred_true %d =============> FFPT : %f %%\" % (focus_false_pred_true, (100 * focus_false_pred_true / total) ) )\n",
        "print(\"focus_true_pred_false %d =============> FTPF : %f %%\" %( focus_true_pred_false , ( 100 * focus_true_pred_false / total) ) )\n",
        "print(\"focus_false_pred_false %d =============> FFPF : %f %%\" % (focus_false_pred_false, ( 100 * focus_false_pred_false / total) ) )\n",
        "\n",
        "print(\"argmax_more_than_half ==================> \",argmax_more_than_half)\n",
        "print(\"argmax_less_than_half ==================> \",argmax_less_than_half)"
      ],
      "metadata": {
        "id": "3eacb413",
        "papermill": {
          "duration": 22.510266,
          "end_time": "2021-09-07T05:11:21.629204",
          "exception": false,
          "start_time": "2021-09-07T05:10:59.118938",
          "status": "completed"
        },
        "tags": [],
        "trusted": true,
        "colab": {
          "base_uri": "https://localhost:8080/"
        },
        "outputId": "253aaaad-7453-4f6d-aace-f575464866cd"
      },
      "execution_count": 63,
      "outputs": [
        {
          "output_type": "stream",
          "name": "stdout",
          "text": [
            "Accuracy of the network on the  train images: 98.510000 %\n",
            "total correct 29553\n",
            "total train set images 30000\n",
            "focus_true_pred_true 20973 =============> FTPT : 69.910000 %\n",
            "focus_false_pred_true 8580 =============> FFPT : 28.600000 %\n",
            "focus_true_pred_false 108 =============> FTPF : 0.360000 %\n",
            "focus_false_pred_false 339 =============> FFPF : 1.130000 %\n",
            "argmax_more_than_half ==================>  18170\n",
            "argmax_less_than_half ==================>  11830\n"
          ]
        }
      ]
    },
    {
      "cell_type": "code",
      "source": [
        "correct = 0\n",
        "total = 0\n",
        "count = 0\n",
        "flag = 1\n",
        "focus_true_pred_true =0\n",
        "focus_false_pred_true =0\n",
        "focus_true_pred_false =0\n",
        "focus_false_pred_false =0\n",
        "\n",
        "argmax_more_than_half = 0\n",
        "argmax_less_than_half =0\n",
        "\n",
        "with torch.no_grad():\n",
        "  for data in test_loader:\n",
        "    inputs, labels , fore_idx = data\n",
        "    inputs = inputs.double()\n",
        "    inputs, labels , fore_idx = inputs.to(\"cuda\"),labels.to(\"cuda\"), fore_idx.to(\"cuda\")\n",
        "    alphas, avg_images = focus_net(inputs)\n",
        "    outputs = classify(avg_images)\n",
        "\n",
        "    _, predicted = torch.max(outputs.data, 1)\n",
        "\n",
        "    for j in range(labels.size(0)):\n",
        "      focus = torch.argmax(alphas[j])\n",
        "      if alphas[j][focus] >= 0.5 :\n",
        "        argmax_more_than_half += 1\n",
        "      else:\n",
        "        argmax_less_than_half += 1\n",
        "\n",
        "      if(focus == fore_idx[j] and predicted[j] == labels[j]):\n",
        "          focus_true_pred_true += 1\n",
        "      elif(focus != fore_idx[j] and predicted[j] == labels[j]):\n",
        "        focus_false_pred_true += 1\n",
        "      elif(focus == fore_idx[j] and predicted[j] != labels[j]):\n",
        "        focus_true_pred_false += 1\n",
        "      elif(focus != fore_idx[j] and predicted[j] != labels[j]):\n",
        "        focus_false_pred_false += 1\n",
        "\n",
        "    total += labels.size(0)\n",
        "    correct += (predicted == labels).sum().item()\n",
        "\n",
        "print('Accuracy of the network on the  test images: %f %%' % (\n",
        "    100 * correct / total))\n",
        "print(\"total correct\", correct)\n",
        "print(\"total train set images\", total)\n",
        "\n",
        "print(\"focus_true_pred_true %d =============> FTPT : %f %%\" % (focus_true_pred_true , (100 * focus_true_pred_true / total) ) )\n",
        "print(\"focus_false_pred_true %d =============> FFPT : %f %%\" % (focus_false_pred_true, (100 * focus_false_pred_true / total) ) )\n",
        "print(\"focus_true_pred_false %d =============> FTPF : %f %%\" %( focus_true_pred_false , ( 100 * focus_true_pred_false / total) ) )\n",
        "print(\"focus_false_pred_false %d =============> FFPF : %f %%\" % (focus_false_pred_false, ( 100 * focus_false_pred_false / total) ) )\n",
        "\n",
        "print(\"argmax_more_than_half ==================> \",argmax_more_than_half)\n",
        "print(\"argmax_less_than_half ==================> \",argmax_less_than_half)"
      ],
      "metadata": {
        "id": "0daa54d2",
        "papermill": {
          "duration": 7.900859,
          "end_time": "2021-09-07T05:11:29.628407",
          "exception": false,
          "start_time": "2021-09-07T05:11:21.727548",
          "status": "completed"
        },
        "tags": [],
        "trusted": true,
        "colab": {
          "base_uri": "https://localhost:8080/"
        },
        "outputId": "4ce013fd-484a-4c6c-d751-d57850ed99c4"
      },
      "execution_count": 64,
      "outputs": [
        {
          "output_type": "stream",
          "name": "stdout",
          "text": [
            "Accuracy of the network on the  test images: 85.680000 %\n",
            "total correct 8568\n",
            "total train set images 10000\n",
            "focus_true_pred_true 6393 =============> FTPT : 63.930000 %\n",
            "focus_false_pred_true 2175 =============> FFPT : 21.750000 %\n",
            "focus_true_pred_false 310 =============> FTPF : 3.100000 %\n",
            "focus_false_pred_false 1122 =============> FFPF : 11.220000 %\n",
            "argmax_more_than_half ==================>  5609\n",
            "argmax_less_than_half ==================>  4391\n"
          ]
        }
      ]
    },
    {
      "cell_type": "code",
      "source": [
        "correct = 0\n",
        "total = 0\n",
        "\n",
        "with torch.no_grad():\n",
        "  for data in train_loader:\n",
        "    inputs, labels , fore_idx = data\n",
        "    inputs = inputs.double()\n",
        "    inputs, labels = inputs.to(\"cuda\"), labels.to(\"cuda\")\n",
        "    alphas, avg_images = focus_net(inputs)\n",
        "    outputs = classify(avg_images)\n",
        "\n",
        "    _, predicted = torch.max(outputs.data, 1)\n",
        "\n",
        "    total += labels.size(0)\n",
        "    correct += (predicted == labels).sum().item()\n",
        "\n",
        "print('Accuracy of the network on the  train images: %f %%' % ( 100 * correct / total))\n",
        "print(\"total correct\", correct)\n",
        "print(\"total train set images\", total)"
      ],
      "metadata": {
        "id": "5863e7c1",
        "papermill": {
          "duration": 16.606088,
          "end_time": "2021-09-07T05:11:46.333763",
          "exception": false,
          "start_time": "2021-09-07T05:11:29.727675",
          "status": "completed"
        },
        "tags": [],
        "trusted": true,
        "colab": {
          "base_uri": "https://localhost:8080/"
        },
        "outputId": "b44f70b0-1e85-414f-aa17-c422153be2d6"
      },
      "execution_count": 65,
      "outputs": [
        {
          "output_type": "stream",
          "name": "stdout",
          "text": [
            "Accuracy of the network on the  train images: 98.510000 %\n",
            "total correct 29553\n",
            "total train set images 30000\n"
          ]
        }
      ]
    },
    {
      "cell_type": "code",
      "source": [
        "correct = 0\n",
        "total = 0\n",
        "\n",
        "with torch.no_grad():\n",
        "  for data in test_loader:\n",
        "    inputs, labels , fore_idx = data\n",
        "    inputs = inputs.double()\n",
        "    inputs, labels = inputs.to(\"cuda\"), labels.to(\"cuda\")\n",
        "    alphas, avg_images = focus_net(inputs)\n",
        "    outputs = classify(avg_images)\n",
        "\n",
        "    _, predicted = torch.max(outputs.data, 1)\n",
        "\n",
        "    total += labels.size(0)\n",
        "    correct += (predicted == labels).sum().item()\n",
        "\n",
        "print('Accuracy of the network on the 10000 test images: %f %%' % ( 100 * correct / total))\n",
        "print(\"total correct\", correct)\n",
        "print(\"total train set images\", total)"
      ],
      "metadata": {
        "id": "d749907d",
        "papermill": {
          "duration": 5.734594,
          "end_time": "2021-09-07T05:11:52.166622",
          "exception": false,
          "start_time": "2021-09-07T05:11:46.432028",
          "status": "completed"
        },
        "tags": [],
        "trusted": true,
        "colab": {
          "base_uri": "https://localhost:8080/"
        },
        "outputId": "cd406d85-8bd3-4ef9-a023-045ad2b21718"
      },
      "execution_count": 66,
      "outputs": [
        {
          "output_type": "stream",
          "name": "stdout",
          "text": [
            "Accuracy of the network on the 10000 test images: 85.680000 %\n",
            "total correct 8568\n",
            "total train set images 10000\n"
          ]
        }
      ]
    },
    {
      "cell_type": "code",
      "source": [
        ""
      ],
      "metadata": {
        "id": "1TmNYjqG1WUi"
      },
      "execution_count": null,
      "outputs": []
    }
  ]
}