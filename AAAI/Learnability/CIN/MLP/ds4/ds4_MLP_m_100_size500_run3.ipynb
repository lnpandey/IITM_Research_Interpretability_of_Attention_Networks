{
  "nbformat": 4,
  "nbformat_minor": 0,
  "metadata": {
    "accelerator": "GPU",
    "colab": {
      "name": "ds4_MLP_m_100_size500_run2.ipynb",
      "provenance": [],
      "collapsed_sections": []
    },
    "kernelspec": {
      "display_name": "Python 3",
      "language": "python",
      "name": "python3"
    },
    "language_info": {
      "codemirror_mode": {
        "name": "ipython",
        "version": 3
      },
      "file_extension": ".py",
      "mimetype": "text/x-python",
      "name": "python",
      "nbconvert_exporter": "python",
      "pygments_lexer": "ipython3",
      "version": "3.6.5"
    }
  },
  "cells": [
    {
      "cell_type": "code",
      "metadata": {
        "colab": {
          "base_uri": "https://localhost:8080/"
        },
        "id": "N2_J4Rw2r0SQ",
        "outputId": "1bba1890-80ef-45cc-b7f7-3f0b78c7f1de"
      },
      "source": [
        "import numpy as np\n",
        "import pandas as pd\n",
        "from matplotlib import pyplot as plt\n",
        "from tqdm import tqdm\n",
        "%matplotlib inline\n",
        "from torch.utils.data import Dataset, DataLoader\n",
        "import torch\n",
        "import torchvision\n",
        "\n",
        "import torch.nn as nn\n",
        "import torch.optim as optim\n",
        "from torch.nn import functional as F\n",
        "device = torch.device(\"cuda\" if torch.cuda.is_available() else \"cpu\")\n",
        "print(device)"
      ],
      "execution_count": 59,
      "outputs": [
        {
          "output_type": "stream",
          "name": "stdout",
          "text": [
            "cuda\n"
          ]
        }
      ]
    },
    {
      "cell_type": "code",
      "metadata": {
        "id": "ZTJPyL45DiJ3"
      },
      "source": [
        "m = 100                 # 5, 50, 100, 500, 2000"
      ],
      "execution_count": 60,
      "outputs": []
    },
    {
      "cell_type": "code",
      "metadata": {
        "id": "g-do5dZWK5L6"
      },
      "source": [
        "train_size = 500           # 100, 500, 2000, 10000"
      ],
      "execution_count": 61,
      "outputs": []
    },
    {
      "cell_type": "code",
      "metadata": {
        "id": "c-WeVGWd49Hj"
      },
      "source": [
        "desired_num = train_size + 1000"
      ],
      "execution_count": 62,
      "outputs": []
    },
    {
      "cell_type": "code",
      "metadata": {
        "colab": {
          "base_uri": "https://localhost:8080/"
        },
        "id": "XTHbSeGAK7k7",
        "outputId": "d166e0df-7e97-4c85-f54b-f3d35fbfda86"
      },
      "source": [
        "tr_i = 0\n",
        "tr_j = train_size\n",
        "tr_k = desired_num\n",
        "\n",
        "tr_i, tr_j, tr_k"
      ],
      "execution_count": 63,
      "outputs": [
        {
          "output_type": "execute_result",
          "data": {
            "text/plain": [
              "(0, 500, 1500)"
            ]
          },
          "metadata": {},
          "execution_count": 63
        }
      ]
    },
    {
      "cell_type": "markdown",
      "metadata": {
        "id": "F6fjud_Fr0Sa"
      },
      "source": [
        "# Generate dataset"
      ]
    },
    {
      "cell_type": "code",
      "metadata": {
        "colab": {
          "base_uri": "https://localhost:8080/"
        },
        "id": "CqdXHO0Cr0Sd",
        "outputId": "3150fbcb-70ca-409f-a312-57751930e503"
      },
      "source": [
        "np.random.seed(12)\n",
        "y = np.random.randint(0,10,5000)\n",
        "idx= []\n",
        "for i in range(10):\n",
        "    print(i,sum(y==i))\n",
        "    idx.append(y==i)"
      ],
      "execution_count": 64,
      "outputs": [
        {
          "output_type": "stream",
          "name": "stdout",
          "text": [
            "0 530\n",
            "1 463\n",
            "2 494\n",
            "3 517\n",
            "4 488\n",
            "5 497\n",
            "6 493\n",
            "7 507\n",
            "8 492\n",
            "9 519\n"
          ]
        }
      ]
    },
    {
      "cell_type": "code",
      "metadata": {
        "id": "ddhXyODwr0Sk"
      },
      "source": [
        "x = np.zeros((5000,2))"
      ],
      "execution_count": 65,
      "outputs": []
    },
    {
      "cell_type": "code",
      "metadata": {
        "id": "DyV3N2DIr0Sp"
      },
      "source": [
        "np.random.seed(12)\n",
        "x[idx[0],:] = np.random.multivariate_normal(mean = [4,6.5],cov=[[0.01,0],[0,0.01]],size=sum(idx[0]))\n",
        "x[idx[1],:] = np.random.multivariate_normal(mean = [5.5,6],cov=[[0.01,0],[0,0.01]],size=sum(idx[1]))\n",
        "x[idx[2],:] = np.random.multivariate_normal(mean = [4.5,4.5],cov=[[0.01,0],[0,0.01]],size=sum(idx[2]))\n",
        "x[idx[3],:] = np.random.multivariate_normal(mean = [3,3.5],cov=[[0.01,0],[0,0.01]],size=sum(idx[3]))\n",
        "x[idx[4],:] = np.random.multivariate_normal(mean = [2.5,5.5],cov=[[0.01,0],[0,0.01]],size=sum(idx[4]))\n",
        "x[idx[5],:] = np.random.multivariate_normal(mean = [3.5,8],cov=[[0.01,0],[0,0.01]],size=sum(idx[5]))\n",
        "x[idx[6],:] = np.random.multivariate_normal(mean = [5.5,8],cov=[[0.01,0],[0,0.01]],size=sum(idx[6]))\n",
        "x[idx[7],:] = np.random.multivariate_normal(mean = [7,6.5],cov=[[0.01,0],[0,0.01]],size=sum(idx[7]))\n",
        "x[idx[8],:] = np.random.multivariate_normal(mean = [6.5,4.5],cov=[[0.01,0],[0,0.01]],size=sum(idx[8]))\n",
        "x[idx[9],:] = np.random.multivariate_normal(mean = [5,3],cov=[[0.01,0],[0,0.01]],size=sum(idx[9]))"
      ],
      "execution_count": 66,
      "outputs": []
    },
    {
      "cell_type": "code",
      "metadata": {
        "colab": {
          "base_uri": "https://localhost:8080/"
        },
        "id": "qh1mDScsU07I",
        "outputId": "7e498275-b03f-44f3-e718-19bd8bc0f8c6"
      },
      "source": [
        "x[idx[0]][0], x[idx[5]][5] "
      ],
      "execution_count": 67,
      "outputs": [
        {
          "output_type": "execute_result",
          "data": {
            "text/plain": [
              "(array([4.04729858, 6.43185741]), array([3.4612816 , 8.00144771]))"
            ]
          },
          "metadata": {},
          "execution_count": 67
        }
      ]
    },
    {
      "cell_type": "code",
      "metadata": {
        "colab": {
          "base_uri": "https://localhost:8080/",
          "height": 284
        },
        "id": "hJ8Jm7YUr0St",
        "outputId": "b62671d7-4260-4a7a-8d3f-2549b13f433c"
      },
      "source": [
        "for i in range(10):\n",
        "    plt.scatter(x[idx[i],0],x[idx[i],1],label=\"class_\"+str(i))\n",
        "plt.legend(loc='center left', bbox_to_anchor=(1, 0.5))"
      ],
      "execution_count": 68,
      "outputs": [
        {
          "output_type": "execute_result",
          "data": {
            "text/plain": [
              "<matplotlib.legend.Legend at 0x7f327b6ad050>"
            ]
          },
          "metadata": {},
          "execution_count": 68
        },
        {
          "output_type": "display_data",
          "data": {
            "image/png": "[encoded data removed]",
            "text/plain": [
              "<Figure size 432x288 with 1 Axes>"
            ]
          },
          "metadata": {
            "needs_background": "light"
          }
        }
      ]
    },
    {
      "cell_type": "code",
      "metadata": {
        "colab": {
          "base_uri": "https://localhost:8080/"
        },
        "id": "3lMBZEHNBlF2",
        "outputId": "88410709-42f6-40ee-f63d-9af1b14c2f07"
      },
      "source": [
        "bg_idx = [ np.where(idx[3] == True)[0], \n",
        "          np.where(idx[4] == True)[0], \n",
        "          np.where(idx[5] == True)[0],\n",
        "          np.where(idx[6] == True)[0], \n",
        "          np.where(idx[7] == True)[0], \n",
        "          np.where(idx[8] == True)[0],\n",
        "          np.where(idx[9] == True)[0]]\n",
        "\n",
        "bg_idx = np.concatenate(bg_idx, axis = 0)\n",
        "bg_idx.shape"
      ],
      "execution_count": 69,
      "outputs": [
        {
          "output_type": "execute_result",
          "data": {
            "text/plain": [
              "(3513,)"
            ]
          },
          "metadata": {},
          "execution_count": 69
        }
      ]
    },
    {
      "cell_type": "code",
      "metadata": {
        "colab": {
          "base_uri": "https://localhost:8080/"
        },
        "id": "blRbGZHeCwXU",
        "outputId": "64b5da3d-b7ae-40a3-c9af-c9cd7d4e1e7b"
      },
      "source": [
        "np.unique(bg_idx).shape"
      ],
      "execution_count": 70,
      "outputs": [
        {
          "output_type": "execute_result",
          "data": {
            "text/plain": [
              "(3513,)"
            ]
          },
          "metadata": {},
          "execution_count": 70
        }
      ]
    },
    {
      "cell_type": "code",
      "metadata": {
        "id": "Y43sWeX7C15F"
      },
      "source": [
        "x = x - np.mean(x[bg_idx], axis = 0, keepdims = True)\n"
      ],
      "execution_count": 71,
      "outputs": []
    },
    {
      "cell_type": "code",
      "metadata": {
        "colab": {
          "base_uri": "https://localhost:8080/"
        },
        "id": "ooII7N6UDWe0",
        "outputId": "d510129a-dbcb-4884-a957-a53c1c3ddf4a"
      },
      "source": [
        "np.mean(x[bg_idx], axis = 0, keepdims = True), np.mean(x, axis = 0, keepdims = True)"
      ],
      "execution_count": 72,
      "outputs": [
        {
          "output_type": "execute_result",
          "data": {
            "text/plain": [
              "(array([[-3.94054906e-15, -1.42341147e-15]]),\n",
              " array([[-0.02477713,  0.03899959]]))"
            ]
          },
          "metadata": {},
          "execution_count": 72
        }
      ]
    },
    {
      "cell_type": "code",
      "metadata": {
        "id": "g21bvPRYDL9k"
      },
      "source": [
        "x = x/np.std(x[bg_idx], axis = 0, keepdims = True)"
      ],
      "execution_count": 73,
      "outputs": []
    },
    {
      "cell_type": "code",
      "metadata": {
        "colab": {
          "base_uri": "https://localhost:8080/"
        },
        "id": "GtFvIeHsDZJk",
        "outputId": "9db09949-7d61-4bdb-d7e3-7d03b43922cd"
      },
      "source": [
        "np.std(x[bg_idx], axis = 0, keepdims = True), np.std(x, axis = 0, keepdims = True)"
      ],
      "execution_count": 74,
      "outputs": [
        {
          "output_type": "execute_result",
          "data": {
            "text/plain": [
              "(array([[1., 1.]]), array([[0.86429775, 0.8750994 ]]))"
            ]
          },
          "metadata": {},
          "execution_count": 74
        }
      ]
    },
    {
      "cell_type": "code",
      "metadata": {
        "colab": {
          "base_uri": "https://localhost:8080/",
          "height": 284
        },
        "id": "8-VLhUfDDeHt",
        "outputId": "feedcd61-2157-42ec-d51f-7d65e431e222"
      },
      "source": [
        "for i in range(10):\n",
        "    plt.scatter(x[idx[i],0],x[idx[i],1],label=\"class_\"+str(i))\n",
        "plt.legend(loc='center left', bbox_to_anchor=(1, 0.5))"
      ],
      "execution_count": 75,
      "outputs": [
        {
          "output_type": "execute_result",
          "data": {
            "text/plain": [
              "<matplotlib.legend.Legend at 0x7f327c835750>"
            ]
          },
          "metadata": {},
          "execution_count": 75
        },
        {
          "output_type": "display_data",
          "data": {
            "image/png": "[encoded data removed]",
            "text/plain": [
              "<Figure size 432x288 with 1 Axes>"
            ]
          },
          "metadata": {
            "needs_background": "light"
          }
        }
      ]
    },
    {
      "cell_type": "code",
      "metadata": {
        "id": "UfFHcZJOr0Sz"
      },
      "source": [
        "foreground_classes = {'class_0','class_1', 'class_2'}\n",
        "\n",
        "background_classes = {'class_3','class_4', 'class_5', 'class_6','class_7', 'class_8', 'class_9'}"
      ],
      "execution_count": 76,
      "outputs": []
    },
    {
      "cell_type": "code",
      "metadata": {
        "colab": {
          "base_uri": "https://localhost:8080/"
        },
        "id": "OplNpNQVr0S2",
        "outputId": "eed8978c-52cf-4c17-e47f-99366ef1122e"
      },
      "source": [
        "fg_class  = np.random.randint(0,3)\n",
        "fg_idx = np.random.randint(0,m)\n",
        "\n",
        "a = []\n",
        "for i in range(m):\n",
        "    if i == fg_idx:\n",
        "        b = np.random.choice(np.where(idx[fg_class]==True)[0],size=1)\n",
        "        a.append(x[b])\n",
        "        print(\"foreground \"+str(fg_class)+\" present at \" + str(fg_idx))\n",
        "    else:\n",
        "        bg_class = np.random.randint(3,10)\n",
        "        b = np.random.choice(np.where(idx[bg_class]==True)[0],size=1)\n",
        "        a.append(x[b])\n",
        "        print(\"background \"+str(bg_class)+\" present at \" + str(i))\n",
        "a = np.concatenate(a,axis=0)\n",
        "print(a.shape)\n",
        "\n",
        "print(fg_class , fg_idx)"
      ],
      "execution_count": 77,
      "outputs": [
        {
          "output_type": "stream",
          "name": "stdout",
          "text": [
            "background 3 present at 0\n",
            "background 8 present at 1\n",
            "background 5 present at 2\n",
            "background 3 present at 3\n",
            "background 5 present at 4\n",
            "background 7 present at 5\n",
            "background 6 present at 6\n",
            "background 5 present at 7\n",
            "background 3 present at 8\n",
            "background 5 present at 9\n",
            "background 4 present at 10\n",
            "background 7 present at 11\n",
            "background 4 present at 12\n",
            "background 3 present at 13\n",
            "background 9 present at 14\n",
            "background 6 present at 15\n",
            "background 6 present at 16\n",
            "background 3 present at 17\n",
            "background 3 present at 18\n",
            "background 5 present at 19\n",
            "background 4 present at 20\n",
            "background 4 present at 21\n",
            "background 9 present at 22\n",
            "background 8 present at 23\n",
            "background 3 present at 24\n",
            "background 7 present at 25\n",
            "background 6 present at 26\n",
            "background 8 present at 27\n",
            "background 3 present at 28\n",
            "background 7 present at 29\n",
            "background 8 present at 30\n",
            "background 7 present at 31\n",
            "background 7 present at 32\n",
            "background 5 present at 33\n",
            "background 9 present at 34\n",
            "background 6 present at 35\n",
            "background 4 present at 36\n",
            "background 7 present at 37\n",
            "background 6 present at 38\n",
            "background 3 present at 39\n",
            "background 4 present at 40\n",
            "background 3 present at 41\n",
            "background 4 present at 42\n",
            "background 7 present at 43\n",
            "background 6 present at 44\n",
            "background 5 present at 45\n",
            "background 8 present at 46\n",
            "background 8 present at 47\n",
            "background 7 present at 48\n",
            "background 3 present at 49\n",
            "background 7 present at 50\n",
            "background 7 present at 51\n",
            "background 6 present at 52\n",
            "background 4 present at 53\n",
            "background 3 present at 54\n",
            "background 6 present at 55\n",
            "background 3 present at 56\n",
            "background 8 present at 57\n",
            "background 8 present at 58\n",
            "background 4 present at 59\n",
            "background 7 present at 60\n",
            "background 8 present at 61\n",
            "background 5 present at 62\n",
            "background 8 present at 63\n",
            "background 6 present at 64\n",
            "background 9 present at 65\n",
            "background 6 present at 66\n",
            "background 3 present at 67\n",
            "background 6 present at 68\n",
            "background 3 present at 69\n",
            "background 7 present at 70\n",
            "background 5 present at 71\n",
            "background 9 present at 72\n",
            "background 6 present at 73\n",
            "background 7 present at 74\n",
            "background 5 present at 75\n",
            "background 6 present at 76\n",
            "background 4 present at 77\n",
            "background 6 present at 78\n",
            "background 7 present at 79\n",
            "background 4 present at 80\n",
            "background 3 present at 81\n",
            "foreground 2 present at 82\n",
            "background 4 present at 83\n",
            "background 6 present at 84\n",
            "background 7 present at 85\n",
            "background 3 present at 86\n",
            "background 6 present at 87\n",
            "background 3 present at 88\n",
            "background 4 present at 89\n",
            "background 3 present at 90\n",
            "background 4 present at 91\n",
            "background 3 present at 92\n",
            "background 5 present at 93\n",
            "background 5 present at 94\n",
            "background 7 present at 95\n",
            "background 9 present at 96\n",
            "background 6 present at 97\n",
            "background 6 present at 98\n",
            "background 8 present at 99\n",
            "(100, 2)\n",
            "2 82\n"
          ]
        }
      ]
    },
    {
      "cell_type": "code",
      "metadata": {
        "colab": {
          "base_uri": "https://localhost:8080/"
        },
        "id": "OoxzYI-ur0S_",
        "outputId": "03ade11b-adb8-4c6e-c6cb-07cc0cf0e2d1"
      },
      "source": [
        "np.reshape(a,(2*m,1))"
      ],
      "execution_count": 78,
      "outputs": [
        {
          "output_type": "execute_result",
          "data": {
            "text/plain": [
              "array([[-1.07422895e+00],\n",
              "       [-1.20952282e+00],\n",
              "       [ 1.08984559e+00],\n",
              "       [-5.64161992e-01],\n",
              "       [-6.78913707e-01],\n",
              "       [ 1.27937091e+00],\n",
              "       [-9.92591187e-01],\n",
              "       [-1.18031499e+00],\n",
              "       [-7.71792914e-01],\n",
              "       [ 1.25941783e+00],\n",
              "       [ 1.29283021e+00],\n",
              "       [ 5.05091505e-01],\n",
              "       [ 5.22396250e-01],\n",
              "       [ 1.29681995e+00],\n",
              "       [-7.71792914e-01],\n",
              "       [ 1.25941783e+00],\n",
              "       [-1.04309579e+00],\n",
              "       [-1.06965303e+00],\n",
              "       [-7.95603446e-01],\n",
              "       [ 1.29466872e+00],\n",
              "       [-1.23063037e+00],\n",
              "       [-8.09254903e-03],\n",
              "       [ 1.44574202e+00],\n",
              "       [ 5.99158358e-01],\n",
              "       [-1.44403474e+00],\n",
              "       [ 4.54412350e-02],\n",
              "       [-1.06808318e+00],\n",
              "       [-1.04600257e+00],\n",
              "       [ 2.07195375e-01],\n",
              "       [-1.41318481e+00],\n",
              "       [ 4.88129706e-01],\n",
              "       [ 1.27559279e+00],\n",
              "       [ 5.26188354e-01],\n",
              "       [ 1.22472122e+00],\n",
              "       [-9.63519345e-01],\n",
              "       [-1.06748963e+00],\n",
              "       [-1.12850086e+00],\n",
              "       [-1.11163153e+00],\n",
              "       [-8.62244116e-01],\n",
              "       [ 1.37394805e+00],\n",
              "       [-1.31413258e+00],\n",
              "       [-7.15055093e-02],\n",
              "       [-1.29563931e+00],\n",
              "       [-2.11790698e-02],\n",
              "       [ 1.56253662e-01],\n",
              "       [-1.39193246e+00],\n",
              "       [ 1.07974162e+00],\n",
              "       [-5.52287022e-01],\n",
              "       [-1.00182501e+00],\n",
              "       [-1.11154525e+00],\n",
              "       [ 1.39391131e+00],\n",
              "       [ 5.06525063e-01],\n",
              "       [ 4.35953790e-01],\n",
              "       [ 1.26740470e+00],\n",
              "       [ 1.09452191e+00],\n",
              "       [-5.58785096e-01],\n",
              "       [-1.09511816e+00],\n",
              "       [-1.11181499e+00],\n",
              "       [ 1.40253632e+00],\n",
              "       [ 3.98032661e-01],\n",
              "       [ 1.02056637e+00],\n",
              "       [-6.31053241e-01],\n",
              "       [ 1.31280399e+00],\n",
              "       [ 4.91595746e-01],\n",
              "       [ 1.57641489e+00],\n",
              "       [ 4.80499519e-01],\n",
              "       [-6.64349452e-01],\n",
              "       [ 1.24888456e+00],\n",
              "       [ 2.32357355e-01],\n",
              "       [-1.35441089e+00],\n",
              "       [ 4.76364706e-01],\n",
              "       [ 1.33200804e+00],\n",
              "       [-1.41042686e+00],\n",
              "       [-8.36518689e-06],\n",
              "       [ 1.46177014e+00],\n",
              "       [ 5.46720652e-01],\n",
              "       [ 5.20116042e-01],\n",
              "       [ 1.27065370e+00],\n",
              "       [-1.06768238e+00],\n",
              "       [-1.09937716e+00],\n",
              "       [-1.34841486e+00],\n",
              "       [ 1.10498991e-02],\n",
              "       [-1.09279767e+00],\n",
              "       [-1.12302554e+00],\n",
              "       [-1.27469280e+00],\n",
              "       [ 1.00370752e-01],\n",
              "       [ 1.43511456e+00],\n",
              "       [ 4.92318884e-01],\n",
              "       [ 5.34578983e-01],\n",
              "       [ 1.33355996e+00],\n",
              "       [-7.71070256e-01],\n",
              "       [ 1.23471213e+00],\n",
              "       [ 1.02781202e+00],\n",
              "       [-5.76848710e-01],\n",
              "       [ 1.13835624e+00],\n",
              "       [-5.77795900e-01],\n",
              "       [ 1.39922978e+00],\n",
              "       [ 5.63522942e-01],\n",
              "       [-1.08747237e+00],\n",
              "       [-1.11845915e+00],\n",
              "       [ 1.39329576e+00],\n",
              "       [ 4.30689581e-01],\n",
              "       [ 1.48532942e+00],\n",
              "       [ 5.41217300e-01],\n",
              "       [ 5.02504763e-01],\n",
              "       [ 1.37664051e+00],\n",
              "       [-1.23802124e+00],\n",
              "       [-1.90808341e-02],\n",
              "       [-1.02229843e+00],\n",
              "       [-1.07766024e+00],\n",
              "       [ 3.89548774e-01],\n",
              "       [ 1.29683329e+00],\n",
              "       [-1.03870767e+00],\n",
              "       [-1.03339501e+00],\n",
              "       [ 1.11704051e+00],\n",
              "       [-5.26016068e-01],\n",
              "       [ 1.10891542e+00],\n",
              "       [-5.85360399e-01],\n",
              "       [-1.44205994e+00],\n",
              "       [ 7.40133076e-03],\n",
              "       [ 1.38769291e+00],\n",
              "       [ 4.73470600e-01],\n",
              "       [ 1.08197858e+00],\n",
              "       [-5.48009644e-01],\n",
              "       [-7.52312501e-01],\n",
              "       [ 1.32030442e+00],\n",
              "       [ 1.09379955e+00],\n",
              "       [-5.35850825e-01],\n",
              "       [ 4.97376230e-01],\n",
              "       [ 1.31029344e+00],\n",
              "       [ 2.04756297e-01],\n",
              "       [-1.42065200e+00],\n",
              "       [ 4.68914426e-01],\n",
              "       [ 1.41349821e+00],\n",
              "       [-1.05853727e+00],\n",
              "       [-1.08299149e+00],\n",
              "       [ 3.85857670e-01],\n",
              "       [ 1.31526431e+00],\n",
              "       [-1.06655384e+00],\n",
              "       [-1.05768472e+00],\n",
              "       [ 1.26985148e+00],\n",
              "       [ 4.98072826e-01],\n",
              "       [-6.12180108e-01],\n",
              "       [ 1.37320325e+00],\n",
              "       [ 1.86923961e-01],\n",
              "       [-1.38414386e+00],\n",
              "       [ 4.73894796e-01],\n",
              "       [ 1.31807927e+00],\n",
              "       [ 1.36505938e+00],\n",
              "       [ 5.28167471e-01],\n",
              "       [-8.23547963e-01],\n",
              "       [ 1.27779651e+00],\n",
              "       [ 5.09976233e-01],\n",
              "       [ 1.33583469e+00],\n",
              "       [-1.42640555e+00],\n",
              "       [-3.54246202e-02],\n",
              "       [ 5.03275520e-01],\n",
              "       [ 1.33078342e+00],\n",
              "       [ 1.44838945e+00],\n",
              "       [ 4.82074859e-01],\n",
              "       [-1.36096874e+00],\n",
              "       [ 6.95292823e-03],\n",
              "       [-1.09245877e+00],\n",
              "       [-1.10342413e+00],\n",
              "       [-1.67710881e-01],\n",
              "       [-5.77657763e-01],\n",
              "       [-1.26539031e+00],\n",
              "       [ 1.31985374e-02],\n",
              "       [ 6.36555844e-01],\n",
              "       [ 1.29144440e+00],\n",
              "       [ 1.40974752e+00],\n",
              "       [ 6.13882497e-01],\n",
              "       [-1.06376170e+00],\n",
              "       [-1.04426150e+00],\n",
              "       [ 4.27371231e-01],\n",
              "       [ 1.35987851e+00],\n",
              "       [-9.07440240e-01],\n",
              "       [-1.17640407e+00],\n",
              "       [-1.40175774e+00],\n",
              "       [-2.69769602e-03],\n",
              "       [-9.07440240e-01],\n",
              "       [-1.17640407e+00],\n",
              "       [-1.23063037e+00],\n",
              "       [-8.09254903e-03],\n",
              "       [-1.05765456e+00],\n",
              "       [-1.08111468e+00],\n",
              "       [-7.83043809e-01],\n",
              "       [ 1.34763509e+00],\n",
              "       [-7.57028338e-01],\n",
              "       [ 1.28949588e+00],\n",
              "       [ 1.40447742e+00],\n",
              "       [ 4.26040287e-01],\n",
              "       [ 2.00209211e-01],\n",
              "       [-1.31108911e+00],\n",
              "       [ 5.09587789e-01],\n",
              "       [ 1.35937734e+00],\n",
              "       [ 4.95926104e-01],\n",
              "       [ 1.30431087e+00],\n",
              "       [ 1.07639814e+00],\n",
              "       [-6.20036744e-01]])"
            ]
          },
          "metadata": {},
          "execution_count": 78
        }
      ]
    },
    {
      "cell_type": "code",
      "metadata": {
        "id": "jqbvfbwVr0TN"
      },
      "source": [
        "\n",
        "mosaic_list_of_images =[]\n",
        "mosaic_label = []\n",
        "fore_idx=[]\n",
        "for j in range(desired_num):\n",
        "    np.random.seed(j)\n",
        "    fg_class  = np.random.randint(0,3)\n",
        "    fg_idx = np.random.randint(0,m)\n",
        "    a = []\n",
        "    for i in range(m):\n",
        "        if i == fg_idx:\n",
        "            b = np.random.choice(np.where(idx[fg_class]==True)[0],size=1)\n",
        "            a.append(x[b])\n",
        "#             print(\"foreground \"+str(fg_class)+\" present at \" + str(fg_idx))\n",
        "        else:\n",
        "            bg_class = np.random.randint(3,10)\n",
        "            b = np.random.choice(np.where(idx[bg_class]==True)[0],size=1)\n",
        "            a.append(x[b])\n",
        "#             print(\"background \"+str(bg_class)+\" present at \" + str(i))\n",
        "    a = np.concatenate(a,axis=0)\n",
        "    mosaic_list_of_images.append(np.reshape(a,(2*m,1)))\n",
        "    mosaic_label.append(fg_class)\n",
        "    fore_idx.append(fg_idx)"
      ],
      "execution_count": 79,
      "outputs": []
    },
    {
      "cell_type": "code",
      "metadata": {
        "colab": {
          "base_uri": "https://localhost:8080/"
        },
        "id": "YzJPNP2mFwAG",
        "outputId": "fcba92cd-7f6e-44de-f7fa-1afb5cb58063"
      },
      "source": [
        "mosaic_list_of_images = np.concatenate(mosaic_list_of_images,axis=1).T\n",
        "mosaic_list_of_images.shape"
      ],
      "execution_count": 80,
      "outputs": [
        {
          "output_type": "execute_result",
          "data": {
            "text/plain": [
              "(1500, 200)"
            ]
          },
          "metadata": {},
          "execution_count": 80
        }
      ]
    },
    {
      "cell_type": "code",
      "metadata": {
        "colab": {
          "base_uri": "https://localhost:8080/"
        },
        "id": "2aIPMgLXNiXW",
        "outputId": "c5d4b5bb-a569-4ff6-f3ca-37ed14c3b05d"
      },
      "source": [
        "mosaic_list_of_images.shape, mosaic_list_of_images[0]"
      ],
      "execution_count": 81,
      "outputs": [
        {
          "output_type": "execute_result",
          "data": {
            "text/plain": [
              "((1500, 200),\n",
              " array([ 1.26013674e+00, -5.51913618e-01,  4.77632906e-01,  1.25059329e+00,\n",
              "         5.42307052e-01,  1.29438001e+00, -1.30547943e+00, -8.37910017e-02,\n",
              "         1.10227457e+00, -5.56590401e-01,  1.44996512e+00,  5.26308973e-01,\n",
              "         1.86354734e-01, -1.38666417e+00, -1.04928029e+00, -1.12467272e+00,\n",
              "        -7.88733214e-01,  1.29405413e+00,  1.84567463e-01, -1.32037523e+00,\n",
              "         1.23422877e-01, -1.33506830e+00, -1.38697545e+00,  8.10406759e-03,\n",
              "         5.41318744e-01,  1.22618666e+00,  4.75293110e-01,  1.35411842e+00,\n",
              "         1.74118890e-01, -1.37819640e+00, -9.94579337e-01, -1.16020706e+00,\n",
              "        -1.15891128e+00, -1.08140978e+00,  5.12115619e-01,  1.32352332e+00,\n",
              "         5.52207675e-01,  1.32050992e+00,  1.08191989e-01, -1.26074103e+00,\n",
              "        -1.09829769e+00, -1.13051010e+00, -1.32539091e+00, -5.31357437e-02,\n",
              "        -1.05163019e+00, -1.01348995e+00,  5.27791381e-01,  1.38226347e+00,\n",
              "        -7.91206380e-01,  1.28165655e+00,  1.35517704e+00,  4.98137160e-01,\n",
              "        -1.08665573e+00, -1.09010415e+00,  1.43215209e+00,  5.18998958e-01,\n",
              "         1.17352851e+00, -5.32011001e-01, -1.16052601e+00, -1.08896392e+00,\n",
              "         1.25063632e+00,  5.54900419e-01, -7.21081656e-01,  1.29521315e+00,\n",
              "        -1.00259368e+00, -1.06012338e+00, -1.42661154e+00,  6.40379803e-02,\n",
              "        -1.32859875e+00, -8.55584334e-02,  3.90110940e-01,  1.28971354e+00,\n",
              "         4.02221890e-01,  1.28409148e+00, -7.84484969e-01,  1.33251652e+00,\n",
              "        -1.07960956e+00, -1.15552900e+00,  4.24861335e-01,  1.29422886e+00,\n",
              "         1.31300791e+00,  4.46508509e-01, -7.32414584e-01,  1.25316189e+00,\n",
              "         5.16136692e-01,  1.32632028e+00,  1.14439047e-01, -1.32546558e+00,\n",
              "         1.30573395e+00,  5.84644486e-01,  1.40987938e+00,  5.60071194e-01,\n",
              "         1.36101026e+00,  4.63792481e-01, -5.11837040e-01,  5.27414554e-01,\n",
              "         1.42824841e+00,  5.42724817e-01, -7.47354664e-01,  1.33682907e+00,\n",
              "         1.07946547e+00, -5.86988401e-01,  1.15034766e+00, -5.49028957e-01,\n",
              "        -1.37812034e+00, -6.98420963e-02, -1.41616981e+00,  1.46202742e-04,\n",
              "        -1.04204699e+00, -1.05000976e+00,  1.07719154e+00, -4.81453622e-01,\n",
              "        -1.07787220e+00, -1.06962903e+00, -7.31305440e-01,  1.34255630e+00,\n",
              "         1.09836308e+00, -4.53936071e-01, -8.02221189e-01,  1.26134674e+00,\n",
              "         1.04752796e+00, -5.88430304e-01,  9.86250566e-01, -5.56446635e-01,\n",
              "        -1.08270418e+00, -1.06313294e+00,  4.76364706e-01,  1.33200804e+00,\n",
              "         4.32789451e-01,  1.37680646e+00, -1.29870341e+00, -9.42828195e-02,\n",
              "         2.27931534e-01, -1.47756215e+00,  5.03275520e-01,  1.33078342e+00,\n",
              "         9.99555715e-02, -1.27564284e+00, -1.30227066e+00,  2.17378282e-02,\n",
              "         4.46256394e-01,  1.28140195e+00, -1.39492850e+00,  1.15116447e-01,\n",
              "        -1.41224749e+00,  2.74405955e-02, -7.37294115e-01,  1.30904854e+00,\n",
              "         5.70766657e-01,  1.29034356e+00,  5.01448055e-01,  1.30296237e+00,\n",
              "         5.30890461e-01,  1.39468729e+00, -1.02775899e+00, -1.10642455e+00,\n",
              "        -1.03699982e+00, -1.16160778e+00,  1.97472874e-01, -1.31212695e+00,\n",
              "        -9.72589573e-01, -1.06430211e+00, -1.09955505e+00, -1.08926747e+00,\n",
              "        -9.07440240e-01, -1.17640407e+00,  8.69113334e-02, -1.38101706e+00,\n",
              "         4.00825268e-01,  1.32720674e+00, -1.05498540e+00, -1.06967334e+00,\n",
              "        -1.09245877e+00, -1.10342413e+00, -1.02883546e+00, -1.04398204e+00,\n",
              "        -8.54117099e-01,  1.33864834e+00,  1.50620164e+00,  3.45988449e-01,\n",
              "         1.35320945e+00,  4.27853117e-01,  1.85263254e-01, -1.28953864e+00,\n",
              "         6.10683420e-01,  1.33258580e+00,  4.14642084e-01,  1.33613092e+00,\n",
              "         9.94404374e-01, -5.42047930e-01,  1.13835624e+00, -5.77795900e-01,\n",
              "        -1.09466866e+00, -1.01195714e+00,  1.15633249e+00, -5.88603396e-01,\n",
              "         9.10741940e-02, -1.31384187e+00, -1.14922355e+00, -1.15834050e+00]))"
            ]
          },
          "metadata": {},
          "execution_count": 81
        }
      ]
    },
    {
      "cell_type": "code",
      "metadata": {
        "colab": {
          "base_uri": "https://localhost:8080/"
        },
        "id": "A3qcsbbzPfRG",
        "outputId": "9b6dad31-6c0e-41c6-b65a-a31d74bb0865"
      },
      "source": [
        "for j in range(m):\n",
        "  print(mosaic_list_of_images[0][2*j:2*j+2])\n",
        "  "
      ],
      "execution_count": 82,
      "outputs": [
        {
          "output_type": "stream",
          "name": "stdout",
          "text": [
            "[ 1.26013674 -0.55191362]\n",
            "[0.47763291 1.25059329]\n",
            "[0.54230705 1.29438001]\n",
            "[-1.30547943 -0.083791  ]\n",
            "[ 1.10227457 -0.5565904 ]\n",
            "[1.44996512 0.52630897]\n",
            "[ 0.18635473 -1.38666417]\n",
            "[-1.04928029 -1.12467272]\n",
            "[-0.78873321  1.29405413]\n",
            "[ 0.18456746 -1.32037523]\n",
            "[ 0.12342288 -1.3350683 ]\n",
            "[-1.38697545  0.00810407]\n",
            "[0.54131874 1.22618666]\n",
            "[0.47529311 1.35411842]\n",
            "[ 0.17411889 -1.3781964 ]\n",
            "[-0.99457934 -1.16020706]\n",
            "[-1.15891128 -1.08140978]\n",
            "[0.51211562 1.32352332]\n",
            "[0.55220767 1.32050992]\n",
            "[ 0.10819199 -1.26074103]\n",
            "[-1.09829769 -1.1305101 ]\n",
            "[-1.32539091 -0.05313574]\n",
            "[-1.05163019 -1.01348995]\n",
            "[0.52779138 1.38226347]\n",
            "[-0.79120638  1.28165655]\n",
            "[1.35517704 0.49813716]\n",
            "[-1.08665573 -1.09010415]\n",
            "[1.43215209 0.51899896]\n",
            "[ 1.17352851 -0.532011  ]\n",
            "[-1.16052601 -1.08896392]\n",
            "[1.25063632 0.55490042]\n",
            "[-0.72108166  1.29521315]\n",
            "[-1.00259368 -1.06012338]\n",
            "[-1.42661154  0.06403798]\n",
            "[-1.32859875 -0.08555843]\n",
            "[0.39011094 1.28971354]\n",
            "[0.40222189 1.28409148]\n",
            "[-0.78448497  1.33251652]\n",
            "[-1.07960956 -1.155529  ]\n",
            "[0.42486134 1.29422886]\n",
            "[1.31300791 0.44650851]\n",
            "[-0.73241458  1.25316189]\n",
            "[0.51613669 1.32632028]\n",
            "[ 0.11443905 -1.32546558]\n",
            "[1.30573395 0.58464449]\n",
            "[1.40987938 0.56007119]\n",
            "[1.36101026 0.46379248]\n",
            "[-0.51183704  0.52741455]\n",
            "[1.42824841 0.54272482]\n",
            "[-0.74735466  1.33682907]\n",
            "[ 1.07946547 -0.5869884 ]\n",
            "[ 1.15034766 -0.54902896]\n",
            "[-1.37812034 -0.0698421 ]\n",
            "[-1.41616981e+00  1.46202742e-04]\n",
            "[-1.04204699 -1.05000976]\n",
            "[ 1.07719154 -0.48145362]\n",
            "[-1.0778722  -1.06962903]\n",
            "[-0.73130544  1.3425563 ]\n",
            "[ 1.09836308 -0.45393607]\n",
            "[-0.80222119  1.26134674]\n",
            "[ 1.04752796 -0.5884303 ]\n",
            "[ 0.98625057 -0.55644663]\n",
            "[-1.08270418 -1.06313294]\n",
            "[0.47636471 1.33200804]\n",
            "[0.43278945 1.37680646]\n",
            "[-1.29870341 -0.09428282]\n",
            "[ 0.22793153 -1.47756215]\n",
            "[0.50327552 1.33078342]\n",
            "[ 0.09995557 -1.27564284]\n",
            "[-1.30227066  0.02173783]\n",
            "[0.44625639 1.28140195]\n",
            "[-1.3949285   0.11511645]\n",
            "[-1.41224749  0.0274406 ]\n",
            "[-0.73729412  1.30904854]\n",
            "[0.57076666 1.29034356]\n",
            "[0.50144806 1.30296237]\n",
            "[0.53089046 1.39468729]\n",
            "[-1.02775899 -1.10642455]\n",
            "[-1.03699982 -1.16160778]\n",
            "[ 0.19747287 -1.31212695]\n",
            "[-0.97258957 -1.06430211]\n",
            "[-1.09955505 -1.08926747]\n",
            "[-0.90744024 -1.17640407]\n",
            "[ 0.08691133 -1.38101706]\n",
            "[0.40082527 1.32720674]\n",
            "[-1.0549854  -1.06967334]\n",
            "[-1.09245877 -1.10342413]\n",
            "[-1.02883546 -1.04398204]\n",
            "[-0.8541171   1.33864834]\n",
            "[1.50620164 0.34598845]\n",
            "[1.35320945 0.42785312]\n",
            "[ 0.18526325 -1.28953864]\n",
            "[0.61068342 1.3325858 ]\n",
            "[0.41464208 1.33613092]\n",
            "[ 0.99440437 -0.54204793]\n",
            "[ 1.13835624 -0.5777959 ]\n",
            "[-1.09466866 -1.01195714]\n",
            "[ 1.15633249 -0.5886034 ]\n",
            "[ 0.09107419 -1.31384187]\n",
            "[-1.14922355 -1.1583405 ]\n"
          ]
        }
      ]
    },
    {
      "cell_type": "code",
      "metadata": {
        "id": "iPoIwbMHx44n"
      },
      "source": [
        "def create_avg_image_from_mosaic_dataset(mosaic_dataset,labels,foreground_index,dataset_number, m):\n",
        "  \"\"\"\n",
        "  mosaic_dataset : mosaic_dataset contains 9 images 32 x 32 each as 1 data point\n",
        "  labels : mosaic_dataset labels\n",
        "  foreground_index : contains list of indexes where foreground image is present so that using this we can take weighted average\n",
        "  dataset_number : will help us to tell what ratio of foreground image to be taken. for eg: if it is \"j\" then fg_image_ratio = j/9 , bg_image_ratio = (9-j)/8*9\n",
        "  \"\"\"\n",
        "  avg_image_dataset = []\n",
        "  cnt = 0\n",
        "  counter = np.zeros(m) #np.array([0,0,0,0,0,0,0,0,0])\n",
        "  for i in range(len(mosaic_dataset)):\n",
        "    img = torch.zeros([2], dtype=torch.float64)\n",
        "    np.random.seed(int(dataset_number*10000 + i))\n",
        "    give_pref = foreground_index[i] #np.random.randint(0,9)\n",
        "    # print(\"outside\", give_pref,foreground_index[i])\n",
        "    for j in range(m):\n",
        "      if j == give_pref:\n",
        "        img = img + mosaic_dataset[i][2*j:2*j+2]*dataset_number/m   #2 is data dim\n",
        "      else :\n",
        "        img = img + mosaic_dataset[i][2*j:2*j+2]*(m-dataset_number)/((m-1)*m)\n",
        "\n",
        "    if give_pref == foreground_index[i] :\n",
        "      # print(\"equal are\", give_pref,foreground_index[i])\n",
        "      cnt += 1\n",
        "      counter[give_pref] += 1\n",
        "    else :\n",
        "      counter[give_pref] += 1\n",
        "\n",
        "    avg_image_dataset.append(img)\n",
        "\n",
        "  print(\"number of correct averaging happened for dataset \"+str(dataset_number)+\" is \"+str(cnt)) \n",
        "  print(\"the averaging are done as \", counter) \n",
        "  return avg_image_dataset , labels , foreground_index\n",
        "        \n",
        "  "
      ],
      "execution_count": 83,
      "outputs": []
    },
    {
      "cell_type": "code",
      "metadata": {
        "colab": {
          "base_uri": "https://localhost:8080/"
        },
        "id": "30ZAjix3x8CM",
        "outputId": "2bd16d2e-d184-4851-e0c0-7421b2a53423"
      },
      "source": [
        "avg_image_dataset_1 , labels_1,  fg_index_1 = create_avg_image_from_mosaic_dataset(mosaic_list_of_images[0:tr_j], mosaic_label[0:tr_j], fore_idx[0:tr_j] , 1, m)\n",
        "\n",
        "\n",
        "test_dataset , labels , fg_index = create_avg_image_from_mosaic_dataset(mosaic_list_of_images[tr_j : tr_k], mosaic_label[tr_j : tr_k], fore_idx[tr_j : tr_k] , m, m)"
      ],
      "execution_count": 84,
      "outputs": [
        {
          "output_type": "stream",
          "name": "stdout",
          "text": [
            "number of correct averaging happened for dataset 1 is 500\n",
            "the averaging are done as  [ 5.  2.  4.  7.  4.  7.  3.  3.  2.  2.  3.  5.  9.  5.  4.  9.  4.  2.\n",
            "  9.  7.  4.  4.  4.  8.  5.  5.  8.  1.  7.  5.  6.  4.  4.  1.  7. 12.\n",
            "  2.  3.  5.  4.  4.  8.  5.  6.  3.  4.  7.  4.  8.  2.  7.  5.  5.  1.\n",
            "  5.  3.  6.  5. 10.  2.  9.  6. 10.  4.  6.  5.  8.  2.  2.  9.  2.  8.\n",
            "  4.  7.  6.  8.  6.  3.  2.  4.  5.  9.  5.  5.  5.  3.  6.  4.  2.  6.\n",
            "  6.  4.  4.  5.  3.  4.  5.  4.  7.  2.]\n",
            "number of correct averaging happened for dataset 100 is 1000\n",
            "the averaging are done as  [13. 11. 12. 12.  9.  9. 11. 10.  4. 12. 11. 11.  9.  8.  4. 11. 13. 18.\n",
            "  8.  8. 16.  7.  8. 10.  9.  7. 15. 14. 14. 12. 14.  9. 10. 11.  4.  8.\n",
            "  5. 10.  8.  8.  9.  8.  4.  8.  5.  8. 16.  6.  7. 14.  6.  6.  8.  8.\n",
            "  8. 13. 13.  9.  8.  7.  6. 12.  7. 11. 15.  9. 14.  6. 13.  9. 19.  9.\n",
            " 12.  6.  7.  6. 15. 11. 10. 12. 19.  9.  7.  9.  9.  8. 12. 12.  7.  8.\n",
            " 11.  9. 16.  9. 12. 19.  8.  8. 11. 14.]\n"
          ]
        }
      ]
    },
    {
      "cell_type": "code",
      "metadata": {
        "colab": {
          "base_uri": "https://localhost:8080/"
        },
        "id": "0dYXnywAD-4l",
        "outputId": "cb09a694-e212-46b6-d030-1d667f186d9d"
      },
      "source": [
        "avg_image_dataset_1 = torch.stack(avg_image_dataset_1, axis = 0)\n",
        "# avg_image_dataset_1 = (avg - torch.mean(avg, keepdims= True, axis = 0)) / torch.std(avg, keepdims= True, axis = 0)\n",
        "# print(torch.mean(avg_image_dataset_1, keepdims= True, axis = 0))\n",
        "# print(torch.std(avg_image_dataset_1, keepdims= True, axis = 0))\n",
        "print(\"==\"*40)\n",
        "\n",
        "\n",
        "test_dataset = torch.stack(test_dataset, axis = 0)\n",
        "# test_dataset = (avg - torch.mean(avg, keepdims= True, axis = 0)) / torch.std(avg, keepdims= True, axis = 0)\n",
        "# print(torch.mean(test_dataset, keepdims= True, axis = 0))\n",
        "# print(torch.std(test_dataset, keepdims= True, axis = 0))\n",
        "print(\"==\"*40)\n"
      ],
      "execution_count": 85,
      "outputs": [
        {
          "output_type": "stream",
          "name": "stdout",
          "text": [
            "================================================================================\n",
            "================================================================================\n"
          ]
        }
      ]
    },
    {
      "cell_type": "code",
      "metadata": {
        "colab": {
          "base_uri": "https://localhost:8080/",
          "height": 300
        },
        "id": "bT9-kEI7NAnR",
        "outputId": "a917232e-bc8f-4939-ec77-3916b24dd49d"
      },
      "source": [
        "x1 = (avg_image_dataset_1).numpy()\n",
        "y1 = np.array(labels_1)\n",
        "\n",
        "plt.scatter(x1[y1==0,0], x1[y1==0,1], label='class 0')\n",
        "plt.scatter(x1[y1==1,0], x1[y1==1,1], label='class 1')\n",
        "plt.scatter(x1[y1==2,0], x1[y1==2,1], label='class 2')\n",
        "plt.legend()\n",
        "plt.title(\"dataset4 CIN with alpha = 1/\"+str(m))"
      ],
      "execution_count": 86,
      "outputs": [
        {
          "output_type": "execute_result",
          "data": {
            "text/plain": [
              "Text(0.5, 1.0, 'dataset4 CIN with alpha = 1/100')"
            ]
          },
          "metadata": {},
          "execution_count": 86
        },
        {
          "output_type": "display_data",
          "data": {
            "image/png": "[encoded data removed]",
            "text/plain": [
              "<Figure size 432x288 with 1 Axes>"
            ]
          },
          "metadata": {
            "needs_background": "light"
          }
        }
      ]
    },
    {
      "cell_type": "code",
      "metadata": {
        "colab": {
          "base_uri": "https://localhost:8080/",
          "height": 300
        },
        "id": "Sc8W2N7LQQ_l",
        "outputId": "dee15fad-c9c4-49b8-e6cc-4409b702fc19"
      },
      "source": [
        "x1 = (test_dataset).numpy() / m\n",
        "y1 = np.array(labels)\n",
        "\n",
        "plt.scatter(x1[y1==0,0], x1[y1==0,1], label='class 0')\n",
        "plt.scatter(x1[y1==1,0], x1[y1==1,1], label='class 1')\n",
        "plt.scatter(x1[y1==2,0], x1[y1==2,1], label='class 2')\n",
        "plt.legend()\n",
        "plt.title(\"test dataset4\")"
      ],
      "execution_count": 87,
      "outputs": [
        {
          "output_type": "execute_result",
          "data": {
            "text/plain": [
              "Text(0.5, 1.0, 'test dataset4')"
            ]
          },
          "metadata": {},
          "execution_count": 87
        },
        {
          "output_type": "display_data",
          "data": {
            "image/png": "[encoded data removed]",
            "text/plain": [
              "<Figure size 432x288 with 1 Axes>"
            ]
          },
          "metadata": {
            "needs_background": "light"
          }
        }
      ]
    },
    {
      "cell_type": "code",
      "metadata": {
        "colab": {
          "base_uri": "https://localhost:8080/"
        },
        "id": "pWVkaBZGXCRN",
        "outputId": "c66a221b-80df-4ff7-91ba-d06a0a767d3f"
      },
      "source": [
        "test_dataset[0:10]/m"
      ],
      "execution_count": 88,
      "outputs": [
        {
          "output_type": "execute_result",
          "data": {
            "text/plain": [
              "tensor([[-0.0007, -0.0047],\n",
              "        [-0.0052,  0.0053],\n",
              "        [-0.0037,  0.0053],\n",
              "        [ 0.0042,  0.0021],\n",
              "        [-0.0015, -0.0055],\n",
              "        [ 0.0048,  0.0021],\n",
              "        [-0.0043,  0.0051],\n",
              "        [-0.0052,  0.0042],\n",
              "        [ 0.0046,  0.0023],\n",
              "        [-0.0008, -0.0057]], dtype=torch.float64)"
            ]
          },
          "metadata": {},
          "execution_count": 88
        }
      ]
    },
    {
      "cell_type": "code",
      "metadata": {
        "colab": {
          "base_uri": "https://localhost:8080/"
        },
        "id": "JDZLkEGbXGqg",
        "outputId": "a8726824-e43c-4ee1-9751-f9355ebedf49"
      },
      "source": [
        "test_dataset = test_dataset/m\n",
        "test_dataset[0:10]"
      ],
      "execution_count": 89,
      "outputs": [
        {
          "output_type": "execute_result",
          "data": {
            "text/plain": [
              "tensor([[-0.0007, -0.0047],\n",
              "        [-0.0052,  0.0053],\n",
              "        [-0.0037,  0.0053],\n",
              "        [ 0.0042,  0.0021],\n",
              "        [-0.0015, -0.0055],\n",
              "        [ 0.0048,  0.0021],\n",
              "        [-0.0043,  0.0051],\n",
              "        [-0.0052,  0.0042],\n",
              "        [ 0.0046,  0.0023],\n",
              "        [-0.0008, -0.0057]], dtype=torch.float64)"
            ]
          },
          "metadata": {},
          "execution_count": 89
        }
      ]
    },
    {
      "cell_type": "code",
      "metadata": {
        "colab": {
          "base_uri": "https://localhost:8080/"
        },
        "id": "ngmzqU1nB3pF",
        "outputId": "bf19d532-3e4e-4c5b-dfaa-642b9a835e17"
      },
      "source": [
        "test_dataset.shape"
      ],
      "execution_count": 90,
      "outputs": [
        {
          "output_type": "execute_result",
          "data": {
            "text/plain": [
              "torch.Size([1000, 2])"
            ]
          },
          "metadata": {},
          "execution_count": 90
        }
      ]
    },
    {
      "cell_type": "code",
      "metadata": {
        "id": "yL0BRf8er0TX"
      },
      "source": [
        "class MosaicDataset(Dataset):\n",
        "  \"\"\"MosaicDataset dataset.\"\"\"\n",
        "\n",
        "  def __init__(self, mosaic_list_of_images, mosaic_label):\n",
        "    \"\"\"\n",
        "      Args:\n",
        "        csv_file (string): Path to the csv file with annotations.\n",
        "        root_dir (string): Directory with all the images.\n",
        "        transform (callable, optional): Optional transform to be applied\n",
        "            on a sample.\n",
        "    \"\"\"\n",
        "    self.mosaic = mosaic_list_of_images\n",
        "    self.label = mosaic_label\n",
        "    #self.fore_idx = fore_idx\n",
        "    \n",
        "  def __len__(self):\n",
        "    return len(self.label)\n",
        "\n",
        "  def __getitem__(self, idx):\n",
        "    return self.mosaic[idx] , self.label[idx] #, self.fore_idx[idx]\n",
        "\n"
      ],
      "execution_count": 91,
      "outputs": []
    },
    {
      "cell_type": "code",
      "metadata": {
        "colab": {
          "base_uri": "https://localhost:8080/"
        },
        "id": "4KsrW9qL9xgS",
        "outputId": "0ea179a6-629e-49b4-ddb0-cb14f6ddc304"
      },
      "source": [
        "avg_image_dataset_1[0].shape\n",
        "avg_image_dataset_1[0]"
      ],
      "execution_count": 92,
      "outputs": [
        {
          "output_type": "execute_result",
          "data": {
            "text/plain": [
              "tensor([-0.0607, -0.0015], dtype=torch.float64)"
            ]
          },
          "metadata": {},
          "execution_count": 92
        }
      ]
    },
    {
      "cell_type": "code",
      "metadata": {
        "id": "EY2l62APygaV"
      },
      "source": [
        "batch = 200\n",
        "\n",
        "traindata_1 = MosaicDataset(avg_image_dataset_1, labels_1 )\n",
        "trainloader_1 = DataLoader( traindata_1 , batch_size= batch ,shuffle=True)\n"
      ],
      "execution_count": 93,
      "outputs": []
    },
    {
      "cell_type": "code",
      "metadata": {
        "id": "9suUslCj8YZK"
      },
      "source": [
        "testdata_1 = MosaicDataset(test_dataset, labels )\n",
        "testloader_1 = DataLoader( testdata_1 , batch_size= batch ,shuffle=False)\n"
      ],
      "execution_count": 94,
      "outputs": []
    },
    {
      "cell_type": "code",
      "metadata": {
        "id": "Nh3mBQHZ8bEj"
      },
      "source": [
        "# testdata_11 = MosaicDataset(test_dataset, labels )\n",
        "# testloader_11 = DataLoader( testdata_11 , batch_size= batch ,shuffle=False)"
      ],
      "execution_count": 95,
      "outputs": []
    },
    {
      "cell_type": "code",
      "metadata": {
        "id": "5_XeIUk0r0Tl"
      },
      "source": [
        "class Whatnet(nn.Module):\n",
        "    def __init__(self):\n",
        "        super(Whatnet,self).__init__()\n",
        "        self.linear1 = nn.Linear(2,50)\n",
        "        self.linear2 = nn.Linear(50,3)\n",
        "\n",
        "        torch.nn.init.xavier_normal_(self.linear1.weight)\n",
        "        torch.nn.init.zeros_(self.linear1.bias)\n",
        "        torch.nn.init.xavier_normal_(self.linear2.weight)\n",
        "        torch.nn.init.zeros_(self.linear2.bias)\n",
        "\n",
        "    def forward(self,x):\n",
        "        x = F.relu(self.linear1(x))\n",
        "        x = (self.linear2(x))\n",
        "\n",
        "        return x"
      ],
      "execution_count": 96,
      "outputs": []
    },
    {
      "cell_type": "code",
      "metadata": {
        "id": "pjD2VZuV9Ed4"
      },
      "source": [
        "def calculate_loss(dataloader,model,criter):\n",
        "  model.eval()\n",
        "  r_loss = 0\n",
        "  with torch.no_grad():\n",
        "    for i, data in enumerate(dataloader, 0):\n",
        "      inputs, labels = data\n",
        "      inputs, labels = inputs.to(\"cuda\"),labels.to(\"cuda\")\n",
        "      outputs = model(inputs)\n",
        "      loss = criter(outputs, labels)\n",
        "      r_loss += loss.item()\n",
        "  return r_loss/(i+1)"
      ],
      "execution_count": 97,
      "outputs": []
    },
    {
      "cell_type": "code",
      "metadata": {
        "id": "uALi25pmzQHV"
      },
      "source": [
        "def test_all(number, testloader,net):\n",
        "    correct = 0\n",
        "    total = 0\n",
        "    out = []\n",
        "    pred = []\n",
        "    with torch.no_grad():\n",
        "        for data in testloader:\n",
        "            images, labels = data\n",
        "            images, labels = images.to(\"cuda\"),labels.to(\"cuda\")\n",
        "            out.append(labels.cpu().numpy())\n",
        "            outputs= net(images)\n",
        "            _, predicted = torch.max(outputs.data, 1)\n",
        "            pred.append(predicted.cpu().numpy())\n",
        "            total += labels.size(0)\n",
        "            correct += (predicted == labels).sum().item()\n",
        "    \n",
        "    pred = np.concatenate(pred, axis = 0)\n",
        "    out = np.concatenate(out, axis = 0)\n",
        "    print(\"unique out: \",  np.unique(out), \"unique pred: \", np.unique(pred) )\n",
        "    print(\"correct: \", correct, \"total \",  total)\n",
        "    print('Accuracy of the network on the %d test dataset %d: %.2f %%' % (total, number , 100 * correct / total))"
      ],
      "execution_count": 98,
      "outputs": []
    },
    {
      "cell_type": "code",
      "metadata": {
        "id": "4vmNprlPzTjP"
      },
      "source": [
        "def train_all(trainloader, ds_number, testloader_list, lr_list):\n",
        "  \n",
        "  final_loss = []\n",
        "  for LR in lr_list:    \n",
        "    print(\"--\"*20, \"Learning Rate used is\", LR)\n",
        "    \n",
        "    torch.manual_seed(14)\n",
        "    net = Whatnet().double()\n",
        "    net = net.to(\"cuda\")\n",
        "    \n",
        "    criterion_net = nn.CrossEntropyLoss()\n",
        "    optimizer_net = optim.Adam(net.parameters(), lr=LR ) #, momentum=0.9)\n",
        "    \n",
        "    acti = []\n",
        "    loss_curi = []\n",
        "    epochs = 1000\n",
        "    running_loss = calculate_loss(trainloader,net,criterion_net)\n",
        "    loss_curi.append(running_loss)\n",
        "    print('epoch: [%d ] loss: %.3f' %(0,running_loss)) \n",
        "    for epoch in range(epochs): # loop over the dataset multiple times\n",
        "        ep_lossi = []\n",
        "\n",
        "        running_loss = 0.0\n",
        "        net.train()\n",
        "        for i, data in enumerate(trainloader, 0):\n",
        "            # get the inputs\n",
        "            inputs, labels = data\n",
        "            inputs, labels = inputs.to(\"cuda\"),labels.to(\"cuda\")\n",
        "\n",
        "            # zero the parameter gradients\n",
        "            optimizer_net.zero_grad()\n",
        "\n",
        "            # forward + backward + optimize\n",
        "            outputs = net(inputs)\n",
        "            loss = criterion_net(outputs, labels)\n",
        "            # print statistics\n",
        "            running_loss += loss.item()\n",
        "            loss.backward()\n",
        "            optimizer_net.step()\n",
        "\n",
        "        running_loss = calculate_loss(trainloader,net,criterion_net)\n",
        "        if(epoch%200 == 0):\n",
        "          print('epoch: [%d] loss: %.3f' %(epoch + 1,running_loss)) \n",
        "        loss_curi.append(running_loss)   #loss per epoch\n",
        "        if running_loss<=0.05:\n",
        "          print('epoch: [%d] loss: %.3f' %(epoch + 1,running_loss))\n",
        "          break\n",
        "\n",
        "    print('Finished Training')\n",
        "    \n",
        "    correct = 0\n",
        "    total = 0\n",
        "    with torch.no_grad():\n",
        "        for data in trainloader:\n",
        "            images, labels = data\n",
        "            images, labels = images.to(\"cuda\"), labels.to(\"cuda\")\n",
        "            outputs = net(images)\n",
        "            _, predicted = torch.max(outputs.data, 1)\n",
        "            total += labels.size(0)\n",
        "            correct += (predicted == labels).sum().item()\n",
        "\n",
        "    print('Accuracy of the network on the %d train images: %.2f %%' % (total,  100 * correct / total))\n",
        "    \n",
        "    for i, j in enumerate(testloader_list):\n",
        "        test_all(i+1, j,net)\n",
        "    \n",
        "    print(\"--\"*40)\n",
        "    \n",
        "    final_loss.append(loss_curi) \n",
        "  return final_loss\n",
        "    "
      ],
      "execution_count": 105,
      "outputs": []
    },
    {
      "cell_type": "code",
      "metadata": {
        "id": "Yl41sE8vFERk"
      },
      "source": [
        "train_loss_all=[]\n",
        "\n",
        "testloader_list= [ testloader_1]\n",
        "lr_list = [0.0001, 0.0005, 0.001, 0.005, 0.01, 0.05, 0.1, 0.5 ]"
      ],
      "execution_count": 106,
      "outputs": []
    },
    {
      "cell_type": "code",
      "metadata": {
        "colab": {
          "base_uri": "https://localhost:8080/"
        },
        "id": "5gQoPST5zW2t",
        "outputId": "9670ceca-b847-49f6-b0b1-5e4b1cf8ae31"
      },
      "source": [
        "fin_loss = train_all(trainloader_1, 1, testloader_list, lr_list)\n",
        "train_loss_all.append(fin_loss)"
      ],
      "execution_count": 107,
      "outputs": [
        {
          "output_type": "stream",
          "name": "stdout",
          "text": [
            "---------------------------------------- Learning Rate used is 0.0001\n",
            "epoch: [0 ] loss: 1.098\n",
            "epoch: [1] loss: 1.099\n",
            "epoch: [201] loss: 1.096\n",
            "epoch: [401] loss: 1.094\n",
            "epoch: [601] loss: 1.092\n",
            "epoch: [801] loss: 1.089\n",
            "Finished Training\n",
            "Accuracy of the network on the 500 train images: 39.00 %\n",
            "unique out:  [0 1 2] unique pred:  [2]\n",
            "correct:  332 total  1000\n",
            "Accuracy of the network on the 1000 test dataset 1: 33.20 %\n",
            "--------------------------------------------------------------------------------\n",
            "---------------------------------------- Learning Rate used is 0.0005\n",
            "epoch: [0 ] loss: 1.098\n",
            "epoch: [1] loss: 1.099\n",
            "epoch: [201] loss: 1.089\n",
            "epoch: [401] loss: 1.083\n",
            "epoch: [601] loss: 1.083\n",
            "epoch: [801] loss: 1.078\n",
            "Finished Training\n",
            "Accuracy of the network on the 500 train images: 39.60 %\n",
            "unique out:  [0 1 2] unique pred:  [2]\n",
            "correct:  332 total  1000\n",
            "Accuracy of the network on the 1000 test dataset 1: 33.20 %\n",
            "--------------------------------------------------------------------------------\n",
            "---------------------------------------- Learning Rate used is 0.001\n",
            "epoch: [0 ] loss: 1.098\n",
            "epoch: [1] loss: 1.099\n",
            "epoch: [201] loss: 1.084\n",
            "epoch: [401] loss: 1.079\n",
            "epoch: [601] loss: 1.080\n",
            "epoch: [801] loss: 1.073\n",
            "Finished Training\n",
            "Accuracy of the network on the 500 train images: 40.40 %\n",
            "unique out:  [0 1 2] unique pred:  [2]\n",
            "correct:  332 total  1000\n",
            "Accuracy of the network on the 1000 test dataset 1: 33.20 %\n",
            "--------------------------------------------------------------------------------\n",
            "---------------------------------------- Learning Rate used is 0.005\n",
            "epoch: [0 ] loss: 1.098\n",
            "epoch: [1] loss: 1.098\n",
            "epoch: [201] loss: 1.077\n",
            "epoch: [401] loss: 1.066\n",
            "epoch: [601] loss: 1.062\n",
            "epoch: [801] loss: 1.051\n",
            "Finished Training\n",
            "Accuracy of the network on the 500 train images: 41.20 %\n",
            "unique out:  [0 1 2] unique pred:  [2]\n",
            "correct:  332 total  1000\n",
            "Accuracy of the network on the 1000 test dataset 1: 33.20 %\n",
            "--------------------------------------------------------------------------------\n",
            "---------------------------------------- Learning Rate used is 0.01\n",
            "epoch: [0 ] loss: 1.098\n",
            "epoch: [1] loss: 1.098\n",
            "epoch: [201] loss: 1.066\n",
            "epoch: [401] loss: 1.059\n",
            "epoch: [601] loss: 1.052\n",
            "epoch: [801] loss: 1.037\n",
            "Finished Training\n",
            "Accuracy of the network on the 500 train images: 44.80 %\n",
            "unique out:  [0 1 2] unique pred:  [1 2]\n",
            "correct:  1 total  1000\n",
            "Accuracy of the network on the 1000 test dataset 1: 0.10 %\n",
            "--------------------------------------------------------------------------------\n",
            "---------------------------------------- Learning Rate used is 0.05\n",
            "epoch: [0 ] loss: 1.098\n",
            "epoch: [1] loss: 1.102\n",
            "epoch: [201] loss: 1.062\n",
            "epoch: [401] loss: 1.047\n",
            "epoch: [601] loss: 1.042\n",
            "epoch: [801] loss: 1.014\n",
            "Finished Training\n",
            "Accuracy of the network on the 500 train images: 45.00 %\n",
            "unique out:  [0 1 2] unique pred:  [0]\n",
            "correct:  322 total  1000\n",
            "Accuracy of the network on the 1000 test dataset 1: 32.20 %\n",
            "--------------------------------------------------------------------------------\n",
            "---------------------------------------- Learning Rate used is 0.1\n",
            "epoch: [0 ] loss: 1.098\n",
            "epoch: [1] loss: 1.117\n",
            "epoch: [201] loss: 1.068\n",
            "epoch: [401] loss: 1.065\n",
            "epoch: [601] loss: 1.062\n",
            "epoch: [801] loss: 1.061\n",
            "Finished Training\n",
            "Accuracy of the network on the 500 train images: 41.60 %\n",
            "unique out:  [0 1 2] unique pred:  [2]\n",
            "correct:  332 total  1000\n",
            "Accuracy of the network on the 1000 test dataset 1: 33.20 %\n",
            "--------------------------------------------------------------------------------\n",
            "---------------------------------------- Learning Rate used is 0.5\n",
            "epoch: [0 ] loss: 1.098\n",
            "epoch: [1] loss: 4.522\n",
            "epoch: [201] loss: 1.104\n",
            "epoch: [401] loss: 1.099\n",
            "epoch: [601] loss: 1.101\n",
            "epoch: [801] loss: 1.105\n",
            "Finished Training\n",
            "Accuracy of the network on the 500 train images: 33.60 %\n",
            "unique out:  [0 1 2] unique pred:  [2]\n",
            "correct:  332 total  1000\n",
            "Accuracy of the network on the 1000 test dataset 1: 33.20 %\n",
            "--------------------------------------------------------------------------------\n"
          ]
        }
      ]
    },
    {
      "cell_type": "code",
      "metadata": {
        "id": "In76SYH_zZHV"
      },
      "source": [
        "%matplotlib inline"
      ],
      "execution_count": 108,
      "outputs": []
    },
    {
      "cell_type": "code",
      "metadata": {
        "colab": {
          "base_uri": "https://localhost:8080/"
        },
        "id": "_GsE3qHR_A5c",
        "outputId": "3f5bdad9-9874-42bc-f78f-1c07c69105ed"
      },
      "source": [
        "len(fin_loss)"
      ],
      "execution_count": 109,
      "outputs": [
        {
          "output_type": "execute_result",
          "data": {
            "text/plain": [
              "8"
            ]
          },
          "metadata": {},
          "execution_count": 109
        }
      ]
    },
    {
      "cell_type": "code",
      "metadata": {
        "id": "BS4HtOHEzZ0E",
        "colab": {
          "base_uri": "https://localhost:8080/",
          "height": 297
        },
        "outputId": "0e11225b-4fb9-4b07-bec0-2446dc679aa5"
      },
      "source": [
        "for i,j in enumerate(fin_loss):\n",
        "    plt.plot(j,label =\"LR = \"+str(lr_list[i]))\n",
        "    \n",
        "\n",
        "plt.xlabel(\"Epochs\")\n",
        "plt.ylabel(\"Training_loss\")\n",
        "\n",
        "plt.legend(loc='center left', bbox_to_anchor=(1, 0.5))"
      ],
      "execution_count": 110,
      "outputs": [
        {
          "output_type": "execute_result",
          "data": {
            "text/plain": [
              "<matplotlib.legend.Legend at 0x7f327b3aa810>"
            ]
          },
          "metadata": {},
          "execution_count": 110
        },
        {
          "output_type": "display_data",
          "data": {
            "image/png": "[encoded data removed]",
            "text/plain": [
              "<Figure size 432x288 with 1 Axes>"
            ]
          },
          "metadata": {
            "needs_background": "light"
          }
        }
      ]
    },
    {
      "cell_type": "code",
      "metadata": {
        "id": "1UbTkfLUINTI"
      },
      "source": [
        ""
      ],
      "execution_count": 110,
      "outputs": []
    }
  ]
}