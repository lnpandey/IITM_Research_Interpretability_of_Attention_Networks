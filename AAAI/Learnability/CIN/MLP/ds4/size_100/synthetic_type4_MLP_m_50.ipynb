{
  "nbformat": 4,
  "nbformat_minor": 0,
  "metadata": {
    "accelerator": "GPU",
    "colab": {
      "name": "synthetic_type4_MLP_m_5.ipynb",
      "provenance": [],
      "collapsed_sections": []
    },
    "kernelspec": {
      "display_name": "Python 3",
      "language": "python",
      "name": "python3"
    },
    "language_info": {
      "codemirror_mode": {
        "name": "ipython",
        "version": 3
      },
      "file_extension": ".py",
      "mimetype": "text/x-python",
      "name": "python",
      "nbconvert_exporter": "python",
      "pygments_lexer": "ipython3",
      "version": "3.6.5"
    }
  },
  "cells": [
    {
      "cell_type": "code",
      "metadata": {
        "colab": {
          "base_uri": "https://localhost:8080/"
        },
        "id": "N2_J4Rw2r0SQ",
        "outputId": "ceac780b-7526-4c1f-c68f-f2a76b2ec35a"
      },
      "source": [
        "import numpy as np\n",
        "import pandas as pd\n",
        "from matplotlib import pyplot as plt\n",
        "from tqdm import tqdm\n",
        "%matplotlib inline\n",
        "from torch.utils.data import Dataset, DataLoader\n",
        "import torch\n",
        "import torchvision\n",
        "\n",
        "import torch.nn as nn\n",
        "import torch.optim as optim\n",
        "from torch.nn import functional as F\n",
        "device = torch.device(\"cuda\" if torch.cuda.is_available() else \"cpu\")\n",
        "print(device)"
      ],
      "execution_count": 320,
      "outputs": [
        {
          "output_type": "stream",
          "name": "stdout",
          "text": [
            "cuda\n"
          ]
        }
      ]
    },
    {
      "cell_type": "code",
      "metadata": {
        "id": "ZTJPyL45DiJ3"
      },
      "source": [
        "m = 50                 # 5, 50, 100, 500, 2000"
      ],
      "execution_count": 321,
      "outputs": []
    },
    {
      "cell_type": "code",
      "metadata": {
        "id": "g-do5dZWK5L6"
      },
      "source": [
        "train_size = 100           # 100, 500, 2000, 10000"
      ],
      "execution_count": 322,
      "outputs": []
    },
    {
      "cell_type": "code",
      "metadata": {
        "id": "c-WeVGWd49Hj"
      },
      "source": [
        "desired_num = train_size + 1000"
      ],
      "execution_count": 323,
      "outputs": []
    },
    {
      "cell_type": "code",
      "metadata": {
        "colab": {
          "base_uri": "https://localhost:8080/"
        },
        "id": "XTHbSeGAK7k7",
        "outputId": "b356db27-0e7f-4a71-87ab-8599cde0ea77"
      },
      "source": [
        "tr_i = 0\n",
        "tr_j = train_size\n",
        "tr_k = desired_num\n",
        "\n",
        "tr_i, tr_j, tr_k"
      ],
      "execution_count": 324,
      "outputs": [
        {
          "output_type": "execute_result",
          "data": {
            "text/plain": [
              "(0, 100, 1100)"
            ]
          },
          "metadata": {},
          "execution_count": 324
        }
      ]
    },
    {
      "cell_type": "markdown",
      "metadata": {
        "id": "F6fjud_Fr0Sa"
      },
      "source": [
        "# Generate dataset"
      ]
    },
    {
      "cell_type": "code",
      "metadata": {
        "colab": {
          "base_uri": "https://localhost:8080/"
        },
        "id": "CqdXHO0Cr0Sd",
        "outputId": "da4f976b-5f35-4949-d8c4-40fee0c0fb30"
      },
      "source": [
        "np.random.seed(12)\n",
        "y = np.random.randint(0,10,5000)\n",
        "idx= []\n",
        "for i in range(10):\n",
        "    print(i,sum(y==i))\n",
        "    idx.append(y==i)"
      ],
      "execution_count": 325,
      "outputs": [
        {
          "output_type": "stream",
          "name": "stdout",
          "text": [
            "0 530\n",
            "1 463\n",
            "2 494\n",
            "3 517\n",
            "4 488\n",
            "5 497\n",
            "6 493\n",
            "7 507\n",
            "8 492\n",
            "9 519\n"
          ]
        }
      ]
    },
    {
      "cell_type": "code",
      "metadata": {
        "id": "ddhXyODwr0Sk"
      },
      "source": [
        "x = np.zeros((5000,2))"
      ],
      "execution_count": 326,
      "outputs": []
    },
    {
      "cell_type": "code",
      "metadata": {
        "id": "DyV3N2DIr0Sp"
      },
      "source": [
        "np.random.seed(12)\n",
        "x[idx[0],:] = np.random.multivariate_normal(mean = [4,6.5],cov=[[0.01,0],[0,0.01]],size=sum(idx[0]))\n",
        "x[idx[1],:] = np.random.multivariate_normal(mean = [5.5,6],cov=[[0.01,0],[0,0.01]],size=sum(idx[1]))\n",
        "x[idx[2],:] = np.random.multivariate_normal(mean = [4.5,4.5],cov=[[0.01,0],[0,0.01]],size=sum(idx[2]))\n",
        "x[idx[3],:] = np.random.multivariate_normal(mean = [3,3.5],cov=[[0.01,0],[0,0.01]],size=sum(idx[3]))\n",
        "x[idx[4],:] = np.random.multivariate_normal(mean = [2.5,5.5],cov=[[0.01,0],[0,0.01]],size=sum(idx[4]))\n",
        "x[idx[5],:] = np.random.multivariate_normal(mean = [3.5,8],cov=[[0.01,0],[0,0.01]],size=sum(idx[5]))\n",
        "x[idx[6],:] = np.random.multivariate_normal(mean = [5.5,8],cov=[[0.01,0],[0,0.01]],size=sum(idx[6]))\n",
        "x[idx[7],:] = np.random.multivariate_normal(mean = [7,6.5],cov=[[0.01,0],[0,0.01]],size=sum(idx[7]))\n",
        "x[idx[8],:] = np.random.multivariate_normal(mean = [6.5,4.5],cov=[[0.01,0],[0,0.01]],size=sum(idx[8]))\n",
        "x[idx[9],:] = np.random.multivariate_normal(mean = [5,3],cov=[[0.01,0],[0,0.01]],size=sum(idx[9]))"
      ],
      "execution_count": 327,
      "outputs": []
    },
    {
      "cell_type": "code",
      "metadata": {
        "colab": {
          "base_uri": "https://localhost:8080/"
        },
        "id": "qh1mDScsU07I",
        "outputId": "1f20b5f8-7e72-465c-91f9-2efc4e9e6f38"
      },
      "source": [
        "x[idx[0]][0], x[idx[5]][5] "
      ],
      "execution_count": 328,
      "outputs": [
        {
          "output_type": "execute_result",
          "data": {
            "text/plain": [
              "(array([4.04729858, 6.43185741]), array([3.4612816 , 8.00144771]))"
            ]
          },
          "metadata": {},
          "execution_count": 328
        }
      ]
    },
    {
      "cell_type": "code",
      "metadata": {
        "colab": {
          "base_uri": "https://localhost:8080/",
          "height": 284
        },
        "id": "hJ8Jm7YUr0St",
        "outputId": "03a64ad8-cbfe-41b0-fed4-1985c31ada59"
      },
      "source": [
        "for i in range(10):\n",
        "    plt.scatter(x[idx[i],0],x[idx[i],1],label=\"class_\"+str(i))\n",
        "plt.legend(loc='center left', bbox_to_anchor=(1, 0.5))"
      ],
      "execution_count": 329,
      "outputs": [
        {
          "output_type": "execute_result",
          "data": {
            "text/plain": [
              "<matplotlib.legend.Legend at 0x7fbd036d5810>"
            ]
          },
          "metadata": {},
          "execution_count": 329
        },
        {
          "output_type": "display_data",
          "data": {
            "image/png": "[encoded data removed]",
            "text/plain": [
              "<Figure size 432x288 with 1 Axes>"
            ]
          },
          "metadata": {
            "needs_background": "light"
          }
        }
      ]
    },
    {
      "cell_type": "code",
      "metadata": {
        "colab": {
          "base_uri": "https://localhost:8080/"
        },
        "id": "3lMBZEHNBlF2",
        "outputId": "7ca3df29-cfb0-4e0b-bed8-3928791dc24e"
      },
      "source": [
        "bg_idx = [ np.where(idx[3] == True)[0], \n",
        "          np.where(idx[4] == True)[0], \n",
        "          np.where(idx[5] == True)[0],\n",
        "          np.where(idx[6] == True)[0], \n",
        "          np.where(idx[7] == True)[0], \n",
        "          np.where(idx[8] == True)[0],\n",
        "          np.where(idx[9] == True)[0]]\n",
        "\n",
        "bg_idx = np.concatenate(bg_idx, axis = 0)\n",
        "bg_idx.shape"
      ],
      "execution_count": 330,
      "outputs": [
        {
          "output_type": "execute_result",
          "data": {
            "text/plain": [
              "(3513,)"
            ]
          },
          "metadata": {},
          "execution_count": 330
        }
      ]
    },
    {
      "cell_type": "code",
      "metadata": {
        "colab": {
          "base_uri": "https://localhost:8080/"
        },
        "id": "blRbGZHeCwXU",
        "outputId": "0a1a7c26-ea18-4393-fabc-f9d14319215a"
      },
      "source": [
        "np.unique(bg_idx).shape"
      ],
      "execution_count": 331,
      "outputs": [
        {
          "output_type": "execute_result",
          "data": {
            "text/plain": [
              "(3513,)"
            ]
          },
          "metadata": {},
          "execution_count": 331
        }
      ]
    },
    {
      "cell_type": "code",
      "metadata": {
        "id": "Y43sWeX7C15F"
      },
      "source": [
        "x = x - np.mean(x[bg_idx], axis = 0, keepdims = True)\n"
      ],
      "execution_count": 332,
      "outputs": []
    },
    {
      "cell_type": "code",
      "metadata": {
        "colab": {
          "base_uri": "https://localhost:8080/"
        },
        "id": "ooII7N6UDWe0",
        "outputId": "2d9d6cc3-5856-440c-a81f-b8a54a6ff7c6"
      },
      "source": [
        "np.mean(x[bg_idx], axis = 0, keepdims = True), np.mean(x, axis = 0, keepdims = True)"
      ],
      "execution_count": 333,
      "outputs": [
        {
          "output_type": "execute_result",
          "data": {
            "text/plain": [
              "(array([[-3.94054906e-15, -1.42341147e-15]]),\n",
              " array([[-0.02477713,  0.03899959]]))"
            ]
          },
          "metadata": {},
          "execution_count": 333
        }
      ]
    },
    {
      "cell_type": "code",
      "metadata": {
        "id": "g21bvPRYDL9k"
      },
      "source": [
        "x = x/np.std(x[bg_idx], axis = 0, keepdims = True)"
      ],
      "execution_count": 334,
      "outputs": []
    },
    {
      "cell_type": "code",
      "metadata": {
        "colab": {
          "base_uri": "https://localhost:8080/"
        },
        "id": "GtFvIeHsDZJk",
        "outputId": "183ead52-9615-493e-dfad-d731068f761e"
      },
      "source": [
        "np.std(x[bg_idx], axis = 0, keepdims = True), np.std(x, axis = 0, keepdims = True)"
      ],
      "execution_count": 335,
      "outputs": [
        {
          "output_type": "execute_result",
          "data": {
            "text/plain": [
              "(array([[1., 1.]]), array([[0.86429775, 0.8750994 ]]))"
            ]
          },
          "metadata": {},
          "execution_count": 335
        }
      ]
    },
    {
      "cell_type": "code",
      "metadata": {
        "colab": {
          "base_uri": "https://localhost:8080/",
          "height": 284
        },
        "id": "8-VLhUfDDeHt",
        "outputId": "1b0ae209-d6e7-4276-93dc-d6fe0a0012af"
      },
      "source": [
        "for i in range(10):\n",
        "    plt.scatter(x[idx[i],0],x[idx[i],1],label=\"class_\"+str(i))\n",
        "plt.legend(loc='center left', bbox_to_anchor=(1, 0.5))"
      ],
      "execution_count": 336,
      "outputs": [
        {
          "output_type": "execute_result",
          "data": {
            "text/plain": [
              "<matplotlib.legend.Legend at 0x7fbd0365bad0>"
            ]
          },
          "metadata": {},
          "execution_count": 336
        },
        {
          "output_type": "display_data",
          "data": {
            "image/png": "[encoded data removed]",
            "text/plain": [
              "<Figure size 432x288 with 1 Axes>"
            ]
          },
          "metadata": {
            "needs_background": "light"
          }
        }
      ]
    },
    {
      "cell_type": "code",
      "metadata": {
        "id": "UfFHcZJOr0Sz"
      },
      "source": [
        "foreground_classes = {'class_0','class_1', 'class_2'}\n",
        "\n",
        "background_classes = {'class_3','class_4', 'class_5', 'class_6','class_7', 'class_8', 'class_9'}"
      ],
      "execution_count": 337,
      "outputs": []
    },
    {
      "cell_type": "code",
      "metadata": {
        "colab": {
          "base_uri": "https://localhost:8080/"
        },
        "id": "OplNpNQVr0S2",
        "outputId": "c77d5ee3-b2ec-4706-fc39-237dc0f6297b"
      },
      "source": [
        "fg_class  = np.random.randint(0,3)\n",
        "fg_idx = np.random.randint(0,m)\n",
        "\n",
        "a = []\n",
        "for i in range(m):\n",
        "    if i == fg_idx:\n",
        "        b = np.random.choice(np.where(idx[fg_class]==True)[0],size=1)\n",
        "        a.append(x[b])\n",
        "        print(\"foreground \"+str(fg_class)+\" present at \" + str(fg_idx))\n",
        "    else:\n",
        "        bg_class = np.random.randint(3,10)\n",
        "        b = np.random.choice(np.where(idx[bg_class]==True)[0],size=1)\n",
        "        a.append(x[b])\n",
        "        print(\"background \"+str(bg_class)+\" present at \" + str(i))\n",
        "a = np.concatenate(a,axis=0)\n",
        "print(a.shape)\n",
        "\n",
        "print(fg_class , fg_idx)"
      ],
      "execution_count": 338,
      "outputs": [
        {
          "output_type": "stream",
          "name": "stdout",
          "text": [
            "background 3 present at 0\n",
            "background 8 present at 1\n",
            "background 5 present at 2\n",
            "background 3 present at 3\n",
            "background 5 present at 4\n",
            "background 7 present at 5\n",
            "background 6 present at 6\n",
            "background 5 present at 7\n",
            "background 3 present at 8\n",
            "background 5 present at 9\n",
            "background 4 present at 10\n",
            "background 7 present at 11\n",
            "background 4 present at 12\n",
            "background 3 present at 13\n",
            "background 9 present at 14\n",
            "background 6 present at 15\n",
            "background 6 present at 16\n",
            "background 3 present at 17\n",
            "foreground 2 present at 18\n",
            "background 8 present at 19\n",
            "background 5 present at 20\n",
            "background 6 present at 21\n",
            "background 4 present at 22\n",
            "background 9 present at 23\n",
            "background 8 present at 24\n",
            "background 3 present at 25\n",
            "background 7 present at 26\n",
            "background 6 present at 27\n",
            "background 8 present at 28\n",
            "background 3 present at 29\n",
            "background 7 present at 30\n",
            "background 8 present at 31\n",
            "background 7 present at 32\n",
            "background 7 present at 33\n",
            "background 5 present at 34\n",
            "background 9 present at 35\n",
            "background 6 present at 36\n",
            "background 4 present at 37\n",
            "background 7 present at 38\n",
            "background 6 present at 39\n",
            "background 3 present at 40\n",
            "background 4 present at 41\n",
            "background 3 present at 42\n",
            "background 4 present at 43\n",
            "background 7 present at 44\n",
            "background 6 present at 45\n",
            "background 5 present at 46\n",
            "background 8 present at 47\n",
            "background 8 present at 48\n",
            "background 7 present at 49\n",
            "(50, 2)\n",
            "2 18\n"
          ]
        }
      ]
    },
    {
      "cell_type": "code",
      "metadata": {
        "colab": {
          "base_uri": "https://localhost:8080/"
        },
        "id": "OoxzYI-ur0S_",
        "outputId": "da88f55a-7abe-4ab5-f027-db68dad15c87"
      },
      "source": [
        "np.reshape(a,(2*m,1))"
      ],
      "execution_count": 339,
      "outputs": [
        {
          "output_type": "execute_result",
          "data": {
            "text/plain": [
              "array([[-1.07422895e+00],\n",
              "       [-1.20952282e+00],\n",
              "       [ 1.08984559e+00],\n",
              "       [-5.64161992e-01],\n",
              "       [-6.78913707e-01],\n",
              "       [ 1.27937091e+00],\n",
              "       [-9.92591187e-01],\n",
              "       [-1.18031499e+00],\n",
              "       [-7.71792914e-01],\n",
              "       [ 1.25941783e+00],\n",
              "       [ 1.29283021e+00],\n",
              "       [ 5.05091505e-01],\n",
              "       [ 5.22396250e-01],\n",
              "       [ 1.29681995e+00],\n",
              "       [-7.71792914e-01],\n",
              "       [ 1.25941783e+00],\n",
              "       [-1.04309579e+00],\n",
              "       [-1.06965303e+00],\n",
              "       [-7.95603446e-01],\n",
              "       [ 1.29466872e+00],\n",
              "       [-1.23063037e+00],\n",
              "       [-8.09254903e-03],\n",
              "       [ 1.44574202e+00],\n",
              "       [ 5.99158358e-01],\n",
              "       [-1.44403474e+00],\n",
              "       [ 4.54412350e-02],\n",
              "       [-1.06808318e+00],\n",
              "       [-1.04600257e+00],\n",
              "       [ 2.07195375e-01],\n",
              "       [-1.41318481e+00],\n",
              "       [ 4.88129706e-01],\n",
              "       [ 1.27559279e+00],\n",
              "       [ 5.26188354e-01],\n",
              "       [ 1.22472122e+00],\n",
              "       [-9.63519345e-01],\n",
              "       [-1.06748963e+00],\n",
              "       [-1.00867486e-01],\n",
              "       [-5.11736476e-01],\n",
              "       [ 1.07306536e+00],\n",
              "       [-5.69862770e-01],\n",
              "       [-6.78734680e-01],\n",
              "       [ 1.25872134e+00],\n",
              "       [ 4.74193879e-01],\n",
              "       [ 1.31858031e+00],\n",
              "       [-1.29563931e+00],\n",
              "       [-2.11790698e-02],\n",
              "       [ 1.56253662e-01],\n",
              "       [-1.39193246e+00],\n",
              "       [ 1.07974162e+00],\n",
              "       [-5.52287022e-01],\n",
              "       [-1.00182501e+00],\n",
              "       [-1.11154525e+00],\n",
              "       [ 1.39391131e+00],\n",
              "       [ 5.06525063e-01],\n",
              "       [ 4.35953790e-01],\n",
              "       [ 1.26740470e+00],\n",
              "       [ 1.09452191e+00],\n",
              "       [-5.58785096e-01],\n",
              "       [-1.09511816e+00],\n",
              "       [-1.11181499e+00],\n",
              "       [ 1.40253632e+00],\n",
              "       [ 3.98032661e-01],\n",
              "       [ 1.02056637e+00],\n",
              "       [-6.31053241e-01],\n",
              "       [ 1.31280399e+00],\n",
              "       [ 4.91595746e-01],\n",
              "       [ 1.57641489e+00],\n",
              "       [ 4.80499519e-01],\n",
              "       [-6.64349452e-01],\n",
              "       [ 1.24888456e+00],\n",
              "       [ 2.32357355e-01],\n",
              "       [-1.35441089e+00],\n",
              "       [ 4.76364706e-01],\n",
              "       [ 1.33200804e+00],\n",
              "       [-1.41042686e+00],\n",
              "       [-8.36518689e-06],\n",
              "       [ 1.46177014e+00],\n",
              "       [ 5.46720652e-01],\n",
              "       [ 5.20116042e-01],\n",
              "       [ 1.27065370e+00],\n",
              "       [-1.06768238e+00],\n",
              "       [-1.09937716e+00],\n",
              "       [-1.34841486e+00],\n",
              "       [ 1.10498991e-02],\n",
              "       [-1.09279767e+00],\n",
              "       [-1.12302554e+00],\n",
              "       [-1.27469280e+00],\n",
              "       [ 1.00370752e-01],\n",
              "       [ 1.43511456e+00],\n",
              "       [ 4.92318884e-01],\n",
              "       [ 5.34578983e-01],\n",
              "       [ 1.33355996e+00],\n",
              "       [-7.71070256e-01],\n",
              "       [ 1.23471213e+00],\n",
              "       [ 1.02781202e+00],\n",
              "       [-5.76848710e-01],\n",
              "       [ 1.13835624e+00],\n",
              "       [-5.77795900e-01],\n",
              "       [ 1.39922978e+00],\n",
              "       [ 5.63522942e-01]])"
            ]
          },
          "metadata": {},
          "execution_count": 339
        }
      ]
    },
    {
      "cell_type": "code",
      "metadata": {
        "id": "jqbvfbwVr0TN"
      },
      "source": [
        "\n",
        "mosaic_list_of_images =[]\n",
        "mosaic_label = []\n",
        "fore_idx=[]\n",
        "for j in range(desired_num):\n",
        "    np.random.seed(j)\n",
        "    fg_class  = np.random.randint(0,3)\n",
        "    fg_idx = np.random.randint(0,m)\n",
        "    a = []\n",
        "    for i in range(m):\n",
        "        if i == fg_idx:\n",
        "            b = np.random.choice(np.where(idx[fg_class]==True)[0],size=1)\n",
        "            a.append(x[b])\n",
        "#             print(\"foreground \"+str(fg_class)+\" present at \" + str(fg_idx))\n",
        "        else:\n",
        "            bg_class = np.random.randint(3,10)\n",
        "            b = np.random.choice(np.where(idx[bg_class]==True)[0],size=1)\n",
        "            a.append(x[b])\n",
        "#             print(\"background \"+str(bg_class)+\" present at \" + str(i))\n",
        "    a = np.concatenate(a,axis=0)\n",
        "    mosaic_list_of_images.append(np.reshape(a,(2*m,1)))\n",
        "    mosaic_label.append(fg_class)\n",
        "    fore_idx.append(fg_idx)"
      ],
      "execution_count": 340,
      "outputs": []
    },
    {
      "cell_type": "code",
      "metadata": {
        "colab": {
          "base_uri": "https://localhost:8080/"
        },
        "id": "YzJPNP2mFwAG",
        "outputId": "38973f5b-e002-4c6a-e7b8-1a3a9446327b"
      },
      "source": [
        "mosaic_list_of_images = np.concatenate(mosaic_list_of_images,axis=1).T\n",
        "mosaic_list_of_images.shape"
      ],
      "execution_count": 341,
      "outputs": [
        {
          "output_type": "execute_result",
          "data": {
            "text/plain": [
              "(1100, 100)"
            ]
          },
          "metadata": {},
          "execution_count": 341
        }
      ]
    },
    {
      "cell_type": "code",
      "metadata": {
        "colab": {
          "base_uri": "https://localhost:8080/"
        },
        "id": "2aIPMgLXNiXW",
        "outputId": "aebaec89-6707-487b-f8a3-82690d6d2d54"
      },
      "source": [
        "mosaic_list_of_images.shape, mosaic_list_of_images[0]"
      ],
      "execution_count": 342,
      "outputs": [
        {
          "output_type": "execute_result",
          "data": {
            "text/plain": [
              "((1100, 100),\n",
              " array([ 1.26013674, -0.55191362,  0.47763291,  1.25059329,  0.54230705,\n",
              "         1.29438001, -1.30547943, -0.083791  ,  1.10227457, -0.5565904 ,\n",
              "         1.44996512,  0.52630897,  0.18635473, -1.38666417, -1.04928029,\n",
              "        -1.12467272, -0.78873321,  1.29405413,  0.18456746, -1.32037523,\n",
              "         0.12342288, -1.3350683 , -1.38697545,  0.00810407,  0.54131874,\n",
              "         1.22618666,  0.47529311,  1.35411842,  0.17411889, -1.3781964 ,\n",
              "        -0.99457934, -1.16020706, -1.15891128, -1.08140978,  0.51211562,\n",
              "         1.32352332,  0.55220767,  1.32050992,  0.10819199, -1.26074103,\n",
              "        -1.09829769, -1.1305101 , -1.32539091, -0.05313574, -1.05163019,\n",
              "        -1.01348995,  0.52779138,  1.38226347, -0.79120638,  1.28165655,\n",
              "         1.35517704,  0.49813716, -1.08665573, -1.09010415,  1.43215209,\n",
              "         0.51899896,  1.17352851, -0.532011  , -1.16052601, -1.08896392,\n",
              "         1.25063632,  0.55490042, -0.72108166,  1.29521315, -1.00259368,\n",
              "        -1.06012338, -1.42661154,  0.06403798, -1.32859875, -0.08555843,\n",
              "         0.39011094,  1.28971354,  0.40222189,  1.28409148, -0.78448497,\n",
              "         1.33251652, -1.07960956, -1.155529  ,  0.42486134,  1.29422886,\n",
              "         1.31300791,  0.44650851, -0.73241458,  1.25316189,  0.51613669,\n",
              "         1.32632028,  0.11443905, -1.32546558,  1.30573395,  0.58464449,\n",
              "         1.40987938,  0.56007119,  1.36101026,  0.46379248, -0.51183704,\n",
              "         0.52741455,  1.42824841,  0.54272482, -0.74735466,  1.33682907]))"
            ]
          },
          "metadata": {},
          "execution_count": 342
        }
      ]
    },
    {
      "cell_type": "code",
      "metadata": {
        "colab": {
          "base_uri": "https://localhost:8080/"
        },
        "id": "A3qcsbbzPfRG",
        "outputId": "a56a3fa1-a8d7-4b4e-d7f2-e6c9a271d5c2"
      },
      "source": [
        "for j in range(m):\n",
        "  print(mosaic_list_of_images[0][2*j:2*j+2])\n",
        "  "
      ],
      "execution_count": 343,
      "outputs": [
        {
          "output_type": "stream",
          "name": "stdout",
          "text": [
            "[ 1.26013674 -0.55191362]\n",
            "[0.47763291 1.25059329]\n",
            "[0.54230705 1.29438001]\n",
            "[-1.30547943 -0.083791  ]\n",
            "[ 1.10227457 -0.5565904 ]\n",
            "[1.44996512 0.52630897]\n",
            "[ 0.18635473 -1.38666417]\n",
            "[-1.04928029 -1.12467272]\n",
            "[-0.78873321  1.29405413]\n",
            "[ 0.18456746 -1.32037523]\n",
            "[ 0.12342288 -1.3350683 ]\n",
            "[-1.38697545  0.00810407]\n",
            "[0.54131874 1.22618666]\n",
            "[0.47529311 1.35411842]\n",
            "[ 0.17411889 -1.3781964 ]\n",
            "[-0.99457934 -1.16020706]\n",
            "[-1.15891128 -1.08140978]\n",
            "[0.51211562 1.32352332]\n",
            "[0.55220767 1.32050992]\n",
            "[ 0.10819199 -1.26074103]\n",
            "[-1.09829769 -1.1305101 ]\n",
            "[-1.32539091 -0.05313574]\n",
            "[-1.05163019 -1.01348995]\n",
            "[0.52779138 1.38226347]\n",
            "[-0.79120638  1.28165655]\n",
            "[1.35517704 0.49813716]\n",
            "[-1.08665573 -1.09010415]\n",
            "[1.43215209 0.51899896]\n",
            "[ 1.17352851 -0.532011  ]\n",
            "[-1.16052601 -1.08896392]\n",
            "[1.25063632 0.55490042]\n",
            "[-0.72108166  1.29521315]\n",
            "[-1.00259368 -1.06012338]\n",
            "[-1.42661154  0.06403798]\n",
            "[-1.32859875 -0.08555843]\n",
            "[0.39011094 1.28971354]\n",
            "[0.40222189 1.28409148]\n",
            "[-0.78448497  1.33251652]\n",
            "[-1.07960956 -1.155529  ]\n",
            "[0.42486134 1.29422886]\n",
            "[1.31300791 0.44650851]\n",
            "[-0.73241458  1.25316189]\n",
            "[0.51613669 1.32632028]\n",
            "[ 0.11443905 -1.32546558]\n",
            "[1.30573395 0.58464449]\n",
            "[1.40987938 0.56007119]\n",
            "[1.36101026 0.46379248]\n",
            "[-0.51183704  0.52741455]\n",
            "[1.42824841 0.54272482]\n",
            "[-0.74735466  1.33682907]\n"
          ]
        }
      ]
    },
    {
      "cell_type": "code",
      "metadata": {
        "id": "iPoIwbMHx44n"
      },
      "source": [
        "def create_avg_image_from_mosaic_dataset(mosaic_dataset,labels,foreground_index,dataset_number, m):\n",
        "  \"\"\"\n",
        "  mosaic_dataset : mosaic_dataset contains 9 images 32 x 32 each as 1 data point\n",
        "  labels : mosaic_dataset labels\n",
        "  foreground_index : contains list of indexes where foreground image is present so that using this we can take weighted average\n",
        "  dataset_number : will help us to tell what ratio of foreground image to be taken. for eg: if it is \"j\" then fg_image_ratio = j/9 , bg_image_ratio = (9-j)/8*9\n",
        "  \"\"\"\n",
        "  avg_image_dataset = []\n",
        "  cnt = 0\n",
        "  counter = np.zeros(m) #np.array([0,0,0,0,0,0,0,0,0])\n",
        "  for i in range(len(mosaic_dataset)):\n",
        "    img = torch.zeros([2], dtype=torch.float64)\n",
        "    np.random.seed(int(dataset_number*10000 + i))\n",
        "    give_pref = foreground_index[i] #np.random.randint(0,9)\n",
        "    # print(\"outside\", give_pref,foreground_index[i])\n",
        "    for j in range(m):\n",
        "      if j == give_pref:\n",
        "        img = img + mosaic_dataset[i][2*j:2*j+2]*dataset_number/m   #2 is data dim\n",
        "      else :\n",
        "        img = img + mosaic_dataset[i][2*j:2*j+2]*(m-dataset_number)/((m-1)*m)\n",
        "\n",
        "    if give_pref == foreground_index[i] :\n",
        "      # print(\"equal are\", give_pref,foreground_index[i])\n",
        "      cnt += 1\n",
        "      counter[give_pref] += 1\n",
        "    else :\n",
        "      counter[give_pref] += 1\n",
        "\n",
        "    avg_image_dataset.append(img)\n",
        "\n",
        "  print(\"number of correct averaging happened for dataset \"+str(dataset_number)+\" is \"+str(cnt)) \n",
        "  print(\"the averaging are done as \", counter) \n",
        "  return avg_image_dataset , labels , foreground_index\n",
        "        \n",
        "  "
      ],
      "execution_count": 344,
      "outputs": []
    },
    {
      "cell_type": "code",
      "metadata": {
        "colab": {
          "base_uri": "https://localhost:8080/"
        },
        "id": "30ZAjix3x8CM",
        "outputId": "f8d2d350-88f8-441c-d40f-34ae89f07844"
      },
      "source": [
        "avg_image_dataset_1 , labels_1,  fg_index_1 = create_avg_image_from_mosaic_dataset(mosaic_list_of_images[0:tr_j], mosaic_label[0:tr_j], fore_idx[0:tr_j] , 1, m)\n",
        "\n",
        "\n",
        "test_dataset , labels , fg_index = create_avg_image_from_mosaic_dataset(mosaic_list_of_images[tr_j : tr_k], mosaic_label[tr_j : tr_k], fore_idx[tr_j : tr_k] , m, m)"
      ],
      "execution_count": 345,
      "outputs": [
        {
          "output_type": "stream",
          "name": "stdout",
          "text": [
            "number of correct averaging happened for dataset 1 is 100\n",
            "the averaging are done as  [2. 1. 1. 3. 2. 3. 1. 3. 1. 1. 2. 4. 2. 2. 0. 5. 1. 1. 1. 2. 1. 0. 2. 3.\n",
            " 3. 1. 3. 3. 4. 1. 0. 1. 4. 0. 2. 4. 2. 2. 2. 1. 2. 2. 3. 1. 2. 1. 5. 2.\n",
            " 2. 3.]\n",
            "number of correct averaging happened for dataset 50 is 1000\n",
            "the averaging are done as  [21. 21. 21. 17. 19. 26. 24. 19. 14. 19. 17. 21. 32. 16. 21. 12. 31. 23.\n",
            " 22. 19. 21. 15. 19. 23. 17. 20. 27. 11. 29. 22. 22. 25. 16. 20. 17. 16.\n",
            "  7. 12. 18. 22. 19. 18. 25. 19. 16. 21. 23. 20. 22. 23.]\n"
          ]
        }
      ]
    },
    {
      "cell_type": "code",
      "metadata": {
        "colab": {
          "base_uri": "https://localhost:8080/"
        },
        "id": "0dYXnywAD-4l",
        "outputId": "905a4603-e847-43c2-c66b-610ab375725c"
      },
      "source": [
        "avg_image_dataset_1 = torch.stack(avg_image_dataset_1, axis = 0)\n",
        "# avg_image_dataset_1 = (avg - torch.mean(avg, keepdims= True, axis = 0)) / torch.std(avg, keepdims= True, axis = 0)\n",
        "# print(torch.mean(avg_image_dataset_1, keepdims= True, axis = 0))\n",
        "# print(torch.std(avg_image_dataset_1, keepdims= True, axis = 0))\n",
        "print(\"==\"*40)\n",
        "\n",
        "\n",
        "test_dataset = torch.stack(test_dataset, axis = 0)\n",
        "# test_dataset = (avg - torch.mean(avg, keepdims= True, axis = 0)) / torch.std(avg, keepdims= True, axis = 0)\n",
        "# print(torch.mean(test_dataset, keepdims= True, axis = 0))\n",
        "# print(torch.std(test_dataset, keepdims= True, axis = 0))\n",
        "print(\"==\"*40)\n"
      ],
      "execution_count": 346,
      "outputs": [
        {
          "output_type": "stream",
          "name": "stdout",
          "text": [
            "================================================================================\n",
            "================================================================================\n"
          ]
        }
      ]
    },
    {
      "cell_type": "code",
      "metadata": {
        "colab": {
          "base_uri": "https://localhost:8080/",
          "height": 300
        },
        "id": "bT9-kEI7NAnR",
        "outputId": "37d310ce-a95e-418b-8b36-d353a1c277ec"
      },
      "source": [
        "x1 = (avg_image_dataset_1).numpy()\n",
        "y1 = np.array(labels_1)\n",
        "\n",
        "plt.scatter(x1[y1==0,0], x1[y1==0,1], label='class 0')\n",
        "plt.scatter(x1[y1==1,0], x1[y1==1,1], label='class 1')\n",
        "plt.scatter(x1[y1==2,0], x1[y1==2,1], label='class 2')\n",
        "plt.legend()\n",
        "plt.title(\"dataset4 CIN with alpha = 1/\"+str(m))"
      ],
      "execution_count": 347,
      "outputs": [
        {
          "output_type": "execute_result",
          "data": {
            "text/plain": [
              "Text(0.5, 1.0, 'dataset4 CIN with alpha = 1/50')"
            ]
          },
          "metadata": {},
          "execution_count": 347
        },
        {
          "output_type": "display_data",
          "data": {
            "image/png": "[encoded data removed]",
            "text/plain": [
              "<Figure size 432x288 with 1 Axes>"
            ]
          },
          "metadata": {
            "needs_background": "light"
          }
        }
      ]
    },
    {
      "cell_type": "code",
      "metadata": {
        "colab": {
          "base_uri": "https://localhost:8080/",
          "height": 300
        },
        "id": "Sc8W2N7LQQ_l",
        "outputId": "759f862c-9b58-40a1-82bf-abb7d02c3b7b"
      },
      "source": [
        "x1 = (test_dataset).numpy() / m\n",
        "y1 = np.array(labels)\n",
        "\n",
        "plt.scatter(x1[y1==0,0], x1[y1==0,1], label='class 0')\n",
        "plt.scatter(x1[y1==1,0], x1[y1==1,1], label='class 1')\n",
        "plt.scatter(x1[y1==2,0], x1[y1==2,1], label='class 2')\n",
        "plt.legend()\n",
        "plt.title(\"test dataset4\")"
      ],
      "execution_count": 348,
      "outputs": [
        {
          "output_type": "execute_result",
          "data": {
            "text/plain": [
              "Text(0.5, 1.0, 'test dataset4')"
            ]
          },
          "metadata": {},
          "execution_count": 348
        },
        {
          "output_type": "display_data",
          "data": {
            "image/png": "[encoded data removed]",
            "text/plain": [
              "<Figure size 432x288 with 1 Axes>"
            ]
          },
          "metadata": {
            "needs_background": "light"
          }
        }
      ]
    },
    {
      "cell_type": "code",
      "metadata": {
        "colab": {
          "base_uri": "https://localhost:8080/"
        },
        "id": "pWVkaBZGXCRN",
        "outputId": "84c43b21-ab51-4232-e3cc-dab1d734398b"
      },
      "source": [
        "test_dataset[0:10]/m"
      ],
      "execution_count": 349,
      "outputs": [
        {
          "output_type": "execute_result",
          "data": {
            "text/plain": [
              "tensor([[-0.0094,  0.0085],\n",
              "        [ 0.0082,  0.0048],\n",
              "        [-0.0114,  0.0103],\n",
              "        [ 0.0095,  0.0055],\n",
              "        [ 0.0095,  0.0055],\n",
              "        [-0.0103,  0.0105],\n",
              "        [-0.0013, -0.0094],\n",
              "        [-0.0024, -0.0106],\n",
              "        [ 0.0102,  0.0062],\n",
              "        [-0.0007, -0.0132]], dtype=torch.float64)"
            ]
          },
          "metadata": {},
          "execution_count": 349
        }
      ]
    },
    {
      "cell_type": "code",
      "metadata": {
        "colab": {
          "base_uri": "https://localhost:8080/"
        },
        "id": "JDZLkEGbXGqg",
        "outputId": "db4b45c5-2fda-447f-879c-30b983bf2fee"
      },
      "source": [
        "test_dataset = test_dataset/m\n",
        "test_dataset[0:10]"
      ],
      "execution_count": 350,
      "outputs": [
        {
          "output_type": "execute_result",
          "data": {
            "text/plain": [
              "tensor([[-0.0094,  0.0085],\n",
              "        [ 0.0082,  0.0048],\n",
              "        [-0.0114,  0.0103],\n",
              "        [ 0.0095,  0.0055],\n",
              "        [ 0.0095,  0.0055],\n",
              "        [-0.0103,  0.0105],\n",
              "        [-0.0013, -0.0094],\n",
              "        [-0.0024, -0.0106],\n",
              "        [ 0.0102,  0.0062],\n",
              "        [-0.0007, -0.0132]], dtype=torch.float64)"
            ]
          },
          "metadata": {},
          "execution_count": 350
        }
      ]
    },
    {
      "cell_type": "code",
      "metadata": {
        "colab": {
          "base_uri": "https://localhost:8080/"
        },
        "id": "ngmzqU1nB3pF",
        "outputId": "641d6685-1158-475b-87c9-51a6a21eb6e4"
      },
      "source": [
        "test_dataset.shape"
      ],
      "execution_count": 351,
      "outputs": [
        {
          "output_type": "execute_result",
          "data": {
            "text/plain": [
              "torch.Size([1000, 2])"
            ]
          },
          "metadata": {},
          "execution_count": 351
        }
      ]
    },
    {
      "cell_type": "code",
      "metadata": {
        "id": "yL0BRf8er0TX"
      },
      "source": [
        "class MosaicDataset(Dataset):\n",
        "  \"\"\"MosaicDataset dataset.\"\"\"\n",
        "\n",
        "  def __init__(self, mosaic_list_of_images, mosaic_label):\n",
        "    \"\"\"\n",
        "      Args:\n",
        "        csv_file (string): Path to the csv file with annotations.\n",
        "        root_dir (string): Directory with all the images.\n",
        "        transform (callable, optional): Optional transform to be applied\n",
        "            on a sample.\n",
        "    \"\"\"\n",
        "    self.mosaic = mosaic_list_of_images\n",
        "    self.label = mosaic_label\n",
        "    #self.fore_idx = fore_idx\n",
        "    \n",
        "  def __len__(self):\n",
        "    return len(self.label)\n",
        "\n",
        "  def __getitem__(self, idx):\n",
        "    return self.mosaic[idx] , self.label[idx] #, self.fore_idx[idx]\n",
        "\n"
      ],
      "execution_count": 352,
      "outputs": []
    },
    {
      "cell_type": "code",
      "metadata": {
        "colab": {
          "base_uri": "https://localhost:8080/"
        },
        "id": "4KsrW9qL9xgS",
        "outputId": "884237ef-271b-4133-eca2-1afd5ae3e0f8"
      },
      "source": [
        "avg_image_dataset_1[0].shape\n",
        "avg_image_dataset_1[0]"
      ],
      "execution_count": 353,
      "outputs": [
        {
          "output_type": "execute_result",
          "data": {
            "text/plain": [
              "tensor([0.0113, 0.1532], dtype=torch.float64)"
            ]
          },
          "metadata": {},
          "execution_count": 353
        }
      ]
    },
    {
      "cell_type": "code",
      "metadata": {
        "id": "EY2l62APygaV"
      },
      "source": [
        "batch = 200\n",
        "\n",
        "traindata_1 = MosaicDataset(avg_image_dataset_1, labels_1 )\n",
        "trainloader_1 = DataLoader( traindata_1 , batch_size= batch ,shuffle=True)\n"
      ],
      "execution_count": 354,
      "outputs": []
    },
    {
      "cell_type": "code",
      "metadata": {
        "id": "9suUslCj8YZK"
      },
      "source": [
        "testdata_1 = MosaicDataset(test_dataset, labels )\n",
        "testloader_1 = DataLoader( testdata_1 , batch_size= batch ,shuffle=False)\n"
      ],
      "execution_count": 355,
      "outputs": []
    },
    {
      "cell_type": "code",
      "metadata": {
        "id": "Nh3mBQHZ8bEj"
      },
      "source": [
        "# testdata_11 = MosaicDataset(test_dataset, labels )\n",
        "# testloader_11 = DataLoader( testdata_11 , batch_size= batch ,shuffle=False)"
      ],
      "execution_count": 356,
      "outputs": []
    },
    {
      "cell_type": "code",
      "metadata": {
        "id": "5_XeIUk0r0Tl"
      },
      "source": [
        "class Whatnet(nn.Module):\n",
        "    def __init__(self):\n",
        "        super(Whatnet,self).__init__()\n",
        "        self.linear1 = nn.Linear(2,50)\n",
        "        self.linear2 = nn.Linear(50,3)\n",
        "\n",
        "        torch.nn.init.xavier_normal_(self.linear1.weight)\n",
        "        torch.nn.init.zeros_(self.linear1.bias)\n",
        "        torch.nn.init.xavier_normal_(self.linear2.weight)\n",
        "        torch.nn.init.zeros_(self.linear2.bias)\n",
        "\n",
        "    def forward(self,x):\n",
        "        x = F.relu(self.linear1(x))\n",
        "        x = (self.linear2(x))\n",
        "\n",
        "        return x"
      ],
      "execution_count": 357,
      "outputs": []
    },
    {
      "cell_type": "code",
      "metadata": {
        "id": "pjD2VZuV9Ed4"
      },
      "source": [
        "def calculate_loss(dataloader,model,criter):\n",
        "  model.eval()\n",
        "  r_loss = 0\n",
        "  with torch.no_grad():\n",
        "    for i, data in enumerate(dataloader, 0):\n",
        "      inputs, labels = data\n",
        "      inputs, labels = inputs.to(\"cuda\"),labels.to(\"cuda\")\n",
        "      outputs = model(inputs)\n",
        "      loss = criter(outputs, labels)\n",
        "      r_loss += loss.item()\n",
        "  return r_loss/(i+1)"
      ],
      "execution_count": 358,
      "outputs": []
    },
    {
      "cell_type": "code",
      "metadata": {
        "id": "uALi25pmzQHV"
      },
      "source": [
        "def test_all(number, testloader,net):\n",
        "    correct = 0\n",
        "    total = 0\n",
        "    out = []\n",
        "    pred = []\n",
        "    with torch.no_grad():\n",
        "        for data in testloader:\n",
        "            images, labels = data\n",
        "            images, labels = images.to(\"cuda\"),labels.to(\"cuda\")\n",
        "            out.append(labels.cpu().numpy())\n",
        "            outputs= net(images)\n",
        "            _, predicted = torch.max(outputs.data, 1)\n",
        "            pred.append(predicted.cpu().numpy())\n",
        "            total += labels.size(0)\n",
        "            correct += (predicted == labels).sum().item()\n",
        "    \n",
        "    pred = np.concatenate(pred, axis = 0)\n",
        "    out = np.concatenate(out, axis = 0)\n",
        "    print(\"unique out: \",  np.unique(out), \"unique pred: \", np.unique(pred) )\n",
        "    print(\"correct: \", correct, \"total \",  total)\n",
        "    print('Accuracy of the network on the %d test dataset %d: %.2f %%' % (total, number , 100 * correct / total))"
      ],
      "execution_count": 359,
      "outputs": []
    },
    {
      "cell_type": "code",
      "metadata": {
        "id": "4vmNprlPzTjP"
      },
      "source": [
        "def train_all(trainloader, ds_number, testloader_list, lr_list):\n",
        "  \n",
        "  final_loss = []\n",
        "  for LR in lr_list:    \n",
        "    print(\"--\"*20, \"Learning Rate used is\", LR)\n",
        "    \n",
        "    torch.manual_seed(12)\n",
        "    net = Whatnet().double()\n",
        "    net = net.to(\"cuda\")\n",
        "    \n",
        "    criterion_net = nn.CrossEntropyLoss()\n",
        "    optimizer_net = optim.Adam(net.parameters(), lr=0.001 ) #, momentum=0.9)\n",
        "    \n",
        "    acti = []\n",
        "    loss_curi = []\n",
        "    epochs = 1000\n",
        "    running_loss = calculate_loss(trainloader,net,criterion_net)\n",
        "    loss_curi.append(running_loss)\n",
        "    print('epoch: [%d ] loss: %.3f' %(0,running_loss)) \n",
        "    for epoch in range(epochs): # loop over the dataset multiple times\n",
        "        ep_lossi = []\n",
        "\n",
        "        running_loss = 0.0\n",
        "        net.train()\n",
        "        for i, data in enumerate(trainloader, 0):\n",
        "            # get the inputs\n",
        "            inputs, labels = data\n",
        "            inputs, labels = inputs.to(\"cuda\"),labels.to(\"cuda\")\n",
        "\n",
        "            # zero the parameter gradients\n",
        "            optimizer_net.zero_grad()\n",
        "\n",
        "            # forward + backward + optimize\n",
        "            outputs = net(inputs)\n",
        "            loss = criterion_net(outputs, labels)\n",
        "            # print statistics\n",
        "            running_loss += loss.item()\n",
        "            loss.backward()\n",
        "            optimizer_net.step()\n",
        "\n",
        "        running_loss = calculate_loss(trainloader,net,criterion_net)\n",
        "        if(epoch%200 == 0):\n",
        "          print('epoch: [%d] loss: %.3f' %(epoch + 1,running_loss)) \n",
        "        loss_curi.append(running_loss)   #loss per epoch\n",
        "        if running_loss<=0.05:\n",
        "          print('epoch: [%d] loss: %.3f' %(epoch + 1,running_loss))\n",
        "          break\n",
        "\n",
        "    print('Finished Training')\n",
        "    \n",
        "    correct = 0\n",
        "    total = 0\n",
        "    with torch.no_grad():\n",
        "        for data in trainloader:\n",
        "            images, labels = data\n",
        "            images, labels = images.to(\"cuda\"), labels.to(\"cuda\")\n",
        "            outputs = net(images)\n",
        "            _, predicted = torch.max(outputs.data, 1)\n",
        "            total += labels.size(0)\n",
        "            correct += (predicted == labels).sum().item()\n",
        "\n",
        "    print('Accuracy of the network on the %d train images: %.2f %%' % (total,  100 * correct / total))\n",
        "    \n",
        "    for i, j in enumerate(testloader_list):\n",
        "        test_all(i+1, j,net)\n",
        "    \n",
        "    print(\"--\"*40)\n",
        "    \n",
        "    final_loss.append(loss_curi) \n",
        "  return final_loss\n",
        "    "
      ],
      "execution_count": 360,
      "outputs": []
    },
    {
      "cell_type": "code",
      "metadata": {
        "id": "Yl41sE8vFERk"
      },
      "source": [
        "train_loss_all=[]\n",
        "\n",
        "testloader_list= [ testloader_1]\n",
        "lr_list = [0.0001, 0.0005, 0.001, 0.005, 0.01, 0.05, 0.1, 0.5 ]"
      ],
      "execution_count": 361,
      "outputs": []
    },
    {
      "cell_type": "code",
      "metadata": {
        "colab": {
          "base_uri": "https://localhost:8080/"
        },
        "id": "5gQoPST5zW2t",
        "outputId": "40caa0dc-3035-4d8b-85e1-62feedc466ae"
      },
      "source": [
        "fin_loss = train_all(trainloader_1, 1, testloader_list, lr_list)\n",
        "train_loss_all.append(fin_loss)"
      ],
      "execution_count": 362,
      "outputs": [
        {
          "output_type": "stream",
          "name": "stdout",
          "text": [
            "---------------------------------------- Learning Rate used is 0.0001\n",
            "epoch: [0 ] loss: 1.099\n",
            "epoch: [1] loss: 1.098\n",
            "epoch: [201] loss: 1.051\n",
            "epoch: [401] loss: 1.025\n",
            "epoch: [601] loss: 1.004\n",
            "epoch: [801] loss: 0.984\n",
            "Finished Training\n",
            "Accuracy of the network on the 100 train images: 51.00 %\n",
            "unique out:  [0 1 2] unique pred:  [1]\n",
            "correct:  357 total  1000\n",
            "Accuracy of the network on the 1000 test dataset 1: 35.70 %\n",
            "--------------------------------------------------------------------------------\n",
            "---------------------------------------- Learning Rate used is 0.0005\n",
            "epoch: [0 ] loss: 1.099\n",
            "epoch: [1] loss: 1.098\n",
            "epoch: [201] loss: 1.051\n",
            "epoch: [401] loss: 1.025\n",
            "epoch: [601] loss: 1.004\n",
            "epoch: [801] loss: 0.984\n",
            "Finished Training\n",
            "Accuracy of the network on the 100 train images: 51.00 %\n",
            "unique out:  [0 1 2] unique pred:  [1]\n",
            "correct:  357 total  1000\n",
            "Accuracy of the network on the 1000 test dataset 1: 35.70 %\n",
            "--------------------------------------------------------------------------------\n",
            "---------------------------------------- Learning Rate used is 0.001\n",
            "epoch: [0 ] loss: 1.099\n",
            "epoch: [1] loss: 1.098\n",
            "epoch: [201] loss: 1.051\n",
            "epoch: [401] loss: 1.025\n",
            "epoch: [601] loss: 1.004\n",
            "epoch: [801] loss: 0.984\n",
            "Finished Training\n",
            "Accuracy of the network on the 100 train images: 51.00 %\n",
            "unique out:  [0 1 2] unique pred:  [1]\n",
            "correct:  357 total  1000\n",
            "Accuracy of the network on the 1000 test dataset 1: 35.70 %\n",
            "--------------------------------------------------------------------------------\n",
            "---------------------------------------- Learning Rate used is 0.005\n",
            "epoch: [0 ] loss: 1.099\n",
            "epoch: [1] loss: 1.098\n",
            "epoch: [201] loss: 1.051\n",
            "epoch: [401] loss: 1.025\n",
            "epoch: [601] loss: 1.004\n",
            "epoch: [801] loss: 0.984\n",
            "Finished Training\n",
            "Accuracy of the network on the 100 train images: 51.00 %\n",
            "unique out:  [0 1 2] unique pred:  [1]\n",
            "correct:  357 total  1000\n",
            "Accuracy of the network on the 1000 test dataset 1: 35.70 %\n",
            "--------------------------------------------------------------------------------\n",
            "---------------------------------------- Learning Rate used is 0.01\n",
            "epoch: [0 ] loss: 1.099\n",
            "epoch: [1] loss: 1.098\n",
            "epoch: [201] loss: 1.051\n",
            "epoch: [401] loss: 1.025\n",
            "epoch: [601] loss: 1.004\n",
            "epoch: [801] loss: 0.984\n",
            "Finished Training\n",
            "Accuracy of the network on the 100 train images: 51.00 %\n",
            "unique out:  [0 1 2] unique pred:  [1]\n",
            "correct:  357 total  1000\n",
            "Accuracy of the network on the 1000 test dataset 1: 35.70 %\n",
            "--------------------------------------------------------------------------------\n",
            "---------------------------------------- Learning Rate used is 0.05\n",
            "epoch: [0 ] loss: 1.099\n",
            "epoch: [1] loss: 1.098\n",
            "epoch: [201] loss: 1.051\n",
            "epoch: [401] loss: 1.025\n",
            "epoch: [601] loss: 1.004\n",
            "epoch: [801] loss: 0.984\n",
            "Finished Training\n",
            "Accuracy of the network on the 100 train images: 51.00 %\n",
            "unique out:  [0 1 2] unique pred:  [1]\n",
            "correct:  357 total  1000\n",
            "Accuracy of the network on the 1000 test dataset 1: 35.70 %\n",
            "--------------------------------------------------------------------------------\n",
            "---------------------------------------- Learning Rate used is 0.1\n",
            "epoch: [0 ] loss: 1.099\n",
            "epoch: [1] loss: 1.098\n",
            "epoch: [201] loss: 1.051\n",
            "epoch: [401] loss: 1.025\n",
            "epoch: [601] loss: 1.004\n",
            "epoch: [801] loss: 0.984\n",
            "Finished Training\n",
            "Accuracy of the network on the 100 train images: 51.00 %\n",
            "unique out:  [0 1 2] unique pred:  [1]\n",
            "correct:  357 total  1000\n",
            "Accuracy of the network on the 1000 test dataset 1: 35.70 %\n",
            "--------------------------------------------------------------------------------\n",
            "---------------------------------------- Learning Rate used is 0.5\n",
            "epoch: [0 ] loss: 1.099\n",
            "epoch: [1] loss: 1.098\n",
            "epoch: [201] loss: 1.051\n",
            "epoch: [401] loss: 1.025\n",
            "epoch: [601] loss: 1.004\n",
            "epoch: [801] loss: 0.984\n",
            "Finished Training\n",
            "Accuracy of the network on the 100 train images: 51.00 %\n",
            "unique out:  [0 1 2] unique pred:  [1]\n",
            "correct:  357 total  1000\n",
            "Accuracy of the network on the 1000 test dataset 1: 35.70 %\n",
            "--------------------------------------------------------------------------------\n"
          ]
        }
      ]
    },
    {
      "cell_type": "code",
      "metadata": {
        "id": "In76SYH_zZHV"
      },
      "source": [
        "%matplotlib inline"
      ],
      "execution_count": 363,
      "outputs": []
    },
    {
      "cell_type": "code",
      "metadata": {
        "colab": {
          "base_uri": "https://localhost:8080/"
        },
        "id": "_GsE3qHR_A5c",
        "outputId": "6a43e60e-2a09-49d7-d747-2f44ed59677c"
      },
      "source": [
        "len(fin_loss)"
      ],
      "execution_count": 364,
      "outputs": [
        {
          "output_type": "execute_result",
          "data": {
            "text/plain": [
              "8"
            ]
          },
          "metadata": {},
          "execution_count": 364
        }
      ]
    },
    {
      "cell_type": "code",
      "metadata": {
        "id": "BS4HtOHEzZ0E",
        "colab": {
          "base_uri": "https://localhost:8080/",
          "height": 298
        },
        "outputId": "a237117f-7bfa-450d-8cc0-598490c650b1"
      },
      "source": [
        "for i,j in enumerate(fin_loss):\n",
        "    plt.plot(j,label =\"LR = \"+str(lr_list[i]))\n",
        "    \n",
        "\n",
        "plt.xlabel(\"Epochs\")\n",
        "plt.ylabel(\"Training_loss\")\n",
        "\n",
        "plt.legend(loc='center left', bbox_to_anchor=(1, 0.5))"
      ],
      "execution_count": 365,
      "outputs": [
        {
          "output_type": "execute_result",
          "data": {
            "text/plain": [
              "<matplotlib.legend.Legend at 0x7fbd03cd9a10>"
            ]
          },
          "metadata": {},
          "execution_count": 365
        },
        {
          "output_type": "display_data",
          "data": {
            "image/png": "[encoded data removed]",
            "text/plain": [
              "<Figure size 432x288 with 1 Axes>"
            ]
          },
          "metadata": {
            "needs_background": "light"
          }
        }
      ]
    },
    {
      "cell_type": "code",
      "metadata": {
        "id": "1UbTkfLUINTI"
      },
      "source": [
        ""
      ],
      "execution_count": 365,
      "outputs": []
    }
  ]
}