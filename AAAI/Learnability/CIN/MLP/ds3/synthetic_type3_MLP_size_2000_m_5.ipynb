{
  "nbformat": 4,
  "nbformat_minor": 0,
  "metadata": {
    "accelerator": "GPU",
    "colab": {
      "name": "synthetic_type3_MLP_m_5.ipynb",
      "provenance": [],
      "collapsed_sections": []
    },
    "kernelspec": {
      "display_name": "Python 3",
      "language": "python",
      "name": "python3"
    },
    "language_info": {
      "codemirror_mode": {
        "name": "ipython",
        "version": 3
      },
      "file_extension": ".py",
      "mimetype": "text/x-python",
      "name": "python",
      "nbconvert_exporter": "python",
      "pygments_lexer": "ipython3",
      "version": "3.6.5"
    }
  },
  "cells": [
    {
      "cell_type": "code",
      "metadata": {
        "colab": {
          "base_uri": "https://localhost:8080/"
        },
        "id": "N2_J4Rw2r0SQ",
        "outputId": "2a651693-6aab-4cff-a171-dc5ed12d093f"
      },
      "source": [
        "import numpy as np\n",
        "import pandas as pd\n",
        "from matplotlib import pyplot as plt\n",
        "from tqdm import tqdm\n",
        "%matplotlib inline\n",
        "from torch.utils.data import Dataset, DataLoader\n",
        "import torch\n",
        "import torchvision\n",
        "\n",
        "import torch.nn as nn\n",
        "import torch.optim as optim\n",
        "from torch.nn import functional as F\n",
        "device = torch.device(\"cuda\" if torch.cuda.is_available() else \"cpu\")\n",
        "print(device)"
      ],
      "execution_count": 388,
      "outputs": [
        {
          "output_type": "stream",
          "name": "stdout",
          "text": [
            "cuda\n"
          ]
        }
      ]
    },
    {
      "cell_type": "code",
      "metadata": {
        "id": "ZTJPyL45DiJ3"
      },
      "source": [
        "m = 5           # 5, 50, 100, 500, 2000"
      ],
      "execution_count": 389,
      "outputs": []
    },
    {
      "cell_type": "code",
      "metadata": {
        "id": "g-do5dZWK5L6"
      },
      "source": [
        "train_size = 2000          # 100, 500, 2000, 10000"
      ],
      "execution_count": 390,
      "outputs": []
    },
    {
      "cell_type": "markdown",
      "metadata": {
        "id": "F6fjud_Fr0Sa"
      },
      "source": [
        "# Generate dataset"
      ]
    },
    {
      "cell_type": "code",
      "metadata": {
        "colab": {
          "base_uri": "https://localhost:8080/"
        },
        "id": "CqdXHO0Cr0Sd",
        "outputId": "d818bae8-260b-490a-9726-1d54e3912a1d"
      },
      "source": [
        "np.random.seed(12)\n",
        "y = np.random.randint(0,10,5000)\n",
        "idx= []\n",
        "for i in range(10):\n",
        "    print(i,sum(y==i))\n",
        "    idx.append(y==i)"
      ],
      "execution_count": 391,
      "outputs": [
        {
          "output_type": "stream",
          "name": "stdout",
          "text": [
            "0 530\n",
            "1 463\n",
            "2 494\n",
            "3 517\n",
            "4 488\n",
            "5 497\n",
            "6 493\n",
            "7 507\n",
            "8 492\n",
            "9 519\n"
          ]
        }
      ]
    },
    {
      "cell_type": "code",
      "metadata": {
        "id": "ddhXyODwr0Sk"
      },
      "source": [
        "x = np.zeros((5000,2))"
      ],
      "execution_count": 392,
      "outputs": []
    },
    {
      "cell_type": "code",
      "metadata": {
        "id": "DyV3N2DIr0Sp"
      },
      "source": [
        "np.random.seed(12)\n",
        "x[idx[0],:] = np.random.multivariate_normal(mean = [7,4],cov=[[0.1,0],[0,0.1]],size=sum(idx[0]))\n",
        "x[idx[1],:] = np.random.multivariate_normal(mean = [8,6.5],cov=[[0.1,0],[0,0.1]],size=sum(idx[1]))\n",
        "x[idx[2],:] = np.random.multivariate_normal(mean = [5.5,6.5],cov=[[0.1,0],[0,0.1]],size=sum(idx[2]))\n",
        "x[idx[3],:] = np.random.multivariate_normal(mean = [-1,0],cov=[[0.1,0],[0,0.1]],size=sum(idx[3]))\n",
        "x[idx[4],:] = np.random.multivariate_normal(mean = [0,2],cov=[[0.1,0],[0,0.1]],size=sum(idx[4]))\n",
        "x[idx[5],:] = np.random.multivariate_normal(mean = [1,0],cov=[[0.1,0],[0,0.1]],size=sum(idx[5]))\n",
        "x[idx[6],:] = np.random.multivariate_normal(mean = [0,-1],cov=[[0.1,0],[0,0.1]],size=sum(idx[6]))\n",
        "x[idx[7],:] = np.random.multivariate_normal(mean = [0,0],cov=[[0.1,0],[0,0.1]],size=sum(idx[7]))\n",
        "x[idx[8],:] = np.random.multivariate_normal(mean = [-0.5,-0.5],cov=[[0.1,0],[0,0.1]],size=sum(idx[8]))\n",
        "x[idx[9],:] = np.random.multivariate_normal(mean = [0.4,0.2],cov=[[0.1,0],[0,0.1]],size=sum(idx[9]))"
      ],
      "execution_count": 393,
      "outputs": []
    },
    {
      "cell_type": "code",
      "metadata": {
        "colab": {
          "base_uri": "https://localhost:8080/"
        },
        "id": "qh1mDScsU07I",
        "outputId": "3b46c828-59eb-40de-e5d2-f12fab78afae"
      },
      "source": [
        "x[idx[0]][0], x[idx[5]][5] "
      ],
      "execution_count": 394,
      "outputs": [
        {
          "output_type": "execute_result",
          "data": {
            "text/plain": [
              "(array([7.14957125, 3.78451422]), array([0.87756167, 0.00457805]))"
            ]
          },
          "metadata": {},
          "execution_count": 394
        }
      ]
    },
    {
      "cell_type": "code",
      "metadata": {
        "colab": {
          "base_uri": "https://localhost:8080/",
          "height": 287
        },
        "id": "hJ8Jm7YUr0St",
        "outputId": "e3bf44ca-4404-4aa0-fb86-d8d820e57f3a"
      },
      "source": [
        "for i in range(10):\n",
        "    plt.scatter(x[idx[i],0],x[idx[i],1],label=\"class_\"+str(i))\n",
        "plt.legend(loc='center left', bbox_to_anchor=(1, 0.5))"
      ],
      "execution_count": 395,
      "outputs": [
        {
          "output_type": "execute_result",
          "data": {
            "text/plain": [
              "<matplotlib.legend.Legend at 0x7fab05e39610>"
            ]
          },
          "metadata": {},
          "execution_count": 395
        },
        {
          "output_type": "display_data",
          "data": {
            "image/png": "[encoded data removed]",
            "text/plain": [
              "<Figure size 432x288 with 1 Axes>"
            ]
          },
          "metadata": {
            "needs_background": "light"
          }
        }
      ]
    },
    {
      "cell_type": "code",
      "metadata": {
        "colab": {
          "base_uri": "https://localhost:8080/"
        },
        "id": "3lMBZEHNBlF2",
        "outputId": "52379db8-4eed-45a3-cdae-95b679eacbde"
      },
      "source": [
        "bg_idx = [ np.where(idx[3] == True)[0], \n",
        "          np.where(idx[4] == True)[0], \n",
        "          np.where(idx[5] == True)[0],\n",
        "          np.where(idx[6] == True)[0], \n",
        "          np.where(idx[7] == True)[0], \n",
        "          np.where(idx[8] == True)[0],\n",
        "          np.where(idx[9] == True)[0]]\n",
        "\n",
        "bg_idx = np.concatenate(bg_idx, axis = 0)\n",
        "bg_idx.shape"
      ],
      "execution_count": 396,
      "outputs": [
        {
          "output_type": "execute_result",
          "data": {
            "text/plain": [
              "(3513,)"
            ]
          },
          "metadata": {},
          "execution_count": 396
        }
      ]
    },
    {
      "cell_type": "code",
      "metadata": {
        "colab": {
          "base_uri": "https://localhost:8080/"
        },
        "id": "blRbGZHeCwXU",
        "outputId": "1cb99438-e88e-4b04-c616-53d0ecc053c1"
      },
      "source": [
        "np.unique(bg_idx).shape"
      ],
      "execution_count": 397,
      "outputs": [
        {
          "output_type": "execute_result",
          "data": {
            "text/plain": [
              "(3513,)"
            ]
          },
          "metadata": {},
          "execution_count": 397
        }
      ]
    },
    {
      "cell_type": "code",
      "metadata": {
        "id": "Y43sWeX7C15F"
      },
      "source": [
        "x = x - np.mean(x[bg_idx], axis = 0, keepdims = True)\n"
      ],
      "execution_count": 398,
      "outputs": []
    },
    {
      "cell_type": "code",
      "metadata": {
        "colab": {
          "base_uri": "https://localhost:8080/"
        },
        "id": "ooII7N6UDWe0",
        "outputId": "5f396061-953e-4f13-fc89-c1b9c66b3818"
      },
      "source": [
        "np.mean(x[bg_idx], axis = 0, keepdims = True), np.mean(x, axis = 0, keepdims = True)"
      ],
      "execution_count": 399,
      "outputs": [
        {
          "output_type": "execute_result",
          "data": {
            "text/plain": [
              "(array([[-1.04275003e-16,  6.74571889e-17]]),\n",
              " array([[2.02981967, 1.63582644]]))"
            ]
          },
          "metadata": {},
          "execution_count": 399
        }
      ]
    },
    {
      "cell_type": "code",
      "metadata": {
        "id": "g21bvPRYDL9k"
      },
      "source": [
        "x = x/np.std(x[bg_idx], axis = 0, keepdims = True)"
      ],
      "execution_count": 400,
      "outputs": []
    },
    {
      "cell_type": "code",
      "metadata": {
        "colab": {
          "base_uri": "https://localhost:8080/"
        },
        "id": "GtFvIeHsDZJk",
        "outputId": "5037f8da-6aac-40c1-84f4-d76d67332269"
      },
      "source": [
        "np.std(x[bg_idx], axis = 0, keepdims = True), np.std(x, axis = 0, keepdims = True)"
      ],
      "execution_count": 401,
      "outputs": [
        {
          "output_type": "execute_result",
          "data": {
            "text/plain": [
              "(array([[1., 1.]]), array([[4.89756643, 3.00501566]]))"
            ]
          },
          "metadata": {},
          "execution_count": 401
        }
      ]
    },
    {
      "cell_type": "code",
      "metadata": {
        "colab": {
          "base_uri": "https://localhost:8080/",
          "height": 283
        },
        "id": "8-VLhUfDDeHt",
        "outputId": "5cc05a9b-948a-440d-c6fd-cbb06c549561"
      },
      "source": [
        "for i in range(10):\n",
        "    plt.scatter(x[idx[i],0],x[idx[i],1],label=\"class_\"+str(i))\n",
        "plt.legend(loc='center left', bbox_to_anchor=(1, 0.5))"
      ],
      "execution_count": 402,
      "outputs": [
        {
          "output_type": "execute_result",
          "data": {
            "text/plain": [
              "<matplotlib.legend.Legend at 0x7fab05ca0c10>"
            ]
          },
          "metadata": {},
          "execution_count": 402
        },
        {
          "output_type": "display_data",
          "data": {
            "image/png": "[encoded data removed]",
            "text/plain": [
              "<Figure size 432x288 with 1 Axes>"
            ]
          },
          "metadata": {
            "needs_background": "light"
          }
        }
      ]
    },
    {
      "cell_type": "code",
      "metadata": {
        "id": "UfFHcZJOr0Sz"
      },
      "source": [
        "foreground_classes = {'class_0','class_1', 'class_2'}\n",
        "\n",
        "background_classes = {'class_3','class_4', 'class_5', 'class_6','class_7', 'class_8', 'class_9'}"
      ],
      "execution_count": 403,
      "outputs": []
    },
    {
      "cell_type": "code",
      "metadata": {
        "colab": {
          "base_uri": "https://localhost:8080/"
        },
        "id": "OplNpNQVr0S2",
        "outputId": "1eee67e7-38cd-46e1-e2d9-7e3ebae26d2b"
      },
      "source": [
        "fg_class  = np.random.randint(0,3)\n",
        "fg_idx = np.random.randint(0,m)\n",
        "train_data=[]\n",
        "a = []\n",
        "fg_instance = np.array([[0.0,0.0]])\n",
        "bg_instance = np.array([[0.0,0.0]])\n",
        "\n",
        "for i in range(m):\n",
        "  if i == fg_idx:\n",
        "    b = np.random.choice(np.where(idx[fg_class]==True)[0],size=1)\n",
        "    fg_instance += x[b]\n",
        "    a.append(x[b])\n",
        "    print(\"foreground \"+str(fg_class)+\" present at \" + str(fg_idx))\n",
        "  else:\n",
        "    bg_class = np.random.randint(3,10)\n",
        "    b = np.random.choice(np.where(idx[bg_class]==True)[0],size=1)\n",
        "    bg_instance += x[b]\n",
        "    a.append(x[b])\n",
        "    print(\"background \"+str(bg_class)+\" present at \" + str(i))\n",
        "\n",
        "a = np.concatenate(a,axis=0)\n",
        "print(a.shape)\n",
        "\n",
        "print(fg_class , fg_idx)"
      ],
      "execution_count": 404,
      "outputs": [
        {
          "output_type": "stream",
          "name": "stdout",
          "text": [
            "background 5 present at 0\n",
            "background 6 present at 1\n",
            "foreground 2 present at 2\n",
            "background 5 present at 3\n",
            "background 3 present at 4\n",
            "(5, 2)\n",
            "2 2\n"
          ]
        }
      ]
    },
    {
      "cell_type": "code",
      "metadata": {
        "colab": {
          "base_uri": "https://localhost:8080/"
        },
        "id": "Rx6cMmR3baVf",
        "outputId": "e3a0aaae-f2d5-4cbc-d398-b78004f58875"
      },
      "source": [
        "a"
      ],
      "execution_count": 405,
      "outputs": [
        {
          "output_type": "execute_result",
          "data": {
            "text/plain": [
              "array([[ 1.52560273, -0.1298488 ],\n",
              "       [-0.4226508 , -1.2003313 ],\n",
              "       [ 8.5153438 ,  7.02349438],\n",
              "       [ 2.09728368, -0.24465132],\n",
              "       [-0.98608769, -0.75123246]])"
            ]
          },
          "metadata": {},
          "execution_count": 405
        }
      ]
    },
    {
      "cell_type": "code",
      "metadata": {
        "colab": {
          "base_uri": "https://localhost:8080/"
        },
        "id": "dEdaFZPQhc7D",
        "outputId": "37960bd8-ecae-408e-9c7c-eff77d0d757c"
      },
      "source": [
        "fg_instance"
      ],
      "execution_count": 406,
      "outputs": [
        {
          "output_type": "execute_result",
          "data": {
            "text/plain": [
              "array([[8.5153438 , 7.02349438]])"
            ]
          },
          "metadata": {},
          "execution_count": 406
        }
      ]
    },
    {
      "cell_type": "code",
      "metadata": {
        "colab": {
          "base_uri": "https://localhost:8080/"
        },
        "id": "IqdAVbG1hftM",
        "outputId": "baa1f1be-4ac0-4e46-b1b2-0c334fcad061"
      },
      "source": [
        "bg_instance"
      ],
      "execution_count": 407,
      "outputs": [
        {
          "output_type": "execute_result",
          "data": {
            "text/plain": [
              "array([[ 2.21414792, -2.32606388]])"
            ]
          },
          "metadata": {},
          "execution_count": 407
        }
      ]
    },
    {
      "cell_type": "code",
      "metadata": {
        "colab": {
          "base_uri": "https://localhost:8080/"
        },
        "id": "Ho98SSXEhx6L",
        "outputId": "2b6f22f7-a417-473a-9d10-cb56aa938dc4"
      },
      "source": [
        "(fg_instance+bg_instance)/m , m"
      ],
      "execution_count": 408,
      "outputs": [
        {
          "output_type": "execute_result",
          "data": {
            "text/plain": [
              "(array([[2.14589834, 0.9394861 ]]), 5)"
            ]
          },
          "metadata": {},
          "execution_count": 408
        }
      ]
    },
    {
      "cell_type": "code",
      "metadata": {
        "id": "jqbvfbwVr0TN"
      },
      "source": [
        "# mosaic_list_of_images =[]\n",
        "# mosaic_label = []\n",
        "train_label=[]\n",
        "fore_idx=[]\n",
        "train_data = []\n",
        "for j in range(train_size):\n",
        "  np.random.seed(j)\n",
        "  fg_instance = torch.zeros([2], dtype=torch.float64) #np.array([[0.0,0.0]])\n",
        "  bg_instance = torch.zeros([2], dtype=torch.float64) #np.array([[0.0,0.0]])\n",
        "  # a=[]\n",
        "\n",
        "  for i in range(m):\n",
        "    if i == fg_idx:\n",
        "      fg_class  = np.random.randint(0,3)\n",
        "      b = np.random.choice(np.where(idx[fg_class]==True)[0],size=1)\n",
        "      fg_instance += x[b]\n",
        "      # a.append(x[b])\n",
        "      # print(\"foreground \"+str(fg_class)+\" present at \" + str(fg_idx))\n",
        "    else:\n",
        "      bg_class = np.random.randint(3,10)\n",
        "      b = np.random.choice(np.where(idx[bg_class]==True)[0],size=1)\n",
        "      bg_instance += x[b]\n",
        "      # a.append(x[b])\n",
        "      # print(\"background \"+str(bg_class)+\" present at \" + str(i))\n",
        "  train_data.append((fg_instance+bg_instance)/m)\n",
        "  # a = np.concatenate(a,axis=0)\n",
        "  # mosaic_list_of_images.append(np.reshape(a,(2*m,1)))\n",
        "  train_label.append(fg_class)\n",
        "  fore_idx.append(fg_idx)"
      ],
      "execution_count": 409,
      "outputs": []
    },
    {
      "cell_type": "code",
      "metadata": {
        "colab": {
          "base_uri": "https://localhost:8080/"
        },
        "id": "X_g6lxkVjN0N",
        "outputId": "01c0b89b-9876-4f18-bad6-56db879845ca"
      },
      "source": [
        " train_data[0], train_label[0]"
      ],
      "execution_count": 410,
      "outputs": [
        {
          "output_type": "execute_result",
          "data": {
            "text/plain": [
              "(tensor([[2.5500, 1.2844]], dtype=torch.float64), 1)"
            ]
          },
          "metadata": {},
          "execution_count": 410
        }
      ]
    },
    {
      "cell_type": "code",
      "metadata": {
        "colab": {
          "base_uri": "https://localhost:8080/"
        },
        "id": "Tz5wQCevobYr",
        "outputId": "526c3702-fbc3-4f21-e31b-cb45c06df2df"
      },
      "source": [
        "train_data = torch.stack(train_data, axis=0)\n",
        "train_data.shape, len(train_label)"
      ],
      "execution_count": 411,
      "outputs": [
        {
          "output_type": "execute_result",
          "data": {
            "text/plain": [
              "(torch.Size([2000, 1, 2]), 2000)"
            ]
          },
          "metadata": {},
          "execution_count": 411
        }
      ]
    },
    {
      "cell_type": "code",
      "metadata": {
        "id": "CVAlImGYA49A"
      },
      "source": [
        "test_label=[]\n",
        "# fore_idx=[]\n",
        "test_data = []\n",
        "for j in range(1000):\n",
        "  np.random.seed(j)\n",
        "  fg_instance = torch.zeros([2], dtype=torch.float64) #np.array([[0.0,0.0]])\n",
        "\n",
        "  fg_class  = np.random.randint(0,3)\n",
        "  b = np.random.choice(np.where(idx[fg_class]==True)[0],size=1)\n",
        "  fg_instance += x[b]\n",
        "  # a.append(x[b])\n",
        "  # print(\"foreground \"+str(fg_class)+\" present at \" + str(fg_idx))\n",
        "\n",
        "  test_data.append((fg_instance)/m)\n",
        "  # a = np.concatenate(a,axis=0)\n",
        "  # mosaic_list_of_images.append(np.reshape(a,(2*m,1)))\n",
        "  test_label.append(fg_class)\n",
        "  # fore_idx.append(fg_idx)"
      ],
      "execution_count": 412,
      "outputs": []
    },
    {
      "cell_type": "code",
      "metadata": {
        "colab": {
          "base_uri": "https://localhost:8080/"
        },
        "id": "XltBz3__BT_C",
        "outputId": "b66a9107-363f-4ac5-d64c-ad2d6317874b"
      },
      "source": [
        "test_data[0], test_label[0]"
      ],
      "execution_count": 413,
      "outputs": [
        {
          "output_type": "execute_result",
          "data": {
            "text/plain": [
              "(tensor([[2.2281, 0.7835]], dtype=torch.float64), 0)"
            ]
          },
          "metadata": {},
          "execution_count": 413
        }
      ]
    },
    {
      "cell_type": "code",
      "metadata": {
        "colab": {
          "base_uri": "https://localhost:8080/"
        },
        "id": "JqQfjkCnBX8E",
        "outputId": "8eb6f095-8ecf-44e7-83a7-5807619cb9a8"
      },
      "source": [
        "test_data = torch.stack(test_data, axis=0)\n",
        "test_data.shape, len(test_label)"
      ],
      "execution_count": 414,
      "outputs": [
        {
          "output_type": "execute_result",
          "data": {
            "text/plain": [
              "(torch.Size([1000, 1, 2]), 1000)"
            ]
          },
          "metadata": {},
          "execution_count": 414
        }
      ]
    },
    {
      "cell_type": "code",
      "metadata": {
        "id": "nQhRf1ICBvW6"
      },
      "source": [
        "x1 = (train_data).numpy()\n",
        "y1 = np.array(train_label)"
      ],
      "execution_count": 415,
      "outputs": []
    },
    {
      "cell_type": "code",
      "metadata": {
        "colab": {
          "base_uri": "https://localhost:8080/"
        },
        "id": "vDAz96DSCXn5",
        "outputId": "a0a8ed7a-20d6-4b3f-b581-a320886a7cd5"
      },
      "source": [
        "x1[y1==0,0]"
      ],
      "execution_count": 416,
      "outputs": [
        {
          "output_type": "execute_result",
          "data": {
            "text/plain": [
              "array([[2.91933715, 1.0741029 ],\n",
              "       [3.16467411, 0.60167476],\n",
              "       [2.6630971 , 1.06327091],\n",
              "       ...,\n",
              "       [1.58364477, 0.19512995],\n",
              "       [1.64867997, 0.58324414],\n",
              "       [2.88118259, 1.00176345]])"
            ]
          },
          "metadata": {},
          "execution_count": 416
        }
      ]
    },
    {
      "cell_type": "code",
      "metadata": {
        "colab": {
          "base_uri": "https://localhost:8080/"
        },
        "id": "kMwwZhv7Bv1U",
        "outputId": "e252efed-8c9c-41f5-fd7c-865e976d996c"
      },
      "source": [
        "x1[y1==0,0][:,0]"
      ],
      "execution_count": 417,
      "outputs": [
        {
          "output_type": "execute_result",
          "data": {
            "text/plain": [
              "array([2.91933715, 3.16467411, 2.6630971 , 2.31375845, 2.14881535,\n",
              "       1.98370705, 2.05611571, 2.14642057, 2.4293389 , 1.97338782,\n",
              "       1.75458171, 2.4901346 , 2.12813713, 2.1262188 , 1.97339493,\n",
              "       2.51664415, 2.29987379, 1.86295681, 1.55161045, 2.04884425,\n",
              "       2.28713336, 1.85230616, 1.81925273, 2.46404253, 2.0712841 ,\n",
              "       2.33811444, 2.36798671, 2.42726997, 1.76566593, 2.03202497,\n",
              "       2.18565533, 2.13780976, 2.27163287, 2.17498771, 2.99417873,\n",
              "       2.31621034, 1.65132905, 2.44413804, 2.44545175, 2.17044804,\n",
              "       1.88359119, 1.83735384, 2.85287233, 2.78301702, 1.30840133,\n",
              "       2.55647387, 3.23253834, 2.45375263, 2.71691103, 2.31617501,\n",
              "       2.18798007, 1.94065718, 2.38721081, 1.72873715, 2.2076117 ,\n",
              "       1.78178069, 2.23915419, 1.64970475, 2.16272317, 2.1318918 ,\n",
              "       1.79814878, 1.26981837, 2.30872451, 1.4814616 , 2.72108231,\n",
              "       2.97163958, 1.65944029, 2.12650431, 1.95042376, 2.07147887,\n",
              "       2.10257903, 2.00508289, 2.2017309 , 2.92510859, 2.33110558,\n",
              "       1.7284618 , 1.85578824, 2.07232508, 2.22110592, 1.53190047,\n",
              "       2.35526078, 2.38465171, 1.83673122, 1.94865036, 1.54248227,\n",
              "       2.12562276, 2.28795214, 1.67455239, 3.00560922, 2.60110074,\n",
              "       1.5467625 , 2.02195986, 1.23415979, 1.22233206, 1.94904805,\n",
              "       2.87482956, 2.02137218, 1.91436475, 2.28831987, 2.66287385,\n",
              "       2.90527094, 1.85366371, 1.16337121, 2.44751522, 2.58969443,\n",
              "       2.12102463, 1.95090963, 1.86293887, 1.92376515, 1.31669534,\n",
              "       2.52163445, 2.92044911, 1.60167909, 2.16259308, 2.49982107,\n",
              "       1.81368391, 2.15947658, 2.51543309, 2.30943183, 2.88907523,\n",
              "       2.86540643, 2.37454163, 2.67301151, 2.27685969, 2.19674534,\n",
              "       2.35129142, 2.33131565, 2.47432759, 2.390012  , 2.3070404 ,\n",
              "       2.29024148, 1.77448889, 2.40711416, 2.22086534, 2.00325056,\n",
              "       2.75992011, 2.42696951, 1.32878915, 2.58432296, 2.01090033,\n",
              "       1.90219146, 2.81575213, 1.856145  , 1.93410881, 3.06367115,\n",
              "       1.58273042, 2.02248908, 2.71810326, 1.50453038, 1.90073473,\n",
              "       2.83993772, 2.34691441, 3.54194245, 1.98613989, 2.14091956,\n",
              "       2.51522711, 2.10275288, 1.65417371, 2.91876883, 1.28038847,\n",
              "       2.58620697, 1.8029339 , 2.37303984, 2.09603047, 1.97803015,\n",
              "       1.9935147 , 2.49359744, 2.22272501, 2.6027516 , 1.39996624,\n",
              "       2.24578306, 2.0067825 , 1.49517232, 2.25922342, 2.23715222,\n",
              "       1.49070669, 1.99428855, 1.76757556, 3.31088816, 1.8414371 ,\n",
              "       2.41293636, 1.99933579, 1.57815908, 2.70505135, 2.32758863,\n",
              "       2.01434326, 2.71340918, 1.47725197, 3.39629504, 2.5098823 ,\n",
              "       2.62551707, 2.37835075, 2.51660873, 2.29064601, 2.32051673,\n",
              "       2.13946193, 2.02866341, 1.97609798, 1.73055069, 2.23440293,\n",
              "       1.94341151, 2.4577793 , 1.36139501, 3.20695882, 2.65024171,\n",
              "       2.03204069, 1.92928157, 2.73386431, 1.87037054, 2.11677828,\n",
              "       1.88655518, 2.15557925, 1.63155702, 1.91191119, 2.31152452,\n",
              "       2.06462748, 2.84964387, 2.57772706, 2.65284417, 2.85351211,\n",
              "       2.39704753, 2.0965237 , 2.55282421, 2.23234115, 1.91513162,\n",
              "       2.17663855, 1.33372485, 2.16793499, 2.16530077, 1.8426273 ,\n",
              "       1.80263725, 2.41608326, 2.34428214, 2.0231704 , 1.93672063,\n",
              "       2.34808297, 1.55398769, 2.59251779, 2.2470432 , 2.3032042 ,\n",
              "       2.07303596, 2.10986897, 2.18041715, 2.21173807, 1.78934733,\n",
              "       2.08636945, 2.33833075, 2.11000981, 2.04255825, 1.71449705,\n",
              "       2.04230599, 1.7015092 , 1.61894248, 1.99438489, 2.51413305,\n",
              "       2.2276687 , 2.76180989, 2.6530571 , 1.98889115, 2.1455906 ,\n",
              "       2.08881698, 2.37751451, 2.82181605, 1.72961742, 1.75166811,\n",
              "       2.62515176, 2.22546044, 2.90480445, 2.38287186, 2.58364582,\n",
              "       2.15635235, 2.11107435, 2.1219877 , 1.71920028, 1.26101604,\n",
              "       1.81627177, 2.99718198, 2.01798488, 2.41264862, 1.74126172,\n",
              "       1.73495793, 1.80467953, 2.09085244, 2.32978891, 2.11573583,\n",
              "       2.41094619, 2.57308559, 2.63481123, 1.70041308, 1.32733015,\n",
              "       1.89704016, 1.85374038, 2.17748785, 1.86262655, 2.45590988,\n",
              "       2.168086  , 1.38145159, 1.70185937, 2.59240282, 1.67804862,\n",
              "       2.50743538, 2.8051057 , 3.3559408 , 1.28135259, 1.95844226,\n",
              "       2.09547362, 2.45231103, 2.85011111, 1.95711329, 1.35154858,\n",
              "       2.42892111, 2.46725863, 2.52452158, 2.62030047, 1.44041729,\n",
              "       1.85194849, 2.69950319, 1.67594613, 2.18229381, 1.92008699,\n",
              "       2.13375252, 2.37010589, 1.21691287, 1.98983011, 2.39080069,\n",
              "       2.12335171, 2.38769357, 2.12285561, 2.13677803, 2.57478774,\n",
              "       1.68128189, 1.76878366, 2.13703995, 2.38137478, 1.7624413 ,\n",
              "       1.85681645, 2.09045657, 2.12933239, 1.5360585 , 2.18002777,\n",
              "       1.93504568, 2.02554223, 1.80704398, 2.03059588, 0.94086026,\n",
              "       1.765407  , 3.12028458, 2.4160005 , 1.72440675, 2.01927279,\n",
              "       2.26340267, 2.1401565 , 1.70228418, 1.73708957, 2.02580104,\n",
              "       2.3641818 , 1.95468957, 1.78633149, 1.85680627, 2.07824818,\n",
              "       2.23114494, 2.05243528, 2.10119574, 1.29785015, 1.73606705,\n",
              "       2.38011861, 1.73704158, 2.21123531, 2.35252062, 1.69613556,\n",
              "       2.04947128, 1.90051486, 2.14228493, 2.51771639, 2.3832172 ,\n",
              "       2.16123679, 2.37423049, 2.68393842, 2.66468856, 1.99890331,\n",
              "       2.81213705, 2.02094427, 1.76292171, 2.54259261, 2.64113736,\n",
              "       2.10185597, 2.17393996, 1.83260998, 2.3037773 , 2.56542968,\n",
              "       2.15615873, 2.21308924, 1.99080683, 2.40428821, 2.08626213,\n",
              "       2.64152889, 1.97373932, 2.23158721, 2.54462949, 1.42850999,\n",
              "       2.02843485, 2.56751926, 2.00252907, 2.29117577, 1.62202265,\n",
              "       2.18071387, 2.46114151, 2.04035188, 2.99834098, 2.09787297,\n",
              "       2.33772876, 1.55556952, 1.33673562, 1.90419709, 1.49085162,\n",
              "       2.34744545, 2.00442215, 2.04556974, 2.36986   , 2.34055842,\n",
              "       1.86734341, 2.42752431, 2.35232771, 2.12130256, 2.26840747,\n",
              "       1.7500606 , 1.85092051, 1.25598271, 1.63803012, 2.65782027,\n",
              "       2.09776864, 1.5505114 , 2.32208591, 2.4672185 , 2.17015779,\n",
              "       2.53189074, 2.44994932, 2.03858278, 1.42641975, 2.25696266,\n",
              "       2.68819037, 2.20962946, 1.98059532, 2.53611892, 2.36029689,\n",
              "       1.64902906, 2.13682688, 2.69212668, 2.58605064, 1.67242383,\n",
              "       2.60361584, 2.10863928, 2.75733921, 2.46545039, 2.32247668,\n",
              "       1.42429609, 3.16017449, 2.37394717, 2.43730531, 2.01415885,\n",
              "       2.48486069, 2.07386071, 2.12501416, 2.04166414, 1.90024781,\n",
              "       1.7412338 , 2.3069436 , 1.9380845 , 2.38321472, 2.48972671,\n",
              "       2.03806822, 1.6641471 , 1.7956589 , 1.70667325, 2.30188164,\n",
              "       2.25281337, 2.4097051 , 2.12181678, 2.12129068, 2.47925588,\n",
              "       1.92327476, 2.42108892, 2.53060246, 1.51698504, 1.78899182,\n",
              "       2.38424666, 2.72851112, 2.32511418, 2.29527565, 2.42589843,\n",
              "       2.53041742, 2.4335082 , 2.54967812, 2.5487407 , 2.08847962,\n",
              "       2.31917523, 1.48956417, 2.50990311, 2.36502746, 1.87612501,\n",
              "       2.65011883, 1.99223101, 1.83002059, 2.28434358, 2.26725039,\n",
              "       2.2112397 , 2.62420453, 2.50631612, 3.20010506, 2.12355223,\n",
              "       2.01079045, 2.93034276, 2.22123875, 1.46477652, 2.35719743,\n",
              "       2.56396868, 2.43116381, 1.62005542, 1.48884452, 1.81605671,\n",
              "       2.15582414, 1.73659639, 2.11011798, 2.47252963, 2.06130166,\n",
              "       2.28902869, 2.03575918, 2.27585515, 1.87335878, 2.206533  ,\n",
              "       2.01993739, 1.75082903, 2.44024834, 1.88325159, 2.5759256 ,\n",
              "       1.60047405, 2.86290833, 3.09164372, 2.2509238 , 1.93780364,\n",
              "       1.82850515, 2.60164495, 1.80686644, 2.38369773, 1.50606253,\n",
              "       1.61365518, 2.2748947 , 2.22735016, 1.40104114, 1.56814461,\n",
              "       2.58604356, 2.62734645, 1.91782931, 2.45054895, 2.03768775,\n",
              "       2.44856916, 1.7532148 , 2.33692945, 2.22709614, 1.89276934,\n",
              "       2.55832737, 2.29248218, 2.01532956, 2.9253617 , 1.60313622,\n",
              "       2.38452726, 2.55830072, 1.70908331, 1.96942373, 2.50224995,\n",
              "       2.30874496, 2.08815546, 2.28920433, 2.04414522, 2.5025215 ,\n",
              "       1.24427269, 1.53912925, 2.60112326, 2.04125937, 2.41611856,\n",
              "       1.29514502, 2.37724997, 2.59782367, 1.71471801, 2.27378123,\n",
              "       2.57610926, 2.46279634, 2.05907614, 1.99278367, 2.05453025,\n",
              "       2.3314675 , 1.95959963, 2.43100295, 1.97047954, 2.47223875,\n",
              "       1.80024039, 1.54498516, 1.95671973, 1.24648543, 1.90875146,\n",
              "       1.87369334, 1.53361756, 2.20169016, 2.22508254, 1.2279456 ,\n",
              "       1.71156283, 2.47926441, 2.61170467, 1.94600682, 1.79203305,\n",
              "       2.57882691, 2.74209052, 1.94140509, 2.65742327, 2.91958641,\n",
              "       2.49755326, 1.66760303, 1.83428337, 2.71900885, 1.44713287,\n",
              "       2.03655001, 1.98690567, 2.18248571, 1.94455996, 2.46948434,\n",
              "       2.35668002, 2.27527098, 2.22814889, 1.78008293, 2.23224414,\n",
              "       2.7645524 , 2.27905865, 2.38377591, 2.26952385, 2.46424755,\n",
              "       2.60424486, 2.04213056, 2.06213164, 2.58584391, 1.93936726,\n",
              "       2.20941935, 2.1678275 , 2.19376775, 2.47091897, 1.6866544 ,\n",
              "       1.63279638, 2.41710501, 2.68181566, 2.25458643, 1.7246535 ,\n",
              "       2.17214375, 1.40822345, 1.70286741, 1.80110502, 1.79891298,\n",
              "       2.13762725, 1.56626597, 2.07774892, 2.31350013, 2.45622936,\n",
              "       2.1133991 , 2.29927894, 1.6367408 , 1.58364477, 1.64867997,\n",
              "       2.88118259])"
            ]
          },
          "metadata": {},
          "execution_count": 417
        }
      ]
    },
    {
      "cell_type": "code",
      "metadata": {
        "colab": {
          "base_uri": "https://localhost:8080/"
        },
        "id": "ydbu3OV3CYxB",
        "outputId": "42d76e9e-3b5c-42c6-ea90-f3e912fce291"
      },
      "source": [
        "x1[y1==0,0][:,1]"
      ],
      "execution_count": 418,
      "outputs": [
        {
          "output_type": "execute_result",
          "data": {
            "text/plain": [
              "array([ 1.0741029 ,  0.60167476,  1.06327091,  1.55341058,  0.3181068 ,\n",
              "        0.89389841,  0.95916786,  0.92390365,  0.80424024,  0.95192091,\n",
              "        0.46575381,  0.96316251,  1.24769929,  1.89611777,  1.65427581,\n",
              "        0.92664266,  0.29510293,  0.55084773,  0.68188311,  2.02487939,\n",
              "        1.32235473,  1.58192551,  1.39182937,  0.56864595,  0.68494438,\n",
              "        0.65280382,  0.65919216,  1.06608924,  0.95751089,  0.14032099,\n",
              "        1.06047517,  0.51610297,  1.41559426,  1.00739184,  0.36207472,\n",
              "        0.66045599,  1.01439929,  1.1417045 ,  0.99110649,  0.62762646,\n",
              "        0.75489767,  0.52533793,  0.8499182 ,  1.60051607,  1.00083542,\n",
              "        0.73102786,  0.98401819,  1.32566642,  1.60186749,  0.96901257,\n",
              "        1.02956104,  0.50555735,  0.95345094,  1.85794859,  0.62739849,\n",
              "        1.01644857,  1.32895551,  0.84851677,  1.29185116,  0.75750295,\n",
              "        1.57345662,  1.14793439,  0.92088126,  1.32966822,  0.4834489 ,\n",
              "        0.94161355,  0.86099901,  1.40452653,  1.11638966,  1.65278842,\n",
              "        0.90553561,  0.85398672,  0.47235999,  1.1286539 ,  1.56194432,\n",
              "        1.17280728,  0.01107484,  1.36219743,  0.80197224,  0.31361744,\n",
              "        1.43168348,  1.28280944,  0.97360442,  0.60799193,  1.09563584,\n",
              "        1.1680427 ,  1.02077549,  0.83425293,  0.97422186,  0.57818994,\n",
              "        1.70229769,  1.36231893,  0.66224435,  0.67227576,  0.33145585,\n",
              "        1.01906118,  0.64652057,  0.60452727,  0.64160829,  0.7863382 ,\n",
              "        1.09324337,  1.49708472,  0.37397905,  0.73508492,  1.33528519,\n",
              "        0.28525858,  1.37064492,  1.36448265,  0.23468827,  0.93609363,\n",
              "        1.17222566,  1.12068287,  0.77532138,  1.37320072,  1.5096869 ,\n",
              "        0.52047863,  0.56399963,  1.71882739,  1.16687598,  0.9448436 ,\n",
              "        0.13637338,  0.83007296,  1.20199892,  0.85723431,  1.22285225,\n",
              "        0.3960552 ,  1.23146581,  0.51889161,  0.97131289,  1.1622509 ,\n",
              "        1.08665378,  1.01282953,  1.21269892,  1.51266156,  1.34551453,\n",
              "        0.80774278,  0.55691257,  0.91740237,  0.06403246,  0.09990831,\n",
              "        1.18720492,  1.07204819,  0.77820537,  0.43312911,  0.86253859,\n",
              "        1.02097196,  1.71036931,  1.08813585,  0.39294358, -0.06352801,\n",
              "        0.47486116,  0.55789234,  1.07239961,  0.76753115,  0.2837509 ,\n",
              "        1.69101825,  0.70266937,  1.46995908,  0.59699922,  0.67759831,\n",
              "        0.77821123,  0.49184671,  0.87928772,  1.43007063,  1.1215851 ,\n",
              "        0.4908993 ,  0.60193206,  0.64013471,  1.21013404,  0.77613332,\n",
              "        0.73077438,  0.88164954,  0.61774456,  0.49996297,  0.11396098,\n",
              "        0.45472147,  0.53748679,  1.44356153,  0.85488105,  1.08251824,\n",
              "        0.8100194 ,  0.9930854 ,  1.12181389,  0.68449282,  0.34637431,\n",
              "        1.529497  ,  0.68723134,  0.86279352,  0.8036578 ,  1.08362692,\n",
              "        1.42543454,  0.44602071,  0.87841066,  2.0880673 ,  0.72354452,\n",
              "        1.37865076,  0.58502054,  1.09430982,  1.12930178,  1.74288114,\n",
              "        1.40474692,  0.57091621,  0.21301121,  0.93086114,  0.53762492,\n",
              "        1.52026386,  0.6214284 ,  1.51553912,  0.88378331,  0.62821142,\n",
              "        1.75357351,  1.25270139,  0.25200994,  0.57578051,  0.65158505,\n",
              "        1.26133153,  1.17267344,  0.37068566,  1.18405772,  0.13118975,\n",
              "        0.72479202,  0.43100275,  0.77767142,  1.54026666,  1.2700936 ,\n",
              "        1.69405187,  0.77550584,  0.77049468,  0.61221411,  2.19275154,\n",
              "        0.36963039,  0.25508748,  0.34141027,  1.13491474,  0.3909125 ,\n",
              "        1.19371595,  0.04145824,  0.98155877,  0.68551441,  0.97636004,\n",
              "        0.72428375,  0.95382904,  1.21692903,  1.03987626,  1.43516411,\n",
              "        0.70361873,  1.24940289,  1.24072415,  2.24910534,  0.36933412,\n",
              "        0.76465074,  0.18428854,  1.53910906,  1.16878531,  1.07873269,\n",
              "        1.01349957,  0.90536042,  0.54810244,  1.01856249,  0.38428135,\n",
              "        1.63836123,  1.21589464,  0.80159454,  0.42080194,  0.10110949,\n",
              "        1.65346628,  0.32063728,  1.21873352,  0.72207536,  0.69016573,\n",
              "        0.87686211,  0.74169396,  1.43549568,  1.05462819,  0.42387534,\n",
              "        0.55906217,  1.07871622,  0.91221173,  1.17723484,  1.4493699 ,\n",
              "        0.66655306,  0.5614742 ,  1.36253779,  1.17737768,  0.37506522,\n",
              "        0.77544803,  1.24394532,  0.96752664,  0.64504692,  0.29341942,\n",
              "        0.67707633,  0.96649642,  0.67953796,  1.05524911,  0.88576445,\n",
              "        1.14197996,  1.23342185,  0.67416163,  0.61788947,  1.43948437,\n",
              "        0.44604257,  1.1477512 ,  1.34807371,  0.7830713 ,  0.75084147,\n",
              "        0.67096788,  1.08625971,  0.55484417,  1.81002987,  0.69072934,\n",
              "        0.84836025,  0.36725659,  0.91765464,  0.63668397,  1.56310178,\n",
              "        0.35595892,  1.03345392,  0.77774501,  0.32068074,  0.33317168,\n",
              "        1.42407304,  1.05204383,  0.64246798,  0.77455879,  0.79440283,\n",
              "        0.44707013,  0.62796923,  1.38332377,  0.76520994,  1.0900098 ,\n",
              "        1.50081665,  1.22371973,  0.64757546,  1.43680765,  1.02953879,\n",
              "        1.31912709,  0.90378838,  0.69170335,  1.01207865,  1.17537929,\n",
              "        1.82401333,  1.58265327,  1.85026301,  0.56051949,  0.52886508,\n",
              "        0.79397794,  0.93973757,  1.61165664,  1.46604185,  1.11934959,\n",
              "        1.01127828,  0.39723098,  0.27941925,  0.69746826,  1.84357606,\n",
              "        0.56940298,  0.84655654,  0.87604722,  1.77619899,  1.04216395,\n",
              "        0.42018027,  0.21506092,  0.1544792 ,  1.50048039,  0.44625175,\n",
              "        1.32032648,  0.70804441,  0.72861001,  0.98299592,  0.23947992,\n",
              "        0.51762901,  1.01685933,  0.95363467,  0.23702056,  1.02377322,\n",
              "        0.55037682,  1.16454755,  1.3119334 ,  0.46367909,  0.62494586,\n",
              "        0.43482661,  0.23283547,  1.05206987,  1.2368253 ,  1.04277554,\n",
              "        1.53251146,  1.66658209,  1.0310969 ,  0.56673991,  1.83773691,\n",
              "        0.34990909,  1.08417147,  2.24747131,  0.60140968,  0.18532811,\n",
              "        1.24583401,  0.55208254,  0.5065396 ,  0.84887795,  1.56068623,\n",
              "        0.65524204,  0.9643358 ,  1.20896233,  0.99556558,  0.42808817,\n",
              "        1.05060926,  0.77695156,  0.55159531,  0.19597105,  0.7045163 ,\n",
              "        0.67557926,  0.43219231,  0.71567069,  1.12571977,  0.3391342 ,\n",
              "        1.05258949,  0.94136755,  0.42489145,  1.4475506 ,  0.48712673,\n",
              "        0.68493197,  0.46608534,  0.93382441,  0.73491027,  1.06913825,\n",
              "        1.1162768 ,  1.03532141,  0.97399392,  0.81225939,  0.76713577,\n",
              "        0.51775435,  1.07127544,  0.33602665,  1.71463635,  1.37128747,\n",
              "        0.92296964,  0.62153144,  0.26898423,  0.53655935,  0.8257859 ,\n",
              "        1.39111165,  0.50461534,  0.55367443,  1.57041684,  0.37373942,\n",
              "        0.94502762,  0.24192938,  0.96263744,  0.37926576,  0.56817408,\n",
              "        1.48741983,  0.69851909,  1.01674672,  0.40307547,  0.6597136 ,\n",
              "        0.31404829,  0.59678196,  0.66601794,  0.4975596 ,  0.24877858,\n",
              "        1.81014207, -0.17259813,  1.36205995,  1.68349834,  0.61391331,\n",
              "        0.67546763,  0.80257091,  0.4266132 ,  1.19157709,  1.36675398,\n",
              "        1.21920363,  1.29498403,  1.12884562,  2.03421983,  0.56653595,\n",
              "        0.44677509,  1.05200629,  0.98590758,  0.80783374,  0.84968981,\n",
              "        0.98784025,  1.971265  ,  0.71885803,  0.85620697,  0.41171235,\n",
              "        0.85920898,  0.55727679,  0.56378444,  1.65013578,  0.85561827,\n",
              "        0.5892746 ,  2.25708259,  1.09092546,  0.56939003,  1.69566613,\n",
              "        1.24629757,  1.46981853,  0.70117768,  0.43895149,  0.57380575,\n",
              "        0.83472954,  0.34706744,  0.76803203,  0.38875686,  0.7878654 ,\n",
              "        1.32228625,  0.64796379,  1.1906262 ,  0.57957801,  0.90422579,\n",
              "        0.77712372,  1.19981543,  0.89961428,  0.57941944,  1.20954125,\n",
              "        0.68582532,  0.82879226,  1.22222994,  0.68405597,  1.04833826,\n",
              "        1.03850518,  0.49481832,  0.32769309,  0.45515148,  0.39127183,\n",
              "        0.5072636 ,  0.97773414,  0.77027687,  0.84627727,  1.09498696,\n",
              "        0.31536263,  1.3598838 ,  0.61526198,  1.16704769,  0.66906056,\n",
              "        1.14102254,  0.67724254,  0.97220484,  0.94325127,  0.41897802,\n",
              "        0.50851576,  0.64424175,  1.11522461,  0.49360161,  0.50502109,\n",
              "        0.09347456,  0.94684698,  1.34436594,  0.60162162,  1.37593415,\n",
              "        1.23665012,  0.86909961,  2.24838747,  1.26084478,  0.4952596 ,\n",
              "        1.52023433,  1.25190844,  0.72698804,  0.87238728,  1.03387643,\n",
              "        0.52903114,  0.78997858,  0.31726514,  0.62977039,  0.59241052,\n",
              "        0.41181002,  0.81642171,  1.09647658,  0.58831118,  0.94293941,\n",
              "        0.65686809,  0.62704135,  0.568482  ,  1.01925132,  1.85574682,\n",
              "        0.36612674,  1.2573573 ,  0.65456997,  0.96261568,  0.80613744,\n",
              "        0.40505823,  1.43213035,  0.79017057,  0.44131631,  1.11101872,\n",
              "        1.26210554,  0.58598237,  0.89754038,  0.89314875,  1.15014076,\n",
              "        0.40948772,  0.71153835,  1.39344303,  0.47579171,  1.69826202,\n",
              "        1.220401  ,  1.00222948,  0.61876817,  0.68867871,  0.77174244,\n",
              "        0.4713867 ,  0.198156  ,  0.37499711,  0.67226558,  0.64271736,\n",
              "        0.88584487,  0.43866517,  1.63369573,  0.93823598,  0.91429334,\n",
              "        1.50690544,  0.84789167,  1.24432816,  0.64692902,  1.52755285,\n",
              "        0.74345514,  0.78991637,  0.26603133,  1.68328719,  1.11136019,\n",
              "        1.42180258,  1.24211081,  0.18251882,  0.47699714,  1.54369933,\n",
              "        1.53003544,  0.62897461,  0.32127617,  0.14491645,  1.14634913,\n",
              "        0.66640665,  0.89069875,  1.22427068,  0.70903144,  0.75313813,\n",
              "        1.57135313,  1.67651148,  0.76610841,  1.18333135,  1.08871961,\n",
              "        1.61331166,  0.21752131,  1.45084519,  1.01627311,  0.19939349,\n",
              "        0.66445147,  1.79870365,  0.81294219,  0.46818684,  1.00379521,\n",
              "        0.78103943,  0.49883265,  0.71639977,  1.71520216,  1.39127033,\n",
              "        1.16048779,  0.53168531,  0.81953225,  1.34839415,  0.89828916,\n",
              "        1.0908215 ,  0.61261939,  0.70477289,  0.19512995,  0.58324414,\n",
              "        1.00176345])"
            ]
          },
          "metadata": {},
          "execution_count": 418
        }
      ]
    },
    {
      "cell_type": "code",
      "metadata": {
        "colab": {
          "base_uri": "https://localhost:8080/",
          "height": 299
        },
        "id": "bT9-kEI7NAnR",
        "outputId": "377e4db5-7039-4043-aca1-14bc8eee59b0"
      },
      "source": [
        "x1 = (train_data).numpy()\n",
        "y1 = np.array(train_label)\n",
        "\n",
        "plt.scatter(x1[y1==0,0][:,0], x1[y1==0,0][:,1], label='class 0')\n",
        "plt.scatter(x1[y1==1,0][:,0], x1[y1==1,0][:,1], label='class 1')\n",
        "plt.scatter(x1[y1==2,0][:,0], x1[y1==2,0][:,1], label='class 2')\n",
        "plt.legend()\n",
        "plt.title(\"dataset4 CIN with alpha = 1/\"+str(m))"
      ],
      "execution_count": 419,
      "outputs": [
        {
          "output_type": "execute_result",
          "data": {
            "text/plain": [
              "Text(0.5, 1.0, 'dataset4 CIN with alpha = 1/5')"
            ]
          },
          "metadata": {},
          "execution_count": 419
        },
        {
          "output_type": "display_data",
          "data": {
            "image/png": "[encoded data removed]",
            "text/plain": [
              "<Figure size 432x288 with 1 Axes>"
            ]
          },
          "metadata": {
            "needs_background": "light"
          }
        }
      ]
    },
    {
      "cell_type": "code",
      "metadata": {
        "colab": {
          "base_uri": "https://localhost:8080/",
          "height": 299
        },
        "id": "Sc8W2N7LQQ_l",
        "outputId": "cf30ad26-d2d4-43dc-f01c-53a779f4fb94"
      },
      "source": [
        "x1 = (test_data).numpy()\n",
        "y1 = np.array(test_label)\n",
        "\n",
        "plt.scatter(x1[y1==0,0][:,0], x1[y1==0,0][:,1], label='class 0')\n",
        "plt.scatter(x1[y1==1,0][:,0], x1[y1==1,0][:,1], label='class 1')\n",
        "plt.scatter(x1[y1==2,0][:,0], x1[y1==2,0][:,1], label='class 2')\n",
        "plt.legend()\n",
        "plt.title(\"test dataset4\")"
      ],
      "execution_count": 420,
      "outputs": [
        {
          "output_type": "execute_result",
          "data": {
            "text/plain": [
              "Text(0.5, 1.0, 'test dataset4')"
            ]
          },
          "metadata": {},
          "execution_count": 420
        },
        {
          "output_type": "display_data",
          "data": {
            "image/png": "[encoded data removed]",
            "text/plain": [
              "<Figure size 432x288 with 1 Axes>"
            ]
          },
          "metadata": {
            "needs_background": "light"
          }
        }
      ]
    },
    {
      "cell_type": "code",
      "metadata": {
        "id": "yL0BRf8er0TX"
      },
      "source": [
        "class MosaicDataset(Dataset):\n",
        "  \"\"\"MosaicDataset dataset.\"\"\"\n",
        "\n",
        "  def __init__(self, mosaic_list_of_images, mosaic_label):\n",
        "    \"\"\"\n",
        "      Args:\n",
        "        csv_file (string): Path to the csv file with annotations.\n",
        "        root_dir (string): Directory with all the images.\n",
        "        transform (callable, optional): Optional transform to be applied\n",
        "            on a sample.\n",
        "    \"\"\"\n",
        "    self.mosaic = mosaic_list_of_images\n",
        "    self.label = mosaic_label\n",
        "    #self.fore_idx = fore_idx\n",
        "    \n",
        "  def __len__(self):\n",
        "    return len(self.label)\n",
        "\n",
        "  def __getitem__(self, idx):\n",
        "    return self.mosaic[idx] , self.label[idx] #, self.fore_idx[idx]\n",
        "\n"
      ],
      "execution_count": 421,
      "outputs": []
    },
    {
      "cell_type": "code",
      "metadata": {
        "colab": {
          "base_uri": "https://localhost:8080/"
        },
        "id": "4KsrW9qL9xgS",
        "outputId": "671c3f97-3748-4c61-f5e4-4e5df7835776"
      },
      "source": [
        "train_data[0].shape, train_data[0]"
      ],
      "execution_count": 422,
      "outputs": [
        {
          "output_type": "execute_result",
          "data": {
            "text/plain": [
              "(torch.Size([1, 2]), tensor([[2.5500, 1.2844]], dtype=torch.float64))"
            ]
          },
          "metadata": {},
          "execution_count": 422
        }
      ]
    },
    {
      "cell_type": "code",
      "metadata": {
        "id": "EY2l62APygaV"
      },
      "source": [
        "batch = 200\n",
        "\n",
        "traindata_1 = MosaicDataset(train_data, train_label )\n",
        "trainloader_1 = DataLoader( traindata_1 , batch_size= batch ,shuffle=True)\n"
      ],
      "execution_count": 423,
      "outputs": []
    },
    {
      "cell_type": "code",
      "metadata": {
        "id": "9suUslCj8YZK"
      },
      "source": [
        "testdata_1 = MosaicDataset(test_data, test_label )\n",
        "testloader_1 = DataLoader( testdata_1 , batch_size= batch ,shuffle=False)\n"
      ],
      "execution_count": 424,
      "outputs": []
    },
    {
      "cell_type": "code",
      "metadata": {
        "id": "Nh3mBQHZ8bEj"
      },
      "source": [
        "# testdata_11 = MosaicDataset(test_dataset, labels )\n",
        "# testloader_11 = DataLoader( testdata_11 , batch_size= batch ,shuffle=False)"
      ],
      "execution_count": 425,
      "outputs": []
    },
    {
      "cell_type": "code",
      "metadata": {
        "id": "5_XeIUk0r0Tl"
      },
      "source": [
        "class Whatnet(nn.Module):\n",
        "    def __init__(self):\n",
        "        super(Whatnet,self).__init__()\n",
        "        self.linear1 = nn.Linear(2,50)\n",
        "        self.linear2 = nn.Linear(50,3)\n",
        "\n",
        "        torch.nn.init.xavier_normal_(self.linear1.weight)\n",
        "        torch.nn.init.zeros_(self.linear1.bias)\n",
        "        torch.nn.init.xavier_normal_(self.linear2.weight)\n",
        "        torch.nn.init.zeros_(self.linear2.bias)\n",
        "\n",
        "    def forward(self,x):\n",
        "        x = F.relu(self.linear1(x))\n",
        "        x = (self.linear2(x))\n",
        "\n",
        "        return x[:,0]"
      ],
      "execution_count": 426,
      "outputs": []
    },
    {
      "cell_type": "code",
      "metadata": {
        "id": "pjD2VZuV9Ed4"
      },
      "source": [
        "def calculate_loss(dataloader,model,criter):\n",
        "  model.eval()\n",
        "  r_loss = 0\n",
        "  with torch.no_grad():\n",
        "    for i, data in enumerate(dataloader, 0):\n",
        "      inputs, labels = data\n",
        "      inputs, labels = inputs.to(\"cuda\"),labels.to(\"cuda\")\n",
        "      outputs = model(inputs)\n",
        "      # print(outputs.shape)\n",
        "      loss = criter(outputs, labels)\n",
        "      r_loss += loss.item()\n",
        "  return r_loss/(i+1)"
      ],
      "execution_count": 427,
      "outputs": []
    },
    {
      "cell_type": "code",
      "metadata": {
        "id": "uALi25pmzQHV"
      },
      "source": [
        "def test_all(number, testloader,net):\n",
        "    correct = 0\n",
        "    total = 0\n",
        "    out = []\n",
        "    pred = []\n",
        "    with torch.no_grad():\n",
        "        for data in testloader:\n",
        "            images, labels = data\n",
        "            images, labels = images.to(\"cuda\"),labels.to(\"cuda\")\n",
        "            out.append(labels.cpu().numpy())\n",
        "            outputs= net(images)\n",
        "            _, predicted = torch.max(outputs.data, 1)\n",
        "            pred.append(predicted.cpu().numpy())\n",
        "            total += labels.size(0)\n",
        "            correct += (predicted == labels).sum().item()\n",
        "    \n",
        "    pred = np.concatenate(pred, axis = 0)\n",
        "    out = np.concatenate(out, axis = 0)\n",
        "    print(\"unique out: \",  np.unique(out), \"unique pred: \", np.unique(pred) )\n",
        "    print(\"correct: \", correct, \"total \",  total)\n",
        "    print('Accuracy of the network on the %d test dataset %d: %.2f %%' % (total, number , 100 * correct / total))"
      ],
      "execution_count": 428,
      "outputs": []
    },
    {
      "cell_type": "code",
      "metadata": {
        "id": "4vmNprlPzTjP"
      },
      "source": [
        "def train_all(trainloader, ds_number, testloader_list, lr_list):\n",
        "  \n",
        "  final_loss = []\n",
        "  for LR in lr_list:    \n",
        "    print(\"--\"*20, \"Learning Rate used is\", LR)\n",
        "    \n",
        "    torch.manual_seed(12)\n",
        "    net = Whatnet().double()\n",
        "    net = net.to(\"cuda\")\n",
        "    \n",
        "    criterion_net = nn.CrossEntropyLoss()\n",
        "    optimizer_net = optim.Adam(net.parameters(), lr=0.001 ) #, momentum=0.9)\n",
        "    \n",
        "    acti = []\n",
        "    loss_curi = []\n",
        "    epochs = 1000\n",
        "    running_loss = calculate_loss(trainloader,net,criterion_net)\n",
        "    loss_curi.append(running_loss)\n",
        "    print('epoch: [%d ] loss: %.3f' %(0,running_loss)) \n",
        "    for epoch in range(epochs): # loop over the dataset multiple times\n",
        "        ep_lossi = []\n",
        "\n",
        "        running_loss = 0.0\n",
        "        net.train()\n",
        "        for i, data in enumerate(trainloader, 0):\n",
        "            # get the inputs\n",
        "            inputs, labels = data\n",
        "            inputs, labels = inputs.to(\"cuda\"),labels.to(\"cuda\")\n",
        "\n",
        "            # zero the parameter gradients\n",
        "            optimizer_net.zero_grad()\n",
        "\n",
        "            # forward + backward + optimize\n",
        "            outputs = net(inputs)\n",
        "            # print(outputs.shape)\n",
        "            loss = criterion_net(outputs, labels)\n",
        "            # print statistics\n",
        "            running_loss += loss.item()\n",
        "            loss.backward()\n",
        "            optimizer_net.step()\n",
        "\n",
        "        running_loss = calculate_loss(trainloader,net,criterion_net)\n",
        "        if(epoch%200 == 0):\n",
        "          print('epoch: [%d] loss: %.3f' %(epoch + 1,running_loss)) \n",
        "        loss_curi.append(running_loss)   #loss per epoch\n",
        "        if running_loss<=0.05:\n",
        "          print('epoch: [%d] loss: %.3f' %(epoch + 1,running_loss))\n",
        "          break\n",
        "\n",
        "    print('Finished Training')\n",
        "    \n",
        "    correct = 0\n",
        "    total = 0\n",
        "    with torch.no_grad():\n",
        "        for data in trainloader:\n",
        "            images, labels = data\n",
        "            images, labels = images.to(\"cuda\"), labels.to(\"cuda\")\n",
        "            outputs = net(images)\n",
        "            _, predicted = torch.max(outputs.data, 1)\n",
        "            total += labels.size(0)\n",
        "            correct += (predicted == labels).sum().item()\n",
        "\n",
        "    print('Accuracy of the network on the %d train images: %.2f %%' % (total,  100 * correct / total))\n",
        "    \n",
        "    for i, j in enumerate(testloader_list):\n",
        "        test_all(i+1, j,net)\n",
        "    \n",
        "    print(\"--\"*40)\n",
        "    \n",
        "    final_loss.append(loss_curi) \n",
        "  return final_loss\n",
        "    "
      ],
      "execution_count": 429,
      "outputs": []
    },
    {
      "cell_type": "code",
      "metadata": {
        "id": "Yl41sE8vFERk"
      },
      "source": [
        "train_loss_all=[]\n",
        "\n",
        "testloader_list= [ testloader_1]\n",
        "lr_list = [0.0001, 0.0005, 0.001, 0.005, 0.01, 0.05, 0.1, 0.5 ]"
      ],
      "execution_count": 430,
      "outputs": []
    },
    {
      "cell_type": "code",
      "metadata": {
        "colab": {
          "base_uri": "https://localhost:8080/"
        },
        "id": "5gQoPST5zW2t",
        "outputId": "48f53b99-3ea2-4551-971c-21666a279816"
      },
      "source": [
        "fin_loss = train_all(trainloader_1, 1, testloader_list, lr_list)\n",
        "train_loss_all.append(fin_loss)"
      ],
      "execution_count": 431,
      "outputs": [
        {
          "output_type": "stream",
          "name": "stdout",
          "text": [
            "---------------------------------------- Learning Rate used is 0.0001\n",
            "epoch: [0 ] loss: 1.081\n",
            "epoch: [1] loss: 1.063\n",
            "epoch: [201] loss: 0.722\n",
            "epoch: [401] loss: 0.722\n",
            "epoch: [601] loss: 0.720\n",
            "epoch: [801] loss: 0.718\n",
            "Finished Training\n",
            "Accuracy of the network on the 2000 train images: 68.70 %\n",
            "unique out:  [0 1 2] unique pred:  [0 1 2]\n",
            "correct:  1000 total  1000\n",
            "Accuracy of the network on the 1000 test dataset 1: 100.00 %\n",
            "--------------------------------------------------------------------------------\n",
            "---------------------------------------- Learning Rate used is 0.0005\n",
            "epoch: [0 ] loss: 1.081\n",
            "epoch: [1] loss: 1.063\n",
            "epoch: [201] loss: 0.722\n",
            "epoch: [401] loss: 0.722\n",
            "epoch: [601] loss: 0.720\n",
            "epoch: [801] loss: 0.718\n",
            "Finished Training\n",
            "Accuracy of the network on the 2000 train images: 68.70 %\n",
            "unique out:  [0 1 2] unique pred:  [0 1 2]\n",
            "correct:  1000 total  1000\n",
            "Accuracy of the network on the 1000 test dataset 1: 100.00 %\n",
            "--------------------------------------------------------------------------------\n",
            "---------------------------------------- Learning Rate used is 0.001\n",
            "epoch: [0 ] loss: 1.081\n",
            "epoch: [1] loss: 1.063\n",
            "epoch: [201] loss: 0.722\n",
            "epoch: [401] loss: 0.722\n",
            "epoch: [601] loss: 0.720\n",
            "epoch: [801] loss: 0.718\n",
            "Finished Training\n",
            "Accuracy of the network on the 2000 train images: 68.70 %\n",
            "unique out:  [0 1 2] unique pred:  [0 1 2]\n",
            "correct:  1000 total  1000\n",
            "Accuracy of the network on the 1000 test dataset 1: 100.00 %\n",
            "--------------------------------------------------------------------------------\n",
            "---------------------------------------- Learning Rate used is 0.005\n",
            "epoch: [0 ] loss: 1.081\n",
            "epoch: [1] loss: 1.063\n",
            "epoch: [201] loss: 0.722\n",
            "epoch: [401] loss: 0.722\n",
            "epoch: [601] loss: 0.720\n",
            "epoch: [801] loss: 0.718\n",
            "Finished Training\n",
            "Accuracy of the network on the 2000 train images: 68.70 %\n",
            "unique out:  [0 1 2] unique pred:  [0 1 2]\n",
            "correct:  1000 total  1000\n",
            "Accuracy of the network on the 1000 test dataset 1: 100.00 %\n",
            "--------------------------------------------------------------------------------\n",
            "---------------------------------------- Learning Rate used is 0.01\n",
            "epoch: [0 ] loss: 1.081\n",
            "epoch: [1] loss: 1.063\n",
            "epoch: [201] loss: 0.722\n",
            "epoch: [401] loss: 0.722\n",
            "epoch: [601] loss: 0.720\n",
            "epoch: [801] loss: 0.718\n",
            "Finished Training\n",
            "Accuracy of the network on the 2000 train images: 68.70 %\n",
            "unique out:  [0 1 2] unique pred:  [0 1 2]\n",
            "correct:  1000 total  1000\n",
            "Accuracy of the network on the 1000 test dataset 1: 100.00 %\n",
            "--------------------------------------------------------------------------------\n",
            "---------------------------------------- Learning Rate used is 0.05\n",
            "epoch: [0 ] loss: 1.081\n",
            "epoch: [1] loss: 1.063\n",
            "epoch: [201] loss: 0.722\n",
            "epoch: [401] loss: 0.722\n",
            "epoch: [601] loss: 0.720\n",
            "epoch: [801] loss: 0.718\n",
            "Finished Training\n",
            "Accuracy of the network on the 2000 train images: 68.70 %\n",
            "unique out:  [0 1 2] unique pred:  [0 1 2]\n",
            "correct:  1000 total  1000\n",
            "Accuracy of the network on the 1000 test dataset 1: 100.00 %\n",
            "--------------------------------------------------------------------------------\n",
            "---------------------------------------- Learning Rate used is 0.1\n",
            "epoch: [0 ] loss: 1.081\n",
            "epoch: [1] loss: 1.063\n",
            "epoch: [201] loss: 0.722\n",
            "epoch: [401] loss: 0.722\n",
            "epoch: [601] loss: 0.720\n",
            "epoch: [801] loss: 0.718\n",
            "Finished Training\n",
            "Accuracy of the network on the 2000 train images: 68.70 %\n",
            "unique out:  [0 1 2] unique pred:  [0 1 2]\n",
            "correct:  1000 total  1000\n",
            "Accuracy of the network on the 1000 test dataset 1: 100.00 %\n",
            "--------------------------------------------------------------------------------\n",
            "---------------------------------------- Learning Rate used is 0.5\n",
            "epoch: [0 ] loss: 1.081\n",
            "epoch: [1] loss: 1.063\n",
            "epoch: [201] loss: 0.722\n",
            "epoch: [401] loss: 0.722\n",
            "epoch: [601] loss: 0.720\n",
            "epoch: [801] loss: 0.718\n",
            "Finished Training\n",
            "Accuracy of the network on the 2000 train images: 68.70 %\n",
            "unique out:  [0 1 2] unique pred:  [0 1 2]\n",
            "correct:  1000 total  1000\n",
            "Accuracy of the network on the 1000 test dataset 1: 100.00 %\n",
            "--------------------------------------------------------------------------------\n"
          ]
        }
      ]
    },
    {
      "cell_type": "code",
      "metadata": {
        "id": "In76SYH_zZHV"
      },
      "source": [
        "%matplotlib inline"
      ],
      "execution_count": 432,
      "outputs": []
    },
    {
      "cell_type": "code",
      "metadata": {
        "colab": {
          "base_uri": "https://localhost:8080/"
        },
        "id": "_GsE3qHR_A5c",
        "outputId": "184b0868-e778-43ed-fad6-db0d6ee86003"
      },
      "source": [
        "len(fin_loss)"
      ],
      "execution_count": 433,
      "outputs": [
        {
          "output_type": "execute_result",
          "data": {
            "text/plain": [
              "8"
            ]
          },
          "metadata": {},
          "execution_count": 433
        }
      ]
    },
    {
      "cell_type": "code",
      "metadata": {
        "id": "BS4HtOHEzZ0E",
        "colab": {
          "base_uri": "https://localhost:8080/",
          "height": 297
        },
        "outputId": "d8692b91-12bf-4d59-a781-5894f67e89b1"
      },
      "source": [
        "for i,j in enumerate(fin_loss):\n",
        "    plt.plot(j,label =\"LR = \"+str(lr_list[i]))\n",
        "    \n",
        "\n",
        "plt.xlabel(\"Epochs\")\n",
        "plt.ylabel(\"Training_loss\")\n",
        "\n",
        "plt.legend(loc='center left', bbox_to_anchor=(1, 0.5))"
      ],
      "execution_count": 434,
      "outputs": [
        {
          "output_type": "execute_result",
          "data": {
            "text/plain": [
              "<matplotlib.legend.Legend at 0x7fab05bdb690>"
            ]
          },
          "metadata": {},
          "execution_count": 434
        },
        {
          "output_type": "display_data",
          "data": {
            "image/png": "[encoded data removed]",
            "text/plain": [
              "<Figure size 432x288 with 1 Axes>"
            ]
          },
          "metadata": {
            "needs_background": "light"
          }
        }
      ]
    },
    {
      "cell_type": "code",
      "metadata": {
        "id": "1UbTkfLUINTI"
      },
      "source": [
        ""
      ],
      "execution_count": 434,
      "outputs": []
    }
  ]
}