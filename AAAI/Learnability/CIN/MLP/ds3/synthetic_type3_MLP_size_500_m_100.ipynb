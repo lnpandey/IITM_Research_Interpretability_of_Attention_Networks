{
  "nbformat": 4,
  "nbformat_minor": 0,
  "metadata": {
    "accelerator": "GPU",
    "colab": {
      "name": "synthetic_type3_MLP_m_5.ipynb",
      "provenance": [],
      "collapsed_sections": []
    },
    "kernelspec": {
      "display_name": "Python 3",
      "language": "python",
      "name": "python3"
    },
    "language_info": {
      "codemirror_mode": {
        "name": "ipython",
        "version": 3
      },
      "file_extension": ".py",
      "mimetype": "text/x-python",
      "name": "python",
      "nbconvert_exporter": "python",
      "pygments_lexer": "ipython3",
      "version": "3.6.5"
    }
  },
  "cells": [
    {
      "cell_type": "code",
      "metadata": {
        "colab": {
          "base_uri": "https://localhost:8080/"
        },
        "id": "N2_J4Rw2r0SQ",
        "outputId": "47ebdb43-e996-45d8-d12e-a447e92d86fa"
      },
      "source": [
        "import numpy as np\n",
        "import pandas as pd\n",
        "from matplotlib import pyplot as plt\n",
        "from tqdm import tqdm\n",
        "%matplotlib inline\n",
        "from torch.utils.data import Dataset, DataLoader\n",
        "import torch\n",
        "import torchvision\n",
        "\n",
        "import torch.nn as nn\n",
        "import torch.optim as optim\n",
        "from torch.nn import functional as F\n",
        "device = torch.device(\"cuda\" if torch.cuda.is_available() else \"cpu\")\n",
        "print(device)"
      ],
      "execution_count": 292,
      "outputs": [
        {
          "output_type": "stream",
          "name": "stdout",
          "text": [
            "cuda\n"
          ]
        }
      ]
    },
    {
      "cell_type": "code",
      "metadata": {
        "id": "ZTJPyL45DiJ3"
      },
      "source": [
        "m = 100           # 5, 50, 100, 500, 2000"
      ],
      "execution_count": 293,
      "outputs": []
    },
    {
      "cell_type": "code",
      "metadata": {
        "id": "g-do5dZWK5L6"
      },
      "source": [
        "train_size = 500          # 100, 500, 2000, 10000"
      ],
      "execution_count": 294,
      "outputs": []
    },
    {
      "cell_type": "markdown",
      "metadata": {
        "id": "F6fjud_Fr0Sa"
      },
      "source": [
        "# Generate dataset"
      ]
    },
    {
      "cell_type": "code",
      "metadata": {
        "colab": {
          "base_uri": "https://localhost:8080/"
        },
        "id": "CqdXHO0Cr0Sd",
        "outputId": "9ba15ab3-a54f-4ae1-9aa1-70dff6271bd4"
      },
      "source": [
        "np.random.seed(12)\n",
        "y = np.random.randint(0,10,5000)\n",
        "idx= []\n",
        "for i in range(10):\n",
        "    print(i,sum(y==i))\n",
        "    idx.append(y==i)"
      ],
      "execution_count": 295,
      "outputs": [
        {
          "output_type": "stream",
          "name": "stdout",
          "text": [
            "0 530\n",
            "1 463\n",
            "2 494\n",
            "3 517\n",
            "4 488\n",
            "5 497\n",
            "6 493\n",
            "7 507\n",
            "8 492\n",
            "9 519\n"
          ]
        }
      ]
    },
    {
      "cell_type": "code",
      "metadata": {
        "id": "ddhXyODwr0Sk"
      },
      "source": [
        "x = np.zeros((5000,2))"
      ],
      "execution_count": 296,
      "outputs": []
    },
    {
      "cell_type": "code",
      "metadata": {
        "id": "DyV3N2DIr0Sp"
      },
      "source": [
        "np.random.seed(12)\n",
        "x[idx[0],:] = np.random.multivariate_normal(mean = [7,4],cov=[[0.1,0],[0,0.1]],size=sum(idx[0]))\n",
        "x[idx[1],:] = np.random.multivariate_normal(mean = [8,6.5],cov=[[0.1,0],[0,0.1]],size=sum(idx[1]))\n",
        "x[idx[2],:] = np.random.multivariate_normal(mean = [5.5,6.5],cov=[[0.1,0],[0,0.1]],size=sum(idx[2]))\n",
        "x[idx[3],:] = np.random.multivariate_normal(mean = [-1,0],cov=[[0.1,0],[0,0.1]],size=sum(idx[3]))\n",
        "x[idx[4],:] = np.random.multivariate_normal(mean = [0,2],cov=[[0.1,0],[0,0.1]],size=sum(idx[4]))\n",
        "x[idx[5],:] = np.random.multivariate_normal(mean = [1,0],cov=[[0.1,0],[0,0.1]],size=sum(idx[5]))\n",
        "x[idx[6],:] = np.random.multivariate_normal(mean = [0,-1],cov=[[0.1,0],[0,0.1]],size=sum(idx[6]))\n",
        "x[idx[7],:] = np.random.multivariate_normal(mean = [0,0],cov=[[0.1,0],[0,0.1]],size=sum(idx[7]))\n",
        "x[idx[8],:] = np.random.multivariate_normal(mean = [-0.5,-0.5],cov=[[0.1,0],[0,0.1]],size=sum(idx[8]))\n",
        "x[idx[9],:] = np.random.multivariate_normal(mean = [0.4,0.2],cov=[[0.1,0],[0,0.1]],size=sum(idx[9]))"
      ],
      "execution_count": 297,
      "outputs": []
    },
    {
      "cell_type": "code",
      "metadata": {
        "colab": {
          "base_uri": "https://localhost:8080/"
        },
        "id": "qh1mDScsU07I",
        "outputId": "0dc30aef-25fd-44cd-d81c-f3fea9155fe8"
      },
      "source": [
        "x[idx[0]][0], x[idx[5]][5] "
      ],
      "execution_count": 298,
      "outputs": [
        {
          "output_type": "execute_result",
          "data": {
            "text/plain": [
              "(array([7.14957125, 3.78451422]), array([0.87756167, 0.00457805]))"
            ]
          },
          "metadata": {},
          "execution_count": 298
        }
      ]
    },
    {
      "cell_type": "code",
      "metadata": {
        "colab": {
          "base_uri": "https://localhost:8080/",
          "height": 287
        },
        "id": "hJ8Jm7YUr0St",
        "outputId": "4dbecbaa-9374-4b9d-e49d-6be90a8f466e"
      },
      "source": [
        "for i in range(10):\n",
        "    plt.scatter(x[idx[i],0],x[idx[i],1],label=\"class_\"+str(i))\n",
        "plt.legend(loc='center left', bbox_to_anchor=(1, 0.5))"
      ],
      "execution_count": 299,
      "outputs": [
        {
          "output_type": "execute_result",
          "data": {
            "text/plain": [
              "<matplotlib.legend.Legend at 0x7fab0650a810>"
            ]
          },
          "metadata": {},
          "execution_count": 299
        },
        {
          "output_type": "display_data",
          "data": {
            "image/png": "[encoded data removed]",
            "text/plain": [
              "<Figure size 432x288 with 1 Axes>"
            ]
          },
          "metadata": {
            "needs_background": "light"
          }
        }
      ]
    },
    {
      "cell_type": "code",
      "metadata": {
        "colab": {
          "base_uri": "https://localhost:8080/"
        },
        "id": "3lMBZEHNBlF2",
        "outputId": "0e94a6a9-5c5d-49c1-81ff-e7fb2c9cfba3"
      },
      "source": [
        "bg_idx = [ np.where(idx[3] == True)[0], \n",
        "          np.where(idx[4] == True)[0], \n",
        "          np.where(idx[5] == True)[0],\n",
        "          np.where(idx[6] == True)[0], \n",
        "          np.where(idx[7] == True)[0], \n",
        "          np.where(idx[8] == True)[0],\n",
        "          np.where(idx[9] == True)[0]]\n",
        "\n",
        "bg_idx = np.concatenate(bg_idx, axis = 0)\n",
        "bg_idx.shape"
      ],
      "execution_count": 300,
      "outputs": [
        {
          "output_type": "execute_result",
          "data": {
            "text/plain": [
              "(3513,)"
            ]
          },
          "metadata": {},
          "execution_count": 300
        }
      ]
    },
    {
      "cell_type": "code",
      "metadata": {
        "colab": {
          "base_uri": "https://localhost:8080/"
        },
        "id": "blRbGZHeCwXU",
        "outputId": "d093faa6-b39c-489e-95cb-cc5ed05a9447"
      },
      "source": [
        "np.unique(bg_idx).shape"
      ],
      "execution_count": 301,
      "outputs": [
        {
          "output_type": "execute_result",
          "data": {
            "text/plain": [
              "(3513,)"
            ]
          },
          "metadata": {},
          "execution_count": 301
        }
      ]
    },
    {
      "cell_type": "code",
      "metadata": {
        "id": "Y43sWeX7C15F"
      },
      "source": [
        "x = x - np.mean(x[bg_idx], axis = 0, keepdims = True)\n"
      ],
      "execution_count": 302,
      "outputs": []
    },
    {
      "cell_type": "code",
      "metadata": {
        "colab": {
          "base_uri": "https://localhost:8080/"
        },
        "id": "ooII7N6UDWe0",
        "outputId": "ab7de1a7-be54-4914-9364-c046c8c5a4dd"
      },
      "source": [
        "np.mean(x[bg_idx], axis = 0, keepdims = True), np.mean(x, axis = 0, keepdims = True)"
      ],
      "execution_count": 303,
      "outputs": [
        {
          "output_type": "execute_result",
          "data": {
            "text/plain": [
              "(array([[-1.04275003e-16,  6.74571889e-17]]),\n",
              " array([[2.02981967, 1.63582644]]))"
            ]
          },
          "metadata": {},
          "execution_count": 303
        }
      ]
    },
    {
      "cell_type": "code",
      "metadata": {
        "id": "g21bvPRYDL9k"
      },
      "source": [
        "x = x/np.std(x[bg_idx], axis = 0, keepdims = True)"
      ],
      "execution_count": 304,
      "outputs": []
    },
    {
      "cell_type": "code",
      "metadata": {
        "colab": {
          "base_uri": "https://localhost:8080/"
        },
        "id": "GtFvIeHsDZJk",
        "outputId": "06d1cb8c-3c14-4fc1-f57a-85dbdf9e8f09"
      },
      "source": [
        "np.std(x[bg_idx], axis = 0, keepdims = True), np.std(x, axis = 0, keepdims = True)"
      ],
      "execution_count": 305,
      "outputs": [
        {
          "output_type": "execute_result",
          "data": {
            "text/plain": [
              "(array([[1., 1.]]), array([[4.89756643, 3.00501566]]))"
            ]
          },
          "metadata": {},
          "execution_count": 305
        }
      ]
    },
    {
      "cell_type": "code",
      "metadata": {
        "colab": {
          "base_uri": "https://localhost:8080/",
          "height": 283
        },
        "id": "8-VLhUfDDeHt",
        "outputId": "8ba6eda3-f306-4b3f-b13c-048581bf81a9"
      },
      "source": [
        "for i in range(10):\n",
        "    plt.scatter(x[idx[i],0],x[idx[i],1],label=\"class_\"+str(i))\n",
        "plt.legend(loc='center left', bbox_to_anchor=(1, 0.5))"
      ],
      "execution_count": 306,
      "outputs": [
        {
          "output_type": "execute_result",
          "data": {
            "text/plain": [
              "<matplotlib.legend.Legend at 0x7fab0628ba90>"
            ]
          },
          "metadata": {},
          "execution_count": 306
        },
        {
          "output_type": "display_data",
          "data": {
            "image/png": "[encoded data removed]",
            "text/plain": [
              "<Figure size 432x288 with 1 Axes>"
            ]
          },
          "metadata": {
            "needs_background": "light"
          }
        }
      ]
    },
    {
      "cell_type": "code",
      "metadata": {
        "id": "UfFHcZJOr0Sz"
      },
      "source": [
        "foreground_classes = {'class_0','class_1', 'class_2'}\n",
        "\n",
        "background_classes = {'class_3','class_4', 'class_5', 'class_6','class_7', 'class_8', 'class_9'}"
      ],
      "execution_count": 307,
      "outputs": []
    },
    {
      "cell_type": "code",
      "metadata": {
        "colab": {
          "base_uri": "https://localhost:8080/"
        },
        "id": "OplNpNQVr0S2",
        "outputId": "7fd910a6-101d-4a20-b6df-ce2a2a952a83"
      },
      "source": [
        "fg_class  = np.random.randint(0,3)\n",
        "fg_idx = np.random.randint(0,m)\n",
        "train_data=[]\n",
        "a = []\n",
        "fg_instance = np.array([[0.0,0.0]])\n",
        "bg_instance = np.array([[0.0,0.0]])\n",
        "\n",
        "for i in range(m):\n",
        "  if i == fg_idx:\n",
        "    b = np.random.choice(np.where(idx[fg_class]==True)[0],size=1)\n",
        "    fg_instance += x[b]\n",
        "    a.append(x[b])\n",
        "    print(\"foreground \"+str(fg_class)+\" present at \" + str(fg_idx))\n",
        "  else:\n",
        "    bg_class = np.random.randint(3,10)\n",
        "    b = np.random.choice(np.where(idx[bg_class]==True)[0],size=1)\n",
        "    bg_instance += x[b]\n",
        "    a.append(x[b])\n",
        "    print(\"background \"+str(bg_class)+\" present at \" + str(i))\n",
        "\n",
        "a = np.concatenate(a,axis=0)\n",
        "print(a.shape)\n",
        "\n",
        "print(fg_class , fg_idx)"
      ],
      "execution_count": 308,
      "outputs": [
        {
          "output_type": "stream",
          "name": "stdout",
          "text": [
            "background 3 present at 0\n",
            "background 8 present at 1\n",
            "background 5 present at 2\n",
            "background 3 present at 3\n",
            "background 5 present at 4\n",
            "background 7 present at 5\n",
            "background 6 present at 6\n",
            "background 5 present at 7\n",
            "background 3 present at 8\n",
            "background 5 present at 9\n",
            "background 4 present at 10\n",
            "background 7 present at 11\n",
            "background 4 present at 12\n",
            "background 3 present at 13\n",
            "background 9 present at 14\n",
            "background 6 present at 15\n",
            "background 6 present at 16\n",
            "background 3 present at 17\n",
            "background 3 present at 18\n",
            "background 5 present at 19\n",
            "background 4 present at 20\n",
            "background 4 present at 21\n",
            "background 9 present at 22\n",
            "background 8 present at 23\n",
            "background 3 present at 24\n",
            "background 7 present at 25\n",
            "background 6 present at 26\n",
            "background 8 present at 27\n",
            "background 3 present at 28\n",
            "background 7 present at 29\n",
            "background 8 present at 30\n",
            "background 7 present at 31\n",
            "background 7 present at 32\n",
            "background 5 present at 33\n",
            "background 9 present at 34\n",
            "background 6 present at 35\n",
            "background 4 present at 36\n",
            "background 7 present at 37\n",
            "background 6 present at 38\n",
            "background 3 present at 39\n",
            "background 4 present at 40\n",
            "background 3 present at 41\n",
            "background 4 present at 42\n",
            "background 7 present at 43\n",
            "background 6 present at 44\n",
            "background 5 present at 45\n",
            "background 8 present at 46\n",
            "background 8 present at 47\n",
            "background 7 present at 48\n",
            "background 3 present at 49\n",
            "background 7 present at 50\n",
            "background 7 present at 51\n",
            "background 6 present at 52\n",
            "background 4 present at 53\n",
            "background 3 present at 54\n",
            "background 6 present at 55\n",
            "background 3 present at 56\n",
            "background 8 present at 57\n",
            "background 8 present at 58\n",
            "background 4 present at 59\n",
            "background 7 present at 60\n",
            "background 8 present at 61\n",
            "background 5 present at 62\n",
            "background 8 present at 63\n",
            "background 6 present at 64\n",
            "background 9 present at 65\n",
            "background 6 present at 66\n",
            "background 3 present at 67\n",
            "background 6 present at 68\n",
            "background 3 present at 69\n",
            "background 7 present at 70\n",
            "background 5 present at 71\n",
            "background 9 present at 72\n",
            "background 6 present at 73\n",
            "background 7 present at 74\n",
            "background 5 present at 75\n",
            "background 6 present at 76\n",
            "background 4 present at 77\n",
            "background 6 present at 78\n",
            "background 7 present at 79\n",
            "background 4 present at 80\n",
            "background 3 present at 81\n",
            "foreground 2 present at 82\n",
            "background 4 present at 83\n",
            "background 6 present at 84\n",
            "background 7 present at 85\n",
            "background 3 present at 86\n",
            "background 6 present at 87\n",
            "background 3 present at 88\n",
            "background 4 present at 89\n",
            "background 3 present at 90\n",
            "background 4 present at 91\n",
            "background 3 present at 92\n",
            "background 5 present at 93\n",
            "background 5 present at 94\n",
            "background 7 present at 95\n",
            "background 9 present at 96\n",
            "background 6 present at 97\n",
            "background 6 present at 98\n",
            "background 8 present at 99\n",
            "(100, 2)\n",
            "2 82\n"
          ]
        }
      ]
    },
    {
      "cell_type": "code",
      "metadata": {
        "colab": {
          "base_uri": "https://localhost:8080/"
        },
        "id": "Rx6cMmR3baVf",
        "outputId": "6f94ccde-aa5e-4cc7-df24-598238916026"
      },
      "source": [
        "a"
      ],
      "execution_count": 309,
      "outputs": [
        {
          "output_type": "execute_result",
          "data": {
            "text/plain": [
              "array([[-1.62273068e+00, -9.44577073e-01],\n",
              "       [-8.22962717e-01, -7.32521912e-01],\n",
              "       [ 2.09728368e+00, -2.44651323e-01],\n",
              "       [-9.86087689e-01, -7.51232458e-01],\n",
              "       [ 1.37297554e+00, -3.76733075e-01],\n",
              "       [-8.84692079e-01, -1.11551995e-01],\n",
              "       [ 3.23086410e-01, -1.23774128e+00],\n",
              "       [ 1.37297554e+00, -3.76733075e-01],\n",
              "       [-1.37994224e+00, -1.86927689e-02],\n",
              "       [ 1.18729176e+00, -1.43385686e-01],\n",
              "       [ 1.08414750e+00,  2.21424613e+00],\n",
              "       [ 3.07773579e-01,  5.11134472e-01],\n",
              "       [-5.80062748e-01,  2.56861924e+00],\n",
              "       [-1.57480355e+00,  1.37864198e-01],\n",
              "       [ 8.78834768e-01, -3.18178197e-01],\n",
              "       [ 5.58625839e-02, -1.37825691e+00],\n",
              "       [ 3.52658712e-01, -1.71500720e+00],\n",
              "       [-7.59374170e-01, -4.37189615e-03],\n",
              "       [-2.04596416e+00, -2.96574324e-01],\n",
              "       [ 6.67601921e-01,  3.81413021e-01],\n",
              "       [ 4.32964750e-01,  1.79447667e+00],\n",
              "       [ 5.77182460e-01,  2.12761839e+00],\n",
              "       [ 4.81571501e-01, -1.77495772e-01],\n",
              "       [-9.01757410e-01, -6.53914167e-01],\n",
              "       [-1.05809662e+00, -2.96003187e-01],\n",
              "       [-9.64224116e-02, -1.02062394e-01],\n",
              "       [-3.51025475e-01, -1.43245892e+00],\n",
              "       [-7.86494960e-01, -6.96928923e-01],\n",
              "       [-1.78563283e+00, -2.97788754e-01],\n",
              "       [-2.91612592e-02, -8.20240457e-01],\n",
              "       [-1.36322898e+00, -1.17531631e+00],\n",
              "       [-7.28928821e-01, -2.00888740e-01],\n",
              "       [ 1.32681142e+00, -2.74341506e-01],\n",
              "       [ 2.21086140e+00, -4.46459278e-01],\n",
              "       [ 1.07505767e+00,  7.08825917e-02],\n",
              "       [-3.58854571e-02, -1.00480957e+00],\n",
              "       [-3.17975403e-01,  2.26776033e+00],\n",
              "       [ 4.32767080e-01,  1.64016979e-01],\n",
              "       [ 3.05304464e-01, -1.41095178e+00],\n",
              "       [-1.57167801e+00, -2.15455107e-01],\n",
              "       [ 1.65618250e-01,  2.34096180e+00],\n",
              "       [-1.76753678e+00, -3.71998306e-01],\n",
              "       [ 7.40531478e-01,  2.93223156e+00],\n",
              "       [ 2.24896506e-01, -1.96101846e-01],\n",
              "       [ 4.18092096e-01, -9.94536492e-01],\n",
              "       [ 1.37861110e+00, -5.40275314e-01],\n",
              "       [-1.30672456e+00, -8.16503116e-01],\n",
              "       [-4.44657777e-01, -8.22773150e-01],\n",
              "       [-5.49469370e-02,  2.75241692e-01],\n",
              "       [-1.72600806e+00, -3.41770538e-01],\n",
              "       [-1.01222748e-01, -6.04064183e-01],\n",
              "       [ 6.16491513e-01,  1.27586905e-01],\n",
              "       [ 1.67964862e-01, -7.09359803e-01],\n",
              "       [ 1.02651061e+00,  2.14150790e+00],\n",
              "       [-1.21775631e+00, -7.16974055e-02],\n",
              "       [-7.12909825e-01, -1.23765294e+00],\n",
              "       [-1.34572194e+00,  2.21321434e-01],\n",
              "       [-6.10886116e-01, -4.80010535e-01],\n",
              "       [-6.74248734e-01, -8.72847231e-01],\n",
              "       [-5.64662439e-01,  2.31680967e+00],\n",
              "       [-1.44915919e-01, -3.20870253e-01],\n",
              "       [-8.84312693e-01, -6.25599566e-01],\n",
              "       [ 1.52489136e+00,  2.63127792e-02],\n",
              "       [-7.92128161e-01, -5.45112852e-01],\n",
              "       [ 1.27970573e-01, -1.14855190e+00],\n",
              "       [ 8.59813895e-01, -3.67608121e-01],\n",
              "       [-9.39856356e-02, -4.65375966e-01],\n",
              "       [-1.50036085e+00, -1.06988238e-01],\n",
              "       [-7.41694481e-01, -1.11564667e+00],\n",
              "       [-1.56287722e+00,  6.05328543e-02],\n",
              "       [-1.06388916e+00, -1.58012961e-01],\n",
              "       [ 2.61769821e+00,  3.76482710e-01],\n",
              "       [ 7.20750412e-01, -1.25938217e-01],\n",
              "       [-5.51467739e-02, -1.09701273e+00],\n",
              "       [-3.21420942e-01,  4.12020452e-02],\n",
              "       [ 9.69369557e-01, -2.55073260e-01],\n",
              "       [ 2.26230296e-01, -9.79478646e-01],\n",
              "       [-4.42583467e-01,  2.03331831e+00],\n",
              "       [ 1.73975532e-01, -1.01291610e+00],\n",
              "       [ 3.28419291e-01, -2.63913358e-01],\n",
              "       [ 6.77182351e-02,  2.31384142e+00],\n",
              "       [-1.76489389e+00, -2.42244483e-01],\n",
              "       [ 8.11885190e+00,  6.93831227e+00],\n",
              "       [ 8.13075928e-01,  2.35518496e+00],\n",
              "       [ 1.21334728e+00, -1.27332532e+00],\n",
              "       [ 2.70745155e-02,  6.08602622e-01],\n",
              "       [-1.54110299e+00,  1.49389444e-01],\n",
              "       [-4.17955611e-01, -8.20317805e-01],\n",
              "       [-3.22047527e-01, -7.25343701e-01],\n",
              "       [-2.50370275e-01,  2.24995799e+00],\n",
              "       [-3.22047527e-01, -7.25343701e-01],\n",
              "       [ 1.08414750e+00,  2.21424613e+00],\n",
              "       [-1.49347717e+00, -9.45644637e-02],\n",
              "       [ 1.28523668e+00,  2.07231324e-01],\n",
              "       [ 1.48811544e+00, -1.77627931e-01],\n",
              "       [-1.40237805e-02, -6.34840722e-01],\n",
              "       [ 8.24353950e-01,  3.57656156e-01],\n",
              "       [ 2.23201058e-01, -8.23635331e-01],\n",
              "       [ 1.16661925e-01, -1.18815427e+00],\n",
              "       [-9.27831149e-01, -1.10239133e+00]])"
            ]
          },
          "metadata": {},
          "execution_count": 309
        }
      ]
    },
    {
      "cell_type": "code",
      "metadata": {
        "colab": {
          "base_uri": "https://localhost:8080/"
        },
        "id": "dEdaFZPQhc7D",
        "outputId": "11da99fc-e6fe-4eea-d370-00fb53e23db8"
      },
      "source": [
        "fg_instance"
      ],
      "execution_count": 310,
      "outputs": [
        {
          "output_type": "execute_result",
          "data": {
            "text/plain": [
              "array([[8.1188519 , 6.93831227]])"
            ]
          },
          "metadata": {},
          "execution_count": 310
        }
      ]
    },
    {
      "cell_type": "code",
      "metadata": {
        "colab": {
          "base_uri": "https://localhost:8080/"
        },
        "id": "IqdAVbG1hftM",
        "outputId": "52107a78-a20f-4b86-8cda-89bd695f191b"
      },
      "source": [
        "bg_instance"
      ],
      "execution_count": 311,
      "outputs": [
        {
          "output_type": "execute_result",
          "data": {
            "text/plain": [
              "array([[-8.89347431, -6.72315107]])"
            ]
          },
          "metadata": {},
          "execution_count": 311
        }
      ]
    },
    {
      "cell_type": "code",
      "metadata": {
        "colab": {
          "base_uri": "https://localhost:8080/"
        },
        "id": "Ho98SSXEhx6L",
        "outputId": "2ee2826d-111c-4719-b875-2ba4a99b32ca"
      },
      "source": [
        "(fg_instance+bg_instance)/m , m"
      ],
      "execution_count": 312,
      "outputs": [
        {
          "output_type": "execute_result",
          "data": {
            "text/plain": [
              "(array([[-0.00774622,  0.00215161]]), 100)"
            ]
          },
          "metadata": {},
          "execution_count": 312
        }
      ]
    },
    {
      "cell_type": "code",
      "metadata": {
        "colab": {
          "base_uri": "https://localhost:8080/"
        },
        "id": "OoxzYI-ur0S_",
        "outputId": "863b787a-7a76-4bf4-ce30-ff3ed7495907"
      },
      "source": [
        "np.reshape(a,(2*m,1))"
      ],
      "execution_count": 313,
      "outputs": [
        {
          "output_type": "execute_result",
          "data": {
            "text/plain": [
              "array([[-1.62273068e+00],\n",
              "       [-9.44577073e-01],\n",
              "       [-8.22962717e-01],\n",
              "       [-7.32521912e-01],\n",
              "       [ 2.09728368e+00],\n",
              "       [-2.44651323e-01],\n",
              "       [-9.86087689e-01],\n",
              "       [-7.51232458e-01],\n",
              "       [ 1.37297554e+00],\n",
              "       [-3.76733075e-01],\n",
              "       [-8.84692079e-01],\n",
              "       [-1.11551995e-01],\n",
              "       [ 3.23086410e-01],\n",
              "       [-1.23774128e+00],\n",
              "       [ 1.37297554e+00],\n",
              "       [-3.76733075e-01],\n",
              "       [-1.37994224e+00],\n",
              "       [-1.86927689e-02],\n",
              "       [ 1.18729176e+00],\n",
              "       [-1.43385686e-01],\n",
              "       [ 1.08414750e+00],\n",
              "       [ 2.21424613e+00],\n",
              "       [ 3.07773579e-01],\n",
              "       [ 5.11134472e-01],\n",
              "       [-5.80062748e-01],\n",
              "       [ 2.56861924e+00],\n",
              "       [-1.57480355e+00],\n",
              "       [ 1.37864198e-01],\n",
              "       [ 8.78834768e-01],\n",
              "       [-3.18178197e-01],\n",
              "       [ 5.58625839e-02],\n",
              "       [-1.37825691e+00],\n",
              "       [ 3.52658712e-01],\n",
              "       [-1.71500720e+00],\n",
              "       [-7.59374170e-01],\n",
              "       [-4.37189615e-03],\n",
              "       [-2.04596416e+00],\n",
              "       [-2.96574324e-01],\n",
              "       [ 6.67601921e-01],\n",
              "       [ 3.81413021e-01],\n",
              "       [ 4.32964750e-01],\n",
              "       [ 1.79447667e+00],\n",
              "       [ 5.77182460e-01],\n",
              "       [ 2.12761839e+00],\n",
              "       [ 4.81571501e-01],\n",
              "       [-1.77495772e-01],\n",
              "       [-9.01757410e-01],\n",
              "       [-6.53914167e-01],\n",
              "       [-1.05809662e+00],\n",
              "       [-2.96003187e-01],\n",
              "       [-9.64224116e-02],\n",
              "       [-1.02062394e-01],\n",
              "       [-3.51025475e-01],\n",
              "       [-1.43245892e+00],\n",
              "       [-7.86494960e-01],\n",
              "       [-6.96928923e-01],\n",
              "       [-1.78563283e+00],\n",
              "       [-2.97788754e-01],\n",
              "       [-2.91612592e-02],\n",
              "       [-8.20240457e-01],\n",
              "       [-1.36322898e+00],\n",
              "       [-1.17531631e+00],\n",
              "       [-7.28928821e-01],\n",
              "       [-2.00888740e-01],\n",
              "       [ 1.32681142e+00],\n",
              "       [-2.74341506e-01],\n",
              "       [ 2.21086140e+00],\n",
              "       [-4.46459278e-01],\n",
              "       [ 1.07505767e+00],\n",
              "       [ 7.08825917e-02],\n",
              "       [-3.58854571e-02],\n",
              "       [-1.00480957e+00],\n",
              "       [-3.17975403e-01],\n",
              "       [ 2.26776033e+00],\n",
              "       [ 4.32767080e-01],\n",
              "       [ 1.64016979e-01],\n",
              "       [ 3.05304464e-01],\n",
              "       [-1.41095178e+00],\n",
              "       [-1.57167801e+00],\n",
              "       [-2.15455107e-01],\n",
              "       [ 1.65618250e-01],\n",
              "       [ 2.34096180e+00],\n",
              "       [-1.76753678e+00],\n",
              "       [-3.71998306e-01],\n",
              "       [ 7.40531478e-01],\n",
              "       [ 2.93223156e+00],\n",
              "       [ 2.24896506e-01],\n",
              "       [-1.96101846e-01],\n",
              "       [ 4.18092096e-01],\n",
              "       [-9.94536492e-01],\n",
              "       [ 1.37861110e+00],\n",
              "       [-5.40275314e-01],\n",
              "       [-1.30672456e+00],\n",
              "       [-8.16503116e-01],\n",
              "       [-4.44657777e-01],\n",
              "       [-8.22773150e-01],\n",
              "       [-5.49469370e-02],\n",
              "       [ 2.75241692e-01],\n",
              "       [-1.72600806e+00],\n",
              "       [-3.41770538e-01],\n",
              "       [-1.01222748e-01],\n",
              "       [-6.04064183e-01],\n",
              "       [ 6.16491513e-01],\n",
              "       [ 1.27586905e-01],\n",
              "       [ 1.67964862e-01],\n",
              "       [-7.09359803e-01],\n",
              "       [ 1.02651061e+00],\n",
              "       [ 2.14150790e+00],\n",
              "       [-1.21775631e+00],\n",
              "       [-7.16974055e-02],\n",
              "       [-7.12909825e-01],\n",
              "       [-1.23765294e+00],\n",
              "       [-1.34572194e+00],\n",
              "       [ 2.21321434e-01],\n",
              "       [-6.10886116e-01],\n",
              "       [-4.80010535e-01],\n",
              "       [-6.74248734e-01],\n",
              "       [-8.72847231e-01],\n",
              "       [-5.64662439e-01],\n",
              "       [ 2.31680967e+00],\n",
              "       [-1.44915919e-01],\n",
              "       [-3.20870253e-01],\n",
              "       [-8.84312693e-01],\n",
              "       [-6.25599566e-01],\n",
              "       [ 1.52489136e+00],\n",
              "       [ 2.63127792e-02],\n",
              "       [-7.92128161e-01],\n",
              "       [-5.45112852e-01],\n",
              "       [ 1.27970573e-01],\n",
              "       [-1.14855190e+00],\n",
              "       [ 8.59813895e-01],\n",
              "       [-3.67608121e-01],\n",
              "       [-9.39856356e-02],\n",
              "       [-4.65375966e-01],\n",
              "       [-1.50036085e+00],\n",
              "       [-1.06988238e-01],\n",
              "       [-7.41694481e-01],\n",
              "       [-1.11564667e+00],\n",
              "       [-1.56287722e+00],\n",
              "       [ 6.05328543e-02],\n",
              "       [-1.06388916e+00],\n",
              "       [-1.58012961e-01],\n",
              "       [ 2.61769821e+00],\n",
              "       [ 3.76482710e-01],\n",
              "       [ 7.20750412e-01],\n",
              "       [-1.25938217e-01],\n",
              "       [-5.51467739e-02],\n",
              "       [-1.09701273e+00],\n",
              "       [-3.21420942e-01],\n",
              "       [ 4.12020452e-02],\n",
              "       [ 9.69369557e-01],\n",
              "       [-2.55073260e-01],\n",
              "       [ 2.26230296e-01],\n",
              "       [-9.79478646e-01],\n",
              "       [-4.42583467e-01],\n",
              "       [ 2.03331831e+00],\n",
              "       [ 1.73975532e-01],\n",
              "       [-1.01291610e+00],\n",
              "       [ 3.28419291e-01],\n",
              "       [-2.63913358e-01],\n",
              "       [ 6.77182351e-02],\n",
              "       [ 2.31384142e+00],\n",
              "       [-1.76489389e+00],\n",
              "       [-2.42244483e-01],\n",
              "       [ 8.11885190e+00],\n",
              "       [ 6.93831227e+00],\n",
              "       [ 8.13075928e-01],\n",
              "       [ 2.35518496e+00],\n",
              "       [ 1.21334728e+00],\n",
              "       [-1.27332532e+00],\n",
              "       [ 2.70745155e-02],\n",
              "       [ 6.08602622e-01],\n",
              "       [-1.54110299e+00],\n",
              "       [ 1.49389444e-01],\n",
              "       [-4.17955611e-01],\n",
              "       [-8.20317805e-01],\n",
              "       [-3.22047527e-01],\n",
              "       [-7.25343701e-01],\n",
              "       [-2.50370275e-01],\n",
              "       [ 2.24995799e+00],\n",
              "       [-3.22047527e-01],\n",
              "       [-7.25343701e-01],\n",
              "       [ 1.08414750e+00],\n",
              "       [ 2.21424613e+00],\n",
              "       [-1.49347717e+00],\n",
              "       [-9.45644637e-02],\n",
              "       [ 1.28523668e+00],\n",
              "       [ 2.07231324e-01],\n",
              "       [ 1.48811544e+00],\n",
              "       [-1.77627931e-01],\n",
              "       [-1.40237805e-02],\n",
              "       [-6.34840722e-01],\n",
              "       [ 8.24353950e-01],\n",
              "       [ 3.57656156e-01],\n",
              "       [ 2.23201058e-01],\n",
              "       [-8.23635331e-01],\n",
              "       [ 1.16661925e-01],\n",
              "       [-1.18815427e+00],\n",
              "       [-9.27831149e-01],\n",
              "       [-1.10239133e+00]])"
            ]
          },
          "metadata": {},
          "execution_count": 313
        }
      ]
    },
    {
      "cell_type": "code",
      "metadata": {
        "id": "jqbvfbwVr0TN"
      },
      "source": [
        "# mosaic_list_of_images =[]\n",
        "# mosaic_label = []\n",
        "train_label=[]\n",
        "fore_idx=[]\n",
        "train_data = []\n",
        "for j in range(train_size):\n",
        "  np.random.seed(j)\n",
        "  fg_instance = torch.zeros([2], dtype=torch.float64) #np.array([[0.0,0.0]])\n",
        "  bg_instance = torch.zeros([2], dtype=torch.float64) #np.array([[0.0,0.0]])\n",
        "  # a=[]\n",
        "\n",
        "  for i in range(m):\n",
        "    if i == fg_idx:\n",
        "      fg_class  = np.random.randint(0,3)\n",
        "      b = np.random.choice(np.where(idx[fg_class]==True)[0],size=1)\n",
        "      fg_instance += x[b]\n",
        "      # a.append(x[b])\n",
        "      # print(\"foreground \"+str(fg_class)+\" present at \" + str(fg_idx))\n",
        "    else:\n",
        "      bg_class = np.random.randint(3,10)\n",
        "      b = np.random.choice(np.where(idx[bg_class]==True)[0],size=1)\n",
        "      bg_instance += x[b]\n",
        "      # a.append(x[b])\n",
        "      # print(\"background \"+str(bg_class)+\" present at \" + str(i))\n",
        "  train_data.append((fg_instance+bg_instance)/m)\n",
        "  # a = np.concatenate(a,axis=0)\n",
        "  # mosaic_list_of_images.append(np.reshape(a,(2*m,1)))\n",
        "  train_label.append(fg_class)\n",
        "  fore_idx.append(fg_idx)"
      ],
      "execution_count": 314,
      "outputs": []
    },
    {
      "cell_type": "code",
      "metadata": {
        "colab": {
          "base_uri": "https://localhost:8080/"
        },
        "id": "X_g6lxkVjN0N",
        "outputId": "b14174e6-2200-46db-e131-a699df584dcd"
      },
      "source": [
        " train_data[0], train_label[0]"
      ],
      "execution_count": 315,
      "outputs": [
        {
          "output_type": "execute_result",
          "data": {
            "text/plain": [
              "(tensor([[-0.0706, -0.0625]], dtype=torch.float64), 0)"
            ]
          },
          "metadata": {},
          "execution_count": 315
        }
      ]
    },
    {
      "cell_type": "code",
      "metadata": {
        "colab": {
          "base_uri": "https://localhost:8080/"
        },
        "id": "Tz5wQCevobYr",
        "outputId": "c829df99-80a9-4a3d-db5b-6f59ae51fdaf"
      },
      "source": [
        "train_data = torch.stack(train_data, axis=0)\n",
        "train_data.shape, len(train_label)"
      ],
      "execution_count": 316,
      "outputs": [
        {
          "output_type": "execute_result",
          "data": {
            "text/plain": [
              "(torch.Size([500, 1, 2]), 500)"
            ]
          },
          "metadata": {},
          "execution_count": 316
        }
      ]
    },
    {
      "cell_type": "code",
      "metadata": {
        "id": "CVAlImGYA49A"
      },
      "source": [
        "test_label=[]\n",
        "# fore_idx=[]\n",
        "test_data = []\n",
        "for j in range(1000):\n",
        "  np.random.seed(j)\n",
        "  fg_instance = torch.zeros([2], dtype=torch.float64) #np.array([[0.0,0.0]])\n",
        "\n",
        "  fg_class  = np.random.randint(0,3)\n",
        "  b = np.random.choice(np.where(idx[fg_class]==True)[0],size=1)\n",
        "  fg_instance += x[b]\n",
        "  # a.append(x[b])\n",
        "  # print(\"foreground \"+str(fg_class)+\" present at \" + str(fg_idx))\n",
        "\n",
        "  test_data.append((fg_instance)/m)\n",
        "  # a = np.concatenate(a,axis=0)\n",
        "  # mosaic_list_of_images.append(np.reshape(a,(2*m,1)))\n",
        "  test_label.append(fg_class)\n",
        "  # fore_idx.append(fg_idx)"
      ],
      "execution_count": 317,
      "outputs": []
    },
    {
      "cell_type": "code",
      "metadata": {
        "colab": {
          "base_uri": "https://localhost:8080/"
        },
        "id": "XltBz3__BT_C",
        "outputId": "56a110e3-3033-4d21-fa8d-741d8bbb597d"
      },
      "source": [
        "test_data[0], test_label[0]"
      ],
      "execution_count": 318,
      "outputs": [
        {
          "output_type": "execute_result",
          "data": {
            "text/plain": [
              "(tensor([[0.1114, 0.0392]], dtype=torch.float64), 0)"
            ]
          },
          "metadata": {},
          "execution_count": 318
        }
      ]
    },
    {
      "cell_type": "code",
      "metadata": {
        "colab": {
          "base_uri": "https://localhost:8080/"
        },
        "id": "JqQfjkCnBX8E",
        "outputId": "fb400cbc-c236-48c2-c972-23f8949fb9c7"
      },
      "source": [
        "test_data = torch.stack(test_data, axis=0)\n",
        "test_data.shape, len(test_label)"
      ],
      "execution_count": 319,
      "outputs": [
        {
          "output_type": "execute_result",
          "data": {
            "text/plain": [
              "(torch.Size([1000, 1, 2]), 1000)"
            ]
          },
          "metadata": {},
          "execution_count": 319
        }
      ]
    },
    {
      "cell_type": "code",
      "metadata": {
        "id": "nQhRf1ICBvW6"
      },
      "source": [
        "x1 = (train_data).numpy()\n",
        "y1 = np.array(train_label)"
      ],
      "execution_count": 320,
      "outputs": []
    },
    {
      "cell_type": "code",
      "metadata": {
        "colab": {
          "base_uri": "https://localhost:8080/"
        },
        "id": "vDAz96DSCXn5",
        "outputId": "065f999f-9754-4a0c-a066-b0a2570d0ccc"
      },
      "source": [
        "x1[y1==0,0]"
      ],
      "execution_count": 321,
      "outputs": [
        {
          "output_type": "execute_result",
          "data": {
            "text/plain": [
              "array([[-7.06429387e-02, -6.24807223e-02],\n",
              "       [ 1.21624804e-01, -3.46658578e-02],\n",
              "       [ 1.33612046e-01,  1.29453168e-01],\n",
              "       [ 2.10664391e-01,  1.12221791e-01],\n",
              "       [ 1.56225700e-01,  2.48639811e-02],\n",
              "       [ 5.12583803e-02,  1.21680759e-01],\n",
              "       [ 9.99001525e-02, -3.88115626e-02],\n",
              "       [ 1.38428586e-01, -5.42106496e-02],\n",
              "       [ 1.79614267e-01,  1.79737132e-02],\n",
              "       [ 9.01326502e-02, -4.59290203e-02],\n",
              "       [-2.28219321e-02,  9.53061326e-02],\n",
              "       [ 1.00928843e-01,  1.51509322e-01],\n",
              "       [ 3.72564052e-01,  1.53689519e-01],\n",
              "       [ 1.87683012e-01, -2.29354556e-01],\n",
              "       [ 1.50545454e-01,  7.45047476e-02],\n",
              "       [ 1.85082259e-02,  2.09615838e-01],\n",
              "       [ 2.54777681e-01,  2.19435500e-01],\n",
              "       [ 1.13959217e-01,  5.78998517e-02],\n",
              "       [ 3.23319458e-01,  1.04840588e-01],\n",
              "       [ 8.28655582e-02,  8.54290389e-02],\n",
              "       [ 1.80872922e-01,  1.59427026e-01],\n",
              "       [ 1.41419817e-01, -4.67678300e-02],\n",
              "       [-1.14933577e-01,  1.14501117e-01],\n",
              "       [ 2.71089568e-01,  6.01211832e-02],\n",
              "       [ 1.54393747e-01,  1.10247328e-02],\n",
              "       [ 2.42745292e-01,  1.54232774e-01],\n",
              "       [ 1.30335470e-01,  6.04817768e-02],\n",
              "       [ 1.57419827e-01, -8.07344735e-02],\n",
              "       [ 1.47591262e-01, -5.30206711e-04],\n",
              "       [ 2.04570833e-01,  4.21297837e-02],\n",
              "       [ 1.14611263e-01, -1.90735748e-02],\n",
              "       [ 5.03603517e-02,  1.03015508e-01],\n",
              "       [ 1.30385847e-01,  5.75441649e-02],\n",
              "       [ 7.75236183e-02, -4.40143924e-02],\n",
              "       [ 3.50255890e-02,  1.46904141e-01],\n",
              "       [ 8.05695868e-02,  1.03665813e-01],\n",
              "       [ 2.51095620e-01,  1.94182637e-03],\n",
              "       [ 2.57570427e-01,  2.02815081e-01],\n",
              "       [ 1.32610363e-01,  3.08899140e-01],\n",
              "       [ 2.36095843e-02,  1.40680505e-01],\n",
              "       [ 6.63846177e-02,  7.70202945e-02],\n",
              "       [ 6.04229167e-02, -2.50543385e-02],\n",
              "       [ 2.75600098e-01,  8.91802925e-02],\n",
              "       [-8.34131984e-02,  3.24999281e-02],\n",
              "       [ 1.18224856e-02,  9.51582048e-02],\n",
              "       [ 2.79721874e-01,  1.56888145e-03],\n",
              "       [ 2.16709741e-01,  1.37403341e-02],\n",
              "       [ 2.70516803e-02,  7.60735094e-02],\n",
              "       [ 8.66882660e-02,  3.17517354e-02],\n",
              "       [-5.49095687e-02, -1.67240658e-01],\n",
              "       [ 1.76967411e-01,  4.43793535e-02],\n",
              "       [ 1.31628456e-01,  2.87891839e-02],\n",
              "       [ 6.52059493e-02,  2.51812592e-01],\n",
              "       [-7.81562163e-02, -2.92152456e-02],\n",
              "       [ 9.43122400e-02,  1.97255355e-02],\n",
              "       [-8.13190081e-02,  1.18261704e-02],\n",
              "       [ 4.78976830e-02, -6.43472010e-03],\n",
              "       [ 6.96944182e-03,  1.20147317e-01],\n",
              "       [ 3.39627922e-01, -3.03165525e-03],\n",
              "       [ 1.23980001e-01,  7.42379184e-02],\n",
              "       [ 1.91112552e-02,  5.13754971e-02],\n",
              "       [-3.83883516e-03, -1.09657336e-01],\n",
              "       [-2.26792771e-02,  1.11199908e-01],\n",
              "       [ 1.23808852e-01,  3.39440211e-02],\n",
              "       [-6.29047431e-03,  1.65789263e-01],\n",
              "       [ 2.03501876e-01,  2.89740771e-02],\n",
              "       [ 7.67684097e-02, -5.24242133e-02],\n",
              "       [ 2.59444512e-01, -1.04594077e-01],\n",
              "       [ 2.79292474e-01,  3.19042272e-02],\n",
              "       [ 1.21617469e-01,  5.65672663e-02],\n",
              "       [-4.14212976e-02,  1.33898642e-01],\n",
              "       [-4.34878755e-02,  2.44711124e-01],\n",
              "       [ 1.58401859e-01, -5.35988804e-02],\n",
              "       [ 2.87292293e-02, -8.28422862e-02],\n",
              "       [ 9.76805390e-02, -7.04912030e-03],\n",
              "       [ 8.97392206e-02,  1.68611286e-01],\n",
              "       [ 1.10045306e-01, -5.02444960e-02],\n",
              "       [ 2.39479913e-01, -1.85707908e-01],\n",
              "       [ 9.76003534e-02, -8.24928098e-03],\n",
              "       [ 2.84330303e-01,  6.86475136e-02],\n",
              "       [-5.10787471e-02,  3.94167741e-02],\n",
              "       [ 1.53370306e-01,  1.81523005e-01],\n",
              "       [ 1.84035497e-01,  9.75717429e-02],\n",
              "       [ 2.47107791e-01, -3.69454499e-02],\n",
              "       [ 5.03220890e-02,  1.81094874e-01],\n",
              "       [-1.16501439e-03,  1.36322946e-01],\n",
              "       [ 4.08454506e-02,  3.78866044e-03],\n",
              "       [ 1.23560758e-01,  2.12383455e-01],\n",
              "       [ 2.26897021e-01, -2.18952817e-02],\n",
              "       [ 9.88216944e-02,  2.02034960e-01],\n",
              "       [ 2.40275916e-01,  2.26816439e-01],\n",
              "       [ 1.76616519e-01, -6.16047340e-02],\n",
              "       [ 2.33548344e-01,  5.81080553e-02],\n",
              "       [ 5.95744586e-02, -1.01594548e-01],\n",
              "       [ 1.33508811e-01,  1.77370726e-01],\n",
              "       [ 2.54530829e-01,  8.83815634e-02],\n",
              "       [ 2.88655589e-01, -7.06725027e-02],\n",
              "       [ 1.67504983e-01, -1.51956561e-01],\n",
              "       [ 2.16909231e-01,  2.12397221e-01],\n",
              "       [ 1.41531641e-01, -7.16311590e-02],\n",
              "       [ 3.43135062e-02, -5.82795112e-02],\n",
              "       [ 1.07590386e-01,  3.90432907e-02],\n",
              "       [ 1.51571517e-02, -8.94052440e-02],\n",
              "       [ 6.73228980e-02,  8.75026975e-02],\n",
              "       [ 6.80634181e-02,  7.32509136e-02],\n",
              "       [-4.14566943e-02, -5.18026738e-02],\n",
              "       [ 6.74622946e-02, -1.61845758e-01],\n",
              "       [-1.41919561e-01, -1.06448290e-01],\n",
              "       [ 1.91061539e-01, -8.46313853e-03],\n",
              "       [ 2.13472458e-01,  1.27660590e-01],\n",
              "       [ 8.37325833e-02,  3.33805272e-02],\n",
              "       [ 8.01899243e-02, -1.22169479e-01],\n",
              "       [ 3.02851045e-02,  1.21444003e-01],\n",
              "       [ 3.18765083e-01,  9.57750546e-02],\n",
              "       [ 2.17427553e-01,  1.93290236e-02],\n",
              "       [ 4.25239495e-02,  7.00977967e-02],\n",
              "       [ 6.61416377e-02, -8.24787948e-02],\n",
              "       [ 1.59689427e-01,  2.23586262e-01],\n",
              "       [ 1.36165387e-01,  1.39213979e-02],\n",
              "       [ 9.62118479e-02, -1.32996564e-01],\n",
              "       [ 1.97355324e-01, -1.34512381e-01],\n",
              "       [ 2.19405992e-01,  9.55693146e-02],\n",
              "       [-3.43019850e-03, -4.09407049e-02],\n",
              "       [ 6.38709835e-02, -1.56747283e-02],\n",
              "       [ 3.86597202e-01,  4.99115892e-02],\n",
              "       [ 1.50304633e-01,  1.14042421e-01],\n",
              "       [ 2.40798763e-01,  8.18776532e-02],\n",
              "       [ 1.42711414e-01, -6.45326806e-02],\n",
              "       [ 1.49355452e-01,  6.06402884e-02],\n",
              "       [ 1.92346978e-01,  8.28044672e-03],\n",
              "       [ 2.03398546e-01, -2.69213948e-02],\n",
              "       [ 1.76705193e-01,  3.15208566e-02],\n",
              "       [ 1.88103066e-01,  1.00825700e-02],\n",
              "       [ 1.69878572e-01, -1.49246050e-01],\n",
              "       [ 1.10932990e-01, -6.09482553e-02],\n",
              "       [ 2.51381008e-01,  8.02787976e-02],\n",
              "       [ 1.92719759e-01,  6.50595034e-02],\n",
              "       [ 1.53803787e-01, -1.76892027e-04],\n",
              "       [ 2.54931239e-02,  1.82546576e-01],\n",
              "       [-1.87256532e-02, -5.35043349e-02],\n",
              "       [ 1.51660897e-01,  5.34922376e-03],\n",
              "       [ 4.73730751e-03,  4.83756195e-04],\n",
              "       [ 2.61336212e-02,  2.83976105e-02],\n",
              "       [ 5.24381515e-02,  5.52997605e-02],\n",
              "       [ 1.03710022e-01,  9.15713783e-02],\n",
              "       [ 1.69287195e-01, -4.34293039e-02],\n",
              "       [ 1.27867988e-01,  4.42908717e-02],\n",
              "       [ 8.91706371e-02,  6.56401960e-02],\n",
              "       [-2.41640998e-02, -1.04334750e-01],\n",
              "       [ 8.06097386e-02,  1.46108131e-01],\n",
              "       [ 2.24435211e-01,  3.33277543e-02],\n",
              "       [ 2.06595639e-01,  5.24868321e-02],\n",
              "       [ 6.48405978e-02, -5.09879044e-02],\n",
              "       [ 1.37306434e-01, -1.32982493e-01],\n",
              "       [ 5.89797078e-02,  1.55031218e-01],\n",
              "       [ 1.56832424e-01,  3.54487028e-02],\n",
              "       [ 1.75415879e-01,  2.34455457e-01],\n",
              "       [ 9.54380589e-02,  1.22594042e-01],\n",
              "       [ 1.54149873e-01,  7.30422109e-02],\n",
              "       [ 8.54288185e-02, -1.22845080e-01],\n",
              "       [ 4.98929653e-02,  8.66209408e-02],\n",
              "       [ 1.32464746e-01,  8.56016807e-02],\n",
              "       [ 1.64023015e-01,  2.55323151e-02],\n",
              "       [ 4.55487356e-02, -7.21492018e-02],\n",
              "       [ 1.51740666e-01,  7.71446423e-02],\n",
              "       [ 8.92024115e-02,  1.09606623e-01],\n",
              "       [-7.66874751e-02,  6.71028387e-02],\n",
              "       [ 1.97090776e-01, -3.86173616e-02]])"
            ]
          },
          "metadata": {},
          "execution_count": 321
        }
      ]
    },
    {
      "cell_type": "code",
      "metadata": {
        "colab": {
          "base_uri": "https://localhost:8080/"
        },
        "id": "kMwwZhv7Bv1U",
        "outputId": "bceccf60-5ed5-4033-b40a-d668644671d0"
      },
      "source": [
        "x1[y1==0,0][:,0]"
      ],
      "execution_count": 322,
      "outputs": [
        {
          "output_type": "execute_result",
          "data": {
            "text/plain": [
              "array([-0.07064294,  0.1216248 ,  0.13361205,  0.21066439,  0.1562257 ,\n",
              "        0.05125838,  0.09990015,  0.13842859,  0.17961427,  0.09013265,\n",
              "       -0.02282193,  0.10092884,  0.37256405,  0.18768301,  0.15054545,\n",
              "        0.01850823,  0.25477768,  0.11395922,  0.32331946,  0.08286556,\n",
              "        0.18087292,  0.14141982, -0.11493358,  0.27108957,  0.15439375,\n",
              "        0.24274529,  0.13033547,  0.15741983,  0.14759126,  0.20457083,\n",
              "        0.11461126,  0.05036035,  0.13038585,  0.07752362,  0.03502559,\n",
              "        0.08056959,  0.25109562,  0.25757043,  0.13261036,  0.02360958,\n",
              "        0.06638462,  0.06042292,  0.2756001 , -0.0834132 ,  0.01182249,\n",
              "        0.27972187,  0.21670974,  0.02705168,  0.08668827, -0.05490957,\n",
              "        0.17696741,  0.13162846,  0.06520595, -0.07815622,  0.09431224,\n",
              "       -0.08131901,  0.04789768,  0.00696944,  0.33962792,  0.12398   ,\n",
              "        0.01911126, -0.00383884, -0.02267928,  0.12380885, -0.00629047,\n",
              "        0.20350188,  0.07676841,  0.25944451,  0.27929247,  0.12161747,\n",
              "       -0.0414213 , -0.04348788,  0.15840186,  0.02872923,  0.09768054,\n",
              "        0.08973922,  0.11004531,  0.23947991,  0.09760035,  0.2843303 ,\n",
              "       -0.05107875,  0.15337031,  0.1840355 ,  0.24710779,  0.05032209,\n",
              "       -0.00116501,  0.04084545,  0.12356076,  0.22689702,  0.09882169,\n",
              "        0.24027592,  0.17661652,  0.23354834,  0.05957446,  0.13350881,\n",
              "        0.25453083,  0.28865559,  0.16750498,  0.21690923,  0.14153164,\n",
              "        0.03431351,  0.10759039,  0.01515715,  0.0673229 ,  0.06806342,\n",
              "       -0.04145669,  0.06746229, -0.14191956,  0.19106154,  0.21347246,\n",
              "        0.08373258,  0.08018992,  0.0302851 ,  0.31876508,  0.21742755,\n",
              "        0.04252395,  0.06614164,  0.15968943,  0.13616539,  0.09621185,\n",
              "        0.19735532,  0.21940599, -0.0034302 ,  0.06387098,  0.3865972 ,\n",
              "        0.15030463,  0.24079876,  0.14271141,  0.14935545,  0.19234698,\n",
              "        0.20339855,  0.17670519,  0.18810307,  0.16987857,  0.11093299,\n",
              "        0.25138101,  0.19271976,  0.15380379,  0.02549312, -0.01872565,\n",
              "        0.1516609 ,  0.00473731,  0.02613362,  0.05243815,  0.10371002,\n",
              "        0.1692872 ,  0.12786799,  0.08917064, -0.0241641 ,  0.08060974,\n",
              "        0.22443521,  0.20659564,  0.0648406 ,  0.13730643,  0.05897971,\n",
              "        0.15683242,  0.17541588,  0.09543806,  0.15414987,  0.08542882,\n",
              "        0.04989297,  0.13246475,  0.16402302,  0.04554874,  0.15174067,\n",
              "        0.08920241, -0.07668748,  0.19709078])"
            ]
          },
          "metadata": {},
          "execution_count": 322
        }
      ]
    },
    {
      "cell_type": "code",
      "metadata": {
        "colab": {
          "base_uri": "https://localhost:8080/"
        },
        "id": "ydbu3OV3CYxB",
        "outputId": "9b620fa3-eb90-4644-da4d-ef633a5e44c4"
      },
      "source": [
        "x1[y1==0,0][:,1]"
      ],
      "execution_count": 323,
      "outputs": [
        {
          "output_type": "execute_result",
          "data": {
            "text/plain": [
              "array([-6.24807223e-02, -3.46658578e-02,  1.29453168e-01,  1.12221791e-01,\n",
              "        2.48639811e-02,  1.21680759e-01, -3.88115626e-02, -5.42106496e-02,\n",
              "        1.79737132e-02, -4.59290203e-02,  9.53061326e-02,  1.51509322e-01,\n",
              "        1.53689519e-01, -2.29354556e-01,  7.45047476e-02,  2.09615838e-01,\n",
              "        2.19435500e-01,  5.78998517e-02,  1.04840588e-01,  8.54290389e-02,\n",
              "        1.59427026e-01, -4.67678300e-02,  1.14501117e-01,  6.01211832e-02,\n",
              "        1.10247328e-02,  1.54232774e-01,  6.04817768e-02, -8.07344735e-02,\n",
              "       -5.30206711e-04,  4.21297837e-02, -1.90735748e-02,  1.03015508e-01,\n",
              "        5.75441649e-02, -4.40143924e-02,  1.46904141e-01,  1.03665813e-01,\n",
              "        1.94182637e-03,  2.02815081e-01,  3.08899140e-01,  1.40680505e-01,\n",
              "        7.70202945e-02, -2.50543385e-02,  8.91802925e-02,  3.24999281e-02,\n",
              "        9.51582048e-02,  1.56888145e-03,  1.37403341e-02,  7.60735094e-02,\n",
              "        3.17517354e-02, -1.67240658e-01,  4.43793535e-02,  2.87891839e-02,\n",
              "        2.51812592e-01, -2.92152456e-02,  1.97255355e-02,  1.18261704e-02,\n",
              "       -6.43472010e-03,  1.20147317e-01, -3.03165525e-03,  7.42379184e-02,\n",
              "        5.13754971e-02, -1.09657336e-01,  1.11199908e-01,  3.39440211e-02,\n",
              "        1.65789263e-01,  2.89740771e-02, -5.24242133e-02, -1.04594077e-01,\n",
              "        3.19042272e-02,  5.65672663e-02,  1.33898642e-01,  2.44711124e-01,\n",
              "       -5.35988804e-02, -8.28422862e-02, -7.04912030e-03,  1.68611286e-01,\n",
              "       -5.02444960e-02, -1.85707908e-01, -8.24928098e-03,  6.86475136e-02,\n",
              "        3.94167741e-02,  1.81523005e-01,  9.75717429e-02, -3.69454499e-02,\n",
              "        1.81094874e-01,  1.36322946e-01,  3.78866044e-03,  2.12383455e-01,\n",
              "       -2.18952817e-02,  2.02034960e-01,  2.26816439e-01, -6.16047340e-02,\n",
              "        5.81080553e-02, -1.01594548e-01,  1.77370726e-01,  8.83815634e-02,\n",
              "       -7.06725027e-02, -1.51956561e-01,  2.12397221e-01, -7.16311590e-02,\n",
              "       -5.82795112e-02,  3.90432907e-02, -8.94052440e-02,  8.75026975e-02,\n",
              "        7.32509136e-02, -5.18026738e-02, -1.61845758e-01, -1.06448290e-01,\n",
              "       -8.46313853e-03,  1.27660590e-01,  3.33805272e-02, -1.22169479e-01,\n",
              "        1.21444003e-01,  9.57750546e-02,  1.93290236e-02,  7.00977967e-02,\n",
              "       -8.24787948e-02,  2.23586262e-01,  1.39213979e-02, -1.32996564e-01,\n",
              "       -1.34512381e-01,  9.55693146e-02, -4.09407049e-02, -1.56747283e-02,\n",
              "        4.99115892e-02,  1.14042421e-01,  8.18776532e-02, -6.45326806e-02,\n",
              "        6.06402884e-02,  8.28044672e-03, -2.69213948e-02,  3.15208566e-02,\n",
              "        1.00825700e-02, -1.49246050e-01, -6.09482553e-02,  8.02787976e-02,\n",
              "        6.50595034e-02, -1.76892027e-04,  1.82546576e-01, -5.35043349e-02,\n",
              "        5.34922376e-03,  4.83756195e-04,  2.83976105e-02,  5.52997605e-02,\n",
              "        9.15713783e-02, -4.34293039e-02,  4.42908717e-02,  6.56401960e-02,\n",
              "       -1.04334750e-01,  1.46108131e-01,  3.33277543e-02,  5.24868321e-02,\n",
              "       -5.09879044e-02, -1.32982493e-01,  1.55031218e-01,  3.54487028e-02,\n",
              "        2.34455457e-01,  1.22594042e-01,  7.30422109e-02, -1.22845080e-01,\n",
              "        8.66209408e-02,  8.56016807e-02,  2.55323151e-02, -7.21492018e-02,\n",
              "        7.71446423e-02,  1.09606623e-01,  6.71028387e-02, -3.86173616e-02])"
            ]
          },
          "metadata": {},
          "execution_count": 323
        }
      ]
    },
    {
      "cell_type": "code",
      "metadata": {
        "colab": {
          "base_uri": "https://localhost:8080/",
          "height": 299
        },
        "id": "bT9-kEI7NAnR",
        "outputId": "a8d62812-a1a8-4b19-bda4-32e818e0820d"
      },
      "source": [
        "x1 = (train_data).numpy()\n",
        "y1 = np.array(train_label)\n",
        "\n",
        "plt.scatter(x1[y1==0,0][:,0], x1[y1==0,0][:,1], label='class 0')\n",
        "plt.scatter(x1[y1==1,0][:,0], x1[y1==1,0][:,1], label='class 1')\n",
        "plt.scatter(x1[y1==2,0][:,0], x1[y1==2,0][:,1], label='class 2')\n",
        "plt.legend()\n",
        "plt.title(\"dataset4 CIN with alpha = 1/\"+str(m))"
      ],
      "execution_count": 324,
      "outputs": [
        {
          "output_type": "execute_result",
          "data": {
            "text/plain": [
              "Text(0.5, 1.0, 'dataset4 CIN with alpha = 1/100')"
            ]
          },
          "metadata": {},
          "execution_count": 324
        },
        {
          "output_type": "display_data",
          "data": {
            "image/png": "[encoded data removed]",
            "text/plain": [
              "<Figure size 432x288 with 1 Axes>"
            ]
          },
          "metadata": {
            "needs_background": "light"
          }
        }
      ]
    },
    {
      "cell_type": "code",
      "metadata": {
        "colab": {
          "base_uri": "https://localhost:8080/",
          "height": 299
        },
        "id": "Sc8W2N7LQQ_l",
        "outputId": "20bc37fe-79c0-49d3-9dbc-a6f5254bd359"
      },
      "source": [
        "x1 = (test_data).numpy()\n",
        "y1 = np.array(test_label)\n",
        "\n",
        "plt.scatter(x1[y1==0,0][:,0], x1[y1==0,0][:,1], label='class 0')\n",
        "plt.scatter(x1[y1==1,0][:,0], x1[y1==1,0][:,1], label='class 1')\n",
        "plt.scatter(x1[y1==2,0][:,0], x1[y1==2,0][:,1], label='class 2')\n",
        "plt.legend()\n",
        "plt.title(\"test dataset4\")"
      ],
      "execution_count": 325,
      "outputs": [
        {
          "output_type": "execute_result",
          "data": {
            "text/plain": [
              "Text(0.5, 1.0, 'test dataset4')"
            ]
          },
          "metadata": {},
          "execution_count": 325
        },
        {
          "output_type": "display_data",
          "data": {
            "image/png": "[encoded data removed]",
            "text/plain": [
              "<Figure size 432x288 with 1 Axes>"
            ]
          },
          "metadata": {
            "needs_background": "light"
          }
        }
      ]
    },
    {
      "cell_type": "code",
      "metadata": {
        "id": "yL0BRf8er0TX"
      },
      "source": [
        "class MosaicDataset(Dataset):\n",
        "  \"\"\"MosaicDataset dataset.\"\"\"\n",
        "\n",
        "  def __init__(self, mosaic_list_of_images, mosaic_label):\n",
        "    \"\"\"\n",
        "      Args:\n",
        "        csv_file (string): Path to the csv file with annotations.\n",
        "        root_dir (string): Directory with all the images.\n",
        "        transform (callable, optional): Optional transform to be applied\n",
        "            on a sample.\n",
        "    \"\"\"\n",
        "    self.mosaic = mosaic_list_of_images\n",
        "    self.label = mosaic_label\n",
        "    #self.fore_idx = fore_idx\n",
        "    \n",
        "  def __len__(self):\n",
        "    return len(self.label)\n",
        "\n",
        "  def __getitem__(self, idx):\n",
        "    return self.mosaic[idx] , self.label[idx] #, self.fore_idx[idx]\n",
        "\n"
      ],
      "execution_count": 326,
      "outputs": []
    },
    {
      "cell_type": "code",
      "metadata": {
        "colab": {
          "base_uri": "https://localhost:8080/"
        },
        "id": "4KsrW9qL9xgS",
        "outputId": "4c5df7b4-a853-47ab-bbb3-ebfb1de6862c"
      },
      "source": [
        "train_data[0].shape, train_data[0]"
      ],
      "execution_count": 327,
      "outputs": [
        {
          "output_type": "execute_result",
          "data": {
            "text/plain": [
              "(torch.Size([1, 2]), tensor([[-0.0706, -0.0625]], dtype=torch.float64))"
            ]
          },
          "metadata": {},
          "execution_count": 327
        }
      ]
    },
    {
      "cell_type": "code",
      "metadata": {
        "id": "EY2l62APygaV"
      },
      "source": [
        "batch = 200\n",
        "\n",
        "traindata_1 = MosaicDataset(train_data, train_label )\n",
        "trainloader_1 = DataLoader( traindata_1 , batch_size= batch ,shuffle=True)\n"
      ],
      "execution_count": 328,
      "outputs": []
    },
    {
      "cell_type": "code",
      "metadata": {
        "id": "9suUslCj8YZK"
      },
      "source": [
        "testdata_1 = MosaicDataset(test_data, test_label )\n",
        "testloader_1 = DataLoader( testdata_1 , batch_size= batch ,shuffle=False)\n"
      ],
      "execution_count": 329,
      "outputs": []
    },
    {
      "cell_type": "code",
      "metadata": {
        "id": "Nh3mBQHZ8bEj"
      },
      "source": [
        "# testdata_11 = MosaicDataset(test_dataset, labels )\n",
        "# testloader_11 = DataLoader( testdata_11 , batch_size= batch ,shuffle=False)"
      ],
      "execution_count": 330,
      "outputs": []
    },
    {
      "cell_type": "code",
      "metadata": {
        "id": "5_XeIUk0r0Tl"
      },
      "source": [
        "class Whatnet(nn.Module):\n",
        "    def __init__(self):\n",
        "        super(Whatnet,self).__init__()\n",
        "        self.linear1 = nn.Linear(2,50)\n",
        "        self.linear2 = nn.Linear(50,3)\n",
        "\n",
        "        torch.nn.init.xavier_normal_(self.linear1.weight)\n",
        "        torch.nn.init.zeros_(self.linear1.bias)\n",
        "        torch.nn.init.xavier_normal_(self.linear2.weight)\n",
        "        torch.nn.init.zeros_(self.linear2.bias)\n",
        "\n",
        "    def forward(self,x):\n",
        "        x = F.relu(self.linear1(x))\n",
        "        x = (self.linear2(x))\n",
        "\n",
        "        return x[:,0]"
      ],
      "execution_count": 331,
      "outputs": []
    },
    {
      "cell_type": "code",
      "metadata": {
        "id": "pjD2VZuV9Ed4"
      },
      "source": [
        "def calculate_loss(dataloader,model,criter):\n",
        "  model.eval()\n",
        "  r_loss = 0\n",
        "  with torch.no_grad():\n",
        "    for i, data in enumerate(dataloader, 0):\n",
        "      inputs, labels = data\n",
        "      inputs, labels = inputs.to(\"cuda\"),labels.to(\"cuda\")\n",
        "      outputs = model(inputs)\n",
        "      # print(outputs.shape)\n",
        "      loss = criter(outputs, labels)\n",
        "      r_loss += loss.item()\n",
        "  return r_loss/(i+1)"
      ],
      "execution_count": 332,
      "outputs": []
    },
    {
      "cell_type": "code",
      "metadata": {
        "id": "uALi25pmzQHV"
      },
      "source": [
        "def test_all(number, testloader,net):\n",
        "    correct = 0\n",
        "    total = 0\n",
        "    out = []\n",
        "    pred = []\n",
        "    with torch.no_grad():\n",
        "        for data in testloader:\n",
        "            images, labels = data\n",
        "            images, labels = images.to(\"cuda\"),labels.to(\"cuda\")\n",
        "            out.append(labels.cpu().numpy())\n",
        "            outputs= net(images)\n",
        "            _, predicted = torch.max(outputs.data, 1)\n",
        "            pred.append(predicted.cpu().numpy())\n",
        "            total += labels.size(0)\n",
        "            correct += (predicted == labels).sum().item()\n",
        "    \n",
        "    pred = np.concatenate(pred, axis = 0)\n",
        "    out = np.concatenate(out, axis = 0)\n",
        "    print(\"unique out: \",  np.unique(out), \"unique pred: \", np.unique(pred) )\n",
        "    print(\"correct: \", correct, \"total \",  total)\n",
        "    print('Accuracy of the network on the %d test dataset %d: %.2f %%' % (total, number , 100 * correct / total))"
      ],
      "execution_count": 333,
      "outputs": []
    },
    {
      "cell_type": "code",
      "metadata": {
        "id": "4vmNprlPzTjP"
      },
      "source": [
        "def train_all(trainloader, ds_number, testloader_list, lr_list):\n",
        "  \n",
        "  final_loss = []\n",
        "  for LR in lr_list:    \n",
        "    print(\"--\"*20, \"Learning Rate used is\", LR)\n",
        "    \n",
        "    torch.manual_seed(12)\n",
        "    net = Whatnet().double()\n",
        "    net = net.to(\"cuda\")\n",
        "    \n",
        "    criterion_net = nn.CrossEntropyLoss()\n",
        "    optimizer_net = optim.Adam(net.parameters(), lr=0.001 ) #, momentum=0.9)\n",
        "    \n",
        "    acti = []\n",
        "    loss_curi = []\n",
        "    epochs = 1000\n",
        "    running_loss = calculate_loss(trainloader,net,criterion_net)\n",
        "    loss_curi.append(running_loss)\n",
        "    print('epoch: [%d ] loss: %.3f' %(0,running_loss)) \n",
        "    for epoch in range(epochs): # loop over the dataset multiple times\n",
        "        ep_lossi = []\n",
        "\n",
        "        running_loss = 0.0\n",
        "        net.train()\n",
        "        for i, data in enumerate(trainloader, 0):\n",
        "            # get the inputs\n",
        "            inputs, labels = data\n",
        "            inputs, labels = inputs.to(\"cuda\"),labels.to(\"cuda\")\n",
        "\n",
        "            # zero the parameter gradients\n",
        "            optimizer_net.zero_grad()\n",
        "\n",
        "            # forward + backward + optimize\n",
        "            outputs = net(inputs)\n",
        "            # print(outputs.shape)\n",
        "            loss = criterion_net(outputs, labels)\n",
        "            # print statistics\n",
        "            running_loss += loss.item()\n",
        "            loss.backward()\n",
        "            optimizer_net.step()\n",
        "\n",
        "        running_loss = calculate_loss(trainloader,net,criterion_net)\n",
        "        if(epoch%200 == 0):\n",
        "          print('epoch: [%d] loss: %.3f' %(epoch + 1,running_loss)) \n",
        "        loss_curi.append(running_loss)   #loss per epoch\n",
        "        if running_loss<=0.05:\n",
        "          print('epoch: [%d] loss: %.3f' %(epoch + 1,running_loss))\n",
        "          break\n",
        "\n",
        "    print('Finished Training')\n",
        "    \n",
        "    correct = 0\n",
        "    total = 0\n",
        "    with torch.no_grad():\n",
        "        for data in trainloader:\n",
        "            images, labels = data\n",
        "            images, labels = images.to(\"cuda\"), labels.to(\"cuda\")\n",
        "            outputs = net(images)\n",
        "            _, predicted = torch.max(outputs.data, 1)\n",
        "            total += labels.size(0)\n",
        "            correct += (predicted == labels).sum().item()\n",
        "\n",
        "    print('Accuracy of the network on the %d train images: %.2f %%' % (total,  100 * correct / total))\n",
        "    \n",
        "    for i, j in enumerate(testloader_list):\n",
        "        test_all(i+1, j,net)\n",
        "    \n",
        "    print(\"--\"*40)\n",
        "    \n",
        "    final_loss.append(loss_curi) \n",
        "  return final_loss\n",
        "    "
      ],
      "execution_count": 334,
      "outputs": []
    },
    {
      "cell_type": "code",
      "metadata": {
        "id": "Yl41sE8vFERk"
      },
      "source": [
        "train_loss_all=[]\n",
        "\n",
        "testloader_list= [ testloader_1]\n",
        "lr_list = [0.0001, 0.0005, 0.001, 0.005, 0.01, 0.05, 0.1, 0.5 ]"
      ],
      "execution_count": 335,
      "outputs": []
    },
    {
      "cell_type": "code",
      "metadata": {
        "colab": {
          "base_uri": "https://localhost:8080/"
        },
        "id": "5gQoPST5zW2t",
        "outputId": "80d83c90-eeba-4b71-d3bf-0554ee9cde18"
      },
      "source": [
        "fin_loss = train_all(trainloader_1, 1, testloader_list, lr_list)\n",
        "train_loss_all.append(fin_loss)"
      ],
      "execution_count": 336,
      "outputs": [
        {
          "output_type": "stream",
          "name": "stdout",
          "text": [
            "---------------------------------------- Learning Rate used is 0.0001\n",
            "epoch: [0 ] loss: 1.097\n",
            "epoch: [1] loss: 1.096\n",
            "epoch: [201] loss: 1.067\n",
            "epoch: [401] loss: 1.065\n",
            "epoch: [601] loss: 1.062\n",
            "epoch: [801] loss: 1.063\n",
            "Finished Training\n",
            "Accuracy of the network on the 500 train images: 42.00 %\n",
            "unique out:  [0 1 2] unique pred:  [0 2]\n",
            "correct:  420 total  1000\n",
            "Accuracy of the network on the 1000 test dataset 1: 42.00 %\n",
            "--------------------------------------------------------------------------------\n",
            "---------------------------------------- Learning Rate used is 0.0005\n",
            "epoch: [0 ] loss: 1.097\n",
            "epoch: [1] loss: 1.096\n",
            "epoch: [201] loss: 1.067\n",
            "epoch: [401] loss: 1.065\n",
            "epoch: [601] loss: 1.062\n",
            "epoch: [801] loss: 1.063\n",
            "Finished Training\n",
            "Accuracy of the network on the 500 train images: 42.00 %\n",
            "unique out:  [0 1 2] unique pred:  [0 2]\n",
            "correct:  420 total  1000\n",
            "Accuracy of the network on the 1000 test dataset 1: 42.00 %\n",
            "--------------------------------------------------------------------------------\n",
            "---------------------------------------- Learning Rate used is 0.001\n",
            "epoch: [0 ] loss: 1.097\n",
            "epoch: [1] loss: 1.096\n",
            "epoch: [201] loss: 1.067\n",
            "epoch: [401] loss: 1.065\n",
            "epoch: [601] loss: 1.062\n",
            "epoch: [801] loss: 1.063\n",
            "Finished Training\n",
            "Accuracy of the network on the 500 train images: 42.00 %\n",
            "unique out:  [0 1 2] unique pred:  [0 2]\n",
            "correct:  420 total  1000\n",
            "Accuracy of the network on the 1000 test dataset 1: 42.00 %\n",
            "--------------------------------------------------------------------------------\n",
            "---------------------------------------- Learning Rate used is 0.005\n",
            "epoch: [0 ] loss: 1.097\n",
            "epoch: [1] loss: 1.096\n",
            "epoch: [201] loss: 1.067\n",
            "epoch: [401] loss: 1.065\n",
            "epoch: [601] loss: 1.062\n",
            "epoch: [801] loss: 1.063\n",
            "Finished Training\n",
            "Accuracy of the network on the 500 train images: 42.00 %\n",
            "unique out:  [0 1 2] unique pred:  [0 2]\n",
            "correct:  420 total  1000\n",
            "Accuracy of the network on the 1000 test dataset 1: 42.00 %\n",
            "--------------------------------------------------------------------------------\n",
            "---------------------------------------- Learning Rate used is 0.01\n",
            "epoch: [0 ] loss: 1.097\n",
            "epoch: [1] loss: 1.096\n",
            "epoch: [201] loss: 1.067\n",
            "epoch: [401] loss: 1.065\n",
            "epoch: [601] loss: 1.062\n",
            "epoch: [801] loss: 1.063\n",
            "Finished Training\n",
            "Accuracy of the network on the 500 train images: 42.00 %\n",
            "unique out:  [0 1 2] unique pred:  [0 2]\n",
            "correct:  420 total  1000\n",
            "Accuracy of the network on the 1000 test dataset 1: 42.00 %\n",
            "--------------------------------------------------------------------------------\n",
            "---------------------------------------- Learning Rate used is 0.05\n",
            "epoch: [0 ] loss: 1.097\n",
            "epoch: [1] loss: 1.096\n",
            "epoch: [201] loss: 1.067\n",
            "epoch: [401] loss: 1.065\n",
            "epoch: [601] loss: 1.062\n",
            "epoch: [801] loss: 1.063\n",
            "Finished Training\n",
            "Accuracy of the network on the 500 train images: 42.00 %\n",
            "unique out:  [0 1 2] unique pred:  [0 2]\n",
            "correct:  420 total  1000\n",
            "Accuracy of the network on the 1000 test dataset 1: 42.00 %\n",
            "--------------------------------------------------------------------------------\n",
            "---------------------------------------- Learning Rate used is 0.1\n",
            "epoch: [0 ] loss: 1.097\n",
            "epoch: [1] loss: 1.096\n",
            "epoch: [201] loss: 1.067\n",
            "epoch: [401] loss: 1.065\n",
            "epoch: [601] loss: 1.062\n",
            "epoch: [801] loss: 1.063\n",
            "Finished Training\n",
            "Accuracy of the network on the 500 train images: 42.00 %\n",
            "unique out:  [0 1 2] unique pred:  [0 2]\n",
            "correct:  420 total  1000\n",
            "Accuracy of the network on the 1000 test dataset 1: 42.00 %\n",
            "--------------------------------------------------------------------------------\n",
            "---------------------------------------- Learning Rate used is 0.5\n",
            "epoch: [0 ] loss: 1.097\n",
            "epoch: [1] loss: 1.096\n",
            "epoch: [201] loss: 1.067\n",
            "epoch: [401] loss: 1.065\n",
            "epoch: [601] loss: 1.062\n",
            "epoch: [801] loss: 1.063\n",
            "Finished Training\n",
            "Accuracy of the network on the 500 train images: 42.00 %\n",
            "unique out:  [0 1 2] unique pred:  [0 2]\n",
            "correct:  420 total  1000\n",
            "Accuracy of the network on the 1000 test dataset 1: 42.00 %\n",
            "--------------------------------------------------------------------------------\n"
          ]
        }
      ]
    },
    {
      "cell_type": "code",
      "metadata": {
        "id": "In76SYH_zZHV"
      },
      "source": [
        "%matplotlib inline"
      ],
      "execution_count": 337,
      "outputs": []
    },
    {
      "cell_type": "code",
      "metadata": {
        "colab": {
          "base_uri": "https://localhost:8080/"
        },
        "id": "_GsE3qHR_A5c",
        "outputId": "86b3d216-b3b3-444a-f5d8-c04f7dd1f850"
      },
      "source": [
        "len(fin_loss)"
      ],
      "execution_count": 338,
      "outputs": [
        {
          "output_type": "execute_result",
          "data": {
            "text/plain": [
              "8"
            ]
          },
          "metadata": {},
          "execution_count": 338
        }
      ]
    },
    {
      "cell_type": "code",
      "metadata": {
        "id": "BS4HtOHEzZ0E",
        "colab": {
          "base_uri": "https://localhost:8080/",
          "height": 297
        },
        "outputId": "b8a188a2-eb07-4ed0-963b-b4fa91d96cfb"
      },
      "source": [
        "for i,j in enumerate(fin_loss):\n",
        "    plt.plot(j,label =\"LR = \"+str(lr_list[i]))\n",
        "    \n",
        "\n",
        "plt.xlabel(\"Epochs\")\n",
        "plt.ylabel(\"Training_loss\")\n",
        "\n",
        "plt.legend(loc='center left', bbox_to_anchor=(1, 0.5))"
      ],
      "execution_count": 339,
      "outputs": [
        {
          "output_type": "execute_result",
          "data": {
            "text/plain": [
              "<matplotlib.legend.Legend at 0x7fab060e7890>"
            ]
          },
          "metadata": {},
          "execution_count": 339
        },
        {
          "output_type": "display_data",
          "data": {
            "image/png": "[encoded data removed]",
            "text/plain": [
              "<Figure size 432x288 with 1 Axes>"
            ]
          },
          "metadata": {
            "needs_background": "light"
          }
        }
      ]
    },
    {
      "cell_type": "code",
      "metadata": {
        "id": "1UbTkfLUINTI"
      },
      "source": [
        ""
      ],
      "execution_count": 339,
      "outputs": []
    }
  ]
}