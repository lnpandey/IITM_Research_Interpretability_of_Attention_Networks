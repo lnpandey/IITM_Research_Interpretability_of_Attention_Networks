{
  "nbformat": 4,
  "nbformat_minor": 0,
  "metadata": {
    "accelerator": "GPU",
    "colab": {
      "name": "ds3_MLP_m_5_size500_run2.ipynb",
      "provenance": [],
      "collapsed_sections": []
    },
    "kernelspec": {
      "display_name": "Python 3",
      "language": "python",
      "name": "python3"
    },
    "language_info": {
      "codemirror_mode": {
        "name": "ipython",
        "version": 3
      },
      "file_extension": ".py",
      "mimetype": "text/x-python",
      "name": "python",
      "nbconvert_exporter": "python",
      "pygments_lexer": "ipython3",
      "version": "3.6.5"
    }
  },
  "cells": [
    {
      "cell_type": "code",
      "metadata": {
        "colab": {
          "base_uri": "https://localhost:8080/"
        },
        "id": "N2_J4Rw2r0SQ",
        "outputId": "d95d6cd8-b615-4db4-a6a8-7cc714189756"
      },
      "source": [
        "import numpy as np\n",
        "import pandas as pd\n",
        "from matplotlib import pyplot as plt\n",
        "from tqdm import tqdm\n",
        "%matplotlib inline\n",
        "from torch.utils.data import Dataset, DataLoader\n",
        "import torch\n",
        "import torchvision\n",
        "\n",
        "import torch.nn as nn\n",
        "import torch.optim as optim\n",
        "from torch.nn import functional as F\n",
        "device = torch.device(\"cuda\" if torch.cuda.is_available() else \"cpu\")\n",
        "print(device)"
      ],
      "execution_count": 49,
      "outputs": [
        {
          "output_type": "stream",
          "name": "stdout",
          "text": [
            "cuda\n"
          ]
        }
      ]
    },
    {
      "cell_type": "code",
      "metadata": {
        "id": "ZTJPyL45DiJ3"
      },
      "source": [
        "m = 5           # 5, 50, 100, 500, 2000"
      ],
      "execution_count": 50,
      "outputs": []
    },
    {
      "cell_type": "code",
      "metadata": {
        "id": "g-do5dZWK5L6"
      },
      "source": [
        "train_size = 500          # 100, 500, 2000, 10000"
      ],
      "execution_count": 51,
      "outputs": []
    },
    {
      "cell_type": "markdown",
      "metadata": {
        "id": "F6fjud_Fr0Sa"
      },
      "source": [
        "# Generate dataset"
      ]
    },
    {
      "cell_type": "code",
      "metadata": {
        "colab": {
          "base_uri": "https://localhost:8080/"
        },
        "id": "CqdXHO0Cr0Sd",
        "outputId": "44b1bbdf-3758-4c8e-879f-15063734ae14"
      },
      "source": [
        "np.random.seed(12)\n",
        "y = np.random.randint(0,10,5000)\n",
        "idx= []\n",
        "for i in range(10):\n",
        "    print(i,sum(y==i))\n",
        "    idx.append(y==i)"
      ],
      "execution_count": 52,
      "outputs": [
        {
          "output_type": "stream",
          "name": "stdout",
          "text": [
            "0 530\n",
            "1 463\n",
            "2 494\n",
            "3 517\n",
            "4 488\n",
            "5 497\n",
            "6 493\n",
            "7 507\n",
            "8 492\n",
            "9 519\n"
          ]
        }
      ]
    },
    {
      "cell_type": "code",
      "metadata": {
        "id": "ddhXyODwr0Sk"
      },
      "source": [
        "x = np.zeros((5000,2))"
      ],
      "execution_count": 53,
      "outputs": []
    },
    {
      "cell_type": "code",
      "metadata": {
        "id": "DyV3N2DIr0Sp"
      },
      "source": [
        "np.random.seed(12)\n",
        "x[idx[0],:] = np.random.multivariate_normal(mean = [5,5],cov=[[0.1,0],[0,0.1]],size=sum(idx[0]))\n",
        "x[idx[1],:] = np.random.multivariate_normal(mean = [6,6],cov=[[0.1,0],[0,0.1]],size=sum(idx[1]))\n",
        "x[idx[2],:] = np.random.multivariate_normal(mean = [5.5,6.5],cov=[[0.1,0],[0,0.1]],size=sum(idx[2]))\n",
        "x[idx[3],:] = np.random.multivariate_normal(mean = [-1,0],cov=[[0.1,0],[0,0.1]],size=sum(idx[3]))\n",
        "x[idx[4],:] = np.random.multivariate_normal(mean = [0,2],cov=[[0.1,0],[0,0.1]],size=sum(idx[4]))\n",
        "x[idx[5],:] = np.random.multivariate_normal(mean = [1,0],cov=[[0.1,0],[0,0.1]],size=sum(idx[5]))\n",
        "x[idx[6],:] = np.random.multivariate_normal(mean = [0,-1],cov=[[0.1,0],[0,0.1]],size=sum(idx[6]))\n",
        "x[idx[7],:] = np.random.multivariate_normal(mean = [0,0],cov=[[0.1,0],[0,0.1]],size=sum(idx[7]))\n",
        "x[idx[8],:] = np.random.multivariate_normal(mean = [-0.5,-0.5],cov=[[0.1,0],[0,0.1]],size=sum(idx[8]))\n",
        "x[idx[9],:] = np.random.multivariate_normal(mean = [0.4,0.2],cov=[[0.1,0],[0,0.1]],size=sum(idx[9]))"
      ],
      "execution_count": 54,
      "outputs": []
    },
    {
      "cell_type": "code",
      "metadata": {
        "colab": {
          "base_uri": "https://localhost:8080/"
        },
        "id": "qh1mDScsU07I",
        "outputId": "ee90a524-a292-4b34-a9f5-1a6b612938c9"
      },
      "source": [
        "x[idx[0]][0], x[idx[5]][5] "
      ],
      "execution_count": 55,
      "outputs": [
        {
          "output_type": "execute_result",
          "data": {
            "text/plain": [
              "(array([5.14957125, 4.78451422]), array([0.87756167, 0.00457805]))"
            ]
          },
          "metadata": {},
          "execution_count": 55
        }
      ]
    },
    {
      "cell_type": "code",
      "metadata": {
        "colab": {
          "base_uri": "https://localhost:8080/",
          "height": 284
        },
        "id": "hJ8Jm7YUr0St",
        "outputId": "7baeae86-f3cf-4b7b-e2fc-3093bc427d37"
      },
      "source": [
        "for i in range(10):\n",
        "    plt.scatter(x[idx[i],0],x[idx[i],1],label=\"class_\"+str(i))\n",
        "plt.legend(loc='center left', bbox_to_anchor=(1, 0.5))"
      ],
      "execution_count": 56,
      "outputs": [
        {
          "output_type": "execute_result",
          "data": {
            "text/plain": [
              "<matplotlib.legend.Legend at 0x7f325af41a90>"
            ]
          },
          "metadata": {},
          "execution_count": 56
        },
        {
          "output_type": "display_data",
          "data": {
            "image/png": "[encoded data removed]",
            "text/plain": [
              "<Figure size 432x288 with 1 Axes>"
            ]
          },
          "metadata": {
            "needs_background": "light"
          }
        }
      ]
    },
    {
      "cell_type": "code",
      "metadata": {
        "colab": {
          "base_uri": "https://localhost:8080/"
        },
        "id": "3lMBZEHNBlF2",
        "outputId": "df2e991d-824a-4095-874a-e472fc601d48"
      },
      "source": [
        "bg_idx = [ np.where(idx[3] == True)[0], \n",
        "          np.where(idx[4] == True)[0], \n",
        "          np.where(idx[5] == True)[0],\n",
        "          np.where(idx[6] == True)[0], \n",
        "          np.where(idx[7] == True)[0], \n",
        "          np.where(idx[8] == True)[0],\n",
        "          np.where(idx[9] == True)[0]]\n",
        "\n",
        "bg_idx = np.concatenate(bg_idx, axis = 0)\n",
        "bg_idx.shape"
      ],
      "execution_count": 57,
      "outputs": [
        {
          "output_type": "execute_result",
          "data": {
            "text/plain": [
              "(3513,)"
            ]
          },
          "metadata": {},
          "execution_count": 57
        }
      ]
    },
    {
      "cell_type": "code",
      "metadata": {
        "colab": {
          "base_uri": "https://localhost:8080/"
        },
        "id": "blRbGZHeCwXU",
        "outputId": "b86b0dbb-431d-4e4f-a2b6-a42cd70db034"
      },
      "source": [
        "np.unique(bg_idx).shape"
      ],
      "execution_count": 58,
      "outputs": [
        {
          "output_type": "execute_result",
          "data": {
            "text/plain": [
              "(3513,)"
            ]
          },
          "metadata": {},
          "execution_count": 58
        }
      ]
    },
    {
      "cell_type": "code",
      "metadata": {
        "id": "Y43sWeX7C15F"
      },
      "source": [
        "x = x - np.mean(x[bg_idx], axis = 0, keepdims = True)\n"
      ],
      "execution_count": 59,
      "outputs": []
    },
    {
      "cell_type": "code",
      "metadata": {
        "colab": {
          "base_uri": "https://localhost:8080/"
        },
        "id": "ooII7N6UDWe0",
        "outputId": "76d041d9-ca1c-4b09-ac0c-23443b2a83c1"
      },
      "source": [
        "np.mean(x[bg_idx], axis = 0, keepdims = True), np.mean(x, axis = 0, keepdims = True)"
      ],
      "execution_count": 60,
      "outputs": [
        {
          "output_type": "execute_result",
          "data": {
            "text/plain": [
              "(array([[-1.04275003e-16,  6.74571889e-17]]),\n",
              " array([[1.63261967, 1.69552644]]))"
            ]
          },
          "metadata": {},
          "execution_count": 60
        }
      ]
    },
    {
      "cell_type": "code",
      "metadata": {
        "id": "g21bvPRYDL9k"
      },
      "source": [
        "x = x/np.std(x[bg_idx], axis = 0, keepdims = True)"
      ],
      "execution_count": 61,
      "outputs": []
    },
    {
      "cell_type": "code",
      "metadata": {
        "colab": {
          "base_uri": "https://localhost:8080/"
        },
        "id": "GtFvIeHsDZJk",
        "outputId": "f5b7648e-d5d7-4b4b-ee85-607bb11398a9"
      },
      "source": [
        "np.std(x[bg_idx], axis = 0, keepdims = True), np.std(x, axis = 0, keepdims = True)"
      ],
      "execution_count": 62,
      "outputs": [
        {
          "output_type": "execute_result",
          "data": {
            "text/plain": [
              "(array([[1., 1.]]), array([[3.93071885, 3.03840862]]))"
            ]
          },
          "metadata": {},
          "execution_count": 62
        }
      ]
    },
    {
      "cell_type": "code",
      "metadata": {
        "colab": {
          "base_uri": "https://localhost:8080/",
          "height": 284
        },
        "id": "8-VLhUfDDeHt",
        "outputId": "ed6a054e-5bda-4c50-e05e-2f6b9b7e9585"
      },
      "source": [
        "for i in range(10):\n",
        "    plt.scatter(x[idx[i],0],x[idx[i],1],label=\"class_\"+str(i))\n",
        "plt.legend(loc='center left', bbox_to_anchor=(1, 0.5))"
      ],
      "execution_count": 63,
      "outputs": [
        {
          "output_type": "execute_result",
          "data": {
            "text/plain": [
              "<matplotlib.legend.Legend at 0x7f325aecddd0>"
            ]
          },
          "metadata": {},
          "execution_count": 63
        },
        {
          "output_type": "display_data",
          "data": {
            "image/png": "[encoded data removed]",
            "text/plain": [
              "<Figure size 432x288 with 1 Axes>"
            ]
          },
          "metadata": {
            "needs_background": "light"
          }
        }
      ]
    },
    {
      "cell_type": "code",
      "metadata": {
        "id": "UfFHcZJOr0Sz"
      },
      "source": [
        "foreground_classes = {'class_0','class_1', 'class_2'}\n",
        "\n",
        "background_classes = {'class_3','class_4', 'class_5', 'class_6','class_7', 'class_8', 'class_9'}"
      ],
      "execution_count": 64,
      "outputs": []
    },
    {
      "cell_type": "code",
      "metadata": {
        "colab": {
          "base_uri": "https://localhost:8080/"
        },
        "id": "OplNpNQVr0S2",
        "outputId": "e22482cc-d16b-472b-b0ae-54d7a2baee3e"
      },
      "source": [
        "fg_class  = np.random.randint(0,3)\n",
        "fg_idx = np.random.randint(0,m)\n",
        "train_data=[]\n",
        "a = []\n",
        "fg_instance = np.array([[0.0,0.0]])\n",
        "bg_instance = np.array([[0.0,0.0]])\n",
        "\n",
        "for i in range(m):\n",
        "  if i == fg_idx:\n",
        "    b = np.random.choice(np.where(idx[fg_class]==True)[0],size=1)\n",
        "    fg_instance += x[b]\n",
        "    a.append(x[b])\n",
        "    print(\"foreground \"+str(fg_class)+\" present at \" + str(fg_idx))\n",
        "  else:\n",
        "    bg_class = np.random.randint(3,10)\n",
        "    b = np.random.choice(np.where(idx[bg_class]==True)[0],size=1)\n",
        "    bg_instance += x[b]\n",
        "    a.append(x[b])\n",
        "    print(\"background \"+str(bg_class)+\" present at \" + str(i))\n",
        "\n",
        "a = np.concatenate(a,axis=0)\n",
        "print(a.shape)\n",
        "\n",
        "print(fg_class , fg_idx)"
      ],
      "execution_count": 65,
      "outputs": [
        {
          "output_type": "stream",
          "name": "stdout",
          "text": [
            "background 5 present at 0\n",
            "background 6 present at 1\n",
            "foreground 2 present at 2\n",
            "background 5 present at 3\n",
            "background 3 present at 4\n",
            "(5, 2)\n",
            "2 2\n"
          ]
        }
      ]
    },
    {
      "cell_type": "code",
      "metadata": {
        "colab": {
          "base_uri": "https://localhost:8080/"
        },
        "id": "Rx6cMmR3baVf",
        "outputId": "d7f204d9-460f-4c28-b74f-2138c1b0c784"
      },
      "source": [
        "a"
      ],
      "execution_count": 66,
      "outputs": [
        {
          "output_type": "execute_result",
          "data": {
            "text/plain": [
              "array([[ 1.52560273, -0.1298488 ],\n",
              "       [-0.4226508 , -1.2003313 ],\n",
              "       [ 8.5153438 ,  7.02349438],\n",
              "       [ 2.09728368, -0.24465132],\n",
              "       [-0.98608769, -0.75123246]])"
            ]
          },
          "metadata": {},
          "execution_count": 66
        }
      ]
    },
    {
      "cell_type": "code",
      "metadata": {
        "colab": {
          "base_uri": "https://localhost:8080/"
        },
        "id": "dEdaFZPQhc7D",
        "outputId": "265b5d87-5fb9-413a-b7bb-c8ad1a533a7f"
      },
      "source": [
        "fg_instance"
      ],
      "execution_count": 67,
      "outputs": [
        {
          "output_type": "execute_result",
          "data": {
            "text/plain": [
              "array([[8.5153438 , 7.02349438]])"
            ]
          },
          "metadata": {},
          "execution_count": 67
        }
      ]
    },
    {
      "cell_type": "code",
      "metadata": {
        "colab": {
          "base_uri": "https://localhost:8080/"
        },
        "id": "IqdAVbG1hftM",
        "outputId": "ff91037b-0bb3-4c07-fb01-8544f3a96d32"
      },
      "source": [
        "bg_instance"
      ],
      "execution_count": 68,
      "outputs": [
        {
          "output_type": "execute_result",
          "data": {
            "text/plain": [
              "array([[ 2.21414792, -2.32606388]])"
            ]
          },
          "metadata": {},
          "execution_count": 68
        }
      ]
    },
    {
      "cell_type": "code",
      "metadata": {
        "colab": {
          "base_uri": "https://localhost:8080/"
        },
        "id": "Ho98SSXEhx6L",
        "outputId": "a0f54bc1-209f-49ff-8aff-0ff8b07d23ea"
      },
      "source": [
        "(fg_instance+bg_instance)/m , m"
      ],
      "execution_count": 69,
      "outputs": [
        {
          "output_type": "execute_result",
          "data": {
            "text/plain": [
              "(array([[2.14589834, 0.9394861 ]]), 5)"
            ]
          },
          "metadata": {},
          "execution_count": 69
        }
      ]
    },
    {
      "cell_type": "code",
      "metadata": {
        "colab": {
          "base_uri": "https://localhost:8080/"
        },
        "id": "OoxzYI-ur0S_",
        "outputId": "18f0e1a2-81f2-4b1c-ad41-a9c262960952"
      },
      "source": [
        "np.reshape(a,(2*m,1))"
      ],
      "execution_count": 70,
      "outputs": [
        {
          "output_type": "execute_result",
          "data": {
            "text/plain": [
              "array([[ 1.52560273],\n",
              "       [-0.1298488 ],\n",
              "       [-0.4226508 ],\n",
              "       [-1.2003313 ],\n",
              "       [ 8.5153438 ],\n",
              "       [ 7.02349438],\n",
              "       [ 2.09728368],\n",
              "       [-0.24465132],\n",
              "       [-0.98608769],\n",
              "       [-0.75123246]])"
            ]
          },
          "metadata": {},
          "execution_count": 70
        }
      ]
    },
    {
      "cell_type": "code",
      "metadata": {
        "id": "jqbvfbwVr0TN"
      },
      "source": [
        "# mosaic_list_of_images =[]\n",
        "# mosaic_label = []\n",
        "train_label=[]\n",
        "fore_idx=[]\n",
        "train_data = []\n",
        "for j in range(train_size):\n",
        "  np.random.seed(j)\n",
        "  fg_instance = torch.zeros([2], dtype=torch.float64) #np.array([[0.0,0.0]])\n",
        "  bg_instance = torch.zeros([2], dtype=torch.float64) #np.array([[0.0,0.0]])\n",
        "  # a=[]\n",
        "\n",
        "  for i in range(m):\n",
        "    if i == fg_idx:\n",
        "      fg_class  = np.random.randint(0,3)\n",
        "      b = np.random.choice(np.where(idx[fg_class]==True)[0],size=1)\n",
        "      fg_instance += x[b]\n",
        "      # a.append(x[b])\n",
        "      # print(\"foreground \"+str(fg_class)+\" present at \" + str(fg_idx))\n",
        "    else:\n",
        "      bg_class = np.random.randint(3,10)\n",
        "      b = np.random.choice(np.where(idx[bg_class]==True)[0],size=1)\n",
        "      bg_instance += x[b]\n",
        "      # a.append(x[b])\n",
        "      # print(\"background \"+str(bg_class)+\" present at \" + str(i))\n",
        "  train_data.append((fg_instance+bg_instance)/m)\n",
        "  # a = np.concatenate(a,axis=0)\n",
        "  # mosaic_list_of_images.append(np.reshape(a,(2*m,1)))\n",
        "  train_label.append(fg_class)\n",
        "  fore_idx.append(fg_idx)"
      ],
      "execution_count": 71,
      "outputs": []
    },
    {
      "cell_type": "code",
      "metadata": {
        "colab": {
          "base_uri": "https://localhost:8080/"
        },
        "id": "X_g6lxkVjN0N",
        "outputId": "0ffb9e92-a8bc-430a-ef03-d796ad2a4626"
      },
      "source": [
        " train_data[0], train_label[0]"
      ],
      "execution_count": 72,
      "outputs": [
        {
          "output_type": "execute_result",
          "data": {
            "text/plain": [
              "(tensor([[1.9415, 1.1735]], dtype=torch.float64), 1)"
            ]
          },
          "metadata": {},
          "execution_count": 72
        }
      ]
    },
    {
      "cell_type": "code",
      "metadata": {
        "colab": {
          "base_uri": "https://localhost:8080/"
        },
        "id": "Tz5wQCevobYr",
        "outputId": "0bce307d-9f21-4cfc-a636-900d94b18f97"
      },
      "source": [
        "train_data = torch.stack(train_data, axis=0)\n",
        "train_data.shape, len(train_label)"
      ],
      "execution_count": 73,
      "outputs": [
        {
          "output_type": "execute_result",
          "data": {
            "text/plain": [
              "(torch.Size([500, 1, 2]), 500)"
            ]
          },
          "metadata": {},
          "execution_count": 73
        }
      ]
    },
    {
      "cell_type": "code",
      "metadata": {
        "id": "CVAlImGYA49A"
      },
      "source": [
        "test_label=[]\n",
        "# fore_idx=[]\n",
        "test_data = []\n",
        "for j in range(1000):\n",
        "  np.random.seed(j)\n",
        "  fg_instance = torch.zeros([2], dtype=torch.float64) #np.array([[0.0,0.0]])\n",
        "\n",
        "  fg_class  = np.random.randint(0,3)\n",
        "  b = np.random.choice(np.where(idx[fg_class]==True)[0],size=1)\n",
        "  fg_instance += x[b]\n",
        "  # a.append(x[b])\n",
        "  # print(\"foreground \"+str(fg_class)+\" present at \" + str(fg_idx))\n",
        "\n",
        "  test_data.append((fg_instance)/m)\n",
        "  # a = np.concatenate(a,axis=0)\n",
        "  # mosaic_list_of_images.append(np.reshape(a,(2*m,1)))\n",
        "  test_label.append(fg_class)\n",
        "  # fore_idx.append(fg_idx)"
      ],
      "execution_count": 74,
      "outputs": []
    },
    {
      "cell_type": "code",
      "metadata": {
        "colab": {
          "base_uri": "https://localhost:8080/"
        },
        "id": "XltBz3__BT_C",
        "outputId": "7432aedc-1b82-493d-fb4d-ce7696811565"
      },
      "source": [
        "test_data[0], test_label[0]"
      ],
      "execution_count": 75,
      "outputs": [
        {
          "output_type": "execute_result",
          "data": {
            "text/plain": [
              "(tensor([[1.6196, 1.0052]], dtype=torch.float64), 0)"
            ]
          },
          "metadata": {},
          "execution_count": 75
        }
      ]
    },
    {
      "cell_type": "code",
      "metadata": {
        "colab": {
          "base_uri": "https://localhost:8080/"
        },
        "id": "JqQfjkCnBX8E",
        "outputId": "277cf26a-fd89-40ea-d284-a13bee82b5b0"
      },
      "source": [
        "test_data = torch.stack(test_data, axis=0)\n",
        "test_data.shape, len(test_label)"
      ],
      "execution_count": 76,
      "outputs": [
        {
          "output_type": "execute_result",
          "data": {
            "text/plain": [
              "(torch.Size([1000, 1, 2]), 1000)"
            ]
          },
          "metadata": {},
          "execution_count": 76
        }
      ]
    },
    {
      "cell_type": "code",
      "metadata": {
        "id": "nQhRf1ICBvW6"
      },
      "source": [
        "x1 = (train_data).numpy()\n",
        "y1 = np.array(train_label)"
      ],
      "execution_count": 77,
      "outputs": []
    },
    {
      "cell_type": "code",
      "metadata": {
        "colab": {
          "base_uri": "https://localhost:8080/"
        },
        "id": "vDAz96DSCXn5",
        "outputId": "8788bf83-0b9a-416a-8cf4-8c3bf2c51013"
      },
      "source": [
        "x1[y1==0,0]"
      ],
      "execution_count": 78,
      "outputs": [
        {
          "output_type": "execute_result",
          "data": {
            "text/plain": [
              "array([[2.31083719, 1.29582207],\n",
              "       [2.55617415, 0.82339394],\n",
              "       [2.05459714, 1.28499008],\n",
              "       [1.70525849, 1.77512975],\n",
              "       [1.54031539, 0.53982597],\n",
              "       [1.37520709, 1.11561758],\n",
              "       [1.44761575, 1.18088703],\n",
              "       [1.53792062, 1.14562282],\n",
              "       [1.82083894, 1.02595941],\n",
              "       [1.36488786, 1.17364008],\n",
              "       [1.14608175, 0.68747298],\n",
              "       [1.88163464, 1.18488168],\n",
              "       [1.51963717, 1.46941846],\n",
              "       [1.51771884, 2.11783694],\n",
              "       [1.36489497, 1.87599498],\n",
              "       [1.90814419, 1.14836183],\n",
              "       [1.69137383, 0.5168221 ],\n",
              "       [1.25445685, 0.7725669 ],\n",
              "       [0.94311049, 0.90360228],\n",
              "       [1.44034429, 2.24659856],\n",
              "       [1.6786334 , 1.5440739 ],\n",
              "       [1.2438062 , 1.80364468],\n",
              "       [1.21075277, 1.61354854],\n",
              "       [1.85554257, 0.79036512],\n",
              "       [1.46278414, 0.90666355],\n",
              "       [1.72961448, 0.87452299],\n",
              "       [1.75948675, 0.88091133],\n",
              "       [1.81877001, 1.28780841],\n",
              "       [1.15716597, 1.17923006],\n",
              "       [1.42352501, 0.36204016],\n",
              "       [1.57715537, 1.28219434],\n",
              "       [1.5293098 , 0.73782214],\n",
              "       [1.66313291, 1.63731343],\n",
              "       [1.56648775, 1.22911101],\n",
              "       [2.38567877, 0.5837939 ],\n",
              "       [1.70771039, 0.88217516],\n",
              "       [1.04282909, 1.23611846],\n",
              "       [1.83563808, 1.36342367],\n",
              "       [1.83695179, 1.21282566],\n",
              "       [1.56194808, 0.84934563],\n",
              "       [1.27509123, 0.97661684],\n",
              "       [1.22885388, 0.7470571 ],\n",
              "       [2.24437237, 1.07163737],\n",
              "       [2.17451706, 1.82223524],\n",
              "       [0.69990137, 1.2225546 ],\n",
              "       [1.94797391, 0.95274703],\n",
              "       [2.62403838, 1.20573736],\n",
              "       [1.84525267, 1.54738559],\n",
              "       [2.10841107, 1.82358666],\n",
              "       [1.70767505, 1.19073174],\n",
              "       [1.57948011, 1.25128021],\n",
              "       [1.33215722, 0.72727653],\n",
              "       [1.77871085, 1.17517011],\n",
              "       [1.12023719, 2.07966776],\n",
              "       [1.59911174, 0.84911766],\n",
              "       [1.17328073, 1.23816774],\n",
              "       [1.63065423, 1.55067469],\n",
              "       [1.04120479, 1.07023594],\n",
              "       [1.55422321, 1.51357034],\n",
              "       [1.52339184, 0.97922212],\n",
              "       [1.18964882, 1.79517579],\n",
              "       [0.66131841, 1.36965356],\n",
              "       [1.70022455, 1.14260043],\n",
              "       [0.87296164, 1.55138739],\n",
              "       [2.11258235, 0.70516807],\n",
              "       [2.36313962, 1.16333272],\n",
              "       [1.05094033, 1.08271819],\n",
              "       [1.51800435, 1.6262457 ],\n",
              "       [1.3419238 , 1.33810884],\n",
              "       [1.46297891, 1.87450759],\n",
              "       [1.49407907, 1.12725478],\n",
              "       [1.39658293, 1.07570589],\n",
              "       [1.59323094, 0.69407916],\n",
              "       [2.31660864, 1.35037307],\n",
              "       [1.72260562, 1.78366349],\n",
              "       [1.11996184, 1.39452645],\n",
              "       [1.24728828, 0.23279401],\n",
              "       [1.46382512, 1.5839166 ],\n",
              "       [1.61260596, 1.02369141],\n",
              "       [0.92340052, 0.53533661],\n",
              "       [1.74676082, 1.65340265],\n",
              "       [1.77615175, 1.50452861],\n",
              "       [1.22823126, 1.19532359],\n",
              "       [1.3401504 , 0.8297111 ],\n",
              "       [0.93398231, 1.31735501],\n",
              "       [1.5171228 , 1.38976187],\n",
              "       [1.67945218, 1.24249466],\n",
              "       [1.06605243, 1.0559721 ],\n",
              "       [2.39710926, 1.19594103],\n",
              "       [1.99260079, 0.79990911],\n",
              "       [0.93826254, 1.92401686],\n",
              "       [1.4134599 , 1.5840381 ],\n",
              "       [0.62565983, 0.88396352],\n",
              "       [0.6138321 , 0.89399493],\n",
              "       [1.34054809, 0.55317502],\n",
              "       [2.2663296 , 1.24078036],\n",
              "       [1.41287222, 0.86823975],\n",
              "       [1.30586479, 0.82624644],\n",
              "       [1.67981991, 0.86332746],\n",
              "       [2.05437389, 1.00805737],\n",
              "       [2.29677098, 1.31496254],\n",
              "       [1.24516375, 1.71880389],\n",
              "       [0.55487125, 0.59569822],\n",
              "       [1.83901526, 0.95680409],\n",
              "       [1.98119448, 1.55700436],\n",
              "       [1.51252467, 0.50697775],\n",
              "       [1.34240967, 1.59236409],\n",
              "       [1.25443891, 1.58620183],\n",
              "       [1.31526519, 0.45640744],\n",
              "       [0.70819538, 1.1578128 ],\n",
              "       [1.91313449, 1.39394483],\n",
              "       [2.31194915, 1.34240204],\n",
              "       [0.99317913, 0.99704055],\n",
              "       [1.55409312, 1.59491989],\n",
              "       [1.89132111, 1.73140607],\n",
              "       [1.20518395, 0.7421978 ],\n",
              "       [1.55097662, 0.78571881],\n",
              "       [1.90693313, 1.94054656],\n",
              "       [1.70093187, 1.38859515],\n",
              "       [2.28057527, 1.16656278],\n",
              "       [2.25690647, 0.35809255],\n",
              "       [1.76604167, 1.05179213],\n",
              "       [2.06451155, 1.42371809],\n",
              "       [1.66835973, 1.07895348],\n",
              "       [1.58824538, 1.44457142],\n",
              "       [1.74279146, 0.61777438],\n",
              "       [1.72281569, 1.45318498],\n",
              "       [1.86582763, 0.74061078],\n",
              "       [1.78151204, 1.19303206],\n",
              "       [1.69854044, 1.38397007],\n",
              "       [1.68174152, 1.30837295],\n",
              "       [1.16598893, 1.2345487 ],\n",
              "       [1.7986142 , 1.43441809],\n",
              "       [1.61236538, 1.73438073],\n",
              "       [1.3947506 , 1.5672337 ],\n",
              "       [2.15142015, 1.02946195],\n",
              "       [1.81846955, 0.77863174],\n",
              "       [0.7202892 , 1.13912154],\n",
              "       [1.975823  , 0.28575163],\n",
              "       [1.40240037, 0.32162748],\n",
              "       [1.29369151, 1.40892409],\n",
              "       [2.20725217, 1.29376736],\n",
              "       [1.24764504, 0.99992454],\n",
              "       [1.32560885, 0.65484828],\n",
              "       [2.45517119, 1.08425776],\n",
              "       [0.97423046, 1.24269113],\n",
              "       [1.41398912, 1.93208848],\n",
              "       [2.1096033 , 1.30985502],\n",
              "       [0.89603042, 0.61466276],\n",
              "       [1.29223477, 0.15819116],\n",
              "       [2.23143776, 0.69658033],\n",
              "       [1.73841446, 0.77961151],\n",
              "       [2.93344249, 1.29411878],\n",
              "       [1.37763993, 0.98925032],\n",
              "       [1.5324196 , 0.50547007],\n",
              "       [1.90672715, 1.91273742],\n",
              "       [1.49425292, 0.92438854],\n",
              "       [1.04567375, 1.69167825],\n",
              "       [2.31026887, 0.81871839],\n",
              "       [0.67188851, 0.89931749],\n",
              "       [1.97770701, 0.9999304 ],\n",
              "       [1.19443394, 0.71356588],\n",
              "       [1.76453988, 1.10100689],\n",
              "       [1.48753051, 1.6517898 ],\n",
              "       [1.36953019, 1.34330427],\n",
              "       [1.38501474, 0.71261848],\n",
              "       [1.88509748, 0.82365123],\n",
              "       [1.61422505, 0.86185388],\n",
              "       [1.99425164, 1.43185321]])"
            ]
          },
          "metadata": {},
          "execution_count": 78
        }
      ]
    },
    {
      "cell_type": "code",
      "metadata": {
        "colab": {
          "base_uri": "https://localhost:8080/"
        },
        "id": "kMwwZhv7Bv1U",
        "outputId": "7758ae7e-95b4-4ae3-b30d-b3f105699c75"
      },
      "source": [
        "x1[y1==0,0][:,0]"
      ],
      "execution_count": 79,
      "outputs": [
        {
          "output_type": "execute_result",
          "data": {
            "text/plain": [
              "array([2.31083719, 2.55617415, 2.05459714, 1.70525849, 1.54031539,\n",
              "       1.37520709, 1.44761575, 1.53792062, 1.82083894, 1.36488786,\n",
              "       1.14608175, 1.88163464, 1.51963717, 1.51771884, 1.36489497,\n",
              "       1.90814419, 1.69137383, 1.25445685, 0.94311049, 1.44034429,\n",
              "       1.6786334 , 1.2438062 , 1.21075277, 1.85554257, 1.46278414,\n",
              "       1.72961448, 1.75948675, 1.81877001, 1.15716597, 1.42352501,\n",
              "       1.57715537, 1.5293098 , 1.66313291, 1.56648775, 2.38567877,\n",
              "       1.70771039, 1.04282909, 1.83563808, 1.83695179, 1.56194808,\n",
              "       1.27509123, 1.22885388, 2.24437237, 2.17451706, 0.69990137,\n",
              "       1.94797391, 2.62403838, 1.84525267, 2.10841107, 1.70767505,\n",
              "       1.57948011, 1.33215722, 1.77871085, 1.12023719, 1.59911174,\n",
              "       1.17328073, 1.63065423, 1.04120479, 1.55422321, 1.52339184,\n",
              "       1.18964882, 0.66131841, 1.70022455, 0.87296164, 2.11258235,\n",
              "       2.36313962, 1.05094033, 1.51800435, 1.3419238 , 1.46297891,\n",
              "       1.49407907, 1.39658293, 1.59323094, 2.31660864, 1.72260562,\n",
              "       1.11996184, 1.24728828, 1.46382512, 1.61260596, 0.92340052,\n",
              "       1.74676082, 1.77615175, 1.22823126, 1.3401504 , 0.93398231,\n",
              "       1.5171228 , 1.67945218, 1.06605243, 2.39710926, 1.99260079,\n",
              "       0.93826254, 1.4134599 , 0.62565983, 0.6138321 , 1.34054809,\n",
              "       2.2663296 , 1.41287222, 1.30586479, 1.67981991, 2.05437389,\n",
              "       2.29677098, 1.24516375, 0.55487125, 1.83901526, 1.98119448,\n",
              "       1.51252467, 1.34240967, 1.25443891, 1.31526519, 0.70819538,\n",
              "       1.91313449, 2.31194915, 0.99317913, 1.55409312, 1.89132111,\n",
              "       1.20518395, 1.55097662, 1.90693313, 1.70093187, 2.28057527,\n",
              "       2.25690647, 1.76604167, 2.06451155, 1.66835973, 1.58824538,\n",
              "       1.74279146, 1.72281569, 1.86582763, 1.78151204, 1.69854044,\n",
              "       1.68174152, 1.16598893, 1.7986142 , 1.61236538, 1.3947506 ,\n",
              "       2.15142015, 1.81846955, 0.7202892 , 1.975823  , 1.40240037,\n",
              "       1.29369151, 2.20725217, 1.24764504, 1.32560885, 2.45517119,\n",
              "       0.97423046, 1.41398912, 2.1096033 , 0.89603042, 1.29223477,\n",
              "       2.23143776, 1.73841446, 2.93344249, 1.37763993, 1.5324196 ,\n",
              "       1.90672715, 1.49425292, 1.04567375, 2.31026887, 0.67188851,\n",
              "       1.97770701, 1.19443394, 1.76453988, 1.48753051, 1.36953019,\n",
              "       1.38501474, 1.88509748, 1.61422505, 1.99425164])"
            ]
          },
          "metadata": {},
          "execution_count": 79
        }
      ]
    },
    {
      "cell_type": "code",
      "metadata": {
        "colab": {
          "base_uri": "https://localhost:8080/"
        },
        "id": "ydbu3OV3CYxB",
        "outputId": "1d0ca2f2-28ca-421e-d3be-f03ca0c2e727"
      },
      "source": [
        "x1[y1==0,0][:,1]"
      ],
      "execution_count": 80,
      "outputs": [
        {
          "output_type": "execute_result",
          "data": {
            "text/plain": [
              "array([1.29582207, 0.82339394, 1.28499008, 1.77512975, 0.53982597,\n",
              "       1.11561758, 1.18088703, 1.14562282, 1.02595941, 1.17364008,\n",
              "       0.68747298, 1.18488168, 1.46941846, 2.11783694, 1.87599498,\n",
              "       1.14836183, 0.5168221 , 0.7725669 , 0.90360228, 2.24659856,\n",
              "       1.5440739 , 1.80364468, 1.61354854, 0.79036512, 0.90666355,\n",
              "       0.87452299, 0.88091133, 1.28780841, 1.17923006, 0.36204016,\n",
              "       1.28219434, 0.73782214, 1.63731343, 1.22911101, 0.5837939 ,\n",
              "       0.88217516, 1.23611846, 1.36342367, 1.21282566, 0.84934563,\n",
              "       0.97661684, 0.7470571 , 1.07163737, 1.82223524, 1.2225546 ,\n",
              "       0.95274703, 1.20573736, 1.54738559, 1.82358666, 1.19073174,\n",
              "       1.25128021, 0.72727653, 1.17517011, 2.07966776, 0.84911766,\n",
              "       1.23816774, 1.55067469, 1.07023594, 1.51357034, 0.97922212,\n",
              "       1.79517579, 1.36965356, 1.14260043, 1.55138739, 0.70516807,\n",
              "       1.16333272, 1.08271819, 1.6262457 , 1.33810884, 1.87450759,\n",
              "       1.12725478, 1.07570589, 0.69407916, 1.35037307, 1.78366349,\n",
              "       1.39452645, 0.23279401, 1.5839166 , 1.02369141, 0.53533661,\n",
              "       1.65340265, 1.50452861, 1.19532359, 0.8297111 , 1.31735501,\n",
              "       1.38976187, 1.24249466, 1.0559721 , 1.19594103, 0.79990911,\n",
              "       1.92401686, 1.5840381 , 0.88396352, 0.89399493, 0.55317502,\n",
              "       1.24078036, 0.86823975, 0.82624644, 0.86332746, 1.00805737,\n",
              "       1.31496254, 1.71880389, 0.59569822, 0.95680409, 1.55700436,\n",
              "       0.50697775, 1.59236409, 1.58620183, 0.45640744, 1.1578128 ,\n",
              "       1.39394483, 1.34240204, 0.99704055, 1.59491989, 1.73140607,\n",
              "       0.7421978 , 0.78571881, 1.94054656, 1.38859515, 1.16656278,\n",
              "       0.35809255, 1.05179213, 1.42371809, 1.07895348, 1.44457142,\n",
              "       0.61777438, 1.45318498, 0.74061078, 1.19303206, 1.38397007,\n",
              "       1.30837295, 1.2345487 , 1.43441809, 1.73438073, 1.5672337 ,\n",
              "       1.02946195, 0.77863174, 1.13912154, 0.28575163, 0.32162748,\n",
              "       1.40892409, 1.29376736, 0.99992454, 0.65484828, 1.08425776,\n",
              "       1.24269113, 1.93208848, 1.30985502, 0.61466276, 0.15819116,\n",
              "       0.69658033, 0.77961151, 1.29411878, 0.98925032, 0.50547007,\n",
              "       1.91273742, 0.92438854, 1.69167825, 0.81871839, 0.89931749,\n",
              "       0.9999304 , 0.71356588, 1.10100689, 1.6517898 , 1.34330427,\n",
              "       0.71261848, 0.82365123, 0.86185388, 1.43185321])"
            ]
          },
          "metadata": {},
          "execution_count": 80
        }
      ]
    },
    {
      "cell_type": "code",
      "metadata": {
        "colab": {
          "base_uri": "https://localhost:8080/",
          "height": 300
        },
        "id": "bT9-kEI7NAnR",
        "outputId": "399ba9c1-14eb-481d-fd4c-4e7208c01682"
      },
      "source": [
        "x1 = (train_data).numpy()\n",
        "y1 = np.array(train_label)\n",
        "\n",
        "plt.scatter(x1[y1==0,0][:,0], x1[y1==0,0][:,1], label='class 0')\n",
        "plt.scatter(x1[y1==1,0][:,0], x1[y1==1,0][:,1], label='class 1')\n",
        "plt.scatter(x1[y1==2,0][:,0], x1[y1==2,0][:,1], label='class 2')\n",
        "plt.legend()\n",
        "plt.title(\"dataset4 CIN with alpha = 1/\"+str(m))"
      ],
      "execution_count": 81,
      "outputs": [
        {
          "output_type": "execute_result",
          "data": {
            "text/plain": [
              "Text(0.5, 1.0, 'dataset4 CIN with alpha = 1/5')"
            ]
          },
          "metadata": {},
          "execution_count": 81
        },
        {
          "output_type": "display_data",
          "data": {
            "image/png": "[encoded data removed]",
            "text/plain": [
              "<Figure size 432x288 with 1 Axes>"
            ]
          },
          "metadata": {
            "needs_background": "light"
          }
        }
      ]
    },
    {
      "cell_type": "code",
      "metadata": {
        "colab": {
          "base_uri": "https://localhost:8080/",
          "height": 300
        },
        "id": "Sc8W2N7LQQ_l",
        "outputId": "6a6e69da-6c98-4b4e-d0ff-85ead86eaa97"
      },
      "source": [
        "x1 = (test_data).numpy()\n",
        "y1 = np.array(test_label)\n",
        "\n",
        "plt.scatter(x1[y1==0,0][:,0], x1[y1==0,0][:,1], label='class 0')\n",
        "plt.scatter(x1[y1==1,0][:,0], x1[y1==1,0][:,1], label='class 1')\n",
        "plt.scatter(x1[y1==2,0][:,0], x1[y1==2,0][:,1], label='class 2')\n",
        "plt.legend()\n",
        "plt.title(\"test dataset4\")"
      ],
      "execution_count": 82,
      "outputs": [
        {
          "output_type": "execute_result",
          "data": {
            "text/plain": [
              "Text(0.5, 1.0, 'test dataset4')"
            ]
          },
          "metadata": {},
          "execution_count": 82
        },
        {
          "output_type": "display_data",
          "data": {
            "image/png": "[encoded data removed]",
            "text/plain": [
              "<Figure size 432x288 with 1 Axes>"
            ]
          },
          "metadata": {
            "needs_background": "light"
          }
        }
      ]
    },
    {
      "cell_type": "code",
      "metadata": {
        "id": "yL0BRf8er0TX"
      },
      "source": [
        "class MosaicDataset(Dataset):\n",
        "  \"\"\"MosaicDataset dataset.\"\"\"\n",
        "\n",
        "  def __init__(self, mosaic_list_of_images, mosaic_label):\n",
        "    \"\"\"\n",
        "      Args:\n",
        "        csv_file (string): Path to the csv file with annotations.\n",
        "        root_dir (string): Directory with all the images.\n",
        "        transform (callable, optional): Optional transform to be applied\n",
        "            on a sample.\n",
        "    \"\"\"\n",
        "    self.mosaic = mosaic_list_of_images\n",
        "    self.label = mosaic_label\n",
        "    #self.fore_idx = fore_idx\n",
        "    \n",
        "  def __len__(self):\n",
        "    return len(self.label)\n",
        "\n",
        "  def __getitem__(self, idx):\n",
        "    return self.mosaic[idx] , self.label[idx] #, self.fore_idx[idx]\n",
        "\n"
      ],
      "execution_count": 83,
      "outputs": []
    },
    {
      "cell_type": "code",
      "metadata": {
        "colab": {
          "base_uri": "https://localhost:8080/"
        },
        "id": "4KsrW9qL9xgS",
        "outputId": "b5b72d5b-44c9-4b66-91f0-b3110fd328a1"
      },
      "source": [
        "train_data[0].shape, train_data[0]"
      ],
      "execution_count": 84,
      "outputs": [
        {
          "output_type": "execute_result",
          "data": {
            "text/plain": [
              "(torch.Size([1, 2]), tensor([[1.9415, 1.1735]], dtype=torch.float64))"
            ]
          },
          "metadata": {},
          "execution_count": 84
        }
      ]
    },
    {
      "cell_type": "code",
      "metadata": {
        "id": "EY2l62APygaV"
      },
      "source": [
        "batch = 200\n",
        "\n",
        "traindata_1 = MosaicDataset(train_data, train_label )\n",
        "trainloader_1 = DataLoader( traindata_1 , batch_size= batch ,shuffle=True)\n"
      ],
      "execution_count": 85,
      "outputs": []
    },
    {
      "cell_type": "code",
      "metadata": {
        "id": "9suUslCj8YZK"
      },
      "source": [
        "testdata_1 = MosaicDataset(test_data, test_label )\n",
        "testloader_1 = DataLoader( testdata_1 , batch_size= batch ,shuffle=False)\n"
      ],
      "execution_count": 86,
      "outputs": []
    },
    {
      "cell_type": "code",
      "metadata": {
        "id": "Nh3mBQHZ8bEj"
      },
      "source": [
        "# testdata_11 = MosaicDataset(test_dataset, labels )\n",
        "# testloader_11 = DataLoader( testdata_11 , batch_size= batch ,shuffle=False)"
      ],
      "execution_count": 87,
      "outputs": []
    },
    {
      "cell_type": "code",
      "metadata": {
        "id": "5_XeIUk0r0Tl"
      },
      "source": [
        "class Whatnet(nn.Module):\n",
        "    def __init__(self):\n",
        "        super(Whatnet,self).__init__()\n",
        "        self.linear1 = nn.Linear(2,50)\n",
        "        self.linear2 = nn.Linear(50,3)\n",
        "\n",
        "        torch.nn.init.xavier_normal_(self.linear1.weight)\n",
        "        torch.nn.init.zeros_(self.linear1.bias)\n",
        "        torch.nn.init.xavier_normal_(self.linear2.weight)\n",
        "        torch.nn.init.zeros_(self.linear2.bias)\n",
        "\n",
        "    def forward(self,x):\n",
        "        x = F.relu(self.linear1(x))\n",
        "        x = (self.linear2(x))\n",
        "\n",
        "        return x[:,0]"
      ],
      "execution_count": 88,
      "outputs": []
    },
    {
      "cell_type": "code",
      "metadata": {
        "id": "pjD2VZuV9Ed4"
      },
      "source": [
        "def calculate_loss(dataloader,model,criter):\n",
        "  model.eval()\n",
        "  r_loss = 0\n",
        "  with torch.no_grad():\n",
        "    for i, data in enumerate(dataloader, 0):\n",
        "      inputs, labels = data\n",
        "      inputs, labels = inputs.to(\"cuda\"),labels.to(\"cuda\")\n",
        "      outputs = model(inputs)\n",
        "      # print(outputs.shape)\n",
        "      loss = criter(outputs, labels)\n",
        "      r_loss += loss.item()\n",
        "  return r_loss/(i+1)"
      ],
      "execution_count": 89,
      "outputs": []
    },
    {
      "cell_type": "code",
      "metadata": {
        "id": "uALi25pmzQHV"
      },
      "source": [
        "def test_all(number, testloader,net):\n",
        "    correct = 0\n",
        "    total = 0\n",
        "    out = []\n",
        "    pred = []\n",
        "    with torch.no_grad():\n",
        "        for data in testloader:\n",
        "            images, labels = data\n",
        "            images, labels = images.to(\"cuda\"),labels.to(\"cuda\")\n",
        "            out.append(labels.cpu().numpy())\n",
        "            outputs= net(images)\n",
        "            _, predicted = torch.max(outputs.data, 1)\n",
        "            pred.append(predicted.cpu().numpy())\n",
        "            total += labels.size(0)\n",
        "            correct += (predicted == labels).sum().item()\n",
        "    \n",
        "    pred = np.concatenate(pred, axis = 0)\n",
        "    out = np.concatenate(out, axis = 0)\n",
        "    print(\"unique out: \",  np.unique(out), \"unique pred: \", np.unique(pred) )\n",
        "    print(\"correct: \", correct, \"total \",  total)\n",
        "    print('Accuracy of the network on the %d test dataset %d: %.2f %%' % (total, number , 100 * correct / total))"
      ],
      "execution_count": 90,
      "outputs": []
    },
    {
      "cell_type": "code",
      "metadata": {
        "id": "4vmNprlPzTjP"
      },
      "source": [
        "def train_all(trainloader, ds_number, testloader_list, lr_list):\n",
        "  \n",
        "  final_loss = []\n",
        "  for LR in lr_list:    \n",
        "    print(\"--\"*20, \"Learning Rate used is\", LR)\n",
        "    \n",
        "    torch.manual_seed(13)\n",
        "    net = Whatnet().double()\n",
        "    net = net.to(\"cuda\")\n",
        "    \n",
        "    criterion_net = nn.CrossEntropyLoss()\n",
        "    optimizer_net = optim.Adam(net.parameters(), lr=LR ) #, momentum=0.9)\n",
        "    \n",
        "    acti = []\n",
        "    loss_curi = []\n",
        "    epochs = 1000\n",
        "    running_loss = calculate_loss(trainloader,net,criterion_net)\n",
        "    loss_curi.append(running_loss)\n",
        "    print('epoch: [%d ] loss: %.3f' %(0,running_loss)) \n",
        "    for epoch in range(epochs): # loop over the dataset multiple times\n",
        "        ep_lossi = []\n",
        "\n",
        "        running_loss = 0.0\n",
        "        net.train()\n",
        "        for i, data in enumerate(trainloader, 0):\n",
        "            # get the inputs\n",
        "            inputs, labels = data\n",
        "            inputs, labels = inputs.to(\"cuda\"),labels.to(\"cuda\")\n",
        "\n",
        "            # zero the parameter gradients\n",
        "            optimizer_net.zero_grad()\n",
        "\n",
        "            # forward + backward + optimize\n",
        "            outputs = net(inputs)\n",
        "            # print(outputs.shape)\n",
        "            loss = criterion_net(outputs, labels)\n",
        "            # print statistics\n",
        "            running_loss += loss.item()\n",
        "            loss.backward()\n",
        "            optimizer_net.step()\n",
        "\n",
        "        running_loss = calculate_loss(trainloader,net,criterion_net)\n",
        "        if(epoch%200 == 0):\n",
        "          print('epoch: [%d] loss: %.3f' %(epoch + 1,running_loss)) \n",
        "        loss_curi.append(running_loss)   #loss per epoch\n",
        "        if running_loss<=0.05:\n",
        "          print('epoch: [%d] loss: %.3f' %(epoch + 1,running_loss))\n",
        "          break\n",
        "\n",
        "    print('Finished Training')\n",
        "    \n",
        "    correct = 0\n",
        "    total = 0\n",
        "    with torch.no_grad():\n",
        "        for data in trainloader:\n",
        "            images, labels = data\n",
        "            images, labels = images.to(\"cuda\"), labels.to(\"cuda\")\n",
        "            outputs = net(images)\n",
        "            _, predicted = torch.max(outputs.data, 1)\n",
        "            total += labels.size(0)\n",
        "            correct += (predicted == labels).sum().item()\n",
        "\n",
        "    print('Accuracy of the network on the %d train images: %.2f %%' % (total,  100 * correct / total))\n",
        "    \n",
        "    for i, j in enumerate(testloader_list):\n",
        "        test_all(i+1, j,net)\n",
        "    \n",
        "    print(\"--\"*40)\n",
        "    \n",
        "    final_loss.append(loss_curi) \n",
        "  return final_loss\n",
        "    "
      ],
      "execution_count": 103,
      "outputs": []
    },
    {
      "cell_type": "code",
      "metadata": {
        "id": "Yl41sE8vFERk"
      },
      "source": [
        "train_loss_all=[]\n",
        "\n",
        "testloader_list= [ testloader_1]\n",
        "lr_list = [0.0001, 0.0005, 0.001, 0.005, 0.01, 0.05, 0.1, 0.5 ]"
      ],
      "execution_count": 104,
      "outputs": []
    },
    {
      "cell_type": "code",
      "metadata": {
        "colab": {
          "base_uri": "https://localhost:8080/"
        },
        "id": "5gQoPST5zW2t",
        "outputId": "f486b62d-4205-44de-9376-19d9c4b7cc9d"
      },
      "source": [
        "fin_loss = train_all(trainloader_1, 1, testloader_list, lr_list)\n",
        "train_loss_all.append(fin_loss)"
      ],
      "execution_count": 105,
      "outputs": [
        {
          "output_type": "stream",
          "name": "stdout",
          "text": [
            "---------------------------------------- Learning Rate used is 0.0001\n",
            "epoch: [0 ] loss: 1.239\n",
            "epoch: [1] loss: 1.233\n",
            "epoch: [201] loss: 1.095\n",
            "epoch: [401] loss: 1.084\n",
            "epoch: [601] loss: 1.078\n",
            "epoch: [801] loss: 1.065\n",
            "Finished Training\n",
            "Accuracy of the network on the 500 train images: 46.40 %\n",
            "unique out:  [0 1 2] unique pred:  [0 1 2]\n",
            "correct:  395 total  1000\n",
            "Accuracy of the network on the 1000 test dataset 1: 39.50 %\n",
            "--------------------------------------------------------------------------------\n",
            "---------------------------------------- Learning Rate used is 0.0005\n",
            "epoch: [0 ] loss: 1.239\n",
            "epoch: [1] loss: 1.224\n",
            "epoch: [201] loss: 1.057\n",
            "epoch: [401] loss: 1.029\n",
            "epoch: [601] loss: 1.018\n",
            "epoch: [801] loss: 1.020\n",
            "Finished Training\n",
            "Accuracy of the network on the 500 train images: 47.80 %\n",
            "unique out:  [0 1 2] unique pred:  [0 1 2]\n",
            "correct:  685 total  1000\n",
            "Accuracy of the network on the 1000 test dataset 1: 68.50 %\n",
            "--------------------------------------------------------------------------------\n",
            "---------------------------------------- Learning Rate used is 0.001\n",
            "epoch: [0 ] loss: 1.239\n",
            "epoch: [1] loss: 1.213\n",
            "epoch: [201] loss: 1.025\n",
            "epoch: [401] loss: 1.024\n",
            "epoch: [601] loss: 1.016\n",
            "epoch: [801] loss: 1.018\n",
            "Finished Training\n",
            "Accuracy of the network on the 500 train images: 48.00 %\n",
            "unique out:  [0 1 2] unique pred:  [0 1 2]\n",
            "correct:  677 total  1000\n",
            "Accuracy of the network on the 1000 test dataset 1: 67.70 %\n",
            "--------------------------------------------------------------------------------\n",
            "---------------------------------------- Learning Rate used is 0.005\n",
            "epoch: [0 ] loss: 1.239\n",
            "epoch: [1] loss: 1.148\n",
            "epoch: [201] loss: 1.016\n",
            "epoch: [401] loss: 1.022\n",
            "epoch: [601] loss: 1.012\n",
            "epoch: [801] loss: 1.014\n",
            "Finished Training\n",
            "Accuracy of the network on the 500 train images: 47.40 %\n",
            "unique out:  [0 1 2] unique pred:  [0 1 2]\n",
            "correct:  681 total  1000\n",
            "Accuracy of the network on the 1000 test dataset 1: 68.10 %\n",
            "--------------------------------------------------------------------------------\n",
            "---------------------------------------- Learning Rate used is 0.01\n",
            "epoch: [0 ] loss: 1.239\n",
            "epoch: [1] loss: 1.111\n",
            "epoch: [201] loss: 1.014\n",
            "epoch: [401] loss: 1.025\n",
            "epoch: [601] loss: 1.015\n",
            "epoch: [801] loss: 1.011\n",
            "Finished Training\n",
            "Accuracy of the network on the 500 train images: 48.20 %\n",
            "unique out:  [0 1 2] unique pred:  [0 1 2]\n",
            "correct:  660 total  1000\n",
            "Accuracy of the network on the 1000 test dataset 1: 66.00 %\n",
            "--------------------------------------------------------------------------------\n",
            "---------------------------------------- Learning Rate used is 0.05\n",
            "epoch: [0 ] loss: 1.239\n",
            "epoch: [1] loss: 1.145\n",
            "epoch: [201] loss: 1.017\n",
            "epoch: [401] loss: 1.023\n",
            "epoch: [601] loss: 1.013\n",
            "epoch: [801] loss: 1.021\n",
            "Finished Training\n",
            "Accuracy of the network on the 500 train images: 48.40 %\n",
            "unique out:  [0 1 2] unique pred:  [0 1 2]\n",
            "correct:  707 total  1000\n",
            "Accuracy of the network on the 1000 test dataset 1: 70.70 %\n",
            "--------------------------------------------------------------------------------\n",
            "---------------------------------------- Learning Rate used is 0.1\n",
            "epoch: [0 ] loss: 1.239\n",
            "epoch: [1] loss: 1.126\n",
            "epoch: [201] loss: 1.031\n",
            "epoch: [401] loss: 1.040\n",
            "epoch: [601] loss: 1.030\n",
            "epoch: [801] loss: 1.037\n",
            "Finished Training\n",
            "Accuracy of the network on the 500 train images: 44.00 %\n",
            "unique out:  [0 1 2] unique pred:  [0 1 2]\n",
            "correct:  630 total  1000\n",
            "Accuracy of the network on the 1000 test dataset 1: 63.00 %\n",
            "--------------------------------------------------------------------------------\n",
            "---------------------------------------- Learning Rate used is 0.5\n",
            "epoch: [0 ] loss: 1.239\n",
            "epoch: [1] loss: 3.820\n",
            "epoch: [201] loss: 1.104\n",
            "epoch: [401] loss: 1.096\n",
            "epoch: [601] loss: 1.099\n",
            "epoch: [801] loss: 1.100\n",
            "Finished Training\n",
            "Accuracy of the network on the 500 train images: 35.40 %\n",
            "unique out:  [0 1 2] unique pred:  [1]\n",
            "correct:  355 total  1000\n",
            "Accuracy of the network on the 1000 test dataset 1: 35.50 %\n",
            "--------------------------------------------------------------------------------\n"
          ]
        }
      ]
    },
    {
      "cell_type": "code",
      "metadata": {
        "id": "In76SYH_zZHV"
      },
      "source": [
        "%matplotlib inline"
      ],
      "execution_count": 106,
      "outputs": []
    },
    {
      "cell_type": "code",
      "metadata": {
        "colab": {
          "base_uri": "https://localhost:8080/"
        },
        "id": "_GsE3qHR_A5c",
        "outputId": "74bf1593-dbd3-449e-8bc9-357c6620b9a6"
      },
      "source": [
        "len(fin_loss)"
      ],
      "execution_count": 107,
      "outputs": [
        {
          "output_type": "execute_result",
          "data": {
            "text/plain": [
              "8"
            ]
          },
          "metadata": {},
          "execution_count": 107
        }
      ]
    },
    {
      "cell_type": "code",
      "metadata": {
        "id": "BS4HtOHEzZ0E",
        "colab": {
          "base_uri": "https://localhost:8080/",
          "height": 297
        },
        "outputId": "3c066a46-ab5d-4038-a313-69f87a70d3cb"
      },
      "source": [
        "for i,j in enumerate(fin_loss):\n",
        "    plt.plot(j,label =\"LR = \"+str(lr_list[i]))\n",
        "    \n",
        "\n",
        "plt.xlabel(\"Epochs\")\n",
        "plt.ylabel(\"Training_loss\")\n",
        "\n",
        "plt.legend(loc='center left', bbox_to_anchor=(1, 0.5))"
      ],
      "execution_count": 108,
      "outputs": [
        {
          "output_type": "execute_result",
          "data": {
            "text/plain": [
              "<matplotlib.legend.Legend at 0x7f325ab83950>"
            ]
          },
          "metadata": {},
          "execution_count": 108
        },
        {
          "output_type": "display_data",
          "data": {
            "image/png": "[encoded data removed]",
            "text/plain": [
              "<Figure size 432x288 with 1 Axes>"
            ]
          },
          "metadata": {
            "needs_background": "light"
          }
        }
      ]
    },
    {
      "cell_type": "code",
      "metadata": {
        "id": "1UbTkfLUINTI"
      },
      "source": [
        ""
      ],
      "execution_count": 102,
      "outputs": []
    }
  ]
}