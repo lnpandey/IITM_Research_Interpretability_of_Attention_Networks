{
  "nbformat": 4,
  "nbformat_minor": 0,
  "metadata": {
    "accelerator": "GPU",
    "colab": {
      "name": "ds3_MLP_m_100_size2000_run2.ipynb",
      "provenance": [],
      "collapsed_sections": []
    },
    "kernelspec": {
      "display_name": "Python 3",
      "language": "python",
      "name": "python3"
    },
    "language_info": {
      "codemirror_mode": {
        "name": "ipython",
        "version": 3
      },
      "file_extension": ".py",
      "mimetype": "text/x-python",
      "name": "python",
      "nbconvert_exporter": "python",
      "pygments_lexer": "ipython3",
      "version": "3.6.5"
    }
  },
  "cells": [
    {
      "cell_type": "code",
      "metadata": {
        "colab": {
          "base_uri": "https://localhost:8080/"
        },
        "id": "N2_J4Rw2r0SQ",
        "outputId": "994a6388-4237-421a-eaee-48db48afe9eb"
      },
      "source": [
        "import numpy as np\n",
        "import pandas as pd\n",
        "from matplotlib import pyplot as plt\n",
        "from tqdm import tqdm\n",
        "%matplotlib inline\n",
        "from torch.utils.data import Dataset, DataLoader\n",
        "import torch\n",
        "import torchvision\n",
        "\n",
        "import torch.nn as nn\n",
        "import torch.optim as optim\n",
        "from torch.nn import functional as F\n",
        "device = torch.device(\"cuda\" if torch.cuda.is_available() else \"cpu\")\n",
        "print(device)"
      ],
      "execution_count": 66,
      "outputs": [
        {
          "output_type": "stream",
          "name": "stdout",
          "text": [
            "cuda\n"
          ]
        }
      ]
    },
    {
      "cell_type": "code",
      "metadata": {
        "id": "ZTJPyL45DiJ3"
      },
      "source": [
        "m = 100           # 5, 50, 100, 500, 2000"
      ],
      "execution_count": 67,
      "outputs": []
    },
    {
      "cell_type": "code",
      "metadata": {
        "id": "g-do5dZWK5L6"
      },
      "source": [
        "train_size = 2000          # 100, 500, 2000, 10000"
      ],
      "execution_count": 68,
      "outputs": []
    },
    {
      "cell_type": "markdown",
      "metadata": {
        "id": "F6fjud_Fr0Sa"
      },
      "source": [
        "# Generate dataset"
      ]
    },
    {
      "cell_type": "code",
      "metadata": {
        "colab": {
          "base_uri": "https://localhost:8080/"
        },
        "id": "CqdXHO0Cr0Sd",
        "outputId": "03c36e3c-0fe0-48df-98da-ecfaa6e8262c"
      },
      "source": [
        "np.random.seed(12)\n",
        "y = np.random.randint(0,10,5000)\n",
        "idx= []\n",
        "for i in range(10):\n",
        "    print(i,sum(y==i))\n",
        "    idx.append(y==i)"
      ],
      "execution_count": 69,
      "outputs": [
        {
          "output_type": "stream",
          "name": "stdout",
          "text": [
            "0 530\n",
            "1 463\n",
            "2 494\n",
            "3 517\n",
            "4 488\n",
            "5 497\n",
            "6 493\n",
            "7 507\n",
            "8 492\n",
            "9 519\n"
          ]
        }
      ]
    },
    {
      "cell_type": "code",
      "metadata": {
        "id": "ddhXyODwr0Sk"
      },
      "source": [
        "x = np.zeros((5000,2))"
      ],
      "execution_count": 70,
      "outputs": []
    },
    {
      "cell_type": "code",
      "metadata": {
        "id": "DyV3N2DIr0Sp"
      },
      "source": [
        "np.random.seed(12)\n",
        "x[idx[0],:] = np.random.multivariate_normal(mean = [5,5],cov=[[0.1,0],[0,0.1]],size=sum(idx[0]))\n",
        "x[idx[1],:] = np.random.multivariate_normal(mean = [6,6],cov=[[0.1,0],[0,0.1]],size=sum(idx[1]))\n",
        "x[idx[2],:] = np.random.multivariate_normal(mean = [5.5,6.5],cov=[[0.1,0],[0,0.1]],size=sum(idx[2]))\n",
        "x[idx[3],:] = np.random.multivariate_normal(mean = [-1,0],cov=[[0.1,0],[0,0.1]],size=sum(idx[3]))\n",
        "x[idx[4],:] = np.random.multivariate_normal(mean = [0,2],cov=[[0.1,0],[0,0.1]],size=sum(idx[4]))\n",
        "x[idx[5],:] = np.random.multivariate_normal(mean = [1,0],cov=[[0.1,0],[0,0.1]],size=sum(idx[5]))\n",
        "x[idx[6],:] = np.random.multivariate_normal(mean = [0,-1],cov=[[0.1,0],[0,0.1]],size=sum(idx[6]))\n",
        "x[idx[7],:] = np.random.multivariate_normal(mean = [0,0],cov=[[0.1,0],[0,0.1]],size=sum(idx[7]))\n",
        "x[idx[8],:] = np.random.multivariate_normal(mean = [-0.5,-0.5],cov=[[0.1,0],[0,0.1]],size=sum(idx[8]))\n",
        "x[idx[9],:] = np.random.multivariate_normal(mean = [0.4,0.2],cov=[[0.1,0],[0,0.1]],size=sum(idx[9]))"
      ],
      "execution_count": 71,
      "outputs": []
    },
    {
      "cell_type": "code",
      "metadata": {
        "colab": {
          "base_uri": "https://localhost:8080/"
        },
        "id": "qh1mDScsU07I",
        "outputId": "2f29cc70-cd03-496e-f6a7-e33ddf3c0979"
      },
      "source": [
        "x[idx[0]][0], x[idx[5]][5] "
      ],
      "execution_count": 72,
      "outputs": [
        {
          "output_type": "execute_result",
          "data": {
            "text/plain": [
              "(array([5.14957125, 4.78451422]), array([0.87756167, 0.00457805]))"
            ]
          },
          "metadata": {},
          "execution_count": 72
        }
      ]
    },
    {
      "cell_type": "code",
      "metadata": {
        "colab": {
          "base_uri": "https://localhost:8080/",
          "height": 284
        },
        "id": "hJ8Jm7YUr0St",
        "outputId": "9eeb7e3b-2f17-475c-c35f-a84131af9cb6"
      },
      "source": [
        "for i in range(10):\n",
        "    plt.scatter(x[idx[i],0],x[idx[i],1],label=\"class_\"+str(i))\n",
        "plt.legend(loc='center left', bbox_to_anchor=(1, 0.5))"
      ],
      "execution_count": 73,
      "outputs": [
        {
          "output_type": "execute_result",
          "data": {
            "text/plain": [
              "<matplotlib.legend.Legend at 0x7f4fe35ed210>"
            ]
          },
          "metadata": {},
          "execution_count": 73
        },
        {
          "output_type": "display_data",
          "data": {
            "image/png": "[encoded data removed]",
            "text/plain": [
              "<Figure size 432x288 with 1 Axes>"
            ]
          },
          "metadata": {
            "needs_background": "light"
          }
        }
      ]
    },
    {
      "cell_type": "code",
      "metadata": {
        "colab": {
          "base_uri": "https://localhost:8080/"
        },
        "id": "3lMBZEHNBlF2",
        "outputId": "176b53df-9aea-46fa-f239-e1428f955f54"
      },
      "source": [
        "bg_idx = [ np.where(idx[3] == True)[0], \n",
        "          np.where(idx[4] == True)[0], \n",
        "          np.where(idx[5] == True)[0],\n",
        "          np.where(idx[6] == True)[0], \n",
        "          np.where(idx[7] == True)[0], \n",
        "          np.where(idx[8] == True)[0],\n",
        "          np.where(idx[9] == True)[0]]\n",
        "\n",
        "bg_idx = np.concatenate(bg_idx, axis = 0)\n",
        "bg_idx.shape"
      ],
      "execution_count": 74,
      "outputs": [
        {
          "output_type": "execute_result",
          "data": {
            "text/plain": [
              "(3513,)"
            ]
          },
          "metadata": {},
          "execution_count": 74
        }
      ]
    },
    {
      "cell_type": "code",
      "metadata": {
        "colab": {
          "base_uri": "https://localhost:8080/"
        },
        "id": "blRbGZHeCwXU",
        "outputId": "b2f77112-2ad8-4890-c12d-d718df4d5461"
      },
      "source": [
        "np.unique(bg_idx).shape"
      ],
      "execution_count": 75,
      "outputs": [
        {
          "output_type": "execute_result",
          "data": {
            "text/plain": [
              "(3513,)"
            ]
          },
          "metadata": {},
          "execution_count": 75
        }
      ]
    },
    {
      "cell_type": "code",
      "metadata": {
        "id": "Y43sWeX7C15F"
      },
      "source": [
        "x = x - np.mean(x[bg_idx], axis = 0, keepdims = True)\n"
      ],
      "execution_count": 76,
      "outputs": []
    },
    {
      "cell_type": "code",
      "metadata": {
        "colab": {
          "base_uri": "https://localhost:8080/"
        },
        "id": "ooII7N6UDWe0",
        "outputId": "c24fc72b-f940-4230-9f34-bb5d3b8b2002"
      },
      "source": [
        "np.mean(x[bg_idx], axis = 0, keepdims = True), np.mean(x, axis = 0, keepdims = True)"
      ],
      "execution_count": 77,
      "outputs": [
        {
          "output_type": "execute_result",
          "data": {
            "text/plain": [
              "(array([[-1.04275003e-16,  6.74571889e-17]]),\n",
              " array([[1.63261967, 1.69552644]]))"
            ]
          },
          "metadata": {},
          "execution_count": 77
        }
      ]
    },
    {
      "cell_type": "code",
      "metadata": {
        "id": "g21bvPRYDL9k"
      },
      "source": [
        "x = x/np.std(x[bg_idx], axis = 0, keepdims = True)"
      ],
      "execution_count": 78,
      "outputs": []
    },
    {
      "cell_type": "code",
      "metadata": {
        "colab": {
          "base_uri": "https://localhost:8080/"
        },
        "id": "GtFvIeHsDZJk",
        "outputId": "49ac74a6-8adf-434c-97b6-bdf488a87796"
      },
      "source": [
        "np.std(x[bg_idx], axis = 0, keepdims = True), np.std(x, axis = 0, keepdims = True)"
      ],
      "execution_count": 79,
      "outputs": [
        {
          "output_type": "execute_result",
          "data": {
            "text/plain": [
              "(array([[1., 1.]]), array([[3.93071885, 3.03840862]]))"
            ]
          },
          "metadata": {},
          "execution_count": 79
        }
      ]
    },
    {
      "cell_type": "code",
      "metadata": {
        "colab": {
          "base_uri": "https://localhost:8080/",
          "height": 284
        },
        "id": "8-VLhUfDDeHt",
        "outputId": "b5278bef-bd76-44b5-8d41-6b1a4f80b623"
      },
      "source": [
        "for i in range(10):\n",
        "    plt.scatter(x[idx[i],0],x[idx[i],1],label=\"class_\"+str(i))\n",
        "plt.legend(loc='center left', bbox_to_anchor=(1, 0.5))"
      ],
      "execution_count": 80,
      "outputs": [
        {
          "output_type": "execute_result",
          "data": {
            "text/plain": [
              "<matplotlib.legend.Legend at 0x7f4fe28a1c10>"
            ]
          },
          "metadata": {},
          "execution_count": 80
        },
        {
          "output_type": "display_data",
          "data": {
            "image/png": "[encoded data removed]",
            "text/plain": [
              "<Figure size 432x288 with 1 Axes>"
            ]
          },
          "metadata": {
            "needs_background": "light"
          }
        }
      ]
    },
    {
      "cell_type": "code",
      "metadata": {
        "id": "UfFHcZJOr0Sz"
      },
      "source": [
        "foreground_classes = {'class_0','class_1', 'class_2'}\n",
        "\n",
        "background_classes = {'class_3','class_4', 'class_5', 'class_6','class_7', 'class_8', 'class_9'}"
      ],
      "execution_count": 81,
      "outputs": []
    },
    {
      "cell_type": "code",
      "metadata": {
        "colab": {
          "base_uri": "https://localhost:8080/"
        },
        "id": "OplNpNQVr0S2",
        "outputId": "5448590a-ec9e-4a58-f517-01bee396696e"
      },
      "source": [
        "fg_class  = np.random.randint(0,3)\n",
        "fg_idx = np.random.randint(0,m)\n",
        "train_data=[]\n",
        "a = []\n",
        "fg_instance = np.array([[0.0,0.0]])\n",
        "bg_instance = np.array([[0.0,0.0]])\n",
        "\n",
        "for i in range(m):\n",
        "  if i == fg_idx:\n",
        "    b = np.random.choice(np.where(idx[fg_class]==True)[0],size=1)\n",
        "    fg_instance += x[b]\n",
        "    a.append(x[b])\n",
        "    print(\"foreground \"+str(fg_class)+\" present at \" + str(fg_idx))\n",
        "  else:\n",
        "    bg_class = np.random.randint(3,10)\n",
        "    b = np.random.choice(np.where(idx[bg_class]==True)[0],size=1)\n",
        "    bg_instance += x[b]\n",
        "    a.append(x[b])\n",
        "    print(\"background \"+str(bg_class)+\" present at \" + str(i))\n",
        "\n",
        "a = np.concatenate(a,axis=0)\n",
        "print(a.shape)\n",
        "\n",
        "print(fg_class , fg_idx)"
      ],
      "execution_count": 82,
      "outputs": [
        {
          "output_type": "stream",
          "name": "stdout",
          "text": [
            "background 3 present at 0\n",
            "background 8 present at 1\n",
            "background 5 present at 2\n",
            "background 3 present at 3\n",
            "background 5 present at 4\n",
            "background 7 present at 5\n",
            "background 6 present at 6\n",
            "background 5 present at 7\n",
            "background 3 present at 8\n",
            "background 5 present at 9\n",
            "background 4 present at 10\n",
            "background 7 present at 11\n",
            "background 4 present at 12\n",
            "background 3 present at 13\n",
            "background 9 present at 14\n",
            "background 6 present at 15\n",
            "background 6 present at 16\n",
            "background 3 present at 17\n",
            "background 3 present at 18\n",
            "background 5 present at 19\n",
            "background 4 present at 20\n",
            "background 4 present at 21\n",
            "background 9 present at 22\n",
            "background 8 present at 23\n",
            "background 3 present at 24\n",
            "background 7 present at 25\n",
            "background 6 present at 26\n",
            "background 8 present at 27\n",
            "background 3 present at 28\n",
            "background 7 present at 29\n",
            "background 8 present at 30\n",
            "background 7 present at 31\n",
            "background 7 present at 32\n",
            "background 5 present at 33\n",
            "background 9 present at 34\n",
            "background 6 present at 35\n",
            "background 4 present at 36\n",
            "background 7 present at 37\n",
            "background 6 present at 38\n",
            "background 3 present at 39\n",
            "background 4 present at 40\n",
            "background 3 present at 41\n",
            "background 4 present at 42\n",
            "background 7 present at 43\n",
            "background 6 present at 44\n",
            "background 5 present at 45\n",
            "background 8 present at 46\n",
            "background 8 present at 47\n",
            "background 7 present at 48\n",
            "background 3 present at 49\n",
            "background 7 present at 50\n",
            "background 7 present at 51\n",
            "background 6 present at 52\n",
            "background 4 present at 53\n",
            "background 3 present at 54\n",
            "background 6 present at 55\n",
            "background 3 present at 56\n",
            "background 8 present at 57\n",
            "background 8 present at 58\n",
            "background 4 present at 59\n",
            "background 7 present at 60\n",
            "background 8 present at 61\n",
            "background 5 present at 62\n",
            "background 8 present at 63\n",
            "background 6 present at 64\n",
            "background 9 present at 65\n",
            "background 6 present at 66\n",
            "background 3 present at 67\n",
            "background 6 present at 68\n",
            "background 3 present at 69\n",
            "background 7 present at 70\n",
            "background 5 present at 71\n",
            "background 9 present at 72\n",
            "background 6 present at 73\n",
            "background 7 present at 74\n",
            "background 5 present at 75\n",
            "background 6 present at 76\n",
            "background 4 present at 77\n",
            "background 6 present at 78\n",
            "background 7 present at 79\n",
            "background 4 present at 80\n",
            "background 3 present at 81\n",
            "foreground 2 present at 82\n",
            "background 4 present at 83\n",
            "background 6 present at 84\n",
            "background 7 present at 85\n",
            "background 3 present at 86\n",
            "background 6 present at 87\n",
            "background 3 present at 88\n",
            "background 4 present at 89\n",
            "background 3 present at 90\n",
            "background 4 present at 91\n",
            "background 3 present at 92\n",
            "background 5 present at 93\n",
            "background 5 present at 94\n",
            "background 7 present at 95\n",
            "background 9 present at 96\n",
            "background 6 present at 97\n",
            "background 6 present at 98\n",
            "background 8 present at 99\n",
            "(100, 2)\n",
            "2 82\n"
          ]
        }
      ]
    },
    {
      "cell_type": "code",
      "metadata": {
        "colab": {
          "base_uri": "https://localhost:8080/"
        },
        "id": "Rx6cMmR3baVf",
        "outputId": "cdfbafe2-39fc-4433-9506-56bda40ee210"
      },
      "source": [
        "a"
      ],
      "execution_count": 83,
      "outputs": [
        {
          "output_type": "execute_result",
          "data": {
            "text/plain": [
              "array([[-1.62273068e+00, -9.44577073e-01],\n",
              "       [-8.22962717e-01, -7.32521912e-01],\n",
              "       [ 2.09728368e+00, -2.44651323e-01],\n",
              "       [-9.86087689e-01, -7.51232458e-01],\n",
              "       [ 1.37297554e+00, -3.76733075e-01],\n",
              "       [-8.84692079e-01, -1.11551995e-01],\n",
              "       [ 3.23086410e-01, -1.23774128e+00],\n",
              "       [ 1.37297554e+00, -3.76733075e-01],\n",
              "       [-1.37994224e+00, -1.86927689e-02],\n",
              "       [ 1.18729176e+00, -1.43385686e-01],\n",
              "       [ 1.08414750e+00,  2.21424613e+00],\n",
              "       [ 3.07773579e-01,  5.11134472e-01],\n",
              "       [-5.80062748e-01,  2.56861924e+00],\n",
              "       [-1.57480355e+00,  1.37864198e-01],\n",
              "       [ 8.78834768e-01, -3.18178197e-01],\n",
              "       [ 5.58625839e-02, -1.37825691e+00],\n",
              "       [ 3.52658712e-01, -1.71500720e+00],\n",
              "       [-7.59374170e-01, -4.37189615e-03],\n",
              "       [-2.04596416e+00, -2.96574324e-01],\n",
              "       [ 6.67601921e-01,  3.81413021e-01],\n",
              "       [ 4.32964750e-01,  1.79447667e+00],\n",
              "       [ 5.77182460e-01,  2.12761839e+00],\n",
              "       [ 4.81571501e-01, -1.77495772e-01],\n",
              "       [-9.01757410e-01, -6.53914167e-01],\n",
              "       [-1.05809662e+00, -2.96003187e-01],\n",
              "       [-9.64224116e-02, -1.02062394e-01],\n",
              "       [-3.51025475e-01, -1.43245892e+00],\n",
              "       [-7.86494960e-01, -6.96928923e-01],\n",
              "       [-1.78563283e+00, -2.97788754e-01],\n",
              "       [-2.91612592e-02, -8.20240457e-01],\n",
              "       [-1.36322898e+00, -1.17531631e+00],\n",
              "       [-7.28928821e-01, -2.00888740e-01],\n",
              "       [ 1.32681142e+00, -2.74341506e-01],\n",
              "       [ 2.21086140e+00, -4.46459278e-01],\n",
              "       [ 1.07505767e+00,  7.08825917e-02],\n",
              "       [-3.58854571e-02, -1.00480957e+00],\n",
              "       [-3.17975403e-01,  2.26776033e+00],\n",
              "       [ 4.32767080e-01,  1.64016979e-01],\n",
              "       [ 3.05304464e-01, -1.41095178e+00],\n",
              "       [-1.57167801e+00, -2.15455107e-01],\n",
              "       [ 1.65618250e-01,  2.34096180e+00],\n",
              "       [-1.76753678e+00, -3.71998306e-01],\n",
              "       [ 7.40531478e-01,  2.93223156e+00],\n",
              "       [ 2.24896506e-01, -1.96101846e-01],\n",
              "       [ 4.18092096e-01, -9.94536492e-01],\n",
              "       [ 1.37861110e+00, -5.40275314e-01],\n",
              "       [-1.30672456e+00, -8.16503116e-01],\n",
              "       [-4.44657777e-01, -8.22773150e-01],\n",
              "       [-5.49469370e-02,  2.75241692e-01],\n",
              "       [-1.72600806e+00, -3.41770538e-01],\n",
              "       [-1.01222748e-01, -6.04064183e-01],\n",
              "       [ 6.16491513e-01,  1.27586905e-01],\n",
              "       [ 1.67964862e-01, -7.09359803e-01],\n",
              "       [ 1.02651061e+00,  2.14150790e+00],\n",
              "       [-1.21775631e+00, -7.16974055e-02],\n",
              "       [-7.12909825e-01, -1.23765294e+00],\n",
              "       [-1.34572194e+00,  2.21321434e-01],\n",
              "       [-6.10886116e-01, -4.80010535e-01],\n",
              "       [-6.74248734e-01, -8.72847231e-01],\n",
              "       [-5.64662439e-01,  2.31680967e+00],\n",
              "       [-1.44915919e-01, -3.20870253e-01],\n",
              "       [-8.84312693e-01, -6.25599566e-01],\n",
              "       [ 1.52489136e+00,  2.63127792e-02],\n",
              "       [-7.92128161e-01, -5.45112852e-01],\n",
              "       [ 1.27970573e-01, -1.14855190e+00],\n",
              "       [ 8.59813895e-01, -3.67608121e-01],\n",
              "       [-9.39856356e-02, -4.65375966e-01],\n",
              "       [-1.50036085e+00, -1.06988238e-01],\n",
              "       [-7.41694481e-01, -1.11564667e+00],\n",
              "       [-1.56287722e+00,  6.05328543e-02],\n",
              "       [-1.06388916e+00, -1.58012961e-01],\n",
              "       [ 2.61769821e+00,  3.76482710e-01],\n",
              "       [ 7.20750412e-01, -1.25938217e-01],\n",
              "       [-5.51467739e-02, -1.09701273e+00],\n",
              "       [-3.21420942e-01,  4.12020452e-02],\n",
              "       [ 9.69369557e-01, -2.55073260e-01],\n",
              "       [ 2.26230296e-01, -9.79478646e-01],\n",
              "       [-4.42583467e-01,  2.03331831e+00],\n",
              "       [ 1.73975532e-01, -1.01291610e+00],\n",
              "       [ 3.28419291e-01, -2.63913358e-01],\n",
              "       [ 6.77182351e-02,  2.31384142e+00],\n",
              "       [-1.76489389e+00, -2.42244483e-01],\n",
              "       [ 8.11885190e+00,  6.93831227e+00],\n",
              "       [ 8.13075928e-01,  2.35518496e+00],\n",
              "       [ 1.21334728e+00, -1.27332532e+00],\n",
              "       [ 2.70745155e-02,  6.08602622e-01],\n",
              "       [-1.54110299e+00,  1.49389444e-01],\n",
              "       [-4.17955611e-01, -8.20317805e-01],\n",
              "       [-3.22047527e-01, -7.25343701e-01],\n",
              "       [-2.50370275e-01,  2.24995799e+00],\n",
              "       [-3.22047527e-01, -7.25343701e-01],\n",
              "       [ 1.08414750e+00,  2.21424613e+00],\n",
              "       [-1.49347717e+00, -9.45644637e-02],\n",
              "       [ 1.28523668e+00,  2.07231324e-01],\n",
              "       [ 1.48811544e+00, -1.77627931e-01],\n",
              "       [-1.40237805e-02, -6.34840722e-01],\n",
              "       [ 8.24353950e-01,  3.57656156e-01],\n",
              "       [ 2.23201058e-01, -8.23635331e-01],\n",
              "       [ 1.16661925e-01, -1.18815427e+00],\n",
              "       [-9.27831149e-01, -1.10239133e+00]])"
            ]
          },
          "metadata": {},
          "execution_count": 83
        }
      ]
    },
    {
      "cell_type": "code",
      "metadata": {
        "colab": {
          "base_uri": "https://localhost:8080/"
        },
        "id": "dEdaFZPQhc7D",
        "outputId": "78b19967-e282-4a50-ed03-58231ea63b96"
      },
      "source": [
        "fg_instance"
      ],
      "execution_count": 84,
      "outputs": [
        {
          "output_type": "execute_result",
          "data": {
            "text/plain": [
              "array([[8.1188519 , 6.93831227]])"
            ]
          },
          "metadata": {},
          "execution_count": 84
        }
      ]
    },
    {
      "cell_type": "code",
      "metadata": {
        "colab": {
          "base_uri": "https://localhost:8080/"
        },
        "id": "IqdAVbG1hftM",
        "outputId": "09248eae-544c-4a41-8264-d2061347d7e1"
      },
      "source": [
        "bg_instance"
      ],
      "execution_count": 85,
      "outputs": [
        {
          "output_type": "execute_result",
          "data": {
            "text/plain": [
              "array([[-8.89347431, -6.72315107]])"
            ]
          },
          "metadata": {},
          "execution_count": 85
        }
      ]
    },
    {
      "cell_type": "code",
      "metadata": {
        "colab": {
          "base_uri": "https://localhost:8080/"
        },
        "id": "Ho98SSXEhx6L",
        "outputId": "a0221ac5-0441-4462-9fc6-37edbdf15ba3"
      },
      "source": [
        "(fg_instance+bg_instance)/m , m"
      ],
      "execution_count": 86,
      "outputs": [
        {
          "output_type": "execute_result",
          "data": {
            "text/plain": [
              "(array([[-0.00774622,  0.00215161]]), 100)"
            ]
          },
          "metadata": {},
          "execution_count": 86
        }
      ]
    },
    {
      "cell_type": "code",
      "metadata": {
        "id": "jqbvfbwVr0TN"
      },
      "source": [
        "# mosaic_list_of_images =[]\n",
        "# mosaic_label = []\n",
        "train_label=[]\n",
        "fore_idx=[]\n",
        "train_data = []\n",
        "for j in range(train_size):\n",
        "  np.random.seed(j)\n",
        "  fg_instance = torch.zeros([2], dtype=torch.float64) #np.array([[0.0,0.0]])\n",
        "  bg_instance = torch.zeros([2], dtype=torch.float64) #np.array([[0.0,0.0]])\n",
        "  # a=[]\n",
        "\n",
        "  for i in range(m):\n",
        "    if i == fg_idx:\n",
        "      fg_class  = np.random.randint(0,3)\n",
        "      b = np.random.choice(np.where(idx[fg_class]==True)[0],size=1)\n",
        "      fg_instance += x[b]\n",
        "      # a.append(x[b])\n",
        "      # print(\"foreground \"+str(fg_class)+\" present at \" + str(fg_idx))\n",
        "    else:\n",
        "      bg_class = np.random.randint(3,10)\n",
        "      b = np.random.choice(np.where(idx[bg_class]==True)[0],size=1)\n",
        "      bg_instance += x[b]\n",
        "      # a.append(x[b])\n",
        "      # print(\"background \"+str(bg_class)+\" present at \" + str(i))\n",
        "  train_data.append((fg_instance+bg_instance)/m)\n",
        "  # a = np.concatenate(a,axis=0)\n",
        "  # mosaic_list_of_images.append(np.reshape(a,(2*m,1)))\n",
        "  train_label.append(fg_class)\n",
        "  fore_idx.append(fg_idx)"
      ],
      "execution_count": 87,
      "outputs": []
    },
    {
      "cell_type": "code",
      "metadata": {
        "colab": {
          "base_uri": "https://localhost:8080/"
        },
        "id": "X_g6lxkVjN0N",
        "outputId": "74242c68-e29a-4def-e169-702396269634"
      },
      "source": [
        " train_data[0], train_label[0]"
      ],
      "execution_count": 88,
      "outputs": [
        {
          "output_type": "execute_result",
          "data": {
            "text/plain": [
              "(tensor([[-0.1011, -0.0514]], dtype=torch.float64), 0)"
            ]
          },
          "metadata": {},
          "execution_count": 88
        }
      ]
    },
    {
      "cell_type": "code",
      "metadata": {
        "colab": {
          "base_uri": "https://localhost:8080/"
        },
        "id": "Tz5wQCevobYr",
        "outputId": "0e30e7c4-f854-4cf9-f234-ea50188ac607"
      },
      "source": [
        "train_data = torch.stack(train_data, axis=0)\n",
        "train_data.shape, len(train_label)"
      ],
      "execution_count": 89,
      "outputs": [
        {
          "output_type": "execute_result",
          "data": {
            "text/plain": [
              "(torch.Size([2000, 1, 2]), 2000)"
            ]
          },
          "metadata": {},
          "execution_count": 89
        }
      ]
    },
    {
      "cell_type": "code",
      "metadata": {
        "id": "CVAlImGYA49A"
      },
      "source": [
        "test_label=[]\n",
        "# fore_idx=[]\n",
        "test_data = []\n",
        "for j in range(1000):\n",
        "  np.random.seed(j)\n",
        "  fg_instance = torch.zeros([2], dtype=torch.float64) #np.array([[0.0,0.0]])\n",
        "\n",
        "  fg_class  = np.random.randint(0,3)\n",
        "  b = np.random.choice(np.where(idx[fg_class]==True)[0],size=1)\n",
        "  fg_instance += x[b]\n",
        "  # a.append(x[b])\n",
        "  # print(\"foreground \"+str(fg_class)+\" present at \" + str(fg_idx))\n",
        "\n",
        "  test_data.append((fg_instance)/m)\n",
        "  # a = np.concatenate(a,axis=0)\n",
        "  # mosaic_list_of_images.append(np.reshape(a,(2*m,1)))\n",
        "  test_label.append(fg_class)\n",
        "  # fore_idx.append(fg_idx)"
      ],
      "execution_count": 90,
      "outputs": []
    },
    {
      "cell_type": "code",
      "metadata": {
        "colab": {
          "base_uri": "https://localhost:8080/"
        },
        "id": "XltBz3__BT_C",
        "outputId": "50372e3b-1120-49d3-9823-86cebce3a907"
      },
      "source": [
        "test_data[0], test_label[0]"
      ],
      "execution_count": 91,
      "outputs": [
        {
          "output_type": "execute_result",
          "data": {
            "text/plain": [
              "(tensor([[0.0810, 0.0503]], dtype=torch.float64), 0)"
            ]
          },
          "metadata": {},
          "execution_count": 91
        }
      ]
    },
    {
      "cell_type": "code",
      "metadata": {
        "colab": {
          "base_uri": "https://localhost:8080/"
        },
        "id": "JqQfjkCnBX8E",
        "outputId": "ec9ad128-2c39-4ace-8037-115032ad1bc9"
      },
      "source": [
        "test_data = torch.stack(test_data, axis=0)\n",
        "test_data.shape, len(test_label)"
      ],
      "execution_count": 92,
      "outputs": [
        {
          "output_type": "execute_result",
          "data": {
            "text/plain": [
              "(torch.Size([1000, 1, 2]), 1000)"
            ]
          },
          "metadata": {},
          "execution_count": 92
        }
      ]
    },
    {
      "cell_type": "code",
      "metadata": {
        "id": "nQhRf1ICBvW6"
      },
      "source": [
        "x1 = (train_data).numpy()\n",
        "y1 = np.array(train_label)"
      ],
      "execution_count": 93,
      "outputs": []
    },
    {
      "cell_type": "code",
      "metadata": {
        "colab": {
          "base_uri": "https://localhost:8080/"
        },
        "id": "vDAz96DSCXn5",
        "outputId": "2cefb029-a652-4c7f-c477-4ce5af79b661"
      },
      "source": [
        "x1[y1==0,0]"
      ],
      "execution_count": 94,
      "outputs": [
        {
          "output_type": "execute_result",
          "data": {
            "text/plain": [
              "array([[-0.10106794, -0.05139476],\n",
              "       [ 0.09119981, -0.0235799 ],\n",
              "       [ 0.10318705,  0.14053913],\n",
              "       ...,\n",
              "       [ 0.1612359 ,  0.13295548],\n",
              "       [-0.03621168,  0.0359176 ],\n",
              "       [ 0.22708187,  0.08226923]])"
            ]
          },
          "metadata": {},
          "execution_count": 94
        }
      ]
    },
    {
      "cell_type": "code",
      "metadata": {
        "colab": {
          "base_uri": "https://localhost:8080/"
        },
        "id": "kMwwZhv7Bv1U",
        "outputId": "0ecddf5a-767d-4599-cb5a-84302bc8277d"
      },
      "source": [
        "x1[y1==0,0][:,0]"
      ],
      "execution_count": 95,
      "outputs": [
        {
          "output_type": "execute_result",
          "data": {
            "text/plain": [
              "array([-1.01067937e-01,  9.11998058e-02,  1.03187048e-01,  1.80239393e-01,\n",
              "        1.25800702e-01,  2.08333823e-02,  6.94751545e-02,  1.08003588e-01,\n",
              "        1.49189269e-01,  5.97076523e-02, -5.32469301e-02,  7.05038454e-02,\n",
              "        3.42139054e-01,  1.57258014e-01,  1.20120456e-01, -1.19167721e-02,\n",
              "        2.24352683e-01,  8.35342192e-02,  2.92894460e-01,  5.24405602e-02,\n",
              "        1.50447924e-01,  1.10994819e-01, -1.45358575e-01,  2.40664570e-01,\n",
              "        1.23968749e-01,  2.12320294e-01,  9.99104718e-02,  1.26994829e-01,\n",
              "        1.17166264e-01,  1.74145835e-01,  8.41862652e-02,  1.99353537e-02,\n",
              "        9.99608491e-02,  4.70986203e-02,  4.60059103e-03,  5.01445888e-02,\n",
              "        2.20670622e-01,  2.27145429e-01,  1.02185365e-01, -6.81541363e-03,\n",
              "        3.59596197e-02,  2.99979188e-02,  2.45175100e-01, -1.13838196e-01,\n",
              "       -1.86025124e-02,  2.49296876e-01,  1.86284743e-01, -3.37331771e-03,\n",
              "        5.62632680e-02, -8.53345667e-02,  1.46542413e-01,  1.01203458e-01,\n",
              "        3.47809513e-02, -1.08581214e-01,  6.38872420e-02, -1.11744006e-01,\n",
              "        1.74726850e-02, -2.34555562e-02,  3.09202924e-01,  9.35550031e-02,\n",
              "       -1.13137428e-02, -3.42638331e-02, -5.31042751e-02,  9.33838541e-02,\n",
              "       -3.67154723e-02,  1.73076878e-01,  4.63434117e-02,  2.29019514e-01,\n",
              "        2.48867476e-01,  9.11924715e-02, -7.18462956e-02, -7.39128735e-02,\n",
              "        1.27976861e-01, -1.69576864e-03,  6.72555410e-02,  5.93142226e-02,\n",
              "        7.96203085e-02,  2.09054915e-01,  6.71753554e-02,  2.53905305e-01,\n",
              "       -8.15037451e-02,  1.22945308e-01,  1.53610499e-01,  2.16682793e-01,\n",
              "        1.98970910e-02, -3.15900124e-02,  1.04204526e-02,  9.31357600e-02,\n",
              "        1.96472023e-01,  6.83966964e-02,  2.09850918e-01,  1.46191522e-01,\n",
              "        2.03123346e-01,  2.91494606e-02,  1.03083813e-01,  2.24105831e-01,\n",
              "        2.58230591e-01,  1.37079985e-01,  1.86484233e-01,  1.11106643e-01,\n",
              "        3.88850824e-03,  7.71653885e-02, -1.52678463e-02,  3.68979001e-02,\n",
              "        3.76384201e-02, -7.18816923e-02,  3.70372966e-02, -1.72344559e-01,\n",
              "        1.60636541e-01,  1.83047460e-01,  5.33075853e-02,  4.97649263e-02,\n",
              "       -1.39893493e-04,  2.88340086e-01,  1.87002555e-01,  1.20989515e-02,\n",
              "        3.57166397e-02,  1.29264429e-01,  1.05740389e-01,  6.57868499e-02,\n",
              "        1.66930326e-01,  1.88980994e-01, -3.38551965e-02,  3.34459856e-02,\n",
              "        3.56172204e-01,  1.19879635e-01,  2.10373765e-01,  1.12286416e-01,\n",
              "        1.18930454e-01,  1.61921980e-01,  1.72973548e-01,  1.46280195e-01,\n",
              "        1.57678068e-01,  1.39453574e-01,  8.05079921e-02,  2.20956010e-01,\n",
              "        1.62294761e-01,  1.23378789e-01, -4.93187410e-03, -4.91506511e-02,\n",
              "        1.21235899e-01, -2.56876905e-02, -4.29137675e-03,  2.20131535e-02,\n",
              "        7.32850240e-02,  1.38862197e-01,  9.74429903e-02,  5.87456391e-02,\n",
              "       -5.45890977e-02,  5.01847407e-02,  1.94010213e-01,  1.76170641e-01,\n",
              "        3.44155998e-02,  1.06881436e-01,  2.85547098e-02,  1.26407426e-01,\n",
              "        1.44990881e-01,  6.50130610e-02,  1.23724875e-01,  5.50038205e-02,\n",
              "        1.94679674e-02,  1.02039748e-01,  1.33598017e-01,  1.51237377e-02,\n",
              "        1.21315668e-01,  5.87774135e-02, -1.07112473e-01,  1.66665778e-01,\n",
              "       -1.07794437e-01, -6.87914026e-02,  5.76111538e-03,  2.46928717e-01,\n",
              "        1.69575918e-01,  1.24018494e-01,  2.78337732e-01,  2.43722687e-02,\n",
              "        1.81894663e-01,  2.09706791e-01,  5.19511313e-02,  4.29153481e-03,\n",
              "       -4.89128317e-02,  3.56056809e-02,  1.26553543e-01,  2.66322096e-01,\n",
              "        9.63098387e-02,  1.06087302e-01,  7.58655858e-02, -9.57681852e-02,\n",
              "       -4.48352403e-03, -2.60283509e-02,  7.41624792e-02, -7.69063718e-02,\n",
              "        1.56440718e-01,  2.30793179e-01,  1.61572519e-01,  2.02067436e-01,\n",
              "        2.13004354e-02, -5.36159308e-02,  7.66316842e-03,  2.62814818e-01,\n",
              "       -1.16438287e-01,  1.24660291e-01,  4.33475076e-02,  2.10833434e-01,\n",
              "        1.08004458e-01,  1.59462572e-01,  7.81664569e-02,  1.17746615e-01,\n",
              "        5.07322825e-02,  1.61679953e-04,  7.45840635e-02, -2.94682837e-02,\n",
              "       -1.24032160e-02,  8.69858480e-02, -5.14119949e-02,  2.19201494e-02,\n",
              "        1.59367194e-01,  2.67411906e-01,  1.88940186e-01,  1.81005499e-01,\n",
              "       -8.27421584e-02,  2.40379332e-01,  8.05744144e-02,  6.32886006e-02,\n",
              "        7.50375301e-02,  9.97172610e-02,  3.71656384e-02,  1.14365398e-01,\n",
              "       -1.36146575e-01,  1.00674643e-01,  1.43548569e-01,  1.20009874e-01,\n",
              "        3.12054269e-02,  2.82952115e-02,  9.18006609e-02,  8.99850057e-02,\n",
              "        1.24864503e-02,  1.37953038e-01, -2.12852352e-02, -1.30657242e-03,\n",
              "        2.69726952e-02,  1.58331710e-01,  5.55867628e-02,  1.35668160e-01,\n",
              "        6.90382791e-02, -5.10795968e-02,  6.24201770e-02,  9.88321620e-03,\n",
              "        1.99241844e-01, -8.21370391e-03, -7.13536281e-02,  2.09458930e-01,\n",
              "        1.04814513e-01,  8.55102461e-02,  7.00785968e-02,  1.63337090e-01,\n",
              "        9.37018579e-02,  2.75567508e-01,  2.18863669e-01,  1.50541603e-01,\n",
              "        2.26594554e-01, -5.33260227e-02,  2.21201978e-01, -2.98274236e-02,\n",
              "        1.37857103e-01,  1.57794831e-01,  5.34083158e-02,  2.43590262e-02,\n",
              "        1.89278315e-01,  4.16667695e-02,  4.95194086e-02, -3.31845188e-02,\n",
              "        4.76421172e-02,  1.24908716e-01,  1.52578973e-01,  7.81789129e-02,\n",
              "        1.80929210e-01,  2.17241143e-01,  2.51743454e-01,  9.91897226e-02,\n",
              "        2.87611129e-02,  2.47742508e-01,  2.12755223e-01,  2.51939917e-01,\n",
              "        1.77549597e-01,  2.42825575e-01, -1.36038491e-01,  2.53020924e-01,\n",
              "        1.24956318e-01,  2.41098577e-01,  1.64265879e-01,  9.52418766e-03,\n",
              "        6.72113948e-02, -8.53079816e-02,  1.31656189e-01,  6.48566126e-02,\n",
              "       -1.03687811e-01,  1.37712826e-01,  1.30727249e-01,  1.14485809e-01,\n",
              "       -6.47227816e-02,  1.66519616e-01,  1.33935395e-01, -4.78839355e-02,\n",
              "        1.13532521e-01,  1.56230984e-01,  1.10817735e-01,  1.14130835e-01,\n",
              "       -1.04977390e-01, -9.85327832e-02,  1.84285462e-02,  1.09742662e-02,\n",
              "        4.18729601e-03,  1.46238421e-01,  1.29080962e-03,  8.92489284e-02,\n",
              "        5.01053541e-02,  8.90601180e-02,  8.56639990e-02,  1.91461187e-01,\n",
              "        7.60595592e-02,  7.72991284e-02,  1.52823150e-03,  1.86874247e-01,\n",
              "        2.13121869e-01,  8.88398114e-03,  1.02702659e-01,  1.54034008e-01,\n",
              "       -3.58552053e-02,  1.72123265e-01, -1.38067125e-02,  9.74678024e-02,\n",
              "        1.42017543e-01, -2.29799130e-02,  1.04623765e-01,  1.66271324e-02,\n",
              "        1.21784971e-01, -3.63998859e-02,  3.22964439e-02,  1.08246377e-01,\n",
              "        3.98786399e-02, -1.53515669e-01,  8.76226360e-02,  1.38302160e-01,\n",
              "        4.57167077e-02,  6.75557146e-02,  1.05723820e-01,  2.39016478e-01,\n",
              "        5.99677630e-02, -9.73630619e-02, -2.32783898e-02,  2.02002948e-01,\n",
              "        2.10981904e-01,  2.87503783e-04, -9.01606480e-02,  1.72550485e-01,\n",
              "        1.96379359e-01, -1.02676787e-02,  3.25079984e-02,  9.67450914e-02,\n",
              "        1.07657294e-01, -2.64125930e-02,  1.81006708e-01, -1.58372634e-01,\n",
              "        1.13854886e-01, -8.59776122e-03,  6.96250831e-02,  2.21810521e-01,\n",
              "        1.92331854e-02, -1.06553705e-01, -9.07633374e-02,  8.54704886e-02,\n",
              "        7.99983245e-02,  1.45067689e-01, -6.34211774e-02,  2.17535658e-01,\n",
              "        4.44426527e-02,  2.09265067e-02, -7.46992510e-02,  4.03826949e-02,\n",
              "        1.34748897e-01, -3.53211214e-02, -5.12962046e-02,  5.57682239e-02,\n",
              "        1.84436807e-01, -2.76399803e-02,  6.90193525e-02,  8.29830738e-02,\n",
              "        1.86663569e-01, -1.50160883e-01,  1.95070371e-01,  4.82480718e-02,\n",
              "       -1.11440186e-01, -3.89820817e-03,  1.80409893e-01,  2.49262226e-01,\n",
              "        1.36034793e-01, -4.16348315e-02,  1.43937230e-01,  3.11083134e-01,\n",
              "        1.45216923e-01,  7.98504928e-02, -1.61421069e-01,  1.29343019e-01,\n",
              "        1.61179671e-01,  2.06191892e-01,  5.44907850e-02, -1.31551442e-01,\n",
              "        4.01034942e-01,  8.96684505e-02,  1.07475045e-01, -2.00331789e-02,\n",
              "        9.84190448e-02, -8.55262387e-02,  2.09924666e-03,  1.68091403e-02,\n",
              "        1.12236567e-01,  6.26935530e-03, -8.71631147e-02,  1.18903119e-01,\n",
              "        1.64992860e-01,  8.06116838e-02,  5.09524129e-02,  1.38439452e-01,\n",
              "        1.02620864e-01,  4.52742360e-02,  5.57464589e-02, -5.55205936e-02,\n",
              "        1.21796729e-01, -1.51156103e-01, -2.13047926e-02,  1.23827886e-01,\n",
              "        1.57682370e-01,  9.70845641e-02, -1.48498254e-02,  9.77088551e-02,\n",
              "        7.52478965e-02,  9.42771403e-02, -6.89870752e-02,  2.36728449e-01,\n",
              "        1.08837267e-01, -1.04258805e-01, -9.09343680e-02,  9.92609963e-02,\n",
              "        1.66083873e-01,  2.48196092e-01,  3.19691313e-02,  6.48992409e-02,\n",
              "        9.51431513e-02, -4.71562246e-02,  1.06360490e-01, -4.37269073e-02,\n",
              "        1.80803631e-01,  5.30566239e-02,  2.85227763e-01,  3.08274986e-01,\n",
              "        2.65201812e-01,  2.66387453e-01, -1.17704548e-02,  6.52524336e-02,\n",
              "        8.66165635e-02,  1.02291021e-01,  1.63445792e-01,  2.62190954e-01,\n",
              "        2.64548406e-01,  9.42502471e-02, -4.27070754e-02, -6.59303045e-02,\n",
              "        8.39161732e-02,  3.88224499e-02,  2.17398622e-01,  1.23541097e-02,\n",
              "        1.42825890e-01, -7.36105695e-02,  7.13636853e-02,  1.73540751e-01,\n",
              "        1.08259916e-01, -6.93638316e-02,  5.02086913e-02,  1.65864067e-01,\n",
              "        1.51253331e-02, -4.67388255e-02,  1.99364597e-02,  1.32139224e-01,\n",
              "        5.67706486e-02, -4.57639821e-02,  3.82700880e-02, -9.34763567e-03,\n",
              "        1.43636923e-01, -2.21410280e-03,  1.31772886e-01,  9.49993627e-02,\n",
              "        1.22421494e-01,  3.61180176e-02,  1.30174851e-01,  2.22496269e-01,\n",
              "        2.10240402e-01,  3.29602384e-03,  2.84010232e-02,  3.65275388e-02,\n",
              "        8.69586604e-02,  5.85589587e-02,  3.72148603e-02,  1.38972657e-01,\n",
              "        3.30088800e-02,  4.34325546e-02,  3.06140456e-01, -1.08287190e-02,\n",
              "       -7.40852214e-02,  1.58255492e-01,  1.25544455e-01,  3.81371362e-02,\n",
              "       -1.91588004e-02,  2.09511015e-01,  4.13303815e-02, -7.75755320e-02,\n",
              "        2.57247686e-01,  3.97484245e-02,  1.94024887e-02, -8.93650822e-02,\n",
              "        1.14339278e-01,  6.26372771e-02,  4.22724385e-02,  1.15257243e-01,\n",
              "        4.03142628e-02,  1.27354569e-01,  8.46753162e-02,  1.72368705e-02,\n",
              "        6.42542291e-02, -3.28056924e-02,  1.16077289e-01,  1.54013811e-01,\n",
              "        3.97606887e-02,  5.64943029e-02,  1.30537428e-01,  1.02751031e-01,\n",
              "       -1.16636866e-01, -1.56685399e-02,  1.33865010e-01,  1.46464061e-01,\n",
              "       -4.60237898e-02, -1.69231790e-01,  5.34871674e-02,  2.82757150e-02,\n",
              "        1.08431827e-01,  7.05795870e-02,  1.28898039e-01,  7.91551962e-02,\n",
              "        1.98704392e-01,  1.52318216e-01,  1.10846285e-01,  2.11301154e-01,\n",
              "        1.04371027e-01, -3.57830338e-03,  1.78071174e-01,  1.83816223e-01,\n",
              "        1.98306601e-01,  1.26919666e-01,  9.90051898e-02,  1.71839358e-02,\n",
              "        8.41601954e-02, -6.59662175e-03,  5.77720317e-02,  1.53186208e-01,\n",
              "       -3.09785401e-02,  2.09205407e-01,  1.04047519e-01, -5.19023794e-02,\n",
              "        4.03847599e-02,  1.16754280e-02,  1.13158755e-01,  1.67676320e-01,\n",
              "        6.28537795e-02,  5.51981060e-02,  6.77644495e-02,  1.18481813e-01,\n",
              "       -1.84144841e-03,  1.16734293e-01,  8.15858262e-02,  6.08944730e-02,\n",
              "        6.60035855e-02, -1.19006128e-01,  1.74869763e-01,  8.33061162e-02,\n",
              "       -3.81124071e-02,  7.94359702e-02, -1.07757210e-02,  1.55296259e-01,\n",
              "        5.89685406e-02,  9.63800551e-02,  2.08741084e-01, -4.15596016e-02,\n",
              "       -2.68276787e-02,  1.48251397e-01,  2.27380421e-01,  2.14373333e-01,\n",
              "        1.20584055e-01,  2.31484752e-02,  1.82974631e-01,  1.20297481e-01,\n",
              "        2.04790946e-02,  2.02173089e-01, -4.89175069e-02,  1.05714284e-01,\n",
              "       -1.01155198e-01,  2.93171558e-02, -6.98649792e-02,  7.24840712e-02,\n",
              "        1.56641393e-01,  4.30479963e-02,  9.55401649e-02,  3.10695508e-03,\n",
              "       -1.09732843e-02,  1.26837286e-01, -7.62911409e-02, -1.43888751e-02,\n",
              "        1.95133794e-01, -6.99485259e-02,  1.85453183e-01,  1.18697992e-01,\n",
              "        1.66050657e-01,  8.08597182e-02,  7.39738725e-02,  3.61155623e-02,\n",
              "        1.65512767e-01,  1.15532310e-01,  3.16981549e-02,  1.84405455e-02,\n",
              "        3.42273518e-03,  2.41677778e-01,  5.36995375e-02, -7.57311446e-02,\n",
              "        1.22233050e-01,  4.20709040e-02,  2.39170514e-01,  1.32693051e-01,\n",
              "        1.61235897e-01, -3.62116815e-02,  2.27081872e-01])"
            ]
          },
          "metadata": {},
          "execution_count": 95
        }
      ]
    },
    {
      "cell_type": "code",
      "metadata": {
        "colab": {
          "base_uri": "https://localhost:8080/"
        },
        "id": "ydbu3OV3CYxB",
        "outputId": "5097b2c0-8745-4240-a870-bf3104a7d0f0"
      },
      "source": [
        "x1[y1==0,0][:,1]"
      ],
      "execution_count": 96,
      "outputs": [
        {
          "output_type": "execute_result",
          "data": {
            "text/plain": [
              "array([-0.05139476, -0.0235799 ,  0.14053913,  0.12330775,  0.03594994,\n",
              "        0.13276672, -0.0277256 , -0.04312469,  0.02905967, -0.03484306,\n",
              "        0.10639209,  0.16259528,  0.16477548, -0.2182686 ,  0.08559071,\n",
              "        0.2207018 ,  0.23052146,  0.06898581,  0.11592655,  0.096515  ,\n",
              "        0.17051298, -0.03568187,  0.12558708,  0.07120714,  0.02211069,\n",
              "        0.16531873,  0.07156774, -0.06964851,  0.01055575,  0.05321574,\n",
              "       -0.00798762,  0.11410147,  0.06863012, -0.03292843,  0.1579901 ,\n",
              "        0.11475177,  0.01302778,  0.21390104,  0.3199851 ,  0.15176646,\n",
              "        0.08810625, -0.01396838,  0.10026625,  0.04358589,  0.10624416,\n",
              "        0.01265484,  0.02482629,  0.08715947,  0.04283769, -0.1561547 ,\n",
              "        0.05546531,  0.03987514,  0.26289855, -0.01812929,  0.03081149,\n",
              "        0.02291213,  0.00465124,  0.13123328,  0.0080543 ,  0.08532388,\n",
              "        0.06246146, -0.09857138,  0.12228587,  0.04502998,  0.17687522,\n",
              "        0.04006004, -0.04133825, -0.09350812,  0.04299019,  0.06765322,\n",
              "        0.1449846 ,  0.25579708, -0.04251292, -0.07175633,  0.00403684,\n",
              "        0.17969724, -0.03915854, -0.17462195,  0.00283668,  0.07973347,\n",
              "        0.05050273,  0.19260896,  0.1086577 , -0.02585949,  0.19218083,\n",
              "        0.1474089 ,  0.01487462,  0.22346941, -0.01080932,  0.21312092,\n",
              "        0.2379024 , -0.05051878,  0.06919401, -0.09050859,  0.18845668,\n",
              "        0.09946752, -0.05958654, -0.1408706 ,  0.22348318, -0.0605452 ,\n",
              "       -0.04719355,  0.05012925, -0.07831929,  0.09858866,  0.08433687,\n",
              "       -0.04071672, -0.1507598 , -0.09536233,  0.00262282,  0.13874655,\n",
              "        0.04446649, -0.11108352,  0.13252996,  0.10686101,  0.03041498,\n",
              "        0.08118376, -0.07139284,  0.23467222,  0.02500736, -0.12191061,\n",
              "       -0.12342642,  0.10665527, -0.02985475, -0.00458877,  0.06099755,\n",
              "        0.12512838,  0.09296361, -0.05344672,  0.07172625,  0.01936641,\n",
              "       -0.01583544,  0.04260682,  0.02116853, -0.13816009, -0.0498623 ,\n",
              "        0.09136476,  0.07614546,  0.01090907,  0.19363253, -0.04241838,\n",
              "        0.01643518,  0.01156971,  0.03948357,  0.06638572,  0.10265734,\n",
              "       -0.03234335,  0.05537683,  0.07672615, -0.09324879,  0.15719409,\n",
              "        0.04441371,  0.06357279, -0.03990195, -0.12189653,  0.16611718,\n",
              "        0.04653466,  0.24554142,  0.13368   ,  0.08412817, -0.11175912,\n",
              "        0.0977069 ,  0.09668764,  0.03661827, -0.06106324,  0.0882306 ,\n",
              "        0.12069258,  0.0781888 , -0.0275314 ,  0.00724848,  0.08319705,\n",
              "       -0.04322794,  0.10259383,  0.15073537,  0.17417427,  0.14221961,\n",
              "        0.10325227,  0.13880547,  0.14628818,  0.18947459, -0.0059981 ,\n",
              "       -0.03408313, -0.0247731 , -0.01503199,  0.24545245,  0.04707575,\n",
              "        0.09348901,  0.07832175, -0.04700478, -0.03406895,  0.12544006,\n",
              "        0.27275946,  0.04283089,  0.08193806, -0.04278852,  0.0584339 ,\n",
              "        0.17460926, -0.0902944 ,  0.20249513,  0.03955012,  0.07483662,\n",
              "        0.06410293, -0.13232763,  0.06680353,  0.11962643, -0.05363733,\n",
              "        0.01210762,  0.12570144,  0.11201143,  0.15768038,  0.03652477,\n",
              "       -0.01663111,  0.00116099,  0.14034616,  0.06109616,  0.10902646,\n",
              "        0.1683304 , -0.00129711,  0.07598369,  0.19291079,  0.11407617,\n",
              "        0.05290168, -0.10368447, -0.07648689, -0.01423694,  0.12685689,\n",
              "        0.06615997, -0.08508359, -0.00557071, -0.05893778,  0.07435275,\n",
              "        0.06669256,  0.10095571, -0.03465505,  0.05323646,  0.04783396,\n",
              "        0.12091714, -0.04674219,  0.15134926, -0.03191443,  0.06338885,\n",
              "        0.15903272,  0.02068306, -0.04994396,  0.11962634, -0.0531978 ,\n",
              "        0.06134004, -0.08393856,  0.21596041,  0.15129977, -0.10791317,\n",
              "        0.02831649,  0.10796508,  0.04954486,  0.13905231,  0.21717139,\n",
              "       -0.13179452, -0.00193912,  0.07969657,  0.14270798,  0.26928861,\n",
              "        0.12580933, -0.09854485, -0.00998319, -0.05026598,  0.01537601,\n",
              "        0.18474752, -0.10616289,  0.05039132,  0.13607108, -0.03532391,\n",
              "        0.04759681, -0.05019131,  0.05533897,  0.0724203 ,  0.0816969 ,\n",
              "        0.03962895, -0.08611056,  0.12053076,  0.21340843, -0.05430459,\n",
              "        0.12970618, -0.03397556, -0.00774269, -0.01940936, -0.1383269 ,\n",
              "        0.15622586, -0.05106257,  0.04850382,  0.01484921, -0.00282532,\n",
              "        0.02676606,  0.08046491,  0.06720591,  0.07864666, -0.0433059 ,\n",
              "        0.05130794,  0.19492709,  0.03159511, -0.06143231, -0.05734952,\n",
              "        0.02255926,  0.08708363,  0.14403126,  0.00747496, -0.02227094,\n",
              "        0.03634747,  0.11936845,  0.03478686,  0.02478424, -0.03789834,\n",
              "        0.02466041,  0.00728697,  0.02502225,  0.05813826, -0.09024366,\n",
              "        0.0554437 ,  0.18636657,  0.1178845 , -0.07697398, -0.09642205,\n",
              "        0.14773818,  0.01269128,  0.27900158,  0.07671855,  0.20598295,\n",
              "        0.15426363, -0.11328701,  0.06641572,  0.13402622, -0.00196035,\n",
              "       -0.06123729,  0.04218539,  0.04474114,  0.02622069,  0.11503463,\n",
              "        0.07316961,  0.240067  , -0.09485513,  0.108971  ,  0.02921114,\n",
              "        0.1052449 ,  0.08880324,  0.03918674,  0.01388286,  0.07754553,\n",
              "        0.03927034,  0.15900659,  0.08587064,  0.02205617,  0.09478561,\n",
              "       -0.14207629,  0.06438263,  0.26314446,  0.12899867,  0.10042419,\n",
              "       -0.23249654,  0.15404259, -0.007533  ,  0.15048815, -0.03312225,\n",
              "        0.16154368,  0.06799618,  0.03291765, -0.01989126,  0.20290226,\n",
              "        0.03269507, -0.08799064,  0.05943534,  0.09694305,  0.08440469,\n",
              "       -0.04010037,  0.11522351,  0.08716175,  0.11739385,  0.01908336,\n",
              "        0.25224427,  0.10365867,  0.20729602, -0.0719011 , -0.14206905,\n",
              "        0.03414411, -0.10677564,  0.12215558, -0.01578168,  0.10531096,\n",
              "        0.16188241,  0.0752154 ,  0.14840287,  0.00732581,  0.03210748,\n",
              "        0.0176154 ,  0.05018284,  0.1885027 ,  0.03241176, -0.0063945 ,\n",
              "        0.26022528,  0.00539434, -0.01929235,  0.16649443,  0.13966443,\n",
              "        0.22272579, -0.04977038,  0.08628877, -0.09190908,  0.07198404,\n",
              "        0.23303589, -0.03147009,  0.07093416,  0.16456899,  0.07214263,\n",
              "        0.06585045,  0.03897587, -0.06219186, -0.1038665 ,  0.24093007,\n",
              "        0.09490887,  0.09226268, -0.10819981,  0.02931617,  0.17031843,\n",
              "       -0.0029242 ,  0.01784848,  0.12494803,  0.05700015,  0.11992227,\n",
              "       -0.15143692,  0.02226008,  0.03935457,  0.00956349, -0.03708651,\n",
              "        0.10958664,  0.26369615,  0.01887312, -0.11556851,  0.02568606,\n",
              "        0.18039766,  0.02377761,  0.12689528,  0.07381084,  0.31117775,\n",
              "        0.18122755,  0.02857328, -0.02988713,  0.08046265,  0.03960946,\n",
              "        0.14311526,  0.17814787,  0.06072174,  0.06218126,  0.07427094,\n",
              "        0.16501227,  0.04810403,  0.08273627,  0.02035733,  0.07099989,\n",
              "        0.11794611,  0.10378841,  0.0968615 ,  0.10368694, -0.05321796,\n",
              "       -0.02200286, -0.05332767,  0.11320475,  0.07671315, -0.02703547,\n",
              "        0.01394992, -0.13729588, -0.03944942, -0.0031527 ,  0.01692531,\n",
              "       -0.01320989,  0.06951238, -0.018322  , -0.10841812,  0.13392334,\n",
              "        0.14857427,  0.08408869, -0.13095123,  0.25464456, -0.08411903,\n",
              "        0.0176215 ,  0.16526749,  0.21508657,  0.03770524,  0.05494818,\n",
              "       -0.00750949,  0.18412389,  0.06837576,  0.01811025, -0.00528841,\n",
              "        0.16916214, -0.0674904 ,  0.13805751, -0.01805394,  0.08689822,\n",
              "        0.14398753,  0.13872805,  0.15850992,  0.0900478 ,  0.01920285,\n",
              "        0.1762519 ,  0.06862375,  0.07762253, -0.21392729,  0.1281833 ,\n",
              "       -0.04615425, -0.11927405, -0.15733405,  0.08766675, -0.05481663,\n",
              "        0.03386234,  0.06415154,  0.19610837,  0.05901348,  0.04472638,\n",
              "       -0.06865862, -0.06223771, -0.06735927, -0.06799044,  0.1273746 ,\n",
              "        0.19948393, -0.10971756, -0.0164117 ,  0.08279718,  0.06057489,\n",
              "        0.10482086,  0.0839239 , -0.18608386,  0.16699892,  0.17470814,\n",
              "        0.11900908,  0.01230838, -0.01022583,  0.16219749,  0.09571392,\n",
              "       -0.04050398, -0.09112813,  0.18820237,  0.01072519, -0.03131323,\n",
              "        0.0031722 ,  0.04946432,  0.22904687, -0.01480525,  0.19633621,\n",
              "        0.00158347, -0.00632537,  0.06581204,  0.12770789,  0.05431947,\n",
              "       -0.07287862,  0.0531239 ,  0.03341138,  0.09341756,  0.00662504,\n",
              "        0.01378812,  0.01391801,  0.16096131,  0.00601684,  0.09473986,\n",
              "        0.05660809,  0.09745389,  0.07750823,  0.0888179 ,  0.20645523,\n",
              "        0.00759936, -0.02632995, -0.10919915,  0.09976988,  0.16629291,\n",
              "        0.10566349,  0.09894858,  0.13078574,  0.03103811,  0.0609173 ,\n",
              "        0.05892547, -0.04850627,  0.08490263, -0.09031976, -0.10729022,\n",
              "        0.02710021,  0.15896892,  0.1226559 , -0.13814215,  0.22584846,\n",
              "        0.06024578, -0.23876916,  0.11894275,  0.06738196,  0.0426279 ,\n",
              "       -0.04901025, -0.06015426,  0.03161068,  0.06653329,  0.15234968,\n",
              "       -0.10561304, -0.03158197,  0.03421308, -0.13628562,  0.14470465,\n",
              "        0.21105099,  0.12808603,  0.15791909,  0.2148211 , -0.01861471,\n",
              "        0.05926341,  0.02743148,  0.11955543, -0.13687379, -0.10350319,\n",
              "        0.0721709 , -0.1006726 , -0.06969592,  0.1394503 , -0.07374656,\n",
              "        0.08059298, -0.05502968,  0.0347255 , -0.05351775,  0.1380357 ,\n",
              "        0.09724679,  0.01642042,  0.0116684 ,  0.07372751,  0.15548104,\n",
              "        0.24319726,  0.09853365,  0.285123  , -0.02347385,  0.14806984,\n",
              "        0.02215469, -0.07895896,  0.11533707,  0.18301128,  0.07547804,\n",
              "        0.21830885,  0.13295548,  0.0359176 ,  0.08226923])"
            ]
          },
          "metadata": {},
          "execution_count": 96
        }
      ]
    },
    {
      "cell_type": "code",
      "metadata": {
        "colab": {
          "base_uri": "https://localhost:8080/",
          "height": 300
        },
        "id": "bT9-kEI7NAnR",
        "outputId": "6255940c-2ca1-4a45-b780-a1f8880b7eaa"
      },
      "source": [
        "x1 = (train_data).numpy()\n",
        "y1 = np.array(train_label)\n",
        "\n",
        "plt.scatter(x1[y1==0,0][:,0], x1[y1==0,0][:,1], label='class 0')\n",
        "plt.scatter(x1[y1==1,0][:,0], x1[y1==1,0][:,1], label='class 1')\n",
        "plt.scatter(x1[y1==2,0][:,0], x1[y1==2,0][:,1], label='class 2')\n",
        "plt.legend()\n",
        "plt.title(\"dataset4 CIN with alpha = 1/\"+str(m))"
      ],
      "execution_count": 97,
      "outputs": [
        {
          "output_type": "execute_result",
          "data": {
            "text/plain": [
              "Text(0.5, 1.0, 'dataset4 CIN with alpha = 1/100')"
            ]
          },
          "metadata": {},
          "execution_count": 97
        },
        {
          "output_type": "display_data",
          "data": {
            "image/png": "[encoded data removed]",
            "text/plain": [
              "<Figure size 432x288 with 1 Axes>"
            ]
          },
          "metadata": {
            "needs_background": "light"
          }
        }
      ]
    },
    {
      "cell_type": "code",
      "metadata": {
        "colab": {
          "base_uri": "https://localhost:8080/",
          "height": 300
        },
        "id": "Sc8W2N7LQQ_l",
        "outputId": "d6a9edcc-58bf-43ab-c96c-fb7168195fd7"
      },
      "source": [
        "x1 = (test_data).numpy()\n",
        "y1 = np.array(test_label)\n",
        "\n",
        "plt.scatter(x1[y1==0,0][:,0], x1[y1==0,0][:,1], label='class 0')\n",
        "plt.scatter(x1[y1==1,0][:,0], x1[y1==1,0][:,1], label='class 1')\n",
        "plt.scatter(x1[y1==2,0][:,0], x1[y1==2,0][:,1], label='class 2')\n",
        "plt.legend()\n",
        "plt.title(\"test dataset4\")"
      ],
      "execution_count": 98,
      "outputs": [
        {
          "output_type": "execute_result",
          "data": {
            "text/plain": [
              "Text(0.5, 1.0, 'test dataset4')"
            ]
          },
          "metadata": {},
          "execution_count": 98
        },
        {
          "output_type": "display_data",
          "data": {
            "image/png": "[encoded data removed]",
            "text/plain": [
              "<Figure size 432x288 with 1 Axes>"
            ]
          },
          "metadata": {
            "needs_background": "light"
          }
        }
      ]
    },
    {
      "cell_type": "code",
      "metadata": {
        "id": "yL0BRf8er0TX"
      },
      "source": [
        "class MosaicDataset(Dataset):\n",
        "  \"\"\"MosaicDataset dataset.\"\"\"\n",
        "\n",
        "  def __init__(self, mosaic_list_of_images, mosaic_label):\n",
        "    \"\"\"\n",
        "      Args:\n",
        "        csv_file (string): Path to the csv file with annotations.\n",
        "        root_dir (string): Directory with all the images.\n",
        "        transform (callable, optional): Optional transform to be applied\n",
        "            on a sample.\n",
        "    \"\"\"\n",
        "    self.mosaic = mosaic_list_of_images\n",
        "    self.label = mosaic_label\n",
        "    #self.fore_idx = fore_idx\n",
        "    \n",
        "  def __len__(self):\n",
        "    return len(self.label)\n",
        "\n",
        "  def __getitem__(self, idx):\n",
        "    return self.mosaic[idx] , self.label[idx] #, self.fore_idx[idx]\n",
        "\n"
      ],
      "execution_count": 99,
      "outputs": []
    },
    {
      "cell_type": "code",
      "metadata": {
        "colab": {
          "base_uri": "https://localhost:8080/"
        },
        "id": "4KsrW9qL9xgS",
        "outputId": "06520dfd-6fda-4882-ebf7-aa6f3a2032e7"
      },
      "source": [
        "train_data[0].shape, train_data[0]"
      ],
      "execution_count": 100,
      "outputs": [
        {
          "output_type": "execute_result",
          "data": {
            "text/plain": [
              "(torch.Size([1, 2]), tensor([[-0.1011, -0.0514]], dtype=torch.float64))"
            ]
          },
          "metadata": {},
          "execution_count": 100
        }
      ]
    },
    {
      "cell_type": "code",
      "metadata": {
        "id": "EY2l62APygaV"
      },
      "source": [
        "batch = 200\n",
        "\n",
        "traindata_1 = MosaicDataset(train_data, train_label )\n",
        "trainloader_1 = DataLoader( traindata_1 , batch_size= batch ,shuffle=True)\n"
      ],
      "execution_count": 101,
      "outputs": []
    },
    {
      "cell_type": "code",
      "metadata": {
        "id": "9suUslCj8YZK"
      },
      "source": [
        "testdata_1 = MosaicDataset(test_data, test_label )\n",
        "testloader_1 = DataLoader( testdata_1 , batch_size= batch ,shuffle=False)\n"
      ],
      "execution_count": 102,
      "outputs": []
    },
    {
      "cell_type": "code",
      "metadata": {
        "id": "Nh3mBQHZ8bEj"
      },
      "source": [
        "# testdata_11 = MosaicDataset(test_dataset, labels )\n",
        "# testloader_11 = DataLoader( testdata_11 , batch_size= batch ,shuffle=False)"
      ],
      "execution_count": 103,
      "outputs": []
    },
    {
      "cell_type": "code",
      "metadata": {
        "id": "5_XeIUk0r0Tl"
      },
      "source": [
        "class Whatnet(nn.Module):\n",
        "    def __init__(self):\n",
        "        super(Whatnet,self).__init__()\n",
        "        self.linear1 = nn.Linear(2,50)\n",
        "        self.linear2 = nn.Linear(50,3)\n",
        "\n",
        "        torch.nn.init.xavier_normal_(self.linear1.weight)\n",
        "        torch.nn.init.zeros_(self.linear1.bias)\n",
        "        torch.nn.init.xavier_normal_(self.linear2.weight)\n",
        "        torch.nn.init.zeros_(self.linear2.bias)\n",
        "\n",
        "    def forward(self,x):\n",
        "        x = F.relu(self.linear1(x))\n",
        "        x = (self.linear2(x))\n",
        "\n",
        "        return x[:,0]"
      ],
      "execution_count": 104,
      "outputs": []
    },
    {
      "cell_type": "code",
      "metadata": {
        "id": "pjD2VZuV9Ed4"
      },
      "source": [
        "def calculate_loss(dataloader,model,criter):\n",
        "  model.eval()\n",
        "  r_loss = 0\n",
        "  with torch.no_grad():\n",
        "    for i, data in enumerate(dataloader, 0):\n",
        "      inputs, labels = data\n",
        "      inputs, labels = inputs.to(\"cuda\"),labels.to(\"cuda\")\n",
        "      outputs = model(inputs)\n",
        "      # print(outputs.shape)\n",
        "      loss = criter(outputs, labels)\n",
        "      r_loss += loss.item()\n",
        "  return r_loss/(i+1)"
      ],
      "execution_count": 105,
      "outputs": []
    },
    {
      "cell_type": "code",
      "metadata": {
        "id": "uALi25pmzQHV"
      },
      "source": [
        "def test_all(number, testloader,net):\n",
        "    correct = 0\n",
        "    total = 0\n",
        "    out = []\n",
        "    pred = []\n",
        "    with torch.no_grad():\n",
        "        for data in testloader:\n",
        "            images, labels = data\n",
        "            images, labels = images.to(\"cuda\"),labels.to(\"cuda\")\n",
        "            out.append(labels.cpu().numpy())\n",
        "            outputs= net(images)\n",
        "            _, predicted = torch.max(outputs.data, 1)\n",
        "            pred.append(predicted.cpu().numpy())\n",
        "            total += labels.size(0)\n",
        "            correct += (predicted == labels).sum().item()\n",
        "    \n",
        "    pred = np.concatenate(pred, axis = 0)\n",
        "    out = np.concatenate(out, axis = 0)\n",
        "    print(\"unique out: \",  np.unique(out), \"unique pred: \", np.unique(pred) )\n",
        "    print(\"correct: \", correct, \"total \",  total)\n",
        "    print('Accuracy of the network on the %d test dataset %d: %.2f %%' % (total, number , 100 * correct / total))"
      ],
      "execution_count": 106,
      "outputs": []
    },
    {
      "cell_type": "code",
      "metadata": {
        "id": "4vmNprlPzTjP"
      },
      "source": [
        "def train_all(trainloader, ds_number, testloader_list, lr_list):\n",
        "  \n",
        "  final_loss = []\n",
        "  for LR in lr_list:    \n",
        "    print(\"--\"*20, \"Learning Rate used is\", LR)\n",
        "    \n",
        "    torch.manual_seed(13)\n",
        "    net = Whatnet().double()\n",
        "    net = net.to(\"cuda\")\n",
        "    \n",
        "    criterion_net = nn.CrossEntropyLoss()\n",
        "    optimizer_net = optim.Adam(net.parameters(), lr=LR ) #, momentum=0.9)\n",
        "    \n",
        "    acti = []\n",
        "    loss_curi = []\n",
        "    epochs = 1000\n",
        "    running_loss = calculate_loss(trainloader,net,criterion_net)\n",
        "    loss_curi.append(running_loss)\n",
        "    print('epoch: [%d ] loss: %.3f' %(0,running_loss)) \n",
        "    for epoch in range(epochs): # loop over the dataset multiple times\n",
        "        ep_lossi = []\n",
        "\n",
        "        running_loss = 0.0\n",
        "        net.train()\n",
        "        for i, data in enumerate(trainloader, 0):\n",
        "            # get the inputs\n",
        "            inputs, labels = data\n",
        "            inputs, labels = inputs.to(\"cuda\"),labels.to(\"cuda\")\n",
        "\n",
        "            # zero the parameter gradients\n",
        "            optimizer_net.zero_grad()\n",
        "\n",
        "            # forward + backward + optimize\n",
        "            outputs = net(inputs)\n",
        "            # print(outputs.shape)\n",
        "            loss = criterion_net(outputs, labels)\n",
        "            # print statistics\n",
        "            running_loss += loss.item()\n",
        "            loss.backward()\n",
        "            optimizer_net.step()\n",
        "\n",
        "        running_loss = calculate_loss(trainloader,net,criterion_net)\n",
        "        if(epoch%200 == 0):\n",
        "          print('epoch: [%d] loss: %.3f' %(epoch + 1,running_loss)) \n",
        "        loss_curi.append(running_loss)   #loss per epoch\n",
        "        if running_loss<=0.05:\n",
        "          print('epoch: [%d] loss: %.3f' %(epoch + 1,running_loss))\n",
        "          break\n",
        "\n",
        "    print('Finished Training')\n",
        "    \n",
        "    correct = 0\n",
        "    total = 0\n",
        "    with torch.no_grad():\n",
        "        for data in trainloader:\n",
        "            images, labels = data\n",
        "            images, labels = images.to(\"cuda\"), labels.to(\"cuda\")\n",
        "            outputs = net(images)\n",
        "            _, predicted = torch.max(outputs.data, 1)\n",
        "            total += labels.size(0)\n",
        "            correct += (predicted == labels).sum().item()\n",
        "\n",
        "    print('Accuracy of the network on the %d train images: %.2f %%' % (total,  100 * correct / total))\n",
        "    \n",
        "    for i, j in enumerate(testloader_list):\n",
        "        test_all(i+1, j,net)\n",
        "    \n",
        "    print(\"--\"*40)\n",
        "    \n",
        "    final_loss.append(loss_curi) \n",
        "  return final_loss\n",
        "    "
      ],
      "execution_count": 113,
      "outputs": []
    },
    {
      "cell_type": "code",
      "metadata": {
        "id": "Yl41sE8vFERk"
      },
      "source": [
        "train_loss_all=[]\n",
        "\n",
        "testloader_list= [ testloader_1]\n",
        "lr_list = [0.0001, 0.0005, 0.001, 0.005, 0.01, 0.05, 0.1, 0.5 ]"
      ],
      "execution_count": 114,
      "outputs": []
    },
    {
      "cell_type": "code",
      "metadata": {
        "colab": {
          "base_uri": "https://localhost:8080/"
        },
        "id": "5gQoPST5zW2t",
        "outputId": "9eb677f1-9e3b-4b4a-d5b8-bc2197058b2f"
      },
      "source": [
        "fin_loss = train_all(trainloader_1, 1, testloader_list, lr_list)\n",
        "train_loss_all.append(fin_loss)"
      ],
      "execution_count": 115,
      "outputs": [
        {
          "output_type": "stream",
          "name": "stdout",
          "text": [
            "---------------------------------------- Learning Rate used is 0.0001\n",
            "epoch: [0 ] loss: 1.102\n",
            "epoch: [1] loss: 1.101\n",
            "epoch: [201] loss: 1.093\n",
            "epoch: [401] loss: 1.092\n",
            "epoch: [601] loss: 1.091\n",
            "epoch: [801] loss: 1.091\n",
            "Finished Training\n",
            "Accuracy of the network on the 2000 train images: 38.15 %\n",
            "unique out:  [0 1 2] unique pred:  [2]\n",
            "correct:  331 total  1000\n",
            "Accuracy of the network on the 1000 test dataset 1: 33.10 %\n",
            "--------------------------------------------------------------------------------\n",
            "---------------------------------------- Learning Rate used is 0.0005\n",
            "epoch: [0 ] loss: 1.102\n",
            "epoch: [1] loss: 1.101\n",
            "epoch: [201] loss: 1.090\n",
            "epoch: [401] loss: 1.089\n",
            "epoch: [601] loss: 1.089\n",
            "epoch: [801] loss: 1.089\n",
            "Finished Training\n",
            "Accuracy of the network on the 2000 train images: 38.50 %\n",
            "unique out:  [0 1 2] unique pred:  [2]\n",
            "correct:  331 total  1000\n",
            "Accuracy of the network on the 1000 test dataset 1: 33.10 %\n",
            "--------------------------------------------------------------------------------\n",
            "---------------------------------------- Learning Rate used is 0.001\n",
            "epoch: [0 ] loss: 1.102\n",
            "epoch: [1] loss: 1.100\n",
            "epoch: [201] loss: 1.090\n",
            "epoch: [401] loss: 1.089\n",
            "epoch: [601] loss: 1.088\n",
            "epoch: [801] loss: 1.088\n",
            "Finished Training\n",
            "Accuracy of the network on the 2000 train images: 38.55 %\n",
            "unique out:  [0 1 2] unique pred:  [2]\n",
            "correct:  331 total  1000\n",
            "Accuracy of the network on the 1000 test dataset 1: 33.10 %\n",
            "--------------------------------------------------------------------------------\n",
            "---------------------------------------- Learning Rate used is 0.005\n",
            "epoch: [0 ] loss: 1.102\n",
            "epoch: [1] loss: 1.097\n",
            "epoch: [201] loss: 1.087\n",
            "epoch: [401] loss: 1.084\n",
            "epoch: [601] loss: 1.081\n",
            "epoch: [801] loss: 1.078\n",
            "Finished Training\n",
            "Accuracy of the network on the 2000 train images: 40.00 %\n",
            "unique out:  [0 1 2] unique pred:  [0 2]\n",
            "correct:  440 total  1000\n",
            "Accuracy of the network on the 1000 test dataset 1: 44.00 %\n",
            "--------------------------------------------------------------------------------\n",
            "---------------------------------------- Learning Rate used is 0.01\n",
            "epoch: [0 ] loss: 1.102\n",
            "epoch: [1] loss: 1.095\n",
            "epoch: [201] loss: 1.086\n",
            "epoch: [401] loss: 1.084\n",
            "epoch: [601] loss: 1.082\n",
            "epoch: [801] loss: 1.081\n",
            "Finished Training\n",
            "Accuracy of the network on the 2000 train images: 39.40 %\n",
            "unique out:  [0 1 2] unique pred:  [1 2]\n",
            "correct:  313 total  1000\n",
            "Accuracy of the network on the 1000 test dataset 1: 31.30 %\n",
            "--------------------------------------------------------------------------------\n",
            "---------------------------------------- Learning Rate used is 0.05\n",
            "epoch: [0 ] loss: 1.102\n",
            "epoch: [1] loss: 1.097\n",
            "epoch: [201] loss: 1.086\n",
            "epoch: [401] loss: 1.086\n",
            "epoch: [601] loss: 1.085\n",
            "epoch: [801] loss: 1.088\n",
            "Finished Training\n",
            "Accuracy of the network on the 2000 train images: 37.35 %\n",
            "unique out:  [0 1 2] unique pred:  [2]\n",
            "correct:  331 total  1000\n",
            "Accuracy of the network on the 1000 test dataset 1: 33.10 %\n",
            "--------------------------------------------------------------------------------\n",
            "---------------------------------------- Learning Rate used is 0.1\n",
            "epoch: [0 ] loss: 1.102\n",
            "epoch: [1] loss: 1.096\n",
            "epoch: [201] loss: 1.091\n",
            "epoch: [401] loss: 1.091\n",
            "epoch: [601] loss: 1.094\n",
            "epoch: [801] loss: 1.092\n",
            "Finished Training\n",
            "Accuracy of the network on the 2000 train images: 36.90 %\n",
            "unique out:  [0 1 2] unique pred:  [2]\n",
            "correct:  331 total  1000\n",
            "Accuracy of the network on the 1000 test dataset 1: 33.10 %\n",
            "--------------------------------------------------------------------------------\n",
            "---------------------------------------- Learning Rate used is 0.5\n",
            "epoch: [0 ] loss: 1.102\n",
            "epoch: [1] loss: 1.224\n",
            "epoch: [201] loss: 1.108\n",
            "epoch: [401] loss: 1.104\n",
            "epoch: [601] loss: 1.103\n",
            "epoch: [801] loss: 1.105\n",
            "Finished Training\n",
            "Accuracy of the network on the 2000 train images: 33.90 %\n",
            "unique out:  [0 1 2] unique pred:  [1]\n",
            "correct:  355 total  1000\n",
            "Accuracy of the network on the 1000 test dataset 1: 35.50 %\n",
            "--------------------------------------------------------------------------------\n"
          ]
        }
      ]
    },
    {
      "cell_type": "code",
      "metadata": {
        "id": "In76SYH_zZHV"
      },
      "source": [
        "%matplotlib inline"
      ],
      "execution_count": 116,
      "outputs": []
    },
    {
      "cell_type": "code",
      "metadata": {
        "colab": {
          "base_uri": "https://localhost:8080/"
        },
        "id": "_GsE3qHR_A5c",
        "outputId": "6bcdffe4-092c-4cd2-bad0-dbd2355442c1"
      },
      "source": [
        "len(fin_loss)"
      ],
      "execution_count": 117,
      "outputs": [
        {
          "output_type": "execute_result",
          "data": {
            "text/plain": [
              "8"
            ]
          },
          "metadata": {},
          "execution_count": 117
        }
      ]
    },
    {
      "cell_type": "code",
      "metadata": {
        "id": "BS4HtOHEzZ0E",
        "colab": {
          "base_uri": "https://localhost:8080/",
          "height": 297
        },
        "outputId": "20dabcea-f459-4a42-e81e-924d36d1cb04"
      },
      "source": [
        "for i,j in enumerate(fin_loss):\n",
        "    plt.plot(j,label =\"LR = \"+str(lr_list[i]))\n",
        "    \n",
        "\n",
        "plt.xlabel(\"Epochs\")\n",
        "plt.ylabel(\"Training_loss\")\n",
        "\n",
        "plt.legend(loc='center left', bbox_to_anchor=(1, 0.5))"
      ],
      "execution_count": 118,
      "outputs": [
        {
          "output_type": "execute_result",
          "data": {
            "text/plain": [
              "<matplotlib.legend.Legend at 0x7f4fe2979250>"
            ]
          },
          "metadata": {},
          "execution_count": 118
        },
        {
          "output_type": "display_data",
          "data": {
            "image/png": "[encoded data removed]",
            "text/plain": [
              "<Figure size 432x288 with 1 Axes>"
            ]
          },
          "metadata": {
            "needs_background": "light"
          }
        }
      ]
    },
    {
      "cell_type": "code",
      "metadata": {
        "id": "1UbTkfLUINTI"
      },
      "source": [
        ""
      ],
      "execution_count": 118,
      "outputs": []
    }
  ]
}