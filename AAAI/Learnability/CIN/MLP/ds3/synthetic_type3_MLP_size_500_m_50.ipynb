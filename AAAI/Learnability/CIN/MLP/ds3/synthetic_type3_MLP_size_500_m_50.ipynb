{
  "nbformat": 4,
  "nbformat_minor": 0,
  "metadata": {
    "accelerator": "GPU",
    "colab": {
      "name": "synthetic_type3_MLP_m_5.ipynb",
      "provenance": [],
      "collapsed_sections": []
    },
    "kernelspec": {
      "display_name": "Python 3",
      "language": "python",
      "name": "python3"
    },
    "language_info": {
      "codemirror_mode": {
        "name": "ipython",
        "version": 3
      },
      "file_extension": ".py",
      "mimetype": "text/x-python",
      "name": "python",
      "nbconvert_exporter": "python",
      "pygments_lexer": "ipython3",
      "version": "3.6.5"
    }
  },
  "cells": [
    {
      "cell_type": "code",
      "metadata": {
        "colab": {
          "base_uri": "https://localhost:8080/"
        },
        "id": "N2_J4Rw2r0SQ",
        "outputId": "d8ec0620-f94c-4be2-e954-de5cfd15422d"
      },
      "source": [
        "import numpy as np\n",
        "import pandas as pd\n",
        "from matplotlib import pyplot as plt\n",
        "from tqdm import tqdm\n",
        "%matplotlib inline\n",
        "from torch.utils.data import Dataset, DataLoader\n",
        "import torch\n",
        "import torchvision\n",
        "\n",
        "import torch.nn as nn\n",
        "import torch.optim as optim\n",
        "from torch.nn import functional as F\n",
        "device = torch.device(\"cuda\" if torch.cuda.is_available() else \"cpu\")\n",
        "print(device)"
      ],
      "execution_count": 717,
      "outputs": [
        {
          "output_type": "stream",
          "name": "stdout",
          "text": [
            "cuda\n"
          ]
        }
      ]
    },
    {
      "cell_type": "code",
      "metadata": {
        "id": "ZTJPyL45DiJ3"
      },
      "source": [
        "m = 50          # 5, 50, 100, 500, 2000"
      ],
      "execution_count": 718,
      "outputs": []
    },
    {
      "cell_type": "code",
      "metadata": {
        "id": "g-do5dZWK5L6"
      },
      "source": [
        "train_size = 500          # 100, 500, 2000, 10000"
      ],
      "execution_count": 719,
      "outputs": []
    },
    {
      "cell_type": "markdown",
      "metadata": {
        "id": "F6fjud_Fr0Sa"
      },
      "source": [
        "# Generate dataset"
      ]
    },
    {
      "cell_type": "code",
      "metadata": {
        "colab": {
          "base_uri": "https://localhost:8080/"
        },
        "id": "CqdXHO0Cr0Sd",
        "outputId": "e22e0d7b-c3e7-4dde-8855-0b951b1e6563"
      },
      "source": [
        "np.random.seed(12)\n",
        "y = np.random.randint(0,10,5000)\n",
        "idx= []\n",
        "for i in range(10):\n",
        "    print(i,sum(y==i))\n",
        "    idx.append(y==i)"
      ],
      "execution_count": 720,
      "outputs": [
        {
          "output_type": "stream",
          "name": "stdout",
          "text": [
            "0 530\n",
            "1 463\n",
            "2 494\n",
            "3 517\n",
            "4 488\n",
            "5 497\n",
            "6 493\n",
            "7 507\n",
            "8 492\n",
            "9 519\n"
          ]
        }
      ]
    },
    {
      "cell_type": "code",
      "metadata": {
        "id": "ddhXyODwr0Sk"
      },
      "source": [
        "x = np.zeros((5000,2))"
      ],
      "execution_count": 721,
      "outputs": []
    },
    {
      "cell_type": "code",
      "metadata": {
        "id": "DyV3N2DIr0Sp"
      },
      "source": [
        "np.random.seed(12)\n",
        "x[idx[0],:] = np.random.multivariate_normal(mean = [7,4],cov=[[0.1,0],[0,0.1]],size=sum(idx[0]))\n",
        "x[idx[1],:] = np.random.multivariate_normal(mean = [8,6.5],cov=[[0.1,0],[0,0.1]],size=sum(idx[1]))\n",
        "x[idx[2],:] = np.random.multivariate_normal(mean = [5.5,6.5],cov=[[0.1,0],[0,0.1]],size=sum(idx[2]))\n",
        "x[idx[3],:] = np.random.multivariate_normal(mean = [-1,0],cov=[[0.1,0],[0,0.1]],size=sum(idx[3]))\n",
        "x[idx[4],:] = np.random.multivariate_normal(mean = [0,2],cov=[[0.1,0],[0,0.1]],size=sum(idx[4]))\n",
        "x[idx[5],:] = np.random.multivariate_normal(mean = [1,0],cov=[[0.1,0],[0,0.1]],size=sum(idx[5]))\n",
        "x[idx[6],:] = np.random.multivariate_normal(mean = [0,-1],cov=[[0.1,0],[0,0.1]],size=sum(idx[6]))\n",
        "x[idx[7],:] = np.random.multivariate_normal(mean = [0,0],cov=[[0.1,0],[0,0.1]],size=sum(idx[7]))\n",
        "x[idx[8],:] = np.random.multivariate_normal(mean = [-0.5,-0.5],cov=[[0.1,0],[0,0.1]],size=sum(idx[8]))\n",
        "x[idx[9],:] = np.random.multivariate_normal(mean = [0.4,0.2],cov=[[0.1,0],[0,0.1]],size=sum(idx[9]))"
      ],
      "execution_count": 722,
      "outputs": []
    },
    {
      "cell_type": "code",
      "metadata": {
        "colab": {
          "base_uri": "https://localhost:8080/"
        },
        "id": "qh1mDScsU07I",
        "outputId": "fe57e16a-400c-497e-b085-d27edab49da3"
      },
      "source": [
        "x[idx[0]][0], x[idx[5]][5] "
      ],
      "execution_count": 723,
      "outputs": [
        {
          "output_type": "execute_result",
          "data": {
            "text/plain": [
              "(array([7.14957125, 3.78451422]), array([0.87756167, 0.00457805]))"
            ]
          },
          "metadata": {},
          "execution_count": 723
        }
      ]
    },
    {
      "cell_type": "code",
      "metadata": {
        "colab": {
          "base_uri": "https://localhost:8080/",
          "height": 287
        },
        "id": "hJ8Jm7YUr0St",
        "outputId": "397a6743-f31c-4a11-ccbe-3255a475d7d4"
      },
      "source": [
        "for i in range(10):\n",
        "    plt.scatter(x[idx[i],0],x[idx[i],1],label=\"class_\"+str(i))\n",
        "plt.legend(loc='center left', bbox_to_anchor=(1, 0.5))"
      ],
      "execution_count": 724,
      "outputs": [
        {
          "output_type": "execute_result",
          "data": {
            "text/plain": [
              "<matplotlib.legend.Legend at 0x7fab04826510>"
            ]
          },
          "metadata": {},
          "execution_count": 724
        },
        {
          "output_type": "display_data",
          "data": {
            "image/png": "[encoded data removed]",
            "text/plain": [
              "<Figure size 432x288 with 1 Axes>"
            ]
          },
          "metadata": {
            "needs_background": "light"
          }
        }
      ]
    },
    {
      "cell_type": "code",
      "metadata": {
        "colab": {
          "base_uri": "https://localhost:8080/"
        },
        "id": "3lMBZEHNBlF2",
        "outputId": "3402e2ef-4d0c-47f9-8f28-b6ebb33f41cf"
      },
      "source": [
        "bg_idx = [ np.where(idx[3] == True)[0], \n",
        "          np.where(idx[4] == True)[0], \n",
        "          np.where(idx[5] == True)[0],\n",
        "          np.where(idx[6] == True)[0], \n",
        "          np.where(idx[7] == True)[0], \n",
        "          np.where(idx[8] == True)[0],\n",
        "          np.where(idx[9] == True)[0]]\n",
        "\n",
        "bg_idx = np.concatenate(bg_idx, axis = 0)\n",
        "bg_idx.shape"
      ],
      "execution_count": 725,
      "outputs": [
        {
          "output_type": "execute_result",
          "data": {
            "text/plain": [
              "(3513,)"
            ]
          },
          "metadata": {},
          "execution_count": 725
        }
      ]
    },
    {
      "cell_type": "code",
      "metadata": {
        "colab": {
          "base_uri": "https://localhost:8080/"
        },
        "id": "blRbGZHeCwXU",
        "outputId": "1d3328d5-9eed-4d38-b4ac-812bce217275"
      },
      "source": [
        "np.unique(bg_idx).shape"
      ],
      "execution_count": 726,
      "outputs": [
        {
          "output_type": "execute_result",
          "data": {
            "text/plain": [
              "(3513,)"
            ]
          },
          "metadata": {},
          "execution_count": 726
        }
      ]
    },
    {
      "cell_type": "code",
      "metadata": {
        "id": "Y43sWeX7C15F"
      },
      "source": [
        "x = x - np.mean(x[bg_idx], axis = 0, keepdims = True)\n"
      ],
      "execution_count": 727,
      "outputs": []
    },
    {
      "cell_type": "code",
      "metadata": {
        "colab": {
          "base_uri": "https://localhost:8080/"
        },
        "id": "ooII7N6UDWe0",
        "outputId": "48b67d74-9926-4240-a098-d59d4e0e9b84"
      },
      "source": [
        "np.mean(x[bg_idx], axis = 0, keepdims = True), np.mean(x, axis = 0, keepdims = True)"
      ],
      "execution_count": 728,
      "outputs": [
        {
          "output_type": "execute_result",
          "data": {
            "text/plain": [
              "(array([[-1.04275003e-16,  6.74571889e-17]]),\n",
              " array([[2.02981967, 1.63582644]]))"
            ]
          },
          "metadata": {},
          "execution_count": 728
        }
      ]
    },
    {
      "cell_type": "code",
      "metadata": {
        "id": "g21bvPRYDL9k"
      },
      "source": [
        "x = x/np.std(x[bg_idx], axis = 0, keepdims = True)"
      ],
      "execution_count": 729,
      "outputs": []
    },
    {
      "cell_type": "code",
      "metadata": {
        "colab": {
          "base_uri": "https://localhost:8080/"
        },
        "id": "GtFvIeHsDZJk",
        "outputId": "37677de8-6cd5-4372-f660-738b7c52f5f9"
      },
      "source": [
        "np.std(x[bg_idx], axis = 0, keepdims = True), np.std(x, axis = 0, keepdims = True)"
      ],
      "execution_count": 730,
      "outputs": [
        {
          "output_type": "execute_result",
          "data": {
            "text/plain": [
              "(array([[1., 1.]]), array([[4.89756643, 3.00501566]]))"
            ]
          },
          "metadata": {},
          "execution_count": 730
        }
      ]
    },
    {
      "cell_type": "code",
      "metadata": {
        "colab": {
          "base_uri": "https://localhost:8080/",
          "height": 283
        },
        "id": "8-VLhUfDDeHt",
        "outputId": "cb98303e-4123-4ca2-b193-a32dc352db9b"
      },
      "source": [
        "for i in range(10):\n",
        "    plt.scatter(x[idx[i],0],x[idx[i],1],label=\"class_\"+str(i))\n",
        "plt.legend(loc='center left', bbox_to_anchor=(1, 0.5))"
      ],
      "execution_count": 731,
      "outputs": [
        {
          "output_type": "execute_result",
          "data": {
            "text/plain": [
              "<matplotlib.legend.Legend at 0x7fab046fe710>"
            ]
          },
          "metadata": {},
          "execution_count": 731
        },
        {
          "output_type": "display_data",
          "data": {
            "image/png": "[encoded data removed]",
            "text/plain": [
              "<Figure size 432x288 with 1 Axes>"
            ]
          },
          "metadata": {
            "needs_background": "light"
          }
        }
      ]
    },
    {
      "cell_type": "code",
      "metadata": {
        "id": "UfFHcZJOr0Sz"
      },
      "source": [
        "foreground_classes = {'class_0','class_1', 'class_2'}\n",
        "\n",
        "background_classes = {'class_3','class_4', 'class_5', 'class_6','class_7', 'class_8', 'class_9'}"
      ],
      "execution_count": 732,
      "outputs": []
    },
    {
      "cell_type": "code",
      "metadata": {
        "colab": {
          "base_uri": "https://localhost:8080/"
        },
        "id": "OplNpNQVr0S2",
        "outputId": "3ead2f13-c853-46b1-dae5-ad185d7dee6f"
      },
      "source": [
        "fg_class  = np.random.randint(0,3)\n",
        "fg_idx = np.random.randint(0,m)\n",
        "train_data=[]\n",
        "a = []\n",
        "fg_instance = np.array([[0.0,0.0]])\n",
        "bg_instance = np.array([[0.0,0.0]])\n",
        "\n",
        "for i in range(m):\n",
        "  if i == fg_idx:\n",
        "    b = np.random.choice(np.where(idx[fg_class]==True)[0],size=1)\n",
        "    fg_instance += x[b]\n",
        "    a.append(x[b])\n",
        "    print(\"foreground \"+str(fg_class)+\" present at \" + str(fg_idx))\n",
        "  else:\n",
        "    bg_class = np.random.randint(3,10)\n",
        "    b = np.random.choice(np.where(idx[bg_class]==True)[0],size=1)\n",
        "    bg_instance += x[b]\n",
        "    a.append(x[b])\n",
        "    print(\"background \"+str(bg_class)+\" present at \" + str(i))\n",
        "\n",
        "a = np.concatenate(a,axis=0)\n",
        "print(a.shape)\n",
        "\n",
        "print(fg_class , fg_idx)"
      ],
      "execution_count": 733,
      "outputs": [
        {
          "output_type": "stream",
          "name": "stdout",
          "text": [
            "background 3 present at 0\n",
            "background 8 present at 1\n",
            "background 5 present at 2\n",
            "background 3 present at 3\n",
            "background 5 present at 4\n",
            "background 7 present at 5\n",
            "background 6 present at 6\n",
            "background 5 present at 7\n",
            "background 3 present at 8\n",
            "background 5 present at 9\n",
            "background 4 present at 10\n",
            "background 7 present at 11\n",
            "background 4 present at 12\n",
            "background 3 present at 13\n",
            "background 9 present at 14\n",
            "background 6 present at 15\n",
            "background 6 present at 16\n",
            "background 3 present at 17\n",
            "foreground 2 present at 18\n",
            "background 8 present at 19\n",
            "background 5 present at 20\n",
            "background 6 present at 21\n",
            "background 4 present at 22\n",
            "background 9 present at 23\n",
            "background 8 present at 24\n",
            "background 3 present at 25\n",
            "background 7 present at 26\n",
            "background 6 present at 27\n",
            "background 8 present at 28\n",
            "background 3 present at 29\n",
            "background 7 present at 30\n",
            "background 8 present at 31\n",
            "background 7 present at 32\n",
            "background 7 present at 33\n",
            "background 5 present at 34\n",
            "background 9 present at 35\n",
            "background 6 present at 36\n",
            "background 4 present at 37\n",
            "background 7 present at 38\n",
            "background 6 present at 39\n",
            "background 3 present at 40\n",
            "background 4 present at 41\n",
            "background 3 present at 42\n",
            "background 4 present at 43\n",
            "background 7 present at 44\n",
            "background 6 present at 45\n",
            "background 5 present at 46\n",
            "background 8 present at 47\n",
            "background 8 present at 48\n",
            "background 7 present at 49\n",
            "(50, 2)\n",
            "2 18\n"
          ]
        }
      ]
    },
    {
      "cell_type": "code",
      "metadata": {
        "colab": {
          "base_uri": "https://localhost:8080/"
        },
        "id": "Rx6cMmR3baVf",
        "outputId": "d8fe5ac1-5404-4eff-c6e4-3f7644b8c5ee"
      },
      "source": [
        "a"
      ],
      "execution_count": 734,
      "outputs": [
        {
          "output_type": "execute_result",
          "data": {
            "text/plain": [
              "array([[-1.62273068e+00, -9.44577073e-01],\n",
              "       [-8.22962717e-01, -7.32521912e-01],\n",
              "       [ 2.09728368e+00, -2.44651323e-01],\n",
              "       [-9.86087689e-01, -7.51232458e-01],\n",
              "       [ 1.37297554e+00, -3.76733075e-01],\n",
              "       [-8.84692079e-01, -1.11551995e-01],\n",
              "       [ 3.23086410e-01, -1.23774128e+00],\n",
              "       [ 1.37297554e+00, -3.76733075e-01],\n",
              "       [-1.37994224e+00, -1.86927689e-02],\n",
              "       [ 1.18729176e+00, -1.43385686e-01],\n",
              "       [ 1.08414750e+00,  2.21424613e+00],\n",
              "       [ 3.07773579e-01,  5.11134472e-01],\n",
              "       [-5.80062748e-01,  2.56861924e+00],\n",
              "       [-1.57480355e+00,  1.37864198e-01],\n",
              "       [ 8.78834768e-01, -3.18178197e-01],\n",
              "       [ 5.58625839e-02, -1.37825691e+00],\n",
              "       [ 3.52658712e-01, -1.71500720e+00],\n",
              "       [-7.59374170e-01, -4.37189615e-03],\n",
              "       [ 8.64012267e+00,  7.37468589e+00],\n",
              "       [-9.53821465e-01, -7.70258879e-01],\n",
              "       [ 2.09867980e+00, -3.81343563e-01],\n",
              "       [-5.28144052e-02, -1.09369602e+00],\n",
              "       [ 5.77182460e-01,  2.12761839e+00],\n",
              "       [ 4.81571501e-01, -1.77495772e-01],\n",
              "       [-9.01757410e-01, -6.53914167e-01],\n",
              "       [-1.05809662e+00, -2.96003187e-01],\n",
              "       [-9.64224116e-02, -1.02062394e-01],\n",
              "       [-3.51025475e-01, -1.43245892e+00],\n",
              "       [-7.86494960e-01, -6.96928923e-01],\n",
              "       [-1.78563283e+00, -2.97788754e-01],\n",
              "       [-2.91612592e-02, -8.20240457e-01],\n",
              "       [-1.36322898e+00, -1.17531631e+00],\n",
              "       [-7.28928821e-01, -2.00888740e-01],\n",
              "       [ 1.32681142e+00, -2.74341506e-01],\n",
              "       [ 2.21086140e+00, -4.46459278e-01],\n",
              "       [ 1.07505767e+00,  7.08825917e-02],\n",
              "       [-3.58854571e-02, -1.00480957e+00],\n",
              "       [-3.17975403e-01,  2.26776033e+00],\n",
              "       [ 4.32767080e-01,  1.64016979e-01],\n",
              "       [ 3.05304464e-01, -1.41095178e+00],\n",
              "       [-1.57167801e+00, -2.15455107e-01],\n",
              "       [ 1.65618250e-01,  2.34096180e+00],\n",
              "       [-1.76753678e+00, -3.71998306e-01],\n",
              "       [ 7.40531478e-01,  2.93223156e+00],\n",
              "       [ 2.24896506e-01, -1.96101846e-01],\n",
              "       [ 4.18092096e-01, -9.94536492e-01],\n",
              "       [ 1.37861110e+00, -5.40275314e-01],\n",
              "       [-1.30672456e+00, -8.16503116e-01],\n",
              "       [-4.44657777e-01, -8.22773150e-01],\n",
              "       [-5.49469370e-02,  2.75241692e-01]])"
            ]
          },
          "metadata": {},
          "execution_count": 734
        }
      ]
    },
    {
      "cell_type": "code",
      "metadata": {
        "colab": {
          "base_uri": "https://localhost:8080/"
        },
        "id": "dEdaFZPQhc7D",
        "outputId": "0a7d9dbe-5b11-42a5-fd93-85929fcac68b"
      },
      "source": [
        "fg_instance"
      ],
      "execution_count": 735,
      "outputs": [
        {
          "output_type": "execute_result",
          "data": {
            "text/plain": [
              "array([[8.64012267, 7.37468589]])"
            ]
          },
          "metadata": {},
          "execution_count": 735
        }
      ]
    },
    {
      "cell_type": "code",
      "metadata": {
        "colab": {
          "base_uri": "https://localhost:8080/"
        },
        "id": "IqdAVbG1hftM",
        "outputId": "54a1eeb1-1695-46c4-ec17-82f492f96f81"
      },
      "source": [
        "bg_instance"
      ],
      "execution_count": 736,
      "outputs": [
        {
          "output_type": "execute_result",
          "data": {
            "text/plain": [
              "array([[-1.74857013, -7.93565902]])"
            ]
          },
          "metadata": {},
          "execution_count": 736
        }
      ]
    },
    {
      "cell_type": "code",
      "metadata": {
        "colab": {
          "base_uri": "https://localhost:8080/"
        },
        "id": "Ho98SSXEhx6L",
        "outputId": "1a3d651c-2763-4e9b-bb9f-4ec977209add"
      },
      "source": [
        "(fg_instance+bg_instance)/m , m"
      ],
      "execution_count": 737,
      "outputs": [
        {
          "output_type": "execute_result",
          "data": {
            "text/plain": [
              "(array([[ 0.13783105, -0.01121946]]), 50)"
            ]
          },
          "metadata": {},
          "execution_count": 737
        }
      ]
    },
    {
      "cell_type": "code",
      "metadata": {
        "id": "jqbvfbwVr0TN"
      },
      "source": [
        "# mosaic_list_of_images =[]\n",
        "# mosaic_label = []\n",
        "train_label=[]\n",
        "fore_idx=[]\n",
        "train_data = []\n",
        "for j in range(train_size):\n",
        "  np.random.seed(j)\n",
        "  fg_instance = torch.zeros([2], dtype=torch.float64) #np.array([[0.0,0.0]])\n",
        "  bg_instance = torch.zeros([2], dtype=torch.float64) #np.array([[0.0,0.0]])\n",
        "  # a=[]\n",
        "\n",
        "  for i in range(m):\n",
        "    if i == fg_idx:\n",
        "      fg_class  = np.random.randint(0,3)\n",
        "      b = np.random.choice(np.where(idx[fg_class]==True)[0],size=1)\n",
        "      fg_instance += x[b]\n",
        "      # a.append(x[b])\n",
        "      # print(\"foreground \"+str(fg_class)+\" present at \" + str(fg_idx))\n",
        "    else:\n",
        "      bg_class = np.random.randint(3,10)\n",
        "      b = np.random.choice(np.where(idx[bg_class]==True)[0],size=1)\n",
        "      bg_instance += x[b]\n",
        "      # a.append(x[b])\n",
        "      # print(\"background \"+str(bg_class)+\" present at \" + str(i))\n",
        "  train_data.append((fg_instance+bg_instance)/m)\n",
        "  # a = np.concatenate(a,axis=0)\n",
        "  # mosaic_list_of_images.append(np.reshape(a,(2*m,1)))\n",
        "  train_label.append(fg_class)\n",
        "  fore_idx.append(fg_idx)"
      ],
      "execution_count": 738,
      "outputs": []
    },
    {
      "cell_type": "code",
      "metadata": {
        "colab": {
          "base_uri": "https://localhost:8080/"
        },
        "id": "X_g6lxkVjN0N",
        "outputId": "a73fb751-79cc-45f5-d9e7-7b86001c4ea5"
      },
      "source": [
        " train_data[0], train_label[0]"
      ],
      "execution_count": 739,
      "outputs": [
        {
          "output_type": "execute_result",
          "data": {
            "text/plain": [
              "(tensor([[0.1418, 0.0205]], dtype=torch.float64), 1)"
            ]
          },
          "metadata": {},
          "execution_count": 739
        }
      ]
    },
    {
      "cell_type": "code",
      "metadata": {
        "colab": {
          "base_uri": "https://localhost:8080/"
        },
        "id": "Tz5wQCevobYr",
        "outputId": "25bc2f58-1eae-45db-ddf2-08360a822b79"
      },
      "source": [
        "train_data = torch.stack(train_data, axis=0)\n",
        "train_data.shape, len(train_label)"
      ],
      "execution_count": 740,
      "outputs": [
        {
          "output_type": "execute_result",
          "data": {
            "text/plain": [
              "(torch.Size([500, 1, 2]), 500)"
            ]
          },
          "metadata": {},
          "execution_count": 740
        }
      ]
    },
    {
      "cell_type": "code",
      "metadata": {
        "id": "CVAlImGYA49A"
      },
      "source": [
        "test_label=[]\n",
        "# fore_idx=[]\n",
        "test_data = []\n",
        "for j in range(1000):\n",
        "  np.random.seed(j)\n",
        "  fg_instance = torch.zeros([2], dtype=torch.float64) #np.array([[0.0,0.0]])\n",
        "\n",
        "  fg_class  = np.random.randint(0,3)\n",
        "  b = np.random.choice(np.where(idx[fg_class]==True)[0],size=1)\n",
        "  fg_instance += x[b]\n",
        "  # a.append(x[b])\n",
        "  # print(\"foreground \"+str(fg_class)+\" present at \" + str(fg_idx))\n",
        "\n",
        "  test_data.append((fg_instance)/m)\n",
        "  # a = np.concatenate(a,axis=0)\n",
        "  # mosaic_list_of_images.append(np.reshape(a,(2*m,1)))\n",
        "  test_label.append(fg_class)\n",
        "  # fore_idx.append(fg_idx)"
      ],
      "execution_count": 741,
      "outputs": []
    },
    {
      "cell_type": "code",
      "metadata": {
        "colab": {
          "base_uri": "https://localhost:8080/"
        },
        "id": "XltBz3__BT_C",
        "outputId": "7a80ef3d-7070-4ca4-a65b-0a5bb4b46ce9"
      },
      "source": [
        "test_data[0], test_label[0]"
      ],
      "execution_count": 742,
      "outputs": [
        {
          "output_type": "execute_result",
          "data": {
            "text/plain": [
              "(tensor([[0.2228, 0.0783]], dtype=torch.float64), 0)"
            ]
          },
          "metadata": {},
          "execution_count": 742
        }
      ]
    },
    {
      "cell_type": "code",
      "metadata": {
        "colab": {
          "base_uri": "https://localhost:8080/"
        },
        "id": "JqQfjkCnBX8E",
        "outputId": "3a93d2f2-855e-493f-cf4b-638c79f628d9"
      },
      "source": [
        "test_data = torch.stack(test_data, axis=0)\n",
        "test_data.shape, len(test_label)"
      ],
      "execution_count": 743,
      "outputs": [
        {
          "output_type": "execute_result",
          "data": {
            "text/plain": [
              "(torch.Size([1000, 1, 2]), 1000)"
            ]
          },
          "metadata": {},
          "execution_count": 743
        }
      ]
    },
    {
      "cell_type": "code",
      "metadata": {
        "id": "nQhRf1ICBvW6"
      },
      "source": [
        "x1 = (train_data).numpy()\n",
        "y1 = np.array(train_label)"
      ],
      "execution_count": 744,
      "outputs": []
    },
    {
      "cell_type": "code",
      "metadata": {
        "colab": {
          "base_uri": "https://localhost:8080/"
        },
        "id": "vDAz96DSCXn5",
        "outputId": "5bab1559-220b-4ed9-f2b1-1f8f068c96fd"
      },
      "source": [
        "x1[y1==0,0]"
      ],
      "execution_count": 745,
      "outputs": [
        {
          "output_type": "execute_result",
          "data": {
            "text/plain": [
              "array([[ 0.14802493,  0.12159511],\n",
              "       [ 0.22062182,  0.17157012],\n",
              "       [ 0.32615974, -0.19070888],\n",
              "       [ 0.14885966, -0.01851265],\n",
              "       [ 0.26144447,  0.22297099],\n",
              "       [ 0.15414395, -0.05440411],\n",
              "       [ 0.08951863, -0.04422909],\n",
              "       [ 0.16342432,  0.16816626],\n",
              "       [ 0.24186954,  0.11480108],\n",
              "       [ 0.321191  ,  0.11851096],\n",
              "       [ 0.47454428, -0.10787294],\n",
              "       [ 0.34437747,  0.02949319],\n",
              "       [ 0.12597701, -0.0655565 ],\n",
              "       [ 0.31273059,  0.02779416],\n",
              "       [ 0.07947895,  0.38330684],\n",
              "       [ 0.22548846, -0.18763613],\n",
              "       [ 0.14002299, -0.21598621],\n",
              "       [ 0.19000603,  0.14317529],\n",
              "       [ 0.0629717 ,  0.04005631],\n",
              "       [ 0.15986864,  0.12821094],\n",
              "       [ 0.15957045,  0.06312973],\n",
              "       [ 0.30925592,  0.06775632],\n",
              "       [ 0.40003877, -0.07715829],\n",
              "       [ 0.30708946,  0.13575478],\n",
              "       [ 0.12339418,  0.06395791],\n",
              "       [ 0.46107582, -0.05141227],\n",
              "       [ 0.08929819,  0.26098709],\n",
              "       [ 0.11702954,  0.37159822],\n",
              "       [ 0.42103238,  0.1960462 ],\n",
              "       [ 0.25771876,  0.13210514],\n",
              "       [ 0.2951142 ,  0.14581188],\n",
              "       [ 0.31501513,  0.0577614 ],\n",
              "       [ 0.04985183,  0.10094405],\n",
              "       [ 0.08053236,  0.09094243],\n",
              "       [ 0.28860669,  0.29386769],\n",
              "       [ 0.22701486,  0.17261831],\n",
              "       [ 0.40203713,  0.27038283],\n",
              "       [ 0.29663311,  0.08845297],\n",
              "       [ 0.38449039,  0.36522632],\n",
              "       [ 0.17167951,  0.19346745],\n",
              "       [ 0.08410993, -0.21150071],\n",
              "       [ 0.17528099, -0.04564651],\n",
              "       [ 0.0137615 ,  0.11354105],\n",
              "       [ 0.18963397,  0.06683694],\n",
              "       [ 0.30606691,  0.10816348],\n",
              "       [ 0.15932264,  0.04739749],\n",
              "       [ 0.19474939, -0.12377808],\n",
              "       [ 0.23343142, -0.0244081 ],\n",
              "       [-0.00126629,  0.24216694],\n",
              "       [ 0.33420622,  0.18913132],\n",
              "       [ 0.50069665,  0.00609708],\n",
              "       [ 0.34952981,  0.09461631],\n",
              "       [ 0.07493225, -0.01014807],\n",
              "       [ 0.36382143,  0.17073884],\n",
              "       [ 0.07016631,  0.09515718],\n",
              "       [ 0.18611562,  0.07993935],\n",
              "       [ 0.26113174,  0.30564142],\n",
              "       [ 0.05780559, -0.01675966],\n",
              "       [ 0.36045435,  0.32940216],\n",
              "       [ 0.29215784,  0.07781552],\n",
              "       [ 0.21972916,  0.1243592 ],\n",
              "       [ 0.10939119,  0.03227037],\n",
              "       [ 0.38100389,  0.11420482],\n",
              "       [ 0.10577383,  0.19886402],\n",
              "       [ 0.13163977,  0.03656474],\n",
              "       [ 0.31877651,  0.5459966 ],\n",
              "       [ 0.21361892,  0.19617846],\n",
              "       [ 0.14204714,  0.00728208],\n",
              "       [ 0.09964129,  0.44056396],\n",
              "       [ 0.36102614,  0.01214928],\n",
              "       [ 0.26426091,  0.13867514],\n",
              "       [ 0.1272967 ,  0.09096839],\n",
              "       [ 0.28276536, -0.21880547],\n",
              "       [ 0.29032   ,  0.24627448],\n",
              "       [ 0.15699062,  0.02805439],\n",
              "       [ 0.46013394,  0.13142446],\n",
              "       [ 0.24354688, -0.09449909],\n",
              "       [ 0.20355718, -0.00404637],\n",
              "       [ 0.2633548 , -0.11883817],\n",
              "       [ 0.20876584,  0.07050843],\n",
              "       [ 0.34242084, -0.15973538],\n",
              "       [ 0.43181944, -0.19125817],\n",
              "       [ 0.28474017,  0.02218727],\n",
              "       [-0.09090751, -0.07971548],\n",
              "       [ 0.19915348,  0.01712757],\n",
              "       [ 0.47565111, -0.06714464],\n",
              "       [ 0.1965943 ,  0.07492664],\n",
              "       [ 0.01850465,  0.01118765],\n",
              "       [ 0.17154073,  0.25125005],\n",
              "       [ 0.37448497,  0.07122364],\n",
              "       [ 0.04654388,  0.02037187],\n",
              "       [ 0.45445694,  0.20777475],\n",
              "       [ 0.05725433,  0.07936871],\n",
              "       [ 0.17816511,  0.34938949],\n",
              "       [ 0.12792013, -0.142496  ],\n",
              "       [ 0.39269117,  0.20070717],\n",
              "       [ 0.22890675,  0.29741423],\n",
              "       [ 0.30642853,  0.02046467],\n",
              "       [ 0.23988318,  0.26186867],\n",
              "       [ 0.18800815,  0.23493079],\n",
              "       [ 0.3720924 , -0.01522563],\n",
              "       [-0.01895534,  0.01334998],\n",
              "       [ 0.09485709,  0.00241114],\n",
              "       [ 0.10020255,  0.23778111],\n",
              "       [ 0.08987142,  0.08533305],\n",
              "       [ 0.0176169 , -0.03485643],\n",
              "       [ 0.10452077,  0.38125064],\n",
              "       [-0.03197616,  0.0692234 ],\n",
              "       [ 0.18324903, -0.01608038],\n",
              "       [ 0.36692026,  0.18451609],\n",
              "       [-0.02486082,  0.0821087 ],\n",
              "       [ 0.26486102,  0.20085865],\n",
              "       [ 0.39708554, -0.21064035],\n",
              "       [ 0.46916558,  0.0277968 ],\n",
              "       [ 0.50176198,  0.11273233],\n",
              "       [ 0.22237308,  0.13360727],\n",
              "       [ 0.14498888, -0.02099988],\n",
              "       [ 0.35749706,  0.03224947],\n",
              "       [ 0.25769159,  0.1924919 ],\n",
              "       [ 0.46461068, -0.13269452],\n",
              "       [ 0.27418656,  0.3080158 ],\n",
              "       [ 0.23832106, -0.11407312],\n",
              "       [ 0.2565153 ,  0.23318629],\n",
              "       [ 0.44674728, -0.03756477],\n",
              "       [ 0.26998836,  0.29980122],\n",
              "       [ 0.23105223,  0.0637148 ],\n",
              "       [ 0.26545462,  0.20077322],\n",
              "       [ 0.33030953,  0.05200676],\n",
              "       [ 0.30449675,  0.08595341],\n",
              "       [ 0.29291906, -0.01351374],\n",
              "       [ 0.2298398 ,  0.22750871],\n",
              "       [ 0.19225709, -0.10023032],\n",
              "       [ 0.50558547,  0.37021491],\n",
              "       [ 0.22849763,  0.30671615],\n",
              "       [-0.04749946, -0.01784741],\n",
              "       [ 0.28692591,  0.26925324],\n",
              "       [ 0.08318703, -0.0264855 ],\n",
              "       [ 0.2351915 , -0.01680611],\n",
              "       [ 0.12870003,  0.2100502 ],\n",
              "       [ 0.19501207,  0.07356078],\n",
              "       [ 0.20287246,  0.06714033],\n",
              "       [ 0.01518538,  0.11341126],\n",
              "       [ 0.49327744,  0.09760471],\n",
              "       [ 0.08131845, -0.13329977],\n",
              "       [ 0.16823022,  0.14328393],\n",
              "       [ 0.44246409,  0.10295908],\n",
              "       [ 0.19686476, -0.11468215],\n",
              "       [ 0.24517134,  0.33378269],\n",
              "       [ 0.30729751,  0.0401282 ],\n",
              "       [-0.07398695, -0.03113835],\n",
              "       [ 0.2458148 ,  0.25291874],\n",
              "       [ 0.20770763, -0.03402681],\n",
              "       [ 0.22344582, -0.02835365],\n",
              "       [ 0.1802497 , -0.05471867],\n",
              "       [ 0.12996943,  0.21366932],\n",
              "       [ 0.24499802,  0.50700909]])"
            ]
          },
          "metadata": {},
          "execution_count": 745
        }
      ]
    },
    {
      "cell_type": "code",
      "metadata": {
        "colab": {
          "base_uri": "https://localhost:8080/"
        },
        "id": "kMwwZhv7Bv1U",
        "outputId": "467e1590-3f65-4331-b9fd-6b59e0e28040"
      },
      "source": [
        "x1[y1==0,0][:,0]"
      ],
      "execution_count": 746,
      "outputs": [
        {
          "output_type": "execute_result",
          "data": {
            "text/plain": [
              "array([ 0.14802493,  0.22062182,  0.32615974,  0.14885966,  0.26144447,\n",
              "        0.15414395,  0.08951863,  0.16342432,  0.24186954,  0.321191  ,\n",
              "        0.47454428,  0.34437747,  0.12597701,  0.31273059,  0.07947895,\n",
              "        0.22548846,  0.14002299,  0.19000603,  0.0629717 ,  0.15986864,\n",
              "        0.15957045,  0.30925592,  0.40003877,  0.30708946,  0.12339418,\n",
              "        0.46107582,  0.08929819,  0.11702954,  0.42103238,  0.25771876,\n",
              "        0.2951142 ,  0.31501513,  0.04985183,  0.08053236,  0.28860669,\n",
              "        0.22701486,  0.40203713,  0.29663311,  0.38449039,  0.17167951,\n",
              "        0.08410993,  0.17528099,  0.0137615 ,  0.18963397,  0.30606691,\n",
              "        0.15932264,  0.19474939,  0.23343142, -0.00126629,  0.33420622,\n",
              "        0.50069665,  0.34952981,  0.07493225,  0.36382143,  0.07016631,\n",
              "        0.18611562,  0.26113174,  0.05780559,  0.36045435,  0.29215784,\n",
              "        0.21972916,  0.10939119,  0.38100389,  0.10577383,  0.13163977,\n",
              "        0.31877651,  0.21361892,  0.14204714,  0.09964129,  0.36102614,\n",
              "        0.26426091,  0.1272967 ,  0.28276536,  0.29032   ,  0.15699062,\n",
              "        0.46013394,  0.24354688,  0.20355718,  0.2633548 ,  0.20876584,\n",
              "        0.34242084,  0.43181944,  0.28474017, -0.09090751,  0.19915348,\n",
              "        0.47565111,  0.1965943 ,  0.01850465,  0.17154073,  0.37448497,\n",
              "        0.04654388,  0.45445694,  0.05725433,  0.17816511,  0.12792013,\n",
              "        0.39269117,  0.22890675,  0.30642853,  0.23988318,  0.18800815,\n",
              "        0.3720924 , -0.01895534,  0.09485709,  0.10020255,  0.08987142,\n",
              "        0.0176169 ,  0.10452077, -0.03197616,  0.18324903,  0.36692026,\n",
              "       -0.02486082,  0.26486102,  0.39708554,  0.46916558,  0.50176198,\n",
              "        0.22237308,  0.14498888,  0.35749706,  0.25769159,  0.46461068,\n",
              "        0.27418656,  0.23832106,  0.2565153 ,  0.44674728,  0.26998836,\n",
              "        0.23105223,  0.26545462,  0.33030953,  0.30449675,  0.29291906,\n",
              "        0.2298398 ,  0.19225709,  0.50558547,  0.22849763, -0.04749946,\n",
              "        0.28692591,  0.08318703,  0.2351915 ,  0.12870003,  0.19501207,\n",
              "        0.20287246,  0.01518538,  0.49327744,  0.08131845,  0.16823022,\n",
              "        0.44246409,  0.19686476,  0.24517134,  0.30729751, -0.07398695,\n",
              "        0.2458148 ,  0.20770763,  0.22344582,  0.1802497 ,  0.12996943,\n",
              "        0.24499802])"
            ]
          },
          "metadata": {},
          "execution_count": 746
        }
      ]
    },
    {
      "cell_type": "code",
      "metadata": {
        "colab": {
          "base_uri": "https://localhost:8080/"
        },
        "id": "ydbu3OV3CYxB",
        "outputId": "7c2753e3-ac62-4810-c773-33615fd80704"
      },
      "source": [
        "x1[y1==0,0][:,1]"
      ],
      "execution_count": 747,
      "outputs": [
        {
          "output_type": "execute_result",
          "data": {
            "text/plain": [
              "array([ 0.12159511,  0.17157012, -0.19070888, -0.01851265,  0.22297099,\n",
              "       -0.05440411, -0.04422909,  0.16816626,  0.11480108,  0.11851096,\n",
              "       -0.10787294,  0.02949319, -0.0655565 ,  0.02779416,  0.38330684,\n",
              "       -0.18763613, -0.21598621,  0.14317529,  0.04005631,  0.12821094,\n",
              "        0.06312973,  0.06775632, -0.07715829,  0.13575478,  0.06395791,\n",
              "       -0.05141227,  0.26098709,  0.37159822,  0.1960462 ,  0.13210514,\n",
              "        0.14581188,  0.0577614 ,  0.10094405,  0.09094243,  0.29386769,\n",
              "        0.17261831,  0.27038283,  0.08845297,  0.36522632,  0.19346745,\n",
              "       -0.21150071, -0.04564651,  0.11354105,  0.06683694,  0.10816348,\n",
              "        0.04739749, -0.12377808, -0.0244081 ,  0.24216694,  0.18913132,\n",
              "        0.00609708,  0.09461631, -0.01014807,  0.17073884,  0.09515718,\n",
              "        0.07993935,  0.30564142, -0.01675966,  0.32940216,  0.07781552,\n",
              "        0.1243592 ,  0.03227037,  0.11420482,  0.19886402,  0.03656474,\n",
              "        0.5459966 ,  0.19617846,  0.00728208,  0.44056396,  0.01214928,\n",
              "        0.13867514,  0.09096839, -0.21880547,  0.24627448,  0.02805439,\n",
              "        0.13142446, -0.09449909, -0.00404637, -0.11883817,  0.07050843,\n",
              "       -0.15973538, -0.19125817,  0.02218727, -0.07971548,  0.01712757,\n",
              "       -0.06714464,  0.07492664,  0.01118765,  0.25125005,  0.07122364,\n",
              "        0.02037187,  0.20777475,  0.07936871,  0.34938949, -0.142496  ,\n",
              "        0.20070717,  0.29741423,  0.02046467,  0.26186867,  0.23493079,\n",
              "       -0.01522563,  0.01334998,  0.00241114,  0.23778111,  0.08533305,\n",
              "       -0.03485643,  0.38125064,  0.0692234 , -0.01608038,  0.18451609,\n",
              "        0.0821087 ,  0.20085865, -0.21064035,  0.0277968 ,  0.11273233,\n",
              "        0.13360727, -0.02099988,  0.03224947,  0.1924919 , -0.13269452,\n",
              "        0.3080158 , -0.11407312,  0.23318629, -0.03756477,  0.29980122,\n",
              "        0.0637148 ,  0.20077322,  0.05200676,  0.08595341, -0.01351374,\n",
              "        0.22750871, -0.10023032,  0.37021491,  0.30671615, -0.01784741,\n",
              "        0.26925324, -0.0264855 , -0.01680611,  0.2100502 ,  0.07356078,\n",
              "        0.06714033,  0.11341126,  0.09760471, -0.13329977,  0.14328393,\n",
              "        0.10295908, -0.11468215,  0.33378269,  0.0401282 , -0.03113835,\n",
              "        0.25291874, -0.03402681, -0.02835365, -0.05471867,  0.21366932,\n",
              "        0.50700909])"
            ]
          },
          "metadata": {},
          "execution_count": 747
        }
      ]
    },
    {
      "cell_type": "code",
      "metadata": {
        "colab": {
          "base_uri": "https://localhost:8080/",
          "height": 299
        },
        "id": "bT9-kEI7NAnR",
        "outputId": "38644bf0-3787-49c3-e22b-a5f2f20605b6"
      },
      "source": [
        "x1 = (train_data).numpy()\n",
        "y1 = np.array(train_label)\n",
        "\n",
        "plt.scatter(x1[y1==0,0][:,0], x1[y1==0,0][:,1], label='class 0')\n",
        "plt.scatter(x1[y1==1,0][:,0], x1[y1==1,0][:,1], label='class 1')\n",
        "plt.scatter(x1[y1==2,0][:,0], x1[y1==2,0][:,1], label='class 2')\n",
        "plt.legend()\n",
        "plt.title(\"dataset4 CIN with alpha = 1/\"+str(m))"
      ],
      "execution_count": 748,
      "outputs": [
        {
          "output_type": "execute_result",
          "data": {
            "text/plain": [
              "Text(0.5, 1.0, 'dataset4 CIN with alpha = 1/50')"
            ]
          },
          "metadata": {},
          "execution_count": 748
        },
        {
          "output_type": "display_data",
          "data": {
            "image/png": "[encoded data removed]",
            "text/plain": [
              "<Figure size 432x288 with 1 Axes>"
            ]
          },
          "metadata": {
            "needs_background": "light"
          }
        }
      ]
    },
    {
      "cell_type": "code",
      "metadata": {
        "colab": {
          "base_uri": "https://localhost:8080/",
          "height": 299
        },
        "id": "Sc8W2N7LQQ_l",
        "outputId": "b1e61e75-ea3b-40d7-cf92-4a3761af9784"
      },
      "source": [
        "x1 = (test_data).numpy()\n",
        "y1 = np.array(test_label)\n",
        "\n",
        "plt.scatter(x1[y1==0,0][:,0], x1[y1==0,0][:,1], label='class 0')\n",
        "plt.scatter(x1[y1==1,0][:,0], x1[y1==1,0][:,1], label='class 1')\n",
        "plt.scatter(x1[y1==2,0][:,0], x1[y1==2,0][:,1], label='class 2')\n",
        "plt.legend()\n",
        "plt.title(\"test dataset4\")"
      ],
      "execution_count": 749,
      "outputs": [
        {
          "output_type": "execute_result",
          "data": {
            "text/plain": [
              "Text(0.5, 1.0, 'test dataset4')"
            ]
          },
          "metadata": {},
          "execution_count": 749
        },
        {
          "output_type": "display_data",
          "data": {
            "image/png": "[encoded data removed]",
            "text/plain": [
              "<Figure size 432x288 with 1 Axes>"
            ]
          },
          "metadata": {
            "needs_background": "light"
          }
        }
      ]
    },
    {
      "cell_type": "code",
      "metadata": {
        "id": "yL0BRf8er0TX"
      },
      "source": [
        "class MosaicDataset(Dataset):\n",
        "  \"\"\"MosaicDataset dataset.\"\"\"\n",
        "\n",
        "  def __init__(self, mosaic_list_of_images, mosaic_label):\n",
        "    \"\"\"\n",
        "      Args:\n",
        "        csv_file (string): Path to the csv file with annotations.\n",
        "        root_dir (string): Directory with all the images.\n",
        "        transform (callable, optional): Optional transform to be applied\n",
        "            on a sample.\n",
        "    \"\"\"\n",
        "    self.mosaic = mosaic_list_of_images\n",
        "    self.label = mosaic_label\n",
        "    #self.fore_idx = fore_idx\n",
        "    \n",
        "  def __len__(self):\n",
        "    return len(self.label)\n",
        "\n",
        "  def __getitem__(self, idx):\n",
        "    return self.mosaic[idx] , self.label[idx] #, self.fore_idx[idx]\n",
        "\n"
      ],
      "execution_count": 750,
      "outputs": []
    },
    {
      "cell_type": "code",
      "metadata": {
        "colab": {
          "base_uri": "https://localhost:8080/"
        },
        "id": "4KsrW9qL9xgS",
        "outputId": "94dd6f39-3c8f-41de-def8-385680261475"
      },
      "source": [
        "train_data[0].shape, train_data[0]"
      ],
      "execution_count": 751,
      "outputs": [
        {
          "output_type": "execute_result",
          "data": {
            "text/plain": [
              "(torch.Size([1, 2]), tensor([[0.1418, 0.0205]], dtype=torch.float64))"
            ]
          },
          "metadata": {},
          "execution_count": 751
        }
      ]
    },
    {
      "cell_type": "code",
      "metadata": {
        "id": "EY2l62APygaV"
      },
      "source": [
        "batch = 200\n",
        "\n",
        "traindata_1 = MosaicDataset(train_data, train_label )\n",
        "trainloader_1 = DataLoader( traindata_1 , batch_size= batch ,shuffle=True)\n"
      ],
      "execution_count": 752,
      "outputs": []
    },
    {
      "cell_type": "code",
      "metadata": {
        "id": "9suUslCj8YZK"
      },
      "source": [
        "testdata_1 = MosaicDataset(test_data, test_label )\n",
        "testloader_1 = DataLoader( testdata_1 , batch_size= batch ,shuffle=False)\n"
      ],
      "execution_count": 753,
      "outputs": []
    },
    {
      "cell_type": "code",
      "metadata": {
        "id": "Nh3mBQHZ8bEj"
      },
      "source": [
        "# testdata_11 = MosaicDataset(test_dataset, labels )\n",
        "# testloader_11 = DataLoader( testdata_11 , batch_size= batch ,shuffle=False)"
      ],
      "execution_count": 754,
      "outputs": []
    },
    {
      "cell_type": "code",
      "metadata": {
        "id": "5_XeIUk0r0Tl"
      },
      "source": [
        "class Whatnet(nn.Module):\n",
        "    def __init__(self):\n",
        "        super(Whatnet,self).__init__()\n",
        "        self.linear1 = nn.Linear(2,50)\n",
        "        self.linear2 = nn.Linear(50,3)\n",
        "\n",
        "        torch.nn.init.xavier_normal_(self.linear1.weight)\n",
        "        torch.nn.init.zeros_(self.linear1.bias)\n",
        "        torch.nn.init.xavier_normal_(self.linear2.weight)\n",
        "        torch.nn.init.zeros_(self.linear2.bias)\n",
        "\n",
        "    def forward(self,x):\n",
        "        x = F.relu(self.linear1(x))\n",
        "        x = (self.linear2(x))\n",
        "\n",
        "        return x[:,0]"
      ],
      "execution_count": 755,
      "outputs": []
    },
    {
      "cell_type": "code",
      "metadata": {
        "id": "pjD2VZuV9Ed4"
      },
      "source": [
        "def calculate_loss(dataloader,model,criter):\n",
        "  model.eval()\n",
        "  r_loss = 0\n",
        "  with torch.no_grad():\n",
        "    for i, data in enumerate(dataloader, 0):\n",
        "      inputs, labels = data\n",
        "      inputs, labels = inputs.to(\"cuda\"),labels.to(\"cuda\")\n",
        "      outputs = model(inputs)\n",
        "      # print(outputs.shape)\n",
        "      loss = criter(outputs, labels)\n",
        "      r_loss += loss.item()\n",
        "  return r_loss/(i+1)"
      ],
      "execution_count": 756,
      "outputs": []
    },
    {
      "cell_type": "code",
      "metadata": {
        "id": "uALi25pmzQHV"
      },
      "source": [
        "def test_all(number, testloader,net):\n",
        "    correct = 0\n",
        "    total = 0\n",
        "    out = []\n",
        "    pred = []\n",
        "    with torch.no_grad():\n",
        "        for data in testloader:\n",
        "            images, labels = data\n",
        "            images, labels = images.to(\"cuda\"),labels.to(\"cuda\")\n",
        "            out.append(labels.cpu().numpy())\n",
        "            outputs= net(images)\n",
        "            _, predicted = torch.max(outputs.data, 1)\n",
        "            pred.append(predicted.cpu().numpy())\n",
        "            total += labels.size(0)\n",
        "            correct += (predicted == labels).sum().item()\n",
        "    \n",
        "    pred = np.concatenate(pred, axis = 0)\n",
        "    out = np.concatenate(out, axis = 0)\n",
        "    print(\"unique out: \",  np.unique(out), \"unique pred: \", np.unique(pred) )\n",
        "    print(\"correct: \", correct, \"total \",  total)\n",
        "    print('Accuracy of the network on the %d test dataset %d: %.2f %%' % (total, number , 100 * correct / total))"
      ],
      "execution_count": 757,
      "outputs": []
    },
    {
      "cell_type": "code",
      "metadata": {
        "id": "4vmNprlPzTjP"
      },
      "source": [
        "def train_all(trainloader, ds_number, testloader_list, lr_list):\n",
        "  \n",
        "  final_loss = []\n",
        "  for LR in lr_list:    \n",
        "    print(\"--\"*20, \"Learning Rate used is\", LR)\n",
        "    \n",
        "    torch.manual_seed(12)\n",
        "    net = Whatnet().double()\n",
        "    net = net.to(\"cuda\")\n",
        "    \n",
        "    criterion_net = nn.CrossEntropyLoss()\n",
        "    optimizer_net = optim.Adam(net.parameters(), lr=0.001 ) #, momentum=0.9)\n",
        "    \n",
        "    acti = []\n",
        "    loss_curi = []\n",
        "    epochs = 1000\n",
        "    running_loss = calculate_loss(trainloader,net,criterion_net)\n",
        "    loss_curi.append(running_loss)\n",
        "    print('epoch: [%d ] loss: %.3f' %(0,running_loss)) \n",
        "    for epoch in range(epochs): # loop over the dataset multiple times\n",
        "        ep_lossi = []\n",
        "\n",
        "        running_loss = 0.0\n",
        "        net.train()\n",
        "        for i, data in enumerate(trainloader, 0):\n",
        "            # get the inputs\n",
        "            inputs, labels = data\n",
        "            inputs, labels = inputs.to(\"cuda\"),labels.to(\"cuda\")\n",
        "\n",
        "            # zero the parameter gradients\n",
        "            optimizer_net.zero_grad()\n",
        "\n",
        "            # forward + backward + optimize\n",
        "            outputs = net(inputs)\n",
        "            # print(outputs.shape)\n",
        "            loss = criterion_net(outputs, labels)\n",
        "            # print statistics\n",
        "            running_loss += loss.item()\n",
        "            loss.backward()\n",
        "            optimizer_net.step()\n",
        "\n",
        "        running_loss = calculate_loss(trainloader,net,criterion_net)\n",
        "        if(epoch%200 == 0):\n",
        "          print('epoch: [%d] loss: %.3f' %(epoch + 1,running_loss)) \n",
        "        loss_curi.append(running_loss)   #loss per epoch\n",
        "        if running_loss<=0.05:\n",
        "          print('epoch: [%d] loss: %.3f' %(epoch + 1,running_loss))\n",
        "          break\n",
        "\n",
        "    print('Finished Training')\n",
        "    \n",
        "    correct = 0\n",
        "    total = 0\n",
        "    with torch.no_grad():\n",
        "        for data in trainloader:\n",
        "            images, labels = data\n",
        "            images, labels = images.to(\"cuda\"), labels.to(\"cuda\")\n",
        "            outputs = net(images)\n",
        "            _, predicted = torch.max(outputs.data, 1)\n",
        "            total += labels.size(0)\n",
        "            correct += (predicted == labels).sum().item()\n",
        "\n",
        "    print('Accuracy of the network on the %d train images: %.2f %%' % (total,  100 * correct / total))\n",
        "    \n",
        "    for i, j in enumerate(testloader_list):\n",
        "        test_all(i+1, j,net)\n",
        "    \n",
        "    print(\"--\"*40)\n",
        "    \n",
        "    final_loss.append(loss_curi) \n",
        "  return final_loss\n",
        "    "
      ],
      "execution_count": 758,
      "outputs": []
    },
    {
      "cell_type": "code",
      "metadata": {
        "id": "Yl41sE8vFERk"
      },
      "source": [
        "train_loss_all=[]\n",
        "\n",
        "testloader_list= [ testloader_1]\n",
        "lr_list = [0.0001, 0.0005, 0.001, 0.005, 0.01, 0.05, 0.1, 0.5 ]"
      ],
      "execution_count": 759,
      "outputs": []
    },
    {
      "cell_type": "code",
      "metadata": {
        "colab": {
          "base_uri": "https://localhost:8080/"
        },
        "id": "5gQoPST5zW2t",
        "outputId": "7391210b-022f-4d5b-b32a-2a8c26226b36"
      },
      "source": [
        "fin_loss = train_all(trainloader_1, 1, testloader_list, lr_list)\n",
        "train_loss_all.append(fin_loss)"
      ],
      "execution_count": 760,
      "outputs": [
        {
          "output_type": "stream",
          "name": "stdout",
          "text": [
            "---------------------------------------- Learning Rate used is 0.0001\n",
            "epoch: [0 ] loss: 1.095\n",
            "epoch: [1] loss: 1.094\n",
            "epoch: [201] loss: 1.063\n",
            "epoch: [401] loss: 1.062\n",
            "epoch: [601] loss: 1.059\n",
            "epoch: [801] loss: 1.052\n",
            "Finished Training\n",
            "Accuracy of the network on the 500 train images: 41.80 %\n",
            "unique out:  [0 1 2] unique pred:  [1 2]\n",
            "correct:  515 total  1000\n",
            "Accuracy of the network on the 1000 test dataset 1: 51.50 %\n",
            "--------------------------------------------------------------------------------\n",
            "---------------------------------------- Learning Rate used is 0.0005\n",
            "epoch: [0 ] loss: 1.095\n",
            "epoch: [1] loss: 1.094\n",
            "epoch: [201] loss: 1.063\n",
            "epoch: [401] loss: 1.062\n",
            "epoch: [601] loss: 1.059\n",
            "epoch: [801] loss: 1.052\n",
            "Finished Training\n",
            "Accuracy of the network on the 500 train images: 41.80 %\n",
            "unique out:  [0 1 2] unique pred:  [1 2]\n",
            "correct:  515 total  1000\n",
            "Accuracy of the network on the 1000 test dataset 1: 51.50 %\n",
            "--------------------------------------------------------------------------------\n",
            "---------------------------------------- Learning Rate used is 0.001\n",
            "epoch: [0 ] loss: 1.095\n",
            "epoch: [1] loss: 1.094\n",
            "epoch: [201] loss: 1.063\n",
            "epoch: [401] loss: 1.062\n",
            "epoch: [601] loss: 1.059\n",
            "epoch: [801] loss: 1.052\n",
            "Finished Training\n",
            "Accuracy of the network on the 500 train images: 41.80 %\n",
            "unique out:  [0 1 2] unique pred:  [1 2]\n",
            "correct:  515 total  1000\n",
            "Accuracy of the network on the 1000 test dataset 1: 51.50 %\n",
            "--------------------------------------------------------------------------------\n",
            "---------------------------------------- Learning Rate used is 0.005\n",
            "epoch: [0 ] loss: 1.095\n",
            "epoch: [1] loss: 1.094\n",
            "epoch: [201] loss: 1.063\n",
            "epoch: [401] loss: 1.062\n",
            "epoch: [601] loss: 1.059\n",
            "epoch: [801] loss: 1.052\n",
            "Finished Training\n",
            "Accuracy of the network on the 500 train images: 41.80 %\n",
            "unique out:  [0 1 2] unique pred:  [1 2]\n",
            "correct:  515 total  1000\n",
            "Accuracy of the network on the 1000 test dataset 1: 51.50 %\n",
            "--------------------------------------------------------------------------------\n",
            "---------------------------------------- Learning Rate used is 0.01\n",
            "epoch: [0 ] loss: 1.095\n",
            "epoch: [1] loss: 1.094\n",
            "epoch: [201] loss: 1.063\n",
            "epoch: [401] loss: 1.062\n",
            "epoch: [601] loss: 1.059\n",
            "epoch: [801] loss: 1.052\n",
            "Finished Training\n",
            "Accuracy of the network on the 500 train images: 41.80 %\n",
            "unique out:  [0 1 2] unique pred:  [1 2]\n",
            "correct:  515 total  1000\n",
            "Accuracy of the network on the 1000 test dataset 1: 51.50 %\n",
            "--------------------------------------------------------------------------------\n",
            "---------------------------------------- Learning Rate used is 0.05\n",
            "epoch: [0 ] loss: 1.095\n",
            "epoch: [1] loss: 1.094\n",
            "epoch: [201] loss: 1.063\n",
            "epoch: [401] loss: 1.062\n",
            "epoch: [601] loss: 1.059\n",
            "epoch: [801] loss: 1.052\n",
            "Finished Training\n",
            "Accuracy of the network on the 500 train images: 41.80 %\n",
            "unique out:  [0 1 2] unique pred:  [1 2]\n",
            "correct:  515 total  1000\n",
            "Accuracy of the network on the 1000 test dataset 1: 51.50 %\n",
            "--------------------------------------------------------------------------------\n",
            "---------------------------------------- Learning Rate used is 0.1\n",
            "epoch: [0 ] loss: 1.095\n",
            "epoch: [1] loss: 1.094\n",
            "epoch: [201] loss: 1.063\n",
            "epoch: [401] loss: 1.062\n",
            "epoch: [601] loss: 1.059\n",
            "epoch: [801] loss: 1.052\n",
            "Finished Training\n",
            "Accuracy of the network on the 500 train images: 41.80 %\n",
            "unique out:  [0 1 2] unique pred:  [1 2]\n",
            "correct:  515 total  1000\n",
            "Accuracy of the network on the 1000 test dataset 1: 51.50 %\n",
            "--------------------------------------------------------------------------------\n",
            "---------------------------------------- Learning Rate used is 0.5\n",
            "epoch: [0 ] loss: 1.095\n",
            "epoch: [1] loss: 1.094\n",
            "epoch: [201] loss: 1.063\n",
            "epoch: [401] loss: 1.062\n",
            "epoch: [601] loss: 1.059\n",
            "epoch: [801] loss: 1.052\n",
            "Finished Training\n",
            "Accuracy of the network on the 500 train images: 41.80 %\n",
            "unique out:  [0 1 2] unique pred:  [1 2]\n",
            "correct:  515 total  1000\n",
            "Accuracy of the network on the 1000 test dataset 1: 51.50 %\n",
            "--------------------------------------------------------------------------------\n"
          ]
        }
      ]
    },
    {
      "cell_type": "code",
      "metadata": {
        "id": "In76SYH_zZHV"
      },
      "source": [
        "%matplotlib inline"
      ],
      "execution_count": 761,
      "outputs": []
    },
    {
      "cell_type": "code",
      "metadata": {
        "colab": {
          "base_uri": "https://localhost:8080/"
        },
        "id": "_GsE3qHR_A5c",
        "outputId": "d76dc271-c1f3-4b23-ef8d-d5f83775012b"
      },
      "source": [
        "len(fin_loss)"
      ],
      "execution_count": 762,
      "outputs": [
        {
          "output_type": "execute_result",
          "data": {
            "text/plain": [
              "8"
            ]
          },
          "metadata": {},
          "execution_count": 762
        }
      ]
    },
    {
      "cell_type": "code",
      "metadata": {
        "id": "BS4HtOHEzZ0E",
        "colab": {
          "base_uri": "https://localhost:8080/",
          "height": 297
        },
        "outputId": "87b38832-bea0-4a1c-856c-7b84dc291afb"
      },
      "source": [
        "for i,j in enumerate(fin_loss):\n",
        "    plt.plot(j,label =\"LR = \"+str(lr_list[i]))\n",
        "    \n",
        "\n",
        "plt.xlabel(\"Epochs\")\n",
        "plt.ylabel(\"Training_loss\")\n",
        "\n",
        "plt.legend(loc='center left', bbox_to_anchor=(1, 0.5))"
      ],
      "execution_count": 763,
      "outputs": [
        {
          "output_type": "execute_result",
          "data": {
            "text/plain": [
              "<matplotlib.legend.Legend at 0x7fab0453d310>"
            ]
          },
          "metadata": {},
          "execution_count": 763
        },
        {
          "output_type": "display_data",
          "data": {
            "image/png": "[encoded data removed]",
            "text/plain": [
              "<Figure size 432x288 with 1 Axes>"
            ]
          },
          "metadata": {
            "needs_background": "light"
          }
        }
      ]
    },
    {
      "cell_type": "code",
      "metadata": {
        "id": "1UbTkfLUINTI"
      },
      "source": [
        ""
      ],
      "execution_count": 763,
      "outputs": []
    }
  ]
}