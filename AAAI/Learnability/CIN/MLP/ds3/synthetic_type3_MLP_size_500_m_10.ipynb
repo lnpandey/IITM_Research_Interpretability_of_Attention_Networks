{
  "nbformat": 4,
  "nbformat_minor": 0,
  "metadata": {
    "accelerator": "GPU",
    "colab": {
      "name": "synthetic_type3_MLP_m_5.ipynb",
      "provenance": [],
      "collapsed_sections": []
    },
    "kernelspec": {
      "display_name": "Python 3",
      "language": "python",
      "name": "python3"
    },
    "language_info": {
      "codemirror_mode": {
        "name": "ipython",
        "version": 3
      },
      "file_extension": ".py",
      "mimetype": "text/x-python",
      "name": "python",
      "nbconvert_exporter": "python",
      "pygments_lexer": "ipython3",
      "version": "3.6.5"
    }
  },
  "cells": [
    {
      "cell_type": "code",
      "metadata": {
        "colab": {
          "base_uri": "https://localhost:8080/"
        },
        "id": "N2_J4Rw2r0SQ",
        "outputId": "3bbd8ef5-a248-436b-bcaf-f93202d85f23"
      },
      "source": [
        "import numpy as np\n",
        "import pandas as pd\n",
        "from matplotlib import pyplot as plt\n",
        "from tqdm import tqdm\n",
        "%matplotlib inline\n",
        "from torch.utils.data import Dataset, DataLoader\n",
        "import torch\n",
        "import torchvision\n",
        "\n",
        "import torch.nn as nn\n",
        "import torch.optim as optim\n",
        "from torch.nn import functional as F\n",
        "device = torch.device(\"cuda\" if torch.cuda.is_available() else \"cpu\")\n",
        "print(device)"
      ],
      "execution_count": 623,
      "outputs": [
        {
          "output_type": "stream",
          "name": "stdout",
          "text": [
            "cuda\n"
          ]
        }
      ]
    },
    {
      "cell_type": "code",
      "metadata": {
        "id": "ZTJPyL45DiJ3"
      },
      "source": [
        "m = 10          # 5, 50, 100, 500, 2000"
      ],
      "execution_count": 624,
      "outputs": []
    },
    {
      "cell_type": "code",
      "metadata": {
        "id": "g-do5dZWK5L6"
      },
      "source": [
        "train_size = 500          # 100, 500, 2000, 10000"
      ],
      "execution_count": 625,
      "outputs": []
    },
    {
      "cell_type": "markdown",
      "metadata": {
        "id": "F6fjud_Fr0Sa"
      },
      "source": [
        "# Generate dataset"
      ]
    },
    {
      "cell_type": "code",
      "metadata": {
        "colab": {
          "base_uri": "https://localhost:8080/"
        },
        "id": "CqdXHO0Cr0Sd",
        "outputId": "f9fd5dc0-510b-4f97-89b6-10e781bbb334"
      },
      "source": [
        "np.random.seed(12)\n",
        "y = np.random.randint(0,10,5000)\n",
        "idx= []\n",
        "for i in range(10):\n",
        "    print(i,sum(y==i))\n",
        "    idx.append(y==i)"
      ],
      "execution_count": 626,
      "outputs": [
        {
          "output_type": "stream",
          "name": "stdout",
          "text": [
            "0 530\n",
            "1 463\n",
            "2 494\n",
            "3 517\n",
            "4 488\n",
            "5 497\n",
            "6 493\n",
            "7 507\n",
            "8 492\n",
            "9 519\n"
          ]
        }
      ]
    },
    {
      "cell_type": "code",
      "metadata": {
        "id": "ddhXyODwr0Sk"
      },
      "source": [
        "x = np.zeros((5000,2))"
      ],
      "execution_count": 627,
      "outputs": []
    },
    {
      "cell_type": "code",
      "metadata": {
        "id": "DyV3N2DIr0Sp"
      },
      "source": [
        "np.random.seed(12)\n",
        "x[idx[0],:] = np.random.multivariate_normal(mean = [7,4],cov=[[0.1,0],[0,0.1]],size=sum(idx[0]))\n",
        "x[idx[1],:] = np.random.multivariate_normal(mean = [8,6.5],cov=[[0.1,0],[0,0.1]],size=sum(idx[1]))\n",
        "x[idx[2],:] = np.random.multivariate_normal(mean = [5.5,6.5],cov=[[0.1,0],[0,0.1]],size=sum(idx[2]))\n",
        "x[idx[3],:] = np.random.multivariate_normal(mean = [-1,0],cov=[[0.1,0],[0,0.1]],size=sum(idx[3]))\n",
        "x[idx[4],:] = np.random.multivariate_normal(mean = [0,2],cov=[[0.1,0],[0,0.1]],size=sum(idx[4]))\n",
        "x[idx[5],:] = np.random.multivariate_normal(mean = [1,0],cov=[[0.1,0],[0,0.1]],size=sum(idx[5]))\n",
        "x[idx[6],:] = np.random.multivariate_normal(mean = [0,-1],cov=[[0.1,0],[0,0.1]],size=sum(idx[6]))\n",
        "x[idx[7],:] = np.random.multivariate_normal(mean = [0,0],cov=[[0.1,0],[0,0.1]],size=sum(idx[7]))\n",
        "x[idx[8],:] = np.random.multivariate_normal(mean = [-0.5,-0.5],cov=[[0.1,0],[0,0.1]],size=sum(idx[8]))\n",
        "x[idx[9],:] = np.random.multivariate_normal(mean = [0.4,0.2],cov=[[0.1,0],[0,0.1]],size=sum(idx[9]))"
      ],
      "execution_count": 628,
      "outputs": []
    },
    {
      "cell_type": "code",
      "metadata": {
        "colab": {
          "base_uri": "https://localhost:8080/"
        },
        "id": "qh1mDScsU07I",
        "outputId": "d64e81d0-256c-4fa6-b98e-84f07825da64"
      },
      "source": [
        "x[idx[0]][0], x[idx[5]][5] "
      ],
      "execution_count": 629,
      "outputs": [
        {
          "output_type": "execute_result",
          "data": {
            "text/plain": [
              "(array([7.14957125, 3.78451422]), array([0.87756167, 0.00457805]))"
            ]
          },
          "metadata": {},
          "execution_count": 629
        }
      ]
    },
    {
      "cell_type": "code",
      "metadata": {
        "colab": {
          "base_uri": "https://localhost:8080/",
          "height": 287
        },
        "id": "hJ8Jm7YUr0St",
        "outputId": "5665331e-9de3-4cc4-c349-ca6f0570faad"
      },
      "source": [
        "for i in range(10):\n",
        "    plt.scatter(x[idx[i],0],x[idx[i],1],label=\"class_\"+str(i))\n",
        "plt.legend(loc='center left', bbox_to_anchor=(1, 0.5))"
      ],
      "execution_count": 630,
      "outputs": [
        {
          "output_type": "execute_result",
          "data": {
            "text/plain": [
              "<matplotlib.legend.Legend at 0x7fab04d83310>"
            ]
          },
          "metadata": {},
          "execution_count": 630
        },
        {
          "output_type": "display_data",
          "data": {
            "image/png": "[encoded data removed]",
            "text/plain": [
              "<Figure size 432x288 with 1 Axes>"
            ]
          },
          "metadata": {
            "needs_background": "light"
          }
        }
      ]
    },
    {
      "cell_type": "code",
      "metadata": {
        "colab": {
          "base_uri": "https://localhost:8080/"
        },
        "id": "3lMBZEHNBlF2",
        "outputId": "d6ae1cf4-3ad3-4558-c958-3660a824e10a"
      },
      "source": [
        "bg_idx = [ np.where(idx[3] == True)[0], \n",
        "          np.where(idx[4] == True)[0], \n",
        "          np.where(idx[5] == True)[0],\n",
        "          np.where(idx[6] == True)[0], \n",
        "          np.where(idx[7] == True)[0], \n",
        "          np.where(idx[8] == True)[0],\n",
        "          np.where(idx[9] == True)[0]]\n",
        "\n",
        "bg_idx = np.concatenate(bg_idx, axis = 0)\n",
        "bg_idx.shape"
      ],
      "execution_count": 631,
      "outputs": [
        {
          "output_type": "execute_result",
          "data": {
            "text/plain": [
              "(3513,)"
            ]
          },
          "metadata": {},
          "execution_count": 631
        }
      ]
    },
    {
      "cell_type": "code",
      "metadata": {
        "colab": {
          "base_uri": "https://localhost:8080/"
        },
        "id": "blRbGZHeCwXU",
        "outputId": "32a92200-9b1f-4cae-c927-ce32da6863b8"
      },
      "source": [
        "np.unique(bg_idx).shape"
      ],
      "execution_count": 632,
      "outputs": [
        {
          "output_type": "execute_result",
          "data": {
            "text/plain": [
              "(3513,)"
            ]
          },
          "metadata": {},
          "execution_count": 632
        }
      ]
    },
    {
      "cell_type": "code",
      "metadata": {
        "id": "Y43sWeX7C15F"
      },
      "source": [
        "x = x - np.mean(x[bg_idx], axis = 0, keepdims = True)\n"
      ],
      "execution_count": 633,
      "outputs": []
    },
    {
      "cell_type": "code",
      "metadata": {
        "colab": {
          "base_uri": "https://localhost:8080/"
        },
        "id": "ooII7N6UDWe0",
        "outputId": "23613ffe-813b-41ec-8eda-228a45e2c718"
      },
      "source": [
        "np.mean(x[bg_idx], axis = 0, keepdims = True), np.mean(x, axis = 0, keepdims = True)"
      ],
      "execution_count": 634,
      "outputs": [
        {
          "output_type": "execute_result",
          "data": {
            "text/plain": [
              "(array([[-1.04275003e-16,  6.74571889e-17]]),\n",
              " array([[2.02981967, 1.63582644]]))"
            ]
          },
          "metadata": {},
          "execution_count": 634
        }
      ]
    },
    {
      "cell_type": "code",
      "metadata": {
        "id": "g21bvPRYDL9k"
      },
      "source": [
        "x = x/np.std(x[bg_idx], axis = 0, keepdims = True)"
      ],
      "execution_count": 635,
      "outputs": []
    },
    {
      "cell_type": "code",
      "metadata": {
        "colab": {
          "base_uri": "https://localhost:8080/"
        },
        "id": "GtFvIeHsDZJk",
        "outputId": "20a2ab4c-0538-4381-8745-b99b78fa3ad2"
      },
      "source": [
        "np.std(x[bg_idx], axis = 0, keepdims = True), np.std(x, axis = 0, keepdims = True)"
      ],
      "execution_count": 636,
      "outputs": [
        {
          "output_type": "execute_result",
          "data": {
            "text/plain": [
              "(array([[1., 1.]]), array([[4.89756643, 3.00501566]]))"
            ]
          },
          "metadata": {},
          "execution_count": 636
        }
      ]
    },
    {
      "cell_type": "code",
      "metadata": {
        "colab": {
          "base_uri": "https://localhost:8080/",
          "height": 283
        },
        "id": "8-VLhUfDDeHt",
        "outputId": "425c474d-5fe1-45a4-eefb-bacced6ed169"
      },
      "source": [
        "for i in range(10):\n",
        "    plt.scatter(x[idx[i],0],x[idx[i],1],label=\"class_\"+str(i))\n",
        "plt.legend(loc='center left', bbox_to_anchor=(1, 0.5))"
      ],
      "execution_count": 637,
      "outputs": [
        {
          "output_type": "execute_result",
          "data": {
            "text/plain": [
              "<matplotlib.legend.Legend at 0x7fab04d1a810>"
            ]
          },
          "metadata": {},
          "execution_count": 637
        },
        {
          "output_type": "display_data",
          "data": {
            "image/png": "[encoded data removed]",
            "text/plain": [
              "<Figure size 432x288 with 1 Axes>"
            ]
          },
          "metadata": {
            "needs_background": "light"
          }
        }
      ]
    },
    {
      "cell_type": "code",
      "metadata": {
        "id": "UfFHcZJOr0Sz"
      },
      "source": [
        "foreground_classes = {'class_0','class_1', 'class_2'}\n",
        "\n",
        "background_classes = {'class_3','class_4', 'class_5', 'class_6','class_7', 'class_8', 'class_9'}"
      ],
      "execution_count": 638,
      "outputs": []
    },
    {
      "cell_type": "code",
      "metadata": {
        "colab": {
          "base_uri": "https://localhost:8080/"
        },
        "id": "OplNpNQVr0S2",
        "outputId": "281ca1ab-e70c-408f-a79c-6343b505be78"
      },
      "source": [
        "fg_class  = np.random.randint(0,3)\n",
        "fg_idx = np.random.randint(0,m)\n",
        "train_data=[]\n",
        "a = []\n",
        "fg_instance = np.array([[0.0,0.0]])\n",
        "bg_instance = np.array([[0.0,0.0]])\n",
        "\n",
        "for i in range(m):\n",
        "  if i == fg_idx:\n",
        "    b = np.random.choice(np.where(idx[fg_class]==True)[0],size=1)\n",
        "    fg_instance += x[b]\n",
        "    a.append(x[b])\n",
        "    print(\"foreground \"+str(fg_class)+\" present at \" + str(fg_idx))\n",
        "  else:\n",
        "    bg_class = np.random.randint(3,10)\n",
        "    b = np.random.choice(np.where(idx[bg_class]==True)[0],size=1)\n",
        "    bg_instance += x[b]\n",
        "    a.append(x[b])\n",
        "    print(\"background \"+str(bg_class)+\" present at \" + str(i))\n",
        "\n",
        "a = np.concatenate(a,axis=0)\n",
        "print(a.shape)\n",
        "\n",
        "print(fg_class , fg_idx)"
      ],
      "execution_count": 639,
      "outputs": [
        {
          "output_type": "stream",
          "name": "stdout",
          "text": [
            "background 5 present at 0\n",
            "background 6 present at 1\n",
            "foreground 2 present at 2\n",
            "background 5 present at 3\n",
            "background 3 present at 4\n",
            "background 5 present at 5\n",
            "background 7 present at 6\n",
            "background 6 present at 7\n",
            "background 5 present at 8\n",
            "background 3 present at 9\n",
            "(10, 2)\n",
            "2 2\n"
          ]
        }
      ]
    },
    {
      "cell_type": "code",
      "metadata": {
        "colab": {
          "base_uri": "https://localhost:8080/"
        },
        "id": "Rx6cMmR3baVf",
        "outputId": "332fbfde-c6f3-48d0-eee3-0e920995204e"
      },
      "source": [
        "a"
      ],
      "execution_count": 640,
      "outputs": [
        {
          "output_type": "execute_result",
          "data": {
            "text/plain": [
              "array([[ 1.52560273, -0.1298488 ],\n",
              "       [-0.4226508 , -1.2003313 ],\n",
              "       [ 8.5153438 ,  7.02349438],\n",
              "       [ 2.09728368, -0.24465132],\n",
              "       [-0.98608769, -0.75123246],\n",
              "       [ 1.37297554, -0.37673308],\n",
              "       [-0.88469208, -0.11155199],\n",
              "       [ 0.32308641, -1.23774128],\n",
              "       [ 1.37297554, -0.37673308],\n",
              "       [-1.37994224, -0.01869277]])"
            ]
          },
          "metadata": {},
          "execution_count": 640
        }
      ]
    },
    {
      "cell_type": "code",
      "metadata": {
        "colab": {
          "base_uri": "https://localhost:8080/"
        },
        "id": "dEdaFZPQhc7D",
        "outputId": "36f8ab40-e39e-4b9d-d731-adf83bc53622"
      },
      "source": [
        "fg_instance"
      ],
      "execution_count": 641,
      "outputs": [
        {
          "output_type": "execute_result",
          "data": {
            "text/plain": [
              "array([[8.5153438 , 7.02349438]])"
            ]
          },
          "metadata": {},
          "execution_count": 641
        }
      ]
    },
    {
      "cell_type": "code",
      "metadata": {
        "colab": {
          "base_uri": "https://localhost:8080/"
        },
        "id": "IqdAVbG1hftM",
        "outputId": "7770c474-175b-4f5d-968b-4768fd08c869"
      },
      "source": [
        "bg_instance"
      ],
      "execution_count": 642,
      "outputs": [
        {
          "output_type": "execute_result",
          "data": {
            "text/plain": [
              "array([[ 3.01855109, -4.44751607]])"
            ]
          },
          "metadata": {},
          "execution_count": 642
        }
      ]
    },
    {
      "cell_type": "code",
      "metadata": {
        "colab": {
          "base_uri": "https://localhost:8080/"
        },
        "id": "Ho98SSXEhx6L",
        "outputId": "a30ab68f-c002-41ae-aec9-64db458c3090"
      },
      "source": [
        "(fg_instance+bg_instance)/m , m"
      ],
      "execution_count": 643,
      "outputs": [
        {
          "output_type": "execute_result",
          "data": {
            "text/plain": [
              "(array([[1.15338949, 0.25759783]]), 10)"
            ]
          },
          "metadata": {},
          "execution_count": 643
        }
      ]
    },
    {
      "cell_type": "code",
      "metadata": {
        "id": "jqbvfbwVr0TN"
      },
      "source": [
        "# mosaic_list_of_images =[]\n",
        "# mosaic_label = []\n",
        "train_label=[]\n",
        "fore_idx=[]\n",
        "train_data = []\n",
        "for j in range(train_size):\n",
        "  np.random.seed(j)\n",
        "  fg_instance = torch.zeros([2], dtype=torch.float64) #np.array([[0.0,0.0]])\n",
        "  bg_instance = torch.zeros([2], dtype=torch.float64) #np.array([[0.0,0.0]])\n",
        "  # a=[]\n",
        "\n",
        "  for i in range(m):\n",
        "    if i == fg_idx:\n",
        "      fg_class  = np.random.randint(0,3)\n",
        "      b = np.random.choice(np.where(idx[fg_class]==True)[0],size=1)\n",
        "      fg_instance += x[b]\n",
        "      # a.append(x[b])\n",
        "      # print(\"foreground \"+str(fg_class)+\" present at \" + str(fg_idx))\n",
        "    else:\n",
        "      bg_class = np.random.randint(3,10)\n",
        "      b = np.random.choice(np.where(idx[bg_class]==True)[0],size=1)\n",
        "      bg_instance += x[b]\n",
        "      # a.append(x[b])\n",
        "      # print(\"background \"+str(bg_class)+\" present at \" + str(i))\n",
        "  train_data.append((fg_instance+bg_instance)/m)\n",
        "  # a = np.concatenate(a,axis=0)\n",
        "  # mosaic_list_of_images.append(np.reshape(a,(2*m,1)))\n",
        "  train_label.append(fg_class)\n",
        "  fore_idx.append(fg_idx)"
      ],
      "execution_count": 644,
      "outputs": []
    },
    {
      "cell_type": "code",
      "metadata": {
        "colab": {
          "base_uri": "https://localhost:8080/"
        },
        "id": "X_g6lxkVjN0N",
        "outputId": "b982722c-0c1f-4ecc-d343-1abaf43e55a7"
      },
      "source": [
        " train_data[0], train_label[0]"
      ],
      "execution_count": 645,
      "outputs": [
        {
          "output_type": "execute_result",
          "data": {
            "text/plain": [
              "(tensor([[1.4207, 0.6244]], dtype=torch.float64), 1)"
            ]
          },
          "metadata": {},
          "execution_count": 645
        }
      ]
    },
    {
      "cell_type": "code",
      "metadata": {
        "colab": {
          "base_uri": "https://localhost:8080/"
        },
        "id": "Tz5wQCevobYr",
        "outputId": "c379243a-af04-4749-ea21-52d2600f2106"
      },
      "source": [
        "train_data = torch.stack(train_data, axis=0)\n",
        "train_data.shape, len(train_label)"
      ],
      "execution_count": 646,
      "outputs": [
        {
          "output_type": "execute_result",
          "data": {
            "text/plain": [
              "(torch.Size([500, 1, 2]), 500)"
            ]
          },
          "metadata": {},
          "execution_count": 646
        }
      ]
    },
    {
      "cell_type": "code",
      "metadata": {
        "id": "CVAlImGYA49A"
      },
      "source": [
        "test_label=[]\n",
        "# fore_idx=[]\n",
        "test_data = []\n",
        "for j in range(1000):\n",
        "  np.random.seed(j)\n",
        "  fg_instance = torch.zeros([2], dtype=torch.float64) #np.array([[0.0,0.0]])\n",
        "\n",
        "  fg_class  = np.random.randint(0,3)\n",
        "  b = np.random.choice(np.where(idx[fg_class]==True)[0],size=1)\n",
        "  fg_instance += x[b]\n",
        "  # a.append(x[b])\n",
        "  # print(\"foreground \"+str(fg_class)+\" present at \" + str(fg_idx))\n",
        "\n",
        "  test_data.append((fg_instance)/m)\n",
        "  # a = np.concatenate(a,axis=0)\n",
        "  # mosaic_list_of_images.append(np.reshape(a,(2*m,1)))\n",
        "  test_label.append(fg_class)\n",
        "  # fore_idx.append(fg_idx)"
      ],
      "execution_count": 647,
      "outputs": []
    },
    {
      "cell_type": "code",
      "metadata": {
        "colab": {
          "base_uri": "https://localhost:8080/"
        },
        "id": "XltBz3__BT_C",
        "outputId": "f2e9992e-1a65-42c2-fe12-41d473474715"
      },
      "source": [
        "test_data[0], test_label[0]"
      ],
      "execution_count": 648,
      "outputs": [
        {
          "output_type": "execute_result",
          "data": {
            "text/plain": [
              "(tensor([[1.1141, 0.3917]], dtype=torch.float64), 0)"
            ]
          },
          "metadata": {},
          "execution_count": 648
        }
      ]
    },
    {
      "cell_type": "code",
      "metadata": {
        "colab": {
          "base_uri": "https://localhost:8080/"
        },
        "id": "JqQfjkCnBX8E",
        "outputId": "9fcf6536-f100-4b6e-e2f6-41b649b22168"
      },
      "source": [
        "test_data = torch.stack(test_data, axis=0)\n",
        "test_data.shape, len(test_label)"
      ],
      "execution_count": 649,
      "outputs": [
        {
          "output_type": "execute_result",
          "data": {
            "text/plain": [
              "(torch.Size([1000, 1, 2]), 1000)"
            ]
          },
          "metadata": {},
          "execution_count": 649
        }
      ]
    },
    {
      "cell_type": "code",
      "metadata": {
        "id": "nQhRf1ICBvW6"
      },
      "source": [
        "x1 = (train_data).numpy()\n",
        "y1 = np.array(train_label)"
      ],
      "execution_count": 650,
      "outputs": []
    },
    {
      "cell_type": "code",
      "metadata": {
        "colab": {
          "base_uri": "https://localhost:8080/"
        },
        "id": "vDAz96DSCXn5",
        "outputId": "baf774ce-8bb4-440e-b343-e8b11f4743f8"
      },
      "source": [
        "x1[y1==0,0]"
      ],
      "execution_count": 651,
      "outputs": [
        {
          "output_type": "execute_result",
          "data": {
            "text/plain": [
              "array([[ 1.64409852,  0.6574221 ],\n",
              "       [ 1.59567835,  0.38503995],\n",
              "       [ 1.5244532 ,  0.51492166],\n",
              "       [ 1.34750211,  0.83649571],\n",
              "       [ 1.29346551,  0.22574155],\n",
              "       [ 1.24226659,  0.22980386],\n",
              "       [ 1.29906122,  0.43362643],\n",
              "       [ 1.27040982,  0.1424276 ],\n",
              "       [ 0.71454345,  0.06333773],\n",
              "       [ 1.13927327,  0.50694075],\n",
              "       [ 1.01764497,  0.50727911],\n",
              "       [ 1.32741653,  0.99831313],\n",
              "       [ 1.01514941,  0.27887222],\n",
              "       [ 0.92994903,  1.20224718],\n",
              "       [ 1.09051768,  0.48936063],\n",
              "       [ 1.36629032,  0.09950964],\n",
              "       [ 1.27281836,  0.18682961],\n",
              "       [ 0.90857024,  0.65428639],\n",
              "       [ 1.09926047,  0.24957231],\n",
              "       [ 1.07879535,  0.95936851],\n",
              "       [ 1.37486133,  1.0580048 ],\n",
              "       [ 0.51498465,  0.49961881],\n",
              "       [ 1.04730585,  0.80419029],\n",
              "       [ 1.02883756,  0.12794301],\n",
              "       [ 0.89114187,  0.40605811],\n",
              "       [ 1.05482101,  0.50461961],\n",
              "       [ 1.08260383,  0.70108399],\n",
              "       [ 1.28094735,  0.51810174],\n",
              "       [ 0.98632698,  0.28844299],\n",
              "       [ 1.02557771, -0.01151334],\n",
              "       [ 1.65651263,  0.39489284],\n",
              "       [ 0.95319902,  0.22243214],\n",
              "       [ 0.8609072 ,  0.42895873],\n",
              "       [ 1.46504914,  0.44110343],\n",
              "       [ 1.92318691, -0.02169982],\n",
              "       [ 1.27274322,  0.47988805],\n",
              "       [ 0.80375883,  0.56197807],\n",
              "       [ 1.5361008 ,  0.52788267],\n",
              "       [ 1.24677344,  0.32988258],\n",
              "       [ 1.21051362,  0.08859967],\n",
              "       [ 0.79065441,  0.97751364],\n",
              "       [ 0.90496736,  0.11927294],\n",
              "       [ 1.47687137,  0.39577505],\n",
              "       [ 1.61192396,  1.08771315],\n",
              "       [ 0.71244753,  1.20012231],\n",
              "       [ 1.28941517,  0.71797792],\n",
              "       [ 1.64602342,  0.8087043 ],\n",
              "       [ 0.99390263,  0.84246219],\n",
              "       [ 1.49256293,  0.8274555 ],\n",
              "       [ 1.03185548,  1.40264002],\n",
              "       [ 1.16511101,  0.85614694],\n",
              "       [ 1.03683067,  0.24832702],\n",
              "       [ 1.0052365 ,  0.58917128],\n",
              "       [ 0.78362373,  1.01833374],\n",
              "       [ 0.98922597,  0.28821837],\n",
              "       [ 0.75346443,  0.68465873],\n",
              "       [ 1.35056894,  0.85329343],\n",
              "       [ 0.7527622 ,  0.50618629],\n",
              "       [ 1.08520894,  0.34324083],\n",
              "       [ 1.17924837, -0.15180711],\n",
              "       [ 1.30344388,  0.37606819],\n",
              "       [ 0.48969529,  0.25539681],\n",
              "       [ 1.17011911,  0.40717329],\n",
              "       [ 0.88802729,  0.71567562],\n",
              "       [ 0.95309258,  0.24233235],\n",
              "       [ 1.6123985 ,  0.4397447 ],\n",
              "       [ 0.54984721,  0.26039572],\n",
              "       [ 0.96843228,  0.9476145 ],\n",
              "       [ 1.00613553,  0.43121179],\n",
              "       [ 1.14984416,  0.49694861],\n",
              "       [ 0.9721766 ,  0.28314571],\n",
              "       [ 0.39980437,  0.21703503],\n",
              "       [ 0.90656204,  0.3357945 ],\n",
              "       [ 1.41550044,  0.7764645 ],\n",
              "       [ 1.0186313 ,  0.37289219],\n",
              "       [ 0.76042513,  0.86587028],\n",
              "       [ 0.65255508, -0.26521883],\n",
              "       [ 1.01531972,  0.43336997],\n",
              "       [ 1.01055291,  0.2920322 ],\n",
              "       [ 0.78800339, -0.11733194],\n",
              "       [ 1.01157066,  0.4239643 ],\n",
              "       [ 1.37058236,  0.6244249 ],\n",
              "       [ 0.80331802,  0.75069545],\n",
              "       [ 0.68046445,  0.03216877],\n",
              "       [ 0.78412559,  0.54641519],\n",
              "       [ 1.22861539,  0.3045134 ],\n",
              "       [ 1.18859358,  0.15851546],\n",
              "       [ 1.19804756,  0.72732022],\n",
              "       [ 1.50251209,  0.45615808],\n",
              "       [ 1.70875044, -0.00806284],\n",
              "       [ 0.54444293,  0.72600705],\n",
              "       [ 0.85026187,  0.74608572],\n",
              "       [ 0.77415744, -0.04252954],\n",
              "       [ 1.03330505,  0.16176449],\n",
              "       [ 0.98576944,  0.15789965],\n",
              "       [ 1.13733519,  0.65308952],\n",
              "       [ 0.73376177,  0.31456513],\n",
              "       [ 1.19167965,  0.55166773],\n",
              "       [ 1.16174049,  0.04102419],\n",
              "       [ 1.66195942,  0.16758736],\n",
              "       [ 1.67513329,  0.51003213],\n",
              "       [ 0.92576003,  0.45823182],\n",
              "       [ 0.86449631, -0.16770154],\n",
              "       [ 0.88911953,  0.24788911],\n",
              "       [ 1.19743078,  0.65754856],\n",
              "       [ 1.00297952,  0.42228836],\n",
              "       [ 1.27913732,  1.03596035],\n",
              "       [ 0.64437237,  0.2404234 ],\n",
              "       [ 0.98095444, -0.19883654],\n",
              "       [ 0.28909047,  0.40946635],\n",
              "       [ 1.08648894,  0.76827686],\n",
              "       [ 1.47250181,  0.56991449],\n",
              "       [ 0.64776057,  0.62721599],\n",
              "       [ 0.86832622,  0.43196143],\n",
              "       [ 1.20220223,  0.68354986],\n",
              "       [ 0.44635068,  0.17068386],\n",
              "       [ 1.2208041 ,  0.2806544 ],\n",
              "       [ 1.07117271,  0.55519957],\n",
              "       [ 1.30542899,  0.4259899 ],\n",
              "       [ 1.58526394,  0.18632732],\n",
              "       [ 1.85116561,  0.08075803],\n",
              "       [ 1.61850194,  0.51894878],\n",
              "       [ 1.13911362,  0.46097967],\n",
              "       [ 1.0749684 ,  0.29121585],\n",
              "       [ 1.26685921,  0.61585512],\n",
              "       [ 1.16210404,  0.10241415],\n",
              "       [ 0.78939058,  0.67603941],\n",
              "       [ 1.44748986, -0.07095595],\n",
              "       [ 0.99474264,  0.53702735],\n",
              "       [ 1.64248041,  0.81618204],\n",
              "       [ 1.25720648,  0.52487255],\n",
              "       [ 0.94231082,  0.78733312],\n",
              "       [ 1.1300009 ,  0.89043011],\n",
              "       [ 0.88151497,  0.55801867],\n",
              "       [ 0.68187922,  0.81063804],\n",
              "       [ 1.31808756,  0.37172296],\n",
              "       [ 1.11757776,  0.62150168],\n",
              "       [ 0.61196321,  0.85787549],\n",
              "       [ 1.23817142,  0.27501382],\n",
              "       [ 1.3124178 , -0.21385287],\n",
              "       [ 0.75864792,  0.67673259],\n",
              "       [ 1.32749074,  0.27594615],\n",
              "       [ 1.14518417,  0.7370136 ],\n",
              "       [ 0.73421352,  0.11133707],\n",
              "       [ 1.28991426,  0.63645042],\n",
              "       [ 1.15201433,  0.39647679],\n",
              "       [ 0.89352872,  0.67902038],\n",
              "       [ 1.83533992,  1.16310188],\n",
              "       [ 1.22183902,  0.15211272],\n",
              "       [ 1.12067254,  0.23037737],\n",
              "       [ 1.20263046,  0.12404012],\n",
              "       [ 1.32464892,  0.85596747],\n",
              "       [ 1.79809376,  1.190012  ],\n",
              "       [ 0.65328919,  0.15158918],\n",
              "       [ 0.56142035, -0.01781102],\n",
              "       [ 1.1086555 ,  0.62660086],\n",
              "       [ 0.61975252,  0.07000795],\n",
              "       [ 0.87067197,  0.82215228],\n",
              "       [ 1.42614184,  0.36358976],\n",
              "       [ 1.0663623 ,  0.43476875],\n",
              "       [ 1.38872741,  0.51225012],\n",
              "       [ 0.94565144, -0.05607521],\n",
              "       [ 0.63344547,  0.31477857],\n",
              "       [ 0.8379896 ,  0.75886655],\n",
              "       [ 0.67542803,  0.48352922],\n",
              "       [ 0.95873681, -0.05726768],\n",
              "       [ 1.55714805,  0.37927432],\n",
              "       [ 1.48476392,  0.61020278],\n",
              "       [ 1.11896448,  0.48346961]])"
            ]
          },
          "metadata": {},
          "execution_count": 651
        }
      ]
    },
    {
      "cell_type": "code",
      "metadata": {
        "colab": {
          "base_uri": "https://localhost:8080/"
        },
        "id": "kMwwZhv7Bv1U",
        "outputId": "d8f50fb0-c4ae-4463-e042-93ee1ebd38f6"
      },
      "source": [
        "x1[y1==0,0][:,0]"
      ],
      "execution_count": 652,
      "outputs": [
        {
          "output_type": "execute_result",
          "data": {
            "text/plain": [
              "array([1.64409852, 1.59567835, 1.5244532 , 1.34750211, 1.29346551,\n",
              "       1.24226659, 1.29906122, 1.27040982, 0.71454345, 1.13927327,\n",
              "       1.01764497, 1.32741653, 1.01514941, 0.92994903, 1.09051768,\n",
              "       1.36629032, 1.27281836, 0.90857024, 1.09926047, 1.07879535,\n",
              "       1.37486133, 0.51498465, 1.04730585, 1.02883756, 0.89114187,\n",
              "       1.05482101, 1.08260383, 1.28094735, 0.98632698, 1.02557771,\n",
              "       1.65651263, 0.95319902, 0.8609072 , 1.46504914, 1.92318691,\n",
              "       1.27274322, 0.80375883, 1.5361008 , 1.24677344, 1.21051362,\n",
              "       0.79065441, 0.90496736, 1.47687137, 1.61192396, 0.71244753,\n",
              "       1.28941517, 1.64602342, 0.99390263, 1.49256293, 1.03185548,\n",
              "       1.16511101, 1.03683067, 1.0052365 , 0.78362373, 0.98922597,\n",
              "       0.75346443, 1.35056894, 0.7527622 , 1.08520894, 1.17924837,\n",
              "       1.30344388, 0.48969529, 1.17011911, 0.88802729, 0.95309258,\n",
              "       1.6123985 , 0.54984721, 0.96843228, 1.00613553, 1.14984416,\n",
              "       0.9721766 , 0.39980437, 0.90656204, 1.41550044, 1.0186313 ,\n",
              "       0.76042513, 0.65255508, 1.01531972, 1.01055291, 0.78800339,\n",
              "       1.01157066, 1.37058236, 0.80331802, 0.68046445, 0.78412559,\n",
              "       1.22861539, 1.18859358, 1.19804756, 1.50251209, 1.70875044,\n",
              "       0.54444293, 0.85026187, 0.77415744, 1.03330505, 0.98576944,\n",
              "       1.13733519, 0.73376177, 1.19167965, 1.16174049, 1.66195942,\n",
              "       1.67513329, 0.92576003, 0.86449631, 0.88911953, 1.19743078,\n",
              "       1.00297952, 1.27913732, 0.64437237, 0.98095444, 0.28909047,\n",
              "       1.08648894, 1.47250181, 0.64776057, 0.86832622, 1.20220223,\n",
              "       0.44635068, 1.2208041 , 1.07117271, 1.30542899, 1.58526394,\n",
              "       1.85116561, 1.61850194, 1.13911362, 1.0749684 , 1.26685921,\n",
              "       1.16210404, 0.78939058, 1.44748986, 0.99474264, 1.64248041,\n",
              "       1.25720648, 0.94231082, 1.1300009 , 0.88151497, 0.68187922,\n",
              "       1.31808756, 1.11757776, 0.61196321, 1.23817142, 1.3124178 ,\n",
              "       0.75864792, 1.32749074, 1.14518417, 0.73421352, 1.28991426,\n",
              "       1.15201433, 0.89352872, 1.83533992, 1.22183902, 1.12067254,\n",
              "       1.20263046, 1.32464892, 1.79809376, 0.65328919, 0.56142035,\n",
              "       1.1086555 , 0.61975252, 0.87067197, 1.42614184, 1.0663623 ,\n",
              "       1.38872741, 0.94565144, 0.63344547, 0.8379896 , 0.67542803,\n",
              "       0.95873681, 1.55714805, 1.48476392, 1.11896448])"
            ]
          },
          "metadata": {},
          "execution_count": 652
        }
      ]
    },
    {
      "cell_type": "code",
      "metadata": {
        "colab": {
          "base_uri": "https://localhost:8080/"
        },
        "id": "ydbu3OV3CYxB",
        "outputId": "cc66fd8d-e437-476d-969d-f7391d0eb7d9"
      },
      "source": [
        "x1[y1==0,0][:,1]"
      ],
      "execution_count": 653,
      "outputs": [
        {
          "output_type": "execute_result",
          "data": {
            "text/plain": [
              "array([ 0.6574221 ,  0.38503995,  0.51492166,  0.83649571,  0.22574155,\n",
              "        0.22980386,  0.43362643,  0.1424276 ,  0.06333773,  0.50694075,\n",
              "        0.50727911,  0.99831313,  0.27887222,  1.20224718,  0.48936063,\n",
              "        0.09950964,  0.18682961,  0.65428639,  0.24957231,  0.95936851,\n",
              "        1.0580048 ,  0.49961881,  0.80419029,  0.12794301,  0.40605811,\n",
              "        0.50461961,  0.70108399,  0.51810174,  0.28844299, -0.01151334,\n",
              "        0.39489284,  0.22243214,  0.42895873,  0.44110343, -0.02169982,\n",
              "        0.47988805,  0.56197807,  0.52788267,  0.32988258,  0.08859967,\n",
              "        0.97751364,  0.11927294,  0.39577505,  1.08771315,  1.20012231,\n",
              "        0.71797792,  0.8087043 ,  0.84246219,  0.8274555 ,  1.40264002,\n",
              "        0.85614694,  0.24832702,  0.58917128,  1.01833374,  0.28821837,\n",
              "        0.68465873,  0.85329343,  0.50618629,  0.34324083, -0.15180711,\n",
              "        0.37606819,  0.25539681,  0.40717329,  0.71567562,  0.24233235,\n",
              "        0.4397447 ,  0.26039572,  0.9476145 ,  0.43121179,  0.49694861,\n",
              "        0.28314571,  0.21703503,  0.3357945 ,  0.7764645 ,  0.37289219,\n",
              "        0.86587028, -0.26521883,  0.43336997,  0.2920322 , -0.11733194,\n",
              "        0.4239643 ,  0.6244249 ,  0.75069545,  0.03216877,  0.54641519,\n",
              "        0.3045134 ,  0.15851546,  0.72732022,  0.45615808, -0.00806284,\n",
              "        0.72600705,  0.74608572, -0.04252954,  0.16176449,  0.15789965,\n",
              "        0.65308952,  0.31456513,  0.55166773,  0.04102419,  0.16758736,\n",
              "        0.51003213,  0.45823182, -0.16770154,  0.24788911,  0.65754856,\n",
              "        0.42228836,  1.03596035,  0.2404234 , -0.19883654,  0.40946635,\n",
              "        0.76827686,  0.56991449,  0.62721599,  0.43196143,  0.68354986,\n",
              "        0.17068386,  0.2806544 ,  0.55519957,  0.4259899 ,  0.18632732,\n",
              "        0.08075803,  0.51894878,  0.46097967,  0.29121585,  0.61585512,\n",
              "        0.10241415,  0.67603941, -0.07095595,  0.53702735,  0.81618204,\n",
              "        0.52487255,  0.78733312,  0.89043011,  0.55801867,  0.81063804,\n",
              "        0.37172296,  0.62150168,  0.85787549,  0.27501382, -0.21385287,\n",
              "        0.67673259,  0.27594615,  0.7370136 ,  0.11133707,  0.63645042,\n",
              "        0.39647679,  0.67902038,  1.16310188,  0.15211272,  0.23037737,\n",
              "        0.12404012,  0.85596747,  1.190012  ,  0.15158918, -0.01781102,\n",
              "        0.62660086,  0.07000795,  0.82215228,  0.36358976,  0.43476875,\n",
              "        0.51225012, -0.05607521,  0.31477857,  0.75886655,  0.48352922,\n",
              "       -0.05726768,  0.37927432,  0.61020278,  0.48346961])"
            ]
          },
          "metadata": {},
          "execution_count": 653
        }
      ]
    },
    {
      "cell_type": "code",
      "metadata": {
        "colab": {
          "base_uri": "https://localhost:8080/",
          "height": 299
        },
        "id": "bT9-kEI7NAnR",
        "outputId": "d01ac545-5135-4ba7-df69-2638d728f8e4"
      },
      "source": [
        "x1 = (train_data).numpy()\n",
        "y1 = np.array(train_label)\n",
        "\n",
        "plt.scatter(x1[y1==0,0][:,0], x1[y1==0,0][:,1], label='class 0')\n",
        "plt.scatter(x1[y1==1,0][:,0], x1[y1==1,0][:,1], label='class 1')\n",
        "plt.scatter(x1[y1==2,0][:,0], x1[y1==2,0][:,1], label='class 2')\n",
        "plt.legend()\n",
        "plt.title(\"dataset4 CIN with alpha = 1/\"+str(m))"
      ],
      "execution_count": 654,
      "outputs": [
        {
          "output_type": "execute_result",
          "data": {
            "text/plain": [
              "Text(0.5, 1.0, 'dataset4 CIN with alpha = 1/10')"
            ]
          },
          "metadata": {},
          "execution_count": 654
        },
        {
          "output_type": "display_data",
          "data": {
            "image/png": "[encoded data removed]",
            "text/plain": [
              "<Figure size 432x288 with 1 Axes>"
            ]
          },
          "metadata": {
            "needs_background": "light"
          }
        }
      ]
    },
    {
      "cell_type": "code",
      "metadata": {
        "colab": {
          "base_uri": "https://localhost:8080/",
          "height": 299
        },
        "id": "Sc8W2N7LQQ_l",
        "outputId": "5406c423-fb68-4f84-9719-110331d4243e"
      },
      "source": [
        "x1 = (test_data).numpy()\n",
        "y1 = np.array(test_label)\n",
        "\n",
        "plt.scatter(x1[y1==0,0][:,0], x1[y1==0,0][:,1], label='class 0')\n",
        "plt.scatter(x1[y1==1,0][:,0], x1[y1==1,0][:,1], label='class 1')\n",
        "plt.scatter(x1[y1==2,0][:,0], x1[y1==2,0][:,1], label='class 2')\n",
        "plt.legend()\n",
        "plt.title(\"test dataset4\")"
      ],
      "execution_count": 655,
      "outputs": [
        {
          "output_type": "execute_result",
          "data": {
            "text/plain": [
              "Text(0.5, 1.0, 'test dataset4')"
            ]
          },
          "metadata": {},
          "execution_count": 655
        },
        {
          "output_type": "display_data",
          "data": {
            "image/png": "[encoded data removed]",
            "text/plain": [
              "<Figure size 432x288 with 1 Axes>"
            ]
          },
          "metadata": {
            "needs_background": "light"
          }
        }
      ]
    },
    {
      "cell_type": "code",
      "metadata": {
        "id": "yL0BRf8er0TX"
      },
      "source": [
        "class MosaicDataset(Dataset):\n",
        "  \"\"\"MosaicDataset dataset.\"\"\"\n",
        "\n",
        "  def __init__(self, mosaic_list_of_images, mosaic_label):\n",
        "    \"\"\"\n",
        "      Args:\n",
        "        csv_file (string): Path to the csv file with annotations.\n",
        "        root_dir (string): Directory with all the images.\n",
        "        transform (callable, optional): Optional transform to be applied\n",
        "            on a sample.\n",
        "    \"\"\"\n",
        "    self.mosaic = mosaic_list_of_images\n",
        "    self.label = mosaic_label\n",
        "    #self.fore_idx = fore_idx\n",
        "    \n",
        "  def __len__(self):\n",
        "    return len(self.label)\n",
        "\n",
        "  def __getitem__(self, idx):\n",
        "    return self.mosaic[idx] , self.label[idx] #, self.fore_idx[idx]\n",
        "\n"
      ],
      "execution_count": 656,
      "outputs": []
    },
    {
      "cell_type": "code",
      "metadata": {
        "colab": {
          "base_uri": "https://localhost:8080/"
        },
        "id": "4KsrW9qL9xgS",
        "outputId": "8898c75b-1c58-4a24-a1fe-5ea4883037a2"
      },
      "source": [
        "train_data[0].shape, train_data[0]"
      ],
      "execution_count": 657,
      "outputs": [
        {
          "output_type": "execute_result",
          "data": {
            "text/plain": [
              "(torch.Size([1, 2]), tensor([[1.4207, 0.6244]], dtype=torch.float64))"
            ]
          },
          "metadata": {},
          "execution_count": 657
        }
      ]
    },
    {
      "cell_type": "code",
      "metadata": {
        "id": "EY2l62APygaV"
      },
      "source": [
        "batch = 200\n",
        "\n",
        "traindata_1 = MosaicDataset(train_data, train_label )\n",
        "trainloader_1 = DataLoader( traindata_1 , batch_size= batch ,shuffle=True)\n"
      ],
      "execution_count": 658,
      "outputs": []
    },
    {
      "cell_type": "code",
      "metadata": {
        "id": "9suUslCj8YZK"
      },
      "source": [
        "testdata_1 = MosaicDataset(test_data, test_label )\n",
        "testloader_1 = DataLoader( testdata_1 , batch_size= batch ,shuffle=False)\n"
      ],
      "execution_count": 659,
      "outputs": []
    },
    {
      "cell_type": "code",
      "metadata": {
        "id": "Nh3mBQHZ8bEj"
      },
      "source": [
        "# testdata_11 = MosaicDataset(test_dataset, labels )\n",
        "# testloader_11 = DataLoader( testdata_11 , batch_size= batch ,shuffle=False)"
      ],
      "execution_count": 660,
      "outputs": []
    },
    {
      "cell_type": "code",
      "metadata": {
        "id": "5_XeIUk0r0Tl"
      },
      "source": [
        "class Whatnet(nn.Module):\n",
        "    def __init__(self):\n",
        "        super(Whatnet,self).__init__()\n",
        "        self.linear1 = nn.Linear(2,50)\n",
        "        self.linear2 = nn.Linear(50,3)\n",
        "\n",
        "        torch.nn.init.xavier_normal_(self.linear1.weight)\n",
        "        torch.nn.init.zeros_(self.linear1.bias)\n",
        "        torch.nn.init.xavier_normal_(self.linear2.weight)\n",
        "        torch.nn.init.zeros_(self.linear2.bias)\n",
        "\n",
        "    def forward(self,x):\n",
        "        x = F.relu(self.linear1(x))\n",
        "        x = (self.linear2(x))\n",
        "\n",
        "        return x[:,0]"
      ],
      "execution_count": 661,
      "outputs": []
    },
    {
      "cell_type": "code",
      "metadata": {
        "id": "pjD2VZuV9Ed4"
      },
      "source": [
        "def calculate_loss(dataloader,model,criter):\n",
        "  model.eval()\n",
        "  r_loss = 0\n",
        "  with torch.no_grad():\n",
        "    for i, data in enumerate(dataloader, 0):\n",
        "      inputs, labels = data\n",
        "      inputs, labels = inputs.to(\"cuda\"),labels.to(\"cuda\")\n",
        "      outputs = model(inputs)\n",
        "      # print(outputs.shape)\n",
        "      loss = criter(outputs, labels)\n",
        "      r_loss += loss.item()\n",
        "  return r_loss/(i+1)"
      ],
      "execution_count": 662,
      "outputs": []
    },
    {
      "cell_type": "code",
      "metadata": {
        "id": "uALi25pmzQHV"
      },
      "source": [
        "def test_all(number, testloader,net):\n",
        "    correct = 0\n",
        "    total = 0\n",
        "    out = []\n",
        "    pred = []\n",
        "    with torch.no_grad():\n",
        "        for data in testloader:\n",
        "            images, labels = data\n",
        "            images, labels = images.to(\"cuda\"),labels.to(\"cuda\")\n",
        "            out.append(labels.cpu().numpy())\n",
        "            outputs= net(images)\n",
        "            _, predicted = torch.max(outputs.data, 1)\n",
        "            pred.append(predicted.cpu().numpy())\n",
        "            total += labels.size(0)\n",
        "            correct += (predicted == labels).sum().item()\n",
        "    \n",
        "    pred = np.concatenate(pred, axis = 0)\n",
        "    out = np.concatenate(out, axis = 0)\n",
        "    print(\"unique out: \",  np.unique(out), \"unique pred: \", np.unique(pred) )\n",
        "    print(\"correct: \", correct, \"total \",  total)\n",
        "    print('Accuracy of the network on the %d test dataset %d: %.2f %%' % (total, number , 100 * correct / total))"
      ],
      "execution_count": 663,
      "outputs": []
    },
    {
      "cell_type": "code",
      "metadata": {
        "id": "4vmNprlPzTjP"
      },
      "source": [
        "def train_all(trainloader, ds_number, testloader_list, lr_list):\n",
        "  \n",
        "  final_loss = []\n",
        "  for LR in lr_list:    \n",
        "    print(\"--\"*20, \"Learning Rate used is\", LR)\n",
        "    \n",
        "    torch.manual_seed(12)\n",
        "    net = Whatnet().double()\n",
        "    net = net.to(\"cuda\")\n",
        "    \n",
        "    criterion_net = nn.CrossEntropyLoss()\n",
        "    optimizer_net = optim.Adam(net.parameters(), lr=0.001 ) #, momentum=0.9)\n",
        "    \n",
        "    acti = []\n",
        "    loss_curi = []\n",
        "    epochs = 1000\n",
        "    running_loss = calculate_loss(trainloader,net,criterion_net)\n",
        "    loss_curi.append(running_loss)\n",
        "    print('epoch: [%d ] loss: %.3f' %(0,running_loss)) \n",
        "    for epoch in range(epochs): # loop over the dataset multiple times\n",
        "        ep_lossi = []\n",
        "\n",
        "        running_loss = 0.0\n",
        "        net.train()\n",
        "        for i, data in enumerate(trainloader, 0):\n",
        "            # get the inputs\n",
        "            inputs, labels = data\n",
        "            inputs, labels = inputs.to(\"cuda\"),labels.to(\"cuda\")\n",
        "\n",
        "            # zero the parameter gradients\n",
        "            optimizer_net.zero_grad()\n",
        "\n",
        "            # forward + backward + optimize\n",
        "            outputs = net(inputs)\n",
        "            # print(outputs.shape)\n",
        "            loss = criterion_net(outputs, labels)\n",
        "            # print statistics\n",
        "            running_loss += loss.item()\n",
        "            loss.backward()\n",
        "            optimizer_net.step()\n",
        "\n",
        "        running_loss = calculate_loss(trainloader,net,criterion_net)\n",
        "        if(epoch%200 == 0):\n",
        "          print('epoch: [%d] loss: %.3f' %(epoch + 1,running_loss)) \n",
        "        loss_curi.append(running_loss)   #loss per epoch\n",
        "        if running_loss<=0.05:\n",
        "          print('epoch: [%d] loss: %.3f' %(epoch + 1,running_loss))\n",
        "          break\n",
        "\n",
        "    print('Finished Training')\n",
        "    \n",
        "    correct = 0\n",
        "    total = 0\n",
        "    with torch.no_grad():\n",
        "        for data in trainloader:\n",
        "            images, labels = data\n",
        "            images, labels = images.to(\"cuda\"), labels.to(\"cuda\")\n",
        "            outputs = net(images)\n",
        "            _, predicted = torch.max(outputs.data, 1)\n",
        "            total += labels.size(0)\n",
        "            correct += (predicted == labels).sum().item()\n",
        "\n",
        "    print('Accuracy of the network on the %d train images: %.2f %%' % (total,  100 * correct / total))\n",
        "    \n",
        "    for i, j in enumerate(testloader_list):\n",
        "        test_all(i+1, j,net)\n",
        "    \n",
        "    print(\"--\"*40)\n",
        "    \n",
        "    final_loss.append(loss_curi) \n",
        "  return final_loss\n",
        "    "
      ],
      "execution_count": 664,
      "outputs": []
    },
    {
      "cell_type": "code",
      "metadata": {
        "id": "Yl41sE8vFERk"
      },
      "source": [
        "train_loss_all=[]\n",
        "\n",
        "testloader_list= [ testloader_1]\n",
        "lr_list = [0.0001, 0.0005, 0.001, 0.005, 0.01, 0.05, 0.1, 0.5 ]"
      ],
      "execution_count": 665,
      "outputs": []
    },
    {
      "cell_type": "code",
      "metadata": {
        "colab": {
          "base_uri": "https://localhost:8080/"
        },
        "id": "5gQoPST5zW2t",
        "outputId": "8297e6bc-c4c2-41ea-c6b1-77e12dc507fa"
      },
      "source": [
        "fin_loss = train_all(trainloader_1, 1, testloader_list, lr_list)\n",
        "train_loss_all.append(fin_loss)"
      ],
      "execution_count": 666,
      "outputs": [
        {
          "output_type": "stream",
          "name": "stdout",
          "text": [
            "---------------------------------------- Learning Rate used is 0.0001\n",
            "epoch: [0 ] loss: 1.081\n",
            "epoch: [1] loss: 1.076\n",
            "epoch: [201] loss: 0.912\n",
            "epoch: [401] loss: 0.907\n",
            "epoch: [601] loss: 0.908\n",
            "epoch: [801] loss: 0.882\n",
            "Finished Training\n",
            "Accuracy of the network on the 500 train images: 57.00 %\n",
            "unique out:  [0 1 2] unique pred:  [0 1 2]\n",
            "correct:  997 total  1000\n",
            "Accuracy of the network on the 1000 test dataset 1: 99.70 %\n",
            "--------------------------------------------------------------------------------\n",
            "---------------------------------------- Learning Rate used is 0.0005\n",
            "epoch: [0 ] loss: 1.081\n",
            "epoch: [1] loss: 1.076\n",
            "epoch: [201] loss: 0.912\n",
            "epoch: [401] loss: 0.907\n",
            "epoch: [601] loss: 0.908\n",
            "epoch: [801] loss: 0.882\n",
            "Finished Training\n",
            "Accuracy of the network on the 500 train images: 57.00 %\n",
            "unique out:  [0 1 2] unique pred:  [0 1 2]\n",
            "correct:  997 total  1000\n",
            "Accuracy of the network on the 1000 test dataset 1: 99.70 %\n",
            "--------------------------------------------------------------------------------\n",
            "---------------------------------------- Learning Rate used is 0.001\n",
            "epoch: [0 ] loss: 1.081\n",
            "epoch: [1] loss: 1.076\n",
            "epoch: [201] loss: 0.912\n",
            "epoch: [401] loss: 0.907\n",
            "epoch: [601] loss: 0.908\n",
            "epoch: [801] loss: 0.882\n",
            "Finished Training\n",
            "Accuracy of the network on the 500 train images: 57.00 %\n",
            "unique out:  [0 1 2] unique pred:  [0 1 2]\n",
            "correct:  997 total  1000\n",
            "Accuracy of the network on the 1000 test dataset 1: 99.70 %\n",
            "--------------------------------------------------------------------------------\n",
            "---------------------------------------- Learning Rate used is 0.005\n",
            "epoch: [0 ] loss: 1.081\n",
            "epoch: [1] loss: 1.076\n",
            "epoch: [201] loss: 0.912\n",
            "epoch: [401] loss: 0.907\n",
            "epoch: [601] loss: 0.908\n",
            "epoch: [801] loss: 0.882\n",
            "Finished Training\n",
            "Accuracy of the network on the 500 train images: 57.00 %\n",
            "unique out:  [0 1 2] unique pred:  [0 1 2]\n",
            "correct:  997 total  1000\n",
            "Accuracy of the network on the 1000 test dataset 1: 99.70 %\n",
            "--------------------------------------------------------------------------------\n",
            "---------------------------------------- Learning Rate used is 0.01\n",
            "epoch: [0 ] loss: 1.081\n",
            "epoch: [1] loss: 1.076\n",
            "epoch: [201] loss: 0.912\n",
            "epoch: [401] loss: 0.907\n",
            "epoch: [601] loss: 0.908\n",
            "epoch: [801] loss: 0.882\n",
            "Finished Training\n",
            "Accuracy of the network on the 500 train images: 57.00 %\n",
            "unique out:  [0 1 2] unique pred:  [0 1 2]\n",
            "correct:  997 total  1000\n",
            "Accuracy of the network on the 1000 test dataset 1: 99.70 %\n",
            "--------------------------------------------------------------------------------\n",
            "---------------------------------------- Learning Rate used is 0.05\n",
            "epoch: [0 ] loss: 1.081\n",
            "epoch: [1] loss: 1.076\n",
            "epoch: [201] loss: 0.912\n",
            "epoch: [401] loss: 0.907\n",
            "epoch: [601] loss: 0.908\n",
            "epoch: [801] loss: 0.882\n",
            "Finished Training\n",
            "Accuracy of the network on the 500 train images: 57.00 %\n",
            "unique out:  [0 1 2] unique pred:  [0 1 2]\n",
            "correct:  997 total  1000\n",
            "Accuracy of the network on the 1000 test dataset 1: 99.70 %\n",
            "--------------------------------------------------------------------------------\n",
            "---------------------------------------- Learning Rate used is 0.1\n",
            "epoch: [0 ] loss: 1.081\n",
            "epoch: [1] loss: 1.076\n",
            "epoch: [201] loss: 0.912\n",
            "epoch: [401] loss: 0.907\n",
            "epoch: [601] loss: 0.908\n",
            "epoch: [801] loss: 0.882\n",
            "Finished Training\n",
            "Accuracy of the network on the 500 train images: 57.00 %\n",
            "unique out:  [0 1 2] unique pred:  [0 1 2]\n",
            "correct:  997 total  1000\n",
            "Accuracy of the network on the 1000 test dataset 1: 99.70 %\n",
            "--------------------------------------------------------------------------------\n",
            "---------------------------------------- Learning Rate used is 0.5\n",
            "epoch: [0 ] loss: 1.081\n",
            "epoch: [1] loss: 1.076\n",
            "epoch: [201] loss: 0.912\n",
            "epoch: [401] loss: 0.907\n",
            "epoch: [601] loss: 0.908\n",
            "epoch: [801] loss: 0.882\n",
            "Finished Training\n",
            "Accuracy of the network on the 500 train images: 57.00 %\n",
            "unique out:  [0 1 2] unique pred:  [0 1 2]\n",
            "correct:  997 total  1000\n",
            "Accuracy of the network on the 1000 test dataset 1: 99.70 %\n",
            "--------------------------------------------------------------------------------\n"
          ]
        }
      ]
    },
    {
      "cell_type": "code",
      "metadata": {
        "id": "In76SYH_zZHV"
      },
      "source": [
        "%matplotlib inline"
      ],
      "execution_count": 667,
      "outputs": []
    },
    {
      "cell_type": "code",
      "metadata": {
        "colab": {
          "base_uri": "https://localhost:8080/"
        },
        "id": "_GsE3qHR_A5c",
        "outputId": "a7ed517c-be3f-4b5c-ae3c-702328723fed"
      },
      "source": [
        "len(fin_loss)"
      ],
      "execution_count": 668,
      "outputs": [
        {
          "output_type": "execute_result",
          "data": {
            "text/plain": [
              "8"
            ]
          },
          "metadata": {},
          "execution_count": 668
        }
      ]
    },
    {
      "cell_type": "code",
      "metadata": {
        "id": "BS4HtOHEzZ0E",
        "colab": {
          "base_uri": "https://localhost:8080/",
          "height": 297
        },
        "outputId": "948d1fbf-7288-4d38-b26f-dbc9bfacf233"
      },
      "source": [
        "for i,j in enumerate(fin_loss):\n",
        "    plt.plot(j,label =\"LR = \"+str(lr_list[i]))\n",
        "    \n",
        "\n",
        "plt.xlabel(\"Epochs\")\n",
        "plt.ylabel(\"Training_loss\")\n",
        "\n",
        "plt.legend(loc='center left', bbox_to_anchor=(1, 0.5))"
      ],
      "execution_count": 669,
      "outputs": [
        {
          "output_type": "execute_result",
          "data": {
            "text/plain": [
              "<matplotlib.legend.Legend at 0x7fab05215590>"
            ]
          },
          "metadata": {},
          "execution_count": 669
        },
        {
          "output_type": "display_data",
          "data": {
            "image/png": "[encoded data removed]",
            "text/plain": [
              "<Figure size 432x288 with 1 Axes>"
            ]
          },
          "metadata": {
            "needs_background": "light"
          }
        }
      ]
    },
    {
      "cell_type": "code",
      "metadata": {
        "id": "1UbTkfLUINTI"
      },
      "source": [
        ""
      ],
      "execution_count": 669,
      "outputs": []
    }
  ]
}