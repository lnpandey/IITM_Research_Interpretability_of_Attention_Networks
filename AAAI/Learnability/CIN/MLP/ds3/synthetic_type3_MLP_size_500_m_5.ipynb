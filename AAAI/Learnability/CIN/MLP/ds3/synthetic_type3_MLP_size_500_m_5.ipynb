{
  "nbformat": 4,
  "nbformat_minor": 0,
  "metadata": {
    "accelerator": "GPU",
    "colab": {
      "name": "synthetic_type3_MLP_m_5.ipynb",
      "provenance": [],
      "collapsed_sections": []
    },
    "kernelspec": {
      "display_name": "Python 3",
      "language": "python",
      "name": "python3"
    },
    "language_info": {
      "codemirror_mode": {
        "name": "ipython",
        "version": 3
      },
      "file_extension": ".py",
      "mimetype": "text/x-python",
      "name": "python",
      "nbconvert_exporter": "python",
      "pygments_lexer": "ipython3",
      "version": "3.6.5"
    }
  },
  "cells": [
    {
      "cell_type": "code",
      "metadata": {
        "colab": {
          "base_uri": "https://localhost:8080/"
        },
        "id": "N2_J4Rw2r0SQ",
        "outputId": "d5817c2f-158d-48f9-867f-9715b98d699d"
      },
      "source": [
        "import numpy as np\n",
        "import pandas as pd\n",
        "from matplotlib import pyplot as plt\n",
        "from tqdm import tqdm\n",
        "%matplotlib inline\n",
        "from torch.utils.data import Dataset, DataLoader\n",
        "import torch\n",
        "import torchvision\n",
        "\n",
        "import torch.nn as nn\n",
        "import torch.optim as optim\n",
        "from torch.nn import functional as F\n",
        "device = torch.device(\"cuda\" if torch.cuda.is_available() else \"cpu\")\n",
        "print(device)"
      ],
      "execution_count": 244,
      "outputs": [
        {
          "output_type": "stream",
          "name": "stdout",
          "text": [
            "cuda\n"
          ]
        }
      ]
    },
    {
      "cell_type": "code",
      "metadata": {
        "id": "ZTJPyL45DiJ3"
      },
      "source": [
        "m = 5           # 5, 50, 100, 500, 2000"
      ],
      "execution_count": 245,
      "outputs": []
    },
    {
      "cell_type": "code",
      "metadata": {
        "id": "g-do5dZWK5L6"
      },
      "source": [
        "train_size = 500          # 100, 500, 2000, 10000"
      ],
      "execution_count": 246,
      "outputs": []
    },
    {
      "cell_type": "markdown",
      "metadata": {
        "id": "F6fjud_Fr0Sa"
      },
      "source": [
        "# Generate dataset"
      ]
    },
    {
      "cell_type": "code",
      "metadata": {
        "colab": {
          "base_uri": "https://localhost:8080/"
        },
        "id": "CqdXHO0Cr0Sd",
        "outputId": "971909ec-b276-4d37-edd6-b770eefd1f73"
      },
      "source": [
        "np.random.seed(12)\n",
        "y = np.random.randint(0,10,5000)\n",
        "idx= []\n",
        "for i in range(10):\n",
        "    print(i,sum(y==i))\n",
        "    idx.append(y==i)"
      ],
      "execution_count": 247,
      "outputs": [
        {
          "output_type": "stream",
          "name": "stdout",
          "text": [
            "0 530\n",
            "1 463\n",
            "2 494\n",
            "3 517\n",
            "4 488\n",
            "5 497\n",
            "6 493\n",
            "7 507\n",
            "8 492\n",
            "9 519\n"
          ]
        }
      ]
    },
    {
      "cell_type": "code",
      "metadata": {
        "id": "ddhXyODwr0Sk"
      },
      "source": [
        "x = np.zeros((5000,2))"
      ],
      "execution_count": 248,
      "outputs": []
    },
    {
      "cell_type": "code",
      "metadata": {
        "id": "DyV3N2DIr0Sp"
      },
      "source": [
        "np.random.seed(12)\n",
        "x[idx[0],:] = np.random.multivariate_normal(mean = [7,4],cov=[[0.1,0],[0,0.1]],size=sum(idx[0]))\n",
        "x[idx[1],:] = np.random.multivariate_normal(mean = [8,6.5],cov=[[0.1,0],[0,0.1]],size=sum(idx[1]))\n",
        "x[idx[2],:] = np.random.multivariate_normal(mean = [5.5,6.5],cov=[[0.1,0],[0,0.1]],size=sum(idx[2]))\n",
        "x[idx[3],:] = np.random.multivariate_normal(mean = [-1,0],cov=[[0.1,0],[0,0.1]],size=sum(idx[3]))\n",
        "x[idx[4],:] = np.random.multivariate_normal(mean = [0,2],cov=[[0.1,0],[0,0.1]],size=sum(idx[4]))\n",
        "x[idx[5],:] = np.random.multivariate_normal(mean = [1,0],cov=[[0.1,0],[0,0.1]],size=sum(idx[5]))\n",
        "x[idx[6],:] = np.random.multivariate_normal(mean = [0,-1],cov=[[0.1,0],[0,0.1]],size=sum(idx[6]))\n",
        "x[idx[7],:] = np.random.multivariate_normal(mean = [0,0],cov=[[0.1,0],[0,0.1]],size=sum(idx[7]))\n",
        "x[idx[8],:] = np.random.multivariate_normal(mean = [-0.5,-0.5],cov=[[0.1,0],[0,0.1]],size=sum(idx[8]))\n",
        "x[idx[9],:] = np.random.multivariate_normal(mean = [0.4,0.2],cov=[[0.1,0],[0,0.1]],size=sum(idx[9]))"
      ],
      "execution_count": 249,
      "outputs": []
    },
    {
      "cell_type": "code",
      "metadata": {
        "colab": {
          "base_uri": "https://localhost:8080/"
        },
        "id": "qh1mDScsU07I",
        "outputId": "bdef9cba-b3f8-4ceb-b2ef-3f6223183fc6"
      },
      "source": [
        "x[idx[0]][0], x[idx[5]][5] "
      ],
      "execution_count": 250,
      "outputs": [
        {
          "output_type": "execute_result",
          "data": {
            "text/plain": [
              "(array([7.14957125, 3.78451422]), array([0.87756167, 0.00457805]))"
            ]
          },
          "metadata": {},
          "execution_count": 250
        }
      ]
    },
    {
      "cell_type": "code",
      "metadata": {
        "colab": {
          "base_uri": "https://localhost:8080/",
          "height": 287
        },
        "id": "hJ8Jm7YUr0St",
        "outputId": "6b898475-a8d1-4301-ed32-b7f9d9ba57df"
      },
      "source": [
        "for i in range(10):\n",
        "    plt.scatter(x[idx[i],0],x[idx[i],1],label=\"class_\"+str(i))\n",
        "plt.legend(loc='center left', bbox_to_anchor=(1, 0.5))"
      ],
      "execution_count": 251,
      "outputs": [
        {
          "output_type": "execute_result",
          "data": {
            "text/plain": [
              "<matplotlib.legend.Legend at 0x7fab06c49850>"
            ]
          },
          "metadata": {},
          "execution_count": 251
        },
        {
          "output_type": "display_data",
          "data": {
            "image/png": "[encoded data removed]",
            "text/plain": [
              "<Figure size 432x288 with 1 Axes>"
            ]
          },
          "metadata": {
            "needs_background": "light"
          }
        }
      ]
    },
    {
      "cell_type": "code",
      "metadata": {
        "colab": {
          "base_uri": "https://localhost:8080/"
        },
        "id": "3lMBZEHNBlF2",
        "outputId": "7ce052d8-d8b4-46df-c6bc-144cafcd433a"
      },
      "source": [
        "bg_idx = [ np.where(idx[3] == True)[0], \n",
        "          np.where(idx[4] == True)[0], \n",
        "          np.where(idx[5] == True)[0],\n",
        "          np.where(idx[6] == True)[0], \n",
        "          np.where(idx[7] == True)[0], \n",
        "          np.where(idx[8] == True)[0],\n",
        "          np.where(idx[9] == True)[0]]\n",
        "\n",
        "bg_idx = np.concatenate(bg_idx, axis = 0)\n",
        "bg_idx.shape"
      ],
      "execution_count": 252,
      "outputs": [
        {
          "output_type": "execute_result",
          "data": {
            "text/plain": [
              "(3513,)"
            ]
          },
          "metadata": {},
          "execution_count": 252
        }
      ]
    },
    {
      "cell_type": "code",
      "metadata": {
        "colab": {
          "base_uri": "https://localhost:8080/"
        },
        "id": "blRbGZHeCwXU",
        "outputId": "4fbd52fe-242f-4db9-9975-02895e055e73"
      },
      "source": [
        "np.unique(bg_idx).shape"
      ],
      "execution_count": 253,
      "outputs": [
        {
          "output_type": "execute_result",
          "data": {
            "text/plain": [
              "(3513,)"
            ]
          },
          "metadata": {},
          "execution_count": 253
        }
      ]
    },
    {
      "cell_type": "code",
      "metadata": {
        "id": "Y43sWeX7C15F"
      },
      "source": [
        "x = x - np.mean(x[bg_idx], axis = 0, keepdims = True)\n"
      ],
      "execution_count": 254,
      "outputs": []
    },
    {
      "cell_type": "code",
      "metadata": {
        "colab": {
          "base_uri": "https://localhost:8080/"
        },
        "id": "ooII7N6UDWe0",
        "outputId": "2344caf3-c816-4f32-c772-d60439cf09cc"
      },
      "source": [
        "np.mean(x[bg_idx], axis = 0, keepdims = True), np.mean(x, axis = 0, keepdims = True)"
      ],
      "execution_count": 255,
      "outputs": [
        {
          "output_type": "execute_result",
          "data": {
            "text/plain": [
              "(array([[-1.04275003e-16,  6.74571889e-17]]),\n",
              " array([[2.02981967, 1.63582644]]))"
            ]
          },
          "metadata": {},
          "execution_count": 255
        }
      ]
    },
    {
      "cell_type": "code",
      "metadata": {
        "id": "g21bvPRYDL9k"
      },
      "source": [
        "x = x/np.std(x[bg_idx], axis = 0, keepdims = True)"
      ],
      "execution_count": 256,
      "outputs": []
    },
    {
      "cell_type": "code",
      "metadata": {
        "colab": {
          "base_uri": "https://localhost:8080/"
        },
        "id": "GtFvIeHsDZJk",
        "outputId": "6a7f6160-868b-4e64-c27f-59d69f9e6997"
      },
      "source": [
        "np.std(x[bg_idx], axis = 0, keepdims = True), np.std(x, axis = 0, keepdims = True)"
      ],
      "execution_count": 257,
      "outputs": [
        {
          "output_type": "execute_result",
          "data": {
            "text/plain": [
              "(array([[1., 1.]]), array([[4.89756643, 3.00501566]]))"
            ]
          },
          "metadata": {},
          "execution_count": 257
        }
      ]
    },
    {
      "cell_type": "code",
      "metadata": {
        "colab": {
          "base_uri": "https://localhost:8080/",
          "height": 283
        },
        "id": "8-VLhUfDDeHt",
        "outputId": "6a08c659-577a-45b6-e45f-33c4048c5047"
      },
      "source": [
        "for i in range(10):\n",
        "    plt.scatter(x[idx[i],0],x[idx[i],1],label=\"class_\"+str(i))\n",
        "plt.legend(loc='center left', bbox_to_anchor=(1, 0.5))"
      ],
      "execution_count": 258,
      "outputs": [
        {
          "output_type": "execute_result",
          "data": {
            "text/plain": [
              "<matplotlib.legend.Legend at 0x7fab065f1dd0>"
            ]
          },
          "metadata": {},
          "execution_count": 258
        },
        {
          "output_type": "display_data",
          "data": {
            "image/png": "[encoded data removed]",
            "text/plain": [
              "<Figure size 432x288 with 1 Axes>"
            ]
          },
          "metadata": {
            "needs_background": "light"
          }
        }
      ]
    },
    {
      "cell_type": "code",
      "metadata": {
        "id": "UfFHcZJOr0Sz"
      },
      "source": [
        "foreground_classes = {'class_0','class_1', 'class_2'}\n",
        "\n",
        "background_classes = {'class_3','class_4', 'class_5', 'class_6','class_7', 'class_8', 'class_9'}"
      ],
      "execution_count": 259,
      "outputs": []
    },
    {
      "cell_type": "code",
      "metadata": {
        "colab": {
          "base_uri": "https://localhost:8080/"
        },
        "id": "OplNpNQVr0S2",
        "outputId": "1c6c42ed-3486-4dae-cd57-1f44141ea7e3"
      },
      "source": [
        "fg_class  = np.random.randint(0,3)\n",
        "fg_idx = np.random.randint(0,m)\n",
        "train_data=[]\n",
        "a = []\n",
        "fg_instance = np.array([[0.0,0.0]])\n",
        "bg_instance = np.array([[0.0,0.0]])\n",
        "\n",
        "for i in range(m):\n",
        "  if i == fg_idx:\n",
        "    b = np.random.choice(np.where(idx[fg_class]==True)[0],size=1)\n",
        "    fg_instance += x[b]\n",
        "    a.append(x[b])\n",
        "    print(\"foreground \"+str(fg_class)+\" present at \" + str(fg_idx))\n",
        "  else:\n",
        "    bg_class = np.random.randint(3,10)\n",
        "    b = np.random.choice(np.where(idx[bg_class]==True)[0],size=1)\n",
        "    bg_instance += x[b]\n",
        "    a.append(x[b])\n",
        "    print(\"background \"+str(bg_class)+\" present at \" + str(i))\n",
        "\n",
        "a = np.concatenate(a,axis=0)\n",
        "print(a.shape)\n",
        "\n",
        "print(fg_class , fg_idx)"
      ],
      "execution_count": 260,
      "outputs": [
        {
          "output_type": "stream",
          "name": "stdout",
          "text": [
            "background 5 present at 0\n",
            "background 6 present at 1\n",
            "foreground 2 present at 2\n",
            "background 5 present at 3\n",
            "background 3 present at 4\n",
            "(5, 2)\n",
            "2 2\n"
          ]
        }
      ]
    },
    {
      "cell_type": "code",
      "metadata": {
        "colab": {
          "base_uri": "https://localhost:8080/"
        },
        "id": "Rx6cMmR3baVf",
        "outputId": "01ca058c-b860-4723-cd67-9aaf5c3da33a"
      },
      "source": [
        "a"
      ],
      "execution_count": 261,
      "outputs": [
        {
          "output_type": "execute_result",
          "data": {
            "text/plain": [
              "array([[ 1.52560273, -0.1298488 ],\n",
              "       [-0.4226508 , -1.2003313 ],\n",
              "       [ 8.5153438 ,  7.02349438],\n",
              "       [ 2.09728368, -0.24465132],\n",
              "       [-0.98608769, -0.75123246]])"
            ]
          },
          "metadata": {},
          "execution_count": 261
        }
      ]
    },
    {
      "cell_type": "code",
      "metadata": {
        "colab": {
          "base_uri": "https://localhost:8080/"
        },
        "id": "dEdaFZPQhc7D",
        "outputId": "42bdcf56-4045-47d0-ebbb-8838e1a50e8b"
      },
      "source": [
        "fg_instance"
      ],
      "execution_count": 262,
      "outputs": [
        {
          "output_type": "execute_result",
          "data": {
            "text/plain": [
              "array([[8.5153438 , 7.02349438]])"
            ]
          },
          "metadata": {},
          "execution_count": 262
        }
      ]
    },
    {
      "cell_type": "code",
      "metadata": {
        "colab": {
          "base_uri": "https://localhost:8080/"
        },
        "id": "IqdAVbG1hftM",
        "outputId": "c211afac-07f6-4334-e5d7-fdf7b53eb9b4"
      },
      "source": [
        "bg_instance"
      ],
      "execution_count": 263,
      "outputs": [
        {
          "output_type": "execute_result",
          "data": {
            "text/plain": [
              "array([[ 2.21414792, -2.32606388]])"
            ]
          },
          "metadata": {},
          "execution_count": 263
        }
      ]
    },
    {
      "cell_type": "code",
      "metadata": {
        "colab": {
          "base_uri": "https://localhost:8080/"
        },
        "id": "Ho98SSXEhx6L",
        "outputId": "762cce27-7580-41ab-c758-b713d33ae0e0"
      },
      "source": [
        "(fg_instance+bg_instance)/m , m"
      ],
      "execution_count": 264,
      "outputs": [
        {
          "output_type": "execute_result",
          "data": {
            "text/plain": [
              "(array([[2.14589834, 0.9394861 ]]), 5)"
            ]
          },
          "metadata": {},
          "execution_count": 264
        }
      ]
    },
    {
      "cell_type": "code",
      "metadata": {
        "colab": {
          "base_uri": "https://localhost:8080/"
        },
        "id": "OoxzYI-ur0S_",
        "outputId": "460fbc25-22c5-40d1-ef87-3f567b308dc7"
      },
      "source": [
        "np.reshape(a,(2*m,1))"
      ],
      "execution_count": 265,
      "outputs": [
        {
          "output_type": "execute_result",
          "data": {
            "text/plain": [
              "array([[ 1.52560273],\n",
              "       [-0.1298488 ],\n",
              "       [-0.4226508 ],\n",
              "       [-1.2003313 ],\n",
              "       [ 8.5153438 ],\n",
              "       [ 7.02349438],\n",
              "       [ 2.09728368],\n",
              "       [-0.24465132],\n",
              "       [-0.98608769],\n",
              "       [-0.75123246]])"
            ]
          },
          "metadata": {},
          "execution_count": 265
        }
      ]
    },
    {
      "cell_type": "code",
      "metadata": {
        "id": "jqbvfbwVr0TN"
      },
      "source": [
        "# mosaic_list_of_images =[]\n",
        "# mosaic_label = []\n",
        "train_label=[]\n",
        "fore_idx=[]\n",
        "train_data = []\n",
        "for j in range(train_size):\n",
        "  np.random.seed(j)\n",
        "  fg_instance = torch.zeros([2], dtype=torch.float64) #np.array([[0.0,0.0]])\n",
        "  bg_instance = torch.zeros([2], dtype=torch.float64) #np.array([[0.0,0.0]])\n",
        "  # a=[]\n",
        "\n",
        "  for i in range(m):\n",
        "    if i == fg_idx:\n",
        "      fg_class  = np.random.randint(0,3)\n",
        "      b = np.random.choice(np.where(idx[fg_class]==True)[0],size=1)\n",
        "      fg_instance += x[b]\n",
        "      # a.append(x[b])\n",
        "      # print(\"foreground \"+str(fg_class)+\" present at \" + str(fg_idx))\n",
        "    else:\n",
        "      bg_class = np.random.randint(3,10)\n",
        "      b = np.random.choice(np.where(idx[bg_class]==True)[0],size=1)\n",
        "      bg_instance += x[b]\n",
        "      # a.append(x[b])\n",
        "      # print(\"background \"+str(bg_class)+\" present at \" + str(i))\n",
        "  train_data.append((fg_instance+bg_instance)/m)\n",
        "  # a = np.concatenate(a,axis=0)\n",
        "  # mosaic_list_of_images.append(np.reshape(a,(2*m,1)))\n",
        "  train_label.append(fg_class)\n",
        "  fore_idx.append(fg_idx)"
      ],
      "execution_count": 266,
      "outputs": []
    },
    {
      "cell_type": "code",
      "metadata": {
        "colab": {
          "base_uri": "https://localhost:8080/"
        },
        "id": "X_g6lxkVjN0N",
        "outputId": "9bb99629-3852-4fc5-abf8-b08fbe3f783c"
      },
      "source": [
        " train_data[0], train_label[0]"
      ],
      "execution_count": 267,
      "outputs": [
        {
          "output_type": "execute_result",
          "data": {
            "text/plain": [
              "(tensor([[2.5500, 1.2844]], dtype=torch.float64), 1)"
            ]
          },
          "metadata": {},
          "execution_count": 267
        }
      ]
    },
    {
      "cell_type": "code",
      "metadata": {
        "colab": {
          "base_uri": "https://localhost:8080/"
        },
        "id": "Tz5wQCevobYr",
        "outputId": "55388bdd-32d4-4d00-8e6b-fd0b06a1a8b8"
      },
      "source": [
        "train_data = torch.stack(train_data, axis=0)\n",
        "train_data.shape, len(train_label)"
      ],
      "execution_count": 268,
      "outputs": [
        {
          "output_type": "execute_result",
          "data": {
            "text/plain": [
              "(torch.Size([500, 1, 2]), 500)"
            ]
          },
          "metadata": {},
          "execution_count": 268
        }
      ]
    },
    {
      "cell_type": "code",
      "metadata": {
        "id": "CVAlImGYA49A"
      },
      "source": [
        "test_label=[]\n",
        "# fore_idx=[]\n",
        "test_data = []\n",
        "for j in range(1000):\n",
        "  np.random.seed(j)\n",
        "  fg_instance = torch.zeros([2], dtype=torch.float64) #np.array([[0.0,0.0]])\n",
        "\n",
        "  fg_class  = np.random.randint(0,3)\n",
        "  b = np.random.choice(np.where(idx[fg_class]==True)[0],size=1)\n",
        "  fg_instance += x[b]\n",
        "  # a.append(x[b])\n",
        "  # print(\"foreground \"+str(fg_class)+\" present at \" + str(fg_idx))\n",
        "\n",
        "  test_data.append((fg_instance)/m)\n",
        "  # a = np.concatenate(a,axis=0)\n",
        "  # mosaic_list_of_images.append(np.reshape(a,(2*m,1)))\n",
        "  test_label.append(fg_class)\n",
        "  # fore_idx.append(fg_idx)"
      ],
      "execution_count": 269,
      "outputs": []
    },
    {
      "cell_type": "code",
      "metadata": {
        "colab": {
          "base_uri": "https://localhost:8080/"
        },
        "id": "XltBz3__BT_C",
        "outputId": "19189d99-871b-417c-8180-884ce43c9de4"
      },
      "source": [
        "test_data[0], test_label[0]"
      ],
      "execution_count": 270,
      "outputs": [
        {
          "output_type": "execute_result",
          "data": {
            "text/plain": [
              "(tensor([[2.2281, 0.7835]], dtype=torch.float64), 0)"
            ]
          },
          "metadata": {},
          "execution_count": 270
        }
      ]
    },
    {
      "cell_type": "code",
      "metadata": {
        "colab": {
          "base_uri": "https://localhost:8080/"
        },
        "id": "JqQfjkCnBX8E",
        "outputId": "9ace06ec-e459-4f70-c069-34b628d8e86d"
      },
      "source": [
        "test_data = torch.stack(test_data, axis=0)\n",
        "test_data.shape, len(test_label)"
      ],
      "execution_count": 271,
      "outputs": [
        {
          "output_type": "execute_result",
          "data": {
            "text/plain": [
              "(torch.Size([1000, 1, 2]), 1000)"
            ]
          },
          "metadata": {},
          "execution_count": 271
        }
      ]
    },
    {
      "cell_type": "code",
      "metadata": {
        "id": "nQhRf1ICBvW6"
      },
      "source": [
        "x1 = (train_data).numpy()\n",
        "y1 = np.array(train_label)"
      ],
      "execution_count": 272,
      "outputs": []
    },
    {
      "cell_type": "code",
      "metadata": {
        "colab": {
          "base_uri": "https://localhost:8080/"
        },
        "id": "vDAz96DSCXn5",
        "outputId": "c8231b49-a1b7-4316-d588-bf22b12142fa"
      },
      "source": [
        "x1[y1==0,0]"
      ],
      "execution_count": 273,
      "outputs": [
        {
          "output_type": "execute_result",
          "data": {
            "text/plain": [
              "array([[ 2.91933715,  1.0741029 ],\n",
              "       [ 3.16467411,  0.60167476],\n",
              "       [ 2.6630971 ,  1.06327091],\n",
              "       [ 2.31375845,  1.55341058],\n",
              "       [ 2.14881535,  0.3181068 ],\n",
              "       [ 1.98370705,  0.89389841],\n",
              "       [ 2.05611571,  0.95916786],\n",
              "       [ 2.14642057,  0.92390365],\n",
              "       [ 2.4293389 ,  0.80424024],\n",
              "       [ 1.97338782,  0.95192091],\n",
              "       [ 1.75458171,  0.46575381],\n",
              "       [ 2.4901346 ,  0.96316251],\n",
              "       [ 2.12813713,  1.24769929],\n",
              "       [ 2.1262188 ,  1.89611777],\n",
              "       [ 1.97339493,  1.65427581],\n",
              "       [ 2.51664415,  0.92664266],\n",
              "       [ 2.29987379,  0.29510293],\n",
              "       [ 1.86295681,  0.55084773],\n",
              "       [ 1.55161045,  0.68188311],\n",
              "       [ 2.04884425,  2.02487939],\n",
              "       [ 2.28713336,  1.32235473],\n",
              "       [ 1.85230616,  1.58192551],\n",
              "       [ 1.81925273,  1.39182937],\n",
              "       [ 2.46404253,  0.56864595],\n",
              "       [ 2.0712841 ,  0.68494438],\n",
              "       [ 2.33811444,  0.65280382],\n",
              "       [ 2.36798671,  0.65919216],\n",
              "       [ 2.42726997,  1.06608924],\n",
              "       [ 1.76566593,  0.95751089],\n",
              "       [ 2.03202497,  0.14032099],\n",
              "       [ 2.18565533,  1.06047517],\n",
              "       [ 2.13780976,  0.51610297],\n",
              "       [ 2.27163287,  1.41559426],\n",
              "       [ 2.17498771,  1.00739184],\n",
              "       [ 2.99417873,  0.36207472],\n",
              "       [ 2.31621034,  0.66045599],\n",
              "       [ 1.65132905,  1.01439929],\n",
              "       [ 2.44413804,  1.1417045 ],\n",
              "       [ 2.44545175,  0.99110649],\n",
              "       [ 2.17044804,  0.62762646],\n",
              "       [ 1.88359119,  0.75489767],\n",
              "       [ 1.83735384,  0.52533793],\n",
              "       [ 2.85287233,  0.8499182 ],\n",
              "       [ 2.78301702,  1.60051607],\n",
              "       [ 1.30840133,  1.00083542],\n",
              "       [ 2.55647387,  0.73102786],\n",
              "       [ 3.23253834,  0.98401819],\n",
              "       [ 2.45375263,  1.32566642],\n",
              "       [ 2.71691103,  1.60186749],\n",
              "       [ 2.31617501,  0.96901257],\n",
              "       [ 2.18798007,  1.02956104],\n",
              "       [ 1.94065718,  0.50555735],\n",
              "       [ 2.38721081,  0.95345094],\n",
              "       [ 1.72873715,  1.85794859],\n",
              "       [ 2.2076117 ,  0.62739849],\n",
              "       [ 1.78178069,  1.01644857],\n",
              "       [ 2.23915419,  1.32895551],\n",
              "       [ 1.64970475,  0.84851677],\n",
              "       [ 2.16272317,  1.29185116],\n",
              "       [ 2.1318918 ,  0.75750295],\n",
              "       [ 1.79814878,  1.57345662],\n",
              "       [ 1.26981837,  1.14793439],\n",
              "       [ 2.30872451,  0.92088126],\n",
              "       [ 1.4814616 ,  1.32966822],\n",
              "       [ 2.72108231,  0.4834489 ],\n",
              "       [ 2.97163958,  0.94161355],\n",
              "       [ 1.65944029,  0.86099901],\n",
              "       [ 2.12650431,  1.40452653],\n",
              "       [ 1.95042376,  1.11638966],\n",
              "       [ 2.07147887,  1.65278842],\n",
              "       [ 2.10257903,  0.90553561],\n",
              "       [ 2.00508289,  0.85398672],\n",
              "       [ 2.2017309 ,  0.47235999],\n",
              "       [ 2.92510859,  1.1286539 ],\n",
              "       [ 2.33110558,  1.56194432],\n",
              "       [ 1.7284618 ,  1.17280728],\n",
              "       [ 1.85578824,  0.01107484],\n",
              "       [ 2.07232508,  1.36219743],\n",
              "       [ 2.22110592,  0.80197224],\n",
              "       [ 1.53190047,  0.31361744],\n",
              "       [ 2.35526078,  1.43168348],\n",
              "       [ 2.38465171,  1.28280944],\n",
              "       [ 1.83673122,  0.97360442],\n",
              "       [ 1.94865036,  0.60799193],\n",
              "       [ 1.54248227,  1.09563584],\n",
              "       [ 2.12562276,  1.1680427 ],\n",
              "       [ 2.28795214,  1.02077549],\n",
              "       [ 1.67455239,  0.83425293],\n",
              "       [ 3.00560922,  0.97422186],\n",
              "       [ 2.60110074,  0.57818994],\n",
              "       [ 1.5467625 ,  1.70229769],\n",
              "       [ 2.02195986,  1.36231893],\n",
              "       [ 1.23415979,  0.66224435],\n",
              "       [ 1.22233206,  0.67227576],\n",
              "       [ 1.94904805,  0.33145585],\n",
              "       [ 2.87482956,  1.01906118],\n",
              "       [ 2.02137218,  0.64652057],\n",
              "       [ 1.91436475,  0.60452727],\n",
              "       [ 2.28831987,  0.64160829],\n",
              "       [ 2.66287385,  0.7863382 ],\n",
              "       [ 2.90527094,  1.09324337],\n",
              "       [ 1.85366371,  1.49708472],\n",
              "       [ 1.16337121,  0.37397905],\n",
              "       [ 2.44751522,  0.73508492],\n",
              "       [ 2.58969443,  1.33528519],\n",
              "       [ 2.12102463,  0.28525858],\n",
              "       [ 1.95090963,  1.37064492],\n",
              "       [ 1.86293887,  1.36448265],\n",
              "       [ 1.92376515,  0.23468827],\n",
              "       [ 1.31669534,  0.93609363],\n",
              "       [ 2.52163445,  1.17222566],\n",
              "       [ 2.92044911,  1.12068287],\n",
              "       [ 1.60167909,  0.77532138],\n",
              "       [ 2.16259308,  1.37320072],\n",
              "       [ 2.49982107,  1.5096869 ],\n",
              "       [ 1.81368391,  0.52047863],\n",
              "       [ 2.15947658,  0.56399963],\n",
              "       [ 2.51543309,  1.71882739],\n",
              "       [ 2.30943183,  1.16687598],\n",
              "       [ 2.88907523,  0.9448436 ],\n",
              "       [ 2.86540643,  0.13637338],\n",
              "       [ 2.37454163,  0.83007296],\n",
              "       [ 2.67301151,  1.20199892],\n",
              "       [ 2.27685969,  0.85723431],\n",
              "       [ 2.19674534,  1.22285225],\n",
              "       [ 2.35129142,  0.3960552 ],\n",
              "       [ 2.33131565,  1.23146581],\n",
              "       [ 2.47432759,  0.51889161],\n",
              "       [ 2.390012  ,  0.97131289],\n",
              "       [ 2.3070404 ,  1.1622509 ],\n",
              "       [ 2.29024148,  1.08665378],\n",
              "       [ 1.77448889,  1.01282953],\n",
              "       [ 2.40711416,  1.21269892],\n",
              "       [ 2.22086534,  1.51266156],\n",
              "       [ 2.00325056,  1.34551453],\n",
              "       [ 2.75992011,  0.80774278],\n",
              "       [ 2.42696951,  0.55691257],\n",
              "       [ 1.32878915,  0.91740237],\n",
              "       [ 2.58432296,  0.06403246],\n",
              "       [ 2.01090033,  0.09990831],\n",
              "       [ 1.90219146,  1.18720492],\n",
              "       [ 2.81575213,  1.07204819],\n",
              "       [ 1.856145  ,  0.77820537],\n",
              "       [ 1.93410881,  0.43312911],\n",
              "       [ 3.06367115,  0.86253859],\n",
              "       [ 1.58273042,  1.02097196],\n",
              "       [ 2.02248908,  1.71036931],\n",
              "       [ 2.71810326,  1.08813585],\n",
              "       [ 1.50453038,  0.39294358],\n",
              "       [ 1.90073473, -0.06352801],\n",
              "       [ 2.83993772,  0.47486116],\n",
              "       [ 2.34691441,  0.55789234],\n",
              "       [ 3.54194245,  1.07239961],\n",
              "       [ 1.98613989,  0.76753115],\n",
              "       [ 2.14091956,  0.2837509 ],\n",
              "       [ 2.51522711,  1.69101825],\n",
              "       [ 2.10275288,  0.70266937],\n",
              "       [ 1.65417371,  1.46995908],\n",
              "       [ 2.91876883,  0.59699922],\n",
              "       [ 1.28038847,  0.67759831],\n",
              "       [ 2.58620697,  0.77821123],\n",
              "       [ 1.8029339 ,  0.49184671],\n",
              "       [ 2.37303984,  0.87928772],\n",
              "       [ 2.09603047,  1.43007063],\n",
              "       [ 1.97803015,  1.1215851 ],\n",
              "       [ 1.9935147 ,  0.4908993 ],\n",
              "       [ 2.49359744,  0.60193206],\n",
              "       [ 2.22272501,  0.64013471],\n",
              "       [ 2.6027516 ,  1.21013404]])"
            ]
          },
          "metadata": {},
          "execution_count": 273
        }
      ]
    },
    {
      "cell_type": "code",
      "metadata": {
        "colab": {
          "base_uri": "https://localhost:8080/"
        },
        "id": "kMwwZhv7Bv1U",
        "outputId": "422b2a11-ff5b-4796-b03e-0a11a1d5c9b1"
      },
      "source": [
        "x1[y1==0,0][:,0]"
      ],
      "execution_count": 274,
      "outputs": [
        {
          "output_type": "execute_result",
          "data": {
            "text/plain": [
              "array([2.91933715, 3.16467411, 2.6630971 , 2.31375845, 2.14881535,\n",
              "       1.98370705, 2.05611571, 2.14642057, 2.4293389 , 1.97338782,\n",
              "       1.75458171, 2.4901346 , 2.12813713, 2.1262188 , 1.97339493,\n",
              "       2.51664415, 2.29987379, 1.86295681, 1.55161045, 2.04884425,\n",
              "       2.28713336, 1.85230616, 1.81925273, 2.46404253, 2.0712841 ,\n",
              "       2.33811444, 2.36798671, 2.42726997, 1.76566593, 2.03202497,\n",
              "       2.18565533, 2.13780976, 2.27163287, 2.17498771, 2.99417873,\n",
              "       2.31621034, 1.65132905, 2.44413804, 2.44545175, 2.17044804,\n",
              "       1.88359119, 1.83735384, 2.85287233, 2.78301702, 1.30840133,\n",
              "       2.55647387, 3.23253834, 2.45375263, 2.71691103, 2.31617501,\n",
              "       2.18798007, 1.94065718, 2.38721081, 1.72873715, 2.2076117 ,\n",
              "       1.78178069, 2.23915419, 1.64970475, 2.16272317, 2.1318918 ,\n",
              "       1.79814878, 1.26981837, 2.30872451, 1.4814616 , 2.72108231,\n",
              "       2.97163958, 1.65944029, 2.12650431, 1.95042376, 2.07147887,\n",
              "       2.10257903, 2.00508289, 2.2017309 , 2.92510859, 2.33110558,\n",
              "       1.7284618 , 1.85578824, 2.07232508, 2.22110592, 1.53190047,\n",
              "       2.35526078, 2.38465171, 1.83673122, 1.94865036, 1.54248227,\n",
              "       2.12562276, 2.28795214, 1.67455239, 3.00560922, 2.60110074,\n",
              "       1.5467625 , 2.02195986, 1.23415979, 1.22233206, 1.94904805,\n",
              "       2.87482956, 2.02137218, 1.91436475, 2.28831987, 2.66287385,\n",
              "       2.90527094, 1.85366371, 1.16337121, 2.44751522, 2.58969443,\n",
              "       2.12102463, 1.95090963, 1.86293887, 1.92376515, 1.31669534,\n",
              "       2.52163445, 2.92044911, 1.60167909, 2.16259308, 2.49982107,\n",
              "       1.81368391, 2.15947658, 2.51543309, 2.30943183, 2.88907523,\n",
              "       2.86540643, 2.37454163, 2.67301151, 2.27685969, 2.19674534,\n",
              "       2.35129142, 2.33131565, 2.47432759, 2.390012  , 2.3070404 ,\n",
              "       2.29024148, 1.77448889, 2.40711416, 2.22086534, 2.00325056,\n",
              "       2.75992011, 2.42696951, 1.32878915, 2.58432296, 2.01090033,\n",
              "       1.90219146, 2.81575213, 1.856145  , 1.93410881, 3.06367115,\n",
              "       1.58273042, 2.02248908, 2.71810326, 1.50453038, 1.90073473,\n",
              "       2.83993772, 2.34691441, 3.54194245, 1.98613989, 2.14091956,\n",
              "       2.51522711, 2.10275288, 1.65417371, 2.91876883, 1.28038847,\n",
              "       2.58620697, 1.8029339 , 2.37303984, 2.09603047, 1.97803015,\n",
              "       1.9935147 , 2.49359744, 2.22272501, 2.6027516 ])"
            ]
          },
          "metadata": {},
          "execution_count": 274
        }
      ]
    },
    {
      "cell_type": "code",
      "metadata": {
        "colab": {
          "base_uri": "https://localhost:8080/"
        },
        "id": "ydbu3OV3CYxB",
        "outputId": "e784312b-db3e-4d7c-d4c5-8b1fab1b5ab7"
      },
      "source": [
        "x1[y1==0,0][:,1]"
      ],
      "execution_count": 275,
      "outputs": [
        {
          "output_type": "execute_result",
          "data": {
            "text/plain": [
              "array([ 1.0741029 ,  0.60167476,  1.06327091,  1.55341058,  0.3181068 ,\n",
              "        0.89389841,  0.95916786,  0.92390365,  0.80424024,  0.95192091,\n",
              "        0.46575381,  0.96316251,  1.24769929,  1.89611777,  1.65427581,\n",
              "        0.92664266,  0.29510293,  0.55084773,  0.68188311,  2.02487939,\n",
              "        1.32235473,  1.58192551,  1.39182937,  0.56864595,  0.68494438,\n",
              "        0.65280382,  0.65919216,  1.06608924,  0.95751089,  0.14032099,\n",
              "        1.06047517,  0.51610297,  1.41559426,  1.00739184,  0.36207472,\n",
              "        0.66045599,  1.01439929,  1.1417045 ,  0.99110649,  0.62762646,\n",
              "        0.75489767,  0.52533793,  0.8499182 ,  1.60051607,  1.00083542,\n",
              "        0.73102786,  0.98401819,  1.32566642,  1.60186749,  0.96901257,\n",
              "        1.02956104,  0.50555735,  0.95345094,  1.85794859,  0.62739849,\n",
              "        1.01644857,  1.32895551,  0.84851677,  1.29185116,  0.75750295,\n",
              "        1.57345662,  1.14793439,  0.92088126,  1.32966822,  0.4834489 ,\n",
              "        0.94161355,  0.86099901,  1.40452653,  1.11638966,  1.65278842,\n",
              "        0.90553561,  0.85398672,  0.47235999,  1.1286539 ,  1.56194432,\n",
              "        1.17280728,  0.01107484,  1.36219743,  0.80197224,  0.31361744,\n",
              "        1.43168348,  1.28280944,  0.97360442,  0.60799193,  1.09563584,\n",
              "        1.1680427 ,  1.02077549,  0.83425293,  0.97422186,  0.57818994,\n",
              "        1.70229769,  1.36231893,  0.66224435,  0.67227576,  0.33145585,\n",
              "        1.01906118,  0.64652057,  0.60452727,  0.64160829,  0.7863382 ,\n",
              "        1.09324337,  1.49708472,  0.37397905,  0.73508492,  1.33528519,\n",
              "        0.28525858,  1.37064492,  1.36448265,  0.23468827,  0.93609363,\n",
              "        1.17222566,  1.12068287,  0.77532138,  1.37320072,  1.5096869 ,\n",
              "        0.52047863,  0.56399963,  1.71882739,  1.16687598,  0.9448436 ,\n",
              "        0.13637338,  0.83007296,  1.20199892,  0.85723431,  1.22285225,\n",
              "        0.3960552 ,  1.23146581,  0.51889161,  0.97131289,  1.1622509 ,\n",
              "        1.08665378,  1.01282953,  1.21269892,  1.51266156,  1.34551453,\n",
              "        0.80774278,  0.55691257,  0.91740237,  0.06403246,  0.09990831,\n",
              "        1.18720492,  1.07204819,  0.77820537,  0.43312911,  0.86253859,\n",
              "        1.02097196,  1.71036931,  1.08813585,  0.39294358, -0.06352801,\n",
              "        0.47486116,  0.55789234,  1.07239961,  0.76753115,  0.2837509 ,\n",
              "        1.69101825,  0.70266937,  1.46995908,  0.59699922,  0.67759831,\n",
              "        0.77821123,  0.49184671,  0.87928772,  1.43007063,  1.1215851 ,\n",
              "        0.4908993 ,  0.60193206,  0.64013471,  1.21013404])"
            ]
          },
          "metadata": {},
          "execution_count": 275
        }
      ]
    },
    {
      "cell_type": "code",
      "metadata": {
        "colab": {
          "base_uri": "https://localhost:8080/",
          "height": 299
        },
        "id": "bT9-kEI7NAnR",
        "outputId": "05ad67ed-319e-4795-a138-51dacb5c2279"
      },
      "source": [
        "x1 = (train_data).numpy()\n",
        "y1 = np.array(train_label)\n",
        "\n",
        "plt.scatter(x1[y1==0,0][:,0], x1[y1==0,0][:,1], label='class 0')\n",
        "plt.scatter(x1[y1==1,0][:,0], x1[y1==1,0][:,1], label='class 1')\n",
        "plt.scatter(x1[y1==2,0][:,0], x1[y1==2,0][:,1], label='class 2')\n",
        "plt.legend()\n",
        "plt.title(\"dataset4 CIN with alpha = 1/\"+str(m))"
      ],
      "execution_count": 276,
      "outputs": [
        {
          "output_type": "execute_result",
          "data": {
            "text/plain": [
              "Text(0.5, 1.0, 'dataset4 CIN with alpha = 1/5')"
            ]
          },
          "metadata": {},
          "execution_count": 276
        },
        {
          "output_type": "display_data",
          "data": {
            "image/png": "[encoded data removed]",
            "text/plain": [
              "<Figure size 432x288 with 1 Axes>"
            ]
          },
          "metadata": {
            "needs_background": "light"
          }
        }
      ]
    },
    {
      "cell_type": "code",
      "metadata": {
        "colab": {
          "base_uri": "https://localhost:8080/",
          "height": 299
        },
        "id": "Sc8W2N7LQQ_l",
        "outputId": "c75a0fc6-af13-42b0-8b92-dcc597efb880"
      },
      "source": [
        "x1 = (test_data).numpy()\n",
        "y1 = np.array(test_label)\n",
        "\n",
        "plt.scatter(x1[y1==0,0][:,0], x1[y1==0,0][:,1], label='class 0')\n",
        "plt.scatter(x1[y1==1,0][:,0], x1[y1==1,0][:,1], label='class 1')\n",
        "plt.scatter(x1[y1==2,0][:,0], x1[y1==2,0][:,1], label='class 2')\n",
        "plt.legend()\n",
        "plt.title(\"test dataset4\")"
      ],
      "execution_count": 277,
      "outputs": [
        {
          "output_type": "execute_result",
          "data": {
            "text/plain": [
              "Text(0.5, 1.0, 'test dataset4')"
            ]
          },
          "metadata": {},
          "execution_count": 277
        },
        {
          "output_type": "display_data",
          "data": {
            "image/png": "[encoded data removed]",
            "text/plain": [
              "<Figure size 432x288 with 1 Axes>"
            ]
          },
          "metadata": {
            "needs_background": "light"
          }
        }
      ]
    },
    {
      "cell_type": "code",
      "metadata": {
        "id": "yL0BRf8er0TX"
      },
      "source": [
        "class MosaicDataset(Dataset):\n",
        "  \"\"\"MosaicDataset dataset.\"\"\"\n",
        "\n",
        "  def __init__(self, mosaic_list_of_images, mosaic_label):\n",
        "    \"\"\"\n",
        "      Args:\n",
        "        csv_file (string): Path to the csv file with annotations.\n",
        "        root_dir (string): Directory with all the images.\n",
        "        transform (callable, optional): Optional transform to be applied\n",
        "            on a sample.\n",
        "    \"\"\"\n",
        "    self.mosaic = mosaic_list_of_images\n",
        "    self.label = mosaic_label\n",
        "    #self.fore_idx = fore_idx\n",
        "    \n",
        "  def __len__(self):\n",
        "    return len(self.label)\n",
        "\n",
        "  def __getitem__(self, idx):\n",
        "    return self.mosaic[idx] , self.label[idx] #, self.fore_idx[idx]\n",
        "\n"
      ],
      "execution_count": 278,
      "outputs": []
    },
    {
      "cell_type": "code",
      "metadata": {
        "colab": {
          "base_uri": "https://localhost:8080/"
        },
        "id": "4KsrW9qL9xgS",
        "outputId": "88e902d0-9123-43ca-cc47-929066ed55e8"
      },
      "source": [
        "train_data[0].shape, train_data[0]"
      ],
      "execution_count": 279,
      "outputs": [
        {
          "output_type": "execute_result",
          "data": {
            "text/plain": [
              "(torch.Size([1, 2]), tensor([[2.5500, 1.2844]], dtype=torch.float64))"
            ]
          },
          "metadata": {},
          "execution_count": 279
        }
      ]
    },
    {
      "cell_type": "code",
      "metadata": {
        "id": "EY2l62APygaV"
      },
      "source": [
        "batch = 200\n",
        "\n",
        "traindata_1 = MosaicDataset(train_data, train_label )\n",
        "trainloader_1 = DataLoader( traindata_1 , batch_size= batch ,shuffle=True)\n"
      ],
      "execution_count": 280,
      "outputs": []
    },
    {
      "cell_type": "code",
      "metadata": {
        "id": "9suUslCj8YZK"
      },
      "source": [
        "testdata_1 = MosaicDataset(test_data, test_label )\n",
        "testloader_1 = DataLoader( testdata_1 , batch_size= batch ,shuffle=False)\n"
      ],
      "execution_count": 281,
      "outputs": []
    },
    {
      "cell_type": "code",
      "metadata": {
        "id": "Nh3mBQHZ8bEj"
      },
      "source": [
        "# testdata_11 = MosaicDataset(test_dataset, labels )\n",
        "# testloader_11 = DataLoader( testdata_11 , batch_size= batch ,shuffle=False)"
      ],
      "execution_count": 282,
      "outputs": []
    },
    {
      "cell_type": "code",
      "metadata": {
        "id": "5_XeIUk0r0Tl"
      },
      "source": [
        "class Whatnet(nn.Module):\n",
        "    def __init__(self):\n",
        "        super(Whatnet,self).__init__()\n",
        "        self.linear1 = nn.Linear(2,50)\n",
        "        self.linear2 = nn.Linear(50,3)\n",
        "\n",
        "        torch.nn.init.xavier_normal_(self.linear1.weight)\n",
        "        torch.nn.init.zeros_(self.linear1.bias)\n",
        "        torch.nn.init.xavier_normal_(self.linear2.weight)\n",
        "        torch.nn.init.zeros_(self.linear2.bias)\n",
        "\n",
        "    def forward(self,x):\n",
        "        x = F.relu(self.linear1(x))\n",
        "        x = (self.linear2(x))\n",
        "\n",
        "        return x[:,0]"
      ],
      "execution_count": 283,
      "outputs": []
    },
    {
      "cell_type": "code",
      "metadata": {
        "id": "pjD2VZuV9Ed4"
      },
      "source": [
        "def calculate_loss(dataloader,model,criter):\n",
        "  model.eval()\n",
        "  r_loss = 0\n",
        "  with torch.no_grad():\n",
        "    for i, data in enumerate(dataloader, 0):\n",
        "      inputs, labels = data\n",
        "      inputs, labels = inputs.to(\"cuda\"),labels.to(\"cuda\")\n",
        "      outputs = model(inputs)\n",
        "      # print(outputs.shape)\n",
        "      loss = criter(outputs, labels)\n",
        "      r_loss += loss.item()\n",
        "  return r_loss/(i+1)"
      ],
      "execution_count": 284,
      "outputs": []
    },
    {
      "cell_type": "code",
      "metadata": {
        "id": "uALi25pmzQHV"
      },
      "source": [
        "def test_all(number, testloader,net):\n",
        "    correct = 0\n",
        "    total = 0\n",
        "    out = []\n",
        "    pred = []\n",
        "    with torch.no_grad():\n",
        "        for data in testloader:\n",
        "            images, labels = data\n",
        "            images, labels = images.to(\"cuda\"),labels.to(\"cuda\")\n",
        "            out.append(labels.cpu().numpy())\n",
        "            outputs= net(images)\n",
        "            _, predicted = torch.max(outputs.data, 1)\n",
        "            pred.append(predicted.cpu().numpy())\n",
        "            total += labels.size(0)\n",
        "            correct += (predicted == labels).sum().item()\n",
        "    \n",
        "    pred = np.concatenate(pred, axis = 0)\n",
        "    out = np.concatenate(out, axis = 0)\n",
        "    print(\"unique out: \",  np.unique(out), \"unique pred: \", np.unique(pred) )\n",
        "    print(\"correct: \", correct, \"total \",  total)\n",
        "    print('Accuracy of the network on the %d test dataset %d: %.2f %%' % (total, number , 100 * correct / total))"
      ],
      "execution_count": 285,
      "outputs": []
    },
    {
      "cell_type": "code",
      "metadata": {
        "id": "4vmNprlPzTjP"
      },
      "source": [
        "def train_all(trainloader, ds_number, testloader_list, lr_list):\n",
        "  \n",
        "  final_loss = []\n",
        "  for LR in lr_list:    \n",
        "    print(\"--\"*20, \"Learning Rate used is\", LR)\n",
        "    \n",
        "    torch.manual_seed(12)\n",
        "    net = Whatnet().double()\n",
        "    net = net.to(\"cuda\")\n",
        "    \n",
        "    criterion_net = nn.CrossEntropyLoss()\n",
        "    optimizer_net = optim.Adam(net.parameters(), lr=0.001 ) #, momentum=0.9)\n",
        "    \n",
        "    acti = []\n",
        "    loss_curi = []\n",
        "    epochs = 1000\n",
        "    running_loss = calculate_loss(trainloader,net,criterion_net)\n",
        "    loss_curi.append(running_loss)\n",
        "    print('epoch: [%d ] loss: %.3f' %(0,running_loss)) \n",
        "    for epoch in range(epochs): # loop over the dataset multiple times\n",
        "        ep_lossi = []\n",
        "\n",
        "        running_loss = 0.0\n",
        "        net.train()\n",
        "        for i, data in enumerate(trainloader, 0):\n",
        "            # get the inputs\n",
        "            inputs, labels = data\n",
        "            inputs, labels = inputs.to(\"cuda\"),labels.to(\"cuda\")\n",
        "\n",
        "            # zero the parameter gradients\n",
        "            optimizer_net.zero_grad()\n",
        "\n",
        "            # forward + backward + optimize\n",
        "            outputs = net(inputs)\n",
        "            # print(outputs.shape)\n",
        "            loss = criterion_net(outputs, labels)\n",
        "            # print statistics\n",
        "            running_loss += loss.item()\n",
        "            loss.backward()\n",
        "            optimizer_net.step()\n",
        "\n",
        "        running_loss = calculate_loss(trainloader,net,criterion_net)\n",
        "        if(epoch%200 == 0):\n",
        "          print('epoch: [%d] loss: %.3f' %(epoch + 1,running_loss)) \n",
        "        loss_curi.append(running_loss)   #loss per epoch\n",
        "        if running_loss<=0.05:\n",
        "          print('epoch: [%d] loss: %.3f' %(epoch + 1,running_loss))\n",
        "          break\n",
        "\n",
        "    print('Finished Training')\n",
        "    \n",
        "    correct = 0\n",
        "    total = 0\n",
        "    with torch.no_grad():\n",
        "        for data in trainloader:\n",
        "            images, labels = data\n",
        "            images, labels = images.to(\"cuda\"), labels.to(\"cuda\")\n",
        "            outputs = net(images)\n",
        "            _, predicted = torch.max(outputs.data, 1)\n",
        "            total += labels.size(0)\n",
        "            correct += (predicted == labels).sum().item()\n",
        "\n",
        "    print('Accuracy of the network on the %d train images: %.2f %%' % (total,  100 * correct / total))\n",
        "    \n",
        "    for i, j in enumerate(testloader_list):\n",
        "        test_all(i+1, j,net)\n",
        "    \n",
        "    print(\"--\"*40)\n",
        "    \n",
        "    final_loss.append(loss_curi) \n",
        "  return final_loss\n",
        "    "
      ],
      "execution_count": 286,
      "outputs": []
    },
    {
      "cell_type": "code",
      "metadata": {
        "id": "Yl41sE8vFERk"
      },
      "source": [
        "train_loss_all=[]\n",
        "\n",
        "testloader_list= [ testloader_1]\n",
        "lr_list = [0.0001, 0.0005, 0.001, 0.005, 0.01, 0.05, 0.1, 0.5 ]"
      ],
      "execution_count": 287,
      "outputs": []
    },
    {
      "cell_type": "code",
      "metadata": {
        "colab": {
          "base_uri": "https://localhost:8080/"
        },
        "id": "5gQoPST5zW2t",
        "outputId": "71205247-bafa-4729-b937-f4d6bb8a8d53"
      },
      "source": [
        "fin_loss = train_all(trainloader_1, 1, testloader_list, lr_list)\n",
        "train_loss_all.append(fin_loss)"
      ],
      "execution_count": 288,
      "outputs": [
        {
          "output_type": "stream",
          "name": "stdout",
          "text": [
            "---------------------------------------- Learning Rate used is 0.0001\n",
            "epoch: [0 ] loss: 1.077\n",
            "epoch: [1] loss: 1.066\n",
            "epoch: [201] loss: 0.760\n",
            "epoch: [401] loss: 0.750\n",
            "epoch: [601] loss: 0.750\n",
            "epoch: [801] loss: 0.736\n",
            "Finished Training\n",
            "Accuracy of the network on the 500 train images: 65.80 %\n",
            "unique out:  [0 1 2] unique pred:  [0 1 2]\n",
            "correct:  1000 total  1000\n",
            "Accuracy of the network on the 1000 test dataset 1: 100.00 %\n",
            "--------------------------------------------------------------------------------\n",
            "---------------------------------------- Learning Rate used is 0.0005\n",
            "epoch: [0 ] loss: 1.077\n",
            "epoch: [1] loss: 1.066\n",
            "epoch: [201] loss: 0.760\n",
            "epoch: [401] loss: 0.750\n",
            "epoch: [601] loss: 0.750\n",
            "epoch: [801] loss: 0.736\n",
            "Finished Training\n",
            "Accuracy of the network on the 500 train images: 65.80 %\n",
            "unique out:  [0 1 2] unique pred:  [0 1 2]\n",
            "correct:  1000 total  1000\n",
            "Accuracy of the network on the 1000 test dataset 1: 100.00 %\n",
            "--------------------------------------------------------------------------------\n",
            "---------------------------------------- Learning Rate used is 0.001\n",
            "epoch: [0 ] loss: 1.077\n",
            "epoch: [1] loss: 1.066\n",
            "epoch: [201] loss: 0.760\n",
            "epoch: [401] loss: 0.750\n",
            "epoch: [601] loss: 0.750\n",
            "epoch: [801] loss: 0.736\n",
            "Finished Training\n",
            "Accuracy of the network on the 500 train images: 65.80 %\n",
            "unique out:  [0 1 2] unique pred:  [0 1 2]\n",
            "correct:  1000 total  1000\n",
            "Accuracy of the network on the 1000 test dataset 1: 100.00 %\n",
            "--------------------------------------------------------------------------------\n",
            "---------------------------------------- Learning Rate used is 0.005\n",
            "epoch: [0 ] loss: 1.077\n",
            "epoch: [1] loss: 1.066\n",
            "epoch: [201] loss: 0.760\n",
            "epoch: [401] loss: 0.750\n",
            "epoch: [601] loss: 0.750\n",
            "epoch: [801] loss: 0.736\n",
            "Finished Training\n",
            "Accuracy of the network on the 500 train images: 65.80 %\n",
            "unique out:  [0 1 2] unique pred:  [0 1 2]\n",
            "correct:  1000 total  1000\n",
            "Accuracy of the network on the 1000 test dataset 1: 100.00 %\n",
            "--------------------------------------------------------------------------------\n",
            "---------------------------------------- Learning Rate used is 0.01\n",
            "epoch: [0 ] loss: 1.077\n",
            "epoch: [1] loss: 1.066\n",
            "epoch: [201] loss: 0.760\n",
            "epoch: [401] loss: 0.750\n",
            "epoch: [601] loss: 0.750\n",
            "epoch: [801] loss: 0.736\n",
            "Finished Training\n",
            "Accuracy of the network on the 500 train images: 65.80 %\n",
            "unique out:  [0 1 2] unique pred:  [0 1 2]\n",
            "correct:  1000 total  1000\n",
            "Accuracy of the network on the 1000 test dataset 1: 100.00 %\n",
            "--------------------------------------------------------------------------------\n",
            "---------------------------------------- Learning Rate used is 0.05\n",
            "epoch: [0 ] loss: 1.077\n",
            "epoch: [1] loss: 1.066\n",
            "epoch: [201] loss: 0.760\n",
            "epoch: [401] loss: 0.750\n",
            "epoch: [601] loss: 0.750\n",
            "epoch: [801] loss: 0.736\n",
            "Finished Training\n",
            "Accuracy of the network on the 500 train images: 65.80 %\n",
            "unique out:  [0 1 2] unique pred:  [0 1 2]\n",
            "correct:  1000 total  1000\n",
            "Accuracy of the network on the 1000 test dataset 1: 100.00 %\n",
            "--------------------------------------------------------------------------------\n",
            "---------------------------------------- Learning Rate used is 0.1\n",
            "epoch: [0 ] loss: 1.077\n",
            "epoch: [1] loss: 1.066\n",
            "epoch: [201] loss: 0.760\n",
            "epoch: [401] loss: 0.750\n",
            "epoch: [601] loss: 0.750\n",
            "epoch: [801] loss: 0.736\n",
            "Finished Training\n",
            "Accuracy of the network on the 500 train images: 65.80 %\n",
            "unique out:  [0 1 2] unique pred:  [0 1 2]\n",
            "correct:  1000 total  1000\n",
            "Accuracy of the network on the 1000 test dataset 1: 100.00 %\n",
            "--------------------------------------------------------------------------------\n",
            "---------------------------------------- Learning Rate used is 0.5\n",
            "epoch: [0 ] loss: 1.077\n",
            "epoch: [1] loss: 1.066\n",
            "epoch: [201] loss: 0.760\n",
            "epoch: [401] loss: 0.750\n",
            "epoch: [601] loss: 0.750\n",
            "epoch: [801] loss: 0.736\n",
            "Finished Training\n",
            "Accuracy of the network on the 500 train images: 65.80 %\n",
            "unique out:  [0 1 2] unique pred:  [0 1 2]\n",
            "correct:  1000 total  1000\n",
            "Accuracy of the network on the 1000 test dataset 1: 100.00 %\n",
            "--------------------------------------------------------------------------------\n"
          ]
        }
      ]
    },
    {
      "cell_type": "code",
      "metadata": {
        "id": "In76SYH_zZHV"
      },
      "source": [
        "%matplotlib inline"
      ],
      "execution_count": 289,
      "outputs": []
    },
    {
      "cell_type": "code",
      "metadata": {
        "colab": {
          "base_uri": "https://localhost:8080/"
        },
        "id": "_GsE3qHR_A5c",
        "outputId": "76399f40-af0f-453b-9ffc-fc9663ee48ae"
      },
      "source": [
        "len(fin_loss)"
      ],
      "execution_count": 290,
      "outputs": [
        {
          "output_type": "execute_result",
          "data": {
            "text/plain": [
              "8"
            ]
          },
          "metadata": {},
          "execution_count": 290
        }
      ]
    },
    {
      "cell_type": "code",
      "metadata": {
        "id": "BS4HtOHEzZ0E",
        "colab": {
          "base_uri": "https://localhost:8080/",
          "height": 297
        },
        "outputId": "97457c9f-db5c-44bf-dc0a-4bd084d42ec1"
      },
      "source": [
        "for i,j in enumerate(fin_loss):\n",
        "    plt.plot(j,label =\"LR = \"+str(lr_list[i]))\n",
        "    \n",
        "\n",
        "plt.xlabel(\"Epochs\")\n",
        "plt.ylabel(\"Training_loss\")\n",
        "\n",
        "plt.legend(loc='center left', bbox_to_anchor=(1, 0.5))"
      ],
      "execution_count": 291,
      "outputs": [
        {
          "output_type": "execute_result",
          "data": {
            "text/plain": [
              "<matplotlib.legend.Legend at 0x7fab063fa310>"
            ]
          },
          "metadata": {},
          "execution_count": 291
        },
        {
          "output_type": "display_data",
          "data": {
            "image/png": "[encoded data removed]",
            "text/plain": [
              "<Figure size 432x288 with 1 Axes>"
            ]
          },
          "metadata": {
            "needs_background": "light"
          }
        }
      ]
    },
    {
      "cell_type": "code",
      "metadata": {
        "id": "1UbTkfLUINTI"
      },
      "source": [
        ""
      ],
      "execution_count": 291,
      "outputs": []
    }
  ]
}