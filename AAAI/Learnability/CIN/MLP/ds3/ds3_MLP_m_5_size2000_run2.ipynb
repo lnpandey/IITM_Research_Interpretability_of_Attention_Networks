{
  "nbformat": 4,
  "nbformat_minor": 0,
  "metadata": {
    "accelerator": "GPU",
    "colab": {
      "name": "ds3_MLP_m_5_size2000_run2.ipynb",
      "provenance": [],
      "collapsed_sections": []
    },
    "kernelspec": {
      "display_name": "Python 3",
      "language": "python",
      "name": "python3"
    },
    "language_info": {
      "codemirror_mode": {
        "name": "ipython",
        "version": 3
      },
      "file_extension": ".py",
      "mimetype": "text/x-python",
      "name": "python",
      "nbconvert_exporter": "python",
      "pygments_lexer": "ipython3",
      "version": "3.6.5"
    }
  },
  "cells": [
    {
      "cell_type": "code",
      "metadata": {
        "colab": {
          "base_uri": "https://localhost:8080/"
        },
        "id": "N2_J4Rw2r0SQ",
        "outputId": "63f45f11-ab7e-4c69-d427-f78cd0cdaa9f"
      },
      "source": [
        "import numpy as np\n",
        "import pandas as pd\n",
        "from matplotlib import pyplot as plt\n",
        "from tqdm import tqdm\n",
        "%matplotlib inline\n",
        "from torch.utils.data import Dataset, DataLoader\n",
        "import torch\n",
        "import torchvision\n",
        "\n",
        "import torch.nn as nn\n",
        "import torch.optim as optim\n",
        "from torch.nn import functional as F\n",
        "device = torch.device(\"cuda\" if torch.cuda.is_available() else \"cpu\")\n",
        "print(device)"
      ],
      "execution_count": 1,
      "outputs": [
        {
          "output_type": "stream",
          "name": "stdout",
          "text": [
            "cuda\n"
          ]
        }
      ]
    },
    {
      "cell_type": "code",
      "metadata": {
        "id": "ZTJPyL45DiJ3"
      },
      "source": [
        "m = 5           # 5, 50, 100, 500, 2000"
      ],
      "execution_count": 2,
      "outputs": []
    },
    {
      "cell_type": "code",
      "metadata": {
        "id": "g-do5dZWK5L6"
      },
      "source": [
        "train_size = 2000          # 100, 500, 2000, 10000"
      ],
      "execution_count": 3,
      "outputs": []
    },
    {
      "cell_type": "markdown",
      "metadata": {
        "id": "F6fjud_Fr0Sa"
      },
      "source": [
        "# Generate dataset"
      ]
    },
    {
      "cell_type": "code",
      "metadata": {
        "colab": {
          "base_uri": "https://localhost:8080/"
        },
        "id": "CqdXHO0Cr0Sd",
        "outputId": "9532b2fd-1d83-475d-89ee-2f861cad2269"
      },
      "source": [
        "np.random.seed(12)\n",
        "y = np.random.randint(0,10,5000)\n",
        "idx= []\n",
        "for i in range(10):\n",
        "    print(i,sum(y==i))\n",
        "    idx.append(y==i)"
      ],
      "execution_count": 4,
      "outputs": [
        {
          "output_type": "stream",
          "name": "stdout",
          "text": [
            "0 530\n",
            "1 463\n",
            "2 494\n",
            "3 517\n",
            "4 488\n",
            "5 497\n",
            "6 493\n",
            "7 507\n",
            "8 492\n",
            "9 519\n"
          ]
        }
      ]
    },
    {
      "cell_type": "code",
      "metadata": {
        "id": "ddhXyODwr0Sk"
      },
      "source": [
        "x = np.zeros((5000,2))"
      ],
      "execution_count": 5,
      "outputs": []
    },
    {
      "cell_type": "code",
      "metadata": {
        "id": "DyV3N2DIr0Sp"
      },
      "source": [
        "np.random.seed(12)\n",
        "x[idx[0],:] = np.random.multivariate_normal(mean = [5,5],cov=[[0.1,0],[0,0.1]],size=sum(idx[0]))\n",
        "x[idx[1],:] = np.random.multivariate_normal(mean = [6,6],cov=[[0.1,0],[0,0.1]],size=sum(idx[1]))\n",
        "x[idx[2],:] = np.random.multivariate_normal(mean = [5.5,6.5],cov=[[0.1,0],[0,0.1]],size=sum(idx[2]))\n",
        "x[idx[3],:] = np.random.multivariate_normal(mean = [-1,0],cov=[[0.1,0],[0,0.1]],size=sum(idx[3]))\n",
        "x[idx[4],:] = np.random.multivariate_normal(mean = [0,2],cov=[[0.1,0],[0,0.1]],size=sum(idx[4]))\n",
        "x[idx[5],:] = np.random.multivariate_normal(mean = [1,0],cov=[[0.1,0],[0,0.1]],size=sum(idx[5]))\n",
        "x[idx[6],:] = np.random.multivariate_normal(mean = [0,-1],cov=[[0.1,0],[0,0.1]],size=sum(idx[6]))\n",
        "x[idx[7],:] = np.random.multivariate_normal(mean = [0,0],cov=[[0.1,0],[0,0.1]],size=sum(idx[7]))\n",
        "x[idx[8],:] = np.random.multivariate_normal(mean = [-0.5,-0.5],cov=[[0.1,0],[0,0.1]],size=sum(idx[8]))\n",
        "x[idx[9],:] = np.random.multivariate_normal(mean = [0.4,0.2],cov=[[0.1,0],[0,0.1]],size=sum(idx[9]))"
      ],
      "execution_count": 6,
      "outputs": []
    },
    {
      "cell_type": "code",
      "metadata": {
        "colab": {
          "base_uri": "https://localhost:8080/"
        },
        "id": "qh1mDScsU07I",
        "outputId": "5013583f-41d4-439d-a2db-8ffdb3b03dc6"
      },
      "source": [
        "x[idx[0]][0], x[idx[5]][5] "
      ],
      "execution_count": 7,
      "outputs": [
        {
          "output_type": "execute_result",
          "data": {
            "text/plain": [
              "(array([5.14957125, 4.78451422]), array([0.87756167, 0.00457805]))"
            ]
          },
          "metadata": {},
          "execution_count": 7
        }
      ]
    },
    {
      "cell_type": "code",
      "metadata": {
        "colab": {
          "base_uri": "https://localhost:8080/",
          "height": 284
        },
        "id": "hJ8Jm7YUr0St",
        "outputId": "4b6d52ae-8db9-4743-b1ac-0bbd993ecbb8"
      },
      "source": [
        "for i in range(10):\n",
        "    plt.scatter(x[idx[i],0],x[idx[i],1],label=\"class_\"+str(i))\n",
        "plt.legend(loc='center left', bbox_to_anchor=(1, 0.5))"
      ],
      "execution_count": 8,
      "outputs": [
        {
          "output_type": "execute_result",
          "data": {
            "text/plain": [
              "<matplotlib.legend.Legend at 0x7f4fe3ba4f50>"
            ]
          },
          "metadata": {},
          "execution_count": 8
        },
        {
          "output_type": "display_data",
          "data": {
            "image/png": "[encoded data removed]",
            "text/plain": [
              "<Figure size 432x288 with 1 Axes>"
            ]
          },
          "metadata": {
            "needs_background": "light"
          }
        }
      ]
    },
    {
      "cell_type": "code",
      "metadata": {
        "colab": {
          "base_uri": "https://localhost:8080/"
        },
        "id": "3lMBZEHNBlF2",
        "outputId": "b8686861-bc61-43d5-a575-8368aaec4a29"
      },
      "source": [
        "bg_idx = [ np.where(idx[3] == True)[0], \n",
        "          np.where(idx[4] == True)[0], \n",
        "          np.where(idx[5] == True)[0],\n",
        "          np.where(idx[6] == True)[0], \n",
        "          np.where(idx[7] == True)[0], \n",
        "          np.where(idx[8] == True)[0],\n",
        "          np.where(idx[9] == True)[0]]\n",
        "\n",
        "bg_idx = np.concatenate(bg_idx, axis = 0)\n",
        "bg_idx.shape"
      ],
      "execution_count": 9,
      "outputs": [
        {
          "output_type": "execute_result",
          "data": {
            "text/plain": [
              "(3513,)"
            ]
          },
          "metadata": {},
          "execution_count": 9
        }
      ]
    },
    {
      "cell_type": "code",
      "metadata": {
        "colab": {
          "base_uri": "https://localhost:8080/"
        },
        "id": "blRbGZHeCwXU",
        "outputId": "bce39359-7b53-4647-99c7-3cfcd4473037"
      },
      "source": [
        "np.unique(bg_idx).shape"
      ],
      "execution_count": 10,
      "outputs": [
        {
          "output_type": "execute_result",
          "data": {
            "text/plain": [
              "(3513,)"
            ]
          },
          "metadata": {},
          "execution_count": 10
        }
      ]
    },
    {
      "cell_type": "code",
      "metadata": {
        "id": "Y43sWeX7C15F"
      },
      "source": [
        "x = x - np.mean(x[bg_idx], axis = 0, keepdims = True)\n"
      ],
      "execution_count": 11,
      "outputs": []
    },
    {
      "cell_type": "code",
      "metadata": {
        "colab": {
          "base_uri": "https://localhost:8080/"
        },
        "id": "ooII7N6UDWe0",
        "outputId": "14a29fdd-5ee0-4de6-af77-d9db4616ed11"
      },
      "source": [
        "np.mean(x[bg_idx], axis = 0, keepdims = True), np.mean(x, axis = 0, keepdims = True)"
      ],
      "execution_count": 12,
      "outputs": [
        {
          "output_type": "execute_result",
          "data": {
            "text/plain": [
              "(array([[-1.04275003e-16,  6.74571889e-17]]),\n",
              " array([[1.63261967, 1.69552644]]))"
            ]
          },
          "metadata": {},
          "execution_count": 12
        }
      ]
    },
    {
      "cell_type": "code",
      "metadata": {
        "id": "g21bvPRYDL9k"
      },
      "source": [
        "x = x/np.std(x[bg_idx], axis = 0, keepdims = True)"
      ],
      "execution_count": 13,
      "outputs": []
    },
    {
      "cell_type": "code",
      "metadata": {
        "colab": {
          "base_uri": "https://localhost:8080/"
        },
        "id": "GtFvIeHsDZJk",
        "outputId": "7c47d711-b3a4-45c6-dcbe-7ef84fa9851b"
      },
      "source": [
        "np.std(x[bg_idx], axis = 0, keepdims = True), np.std(x, axis = 0, keepdims = True)"
      ],
      "execution_count": 14,
      "outputs": [
        {
          "output_type": "execute_result",
          "data": {
            "text/plain": [
              "(array([[1., 1.]]), array([[3.93071885, 3.03840862]]))"
            ]
          },
          "metadata": {},
          "execution_count": 14
        }
      ]
    },
    {
      "cell_type": "code",
      "metadata": {
        "colab": {
          "base_uri": "https://localhost:8080/",
          "height": 284
        },
        "id": "8-VLhUfDDeHt",
        "outputId": "27248025-e272-48a4-f6df-85926d20b224"
      },
      "source": [
        "for i in range(10):\n",
        "    plt.scatter(x[idx[i],0],x[idx[i],1],label=\"class_\"+str(i))\n",
        "plt.legend(loc='center left', bbox_to_anchor=(1, 0.5))"
      ],
      "execution_count": 15,
      "outputs": [
        {
          "output_type": "execute_result",
          "data": {
            "text/plain": [
              "<matplotlib.legend.Legend at 0x7f4fe3c19cd0>"
            ]
          },
          "metadata": {},
          "execution_count": 15
        },
        {
          "output_type": "display_data",
          "data": {
            "image/png": "[encoded data removed]",
            "text/plain": [
              "<Figure size 432x288 with 1 Axes>"
            ]
          },
          "metadata": {
            "needs_background": "light"
          }
        }
      ]
    },
    {
      "cell_type": "code",
      "metadata": {
        "id": "UfFHcZJOr0Sz"
      },
      "source": [
        "foreground_classes = {'class_0','class_1', 'class_2'}\n",
        "\n",
        "background_classes = {'class_3','class_4', 'class_5', 'class_6','class_7', 'class_8', 'class_9'}"
      ],
      "execution_count": 16,
      "outputs": []
    },
    {
      "cell_type": "code",
      "metadata": {
        "colab": {
          "base_uri": "https://localhost:8080/"
        },
        "id": "OplNpNQVr0S2",
        "outputId": "1394ec3c-fda4-43dc-e321-8a2d66f73708"
      },
      "source": [
        "fg_class  = np.random.randint(0,3)\n",
        "fg_idx = np.random.randint(0,m)\n",
        "train_data=[]\n",
        "a = []\n",
        "fg_instance = np.array([[0.0,0.0]])\n",
        "bg_instance = np.array([[0.0,0.0]])\n",
        "\n",
        "for i in range(m):\n",
        "  if i == fg_idx:\n",
        "    b = np.random.choice(np.where(idx[fg_class]==True)[0],size=1)\n",
        "    fg_instance += x[b]\n",
        "    a.append(x[b])\n",
        "    print(\"foreground \"+str(fg_class)+\" present at \" + str(fg_idx))\n",
        "  else:\n",
        "    bg_class = np.random.randint(3,10)\n",
        "    b = np.random.choice(np.where(idx[bg_class]==True)[0],size=1)\n",
        "    bg_instance += x[b]\n",
        "    a.append(x[b])\n",
        "    print(\"background \"+str(bg_class)+\" present at \" + str(i))\n",
        "\n",
        "a = np.concatenate(a,axis=0)\n",
        "print(a.shape)\n",
        "\n",
        "print(fg_class , fg_idx)"
      ],
      "execution_count": 17,
      "outputs": [
        {
          "output_type": "stream",
          "name": "stdout",
          "text": [
            "background 5 present at 0\n",
            "background 6 present at 1\n",
            "foreground 2 present at 2\n",
            "background 5 present at 3\n",
            "background 3 present at 4\n",
            "(5, 2)\n",
            "2 2\n"
          ]
        }
      ]
    },
    {
      "cell_type": "code",
      "metadata": {
        "colab": {
          "base_uri": "https://localhost:8080/"
        },
        "id": "Rx6cMmR3baVf",
        "outputId": "2734e77f-ad7f-4903-a5fb-9d79b127b771"
      },
      "source": [
        "a"
      ],
      "execution_count": 18,
      "outputs": [
        {
          "output_type": "execute_result",
          "data": {
            "text/plain": [
              "array([[ 1.52560273, -0.1298488 ],\n",
              "       [-0.4226508 , -1.2003313 ],\n",
              "       [ 8.5153438 ,  7.02349438],\n",
              "       [ 2.09728368, -0.24465132],\n",
              "       [-0.98608769, -0.75123246]])"
            ]
          },
          "metadata": {},
          "execution_count": 18
        }
      ]
    },
    {
      "cell_type": "code",
      "metadata": {
        "colab": {
          "base_uri": "https://localhost:8080/"
        },
        "id": "dEdaFZPQhc7D",
        "outputId": "470809f6-cbbf-4f3a-c0d2-e6c76645dddc"
      },
      "source": [
        "fg_instance"
      ],
      "execution_count": 19,
      "outputs": [
        {
          "output_type": "execute_result",
          "data": {
            "text/plain": [
              "array([[8.5153438 , 7.02349438]])"
            ]
          },
          "metadata": {},
          "execution_count": 19
        }
      ]
    },
    {
      "cell_type": "code",
      "metadata": {
        "colab": {
          "base_uri": "https://localhost:8080/"
        },
        "id": "IqdAVbG1hftM",
        "outputId": "0e66ab22-d03c-4831-da75-b13eab9dfbd9"
      },
      "source": [
        "bg_instance"
      ],
      "execution_count": 20,
      "outputs": [
        {
          "output_type": "execute_result",
          "data": {
            "text/plain": [
              "array([[ 2.21414792, -2.32606388]])"
            ]
          },
          "metadata": {},
          "execution_count": 20
        }
      ]
    },
    {
      "cell_type": "code",
      "metadata": {
        "colab": {
          "base_uri": "https://localhost:8080/"
        },
        "id": "Ho98SSXEhx6L",
        "outputId": "c1b860e2-c234-47f5-bc12-005e003e05fd"
      },
      "source": [
        "(fg_instance+bg_instance)/m , m"
      ],
      "execution_count": 21,
      "outputs": [
        {
          "output_type": "execute_result",
          "data": {
            "text/plain": [
              "(array([[2.14589834, 0.9394861 ]]), 5)"
            ]
          },
          "metadata": {},
          "execution_count": 21
        }
      ]
    },
    {
      "cell_type": "code",
      "metadata": {
        "id": "jqbvfbwVr0TN"
      },
      "source": [
        "# mosaic_list_of_images =[]\n",
        "# mosaic_label = []\n",
        "train_label=[]\n",
        "fore_idx=[]\n",
        "train_data = []\n",
        "for j in range(train_size):\n",
        "  np.random.seed(j)\n",
        "  fg_instance = torch.zeros([2], dtype=torch.float64) #np.array([[0.0,0.0]])\n",
        "  bg_instance = torch.zeros([2], dtype=torch.float64) #np.array([[0.0,0.0]])\n",
        "  # a=[]\n",
        "\n",
        "  for i in range(m):\n",
        "    if i == fg_idx:\n",
        "      fg_class  = np.random.randint(0,3)\n",
        "      b = np.random.choice(np.where(idx[fg_class]==True)[0],size=1)\n",
        "      fg_instance += x[b]\n",
        "      # a.append(x[b])\n",
        "      # print(\"foreground \"+str(fg_class)+\" present at \" + str(fg_idx))\n",
        "    else:\n",
        "      bg_class = np.random.randint(3,10)\n",
        "      b = np.random.choice(np.where(idx[bg_class]==True)[0],size=1)\n",
        "      bg_instance += x[b]\n",
        "      # a.append(x[b])\n",
        "      # print(\"background \"+str(bg_class)+\" present at \" + str(i))\n",
        "  train_data.append((fg_instance+bg_instance)/m)\n",
        "  # a = np.concatenate(a,axis=0)\n",
        "  # mosaic_list_of_images.append(np.reshape(a,(2*m,1)))\n",
        "  train_label.append(fg_class)\n",
        "  fore_idx.append(fg_idx)"
      ],
      "execution_count": 22,
      "outputs": []
    },
    {
      "cell_type": "code",
      "metadata": {
        "colab": {
          "base_uri": "https://localhost:8080/"
        },
        "id": "X_g6lxkVjN0N",
        "outputId": "f7f019e0-e1a4-4cce-de17-a8ce23f539af"
      },
      "source": [
        " train_data[0], train_label[0]"
      ],
      "execution_count": 23,
      "outputs": [
        {
          "output_type": "execute_result",
          "data": {
            "text/plain": [
              "(tensor([[1.9415, 1.1735]], dtype=torch.float64), 1)"
            ]
          },
          "metadata": {},
          "execution_count": 23
        }
      ]
    },
    {
      "cell_type": "code",
      "metadata": {
        "colab": {
          "base_uri": "https://localhost:8080/"
        },
        "id": "Tz5wQCevobYr",
        "outputId": "131d2e76-801f-4469-c493-9e1d1988b109"
      },
      "source": [
        "train_data = torch.stack(train_data, axis=0)\n",
        "train_data.shape, len(train_label)"
      ],
      "execution_count": 24,
      "outputs": [
        {
          "output_type": "execute_result",
          "data": {
            "text/plain": [
              "(torch.Size([2000, 1, 2]), 2000)"
            ]
          },
          "metadata": {},
          "execution_count": 24
        }
      ]
    },
    {
      "cell_type": "code",
      "metadata": {
        "id": "CVAlImGYA49A"
      },
      "source": [
        "test_label=[]\n",
        "# fore_idx=[]\n",
        "test_data = []\n",
        "for j in range(1000):\n",
        "  np.random.seed(j)\n",
        "  fg_instance = torch.zeros([2], dtype=torch.float64) #np.array([[0.0,0.0]])\n",
        "\n",
        "  fg_class  = np.random.randint(0,3)\n",
        "  b = np.random.choice(np.where(idx[fg_class]==True)[0],size=1)\n",
        "  fg_instance += x[b]\n",
        "  # a.append(x[b])\n",
        "  # print(\"foreground \"+str(fg_class)+\" present at \" + str(fg_idx))\n",
        "\n",
        "  test_data.append((fg_instance)/m)\n",
        "  # a = np.concatenate(a,axis=0)\n",
        "  # mosaic_list_of_images.append(np.reshape(a,(2*m,1)))\n",
        "  test_label.append(fg_class)\n",
        "  # fore_idx.append(fg_idx)"
      ],
      "execution_count": 25,
      "outputs": []
    },
    {
      "cell_type": "code",
      "metadata": {
        "colab": {
          "base_uri": "https://localhost:8080/"
        },
        "id": "XltBz3__BT_C",
        "outputId": "0fe5ab0d-31db-4655-95c6-254daa50c25f"
      },
      "source": [
        "test_data[0], test_label[0]"
      ],
      "execution_count": 26,
      "outputs": [
        {
          "output_type": "execute_result",
          "data": {
            "text/plain": [
              "(tensor([[1.6196, 1.0052]], dtype=torch.float64), 0)"
            ]
          },
          "metadata": {},
          "execution_count": 26
        }
      ]
    },
    {
      "cell_type": "code",
      "metadata": {
        "colab": {
          "base_uri": "https://localhost:8080/"
        },
        "id": "JqQfjkCnBX8E",
        "outputId": "ebb43ace-1628-45a2-d3ca-89027e891c58"
      },
      "source": [
        "test_data = torch.stack(test_data, axis=0)\n",
        "test_data.shape, len(test_label)"
      ],
      "execution_count": 27,
      "outputs": [
        {
          "output_type": "execute_result",
          "data": {
            "text/plain": [
              "(torch.Size([1000, 1, 2]), 1000)"
            ]
          },
          "metadata": {},
          "execution_count": 27
        }
      ]
    },
    {
      "cell_type": "code",
      "metadata": {
        "id": "nQhRf1ICBvW6"
      },
      "source": [
        "x1 = (train_data).numpy()\n",
        "y1 = np.array(train_label)"
      ],
      "execution_count": 28,
      "outputs": []
    },
    {
      "cell_type": "code",
      "metadata": {
        "colab": {
          "base_uri": "https://localhost:8080/"
        },
        "id": "vDAz96DSCXn5",
        "outputId": "f4e51c60-fc40-4a2e-c032-f744c7efe1eb"
      },
      "source": [
        "x1[y1==0,0]"
      ],
      "execution_count": 29,
      "outputs": [
        {
          "output_type": "execute_result",
          "data": {
            "text/plain": [
              "array([[2.31083719, 1.29582207],\n",
              "       [2.55617415, 0.82339394],\n",
              "       [2.05459714, 1.28499008],\n",
              "       ...,\n",
              "       [0.97514481, 0.41684912],\n",
              "       [1.04018001, 0.80496331],\n",
              "       [2.27268263, 1.22348262]])"
            ]
          },
          "metadata": {},
          "execution_count": 29
        }
      ]
    },
    {
      "cell_type": "code",
      "metadata": {
        "colab": {
          "base_uri": "https://localhost:8080/"
        },
        "id": "kMwwZhv7Bv1U",
        "outputId": "2b3ce2bb-5b52-4bd0-8066-1ed2001adef1"
      },
      "source": [
        "x1[y1==0,0][:,0]"
      ],
      "execution_count": 30,
      "outputs": [
        {
          "output_type": "execute_result",
          "data": {
            "text/plain": [
              "array([2.31083719, 2.55617415, 2.05459714, 1.70525849, 1.54031539,\n",
              "       1.37520709, 1.44761575, 1.53792062, 1.82083894, 1.36488786,\n",
              "       1.14608175, 1.88163464, 1.51963717, 1.51771884, 1.36489497,\n",
              "       1.90814419, 1.69137383, 1.25445685, 0.94311049, 1.44034429,\n",
              "       1.6786334 , 1.2438062 , 1.21075277, 1.85554257, 1.46278414,\n",
              "       1.72961448, 1.75948675, 1.81877001, 1.15716597, 1.42352501,\n",
              "       1.57715537, 1.5293098 , 1.66313291, 1.56648775, 2.38567877,\n",
              "       1.70771039, 1.04282909, 1.83563808, 1.83695179, 1.56194808,\n",
              "       1.27509123, 1.22885388, 2.24437237, 2.17451706, 0.69990137,\n",
              "       1.94797391, 2.62403838, 1.84525267, 2.10841107, 1.70767505,\n",
              "       1.57948011, 1.33215722, 1.77871085, 1.12023719, 1.59911174,\n",
              "       1.17328073, 1.63065423, 1.04120479, 1.55422321, 1.52339184,\n",
              "       1.18964882, 0.66131841, 1.70022455, 0.87296164, 2.11258235,\n",
              "       2.36313962, 1.05094033, 1.51800435, 1.3419238 , 1.46297891,\n",
              "       1.49407907, 1.39658293, 1.59323094, 2.31660864, 1.72260562,\n",
              "       1.11996184, 1.24728828, 1.46382512, 1.61260596, 0.92340052,\n",
              "       1.74676082, 1.77615175, 1.22823126, 1.3401504 , 0.93398231,\n",
              "       1.5171228 , 1.67945218, 1.06605243, 2.39710926, 1.99260079,\n",
              "       0.93826254, 1.4134599 , 0.62565983, 0.6138321 , 1.34054809,\n",
              "       2.2663296 , 1.41287222, 1.30586479, 1.67981991, 2.05437389,\n",
              "       2.29677098, 1.24516375, 0.55487125, 1.83901526, 1.98119448,\n",
              "       1.51252467, 1.34240967, 1.25443891, 1.31526519, 0.70819538,\n",
              "       1.91313449, 2.31194915, 0.99317913, 1.55409312, 1.89132111,\n",
              "       1.20518395, 1.55097662, 1.90693313, 1.70093187, 2.28057527,\n",
              "       2.25690647, 1.76604167, 2.06451155, 1.66835973, 1.58824538,\n",
              "       1.74279146, 1.72281569, 1.86582763, 1.78151204, 1.69854044,\n",
              "       1.68174152, 1.16598893, 1.7986142 , 1.61236538, 1.3947506 ,\n",
              "       2.15142015, 1.81846955, 0.7202892 , 1.975823  , 1.40240037,\n",
              "       1.29369151, 2.20725217, 1.24764504, 1.32560885, 2.45517119,\n",
              "       0.97423046, 1.41398912, 2.1096033 , 0.89603042, 1.29223477,\n",
              "       2.23143776, 1.73841446, 2.93344249, 1.37763993, 1.5324196 ,\n",
              "       1.90672715, 1.49425292, 1.04567375, 2.31026887, 0.67188851,\n",
              "       1.97770701, 1.19443394, 1.76453988, 1.48753051, 1.36953019,\n",
              "       1.38501474, 1.88509748, 1.61422505, 1.99425164, 0.79146628,\n",
              "       1.6372831 , 1.39828254, 0.88667236, 1.65072346, 1.62865226,\n",
              "       0.88220673, 1.38578859, 1.1590756 , 2.7023882 , 1.23293714,\n",
              "       1.8044364 , 1.39083583, 0.96965912, 2.09655139, 1.71908868,\n",
              "       1.4058433 , 2.10490922, 0.86875201, 2.78779508, 1.90138234,\n",
              "       2.01701711, 1.76985079, 1.90810877, 1.68214605, 1.71201677,\n",
              "       1.53096197, 1.42016345, 1.36759802, 1.12205074, 1.62590297,\n",
              "       1.33491155, 1.84927934, 0.75289506, 2.59845886, 2.04174175,\n",
              "       1.42354073, 1.32078161, 2.12536435, 1.26187058, 1.50827832,\n",
              "       1.27805522, 1.54707929, 1.02305706, 1.30341123, 1.70302456,\n",
              "       1.45612752, 2.24114391, 1.9692271 , 2.04434421, 2.24501215,\n",
              "       1.78854757, 1.48802374, 1.94432425, 1.62384119, 1.30663166,\n",
              "       1.56813859, 0.72522489, 1.55943503, 1.55680081, 1.23412734,\n",
              "       1.19413729, 1.8075833 , 1.73578218, 1.41467044, 1.32822067,\n",
              "       1.73958302, 0.94548773, 1.98401783, 1.63854324, 1.69470424,\n",
              "       1.464536  , 1.50136901, 1.57191719, 1.60323811, 1.18084737,\n",
              "       1.4778695 , 1.72983079, 1.50150985, 1.43405829, 1.10599709,\n",
              "       1.43380603, 1.09300924, 1.01044252, 1.38588493, 1.90563309,\n",
              "       1.61916874, 2.15330993, 2.04455714, 1.38039119, 1.53709064,\n",
              "       1.48031702, 1.76901455, 2.2133161 , 1.12111746, 1.14316816,\n",
              "       2.0166518 , 1.61696048, 2.29630449, 1.7743719 , 1.97514586,\n",
              "       1.54785239, 1.50257439, 1.51348774, 1.11070032, 0.65251608,\n",
              "       1.20777181, 2.38868202, 1.40948492, 1.80414866, 1.13276176,\n",
              "       1.12645797, 1.19617957, 1.48235248, 1.72128895, 1.50723587,\n",
              "       1.80244623, 1.96458563, 2.02631127, 1.09191312, 0.71883019,\n",
              "       1.2885402 , 1.24524042, 1.56898789, 1.25412659, 1.84740992,\n",
              "       1.55958604, 0.77295164, 1.09335941, 1.98390286, 1.06954866,\n",
              "       1.89893542, 2.19660574, 2.74744084, 0.67285263, 1.3499423 ,\n",
              "       1.48697366, 1.84381107, 2.24161115, 1.34861333, 0.74304862,\n",
              "       1.82042115, 1.85875867, 1.91602162, 2.01180052, 0.83191733,\n",
              "       1.24344853, 2.09100323, 1.06744617, 1.57379385, 1.31158703,\n",
              "       1.52525256, 1.76160593, 0.60841291, 1.38133015, 1.78230073,\n",
              "       1.51485175, 1.77919361, 1.51435565, 1.52827807, 1.96628778,\n",
              "       1.07278193, 1.1602837 , 1.52853999, 1.77287482, 1.15394134,\n",
              "       1.24831649, 1.48195661, 1.52083243, 0.92755854, 1.57152781,\n",
              "       1.32654572, 1.41704227, 1.19854402, 1.42209592, 0.3323603 ,\n",
              "       1.15690704, 2.51178462, 1.80750054, 1.11590679, 1.41077283,\n",
              "       1.65490271, 1.53165654, 1.09378422, 1.12858961, 1.41730108,\n",
              "       1.75568184, 1.34618961, 1.17783153, 1.24830631, 1.46974822,\n",
              "       1.62264498, 1.44393532, 1.49269578, 0.68935019, 1.12756709,\n",
              "       1.77161865, 1.12854162, 1.60273535, 1.74402066, 1.0876356 ,\n",
              "       1.44097132, 1.2920149 , 1.53378497, 1.90921643, 1.77471724,\n",
              "       1.55273683, 1.76573053, 2.07543846, 2.0561886 , 1.39040335,\n",
              "       2.20363709, 1.41244431, 1.15442175, 1.93409265, 2.0326374 ,\n",
              "       1.49335601, 1.56544   , 1.22411002, 1.69527734, 1.95692972,\n",
              "       1.54765877, 1.60458928, 1.38230687, 1.79578825, 1.47776217,\n",
              "       2.03302893, 1.36523936, 1.62308725, 1.93612953, 0.82001003,\n",
              "       1.41993489, 1.9590193 , 1.39402911, 1.68267581, 1.01352269,\n",
              "       1.57221391, 1.85264155, 1.43185193, 2.38984102, 1.48937301,\n",
              "       1.7292288 , 0.94706956, 0.72823566, 1.29569713, 0.88235166,\n",
              "       1.73894549, 1.39592219, 1.43706978, 1.76136004, 1.73205846,\n",
              "       1.25884345, 1.81902435, 1.74382775, 1.5128026 , 1.65990751,\n",
              "       1.14156064, 1.24242055, 0.64748275, 1.02953016, 2.04932031,\n",
              "       1.48926868, 0.94201145, 1.71358595, 1.85871854, 1.56165783,\n",
              "       1.92339078, 1.84144936, 1.43008282, 0.81791979, 1.64846271,\n",
              "       2.07969041, 1.6011295 , 1.37209536, 1.92761896, 1.75179693,\n",
              "       1.0405291 , 1.52832692, 2.08362672, 1.97755068, 1.06392387,\n",
              "       1.99511588, 1.50013932, 2.14883925, 1.85695043, 1.71397672,\n",
              "       0.81579613, 2.55167453, 1.76544721, 1.82880535, 1.40565889,\n",
              "       1.87636073, 1.46536075, 1.5165142 , 1.43316418, 1.29174785,\n",
              "       1.13273384, 1.69844364, 1.32958454, 1.77471476, 1.88122675,\n",
              "       1.42956827, 1.05564714, 1.18715894, 1.09817329, 1.69338168,\n",
              "       1.64431341, 1.80120514, 1.51331682, 1.51279072, 1.87075592,\n",
              "       1.3147748 , 1.81258896, 1.9221025 , 0.90848508, 1.18049186,\n",
              "       1.7757467 , 2.12001116, 1.71661422, 1.68677569, 1.81739847,\n",
              "       1.92191746, 1.82500825, 1.94117816, 1.94024074, 1.47997967,\n",
              "       1.71067527, 0.88106421, 1.90140315, 1.7565275 , 1.26762505,\n",
              "       2.04161887, 1.38373105, 1.22152063, 1.67584362, 1.65875043,\n",
              "       1.60273974, 2.01570457, 1.89781616, 2.5916051 , 1.51505227,\n",
              "       1.40229049, 2.3218428 , 1.61273879, 0.85627656, 1.74869747,\n",
              "       1.95546872, 1.82266385, 1.01155546, 0.88034456, 1.20755675,\n",
              "       1.54732418, 1.12809643, 1.50161802, 1.86402967, 1.4528017 ,\n",
              "       1.68052873, 1.42725922, 1.66735519, 1.26485882, 1.59803304,\n",
              "       1.41143743, 1.14232907, 1.83174838, 1.27475163, 1.96742564,\n",
              "       0.99197409, 2.25440837, 2.48314376, 1.64242384, 1.32930369,\n",
              "       1.22000519, 1.99314499, 1.19836648, 1.77519777, 0.89756258,\n",
              "       1.00515522, 1.66639475, 1.6188502 , 0.79254119, 0.95964465,\n",
              "       1.9775436 , 2.0188465 , 1.30932935, 1.84204899, 1.42918779,\n",
              "       1.8400692 , 1.14471484, 1.72842949, 1.61859618, 1.28426938,\n",
              "       1.94982741, 1.68398223, 1.4068296 , 2.31686174, 0.99463626,\n",
              "       1.77602731, 1.94980076, 1.10058335, 1.36092377, 1.89374999,\n",
              "       1.700245  , 1.4796555 , 1.68070437, 1.43564526, 1.89402154,\n",
              "       0.63577273, 0.93062929, 1.99262331, 1.43275941, 1.80761861,\n",
              "       0.68664506, 1.76875001, 1.98932371, 1.10621805, 1.66528127,\n",
              "       1.9676093 , 1.85429638, 1.45057618, 1.38428371, 1.44603029,\n",
              "       1.72296754, 1.35109967, 1.82250299, 1.36197958, 1.86373879,\n",
              "       1.19174043, 0.93648521, 1.34821977, 0.63798547, 1.3002515 ,\n",
              "       1.26519338, 0.9251176 , 1.5931902 , 1.61658258, 0.61944564,\n",
              "       1.10306287, 1.87076446, 2.00320471, 1.33750686, 1.18353309,\n",
              "       1.97032695, 2.13359056, 1.33290513, 2.04892331, 2.31108645,\n",
              "       1.8890533 , 1.05910307, 1.22578341, 2.11050889, 0.83863291,\n",
              "       1.42805005, 1.37840571, 1.57398575, 1.33606   , 1.86098438,\n",
              "       1.74818006, 1.66677102, 1.61964893, 1.17158298, 1.62374418,\n",
              "       2.15605244, 1.67055869, 1.77527595, 1.66102389, 1.85574759,\n",
              "       1.9957449 , 1.4336306 , 1.45363168, 1.97734395, 1.3308673 ,\n",
              "       1.60091939, 1.55932754, 1.58526779, 1.86241901, 1.07815444,\n",
              "       1.02429642, 1.80860505, 2.0733157 , 1.64608647, 1.11615354,\n",
              "       1.56364379, 0.79972349, 1.09436745, 1.19260506, 1.19041302,\n",
              "       1.52912729, 0.95776601, 1.46924896, 1.70500017, 1.8477294 ,\n",
              "       1.50489914, 1.69077898, 1.02824084, 0.97514481, 1.04018001,\n",
              "       2.27268263])"
            ]
          },
          "metadata": {},
          "execution_count": 30
        }
      ]
    },
    {
      "cell_type": "code",
      "metadata": {
        "colab": {
          "base_uri": "https://localhost:8080/"
        },
        "id": "ydbu3OV3CYxB",
        "outputId": "cc8ee587-491b-43b8-b705-496c3f748d1a"
      },
      "source": [
        "x1[y1==0,0][:,1]"
      ],
      "execution_count": 31,
      "outputs": [
        {
          "output_type": "execute_result",
          "data": {
            "text/plain": [
              "array([1.29582207, 0.82339394, 1.28499008, 1.77512975, 0.53982597,\n",
              "       1.11561758, 1.18088703, 1.14562282, 1.02595941, 1.17364008,\n",
              "       0.68747298, 1.18488168, 1.46941846, 2.11783694, 1.87599498,\n",
              "       1.14836183, 0.5168221 , 0.7725669 , 0.90360228, 2.24659856,\n",
              "       1.5440739 , 1.80364468, 1.61354854, 0.79036512, 0.90666355,\n",
              "       0.87452299, 0.88091133, 1.28780841, 1.17923006, 0.36204016,\n",
              "       1.28219434, 0.73782214, 1.63731343, 1.22911101, 0.5837939 ,\n",
              "       0.88217516, 1.23611846, 1.36342367, 1.21282566, 0.84934563,\n",
              "       0.97661684, 0.7470571 , 1.07163737, 1.82223524, 1.2225546 ,\n",
              "       0.95274703, 1.20573736, 1.54738559, 1.82358666, 1.19073174,\n",
              "       1.25128021, 0.72727653, 1.17517011, 2.07966776, 0.84911766,\n",
              "       1.23816774, 1.55067469, 1.07023594, 1.51357034, 0.97922212,\n",
              "       1.79517579, 1.36965356, 1.14260043, 1.55138739, 0.70516807,\n",
              "       1.16333272, 1.08271819, 1.6262457 , 1.33810884, 1.87450759,\n",
              "       1.12725478, 1.07570589, 0.69407916, 1.35037307, 1.78366349,\n",
              "       1.39452645, 0.23279401, 1.5839166 , 1.02369141, 0.53533661,\n",
              "       1.65340265, 1.50452861, 1.19532359, 0.8297111 , 1.31735501,\n",
              "       1.38976187, 1.24249466, 1.0559721 , 1.19594103, 0.79990911,\n",
              "       1.92401686, 1.5840381 , 0.88396352, 0.89399493, 0.55317502,\n",
              "       1.24078036, 0.86823975, 0.82624644, 0.86332746, 1.00805737,\n",
              "       1.31496254, 1.71880389, 0.59569822, 0.95680409, 1.55700436,\n",
              "       0.50697775, 1.59236409, 1.58620183, 0.45640744, 1.1578128 ,\n",
              "       1.39394483, 1.34240204, 0.99704055, 1.59491989, 1.73140607,\n",
              "       0.7421978 , 0.78571881, 1.94054656, 1.38859515, 1.16656278,\n",
              "       0.35809255, 1.05179213, 1.42371809, 1.07895348, 1.44457142,\n",
              "       0.61777438, 1.45318498, 0.74061078, 1.19303206, 1.38397007,\n",
              "       1.30837295, 1.2345487 , 1.43441809, 1.73438073, 1.5672337 ,\n",
              "       1.02946195, 0.77863174, 1.13912154, 0.28575163, 0.32162748,\n",
              "       1.40892409, 1.29376736, 0.99992454, 0.65484828, 1.08425776,\n",
              "       1.24269113, 1.93208848, 1.30985502, 0.61466276, 0.15819116,\n",
              "       0.69658033, 0.77961151, 1.29411878, 0.98925032, 0.50547007,\n",
              "       1.91273742, 0.92438854, 1.69167825, 0.81871839, 0.89931749,\n",
              "       0.9999304 , 0.71356588, 1.10100689, 1.6517898 , 1.34330427,\n",
              "       0.71261848, 0.82365123, 0.86185388, 1.43185321, 0.9978525 ,\n",
              "       0.95249355, 1.10336872, 0.83946373, 0.72168214, 0.33568015,\n",
              "       0.67644064, 0.75920596, 1.6652807 , 1.07660022, 1.30423741,\n",
              "       1.03173858, 1.21480457, 1.34353306, 0.90621199, 0.56809348,\n",
              "       1.75121617, 0.90895052, 1.08451269, 1.02537697, 1.30534609,\n",
              "       1.64715372, 0.66773988, 1.10012983, 2.30978648, 0.94526369,\n",
              "       1.60036993, 0.80673971, 1.316029  , 1.35102095, 1.96460032,\n",
              "       1.62646609, 0.79263539, 0.43473038, 1.15258032, 0.75934409,\n",
              "       1.74198303, 0.84314757, 1.73725829, 1.10550249, 0.84993059,\n",
              "       1.97529269, 1.47442056, 0.47372911, 0.79749968, 0.87330422,\n",
              "       1.48305071, 1.39439261, 0.59240483, 1.40577689, 0.35290893,\n",
              "       0.94651119, 0.65272192, 0.99939059, 1.76198583, 1.49181278,\n",
              "       1.91577104, 0.99722501, 0.99221385, 0.83393328, 2.41447071,\n",
              "       0.59134956, 0.47680665, 0.56312945, 1.35663392, 0.61263167,\n",
              "       1.41543512, 0.26317741, 1.20327795, 0.90723358, 1.19807921,\n",
              "       0.94600292, 1.17554822, 1.43864821, 1.26159544, 1.65688328,\n",
              "       0.9253379 , 1.47112206, 1.46244332, 2.47082451, 0.59105329,\n",
              "       0.98636991, 0.40600771, 1.76082823, 1.39050448, 1.30045187,\n",
              "       1.23521874, 1.12707959, 0.76982161, 1.24028166, 0.60600052,\n",
              "       1.8600804 , 1.43761381, 1.02331371, 0.64252111, 0.32282866,\n",
              "       1.87518545, 0.54235645, 1.44045269, 0.94379453, 0.9118849 ,\n",
              "       1.09858128, 0.96341313, 1.65721485, 1.27634736, 0.64559451,\n",
              "       0.78078134, 1.30043539, 1.1339309 , 1.39895401, 1.67108907,\n",
              "       0.88827223, 0.78319337, 1.58425696, 1.39909685, 0.5967844 ,\n",
              "       0.9971672 , 1.46566449, 1.18924581, 0.86676609, 0.5151386 ,\n",
              "       0.8987955 , 1.18821559, 0.90125713, 1.27696829, 1.10748362,\n",
              "       1.36369913, 1.45514102, 0.8958808 , 0.83960864, 1.66120354,\n",
              "       0.66776174, 1.36947037, 1.56979288, 1.00479047, 0.97256064,\n",
              "       0.89268705, 1.30797888, 0.77656334, 2.03174905, 0.91244851,\n",
              "       1.07007943, 0.58897576, 1.13937381, 0.85840315, 1.78482096,\n",
              "       0.57767809, 1.25517309, 0.99946418, 0.54239991, 0.55489085,\n",
              "       1.64579221, 1.27376301, 0.86418715, 0.99627796, 1.016122  ,\n",
              "       0.66878931, 0.8496884 , 1.60504294, 0.98692911, 1.31172897,\n",
              "       1.72253582, 1.44543891, 0.86929463, 1.65852682, 1.25125796,\n",
              "       1.54084626, 1.12550755, 0.91342252, 1.23379783, 1.39709846,\n",
              "       2.0457325 , 1.80437244, 2.07198218, 0.78223866, 0.75058426,\n",
              "       1.01569711, 1.16145674, 1.83337581, 1.68776102, 1.34106876,\n",
              "       1.23299745, 0.61895015, 0.50113842, 0.91918743, 2.06529523,\n",
              "       0.79112215, 1.06827572, 1.0977664 , 1.99791816, 1.26388312,\n",
              "       0.64189944, 0.43678009, 0.37619838, 1.72219957, 0.66797092,\n",
              "       1.54204565, 0.92976358, 0.95032918, 1.20471509, 0.4611991 ,\n",
              "       0.73934818, 1.2385785 , 1.17535384, 0.45873973, 1.24549239,\n",
              "       0.772096  , 1.38626672, 1.53365257, 0.68539826, 0.84666503,\n",
              "       0.65654579, 0.45455464, 1.27378904, 1.45854448, 1.26449471,\n",
              "       1.75423063, 1.88830126, 1.25281607, 0.78845908, 2.05945608,\n",
              "       0.57162826, 1.30589064, 2.46919049, 0.82312885, 0.40704728,\n",
              "       1.46755318, 0.77380171, 0.72825877, 1.07059712, 1.7824054 ,\n",
              "       0.87696121, 1.18605497, 1.4306815 , 1.21728475, 0.64980734,\n",
              "       1.27232843, 0.99867074, 0.77331448, 0.41769022, 0.92623548,\n",
              "       0.89729844, 0.65391148, 0.93738986, 1.34743894, 0.56085338,\n",
              "       1.27430867, 1.16308672, 0.64661062, 1.66926977, 0.7088459 ,\n",
              "       0.90665114, 0.68780451, 1.15554358, 0.95662944, 1.29085742,\n",
              "       1.33799598, 1.25704058, 1.19571309, 1.03397857, 0.98885494,\n",
              "       0.73947352, 1.29299461, 0.55774582, 1.93635552, 1.59300664,\n",
              "       1.14468882, 0.84325061, 0.4907034 , 0.75827852, 1.04750508,\n",
              "       1.61283082, 0.72633451, 0.7753936 , 1.79213601, 0.59545859,\n",
              "       1.16674679, 0.46364856, 1.18435661, 0.60098493, 0.78989325,\n",
              "       1.70913901, 0.92023826, 1.2384659 , 0.62479464, 0.88143277,\n",
              "       0.53576747, 0.81850113, 0.88773711, 0.71927877, 0.47049775,\n",
              "       2.03186124, 0.04912104, 1.58377912, 1.90521751, 0.83563248,\n",
              "       0.89718681, 1.02429008, 0.64833237, 1.41329627, 1.58847315,\n",
              "       1.4409228 , 1.51670321, 1.35056479, 2.255939  , 0.78825513,\n",
              "       0.66849426, 1.27372546, 1.20762675, 1.02955291, 1.07140898,\n",
              "       1.20955942, 2.19298417, 0.9405772 , 1.07792614, 0.63343152,\n",
              "       1.08092815, 0.77899596, 0.78550361, 1.87185495, 1.07733744,\n",
              "       0.81099377, 2.47880176, 1.31264464, 0.79110921, 1.9173853 ,\n",
              "       1.46801675, 1.6915377 , 0.92289685, 0.66067066, 0.79552492,\n",
              "       1.05644871, 0.56878662, 0.9897512 , 0.61047603, 1.00958457,\n",
              "       1.54400543, 0.86968296, 1.41234537, 0.80129719, 1.12594496,\n",
              "       0.99884289, 1.4215346 , 1.12133345, 0.80113862, 1.43126042,\n",
              "       0.90754449, 1.05051143, 1.44394911, 0.90577514, 1.27005743,\n",
              "       1.26022435, 0.71653749, 0.54941226, 0.67687065, 0.612991  ,\n",
              "       0.72898278, 1.19945331, 0.99199604, 1.06799644, 1.31670614,\n",
              "       0.5370818 , 1.58160297, 0.83698115, 1.38876686, 0.89077974,\n",
              "       1.36274171, 0.89896171, 1.19392401, 1.16497044, 0.64069719,\n",
              "       0.73023493, 0.86596092, 1.33694378, 0.71532078, 0.72674026,\n",
              "       0.31519373, 1.16856615, 1.56608511, 0.82334079, 1.59765332,\n",
              "       1.45836929, 1.09081878, 2.47010664, 1.48256395, 0.71697877,\n",
              "       1.74195351, 1.47362761, 0.94870721, 1.09410646, 1.2555956 ,\n",
              "       0.75075031, 1.01169775, 0.53898432, 0.85148956, 0.81412969,\n",
              "       0.63352919, 1.03814088, 1.31819576, 0.81003035, 1.16465858,\n",
              "       0.87858726, 0.84876053, 0.79020117, 1.24097049, 2.07746599,\n",
              "       0.58784591, 1.47907647, 0.87628914, 1.18433485, 1.02785661,\n",
              "       0.6267774 , 1.65384952, 1.01188974, 0.66303548, 1.33273789,\n",
              "       1.48382471, 0.80770154, 1.11925955, 1.11486792, 1.37185993,\n",
              "       0.63120689, 0.93325752, 1.6151622 , 0.69751088, 1.91998119,\n",
              "       1.44212017, 1.22394866, 0.84048734, 0.91039788, 0.99346161,\n",
              "       0.69310588, 0.41987518, 0.59671628, 0.89398475, 0.86443653,\n",
              "       1.10756404, 0.66038435, 1.8554149 , 1.15995515, 1.13601252,\n",
              "       1.72862461, 1.06961084, 1.46604733, 0.86864819, 1.74927202,\n",
              "       0.96517431, 1.01163554, 0.4877505 , 1.90500636, 1.33307936,\n",
              "       1.64352176, 1.46382999, 0.40423799, 0.69871632, 1.7654185 ,\n",
              "       1.75175462, 0.85069378, 0.54299534, 0.36663562, 1.3680683 ,\n",
              "       0.88812582, 1.11241792, 1.44598985, 0.93075061, 0.9748573 ,\n",
              "       1.7930723 , 1.89823065, 0.98782758, 1.40505052, 1.31043878,\n",
              "       1.83503083, 0.43924048, 1.67256436, 1.23799228, 0.42111266,\n",
              "       0.88617064, 2.02042282, 1.03466137, 0.68990602, 1.22551438,\n",
              "       1.0027586 , 0.72055182, 0.93811894, 1.93692133, 1.6129895 ,\n",
              "       1.38220696, 0.75340448, 1.04125142, 1.57011332, 1.12000833,\n",
              "       1.31254067, 0.83433857, 0.92649207, 0.41684912, 0.80496331,\n",
              "       1.22348262])"
            ]
          },
          "metadata": {},
          "execution_count": 31
        }
      ]
    },
    {
      "cell_type": "code",
      "metadata": {
        "colab": {
          "base_uri": "https://localhost:8080/",
          "height": 300
        },
        "id": "bT9-kEI7NAnR",
        "outputId": "273e1f2d-2e70-48a4-982b-973601febbc1"
      },
      "source": [
        "x1 = (train_data).numpy()\n",
        "y1 = np.array(train_label)\n",
        "\n",
        "plt.scatter(x1[y1==0,0][:,0], x1[y1==0,0][:,1], label='class 0')\n",
        "plt.scatter(x1[y1==1,0][:,0], x1[y1==1,0][:,1], label='class 1')\n",
        "plt.scatter(x1[y1==2,0][:,0], x1[y1==2,0][:,1], label='class 2')\n",
        "plt.legend()\n",
        "plt.title(\"dataset4 CIN with alpha = 1/\"+str(m))"
      ],
      "execution_count": 32,
      "outputs": [
        {
          "output_type": "execute_result",
          "data": {
            "text/plain": [
              "Text(0.5, 1.0, 'dataset4 CIN with alpha = 1/5')"
            ]
          },
          "metadata": {},
          "execution_count": 32
        },
        {
          "output_type": "display_data",
          "data": {
            "image/png": "[encoded data removed]",
            "text/plain": [
              "<Figure size 432x288 with 1 Axes>"
            ]
          },
          "metadata": {
            "needs_background": "light"
          }
        }
      ]
    },
    {
      "cell_type": "code",
      "metadata": {
        "colab": {
          "base_uri": "https://localhost:8080/",
          "height": 300
        },
        "id": "Sc8W2N7LQQ_l",
        "outputId": "c86ae7ce-bc40-4a5f-deef-3d34f537ed9d"
      },
      "source": [
        "x1 = (test_data).numpy()\n",
        "y1 = np.array(test_label)\n",
        "\n",
        "plt.scatter(x1[y1==0,0][:,0], x1[y1==0,0][:,1], label='class 0')\n",
        "plt.scatter(x1[y1==1,0][:,0], x1[y1==1,0][:,1], label='class 1')\n",
        "plt.scatter(x1[y1==2,0][:,0], x1[y1==2,0][:,1], label='class 2')\n",
        "plt.legend()\n",
        "plt.title(\"test dataset4\")"
      ],
      "execution_count": 33,
      "outputs": [
        {
          "output_type": "execute_result",
          "data": {
            "text/plain": [
              "Text(0.5, 1.0, 'test dataset4')"
            ]
          },
          "metadata": {},
          "execution_count": 33
        },
        {
          "output_type": "display_data",
          "data": {
            "image/png": "[encoded data removed]",
            "text/plain": [
              "<Figure size 432x288 with 1 Axes>"
            ]
          },
          "metadata": {
            "needs_background": "light"
          }
        }
      ]
    },
    {
      "cell_type": "code",
      "metadata": {
        "id": "yL0BRf8er0TX"
      },
      "source": [
        "class MosaicDataset(Dataset):\n",
        "  \"\"\"MosaicDataset dataset.\"\"\"\n",
        "\n",
        "  def __init__(self, mosaic_list_of_images, mosaic_label):\n",
        "    \"\"\"\n",
        "      Args:\n",
        "        csv_file (string): Path to the csv file with annotations.\n",
        "        root_dir (string): Directory with all the images.\n",
        "        transform (callable, optional): Optional transform to be applied\n",
        "            on a sample.\n",
        "    \"\"\"\n",
        "    self.mosaic = mosaic_list_of_images\n",
        "    self.label = mosaic_label\n",
        "    #self.fore_idx = fore_idx\n",
        "    \n",
        "  def __len__(self):\n",
        "    return len(self.label)\n",
        "\n",
        "  def __getitem__(self, idx):\n",
        "    return self.mosaic[idx] , self.label[idx] #, self.fore_idx[idx]\n",
        "\n"
      ],
      "execution_count": 34,
      "outputs": []
    },
    {
      "cell_type": "code",
      "metadata": {
        "colab": {
          "base_uri": "https://localhost:8080/"
        },
        "id": "4KsrW9qL9xgS",
        "outputId": "103b2e3b-a691-41a5-eb41-d350521e749c"
      },
      "source": [
        "train_data[0].shape, train_data[0]"
      ],
      "execution_count": 35,
      "outputs": [
        {
          "output_type": "execute_result",
          "data": {
            "text/plain": [
              "(torch.Size([1, 2]), tensor([[1.9415, 1.1735]], dtype=torch.float64))"
            ]
          },
          "metadata": {},
          "execution_count": 35
        }
      ]
    },
    {
      "cell_type": "code",
      "metadata": {
        "id": "EY2l62APygaV"
      },
      "source": [
        "batch = 200\n",
        "\n",
        "traindata_1 = MosaicDataset(train_data, train_label )\n",
        "trainloader_1 = DataLoader( traindata_1 , batch_size= batch ,shuffle=True)\n"
      ],
      "execution_count": 36,
      "outputs": []
    },
    {
      "cell_type": "code",
      "metadata": {
        "id": "9suUslCj8YZK"
      },
      "source": [
        "testdata_1 = MosaicDataset(test_data, test_label )\n",
        "testloader_1 = DataLoader( testdata_1 , batch_size= batch ,shuffle=False)\n"
      ],
      "execution_count": 37,
      "outputs": []
    },
    {
      "cell_type": "code",
      "metadata": {
        "id": "Nh3mBQHZ8bEj"
      },
      "source": [
        "# testdata_11 = MosaicDataset(test_dataset, labels )\n",
        "# testloader_11 = DataLoader( testdata_11 , batch_size= batch ,shuffle=False)"
      ],
      "execution_count": 38,
      "outputs": []
    },
    {
      "cell_type": "code",
      "metadata": {
        "id": "5_XeIUk0r0Tl"
      },
      "source": [
        "class Whatnet(nn.Module):\n",
        "    def __init__(self):\n",
        "        super(Whatnet,self).__init__()\n",
        "        self.linear1 = nn.Linear(2,50)\n",
        "        self.linear2 = nn.Linear(50,3)\n",
        "\n",
        "        torch.nn.init.xavier_normal_(self.linear1.weight)\n",
        "        torch.nn.init.zeros_(self.linear1.bias)\n",
        "        torch.nn.init.xavier_normal_(self.linear2.weight)\n",
        "        torch.nn.init.zeros_(self.linear2.bias)\n",
        "\n",
        "    def forward(self,x):\n",
        "        x = F.relu(self.linear1(x))\n",
        "        x = (self.linear2(x))\n",
        "\n",
        "        return x[:,0]"
      ],
      "execution_count": 39,
      "outputs": []
    },
    {
      "cell_type": "code",
      "metadata": {
        "id": "pjD2VZuV9Ed4"
      },
      "source": [
        "def calculate_loss(dataloader,model,criter):\n",
        "  model.eval()\n",
        "  r_loss = 0\n",
        "  with torch.no_grad():\n",
        "    for i, data in enumerate(dataloader, 0):\n",
        "      inputs, labels = data\n",
        "      inputs, labels = inputs.to(\"cuda\"),labels.to(\"cuda\")\n",
        "      outputs = model(inputs)\n",
        "      # print(outputs.shape)\n",
        "      loss = criter(outputs, labels)\n",
        "      r_loss += loss.item()\n",
        "  return r_loss/(i+1)"
      ],
      "execution_count": 40,
      "outputs": []
    },
    {
      "cell_type": "code",
      "metadata": {
        "id": "uALi25pmzQHV"
      },
      "source": [
        "def test_all(number, testloader,net):\n",
        "    correct = 0\n",
        "    total = 0\n",
        "    out = []\n",
        "    pred = []\n",
        "    with torch.no_grad():\n",
        "        for data in testloader:\n",
        "            images, labels = data\n",
        "            images, labels = images.to(\"cuda\"),labels.to(\"cuda\")\n",
        "            out.append(labels.cpu().numpy())\n",
        "            outputs= net(images)\n",
        "            _, predicted = torch.max(outputs.data, 1)\n",
        "            pred.append(predicted.cpu().numpy())\n",
        "            total += labels.size(0)\n",
        "            correct += (predicted == labels).sum().item()\n",
        "    \n",
        "    pred = np.concatenate(pred, axis = 0)\n",
        "    out = np.concatenate(out, axis = 0)\n",
        "    print(\"unique out: \",  np.unique(out), \"unique pred: \", np.unique(pred) )\n",
        "    print(\"correct: \", correct, \"total \",  total)\n",
        "    print('Accuracy of the network on the %d test dataset %d: %.2f %%' % (total, number , 100 * correct / total))"
      ],
      "execution_count": 41,
      "outputs": []
    },
    {
      "cell_type": "code",
      "metadata": {
        "id": "4vmNprlPzTjP"
      },
      "source": [
        "def train_all(trainloader, ds_number, testloader_list, lr_list):\n",
        "  \n",
        "  final_loss = []\n",
        "  for LR in lr_list:    \n",
        "    print(\"--\"*20, \"Learning Rate used is\", LR)\n",
        "    \n",
        "    torch.manual_seed(13)\n",
        "    net = Whatnet().double()\n",
        "    net = net.to(\"cuda\")\n",
        "    \n",
        "    criterion_net = nn.CrossEntropyLoss()\n",
        "    optimizer_net = optim.Adam(net.parameters(), lr=LR ) #, momentum=0.9)\n",
        "    \n",
        "    acti = []\n",
        "    loss_curi = []\n",
        "    epochs = 1000\n",
        "    running_loss = calculate_loss(trainloader,net,criterion_net)\n",
        "    loss_curi.append(running_loss)\n",
        "    print('epoch: [%d ] loss: %.3f' %(0,running_loss)) \n",
        "    for epoch in range(epochs): # loop over the dataset multiple times\n",
        "        ep_lossi = []\n",
        "\n",
        "        running_loss = 0.0\n",
        "        net.train()\n",
        "        for i, data in enumerate(trainloader, 0):\n",
        "            # get the inputs\n",
        "            inputs, labels = data\n",
        "            inputs, labels = inputs.to(\"cuda\"),labels.to(\"cuda\")\n",
        "\n",
        "            # zero the parameter gradients\n",
        "            optimizer_net.zero_grad()\n",
        "\n",
        "            # forward + backward + optimize\n",
        "            outputs = net(inputs)\n",
        "            # print(outputs.shape)\n",
        "            loss = criterion_net(outputs, labels)\n",
        "            # print statistics\n",
        "            running_loss += loss.item()\n",
        "            loss.backward()\n",
        "            optimizer_net.step()\n",
        "\n",
        "        running_loss = calculate_loss(trainloader,net,criterion_net)\n",
        "        if(epoch%200 == 0):\n",
        "          print('epoch: [%d] loss: %.3f' %(epoch + 1,running_loss)) \n",
        "        loss_curi.append(running_loss)   #loss per epoch\n",
        "        if running_loss<=0.05:\n",
        "          print('epoch: [%d] loss: %.3f' %(epoch + 1,running_loss))\n",
        "          break\n",
        "\n",
        "    print('Finished Training')\n",
        "    \n",
        "    correct = 0\n",
        "    total = 0\n",
        "    with torch.no_grad():\n",
        "        for data in trainloader:\n",
        "            images, labels = data\n",
        "            images, labels = images.to(\"cuda\"), labels.to(\"cuda\")\n",
        "            outputs = net(images)\n",
        "            _, predicted = torch.max(outputs.data, 1)\n",
        "            total += labels.size(0)\n",
        "            correct += (predicted == labels).sum().item()\n",
        "\n",
        "    print('Accuracy of the network on the %d train images: %.2f %%' % (total,  100 * correct / total))\n",
        "    \n",
        "    for i, j in enumerate(testloader_list):\n",
        "        test_all(i+1, j,net)\n",
        "    \n",
        "    print(\"--\"*40)\n",
        "    \n",
        "    final_loss.append(loss_curi) \n",
        "  return final_loss\n",
        "    "
      ],
      "execution_count": 54,
      "outputs": []
    },
    {
      "cell_type": "code",
      "metadata": {
        "id": "Yl41sE8vFERk"
      },
      "source": [
        "train_loss_all=[]\n",
        "\n",
        "testloader_list= [ testloader_1]\n",
        "lr_list = [0.0001, 0.0005, 0.001, 0.005, 0.01, 0.05, 0.1, 0.5 ]"
      ],
      "execution_count": 55,
      "outputs": []
    },
    {
      "cell_type": "code",
      "metadata": {
        "colab": {
          "base_uri": "https://localhost:8080/"
        },
        "id": "5gQoPST5zW2t",
        "outputId": "bb6a289d-0b2c-44d4-9d8e-3deac8602485"
      },
      "source": [
        "fin_loss = train_all(trainloader_1, 1, testloader_list, lr_list)\n",
        "train_loss_all.append(fin_loss)"
      ],
      "execution_count": 56,
      "outputs": [
        {
          "output_type": "stream",
          "name": "stdout",
          "text": [
            "---------------------------------------- Learning Rate used is 0.0001\n",
            "epoch: [0 ] loss: 1.236\n",
            "epoch: [1] loss: 1.228\n",
            "epoch: [201] loss: 1.064\n",
            "epoch: [401] loss: 1.035\n",
            "epoch: [601] loss: 1.019\n",
            "epoch: [801] loss: 1.014\n",
            "Finished Training\n",
            "Accuracy of the network on the 2000 train images: 46.90 %\n",
            "unique out:  [0 1 2] unique pred:  [0 1 2]\n",
            "correct:  838 total  1000\n",
            "Accuracy of the network on the 1000 test dataset 1: 83.80 %\n",
            "--------------------------------------------------------------------------------\n",
            "---------------------------------------- Learning Rate used is 0.0005\n",
            "epoch: [0 ] loss: 1.236\n",
            "epoch: [1] loss: 1.200\n",
            "epoch: [201] loss: 1.012\n",
            "epoch: [401] loss: 1.010\n",
            "epoch: [601] loss: 1.009\n",
            "epoch: [801] loss: 1.008\n",
            "Finished Training\n",
            "Accuracy of the network on the 2000 train images: 46.70 %\n",
            "unique out:  [0 1 2] unique pred:  [0 1 2]\n",
            "correct:  731 total  1000\n",
            "Accuracy of the network on the 1000 test dataset 1: 73.10 %\n",
            "--------------------------------------------------------------------------------\n",
            "---------------------------------------- Learning Rate used is 0.001\n",
            "epoch: [0 ] loss: 1.236\n",
            "epoch: [1] loss: 1.171\n",
            "epoch: [201] loss: 1.010\n",
            "epoch: [401] loss: 1.008\n",
            "epoch: [601] loss: 1.008\n",
            "epoch: [801] loss: 1.007\n",
            "Finished Training\n",
            "Accuracy of the network on the 2000 train images: 47.05 %\n",
            "unique out:  [0 1 2] unique pred:  [0 1 2]\n",
            "correct:  681 total  1000\n",
            "Accuracy of the network on the 1000 test dataset 1: 68.10 %\n",
            "--------------------------------------------------------------------------------\n",
            "---------------------------------------- Learning Rate used is 0.005\n",
            "epoch: [0 ] loss: 1.236\n",
            "epoch: [1] loss: 1.102\n",
            "epoch: [201] loss: 1.006\n",
            "epoch: [401] loss: 1.005\n",
            "epoch: [601] loss: 1.003\n",
            "epoch: [801] loss: 1.001\n",
            "Finished Training\n",
            "Accuracy of the network on the 2000 train images: 47.60 %\n",
            "unique out:  [0 1 2] unique pred:  [0 1 2]\n",
            "correct:  551 total  1000\n",
            "Accuracy of the network on the 1000 test dataset 1: 55.10 %\n",
            "--------------------------------------------------------------------------------\n",
            "---------------------------------------- Learning Rate used is 0.01\n",
            "epoch: [0 ] loss: 1.236\n",
            "epoch: [1] loss: 1.106\n",
            "epoch: [201] loss: 1.007\n",
            "epoch: [401] loss: 1.007\n",
            "epoch: [601] loss: 1.005\n",
            "epoch: [801] loss: 1.002\n",
            "Finished Training\n",
            "Accuracy of the network on the 2000 train images: 47.65 %\n",
            "unique out:  [0 1 2] unique pred:  [0 1 2]\n",
            "correct:  681 total  1000\n",
            "Accuracy of the network on the 1000 test dataset 1: 68.10 %\n",
            "--------------------------------------------------------------------------------\n",
            "---------------------------------------- Learning Rate used is 0.05\n",
            "epoch: [0 ] loss: 1.236\n",
            "epoch: [1] loss: 1.097\n",
            "epoch: [201] loss: 1.013\n",
            "epoch: [401] loss: 1.012\n",
            "epoch: [601] loss: 1.018\n",
            "epoch: [801] loss: 1.009\n",
            "Finished Training\n",
            "Accuracy of the network on the 2000 train images: 46.60 %\n",
            "unique out:  [0 1 2] unique pred:  [0 1 2]\n",
            "correct:  830 total  1000\n",
            "Accuracy of the network on the 1000 test dataset 1: 83.00 %\n",
            "--------------------------------------------------------------------------------\n",
            "---------------------------------------- Learning Rate used is 0.1\n",
            "epoch: [0 ] loss: 1.236\n",
            "epoch: [1] loss: 1.093\n",
            "epoch: [201] loss: 1.034\n",
            "epoch: [401] loss: 1.033\n",
            "epoch: [601] loss: 1.021\n",
            "epoch: [801] loss: 1.033\n",
            "Finished Training\n",
            "Accuracy of the network on the 2000 train images: 45.95 %\n",
            "unique out:  [0 1 2] unique pred:  [0 1 2]\n",
            "correct:  784 total  1000\n",
            "Accuracy of the network on the 1000 test dataset 1: 78.40 %\n",
            "--------------------------------------------------------------------------------\n",
            "---------------------------------------- Learning Rate used is 0.5\n",
            "epoch: [0 ] loss: 1.236\n",
            "epoch: [1] loss: 1.113\n",
            "epoch: [201] loss: 1.102\n",
            "epoch: [401] loss: 1.109\n",
            "epoch: [601] loss: 1.101\n",
            "epoch: [801] loss: 1.106\n",
            "Finished Training\n",
            "Accuracy of the network on the 2000 train images: 33.30 %\n",
            "unique out:  [0 1 2] unique pred:  [0]\n",
            "correct:  314 total  1000\n",
            "Accuracy of the network on the 1000 test dataset 1: 31.40 %\n",
            "--------------------------------------------------------------------------------\n"
          ]
        }
      ]
    },
    {
      "cell_type": "code",
      "metadata": {
        "id": "In76SYH_zZHV"
      },
      "source": [
        "%matplotlib inline"
      ],
      "execution_count": 57,
      "outputs": []
    },
    {
      "cell_type": "code",
      "metadata": {
        "colab": {
          "base_uri": "https://localhost:8080/"
        },
        "id": "_GsE3qHR_A5c",
        "outputId": "0b6b7b8b-8d52-4b98-d3cb-9854725192ad"
      },
      "source": [
        "len(fin_loss)"
      ],
      "execution_count": 58,
      "outputs": [
        {
          "output_type": "execute_result",
          "data": {
            "text/plain": [
              "8"
            ]
          },
          "metadata": {},
          "execution_count": 58
        }
      ]
    },
    {
      "cell_type": "code",
      "metadata": {
        "id": "BS4HtOHEzZ0E",
        "colab": {
          "base_uri": "https://localhost:8080/",
          "height": 297
        },
        "outputId": "1dabd785-dc39-48cf-e3de-da672a8e888c"
      },
      "source": [
        "for i,j in enumerate(fin_loss):\n",
        "    plt.plot(j,label =\"LR = \"+str(lr_list[i]))\n",
        "    \n",
        "\n",
        "plt.xlabel(\"Epochs\")\n",
        "plt.ylabel(\"Training_loss\")\n",
        "\n",
        "plt.legend(loc='center left', bbox_to_anchor=(1, 0.5))"
      ],
      "execution_count": 59,
      "outputs": [
        {
          "output_type": "execute_result",
          "data": {
            "text/plain": [
              "<matplotlib.legend.Legend at 0x7f4fe3b27250>"
            ]
          },
          "metadata": {},
          "execution_count": 59
        },
        {
          "output_type": "display_data",
          "data": {
            "image/png": "[encoded data removed]",
            "text/plain": [
              "<Figure size 432x288 with 1 Axes>"
            ]
          },
          "metadata": {
            "needs_background": "light"
          }
        }
      ]
    },
    {
      "cell_type": "code",
      "metadata": {
        "id": "1UbTkfLUINTI"
      },
      "source": [
        ""
      ],
      "execution_count": 59,
      "outputs": []
    }
  ]
}