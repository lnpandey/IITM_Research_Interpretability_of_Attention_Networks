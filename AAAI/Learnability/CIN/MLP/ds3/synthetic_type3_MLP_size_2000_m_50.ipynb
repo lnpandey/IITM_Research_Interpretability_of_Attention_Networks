{
  "nbformat": 4,
  "nbformat_minor": 0,
  "metadata": {
    "accelerator": "GPU",
    "colab": {
      "name": "synthetic_type3_MLP_m_5.ipynb",
      "provenance": [],
      "collapsed_sections": []
    },
    "kernelspec": {
      "display_name": "Python 3",
      "language": "python",
      "name": "python3"
    },
    "language_info": {
      "codemirror_mode": {
        "name": "ipython",
        "version": 3
      },
      "file_extension": ".py",
      "mimetype": "text/x-python",
      "name": "python",
      "nbconvert_exporter": "python",
      "pygments_lexer": "ipython3",
      "version": "3.6.5"
    }
  },
  "cells": [
    {
      "cell_type": "code",
      "metadata": {
        "colab": {
          "base_uri": "https://localhost:8080/"
        },
        "id": "N2_J4Rw2r0SQ",
        "outputId": "7aac7837-e5b4-4f50-b8da-6a9c6f91e86c"
      },
      "source": [
        "import numpy as np\n",
        "import pandas as pd\n",
        "from matplotlib import pyplot as plt\n",
        "from tqdm import tqdm\n",
        "%matplotlib inline\n",
        "from torch.utils.data import Dataset, DataLoader\n",
        "import torch\n",
        "import torchvision\n",
        "\n",
        "import torch.nn as nn\n",
        "import torch.optim as optim\n",
        "from torch.nn import functional as F\n",
        "device = torch.device(\"cuda\" if torch.cuda.is_available() else \"cpu\")\n",
        "print(device)"
      ],
      "execution_count": 576,
      "outputs": [
        {
          "output_type": "stream",
          "name": "stdout",
          "text": [
            "cuda\n"
          ]
        }
      ]
    },
    {
      "cell_type": "code",
      "metadata": {
        "id": "ZTJPyL45DiJ3"
      },
      "source": [
        "m = 50          # 5, 50, 100, 500, 2000"
      ],
      "execution_count": 577,
      "outputs": []
    },
    {
      "cell_type": "code",
      "metadata": {
        "id": "g-do5dZWK5L6"
      },
      "source": [
        "train_size = 2000          # 100, 500, 2000, 10000"
      ],
      "execution_count": 578,
      "outputs": []
    },
    {
      "cell_type": "markdown",
      "metadata": {
        "id": "F6fjud_Fr0Sa"
      },
      "source": [
        "# Generate dataset"
      ]
    },
    {
      "cell_type": "code",
      "metadata": {
        "colab": {
          "base_uri": "https://localhost:8080/"
        },
        "id": "CqdXHO0Cr0Sd",
        "outputId": "a5a8f0d5-0557-4744-cbcd-28608b3613c0"
      },
      "source": [
        "np.random.seed(12)\n",
        "y = np.random.randint(0,10,5000)\n",
        "idx= []\n",
        "for i in range(10):\n",
        "    print(i,sum(y==i))\n",
        "    idx.append(y==i)"
      ],
      "execution_count": 579,
      "outputs": [
        {
          "output_type": "stream",
          "name": "stdout",
          "text": [
            "0 530\n",
            "1 463\n",
            "2 494\n",
            "3 517\n",
            "4 488\n",
            "5 497\n",
            "6 493\n",
            "7 507\n",
            "8 492\n",
            "9 519\n"
          ]
        }
      ]
    },
    {
      "cell_type": "code",
      "metadata": {
        "id": "ddhXyODwr0Sk"
      },
      "source": [
        "x = np.zeros((5000,2))"
      ],
      "execution_count": 580,
      "outputs": []
    },
    {
      "cell_type": "code",
      "metadata": {
        "id": "DyV3N2DIr0Sp"
      },
      "source": [
        "np.random.seed(12)\n",
        "x[idx[0],:] = np.random.multivariate_normal(mean = [7,4],cov=[[0.1,0],[0,0.1]],size=sum(idx[0]))\n",
        "x[idx[1],:] = np.random.multivariate_normal(mean = [8,6.5],cov=[[0.1,0],[0,0.1]],size=sum(idx[1]))\n",
        "x[idx[2],:] = np.random.multivariate_normal(mean = [5.5,6.5],cov=[[0.1,0],[0,0.1]],size=sum(idx[2]))\n",
        "x[idx[3],:] = np.random.multivariate_normal(mean = [-1,0],cov=[[0.1,0],[0,0.1]],size=sum(idx[3]))\n",
        "x[idx[4],:] = np.random.multivariate_normal(mean = [0,2],cov=[[0.1,0],[0,0.1]],size=sum(idx[4]))\n",
        "x[idx[5],:] = np.random.multivariate_normal(mean = [1,0],cov=[[0.1,0],[0,0.1]],size=sum(idx[5]))\n",
        "x[idx[6],:] = np.random.multivariate_normal(mean = [0,-1],cov=[[0.1,0],[0,0.1]],size=sum(idx[6]))\n",
        "x[idx[7],:] = np.random.multivariate_normal(mean = [0,0],cov=[[0.1,0],[0,0.1]],size=sum(idx[7]))\n",
        "x[idx[8],:] = np.random.multivariate_normal(mean = [-0.5,-0.5],cov=[[0.1,0],[0,0.1]],size=sum(idx[8]))\n",
        "x[idx[9],:] = np.random.multivariate_normal(mean = [0.4,0.2],cov=[[0.1,0],[0,0.1]],size=sum(idx[9]))"
      ],
      "execution_count": 581,
      "outputs": []
    },
    {
      "cell_type": "code",
      "metadata": {
        "colab": {
          "base_uri": "https://localhost:8080/"
        },
        "id": "qh1mDScsU07I",
        "outputId": "a9aadd25-c177-4544-dc05-b3e7b540068a"
      },
      "source": [
        "x[idx[0]][0], x[idx[5]][5] "
      ],
      "execution_count": 582,
      "outputs": [
        {
          "output_type": "execute_result",
          "data": {
            "text/plain": [
              "(array([7.14957125, 3.78451422]), array([0.87756167, 0.00457805]))"
            ]
          },
          "metadata": {},
          "execution_count": 582
        }
      ]
    },
    {
      "cell_type": "code",
      "metadata": {
        "colab": {
          "base_uri": "https://localhost:8080/",
          "height": 287
        },
        "id": "hJ8Jm7YUr0St",
        "outputId": "606d88ce-be04-4229-a5d2-3f9dc507930f"
      },
      "source": [
        "for i in range(10):\n",
        "    plt.scatter(x[idx[i],0],x[idx[i],1],label=\"class_\"+str(i))\n",
        "plt.legend(loc='center left', bbox_to_anchor=(1, 0.5))"
      ],
      "execution_count": 583,
      "outputs": [
        {
          "output_type": "execute_result",
          "data": {
            "text/plain": [
              "<matplotlib.legend.Legend at 0x7fab05083910>"
            ]
          },
          "metadata": {},
          "execution_count": 583
        },
        {
          "output_type": "display_data",
          "data": {
            "image/png": "[encoded data removed]",
            "text/plain": [
              "<Figure size 432x288 with 1 Axes>"
            ]
          },
          "metadata": {
            "needs_background": "light"
          }
        }
      ]
    },
    {
      "cell_type": "code",
      "metadata": {
        "colab": {
          "base_uri": "https://localhost:8080/"
        },
        "id": "3lMBZEHNBlF2",
        "outputId": "a8533419-91d6-4ae3-ad7b-9f72ca1d0399"
      },
      "source": [
        "bg_idx = [ np.where(idx[3] == True)[0], \n",
        "          np.where(idx[4] == True)[0], \n",
        "          np.where(idx[5] == True)[0],\n",
        "          np.where(idx[6] == True)[0], \n",
        "          np.where(idx[7] == True)[0], \n",
        "          np.where(idx[8] == True)[0],\n",
        "          np.where(idx[9] == True)[0]]\n",
        "\n",
        "bg_idx = np.concatenate(bg_idx, axis = 0)\n",
        "bg_idx.shape"
      ],
      "execution_count": 584,
      "outputs": [
        {
          "output_type": "execute_result",
          "data": {
            "text/plain": [
              "(3513,)"
            ]
          },
          "metadata": {},
          "execution_count": 584
        }
      ]
    },
    {
      "cell_type": "code",
      "metadata": {
        "colab": {
          "base_uri": "https://localhost:8080/"
        },
        "id": "blRbGZHeCwXU",
        "outputId": "f70f7493-a16a-4ff9-dcc2-34348a58cc6b"
      },
      "source": [
        "np.unique(bg_idx).shape"
      ],
      "execution_count": 585,
      "outputs": [
        {
          "output_type": "execute_result",
          "data": {
            "text/plain": [
              "(3513,)"
            ]
          },
          "metadata": {},
          "execution_count": 585
        }
      ]
    },
    {
      "cell_type": "code",
      "metadata": {
        "id": "Y43sWeX7C15F"
      },
      "source": [
        "x = x - np.mean(x[bg_idx], axis = 0, keepdims = True)\n"
      ],
      "execution_count": 586,
      "outputs": []
    },
    {
      "cell_type": "code",
      "metadata": {
        "colab": {
          "base_uri": "https://localhost:8080/"
        },
        "id": "ooII7N6UDWe0",
        "outputId": "da338851-102e-4757-b887-b1af602f302f"
      },
      "source": [
        "np.mean(x[bg_idx], axis = 0, keepdims = True), np.mean(x, axis = 0, keepdims = True)"
      ],
      "execution_count": 587,
      "outputs": [
        {
          "output_type": "execute_result",
          "data": {
            "text/plain": [
              "(array([[-1.04275003e-16,  6.74571889e-17]]),\n",
              " array([[2.02981967, 1.63582644]]))"
            ]
          },
          "metadata": {},
          "execution_count": 587
        }
      ]
    },
    {
      "cell_type": "code",
      "metadata": {
        "id": "g21bvPRYDL9k"
      },
      "source": [
        "x = x/np.std(x[bg_idx], axis = 0, keepdims = True)"
      ],
      "execution_count": 588,
      "outputs": []
    },
    {
      "cell_type": "code",
      "metadata": {
        "colab": {
          "base_uri": "https://localhost:8080/"
        },
        "id": "GtFvIeHsDZJk",
        "outputId": "d1d692b0-da69-4629-c1c4-e68d9d78ea91"
      },
      "source": [
        "np.std(x[bg_idx], axis = 0, keepdims = True), np.std(x, axis = 0, keepdims = True)"
      ],
      "execution_count": 589,
      "outputs": [
        {
          "output_type": "execute_result",
          "data": {
            "text/plain": [
              "(array([[1., 1.]]), array([[4.89756643, 3.00501566]]))"
            ]
          },
          "metadata": {},
          "execution_count": 589
        }
      ]
    },
    {
      "cell_type": "code",
      "metadata": {
        "colab": {
          "base_uri": "https://localhost:8080/",
          "height": 283
        },
        "id": "8-VLhUfDDeHt",
        "outputId": "04dcce19-9406-418e-88d6-9b6d9a6c8422"
      },
      "source": [
        "for i in range(10):\n",
        "    plt.scatter(x[idx[i],0],x[idx[i],1],label=\"class_\"+str(i))\n",
        "plt.legend(loc='center left', bbox_to_anchor=(1, 0.5))"
      ],
      "execution_count": 590,
      "outputs": [
        {
          "output_type": "execute_result",
          "data": {
            "text/plain": [
              "<matplotlib.legend.Legend at 0x7fab04ffe610>"
            ]
          },
          "metadata": {},
          "execution_count": 590
        },
        {
          "output_type": "display_data",
          "data": {
            "image/png": "[encoded data removed]",
            "text/plain": [
              "<Figure size 432x288 with 1 Axes>"
            ]
          },
          "metadata": {
            "needs_background": "light"
          }
        }
      ]
    },
    {
      "cell_type": "code",
      "metadata": {
        "id": "UfFHcZJOr0Sz"
      },
      "source": [
        "foreground_classes = {'class_0','class_1', 'class_2'}\n",
        "\n",
        "background_classes = {'class_3','class_4', 'class_5', 'class_6','class_7', 'class_8', 'class_9'}"
      ],
      "execution_count": 591,
      "outputs": []
    },
    {
      "cell_type": "code",
      "metadata": {
        "colab": {
          "base_uri": "https://localhost:8080/"
        },
        "id": "OplNpNQVr0S2",
        "outputId": "a1b4ac62-46d1-4dac-cf4a-df9259ab9233"
      },
      "source": [
        "fg_class  = np.random.randint(0,3)\n",
        "fg_idx = np.random.randint(0,m)\n",
        "train_data=[]\n",
        "a = []\n",
        "fg_instance = np.array([[0.0,0.0]])\n",
        "bg_instance = np.array([[0.0,0.0]])\n",
        "\n",
        "for i in range(m):\n",
        "  if i == fg_idx:\n",
        "    b = np.random.choice(np.where(idx[fg_class]==True)[0],size=1)\n",
        "    fg_instance += x[b]\n",
        "    a.append(x[b])\n",
        "    print(\"foreground \"+str(fg_class)+\" present at \" + str(fg_idx))\n",
        "  else:\n",
        "    bg_class = np.random.randint(3,10)\n",
        "    b = np.random.choice(np.where(idx[bg_class]==True)[0],size=1)\n",
        "    bg_instance += x[b]\n",
        "    a.append(x[b])\n",
        "    print(\"background \"+str(bg_class)+\" present at \" + str(i))\n",
        "\n",
        "a = np.concatenate(a,axis=0)\n",
        "print(a.shape)\n",
        "\n",
        "print(fg_class , fg_idx)"
      ],
      "execution_count": 592,
      "outputs": [
        {
          "output_type": "stream",
          "name": "stdout",
          "text": [
            "background 3 present at 0\n",
            "background 8 present at 1\n",
            "background 5 present at 2\n",
            "background 3 present at 3\n",
            "background 5 present at 4\n",
            "background 7 present at 5\n",
            "background 6 present at 6\n",
            "background 5 present at 7\n",
            "background 3 present at 8\n",
            "background 5 present at 9\n",
            "background 4 present at 10\n",
            "background 7 present at 11\n",
            "background 4 present at 12\n",
            "background 3 present at 13\n",
            "background 9 present at 14\n",
            "background 6 present at 15\n",
            "background 6 present at 16\n",
            "background 3 present at 17\n",
            "foreground 2 present at 18\n",
            "background 8 present at 19\n",
            "background 5 present at 20\n",
            "background 6 present at 21\n",
            "background 4 present at 22\n",
            "background 9 present at 23\n",
            "background 8 present at 24\n",
            "background 3 present at 25\n",
            "background 7 present at 26\n",
            "background 6 present at 27\n",
            "background 8 present at 28\n",
            "background 3 present at 29\n",
            "background 7 present at 30\n",
            "background 8 present at 31\n",
            "background 7 present at 32\n",
            "background 7 present at 33\n",
            "background 5 present at 34\n",
            "background 9 present at 35\n",
            "background 6 present at 36\n",
            "background 4 present at 37\n",
            "background 7 present at 38\n",
            "background 6 present at 39\n",
            "background 3 present at 40\n",
            "background 4 present at 41\n",
            "background 3 present at 42\n",
            "background 4 present at 43\n",
            "background 7 present at 44\n",
            "background 6 present at 45\n",
            "background 5 present at 46\n",
            "background 8 present at 47\n",
            "background 8 present at 48\n",
            "background 7 present at 49\n",
            "(50, 2)\n",
            "2 18\n"
          ]
        }
      ]
    },
    {
      "cell_type": "code",
      "metadata": {
        "colab": {
          "base_uri": "https://localhost:8080/"
        },
        "id": "Rx6cMmR3baVf",
        "outputId": "ef590b90-855c-4983-9450-025f40bf47db"
      },
      "source": [
        "a"
      ],
      "execution_count": 593,
      "outputs": [
        {
          "output_type": "execute_result",
          "data": {
            "text/plain": [
              "array([[-1.62273068e+00, -9.44577073e-01],\n",
              "       [-8.22962717e-01, -7.32521912e-01],\n",
              "       [ 2.09728368e+00, -2.44651323e-01],\n",
              "       [-9.86087689e-01, -7.51232458e-01],\n",
              "       [ 1.37297554e+00, -3.76733075e-01],\n",
              "       [-8.84692079e-01, -1.11551995e-01],\n",
              "       [ 3.23086410e-01, -1.23774128e+00],\n",
              "       [ 1.37297554e+00, -3.76733075e-01],\n",
              "       [-1.37994224e+00, -1.86927689e-02],\n",
              "       [ 1.18729176e+00, -1.43385686e-01],\n",
              "       [ 1.08414750e+00,  2.21424613e+00],\n",
              "       [ 3.07773579e-01,  5.11134472e-01],\n",
              "       [-5.80062748e-01,  2.56861924e+00],\n",
              "       [-1.57480355e+00,  1.37864198e-01],\n",
              "       [ 8.78834768e-01, -3.18178197e-01],\n",
              "       [ 5.58625839e-02, -1.37825691e+00],\n",
              "       [ 3.52658712e-01, -1.71500720e+00],\n",
              "       [-7.59374170e-01, -4.37189615e-03],\n",
              "       [ 8.64012267e+00,  7.37468589e+00],\n",
              "       [-9.53821465e-01, -7.70258879e-01],\n",
              "       [ 2.09867980e+00, -3.81343563e-01],\n",
              "       [-5.28144052e-02, -1.09369602e+00],\n",
              "       [ 5.77182460e-01,  2.12761839e+00],\n",
              "       [ 4.81571501e-01, -1.77495772e-01],\n",
              "       [-9.01757410e-01, -6.53914167e-01],\n",
              "       [-1.05809662e+00, -2.96003187e-01],\n",
              "       [-9.64224116e-02, -1.02062394e-01],\n",
              "       [-3.51025475e-01, -1.43245892e+00],\n",
              "       [-7.86494960e-01, -6.96928923e-01],\n",
              "       [-1.78563283e+00, -2.97788754e-01],\n",
              "       [-2.91612592e-02, -8.20240457e-01],\n",
              "       [-1.36322898e+00, -1.17531631e+00],\n",
              "       [-7.28928821e-01, -2.00888740e-01],\n",
              "       [ 1.32681142e+00, -2.74341506e-01],\n",
              "       [ 2.21086140e+00, -4.46459278e-01],\n",
              "       [ 1.07505767e+00,  7.08825917e-02],\n",
              "       [-3.58854571e-02, -1.00480957e+00],\n",
              "       [-3.17975403e-01,  2.26776033e+00],\n",
              "       [ 4.32767080e-01,  1.64016979e-01],\n",
              "       [ 3.05304464e-01, -1.41095178e+00],\n",
              "       [-1.57167801e+00, -2.15455107e-01],\n",
              "       [ 1.65618250e-01,  2.34096180e+00],\n",
              "       [-1.76753678e+00, -3.71998306e-01],\n",
              "       [ 7.40531478e-01,  2.93223156e+00],\n",
              "       [ 2.24896506e-01, -1.96101846e-01],\n",
              "       [ 4.18092096e-01, -9.94536492e-01],\n",
              "       [ 1.37861110e+00, -5.40275314e-01],\n",
              "       [-1.30672456e+00, -8.16503116e-01],\n",
              "       [-4.44657777e-01, -8.22773150e-01],\n",
              "       [-5.49469370e-02,  2.75241692e-01]])"
            ]
          },
          "metadata": {},
          "execution_count": 593
        }
      ]
    },
    {
      "cell_type": "code",
      "metadata": {
        "colab": {
          "base_uri": "https://localhost:8080/"
        },
        "id": "dEdaFZPQhc7D",
        "outputId": "1adc0de3-460a-4ec6-e137-adb0d32af4da"
      },
      "source": [
        "fg_instance"
      ],
      "execution_count": 594,
      "outputs": [
        {
          "output_type": "execute_result",
          "data": {
            "text/plain": [
              "array([[8.64012267, 7.37468589]])"
            ]
          },
          "metadata": {},
          "execution_count": 594
        }
      ]
    },
    {
      "cell_type": "code",
      "metadata": {
        "colab": {
          "base_uri": "https://localhost:8080/"
        },
        "id": "IqdAVbG1hftM",
        "outputId": "d40136f1-783a-47d7-af1d-3d08115634d5"
      },
      "source": [
        "bg_instance"
      ],
      "execution_count": 595,
      "outputs": [
        {
          "output_type": "execute_result",
          "data": {
            "text/plain": [
              "array([[-1.74857013, -7.93565902]])"
            ]
          },
          "metadata": {},
          "execution_count": 595
        }
      ]
    },
    {
      "cell_type": "code",
      "metadata": {
        "colab": {
          "base_uri": "https://localhost:8080/"
        },
        "id": "Ho98SSXEhx6L",
        "outputId": "5dc4001e-6ac4-4731-8d36-102af2170056"
      },
      "source": [
        "(fg_instance+bg_instance)/m , m"
      ],
      "execution_count": 596,
      "outputs": [
        {
          "output_type": "execute_result",
          "data": {
            "text/plain": [
              "(array([[ 0.13783105, -0.01121946]]), 50)"
            ]
          },
          "metadata": {},
          "execution_count": 596
        }
      ]
    },
    {
      "cell_type": "code",
      "metadata": {
        "id": "jqbvfbwVr0TN"
      },
      "source": [
        "# mosaic_list_of_images =[]\n",
        "# mosaic_label = []\n",
        "train_label=[]\n",
        "fore_idx=[]\n",
        "train_data = []\n",
        "for j in range(train_size):\n",
        "  np.random.seed(j)\n",
        "  fg_instance = torch.zeros([2], dtype=torch.float64) #np.array([[0.0,0.0]])\n",
        "  bg_instance = torch.zeros([2], dtype=torch.float64) #np.array([[0.0,0.0]])\n",
        "  # a=[]\n",
        "\n",
        "  for i in range(m):\n",
        "    if i == fg_idx:\n",
        "      fg_class  = np.random.randint(0,3)\n",
        "      b = np.random.choice(np.where(idx[fg_class]==True)[0],size=1)\n",
        "      fg_instance += x[b]\n",
        "      # a.append(x[b])\n",
        "      # print(\"foreground \"+str(fg_class)+\" present at \" + str(fg_idx))\n",
        "    else:\n",
        "      bg_class = np.random.randint(3,10)\n",
        "      b = np.random.choice(np.where(idx[bg_class]==True)[0],size=1)\n",
        "      bg_instance += x[b]\n",
        "      # a.append(x[b])\n",
        "      # print(\"background \"+str(bg_class)+\" present at \" + str(i))\n",
        "  train_data.append((fg_instance+bg_instance)/m)\n",
        "  # a = np.concatenate(a,axis=0)\n",
        "  # mosaic_list_of_images.append(np.reshape(a,(2*m,1)))\n",
        "  train_label.append(fg_class)\n",
        "  fore_idx.append(fg_idx)"
      ],
      "execution_count": 597,
      "outputs": []
    },
    {
      "cell_type": "code",
      "metadata": {
        "colab": {
          "base_uri": "https://localhost:8080/"
        },
        "id": "X_g6lxkVjN0N",
        "outputId": "1324c293-1011-4b65-f699-3a15274c5b27"
      },
      "source": [
        " train_data[0], train_label[0]"
      ],
      "execution_count": 598,
      "outputs": [
        {
          "output_type": "execute_result",
          "data": {
            "text/plain": [
              "(tensor([[0.1418, 0.0205]], dtype=torch.float64), 1)"
            ]
          },
          "metadata": {},
          "execution_count": 598
        }
      ]
    },
    {
      "cell_type": "code",
      "metadata": {
        "colab": {
          "base_uri": "https://localhost:8080/"
        },
        "id": "Tz5wQCevobYr",
        "outputId": "32ec9497-70f8-49d4-c9a1-11ec0026af65"
      },
      "source": [
        "train_data = torch.stack(train_data, axis=0)\n",
        "train_data.shape, len(train_label)"
      ],
      "execution_count": 599,
      "outputs": [
        {
          "output_type": "execute_result",
          "data": {
            "text/plain": [
              "(torch.Size([2000, 1, 2]), 2000)"
            ]
          },
          "metadata": {},
          "execution_count": 599
        }
      ]
    },
    {
      "cell_type": "code",
      "metadata": {
        "id": "CVAlImGYA49A"
      },
      "source": [
        "test_label=[]\n",
        "# fore_idx=[]\n",
        "test_data = []\n",
        "for j in range(1000):\n",
        "  np.random.seed(j)\n",
        "  fg_instance = torch.zeros([2], dtype=torch.float64) #np.array([[0.0,0.0]])\n",
        "\n",
        "  fg_class  = np.random.randint(0,3)\n",
        "  b = np.random.choice(np.where(idx[fg_class]==True)[0],size=1)\n",
        "  fg_instance += x[b]\n",
        "  # a.append(x[b])\n",
        "  # print(\"foreground \"+str(fg_class)+\" present at \" + str(fg_idx))\n",
        "\n",
        "  test_data.append((fg_instance)/m)\n",
        "  # a = np.concatenate(a,axis=0)\n",
        "  # mosaic_list_of_images.append(np.reshape(a,(2*m,1)))\n",
        "  test_label.append(fg_class)\n",
        "  # fore_idx.append(fg_idx)"
      ],
      "execution_count": 600,
      "outputs": []
    },
    {
      "cell_type": "code",
      "metadata": {
        "colab": {
          "base_uri": "https://localhost:8080/"
        },
        "id": "XltBz3__BT_C",
        "outputId": "c1abe039-a2a8-4971-9929-9c0acd9bfe5b"
      },
      "source": [
        "test_data[0], test_label[0]"
      ],
      "execution_count": 601,
      "outputs": [
        {
          "output_type": "execute_result",
          "data": {
            "text/plain": [
              "(tensor([[0.2228, 0.0783]], dtype=torch.float64), 0)"
            ]
          },
          "metadata": {},
          "execution_count": 601
        }
      ]
    },
    {
      "cell_type": "code",
      "metadata": {
        "colab": {
          "base_uri": "https://localhost:8080/"
        },
        "id": "JqQfjkCnBX8E",
        "outputId": "8a520727-ca8a-4e40-c302-d8486b8dd60b"
      },
      "source": [
        "test_data = torch.stack(test_data, axis=0)\n",
        "test_data.shape, len(test_label)"
      ],
      "execution_count": 602,
      "outputs": [
        {
          "output_type": "execute_result",
          "data": {
            "text/plain": [
              "(torch.Size([1000, 1, 2]), 1000)"
            ]
          },
          "metadata": {},
          "execution_count": 602
        }
      ]
    },
    {
      "cell_type": "code",
      "metadata": {
        "id": "nQhRf1ICBvW6"
      },
      "source": [
        "x1 = (train_data).numpy()\n",
        "y1 = np.array(train_label)"
      ],
      "execution_count": 603,
      "outputs": []
    },
    {
      "cell_type": "code",
      "metadata": {
        "colab": {
          "base_uri": "https://localhost:8080/"
        },
        "id": "vDAz96DSCXn5",
        "outputId": "2edfd2ff-d275-4758-edd2-6f8aaa527ff9"
      },
      "source": [
        "x1[y1==0,0]"
      ],
      "execution_count": 604,
      "outputs": [
        {
          "output_type": "execute_result",
          "data": {
            "text/plain": [
              "array([[ 0.14802493,  0.12159511],\n",
              "       [ 0.22062182,  0.17157012],\n",
              "       [ 0.32615974, -0.19070888],\n",
              "       ...,\n",
              "       [ 0.15604154,  0.10368405],\n",
              "       [ 0.06680917, -0.1779219 ],\n",
              "       [ 0.13377275,  0.20513625]])"
            ]
          },
          "metadata": {},
          "execution_count": 604
        }
      ]
    },
    {
      "cell_type": "code",
      "metadata": {
        "colab": {
          "base_uri": "https://localhost:8080/"
        },
        "id": "kMwwZhv7Bv1U",
        "outputId": "a6d7a719-3f40-407a-85e5-fdcd581c90df"
      },
      "source": [
        "x1[y1==0,0][:,0]"
      ],
      "execution_count": 605,
      "outputs": [
        {
          "output_type": "execute_result",
          "data": {
            "text/plain": [
              "array([ 0.14802493,  0.22062182,  0.32615974,  0.14885966,  0.26144447,\n",
              "        0.15414395,  0.08951863,  0.16342432,  0.24186954,  0.321191  ,\n",
              "        0.47454428,  0.34437747,  0.12597701,  0.31273059,  0.07947895,\n",
              "        0.22548846,  0.14002299,  0.19000603,  0.0629717 ,  0.15986864,\n",
              "        0.15957045,  0.30925592,  0.40003877,  0.30708946,  0.12339418,\n",
              "        0.46107582,  0.08929819,  0.11702954,  0.42103238,  0.25771876,\n",
              "        0.2951142 ,  0.31501513,  0.04985183,  0.08053236,  0.28860669,\n",
              "        0.22701486,  0.40203713,  0.29663311,  0.38449039,  0.17167951,\n",
              "        0.08410993,  0.17528099,  0.0137615 ,  0.18963397,  0.30606691,\n",
              "        0.15932264,  0.19474939,  0.23343142, -0.00126629,  0.33420622,\n",
              "        0.50069665,  0.34952981,  0.07493225,  0.36382143,  0.07016631,\n",
              "        0.18611562,  0.26113174,  0.05780559,  0.36045435,  0.29215784,\n",
              "        0.21972916,  0.10939119,  0.38100389,  0.10577383,  0.13163977,\n",
              "        0.31877651,  0.21361892,  0.14204714,  0.09964129,  0.36102614,\n",
              "        0.26426091,  0.1272967 ,  0.28276536,  0.29032   ,  0.15699062,\n",
              "        0.46013394,  0.24354688,  0.20355718,  0.2633548 ,  0.20876584,\n",
              "        0.34242084,  0.43181944,  0.28474017, -0.09090751,  0.19915348,\n",
              "        0.47565111,  0.1965943 ,  0.01850465,  0.17154073,  0.37448497,\n",
              "        0.04654388,  0.45445694,  0.05725433,  0.17816511,  0.12792013,\n",
              "        0.39269117,  0.22890675,  0.30642853,  0.23988318,  0.18800815,\n",
              "        0.3720924 , -0.01895534,  0.09485709,  0.10020255,  0.08987142,\n",
              "        0.0176169 ,  0.10452077, -0.03197616,  0.18324903,  0.36692026,\n",
              "       -0.02486082,  0.26486102,  0.39708554,  0.46916558,  0.50176198,\n",
              "        0.22237308,  0.14498888,  0.35749706,  0.25769159,  0.46461068,\n",
              "        0.27418656,  0.23832106,  0.2565153 ,  0.44674728,  0.26998836,\n",
              "        0.23105223,  0.26545462,  0.33030953,  0.30449675,  0.29291906,\n",
              "        0.2298398 ,  0.19225709,  0.50558547,  0.22849763, -0.04749946,\n",
              "        0.28692591,  0.08318703,  0.2351915 ,  0.12870003,  0.19501207,\n",
              "        0.20287246,  0.01518538,  0.49327744,  0.08131845,  0.16823022,\n",
              "        0.44246409,  0.19686476,  0.24517134,  0.30729751, -0.07398695,\n",
              "        0.2458148 ,  0.20770763,  0.22344582,  0.1802497 ,  0.12996943,\n",
              "        0.24499802,  0.08855407,  0.1067672 ,  0.42846265, -0.07256519,\n",
              "        0.39409134,  0.48681611,  0.20811149,  0.18365777,  0.12143357,\n",
              "        0.40507914,  0.33478652,  0.13015078,  0.23028925,  0.19564468,\n",
              "        0.24668675,  0.47116633,  0.35720196,  0.00409478,  0.09799497,\n",
              "        0.36505093,  0.03359742,  0.39477181,  0.1571362 ,  0.02475872,\n",
              "        0.26774555,  0.26479373,  0.33966317,  0.06769677,  0.20012208,\n",
              "        0.49070059,  0.35770525,  0.26406625,  0.00557096,  0.30871505,\n",
              "        0.18671063,  0.01247628,  0.32340933,  0.27566357,  0.16875649,\n",
              "        0.41683093,  0.15882769,  0.22596521,  0.12509223,  0.30026882,\n",
              "        0.4253796 ,  0.20475664,  0.1961444 ,  0.27704031, -0.00836053,\n",
              "        0.23917355,  0.23583405,  0.36350116,  0.11223178,  0.0328472 ,\n",
              "        0.01836246,  0.11084412,  0.12487227,  0.09610541,  0.09280258,\n",
              "        0.07054146,  0.47773485,  0.10375742,  0.1592984 ,  0.23380212,\n",
              "        0.18308099,  0.356893  ,  0.41509646,  0.11141567,  0.18622671,\n",
              "        0.07055211,  0.41523975,  0.29219683,  0.43811881,  0.06088567,\n",
              "        0.25238418,  0.35793299,  0.19302815,  0.24760845,  0.46662508,\n",
              "        0.24481464,  0.28293408,  0.26466047,  0.2807401 ,  0.12480215,\n",
              "        0.00082479,  0.29184219,  0.19508548,  0.03317035,  0.14215055,\n",
              "        0.35875071,  0.19513199,  0.37532203,  0.28550421, -0.16232364,\n",
              "        0.13607086,  0.07190148,  0.33880422,  0.39633465,  0.32215585,\n",
              "        0.28317593,  0.38780317,  0.12896318,  0.24475528,  0.07619408,\n",
              "        0.12873203,  0.17836543,  0.06144046,  0.35944225,  0.2892151 ,\n",
              "        0.26873262,  0.11097511,  0.35684409,  0.11352715,  0.1909009 ,\n",
              "        0.11190811,  0.56738416,  0.30959969,  0.10658909,  0.24169905,\n",
              "        0.19234894,  0.19281933, -0.07265152,  0.42850348,  0.22333863,\n",
              "        0.33068753,  0.12837317,  0.25073934,  0.37057755,  0.26277847,\n",
              "        0.20775501,  0.32065419,  0.2637602 ,  0.25472136,  0.29811937,\n",
              "        0.32101948,  0.15017406,  0.32090113,  0.31171958, -0.0615575 ,\n",
              "        0.27039766,  0.0204859 ,  0.50561378,  0.28399124,  0.36242509,\n",
              "        0.36595573,  0.00203103,  0.44218972,  0.41654419,  0.41354114,\n",
              "        0.02417173, -0.0832679 , -0.04543611,  0.34644567,  0.16569275,\n",
              "        0.34538676,  0.30400856,  0.25816976,  0.29704089,  0.12760525,\n",
              "        0.2669239 ,  0.24182619,  0.3461192 ,  0.17333578,  0.14936591,\n",
              "        0.13210619,  0.30357066,  0.26566679,  0.10090452,  0.23886656,\n",
              "        0.26410501,  0.26349093,  0.17338438,  0.09550255,  0.19768469,\n",
              "        0.45989338,  0.11911988,  0.37032442,  0.25002495,  0.21189662,\n",
              "        0.46416492,  0.11113   , -0.0679774 ,  0.16467868,  0.35060937,\n",
              "        0.47991216,  0.25344535,  0.2062108 ,  0.19780606,  0.15417521,\n",
              "        0.53622024,  0.2233287 ,  0.21001849,  0.27097241,  0.15666633,\n",
              "        0.03653796,  0.31088483, -0.12849388,  0.41484221,  0.33352916,\n",
              "        0.18930089, -0.0457438 ,  0.37584266,  0.22749137,  0.41076503,\n",
              "        0.48860381,  0.38274739,  0.24828187,  0.08947241,  0.36314445,\n",
              "        0.32474175,  0.49022428,  0.08375002,  0.05733082,  0.48082765,\n",
              "        0.6087793 ,  0.2320635 ,  0.21917555,  0.26087855,  0.0726784 ,\n",
              "        0.29786491,  0.08396655,  0.31595558,  0.06579679,  0.37135452,\n",
              "        0.30273132,  0.2194847 ,  0.09239548,  0.4268854 ,  0.48724982,\n",
              "        0.14995953,  0.40964978,  0.18099375,  0.0854181 ,  0.28984866,\n",
              "        0.420831  ,  0.17917616,  0.26685128,  0.11846092,  0.0641179 ,\n",
              "        0.1968282 ,  0.32233728,  0.23193072,  0.15155794,  0.32008312,\n",
              "        0.274187  ,  0.08487746,  0.31031469,  0.30030475,  0.07183864,\n",
              "        0.22995834,  0.24809708,  0.13748864,  0.54289994,  0.42849546,\n",
              "       -0.05439852,  0.19448005, -0.03739632,  0.132311  , -0.14251899,\n",
              "        0.24013694,  0.19514049, -0.15261538,  0.27712729, -0.00625239,\n",
              "        0.30634823,  0.38311465,  0.33348878,  0.15906776,  0.28087114,\n",
              "        0.31241925,  0.22726005,  0.37552983,  0.32677405,  0.07553134,\n",
              "        0.19057213,  0.01535651,  0.3697625 ,  0.08081538,  0.27975491,\n",
              "        0.21577367,  0.06220633,  0.15340852,  0.3608017 ,  0.05946477,\n",
              "       -0.00829453,  0.07063461,  0.05174539,  0.20539124,  0.34313545,\n",
              "        0.19783604,  0.21982563, -0.03122757,  0.00518038,  0.15579014,\n",
              "        0.1966383 ,  0.2174992 ,  0.41813804,  0.12631462,  0.33279129,\n",
              "        0.24408943,  0.4387991 ,  0.17406019,  0.49396856,  0.23102028,\n",
              "        0.29428213,  0.30339429,  0.39504431,  0.32706266,  0.18231632,\n",
              "        0.00405241,  0.24190631,  0.33119143,  0.20812676,  0.14048608,\n",
              "        0.13053152,  0.57387705,  0.08125207,  0.27132861,  0.19842236,\n",
              "        0.32427427, -0.01348701,  0.01244908,  0.31379265,  0.19416478,\n",
              "        0.29322915,  0.01328999,  0.38329475,  0.24158273,  0.10592464,\n",
              "        0.29616758,  0.39233138,  0.39302885,  0.21460098,  0.26107698,\n",
              "        0.22000982,  0.15343886,  0.35995928,  0.19891992,  0.17135536,\n",
              "        0.50616089,  0.05746558, -0.01106126,  0.21358056,  0.29678869,\n",
              "        0.09258052,  0.23000647,  0.23166385,  0.07938031,  0.30961645,\n",
              "        0.14503804,  0.27061773, -0.01574075,  0.08065667,  0.29829607,\n",
              "        0.17402384,  0.12323586,  0.11899206,  0.19754837,  0.14662942,\n",
              "        0.22181594,  0.08024162,  0.32940708,  0.01662471,  0.16653763,\n",
              "        0.12451079,  0.18637794,  0.37094578,  0.33879864,  0.13099362,\n",
              "        0.16715289,  0.31498925,  0.39341434,  0.37484576,  0.03674708,\n",
              "        0.15884303,  0.23402222,  0.28162359,  0.27731873,  0.19524952,\n",
              "        0.20408408,  0.3103209 , -0.10495984,  0.29279182,  0.40811321,\n",
              "        0.34490507,  0.15988244,  0.2662062 ,  0.41085504,  0.2030654 ,\n",
              "        0.2005521 ,  0.15212672,  0.19069116,  0.20470792,  0.13411715,\n",
              "        0.17235966,  0.06563423,  0.25904688,  0.2501584 ,  0.06320576,\n",
              "        0.2117778 , -0.00830367,  0.27519291,  0.25861619,  0.11390774,\n",
              "        0.32540228,  0.00995179,  0.18496998,  0.3932018 ,  0.02897862,\n",
              "       -0.01218178,  0.14278926,  0.19905451,  0.1859457 ,  0.39371379,\n",
              "        0.29141646,  0.15265253,  0.13691595,  0.25084841,  0.3082422 ,\n",
              "        0.12721392,  0.40094195,  0.47712279,  0.34728939,  0.34223368,\n",
              "        0.25832414,  0.23821939,  0.17883585,  0.11867125,  0.10871406,\n",
              "        0.38102035,  0.39866975,  0.19467528,  0.42370402,  0.26763476,\n",
              "        0.15177188,  0.23657345,  0.25263298,  0.30811055,  0.23428428,\n",
              "        0.06073084,  0.01608914, -0.00492902, -0.06911426, -0.04666838,\n",
              "        0.22687295,  0.17545589,  0.50475204, -0.03142111,  0.10514195,\n",
              "        0.30753407,  0.07409624,  0.10550462,  0.18852415,  0.30887944,\n",
              "        0.19390392,  0.212151  , -0.04054518,  0.32219551,  0.36470313,\n",
              "        0.28325157,  0.33194064,  0.02474484,  0.21391063,  0.3480474 ,\n",
              "        0.24610178,  0.10570577,  0.12224322,  0.36439927,  0.09574839,\n",
              "        0.24949463,  0.02204707,  0.45830309,  0.26105225,  0.26844109,\n",
              "        0.09545946,  0.17245056,  0.0993864 ,  0.43635697,  0.14889278,\n",
              "        0.29778355,  0.3294672 ,  0.33940991, -0.08311034,  0.05697002,\n",
              "        0.17629105,  0.30564649, -0.01375323,  0.31827981,  0.14353083,\n",
              "        0.39734656,  0.12609777,  0.37454967,  0.25071572,  0.07762006,\n",
              "        0.11593037,  0.13964157,  0.1929682 ,  0.2645426 ,  0.06769543,\n",
              "        0.14114893,  0.1134866 ,  0.15604154,  0.06680917,  0.13377275])"
            ]
          },
          "metadata": {},
          "execution_count": 605
        }
      ]
    },
    {
      "cell_type": "code",
      "metadata": {
        "colab": {
          "base_uri": "https://localhost:8080/"
        },
        "id": "ydbu3OV3CYxB",
        "outputId": "277474e3-08ba-446b-cd82-cb7fd1b104c1"
      },
      "source": [
        "x1[y1==0,0][:,1]"
      ],
      "execution_count": 606,
      "outputs": [
        {
          "output_type": "execute_result",
          "data": {
            "text/plain": [
              "array([ 1.21595109e-01,  1.71570120e-01, -1.90708883e-01, -1.85126462e-02,\n",
              "        2.22970990e-01, -5.44041055e-02, -4.42290903e-02,  1.68166261e-01,\n",
              "        1.14801078e-01,  1.18510964e-01, -1.07872943e-01,  2.94931863e-02,\n",
              "       -6.55564986e-02,  2.77941604e-02,  3.83306845e-01, -1.87636131e-01,\n",
              "       -2.15986209e-01,  1.43175287e-01,  4.00563053e-02,  1.28210944e-01,\n",
              "        6.31297299e-02,  6.77563219e-02, -7.71582930e-02,  1.35754777e-01,\n",
              "        6.39579107e-02, -5.14122681e-02,  2.60987089e-01,  3.71598216e-01,\n",
              "        1.96046202e-01,  1.32105144e-01,  1.45811877e-01,  5.77613985e-02,\n",
              "        1.00944049e-01,  9.09424319e-02,  2.93867685e-01,  1.72618310e-01,\n",
              "        2.70382827e-01,  8.84529731e-02,  3.65226319e-01,  1.93467453e-01,\n",
              "       -2.11500714e-01, -4.56465112e-02,  1.13541053e-01,  6.68369405e-02,\n",
              "        1.08163482e-01,  4.73974909e-02, -1.23778080e-01, -2.44080987e-02,\n",
              "        2.42166941e-01,  1.89131315e-01,  6.09708149e-03,  9.46163117e-02,\n",
              "       -1.01480712e-02,  1.70738843e-01,  9.51571806e-02,  7.99393548e-02,\n",
              "        3.05641424e-01, -1.67596588e-02,  3.29402165e-01,  7.78155202e-02,\n",
              "        1.24359197e-01,  3.22703676e-02,  1.14204822e-01,  1.98864023e-01,\n",
              "        3.65647449e-02,  5.45996599e-01,  1.96178461e-01,  7.28208043e-03,\n",
              "        4.40563965e-01,  1.21492753e-02,  1.38675141e-01,  9.09683887e-02,\n",
              "       -2.18805466e-01,  2.46274478e-01,  2.80543854e-02,  1.31424461e-01,\n",
              "       -9.44990885e-02, -4.04636842e-03, -1.18838171e-01,  7.05084321e-02,\n",
              "       -1.59735378e-01, -1.91258166e-01,  2.21872725e-02, -7.97154802e-02,\n",
              "        1.71275728e-02, -6.71446385e-02,  7.49266386e-02,  1.11876473e-02,\n",
              "        2.51250050e-01,  7.12236420e-02,  2.03718692e-02,  2.07774754e-01,\n",
              "        7.93687127e-02,  3.49389492e-01, -1.42496000e-01,  2.00707170e-01,\n",
              "        2.97414234e-01,  2.04646662e-02,  2.61868666e-01,  2.34930788e-01,\n",
              "       -1.52256278e-02,  1.33499770e-02,  2.41113848e-03,  2.37781114e-01,\n",
              "        8.53330454e-02, -3.48564255e-02,  3.81250638e-01,  6.92233986e-02,\n",
              "       -1.60803795e-02,  1.84516092e-01,  8.21086995e-02,  2.00858649e-01,\n",
              "       -2.10640348e-01,  2.77968002e-02,  1.12732333e-01,  1.33607271e-01,\n",
              "       -2.09998789e-02,  3.22494725e-02,  1.92491903e-01, -1.32694523e-01,\n",
              "        3.08015799e-01, -1.14073123e-01,  2.33186293e-01, -3.75647658e-02,\n",
              "        2.99801215e-01,  6.37147974e-02,  2.00773217e-01,  5.20067609e-02,\n",
              "        8.59534065e-02, -1.35137399e-02,  2.27508713e-01, -1.00230318e-01,\n",
              "        3.70214905e-01,  3.06716145e-01, -1.78474133e-02,  2.69253242e-01,\n",
              "       -2.64855001e-02, -1.68061068e-02,  2.10050196e-01,  7.35607767e-02,\n",
              "        6.71403327e-02,  1.13411256e-01,  9.76047082e-02, -1.33299773e-01,\n",
              "        1.43283932e-01,  1.02959079e-01, -1.14682154e-01,  3.33782688e-01,\n",
              "        4.01281982e-02, -3.11383504e-02,  2.52918741e-01, -3.40268098e-02,\n",
              "       -2.83536545e-02, -5.47186707e-02,  2.13669316e-01,  5.07009091e-01,\n",
              "        4.90611051e-02, -1.65790365e-01,  4.29240434e-01,  6.56574291e-02,\n",
              "        2.94244099e-02,  2.71328582e-01,  2.68211177e-01,  7.80943317e-02,\n",
              "       -1.04365583e-02,  2.32459022e-01,  3.07757052e-01,  1.19525655e-01,\n",
              "        1.07461656e-01, -2.05206765e-02,  8.07013794e-02,  6.32551951e-02,\n",
              "        9.33623782e-02,  2.09086701e-01,  8.08833175e-03,  1.54693394e-01,\n",
              "        2.85795387e-02,  5.94664388e-02,  3.63185275e-02,  9.76172213e-02,\n",
              "       -1.87208074e-02,  2.59874586e-01, -7.81285548e-02, -9.21445633e-03,\n",
              "        5.04230050e-03,  5.37353006e-01,  8.02439107e-02,  1.10057601e-01,\n",
              "       -2.28283234e-01,  3.55602738e-02,  2.85041975e-01, -2.05266292e-01,\n",
              "       -5.37822582e-02,  3.05029809e-01,  5.89000939e-03, -9.83928838e-02,\n",
              "        3.19549958e-01,  3.01940919e-01, -6.77830995e-02,  2.18684935e-01,\n",
              "        2.31813707e-01,  3.92883901e-01, -8.76750821e-02,  1.71583007e-01,\n",
              "       -8.77763020e-02, -1.71382956e-01,  1.95012229e-01,  1.67629384e-01,\n",
              "        5.17517294e-02,  1.52791572e-01, -7.79685277e-02, -2.27378072e-01,\n",
              "        8.09480614e-02, -8.28348549e-02, -1.22582974e-01,  1.14391589e-01,\n",
              "        3.76670463e-01,  1.34711397e-01, -4.60949495e-02, -1.39751802e-02,\n",
              "        3.24676788e-01, -5.83670805e-03,  3.46346222e-02,  2.34970999e-01,\n",
              "        1.80058625e-01, -1.72574383e-02,  2.91721791e-01,  2.58027614e-01,\n",
              "        8.45035644e-02,  9.95715011e-02, -1.82210604e-02, -3.37233830e-02,\n",
              "        1.63245280e-02,  6.33772829e-02,  2.13422140e-01,  8.58493672e-02,\n",
              "       -5.22447693e-02,  8.85049309e-02,  8.65388677e-02, -1.68882693e-02,\n",
              "        1.10003081e-01,  1.06494737e-01,  3.41576696e-01,  2.01991196e-01,\n",
              "        5.13729541e-01,  1.77579196e-01,  9.24973893e-02,  2.22559159e-01,\n",
              "       -1.87466604e-02,  7.12927625e-02,  2.25138250e-01, -4.92466072e-02,\n",
              "        1.78294860e-01,  6.82076176e-02, -3.03536482e-03, -4.16983285e-02,\n",
              "        5.47805563e-02, -8.28149966e-03,  3.58034571e-01, -1.43449466e-02,\n",
              "       -1.55402532e-02,  1.59882880e-01,  2.16986145e-01,  2.35652777e-01,\n",
              "        9.75291752e-02,  1.75623057e-01, -5.13319792e-02,  6.28834937e-02,\n",
              "        6.35106444e-02,  2.39406117e-01, -2.10632449e-02,  7.06684602e-01,\n",
              "        7.60594524e-02,  1.63859796e-01, -1.02686351e-01, -2.01678029e-02,\n",
              "        3.68371690e-02,  4.90782677e-02, -8.46484546e-02,  1.51101214e-01,\n",
              "        1.30109890e-01, -2.27074480e-01,  1.66144086e-01,  2.35960910e-01,\n",
              "       -1.12072799e-02,  1.52567356e-01, -6.26200102e-02,  3.14111987e-01,\n",
              "        3.46467248e-02, -1.73260484e-01, -6.82268928e-02,  4.69920126e-02,\n",
              "        9.97156822e-02,  2.31154032e-01,  5.77136356e-02,  1.95142156e-01,\n",
              "        5.63704912e-02,  2.51184280e-02,  1.68497249e-01,  5.91928781e-02,\n",
              "        1.86736059e-01,  5.09394132e-02,  2.65750433e-01, -6.40341738e-02,\n",
              "        1.31647734e-01,  2.46805820e-01, -2.24389182e-02,  5.71902419e-02,\n",
              "        3.20048355e-02,  2.00631299e-01,  1.98064284e-01,  1.01421512e-01,\n",
              "        2.84115045e-01,  2.84699272e-01,  1.54738752e-01,  9.97830517e-02,\n",
              "        2.42781363e-01,  1.80570911e-01, -1.11243667e-03, -6.18354540e-02,\n",
              "       -1.76306244e-01,  3.55926824e-01, -4.66193441e-02,  1.13555795e-01,\n",
              "        1.25771861e-01,  2.35678922e-01,  5.54624907e-02, -5.90894271e-03,\n",
              "        5.95004668e-02,  3.48268540e-02,  1.87414097e-01,  1.18189071e-01,\n",
              "        1.30894751e-01, -1.00696646e-01,  1.08396266e-01,  3.52274360e-01,\n",
              "        3.05644388e-01,  3.19556623e-02,  1.64972938e-01, -8.03891404e-02,\n",
              "        1.14510813e-01,  4.95435163e-01,  1.64815376e-01,  5.35179910e-02,\n",
              "        1.67289142e-01,  4.68296500e-01, -6.78965384e-02,  6.33665325e-03,\n",
              "        2.00959228e-01,  9.55346576e-02,  1.34602394e-01,  2.78707722e-01,\n",
              "       -5.33197176e-03,  1.20044655e-01,  3.62538808e-01,  1.72127434e-01,\n",
              "        3.15703901e-01,  1.67593060e-01, -6.15300873e-02,  2.53081586e-01,\n",
              "        2.39185968e-01,  7.77099418e-03, -1.59271957e-01,  6.21818893e-02,\n",
              "        1.33913625e-01,  1.17374838e-01,  1.55990167e-01,  2.11399826e-01,\n",
              "       -3.08190228e-02,  6.10283731e-02,  4.40107352e-02,  1.69240401e-01,\n",
              "        4.38252600e-03,  1.53166312e-01,  1.57530622e-04, -2.12385028e-01,\n",
              "        7.16259897e-02,  2.32475290e-02, -8.30229420e-02,  1.01316465e-01,\n",
              "        2.78558659e-01,  3.61844222e-01, -5.83154976e-02,  2.21740322e-01,\n",
              "        1.41860117e-01,  2.65562857e-02,  6.86961516e-02, -4.28733218e-02,\n",
              "        5.22655738e-02,  5.40645253e-01,  1.12170701e-01,  2.00611225e-01,\n",
              "       -1.92237063e-01, -6.80012924e-03, -1.21496694e-01,  1.97223379e-01,\n",
              "        3.87989794e-01,  3.01056919e-01,  1.07806542e-01, -1.47366661e-01,\n",
              "       -2.23988197e-02,  6.02514169e-02,  8.52829449e-03, -1.91701555e-02,\n",
              "        6.34301769e-02, -1.19377993e-02,  3.18431157e-01, -7.64798720e-03,\n",
              "       -1.01355977e-02,  1.12003072e-01, -9.34364965e-02,  4.89228382e-02,\n",
              "        2.07494333e-01, -6.42104241e-02,  1.83005803e-01, -3.37248692e-02,\n",
              "        8.83346190e-02,  1.03762737e-01, -2.73753325e-02,  1.28487283e-01,\n",
              "       -3.95804480e-02,  3.08492991e-01,  1.15311333e-02,  4.05687597e-01,\n",
              "        4.53693525e-02,  1.59413952e-01,  1.58713015e-01,  1.64623287e-01,\n",
              "       -1.05834421e-01,  6.43502770e-01,  1.48854664e-01, -9.48479704e-02,\n",
              "        1.47650359e-01,  9.78196274e-02,  1.02905074e-01, -4.68392506e-02,\n",
              "        1.80996100e-01,  1.03018412e-01,  1.80329565e-01,  2.53239093e-01,\n",
              "        6.33032497e-02,  5.55768700e-02,  2.79833628e-01, -5.52561955e-02,\n",
              "        1.18697945e-01,  7.58894098e-02,  1.11346484e-01,  3.02980735e-02,\n",
              "       -2.89391823e-02,  7.72864129e-02,  1.79236943e-01,  1.22567408e-01,\n",
              "        2.00588215e-01,  2.66724116e-01,  2.69728142e-01,  1.74421630e-01,\n",
              "        2.84997253e-01,  2.16343347e-03,  8.43447106e-02,  1.86426268e-01,\n",
              "       -5.33915422e-02, -7.89056354e-03,  2.39105224e-01, -2.04168861e-01,\n",
              "        2.99283093e-02,  1.44716003e-02, -1.13030241e-01,  3.21699750e-01,\n",
              "        3.37439776e-01, -8.68434515e-02,  2.57902310e-01,  2.29506907e-01,\n",
              "        7.67146244e-02,  2.55932817e-01,  4.00985306e-02,  4.06403828e-01,\n",
              "        6.24979273e-02,  3.06365127e-02,  1.38405941e-01,  1.75767471e-01,\n",
              "        4.79627725e-02,  2.37256747e-01,  3.63052631e-01,  3.26062853e-01,\n",
              "        2.93397437e-01,  1.64386260e-01,  1.88069670e-01,  2.81066528e-01,\n",
              "        7.84369508e-02,  8.82506939e-05,  3.82420136e-02, -6.96911067e-02,\n",
              "       -1.50231860e-01,  7.31023519e-02, -1.28290261e-01,  1.75171893e-01,\n",
              "       -4.03058482e-02,  9.26097152e-02,  2.86783359e-01,  1.55820201e-01,\n",
              "        1.49992954e-01,  5.80987978e-02, -4.90626433e-02,  9.40781173e-02,\n",
              "        5.98301718e-02,  1.95614459e-01,  4.15390512e-01,  1.96689162e-01,\n",
              "        1.33348521e-01,  2.83278519e-01,  2.27869573e-01, -4.14477147e-03,\n",
              "        1.15298594e-01,  4.85344962e-02,  2.70526679e-01,  6.50841876e-02,\n",
              "        8.30951912e-02,  1.66643672e-01, -1.17993233e-01,  5.92072349e-02,\n",
              "        1.82625937e-01,  2.63082052e-01,  2.56032240e-01,  1.40039946e-01,\n",
              "        1.56634085e-01, -8.41115436e-02,  3.96680870e-02, -5.88038992e-02,\n",
              "        7.17999977e-03,  2.79701643e-01,  3.45574737e-02,  5.17074266e-02,\n",
              "        3.50510419e-01,  1.63537978e-01,  1.80289588e-01,  3.16616127e-01,\n",
              "       -1.09931586e-02, -1.83137493e-01, -1.10731953e-01, -4.92407910e-03,\n",
              "        1.21896009e-01,  1.71411543e-01, -6.21269424e-02,  2.55448414e-01,\n",
              "       -4.96719942e-02,  2.47317970e-01,  1.80156001e-01,  1.78893339e-01,\n",
              "       -1.41301156e-01, -2.77073827e-02, -2.20566202e-02,  2.57340719e-03,\n",
              "        2.14173323e-02,  1.63928203e-01, -4.32029464e-02,  1.03842506e-01,\n",
              "        2.22613084e-01,  5.83441549e-02,  2.47840169e-01, -9.95295758e-02,\n",
              "        2.86855807e-01,  4.72046777e-02,  5.30579293e-01, -1.75629428e-02,\n",
              "        1.33550680e-01,  1.34283057e-01,  2.42592829e-01,  2.00108979e-01,\n",
              "        1.03852996e-01,  3.08251501e-01,  1.43785391e-02,  3.10561318e-01,\n",
              "        2.43251469e-01, -9.54660865e-02,  2.46401361e-01,  2.61274457e-01,\n",
              "        1.88128394e-02,  4.24665255e-01, -4.21230729e-03,  3.82578805e-02,\n",
              "        1.04206833e-01,  1.86601224e-01,  1.32581034e-01,  3.18066885e-01,\n",
              "       -1.09021721e-01,  1.93788464e-01,  1.32790181e-01,  1.93025418e-01,\n",
              "        1.23461047e-01,  3.14066442e-01,  2.27460556e-01, -3.39258479e-02,\n",
              "        1.25067103e-01,  2.33720489e-01,  1.13140158e-01, -1.95783139e-01,\n",
              "        2.62734377e-01, -2.17902604e-01,  2.01307816e-01,  2.64817233e-01,\n",
              "       -1.47817246e-01, -6.13335065e-02,  2.16360936e-01,  1.68817120e-01,\n",
              "        2.85843631e-01,  5.08587969e-02,  1.85737488e-02,  2.47189417e-01,\n",
              "        4.66117865e-02,  4.82841186e-02, -9.20569348e-02,  7.23669416e-02,\n",
              "       -1.02792786e-01,  3.74012365e-01,  4.81281415e-03,  1.18565260e-01,\n",
              "        2.09783491e-01,  7.52871458e-02,  2.64184738e-01,  4.22193873e-03,\n",
              "        1.26989844e-01,  1.43694109e-01, -1.04867255e-01,  2.85448316e-02,\n",
              "       -5.51377092e-02,  1.48278206e-01,  1.27350720e-01,  2.20073970e-01,\n",
              "       -1.44832239e-03,  9.98844710e-03,  2.21125215e-02,  1.18039322e-01,\n",
              "        1.00350827e-01,  1.50171716e-02, -6.78575215e-05,  2.33005359e-01,\n",
              "        2.26331119e-01,  2.30772280e-01,  1.17649097e-01,  1.81622359e-01,\n",
              "        2.83210377e-01,  1.43300878e-01, -1.24297318e-01, -5.36602890e-02,\n",
              "        1.65992341e-01,  1.69993022e-01,  3.33418795e-02, -1.53161238e-01,\n",
              "       -3.22022083e-03,  1.45195242e-01,  9.23936051e-02,  1.09074602e-01,\n",
              "        2.21612903e-01,  2.47667105e-01,  7.15838564e-02,  2.50129489e-01,\n",
              "        1.37102889e-01,  1.03684052e-01, -1.77921902e-01,  2.05136253e-01])"
            ]
          },
          "metadata": {},
          "execution_count": 606
        }
      ]
    },
    {
      "cell_type": "code",
      "metadata": {
        "colab": {
          "base_uri": "https://localhost:8080/",
          "height": 299
        },
        "id": "bT9-kEI7NAnR",
        "outputId": "4ca86e08-2271-40e3-e366-3aec14ec44dd"
      },
      "source": [
        "x1 = (train_data).numpy()\n",
        "y1 = np.array(train_label)\n",
        "\n",
        "plt.scatter(x1[y1==0,0][:,0], x1[y1==0,0][:,1], label='class 0')\n",
        "plt.scatter(x1[y1==1,0][:,0], x1[y1==1,0][:,1], label='class 1')\n",
        "plt.scatter(x1[y1==2,0][:,0], x1[y1==2,0][:,1], label='class 2')\n",
        "plt.legend()\n",
        "plt.title(\"dataset4 CIN with alpha = 1/\"+str(m))"
      ],
      "execution_count": 607,
      "outputs": [
        {
          "output_type": "execute_result",
          "data": {
            "text/plain": [
              "Text(0.5, 1.0, 'dataset4 CIN with alpha = 1/50')"
            ]
          },
          "metadata": {},
          "execution_count": 607
        },
        {
          "output_type": "display_data",
          "data": {
            "image/png": "[encoded data removed]",
            "text/plain": [
              "<Figure size 432x288 with 1 Axes>"
            ]
          },
          "metadata": {
            "needs_background": "light"
          }
        }
      ]
    },
    {
      "cell_type": "code",
      "metadata": {
        "colab": {
          "base_uri": "https://localhost:8080/",
          "height": 299
        },
        "id": "Sc8W2N7LQQ_l",
        "outputId": "8768a1a9-ffe3-4d5f-89f9-7e177025161e"
      },
      "source": [
        "x1 = (test_data).numpy()\n",
        "y1 = np.array(test_label)\n",
        "\n",
        "plt.scatter(x1[y1==0,0][:,0], x1[y1==0,0][:,1], label='class 0')\n",
        "plt.scatter(x1[y1==1,0][:,0], x1[y1==1,0][:,1], label='class 1')\n",
        "plt.scatter(x1[y1==2,0][:,0], x1[y1==2,0][:,1], label='class 2')\n",
        "plt.legend()\n",
        "plt.title(\"test dataset4\")"
      ],
      "execution_count": 608,
      "outputs": [
        {
          "output_type": "execute_result",
          "data": {
            "text/plain": [
              "Text(0.5, 1.0, 'test dataset4')"
            ]
          },
          "metadata": {},
          "execution_count": 608
        },
        {
          "output_type": "display_data",
          "data": {
            "image/png": "[encoded data removed]",
            "text/plain": [
              "<Figure size 432x288 with 1 Axes>"
            ]
          },
          "metadata": {
            "needs_background": "light"
          }
        }
      ]
    },
    {
      "cell_type": "code",
      "metadata": {
        "id": "yL0BRf8er0TX"
      },
      "source": [
        "class MosaicDataset(Dataset):\n",
        "  \"\"\"MosaicDataset dataset.\"\"\"\n",
        "\n",
        "  def __init__(self, mosaic_list_of_images, mosaic_label):\n",
        "    \"\"\"\n",
        "      Args:\n",
        "        csv_file (string): Path to the csv file with annotations.\n",
        "        root_dir (string): Directory with all the images.\n",
        "        transform (callable, optional): Optional transform to be applied\n",
        "            on a sample.\n",
        "    \"\"\"\n",
        "    self.mosaic = mosaic_list_of_images\n",
        "    self.label = mosaic_label\n",
        "    #self.fore_idx = fore_idx\n",
        "    \n",
        "  def __len__(self):\n",
        "    return len(self.label)\n",
        "\n",
        "  def __getitem__(self, idx):\n",
        "    return self.mosaic[idx] , self.label[idx] #, self.fore_idx[idx]\n",
        "\n"
      ],
      "execution_count": 609,
      "outputs": []
    },
    {
      "cell_type": "code",
      "metadata": {
        "colab": {
          "base_uri": "https://localhost:8080/"
        },
        "id": "4KsrW9qL9xgS",
        "outputId": "6795325c-8bb7-471f-857a-facf504d036f"
      },
      "source": [
        "train_data[0].shape, train_data[0]"
      ],
      "execution_count": 610,
      "outputs": [
        {
          "output_type": "execute_result",
          "data": {
            "text/plain": [
              "(torch.Size([1, 2]), tensor([[0.1418, 0.0205]], dtype=torch.float64))"
            ]
          },
          "metadata": {},
          "execution_count": 610
        }
      ]
    },
    {
      "cell_type": "code",
      "metadata": {
        "id": "EY2l62APygaV"
      },
      "source": [
        "batch = 200\n",
        "\n",
        "traindata_1 = MosaicDataset(train_data, train_label )\n",
        "trainloader_1 = DataLoader( traindata_1 , batch_size= batch ,shuffle=True)\n"
      ],
      "execution_count": 611,
      "outputs": []
    },
    {
      "cell_type": "code",
      "metadata": {
        "id": "9suUslCj8YZK"
      },
      "source": [
        "testdata_1 = MosaicDataset(test_data, test_label )\n",
        "testloader_1 = DataLoader( testdata_1 , batch_size= batch ,shuffle=False)\n"
      ],
      "execution_count": 612,
      "outputs": []
    },
    {
      "cell_type": "code",
      "metadata": {
        "id": "Nh3mBQHZ8bEj"
      },
      "source": [
        "# testdata_11 = MosaicDataset(test_dataset, labels )\n",
        "# testloader_11 = DataLoader( testdata_11 , batch_size= batch ,shuffle=False)"
      ],
      "execution_count": 613,
      "outputs": []
    },
    {
      "cell_type": "code",
      "metadata": {
        "id": "5_XeIUk0r0Tl"
      },
      "source": [
        "class Whatnet(nn.Module):\n",
        "    def __init__(self):\n",
        "        super(Whatnet,self).__init__()\n",
        "        self.linear1 = nn.Linear(2,50)\n",
        "        self.linear2 = nn.Linear(50,3)\n",
        "\n",
        "        torch.nn.init.xavier_normal_(self.linear1.weight)\n",
        "        torch.nn.init.zeros_(self.linear1.bias)\n",
        "        torch.nn.init.xavier_normal_(self.linear2.weight)\n",
        "        torch.nn.init.zeros_(self.linear2.bias)\n",
        "\n",
        "    def forward(self,x):\n",
        "        x = F.relu(self.linear1(x))\n",
        "        x = (self.linear2(x))\n",
        "\n",
        "        return x[:,0]"
      ],
      "execution_count": 614,
      "outputs": []
    },
    {
      "cell_type": "code",
      "metadata": {
        "id": "pjD2VZuV9Ed4"
      },
      "source": [
        "def calculate_loss(dataloader,model,criter):\n",
        "  model.eval()\n",
        "  r_loss = 0\n",
        "  with torch.no_grad():\n",
        "    for i, data in enumerate(dataloader, 0):\n",
        "      inputs, labels = data\n",
        "      inputs, labels = inputs.to(\"cuda\"),labels.to(\"cuda\")\n",
        "      outputs = model(inputs)\n",
        "      # print(outputs.shape)\n",
        "      loss = criter(outputs, labels)\n",
        "      r_loss += loss.item()\n",
        "  return r_loss/(i+1)"
      ],
      "execution_count": 615,
      "outputs": []
    },
    {
      "cell_type": "code",
      "metadata": {
        "id": "uALi25pmzQHV"
      },
      "source": [
        "def test_all(number, testloader,net):\n",
        "    correct = 0\n",
        "    total = 0\n",
        "    out = []\n",
        "    pred = []\n",
        "    with torch.no_grad():\n",
        "        for data in testloader:\n",
        "            images, labels = data\n",
        "            images, labels = images.to(\"cuda\"),labels.to(\"cuda\")\n",
        "            out.append(labels.cpu().numpy())\n",
        "            outputs= net(images)\n",
        "            _, predicted = torch.max(outputs.data, 1)\n",
        "            pred.append(predicted.cpu().numpy())\n",
        "            total += labels.size(0)\n",
        "            correct += (predicted == labels).sum().item()\n",
        "    \n",
        "    pred = np.concatenate(pred, axis = 0)\n",
        "    out = np.concatenate(out, axis = 0)\n",
        "    print(\"unique out: \",  np.unique(out), \"unique pred: \", np.unique(pred) )\n",
        "    print(\"correct: \", correct, \"total \",  total)\n",
        "    print('Accuracy of the network on the %d test dataset %d: %.2f %%' % (total, number , 100 * correct / total))"
      ],
      "execution_count": 616,
      "outputs": []
    },
    {
      "cell_type": "code",
      "metadata": {
        "id": "4vmNprlPzTjP"
      },
      "source": [
        "def train_all(trainloader, ds_number, testloader_list, lr_list):\n",
        "  \n",
        "  final_loss = []\n",
        "  for LR in lr_list:    \n",
        "    print(\"--\"*20, \"Learning Rate used is\", LR)\n",
        "    \n",
        "    torch.manual_seed(12)\n",
        "    net = Whatnet().double()\n",
        "    net = net.to(\"cuda\")\n",
        "    \n",
        "    criterion_net = nn.CrossEntropyLoss()\n",
        "    optimizer_net = optim.Adam(net.parameters(), lr=0.001 ) #, momentum=0.9)\n",
        "    \n",
        "    acti = []\n",
        "    loss_curi = []\n",
        "    epochs = 1000\n",
        "    running_loss = calculate_loss(trainloader,net,criterion_net)\n",
        "    loss_curi.append(running_loss)\n",
        "    print('epoch: [%d ] loss: %.3f' %(0,running_loss)) \n",
        "    for epoch in range(epochs): # loop over the dataset multiple times\n",
        "        ep_lossi = []\n",
        "\n",
        "        running_loss = 0.0\n",
        "        net.train()\n",
        "        for i, data in enumerate(trainloader, 0):\n",
        "            # get the inputs\n",
        "            inputs, labels = data\n",
        "            inputs, labels = inputs.to(\"cuda\"),labels.to(\"cuda\")\n",
        "\n",
        "            # zero the parameter gradients\n",
        "            optimizer_net.zero_grad()\n",
        "\n",
        "            # forward + backward + optimize\n",
        "            outputs = net(inputs)\n",
        "            # print(outputs.shape)\n",
        "            loss = criterion_net(outputs, labels)\n",
        "            # print statistics\n",
        "            running_loss += loss.item()\n",
        "            loss.backward()\n",
        "            optimizer_net.step()\n",
        "\n",
        "        running_loss = calculate_loss(trainloader,net,criterion_net)\n",
        "        if(epoch%200 == 0):\n",
        "          print('epoch: [%d] loss: %.3f' %(epoch + 1,running_loss)) \n",
        "        loss_curi.append(running_loss)   #loss per epoch\n",
        "        if running_loss<=0.05:\n",
        "          print('epoch: [%d] loss: %.3f' %(epoch + 1,running_loss))\n",
        "          break\n",
        "\n",
        "    print('Finished Training')\n",
        "    \n",
        "    correct = 0\n",
        "    total = 0\n",
        "    with torch.no_grad():\n",
        "        for data in trainloader:\n",
        "            images, labels = data\n",
        "            images, labels = images.to(\"cuda\"), labels.to(\"cuda\")\n",
        "            outputs = net(images)\n",
        "            _, predicted = torch.max(outputs.data, 1)\n",
        "            total += labels.size(0)\n",
        "            correct += (predicted == labels).sum().item()\n",
        "\n",
        "    print('Accuracy of the network on the %d train images: %.2f %%' % (total,  100 * correct / total))\n",
        "    \n",
        "    for i, j in enumerate(testloader_list):\n",
        "        test_all(i+1, j,net)\n",
        "    \n",
        "    print(\"--\"*40)\n",
        "    \n",
        "    final_loss.append(loss_curi) \n",
        "  return final_loss\n",
        "    "
      ],
      "execution_count": 617,
      "outputs": []
    },
    {
      "cell_type": "code",
      "metadata": {
        "id": "Yl41sE8vFERk"
      },
      "source": [
        "train_loss_all=[]\n",
        "\n",
        "testloader_list= [ testloader_1]\n",
        "lr_list = [0.0001, 0.0005, 0.001, 0.005, 0.01, 0.05, 0.1, 0.5 ]"
      ],
      "execution_count": 618,
      "outputs": []
    },
    {
      "cell_type": "code",
      "metadata": {
        "colab": {
          "base_uri": "https://localhost:8080/"
        },
        "id": "5gQoPST5zW2t",
        "outputId": "b6cc71da-c264-4d83-966e-2b493613748a"
      },
      "source": [
        "fin_loss = train_all(trainloader_1, 1, testloader_list, lr_list)\n",
        "train_loss_all.append(fin_loss)"
      ],
      "execution_count": 619,
      "outputs": [
        {
          "output_type": "stream",
          "name": "stdout",
          "text": [
            "---------------------------------------- Learning Rate used is 0.0001\n",
            "epoch: [0 ] loss: 1.096\n",
            "epoch: [1] loss: 1.094\n",
            "epoch: [201] loss: 1.066\n",
            "epoch: [401] loss: 1.064\n",
            "epoch: [601] loss: 1.063\n",
            "epoch: [801] loss: 1.063\n",
            "Finished Training\n",
            "Accuracy of the network on the 2000 train images: 43.15 %\n",
            "unique out:  [0 1 2] unique pred:  [0 1 2]\n",
            "correct:  690 total  1000\n",
            "Accuracy of the network on the 1000 test dataset 1: 69.00 %\n",
            "--------------------------------------------------------------------------------\n",
            "---------------------------------------- Learning Rate used is 0.0005\n",
            "epoch: [0 ] loss: 1.096\n",
            "epoch: [1] loss: 1.094\n",
            "epoch: [201] loss: 1.066\n",
            "epoch: [401] loss: 1.064\n",
            "epoch: [601] loss: 1.063\n",
            "epoch: [801] loss: 1.063\n",
            "Finished Training\n",
            "Accuracy of the network on the 2000 train images: 43.15 %\n",
            "unique out:  [0 1 2] unique pred:  [0 1 2]\n",
            "correct:  690 total  1000\n",
            "Accuracy of the network on the 1000 test dataset 1: 69.00 %\n",
            "--------------------------------------------------------------------------------\n",
            "---------------------------------------- Learning Rate used is 0.001\n",
            "epoch: [0 ] loss: 1.096\n",
            "epoch: [1] loss: 1.094\n",
            "epoch: [201] loss: 1.066\n",
            "epoch: [401] loss: 1.064\n",
            "epoch: [601] loss: 1.063\n",
            "epoch: [801] loss: 1.063\n",
            "Finished Training\n",
            "Accuracy of the network on the 2000 train images: 43.15 %\n",
            "unique out:  [0 1 2] unique pred:  [0 1 2]\n",
            "correct:  690 total  1000\n",
            "Accuracy of the network on the 1000 test dataset 1: 69.00 %\n",
            "--------------------------------------------------------------------------------\n",
            "---------------------------------------- Learning Rate used is 0.005\n",
            "epoch: [0 ] loss: 1.096\n",
            "epoch: [1] loss: 1.094\n",
            "epoch: [201] loss: 1.066\n",
            "epoch: [401] loss: 1.064\n",
            "epoch: [601] loss: 1.063\n",
            "epoch: [801] loss: 1.063\n",
            "Finished Training\n",
            "Accuracy of the network on the 2000 train images: 43.15 %\n",
            "unique out:  [0 1 2] unique pred:  [0 1 2]\n",
            "correct:  690 total  1000\n",
            "Accuracy of the network on the 1000 test dataset 1: 69.00 %\n",
            "--------------------------------------------------------------------------------\n",
            "---------------------------------------- Learning Rate used is 0.01\n",
            "epoch: [0 ] loss: 1.096\n",
            "epoch: [1] loss: 1.094\n",
            "epoch: [201] loss: 1.066\n",
            "epoch: [401] loss: 1.064\n",
            "epoch: [601] loss: 1.063\n",
            "epoch: [801] loss: 1.063\n",
            "Finished Training\n",
            "Accuracy of the network on the 2000 train images: 43.15 %\n",
            "unique out:  [0 1 2] unique pred:  [0 1 2]\n",
            "correct:  690 total  1000\n",
            "Accuracy of the network on the 1000 test dataset 1: 69.00 %\n",
            "--------------------------------------------------------------------------------\n",
            "---------------------------------------- Learning Rate used is 0.05\n",
            "epoch: [0 ] loss: 1.096\n",
            "epoch: [1] loss: 1.094\n",
            "epoch: [201] loss: 1.066\n",
            "epoch: [401] loss: 1.064\n",
            "epoch: [601] loss: 1.063\n",
            "epoch: [801] loss: 1.063\n",
            "Finished Training\n",
            "Accuracy of the network on the 2000 train images: 43.15 %\n",
            "unique out:  [0 1 2] unique pred:  [0 1 2]\n",
            "correct:  690 total  1000\n",
            "Accuracy of the network on the 1000 test dataset 1: 69.00 %\n",
            "--------------------------------------------------------------------------------\n",
            "---------------------------------------- Learning Rate used is 0.1\n",
            "epoch: [0 ] loss: 1.096\n",
            "epoch: [1] loss: 1.094\n",
            "epoch: [201] loss: 1.066\n",
            "epoch: [401] loss: 1.064\n",
            "epoch: [601] loss: 1.063\n",
            "epoch: [801] loss: 1.063\n",
            "Finished Training\n",
            "Accuracy of the network on the 2000 train images: 43.15 %\n",
            "unique out:  [0 1 2] unique pred:  [0 1 2]\n",
            "correct:  690 total  1000\n",
            "Accuracy of the network on the 1000 test dataset 1: 69.00 %\n",
            "--------------------------------------------------------------------------------\n",
            "---------------------------------------- Learning Rate used is 0.5\n",
            "epoch: [0 ] loss: 1.096\n",
            "epoch: [1] loss: 1.094\n",
            "epoch: [201] loss: 1.066\n",
            "epoch: [401] loss: 1.064\n",
            "epoch: [601] loss: 1.063\n",
            "epoch: [801] loss: 1.063\n",
            "Finished Training\n",
            "Accuracy of the network on the 2000 train images: 43.15 %\n",
            "unique out:  [0 1 2] unique pred:  [0 1 2]\n",
            "correct:  690 total  1000\n",
            "Accuracy of the network on the 1000 test dataset 1: 69.00 %\n",
            "--------------------------------------------------------------------------------\n"
          ]
        }
      ]
    },
    {
      "cell_type": "code",
      "metadata": {
        "id": "In76SYH_zZHV"
      },
      "source": [
        "%matplotlib inline"
      ],
      "execution_count": 620,
      "outputs": []
    },
    {
      "cell_type": "code",
      "metadata": {
        "colab": {
          "base_uri": "https://localhost:8080/"
        },
        "id": "_GsE3qHR_A5c",
        "outputId": "1189ff3b-8a10-412b-9176-f04f14780797"
      },
      "source": [
        "len(fin_loss)"
      ],
      "execution_count": 621,
      "outputs": [
        {
          "output_type": "execute_result",
          "data": {
            "text/plain": [
              "8"
            ]
          },
          "metadata": {},
          "execution_count": 621
        }
      ]
    },
    {
      "cell_type": "code",
      "metadata": {
        "id": "BS4HtOHEzZ0E",
        "colab": {
          "base_uri": "https://localhost:8080/",
          "height": 297
        },
        "outputId": "4e3af0e8-d8a9-4489-d367-b60796822037"
      },
      "source": [
        "for i,j in enumerate(fin_loss):\n",
        "    plt.plot(j,label =\"LR = \"+str(lr_list[i]))\n",
        "    \n",
        "\n",
        "plt.xlabel(\"Epochs\")\n",
        "plt.ylabel(\"Training_loss\")\n",
        "\n",
        "plt.legend(loc='center left', bbox_to_anchor=(1, 0.5))"
      ],
      "execution_count": 622,
      "outputs": [
        {
          "output_type": "execute_result",
          "data": {
            "text/plain": [
              "<matplotlib.legend.Legend at 0x7fab04ea0390>"
            ]
          },
          "metadata": {},
          "execution_count": 622
        },
        {
          "output_type": "display_data",
          "data": {
            "image/png": "[encoded data removed]",
            "text/plain": [
              "<Figure size 432x288 with 1 Axes>"
            ]
          },
          "metadata": {
            "needs_background": "light"
          }
        }
      ]
    },
    {
      "cell_type": "code",
      "metadata": {
        "id": "1UbTkfLUINTI"
      },
      "source": [
        ""
      ],
      "execution_count": 622,
      "outputs": []
    }
  ]
}