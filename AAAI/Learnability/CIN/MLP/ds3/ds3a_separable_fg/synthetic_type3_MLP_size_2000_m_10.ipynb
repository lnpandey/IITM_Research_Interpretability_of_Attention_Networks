{
  "nbformat": 4,
  "nbformat_minor": 0,
  "metadata": {
    "accelerator": "GPU",
    "colab": {
      "name": "synthetic_type3_MLP_m_5.ipynb",
      "provenance": [],
      "collapsed_sections": []
    },
    "kernelspec": {
      "display_name": "Python 3",
      "language": "python",
      "name": "python3"
    },
    "language_info": {
      "codemirror_mode": {
        "name": "ipython",
        "version": 3
      },
      "file_extension": ".py",
      "mimetype": "text/x-python",
      "name": "python",
      "nbconvert_exporter": "python",
      "pygments_lexer": "ipython3",
      "version": "3.6.5"
    }
  },
  "cells": [
    {
      "cell_type": "code",
      "metadata": {
        "colab": {
          "base_uri": "https://localhost:8080/"
        },
        "id": "N2_J4Rw2r0SQ",
        "outputId": "b53e590d-665d-4311-978e-c0d990f1bf4f"
      },
      "source": [
        "import numpy as np\n",
        "import pandas as pd\n",
        "from matplotlib import pyplot as plt\n",
        "from tqdm import tqdm\n",
        "%matplotlib inline\n",
        "from torch.utils.data import Dataset, DataLoader\n",
        "import torch\n",
        "import torchvision\n",
        "\n",
        "import torch.nn as nn\n",
        "import torch.optim as optim\n",
        "from torch.nn import functional as F\n",
        "device = torch.device(\"cuda\" if torch.cuda.is_available() else \"cpu\")\n",
        "print(device)"
      ],
      "execution_count": 482,
      "outputs": [
        {
          "output_type": "stream",
          "name": "stdout",
          "text": [
            "cuda\n"
          ]
        }
      ]
    },
    {
      "cell_type": "code",
      "metadata": {
        "id": "ZTJPyL45DiJ3"
      },
      "source": [
        "m = 10          # 5, 50, 100, 500, 2000"
      ],
      "execution_count": 483,
      "outputs": []
    },
    {
      "cell_type": "code",
      "metadata": {
        "id": "g-do5dZWK5L6"
      },
      "source": [
        "train_size = 2000          # 100, 500, 2000, 10000"
      ],
      "execution_count": 484,
      "outputs": []
    },
    {
      "cell_type": "markdown",
      "metadata": {
        "id": "F6fjud_Fr0Sa"
      },
      "source": [
        "# Generate dataset"
      ]
    },
    {
      "cell_type": "code",
      "metadata": {
        "colab": {
          "base_uri": "https://localhost:8080/"
        },
        "id": "CqdXHO0Cr0Sd",
        "outputId": "93e3ee5c-c8af-47dc-9784-8ecd823294fe"
      },
      "source": [
        "np.random.seed(12)\n",
        "y = np.random.randint(0,10,5000)\n",
        "idx= []\n",
        "for i in range(10):\n",
        "    print(i,sum(y==i))\n",
        "    idx.append(y==i)"
      ],
      "execution_count": 485,
      "outputs": [
        {
          "output_type": "stream",
          "name": "stdout",
          "text": [
            "0 530\n",
            "1 463\n",
            "2 494\n",
            "3 517\n",
            "4 488\n",
            "5 497\n",
            "6 493\n",
            "7 507\n",
            "8 492\n",
            "9 519\n"
          ]
        }
      ]
    },
    {
      "cell_type": "code",
      "metadata": {
        "id": "ddhXyODwr0Sk"
      },
      "source": [
        "x = np.zeros((5000,2))"
      ],
      "execution_count": 486,
      "outputs": []
    },
    {
      "cell_type": "code",
      "metadata": {
        "id": "DyV3N2DIr0Sp"
      },
      "source": [
        "np.random.seed(12)\n",
        "x[idx[0],:] = np.random.multivariate_normal(mean = [7,4],cov=[[0.1,0],[0,0.1]],size=sum(idx[0]))\n",
        "x[idx[1],:] = np.random.multivariate_normal(mean = [8,6.5],cov=[[0.1,0],[0,0.1]],size=sum(idx[1]))\n",
        "x[idx[2],:] = np.random.multivariate_normal(mean = [5.5,6.5],cov=[[0.1,0],[0,0.1]],size=sum(idx[2]))\n",
        "x[idx[3],:] = np.random.multivariate_normal(mean = [-1,0],cov=[[0.1,0],[0,0.1]],size=sum(idx[3]))\n",
        "x[idx[4],:] = np.random.multivariate_normal(mean = [0,2],cov=[[0.1,0],[0,0.1]],size=sum(idx[4]))\n",
        "x[idx[5],:] = np.random.multivariate_normal(mean = [1,0],cov=[[0.1,0],[0,0.1]],size=sum(idx[5]))\n",
        "x[idx[6],:] = np.random.multivariate_normal(mean = [0,-1],cov=[[0.1,0],[0,0.1]],size=sum(idx[6]))\n",
        "x[idx[7],:] = np.random.multivariate_normal(mean = [0,0],cov=[[0.1,0],[0,0.1]],size=sum(idx[7]))\n",
        "x[idx[8],:] = np.random.multivariate_normal(mean = [-0.5,-0.5],cov=[[0.1,0],[0,0.1]],size=sum(idx[8]))\n",
        "x[idx[9],:] = np.random.multivariate_normal(mean = [0.4,0.2],cov=[[0.1,0],[0,0.1]],size=sum(idx[9]))"
      ],
      "execution_count": 487,
      "outputs": []
    },
    {
      "cell_type": "code",
      "metadata": {
        "colab": {
          "base_uri": "https://localhost:8080/"
        },
        "id": "qh1mDScsU07I",
        "outputId": "42eca1b1-661c-45db-902a-a8ef61e1eea5"
      },
      "source": [
        "x[idx[0]][0], x[idx[5]][5] "
      ],
      "execution_count": 488,
      "outputs": [
        {
          "output_type": "execute_result",
          "data": {
            "text/plain": [
              "(array([7.14957125, 3.78451422]), array([0.87756167, 0.00457805]))"
            ]
          },
          "metadata": {},
          "execution_count": 488
        }
      ]
    },
    {
      "cell_type": "code",
      "metadata": {
        "colab": {
          "base_uri": "https://localhost:8080/",
          "height": 287
        },
        "id": "hJ8Jm7YUr0St",
        "outputId": "377995c5-85d3-41f4-e669-3521436d8c37"
      },
      "source": [
        "for i in range(10):\n",
        "    plt.scatter(x[idx[i],0],x[idx[i],1],label=\"class_\"+str(i))\n",
        "plt.legend(loc='center left', bbox_to_anchor=(1, 0.5))"
      ],
      "execution_count": 489,
      "outputs": [
        {
          "output_type": "execute_result",
          "data": {
            "text/plain": [
              "<matplotlib.legend.Legend at 0x7fab05728910>"
            ]
          },
          "metadata": {},
          "execution_count": 489
        },
        {
          "output_type": "display_data",
          "data": {
            "image/png": "[encoded data removed]",
            "text/plain": [
              "<Figure size 432x288 with 1 Axes>"
            ]
          },
          "metadata": {
            "needs_background": "light"
          }
        }
      ]
    },
    {
      "cell_type": "code",
      "metadata": {
        "colab": {
          "base_uri": "https://localhost:8080/"
        },
        "id": "3lMBZEHNBlF2",
        "outputId": "350ba17d-3d4c-425f-b274-d8c036d9fbb0"
      },
      "source": [
        "bg_idx = [ np.where(idx[3] == True)[0], \n",
        "          np.where(idx[4] == True)[0], \n",
        "          np.where(idx[5] == True)[0],\n",
        "          np.where(idx[6] == True)[0], \n",
        "          np.where(idx[7] == True)[0], \n",
        "          np.where(idx[8] == True)[0],\n",
        "          np.where(idx[9] == True)[0]]\n",
        "\n",
        "bg_idx = np.concatenate(bg_idx, axis = 0)\n",
        "bg_idx.shape"
      ],
      "execution_count": 490,
      "outputs": [
        {
          "output_type": "execute_result",
          "data": {
            "text/plain": [
              "(3513,)"
            ]
          },
          "metadata": {},
          "execution_count": 490
        }
      ]
    },
    {
      "cell_type": "code",
      "metadata": {
        "colab": {
          "base_uri": "https://localhost:8080/"
        },
        "id": "blRbGZHeCwXU",
        "outputId": "44a18f68-0f65-4874-8043-0c19dd434a92"
      },
      "source": [
        "np.unique(bg_idx).shape"
      ],
      "execution_count": 491,
      "outputs": [
        {
          "output_type": "execute_result",
          "data": {
            "text/plain": [
              "(3513,)"
            ]
          },
          "metadata": {},
          "execution_count": 491
        }
      ]
    },
    {
      "cell_type": "code",
      "metadata": {
        "id": "Y43sWeX7C15F"
      },
      "source": [
        "x = x - np.mean(x[bg_idx], axis = 0, keepdims = True)\n"
      ],
      "execution_count": 492,
      "outputs": []
    },
    {
      "cell_type": "code",
      "metadata": {
        "colab": {
          "base_uri": "https://localhost:8080/"
        },
        "id": "ooII7N6UDWe0",
        "outputId": "079c4e6e-a8c6-45ef-bcaa-147b747542f9"
      },
      "source": [
        "np.mean(x[bg_idx], axis = 0, keepdims = True), np.mean(x, axis = 0, keepdims = True)"
      ],
      "execution_count": 493,
      "outputs": [
        {
          "output_type": "execute_result",
          "data": {
            "text/plain": [
              "(array([[-1.04275003e-16,  6.74571889e-17]]),\n",
              " array([[2.02981967, 1.63582644]]))"
            ]
          },
          "metadata": {},
          "execution_count": 493
        }
      ]
    },
    {
      "cell_type": "code",
      "metadata": {
        "id": "g21bvPRYDL9k"
      },
      "source": [
        "x = x/np.std(x[bg_idx], axis = 0, keepdims = True)"
      ],
      "execution_count": 494,
      "outputs": []
    },
    {
      "cell_type": "code",
      "metadata": {
        "colab": {
          "base_uri": "https://localhost:8080/"
        },
        "id": "GtFvIeHsDZJk",
        "outputId": "abc1a625-b018-49e7-cc74-b9eb976272f4"
      },
      "source": [
        "np.std(x[bg_idx], axis = 0, keepdims = True), np.std(x, axis = 0, keepdims = True)"
      ],
      "execution_count": 495,
      "outputs": [
        {
          "output_type": "execute_result",
          "data": {
            "text/plain": [
              "(array([[1., 1.]]), array([[4.89756643, 3.00501566]]))"
            ]
          },
          "metadata": {},
          "execution_count": 495
        }
      ]
    },
    {
      "cell_type": "code",
      "metadata": {
        "colab": {
          "base_uri": "https://localhost:8080/",
          "height": 283
        },
        "id": "8-VLhUfDDeHt",
        "outputId": "8abc7661-eeed-46da-f666-a315ebfad231"
      },
      "source": [
        "for i in range(10):\n",
        "    plt.scatter(x[idx[i],0],x[idx[i],1],label=\"class_\"+str(i))\n",
        "plt.legend(loc='center left', bbox_to_anchor=(1, 0.5))"
      ],
      "execution_count": 496,
      "outputs": [
        {
          "output_type": "execute_result",
          "data": {
            "text/plain": [
              "<matplotlib.legend.Legend at 0x7fab05e297d0>"
            ]
          },
          "metadata": {},
          "execution_count": 496
        },
        {
          "output_type": "display_data",
          "data": {
            "image/png": "[encoded data removed]",
            "text/plain": [
              "<Figure size 432x288 with 1 Axes>"
            ]
          },
          "metadata": {
            "needs_background": "light"
          }
        }
      ]
    },
    {
      "cell_type": "code",
      "metadata": {
        "id": "UfFHcZJOr0Sz"
      },
      "source": [
        "foreground_classes = {'class_0','class_1', 'class_2'}\n",
        "\n",
        "background_classes = {'class_3','class_4', 'class_5', 'class_6','class_7', 'class_8', 'class_9'}"
      ],
      "execution_count": 497,
      "outputs": []
    },
    {
      "cell_type": "code",
      "metadata": {
        "colab": {
          "base_uri": "https://localhost:8080/"
        },
        "id": "OplNpNQVr0S2",
        "outputId": "45c25d64-fd48-42a7-eda3-d8dea41d8c76"
      },
      "source": [
        "fg_class  = np.random.randint(0,3)\n",
        "fg_idx = np.random.randint(0,m)\n",
        "train_data=[]\n",
        "a = []\n",
        "fg_instance = np.array([[0.0,0.0]])\n",
        "bg_instance = np.array([[0.0,0.0]])\n",
        "\n",
        "for i in range(m):\n",
        "  if i == fg_idx:\n",
        "    b = np.random.choice(np.where(idx[fg_class]==True)[0],size=1)\n",
        "    fg_instance += x[b]\n",
        "    a.append(x[b])\n",
        "    print(\"foreground \"+str(fg_class)+\" present at \" + str(fg_idx))\n",
        "  else:\n",
        "    bg_class = np.random.randint(3,10)\n",
        "    b = np.random.choice(np.where(idx[bg_class]==True)[0],size=1)\n",
        "    bg_instance += x[b]\n",
        "    a.append(x[b])\n",
        "    print(\"background \"+str(bg_class)+\" present at \" + str(i))\n",
        "\n",
        "a = np.concatenate(a,axis=0)\n",
        "print(a.shape)\n",
        "\n",
        "print(fg_class , fg_idx)"
      ],
      "execution_count": 498,
      "outputs": [
        {
          "output_type": "stream",
          "name": "stdout",
          "text": [
            "background 5 present at 0\n",
            "background 6 present at 1\n",
            "foreground 2 present at 2\n",
            "background 5 present at 3\n",
            "background 3 present at 4\n",
            "background 5 present at 5\n",
            "background 7 present at 6\n",
            "background 6 present at 7\n",
            "background 5 present at 8\n",
            "background 3 present at 9\n",
            "(10, 2)\n",
            "2 2\n"
          ]
        }
      ]
    },
    {
      "cell_type": "code",
      "metadata": {
        "colab": {
          "base_uri": "https://localhost:8080/"
        },
        "id": "Rx6cMmR3baVf",
        "outputId": "cc56163b-e566-40c0-a96c-cc834ad51157"
      },
      "source": [
        "a"
      ],
      "execution_count": 499,
      "outputs": [
        {
          "output_type": "execute_result",
          "data": {
            "text/plain": [
              "array([[ 1.52560273, -0.1298488 ],\n",
              "       [-0.4226508 , -1.2003313 ],\n",
              "       [ 8.5153438 ,  7.02349438],\n",
              "       [ 2.09728368, -0.24465132],\n",
              "       [-0.98608769, -0.75123246],\n",
              "       [ 1.37297554, -0.37673308],\n",
              "       [-0.88469208, -0.11155199],\n",
              "       [ 0.32308641, -1.23774128],\n",
              "       [ 1.37297554, -0.37673308],\n",
              "       [-1.37994224, -0.01869277]])"
            ]
          },
          "metadata": {},
          "execution_count": 499
        }
      ]
    },
    {
      "cell_type": "code",
      "metadata": {
        "colab": {
          "base_uri": "https://localhost:8080/"
        },
        "id": "dEdaFZPQhc7D",
        "outputId": "d5914972-ce21-4f11-a451-a0387312960b"
      },
      "source": [
        "fg_instance"
      ],
      "execution_count": 500,
      "outputs": [
        {
          "output_type": "execute_result",
          "data": {
            "text/plain": [
              "array([[8.5153438 , 7.02349438]])"
            ]
          },
          "metadata": {},
          "execution_count": 500
        }
      ]
    },
    {
      "cell_type": "code",
      "metadata": {
        "colab": {
          "base_uri": "https://localhost:8080/"
        },
        "id": "IqdAVbG1hftM",
        "outputId": "d37ba9db-29f8-4078-93c0-0334bbfee80d"
      },
      "source": [
        "bg_instance"
      ],
      "execution_count": 501,
      "outputs": [
        {
          "output_type": "execute_result",
          "data": {
            "text/plain": [
              "array([[ 3.01855109, -4.44751607]])"
            ]
          },
          "metadata": {},
          "execution_count": 501
        }
      ]
    },
    {
      "cell_type": "code",
      "metadata": {
        "colab": {
          "base_uri": "https://localhost:8080/"
        },
        "id": "Ho98SSXEhx6L",
        "outputId": "532ead3f-1dd8-42ea-8e9f-f9a53d65eb23"
      },
      "source": [
        "(fg_instance+bg_instance)/m , m"
      ],
      "execution_count": 502,
      "outputs": [
        {
          "output_type": "execute_result",
          "data": {
            "text/plain": [
              "(array([[1.15338949, 0.25759783]]), 10)"
            ]
          },
          "metadata": {},
          "execution_count": 502
        }
      ]
    },
    {
      "cell_type": "code",
      "metadata": {
        "id": "jqbvfbwVr0TN"
      },
      "source": [
        "# mosaic_list_of_images =[]\n",
        "# mosaic_label = []\n",
        "train_label=[]\n",
        "fore_idx=[]\n",
        "train_data = []\n",
        "for j in range(train_size):\n",
        "  np.random.seed(j)\n",
        "  fg_instance = torch.zeros([2], dtype=torch.float64) #np.array([[0.0,0.0]])\n",
        "  bg_instance = torch.zeros([2], dtype=torch.float64) #np.array([[0.0,0.0]])\n",
        "  # a=[]\n",
        "\n",
        "  for i in range(m):\n",
        "    if i == fg_idx:\n",
        "      fg_class  = np.random.randint(0,3)\n",
        "      b = np.random.choice(np.where(idx[fg_class]==True)[0],size=1)\n",
        "      fg_instance += x[b]\n",
        "      # a.append(x[b])\n",
        "      # print(\"foreground \"+str(fg_class)+\" present at \" + str(fg_idx))\n",
        "    else:\n",
        "      bg_class = np.random.randint(3,10)\n",
        "      b = np.random.choice(np.where(idx[bg_class]==True)[0],size=1)\n",
        "      bg_instance += x[b]\n",
        "      # a.append(x[b])\n",
        "      # print(\"background \"+str(bg_class)+\" present at \" + str(i))\n",
        "  train_data.append((fg_instance+bg_instance)/m)\n",
        "  # a = np.concatenate(a,axis=0)\n",
        "  # mosaic_list_of_images.append(np.reshape(a,(2*m,1)))\n",
        "  train_label.append(fg_class)\n",
        "  fore_idx.append(fg_idx)"
      ],
      "execution_count": 503,
      "outputs": []
    },
    {
      "cell_type": "code",
      "metadata": {
        "colab": {
          "base_uri": "https://localhost:8080/"
        },
        "id": "X_g6lxkVjN0N",
        "outputId": "31d92fa8-1c63-444a-9d17-969bcf28564d"
      },
      "source": [
        " train_data[0], train_label[0]"
      ],
      "execution_count": 504,
      "outputs": [
        {
          "output_type": "execute_result",
          "data": {
            "text/plain": [
              "(tensor([[1.4207, 0.6244]], dtype=torch.float64), 1)"
            ]
          },
          "metadata": {},
          "execution_count": 504
        }
      ]
    },
    {
      "cell_type": "code",
      "metadata": {
        "colab": {
          "base_uri": "https://localhost:8080/"
        },
        "id": "Tz5wQCevobYr",
        "outputId": "c5bbdcd8-5c02-4dfb-ac2d-03ecc075ab86"
      },
      "source": [
        "train_data = torch.stack(train_data, axis=0)\n",
        "train_data.shape, len(train_label)"
      ],
      "execution_count": 505,
      "outputs": [
        {
          "output_type": "execute_result",
          "data": {
            "text/plain": [
              "(torch.Size([2000, 1, 2]), 2000)"
            ]
          },
          "metadata": {},
          "execution_count": 505
        }
      ]
    },
    {
      "cell_type": "code",
      "metadata": {
        "id": "CVAlImGYA49A"
      },
      "source": [
        "test_label=[]\n",
        "# fore_idx=[]\n",
        "test_data = []\n",
        "for j in range(1000):\n",
        "  np.random.seed(j)\n",
        "  fg_instance = torch.zeros([2], dtype=torch.float64) #np.array([[0.0,0.0]])\n",
        "\n",
        "  fg_class  = np.random.randint(0,3)\n",
        "  b = np.random.choice(np.where(idx[fg_class]==True)[0],size=1)\n",
        "  fg_instance += x[b]\n",
        "  # a.append(x[b])\n",
        "  # print(\"foreground \"+str(fg_class)+\" present at \" + str(fg_idx))\n",
        "\n",
        "  test_data.append((fg_instance)/m)\n",
        "  # a = np.concatenate(a,axis=0)\n",
        "  # mosaic_list_of_images.append(np.reshape(a,(2*m,1)))\n",
        "  test_label.append(fg_class)\n",
        "  # fore_idx.append(fg_idx)"
      ],
      "execution_count": 506,
      "outputs": []
    },
    {
      "cell_type": "code",
      "metadata": {
        "colab": {
          "base_uri": "https://localhost:8080/"
        },
        "id": "XltBz3__BT_C",
        "outputId": "961c9a18-e35c-4871-d148-fd65a74b5b2e"
      },
      "source": [
        "test_data[0], test_label[0]"
      ],
      "execution_count": 507,
      "outputs": [
        {
          "output_type": "execute_result",
          "data": {
            "text/plain": [
              "(tensor([[1.1141, 0.3917]], dtype=torch.float64), 0)"
            ]
          },
          "metadata": {},
          "execution_count": 507
        }
      ]
    },
    {
      "cell_type": "code",
      "metadata": {
        "colab": {
          "base_uri": "https://localhost:8080/"
        },
        "id": "JqQfjkCnBX8E",
        "outputId": "7e943a87-299f-4709-dddb-8b48bf34c89b"
      },
      "source": [
        "test_data = torch.stack(test_data, axis=0)\n",
        "test_data.shape, len(test_label)"
      ],
      "execution_count": 508,
      "outputs": [
        {
          "output_type": "execute_result",
          "data": {
            "text/plain": [
              "(torch.Size([1000, 1, 2]), 1000)"
            ]
          },
          "metadata": {},
          "execution_count": 508
        }
      ]
    },
    {
      "cell_type": "code",
      "metadata": {
        "id": "nQhRf1ICBvW6"
      },
      "source": [
        "x1 = (train_data).numpy()\n",
        "y1 = np.array(train_label)"
      ],
      "execution_count": 509,
      "outputs": []
    },
    {
      "cell_type": "code",
      "metadata": {
        "colab": {
          "base_uri": "https://localhost:8080/"
        },
        "id": "vDAz96DSCXn5",
        "outputId": "343627d8-00c8-40fa-b802-7655ebaefc1b"
      },
      "source": [
        "x1[y1==0,0]"
      ],
      "execution_count": 510,
      "outputs": [
        {
          "output_type": "execute_result",
          "data": {
            "text/plain": [
              "array([[ 1.64409852,  0.6574221 ],\n",
              "       [ 1.59567835,  0.38503995],\n",
              "       [ 1.5244532 ,  0.51492166],\n",
              "       ...,\n",
              "       [ 0.80458843, -0.26032261],\n",
              "       [ 0.78455135, -0.14641313],\n",
              "       [ 1.64206709,  0.36480498]])"
            ]
          },
          "metadata": {},
          "execution_count": 510
        }
      ]
    },
    {
      "cell_type": "code",
      "metadata": {
        "colab": {
          "base_uri": "https://localhost:8080/"
        },
        "id": "kMwwZhv7Bv1U",
        "outputId": "ccfb567f-0adc-4d44-f832-62d369e0f5ee"
      },
      "source": [
        "x1[y1==0,0][:,0]"
      ],
      "execution_count": 511,
      "outputs": [
        {
          "output_type": "execute_result",
          "data": {
            "text/plain": [
              "array([1.64409852, 1.59567835, 1.5244532 , 1.34750211, 1.29346551,\n",
              "       1.24226659, 1.29906122, 1.27040982, 0.71454345, 1.13927327,\n",
              "       1.01764497, 1.32741653, 1.01514941, 0.92994903, 1.09051768,\n",
              "       1.36629032, 1.27281836, 0.90857024, 1.09926047, 1.07879535,\n",
              "       1.37486133, 0.51498465, 1.04730585, 1.02883756, 0.89114187,\n",
              "       1.05482101, 1.08260383, 1.28094735, 0.98632698, 1.02557771,\n",
              "       1.65651263, 0.95319902, 0.8609072 , 1.46504914, 1.92318691,\n",
              "       1.27274322, 0.80375883, 1.5361008 , 1.24677344, 1.21051362,\n",
              "       0.79065441, 0.90496736, 1.47687137, 1.61192396, 0.71244753,\n",
              "       1.28941517, 1.64602342, 0.99390263, 1.49256293, 1.03185548,\n",
              "       1.16511101, 1.03683067, 1.0052365 , 0.78362373, 0.98922597,\n",
              "       0.75346443, 1.35056894, 0.7527622 , 1.08520894, 1.17924837,\n",
              "       1.30344388, 0.48969529, 1.17011911, 0.88802729, 0.95309258,\n",
              "       1.6123985 , 0.54984721, 0.96843228, 1.00613553, 1.14984416,\n",
              "       0.9721766 , 0.39980437, 0.90656204, 1.41550044, 1.0186313 ,\n",
              "       0.76042513, 0.65255508, 1.01531972, 1.01055291, 0.78800339,\n",
              "       1.01157066, 1.37058236, 0.80331802, 0.68046445, 0.78412559,\n",
              "       1.22861539, 1.18859358, 1.19804756, 1.50251209, 1.70875044,\n",
              "       0.54444293, 0.85026187, 0.77415744, 1.03330505, 0.98576944,\n",
              "       1.13733519, 0.73376177, 1.19167965, 1.16174049, 1.66195942,\n",
              "       1.67513329, 0.92576003, 0.86449631, 0.88911953, 1.19743078,\n",
              "       1.00297952, 1.27913732, 0.64437237, 0.98095444, 0.28909047,\n",
              "       1.08648894, 1.47250181, 0.64776057, 0.86832622, 1.20220223,\n",
              "       0.44635068, 1.2208041 , 1.07117271, 1.30542899, 1.58526394,\n",
              "       1.85116561, 1.61850194, 1.13911362, 1.0749684 , 1.26685921,\n",
              "       1.16210404, 0.78939058, 1.44748986, 0.99474264, 1.64248041,\n",
              "       1.25720648, 0.94231082, 1.1300009 , 0.88151497, 0.68187922,\n",
              "       1.31808756, 1.11757776, 0.61196321, 1.23817142, 1.3124178 ,\n",
              "       0.75864792, 1.32749074, 1.14518417, 0.73421352, 1.28991426,\n",
              "       1.15201433, 0.89352872, 1.83533992, 1.22183902, 1.12067254,\n",
              "       1.20263046, 1.32464892, 1.79809376, 0.65328919, 0.56142035,\n",
              "       1.1086555 , 0.61975252, 0.87067197, 1.42614184, 1.0663623 ,\n",
              "       1.38872741, 0.94565144, 0.63344547, 0.8379896 , 0.67542803,\n",
              "       0.95873681, 1.55714805, 1.48476392, 1.11896448, 0.89387607,\n",
              "       0.87827507, 1.0091054 , 0.45635473, 1.12722568, 1.05140704,\n",
              "       0.93436199, 0.98872225, 1.18012072, 1.70562864, 1.15423456,\n",
              "       1.12444009, 1.1611599 , 0.87097513, 1.48485788, 1.10040959,\n",
              "       1.00271977, 1.19008701, 0.61222559, 1.74630573, 1.48293864,\n",
              "       1.33217365, 1.22381436, 1.13884495, 1.16559762, 1.41738342,\n",
              "       1.52626184, 0.88408292, 0.71549803, 0.86482288, 0.85849065,\n",
              "       0.76352293, 1.29051707, 0.14782272, 1.41924376, 1.24551763,\n",
              "       1.33029261, 1.42076356, 1.39521412, 0.95144318, 0.91631524,\n",
              "       1.21330507, 1.35942206, 0.81415571, 0.86934722, 0.88829091,\n",
              "       0.78841898, 1.29584768, 1.75719147, 1.22175536, 1.37575941,\n",
              "       1.23733448, 1.58440437, 1.18634709, 1.05042776, 0.78113052,\n",
              "       0.79315763, 0.29637501, 1.05483542, 0.99050098, 0.91552936,\n",
              "       1.36948805, 1.47898168, 1.31021652, 1.06966397, 0.83427383,\n",
              "       1.24063099, 1.09155642, 1.55789423, 1.20760572, 0.97163971,\n",
              "       0.8821187 , 0.99741762, 1.22464967, 0.75125993, 0.65251199,\n",
              "       0.87533994, 1.31663223, 1.19857943, 1.0733963 , 0.65236964,\n",
              "       1.54813928, 0.29662312, 1.21481418, 0.87069676, 1.39407583,\n",
              "       1.41266258, 1.55118652, 1.7229968 , 0.80009177, 0.96323418,\n",
              "       0.76197418, 1.34279332, 1.48565664, 0.55864401, 1.10010685,\n",
              "       1.4056331 , 1.35337819, 1.41311023, 0.92569387, 1.38794936,\n",
              "       1.0887097 , 0.90236514, 1.06809282, 0.9768564 , 0.73340176,\n",
              "       0.80639537, 1.5520173 , 0.81179605, 0.89380427, 0.96426448,\n",
              "       1.11624588, 0.77220629, 1.41494624, 1.34775183, 1.30475976,\n",
              "       1.11075425, 1.41990128, 0.94362611, 0.97980416, 0.4912962 ,\n",
              "       1.20485325, 0.89294588, 1.45893503, 0.7954098 , 0.96473879,\n",
              "       1.46261495, 0.73423365, 1.03598705, 1.27329913, 0.83406789,\n",
              "       1.39365102, 1.12213149, 1.8650374 , 0.36663639, 0.64788102,\n",
              "       1.05504101, 1.37109085, 1.66422838, 0.97794967, 0.50609282,\n",
              "       1.3497987 , 1.25344919, 1.21669117, 1.48889891, 0.65666622,\n",
              "       0.92496656, 1.49736615, 0.79924463, 1.1845534 , 0.74635278,\n",
              "       1.14387507, 0.86727734, 0.55783624, 0.58793072, 1.87002148,\n",
              "       1.25065646, 0.85246407, 1.00581444, 1.08922341, 1.1889955 ,\n",
              "       0.86114853, 0.44904506, 0.78511458, 1.15618472, 0.81728154,\n",
              "       0.94014514, 1.16546957, 1.30623789, 0.67308513, 0.90442285,\n",
              "       0.84898965, 1.25506906, 0.87972205, 1.33701381, 0.6893349 ,\n",
              "       0.80313385, 1.62272761, 1.28729505, 0.76841205, 0.55459932,\n",
              "       1.15518433, 0.67153197, 0.98854327, 0.94303973, 1.20062473,\n",
              "       1.71828667, 0.73750338, 0.62707193, 0.83528211, 1.10301938,\n",
              "       1.02195807, 0.58851314, 0.89309182, 0.91344471, 0.77893516,\n",
              "       1.43299783, 0.71652851, 0.92613324, 0.42445525, 0.54396983,\n",
              "       1.31756827, 0.73780884, 1.10459995, 1.695031  , 1.32149022,\n",
              "       0.96723547, 1.35926933, 1.41239489, 1.54762248, 1.32389726,\n",
              "       1.60244926, 0.68552019, 0.76673563, 1.49780266, 0.82985058,\n",
              "       1.36566445, 1.01096796, 0.47460549, 1.18035156, 1.64693706,\n",
              "       0.84878392, 1.00163385, 0.79848438, 1.00025124, 0.72318211,\n",
              "       1.45039333, 0.81851136, 1.20559137, 1.27753158, 0.54222883,\n",
              "       1.10564873, 1.22320774, 1.24488849, 1.31180898, 1.14397664,\n",
              "       1.33482652, 0.82907633, 1.1456415 , 1.6775128 , 0.68559047,\n",
              "       1.30177709, 0.60755332, 0.60700254, 1.12877098, 0.9398143 ,\n",
              "       1.66418952, 1.04227482, 0.95930877, 1.14677111, 0.91292   ,\n",
              "       0.70117035, 1.28442614, 0.9595789 , 0.94604764, 1.24513393,\n",
              "       1.18877994, 1.30108914, 0.24494623, 0.8410328 , 1.05377109,\n",
              "       1.33792736, 0.62079684, 1.27348762, 1.30825875, 1.18453035,\n",
              "       1.46089572, 0.73077831, 0.8311072 , 1.13067041, 1.43588829,\n",
              "       1.30256   , 1.27181106, 1.06102944, 0.79442548, 1.51904734,\n",
              "       0.53099612, 1.16668168, 1.68747804, 1.22055512, 1.1657574 ,\n",
              "       1.07518538, 0.80651527, 1.23895765, 0.96527404, 0.90266378,\n",
              "       1.04196342, 1.79393293, 0.60345051, 1.37829914, 1.14187133,\n",
              "       1.29666164, 1.2225917 , 1.32718729, 0.86422929, 0.87390837,\n",
              "       0.8747201 , 0.71592803, 0.87711879, 1.32173872, 1.36523078,\n",
              "       1.02749825, 0.57429365, 0.63232994, 0.5842553 , 0.92900239,\n",
              "       0.7228855 , 1.27988886, 0.77149694, 0.82245691, 1.32076481,\n",
              "       1.27783938, 1.10819108, 1.29068781, 0.52374325, 1.20070785,\n",
              "       1.17594138, 1.09498591, 1.08101792, 1.65107775, 0.79226779,\n",
              "       1.4055293 , 1.25486635, 1.5791789 , 1.16398587, 0.98480201,\n",
              "       1.1579688 , 1.33050715, 1.12866484, 1.05395301, 1.42082024,\n",
              "       1.41008077, 0.9626879 , 1.02555329, 1.47974377, 1.04742546,\n",
              "       0.74098735, 1.18365731, 1.19585169, 1.16869222, 0.61464435,\n",
              "       0.9618581 , 1.62363709, 0.77631484, 0.5159532 , 0.86967863,\n",
              "       1.80083126, 0.9228194 , 0.68522257, 0.53894506, 0.86310232,\n",
              "       0.79395124, 0.63287572, 0.61519757, 0.91837861, 1.52493201,\n",
              "       1.21804262, 1.19177326, 1.16783814, 1.37038377, 1.47151931,\n",
              "       1.15721709, 0.68271741, 1.00246704, 1.0555002 , 1.50815446,\n",
              "       1.38676182, 1.75004478, 1.35679409, 1.0739452 , 0.64075007,\n",
              "       1.10973429, 1.13994607, 0.88342821, 1.40183882, 0.4954538 ,\n",
              "       0.38873704, 0.74361308, 0.83280238, 0.82566844, 0.91082066,\n",
              "       1.33931175, 1.05760235, 0.80202355, 1.03527556, 1.09478045,\n",
              "       1.65711961, 0.83334302, 1.0085039 , 1.28888719, 1.09864358,\n",
              "       1.15397917, 1.19697348, 0.70037876, 1.97242192, 0.83929999,\n",
              "       1.37066675, 1.21709   , 0.56359106, 0.91621376, 0.94011386,\n",
              "       1.26219712, 1.05999784, 1.16598131, 1.32671187, 1.38471925,\n",
              "       0.63969458, 0.60880046, 1.21596449, 0.71591691, 0.928804  ,\n",
              "       0.58768826, 1.49320755, 1.51448263, 0.34581099, 0.87038338,\n",
              "       1.08015163, 1.47146111, 1.1265195 , 1.10475906, 1.3063732 ,\n",
              "       1.06625712, 0.98103521, 1.22431984, 1.23037857, 0.75686112,\n",
              "       0.92043176, 0.94242899, 0.79543596, 0.86398402, 0.71261219,\n",
              "       0.56031086, 0.64430752, 1.07630269, 0.72059306, 0.38907242,\n",
              "       0.70315563, 1.18256449, 1.48485957, 1.10037204, 0.77442932,\n",
              "       1.86928348, 1.41177218, 0.92263889, 1.29792087, 1.82207188,\n",
              "       1.364234  , 0.65673389, 0.70699804, 1.65560601, 0.73782095,\n",
              "       0.93027278, 1.15654762, 1.18803396, 1.27330478, 1.11979881,\n",
              "       0.92915769, 1.40580347, 1.02960092, 0.82303586, 1.03029859,\n",
              "       1.44238501, 0.84920433, 0.9172027 , 1.22288229, 0.87972744,\n",
              "       1.4962407 , 1.08237412, 0.83494209, 1.11879092, 0.84261225,\n",
              "       1.45380434, 1.26678354, 1.33009494, 0.95857815, 0.84739478,\n",
              "       0.91550998, 1.40628629, 1.14135933, 1.0088353 , 0.84947401,\n",
              "       1.5140398 , 0.74243591, 0.78191109, 1.10354194, 1.00469691,\n",
              "       1.46217748, 0.63692164, 1.41514178, 1.52962908, 0.91345546,\n",
              "       1.13497505, 1.03186061, 0.62309153, 0.80458843, 0.78455135,\n",
              "       1.64206709])"
            ]
          },
          "metadata": {},
          "execution_count": 511
        }
      ]
    },
    {
      "cell_type": "code",
      "metadata": {
        "colab": {
          "base_uri": "https://localhost:8080/"
        },
        "id": "ydbu3OV3CYxB",
        "outputId": "e51e3a24-ba3b-4abf-b06b-607c42f354fc"
      },
      "source": [
        "x1[y1==0,0][:,1]"
      ],
      "execution_count": 512,
      "outputs": [
        {
          "output_type": "execute_result",
          "data": {
            "text/plain": [
              "array([ 6.57422101e-01,  3.85039947e-01,  5.14921659e-01,  8.36495714e-01,\n",
              "        2.25741546e-01,  2.29803864e-01,  4.33626428e-01,  1.42427597e-01,\n",
              "        6.33377343e-02,  5.06940747e-01,  5.07279108e-01,  9.98313126e-01,\n",
              "        2.78872223e-01,  1.20224718e+00,  4.89360630e-01,  9.95096356e-02,\n",
              "        1.86829614e-01,  6.54286386e-01,  2.49572308e-01,  9.59368508e-01,\n",
              "        1.05800480e+00,  4.99618807e-01,  8.04190289e-01,  1.27943014e-01,\n",
              "        4.06058109e-01,  5.04619612e-01,  7.01083985e-01,  5.18101743e-01,\n",
              "        2.88442993e-01, -1.15133376e-02,  3.94892842e-01,  2.22432143e-01,\n",
              "        4.28958731e-01,  4.41103433e-01, -2.16998185e-02,  4.79888050e-01,\n",
              "        5.61978069e-01,  5.27882665e-01,  3.29882583e-01,  8.85996700e-02,\n",
              "        9.77513638e-01,  1.19272936e-01,  3.95775046e-01,  1.08771315e+00,\n",
              "        1.20012231e+00,  7.17977916e-01,  8.08704303e-01,  8.42462187e-01,\n",
              "        8.27455500e-01,  1.40264002e+00,  8.56146941e-01,  2.48327025e-01,\n",
              "        5.89171276e-01,  1.01833374e+00,  2.88218374e-01,  6.84658726e-01,\n",
              "        8.53293433e-01,  5.06186288e-01,  3.43240827e-01, -1.51807109e-01,\n",
              "        3.76068195e-01,  2.55396811e-01,  4.07173289e-01,  7.15675616e-01,\n",
              "        2.42332347e-01,  4.39744698e-01,  2.60395719e-01,  9.47614497e-01,\n",
              "        4.31211794e-01,  4.96948614e-01,  2.83145711e-01,  2.17035026e-01,\n",
              "        3.35794502e-01,  7.76464504e-01,  3.72892189e-01,  8.65870282e-01,\n",
              "       -2.65218828e-01,  4.33369972e-01,  2.92032199e-01, -1.17331935e-01,\n",
              "        4.23964304e-01,  6.24424896e-01,  7.50695454e-01,  3.21687732e-02,\n",
              "        5.46415192e-01,  3.04513400e-01,  1.58515462e-01,  7.27320223e-01,\n",
              "        4.56158078e-01, -8.06284433e-03,  7.26007048e-01,  7.46085718e-01,\n",
              "       -4.25295373e-02,  1.61764492e-01,  1.57899654e-01,  6.53089515e-01,\n",
              "        3.14565132e-01,  5.51667732e-01,  4.10241856e-02,  1.67587360e-01,\n",
              "        5.10032127e-01,  4.58231820e-01, -1.67701542e-01,  2.47889113e-01,\n",
              "        6.57548560e-01,  4.22288364e-01,  1.03596035e+00,  2.40423401e-01,\n",
              "       -1.98836541e-01,  4.09466351e-01,  7.68276864e-01,  5.69914485e-01,\n",
              "        6.27215994e-01,  4.31961431e-01,  6.83549861e-01,  1.70683856e-01,\n",
              "        2.80654397e-01,  5.55199574e-01,  4.25989897e-01,  1.86327319e-01,\n",
              "        8.07580257e-02,  5.18948784e-01,  4.60979669e-01,  2.91215849e-01,\n",
              "        6.15855125e-01,  1.02414146e-01,  6.76039406e-01, -7.09559525e-02,\n",
              "        5.37027350e-01,  8.16182040e-01,  5.24872555e-01,  7.87333116e-01,\n",
              "        8.90430106e-01,  5.58018668e-01,  8.10638044e-01,  3.71722960e-01,\n",
              "        6.21501684e-01,  8.57875490e-01,  2.75013824e-01, -2.13852873e-01,\n",
              "        6.76732592e-01,  2.75946150e-01,  7.37013604e-01,  1.11337071e-01,\n",
              "        6.36450423e-01,  3.96476786e-01,  6.79020375e-01,  1.16310188e+00,\n",
              "        1.52112721e-01,  2.30377366e-01,  1.24040122e-01,  8.55967473e-01,\n",
              "        1.19001200e+00,  1.51589184e-01, -1.78110227e-02,  6.26600860e-01,\n",
              "        7.00079521e-02,  8.22152278e-01,  3.63589756e-01,  4.34768753e-01,\n",
              "        5.12250115e-01, -5.60752054e-02,  3.14778569e-01,  7.58866553e-01,\n",
              "        4.83529224e-01, -5.72676770e-02,  3.79274321e-01,  6.10202780e-01,\n",
              "        4.83469609e-01,  4.66809303e-01,  9.07492495e-01,  1.59223572e-01,\n",
              "        1.67495086e-01,  2.26686496e-01, -1.06467719e-01, -1.20530070e-01,\n",
              "        6.34774922e-01,  5.54874144e-01,  2.12057398e-01,  5.56737762e-01,\n",
              "        4.04588039e-01,  2.67238463e-01,  6.40623209e-01,  9.09658140e-01,\n",
              "        1.74572240e-01,  1.16019373e+00,  2.81472165e-02,  3.74972938e-01,\n",
              "        4.10496079e-01,  1.25646446e+00,  5.95045407e-01,  3.42845353e-01,\n",
              "        4.30168660e-01,  1.32728510e+00,  7.24291633e-02,  1.13536897e+00,\n",
              "        4.22576738e-01,  8.18942815e-01,  7.06504297e-01,  1.07577048e+00,\n",
              "        1.15748034e+00,  5.26066172e-01,  6.96828534e-03,  7.73388868e-01,\n",
              "        2.77471109e-01,  9.89341787e-01,  3.40880152e-01,  8.21298525e-01,\n",
              "        1.04794613e+00,  1.70644922e-01,  8.78642640e-01,  6.95457369e-01,\n",
              "        2.61461348e-01,  1.85874421e-01,  4.00196003e-01,  3.24543128e-01,\n",
              "        5.44322474e-01,  5.17314200e-01,  9.62582484e-01,  1.90937942e-03,\n",
              "        5.53511115e-01,  3.15687376e-02,  4.07988673e-01,  7.71776935e-01,\n",
              "        5.48754629e-01,  9.27513983e-01,  3.89269639e-01,  9.47617013e-01,\n",
              "       -8.81204405e-02,  1.23865668e+00,  4.16702443e-01,  7.43032293e-01,\n",
              "        5.16083835e-01,  1.03356704e+00, -7.35193294e-06,  9.76476537e-01,\n",
              "       -3.10998700e-02,  7.46229741e-01,  1.94209778e-01,  4.54583706e-01,\n",
              "        3.91063417e-01,  3.97342575e-01,  3.36922365e-01,  8.62800339e-01,\n",
              "        4.81926000e-01,  4.52602052e-01,  5.99634346e-01,  4.49990544e-01,\n",
              "        1.11137394e+00,  9.12641630e-03,  1.52302215e-01,  1.32608072e-01,\n",
              "        9.40778799e-01,  6.08106133e-01,  8.13364722e-01,  4.99675204e-01,\n",
              "        4.04724926e-01,  6.53412707e-01,  3.35049064e-01,  1.12978032e-01,\n",
              "        1.02922627e+00,  5.78242366e-01,  3.40330410e-01,  3.98421289e-01,\n",
              "       -9.35381417e-02,  4.36797153e-01,  5.28489177e-01,  3.26372293e-01,\n",
              "        4.77990933e-01,  1.44697203e-02,  1.84744756e-01,  2.93931842e-01,\n",
              "        7.18779736e-01,  5.88007152e-01,  5.07170653e-02,  2.70636266e-01,\n",
              "        1.30948497e+00,  3.19898419e-01,  7.71235113e-01,  8.26496021e-01,\n",
              "        1.36490704e-01, -7.10377417e-02,  9.09805425e-01,  6.14235505e-02,\n",
              "        5.56060925e-01,  5.83063758e-01,  7.19345520e-01,  2.63508932e-01,\n",
              "        5.04238750e-02,  8.49630990e-02,  1.14909657e-01,  8.37255863e-01,\n",
              "        5.53563267e-02,  8.31467144e-01,  2.30365082e-01,  8.55902782e-01,\n",
              "        6.84047466e-01,  8.41247634e-01,  2.59074617e-01,  3.30830922e-01,\n",
              "        2.74821969e-01,  6.26852252e-01,  6.66769266e-01,  2.73081663e-01,\n",
              "        7.88458573e-01,  6.78271704e-01,  1.02880448e+00,  2.89853113e-01,\n",
              "        7.86411230e-01,  3.84749815e-01,  3.90171447e-01,  2.47280923e-01,\n",
              "        1.66075685e-01,  6.53098555e-01,  9.61669029e-01,  2.50621559e-01,\n",
              "        3.44338890e-01,  7.82946205e-01,  1.73789671e-02,  2.75523571e-01,\n",
              "        7.53708144e-01,  6.66191785e-01,  9.06792096e-02,  5.13702815e-02,\n",
              "        2.53220630e-01,  9.92970357e-02,  3.56380253e-01,  6.11699634e-01,\n",
              "        1.98612425e-01,  6.46505460e-01,  6.34395073e-01,  5.44425838e-01,\n",
              "        6.45819291e-01,  5.70745642e-01,  5.68689040e-01,  1.04187585e+00,\n",
              "        5.91823702e-01,  7.39273437e-01,  6.17241506e-01,  2.38203053e-01,\n",
              "        6.88844020e-01,  1.43666276e+00,  8.83230528e-01,  2.36426081e-01,\n",
              "        4.37038005e-02,  8.72562282e-02,  4.16802722e-01,  6.29487018e-01,\n",
              "        3.31887259e-01,  1.03220787e+00,  6.49088293e-01,  1.67718612e-01,\n",
              "        3.72966467e-02,  8.00547307e-01,  9.75698111e-01,  1.94054564e-01,\n",
              "        2.67933241e-01,  1.31446480e-01,  6.09384933e-01,  3.06962567e-01,\n",
              "        3.12553787e-01,  1.33233595e-01,  1.01221085e-01,  1.06632069e+00,\n",
              "       -8.41289583e-02,  8.52587692e-01,  2.67392172e-01,  2.53428055e-01,\n",
              "        2.81602952e-01, -1.03660510e-02,  3.23541940e-02,  3.28404217e-01,\n",
              "        3.83830586e-01,  2.39812480e-02,  1.45136277e-01,  3.29158553e-01,\n",
              "        4.52981295e-01,  3.10063695e-01, -6.64993583e-02,  4.11905392e-01,\n",
              "        2.61423803e-01,  1.80299254e-01,  2.66521700e-01,  7.46835137e-01,\n",
              "        4.96436926e-01,  7.80602111e-01,  7.99964923e-01,  8.67156014e-01,\n",
              "        4.24601387e-01,  8.89967145e-01,  3.22624139e-01,  5.82590946e-01,\n",
              "        1.48077808e+00,  3.92087334e-01,  2.18325390e-01,  3.65883967e-01,\n",
              "        3.54097463e-01,  1.90090310e-01,  3.39673158e-01,  5.58517667e-01,\n",
              "        3.43194122e-01,  3.02836879e-01,  6.40374554e-01,  4.32814536e-01,\n",
              "        4.68589890e-01,  6.96228088e-01,  1.46939490e-01,  1.92200905e-01,\n",
              "       -2.00871680e-01,  8.63559948e-02,  2.37598042e-01,  6.33275090e-01,\n",
              "        2.52763861e-01,  3.09770587e-01,  3.71917551e-01,  2.02218932e-01,\n",
              "        7.70874404e-01,  4.04339674e-01,  3.46372926e-01,  9.01494794e-02,\n",
              "        3.17549591e-01,  9.94091186e-02,  7.29150040e-01,  4.70293616e-01,\n",
              "        4.54578027e-01,  9.48308498e-01,  6.84096983e-01,  4.18320245e-01,\n",
              "        3.21942479e-01,  5.59302491e-02,  2.17896569e-01,  8.31896076e-01,\n",
              "        1.54321596e-02,  6.61743737e-01,  2.68380709e-01,  3.41260620e-01,\n",
              "        2.45824952e-01,  1.18549900e-02,  5.37896099e-01,  4.09931256e-01,\n",
              "        7.71052420e-01,  3.50120743e-01,  1.18456048e-01,  8.43144339e-01,\n",
              "        1.49211921e-01,  5.42888413e-01,  5.43828501e-01,  3.11927645e-01,\n",
              "        2.76001506e-01,  4.19597778e-01,  6.14389637e-01,  2.21637136e-01,\n",
              "        1.93323534e-01,  7.96512593e-02,  4.94051889e-01,  2.88211778e-01,\n",
              "        3.75613006e-01,  3.16960100e-01, -1.67989989e-02, -2.16190430e-01,\n",
              "        7.24406244e-01, -2.43503535e-01,  8.30685303e-01,  6.86863292e-01,\n",
              "        2.68923142e-01,  5.58280014e-01,  2.95172311e-01,  6.34191656e-02,\n",
              "        5.47649096e-01,  5.47327745e-01,  7.37206784e-01,  5.82183644e-01,\n",
              "        2.92281500e-01,  8.14880395e-01,  2.00155198e-01,  1.59226741e-01,\n",
              "        5.70254226e-01,  7.20150727e-01,  4.51743219e-01,  5.04887309e-01,\n",
              "        5.20124960e-01,  7.30595520e-01,  5.06730729e-01,  4.84755890e-01,\n",
              "        3.58698199e-01, -8.94316399e-02, -8.70687464e-02,  6.28946765e-01,\n",
              "        8.86343237e-01,  1.29387195e-01,  3.18236707e-01,  9.08054758e-01,\n",
              "        7.37253020e-01,  7.72633849e-01,  1.22865203e+00,  1.08109815e+00,\n",
              "        6.86079745e-01,  5.40521040e-01,  3.91148806e-01,  3.97812533e-01,\n",
              "        3.56687505e-01,  1.58792702e-01,  2.22021304e-01,  4.26596241e-01,\n",
              "       -5.59149654e-02,  4.18246376e-01,  2.48386588e-01,  4.98850569e-01,\n",
              "        8.29847349e-01,  4.90687163e-01,  1.16912798e-01,  8.28605570e-01,\n",
              "        3.12885663e-01,  3.76105074e-01,  5.87324250e-01,  3.21778399e-01,\n",
              "        7.31476990e-01,  6.76853922e-01,  2.30530832e-01,  6.44767111e-01,\n",
              "        2.64187650e-01,  7.18193149e-01,  5.02298590e-01,  1.75785563e-01,\n",
              "        8.35341601e-02,  6.83024387e-01,  7.93507294e-01,  5.29628707e-01,\n",
              "        4.21680886e-01,  4.32536692e-01,  3.43227345e-01,  8.11685355e-01,\n",
              "        7.11616414e-01,  6.08452393e-01,  2.51523859e-01,  7.51971291e-01,\n",
              "        2.73994957e-01,  4.68068301e-01,  5.65260700e-01, -2.71724212e-02,\n",
              "        2.13445105e-01,  6.00217645e-01,  4.91770618e-01,  9.56799309e-01,\n",
              "       -7.84959178e-03, -1.56440422e-01,  4.10982536e-01,  8.28487999e-01,\n",
              "        9.71133686e-02,  4.64476025e-01,  9.97248929e-01,  8.85041214e-01,\n",
              "        1.12708877e+00,  5.25564300e-01,  3.98216555e-01,  5.88147133e-01,\n",
              "        6.27247178e-01, -3.17269578e-02,  2.46758012e-01,  9.32091563e-01,\n",
              "       -6.84650007e-03,  7.70271002e-01,  2.54053444e-02,  2.97833393e-01,\n",
              "        1.71989439e-01,  8.42352938e-01,  5.13954057e-01,  3.56615225e-01,\n",
              "        3.80422217e-01,  5.02178568e-01,  6.13858203e-01,  3.31259177e-01,\n",
              "       -5.62489244e-02,  6.27254967e-01,  9.11535673e-01,  1.81322607e-01,\n",
              "        3.48603999e-01,  5.42991841e-01,  5.56881287e-01,  5.81025635e-01,\n",
              "       -5.15801118e-02,  9.23152760e-01,  4.19140026e-01,  1.92181138e-01,\n",
              "        4.24051734e-01,  3.60879640e-01,  2.58477472e-01,  8.72116808e-01,\n",
              "        3.29317022e-01,  7.58185907e-01, -2.54099320e-02,  5.49839947e-01,\n",
              "        7.55416538e-01,  3.44149581e-01,  8.58976773e-01,  4.00222585e-01,\n",
              "        3.04543420e-01, -7.00424134e-02,  4.54187098e-01,  4.55527939e-01,\n",
              "        1.94114350e-01, -6.55700062e-02,  3.20958295e-01, -3.65629866e-02,\n",
              "        6.74576678e-01,  9.08336279e-01,  1.96424386e-01,  1.19085899e+00,\n",
              "        3.64339807e-01,  4.18121533e-01,  6.90547623e-01,  8.39851592e-01,\n",
              "        5.18479051e-01,  4.87772175e-01,  6.70188221e-01,  6.54159478e-01,\n",
              "        2.82468423e-01, -2.09443412e-01,  9.40993541e-01,  5.19119782e-01,\n",
              "        4.76031914e-01,  6.38192905e-01, -2.96946452e-01,  1.34420496e-01,\n",
              "        5.52365368e-01,  7.38702434e-01,  2.44319411e-01,  2.36483976e-01,\n",
              "        1.57800836e-01,  6.87317505e-01,  4.07789764e-01,  2.32767734e-01,\n",
              "        1.20222931e-01,  2.43700945e-01,  1.69308531e-01,  8.99773019e-01,\n",
              "        8.53322437e-01,  2.40881181e-01,  3.88637580e-01,  1.79403318e-01,\n",
              "        1.06603092e+00,  2.36554428e-01,  4.49690894e-01,  7.14440160e-01,\n",
              "        2.60123207e-01,  5.85325694e-02,  8.88510574e-01,  5.21645985e-01,\n",
              "        3.53116752e-01,  6.57959829e-01,  3.73185558e-01,  1.88562179e-01,\n",
              "        2.55916719e-01,  7.59697914e-01,  8.02596984e-01,  5.14708494e-01,\n",
              "       -1.80306423e-01,  3.97377583e-01,  5.16976537e-01,  6.46708702e-01,\n",
              "        7.91159684e-01,  4.19893849e-01,  4.41446324e-01, -2.60322612e-01,\n",
              "       -1.46413134e-01,  3.64804975e-01])"
            ]
          },
          "metadata": {},
          "execution_count": 512
        }
      ]
    },
    {
      "cell_type": "code",
      "metadata": {
        "colab": {
          "base_uri": "https://localhost:8080/",
          "height": 299
        },
        "id": "bT9-kEI7NAnR",
        "outputId": "0d6ea858-2828-46c6-a846-6a41a0858ddf"
      },
      "source": [
        "x1 = (train_data).numpy()\n",
        "y1 = np.array(train_label)\n",
        "\n",
        "plt.scatter(x1[y1==0,0][:,0], x1[y1==0,0][:,1], label='class 0')\n",
        "plt.scatter(x1[y1==1,0][:,0], x1[y1==1,0][:,1], label='class 1')\n",
        "plt.scatter(x1[y1==2,0][:,0], x1[y1==2,0][:,1], label='class 2')\n",
        "plt.legend()\n",
        "plt.title(\"dataset4 CIN with alpha = 1/\"+str(m))"
      ],
      "execution_count": 513,
      "outputs": [
        {
          "output_type": "execute_result",
          "data": {
            "text/plain": [
              "Text(0.5, 1.0, 'dataset4 CIN with alpha = 1/10')"
            ]
          },
          "metadata": {},
          "execution_count": 513
        },
        {
          "output_type": "display_data",
          "data": {
            "image/png": "[encoded data removed]",
            "text/plain": [
              "<Figure size 432x288 with 1 Axes>"
            ]
          },
          "metadata": {
            "needs_background": "light"
          }
        }
      ]
    },
    {
      "cell_type": "code",
      "metadata": {
        "colab": {
          "base_uri": "https://localhost:8080/",
          "height": 299
        },
        "id": "Sc8W2N7LQQ_l",
        "outputId": "5a2dfc1b-1e89-4e37-f361-48022507ce44"
      },
      "source": [
        "x1 = (test_data).numpy()\n",
        "y1 = np.array(test_label)\n",
        "\n",
        "plt.scatter(x1[y1==0,0][:,0], x1[y1==0,0][:,1], label='class 0')\n",
        "plt.scatter(x1[y1==1,0][:,0], x1[y1==1,0][:,1], label='class 1')\n",
        "plt.scatter(x1[y1==2,0][:,0], x1[y1==2,0][:,1], label='class 2')\n",
        "plt.legend()\n",
        "plt.title(\"test dataset4\")"
      ],
      "execution_count": 514,
      "outputs": [
        {
          "output_type": "execute_result",
          "data": {
            "text/plain": [
              "Text(0.5, 1.0, 'test dataset4')"
            ]
          },
          "metadata": {},
          "execution_count": 514
        },
        {
          "output_type": "display_data",
          "data": {
            "image/png": "[encoded data removed]",
            "text/plain": [
              "<Figure size 432x288 with 1 Axes>"
            ]
          },
          "metadata": {
            "needs_background": "light"
          }
        }
      ]
    },
    {
      "cell_type": "code",
      "metadata": {
        "id": "yL0BRf8er0TX"
      },
      "source": [
        "class MosaicDataset(Dataset):\n",
        "  \"\"\"MosaicDataset dataset.\"\"\"\n",
        "\n",
        "  def __init__(self, mosaic_list_of_images, mosaic_label):\n",
        "    \"\"\"\n",
        "      Args:\n",
        "        csv_file (string): Path to the csv file with annotations.\n",
        "        root_dir (string): Directory with all the images.\n",
        "        transform (callable, optional): Optional transform to be applied\n",
        "            on a sample.\n",
        "    \"\"\"\n",
        "    self.mosaic = mosaic_list_of_images\n",
        "    self.label = mosaic_label\n",
        "    #self.fore_idx = fore_idx\n",
        "    \n",
        "  def __len__(self):\n",
        "    return len(self.label)\n",
        "\n",
        "  def __getitem__(self, idx):\n",
        "    return self.mosaic[idx] , self.label[idx] #, self.fore_idx[idx]\n",
        "\n"
      ],
      "execution_count": 515,
      "outputs": []
    },
    {
      "cell_type": "code",
      "metadata": {
        "colab": {
          "base_uri": "https://localhost:8080/"
        },
        "id": "4KsrW9qL9xgS",
        "outputId": "0a65f154-4e9c-45b9-885a-a7c31e6bada0"
      },
      "source": [
        "train_data[0].shape, train_data[0]"
      ],
      "execution_count": 516,
      "outputs": [
        {
          "output_type": "execute_result",
          "data": {
            "text/plain": [
              "(torch.Size([1, 2]), tensor([[1.4207, 0.6244]], dtype=torch.float64))"
            ]
          },
          "metadata": {},
          "execution_count": 516
        }
      ]
    },
    {
      "cell_type": "code",
      "metadata": {
        "id": "EY2l62APygaV"
      },
      "source": [
        "batch = 200\n",
        "\n",
        "traindata_1 = MosaicDataset(train_data, train_label )\n",
        "trainloader_1 = DataLoader( traindata_1 , batch_size= batch ,shuffle=True)\n"
      ],
      "execution_count": 517,
      "outputs": []
    },
    {
      "cell_type": "code",
      "metadata": {
        "id": "9suUslCj8YZK"
      },
      "source": [
        "testdata_1 = MosaicDataset(test_data, test_label )\n",
        "testloader_1 = DataLoader( testdata_1 , batch_size= batch ,shuffle=False)\n"
      ],
      "execution_count": 518,
      "outputs": []
    },
    {
      "cell_type": "code",
      "metadata": {
        "id": "Nh3mBQHZ8bEj"
      },
      "source": [
        "# testdata_11 = MosaicDataset(test_dataset, labels )\n",
        "# testloader_11 = DataLoader( testdata_11 , batch_size= batch ,shuffle=False)"
      ],
      "execution_count": 519,
      "outputs": []
    },
    {
      "cell_type": "code",
      "metadata": {
        "id": "5_XeIUk0r0Tl"
      },
      "source": [
        "class Whatnet(nn.Module):\n",
        "    def __init__(self):\n",
        "        super(Whatnet,self).__init__()\n",
        "        self.linear1 = nn.Linear(2,50)\n",
        "        self.linear2 = nn.Linear(50,3)\n",
        "\n",
        "        torch.nn.init.xavier_normal_(self.linear1.weight)\n",
        "        torch.nn.init.zeros_(self.linear1.bias)\n",
        "        torch.nn.init.xavier_normal_(self.linear2.weight)\n",
        "        torch.nn.init.zeros_(self.linear2.bias)\n",
        "\n",
        "    def forward(self,x):\n",
        "        x = F.relu(self.linear1(x))\n",
        "        x = (self.linear2(x))\n",
        "\n",
        "        return x[:,0]"
      ],
      "execution_count": 520,
      "outputs": []
    },
    {
      "cell_type": "code",
      "metadata": {
        "id": "pjD2VZuV9Ed4"
      },
      "source": [
        "def calculate_loss(dataloader,model,criter):\n",
        "  model.eval()\n",
        "  r_loss = 0\n",
        "  with torch.no_grad():\n",
        "    for i, data in enumerate(dataloader, 0):\n",
        "      inputs, labels = data\n",
        "      inputs, labels = inputs.to(\"cuda\"),labels.to(\"cuda\")\n",
        "      outputs = model(inputs)\n",
        "      # print(outputs.shape)\n",
        "      loss = criter(outputs, labels)\n",
        "      r_loss += loss.item()\n",
        "  return r_loss/(i+1)"
      ],
      "execution_count": 521,
      "outputs": []
    },
    {
      "cell_type": "code",
      "metadata": {
        "id": "uALi25pmzQHV"
      },
      "source": [
        "def test_all(number, testloader,net):\n",
        "    correct = 0\n",
        "    total = 0\n",
        "    out = []\n",
        "    pred = []\n",
        "    with torch.no_grad():\n",
        "        for data in testloader:\n",
        "            images, labels = data\n",
        "            images, labels = images.to(\"cuda\"),labels.to(\"cuda\")\n",
        "            out.append(labels.cpu().numpy())\n",
        "            outputs= net(images)\n",
        "            _, predicted = torch.max(outputs.data, 1)\n",
        "            pred.append(predicted.cpu().numpy())\n",
        "            total += labels.size(0)\n",
        "            correct += (predicted == labels).sum().item()\n",
        "    \n",
        "    pred = np.concatenate(pred, axis = 0)\n",
        "    out = np.concatenate(out, axis = 0)\n",
        "    print(\"unique out: \",  np.unique(out), \"unique pred: \", np.unique(pred) )\n",
        "    print(\"correct: \", correct, \"total \",  total)\n",
        "    print('Accuracy of the network on the %d test dataset %d: %.2f %%' % (total, number , 100 * correct / total))"
      ],
      "execution_count": 522,
      "outputs": []
    },
    {
      "cell_type": "code",
      "metadata": {
        "id": "4vmNprlPzTjP"
      },
      "source": [
        "def train_all(trainloader, ds_number, testloader_list, lr_list):\n",
        "  \n",
        "  final_loss = []\n",
        "  for LR in lr_list:    \n",
        "    print(\"--\"*20, \"Learning Rate used is\", LR)\n",
        "    \n",
        "    torch.manual_seed(12)\n",
        "    net = Whatnet().double()\n",
        "    net = net.to(\"cuda\")\n",
        "    \n",
        "    criterion_net = nn.CrossEntropyLoss()\n",
        "    optimizer_net = optim.Adam(net.parameters(), lr=0.001 ) #, momentum=0.9)\n",
        "    \n",
        "    acti = []\n",
        "    loss_curi = []\n",
        "    epochs = 1000\n",
        "    running_loss = calculate_loss(trainloader,net,criterion_net)\n",
        "    loss_curi.append(running_loss)\n",
        "    print('epoch: [%d ] loss: %.3f' %(0,running_loss)) \n",
        "    for epoch in range(epochs): # loop over the dataset multiple times\n",
        "        ep_lossi = []\n",
        "\n",
        "        running_loss = 0.0\n",
        "        net.train()\n",
        "        for i, data in enumerate(trainloader, 0):\n",
        "            # get the inputs\n",
        "            inputs, labels = data\n",
        "            inputs, labels = inputs.to(\"cuda\"),labels.to(\"cuda\")\n",
        "\n",
        "            # zero the parameter gradients\n",
        "            optimizer_net.zero_grad()\n",
        "\n",
        "            # forward + backward + optimize\n",
        "            outputs = net(inputs)\n",
        "            # print(outputs.shape)\n",
        "            loss = criterion_net(outputs, labels)\n",
        "            # print statistics\n",
        "            running_loss += loss.item()\n",
        "            loss.backward()\n",
        "            optimizer_net.step()\n",
        "\n",
        "        running_loss = calculate_loss(trainloader,net,criterion_net)\n",
        "        if(epoch%200 == 0):\n",
        "          print('epoch: [%d] loss: %.3f' %(epoch + 1,running_loss)) \n",
        "        loss_curi.append(running_loss)   #loss per epoch\n",
        "        if running_loss<=0.05:\n",
        "          print('epoch: [%d] loss: %.3f' %(epoch + 1,running_loss))\n",
        "          break\n",
        "\n",
        "    print('Finished Training')\n",
        "    \n",
        "    correct = 0\n",
        "    total = 0\n",
        "    with torch.no_grad():\n",
        "        for data in trainloader:\n",
        "            images, labels = data\n",
        "            images, labels = images.to(\"cuda\"), labels.to(\"cuda\")\n",
        "            outputs = net(images)\n",
        "            _, predicted = torch.max(outputs.data, 1)\n",
        "            total += labels.size(0)\n",
        "            correct += (predicted == labels).sum().item()\n",
        "\n",
        "    print('Accuracy of the network on the %d train images: %.2f %%' % (total,  100 * correct / total))\n",
        "    \n",
        "    for i, j in enumerate(testloader_list):\n",
        "        test_all(i+1, j,net)\n",
        "    \n",
        "    print(\"--\"*40)\n",
        "    \n",
        "    final_loss.append(loss_curi) \n",
        "  return final_loss\n",
        "    "
      ],
      "execution_count": 523,
      "outputs": []
    },
    {
      "cell_type": "code",
      "metadata": {
        "id": "Yl41sE8vFERk"
      },
      "source": [
        "train_loss_all=[]\n",
        "\n",
        "testloader_list= [ testloader_1]\n",
        "lr_list = [0.0001, 0.0005, 0.001, 0.005, 0.01, 0.05, 0.1, 0.5 ]"
      ],
      "execution_count": 524,
      "outputs": []
    },
    {
      "cell_type": "code",
      "metadata": {
        "colab": {
          "base_uri": "https://localhost:8080/"
        },
        "id": "5gQoPST5zW2t",
        "outputId": "2ed0c0fb-8d82-43b2-971e-d3d6031e6e25"
      },
      "source": [
        "fin_loss = train_all(trainloader_1, 1, testloader_list, lr_list)\n",
        "train_loss_all.append(fin_loss)"
      ],
      "execution_count": 525,
      "outputs": [
        {
          "output_type": "stream",
          "name": "stdout",
          "text": [
            "---------------------------------------- Learning Rate used is 0.0001\n",
            "epoch: [0 ] loss: 1.083\n",
            "epoch: [1] loss: 1.076\n",
            "epoch: [201] loss: 0.903\n",
            "epoch: [401] loss: 0.902\n",
            "epoch: [601] loss: 0.902\n",
            "epoch: [801] loss: 0.902\n",
            "Finished Training\n",
            "Accuracy of the network on the 2000 train images: 57.75 %\n",
            "unique out:  [0 1 2] unique pred:  [0 1 2]\n",
            "correct:  998 total  1000\n",
            "Accuracy of the network on the 1000 test dataset 1: 99.80 %\n",
            "--------------------------------------------------------------------------------\n",
            "---------------------------------------- Learning Rate used is 0.0005\n",
            "epoch: [0 ] loss: 1.083\n",
            "epoch: [1] loss: 1.076\n",
            "epoch: [201] loss: 0.903\n",
            "epoch: [401] loss: 0.902\n",
            "epoch: [601] loss: 0.902\n",
            "epoch: [801] loss: 0.902\n",
            "Finished Training\n",
            "Accuracy of the network on the 2000 train images: 57.75 %\n",
            "unique out:  [0 1 2] unique pred:  [0 1 2]\n",
            "correct:  998 total  1000\n",
            "Accuracy of the network on the 1000 test dataset 1: 99.80 %\n",
            "--------------------------------------------------------------------------------\n",
            "---------------------------------------- Learning Rate used is 0.001\n",
            "epoch: [0 ] loss: 1.083\n",
            "epoch: [1] loss: 1.076\n",
            "epoch: [201] loss: 0.903\n",
            "epoch: [401] loss: 0.902\n",
            "epoch: [601] loss: 0.902\n",
            "epoch: [801] loss: 0.902\n",
            "Finished Training\n",
            "Accuracy of the network on the 2000 train images: 57.75 %\n",
            "unique out:  [0 1 2] unique pred:  [0 1 2]\n",
            "correct:  998 total  1000\n",
            "Accuracy of the network on the 1000 test dataset 1: 99.80 %\n",
            "--------------------------------------------------------------------------------\n",
            "---------------------------------------- Learning Rate used is 0.005\n",
            "epoch: [0 ] loss: 1.083\n",
            "epoch: [1] loss: 1.076\n",
            "epoch: [201] loss: 0.903\n",
            "epoch: [401] loss: 0.902\n",
            "epoch: [601] loss: 0.902\n",
            "epoch: [801] loss: 0.902\n",
            "Finished Training\n",
            "Accuracy of the network on the 2000 train images: 57.75 %\n",
            "unique out:  [0 1 2] unique pred:  [0 1 2]\n",
            "correct:  998 total  1000\n",
            "Accuracy of the network on the 1000 test dataset 1: 99.80 %\n",
            "--------------------------------------------------------------------------------\n",
            "---------------------------------------- Learning Rate used is 0.01\n",
            "epoch: [0 ] loss: 1.083\n",
            "epoch: [1] loss: 1.076\n",
            "epoch: [201] loss: 0.903\n",
            "epoch: [401] loss: 0.902\n",
            "epoch: [601] loss: 0.902\n",
            "epoch: [801] loss: 0.902\n",
            "Finished Training\n",
            "Accuracy of the network on the 2000 train images: 57.75 %\n",
            "unique out:  [0 1 2] unique pred:  [0 1 2]\n",
            "correct:  998 total  1000\n",
            "Accuracy of the network on the 1000 test dataset 1: 99.80 %\n",
            "--------------------------------------------------------------------------------\n",
            "---------------------------------------- Learning Rate used is 0.05\n",
            "epoch: [0 ] loss: 1.083\n",
            "epoch: [1] loss: 1.076\n",
            "epoch: [201] loss: 0.903\n",
            "epoch: [401] loss: 0.902\n",
            "epoch: [601] loss: 0.902\n",
            "epoch: [801] loss: 0.902\n",
            "Finished Training\n",
            "Accuracy of the network on the 2000 train images: 57.75 %\n",
            "unique out:  [0 1 2] unique pred:  [0 1 2]\n",
            "correct:  998 total  1000\n",
            "Accuracy of the network on the 1000 test dataset 1: 99.80 %\n",
            "--------------------------------------------------------------------------------\n",
            "---------------------------------------- Learning Rate used is 0.1\n",
            "epoch: [0 ] loss: 1.083\n",
            "epoch: [1] loss: 1.076\n",
            "epoch: [201] loss: 0.903\n",
            "epoch: [401] loss: 0.902\n",
            "epoch: [601] loss: 0.902\n",
            "epoch: [801] loss: 0.902\n",
            "Finished Training\n",
            "Accuracy of the network on the 2000 train images: 57.75 %\n",
            "unique out:  [0 1 2] unique pred:  [0 1 2]\n",
            "correct:  998 total  1000\n",
            "Accuracy of the network on the 1000 test dataset 1: 99.80 %\n",
            "--------------------------------------------------------------------------------\n",
            "---------------------------------------- Learning Rate used is 0.5\n",
            "epoch: [0 ] loss: 1.083\n",
            "epoch: [1] loss: 1.076\n",
            "epoch: [201] loss: 0.903\n",
            "epoch: [401] loss: 0.902\n",
            "epoch: [601] loss: 0.902\n",
            "epoch: [801] loss: 0.902\n",
            "Finished Training\n",
            "Accuracy of the network on the 2000 train images: 57.75 %\n",
            "unique out:  [0 1 2] unique pred:  [0 1 2]\n",
            "correct:  998 total  1000\n",
            "Accuracy of the network on the 1000 test dataset 1: 99.80 %\n",
            "--------------------------------------------------------------------------------\n"
          ]
        }
      ]
    },
    {
      "cell_type": "code",
      "metadata": {
        "id": "In76SYH_zZHV"
      },
      "source": [
        "%matplotlib inline"
      ],
      "execution_count": 526,
      "outputs": []
    },
    {
      "cell_type": "code",
      "metadata": {
        "colab": {
          "base_uri": "https://localhost:8080/"
        },
        "id": "_GsE3qHR_A5c",
        "outputId": "254f1e1b-e204-49f8-eb7d-5d7416ecf0fc"
      },
      "source": [
        "len(fin_loss)"
      ],
      "execution_count": 527,
      "outputs": [
        {
          "output_type": "execute_result",
          "data": {
            "text/plain": [
              "8"
            ]
          },
          "metadata": {},
          "execution_count": 527
        }
      ]
    },
    {
      "cell_type": "code",
      "metadata": {
        "id": "BS4HtOHEzZ0E",
        "colab": {
          "base_uri": "https://localhost:8080/",
          "height": 297
        },
        "outputId": "25fe3d2f-ed24-4856-e868-e7224be02b2b"
      },
      "source": [
        "for i,j in enumerate(fin_loss):\n",
        "    plt.plot(j,label =\"LR = \"+str(lr_list[i]))\n",
        "    \n",
        "\n",
        "plt.xlabel(\"Epochs\")\n",
        "plt.ylabel(\"Training_loss\")\n",
        "\n",
        "plt.legend(loc='center left', bbox_to_anchor=(1, 0.5))"
      ],
      "execution_count": 528,
      "outputs": [
        {
          "output_type": "execute_result",
          "data": {
            "text/plain": [
              "<matplotlib.legend.Legend at 0x7fab054a6610>"
            ]
          },
          "metadata": {},
          "execution_count": 528
        },
        {
          "output_type": "display_data",
          "data": {
            "image/png": "[encoded data removed]",
            "text/plain": [
              "<Figure size 432x288 with 1 Axes>"
            ]
          },
          "metadata": {
            "needs_background": "light"
          }
        }
      ]
    },
    {
      "cell_type": "code",
      "metadata": {
        "id": "1UbTkfLUINTI"
      },
      "source": [
        ""
      ],
      "execution_count": 528,
      "outputs": []
    }
  ]
}