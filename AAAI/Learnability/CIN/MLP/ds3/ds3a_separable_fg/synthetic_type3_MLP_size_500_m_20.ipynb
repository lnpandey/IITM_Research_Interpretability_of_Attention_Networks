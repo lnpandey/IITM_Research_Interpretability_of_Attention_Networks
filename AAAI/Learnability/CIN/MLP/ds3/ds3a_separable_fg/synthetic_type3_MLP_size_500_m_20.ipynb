{
  "nbformat": 4,
  "nbformat_minor": 0,
  "metadata": {
    "accelerator": "GPU",
    "colab": {
      "name": "synthetic_type3_MLP_m_5.ipynb",
      "provenance": [],
      "collapsed_sections": []
    },
    "kernelspec": {
      "display_name": "Python 3",
      "language": "python",
      "name": "python3"
    },
    "language_info": {
      "codemirror_mode": {
        "name": "ipython",
        "version": 3
      },
      "file_extension": ".py",
      "mimetype": "text/x-python",
      "name": "python",
      "nbconvert_exporter": "python",
      "pygments_lexer": "ipython3",
      "version": "3.6.5"
    }
  },
  "cells": [
    {
      "cell_type": "code",
      "metadata": {
        "colab": {
          "base_uri": "https://localhost:8080/"
        },
        "id": "N2_J4Rw2r0SQ",
        "outputId": "134200f6-9f7c-4555-9e16-d3efb10ca158"
      },
      "source": [
        "import numpy as np\n",
        "import pandas as pd\n",
        "from matplotlib import pyplot as plt\n",
        "from tqdm import tqdm\n",
        "%matplotlib inline\n",
        "from torch.utils.data import Dataset, DataLoader\n",
        "import torch\n",
        "import torchvision\n",
        "\n",
        "import torch.nn as nn\n",
        "import torch.optim as optim\n",
        "from torch.nn import functional as F\n",
        "device = torch.device(\"cuda\" if torch.cuda.is_available() else \"cpu\")\n",
        "print(device)"
      ],
      "execution_count": 670,
      "outputs": [
        {
          "output_type": "stream",
          "name": "stdout",
          "text": [
            "cuda\n"
          ]
        }
      ]
    },
    {
      "cell_type": "code",
      "metadata": {
        "id": "ZTJPyL45DiJ3"
      },
      "source": [
        "m = 20          # 5, 50, 100, 500, 2000"
      ],
      "execution_count": 671,
      "outputs": []
    },
    {
      "cell_type": "code",
      "metadata": {
        "id": "g-do5dZWK5L6"
      },
      "source": [
        "train_size = 500          # 100, 500, 2000, 10000"
      ],
      "execution_count": 672,
      "outputs": []
    },
    {
      "cell_type": "markdown",
      "metadata": {
        "id": "F6fjud_Fr0Sa"
      },
      "source": [
        "# Generate dataset"
      ]
    },
    {
      "cell_type": "code",
      "metadata": {
        "colab": {
          "base_uri": "https://localhost:8080/"
        },
        "id": "CqdXHO0Cr0Sd",
        "outputId": "20358089-886e-4da3-ca9a-0d58f7987bad"
      },
      "source": [
        "np.random.seed(12)\n",
        "y = np.random.randint(0,10,5000)\n",
        "idx= []\n",
        "for i in range(10):\n",
        "    print(i,sum(y==i))\n",
        "    idx.append(y==i)"
      ],
      "execution_count": 673,
      "outputs": [
        {
          "output_type": "stream",
          "name": "stdout",
          "text": [
            "0 530\n",
            "1 463\n",
            "2 494\n",
            "3 517\n",
            "4 488\n",
            "5 497\n",
            "6 493\n",
            "7 507\n",
            "8 492\n",
            "9 519\n"
          ]
        }
      ]
    },
    {
      "cell_type": "code",
      "metadata": {
        "id": "ddhXyODwr0Sk"
      },
      "source": [
        "x = np.zeros((5000,2))"
      ],
      "execution_count": 674,
      "outputs": []
    },
    {
      "cell_type": "code",
      "metadata": {
        "id": "DyV3N2DIr0Sp"
      },
      "source": [
        "np.random.seed(12)\n",
        "x[idx[0],:] = np.random.multivariate_normal(mean = [7,4],cov=[[0.1,0],[0,0.1]],size=sum(idx[0]))\n",
        "x[idx[1],:] = np.random.multivariate_normal(mean = [8,6.5],cov=[[0.1,0],[0,0.1]],size=sum(idx[1]))\n",
        "x[idx[2],:] = np.random.multivariate_normal(mean = [5.5,6.5],cov=[[0.1,0],[0,0.1]],size=sum(idx[2]))\n",
        "x[idx[3],:] = np.random.multivariate_normal(mean = [-1,0],cov=[[0.1,0],[0,0.1]],size=sum(idx[3]))\n",
        "x[idx[4],:] = np.random.multivariate_normal(mean = [0,2],cov=[[0.1,0],[0,0.1]],size=sum(idx[4]))\n",
        "x[idx[5],:] = np.random.multivariate_normal(mean = [1,0],cov=[[0.1,0],[0,0.1]],size=sum(idx[5]))\n",
        "x[idx[6],:] = np.random.multivariate_normal(mean = [0,-1],cov=[[0.1,0],[0,0.1]],size=sum(idx[6]))\n",
        "x[idx[7],:] = np.random.multivariate_normal(mean = [0,0],cov=[[0.1,0],[0,0.1]],size=sum(idx[7]))\n",
        "x[idx[8],:] = np.random.multivariate_normal(mean = [-0.5,-0.5],cov=[[0.1,0],[0,0.1]],size=sum(idx[8]))\n",
        "x[idx[9],:] = np.random.multivariate_normal(mean = [0.4,0.2],cov=[[0.1,0],[0,0.1]],size=sum(idx[9]))"
      ],
      "execution_count": 675,
      "outputs": []
    },
    {
      "cell_type": "code",
      "metadata": {
        "colab": {
          "base_uri": "https://localhost:8080/"
        },
        "id": "qh1mDScsU07I",
        "outputId": "060f459a-63db-4148-a946-a1352fd25162"
      },
      "source": [
        "x[idx[0]][0], x[idx[5]][5] "
      ],
      "execution_count": 676,
      "outputs": [
        {
          "output_type": "execute_result",
          "data": {
            "text/plain": [
              "(array([7.14957125, 3.78451422]), array([0.87756167, 0.00457805]))"
            ]
          },
          "metadata": {},
          "execution_count": 676
        }
      ]
    },
    {
      "cell_type": "code",
      "metadata": {
        "colab": {
          "base_uri": "https://localhost:8080/",
          "height": 287
        },
        "id": "hJ8Jm7YUr0St",
        "outputId": "82bbf533-8fac-46d9-c87c-173f60502f27"
      },
      "source": [
        "for i in range(10):\n",
        "    plt.scatter(x[idx[i],0],x[idx[i],1],label=\"class_\"+str(i))\n",
        "plt.legend(loc='center left', bbox_to_anchor=(1, 0.5))"
      ],
      "execution_count": 677,
      "outputs": [
        {
          "output_type": "execute_result",
          "data": {
            "text/plain": [
              "<matplotlib.legend.Legend at 0x7fab04ca1b90>"
            ]
          },
          "metadata": {},
          "execution_count": 677
        },
        {
          "output_type": "display_data",
          "data": {
            "image/png": "[encoded data removed]",
            "text/plain": [
              "<Figure size 432x288 with 1 Axes>"
            ]
          },
          "metadata": {
            "needs_background": "light"
          }
        }
      ]
    },
    {
      "cell_type": "code",
      "metadata": {
        "colab": {
          "base_uri": "https://localhost:8080/"
        },
        "id": "3lMBZEHNBlF2",
        "outputId": "3730e580-cdc5-409f-e6c0-2168a4acdc90"
      },
      "source": [
        "bg_idx = [ np.where(idx[3] == True)[0], \n",
        "          np.where(idx[4] == True)[0], \n",
        "          np.where(idx[5] == True)[0],\n",
        "          np.where(idx[6] == True)[0], \n",
        "          np.where(idx[7] == True)[0], \n",
        "          np.where(idx[8] == True)[0],\n",
        "          np.where(idx[9] == True)[0]]\n",
        "\n",
        "bg_idx = np.concatenate(bg_idx, axis = 0)\n",
        "bg_idx.shape"
      ],
      "execution_count": 678,
      "outputs": [
        {
          "output_type": "execute_result",
          "data": {
            "text/plain": [
              "(3513,)"
            ]
          },
          "metadata": {},
          "execution_count": 678
        }
      ]
    },
    {
      "cell_type": "code",
      "metadata": {
        "colab": {
          "base_uri": "https://localhost:8080/"
        },
        "id": "blRbGZHeCwXU",
        "outputId": "9eb917c0-d294-419c-e471-a68f56628df1"
      },
      "source": [
        "np.unique(bg_idx).shape"
      ],
      "execution_count": 679,
      "outputs": [
        {
          "output_type": "execute_result",
          "data": {
            "text/plain": [
              "(3513,)"
            ]
          },
          "metadata": {},
          "execution_count": 679
        }
      ]
    },
    {
      "cell_type": "code",
      "metadata": {
        "id": "Y43sWeX7C15F"
      },
      "source": [
        "x = x - np.mean(x[bg_idx], axis = 0, keepdims = True)\n"
      ],
      "execution_count": 680,
      "outputs": []
    },
    {
      "cell_type": "code",
      "metadata": {
        "colab": {
          "base_uri": "https://localhost:8080/"
        },
        "id": "ooII7N6UDWe0",
        "outputId": "cd4acc16-de23-45f3-a567-b7efbe341997"
      },
      "source": [
        "np.mean(x[bg_idx], axis = 0, keepdims = True), np.mean(x, axis = 0, keepdims = True)"
      ],
      "execution_count": 681,
      "outputs": [
        {
          "output_type": "execute_result",
          "data": {
            "text/plain": [
              "(array([[-1.04275003e-16,  6.74571889e-17]]),\n",
              " array([[2.02981967, 1.63582644]]))"
            ]
          },
          "metadata": {},
          "execution_count": 681
        }
      ]
    },
    {
      "cell_type": "code",
      "metadata": {
        "id": "g21bvPRYDL9k"
      },
      "source": [
        "x = x/np.std(x[bg_idx], axis = 0, keepdims = True)"
      ],
      "execution_count": 682,
      "outputs": []
    },
    {
      "cell_type": "code",
      "metadata": {
        "colab": {
          "base_uri": "https://localhost:8080/"
        },
        "id": "GtFvIeHsDZJk",
        "outputId": "cdf54d73-c6a3-4bfe-fdb7-583d3c1dcada"
      },
      "source": [
        "np.std(x[bg_idx], axis = 0, keepdims = True), np.std(x, axis = 0, keepdims = True)"
      ],
      "execution_count": 683,
      "outputs": [
        {
          "output_type": "execute_result",
          "data": {
            "text/plain": [
              "(array([[1., 1.]]), array([[4.89756643, 3.00501566]]))"
            ]
          },
          "metadata": {},
          "execution_count": 683
        }
      ]
    },
    {
      "cell_type": "code",
      "metadata": {
        "colab": {
          "base_uri": "https://localhost:8080/",
          "height": 283
        },
        "id": "8-VLhUfDDeHt",
        "outputId": "ac82abea-8358-4803-e477-60511b968fd3"
      },
      "source": [
        "for i in range(10):\n",
        "    plt.scatter(x[idx[i],0],x[idx[i],1],label=\"class_\"+str(i))\n",
        "plt.legend(loc='center left', bbox_to_anchor=(1, 0.5))"
      ],
      "execution_count": 684,
      "outputs": [
        {
          "output_type": "execute_result",
          "data": {
            "text/plain": [
              "<matplotlib.legend.Legend at 0x7fab04a6a050>"
            ]
          },
          "metadata": {},
          "execution_count": 684
        },
        {
          "output_type": "display_data",
          "data": {
            "image/png": "[encoded data removed]",
            "text/plain": [
              "<Figure size 432x288 with 1 Axes>"
            ]
          },
          "metadata": {
            "needs_background": "light"
          }
        }
      ]
    },
    {
      "cell_type": "code",
      "metadata": {
        "id": "UfFHcZJOr0Sz"
      },
      "source": [
        "foreground_classes = {'class_0','class_1', 'class_2'}\n",
        "\n",
        "background_classes = {'class_3','class_4', 'class_5', 'class_6','class_7', 'class_8', 'class_9'}"
      ],
      "execution_count": 685,
      "outputs": []
    },
    {
      "cell_type": "code",
      "metadata": {
        "colab": {
          "base_uri": "https://localhost:8080/"
        },
        "id": "OplNpNQVr0S2",
        "outputId": "2ef4f4fd-38f1-49c0-c2bb-2bb02665ff49"
      },
      "source": [
        "fg_class  = np.random.randint(0,3)\n",
        "fg_idx = np.random.randint(0,m)\n",
        "train_data=[]\n",
        "a = []\n",
        "fg_instance = np.array([[0.0,0.0]])\n",
        "bg_instance = np.array([[0.0,0.0]])\n",
        "\n",
        "for i in range(m):\n",
        "  if i == fg_idx:\n",
        "    b = np.random.choice(np.where(idx[fg_class]==True)[0],size=1)\n",
        "    fg_instance += x[b]\n",
        "    a.append(x[b])\n",
        "    print(\"foreground \"+str(fg_class)+\" present at \" + str(fg_idx))\n",
        "  else:\n",
        "    bg_class = np.random.randint(3,10)\n",
        "    b = np.random.choice(np.where(idx[bg_class]==True)[0],size=1)\n",
        "    bg_instance += x[b]\n",
        "    a.append(x[b])\n",
        "    print(\"background \"+str(bg_class)+\" present at \" + str(i))\n",
        "\n",
        "a = np.concatenate(a,axis=0)\n",
        "print(a.shape)\n",
        "\n",
        "print(fg_class , fg_idx)"
      ],
      "execution_count": 686,
      "outputs": [
        {
          "output_type": "stream",
          "name": "stdout",
          "text": [
            "background 5 present at 0\n",
            "background 6 present at 1\n",
            "background 9 present at 2\n",
            "background 3 present at 3\n",
            "background 5 present at 4\n",
            "background 7 present at 5\n",
            "background 6 present at 6\n",
            "background 5 present at 7\n",
            "background 3 present at 8\n",
            "background 5 present at 9\n",
            "background 4 present at 10\n",
            "background 7 present at 11\n",
            "background 4 present at 12\n",
            "background 3 present at 13\n",
            "background 9 present at 14\n",
            "background 6 present at 15\n",
            "background 6 present at 16\n",
            "background 3 present at 17\n",
            "foreground 2 present at 18\n",
            "background 8 present at 19\n",
            "(20, 2)\n",
            "2 18\n"
          ]
        }
      ]
    },
    {
      "cell_type": "code",
      "metadata": {
        "colab": {
          "base_uri": "https://localhost:8080/"
        },
        "id": "Rx6cMmR3baVf",
        "outputId": "ed329e6d-4309-449e-a976-4f39bfd6648f"
      },
      "source": [
        "a"
      ],
      "execution_count": 687,
      "outputs": [
        {
          "output_type": "execute_result",
          "data": {
            "text/plain": [
              "array([[ 1.52560273e+00, -1.29848805e-01],\n",
              "       [-4.22650796e-01, -1.20033130e+00],\n",
              "       [ 2.34349307e-01, -2.78664796e-01],\n",
              "       [-9.86087689e-01, -7.51232458e-01],\n",
              "       [ 1.37297554e+00, -3.76733075e-01],\n",
              "       [-8.84692079e-01, -1.11551995e-01],\n",
              "       [ 3.23086410e-01, -1.23774128e+00],\n",
              "       [ 1.37297554e+00, -3.76733075e-01],\n",
              "       [-1.37994224e+00, -1.86927689e-02],\n",
              "       [ 1.18729176e+00, -1.43385686e-01],\n",
              "       [ 1.08414750e+00,  2.21424613e+00],\n",
              "       [ 3.07773579e-01,  5.11134472e-01],\n",
              "       [-5.80062748e-01,  2.56861924e+00],\n",
              "       [-1.57480355e+00,  1.37864198e-01],\n",
              "       [ 8.78834768e-01, -3.18178197e-01],\n",
              "       [ 5.58625839e-02, -1.37825691e+00],\n",
              "       [ 3.52658712e-01, -1.71500720e+00],\n",
              "       [-7.59374170e-01, -4.37189615e-03],\n",
              "       [ 8.64012267e+00,  7.37468589e+00],\n",
              "       [-9.53821465e-01, -7.70258879e-01]])"
            ]
          },
          "metadata": {},
          "execution_count": 687
        }
      ]
    },
    {
      "cell_type": "code",
      "metadata": {
        "colab": {
          "base_uri": "https://localhost:8080/"
        },
        "id": "dEdaFZPQhc7D",
        "outputId": "490dcb2e-8694-4975-c220-fdb4f9765506"
      },
      "source": [
        "fg_instance"
      ],
      "execution_count": 688,
      "outputs": [
        {
          "output_type": "execute_result",
          "data": {
            "text/plain": [
              "array([[8.64012267, 7.37468589]])"
            ]
          },
          "metadata": {},
          "execution_count": 688
        }
      ]
    },
    {
      "cell_type": "code",
      "metadata": {
        "colab": {
          "base_uri": "https://localhost:8080/"
        },
        "id": "IqdAVbG1hftM",
        "outputId": "7c96dda8-c71e-4e71-f4e1-dd8987ac3944"
      },
      "source": [
        "bg_instance"
      ],
      "execution_count": 689,
      "outputs": [
        {
          "output_type": "execute_result",
          "data": {
            "text/plain": [
              "array([[ 1.15412368, -3.37912427]])"
            ]
          },
          "metadata": {},
          "execution_count": 689
        }
      ]
    },
    {
      "cell_type": "code",
      "metadata": {
        "colab": {
          "base_uri": "https://localhost:8080/"
        },
        "id": "Ho98SSXEhx6L",
        "outputId": "8758c2f4-c5b0-401e-eaca-f802e18e7d43"
      },
      "source": [
        "(fg_instance+bg_instance)/m , m"
      ],
      "execution_count": 690,
      "outputs": [
        {
          "output_type": "execute_result",
          "data": {
            "text/plain": [
              "(array([[0.48971232, 0.19977808]]), 20)"
            ]
          },
          "metadata": {},
          "execution_count": 690
        }
      ]
    },
    {
      "cell_type": "code",
      "metadata": {
        "id": "jqbvfbwVr0TN"
      },
      "source": [
        "# mosaic_list_of_images =[]\n",
        "# mosaic_label = []\n",
        "train_label=[]\n",
        "fore_idx=[]\n",
        "train_data = []\n",
        "for j in range(train_size):\n",
        "  np.random.seed(j)\n",
        "  fg_instance = torch.zeros([2], dtype=torch.float64) #np.array([[0.0,0.0]])\n",
        "  bg_instance = torch.zeros([2], dtype=torch.float64) #np.array([[0.0,0.0]])\n",
        "  # a=[]\n",
        "\n",
        "  for i in range(m):\n",
        "    if i == fg_idx:\n",
        "      fg_class  = np.random.randint(0,3)\n",
        "      b = np.random.choice(np.where(idx[fg_class]==True)[0],size=1)\n",
        "      fg_instance += x[b]\n",
        "      # a.append(x[b])\n",
        "      # print(\"foreground \"+str(fg_class)+\" present at \" + str(fg_idx))\n",
        "    else:\n",
        "      bg_class = np.random.randint(3,10)\n",
        "      b = np.random.choice(np.where(idx[bg_class]==True)[0],size=1)\n",
        "      bg_instance += x[b]\n",
        "      # a.append(x[b])\n",
        "      # print(\"background \"+str(bg_class)+\" present at \" + str(i))\n",
        "  train_data.append((fg_instance+bg_instance)/m)\n",
        "  # a = np.concatenate(a,axis=0)\n",
        "  # mosaic_list_of_images.append(np.reshape(a,(2*m,1)))\n",
        "  train_label.append(fg_class)\n",
        "  fore_idx.append(fg_idx)"
      ],
      "execution_count": 691,
      "outputs": []
    },
    {
      "cell_type": "code",
      "metadata": {
        "colab": {
          "base_uri": "https://localhost:8080/"
        },
        "id": "X_g6lxkVjN0N",
        "outputId": "91171f62-4616-4d31-af8c-93dfa720b6fb"
      },
      "source": [
        " train_data[0], train_label[0]"
      ],
      "execution_count": 692,
      "outputs": [
        {
          "output_type": "execute_result",
          "data": {
            "text/plain": [
              "(tensor([[0.6208, 0.1138]], dtype=torch.float64), 1)"
            ]
          },
          "metadata": {},
          "execution_count": 692
        }
      ]
    },
    {
      "cell_type": "code",
      "metadata": {
        "colab": {
          "base_uri": "https://localhost:8080/"
        },
        "id": "Tz5wQCevobYr",
        "outputId": "fc4ffbb2-7d19-4cd7-edb6-a7120d11a07f"
      },
      "source": [
        "train_data = torch.stack(train_data, axis=0)\n",
        "train_data.shape, len(train_label)"
      ],
      "execution_count": 693,
      "outputs": [
        {
          "output_type": "execute_result",
          "data": {
            "text/plain": [
              "(torch.Size([500, 1, 2]), 500)"
            ]
          },
          "metadata": {},
          "execution_count": 693
        }
      ]
    },
    {
      "cell_type": "code",
      "metadata": {
        "id": "CVAlImGYA49A"
      },
      "source": [
        "test_label=[]\n",
        "# fore_idx=[]\n",
        "test_data = []\n",
        "for j in range(1000):\n",
        "  np.random.seed(j)\n",
        "  fg_instance = torch.zeros([2], dtype=torch.float64) #np.array([[0.0,0.0]])\n",
        "\n",
        "  fg_class  = np.random.randint(0,3)\n",
        "  b = np.random.choice(np.where(idx[fg_class]==True)[0],size=1)\n",
        "  fg_instance += x[b]\n",
        "  # a.append(x[b])\n",
        "  # print(\"foreground \"+str(fg_class)+\" present at \" + str(fg_idx))\n",
        "\n",
        "  test_data.append((fg_instance)/m)\n",
        "  # a = np.concatenate(a,axis=0)\n",
        "  # mosaic_list_of_images.append(np.reshape(a,(2*m,1)))\n",
        "  test_label.append(fg_class)\n",
        "  # fore_idx.append(fg_idx)"
      ],
      "execution_count": 694,
      "outputs": []
    },
    {
      "cell_type": "code",
      "metadata": {
        "colab": {
          "base_uri": "https://localhost:8080/"
        },
        "id": "XltBz3__BT_C",
        "outputId": "bcb53b22-6473-4375-ebdb-1b7865ba2ea0"
      },
      "source": [
        "test_data[0], test_label[0]"
      ],
      "execution_count": 695,
      "outputs": [
        {
          "output_type": "execute_result",
          "data": {
            "text/plain": [
              "(tensor([[0.5570, 0.1959]], dtype=torch.float64), 0)"
            ]
          },
          "metadata": {},
          "execution_count": 695
        }
      ]
    },
    {
      "cell_type": "code",
      "metadata": {
        "colab": {
          "base_uri": "https://localhost:8080/"
        },
        "id": "JqQfjkCnBX8E",
        "outputId": "d49510cf-bc7c-416c-a697-9c750a9fd4a2"
      },
      "source": [
        "test_data = torch.stack(test_data, axis=0)\n",
        "test_data.shape, len(test_label)"
      ],
      "execution_count": 696,
      "outputs": [
        {
          "output_type": "execute_result",
          "data": {
            "text/plain": [
              "(torch.Size([1000, 1, 2]), 1000)"
            ]
          },
          "metadata": {},
          "execution_count": 696
        }
      ]
    },
    {
      "cell_type": "code",
      "metadata": {
        "id": "nQhRf1ICBvW6"
      },
      "source": [
        "x1 = (train_data).numpy()\n",
        "y1 = np.array(train_label)"
      ],
      "execution_count": 697,
      "outputs": []
    },
    {
      "cell_type": "code",
      "metadata": {
        "colab": {
          "base_uri": "https://localhost:8080/"
        },
        "id": "vDAz96DSCXn5",
        "outputId": "179dca26-2458-4bc9-aa22-432f71dd81ab"
      },
      "source": [
        "x1[y1==0,0]"
      ],
      "execution_count": 698,
      "outputs": [
        {
          "output_type": "execute_result",
          "data": {
            "text/plain": [
              "array([[ 0.58196262, -0.06374849],\n",
              "       [ 0.50819408,  0.21566994],\n",
              "       [ 0.71535835,  0.05856264],\n",
              "       [ 0.23393274,  0.2951525 ],\n",
              "       [ 0.51849533,  0.2910084 ],\n",
              "       [ 0.5746036 , -0.15526501],\n",
              "       [ 0.61489395, -0.00835208],\n",
              "       [ 0.18689956,  0.23054956],\n",
              "       [ 0.26950646,  0.49295468],\n",
              "       [ 0.67954739,  0.29959287],\n",
              "       [ 0.98734141,  0.19155836],\n",
              "       [ 0.56481054,  0.13539218],\n",
              "       [ 0.53688243,  0.26345598],\n",
              "       [ 0.63361006,  0.2008009 ],\n",
              "       [ 0.61816059,  0.85652754],\n",
              "       [ 0.30560728, -0.27749069],\n",
              "       [ 0.59715351,  0.05521528],\n",
              "       [ 0.45096462,  0.32219683],\n",
              "       [ 0.3335488 ,  0.46844344],\n",
              "       [ 0.53702078,  0.14843916],\n",
              "       [ 0.25096454,  0.56858167],\n",
              "       [ 1.0141537 ,  0.24776516],\n",
              "       [ 0.48161742,  0.04829957],\n",
              "       [ 0.56496278,  0.61036383],\n",
              "       [ 0.68638647,  0.09156393],\n",
              "       [ 0.73672883,  0.08016462],\n",
              "       [ 0.49559829,  0.39001001],\n",
              "       [ 0.40029358,  0.48546783],\n",
              "       [ 0.72078224,  0.03073138],\n",
              "       [ 0.67773679,  0.48806709],\n",
              "       [ 0.50517492,  0.25956308],\n",
              "       [ 0.76047649,  0.46533963],\n",
              "       [ 0.17331078, -0.15382822],\n",
              "       [ 0.47469443,  0.63269259],\n",
              "       [ 0.50956964,  0.29163898],\n",
              "       [ 0.38684431,  0.04337059],\n",
              "       [ 0.63500373,  0.41577326],\n",
              "       [ 0.3669742 ,  0.2907041 ],\n",
              "       [ 0.64689516,  0.56509473],\n",
              "       [ 0.59776558,  0.55126547],\n",
              "       [ 0.5119529 , -0.14902843],\n",
              "       [ 0.83301064,  0.33317119],\n",
              "       [ 0.29068086,  0.2255887 ],\n",
              "       [ 0.5005226 ,  0.18061392],\n",
              "       [ 0.56365808,  0.51833644],\n",
              "       [ 0.66051168, -0.22126426],\n",
              "       [ 0.50617991,  0.04287864],\n",
              "       [ 0.86223375,  0.24079166],\n",
              "       [ 0.39591524,  0.56388268],\n",
              "       [ 0.42221932,  0.51270906],\n",
              "       [ 0.98019386,  0.04653363],\n",
              "       [ 0.61342776,  0.1300159 ],\n",
              "       [ 0.30723821,  0.1979829 ],\n",
              "       [ 0.85614877,  0.3317249 ],\n",
              "       [ 0.35806238,  0.32540252],\n",
              "       [ 0.71807937,  0.25668613],\n",
              "       [ 0.75212416,  0.34307999],\n",
              "       [ 0.79438143,  0.19641731],\n",
              "       [ 0.62512284,  0.49596863],\n",
              "       [ 0.44254097,  0.6217703 ],\n",
              "       [ 0.76199498,  0.52775621],\n",
              "       [ 0.32103991, -0.25727156],\n",
              "       [ 0.7670795 ,  0.48573251],\n",
              "       [ 0.44445946,  0.02254258],\n",
              "       [ 0.43202506,  0.02908862],\n",
              "       [ 0.75230197,  0.6972749 ],\n",
              "       [ 0.55909961,  0.18587289],\n",
              "       [ 0.14937233,  0.31489766],\n",
              "       [ 0.38827957,  0.49246758],\n",
              "       [ 0.40483559,  0.11056843],\n",
              "       [ 0.7569698 ,  0.34436214],\n",
              "       [-0.02943267,  0.51111188],\n",
              "       [ 0.44983942,  0.10608745],\n",
              "       [ 0.58346318,  0.24945392],\n",
              "       [ 0.69273825, -0.17439702],\n",
              "       [ 0.37573509,  0.23389179],\n",
              "       [ 0.4810081 ,  0.02626775],\n",
              "       [ 0.63787328,  0.23230816],\n",
              "       [ 0.58566101,  0.16798127],\n",
              "       [ 0.4578472 ,  0.11526826],\n",
              "       [ 0.50359562, -0.07862254],\n",
              "       [ 0.42785731,  0.20912439],\n",
              "       [ 0.55476484,  0.04941955],\n",
              "       [ 0.15497066,  0.00258573],\n",
              "       [ 0.75974799,  0.025756  ],\n",
              "       [ 1.02190326,  0.40998214],\n",
              "       [ 0.61947605, -0.08369393],\n",
              "       [ 0.49000436,  0.26235564],\n",
              "       [ 0.44148406,  0.40137586],\n",
              "       [ 0.67113369,  0.79808618],\n",
              "       [ 0.62019424, -0.01679826],\n",
              "       [ 0.88800047,  0.72139296],\n",
              "       [ 0.37115763, -0.06955226],\n",
              "       [ 0.4298447 ,  0.56735548],\n",
              "       [ 0.13111581, -0.30674035],\n",
              "       [ 0.78243579,  0.26583586],\n",
              "       [ 0.45076811,  0.4336453 ],\n",
              "       [ 0.71094899, -0.04671441],\n",
              "       [ 0.73674461,  0.56854945],\n",
              "       [ 0.61198301,  0.72623539],\n",
              "       [ 0.53683468,  0.1989503 ],\n",
              "       [ 0.25401514,  0.05217454],\n",
              "       [-0.02001063,  0.20328833],\n",
              "       [ 0.21405831,  0.40385443],\n",
              "       [ 0.38664059,  0.50792764],\n",
              "       [ 0.2009101 , -0.11563482],\n",
              "       [ 0.51025943,  0.51718717],\n",
              "       [ 0.37463355,  0.19303021],\n",
              "       [ 0.29843153, -0.00854168],\n",
              "       [ 0.85654838,  0.26946146],\n",
              "       [ 0.12541588,  0.20817778],\n",
              "       [ 0.29693065,  0.15161719],\n",
              "       [ 0.64738248, -0.17599472],\n",
              "       [ 0.66306189,  0.34274074],\n",
              "       [ 0.62882536,  0.3140961 ],\n",
              "       [ 0.57889798,  0.04438057],\n",
              "       [ 0.34445107, -0.1259827 ],\n",
              "       [ 0.74770932, -0.18003869],\n",
              "       [ 0.66308406,  0.42620552],\n",
              "       [ 0.86296336, -0.10479348],\n",
              "       [ 0.56298469,  0.36650222],\n",
              "       [ 0.52401292, -0.07174592],\n",
              "       [ 0.66250375,  0.48816475],\n",
              "       [ 0.75729074,  0.03492515],\n",
              "       [ 0.58336281,  0.59166929],\n",
              "       [ 0.45885124,  0.13005736],\n",
              "       [ 0.52187744,  0.23493993],\n",
              "       [ 0.75365346,  0.34831876],\n",
              "       [ 0.47238395,  0.26350059],\n",
              "       [ 0.5110791 ,  0.37674666],\n",
              "       [ 0.60290251,  0.58686685],\n",
              "       [ 0.50224151,  0.06936719],\n",
              "       [ 0.93391324,  0.61409746],\n",
              "       [ 0.42824441,  0.47077762],\n",
              "       [ 0.38813259,  0.21938225],\n",
              "       [ 0.50752118,  0.38610628],\n",
              "       [ 0.57508334,  0.37240298],\n",
              "       [ 0.46320034,  0.00830234],\n",
              "       [ 0.44123178,  0.1248657 ],\n",
              "       [ 0.54693192,  0.11845574],\n",
              "       [ 0.19894249,  0.37969349],\n",
              "       [ 0.35671687,  0.11064063],\n",
              "       [ 0.37336233,  0.20404102],\n",
              "       [ 0.50919637, -0.0251713 ],\n",
              "       [ 0.49885873, -0.03699284],\n",
              "       [ 0.93322614,  0.28228388],\n",
              "       [ 0.20138154, -0.27969252],\n",
              "       [ 0.40043954,  0.52680114],\n",
              "       [ 0.45114111,  0.13587577],\n",
              "       [ 0.16317823,  0.10057502],\n",
              "       [ 0.42113302,  0.18627625],\n",
              "       [ 0.38443549,  0.04752265],\n",
              "       [ 0.71669339,  0.25189682],\n",
              "       [ 0.50132019,  0.05596365],\n",
              "       [ 0.68832769,  0.59125957],\n",
              "       [ 0.20629332,  0.75727789]])"
            ]
          },
          "metadata": {},
          "execution_count": 698
        }
      ]
    },
    {
      "cell_type": "code",
      "metadata": {
        "colab": {
          "base_uri": "https://localhost:8080/"
        },
        "id": "kMwwZhv7Bv1U",
        "outputId": "18369fed-35da-4b3b-db6b-a3c73d34f803"
      },
      "source": [
        "x1[y1==0,0][:,0]"
      ],
      "execution_count": 699,
      "outputs": [
        {
          "output_type": "execute_result",
          "data": {
            "text/plain": [
              "array([ 0.58196262,  0.50819408,  0.71535835,  0.23393274,  0.51849533,\n",
              "        0.5746036 ,  0.61489395,  0.18689956,  0.26950646,  0.67954739,\n",
              "        0.98734141,  0.56481054,  0.53688243,  0.63361006,  0.61816059,\n",
              "        0.30560728,  0.59715351,  0.45096462,  0.3335488 ,  0.53702078,\n",
              "        0.25096454,  1.0141537 ,  0.48161742,  0.56496278,  0.68638647,\n",
              "        0.73672883,  0.49559829,  0.40029358,  0.72078224,  0.67773679,\n",
              "        0.50517492,  0.76047649,  0.17331078,  0.47469443,  0.50956964,\n",
              "        0.38684431,  0.63500373,  0.3669742 ,  0.64689516,  0.59776558,\n",
              "        0.5119529 ,  0.83301064,  0.29068086,  0.5005226 ,  0.56365808,\n",
              "        0.66051168,  0.50617991,  0.86223375,  0.39591524,  0.42221932,\n",
              "        0.98019386,  0.61342776,  0.30723821,  0.85614877,  0.35806238,\n",
              "        0.71807937,  0.75212416,  0.79438143,  0.62512284,  0.44254097,\n",
              "        0.76199498,  0.32103991,  0.7670795 ,  0.44445946,  0.43202506,\n",
              "        0.75230197,  0.55909961,  0.14937233,  0.38827957,  0.40483559,\n",
              "        0.7569698 , -0.02943267,  0.44983942,  0.58346318,  0.69273825,\n",
              "        0.37573509,  0.4810081 ,  0.63787328,  0.58566101,  0.4578472 ,\n",
              "        0.50359562,  0.42785731,  0.55476484,  0.15497066,  0.75974799,\n",
              "        1.02190326,  0.61947605,  0.49000436,  0.44148406,  0.67113369,\n",
              "        0.62019424,  0.88800047,  0.37115763,  0.4298447 ,  0.13111581,\n",
              "        0.78243579,  0.45076811,  0.71094899,  0.73674461,  0.61198301,\n",
              "        0.53683468,  0.25401514, -0.02001063,  0.21405831,  0.38664059,\n",
              "        0.2009101 ,  0.51025943,  0.37463355,  0.29843153,  0.85654838,\n",
              "        0.12541588,  0.29693065,  0.64738248,  0.66306189,  0.62882536,\n",
              "        0.57889798,  0.34445107,  0.74770932,  0.66308406,  0.86296336,\n",
              "        0.56298469,  0.52401292,  0.66250375,  0.75729074,  0.58336281,\n",
              "        0.45885124,  0.52187744,  0.75365346,  0.47238395,  0.5110791 ,\n",
              "        0.60290251,  0.50224151,  0.93391324,  0.42824441,  0.38813259,\n",
              "        0.50752118,  0.57508334,  0.46320034,  0.44123178,  0.54693192,\n",
              "        0.19894249,  0.35671687,  0.37336233,  0.50919637,  0.49885873,\n",
              "        0.93322614,  0.20138154,  0.40043954,  0.45114111,  0.16317823,\n",
              "        0.42113302,  0.38443549,  0.71669339,  0.50132019,  0.68832769,\n",
              "        0.20629332])"
            ]
          },
          "metadata": {},
          "execution_count": 699
        }
      ]
    },
    {
      "cell_type": "code",
      "metadata": {
        "colab": {
          "base_uri": "https://localhost:8080/"
        },
        "id": "ydbu3OV3CYxB",
        "outputId": "c9a3eb62-e5d5-4d6e-f910-592e5182ec56"
      },
      "source": [
        "x1[y1==0,0][:,1]"
      ],
      "execution_count": 700,
      "outputs": [
        {
          "output_type": "execute_result",
          "data": {
            "text/plain": [
              "array([-0.06374849,  0.21566994,  0.05856264,  0.2951525 ,  0.2910084 ,\n",
              "       -0.15526501, -0.00835208,  0.23054956,  0.49295468,  0.29959287,\n",
              "        0.19155836,  0.13539218,  0.26345598,  0.2008009 ,  0.85652754,\n",
              "       -0.27749069,  0.05521528,  0.32219683,  0.46844344,  0.14843916,\n",
              "        0.56858167,  0.24776516,  0.04829957,  0.61036383,  0.09156393,\n",
              "        0.08016462,  0.39001001,  0.48546783,  0.03073138,  0.48806709,\n",
              "        0.25956308,  0.46533963, -0.15382822,  0.63269259,  0.29163898,\n",
              "        0.04337059,  0.41577326,  0.2907041 ,  0.56509473,  0.55126547,\n",
              "       -0.14902843,  0.33317119,  0.2255887 ,  0.18061392,  0.51833644,\n",
              "       -0.22126426,  0.04287864,  0.24079166,  0.56388268,  0.51270906,\n",
              "        0.04653363,  0.1300159 ,  0.1979829 ,  0.3317249 ,  0.32540252,\n",
              "        0.25668613,  0.34307999,  0.19641731,  0.49596863,  0.6217703 ,\n",
              "        0.52775621, -0.25727156,  0.48573251,  0.02254258,  0.02908862,\n",
              "        0.6972749 ,  0.18587289,  0.31489766,  0.49246758,  0.11056843,\n",
              "        0.34436214,  0.51111188,  0.10608745,  0.24945392, -0.17439702,\n",
              "        0.23389179,  0.02626775,  0.23230816,  0.16798127,  0.11526826,\n",
              "       -0.07862254,  0.20912439,  0.04941955,  0.00258573,  0.025756  ,\n",
              "        0.40998214, -0.08369393,  0.26235564,  0.40137586,  0.79808618,\n",
              "       -0.01679826,  0.72139296, -0.06955226,  0.56735548, -0.30674035,\n",
              "        0.26583586,  0.4336453 , -0.04671441,  0.56854945,  0.72623539,\n",
              "        0.1989503 ,  0.05217454,  0.20328833,  0.40385443,  0.50792764,\n",
              "       -0.11563482,  0.51718717,  0.19303021, -0.00854168,  0.26946146,\n",
              "        0.20817778,  0.15161719, -0.17599472,  0.34274074,  0.3140961 ,\n",
              "        0.04438057, -0.1259827 , -0.18003869,  0.42620552, -0.10479348,\n",
              "        0.36650222, -0.07174592,  0.48816475,  0.03492515,  0.59166929,\n",
              "        0.13005736,  0.23493993,  0.34831876,  0.26350059,  0.37674666,\n",
              "        0.58686685,  0.06936719,  0.61409746,  0.47077762,  0.21938225,\n",
              "        0.38610628,  0.37240298,  0.00830234,  0.1248657 ,  0.11845574,\n",
              "        0.37969349,  0.11064063,  0.20404102, -0.0251713 , -0.03699284,\n",
              "        0.28228388, -0.27969252,  0.52680114,  0.13587577,  0.10057502,\n",
              "        0.18627625,  0.04752265,  0.25189682,  0.05596365,  0.59125957,\n",
              "        0.75727789])"
            ]
          },
          "metadata": {},
          "execution_count": 700
        }
      ]
    },
    {
      "cell_type": "code",
      "metadata": {
        "colab": {
          "base_uri": "https://localhost:8080/",
          "height": 299
        },
        "id": "bT9-kEI7NAnR",
        "outputId": "e8a466e4-a4f6-475d-e41c-580cd407c1ee"
      },
      "source": [
        "x1 = (train_data).numpy()\n",
        "y1 = np.array(train_label)\n",
        "\n",
        "plt.scatter(x1[y1==0,0][:,0], x1[y1==0,0][:,1], label='class 0')\n",
        "plt.scatter(x1[y1==1,0][:,0], x1[y1==1,0][:,1], label='class 1')\n",
        "plt.scatter(x1[y1==2,0][:,0], x1[y1==2,0][:,1], label='class 2')\n",
        "plt.legend()\n",
        "plt.title(\"dataset4 CIN with alpha = 1/\"+str(m))"
      ],
      "execution_count": 701,
      "outputs": [
        {
          "output_type": "execute_result",
          "data": {
            "text/plain": [
              "Text(0.5, 1.0, 'dataset4 CIN with alpha = 1/20')"
            ]
          },
          "metadata": {},
          "execution_count": 701
        },
        {
          "output_type": "display_data",
          "data": {
            "image/png": "[encoded data removed]",
            "text/plain": [
              "<Figure size 432x288 with 1 Axes>"
            ]
          },
          "metadata": {
            "needs_background": "light"
          }
        }
      ]
    },
    {
      "cell_type": "code",
      "metadata": {
        "colab": {
          "base_uri": "https://localhost:8080/",
          "height": 299
        },
        "id": "Sc8W2N7LQQ_l",
        "outputId": "d78c2d8c-8d06-449e-8439-bc650b4f12de"
      },
      "source": [
        "x1 = (test_data).numpy()\n",
        "y1 = np.array(test_label)\n",
        "\n",
        "plt.scatter(x1[y1==0,0][:,0], x1[y1==0,0][:,1], label='class 0')\n",
        "plt.scatter(x1[y1==1,0][:,0], x1[y1==1,0][:,1], label='class 1')\n",
        "plt.scatter(x1[y1==2,0][:,0], x1[y1==2,0][:,1], label='class 2')\n",
        "plt.legend()\n",
        "plt.title(\"test dataset4\")"
      ],
      "execution_count": 702,
      "outputs": [
        {
          "output_type": "execute_result",
          "data": {
            "text/plain": [
              "Text(0.5, 1.0, 'test dataset4')"
            ]
          },
          "metadata": {},
          "execution_count": 702
        },
        {
          "output_type": "display_data",
          "data": {
            "image/png": "[encoded data removed]",
            "text/plain": [
              "<Figure size 432x288 with 1 Axes>"
            ]
          },
          "metadata": {
            "needs_background": "light"
          }
        }
      ]
    },
    {
      "cell_type": "code",
      "metadata": {
        "id": "yL0BRf8er0TX"
      },
      "source": [
        "class MosaicDataset(Dataset):\n",
        "  \"\"\"MosaicDataset dataset.\"\"\"\n",
        "\n",
        "  def __init__(self, mosaic_list_of_images, mosaic_label):\n",
        "    \"\"\"\n",
        "      Args:\n",
        "        csv_file (string): Path to the csv file with annotations.\n",
        "        root_dir (string): Directory with all the images.\n",
        "        transform (callable, optional): Optional transform to be applied\n",
        "            on a sample.\n",
        "    \"\"\"\n",
        "    self.mosaic = mosaic_list_of_images\n",
        "    self.label = mosaic_label\n",
        "    #self.fore_idx = fore_idx\n",
        "    \n",
        "  def __len__(self):\n",
        "    return len(self.label)\n",
        "\n",
        "  def __getitem__(self, idx):\n",
        "    return self.mosaic[idx] , self.label[idx] #, self.fore_idx[idx]\n",
        "\n"
      ],
      "execution_count": 703,
      "outputs": []
    },
    {
      "cell_type": "code",
      "metadata": {
        "colab": {
          "base_uri": "https://localhost:8080/"
        },
        "id": "4KsrW9qL9xgS",
        "outputId": "0d985035-006f-4552-9510-1afce939f79e"
      },
      "source": [
        "train_data[0].shape, train_data[0]"
      ],
      "execution_count": 704,
      "outputs": [
        {
          "output_type": "execute_result",
          "data": {
            "text/plain": [
              "(torch.Size([1, 2]), tensor([[0.6208, 0.1138]], dtype=torch.float64))"
            ]
          },
          "metadata": {},
          "execution_count": 704
        }
      ]
    },
    {
      "cell_type": "code",
      "metadata": {
        "id": "EY2l62APygaV"
      },
      "source": [
        "batch = 200\n",
        "\n",
        "traindata_1 = MosaicDataset(train_data, train_label )\n",
        "trainloader_1 = DataLoader( traindata_1 , batch_size= batch ,shuffle=True)\n"
      ],
      "execution_count": 705,
      "outputs": []
    },
    {
      "cell_type": "code",
      "metadata": {
        "id": "9suUslCj8YZK"
      },
      "source": [
        "testdata_1 = MosaicDataset(test_data, test_label )\n",
        "testloader_1 = DataLoader( testdata_1 , batch_size= batch ,shuffle=False)\n"
      ],
      "execution_count": 706,
      "outputs": []
    },
    {
      "cell_type": "code",
      "metadata": {
        "id": "Nh3mBQHZ8bEj"
      },
      "source": [
        "# testdata_11 = MosaicDataset(test_dataset, labels )\n",
        "# testloader_11 = DataLoader( testdata_11 , batch_size= batch ,shuffle=False)"
      ],
      "execution_count": 707,
      "outputs": []
    },
    {
      "cell_type": "code",
      "metadata": {
        "id": "5_XeIUk0r0Tl"
      },
      "source": [
        "class Whatnet(nn.Module):\n",
        "    def __init__(self):\n",
        "        super(Whatnet,self).__init__()\n",
        "        self.linear1 = nn.Linear(2,50)\n",
        "        self.linear2 = nn.Linear(50,3)\n",
        "\n",
        "        torch.nn.init.xavier_normal_(self.linear1.weight)\n",
        "        torch.nn.init.zeros_(self.linear1.bias)\n",
        "        torch.nn.init.xavier_normal_(self.linear2.weight)\n",
        "        torch.nn.init.zeros_(self.linear2.bias)\n",
        "\n",
        "    def forward(self,x):\n",
        "        x = F.relu(self.linear1(x))\n",
        "        x = (self.linear2(x))\n",
        "\n",
        "        return x[:,0]"
      ],
      "execution_count": 708,
      "outputs": []
    },
    {
      "cell_type": "code",
      "metadata": {
        "id": "pjD2VZuV9Ed4"
      },
      "source": [
        "def calculate_loss(dataloader,model,criter):\n",
        "  model.eval()\n",
        "  r_loss = 0\n",
        "  with torch.no_grad():\n",
        "    for i, data in enumerate(dataloader, 0):\n",
        "      inputs, labels = data\n",
        "      inputs, labels = inputs.to(\"cuda\"),labels.to(\"cuda\")\n",
        "      outputs = model(inputs)\n",
        "      # print(outputs.shape)\n",
        "      loss = criter(outputs, labels)\n",
        "      r_loss += loss.item()\n",
        "  return r_loss/(i+1)"
      ],
      "execution_count": 709,
      "outputs": []
    },
    {
      "cell_type": "code",
      "metadata": {
        "id": "uALi25pmzQHV"
      },
      "source": [
        "def test_all(number, testloader,net):\n",
        "    correct = 0\n",
        "    total = 0\n",
        "    out = []\n",
        "    pred = []\n",
        "    with torch.no_grad():\n",
        "        for data in testloader:\n",
        "            images, labels = data\n",
        "            images, labels = images.to(\"cuda\"),labels.to(\"cuda\")\n",
        "            out.append(labels.cpu().numpy())\n",
        "            outputs= net(images)\n",
        "            _, predicted = torch.max(outputs.data, 1)\n",
        "            pred.append(predicted.cpu().numpy())\n",
        "            total += labels.size(0)\n",
        "            correct += (predicted == labels).sum().item()\n",
        "    \n",
        "    pred = np.concatenate(pred, axis = 0)\n",
        "    out = np.concatenate(out, axis = 0)\n",
        "    print(\"unique out: \",  np.unique(out), \"unique pred: \", np.unique(pred) )\n",
        "    print(\"correct: \", correct, \"total \",  total)\n",
        "    print('Accuracy of the network on the %d test dataset %d: %.2f %%' % (total, number , 100 * correct / total))"
      ],
      "execution_count": 710,
      "outputs": []
    },
    {
      "cell_type": "code",
      "metadata": {
        "id": "4vmNprlPzTjP"
      },
      "source": [
        "def train_all(trainloader, ds_number, testloader_list, lr_list):\n",
        "  \n",
        "  final_loss = []\n",
        "  for LR in lr_list:    \n",
        "    print(\"--\"*20, \"Learning Rate used is\", LR)\n",
        "    \n",
        "    torch.manual_seed(12)\n",
        "    net = Whatnet().double()\n",
        "    net = net.to(\"cuda\")\n",
        "    \n",
        "    criterion_net = nn.CrossEntropyLoss()\n",
        "    optimizer_net = optim.Adam(net.parameters(), lr=0.001 ) #, momentum=0.9)\n",
        "    \n",
        "    acti = []\n",
        "    loss_curi = []\n",
        "    epochs = 1000\n",
        "    running_loss = calculate_loss(trainloader,net,criterion_net)\n",
        "    loss_curi.append(running_loss)\n",
        "    print('epoch: [%d ] loss: %.3f' %(0,running_loss)) \n",
        "    for epoch in range(epochs): # loop over the dataset multiple times\n",
        "        ep_lossi = []\n",
        "\n",
        "        running_loss = 0.0\n",
        "        net.train()\n",
        "        for i, data in enumerate(trainloader, 0):\n",
        "            # get the inputs\n",
        "            inputs, labels = data\n",
        "            inputs, labels = inputs.to(\"cuda\"),labels.to(\"cuda\")\n",
        "\n",
        "            # zero the parameter gradients\n",
        "            optimizer_net.zero_grad()\n",
        "\n",
        "            # forward + backward + optimize\n",
        "            outputs = net(inputs)\n",
        "            # print(outputs.shape)\n",
        "            loss = criterion_net(outputs, labels)\n",
        "            # print statistics\n",
        "            running_loss += loss.item()\n",
        "            loss.backward()\n",
        "            optimizer_net.step()\n",
        "\n",
        "        running_loss = calculate_loss(trainloader,net,criterion_net)\n",
        "        if(epoch%200 == 0):\n",
        "          print('epoch: [%d] loss: %.3f' %(epoch + 1,running_loss)) \n",
        "        loss_curi.append(running_loss)   #loss per epoch\n",
        "        if running_loss<=0.05:\n",
        "          print('epoch: [%d] loss: %.3f' %(epoch + 1,running_loss))\n",
        "          break\n",
        "\n",
        "    print('Finished Training')\n",
        "    \n",
        "    correct = 0\n",
        "    total = 0\n",
        "    with torch.no_grad():\n",
        "        for data in trainloader:\n",
        "            images, labels = data\n",
        "            images, labels = images.to(\"cuda\"), labels.to(\"cuda\")\n",
        "            outputs = net(images)\n",
        "            _, predicted = torch.max(outputs.data, 1)\n",
        "            total += labels.size(0)\n",
        "            correct += (predicted == labels).sum().item()\n",
        "\n",
        "    print('Accuracy of the network on the %d train images: %.2f %%' % (total,  100 * correct / total))\n",
        "    \n",
        "    for i, j in enumerate(testloader_list):\n",
        "        test_all(i+1, j,net)\n",
        "    \n",
        "    print(\"--\"*40)\n",
        "    \n",
        "    final_loss.append(loss_curi) \n",
        "  return final_loss\n",
        "    "
      ],
      "execution_count": 711,
      "outputs": []
    },
    {
      "cell_type": "code",
      "metadata": {
        "id": "Yl41sE8vFERk"
      },
      "source": [
        "train_loss_all=[]\n",
        "\n",
        "testloader_list= [ testloader_1]\n",
        "lr_list = [0.0001, 0.0005, 0.001, 0.005, 0.01, 0.05, 0.1, 0.5 ]"
      ],
      "execution_count": 712,
      "outputs": []
    },
    {
      "cell_type": "code",
      "metadata": {
        "colab": {
          "base_uri": "https://localhost:8080/"
        },
        "id": "5gQoPST5zW2t",
        "outputId": "cb3212ef-12da-429d-9858-ec236337cee4"
      },
      "source": [
        "fin_loss = train_all(trainloader_1, 1, testloader_list, lr_list)\n",
        "train_loss_all.append(fin_loss)"
      ],
      "execution_count": 713,
      "outputs": [
        {
          "output_type": "stream",
          "name": "stdout",
          "text": [
            "---------------------------------------- Learning Rate used is 0.0001\n",
            "epoch: [0 ] loss: 1.091\n",
            "epoch: [1] loss: 1.088\n",
            "epoch: [201] loss: 1.011\n",
            "epoch: [401] loss: 1.020\n",
            "epoch: [601] loss: 1.010\n",
            "epoch: [801] loss: 1.003\n",
            "Finished Training\n",
            "Accuracy of the network on the 500 train images: 50.60 %\n",
            "unique out:  [0 1 2] unique pred:  [0 1 2]\n",
            "correct:  833 total  1000\n",
            "Accuracy of the network on the 1000 test dataset 1: 83.30 %\n",
            "--------------------------------------------------------------------------------\n",
            "---------------------------------------- Learning Rate used is 0.0005\n",
            "epoch: [0 ] loss: 1.091\n",
            "epoch: [1] loss: 1.088\n",
            "epoch: [201] loss: 1.011\n",
            "epoch: [401] loss: 1.020\n",
            "epoch: [601] loss: 1.010\n",
            "epoch: [801] loss: 1.003\n",
            "Finished Training\n",
            "Accuracy of the network on the 500 train images: 50.60 %\n",
            "unique out:  [0 1 2] unique pred:  [0 1 2]\n",
            "correct:  833 total  1000\n",
            "Accuracy of the network on the 1000 test dataset 1: 83.30 %\n",
            "--------------------------------------------------------------------------------\n",
            "---------------------------------------- Learning Rate used is 0.001\n",
            "epoch: [0 ] loss: 1.091\n",
            "epoch: [1] loss: 1.088\n",
            "epoch: [201] loss: 1.011\n",
            "epoch: [401] loss: 1.020\n",
            "epoch: [601] loss: 1.010\n",
            "epoch: [801] loss: 1.003\n",
            "Finished Training\n",
            "Accuracy of the network on the 500 train images: 50.60 %\n",
            "unique out:  [0 1 2] unique pred:  [0 1 2]\n",
            "correct:  833 total  1000\n",
            "Accuracy of the network on the 1000 test dataset 1: 83.30 %\n",
            "--------------------------------------------------------------------------------\n",
            "---------------------------------------- Learning Rate used is 0.005\n",
            "epoch: [0 ] loss: 1.091\n",
            "epoch: [1] loss: 1.088\n",
            "epoch: [201] loss: 1.011\n",
            "epoch: [401] loss: 1.020\n",
            "epoch: [601] loss: 1.010\n",
            "epoch: [801] loss: 1.003\n",
            "Finished Training\n",
            "Accuracy of the network on the 500 train images: 50.60 %\n",
            "unique out:  [0 1 2] unique pred:  [0 1 2]\n",
            "correct:  833 total  1000\n",
            "Accuracy of the network on the 1000 test dataset 1: 83.30 %\n",
            "--------------------------------------------------------------------------------\n",
            "---------------------------------------- Learning Rate used is 0.01\n",
            "epoch: [0 ] loss: 1.091\n",
            "epoch: [1] loss: 1.088\n",
            "epoch: [201] loss: 1.011\n",
            "epoch: [401] loss: 1.020\n",
            "epoch: [601] loss: 1.010\n",
            "epoch: [801] loss: 1.003\n",
            "Finished Training\n",
            "Accuracy of the network on the 500 train images: 50.60 %\n",
            "unique out:  [0 1 2] unique pred:  [0 1 2]\n",
            "correct:  833 total  1000\n",
            "Accuracy of the network on the 1000 test dataset 1: 83.30 %\n",
            "--------------------------------------------------------------------------------\n",
            "---------------------------------------- Learning Rate used is 0.05\n",
            "epoch: [0 ] loss: 1.091\n",
            "epoch: [1] loss: 1.088\n",
            "epoch: [201] loss: 1.011\n",
            "epoch: [401] loss: 1.020\n",
            "epoch: [601] loss: 1.010\n",
            "epoch: [801] loss: 1.003\n",
            "Finished Training\n",
            "Accuracy of the network on the 500 train images: 50.60 %\n",
            "unique out:  [0 1 2] unique pred:  [0 1 2]\n",
            "correct:  833 total  1000\n",
            "Accuracy of the network on the 1000 test dataset 1: 83.30 %\n",
            "--------------------------------------------------------------------------------\n",
            "---------------------------------------- Learning Rate used is 0.1\n",
            "epoch: [0 ] loss: 1.091\n",
            "epoch: [1] loss: 1.088\n",
            "epoch: [201] loss: 1.011\n",
            "epoch: [401] loss: 1.020\n",
            "epoch: [601] loss: 1.010\n",
            "epoch: [801] loss: 1.003\n",
            "Finished Training\n",
            "Accuracy of the network on the 500 train images: 50.60 %\n",
            "unique out:  [0 1 2] unique pred:  [0 1 2]\n",
            "correct:  833 total  1000\n",
            "Accuracy of the network on the 1000 test dataset 1: 83.30 %\n",
            "--------------------------------------------------------------------------------\n",
            "---------------------------------------- Learning Rate used is 0.5\n",
            "epoch: [0 ] loss: 1.091\n",
            "epoch: [1] loss: 1.088\n",
            "epoch: [201] loss: 1.011\n",
            "epoch: [401] loss: 1.020\n",
            "epoch: [601] loss: 1.010\n",
            "epoch: [801] loss: 1.003\n",
            "Finished Training\n",
            "Accuracy of the network on the 500 train images: 50.60 %\n",
            "unique out:  [0 1 2] unique pred:  [0 1 2]\n",
            "correct:  833 total  1000\n",
            "Accuracy of the network on the 1000 test dataset 1: 83.30 %\n",
            "--------------------------------------------------------------------------------\n"
          ]
        }
      ]
    },
    {
      "cell_type": "code",
      "metadata": {
        "id": "In76SYH_zZHV"
      },
      "source": [
        "%matplotlib inline"
      ],
      "execution_count": 714,
      "outputs": []
    },
    {
      "cell_type": "code",
      "metadata": {
        "colab": {
          "base_uri": "https://localhost:8080/"
        },
        "id": "_GsE3qHR_A5c",
        "outputId": "846eca1f-f78c-4546-ea1f-8d8c7023cce0"
      },
      "source": [
        "len(fin_loss)"
      ],
      "execution_count": 715,
      "outputs": [
        {
          "output_type": "execute_result",
          "data": {
            "text/plain": [
              "8"
            ]
          },
          "metadata": {},
          "execution_count": 715
        }
      ]
    },
    {
      "cell_type": "code",
      "metadata": {
        "id": "BS4HtOHEzZ0E",
        "colab": {
          "base_uri": "https://localhost:8080/",
          "height": 297
        },
        "outputId": "065b1b3f-281f-4a4d-b7af-9a4cf5cbe19b"
      },
      "source": [
        "for i,j in enumerate(fin_loss):\n",
        "    plt.plot(j,label =\"LR = \"+str(lr_list[i]))\n",
        "    \n",
        "\n",
        "plt.xlabel(\"Epochs\")\n",
        "plt.ylabel(\"Training_loss\")\n",
        "\n",
        "plt.legend(loc='center left', bbox_to_anchor=(1, 0.5))"
      ],
      "execution_count": 716,
      "outputs": [
        {
          "output_type": "execute_result",
          "data": {
            "text/plain": [
              "<matplotlib.legend.Legend at 0x7fab04869b10>"
            ]
          },
          "metadata": {},
          "execution_count": 716
        },
        {
          "output_type": "display_data",
          "data": {
            "image/png": "[encoded data removed]",
            "text/plain": [
              "<Figure size 432x288 with 1 Axes>"
            ]
          },
          "metadata": {
            "needs_background": "light"
          }
        }
      ]
    },
    {
      "cell_type": "code",
      "metadata": {
        "id": "1UbTkfLUINTI"
      },
      "source": [
        ""
      ],
      "execution_count": 716,
      "outputs": []
    }
  ]
}