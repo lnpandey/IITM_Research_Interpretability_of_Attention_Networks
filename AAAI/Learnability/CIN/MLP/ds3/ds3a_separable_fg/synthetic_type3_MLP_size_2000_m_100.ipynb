{
  "nbformat": 4,
  "nbformat_minor": 0,
  "metadata": {
    "accelerator": "GPU",
    "colab": {
      "name": "synthetic_type3_MLP_m_5.ipynb",
      "provenance": [],
      "collapsed_sections": []
    },
    "kernelspec": {
      "display_name": "Python 3",
      "language": "python",
      "name": "python3"
    },
    "language_info": {
      "codemirror_mode": {
        "name": "ipython",
        "version": 3
      },
      "file_extension": ".py",
      "mimetype": "text/x-python",
      "name": "python",
      "nbconvert_exporter": "python",
      "pygments_lexer": "ipython3",
      "version": "3.6.5"
    }
  },
  "cells": [
    {
      "cell_type": "code",
      "metadata": {
        "colab": {
          "base_uri": "https://localhost:8080/"
        },
        "id": "N2_J4Rw2r0SQ",
        "outputId": "d8aeee5d-14e0-4be2-b152-e6ae1dec1b8a"
      },
      "source": [
        "import numpy as np\n",
        "import pandas as pd\n",
        "from matplotlib import pyplot as plt\n",
        "from tqdm import tqdm\n",
        "%matplotlib inline\n",
        "from torch.utils.data import Dataset, DataLoader\n",
        "import torch\n",
        "import torchvision\n",
        "\n",
        "import torch.nn as nn\n",
        "import torch.optim as optim\n",
        "from torch.nn import functional as F\n",
        "device = torch.device(\"cuda\" if torch.cuda.is_available() else \"cpu\")\n",
        "print(device)"
      ],
      "execution_count": 435,
      "outputs": [
        {
          "output_type": "stream",
          "name": "stdout",
          "text": [
            "cuda\n"
          ]
        }
      ]
    },
    {
      "cell_type": "code",
      "metadata": {
        "id": "ZTJPyL45DiJ3"
      },
      "source": [
        "m = 100           # 5, 50, 100, 500, 2000"
      ],
      "execution_count": 436,
      "outputs": []
    },
    {
      "cell_type": "code",
      "metadata": {
        "id": "g-do5dZWK5L6"
      },
      "source": [
        "train_size = 2000          # 100, 500, 2000, 10000"
      ],
      "execution_count": 437,
      "outputs": []
    },
    {
      "cell_type": "markdown",
      "metadata": {
        "id": "F6fjud_Fr0Sa"
      },
      "source": [
        "# Generate dataset"
      ]
    },
    {
      "cell_type": "code",
      "metadata": {
        "colab": {
          "base_uri": "https://localhost:8080/"
        },
        "id": "CqdXHO0Cr0Sd",
        "outputId": "52ef12ae-738f-4c2b-e7db-d69d51790810"
      },
      "source": [
        "np.random.seed(12)\n",
        "y = np.random.randint(0,10,5000)\n",
        "idx= []\n",
        "for i in range(10):\n",
        "    print(i,sum(y==i))\n",
        "    idx.append(y==i)"
      ],
      "execution_count": 438,
      "outputs": [
        {
          "output_type": "stream",
          "name": "stdout",
          "text": [
            "0 530\n",
            "1 463\n",
            "2 494\n",
            "3 517\n",
            "4 488\n",
            "5 497\n",
            "6 493\n",
            "7 507\n",
            "8 492\n",
            "9 519\n"
          ]
        }
      ]
    },
    {
      "cell_type": "code",
      "metadata": {
        "id": "ddhXyODwr0Sk"
      },
      "source": [
        "x = np.zeros((5000,2))"
      ],
      "execution_count": 439,
      "outputs": []
    },
    {
      "cell_type": "code",
      "metadata": {
        "id": "DyV3N2DIr0Sp"
      },
      "source": [
        "np.random.seed(12)\n",
        "x[idx[0],:] = np.random.multivariate_normal(mean = [7,4],cov=[[0.1,0],[0,0.1]],size=sum(idx[0]))\n",
        "x[idx[1],:] = np.random.multivariate_normal(mean = [8,6.5],cov=[[0.1,0],[0,0.1]],size=sum(idx[1]))\n",
        "x[idx[2],:] = np.random.multivariate_normal(mean = [5.5,6.5],cov=[[0.1,0],[0,0.1]],size=sum(idx[2]))\n",
        "x[idx[3],:] = np.random.multivariate_normal(mean = [-1,0],cov=[[0.1,0],[0,0.1]],size=sum(idx[3]))\n",
        "x[idx[4],:] = np.random.multivariate_normal(mean = [0,2],cov=[[0.1,0],[0,0.1]],size=sum(idx[4]))\n",
        "x[idx[5],:] = np.random.multivariate_normal(mean = [1,0],cov=[[0.1,0],[0,0.1]],size=sum(idx[5]))\n",
        "x[idx[6],:] = np.random.multivariate_normal(mean = [0,-1],cov=[[0.1,0],[0,0.1]],size=sum(idx[6]))\n",
        "x[idx[7],:] = np.random.multivariate_normal(mean = [0,0],cov=[[0.1,0],[0,0.1]],size=sum(idx[7]))\n",
        "x[idx[8],:] = np.random.multivariate_normal(mean = [-0.5,-0.5],cov=[[0.1,0],[0,0.1]],size=sum(idx[8]))\n",
        "x[idx[9],:] = np.random.multivariate_normal(mean = [0.4,0.2],cov=[[0.1,0],[0,0.1]],size=sum(idx[9]))"
      ],
      "execution_count": 440,
      "outputs": []
    },
    {
      "cell_type": "code",
      "metadata": {
        "colab": {
          "base_uri": "https://localhost:8080/"
        },
        "id": "qh1mDScsU07I",
        "outputId": "7f6e3698-0e82-4dc4-fe5f-f6288424fae9"
      },
      "source": [
        "x[idx[0]][0], x[idx[5]][5] "
      ],
      "execution_count": 441,
      "outputs": [
        {
          "output_type": "execute_result",
          "data": {
            "text/plain": [
              "(array([7.14957125, 3.78451422]), array([0.87756167, 0.00457805]))"
            ]
          },
          "metadata": {},
          "execution_count": 441
        }
      ]
    },
    {
      "cell_type": "code",
      "metadata": {
        "colab": {
          "base_uri": "https://localhost:8080/",
          "height": 287
        },
        "id": "hJ8Jm7YUr0St",
        "outputId": "b1362212-a01c-43e8-b868-f61aa54c6ca0"
      },
      "source": [
        "for i in range(10):\n",
        "    plt.scatter(x[idx[i],0],x[idx[i],1],label=\"class_\"+str(i))\n",
        "plt.legend(loc='center left', bbox_to_anchor=(1, 0.5))"
      ],
      "execution_count": 442,
      "outputs": [
        {
          "output_type": "execute_result",
          "data": {
            "text/plain": [
              "<matplotlib.legend.Legend at 0x7fab05a2f650>"
            ]
          },
          "metadata": {},
          "execution_count": 442
        },
        {
          "output_type": "display_data",
          "data": {
            "image/png": "[encoded data removed]",
            "text/plain": [
              "<Figure size 432x288 with 1 Axes>"
            ]
          },
          "metadata": {
            "needs_background": "light"
          }
        }
      ]
    },
    {
      "cell_type": "code",
      "metadata": {
        "colab": {
          "base_uri": "https://localhost:8080/"
        },
        "id": "3lMBZEHNBlF2",
        "outputId": "3c17f331-6f40-4bb4-9863-d6988da628e9"
      },
      "source": [
        "bg_idx = [ np.where(idx[3] == True)[0], \n",
        "          np.where(idx[4] == True)[0], \n",
        "          np.where(idx[5] == True)[0],\n",
        "          np.where(idx[6] == True)[0], \n",
        "          np.where(idx[7] == True)[0], \n",
        "          np.where(idx[8] == True)[0],\n",
        "          np.where(idx[9] == True)[0]]\n",
        "\n",
        "bg_idx = np.concatenate(bg_idx, axis = 0)\n",
        "bg_idx.shape"
      ],
      "execution_count": 443,
      "outputs": [
        {
          "output_type": "execute_result",
          "data": {
            "text/plain": [
              "(3513,)"
            ]
          },
          "metadata": {},
          "execution_count": 443
        }
      ]
    },
    {
      "cell_type": "code",
      "metadata": {
        "colab": {
          "base_uri": "https://localhost:8080/"
        },
        "id": "blRbGZHeCwXU",
        "outputId": "bfe2d9b8-1354-4d6f-8966-76861f701c74"
      },
      "source": [
        "np.unique(bg_idx).shape"
      ],
      "execution_count": 444,
      "outputs": [
        {
          "output_type": "execute_result",
          "data": {
            "text/plain": [
              "(3513,)"
            ]
          },
          "metadata": {},
          "execution_count": 444
        }
      ]
    },
    {
      "cell_type": "code",
      "metadata": {
        "id": "Y43sWeX7C15F"
      },
      "source": [
        "x = x - np.mean(x[bg_idx], axis = 0, keepdims = True)\n"
      ],
      "execution_count": 445,
      "outputs": []
    },
    {
      "cell_type": "code",
      "metadata": {
        "colab": {
          "base_uri": "https://localhost:8080/"
        },
        "id": "ooII7N6UDWe0",
        "outputId": "498a0fb1-2479-4c64-f40d-c93154fed2ac"
      },
      "source": [
        "np.mean(x[bg_idx], axis = 0, keepdims = True), np.mean(x, axis = 0, keepdims = True)"
      ],
      "execution_count": 446,
      "outputs": [
        {
          "output_type": "execute_result",
          "data": {
            "text/plain": [
              "(array([[-1.04275003e-16,  6.74571889e-17]]),\n",
              " array([[2.02981967, 1.63582644]]))"
            ]
          },
          "metadata": {},
          "execution_count": 446
        }
      ]
    },
    {
      "cell_type": "code",
      "metadata": {
        "id": "g21bvPRYDL9k"
      },
      "source": [
        "x = x/np.std(x[bg_idx], axis = 0, keepdims = True)"
      ],
      "execution_count": 447,
      "outputs": []
    },
    {
      "cell_type": "code",
      "metadata": {
        "colab": {
          "base_uri": "https://localhost:8080/"
        },
        "id": "GtFvIeHsDZJk",
        "outputId": "e21ab471-9ffd-448c-bc14-d4530a25e989"
      },
      "source": [
        "np.std(x[bg_idx], axis = 0, keepdims = True), np.std(x, axis = 0, keepdims = True)"
      ],
      "execution_count": 448,
      "outputs": [
        {
          "output_type": "execute_result",
          "data": {
            "text/plain": [
              "(array([[1., 1.]]), array([[4.89756643, 3.00501566]]))"
            ]
          },
          "metadata": {},
          "execution_count": 448
        }
      ]
    },
    {
      "cell_type": "code",
      "metadata": {
        "colab": {
          "base_uri": "https://localhost:8080/",
          "height": 283
        },
        "id": "8-VLhUfDDeHt",
        "outputId": "0d40b6c9-cb45-4f15-c59d-df4bb2b3d178"
      },
      "source": [
        "for i in range(10):\n",
        "    plt.scatter(x[idx[i],0],x[idx[i],1],label=\"class_\"+str(i))\n",
        "plt.legend(loc='center left', bbox_to_anchor=(1, 0.5))"
      ],
      "execution_count": 449,
      "outputs": [
        {
          "output_type": "execute_result",
          "data": {
            "text/plain": [
              "<matplotlib.legend.Legend at 0x7fab05945b90>"
            ]
          },
          "metadata": {},
          "execution_count": 449
        },
        {
          "output_type": "display_data",
          "data": {
            "image/png": "[encoded data removed]",
            "text/plain": [
              "<Figure size 432x288 with 1 Axes>"
            ]
          },
          "metadata": {
            "needs_background": "light"
          }
        }
      ]
    },
    {
      "cell_type": "code",
      "metadata": {
        "id": "UfFHcZJOr0Sz"
      },
      "source": [
        "foreground_classes = {'class_0','class_1', 'class_2'}\n",
        "\n",
        "background_classes = {'class_3','class_4', 'class_5', 'class_6','class_7', 'class_8', 'class_9'}"
      ],
      "execution_count": 450,
      "outputs": []
    },
    {
      "cell_type": "code",
      "metadata": {
        "colab": {
          "base_uri": "https://localhost:8080/"
        },
        "id": "OplNpNQVr0S2",
        "outputId": "db823550-f509-4686-fb3b-f70e6ec8f77b"
      },
      "source": [
        "fg_class  = np.random.randint(0,3)\n",
        "fg_idx = np.random.randint(0,m)\n",
        "train_data=[]\n",
        "a = []\n",
        "fg_instance = np.array([[0.0,0.0]])\n",
        "bg_instance = np.array([[0.0,0.0]])\n",
        "\n",
        "for i in range(m):\n",
        "  if i == fg_idx:\n",
        "    b = np.random.choice(np.where(idx[fg_class]==True)[0],size=1)\n",
        "    fg_instance += x[b]\n",
        "    a.append(x[b])\n",
        "    print(\"foreground \"+str(fg_class)+\" present at \" + str(fg_idx))\n",
        "  else:\n",
        "    bg_class = np.random.randint(3,10)\n",
        "    b = np.random.choice(np.where(idx[bg_class]==True)[0],size=1)\n",
        "    bg_instance += x[b]\n",
        "    a.append(x[b])\n",
        "    print(\"background \"+str(bg_class)+\" present at \" + str(i))\n",
        "\n",
        "a = np.concatenate(a,axis=0)\n",
        "print(a.shape)\n",
        "\n",
        "print(fg_class , fg_idx)"
      ],
      "execution_count": 451,
      "outputs": [
        {
          "output_type": "stream",
          "name": "stdout",
          "text": [
            "background 3 present at 0\n",
            "background 8 present at 1\n",
            "background 5 present at 2\n",
            "background 3 present at 3\n",
            "background 5 present at 4\n",
            "background 7 present at 5\n",
            "background 6 present at 6\n",
            "background 5 present at 7\n",
            "background 3 present at 8\n",
            "background 5 present at 9\n",
            "background 4 present at 10\n",
            "background 7 present at 11\n",
            "background 4 present at 12\n",
            "background 3 present at 13\n",
            "background 9 present at 14\n",
            "background 6 present at 15\n",
            "background 6 present at 16\n",
            "background 3 present at 17\n",
            "background 3 present at 18\n",
            "background 5 present at 19\n",
            "background 4 present at 20\n",
            "background 4 present at 21\n",
            "background 9 present at 22\n",
            "background 8 present at 23\n",
            "background 3 present at 24\n",
            "background 7 present at 25\n",
            "background 6 present at 26\n",
            "background 8 present at 27\n",
            "background 3 present at 28\n",
            "background 7 present at 29\n",
            "background 8 present at 30\n",
            "background 7 present at 31\n",
            "background 7 present at 32\n",
            "background 5 present at 33\n",
            "background 9 present at 34\n",
            "background 6 present at 35\n",
            "background 4 present at 36\n",
            "background 7 present at 37\n",
            "background 6 present at 38\n",
            "background 3 present at 39\n",
            "background 4 present at 40\n",
            "background 3 present at 41\n",
            "background 4 present at 42\n",
            "background 7 present at 43\n",
            "background 6 present at 44\n",
            "background 5 present at 45\n",
            "background 8 present at 46\n",
            "background 8 present at 47\n",
            "background 7 present at 48\n",
            "background 3 present at 49\n",
            "background 7 present at 50\n",
            "background 7 present at 51\n",
            "background 6 present at 52\n",
            "background 4 present at 53\n",
            "background 3 present at 54\n",
            "background 6 present at 55\n",
            "background 3 present at 56\n",
            "background 8 present at 57\n",
            "background 8 present at 58\n",
            "background 4 present at 59\n",
            "background 7 present at 60\n",
            "background 8 present at 61\n",
            "background 5 present at 62\n",
            "background 8 present at 63\n",
            "background 6 present at 64\n",
            "background 9 present at 65\n",
            "background 6 present at 66\n",
            "background 3 present at 67\n",
            "background 6 present at 68\n",
            "background 3 present at 69\n",
            "background 7 present at 70\n",
            "background 5 present at 71\n",
            "background 9 present at 72\n",
            "background 6 present at 73\n",
            "background 7 present at 74\n",
            "background 5 present at 75\n",
            "background 6 present at 76\n",
            "background 4 present at 77\n",
            "background 6 present at 78\n",
            "background 7 present at 79\n",
            "background 4 present at 80\n",
            "background 3 present at 81\n",
            "foreground 2 present at 82\n",
            "background 4 present at 83\n",
            "background 6 present at 84\n",
            "background 7 present at 85\n",
            "background 3 present at 86\n",
            "background 6 present at 87\n",
            "background 3 present at 88\n",
            "background 4 present at 89\n",
            "background 3 present at 90\n",
            "background 4 present at 91\n",
            "background 3 present at 92\n",
            "background 5 present at 93\n",
            "background 5 present at 94\n",
            "background 7 present at 95\n",
            "background 9 present at 96\n",
            "background 6 present at 97\n",
            "background 6 present at 98\n",
            "background 8 present at 99\n",
            "(100, 2)\n",
            "2 82\n"
          ]
        }
      ]
    },
    {
      "cell_type": "code",
      "metadata": {
        "colab": {
          "base_uri": "https://localhost:8080/"
        },
        "id": "Rx6cMmR3baVf",
        "outputId": "ae62d797-218d-4c8f-a312-622d0986b565"
      },
      "source": [
        "a"
      ],
      "execution_count": 452,
      "outputs": [
        {
          "output_type": "execute_result",
          "data": {
            "text/plain": [
              "array([[-1.62273068e+00, -9.44577073e-01],\n",
              "       [-8.22962717e-01, -7.32521912e-01],\n",
              "       [ 2.09728368e+00, -2.44651323e-01],\n",
              "       [-9.86087689e-01, -7.51232458e-01],\n",
              "       [ 1.37297554e+00, -3.76733075e-01],\n",
              "       [-8.84692079e-01, -1.11551995e-01],\n",
              "       [ 3.23086410e-01, -1.23774128e+00],\n",
              "       [ 1.37297554e+00, -3.76733075e-01],\n",
              "       [-1.37994224e+00, -1.86927689e-02],\n",
              "       [ 1.18729176e+00, -1.43385686e-01],\n",
              "       [ 1.08414750e+00,  2.21424613e+00],\n",
              "       [ 3.07773579e-01,  5.11134472e-01],\n",
              "       [-5.80062748e-01,  2.56861924e+00],\n",
              "       [-1.57480355e+00,  1.37864198e-01],\n",
              "       [ 8.78834768e-01, -3.18178197e-01],\n",
              "       [ 5.58625839e-02, -1.37825691e+00],\n",
              "       [ 3.52658712e-01, -1.71500720e+00],\n",
              "       [-7.59374170e-01, -4.37189615e-03],\n",
              "       [-2.04596416e+00, -2.96574324e-01],\n",
              "       [ 6.67601921e-01,  3.81413021e-01],\n",
              "       [ 4.32964750e-01,  1.79447667e+00],\n",
              "       [ 5.77182460e-01,  2.12761839e+00],\n",
              "       [ 4.81571501e-01, -1.77495772e-01],\n",
              "       [-9.01757410e-01, -6.53914167e-01],\n",
              "       [-1.05809662e+00, -2.96003187e-01],\n",
              "       [-9.64224116e-02, -1.02062394e-01],\n",
              "       [-3.51025475e-01, -1.43245892e+00],\n",
              "       [-7.86494960e-01, -6.96928923e-01],\n",
              "       [-1.78563283e+00, -2.97788754e-01],\n",
              "       [-2.91612592e-02, -8.20240457e-01],\n",
              "       [-1.36322898e+00, -1.17531631e+00],\n",
              "       [-7.28928821e-01, -2.00888740e-01],\n",
              "       [ 1.32681142e+00, -2.74341506e-01],\n",
              "       [ 2.21086140e+00, -4.46459278e-01],\n",
              "       [ 1.07505767e+00,  7.08825917e-02],\n",
              "       [-3.58854571e-02, -1.00480957e+00],\n",
              "       [-3.17975403e-01,  2.26776033e+00],\n",
              "       [ 4.32767080e-01,  1.64016979e-01],\n",
              "       [ 3.05304464e-01, -1.41095178e+00],\n",
              "       [-1.57167801e+00, -2.15455107e-01],\n",
              "       [ 1.65618250e-01,  2.34096180e+00],\n",
              "       [-1.76753678e+00, -3.71998306e-01],\n",
              "       [ 7.40531478e-01,  2.93223156e+00],\n",
              "       [ 2.24896506e-01, -1.96101846e-01],\n",
              "       [ 4.18092096e-01, -9.94536492e-01],\n",
              "       [ 1.37861110e+00, -5.40275314e-01],\n",
              "       [-1.30672456e+00, -8.16503116e-01],\n",
              "       [-4.44657777e-01, -8.22773150e-01],\n",
              "       [-5.49469370e-02,  2.75241692e-01],\n",
              "       [-1.72600806e+00, -3.41770538e-01],\n",
              "       [-1.01222748e-01, -6.04064183e-01],\n",
              "       [ 6.16491513e-01,  1.27586905e-01],\n",
              "       [ 1.67964862e-01, -7.09359803e-01],\n",
              "       [ 1.02651061e+00,  2.14150790e+00],\n",
              "       [-1.21775631e+00, -7.16974055e-02],\n",
              "       [-7.12909825e-01, -1.23765294e+00],\n",
              "       [-1.34572194e+00,  2.21321434e-01],\n",
              "       [-6.10886116e-01, -4.80010535e-01],\n",
              "       [-6.74248734e-01, -8.72847231e-01],\n",
              "       [-5.64662439e-01,  2.31680967e+00],\n",
              "       [-1.44915919e-01, -3.20870253e-01],\n",
              "       [-8.84312693e-01, -6.25599566e-01],\n",
              "       [ 1.52489136e+00,  2.63127792e-02],\n",
              "       [-7.92128161e-01, -5.45112852e-01],\n",
              "       [ 1.27970573e-01, -1.14855190e+00],\n",
              "       [ 8.59813895e-01, -3.67608121e-01],\n",
              "       [-9.39856356e-02, -4.65375966e-01],\n",
              "       [-1.50036085e+00, -1.06988238e-01],\n",
              "       [-7.41694481e-01, -1.11564667e+00],\n",
              "       [-1.56287722e+00,  6.05328543e-02],\n",
              "       [-1.06388916e+00, -1.58012961e-01],\n",
              "       [ 2.61769821e+00,  3.76482710e-01],\n",
              "       [ 7.20750412e-01, -1.25938217e-01],\n",
              "       [-5.51467739e-02, -1.09701273e+00],\n",
              "       [-3.21420942e-01,  4.12020452e-02],\n",
              "       [ 9.69369557e-01, -2.55073260e-01],\n",
              "       [ 2.26230296e-01, -9.79478646e-01],\n",
              "       [-4.42583467e-01,  2.03331831e+00],\n",
              "       [ 1.73975532e-01, -1.01291610e+00],\n",
              "       [ 3.28419291e-01, -2.63913358e-01],\n",
              "       [ 6.77182351e-02,  2.31384142e+00],\n",
              "       [-1.76489389e+00, -2.42244483e-01],\n",
              "       [ 8.11885190e+00,  6.93831227e+00],\n",
              "       [ 8.13075928e-01,  2.35518496e+00],\n",
              "       [ 1.21334728e+00, -1.27332532e+00],\n",
              "       [ 2.70745155e-02,  6.08602622e-01],\n",
              "       [-1.54110299e+00,  1.49389444e-01],\n",
              "       [-4.17955611e-01, -8.20317805e-01],\n",
              "       [-3.22047527e-01, -7.25343701e-01],\n",
              "       [-2.50370275e-01,  2.24995799e+00],\n",
              "       [-3.22047527e-01, -7.25343701e-01],\n",
              "       [ 1.08414750e+00,  2.21424613e+00],\n",
              "       [-1.49347717e+00, -9.45644637e-02],\n",
              "       [ 1.28523668e+00,  2.07231324e-01],\n",
              "       [ 1.48811544e+00, -1.77627931e-01],\n",
              "       [-1.40237805e-02, -6.34840722e-01],\n",
              "       [ 8.24353950e-01,  3.57656156e-01],\n",
              "       [ 2.23201058e-01, -8.23635331e-01],\n",
              "       [ 1.16661925e-01, -1.18815427e+00],\n",
              "       [-9.27831149e-01, -1.10239133e+00]])"
            ]
          },
          "metadata": {},
          "execution_count": 452
        }
      ]
    },
    {
      "cell_type": "code",
      "metadata": {
        "colab": {
          "base_uri": "https://localhost:8080/"
        },
        "id": "dEdaFZPQhc7D",
        "outputId": "49d12145-8080-46a8-b067-2dac62387b43"
      },
      "source": [
        "fg_instance"
      ],
      "execution_count": 453,
      "outputs": [
        {
          "output_type": "execute_result",
          "data": {
            "text/plain": [
              "array([[8.1188519 , 6.93831227]])"
            ]
          },
          "metadata": {},
          "execution_count": 453
        }
      ]
    },
    {
      "cell_type": "code",
      "metadata": {
        "colab": {
          "base_uri": "https://localhost:8080/"
        },
        "id": "IqdAVbG1hftM",
        "outputId": "4de392f1-2756-46fa-b0ad-416cf9a4b283"
      },
      "source": [
        "bg_instance"
      ],
      "execution_count": 454,
      "outputs": [
        {
          "output_type": "execute_result",
          "data": {
            "text/plain": [
              "array([[-8.89347431, -6.72315107]])"
            ]
          },
          "metadata": {},
          "execution_count": 454
        }
      ]
    },
    {
      "cell_type": "code",
      "metadata": {
        "colab": {
          "base_uri": "https://localhost:8080/"
        },
        "id": "Ho98SSXEhx6L",
        "outputId": "48ae8de7-24e1-4b68-9abe-388a545d5784"
      },
      "source": [
        "(fg_instance+bg_instance)/m , m"
      ],
      "execution_count": 455,
      "outputs": [
        {
          "output_type": "execute_result",
          "data": {
            "text/plain": [
              "(array([[-0.00774622,  0.00215161]]), 100)"
            ]
          },
          "metadata": {},
          "execution_count": 455
        }
      ]
    },
    {
      "cell_type": "code",
      "metadata": {
        "id": "jqbvfbwVr0TN"
      },
      "source": [
        "# mosaic_list_of_images =[]\n",
        "# mosaic_label = []\n",
        "train_label=[]\n",
        "fore_idx=[]\n",
        "train_data = []\n",
        "for j in range(train_size):\n",
        "  np.random.seed(j)\n",
        "  fg_instance = torch.zeros([2], dtype=torch.float64) #np.array([[0.0,0.0]])\n",
        "  bg_instance = torch.zeros([2], dtype=torch.float64) #np.array([[0.0,0.0]])\n",
        "  # a=[]\n",
        "\n",
        "  for i in range(m):\n",
        "    if i == fg_idx:\n",
        "      fg_class  = np.random.randint(0,3)\n",
        "      b = np.random.choice(np.where(idx[fg_class]==True)[0],size=1)\n",
        "      fg_instance += x[b]\n",
        "      # a.append(x[b])\n",
        "      # print(\"foreground \"+str(fg_class)+\" present at \" + str(fg_idx))\n",
        "    else:\n",
        "      bg_class = np.random.randint(3,10)\n",
        "      b = np.random.choice(np.where(idx[bg_class]==True)[0],size=1)\n",
        "      bg_instance += x[b]\n",
        "      # a.append(x[b])\n",
        "      # print(\"background \"+str(bg_class)+\" present at \" + str(i))\n",
        "  train_data.append((fg_instance+bg_instance)/m)\n",
        "  # a = np.concatenate(a,axis=0)\n",
        "  # mosaic_list_of_images.append(np.reshape(a,(2*m,1)))\n",
        "  train_label.append(fg_class)\n",
        "  fore_idx.append(fg_idx)"
      ],
      "execution_count": 456,
      "outputs": []
    },
    {
      "cell_type": "code",
      "metadata": {
        "colab": {
          "base_uri": "https://localhost:8080/"
        },
        "id": "X_g6lxkVjN0N",
        "outputId": "f8d96ecf-b869-4b27-bebd-6bdfbb5684fe"
      },
      "source": [
        " train_data[0], train_label[0]"
      ],
      "execution_count": 457,
      "outputs": [
        {
          "output_type": "execute_result",
          "data": {
            "text/plain": [
              "(tensor([[-0.0706, -0.0625]], dtype=torch.float64), 0)"
            ]
          },
          "metadata": {},
          "execution_count": 457
        }
      ]
    },
    {
      "cell_type": "code",
      "metadata": {
        "colab": {
          "base_uri": "https://localhost:8080/"
        },
        "id": "Tz5wQCevobYr",
        "outputId": "5c9ae5c2-efc0-4896-f9d9-ffc7a7e296eb"
      },
      "source": [
        "train_data = torch.stack(train_data, axis=0)\n",
        "train_data.shape, len(train_label)"
      ],
      "execution_count": 458,
      "outputs": [
        {
          "output_type": "execute_result",
          "data": {
            "text/plain": [
              "(torch.Size([2000, 1, 2]), 2000)"
            ]
          },
          "metadata": {},
          "execution_count": 458
        }
      ]
    },
    {
      "cell_type": "code",
      "metadata": {
        "id": "CVAlImGYA49A"
      },
      "source": [
        "test_label=[]\n",
        "# fore_idx=[]\n",
        "test_data = []\n",
        "for j in range(1000):\n",
        "  np.random.seed(j)\n",
        "  fg_instance = torch.zeros([2], dtype=torch.float64) #np.array([[0.0,0.0]])\n",
        "\n",
        "  fg_class  = np.random.randint(0,3)\n",
        "  b = np.random.choice(np.where(idx[fg_class]==True)[0],size=1)\n",
        "  fg_instance += x[b]\n",
        "  # a.append(x[b])\n",
        "  # print(\"foreground \"+str(fg_class)+\" present at \" + str(fg_idx))\n",
        "\n",
        "  test_data.append((fg_instance)/m)\n",
        "  # a = np.concatenate(a,axis=0)\n",
        "  # mosaic_list_of_images.append(np.reshape(a,(2*m,1)))\n",
        "  test_label.append(fg_class)\n",
        "  # fore_idx.append(fg_idx)"
      ],
      "execution_count": 459,
      "outputs": []
    },
    {
      "cell_type": "code",
      "metadata": {
        "colab": {
          "base_uri": "https://localhost:8080/"
        },
        "id": "XltBz3__BT_C",
        "outputId": "b49f050c-e242-42f0-907e-b604d55f24b9"
      },
      "source": [
        "test_data[0], test_label[0]"
      ],
      "execution_count": 460,
      "outputs": [
        {
          "output_type": "execute_result",
          "data": {
            "text/plain": [
              "(tensor([[0.1114, 0.0392]], dtype=torch.float64), 0)"
            ]
          },
          "metadata": {},
          "execution_count": 460
        }
      ]
    },
    {
      "cell_type": "code",
      "metadata": {
        "colab": {
          "base_uri": "https://localhost:8080/"
        },
        "id": "JqQfjkCnBX8E",
        "outputId": "80853bf6-aada-47a7-b49d-3d97c39134ac"
      },
      "source": [
        "test_data = torch.stack(test_data, axis=0)\n",
        "test_data.shape, len(test_label)"
      ],
      "execution_count": 461,
      "outputs": [
        {
          "output_type": "execute_result",
          "data": {
            "text/plain": [
              "(torch.Size([1000, 1, 2]), 1000)"
            ]
          },
          "metadata": {},
          "execution_count": 461
        }
      ]
    },
    {
      "cell_type": "code",
      "metadata": {
        "id": "nQhRf1ICBvW6"
      },
      "source": [
        "x1 = (train_data).numpy()\n",
        "y1 = np.array(train_label)"
      ],
      "execution_count": 462,
      "outputs": []
    },
    {
      "cell_type": "code",
      "metadata": {
        "colab": {
          "base_uri": "https://localhost:8080/"
        },
        "id": "vDAz96DSCXn5",
        "outputId": "1d1b6925-d1a2-48e2-a958-45c799e10e54"
      },
      "source": [
        "x1[y1==0,0]"
      ],
      "execution_count": 463,
      "outputs": [
        {
          "output_type": "execute_result",
          "data": {
            "text/plain": [
              "array([[-0.07064294, -0.06248072],\n",
              "       [ 0.1216248 , -0.03466586],\n",
              "       [ 0.13361205,  0.12945317],\n",
              "       ...,\n",
              "       [ 0.19166089,  0.12186952],\n",
              "       [-0.00578668,  0.02483165],\n",
              "       [ 0.25750687,  0.07118327]])"
            ]
          },
          "metadata": {},
          "execution_count": 463
        }
      ]
    },
    {
      "cell_type": "code",
      "metadata": {
        "colab": {
          "base_uri": "https://localhost:8080/"
        },
        "id": "kMwwZhv7Bv1U",
        "outputId": "483731b0-bd64-467f-befc-af8d5c514a51"
      },
      "source": [
        "x1[y1==0,0][:,0]"
      ],
      "execution_count": 464,
      "outputs": [
        {
          "output_type": "execute_result",
          "data": {
            "text/plain": [
              "array([-0.07064294,  0.1216248 ,  0.13361205,  0.21066439,  0.1562257 ,\n",
              "        0.05125838,  0.09990015,  0.13842859,  0.17961427,  0.09013265,\n",
              "       -0.02282193,  0.10092884,  0.37256405,  0.18768301,  0.15054545,\n",
              "        0.01850823,  0.25477768,  0.11395922,  0.32331946,  0.08286556,\n",
              "        0.18087292,  0.14141982, -0.11493358,  0.27108957,  0.15439375,\n",
              "        0.24274529,  0.13033547,  0.15741983,  0.14759126,  0.20457083,\n",
              "        0.11461126,  0.05036035,  0.13038585,  0.07752362,  0.03502559,\n",
              "        0.08056959,  0.25109562,  0.25757043,  0.13261036,  0.02360958,\n",
              "        0.06638462,  0.06042292,  0.2756001 , -0.0834132 ,  0.01182249,\n",
              "        0.27972187,  0.21670974,  0.02705168,  0.08668827, -0.05490957,\n",
              "        0.17696741,  0.13162846,  0.06520595, -0.07815622,  0.09431224,\n",
              "       -0.08131901,  0.04789768,  0.00696944,  0.33962792,  0.12398   ,\n",
              "        0.01911126, -0.00383884, -0.02267928,  0.12380885, -0.00629047,\n",
              "        0.20350188,  0.07676841,  0.25944451,  0.27929247,  0.12161747,\n",
              "       -0.0414213 , -0.04348788,  0.15840186,  0.02872923,  0.09768054,\n",
              "        0.08973922,  0.11004531,  0.23947991,  0.09760035,  0.2843303 ,\n",
              "       -0.05107875,  0.15337031,  0.1840355 ,  0.24710779,  0.05032209,\n",
              "       -0.00116501,  0.04084545,  0.12356076,  0.22689702,  0.09882169,\n",
              "        0.24027592,  0.17661652,  0.23354834,  0.05957446,  0.13350881,\n",
              "        0.25453083,  0.28865559,  0.16750498,  0.21690923,  0.14153164,\n",
              "        0.03431351,  0.10759039,  0.01515715,  0.0673229 ,  0.06806342,\n",
              "       -0.04145669,  0.06746229, -0.14191956,  0.19106154,  0.21347246,\n",
              "        0.08373258,  0.08018992,  0.0302851 ,  0.31876508,  0.21742755,\n",
              "        0.04252395,  0.06614164,  0.15968943,  0.13616539,  0.09621185,\n",
              "        0.19735532,  0.21940599, -0.0034302 ,  0.06387098,  0.3865972 ,\n",
              "        0.15030463,  0.24079876,  0.14271141,  0.14935545,  0.19234698,\n",
              "        0.20339855,  0.17670519,  0.18810307,  0.16987857,  0.11093299,\n",
              "        0.25138101,  0.19271976,  0.15380379,  0.02549312, -0.01872565,\n",
              "        0.1516609 ,  0.00473731,  0.02613362,  0.05243815,  0.10371002,\n",
              "        0.1692872 ,  0.12786799,  0.08917064, -0.0241641 ,  0.08060974,\n",
              "        0.22443521,  0.20659564,  0.0648406 ,  0.13730643,  0.05897971,\n",
              "        0.15683242,  0.17541588,  0.09543806,  0.15414987,  0.08542882,\n",
              "        0.04989297,  0.13246475,  0.16402302,  0.04554874,  0.15174067,\n",
              "        0.08920241, -0.07668748,  0.19709078, -0.07736944, -0.0383664 ,\n",
              "        0.03618611,  0.27735372,  0.20000092,  0.15444349,  0.30876273,\n",
              "        0.05479727,  0.21231966,  0.24013179,  0.08237613,  0.03471653,\n",
              "       -0.01848783,  0.06603068,  0.15697854,  0.29674709,  0.12673484,\n",
              "        0.1365123 ,  0.10629058, -0.06534319,  0.02594147,  0.00439665,\n",
              "        0.10458748, -0.04648137,  0.18686572,  0.26121818,  0.19199752,\n",
              "        0.23249243,  0.05172543, -0.02319093,  0.03808817,  0.29323982,\n",
              "       -0.08601329,  0.15508529,  0.07377251,  0.24125843,  0.13842946,\n",
              "        0.18988757,  0.10859145,  0.14817161,  0.08115728,  0.03058668,\n",
              "        0.10500906,  0.00095671,  0.01802178,  0.11741085, -0.020987  ,\n",
              "        0.05234515,  0.18979219,  0.2978369 ,  0.21936518,  0.2114305 ,\n",
              "       -0.05231716,  0.27080433,  0.11099941,  0.0937136 ,  0.10546253,\n",
              "        0.13014226,  0.06759064,  0.1447904 , -0.10572158,  0.13109964,\n",
              "        0.17397357,  0.15043487,  0.06163042,  0.05872021,  0.12222566,\n",
              "        0.12041   ,  0.04291145,  0.16837804,  0.00913976,  0.02911843,\n",
              "        0.05739769,  0.18875671,  0.08601176,  0.16609316,  0.09946328,\n",
              "       -0.0206546 ,  0.09284518,  0.04030821,  0.22966684,  0.02221129,\n",
              "       -0.04092863,  0.23988393,  0.13523951,  0.11593524,  0.10050359,\n",
              "        0.19376209,  0.12412686,  0.30599251,  0.24928867,  0.1809666 ,\n",
              "        0.25701955, -0.02290102,  0.25162698,  0.00059757,  0.1682821 ,\n",
              "        0.18821983,  0.08383331,  0.05478402,  0.21970331,  0.07209177,\n",
              "        0.07994441, -0.00275952,  0.07806712,  0.15533371,  0.18300397,\n",
              "        0.10860391,  0.21135421,  0.24766614,  0.28216845,  0.12961472,\n",
              "        0.05918611,  0.27816751,  0.24318022,  0.28236492,  0.20797459,\n",
              "        0.27325057, -0.10561349,  0.28344592,  0.15538132,  0.27152358,\n",
              "        0.19469088,  0.03994919,  0.09763639, -0.05488298,  0.16208119,\n",
              "        0.09528161, -0.07326281,  0.16813782,  0.16115225,  0.14491081,\n",
              "       -0.03429778,  0.19694461,  0.16436039, -0.01745894,  0.14395752,\n",
              "        0.18665598,  0.14124273,  0.14455583, -0.07455239, -0.06810779,\n",
              "        0.04885354,  0.04139926,  0.03461229,  0.17666342,  0.03171581,\n",
              "        0.11967393,  0.08053035,  0.11948512,  0.116089  ,  0.22188618,\n",
              "        0.10648456,  0.10772413,  0.03195323,  0.21729925,  0.24354687,\n",
              "        0.03930898,  0.13312766,  0.18445901, -0.00543021,  0.20254826,\n",
              "        0.01661829,  0.1278928 ,  0.17244254,  0.00744508,  0.13504876,\n",
              "        0.04705213,  0.15220997, -0.00597489,  0.06272144,  0.13867137,\n",
              "        0.07030364, -0.12309067,  0.11804763,  0.16872716,  0.07614171,\n",
              "        0.09798071,  0.13614882,  0.26944148,  0.09039276, -0.06693806,\n",
              "        0.00714661,  0.23242795,  0.2414069 ,  0.0307125 , -0.05973565,\n",
              "        0.20297548,  0.22680436,  0.02015732,  0.062933  ,  0.12717009,\n",
              "        0.13808229,  0.0040124 ,  0.21143171, -0.12794764,  0.14427988,\n",
              "        0.02182724,  0.10005008,  0.25223552,  0.04965818, -0.07612871,\n",
              "       -0.06033834,  0.11589549,  0.11042332,  0.17549269, -0.03299618,\n",
              "        0.24796066,  0.07486765,  0.0513515 , -0.04427425,  0.07080769,\n",
              "        0.1651739 , -0.00489612, -0.02087121,  0.08619322,  0.21486181,\n",
              "        0.00278502,  0.09944435,  0.11340807,  0.21708857, -0.11973588,\n",
              "        0.22549537,  0.07867307, -0.08101519,  0.02652679,  0.21083489,\n",
              "        0.27968722,  0.16645979, -0.01120983,  0.17436223,  0.34150813,\n",
              "        0.17564192,  0.11027549, -0.13099607,  0.15976802,  0.19160467,\n",
              "        0.23661689,  0.08491578, -0.10112644,  0.43145994,  0.12009345,\n",
              "        0.13790004,  0.01039182,  0.12884404, -0.05510124,  0.03252424,\n",
              "        0.04723414,  0.14266156,  0.03669435, -0.05673812,  0.14932812,\n",
              "        0.19541786,  0.11103668,  0.08137741,  0.16886445,  0.13304586,\n",
              "        0.07569923,  0.08617146, -0.0250956 ,  0.15222173, -0.1207311 ,\n",
              "        0.00912021,  0.15425288,  0.18810737,  0.12750956,  0.01557517,\n",
              "        0.12813385,  0.10567289,  0.12470214, -0.03856208,  0.26715345,\n",
              "        0.13926227, -0.07383381, -0.06050937,  0.12968599,  0.19650887,\n",
              "        0.27862109,  0.06239413,  0.09532424,  0.12556815, -0.01673123,\n",
              "        0.13678549, -0.01330191,  0.21122863,  0.08348162,  0.31565276,\n",
              "        0.33869998,  0.29562681,  0.29681245,  0.01865454,  0.09567743,\n",
              "        0.11704156,  0.13271602,  0.19387079,  0.29261595,  0.2949734 ,\n",
              "        0.12467525, -0.01228208, -0.03550531,  0.11434117,  0.06924745,\n",
              "        0.24782362,  0.04277911,  0.17325089, -0.04318557,  0.10178868,\n",
              "        0.20396575,  0.13868491, -0.03893883,  0.08063369,  0.19628907,\n",
              "        0.04555033, -0.01631383,  0.05036146,  0.16256422,  0.08719565,\n",
              "       -0.01533898,  0.06869509,  0.02107736,  0.17406192,  0.0282109 ,\n",
              "        0.16219788,  0.12542436,  0.15284649,  0.06654302,  0.16059985,\n",
              "        0.25292127,  0.2406654 ,  0.03372102,  0.05882602,  0.06695254,\n",
              "        0.11738366,  0.08898396,  0.06763986,  0.16939766,  0.06343388,\n",
              "        0.07385755,  0.33656545,  0.01959628, -0.04366022,  0.18868049,\n",
              "        0.15596945,  0.06856213,  0.0112662 ,  0.23993601,  0.07175538,\n",
              "       -0.04715053,  0.28767268,  0.07017342,  0.04982749, -0.05894008,\n",
              "        0.14476428,  0.09306228,  0.07269744,  0.14568224,  0.07073926,\n",
              "        0.15777957,  0.11510031,  0.04766187,  0.09467923, -0.00238069,\n",
              "        0.14650229,  0.18443881,  0.07018569,  0.0869193 ,  0.16096243,\n",
              "        0.13317603, -0.08621187,  0.01475646,  0.16429001,  0.17688906,\n",
              "       -0.01559879, -0.13880679,  0.08391217,  0.05870071,  0.13885682,\n",
              "        0.10100458,  0.15932304,  0.10958019,  0.22912939,  0.18274321,\n",
              "        0.14127128,  0.24172615,  0.13479602,  0.02684669,  0.20849617,\n",
              "        0.21424122,  0.2287316 ,  0.15734466,  0.12943019,  0.04760893,\n",
              "        0.11458519,  0.02382838,  0.08819703,  0.18361121, -0.00055354,\n",
              "        0.23963041,  0.13447252, -0.02147738,  0.07080976,  0.04210043,\n",
              "        0.14358375,  0.19810132,  0.09327878,  0.0856231 ,  0.09818945,\n",
              "        0.14890681,  0.02858355,  0.14715929,  0.11201082,  0.09131947,\n",
              "        0.09642858, -0.08858113,  0.20529476,  0.11373111, -0.00768741,\n",
              "        0.10986097,  0.01964928,  0.18572126,  0.08939354,  0.12680505,\n",
              "        0.23916608, -0.0111346 ,  0.00359732,  0.17867639,  0.25780542,\n",
              "        0.24479833,  0.15100905,  0.05357347,  0.21339963,  0.15072248,\n",
              "        0.05090409,  0.23259809, -0.01849251,  0.13613928, -0.0707302 ,\n",
              "        0.05974215, -0.03943998,  0.10290907,  0.18706639,  0.07347299,\n",
              "        0.12596516,  0.03353195,  0.01945171,  0.15726228, -0.04586614,\n",
              "        0.01603612,  0.22555879, -0.03952353,  0.21587818,  0.14912299,\n",
              "        0.19647565,  0.11128472,  0.10439887,  0.06654056,  0.19593777,\n",
              "        0.14595731,  0.06212315,  0.04886554,  0.03384773,  0.27210278,\n",
              "        0.08412454, -0.04530615,  0.15265805,  0.0724959 ,  0.26959551,\n",
              "        0.16311805,  0.19166089, -0.00578668,  0.25750687])"
            ]
          },
          "metadata": {},
          "execution_count": 464
        }
      ]
    },
    {
      "cell_type": "code",
      "metadata": {
        "colab": {
          "base_uri": "https://localhost:8080/"
        },
        "id": "ydbu3OV3CYxB",
        "outputId": "ea196b4e-354c-48a3-f9ad-5c456a1cf9d1"
      },
      "source": [
        "x1[y1==0,0][:,1]"
      ],
      "execution_count": 465,
      "outputs": [
        {
          "output_type": "execute_result",
          "data": {
            "text/plain": [
              "array([-6.24807223e-02, -3.46658578e-02,  1.29453168e-01,  1.12221791e-01,\n",
              "        2.48639811e-02,  1.21680759e-01, -3.88115626e-02, -5.42106496e-02,\n",
              "        1.79737132e-02, -4.59290203e-02,  9.53061326e-02,  1.51509322e-01,\n",
              "        1.53689519e-01, -2.29354556e-01,  7.45047476e-02,  2.09615838e-01,\n",
              "        2.19435500e-01,  5.78998517e-02,  1.04840588e-01,  8.54290389e-02,\n",
              "        1.59427026e-01, -4.67678300e-02,  1.14501117e-01,  6.01211832e-02,\n",
              "        1.10247328e-02,  1.54232774e-01,  6.04817768e-02, -8.07344735e-02,\n",
              "       -5.30206711e-04,  4.21297837e-02, -1.90735748e-02,  1.03015508e-01,\n",
              "        5.75441649e-02, -4.40143924e-02,  1.46904141e-01,  1.03665813e-01,\n",
              "        1.94182637e-03,  2.02815081e-01,  3.08899140e-01,  1.40680505e-01,\n",
              "        7.70202945e-02, -2.50543385e-02,  8.91802925e-02,  3.24999281e-02,\n",
              "        9.51582048e-02,  1.56888145e-03,  1.37403341e-02,  7.60735094e-02,\n",
              "        3.17517354e-02, -1.67240658e-01,  4.43793535e-02,  2.87891839e-02,\n",
              "        2.51812592e-01, -2.92152456e-02,  1.97255355e-02,  1.18261704e-02,\n",
              "       -6.43472010e-03,  1.20147317e-01, -3.03165525e-03,  7.42379184e-02,\n",
              "        5.13754971e-02, -1.09657336e-01,  1.11199908e-01,  3.39440211e-02,\n",
              "        1.65789263e-01,  2.89740771e-02, -5.24242133e-02, -1.04594077e-01,\n",
              "        3.19042272e-02,  5.65672663e-02,  1.33898642e-01,  2.44711124e-01,\n",
              "       -5.35988804e-02, -8.28422862e-02, -7.04912030e-03,  1.68611286e-01,\n",
              "       -5.02444960e-02, -1.85707908e-01, -8.24928098e-03,  6.86475136e-02,\n",
              "        3.94167741e-02,  1.81523005e-01,  9.75717429e-02, -3.69454499e-02,\n",
              "        1.81094874e-01,  1.36322946e-01,  3.78866044e-03,  2.12383455e-01,\n",
              "       -2.18952817e-02,  2.02034960e-01,  2.26816439e-01, -6.16047340e-02,\n",
              "        5.81080553e-02, -1.01594548e-01,  1.77370726e-01,  8.83815634e-02,\n",
              "       -7.06725027e-02, -1.51956561e-01,  2.12397221e-01, -7.16311590e-02,\n",
              "       -5.82795112e-02,  3.90432907e-02, -8.94052440e-02,  8.75026975e-02,\n",
              "        7.32509136e-02, -5.18026738e-02, -1.61845758e-01, -1.06448290e-01,\n",
              "       -8.46313853e-03,  1.27660590e-01,  3.33805272e-02, -1.22169479e-01,\n",
              "        1.21444003e-01,  9.57750546e-02,  1.93290236e-02,  7.00977967e-02,\n",
              "       -8.24787948e-02,  2.23586262e-01,  1.39213979e-02, -1.32996564e-01,\n",
              "       -1.34512381e-01,  9.55693146e-02, -4.09407049e-02, -1.56747283e-02,\n",
              "        4.99115892e-02,  1.14042421e-01,  8.18776532e-02, -6.45326806e-02,\n",
              "        6.06402884e-02,  8.28044672e-03, -2.69213948e-02,  3.15208566e-02,\n",
              "        1.00825700e-02, -1.49246050e-01, -6.09482553e-02,  8.02787976e-02,\n",
              "        6.50595034e-02, -1.76892027e-04,  1.82546576e-01, -5.35043349e-02,\n",
              "        5.34922376e-03,  4.83756195e-04,  2.83976105e-02,  5.52997605e-02,\n",
              "        9.15713783e-02, -4.34293039e-02,  4.42908717e-02,  6.56401960e-02,\n",
              "       -1.04334750e-01,  1.46108131e-01,  3.33277543e-02,  5.24868321e-02,\n",
              "       -5.09879044e-02, -1.32982493e-01,  1.55031218e-01,  3.54487028e-02,\n",
              "        2.34455457e-01,  1.22594042e-01,  7.30422109e-02, -1.22845080e-01,\n",
              "        8.66209408e-02,  8.56016807e-02,  2.55323151e-02, -7.21492018e-02,\n",
              "        7.71446423e-02,  1.09606623e-01,  6.71028387e-02, -3.86173616e-02,\n",
              "       -3.83748235e-03,  7.21110902e-02, -5.43138963e-02,  9.15078763e-02,\n",
              "        1.39649415e-01,  1.63088314e-01,  1.31133649e-01,  9.21663118e-02,\n",
              "        1.27719510e-01,  1.35202220e-01,  1.78388628e-01, -1.70840616e-02,\n",
              "       -4.51690838e-02, -3.58590594e-02, -2.61179535e-02,  2.34366489e-01,\n",
              "        3.59897908e-02,  8.24030507e-02,  6.72357919e-02, -5.80907379e-02,\n",
              "       -4.51549104e-02,  1.14354106e-01,  2.61673498e-01,  3.17449326e-02,\n",
              "        7.08521041e-02, -5.38744808e-02,  4.73479374e-02,  1.63523301e-01,\n",
              "       -1.01380356e-01,  1.91409172e-01,  2.84641633e-02,  6.37506574e-02,\n",
              "        5.30169694e-02, -1.43413588e-01,  5.57175718e-02,  1.08540470e-01,\n",
              "       -6.47232930e-02,  1.02166383e-03,  1.14615482e-01,  1.00925468e-01,\n",
              "        1.46594426e-01,  2.54388082e-02, -2.77170659e-02, -9.92497193e-03,\n",
              "        1.29260205e-01,  5.00102035e-02,  9.79404996e-02,  1.57244440e-01,\n",
              "       -1.23830714e-02,  6.48977334e-02,  1.81824834e-01,  1.02990215e-01,\n",
              "        4.18157187e-02, -1.14770433e-01, -8.75728521e-02, -2.53229000e-02,\n",
              "        1.15770932e-01,  5.50740160e-02, -9.61695535e-02, -1.66566728e-02,\n",
              "       -7.00237396e-02,  6.32667953e-02,  5.56066045e-02,  8.98697474e-02,\n",
              "       -4.57410088e-02,  4.21504994e-02,  3.67479985e-02,  1.09831182e-01,\n",
              "       -5.78281466e-02,  1.40263299e-01, -4.30003866e-02,  5.23028920e-02,\n",
              "        1.47946763e-01,  9.59710479e-03, -6.10299162e-02,  1.08540380e-01,\n",
              "       -6.42837621e-02,  5.02540849e-02, -9.50245209e-02,  2.04874454e-01,\n",
              "        1.40213815e-01, -1.18999130e-01,  1.72305318e-02,  9.68791206e-02,\n",
              "        3.84588999e-02,  1.27966352e-01,  2.06085432e-01, -1.42880479e-01,\n",
              "       -1.30250795e-02,  6.86106088e-02,  1.31622023e-01,  2.58202655e-01,\n",
              "        1.14723375e-01, -1.09630810e-01, -2.10691504e-02, -6.13519434e-02,\n",
              "        4.29005393e-03,  1.73661564e-01, -1.17248845e-01,  3.93053600e-02,\n",
              "        1.24985124e-01, -4.64098731e-02,  3.65108524e-02, -6.12772725e-02,\n",
              "        4.42530131e-02,  6.13343442e-02,  7.06109450e-02,  2.85429937e-02,\n",
              "       -9.71965149e-02,  1.09444805e-01,  2.02322476e-01, -6.53905477e-02,\n",
              "        1.18620222e-01, -4.50615182e-02, -1.88286481e-02, -3.04953194e-02,\n",
              "       -1.49412859e-01,  1.45139904e-01, -6.21485266e-02,  3.74178607e-02,\n",
              "        3.76325569e-03, -1.39112812e-02,  1.56801064e-02,  6.93789492e-02,\n",
              "        5.61199539e-02,  6.75607043e-02, -5.43918579e-02,  4.02219817e-02,\n",
              "        1.83841127e-01,  2.05091522e-02, -7.25182728e-02, -6.84354828e-02,\n",
              "        1.14733032e-02,  7.59976686e-02,  1.32945301e-01, -3.61099508e-03,\n",
              "       -3.33568964e-02,  2.52615101e-02,  1.08282492e-01,  2.37009030e-02,\n",
              "        1.36982837e-02, -4.89842983e-02,  1.35744517e-02, -3.79898798e-03,\n",
              "        1.39362928e-02,  4.70522995e-02, -1.01329621e-01,  4.43577372e-02,\n",
              "        1.75280609e-01,  1.06798545e-01, -8.80599426e-02, -1.07508009e-01,\n",
              "        1.36652218e-01,  1.60531860e-03,  2.67915621e-01,  6.56325938e-02,\n",
              "        1.94896995e-01,  1.43177674e-01, -1.24372967e-01,  5.53297617e-02,\n",
              "        1.22940261e-01, -1.30463115e-02, -7.23232466e-02,  3.10994276e-02,\n",
              "        3.36551843e-02,  1.51347337e-02,  1.03948670e-01,  6.20836526e-02,\n",
              "        2.28981037e-01, -1.05941089e-01,  9.78850380e-02,  1.81251769e-02,\n",
              "        9.41589388e-02,  7.77172788e-02,  2.81007784e-02,  2.79690339e-03,\n",
              "        6.64595725e-02,  2.81843847e-02,  1.47920631e-01,  7.47846831e-02,\n",
              "        1.09702088e-02,  8.36996551e-02, -1.53162249e-01,  5.32966687e-02,\n",
              "        2.52058502e-01,  1.17912708e-01,  8.93382299e-02, -2.43582502e-01,\n",
              "        1.42956632e-01, -1.86189568e-02,  1.39402195e-01, -4.42082086e-02,\n",
              "        1.50457719e-01,  5.69102219e-02,  2.18316955e-02, -3.09772228e-02,\n",
              "        1.91816300e-01,  2.16091112e-02, -9.90766019e-02,  4.83493819e-02,\n",
              "        8.58570874e-02,  7.33187295e-02, -5.11863330e-02,  1.04137556e-01,\n",
              "        7.60757934e-02,  1.06307891e-01,  7.99739929e-03,  2.41158311e-01,\n",
              "        9.25727139e-02,  1.96210064e-01, -8.29870551e-02, -1.53155007e-01,\n",
              "        2.30581505e-02, -1.17861603e-01,  1.11069620e-01, -2.68676372e-02,\n",
              "        9.42250025e-02,  1.50796455e-01,  6.41294373e-02,  1.37316907e-01,\n",
              "       -3.76014990e-03,  2.10215252e-02,  6.52944444e-03,  3.90968796e-02,\n",
              "        1.77416737e-01,  2.13258004e-02, -1.74804620e-02,  2.49139317e-01,\n",
              "       -5.69161801e-03, -3.03783047e-02,  1.55408469e-01,  1.28578470e-01,\n",
              "        2.11639828e-01, -6.08563419e-02,  7.52028130e-02, -1.02995036e-01,\n",
              "        6.08980817e-02,  2.21949928e-01, -4.25560459e-02,  5.98482007e-02,\n",
              "        1.53483034e-01,  6.10566705e-02,  5.47644872e-02,  2.78899088e-02,\n",
              "       -7.32778177e-02, -1.14952461e-01,  2.29844116e-01,  8.38229128e-02,\n",
              "        8.11767192e-02, -1.19285766e-01,  1.82302122e-02,  1.59232471e-01,\n",
              "       -1.40101604e-02,  6.76252428e-03,  1.13862071e-01,  4.59141878e-02,\n",
              "        1.08836314e-01, -1.62522880e-01,  1.11741176e-02,  2.82686070e-02,\n",
              "       -1.52246709e-03, -4.81724687e-02,  9.85006815e-02,  2.52610196e-01,\n",
              "        7.78716316e-03, -1.26654469e-01,  1.46001000e-02,  1.69311705e-01,\n",
              "        1.26916486e-02,  1.15809321e-01,  6.27248799e-02,  3.00091795e-01,\n",
              "        1.70141594e-01,  1.74873227e-02, -4.09730864e-02,  6.93766958e-02,\n",
              "        2.85234981e-02,  1.32029297e-01,  1.67061909e-01,  4.96357840e-02,\n",
              "        5.10953013e-02,  6.31849798e-02,  1.53926307e-01,  3.70180754e-02,\n",
              "        7.16503081e-02,  9.27136725e-03,  5.99139348e-02,  1.06860150e-01,\n",
              "        9.27024552e-02,  8.57755443e-02,  9.26009777e-02, -6.43039210e-02,\n",
              "       -3.30888167e-02, -6.44136273e-02,  1.02118787e-01,  6.56271919e-02,\n",
              "       -3.81214254e-02,  2.86395824e-03, -1.48381841e-01, -5.05353821e-02,\n",
              "       -1.42386556e-02,  5.83935521e-03, -2.42958522e-02,  5.84264247e-02,\n",
              "       -2.94079604e-02, -1.19504080e-01,  1.22837379e-01,  1.37488309e-01,\n",
              "        7.30027334e-02, -1.42037192e-01,  2.43558601e-01, -9.52049839e-02,\n",
              "        6.53554478e-03,  1.54181535e-01,  2.04000613e-01,  2.66192783e-02,\n",
              "        4.38622205e-02, -1.85954452e-02,  1.73037933e-01,  5.72898014e-02,\n",
              "        7.02429190e-03, -1.63743718e-02,  1.58076180e-01, -7.85763573e-02,\n",
              "        1.26971547e-01, -2.91398979e-02,  7.58122628e-02,  1.32901576e-01,\n",
              "        1.27642090e-01,  1.47423963e-01,  7.89618369e-02,  8.11689438e-03,\n",
              "        1.65165946e-01,  5.75377932e-02,  6.65365686e-02, -2.25013247e-01,\n",
              "        1.17097340e-01, -5.72402047e-02, -1.30360008e-01, -1.68420013e-01,\n",
              "        7.65807896e-02, -6.59025836e-02,  2.27763859e-02,  5.30655854e-02,\n",
              "        1.85022414e-01,  4.79275227e-02,  3.36404234e-02, -7.97445819e-02,\n",
              "       -7.33236642e-02, -7.84452274e-02, -7.90763945e-02,  1.16288638e-01,\n",
              "        1.88397967e-01, -1.20803515e-01, -2.74976581e-02,  7.17112193e-02,\n",
              "        4.94889288e-02,  9.37349061e-02,  7.28379444e-02, -1.97169819e-01,\n",
              "        1.55912966e-01,  1.63622180e-01,  1.07923123e-01,  1.22241750e-03,\n",
              "       -2.13117919e-02,  1.51111528e-01,  8.46279629e-02, -5.15899337e-02,\n",
              "       -1.02214088e-01,  1.77116408e-01, -3.60768229e-04, -4.23991906e-02,\n",
              "       -7.91376266e-03,  3.83783570e-02,  2.17960913e-01, -2.58912114e-02,\n",
              "        1.85250251e-01, -9.50248551e-03, -1.74113309e-02,  5.47260780e-02,\n",
              "        1.16621927e-01,  4.32335122e-02, -8.39645818e-02,  4.20379449e-02,\n",
              "        2.23254236e-02,  8.23316002e-02, -4.46091826e-03,  2.70215738e-03,\n",
              "        2.83205006e-03,  1.49875349e-01, -5.06911455e-03,  8.36539045e-02,\n",
              "        4.55221354e-02,  8.63679347e-02,  6.64222708e-02,  7.77319450e-02,\n",
              "        1.95369274e-01, -3.48659811e-03, -3.74159120e-02, -1.20285112e-01,\n",
              "        8.86839258e-02,  1.55206956e-01,  9.45775276e-02,  8.78626263e-02,\n",
              "        1.19699778e-01,  1.99521548e-02,  4.98313404e-02,  4.78395130e-02,\n",
              "       -5.95922327e-02,  7.38166674e-02, -1.01405717e-01, -1.18376178e-01,\n",
              "        1.60142510e-02,  1.47882958e-01,  1.11569939e-01, -1.49228106e-01,\n",
              "        2.14762499e-01,  4.91598233e-02, -2.49855116e-01,  1.07856790e-01,\n",
              "        5.62960013e-02,  3.15419406e-02, -6.00962104e-02, -7.12402211e-02,\n",
              "        2.05247247e-02,  5.54473346e-02,  1.41263726e-01, -1.16698997e-01,\n",
              "       -4.26679255e-02,  2.31271167e-02, -1.47371578e-01,  1.33618690e-01,\n",
              "        1.99965031e-01,  1.17000073e-01,  1.46833134e-01,  2.03735144e-01,\n",
              "       -2.97006695e-02,  4.81774542e-02,  1.63455184e-02,  1.08469473e-01,\n",
              "       -1.47959751e-01, -1.14589152e-01,  6.10849418e-02, -1.11758555e-01,\n",
              "       -8.07818750e-02,  1.28364341e-01, -8.48325177e-02,  6.95070184e-02,\n",
              "       -6.61156390e-02,  2.36395430e-02, -6.46037054e-02,  1.26949740e-01,\n",
              "        8.61608292e-02,  5.33445804e-03,  5.82441403e-04,  6.26415469e-02,\n",
              "        1.44395080e-01,  2.32111306e-01,  8.74476958e-02,  2.74037038e-01,\n",
              "       -3.45598076e-02,  1.36983880e-01,  1.10687293e-02, -9.00449152e-02,\n",
              "        1.04251107e-01,  1.71925319e-01,  6.43920808e-02,  2.07222890e-01,\n",
              "        1.21869524e-01,  2.48316460e-02,  7.11832681e-02])"
            ]
          },
          "metadata": {},
          "execution_count": 465
        }
      ]
    },
    {
      "cell_type": "code",
      "metadata": {
        "colab": {
          "base_uri": "https://localhost:8080/",
          "height": 299
        },
        "id": "bT9-kEI7NAnR",
        "outputId": "100e0b0b-b723-49c7-cbcb-69b11789c058"
      },
      "source": [
        "x1 = (train_data).numpy()\n",
        "y1 = np.array(train_label)\n",
        "\n",
        "plt.scatter(x1[y1==0,0][:,0], x1[y1==0,0][:,1], label='class 0')\n",
        "plt.scatter(x1[y1==1,0][:,0], x1[y1==1,0][:,1], label='class 1')\n",
        "plt.scatter(x1[y1==2,0][:,0], x1[y1==2,0][:,1], label='class 2')\n",
        "plt.legend()\n",
        "plt.title(\"dataset4 CIN with alpha = 1/\"+str(m))"
      ],
      "execution_count": 466,
      "outputs": [
        {
          "output_type": "execute_result",
          "data": {
            "text/plain": [
              "Text(0.5, 1.0, 'dataset4 CIN with alpha = 1/100')"
            ]
          },
          "metadata": {},
          "execution_count": 466
        },
        {
          "output_type": "display_data",
          "data": {
            "image/png": "[encoded data removed]",
            "text/plain": [
              "<Figure size 432x288 with 1 Axes>"
            ]
          },
          "metadata": {
            "needs_background": "light"
          }
        }
      ]
    },
    {
      "cell_type": "code",
      "metadata": {
        "colab": {
          "base_uri": "https://localhost:8080/",
          "height": 299
        },
        "id": "Sc8W2N7LQQ_l",
        "outputId": "bfc31a99-9e02-4dd3-e4b9-ae10b21098dc"
      },
      "source": [
        "x1 = (test_data).numpy()\n",
        "y1 = np.array(test_label)\n",
        "\n",
        "plt.scatter(x1[y1==0,0][:,0], x1[y1==0,0][:,1], label='class 0')\n",
        "plt.scatter(x1[y1==1,0][:,0], x1[y1==1,0][:,1], label='class 1')\n",
        "plt.scatter(x1[y1==2,0][:,0], x1[y1==2,0][:,1], label='class 2')\n",
        "plt.legend()\n",
        "plt.title(\"test dataset4\")"
      ],
      "execution_count": 467,
      "outputs": [
        {
          "output_type": "execute_result",
          "data": {
            "text/plain": [
              "Text(0.5, 1.0, 'test dataset4')"
            ]
          },
          "metadata": {},
          "execution_count": 467
        },
        {
          "output_type": "display_data",
          "data": {
            "image/png": "[encoded data removed]",
            "text/plain": [
              "<Figure size 432x288 with 1 Axes>"
            ]
          },
          "metadata": {
            "needs_background": "light"
          }
        }
      ]
    },
    {
      "cell_type": "code",
      "metadata": {
        "id": "yL0BRf8er0TX"
      },
      "source": [
        "class MosaicDataset(Dataset):\n",
        "  \"\"\"MosaicDataset dataset.\"\"\"\n",
        "\n",
        "  def __init__(self, mosaic_list_of_images, mosaic_label):\n",
        "    \"\"\"\n",
        "      Args:\n",
        "        csv_file (string): Path to the csv file with annotations.\n",
        "        root_dir (string): Directory with all the images.\n",
        "        transform (callable, optional): Optional transform to be applied\n",
        "            on a sample.\n",
        "    \"\"\"\n",
        "    self.mosaic = mosaic_list_of_images\n",
        "    self.label = mosaic_label\n",
        "    #self.fore_idx = fore_idx\n",
        "    \n",
        "  def __len__(self):\n",
        "    return len(self.label)\n",
        "\n",
        "  def __getitem__(self, idx):\n",
        "    return self.mosaic[idx] , self.label[idx] #, self.fore_idx[idx]\n",
        "\n"
      ],
      "execution_count": 468,
      "outputs": []
    },
    {
      "cell_type": "code",
      "metadata": {
        "colab": {
          "base_uri": "https://localhost:8080/"
        },
        "id": "4KsrW9qL9xgS",
        "outputId": "2ec2fe6b-d0e8-4d26-a11c-eac692622442"
      },
      "source": [
        "train_data[0].shape, train_data[0]"
      ],
      "execution_count": 469,
      "outputs": [
        {
          "output_type": "execute_result",
          "data": {
            "text/plain": [
              "(torch.Size([1, 2]), tensor([[-0.0706, -0.0625]], dtype=torch.float64))"
            ]
          },
          "metadata": {},
          "execution_count": 469
        }
      ]
    },
    {
      "cell_type": "code",
      "metadata": {
        "id": "EY2l62APygaV"
      },
      "source": [
        "batch = 200\n",
        "\n",
        "traindata_1 = MosaicDataset(train_data, train_label )\n",
        "trainloader_1 = DataLoader( traindata_1 , batch_size= batch ,shuffle=True)\n"
      ],
      "execution_count": 470,
      "outputs": []
    },
    {
      "cell_type": "code",
      "metadata": {
        "id": "9suUslCj8YZK"
      },
      "source": [
        "testdata_1 = MosaicDataset(test_data, test_label )\n",
        "testloader_1 = DataLoader( testdata_1 , batch_size= batch ,shuffle=False)\n"
      ],
      "execution_count": 471,
      "outputs": []
    },
    {
      "cell_type": "code",
      "metadata": {
        "id": "Nh3mBQHZ8bEj"
      },
      "source": [
        "# testdata_11 = MosaicDataset(test_dataset, labels )\n",
        "# testloader_11 = DataLoader( testdata_11 , batch_size= batch ,shuffle=False)"
      ],
      "execution_count": 472,
      "outputs": []
    },
    {
      "cell_type": "code",
      "metadata": {
        "id": "5_XeIUk0r0Tl"
      },
      "source": [
        "class Whatnet(nn.Module):\n",
        "    def __init__(self):\n",
        "        super(Whatnet,self).__init__()\n",
        "        self.linear1 = nn.Linear(2,50)\n",
        "        self.linear2 = nn.Linear(50,3)\n",
        "\n",
        "        torch.nn.init.xavier_normal_(self.linear1.weight)\n",
        "        torch.nn.init.zeros_(self.linear1.bias)\n",
        "        torch.nn.init.xavier_normal_(self.linear2.weight)\n",
        "        torch.nn.init.zeros_(self.linear2.bias)\n",
        "\n",
        "    def forward(self,x):\n",
        "        x = F.relu(self.linear1(x))\n",
        "        x = (self.linear2(x))\n",
        "\n",
        "        return x[:,0]"
      ],
      "execution_count": 473,
      "outputs": []
    },
    {
      "cell_type": "code",
      "metadata": {
        "id": "pjD2VZuV9Ed4"
      },
      "source": [
        "def calculate_loss(dataloader,model,criter):\n",
        "  model.eval()\n",
        "  r_loss = 0\n",
        "  with torch.no_grad():\n",
        "    for i, data in enumerate(dataloader, 0):\n",
        "      inputs, labels = data\n",
        "      inputs, labels = inputs.to(\"cuda\"),labels.to(\"cuda\")\n",
        "      outputs = model(inputs)\n",
        "      # print(outputs.shape)\n",
        "      loss = criter(outputs, labels)\n",
        "      r_loss += loss.item()\n",
        "  return r_loss/(i+1)"
      ],
      "execution_count": 474,
      "outputs": []
    },
    {
      "cell_type": "code",
      "metadata": {
        "id": "uALi25pmzQHV"
      },
      "source": [
        "def test_all(number, testloader,net):\n",
        "    correct = 0\n",
        "    total = 0\n",
        "    out = []\n",
        "    pred = []\n",
        "    with torch.no_grad():\n",
        "        for data in testloader:\n",
        "            images, labels = data\n",
        "            images, labels = images.to(\"cuda\"),labels.to(\"cuda\")\n",
        "            out.append(labels.cpu().numpy())\n",
        "            outputs= net(images)\n",
        "            _, predicted = torch.max(outputs.data, 1)\n",
        "            pred.append(predicted.cpu().numpy())\n",
        "            total += labels.size(0)\n",
        "            correct += (predicted == labels).sum().item()\n",
        "    \n",
        "    pred = np.concatenate(pred, axis = 0)\n",
        "    out = np.concatenate(out, axis = 0)\n",
        "    print(\"unique out: \",  np.unique(out), \"unique pred: \", np.unique(pred) )\n",
        "    print(\"correct: \", correct, \"total \",  total)\n",
        "    print('Accuracy of the network on the %d test dataset %d: %.2f %%' % (total, number , 100 * correct / total))"
      ],
      "execution_count": 475,
      "outputs": []
    },
    {
      "cell_type": "code",
      "metadata": {
        "id": "4vmNprlPzTjP"
      },
      "source": [
        "def train_all(trainloader, ds_number, testloader_list, lr_list):\n",
        "  \n",
        "  final_loss = []\n",
        "  for LR in lr_list:    \n",
        "    print(\"--\"*20, \"Learning Rate used is\", LR)\n",
        "    \n",
        "    torch.manual_seed(12)\n",
        "    net = Whatnet().double()\n",
        "    net = net.to(\"cuda\")\n",
        "    \n",
        "    criterion_net = nn.CrossEntropyLoss()\n",
        "    optimizer_net = optim.Adam(net.parameters(), lr=0.001 ) #, momentum=0.9)\n",
        "    \n",
        "    acti = []\n",
        "    loss_curi = []\n",
        "    epochs = 1000\n",
        "    running_loss = calculate_loss(trainloader,net,criterion_net)\n",
        "    loss_curi.append(running_loss)\n",
        "    print('epoch: [%d ] loss: %.3f' %(0,running_loss)) \n",
        "    for epoch in range(epochs): # loop over the dataset multiple times\n",
        "        ep_lossi = []\n",
        "\n",
        "        running_loss = 0.0\n",
        "        net.train()\n",
        "        for i, data in enumerate(trainloader, 0):\n",
        "            # get the inputs\n",
        "            inputs, labels = data\n",
        "            inputs, labels = inputs.to(\"cuda\"),labels.to(\"cuda\")\n",
        "\n",
        "            # zero the parameter gradients\n",
        "            optimizer_net.zero_grad()\n",
        "\n",
        "            # forward + backward + optimize\n",
        "            outputs = net(inputs)\n",
        "            # print(outputs.shape)\n",
        "            loss = criterion_net(outputs, labels)\n",
        "            # print statistics\n",
        "            running_loss += loss.item()\n",
        "            loss.backward()\n",
        "            optimizer_net.step()\n",
        "\n",
        "        running_loss = calculate_loss(trainloader,net,criterion_net)\n",
        "        if(epoch%200 == 0):\n",
        "          print('epoch: [%d] loss: %.3f' %(epoch + 1,running_loss)) \n",
        "        loss_curi.append(running_loss)   #loss per epoch\n",
        "        if running_loss<=0.05:\n",
        "          print('epoch: [%d] loss: %.3f' %(epoch + 1,running_loss))\n",
        "          break\n",
        "\n",
        "    print('Finished Training')\n",
        "    \n",
        "    correct = 0\n",
        "    total = 0\n",
        "    with torch.no_grad():\n",
        "        for data in trainloader:\n",
        "            images, labels = data\n",
        "            images, labels = images.to(\"cuda\"), labels.to(\"cuda\")\n",
        "            outputs = net(images)\n",
        "            _, predicted = torch.max(outputs.data, 1)\n",
        "            total += labels.size(0)\n",
        "            correct += (predicted == labels).sum().item()\n",
        "\n",
        "    print('Accuracy of the network on the %d train images: %.2f %%' % (total,  100 * correct / total))\n",
        "    \n",
        "    for i, j in enumerate(testloader_list):\n",
        "        test_all(i+1, j,net)\n",
        "    \n",
        "    print(\"--\"*40)\n",
        "    \n",
        "    final_loss.append(loss_curi) \n",
        "  return final_loss\n",
        "    "
      ],
      "execution_count": 476,
      "outputs": []
    },
    {
      "cell_type": "code",
      "metadata": {
        "id": "Yl41sE8vFERk"
      },
      "source": [
        "train_loss_all=[]\n",
        "\n",
        "testloader_list= [ testloader_1]\n",
        "lr_list = [0.0001, 0.0005, 0.001, 0.005, 0.01, 0.05, 0.1, 0.5 ]"
      ],
      "execution_count": 477,
      "outputs": []
    },
    {
      "cell_type": "code",
      "metadata": {
        "colab": {
          "base_uri": "https://localhost:8080/"
        },
        "id": "5gQoPST5zW2t",
        "outputId": "c6ca7682-4a01-4bb2-dd75-3cc2a9d8df6c"
      },
      "source": [
        "fin_loss = train_all(trainloader_1, 1, testloader_list, lr_list)\n",
        "train_loss_all.append(fin_loss)"
      ],
      "execution_count": 478,
      "outputs": [
        {
          "output_type": "stream",
          "name": "stdout",
          "text": [
            "---------------------------------------- Learning Rate used is 0.0001\n",
            "epoch: [0 ] loss: 1.097\n",
            "epoch: [1] loss: 1.095\n",
            "epoch: [201] loss: 1.072\n",
            "epoch: [401] loss: 1.072\n",
            "epoch: [601] loss: 1.071\n",
            "epoch: [801] loss: 1.071\n",
            "Finished Training\n",
            "Accuracy of the network on the 2000 train images: 42.20 %\n",
            "unique out:  [0 1 2] unique pred:  [0 2]\n",
            "correct:  340 total  1000\n",
            "Accuracy of the network on the 1000 test dataset 1: 34.00 %\n",
            "--------------------------------------------------------------------------------\n",
            "---------------------------------------- Learning Rate used is 0.0005\n",
            "epoch: [0 ] loss: 1.097\n",
            "epoch: [1] loss: 1.095\n",
            "epoch: [201] loss: 1.072\n",
            "epoch: [401] loss: 1.072\n",
            "epoch: [601] loss: 1.071\n",
            "epoch: [801] loss: 1.071\n",
            "Finished Training\n",
            "Accuracy of the network on the 2000 train images: 42.20 %\n",
            "unique out:  [0 1 2] unique pred:  [0 2]\n",
            "correct:  340 total  1000\n",
            "Accuracy of the network on the 1000 test dataset 1: 34.00 %\n",
            "--------------------------------------------------------------------------------\n",
            "---------------------------------------- Learning Rate used is 0.001\n",
            "epoch: [0 ] loss: 1.097\n",
            "epoch: [1] loss: 1.095\n",
            "epoch: [201] loss: 1.072\n",
            "epoch: [401] loss: 1.072\n",
            "epoch: [601] loss: 1.071\n",
            "epoch: [801] loss: 1.071\n",
            "Finished Training\n",
            "Accuracy of the network on the 2000 train images: 42.20 %\n",
            "unique out:  [0 1 2] unique pred:  [0 2]\n",
            "correct:  340 total  1000\n",
            "Accuracy of the network on the 1000 test dataset 1: 34.00 %\n",
            "--------------------------------------------------------------------------------\n",
            "---------------------------------------- Learning Rate used is 0.005\n",
            "epoch: [0 ] loss: 1.097\n",
            "epoch: [1] loss: 1.095\n",
            "epoch: [201] loss: 1.072\n",
            "epoch: [401] loss: 1.072\n",
            "epoch: [601] loss: 1.071\n",
            "epoch: [801] loss: 1.071\n",
            "Finished Training\n",
            "Accuracy of the network on the 2000 train images: 42.20 %\n",
            "unique out:  [0 1 2] unique pred:  [0 2]\n",
            "correct:  340 total  1000\n",
            "Accuracy of the network on the 1000 test dataset 1: 34.00 %\n",
            "--------------------------------------------------------------------------------\n",
            "---------------------------------------- Learning Rate used is 0.01\n",
            "epoch: [0 ] loss: 1.097\n",
            "epoch: [1] loss: 1.095\n",
            "epoch: [201] loss: 1.072\n",
            "epoch: [401] loss: 1.072\n",
            "epoch: [601] loss: 1.071\n",
            "epoch: [801] loss: 1.071\n",
            "Finished Training\n",
            "Accuracy of the network on the 2000 train images: 42.20 %\n",
            "unique out:  [0 1 2] unique pred:  [0 2]\n",
            "correct:  340 total  1000\n",
            "Accuracy of the network on the 1000 test dataset 1: 34.00 %\n",
            "--------------------------------------------------------------------------------\n",
            "---------------------------------------- Learning Rate used is 0.05\n",
            "epoch: [0 ] loss: 1.097\n",
            "epoch: [1] loss: 1.095\n",
            "epoch: [201] loss: 1.072\n",
            "epoch: [401] loss: 1.072\n",
            "epoch: [601] loss: 1.071\n",
            "epoch: [801] loss: 1.071\n",
            "Finished Training\n",
            "Accuracy of the network on the 2000 train images: 42.20 %\n",
            "unique out:  [0 1 2] unique pred:  [0 2]\n",
            "correct:  340 total  1000\n",
            "Accuracy of the network on the 1000 test dataset 1: 34.00 %\n",
            "--------------------------------------------------------------------------------\n",
            "---------------------------------------- Learning Rate used is 0.1\n",
            "epoch: [0 ] loss: 1.097\n",
            "epoch: [1] loss: 1.095\n",
            "epoch: [201] loss: 1.072\n",
            "epoch: [401] loss: 1.072\n",
            "epoch: [601] loss: 1.071\n",
            "epoch: [801] loss: 1.071\n",
            "Finished Training\n",
            "Accuracy of the network on the 2000 train images: 42.20 %\n",
            "unique out:  [0 1 2] unique pred:  [0 2]\n",
            "correct:  340 total  1000\n",
            "Accuracy of the network on the 1000 test dataset 1: 34.00 %\n",
            "--------------------------------------------------------------------------------\n",
            "---------------------------------------- Learning Rate used is 0.5\n",
            "epoch: [0 ] loss: 1.097\n",
            "epoch: [1] loss: 1.095\n",
            "epoch: [201] loss: 1.072\n",
            "epoch: [401] loss: 1.072\n",
            "epoch: [601] loss: 1.071\n",
            "epoch: [801] loss: 1.071\n",
            "Finished Training\n",
            "Accuracy of the network on the 2000 train images: 42.20 %\n",
            "unique out:  [0 1 2] unique pred:  [0 2]\n",
            "correct:  340 total  1000\n",
            "Accuracy of the network on the 1000 test dataset 1: 34.00 %\n",
            "--------------------------------------------------------------------------------\n"
          ]
        }
      ]
    },
    {
      "cell_type": "code",
      "metadata": {
        "id": "In76SYH_zZHV"
      },
      "source": [
        "%matplotlib inline"
      ],
      "execution_count": 479,
      "outputs": []
    },
    {
      "cell_type": "code",
      "metadata": {
        "colab": {
          "base_uri": "https://localhost:8080/"
        },
        "id": "_GsE3qHR_A5c",
        "outputId": "500f93b8-1b8b-4f3a-fcef-3fe29e0d2774"
      },
      "source": [
        "len(fin_loss)"
      ],
      "execution_count": 480,
      "outputs": [
        {
          "output_type": "execute_result",
          "data": {
            "text/plain": [
              "8"
            ]
          },
          "metadata": {},
          "execution_count": 480
        }
      ]
    },
    {
      "cell_type": "code",
      "metadata": {
        "id": "BS4HtOHEzZ0E",
        "colab": {
          "base_uri": "https://localhost:8080/",
          "height": 297
        },
        "outputId": "0ca35bd3-61ef-4952-c66d-798414d93e84"
      },
      "source": [
        "for i,j in enumerate(fin_loss):\n",
        "    plt.plot(j,label =\"LR = \"+str(lr_list[i]))\n",
        "    \n",
        "\n",
        "plt.xlabel(\"Epochs\")\n",
        "plt.ylabel(\"Training_loss\")\n",
        "\n",
        "plt.legend(loc='center left', bbox_to_anchor=(1, 0.5))"
      ],
      "execution_count": 481,
      "outputs": [
        {
          "output_type": "execute_result",
          "data": {
            "text/plain": [
              "<matplotlib.legend.Legend at 0x7fab058ee210>"
            ]
          },
          "metadata": {},
          "execution_count": 481
        },
        {
          "output_type": "display_data",
          "data": {
            "image/png": "[encoded data removed]",
            "text/plain": [
              "<Figure size 432x288 with 1 Axes>"
            ]
          },
          "metadata": {
            "needs_background": "light"
          }
        }
      ]
    },
    {
      "cell_type": "code",
      "metadata": {
        "id": "1UbTkfLUINTI"
      },
      "source": [
        ""
      ],
      "execution_count": 481,
      "outputs": []
    }
  ]
}