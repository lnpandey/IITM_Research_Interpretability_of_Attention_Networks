{
  "nbformat": 4,
  "nbformat_minor": 0,
  "metadata": {
    "accelerator": "GPU",
    "colab": {
      "name": "synthetic_type3_MLP_m_5.ipynb",
      "provenance": [],
      "collapsed_sections": []
    },
    "kernelspec": {
      "display_name": "Python 3",
      "language": "python",
      "name": "python3"
    },
    "language_info": {
      "codemirror_mode": {
        "name": "ipython",
        "version": 3
      },
      "file_extension": ".py",
      "mimetype": "text/x-python",
      "name": "python",
      "nbconvert_exporter": "python",
      "pygments_lexer": "ipython3",
      "version": "3.6.5"
    }
  },
  "cells": [
    {
      "cell_type": "code",
      "metadata": {
        "colab": {
          "base_uri": "https://localhost:8080/"
        },
        "id": "N2_J4Rw2r0SQ",
        "outputId": "47f144cd-0da2-494d-c09c-3c18622bb47e"
      },
      "source": [
        "import numpy as np\n",
        "import pandas as pd\n",
        "from matplotlib import pyplot as plt\n",
        "from tqdm import tqdm\n",
        "%matplotlib inline\n",
        "from torch.utils.data import Dataset, DataLoader\n",
        "import torch\n",
        "import torchvision\n",
        "\n",
        "import torch.nn as nn\n",
        "import torch.optim as optim\n",
        "from torch.nn import functional as F\n",
        "device = torch.device(\"cuda\" if torch.cuda.is_available() else \"cpu\")\n",
        "print(device)"
      ],
      "execution_count": 529,
      "outputs": [
        {
          "output_type": "stream",
          "name": "stdout",
          "text": [
            "cuda\n"
          ]
        }
      ]
    },
    {
      "cell_type": "code",
      "metadata": {
        "id": "ZTJPyL45DiJ3"
      },
      "source": [
        "m = 20          # 5, 50, 100, 500, 2000"
      ],
      "execution_count": 530,
      "outputs": []
    },
    {
      "cell_type": "code",
      "metadata": {
        "id": "g-do5dZWK5L6"
      },
      "source": [
        "train_size = 2000          # 100, 500, 2000, 10000"
      ],
      "execution_count": 531,
      "outputs": []
    },
    {
      "cell_type": "markdown",
      "metadata": {
        "id": "F6fjud_Fr0Sa"
      },
      "source": [
        "# Generate dataset"
      ]
    },
    {
      "cell_type": "code",
      "metadata": {
        "colab": {
          "base_uri": "https://localhost:8080/"
        },
        "id": "CqdXHO0Cr0Sd",
        "outputId": "544c2227-7a77-4c45-bdba-91f299956968"
      },
      "source": [
        "np.random.seed(12)\n",
        "y = np.random.randint(0,10,5000)\n",
        "idx= []\n",
        "for i in range(10):\n",
        "    print(i,sum(y==i))\n",
        "    idx.append(y==i)"
      ],
      "execution_count": 532,
      "outputs": [
        {
          "output_type": "stream",
          "name": "stdout",
          "text": [
            "0 530\n",
            "1 463\n",
            "2 494\n",
            "3 517\n",
            "4 488\n",
            "5 497\n",
            "6 493\n",
            "7 507\n",
            "8 492\n",
            "9 519\n"
          ]
        }
      ]
    },
    {
      "cell_type": "code",
      "metadata": {
        "id": "ddhXyODwr0Sk"
      },
      "source": [
        "x = np.zeros((5000,2))"
      ],
      "execution_count": 533,
      "outputs": []
    },
    {
      "cell_type": "code",
      "metadata": {
        "id": "DyV3N2DIr0Sp"
      },
      "source": [
        "np.random.seed(12)\n",
        "x[idx[0],:] = np.random.multivariate_normal(mean = [7,4],cov=[[0.1,0],[0,0.1]],size=sum(idx[0]))\n",
        "x[idx[1],:] = np.random.multivariate_normal(mean = [8,6.5],cov=[[0.1,0],[0,0.1]],size=sum(idx[1]))\n",
        "x[idx[2],:] = np.random.multivariate_normal(mean = [5.5,6.5],cov=[[0.1,0],[0,0.1]],size=sum(idx[2]))\n",
        "x[idx[3],:] = np.random.multivariate_normal(mean = [-1,0],cov=[[0.1,0],[0,0.1]],size=sum(idx[3]))\n",
        "x[idx[4],:] = np.random.multivariate_normal(mean = [0,2],cov=[[0.1,0],[0,0.1]],size=sum(idx[4]))\n",
        "x[idx[5],:] = np.random.multivariate_normal(mean = [1,0],cov=[[0.1,0],[0,0.1]],size=sum(idx[5]))\n",
        "x[idx[6],:] = np.random.multivariate_normal(mean = [0,-1],cov=[[0.1,0],[0,0.1]],size=sum(idx[6]))\n",
        "x[idx[7],:] = np.random.multivariate_normal(mean = [0,0],cov=[[0.1,0],[0,0.1]],size=sum(idx[7]))\n",
        "x[idx[8],:] = np.random.multivariate_normal(mean = [-0.5,-0.5],cov=[[0.1,0],[0,0.1]],size=sum(idx[8]))\n",
        "x[idx[9],:] = np.random.multivariate_normal(mean = [0.4,0.2],cov=[[0.1,0],[0,0.1]],size=sum(idx[9]))"
      ],
      "execution_count": 534,
      "outputs": []
    },
    {
      "cell_type": "code",
      "metadata": {
        "colab": {
          "base_uri": "https://localhost:8080/"
        },
        "id": "qh1mDScsU07I",
        "outputId": "ecc91245-238e-4961-dae1-07ad96eb0c5f"
      },
      "source": [
        "x[idx[0]][0], x[idx[5]][5] "
      ],
      "execution_count": 535,
      "outputs": [
        {
          "output_type": "execute_result",
          "data": {
            "text/plain": [
              "(array([7.14957125, 3.78451422]), array([0.87756167, 0.00457805]))"
            ]
          },
          "metadata": {},
          "execution_count": 535
        }
      ]
    },
    {
      "cell_type": "code",
      "metadata": {
        "colab": {
          "base_uri": "https://localhost:8080/",
          "height": 287
        },
        "id": "hJ8Jm7YUr0St",
        "outputId": "d335091d-8072-47ba-f446-55ff53ebd48d"
      },
      "source": [
        "for i in range(10):\n",
        "    plt.scatter(x[idx[i],0],x[idx[i],1],label=\"class_\"+str(i))\n",
        "plt.legend(loc='center left', bbox_to_anchor=(1, 0.5))"
      ],
      "execution_count": 536,
      "outputs": [
        {
          "output_type": "execute_result",
          "data": {
            "text/plain": [
              "<matplotlib.legend.Legend at 0x7fab0542ae10>"
            ]
          },
          "metadata": {},
          "execution_count": 536
        },
        {
          "output_type": "display_data",
          "data": {
            "image/png": "[encoded data removed]",
            "text/plain": [
              "<Figure size 432x288 with 1 Axes>"
            ]
          },
          "metadata": {
            "needs_background": "light"
          }
        }
      ]
    },
    {
      "cell_type": "code",
      "metadata": {
        "colab": {
          "base_uri": "https://localhost:8080/"
        },
        "id": "3lMBZEHNBlF2",
        "outputId": "b3ed3970-c7a9-411a-a9f6-535c6d1319cf"
      },
      "source": [
        "bg_idx = [ np.where(idx[3] == True)[0], \n",
        "          np.where(idx[4] == True)[0], \n",
        "          np.where(idx[5] == True)[0],\n",
        "          np.where(idx[6] == True)[0], \n",
        "          np.where(idx[7] == True)[0], \n",
        "          np.where(idx[8] == True)[0],\n",
        "          np.where(idx[9] == True)[0]]\n",
        "\n",
        "bg_idx = np.concatenate(bg_idx, axis = 0)\n",
        "bg_idx.shape"
      ],
      "execution_count": 537,
      "outputs": [
        {
          "output_type": "execute_result",
          "data": {
            "text/plain": [
              "(3513,)"
            ]
          },
          "metadata": {},
          "execution_count": 537
        }
      ]
    },
    {
      "cell_type": "code",
      "metadata": {
        "colab": {
          "base_uri": "https://localhost:8080/"
        },
        "id": "blRbGZHeCwXU",
        "outputId": "846cd9ec-daab-4d4d-d92d-a1b148a053e9"
      },
      "source": [
        "np.unique(bg_idx).shape"
      ],
      "execution_count": 538,
      "outputs": [
        {
          "output_type": "execute_result",
          "data": {
            "text/plain": [
              "(3513,)"
            ]
          },
          "metadata": {},
          "execution_count": 538
        }
      ]
    },
    {
      "cell_type": "code",
      "metadata": {
        "id": "Y43sWeX7C15F"
      },
      "source": [
        "x = x - np.mean(x[bg_idx], axis = 0, keepdims = True)\n"
      ],
      "execution_count": 539,
      "outputs": []
    },
    {
      "cell_type": "code",
      "metadata": {
        "colab": {
          "base_uri": "https://localhost:8080/"
        },
        "id": "ooII7N6UDWe0",
        "outputId": "f9c7e57d-f63f-45f1-e3b9-da0bbcc5664f"
      },
      "source": [
        "np.mean(x[bg_idx], axis = 0, keepdims = True), np.mean(x, axis = 0, keepdims = True)"
      ],
      "execution_count": 540,
      "outputs": [
        {
          "output_type": "execute_result",
          "data": {
            "text/plain": [
              "(array([[-1.04275003e-16,  6.74571889e-17]]),\n",
              " array([[2.02981967, 1.63582644]]))"
            ]
          },
          "metadata": {},
          "execution_count": 540
        }
      ]
    },
    {
      "cell_type": "code",
      "metadata": {
        "id": "g21bvPRYDL9k"
      },
      "source": [
        "x = x/np.std(x[bg_idx], axis = 0, keepdims = True)"
      ],
      "execution_count": 541,
      "outputs": []
    },
    {
      "cell_type": "code",
      "metadata": {
        "colab": {
          "base_uri": "https://localhost:8080/"
        },
        "id": "GtFvIeHsDZJk",
        "outputId": "cd02b6e4-530b-4de1-edef-71fbd3446d37"
      },
      "source": [
        "np.std(x[bg_idx], axis = 0, keepdims = True), np.std(x, axis = 0, keepdims = True)"
      ],
      "execution_count": 542,
      "outputs": [
        {
          "output_type": "execute_result",
          "data": {
            "text/plain": [
              "(array([[1., 1.]]), array([[4.89756643, 3.00501566]]))"
            ]
          },
          "metadata": {},
          "execution_count": 542
        }
      ]
    },
    {
      "cell_type": "code",
      "metadata": {
        "colab": {
          "base_uri": "https://localhost:8080/",
          "height": 283
        },
        "id": "8-VLhUfDDeHt",
        "outputId": "20062a44-3775-47f7-aeaa-67eb8bf12f08"
      },
      "source": [
        "for i in range(10):\n",
        "    plt.scatter(x[idx[i],0],x[idx[i],1],label=\"class_\"+str(i))\n",
        "plt.legend(loc='center left', bbox_to_anchor=(1, 0.5))"
      ],
      "execution_count": 543,
      "outputs": [
        {
          "output_type": "execute_result",
          "data": {
            "text/plain": [
              "<matplotlib.legend.Legend at 0x7fab0534bed0>"
            ]
          },
          "metadata": {},
          "execution_count": 543
        },
        {
          "output_type": "display_data",
          "data": {
            "image/png": "[encoded data removed]",
            "text/plain": [
              "<Figure size 432x288 with 1 Axes>"
            ]
          },
          "metadata": {
            "needs_background": "light"
          }
        }
      ]
    },
    {
      "cell_type": "code",
      "metadata": {
        "id": "UfFHcZJOr0Sz"
      },
      "source": [
        "foreground_classes = {'class_0','class_1', 'class_2'}\n",
        "\n",
        "background_classes = {'class_3','class_4', 'class_5', 'class_6','class_7', 'class_8', 'class_9'}"
      ],
      "execution_count": 544,
      "outputs": []
    },
    {
      "cell_type": "code",
      "metadata": {
        "colab": {
          "base_uri": "https://localhost:8080/"
        },
        "id": "OplNpNQVr0S2",
        "outputId": "be790145-1012-4d2b-9925-5fd79edcb11a"
      },
      "source": [
        "fg_class  = np.random.randint(0,3)\n",
        "fg_idx = np.random.randint(0,m)\n",
        "train_data=[]\n",
        "a = []\n",
        "fg_instance = np.array([[0.0,0.0]])\n",
        "bg_instance = np.array([[0.0,0.0]])\n",
        "\n",
        "for i in range(m):\n",
        "  if i == fg_idx:\n",
        "    b = np.random.choice(np.where(idx[fg_class]==True)[0],size=1)\n",
        "    fg_instance += x[b]\n",
        "    a.append(x[b])\n",
        "    print(\"foreground \"+str(fg_class)+\" present at \" + str(fg_idx))\n",
        "  else:\n",
        "    bg_class = np.random.randint(3,10)\n",
        "    b = np.random.choice(np.where(idx[bg_class]==True)[0],size=1)\n",
        "    bg_instance += x[b]\n",
        "    a.append(x[b])\n",
        "    print(\"background \"+str(bg_class)+\" present at \" + str(i))\n",
        "\n",
        "a = np.concatenate(a,axis=0)\n",
        "print(a.shape)\n",
        "\n",
        "print(fg_class , fg_idx)"
      ],
      "execution_count": 545,
      "outputs": [
        {
          "output_type": "stream",
          "name": "stdout",
          "text": [
            "background 5 present at 0\n",
            "background 6 present at 1\n",
            "background 9 present at 2\n",
            "background 3 present at 3\n",
            "background 5 present at 4\n",
            "background 7 present at 5\n",
            "background 6 present at 6\n",
            "background 5 present at 7\n",
            "background 3 present at 8\n",
            "background 5 present at 9\n",
            "background 4 present at 10\n",
            "background 7 present at 11\n",
            "background 4 present at 12\n",
            "background 3 present at 13\n",
            "background 9 present at 14\n",
            "background 6 present at 15\n",
            "background 6 present at 16\n",
            "background 3 present at 17\n",
            "foreground 2 present at 18\n",
            "background 8 present at 19\n",
            "(20, 2)\n",
            "2 18\n"
          ]
        }
      ]
    },
    {
      "cell_type": "code",
      "metadata": {
        "colab": {
          "base_uri": "https://localhost:8080/"
        },
        "id": "Rx6cMmR3baVf",
        "outputId": "71701bc2-868e-43ff-9727-6a8eb505fdb4"
      },
      "source": [
        "a"
      ],
      "execution_count": 546,
      "outputs": [
        {
          "output_type": "execute_result",
          "data": {
            "text/plain": [
              "array([[ 1.52560273e+00, -1.29848805e-01],\n",
              "       [-4.22650796e-01, -1.20033130e+00],\n",
              "       [ 2.34349307e-01, -2.78664796e-01],\n",
              "       [-9.86087689e-01, -7.51232458e-01],\n",
              "       [ 1.37297554e+00, -3.76733075e-01],\n",
              "       [-8.84692079e-01, -1.11551995e-01],\n",
              "       [ 3.23086410e-01, -1.23774128e+00],\n",
              "       [ 1.37297554e+00, -3.76733075e-01],\n",
              "       [-1.37994224e+00, -1.86927689e-02],\n",
              "       [ 1.18729176e+00, -1.43385686e-01],\n",
              "       [ 1.08414750e+00,  2.21424613e+00],\n",
              "       [ 3.07773579e-01,  5.11134472e-01],\n",
              "       [-5.80062748e-01,  2.56861924e+00],\n",
              "       [-1.57480355e+00,  1.37864198e-01],\n",
              "       [ 8.78834768e-01, -3.18178197e-01],\n",
              "       [ 5.58625839e-02, -1.37825691e+00],\n",
              "       [ 3.52658712e-01, -1.71500720e+00],\n",
              "       [-7.59374170e-01, -4.37189615e-03],\n",
              "       [ 8.64012267e+00,  7.37468589e+00],\n",
              "       [-9.53821465e-01, -7.70258879e-01]])"
            ]
          },
          "metadata": {},
          "execution_count": 546
        }
      ]
    },
    {
      "cell_type": "code",
      "metadata": {
        "colab": {
          "base_uri": "https://localhost:8080/"
        },
        "id": "dEdaFZPQhc7D",
        "outputId": "0abf8055-cd72-4bf1-cf1c-fd3f7496c831"
      },
      "source": [
        "fg_instance"
      ],
      "execution_count": 547,
      "outputs": [
        {
          "output_type": "execute_result",
          "data": {
            "text/plain": [
              "array([[8.64012267, 7.37468589]])"
            ]
          },
          "metadata": {},
          "execution_count": 547
        }
      ]
    },
    {
      "cell_type": "code",
      "metadata": {
        "colab": {
          "base_uri": "https://localhost:8080/"
        },
        "id": "IqdAVbG1hftM",
        "outputId": "a90ae6d7-0d28-4f1c-d650-7523e6f46799"
      },
      "source": [
        "bg_instance"
      ],
      "execution_count": 548,
      "outputs": [
        {
          "output_type": "execute_result",
          "data": {
            "text/plain": [
              "array([[ 1.15412368, -3.37912427]])"
            ]
          },
          "metadata": {},
          "execution_count": 548
        }
      ]
    },
    {
      "cell_type": "code",
      "metadata": {
        "colab": {
          "base_uri": "https://localhost:8080/"
        },
        "id": "Ho98SSXEhx6L",
        "outputId": "78a2d24d-c27b-48ff-bf26-aa2186bea6e2"
      },
      "source": [
        "(fg_instance+bg_instance)/m , m"
      ],
      "execution_count": 549,
      "outputs": [
        {
          "output_type": "execute_result",
          "data": {
            "text/plain": [
              "(array([[0.48971232, 0.19977808]]), 20)"
            ]
          },
          "metadata": {},
          "execution_count": 549
        }
      ]
    },
    {
      "cell_type": "code",
      "metadata": {
        "id": "jqbvfbwVr0TN"
      },
      "source": [
        "# mosaic_list_of_images =[]\n",
        "# mosaic_label = []\n",
        "train_label=[]\n",
        "fore_idx=[]\n",
        "train_data = []\n",
        "for j in range(train_size):\n",
        "  np.random.seed(j)\n",
        "  fg_instance = torch.zeros([2], dtype=torch.float64) #np.array([[0.0,0.0]])\n",
        "  bg_instance = torch.zeros([2], dtype=torch.float64) #np.array([[0.0,0.0]])\n",
        "  # a=[]\n",
        "\n",
        "  for i in range(m):\n",
        "    if i == fg_idx:\n",
        "      fg_class  = np.random.randint(0,3)\n",
        "      b = np.random.choice(np.where(idx[fg_class]==True)[0],size=1)\n",
        "      fg_instance += x[b]\n",
        "      # a.append(x[b])\n",
        "      # print(\"foreground \"+str(fg_class)+\" present at \" + str(fg_idx))\n",
        "    else:\n",
        "      bg_class = np.random.randint(3,10)\n",
        "      b = np.random.choice(np.where(idx[bg_class]==True)[0],size=1)\n",
        "      bg_instance += x[b]\n",
        "      # a.append(x[b])\n",
        "      # print(\"background \"+str(bg_class)+\" present at \" + str(i))\n",
        "  train_data.append((fg_instance+bg_instance)/m)\n",
        "  # a = np.concatenate(a,axis=0)\n",
        "  # mosaic_list_of_images.append(np.reshape(a,(2*m,1)))\n",
        "  train_label.append(fg_class)\n",
        "  fore_idx.append(fg_idx)"
      ],
      "execution_count": 550,
      "outputs": []
    },
    {
      "cell_type": "code",
      "metadata": {
        "colab": {
          "base_uri": "https://localhost:8080/"
        },
        "id": "X_g6lxkVjN0N",
        "outputId": "4af7fcce-739f-4ac5-8a5d-67879292610b"
      },
      "source": [
        " train_data[0], train_label[0]"
      ],
      "execution_count": 551,
      "outputs": [
        {
          "output_type": "execute_result",
          "data": {
            "text/plain": [
              "(tensor([[0.6208, 0.1138]], dtype=torch.float64), 1)"
            ]
          },
          "metadata": {},
          "execution_count": 551
        }
      ]
    },
    {
      "cell_type": "code",
      "metadata": {
        "colab": {
          "base_uri": "https://localhost:8080/"
        },
        "id": "Tz5wQCevobYr",
        "outputId": "3f13787c-d61f-4df7-c7d3-5a6a9dea3b2a"
      },
      "source": [
        "train_data = torch.stack(train_data, axis=0)\n",
        "train_data.shape, len(train_label)"
      ],
      "execution_count": 552,
      "outputs": [
        {
          "output_type": "execute_result",
          "data": {
            "text/plain": [
              "(torch.Size([2000, 1, 2]), 2000)"
            ]
          },
          "metadata": {},
          "execution_count": 552
        }
      ]
    },
    {
      "cell_type": "code",
      "metadata": {
        "id": "CVAlImGYA49A"
      },
      "source": [
        "test_label=[]\n",
        "# fore_idx=[]\n",
        "test_data = []\n",
        "for j in range(1000):\n",
        "  np.random.seed(j)\n",
        "  fg_instance = torch.zeros([2], dtype=torch.float64) #np.array([[0.0,0.0]])\n",
        "\n",
        "  fg_class  = np.random.randint(0,3)\n",
        "  b = np.random.choice(np.where(idx[fg_class]==True)[0],size=1)\n",
        "  fg_instance += x[b]\n",
        "  # a.append(x[b])\n",
        "  # print(\"foreground \"+str(fg_class)+\" present at \" + str(fg_idx))\n",
        "\n",
        "  test_data.append((fg_instance)/m)\n",
        "  # a = np.concatenate(a,axis=0)\n",
        "  # mosaic_list_of_images.append(np.reshape(a,(2*m,1)))\n",
        "  test_label.append(fg_class)\n",
        "  # fore_idx.append(fg_idx)"
      ],
      "execution_count": 553,
      "outputs": []
    },
    {
      "cell_type": "code",
      "metadata": {
        "colab": {
          "base_uri": "https://localhost:8080/"
        },
        "id": "XltBz3__BT_C",
        "outputId": "136dca90-a5c9-47c9-8b88-faf7e5dd3bb5"
      },
      "source": [
        "test_data[0], test_label[0]"
      ],
      "execution_count": 554,
      "outputs": [
        {
          "output_type": "execute_result",
          "data": {
            "text/plain": [
              "(tensor([[0.5570, 0.1959]], dtype=torch.float64), 0)"
            ]
          },
          "metadata": {},
          "execution_count": 554
        }
      ]
    },
    {
      "cell_type": "code",
      "metadata": {
        "colab": {
          "base_uri": "https://localhost:8080/"
        },
        "id": "JqQfjkCnBX8E",
        "outputId": "7369f0ec-144f-47a1-b6e3-2075ab572327"
      },
      "source": [
        "test_data = torch.stack(test_data, axis=0)\n",
        "test_data.shape, len(test_label)"
      ],
      "execution_count": 555,
      "outputs": [
        {
          "output_type": "execute_result",
          "data": {
            "text/plain": [
              "(torch.Size([1000, 1, 2]), 1000)"
            ]
          },
          "metadata": {},
          "execution_count": 555
        }
      ]
    },
    {
      "cell_type": "code",
      "metadata": {
        "id": "nQhRf1ICBvW6"
      },
      "source": [
        "x1 = (train_data).numpy()\n",
        "y1 = np.array(train_label)"
      ],
      "execution_count": 556,
      "outputs": []
    },
    {
      "cell_type": "code",
      "metadata": {
        "colab": {
          "base_uri": "https://localhost:8080/"
        },
        "id": "vDAz96DSCXn5",
        "outputId": "dde44c12-ce3a-4d2e-d6d7-447a047e99f8"
      },
      "source": [
        "x1[y1==0,0]"
      ],
      "execution_count": 557,
      "outputs": [
        {
          "output_type": "execute_result",
          "data": {
            "text/plain": [
              "array([[ 0.58196262, -0.06374849],\n",
              "       [ 0.50819408,  0.21566994],\n",
              "       [ 0.71535835,  0.05856264],\n",
              "       ...,\n",
              "       [ 0.60960293,  0.47414564],\n",
              "       [ 0.52643093,  0.01305356],\n",
              "       [ 0.39822321,  0.61405051]])"
            ]
          },
          "metadata": {},
          "execution_count": 557
        }
      ]
    },
    {
      "cell_type": "code",
      "metadata": {
        "colab": {
          "base_uri": "https://localhost:8080/"
        },
        "id": "kMwwZhv7Bv1U",
        "outputId": "4142c800-d0ca-410a-900a-01a0999127ce"
      },
      "source": [
        "x1[y1==0,0][:,0]"
      ],
      "execution_count": 558,
      "outputs": [
        {
          "output_type": "execute_result",
          "data": {
            "text/plain": [
              "array([ 0.58196262,  0.50819408,  0.71535835,  0.23393274,  0.51849533,\n",
              "        0.5746036 ,  0.61489395,  0.18689956,  0.26950646,  0.67954739,\n",
              "        0.98734141,  0.56481054,  0.53688243,  0.63361006,  0.61816059,\n",
              "        0.30560728,  0.59715351,  0.45096462,  0.3335488 ,  0.53702078,\n",
              "        0.25096454,  1.0141537 ,  0.48161742,  0.56496278,  0.68638647,\n",
              "        0.73672883,  0.49559829,  0.40029358,  0.72078224,  0.67773679,\n",
              "        0.50517492,  0.76047649,  0.17331078,  0.47469443,  0.50956964,\n",
              "        0.38684431,  0.63500373,  0.3669742 ,  0.64689516,  0.59776558,\n",
              "        0.5119529 ,  0.83301064,  0.29068086,  0.5005226 ,  0.56365808,\n",
              "        0.66051168,  0.50617991,  0.86223375,  0.39591524,  0.42221932,\n",
              "        0.98019386,  0.61342776,  0.30723821,  0.85614877,  0.35806238,\n",
              "        0.71807937,  0.75212416,  0.79438143,  0.62512284,  0.44254097,\n",
              "        0.76199498,  0.32103991,  0.7670795 ,  0.44445946,  0.43202506,\n",
              "        0.75230197,  0.55909961,  0.14937233,  0.38827957,  0.40483559,\n",
              "        0.7569698 , -0.02943267,  0.44983942,  0.58346318,  0.69273825,\n",
              "        0.37573509,  0.4810081 ,  0.63787328,  0.58566101,  0.4578472 ,\n",
              "        0.50359562,  0.42785731,  0.55476484,  0.15497066,  0.75974799,\n",
              "        1.02190326,  0.61947605,  0.49000436,  0.44148406,  0.67113369,\n",
              "        0.62019424,  0.88800047,  0.37115763,  0.4298447 ,  0.13111581,\n",
              "        0.78243579,  0.45076811,  0.71094899,  0.73674461,  0.61198301,\n",
              "        0.53683468,  0.25401514, -0.02001063,  0.21405831,  0.38664059,\n",
              "        0.2009101 ,  0.51025943,  0.37463355,  0.29843153,  0.85654838,\n",
              "        0.12541588,  0.29693065,  0.64738248,  0.66306189,  0.62882536,\n",
              "        0.57889798,  0.34445107,  0.74770932,  0.66308406,  0.86296336,\n",
              "        0.56298469,  0.52401292,  0.66250375,  0.75729074,  0.58336281,\n",
              "        0.45885124,  0.52187744,  0.75365346,  0.47238395,  0.5110791 ,\n",
              "        0.60290251,  0.50224151,  0.93391324,  0.42824441,  0.38813259,\n",
              "        0.50752118,  0.57508334,  0.46320034,  0.44123178,  0.54693192,\n",
              "        0.19894249,  0.35671687,  0.37336233,  0.50919637,  0.49885873,\n",
              "        0.93322614,  0.20138154,  0.40043954,  0.45114111,  0.16317823,\n",
              "        0.42113302,  0.38443549,  0.71669339,  0.50132019,  0.68832769,\n",
              "        0.20629332,  0.42475581,  0.47083568,  0.77230043,  0.16269857,\n",
              "        0.72599449,  0.64914921,  0.76252464,  0.25768772,  0.38495054,\n",
              "        0.81885936,  0.6138955 ,  0.60685779,  0.42403862,  0.70696274,\n",
              "        0.71617471,  0.81907891,  0.62031928,  0.29511409,  0.108007  ,\n",
              "        0.55804813,  0.11044988,  0.85754318,  0.509374  ,  0.32498489,\n",
              "        0.68277196,  0.90844382,  0.75691344,  0.65332923,  0.37760672,\n",
              "        0.93328656,  0.65955449,  0.5870148 ,  0.06430435,  0.5938556 ,\n",
              "        0.49237044,  0.11321214,  0.51571847,  0.49278159,  0.88164693,\n",
              "        0.54499201,  0.56612388,  0.67146505,  0.51629169,  0.83888844,\n",
              "        0.71481791,  0.46065826,  0.6712162 ,  0.78572213,  0.25040681,\n",
              "        0.4730923 ,  0.54340577,  0.53153107,  0.5561    ,  0.66306739,\n",
              "        0.17215918,  0.61256648,  0.4307001 ,  0.52142915,  0.38050011,\n",
              "        0.59108449,  0.73046743,  0.45312802,  0.41270745,  0.51880308,\n",
              "        0.31119435,  0.89104262,  0.89508587,  0.2464205 ,  0.74209301,\n",
              "        0.59470517,  0.67335112,  0.52661626,  0.83064046,  0.222014  ,\n",
              "        0.60479594,  0.62286652,  0.47409575,  0.70927535,  1.01515158,\n",
              "        0.45837918,  0.49037266,  0.41336359,  0.34496778,  0.07530068,\n",
              "        0.39125169,  0.70862368,  0.64786332,  0.49732642,  0.35089456,\n",
              "        0.74047095,  0.5688118 ,  0.51163543,  0.79881866,  0.43894839,\n",
              "        0.36697477,  0.3536876 ,  0.69582738,  0.8221872 ,  0.44657977,\n",
              "        1.02545898,  1.03166789,  0.34046471,  0.49607352,  0.27419492,\n",
              "        0.67311558,  0.42339849,  0.32351101,  0.62028234,  0.67622142,\n",
              "        0.41961883,  0.12106   ,  0.66148367,  0.35170701,  0.72073732,\n",
              "        0.14872562,  0.86482121,  0.65817926,  0.18524737,  0.41359385,\n",
              "        0.27324809,  0.72209763,  0.57210276,  0.87129573,  0.49684271,\n",
              "        0.84531727,  0.73013697,  0.61543983,  0.58849166,  0.77574728,\n",
              "        0.76587132,  0.62745928,  0.45350253,  0.99821454,  0.43333401,\n",
              "        0.53194351,  0.23710845,  0.57785061,  0.67472467,  0.32196436,\n",
              "        0.26821146,  0.19691715,  0.93771648,  0.55175974,  0.73050893,\n",
              "        0.89931895,  0.26463746,  0.65732748,  0.51636873,  0.80763211,\n",
              "        0.50308736,  0.00560439,  0.1527857 ,  0.662344  ,  0.39626783,\n",
              "        0.58501259,  0.54505314,  0.69169688,  0.58125409,  0.64529625,\n",
              "        0.61383716,  0.52948226,  0.95486671,  0.27514843,  0.46454625,\n",
              "        0.29776172,  0.71271411,  0.59653693,  0.45358823,  0.87103989,\n",
              "        0.79988593,  0.38384613,  0.32073648,  0.48881499,  0.46515357,\n",
              "        0.80727579,  0.49208471,  0.40452016,  0.46517955,  0.61922699,\n",
              "        0.929359  ,  0.4521349 , -0.08756189,  0.22956552,  0.82115543,\n",
              "        0.93524932,  0.69057158,  0.45408361,  0.60385729,  0.26360808,\n",
              "        0.82572926,  0.3598345 ,  0.48964582,  0.74378218,  0.47515207,\n",
              "        0.27891631,  0.70586341,  0.29317939,  0.7312066 ,  0.73504242,\n",
              "        0.72543996,  0.3002251 ,  0.78583595,  0.7095954 ,  0.82465335,\n",
              "        0.66497708,  0.99886349,  0.42640836,  0.24815164,  0.54650186,\n",
              "        0.75325219,  0.61276199,  0.25957973,  0.58498778,  0.60305873,\n",
              "        0.90098174,  0.29947806,  0.33228873,  0.83574481,  0.59460479,\n",
              "        0.34702007,  0.16582152,  0.59156342,  0.40400449,  0.61332722,\n",
              "        0.5325733 ,  0.49893898,  0.4158891 ,  0.90786145,  0.75251839,\n",
              "        0.48873   ,  0.75448703,  0.41520265,  0.25584162,  0.55418358,\n",
              "        0.47106083,  0.43273847,  0.69585389,  0.63853935,  0.22713714,\n",
              "        0.92389804,  0.7457601 ,  0.46588555,  0.83454973,  0.21706538,\n",
              "       -0.06376572,  0.68823551,  0.26965557,  0.48129392,  0.18118186,\n",
              "        0.74858819,  0.58302114,  0.77851817,  1.19695702,  0.93687415,\n",
              "        0.13968483,  0.53479558,  0.34130424,  0.38109428,  0.02029679,\n",
              "        0.98359897,  0.7403519 ,  0.15147826,  0.51230722,  0.31181896,\n",
              "        0.71099944,  0.58805731,  0.9131313 ,  0.50994471,  0.61726308,\n",
              "        0.61851647,  0.68835434,  0.6205302 ,  0.6233983 ,  0.43548415,\n",
              "        0.3980899 ,  0.62234644,  0.66191373,  0.20466898,  0.71806675,\n",
              "        0.63121391,  0.48850599,  0.32852542,  0.74105579,  0.26478727,\n",
              "        0.26714355,  0.3508476 ,  0.42427041,  0.34895129,  0.58502388,\n",
              "        0.44865139,  0.4830022 ,  0.39840345,  0.23683224,  0.45270678,\n",
              "        0.34271641,  0.4262923 ,  0.82976683,  0.5039015 ,  0.64527796,\n",
              "        0.08619691,  0.61948549,  0.20840933,  1.12350948,  0.50932304,\n",
              "        0.65592743,  0.26826689,  0.68449994,  0.69072061,  0.8145494 ,\n",
              "        0.16343393,  0.38158249,  0.55438072,  0.6528969 ,  0.5819486 ,\n",
              "        0.42930905,  1.10637189,  0.50026506,  0.66139055,  0.5558005 ,\n",
              "        0.64959114,  0.33033914,  0.227549  ,  0.6589919 ,  0.70027748,\n",
              "        0.48058024,  0.4632637 ,  0.74974099,  0.52367988,  0.43555568,\n",
              "        0.88811866,  0.67027978,  0.82164323,  0.41763908,  0.75335458,\n",
              "        0.5231427 ,  0.36607173,  0.84915627,  0.6334472 ,  0.49431958,\n",
              "        0.91987777,  0.60788425,  0.3001877 ,  0.29555933,  0.47669495,\n",
              "        0.62925072,  0.37421158,  0.56726384,  0.41183546,  0.72118658,\n",
              "        0.5786922 ,  0.6638259 ,  0.64041875,  0.37864465,  0.70855862,\n",
              "        0.4788431 ,  0.1638469 ,  0.42173301,  0.46505469,  0.01301557,\n",
              "        0.48249408,  0.15728549,  0.71585477,  0.48186641,  0.56631791,\n",
              "        0.43970401,  0.42138797,  0.59957398,  0.96508174,  0.26745258,\n",
              "        0.21600939,  1.00332602,  0.67377914,  0.37809222,  0.1699958 ,\n",
              "        0.36301505,  0.49142233,  0.61188435,  0.80729763,  0.55060731,\n",
              "        0.80818515,  0.49588531,  0.05031778,  0.67885758,  0.4522248 ,\n",
              "        0.55267609,  0.46328701,  0.62603353,  0.84796961,  0.39781868,\n",
              "        0.30948506,  0.19431051,  0.47225859,  0.41119295,  0.55076415,\n",
              "        0.30991758,  0.41995282,  0.33982248,  0.24818339,  0.28612185,\n",
              "        0.38621113, -0.10911348,  0.57209249,  0.50860513,  0.3211062 ,\n",
              "        0.77922048,  0.33506222,  0.66065961,  0.79913507,  0.17699024,\n",
              "        0.35221668,  0.55251525,  0.36488648,  0.64122548,  0.74636231,\n",
              "        0.67475505,  0.60114583,  0.26070757,  0.38150299,  0.70759909,\n",
              "        0.55210278,  0.5035508 ,  0.67435795,  0.82066745,  0.60042006,\n",
              "        0.47857187,  0.58659512,  0.35778621,  0.45106767,  0.4442254 ,\n",
              "        0.8932878 ,  0.54516651,  0.47754793,  0.67268889,  0.58816656,\n",
              "        0.56865913,  0.72216292,  0.72471704,  0.81771321,  0.52199413,\n",
              "        0.08351203, -0.0091426 ,  0.61016825,  0.18758038, -0.07143923,\n",
              "        0.50131333,  0.62354014,  0.73489698,  0.25158305,  0.40024771,\n",
              "        0.69731487,  0.42111003,  0.58596297,  0.6768709 ,  0.80102397,\n",
              "        0.79626452,  0.64552211,  0.47965425,  0.39665043,  0.68008937,\n",
              "        0.4750421 ,  0.46478834,  0.12641415,  0.75239282,  0.46919898,\n",
              "        0.62944833,  0.71903932,  0.71465108,  0.62133518,  0.39883196,\n",
              "        0.70426755,  0.18356842,  0.56488815,  0.55727204,  0.80219194,\n",
              "        0.59075022,  0.4463514 ,  0.59717814,  0.92703754,  0.32260023,\n",
              "        0.45154298,  0.59512927,  0.63292311,  0.88726379,  0.33798386,\n",
              "        0.3510136 ,  0.45525038, -0.0669087 ,  0.67417857,  0.4934826 ,\n",
              "        0.75214655,  0.67067743,  0.93708902,  0.43480839,  0.48196814,\n",
              "        0.40658773,  0.65365196,  0.25938263,  0.72894372,  0.51135332,\n",
              "        0.68940463,  0.31402406,  0.60960293,  0.52643093,  0.39822321])"
            ]
          },
          "metadata": {},
          "execution_count": 558
        }
      ]
    },
    {
      "cell_type": "code",
      "metadata": {
        "colab": {
          "base_uri": "https://localhost:8080/"
        },
        "id": "ydbu3OV3CYxB",
        "outputId": "a74affbd-e517-4ea1-f9f9-de28983b014b"
      },
      "source": [
        "x1[y1==0,0][:,1]"
      ],
      "execution_count": 559,
      "outputs": [
        {
          "output_type": "execute_result",
          "data": {
            "text/plain": [
              "array([-6.37484888e-02,  2.15669941e-01,  5.85626371e-02,  2.95152501e-01,\n",
              "        2.91008404e-01, -1.55265007e-01, -8.35208055e-03,  2.30549561e-01,\n",
              "        4.92954679e-01,  2.99592869e-01,  1.91558363e-01,  1.35392180e-01,\n",
              "        2.63455980e-01,  2.00800903e-01,  8.56527537e-01, -2.77490690e-01,\n",
              "        5.52152801e-02,  3.22196834e-01,  4.68443439e-01,  1.48439164e-01,\n",
              "        5.68581671e-01,  2.47765165e-01,  4.82995700e-02,  6.10363834e-01,\n",
              "        9.15639255e-02,  8.01646212e-02,  3.90010009e-01,  4.85467832e-01,\n",
              "        3.07313786e-02,  4.88067085e-01,  2.59563080e-01,  4.65339625e-01,\n",
              "       -1.53828224e-01,  6.32692593e-01,  2.91638982e-01,  4.33705894e-02,\n",
              "        4.15773259e-01,  2.90704104e-01,  5.65094729e-01,  5.51265466e-01,\n",
              "       -1.49028433e-01,  3.33171193e-01,  2.25588695e-01,  1.80613916e-01,\n",
              "        5.18336444e-01, -2.21264258e-01,  4.28786391e-02,  2.40791659e-01,\n",
              "        5.63882682e-01,  5.12709062e-01,  4.65336324e-02,  1.30015901e-01,\n",
              "        1.97982897e-01,  3.31724899e-01,  3.25402517e-01,  2.56686132e-01,\n",
              "        3.43079986e-01,  1.96417307e-01,  4.95968632e-01,  6.21770297e-01,\n",
              "        5.27756206e-01, -2.57271556e-01,  4.85732509e-01,  2.25425846e-02,\n",
              "        2.90886150e-02,  6.97274899e-01,  1.85872894e-01,  3.14897662e-01,\n",
              "        4.92467580e-01,  1.10568425e-01,  3.44362138e-01,  5.11111885e-01,\n",
              "        1.06087448e-01,  2.49453924e-01, -1.74397021e-01,  2.33891786e-01,\n",
              "        2.62677528e-02,  2.32308164e-01,  1.67981273e-01,  1.15268257e-01,\n",
              "       -7.86225353e-02,  2.09124391e-01,  4.94195458e-02,  2.58572536e-03,\n",
              "        2.57559957e-02,  4.09982142e-01, -8.36939327e-02,  2.62355642e-01,\n",
              "        4.01375858e-01,  7.98086184e-01, -1.67982603e-02,  7.21392960e-01,\n",
              "       -6.95522612e-02,  5.67355480e-01, -3.06740350e-01,  2.65835862e-01,\n",
              "        4.33645303e-01, -4.67144146e-02,  5.68549448e-01,  7.26235388e-01,\n",
              "        1.98950296e-01,  5.21745419e-02,  2.03288326e-01,  4.03854433e-01,\n",
              "        5.07927644e-01, -1.15634817e-01,  5.17187167e-01,  1.93030212e-01,\n",
              "       -8.54168042e-03,  2.69461462e-01,  2.08177776e-01,  1.51617187e-01,\n",
              "       -1.75994719e-01,  3.42740740e-01,  3.14096105e-01,  4.43805700e-02,\n",
              "       -1.25982697e-01, -1.80038694e-01,  4.26205516e-01, -1.04793482e-01,\n",
              "        3.66502221e-01, -7.17459243e-02,  4.88164746e-01,  3.49251454e-02,\n",
              "        5.91669288e-01,  1.30057356e-01,  2.34939933e-01,  3.48318757e-01,\n",
              "        2.63500589e-01,  3.76746664e-01,  5.86866853e-01,  6.93671904e-02,\n",
              "        6.14097460e-01,  4.70777621e-01,  2.19382246e-01,  3.86106279e-01,\n",
              "        3.72402976e-01,  8.30234249e-03,  1.24865695e-01,  1.18455741e-01,\n",
              "        3.79693485e-01,  1.10640627e-01,  2.04041024e-01, -2.51712992e-02,\n",
              "       -3.69928394e-02,  2.82283882e-01, -2.79692522e-01,  5.26801139e-01,\n",
              "        1.35875766e-01,  1.00575023e-01,  1.86276254e-01,  4.75226490e-02,\n",
              "        2.51896816e-01,  5.59636523e-02,  5.91259568e-01,  7.57277888e-01,\n",
              "        4.30366323e-01, -4.47833672e-02,  5.64357569e-01,  5.20625423e-02,\n",
              "        9.91014985e-02,  3.24785907e-01,  1.99873053e-01,  3.04325354e-01,\n",
              "        1.52669779e-01,  9.95713402e-02,  3.73255222e-01,  5.99280411e-02,\n",
              "        1.41356534e-01,  3.52043821e-01,  1.17494951e-01,  2.57862871e-01,\n",
              "       -1.87372843e-01,  4.71718453e-01, -2.25863726e-01,  2.35970405e-01,\n",
              "        1.74467985e-01,  2.18926922e-01,  7.94698277e-02, -5.29279333e-02,\n",
              "        7.08968959e-02,  6.49310559e-01,  1.75967824e-02,  1.42315922e-01,\n",
              "        2.97203023e-01,  6.31443400e-01,  2.53197403e-01,  2.36917507e-01,\n",
              "       -1.34070497e-01,  1.76614586e-01,  3.11703551e-01, -1.58358040e-01,\n",
              "       -1.30523592e-01,  7.58319968e-01,  3.54441066e-01, -1.51841176e-02,\n",
              "        3.86155106e-01,  2.60951426e-01,  2.47798173e-01,  7.24384580e-02,\n",
              "        4.23816936e-01,  6.72019382e-01, -1.79249804e-02, -1.14542009e-02,\n",
              "       -1.69652447e-02,  1.78502278e-02,  5.84284019e-01,  2.75641103e-01,\n",
              "       -1.74579973e-02,  2.93817708e-01,  3.83564255e-01, -1.92991852e-02,\n",
              "        1.95699118e-01,  2.46506543e-01,  3.39212054e-01,  3.76398253e-01,\n",
              "        5.94022550e-01,  2.78029429e-01,  1.24962846e-01,  2.69892230e-01,\n",
              "        4.88888081e-01,  2.44461064e-01,  4.06809344e-01,  4.50211572e-01,\n",
              "        1.69731198e-01,  3.51183991e-01,  1.70483771e-01,  5.85032250e-01,\n",
              "        1.24522649e-01,  5.98082326e-01,  2.92210913e-02, -3.08668660e-01,\n",
              "       -1.90634633e-02,  1.14535155e-02,  3.91759776e-02,  6.29145488e-01,\n",
              "        9.50602690e-02,  8.77397228e-02,  2.61115252e-01,  1.81142787e-01,\n",
              "        6.98850276e-02,  4.21920783e-01,  3.63313610e-01,  5.01364057e-01,\n",
              "        9.44252002e-01,  3.89226590e-01,  1.67480405e-01,  4.28993562e-01,\n",
              "        3.58588850e-01,  3.26922464e-02,  2.51547167e-01,  3.29772231e-01,\n",
              "        4.06388374e-01,  1.90134593e-02, -6.63157765e-02, -6.28518091e-02,\n",
              "        2.35885964e-01,  8.70976874e-02,  5.22117484e-01,  3.13358698e-02,\n",
              "        2.11713339e-01,  1.96969504e-01,  3.18353998e-01,  1.34075531e-01,\n",
              "        2.63608614e-01,  5.01224623e-01,  7.03046146e-02,  4.33971001e-02,\n",
              "        2.66211410e-01,  6.10234126e-01,  1.11745535e-01,  9.59936504e-01,\n",
              "        3.46571178e-01,  4.98726781e-01,  2.42057160e-01,  3.70132712e-03,\n",
              "        2.49016398e-01,  2.48816548e-01,  1.59347767e-01,  1.82946816e-01,\n",
              "        1.32859282e-01, -2.45979758e-01,  4.82386403e-02,  3.07249773e-01,\n",
              "       -1.68370718e-02,  3.18029273e-01,  6.23403265e-02,  6.23592290e-01,\n",
              "        2.00904171e-01, -1.08650889e-01, -1.79961771e-02,  4.30539352e-02,\n",
              "        3.09890629e-01,  2.08795621e-01,  2.33902394e-01,  1.92999414e-01,\n",
              "        1.94926365e-01,  3.26538599e-01,  4.80644558e-01,  3.57632122e-01,\n",
              "        4.77350770e-01, -5.14538386e-02,  4.90899552e-01,  7.66488138e-02,\n",
              "        2.42865061e-01,  6.08523540e-01,  8.21718619e-02,  2.02485581e-01,\n",
              "        1.18412282e-01,  3.97068202e-01,  1.11856752e-03,  3.41912641e-01,\n",
              "        2.19591721e-01,  5.80603296e-01,  2.30239816e-01,  2.23847320e-01,\n",
              "        5.99962126e-01,  2.43622018e-01,  2.64488780e-01, -1.32093042e-01,\n",
              "       -1.29010709e-01,  4.80565676e-01,  1.11143245e-01, -2.82734889e-01,\n",
              "        3.48489649e-01,  2.81633606e-01,  3.14643194e-01,  1.52419930e-02,\n",
              "        1.68428743e-01,  2.84633589e-01,  2.47856300e-01,  1.91389666e-01,\n",
              "       -8.33881186e-02,  2.20019705e-01, -9.31335675e-02,  5.10604333e-01,\n",
              "        6.38056726e-01,  1.55992760e-01,  3.99913394e-01,  1.05656853e-01,\n",
              "        3.00639481e-01,  5.19005561e-01,  6.87779779e-01,  5.36307533e-01,\n",
              "        5.23665130e-01,  5.48730965e-01,  1.96886323e-02,  1.77515571e-01,\n",
              "        6.39669838e-01, -6.82360643e-02,  1.72166648e-01,  2.22240473e-01,\n",
              "        3.27291382e-01,  2.27015657e-01,  5.41449967e-01, -8.22402966e-02,\n",
              "        3.30776710e-01,  1.39225812e-01,  8.89693582e-02,  4.59430662e-01,\n",
              "        3.34153655e-01,  2.69106824e-01, -2.53292717e-02, -4.32602140e-02,\n",
              "       -3.72538418e-02,  2.31901468e-01,  6.03137888e-01,  2.11878639e-01,\n",
              "       -5.97164406e-02, -2.99174633e-02,  2.51532804e-01,  1.02666041e-01,\n",
              "        6.49822650e-02,  1.43197942e-01,  5.18104393e-02, -2.52143436e-02,\n",
              "       -1.19053212e-01,  2.72735641e-01, -1.53817590e-01,  2.45883792e-01,\n",
              "        6.76495779e-01,  4.77543960e-01,  1.14240450e-01,  1.91471888e-01,\n",
              "        1.98112570e-01,  5.69091942e-02,  2.46358940e-01, -4.65958094e-02,\n",
              "        1.79647060e-01,  5.68592694e-01,  3.95342097e-01,  1.66218381e-01,\n",
              "        9.17399678e-02,  1.32854967e-01,  7.94914605e-02,  3.10615451e-01,\n",
              "        4.05856862e-01,  5.09135063e-01,  3.77015505e-01, -1.85650469e-01,\n",
              "       -1.01303576e-01,  2.15630725e-01,  5.49031666e-02,  3.90288977e-02,\n",
              "        1.05584180e-01,  2.35188760e-01,  6.81025866e-01,  2.90120913e-01,\n",
              "        1.52343744e-01,  3.59277349e-01,  1.36216189e-01,  6.32721641e-02,\n",
              "        3.63990449e-01, -8.30581231e-02,  4.35142243e-01,  1.15053625e-01,\n",
              "        1.14679998e-01,  2.21996690e-01, -3.80953120e-02,  5.63315092e-02,\n",
              "       -6.46530779e-02,  4.15116432e-01,  4.65922985e-01,  5.31456213e-01,\n",
              "        6.93459774e-02,  3.94996970e-01,  1.25040833e-01,  4.68619291e-01,\n",
              "        8.49239866e-02,  5.61342071e-01,  1.96554544e-01,  1.10420012e-01,\n",
              "       -3.47073748e-02,  3.46694475e-01,  3.53398536e-01,  1.75786771e-01,\n",
              "        2.79232787e-01,  2.40228489e-01,  1.57100632e-01,  3.99553001e-01,\n",
              "        1.23166816e-01,  1.72259381e-01,  7.56254468e-01,  7.92854764e-02,\n",
              "        1.84367784e-01,  2.69113911e-01,  3.63646179e-01,  7.63939905e-02,\n",
              "       -3.10785925e-02,  4.83341782e-03,  2.83001092e-01,  4.15067047e-01,\n",
              "        1.33366568e-01,  5.38412117e-01,  2.04324400e-01,  4.33672166e-01,\n",
              "        2.83274480e-01,  2.55619223e-01,  7.76916886e-02,  4.64336953e-01,\n",
              "        1.67490260e-01, -1.19386501e-01,  7.26454877e-01, -1.97666781e-01,\n",
              "        4.14370415e-01,  2.54477067e-01,  2.23014770e-01,  2.53866137e-01,\n",
              "        5.24963823e-01,  7.42122797e-02,  2.75408246e-01,  4.64749740e-01,\n",
              "        1.93351128e-01,  1.60812232e-01,  2.38528032e-01,  3.53794434e-01,\n",
              "        1.44705868e-01,  2.66117856e-01,  4.56172003e-01,  4.27553355e-01,\n",
              "        3.50954499e-01,  2.68889956e-01,  3.10345959e-01,  4.00964741e-01,\n",
              "        8.16021290e-02,  4.64163250e-01,  5.11469486e-01,  2.31275955e-01,\n",
              "       -1.91007993e-01, -1.26542392e-01,  2.25386409e-01,  5.04934684e-02,\n",
              "       -2.90864484e-01,  2.59181666e-01,  6.81295368e-03,  4.30291362e-01,\n",
              "        4.90811104e-01,  3.45817044e-01,  7.49755217e-01,  1.45320727e-01,\n",
              "        3.80230679e-01,  1.74645583e-01,  3.47524207e-01,  7.90304864e-02,\n",
              "        2.25462464e-01,  1.72919669e-01,  5.76308028e-01,  2.05321785e-01,\n",
              "        3.07288923e-01,  4.83201097e-01,  3.66158979e-01,  9.34968457e-03,\n",
              "        6.32134953e-02,  3.26299208e-01,  4.09218432e-01,  8.96374054e-02,\n",
              "       -2.34453602e-01,  1.42631974e-01,  1.43649354e-01,  4.96100326e-01,\n",
              "        5.05143829e-01,  3.92856488e-01,  2.02673142e-01,  3.79079297e-01,\n",
              "        1.28717865e-01,  7.64807293e-02,  3.34162267e-01,  2.84336201e-01,\n",
              "        2.45772041e-01,  3.32385909e-01,  2.71036478e-01,  7.35194659e-02,\n",
              "        7.34382773e-01,  3.66658070e-01,  2.07267698e-01,  5.59090967e-01,\n",
              "        7.31476924e-02,  4.34294402e-02, -4.70674475e-02,  2.25928202e-01,\n",
              "        5.31472500e-01,  2.80338275e-01,  1.39910910e-02,  3.57001079e-01,\n",
              "        5.42181916e-02,  2.60042499e-01, -1.24722133e-01,  2.53651925e-01,\n",
              "        1.81105842e-01,  6.05544863e-02, -7.34999493e-03,  3.73963100e-02,\n",
              "        2.07749483e-01,  1.61289813e-01, -1.83802055e-01,  4.51190518e-01,\n",
              "        3.38582268e-01,  1.36782734e-01,  5.46858644e-01, -4.52881624e-01,\n",
              "        5.74563935e-01,  4.82976784e-01,  8.29426737e-01,  2.55146795e-01,\n",
              "        6.36881340e-02,  2.62518745e-01,  4.49960512e-01, -5.44528026e-02,\n",
              "        4.50698593e-01,  3.83306632e-01,  1.29446092e-01,  5.24321542e-01,\n",
              "        2.71126960e-02, -1.30942384e-01,  8.69520705e-02,  6.58541355e-01,\n",
              "        5.29650575e-02,  4.54582936e-01,  2.69555275e-01,  3.13722553e-01,\n",
              "        4.42227716e-01,  3.32484004e-01,  3.96335591e-01,  1.71877172e-01,\n",
              "        1.18780253e-01,  3.17773621e-01,  7.36581112e-02,  3.73568630e-01,\n",
              "        5.06313846e-01,  4.96808945e-01,  4.66310575e-01, -1.50679006e-01,\n",
              "        2.03704468e-01,  5.01622437e-01,  8.18244084e-02, -2.38016974e-01,\n",
              "       -3.86095130e-02,  1.30492888e-01,  3.38332236e-01,  4.66201640e-01,\n",
              "       -2.09471411e-01, -5.61853376e-02, -1.09681840e-01,  1.52743424e-01,\n",
              "        4.18141236e-01,  7.81496084e-02, -7.62425122e-02,  6.53400842e-01,\n",
              "        3.27482028e-01,  5.13087038e-01,  1.94233202e-01,  5.72519961e-01,\n",
              "        3.49542370e-02,  3.67098812e-01,  1.13326229e-01,  1.53549528e-01,\n",
              "        3.67191321e-01,  2.93231699e-01,  2.82514098e-01,  3.30636387e-01,\n",
              "        2.46868076e-01,  5.57386063e-01,  2.16800171e-01,  1.28313650e-01,\n",
              "        8.86032173e-02,  3.10625920e-01, -1.03866093e-01,  5.91863798e-01,\n",
              "        1.55050722e-01, -4.53258800e-02, -5.56604016e-02,  4.08539826e-01,\n",
              "        4.07615065e-01,  9.01201975e-02, -8.00393580e-04,  4.95552886e-01,\n",
              "        2.62061714e-01,  3.93507898e-01,  3.65770418e-01,  3.14230961e-01,\n",
              "        4.95219569e-01,  1.75128108e-01,  2.48737762e-02,  9.38893397e-02,\n",
              "        6.46868478e-02,  5.05396227e-01,  2.93925516e-01,  1.86698502e-02,\n",
              "        3.26738451e-01,  4.03004275e-01,  1.92071939e-01,  1.74655858e-01,\n",
              "        3.35465225e-01,  3.32458901e-01,  4.48594144e-02,  3.43211488e-01,\n",
              "        3.61509869e-01,  4.74145640e-01,  1.30535600e-02,  6.14050513e-01])"
            ]
          },
          "metadata": {},
          "execution_count": 559
        }
      ]
    },
    {
      "cell_type": "code",
      "metadata": {
        "colab": {
          "base_uri": "https://localhost:8080/",
          "height": 299
        },
        "id": "bT9-kEI7NAnR",
        "outputId": "456f3960-fd7f-4210-d17c-996a1f79d468"
      },
      "source": [
        "x1 = (train_data).numpy()\n",
        "y1 = np.array(train_label)\n",
        "\n",
        "plt.scatter(x1[y1==0,0][:,0], x1[y1==0,0][:,1], label='class 0')\n",
        "plt.scatter(x1[y1==1,0][:,0], x1[y1==1,0][:,1], label='class 1')\n",
        "plt.scatter(x1[y1==2,0][:,0], x1[y1==2,0][:,1], label='class 2')\n",
        "plt.legend()\n",
        "plt.title(\"dataset4 CIN with alpha = 1/\"+str(m))"
      ],
      "execution_count": 560,
      "outputs": [
        {
          "output_type": "execute_result",
          "data": {
            "text/plain": [
              "Text(0.5, 1.0, 'dataset4 CIN with alpha = 1/20')"
            ]
          },
          "metadata": {},
          "execution_count": 560
        },
        {
          "output_type": "display_data",
          "data": {
            "image/png": "[encoded data removed]",
            "text/plain": [
              "<Figure size 432x288 with 1 Axes>"
            ]
          },
          "metadata": {
            "needs_background": "light"
          }
        }
      ]
    },
    {
      "cell_type": "code",
      "metadata": {
        "colab": {
          "base_uri": "https://localhost:8080/",
          "height": 299
        },
        "id": "Sc8W2N7LQQ_l",
        "outputId": "8af9391c-35e8-430b-c7d8-dbbf43895f07"
      },
      "source": [
        "x1 = (test_data).numpy()\n",
        "y1 = np.array(test_label)\n",
        "\n",
        "plt.scatter(x1[y1==0,0][:,0], x1[y1==0,0][:,1], label='class 0')\n",
        "plt.scatter(x1[y1==1,0][:,0], x1[y1==1,0][:,1], label='class 1')\n",
        "plt.scatter(x1[y1==2,0][:,0], x1[y1==2,0][:,1], label='class 2')\n",
        "plt.legend()\n",
        "plt.title(\"test dataset4\")"
      ],
      "execution_count": 561,
      "outputs": [
        {
          "output_type": "execute_result",
          "data": {
            "text/plain": [
              "Text(0.5, 1.0, 'test dataset4')"
            ]
          },
          "metadata": {},
          "execution_count": 561
        },
        {
          "output_type": "display_data",
          "data": {
            "image/png": "[encoded data removed]",
            "text/plain": [
              "<Figure size 432x288 with 1 Axes>"
            ]
          },
          "metadata": {
            "needs_background": "light"
          }
        }
      ]
    },
    {
      "cell_type": "code",
      "metadata": {
        "id": "yL0BRf8er0TX"
      },
      "source": [
        "class MosaicDataset(Dataset):\n",
        "  \"\"\"MosaicDataset dataset.\"\"\"\n",
        "\n",
        "  def __init__(self, mosaic_list_of_images, mosaic_label):\n",
        "    \"\"\"\n",
        "      Args:\n",
        "        csv_file (string): Path to the csv file with annotations.\n",
        "        root_dir (string): Directory with all the images.\n",
        "        transform (callable, optional): Optional transform to be applied\n",
        "            on a sample.\n",
        "    \"\"\"\n",
        "    self.mosaic = mosaic_list_of_images\n",
        "    self.label = mosaic_label\n",
        "    #self.fore_idx = fore_idx\n",
        "    \n",
        "  def __len__(self):\n",
        "    return len(self.label)\n",
        "\n",
        "  def __getitem__(self, idx):\n",
        "    return self.mosaic[idx] , self.label[idx] #, self.fore_idx[idx]\n",
        "\n"
      ],
      "execution_count": 562,
      "outputs": []
    },
    {
      "cell_type": "code",
      "metadata": {
        "colab": {
          "base_uri": "https://localhost:8080/"
        },
        "id": "4KsrW9qL9xgS",
        "outputId": "bc77829f-2114-414e-bc59-49bbc2791123"
      },
      "source": [
        "train_data[0].shape, train_data[0]"
      ],
      "execution_count": 563,
      "outputs": [
        {
          "output_type": "execute_result",
          "data": {
            "text/plain": [
              "(torch.Size([1, 2]), tensor([[0.6208, 0.1138]], dtype=torch.float64))"
            ]
          },
          "metadata": {},
          "execution_count": 563
        }
      ]
    },
    {
      "cell_type": "code",
      "metadata": {
        "id": "EY2l62APygaV"
      },
      "source": [
        "batch = 200\n",
        "\n",
        "traindata_1 = MosaicDataset(train_data, train_label )\n",
        "trainloader_1 = DataLoader( traindata_1 , batch_size= batch ,shuffle=True)\n"
      ],
      "execution_count": 564,
      "outputs": []
    },
    {
      "cell_type": "code",
      "metadata": {
        "id": "9suUslCj8YZK"
      },
      "source": [
        "testdata_1 = MosaicDataset(test_data, test_label )\n",
        "testloader_1 = DataLoader( testdata_1 , batch_size= batch ,shuffle=False)\n"
      ],
      "execution_count": 565,
      "outputs": []
    },
    {
      "cell_type": "code",
      "metadata": {
        "id": "Nh3mBQHZ8bEj"
      },
      "source": [
        "# testdata_11 = MosaicDataset(test_dataset, labels )\n",
        "# testloader_11 = DataLoader( testdata_11 , batch_size= batch ,shuffle=False)"
      ],
      "execution_count": 566,
      "outputs": []
    },
    {
      "cell_type": "code",
      "metadata": {
        "id": "5_XeIUk0r0Tl"
      },
      "source": [
        "class Whatnet(nn.Module):\n",
        "    def __init__(self):\n",
        "        super(Whatnet,self).__init__()\n",
        "        self.linear1 = nn.Linear(2,50)\n",
        "        self.linear2 = nn.Linear(50,3)\n",
        "\n",
        "        torch.nn.init.xavier_normal_(self.linear1.weight)\n",
        "        torch.nn.init.zeros_(self.linear1.bias)\n",
        "        torch.nn.init.xavier_normal_(self.linear2.weight)\n",
        "        torch.nn.init.zeros_(self.linear2.bias)\n",
        "\n",
        "    def forward(self,x):\n",
        "        x = F.relu(self.linear1(x))\n",
        "        x = (self.linear2(x))\n",
        "\n",
        "        return x[:,0]"
      ],
      "execution_count": 567,
      "outputs": []
    },
    {
      "cell_type": "code",
      "metadata": {
        "id": "pjD2VZuV9Ed4"
      },
      "source": [
        "def calculate_loss(dataloader,model,criter):\n",
        "  model.eval()\n",
        "  r_loss = 0\n",
        "  with torch.no_grad():\n",
        "    for i, data in enumerate(dataloader, 0):\n",
        "      inputs, labels = data\n",
        "      inputs, labels = inputs.to(\"cuda\"),labels.to(\"cuda\")\n",
        "      outputs = model(inputs)\n",
        "      # print(outputs.shape)\n",
        "      loss = criter(outputs, labels)\n",
        "      r_loss += loss.item()\n",
        "  return r_loss/(i+1)"
      ],
      "execution_count": 568,
      "outputs": []
    },
    {
      "cell_type": "code",
      "metadata": {
        "id": "uALi25pmzQHV"
      },
      "source": [
        "def test_all(number, testloader,net):\n",
        "    correct = 0\n",
        "    total = 0\n",
        "    out = []\n",
        "    pred = []\n",
        "    with torch.no_grad():\n",
        "        for data in testloader:\n",
        "            images, labels = data\n",
        "            images, labels = images.to(\"cuda\"),labels.to(\"cuda\")\n",
        "            out.append(labels.cpu().numpy())\n",
        "            outputs= net(images)\n",
        "            _, predicted = torch.max(outputs.data, 1)\n",
        "            pred.append(predicted.cpu().numpy())\n",
        "            total += labels.size(0)\n",
        "            correct += (predicted == labels).sum().item()\n",
        "    \n",
        "    pred = np.concatenate(pred, axis = 0)\n",
        "    out = np.concatenate(out, axis = 0)\n",
        "    print(\"unique out: \",  np.unique(out), \"unique pred: \", np.unique(pred) )\n",
        "    print(\"correct: \", correct, \"total \",  total)\n",
        "    print('Accuracy of the network on the %d test dataset %d: %.2f %%' % (total, number , 100 * correct / total))"
      ],
      "execution_count": 569,
      "outputs": []
    },
    {
      "cell_type": "code",
      "metadata": {
        "id": "4vmNprlPzTjP"
      },
      "source": [
        "def train_all(trainloader, ds_number, testloader_list, lr_list):\n",
        "  \n",
        "  final_loss = []\n",
        "  for LR in lr_list:    \n",
        "    print(\"--\"*20, \"Learning Rate used is\", LR)\n",
        "    \n",
        "    torch.manual_seed(12)\n",
        "    net = Whatnet().double()\n",
        "    net = net.to(\"cuda\")\n",
        "    \n",
        "    criterion_net = nn.CrossEntropyLoss()\n",
        "    optimizer_net = optim.Adam(net.parameters(), lr=0.001 ) #, momentum=0.9)\n",
        "    \n",
        "    acti = []\n",
        "    loss_curi = []\n",
        "    epochs = 1000\n",
        "    running_loss = calculate_loss(trainloader,net,criterion_net)\n",
        "    loss_curi.append(running_loss)\n",
        "    print('epoch: [%d ] loss: %.3f' %(0,running_loss)) \n",
        "    for epoch in range(epochs): # loop over the dataset multiple times\n",
        "        ep_lossi = []\n",
        "\n",
        "        running_loss = 0.0\n",
        "        net.train()\n",
        "        for i, data in enumerate(trainloader, 0):\n",
        "            # get the inputs\n",
        "            inputs, labels = data\n",
        "            inputs, labels = inputs.to(\"cuda\"),labels.to(\"cuda\")\n",
        "\n",
        "            # zero the parameter gradients\n",
        "            optimizer_net.zero_grad()\n",
        "\n",
        "            # forward + backward + optimize\n",
        "            outputs = net(inputs)\n",
        "            # print(outputs.shape)\n",
        "            loss = criterion_net(outputs, labels)\n",
        "            # print statistics\n",
        "            running_loss += loss.item()\n",
        "            loss.backward()\n",
        "            optimizer_net.step()\n",
        "\n",
        "        running_loss = calculate_loss(trainloader,net,criterion_net)\n",
        "        if(epoch%200 == 0):\n",
        "          print('epoch: [%d] loss: %.3f' %(epoch + 1,running_loss)) \n",
        "        loss_curi.append(running_loss)   #loss per epoch\n",
        "        if running_loss<=0.05:\n",
        "          print('epoch: [%d] loss: %.3f' %(epoch + 1,running_loss))\n",
        "          break\n",
        "\n",
        "    print('Finished Training')\n",
        "    \n",
        "    correct = 0\n",
        "    total = 0\n",
        "    with torch.no_grad():\n",
        "        for data in trainloader:\n",
        "            images, labels = data\n",
        "            images, labels = images.to(\"cuda\"), labels.to(\"cuda\")\n",
        "            outputs = net(images)\n",
        "            _, predicted = torch.max(outputs.data, 1)\n",
        "            total += labels.size(0)\n",
        "            correct += (predicted == labels).sum().item()\n",
        "\n",
        "    print('Accuracy of the network on the %d train images: %.2f %%' % (total,  100 * correct / total))\n",
        "    \n",
        "    for i, j in enumerate(testloader_list):\n",
        "        test_all(i+1, j,net)\n",
        "    \n",
        "    print(\"--\"*40)\n",
        "    \n",
        "    final_loss.append(loss_curi) \n",
        "  return final_loss\n",
        "    "
      ],
      "execution_count": 570,
      "outputs": []
    },
    {
      "cell_type": "code",
      "metadata": {
        "id": "Yl41sE8vFERk"
      },
      "source": [
        "train_loss_all=[]\n",
        "\n",
        "testloader_list= [ testloader_1]\n",
        "lr_list = [0.0001, 0.0005, 0.001, 0.005, 0.01, 0.05, 0.1, 0.5 ]"
      ],
      "execution_count": 571,
      "outputs": []
    },
    {
      "cell_type": "code",
      "metadata": {
        "colab": {
          "base_uri": "https://localhost:8080/"
        },
        "id": "5gQoPST5zW2t",
        "outputId": "004160f3-a170-497e-cb12-65a8e9a0c970"
      },
      "source": [
        "fin_loss = train_all(trainloader_1, 1, testloader_list, lr_list)\n",
        "train_loss_all.append(fin_loss)"
      ],
      "execution_count": 572,
      "outputs": [
        {
          "output_type": "stream",
          "name": "stdout",
          "text": [
            "---------------------------------------- Learning Rate used is 0.0001\n",
            "epoch: [0 ] loss: 1.091\n",
            "epoch: [1] loss: 1.087\n",
            "epoch: [201] loss: 1.013\n",
            "epoch: [401] loss: 1.012\n",
            "epoch: [601] loss: 1.011\n",
            "epoch: [801] loss: 1.011\n",
            "Finished Training\n",
            "Accuracy of the network on the 2000 train images: 48.70 %\n",
            "unique out:  [0 1 2] unique pred:  [0 1 2]\n",
            "correct:  1000 total  1000\n",
            "Accuracy of the network on the 1000 test dataset 1: 100.00 %\n",
            "--------------------------------------------------------------------------------\n",
            "---------------------------------------- Learning Rate used is 0.0005\n",
            "epoch: [0 ] loss: 1.091\n",
            "epoch: [1] loss: 1.087\n",
            "epoch: [201] loss: 1.013\n",
            "epoch: [401] loss: 1.012\n",
            "epoch: [601] loss: 1.011\n",
            "epoch: [801] loss: 1.011\n",
            "Finished Training\n",
            "Accuracy of the network on the 2000 train images: 48.70 %\n",
            "unique out:  [0 1 2] unique pred:  [0 1 2]\n",
            "correct:  1000 total  1000\n",
            "Accuracy of the network on the 1000 test dataset 1: 100.00 %\n",
            "--------------------------------------------------------------------------------\n",
            "---------------------------------------- Learning Rate used is 0.001\n",
            "epoch: [0 ] loss: 1.091\n",
            "epoch: [1] loss: 1.087\n",
            "epoch: [201] loss: 1.013\n",
            "epoch: [401] loss: 1.012\n",
            "epoch: [601] loss: 1.011\n",
            "epoch: [801] loss: 1.011\n",
            "Finished Training\n",
            "Accuracy of the network on the 2000 train images: 48.70 %\n",
            "unique out:  [0 1 2] unique pred:  [0 1 2]\n",
            "correct:  1000 total  1000\n",
            "Accuracy of the network on the 1000 test dataset 1: 100.00 %\n",
            "--------------------------------------------------------------------------------\n",
            "---------------------------------------- Learning Rate used is 0.005\n",
            "epoch: [0 ] loss: 1.091\n",
            "epoch: [1] loss: 1.087\n",
            "epoch: [201] loss: 1.013\n",
            "epoch: [401] loss: 1.012\n",
            "epoch: [601] loss: 1.011\n",
            "epoch: [801] loss: 1.011\n",
            "Finished Training\n",
            "Accuracy of the network on the 2000 train images: 48.70 %\n",
            "unique out:  [0 1 2] unique pred:  [0 1 2]\n",
            "correct:  1000 total  1000\n",
            "Accuracy of the network on the 1000 test dataset 1: 100.00 %\n",
            "--------------------------------------------------------------------------------\n",
            "---------------------------------------- Learning Rate used is 0.01\n",
            "epoch: [0 ] loss: 1.091\n",
            "epoch: [1] loss: 1.087\n",
            "epoch: [201] loss: 1.013\n",
            "epoch: [401] loss: 1.012\n",
            "epoch: [601] loss: 1.011\n",
            "epoch: [801] loss: 1.011\n",
            "Finished Training\n",
            "Accuracy of the network on the 2000 train images: 48.70 %\n",
            "unique out:  [0 1 2] unique pred:  [0 1 2]\n",
            "correct:  1000 total  1000\n",
            "Accuracy of the network on the 1000 test dataset 1: 100.00 %\n",
            "--------------------------------------------------------------------------------\n",
            "---------------------------------------- Learning Rate used is 0.05\n",
            "epoch: [0 ] loss: 1.091\n",
            "epoch: [1] loss: 1.087\n",
            "epoch: [201] loss: 1.013\n",
            "epoch: [401] loss: 1.012\n",
            "epoch: [601] loss: 1.011\n",
            "epoch: [801] loss: 1.011\n",
            "Finished Training\n",
            "Accuracy of the network on the 2000 train images: 48.70 %\n",
            "unique out:  [0 1 2] unique pred:  [0 1 2]\n",
            "correct:  1000 total  1000\n",
            "Accuracy of the network on the 1000 test dataset 1: 100.00 %\n",
            "--------------------------------------------------------------------------------\n",
            "---------------------------------------- Learning Rate used is 0.1\n",
            "epoch: [0 ] loss: 1.091\n",
            "epoch: [1] loss: 1.087\n",
            "epoch: [201] loss: 1.013\n",
            "epoch: [401] loss: 1.012\n",
            "epoch: [601] loss: 1.011\n",
            "epoch: [801] loss: 1.011\n",
            "Finished Training\n",
            "Accuracy of the network on the 2000 train images: 48.70 %\n",
            "unique out:  [0 1 2] unique pred:  [0 1 2]\n",
            "correct:  1000 total  1000\n",
            "Accuracy of the network on the 1000 test dataset 1: 100.00 %\n",
            "--------------------------------------------------------------------------------\n",
            "---------------------------------------- Learning Rate used is 0.5\n",
            "epoch: [0 ] loss: 1.091\n",
            "epoch: [1] loss: 1.087\n",
            "epoch: [201] loss: 1.013\n",
            "epoch: [401] loss: 1.012\n",
            "epoch: [601] loss: 1.011\n",
            "epoch: [801] loss: 1.011\n",
            "Finished Training\n",
            "Accuracy of the network on the 2000 train images: 48.70 %\n",
            "unique out:  [0 1 2] unique pred:  [0 1 2]\n",
            "correct:  1000 total  1000\n",
            "Accuracy of the network on the 1000 test dataset 1: 100.00 %\n",
            "--------------------------------------------------------------------------------\n"
          ]
        }
      ]
    },
    {
      "cell_type": "code",
      "metadata": {
        "id": "In76SYH_zZHV"
      },
      "source": [
        "%matplotlib inline"
      ],
      "execution_count": 573,
      "outputs": []
    },
    {
      "cell_type": "code",
      "metadata": {
        "colab": {
          "base_uri": "https://localhost:8080/"
        },
        "id": "_GsE3qHR_A5c",
        "outputId": "0797c2a4-a8b2-4699-b732-139a5ef2c5d7"
      },
      "source": [
        "len(fin_loss)"
      ],
      "execution_count": 574,
      "outputs": [
        {
          "output_type": "execute_result",
          "data": {
            "text/plain": [
              "8"
            ]
          },
          "metadata": {},
          "execution_count": 574
        }
      ]
    },
    {
      "cell_type": "code",
      "metadata": {
        "id": "BS4HtOHEzZ0E",
        "colab": {
          "base_uri": "https://localhost:8080/",
          "height": 297
        },
        "outputId": "c7b70b46-2c6e-40c1-e517-0f2f99b5eb1d"
      },
      "source": [
        "for i,j in enumerate(fin_loss):\n",
        "    plt.plot(j,label =\"LR = \"+str(lr_list[i]))\n",
        "    \n",
        "\n",
        "plt.xlabel(\"Epochs\")\n",
        "plt.ylabel(\"Training_loss\")\n",
        "\n",
        "plt.legend(loc='center left', bbox_to_anchor=(1, 0.5))"
      ],
      "execution_count": 575,
      "outputs": [
        {
          "output_type": "execute_result",
          "data": {
            "text/plain": [
              "<matplotlib.legend.Legend at 0x7fab05346290>"
            ]
          },
          "metadata": {},
          "execution_count": 575
        },
        {
          "output_type": "display_data",
          "data": {
            "image/png": "[encoded data removed]",
            "text/plain": [
              "<Figure size 432x288 with 1 Axes>"
            ]
          },
          "metadata": {
            "needs_background": "light"
          }
        }
      ]
    },
    {
      "cell_type": "code",
      "metadata": {
        "id": "1UbTkfLUINTI"
      },
      "source": [
        ""
      ],
      "execution_count": 575,
      "outputs": []
    }
  ]
}