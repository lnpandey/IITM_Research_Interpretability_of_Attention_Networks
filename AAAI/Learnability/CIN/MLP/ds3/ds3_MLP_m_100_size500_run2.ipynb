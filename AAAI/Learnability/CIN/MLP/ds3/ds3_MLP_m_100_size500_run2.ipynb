{
  "nbformat": 4,
  "nbformat_minor": 0,
  "metadata": {
    "accelerator": "GPU",
    "colab": {
      "name": "ds3_MLP_m_100_size500_run2.ipynb",
      "provenance": [],
      "collapsed_sections": []
    },
    "kernelspec": {
      "display_name": "Python 3",
      "language": "python",
      "name": "python3"
    },
    "language_info": {
      "codemirror_mode": {
        "name": "ipython",
        "version": 3
      },
      "file_extension": ".py",
      "mimetype": "text/x-python",
      "name": "python",
      "nbconvert_exporter": "python",
      "pygments_lexer": "ipython3",
      "version": "3.6.5"
    }
  },
  "cells": [
    {
      "cell_type": "code",
      "metadata": {
        "colab": {
          "base_uri": "https://localhost:8080/"
        },
        "id": "N2_J4Rw2r0SQ",
        "outputId": "98e3d9ff-bee7-4a6e-a44e-97f28b4b6fc2"
      },
      "source": [
        "import numpy as np\n",
        "import pandas as pd\n",
        "from matplotlib import pyplot as plt\n",
        "from tqdm import tqdm\n",
        "%matplotlib inline\n",
        "from torch.utils.data import Dataset, DataLoader\n",
        "import torch\n",
        "import torchvision\n",
        "\n",
        "import torch.nn as nn\n",
        "import torch.optim as optim\n",
        "from torch.nn import functional as F\n",
        "device = torch.device(\"cuda\" if torch.cuda.is_available() else \"cpu\")\n",
        "print(device)"
      ],
      "execution_count": 55,
      "outputs": [
        {
          "output_type": "stream",
          "name": "stdout",
          "text": [
            "cuda\n"
          ]
        }
      ]
    },
    {
      "cell_type": "code",
      "metadata": {
        "id": "ZTJPyL45DiJ3"
      },
      "source": [
        "m = 100         # 5, 50, 100, 500, 2000"
      ],
      "execution_count": 56,
      "outputs": []
    },
    {
      "cell_type": "code",
      "metadata": {
        "id": "g-do5dZWK5L6"
      },
      "source": [
        "train_size = 500          # 100, 500, 2000, 10000"
      ],
      "execution_count": 57,
      "outputs": []
    },
    {
      "cell_type": "markdown",
      "metadata": {
        "id": "F6fjud_Fr0Sa"
      },
      "source": [
        "# Generate dataset"
      ]
    },
    {
      "cell_type": "code",
      "metadata": {
        "colab": {
          "base_uri": "https://localhost:8080/"
        },
        "id": "CqdXHO0Cr0Sd",
        "outputId": "6f8d5d15-e9e0-40ae-c545-7f8775b86c76"
      },
      "source": [
        "np.random.seed(12)\n",
        "y = np.random.randint(0,10,5000)\n",
        "idx= []\n",
        "for i in range(10):\n",
        "    print(i,sum(y==i))\n",
        "    idx.append(y==i)"
      ],
      "execution_count": 58,
      "outputs": [
        {
          "output_type": "stream",
          "name": "stdout",
          "text": [
            "0 530\n",
            "1 463\n",
            "2 494\n",
            "3 517\n",
            "4 488\n",
            "5 497\n",
            "6 493\n",
            "7 507\n",
            "8 492\n",
            "9 519\n"
          ]
        }
      ]
    },
    {
      "cell_type": "code",
      "metadata": {
        "id": "ddhXyODwr0Sk"
      },
      "source": [
        "x = np.zeros((5000,2))"
      ],
      "execution_count": 59,
      "outputs": []
    },
    {
      "cell_type": "code",
      "metadata": {
        "id": "DyV3N2DIr0Sp"
      },
      "source": [
        "np.random.seed(12)\n",
        "x[idx[0],:] = np.random.multivariate_normal(mean = [5,5],cov=[[0.1,0],[0,0.1]],size=sum(idx[0]))\n",
        "x[idx[1],:] = np.random.multivariate_normal(mean = [6,6],cov=[[0.1,0],[0,0.1]],size=sum(idx[1]))\n",
        "x[idx[2],:] = np.random.multivariate_normal(mean = [5.5,6.5],cov=[[0.1,0],[0,0.1]],size=sum(idx[2]))\n",
        "x[idx[3],:] = np.random.multivariate_normal(mean = [-1,0],cov=[[0.1,0],[0,0.1]],size=sum(idx[3]))\n",
        "x[idx[4],:] = np.random.multivariate_normal(mean = [0,2],cov=[[0.1,0],[0,0.1]],size=sum(idx[4]))\n",
        "x[idx[5],:] = np.random.multivariate_normal(mean = [1,0],cov=[[0.1,0],[0,0.1]],size=sum(idx[5]))\n",
        "x[idx[6],:] = np.random.multivariate_normal(mean = [0,-1],cov=[[0.1,0],[0,0.1]],size=sum(idx[6]))\n",
        "x[idx[7],:] = np.random.multivariate_normal(mean = [0,0],cov=[[0.1,0],[0,0.1]],size=sum(idx[7]))\n",
        "x[idx[8],:] = np.random.multivariate_normal(mean = [-0.5,-0.5],cov=[[0.1,0],[0,0.1]],size=sum(idx[8]))\n",
        "x[idx[9],:] = np.random.multivariate_normal(mean = [0.4,0.2],cov=[[0.1,0],[0,0.1]],size=sum(idx[9]))"
      ],
      "execution_count": 60,
      "outputs": []
    },
    {
      "cell_type": "code",
      "metadata": {
        "colab": {
          "base_uri": "https://localhost:8080/"
        },
        "id": "qh1mDScsU07I",
        "outputId": "e9d0df7b-e8c5-4f49-e48b-360087d49b77"
      },
      "source": [
        "x[idx[0]][0], x[idx[5]][5] "
      ],
      "execution_count": 61,
      "outputs": [
        {
          "output_type": "execute_result",
          "data": {
            "text/plain": [
              "(array([5.14957125, 4.78451422]), array([0.87756167, 0.00457805]))"
            ]
          },
          "metadata": {},
          "execution_count": 61
        }
      ]
    },
    {
      "cell_type": "code",
      "metadata": {
        "colab": {
          "base_uri": "https://localhost:8080/",
          "height": 284
        },
        "id": "hJ8Jm7YUr0St",
        "outputId": "07833ef7-a810-40a2-eaeb-5bae754fc94d"
      },
      "source": [
        "for i in range(10):\n",
        "    plt.scatter(x[idx[i],0],x[idx[i],1],label=\"class_\"+str(i))\n",
        "plt.legend(loc='center left', bbox_to_anchor=(1, 0.5))"
      ],
      "execution_count": 62,
      "outputs": [
        {
          "output_type": "execute_result",
          "data": {
            "text/plain": [
              "<matplotlib.legend.Legend at 0x7fdf74b94f50>"
            ]
          },
          "metadata": {},
          "execution_count": 62
        },
        {
          "output_type": "display_data",
          "data": {
            "image/png": "[encoded data removed]",
            "text/plain": [
              "<Figure size 432x288 with 1 Axes>"
            ]
          },
          "metadata": {
            "needs_background": "light"
          }
        }
      ]
    },
    {
      "cell_type": "code",
      "metadata": {
        "colab": {
          "base_uri": "https://localhost:8080/"
        },
        "id": "3lMBZEHNBlF2",
        "outputId": "57162493-c647-4d5c-cc7b-d4ab9c66368e"
      },
      "source": [
        "bg_idx = [ np.where(idx[3] == True)[0], \n",
        "          np.where(idx[4] == True)[0], \n",
        "          np.where(idx[5] == True)[0],\n",
        "          np.where(idx[6] == True)[0], \n",
        "          np.where(idx[7] == True)[0], \n",
        "          np.where(idx[8] == True)[0],\n",
        "          np.where(idx[9] == True)[0]]\n",
        "\n",
        "bg_idx = np.concatenate(bg_idx, axis = 0)\n",
        "bg_idx.shape"
      ],
      "execution_count": 63,
      "outputs": [
        {
          "output_type": "execute_result",
          "data": {
            "text/plain": [
              "(3513,)"
            ]
          },
          "metadata": {},
          "execution_count": 63
        }
      ]
    },
    {
      "cell_type": "code",
      "metadata": {
        "colab": {
          "base_uri": "https://localhost:8080/"
        },
        "id": "blRbGZHeCwXU",
        "outputId": "e31a6290-ee54-46f9-c128-abd9186d112f"
      },
      "source": [
        "np.unique(bg_idx).shape"
      ],
      "execution_count": 64,
      "outputs": [
        {
          "output_type": "execute_result",
          "data": {
            "text/plain": [
              "(3513,)"
            ]
          },
          "metadata": {},
          "execution_count": 64
        }
      ]
    },
    {
      "cell_type": "code",
      "metadata": {
        "id": "Y43sWeX7C15F"
      },
      "source": [
        "x = x - np.mean(x[bg_idx], axis = 0, keepdims = True)\n"
      ],
      "execution_count": 65,
      "outputs": []
    },
    {
      "cell_type": "code",
      "metadata": {
        "colab": {
          "base_uri": "https://localhost:8080/"
        },
        "id": "ooII7N6UDWe0",
        "outputId": "fda24ef3-fc57-41ab-b925-08cf07be3039"
      },
      "source": [
        "np.mean(x[bg_idx], axis = 0, keepdims = True), np.mean(x, axis = 0, keepdims = True)"
      ],
      "execution_count": 66,
      "outputs": [
        {
          "output_type": "execute_result",
          "data": {
            "text/plain": [
              "(array([[-1.04275003e-16,  6.74571889e-17]]),\n",
              " array([[1.63261967, 1.69552644]]))"
            ]
          },
          "metadata": {},
          "execution_count": 66
        }
      ]
    },
    {
      "cell_type": "code",
      "metadata": {
        "id": "g21bvPRYDL9k"
      },
      "source": [
        "x = x/np.std(x[bg_idx], axis = 0, keepdims = True)"
      ],
      "execution_count": 67,
      "outputs": []
    },
    {
      "cell_type": "code",
      "metadata": {
        "colab": {
          "base_uri": "https://localhost:8080/"
        },
        "id": "GtFvIeHsDZJk",
        "outputId": "8f590adf-3021-4146-98ec-741077503d2d"
      },
      "source": [
        "np.std(x[bg_idx], axis = 0, keepdims = True), np.std(x, axis = 0, keepdims = True)"
      ],
      "execution_count": 68,
      "outputs": [
        {
          "output_type": "execute_result",
          "data": {
            "text/plain": [
              "(array([[1., 1.]]), array([[3.93071885, 3.03840862]]))"
            ]
          },
          "metadata": {},
          "execution_count": 68
        }
      ]
    },
    {
      "cell_type": "code",
      "metadata": {
        "colab": {
          "base_uri": "https://localhost:8080/",
          "height": 284
        },
        "id": "8-VLhUfDDeHt",
        "outputId": "c2d59a18-5a1f-466f-f1cd-93ca1a4c3441"
      },
      "source": [
        "for i in range(10):\n",
        "    plt.scatter(x[idx[i],0],x[idx[i],1],label=\"class_\"+str(i))\n",
        "plt.legend(loc='center left', bbox_to_anchor=(1, 0.5))"
      ],
      "execution_count": 69,
      "outputs": [
        {
          "output_type": "execute_result",
          "data": {
            "text/plain": [
              "<matplotlib.legend.Legend at 0x7fdf73788c50>"
            ]
          },
          "metadata": {},
          "execution_count": 69
        },
        {
          "output_type": "display_data",
          "data": {
            "image/png": "[encoded data removed]",
            "text/plain": [
              "<Figure size 432x288 with 1 Axes>"
            ]
          },
          "metadata": {
            "needs_background": "light"
          }
        }
      ]
    },
    {
      "cell_type": "code",
      "metadata": {
        "id": "UfFHcZJOr0Sz"
      },
      "source": [
        "foreground_classes = {'class_0','class_1', 'class_2'}\n",
        "\n",
        "background_classes = {'class_3','class_4', 'class_5', 'class_6','class_7', 'class_8', 'class_9'}"
      ],
      "execution_count": 70,
      "outputs": []
    },
    {
      "cell_type": "code",
      "metadata": {
        "colab": {
          "base_uri": "https://localhost:8080/"
        },
        "id": "OplNpNQVr0S2",
        "outputId": "de51d25c-51e0-4e70-ca93-e4f48692e654"
      },
      "source": [
        "fg_class  = np.random.randint(0,3)\n",
        "fg_idx = np.random.randint(0,m)\n",
        "train_data=[]\n",
        "a = []\n",
        "fg_instance = np.array([[0.0,0.0]])\n",
        "bg_instance = np.array([[0.0,0.0]])\n",
        "\n",
        "for i in range(m):\n",
        "  if i == fg_idx:\n",
        "    b = np.random.choice(np.where(idx[fg_class]==True)[0],size=1)\n",
        "    fg_instance += x[b]\n",
        "    a.append(x[b])\n",
        "    print(\"foreground \"+str(fg_class)+\" present at \" + str(fg_idx))\n",
        "  else:\n",
        "    bg_class = np.random.randint(3,10)\n",
        "    b = np.random.choice(np.where(idx[bg_class]==True)[0],size=1)\n",
        "    bg_instance += x[b]\n",
        "    a.append(x[b])\n",
        "    print(\"background \"+str(bg_class)+\" present at \" + str(i))\n",
        "\n",
        "a = np.concatenate(a,axis=0)\n",
        "print(a.shape)\n",
        "\n",
        "print(fg_class , fg_idx)"
      ],
      "execution_count": 71,
      "outputs": [
        {
          "output_type": "stream",
          "name": "stdout",
          "text": [
            "background 3 present at 0\n",
            "background 8 present at 1\n",
            "background 5 present at 2\n",
            "background 3 present at 3\n",
            "background 5 present at 4\n",
            "background 7 present at 5\n",
            "background 6 present at 6\n",
            "background 5 present at 7\n",
            "background 3 present at 8\n",
            "background 5 present at 9\n",
            "background 4 present at 10\n",
            "background 7 present at 11\n",
            "background 4 present at 12\n",
            "background 3 present at 13\n",
            "background 9 present at 14\n",
            "background 6 present at 15\n",
            "background 6 present at 16\n",
            "background 3 present at 17\n",
            "background 3 present at 18\n",
            "background 5 present at 19\n",
            "background 4 present at 20\n",
            "background 4 present at 21\n",
            "background 9 present at 22\n",
            "background 8 present at 23\n",
            "background 3 present at 24\n",
            "background 7 present at 25\n",
            "background 6 present at 26\n",
            "background 8 present at 27\n",
            "background 3 present at 28\n",
            "background 7 present at 29\n",
            "background 8 present at 30\n",
            "background 7 present at 31\n",
            "background 7 present at 32\n",
            "background 5 present at 33\n",
            "background 9 present at 34\n",
            "background 6 present at 35\n",
            "background 4 present at 36\n",
            "background 7 present at 37\n",
            "background 6 present at 38\n",
            "background 3 present at 39\n",
            "background 4 present at 40\n",
            "background 3 present at 41\n",
            "background 4 present at 42\n",
            "background 7 present at 43\n",
            "background 6 present at 44\n",
            "background 5 present at 45\n",
            "background 8 present at 46\n",
            "background 8 present at 47\n",
            "background 7 present at 48\n",
            "background 3 present at 49\n",
            "background 7 present at 50\n",
            "background 7 present at 51\n",
            "background 6 present at 52\n",
            "background 4 present at 53\n",
            "background 3 present at 54\n",
            "background 6 present at 55\n",
            "background 3 present at 56\n",
            "background 8 present at 57\n",
            "background 8 present at 58\n",
            "background 4 present at 59\n",
            "background 7 present at 60\n",
            "background 8 present at 61\n",
            "background 5 present at 62\n",
            "background 8 present at 63\n",
            "background 6 present at 64\n",
            "background 9 present at 65\n",
            "background 6 present at 66\n",
            "background 3 present at 67\n",
            "background 6 present at 68\n",
            "background 3 present at 69\n",
            "background 7 present at 70\n",
            "background 5 present at 71\n",
            "background 9 present at 72\n",
            "background 6 present at 73\n",
            "background 7 present at 74\n",
            "background 5 present at 75\n",
            "background 6 present at 76\n",
            "background 4 present at 77\n",
            "background 6 present at 78\n",
            "background 7 present at 79\n",
            "background 4 present at 80\n",
            "background 3 present at 81\n",
            "foreground 2 present at 82\n",
            "background 4 present at 83\n",
            "background 6 present at 84\n",
            "background 7 present at 85\n",
            "background 3 present at 86\n",
            "background 6 present at 87\n",
            "background 3 present at 88\n",
            "background 4 present at 89\n",
            "background 3 present at 90\n",
            "background 4 present at 91\n",
            "background 3 present at 92\n",
            "background 5 present at 93\n",
            "background 5 present at 94\n",
            "background 7 present at 95\n",
            "background 9 present at 96\n",
            "background 6 present at 97\n",
            "background 6 present at 98\n",
            "background 8 present at 99\n",
            "(100, 2)\n",
            "2 82\n"
          ]
        }
      ]
    },
    {
      "cell_type": "code",
      "metadata": {
        "colab": {
          "base_uri": "https://localhost:8080/"
        },
        "id": "Rx6cMmR3baVf",
        "outputId": "ba87b792-0980-4cd2-f2ce-5c8eb395098a"
      },
      "source": [
        "a"
      ],
      "execution_count": 72,
      "outputs": [
        {
          "output_type": "execute_result",
          "data": {
            "text/plain": [
              "array([[-1.62273068e+00, -9.44577073e-01],\n",
              "       [-8.22962717e-01, -7.32521912e-01],\n",
              "       [ 2.09728368e+00, -2.44651323e-01],\n",
              "       [-9.86087689e-01, -7.51232458e-01],\n",
              "       [ 1.37297554e+00, -3.76733075e-01],\n",
              "       [-8.84692079e-01, -1.11551995e-01],\n",
              "       [ 3.23086410e-01, -1.23774128e+00],\n",
              "       [ 1.37297554e+00, -3.76733075e-01],\n",
              "       [-1.37994224e+00, -1.86927689e-02],\n",
              "       [ 1.18729176e+00, -1.43385686e-01],\n",
              "       [ 1.08414750e+00,  2.21424613e+00],\n",
              "       [ 3.07773579e-01,  5.11134472e-01],\n",
              "       [-5.80062748e-01,  2.56861924e+00],\n",
              "       [-1.57480355e+00,  1.37864198e-01],\n",
              "       [ 8.78834768e-01, -3.18178197e-01],\n",
              "       [ 5.58625839e-02, -1.37825691e+00],\n",
              "       [ 3.52658712e-01, -1.71500720e+00],\n",
              "       [-7.59374170e-01, -4.37189615e-03],\n",
              "       [-2.04596416e+00, -2.96574324e-01],\n",
              "       [ 6.67601921e-01,  3.81413021e-01],\n",
              "       [ 4.32964750e-01,  1.79447667e+00],\n",
              "       [ 5.77182460e-01,  2.12761839e+00],\n",
              "       [ 4.81571501e-01, -1.77495772e-01],\n",
              "       [-9.01757410e-01, -6.53914167e-01],\n",
              "       [-1.05809662e+00, -2.96003187e-01],\n",
              "       [-9.64224116e-02, -1.02062394e-01],\n",
              "       [-3.51025475e-01, -1.43245892e+00],\n",
              "       [-7.86494960e-01, -6.96928923e-01],\n",
              "       [-1.78563283e+00, -2.97788754e-01],\n",
              "       [-2.91612592e-02, -8.20240457e-01],\n",
              "       [-1.36322898e+00, -1.17531631e+00],\n",
              "       [-7.28928821e-01, -2.00888740e-01],\n",
              "       [ 1.32681142e+00, -2.74341506e-01],\n",
              "       [ 2.21086140e+00, -4.46459278e-01],\n",
              "       [ 1.07505767e+00,  7.08825917e-02],\n",
              "       [-3.58854571e-02, -1.00480957e+00],\n",
              "       [-3.17975403e-01,  2.26776033e+00],\n",
              "       [ 4.32767080e-01,  1.64016979e-01],\n",
              "       [ 3.05304464e-01, -1.41095178e+00],\n",
              "       [-1.57167801e+00, -2.15455107e-01],\n",
              "       [ 1.65618250e-01,  2.34096180e+00],\n",
              "       [-1.76753678e+00, -3.71998306e-01],\n",
              "       [ 7.40531478e-01,  2.93223156e+00],\n",
              "       [ 2.24896506e-01, -1.96101846e-01],\n",
              "       [ 4.18092096e-01, -9.94536492e-01],\n",
              "       [ 1.37861110e+00, -5.40275314e-01],\n",
              "       [-1.30672456e+00, -8.16503116e-01],\n",
              "       [-4.44657777e-01, -8.22773150e-01],\n",
              "       [-5.49469370e-02,  2.75241692e-01],\n",
              "       [-1.72600806e+00, -3.41770538e-01],\n",
              "       [-1.01222748e-01, -6.04064183e-01],\n",
              "       [ 6.16491513e-01,  1.27586905e-01],\n",
              "       [ 1.67964862e-01, -7.09359803e-01],\n",
              "       [ 1.02651061e+00,  2.14150790e+00],\n",
              "       [-1.21775631e+00, -7.16974055e-02],\n",
              "       [-7.12909825e-01, -1.23765294e+00],\n",
              "       [-1.34572194e+00,  2.21321434e-01],\n",
              "       [-6.10886116e-01, -4.80010535e-01],\n",
              "       [-6.74248734e-01, -8.72847231e-01],\n",
              "       [-5.64662439e-01,  2.31680967e+00],\n",
              "       [-1.44915919e-01, -3.20870253e-01],\n",
              "       [-8.84312693e-01, -6.25599566e-01],\n",
              "       [ 1.52489136e+00,  2.63127792e-02],\n",
              "       [-7.92128161e-01, -5.45112852e-01],\n",
              "       [ 1.27970573e-01, -1.14855190e+00],\n",
              "       [ 8.59813895e-01, -3.67608121e-01],\n",
              "       [-9.39856356e-02, -4.65375966e-01],\n",
              "       [-1.50036085e+00, -1.06988238e-01],\n",
              "       [-7.41694481e-01, -1.11564667e+00],\n",
              "       [-1.56287722e+00,  6.05328543e-02],\n",
              "       [-1.06388916e+00, -1.58012961e-01],\n",
              "       [ 2.61769821e+00,  3.76482710e-01],\n",
              "       [ 7.20750412e-01, -1.25938217e-01],\n",
              "       [-5.51467739e-02, -1.09701273e+00],\n",
              "       [-3.21420942e-01,  4.12020452e-02],\n",
              "       [ 9.69369557e-01, -2.55073260e-01],\n",
              "       [ 2.26230296e-01, -9.79478646e-01],\n",
              "       [-4.42583467e-01,  2.03331831e+00],\n",
              "       [ 1.73975532e-01, -1.01291610e+00],\n",
              "       [ 3.28419291e-01, -2.63913358e-01],\n",
              "       [ 6.77182351e-02,  2.31384142e+00],\n",
              "       [-1.76489389e+00, -2.42244483e-01],\n",
              "       [ 8.11885190e+00,  6.93831227e+00],\n",
              "       [ 8.13075928e-01,  2.35518496e+00],\n",
              "       [ 1.21334728e+00, -1.27332532e+00],\n",
              "       [ 2.70745155e-02,  6.08602622e-01],\n",
              "       [-1.54110299e+00,  1.49389444e-01],\n",
              "       [-4.17955611e-01, -8.20317805e-01],\n",
              "       [-3.22047527e-01, -7.25343701e-01],\n",
              "       [-2.50370275e-01,  2.24995799e+00],\n",
              "       [-3.22047527e-01, -7.25343701e-01],\n",
              "       [ 1.08414750e+00,  2.21424613e+00],\n",
              "       [-1.49347717e+00, -9.45644637e-02],\n",
              "       [ 1.28523668e+00,  2.07231324e-01],\n",
              "       [ 1.48811544e+00, -1.77627931e-01],\n",
              "       [-1.40237805e-02, -6.34840722e-01],\n",
              "       [ 8.24353950e-01,  3.57656156e-01],\n",
              "       [ 2.23201058e-01, -8.23635331e-01],\n",
              "       [ 1.16661925e-01, -1.18815427e+00],\n",
              "       [-9.27831149e-01, -1.10239133e+00]])"
            ]
          },
          "metadata": {},
          "execution_count": 72
        }
      ]
    },
    {
      "cell_type": "code",
      "metadata": {
        "colab": {
          "base_uri": "https://localhost:8080/"
        },
        "id": "dEdaFZPQhc7D",
        "outputId": "ff6e5789-d0c9-4162-86e2-d9fbb4ad3085"
      },
      "source": [
        "fg_instance"
      ],
      "execution_count": 73,
      "outputs": [
        {
          "output_type": "execute_result",
          "data": {
            "text/plain": [
              "array([[8.1188519 , 6.93831227]])"
            ]
          },
          "metadata": {},
          "execution_count": 73
        }
      ]
    },
    {
      "cell_type": "code",
      "metadata": {
        "colab": {
          "base_uri": "https://localhost:8080/"
        },
        "id": "IqdAVbG1hftM",
        "outputId": "93119ee8-3849-4028-aa43-48937e2df6a8"
      },
      "source": [
        "bg_instance"
      ],
      "execution_count": 74,
      "outputs": [
        {
          "output_type": "execute_result",
          "data": {
            "text/plain": [
              "array([[-8.89347431, -6.72315107]])"
            ]
          },
          "metadata": {},
          "execution_count": 74
        }
      ]
    },
    {
      "cell_type": "code",
      "metadata": {
        "colab": {
          "base_uri": "https://localhost:8080/"
        },
        "id": "Ho98SSXEhx6L",
        "outputId": "b40659f1-9fd0-4855-c96f-d04751f9e721"
      },
      "source": [
        "(fg_instance+bg_instance)/m , m"
      ],
      "execution_count": 75,
      "outputs": [
        {
          "output_type": "execute_result",
          "data": {
            "text/plain": [
              "(array([[-0.00774622,  0.00215161]]), 100)"
            ]
          },
          "metadata": {},
          "execution_count": 75
        }
      ]
    },
    {
      "cell_type": "code",
      "metadata": {
        "colab": {
          "base_uri": "https://localhost:8080/"
        },
        "id": "OoxzYI-ur0S_",
        "outputId": "ba1d913f-2cac-497a-8bc2-38efa5e80db0"
      },
      "source": [
        "np.reshape(a,(2*m,1))"
      ],
      "execution_count": 76,
      "outputs": [
        {
          "output_type": "execute_result",
          "data": {
            "text/plain": [
              "array([[-1.62273068e+00],\n",
              "       [-9.44577073e-01],\n",
              "       [-8.22962717e-01],\n",
              "       [-7.32521912e-01],\n",
              "       [ 2.09728368e+00],\n",
              "       [-2.44651323e-01],\n",
              "       [-9.86087689e-01],\n",
              "       [-7.51232458e-01],\n",
              "       [ 1.37297554e+00],\n",
              "       [-3.76733075e-01],\n",
              "       [-8.84692079e-01],\n",
              "       [-1.11551995e-01],\n",
              "       [ 3.23086410e-01],\n",
              "       [-1.23774128e+00],\n",
              "       [ 1.37297554e+00],\n",
              "       [-3.76733075e-01],\n",
              "       [-1.37994224e+00],\n",
              "       [-1.86927689e-02],\n",
              "       [ 1.18729176e+00],\n",
              "       [-1.43385686e-01],\n",
              "       [ 1.08414750e+00],\n",
              "       [ 2.21424613e+00],\n",
              "       [ 3.07773579e-01],\n",
              "       [ 5.11134472e-01],\n",
              "       [-5.80062748e-01],\n",
              "       [ 2.56861924e+00],\n",
              "       [-1.57480355e+00],\n",
              "       [ 1.37864198e-01],\n",
              "       [ 8.78834768e-01],\n",
              "       [-3.18178197e-01],\n",
              "       [ 5.58625839e-02],\n",
              "       [-1.37825691e+00],\n",
              "       [ 3.52658712e-01],\n",
              "       [-1.71500720e+00],\n",
              "       [-7.59374170e-01],\n",
              "       [-4.37189615e-03],\n",
              "       [-2.04596416e+00],\n",
              "       [-2.96574324e-01],\n",
              "       [ 6.67601921e-01],\n",
              "       [ 3.81413021e-01],\n",
              "       [ 4.32964750e-01],\n",
              "       [ 1.79447667e+00],\n",
              "       [ 5.77182460e-01],\n",
              "       [ 2.12761839e+00],\n",
              "       [ 4.81571501e-01],\n",
              "       [-1.77495772e-01],\n",
              "       [-9.01757410e-01],\n",
              "       [-6.53914167e-01],\n",
              "       [-1.05809662e+00],\n",
              "       [-2.96003187e-01],\n",
              "       [-9.64224116e-02],\n",
              "       [-1.02062394e-01],\n",
              "       [-3.51025475e-01],\n",
              "       [-1.43245892e+00],\n",
              "       [-7.86494960e-01],\n",
              "       [-6.96928923e-01],\n",
              "       [-1.78563283e+00],\n",
              "       [-2.97788754e-01],\n",
              "       [-2.91612592e-02],\n",
              "       [-8.20240457e-01],\n",
              "       [-1.36322898e+00],\n",
              "       [-1.17531631e+00],\n",
              "       [-7.28928821e-01],\n",
              "       [-2.00888740e-01],\n",
              "       [ 1.32681142e+00],\n",
              "       [-2.74341506e-01],\n",
              "       [ 2.21086140e+00],\n",
              "       [-4.46459278e-01],\n",
              "       [ 1.07505767e+00],\n",
              "       [ 7.08825917e-02],\n",
              "       [-3.58854571e-02],\n",
              "       [-1.00480957e+00],\n",
              "       [-3.17975403e-01],\n",
              "       [ 2.26776033e+00],\n",
              "       [ 4.32767080e-01],\n",
              "       [ 1.64016979e-01],\n",
              "       [ 3.05304464e-01],\n",
              "       [-1.41095178e+00],\n",
              "       [-1.57167801e+00],\n",
              "       [-2.15455107e-01],\n",
              "       [ 1.65618250e-01],\n",
              "       [ 2.34096180e+00],\n",
              "       [-1.76753678e+00],\n",
              "       [-3.71998306e-01],\n",
              "       [ 7.40531478e-01],\n",
              "       [ 2.93223156e+00],\n",
              "       [ 2.24896506e-01],\n",
              "       [-1.96101846e-01],\n",
              "       [ 4.18092096e-01],\n",
              "       [-9.94536492e-01],\n",
              "       [ 1.37861110e+00],\n",
              "       [-5.40275314e-01],\n",
              "       [-1.30672456e+00],\n",
              "       [-8.16503116e-01],\n",
              "       [-4.44657777e-01],\n",
              "       [-8.22773150e-01],\n",
              "       [-5.49469370e-02],\n",
              "       [ 2.75241692e-01],\n",
              "       [-1.72600806e+00],\n",
              "       [-3.41770538e-01],\n",
              "       [-1.01222748e-01],\n",
              "       [-6.04064183e-01],\n",
              "       [ 6.16491513e-01],\n",
              "       [ 1.27586905e-01],\n",
              "       [ 1.67964862e-01],\n",
              "       [-7.09359803e-01],\n",
              "       [ 1.02651061e+00],\n",
              "       [ 2.14150790e+00],\n",
              "       [-1.21775631e+00],\n",
              "       [-7.16974055e-02],\n",
              "       [-7.12909825e-01],\n",
              "       [-1.23765294e+00],\n",
              "       [-1.34572194e+00],\n",
              "       [ 2.21321434e-01],\n",
              "       [-6.10886116e-01],\n",
              "       [-4.80010535e-01],\n",
              "       [-6.74248734e-01],\n",
              "       [-8.72847231e-01],\n",
              "       [-5.64662439e-01],\n",
              "       [ 2.31680967e+00],\n",
              "       [-1.44915919e-01],\n",
              "       [-3.20870253e-01],\n",
              "       [-8.84312693e-01],\n",
              "       [-6.25599566e-01],\n",
              "       [ 1.52489136e+00],\n",
              "       [ 2.63127792e-02],\n",
              "       [-7.92128161e-01],\n",
              "       [-5.45112852e-01],\n",
              "       [ 1.27970573e-01],\n",
              "       [-1.14855190e+00],\n",
              "       [ 8.59813895e-01],\n",
              "       [-3.67608121e-01],\n",
              "       [-9.39856356e-02],\n",
              "       [-4.65375966e-01],\n",
              "       [-1.50036085e+00],\n",
              "       [-1.06988238e-01],\n",
              "       [-7.41694481e-01],\n",
              "       [-1.11564667e+00],\n",
              "       [-1.56287722e+00],\n",
              "       [ 6.05328543e-02],\n",
              "       [-1.06388916e+00],\n",
              "       [-1.58012961e-01],\n",
              "       [ 2.61769821e+00],\n",
              "       [ 3.76482710e-01],\n",
              "       [ 7.20750412e-01],\n",
              "       [-1.25938217e-01],\n",
              "       [-5.51467739e-02],\n",
              "       [-1.09701273e+00],\n",
              "       [-3.21420942e-01],\n",
              "       [ 4.12020452e-02],\n",
              "       [ 9.69369557e-01],\n",
              "       [-2.55073260e-01],\n",
              "       [ 2.26230296e-01],\n",
              "       [-9.79478646e-01],\n",
              "       [-4.42583467e-01],\n",
              "       [ 2.03331831e+00],\n",
              "       [ 1.73975532e-01],\n",
              "       [-1.01291610e+00],\n",
              "       [ 3.28419291e-01],\n",
              "       [-2.63913358e-01],\n",
              "       [ 6.77182351e-02],\n",
              "       [ 2.31384142e+00],\n",
              "       [-1.76489389e+00],\n",
              "       [-2.42244483e-01],\n",
              "       [ 8.11885190e+00],\n",
              "       [ 6.93831227e+00],\n",
              "       [ 8.13075928e-01],\n",
              "       [ 2.35518496e+00],\n",
              "       [ 1.21334728e+00],\n",
              "       [-1.27332532e+00],\n",
              "       [ 2.70745155e-02],\n",
              "       [ 6.08602622e-01],\n",
              "       [-1.54110299e+00],\n",
              "       [ 1.49389444e-01],\n",
              "       [-4.17955611e-01],\n",
              "       [-8.20317805e-01],\n",
              "       [-3.22047527e-01],\n",
              "       [-7.25343701e-01],\n",
              "       [-2.50370275e-01],\n",
              "       [ 2.24995799e+00],\n",
              "       [-3.22047527e-01],\n",
              "       [-7.25343701e-01],\n",
              "       [ 1.08414750e+00],\n",
              "       [ 2.21424613e+00],\n",
              "       [-1.49347717e+00],\n",
              "       [-9.45644637e-02],\n",
              "       [ 1.28523668e+00],\n",
              "       [ 2.07231324e-01],\n",
              "       [ 1.48811544e+00],\n",
              "       [-1.77627931e-01],\n",
              "       [-1.40237805e-02],\n",
              "       [-6.34840722e-01],\n",
              "       [ 8.24353950e-01],\n",
              "       [ 3.57656156e-01],\n",
              "       [ 2.23201058e-01],\n",
              "       [-8.23635331e-01],\n",
              "       [ 1.16661925e-01],\n",
              "       [-1.18815427e+00],\n",
              "       [-9.27831149e-01],\n",
              "       [-1.10239133e+00]])"
            ]
          },
          "metadata": {},
          "execution_count": 76
        }
      ]
    },
    {
      "cell_type": "code",
      "metadata": {
        "id": "jqbvfbwVr0TN"
      },
      "source": [
        "# mosaic_list_of_images =[]\n",
        "# mosaic_label = []\n",
        "train_label=[]\n",
        "fore_idx=[]\n",
        "train_data = []\n",
        "for j in range(train_size):\n",
        "  np.random.seed(j)\n",
        "  fg_instance = torch.zeros([2], dtype=torch.float64) #np.array([[0.0,0.0]])\n",
        "  bg_instance = torch.zeros([2], dtype=torch.float64) #np.array([[0.0,0.0]])\n",
        "  # a=[]\n",
        "\n",
        "  for i in range(m):\n",
        "    if i == fg_idx:\n",
        "      fg_class  = np.random.randint(0,3)\n",
        "      b = np.random.choice(np.where(idx[fg_class]==True)[0],size=1)\n",
        "      fg_instance += x[b]\n",
        "      # a.append(x[b])\n",
        "      # print(\"foreground \"+str(fg_class)+\" present at \" + str(fg_idx))\n",
        "    else:\n",
        "      bg_class = np.random.randint(3,10)\n",
        "      b = np.random.choice(np.where(idx[bg_class]==True)[0],size=1)\n",
        "      bg_instance += x[b]\n",
        "      # a.append(x[b])\n",
        "      # print(\"background \"+str(bg_class)+\" present at \" + str(i))\n",
        "  train_data.append((fg_instance+bg_instance)/m)\n",
        "  # a = np.concatenate(a,axis=0)\n",
        "  # mosaic_list_of_images.append(np.reshape(a,(2*m,1)))\n",
        "  train_label.append(fg_class)\n",
        "  fore_idx.append(fg_idx)"
      ],
      "execution_count": 77,
      "outputs": []
    },
    {
      "cell_type": "code",
      "metadata": {
        "colab": {
          "base_uri": "https://localhost:8080/"
        },
        "id": "X_g6lxkVjN0N",
        "outputId": "02329e10-0683-42f8-ccf2-2a1243c8b56f"
      },
      "source": [
        " train_data[0], train_label[0]"
      ],
      "execution_count": 78,
      "outputs": [
        {
          "output_type": "execute_result",
          "data": {
            "text/plain": [
              "(tensor([[-0.1011, -0.0514]], dtype=torch.float64), 0)"
            ]
          },
          "metadata": {},
          "execution_count": 78
        }
      ]
    },
    {
      "cell_type": "code",
      "metadata": {
        "colab": {
          "base_uri": "https://localhost:8080/"
        },
        "id": "Tz5wQCevobYr",
        "outputId": "4cf4aaa2-0c7a-4ea2-f633-4402fcfe74ad"
      },
      "source": [
        "train_data = torch.stack(train_data, axis=0)\n",
        "train_data.shape, len(train_label)"
      ],
      "execution_count": 79,
      "outputs": [
        {
          "output_type": "execute_result",
          "data": {
            "text/plain": [
              "(torch.Size([500, 1, 2]), 500)"
            ]
          },
          "metadata": {},
          "execution_count": 79
        }
      ]
    },
    {
      "cell_type": "code",
      "metadata": {
        "id": "CVAlImGYA49A"
      },
      "source": [
        "test_label=[]\n",
        "# fore_idx=[]\n",
        "test_data = []\n",
        "for j in range(1000):\n",
        "  np.random.seed(j)\n",
        "  fg_instance = torch.zeros([2], dtype=torch.float64) #np.array([[0.0,0.0]])\n",
        "\n",
        "  fg_class  = np.random.randint(0,3)\n",
        "  b = np.random.choice(np.where(idx[fg_class]==True)[0],size=1)\n",
        "  fg_instance += x[b]\n",
        "  # a.append(x[b])\n",
        "  # print(\"foreground \"+str(fg_class)+\" present at \" + str(fg_idx))\n",
        "\n",
        "  test_data.append((fg_instance)/m)\n",
        "  # a = np.concatenate(a,axis=0)\n",
        "  # mosaic_list_of_images.append(np.reshape(a,(2*m,1)))\n",
        "  test_label.append(fg_class)\n",
        "  # fore_idx.append(fg_idx)"
      ],
      "execution_count": 80,
      "outputs": []
    },
    {
      "cell_type": "code",
      "metadata": {
        "colab": {
          "base_uri": "https://localhost:8080/"
        },
        "id": "XltBz3__BT_C",
        "outputId": "323caaa2-4d9a-461d-db94-fdef722dc720"
      },
      "source": [
        "test_data[0], test_label[0]"
      ],
      "execution_count": 81,
      "outputs": [
        {
          "output_type": "execute_result",
          "data": {
            "text/plain": [
              "(tensor([[0.0810, 0.0503]], dtype=torch.float64), 0)"
            ]
          },
          "metadata": {},
          "execution_count": 81
        }
      ]
    },
    {
      "cell_type": "code",
      "metadata": {
        "colab": {
          "base_uri": "https://localhost:8080/"
        },
        "id": "JqQfjkCnBX8E",
        "outputId": "2029b9a3-07a0-44f0-ce32-8c9c64a9794f"
      },
      "source": [
        "test_data = torch.stack(test_data, axis=0)\n",
        "test_data.shape, len(test_label)"
      ],
      "execution_count": 82,
      "outputs": [
        {
          "output_type": "execute_result",
          "data": {
            "text/plain": [
              "(torch.Size([1000, 1, 2]), 1000)"
            ]
          },
          "metadata": {},
          "execution_count": 82
        }
      ]
    },
    {
      "cell_type": "code",
      "metadata": {
        "id": "nQhRf1ICBvW6"
      },
      "source": [
        "x1 = (train_data).numpy()\n",
        "y1 = np.array(train_label)"
      ],
      "execution_count": 83,
      "outputs": []
    },
    {
      "cell_type": "code",
      "metadata": {
        "colab": {
          "base_uri": "https://localhost:8080/"
        },
        "id": "vDAz96DSCXn5",
        "outputId": "d9cfdb9c-dac8-47c1-89a4-7adcf084b459"
      },
      "source": [
        "x1[y1==0,0]"
      ],
      "execution_count": 84,
      "outputs": [
        {
          "output_type": "execute_result",
          "data": {
            "text/plain": [
              "array([[-1.01067937e-01, -5.13947637e-02],\n",
              "       [ 9.11998058e-02, -2.35798992e-02],\n",
              "       [ 1.03187048e-01,  1.40539126e-01],\n",
              "       [ 1.80239393e-01,  1.23307749e-01],\n",
              "       [ 1.25800702e-01,  3.59499397e-02],\n",
              "       [ 2.08333823e-02,  1.32766718e-01],\n",
              "       [ 6.94751545e-02, -2.77256040e-02],\n",
              "       [ 1.08003588e-01, -4.31246910e-02],\n",
              "       [ 1.49189269e-01,  2.90596718e-02],\n",
              "       [ 5.97076523e-02, -3.48430617e-02],\n",
              "       [-5.32469301e-02,  1.06392091e-01],\n",
              "       [ 7.05038454e-02,  1.62595280e-01],\n",
              "       [ 3.42139054e-01,  1.64775477e-01],\n",
              "       [ 1.57258014e-01, -2.18268598e-01],\n",
              "       [ 1.20120456e-01,  8.55907062e-02],\n",
              "       [-1.19167721e-02,  2.20701797e-01],\n",
              "       [ 2.24352683e-01,  2.30521458e-01],\n",
              "       [ 8.35342192e-02,  6.89858103e-02],\n",
              "       [ 2.92894460e-01,  1.15926546e-01],\n",
              "       [ 5.24405602e-02,  9.65149975e-02],\n",
              "       [ 1.50447924e-01,  1.70512985e-01],\n",
              "       [ 1.10994819e-01, -3.56818715e-02],\n",
              "       [-1.45358575e-01,  1.25587075e-01],\n",
              "       [ 2.40664570e-01,  7.12071418e-02],\n",
              "       [ 1.23968749e-01,  2.21106914e-02],\n",
              "       [ 2.12320294e-01,  1.65318733e-01],\n",
              "       [ 9.99104718e-02,  7.15677354e-02],\n",
              "       [ 1.26994829e-01, -6.96485149e-02],\n",
              "       [ 1.17166264e-01,  1.05557519e-02],\n",
              "       [ 1.74145835e-01,  5.32157422e-02],\n",
              "       [ 8.41862652e-02, -7.98761620e-03],\n",
              "       [ 1.99353537e-02,  1.14101466e-01],\n",
              "       [ 9.99608491e-02,  6.86301235e-02],\n",
              "       [ 4.70986203e-02, -3.29284338e-02],\n",
              "       [ 4.60059103e-03,  1.57990100e-01],\n",
              "       [ 5.01445888e-02,  1.14751772e-01],\n",
              "       [ 2.20670622e-01,  1.30277850e-02],\n",
              "       [ 2.27145429e-01,  2.13901040e-01],\n",
              "       [ 1.02185365e-01,  3.19985099e-01],\n",
              "       [-6.81541363e-03,  1.51766463e-01],\n",
              "       [ 3.59596197e-02,  8.81062531e-02],\n",
              "       [ 2.99979188e-02, -1.39683799e-02],\n",
              "       [ 2.45175100e-01,  1.00266251e-01],\n",
              "       [-1.13838196e-01,  4.35858867e-02],\n",
              "       [-1.86025124e-02,  1.06244163e-01],\n",
              "       [ 2.49296876e-01,  1.26548400e-02],\n",
              "       [ 1.86284743e-01,  2.48262927e-02],\n",
              "       [-3.37331771e-03,  8.71594680e-02],\n",
              "       [ 5.62632680e-02,  4.28376939e-02],\n",
              "       [-8.53345667e-02, -1.56154699e-01],\n",
              "       [ 1.46542413e-01,  5.54653121e-02],\n",
              "       [ 1.01203458e-01,  3.98751425e-02],\n",
              "       [ 3.47809513e-02,  2.62898551e-01],\n",
              "       [-1.08581214e-01, -1.81292871e-02],\n",
              "       [ 6.38872420e-02,  3.08114941e-02],\n",
              "       [-1.11744006e-01,  2.29121290e-02],\n",
              "       [ 1.74726850e-02,  4.65123848e-03],\n",
              "       [-2.34555562e-02,  1.31233275e-01],\n",
              "       [ 3.09202924e-01,  8.05430333e-03],\n",
              "       [ 9.35550031e-02,  8.53238770e-02],\n",
              "       [-1.13137428e-02,  6.24614557e-02],\n",
              "       [-3.42638331e-02, -9.85713778e-02],\n",
              "       [-5.31042751e-02,  1.22285866e-01],\n",
              "       [ 9.33838541e-02,  4.50299797e-02],\n",
              "       [-3.67154723e-02,  1.76875221e-01],\n",
              "       [ 1.73076878e-01,  4.00600357e-02],\n",
              "       [ 4.63434117e-02, -4.13382547e-02],\n",
              "       [ 2.29019514e-01, -9.35081180e-02],\n",
              "       [ 2.48867476e-01,  4.29901857e-02],\n",
              "       [ 9.11924715e-02,  6.76532249e-02],\n",
              "       [-7.18462956e-02,  1.44984600e-01],\n",
              "       [-7.39128735e-02,  2.55797083e-01],\n",
              "       [ 1.27976861e-01, -4.25129218e-02],\n",
              "       [-1.69576864e-03, -7.17563277e-02],\n",
              "       [ 6.72555410e-02,  4.03683828e-03],\n",
              "       [ 5.93142226e-02,  1.79697244e-01],\n",
              "       [ 7.96203085e-02, -3.91585374e-02],\n",
              "       [ 2.09054915e-01, -1.74621950e-01],\n",
              "       [ 6.71753554e-02,  2.83667760e-03],\n",
              "       [ 2.53905305e-01,  7.97334722e-02],\n",
              "       [-8.15037451e-02,  5.05027327e-02],\n",
              "       [ 1.22945308e-01,  1.92608963e-01],\n",
              "       [ 1.53610499e-01,  1.08657701e-01],\n",
              "       [ 2.16682793e-01, -2.58594913e-02],\n",
              "       [ 1.98970910e-02,  1.92180833e-01],\n",
              "       [-3.15900124e-02,  1.47408904e-01],\n",
              "       [ 1.04204526e-02,  1.48746190e-02],\n",
              "       [ 9.31357600e-02,  2.23469414e-01],\n",
              "       [ 1.96472023e-01, -1.08093231e-02],\n",
              "       [ 6.83966964e-02,  2.13120918e-01],\n",
              "       [ 2.09850918e-01,  2.37902397e-01],\n",
              "       [ 1.46191522e-01, -5.05187754e-02],\n",
              "       [ 2.03123346e-01,  6.91940139e-02],\n",
              "       [ 2.91494606e-02, -9.05085893e-02],\n",
              "       [ 1.03083813e-01,  1.88456685e-01],\n",
              "       [ 2.24105831e-01,  9.94675220e-02],\n",
              "       [ 2.58230591e-01, -5.95865441e-02],\n",
              "       [ 1.37079985e-01, -1.40870602e-01],\n",
              "       [ 1.86484233e-01,  2.23483180e-01],\n",
              "       [ 1.11106643e-01, -6.05452004e-02],\n",
              "       [ 3.88850824e-03, -4.71935527e-02],\n",
              "       [ 7.71653885e-02,  5.01292493e-02],\n",
              "       [-1.52678463e-02, -7.83192854e-02],\n",
              "       [ 3.68979001e-02,  9.85886560e-02],\n",
              "       [ 3.76384201e-02,  8.43368721e-02],\n",
              "       [-7.18816923e-02, -4.07167152e-02],\n",
              "       [ 3.70372966e-02, -1.50759799e-01],\n",
              "       [-1.72344559e-01, -9.53623312e-02],\n",
              "       [ 1.60636541e-01,  2.62282005e-03],\n",
              "       [ 1.83047460e-01,  1.38746548e-01],\n",
              "       [ 5.33075853e-02,  4.44664858e-02],\n",
              "       [ 4.97649263e-02, -1.11083520e-01],\n",
              "       [-1.39893493e-04,  1.32529962e-01],\n",
              "       [ 2.88340086e-01,  1.06861013e-01],\n",
              "       [ 1.87002555e-01,  3.04149821e-02],\n",
              "       [ 1.20989515e-02,  8.11837552e-02],\n",
              "       [ 3.57166397e-02, -7.13928362e-02],\n",
              "       [ 1.29264429e-01,  2.34672221e-01],\n",
              "       [ 1.05740389e-01,  2.50073565e-02],\n",
              "       [ 6.57868499e-02, -1.21910606e-01],\n",
              "       [ 1.66930326e-01, -1.23426423e-01],\n",
              "       [ 1.88980994e-01,  1.06655273e-01],\n",
              "       [-3.38551965e-02, -2.98547464e-02],\n",
              "       [ 3.34459856e-02, -4.58876972e-03],\n",
              "       [ 3.56172204e-01,  6.09975478e-02],\n",
              "       [ 1.19879635e-01,  1.25128379e-01],\n",
              "       [ 2.10373765e-01,  9.29636118e-02],\n",
              "       [ 1.12286416e-01, -5.34467220e-02],\n",
              "       [ 1.18930454e-01,  7.17262470e-02],\n",
              "       [ 1.61921980e-01,  1.93664053e-02],\n",
              "       [ 1.72973548e-01, -1.58354362e-02],\n",
              "       [ 1.46280195e-01,  4.26068152e-02],\n",
              "       [ 1.57678068e-01,  2.11685286e-02],\n",
              "       [ 1.39453574e-01, -1.38160091e-01],\n",
              "       [ 8.05079921e-02, -4.98622967e-02],\n",
              "       [ 2.20956010e-01,  9.13647562e-02],\n",
              "       [ 1.62294761e-01,  7.61454620e-02],\n",
              "       [ 1.23378789e-01,  1.09090666e-02],\n",
              "       [-4.93187410e-03,  1.93632534e-01],\n",
              "       [-4.91506511e-02, -4.24183763e-02],\n",
              "       [ 1.21235899e-01,  1.64351823e-02],\n",
              "       [-2.56876905e-02,  1.15697148e-02],\n",
              "       [-4.29137675e-03,  3.94835691e-02],\n",
              "       [ 2.20131535e-02,  6.63857191e-02],\n",
              "       [ 7.32850240e-02,  1.02657337e-01],\n",
              "       [ 1.38862197e-01, -3.23433453e-02],\n",
              "       [ 9.74429903e-02,  5.53768303e-02],\n",
              "       [ 5.87456391e-02,  7.67261546e-02],\n",
              "       [-5.45890977e-02, -9.32487918e-02],\n",
              "       [ 5.01847407e-02,  1.57194089e-01],\n",
              "       [ 1.94010213e-01,  4.44137128e-02],\n",
              "       [ 1.76170641e-01,  6.35727907e-02],\n",
              "       [ 3.44155998e-02, -3.99019458e-02],\n",
              "       [ 1.06881436e-01, -1.21896534e-01],\n",
              "       [ 2.85547098e-02,  1.66117177e-01],\n",
              "       [ 1.26407426e-01,  4.65346614e-02],\n",
              "       [ 1.44990881e-01,  2.45541415e-01],\n",
              "       [ 6.50130610e-02,  1.33680001e-01],\n",
              "       [ 1.23724875e-01,  8.41281695e-02],\n",
              "       [ 5.50038205e-02, -1.11759122e-01],\n",
              "       [ 1.94679674e-02,  9.77068994e-02],\n",
              "       [ 1.02039748e-01,  9.66876393e-02],\n",
              "       [ 1.33598017e-01,  3.66182736e-02],\n",
              "       [ 1.51237377e-02, -6.10632432e-02],\n",
              "       [ 1.21315668e-01,  8.82306009e-02],\n",
              "       [ 5.87774135e-02,  1.20692582e-01],\n",
              "       [-1.07112473e-01,  7.81887972e-02],\n",
              "       [ 1.66665778e-01, -2.75314030e-02]])"
            ]
          },
          "metadata": {},
          "execution_count": 84
        }
      ]
    },
    {
      "cell_type": "code",
      "metadata": {
        "colab": {
          "base_uri": "https://localhost:8080/"
        },
        "id": "kMwwZhv7Bv1U",
        "outputId": "1d87cbd3-2ab1-40e1-f3fe-7f414bb680db"
      },
      "source": [
        "x1[y1==0,0][:,0]"
      ],
      "execution_count": 85,
      "outputs": [
        {
          "output_type": "execute_result",
          "data": {
            "text/plain": [
              "array([-1.01067937e-01,  9.11998058e-02,  1.03187048e-01,  1.80239393e-01,\n",
              "        1.25800702e-01,  2.08333823e-02,  6.94751545e-02,  1.08003588e-01,\n",
              "        1.49189269e-01,  5.97076523e-02, -5.32469301e-02,  7.05038454e-02,\n",
              "        3.42139054e-01,  1.57258014e-01,  1.20120456e-01, -1.19167721e-02,\n",
              "        2.24352683e-01,  8.35342192e-02,  2.92894460e-01,  5.24405602e-02,\n",
              "        1.50447924e-01,  1.10994819e-01, -1.45358575e-01,  2.40664570e-01,\n",
              "        1.23968749e-01,  2.12320294e-01,  9.99104718e-02,  1.26994829e-01,\n",
              "        1.17166264e-01,  1.74145835e-01,  8.41862652e-02,  1.99353537e-02,\n",
              "        9.99608491e-02,  4.70986203e-02,  4.60059103e-03,  5.01445888e-02,\n",
              "        2.20670622e-01,  2.27145429e-01,  1.02185365e-01, -6.81541363e-03,\n",
              "        3.59596197e-02,  2.99979188e-02,  2.45175100e-01, -1.13838196e-01,\n",
              "       -1.86025124e-02,  2.49296876e-01,  1.86284743e-01, -3.37331771e-03,\n",
              "        5.62632680e-02, -8.53345667e-02,  1.46542413e-01,  1.01203458e-01,\n",
              "        3.47809513e-02, -1.08581214e-01,  6.38872420e-02, -1.11744006e-01,\n",
              "        1.74726850e-02, -2.34555562e-02,  3.09202924e-01,  9.35550031e-02,\n",
              "       -1.13137428e-02, -3.42638331e-02, -5.31042751e-02,  9.33838541e-02,\n",
              "       -3.67154723e-02,  1.73076878e-01,  4.63434117e-02,  2.29019514e-01,\n",
              "        2.48867476e-01,  9.11924715e-02, -7.18462956e-02, -7.39128735e-02,\n",
              "        1.27976861e-01, -1.69576864e-03,  6.72555410e-02,  5.93142226e-02,\n",
              "        7.96203085e-02,  2.09054915e-01,  6.71753554e-02,  2.53905305e-01,\n",
              "       -8.15037451e-02,  1.22945308e-01,  1.53610499e-01,  2.16682793e-01,\n",
              "        1.98970910e-02, -3.15900124e-02,  1.04204526e-02,  9.31357600e-02,\n",
              "        1.96472023e-01,  6.83966964e-02,  2.09850918e-01,  1.46191522e-01,\n",
              "        2.03123346e-01,  2.91494606e-02,  1.03083813e-01,  2.24105831e-01,\n",
              "        2.58230591e-01,  1.37079985e-01,  1.86484233e-01,  1.11106643e-01,\n",
              "        3.88850824e-03,  7.71653885e-02, -1.52678463e-02,  3.68979001e-02,\n",
              "        3.76384201e-02, -7.18816923e-02,  3.70372966e-02, -1.72344559e-01,\n",
              "        1.60636541e-01,  1.83047460e-01,  5.33075853e-02,  4.97649263e-02,\n",
              "       -1.39893493e-04,  2.88340086e-01,  1.87002555e-01,  1.20989515e-02,\n",
              "        3.57166397e-02,  1.29264429e-01,  1.05740389e-01,  6.57868499e-02,\n",
              "        1.66930326e-01,  1.88980994e-01, -3.38551965e-02,  3.34459856e-02,\n",
              "        3.56172204e-01,  1.19879635e-01,  2.10373765e-01,  1.12286416e-01,\n",
              "        1.18930454e-01,  1.61921980e-01,  1.72973548e-01,  1.46280195e-01,\n",
              "        1.57678068e-01,  1.39453574e-01,  8.05079921e-02,  2.20956010e-01,\n",
              "        1.62294761e-01,  1.23378789e-01, -4.93187410e-03, -4.91506511e-02,\n",
              "        1.21235899e-01, -2.56876905e-02, -4.29137675e-03,  2.20131535e-02,\n",
              "        7.32850240e-02,  1.38862197e-01,  9.74429903e-02,  5.87456391e-02,\n",
              "       -5.45890977e-02,  5.01847407e-02,  1.94010213e-01,  1.76170641e-01,\n",
              "        3.44155998e-02,  1.06881436e-01,  2.85547098e-02,  1.26407426e-01,\n",
              "        1.44990881e-01,  6.50130610e-02,  1.23724875e-01,  5.50038205e-02,\n",
              "        1.94679674e-02,  1.02039748e-01,  1.33598017e-01,  1.51237377e-02,\n",
              "        1.21315668e-01,  5.87774135e-02, -1.07112473e-01,  1.66665778e-01])"
            ]
          },
          "metadata": {},
          "execution_count": 85
        }
      ]
    },
    {
      "cell_type": "code",
      "metadata": {
        "colab": {
          "base_uri": "https://localhost:8080/"
        },
        "id": "ydbu3OV3CYxB",
        "outputId": "8f558f5f-5062-4915-bbbf-97d4365774ef"
      },
      "source": [
        "x1[y1==0,0][:,1]"
      ],
      "execution_count": 86,
      "outputs": [
        {
          "output_type": "execute_result",
          "data": {
            "text/plain": [
              "array([-0.05139476, -0.0235799 ,  0.14053913,  0.12330775,  0.03594994,\n",
              "        0.13276672, -0.0277256 , -0.04312469,  0.02905967, -0.03484306,\n",
              "        0.10639209,  0.16259528,  0.16477548, -0.2182686 ,  0.08559071,\n",
              "        0.2207018 ,  0.23052146,  0.06898581,  0.11592655,  0.096515  ,\n",
              "        0.17051298, -0.03568187,  0.12558708,  0.07120714,  0.02211069,\n",
              "        0.16531873,  0.07156774, -0.06964851,  0.01055575,  0.05321574,\n",
              "       -0.00798762,  0.11410147,  0.06863012, -0.03292843,  0.1579901 ,\n",
              "        0.11475177,  0.01302778,  0.21390104,  0.3199851 ,  0.15176646,\n",
              "        0.08810625, -0.01396838,  0.10026625,  0.04358589,  0.10624416,\n",
              "        0.01265484,  0.02482629,  0.08715947,  0.04283769, -0.1561547 ,\n",
              "        0.05546531,  0.03987514,  0.26289855, -0.01812929,  0.03081149,\n",
              "        0.02291213,  0.00465124,  0.13123328,  0.0080543 ,  0.08532388,\n",
              "        0.06246146, -0.09857138,  0.12228587,  0.04502998,  0.17687522,\n",
              "        0.04006004, -0.04133825, -0.09350812,  0.04299019,  0.06765322,\n",
              "        0.1449846 ,  0.25579708, -0.04251292, -0.07175633,  0.00403684,\n",
              "        0.17969724, -0.03915854, -0.17462195,  0.00283668,  0.07973347,\n",
              "        0.05050273,  0.19260896,  0.1086577 , -0.02585949,  0.19218083,\n",
              "        0.1474089 ,  0.01487462,  0.22346941, -0.01080932,  0.21312092,\n",
              "        0.2379024 , -0.05051878,  0.06919401, -0.09050859,  0.18845668,\n",
              "        0.09946752, -0.05958654, -0.1408706 ,  0.22348318, -0.0605452 ,\n",
              "       -0.04719355,  0.05012925, -0.07831929,  0.09858866,  0.08433687,\n",
              "       -0.04071672, -0.1507598 , -0.09536233,  0.00262282,  0.13874655,\n",
              "        0.04446649, -0.11108352,  0.13252996,  0.10686101,  0.03041498,\n",
              "        0.08118376, -0.07139284,  0.23467222,  0.02500736, -0.12191061,\n",
              "       -0.12342642,  0.10665527, -0.02985475, -0.00458877,  0.06099755,\n",
              "        0.12512838,  0.09296361, -0.05344672,  0.07172625,  0.01936641,\n",
              "       -0.01583544,  0.04260682,  0.02116853, -0.13816009, -0.0498623 ,\n",
              "        0.09136476,  0.07614546,  0.01090907,  0.19363253, -0.04241838,\n",
              "        0.01643518,  0.01156971,  0.03948357,  0.06638572,  0.10265734,\n",
              "       -0.03234335,  0.05537683,  0.07672615, -0.09324879,  0.15719409,\n",
              "        0.04441371,  0.06357279, -0.03990195, -0.12189653,  0.16611718,\n",
              "        0.04653466,  0.24554142,  0.13368   ,  0.08412817, -0.11175912,\n",
              "        0.0977069 ,  0.09668764,  0.03661827, -0.06106324,  0.0882306 ,\n",
              "        0.12069258,  0.0781888 , -0.0275314 ])"
            ]
          },
          "metadata": {},
          "execution_count": 86
        }
      ]
    },
    {
      "cell_type": "code",
      "metadata": {
        "colab": {
          "base_uri": "https://localhost:8080/",
          "height": 300
        },
        "id": "bT9-kEI7NAnR",
        "outputId": "4721df14-155d-4c9b-98f8-89ad15d00736"
      },
      "source": [
        "x1 = (train_data).numpy()\n",
        "y1 = np.array(train_label)\n",
        "\n",
        "plt.scatter(x1[y1==0,0][:,0], x1[y1==0,0][:,1], label='class 0')\n",
        "plt.scatter(x1[y1==1,0][:,0], x1[y1==1,0][:,1], label='class 1')\n",
        "plt.scatter(x1[y1==2,0][:,0], x1[y1==2,0][:,1], label='class 2')\n",
        "plt.legend()\n",
        "plt.title(\"dataset4 CIN with alpha = 1/\"+str(m))"
      ],
      "execution_count": 87,
      "outputs": [
        {
          "output_type": "execute_result",
          "data": {
            "text/plain": [
              "Text(0.5, 1.0, 'dataset4 CIN with alpha = 1/100')"
            ]
          },
          "metadata": {},
          "execution_count": 87
        },
        {
          "output_type": "display_data",
          "data": {
            "image/png": "[encoded data removed]",
            "text/plain": [
              "<Figure size 432x288 with 1 Axes>"
            ]
          },
          "metadata": {
            "needs_background": "light"
          }
        }
      ]
    },
    {
      "cell_type": "code",
      "metadata": {
        "colab": {
          "base_uri": "https://localhost:8080/",
          "height": 300
        },
        "id": "Sc8W2N7LQQ_l",
        "outputId": "ca2ba1c5-538a-4818-e436-8a43f15e704f"
      },
      "source": [
        "x1 = (test_data).numpy()\n",
        "y1 = np.array(test_label)\n",
        "\n",
        "plt.scatter(x1[y1==0,0][:,0], x1[y1==0,0][:,1], label='class 0')\n",
        "plt.scatter(x1[y1==1,0][:,0], x1[y1==1,0][:,1], label='class 1')\n",
        "plt.scatter(x1[y1==2,0][:,0], x1[y1==2,0][:,1], label='class 2')\n",
        "plt.legend()\n",
        "plt.title(\"test dataset4\")"
      ],
      "execution_count": 88,
      "outputs": [
        {
          "output_type": "execute_result",
          "data": {
            "text/plain": [
              "Text(0.5, 1.0, 'test dataset4')"
            ]
          },
          "metadata": {},
          "execution_count": 88
        },
        {
          "output_type": "display_data",
          "data": {
            "image/png": "[encoded data removed]",
            "text/plain": [
              "<Figure size 432x288 with 1 Axes>"
            ]
          },
          "metadata": {
            "needs_background": "light"
          }
        }
      ]
    },
    {
      "cell_type": "code",
      "metadata": {
        "id": "yL0BRf8er0TX"
      },
      "source": [
        "class MosaicDataset(Dataset):\n",
        "  \"\"\"MosaicDataset dataset.\"\"\"\n",
        "\n",
        "  def __init__(self, mosaic_list_of_images, mosaic_label):\n",
        "    \"\"\"\n",
        "      Args:\n",
        "        csv_file (string): Path to the csv file with annotations.\n",
        "        root_dir (string): Directory with all the images.\n",
        "        transform (callable, optional): Optional transform to be applied\n",
        "            on a sample.\n",
        "    \"\"\"\n",
        "    self.mosaic = mosaic_list_of_images\n",
        "    self.label = mosaic_label\n",
        "    #self.fore_idx = fore_idx\n",
        "    \n",
        "  def __len__(self):\n",
        "    return len(self.label)\n",
        "\n",
        "  def __getitem__(self, idx):\n",
        "    return self.mosaic[idx] , self.label[idx] #, self.fore_idx[idx]\n",
        "\n"
      ],
      "execution_count": 89,
      "outputs": []
    },
    {
      "cell_type": "code",
      "metadata": {
        "colab": {
          "base_uri": "https://localhost:8080/"
        },
        "id": "4KsrW9qL9xgS",
        "outputId": "ea388cc1-b989-4abe-c46d-e2ae5dfdcaa0"
      },
      "source": [
        "train_data[0].shape, train_data[0]"
      ],
      "execution_count": 90,
      "outputs": [
        {
          "output_type": "execute_result",
          "data": {
            "text/plain": [
              "(torch.Size([1, 2]), tensor([[-0.1011, -0.0514]], dtype=torch.float64))"
            ]
          },
          "metadata": {},
          "execution_count": 90
        }
      ]
    },
    {
      "cell_type": "code",
      "metadata": {
        "id": "EY2l62APygaV"
      },
      "source": [
        "batch = 200\n",
        "\n",
        "traindata_1 = MosaicDataset(train_data, train_label )\n",
        "trainloader_1 = DataLoader( traindata_1 , batch_size= batch ,shuffle=True)\n"
      ],
      "execution_count": 91,
      "outputs": []
    },
    {
      "cell_type": "code",
      "metadata": {
        "id": "9suUslCj8YZK"
      },
      "source": [
        "testdata_1 = MosaicDataset(test_data, test_label )\n",
        "testloader_1 = DataLoader( testdata_1 , batch_size= batch ,shuffle=False)\n"
      ],
      "execution_count": 92,
      "outputs": []
    },
    {
      "cell_type": "code",
      "metadata": {
        "id": "Nh3mBQHZ8bEj"
      },
      "source": [
        "# testdata_11 = MosaicDataset(test_dataset, labels )\n",
        "# testloader_11 = DataLoader( testdata_11 , batch_size= batch ,shuffle=False)"
      ],
      "execution_count": 93,
      "outputs": []
    },
    {
      "cell_type": "code",
      "metadata": {
        "id": "5_XeIUk0r0Tl"
      },
      "source": [
        "class Whatnet(nn.Module):\n",
        "    def __init__(self):\n",
        "        super(Whatnet,self).__init__()\n",
        "        self.linear1 = nn.Linear(2,50)\n",
        "        self.linear2 = nn.Linear(50,3)\n",
        "\n",
        "        torch.nn.init.xavier_normal_(self.linear1.weight)\n",
        "        torch.nn.init.zeros_(self.linear1.bias)\n",
        "        torch.nn.init.xavier_normal_(self.linear2.weight)\n",
        "        torch.nn.init.zeros_(self.linear2.bias)\n",
        "\n",
        "    def forward(self,x):\n",
        "        x = F.relu(self.linear1(x))\n",
        "        x = (self.linear2(x))\n",
        "\n",
        "        return x[:,0]"
      ],
      "execution_count": 94,
      "outputs": []
    },
    {
      "cell_type": "code",
      "metadata": {
        "id": "pjD2VZuV9Ed4"
      },
      "source": [
        "def calculate_loss(dataloader,model,criter):\n",
        "  model.eval()\n",
        "  r_loss = 0\n",
        "  with torch.no_grad():\n",
        "    for i, data in enumerate(dataloader, 0):\n",
        "      inputs, labels = data\n",
        "      inputs, labels = inputs.to(\"cuda\"),labels.to(\"cuda\")\n",
        "      outputs = model(inputs)\n",
        "      # print(outputs.shape)\n",
        "      loss = criter(outputs, labels)\n",
        "      r_loss += loss.item()\n",
        "  return r_loss/(i+1)"
      ],
      "execution_count": 95,
      "outputs": []
    },
    {
      "cell_type": "code",
      "metadata": {
        "id": "uALi25pmzQHV"
      },
      "source": [
        "def test_all(number, testloader,net):\n",
        "    correct = 0\n",
        "    total = 0\n",
        "    out = []\n",
        "    pred = []\n",
        "    with torch.no_grad():\n",
        "        for data in testloader:\n",
        "            images, labels = data\n",
        "            images, labels = images.to(\"cuda\"),labels.to(\"cuda\")\n",
        "            out.append(labels.cpu().numpy())\n",
        "            outputs= net(images)\n",
        "            _, predicted = torch.max(outputs.data, 1)\n",
        "            pred.append(predicted.cpu().numpy())\n",
        "            total += labels.size(0)\n",
        "            correct += (predicted == labels).sum().item()\n",
        "    \n",
        "    pred = np.concatenate(pred, axis = 0)\n",
        "    out = np.concatenate(out, axis = 0)\n",
        "    print(\"unique out: \",  np.unique(out), \"unique pred: \", np.unique(pred) )\n",
        "    print(\"correct: \", correct, \"total \",  total)\n",
        "    print('Accuracy of the network on the %d test dataset %d: %.2f %%' % (total, number , 100 * correct / total))"
      ],
      "execution_count": 96,
      "outputs": []
    },
    {
      "cell_type": "code",
      "metadata": {
        "id": "4vmNprlPzTjP"
      },
      "source": [
        "def train_all(trainloader, ds_number, testloader_list, lr_list):\n",
        "  \n",
        "  final_loss = []\n",
        "  for LR in lr_list:    \n",
        "    print(\"--\"*20, \"Learning Rate used is\", LR)\n",
        "    \n",
        "    torch.manual_seed(13)\n",
        "    net = Whatnet().double()\n",
        "    net = net.to(\"cuda\")\n",
        "    \n",
        "    criterion_net = nn.CrossEntropyLoss()\n",
        "    optimizer_net = optim.Adam(net.parameters(), lr=LR ) #, momentum=0.9)\n",
        "    \n",
        "    acti = []\n",
        "    loss_curi = []\n",
        "    epochs = 1000\n",
        "    running_loss = calculate_loss(trainloader,net,criterion_net)\n",
        "    loss_curi.append(running_loss)\n",
        "    print('epoch: [%d ] loss: %.3f' %(0,running_loss)) \n",
        "    for epoch in range(epochs): # loop over the dataset multiple times\n",
        "        ep_lossi = []\n",
        "\n",
        "        running_loss = 0.0\n",
        "        net.train()\n",
        "        for i, data in enumerate(trainloader, 0):\n",
        "            # get the inputs\n",
        "            inputs, labels = data\n",
        "            inputs, labels = inputs.to(\"cuda\"),labels.to(\"cuda\")\n",
        "\n",
        "            # zero the parameter gradients\n",
        "            optimizer_net.zero_grad()\n",
        "\n",
        "            # forward + backward + optimize\n",
        "            outputs = net(inputs)\n",
        "            # print(outputs.shape)\n",
        "            loss = criterion_net(outputs, labels)\n",
        "            # print statistics\n",
        "            running_loss += loss.item()\n",
        "            loss.backward()\n",
        "            optimizer_net.step()\n",
        "\n",
        "        running_loss = calculate_loss(trainloader,net,criterion_net)\n",
        "        if(epoch%200 == 0):\n",
        "          print('epoch: [%d] loss: %.3f' %(epoch + 1,running_loss)) \n",
        "        loss_curi.append(running_loss)   #loss per epoch\n",
        "        if running_loss<=0.05:\n",
        "          print('epoch: [%d] loss: %.3f' %(epoch + 1,running_loss))\n",
        "          break\n",
        "\n",
        "    print('Finished Training')\n",
        "    \n",
        "    correct = 0\n",
        "    total = 0\n",
        "    with torch.no_grad():\n",
        "        for data in trainloader:\n",
        "            images, labels = data\n",
        "            images, labels = images.to(\"cuda\"), labels.to(\"cuda\")\n",
        "            outputs = net(images)\n",
        "            _, predicted = torch.max(outputs.data, 1)\n",
        "            total += labels.size(0)\n",
        "            correct += (predicted == labels).sum().item()\n",
        "\n",
        "    print('Accuracy of the network on the %d train images: %.2f %%' % (total,  100 * correct / total))\n",
        "    \n",
        "    for i, j in enumerate(testloader_list):\n",
        "        test_all(i+1, j,net)\n",
        "    \n",
        "    print(\"--\"*40)\n",
        "    \n",
        "    final_loss.append(loss_curi) \n",
        "  return final_loss\n",
        "    "
      ],
      "execution_count": 103,
      "outputs": []
    },
    {
      "cell_type": "code",
      "metadata": {
        "id": "Yl41sE8vFERk"
      },
      "source": [
        "train_loss_all=[]\n",
        "\n",
        "testloader_list= [ testloader_1]\n",
        "lr_list = [0.0001, 0.0005, 0.001, 0.005, 0.01, 0.05, 0.1, 0.5 ]"
      ],
      "execution_count": 104,
      "outputs": []
    },
    {
      "cell_type": "code",
      "metadata": {
        "colab": {
          "base_uri": "https://localhost:8080/"
        },
        "id": "5gQoPST5zW2t",
        "outputId": "f3daf543-9614-4dd5-ecab-fd973f8bef65"
      },
      "source": [
        "fin_loss = train_all(trainloader_1, 1, testloader_list, lr_list)\n",
        "train_loss_all.append(fin_loss)"
      ],
      "execution_count": 105,
      "outputs": [
        {
          "output_type": "stream",
          "name": "stdout",
          "text": [
            "---------------------------------------- Learning Rate used is 0.0001\n",
            "epoch: [0 ] loss: 1.102\n",
            "epoch: [1] loss: 1.101\n",
            "epoch: [201] loss: 1.097\n",
            "epoch: [401] loss: 1.095\n",
            "epoch: [601] loss: 1.094\n",
            "epoch: [801] loss: 1.092\n",
            "Finished Training\n",
            "Accuracy of the network on the 500 train images: 36.00 %\n",
            "unique out:  [0 1 2] unique pred:  [1]\n",
            "correct:  355 total  1000\n",
            "Accuracy of the network on the 1000 test dataset 1: 35.50 %\n",
            "--------------------------------------------------------------------------------\n",
            "---------------------------------------- Learning Rate used is 0.0005\n",
            "epoch: [0 ] loss: 1.102\n",
            "epoch: [1] loss: 1.101\n",
            "epoch: [201] loss: 1.093\n",
            "epoch: [401] loss: 1.088\n",
            "epoch: [601] loss: 1.085\n",
            "epoch: [801] loss: 1.078\n",
            "Finished Training\n",
            "Accuracy of the network on the 500 train images: 38.40 %\n",
            "unique out:  [0 1 2] unique pred:  [0 2]\n",
            "correct:  398 total  1000\n",
            "Accuracy of the network on the 1000 test dataset 1: 39.80 %\n",
            "--------------------------------------------------------------------------------\n",
            "---------------------------------------- Learning Rate used is 0.001\n",
            "epoch: [0 ] loss: 1.102\n",
            "epoch: [1] loss: 1.101\n",
            "epoch: [201] loss: 1.090\n",
            "epoch: [401] loss: 1.081\n",
            "epoch: [601] loss: 1.077\n",
            "epoch: [801] loss: 1.069\n",
            "Finished Training\n",
            "Accuracy of the network on the 500 train images: 39.20 %\n",
            "unique out:  [0 1 2] unique pred:  [0 2]\n",
            "correct:  489 total  1000\n",
            "Accuracy of the network on the 1000 test dataset 1: 48.90 %\n",
            "--------------------------------------------------------------------------------\n",
            "---------------------------------------- Learning Rate used is 0.005\n",
            "epoch: [0 ] loss: 1.102\n",
            "epoch: [1] loss: 1.100\n",
            "epoch: [201] loss: 1.075\n",
            "epoch: [401] loss: 1.063\n",
            "epoch: [601] loss: 1.057\n",
            "epoch: [801] loss: 1.054\n",
            "Finished Training\n",
            "Accuracy of the network on the 500 train images: 40.60 %\n",
            "unique out:  [0 1 2] unique pred:  [0 2]\n",
            "correct:  436 total  1000\n",
            "Accuracy of the network on the 1000 test dataset 1: 43.60 %\n",
            "--------------------------------------------------------------------------------\n",
            "---------------------------------------- Learning Rate used is 0.01\n",
            "epoch: [0 ] loss: 1.102\n",
            "epoch: [1] loss: 1.099\n",
            "epoch: [201] loss: 1.070\n",
            "epoch: [401] loss: 1.061\n",
            "epoch: [601] loss: 1.056\n",
            "epoch: [801] loss: 1.044\n",
            "Finished Training\n",
            "Accuracy of the network on the 500 train images: 43.00 %\n",
            "unique out:  [0 1 2] unique pred:  [0 1]\n",
            "correct:  314 total  1000\n",
            "Accuracy of the network on the 1000 test dataset 1: 31.40 %\n",
            "--------------------------------------------------------------------------------\n",
            "---------------------------------------- Learning Rate used is 0.05\n",
            "epoch: [0 ] loss: 1.102\n",
            "epoch: [1] loss: 1.098\n",
            "epoch: [201] loss: 1.073\n",
            "epoch: [401] loss: 1.070\n",
            "epoch: [601] loss: 1.067\n",
            "epoch: [801] loss: 1.060\n",
            "Finished Training\n",
            "Accuracy of the network on the 500 train images: 40.40 %\n",
            "unique out:  [0 1 2] unique pred:  [0 1 2]\n",
            "correct:  502 total  1000\n",
            "Accuracy of the network on the 1000 test dataset 1: 50.20 %\n",
            "--------------------------------------------------------------------------------\n",
            "---------------------------------------- Learning Rate used is 0.1\n",
            "epoch: [0 ] loss: 1.102\n",
            "epoch: [1] loss: 1.101\n",
            "epoch: [201] loss: 1.097\n",
            "epoch: [401] loss: 1.087\n",
            "epoch: [601] loss: 1.084\n",
            "epoch: [801] loss: 1.081\n",
            "Finished Training\n",
            "Accuracy of the network on the 500 train images: 37.40 %\n",
            "unique out:  [0 1 2] unique pred:  [0 2]\n",
            "correct:  332 total  1000\n",
            "Accuracy of the network on the 1000 test dataset 1: 33.20 %\n",
            "--------------------------------------------------------------------------------\n",
            "---------------------------------------- Learning Rate used is 0.5\n",
            "epoch: [0 ] loss: 1.102\n",
            "epoch: [1] loss: 1.120\n",
            "epoch: [201] loss: 1.099\n",
            "epoch: [401] loss: 1.104\n",
            "epoch: [601] loss: 1.098\n",
            "epoch: [801] loss: 1.102\n",
            "Finished Training\n",
            "Accuracy of the network on the 500 train images: 33.60 %\n",
            "unique out:  [0 1 2] unique pred:  [0]\n",
            "correct:  314 total  1000\n",
            "Accuracy of the network on the 1000 test dataset 1: 31.40 %\n",
            "--------------------------------------------------------------------------------\n"
          ]
        }
      ]
    },
    {
      "cell_type": "code",
      "metadata": {
        "id": "In76SYH_zZHV"
      },
      "source": [
        "%matplotlib inline"
      ],
      "execution_count": 106,
      "outputs": []
    },
    {
      "cell_type": "code",
      "metadata": {
        "colab": {
          "base_uri": "https://localhost:8080/"
        },
        "id": "_GsE3qHR_A5c",
        "outputId": "dddabcce-a423-418a-9dfa-26d9693b0442"
      },
      "source": [
        "len(fin_loss)"
      ],
      "execution_count": 107,
      "outputs": [
        {
          "output_type": "execute_result",
          "data": {
            "text/plain": [
              "8"
            ]
          },
          "metadata": {},
          "execution_count": 107
        }
      ]
    },
    {
      "cell_type": "code",
      "metadata": {
        "id": "BS4HtOHEzZ0E",
        "colab": {
          "base_uri": "https://localhost:8080/",
          "height": 297
        },
        "outputId": "1627a148-bc40-4acb-86ad-92939960c102"
      },
      "source": [
        "for i,j in enumerate(fin_loss):\n",
        "    plt.plot(j,label =\"LR = \"+str(lr_list[i]))\n",
        "    \n",
        "\n",
        "plt.xlabel(\"Epochs\")\n",
        "plt.ylabel(\"Training_loss\")\n",
        "\n",
        "plt.legend(loc='center left', bbox_to_anchor=(1, 0.5))"
      ],
      "execution_count": 108,
      "outputs": [
        {
          "output_type": "execute_result",
          "data": {
            "text/plain": [
              "<matplotlib.legend.Legend at 0x7fdf7350aa10>"
            ]
          },
          "metadata": {},
          "execution_count": 108
        },
        {
          "output_type": "display_data",
          "data": {
            "image/png": "[encoded data removed]",
            "text/plain": [
              "<Figure size 432x288 with 1 Axes>"
            ]
          },
          "metadata": {
            "needs_background": "light"
          }
        }
      ]
    },
    {
      "cell_type": "code",
      "metadata": {
        "id": "1UbTkfLUINTI"
      },
      "source": [
        ""
      ],
      "execution_count": 108,
      "outputs": []
    },
    {
      "cell_type": "code",
      "source": [
        ""
      ],
      "metadata": {
        "id": "ZP-QLVi0LsyN"
      },
      "execution_count": 108,
      "outputs": []
    }
  ]
}