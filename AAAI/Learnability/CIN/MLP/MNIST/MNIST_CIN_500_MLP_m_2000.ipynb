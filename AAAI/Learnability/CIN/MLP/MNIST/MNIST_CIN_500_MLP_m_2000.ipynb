{
  "nbformat": 4,
  "nbformat_minor": 0,
  "metadata": {
    "accelerator": "GPU",
    "colab": {
      "name": "MNIST_CIN_1k_MLP_m_5.ipynb",
      "provenance": [],
      "collapsed_sections": [],
      "toc_visible": true,
      "machine_shape": "hm"
    },
    "kernelspec": {
      "display_name": "Python 3",
      "language": "python",
      "name": "python3"
    },
    "language_info": {
      "codemirror_mode": {
        "name": "ipython",
        "version": 3
      },
      "file_extension": ".py",
      "mimetype": "text/x-python",
      "name": "python",
      "nbconvert_exporter": "python",
      "pygments_lexer": "ipython3",
      "version": "3.6.5"
    }
  },
  "cells": [
    {
      "cell_type": "code",
      "metadata": {
        "id": "JSjG64ra4aFu"
      },
      "source": [
        "# from google.colab import drive\n",
        "# drive.mount('/content/drive')"
      ],
      "execution_count": 307,
      "outputs": []
    },
    {
      "cell_type": "code",
      "metadata": {
        "id": "3uDWznlVHuI6"
      },
      "source": [
        "# path = \"/content/drive/MyDrive/Research/cods_comad_plots/sdc_task/mnist/\""
      ],
      "execution_count": 308,
      "outputs": []
    },
    {
      "cell_type": "code",
      "metadata": {
        "id": "jIzYDQ-xN0Qj"
      },
      "source": [
        "m = 2000\n",
        "desired_num = 500"
      ],
      "execution_count": 309,
      "outputs": []
    },
    {
      "cell_type": "code",
      "metadata": {
        "id": "V8-7SARDZErK"
      },
      "source": [
        "import torch.nn as nn\n",
        "import torch.nn.functional as F\n",
        "\n",
        "import pandas as pd\n",
        "import numpy as np\n",
        "import matplotlib.pyplot as plt\n",
        "\n",
        "import torch\n",
        "import torchvision\n",
        "import torchvision.transforms as transforms\n",
        "from torch.utils.data import Dataset, DataLoader\n",
        "from torchvision import transforms, utils\n",
        "\n",
        "from matplotlib import pyplot as plt\n",
        "\n",
        "import copy\n",
        "\n",
        "# Ignore warnings\n",
        "import warnings\n",
        "warnings.filterwarnings(\"ignore\")\n",
        "\n",
        "torch.backends.cudnn.deterministic = True\n",
        "torch.backends.cudnn.benchmark = False\n"
      ],
      "execution_count": 310,
      "outputs": []
    },
    {
      "cell_type": "code",
      "metadata": {
        "id": "acRFqJNrZErV"
      },
      "source": [
        "transform = transforms.Compose(\n",
        "    [transforms.ToTensor(),\n",
        "     transforms.Normalize((0.5), (0.5))])\n",
        "\n",
        "trainset = torchvision.datasets.MNIST(root='./data', train=True, download=True, transform=transform)\n",
        "\n",
        "\n",
        "testset = torchvision.datasets.MNIST(root='./data', train=False, download=True, transform=transform)"
      ],
      "execution_count": 311,
      "outputs": []
    },
    {
      "cell_type": "code",
      "metadata": {
        "id": "gh5DXuAV1tp5",
        "colab": {
          "base_uri": "https://localhost:8080/"
        },
        "outputId": "b76a4c7b-1c25-4846-b66c-09230c03d3eb"
      },
      "source": [
        "classes = ('zero','one','two','three','four','five','six','seven','eight','nine')\n",
        "\n",
        "foreground_classes = {'zero','one'}\n",
        "fg_used = '01'\n",
        "fg1, fg2 = 0,1\n",
        "\n",
        "\n",
        "all_classes = {'zero','one','two','three','four','five','six','seven','eight','nine'}\n",
        "background_classes = all_classes - foreground_classes\n",
        "background_classes"
      ],
      "execution_count": 312,
      "outputs": [
        {
          "output_type": "execute_result",
          "data": {
            "text/plain": [
              "{'eight', 'five', 'four', 'nine', 'seven', 'six', 'three', 'two'}"
            ]
          },
          "metadata": {},
          "execution_count": 312
        }
      ]
    },
    {
      "cell_type": "code",
      "metadata": {
        "id": "Xbr_H78mp_Of"
      },
      "source": [
        "trainloader = torch.utils.data.DataLoader(trainset, batch_size=10, shuffle = False)\n",
        "testloader = torch.utils.data.DataLoader(testset, batch_size=10, shuffle = False)"
      ],
      "execution_count": 313,
      "outputs": []
    },
    {
      "cell_type": "code",
      "metadata": {
        "id": "V_JUhwCeZErk"
      },
      "source": [
        "dataiter = iter(trainloader)\n",
        "background_data=[]\n",
        "background_label=[]\n",
        "foreground_data=[]\n",
        "foreground_label=[]\n",
        "batch_size=10\n",
        "\n",
        "for i in range(6000):\n",
        "  images, labels = dataiter.next()\n",
        "  for j in range(batch_size):\n",
        "    if(classes[labels[j]] in background_classes):\n",
        "      img = images[j].tolist()\n",
        "      background_data.append(img)\n",
        "      background_label.append(labels[j])\n",
        "    else:\n",
        "      img = images[j].tolist()\n",
        "      foreground_data.append(img)\n",
        "      foreground_label.append(labels[j])\n",
        "            \n",
        "foreground_data = torch.tensor(foreground_data)\n",
        "foreground_label = torch.tensor(foreground_label)\n",
        "background_data = torch.tensor(background_data)\n",
        "background_label = torch.tensor(background_label)"
      ],
      "execution_count": 314,
      "outputs": []
    },
    {
      "cell_type": "code",
      "metadata": {
        "id": "iyyWx5g58erM"
      },
      "source": [
        "def imshow(img):\n",
        "  img = img / 2 + 0.5     # unnormalize\n",
        "  npimg = img#.numpy()\n",
        "  plt.imshow(np.reshape(npimg, (28,28)))\n",
        "  plt.show()"
      ],
      "execution_count": 315,
      "outputs": []
    },
    {
      "cell_type": "code",
      "metadata": {
        "colab": {
          "base_uri": "https://localhost:8080/"
        },
        "id": "U5w9S6xb6EFl",
        "outputId": "3476c636-980d-4750-faf8-e5e7c549ab9e"
      },
      "source": [
        "foreground_data.shape, foreground_label.shape, background_data.shape, background_label.shape"
      ],
      "execution_count": 316,
      "outputs": [
        {
          "output_type": "execute_result",
          "data": {
            "text/plain": [
              "(torch.Size([12665, 1, 28, 28]),\n",
              " torch.Size([12665]),\n",
              " torch.Size([47335, 1, 28, 28]),\n",
              " torch.Size([47335]))"
            ]
          },
          "metadata": {},
          "execution_count": 316
        }
      ]
    },
    {
      "cell_type": "code",
      "metadata": {
        "id": "IRd6EpWM6Abq"
      },
      "source": [
        "val, idx = torch.max(background_data, dim=0, keepdims= True,)\n",
        "# torch.abs(val)"
      ],
      "execution_count": 317,
      "outputs": []
    },
    {
      "cell_type": "code",
      "metadata": {
        "id": "Sly62nHh6VJy"
      },
      "source": [
        "mean_bg = torch.mean(background_data, dim=0, keepdims= True)\n",
        "std_bg, _ = torch.max(background_data, dim=0, keepdims= True)"
      ],
      "execution_count": 318,
      "outputs": []
    },
    {
      "cell_type": "code",
      "metadata": {
        "colab": {
          "base_uri": "https://localhost:8080/"
        },
        "id": "K89Qj57m6axj",
        "outputId": "3f074f61-bcf6-4fe7-8e2c-432d4c8fe42f"
      },
      "source": [
        "mean_bg.shape, std_bg.shape"
      ],
      "execution_count": 319,
      "outputs": [
        {
          "output_type": "execute_result",
          "data": {
            "text/plain": [
              "(torch.Size([1, 1, 28, 28]), torch.Size([1, 1, 28, 28]))"
            ]
          },
          "metadata": {},
          "execution_count": 319
        }
      ]
    },
    {
      "cell_type": "code",
      "metadata": {
        "id": "wGVjRbqZ6lzV"
      },
      "source": [
        "foreground_data = (foreground_data - mean_bg) / std_bg\n",
        "background_data = (background_data - mean_bg) / torch.abs(std_bg)"
      ],
      "execution_count": 320,
      "outputs": []
    },
    {
      "cell_type": "code",
      "metadata": {
        "colab": {
          "base_uri": "https://localhost:8080/"
        },
        "id": "yxZVq5OW6o3L",
        "outputId": "1622e0bf-95a9-41a1-f1ed-baf6341ecba9"
      },
      "source": [
        "foreground_data.shape, foreground_label.shape, background_data.shape, background_label.shape"
      ],
      "execution_count": 321,
      "outputs": [
        {
          "output_type": "execute_result",
          "data": {
            "text/plain": [
              "(torch.Size([12665, 1, 28, 28]),\n",
              " torch.Size([12665]),\n",
              " torch.Size([47335, 1, 28, 28]),\n",
              " torch.Size([47335]))"
            ]
          },
          "metadata": {},
          "execution_count": 321
        }
      ]
    },
    {
      "cell_type": "code",
      "metadata": {
        "colab": {
          "base_uri": "https://localhost:8080/"
        },
        "id": "pTrGcqI7GsBA",
        "outputId": "b1002571-bd57-4471-bf10-7ce26fe83a45"
      },
      "source": [
        "torch.sum(torch.isnan(foreground_data)), torch.sum(torch.isnan(background_data))"
      ],
      "execution_count": 322,
      "outputs": [
        {
          "output_type": "execute_result",
          "data": {
            "text/plain": [
              "(tensor(0), tensor(0))"
            ]
          },
          "metadata": {},
          "execution_count": 322
        }
      ]
    },
    {
      "cell_type": "code",
      "metadata": {
        "colab": {
          "base_uri": "https://localhost:8080/",
          "height": 265
        },
        "id": "fIqpbILY-BiG",
        "outputId": "1a286d3a-4da2-4c09-d96c-f2a5268c1f6b"
      },
      "source": [
        "imshow(foreground_data[0])"
      ],
      "execution_count": 323,
      "outputs": [
        {
          "output_type": "display_data",
          "data": {
            "image/png": "[encoded data removed]",
            "text/plain": [
              "<Figure size 432x288 with 1 Axes>"
            ]
          },
          "metadata": {
            "needs_background": "light"
          }
        }
      ]
    },
    {
      "cell_type": "code",
      "metadata": {
        "colab": {
          "base_uri": "https://localhost:8080/",
          "height": 265
        },
        "id": "tRvTvlVo98xz",
        "outputId": "d3bc4517-8b19-4a35-f1de-1c4bd37d72ef"
      },
      "source": [
        "imshow(background_data[0])"
      ],
      "execution_count": 324,
      "outputs": [
        {
          "output_type": "display_data",
          "data": {
            "image/png": "[encoded data removed]",
            "text/plain": [
              "<Figure size 432x288 with 1 Axes>"
            ]
          },
          "metadata": {
            "needs_background": "light"
          }
        }
      ]
    },
    {
      "cell_type": "markdown",
      "metadata": {
        "id": "ccO3wCVRNrxe"
      },
      "source": [
        "## generating CIN train and test data"
      ]
    },
    {
      "cell_type": "code",
      "metadata": {
        "colab": {
          "base_uri": "https://localhost:8080/"
        },
        "id": "30usvva6N0Nq",
        "outputId": "d99b0984-a69f-46e0-92a7-a5744949e6a1"
      },
      "source": [
        "np.random.seed(0)\n",
        "bg_idx = np.random.randint(0,47335,m-1)\n",
        "fg_idx = np.random.randint(0,12665)\n",
        "bg_idx, fg_idx"
      ],
      "execution_count": 325,
      "outputs": [
        {
          "output_type": "execute_result",
          "data": {
            "text/plain": [
              "(array([ 2732, 43567, 42613, ..., 30745, 34169,  7299]), 884)"
            ]
          },
          "metadata": {},
          "execution_count": 325
        }
      ]
    },
    {
      "cell_type": "code",
      "metadata": {
        "id": "Q3ryiEQ5N0GY"
      },
      "source": [
        "# for i in background_data[bg_idx]:\n",
        "#   imshow(i)"
      ],
      "execution_count": 326,
      "outputs": []
    },
    {
      "cell_type": "code",
      "metadata": {
        "colab": {
          "base_uri": "https://localhost:8080/",
          "height": 265
        },
        "id": "ZtUC0dNdN0Dz",
        "outputId": "34b7ec97-fdb9-4150-e21d-c594972d50b7"
      },
      "source": [
        "imshow(torch.sum(background_data[bg_idx], axis = 0))"
      ],
      "execution_count": 327,
      "outputs": [
        {
          "output_type": "display_data",
          "data": {
            "image/png": "[encoded data removed]",
            "text/plain": [
              "<Figure size 432x288 with 1 Axes>"
            ]
          },
          "metadata": {
            "needs_background": "light"
          }
        }
      ]
    },
    {
      "cell_type": "code",
      "metadata": {
        "colab": {
          "base_uri": "https://localhost:8080/",
          "height": 265
        },
        "id": "UY1IevjcN0BL",
        "outputId": "80e7bcf8-6ef5-4f67-b4d5-87c8329c5f38"
      },
      "source": [
        "imshow(foreground_data[fg_idx])"
      ],
      "execution_count": 328,
      "outputs": [
        {
          "output_type": "display_data",
          "data": {
            "image/png": "[encoded data removed]",
            "text/plain": [
              "<Figure size 432x288 with 1 Axes>"
            ]
          },
          "metadata": {
            "needs_background": "light"
          }
        }
      ]
    },
    {
      "cell_type": "code",
      "metadata": {
        "colab": {
          "base_uri": "https://localhost:8080/"
        },
        "id": "e6niBULUNz-k",
        "outputId": "a6438549-d557-46a6-c70e-7fddcefd84fc"
      },
      "source": [
        "tr_data = ( torch.sum(background_data[bg_idx], axis = 0) + foreground_data[fg_idx] )/m\n",
        "tr_data.shape"
      ],
      "execution_count": 329,
      "outputs": [
        {
          "output_type": "execute_result",
          "data": {
            "text/plain": [
              "torch.Size([1, 28, 28])"
            ]
          },
          "metadata": {},
          "execution_count": 329
        }
      ]
    },
    {
      "cell_type": "code",
      "metadata": {
        "colab": {
          "base_uri": "https://localhost:8080/",
          "height": 265
        },
        "id": "SSLaezrFNz7r",
        "outputId": "21d345cd-6890-45e6-cb7d-396cd04004b1"
      },
      "source": [
        "imshow(tr_data)"
      ],
      "execution_count": 330,
      "outputs": [
        {
          "output_type": "display_data",
          "data": {
            "image/png": "[encoded data removed]",
            "text/plain": [
              "<Figure size 432x288 with 1 Axes>"
            ]
          },
          "metadata": {
            "needs_background": "light"
          }
        }
      ]
    },
    {
      "cell_type": "code",
      "metadata": {
        "colab": {
          "base_uri": "https://localhost:8080/"
        },
        "id": "aNZSuYqiOC6d",
        "outputId": "3ded2faf-c4f4-4b19-c419-a37411d74782"
      },
      "source": [
        "foreground_label[fg_idx]"
      ],
      "execution_count": 331,
      "outputs": [
        {
          "output_type": "execute_result",
          "data": {
            "text/plain": [
              "tensor(1)"
            ]
          },
          "metadata": {},
          "execution_count": 331
        }
      ]
    },
    {
      "cell_type": "code",
      "metadata": {
        "id": "vD1bssSmOC3k"
      },
      "source": [
        "train_images =[]      # list of mosaic images, each mosaic image is saved as list of 9 images             \n",
        "train_label=[]                # label of mosaic image = foreground class present in that mosaic\n",
        "\n",
        "for i in range(desired_num):\n",
        "  np.random.seed(i)\n",
        "  bg_idx = np.random.randint(0,47335,m-1)\n",
        "  fg_idx = np.random.randint(0,12665)\n",
        "\n",
        "  tr_data = ( torch.sum(background_data[bg_idx], axis = 0) + foreground_data[fg_idx] ) / m\n",
        "  label = (foreground_label[fg_idx].item())\n",
        "\n",
        "  train_images.append(tr_data)\n",
        "  train_label.append(label)\n"
      ],
      "execution_count": 332,
      "outputs": []
    },
    {
      "cell_type": "code",
      "metadata": {
        "colab": {
          "base_uri": "https://localhost:8080/"
        },
        "id": "CkoRVhHSOC09",
        "outputId": "140fb274-ca5a-47f6-a3e6-f640d10c49b3"
      },
      "source": [
        "train_images = torch.stack(train_images)\n",
        "train_images.shape, len(train_label)"
      ],
      "execution_count": 333,
      "outputs": [
        {
          "output_type": "execute_result",
          "data": {
            "text/plain": [
              "(torch.Size([500, 1, 28, 28]), 500)"
            ]
          },
          "metadata": {},
          "execution_count": 333
        }
      ]
    },
    {
      "cell_type": "code",
      "metadata": {
        "colab": {
          "base_uri": "https://localhost:8080/",
          "height": 265
        },
        "id": "KrJqFMoEOCyK",
        "outputId": "b5bb4c5a-9ad9-49e0-84cf-e40ff71276f6"
      },
      "source": [
        "imshow(train_images[0])"
      ],
      "execution_count": 334,
      "outputs": [
        {
          "output_type": "display_data",
          "data": {
            "image/png": "[encoded data removed]",
            "text/plain": [
              "<Figure size 432x288 with 1 Axes>"
            ]
          },
          "metadata": {
            "needs_background": "light"
          }
        }
      ]
    },
    {
      "cell_type": "code",
      "metadata": {
        "id": "cv6LZJMoOeb8"
      },
      "source": [
        "test_images =[]      # list of mosaic images, each mosaic image is saved as list of 9 images             \n",
        "test_label=[]                # label of mosaic image = foreground class present in that mosaic\n",
        "\n",
        "for i in range(10000):\n",
        "  np.random.seed(i)\n",
        "  fg_idx = np.random.randint(0,12665)\n",
        "\n",
        "  tr_data = ( foreground_data[fg_idx] ) / m\n",
        "  label = (foreground_label[fg_idx].item())\n",
        "\n",
        "  test_images.append(tr_data)\n",
        "  test_label.append(label)\n"
      ],
      "execution_count": 335,
      "outputs": []
    },
    {
      "cell_type": "code",
      "metadata": {
        "colab": {
          "base_uri": "https://localhost:8080/"
        },
        "id": "ZBuH3ayNOeZU",
        "outputId": "55f7c226-271e-49bc-d0c7-469b4152e523"
      },
      "source": [
        "test_images = torch.stack(test_images)\n",
        "test_images.shape, len(test_label)"
      ],
      "execution_count": 336,
      "outputs": [
        {
          "output_type": "execute_result",
          "data": {
            "text/plain": [
              "(torch.Size([10000, 1, 28, 28]), 10000)"
            ]
          },
          "metadata": {},
          "execution_count": 336
        }
      ]
    },
    {
      "cell_type": "code",
      "metadata": {
        "colab": {
          "base_uri": "https://localhost:8080/",
          "height": 265
        },
        "id": "wv_aBpW8OeWs",
        "outputId": "488d7ea5-a9e2-4d4e-ad6a-bc75d5de882b"
      },
      "source": [
        "imshow(test_images[0])"
      ],
      "execution_count": 337,
      "outputs": [
        {
          "output_type": "display_data",
          "data": {
            "image/png": "[encoded data removed]",
            "text/plain": [
              "<Figure size 432x288 with 1 Axes>"
            ]
          },
          "metadata": {
            "needs_background": "light"
          }
        }
      ]
    },
    {
      "cell_type": "code",
      "metadata": {
        "colab": {
          "base_uri": "https://localhost:8080/"
        },
        "id": "7mvKwVWNOeTi",
        "outputId": "f65fd36a-d90f-4a99-f29d-7dfd96d99ccb"
      },
      "source": [
        "torch.sum(torch.isnan(train_images)), torch.sum(torch.isnan(test_images))"
      ],
      "execution_count": 338,
      "outputs": [
        {
          "output_type": "execute_result",
          "data": {
            "text/plain": [
              "(tensor(0), tensor(0))"
            ]
          },
          "metadata": {},
          "execution_count": 338
        }
      ]
    },
    {
      "cell_type": "code",
      "metadata": {
        "colab": {
          "base_uri": "https://localhost:8080/"
        },
        "id": "919oQptjOosG",
        "outputId": "2ef1b955-4efe-4de3-bdd6-3aade199edd6"
      },
      "source": [
        "np.unique(train_label), np.unique(test_label)"
      ],
      "execution_count": 339,
      "outputs": [
        {
          "output_type": "execute_result",
          "data": {
            "text/plain": [
              "(array([0, 1]), array([0, 1]))"
            ]
          },
          "metadata": {},
          "execution_count": 339
        }
      ]
    },
    {
      "cell_type": "markdown",
      "metadata": {
        "id": "dl3dzlPPOsDT"
      },
      "source": [
        "## creating dataloader"
      ]
    },
    {
      "cell_type": "code",
      "metadata": {
        "id": "hX35HdXoOoot"
      },
      "source": [
        "class CIN_Dataset(Dataset):\n",
        "  \"\"\"CIN_Dataset dataset.\"\"\"\n",
        "\n",
        "  def __init__(self, list_of_images, labels):\n",
        "    \"\"\"\n",
        "      Args:\n",
        "        csv_file (string): Path to the csv file with annotations.\n",
        "        root_dir (string): Directory with all the images.\n",
        "        transform (callable, optional): Optional transform to be applied\n",
        "            on a sample.\n",
        "    \"\"\"\n",
        "    self.image = list_of_images\n",
        "    self.label = labels\n",
        "\n",
        "  def __len__(self):\n",
        "    return len(self.label)\n",
        "\n",
        "  def __getitem__(self, idx):\n",
        "    return self.image[idx] , self.label[idx]\n",
        "\n"
      ],
      "execution_count": 340,
      "outputs": []
    },
    {
      "cell_type": "code",
      "metadata": {
        "id": "Y44ojnvZOolr"
      },
      "source": [
        "batch = 250\n",
        "train_data = CIN_Dataset(train_images, train_label)\n",
        "train_loader = DataLoader( train_data, batch_size= batch , shuffle=True)\n",
        "\n",
        "test_data = CIN_Dataset( test_images , test_label)\n",
        "test_loader = DataLoader( test_data, batch_size= batch , shuffle=False)"
      ],
      "execution_count": 341,
      "outputs": []
    },
    {
      "cell_type": "code",
      "metadata": {
        "colab": {
          "base_uri": "https://localhost:8080/"
        },
        "id": "dLJ5YSOOO6s6",
        "outputId": "6ea460d3-4bef-42a8-acd6-ab58c62ed0ce"
      },
      "source": [
        "train_loader.dataset.image.shape, test_loader.dataset.image.shape"
      ],
      "execution_count": 342,
      "outputs": [
        {
          "output_type": "execute_result",
          "data": {
            "text/plain": [
              "(torch.Size([500, 1, 28, 28]), torch.Size([10000, 1, 28, 28]))"
            ]
          },
          "metadata": {},
          "execution_count": 342
        }
      ]
    },
    {
      "cell_type": "markdown",
      "metadata": {
        "id": "z0oF6s0dO7zy"
      },
      "source": [
        "## model"
      ]
    },
    {
      "cell_type": "code",
      "metadata": {
        "id": "KoP6hoBqNJxX"
      },
      "source": [
        "class Classification(nn.Module):\n",
        "  def __init__(self):\n",
        "    super(Classification, self).__init__()\n",
        "    self.fc1 = nn.Linear(28*28, 50)\n",
        "    self.fc2 = nn.Linear(50, 2)\n",
        "    \n",
        "    torch.nn.init.xavier_normal_(self.fc1.weight)\n",
        "    torch.nn.init.zeros_(self.fc1.bias)\n",
        "\n",
        "    torch.nn.init.xavier_normal_(self.fc2.weight)\n",
        "    torch.nn.init.zeros_(self.fc2.bias)\n",
        "\n",
        "\n",
        "  def forward(self, x):\n",
        "    x = x.view(-1, 28*28)\n",
        "    x = F.relu(self.fc1(x))\n",
        "    x = self.fc2(x)\n",
        "    return x"
      ],
      "execution_count": 343,
      "outputs": []
    },
    {
      "cell_type": "markdown",
      "metadata": {
        "id": "KwP2xvB7PBFK"
      },
      "source": [
        "## training"
      ]
    },
    {
      "cell_type": "code",
      "metadata": {
        "id": "uPYplUGazU9I"
      },
      "source": [
        "torch.manual_seed(12)\n",
        "classify = Classification().double()\n",
        "classify = classify.to(\"cuda\")"
      ],
      "execution_count": 344,
      "outputs": []
    },
    {
      "cell_type": "code",
      "metadata": {
        "id": "n5g3geNJ5zEu"
      },
      "source": [
        "import torch.optim as optim\n",
        "criterion = nn.CrossEntropyLoss()\n",
        "optimizer_classify = optim.Adam(classify.parameters(), lr=0.001  ) #, momentum=0.9)"
      ],
      "execution_count": 345,
      "outputs": []
    },
    {
      "cell_type": "code",
      "metadata": {
        "id": "725MVVfLS3et",
        "colab": {
          "base_uri": "https://localhost:8080/"
        },
        "outputId": "78abe4b6-ea9b-45ac-92e3-5174e5649147"
      },
      "source": [
        "correct = 0\n",
        "total = 0\n",
        "count = 0\n",
        "flag = 1\n",
        "\n",
        "with torch.no_grad():\n",
        "  for data in train_loader:\n",
        "    inputs, labels = data\n",
        "    inputs = inputs.double()\n",
        "    inputs, labels  = inputs.to(\"cuda\"),labels.to(\"cuda\")\n",
        "\n",
        "    outputs = classify(inputs)\n",
        "\n",
        "    _, predicted = torch.max(outputs.data, 1)\n",
        "\n",
        "    total += labels.size(0)\n",
        "    correct += (predicted == labels).sum().item()\n",
        "\n",
        "print('Accuracy of the network on the %d train images: %f %%' % ( desired_num , 100 * correct / total))\n",
        "print(\"total correct\", correct)\n",
        "print(\"total train set images\", total)"
      ],
      "execution_count": 346,
      "outputs": [
        {
          "output_type": "stream",
          "name": "stdout",
          "text": [
            "Accuracy of the network on the 500 train images: 55.200000 %\n",
            "total correct 276\n",
            "total train set images 500\n"
          ]
        }
      ]
    },
    {
      "cell_type": "code",
      "metadata": {
        "colab": {
          "base_uri": "https://localhost:8080/"
        },
        "id": "iYTaJG0GPLA7",
        "outputId": "4f532554-3bbe-4467-ba46-d20345063771"
      },
      "source": [
        "correct = 0\n",
        "total = 0\n",
        "count = 0\n",
        "flag = 1\n",
        "\n",
        "with torch.no_grad():\n",
        "  for data in test_loader:\n",
        "    inputs, labels = data\n",
        "    inputs = inputs.double()\n",
        "    inputs, labels  = inputs.to(\"cuda\"),labels.to(\"cuda\")\n",
        "\n",
        "    outputs = classify(inputs)\n",
        "\n",
        "    _, predicted = torch.max(outputs.data, 1)\n",
        "\n",
        "    total += labels.size(0)\n",
        "    correct += (predicted == labels).sum().item()\n",
        "\n",
        "print('Accuracy of the network on the %d test images: %f %%' % ( 10000 , 100 * correct / total))\n",
        "print(\"total correct\", correct)\n",
        "print(\"total train set images\", total)"
      ],
      "execution_count": 347,
      "outputs": [
        {
          "output_type": "stream",
          "name": "stdout",
          "text": [
            "Accuracy of the network on the 10000 test images: 56.400000 %\n",
            "total correct 5640\n",
            "total train set images 10000\n"
          ]
        }
      ]
    },
    {
      "cell_type": "code",
      "metadata": {
        "colab": {
          "base_uri": "https://localhost:8080/"
        },
        "id": "LCWyTEIKPNlK",
        "outputId": "186cb431-0027-41bd-e114-b0e60045861d"
      },
      "source": [
        "nos_epochs = 200\n",
        "tr_loss = []\n",
        "for epoch in range(nos_epochs):  # loop over the dataset multiple times\n",
        "\n",
        "  epoch_loss = []\n",
        "  cnt=0\n",
        "  iteration = desired_num // batch\n",
        "  running_loss = 0\n",
        "  \n",
        "  #training data set  \n",
        "  for i, data in  enumerate(train_loader):\n",
        "    inputs, labels = data\n",
        "    inputs = inputs.double()\n",
        "    inputs, labels  = inputs.to(\"cuda\"),labels.to(\"cuda\")\n",
        "    inputs = inputs.double()\n",
        "    # zero the parameter gradients\n",
        "    \n",
        "    optimizer_classify.zero_grad()\n",
        "\n",
        "    outputs = classify(inputs)\n",
        "\n",
        "    _, predicted = torch.max(outputs.data, 1)\n",
        "#     print(outputs)\n",
        "#     print(outputs.shape,labels.shape , torch.argmax(outputs, dim=1))\n",
        "\n",
        "    loss = criterion(outputs, labels) \n",
        "    loss.backward()\n",
        "\n",
        "    optimizer_classify.step()\n",
        "\n",
        "    running_loss += loss.item()\n",
        "    mini = 1\n",
        "    if cnt % mini == mini-1:    # print every 40 mini-batches\n",
        "      # print('[%d, %5d] loss: %.3f' %(epoch + 1, cnt + 1, running_loss / mini))\n",
        "      epoch_loss.append(running_loss/mini)\n",
        "      running_loss = 0.0\n",
        "    cnt=cnt+1\n",
        "\n",
        "  tr_loss.append(np.mean(epoch_loss))\n",
        "  if(np.mean(epoch_loss) <= 0.001):\n",
        "      break;\n",
        "  else:\n",
        "    print('[Epoch : %d] loss: %.3f' %(epoch + 1, np.mean(epoch_loss) ))\n",
        "    \n",
        "print('Finished Training')"
      ],
      "execution_count": 348,
      "outputs": [
        {
          "output_type": "stream",
          "name": "stdout",
          "text": [
            "[Epoch : 1] loss: 0.692\n",
            "[Epoch : 2] loss: 0.690\n",
            "[Epoch : 3] loss: 0.689\n",
            "[Epoch : 4] loss: 0.687\n",
            "[Epoch : 5] loss: 0.686\n",
            "[Epoch : 6] loss: 0.684\n",
            "[Epoch : 7] loss: 0.683\n",
            "[Epoch : 8] loss: 0.681\n",
            "[Epoch : 9] loss: 0.679\n",
            "[Epoch : 10] loss: 0.678\n",
            "[Epoch : 11] loss: 0.676\n",
            "[Epoch : 12] loss: 0.674\n",
            "[Epoch : 13] loss: 0.673\n",
            "[Epoch : 14] loss: 0.671\n",
            "[Epoch : 15] loss: 0.669\n",
            "[Epoch : 16] loss: 0.667\n",
            "[Epoch : 17] loss: 0.666\n",
            "[Epoch : 18] loss: 0.664\n",
            "[Epoch : 19] loss: 0.662\n",
            "[Epoch : 20] loss: 0.660\n",
            "[Epoch : 21] loss: 0.658\n",
            "[Epoch : 22] loss: 0.656\n",
            "[Epoch : 23] loss: 0.654\n",
            "[Epoch : 24] loss: 0.652\n",
            "[Epoch : 25] loss: 0.650\n",
            "[Epoch : 26] loss: 0.648\n",
            "[Epoch : 27] loss: 0.646\n",
            "[Epoch : 28] loss: 0.643\n",
            "[Epoch : 29] loss: 0.641\n",
            "[Epoch : 30] loss: 0.639\n",
            "[Epoch : 31] loss: 0.637\n",
            "[Epoch : 32] loss: 0.635\n",
            "[Epoch : 33] loss: 0.632\n",
            "[Epoch : 34] loss: 0.630\n",
            "[Epoch : 35] loss: 0.628\n",
            "[Epoch : 36] loss: 0.625\n",
            "[Epoch : 37] loss: 0.623\n",
            "[Epoch : 38] loss: 0.621\n",
            "[Epoch : 39] loss: 0.618\n",
            "[Epoch : 40] loss: 0.616\n",
            "[Epoch : 41] loss: 0.613\n",
            "[Epoch : 42] loss: 0.611\n",
            "[Epoch : 43] loss: 0.609\n",
            "[Epoch : 44] loss: 0.606\n",
            "[Epoch : 45] loss: 0.604\n",
            "[Epoch : 46] loss: 0.601\n",
            "[Epoch : 47] loss: 0.599\n",
            "[Epoch : 48] loss: 0.596\n",
            "[Epoch : 49] loss: 0.594\n",
            "[Epoch : 50] loss: 0.591\n",
            "[Epoch : 51] loss: 0.589\n",
            "[Epoch : 52] loss: 0.586\n",
            "[Epoch : 53] loss: 0.584\n",
            "[Epoch : 54] loss: 0.581\n",
            "[Epoch : 55] loss: 0.579\n",
            "[Epoch : 56] loss: 0.576\n",
            "[Epoch : 57] loss: 0.574\n",
            "[Epoch : 58] loss: 0.571\n",
            "[Epoch : 59] loss: 0.569\n",
            "[Epoch : 60] loss: 0.566\n",
            "[Epoch : 61] loss: 0.564\n",
            "[Epoch : 62] loss: 0.561\n",
            "[Epoch : 63] loss: 0.558\n",
            "[Epoch : 64] loss: 0.556\n",
            "[Epoch : 65] loss: 0.553\n",
            "[Epoch : 66] loss: 0.551\n",
            "[Epoch : 67] loss: 0.548\n",
            "[Epoch : 68] loss: 0.546\n",
            "[Epoch : 69] loss: 0.543\n",
            "[Epoch : 70] loss: 0.541\n",
            "[Epoch : 71] loss: 0.538\n",
            "[Epoch : 72] loss: 0.535\n",
            "[Epoch : 73] loss: 0.533\n",
            "[Epoch : 74] loss: 0.530\n",
            "[Epoch : 75] loss: 0.528\n",
            "[Epoch : 76] loss: 0.525\n",
            "[Epoch : 77] loss: 0.523\n",
            "[Epoch : 78] loss: 0.520\n",
            "[Epoch : 79] loss: 0.517\n",
            "[Epoch : 80] loss: 0.515\n",
            "[Epoch : 81] loss: 0.512\n",
            "[Epoch : 82] loss: 0.510\n",
            "[Epoch : 83] loss: 0.507\n",
            "[Epoch : 84] loss: 0.505\n",
            "[Epoch : 85] loss: 0.502\n",
            "[Epoch : 86] loss: 0.500\n",
            "[Epoch : 87] loss: 0.497\n",
            "[Epoch : 88] loss: 0.494\n",
            "[Epoch : 89] loss: 0.492\n",
            "[Epoch : 90] loss: 0.489\n",
            "[Epoch : 91] loss: 0.486\n",
            "[Epoch : 92] loss: 0.484\n",
            "[Epoch : 93] loss: 0.481\n",
            "[Epoch : 94] loss: 0.479\n",
            "[Epoch : 95] loss: 0.476\n",
            "[Epoch : 96] loss: 0.474\n",
            "[Epoch : 97] loss: 0.471\n",
            "[Epoch : 98] loss: 0.469\n",
            "[Epoch : 99] loss: 0.466\n",
            "[Epoch : 100] loss: 0.463\n",
            "[Epoch : 101] loss: 0.461\n",
            "[Epoch : 102] loss: 0.458\n",
            "[Epoch : 103] loss: 0.456\n",
            "[Epoch : 104] loss: 0.453\n",
            "[Epoch : 105] loss: 0.451\n",
            "[Epoch : 106] loss: 0.448\n",
            "[Epoch : 107] loss: 0.445\n",
            "[Epoch : 108] loss: 0.443\n",
            "[Epoch : 109] loss: 0.440\n",
            "[Epoch : 110] loss: 0.438\n",
            "[Epoch : 111] loss: 0.435\n",
            "[Epoch : 112] loss: 0.433\n",
            "[Epoch : 113] loss: 0.430\n",
            "[Epoch : 114] loss: 0.428\n",
            "[Epoch : 115] loss: 0.425\n",
            "[Epoch : 116] loss: 0.423\n",
            "[Epoch : 117] loss: 0.420\n",
            "[Epoch : 118] loss: 0.417\n",
            "[Epoch : 119] loss: 0.415\n",
            "[Epoch : 120] loss: 0.412\n",
            "[Epoch : 121] loss: 0.410\n",
            "[Epoch : 122] loss: 0.407\n",
            "[Epoch : 123] loss: 0.405\n",
            "[Epoch : 124] loss: 0.402\n",
            "[Epoch : 125] loss: 0.400\n",
            "[Epoch : 126] loss: 0.398\n",
            "[Epoch : 127] loss: 0.395\n",
            "[Epoch : 128] loss: 0.393\n",
            "[Epoch : 129] loss: 0.390\n",
            "[Epoch : 130] loss: 0.388\n",
            "[Epoch : 131] loss: 0.385\n",
            "[Epoch : 132] loss: 0.383\n",
            "[Epoch : 133] loss: 0.380\n",
            "[Epoch : 134] loss: 0.378\n",
            "[Epoch : 135] loss: 0.375\n",
            "[Epoch : 136] loss: 0.373\n",
            "[Epoch : 137] loss: 0.371\n",
            "[Epoch : 138] loss: 0.368\n",
            "[Epoch : 139] loss: 0.366\n",
            "[Epoch : 140] loss: 0.364\n",
            "[Epoch : 141] loss: 0.361\n",
            "[Epoch : 142] loss: 0.359\n",
            "[Epoch : 143] loss: 0.356\n",
            "[Epoch : 144] loss: 0.354\n",
            "[Epoch : 145] loss: 0.352\n",
            "[Epoch : 146] loss: 0.349\n",
            "[Epoch : 147] loss: 0.347\n",
            "[Epoch : 148] loss: 0.344\n",
            "[Epoch : 149] loss: 0.342\n",
            "[Epoch : 150] loss: 0.340\n",
            "[Epoch : 151] loss: 0.338\n",
            "[Epoch : 152] loss: 0.335\n",
            "[Epoch : 153] loss: 0.333\n",
            "[Epoch : 154] loss: 0.331\n",
            "[Epoch : 155] loss: 0.328\n",
            "[Epoch : 156] loss: 0.326\n",
            "[Epoch : 157] loss: 0.324\n",
            "[Epoch : 158] loss: 0.322\n",
            "[Epoch : 159] loss: 0.319\n",
            "[Epoch : 160] loss: 0.317\n",
            "[Epoch : 161] loss: 0.315\n",
            "[Epoch : 162] loss: 0.313\n",
            "[Epoch : 163] loss: 0.311\n",
            "[Epoch : 164] loss: 0.308\n",
            "[Epoch : 165] loss: 0.306\n",
            "[Epoch : 166] loss: 0.304\n",
            "[Epoch : 167] loss: 0.302\n",
            "[Epoch : 168] loss: 0.300\n",
            "[Epoch : 169] loss: 0.298\n",
            "[Epoch : 170] loss: 0.295\n",
            "[Epoch : 171] loss: 0.293\n",
            "[Epoch : 172] loss: 0.291\n",
            "[Epoch : 173] loss: 0.289\n",
            "[Epoch : 174] loss: 0.287\n",
            "[Epoch : 175] loss: 0.285\n",
            "[Epoch : 176] loss: 0.283\n",
            "[Epoch : 177] loss: 0.281\n",
            "[Epoch : 178] loss: 0.279\n",
            "[Epoch : 179] loss: 0.277\n",
            "[Epoch : 180] loss: 0.275\n",
            "[Epoch : 181] loss: 0.273\n",
            "[Epoch : 182] loss: 0.271\n",
            "[Epoch : 183] loss: 0.269\n",
            "[Epoch : 184] loss: 0.267\n",
            "[Epoch : 185] loss: 0.265\n",
            "[Epoch : 186] loss: 0.263\n",
            "[Epoch : 187] loss: 0.261\n",
            "[Epoch : 188] loss: 0.259\n",
            "[Epoch : 189] loss: 0.257\n",
            "[Epoch : 190] loss: 0.255\n",
            "[Epoch : 191] loss: 0.253\n",
            "[Epoch : 192] loss: 0.251\n",
            "[Epoch : 193] loss: 0.249\n",
            "[Epoch : 194] loss: 0.248\n",
            "[Epoch : 195] loss: 0.246\n",
            "[Epoch : 196] loss: 0.244\n",
            "[Epoch : 197] loss: 0.242\n",
            "[Epoch : 198] loss: 0.240\n",
            "[Epoch : 199] loss: 0.238\n",
            "[Epoch : 200] loss: 0.237\n",
            "Finished Training\n"
          ]
        }
      ]
    },
    {
      "cell_type": "code",
      "metadata": {
        "colab": {
          "base_uri": "https://localhost:8080/",
          "height": 284
        },
        "id": "nfzc13qsPST6",
        "outputId": "b7d62516-7ffa-4c17-ee6f-632834e108b2"
      },
      "source": [
        "plt.plot(tr_loss)"
      ],
      "execution_count": 349,
      "outputs": [
        {
          "output_type": "execute_result",
          "data": {
            "text/plain": [
              "[<matplotlib.lines.Line2D at 0x7f66e4f93190>]"
            ]
          },
          "metadata": {},
          "execution_count": 349
        },
        {
          "output_type": "display_data",
          "data": {
            "image/png": "[encoded data removed]",
            "text/plain": [
              "<Figure size 432x288 with 1 Axes>"
            ]
          },
          "metadata": {
            "needs_background": "light"
          }
        }
      ]
    },
    {
      "cell_type": "code",
      "metadata": {
        "colab": {
          "base_uri": "https://localhost:8080/"
        },
        "id": "uORwiHXMPU7P",
        "outputId": "977b3c74-ee06-4ae9-ee23-3602746d3a98"
      },
      "source": [
        "correct = 0\n",
        "total = 0\n",
        "count = 0\n",
        "flag = 1\n",
        "\n",
        "with torch.no_grad():\n",
        "  for data in train_loader:\n",
        "    inputs, labels = data\n",
        "    inputs = inputs.double()\n",
        "    inputs, labels  = inputs.to(\"cuda\"),labels.to(\"cuda\")\n",
        "\n",
        "    outputs = classify(inputs)\n",
        "\n",
        "    _, predicted = torch.max(outputs.data, 1)\n",
        "\n",
        "    total += labels.size(0)\n",
        "    correct += (predicted == labels).sum().item()\n",
        "\n",
        "print('Accuracy of the network on the %d train images: %f %%' % ( desired_num , 100 * correct / total))\n",
        "print(\"total correct\", correct)\n",
        "print(\"total train set images\", total)"
      ],
      "execution_count": 350,
      "outputs": [
        {
          "output_type": "stream",
          "name": "stdout",
          "text": [
            "Accuracy of the network on the 500 train images: 97.400000 %\n",
            "total correct 487\n",
            "total train set images 500\n"
          ]
        }
      ]
    },
    {
      "cell_type": "code",
      "metadata": {
        "colab": {
          "base_uri": "https://localhost:8080/"
        },
        "id": "YqPjpP3EPWQK",
        "outputId": "4373bbec-2f37-4afb-dced-7ed3ab15ca27"
      },
      "source": [
        "correct = 0\n",
        "total = 0\n",
        "count = 0\n",
        "flag = 1\n",
        "\n",
        "with torch.no_grad():\n",
        "  for data in test_loader:\n",
        "    inputs, labels = data\n",
        "    inputs = inputs.double()\n",
        "    inputs, labels  = inputs.to(\"cuda\"),labels.to(\"cuda\")\n",
        "\n",
        "    outputs = classify(inputs)\n",
        "\n",
        "    _, predicted = torch.max(outputs.data, 1)\n",
        "\n",
        "    total += labels.size(0)\n",
        "    correct += (predicted == labels).sum().item()\n",
        "\n",
        "print('Accuracy of the network on the %d train images: %f %%' % ( 10000 , 100 * correct / total))\n",
        "print(\"total correct\", correct)\n",
        "print(\"total test set images\", total)"
      ],
      "execution_count": 351,
      "outputs": [
        {
          "output_type": "stream",
          "name": "stdout",
          "text": [
            "Accuracy of the network on the 10000 train images: 86.570000 %\n",
            "total correct 8657\n",
            "total test set images 10000\n"
          ]
        }
      ]
    },
    {
      "cell_type": "code",
      "metadata": {
        "id": "c6wGSifzPXzx"
      },
      "source": [
        ""
      ],
      "execution_count": 351,
      "outputs": []
    }
  ]
}