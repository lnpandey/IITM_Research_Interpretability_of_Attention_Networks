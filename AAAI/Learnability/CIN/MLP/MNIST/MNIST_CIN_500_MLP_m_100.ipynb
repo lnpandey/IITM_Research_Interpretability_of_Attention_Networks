{
  "nbformat": 4,
  "nbformat_minor": 0,
  "metadata": {
    "accelerator": "GPU",
    "colab": {
      "name": "MNIST_CIN_1k_MLP_m_5.ipynb",
      "provenance": [],
      "collapsed_sections": [],
      "toc_visible": true,
      "machine_shape": "hm"
    },
    "kernelspec": {
      "display_name": "Python 3",
      "language": "python",
      "name": "python3"
    },
    "language_info": {
      "codemirror_mode": {
        "name": "ipython",
        "version": 3
      },
      "file_extension": ".py",
      "mimetype": "text/x-python",
      "name": "python",
      "nbconvert_exporter": "python",
      "pygments_lexer": "ipython3",
      "version": "3.6.5"
    }
  },
  "cells": [
    {
      "cell_type": "code",
      "metadata": {
        "id": "JSjG64ra4aFu"
      },
      "source": [
        "# from google.colab import drive\n",
        "# drive.mount('/content/drive')"
      ],
      "execution_count": 262,
      "outputs": []
    },
    {
      "cell_type": "code",
      "metadata": {
        "id": "3uDWznlVHuI6"
      },
      "source": [
        "# path = \"/content/drive/MyDrive/Research/cods_comad_plots/sdc_task/mnist/\""
      ],
      "execution_count": 263,
      "outputs": []
    },
    {
      "cell_type": "code",
      "metadata": {
        "id": "jIzYDQ-xN0Qj"
      },
      "source": [
        "m = 100\n",
        "desired_num = 500"
      ],
      "execution_count": 264,
      "outputs": []
    },
    {
      "cell_type": "code",
      "metadata": {
        "id": "V8-7SARDZErK"
      },
      "source": [
        "import torch.nn as nn\n",
        "import torch.nn.functional as F\n",
        "\n",
        "import pandas as pd\n",
        "import numpy as np\n",
        "import matplotlib.pyplot as plt\n",
        "\n",
        "import torch\n",
        "import torchvision\n",
        "import torchvision.transforms as transforms\n",
        "from torch.utils.data import Dataset, DataLoader\n",
        "from torchvision import transforms, utils\n",
        "\n",
        "from matplotlib import pyplot as plt\n",
        "\n",
        "import copy\n",
        "\n",
        "# Ignore warnings\n",
        "import warnings\n",
        "warnings.filterwarnings(\"ignore\")\n",
        "\n",
        "torch.backends.cudnn.deterministic = True\n",
        "torch.backends.cudnn.benchmark = False\n"
      ],
      "execution_count": 265,
      "outputs": []
    },
    {
      "cell_type": "code",
      "metadata": {
        "id": "acRFqJNrZErV"
      },
      "source": [
        "transform = transforms.Compose(\n",
        "    [transforms.ToTensor(),\n",
        "     transforms.Normalize((0.5), (0.5))])\n",
        "\n",
        "trainset = torchvision.datasets.MNIST(root='./data', train=True, download=True, transform=transform)\n",
        "\n",
        "\n",
        "testset = torchvision.datasets.MNIST(root='./data', train=False, download=True, transform=transform)"
      ],
      "execution_count": 266,
      "outputs": []
    },
    {
      "cell_type": "code",
      "metadata": {
        "id": "gh5DXuAV1tp5",
        "colab": {
          "base_uri": "https://localhost:8080/"
        },
        "outputId": "cb83bff7-274c-43ed-9218-3cafc94ff5ff"
      },
      "source": [
        "classes = ('zero','one','two','three','four','five','six','seven','eight','nine')\n",
        "\n",
        "foreground_classes = {'zero','one'}\n",
        "fg_used = '01'\n",
        "fg1, fg2 = 0,1\n",
        "\n",
        "\n",
        "all_classes = {'zero','one','two','three','four','five','six','seven','eight','nine'}\n",
        "background_classes = all_classes - foreground_classes\n",
        "background_classes"
      ],
      "execution_count": 267,
      "outputs": [
        {
          "output_type": "execute_result",
          "data": {
            "text/plain": [
              "{'eight', 'five', 'four', 'nine', 'seven', 'six', 'three', 'two'}"
            ]
          },
          "metadata": {},
          "execution_count": 267
        }
      ]
    },
    {
      "cell_type": "code",
      "metadata": {
        "id": "Xbr_H78mp_Of"
      },
      "source": [
        "trainloader = torch.utils.data.DataLoader(trainset, batch_size=10, shuffle = False)\n",
        "testloader = torch.utils.data.DataLoader(testset, batch_size=10, shuffle = False)"
      ],
      "execution_count": 268,
      "outputs": []
    },
    {
      "cell_type": "code",
      "metadata": {
        "id": "V_JUhwCeZErk"
      },
      "source": [
        "dataiter = iter(trainloader)\n",
        "background_data=[]\n",
        "background_label=[]\n",
        "foreground_data=[]\n",
        "foreground_label=[]\n",
        "batch_size=10\n",
        "\n",
        "for i in range(6000):\n",
        "  images, labels = dataiter.next()\n",
        "  for j in range(batch_size):\n",
        "    if(classes[labels[j]] in background_classes):\n",
        "      img = images[j].tolist()\n",
        "      background_data.append(img)\n",
        "      background_label.append(labels[j])\n",
        "    else:\n",
        "      img = images[j].tolist()\n",
        "      foreground_data.append(img)\n",
        "      foreground_label.append(labels[j])\n",
        "            \n",
        "foreground_data = torch.tensor(foreground_data)\n",
        "foreground_label = torch.tensor(foreground_label)\n",
        "background_data = torch.tensor(background_data)\n",
        "background_label = torch.tensor(background_label)"
      ],
      "execution_count": 269,
      "outputs": []
    },
    {
      "cell_type": "code",
      "metadata": {
        "id": "iyyWx5g58erM"
      },
      "source": [
        "def imshow(img):\n",
        "  img = img / 2 + 0.5     # unnormalize\n",
        "  npimg = img#.numpy()\n",
        "  plt.imshow(np.reshape(npimg, (28,28)))\n",
        "  plt.show()"
      ],
      "execution_count": 270,
      "outputs": []
    },
    {
      "cell_type": "code",
      "metadata": {
        "colab": {
          "base_uri": "https://localhost:8080/"
        },
        "id": "U5w9S6xb6EFl",
        "outputId": "6070de7d-a509-47e0-b47a-028ce630bb2d"
      },
      "source": [
        "foreground_data.shape, foreground_label.shape, background_data.shape, background_label.shape"
      ],
      "execution_count": 271,
      "outputs": [
        {
          "output_type": "execute_result",
          "data": {
            "text/plain": [
              "(torch.Size([12665, 1, 28, 28]),\n",
              " torch.Size([12665]),\n",
              " torch.Size([47335, 1, 28, 28]),\n",
              " torch.Size([47335]))"
            ]
          },
          "metadata": {},
          "execution_count": 271
        }
      ]
    },
    {
      "cell_type": "code",
      "metadata": {
        "id": "IRd6EpWM6Abq"
      },
      "source": [
        "val, idx = torch.max(background_data, dim=0, keepdims= True,)\n",
        "# torch.abs(val)"
      ],
      "execution_count": 272,
      "outputs": []
    },
    {
      "cell_type": "code",
      "metadata": {
        "id": "Sly62nHh6VJy"
      },
      "source": [
        "mean_bg = torch.mean(background_data, dim=0, keepdims= True)\n",
        "std_bg, _ = torch.max(background_data, dim=0, keepdims= True)"
      ],
      "execution_count": 273,
      "outputs": []
    },
    {
      "cell_type": "code",
      "metadata": {
        "colab": {
          "base_uri": "https://localhost:8080/"
        },
        "id": "K89Qj57m6axj",
        "outputId": "1d009c0b-469b-479d-b12f-da27acba90d8"
      },
      "source": [
        "mean_bg.shape, std_bg.shape"
      ],
      "execution_count": 274,
      "outputs": [
        {
          "output_type": "execute_result",
          "data": {
            "text/plain": [
              "(torch.Size([1, 1, 28, 28]), torch.Size([1, 1, 28, 28]))"
            ]
          },
          "metadata": {},
          "execution_count": 274
        }
      ]
    },
    {
      "cell_type": "code",
      "metadata": {
        "id": "wGVjRbqZ6lzV"
      },
      "source": [
        "foreground_data = (foreground_data - mean_bg) / std_bg\n",
        "background_data = (background_data - mean_bg) / torch.abs(std_bg)"
      ],
      "execution_count": 275,
      "outputs": []
    },
    {
      "cell_type": "code",
      "metadata": {
        "colab": {
          "base_uri": "https://localhost:8080/"
        },
        "id": "yxZVq5OW6o3L",
        "outputId": "f5f4f1fe-01b0-4282-9b39-66d0d21971c4"
      },
      "source": [
        "foreground_data.shape, foreground_label.shape, background_data.shape, background_label.shape"
      ],
      "execution_count": 276,
      "outputs": [
        {
          "output_type": "execute_result",
          "data": {
            "text/plain": [
              "(torch.Size([12665, 1, 28, 28]),\n",
              " torch.Size([12665]),\n",
              " torch.Size([47335, 1, 28, 28]),\n",
              " torch.Size([47335]))"
            ]
          },
          "metadata": {},
          "execution_count": 276
        }
      ]
    },
    {
      "cell_type": "code",
      "metadata": {
        "colab": {
          "base_uri": "https://localhost:8080/"
        },
        "id": "pTrGcqI7GsBA",
        "outputId": "d701a781-a132-403a-cbfe-f854bb47fe04"
      },
      "source": [
        "torch.sum(torch.isnan(foreground_data)), torch.sum(torch.isnan(background_data))"
      ],
      "execution_count": 277,
      "outputs": [
        {
          "output_type": "execute_result",
          "data": {
            "text/plain": [
              "(tensor(0), tensor(0))"
            ]
          },
          "metadata": {},
          "execution_count": 277
        }
      ]
    },
    {
      "cell_type": "code",
      "metadata": {
        "colab": {
          "base_uri": "https://localhost:8080/",
          "height": 265
        },
        "id": "fIqpbILY-BiG",
        "outputId": "527c2d84-e8fd-46fc-a4d2-5a78854ce9b6"
      },
      "source": [
        "imshow(foreground_data[0])"
      ],
      "execution_count": 278,
      "outputs": [
        {
          "output_type": "display_data",
          "data": {
            "image/png": "[encoded data removed]",
            "text/plain": [
              "<Figure size 432x288 with 1 Axes>"
            ]
          },
          "metadata": {
            "needs_background": "light"
          }
        }
      ]
    },
    {
      "cell_type": "code",
      "metadata": {
        "colab": {
          "base_uri": "https://localhost:8080/",
          "height": 265
        },
        "id": "tRvTvlVo98xz",
        "outputId": "a56e5d6b-811d-4670-c837-77d15837ee91"
      },
      "source": [
        "imshow(background_data[0])"
      ],
      "execution_count": 279,
      "outputs": [
        {
          "output_type": "display_data",
          "data": {
            "image/png": "[encoded data removed]",
            "text/plain": [
              "<Figure size 432x288 with 1 Axes>"
            ]
          },
          "metadata": {
            "needs_background": "light"
          }
        }
      ]
    },
    {
      "cell_type": "markdown",
      "metadata": {
        "id": "ccO3wCVRNrxe"
      },
      "source": [
        "## generating CIN train and test data"
      ]
    },
    {
      "cell_type": "code",
      "metadata": {
        "colab": {
          "base_uri": "https://localhost:8080/"
        },
        "id": "30usvva6N0Nq",
        "outputId": "f7cd76db-8534-49e6-864f-9288bce9cb09"
      },
      "source": [
        "np.random.seed(0)\n",
        "bg_idx = np.random.randint(0,47335,m-1)\n",
        "fg_idx = np.random.randint(0,12665)\n",
        "bg_idx, fg_idx"
      ],
      "execution_count": 280,
      "outputs": [
        {
          "output_type": "execute_result",
          "data": {
            "text/plain": [
              "(array([ 2732, 43567, 42613, 45891, 21243, 30403, 32103, 41993, 20757,\n",
              "        46884, 14935, 15430, 39512, 14650, 17089, 32230, 18983, 43095,\n",
              "        24152, 35665, 16921, 27469, 38984,  6921, 38804,  2163,  5072,\n",
              "        37619,  7877, 18430,  1871,  7599,  2496, 24675, 42968, 31921,\n",
              "        33523,   797,  3219, 15246, 24999, 16321, 19129, 41504, 18676,\n",
              "        31230, 11723, 43890, 17591, 43136, 26752, 23605,  6021, 20006,\n",
              "         3560, 25332, 31055, 45444, 46522, 21368, 20737, 28647, 26681,\n",
              "        14627, 12134, 41390, 20571,  9781, 19340, 27257, 16298, 12372,\n",
              "         4420, 45830, 39876, 17455, 14324, 38019,  7012,  9396, 47080,\n",
              "         3918,  9359, 44259, 23482, 15127, 43727, 35725, 37237, 14165,\n",
              "         8752, 42565, 14505,  5795, 23647, 40133, 28254, 41216, 36530]), 10146)"
            ]
          },
          "metadata": {},
          "execution_count": 280
        }
      ]
    },
    {
      "cell_type": "code",
      "metadata": {
        "id": "Q3ryiEQ5N0GY"
      },
      "source": [
        "# for i in background_data[bg_idx]:\n",
        "#   imshow(i)"
      ],
      "execution_count": 281,
      "outputs": []
    },
    {
      "cell_type": "code",
      "metadata": {
        "colab": {
          "base_uri": "https://localhost:8080/",
          "height": 265
        },
        "id": "ZtUC0dNdN0Dz",
        "outputId": "48bca8c1-0820-4627-f82a-252d0cba1800"
      },
      "source": [
        "imshow(torch.sum(background_data[bg_idx], axis = 0))"
      ],
      "execution_count": 282,
      "outputs": [
        {
          "output_type": "display_data",
          "data": {
            "image/png": "[encoded data removed]",
            "text/plain": [
              "<Figure size 432x288 with 1 Axes>"
            ]
          },
          "metadata": {
            "needs_background": "light"
          }
        }
      ]
    },
    {
      "cell_type": "code",
      "metadata": {
        "colab": {
          "base_uri": "https://localhost:8080/",
          "height": 265
        },
        "id": "UY1IevjcN0BL",
        "outputId": "5134b85c-dc55-4fef-a4b2-2534c49c3875"
      },
      "source": [
        "imshow(foreground_data[fg_idx])"
      ],
      "execution_count": 283,
      "outputs": [
        {
          "output_type": "display_data",
          "data": {
            "image/png": "[encoded data removed]",
            "text/plain": [
              "<Figure size 432x288 with 1 Axes>"
            ]
          },
          "metadata": {
            "needs_background": "light"
          }
        }
      ]
    },
    {
      "cell_type": "code",
      "metadata": {
        "colab": {
          "base_uri": "https://localhost:8080/"
        },
        "id": "e6niBULUNz-k",
        "outputId": "83398574-7c5d-4965-8f70-488645bc4986"
      },
      "source": [
        "tr_data = ( torch.sum(background_data[bg_idx], axis = 0) + foreground_data[fg_idx] )/m\n",
        "tr_data.shape"
      ],
      "execution_count": 284,
      "outputs": [
        {
          "output_type": "execute_result",
          "data": {
            "text/plain": [
              "torch.Size([1, 28, 28])"
            ]
          },
          "metadata": {},
          "execution_count": 284
        }
      ]
    },
    {
      "cell_type": "code",
      "metadata": {
        "colab": {
          "base_uri": "https://localhost:8080/",
          "height": 265
        },
        "id": "SSLaezrFNz7r",
        "outputId": "8313a968-9b4b-4380-aaea-106c2a7d5835"
      },
      "source": [
        "imshow(tr_data)"
      ],
      "execution_count": 285,
      "outputs": [
        {
          "output_type": "display_data",
          "data": {
            "image/png": "[encoded data removed]",
            "text/plain": [
              "<Figure size 432x288 with 1 Axes>"
            ]
          },
          "metadata": {
            "needs_background": "light"
          }
        }
      ]
    },
    {
      "cell_type": "code",
      "metadata": {
        "colab": {
          "base_uri": "https://localhost:8080/"
        },
        "id": "aNZSuYqiOC6d",
        "outputId": "b6eeb2c5-3a1d-4e7f-c820-1aa656761707"
      },
      "source": [
        "foreground_label[fg_idx]"
      ],
      "execution_count": 286,
      "outputs": [
        {
          "output_type": "execute_result",
          "data": {
            "text/plain": [
              "tensor(1)"
            ]
          },
          "metadata": {},
          "execution_count": 286
        }
      ]
    },
    {
      "cell_type": "code",
      "metadata": {
        "id": "vD1bssSmOC3k"
      },
      "source": [
        "train_images =[]      # list of mosaic images, each mosaic image is saved as list of 9 images             \n",
        "train_label=[]                # label of mosaic image = foreground class present in that mosaic\n",
        "\n",
        "for i in range(desired_num):\n",
        "  np.random.seed(i)\n",
        "  bg_idx = np.random.randint(0,47335,m-1)\n",
        "  fg_idx = np.random.randint(0,12665)\n",
        "\n",
        "  tr_data = ( torch.sum(background_data[bg_idx], axis = 0) + foreground_data[fg_idx] ) / m\n",
        "  label = (foreground_label[fg_idx].item())\n",
        "\n",
        "  train_images.append(tr_data)\n",
        "  train_label.append(label)\n"
      ],
      "execution_count": 287,
      "outputs": []
    },
    {
      "cell_type": "code",
      "metadata": {
        "colab": {
          "base_uri": "https://localhost:8080/"
        },
        "id": "CkoRVhHSOC09",
        "outputId": "6bb20faa-3145-49ad-bd15-b3ab8322ecf5"
      },
      "source": [
        "train_images = torch.stack(train_images)\n",
        "train_images.shape, len(train_label)"
      ],
      "execution_count": 288,
      "outputs": [
        {
          "output_type": "execute_result",
          "data": {
            "text/plain": [
              "(torch.Size([500, 1, 28, 28]), 500)"
            ]
          },
          "metadata": {},
          "execution_count": 288
        }
      ]
    },
    {
      "cell_type": "code",
      "metadata": {
        "colab": {
          "base_uri": "https://localhost:8080/",
          "height": 265
        },
        "id": "KrJqFMoEOCyK",
        "outputId": "5f5afdad-4918-4769-d4d8-c615ba0084fd"
      },
      "source": [
        "imshow(train_images[0])"
      ],
      "execution_count": 289,
      "outputs": [
        {
          "output_type": "display_data",
          "data": {
            "image/png": "[encoded data removed]",
            "text/plain": [
              "<Figure size 432x288 with 1 Axes>"
            ]
          },
          "metadata": {
            "needs_background": "light"
          }
        }
      ]
    },
    {
      "cell_type": "code",
      "metadata": {
        "id": "cv6LZJMoOeb8"
      },
      "source": [
        "test_images =[]      # list of mosaic images, each mosaic image is saved as list of 9 images             \n",
        "test_label=[]                # label of mosaic image = foreground class present in that mosaic\n",
        "\n",
        "for i in range(10000):\n",
        "  np.random.seed(i)\n",
        "  fg_idx = np.random.randint(0,12665)\n",
        "\n",
        "  tr_data = ( foreground_data[fg_idx] ) / m\n",
        "  label = (foreground_label[fg_idx].item())\n",
        "\n",
        "  test_images.append(tr_data)\n",
        "  test_label.append(label)\n"
      ],
      "execution_count": 290,
      "outputs": []
    },
    {
      "cell_type": "code",
      "metadata": {
        "colab": {
          "base_uri": "https://localhost:8080/"
        },
        "id": "ZBuH3ayNOeZU",
        "outputId": "c2e86f0d-4540-42ca-d6d2-c3b3ffede64f"
      },
      "source": [
        "test_images = torch.stack(test_images)\n",
        "test_images.shape, len(test_label)"
      ],
      "execution_count": 291,
      "outputs": [
        {
          "output_type": "execute_result",
          "data": {
            "text/plain": [
              "(torch.Size([10000, 1, 28, 28]), 10000)"
            ]
          },
          "metadata": {},
          "execution_count": 291
        }
      ]
    },
    {
      "cell_type": "code",
      "metadata": {
        "colab": {
          "base_uri": "https://localhost:8080/",
          "height": 265
        },
        "id": "wv_aBpW8OeWs",
        "outputId": "8c16ed8b-d284-4546-888e-9f0ad3009a7c"
      },
      "source": [
        "imshow(test_images[0])"
      ],
      "execution_count": 292,
      "outputs": [
        {
          "output_type": "display_data",
          "data": {
            "image/png": "[encoded data removed]",
            "text/plain": [
              "<Figure size 432x288 with 1 Axes>"
            ]
          },
          "metadata": {
            "needs_background": "light"
          }
        }
      ]
    },
    {
      "cell_type": "code",
      "metadata": {
        "colab": {
          "base_uri": "https://localhost:8080/"
        },
        "id": "7mvKwVWNOeTi",
        "outputId": "bfe660ab-d876-4a88-f5ea-e1f7e58a4009"
      },
      "source": [
        "torch.sum(torch.isnan(train_images)), torch.sum(torch.isnan(test_images))"
      ],
      "execution_count": 293,
      "outputs": [
        {
          "output_type": "execute_result",
          "data": {
            "text/plain": [
              "(tensor(0), tensor(0))"
            ]
          },
          "metadata": {},
          "execution_count": 293
        }
      ]
    },
    {
      "cell_type": "code",
      "metadata": {
        "colab": {
          "base_uri": "https://localhost:8080/"
        },
        "id": "919oQptjOosG",
        "outputId": "ce4be2f6-e012-4d42-d8f7-362b51364b1c"
      },
      "source": [
        "np.unique(train_label), np.unique(test_label)"
      ],
      "execution_count": 294,
      "outputs": [
        {
          "output_type": "execute_result",
          "data": {
            "text/plain": [
              "(array([0, 1]), array([0, 1]))"
            ]
          },
          "metadata": {},
          "execution_count": 294
        }
      ]
    },
    {
      "cell_type": "markdown",
      "metadata": {
        "id": "dl3dzlPPOsDT"
      },
      "source": [
        "## creating dataloader"
      ]
    },
    {
      "cell_type": "code",
      "metadata": {
        "id": "hX35HdXoOoot"
      },
      "source": [
        "class CIN_Dataset(Dataset):\n",
        "  \"\"\"CIN_Dataset dataset.\"\"\"\n",
        "\n",
        "  def __init__(self, list_of_images, labels):\n",
        "    \"\"\"\n",
        "      Args:\n",
        "        csv_file (string): Path to the csv file with annotations.\n",
        "        root_dir (string): Directory with all the images.\n",
        "        transform (callable, optional): Optional transform to be applied\n",
        "            on a sample.\n",
        "    \"\"\"\n",
        "    self.image = list_of_images\n",
        "    self.label = labels\n",
        "\n",
        "  def __len__(self):\n",
        "    return len(self.label)\n",
        "\n",
        "  def __getitem__(self, idx):\n",
        "    return self.image[idx] , self.label[idx]\n",
        "\n"
      ],
      "execution_count": 295,
      "outputs": []
    },
    {
      "cell_type": "code",
      "metadata": {
        "id": "Y44ojnvZOolr"
      },
      "source": [
        "batch = 250\n",
        "train_data = CIN_Dataset(train_images, train_label)\n",
        "train_loader = DataLoader( train_data, batch_size= batch , shuffle=True)\n",
        "\n",
        "test_data = CIN_Dataset( test_images , test_label)\n",
        "test_loader = DataLoader( test_data, batch_size= batch , shuffle=False)"
      ],
      "execution_count": 296,
      "outputs": []
    },
    {
      "cell_type": "code",
      "metadata": {
        "colab": {
          "base_uri": "https://localhost:8080/"
        },
        "id": "dLJ5YSOOO6s6",
        "outputId": "fe2752e1-8cef-4b7b-cec0-525b0d20fceb"
      },
      "source": [
        "train_loader.dataset.image.shape, test_loader.dataset.image.shape"
      ],
      "execution_count": 297,
      "outputs": [
        {
          "output_type": "execute_result",
          "data": {
            "text/plain": [
              "(torch.Size([500, 1, 28, 28]), torch.Size([10000, 1, 28, 28]))"
            ]
          },
          "metadata": {},
          "execution_count": 297
        }
      ]
    },
    {
      "cell_type": "markdown",
      "metadata": {
        "id": "z0oF6s0dO7zy"
      },
      "source": [
        "## model"
      ]
    },
    {
      "cell_type": "code",
      "metadata": {
        "id": "KoP6hoBqNJxX"
      },
      "source": [
        "class Classification(nn.Module):\n",
        "  def __init__(self):\n",
        "    super(Classification, self).__init__()\n",
        "    self.fc1 = nn.Linear(28*28, 50)\n",
        "    self.fc2 = nn.Linear(50, 2)\n",
        "    \n",
        "    torch.nn.init.xavier_normal_(self.fc1.weight)\n",
        "    torch.nn.init.zeros_(self.fc1.bias)\n",
        "\n",
        "    torch.nn.init.xavier_normal_(self.fc2.weight)\n",
        "    torch.nn.init.zeros_(self.fc2.bias)\n",
        "\n",
        "\n",
        "  def forward(self, x):\n",
        "    x = x.view(-1, 28*28)\n",
        "    x = F.relu(self.fc1(x))\n",
        "    x = self.fc2(x)\n",
        "    return x"
      ],
      "execution_count": 298,
      "outputs": []
    },
    {
      "cell_type": "markdown",
      "metadata": {
        "id": "KwP2xvB7PBFK"
      },
      "source": [
        "## training"
      ]
    },
    {
      "cell_type": "code",
      "metadata": {
        "id": "uPYplUGazU9I"
      },
      "source": [
        "torch.manual_seed(12)\n",
        "classify = Classification().double()\n",
        "classify = classify.to(\"cuda\")"
      ],
      "execution_count": 299,
      "outputs": []
    },
    {
      "cell_type": "code",
      "metadata": {
        "id": "n5g3geNJ5zEu"
      },
      "source": [
        "import torch.optim as optim\n",
        "criterion = nn.CrossEntropyLoss()\n",
        "optimizer_classify = optim.Adam(classify.parameters(), lr=0.001  ) #, momentum=0.9)"
      ],
      "execution_count": 300,
      "outputs": []
    },
    {
      "cell_type": "code",
      "metadata": {
        "id": "725MVVfLS3et",
        "colab": {
          "base_uri": "https://localhost:8080/"
        },
        "outputId": "99da5ce5-8c81-4004-8152-d525ec41f6c9"
      },
      "source": [
        "correct = 0\n",
        "total = 0\n",
        "count = 0\n",
        "flag = 1\n",
        "\n",
        "with torch.no_grad():\n",
        "  for data in train_loader:\n",
        "    inputs, labels = data\n",
        "    inputs = inputs.double()\n",
        "    inputs, labels  = inputs.to(\"cuda\"),labels.to(\"cuda\")\n",
        "\n",
        "    outputs = classify(inputs)\n",
        "\n",
        "    _, predicted = torch.max(outputs.data, 1)\n",
        "\n",
        "    total += labels.size(0)\n",
        "    correct += (predicted == labels).sum().item()\n",
        "\n",
        "print('Accuracy of the network on the %d train images: %f %%' % ( desired_num , 100 * correct / total))\n",
        "print(\"total correct\", correct)\n",
        "print(\"total train set images\", total)"
      ],
      "execution_count": 301,
      "outputs": [
        {
          "output_type": "stream",
          "name": "stdout",
          "text": [
            "Accuracy of the network on the 500 train images: 49.400000 %\n",
            "total correct 247\n",
            "total train set images 500\n"
          ]
        }
      ]
    },
    {
      "cell_type": "code",
      "metadata": {
        "colab": {
          "base_uri": "https://localhost:8080/"
        },
        "id": "iYTaJG0GPLA7",
        "outputId": "36999f0a-e627-4704-8dab-1e0771f0940d"
      },
      "source": [
        "correct = 0\n",
        "total = 0\n",
        "count = 0\n",
        "flag = 1\n",
        "\n",
        "with torch.no_grad():\n",
        "  for data in test_loader:\n",
        "    inputs, labels = data\n",
        "    inputs = inputs.double()\n",
        "    inputs, labels  = inputs.to(\"cuda\"),labels.to(\"cuda\")\n",
        "\n",
        "    outputs = classify(inputs)\n",
        "\n",
        "    _, predicted = torch.max(outputs.data, 1)\n",
        "\n",
        "    total += labels.size(0)\n",
        "    correct += (predicted == labels).sum().item()\n",
        "\n",
        "print('Accuracy of the network on the %d test images: %f %%' % ( 10000 , 100 * correct / total))\n",
        "print(\"total correct\", correct)\n",
        "print(\"total train set images\", total)"
      ],
      "execution_count": 302,
      "outputs": [
        {
          "output_type": "stream",
          "name": "stdout",
          "text": [
            "Accuracy of the network on the 10000 test images: 56.400000 %\n",
            "total correct 5640\n",
            "total train set images 10000\n"
          ]
        }
      ]
    },
    {
      "cell_type": "code",
      "metadata": {
        "colab": {
          "base_uri": "https://localhost:8080/"
        },
        "id": "LCWyTEIKPNlK",
        "outputId": "2b06ef55-79b0-4bcd-94e0-38ffbe62efbf"
      },
      "source": [
        "nos_epochs = 200\n",
        "tr_loss = []\n",
        "for epoch in range(nos_epochs):  # loop over the dataset multiple times\n",
        "\n",
        "  epoch_loss = []\n",
        "  cnt=0\n",
        "  iteration = desired_num // batch\n",
        "  running_loss = 0\n",
        "  \n",
        "  #training data set  \n",
        "  for i, data in  enumerate(train_loader):\n",
        "    inputs, labels = data\n",
        "    inputs = inputs.double()\n",
        "    inputs, labels  = inputs.to(\"cuda\"),labels.to(\"cuda\")\n",
        "    inputs = inputs.double()\n",
        "    # zero the parameter gradients\n",
        "    \n",
        "    optimizer_classify.zero_grad()\n",
        "\n",
        "    outputs = classify(inputs)\n",
        "\n",
        "    _, predicted = torch.max(outputs.data, 1)\n",
        "#     print(outputs)\n",
        "#     print(outputs.shape,labels.shape , torch.argmax(outputs, dim=1))\n",
        "\n",
        "    loss = criterion(outputs, labels) \n",
        "    loss.backward()\n",
        "\n",
        "    optimizer_classify.step()\n",
        "\n",
        "    running_loss += loss.item()\n",
        "    mini = 1\n",
        "    if cnt % mini == mini-1:    # print every 40 mini-batches\n",
        "      # print('[%d, %5d] loss: %.3f' %(epoch + 1, cnt + 1, running_loss / mini))\n",
        "      epoch_loss.append(running_loss/mini)\n",
        "      running_loss = 0.0\n",
        "    cnt=cnt+1\n",
        "\n",
        "  tr_loss.append(np.mean(epoch_loss))\n",
        "  if(np.mean(epoch_loss) <= 0.001):\n",
        "      break;\n",
        "  else:\n",
        "    print('[Epoch : %d] loss: %.3f' %(epoch + 1, np.mean(epoch_loss) ))\n",
        "    \n",
        "print('Finished Training')"
      ],
      "execution_count": 303,
      "outputs": [
        {
          "output_type": "stream",
          "name": "stdout",
          "text": [
            "[Epoch : 1] loss: 0.695\n",
            "[Epoch : 2] loss: 0.684\n",
            "[Epoch : 3] loss: 0.675\n",
            "[Epoch : 4] loss: 0.667\n",
            "[Epoch : 5] loss: 0.660\n",
            "[Epoch : 6] loss: 0.652\n",
            "[Epoch : 7] loss: 0.645\n",
            "[Epoch : 8] loss: 0.638\n",
            "[Epoch : 9] loss: 0.632\n",
            "[Epoch : 10] loss: 0.625\n",
            "[Epoch : 11] loss: 0.619\n",
            "[Epoch : 12] loss: 0.612\n",
            "[Epoch : 13] loss: 0.605\n",
            "[Epoch : 14] loss: 0.599\n",
            "[Epoch : 15] loss: 0.592\n",
            "[Epoch : 16] loss: 0.586\n",
            "[Epoch : 17] loss: 0.579\n",
            "[Epoch : 18] loss: 0.572\n",
            "[Epoch : 19] loss: 0.566\n",
            "[Epoch : 20] loss: 0.559\n",
            "[Epoch : 21] loss: 0.553\n",
            "[Epoch : 22] loss: 0.547\n",
            "[Epoch : 23] loss: 0.540\n",
            "[Epoch : 24] loss: 0.534\n",
            "[Epoch : 25] loss: 0.528\n",
            "[Epoch : 26] loss: 0.521\n",
            "[Epoch : 27] loss: 0.515\n",
            "[Epoch : 28] loss: 0.509\n",
            "[Epoch : 29] loss: 0.503\n",
            "[Epoch : 30] loss: 0.496\n",
            "[Epoch : 31] loss: 0.490\n",
            "[Epoch : 32] loss: 0.484\n",
            "[Epoch : 33] loss: 0.478\n",
            "[Epoch : 34] loss: 0.472\n",
            "[Epoch : 35] loss: 0.466\n",
            "[Epoch : 36] loss: 0.460\n",
            "[Epoch : 37] loss: 0.454\n",
            "[Epoch : 38] loss: 0.448\n",
            "[Epoch : 39] loss: 0.442\n",
            "[Epoch : 40] loss: 0.436\n",
            "[Epoch : 41] loss: 0.430\n",
            "[Epoch : 42] loss: 0.424\n",
            "[Epoch : 43] loss: 0.419\n",
            "[Epoch : 44] loss: 0.413\n",
            "[Epoch : 45] loss: 0.407\n",
            "[Epoch : 46] loss: 0.402\n",
            "[Epoch : 47] loss: 0.396\n",
            "[Epoch : 48] loss: 0.391\n",
            "[Epoch : 49] loss: 0.385\n",
            "[Epoch : 50] loss: 0.380\n",
            "[Epoch : 51] loss: 0.374\n",
            "[Epoch : 52] loss: 0.369\n",
            "[Epoch : 53] loss: 0.364\n",
            "[Epoch : 54] loss: 0.358\n",
            "[Epoch : 55] loss: 0.353\n",
            "[Epoch : 56] loss: 0.348\n",
            "[Epoch : 57] loss: 0.343\n",
            "[Epoch : 58] loss: 0.338\n",
            "[Epoch : 59] loss: 0.333\n",
            "[Epoch : 60] loss: 0.328\n",
            "[Epoch : 61] loss: 0.323\n",
            "[Epoch : 62] loss: 0.318\n",
            "[Epoch : 63] loss: 0.313\n",
            "[Epoch : 64] loss: 0.308\n",
            "[Epoch : 65] loss: 0.303\n",
            "[Epoch : 66] loss: 0.298\n",
            "[Epoch : 67] loss: 0.294\n",
            "[Epoch : 68] loss: 0.289\n",
            "[Epoch : 69] loss: 0.284\n",
            "[Epoch : 70] loss: 0.280\n",
            "[Epoch : 71] loss: 0.275\n",
            "[Epoch : 72] loss: 0.271\n",
            "[Epoch : 73] loss: 0.267\n",
            "[Epoch : 74] loss: 0.262\n",
            "[Epoch : 75] loss: 0.258\n",
            "[Epoch : 76] loss: 0.254\n",
            "[Epoch : 77] loss: 0.250\n",
            "[Epoch : 78] loss: 0.245\n",
            "[Epoch : 79] loss: 0.241\n",
            "[Epoch : 80] loss: 0.237\n",
            "[Epoch : 81] loss: 0.233\n",
            "[Epoch : 82] loss: 0.229\n",
            "[Epoch : 83] loss: 0.225\n",
            "[Epoch : 84] loss: 0.221\n",
            "[Epoch : 85] loss: 0.217\n",
            "[Epoch : 86] loss: 0.214\n",
            "[Epoch : 87] loss: 0.210\n",
            "[Epoch : 88] loss: 0.206\n",
            "[Epoch : 89] loss: 0.203\n",
            "[Epoch : 90] loss: 0.199\n",
            "[Epoch : 91] loss: 0.195\n",
            "[Epoch : 92] loss: 0.192\n",
            "[Epoch : 93] loss: 0.189\n",
            "[Epoch : 94] loss: 0.185\n",
            "[Epoch : 95] loss: 0.182\n",
            "[Epoch : 96] loss: 0.179\n",
            "[Epoch : 97] loss: 0.176\n",
            "[Epoch : 98] loss: 0.172\n",
            "[Epoch : 99] loss: 0.169\n",
            "[Epoch : 100] loss: 0.166\n",
            "[Epoch : 101] loss: 0.163\n",
            "[Epoch : 102] loss: 0.160\n",
            "[Epoch : 103] loss: 0.158\n",
            "[Epoch : 104] loss: 0.155\n",
            "[Epoch : 105] loss: 0.152\n",
            "[Epoch : 106] loss: 0.149\n",
            "[Epoch : 107] loss: 0.147\n",
            "[Epoch : 108] loss: 0.144\n",
            "[Epoch : 109] loss: 0.141\n",
            "[Epoch : 110] loss: 0.139\n",
            "[Epoch : 111] loss: 0.136\n",
            "[Epoch : 112] loss: 0.134\n",
            "[Epoch : 113] loss: 0.132\n",
            "[Epoch : 114] loss: 0.129\n",
            "[Epoch : 115] loss: 0.127\n",
            "[Epoch : 116] loss: 0.125\n",
            "[Epoch : 117] loss: 0.122\n",
            "[Epoch : 118] loss: 0.120\n",
            "[Epoch : 119] loss: 0.118\n",
            "[Epoch : 120] loss: 0.116\n",
            "[Epoch : 121] loss: 0.114\n",
            "[Epoch : 122] loss: 0.112\n",
            "[Epoch : 123] loss: 0.110\n",
            "[Epoch : 124] loss: 0.108\n",
            "[Epoch : 125] loss: 0.106\n",
            "[Epoch : 126] loss: 0.105\n",
            "[Epoch : 127] loss: 0.103\n",
            "[Epoch : 128] loss: 0.101\n",
            "[Epoch : 129] loss: 0.099\n",
            "[Epoch : 130] loss: 0.098\n",
            "[Epoch : 131] loss: 0.096\n",
            "[Epoch : 132] loss: 0.094\n",
            "[Epoch : 133] loss: 0.093\n",
            "[Epoch : 134] loss: 0.091\n",
            "[Epoch : 135] loss: 0.090\n",
            "[Epoch : 136] loss: 0.088\n",
            "[Epoch : 137] loss: 0.087\n",
            "[Epoch : 138] loss: 0.085\n",
            "[Epoch : 139] loss: 0.084\n",
            "[Epoch : 140] loss: 0.082\n",
            "[Epoch : 141] loss: 0.081\n",
            "[Epoch : 142] loss: 0.080\n",
            "[Epoch : 143] loss: 0.078\n",
            "[Epoch : 144] loss: 0.077\n",
            "[Epoch : 145] loss: 0.076\n",
            "[Epoch : 146] loss: 0.075\n",
            "[Epoch : 147] loss: 0.074\n",
            "[Epoch : 148] loss: 0.072\n",
            "[Epoch : 149] loss: 0.071\n",
            "[Epoch : 150] loss: 0.070\n",
            "[Epoch : 151] loss: 0.069\n",
            "[Epoch : 152] loss: 0.068\n",
            "[Epoch : 153] loss: 0.067\n",
            "[Epoch : 154] loss: 0.066\n",
            "[Epoch : 155] loss: 0.065\n",
            "[Epoch : 156] loss: 0.064\n",
            "[Epoch : 157] loss: 0.063\n",
            "[Epoch : 158] loss: 0.062\n",
            "[Epoch : 159] loss: 0.061\n",
            "[Epoch : 160] loss: 0.060\n",
            "[Epoch : 161] loss: 0.059\n",
            "[Epoch : 162] loss: 0.058\n",
            "[Epoch : 163] loss: 0.057\n",
            "[Epoch : 164] loss: 0.057\n",
            "[Epoch : 165] loss: 0.056\n",
            "[Epoch : 166] loss: 0.055\n",
            "[Epoch : 167] loss: 0.054\n",
            "[Epoch : 168] loss: 0.053\n",
            "[Epoch : 169] loss: 0.053\n",
            "[Epoch : 170] loss: 0.052\n",
            "[Epoch : 171] loss: 0.051\n",
            "[Epoch : 172] loss: 0.050\n",
            "[Epoch : 173] loss: 0.050\n",
            "[Epoch : 174] loss: 0.049\n",
            "[Epoch : 175] loss: 0.048\n",
            "[Epoch : 176] loss: 0.048\n",
            "[Epoch : 177] loss: 0.047\n",
            "[Epoch : 178] loss: 0.046\n",
            "[Epoch : 179] loss: 0.046\n",
            "[Epoch : 180] loss: 0.045\n",
            "[Epoch : 181] loss: 0.045\n",
            "[Epoch : 182] loss: 0.044\n",
            "[Epoch : 183] loss: 0.043\n",
            "[Epoch : 184] loss: 0.043\n",
            "[Epoch : 185] loss: 0.042\n",
            "[Epoch : 186] loss: 0.042\n",
            "[Epoch : 187] loss: 0.041\n",
            "[Epoch : 188] loss: 0.041\n",
            "[Epoch : 189] loss: 0.040\n",
            "[Epoch : 190] loss: 0.040\n",
            "[Epoch : 191] loss: 0.039\n",
            "[Epoch : 192] loss: 0.039\n",
            "[Epoch : 193] loss: 0.038\n",
            "[Epoch : 194] loss: 0.038\n",
            "[Epoch : 195] loss: 0.037\n",
            "[Epoch : 196] loss: 0.037\n",
            "[Epoch : 197] loss: 0.036\n",
            "[Epoch : 198] loss: 0.036\n",
            "[Epoch : 199] loss: 0.035\n",
            "[Epoch : 200] loss: 0.035\n",
            "Finished Training\n"
          ]
        }
      ]
    },
    {
      "cell_type": "code",
      "metadata": {
        "colab": {
          "base_uri": "https://localhost:8080/",
          "height": 284
        },
        "id": "nfzc13qsPST6",
        "outputId": "ec955a90-682a-4c65-a907-886724434587"
      },
      "source": [
        "plt.plot(tr_loss)"
      ],
      "execution_count": 304,
      "outputs": [
        {
          "output_type": "execute_result",
          "data": {
            "text/plain": [
              "[<matplotlib.lines.Line2D at 0x7f66e76e2e90>]"
            ]
          },
          "metadata": {},
          "execution_count": 304
        },
        {
          "output_type": "display_data",
          "data": {
            "image/png": "[encoded data removed]",
            "text/plain": [
              "<Figure size 432x288 with 1 Axes>"
            ]
          },
          "metadata": {
            "needs_background": "light"
          }
        }
      ]
    },
    {
      "cell_type": "code",
      "metadata": {
        "colab": {
          "base_uri": "https://localhost:8080/"
        },
        "id": "uORwiHXMPU7P",
        "outputId": "d2f22884-5300-481b-b023-e3b95be5b29c"
      },
      "source": [
        "correct = 0\n",
        "total = 0\n",
        "count = 0\n",
        "flag = 1\n",
        "\n",
        "with torch.no_grad():\n",
        "  for data in train_loader:\n",
        "    inputs, labels = data\n",
        "    inputs = inputs.double()\n",
        "    inputs, labels  = inputs.to(\"cuda\"),labels.to(\"cuda\")\n",
        "\n",
        "    outputs = classify(inputs)\n",
        "\n",
        "    _, predicted = torch.max(outputs.data, 1)\n",
        "\n",
        "    total += labels.size(0)\n",
        "    correct += (predicted == labels).sum().item()\n",
        "\n",
        "print('Accuracy of the network on the %d train images: %f %%' % ( desired_num , 100 * correct / total))\n",
        "print(\"total correct\", correct)\n",
        "print(\"total train set images\", total)"
      ],
      "execution_count": 305,
      "outputs": [
        {
          "output_type": "stream",
          "name": "stdout",
          "text": [
            "Accuracy of the network on the 500 train images: 100.000000 %\n",
            "total correct 500\n",
            "total train set images 500\n"
          ]
        }
      ]
    },
    {
      "cell_type": "code",
      "metadata": {
        "colab": {
          "base_uri": "https://localhost:8080/"
        },
        "id": "YqPjpP3EPWQK",
        "outputId": "3458013f-9fe1-485b-b98f-06ef38e280ea"
      },
      "source": [
        "correct = 0\n",
        "total = 0\n",
        "count = 0\n",
        "flag = 1\n",
        "\n",
        "with torch.no_grad():\n",
        "  for data in test_loader:\n",
        "    inputs, labels = data\n",
        "    inputs = inputs.double()\n",
        "    inputs, labels  = inputs.to(\"cuda\"),labels.to(\"cuda\")\n",
        "\n",
        "    outputs = classify(inputs)\n",
        "\n",
        "    _, predicted = torch.max(outputs.data, 1)\n",
        "\n",
        "    total += labels.size(0)\n",
        "    correct += (predicted == labels).sum().item()\n",
        "\n",
        "print('Accuracy of the network on the %d train images: %f %%' % ( 10000 , 100 * correct / total))\n",
        "print(\"total correct\", correct)\n",
        "print(\"total test set images\", total)"
      ],
      "execution_count": 306,
      "outputs": [
        {
          "output_type": "stream",
          "name": "stdout",
          "text": [
            "Accuracy of the network on the 10000 train images: 98.860000 %\n",
            "total correct 9886\n",
            "total test set images 10000\n"
          ]
        }
      ]
    },
    {
      "cell_type": "code",
      "metadata": {
        "id": "c6wGSifzPXzx"
      },
      "source": [
        ""
      ],
      "execution_count": 306,
      "outputs": []
    }
  ]
}