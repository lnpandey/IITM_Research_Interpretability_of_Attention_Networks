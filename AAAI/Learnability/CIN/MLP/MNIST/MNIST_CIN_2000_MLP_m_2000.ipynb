{
  "nbformat": 4,
  "nbformat_minor": 0,
  "metadata": {
    "accelerator": "GPU",
    "colab": {
      "name": "MNIST_CIN_1k_MLP_m_5.ipynb",
      "provenance": [],
      "collapsed_sections": [],
      "toc_visible": true,
      "machine_shape": "hm"
    },
    "kernelspec": {
      "display_name": "Python 3",
      "language": "python",
      "name": "python3"
    },
    "language_info": {
      "codemirror_mode": {
        "name": "ipython",
        "version": 3
      },
      "file_extension": ".py",
      "mimetype": "text/x-python",
      "name": "python",
      "nbconvert_exporter": "python",
      "pygments_lexer": "ipython3",
      "version": "3.6.5"
    }
  },
  "cells": [
    {
      "cell_type": "code",
      "metadata": {
        "id": "JSjG64ra4aFu"
      },
      "source": [
        "# from google.colab import drive\n",
        "# drive.mount('/content/drive')"
      ],
      "execution_count": 442,
      "outputs": []
    },
    {
      "cell_type": "code",
      "metadata": {
        "id": "3uDWznlVHuI6"
      },
      "source": [
        "# path = \"/content/drive/MyDrive/Research/cods_comad_plots/sdc_task/mnist/\""
      ],
      "execution_count": 443,
      "outputs": []
    },
    {
      "cell_type": "code",
      "metadata": {
        "id": "jIzYDQ-xN0Qj"
      },
      "source": [
        "m = 2000\n",
        "desired_num = 2000"
      ],
      "execution_count": 444,
      "outputs": []
    },
    {
      "cell_type": "code",
      "metadata": {
        "id": "V8-7SARDZErK"
      },
      "source": [
        "import torch.nn as nn\n",
        "import torch.nn.functional as F\n",
        "\n",
        "import pandas as pd\n",
        "import numpy as np\n",
        "import matplotlib.pyplot as plt\n",
        "\n",
        "import torch\n",
        "import torchvision\n",
        "import torchvision.transforms as transforms\n",
        "from torch.utils.data import Dataset, DataLoader\n",
        "from torchvision import transforms, utils\n",
        "\n",
        "from matplotlib import pyplot as plt\n",
        "\n",
        "import copy\n",
        "\n",
        "# Ignore warnings\n",
        "import warnings\n",
        "warnings.filterwarnings(\"ignore\")\n",
        "\n",
        "torch.backends.cudnn.deterministic = True\n",
        "torch.backends.cudnn.benchmark = False\n"
      ],
      "execution_count": 445,
      "outputs": []
    },
    {
      "cell_type": "code",
      "metadata": {
        "id": "acRFqJNrZErV"
      },
      "source": [
        "transform = transforms.Compose(\n",
        "    [transforms.ToTensor(),\n",
        "     transforms.Normalize((0.5), (0.5))])\n",
        "\n",
        "trainset = torchvision.datasets.MNIST(root='./data', train=True, download=True, transform=transform)\n",
        "\n",
        "\n",
        "testset = torchvision.datasets.MNIST(root='./data', train=False, download=True, transform=transform)"
      ],
      "execution_count": 446,
      "outputs": []
    },
    {
      "cell_type": "code",
      "metadata": {
        "id": "gh5DXuAV1tp5",
        "colab": {
          "base_uri": "https://localhost:8080/"
        },
        "outputId": "c880b26d-0ebb-41e1-c15f-36684937f92c"
      },
      "source": [
        "classes = ('zero','one','two','three','four','five','six','seven','eight','nine')\n",
        "\n",
        "foreground_classes = {'zero','one'}\n",
        "fg_used = '01'\n",
        "fg1, fg2 = 0,1\n",
        "\n",
        "\n",
        "all_classes = {'zero','one','two','three','four','five','six','seven','eight','nine'}\n",
        "background_classes = all_classes - foreground_classes\n",
        "background_classes"
      ],
      "execution_count": 447,
      "outputs": [
        {
          "output_type": "execute_result",
          "data": {
            "text/plain": [
              "{'eight', 'five', 'four', 'nine', 'seven', 'six', 'three', 'two'}"
            ]
          },
          "metadata": {},
          "execution_count": 447
        }
      ]
    },
    {
      "cell_type": "code",
      "metadata": {
        "id": "Xbr_H78mp_Of"
      },
      "source": [
        "trainloader = torch.utils.data.DataLoader(trainset, batch_size=10, shuffle = False)\n",
        "testloader = torch.utils.data.DataLoader(testset, batch_size=10, shuffle = False)"
      ],
      "execution_count": 448,
      "outputs": []
    },
    {
      "cell_type": "code",
      "metadata": {
        "id": "V_JUhwCeZErk"
      },
      "source": [
        "dataiter = iter(trainloader)\n",
        "background_data=[]\n",
        "background_label=[]\n",
        "foreground_data=[]\n",
        "foreground_label=[]\n",
        "batch_size=10\n",
        "\n",
        "for i in range(6000):\n",
        "  images, labels = dataiter.next()\n",
        "  for j in range(batch_size):\n",
        "    if(classes[labels[j]] in background_classes):\n",
        "      img = images[j].tolist()\n",
        "      background_data.append(img)\n",
        "      background_label.append(labels[j])\n",
        "    else:\n",
        "      img = images[j].tolist()\n",
        "      foreground_data.append(img)\n",
        "      foreground_label.append(labels[j])\n",
        "            \n",
        "foreground_data = torch.tensor(foreground_data)\n",
        "foreground_label = torch.tensor(foreground_label)\n",
        "background_data = torch.tensor(background_data)\n",
        "background_label = torch.tensor(background_label)"
      ],
      "execution_count": 449,
      "outputs": []
    },
    {
      "cell_type": "code",
      "metadata": {
        "id": "iyyWx5g58erM"
      },
      "source": [
        "def imshow(img):\n",
        "  img = img / 2 + 0.5     # unnormalize\n",
        "  npimg = img#.numpy()\n",
        "  plt.imshow(np.reshape(npimg, (28,28)))\n",
        "  plt.show()"
      ],
      "execution_count": 450,
      "outputs": []
    },
    {
      "cell_type": "code",
      "metadata": {
        "colab": {
          "base_uri": "https://localhost:8080/"
        },
        "id": "U5w9S6xb6EFl",
        "outputId": "efc6e0b2-e7e1-4f19-8b6d-4c7b3ca3642c"
      },
      "source": [
        "foreground_data.shape, foreground_label.shape, background_data.shape, background_label.shape"
      ],
      "execution_count": 451,
      "outputs": [
        {
          "output_type": "execute_result",
          "data": {
            "text/plain": [
              "(torch.Size([12665, 1, 28, 28]),\n",
              " torch.Size([12665]),\n",
              " torch.Size([47335, 1, 28, 28]),\n",
              " torch.Size([47335]))"
            ]
          },
          "metadata": {},
          "execution_count": 451
        }
      ]
    },
    {
      "cell_type": "code",
      "metadata": {
        "id": "IRd6EpWM6Abq"
      },
      "source": [
        "val, idx = torch.max(background_data, dim=0, keepdims= True,)\n",
        "# torch.abs(val)"
      ],
      "execution_count": 452,
      "outputs": []
    },
    {
      "cell_type": "code",
      "metadata": {
        "id": "Sly62nHh6VJy"
      },
      "source": [
        "mean_bg = torch.mean(background_data, dim=0, keepdims= True)\n",
        "std_bg, _ = torch.max(background_data, dim=0, keepdims= True)"
      ],
      "execution_count": 453,
      "outputs": []
    },
    {
      "cell_type": "code",
      "metadata": {
        "colab": {
          "base_uri": "https://localhost:8080/"
        },
        "id": "K89Qj57m6axj",
        "outputId": "cfa14a4c-6f2c-47e6-cff1-003eda76342c"
      },
      "source": [
        "mean_bg.shape, std_bg.shape"
      ],
      "execution_count": 454,
      "outputs": [
        {
          "output_type": "execute_result",
          "data": {
            "text/plain": [
              "(torch.Size([1, 1, 28, 28]), torch.Size([1, 1, 28, 28]))"
            ]
          },
          "metadata": {},
          "execution_count": 454
        }
      ]
    },
    {
      "cell_type": "code",
      "metadata": {
        "id": "wGVjRbqZ6lzV"
      },
      "source": [
        "foreground_data = (foreground_data - mean_bg) / std_bg\n",
        "background_data = (background_data - mean_bg) / torch.abs(std_bg)"
      ],
      "execution_count": 455,
      "outputs": []
    },
    {
      "cell_type": "code",
      "metadata": {
        "colab": {
          "base_uri": "https://localhost:8080/"
        },
        "id": "yxZVq5OW6o3L",
        "outputId": "6738d5b8-a4b4-4aee-a217-420f17590d61"
      },
      "source": [
        "foreground_data.shape, foreground_label.shape, background_data.shape, background_label.shape"
      ],
      "execution_count": 456,
      "outputs": [
        {
          "output_type": "execute_result",
          "data": {
            "text/plain": [
              "(torch.Size([12665, 1, 28, 28]),\n",
              " torch.Size([12665]),\n",
              " torch.Size([47335, 1, 28, 28]),\n",
              " torch.Size([47335]))"
            ]
          },
          "metadata": {},
          "execution_count": 456
        }
      ]
    },
    {
      "cell_type": "code",
      "metadata": {
        "colab": {
          "base_uri": "https://localhost:8080/"
        },
        "id": "pTrGcqI7GsBA",
        "outputId": "82df57e9-c578-4000-f618-1d789f601cf1"
      },
      "source": [
        "torch.sum(torch.isnan(foreground_data)), torch.sum(torch.isnan(background_data))"
      ],
      "execution_count": 457,
      "outputs": [
        {
          "output_type": "execute_result",
          "data": {
            "text/plain": [
              "(tensor(0), tensor(0))"
            ]
          },
          "metadata": {},
          "execution_count": 457
        }
      ]
    },
    {
      "cell_type": "code",
      "metadata": {
        "colab": {
          "base_uri": "https://localhost:8080/",
          "height": 265
        },
        "id": "fIqpbILY-BiG",
        "outputId": "02800e55-dea2-440a-a8ea-5d88504fb269"
      },
      "source": [
        "imshow(foreground_data[0])"
      ],
      "execution_count": 458,
      "outputs": [
        {
          "output_type": "display_data",
          "data": {
            "image/png": "[encoded data removed]",
            "text/plain": [
              "<Figure size 432x288 with 1 Axes>"
            ]
          },
          "metadata": {
            "needs_background": "light"
          }
        }
      ]
    },
    {
      "cell_type": "code",
      "metadata": {
        "colab": {
          "base_uri": "https://localhost:8080/",
          "height": 265
        },
        "id": "tRvTvlVo98xz",
        "outputId": "6136ef6b-570a-4031-ec9d-a230ed82e677"
      },
      "source": [
        "imshow(background_data[0])"
      ],
      "execution_count": 459,
      "outputs": [
        {
          "output_type": "display_data",
          "data": {
            "image/png": "[encoded data removed]",
            "text/plain": [
              "<Figure size 432x288 with 1 Axes>"
            ]
          },
          "metadata": {
            "needs_background": "light"
          }
        }
      ]
    },
    {
      "cell_type": "markdown",
      "metadata": {
        "id": "ccO3wCVRNrxe"
      },
      "source": [
        "## generating CIN train and test data"
      ]
    },
    {
      "cell_type": "code",
      "metadata": {
        "colab": {
          "base_uri": "https://localhost:8080/"
        },
        "id": "30usvva6N0Nq",
        "outputId": "646389c0-3d9b-432b-da6e-adf6d8ebd402"
      },
      "source": [
        "np.random.seed(0)\n",
        "bg_idx = np.random.randint(0,47335,m-1)\n",
        "fg_idx = np.random.randint(0,12665)\n",
        "bg_idx, fg_idx"
      ],
      "execution_count": 460,
      "outputs": [
        {
          "output_type": "execute_result",
          "data": {
            "text/plain": [
              "(array([ 2732, 43567, 42613, ..., 30745, 34169,  7299]), 884)"
            ]
          },
          "metadata": {},
          "execution_count": 460
        }
      ]
    },
    {
      "cell_type": "code",
      "metadata": {
        "id": "Q3ryiEQ5N0GY"
      },
      "source": [
        "# for i in background_data[bg_idx]:\n",
        "#   imshow(i)"
      ],
      "execution_count": 461,
      "outputs": []
    },
    {
      "cell_type": "code",
      "metadata": {
        "colab": {
          "base_uri": "https://localhost:8080/",
          "height": 265
        },
        "id": "ZtUC0dNdN0Dz",
        "outputId": "d0a35ea3-c157-4064-ff61-0805640337a2"
      },
      "source": [
        "imshow(torch.sum(background_data[bg_idx], axis = 0))"
      ],
      "execution_count": 462,
      "outputs": [
        {
          "output_type": "display_data",
          "data": {
            "image/png": "[encoded data removed]",
            "text/plain": [
              "<Figure size 432x288 with 1 Axes>"
            ]
          },
          "metadata": {
            "needs_background": "light"
          }
        }
      ]
    },
    {
      "cell_type": "code",
      "metadata": {
        "colab": {
          "base_uri": "https://localhost:8080/",
          "height": 265
        },
        "id": "UY1IevjcN0BL",
        "outputId": "b78571e6-d839-43d4-fbb0-8214f38de411"
      },
      "source": [
        "imshow(foreground_data[fg_idx])"
      ],
      "execution_count": 463,
      "outputs": [
        {
          "output_type": "display_data",
          "data": {
            "image/png": "[encoded data removed]",
            "text/plain": [
              "<Figure size 432x288 with 1 Axes>"
            ]
          },
          "metadata": {
            "needs_background": "light"
          }
        }
      ]
    },
    {
      "cell_type": "code",
      "metadata": {
        "colab": {
          "base_uri": "https://localhost:8080/"
        },
        "id": "e6niBULUNz-k",
        "outputId": "6ef840ac-d32a-4a15-900f-364481cef200"
      },
      "source": [
        "tr_data = ( torch.sum(background_data[bg_idx], axis = 0) + foreground_data[fg_idx] )/m\n",
        "tr_data.shape"
      ],
      "execution_count": 464,
      "outputs": [
        {
          "output_type": "execute_result",
          "data": {
            "text/plain": [
              "torch.Size([1, 28, 28])"
            ]
          },
          "metadata": {},
          "execution_count": 464
        }
      ]
    },
    {
      "cell_type": "code",
      "metadata": {
        "colab": {
          "base_uri": "https://localhost:8080/",
          "height": 265
        },
        "id": "SSLaezrFNz7r",
        "outputId": "7fbcba99-fdf4-4518-91f9-7a073c743db1"
      },
      "source": [
        "imshow(tr_data)"
      ],
      "execution_count": 465,
      "outputs": [
        {
          "output_type": "display_data",
          "data": {
            "image/png": "[encoded data removed]",
            "text/plain": [
              "<Figure size 432x288 with 1 Axes>"
            ]
          },
          "metadata": {
            "needs_background": "light"
          }
        }
      ]
    },
    {
      "cell_type": "code",
      "metadata": {
        "colab": {
          "base_uri": "https://localhost:8080/"
        },
        "id": "aNZSuYqiOC6d",
        "outputId": "2b3aba61-0371-492f-801a-64a53fadb49a"
      },
      "source": [
        "foreground_label[fg_idx]"
      ],
      "execution_count": 466,
      "outputs": [
        {
          "output_type": "execute_result",
          "data": {
            "text/plain": [
              "tensor(1)"
            ]
          },
          "metadata": {},
          "execution_count": 466
        }
      ]
    },
    {
      "cell_type": "code",
      "metadata": {
        "id": "vD1bssSmOC3k"
      },
      "source": [
        "train_images =[]      # list of mosaic images, each mosaic image is saved as list of 9 images             \n",
        "train_label=[]                # label of mosaic image = foreground class present in that mosaic\n",
        "\n",
        "for i in range(desired_num):\n",
        "  np.random.seed(i)\n",
        "  bg_idx = np.random.randint(0,47335,m-1)\n",
        "  fg_idx = np.random.randint(0,12665)\n",
        "\n",
        "  tr_data = ( torch.sum(background_data[bg_idx], axis = 0) + foreground_data[fg_idx] ) / m\n",
        "  label = (foreground_label[fg_idx].item())\n",
        "\n",
        "  train_images.append(tr_data)\n",
        "  train_label.append(label)\n"
      ],
      "execution_count": 467,
      "outputs": []
    },
    {
      "cell_type": "code",
      "metadata": {
        "colab": {
          "base_uri": "https://localhost:8080/"
        },
        "id": "CkoRVhHSOC09",
        "outputId": "3d8e6c5d-33ea-4d0c-8445-bd97dc7b0af8"
      },
      "source": [
        "train_images = torch.stack(train_images)\n",
        "train_images.shape, len(train_label)"
      ],
      "execution_count": 468,
      "outputs": [
        {
          "output_type": "execute_result",
          "data": {
            "text/plain": [
              "(torch.Size([2000, 1, 28, 28]), 2000)"
            ]
          },
          "metadata": {},
          "execution_count": 468
        }
      ]
    },
    {
      "cell_type": "code",
      "metadata": {
        "colab": {
          "base_uri": "https://localhost:8080/",
          "height": 265
        },
        "id": "KrJqFMoEOCyK",
        "outputId": "99efb7bb-b227-4a3b-94d8-3b09c361dce6"
      },
      "source": [
        "imshow(train_images[0])"
      ],
      "execution_count": 469,
      "outputs": [
        {
          "output_type": "display_data",
          "data": {
            "image/png": "[encoded data removed]",
            "text/plain": [
              "<Figure size 432x288 with 1 Axes>"
            ]
          },
          "metadata": {
            "needs_background": "light"
          }
        }
      ]
    },
    {
      "cell_type": "code",
      "metadata": {
        "id": "cv6LZJMoOeb8"
      },
      "source": [
        "test_images =[]      # list of mosaic images, each mosaic image is saved as list of 9 images             \n",
        "test_label=[]                # label of mosaic image = foreground class present in that mosaic\n",
        "\n",
        "for i in range(10000):\n",
        "  np.random.seed(i)\n",
        "  fg_idx = np.random.randint(0,12665)\n",
        "\n",
        "  tr_data = ( foreground_data[fg_idx] ) / m\n",
        "  label = (foreground_label[fg_idx].item())\n",
        "\n",
        "  test_images.append(tr_data)\n",
        "  test_label.append(label)\n"
      ],
      "execution_count": 470,
      "outputs": []
    },
    {
      "cell_type": "code",
      "metadata": {
        "colab": {
          "base_uri": "https://localhost:8080/"
        },
        "id": "ZBuH3ayNOeZU",
        "outputId": "8a7d5adb-f5bd-4e2a-c483-a2ad53bf26cd"
      },
      "source": [
        "test_images = torch.stack(test_images)\n",
        "test_images.shape, len(test_label)"
      ],
      "execution_count": 471,
      "outputs": [
        {
          "output_type": "execute_result",
          "data": {
            "text/plain": [
              "(torch.Size([10000, 1, 28, 28]), 10000)"
            ]
          },
          "metadata": {},
          "execution_count": 471
        }
      ]
    },
    {
      "cell_type": "code",
      "metadata": {
        "colab": {
          "base_uri": "https://localhost:8080/",
          "height": 265
        },
        "id": "wv_aBpW8OeWs",
        "outputId": "19e79f93-c1c7-4580-d0e2-b94f00acf26e"
      },
      "source": [
        "imshow(test_images[0])"
      ],
      "execution_count": 472,
      "outputs": [
        {
          "output_type": "display_data",
          "data": {
            "image/png": "[encoded data removed]",
            "text/plain": [
              "<Figure size 432x288 with 1 Axes>"
            ]
          },
          "metadata": {
            "needs_background": "light"
          }
        }
      ]
    },
    {
      "cell_type": "code",
      "metadata": {
        "colab": {
          "base_uri": "https://localhost:8080/"
        },
        "id": "7mvKwVWNOeTi",
        "outputId": "d25d188a-3cc9-49d1-a07c-5dc81e779921"
      },
      "source": [
        "torch.sum(torch.isnan(train_images)), torch.sum(torch.isnan(test_images))"
      ],
      "execution_count": 473,
      "outputs": [
        {
          "output_type": "execute_result",
          "data": {
            "text/plain": [
              "(tensor(0), tensor(0))"
            ]
          },
          "metadata": {},
          "execution_count": 473
        }
      ]
    },
    {
      "cell_type": "code",
      "metadata": {
        "colab": {
          "base_uri": "https://localhost:8080/"
        },
        "id": "919oQptjOosG",
        "outputId": "c853ad5d-cbd7-4564-8c6f-30a525d99202"
      },
      "source": [
        "np.unique(train_label), np.unique(test_label)"
      ],
      "execution_count": 474,
      "outputs": [
        {
          "output_type": "execute_result",
          "data": {
            "text/plain": [
              "(array([0, 1]), array([0, 1]))"
            ]
          },
          "metadata": {},
          "execution_count": 474
        }
      ]
    },
    {
      "cell_type": "markdown",
      "metadata": {
        "id": "dl3dzlPPOsDT"
      },
      "source": [
        "## creating dataloader"
      ]
    },
    {
      "cell_type": "code",
      "metadata": {
        "id": "hX35HdXoOoot"
      },
      "source": [
        "class CIN_Dataset(Dataset):\n",
        "  \"\"\"CIN_Dataset dataset.\"\"\"\n",
        "\n",
        "  def __init__(self, list_of_images, labels):\n",
        "    \"\"\"\n",
        "      Args:\n",
        "        csv_file (string): Path to the csv file with annotations.\n",
        "        root_dir (string): Directory with all the images.\n",
        "        transform (callable, optional): Optional transform to be applied\n",
        "            on a sample.\n",
        "    \"\"\"\n",
        "    self.image = list_of_images\n",
        "    self.label = labels\n",
        "\n",
        "  def __len__(self):\n",
        "    return len(self.label)\n",
        "\n",
        "  def __getitem__(self, idx):\n",
        "    return self.image[idx] , self.label[idx]\n",
        "\n"
      ],
      "execution_count": 475,
      "outputs": []
    },
    {
      "cell_type": "code",
      "metadata": {
        "id": "Y44ojnvZOolr"
      },
      "source": [
        "batch = 250\n",
        "train_data = CIN_Dataset(train_images, train_label)\n",
        "train_loader = DataLoader( train_data, batch_size= batch , shuffle=True)\n",
        "\n",
        "test_data = CIN_Dataset( test_images , test_label)\n",
        "test_loader = DataLoader( test_data, batch_size= batch , shuffle=False)"
      ],
      "execution_count": 476,
      "outputs": []
    },
    {
      "cell_type": "code",
      "metadata": {
        "colab": {
          "base_uri": "https://localhost:8080/"
        },
        "id": "dLJ5YSOOO6s6",
        "outputId": "2f68cc96-181f-4631-e39a-b25c6467cf9f"
      },
      "source": [
        "train_loader.dataset.image.shape, test_loader.dataset.image.shape"
      ],
      "execution_count": 477,
      "outputs": [
        {
          "output_type": "execute_result",
          "data": {
            "text/plain": [
              "(torch.Size([2000, 1, 28, 28]), torch.Size([10000, 1, 28, 28]))"
            ]
          },
          "metadata": {},
          "execution_count": 477
        }
      ]
    },
    {
      "cell_type": "markdown",
      "metadata": {
        "id": "z0oF6s0dO7zy"
      },
      "source": [
        "## model"
      ]
    },
    {
      "cell_type": "code",
      "metadata": {
        "id": "KoP6hoBqNJxX"
      },
      "source": [
        "class Classification(nn.Module):\n",
        "  def __init__(self):\n",
        "    super(Classification, self).__init__()\n",
        "    self.fc1 = nn.Linear(28*28, 50)\n",
        "    self.fc2 = nn.Linear(50, 2)\n",
        "    \n",
        "    torch.nn.init.xavier_normal_(self.fc1.weight)\n",
        "    torch.nn.init.zeros_(self.fc1.bias)\n",
        "\n",
        "    torch.nn.init.xavier_normal_(self.fc2.weight)\n",
        "    torch.nn.init.zeros_(self.fc2.bias)\n",
        "\n",
        "\n",
        "  def forward(self, x):\n",
        "    x = x.view(-1, 28*28)\n",
        "    x = F.relu(self.fc1(x))\n",
        "    x = self.fc2(x)\n",
        "    return x"
      ],
      "execution_count": 478,
      "outputs": []
    },
    {
      "cell_type": "markdown",
      "metadata": {
        "id": "KwP2xvB7PBFK"
      },
      "source": [
        "## training"
      ]
    },
    {
      "cell_type": "code",
      "metadata": {
        "id": "uPYplUGazU9I"
      },
      "source": [
        "torch.manual_seed(12)\n",
        "classify = Classification().double()\n",
        "classify = classify.to(\"cuda\")"
      ],
      "execution_count": 495,
      "outputs": []
    },
    {
      "cell_type": "code",
      "metadata": {
        "id": "n5g3geNJ5zEu"
      },
      "source": [
        "import torch.optim as optim\n",
        "criterion = nn.CrossEntropyLoss()\n",
        "optimizer_classify = optim.Adam(classify.parameters(), lr=0.01  ) #, momentum=0.9)"
      ],
      "execution_count": 496,
      "outputs": []
    },
    {
      "cell_type": "code",
      "metadata": {
        "id": "725MVVfLS3et",
        "colab": {
          "base_uri": "https://localhost:8080/"
        },
        "outputId": "0a77aec9-2311-46fc-8f11-6ca1ea346678"
      },
      "source": [
        "correct = 0\n",
        "total = 0\n",
        "count = 0\n",
        "flag = 1\n",
        "\n",
        "with torch.no_grad():\n",
        "  for data in train_loader:\n",
        "    inputs, labels = data\n",
        "    inputs = inputs.double()\n",
        "    inputs, labels  = inputs.to(\"cuda\"),labels.to(\"cuda\")\n",
        "\n",
        "    outputs = classify(inputs)\n",
        "\n",
        "    _, predicted = torch.max(outputs.data, 1)\n",
        "\n",
        "    total += labels.size(0)\n",
        "    correct += (predicted == labels).sum().item()\n",
        "\n",
        "print('Accuracy of the network on the %d train images: %f %%' % ( desired_num , 100 * correct / total))\n",
        "print(\"total correct\", correct)\n",
        "print(\"total train set images\", total)"
      ],
      "execution_count": 497,
      "outputs": [
        {
          "output_type": "stream",
          "name": "stdout",
          "text": [
            "Accuracy of the network on the 2000 train images: 51.950000 %\n",
            "total correct 1039\n",
            "total train set images 2000\n"
          ]
        }
      ]
    },
    {
      "cell_type": "code",
      "metadata": {
        "colab": {
          "base_uri": "https://localhost:8080/"
        },
        "id": "iYTaJG0GPLA7",
        "outputId": "b698fbec-d95f-4c35-89b7-a0a4279b9268"
      },
      "source": [
        "correct = 0\n",
        "total = 0\n",
        "count = 0\n",
        "flag = 1\n",
        "\n",
        "with torch.no_grad():\n",
        "  for data in test_loader:\n",
        "    inputs, labels = data\n",
        "    inputs = inputs.double()\n",
        "    inputs, labels  = inputs.to(\"cuda\"),labels.to(\"cuda\")\n",
        "\n",
        "    outputs = classify(inputs)\n",
        "\n",
        "    _, predicted = torch.max(outputs.data, 1)\n",
        "\n",
        "    total += labels.size(0)\n",
        "    correct += (predicted == labels).sum().item()\n",
        "\n",
        "print('Accuracy of the network on the %d test images: %f %%' % ( 10000 , 100 * correct / total))\n",
        "print(\"total correct\", correct)\n",
        "print(\"total train set images\", total)"
      ],
      "execution_count": 498,
      "outputs": [
        {
          "output_type": "stream",
          "name": "stdout",
          "text": [
            "Accuracy of the network on the 10000 test images: 56.400000 %\n",
            "total correct 5640\n",
            "total train set images 10000\n"
          ]
        }
      ]
    },
    {
      "cell_type": "code",
      "metadata": {
        "colab": {
          "base_uri": "https://localhost:8080/"
        },
        "id": "LCWyTEIKPNlK",
        "outputId": "aa54d448-e971-45eb-aaa4-6fe289b1fdc0"
      },
      "source": [
        "nos_epochs = 200\n",
        "tr_loss = []\n",
        "for epoch in range(nos_epochs):  # loop over the dataset multiple times\n",
        "\n",
        "  epoch_loss = []\n",
        "  cnt=0\n",
        "  iteration = desired_num // batch\n",
        "  running_loss = 0\n",
        "  \n",
        "  #training data set  \n",
        "  for i, data in  enumerate(train_loader):\n",
        "    inputs, labels = data\n",
        "    inputs = inputs.double()\n",
        "    inputs, labels  = inputs.to(\"cuda\"),labels.to(\"cuda\")\n",
        "    inputs = inputs.double()\n",
        "    # zero the parameter gradients\n",
        "    \n",
        "    optimizer_classify.zero_grad()\n",
        "\n",
        "    outputs = classify(inputs)\n",
        "\n",
        "    _, predicted = torch.max(outputs.data, 1)\n",
        "#     print(outputs)\n",
        "#     print(outputs.shape,labels.shape , torch.argmax(outputs, dim=1))\n",
        "\n",
        "    loss = criterion(outputs, labels) \n",
        "    loss.backward()\n",
        "\n",
        "    optimizer_classify.step()\n",
        "\n",
        "    running_loss += loss.item()\n",
        "    mini = 1\n",
        "    if cnt % mini == mini-1:    # print every 40 mini-batches\n",
        "      # print('[%d, %5d] loss: %.3f' %(epoch + 1, cnt + 1, running_loss / mini))\n",
        "      epoch_loss.append(running_loss/mini)\n",
        "      running_loss = 0.0\n",
        "    cnt=cnt+1\n",
        "\n",
        "  tr_loss.append(np.mean(epoch_loss))\n",
        "  if(np.mean(epoch_loss) <= 0.001):\n",
        "      break;\n",
        "  else:\n",
        "    print('[Epoch : %d] loss: %.3f' %(epoch + 1, np.mean(epoch_loss) ))\n",
        "    \n",
        "print('Finished Training')"
      ],
      "execution_count": 499,
      "outputs": [
        {
          "output_type": "stream",
          "name": "stdout",
          "text": [
            "[Epoch : 1] loss: 0.692\n",
            "[Epoch : 2] loss: 0.679\n",
            "[Epoch : 3] loss: 0.667\n",
            "[Epoch : 4] loss: 0.651\n",
            "[Epoch : 5] loss: 0.631\n",
            "[Epoch : 6] loss: 0.607\n",
            "[Epoch : 7] loss: 0.578\n",
            "[Epoch : 8] loss: 0.550\n",
            "[Epoch : 9] loss: 0.519\n",
            "[Epoch : 10] loss: 0.487\n",
            "[Epoch : 11] loss: 0.455\n",
            "[Epoch : 12] loss: 0.424\n",
            "[Epoch : 13] loss: 0.392\n",
            "[Epoch : 14] loss: 0.357\n",
            "[Epoch : 15] loss: 0.325\n",
            "[Epoch : 16] loss: 0.298\n",
            "[Epoch : 17] loss: 0.270\n",
            "[Epoch : 18] loss: 0.245\n",
            "[Epoch : 19] loss: 0.224\n",
            "[Epoch : 20] loss: 0.204\n",
            "[Epoch : 21] loss: 0.183\n",
            "[Epoch : 22] loss: 0.163\n",
            "[Epoch : 23] loss: 0.147\n",
            "[Epoch : 24] loss: 0.132\n",
            "[Epoch : 25] loss: 0.120\n",
            "[Epoch : 26] loss: 0.108\n",
            "[Epoch : 27] loss: 0.098\n",
            "[Epoch : 28] loss: 0.088\n",
            "[Epoch : 29] loss: 0.080\n",
            "[Epoch : 30] loss: 0.075\n",
            "[Epoch : 31] loss: 0.067\n",
            "[Epoch : 32] loss: 0.061\n",
            "[Epoch : 33] loss: 0.056\n",
            "[Epoch : 34] loss: 0.051\n",
            "[Epoch : 35] loss: 0.047\n",
            "[Epoch : 36] loss: 0.043\n",
            "[Epoch : 37] loss: 0.040\n",
            "[Epoch : 38] loss: 0.037\n",
            "[Epoch : 39] loss: 0.034\n",
            "[Epoch : 40] loss: 0.032\n",
            "[Epoch : 41] loss: 0.030\n",
            "[Epoch : 42] loss: 0.028\n",
            "[Epoch : 43] loss: 0.026\n",
            "[Epoch : 44] loss: 0.025\n",
            "[Epoch : 45] loss: 0.024\n",
            "[Epoch : 46] loss: 0.022\n",
            "[Epoch : 47] loss: 0.021\n",
            "[Epoch : 48] loss: 0.020\n",
            "[Epoch : 49] loss: 0.019\n",
            "[Epoch : 50] loss: 0.018\n",
            "[Epoch : 51] loss: 0.017\n",
            "[Epoch : 52] loss: 0.016\n",
            "[Epoch : 53] loss: 0.016\n",
            "[Epoch : 54] loss: 0.015\n",
            "[Epoch : 55] loss: 0.014\n",
            "[Epoch : 56] loss: 0.013\n",
            "[Epoch : 57] loss: 0.013\n",
            "[Epoch : 58] loss: 0.012\n",
            "[Epoch : 59] loss: 0.012\n",
            "[Epoch : 60] loss: 0.011\n",
            "[Epoch : 61] loss: 0.011\n",
            "[Epoch : 62] loss: 0.010\n",
            "[Epoch : 63] loss: 0.010\n",
            "[Epoch : 64] loss: 0.010\n",
            "[Epoch : 65] loss: 0.009\n",
            "[Epoch : 66] loss: 0.009\n",
            "[Epoch : 67] loss: 0.009\n",
            "[Epoch : 68] loss: 0.008\n",
            "[Epoch : 69] loss: 0.008\n",
            "[Epoch : 70] loss: 0.008\n",
            "[Epoch : 71] loss: 0.008\n",
            "[Epoch : 72] loss: 0.007\n",
            "[Epoch : 73] loss: 0.007\n",
            "[Epoch : 74] loss: 0.007\n",
            "[Epoch : 75] loss: 0.007\n",
            "[Epoch : 76] loss: 0.006\n",
            "[Epoch : 77] loss: 0.006\n",
            "[Epoch : 78] loss: 0.006\n",
            "[Epoch : 79] loss: 0.006\n",
            "[Epoch : 80] loss: 0.006\n",
            "[Epoch : 81] loss: 0.006\n",
            "[Epoch : 82] loss: 0.005\n",
            "[Epoch : 83] loss: 0.005\n",
            "[Epoch : 84] loss: 0.005\n",
            "[Epoch : 85] loss: 0.005\n",
            "[Epoch : 86] loss: 0.005\n",
            "[Epoch : 87] loss: 0.005\n",
            "[Epoch : 88] loss: 0.005\n",
            "[Epoch : 89] loss: 0.005\n",
            "[Epoch : 90] loss: 0.004\n",
            "[Epoch : 91] loss: 0.004\n",
            "[Epoch : 92] loss: 0.004\n",
            "[Epoch : 93] loss: 0.004\n",
            "[Epoch : 94] loss: 0.004\n",
            "[Epoch : 95] loss: 0.004\n",
            "[Epoch : 96] loss: 0.004\n",
            "[Epoch : 97] loss: 0.004\n",
            "[Epoch : 98] loss: 0.004\n",
            "[Epoch : 99] loss: 0.004\n",
            "[Epoch : 100] loss: 0.003\n",
            "[Epoch : 101] loss: 0.003\n",
            "[Epoch : 102] loss: 0.003\n",
            "[Epoch : 103] loss: 0.003\n",
            "[Epoch : 104] loss: 0.003\n",
            "[Epoch : 105] loss: 0.003\n",
            "[Epoch : 106] loss: 0.003\n",
            "[Epoch : 107] loss: 0.003\n",
            "[Epoch : 108] loss: 0.003\n",
            "[Epoch : 109] loss: 0.003\n",
            "[Epoch : 110] loss: 0.003\n",
            "[Epoch : 111] loss: 0.003\n",
            "[Epoch : 112] loss: 0.003\n",
            "[Epoch : 113] loss: 0.003\n",
            "[Epoch : 114] loss: 0.003\n",
            "[Epoch : 115] loss: 0.003\n",
            "[Epoch : 116] loss: 0.003\n",
            "[Epoch : 117] loss: 0.002\n",
            "[Epoch : 118] loss: 0.002\n",
            "[Epoch : 119] loss: 0.002\n",
            "[Epoch : 120] loss: 0.002\n",
            "[Epoch : 121] loss: 0.002\n",
            "[Epoch : 122] loss: 0.002\n",
            "[Epoch : 123] loss: 0.002\n",
            "[Epoch : 124] loss: 0.002\n",
            "[Epoch : 125] loss: 0.002\n",
            "[Epoch : 126] loss: 0.002\n",
            "[Epoch : 127] loss: 0.002\n",
            "[Epoch : 128] loss: 0.002\n",
            "[Epoch : 129] loss: 0.002\n",
            "[Epoch : 130] loss: 0.002\n",
            "[Epoch : 131] loss: 0.002\n",
            "[Epoch : 132] loss: 0.002\n",
            "[Epoch : 133] loss: 0.002\n",
            "[Epoch : 134] loss: 0.002\n",
            "[Epoch : 135] loss: 0.002\n",
            "[Epoch : 136] loss: 0.002\n",
            "[Epoch : 137] loss: 0.002\n",
            "[Epoch : 138] loss: 0.002\n",
            "[Epoch : 139] loss: 0.002\n",
            "[Epoch : 140] loss: 0.002\n",
            "[Epoch : 141] loss: 0.002\n",
            "[Epoch : 142] loss: 0.002\n",
            "[Epoch : 143] loss: 0.002\n",
            "[Epoch : 144] loss: 0.002\n",
            "[Epoch : 145] loss: 0.002\n",
            "[Epoch : 146] loss: 0.002\n",
            "[Epoch : 147] loss: 0.002\n",
            "[Epoch : 148] loss: 0.001\n",
            "[Epoch : 149] loss: 0.001\n",
            "[Epoch : 150] loss: 0.001\n",
            "[Epoch : 151] loss: 0.001\n",
            "[Epoch : 152] loss: 0.001\n",
            "[Epoch : 153] loss: 0.001\n",
            "[Epoch : 154] loss: 0.001\n",
            "[Epoch : 155] loss: 0.001\n",
            "[Epoch : 156] loss: 0.001\n",
            "[Epoch : 157] loss: 0.001\n",
            "[Epoch : 158] loss: 0.001\n",
            "[Epoch : 159] loss: 0.001\n",
            "[Epoch : 160] loss: 0.001\n",
            "[Epoch : 161] loss: 0.001\n",
            "[Epoch : 162] loss: 0.001\n",
            "[Epoch : 163] loss: 0.001\n",
            "[Epoch : 164] loss: 0.001\n",
            "[Epoch : 165] loss: 0.001\n",
            "[Epoch : 166] loss: 0.001\n",
            "[Epoch : 167] loss: 0.001\n",
            "[Epoch : 168] loss: 0.001\n",
            "[Epoch : 169] loss: 0.001\n",
            "[Epoch : 170] loss: 0.001\n",
            "[Epoch : 171] loss: 0.001\n",
            "[Epoch : 172] loss: 0.001\n",
            "[Epoch : 173] loss: 0.001\n",
            "[Epoch : 174] loss: 0.001\n",
            "[Epoch : 175] loss: 0.001\n",
            "[Epoch : 176] loss: 0.001\n",
            "[Epoch : 177] loss: 0.001\n",
            "Finished Training\n"
          ]
        }
      ]
    },
    {
      "cell_type": "code",
      "metadata": {
        "colab": {
          "base_uri": "https://localhost:8080/",
          "height": 284
        },
        "id": "nfzc13qsPST6",
        "outputId": "400ae60c-0f48-454a-9629-36de0199c39d"
      },
      "source": [
        "plt.plot(tr_loss)"
      ],
      "execution_count": 500,
      "outputs": [
        {
          "output_type": "execute_result",
          "data": {
            "text/plain": [
              "[<matplotlib.lines.Line2D at 0x7f670ab35ad0>]"
            ]
          },
          "metadata": {},
          "execution_count": 500
        },
        {
          "output_type": "display_data",
          "data": {
            "image/png": "[encoded data removed]",
            "text/plain": [
              "<Figure size 432x288 with 1 Axes>"
            ]
          },
          "metadata": {
            "needs_background": "light"
          }
        }
      ]
    },
    {
      "cell_type": "code",
      "metadata": {
        "colab": {
          "base_uri": "https://localhost:8080/"
        },
        "id": "uORwiHXMPU7P",
        "outputId": "4251bbaf-48c1-4fce-d8ca-f98ceea71bcc"
      },
      "source": [
        "correct = 0\n",
        "total = 0\n",
        "count = 0\n",
        "flag = 1\n",
        "\n",
        "with torch.no_grad():\n",
        "  for data in train_loader:\n",
        "    inputs, labels = data\n",
        "    inputs = inputs.double()\n",
        "    inputs, labels  = inputs.to(\"cuda\"),labels.to(\"cuda\")\n",
        "\n",
        "    outputs = classify(inputs)\n",
        "\n",
        "    _, predicted = torch.max(outputs.data, 1)\n",
        "\n",
        "    total += labels.size(0)\n",
        "    correct += (predicted == labels).sum().item()\n",
        "\n",
        "print('Accuracy of the network on the %d train images: %f %%' % ( desired_num , 100 * correct / total))\n",
        "print(\"total correct\", correct)\n",
        "print(\"total train set images\", total)"
      ],
      "execution_count": 501,
      "outputs": [
        {
          "output_type": "stream",
          "name": "stdout",
          "text": [
            "Accuracy of the network on the 2000 train images: 100.000000 %\n",
            "total correct 2000\n",
            "total train set images 2000\n"
          ]
        }
      ]
    },
    {
      "cell_type": "code",
      "metadata": {
        "colab": {
          "base_uri": "https://localhost:8080/"
        },
        "id": "YqPjpP3EPWQK",
        "outputId": "9a42c3e1-d1a1-4919-ec58-81c9219b7ded"
      },
      "source": [
        "correct = 0\n",
        "total = 0\n",
        "count = 0\n",
        "flag = 1\n",
        "\n",
        "with torch.no_grad():\n",
        "  for data in test_loader:\n",
        "    inputs, labels = data\n",
        "    inputs = inputs.double()\n",
        "    inputs, labels  = inputs.to(\"cuda\"),labels.to(\"cuda\")\n",
        "\n",
        "    outputs = classify(inputs)\n",
        "\n",
        "    _, predicted = torch.max(outputs.data, 1)\n",
        "\n",
        "    total += labels.size(0)\n",
        "    correct += (predicted == labels).sum().item()\n",
        "\n",
        "print('Accuracy of the network on the %d train images: %f %%' % ( 10000 , 100 * correct / total))\n",
        "print(\"total correct\", correct)\n",
        "print(\"total test set images\", total)"
      ],
      "execution_count": 502,
      "outputs": [
        {
          "output_type": "stream",
          "name": "stdout",
          "text": [
            "Accuracy of the network on the 10000 train images: 46.720000 %\n",
            "total correct 4672\n",
            "total test set images 10000\n"
          ]
        }
      ]
    },
    {
      "cell_type": "code",
      "metadata": {
        "id": "c6wGSifzPXzx"
      },
      "source": [
        ""
      ],
      "execution_count": 502,
      "outputs": []
    }
  ]
}