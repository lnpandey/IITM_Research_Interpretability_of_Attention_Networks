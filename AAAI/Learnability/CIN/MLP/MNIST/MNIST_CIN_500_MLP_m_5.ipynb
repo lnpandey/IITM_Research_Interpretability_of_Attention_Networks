{
  "nbformat": 4,
  "nbformat_minor": 0,
  "metadata": {
    "accelerator": "GPU",
    "colab": {
      "name": "MNIST_CIN_1k_MLP_m_5.ipynb",
      "provenance": [],
      "collapsed_sections": [],
      "toc_visible": true,
      "machine_shape": "hm"
    },
    "kernelspec": {
      "display_name": "Python 3",
      "language": "python",
      "name": "python3"
    },
    "language_info": {
      "codemirror_mode": {
        "name": "ipython",
        "version": 3
      },
      "file_extension": ".py",
      "mimetype": "text/x-python",
      "name": "python",
      "nbconvert_exporter": "python",
      "pygments_lexer": "ipython3",
      "version": "3.6.5"
    }
  },
  "cells": [
    {
      "cell_type": "code",
      "metadata": {
        "id": "JSjG64ra4aFu"
      },
      "source": [
        "# from google.colab import drive\n",
        "# drive.mount('/content/drive')"
      ],
      "execution_count": 217,
      "outputs": []
    },
    {
      "cell_type": "code",
      "metadata": {
        "id": "3uDWznlVHuI6"
      },
      "source": [
        "# path = \"/content/drive/MyDrive/Research/cods_comad_plots/sdc_task/mnist/\""
      ],
      "execution_count": 218,
      "outputs": []
    },
    {
      "cell_type": "code",
      "metadata": {
        "id": "jIzYDQ-xN0Qj"
      },
      "source": [
        "m = 5\n",
        "desired_num = 500"
      ],
      "execution_count": 219,
      "outputs": []
    },
    {
      "cell_type": "code",
      "metadata": {
        "id": "V8-7SARDZErK"
      },
      "source": [
        "import torch.nn as nn\n",
        "import torch.nn.functional as F\n",
        "\n",
        "import pandas as pd\n",
        "import numpy as np\n",
        "import matplotlib.pyplot as plt\n",
        "\n",
        "import torch\n",
        "import torchvision\n",
        "import torchvision.transforms as transforms\n",
        "from torch.utils.data import Dataset, DataLoader\n",
        "from torchvision import transforms, utils\n",
        "\n",
        "from matplotlib import pyplot as plt\n",
        "\n",
        "import copy\n",
        "\n",
        "# Ignore warnings\n",
        "import warnings\n",
        "warnings.filterwarnings(\"ignore\")\n",
        "\n",
        "torch.backends.cudnn.deterministic = True\n",
        "torch.backends.cudnn.benchmark = False\n"
      ],
      "execution_count": 220,
      "outputs": []
    },
    {
      "cell_type": "code",
      "metadata": {
        "id": "acRFqJNrZErV"
      },
      "source": [
        "transform = transforms.Compose(\n",
        "    [transforms.ToTensor(),\n",
        "     transforms.Normalize((0.5), (0.5))])\n",
        "\n",
        "trainset = torchvision.datasets.MNIST(root='./data', train=True, download=True, transform=transform)\n",
        "\n",
        "\n",
        "testset = torchvision.datasets.MNIST(root='./data', train=False, download=True, transform=transform)"
      ],
      "execution_count": 221,
      "outputs": []
    },
    {
      "cell_type": "code",
      "metadata": {
        "id": "gh5DXuAV1tp5",
        "colab": {
          "base_uri": "https://localhost:8080/"
        },
        "outputId": "b4420cec-96cb-4da8-d6a9-1544aeb2c669"
      },
      "source": [
        "classes = ('zero','one','two','three','four','five','six','seven','eight','nine')\n",
        "\n",
        "foreground_classes = {'zero','one'}\n",
        "fg_used = '01'\n",
        "fg1, fg2 = 0,1\n",
        "\n",
        "\n",
        "all_classes = {'zero','one','two','three','four','five','six','seven','eight','nine'}\n",
        "background_classes = all_classes - foreground_classes\n",
        "background_classes"
      ],
      "execution_count": 222,
      "outputs": [
        {
          "output_type": "execute_result",
          "data": {
            "text/plain": [
              "{'eight', 'five', 'four', 'nine', 'seven', 'six', 'three', 'two'}"
            ]
          },
          "metadata": {},
          "execution_count": 222
        }
      ]
    },
    {
      "cell_type": "code",
      "metadata": {
        "id": "Xbr_H78mp_Of"
      },
      "source": [
        "trainloader = torch.utils.data.DataLoader(trainset, batch_size=10, shuffle = False)\n",
        "testloader = torch.utils.data.DataLoader(testset, batch_size=10, shuffle = False)"
      ],
      "execution_count": 223,
      "outputs": []
    },
    {
      "cell_type": "code",
      "metadata": {
        "id": "V_JUhwCeZErk"
      },
      "source": [
        "dataiter = iter(trainloader)\n",
        "background_data=[]\n",
        "background_label=[]\n",
        "foreground_data=[]\n",
        "foreground_label=[]\n",
        "batch_size=10\n",
        "\n",
        "for i in range(6000):\n",
        "  images, labels = dataiter.next()\n",
        "  for j in range(batch_size):\n",
        "    if(classes[labels[j]] in background_classes):\n",
        "      img = images[j].tolist()\n",
        "      background_data.append(img)\n",
        "      background_label.append(labels[j])\n",
        "    else:\n",
        "      img = images[j].tolist()\n",
        "      foreground_data.append(img)\n",
        "      foreground_label.append(labels[j])\n",
        "            \n",
        "foreground_data = torch.tensor(foreground_data)\n",
        "foreground_label = torch.tensor(foreground_label)\n",
        "background_data = torch.tensor(background_data)\n",
        "background_label = torch.tensor(background_label)"
      ],
      "execution_count": 224,
      "outputs": []
    },
    {
      "cell_type": "code",
      "metadata": {
        "id": "iyyWx5g58erM"
      },
      "source": [
        "def imshow(img):\n",
        "  img = img / 2 + 0.5     # unnormalize\n",
        "  npimg = img#.numpy()\n",
        "  plt.imshow(np.reshape(npimg, (28,28)))\n",
        "  plt.show()"
      ],
      "execution_count": 225,
      "outputs": []
    },
    {
      "cell_type": "code",
      "metadata": {
        "colab": {
          "base_uri": "https://localhost:8080/"
        },
        "id": "U5w9S6xb6EFl",
        "outputId": "b43cdce4-6284-4522-a494-f7ab488c80de"
      },
      "source": [
        "foreground_data.shape, foreground_label.shape, background_data.shape, background_label.shape"
      ],
      "execution_count": 226,
      "outputs": [
        {
          "output_type": "execute_result",
          "data": {
            "text/plain": [
              "(torch.Size([12665, 1, 28, 28]),\n",
              " torch.Size([12665]),\n",
              " torch.Size([47335, 1, 28, 28]),\n",
              " torch.Size([47335]))"
            ]
          },
          "metadata": {},
          "execution_count": 226
        }
      ]
    },
    {
      "cell_type": "code",
      "metadata": {
        "id": "IRd6EpWM6Abq"
      },
      "source": [
        "val, idx = torch.max(background_data, dim=0, keepdims= True,)\n",
        "# torch.abs(val)"
      ],
      "execution_count": 227,
      "outputs": []
    },
    {
      "cell_type": "code",
      "metadata": {
        "id": "Sly62nHh6VJy"
      },
      "source": [
        "mean_bg = torch.mean(background_data, dim=0, keepdims= True)\n",
        "std_bg, _ = torch.max(background_data, dim=0, keepdims= True)"
      ],
      "execution_count": 228,
      "outputs": []
    },
    {
      "cell_type": "code",
      "metadata": {
        "colab": {
          "base_uri": "https://localhost:8080/"
        },
        "id": "K89Qj57m6axj",
        "outputId": "69e8a3a5-e3ab-4c4f-ca0b-3ff06b7f7feb"
      },
      "source": [
        "mean_bg.shape, std_bg.shape"
      ],
      "execution_count": 229,
      "outputs": [
        {
          "output_type": "execute_result",
          "data": {
            "text/plain": [
              "(torch.Size([1, 1, 28, 28]), torch.Size([1, 1, 28, 28]))"
            ]
          },
          "metadata": {},
          "execution_count": 229
        }
      ]
    },
    {
      "cell_type": "code",
      "metadata": {
        "id": "wGVjRbqZ6lzV"
      },
      "source": [
        "foreground_data = (foreground_data - mean_bg) / std_bg\n",
        "background_data = (background_data - mean_bg) / torch.abs(std_bg)"
      ],
      "execution_count": 230,
      "outputs": []
    },
    {
      "cell_type": "code",
      "metadata": {
        "colab": {
          "base_uri": "https://localhost:8080/"
        },
        "id": "yxZVq5OW6o3L",
        "outputId": "4747a933-5d93-4a77-b814-773c3e1a100f"
      },
      "source": [
        "foreground_data.shape, foreground_label.shape, background_data.shape, background_label.shape"
      ],
      "execution_count": 231,
      "outputs": [
        {
          "output_type": "execute_result",
          "data": {
            "text/plain": [
              "(torch.Size([12665, 1, 28, 28]),\n",
              " torch.Size([12665]),\n",
              " torch.Size([47335, 1, 28, 28]),\n",
              " torch.Size([47335]))"
            ]
          },
          "metadata": {},
          "execution_count": 231
        }
      ]
    },
    {
      "cell_type": "code",
      "metadata": {
        "colab": {
          "base_uri": "https://localhost:8080/"
        },
        "id": "pTrGcqI7GsBA",
        "outputId": "6f9a9606-2145-4406-e850-2b2cd34ce1b2"
      },
      "source": [
        "torch.sum(torch.isnan(foreground_data)), torch.sum(torch.isnan(background_data))"
      ],
      "execution_count": 232,
      "outputs": [
        {
          "output_type": "execute_result",
          "data": {
            "text/plain": [
              "(tensor(0), tensor(0))"
            ]
          },
          "metadata": {},
          "execution_count": 232
        }
      ]
    },
    {
      "cell_type": "code",
      "metadata": {
        "colab": {
          "base_uri": "https://localhost:8080/",
          "height": 265
        },
        "id": "fIqpbILY-BiG",
        "outputId": "5b2262c1-e510-4f1c-a0d6-0b1d256be6a2"
      },
      "source": [
        "imshow(foreground_data[0])"
      ],
      "execution_count": 233,
      "outputs": [
        {
          "output_type": "display_data",
          "data": {
            "image/png": "[encoded data removed]",
            "text/plain": [
              "<Figure size 432x288 with 1 Axes>"
            ]
          },
          "metadata": {
            "needs_background": "light"
          }
        }
      ]
    },
    {
      "cell_type": "code",
      "metadata": {
        "colab": {
          "base_uri": "https://localhost:8080/",
          "height": 265
        },
        "id": "tRvTvlVo98xz",
        "outputId": "f595ce42-bcd8-48aa-c709-df3e749a4df0"
      },
      "source": [
        "imshow(background_data[0])"
      ],
      "execution_count": 234,
      "outputs": [
        {
          "output_type": "display_data",
          "data": {
            "image/png": "[encoded data removed]",
            "text/plain": [
              "<Figure size 432x288 with 1 Axes>"
            ]
          },
          "metadata": {
            "needs_background": "light"
          }
        }
      ]
    },
    {
      "cell_type": "markdown",
      "metadata": {
        "id": "ccO3wCVRNrxe"
      },
      "source": [
        "## generating CIN train and test data"
      ]
    },
    {
      "cell_type": "code",
      "metadata": {
        "colab": {
          "base_uri": "https://localhost:8080/"
        },
        "id": "30usvva6N0Nq",
        "outputId": "68006776-fd96-455f-aac4-0e624a3cb60b"
      },
      "source": [
        "np.random.seed(0)\n",
        "bg_idx = np.random.randint(0,47335,m-1)\n",
        "fg_idx = np.random.randint(0,12665)\n",
        "bg_idx, fg_idx"
      ],
      "execution_count": 235,
      "outputs": [
        {
          "output_type": "execute_result",
          "data": {
            "text/plain": [
              "(array([ 2732, 43567, 42613, 45891]), 4859)"
            ]
          },
          "metadata": {},
          "execution_count": 235
        }
      ]
    },
    {
      "cell_type": "code",
      "metadata": {
        "id": "Q3ryiEQ5N0GY"
      },
      "source": [
        "# for i in background_data[bg_idx]:\n",
        "#   imshow(i)"
      ],
      "execution_count": 236,
      "outputs": []
    },
    {
      "cell_type": "code",
      "metadata": {
        "colab": {
          "base_uri": "https://localhost:8080/",
          "height": 265
        },
        "id": "ZtUC0dNdN0Dz",
        "outputId": "51471fa8-0915-436e-d953-c26b9abb6f22"
      },
      "source": [
        "imshow(torch.sum(background_data[bg_idx], axis = 0))"
      ],
      "execution_count": 237,
      "outputs": [
        {
          "output_type": "display_data",
          "data": {
            "image/png": "[encoded data removed]",
            "text/plain": [
              "<Figure size 432x288 with 1 Axes>"
            ]
          },
          "metadata": {
            "needs_background": "light"
          }
        }
      ]
    },
    {
      "cell_type": "code",
      "metadata": {
        "colab": {
          "base_uri": "https://localhost:8080/",
          "height": 265
        },
        "id": "UY1IevjcN0BL",
        "outputId": "0d2413f7-e4be-464a-c261-1a2a74fb54d1"
      },
      "source": [
        "imshow(foreground_data[fg_idx])"
      ],
      "execution_count": 238,
      "outputs": [
        {
          "output_type": "display_data",
          "data": {
            "image/png": "[encoded data removed]",
            "text/plain": [
              "<Figure size 432x288 with 1 Axes>"
            ]
          },
          "metadata": {
            "needs_background": "light"
          }
        }
      ]
    },
    {
      "cell_type": "code",
      "metadata": {
        "colab": {
          "base_uri": "https://localhost:8080/"
        },
        "id": "e6niBULUNz-k",
        "outputId": "b48de8f2-5381-44aa-897d-c582c82d5ccd"
      },
      "source": [
        "tr_data = ( torch.sum(background_data[bg_idx], axis = 0) + foreground_data[fg_idx] )/m\n",
        "tr_data.shape"
      ],
      "execution_count": 239,
      "outputs": [
        {
          "output_type": "execute_result",
          "data": {
            "text/plain": [
              "torch.Size([1, 28, 28])"
            ]
          },
          "metadata": {},
          "execution_count": 239
        }
      ]
    },
    {
      "cell_type": "code",
      "metadata": {
        "colab": {
          "base_uri": "https://localhost:8080/",
          "height": 265
        },
        "id": "SSLaezrFNz7r",
        "outputId": "108b0796-a2b5-4151-a6ec-9be4857ce628"
      },
      "source": [
        "imshow(tr_data)"
      ],
      "execution_count": 240,
      "outputs": [
        {
          "output_type": "display_data",
          "data": {
            "image/png": "[encoded data removed]",
            "text/plain": [
              "<Figure size 432x288 with 1 Axes>"
            ]
          },
          "metadata": {
            "needs_background": "light"
          }
        }
      ]
    },
    {
      "cell_type": "code",
      "metadata": {
        "colab": {
          "base_uri": "https://localhost:8080/"
        },
        "id": "aNZSuYqiOC6d",
        "outputId": "5e778da1-6096-45e4-d50a-2eca8acc2411"
      },
      "source": [
        "foreground_label[fg_idx]"
      ],
      "execution_count": 241,
      "outputs": [
        {
          "output_type": "execute_result",
          "data": {
            "text/plain": [
              "tensor(1)"
            ]
          },
          "metadata": {},
          "execution_count": 241
        }
      ]
    },
    {
      "cell_type": "code",
      "metadata": {
        "id": "vD1bssSmOC3k"
      },
      "source": [
        "train_images =[]      # list of mosaic images, each mosaic image is saved as list of 9 images             \n",
        "train_label=[]                # label of mosaic image = foreground class present in that mosaic\n",
        "\n",
        "for i in range(desired_num):\n",
        "  np.random.seed(i)\n",
        "  bg_idx = np.random.randint(0,47335,m-1)\n",
        "  fg_idx = np.random.randint(0,12665)\n",
        "\n",
        "  tr_data = ( torch.sum(background_data[bg_idx], axis = 0) + foreground_data[fg_idx] ) / m\n",
        "  label = (foreground_label[fg_idx].item())\n",
        "\n",
        "  train_images.append(tr_data)\n",
        "  train_label.append(label)\n"
      ],
      "execution_count": 242,
      "outputs": []
    },
    {
      "cell_type": "code",
      "metadata": {
        "colab": {
          "base_uri": "https://localhost:8080/"
        },
        "id": "CkoRVhHSOC09",
        "outputId": "c63841f8-d41b-4322-b9aa-13ce8921d28a"
      },
      "source": [
        "train_images = torch.stack(train_images)\n",
        "train_images.shape, len(train_label)"
      ],
      "execution_count": 243,
      "outputs": [
        {
          "output_type": "execute_result",
          "data": {
            "text/plain": [
              "(torch.Size([500, 1, 28, 28]), 500)"
            ]
          },
          "metadata": {},
          "execution_count": 243
        }
      ]
    },
    {
      "cell_type": "code",
      "metadata": {
        "colab": {
          "base_uri": "https://localhost:8080/",
          "height": 265
        },
        "id": "KrJqFMoEOCyK",
        "outputId": "482141dd-bfbe-4ff0-a3ac-917a61c08a6b"
      },
      "source": [
        "imshow(train_images[0])"
      ],
      "execution_count": 244,
      "outputs": [
        {
          "output_type": "display_data",
          "data": {
            "image/png": "[encoded data removed]",
            "text/plain": [
              "<Figure size 432x288 with 1 Axes>"
            ]
          },
          "metadata": {
            "needs_background": "light"
          }
        }
      ]
    },
    {
      "cell_type": "code",
      "metadata": {
        "id": "cv6LZJMoOeb8"
      },
      "source": [
        "test_images =[]      # list of mosaic images, each mosaic image is saved as list of 9 images             \n",
        "test_label=[]                # label of mosaic image = foreground class present in that mosaic\n",
        "\n",
        "for i in range(10000):\n",
        "  np.random.seed(i)\n",
        "  fg_idx = np.random.randint(0,12665)\n",
        "\n",
        "  tr_data = ( foreground_data[fg_idx] ) / m\n",
        "  label = (foreground_label[fg_idx].item())\n",
        "\n",
        "  test_images.append(tr_data)\n",
        "  test_label.append(label)\n"
      ],
      "execution_count": 245,
      "outputs": []
    },
    {
      "cell_type": "code",
      "metadata": {
        "colab": {
          "base_uri": "https://localhost:8080/"
        },
        "id": "ZBuH3ayNOeZU",
        "outputId": "8f89a181-eb6c-4368-cdab-8ff58f10ac63"
      },
      "source": [
        "test_images = torch.stack(test_images)\n",
        "test_images.shape, len(test_label)"
      ],
      "execution_count": 246,
      "outputs": [
        {
          "output_type": "execute_result",
          "data": {
            "text/plain": [
              "(torch.Size([10000, 1, 28, 28]), 10000)"
            ]
          },
          "metadata": {},
          "execution_count": 246
        }
      ]
    },
    {
      "cell_type": "code",
      "metadata": {
        "colab": {
          "base_uri": "https://localhost:8080/",
          "height": 265
        },
        "id": "wv_aBpW8OeWs",
        "outputId": "f5eb5d0b-2e68-4248-dbcf-61f37b686a59"
      },
      "source": [
        "imshow(test_images[0])"
      ],
      "execution_count": 247,
      "outputs": [
        {
          "output_type": "display_data",
          "data": {
            "image/png": "[encoded data removed]",
            "text/plain": [
              "<Figure size 432x288 with 1 Axes>"
            ]
          },
          "metadata": {
            "needs_background": "light"
          }
        }
      ]
    },
    {
      "cell_type": "code",
      "metadata": {
        "colab": {
          "base_uri": "https://localhost:8080/"
        },
        "id": "7mvKwVWNOeTi",
        "outputId": "1b7acb91-77e4-4621-d138-620e5adb010a"
      },
      "source": [
        "torch.sum(torch.isnan(train_images)), torch.sum(torch.isnan(test_images))"
      ],
      "execution_count": 248,
      "outputs": [
        {
          "output_type": "execute_result",
          "data": {
            "text/plain": [
              "(tensor(0), tensor(0))"
            ]
          },
          "metadata": {},
          "execution_count": 248
        }
      ]
    },
    {
      "cell_type": "code",
      "metadata": {
        "colab": {
          "base_uri": "https://localhost:8080/"
        },
        "id": "919oQptjOosG",
        "outputId": "997fd069-be81-42e9-9ff5-32e5e8350b95"
      },
      "source": [
        "np.unique(train_label), np.unique(test_label)"
      ],
      "execution_count": 249,
      "outputs": [
        {
          "output_type": "execute_result",
          "data": {
            "text/plain": [
              "(array([0, 1]), array([0, 1]))"
            ]
          },
          "metadata": {},
          "execution_count": 249
        }
      ]
    },
    {
      "cell_type": "markdown",
      "metadata": {
        "id": "dl3dzlPPOsDT"
      },
      "source": [
        "## creating dataloader"
      ]
    },
    {
      "cell_type": "code",
      "metadata": {
        "id": "hX35HdXoOoot"
      },
      "source": [
        "class CIN_Dataset(Dataset):\n",
        "  \"\"\"CIN_Dataset dataset.\"\"\"\n",
        "\n",
        "  def __init__(self, list_of_images, labels):\n",
        "    \"\"\"\n",
        "      Args:\n",
        "        csv_file (string): Path to the csv file with annotations.\n",
        "        root_dir (string): Directory with all the images.\n",
        "        transform (callable, optional): Optional transform to be applied\n",
        "            on a sample.\n",
        "    \"\"\"\n",
        "    self.image = list_of_images\n",
        "    self.label = labels\n",
        "\n",
        "  def __len__(self):\n",
        "    return len(self.label)\n",
        "\n",
        "  def __getitem__(self, idx):\n",
        "    return self.image[idx] , self.label[idx]\n",
        "\n"
      ],
      "execution_count": 250,
      "outputs": []
    },
    {
      "cell_type": "code",
      "metadata": {
        "id": "Y44ojnvZOolr"
      },
      "source": [
        "batch = 250\n",
        "train_data = CIN_Dataset(train_images, train_label)\n",
        "train_loader = DataLoader( train_data, batch_size= batch , shuffle=True)\n",
        "\n",
        "test_data = CIN_Dataset( test_images , test_label)\n",
        "test_loader = DataLoader( test_data, batch_size= batch , shuffle=False)"
      ],
      "execution_count": 251,
      "outputs": []
    },
    {
      "cell_type": "code",
      "metadata": {
        "colab": {
          "base_uri": "https://localhost:8080/"
        },
        "id": "dLJ5YSOOO6s6",
        "outputId": "8b00866a-b8e0-4096-ccb7-6d24691f7e13"
      },
      "source": [
        "train_loader.dataset.image.shape, test_loader.dataset.image.shape"
      ],
      "execution_count": 252,
      "outputs": [
        {
          "output_type": "execute_result",
          "data": {
            "text/plain": [
              "(torch.Size([500, 1, 28, 28]), torch.Size([10000, 1, 28, 28]))"
            ]
          },
          "metadata": {},
          "execution_count": 252
        }
      ]
    },
    {
      "cell_type": "markdown",
      "metadata": {
        "id": "z0oF6s0dO7zy"
      },
      "source": [
        "## model"
      ]
    },
    {
      "cell_type": "code",
      "metadata": {
        "id": "KoP6hoBqNJxX"
      },
      "source": [
        "class Classification(nn.Module):\n",
        "  def __init__(self):\n",
        "    super(Classification, self).__init__()\n",
        "    self.fc1 = nn.Linear(28*28, 50)\n",
        "    self.fc2 = nn.Linear(50, 2)\n",
        "    \n",
        "    torch.nn.init.xavier_normal_(self.fc1.weight)\n",
        "    torch.nn.init.zeros_(self.fc1.bias)\n",
        "\n",
        "    torch.nn.init.xavier_normal_(self.fc2.weight)\n",
        "    torch.nn.init.zeros_(self.fc2.bias)\n",
        "\n",
        "\n",
        "  def forward(self, x):\n",
        "    x = x.view(-1, 28*28)\n",
        "    x = F.relu(self.fc1(x))\n",
        "    x = self.fc2(x)\n",
        "    return x"
      ],
      "execution_count": 253,
      "outputs": []
    },
    {
      "cell_type": "markdown",
      "metadata": {
        "id": "KwP2xvB7PBFK"
      },
      "source": [
        "## training"
      ]
    },
    {
      "cell_type": "code",
      "metadata": {
        "id": "uPYplUGazU9I"
      },
      "source": [
        "torch.manual_seed(12)\n",
        "classify = Classification().double()\n",
        "classify = classify.to(\"cuda\")"
      ],
      "execution_count": 254,
      "outputs": []
    },
    {
      "cell_type": "code",
      "metadata": {
        "id": "n5g3geNJ5zEu"
      },
      "source": [
        "import torch.optim as optim\n",
        "criterion = nn.CrossEntropyLoss()\n",
        "optimizer_classify = optim.Adam(classify.parameters(), lr=0.001  ) #, momentum=0.9)"
      ],
      "execution_count": 255,
      "outputs": []
    },
    {
      "cell_type": "code",
      "metadata": {
        "id": "725MVVfLS3et",
        "colab": {
          "base_uri": "https://localhost:8080/"
        },
        "outputId": "ce1b1f43-9332-4785-bcc1-b3b8ce172f13"
      },
      "source": [
        "correct = 0\n",
        "total = 0\n",
        "count = 0\n",
        "flag = 1\n",
        "\n",
        "with torch.no_grad():\n",
        "  for data in train_loader:\n",
        "    inputs, labels = data\n",
        "    inputs = inputs.double()\n",
        "    inputs, labels  = inputs.to(\"cuda\"),labels.to(\"cuda\")\n",
        "\n",
        "    outputs = classify(inputs)\n",
        "\n",
        "    _, predicted = torch.max(outputs.data, 1)\n",
        "\n",
        "    total += labels.size(0)\n",
        "    correct += (predicted == labels).sum().item()\n",
        "\n",
        "print('Accuracy of the network on the %d train images: %f %%' % ( desired_num , 100 * correct / total))\n",
        "print(\"total correct\", correct)\n",
        "print(\"total train set images\", total)"
      ],
      "execution_count": 256,
      "outputs": [
        {
          "output_type": "stream",
          "name": "stdout",
          "text": [
            "Accuracy of the network on the 500 train images: 53.200000 %\n",
            "total correct 266\n",
            "total train set images 500\n"
          ]
        }
      ]
    },
    {
      "cell_type": "code",
      "metadata": {
        "colab": {
          "base_uri": "https://localhost:8080/"
        },
        "id": "iYTaJG0GPLA7",
        "outputId": "cc358e0f-591b-4f3d-f734-699737034d40"
      },
      "source": [
        "correct = 0\n",
        "total = 0\n",
        "count = 0\n",
        "flag = 1\n",
        "\n",
        "with torch.no_grad():\n",
        "  for data in test_loader:\n",
        "    inputs, labels = data\n",
        "    inputs = inputs.double()\n",
        "    inputs, labels  = inputs.to(\"cuda\"),labels.to(\"cuda\")\n",
        "\n",
        "    outputs = classify(inputs)\n",
        "\n",
        "    _, predicted = torch.max(outputs.data, 1)\n",
        "\n",
        "    total += labels.size(0)\n",
        "    correct += (predicted == labels).sum().item()\n",
        "\n",
        "print('Accuracy of the network on the %d test images: %f %%' % ( 10000 , 100 * correct / total))\n",
        "print(\"total correct\", correct)\n",
        "print(\"total train set images\", total)"
      ],
      "execution_count": 257,
      "outputs": [
        {
          "output_type": "stream",
          "name": "stdout",
          "text": [
            "Accuracy of the network on the 10000 test images: 56.400000 %\n",
            "total correct 5640\n",
            "total train set images 10000\n"
          ]
        }
      ]
    },
    {
      "cell_type": "code",
      "metadata": {
        "colab": {
          "base_uri": "https://localhost:8080/"
        },
        "id": "LCWyTEIKPNlK",
        "outputId": "d8d26534-ce14-457f-adcf-bb8ddc64a280"
      },
      "source": [
        "nos_epochs = 200\n",
        "tr_loss = []\n",
        "for epoch in range(nos_epochs):  # loop over the dataset multiple times\n",
        "\n",
        "  epoch_loss = []\n",
        "  cnt=0\n",
        "  iteration = desired_num // batch\n",
        "  running_loss = 0\n",
        "  \n",
        "  #training data set  \n",
        "  for i, data in  enumerate(train_loader):\n",
        "    inputs, labels = data\n",
        "    inputs = inputs.double()\n",
        "    inputs, labels  = inputs.to(\"cuda\"),labels.to(\"cuda\")\n",
        "    inputs = inputs.double()\n",
        "    # zero the parameter gradients\n",
        "    \n",
        "    optimizer_classify.zero_grad()\n",
        "\n",
        "    outputs = classify(inputs)\n",
        "\n",
        "    _, predicted = torch.max(outputs.data, 1)\n",
        "#     print(outputs)\n",
        "#     print(outputs.shape,labels.shape , torch.argmax(outputs, dim=1))\n",
        "\n",
        "    loss = criterion(outputs, labels) \n",
        "    loss.backward()\n",
        "\n",
        "    optimizer_classify.step()\n",
        "\n",
        "    running_loss += loss.item()\n",
        "    mini = 1\n",
        "    if cnt % mini == mini-1:    # print every 40 mini-batches\n",
        "      # print('[%d, %5d] loss: %.3f' %(epoch + 1, cnt + 1, running_loss / mini))\n",
        "      epoch_loss.append(running_loss/mini)\n",
        "      running_loss = 0.0\n",
        "    cnt=cnt+1\n",
        "\n",
        "  tr_loss.append(np.mean(epoch_loss))\n",
        "  if(np.mean(epoch_loss) <= 0.001):\n",
        "      break;\n",
        "  else:\n",
        "    print('[Epoch : %d] loss: %.3f' %(epoch + 1, np.mean(epoch_loss) ))\n",
        "    \n",
        "print('Finished Training')"
      ],
      "execution_count": 258,
      "outputs": [
        {
          "output_type": "stream",
          "name": "stdout",
          "text": [
            "[Epoch : 1] loss: 0.667\n",
            "[Epoch : 2] loss: 0.537\n",
            "[Epoch : 3] loss: 0.443\n",
            "[Epoch : 4] loss: 0.379\n",
            "[Epoch : 5] loss: 0.334\n",
            "[Epoch : 6] loss: 0.301\n",
            "[Epoch : 7] loss: 0.275\n",
            "[Epoch : 8] loss: 0.252\n",
            "[Epoch : 9] loss: 0.234\n",
            "[Epoch : 10] loss: 0.218\n",
            "[Epoch : 11] loss: 0.204\n",
            "[Epoch : 12] loss: 0.190\n",
            "[Epoch : 13] loss: 0.178\n",
            "[Epoch : 14] loss: 0.168\n",
            "[Epoch : 15] loss: 0.157\n",
            "[Epoch : 16] loss: 0.147\n",
            "[Epoch : 17] loss: 0.138\n",
            "[Epoch : 18] loss: 0.130\n",
            "[Epoch : 19] loss: 0.122\n",
            "[Epoch : 20] loss: 0.115\n",
            "[Epoch : 21] loss: 0.108\n",
            "[Epoch : 22] loss: 0.102\n",
            "[Epoch : 23] loss: 0.096\n",
            "[Epoch : 24] loss: 0.091\n",
            "[Epoch : 25] loss: 0.086\n",
            "[Epoch : 26] loss: 0.082\n",
            "[Epoch : 27] loss: 0.077\n",
            "[Epoch : 28] loss: 0.073\n",
            "[Epoch : 29] loss: 0.070\n",
            "[Epoch : 30] loss: 0.066\n",
            "[Epoch : 31] loss: 0.063\n",
            "[Epoch : 32] loss: 0.060\n",
            "[Epoch : 33] loss: 0.057\n",
            "[Epoch : 34] loss: 0.054\n",
            "[Epoch : 35] loss: 0.051\n",
            "[Epoch : 36] loss: 0.049\n",
            "[Epoch : 37] loss: 0.047\n",
            "[Epoch : 38] loss: 0.044\n",
            "[Epoch : 39] loss: 0.042\n",
            "[Epoch : 40] loss: 0.040\n",
            "[Epoch : 41] loss: 0.038\n",
            "[Epoch : 42] loss: 0.037\n",
            "[Epoch : 43] loss: 0.035\n",
            "[Epoch : 44] loss: 0.034\n",
            "[Epoch : 45] loss: 0.032\n",
            "[Epoch : 46] loss: 0.031\n",
            "[Epoch : 47] loss: 0.029\n",
            "[Epoch : 48] loss: 0.028\n",
            "[Epoch : 49] loss: 0.027\n",
            "[Epoch : 50] loss: 0.026\n",
            "[Epoch : 51] loss: 0.025\n",
            "[Epoch : 52] loss: 0.024\n",
            "[Epoch : 53] loss: 0.023\n",
            "[Epoch : 54] loss: 0.022\n",
            "[Epoch : 55] loss: 0.021\n",
            "[Epoch : 56] loss: 0.020\n",
            "[Epoch : 57] loss: 0.020\n",
            "[Epoch : 58] loss: 0.019\n",
            "[Epoch : 59] loss: 0.018\n",
            "[Epoch : 60] loss: 0.017\n",
            "[Epoch : 61] loss: 0.017\n",
            "[Epoch : 62] loss: 0.016\n",
            "[Epoch : 63] loss: 0.016\n",
            "[Epoch : 64] loss: 0.015\n",
            "[Epoch : 65] loss: 0.015\n",
            "[Epoch : 66] loss: 0.014\n",
            "[Epoch : 67] loss: 0.014\n",
            "[Epoch : 68] loss: 0.013\n",
            "[Epoch : 69] loss: 0.013\n",
            "[Epoch : 70] loss: 0.012\n",
            "[Epoch : 71] loss: 0.012\n",
            "[Epoch : 72] loss: 0.012\n",
            "[Epoch : 73] loss: 0.011\n",
            "[Epoch : 74] loss: 0.011\n",
            "[Epoch : 75] loss: 0.011\n",
            "[Epoch : 76] loss: 0.010\n",
            "[Epoch : 77] loss: 0.010\n",
            "[Epoch : 78] loss: 0.010\n",
            "[Epoch : 79] loss: 0.010\n",
            "[Epoch : 80] loss: 0.009\n",
            "[Epoch : 81] loss: 0.009\n",
            "[Epoch : 82] loss: 0.009\n",
            "[Epoch : 83] loss: 0.009\n",
            "[Epoch : 84] loss: 0.008\n",
            "[Epoch : 85] loss: 0.008\n",
            "[Epoch : 86] loss: 0.008\n",
            "[Epoch : 87] loss: 0.008\n",
            "[Epoch : 88] loss: 0.008\n",
            "[Epoch : 89] loss: 0.007\n",
            "[Epoch : 90] loss: 0.007\n",
            "[Epoch : 91] loss: 0.007\n",
            "[Epoch : 92] loss: 0.007\n",
            "[Epoch : 93] loss: 0.007\n",
            "[Epoch : 94] loss: 0.007\n",
            "[Epoch : 95] loss: 0.006\n",
            "[Epoch : 96] loss: 0.006\n",
            "[Epoch : 97] loss: 0.006\n",
            "[Epoch : 98] loss: 0.006\n",
            "[Epoch : 99] loss: 0.006\n",
            "[Epoch : 100] loss: 0.006\n",
            "[Epoch : 101] loss: 0.006\n",
            "[Epoch : 102] loss: 0.005\n",
            "[Epoch : 103] loss: 0.005\n",
            "[Epoch : 104] loss: 0.005\n",
            "[Epoch : 105] loss: 0.005\n",
            "[Epoch : 106] loss: 0.005\n",
            "[Epoch : 107] loss: 0.005\n",
            "[Epoch : 108] loss: 0.005\n",
            "[Epoch : 109] loss: 0.005\n",
            "[Epoch : 110] loss: 0.005\n",
            "[Epoch : 111] loss: 0.005\n",
            "[Epoch : 112] loss: 0.004\n",
            "[Epoch : 113] loss: 0.004\n",
            "[Epoch : 114] loss: 0.004\n",
            "[Epoch : 115] loss: 0.004\n",
            "[Epoch : 116] loss: 0.004\n",
            "[Epoch : 117] loss: 0.004\n",
            "[Epoch : 118] loss: 0.004\n",
            "[Epoch : 119] loss: 0.004\n",
            "[Epoch : 120] loss: 0.004\n",
            "[Epoch : 121] loss: 0.004\n",
            "[Epoch : 122] loss: 0.004\n",
            "[Epoch : 123] loss: 0.004\n",
            "[Epoch : 124] loss: 0.004\n",
            "[Epoch : 125] loss: 0.004\n",
            "[Epoch : 126] loss: 0.003\n",
            "[Epoch : 127] loss: 0.003\n",
            "[Epoch : 128] loss: 0.003\n",
            "[Epoch : 129] loss: 0.003\n",
            "[Epoch : 130] loss: 0.003\n",
            "[Epoch : 131] loss: 0.003\n",
            "[Epoch : 132] loss: 0.003\n",
            "[Epoch : 133] loss: 0.003\n",
            "[Epoch : 134] loss: 0.003\n",
            "[Epoch : 135] loss: 0.003\n",
            "[Epoch : 136] loss: 0.003\n",
            "[Epoch : 137] loss: 0.003\n",
            "[Epoch : 138] loss: 0.003\n",
            "[Epoch : 139] loss: 0.003\n",
            "[Epoch : 140] loss: 0.003\n",
            "[Epoch : 141] loss: 0.003\n",
            "[Epoch : 142] loss: 0.003\n",
            "[Epoch : 143] loss: 0.003\n",
            "[Epoch : 144] loss: 0.003\n",
            "[Epoch : 145] loss: 0.003\n",
            "[Epoch : 146] loss: 0.003\n",
            "[Epoch : 147] loss: 0.003\n",
            "[Epoch : 148] loss: 0.002\n",
            "[Epoch : 149] loss: 0.002\n",
            "[Epoch : 150] loss: 0.002\n",
            "[Epoch : 151] loss: 0.002\n",
            "[Epoch : 152] loss: 0.002\n",
            "[Epoch : 153] loss: 0.002\n",
            "[Epoch : 154] loss: 0.002\n",
            "[Epoch : 155] loss: 0.002\n",
            "[Epoch : 156] loss: 0.002\n",
            "[Epoch : 157] loss: 0.002\n",
            "[Epoch : 158] loss: 0.002\n",
            "[Epoch : 159] loss: 0.002\n",
            "[Epoch : 160] loss: 0.002\n",
            "[Epoch : 161] loss: 0.002\n",
            "[Epoch : 162] loss: 0.002\n",
            "[Epoch : 163] loss: 0.002\n",
            "[Epoch : 164] loss: 0.002\n",
            "[Epoch : 165] loss: 0.002\n",
            "[Epoch : 166] loss: 0.002\n",
            "[Epoch : 167] loss: 0.002\n",
            "[Epoch : 168] loss: 0.002\n",
            "[Epoch : 169] loss: 0.002\n",
            "[Epoch : 170] loss: 0.002\n",
            "[Epoch : 171] loss: 0.002\n",
            "[Epoch : 172] loss: 0.002\n",
            "[Epoch : 173] loss: 0.002\n",
            "[Epoch : 174] loss: 0.002\n",
            "[Epoch : 175] loss: 0.002\n",
            "[Epoch : 176] loss: 0.002\n",
            "[Epoch : 177] loss: 0.002\n",
            "[Epoch : 178] loss: 0.002\n",
            "[Epoch : 179] loss: 0.002\n",
            "[Epoch : 180] loss: 0.002\n",
            "[Epoch : 181] loss: 0.002\n",
            "[Epoch : 182] loss: 0.002\n",
            "[Epoch : 183] loss: 0.002\n",
            "[Epoch : 184] loss: 0.002\n",
            "[Epoch : 185] loss: 0.002\n",
            "[Epoch : 186] loss: 0.002\n",
            "[Epoch : 187] loss: 0.002\n",
            "[Epoch : 188] loss: 0.002\n",
            "[Epoch : 189] loss: 0.001\n",
            "[Epoch : 190] loss: 0.001\n",
            "[Epoch : 191] loss: 0.001\n",
            "[Epoch : 192] loss: 0.001\n",
            "[Epoch : 193] loss: 0.001\n",
            "[Epoch : 194] loss: 0.001\n",
            "[Epoch : 195] loss: 0.001\n",
            "[Epoch : 196] loss: 0.001\n",
            "[Epoch : 197] loss: 0.001\n",
            "[Epoch : 198] loss: 0.001\n",
            "[Epoch : 199] loss: 0.001\n",
            "[Epoch : 200] loss: 0.001\n",
            "Finished Training\n"
          ]
        }
      ]
    },
    {
      "cell_type": "code",
      "metadata": {
        "colab": {
          "base_uri": "https://localhost:8080/",
          "height": 288
        },
        "id": "nfzc13qsPST6",
        "outputId": "29edb8a8-18e4-4d83-f735-e116dc9c11c8"
      },
      "source": [
        "plt.plot(tr_loss)"
      ],
      "execution_count": 259,
      "outputs": [
        {
          "output_type": "execute_result",
          "data": {
            "text/plain": [
              "[<matplotlib.lines.Line2D at 0x7f6754c721d0>]"
            ]
          },
          "metadata": {},
          "execution_count": 259
        },
        {
          "output_type": "display_data",
          "data": {
            "image/png": "[encoded data removed]",
            "text/plain": [
              "<Figure size 432x288 with 1 Axes>"
            ]
          },
          "metadata": {
            "needs_background": "light"
          }
        }
      ]
    },
    {
      "cell_type": "code",
      "metadata": {
        "colab": {
          "base_uri": "https://localhost:8080/"
        },
        "id": "uORwiHXMPU7P",
        "outputId": "f705e9d0-0613-4ec7-b129-0cda2d1c2acc"
      },
      "source": [
        "correct = 0\n",
        "total = 0\n",
        "count = 0\n",
        "flag = 1\n",
        "\n",
        "with torch.no_grad():\n",
        "  for data in train_loader:\n",
        "    inputs, labels = data\n",
        "    inputs = inputs.double()\n",
        "    inputs, labels  = inputs.to(\"cuda\"),labels.to(\"cuda\")\n",
        "\n",
        "    outputs = classify(inputs)\n",
        "\n",
        "    _, predicted = torch.max(outputs.data, 1)\n",
        "\n",
        "    total += labels.size(0)\n",
        "    correct += (predicted == labels).sum().item()\n",
        "\n",
        "print('Accuracy of the network on the %d train images: %f %%' % ( desired_num , 100 * correct / total))\n",
        "print(\"total correct\", correct)\n",
        "print(\"total train set images\", total)"
      ],
      "execution_count": 260,
      "outputs": [
        {
          "output_type": "stream",
          "name": "stdout",
          "text": [
            "Accuracy of the network on the 500 train images: 100.000000 %\n",
            "total correct 500\n",
            "total train set images 500\n"
          ]
        }
      ]
    },
    {
      "cell_type": "code",
      "metadata": {
        "colab": {
          "base_uri": "https://localhost:8080/"
        },
        "id": "YqPjpP3EPWQK",
        "outputId": "4ff3668a-e394-4ccb-9baf-bbe2da9df4fc"
      },
      "source": [
        "correct = 0\n",
        "total = 0\n",
        "count = 0\n",
        "flag = 1\n",
        "\n",
        "with torch.no_grad():\n",
        "  for data in test_loader:\n",
        "    inputs, labels = data\n",
        "    inputs = inputs.double()\n",
        "    inputs, labels  = inputs.to(\"cuda\"),labels.to(\"cuda\")\n",
        "\n",
        "    outputs = classify(inputs)\n",
        "\n",
        "    _, predicted = torch.max(outputs.data, 1)\n",
        "\n",
        "    total += labels.size(0)\n",
        "    correct += (predicted == labels).sum().item()\n",
        "\n",
        "print('Accuracy of the network on the %d train images: %f %%' % ( 10000 , 100 * correct / total))\n",
        "print(\"total correct\", correct)\n",
        "print(\"total test set images\", total)"
      ],
      "execution_count": 261,
      "outputs": [
        {
          "output_type": "stream",
          "name": "stdout",
          "text": [
            "Accuracy of the network on the 10000 train images: 99.750000 %\n",
            "total correct 9975\n",
            "total test set images 10000\n"
          ]
        }
      ]
    },
    {
      "cell_type": "code",
      "metadata": {
        "id": "c6wGSifzPXzx"
      },
      "source": [
        ""
      ],
      "execution_count": 261,
      "outputs": []
    }
  ]
}