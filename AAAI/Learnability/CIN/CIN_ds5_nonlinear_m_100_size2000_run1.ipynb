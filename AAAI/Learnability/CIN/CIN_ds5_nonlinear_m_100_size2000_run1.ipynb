{
  "nbformat": 4,
  "nbformat_minor": 0,
  "metadata": {
    "accelerator": "GPU",
    "colab": {
      "name": "CIN_ds5_nonlinear_m_100_size2000_run1.ipynb",
      "provenance": [],
      "collapsed_sections": []
    },
    "kernelspec": {
      "display_name": "Python 3",
      "language": "python",
      "name": "python3"
    },
    "language_info": {
      "codemirror_mode": {
        "name": "ipython",
        "version": 3
      },
      "file_extension": ".py",
      "mimetype": "text/x-python",
      "name": "python",
      "nbconvert_exporter": "python",
      "pygments_lexer": "ipython3",
      "version": "3.6.5"
    }
  },
  "cells": [
    {
      "cell_type": "code",
      "metadata": {
        "colab": {
          "base_uri": "https://localhost:8080/"
        },
        "id": "N2_J4Rw2r0SQ",
        "outputId": "57c5e440-c0a1-46e8-88ad-0b47ba86a24f"
      },
      "source": [
        "import numpy as np\n",
        "import pandas as pd\n",
        "from matplotlib import pyplot as plt\n",
        "from tqdm import tqdm\n",
        "%matplotlib inline\n",
        "from torch.utils.data import Dataset, DataLoader\n",
        "import torch\n",
        "import torchvision\n",
        "\n",
        "import torch.nn as nn\n",
        "import torch.optim as optim\n",
        "from torch.nn import functional as F\n",
        "device = torch.device(\"cuda\" if torch.cuda.is_available() else \"cpu\")\n",
        "print(device)"
      ],
      "execution_count": 1,
      "outputs": [
        {
          "output_type": "stream",
          "name": "stdout",
          "text": [
            "cuda\n"
          ]
        }
      ]
    },
    {
      "cell_type": "code",
      "metadata": {
        "id": "ZTJPyL45DiJ3"
      },
      "source": [
        "m = 100                     # 5, 50, 100, 500, 2000"
      ],
      "execution_count": 2,
      "outputs": []
    },
    {
      "cell_type": "code",
      "metadata": {
        "id": "g-do5dZWK5L6"
      },
      "source": [
        "train_size = 2000           # 100, 500, 2000, 10000"
      ],
      "execution_count": 3,
      "outputs": []
    },
    {
      "cell_type": "code",
      "metadata": {
        "id": "c-WeVGWd49Hj"
      },
      "source": [
        "desired_num = train_size + 1000"
      ],
      "execution_count": 4,
      "outputs": []
    },
    {
      "cell_type": "code",
      "metadata": {
        "colab": {
          "base_uri": "https://localhost:8080/"
        },
        "id": "XTHbSeGAK7k7",
        "outputId": "6f5ed3ed-b93b-48df-badd-1d263421490d"
      },
      "source": [
        "tr_i = 0\n",
        "tr_j = train_size\n",
        "tr_k = desired_num\n",
        "\n",
        "tr_i, tr_j, tr_k"
      ],
      "execution_count": 5,
      "outputs": [
        {
          "output_type": "execute_result",
          "data": {
            "text/plain": [
              "(0, 2000, 3000)"
            ]
          },
          "metadata": {},
          "execution_count": 5
        }
      ]
    },
    {
      "cell_type": "markdown",
      "metadata": {
        "id": "F6fjud_Fr0Sa"
      },
      "source": [
        "# Generate dataset"
      ]
    },
    {
      "cell_type": "code",
      "source": [
        "np.random.seed(1)\n",
        "\n",
        "y = np.concatenate((np.zeros(500),np.ones(500),np.ones(500)*2,np.ones(500)*3,np.ones(500)*4,\n",
        "                    np.ones(500)*5,np.ones(500)*6,np.ones(500)*7,np.ones(500)*8,np.ones(500)*9))\n",
        "#y = np.random.randint(0,3,6000)\n",
        "idx= []\n",
        "for i in range(10):\n",
        "    print(i,sum(y==i))\n",
        "    idx.append(y==i)"
      ],
      "metadata": {
        "colab": {
          "base_uri": "https://localhost:8080/"
        },
        "id": "ePsjDkjsEZm4",
        "outputId": "342f3763-29c2-4cbe-d9d1-8c5f328e0415"
      },
      "execution_count": 18,
      "outputs": [
        {
          "output_type": "stream",
          "name": "stdout",
          "text": [
            "0 500\n",
            "1 500\n",
            "2 500\n",
            "3 500\n",
            "4 500\n",
            "5 500\n",
            "6 500\n",
            "7 500\n",
            "8 500\n",
            "9 500\n"
          ]
        }
      ]
    },
    {
      "cell_type": "code",
      "metadata": {
        "id": "ddhXyODwr0Sk"
      },
      "source": [
        "x = np.zeros((5000,5))"
      ],
      "execution_count": 19,
      "outputs": []
    },
    {
      "cell_type": "code",
      "metadata": {
        "id": "DyV3N2DIr0Sp"
      },
      "source": [
        "np.random.seed(1)\n",
        "cov_mat = [[0.01,0,0,0,0],[0,0.01,0,0,0],[0,0,0.01,0,0], [0,0,0,0.01,0],[0,0,0,0,0.01]]\n",
        "x[idx[0],:] = np.random.multivariate_normal(mean = [1,0,0,0,0], cov=cov_mat,size=sum(idx[0]))\n",
        "x[idx[1],:] = np.random.multivariate_normal(mean = [0,1,0,0,0], cov=cov_mat,size=sum(idx[1]))\n",
        "x[idx[2],:] = np.random.multivariate_normal(mean = [0,0,1,0,0], cov=cov_mat,size=sum(idx[2]))\n",
        "x[idx[3],:] = np.random.multivariate_normal(mean = [0,0,0,-0.75,0.5], cov=cov_mat,size=sum(idx[3]))\n",
        "x[idx[4],:] = np.random.multivariate_normal(mean = [0,0,0,0.65,-0.65], cov=cov_mat,size=sum(idx[4]))\n",
        "x[idx[5],:] = np.random.multivariate_normal(mean = [0,0,0,-0.9,-0.75], cov=cov_mat,size=sum(idx[5]))\n",
        "x[idx[6],:] = np.random.multivariate_normal(mean = [0,0,0,0.8,-0.8], cov=cov_mat,size=sum(idx[6]))\n",
        "x[idx[7],:] = np.random.multivariate_normal(mean = [0,0,0,-0.5,0.8], cov=cov_mat,size=sum(idx[7]))\n",
        "x[idx[8],:] = np.random.multivariate_normal(mean = [0,0,0,0.9,0.75], cov=cov_mat,size=sum(idx[8]))\n",
        "x[idx[9],:] = np.random.multivariate_normal(mean = [0,0,0,-1,0.65], cov=cov_mat,size=sum(idx[9]))"
      ],
      "execution_count": 20,
      "outputs": []
    },
    {
      "cell_type": "code",
      "source": [
        "plt.scatter(x[idx[0],0],x[idx[0],1],label=\"class_\"+str(0))\n",
        "plt.scatter(x[idx[1],0],x[idx[1],1],label=\"class_\"+str(1))\n",
        "plt.scatter(x[idx[2],0],x[idx[2],1],label=\"class_\"+str(2))\n",
        "plt.scatter(x[idx[3],0],x[idx[3],1],label=\"class_\"+str(3))\n",
        "plt.scatter(x[idx[4],0],x[idx[4],1],label=\"class_\"+str(4))\n",
        "plt.scatter(x[idx[5],0],x[idx[5],1],label=\"class_\"+str(5))\n",
        "plt.scatter(x[idx[6],0],x[idx[6],1],label=\"class_\"+str(6))\n",
        "plt.scatter(x[idx[7],0],x[idx[7],1],label=\"class_\"+str(7))\n",
        "plt.scatter(x[idx[8],0],x[idx[8],1],label=\"class_\"+str(8))\n",
        "plt.scatter(x[idx[9],0],x[idx[9],1],label=\"class_\"+str(9))\n",
        "plt.legend(loc='center left', bbox_to_anchor=(1, 0.5))"
      ],
      "metadata": {
        "colab": {
          "base_uri": "https://localhost:8080/",
          "height": 284
        },
        "id": "bPPedcldFQ3s",
        "outputId": "5b404b92-76ed-45de-f0c6-feda6cd42eea"
      },
      "execution_count": 21,
      "outputs": [
        {
          "output_type": "execute_result",
          "data": {
            "text/plain": [
              "<matplotlib.legend.Legend at 0x7f3c20b390d0>"
            ]
          },
          "metadata": {},
          "execution_count": 21
        },
        {
          "output_type": "display_data",
          "data": {
            "image/png": "[encoded data removed]",
            "text/plain": [
              "<Figure size 432x288 with 1 Axes>"
            ]
          },
          "metadata": {
            "needs_background": "light"
          }
        }
      ]
    },
    {
      "cell_type": "code",
      "metadata": {
        "colab": {
          "base_uri": "https://localhost:8080/"
        },
        "id": "hJ8Jm7YUr0St",
        "outputId": "17ce502d-e4a3-47d6-dc92-589826d5e13f"
      },
      "source": [
        "print(np.mean(x)),print(np.std(x))"
      ],
      "execution_count": 22,
      "outputs": [
        {
          "output_type": "stream",
          "name": "stdout",
          "text": [
            "0.05462249461305607\n",
            "0.4753049055165644\n"
          ]
        },
        {
          "output_type": "execute_result",
          "data": {
            "text/plain": [
              "(None, None)"
            ]
          },
          "metadata": {},
          "execution_count": 22
        }
      ]
    },
    {
      "cell_type": "code",
      "metadata": {
        "colab": {
          "base_uri": "https://localhost:8080/"
        },
        "id": "3lMBZEHNBlF2",
        "outputId": "96f866a8-7381-4027-b01b-97706dd764c9"
      },
      "source": [
        "bg_idx = [ np.where(idx[3] == True)[0], \n",
        "          np.where(idx[4] == True)[0], \n",
        "          np.where(idx[5] == True)[0],\n",
        "          np.where(idx[6] == True)[0], \n",
        "          np.where(idx[7] == True)[0], \n",
        "          np.where(idx[8] == True)[0],\n",
        "          np.where(idx[9] == True)[0]]\n",
        "\n",
        "bg_idx = np.concatenate(bg_idx, axis = 0)\n",
        "bg_idx.shape"
      ],
      "execution_count": 23,
      "outputs": [
        {
          "output_type": "execute_result",
          "data": {
            "text/plain": [
              "(3500,)"
            ]
          },
          "metadata": {},
          "execution_count": 23
        }
      ]
    },
    {
      "cell_type": "code",
      "metadata": {
        "colab": {
          "base_uri": "https://localhost:8080/"
        },
        "id": "blRbGZHeCwXU",
        "outputId": "31898527-519b-43f7-81a7-237f393dd944"
      },
      "source": [
        "np.unique(bg_idx).shape"
      ],
      "execution_count": 24,
      "outputs": [
        {
          "output_type": "execute_result",
          "data": {
            "text/plain": [
              "(3500,)"
            ]
          },
          "metadata": {},
          "execution_count": 24
        }
      ]
    },
    {
      "cell_type": "code",
      "metadata": {
        "id": "Y43sWeX7C15F"
      },
      "source": [
        "x = x - np.mean(x[bg_idx], axis = 0, keepdims = True)\n"
      ],
      "execution_count": 25,
      "outputs": []
    },
    {
      "cell_type": "code",
      "metadata": {
        "colab": {
          "base_uri": "https://localhost:8080/"
        },
        "id": "ooII7N6UDWe0",
        "outputId": "42170077-0664-4153-898c-7890868e6a46"
      },
      "source": [
        "np.mean(x[bg_idx], axis = 0, keepdims = True), np.mean(x, axis = 0, keepdims = True)"
      ],
      "execution_count": 26,
      "outputs": [
        {
          "output_type": "execute_result",
          "data": {
            "text/plain": [
              "(array([[ 6.72874455e-18, -2.89451003e-18, -1.64947421e-18,\n",
              "          2.85168714e-17,  8.81580523e-16]]),\n",
              " array([[ 0.10012904,  0.10065381,  0.10037787,  0.03479147, -0.02345936]]))"
            ]
          },
          "metadata": {},
          "execution_count": 26
        }
      ]
    },
    {
      "cell_type": "code",
      "metadata": {
        "id": "g21bvPRYDL9k"
      },
      "source": [
        "x = x/np.std(x[bg_idx], axis = 0, keepdims = True)"
      ],
      "execution_count": 27,
      "outputs": []
    },
    {
      "cell_type": "code",
      "metadata": {
        "colab": {
          "base_uri": "https://localhost:8080/"
        },
        "id": "GtFvIeHsDZJk",
        "outputId": "11712c4c-5921-4b11-f551-47d350e34bf3"
      },
      "source": [
        "np.std(x[bg_idx], axis = 0, keepdims = True), np.std(x, axis = 0, keepdims = True)"
      ],
      "execution_count": 28,
      "outputs": [
        {
          "output_type": "execute_result",
          "data": {
            "text/plain": [
              "(array([[1., 1., 1., 1., 1.]]),\n",
              " array([[3.14972578, 3.12064066, 3.19592602, 0.84217255, 0.84196962]]))"
            ]
          },
          "metadata": {},
          "execution_count": 28
        }
      ]
    },
    {
      "cell_type": "code",
      "metadata": {
        "colab": {
          "base_uri": "https://localhost:8080/",
          "height": 284
        },
        "id": "8-VLhUfDDeHt",
        "outputId": "cc0f09cd-2bd6-49ce-bd8f-7dbc32a89112"
      },
      "source": [
        "plt.scatter(x[idx[0],0],x[idx[0],1],label=\"class_\"+str(0))\n",
        "plt.scatter(x[idx[1],0],x[idx[1],1],label=\"class_\"+str(1))\n",
        "plt.scatter(x[idx[2],0],x[idx[2],1],label=\"class_\"+str(2))\n",
        "plt.scatter(x[idx[3],0],x[idx[3],1],label=\"class_\"+str(3))\n",
        "plt.scatter(x[idx[4],0],x[idx[4],1],label=\"class_\"+str(4))\n",
        "plt.scatter(x[idx[5],0],x[idx[5],1],label=\"class_\"+str(5))\n",
        "plt.scatter(x[idx[6],0],x[idx[6],1],label=\"class_\"+str(6))\n",
        "plt.scatter(x[idx[7],0],x[idx[7],1],label=\"class_\"+str(7))\n",
        "plt.scatter(x[idx[8],0],x[idx[8],1],label=\"class_\"+str(8))\n",
        "plt.scatter(x[idx[9],0],x[idx[9],1],label=\"class_\"+str(9))\n",
        "plt.legend(loc='center left', bbox_to_anchor=(1, 0.5))"
      ],
      "execution_count": 29,
      "outputs": [
        {
          "output_type": "execute_result",
          "data": {
            "text/plain": [
              "<matplotlib.legend.Legend at 0x7f3c20aae110>"
            ]
          },
          "metadata": {},
          "execution_count": 29
        },
        {
          "output_type": "display_data",
          "data": {
            "image/png": "[encoded data removed]",
            "text/plain": [
              "<Figure size 432x288 with 1 Axes>"
            ]
          },
          "metadata": {
            "needs_background": "light"
          }
        }
      ]
    },
    {
      "cell_type": "code",
      "metadata": {
        "id": "UfFHcZJOr0Sz"
      },
      "source": [
        "foreground_classes = {'class_0','class_1', 'class_2'}\n",
        "\n",
        "background_classes = {'class_3','class_4', 'class_5', 'class_6','class_7', 'class_8', 'class_9'}"
      ],
      "execution_count": 30,
      "outputs": []
    },
    {
      "cell_type": "code",
      "metadata": {
        "colab": {
          "base_uri": "https://localhost:8080/"
        },
        "id": "OplNpNQVr0S2",
        "outputId": "7c3dc10a-3cb9-45a2-f4c1-78fe70b89e31"
      },
      "source": [
        "fg_class  = np.random.randint(0,3)\n",
        "fg_idx = np.random.randint(0,m)\n",
        "\n",
        "a = []\n",
        "for i in range(m):\n",
        "    if i == fg_idx:\n",
        "        b = np.random.choice(np.where(idx[fg_class]==True)[0],size=1)\n",
        "        a.append(x[b])\n",
        "        print(\"foreground \"+str(fg_class)+\" present at \" + str(fg_idx))\n",
        "    else:\n",
        "        bg_class = np.random.randint(3,10)\n",
        "        b = np.random.choice(np.where(idx[bg_class]==True)[0],size=1)\n",
        "        a.append(x[b])\n",
        "        print(\"background \"+str(bg_class)+\" present at \" + str(i))\n",
        "a = np.concatenate(a,axis=0)\n",
        "print(a.shape)\n",
        "\n",
        "print(fg_class , fg_idx)"
      ],
      "execution_count": 31,
      "outputs": [
        {
          "output_type": "stream",
          "name": "stdout",
          "text": [
            "background 3 present at 0\n",
            "background 9 present at 1\n",
            "background 8 present at 2\n",
            "background 5 present at 3\n",
            "background 9 present at 4\n",
            "background 9 present at 5\n",
            "background 3 present at 6\n",
            "background 7 present at 7\n",
            "background 3 present at 8\n",
            "background 7 present at 9\n",
            "background 9 present at 10\n",
            "background 6 present at 11\n",
            "background 8 present at 12\n",
            "background 7 present at 13\n",
            "background 9 present at 14\n",
            "background 5 present at 15\n",
            "background 3 present at 16\n",
            "background 6 present at 17\n",
            "background 4 present at 18\n",
            "background 4 present at 19\n",
            "background 3 present at 20\n",
            "background 5 present at 21\n",
            "background 8 present at 22\n",
            "background 3 present at 23\n",
            "background 6 present at 24\n",
            "background 9 present at 25\n",
            "background 8 present at 26\n",
            "background 4 present at 27\n",
            "background 6 present at 28\n",
            "background 6 present at 29\n",
            "background 3 present at 30\n",
            "background 4 present at 31\n",
            "background 9 present at 32\n",
            "background 3 present at 33\n",
            "background 6 present at 34\n",
            "background 9 present at 35\n",
            "background 7 present at 36\n",
            "background 9 present at 37\n",
            "background 7 present at 38\n",
            "background 9 present at 39\n",
            "background 5 present at 40\n",
            "background 6 present at 41\n",
            "background 4 present at 42\n",
            "background 5 present at 43\n",
            "background 9 present at 44\n",
            "background 3 present at 45\n",
            "background 7 present at 46\n",
            "background 6 present at 47\n",
            "background 4 present at 48\n",
            "background 8 present at 49\n",
            "background 8 present at 50\n",
            "background 4 present at 51\n",
            "background 7 present at 52\n",
            "foreground 0 present at 53\n",
            "background 8 present at 54\n",
            "background 7 present at 55\n",
            "background 7 present at 56\n",
            "background 4 present at 57\n",
            "background 6 present at 58\n",
            "background 8 present at 59\n",
            "background 4 present at 60\n",
            "background 5 present at 61\n",
            "background 8 present at 62\n",
            "background 8 present at 63\n",
            "background 6 present at 64\n",
            "background 4 present at 65\n",
            "background 8 present at 66\n",
            "background 8 present at 67\n",
            "background 4 present at 68\n",
            "background 5 present at 69\n",
            "background 5 present at 70\n",
            "background 3 present at 71\n",
            "background 8 present at 72\n",
            "background 8 present at 73\n",
            "background 4 present at 74\n",
            "background 9 present at 75\n",
            "background 6 present at 76\n",
            "background 3 present at 77\n",
            "background 6 present at 78\n",
            "background 8 present at 79\n",
            "background 6 present at 80\n",
            "background 5 present at 81\n",
            "background 9 present at 82\n",
            "background 9 present at 83\n",
            "background 8 present at 84\n",
            "background 5 present at 85\n",
            "background 5 present at 86\n",
            "background 6 present at 87\n",
            "background 3 present at 88\n",
            "background 7 present at 89\n",
            "background 3 present at 90\n",
            "background 3 present at 91\n",
            "background 8 present at 92\n",
            "background 6 present at 93\n",
            "background 4 present at 94\n",
            "background 7 present at 95\n",
            "background 3 present at 96\n",
            "background 9 present at 97\n",
            "background 7 present at 98\n",
            "background 6 present at 99\n",
            "(100, 5)\n",
            "0 53\n"
          ]
        }
      ]
    },
    {
      "cell_type": "code",
      "metadata": {
        "colab": {
          "base_uri": "https://localhost:8080/"
        },
        "id": "OoxzYI-ur0S_",
        "outputId": "be00483c-c09c-4d67-f724-871144221ba4"
      },
      "source": [
        "np.reshape(a,(5*m,1))"
      ],
      "execution_count": 33,
      "outputs": [
        {
          "output_type": "execute_result",
          "data": {
            "text/plain": [
              "array([[-0.47251198],\n",
              "       [ 0.39952002],\n",
              "       [-0.66331996],\n",
              "       [-0.75551516],\n",
              "       [ 0.32546747],\n",
              "       [ 1.19147045],\n",
              "       [-0.17066575],\n",
              "       [ 2.07241536],\n",
              "       [-1.03888841],\n",
              "       [ 1.02567243],\n",
              "       [ 0.66297358],\n",
              "       [-0.33581588],\n",
              "       [-1.50640568],\n",
              "       [ 1.49337284],\n",
              "       [ 1.10404831],\n",
              "       [-0.67590729],\n",
              "       [-0.10279299],\n",
              "       [-1.51747502],\n",
              "       [-0.97973318],\n",
              "       [-1.5178471 ],\n",
              "       [-0.9747852 ],\n",
              "       [-1.7634849 ],\n",
              "       [-0.83877375],\n",
              "       [-1.24690452],\n",
              "       [ 0.83039582],\n",
              "       [-0.35660586],\n",
              "       [ 0.11044144],\n",
              "       [-0.02043493],\n",
              "       [-1.11076158],\n",
              "       [ 1.08526394],\n",
              "       [ 1.08131316],\n",
              "       [ 1.14651002],\n",
              "       [ 0.75845239],\n",
              "       [-0.72170946],\n",
              "       [ 0.57801397],\n",
              "       [ 0.66026926],\n",
              "       [-0.16235624],\n",
              "       [ 0.32504969],\n",
              "       [-0.57445512],\n",
              "       [ 0.78505598],\n",
              "       [ 1.0943025 ],\n",
              "       [-1.173274  ],\n",
              "       [ 1.84087674],\n",
              "       [-0.64515276],\n",
              "       [ 0.64364437],\n",
              "       [-1.84324908],\n",
              "       [ 2.00597726],\n",
              "       [-0.7495675 ],\n",
              "       [-0.61142641],\n",
              "       [ 0.97450498],\n",
              "       [-0.85700225],\n",
              "       [-1.27552262],\n",
              "       [-0.25572149],\n",
              "       [-1.11938931],\n",
              "       [ 0.61331838],\n",
              "       [ 1.87871901],\n",
              "       [ 0.25193806],\n",
              "       [ 0.80536847],\n",
              "       [ 1.0111945 ],\n",
              "       [-1.38032256],\n",
              "       [ 0.27389172],\n",
              "       [-0.32000797],\n",
              "       [ 0.95227566],\n",
              "       [ 1.39686768],\n",
              "       [ 0.9955328 ],\n",
              "       [ 1.23404194],\n",
              "       [ 1.06667972],\n",
              "       [-2.03082167],\n",
              "       [-0.41436033],\n",
              "       [ 1.04182037],\n",
              "       [ 1.59911168],\n",
              "       [ 0.59780254],\n",
              "       [-0.80857746],\n",
              "       [-1.09047864],\n",
              "       [ 0.78059865],\n",
              "       [-1.79686577],\n",
              "       [ 2.23459742],\n",
              "       [-2.53237938],\n",
              "       [-0.66166641],\n",
              "       [-1.01500433],\n",
              "       [-0.80848985],\n",
              "       [-2.06809903],\n",
              "       [ 0.71278431],\n",
              "       [-0.69302695],\n",
              "       [ 0.76888849],\n",
              "       [ 1.36010208],\n",
              "       [-1.50364894],\n",
              "       [-0.5007787 ],\n",
              "       [ 1.17347997],\n",
              "       [-1.24511215],\n",
              "       [ 1.50502482],\n",
              "       [-1.99926984],\n",
              "       [-2.07522593],\n",
              "       [ 0.93196915],\n",
              "       [-0.82921505],\n",
              "       [ 1.01598283],\n",
              "       [ 0.18959238],\n",
              "       [ 0.73857535],\n",
              "       [ 0.92743648],\n",
              "       [-1.08184716],\n",
              "       [ 0.53231793],\n",
              "       [ 0.50819341],\n",
              "       [ 0.85831125],\n",
              "       [-0.84322761],\n",
              "       [ 0.66943966],\n",
              "       [ 1.19683147],\n",
              "       [-2.87876646],\n",
              "       [-0.47689166],\n",
              "       [-1.15456765],\n",
              "       [-1.21921116],\n",
              "       [-0.30423004],\n",
              "       [-0.89370754],\n",
              "       [-1.61530796],\n",
              "       [ 1.20411103],\n",
              "       [ 0.73082637],\n",
              "       [-1.54846278],\n",
              "       [ 0.0538258 ],\n",
              "       [-0.86267137],\n",
              "       [-1.03058567],\n",
              "       [ 0.63059337],\n",
              "       [ 0.71068073],\n",
              "       [ 1.07142229],\n",
              "       [ 1.08049342],\n",
              "       [ 1.13776586],\n",
              "       [-1.12848853],\n",
              "       [ 0.74538601],\n",
              "       [-0.2383361 ],\n",
              "       [-0.02689342],\n",
              "       [-0.97441344],\n",
              "       [ 0.68060222],\n",
              "       [-0.01379559],\n",
              "       [ 0.41793521],\n",
              "       [-0.76572495],\n",
              "       [ 1.08348238],\n",
              "       [ 0.95964138],\n",
              "       [ 0.73366879],\n",
              "       [ 0.86778929],\n",
              "       [-1.19184241],\n",
              "       [ 0.67105298],\n",
              "       [-1.01835881],\n",
              "       [ 0.05363922],\n",
              "       [ 0.38321265],\n",
              "       [ 0.88499964],\n",
              "       [ 1.1006696 ],\n",
              "       [-1.10891485],\n",
              "       [ 0.8448644 ],\n",
              "       [-1.6700843 ],\n",
              "       [-2.36692748],\n",
              "       [ 0.97721729],\n",
              "       [-1.65673536],\n",
              "       [-0.73657644],\n",
              "       [-1.25800755],\n",
              "       [-0.71782144],\n",
              "       [-0.82667366],\n",
              "       [ 0.75344686],\n",
              "       [ 1.03955721],\n",
              "       [-0.36317432],\n",
              "       [-1.23047571],\n",
              "       [ 0.96102163],\n",
              "       [-1.08538512],\n",
              "       [-0.62191948],\n",
              "       [-0.90840907],\n",
              "       [-2.39263444],\n",
              "       [-1.05697197],\n",
              "       [ 0.75498033],\n",
              "       [ 0.03847765],\n",
              "       [ 0.41864125],\n",
              "       [ 0.1552129 ],\n",
              "       [-0.71187036],\n",
              "       [ 0.4486893 ],\n",
              "       [-0.13028281],\n",
              "       [ 0.51951119],\n",
              "       [-1.04668628],\n",
              "       [ 1.19275577],\n",
              "       [-1.23175985],\n",
              "       [ 0.04539471],\n",
              "       [ 0.30123583],\n",
              "       [ 0.65864536],\n",
              "       [-1.04934205],\n",
              "       [ 0.78168658],\n",
              "       [-0.13625206],\n",
              "       [ 1.40679695],\n",
              "       [-0.27691723],\n",
              "       [-0.75850237],\n",
              "       [ 1.04424029],\n",
              "       [-0.20359381],\n",
              "       [-0.50007999],\n",
              "       [ 0.12740842],\n",
              "       [-1.0213132 ],\n",
              "       [ 0.71824888],\n",
              "       [ 2.74987391],\n",
              "       [-0.63071033],\n",
              "       [-1.52254323],\n",
              "       [-0.25520891],\n",
              "       [ 0.93766782],\n",
              "       [ 0.14061387],\n",
              "       [ 0.29495636],\n",
              "       [ 0.18934574],\n",
              "       [-0.96776143],\n",
              "       [ 0.65422419],\n",
              "       [ 0.7182778 ],\n",
              "       [ 0.3603601 ],\n",
              "       [-0.25722772],\n",
              "       [-0.89794189],\n",
              "       [-1.07397439],\n",
              "       [-0.20639074],\n",
              "       [-1.23598829],\n",
              "       [-0.9626677 ],\n",
              "       [ 1.26092595],\n",
              "       [-1.10506163],\n",
              "       [-0.50531826],\n",
              "       [-2.51863588],\n",
              "       [ 0.96779503],\n",
              "       [ 0.81872433],\n",
              "       [-1.08819356],\n",
              "       [-0.12008391],\n",
              "       [-1.16287415],\n",
              "       [-0.56772587],\n",
              "       [-1.1277417 ],\n",
              "       [-1.22497595],\n",
              "       [-0.01753043],\n",
              "       [ 2.00925619],\n",
              "       [-0.88367039],\n",
              "       [-1.1334029 ],\n",
              "       [ 0.77392192],\n",
              "       [-0.59689784],\n",
              "       [ 0.68542752],\n",
              "       [ 0.99054086],\n",
              "       [-0.77331354],\n",
              "       [ 0.58992926],\n",
              "       [ 1.51463613],\n",
              "       [ 0.47232423],\n",
              "       [-0.40039325],\n",
              "       [-0.46407552],\n",
              "       [ 1.20237239],\n",
              "       [ 0.87922237],\n",
              "       [ 1.41406   ],\n",
              "       [ 0.99060791],\n",
              "       [ 1.25810121],\n",
              "       [-1.24656221],\n",
              "       [-1.36577829],\n",
              "       [-0.96440071],\n",
              "       [ 2.27963275],\n",
              "       [ 0.83270019],\n",
              "       [-1.06651037],\n",
              "       [-2.05892927],\n",
              "       [ 0.46212747],\n",
              "       [ 0.03149308],\n",
              "       [ 1.27194791],\n",
              "       [ 1.14464447],\n",
              "       [ 0.9144855 ],\n",
              "       [ 0.55877603],\n",
              "       [ 1.49174322],\n",
              "       [ 1.22501361],\n",
              "       [ 1.07782917],\n",
              "       [ 2.23884882],\n",
              "       [-0.06799638],\n",
              "       [ 0.94576037],\n",
              "       [ 0.96224085],\n",
              "       [-0.74810083],\n",
              "       [ 0.80247306],\n",
              "       [ 0.7541113 ],\n",
              "       [-1.04013818],\n",
              "       [-0.6198111 ],\n",
              "       [ 0.94304297],\n",
              "       [10.60328574],\n",
              "       [ 0.37323625],\n",
              "       [-0.54136738],\n",
              "       [ 0.34331653],\n",
              "       [-0.08184031],\n",
              "       [-0.05931045],\n",
              "       [-1.27192719],\n",
              "       [ 0.95387958],\n",
              "       [ 1.01581289],\n",
              "       [ 0.63658926],\n",
              "       [-0.0143877 ],\n",
              "       [-1.28693993],\n",
              "       [-0.2945785 ],\n",
              "       [-0.52958521],\n",
              "       [ 1.07398451],\n",
              "       [ 0.56522313],\n",
              "       [-0.5084792 ],\n",
              "       [-0.50425115],\n",
              "       [-0.46366192],\n",
              "       [ 1.10746655],\n",
              "       [-1.42782564],\n",
              "       [ 0.60282503],\n",
              "       [-0.689336  ],\n",
              "       [ 0.84493821],\n",
              "       [-1.08135772],\n",
              "       [ 0.79853707],\n",
              "       [-1.32767312],\n",
              "       [ 0.30464011],\n",
              "       [ 1.1515718 ],\n",
              "       [-1.15747068],\n",
              "       [ 1.71962256],\n",
              "       [ 0.97332531],\n",
              "       [ 0.6115893 ],\n",
              "       [ 1.10482395],\n",
              "       [ 0.99955816],\n",
              "       [-0.87032145],\n",
              "       [ 0.84594937],\n",
              "       [-0.51793784],\n",
              "       [ 0.86510346],\n",
              "       [-1.17600348],\n",
              "       [-0.38696962],\n",
              "       [ 1.1179455 ],\n",
              "       [-0.25179   ],\n",
              "       [-0.96002329],\n",
              "       [-1.35681998],\n",
              "       [-2.34969121],\n",
              "       [-0.61588793],\n",
              "       [ 0.27607828],\n",
              "       [ 1.13746935],\n",
              "       [ 1.04191153],\n",
              "       [ 0.04365901],\n",
              "       [-0.16867767],\n",
              "       [ 0.7065499 ],\n",
              "       [ 1.14298152],\n",
              "       [ 0.88402927],\n",
              "       [ 0.79120087],\n",
              "       [ 0.33105852],\n",
              "       [-3.07433298],\n",
              "       [ 1.04283034],\n",
              "       [-1.38042116],\n",
              "       [-1.80148889],\n",
              "       [-1.05263455],\n",
              "       [ 1.38719223],\n",
              "       [ 0.85896506],\n",
              "       [-0.98075221],\n",
              "       [-0.11821689],\n",
              "       [-0.58132473],\n",
              "       [-0.99679791],\n",
              "       [ 1.21446746],\n",
              "       [ 1.07353121],\n",
              "       [ 0.35959993],\n",
              "       [-0.72942489],\n",
              "       [ 1.9852283 ],\n",
              "       [ 1.4055255 ],\n",
              "       [ 0.78349127],\n",
              "       [ 2.1095444 ],\n",
              "       [-0.83628267],\n",
              "       [ 0.82345444],\n",
              "       [ 0.81878256],\n",
              "       [-1.11576146],\n",
              "       [ 1.06112303],\n",
              "       [-1.30100616],\n",
              "       [-0.98871089],\n",
              "       [-0.82857778],\n",
              "       [-1.13793516],\n",
              "       [-2.15137891],\n",
              "       [-0.15617859],\n",
              "       [ 0.17609265],\n",
              "       [-0.90977125],\n",
              "       [-1.25778527],\n",
              "       [-0.41463294],\n",
              "       [ 0.48645068],\n",
              "       [ 0.09908733],\n",
              "       [-0.60920806],\n",
              "       [ 0.91683829],\n",
              "       [ 0.87812636],\n",
              "       [ 1.42345247],\n",
              "       [-0.53982348],\n",
              "       [ 1.33108636],\n",
              "       [ 0.94885873],\n",
              "       [-1.86189567],\n",
              "       [ 0.73615644],\n",
              "       [-0.27324951],\n",
              "       [ 1.46393218],\n",
              "       [ 1.184943  ],\n",
              "       [-0.22403464],\n",
              "       [ 1.49747642],\n",
              "       [ 0.44981613],\n",
              "       [ 0.82674114],\n",
              "       [-0.91933635],\n",
              "       [ 0.1982949 ],\n",
              "       [ 0.23793199],\n",
              "       [-0.33179663],\n",
              "       [-1.04565355],\n",
              "       [ 0.82536048],\n",
              "       [-0.87597486],\n",
              "       [ 1.24370739],\n",
              "       [ 1.68819411],\n",
              "       [ 1.27036463],\n",
              "       [-1.22450968],\n",
              "       [-0.26637453],\n",
              "       [ 1.16787749],\n",
              "       [ 1.19312761],\n",
              "       [-0.93667823],\n",
              "       [ 0.64374722],\n",
              "       [ 1.50645749],\n",
              "       [-0.05989383],\n",
              "       [ 0.60471524],\n",
              "       [ 0.92504545],\n",
              "       [-0.92330219],\n",
              "       [ 0.35782249],\n",
              "       [-0.43256883],\n",
              "       [ 0.57176156],\n",
              "       [ 1.12338803],\n",
              "       [ 1.04696931],\n",
              "       [-0.66823205],\n",
              "       [ 0.70952287],\n",
              "       [-0.34089614],\n",
              "       [ 1.17778278],\n",
              "       [-1.44665435],\n",
              "       [ 0.76454167],\n",
              "       [-1.71576231],\n",
              "       [ 0.82095649],\n",
              "       [-1.00417291],\n",
              "       [-1.23516409],\n",
              "       [-0.76674952],\n",
              "       [ 0.32355202],\n",
              "       [-1.14060151],\n",
              "       [-1.07403627],\n",
              "       [ 0.91247519],\n",
              "       [-0.40793054],\n",
              "       [ 1.50852276],\n",
              "       [ 0.08742959],\n",
              "       [-0.96605563],\n",
              "       [ 0.86100674],\n",
              "       [ 1.79616434],\n",
              "       [-1.75938722],\n",
              "       [-0.05894045],\n",
              "       [ 1.32729631],\n",
              "       [ 1.02879343],\n",
              "       [-0.57686506],\n",
              "       [ 0.27585448],\n",
              "       [-1.63657215],\n",
              "       [-1.04471899],\n",
              "       [-1.09511084],\n",
              "       [ 1.66605996],\n",
              "       [-1.12161185],\n",
              "       [-0.56891045],\n",
              "       [-1.00770092],\n",
              "       [-1.20511962],\n",
              "       [ 0.41087524],\n",
              "       [ 1.15602982],\n",
              "       [-0.03048757],\n",
              "       [ 1.0847827 ],\n",
              "       [-1.24675947],\n",
              "       [-0.51705729],\n",
              "       [ 1.02498688],\n",
              "       [-0.81508306],\n",
              "       [-0.80761582],\n",
              "       [ 0.84685265],\n",
              "       [ 1.08457237],\n",
              "       [ 1.19198095],\n",
              "       [-0.48862085],\n",
              "       [-0.5038283 ],\n",
              "       [ 0.91565995],\n",
              "       [ 0.43123901],\n",
              "       [-2.45976598],\n",
              "       [ 0.6306122 ],\n",
              "       [-0.89178345],\n",
              "       [ 0.61717765],\n",
              "       [-1.05381597],\n",
              "       [ 0.21824913],\n",
              "       [-1.44620749],\n",
              "       [-0.87732333],\n",
              "       [ 0.68718713],\n",
              "       [ 0.11442373],\n",
              "       [ 1.2541351 ],\n",
              "       [-0.11808206],\n",
              "       [ 1.25354646],\n",
              "       [ 1.01169107],\n",
              "       [-0.4408714 ],\n",
              "       [-0.31421808],\n",
              "       [ 1.11383557],\n",
              "       [ 1.01550359],\n",
              "       [-1.36777754],\n",
              "       [-0.82322635],\n",
              "       [ 0.06533441],\n",
              "       [ 0.47888589],\n",
              "       [ 0.63534755],\n",
              "       [-0.89467045],\n",
              "       [-1.51193704],\n",
              "       [ 2.01608331],\n",
              "       [ 1.60228371],\n",
              "       [-0.36278298],\n",
              "       [ 1.0258967 ],\n",
              "       [-1.17410078],\n",
              "       [-1.01651869],\n",
              "       [ 0.35950513],\n",
              "       [-0.85920427],\n",
              "       [ 0.5172566 ],\n",
              "       [ 1.04405061],\n",
              "       [-0.51890955],\n",
              "       [ 0.51866291],\n",
              "       [-1.28451984],\n",
              "       [ 0.87271188],\n",
              "       [ 1.16671943],\n",
              "       [-1.71010557],\n",
              "       [-1.30288376],\n",
              "       [-0.26059866],\n",
              "       [ 0.98905569],\n",
              "       [ 0.79120087],\n",
              "       [ 0.33105852],\n",
              "       [-3.07433298],\n",
              "       [ 1.04283034],\n",
              "       [-1.38042116]])"
            ]
          },
          "metadata": {},
          "execution_count": 33
        }
      ]
    },
    {
      "cell_type": "code",
      "metadata": {
        "id": "jqbvfbwVr0TN"
      },
      "source": [
        "\n",
        "mosaic_list_of_images =[]\n",
        "mosaic_label = []\n",
        "fore_idx=[]\n",
        "for j in range(desired_num):\n",
        "    np.random.seed(j)\n",
        "    fg_class  = np.random.randint(0,3)\n",
        "    fg_idx = np.random.randint(0,m)\n",
        "    a = []\n",
        "    for i in range(m):\n",
        "        if i == fg_idx:\n",
        "            b = np.random.choice(np.where(idx[fg_class]==True)[0],size=1)\n",
        "            a.append(x[b])\n",
        "#             print(\"foreground \"+str(fg_class)+\" present at \" + str(fg_idx))\n",
        "        else:\n",
        "            bg_class = np.random.randint(3,10)\n",
        "            b = np.random.choice(np.where(idx[bg_class]==True)[0],size=1)\n",
        "            a.append(x[b])\n",
        "#             print(\"background \"+str(bg_class)+\" present at \" + str(i))\n",
        "    a = np.concatenate(a,axis=0)\n",
        "    mosaic_list_of_images.append(np.reshape(a,(5*m,1)))\n",
        "    mosaic_label.append(fg_class)\n",
        "    fore_idx.append(fg_idx)"
      ],
      "execution_count": 34,
      "outputs": []
    },
    {
      "cell_type": "code",
      "metadata": {
        "colab": {
          "base_uri": "https://localhost:8080/"
        },
        "id": "YzJPNP2mFwAG",
        "outputId": "377feb95-aded-4c98-a4de-e99d35222653"
      },
      "source": [
        "mosaic_list_of_images = np.concatenate(mosaic_list_of_images,axis=1).T\n",
        "mosaic_list_of_images.shape"
      ],
      "execution_count": 35,
      "outputs": [
        {
          "output_type": "execute_result",
          "data": {
            "text/plain": [
              "(3000, 500)"
            ]
          },
          "metadata": {},
          "execution_count": 35
        }
      ]
    },
    {
      "cell_type": "code",
      "metadata": {
        "colab": {
          "base_uri": "https://localhost:8080/"
        },
        "id": "2aIPMgLXNiXW",
        "outputId": "738e7be4-7036-4cc0-86dd-4b67ac447f74"
      },
      "source": [
        "mosaic_list_of_images.shape, mosaic_list_of_images[0]"
      ],
      "execution_count": 36,
      "outputs": [
        {
          "output_type": "execute_result",
          "data": {
            "text/plain": [
              "((3000, 500),\n",
              " array([-8.10363381e-01, -1.69010846e+00, -3.28349918e-01,  1.30508361e+00,\n",
              "         8.37597818e-01, -7.94204969e-01, -4.59943789e-02, -9.78942997e-01,\n",
              "         1.36778960e+00, -1.30086105e+00, -4.34362287e-01, -1.13800890e-01,\n",
              "        -1.58617926e+00,  1.20189518e+00, -1.22540282e+00,  1.56683597e+00,\n",
              "        -1.96202490e-01, -6.92794565e-01,  1.10889862e+00, -9.08315584e-01,\n",
              "        -1.75717552e-01,  7.84322947e-01, -2.38902264e+00,  1.32618483e+00,\n",
              "         7.13093565e-01,  1.60348622e-01, -1.00277567e+00,  6.67753575e-01,\n",
              "        -5.34140548e-01,  1.08238164e+00, -4.48124128e-01, -6.76719161e-01,\n",
              "        -1.53098362e+00, -1.30391528e+00,  8.87988882e-01, -4.46512831e-01,\n",
              "         1.38657340e+00, -2.23064003e-01, -8.04809389e-01,  5.74480810e-01,\n",
              "         1.36994422e+00,  5.10531411e-01, -4.15622536e-01, -8.34777783e-01,\n",
              "        -1.07416903e+00,  4.86018645e-02,  5.89628548e-01, -3.55827991e-01,\n",
              "        -1.25109984e+00,  8.45904758e-01,  4.52879908e-01, -2.62917359e-01,\n",
              "        -1.18417584e+00, -1.10807599e+00,  9.10332632e-01, -1.84078239e+00,\n",
              "        -1.19258202e+00, -1.42305443e+00,  1.04443399e+00, -1.20395327e+00,\n",
              "        -8.47293208e-01, -1.23426332e+00,  1.18676516e+00,  8.16483882e-01,\n",
              "        -1.06013889e+00, -1.01533384e-01, -3.01076140e-01, -7.34197623e-01,\n",
              "        -7.25436630e-01,  5.89135356e-01, -1.22058264e-01,  8.90129302e-01,\n",
              "         1.10989224e+00, -3.24401969e-01,  9.87061262e-01, -1.14814773e+00,\n",
              "        -1.42257382e+00, -1.28906860e+00, -8.80941122e-01,  9.00687983e-01,\n",
              "        -1.10099801e+00,  1.70108715e+00,  6.01673129e-01,  1.26906763e+00,\n",
              "         9.01741600e-01, -5.30332814e-01,  3.86500549e-01,  2.34522388e-01,\n",
              "        -5.87261022e-01,  5.37549094e-01, -1.42313803e+00, -1.65644521e+00,\n",
              "         1.90817347e+00,  9.84029604e-01, -9.59766600e-01, -2.44535040e-01,\n",
              "        -5.06793317e-01,  3.87780496e-01,  9.29580318e-01, -1.09760932e+00,\n",
              "         1.99878657e+00,  2.70441947e-01,  1.77200624e-01,  1.48363623e+00,\n",
              "         1.05863938e+00, -8.65351365e-01, -1.50324178e+00,  4.62829871e-01,\n",
              "         1.27073705e+00, -1.36760632e+00, -8.22407423e-01, -1.81774724e-01,\n",
              "         2.67689006e-02, -8.86443860e-01,  5.24978295e-01,  7.50369114e-01,\n",
              "        -3.08064813e-01,  3.24084634e-01,  1.06788011e+00, -7.95768068e-01,\n",
              "         1.38922925e-01, -4.57326777e-01, -3.01106941e-01, -6.92267559e-01,\n",
              "         6.04704437e-01,  1.84948241e-01,  1.53934864e+00, -1.02460635e+00,\n",
              "        -9.17770109e-01, -9.33591767e-01,  2.05842059e-01,  1.13426299e+00,\n",
              "         5.84973297e-01,  1.03001252e+00, -1.25163046e+00,  9.02853729e-01,\n",
              "         5.73757374e-01, -1.68747380e-01, -1.10916692e+00, -1.11591590e+00,\n",
              "        -1.32490838e+00, -1.36221713e-01,  1.16784370e+00, -6.86360653e-01,\n",
              "         9.90400666e-01,  8.41040449e-01,  7.86567558e-01, -1.18319770e+00,\n",
              "        -8.00670281e-01,  4.56335321e-01,  7.10170884e-01,  1.58853604e-02,\n",
              "        -3.30049678e-01, -3.34287049e-01,  1.10803114e+00,  1.37155082e+00,\n",
              "         7.04928952e-01,  1.26722530e+00,  1.38108402e+00,  9.06294217e-01,\n",
              "         1.54006580e+00, -1.19130359e-01,  3.90831694e-01, -6.52299475e-01,\n",
              "         6.76492609e-01, -1.52836182e+00, -8.98253024e-01, -9.02460790e-01,\n",
              "         8.12192749e-01, -1.09313528e+00, -1.12857864e+00, -4.24856247e-01,\n",
              "        -1.24244461e+00, -7.04980502e-01,  1.42685847e+00, -1.26604593e+00,\n",
              "        -3.04122666e-01,  4.22735764e-01, -8.67170283e-01, -1.17664439e+00,\n",
              "         1.42242547e+00,  2.16597248e+00, -1.87782438e+00, -8.65319991e-01,\n",
              "         5.57327812e-01, -1.15942732e+00,  1.50126471e+00,  7.49789464e-02,\n",
              "         1.20462299e+00, -1.00624003e+00,  3.92427794e-02,  4.00753628e-02,\n",
              "         1.96278006e-01,  9.06497250e-01, -1.14490672e+00,  1.58500643e+00,\n",
              "         1.84334825e+00, -7.13306556e-01,  1.30435938e+00, -1.15599569e+00,\n",
              "        -8.50181906e-01, -5.77051897e-01, -1.52448282e-01,  1.13892242e+00,\n",
              "        -1.46798519e+00, -2.54457462e-01, -7.85796368e-01,  5.84534025e-01,\n",
              "        -8.16362791e-01, -1.19649632e+00, -4.54362458e-01,  4.04158680e-01,\n",
              "         1.51747262e+00, -7.96924026e-01,  7.07715185e-01,  6.89036309e-01,\n",
              "         1.79568467e+00,  1.53851873e+00,  1.13073732e+00, -1.36446309e+00,\n",
              "         1.15500479e+00, -9.36036285e-01,  7.28053373e-02, -6.18859706e-01,\n",
              "         1.03324736e+00,  6.71241645e-01, -3.63402277e-01,  2.79771178e+00,\n",
              "        -1.16215801e+00, -1.28871056e+00,  2.22425666e-01,  2.75568869e-02,\n",
              "        -3.63705224e-01,  1.20246782e+00, -1.22845541e+00,  8.72987704e+00,\n",
              "         1.43896574e+00,  5.29348237e-01,  1.06661712e-01, -8.51553987e-02,\n",
              "        -7.14276693e-02, -9.37326151e-01, -9.21581581e-01, -4.78158729e-01,\n",
              "         8.79744615e-01,  5.68383413e-01,  4.37992895e-02, -9.89622415e-01,\n",
              "        -3.90037415e-01,  1.02755931e+00,  2.85250919e+00,  1.23355563e+00,\n",
              "        -4.63850274e-01, -6.23279366e-01,  9.27930889e-01,  7.38533478e-01,\n",
              "        -9.93710036e-01, -1.73117454e-01, -5.00711300e-01,  9.30557580e-01,\n",
              "        -7.39079597e-01,  1.19924431e+00,  1.80465324e+00, -1.19417314e+00,\n",
              "         8.48020257e-01, -8.82280728e-02,  1.84086329e-01, -1.68683962e+00,\n",
              "        -6.30412522e-01,  8.75306966e-01, -8.59713445e-01, -9.80936668e-01,\n",
              "        -7.20191984e-01, -9.54719721e-01, -1.38375573e+00,  2.46687506e-01,\n",
              "        -1.04004936e+00,  1.39473809e+00,  1.19145018e+00,  9.09943901e-01,\n",
              "        -1.25363985e+00, -1.82287924e+00, -2.77530621e-01,  1.20842196e+00,\n",
              "         1.10134262e+00, -1.60741967e+00,  1.79990356e-01,  1.92825949e-01,\n",
              "         1.16438980e+00, -9.52599337e-01, -6.75705859e-01,  1.94907510e-01,\n",
              "         5.40139523e-02,  1.08545347e+00, -1.12650829e+00,  1.51411362e-01,\n",
              "         4.98395046e-01, -6.47997277e-01, -5.72986448e-01,  3.80774766e-01,\n",
              "        -7.15401923e-01, -5.05744974e-01, -1.91109113e+00,  1.23773771e+00,\n",
              "         8.50545669e-01,  7.33064055e-01, -5.06248333e-01,  1.63286088e+00,\n",
              "        -7.10267061e-01,  4.76428050e-01, -1.24340616e+00,  1.15801710e+00,\n",
              "        -8.62036580e-03, -1.21390072e+00, -1.06078852e+00, -7.34012648e-01,\n",
              "        -8.52328622e-01, -1.82553605e+00, -1.06747687e+00, -1.33922101e+00,\n",
              "        -1.82350131e-01,  2.22928707e-01,  7.58485894e-01,  1.17641689e+00,\n",
              "         8.84738835e-01, -1.08880860e+00, -4.75288732e-01,  1.27901268e+00,\n",
              "        -1.07532195e+00, -1.38956467e+00, -5.78007318e-01, -1.46546753e-02,\n",
              "        -1.04411206e+00,  1.34072731e+00,  8.58317392e-01,  1.08345523e+00,\n",
              "         8.93870510e-01, -4.91937652e-01,  1.54686661e+00,  1.14547341e+00,\n",
              "        -3.62951760e-01,  1.93734088e-01, -1.05708838e+00, -8.60654015e-01,\n",
              "         4.90513212e-01, -4.10998244e-01,  8.27239381e-01,  1.24412273e+00,\n",
              "        -8.95568752e-01, -1.10318285e+00,  1.60345030e+00, -3.02113095e-01,\n",
              "         1.26234084e+00, -8.57471742e-01, -1.13448713e+00, -1.06756625e-01,\n",
              "         2.09447263e-01, -7.57504495e-01,  1.07437338e+00, -1.17114513e+00,\n",
              "        -1.01089312e+00,  9.27259294e-01, -2.03453217e-01,  1.04229751e+00,\n",
              "        -1.11563104e+00,  1.97160107e-01,  1.35769645e+00, -5.36565451e-03,\n",
              "        -8.35177763e-01,  6.85837733e-01,  2.79218740e-01,  1.69209708e+00,\n",
              "         2.23662125e-01, -1.17171770e+00,  7.95521634e-01, -2.42015590e+00,\n",
              "         1.33693133e+00,  1.67829483e+00,  1.08652616e+00, -1.11675264e+00,\n",
              "        -1.00901691e+00, -1.88865150e+00, -1.77922671e+00, -1.01586046e+00,\n",
              "         6.08977935e-01,  2.07339704e+00,  9.51330232e-01,  5.09182857e-01,\n",
              "        -3.75073801e-01,  1.02689169e+00, -5.57150200e-01, -1.48607089e+00,\n",
              "        -1.11417061e+00, -1.01448518e+00, -1.44169067e+00, -6.19220547e-01,\n",
              "        -9.26075787e-01, -1.39221860e-02, -9.99884379e-01,  7.94905699e-01,\n",
              "         1.36994422e+00,  5.10531411e-01, -4.15622536e-01, -8.34777783e-01,\n",
              "        -1.07416903e+00, -2.58299946e-01,  8.44957125e-01,  1.14922456e-01,\n",
              "        -4.09929266e-01,  8.12548105e-01, -1.96607143e+00,  8.90907050e-01,\n",
              "         7.14523388e-01, -9.78758697e-01,  7.28083445e-01,  4.73867312e-01,\n",
              "        -8.83360626e-01, -2.31511892e-02, -9.50658126e-01,  5.34336687e-01,\n",
              "        -7.82392240e-01, -5.08228658e-01,  5.53408298e-01, -9.70641970e-01,\n",
              "        -1.03057184e+00, -5.28501925e-01, -7.25529132e-01,  1.17003797e+00,\n",
              "        -7.84059568e-01,  3.82927998e-01, -8.45750434e-01,  1.56164140e+00,\n",
              "        -6.65909321e-01, -1.06722372e+00,  1.03904281e+00,  1.10979985e+00,\n",
              "        -8.01839235e-01, -5.93889722e-01, -1.00357737e+00,  1.18094014e+00,\n",
              "        -1.80239627e+00,  3.96246061e-01,  1.51744317e+00, -1.06953845e+00,\n",
              "         7.87838206e-01, -6.17960437e-01,  6.81386310e-01, -2.80875609e-01,\n",
              "         1.19796653e+00, -1.46020497e+00,  7.38533478e-01, -9.93710036e-01,\n",
              "        -1.73117454e-01, -5.00711300e-01,  9.30557580e-01, -5.69353560e-01,\n",
              "         1.16584543e+00,  4.01974991e-01,  1.38526573e+00,  9.54983815e-01,\n",
              "         1.84404312e+00,  2.03107346e-01,  8.22594664e-01, -1.07015506e+00,\n",
              "         4.39441382e-01, -8.16023891e-01,  4.75506664e-02,  1.85041429e-01,\n",
              "        -8.22896178e-01, -1.07932826e+00, -9.74785199e-01, -1.76348490e+00,\n",
              "        -8.38773749e-01, -1.24690452e+00,  8.30395822e-01,  1.15117549e-01,\n",
              "        -9.70711602e-01, -1.81309574e-01,  1.19716360e+00, -1.22472983e+00,\n",
              "        -9.55805568e-01, -8.86959569e-01,  6.92121244e-01, -9.58174758e-01,\n",
              "         5.33705687e-01,  1.48133152e+00, -8.73623589e-01, -2.12592100e+00,\n",
              "        -9.16664510e-01,  4.22714619e-01, -3.60409893e+00, -1.22146945e+00,\n",
              "         1.00753045e+00, -7.90706746e-01,  4.56385422e-01,  1.50838513e+00,\n",
              "        -1.50547433e-01, -1.36618688e-01, -1.04865613e+00, -9.95030021e-01]))"
            ]
          },
          "metadata": {},
          "execution_count": 36
        }
      ]
    },
    {
      "cell_type": "code",
      "metadata": {
        "colab": {
          "base_uri": "https://localhost:8080/"
        },
        "id": "A3qcsbbzPfRG",
        "outputId": "1f895f41-4303-498b-ba9f-e6de9edf1be2"
      },
      "source": [
        "for j in range(m):\n",
        "  print(mosaic_list_of_images[0][5*j:5*j+5])\n",
        "  "
      ],
      "execution_count": 38,
      "outputs": [
        {
          "output_type": "stream",
          "name": "stdout",
          "text": [
            "[-0.81036338 -1.69010846 -0.32834992  1.30508361  0.83759782]\n",
            "[-0.79420497 -0.04599438 -0.978943    1.3677896  -1.30086105]\n",
            "[-0.43436229 -0.11380089 -1.58617926  1.20189518 -1.22540282]\n",
            "[ 1.56683597 -0.19620249 -0.69279456  1.10889862 -0.90831558]\n",
            "[-0.17571755  0.78432295 -2.38902264  1.32618483  0.71309356]\n",
            "[ 0.16034862 -1.00277567  0.66775357 -0.53414055  1.08238164]\n",
            "[-0.44812413 -0.67671916 -1.53098362 -1.30391528  0.88798888]\n",
            "[-0.44651283  1.3865734  -0.223064   -0.80480939  0.57448081]\n",
            "[ 1.36994422  0.51053141 -0.41562254 -0.83477778 -1.07416903]\n",
            "[ 0.04860186  0.58962855 -0.35582799 -1.25109984  0.84590476]\n",
            "[ 0.45287991 -0.26291736 -1.18417584 -1.10807599  0.91033263]\n",
            "[-1.84078239 -1.19258202 -1.42305443  1.04443399 -1.20395327]\n",
            "[-0.84729321 -1.23426332  1.18676516  0.81648388 -1.06013889]\n",
            "[-0.10153338 -0.30107614 -0.73419762 -0.72543663  0.58913536]\n",
            "[-0.12205826  0.8901293   1.10989224 -0.32440197  0.98706126]\n",
            "[-1.14814773 -1.42257382 -1.2890686  -0.88094112  0.90068798]\n",
            "[-1.10099801  1.70108715  0.60167313  1.26906763  0.9017416 ]\n",
            "[-0.53033281  0.38650055  0.23452239 -0.58726102  0.53754909]\n",
            "[-1.42313803 -1.65644521  1.90817347  0.9840296  -0.9597666 ]\n",
            "[-0.24453504 -0.50679332  0.3877805   0.92958032 -1.09760932]\n",
            "[1.99878657 0.27044195 0.17720062 1.48363623 1.05863938]\n",
            "[-0.86535137 -1.50324178  0.46282987  1.27073705 -1.36760632]\n",
            "[-0.82240742 -0.18177472  0.0267689  -0.88644386  0.52497829]\n",
            "[ 0.75036911 -0.30806481  0.32408463  1.06788011 -0.79576807]\n",
            "[ 0.13892293 -0.45732678 -0.30110694 -0.69226756  0.60470444]\n",
            "[ 0.18494824  1.53934864 -1.02460635 -0.91777011 -0.93359177]\n",
            "[ 0.20584206  1.13426299  0.5849733   1.03001252 -1.25163046]\n",
            "[ 0.90285373  0.57375737 -0.16874738 -1.10916692 -1.1159159 ]\n",
            "[-1.32490838 -0.13622171  1.1678437  -0.68636065  0.99040067]\n",
            "[ 0.84104045  0.78656756 -1.1831977  -0.80067028  0.45633532]\n",
            "[ 0.71017088  0.01588536 -0.33004968 -0.33428705  1.10803114]\n",
            "[1.37155082 0.70492895 1.2672253  1.38108402 0.90629422]\n",
            "[ 1.5400658  -0.11913036  0.39083169 -0.65229948  0.67649261]\n",
            "[-1.52836182 -0.89825302 -0.90246079  0.81219275 -1.09313528]\n",
            "[-1.12857864 -0.42485625 -1.24244461 -0.7049805   1.42685847]\n",
            "[-1.26604593 -0.30412267  0.42273576 -0.86717028 -1.17664439]\n",
            "[ 1.42242547  2.16597248 -1.87782438 -0.86531999  0.55732781]\n",
            "[-1.15942732  1.50126471  0.07497895  1.20462299 -1.00624003]\n",
            "[ 0.03924278  0.04007536  0.19627801  0.90649725 -1.14490672]\n",
            "[ 1.58500643  1.84334825 -0.71330656  1.30435938 -1.15599569]\n",
            "[-0.85018191 -0.5770519  -0.15244828  1.13892242 -1.46798519]\n",
            "[-0.25445746 -0.78579637  0.58453403 -0.81636279 -1.19649632]\n",
            "[-0.45436246  0.40415868  1.51747262 -0.79692403  0.70771518]\n",
            "[ 0.68903631  1.79568467  1.53851873  1.13073732 -1.36446309]\n",
            "[ 1.15500479 -0.93603629  0.07280534 -0.61885971  1.03324736]\n",
            "[ 0.67124164 -0.36340228  2.79771178 -1.16215801 -1.28871056]\n",
            "[ 0.22242567  0.02755689 -0.36370522  1.20246782 -1.22845541]\n",
            "[ 8.72987704  1.43896574  0.52934824  0.10666171 -0.0851554 ]\n",
            "[-0.07142767 -0.93732615 -0.92158158 -0.47815873  0.87974461]\n",
            "[ 0.56838341  0.04379929 -0.98962242 -0.39003741  1.02755931]\n",
            "[ 2.85250919  1.23355563 -0.46385027 -0.62327937  0.92793089]\n",
            "[ 0.73853348 -0.99371004 -0.17311745 -0.5007113   0.93055758]\n",
            "[-0.7390796   1.19924431  1.80465324 -1.19417314  0.84802026]\n",
            "[-0.08822807  0.18408633 -1.68683962 -0.63041252  0.87530697]\n",
            "[-0.85971344 -0.98093667 -0.72019198 -0.95471972 -1.38375573]\n",
            "[ 0.24668751 -1.04004936  1.39473809  1.19145018  0.9099439 ]\n",
            "[-1.25363985 -1.82287924 -0.27753062  1.20842196  1.10134262]\n",
            "[-1.60741967  0.17999036  0.19282595  1.1643898  -0.95259934]\n",
            "[-0.67570586  0.19490751  0.05401395  1.08545347 -1.12650829]\n",
            "[ 0.15141136  0.49839505 -0.64799728 -0.57298645  0.38077477]\n",
            "[-0.71540192 -0.50574497 -1.91109113  1.23773771  0.85054567]\n",
            "[ 0.73306405 -0.50624833  1.63286088 -0.71026706  0.47642805]\n",
            "[-1.24340616  1.1580171  -0.00862037 -1.21390072 -1.06078852]\n",
            "[-0.73401265 -0.85232862 -1.82553605 -1.06747687 -1.33922101]\n",
            "[-0.18235013  0.22292871  0.75848589  1.17641689  0.88473884]\n",
            "[-1.0888086  -0.47528873  1.27901268 -1.07532195 -1.38956467]\n",
            "[-0.57800732 -0.01465468 -1.04411206  1.34072731  0.85831739]\n",
            "[ 1.08345523  0.89387051 -0.49193765  1.54686661  1.14547341]\n",
            "[-0.36295176  0.19373409 -1.05708838 -0.86065401  0.49051321]\n",
            "[-0.41099824  0.82723938  1.24412273 -0.89556875 -1.10318285]\n",
            "[ 1.6034503  -0.3021131   1.26234084 -0.85747174 -1.13448713]\n",
            "[-0.10675662  0.20944726 -0.75750449  1.07437338 -1.17114513]\n",
            "[-1.01089312  0.92725929 -0.20345322  1.04229751 -1.11563104]\n",
            "[ 0.19716011  1.35769645 -0.00536565 -0.83517776  0.68583773]\n",
            "[ 0.27921874  1.69209708  0.22366212 -1.1717177   0.79552163]\n",
            "[-2.4201559   1.33693133  1.67829483  1.08652616 -1.11675264]\n",
            "[-1.00901691 -1.8886515  -1.77922671 -1.01586046  0.60897793]\n",
            "[ 2.07339704  0.95133023  0.50918286 -0.3750738   1.02689169]\n",
            "[-0.5571502  -1.48607089 -1.11417061 -1.01448518 -1.44169067]\n",
            "[-0.61922055 -0.92607579 -0.01392219 -0.99988438  0.7949057 ]\n",
            "[ 1.36994422  0.51053141 -0.41562254 -0.83477778 -1.07416903]\n",
            "[-0.25829995  0.84495712  0.11492246 -0.40992927  0.81254811]\n",
            "[-1.96607143  0.89090705  0.71452339 -0.9787587   0.72808344]\n",
            "[ 0.47386731 -0.88336063 -0.02315119 -0.95065813  0.53433669]\n",
            "[-0.78239224 -0.50822866  0.5534083  -0.97064197 -1.03057184]\n",
            "[-0.52850193 -0.72552913  1.17003797 -0.78405957  0.382928  ]\n",
            "[-0.84575043  1.5616414  -0.66590932 -1.06722372  1.03904281]\n",
            "[ 1.10979985 -0.80183923 -0.59388972 -1.00357737  1.18094014]\n",
            "[-1.80239627  0.39624606  1.51744317 -1.06953845  0.78783821]\n",
            "[-0.61796044  0.68138631 -0.28087561  1.19796653 -1.46020497]\n",
            "[ 0.73853348 -0.99371004 -0.17311745 -0.5007113   0.93055758]\n",
            "[-0.56935356  1.16584543  0.40197499  1.38526573  0.95498381]\n",
            "[ 1.84404312  0.20310735  0.82259466 -1.07015506  0.43944138]\n",
            "[-0.81602389  0.04755067  0.18504143 -0.82289618 -1.07932826]\n",
            "[-0.9747852  -1.7634849  -0.83877375 -1.24690452  0.83039582]\n",
            "[ 0.11511755 -0.9707116  -0.18130957  1.1971636  -1.22472983]\n",
            "[-0.95580557 -0.88695957  0.69212124 -0.95817476  0.53370569]\n",
            "[ 1.48133152 -0.87362359 -2.125921   -0.91666451  0.42271462]\n",
            "[-3.60409893 -1.22146945  1.00753045 -0.79070675  0.45638542]\n",
            "[ 1.50838513 -0.15054743 -0.13661869 -1.04865613 -0.99503002]\n"
          ]
        }
      ]
    },
    {
      "cell_type": "code",
      "metadata": {
        "id": "iPoIwbMHx44n"
      },
      "source": [
        "def create_avg_image_from_mosaic_dataset(mosaic_dataset,labels,foreground_index,dataset_number, m):\n",
        "  \"\"\"\n",
        "  mosaic_dataset : mosaic_dataset contains 9 images 32 x 32 each as 1 data point\n",
        "  labels : mosaic_dataset labels\n",
        "  foreground_index : contains list of indexes where foreground image is present so that using this we can take weighted average\n",
        "  dataset_number : will help us to tell what ratio of foreground image to be taken. for eg: if it is \"j\" then fg_image_ratio = j/9 , bg_image_ratio = (9-j)/8*9\n",
        "  \"\"\"\n",
        "  avg_image_dataset = []\n",
        "  cnt = 0\n",
        "  counter = np.zeros(m) #np.array([0,0,0,0,0,0,0,0,0])\n",
        "  for i in range(len(mosaic_dataset)):\n",
        "    img = torch.zeros([5], dtype=torch.float64)\n",
        "    np.random.seed(int(dataset_number*10000 + i))\n",
        "    give_pref = foreground_index[i] #np.random.randint(0,9)\n",
        "    # print(\"outside\", give_pref,foreground_index[i])\n",
        "    for j in range(m):\n",
        "      if j == give_pref:\n",
        "        img = img + mosaic_dataset[i][5*j:5*j+5]*dataset_number/m   #2 is data dim\n",
        "      else :\n",
        "        img = img + mosaic_dataset[i][5*j:5*j+5]*(m-dataset_number)/((m-1)*m)\n",
        "\n",
        "    if give_pref == foreground_index[i] :\n",
        "      # print(\"equal are\", give_pref,foreground_index[i])\n",
        "      cnt += 1\n",
        "      counter[give_pref] += 1\n",
        "    else :\n",
        "      counter[give_pref] += 1\n",
        "\n",
        "    avg_image_dataset.append(img)\n",
        "\n",
        "  print(\"number of correct averaging happened for dataset \"+str(dataset_number)+\" is \"+str(cnt)) \n",
        "  print(\"the averaging are done as \", counter) \n",
        "  return avg_image_dataset , labels , foreground_index\n",
        "        \n",
        "  "
      ],
      "execution_count": 39,
      "outputs": []
    },
    {
      "cell_type": "code",
      "metadata": {
        "colab": {
          "base_uri": "https://localhost:8080/"
        },
        "id": "30ZAjix3x8CM",
        "outputId": "4e725d98-e07c-4682-9d60-e0f7e2ee642d"
      },
      "source": [
        "avg_image_dataset_1 , labels_1,  fg_index_1 = create_avg_image_from_mosaic_dataset(mosaic_list_of_images[0:tr_j], mosaic_label[0:tr_j], fore_idx[0:tr_j] , 1, m)\n",
        "\n",
        "\n",
        "test_dataset , labels , fg_index = create_avg_image_from_mosaic_dataset(mosaic_list_of_images[tr_j : tr_k], mosaic_label[tr_j : tr_k], fore_idx[tr_j : tr_k] , m, m)"
      ],
      "execution_count": 40,
      "outputs": [
        {
          "output_type": "stream",
          "name": "stdout",
          "text": [
            "number of correct averaging happened for dataset 1 is 2000\n",
            "the averaging are done as  [23. 16. 20. 22. 16. 20. 19. 22. 10. 21. 15. 20. 21. 15. 15. 28. 24. 27.\n",
            " 20. 25. 24. 15. 16. 21. 20. 21. 31. 19. 28. 20. 30. 15. 18. 19. 21. 26.\n",
            "  9. 21. 18. 15. 20. 25. 13. 19. 14. 18. 28. 12. 17. 21. 19. 18. 18. 16.\n",
            " 22. 22. 22. 22. 24. 11. 19. 22. 25. 18. 29. 20. 27.  8. 19. 22. 25. 19.\n",
            " 18. 16. 19. 17. 24. 20. 21. 21. 30. 21. 16. 17. 20. 16. 26. 22. 13. 17.\n",
            " 22. 16. 26. 20. 21. 24. 15. 16. 22. 24.]\n",
            "number of correct averaging happened for dataset 100 is 1000\n",
            "the averaging are done as  [10.  8.  9.  6. 13.  9. 10. 11. 10. 13. 13.  6.  8. 15. 12. 11.  7.  9.\n",
            " 11.  7. 12. 10. 10. 10. 11. 15.  8. 10. 11. 14. 10. 13.  8.  9.  6. 10.\n",
            " 11. 10.  9.  9.  8. 10.  9. 12. 10. 13.  7.  4.  8. 10.  9.  5. 14. 12.\n",
            "  6.  5. 11.  8.  5.  9. 11. 12. 16.  9.  9.  3. 10.  9. 10. 10.  9.  6.\n",
            "  9. 15. 10. 11.  2. 17. 14.  9. 10. 10. 16. 13.  8. 15. 11.  8.  9. 11.\n",
            "  4. 12. 14. 11.  7.  7. 17.  9. 15. 13.]\n"
          ]
        }
      ]
    },
    {
      "cell_type": "code",
      "metadata": {
        "colab": {
          "base_uri": "https://localhost:8080/"
        },
        "id": "0dYXnywAD-4l",
        "outputId": "8a95f802-84bf-4931-82cc-a01978c43934"
      },
      "source": [
        "avg_image_dataset_1 = torch.stack(avg_image_dataset_1, axis = 0)\n",
        "# avg_image_dataset_1 = (avg - torch.mean(avg, keepdims= True, axis = 0)) / torch.std(avg, keepdims= True, axis = 0)\n",
        "# print(torch.mean(avg_image_dataset_1, keepdims= True, axis = 0))\n",
        "# print(torch.std(avg_image_dataset_1, keepdims= True, axis = 0))\n",
        "print(\"==\"*40)\n",
        "\n",
        "\n",
        "test_dataset = torch.stack(test_dataset, axis = 0)\n",
        "# test_dataset = (avg - torch.mean(avg, keepdims= True, axis = 0)) / torch.std(avg, keepdims= True, axis = 0)\n",
        "# print(torch.mean(test_dataset, keepdims= True, axis = 0))\n",
        "# print(torch.std(test_dataset, keepdims= True, axis = 0))\n",
        "print(\"==\"*40)\n"
      ],
      "execution_count": 41,
      "outputs": [
        {
          "output_type": "stream",
          "name": "stdout",
          "text": [
            "================================================================================\n",
            "================================================================================\n"
          ]
        }
      ]
    },
    {
      "cell_type": "code",
      "metadata": {
        "colab": {
          "base_uri": "https://localhost:8080/",
          "height": 300
        },
        "id": "bT9-kEI7NAnR",
        "outputId": "12c3f14d-23ca-4c25-a643-20bd4420f97c"
      },
      "source": [
        "x1 = (avg_image_dataset_1).numpy()\n",
        "y1 = np.array(labels_1)\n",
        "\n",
        "plt.scatter(x1[y1==0,0], x1[y1==0,1], label='class 0')\n",
        "plt.scatter(x1[y1==1,0], x1[y1==1,1], label='class 1')\n",
        "plt.scatter(x1[y1==2,0], x1[y1==2,1], label='class 2')\n",
        "plt.legend()\n",
        "plt.title(\"dataset4 CIN with alpha = 1/\"+str(m))"
      ],
      "execution_count": 42,
      "outputs": [
        {
          "output_type": "execute_result",
          "data": {
            "text/plain": [
              "Text(0.5, 1.0, 'dataset4 CIN with alpha = 1/100')"
            ]
          },
          "metadata": {},
          "execution_count": 42
        },
        {
          "output_type": "display_data",
          "data": {
            "image/png": "[encoded data removed]",
            "text/plain": [
              "<Figure size 432x288 with 1 Axes>"
            ]
          },
          "metadata": {
            "needs_background": "light"
          }
        }
      ]
    },
    {
      "cell_type": "code",
      "metadata": {
        "colab": {
          "base_uri": "https://localhost:8080/",
          "height": 300
        },
        "id": "Sc8W2N7LQQ_l",
        "outputId": "82bb0b60-af5c-49f1-9aea-39f6b273ced4"
      },
      "source": [
        "x1 = (test_dataset).numpy() / m\n",
        "y1 = np.array(labels)\n",
        "\n",
        "plt.scatter(x1[y1==0,0], x1[y1==0,1], label='class 0')\n",
        "plt.scatter(x1[y1==1,0], x1[y1==1,1], label='class 1')\n",
        "plt.scatter(x1[y1==2,0], x1[y1==2,1], label='class 2')\n",
        "plt.legend()\n",
        "plt.title(\"test dataset4\")"
      ],
      "execution_count": 43,
      "outputs": [
        {
          "output_type": "execute_result",
          "data": {
            "text/plain": [
              "Text(0.5, 1.0, 'test dataset4')"
            ]
          },
          "metadata": {},
          "execution_count": 43
        },
        {
          "output_type": "display_data",
          "data": {
            "image/png": "[encoded data removed]",
            "text/plain": [
              "<Figure size 432x288 with 1 Axes>"
            ]
          },
          "metadata": {
            "needs_background": "light"
          }
        }
      ]
    },
    {
      "cell_type": "code",
      "metadata": {
        "colab": {
          "base_uri": "https://localhost:8080/"
        },
        "id": "pWVkaBZGXCRN",
        "outputId": "81d07f42-6d8c-47f5-d66f-4a35cac515b3"
      },
      "source": [
        "test_dataset[0:10]/m"
      ],
      "execution_count": 44,
      "outputs": [
        {
          "output_type": "execute_result",
          "data": {
            "text/plain": [
              "tensor([[-2.5539e-03,  2.8979e-03,  1.0220e-01,  1.9606e-03, -4.1796e-03],\n",
              "        [ 9.6456e-02, -1.3195e-02,  1.1354e-02,  6.5407e-04, -2.8116e-03],\n",
              "        [ 5.5600e-03,  9.5298e-02, -2.2481e-02, -4.8695e-04,  7.0071e-05],\n",
              "        [ 1.0074e-01,  5.2019e-03, -3.1315e-03, -2.9666e-04, -2.8941e-03],\n",
              "        [-8.8887e-03,  1.1111e-02,  8.9984e-02,  4.8083e-04, -1.8107e-04],\n",
              "        [ 7.5957e-03,  8.9046e-02,  1.0524e-03, -5.2234e-04, -4.3786e-03],\n",
              "        [ 9.1929e-02, -4.2932e-03,  1.0245e-03,  2.5442e-03, -9.7686e-04],\n",
              "        [ 3.8858e-04,  8.7941e-02,  5.7864e-03,  2.6402e-03,  6.0082e-04],\n",
              "        [-1.2952e-02, -7.7887e-03,  8.0585e-02,  3.7442e-03, -2.9937e-03],\n",
              "        [ 3.6874e-03,  1.4784e-03,  9.8619e-02,  2.9748e-04, -5.4522e-04]],\n",
              "       dtype=torch.float64)"
            ]
          },
          "metadata": {},
          "execution_count": 44
        }
      ]
    },
    {
      "cell_type": "code",
      "metadata": {
        "colab": {
          "base_uri": "https://localhost:8080/"
        },
        "id": "JDZLkEGbXGqg",
        "outputId": "7e47d2d2-738d-4425-a821-2fb7859a4d91"
      },
      "source": [
        "test_dataset = test_dataset/m\n",
        "test_dataset[0:10]"
      ],
      "execution_count": 45,
      "outputs": [
        {
          "output_type": "execute_result",
          "data": {
            "text/plain": [
              "tensor([[-2.5539e-03,  2.8979e-03,  1.0220e-01,  1.9606e-03, -4.1796e-03],\n",
              "        [ 9.6456e-02, -1.3195e-02,  1.1354e-02,  6.5407e-04, -2.8116e-03],\n",
              "        [ 5.5600e-03,  9.5298e-02, -2.2481e-02, -4.8695e-04,  7.0071e-05],\n",
              "        [ 1.0074e-01,  5.2019e-03, -3.1315e-03, -2.9666e-04, -2.8941e-03],\n",
              "        [-8.8887e-03,  1.1111e-02,  8.9984e-02,  4.8083e-04, -1.8107e-04],\n",
              "        [ 7.5957e-03,  8.9046e-02,  1.0524e-03, -5.2234e-04, -4.3786e-03],\n",
              "        [ 9.1929e-02, -4.2932e-03,  1.0245e-03,  2.5442e-03, -9.7686e-04],\n",
              "        [ 3.8858e-04,  8.7941e-02,  5.7864e-03,  2.6402e-03,  6.0082e-04],\n",
              "        [-1.2952e-02, -7.7887e-03,  8.0585e-02,  3.7442e-03, -2.9937e-03],\n",
              "        [ 3.6874e-03,  1.4784e-03,  9.8619e-02,  2.9748e-04, -5.4522e-04]],\n",
              "       dtype=torch.float64)"
            ]
          },
          "metadata": {},
          "execution_count": 45
        }
      ]
    },
    {
      "cell_type": "code",
      "metadata": {
        "colab": {
          "base_uri": "https://localhost:8080/"
        },
        "id": "ngmzqU1nB3pF",
        "outputId": "7f762bc8-fb0e-429c-d8a7-11e12a2897b3"
      },
      "source": [
        "test_dataset.shape"
      ],
      "execution_count": 46,
      "outputs": [
        {
          "output_type": "execute_result",
          "data": {
            "text/plain": [
              "torch.Size([1000, 5])"
            ]
          },
          "metadata": {},
          "execution_count": 46
        }
      ]
    },
    {
      "cell_type": "code",
      "metadata": {
        "id": "yL0BRf8er0TX"
      },
      "source": [
        "class MosaicDataset(Dataset):\n",
        "  \"\"\"MosaicDataset dataset.\"\"\"\n",
        "\n",
        "  def __init__(self, mosaic_list_of_images, mosaic_label):\n",
        "    \"\"\"\n",
        "      Args:\n",
        "        csv_file (string): Path to the csv file with annotations.\n",
        "        root_dir (string): Directory with all the images.\n",
        "        transform (callable, optional): Optional transform to be applied\n",
        "            on a sample.\n",
        "    \"\"\"\n",
        "    self.mosaic = mosaic_list_of_images\n",
        "    self.label = mosaic_label\n",
        "    #self.fore_idx = fore_idx\n",
        "    \n",
        "  def __len__(self):\n",
        "    return len(self.label)\n",
        "\n",
        "  def __getitem__(self, idx):\n",
        "    return self.mosaic[idx] , self.label[idx] #, self.fore_idx[idx]\n",
        "\n"
      ],
      "execution_count": 47,
      "outputs": []
    },
    {
      "cell_type": "code",
      "metadata": {
        "colab": {
          "base_uri": "https://localhost:8080/"
        },
        "id": "4KsrW9qL9xgS",
        "outputId": "5109f166-576b-484e-8f17-c1e6481e177f"
      },
      "source": [
        "avg_image_dataset_1[0].shape\n",
        "avg_image_dataset_1[0]"
      ],
      "execution_count": 48,
      "outputs": [
        {
          "output_type": "execute_result",
          "data": {
            "text/plain": [
              "tensor([-0.0425,  0.0029, -0.0547, -0.1080, -0.0135], dtype=torch.float64)"
            ]
          },
          "metadata": {},
          "execution_count": 48
        }
      ]
    },
    {
      "cell_type": "code",
      "metadata": {
        "id": "EY2l62APygaV"
      },
      "source": [
        "batch = 200\n",
        "\n",
        "traindata_1 = MosaicDataset(avg_image_dataset_1, labels_1 )\n",
        "trainloader_1 = DataLoader( traindata_1 , batch_size= batch ,shuffle=True)\n"
      ],
      "execution_count": 49,
      "outputs": []
    },
    {
      "cell_type": "code",
      "metadata": {
        "id": "9suUslCj8YZK"
      },
      "source": [
        "testdata_1 = MosaicDataset(test_dataset, labels )\n",
        "testloader_1 = DataLoader( testdata_1 , batch_size= batch ,shuffle=False)\n"
      ],
      "execution_count": 50,
      "outputs": []
    },
    {
      "cell_type": "code",
      "metadata": {
        "id": "Nh3mBQHZ8bEj"
      },
      "source": [
        "# testdata_11 = MosaicDataset(test_dataset, labels )\n",
        "# testloader_11 = DataLoader( testdata_11 , batch_size= batch ,shuffle=False)"
      ],
      "execution_count": 51,
      "outputs": []
    },
    {
      "cell_type": "code",
      "metadata": {
        "id": "5_XeIUk0r0Tl"
      },
      "source": [
        "class Whatnet(nn.Module):\n",
        "    def __init__(self):\n",
        "        super(Whatnet,self).__init__()\n",
        "        self.linear1 = nn.Linear(5,50)\n",
        "        self.linear2 = nn.Linear(50,3)\n",
        "\n",
        "        torch.nn.init.xavier_normal_(self.linear1.weight)\n",
        "        torch.nn.init.zeros_(self.linear1.bias)\n",
        "        torch.nn.init.xavier_normal_(self.linear2.weight)\n",
        "        torch.nn.init.zeros_(self.linear2.bias)\n",
        "\n",
        "    def forward(self,x):\n",
        "        x = F.relu(self.linear1(x))\n",
        "        x = (self.linear2(x))\n",
        "\n",
        "        return x"
      ],
      "execution_count": 58,
      "outputs": []
    },
    {
      "cell_type": "code",
      "metadata": {
        "id": "pjD2VZuV9Ed4"
      },
      "source": [
        "def calculate_loss(dataloader,model,criter):\n",
        "  model.eval()\n",
        "  r_loss = 0\n",
        "  with torch.no_grad():\n",
        "    for i, data in enumerate(dataloader, 0):\n",
        "      inputs, labels = data\n",
        "      inputs, labels = inputs.to(\"cuda\"),labels.to(\"cuda\")\n",
        "      outputs = model(inputs)\n",
        "      loss = criter(outputs, labels)\n",
        "      r_loss += loss.item()\n",
        "  return r_loss/(i+1)"
      ],
      "execution_count": 59,
      "outputs": []
    },
    {
      "cell_type": "code",
      "metadata": {
        "id": "uALi25pmzQHV"
      },
      "source": [
        "def test_all(number, testloader,net):\n",
        "    correct = 0\n",
        "    total = 0\n",
        "    out = []\n",
        "    pred = []\n",
        "    with torch.no_grad():\n",
        "        for data in testloader:\n",
        "            images, labels = data\n",
        "            images, labels = images.to(\"cuda\"),labels.to(\"cuda\")\n",
        "            out.append(labels.cpu().numpy())\n",
        "            outputs= net(images)\n",
        "            _, predicted = torch.max(outputs.data, 1)\n",
        "            pred.append(predicted.cpu().numpy())\n",
        "            total += labels.size(0)\n",
        "            correct += (predicted == labels).sum().item()\n",
        "    \n",
        "    pred = np.concatenate(pred, axis = 0)\n",
        "    out = np.concatenate(out, axis = 0)\n",
        "    print(\"unique out: \",  np.unique(out), \"unique pred: \", np.unique(pred) )\n",
        "    print(\"correct: \", correct, \"total \",  total)\n",
        "    print('Accuracy of the network on the %d test dataset %d: %.2f %%' % (total, number , 100 * correct / total))"
      ],
      "execution_count": 60,
      "outputs": []
    },
    {
      "cell_type": "code",
      "metadata": {
        "id": "4vmNprlPzTjP"
      },
      "source": [
        "def train_all(trainloader, ds_number, testloader_list, lr_list):\n",
        "  \n",
        "  final_loss = []\n",
        "  for LR in lr_list:    \n",
        "    print(\"--\"*20, \"Learning Rate used is\", LR)\n",
        "    \n",
        "    torch.manual_seed(12)\n",
        "    net = Whatnet().double()\n",
        "    net = net.to(\"cuda\")\n",
        "    \n",
        "    criterion_net = nn.CrossEntropyLoss()\n",
        "    optimizer_net = optim.Adam(net.parameters(), lr=LR ) #, momentum=0.9)\n",
        "    \n",
        "    acti = []\n",
        "    loss_curi = []\n",
        "    epochs = 1000\n",
        "    running_loss = calculate_loss(trainloader,net,criterion_net)\n",
        "    loss_curi.append(running_loss)\n",
        "    print('epoch: [%d ] loss: %.3f' %(0,running_loss)) \n",
        "    for epoch in range(epochs): # loop over the dataset multiple times\n",
        "        ep_lossi = []\n",
        "\n",
        "        running_loss = 0.0\n",
        "        net.train()\n",
        "        for i, data in enumerate(trainloader, 0):\n",
        "            # get the inputs\n",
        "            inputs, labels = data\n",
        "            inputs, labels = inputs.to(\"cuda\"),labels.to(\"cuda\")\n",
        "\n",
        "            # zero the parameter gradients\n",
        "            optimizer_net.zero_grad()\n",
        "\n",
        "            # forward + backward + optimize\n",
        "            outputs = net(inputs)\n",
        "            loss = criterion_net(outputs, labels)\n",
        "            # print statistics\n",
        "            running_loss += loss.item()\n",
        "            loss.backward()\n",
        "            optimizer_net.step()\n",
        "\n",
        "        running_loss = calculate_loss(trainloader,net,criterion_net)\n",
        "        if(epoch%200 == 0):\n",
        "          print('epoch: [%d] loss: %.3f' %(epoch + 1,running_loss)) \n",
        "        loss_curi.append(running_loss)   #loss per epoch\n",
        "        if running_loss<=0.05:\n",
        "          print('epoch: [%d] loss: %.3f' %(epoch + 1,running_loss))\n",
        "          break\n",
        "\n",
        "    print('Finished Training')\n",
        "    \n",
        "    correct = 0\n",
        "    total = 0\n",
        "    with torch.no_grad():\n",
        "        for data in trainloader:\n",
        "            images, labels = data\n",
        "            images, labels = images.to(\"cuda\"), labels.to(\"cuda\")\n",
        "            outputs = net(images)\n",
        "            _, predicted = torch.max(outputs.data, 1)\n",
        "            total += labels.size(0)\n",
        "            correct += (predicted == labels).sum().item()\n",
        "\n",
        "    print('Accuracy of the network on the %d train images: %.2f %%' % (total,  100 * correct / total))\n",
        "    \n",
        "    for i, j in enumerate(testloader_list):\n",
        "        test_all(i+1, j,net)\n",
        "    \n",
        "    print(\"--\"*40)\n",
        "    \n",
        "    final_loss.append(loss_curi) \n",
        "  return final_loss\n",
        "    "
      ],
      "execution_count": 61,
      "outputs": []
    },
    {
      "cell_type": "code",
      "metadata": {
        "id": "Yl41sE8vFERk"
      },
      "source": [
        "train_loss_all=[]\n",
        "\n",
        "testloader_list= [ testloader_1]\n",
        "lr_list = [0.0001, 0.0005, 0.001, 0.005, 0.01, 0.05, 0.1, 0.5 ]"
      ],
      "execution_count": 62,
      "outputs": []
    },
    {
      "cell_type": "code",
      "metadata": {
        "colab": {
          "base_uri": "https://localhost:8080/"
        },
        "id": "5gQoPST5zW2t",
        "outputId": "018c9a16-ef5c-4cf1-b6d3-5e5946157ee4"
      },
      "source": [
        "fin_loss = train_all(trainloader_1, 1, testloader_list, lr_list)\n",
        "train_loss_all.append(fin_loss)"
      ],
      "execution_count": 63,
      "outputs": [
        {
          "output_type": "stream",
          "name": "stdout",
          "text": [
            "---------------------------------------- Learning Rate used is 0.0001\n",
            "epoch: [0 ] loss: 1.102\n",
            "epoch: [1] loss: 1.101\n",
            "epoch: [201] loss: 0.890\n",
            "epoch: [401] loss: 0.821\n",
            "epoch: [601] loss: 0.816\n",
            "epoch: [801] loss: 0.815\n",
            "Finished Training\n",
            "Accuracy of the network on the 2000 train images: 63.35 %\n",
            "unique out:  [0 1 2] unique pred:  [0 1 2]\n",
            "correct:  1000 total  1000\n",
            "Accuracy of the network on the 1000 test dataset 1: 100.00 %\n",
            "--------------------------------------------------------------------------------\n",
            "---------------------------------------- Learning Rate used is 0.0005\n",
            "epoch: [0 ] loss: 1.102\n",
            "epoch: [1] loss: 1.097\n",
            "epoch: [201] loss: 0.814\n",
            "epoch: [401] loss: 0.812\n",
            "epoch: [601] loss: 0.810\n",
            "epoch: [801] loss: 0.807\n",
            "Finished Training\n",
            "Accuracy of the network on the 2000 train images: 63.25 %\n",
            "unique out:  [0 1 2] unique pred:  [0 1 2]\n",
            "correct:  1000 total  1000\n",
            "Accuracy of the network on the 1000 test dataset 1: 100.00 %\n",
            "--------------------------------------------------------------------------------\n",
            "---------------------------------------- Learning Rate used is 0.001\n",
            "epoch: [0 ] loss: 1.102\n",
            "epoch: [1] loss: 1.092\n",
            "epoch: [201] loss: 0.812\n",
            "epoch: [401] loss: 0.806\n",
            "epoch: [601] loss: 0.801\n",
            "epoch: [801] loss: 0.798\n",
            "Finished Training\n",
            "Accuracy of the network on the 2000 train images: 63.50 %\n",
            "unique out:  [0 1 2] unique pred:  [0 1 2]\n",
            "correct:  1000 total  1000\n",
            "Accuracy of the network on the 1000 test dataset 1: 100.00 %\n",
            "--------------------------------------------------------------------------------\n",
            "---------------------------------------- Learning Rate used is 0.005\n",
            "epoch: [0 ] loss: 1.102\n",
            "epoch: [1] loss: 1.059\n",
            "epoch: [201] loss: 0.795\n",
            "epoch: [401] loss: 0.784\n",
            "epoch: [601] loss: 0.776\n",
            "epoch: [801] loss: 0.770\n",
            "Finished Training\n",
            "Accuracy of the network on the 2000 train images: 66.20 %\n",
            "unique out:  [0 1 2] unique pred:  [0 1 2]\n",
            "correct:  1000 total  1000\n",
            "Accuracy of the network on the 1000 test dataset 1: 100.00 %\n",
            "--------------------------------------------------------------------------------\n",
            "---------------------------------------- Learning Rate used is 0.01\n",
            "epoch: [0 ] loss: 1.102\n",
            "epoch: [1] loss: 1.023\n",
            "epoch: [201] loss: 0.790\n",
            "epoch: [401] loss: 0.778\n",
            "epoch: [601] loss: 0.771\n",
            "epoch: [801] loss: 0.769\n",
            "Finished Training\n",
            "Accuracy of the network on the 2000 train images: 65.50 %\n",
            "unique out:  [0 1 2] unique pred:  [0 1 2]\n",
            "correct:  1000 total  1000\n",
            "Accuracy of the network on the 1000 test dataset 1: 100.00 %\n",
            "--------------------------------------------------------------------------------\n",
            "---------------------------------------- Learning Rate used is 0.05\n",
            "epoch: [0 ] loss: 1.102\n",
            "epoch: [1] loss: 0.862\n",
            "epoch: [201] loss: 0.761\n",
            "epoch: [401] loss: 0.754\n",
            "epoch: [601] loss: 0.747\n",
            "epoch: [801] loss: 0.747\n",
            "Finished Training\n",
            "Accuracy of the network on the 2000 train images: 66.85 %\n",
            "unique out:  [0 1 2] unique pred:  [0 1 2]\n",
            "correct:  999 total  1000\n",
            "Accuracy of the network on the 1000 test dataset 1: 99.90 %\n",
            "--------------------------------------------------------------------------------\n",
            "---------------------------------------- Learning Rate used is 0.1\n",
            "epoch: [0 ] loss: 1.102\n",
            "epoch: [1] loss: 0.873\n",
            "epoch: [201] loss: 0.770\n",
            "epoch: [401] loss: 0.774\n",
            "epoch: [601] loss: 0.770\n",
            "epoch: [801] loss: 0.766\n",
            "Finished Training\n",
            "Accuracy of the network on the 2000 train images: 64.30 %\n",
            "unique out:  [0 1 2] unique pred:  [0 1 2]\n",
            "correct:  989 total  1000\n",
            "Accuracy of the network on the 1000 test dataset 1: 98.90 %\n",
            "--------------------------------------------------------------------------------\n",
            "---------------------------------------- Learning Rate used is 0.5\n",
            "epoch: [0 ] loss: 1.102\n",
            "epoch: [1] loss: 1.176\n",
            "epoch: [201] loss: 0.881\n",
            "epoch: [401] loss: 0.888\n",
            "epoch: [601] loss: 0.835\n",
            "epoch: [801] loss: 0.841\n",
            "Finished Training\n",
            "Accuracy of the network on the 2000 train images: 61.90 %\n",
            "unique out:  [0 1 2] unique pred:  [0 1 2]\n",
            "correct:  997 total  1000\n",
            "Accuracy of the network on the 1000 test dataset 1: 99.70 %\n",
            "--------------------------------------------------------------------------------\n"
          ]
        }
      ]
    },
    {
      "cell_type": "code",
      "metadata": {
        "id": "In76SYH_zZHV"
      },
      "source": [
        "%matplotlib inline"
      ],
      "execution_count": 64,
      "outputs": []
    },
    {
      "cell_type": "code",
      "metadata": {
        "colab": {
          "base_uri": "https://localhost:8080/"
        },
        "id": "_GsE3qHR_A5c",
        "outputId": "abb8e7db-3c5f-4134-c81b-180b57a4cde5"
      },
      "source": [
        "len(fin_loss)"
      ],
      "execution_count": 65,
      "outputs": [
        {
          "output_type": "execute_result",
          "data": {
            "text/plain": [
              "8"
            ]
          },
          "metadata": {},
          "execution_count": 65
        }
      ]
    },
    {
      "cell_type": "code",
      "metadata": {
        "id": "BS4HtOHEzZ0E",
        "colab": {
          "base_uri": "https://localhost:8080/",
          "height": 297
        },
        "outputId": "25059e32-9249-4a12-d4ce-79f349971d85"
      },
      "source": [
        "for i,j in enumerate(fin_loss):\n",
        "    plt.plot(j,label =\"LR = \"+str(lr_list[i]))\n",
        "    \n",
        "\n",
        "plt.xlabel(\"Epochs\")\n",
        "plt.ylabel(\"Training_loss\")\n",
        "\n",
        "plt.legend(loc='center left', bbox_to_anchor=(1, 0.5))"
      ],
      "execution_count": 66,
      "outputs": [
        {
          "output_type": "execute_result",
          "data": {
            "text/plain": [
              "<matplotlib.legend.Legend at 0x7f3c20814950>"
            ]
          },
          "metadata": {},
          "execution_count": 66
        },
        {
          "output_type": "display_data",
          "data": {
            "image/png": "[encoded data removed]",
            "text/plain": [
              "<Figure size 432x288 with 1 Axes>"
            ]
          },
          "metadata": {
            "needs_background": "light"
          }
        }
      ]
    },
    {
      "cell_type": "code",
      "metadata": {
        "id": "1UbTkfLUINTI"
      },
      "source": [
        ""
      ],
      "execution_count": null,
      "outputs": []
    }
  ]
}