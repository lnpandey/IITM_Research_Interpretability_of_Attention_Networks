{
  "nbformat": 4,
  "nbformat_minor": 0,
  "metadata": {
    "accelerator": "GPU",
    "colab": {
      "name": "synthetic_type3_Linear_m_5.ipynb",
      "provenance": [],
      "collapsed_sections": []
    },
    "kernelspec": {
      "display_name": "Python 3",
      "language": "python",
      "name": "python3"
    },
    "language_info": {
      "codemirror_mode": {
        "name": "ipython",
        "version": 3
      },
      "file_extension": ".py",
      "mimetype": "text/x-python",
      "name": "python",
      "nbconvert_exporter": "python",
      "pygments_lexer": "ipython3",
      "version": "3.6.5"
    }
  },
  "cells": [
    {
      "cell_type": "code",
      "metadata": {
        "colab": {
          "base_uri": "https://localhost:8080/"
        },
        "id": "N2_J4Rw2r0SQ",
        "outputId": "764f1e51-e821-460a-acf2-ec094ad09642"
      },
      "source": [
        "import numpy as np\n",
        "import pandas as pd\n",
        "from matplotlib import pyplot as plt\n",
        "from tqdm import tqdm\n",
        "%matplotlib inline\n",
        "from torch.utils.data import Dataset, DataLoader\n",
        "import torch\n",
        "import torchvision\n",
        "\n",
        "import torch.nn as nn\n",
        "import torch.optim as optim\n",
        "from torch.nn import functional as F\n",
        "device = torch.device(\"cuda\" if torch.cuda.is_available() else \"cpu\")\n",
        "print(device)"
      ],
      "execution_count": 53,
      "outputs": [
        {
          "output_type": "stream",
          "name": "stdout",
          "text": [
            "cuda\n"
          ]
        }
      ]
    },
    {
      "cell_type": "code",
      "metadata": {
        "id": "ZTJPyL45DiJ3"
      },
      "source": [
        "m = 100                          # 5, 10, 20, 50, 100, 500"
      ],
      "execution_count": 54,
      "outputs": []
    },
    {
      "cell_type": "code",
      "metadata": {
        "id": "g-do5dZWK5L6"
      },
      "source": [
        "desired_num = 11000"
      ],
      "execution_count": 55,
      "outputs": []
    },
    {
      "cell_type": "code",
      "metadata": {
        "colab": {
          "base_uri": "https://localhost:8080/"
        },
        "id": "XTHbSeGAK7k7",
        "outputId": "06aa25cc-2633-4400-bfbf-8d1a893be009"
      },
      "source": [
        "tr_i = 0\n",
        "tr_j = 10000\n",
        "tr_k = desired_num\n",
        "\n",
        "tr_i, tr_j, tr_k"
      ],
      "execution_count": 56,
      "outputs": [
        {
          "output_type": "execute_result",
          "data": {
            "text/plain": [
              "(0, 10000, 11000)"
            ]
          },
          "metadata": {},
          "execution_count": 56
        }
      ]
    },
    {
      "cell_type": "markdown",
      "metadata": {
        "id": "F6fjud_Fr0Sa"
      },
      "source": [
        "# Generate dataset"
      ]
    },
    {
      "cell_type": "code",
      "metadata": {
        "colab": {
          "base_uri": "https://localhost:8080/"
        },
        "id": "CqdXHO0Cr0Sd",
        "outputId": "5bacbf9f-10cb-4601-9595-c24d1625b648"
      },
      "source": [
        "np.random.seed(12)\n",
        "y = np.random.randint(0,10,5000)\n",
        "idx= []\n",
        "for i in range(10):\n",
        "    print(i,sum(y==i))\n",
        "    idx.append(y==i)"
      ],
      "execution_count": 57,
      "outputs": [
        {
          "output_type": "stream",
          "name": "stdout",
          "text": [
            "0 530\n",
            "1 463\n",
            "2 494\n",
            "3 517\n",
            "4 488\n",
            "5 497\n",
            "6 493\n",
            "7 507\n",
            "8 492\n",
            "9 519\n"
          ]
        }
      ]
    },
    {
      "cell_type": "code",
      "metadata": {
        "id": "ddhXyODwr0Sk"
      },
      "source": [
        "x = np.zeros((5000,2))"
      ],
      "execution_count": 58,
      "outputs": []
    },
    {
      "cell_type": "code",
      "metadata": {
        "id": "DyV3N2DIr0Sp"
      },
      "source": [
        "np.random.seed(12)\n",
        "x[idx[0],:] = np.random.multivariate_normal(mean = [5,5],cov=[[0.1,0],[0,0.1]],size=sum(idx[0]))\n",
        "x[idx[1],:] = np.random.multivariate_normal(mean = [6,6],cov=[[0.1,0],[0,0.1]],size=sum(idx[1]))\n",
        "x[idx[2],:] = np.random.multivariate_normal(mean = [5.5,6.5],cov=[[0.1,0],[0,0.1]],size=sum(idx[2]))\n",
        "x[idx[3],:] = np.random.multivariate_normal(mean = [-1,0],cov=[[0.1,0],[0,0.1]],size=sum(idx[3]))\n",
        "x[idx[4],:] = np.random.multivariate_normal(mean = [0,2],cov=[[0.1,0],[0,0.1]],size=sum(idx[4]))\n",
        "x[idx[5],:] = np.random.multivariate_normal(mean = [1,0],cov=[[0.1,0],[0,0.1]],size=sum(idx[5]))\n",
        "x[idx[6],:] = np.random.multivariate_normal(mean = [0,-1],cov=[[0.1,0],[0,0.1]],size=sum(idx[6]))\n",
        "x[idx[7],:] = np.random.multivariate_normal(mean = [0,0],cov=[[0.1,0],[0,0.1]],size=sum(idx[7]))\n",
        "x[idx[8],:] = np.random.multivariate_normal(mean = [-0.5,-0.5],cov=[[0.1,0],[0,0.1]],size=sum(idx[8]))\n",
        "x[idx[9],:] = np.random.multivariate_normal(mean = [0.4,0.2],cov=[[0.1,0],[0,0.1]],size=sum(idx[9]))"
      ],
      "execution_count": 59,
      "outputs": []
    },
    {
      "cell_type": "code",
      "metadata": {
        "colab": {
          "base_uri": "https://localhost:8080/"
        },
        "id": "qh1mDScsU07I",
        "outputId": "452df49c-5573-4ccd-b716-d954f26a5edf"
      },
      "source": [
        "x[idx[0]][0], x[idx[5]][5] "
      ],
      "execution_count": 60,
      "outputs": [
        {
          "output_type": "execute_result",
          "data": {
            "text/plain": [
              "(array([5.14957125, 4.78451422]), array([0.87756167, 0.00457805]))"
            ]
          },
          "metadata": {},
          "execution_count": 60
        }
      ]
    },
    {
      "cell_type": "code",
      "metadata": {
        "colab": {
          "base_uri": "https://localhost:8080/",
          "height": 283
        },
        "id": "hJ8Jm7YUr0St",
        "outputId": "857ff798-32c0-4169-82e7-c630840a0352"
      },
      "source": [
        "for i in range(10):\n",
        "    plt.scatter(x[idx[i],0],x[idx[i],1],label=\"class_\"+str(i))\n",
        "plt.legend(loc='center left', bbox_to_anchor=(1, 0.5))"
      ],
      "execution_count": 61,
      "outputs": [
        {
          "output_type": "execute_result",
          "data": {
            "text/plain": [
              "<matplotlib.legend.Legend at 0x7fcafde2ee90>"
            ]
          },
          "metadata": {},
          "execution_count": 61
        },
        {
          "output_type": "display_data",
          "data": {
            "image/png": "[encoded data removed]",
            "text/plain": [
              "<Figure size 432x288 with 1 Axes>"
            ]
          },
          "metadata": {
            "needs_background": "light"
          }
        }
      ]
    },
    {
      "cell_type": "code",
      "metadata": {
        "colab": {
          "base_uri": "https://localhost:8080/"
        },
        "id": "3lMBZEHNBlF2",
        "outputId": "27d6e0d8-53eb-4f03-c082-a419a6600036"
      },
      "source": [
        "bg_idx = [ np.where(idx[3] == True)[0], \n",
        "          np.where(idx[4] == True)[0], \n",
        "          np.where(idx[5] == True)[0],\n",
        "          np.where(idx[6] == True)[0], \n",
        "          np.where(idx[7] == True)[0], \n",
        "          np.where(idx[8] == True)[0],\n",
        "          np.where(idx[9] == True)[0]]\n",
        "\n",
        "bg_idx = np.concatenate(bg_idx, axis = 0)\n",
        "bg_idx.shape"
      ],
      "execution_count": 62,
      "outputs": [
        {
          "output_type": "execute_result",
          "data": {
            "text/plain": [
              "(3513,)"
            ]
          },
          "metadata": {},
          "execution_count": 62
        }
      ]
    },
    {
      "cell_type": "code",
      "metadata": {
        "colab": {
          "base_uri": "https://localhost:8080/"
        },
        "id": "blRbGZHeCwXU",
        "outputId": "63771eb6-30d7-41af-b41a-4cb6271b533b"
      },
      "source": [
        "np.unique(bg_idx).shape"
      ],
      "execution_count": 63,
      "outputs": [
        {
          "output_type": "execute_result",
          "data": {
            "text/plain": [
              "(3513,)"
            ]
          },
          "metadata": {},
          "execution_count": 63
        }
      ]
    },
    {
      "cell_type": "code",
      "metadata": {
        "id": "Y43sWeX7C15F"
      },
      "source": [
        "x = x - np.mean(x[bg_idx], axis = 0, keepdims = True)\n"
      ],
      "execution_count": 64,
      "outputs": []
    },
    {
      "cell_type": "code",
      "metadata": {
        "colab": {
          "base_uri": "https://localhost:8080/"
        },
        "id": "ooII7N6UDWe0",
        "outputId": "1ec7fc5c-b48a-4e92-9619-72a98f1d386e"
      },
      "source": [
        "np.mean(x[bg_idx], axis = 0, keepdims = True), np.mean(x, axis = 0, keepdims = True)"
      ],
      "execution_count": 65,
      "outputs": [
        {
          "output_type": "execute_result",
          "data": {
            "text/plain": [
              "(array([[-1.04275003e-16,  6.74571889e-17]]),\n",
              " array([[1.63261967, 1.69552644]]))"
            ]
          },
          "metadata": {},
          "execution_count": 65
        }
      ]
    },
    {
      "cell_type": "code",
      "metadata": {
        "id": "g21bvPRYDL9k"
      },
      "source": [
        "x = x/np.std(x[bg_idx], axis = 0, keepdims = True)"
      ],
      "execution_count": 66,
      "outputs": []
    },
    {
      "cell_type": "code",
      "metadata": {
        "colab": {
          "base_uri": "https://localhost:8080/"
        },
        "id": "GtFvIeHsDZJk",
        "outputId": "f2951a1e-02ed-49e8-d382-a6eed4732783"
      },
      "source": [
        "np.std(x[bg_idx], axis = 0, keepdims = True), np.std(x, axis = 0, keepdims = True)"
      ],
      "execution_count": 67,
      "outputs": [
        {
          "output_type": "execute_result",
          "data": {
            "text/plain": [
              "(array([[1., 1.]]), array([[3.93071885, 3.03840862]]))"
            ]
          },
          "metadata": {},
          "execution_count": 67
        }
      ]
    },
    {
      "cell_type": "code",
      "metadata": {
        "colab": {
          "base_uri": "https://localhost:8080/",
          "height": 283
        },
        "id": "8-VLhUfDDeHt",
        "outputId": "b17fc709-c183-41ed-e0c0-9b8a7a3a4a98"
      },
      "source": [
        "for i in range(10):\n",
        "    plt.scatter(x[idx[i],0],x[idx[i],1],label=\"class_\"+str(i))\n",
        "plt.legend(loc='center left', bbox_to_anchor=(1, 0.5))"
      ],
      "execution_count": 68,
      "outputs": [
        {
          "output_type": "execute_result",
          "data": {
            "text/plain": [
              "<matplotlib.legend.Legend at 0x7fcafcabb310>"
            ]
          },
          "metadata": {},
          "execution_count": 68
        },
        {
          "output_type": "display_data",
          "data": {
            "image/png": "[encoded data removed]",
            "text/plain": [
              "<Figure size 432x288 with 1 Axes>"
            ]
          },
          "metadata": {
            "needs_background": "light"
          }
        }
      ]
    },
    {
      "cell_type": "code",
      "metadata": {
        "id": "UfFHcZJOr0Sz"
      },
      "source": [
        "foreground_classes = {'class_0','class_1', 'class_2'}\n",
        "\n",
        "background_classes = {'class_3','class_4', 'class_5', 'class_6','class_7', 'class_8', 'class_9'}"
      ],
      "execution_count": 69,
      "outputs": []
    },
    {
      "cell_type": "code",
      "metadata": {
        "colab": {
          "base_uri": "https://localhost:8080/"
        },
        "id": "OplNpNQVr0S2",
        "outputId": "e8ba8457-44e3-4a4b-c201-83acc0bbea5e"
      },
      "source": [
        "fg_class  = np.random.randint(0,3)\n",
        "fg_idx = np.random.randint(0,m)\n",
        "\n",
        "a = []\n",
        "for i in range(m):\n",
        "    if i == fg_idx:\n",
        "        b = np.random.choice(np.where(idx[fg_class]==True)[0],size=1)\n",
        "        a.append(x[b])\n",
        "        print(\"foreground \"+str(fg_class)+\" present at \" + str(fg_idx))\n",
        "    else:\n",
        "        bg_class = np.random.randint(3,10)\n",
        "        b = np.random.choice(np.where(idx[bg_class]==True)[0],size=1)\n",
        "        a.append(x[b])\n",
        "        print(\"background \"+str(bg_class)+\" present at \" + str(i))\n",
        "a = np.concatenate(a,axis=0)\n",
        "print(a.shape)\n",
        "\n",
        "print(fg_class , fg_idx)"
      ],
      "execution_count": 70,
      "outputs": [
        {
          "output_type": "stream",
          "name": "stdout",
          "text": [
            "background 3 present at 0\n",
            "background 8 present at 1\n",
            "background 5 present at 2\n",
            "background 3 present at 3\n",
            "background 5 present at 4\n",
            "background 7 present at 5\n",
            "background 6 present at 6\n",
            "background 5 present at 7\n",
            "background 3 present at 8\n",
            "background 5 present at 9\n",
            "background 4 present at 10\n",
            "background 7 present at 11\n",
            "background 4 present at 12\n",
            "background 3 present at 13\n",
            "background 9 present at 14\n",
            "background 6 present at 15\n",
            "background 6 present at 16\n",
            "background 3 present at 17\n",
            "background 3 present at 18\n",
            "background 5 present at 19\n",
            "background 4 present at 20\n",
            "background 4 present at 21\n",
            "background 9 present at 22\n",
            "background 8 present at 23\n",
            "background 3 present at 24\n",
            "background 7 present at 25\n",
            "background 6 present at 26\n",
            "background 8 present at 27\n",
            "background 3 present at 28\n",
            "background 7 present at 29\n",
            "background 8 present at 30\n",
            "background 7 present at 31\n",
            "background 7 present at 32\n",
            "background 5 present at 33\n",
            "background 9 present at 34\n",
            "background 6 present at 35\n",
            "background 4 present at 36\n",
            "background 7 present at 37\n",
            "background 6 present at 38\n",
            "background 3 present at 39\n",
            "background 4 present at 40\n",
            "background 3 present at 41\n",
            "background 4 present at 42\n",
            "background 7 present at 43\n",
            "background 6 present at 44\n",
            "background 5 present at 45\n",
            "background 8 present at 46\n",
            "background 8 present at 47\n",
            "background 7 present at 48\n",
            "background 3 present at 49\n",
            "background 7 present at 50\n",
            "background 7 present at 51\n",
            "background 6 present at 52\n",
            "background 4 present at 53\n",
            "background 3 present at 54\n",
            "background 6 present at 55\n",
            "background 3 present at 56\n",
            "background 8 present at 57\n",
            "background 8 present at 58\n",
            "background 4 present at 59\n",
            "background 7 present at 60\n",
            "background 8 present at 61\n",
            "background 5 present at 62\n",
            "background 8 present at 63\n",
            "background 6 present at 64\n",
            "background 9 present at 65\n",
            "background 6 present at 66\n",
            "background 3 present at 67\n",
            "background 6 present at 68\n",
            "background 3 present at 69\n",
            "background 7 present at 70\n",
            "background 5 present at 71\n",
            "background 9 present at 72\n",
            "background 6 present at 73\n",
            "background 7 present at 74\n",
            "background 5 present at 75\n",
            "background 6 present at 76\n",
            "background 4 present at 77\n",
            "background 6 present at 78\n",
            "background 7 present at 79\n",
            "background 4 present at 80\n",
            "background 3 present at 81\n",
            "foreground 2 present at 82\n",
            "background 4 present at 83\n",
            "background 6 present at 84\n",
            "background 7 present at 85\n",
            "background 3 present at 86\n",
            "background 6 present at 87\n",
            "background 3 present at 88\n",
            "background 4 present at 89\n",
            "background 3 present at 90\n",
            "background 4 present at 91\n",
            "background 3 present at 92\n",
            "background 5 present at 93\n",
            "background 5 present at 94\n",
            "background 7 present at 95\n",
            "background 9 present at 96\n",
            "background 6 present at 97\n",
            "background 6 present at 98\n",
            "background 8 present at 99\n",
            "(100, 2)\n",
            "2 82\n"
          ]
        }
      ]
    },
    {
      "cell_type": "code",
      "metadata": {
        "colab": {
          "base_uri": "https://localhost:8080/"
        },
        "id": "OoxzYI-ur0S_",
        "outputId": "70e45c9c-7dff-44ed-bc93-ab32f6fbd08a"
      },
      "source": [
        "np.reshape(a,(2*m,1))"
      ],
      "execution_count": 71,
      "outputs": [
        {
          "output_type": "execute_result",
          "data": {
            "text/plain": [
              "array([[-1.62273068e+00],\n",
              "       [-9.44577073e-01],\n",
              "       [-8.22962717e-01],\n",
              "       [-7.32521912e-01],\n",
              "       [ 2.09728368e+00],\n",
              "       [-2.44651323e-01],\n",
              "       [-9.86087689e-01],\n",
              "       [-7.51232458e-01],\n",
              "       [ 1.37297554e+00],\n",
              "       [-3.76733075e-01],\n",
              "       [-8.84692079e-01],\n",
              "       [-1.11551995e-01],\n",
              "       [ 3.23086410e-01],\n",
              "       [-1.23774128e+00],\n",
              "       [ 1.37297554e+00],\n",
              "       [-3.76733075e-01],\n",
              "       [-1.37994224e+00],\n",
              "       [-1.86927689e-02],\n",
              "       [ 1.18729176e+00],\n",
              "       [-1.43385686e-01],\n",
              "       [ 1.08414750e+00],\n",
              "       [ 2.21424613e+00],\n",
              "       [ 3.07773579e-01],\n",
              "       [ 5.11134472e-01],\n",
              "       [-5.80062748e-01],\n",
              "       [ 2.56861924e+00],\n",
              "       [-1.57480355e+00],\n",
              "       [ 1.37864198e-01],\n",
              "       [ 8.78834768e-01],\n",
              "       [-3.18178197e-01],\n",
              "       [ 5.58625839e-02],\n",
              "       [-1.37825691e+00],\n",
              "       [ 3.52658712e-01],\n",
              "       [-1.71500720e+00],\n",
              "       [-7.59374170e-01],\n",
              "       [-4.37189615e-03],\n",
              "       [-2.04596416e+00],\n",
              "       [-2.96574324e-01],\n",
              "       [ 6.67601921e-01],\n",
              "       [ 3.81413021e-01],\n",
              "       [ 4.32964750e-01],\n",
              "       [ 1.79447667e+00],\n",
              "       [ 5.77182460e-01],\n",
              "       [ 2.12761839e+00],\n",
              "       [ 4.81571501e-01],\n",
              "       [-1.77495772e-01],\n",
              "       [-9.01757410e-01],\n",
              "       [-6.53914167e-01],\n",
              "       [-1.05809662e+00],\n",
              "       [-2.96003187e-01],\n",
              "       [-9.64224116e-02],\n",
              "       [-1.02062394e-01],\n",
              "       [-3.51025475e-01],\n",
              "       [-1.43245892e+00],\n",
              "       [-7.86494960e-01],\n",
              "       [-6.96928923e-01],\n",
              "       [-1.78563283e+00],\n",
              "       [-2.97788754e-01],\n",
              "       [-2.91612592e-02],\n",
              "       [-8.20240457e-01],\n",
              "       [-1.36322898e+00],\n",
              "       [-1.17531631e+00],\n",
              "       [-7.28928821e-01],\n",
              "       [-2.00888740e-01],\n",
              "       [ 1.32681142e+00],\n",
              "       [-2.74341506e-01],\n",
              "       [ 2.21086140e+00],\n",
              "       [-4.46459278e-01],\n",
              "       [ 1.07505767e+00],\n",
              "       [ 7.08825917e-02],\n",
              "       [-3.58854571e-02],\n",
              "       [-1.00480957e+00],\n",
              "       [-3.17975403e-01],\n",
              "       [ 2.26776033e+00],\n",
              "       [ 4.32767080e-01],\n",
              "       [ 1.64016979e-01],\n",
              "       [ 3.05304464e-01],\n",
              "       [-1.41095178e+00],\n",
              "       [-1.57167801e+00],\n",
              "       [-2.15455107e-01],\n",
              "       [ 1.65618250e-01],\n",
              "       [ 2.34096180e+00],\n",
              "       [-1.76753678e+00],\n",
              "       [-3.71998306e-01],\n",
              "       [ 7.40531478e-01],\n",
              "       [ 2.93223156e+00],\n",
              "       [ 2.24896506e-01],\n",
              "       [-1.96101846e-01],\n",
              "       [ 4.18092096e-01],\n",
              "       [-9.94536492e-01],\n",
              "       [ 1.37861110e+00],\n",
              "       [-5.40275314e-01],\n",
              "       [-1.30672456e+00],\n",
              "       [-8.16503116e-01],\n",
              "       [-4.44657777e-01],\n",
              "       [-8.22773150e-01],\n",
              "       [-5.49469370e-02],\n",
              "       [ 2.75241692e-01],\n",
              "       [-1.72600806e+00],\n",
              "       [-3.41770538e-01],\n",
              "       [-1.01222748e-01],\n",
              "       [-6.04064183e-01],\n",
              "       [ 6.16491513e-01],\n",
              "       [ 1.27586905e-01],\n",
              "       [ 1.67964862e-01],\n",
              "       [-7.09359803e-01],\n",
              "       [ 1.02651061e+00],\n",
              "       [ 2.14150790e+00],\n",
              "       [-1.21775631e+00],\n",
              "       [-7.16974055e-02],\n",
              "       [-7.12909825e-01],\n",
              "       [-1.23765294e+00],\n",
              "       [-1.34572194e+00],\n",
              "       [ 2.21321434e-01],\n",
              "       [-6.10886116e-01],\n",
              "       [-4.80010535e-01],\n",
              "       [-6.74248734e-01],\n",
              "       [-8.72847231e-01],\n",
              "       [-5.64662439e-01],\n",
              "       [ 2.31680967e+00],\n",
              "       [-1.44915919e-01],\n",
              "       [-3.20870253e-01],\n",
              "       [-8.84312693e-01],\n",
              "       [-6.25599566e-01],\n",
              "       [ 1.52489136e+00],\n",
              "       [ 2.63127792e-02],\n",
              "       [-7.92128161e-01],\n",
              "       [-5.45112852e-01],\n",
              "       [ 1.27970573e-01],\n",
              "       [-1.14855190e+00],\n",
              "       [ 8.59813895e-01],\n",
              "       [-3.67608121e-01],\n",
              "       [-9.39856356e-02],\n",
              "       [-4.65375966e-01],\n",
              "       [-1.50036085e+00],\n",
              "       [-1.06988238e-01],\n",
              "       [-7.41694481e-01],\n",
              "       [-1.11564667e+00],\n",
              "       [-1.56287722e+00],\n",
              "       [ 6.05328543e-02],\n",
              "       [-1.06388916e+00],\n",
              "       [-1.58012961e-01],\n",
              "       [ 2.61769821e+00],\n",
              "       [ 3.76482710e-01],\n",
              "       [ 7.20750412e-01],\n",
              "       [-1.25938217e-01],\n",
              "       [-5.51467739e-02],\n",
              "       [-1.09701273e+00],\n",
              "       [-3.21420942e-01],\n",
              "       [ 4.12020452e-02],\n",
              "       [ 9.69369557e-01],\n",
              "       [-2.55073260e-01],\n",
              "       [ 2.26230296e-01],\n",
              "       [-9.79478646e-01],\n",
              "       [-4.42583467e-01],\n",
              "       [ 2.03331831e+00],\n",
              "       [ 1.73975532e-01],\n",
              "       [-1.01291610e+00],\n",
              "       [ 3.28419291e-01],\n",
              "       [-2.63913358e-01],\n",
              "       [ 6.77182351e-02],\n",
              "       [ 2.31384142e+00],\n",
              "       [-1.76489389e+00],\n",
              "       [-2.42244483e-01],\n",
              "       [ 8.11885190e+00],\n",
              "       [ 6.93831227e+00],\n",
              "       [ 8.13075928e-01],\n",
              "       [ 2.35518496e+00],\n",
              "       [ 1.21334728e+00],\n",
              "       [-1.27332532e+00],\n",
              "       [ 2.70745155e-02],\n",
              "       [ 6.08602622e-01],\n",
              "       [-1.54110299e+00],\n",
              "       [ 1.49389444e-01],\n",
              "       [-4.17955611e-01],\n",
              "       [-8.20317805e-01],\n",
              "       [-3.22047527e-01],\n",
              "       [-7.25343701e-01],\n",
              "       [-2.50370275e-01],\n",
              "       [ 2.24995799e+00],\n",
              "       [-3.22047527e-01],\n",
              "       [-7.25343701e-01],\n",
              "       [ 1.08414750e+00],\n",
              "       [ 2.21424613e+00],\n",
              "       [-1.49347717e+00],\n",
              "       [-9.45644637e-02],\n",
              "       [ 1.28523668e+00],\n",
              "       [ 2.07231324e-01],\n",
              "       [ 1.48811544e+00],\n",
              "       [-1.77627931e-01],\n",
              "       [-1.40237805e-02],\n",
              "       [-6.34840722e-01],\n",
              "       [ 8.24353950e-01],\n",
              "       [ 3.57656156e-01],\n",
              "       [ 2.23201058e-01],\n",
              "       [-8.23635331e-01],\n",
              "       [ 1.16661925e-01],\n",
              "       [-1.18815427e+00],\n",
              "       [-9.27831149e-01],\n",
              "       [-1.10239133e+00]])"
            ]
          },
          "metadata": {},
          "execution_count": 71
        }
      ]
    },
    {
      "cell_type": "code",
      "metadata": {
        "id": "jqbvfbwVr0TN",
        "colab": {
          "base_uri": "https://localhost:8080/"
        },
        "outputId": "f69196ed-a0f6-42e2-8b92-4989ac45b316"
      },
      "source": [
        "from tqdm import tqdm\n",
        "mosaic_list_of_images =[]\n",
        "mosaic_label = []\n",
        "fore_idx=[]\n",
        "for j in tqdm(range(desired_num)):\n",
        "    np.random.seed(j)\n",
        "    fg_class  = np.random.randint(0,3)\n",
        "    fg_idx = np.random.randint(0,m)\n",
        "    a = []\n",
        "    for i in range(m):\n",
        "        if i == fg_idx:\n",
        "            b = np.random.choice(np.where(idx[fg_class]==True)[0],size=1)\n",
        "            a.append(x[b])\n",
        "#             print(\"foreground \"+str(fg_class)+\" present at \" + str(fg_idx))\n",
        "        else:\n",
        "            bg_class = np.random.randint(3,10)\n",
        "            b = np.random.choice(np.where(idx[bg_class]==True)[0],size=1)\n",
        "            a.append(x[b])\n",
        "#             print(\"background \"+str(bg_class)+\" present at \" + str(i))\n",
        "    a = np.concatenate(a,axis=0)\n",
        "    mosaic_list_of_images.append(np.reshape(a,(2*m,1)))\n",
        "    mosaic_label.append(fg_class)\n",
        "    fore_idx.append(fg_idx)"
      ],
      "execution_count": 72,
      "outputs": [
        {
          "output_type": "stream",
          "name": "stderr",
          "text": [
            "100%|██████████| 11000/11000 [01:10<00:00, 156.79it/s]\n"
          ]
        }
      ]
    },
    {
      "cell_type": "code",
      "metadata": {
        "colab": {
          "base_uri": "https://localhost:8080/"
        },
        "id": "YzJPNP2mFwAG",
        "outputId": "213d40e8-e24e-48b4-90e2-5ec2f27d7626"
      },
      "source": [
        "mosaic_list_of_images = np.concatenate(mosaic_list_of_images,axis=1).T\n",
        "mosaic_list_of_images.shape"
      ],
      "execution_count": 73,
      "outputs": [
        {
          "output_type": "execute_result",
          "data": {
            "text/plain": [
              "(11000, 200)"
            ]
          },
          "metadata": {},
          "execution_count": 73
        }
      ]
    },
    {
      "cell_type": "code",
      "metadata": {
        "colab": {
          "base_uri": "https://localhost:8080/"
        },
        "id": "2aIPMgLXNiXW",
        "outputId": "f6b53195-172c-48d6-a191-ad3ed23bd89e"
      },
      "source": [
        "mosaic_list_of_images.shape, mosaic_list_of_images[0]"
      ],
      "execution_count": 74,
      "outputs": [
        {
          "output_type": "execute_result",
          "data": {
            "text/plain": [
              "((11000, 200),\n",
              " array([ 5.05033874e-01, -6.51442375e-01, -2.59955349e-02, -1.54374402e+00,\n",
              "         4.78358582e-01, -1.25389275e+00,  5.00445443e-01,  1.71315143e+00,\n",
              "        -7.26036664e-01, -6.82400884e-01,  3.40706957e-01,  2.88995008e-02,\n",
              "         7.16311356e-01, -1.42621688e-01, -1.42817136e+00, -3.82902021e-01,\n",
              "         1.24086849e+00, -1.47454038e-01,  7.02373522e-01,  2.96185609e-01,\n",
              "         2.25544289e-01,  1.98923115e-01, -1.35092213e-01,  2.32146152e+00,\n",
              "         4.70651371e-01, -1.70530655e+00, -4.42421792e-02, -8.58447371e-01,\n",
              "         6.20891493e-01, -8.65683419e-02, -1.00159206e+00, -6.18125657e-01,\n",
              "        -2.28311639e+00, -9.65179595e-02,  2.42914057e-01, -1.06097518e+00,\n",
              "         5.55567480e-01, -1.08092273e+00,  1.06767904e-01,  6.90941118e-01,\n",
              "        -1.81042807e+00, -4.21543195e-01,  3.45167982e-01,  1.91607747e+00,\n",
              "        -1.44649678e+00,  3.53085288e-01,  3.65159740e-01, -6.72137948e-01,\n",
              "         1.22158179e+00, -2.29521265e-01, -3.98487287e-01, -1.57587090e-01,\n",
              "        -1.71963958e+00, -1.54071324e-01,  2.01794061e-01, -1.94899946e-02,\n",
              "        -1.70370754e-01, -5.19694690e-01, -2.29570869e+00, -1.46523424e-01,\n",
              "        -1.21373644e+00,  2.18163898e-01,  1.76844163e+00, -1.39781800e-01,\n",
              "        -1.06409105e+00,  4.43898696e-02, -4.44189803e-01,  2.69172256e+00,\n",
              "         3.20151998e-01,  1.70145171e+00, -7.08525830e-01, -1.28478294e+00,\n",
              "        -6.14079936e-01, -1.32199884e+00,  1.27399796e+00,  1.07152209e-01,\n",
              "        -1.66469081e+00, -5.87158699e-01, -4.37528749e-01, -1.25489330e+00,\n",
              "        -7.27338552e-01, -4.99348948e-01,  1.68006305e+00, -4.18144971e-01,\n",
              "         2.74271946e-01, -1.04246037e+00,  1.55484885e-01,  2.62489481e-01,\n",
              "        -7.84063735e-01,  4.15058208e-01,  2.81027713e-02,  2.52392448e-01,\n",
              "        -3.52997620e-01, -3.84935690e-01,  7.07990475e+00,  5.57919731e+00,\n",
              "         1.71351613e-01,  1.37566089e-01,  1.56355450e+00,  1.35699615e-01,\n",
              "        -9.03910886e-01, -8.83623982e-01, -3.51144023e-01, -6.32347029e-01,\n",
              "        -6.60366100e-02,  1.80548783e+00, -3.62761196e-01,  2.26878351e+00,\n",
              "        -1.37176326e+00,  1.11338121e-01, -9.21643912e-01, -1.85024242e-01,\n",
              "        -1.65114215e+00, -1.85339126e-02,  1.68871259e+00,  1.73611688e-01,\n",
              "        -7.56539971e-01, -2.86861809e-03,  1.13568403e+00, -3.63964463e-01,\n",
              "        -1.15297205e+00, -8.93168829e-01, -1.63083694e+00, -6.81449210e-01,\n",
              "        -1.68882384e+00,  2.44677434e-02, -3.58854571e-02, -1.00480957e+00,\n",
              "        -3.75702219e-01, -7.08261223e-01,  5.53287433e-01,  1.64369962e+00,\n",
              "         1.04054339e+00, -7.44331461e-01,  1.73975532e-01, -1.01291610e+00,\n",
              "         4.25371196e-02,  5.92296879e-01,  5.25468660e-01,  2.41171178e+00,\n",
              "        -2.70681769e-01, -1.33980249e+00, -1.97113178e-01,  3.02984241e+00,\n",
              "        -3.32173391e-01,  2.44946192e+00,  1.64201057e+00, -4.81968149e-02,\n",
              "         7.00297639e-01, -1.28061246e+00,  1.59724249e-01, -1.19708077e+00,\n",
              "         3.89327570e-01, -5.89897030e-01, -1.26033991e+00, -2.62106110e-01,\n",
              "        -1.33240343e+00, -6.27397915e-01,  8.03014927e-01,  3.50786077e-01,\n",
              "        -8.30107331e-01,  1.67283046e-02, -1.82023344e+00, -1.48532802e-01,\n",
              "        -3.22047527e-01, -7.25343701e-01, -5.91869170e-02, -1.05240024e-01,\n",
              "        -6.24971338e-01, -1.03659238e+00, -1.47266201e+00, -1.88271986e-02,\n",
              "        -1.76489389e+00, -2.42244483e-01, -1.26873460e+00,  1.51239355e-01,\n",
              "         7.30979560e-01,  1.47742509e-01,  7.79261211e-01, -1.16475317e+00,\n",
              "        -4.13831348e-01, -6.22840485e-01,  7.07799568e-01,  5.00312051e-01,\n",
              "         1.01158406e+00, -1.00098502e+00, -5.17222437e-01, -9.77517737e-01,\n",
              "        -1.56725038e+00, -5.86135306e-01, -4.44657777e-01, -8.22773150e-01,\n",
              "        -1.78212748e+00,  3.63231887e-01, -3.04472016e-01, -8.94314631e-01,\n",
              "        -2.67233130e-02,  3.39433995e-01, -2.20756769e+00, -6.05769799e-01]))"
            ]
          },
          "metadata": {},
          "execution_count": 74
        }
      ]
    },
    {
      "cell_type": "code",
      "metadata": {
        "colab": {
          "base_uri": "https://localhost:8080/"
        },
        "id": "A3qcsbbzPfRG",
        "outputId": "e501b976-6e00-4518-83e3-f1feea527a23"
      },
      "source": [
        "for j in range(m):\n",
        "  print(mosaic_list_of_images[0][2*j:2*j+2])\n",
        "  "
      ],
      "execution_count": 75,
      "outputs": [
        {
          "output_type": "stream",
          "name": "stdout",
          "text": [
            "[ 0.50503387 -0.65144237]\n",
            "[-0.02599553 -1.54374402]\n",
            "[ 0.47835858 -1.25389275]\n",
            "[0.50044544 1.71315143]\n",
            "[-0.72603666 -0.68240088]\n",
            "[0.34070696 0.0288995 ]\n",
            "[ 0.71631136 -0.14262169]\n",
            "[-1.42817136 -0.38290202]\n",
            "[ 1.24086849 -0.14745404]\n",
            "[0.70237352 0.29618561]\n",
            "[0.22554429 0.19892312]\n",
            "[-0.13509221  2.32146152]\n",
            "[ 0.47065137 -1.70530655]\n",
            "[-0.04424218 -0.85844737]\n",
            "[ 0.62089149 -0.08656834]\n",
            "[-1.00159206 -0.61812566]\n",
            "[-2.28311639 -0.09651796]\n",
            "[ 0.24291406 -1.06097518]\n",
            "[ 0.55556748 -1.08092273]\n",
            "[0.1067679  0.69094112]\n",
            "[-1.81042807 -0.42154319]\n",
            "[0.34516798 1.91607747]\n",
            "[-1.44649678  0.35308529]\n",
            "[ 0.36515974 -0.67213795]\n",
            "[ 1.22158179 -0.22952126]\n",
            "[-0.39848729 -0.15758709]\n",
            "[-1.71963958 -0.15407132]\n",
            "[ 0.20179406 -0.01948999]\n",
            "[-0.17037075 -0.51969469]\n",
            "[-2.29570869 -0.14652342]\n",
            "[-1.21373644  0.2181639 ]\n",
            "[ 1.76844163 -0.1397818 ]\n",
            "[-1.06409105  0.04438987]\n",
            "[-0.4441898   2.69172256]\n",
            "[0.320152   1.70145171]\n",
            "[-0.70852583 -1.28478294]\n",
            "[-0.61407994 -1.32199884]\n",
            "[1.27399796 0.10715221]\n",
            "[-1.66469081 -0.5871587 ]\n",
            "[-0.43752875 -1.2548933 ]\n",
            "[-0.72733855 -0.49934895]\n",
            "[ 1.68006305 -0.41814497]\n",
            "[ 0.27427195 -1.04246037]\n",
            "[0.15548488 0.26248948]\n",
            "[-0.78406373  0.41505821]\n",
            "[0.02810277 0.25239245]\n",
            "[-0.35299762 -0.38493569]\n",
            "[7.07990475 5.57919731]\n",
            "[0.17135161 0.13756609]\n",
            "[1.5635545  0.13569962]\n",
            "[-0.90391089 -0.88362398]\n",
            "[-0.35114402 -0.63234703]\n",
            "[-0.06603661  1.80548783]\n",
            "[-0.3627612   2.26878351]\n",
            "[-1.37176326  0.11133812]\n",
            "[-0.92164391 -0.18502424]\n",
            "[-1.65114215 -0.01853391]\n",
            "[1.68871259 0.17361169]\n",
            "[-0.75653997 -0.00286862]\n",
            "[ 1.13568403 -0.36396446]\n",
            "[-1.15297205 -0.89316883]\n",
            "[-1.63083694 -0.68144921]\n",
            "[-1.68882384  0.02446774]\n",
            "[-0.03588546 -1.00480957]\n",
            "[-0.37570222 -0.70826122]\n",
            "[0.55328743 1.64369962]\n",
            "[ 1.04054339 -0.74433146]\n",
            "[ 0.17397553 -1.0129161 ]\n",
            "[0.04253712 0.59229688]\n",
            "[0.52546866 2.41171178]\n",
            "[-0.27068177 -1.33980249]\n",
            "[-0.19711318  3.02984241]\n",
            "[-0.33217339  2.44946192]\n",
            "[ 1.64201057 -0.04819681]\n",
            "[ 0.70029764 -1.28061246]\n",
            "[ 0.15972425 -1.19708077]\n",
            "[ 0.38932757 -0.58989703]\n",
            "[-1.26033991 -0.26210611]\n",
            "[-1.33240343 -0.62739792]\n",
            "[0.80301493 0.35078608]\n",
            "[-0.83010733  0.0167283 ]\n",
            "[-1.82023344 -0.1485328 ]\n",
            "[-0.32204753 -0.7253437 ]\n",
            "[-0.05918692 -0.10524002]\n",
            "[-0.62497134 -1.03659238]\n",
            "[-1.47266201 -0.0188272 ]\n",
            "[-1.76489389 -0.24224448]\n",
            "[-1.2687346   0.15123936]\n",
            "[0.73097956 0.14774251]\n",
            "[ 0.77926121 -1.16475317]\n",
            "[-0.41383135 -0.62284048]\n",
            "[0.70779957 0.50031205]\n",
            "[ 1.01158406 -1.00098502]\n",
            "[-0.51722244 -0.97751774]\n",
            "[-1.56725038 -0.58613531]\n",
            "[-0.44465778 -0.82277315]\n",
            "[-1.78212748  0.36323189]\n",
            "[-0.30447202 -0.89431463]\n",
            "[-0.02672331  0.339434  ]\n",
            "[-2.20756769 -0.6057698 ]\n"
          ]
        }
      ]
    },
    {
      "cell_type": "code",
      "metadata": {
        "id": "iPoIwbMHx44n"
      },
      "source": [
        "def create_avg_image_from_mosaic_dataset(mosaic_dataset,labels,foreground_index,dataset_number, m):\n",
        "  \"\"\"\n",
        "  mosaic_dataset : mosaic_dataset contains 9 images 32 x 32 each as 1 data point\n",
        "  labels : mosaic_dataset labels\n",
        "  foreground_index : contains list of indexes where foreground image is present so that using this we can take weighted average\n",
        "  dataset_number : will help us to tell what ratio of foreground image to be taken. for eg: if it is \"j\" then fg_image_ratio = j/9 , bg_image_ratio = (9-j)/8*9\n",
        "  \"\"\"\n",
        "  avg_image_dataset = []\n",
        "  cnt = 0\n",
        "  counter = np.zeros(m) #np.array([0,0,0,0,0,0,0,0,0])\n",
        "  for i in tqdm(range(len(mosaic_dataset))):\n",
        "    img = torch.zeros([2], dtype=torch.float64)\n",
        "    np.random.seed(int(dataset_number*10000 + i))\n",
        "    give_pref = foreground_index[i] #np.random.randint(0,9)\n",
        "    # print(\"outside\", give_pref,foreground_index[i])\n",
        "    for j in range(m):\n",
        "      if j == give_pref:\n",
        "        img = img + mosaic_dataset[i][2*j:2*j+2]*dataset_number/m   #2 is data dim\n",
        "      else :\n",
        "        img = img + mosaic_dataset[i][2*j:2*j+2]*(m-dataset_number)/((m-1)*m)\n",
        "\n",
        "    if give_pref == foreground_index[i] :\n",
        "      # print(\"equal are\", give_pref,foreground_index[i])\n",
        "      cnt += 1\n",
        "      counter[give_pref] += 1\n",
        "    else :\n",
        "      counter[give_pref] += 1\n",
        "\n",
        "    avg_image_dataset.append(img)\n",
        "\n",
        "  print(\"number of correct averaging happened for dataset \"+str(dataset_number)+\" is \"+str(cnt)) \n",
        "  print(\"the averaging are done as \", counter) \n",
        "  return avg_image_dataset , labels , foreground_index\n",
        "        \n",
        "  "
      ],
      "execution_count": 76,
      "outputs": []
    },
    {
      "cell_type": "code",
      "metadata": {
        "colab": {
          "base_uri": "https://localhost:8080/"
        },
        "id": "30ZAjix3x8CM",
        "outputId": "260d2b98-d985-4522-eb7f-990dd6ad0744"
      },
      "source": [
        "avg_image_dataset_1 , labels_1,  fg_index_1 = create_avg_image_from_mosaic_dataset(mosaic_list_of_images[0:tr_j], mosaic_label[0:tr_j], fore_idx[0:tr_j] , 1, m)\n",
        "\n",
        "\n",
        "test_dataset , labels , fg_index = create_avg_image_from_mosaic_dataset(mosaic_list_of_images[tr_j : tr_k], mosaic_label[tr_j : tr_k], fore_idx[tr_j : tr_k] , m, m)"
      ],
      "execution_count": 77,
      "outputs": [
        {
          "output_type": "stream",
          "name": "stderr",
          "text": [
            "100%|██████████| 10000/10000 [02:16<00:00, 73.48it/s]\n"
          ]
        },
        {
          "output_type": "stream",
          "name": "stdout",
          "text": [
            "number of correct averaging happened for dataset 1 is 10000\n",
            "the averaging are done as  [ 99.  92.  93. 105.  91.  89. 114.  98. 102.  98. 108.  88.  87. 113.\n",
            "  84. 105. 100. 101. 106. 105. 108.  98.  88.  98.  96. 109. 105.  90.\n",
            " 121. 106. 120. 100.  90.  92.  95.  93.  91.  97.  88. 112.  91.  92.\n",
            "  86.  94.  97. 106. 112.  94.  95.  98.  95.  87. 108. 105. 103.  96.\n",
            " 108.  95.  85. 106. 112. 104. 112. 103. 107.  95. 109.  80.  92. 107.\n",
            " 116.  95. 111.  95.  98. 108.  85. 104. 118. 104. 109.  96. 101. 103.\n",
            "  99.  95. 102.  93.  86. 102.  91. 109. 105.  92. 104. 114.  99.  93.\n",
            " 113. 111.]\n"
          ]
        },
        {
          "output_type": "stream",
          "name": "stderr",
          "text": [
            "100%|██████████| 1000/1000 [00:13<00:00, 73.39it/s]"
          ]
        },
        {
          "output_type": "stream",
          "name": "stdout",
          "text": [
            "number of correct averaging happened for dataset 100 is 1000\n",
            "the averaging are done as  [ 7.  6.  7. 13.  9. 12. 14.  9.  8. 15. 13. 11.  8.  8. 12. 11. 10.  7.\n",
            "  7.  8. 12. 12.  8.  8.  9. 11. 12. 12.  9.  8. 18. 11.  7.  8.  7. 12.\n",
            " 12. 16. 12.  6.  7. 14.  4.  9.  8.  7. 13. 12.  8. 13.  8. 10. 14. 15.\n",
            "  5.  9.  8.  9. 12. 13.  7. 12.  8. 17. 11.  7. 11. 10.  5. 11. 12. 12.\n",
            " 11. 15.  7.  9.  6. 14.  9.  5.  8. 10. 10.  7.  9.  7. 14. 16.  7.  5.\n",
            "  9. 19. 13.  8. 10. 10. 10.  9.  7. 10.]\n"
          ]
        },
        {
          "output_type": "stream",
          "name": "stderr",
          "text": [
            "\n"
          ]
        }
      ]
    },
    {
      "cell_type": "code",
      "metadata": {
        "colab": {
          "base_uri": "https://localhost:8080/"
        },
        "id": "0dYXnywAD-4l",
        "outputId": "280bebcb-9501-42b0-8ebb-f0669718bf6a"
      },
      "source": [
        "avg_image_dataset_1 = torch.stack(avg_image_dataset_1, axis = 0)\n",
        "# avg_image_dataset_1 = (avg - torch.mean(avg, keepdims= True, axis = 0)) / torch.std(avg, keepdims= True, axis = 0)\n",
        "# print(torch.mean(avg_image_dataset_1, keepdims= True, axis = 0))\n",
        "# print(torch.std(avg_image_dataset_1, keepdims= True, axis = 0))\n",
        "print(\"==\"*40)\n",
        "\n",
        "\n",
        "test_dataset = torch.stack(test_dataset, axis = 0)\n",
        "# test_dataset = (avg - torch.mean(avg, keepdims= True, axis = 0)) / torch.std(avg, keepdims= True, axis = 0)\n",
        "# print(torch.mean(test_dataset, keepdims= True, axis = 0))\n",
        "# print(torch.std(test_dataset, keepdims= True, axis = 0))\n",
        "print(\"==\"*40)\n"
      ],
      "execution_count": 78,
      "outputs": [
        {
          "output_type": "stream",
          "name": "stdout",
          "text": [
            "================================================================================\n",
            "================================================================================\n"
          ]
        }
      ]
    },
    {
      "cell_type": "code",
      "metadata": {
        "colab": {
          "base_uri": "https://localhost:8080/",
          "height": 299
        },
        "id": "bT9-kEI7NAnR",
        "outputId": "e1f7f0df-df53-45bc-ec55-83c35c1dd881"
      },
      "source": [
        "x1 = (avg_image_dataset_1).numpy()\n",
        "y1 = np.array(labels_1)\n",
        "\n",
        "plt.scatter(x1[y1==0,0], x1[y1==0,1], label='class 0')\n",
        "plt.scatter(x1[y1==1,0], x1[y1==1,1], label='class 1')\n",
        "plt.scatter(x1[y1==2,0], x1[y1==2,1], label='class 2')\n",
        "plt.legend()\n",
        "plt.title(\"dataset4 CIN with alpha = 1/\"+str(m))"
      ],
      "execution_count": 79,
      "outputs": [
        {
          "output_type": "execute_result",
          "data": {
            "text/plain": [
              "Text(0.5, 1.0, 'dataset4 CIN with alpha = 1/100')"
            ]
          },
          "metadata": {},
          "execution_count": 79
        },
        {
          "output_type": "display_data",
          "data": {
            "image/png": "[encoded data removed]",
            "text/plain": [
              "<Figure size 432x288 with 1 Axes>"
            ]
          },
          "metadata": {
            "needs_background": "light"
          }
        }
      ]
    },
    {
      "cell_type": "code",
      "metadata": {
        "colab": {
          "base_uri": "https://localhost:8080/",
          "height": 299
        },
        "id": "Sc8W2N7LQQ_l",
        "outputId": "1d37719b-54a3-40e3-b6fa-bf0434838147"
      },
      "source": [
        "x1 = (test_dataset).numpy() / m\n",
        "y1 = np.array(labels)\n",
        "\n",
        "plt.scatter(x1[y1==0,0], x1[y1==0,1], label='class 0')\n",
        "plt.scatter(x1[y1==1,0], x1[y1==1,1], label='class 1')\n",
        "plt.scatter(x1[y1==2,0], x1[y1==2,1], label='class 2')\n",
        "plt.legend()\n",
        "plt.title(\"test dataset4\")"
      ],
      "execution_count": 80,
      "outputs": [
        {
          "output_type": "execute_result",
          "data": {
            "text/plain": [
              "Text(0.5, 1.0, 'test dataset4')"
            ]
          },
          "metadata": {},
          "execution_count": 80
        },
        {
          "output_type": "display_data",
          "data": {
            "image/png": "[encoded data removed]",
            "text/plain": [
              "<Figure size 432x288 with 1 Axes>"
            ]
          },
          "metadata": {
            "needs_background": "light"
          }
        }
      ]
    },
    {
      "cell_type": "code",
      "metadata": {
        "colab": {
          "base_uri": "https://localhost:8080/"
        },
        "id": "pWVkaBZGXCRN",
        "outputId": "27d1066d-60db-4db5-bfc2-c494d029da89"
      },
      "source": [
        "test_dataset[0:10]/m"
      ],
      "execution_count": 81,
      "outputs": [
        {
          "output_type": "execute_result",
          "data": {
            "text/plain": [
              "tensor([[0.0782, 0.0555],\n",
              "        [0.0892, 0.0631],\n",
              "        [0.0852, 0.0614],\n",
              "        [0.0936, 0.0677],\n",
              "        [0.0865, 0.0622],\n",
              "        [0.0849, 0.0702],\n",
              "        [0.0803, 0.0677],\n",
              "        [0.0818, 0.0670],\n",
              "        [0.0956, 0.0640],\n",
              "        [0.0851, 0.0711]], dtype=torch.float64)"
            ]
          },
          "metadata": {},
          "execution_count": 81
        }
      ]
    },
    {
      "cell_type": "code",
      "metadata": {
        "colab": {
          "base_uri": "https://localhost:8080/"
        },
        "id": "JDZLkEGbXGqg",
        "outputId": "2c38f8c4-7e15-4f0d-a939-5ec1c4515f9f"
      },
      "source": [
        "test_dataset = test_dataset/m\n",
        "test_dataset[0:10]"
      ],
      "execution_count": 82,
      "outputs": [
        {
          "output_type": "execute_result",
          "data": {
            "text/plain": [
              "tensor([[0.0782, 0.0555],\n",
              "        [0.0892, 0.0631],\n",
              "        [0.0852, 0.0614],\n",
              "        [0.0936, 0.0677],\n",
              "        [0.0865, 0.0622],\n",
              "        [0.0849, 0.0702],\n",
              "        [0.0803, 0.0677],\n",
              "        [0.0818, 0.0670],\n",
              "        [0.0956, 0.0640],\n",
              "        [0.0851, 0.0711]], dtype=torch.float64)"
            ]
          },
          "metadata": {},
          "execution_count": 82
        }
      ]
    },
    {
      "cell_type": "code",
      "metadata": {
        "id": "yL0BRf8er0TX"
      },
      "source": [
        "class MosaicDataset(Dataset):\n",
        "  \"\"\"MosaicDataset dataset.\"\"\"\n",
        "\n",
        "  def __init__(self, mosaic_list_of_images, mosaic_label):\n",
        "    \"\"\"\n",
        "      Args:\n",
        "        csv_file (string): Path to the csv file with annotations.\n",
        "        root_dir (string): Directory with all the images.\n",
        "        transform (callable, optional): Optional transform to be applied\n",
        "            on a sample.\n",
        "    \"\"\"\n",
        "    self.mosaic = mosaic_list_of_images\n",
        "    self.label = mosaic_label\n",
        "    #self.fore_idx = fore_idx\n",
        "    \n",
        "  def __len__(self):\n",
        "    return len(self.label)\n",
        "\n",
        "  def __getitem__(self, idx):\n",
        "    return self.mosaic[idx] , self.label[idx] #, self.fore_idx[idx]\n",
        "\n"
      ],
      "execution_count": 83,
      "outputs": []
    },
    {
      "cell_type": "code",
      "metadata": {
        "colab": {
          "base_uri": "https://localhost:8080/"
        },
        "id": "4KsrW9qL9xgS",
        "outputId": "bc802c06-08bf-4c87-980c-0068c6c0373a"
      },
      "source": [
        "avg_image_dataset_1[0].shape\n",
        "avg_image_dataset_1[0]"
      ],
      "execution_count": 84,
      "outputs": [
        {
          "output_type": "execute_result",
          "data": {
            "text/plain": [
              "tensor([-0.1635, -0.0555], dtype=torch.float64)"
            ]
          },
          "metadata": {},
          "execution_count": 84
        }
      ]
    },
    {
      "cell_type": "code",
      "metadata": {
        "id": "EY2l62APygaV"
      },
      "source": [
        "batch = 200\n",
        "\n",
        "traindata_1 = MosaicDataset(avg_image_dataset_1, labels_1 )\n",
        "trainloader_1 = DataLoader( traindata_1 , batch_size= batch ,shuffle=True)\n"
      ],
      "execution_count": 85,
      "outputs": []
    },
    {
      "cell_type": "code",
      "metadata": {
        "id": "9suUslCj8YZK"
      },
      "source": [
        "testdata_1 = MosaicDataset(avg_image_dataset_1, labels_1 )\n",
        "testloader_1 = DataLoader( testdata_1 , batch_size= batch ,shuffle=False)\n"
      ],
      "execution_count": 86,
      "outputs": []
    },
    {
      "cell_type": "code",
      "metadata": {
        "id": "Nh3mBQHZ8bEj"
      },
      "source": [
        "testdata_11 = MosaicDataset(test_dataset, labels )\n",
        "testloader_11 = DataLoader( testdata_11 , batch_size= batch ,shuffle=False)"
      ],
      "execution_count": 87,
      "outputs": []
    },
    {
      "cell_type": "code",
      "metadata": {
        "id": "5_XeIUk0r0Tl"
      },
      "source": [
        "class Whatnet(nn.Module):\n",
        "    def __init__(self):\n",
        "        super(Whatnet,self).__init__()\n",
        "        self.linear1 = nn.Linear(2,3)\n",
        "        # self.linear2 = nn.Linear(50,10)\n",
        "        # self.linear3 = nn.Linear(10,3)\n",
        "\n",
        "        torch.nn.init.xavier_normal_(self.linear1.weight)\n",
        "        torch.nn.init.zeros_(self.linear1.bias)\n",
        "\n",
        "    def forward(self,x):\n",
        "        # x = F.relu(self.linear1(x))\n",
        "        # x = F.relu(self.linear2(x))\n",
        "        x = (self.linear1(x))\n",
        "\n",
        "        return x"
      ],
      "execution_count": 88,
      "outputs": []
    },
    {
      "cell_type": "code",
      "metadata": {
        "id": "pjD2VZuV9Ed4"
      },
      "source": [
        "def calculate_loss(dataloader,model,criter):\n",
        "  model.eval()\n",
        "  r_loss = 0\n",
        "  with torch.no_grad():\n",
        "    for i, data in enumerate(dataloader, 0):\n",
        "      inputs, labels = data\n",
        "      inputs, labels = inputs.to(\"cuda\"),labels.to(\"cuda\")\n",
        "      outputs = model(inputs)\n",
        "      loss = criter(outputs, labels)\n",
        "      r_loss += loss.item()\n",
        "  return r_loss/(i+1)"
      ],
      "execution_count": 89,
      "outputs": []
    },
    {
      "cell_type": "code",
      "metadata": {
        "id": "uALi25pmzQHV"
      },
      "source": [
        "def test_all(number, testloader,net):\n",
        "    correct = 0\n",
        "    total = 0\n",
        "    out = []\n",
        "    pred = []\n",
        "    with torch.no_grad():\n",
        "        for data in testloader:\n",
        "            images, labels = data\n",
        "            images, labels = images.to(\"cuda\"),labels.to(\"cuda\")\n",
        "            out.append(labels.cpu().numpy())\n",
        "            outputs= net(images)\n",
        "            _, predicted = torch.max(outputs.data, 1)\n",
        "            pred.append(predicted.cpu().numpy())\n",
        "            total += labels.size(0)\n",
        "            correct += (predicted == labels).sum().item()\n",
        "    \n",
        "    pred = np.concatenate(pred, axis = 0)\n",
        "    out = np.concatenate(out, axis = 0)\n",
        "    print(\"unique out: \",  np.unique(out), \"unique pred: \", np.unique(pred) )\n",
        "    print(\"correct: \", correct, \"total \",  total)\n",
        "    print('Accuracy of the network on the %d test dataset %d: %.2f %%' % (total, number , 100 * correct / total))"
      ],
      "execution_count": 90,
      "outputs": []
    },
    {
      "cell_type": "code",
      "metadata": {
        "id": "4vmNprlPzTjP"
      },
      "source": [
        "def train_all(trainloader, ds_number, testloader_list):\n",
        "    \n",
        "    print(\"--\"*40)\n",
        "    print(\"training on data set  \", ds_number)\n",
        "    \n",
        "    torch.manual_seed(12)\n",
        "    net = Whatnet().double()\n",
        "    net = net.to(\"cuda\")\n",
        "    \n",
        "    criterion_net = nn.CrossEntropyLoss()\n",
        "    optimizer_net = optim.Adam(net.parameters(), lr=0.0005 ) #, momentum=0.9)\n",
        "    \n",
        "    acti = []\n",
        "    loss_curi = []\n",
        "    epochs = 1000\n",
        "    running_loss = calculate_loss(trainloader,net,criterion_net)\n",
        "    loss_curi.append(running_loss)\n",
        "    print('epoch: [%d ] loss: %.3f' %(0,running_loss)) \n",
        "    for epoch in range(epochs): # loop over the dataset multiple times\n",
        "        ep_lossi = []\n",
        "\n",
        "        running_loss = 0.0\n",
        "        net.train()\n",
        "        for i, data in enumerate(trainloader, 0):\n",
        "            # get the inputs\n",
        "            inputs, labels = data\n",
        "            inputs, labels = inputs.to(\"cuda\"),labels.to(\"cuda\")\n",
        "\n",
        "            # zero the parameter gradients\n",
        "            optimizer_net.zero_grad()\n",
        "\n",
        "            # forward + backward + optimize\n",
        "            outputs = net(inputs)\n",
        "            loss = criterion_net(outputs, labels)\n",
        "            # print statistics\n",
        "            running_loss += loss.item()\n",
        "            loss.backward()\n",
        "            optimizer_net.step()\n",
        "\n",
        "        running_loss = calculate_loss(trainloader,net,criterion_net)\n",
        "        if(epoch%200 == 0):\n",
        "          print('epoch: [%d] loss: %.3f' %(epoch + 1,running_loss)) \n",
        "        loss_curi.append(running_loss)   #loss per epoch\n",
        "        if running_loss<=0.05:\n",
        "          print('epoch: [%d] loss: %.3f' %(epoch + 1,running_loss))\n",
        "          break\n",
        "\n",
        "    print('Finished Training')\n",
        "    \n",
        "    correct = 0\n",
        "    total = 0\n",
        "    with torch.no_grad():\n",
        "        for data in trainloader:\n",
        "            images, labels = data\n",
        "            images, labels = images.to(\"cuda\"), labels.to(\"cuda\")\n",
        "            outputs = net(images)\n",
        "            _, predicted = torch.max(outputs.data, 1)\n",
        "            total += labels.size(0)\n",
        "            correct += (predicted == labels).sum().item()\n",
        "\n",
        "    print('Accuracy of the network on the %d train images: %.2f %%' % (total,  100 * correct / total))\n",
        "    \n",
        "    for i, j in enumerate(testloader_list):\n",
        "        test_all(i+1, j,net)\n",
        "    \n",
        "    print(\"--\"*40)\n",
        "    \n",
        "    return loss_curi\n",
        "    "
      ],
      "execution_count": 91,
      "outputs": []
    },
    {
      "cell_type": "code",
      "metadata": {
        "id": "Yl41sE8vFERk"
      },
      "source": [
        "train_loss_all=[]\n",
        "\n",
        "testloader_list= [ testloader_1, testloader_11]"
      ],
      "execution_count": 92,
      "outputs": []
    },
    {
      "cell_type": "code",
      "metadata": {
        "colab": {
          "base_uri": "https://localhost:8080/"
        },
        "id": "5gQoPST5zW2t",
        "outputId": "1f3748f9-a381-4b36-85ac-77962919d069"
      },
      "source": [
        "train_loss_all.append(train_all(trainloader_1, 1, testloader_list))"
      ],
      "execution_count": 93,
      "outputs": [
        {
          "output_type": "stream",
          "name": "stdout",
          "text": [
            "--------------------------------------------------------------------------------\n",
            "training on data set   1\n",
            "epoch: [0 ] loss: 1.099\n",
            "epoch: [1] loss: 1.099\n",
            "epoch: [201] loss: 1.094\n",
            "epoch: [401] loss: 1.094\n",
            "epoch: [601] loss: 1.094\n",
            "epoch: [801] loss: 1.094\n",
            "Finished Training\n",
            "Accuracy of the network on the 10000 train images: 36.39 %\n",
            "unique out:  [0 1 2] unique pred:  [0 1 2]\n",
            "correct:  3639 total  10000\n",
            "Accuracy of the network on the 10000 test dataset 1: 36.39 %\n",
            "unique out:  [0 1 2] unique pred:  [0 1]\n",
            "correct:  355 total  1000\n",
            "Accuracy of the network on the 1000 test dataset 2: 35.50 %\n",
            "--------------------------------------------------------------------------------\n"
          ]
        }
      ]
    },
    {
      "cell_type": "code",
      "metadata": {
        "id": "In76SYH_zZHV"
      },
      "source": [
        "%matplotlib inline"
      ],
      "execution_count": 94,
      "outputs": []
    },
    {
      "cell_type": "code",
      "metadata": {
        "id": "BS4HtOHEzZ0E",
        "colab": {
          "base_uri": "https://localhost:8080/",
          "height": 297
        },
        "outputId": "51093335-1567-4e96-a2e6-1b3419d324c6"
      },
      "source": [
        "for i,j in enumerate(train_loss_all):\n",
        "    plt.plot(j,label =\"dataset \"+str(i+1))\n",
        "    \n",
        "\n",
        "plt.xlabel(\"Epochs\")\n",
        "plt.ylabel(\"Training_loss\")\n",
        "\n",
        "plt.legend(loc='center left', bbox_to_anchor=(1, 0.5))"
      ],
      "execution_count": 95,
      "outputs": [
        {
          "output_type": "execute_result",
          "data": {
            "text/plain": [
              "<matplotlib.legend.Legend at 0x7fcafca0c690>"
            ]
          },
          "metadata": {},
          "execution_count": 95
        },
        {
          "output_type": "display_data",
          "data": {
            "image/png": "[encoded data removed]",
            "text/plain": [
              "<Figure size 432x288 with 1 Axes>"
            ]
          },
          "metadata": {
            "needs_background": "light"
          }
        }
      ]
    },
    {
      "cell_type": "code",
      "metadata": {
        "id": "1UbTkfLUINTI"
      },
      "source": [
        ""
      ],
      "execution_count": 95,
      "outputs": []
    }
  ]
}