{
  "nbformat": 4,
  "nbformat_minor": 0,
  "metadata": {
    "accelerator": "GPU",
    "colab": {
      "name": "MNIST_CIN_10k_Linear_m_5.ipynb",
      "provenance": [],
      "collapsed_sections": [],
      "toc_visible": true,
      "machine_shape": "hm"
    },
    "kernelspec": {
      "display_name": "Python 3",
      "language": "python",
      "name": "python3"
    },
    "language_info": {
      "codemirror_mode": {
        "name": "ipython",
        "version": 3
      },
      "file_extension": ".py",
      "mimetype": "text/x-python",
      "name": "python",
      "nbconvert_exporter": "python",
      "pygments_lexer": "ipython3",
      "version": "3.6.5"
    },
    "widgets": {
      "application/vnd.jupyter.widget-state+json": {
        "dedc080a5ef7470ba5ee99e7f2146142": {
          "model_module": "@jupyter-widgets/controls",
          "model_name": "HBoxModel",
          "model_module_version": "1.5.0",
          "state": {
            "_view_name": "HBoxView",
            "_dom_classes": [],
            "_model_name": "HBoxModel",
            "_view_module": "@jupyter-widgets/controls",
            "_model_module_version": "1.5.0",
            "_view_count": null,
            "_view_module_version": "1.5.0",
            "box_style": "",
            "layout": "IPY_MODEL_06e581d7c78142b4a7bd5f98d1b11f56",
            "_model_module": "@jupyter-widgets/controls",
            "children": [
              "IPY_MODEL_4bef05ce9926484c8c25e1a08f36afec",
              "IPY_MODEL_cbaa64c04e3e43139bd34567f2c8a29a",
              "IPY_MODEL_b49327231aeb4d50891b53032712e4c6"
            ]
          }
        },
        "06e581d7c78142b4a7bd5f98d1b11f56": {
          "model_module": "@jupyter-widgets/base",
          "model_name": "LayoutModel",
          "model_module_version": "1.2.0",
          "state": {
            "_view_name": "LayoutView",
            "grid_template_rows": null,
            "right": null,
            "justify_content": null,
            "_view_module": "@jupyter-widgets/base",
            "overflow": null,
            "_model_module_version": "1.2.0",
            "_view_count": null,
            "flex_flow": null,
            "width": null,
            "min_width": null,
            "border": null,
            "align_items": null,
            "bottom": null,
            "_model_module": "@jupyter-widgets/base",
            "top": null,
            "grid_column": null,
            "overflow_y": null,
            "overflow_x": null,
            "grid_auto_flow": null,
            "grid_area": null,
            "grid_template_columns": null,
            "flex": null,
            "_model_name": "LayoutModel",
            "justify_items": null,
            "grid_row": null,
            "max_height": null,
            "align_content": null,
            "visibility": null,
            "align_self": null,
            "height": null,
            "min_height": null,
            "padding": null,
            "grid_auto_rows": null,
            "grid_gap": null,
            "max_width": null,
            "order": null,
            "_view_module_version": "1.2.0",
            "grid_template_areas": null,
            "object_position": null,
            "object_fit": null,
            "grid_auto_columns": null,
            "margin": null,
            "display": null,
            "left": null
          }
        },
        "4bef05ce9926484c8c25e1a08f36afec": {
          "model_module": "@jupyter-widgets/controls",
          "model_name": "HTMLModel",
          "model_module_version": "1.5.0",
          "state": {
            "_view_name": "HTMLView",
            "style": "IPY_MODEL_cccda8d9f40d457595e87cf165fa8d17",
            "_dom_classes": [],
            "description": "",
            "_model_name": "HTMLModel",
            "placeholder": "​",
            "_view_module": "@jupyter-widgets/controls",
            "_model_module_version": "1.5.0",
            "value": "",
            "_view_count": null,
            "_view_module_version": "1.5.0",
            "description_tooltip": null,
            "_model_module": "@jupyter-widgets/controls",
            "layout": "IPY_MODEL_6220c49f881f477c93ad5685565d5520"
          }
        },
        "cbaa64c04e3e43139bd34567f2c8a29a": {
          "model_module": "@jupyter-widgets/controls",
          "model_name": "FloatProgressModel",
          "model_module_version": "1.5.0",
          "state": {
            "_view_name": "ProgressView",
            "style": "IPY_MODEL_7870adbd2c2f42d2aa188cae9a4b174d",
            "_dom_classes": [],
            "description": "",
            "_model_name": "FloatProgressModel",
            "bar_style": "success",
            "max": 9912422,
            "_view_module": "@jupyter-widgets/controls",
            "_model_module_version": "1.5.0",
            "value": 9912422,
            "_view_count": null,
            "_view_module_version": "1.5.0",
            "orientation": "horizontal",
            "min": 0,
            "description_tooltip": null,
            "_model_module": "@jupyter-widgets/controls",
            "layout": "IPY_MODEL_c831ca7cecc94639b21a155767ed4187"
          }
        },
        "b49327231aeb4d50891b53032712e4c6": {
          "model_module": "@jupyter-widgets/controls",
          "model_name": "HTMLModel",
          "model_module_version": "1.5.0",
          "state": {
            "_view_name": "HTMLView",
            "style": "IPY_MODEL_ba6cd5bbdc1240c2959cc022fa84e2e0",
            "_dom_classes": [],
            "description": "",
            "_model_name": "HTMLModel",
            "placeholder": "​",
            "_view_module": "@jupyter-widgets/controls",
            "_model_module_version": "1.5.0",
            "value": " 9913344/? [00:00&lt;00:00, 36556524.51it/s]",
            "_view_count": null,
            "_view_module_version": "1.5.0",
            "description_tooltip": null,
            "_model_module": "@jupyter-widgets/controls",
            "layout": "IPY_MODEL_c00bc919d8c142109e9ff81c37cac9d5"
          }
        },
        "cccda8d9f40d457595e87cf165fa8d17": {
          "model_module": "@jupyter-widgets/controls",
          "model_name": "DescriptionStyleModel",
          "model_module_version": "1.5.0",
          "state": {
            "_view_name": "StyleView",
            "_model_name": "DescriptionStyleModel",
            "description_width": "",
            "_view_module": "@jupyter-widgets/base",
            "_model_module_version": "1.5.0",
            "_view_count": null,
            "_view_module_version": "1.2.0",
            "_model_module": "@jupyter-widgets/controls"
          }
        },
        "6220c49f881f477c93ad5685565d5520": {
          "model_module": "@jupyter-widgets/base",
          "model_name": "LayoutModel",
          "model_module_version": "1.2.0",
          "state": {
            "_view_name": "LayoutView",
            "grid_template_rows": null,
            "right": null,
            "justify_content": null,
            "_view_module": "@jupyter-widgets/base",
            "overflow": null,
            "_model_module_version": "1.2.0",
            "_view_count": null,
            "flex_flow": null,
            "width": null,
            "min_width": null,
            "border": null,
            "align_items": null,
            "bottom": null,
            "_model_module": "@jupyter-widgets/base",
            "top": null,
            "grid_column": null,
            "overflow_y": null,
            "overflow_x": null,
            "grid_auto_flow": null,
            "grid_area": null,
            "grid_template_columns": null,
            "flex": null,
            "_model_name": "LayoutModel",
            "justify_items": null,
            "grid_row": null,
            "max_height": null,
            "align_content": null,
            "visibility": null,
            "align_self": null,
            "height": null,
            "min_height": null,
            "padding": null,
            "grid_auto_rows": null,
            "grid_gap": null,
            "max_width": null,
            "order": null,
            "_view_module_version": "1.2.0",
            "grid_template_areas": null,
            "object_position": null,
            "object_fit": null,
            "grid_auto_columns": null,
            "margin": null,
            "display": null,
            "left": null
          }
        },
        "7870adbd2c2f42d2aa188cae9a4b174d": {
          "model_module": "@jupyter-widgets/controls",
          "model_name": "ProgressStyleModel",
          "model_module_version": "1.5.0",
          "state": {
            "_view_name": "StyleView",
            "_model_name": "ProgressStyleModel",
            "description_width": "",
            "_view_module": "@jupyter-widgets/base",
            "_model_module_version": "1.5.0",
            "_view_count": null,
            "_view_module_version": "1.2.0",
            "bar_color": null,
            "_model_module": "@jupyter-widgets/controls"
          }
        },
        "c831ca7cecc94639b21a155767ed4187": {
          "model_module": "@jupyter-widgets/base",
          "model_name": "LayoutModel",
          "model_module_version": "1.2.0",
          "state": {
            "_view_name": "LayoutView",
            "grid_template_rows": null,
            "right": null,
            "justify_content": null,
            "_view_module": "@jupyter-widgets/base",
            "overflow": null,
            "_model_module_version": "1.2.0",
            "_view_count": null,
            "flex_flow": null,
            "width": null,
            "min_width": null,
            "border": null,
            "align_items": null,
            "bottom": null,
            "_model_module": "@jupyter-widgets/base",
            "top": null,
            "grid_column": null,
            "overflow_y": null,
            "overflow_x": null,
            "grid_auto_flow": null,
            "grid_area": null,
            "grid_template_columns": null,
            "flex": null,
            "_model_name": "LayoutModel",
            "justify_items": null,
            "grid_row": null,
            "max_height": null,
            "align_content": null,
            "visibility": null,
            "align_self": null,
            "height": null,
            "min_height": null,
            "padding": null,
            "grid_auto_rows": null,
            "grid_gap": null,
            "max_width": null,
            "order": null,
            "_view_module_version": "1.2.0",
            "grid_template_areas": null,
            "object_position": null,
            "object_fit": null,
            "grid_auto_columns": null,
            "margin": null,
            "display": null,
            "left": null
          }
        },
        "ba6cd5bbdc1240c2959cc022fa84e2e0": {
          "model_module": "@jupyter-widgets/controls",
          "model_name": "DescriptionStyleModel",
          "model_module_version": "1.5.0",
          "state": {
            "_view_name": "StyleView",
            "_model_name": "DescriptionStyleModel",
            "description_width": "",
            "_view_module": "@jupyter-widgets/base",
            "_model_module_version": "1.5.0",
            "_view_count": null,
            "_view_module_version": "1.2.0",
            "_model_module": "@jupyter-widgets/controls"
          }
        },
        "c00bc919d8c142109e9ff81c37cac9d5": {
          "model_module": "@jupyter-widgets/base",
          "model_name": "LayoutModel",
          "model_module_version": "1.2.0",
          "state": {
            "_view_name": "LayoutView",
            "grid_template_rows": null,
            "right": null,
            "justify_content": null,
            "_view_module": "@jupyter-widgets/base",
            "overflow": null,
            "_model_module_version": "1.2.0",
            "_view_count": null,
            "flex_flow": null,
            "width": null,
            "min_width": null,
            "border": null,
            "align_items": null,
            "bottom": null,
            "_model_module": "@jupyter-widgets/base",
            "top": null,
            "grid_column": null,
            "overflow_y": null,
            "overflow_x": null,
            "grid_auto_flow": null,
            "grid_area": null,
            "grid_template_columns": null,
            "flex": null,
            "_model_name": "LayoutModel",
            "justify_items": null,
            "grid_row": null,
            "max_height": null,
            "align_content": null,
            "visibility": null,
            "align_self": null,
            "height": null,
            "min_height": null,
            "padding": null,
            "grid_auto_rows": null,
            "grid_gap": null,
            "max_width": null,
            "order": null,
            "_view_module_version": "1.2.0",
            "grid_template_areas": null,
            "object_position": null,
            "object_fit": null,
            "grid_auto_columns": null,
            "margin": null,
            "display": null,
            "left": null
          }
        },
        "e4a51bafc49f4250866cfa61e7762334": {
          "model_module": "@jupyter-widgets/controls",
          "model_name": "HBoxModel",
          "model_module_version": "1.5.0",
          "state": {
            "_view_name": "HBoxView",
            "_dom_classes": [],
            "_model_name": "HBoxModel",
            "_view_module": "@jupyter-widgets/controls",
            "_model_module_version": "1.5.0",
            "_view_count": null,
            "_view_module_version": "1.5.0",
            "box_style": "",
            "layout": "IPY_MODEL_45aea04470f046cc80ffc32c1a484508",
            "_model_module": "@jupyter-widgets/controls",
            "children": [
              "IPY_MODEL_3ac25fa772b6452a879992b32e6e1fde",
              "IPY_MODEL_c8cf3999c64e49d486eb4cde31cf321d",
              "IPY_MODEL_3680db8b288d45e5abd4f28d021c68f7"
            ]
          }
        },
        "45aea04470f046cc80ffc32c1a484508": {
          "model_module": "@jupyter-widgets/base",
          "model_name": "LayoutModel",
          "model_module_version": "1.2.0",
          "state": {
            "_view_name": "LayoutView",
            "grid_template_rows": null,
            "right": null,
            "justify_content": null,
            "_view_module": "@jupyter-widgets/base",
            "overflow": null,
            "_model_module_version": "1.2.0",
            "_view_count": null,
            "flex_flow": null,
            "width": null,
            "min_width": null,
            "border": null,
            "align_items": null,
            "bottom": null,
            "_model_module": "@jupyter-widgets/base",
            "top": null,
            "grid_column": null,
            "overflow_y": null,
            "overflow_x": null,
            "grid_auto_flow": null,
            "grid_area": null,
            "grid_template_columns": null,
            "flex": null,
            "_model_name": "LayoutModel",
            "justify_items": null,
            "grid_row": null,
            "max_height": null,
            "align_content": null,
            "visibility": null,
            "align_self": null,
            "height": null,
            "min_height": null,
            "padding": null,
            "grid_auto_rows": null,
            "grid_gap": null,
            "max_width": null,
            "order": null,
            "_view_module_version": "1.2.0",
            "grid_template_areas": null,
            "object_position": null,
            "object_fit": null,
            "grid_auto_columns": null,
            "margin": null,
            "display": null,
            "left": null
          }
        },
        "3ac25fa772b6452a879992b32e6e1fde": {
          "model_module": "@jupyter-widgets/controls",
          "model_name": "HTMLModel",
          "model_module_version": "1.5.0",
          "state": {
            "_view_name": "HTMLView",
            "style": "IPY_MODEL_8b5e91180fbf4bee8e4f9a5270c7344e",
            "_dom_classes": [],
            "description": "",
            "_model_name": "HTMLModel",
            "placeholder": "​",
            "_view_module": "@jupyter-widgets/controls",
            "_model_module_version": "1.5.0",
            "value": "",
            "_view_count": null,
            "_view_module_version": "1.5.0",
            "description_tooltip": null,
            "_model_module": "@jupyter-widgets/controls",
            "layout": "IPY_MODEL_4ab7bc6197a24ed9b20b6140fe836b9e"
          }
        },
        "c8cf3999c64e49d486eb4cde31cf321d": {
          "model_module": "@jupyter-widgets/controls",
          "model_name": "FloatProgressModel",
          "model_module_version": "1.5.0",
          "state": {
            "_view_name": "ProgressView",
            "style": "IPY_MODEL_d2a664a75bf741c381d6bd3c73e8e4bc",
            "_dom_classes": [],
            "description": "",
            "_model_name": "FloatProgressModel",
            "bar_style": "success",
            "max": 28881,
            "_view_module": "@jupyter-widgets/controls",
            "_model_module_version": "1.5.0",
            "value": 28881,
            "_view_count": null,
            "_view_module_version": "1.5.0",
            "orientation": "horizontal",
            "min": 0,
            "description_tooltip": null,
            "_model_module": "@jupyter-widgets/controls",
            "layout": "IPY_MODEL_02c048059be747c88c018278e05d2c94"
          }
        },
        "3680db8b288d45e5abd4f28d021c68f7": {
          "model_module": "@jupyter-widgets/controls",
          "model_name": "HTMLModel",
          "model_module_version": "1.5.0",
          "state": {
            "_view_name": "HTMLView",
            "style": "IPY_MODEL_adf73a2882064046822c311c00dd6dd0",
            "_dom_classes": [],
            "description": "",
            "_model_name": "HTMLModel",
            "placeholder": "​",
            "_view_module": "@jupyter-widgets/controls",
            "_model_module_version": "1.5.0",
            "value": " 29696/? [00:00&lt;00:00, 809960.15it/s]",
            "_view_count": null,
            "_view_module_version": "1.5.0",
            "description_tooltip": null,
            "_model_module": "@jupyter-widgets/controls",
            "layout": "IPY_MODEL_b3db291db146422aaebb6d8eaff79ebe"
          }
        },
        "8b5e91180fbf4bee8e4f9a5270c7344e": {
          "model_module": "@jupyter-widgets/controls",
          "model_name": "DescriptionStyleModel",
          "model_module_version": "1.5.0",
          "state": {
            "_view_name": "StyleView",
            "_model_name": "DescriptionStyleModel",
            "description_width": "",
            "_view_module": "@jupyter-widgets/base",
            "_model_module_version": "1.5.0",
            "_view_count": null,
            "_view_module_version": "1.2.0",
            "_model_module": "@jupyter-widgets/controls"
          }
        },
        "4ab7bc6197a24ed9b20b6140fe836b9e": {
          "model_module": "@jupyter-widgets/base",
          "model_name": "LayoutModel",
          "model_module_version": "1.2.0",
          "state": {
            "_view_name": "LayoutView",
            "grid_template_rows": null,
            "right": null,
            "justify_content": null,
            "_view_module": "@jupyter-widgets/base",
            "overflow": null,
            "_model_module_version": "1.2.0",
            "_view_count": null,
            "flex_flow": null,
            "width": null,
            "min_width": null,
            "border": null,
            "align_items": null,
            "bottom": null,
            "_model_module": "@jupyter-widgets/base",
            "top": null,
            "grid_column": null,
            "overflow_y": null,
            "overflow_x": null,
            "grid_auto_flow": null,
            "grid_area": null,
            "grid_template_columns": null,
            "flex": null,
            "_model_name": "LayoutModel",
            "justify_items": null,
            "grid_row": null,
            "max_height": null,
            "align_content": null,
            "visibility": null,
            "align_self": null,
            "height": null,
            "min_height": null,
            "padding": null,
            "grid_auto_rows": null,
            "grid_gap": null,
            "max_width": null,
            "order": null,
            "_view_module_version": "1.2.0",
            "grid_template_areas": null,
            "object_position": null,
            "object_fit": null,
            "grid_auto_columns": null,
            "margin": null,
            "display": null,
            "left": null
          }
        },
        "d2a664a75bf741c381d6bd3c73e8e4bc": {
          "model_module": "@jupyter-widgets/controls",
          "model_name": "ProgressStyleModel",
          "model_module_version": "1.5.0",
          "state": {
            "_view_name": "StyleView",
            "_model_name": "ProgressStyleModel",
            "description_width": "",
            "_view_module": "@jupyter-widgets/base",
            "_model_module_version": "1.5.0",
            "_view_count": null,
            "_view_module_version": "1.2.0",
            "bar_color": null,
            "_model_module": "@jupyter-widgets/controls"
          }
        },
        "02c048059be747c88c018278e05d2c94": {
          "model_module": "@jupyter-widgets/base",
          "model_name": "LayoutModel",
          "model_module_version": "1.2.0",
          "state": {
            "_view_name": "LayoutView",
            "grid_template_rows": null,
            "right": null,
            "justify_content": null,
            "_view_module": "@jupyter-widgets/base",
            "overflow": null,
            "_model_module_version": "1.2.0",
            "_view_count": null,
            "flex_flow": null,
            "width": null,
            "min_width": null,
            "border": null,
            "align_items": null,
            "bottom": null,
            "_model_module": "@jupyter-widgets/base",
            "top": null,
            "grid_column": null,
            "overflow_y": null,
            "overflow_x": null,
            "grid_auto_flow": null,
            "grid_area": null,
            "grid_template_columns": null,
            "flex": null,
            "_model_name": "LayoutModel",
            "justify_items": null,
            "grid_row": null,
            "max_height": null,
            "align_content": null,
            "visibility": null,
            "align_self": null,
            "height": null,
            "min_height": null,
            "padding": null,
            "grid_auto_rows": null,
            "grid_gap": null,
            "max_width": null,
            "order": null,
            "_view_module_version": "1.2.0",
            "grid_template_areas": null,
            "object_position": null,
            "object_fit": null,
            "grid_auto_columns": null,
            "margin": null,
            "display": null,
            "left": null
          }
        },
        "adf73a2882064046822c311c00dd6dd0": {
          "model_module": "@jupyter-widgets/controls",
          "model_name": "DescriptionStyleModel",
          "model_module_version": "1.5.0",
          "state": {
            "_view_name": "StyleView",
            "_model_name": "DescriptionStyleModel",
            "description_width": "",
            "_view_module": "@jupyter-widgets/base",
            "_model_module_version": "1.5.0",
            "_view_count": null,
            "_view_module_version": "1.2.0",
            "_model_module": "@jupyter-widgets/controls"
          }
        },
        "b3db291db146422aaebb6d8eaff79ebe": {
          "model_module": "@jupyter-widgets/base",
          "model_name": "LayoutModel",
          "model_module_version": "1.2.0",
          "state": {
            "_view_name": "LayoutView",
            "grid_template_rows": null,
            "right": null,
            "justify_content": null,
            "_view_module": "@jupyter-widgets/base",
            "overflow": null,
            "_model_module_version": "1.2.0",
            "_view_count": null,
            "flex_flow": null,
            "width": null,
            "min_width": null,
            "border": null,
            "align_items": null,
            "bottom": null,
            "_model_module": "@jupyter-widgets/base",
            "top": null,
            "grid_column": null,
            "overflow_y": null,
            "overflow_x": null,
            "grid_auto_flow": null,
            "grid_area": null,
            "grid_template_columns": null,
            "flex": null,
            "_model_name": "LayoutModel",
            "justify_items": null,
            "grid_row": null,
            "max_height": null,
            "align_content": null,
            "visibility": null,
            "align_self": null,
            "height": null,
            "min_height": null,
            "padding": null,
            "grid_auto_rows": null,
            "grid_gap": null,
            "max_width": null,
            "order": null,
            "_view_module_version": "1.2.0",
            "grid_template_areas": null,
            "object_position": null,
            "object_fit": null,
            "grid_auto_columns": null,
            "margin": null,
            "display": null,
            "left": null
          }
        },
        "de50cfef0c2b497389ca8b608aad2f1f": {
          "model_module": "@jupyter-widgets/controls",
          "model_name": "HBoxModel",
          "model_module_version": "1.5.0",
          "state": {
            "_view_name": "HBoxView",
            "_dom_classes": [],
            "_model_name": "HBoxModel",
            "_view_module": "@jupyter-widgets/controls",
            "_model_module_version": "1.5.0",
            "_view_count": null,
            "_view_module_version": "1.5.0",
            "box_style": "",
            "layout": "IPY_MODEL_131faeba828149cc90a38e4b917ee30d",
            "_model_module": "@jupyter-widgets/controls",
            "children": [
              "IPY_MODEL_8409bf3be3674f0c8df7ade74583b28b",
              "IPY_MODEL_405a25bdab194892916d085edd72a824",
              "IPY_MODEL_50029c24d449474da37d55ca64aad94a"
            ]
          }
        },
        "131faeba828149cc90a38e4b917ee30d": {
          "model_module": "@jupyter-widgets/base",
          "model_name": "LayoutModel",
          "model_module_version": "1.2.0",
          "state": {
            "_view_name": "LayoutView",
            "grid_template_rows": null,
            "right": null,
            "justify_content": null,
            "_view_module": "@jupyter-widgets/base",
            "overflow": null,
            "_model_module_version": "1.2.0",
            "_view_count": null,
            "flex_flow": null,
            "width": null,
            "min_width": null,
            "border": null,
            "align_items": null,
            "bottom": null,
            "_model_module": "@jupyter-widgets/base",
            "top": null,
            "grid_column": null,
            "overflow_y": null,
            "overflow_x": null,
            "grid_auto_flow": null,
            "grid_area": null,
            "grid_template_columns": null,
            "flex": null,
            "_model_name": "LayoutModel",
            "justify_items": null,
            "grid_row": null,
            "max_height": null,
            "align_content": null,
            "visibility": null,
            "align_self": null,
            "height": null,
            "min_height": null,
            "padding": null,
            "grid_auto_rows": null,
            "grid_gap": null,
            "max_width": null,
            "order": null,
            "_view_module_version": "1.2.0",
            "grid_template_areas": null,
            "object_position": null,
            "object_fit": null,
            "grid_auto_columns": null,
            "margin": null,
            "display": null,
            "left": null
          }
        },
        "8409bf3be3674f0c8df7ade74583b28b": {
          "model_module": "@jupyter-widgets/controls",
          "model_name": "HTMLModel",
          "model_module_version": "1.5.0",
          "state": {
            "_view_name": "HTMLView",
            "style": "IPY_MODEL_7ee069b5732247ccbb6bcda15652a51e",
            "_dom_classes": [],
            "description": "",
            "_model_name": "HTMLModel",
            "placeholder": "​",
            "_view_module": "@jupyter-widgets/controls",
            "_model_module_version": "1.5.0",
            "value": "",
            "_view_count": null,
            "_view_module_version": "1.5.0",
            "description_tooltip": null,
            "_model_module": "@jupyter-widgets/controls",
            "layout": "IPY_MODEL_d9b1e59d0be445e6b09e9813eab9512a"
          }
        },
        "405a25bdab194892916d085edd72a824": {
          "model_module": "@jupyter-widgets/controls",
          "model_name": "FloatProgressModel",
          "model_module_version": "1.5.0",
          "state": {
            "_view_name": "ProgressView",
            "style": "IPY_MODEL_6a57cd9472614fa8935f8dc1586d57df",
            "_dom_classes": [],
            "description": "",
            "_model_name": "FloatProgressModel",
            "bar_style": "success",
            "max": 1648877,
            "_view_module": "@jupyter-widgets/controls",
            "_model_module_version": "1.5.0",
            "value": 1648877,
            "_view_count": null,
            "_view_module_version": "1.5.0",
            "orientation": "horizontal",
            "min": 0,
            "description_tooltip": null,
            "_model_module": "@jupyter-widgets/controls",
            "layout": "IPY_MODEL_651892f22402471ba795dd32a5184afa"
          }
        },
        "50029c24d449474da37d55ca64aad94a": {
          "model_module": "@jupyter-widgets/controls",
          "model_name": "HTMLModel",
          "model_module_version": "1.5.0",
          "state": {
            "_view_name": "HTMLView",
            "style": "IPY_MODEL_38bf746d5fc14e0b9975b53caf477547",
            "_dom_classes": [],
            "description": "",
            "_model_name": "HTMLModel",
            "placeholder": "​",
            "_view_module": "@jupyter-widgets/controls",
            "_model_module_version": "1.5.0",
            "value": " 1649664/? [00:00&lt;00:00, 10578905.91it/s]",
            "_view_count": null,
            "_view_module_version": "1.5.0",
            "description_tooltip": null,
            "_model_module": "@jupyter-widgets/controls",
            "layout": "IPY_MODEL_38b731ff687143408868e1d3cd7c8e7a"
          }
        },
        "7ee069b5732247ccbb6bcda15652a51e": {
          "model_module": "@jupyter-widgets/controls",
          "model_name": "DescriptionStyleModel",
          "model_module_version": "1.5.0",
          "state": {
            "_view_name": "StyleView",
            "_model_name": "DescriptionStyleModel",
            "description_width": "",
            "_view_module": "@jupyter-widgets/base",
            "_model_module_version": "1.5.0",
            "_view_count": null,
            "_view_module_version": "1.2.0",
            "_model_module": "@jupyter-widgets/controls"
          }
        },
        "d9b1e59d0be445e6b09e9813eab9512a": {
          "model_module": "@jupyter-widgets/base",
          "model_name": "LayoutModel",
          "model_module_version": "1.2.0",
          "state": {
            "_view_name": "LayoutView",
            "grid_template_rows": null,
            "right": null,
            "justify_content": null,
            "_view_module": "@jupyter-widgets/base",
            "overflow": null,
            "_model_module_version": "1.2.0",
            "_view_count": null,
            "flex_flow": null,
            "width": null,
            "min_width": null,
            "border": null,
            "align_items": null,
            "bottom": null,
            "_model_module": "@jupyter-widgets/base",
            "top": null,
            "grid_column": null,
            "overflow_y": null,
            "overflow_x": null,
            "grid_auto_flow": null,
            "grid_area": null,
            "grid_template_columns": null,
            "flex": null,
            "_model_name": "LayoutModel",
            "justify_items": null,
            "grid_row": null,
            "max_height": null,
            "align_content": null,
            "visibility": null,
            "align_self": null,
            "height": null,
            "min_height": null,
            "padding": null,
            "grid_auto_rows": null,
            "grid_gap": null,
            "max_width": null,
            "order": null,
            "_view_module_version": "1.2.0",
            "grid_template_areas": null,
            "object_position": null,
            "object_fit": null,
            "grid_auto_columns": null,
            "margin": null,
            "display": null,
            "left": null
          }
        },
        "6a57cd9472614fa8935f8dc1586d57df": {
          "model_module": "@jupyter-widgets/controls",
          "model_name": "ProgressStyleModel",
          "model_module_version": "1.5.0",
          "state": {
            "_view_name": "StyleView",
            "_model_name": "ProgressStyleModel",
            "description_width": "",
            "_view_module": "@jupyter-widgets/base",
            "_model_module_version": "1.5.0",
            "_view_count": null,
            "_view_module_version": "1.2.0",
            "bar_color": null,
            "_model_module": "@jupyter-widgets/controls"
          }
        },
        "651892f22402471ba795dd32a5184afa": {
          "model_module": "@jupyter-widgets/base",
          "model_name": "LayoutModel",
          "model_module_version": "1.2.0",
          "state": {
            "_view_name": "LayoutView",
            "grid_template_rows": null,
            "right": null,
            "justify_content": null,
            "_view_module": "@jupyter-widgets/base",
            "overflow": null,
            "_model_module_version": "1.2.0",
            "_view_count": null,
            "flex_flow": null,
            "width": null,
            "min_width": null,
            "border": null,
            "align_items": null,
            "bottom": null,
            "_model_module": "@jupyter-widgets/base",
            "top": null,
            "grid_column": null,
            "overflow_y": null,
            "overflow_x": null,
            "grid_auto_flow": null,
            "grid_area": null,
            "grid_template_columns": null,
            "flex": null,
            "_model_name": "LayoutModel",
            "justify_items": null,
            "grid_row": null,
            "max_height": null,
            "align_content": null,
            "visibility": null,
            "align_self": null,
            "height": null,
            "min_height": null,
            "padding": null,
            "grid_auto_rows": null,
            "grid_gap": null,
            "max_width": null,
            "order": null,
            "_view_module_version": "1.2.0",
            "grid_template_areas": null,
            "object_position": null,
            "object_fit": null,
            "grid_auto_columns": null,
            "margin": null,
            "display": null,
            "left": null
          }
        },
        "38bf746d5fc14e0b9975b53caf477547": {
          "model_module": "@jupyter-widgets/controls",
          "model_name": "DescriptionStyleModel",
          "model_module_version": "1.5.0",
          "state": {
            "_view_name": "StyleView",
            "_model_name": "DescriptionStyleModel",
            "description_width": "",
            "_view_module": "@jupyter-widgets/base",
            "_model_module_version": "1.5.0",
            "_view_count": null,
            "_view_module_version": "1.2.0",
            "_model_module": "@jupyter-widgets/controls"
          }
        },
        "38b731ff687143408868e1d3cd7c8e7a": {
          "model_module": "@jupyter-widgets/base",
          "model_name": "LayoutModel",
          "model_module_version": "1.2.0",
          "state": {
            "_view_name": "LayoutView",
            "grid_template_rows": null,
            "right": null,
            "justify_content": null,
            "_view_module": "@jupyter-widgets/base",
            "overflow": null,
            "_model_module_version": "1.2.0",
            "_view_count": null,
            "flex_flow": null,
            "width": null,
            "min_width": null,
            "border": null,
            "align_items": null,
            "bottom": null,
            "_model_module": "@jupyter-widgets/base",
            "top": null,
            "grid_column": null,
            "overflow_y": null,
            "overflow_x": null,
            "grid_auto_flow": null,
            "grid_area": null,
            "grid_template_columns": null,
            "flex": null,
            "_model_name": "LayoutModel",
            "justify_items": null,
            "grid_row": null,
            "max_height": null,
            "align_content": null,
            "visibility": null,
            "align_self": null,
            "height": null,
            "min_height": null,
            "padding": null,
            "grid_auto_rows": null,
            "grid_gap": null,
            "max_width": null,
            "order": null,
            "_view_module_version": "1.2.0",
            "grid_template_areas": null,
            "object_position": null,
            "object_fit": null,
            "grid_auto_columns": null,
            "margin": null,
            "display": null,
            "left": null
          }
        },
        "aa77f6b09425481baa4abdbfb2e52e27": {
          "model_module": "@jupyter-widgets/controls",
          "model_name": "HBoxModel",
          "model_module_version": "1.5.0",
          "state": {
            "_view_name": "HBoxView",
            "_dom_classes": [],
            "_model_name": "HBoxModel",
            "_view_module": "@jupyter-widgets/controls",
            "_model_module_version": "1.5.0",
            "_view_count": null,
            "_view_module_version": "1.5.0",
            "box_style": "",
            "layout": "IPY_MODEL_a58e600616d24aec8de42b4f30f90036",
            "_model_module": "@jupyter-widgets/controls",
            "children": [
              "IPY_MODEL_7b92d0e36fcf46f99491d4be11001335",
              "IPY_MODEL_3fecf72868004162aa62011724e56a36",
              "IPY_MODEL_21e968a15ea3464fba2602b4050bed3f"
            ]
          }
        },
        "a58e600616d24aec8de42b4f30f90036": {
          "model_module": "@jupyter-widgets/base",
          "model_name": "LayoutModel",
          "model_module_version": "1.2.0",
          "state": {
            "_view_name": "LayoutView",
            "grid_template_rows": null,
            "right": null,
            "justify_content": null,
            "_view_module": "@jupyter-widgets/base",
            "overflow": null,
            "_model_module_version": "1.2.0",
            "_view_count": null,
            "flex_flow": null,
            "width": null,
            "min_width": null,
            "border": null,
            "align_items": null,
            "bottom": null,
            "_model_module": "@jupyter-widgets/base",
            "top": null,
            "grid_column": null,
            "overflow_y": null,
            "overflow_x": null,
            "grid_auto_flow": null,
            "grid_area": null,
            "grid_template_columns": null,
            "flex": null,
            "_model_name": "LayoutModel",
            "justify_items": null,
            "grid_row": null,
            "max_height": null,
            "align_content": null,
            "visibility": null,
            "align_self": null,
            "height": null,
            "min_height": null,
            "padding": null,
            "grid_auto_rows": null,
            "grid_gap": null,
            "max_width": null,
            "order": null,
            "_view_module_version": "1.2.0",
            "grid_template_areas": null,
            "object_position": null,
            "object_fit": null,
            "grid_auto_columns": null,
            "margin": null,
            "display": null,
            "left": null
          }
        },
        "7b92d0e36fcf46f99491d4be11001335": {
          "model_module": "@jupyter-widgets/controls",
          "model_name": "HTMLModel",
          "model_module_version": "1.5.0",
          "state": {
            "_view_name": "HTMLView",
            "style": "IPY_MODEL_5eb5a7a65c2f4b15a674fed2fb77cd71",
            "_dom_classes": [],
            "description": "",
            "_model_name": "HTMLModel",
            "placeholder": "​",
            "_view_module": "@jupyter-widgets/controls",
            "_model_module_version": "1.5.0",
            "value": "",
            "_view_count": null,
            "_view_module_version": "1.5.0",
            "description_tooltip": null,
            "_model_module": "@jupyter-widgets/controls",
            "layout": "IPY_MODEL_cb578aa57a4642d0b635543c7dc5f5ce"
          }
        },
        "3fecf72868004162aa62011724e56a36": {
          "model_module": "@jupyter-widgets/controls",
          "model_name": "FloatProgressModel",
          "model_module_version": "1.5.0",
          "state": {
            "_view_name": "ProgressView",
            "style": "IPY_MODEL_01a4c87600ee4e60b80ceaa67e1f49ac",
            "_dom_classes": [],
            "description": "",
            "_model_name": "FloatProgressModel",
            "bar_style": "success",
            "max": 4542,
            "_view_module": "@jupyter-widgets/controls",
            "_model_module_version": "1.5.0",
            "value": 4542,
            "_view_count": null,
            "_view_module_version": "1.5.0",
            "orientation": "horizontal",
            "min": 0,
            "description_tooltip": null,
            "_model_module": "@jupyter-widgets/controls",
            "layout": "IPY_MODEL_31fd4920ff284f9cbdf787d975b9e6e6"
          }
        },
        "21e968a15ea3464fba2602b4050bed3f": {
          "model_module": "@jupyter-widgets/controls",
          "model_name": "HTMLModel",
          "model_module_version": "1.5.0",
          "state": {
            "_view_name": "HTMLView",
            "style": "IPY_MODEL_6948d30e55f2437984ea6d7f87e32cb6",
            "_dom_classes": [],
            "description": "",
            "_model_name": "HTMLModel",
            "placeholder": "​",
            "_view_module": "@jupyter-widgets/controls",
            "_model_module_version": "1.5.0",
            "value": " 5120/? [00:00&lt;00:00, 119329.84it/s]",
            "_view_count": null,
            "_view_module_version": "1.5.0",
            "description_tooltip": null,
            "_model_module": "@jupyter-widgets/controls",
            "layout": "IPY_MODEL_954646d4d96f4a018e61888d136bd81e"
          }
        },
        "5eb5a7a65c2f4b15a674fed2fb77cd71": {
          "model_module": "@jupyter-widgets/controls",
          "model_name": "DescriptionStyleModel",
          "model_module_version": "1.5.0",
          "state": {
            "_view_name": "StyleView",
            "_model_name": "DescriptionStyleModel",
            "description_width": "",
            "_view_module": "@jupyter-widgets/base",
            "_model_module_version": "1.5.0",
            "_view_count": null,
            "_view_module_version": "1.2.0",
            "_model_module": "@jupyter-widgets/controls"
          }
        },
        "cb578aa57a4642d0b635543c7dc5f5ce": {
          "model_module": "@jupyter-widgets/base",
          "model_name": "LayoutModel",
          "model_module_version": "1.2.0",
          "state": {
            "_view_name": "LayoutView",
            "grid_template_rows": null,
            "right": null,
            "justify_content": null,
            "_view_module": "@jupyter-widgets/base",
            "overflow": null,
            "_model_module_version": "1.2.0",
            "_view_count": null,
            "flex_flow": null,
            "width": null,
            "min_width": null,
            "border": null,
            "align_items": null,
            "bottom": null,
            "_model_module": "@jupyter-widgets/base",
            "top": null,
            "grid_column": null,
            "overflow_y": null,
            "overflow_x": null,
            "grid_auto_flow": null,
            "grid_area": null,
            "grid_template_columns": null,
            "flex": null,
            "_model_name": "LayoutModel",
            "justify_items": null,
            "grid_row": null,
            "max_height": null,
            "align_content": null,
            "visibility": null,
            "align_self": null,
            "height": null,
            "min_height": null,
            "padding": null,
            "grid_auto_rows": null,
            "grid_gap": null,
            "max_width": null,
            "order": null,
            "_view_module_version": "1.2.0",
            "grid_template_areas": null,
            "object_position": null,
            "object_fit": null,
            "grid_auto_columns": null,
            "margin": null,
            "display": null,
            "left": null
          }
        },
        "01a4c87600ee4e60b80ceaa67e1f49ac": {
          "model_module": "@jupyter-widgets/controls",
          "model_name": "ProgressStyleModel",
          "model_module_version": "1.5.0",
          "state": {
            "_view_name": "StyleView",
            "_model_name": "ProgressStyleModel",
            "description_width": "",
            "_view_module": "@jupyter-widgets/base",
            "_model_module_version": "1.5.0",
            "_view_count": null,
            "_view_module_version": "1.2.0",
            "bar_color": null,
            "_model_module": "@jupyter-widgets/controls"
          }
        },
        "31fd4920ff284f9cbdf787d975b9e6e6": {
          "model_module": "@jupyter-widgets/base",
          "model_name": "LayoutModel",
          "model_module_version": "1.2.0",
          "state": {
            "_view_name": "LayoutView",
            "grid_template_rows": null,
            "right": null,
            "justify_content": null,
            "_view_module": "@jupyter-widgets/base",
            "overflow": null,
            "_model_module_version": "1.2.0",
            "_view_count": null,
            "flex_flow": null,
            "width": null,
            "min_width": null,
            "border": null,
            "align_items": null,
            "bottom": null,
            "_model_module": "@jupyter-widgets/base",
            "top": null,
            "grid_column": null,
            "overflow_y": null,
            "overflow_x": null,
            "grid_auto_flow": null,
            "grid_area": null,
            "grid_template_columns": null,
            "flex": null,
            "_model_name": "LayoutModel",
            "justify_items": null,
            "grid_row": null,
            "max_height": null,
            "align_content": null,
            "visibility": null,
            "align_self": null,
            "height": null,
            "min_height": null,
            "padding": null,
            "grid_auto_rows": null,
            "grid_gap": null,
            "max_width": null,
            "order": null,
            "_view_module_version": "1.2.0",
            "grid_template_areas": null,
            "object_position": null,
            "object_fit": null,
            "grid_auto_columns": null,
            "margin": null,
            "display": null,
            "left": null
          }
        },
        "6948d30e55f2437984ea6d7f87e32cb6": {
          "model_module": "@jupyter-widgets/controls",
          "model_name": "DescriptionStyleModel",
          "model_module_version": "1.5.0",
          "state": {
            "_view_name": "StyleView",
            "_model_name": "DescriptionStyleModel",
            "description_width": "",
            "_view_module": "@jupyter-widgets/base",
            "_model_module_version": "1.5.0",
            "_view_count": null,
            "_view_module_version": "1.2.0",
            "_model_module": "@jupyter-widgets/controls"
          }
        },
        "954646d4d96f4a018e61888d136bd81e": {
          "model_module": "@jupyter-widgets/base",
          "model_name": "LayoutModel",
          "model_module_version": "1.2.0",
          "state": {
            "_view_name": "LayoutView",
            "grid_template_rows": null,
            "right": null,
            "justify_content": null,
            "_view_module": "@jupyter-widgets/base",
            "overflow": null,
            "_model_module_version": "1.2.0",
            "_view_count": null,
            "flex_flow": null,
            "width": null,
            "min_width": null,
            "border": null,
            "align_items": null,
            "bottom": null,
            "_model_module": "@jupyter-widgets/base",
            "top": null,
            "grid_column": null,
            "overflow_y": null,
            "overflow_x": null,
            "grid_auto_flow": null,
            "grid_area": null,
            "grid_template_columns": null,
            "flex": null,
            "_model_name": "LayoutModel",
            "justify_items": null,
            "grid_row": null,
            "max_height": null,
            "align_content": null,
            "visibility": null,
            "align_self": null,
            "height": null,
            "min_height": null,
            "padding": null,
            "grid_auto_rows": null,
            "grid_gap": null,
            "max_width": null,
            "order": null,
            "_view_module_version": "1.2.0",
            "grid_template_areas": null,
            "object_position": null,
            "object_fit": null,
            "grid_auto_columns": null,
            "margin": null,
            "display": null,
            "left": null
          }
        }
      }
    }
  },
  "cells": [
    {
      "cell_type": "code",
      "metadata": {
        "id": "JSjG64ra4aFu",
        "colab": {
          "base_uri": "https://localhost:8080/"
        },
        "outputId": "8b4ff3c4-2d2d-4705-cc44-49878a206bdf"
      },
      "source": [
        "# from google.colab import drive\n",
        "# drive.mount('/content/drive')"
      ],
      "execution_count": null,
      "outputs": [
        {
          "output_type": "stream",
          "text": [
            "Mounted at /content/drive\n"
          ],
          "name": "stdout"
        }
      ]
    },
    {
      "cell_type": "code",
      "metadata": {
        "id": "3uDWznlVHuI6"
      },
      "source": [
        "# path = \"/content/drive/MyDrive/Research/cods_comad_plots/sdc_task/mnist/\""
      ],
      "execution_count": null,
      "outputs": []
    },
    {
      "cell_type": "code",
      "metadata": {
        "id": "V8-7SARDZErK"
      },
      "source": [
        "import torch.nn as nn\n",
        "import torch.nn.functional as F\n",
        "\n",
        "import pandas as pd\n",
        "import numpy as np\n",
        "import matplotlib.pyplot as plt\n",
        "\n",
        "import torch\n",
        "import torchvision\n",
        "import torchvision.transforms as transforms\n",
        "from torch.utils.data import Dataset, DataLoader\n",
        "from torchvision import transforms, utils\n",
        "\n",
        "from matplotlib import pyplot as plt\n",
        "\n",
        "import copy\n",
        "\n",
        "# Ignore warnings\n",
        "import warnings\n",
        "warnings.filterwarnings(\"ignore\")\n",
        "\n",
        "torch.backends.cudnn.deterministic = True\n",
        "torch.backends.cudnn.benchmark = False\n"
      ],
      "execution_count": 1,
      "outputs": []
    },
    {
      "cell_type": "code",
      "metadata": {
        "id": "acRFqJNrZErV",
        "colab": {
          "base_uri": "https://localhost:8080/",
          "height": 441,
          "referenced_widgets": [
            "dedc080a5ef7470ba5ee99e7f2146142",
            "06e581d7c78142b4a7bd5f98d1b11f56",
            "4bef05ce9926484c8c25e1a08f36afec",
            "cbaa64c04e3e43139bd34567f2c8a29a",
            "b49327231aeb4d50891b53032712e4c6",
            "cccda8d9f40d457595e87cf165fa8d17",
            "6220c49f881f477c93ad5685565d5520",
            "7870adbd2c2f42d2aa188cae9a4b174d",
            "c831ca7cecc94639b21a155767ed4187",
            "ba6cd5bbdc1240c2959cc022fa84e2e0",
            "c00bc919d8c142109e9ff81c37cac9d5",
            "e4a51bafc49f4250866cfa61e7762334",
            "45aea04470f046cc80ffc32c1a484508",
            "3ac25fa772b6452a879992b32e6e1fde",
            "c8cf3999c64e49d486eb4cde31cf321d",
            "3680db8b288d45e5abd4f28d021c68f7",
            "8b5e91180fbf4bee8e4f9a5270c7344e",
            "4ab7bc6197a24ed9b20b6140fe836b9e",
            "d2a664a75bf741c381d6bd3c73e8e4bc",
            "02c048059be747c88c018278e05d2c94",
            "adf73a2882064046822c311c00dd6dd0",
            "b3db291db146422aaebb6d8eaff79ebe",
            "de50cfef0c2b497389ca8b608aad2f1f",
            "131faeba828149cc90a38e4b917ee30d",
            "8409bf3be3674f0c8df7ade74583b28b",
            "405a25bdab194892916d085edd72a824",
            "50029c24d449474da37d55ca64aad94a",
            "7ee069b5732247ccbb6bcda15652a51e",
            "d9b1e59d0be445e6b09e9813eab9512a",
            "6a57cd9472614fa8935f8dc1586d57df",
            "651892f22402471ba795dd32a5184afa",
            "38bf746d5fc14e0b9975b53caf477547",
            "38b731ff687143408868e1d3cd7c8e7a",
            "aa77f6b09425481baa4abdbfb2e52e27",
            "a58e600616d24aec8de42b4f30f90036",
            "7b92d0e36fcf46f99491d4be11001335",
            "3fecf72868004162aa62011724e56a36",
            "21e968a15ea3464fba2602b4050bed3f",
            "5eb5a7a65c2f4b15a674fed2fb77cd71",
            "cb578aa57a4642d0b635543c7dc5f5ce",
            "01a4c87600ee4e60b80ceaa67e1f49ac",
            "31fd4920ff284f9cbdf787d975b9e6e6",
            "6948d30e55f2437984ea6d7f87e32cb6",
            "954646d4d96f4a018e61888d136bd81e"
          ]
        },
        "outputId": "ec258e01-593c-49ad-fd18-0b9ebb7a0ad1"
      },
      "source": [
        "transform = transforms.Compose(\n",
        "    [transforms.ToTensor(),\n",
        "     transforms.Normalize((0.5), (0.5))])\n",
        "\n",
        "trainset = torchvision.datasets.MNIST(root='./data', train=True, download=True, transform=transform)\n",
        "\n",
        "\n",
        "testset = torchvision.datasets.MNIST(root='./data', train=False, download=True, transform=transform)"
      ],
      "execution_count": 2,
      "outputs": [
        {
          "output_type": "stream",
          "name": "stdout",
          "text": [
            "Downloading http://yann.lecun.com/exdb/mnist/train-images-idx3-ubyte.gz\n",
            "Downloading http://yann.lecun.com/exdb/mnist/train-images-idx3-ubyte.gz to ./data/MNIST/raw/train-images-idx3-ubyte.gz\n"
          ]
        },
        {
          "output_type": "display_data",
          "data": {
            "application/vnd.jupyter.widget-view+json": {
              "model_id": "dedc080a5ef7470ba5ee99e7f2146142",
              "version_minor": 0,
              "version_major": 2
            },
            "text/plain": [
              "  0%|          | 0/9912422 [00:00<?, ?it/s]"
            ]
          },
          "metadata": {}
        },
        {
          "output_type": "stream",
          "name": "stdout",
          "text": [
            "Extracting ./data/MNIST/raw/train-images-idx3-ubyte.gz to ./data/MNIST/raw\n",
            "\n",
            "Downloading http://yann.lecun.com/exdb/mnist/train-labels-idx1-ubyte.gz\n",
            "Downloading http://yann.lecun.com/exdb/mnist/train-labels-idx1-ubyte.gz to ./data/MNIST/raw/train-labels-idx1-ubyte.gz\n"
          ]
        },
        {
          "output_type": "display_data",
          "data": {
            "application/vnd.jupyter.widget-view+json": {
              "model_id": "e4a51bafc49f4250866cfa61e7762334",
              "version_minor": 0,
              "version_major": 2
            },
            "text/plain": [
              "  0%|          | 0/28881 [00:00<?, ?it/s]"
            ]
          },
          "metadata": {}
        },
        {
          "output_type": "stream",
          "name": "stdout",
          "text": [
            "Extracting ./data/MNIST/raw/train-labels-idx1-ubyte.gz to ./data/MNIST/raw\n",
            "\n",
            "Downloading http://yann.lecun.com/exdb/mnist/t10k-images-idx3-ubyte.gz\n",
            "Downloading http://yann.lecun.com/exdb/mnist/t10k-images-idx3-ubyte.gz to ./data/MNIST/raw/t10k-images-idx3-ubyte.gz\n"
          ]
        },
        {
          "output_type": "display_data",
          "data": {
            "application/vnd.jupyter.widget-view+json": {
              "model_id": "de50cfef0c2b497389ca8b608aad2f1f",
              "version_minor": 0,
              "version_major": 2
            },
            "text/plain": [
              "  0%|          | 0/1648877 [00:00<?, ?it/s]"
            ]
          },
          "metadata": {}
        },
        {
          "output_type": "stream",
          "name": "stdout",
          "text": [
            "Extracting ./data/MNIST/raw/t10k-images-idx3-ubyte.gz to ./data/MNIST/raw\n",
            "\n",
            "Downloading http://yann.lecun.com/exdb/mnist/t10k-labels-idx1-ubyte.gz\n",
            "Downloading http://yann.lecun.com/exdb/mnist/t10k-labels-idx1-ubyte.gz to ./data/MNIST/raw/t10k-labels-idx1-ubyte.gz\n"
          ]
        },
        {
          "output_type": "display_data",
          "data": {
            "application/vnd.jupyter.widget-view+json": {
              "model_id": "aa77f6b09425481baa4abdbfb2e52e27",
              "version_minor": 0,
              "version_major": 2
            },
            "text/plain": [
              "  0%|          | 0/4542 [00:00<?, ?it/s]"
            ]
          },
          "metadata": {}
        },
        {
          "output_type": "stream",
          "name": "stdout",
          "text": [
            "Extracting ./data/MNIST/raw/t10k-labels-idx1-ubyte.gz to ./data/MNIST/raw\n",
            "\n"
          ]
        }
      ]
    },
    {
      "cell_type": "code",
      "metadata": {
        "id": "gh5DXuAV1tp5",
        "colab": {
          "base_uri": "https://localhost:8080/"
        },
        "outputId": "50205c5f-db8c-4e78-cf24-83f1826751fe"
      },
      "source": [
        "classes = ('zero','one','two','three','four','five','six','seven','eight','nine')\n",
        "\n",
        "foreground_classes = {'zero','one'}\n",
        "fg_used = '01'\n",
        "fg1, fg2 = 0,1\n",
        "\n",
        "\n",
        "all_classes = {'zero','one','two','three','four','five','six','seven','eight','nine'}\n",
        "background_classes = all_classes - foreground_classes\n",
        "background_classes"
      ],
      "execution_count": 3,
      "outputs": [
        {
          "output_type": "execute_result",
          "data": {
            "text/plain": [
              "{'eight', 'five', 'four', 'nine', 'seven', 'six', 'three', 'two'}"
            ]
          },
          "metadata": {},
          "execution_count": 3
        }
      ]
    },
    {
      "cell_type": "code",
      "metadata": {
        "id": "Xbr_H78mp_Of"
      },
      "source": [
        "trainloader = torch.utils.data.DataLoader(trainset, batch_size=10, shuffle = False)\n",
        "testloader = torch.utils.data.DataLoader(testset, batch_size=10, shuffle = False)"
      ],
      "execution_count": 4,
      "outputs": []
    },
    {
      "cell_type": "code",
      "metadata": {
        "id": "V_JUhwCeZErk"
      },
      "source": [
        "dataiter = iter(trainloader)\n",
        "background_data=[]\n",
        "background_label=[]\n",
        "foreground_data=[]\n",
        "foreground_label=[]\n",
        "batch_size=10\n",
        "\n",
        "for i in range(6000):\n",
        "  images, labels = dataiter.next()\n",
        "  for j in range(batch_size):\n",
        "    if(classes[labels[j]] in background_classes):\n",
        "      img = images[j].tolist()\n",
        "      background_data.append(img)\n",
        "      background_label.append(labels[j])\n",
        "    else:\n",
        "      img = images[j].tolist()\n",
        "      foreground_data.append(img)\n",
        "      foreground_label.append(labels[j])\n",
        "            \n",
        "foreground_data = torch.tensor(foreground_data)\n",
        "foreground_label = torch.tensor(foreground_label)\n",
        "background_data = torch.tensor(background_data)\n",
        "background_label = torch.tensor(background_label)"
      ],
      "execution_count": 5,
      "outputs": []
    },
    {
      "cell_type": "code",
      "metadata": {
        "id": "iyyWx5g58erM"
      },
      "source": [
        "def imshow(img):\n",
        "  img = img / 2 + 0.5     # unnormalize\n",
        "  npimg = img#.numpy()\n",
        "  plt.imshow(np.reshape(npimg, (28,28)))\n",
        "  plt.show()"
      ],
      "execution_count": 6,
      "outputs": []
    },
    {
      "cell_type": "code",
      "metadata": {
        "colab": {
          "base_uri": "https://localhost:8080/"
        },
        "id": "U5w9S6xb6EFl",
        "outputId": "f3970db1-1424-421e-8468-e935c06bacc8"
      },
      "source": [
        "foreground_data.shape, foreground_label.shape, background_data.shape, background_label.shape"
      ],
      "execution_count": 7,
      "outputs": [
        {
          "output_type": "execute_result",
          "data": {
            "text/plain": [
              "(torch.Size([12665, 1, 28, 28]),\n",
              " torch.Size([12665]),\n",
              " torch.Size([47335, 1, 28, 28]),\n",
              " torch.Size([47335]))"
            ]
          },
          "metadata": {},
          "execution_count": 7
        }
      ]
    },
    {
      "cell_type": "code",
      "metadata": {
        "id": "IRd6EpWM6Abq"
      },
      "source": [
        "val, idx = torch.max(background_data, dim=0, keepdims= True,)\n",
        "# torch.abs(val)"
      ],
      "execution_count": 8,
      "outputs": []
    },
    {
      "cell_type": "code",
      "metadata": {
        "id": "Sly62nHh6VJy"
      },
      "source": [
        "mean_bg = torch.mean(background_data, dim=0, keepdims= True)\n",
        "std_bg, _ = torch.max(background_data, dim=0, keepdims= True)"
      ],
      "execution_count": 9,
      "outputs": []
    },
    {
      "cell_type": "code",
      "metadata": {
        "colab": {
          "base_uri": "https://localhost:8080/"
        },
        "id": "K89Qj57m6axj",
        "outputId": "0b79032b-a6c2-4642-8112-8dc5d2117e3c"
      },
      "source": [
        "mean_bg.shape, std_bg.shape"
      ],
      "execution_count": 10,
      "outputs": [
        {
          "output_type": "execute_result",
          "data": {
            "text/plain": [
              "(torch.Size([1, 1, 28, 28]), torch.Size([1, 1, 28, 28]))"
            ]
          },
          "metadata": {},
          "execution_count": 10
        }
      ]
    },
    {
      "cell_type": "code",
      "metadata": {
        "id": "wGVjRbqZ6lzV"
      },
      "source": [
        "foreground_data = (foreground_data - mean_bg) / std_bg\n",
        "background_data = (background_data - mean_bg) / torch.abs(std_bg)"
      ],
      "execution_count": 11,
      "outputs": []
    },
    {
      "cell_type": "code",
      "metadata": {
        "colab": {
          "base_uri": "https://localhost:8080/"
        },
        "id": "yxZVq5OW6o3L",
        "outputId": "4a5d462d-462d-444b-d650-4823aae3d0d1"
      },
      "source": [
        "foreground_data.shape, foreground_label.shape, background_data.shape, background_label.shape"
      ],
      "execution_count": 12,
      "outputs": [
        {
          "output_type": "execute_result",
          "data": {
            "text/plain": [
              "(torch.Size([12665, 1, 28, 28]),\n",
              " torch.Size([12665]),\n",
              " torch.Size([47335, 1, 28, 28]),\n",
              " torch.Size([47335]))"
            ]
          },
          "metadata": {},
          "execution_count": 12
        }
      ]
    },
    {
      "cell_type": "code",
      "metadata": {
        "colab": {
          "base_uri": "https://localhost:8080/"
        },
        "id": "pTrGcqI7GsBA",
        "outputId": "6514c2dd-a2f5-4bde-a30d-1452ba97d177"
      },
      "source": [
        "torch.sum(torch.isnan(foreground_data)), torch.sum(torch.isnan(background_data))"
      ],
      "execution_count": 13,
      "outputs": [
        {
          "output_type": "execute_result",
          "data": {
            "text/plain": [
              "(tensor(0), tensor(0))"
            ]
          },
          "metadata": {},
          "execution_count": 13
        }
      ]
    },
    {
      "cell_type": "code",
      "metadata": {
        "colab": {
          "base_uri": "https://localhost:8080/",
          "height": 265
        },
        "id": "fIqpbILY-BiG",
        "outputId": "8611d749-4c96-4d0f-c5c0-90a44e5ca882"
      },
      "source": [
        "imshow(foreground_data[0])"
      ],
      "execution_count": 14,
      "outputs": [
        {
          "output_type": "display_data",
          "data": {
            "image/png": "[encoded data removed]",
            "text/plain": [
              "<Figure size 432x288 with 1 Axes>"
            ]
          },
          "metadata": {
            "needs_background": "light"
          }
        }
      ]
    },
    {
      "cell_type": "code",
      "metadata": {
        "colab": {
          "base_uri": "https://localhost:8080/",
          "height": 265
        },
        "id": "tRvTvlVo98xz",
        "outputId": "73bde11f-38ea-4a25-a4d0-46e6a49dbb19"
      },
      "source": [
        "imshow(background_data[0])"
      ],
      "execution_count": 15,
      "outputs": [
        {
          "output_type": "display_data",
          "data": {
            "image/png": "[encoded data removed]",
            "text/plain": [
              "<Figure size 432x288 with 1 Axes>"
            ]
          },
          "metadata": {
            "needs_background": "light"
          }
        }
      ]
    },
    {
      "cell_type": "markdown",
      "metadata": {
        "id": "ccO3wCVRNrxe"
      },
      "source": [
        "## generating CIN train and test data"
      ]
    },
    {
      "cell_type": "code",
      "metadata": {
        "id": "jIzYDQ-xN0Qj"
      },
      "source": [
        "m = 5\n",
        "desired_num = 10000"
      ],
      "execution_count": 18,
      "outputs": []
    },
    {
      "cell_type": "code",
      "metadata": {
        "colab": {
          "base_uri": "https://localhost:8080/"
        },
        "id": "30usvva6N0Nq",
        "outputId": "e834f269-944e-45c8-f8da-368ae33384db"
      },
      "source": [
        "np.random.seed(0)\n",
        "bg_idx = np.random.randint(0,47335,m-1)\n",
        "fg_idx = np.random.randint(0,12665)\n",
        "bg_idx, fg_idx"
      ],
      "execution_count": 19,
      "outputs": [
        {
          "output_type": "execute_result",
          "data": {
            "text/plain": [
              "(array([ 2732, 21243, 30403, 32103]), 9225)"
            ]
          },
          "metadata": {},
          "execution_count": 19
        }
      ]
    },
    {
      "cell_type": "code",
      "metadata": {
        "colab": {
          "base_uri": "https://localhost:8080/",
          "height": 1000
        },
        "id": "Q3ryiEQ5N0GY",
        "outputId": "375c557d-2a89-4847-85ac-e92be44046dd"
      },
      "source": [
        "for i in background_data[bg_idx]:\n",
        "  imshow(i)"
      ],
      "execution_count": 20,
      "outputs": [
        {
          "output_type": "display_data",
          "data": {
            "image/png": "[encoded data removed]",
            "text/plain": [
              "<Figure size 432x288 with 1 Axes>"
            ]
          },
          "metadata": {
            "needs_background": "light"
          }
        },
        {
          "output_type": "display_data",
          "data": {
            "image/png": "[encoded data removed]",
            "text/plain": [
              "<Figure size 432x288 with 1 Axes>"
            ]
          },
          "metadata": {
            "needs_background": "light"
          }
        },
        {
          "output_type": "display_data",
          "data": {
            "image/png": "[encoded data removed]",
            "text/plain": [
              "<Figure size 432x288 with 1 Axes>"
            ]
          },
          "metadata": {
            "needs_background": "light"
          }
        },
        {
          "output_type": "display_data",
          "data": {
            "image/png": "[encoded data removed]",
            "text/plain": [
              "<Figure size 432x288 with 1 Axes>"
            ]
          },
          "metadata": {
            "needs_background": "light"
          }
        }
      ]
    },
    {
      "cell_type": "code",
      "metadata": {
        "colab": {
          "base_uri": "https://localhost:8080/",
          "height": 265
        },
        "id": "ZtUC0dNdN0Dz",
        "outputId": "89e9e02d-6a09-40bc-ebb7-4f5735ea41c2"
      },
      "source": [
        "imshow(torch.sum(background_data[bg_idx], axis = 0))"
      ],
      "execution_count": 21,
      "outputs": [
        {
          "output_type": "display_data",
          "data": {
            "image/png": "[encoded data removed]",
            "text/plain": [
              "<Figure size 432x288 with 1 Axes>"
            ]
          },
          "metadata": {
            "needs_background": "light"
          }
        }
      ]
    },
    {
      "cell_type": "code",
      "metadata": {
        "colab": {
          "base_uri": "https://localhost:8080/",
          "height": 265
        },
        "id": "UY1IevjcN0BL",
        "outputId": "e8f6ca56-442e-4538-8b8e-03d004e2929b"
      },
      "source": [
        "imshow(foreground_data[fg_idx])"
      ],
      "execution_count": 22,
      "outputs": [
        {
          "output_type": "display_data",
          "data": {
            "image/png": "[encoded data removed]",
            "text/plain": [
              "<Figure size 432x288 with 1 Axes>"
            ]
          },
          "metadata": {
            "needs_background": "light"
          }
        }
      ]
    },
    {
      "cell_type": "code",
      "metadata": {
        "colab": {
          "base_uri": "https://localhost:8080/"
        },
        "id": "e6niBULUNz-k",
        "outputId": "88323d3f-7a46-461b-e41c-133eaa485740"
      },
      "source": [
        "tr_data = ( torch.sum(background_data[bg_idx], axis = 0) + foreground_data[fg_idx] )/m\n",
        "tr_data.shape"
      ],
      "execution_count": 23,
      "outputs": [
        {
          "output_type": "execute_result",
          "data": {
            "text/plain": [
              "torch.Size([1, 28, 28])"
            ]
          },
          "metadata": {},
          "execution_count": 23
        }
      ]
    },
    {
      "cell_type": "code",
      "metadata": {
        "colab": {
          "base_uri": "https://localhost:8080/",
          "height": 265
        },
        "id": "SSLaezrFNz7r",
        "outputId": "aabd8af0-ff60-4f4e-fa29-10a8106caf19"
      },
      "source": [
        "imshow(tr_data)"
      ],
      "execution_count": 24,
      "outputs": [
        {
          "output_type": "display_data",
          "data": {
            "image/png": "[encoded data removed]",
            "text/plain": [
              "<Figure size 432x288 with 1 Axes>"
            ]
          },
          "metadata": {
            "needs_background": "light"
          }
        }
      ]
    },
    {
      "cell_type": "code",
      "metadata": {
        "colab": {
          "base_uri": "https://localhost:8080/"
        },
        "id": "aNZSuYqiOC6d",
        "outputId": "3fbb6578-74a7-4e87-de49-698a680580d5"
      },
      "source": [
        "foreground_label[fg_idx]"
      ],
      "execution_count": 25,
      "outputs": [
        {
          "output_type": "execute_result",
          "data": {
            "text/plain": [
              "tensor(1)"
            ]
          },
          "metadata": {},
          "execution_count": 25
        }
      ]
    },
    {
      "cell_type": "code",
      "metadata": {
        "id": "vD1bssSmOC3k"
      },
      "source": [
        "train_images =[]      # list of mosaic images, each mosaic image is saved as list of 9 images             \n",
        "train_label=[]                # label of mosaic image = foreground class present in that mosaic\n",
        "\n",
        "for i in range(desired_num):\n",
        "  np.random.seed(i)\n",
        "  bg_idx = np.random.randint(0,47335,m-1)\n",
        "  fg_idx = np.random.randint(0,12665)\n",
        "\n",
        "  tr_data = ( torch.sum(background_data[bg_idx], axis = 0) + foreground_data[fg_idx] ) / m\n",
        "  label = (foreground_label[fg_idx].item())\n",
        "\n",
        "  train_images.append(tr_data)\n",
        "  train_label.append(label)\n"
      ],
      "execution_count": 27,
      "outputs": []
    },
    {
      "cell_type": "code",
      "metadata": {
        "colab": {
          "base_uri": "https://localhost:8080/"
        },
        "id": "CkoRVhHSOC09",
        "outputId": "bd44af9a-fdff-4402-94dd-c0d03697a461"
      },
      "source": [
        "train_images = torch.stack(train_images)\n",
        "train_images.shape, len(train_label)"
      ],
      "execution_count": 28,
      "outputs": [
        {
          "output_type": "execute_result",
          "data": {
            "text/plain": [
              "(torch.Size([10000, 1, 28, 28]), 10000)"
            ]
          },
          "metadata": {},
          "execution_count": 28
        }
      ]
    },
    {
      "cell_type": "code",
      "metadata": {
        "colab": {
          "base_uri": "https://localhost:8080/",
          "height": 265
        },
        "id": "KrJqFMoEOCyK",
        "outputId": "bc0e03a4-d0d6-4cb1-b9b1-823f789f7f4d"
      },
      "source": [
        "imshow(train_images[0])"
      ],
      "execution_count": 29,
      "outputs": [
        {
          "output_type": "display_data",
          "data": {
            "image/png": "[encoded data removed]",
            "text/plain": [
              "<Figure size 432x288 with 1 Axes>"
            ]
          },
          "metadata": {
            "needs_background": "light"
          }
        }
      ]
    },
    {
      "cell_type": "code",
      "metadata": {
        "id": "cv6LZJMoOeb8"
      },
      "source": [
        "test_images =[]      # list of mosaic images, each mosaic image is saved as list of 9 images             \n",
        "test_label=[]                # label of mosaic image = foreground class present in that mosaic\n",
        "\n",
        "for i in range(10000):\n",
        "  np.random.seed(i)\n",
        "  fg_idx = np.random.randint(0,12665)\n",
        "\n",
        "  tr_data = ( foreground_data[fg_idx] ) / m\n",
        "  label = (foreground_label[fg_idx].item())\n",
        "\n",
        "  test_images.append(tr_data)\n",
        "  test_label.append(label)\n"
      ],
      "execution_count": 30,
      "outputs": []
    },
    {
      "cell_type": "code",
      "metadata": {
        "colab": {
          "base_uri": "https://localhost:8080/"
        },
        "id": "ZBuH3ayNOeZU",
        "outputId": "864ba0e2-3487-43e4-fce4-5ef1688d16cb"
      },
      "source": [
        "test_images = torch.stack(test_images)\n",
        "test_images.shape, len(test_label)"
      ],
      "execution_count": 31,
      "outputs": [
        {
          "output_type": "execute_result",
          "data": {
            "text/plain": [
              "(torch.Size([10000, 1, 28, 28]), 10000)"
            ]
          },
          "metadata": {},
          "execution_count": 31
        }
      ]
    },
    {
      "cell_type": "code",
      "metadata": {
        "colab": {
          "base_uri": "https://localhost:8080/",
          "height": 265
        },
        "id": "wv_aBpW8OeWs",
        "outputId": "d3a84da3-be88-4494-99e8-a9780e20541f"
      },
      "source": [
        "imshow(test_images[0])"
      ],
      "execution_count": 32,
      "outputs": [
        {
          "output_type": "display_data",
          "data": {
            "image/png": "[encoded data removed]",
            "text/plain": [
              "<Figure size 432x288 with 1 Axes>"
            ]
          },
          "metadata": {
            "needs_background": "light"
          }
        }
      ]
    },
    {
      "cell_type": "code",
      "metadata": {
        "colab": {
          "base_uri": "https://localhost:8080/"
        },
        "id": "7mvKwVWNOeTi",
        "outputId": "df42582e-93e6-454a-8de6-e88700d0ef54"
      },
      "source": [
        "torch.sum(torch.isnan(train_images)), torch.sum(torch.isnan(test_images))"
      ],
      "execution_count": 33,
      "outputs": [
        {
          "output_type": "execute_result",
          "data": {
            "text/plain": [
              "(tensor(0), tensor(0))"
            ]
          },
          "metadata": {},
          "execution_count": 33
        }
      ]
    },
    {
      "cell_type": "code",
      "metadata": {
        "colab": {
          "base_uri": "https://localhost:8080/"
        },
        "id": "919oQptjOosG",
        "outputId": "5019d89a-ae40-4c65-b708-b9c25a612c95"
      },
      "source": [
        "np.unique(train_label), np.unique(test_label)"
      ],
      "execution_count": 34,
      "outputs": [
        {
          "output_type": "execute_result",
          "data": {
            "text/plain": [
              "(array([0, 1]), array([0, 1]))"
            ]
          },
          "metadata": {},
          "execution_count": 34
        }
      ]
    },
    {
      "cell_type": "markdown",
      "metadata": {
        "id": "dl3dzlPPOsDT"
      },
      "source": [
        "## creating dataloader"
      ]
    },
    {
      "cell_type": "code",
      "metadata": {
        "id": "hX35HdXoOoot"
      },
      "source": [
        "class CIN_Dataset(Dataset):\n",
        "  \"\"\"CIN_Dataset dataset.\"\"\"\n",
        "\n",
        "  def __init__(self, list_of_images, labels):\n",
        "    \"\"\"\n",
        "      Args:\n",
        "        csv_file (string): Path to the csv file with annotations.\n",
        "        root_dir (string): Directory with all the images.\n",
        "        transform (callable, optional): Optional transform to be applied\n",
        "            on a sample.\n",
        "    \"\"\"\n",
        "    self.image = list_of_images\n",
        "    self.label = labels\n",
        "\n",
        "  def __len__(self):\n",
        "    return len(self.label)\n",
        "\n",
        "  def __getitem__(self, idx):\n",
        "    return self.image[idx] , self.label[idx]\n",
        "\n"
      ],
      "execution_count": 35,
      "outputs": []
    },
    {
      "cell_type": "code",
      "metadata": {
        "id": "Y44ojnvZOolr"
      },
      "source": [
        "batch = 250\n",
        "train_data = CIN_Dataset(train_images, train_label)\n",
        "train_loader = DataLoader( train_data, batch_size= batch , shuffle=True)\n",
        "\n",
        "test_data = CIN_Dataset( test_images , test_label)\n",
        "test_loader = DataLoader( test_data, batch_size= batch , shuffle=False)"
      ],
      "execution_count": 36,
      "outputs": []
    },
    {
      "cell_type": "code",
      "metadata": {
        "colab": {
          "base_uri": "https://localhost:8080/"
        },
        "id": "dLJ5YSOOO6s6",
        "outputId": "c5713e3e-a5bf-4dad-a403-3bf6fc902792"
      },
      "source": [
        "train_loader.dataset.image.shape, test_loader.dataset.image.shape"
      ],
      "execution_count": 38,
      "outputs": [
        {
          "output_type": "execute_result",
          "data": {
            "text/plain": [
              "(torch.Size([10000, 1, 28, 28]), torch.Size([10000, 1, 28, 28]))"
            ]
          },
          "metadata": {},
          "execution_count": 38
        }
      ]
    },
    {
      "cell_type": "markdown",
      "metadata": {
        "id": "z0oF6s0dO7zy"
      },
      "source": [
        "## model"
      ]
    },
    {
      "cell_type": "code",
      "metadata": {
        "id": "KoP6hoBqNJxX"
      },
      "source": [
        "class Classification(nn.Module):\n",
        "  def __init__(self):\n",
        "    super(Classification, self).__init__()\n",
        "    self.fc1 = nn.Linear(28*28, 2)\n",
        "    \n",
        "    torch.nn.init.xavier_normal_(self.fc1.weight)\n",
        "    torch.nn.init.zeros_(self.fc1.bias)\n",
        "\n",
        "\n",
        "  def forward(self, x):\n",
        "    x = x.view(-1, 28*28)\n",
        "    x = self.fc1(x)\n",
        "    return x"
      ],
      "execution_count": 37,
      "outputs": []
    },
    {
      "cell_type": "markdown",
      "metadata": {
        "id": "KwP2xvB7PBFK"
      },
      "source": [
        "## training"
      ]
    },
    {
      "cell_type": "code",
      "metadata": {
        "id": "uPYplUGazU9I"
      },
      "source": [
        "torch.manual_seed(12)\n",
        "classify = Classification().double()\n",
        "classify = classify.to(\"cuda\")"
      ],
      "execution_count": 69,
      "outputs": []
    },
    {
      "cell_type": "code",
      "metadata": {
        "id": "n5g3geNJ5zEu"
      },
      "source": [
        "import torch.optim as optim\n",
        "criterion = nn.CrossEntropyLoss()\n",
        "optimizer_classify = optim.Adam(classify.parameters(), lr=0.001  ) #, momentum=0.9)"
      ],
      "execution_count": 70,
      "outputs": []
    },
    {
      "cell_type": "code",
      "metadata": {
        "id": "725MVVfLS3et",
        "colab": {
          "base_uri": "https://localhost:8080/"
        },
        "outputId": "e6813582-77de-432e-b055-b3c35cdb0cf0"
      },
      "source": [
        "correct = 0\n",
        "total = 0\n",
        "count = 0\n",
        "flag = 1\n",
        "\n",
        "with torch.no_grad():\n",
        "  for data in train_loader:\n",
        "    inputs, labels = data\n",
        "    inputs = inputs.double()\n",
        "    inputs, labels  = inputs.to(\"cuda\"),labels.to(\"cuda\")\n",
        "\n",
        "    outputs = classify(inputs)\n",
        "\n",
        "    _, predicted = torch.max(outputs.data, 1)\n",
        "\n",
        "    total += labels.size(0)\n",
        "    correct += (predicted == labels).sum().item()\n",
        "\n",
        "print('Accuracy of the network on the %d train images: %f %%' % ( desired_num , 100 * correct / total))\n",
        "print(\"total correct\", correct)\n",
        "print(\"total train set images\", total)"
      ],
      "execution_count": 71,
      "outputs": [
        {
          "output_type": "stream",
          "name": "stdout",
          "text": [
            "Accuracy of the network on the 10000 train images: 40.700000 %\n",
            "total correct 4070\n",
            "total train set images 10000\n"
          ]
        }
      ]
    },
    {
      "cell_type": "code",
      "metadata": {
        "colab": {
          "base_uri": "https://localhost:8080/"
        },
        "id": "iYTaJG0GPLA7",
        "outputId": "80ab05c0-9dbd-43d2-f595-a2010b19b369"
      },
      "source": [
        "correct = 0\n",
        "total = 0\n",
        "count = 0\n",
        "flag = 1\n",
        "\n",
        "with torch.no_grad():\n",
        "  for data in test_loader:\n",
        "    inputs, labels = data\n",
        "    inputs = inputs.double()\n",
        "    inputs, labels  = inputs.to(\"cuda\"),labels.to(\"cuda\")\n",
        "\n",
        "    outputs = classify(inputs)\n",
        "\n",
        "    _, predicted = torch.max(outputs.data, 1)\n",
        "\n",
        "    total += labels.size(0)\n",
        "    correct += (predicted == labels).sum().item()\n",
        "\n",
        "print('Accuracy of the network on the %d train images: %f %%' % ( 10000 , 100 * correct / total))\n",
        "print(\"total correct\", correct)\n",
        "print(\"total train set images\", total)"
      ],
      "execution_count": 72,
      "outputs": [
        {
          "output_type": "stream",
          "name": "stdout",
          "text": [
            "Accuracy of the network on the 10000 train images: 27.110000 %\n",
            "total correct 2711\n",
            "total train set images 10000\n"
          ]
        }
      ]
    },
    {
      "cell_type": "code",
      "metadata": {
        "colab": {
          "base_uri": "https://localhost:8080/"
        },
        "id": "LCWyTEIKPNlK",
        "outputId": "a1a03372-190b-434d-ae2f-aa253691393e"
      },
      "source": [
        "nos_epochs = 200\n",
        "tr_loss = []\n",
        "for epoch in range(nos_epochs):  # loop over the dataset multiple times\n",
        "\n",
        "  epoch_loss = []\n",
        "  cnt=0\n",
        "  iteration = desired_num // batch\n",
        "  running_loss = 0\n",
        "  \n",
        "  #training data set  \n",
        "  for i, data in  enumerate(train_loader):\n",
        "    inputs, labels = data\n",
        "    inputs = inputs.double()\n",
        "    inputs, labels  = inputs.to(\"cuda\"),labels.to(\"cuda\")\n",
        "    inputs = inputs.double()\n",
        "    # zero the parameter gradients\n",
        "    \n",
        "    optimizer_classify.zero_grad()\n",
        "\n",
        "    outputs = classify(inputs)\n",
        "\n",
        "    _, predicted = torch.max(outputs.data, 1)\n",
        "#     print(outputs)\n",
        "#     print(outputs.shape,labels.shape , torch.argmax(outputs, dim=1))\n",
        "\n",
        "    loss = criterion(outputs, labels) \n",
        "    loss.backward()\n",
        "\n",
        "    optimizer_classify.step()\n",
        "\n",
        "    running_loss += loss.item()\n",
        "    mini = 20\n",
        "    if cnt % mini == mini-1:    # print every 40 mini-batches\n",
        "      # print('[%d, %5d] loss: %.3f' %(epoch + 1, cnt + 1, running_loss / mini))\n",
        "      epoch_loss.append(running_loss/mini)\n",
        "      running_loss = 0.0\n",
        "    cnt=cnt+1\n",
        "\n",
        "  tr_loss.append(np.mean(epoch_loss))\n",
        "  if(np.mean(epoch_loss) <= 0.001):\n",
        "      break;\n",
        "  else:\n",
        "    print('[Epoch : %d] loss: %.3f' %(epoch + 1, np.mean(epoch_loss) ))\n",
        "    \n",
        "print('Finished Training')"
      ],
      "execution_count": 73,
      "outputs": [
        {
          "output_type": "stream",
          "name": "stdout",
          "text": [
            "[Epoch : 1] loss: 0.491\n",
            "[Epoch : 2] loss: 0.307\n",
            "[Epoch : 3] loss: 0.256\n",
            "[Epoch : 4] loss: 0.227\n",
            "[Epoch : 5] loss: 0.207\n",
            "[Epoch : 6] loss: 0.193\n",
            "[Epoch : 7] loss: 0.182\n",
            "[Epoch : 8] loss: 0.173\n",
            "[Epoch : 9] loss: 0.165\n",
            "[Epoch : 10] loss: 0.159\n",
            "[Epoch : 11] loss: 0.154\n",
            "[Epoch : 12] loss: 0.150\n",
            "[Epoch : 13] loss: 0.146\n",
            "[Epoch : 14] loss: 0.142\n",
            "[Epoch : 15] loss: 0.139\n",
            "[Epoch : 16] loss: 0.137\n",
            "[Epoch : 17] loss: 0.134\n",
            "[Epoch : 18] loss: 0.132\n",
            "[Epoch : 19] loss: 0.130\n",
            "[Epoch : 20] loss: 0.128\n",
            "[Epoch : 21] loss: 0.127\n",
            "[Epoch : 22] loss: 0.125\n",
            "[Epoch : 23] loss: 0.124\n",
            "[Epoch : 24] loss: 0.122\n",
            "[Epoch : 25] loss: 0.121\n",
            "[Epoch : 26] loss: 0.120\n",
            "[Epoch : 27] loss: 0.119\n",
            "[Epoch : 28] loss: 0.118\n",
            "[Epoch : 29] loss: 0.117\n",
            "[Epoch : 30] loss: 0.116\n",
            "[Epoch : 31] loss: 0.115\n",
            "[Epoch : 32] loss: 0.114\n",
            "[Epoch : 33] loss: 0.114\n",
            "[Epoch : 34] loss: 0.113\n",
            "[Epoch : 35] loss: 0.112\n",
            "[Epoch : 36] loss: 0.112\n",
            "[Epoch : 37] loss: 0.111\n",
            "[Epoch : 38] loss: 0.110\n",
            "[Epoch : 39] loss: 0.110\n",
            "[Epoch : 40] loss: 0.109\n",
            "[Epoch : 41] loss: 0.109\n",
            "[Epoch : 42] loss: 0.108\n",
            "[Epoch : 43] loss: 0.108\n",
            "[Epoch : 44] loss: 0.107\n",
            "[Epoch : 45] loss: 0.107\n",
            "[Epoch : 46] loss: 0.106\n",
            "[Epoch : 47] loss: 0.106\n",
            "[Epoch : 48] loss: 0.106\n",
            "[Epoch : 49] loss: 0.105\n",
            "[Epoch : 50] loss: 0.105\n",
            "[Epoch : 51] loss: 0.105\n",
            "[Epoch : 52] loss: 0.104\n",
            "[Epoch : 53] loss: 0.104\n",
            "[Epoch : 54] loss: 0.104\n",
            "[Epoch : 55] loss: 0.103\n",
            "[Epoch : 56] loss: 0.103\n",
            "[Epoch : 57] loss: 0.103\n",
            "[Epoch : 58] loss: 0.103\n",
            "[Epoch : 59] loss: 0.102\n",
            "[Epoch : 60] loss: 0.102\n",
            "[Epoch : 61] loss: 0.102\n",
            "[Epoch : 62] loss: 0.101\n",
            "[Epoch : 63] loss: 0.101\n",
            "[Epoch : 64] loss: 0.101\n",
            "[Epoch : 65] loss: 0.101\n",
            "[Epoch : 66] loss: 0.100\n",
            "[Epoch : 67] loss: 0.100\n",
            "[Epoch : 68] loss: 0.100\n",
            "[Epoch : 69] loss: 0.100\n",
            "[Epoch : 70] loss: 0.100\n",
            "[Epoch : 71] loss: 0.099\n",
            "[Epoch : 72] loss: 0.099\n",
            "[Epoch : 73] loss: 0.099\n",
            "[Epoch : 74] loss: 0.099\n",
            "[Epoch : 75] loss: 0.099\n",
            "[Epoch : 76] loss: 0.098\n",
            "[Epoch : 77] loss: 0.098\n",
            "[Epoch : 78] loss: 0.098\n",
            "[Epoch : 79] loss: 0.098\n",
            "[Epoch : 80] loss: 0.098\n",
            "[Epoch : 81] loss: 0.098\n",
            "[Epoch : 82] loss: 0.097\n",
            "[Epoch : 83] loss: 0.097\n",
            "[Epoch : 84] loss: 0.097\n",
            "[Epoch : 85] loss: 0.097\n",
            "[Epoch : 86] loss: 0.097\n",
            "[Epoch : 87] loss: 0.097\n",
            "[Epoch : 88] loss: 0.096\n",
            "[Epoch : 89] loss: 0.096\n",
            "[Epoch : 90] loss: 0.096\n",
            "[Epoch : 91] loss: 0.096\n",
            "[Epoch : 92] loss: 0.096\n",
            "[Epoch : 93] loss: 0.096\n",
            "[Epoch : 94] loss: 0.096\n",
            "[Epoch : 95] loss: 0.096\n",
            "[Epoch : 96] loss: 0.095\n",
            "[Epoch : 97] loss: 0.095\n",
            "[Epoch : 98] loss: 0.095\n",
            "[Epoch : 99] loss: 0.095\n",
            "[Epoch : 100] loss: 0.095\n",
            "[Epoch : 101] loss: 0.095\n",
            "[Epoch : 102] loss: 0.095\n",
            "[Epoch : 103] loss: 0.095\n",
            "[Epoch : 104] loss: 0.094\n",
            "[Epoch : 105] loss: 0.094\n",
            "[Epoch : 106] loss: 0.094\n",
            "[Epoch : 107] loss: 0.094\n",
            "[Epoch : 108] loss: 0.094\n",
            "[Epoch : 109] loss: 0.094\n",
            "[Epoch : 110] loss: 0.094\n",
            "[Epoch : 111] loss: 0.094\n",
            "[Epoch : 112] loss: 0.094\n",
            "[Epoch : 113] loss: 0.094\n",
            "[Epoch : 114] loss: 0.094\n",
            "[Epoch : 115] loss: 0.093\n",
            "[Epoch : 116] loss: 0.093\n",
            "[Epoch : 117] loss: 0.093\n",
            "[Epoch : 118] loss: 0.093\n",
            "[Epoch : 119] loss: 0.093\n",
            "[Epoch : 120] loss: 0.093\n",
            "[Epoch : 121] loss: 0.093\n",
            "[Epoch : 122] loss: 0.093\n",
            "[Epoch : 123] loss: 0.093\n",
            "[Epoch : 124] loss: 0.093\n",
            "[Epoch : 125] loss: 0.092\n",
            "[Epoch : 126] loss: 0.092\n",
            "[Epoch : 127] loss: 0.092\n",
            "[Epoch : 128] loss: 0.092\n",
            "[Epoch : 129] loss: 0.092\n",
            "[Epoch : 130] loss: 0.092\n",
            "[Epoch : 131] loss: 0.092\n",
            "[Epoch : 132] loss: 0.092\n",
            "[Epoch : 133] loss: 0.092\n",
            "[Epoch : 134] loss: 0.092\n",
            "[Epoch : 135] loss: 0.092\n",
            "[Epoch : 136] loss: 0.091\n",
            "[Epoch : 137] loss: 0.091\n",
            "[Epoch : 138] loss: 0.091\n",
            "[Epoch : 139] loss: 0.091\n",
            "[Epoch : 140] loss: 0.091\n",
            "[Epoch : 141] loss: 0.091\n",
            "[Epoch : 142] loss: 0.091\n",
            "[Epoch : 143] loss: 0.091\n",
            "[Epoch : 144] loss: 0.091\n",
            "[Epoch : 145] loss: 0.091\n",
            "[Epoch : 146] loss: 0.091\n",
            "[Epoch : 147] loss: 0.091\n",
            "[Epoch : 148] loss: 0.091\n",
            "[Epoch : 149] loss: 0.090\n",
            "[Epoch : 150] loss: 0.091\n",
            "[Epoch : 151] loss: 0.090\n",
            "[Epoch : 152] loss: 0.090\n",
            "[Epoch : 153] loss: 0.090\n",
            "[Epoch : 154] loss: 0.090\n",
            "[Epoch : 155] loss: 0.090\n",
            "[Epoch : 156] loss: 0.090\n",
            "[Epoch : 157] loss: 0.090\n",
            "[Epoch : 158] loss: 0.090\n",
            "[Epoch : 159] loss: 0.090\n",
            "[Epoch : 160] loss: 0.090\n",
            "[Epoch : 161] loss: 0.090\n",
            "[Epoch : 162] loss: 0.090\n",
            "[Epoch : 163] loss: 0.090\n",
            "[Epoch : 164] loss: 0.089\n",
            "[Epoch : 165] loss: 0.090\n",
            "[Epoch : 166] loss: 0.089\n",
            "[Epoch : 167] loss: 0.090\n",
            "[Epoch : 168] loss: 0.089\n",
            "[Epoch : 169] loss: 0.089\n",
            "[Epoch : 170] loss: 0.089\n",
            "[Epoch : 171] loss: 0.089\n",
            "[Epoch : 172] loss: 0.089\n",
            "[Epoch : 173] loss: 0.089\n",
            "[Epoch : 174] loss: 0.089\n",
            "[Epoch : 175] loss: 0.089\n",
            "[Epoch : 176] loss: 0.089\n",
            "[Epoch : 177] loss: 0.089\n",
            "[Epoch : 178] loss: 0.089\n",
            "[Epoch : 179] loss: 0.089\n",
            "[Epoch : 180] loss: 0.089\n",
            "[Epoch : 181] loss: 0.089\n",
            "[Epoch : 182] loss: 0.088\n",
            "[Epoch : 183] loss: 0.089\n",
            "[Epoch : 184] loss: 0.089\n",
            "[Epoch : 185] loss: 0.088\n",
            "[Epoch : 186] loss: 0.088\n",
            "[Epoch : 187] loss: 0.088\n",
            "[Epoch : 188] loss: 0.088\n",
            "[Epoch : 189] loss: 0.088\n",
            "[Epoch : 190] loss: 0.088\n",
            "[Epoch : 191] loss: 0.088\n",
            "[Epoch : 192] loss: 0.088\n",
            "[Epoch : 193] loss: 0.088\n",
            "[Epoch : 194] loss: 0.088\n",
            "[Epoch : 195] loss: 0.088\n",
            "[Epoch : 196] loss: 0.088\n",
            "[Epoch : 197] loss: 0.088\n",
            "[Epoch : 198] loss: 0.088\n",
            "[Epoch : 199] loss: 0.088\n",
            "[Epoch : 200] loss: 0.088\n",
            "Finished Training\n"
          ]
        }
      ]
    },
    {
      "cell_type": "code",
      "metadata": {
        "colab": {
          "base_uri": "https://localhost:8080/",
          "height": 283
        },
        "id": "nfzc13qsPST6",
        "outputId": "41152255-2a7c-440c-8147-3b97dada9032"
      },
      "source": [
        "plt.plot(tr_loss)"
      ],
      "execution_count": 74,
      "outputs": [
        {
          "output_type": "execute_result",
          "data": {
            "text/plain": [
              "[<matplotlib.lines.Line2D at 0x7fece331f390>]"
            ]
          },
          "metadata": {},
          "execution_count": 74
        },
        {
          "output_type": "display_data",
          "data": {
            "image/png": "[encoded data removed]",
            "text/plain": [
              "<Figure size 432x288 with 1 Axes>"
            ]
          },
          "metadata": {
            "needs_background": "light"
          }
        }
      ]
    },
    {
      "cell_type": "code",
      "metadata": {
        "colab": {
          "base_uri": "https://localhost:8080/"
        },
        "id": "uORwiHXMPU7P",
        "outputId": "ac3dec07-6e15-4782-ec98-c272dadec383"
      },
      "source": [
        "correct = 0\n",
        "total = 0\n",
        "count = 0\n",
        "flag = 1\n",
        "\n",
        "with torch.no_grad():\n",
        "  for data in train_loader:\n",
        "    inputs, labels = data\n",
        "    inputs = inputs.double()\n",
        "    inputs, labels  = inputs.to(\"cuda\"),labels.to(\"cuda\")\n",
        "\n",
        "    outputs = classify(inputs)\n",
        "\n",
        "    _, predicted = torch.max(outputs.data, 1)\n",
        "\n",
        "    total += labels.size(0)\n",
        "    correct += (predicted == labels).sum().item()\n",
        "\n",
        "print('Accuracy of the network on the %d train images: %f %%' % ( desired_num , 100 * correct / total))\n",
        "print(\"total correct\", correct)\n",
        "print(\"total train set images\", total)"
      ],
      "execution_count": 75,
      "outputs": [
        {
          "output_type": "stream",
          "name": "stdout",
          "text": [
            "Accuracy of the network on the 10000 train images: 96.790000 %\n",
            "total correct 9679\n",
            "total train set images 10000\n"
          ]
        }
      ]
    },
    {
      "cell_type": "code",
      "metadata": {
        "colab": {
          "base_uri": "https://localhost:8080/"
        },
        "id": "YqPjpP3EPWQK",
        "outputId": "47c743f6-ef64-44ea-e798-675781f5bb14"
      },
      "source": [
        "correct = 0\n",
        "total = 0\n",
        "count = 0\n",
        "flag = 1\n",
        "\n",
        "with torch.no_grad():\n",
        "  for data in test_loader:\n",
        "    inputs, labels = data\n",
        "    inputs = inputs.double()\n",
        "    inputs, labels  = inputs.to(\"cuda\"),labels.to(\"cuda\")\n",
        "\n",
        "    outputs = classify(inputs)\n",
        "\n",
        "    _, predicted = torch.max(outputs.data, 1)\n",
        "\n",
        "    total += labels.size(0)\n",
        "    correct += (predicted == labels).sum().item()\n",
        "\n",
        "print('Accuracy of the network on the %d train images: %f %%' % ( 10000 , 100 * correct / total))\n",
        "print(\"total correct\", correct)\n",
        "print(\"total train set images\", total)"
      ],
      "execution_count": 76,
      "outputs": [
        {
          "output_type": "stream",
          "name": "stdout",
          "text": [
            "Accuracy of the network on the 10000 train images: 99.580000 %\n",
            "total correct 9958\n",
            "total train set images 10000\n"
          ]
        }
      ]
    },
    {
      "cell_type": "code",
      "metadata": {
        "id": "c6wGSifzPXzx"
      },
      "source": [
        ""
      ],
      "execution_count": 76,
      "outputs": []
    }
  ]
}