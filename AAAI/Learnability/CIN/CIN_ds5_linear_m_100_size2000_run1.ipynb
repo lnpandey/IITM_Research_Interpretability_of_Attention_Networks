{
  "nbformat": 4,
  "nbformat_minor": 0,
  "metadata": {
    "accelerator": "GPU",
    "colab": {
      "name": "CIN_ds5_linear_m_100_size2000_run1.ipynb",
      "provenance": [],
      "collapsed_sections": []
    },
    "kernelspec": {
      "display_name": "Python 3",
      "language": "python",
      "name": "python3"
    },
    "language_info": {
      "codemirror_mode": {
        "name": "ipython",
        "version": 3
      },
      "file_extension": ".py",
      "mimetype": "text/x-python",
      "name": "python",
      "nbconvert_exporter": "python",
      "pygments_lexer": "ipython3",
      "version": "3.6.5"
    }
  },
  "cells": [
    {
      "cell_type": "code",
      "metadata": {
        "colab": {
          "base_uri": "https://localhost:8080/"
        },
        "id": "N2_J4Rw2r0SQ",
        "outputId": "9de24054-a684-4331-a1e9-448b35505a1e"
      },
      "source": [
        "import numpy as np\n",
        "import pandas as pd\n",
        "from matplotlib import pyplot as plt\n",
        "from tqdm import tqdm\n",
        "%matplotlib inline\n",
        "from torch.utils.data import Dataset, DataLoader\n",
        "import torch\n",
        "import torchvision\n",
        "\n",
        "import torch.nn as nn\n",
        "import torch.optim as optim\n",
        "from torch.nn import functional as F\n",
        "device = torch.device(\"cuda\" if torch.cuda.is_available() else \"cpu\")\n",
        "print(device)"
      ],
      "execution_count": 47,
      "outputs": [
        {
          "output_type": "stream",
          "name": "stdout",
          "text": [
            "cuda\n"
          ]
        }
      ]
    },
    {
      "cell_type": "code",
      "metadata": {
        "id": "ZTJPyL45DiJ3"
      },
      "source": [
        "m = 100                     # 5, 50, 100, 500, 2000"
      ],
      "execution_count": 48,
      "outputs": []
    },
    {
      "cell_type": "code",
      "metadata": {
        "id": "g-do5dZWK5L6"
      },
      "source": [
        "train_size = 2000           # 100, 500, 2000, 10000"
      ],
      "execution_count": 49,
      "outputs": []
    },
    {
      "cell_type": "code",
      "metadata": {
        "id": "c-WeVGWd49Hj"
      },
      "source": [
        "desired_num = train_size + 1000"
      ],
      "execution_count": 50,
      "outputs": []
    },
    {
      "cell_type": "code",
      "metadata": {
        "colab": {
          "base_uri": "https://localhost:8080/"
        },
        "id": "XTHbSeGAK7k7",
        "outputId": "d6ab7dd0-6d0b-46aa-cc5a-8b365314eb34"
      },
      "source": [
        "tr_i = 0\n",
        "tr_j = train_size\n",
        "tr_k = desired_num\n",
        "\n",
        "tr_i, tr_j, tr_k"
      ],
      "execution_count": 51,
      "outputs": [
        {
          "output_type": "execute_result",
          "data": {
            "text/plain": [
              "(0, 2000, 3000)"
            ]
          },
          "metadata": {},
          "execution_count": 51
        }
      ]
    },
    {
      "cell_type": "markdown",
      "metadata": {
        "id": "F6fjud_Fr0Sa"
      },
      "source": [
        "# Generate dataset"
      ]
    },
    {
      "cell_type": "code",
      "source": [
        "np.random.seed(1)\n",
        "\n",
        "y = np.concatenate((np.zeros(500),np.ones(500),np.ones(500)*2,np.ones(500)*3,np.ones(500)*4,\n",
        "                    np.ones(500)*5,np.ones(500)*6,np.ones(500)*7,np.ones(500)*8,np.ones(500)*9))\n",
        "#y = np.random.randint(0,3,6000)\n",
        "idx= []\n",
        "for i in range(10):\n",
        "    print(i,sum(y==i))\n",
        "    idx.append(y==i)"
      ],
      "metadata": {
        "colab": {
          "base_uri": "https://localhost:8080/"
        },
        "id": "ePsjDkjsEZm4",
        "outputId": "6ae6a349-e05e-42bc-94aa-970fcde663fd"
      },
      "execution_count": 52,
      "outputs": [
        {
          "output_type": "stream",
          "name": "stdout",
          "text": [
            "0 500\n",
            "1 500\n",
            "2 500\n",
            "3 500\n",
            "4 500\n",
            "5 500\n",
            "6 500\n",
            "7 500\n",
            "8 500\n",
            "9 500\n"
          ]
        }
      ]
    },
    {
      "cell_type": "code",
      "metadata": {
        "id": "ddhXyODwr0Sk"
      },
      "source": [
        "x = np.zeros((5000,5))"
      ],
      "execution_count": 53,
      "outputs": []
    },
    {
      "cell_type": "code",
      "metadata": {
        "id": "DyV3N2DIr0Sp"
      },
      "source": [
        "np.random.seed(1)\n",
        "cov_mat = [[0.1,0,0,0,0],[0,0.1,0,0,0],[0,0,0.1,0,0], [0,0,0,0.1,0],[0,0,0,0,0.1]]\n",
        "x[idx[0],:] = np.random.multivariate_normal(mean = [1,0,0,0,0], cov=cov_mat,size=sum(idx[0]))\n",
        "x[idx[1],:] = np.random.multivariate_normal(mean = [0,1,0,0,0], cov=cov_mat,size=sum(idx[1]))\n",
        "x[idx[2],:] = np.random.multivariate_normal(mean = [0,0,1,0,0], cov=cov_mat,size=sum(idx[2]))\n",
        "x[idx[3],:] = np.random.multivariate_normal(mean = [0,0,0,-0.75,0.5], cov=cov_mat,size=sum(idx[3]))\n",
        "x[idx[4],:] = np.random.multivariate_normal(mean = [0,0,0,0.65,-0.65], cov=cov_mat,size=sum(idx[4]))\n",
        "x[idx[5],:] = np.random.multivariate_normal(mean = [0,0,0,-0.9,-0.75], cov=cov_mat,size=sum(idx[5]))\n",
        "x[idx[6],:] = np.random.multivariate_normal(mean = [0,0,0,0.8,-0.8], cov=cov_mat,size=sum(idx[6]))\n",
        "x[idx[7],:] = np.random.multivariate_normal(mean = [0,0,0,-0.5,0.8], cov=cov_mat,size=sum(idx[7]))\n",
        "x[idx[8],:] = np.random.multivariate_normal(mean = [0,0,0,0.9,0.75], cov=cov_mat,size=sum(idx[8]))\n",
        "x[idx[9],:] = np.random.multivariate_normal(mean = [0,0,0,-1,0.65], cov=cov_mat,size=sum(idx[9]))"
      ],
      "execution_count": 54,
      "outputs": []
    },
    {
      "cell_type": "code",
      "source": [
        "plt.scatter(x[idx[0],0],x[idx[0],1],label=\"class_\"+str(0))\n",
        "plt.scatter(x[idx[1],0],x[idx[1],1],label=\"class_\"+str(1))\n",
        "plt.scatter(x[idx[2],0],x[idx[2],1],label=\"class_\"+str(2))\n",
        "plt.scatter(x[idx[3],0],x[idx[3],1],label=\"class_\"+str(3))\n",
        "plt.scatter(x[idx[4],0],x[idx[4],1],label=\"class_\"+str(4))\n",
        "plt.scatter(x[idx[5],0],x[idx[5],1],label=\"class_\"+str(5))\n",
        "plt.scatter(x[idx[6],0],x[idx[6],1],label=\"class_\"+str(6))\n",
        "plt.scatter(x[idx[7],0],x[idx[7],1],label=\"class_\"+str(7))\n",
        "plt.scatter(x[idx[8],0],x[idx[8],1],label=\"class_\"+str(8))\n",
        "plt.scatter(x[idx[9],0],x[idx[9],1],label=\"class_\"+str(9))\n",
        "plt.legend(loc='center left', bbox_to_anchor=(1, 0.5))"
      ],
      "metadata": {
        "colab": {
          "base_uri": "https://localhost:8080/",
          "height": 284
        },
        "id": "bPPedcldFQ3s",
        "outputId": "9452ef7e-3937-42a8-8367-6fd25e47119e"
      },
      "execution_count": 55,
      "outputs": [
        {
          "output_type": "execute_result",
          "data": {
            "text/plain": [
              "<matplotlib.legend.Legend at 0x7f79a0b54d10>"
            ]
          },
          "metadata": {},
          "execution_count": 55
        },
        {
          "output_type": "display_data",
          "data": {
            "image/png": "[encoded data removed]",
            "text/plain": [
              "<Figure size 432x288 with 1 Axes>"
            ]
          },
          "metadata": {
            "needs_background": "light"
          }
        }
      ]
    },
    {
      "cell_type": "code",
      "metadata": {
        "colab": {
          "base_uri": "https://localhost:8080/"
        },
        "id": "hJ8Jm7YUr0St",
        "outputId": "98860c1c-30bc-4062-bf54-490868558c8a"
      },
      "source": [
        "print(np.mean(x)),print(np.std(x))"
      ],
      "execution_count": 56,
      "outputs": [
        {
          "output_type": "stream",
          "name": "stdout",
          "text": [
            "0.05596850080844234\n",
            "0.5600574393874016\n"
          ]
        },
        {
          "output_type": "execute_result",
          "data": {
            "text/plain": [
              "(None, None)"
            ]
          },
          "metadata": {},
          "execution_count": 56
        }
      ]
    },
    {
      "cell_type": "code",
      "metadata": {
        "colab": {
          "base_uri": "https://localhost:8080/"
        },
        "id": "3lMBZEHNBlF2",
        "outputId": "6e1360ae-f365-4f95-a534-7241607afcd3"
      },
      "source": [
        "bg_idx = [ np.where(idx[3] == True)[0], \n",
        "          np.where(idx[4] == True)[0], \n",
        "          np.where(idx[5] == True)[0],\n",
        "          np.where(idx[6] == True)[0], \n",
        "          np.where(idx[7] == True)[0], \n",
        "          np.where(idx[8] == True)[0],\n",
        "          np.where(idx[9] == True)[0]]\n",
        "\n",
        "bg_idx = np.concatenate(bg_idx, axis = 0)\n",
        "bg_idx.shape"
      ],
      "execution_count": 57,
      "outputs": [
        {
          "output_type": "execute_result",
          "data": {
            "text/plain": [
              "(3500,)"
            ]
          },
          "metadata": {},
          "execution_count": 57
        }
      ]
    },
    {
      "cell_type": "code",
      "metadata": {
        "colab": {
          "base_uri": "https://localhost:8080/"
        },
        "id": "blRbGZHeCwXU",
        "outputId": "40c563dd-83e7-493f-aad9-5a26c08091da"
      },
      "source": [
        "np.unique(bg_idx).shape"
      ],
      "execution_count": 58,
      "outputs": [
        {
          "output_type": "execute_result",
          "data": {
            "text/plain": [
              "(3500,)"
            ]
          },
          "metadata": {},
          "execution_count": 58
        }
      ]
    },
    {
      "cell_type": "code",
      "metadata": {
        "id": "Y43sWeX7C15F"
      },
      "source": [
        "x = x - np.mean(x[bg_idx], axis = 0, keepdims = True)\n"
      ],
      "execution_count": 59,
      "outputs": []
    },
    {
      "cell_type": "code",
      "metadata": {
        "colab": {
          "base_uri": "https://localhost:8080/"
        },
        "id": "ooII7N6UDWe0",
        "outputId": "1f683312-79fb-4fbc-c268-de0e5675ab13"
      },
      "source": [
        "np.mean(x[bg_idx], axis = 0, keepdims = True), np.mean(x, axis = 0, keepdims = True)"
      ],
      "execution_count": 60,
      "outputs": [
        {
          "output_type": "execute_result",
          "data": {
            "text/plain": [
              "(array([[-3.07531778e-17,  3.07690381e-18,  9.78582295e-18,\n",
              "         -2.26485497e-17, -2.75144986e-16]]),\n",
              " array([[ 0.10040806,  0.10206754,  0.10119494,  0.03588505, -0.02785048]]))"
            ]
          },
          "metadata": {},
          "execution_count": 60
        }
      ]
    },
    {
      "cell_type": "code",
      "metadata": {
        "id": "g21bvPRYDL9k"
      },
      "source": [
        "x = x/np.std(x[bg_idx], axis = 0, keepdims = True)"
      ],
      "execution_count": 61,
      "outputs": []
    },
    {
      "cell_type": "code",
      "metadata": {
        "colab": {
          "base_uri": "https://localhost:8080/"
        },
        "id": "GtFvIeHsDZJk",
        "outputId": "ef61662a-6199-43a7-ae28-71002830c166"
      },
      "source": [
        "np.std(x[bg_idx], axis = 0, keepdims = True), np.std(x, axis = 0, keepdims = True)"
      ],
      "execution_count": 62,
      "outputs": [
        {
          "output_type": "execute_result",
          "data": {
            "text/plain": [
              "(array([[1., 1., 1., 1., 1.]]),\n",
              " array([[1.37345756, 1.36602984, 1.38711498, 0.86420937, 0.87049227]]))"
            ]
          },
          "metadata": {},
          "execution_count": 62
        }
      ]
    },
    {
      "cell_type": "code",
      "metadata": {
        "colab": {
          "base_uri": "https://localhost:8080/",
          "height": 284
        },
        "id": "8-VLhUfDDeHt",
        "outputId": "ef0a58dc-f3d8-4d43-bf1c-c0d1c2998e68"
      },
      "source": [
        "plt.scatter(x[idx[0],0],x[idx[0],1],label=\"class_\"+str(0))\n",
        "plt.scatter(x[idx[1],0],x[idx[1],1],label=\"class_\"+str(1))\n",
        "plt.scatter(x[idx[2],0],x[idx[2],1],label=\"class_\"+str(2))\n",
        "plt.scatter(x[idx[3],0],x[idx[3],1],label=\"class_\"+str(3))\n",
        "plt.scatter(x[idx[4],0],x[idx[4],1],label=\"class_\"+str(4))\n",
        "plt.scatter(x[idx[5],0],x[idx[5],1],label=\"class_\"+str(5))\n",
        "plt.scatter(x[idx[6],0],x[idx[6],1],label=\"class_\"+str(6))\n",
        "plt.scatter(x[idx[7],0],x[idx[7],1],label=\"class_\"+str(7))\n",
        "plt.scatter(x[idx[8],0],x[idx[8],1],label=\"class_\"+str(8))\n",
        "plt.scatter(x[idx[9],0],x[idx[9],1],label=\"class_\"+str(9))\n",
        "plt.legend(loc='center left', bbox_to_anchor=(1, 0.5))"
      ],
      "execution_count": 63,
      "outputs": [
        {
          "output_type": "execute_result",
          "data": {
            "text/plain": [
              "<matplotlib.legend.Legend at 0x7f79a0a909d0>"
            ]
          },
          "metadata": {},
          "execution_count": 63
        },
        {
          "output_type": "display_data",
          "data": {
            "image/png": "[encoded data removed]",
            "text/plain": [
              "<Figure size 432x288 with 1 Axes>"
            ]
          },
          "metadata": {
            "needs_background": "light"
          }
        }
      ]
    },
    {
      "cell_type": "code",
      "metadata": {
        "id": "UfFHcZJOr0Sz"
      },
      "source": [
        "foreground_classes = {'class_0','class_1', 'class_2'}\n",
        "\n",
        "background_classes = {'class_3','class_4', 'class_5', 'class_6','class_7', 'class_8', 'class_9'}"
      ],
      "execution_count": 64,
      "outputs": []
    },
    {
      "cell_type": "code",
      "metadata": {
        "colab": {
          "base_uri": "https://localhost:8080/"
        },
        "id": "OplNpNQVr0S2",
        "outputId": "51bd017c-1f4d-41a1-a3cb-af674cdd5e67"
      },
      "source": [
        "fg_class  = np.random.randint(0,3)\n",
        "fg_idx = np.random.randint(0,m)\n",
        "\n",
        "a = []\n",
        "for i in range(m):\n",
        "    if i == fg_idx:\n",
        "        b = np.random.choice(np.where(idx[fg_class]==True)[0],size=1)\n",
        "        a.append(x[b])\n",
        "        print(\"foreground \"+str(fg_class)+\" present at \" + str(fg_idx))\n",
        "    else:\n",
        "        bg_class = np.random.randint(3,10)\n",
        "        b = np.random.choice(np.where(idx[bg_class]==True)[0],size=1)\n",
        "        a.append(x[b])\n",
        "        print(\"background \"+str(bg_class)+\" present at \" + str(i))\n",
        "a = np.concatenate(a,axis=0)\n",
        "print(a.shape)\n",
        "\n",
        "print(fg_class , fg_idx)"
      ],
      "execution_count": 65,
      "outputs": [
        {
          "output_type": "stream",
          "name": "stdout",
          "text": [
            "background 3 present at 0\n",
            "background 9 present at 1\n",
            "background 8 present at 2\n",
            "background 5 present at 3\n",
            "background 9 present at 4\n",
            "background 9 present at 5\n",
            "background 3 present at 6\n",
            "background 7 present at 7\n",
            "background 3 present at 8\n",
            "background 7 present at 9\n",
            "background 9 present at 10\n",
            "background 6 present at 11\n",
            "background 8 present at 12\n",
            "background 7 present at 13\n",
            "background 9 present at 14\n",
            "background 5 present at 15\n",
            "background 3 present at 16\n",
            "background 6 present at 17\n",
            "background 4 present at 18\n",
            "background 4 present at 19\n",
            "background 3 present at 20\n",
            "background 5 present at 21\n",
            "background 8 present at 22\n",
            "background 3 present at 23\n",
            "background 6 present at 24\n",
            "background 9 present at 25\n",
            "background 8 present at 26\n",
            "background 4 present at 27\n",
            "background 6 present at 28\n",
            "background 6 present at 29\n",
            "background 3 present at 30\n",
            "background 4 present at 31\n",
            "background 9 present at 32\n",
            "background 3 present at 33\n",
            "background 6 present at 34\n",
            "background 9 present at 35\n",
            "background 7 present at 36\n",
            "background 9 present at 37\n",
            "background 7 present at 38\n",
            "background 9 present at 39\n",
            "background 5 present at 40\n",
            "background 6 present at 41\n",
            "background 4 present at 42\n",
            "background 5 present at 43\n",
            "background 9 present at 44\n",
            "background 3 present at 45\n",
            "background 7 present at 46\n",
            "background 6 present at 47\n",
            "background 4 present at 48\n",
            "background 8 present at 49\n",
            "background 8 present at 50\n",
            "background 4 present at 51\n",
            "background 7 present at 52\n",
            "foreground 0 present at 53\n",
            "background 8 present at 54\n",
            "background 7 present at 55\n",
            "background 7 present at 56\n",
            "background 4 present at 57\n",
            "background 6 present at 58\n",
            "background 8 present at 59\n",
            "background 4 present at 60\n",
            "background 5 present at 61\n",
            "background 8 present at 62\n",
            "background 8 present at 63\n",
            "background 6 present at 64\n",
            "background 4 present at 65\n",
            "background 8 present at 66\n",
            "background 8 present at 67\n",
            "background 4 present at 68\n",
            "background 5 present at 69\n",
            "background 5 present at 70\n",
            "background 3 present at 71\n",
            "background 8 present at 72\n",
            "background 8 present at 73\n",
            "background 4 present at 74\n",
            "background 9 present at 75\n",
            "background 6 present at 76\n",
            "background 3 present at 77\n",
            "background 6 present at 78\n",
            "background 8 present at 79\n",
            "background 6 present at 80\n",
            "background 5 present at 81\n",
            "background 9 present at 82\n",
            "background 9 present at 83\n",
            "background 8 present at 84\n",
            "background 5 present at 85\n",
            "background 5 present at 86\n",
            "background 6 present at 87\n",
            "background 3 present at 88\n",
            "background 7 present at 89\n",
            "background 3 present at 90\n",
            "background 3 present at 91\n",
            "background 8 present at 92\n",
            "background 6 present at 93\n",
            "background 4 present at 94\n",
            "background 7 present at 95\n",
            "background 3 present at 96\n",
            "background 9 present at 97\n",
            "background 7 present at 98\n",
            "background 6 present at 99\n",
            "(100, 5)\n",
            "0 53\n"
          ]
        }
      ]
    },
    {
      "cell_type": "code",
      "metadata": {
        "colab": {
          "base_uri": "https://localhost:8080/"
        },
        "id": "OoxzYI-ur0S_",
        "outputId": "ceb5db3f-e660-4671-b7ba-a9338109565b"
      },
      "source": [
        "np.reshape(a,(5*m,1))"
      ],
      "execution_count": 66,
      "outputs": [
        {
          "output_type": "execute_result",
          "data": {
            "text/plain": [
              "array([[-0.47251198],\n",
              "       [ 0.39952002],\n",
              "       [-0.66331996],\n",
              "       [-0.62701515],\n",
              "       [-0.26079519],\n",
              "       [ 1.19147045],\n",
              "       [-0.17066575],\n",
              "       [ 2.07241536],\n",
              "       [-0.83269959],\n",
              "       [ 1.36835129],\n",
              "       [ 0.66297358],\n",
              "       [-0.33581588],\n",
              "       [-1.50640568],\n",
              "       [ 1.8574525 ],\n",
              "       [ 1.31463991],\n",
              "       [-0.67590729],\n",
              "       [-0.10279299],\n",
              "       [-1.51747502],\n",
              "       [-0.91173079],\n",
              "       [-2.12361473],\n",
              "       [-0.9747852 ],\n",
              "       [-1.7634849 ],\n",
              "       [-0.83877375],\n",
              "       [-1.45184546],\n",
              "       [ 0.7953278 ],\n",
              "       [-0.35660586],\n",
              "       [ 0.11044144],\n",
              "       [-0.02043493],\n",
              "       [-1.04662521],\n",
              "       [ 1.54321778],\n",
              "       [ 1.08131316],\n",
              "       [ 1.14651002],\n",
              "       [ 0.75845239],\n",
              "       [-0.52639476],\n",
              "       [ 0.48028221],\n",
              "       [ 0.66026926],\n",
              "       [-0.16235624],\n",
              "       [ 0.32504969],\n",
              "       [-0.72585905],\n",
              "       [ 0.23673303],\n",
              "       [ 1.0943025 ],\n",
              "       [-1.173274  ],\n",
              "       [ 1.84087674],\n",
              "       [-0.29852892],\n",
              "       [ 0.67286934],\n",
              "       [-1.84324908],\n",
              "       [ 2.00597726],\n",
              "       [-0.7495675 ],\n",
              "       [-0.8359016 ],\n",
              "       [ 0.79265587],\n",
              "       [-0.85700225],\n",
              "       [-1.27552262],\n",
              "       [-0.25572149],\n",
              "       [-1.07230506],\n",
              "       [ 0.15833151],\n",
              "       [ 1.87871901],\n",
              "       [ 0.25193806],\n",
              "       [ 0.80536847],\n",
              "       [ 0.67738403],\n",
              "       [-1.57821048],\n",
              "       [ 0.27389172],\n",
              "       [-0.32000797],\n",
              "       [ 0.95227566],\n",
              "       [ 1.57021141],\n",
              "       [ 0.99620987],\n",
              "       [ 1.23404194],\n",
              "       [ 1.06667972],\n",
              "       [-2.03082167],\n",
              "       [-0.24934775],\n",
              "       [ 0.99018747],\n",
              "       [ 1.59911168],\n",
              "       [ 0.59780254],\n",
              "       [-0.80857746],\n",
              "       [-0.98625442],\n",
              "       [ 0.64920199],\n",
              "       [-1.79686577],\n",
              "       [ 2.23459742],\n",
              "       [-2.53237938],\n",
              "       [ 0.03497344],\n",
              "       [-0.6480631 ],\n",
              "       [-0.80848985],\n",
              "       [-2.06809903],\n",
              "       [ 0.71278431],\n",
              "       [-0.44102323],\n",
              "       [ 1.04038814],\n",
              "       [ 1.36010208],\n",
              "       [-1.50364894],\n",
              "       [-0.5007787 ],\n",
              "       [ 1.16041577],\n",
              "       [-1.18144643],\n",
              "       [ 1.50502482],\n",
              "       [-1.99926984],\n",
              "       [-2.07522593],\n",
              "       [ 0.82422925],\n",
              "       [-0.3865785 ],\n",
              "       [ 1.01598283],\n",
              "       [ 0.18959238],\n",
              "       [ 0.73857535],\n",
              "       [ 0.81073809],\n",
              "       [-1.12790709],\n",
              "       [ 0.53231793],\n",
              "       [ 0.50819341],\n",
              "       [ 0.85831125],\n",
              "       [-0.88808531],\n",
              "       [ 0.74856355],\n",
              "       [ 1.19683147],\n",
              "       [-2.87876646],\n",
              "       [-0.47689166],\n",
              "       [-1.43211377],\n",
              "       [-1.24729158],\n",
              "       [-0.30423004],\n",
              "       [-0.89370754],\n",
              "       [-1.61530796],\n",
              "       [ 0.99648429],\n",
              "       [ 0.21945016],\n",
              "       [-1.54846278],\n",
              "       [ 0.0538258 ],\n",
              "       [-0.86267137],\n",
              "       [-1.44574392],\n",
              "       [ 0.63457221],\n",
              "       [ 0.71068073],\n",
              "       [ 1.07142229],\n",
              "       [ 1.08049342],\n",
              "       [ 1.05411512],\n",
              "       [-0.8392238 ],\n",
              "       [ 0.74538601],\n",
              "       [-0.2383361 ],\n",
              "       [-0.02689342],\n",
              "       [-0.64079419],\n",
              "       [ 0.35577054],\n",
              "       [-0.01379559],\n",
              "       [ 0.41793521],\n",
              "       [-0.76572495],\n",
              "       [ 0.63744127],\n",
              "       [ 0.89088939],\n",
              "       [ 0.73366879],\n",
              "       [ 0.86778929],\n",
              "       [-1.19184241],\n",
              "       [ 0.04762994],\n",
              "       [-0.94160564],\n",
              "       [ 0.05363922],\n",
              "       [ 0.38321265],\n",
              "       [ 0.88499964],\n",
              "       [ 0.94370061],\n",
              "       [-0.7817864 ],\n",
              "       [ 0.8448644 ],\n",
              "       [-1.6700843 ],\n",
              "       [-2.36692748],\n",
              "       [ 0.57625317],\n",
              "       [-2.38932162],\n",
              "       [-0.73657644],\n",
              "       [-1.25800755],\n",
              "       [-0.71782144],\n",
              "       [-0.83881362],\n",
              "       [ 0.9950759 ],\n",
              "       [ 1.03955721],\n",
              "       [-0.36317432],\n",
              "       [-1.23047571],\n",
              "       [ 0.91070201],\n",
              "       [-1.13828894],\n",
              "       [-0.62191948],\n",
              "       [-0.90840907],\n",
              "       [-2.39263444],\n",
              "       [-0.88652408],\n",
              "       [ 0.57402712],\n",
              "       [ 0.03847765],\n",
              "       [ 0.41864125],\n",
              "       [ 0.1552129 ],\n",
              "       [-0.49710936],\n",
              "       [ 0.10078939],\n",
              "       [-0.13028281],\n",
              "       [ 0.51951119],\n",
              "       [-1.04668628],\n",
              "       [ 1.21778886],\n",
              "       [-1.14226516],\n",
              "       [ 0.04539471],\n",
              "       [ 0.30123583],\n",
              "       [ 0.65864536],\n",
              "       [-0.86381414],\n",
              "       [ 0.65239445],\n",
              "       [-0.13625206],\n",
              "       [ 1.40679695],\n",
              "       [-0.27691723],\n",
              "       [-1.27366324],\n",
              "       [ 0.99728854],\n",
              "       [-0.20359381],\n",
              "       [-0.50007999],\n",
              "       [ 0.12740842],\n",
              "       [-0.78038814],\n",
              "       [ 0.46624163],\n",
              "       [ 2.74987391],\n",
              "       [-0.63071033],\n",
              "       [-1.52254323],\n",
              "       [ 0.22435569],\n",
              "       [ 0.68456021],\n",
              "       [ 0.14061387],\n",
              "       [ 0.29495636],\n",
              "       [ 0.18934574],\n",
              "       [-0.62099492],\n",
              "       [ 0.27836632],\n",
              "       [ 0.7182778 ],\n",
              "       [ 0.3603601 ],\n",
              "       [-0.25722772],\n",
              "       [-0.66828454],\n",
              "       [-0.82110598],\n",
              "       [-0.20639074],\n",
              "       [-1.23598829],\n",
              "       [-0.9626677 ],\n",
              "       [ 1.42069279],\n",
              "       [-0.77047944],\n",
              "       [-0.50531826],\n",
              "       [-2.51863588],\n",
              "       [ 0.96779503],\n",
              "       [ 0.48716372],\n",
              "       [-1.1465301 ],\n",
              "       [-0.12008391],\n",
              "       [-1.16287415],\n",
              "       [-0.56772587],\n",
              "       [-1.35226815],\n",
              "       [-1.26420792],\n",
              "       [-0.01753043],\n",
              "       [ 2.00925619],\n",
              "       [-0.88367039],\n",
              "       [-1.11401557],\n",
              "       [ 0.62960968],\n",
              "       [-0.59689784],\n",
              "       [ 0.68542752],\n",
              "       [ 0.99054086],\n",
              "       [-0.67999081],\n",
              "       [ 0.51524666],\n",
              "       [ 1.51463613],\n",
              "       [ 0.47232423],\n",
              "       [-0.40039325],\n",
              "       [-0.39732165],\n",
              "       [ 1.46131447],\n",
              "       [ 0.87922237],\n",
              "       [ 1.41406   ],\n",
              "       [ 0.99060791],\n",
              "       [ 1.41228516],\n",
              "       [-1.18570151],\n",
              "       [-1.36577829],\n",
              "       [-0.96440071],\n",
              "       [ 2.27963275],\n",
              "       [ 0.52876191],\n",
              "       [-1.08290252],\n",
              "       [-2.05892927],\n",
              "       [ 0.46212747],\n",
              "       [ 0.03149308],\n",
              "       [ 1.19839616],\n",
              "       [ 1.43376606],\n",
              "       [ 0.9144855 ],\n",
              "       [ 0.55877603],\n",
              "       [ 1.49174322],\n",
              "       [ 1.05869939],\n",
              "       [ 1.23770195],\n",
              "       [ 2.23884882],\n",
              "       [-0.06799638],\n",
              "       [ 0.94576037],\n",
              "       [ 0.91433092],\n",
              "       [-0.14855536],\n",
              "       [ 0.80247306],\n",
              "       [ 0.7541113 ],\n",
              "       [-1.04013818],\n",
              "       [-0.86085805],\n",
              "       [ 0.70033313],\n",
              "       [ 3.80674279],\n",
              "       [ 0.37323625],\n",
              "       [-0.54136738],\n",
              "       [ 0.73031243],\n",
              "       [-0.03751159],\n",
              "       [-0.05931045],\n",
              "       [-1.27192719],\n",
              "       [ 0.95387958],\n",
              "       [ 0.43602759],\n",
              "       [-0.05708105],\n",
              "       [-0.0143877 ],\n",
              "       [-1.28693993],\n",
              "       [-0.2945785 ],\n",
              "       [-0.59230679],\n",
              "       [ 1.08457057],\n",
              "       [ 0.56522313],\n",
              "       [-0.5084792 ],\n",
              "       [-0.50425115],\n",
              "       [-0.39609059],\n",
              "       [ 1.1828209 ],\n",
              "       [-1.42782564],\n",
              "       [ 0.60282503],\n",
              "       [-0.689336  ],\n",
              "       [ 0.56518757],\n",
              "       [-1.12647086],\n",
              "       [ 0.79853707],\n",
              "       [-1.32767312],\n",
              "       [ 0.30464011],\n",
              "       [ 1.09520757],\n",
              "       [-0.92426959],\n",
              "       [ 1.71962256],\n",
              "       [ 0.97332531],\n",
              "       [ 0.6115893 ],\n",
              "       [ 0.70096301],\n",
              "       [ 1.00802197],\n",
              "       [-0.87032145],\n",
              "       [ 0.84594937],\n",
              "       [-0.51793784],\n",
              "       [ 0.62520804],\n",
              "       [-1.40420124],\n",
              "       [-0.38696962],\n",
              "       [ 1.1179455 ],\n",
              "       [-0.25179   ],\n",
              "       [-0.85306563],\n",
              "       [-1.65109361],\n",
              "       [-2.34969121],\n",
              "       [-0.61588793],\n",
              "       [ 0.27607828],\n",
              "       [ 0.79812982],\n",
              "       [ 1.13230453],\n",
              "       [ 0.04365901],\n",
              "       [-0.16867767],\n",
              "       [ 0.7065499 ],\n",
              "       [ 0.81453642],\n",
              "       [ 0.66901175],\n",
              "       [ 0.79120087],\n",
              "       [ 0.33105852],\n",
              "       [-3.07433298],\n",
              "       [ 0.77154597],\n",
              "       [-1.57849983],\n",
              "       [-1.80148889],\n",
              "       [-1.05263455],\n",
              "       [ 1.38719223],\n",
              "       [ 0.60693752],\n",
              "       [-0.83125209],\n",
              "       [-0.11821689],\n",
              "       [-0.58132473],\n",
              "       [-0.99679791],\n",
              "       [ 1.02730951],\n",
              "       [ 1.22508993],\n",
              "       [ 0.35959993],\n",
              "       [-0.72942489],\n",
              "       [ 1.9852283 ],\n",
              "       [ 1.59598083],\n",
              "       [ 0.37399106],\n",
              "       [ 2.1095444 ],\n",
              "       [-0.83628267],\n",
              "       [ 0.82345444],\n",
              "       [ 0.48733703],\n",
              "       [-1.22742588],\n",
              "       [ 1.06112303],\n",
              "       [-1.30100616],\n",
              "       [-0.98871089],\n",
              "       [-0.46182696],\n",
              "       [-1.00879372],\n",
              "       [-2.15137891],\n",
              "       [-0.15617859],\n",
              "       [ 0.17609265],\n",
              "       [-0.70349382],\n",
              "       [-1.36048423],\n",
              "       [-0.41463294],\n",
              "       [ 0.48645068],\n",
              "       [ 0.09908733],\n",
              "       [-0.19154195],\n",
              "       [ 1.47453492],\n",
              "       [ 0.87812636],\n",
              "       [ 1.42345247],\n",
              "       [-0.53982348],\n",
              "       [ 1.37441777],\n",
              "       [ 0.85924858],\n",
              "       [-1.86189567],\n",
              "       [ 0.73615644],\n",
              "       [-0.27324951],\n",
              "       [ 1.76982435],\n",
              "       [ 1.55201886],\n",
              "       [-0.22403464],\n",
              "       [ 1.49747642],\n",
              "       [ 0.44981613],\n",
              "       [ 0.5110252 ],\n",
              "       [-0.65103221],\n",
              "       [ 0.1982949 ],\n",
              "       [ 0.23793199],\n",
              "       [-0.33179663],\n",
              "       [-0.85283555],\n",
              "       [ 0.78055201],\n",
              "       [-0.87597486],\n",
              "       [ 1.24370739],\n",
              "       [ 1.68819411],\n",
              "       [ 1.44878639],\n",
              "       [-1.12099012],\n",
              "       [-0.26637453],\n",
              "       [ 1.16787749],\n",
              "       [ 1.19312761],\n",
              "       [-1.16623477],\n",
              "       [ 0.67317115],\n",
              "       [ 1.50645749],\n",
              "       [-0.05989383],\n",
              "       [ 0.60471524],\n",
              "       [ 0.42096721],\n",
              "       [-0.23712098],\n",
              "       [ 0.35782249],\n",
              "       [-0.43256883],\n",
              "       [ 0.57176156],\n",
              "       [ 0.75621773],\n",
              "       [ 1.14714618],\n",
              "       [-0.66823205],\n",
              "       [ 0.70952287],\n",
              "       [-0.34089614],\n",
              "       [ 1.17322279],\n",
              "       [-1.77285579],\n",
              "       [ 0.76454167],\n",
              "       [-1.71576231],\n",
              "       [ 0.82095649],\n",
              "       [-0.984474  ],\n",
              "       [-1.29410418],\n",
              "       [-0.76674952],\n",
              "       [ 0.32355202],\n",
              "       [-1.14060151],\n",
              "       [-0.9373148 ],\n",
              "       [ 1.03618311],\n",
              "       [-0.40793054],\n",
              "       [ 1.50852276],\n",
              "       [ 0.08742959],\n",
              "       [-0.61591774],\n",
              "       [ 0.88515308],\n",
              "       [ 1.79616434],\n",
              "       [-1.75938722],\n",
              "       [-0.05894045],\n",
              "       [ 1.36313693],\n",
              "       [ 1.09381052],\n",
              "       [-0.57686506],\n",
              "       [ 0.27585448],\n",
              "       [-1.63657215],\n",
              "       [-1.10515664],\n",
              "       [-0.88312919],\n",
              "       [ 1.66605996],\n",
              "       [-1.12161185],\n",
              "       [-0.56891045],\n",
              "       [-0.99497488],\n",
              "       [-1.2059411 ],\n",
              "       [ 0.41087524],\n",
              "       [ 1.15602982],\n",
              "       [-0.03048757],\n",
              "       [ 0.89641434],\n",
              "       [-1.18628034],\n",
              "       [-0.51705729],\n",
              "       [ 1.02498688],\n",
              "       [-0.81508306],\n",
              "       [-0.78208924],\n",
              "       [ 1.26916769],\n",
              "       [ 1.08457237],\n",
              "       [ 1.19198095],\n",
              "       [-0.48862085],\n",
              "       [-0.51564311],\n",
              "       [ 0.61997988],\n",
              "       [ 0.43123901],\n",
              "       [-2.45976598],\n",
              "       [ 0.6306122 ],\n",
              "       [-1.03260848],\n",
              "       [ 0.59520486],\n",
              "       [-1.05381597],\n",
              "       [ 0.21824913],\n",
              "       [-1.44620749],\n",
              "       [-0.98956892],\n",
              "       [ 0.80064206],\n",
              "       [ 0.11442373],\n",
              "       [ 1.2541351 ],\n",
              "       [-0.11808206],\n",
              "       [ 1.1436255 ],\n",
              "       [ 1.04362501],\n",
              "       [-0.4408714 ],\n",
              "       [-0.31421808],\n",
              "       [ 1.11383557],\n",
              "       [ 0.69020973],\n",
              "       [-1.54139814],\n",
              "       [-0.82322635],\n",
              "       [ 0.06533441],\n",
              "       [ 0.47888589],\n",
              "       [-0.05864488],\n",
              "       [-0.5786521 ],\n",
              "       [-1.51193704],\n",
              "       [ 2.01608331],\n",
              "       [ 1.60228371],\n",
              "       [-0.09583125],\n",
              "       [ 0.94346076],\n",
              "       [-1.17410078],\n",
              "       [-1.01651869],\n",
              "       [ 0.35950513],\n",
              "       [-0.93563877],\n",
              "       [ 0.3019946 ],\n",
              "       [ 1.04405061],\n",
              "       [-0.51890955],\n",
              "       [ 0.51866291],\n",
              "       [-1.56380492],\n",
              "       [ 0.91950086],\n",
              "       [ 1.16671943],\n",
              "       [-1.71010557],\n",
              "       [-1.30288376],\n",
              "       [ 0.20831347],\n",
              "       [ 0.83535377],\n",
              "       [ 0.79120087],\n",
              "       [ 0.33105852],\n",
              "       [-3.07433298],\n",
              "       [ 0.77154597],\n",
              "       [-1.57849983]])"
            ]
          },
          "metadata": {},
          "execution_count": 66
        }
      ]
    },
    {
      "cell_type": "code",
      "metadata": {
        "id": "jqbvfbwVr0TN"
      },
      "source": [
        "\n",
        "mosaic_list_of_images =[]\n",
        "mosaic_label = []\n",
        "fore_idx=[]\n",
        "for j in range(desired_num):\n",
        "    np.random.seed(j)\n",
        "    fg_class  = np.random.randint(0,3)\n",
        "    fg_idx = np.random.randint(0,m)\n",
        "    a = []\n",
        "    for i in range(m):\n",
        "        if i == fg_idx:\n",
        "            b = np.random.choice(np.where(idx[fg_class]==True)[0],size=1)\n",
        "            a.append(x[b])\n",
        "#             print(\"foreground \"+str(fg_class)+\" present at \" + str(fg_idx))\n",
        "        else:\n",
        "            bg_class = np.random.randint(3,10)\n",
        "            b = np.random.choice(np.where(idx[bg_class]==True)[0],size=1)\n",
        "            a.append(x[b])\n",
        "#             print(\"background \"+str(bg_class)+\" present at \" + str(i))\n",
        "    a = np.concatenate(a,axis=0)\n",
        "    mosaic_list_of_images.append(np.reshape(a,(5*m,1)))\n",
        "    mosaic_label.append(fg_class)\n",
        "    fore_idx.append(fg_idx)"
      ],
      "execution_count": 67,
      "outputs": []
    },
    {
      "cell_type": "code",
      "metadata": {
        "colab": {
          "base_uri": "https://localhost:8080/"
        },
        "id": "YzJPNP2mFwAG",
        "outputId": "1398fbe6-9fec-477a-d636-1d5e1d006081"
      },
      "source": [
        "mosaic_list_of_images = np.concatenate(mosaic_list_of_images,axis=1).T\n",
        "mosaic_list_of_images.shape"
      ],
      "execution_count": 68,
      "outputs": [
        {
          "output_type": "execute_result",
          "data": {
            "text/plain": [
              "(3000, 500)"
            ]
          },
          "metadata": {},
          "execution_count": 68
        }
      ]
    },
    {
      "cell_type": "code",
      "metadata": {
        "colab": {
          "base_uri": "https://localhost:8080/"
        },
        "id": "2aIPMgLXNiXW",
        "outputId": "f406e2af-75bd-489b-aacf-04dd4e16561b"
      },
      "source": [
        "mosaic_list_of_images.shape, mosaic_list_of_images[0]"
      ],
      "execution_count": 69,
      "outputs": [
        {
          "output_type": "execute_result",
          "data": {
            "text/plain": [
              "((3000, 500),\n",
              " array([-0.81036338, -1.69010846, -0.32834992,  1.29702234,  0.53276238,\n",
              "        -0.79420497, -0.04599438, -0.978943  ,  1.73876522, -1.3450371 ,\n",
              "        -0.43436229, -0.11380089, -1.58617926,  1.2449917 , -1.12361098,\n",
              "         1.56683597, -0.19620249, -0.69279456,  1.35084787, -0.61869265,\n",
              "        -0.17571755,  0.78432295, -2.38902264,  1.35982869,  0.16741467,\n",
              "         0.16034862, -1.00277567,  0.66775357, -0.60586546,  1.10921126,\n",
              "        -0.44812413, -0.67671916, -1.53098362, -1.62153413,  0.96433   ,\n",
              "        -0.44651283,  1.3865734 , -0.223064  , -0.77373608,  0.46991444,\n",
              "         1.36994422,  0.51053141, -0.41562254, -0.48028085, -0.82167715,\n",
              "         0.04860186,  0.58962855, -0.35582799, -1.46433256,  0.84083752,\n",
              "         0.45287991, -0.26291736, -1.18417584, -1.03863174,  1.02989593,\n",
              "        -1.84078239, -1.19258202, -1.42305443,  1.15897324, -1.48621764,\n",
              "        -0.84729321, -1.23426332,  1.18676516,  0.48049517, -1.06420592,\n",
              "        -0.10153338, -0.30107614, -0.73419762, -0.53748843,  0.51291702,\n",
              "        -0.12205826,  0.8901293 ,  1.10989224,  0.01840723,  0.82950128,\n",
              "        -1.14814773, -1.42257382, -1.2890686 , -1.00033703,  1.42714313,\n",
              "        -1.10099801,  1.70108715,  0.60167313,  1.18982322,  0.72098714,\n",
              "        -0.53033281,  0.38650055,  0.23452239, -0.12621808,  0.36154129,\n",
              "        -1.42313803, -1.65644521,  1.90817347,  0.59652956, -0.34412287,\n",
              "        -0.24453504, -0.50679332,  0.3877805 ,  0.81711906, -1.17415989,\n",
              "         1.99878657,  0.27044195,  0.17720062,  1.82847212,  1.18139105,\n",
              "        -0.86535137, -1.50324178,  0.46282987,  1.44989487, -1.54089572,\n",
              "        -0.82240742, -0.18177472,  0.0267689 , -1.01671556,  0.32465329,\n",
              "         0.75036911, -0.30806481,  0.32408463,  1.22875904, -0.28843102,\n",
              "         0.13892293, -0.45732678, -0.30110694, -0.43876294,  0.55860324,\n",
              "         0.18494824,  1.53934864, -1.02460635, -0.7273019 , -0.40916447,\n",
              "         0.20584206,  1.13426299,  0.5849733 ,  0.73339458, -1.20057387,\n",
              "         0.90285373,  0.57375737, -0.16874738, -1.29698156, -0.94417997,\n",
              "        -1.32490838, -0.13622171,  1.1678437 , -1.05893831,  0.83930049,\n",
              "         0.84104045,  0.78656756, -1.1831977 , -0.76141631,  0.123226  ,\n",
              "         0.71017088,  0.01588536, -0.33004968, -0.01101504,  1.18447766,\n",
              "         1.37155082,  0.70492895,  1.2672253 ,  1.52323243,  0.73434644,\n",
              "         1.5400658 , -0.11913036,  0.39083169, -0.31980064,  0.76925985,\n",
              "        -1.52836182, -0.89825302, -0.90246079,  0.4677229 , -1.16103117,\n",
              "        -1.12857864, -0.42485625, -1.24244461, -1.11435903,  2.1200508 ,\n",
              "        -1.26604593, -0.30412267,  0.42273576, -0.57669494, -1.12238284,\n",
              "         1.42242547,  2.16597248, -1.87782438, -0.95384179,  0.41958034,\n",
              "        -1.15942732,  1.50126471,  0.07497895,  1.63576496, -0.90604405,\n",
              "         0.03924278,  0.04007536,  0.19627801,  0.74841387, -1.3129503 ,\n",
              "         1.58500643,  1.84334825, -0.71330656,  1.54996945, -0.91994133,\n",
              "        -0.85018191, -0.5770519 , -0.15244828,  1.05755755, -1.83544942,\n",
              "        -0.25445746, -0.78579637,  0.58453403, -0.42546988, -1.18063672,\n",
              "        -0.45436246,  0.40415868,  1.51747262, -0.75026583,  0.86087999,\n",
              "         0.68903631,  1.79568467,  1.53851873,  1.03319516, -1.53167214,\n",
              "         1.15500479, -0.93603629,  0.07280534, -0.8580263 ,  0.96503066,\n",
              "         0.67124164, -0.36340228,  2.79771178, -1.45470595, -1.451232  ,\n",
              "         0.22242567,  0.02755689, -0.36370522,  1.24669613, -1.13256856,\n",
              "         1.9333341 ,  1.43896574,  0.52934824,  0.02592537, -0.04723945,\n",
              "        -0.07142767, -0.93732615, -0.92158158, -0.43923936,  0.51458921,\n",
              "         0.56838341,  0.04379929, -0.98962242, -0.17695223,  0.94833954,\n",
              "         2.85250919,  1.23355563, -0.46385027, -0.87118112,  0.65598796,\n",
              "         0.73853348, -0.99371004, -0.17311745, -0.50636556,  0.66369577,\n",
              "        -0.7390796 ,  1.19924431,  1.80465324, -1.29489409,  0.84704528,\n",
              "        -0.08822807,  0.18408633, -1.68683962, -0.89241248,  0.50156729,\n",
              "        -0.85971344, -0.98093667, -0.72019198, -0.83727992, -1.7301344 ,\n",
              "         0.24668751, -1.04004936,  1.39473809,  0.95880013,  0.74505614,\n",
              "        -1.25363985, -1.82287924, -0.27753062,  1.00931548,  1.30670027,\n",
              "        -1.60741967,  0.17999036,  0.19282595,  1.51601359, -0.74863976,\n",
              "        -0.67570586,  0.19490751,  0.05401395,  1.28106494, -1.2589616 ,\n",
              "         0.15141136,  0.49839505, -0.64799728, -0.08373078, -0.09850036,\n",
              "        -0.71540192, -0.50574497, -1.91109113,  1.09657182,  0.57075681,\n",
              "         0.73306405, -0.50624833,  1.63286088, -0.49233724,  0.1821865 ,\n",
              "        -1.24340616,  1.1580171 , -0.00862037, -1.60871462, -0.78241312,\n",
              "        -0.73401265, -0.85232862, -1.82553605, -1.17289394, -1.59945083,\n",
              "        -0.18235013,  0.22292871,  0.75848589,  0.91405454,  0.6710939 ,\n",
              "        -1.0888086 , -0.47528873,  1.27901268, -1.1962443 , -1.74718027,\n",
              "        -0.57800732, -0.01465468, -1.04411206,  1.40311338,  0.5935623 ,\n",
              "         1.08345523,  0.89387051, -0.49193765,  2.01667309,  1.43619853,\n",
              "        -0.36295176,  0.19373409, -1.05708838, -0.93995383,  0.22351827,\n",
              "        -0.41099824,  0.82723938,  1.24412273, -0.66122106, -0.90681586,\n",
              "         1.6034503 , -0.3021131 ,  1.26234084, -0.54782789, -0.99867574,\n",
              "        -0.10675662,  0.20944726, -0.75750449,  0.86543168, -0.96439616,\n",
              "        -1.01089312,  0.92725929, -0.20345322,  1.15261416, -1.22704318,\n",
              "         0.19716011,  1.35769645, -0.00536565, -0.22636862,  0.37113372,\n",
              "         0.27921874,  1.69209708,  0.22366212, -1.22805698,  0.6929923 ,\n",
              "        -2.4201559 ,  1.33693133,  1.67829483,  0.90160361, -0.80478577,\n",
              "        -1.00901691, -1.8886515 , -1.77922671, -0.76415845,  0.14559483,\n",
              "         2.07339704,  0.95133023,  0.50918286, -0.13241405,  0.94638045,\n",
              "        -0.5571502 , -1.48607089, -1.11417061, -1.01516778, -1.90013982,\n",
              "        -0.61922055, -0.92607579, -0.01392219, -0.71660672,  0.69118489,\n",
              "         1.36994422,  0.51053141, -0.41562254, -0.48028085, -0.82167715,\n",
              "        -0.25829995,  0.84495712,  0.11492246, -0.23615898,  0.31740646,\n",
              "        -1.96607143,  0.89090705,  0.71452339, -0.65372756,  0.49510036,\n",
              "         0.47386731, -0.88336063, -0.02315119, -1.20784498,  0.35211474,\n",
              "        -0.78239224, -0.50822866,  0.5534083 , -0.88467142, -0.69374469,\n",
              "        -0.52850193, -0.72552913,  1.17003797, -0.71197564, -0.09218188,\n",
              "        -0.84575043,  1.5616414 , -0.66590932, -0.91703772,  1.4075856 ,\n",
              "         1.10979985, -0.80183923, -0.59388972, -0.72759866,  1.82397188,\n",
              "        -1.80239627,  0.39624606,  1.51744317, -0.92392736,  0.6704459 ,\n",
              "        -0.61796044,  0.68138631, -0.28087561,  1.23329835, -1.812619  ,\n",
              "         0.73853348, -0.99371004, -0.17311745, -0.50636556,  0.66369577,\n",
              "        -0.56935356,  1.16584543,  0.40197499,  1.53567898,  0.87722214,\n",
              "         1.84404312,  0.20310735,  0.82259466, -1.56351951,  0.0736521 ,\n",
              "        -0.81602389,  0.04755067,  0.18504143, -0.44491606, -0.83681648,\n",
              "        -0.9747852 , -1.7634849 , -0.83877375, -1.45184546,  0.7953278 ,\n",
              "         0.11511755, -0.9707116 , -0.18130957,  1.23090847, -1.12163613,\n",
              "        -0.95580557, -0.88695957,  0.69212124, -1.23021773,  0.35026312,\n",
              "         1.48133152, -0.87362359, -2.125921  , -1.10666528,  0.02456876,\n",
              "        -3.60409893, -1.22146945,  1.00753045, -0.73176052,  0.12337302,\n",
              "         1.50838513, -0.15054743, -0.13661869, -1.1168753 , -0.58945009]))"
            ]
          },
          "metadata": {},
          "execution_count": 69
        }
      ]
    },
    {
      "cell_type": "code",
      "metadata": {
        "colab": {
          "base_uri": "https://localhost:8080/"
        },
        "id": "A3qcsbbzPfRG",
        "outputId": "965d67c9-2e77-48a7-b778-abb2557c0d59"
      },
      "source": [
        "for j in range(m):\n",
        "  print(mosaic_list_of_images[0][5*j:5*j+5])\n",
        "  "
      ],
      "execution_count": 70,
      "outputs": [
        {
          "output_type": "stream",
          "name": "stdout",
          "text": [
            "[-0.81036338 -1.69010846 -0.32834992  1.29702234  0.53276238]\n",
            "[-0.79420497 -0.04599438 -0.978943    1.73876522 -1.3450371 ]\n",
            "[-0.43436229 -0.11380089 -1.58617926  1.2449917  -1.12361098]\n",
            "[ 1.56683597 -0.19620249 -0.69279456  1.35084787 -0.61869265]\n",
            "[-0.17571755  0.78432295 -2.38902264  1.35982869  0.16741467]\n",
            "[ 0.16034862 -1.00277567  0.66775357 -0.60586546  1.10921126]\n",
            "[-0.44812413 -0.67671916 -1.53098362 -1.62153413  0.96433   ]\n",
            "[-0.44651283  1.3865734  -0.223064   -0.77373608  0.46991444]\n",
            "[ 1.36994422  0.51053141 -0.41562254 -0.48028085 -0.82167715]\n",
            "[ 0.04860186  0.58962855 -0.35582799 -1.46433256  0.84083752]\n",
            "[ 0.45287991 -0.26291736 -1.18417584 -1.03863174  1.02989593]\n",
            "[-1.84078239 -1.19258202 -1.42305443  1.15897324 -1.48621764]\n",
            "[-0.84729321 -1.23426332  1.18676516  0.48049517 -1.06420592]\n",
            "[-0.10153338 -0.30107614 -0.73419762 -0.53748843  0.51291702]\n",
            "[-0.12205826  0.8901293   1.10989224  0.01840723  0.82950128]\n",
            "[-1.14814773 -1.42257382 -1.2890686  -1.00033703  1.42714313]\n",
            "[-1.10099801  1.70108715  0.60167313  1.18982322  0.72098714]\n",
            "[-0.53033281  0.38650055  0.23452239 -0.12621808  0.36154129]\n",
            "[-1.42313803 -1.65644521  1.90817347  0.59652956 -0.34412287]\n",
            "[-0.24453504 -0.50679332  0.3877805   0.81711906 -1.17415989]\n",
            "[1.99878657 0.27044195 0.17720062 1.82847212 1.18139105]\n",
            "[-0.86535137 -1.50324178  0.46282987  1.44989487 -1.54089572]\n",
            "[-0.82240742 -0.18177472  0.0267689  -1.01671556  0.32465329]\n",
            "[ 0.75036911 -0.30806481  0.32408463  1.22875904 -0.28843102]\n",
            "[ 0.13892293 -0.45732678 -0.30110694 -0.43876294  0.55860324]\n",
            "[ 0.18494824  1.53934864 -1.02460635 -0.7273019  -0.40916447]\n",
            "[ 0.20584206  1.13426299  0.5849733   0.73339458 -1.20057387]\n",
            "[ 0.90285373  0.57375737 -0.16874738 -1.29698156 -0.94417997]\n",
            "[-1.32490838 -0.13622171  1.1678437  -1.05893831  0.83930049]\n",
            "[ 0.84104045  0.78656756 -1.1831977  -0.76141631  0.123226  ]\n",
            "[ 0.71017088  0.01588536 -0.33004968 -0.01101504  1.18447766]\n",
            "[1.37155082 0.70492895 1.2672253  1.52323243 0.73434644]\n",
            "[ 1.5400658  -0.11913036  0.39083169 -0.31980064  0.76925985]\n",
            "[-1.52836182 -0.89825302 -0.90246079  0.4677229  -1.16103117]\n",
            "[-1.12857864 -0.42485625 -1.24244461 -1.11435903  2.1200508 ]\n",
            "[-1.26604593 -0.30412267  0.42273576 -0.57669494 -1.12238284]\n",
            "[ 1.42242547  2.16597248 -1.87782438 -0.95384179  0.41958034]\n",
            "[-1.15942732  1.50126471  0.07497895  1.63576496 -0.90604405]\n",
            "[ 0.03924278  0.04007536  0.19627801  0.74841387 -1.3129503 ]\n",
            "[ 1.58500643  1.84334825 -0.71330656  1.54996945 -0.91994133]\n",
            "[-0.85018191 -0.5770519  -0.15244828  1.05755755 -1.83544942]\n",
            "[-0.25445746 -0.78579637  0.58453403 -0.42546988 -1.18063672]\n",
            "[-0.45436246  0.40415868  1.51747262 -0.75026583  0.86087999]\n",
            "[ 0.68903631  1.79568467  1.53851873  1.03319516 -1.53167214]\n",
            "[ 1.15500479 -0.93603629  0.07280534 -0.8580263   0.96503066]\n",
            "[ 0.67124164 -0.36340228  2.79771178 -1.45470595 -1.451232  ]\n",
            "[ 0.22242567  0.02755689 -0.36370522  1.24669613 -1.13256856]\n",
            "[ 1.9333341   1.43896574  0.52934824  0.02592537 -0.04723945]\n",
            "[-0.07142767 -0.93732615 -0.92158158 -0.43923936  0.51458921]\n",
            "[ 0.56838341  0.04379929 -0.98962242 -0.17695223  0.94833954]\n",
            "[ 2.85250919  1.23355563 -0.46385027 -0.87118112  0.65598796]\n",
            "[ 0.73853348 -0.99371004 -0.17311745 -0.50636556  0.66369577]\n",
            "[-0.7390796   1.19924431  1.80465324 -1.29489409  0.84704528]\n",
            "[-0.08822807  0.18408633 -1.68683962 -0.89241248  0.50156729]\n",
            "[-0.85971344 -0.98093667 -0.72019198 -0.83727992 -1.7301344 ]\n",
            "[ 0.24668751 -1.04004936  1.39473809  0.95880013  0.74505614]\n",
            "[-1.25363985 -1.82287924 -0.27753062  1.00931548  1.30670027]\n",
            "[-1.60741967  0.17999036  0.19282595  1.51601359 -0.74863976]\n",
            "[-0.67570586  0.19490751  0.05401395  1.28106494 -1.2589616 ]\n",
            "[ 0.15141136  0.49839505 -0.64799728 -0.08373078 -0.09850036]\n",
            "[-0.71540192 -0.50574497 -1.91109113  1.09657182  0.57075681]\n",
            "[ 0.73306405 -0.50624833  1.63286088 -0.49233724  0.1821865 ]\n",
            "[-1.24340616  1.1580171  -0.00862037 -1.60871462 -0.78241312]\n",
            "[-0.73401265 -0.85232862 -1.82553605 -1.17289394 -1.59945083]\n",
            "[-0.18235013  0.22292871  0.75848589  0.91405454  0.6710939 ]\n",
            "[-1.0888086  -0.47528873  1.27901268 -1.1962443  -1.74718027]\n",
            "[-0.57800732 -0.01465468 -1.04411206  1.40311338  0.5935623 ]\n",
            "[ 1.08345523  0.89387051 -0.49193765  2.01667309  1.43619853]\n",
            "[-0.36295176  0.19373409 -1.05708838 -0.93995383  0.22351827]\n",
            "[-0.41099824  0.82723938  1.24412273 -0.66122106 -0.90681586]\n",
            "[ 1.6034503  -0.3021131   1.26234084 -0.54782789 -0.99867574]\n",
            "[-0.10675662  0.20944726 -0.75750449  0.86543168 -0.96439616]\n",
            "[-1.01089312  0.92725929 -0.20345322  1.15261416 -1.22704318]\n",
            "[ 0.19716011  1.35769645 -0.00536565 -0.22636862  0.37113372]\n",
            "[ 0.27921874  1.69209708  0.22366212 -1.22805698  0.6929923 ]\n",
            "[-2.4201559   1.33693133  1.67829483  0.90160361 -0.80478577]\n",
            "[-1.00901691 -1.8886515  -1.77922671 -0.76415845  0.14559483]\n",
            "[ 2.07339704  0.95133023  0.50918286 -0.13241405  0.94638045]\n",
            "[-0.5571502  -1.48607089 -1.11417061 -1.01516778 -1.90013982]\n",
            "[-0.61922055 -0.92607579 -0.01392219 -0.71660672  0.69118489]\n",
            "[ 1.36994422  0.51053141 -0.41562254 -0.48028085 -0.82167715]\n",
            "[-0.25829995  0.84495712  0.11492246 -0.23615898  0.31740646]\n",
            "[-1.96607143  0.89090705  0.71452339 -0.65372756  0.49510036]\n",
            "[ 0.47386731 -0.88336063 -0.02315119 -1.20784498  0.35211474]\n",
            "[-0.78239224 -0.50822866  0.5534083  -0.88467142 -0.69374469]\n",
            "[-0.52850193 -0.72552913  1.17003797 -0.71197564 -0.09218188]\n",
            "[-0.84575043  1.5616414  -0.66590932 -0.91703772  1.4075856 ]\n",
            "[ 1.10979985 -0.80183923 -0.59388972 -0.72759866  1.82397188]\n",
            "[-1.80239627  0.39624606  1.51744317 -0.92392736  0.6704459 ]\n",
            "[-0.61796044  0.68138631 -0.28087561  1.23329835 -1.812619  ]\n",
            "[ 0.73853348 -0.99371004 -0.17311745 -0.50636556  0.66369577]\n",
            "[-0.56935356  1.16584543  0.40197499  1.53567898  0.87722214]\n",
            "[ 1.84404312  0.20310735  0.82259466 -1.56351951  0.0736521 ]\n",
            "[-0.81602389  0.04755067  0.18504143 -0.44491606 -0.83681648]\n",
            "[-0.9747852  -1.7634849  -0.83877375 -1.45184546  0.7953278 ]\n",
            "[ 0.11511755 -0.9707116  -0.18130957  1.23090847 -1.12163613]\n",
            "[-0.95580557 -0.88695957  0.69212124 -1.23021773  0.35026312]\n",
            "[ 1.48133152 -0.87362359 -2.125921   -1.10666528  0.02456876]\n",
            "[-3.60409893 -1.22146945  1.00753045 -0.73176052  0.12337302]\n",
            "[ 1.50838513 -0.15054743 -0.13661869 -1.1168753  -0.58945009]\n"
          ]
        }
      ]
    },
    {
      "cell_type": "code",
      "metadata": {
        "id": "iPoIwbMHx44n"
      },
      "source": [
        "def create_avg_image_from_mosaic_dataset(mosaic_dataset,labels,foreground_index,dataset_number, m):\n",
        "  \"\"\"\n",
        "  mosaic_dataset : mosaic_dataset contains 9 images 32 x 32 each as 1 data point\n",
        "  labels : mosaic_dataset labels\n",
        "  foreground_index : contains list of indexes where foreground image is present so that using this we can take weighted average\n",
        "  dataset_number : will help us to tell what ratio of foreground image to be taken. for eg: if it is \"j\" then fg_image_ratio = j/9 , bg_image_ratio = (9-j)/8*9\n",
        "  \"\"\"\n",
        "  avg_image_dataset = []\n",
        "  cnt = 0\n",
        "  counter = np.zeros(m) #np.array([0,0,0,0,0,0,0,0,0])\n",
        "  for i in range(len(mosaic_dataset)):\n",
        "    img = torch.zeros([5], dtype=torch.float64)\n",
        "    np.random.seed(int(dataset_number*10000 + i))\n",
        "    give_pref = foreground_index[i] #np.random.randint(0,9)\n",
        "    # print(\"outside\", give_pref,foreground_index[i])\n",
        "    for j in range(m):\n",
        "      if j == give_pref:\n",
        "        img = img + mosaic_dataset[i][5*j:5*j+5]*dataset_number/m   #2 is data dim\n",
        "      else :\n",
        "        img = img + mosaic_dataset[i][5*j:5*j+5]*(m-dataset_number)/((m-1)*m)\n",
        "\n",
        "    if give_pref == foreground_index[i] :\n",
        "      # print(\"equal are\", give_pref,foreground_index[i])\n",
        "      cnt += 1\n",
        "      counter[give_pref] += 1\n",
        "    else :\n",
        "      counter[give_pref] += 1\n",
        "\n",
        "    avg_image_dataset.append(img)\n",
        "\n",
        "  print(\"number of correct averaging happened for dataset \"+str(dataset_number)+\" is \"+str(cnt)) \n",
        "  print(\"the averaging are done as \", counter) \n",
        "  return avg_image_dataset , labels , foreground_index\n",
        "        \n",
        "  "
      ],
      "execution_count": 71,
      "outputs": []
    },
    {
      "cell_type": "code",
      "metadata": {
        "colab": {
          "base_uri": "https://localhost:8080/"
        },
        "id": "30ZAjix3x8CM",
        "outputId": "d50cdbf4-5cb6-4be9-e8d3-358d5258bd39"
      },
      "source": [
        "avg_image_dataset_1 , labels_1,  fg_index_1 = create_avg_image_from_mosaic_dataset(mosaic_list_of_images[0:tr_j], mosaic_label[0:tr_j], fore_idx[0:tr_j] , 1, m)\n",
        "\n",
        "\n",
        "test_dataset , labels , fg_index = create_avg_image_from_mosaic_dataset(mosaic_list_of_images[tr_j : tr_k], mosaic_label[tr_j : tr_k], fore_idx[tr_j : tr_k] , m, m)"
      ],
      "execution_count": 72,
      "outputs": [
        {
          "output_type": "stream",
          "name": "stdout",
          "text": [
            "number of correct averaging happened for dataset 1 is 2000\n",
            "the averaging are done as  [23. 16. 20. 22. 16. 20. 19. 22. 10. 21. 15. 20. 21. 15. 15. 28. 24. 27.\n",
            " 20. 25. 24. 15. 16. 21. 20. 21. 31. 19. 28. 20. 30. 15. 18. 19. 21. 26.\n",
            "  9. 21. 18. 15. 20. 25. 13. 19. 14. 18. 28. 12. 17. 21. 19. 18. 18. 16.\n",
            " 22. 22. 22. 22. 24. 11. 19. 22. 25. 18. 29. 20. 27.  8. 19. 22. 25. 19.\n",
            " 18. 16. 19. 17. 24. 20. 21. 21. 30. 21. 16. 17. 20. 16. 26. 22. 13. 17.\n",
            " 22. 16. 26. 20. 21. 24. 15. 16. 22. 24.]\n",
            "number of correct averaging happened for dataset 100 is 1000\n",
            "the averaging are done as  [10.  8.  9.  6. 13.  9. 10. 11. 10. 13. 13.  6.  8. 15. 12. 11.  7.  9.\n",
            " 11.  7. 12. 10. 10. 10. 11. 15.  8. 10. 11. 14. 10. 13.  8.  9.  6. 10.\n",
            " 11. 10.  9.  9.  8. 10.  9. 12. 10. 13.  7.  4.  8. 10.  9.  5. 14. 12.\n",
            "  6.  5. 11.  8.  5.  9. 11. 12. 16.  9.  9.  3. 10.  9. 10. 10.  9.  6.\n",
            "  9. 15. 10. 11.  2. 17. 14.  9. 10. 10. 16. 13.  8. 15. 11.  8.  9. 11.\n",
            "  4. 12. 14. 11.  7.  7. 17.  9. 15. 13.]\n"
          ]
        }
      ]
    },
    {
      "cell_type": "code",
      "metadata": {
        "colab": {
          "base_uri": "https://localhost:8080/"
        },
        "id": "0dYXnywAD-4l",
        "outputId": "8c959a2e-1933-4b65-a527-248b4df8642d"
      },
      "source": [
        "avg_image_dataset_1 = torch.stack(avg_image_dataset_1, axis = 0)\n",
        "# avg_image_dataset_1 = (avg - torch.mean(avg, keepdims= True, axis = 0)) / torch.std(avg, keepdims= True, axis = 0)\n",
        "# print(torch.mean(avg_image_dataset_1, keepdims= True, axis = 0))\n",
        "# print(torch.std(avg_image_dataset_1, keepdims= True, axis = 0))\n",
        "print(\"==\"*40)\n",
        "\n",
        "\n",
        "test_dataset = torch.stack(test_dataset, axis = 0)\n",
        "# test_dataset = (avg - torch.mean(avg, keepdims= True, axis = 0)) / torch.std(avg, keepdims= True, axis = 0)\n",
        "# print(torch.mean(test_dataset, keepdims= True, axis = 0))\n",
        "# print(torch.std(test_dataset, keepdims= True, axis = 0))\n",
        "print(\"==\"*40)\n"
      ],
      "execution_count": 73,
      "outputs": [
        {
          "output_type": "stream",
          "name": "stdout",
          "text": [
            "================================================================================\n",
            "================================================================================\n"
          ]
        }
      ]
    },
    {
      "cell_type": "code",
      "metadata": {
        "colab": {
          "base_uri": "https://localhost:8080/",
          "height": 300
        },
        "id": "bT9-kEI7NAnR",
        "outputId": "1a9b5046-d1d0-4a2a-fb36-86f6e7499ca9"
      },
      "source": [
        "x1 = (avg_image_dataset_1).numpy()\n",
        "y1 = np.array(labels_1)\n",
        "\n",
        "plt.scatter(x1[y1==0,0], x1[y1==0,1], label='class 0')\n",
        "plt.scatter(x1[y1==1,0], x1[y1==1,1], label='class 1')\n",
        "plt.scatter(x1[y1==2,0], x1[y1==2,1], label='class 2')\n",
        "plt.legend()\n",
        "plt.title(\"dataset4 CIN with alpha = 1/\"+str(m))"
      ],
      "execution_count": 74,
      "outputs": [
        {
          "output_type": "execute_result",
          "data": {
            "text/plain": [
              "Text(0.5, 1.0, 'dataset4 CIN with alpha = 1/100')"
            ]
          },
          "metadata": {},
          "execution_count": 74
        },
        {
          "output_type": "display_data",
          "data": {
            "image/png": "[encoded data removed]",
            "text/plain": [
              "<Figure size 432x288 with 1 Axes>"
            ]
          },
          "metadata": {
            "needs_background": "light"
          }
        }
      ]
    },
    {
      "cell_type": "code",
      "metadata": {
        "colab": {
          "base_uri": "https://localhost:8080/",
          "height": 300
        },
        "id": "Sc8W2N7LQQ_l",
        "outputId": "9e433ebb-3f49-44db-857e-6df3780ae710"
      },
      "source": [
        "x1 = (test_dataset).numpy() / m\n",
        "y1 = np.array(labels)\n",
        "\n",
        "plt.scatter(x1[y1==0,0], x1[y1==0,1], label='class 0')\n",
        "plt.scatter(x1[y1==1,0], x1[y1==1,1], label='class 1')\n",
        "plt.scatter(x1[y1==2,0], x1[y1==2,1], label='class 2')\n",
        "plt.legend()\n",
        "plt.title(\"test dataset4\")"
      ],
      "execution_count": 75,
      "outputs": [
        {
          "output_type": "execute_result",
          "data": {
            "text/plain": [
              "Text(0.5, 1.0, 'test dataset4')"
            ]
          },
          "metadata": {},
          "execution_count": 75
        },
        {
          "output_type": "display_data",
          "data": {
            "image/png": "[encoded data removed]",
            "text/plain": [
              "<Figure size 432x288 with 1 Axes>"
            ]
          },
          "metadata": {
            "needs_background": "light"
          }
        }
      ]
    },
    {
      "cell_type": "code",
      "metadata": {
        "colab": {
          "base_uri": "https://localhost:8080/"
        },
        "id": "pWVkaBZGXCRN",
        "outputId": "b5840593-1088-44d8-def2-0203ec837574"
      },
      "source": [
        "test_dataset[0:10]/m"
      ],
      "execution_count": 76,
      "outputs": [
        {
          "output_type": "execute_result",
          "data": {
            "text/plain": [
              "tensor([[-0.0026,  0.0029,  0.0329,  0.0029, -0.0102],\n",
              "        [ 0.0285, -0.0132,  0.0114, -0.0010, -0.0062],\n",
              "        [ 0.0056,  0.0281, -0.0225, -0.0044,  0.0022],\n",
              "        [ 0.0328,  0.0052, -0.0031, -0.0038, -0.0065],\n",
              "        [-0.0089,  0.0111,  0.0207, -0.0015,  0.0015],\n",
              "        [ 0.0076,  0.0218,  0.0011, -0.0045, -0.0108],\n",
              "        [ 0.0240, -0.0043,  0.0010,  0.0047, -0.0008],\n",
              "        [ 0.0004,  0.0207,  0.0058,  0.0049,  0.0038],\n",
              "        [-0.0130, -0.0078,  0.0113,  0.0082, -0.0068],\n",
              "        [ 0.0037,  0.0015,  0.0293, -0.0020,  0.0004]], dtype=torch.float64)"
            ]
          },
          "metadata": {},
          "execution_count": 76
        }
      ]
    },
    {
      "cell_type": "code",
      "metadata": {
        "colab": {
          "base_uri": "https://localhost:8080/"
        },
        "id": "JDZLkEGbXGqg",
        "outputId": "2c4f8665-6f8e-4c33-922d-309088ebe0a9"
      },
      "source": [
        "test_dataset = test_dataset/m\n",
        "test_dataset[0:10]"
      ],
      "execution_count": 77,
      "outputs": [
        {
          "output_type": "execute_result",
          "data": {
            "text/plain": [
              "tensor([[-0.0026,  0.0029,  0.0329,  0.0029, -0.0102],\n",
              "        [ 0.0285, -0.0132,  0.0114, -0.0010, -0.0062],\n",
              "        [ 0.0056,  0.0281, -0.0225, -0.0044,  0.0022],\n",
              "        [ 0.0328,  0.0052, -0.0031, -0.0038, -0.0065],\n",
              "        [-0.0089,  0.0111,  0.0207, -0.0015,  0.0015],\n",
              "        [ 0.0076,  0.0218,  0.0011, -0.0045, -0.0108],\n",
              "        [ 0.0240, -0.0043,  0.0010,  0.0047, -0.0008],\n",
              "        [ 0.0004,  0.0207,  0.0058,  0.0049,  0.0038],\n",
              "        [-0.0130, -0.0078,  0.0113,  0.0082, -0.0068],\n",
              "        [ 0.0037,  0.0015,  0.0293, -0.0020,  0.0004]], dtype=torch.float64)"
            ]
          },
          "metadata": {},
          "execution_count": 77
        }
      ]
    },
    {
      "cell_type": "code",
      "metadata": {
        "colab": {
          "base_uri": "https://localhost:8080/"
        },
        "id": "ngmzqU1nB3pF",
        "outputId": "3f6e5112-534f-4052-fd02-3c95f9f3feb6"
      },
      "source": [
        "test_dataset.shape"
      ],
      "execution_count": 78,
      "outputs": [
        {
          "output_type": "execute_result",
          "data": {
            "text/plain": [
              "torch.Size([1000, 5])"
            ]
          },
          "metadata": {},
          "execution_count": 78
        }
      ]
    },
    {
      "cell_type": "code",
      "metadata": {
        "id": "yL0BRf8er0TX"
      },
      "source": [
        "class MosaicDataset(Dataset):\n",
        "  \"\"\"MosaicDataset dataset.\"\"\"\n",
        "\n",
        "  def __init__(self, mosaic_list_of_images, mosaic_label):\n",
        "    \"\"\"\n",
        "      Args:\n",
        "        csv_file (string): Path to the csv file with annotations.\n",
        "        root_dir (string): Directory with all the images.\n",
        "        transform (callable, optional): Optional transform to be applied\n",
        "            on a sample.\n",
        "    \"\"\"\n",
        "    self.mosaic = mosaic_list_of_images\n",
        "    self.label = mosaic_label\n",
        "    #self.fore_idx = fore_idx\n",
        "    \n",
        "  def __len__(self):\n",
        "    return len(self.label)\n",
        "\n",
        "  def __getitem__(self, idx):\n",
        "    return self.mosaic[idx] , self.label[idx] #, self.fore_idx[idx]\n",
        "\n"
      ],
      "execution_count": 79,
      "outputs": []
    },
    {
      "cell_type": "code",
      "metadata": {
        "colab": {
          "base_uri": "https://localhost:8080/"
        },
        "id": "4KsrW9qL9xgS",
        "outputId": "bb6ae720-50f9-452e-b7a3-3dfd6b038a61"
      },
      "source": [
        "avg_image_dataset_1[0].shape\n",
        "avg_image_dataset_1[0]"
      ],
      "execution_count": 80,
      "outputs": [
        {
          "output_type": "execute_result",
          "data": {
            "text/plain": [
              "tensor([-0.1105,  0.0029, -0.0547, -0.0722, -0.0597], dtype=torch.float64)"
            ]
          },
          "metadata": {},
          "execution_count": 80
        }
      ]
    },
    {
      "cell_type": "code",
      "metadata": {
        "id": "EY2l62APygaV"
      },
      "source": [
        "batch = 200\n",
        "\n",
        "traindata_1 = MosaicDataset(avg_image_dataset_1, labels_1 )\n",
        "trainloader_1 = DataLoader( traindata_1 , batch_size= batch ,shuffle=True)\n"
      ],
      "execution_count": 81,
      "outputs": []
    },
    {
      "cell_type": "code",
      "metadata": {
        "id": "9suUslCj8YZK"
      },
      "source": [
        "testdata_1 = MosaicDataset(test_dataset, labels )\n",
        "testloader_1 = DataLoader( testdata_1 , batch_size= batch ,shuffle=False)\n"
      ],
      "execution_count": 82,
      "outputs": []
    },
    {
      "cell_type": "code",
      "metadata": {
        "id": "Nh3mBQHZ8bEj"
      },
      "source": [
        "# testdata_11 = MosaicDataset(test_dataset, labels )\n",
        "# testloader_11 = DataLoader( testdata_11 , batch_size= batch ,shuffle=False)"
      ],
      "execution_count": 83,
      "outputs": []
    },
    {
      "cell_type": "code",
      "metadata": {
        "id": "5_XeIUk0r0Tl"
      },
      "source": [
        "class Whatnet(nn.Module):\n",
        "    def __init__(self):\n",
        "        super(Whatnet,self).__init__()\n",
        "        self.linear1 = nn.Linear(5,3)\n",
        "        # self.linear2 = nn.Linear(50,3)\n",
        "\n",
        "        torch.nn.init.xavier_normal_(self.linear1.weight)\n",
        "        torch.nn.init.zeros_(self.linear1.bias)\n",
        "        # torch.nn.init.xavier_normal_(self.linear2.weight)\n",
        "        # torch.nn.init.zeros_(self.linear2.bias)\n",
        "\n",
        "    def forward(self,x):\n",
        "        # x = F.relu(self.linear1(x))\n",
        "        x = (self.linear1(x))\n",
        "\n",
        "        return x"
      ],
      "execution_count": 84,
      "outputs": []
    },
    {
      "cell_type": "code",
      "metadata": {
        "id": "pjD2VZuV9Ed4"
      },
      "source": [
        "def calculate_loss(dataloader,model,criter):\n",
        "  model.eval()\n",
        "  r_loss = 0\n",
        "  with torch.no_grad():\n",
        "    for i, data in enumerate(dataloader, 0):\n",
        "      inputs, labels = data\n",
        "      inputs, labels = inputs.to(\"cuda\"),labels.to(\"cuda\")\n",
        "      outputs = model(inputs)\n",
        "      loss = criter(outputs, labels)\n",
        "      r_loss += loss.item()\n",
        "  return r_loss/(i+1)"
      ],
      "execution_count": 85,
      "outputs": []
    },
    {
      "cell_type": "code",
      "metadata": {
        "id": "uALi25pmzQHV"
      },
      "source": [
        "def test_all(number, testloader,net):\n",
        "    correct = 0\n",
        "    total = 0\n",
        "    out = []\n",
        "    pred = []\n",
        "    with torch.no_grad():\n",
        "        for data in testloader:\n",
        "            images, labels = data\n",
        "            images, labels = images.to(\"cuda\"),labels.to(\"cuda\")\n",
        "            out.append(labels.cpu().numpy())\n",
        "            outputs= net(images)\n",
        "            _, predicted = torch.max(outputs.data, 1)\n",
        "            pred.append(predicted.cpu().numpy())\n",
        "            total += labels.size(0)\n",
        "            correct += (predicted == labels).sum().item()\n",
        "    \n",
        "    pred = np.concatenate(pred, axis = 0)\n",
        "    out = np.concatenate(out, axis = 0)\n",
        "    print(\"unique out: \",  np.unique(out), \"unique pred: \", np.unique(pred) )\n",
        "    print(\"correct: \", correct, \"total \",  total)\n",
        "    print('Accuracy of the network on the %d test dataset %d: %.2f %%' % (total, number , 100 * correct / total))"
      ],
      "execution_count": 86,
      "outputs": []
    },
    {
      "cell_type": "code",
      "metadata": {
        "id": "4vmNprlPzTjP"
      },
      "source": [
        "def train_all(trainloader, ds_number, testloader_list, lr_list):\n",
        "  \n",
        "  final_loss = []\n",
        "  for LR in lr_list:    \n",
        "    print(\"--\"*20, \"Learning Rate used is\", LR)\n",
        "    \n",
        "    torch.manual_seed(12)\n",
        "    net = Whatnet().double()\n",
        "    net = net.to(\"cuda\")\n",
        "    \n",
        "    criterion_net = nn.CrossEntropyLoss()\n",
        "    optimizer_net = optim.Adam(net.parameters(), lr=LR ) #, momentum=0.9)\n",
        "    \n",
        "    acti = []\n",
        "    loss_curi = []\n",
        "    epochs = 1000\n",
        "    running_loss = calculate_loss(trainloader,net,criterion_net)\n",
        "    loss_curi.append(running_loss)\n",
        "    print('epoch: [%d ] loss: %.3f' %(0,running_loss)) \n",
        "    for epoch in range(epochs): # loop over the dataset multiple times\n",
        "        ep_lossi = []\n",
        "\n",
        "        running_loss = 0.0\n",
        "        net.train()\n",
        "        for i, data in enumerate(trainloader, 0):\n",
        "            # get the inputs\n",
        "            inputs, labels = data\n",
        "            inputs, labels = inputs.to(\"cuda\"),labels.to(\"cuda\")\n",
        "\n",
        "            # zero the parameter gradients\n",
        "            optimizer_net.zero_grad()\n",
        "\n",
        "            # forward + backward + optimize\n",
        "            outputs = net(inputs)\n",
        "            loss = criterion_net(outputs, labels)\n",
        "            # print statistics\n",
        "            running_loss += loss.item()\n",
        "            loss.backward()\n",
        "            optimizer_net.step()\n",
        "\n",
        "        running_loss = calculate_loss(trainloader,net,criterion_net)\n",
        "        if(epoch%200 == 0):\n",
        "          print('epoch: [%d] loss: %.3f' %(epoch + 1,running_loss)) \n",
        "        loss_curi.append(running_loss)   #loss per epoch\n",
        "        if running_loss<=0.05:\n",
        "          print('epoch: [%d] loss: %.3f' %(epoch + 1,running_loss))\n",
        "          break\n",
        "\n",
        "    print('Finished Training')\n",
        "    \n",
        "    correct = 0\n",
        "    total = 0\n",
        "    with torch.no_grad():\n",
        "        for data in trainloader:\n",
        "            images, labels = data\n",
        "            images, labels = images.to(\"cuda\"), labels.to(\"cuda\")\n",
        "            outputs = net(images)\n",
        "            _, predicted = torch.max(outputs.data, 1)\n",
        "            total += labels.size(0)\n",
        "            correct += (predicted == labels).sum().item()\n",
        "\n",
        "    print('Accuracy of the network on the %d train images: %.2f %%' % (total,  100 * correct / total))\n",
        "    \n",
        "    for i, j in enumerate(testloader_list):\n",
        "        test_all(i+1, j,net)\n",
        "    \n",
        "    print(\"--\"*40)\n",
        "    \n",
        "    final_loss.append(loss_curi) \n",
        "  return final_loss\n",
        "    "
      ],
      "execution_count": 87,
      "outputs": []
    },
    {
      "cell_type": "code",
      "metadata": {
        "id": "Yl41sE8vFERk"
      },
      "source": [
        "train_loss_all=[]\n",
        "\n",
        "testloader_list= [ testloader_1]\n",
        "lr_list = [0.0001, 0.0005, 0.001, 0.005, 0.01, 0.05, 0.1, 0.5 ]"
      ],
      "execution_count": 88,
      "outputs": []
    },
    {
      "cell_type": "code",
      "metadata": {
        "colab": {
          "base_uri": "https://localhost:8080/"
        },
        "id": "5gQoPST5zW2t",
        "outputId": "090cf153-2d73-4384-b45a-2bf3fd45cef1"
      },
      "source": [
        "fin_loss = train_all(trainloader_1, 1, testloader_list, lr_list)\n",
        "train_loss_all.append(fin_loss)"
      ],
      "execution_count": 89,
      "outputs": [
        {
          "output_type": "stream",
          "name": "stdout",
          "text": [
            "---------------------------------------- Learning Rate used is 0.0001\n",
            "epoch: [0 ] loss: 1.118\n",
            "epoch: [1] loss: 1.118\n",
            "epoch: [201] loss: 1.109\n",
            "epoch: [401] loss: 1.101\n",
            "epoch: [601] loss: 1.094\n",
            "epoch: [801] loss: 1.088\n",
            "Finished Training\n",
            "Accuracy of the network on the 2000 train images: 41.30 %\n",
            "unique out:  [0 1 2] unique pred:  [0 1 2]\n",
            "correct:  825 total  1000\n",
            "Accuracy of the network on the 1000 test dataset 1: 82.50 %\n",
            "--------------------------------------------------------------------------------\n",
            "---------------------------------------- Learning Rate used is 0.0005\n",
            "epoch: [0 ] loss: 1.118\n",
            "epoch: [1] loss: 1.118\n",
            "epoch: [201] loss: 1.084\n",
            "epoch: [401] loss: 1.071\n",
            "epoch: [601] loss: 1.066\n",
            "epoch: [801] loss: 1.065\n",
            "Finished Training\n",
            "Accuracy of the network on the 2000 train images: 42.90 %\n",
            "unique out:  [0 1 2] unique pred:  [0 1 2]\n",
            "correct:  975 total  1000\n",
            "Accuracy of the network on the 1000 test dataset 1: 97.50 %\n",
            "--------------------------------------------------------------------------------\n",
            "---------------------------------------- Learning Rate used is 0.001\n",
            "epoch: [0 ] loss: 1.118\n",
            "epoch: [1] loss: 1.118\n",
            "epoch: [201] loss: 1.071\n",
            "epoch: [401] loss: 1.065\n",
            "epoch: [601] loss: 1.065\n",
            "epoch: [801] loss: 1.065\n",
            "Finished Training\n",
            "Accuracy of the network on the 2000 train images: 43.15 %\n",
            "unique out:  [0 1 2] unique pred:  [0 1 2]\n",
            "correct:  976 total  1000\n",
            "Accuracy of the network on the 1000 test dataset 1: 97.60 %\n",
            "--------------------------------------------------------------------------------\n",
            "---------------------------------------- Learning Rate used is 0.005\n",
            "epoch: [0 ] loss: 1.118\n",
            "epoch: [1] loss: 1.116\n",
            "epoch: [201] loss: 1.065\n",
            "epoch: [401] loss: 1.065\n",
            "epoch: [601] loss: 1.065\n",
            "epoch: [801] loss: 1.065\n",
            "Finished Training\n",
            "Accuracy of the network on the 2000 train images: 43.05 %\n",
            "unique out:  [0 1 2] unique pred:  [0 1 2]\n",
            "correct:  979 total  1000\n",
            "Accuracy of the network on the 1000 test dataset 1: 97.90 %\n",
            "--------------------------------------------------------------------------------\n",
            "---------------------------------------- Learning Rate used is 0.01\n",
            "epoch: [0 ] loss: 1.118\n",
            "epoch: [1] loss: 1.113\n",
            "epoch: [201] loss: 1.065\n",
            "epoch: [401] loss: 1.065\n",
            "epoch: [601] loss: 1.065\n",
            "epoch: [801] loss: 1.065\n",
            "Finished Training\n",
            "Accuracy of the network on the 2000 train images: 42.90 %\n",
            "unique out:  [0 1 2] unique pred:  [0 1 2]\n",
            "correct:  979 total  1000\n",
            "Accuracy of the network on the 1000 test dataset 1: 97.90 %\n",
            "--------------------------------------------------------------------------------\n",
            "---------------------------------------- Learning Rate used is 0.05\n",
            "epoch: [0 ] loss: 1.118\n",
            "epoch: [1] loss: 1.098\n",
            "epoch: [201] loss: 1.065\n",
            "epoch: [401] loss: 1.065\n",
            "epoch: [601] loss: 1.065\n",
            "epoch: [801] loss: 1.065\n",
            "Finished Training\n",
            "Accuracy of the network on the 2000 train images: 42.20 %\n",
            "unique out:  [0 1 2] unique pred:  [0 1 2]\n",
            "correct:  871 total  1000\n",
            "Accuracy of the network on the 1000 test dataset 1: 87.10 %\n",
            "--------------------------------------------------------------------------------\n",
            "---------------------------------------- Learning Rate used is 0.1\n",
            "epoch: [0 ] loss: 1.118\n",
            "epoch: [1] loss: 1.085\n",
            "epoch: [201] loss: 1.065\n",
            "epoch: [401] loss: 1.065\n",
            "epoch: [601] loss: 1.065\n",
            "epoch: [801] loss: 1.066\n",
            "Finished Training\n",
            "Accuracy of the network on the 2000 train images: 42.00 %\n",
            "unique out:  [0 1 2] unique pred:  [0 1 2]\n",
            "correct:  843 total  1000\n",
            "Accuracy of the network on the 1000 test dataset 1: 84.30 %\n",
            "--------------------------------------------------------------------------------\n",
            "---------------------------------------- Learning Rate used is 0.5\n",
            "epoch: [0 ] loss: 1.118\n",
            "epoch: [1] loss: 1.089\n",
            "epoch: [201] loss: 1.076\n",
            "epoch: [401] loss: 1.074\n",
            "epoch: [601] loss: 1.094\n",
            "epoch: [801] loss: 1.067\n",
            "Finished Training\n",
            "Accuracy of the network on the 2000 train images: 39.95 %\n",
            "unique out:  [0 1 2] unique pred:  [0]\n",
            "correct:  371 total  1000\n",
            "Accuracy of the network on the 1000 test dataset 1: 37.10 %\n",
            "--------------------------------------------------------------------------------\n"
          ]
        }
      ]
    },
    {
      "cell_type": "code",
      "metadata": {
        "id": "In76SYH_zZHV"
      },
      "source": [
        "%matplotlib inline"
      ],
      "execution_count": 90,
      "outputs": []
    },
    {
      "cell_type": "code",
      "metadata": {
        "id": "_GsE3qHR_A5c",
        "colab": {
          "base_uri": "https://localhost:8080/"
        },
        "outputId": "e0ffc0dd-092a-4ccf-c4d5-6789613261b2"
      },
      "source": [
        "len(fin_loss)"
      ],
      "execution_count": 91,
      "outputs": [
        {
          "output_type": "execute_result",
          "data": {
            "text/plain": [
              "8"
            ]
          },
          "metadata": {},
          "execution_count": 91
        }
      ]
    },
    {
      "cell_type": "code",
      "metadata": {
        "id": "BS4HtOHEzZ0E",
        "colab": {
          "base_uri": "https://localhost:8080/",
          "height": 297
        },
        "outputId": "a135edc1-9037-4849-bc7d-c7c446c8d500"
      },
      "source": [
        "for i,j in enumerate(fin_loss):\n",
        "    plt.plot(j,label =\"LR = \"+str(lr_list[i]))\n",
        "    \n",
        "\n",
        "plt.xlabel(\"Epochs\")\n",
        "plt.ylabel(\"Training_loss\")\n",
        "\n",
        "plt.legend(loc='center left', bbox_to_anchor=(1, 0.5))"
      ],
      "execution_count": 92,
      "outputs": [
        {
          "output_type": "execute_result",
          "data": {
            "text/plain": [
              "<matplotlib.legend.Legend at 0x7f79a08f4b10>"
            ]
          },
          "metadata": {},
          "execution_count": 92
        },
        {
          "output_type": "display_data",
          "data": {
            "image/png": "[encoded data removed]",
            "text/plain": [
              "<Figure size 432x288 with 1 Axes>"
            ]
          },
          "metadata": {
            "needs_background": "light"
          }
        }
      ]
    },
    {
      "cell_type": "code",
      "metadata": {
        "id": "1UbTkfLUINTI"
      },
      "source": [
        ""
      ],
      "execution_count": 92,
      "outputs": []
    }
  ]
}