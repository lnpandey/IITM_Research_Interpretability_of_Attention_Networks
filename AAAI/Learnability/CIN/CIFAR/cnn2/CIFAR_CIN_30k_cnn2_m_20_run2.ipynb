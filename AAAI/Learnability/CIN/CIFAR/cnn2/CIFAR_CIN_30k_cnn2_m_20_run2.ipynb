{
  "nbformat": 4,
  "nbformat_minor": 0,
  "metadata": {
    "accelerator": "GPU",
    "colab": {
      "name": "CIFAR_CIN_30k_cnn2_m_20_run2.ipynb",
      "provenance": [],
      "collapsed_sections": [],
      "machine_shape": "hm"
    },
    "kernelspec": {
      "display_name": "Python 3",
      "language": "python",
      "name": "python3"
    },
    "language_info": {
      "codemirror_mode": {
        "name": "ipython",
        "version": 3
      },
      "file_extension": ".py",
      "mimetype": "text/x-python",
      "name": "python",
      "nbconvert_exporter": "python",
      "pygments_lexer": "ipython3",
      "version": "3.6.5"
    }
  },
  "cells": [
    {
      "cell_type": "code",
      "metadata": {
        "id": "JSjG64ra4aFu"
      },
      "source": [
        "# from google.colab import drive\n",
        "# drive.mount('/content/drive')"
      ],
      "execution_count": 51,
      "outputs": []
    },
    {
      "cell_type": "code",
      "metadata": {
        "id": "3uDWznlVHuI6"
      },
      "source": [
        "# path = \"/content/drive/MyDrive/Research/cods_comad_plots/sdc_task/cifar/\""
      ],
      "execution_count": 52,
      "outputs": []
    },
    {
      "cell_type": "code",
      "metadata": {
        "id": "V8-7SARDZErK"
      },
      "source": [
        "import torch.nn as nn\n",
        "import torch.nn.functional as F\n",
        "\n",
        "import pandas as pd\n",
        "import numpy as np\n",
        "import matplotlib.pyplot as plt\n",
        "\n",
        "import torch\n",
        "import torchvision\n",
        "import torchvision.transforms as transforms\n",
        "from torch.utils.data import Dataset, DataLoader\n",
        "from torchvision import transforms, utils\n",
        "\n",
        "from matplotlib import pyplot as plt\n",
        "\n",
        "import copy\n",
        "\n",
        "# Ignore warnings\n",
        "import warnings\n",
        "warnings.filterwarnings(\"ignore\")\n",
        "\n",
        "torch.backends.cudnn.deterministic = True\n",
        "torch.backends.cudnn.benchmark = False\n"
      ],
      "execution_count": 53,
      "outputs": []
    },
    {
      "cell_type": "code",
      "metadata": {
        "id": "acRFqJNrZErV",
        "colab": {
          "base_uri": "https://localhost:8080/"
        },
        "outputId": "d0257eee-e035-4a85-b228-b0dd0dd08d3e"
      },
      "source": [
        "transform = transforms.Compose(\n",
        "    [transforms.ToTensor(),\n",
        "     transforms.Normalize((0.5, 0.5, 0.5), (0.5, 0.5, 0.5))])\n",
        "\n",
        "trainset = torchvision.datasets.CIFAR10(root='./data', train=True, download=True, transform=transform)\n",
        "\n",
        "\n",
        "testset = torchvision.datasets.CIFAR10(root='./data', train=False, download=True, transform=transform)\n",
        "\n",
        "trainloader = torch.utils.data.DataLoader(trainset, batch_size=10, shuffle=False)\n",
        "testloader = torch.utils.data.DataLoader(testset, batch_size=10, shuffle=False)\n",
        "\n",
        "\n",
        "classes = ('plane', 'car', 'bird', 'cat', 'deer', 'dog', 'frog', 'horse', 'ship', 'truck')\n",
        "\n",
        "foreground_classes = {'plane', 'car', 'bird'}\n",
        "\n",
        "background_classes = {'cat', 'deer', 'dog', 'frog', 'horse','ship', 'truck'}\n",
        "\n",
        "# print(type(foreground_classes))\n",
        "\n",
        "dataiter = iter(trainloader)\n",
        "background_data=[]\n",
        "background_label=[]\n",
        "foreground_data=[]\n",
        "foreground_label=[]\n",
        "batch_size=10\n",
        "\n",
        "for i in range(5000):   #5000*batch_size = 50000 data points\n",
        "  images, labels = dataiter.next()\n",
        "  for j in range(batch_size):\n",
        "    if(classes[labels[j]] in background_classes):\n",
        "      img = images[j].tolist()\n",
        "      background_data.append(img)\n",
        "      background_label.append(labels[j])\n",
        "    else:\n",
        "      img = images[j].tolist()\n",
        "      foreground_data.append(img)\n",
        "      foreground_label.append(labels[j])\n",
        "            \n",
        "foreground_data = torch.tensor(foreground_data)\n",
        "foreground_label = torch.tensor(foreground_label)\n",
        "background_data = torch.tensor(background_data)\n",
        "background_label = torch.tensor(background_label)\n",
        "    \n",
        "  "
      ],
      "execution_count": 54,
      "outputs": [
        {
          "output_type": "stream",
          "name": "stdout",
          "text": [
            "Files already downloaded and verified\n",
            "Files already downloaded and verified\n"
          ]
        }
      ]
    },
    {
      "cell_type": "code",
      "metadata": {
        "id": "mfVy58xnLkM7"
      },
      "source": [
        "fg1, fg2, fg3 = 0,1,2"
      ],
      "execution_count": 55,
      "outputs": []
    },
    {
      "cell_type": "code",
      "metadata": {
        "id": "iyyWx5g58erM"
      },
      "source": [
        "def imshow(img):\n",
        "  img = img / 2 + 0.5     # unnormalize\n",
        "  npimg = img#.numpy()\n",
        "  plt.imshow(np.transpose(npimg, (1, 2, 0)))\n",
        "  plt.show()"
      ],
      "execution_count": 56,
      "outputs": []
    },
    {
      "cell_type": "code",
      "metadata": {
        "colab": {
          "base_uri": "https://localhost:8080/"
        },
        "id": "U5w9S6xb6EFl",
        "outputId": "3920d1e5-5d93-4694-b1e2-b2b4771bb2ec"
      },
      "source": [
        "foreground_data.shape, foreground_label.shape, background_data.shape, background_label.shape"
      ],
      "execution_count": 57,
      "outputs": [
        {
          "output_type": "execute_result",
          "data": {
            "text/plain": [
              "(torch.Size([15000, 3, 32, 32]),\n",
              " torch.Size([15000]),\n",
              " torch.Size([35000, 3, 32, 32]),\n",
              " torch.Size([35000]))"
            ]
          },
          "metadata": {},
          "execution_count": 57
        }
      ]
    },
    {
      "cell_type": "code",
      "metadata": {
        "id": "Sly62nHh6VJy"
      },
      "source": [
        "mean_bg = torch.mean(background_data, dim=0, keepdims= True)\n",
        "std_bg = torch.std(background_data, dim=0, keepdims= True)"
      ],
      "execution_count": 58,
      "outputs": []
    },
    {
      "cell_type": "code",
      "metadata": {
        "colab": {
          "base_uri": "https://localhost:8080/"
        },
        "id": "K89Qj57m6axj",
        "outputId": "98d1038b-7f7e-4164-b03b-407ba12dcea6"
      },
      "source": [
        "mean_bg.shape, std_bg.shape"
      ],
      "execution_count": 59,
      "outputs": [
        {
          "output_type": "execute_result",
          "data": {
            "text/plain": [
              "(torch.Size([1, 3, 32, 32]), torch.Size([1, 3, 32, 32]))"
            ]
          },
          "metadata": {},
          "execution_count": 59
        }
      ]
    },
    {
      "cell_type": "code",
      "metadata": {
        "id": "wGVjRbqZ6lzV"
      },
      "source": [
        "foreground_data = (foreground_data - mean_bg) / std_bg\n",
        "background_data = (background_data - mean_bg) / std_bg"
      ],
      "execution_count": 60,
      "outputs": []
    },
    {
      "cell_type": "code",
      "metadata": {
        "colab": {
          "base_uri": "https://localhost:8080/"
        },
        "id": "yxZVq5OW6o3L",
        "outputId": "00137718-3847-44e4-cd49-79b097924f54"
      },
      "source": [
        "foreground_data.shape, foreground_label.shape, background_data.shape, background_label.shape"
      ],
      "execution_count": 61,
      "outputs": [
        {
          "output_type": "execute_result",
          "data": {
            "text/plain": [
              "(torch.Size([15000, 3, 32, 32]),\n",
              " torch.Size([15000]),\n",
              " torch.Size([35000, 3, 32, 32]),\n",
              " torch.Size([35000]))"
            ]
          },
          "metadata": {},
          "execution_count": 61
        }
      ]
    },
    {
      "cell_type": "code",
      "metadata": {
        "colab": {
          "base_uri": "https://localhost:8080/"
        },
        "id": "pTrGcqI7GsBA",
        "outputId": "139865d4-2f0b-4a27-9706-0931fe1f8f16"
      },
      "source": [
        "torch.sum(torch.isnan(foreground_data)), torch.sum(torch.isnan(background_data))"
      ],
      "execution_count": 62,
      "outputs": [
        {
          "output_type": "execute_result",
          "data": {
            "text/plain": [
              "(tensor(0), tensor(0))"
            ]
          },
          "metadata": {},
          "execution_count": 62
        }
      ]
    },
    {
      "cell_type": "code",
      "metadata": {
        "colab": {
          "base_uri": "https://localhost:8080/",
          "height": 284
        },
        "id": "fIqpbILY-BiG",
        "outputId": "affc4d4a-5456-4d8e-8691-3c6c3874ce06"
      },
      "source": [
        "imshow(foreground_data[0])"
      ],
      "execution_count": 63,
      "outputs": [
        {
          "output_type": "stream",
          "name": "stderr",
          "text": [
            "Clipping input data to the valid range for imshow with RGB data ([0..1] for floats or [0..255] for integers).\n"
          ]
        },
        {
          "output_type": "display_data",
          "data": {
            "image/png": "[encoded data removed]",
            "text/plain": [
              "<Figure size 432x288 with 1 Axes>"
            ]
          },
          "metadata": {
            "needs_background": "light"
          }
        }
      ]
    },
    {
      "cell_type": "code",
      "metadata": {
        "colab": {
          "base_uri": "https://localhost:8080/",
          "height": 284
        },
        "id": "tRvTvlVo98xz",
        "outputId": "9877485d-30ec-4b09-8628-150f6daa0606"
      },
      "source": [
        "imshow(background_data[2])"
      ],
      "execution_count": 64,
      "outputs": [
        {
          "output_type": "stream",
          "name": "stderr",
          "text": [
            "Clipping input data to the valid range for imshow with RGB data ([0..1] for floats or [0..255] for integers).\n"
          ]
        },
        {
          "output_type": "display_data",
          "data": {
            "image/png": "[encoded data removed]",
            "text/plain": [
              "<Figure size 432x288 with 1 Axes>"
            ]
          },
          "metadata": {
            "needs_background": "light"
          }
        }
      ]
    },
    {
      "cell_type": "markdown",
      "metadata": {
        "id": "NPOxPMEe0P-B"
      },
      "source": [
        "## generating CIN train and test data"
      ]
    },
    {
      "cell_type": "code",
      "metadata": {
        "id": "SRhpBoad0LOc"
      },
      "source": [
        "m = 20\n",
        "desired_num = 30000"
      ],
      "execution_count": 65,
      "outputs": []
    },
    {
      "cell_type": "code",
      "metadata": {
        "colab": {
          "base_uri": "https://localhost:8080/"
        },
        "id": "4Vg1hwlP0-gg",
        "outputId": "ba22932b-e2b8-4a2c-ab63-8e123b3d75e3"
      },
      "source": [
        "np.random.seed(0)\n",
        "bg_idx = np.random.randint(0,35000,m-1)\n",
        "fg_idx = np.random.randint(0,15000)\n",
        "bg_idx, fg_idx"
      ],
      "execution_count": 66,
      "outputs": [
        {
          "output_type": "execute_result",
          "data": {
            "text/plain": [
              "(array([ 2732, 21243, 30403, 32103, 20757, 14935, 15430, 14650, 17089,\n",
              "        32230, 18983, 24152, 16921, 27469,  6921,  2163,  5072,  7877,\n",
              "        18430]), 1871)"
            ]
          },
          "metadata": {},
          "execution_count": 66
        }
      ]
    },
    {
      "cell_type": "code",
      "metadata": {
        "colab": {
          "base_uri": "https://localhost:8080/",
          "height": 1000
        },
        "id": "IOxbMpSn126g",
        "outputId": "9e9d3998-1a9d-4597-adb7-30cdca1dbec2"
      },
      "source": [
        "for i in background_data[bg_idx]:\n",
        "  imshow(i)"
      ],
      "execution_count": 67,
      "outputs": [
        {
          "output_type": "stream",
          "name": "stderr",
          "text": [
            "Clipping input data to the valid range for imshow with RGB data ([0..1] for floats or [0..255] for integers).\n"
          ]
        },
        {
          "output_type": "display_data",
          "data": {
            "image/png": "[encoded data removed]",
            "text/plain": [
              "<Figure size 432x288 with 1 Axes>"
            ]
          },
          "metadata": {
            "needs_background": "light"
          }
        },
        {
          "output_type": "stream",
          "name": "stderr",
          "text": [
            "Clipping input data to the valid range for imshow with RGB data ([0..1] for floats or [0..255] for integers).\n"
          ]
        },
        {
          "output_type": "display_data",
          "data": {
            "image/png": "[encoded data removed]",
            "text/plain": [
              "<Figure size 432x288 with 1 Axes>"
            ]
          },
          "metadata": {
            "needs_background": "light"
          }
        },
        {
          "output_type": "stream",
          "name": "stderr",
          "text": [
            "Clipping input data to the valid range for imshow with RGB data ([0..1] for floats or [0..255] for integers).\n"
          ]
        },
        {
          "output_type": "display_data",
          "data": {
            "image/png": "[encoded data removed]",
            "text/plain": [
              "<Figure size 432x288 with 1 Axes>"
            ]
          },
          "metadata": {
            "needs_background": "light"
          }
        },
        {
          "output_type": "stream",
          "name": "stderr",
          "text": [
            "Clipping input data to the valid range for imshow with RGB data ([0..1] for floats or [0..255] for integers).\n"
          ]
        },
        {
          "output_type": "display_data",
          "data": {
            "image/png": "[encoded data removed]",
            "text/plain": [
              "<Figure size 432x288 with 1 Axes>"
            ]
          },
          "metadata": {
            "needs_background": "light"
          }
        },
        {
          "output_type": "stream",
          "name": "stderr",
          "text": [
            "Clipping input data to the valid range for imshow with RGB data ([0..1] for floats or [0..255] for integers).\n"
          ]
        },
        {
          "output_type": "display_data",
          "data": {
            "image/png": "[encoded data removed]",
            "text/plain": [
              "<Figure size 432x288 with 1 Axes>"
            ]
          },
          "metadata": {
            "needs_background": "light"
          }
        },
        {
          "output_type": "stream",
          "name": "stderr",
          "text": [
            "Clipping input data to the valid range for imshow with RGB data ([0..1] for floats or [0..255] for integers).\n"
          ]
        },
        {
          "output_type": "display_data",
          "data": {
            "image/png": "[encoded data removed]",
            "text/plain": [
              "<Figure size 432x288 with 1 Axes>"
            ]
          },
          "metadata": {
            "needs_background": "light"
          }
        },
        {
          "output_type": "stream",
          "name": "stderr",
          "text": [
            "Clipping input data to the valid range for imshow with RGB data ([0..1] for floats or [0..255] for integers).\n"
          ]
        },
        {
          "output_type": "display_data",
          "data": {
            "image/png": "[encoded data removed]",
            "text/plain": [
              "<Figure size 432x288 with 1 Axes>"
            ]
          },
          "metadata": {
            "needs_background": "light"
          }
        },
        {
          "output_type": "stream",
          "name": "stderr",
          "text": [
            "Clipping input data to the valid range for imshow with RGB data ([0..1] for floats or [0..255] for integers).\n"
          ]
        },
        {
          "output_type": "display_data",
          "data": {
            "image/png": "[encoded data removed]",
            "text/plain": [
              "<Figure size 432x288 with 1 Axes>"
            ]
          },
          "metadata": {
            "needs_background": "light"
          }
        },
        {
          "output_type": "stream",
          "name": "stderr",
          "text": [
            "Clipping input data to the valid range for imshow with RGB data ([0..1] for floats or [0..255] for integers).\n"
          ]
        },
        {
          "output_type": "display_data",
          "data": {
            "image/png": "[encoded data removed]",
            "text/plain": [
              "<Figure size 432x288 with 1 Axes>"
            ]
          },
          "metadata": {
            "needs_background": "light"
          }
        },
        {
          "output_type": "stream",
          "name": "stderr",
          "text": [
            "Clipping input data to the valid range for imshow with RGB data ([0..1] for floats or [0..255] for integers).\n"
          ]
        },
        {
          "output_type": "display_data",
          "data": {
            "image/png": "[encoded data removed]",
            "text/plain": [
              "<Figure size 432x288 with 1 Axes>"
            ]
          },
          "metadata": {
            "needs_background": "light"
          }
        },
        {
          "output_type": "stream",
          "name": "stderr",
          "text": [
            "Clipping input data to the valid range for imshow with RGB data ([0..1] for floats or [0..255] for integers).\n"
          ]
        },
        {
          "output_type": "display_data",
          "data": {
            "image/png": "[encoded data removed]",
            "text/plain": [
              "<Figure size 432x288 with 1 Axes>"
            ]
          },
          "metadata": {
            "needs_background": "light"
          }
        },
        {
          "output_type": "stream",
          "name": "stderr",
          "text": [
            "Clipping input data to the valid range for imshow with RGB data ([0..1] for floats or [0..255] for integers).\n"
          ]
        },
        {
          "output_type": "display_data",
          "data": {
            "image/png": "[encoded data removed]",
            "text/plain": [
              "<Figure size 432x288 with 1 Axes>"
            ]
          },
          "metadata": {
            "needs_background": "light"
          }
        },
        {
          "output_type": "stream",
          "name": "stderr",
          "text": [
            "Clipping input data to the valid range for imshow with RGB data ([0..1] for floats or [0..255] for integers).\n"
          ]
        },
        {
          "output_type": "display_data",
          "data": {
            "image/png": "[encoded data removed]",
            "text/plain": [
              "<Figure size 432x288 with 1 Axes>"
            ]
          },
          "metadata": {
            "needs_background": "light"
          }
        },
        {
          "output_type": "stream",
          "name": "stderr",
          "text": [
            "Clipping input data to the valid range for imshow with RGB data ([0..1] for floats or [0..255] for integers).\n"
          ]
        },
        {
          "output_type": "display_data",
          "data": {
            "image/png": "[encoded data removed]",
            "text/plain": [
              "<Figure size 432x288 with 1 Axes>"
            ]
          },
          "metadata": {
            "needs_background": "light"
          }
        },
        {
          "output_type": "stream",
          "name": "stderr",
          "text": [
            "Clipping input data to the valid range for imshow with RGB data ([0..1] for floats or [0..255] for integers).\n"
          ]
        },
        {
          "output_type": "display_data",
          "data": {
            "image/png": "[encoded data removed]",
            "text/plain": [
              "<Figure size 432x288 with 1 Axes>"
            ]
          },
          "metadata": {
            "needs_background": "light"
          }
        },
        {
          "output_type": "stream",
          "name": "stderr",
          "text": [
            "Clipping input data to the valid range for imshow with RGB data ([0..1] for floats or [0..255] for integers).\n"
          ]
        },
        {
          "output_type": "display_data",
          "data": {
            "image/png": "[encoded data removed]",
            "text/plain": [
              "<Figure size 432x288 with 1 Axes>"
            ]
          },
          "metadata": {
            "needs_background": "light"
          }
        },
        {
          "output_type": "stream",
          "name": "stderr",
          "text": [
            "Clipping input data to the valid range for imshow with RGB data ([0..1] for floats or [0..255] for integers).\n"
          ]
        },
        {
          "output_type": "display_data",
          "data": {
            "image/png": "[encoded data removed]",
            "text/plain": [
              "<Figure size 432x288 with 1 Axes>"
            ]
          },
          "metadata": {
            "needs_background": "light"
          }
        },
        {
          "output_type": "stream",
          "name": "stderr",
          "text": [
            "Clipping input data to the valid range for imshow with RGB data ([0..1] for floats or [0..255] for integers).\n"
          ]
        },
        {
          "output_type": "display_data",
          "data": {
            "image/png": "[encoded data removed]",
            "text/plain": [
              "<Figure size 432x288 with 1 Axes>"
            ]
          },
          "metadata": {
            "needs_background": "light"
          }
        },
        {
          "output_type": "stream",
          "name": "stderr",
          "text": [
            "Clipping input data to the valid range for imshow with RGB data ([0..1] for floats or [0..255] for integers).\n"
          ]
        },
        {
          "output_type": "display_data",
          "data": {
            "image/png": "[encoded data removed]",
            "text/plain": [
              "<Figure size 432x288 with 1 Axes>"
            ]
          },
          "metadata": {
            "needs_background": "light"
          }
        }
      ]
    },
    {
      "cell_type": "code",
      "metadata": {
        "colab": {
          "base_uri": "https://localhost:8080/",
          "height": 284
        },
        "id": "dHJanbIF1Fon",
        "outputId": "428c076c-c470-4e0d-a643-b8c5a6124315"
      },
      "source": [
        "imshow(torch.sum(background_data[bg_idx], axis = 0))"
      ],
      "execution_count": 68,
      "outputs": [
        {
          "output_type": "stream",
          "name": "stderr",
          "text": [
            "Clipping input data to the valid range for imshow with RGB data ([0..1] for floats or [0..255] for integers).\n"
          ]
        },
        {
          "output_type": "display_data",
          "data": {
            "image/png": "[encoded data removed]",
            "text/plain": [
              "<Figure size 432x288 with 1 Axes>"
            ]
          },
          "metadata": {
            "needs_background": "light"
          }
        }
      ]
    },
    {
      "cell_type": "code",
      "metadata": {
        "colab": {
          "base_uri": "https://localhost:8080/",
          "height": 284
        },
        "id": "ZT0h2FmO2CiH",
        "outputId": "f3583779-7bdc-4638-8a00-d260abe8f13f"
      },
      "source": [
        "imshow(foreground_data[fg_idx])"
      ],
      "execution_count": 69,
      "outputs": [
        {
          "output_type": "stream",
          "name": "stderr",
          "text": [
            "Clipping input data to the valid range for imshow with RGB data ([0..1] for floats or [0..255] for integers).\n"
          ]
        },
        {
          "output_type": "display_data",
          "data": {
            "image/png": "[encoded data removed]",
            "text/plain": [
              "<Figure size 432x288 with 1 Axes>"
            ]
          },
          "metadata": {
            "needs_background": "light"
          }
        }
      ]
    },
    {
      "cell_type": "code",
      "metadata": {
        "colab": {
          "base_uri": "https://localhost:8080/"
        },
        "id": "6NsL6KKD2OoH",
        "outputId": "3b0162d7-7e92-46c3-df20-f4929668b1bc"
      },
      "source": [
        "tr_data = ( torch.sum(background_data[bg_idx], axis = 0) + foreground_data[fg_idx] )/m\n",
        "tr_data.shape"
      ],
      "execution_count": 70,
      "outputs": [
        {
          "output_type": "execute_result",
          "data": {
            "text/plain": [
              "torch.Size([3, 32, 32])"
            ]
          },
          "metadata": {},
          "execution_count": 70
        }
      ]
    },
    {
      "cell_type": "code",
      "metadata": {
        "colab": {
          "base_uri": "https://localhost:8080/",
          "height": 266
        },
        "id": "xItMJ5dy2iDy",
        "outputId": "dde3d35d-63ff-42db-9a54-dc68342f3883"
      },
      "source": [
        "imshow(tr_data)"
      ],
      "execution_count": 71,
      "outputs": [
        {
          "output_type": "display_data",
          "data": {
            "image/png": "[encoded data removed]",
            "text/plain": [
              "<Figure size 432x288 with 1 Axes>"
            ]
          },
          "metadata": {
            "needs_background": "light"
          }
        }
      ]
    },
    {
      "cell_type": "code",
      "metadata": {
        "colab": {
          "base_uri": "https://localhost:8080/"
        },
        "id": "w-RwePOU3EjA",
        "outputId": "da94ac0c-4dda-440c-eff6-31c6e9b8ce7e"
      },
      "source": [
        "foreground_label[fg_idx]"
      ],
      "execution_count": 72,
      "outputs": [
        {
          "output_type": "execute_result",
          "data": {
            "text/plain": [
              "tensor(2)"
            ]
          },
          "metadata": {},
          "execution_count": 72
        }
      ]
    },
    {
      "cell_type": "code",
      "metadata": {
        "id": "eqk-YE9A0gtB"
      },
      "source": [
        "train_images =[]      # list of mosaic images, each mosaic image is saved as list of 9 images             \n",
        "train_label=[]                # label of mosaic image = foreground class present in that mosaic\n",
        "\n",
        "for i in range(desired_num):\n",
        "  np.random.seed(i)\n",
        "  bg_idx = np.random.randint(0,35000,m-1)\n",
        "  fg_idx = np.random.randint(0,15000)\n",
        "\n",
        "  tr_data = ( torch.sum(background_data[bg_idx], axis = 0) + foreground_data[fg_idx] ) / m\n",
        "  label = (foreground_label[fg_idx].item())\n",
        "\n",
        "  train_images.append(tr_data)\n",
        "  train_label.append(label)\n"
      ],
      "execution_count": 73,
      "outputs": []
    },
    {
      "cell_type": "code",
      "metadata": {
        "colab": {
          "base_uri": "https://localhost:8080/"
        },
        "id": "23hF67Hb3ioz",
        "outputId": "c3ab89a1-2a14-47c7-83fd-91465e5af9ab"
      },
      "source": [
        "train_images = torch.stack(train_images)\n",
        "train_images.shape, len(train_label)"
      ],
      "execution_count": 74,
      "outputs": [
        {
          "output_type": "execute_result",
          "data": {
            "text/plain": [
              "(torch.Size([30000, 3, 32, 32]), 30000)"
            ]
          },
          "metadata": {},
          "execution_count": 74
        }
      ]
    },
    {
      "cell_type": "code",
      "metadata": {
        "colab": {
          "base_uri": "https://localhost:8080/",
          "height": 266
        },
        "id": "eWIah23w5Tf3",
        "outputId": "587ee5a9-f849-4fa0-9791-39a09c0a5b05"
      },
      "source": [
        "imshow(train_images[0])"
      ],
      "execution_count": 75,
      "outputs": [
        {
          "output_type": "display_data",
          "data": {
            "image/png": "[encoded data removed]",
            "text/plain": [
              "<Figure size 432x288 with 1 Axes>"
            ]
          },
          "metadata": {
            "needs_background": "light"
          }
        }
      ]
    },
    {
      "cell_type": "code",
      "metadata": {
        "id": "y2LgVhv64TbG"
      },
      "source": [
        "test_images =[]      # list of mosaic images, each mosaic image is saved as list of 9 images             \n",
        "test_label=[]                # label of mosaic image = foreground class present in that mosaic\n",
        "\n",
        "for i in range(10000):\n",
        "  np.random.seed(i)\n",
        "  fg_idx = np.random.randint(0,15000)\n",
        "\n",
        "  tr_data = ( foreground_data[fg_idx] ) / m\n",
        "  label = (foreground_label[fg_idx].item())\n",
        "\n",
        "  test_images.append(tr_data)\n",
        "  test_label.append(label)\n"
      ],
      "execution_count": 76,
      "outputs": []
    },
    {
      "cell_type": "code",
      "metadata": {
        "colab": {
          "base_uri": "https://localhost:8080/"
        },
        "id": "ZeFlUKSw4knK",
        "outputId": "610c9dc0-fef5-4cf5-e8a0-0b3e55713cde"
      },
      "source": [
        "test_images = torch.stack(test_images)\n",
        "test_images.shape, len(test_label)"
      ],
      "execution_count": 77,
      "outputs": [
        {
          "output_type": "execute_result",
          "data": {
            "text/plain": [
              "(torch.Size([10000, 3, 32, 32]), 10000)"
            ]
          },
          "metadata": {},
          "execution_count": 77
        }
      ]
    },
    {
      "cell_type": "code",
      "metadata": {
        "colab": {
          "base_uri": "https://localhost:8080/",
          "height": 266
        },
        "id": "ZQbTT2qVMPTE",
        "outputId": "e88800a2-85f8-4219-d914-aa0c699c42a9"
      },
      "source": [
        "imshow(test_images[0])"
      ],
      "execution_count": 78,
      "outputs": [
        {
          "output_type": "display_data",
          "data": {
            "image/png": "[encoded data removed]",
            "text/plain": [
              "<Figure size 432x288 with 1 Axes>"
            ]
          },
          "metadata": {
            "needs_background": "light"
          }
        }
      ]
    },
    {
      "cell_type": "code",
      "metadata": {
        "colab": {
          "base_uri": "https://localhost:8080/"
        },
        "id": "LaUSQrnBFzud",
        "outputId": "960ff0d6-eeae-4e19-896c-dbf7f05ebecc"
      },
      "source": [
        "torch.sum(torch.isnan(train_images)), torch.sum(torch.isnan(test_images))"
      ],
      "execution_count": 79,
      "outputs": [
        {
          "output_type": "execute_result",
          "data": {
            "text/plain": [
              "(tensor(0), tensor(0))"
            ]
          },
          "metadata": {},
          "execution_count": 79
        }
      ]
    },
    {
      "cell_type": "code",
      "metadata": {
        "colab": {
          "base_uri": "https://localhost:8080/"
        },
        "id": "sQHvecSl7bso",
        "outputId": "38d75dab-8298-4e4a-fa4a-53ac21256522"
      },
      "source": [
        "np.unique(train_label), np.unique(test_label)"
      ],
      "execution_count": 80,
      "outputs": [
        {
          "output_type": "execute_result",
          "data": {
            "text/plain": [
              "(array([0, 1, 2]), array([0, 1, 2]))"
            ]
          },
          "metadata": {},
          "execution_count": 80
        }
      ]
    },
    {
      "cell_type": "markdown",
      "metadata": {
        "id": "wu4JV_4F6xYO"
      },
      "source": [
        "## creating dataloader"
      ]
    },
    {
      "cell_type": "code",
      "metadata": {
        "id": "AJuGak6_zXgx"
      },
      "source": [
        "class CIN_Dataset(Dataset):\n",
        "  \"\"\"CIN_Dataset dataset.\"\"\"\n",
        "\n",
        "  def __init__(self, list_of_images, labels):\n",
        "    \"\"\"\n",
        "      Args:\n",
        "        csv_file (string): Path to the csv file with annotations.\n",
        "        root_dir (string): Directory with all the images.\n",
        "        transform (callable, optional): Optional transform to be applied\n",
        "            on a sample.\n",
        "    \"\"\"\n",
        "    self.image = list_of_images\n",
        "    self.label = labels\n",
        "\n",
        "  def __len__(self):\n",
        "    return len(self.label)\n",
        "\n",
        "  def __getitem__(self, idx):\n",
        "    return self.image[idx] , self.label[idx]\n",
        "\n"
      ],
      "execution_count": 81,
      "outputs": []
    },
    {
      "cell_type": "code",
      "metadata": {
        "id": "ckIH5YcU6lo2"
      },
      "source": [
        "batch = 250\n",
        "train_data = CIN_Dataset(train_images, train_label)\n",
        "train_loader = DataLoader( train_data, batch_size= batch , shuffle=True)\n",
        "\n",
        "test_data = CIN_Dataset( test_images , test_label)\n",
        "test_loader = DataLoader( test_data, batch_size= batch , shuffle=False)"
      ],
      "execution_count": 82,
      "outputs": []
    },
    {
      "cell_type": "code",
      "metadata": {
        "colab": {
          "base_uri": "https://localhost:8080/"
        },
        "id": "_-mYFWJT66yf",
        "outputId": "a0b23133-4f58-4c4a-8924-f51e7463285e"
      },
      "source": [
        "train_loader.dataset.image.shape, test_loader.dataset.image.shape"
      ],
      "execution_count": 83,
      "outputs": [
        {
          "output_type": "execute_result",
          "data": {
            "text/plain": [
              "(torch.Size([30000, 3, 32, 32]), torch.Size([10000, 3, 32, 32]))"
            ]
          },
          "metadata": {},
          "execution_count": 83
        }
      ]
    },
    {
      "cell_type": "markdown",
      "metadata": {
        "id": "QB_xKOIaA4U8"
      },
      "source": [
        "## model"
      ]
    },
    {
      "cell_type": "code",
      "metadata": {
        "id": "KoP6hoBqNJxX"
      },
      "source": [
        "class Classification(nn.Module):\n",
        "  def __init__(self):\n",
        "    super(Classification, self).__init__()\n",
        "    self.conv1 = nn.Conv2d(3, 6, 5)\n",
        "    self.pool = nn.MaxPool2d(2, 2)\n",
        "    self.conv2 = nn.Conv2d(6, 16, 5)\n",
        "    self.fc1 = nn.Linear(16 * 5 * 5, 120)\n",
        "    self.fc2 = nn.Linear(120, 84)\n",
        "    self.fc3 = nn.Linear(84, 10)\n",
        "    self.fc4 = nn.Linear(10,3)\n",
        "\n",
        "    torch.nn.init.xavier_normal_(self.conv1.weight)\n",
        "    torch.nn.init.zeros_(self.conv1.bias)\n",
        "    torch.nn.init.xavier_normal_(self.conv2.weight)\n",
        "    torch.nn.init.zeros_(self.conv2.bias)\n",
        "    torch.nn.init.xavier_normal_(self.fc1.weight)\n",
        "    torch.nn.init.zeros_(self.fc1.bias)\n",
        "    torch.nn.init.xavier_normal_(self.fc2.weight)\n",
        "    torch.nn.init.zeros_(self.fc2.bias)\n",
        "    torch.nn.init.xavier_normal_(self.fc3.weight)\n",
        "    torch.nn.init.zeros_(self.fc3.bias)\n",
        "    torch.nn.init.xavier_normal_(self.fc4.weight)\n",
        "    torch.nn.init.zeros_(self.fc4.bias)\n",
        "\n",
        "  def forward(self,z): \n",
        "    y1 = self.pool(F.relu(self.conv1(z)))\n",
        "    y1 = self.pool(F.relu(self.conv2(y1)))\n",
        "    y1 = y1.view(-1, 16 * 5 * 5)\n",
        "\n",
        "    y1 = F.relu(self.fc1(y1))\n",
        "    y1 = F.relu(self.fc2(y1))\n",
        "    y1 = F.relu(self.fc3(y1))\n",
        "    y1 = self.fc4(y1)\n",
        "    return y1 "
      ],
      "execution_count": 84,
      "outputs": []
    },
    {
      "cell_type": "code",
      "metadata": {
        "id": "uPYplUGazU9I"
      },
      "source": [
        "torch.manual_seed(13)\n",
        "classify = Classification().double()\n",
        "classify = classify.to(\"cuda\")"
      ],
      "execution_count": 85,
      "outputs": []
    },
    {
      "cell_type": "markdown",
      "metadata": {
        "id": "aSYvs7FAA76j"
      },
      "source": [
        "## training"
      ]
    },
    {
      "cell_type": "code",
      "metadata": {
        "id": "n5g3geNJ5zEu"
      },
      "source": [
        "import torch.optim as optim\n",
        "criterion = nn.CrossEntropyLoss()\n",
        "optimizer_classify = optim.Adam(classify.parameters(), lr=0.001  ) #, momentum=0.9)"
      ],
      "execution_count": 86,
      "outputs": []
    },
    {
      "cell_type": "code",
      "metadata": {
        "id": "4ZZ-kb-aaPv7",
        "colab": {
          "base_uri": "https://localhost:8080/"
        },
        "outputId": "2eff10de-81d1-4299-f1ce-636c52837f7d"
      },
      "source": [
        "correct = 0\n",
        "total = 0\n",
        "count = 0\n",
        "flag = 1\n",
        "\n",
        "with torch.no_grad():\n",
        "  for data in train_loader:\n",
        "    inputs, labels = data\n",
        "    inputs = inputs.double()\n",
        "    inputs, labels  = inputs.to(\"cuda\"),labels.to(\"cuda\")\n",
        "\n",
        "    outputs = classify(inputs)\n",
        "\n",
        "    _, predicted = torch.max(outputs.data, 1)\n",
        "\n",
        "    total += labels.size(0)\n",
        "    correct += (predicted == labels).sum().item()\n",
        "\n",
        "print('Accuracy of the network on the %d train images: %d %%' % ( desired_num , 100 * correct / total))\n",
        "print(\"total correct\", correct)\n",
        "print(\"total train set images\", total)"
      ],
      "execution_count": 87,
      "outputs": [
        {
          "output_type": "stream",
          "name": "stdout",
          "text": [
            "Accuracy of the network on the 30000 train images: 33 %\n",
            "total correct 9930\n",
            "total train set images 30000\n"
          ]
        }
      ]
    },
    {
      "cell_type": "code",
      "metadata": {
        "id": "TNd3Qz_RaPmK",
        "colab": {
          "base_uri": "https://localhost:8080/"
        },
        "outputId": "3597bbca-8bfc-4e0c-86b4-454e61dd6d84"
      },
      "source": [
        "correct = 0\n",
        "total = 0\n",
        "count = 0\n",
        "flag = 1\n",
        "\n",
        "with torch.no_grad():\n",
        "  for data in test_loader:\n",
        "    inputs, labels = data\n",
        "    inputs = inputs.double()\n",
        "    inputs, labels  = inputs.to(\"cuda\"),labels.to(\"cuda\")\n",
        "\n",
        "    outputs = classify(inputs)\n",
        "\n",
        "    _, predicted = torch.max(outputs.data, 1)\n",
        "\n",
        "    total += labels.size(0)\n",
        "    correct += (predicted == labels).sum().item()\n",
        "\n",
        "print('Accuracy of the network on the %d train images: %d %%' % ( 10000 , 100 * correct / total))\n",
        "print(\"total correct\", correct)\n",
        "print(\"total train set images\", total)"
      ],
      "execution_count": 88,
      "outputs": [
        {
          "output_type": "stream",
          "name": "stdout",
          "text": [
            "Accuracy of the network on the 10000 train images: 34 %\n",
            "total correct 3410\n",
            "total train set images 10000\n"
          ]
        }
      ]
    },
    {
      "cell_type": "code",
      "metadata": {
        "id": "tFfAJZkcZEsY",
        "colab": {
          "base_uri": "https://localhost:8080/"
        },
        "outputId": "2fdba686-4209-4c9b-fabd-cfccc9b03738"
      },
      "source": [
        "nos_epochs = 200\n",
        "tr_loss = []\n",
        "for epoch in range(nos_epochs):  # loop over the dataset multiple times\n",
        "\n",
        "  epoch_loss = []\n",
        "  cnt=0\n",
        "  iteration = desired_num // batch\n",
        "  running_loss = 0\n",
        "  \n",
        "  #training data set  \n",
        "  for i, data in  enumerate(train_loader):\n",
        "    inputs, labels = data\n",
        "    inputs = inputs.double()\n",
        "    inputs, labels  = inputs.to(\"cuda\"),labels.to(\"cuda\")\n",
        "    inputs = inputs.double()\n",
        "    # zero the parameter gradients\n",
        "    \n",
        "    optimizer_classify.zero_grad()\n",
        "\n",
        "    outputs = classify(inputs)\n",
        "\n",
        "    _, predicted = torch.max(outputs.data, 1)\n",
        "#     print(outputs)\n",
        "#     print(outputs.shape,labels.shape , torch.argmax(outputs, dim=1))\n",
        "\n",
        "    loss = criterion(outputs, labels) \n",
        "    loss.backward()\n",
        "\n",
        "    optimizer_classify.step()\n",
        "\n",
        "    running_loss += loss.item()\n",
        "    mini = 20\n",
        "    if cnt % mini == mini-1:    # print every 40 mini-batches\n",
        "      # print('[%d, %5d] loss: %.3f' %(epoch + 1, cnt + 1, running_loss / mini))\n",
        "      epoch_loss.append(running_loss/mini)\n",
        "      running_loss = 0.0\n",
        "    cnt=cnt+1\n",
        "\n",
        "  tr_loss.append(np.mean(epoch_loss))\n",
        "  if(np.mean(epoch_loss) <= 0.001):\n",
        "      break;\n",
        "  else:\n",
        "    print('[Epoch : %d] loss: %.3f' %(epoch + 1, np.mean(epoch_loss) ))\n",
        "    \n",
        "print('Finished Training')"
      ],
      "execution_count": 89,
      "outputs": [
        {
          "output_type": "stream",
          "name": "stdout",
          "text": [
            "[Epoch : 1] loss: 1.088\n",
            "[Epoch : 2] loss: 1.078\n",
            "[Epoch : 3] loss: 1.072\n",
            "[Epoch : 4] loss: 1.068\n",
            "[Epoch : 5] loss: 1.064\n",
            "[Epoch : 6] loss: 1.057\n",
            "[Epoch : 7] loss: 1.053\n",
            "[Epoch : 8] loss: 1.046\n",
            "[Epoch : 9] loss: 1.038\n",
            "[Epoch : 10] loss: 1.028\n",
            "[Epoch : 11] loss: 1.016\n",
            "[Epoch : 12] loss: 1.003\n",
            "[Epoch : 13] loss: 0.982\n",
            "[Epoch : 14] loss: 0.960\n",
            "[Epoch : 15] loss: 0.932\n",
            "[Epoch : 16] loss: 0.901\n",
            "[Epoch : 17] loss: 0.864\n",
            "[Epoch : 18] loss: 0.822\n",
            "[Epoch : 19] loss: 0.782\n",
            "[Epoch : 20] loss: 0.737\n",
            "[Epoch : 21] loss: 0.691\n",
            "[Epoch : 22] loss: 0.650\n",
            "[Epoch : 23] loss: 0.601\n",
            "[Epoch : 24] loss: 0.562\n",
            "[Epoch : 25] loss: 0.520\n",
            "[Epoch : 26] loss: 0.473\n",
            "[Epoch : 27] loss: 0.440\n",
            "[Epoch : 28] loss: 0.406\n",
            "[Epoch : 29] loss: 0.369\n",
            "[Epoch : 30] loss: 0.357\n",
            "[Epoch : 31] loss: 0.324\n",
            "[Epoch : 32] loss: 0.291\n",
            "[Epoch : 33] loss: 0.278\n",
            "[Epoch : 34] loss: 0.247\n",
            "[Epoch : 35] loss: 0.225\n",
            "[Epoch : 36] loss: 0.200\n",
            "[Epoch : 37] loss: 0.191\n",
            "[Epoch : 38] loss: 0.187\n",
            "[Epoch : 39] loss: 0.170\n",
            "[Epoch : 40] loss: 0.171\n",
            "[Epoch : 41] loss: 0.154\n",
            "[Epoch : 42] loss: 0.170\n",
            "[Epoch : 43] loss: 0.146\n",
            "[Epoch : 44] loss: 0.127\n",
            "[Epoch : 45] loss: 0.120\n",
            "[Epoch : 46] loss: 0.123\n",
            "[Epoch : 47] loss: 0.115\n",
            "[Epoch : 48] loss: 0.108\n",
            "[Epoch : 49] loss: 0.109\n",
            "[Epoch : 50] loss: 0.097\n",
            "[Epoch : 51] loss: 0.101\n",
            "[Epoch : 52] loss: 0.102\n",
            "[Epoch : 53] loss: 0.101\n",
            "[Epoch : 54] loss: 0.104\n",
            "[Epoch : 55] loss: 0.087\n",
            "[Epoch : 56] loss: 0.077\n",
            "[Epoch : 57] loss: 0.098\n",
            "[Epoch : 58] loss: 0.091\n",
            "[Epoch : 59] loss: 0.063\n",
            "[Epoch : 60] loss: 0.058\n",
            "[Epoch : 61] loss: 0.061\n",
            "[Epoch : 62] loss: 0.086\n",
            "[Epoch : 63] loss: 0.125\n",
            "[Epoch : 64] loss: 0.098\n",
            "[Epoch : 65] loss: 0.069\n",
            "[Epoch : 66] loss: 0.042\n",
            "[Epoch : 67] loss: 0.030\n",
            "[Epoch : 68] loss: 0.019\n",
            "[Epoch : 69] loss: 0.028\n",
            "[Epoch : 70] loss: 0.105\n",
            "[Epoch : 71] loss: 0.162\n",
            "[Epoch : 72] loss: 0.098\n",
            "[Epoch : 73] loss: 0.053\n",
            "[Epoch : 74] loss: 0.034\n",
            "[Epoch : 75] loss: 0.020\n",
            "[Epoch : 76] loss: 0.012\n",
            "[Epoch : 77] loss: 0.007\n",
            "[Epoch : 78] loss: 0.005\n",
            "[Epoch : 79] loss: 0.003\n",
            "[Epoch : 80] loss: 0.003\n",
            "[Epoch : 81] loss: 0.002\n",
            "[Epoch : 82] loss: 0.002\n",
            "[Epoch : 83] loss: 0.002\n",
            "[Epoch : 84] loss: 0.001\n",
            "[Epoch : 85] loss: 0.001\n",
            "[Epoch : 86] loss: 0.001\n",
            "[Epoch : 87] loss: 0.001\n",
            "Finished Training\n"
          ]
        }
      ]
    },
    {
      "cell_type": "code",
      "metadata": {
        "colab": {
          "base_uri": "https://localhost:8080/",
          "height": 284
        },
        "id": "6xlUH59C_Ee_",
        "outputId": "7c3183f1-a1f4-4859-b2d5-6877b83f62b2"
      },
      "source": [
        "plt.plot(tr_loss)"
      ],
      "execution_count": 90,
      "outputs": [
        {
          "output_type": "execute_result",
          "data": {
            "text/plain": [
              "[<matplotlib.lines.Line2D at 0x7f7cf84d3310>]"
            ]
          },
          "metadata": {},
          "execution_count": 90
        },
        {
          "output_type": "display_data",
          "data": {
            "image/png": "[encoded data removed]",
            "text/plain": [
              "<Figure size 432x288 with 1 Axes>"
            ]
          },
          "metadata": {
            "needs_background": "light"
          }
        }
      ]
    },
    {
      "cell_type": "code",
      "metadata": {
        "colab": {
          "base_uri": "https://localhost:8080/"
        },
        "id": "INq6r_ld9vX1",
        "outputId": "aae102f1-93b7-45a0-dd14-9e9337bd326b"
      },
      "source": [
        "correct = 0\n",
        "total = 0\n",
        "count = 0\n",
        "flag = 1\n",
        "\n",
        "with torch.no_grad():\n",
        "  for data in train_loader:\n",
        "    inputs, labels = data\n",
        "    inputs = inputs.double()\n",
        "    inputs, labels  = inputs.to(\"cuda\"),labels.to(\"cuda\")\n",
        "\n",
        "    outputs = classify(inputs)\n",
        "\n",
        "    _, predicted = torch.max(outputs.data, 1)\n",
        "\n",
        "    total += labels.size(0)\n",
        "    correct += (predicted == labels).sum().item()\n",
        "\n",
        "print('Accuracy of the network on the %d train images: %f %%' % ( desired_num , 100 * correct / total))\n",
        "print(\"total correct\", correct)\n",
        "print(\"total train set images\", total)"
      ],
      "execution_count": 91,
      "outputs": [
        {
          "output_type": "stream",
          "name": "stdout",
          "text": [
            "Accuracy of the network on the 30000 train images: 100.000000 %\n",
            "total correct 30000\n",
            "total train set images 30000\n"
          ]
        }
      ]
    },
    {
      "cell_type": "code",
      "metadata": {
        "colab": {
          "base_uri": "https://localhost:8080/"
        },
        "id": "-HNFmO9Z9vX7",
        "outputId": "82afe35f-975e-4103-a83e-808ff487d438"
      },
      "source": [
        "correct = 0\n",
        "total = 0\n",
        "count = 0\n",
        "flag = 1\n",
        "\n",
        "with torch.no_grad():\n",
        "  for data in test_loader:\n",
        "    inputs, labels = data\n",
        "    inputs = inputs.double()\n",
        "    inputs, labels  = inputs.to(\"cuda\"),labels.to(\"cuda\")\n",
        "\n",
        "    outputs = classify(inputs)\n",
        "\n",
        "    _, predicted = torch.max(outputs.data, 1)\n",
        "\n",
        "    total += labels.size(0)\n",
        "    correct += (predicted == labels).sum().item()\n",
        "\n",
        "print('Accuracy of the network on the %d train images: %f %%' % ( 10000 , 100 * correct / total))\n",
        "print(\"total correct\", correct)\n",
        "print(\"total train set images\", total)"
      ],
      "execution_count": 92,
      "outputs": [
        {
          "output_type": "stream",
          "name": "stdout",
          "text": [
            "Accuracy of the network on the 10000 train images: 38.600000 %\n",
            "total correct 3860\n",
            "total train set images 10000\n"
          ]
        }
      ]
    },
    {
      "cell_type": "code",
      "metadata": {
        "id": "dSsZLhV39xS9"
      },
      "source": [
        ""
      ],
      "execution_count": 92,
      "outputs": []
    }
  ]
}