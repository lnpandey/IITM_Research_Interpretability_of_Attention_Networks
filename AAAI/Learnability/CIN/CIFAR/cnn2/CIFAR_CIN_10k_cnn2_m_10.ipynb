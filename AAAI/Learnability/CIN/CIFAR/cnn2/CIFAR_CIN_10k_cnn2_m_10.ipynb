{
  "nbformat": 4,
  "nbformat_minor": 0,
  "metadata": {
    "accelerator": "GPU",
    "colab": {
      "name": "CIFAR_CIN_30k_cnn2_m_5.ipynb",
      "provenance": [],
      "collapsed_sections": [],
      "toc_visible": true,
      "machine_shape": "hm"
    },
    "kernelspec": {
      "display_name": "Python 3",
      "language": "python",
      "name": "python3"
    },
    "language_info": {
      "codemirror_mode": {
        "name": "ipython",
        "version": 3
      },
      "file_extension": ".py",
      "mimetype": "text/x-python",
      "name": "python",
      "nbconvert_exporter": "python",
      "pygments_lexer": "ipython3",
      "version": "3.6.5"
    }
  },
  "cells": [
    {
      "cell_type": "code",
      "metadata": {
        "id": "JSjG64ra4aFu"
      },
      "source": [
        "# from google.colab import drive\n",
        "# drive.mount('/content/drive')"
      ],
      "execution_count": 123,
      "outputs": []
    },
    {
      "cell_type": "code",
      "metadata": {
        "id": "3uDWznlVHuI6"
      },
      "source": [
        "# path = \"/content/drive/MyDrive/Research/cods_comad_plots/sdc_task/cifar/\""
      ],
      "execution_count": 124,
      "outputs": []
    },
    {
      "cell_type": "code",
      "metadata": {
        "id": "V8-7SARDZErK"
      },
      "source": [
        "import torch.nn as nn\n",
        "import torch.nn.functional as F\n",
        "\n",
        "import pandas as pd\n",
        "import numpy as np\n",
        "import matplotlib.pyplot as plt\n",
        "\n",
        "import torch\n",
        "import torchvision\n",
        "import torchvision.transforms as transforms\n",
        "from torch.utils.data import Dataset, DataLoader\n",
        "from torchvision import transforms, utils\n",
        "\n",
        "from matplotlib import pyplot as plt\n",
        "\n",
        "import copy\n",
        "\n",
        "# Ignore warnings\n",
        "import warnings\n",
        "warnings.filterwarnings(\"ignore\")\n",
        "\n",
        "torch.backends.cudnn.deterministic = True\n",
        "torch.backends.cudnn.benchmark = False\n"
      ],
      "execution_count": 125,
      "outputs": []
    },
    {
      "cell_type": "code",
      "metadata": {
        "id": "acRFqJNrZErV",
        "colab": {
          "base_uri": "https://localhost:8080/"
        },
        "outputId": "d5d0f842-46c2-4670-effc-a9dcd81e6bd6"
      },
      "source": [
        "transform = transforms.Compose(\n",
        "    [transforms.ToTensor(),\n",
        "     transforms.Normalize((0.5, 0.5, 0.5), (0.5, 0.5, 0.5))])\n",
        "\n",
        "trainset = torchvision.datasets.CIFAR10(root='./data', train=True, download=True, transform=transform)\n",
        "\n",
        "\n",
        "testset = torchvision.datasets.CIFAR10(root='./data', train=False, download=True, transform=transform)\n",
        "\n",
        "trainloader = torch.utils.data.DataLoader(trainset, batch_size=10, shuffle=False)\n",
        "testloader = torch.utils.data.DataLoader(testset, batch_size=10, shuffle=False)\n",
        "\n",
        "\n",
        "classes = ('plane', 'car', 'bird', 'cat', 'deer', 'dog', 'frog', 'horse', 'ship', 'truck')\n",
        "\n",
        "foreground_classes = {'plane', 'car', 'bird'}\n",
        "\n",
        "background_classes = {'cat', 'deer', 'dog', 'frog', 'horse','ship', 'truck'}\n",
        "\n",
        "# print(type(foreground_classes))\n",
        "\n",
        "dataiter = iter(trainloader)\n",
        "background_data=[]\n",
        "background_label=[]\n",
        "foreground_data=[]\n",
        "foreground_label=[]\n",
        "batch_size=10\n",
        "\n",
        "for i in range(5000):   #5000*batch_size = 50000 data points\n",
        "  images, labels = dataiter.next()\n",
        "  for j in range(batch_size):\n",
        "    if(classes[labels[j]] in background_classes):\n",
        "      img = images[j].tolist()\n",
        "      background_data.append(img)\n",
        "      background_label.append(labels[j])\n",
        "    else:\n",
        "      img = images[j].tolist()\n",
        "      foreground_data.append(img)\n",
        "      foreground_label.append(labels[j])\n",
        "            \n",
        "foreground_data = torch.tensor(foreground_data)\n",
        "foreground_label = torch.tensor(foreground_label)\n",
        "background_data = torch.tensor(background_data)\n",
        "background_label = torch.tensor(background_label)\n",
        "    \n",
        "  "
      ],
      "execution_count": 126,
      "outputs": [
        {
          "output_type": "stream",
          "name": "stdout",
          "text": [
            "Files already downloaded and verified\n",
            "Files already downloaded and verified\n"
          ]
        }
      ]
    },
    {
      "cell_type": "code",
      "metadata": {
        "id": "mfVy58xnLkM7"
      },
      "source": [
        "fg1, fg2, fg3 = 0,1,2"
      ],
      "execution_count": 127,
      "outputs": []
    },
    {
      "cell_type": "code",
      "metadata": {
        "id": "iyyWx5g58erM"
      },
      "source": [
        "def imshow(img):\n",
        "  img = img / 2 + 0.5     # unnormalize\n",
        "  npimg = img#.numpy()\n",
        "  plt.imshow(np.transpose(npimg, (1, 2, 0)))\n",
        "  plt.show()"
      ],
      "execution_count": 128,
      "outputs": []
    },
    {
      "cell_type": "code",
      "metadata": {
        "colab": {
          "base_uri": "https://localhost:8080/"
        },
        "id": "U5w9S6xb6EFl",
        "outputId": "5b6a90f2-c06c-49c8-8fa3-a87d34589ee5"
      },
      "source": [
        "foreground_data.shape, foreground_label.shape, background_data.shape, background_label.shape"
      ],
      "execution_count": 129,
      "outputs": [
        {
          "output_type": "execute_result",
          "data": {
            "text/plain": [
              "(torch.Size([15000, 3, 32, 32]),\n",
              " torch.Size([15000]),\n",
              " torch.Size([35000, 3, 32, 32]),\n",
              " torch.Size([35000]))"
            ]
          },
          "metadata": {},
          "execution_count": 129
        }
      ]
    },
    {
      "cell_type": "code",
      "metadata": {
        "id": "Sly62nHh6VJy"
      },
      "source": [
        "mean_bg = torch.mean(background_data, dim=0, keepdims= True)\n",
        "std_bg = torch.std(background_data, dim=0, keepdims= True)"
      ],
      "execution_count": 130,
      "outputs": []
    },
    {
      "cell_type": "code",
      "metadata": {
        "colab": {
          "base_uri": "https://localhost:8080/"
        },
        "id": "K89Qj57m6axj",
        "outputId": "c98a0182-260d-4637-b419-ee0710d2e8fc"
      },
      "source": [
        "mean_bg.shape, std_bg.shape"
      ],
      "execution_count": 131,
      "outputs": [
        {
          "output_type": "execute_result",
          "data": {
            "text/plain": [
              "(torch.Size([1, 3, 32, 32]), torch.Size([1, 3, 32, 32]))"
            ]
          },
          "metadata": {},
          "execution_count": 131
        }
      ]
    },
    {
      "cell_type": "code",
      "metadata": {
        "id": "wGVjRbqZ6lzV"
      },
      "source": [
        "foreground_data = (foreground_data - mean_bg) / std_bg\n",
        "background_data = (background_data - mean_bg) / std_bg"
      ],
      "execution_count": 132,
      "outputs": []
    },
    {
      "cell_type": "code",
      "metadata": {
        "colab": {
          "base_uri": "https://localhost:8080/"
        },
        "id": "yxZVq5OW6o3L",
        "outputId": "ff24868f-1002-4ac3-d9f0-9a6580738611"
      },
      "source": [
        "foreground_data.shape, foreground_label.shape, background_data.shape, background_label.shape"
      ],
      "execution_count": 133,
      "outputs": [
        {
          "output_type": "execute_result",
          "data": {
            "text/plain": [
              "(torch.Size([15000, 3, 32, 32]),\n",
              " torch.Size([15000]),\n",
              " torch.Size([35000, 3, 32, 32]),\n",
              " torch.Size([35000]))"
            ]
          },
          "metadata": {},
          "execution_count": 133
        }
      ]
    },
    {
      "cell_type": "code",
      "metadata": {
        "colab": {
          "base_uri": "https://localhost:8080/"
        },
        "id": "pTrGcqI7GsBA",
        "outputId": "aabd0bb6-c5db-4b6e-94f7-6bf0a87f3e1b"
      },
      "source": [
        "torch.sum(torch.isnan(foreground_data)), torch.sum(torch.isnan(background_data))"
      ],
      "execution_count": 134,
      "outputs": [
        {
          "output_type": "execute_result",
          "data": {
            "text/plain": [
              "(tensor(0), tensor(0))"
            ]
          },
          "metadata": {},
          "execution_count": 134
        }
      ]
    },
    {
      "cell_type": "code",
      "metadata": {
        "colab": {
          "base_uri": "https://localhost:8080/",
          "height": 284
        },
        "id": "fIqpbILY-BiG",
        "outputId": "2f1092b7-7c14-44a8-da18-79156b50e0f1"
      },
      "source": [
        "imshow(foreground_data[0])"
      ],
      "execution_count": 135,
      "outputs": [
        {
          "output_type": "stream",
          "name": "stderr",
          "text": [
            "Clipping input data to the valid range for imshow with RGB data ([0..1] for floats or [0..255] for integers).\n"
          ]
        },
        {
          "output_type": "display_data",
          "data": {
            "image/png": "[encoded data removed]",
            "text/plain": [
              "<Figure size 432x288 with 1 Axes>"
            ]
          },
          "metadata": {
            "needs_background": "light"
          }
        }
      ]
    },
    {
      "cell_type": "code",
      "metadata": {
        "colab": {
          "base_uri": "https://localhost:8080/",
          "height": 284
        },
        "id": "tRvTvlVo98xz",
        "outputId": "0859579e-d355-4182-ce6e-b44392426a78"
      },
      "source": [
        "imshow(background_data[2])"
      ],
      "execution_count": 136,
      "outputs": [
        {
          "output_type": "stream",
          "name": "stderr",
          "text": [
            "Clipping input data to the valid range for imshow with RGB data ([0..1] for floats or [0..255] for integers).\n"
          ]
        },
        {
          "output_type": "display_data",
          "data": {
            "image/png": "[encoded data removed]",
            "text/plain": [
              "<Figure size 432x288 with 1 Axes>"
            ]
          },
          "metadata": {
            "needs_background": "light"
          }
        }
      ]
    },
    {
      "cell_type": "markdown",
      "metadata": {
        "id": "NPOxPMEe0P-B"
      },
      "source": [
        "## generating CIN train and test data"
      ]
    },
    {
      "cell_type": "code",
      "metadata": {
        "id": "SRhpBoad0LOc"
      },
      "source": [
        "m = 10\n",
        "desired_num = 10000"
      ],
      "execution_count": 447,
      "outputs": []
    },
    {
      "cell_type": "code",
      "metadata": {
        "colab": {
          "base_uri": "https://localhost:8080/"
        },
        "id": "4Vg1hwlP0-gg",
        "outputId": "cef0fbc4-c0a0-47fb-ab99-a9551d398e0f"
      },
      "source": [
        "np.random.seed(0)\n",
        "bg_idx = np.random.randint(0,35000,m-1)\n",
        "fg_idx = np.random.randint(0,15000)\n",
        "bg_idx, fg_idx"
      ],
      "execution_count": 448,
      "outputs": [
        {
          "output_type": "execute_result",
          "data": {
            "text/plain": [
              "(array([ 2732, 21243, 30403, 32103, 20757, 14935, 15430, 14650, 17089]), 2599)"
            ]
          },
          "metadata": {},
          "execution_count": 448
        }
      ]
    },
    {
      "cell_type": "code",
      "metadata": {
        "colab": {
          "base_uri": "https://localhost:8080/",
          "height": 1000
        },
        "id": "IOxbMpSn126g",
        "outputId": "a826941d-ae1a-4376-8492-87b4b0756273"
      },
      "source": [
        "for i in background_data[bg_idx]:\n",
        "  imshow(i)"
      ],
      "execution_count": 449,
      "outputs": [
        {
          "output_type": "stream",
          "name": "stderr",
          "text": [
            "Clipping input data to the valid range for imshow with RGB data ([0..1] for floats or [0..255] for integers).\n"
          ]
        },
        {
          "output_type": "display_data",
          "data": {
            "image/png": "[encoded data removed]",
            "text/plain": [
              "<Figure size 432x288 with 1 Axes>"
            ]
          },
          "metadata": {
            "needs_background": "light"
          }
        },
        {
          "output_type": "stream",
          "name": "stderr",
          "text": [
            "Clipping input data to the valid range for imshow with RGB data ([0..1] for floats or [0..255] for integers).\n"
          ]
        },
        {
          "output_type": "display_data",
          "data": {
            "image/png": "[encoded data removed]",
            "text/plain": [
              "<Figure size 432x288 with 1 Axes>"
            ]
          },
          "metadata": {
            "needs_background": "light"
          }
        },
        {
          "output_type": "stream",
          "name": "stderr",
          "text": [
            "Clipping input data to the valid range for imshow with RGB data ([0..1] for floats or [0..255] for integers).\n"
          ]
        },
        {
          "output_type": "display_data",
          "data": {
            "image/png": "[encoded data removed]",
            "text/plain": [
              "<Figure size 432x288 with 1 Axes>"
            ]
          },
          "metadata": {
            "needs_background": "light"
          }
        },
        {
          "output_type": "stream",
          "name": "stderr",
          "text": [
            "Clipping input data to the valid range for imshow with RGB data ([0..1] for floats or [0..255] for integers).\n"
          ]
        },
        {
          "output_type": "display_data",
          "data": {
            "image/png": "[encoded data removed]",
            "text/plain": [
              "<Figure size 432x288 with 1 Axes>"
            ]
          },
          "metadata": {
            "needs_background": "light"
          }
        },
        {
          "output_type": "stream",
          "name": "stderr",
          "text": [
            "Clipping input data to the valid range for imshow with RGB data ([0..1] for floats or [0..255] for integers).\n"
          ]
        },
        {
          "output_type": "display_data",
          "data": {
            "image/png": "[encoded data removed]",
            "text/plain": [
              "<Figure size 432x288 with 1 Axes>"
            ]
          },
          "metadata": {
            "needs_background": "light"
          }
        },
        {
          "output_type": "stream",
          "name": "stderr",
          "text": [
            "Clipping input data to the valid range for imshow with RGB data ([0..1] for floats or [0..255] for integers).\n"
          ]
        },
        {
          "output_type": "display_data",
          "data": {
            "image/png": "[encoded data removed]",
            "text/plain": [
              "<Figure size 432x288 with 1 Axes>"
            ]
          },
          "metadata": {
            "needs_background": "light"
          }
        },
        {
          "output_type": "stream",
          "name": "stderr",
          "text": [
            "Clipping input data to the valid range for imshow with RGB data ([0..1] for floats or [0..255] for integers).\n"
          ]
        },
        {
          "output_type": "display_data",
          "data": {
            "image/png": "[encoded data removed]",
            "text/plain": [
              "<Figure size 432x288 with 1 Axes>"
            ]
          },
          "metadata": {
            "needs_background": "light"
          }
        },
        {
          "output_type": "stream",
          "name": "stderr",
          "text": [
            "Clipping input data to the valid range for imshow with RGB data ([0..1] for floats or [0..255] for integers).\n"
          ]
        },
        {
          "output_type": "display_data",
          "data": {
            "image/png": "[encoded data removed]",
            "text/plain": [
              "<Figure size 432x288 with 1 Axes>"
            ]
          },
          "metadata": {
            "needs_background": "light"
          }
        },
        {
          "output_type": "stream",
          "name": "stderr",
          "text": [
            "Clipping input data to the valid range for imshow with RGB data ([0..1] for floats or [0..255] for integers).\n"
          ]
        },
        {
          "output_type": "display_data",
          "data": {
            "image/png": "[encoded data removed]",
            "text/plain": [
              "<Figure size 432x288 with 1 Axes>"
            ]
          },
          "metadata": {
            "needs_background": "light"
          }
        }
      ]
    },
    {
      "cell_type": "code",
      "metadata": {
        "colab": {
          "base_uri": "https://localhost:8080/",
          "height": 284
        },
        "id": "dHJanbIF1Fon",
        "outputId": "ccb6172c-66c3-4e3d-d143-7b19c756e4f2"
      },
      "source": [
        "imshow(torch.sum(background_data[bg_idx], axis = 0))"
      ],
      "execution_count": 450,
      "outputs": [
        {
          "output_type": "stream",
          "name": "stderr",
          "text": [
            "Clipping input data to the valid range for imshow with RGB data ([0..1] for floats or [0..255] for integers).\n"
          ]
        },
        {
          "output_type": "display_data",
          "data": {
            "image/png": "[encoded data removed]",
            "text/plain": [
              "<Figure size 432x288 with 1 Axes>"
            ]
          },
          "metadata": {
            "needs_background": "light"
          }
        }
      ]
    },
    {
      "cell_type": "code",
      "metadata": {
        "colab": {
          "base_uri": "https://localhost:8080/",
          "height": 284
        },
        "id": "ZT0h2FmO2CiH",
        "outputId": "b276468f-92e9-49ea-943e-bb5afb6e4749"
      },
      "source": [
        "imshow(foreground_data[fg_idx])"
      ],
      "execution_count": 451,
      "outputs": [
        {
          "output_type": "stream",
          "name": "stderr",
          "text": [
            "Clipping input data to the valid range for imshow with RGB data ([0..1] for floats or [0..255] for integers).\n"
          ]
        },
        {
          "output_type": "display_data",
          "data": {
            "image/png": "[encoded data removed]",
            "text/plain": [
              "<Figure size 432x288 with 1 Axes>"
            ]
          },
          "metadata": {
            "needs_background": "light"
          }
        }
      ]
    },
    {
      "cell_type": "code",
      "metadata": {
        "colab": {
          "base_uri": "https://localhost:8080/"
        },
        "id": "6NsL6KKD2OoH",
        "outputId": "9fb8168b-768a-4ccb-eb10-3989fbe44a0e"
      },
      "source": [
        "tr_data = ( torch.sum(background_data[bg_idx], axis = 0) + foreground_data[fg_idx] )/m\n",
        "tr_data.shape"
      ],
      "execution_count": 452,
      "outputs": [
        {
          "output_type": "execute_result",
          "data": {
            "text/plain": [
              "torch.Size([3, 32, 32])"
            ]
          },
          "metadata": {},
          "execution_count": 452
        }
      ]
    },
    {
      "cell_type": "code",
      "metadata": {
        "colab": {
          "base_uri": "https://localhost:8080/",
          "height": 266
        },
        "id": "xItMJ5dy2iDy",
        "outputId": "3c5373f7-97c1-4b64-de3a-74cc516876e9"
      },
      "source": [
        "imshow(tr_data)"
      ],
      "execution_count": 453,
      "outputs": [
        {
          "output_type": "display_data",
          "data": {
            "image/png": "[encoded data removed]",
            "text/plain": [
              "<Figure size 432x288 with 1 Axes>"
            ]
          },
          "metadata": {
            "needs_background": "light"
          }
        }
      ]
    },
    {
      "cell_type": "code",
      "metadata": {
        "colab": {
          "base_uri": "https://localhost:8080/"
        },
        "id": "w-RwePOU3EjA",
        "outputId": "34badff0-839b-4fc7-976e-8db55816eff9"
      },
      "source": [
        "foreground_label[fg_idx]"
      ],
      "execution_count": 454,
      "outputs": [
        {
          "output_type": "execute_result",
          "data": {
            "text/plain": [
              "tensor(2)"
            ]
          },
          "metadata": {},
          "execution_count": 454
        }
      ]
    },
    {
      "cell_type": "code",
      "metadata": {
        "id": "eqk-YE9A0gtB"
      },
      "source": [
        "train_images =[]      # list of mosaic images, each mosaic image is saved as list of 9 images             \n",
        "train_label=[]                # label of mosaic image = foreground class present in that mosaic\n",
        "\n",
        "for i in range(desired_num):\n",
        "  np.random.seed(i)\n",
        "  bg_idx = np.random.randint(0,35000,m-1)\n",
        "  fg_idx = np.random.randint(0,15000)\n",
        "\n",
        "  tr_data = ( torch.sum(background_data[bg_idx], axis = 0) + foreground_data[fg_idx] ) / m\n",
        "  label = (foreground_label[fg_idx].item())\n",
        "\n",
        "  train_images.append(tr_data)\n",
        "  train_label.append(label)\n"
      ],
      "execution_count": 455,
      "outputs": []
    },
    {
      "cell_type": "code",
      "metadata": {
        "colab": {
          "base_uri": "https://localhost:8080/"
        },
        "id": "23hF67Hb3ioz",
        "outputId": "f1228c87-4322-4c6b-cb88-cd7324a23cfa"
      },
      "source": [
        "train_images = torch.stack(train_images)\n",
        "train_images.shape, len(train_label)"
      ],
      "execution_count": 456,
      "outputs": [
        {
          "output_type": "execute_result",
          "data": {
            "text/plain": [
              "(torch.Size([10000, 3, 32, 32]), 10000)"
            ]
          },
          "metadata": {},
          "execution_count": 456
        }
      ]
    },
    {
      "cell_type": "code",
      "metadata": {
        "colab": {
          "base_uri": "https://localhost:8080/",
          "height": 266
        },
        "id": "eWIah23w5Tf3",
        "outputId": "19cc8049-ebba-4541-e31e-db1e859f269d"
      },
      "source": [
        "imshow(train_images[0])"
      ],
      "execution_count": 457,
      "outputs": [
        {
          "output_type": "display_data",
          "data": {
            "image/png": "[encoded data removed]",
            "text/plain": [
              "<Figure size 432x288 with 1 Axes>"
            ]
          },
          "metadata": {
            "needs_background": "light"
          }
        }
      ]
    },
    {
      "cell_type": "code",
      "metadata": {
        "id": "y2LgVhv64TbG"
      },
      "source": [
        "test_images =[]      # list of mosaic images, each mosaic image is saved as list of 9 images             \n",
        "test_label=[]                # label of mosaic image = foreground class present in that mosaic\n",
        "\n",
        "for i in range(10000):\n",
        "  np.random.seed(i)\n",
        "  fg_idx = np.random.randint(0,15000)\n",
        "\n",
        "  tr_data = ( foreground_data[fg_idx] ) / m\n",
        "  label = (foreground_label[fg_idx].item())\n",
        "\n",
        "  test_images.append(tr_data)\n",
        "  test_label.append(label)\n"
      ],
      "execution_count": 458,
      "outputs": []
    },
    {
      "cell_type": "code",
      "metadata": {
        "colab": {
          "base_uri": "https://localhost:8080/"
        },
        "id": "ZeFlUKSw4knK",
        "outputId": "24c4ab06-14dc-4215-ab01-7b4571a2a307"
      },
      "source": [
        "test_images = torch.stack(test_images)\n",
        "test_images.shape, len(test_label)"
      ],
      "execution_count": 459,
      "outputs": [
        {
          "output_type": "execute_result",
          "data": {
            "text/plain": [
              "(torch.Size([10000, 3, 32, 32]), 10000)"
            ]
          },
          "metadata": {},
          "execution_count": 459
        }
      ]
    },
    {
      "cell_type": "code",
      "metadata": {
        "colab": {
          "base_uri": "https://localhost:8080/",
          "height": 266
        },
        "id": "ZQbTT2qVMPTE",
        "outputId": "0c350ff5-4cc3-4051-ab74-c7fd5d0de7ce"
      },
      "source": [
        "imshow(test_images[0])"
      ],
      "execution_count": 460,
      "outputs": [
        {
          "output_type": "display_data",
          "data": {
            "image/png": "[encoded data removed]",
            "text/plain": [
              "<Figure size 432x288 with 1 Axes>"
            ]
          },
          "metadata": {
            "needs_background": "light"
          }
        }
      ]
    },
    {
      "cell_type": "code",
      "metadata": {
        "colab": {
          "base_uri": "https://localhost:8080/"
        },
        "id": "LaUSQrnBFzud",
        "outputId": "372fda7d-9983-411c-b603-90283877a787"
      },
      "source": [
        "torch.sum(torch.isnan(train_images)), torch.sum(torch.isnan(test_images))"
      ],
      "execution_count": 461,
      "outputs": [
        {
          "output_type": "execute_result",
          "data": {
            "text/plain": [
              "(tensor(0), tensor(0))"
            ]
          },
          "metadata": {},
          "execution_count": 461
        }
      ]
    },
    {
      "cell_type": "code",
      "metadata": {
        "colab": {
          "base_uri": "https://localhost:8080/"
        },
        "id": "sQHvecSl7bso",
        "outputId": "cea79c6a-e48c-44bc-fc14-16ae7508bddb"
      },
      "source": [
        "np.unique(train_label), np.unique(test_label)"
      ],
      "execution_count": 462,
      "outputs": [
        {
          "output_type": "execute_result",
          "data": {
            "text/plain": [
              "(array([0, 1, 2]), array([0, 1, 2]))"
            ]
          },
          "metadata": {},
          "execution_count": 462
        }
      ]
    },
    {
      "cell_type": "markdown",
      "metadata": {
        "id": "wu4JV_4F6xYO"
      },
      "source": [
        "## creating dataloader"
      ]
    },
    {
      "cell_type": "code",
      "metadata": {
        "id": "AJuGak6_zXgx"
      },
      "source": [
        "class CIN_Dataset(Dataset):\n",
        "  \"\"\"CIN_Dataset dataset.\"\"\"\n",
        "\n",
        "  def __init__(self, list_of_images, labels):\n",
        "    \"\"\"\n",
        "      Args:\n",
        "        csv_file (string): Path to the csv file with annotations.\n",
        "        root_dir (string): Directory with all the images.\n",
        "        transform (callable, optional): Optional transform to be applied\n",
        "            on a sample.\n",
        "    \"\"\"\n",
        "    self.image = list_of_images\n",
        "    self.label = labels\n",
        "\n",
        "  def __len__(self):\n",
        "    return len(self.label)\n",
        "\n",
        "  def __getitem__(self, idx):\n",
        "    return self.image[idx] , self.label[idx]\n",
        "\n"
      ],
      "execution_count": 463,
      "outputs": []
    },
    {
      "cell_type": "code",
      "metadata": {
        "id": "ckIH5YcU6lo2"
      },
      "source": [
        "batch = 250\n",
        "train_data = CIN_Dataset(train_images, train_label)\n",
        "train_loader = DataLoader( train_data, batch_size= batch , shuffle=True)\n",
        "\n",
        "test_data = CIN_Dataset( test_images , test_label)\n",
        "test_loader = DataLoader( test_data, batch_size= batch , shuffle=False)"
      ],
      "execution_count": 464,
      "outputs": []
    },
    {
      "cell_type": "code",
      "metadata": {
        "colab": {
          "base_uri": "https://localhost:8080/"
        },
        "id": "_-mYFWJT66yf",
        "outputId": "d538dd41-4d04-4b15-c40f-c76eebe938cc"
      },
      "source": [
        "train_loader.dataset.image.shape, test_loader.dataset.image.shape"
      ],
      "execution_count": 465,
      "outputs": [
        {
          "output_type": "execute_result",
          "data": {
            "text/plain": [
              "(torch.Size([10000, 3, 32, 32]), torch.Size([10000, 3, 32, 32]))"
            ]
          },
          "metadata": {},
          "execution_count": 465
        }
      ]
    },
    {
      "cell_type": "markdown",
      "metadata": {
        "id": "QB_xKOIaA4U8"
      },
      "source": [
        "## model"
      ]
    },
    {
      "cell_type": "code",
      "metadata": {
        "id": "KoP6hoBqNJxX"
      },
      "source": [
        "class Classification(nn.Module):\n",
        "  def __init__(self):\n",
        "    super(Classification, self).__init__()\n",
        "    self.conv1 = nn.Conv2d(3, 6, 5)\n",
        "    self.pool = nn.MaxPool2d(2, 2)\n",
        "    self.conv2 = nn.Conv2d(6, 16, 5)\n",
        "    self.fc1 = nn.Linear(16 * 5 * 5, 120)\n",
        "    self.fc2 = nn.Linear(120, 84)\n",
        "    self.fc3 = nn.Linear(84, 10)\n",
        "    self.fc4 = nn.Linear(10,3)\n",
        "\n",
        "    torch.nn.init.xavier_normal_(self.conv1.weight)\n",
        "    torch.nn.init.zeros_(self.conv1.bias)\n",
        "    torch.nn.init.xavier_normal_(self.conv2.weight)\n",
        "    torch.nn.init.zeros_(self.conv2.bias)\n",
        "    torch.nn.init.xavier_normal_(self.fc1.weight)\n",
        "    torch.nn.init.zeros_(self.fc1.bias)\n",
        "    torch.nn.init.xavier_normal_(self.fc2.weight)\n",
        "    torch.nn.init.zeros_(self.fc2.bias)\n",
        "    torch.nn.init.xavier_normal_(self.fc3.weight)\n",
        "    torch.nn.init.zeros_(self.fc3.bias)\n",
        "    torch.nn.init.xavier_normal_(self.fc4.weight)\n",
        "    torch.nn.init.zeros_(self.fc4.bias)\n",
        "\n",
        "  def forward(self,z): \n",
        "    y1 = self.pool(F.relu(self.conv1(z)))\n",
        "    y1 = self.pool(F.relu(self.conv2(y1)))\n",
        "    y1 = y1.view(-1, 16 * 5 * 5)\n",
        "\n",
        "    y1 = F.relu(self.fc1(y1))\n",
        "    y1 = F.relu(self.fc2(y1))\n",
        "    y1 = F.relu(self.fc3(y1))\n",
        "    y1 = self.fc4(y1)\n",
        "    return y1 "
      ],
      "execution_count": 466,
      "outputs": []
    },
    {
      "cell_type": "code",
      "metadata": {
        "id": "uPYplUGazU9I"
      },
      "source": [
        "torch.manual_seed(12)\n",
        "classify = Classification().double()\n",
        "classify = classify.to(\"cuda\")"
      ],
      "execution_count": 467,
      "outputs": []
    },
    {
      "cell_type": "markdown",
      "metadata": {
        "id": "aSYvs7FAA76j"
      },
      "source": [
        "## training"
      ]
    },
    {
      "cell_type": "code",
      "metadata": {
        "id": "n5g3geNJ5zEu"
      },
      "source": [
        "import torch.optim as optim\n",
        "criterion = nn.CrossEntropyLoss()\n",
        "optimizer_classify = optim.Adam(classify.parameters(), lr=0.001  ) #, momentum=0.9)"
      ],
      "execution_count": 468,
      "outputs": []
    },
    {
      "cell_type": "code",
      "metadata": {
        "id": "4ZZ-kb-aaPv7",
        "colab": {
          "base_uri": "https://localhost:8080/"
        },
        "outputId": "bc90c9da-d226-4540-c338-723c774ea7b4"
      },
      "source": [
        "correct = 0\n",
        "total = 0\n",
        "count = 0\n",
        "flag = 1\n",
        "\n",
        "with torch.no_grad():\n",
        "  for data in train_loader:\n",
        "    inputs, labels = data\n",
        "    inputs = inputs.double()\n",
        "    inputs, labels  = inputs.to(\"cuda\"),labels.to(\"cuda\")\n",
        "\n",
        "    outputs = classify(inputs)\n",
        "\n",
        "    _, predicted = torch.max(outputs.data, 1)\n",
        "\n",
        "    total += labels.size(0)\n",
        "    correct += (predicted == labels).sum().item()\n",
        "\n",
        "print('Accuracy of the network on the %d train images: %d %%' % ( desired_num , 100 * correct / total))\n",
        "print(\"total correct\", correct)\n",
        "print(\"total train set images\", total)"
      ],
      "execution_count": 469,
      "outputs": [
        {
          "output_type": "stream",
          "name": "stdout",
          "text": [
            "Accuracy of the network on the 10000 train images: 33 %\n",
            "total correct 3301\n",
            "total train set images 10000\n"
          ]
        }
      ]
    },
    {
      "cell_type": "code",
      "metadata": {
        "id": "TNd3Qz_RaPmK",
        "colab": {
          "base_uri": "https://localhost:8080/"
        },
        "outputId": "da964eb8-189f-479a-902f-c0b98ee81146"
      },
      "source": [
        "correct = 0\n",
        "total = 0\n",
        "count = 0\n",
        "flag = 1\n",
        "\n",
        "with torch.no_grad():\n",
        "  for data in test_loader:\n",
        "    inputs, labels = data\n",
        "    inputs = inputs.double()\n",
        "    inputs, labels  = inputs.to(\"cuda\"),labels.to(\"cuda\")\n",
        "\n",
        "    outputs = classify(inputs)\n",
        "\n",
        "    _, predicted = torch.max(outputs.data, 1)\n",
        "\n",
        "    total += labels.size(0)\n",
        "    correct += (predicted == labels).sum().item()\n",
        "\n",
        "print('Accuracy of the network on the %d train images: %d %%' % ( 10000 , 100 * correct / total))\n",
        "print(\"total correct\", correct)\n",
        "print(\"total train set images\", total)"
      ],
      "execution_count": 470,
      "outputs": [
        {
          "output_type": "stream",
          "name": "stdout",
          "text": [
            "Accuracy of the network on the 10000 train images: 35 %\n",
            "total correct 3515\n",
            "total train set images 10000\n"
          ]
        }
      ]
    },
    {
      "cell_type": "code",
      "metadata": {
        "id": "tFfAJZkcZEsY",
        "colab": {
          "base_uri": "https://localhost:8080/"
        },
        "outputId": "f96e7fe2-f73e-468a-d36a-ecc8a0cd82a6"
      },
      "source": [
        "nos_epochs = 200\n",
        "tr_loss = []\n",
        "for epoch in range(nos_epochs):  # loop over the dataset multiple times\n",
        "\n",
        "  epoch_loss = []\n",
        "  cnt=0\n",
        "  iteration = desired_num // batch\n",
        "  running_loss = 0\n",
        "  \n",
        "  #training data set  \n",
        "  for i, data in  enumerate(train_loader):\n",
        "    inputs, labels = data\n",
        "    inputs = inputs.double()\n",
        "    inputs, labels  = inputs.to(\"cuda\"),labels.to(\"cuda\")\n",
        "    inputs = inputs.double()\n",
        "    # zero the parameter gradients\n",
        "    \n",
        "    optimizer_classify.zero_grad()\n",
        "\n",
        "    outputs = classify(inputs)\n",
        "\n",
        "    _, predicted = torch.max(outputs.data, 1)\n",
        "#     print(outputs)\n",
        "#     print(outputs.shape,labels.shape , torch.argmax(outputs, dim=1))\n",
        "\n",
        "    loss = criterion(outputs, labels) \n",
        "    loss.backward()\n",
        "\n",
        "    optimizer_classify.step()\n",
        "\n",
        "    running_loss += loss.item()\n",
        "    mini = 20\n",
        "    if cnt % mini == mini-1:    # print every 40 mini-batches\n",
        "      # print('[%d, %5d] loss: %.3f' %(epoch + 1, cnt + 1, running_loss / mini))\n",
        "      epoch_loss.append(running_loss/mini)\n",
        "      running_loss = 0.0\n",
        "    cnt=cnt+1\n",
        "\n",
        "  tr_loss.append(np.mean(epoch_loss))\n",
        "  if(np.mean(epoch_loss) <= 0.001):\n",
        "      break;\n",
        "  else:\n",
        "    print('[Epoch : %d] loss: %.3f' %(epoch + 1, np.mean(epoch_loss) ))\n",
        "    \n",
        "print('Finished Training')"
      ],
      "execution_count": 471,
      "outputs": [
        {
          "output_type": "stream",
          "name": "stdout",
          "text": [
            "[Epoch : 1] loss: 1.092\n",
            "[Epoch : 2] loss: 1.074\n",
            "[Epoch : 3] loss: 1.057\n",
            "[Epoch : 4] loss: 1.042\n",
            "[Epoch : 5] loss: 1.035\n",
            "[Epoch : 6] loss: 1.025\n",
            "[Epoch : 7] loss: 1.016\n",
            "[Epoch : 8] loss: 1.003\n",
            "[Epoch : 9] loss: 0.990\n",
            "[Epoch : 10] loss: 0.968\n",
            "[Epoch : 11] loss: 0.949\n",
            "[Epoch : 12] loss: 0.922\n",
            "[Epoch : 13] loss: 0.886\n",
            "[Epoch : 14] loss: 0.845\n",
            "[Epoch : 15] loss: 0.806\n",
            "[Epoch : 16] loss: 0.757\n",
            "[Epoch : 17] loss: 0.706\n",
            "[Epoch : 18] loss: 0.645\n",
            "[Epoch : 19] loss: 0.589\n",
            "[Epoch : 20] loss: 0.530\n",
            "[Epoch : 21] loss: 0.476\n",
            "[Epoch : 22] loss: 0.418\n",
            "[Epoch : 23] loss: 0.369\n",
            "[Epoch : 24] loss: 0.336\n",
            "[Epoch : 25] loss: 0.296\n",
            "[Epoch : 26] loss: 0.231\n",
            "[Epoch : 27] loss: 0.195\n",
            "[Epoch : 28] loss: 0.160\n",
            "[Epoch : 29] loss: 0.130\n",
            "[Epoch : 30] loss: 0.114\n",
            "[Epoch : 31] loss: 0.089\n",
            "[Epoch : 32] loss: 0.068\n",
            "[Epoch : 33] loss: 0.051\n",
            "[Epoch : 34] loss: 0.037\n",
            "[Epoch : 35] loss: 0.030\n",
            "[Epoch : 36] loss: 0.026\n",
            "[Epoch : 37] loss: 0.020\n",
            "[Epoch : 38] loss: 0.013\n",
            "[Epoch : 39] loss: 0.008\n",
            "[Epoch : 40] loss: 0.005\n",
            "[Epoch : 41] loss: 0.004\n",
            "[Epoch : 42] loss: 0.004\n",
            "[Epoch : 43] loss: 0.003\n",
            "[Epoch : 44] loss: 0.003\n",
            "[Epoch : 45] loss: 0.002\n",
            "[Epoch : 46] loss: 0.002\n",
            "[Epoch : 47] loss: 0.002\n",
            "[Epoch : 48] loss: 0.001\n",
            "[Epoch : 49] loss: 0.001\n",
            "[Epoch : 50] loss: 0.001\n",
            "[Epoch : 51] loss: 0.001\n",
            "[Epoch : 52] loss: 0.001\n",
            "Finished Training\n"
          ]
        }
      ]
    },
    {
      "cell_type": "code",
      "metadata": {
        "colab": {
          "base_uri": "https://localhost:8080/",
          "height": 283
        },
        "id": "6xlUH59C_Ee_",
        "outputId": "04a4e97b-42f7-46db-b2c3-65ce826e3e96"
      },
      "source": [
        "plt.plot(tr_loss)"
      ],
      "execution_count": 472,
      "outputs": [
        {
          "output_type": "execute_result",
          "data": {
            "text/plain": [
              "[<matplotlib.lines.Line2D at 0x7f3f3f2a4250>]"
            ]
          },
          "metadata": {},
          "execution_count": 472
        },
        {
          "output_type": "display_data",
          "data": {
            "image/png": "[encoded data removed]",
            "text/plain": [
              "<Figure size 432x288 with 1 Axes>"
            ]
          },
          "metadata": {
            "needs_background": "light"
          }
        }
      ]
    },
    {
      "cell_type": "code",
      "metadata": {
        "colab": {
          "base_uri": "https://localhost:8080/"
        },
        "id": "INq6r_ld9vX1",
        "outputId": "68cc6c33-2184-4401-85d1-dcfc22c801dd"
      },
      "source": [
        "correct = 0\n",
        "total = 0\n",
        "count = 0\n",
        "flag = 1\n",
        "\n",
        "with torch.no_grad():\n",
        "  for data in train_loader:\n",
        "    inputs, labels = data\n",
        "    inputs = inputs.double()\n",
        "    inputs, labels  = inputs.to(\"cuda\"),labels.to(\"cuda\")\n",
        "\n",
        "    outputs = classify(inputs)\n",
        "\n",
        "    _, predicted = torch.max(outputs.data, 1)\n",
        "\n",
        "    total += labels.size(0)\n",
        "    correct += (predicted == labels).sum().item()\n",
        "\n",
        "print('Accuracy of the network on the %d train images: %f %%' % ( desired_num , 100 * correct / total))\n",
        "print(\"total correct\", correct)\n",
        "print(\"total train set images\", total)"
      ],
      "execution_count": 473,
      "outputs": [
        {
          "output_type": "stream",
          "name": "stdout",
          "text": [
            "Accuracy of the network on the 10000 train images: 100.000000 %\n",
            "total correct 10000\n",
            "total train set images 10000\n"
          ]
        }
      ]
    },
    {
      "cell_type": "code",
      "metadata": {
        "colab": {
          "base_uri": "https://localhost:8080/"
        },
        "id": "-HNFmO9Z9vX7",
        "outputId": "7a69f28a-6bfd-49bb-963c-a694957f115d"
      },
      "source": [
        "correct = 0\n",
        "total = 0\n",
        "count = 0\n",
        "flag = 1\n",
        "\n",
        "with torch.no_grad():\n",
        "  for data in test_loader:\n",
        "    inputs, labels = data\n",
        "    inputs = inputs.double()\n",
        "    inputs, labels  = inputs.to(\"cuda\"),labels.to(\"cuda\")\n",
        "\n",
        "    outputs = classify(inputs)\n",
        "\n",
        "    _, predicted = torch.max(outputs.data, 1)\n",
        "\n",
        "    total += labels.size(0)\n",
        "    correct += (predicted == labels).sum().item()\n",
        "\n",
        "print('Accuracy of the network on the %d train images: %f %%' % ( 10000 , 100 * correct / total))\n",
        "print(\"total correct\", correct)\n",
        "print(\"total train set images\", total)"
      ],
      "execution_count": 474,
      "outputs": [
        {
          "output_type": "stream",
          "name": "stdout",
          "text": [
            "Accuracy of the network on the 10000 train images: 52.560000 %\n",
            "total correct 5256\n",
            "total train set images 10000\n"
          ]
        }
      ]
    },
    {
      "cell_type": "code",
      "metadata": {
        "id": "dSsZLhV39xS9"
      },
      "source": [
        ""
      ],
      "execution_count": 474,
      "outputs": []
    }
  ]
}