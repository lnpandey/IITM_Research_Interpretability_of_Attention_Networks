{
  "nbformat": 4,
  "nbformat_minor": 0,
  "metadata": {
    "accelerator": "GPU",
    "colab": {
      "name": "synthetic_type2_Linear_m_5.ipynb",
      "provenance": [],
      "collapsed_sections": []
    },
    "kernelspec": {
      "display_name": "Python 3",
      "language": "python",
      "name": "python3"
    },
    "language_info": {
      "codemirror_mode": {
        "name": "ipython",
        "version": 3
      },
      "file_extension": ".py",
      "mimetype": "text/x-python",
      "name": "python",
      "nbconvert_exporter": "python",
      "pygments_lexer": "ipython3",
      "version": "3.6.5"
    }
  },
  "cells": [
    {
      "cell_type": "code",
      "metadata": {
        "colab": {
          "base_uri": "https://localhost:8080/"
        },
        "id": "N2_J4Rw2r0SQ",
        "outputId": "be19f19b-9b53-4cff-a290-6cb58ddaf154"
      },
      "source": [
        "import numpy as np\n",
        "import pandas as pd\n",
        "from matplotlib import pyplot as plt\n",
        "from tqdm import tqdm\n",
        "%matplotlib inline\n",
        "from torch.utils.data import Dataset, DataLoader\n",
        "import torch\n",
        "import torchvision\n",
        "\n",
        "import torch.nn as nn\n",
        "import torch.optim as optim\n",
        "from torch.nn import functional as F\n",
        "device = torch.device(\"cuda\" if torch.cuda.is_available() else \"cpu\")\n",
        "print(device)"
      ],
      "execution_count": 211,
      "outputs": [
        {
          "output_type": "stream",
          "name": "stdout",
          "text": [
            "cuda\n"
          ]
        }
      ]
    },
    {
      "cell_type": "code",
      "metadata": {
        "id": "ZTJPyL45DiJ3"
      },
      "source": [
        "m = 250"
      ],
      "execution_count": 212,
      "outputs": []
    },
    {
      "cell_type": "markdown",
      "metadata": {
        "id": "F6fjud_Fr0Sa"
      },
      "source": [
        "# Generate dataset"
      ]
    },
    {
      "cell_type": "code",
      "metadata": {
        "colab": {
          "base_uri": "https://localhost:8080/"
        },
        "id": "CqdXHO0Cr0Sd",
        "outputId": "80bd81bc-b433-4f63-f8c7-ff3f6e020e61"
      },
      "source": [
        "np.random.seed(12)\n",
        "y = np.random.randint(0,10,5000)\n",
        "idx= []\n",
        "for i in range(10):\n",
        "    print(i,sum(y==i))\n",
        "    idx.append(y==i)"
      ],
      "execution_count": 213,
      "outputs": [
        {
          "output_type": "stream",
          "name": "stdout",
          "text": [
            "0 530\n",
            "1 463\n",
            "2 494\n",
            "3 517\n",
            "4 488\n",
            "5 497\n",
            "6 493\n",
            "7 507\n",
            "8 492\n",
            "9 519\n"
          ]
        }
      ]
    },
    {
      "cell_type": "code",
      "metadata": {
        "id": "ddhXyODwr0Sk"
      },
      "source": [
        "x = np.zeros((5000,2))"
      ],
      "execution_count": 214,
      "outputs": []
    },
    {
      "cell_type": "code",
      "metadata": {
        "id": "DyV3N2DIr0Sp"
      },
      "source": [
        "np.random.seed(12)\n",
        "x[idx[0],:] = np.random.multivariate_normal(mean = [5,5],cov=[[0.1,0],[0,0.1]],size=sum(idx[0]))\n",
        "x[idx[1],:] = np.random.multivariate_normal(mean = [-6,7],cov=[[0.1,0],[0,0.1]],size=sum(idx[1]))\n",
        "x[idx[2],:] = np.random.multivariate_normal(mean = [-5,-4],cov=[[0.1,0],[0,0.1]],size=sum(idx[2]))\n",
        "x[idx[3],:] = np.random.multivariate_normal(mean = [-1,0],cov=[[0.1,0],[0,0.1]],size=sum(idx[3]))\n",
        "x[idx[4],:] = np.random.multivariate_normal(mean = [0,2],cov=[[0.1,0],[0,0.1]],size=sum(idx[4]))\n",
        "x[idx[5],:] = np.random.multivariate_normal(mean = [1,0],cov=[[0.1,0],[0,0.1]],size=sum(idx[5]))\n",
        "x[idx[6],:] = np.random.multivariate_normal(mean = [0,-1],cov=[[0.1,0],[0,0.1]],size=sum(idx[6]))\n",
        "x[idx[7],:] = np.random.multivariate_normal(mean = [0,0],cov=[[0.1,0],[0,0.1]],size=sum(idx[7]))\n",
        "x[idx[8],:] = np.random.multivariate_normal(mean = [-0.5,-0.5],cov=[[0.1,0],[0,0.1]],size=sum(idx[8]))\n",
        "x[idx[9],:] = np.random.multivariate_normal(mean = [0.4,0.2],cov=[[0.1,0],[0,0.1]],size=sum(idx[9]))"
      ],
      "execution_count": 215,
      "outputs": []
    },
    {
      "cell_type": "code",
      "metadata": {
        "colab": {
          "base_uri": "https://localhost:8080/"
        },
        "id": "qh1mDScsU07I",
        "outputId": "69a46e15-66cc-4b33-b11a-613460b10377"
      },
      "source": [
        "x[idx[0]][0], x[idx[5]][5] "
      ],
      "execution_count": 216,
      "outputs": [
        {
          "output_type": "execute_result",
          "data": {
            "text/plain": [
              "(array([5.14957125, 4.78451422]), array([0.87756167, 0.00457805]))"
            ]
          },
          "metadata": {},
          "execution_count": 216
        }
      ]
    },
    {
      "cell_type": "code",
      "metadata": {
        "colab": {
          "base_uri": "https://localhost:8080/",
          "height": 283
        },
        "id": "hJ8Jm7YUr0St",
        "outputId": "dbbad6b6-dbe0-44aa-a75b-b2434197a1c6"
      },
      "source": [
        "for i in range(10):\n",
        "    plt.scatter(x[idx[i],0],x[idx[i],1],label=\"class_\"+str(i))\n",
        "plt.legend(loc='center left', bbox_to_anchor=(1, 0.5))"
      ],
      "execution_count": 217,
      "outputs": [
        {
          "output_type": "execute_result",
          "data": {
            "text/plain": [
              "<matplotlib.legend.Legend at 0x7f568eb8db90>"
            ]
          },
          "metadata": {},
          "execution_count": 217
        },
        {
          "output_type": "display_data",
          "data": {
            "image/png": "[encoded data removed]",
            "text/plain": [
              "<Figure size 432x288 with 1 Axes>"
            ]
          },
          "metadata": {
            "needs_background": "light"
          }
        }
      ]
    },
    {
      "cell_type": "code",
      "metadata": {
        "colab": {
          "base_uri": "https://localhost:8080/"
        },
        "id": "3lMBZEHNBlF2",
        "outputId": "35814020-44cf-4602-d155-3f4aa5c33251"
      },
      "source": [
        "bg_idx = [ np.where(idx[3] == True)[0], \n",
        "          np.where(idx[4] == True)[0], \n",
        "          np.where(idx[5] == True)[0],\n",
        "          np.where(idx[6] == True)[0], \n",
        "          np.where(idx[7] == True)[0], \n",
        "          np.where(idx[8] == True)[0],\n",
        "          np.where(idx[9] == True)[0]]\n",
        "\n",
        "bg_idx = np.concatenate(bg_idx, axis = 0)\n",
        "bg_idx.shape"
      ],
      "execution_count": 218,
      "outputs": [
        {
          "output_type": "execute_result",
          "data": {
            "text/plain": [
              "(3513,)"
            ]
          },
          "metadata": {},
          "execution_count": 218
        }
      ]
    },
    {
      "cell_type": "code",
      "metadata": {
        "colab": {
          "base_uri": "https://localhost:8080/"
        },
        "id": "blRbGZHeCwXU",
        "outputId": "dadfcfb5-6629-4972-dbad-603b770c396d"
      },
      "source": [
        "np.unique(bg_idx).shape"
      ],
      "execution_count": 219,
      "outputs": [
        {
          "output_type": "execute_result",
          "data": {
            "text/plain": [
              "(3513,)"
            ]
          },
          "metadata": {},
          "execution_count": 219
        }
      ]
    },
    {
      "cell_type": "code",
      "metadata": {
        "id": "Y43sWeX7C15F"
      },
      "source": [
        "x = x - np.mean(x[bg_idx], axis = 0, keepdims = True)\n"
      ],
      "execution_count": 220,
      "outputs": []
    },
    {
      "cell_type": "code",
      "metadata": {
        "colab": {
          "base_uri": "https://localhost:8080/"
        },
        "id": "ooII7N6UDWe0",
        "outputId": "66dd5171-4622-4165-8286-78f3f6b1eb3d"
      },
      "source": [
        "np.mean(x[bg_idx], axis = 0, keepdims = True), np.mean(x, axis = 0, keepdims = True)"
      ],
      "execution_count": 221,
      "outputs": [
        {
          "output_type": "execute_result",
          "data": {
            "text/plain": [
              "(array([[-1.04275003e-16,  6.74571889e-17]]),\n",
              " array([[-0.51598033,  0.75072644]]))"
            ]
          },
          "metadata": {},
          "execution_count": 221
        }
      ]
    },
    {
      "cell_type": "code",
      "metadata": {
        "id": "g21bvPRYDL9k"
      },
      "source": [
        "x = x/np.std(x[bg_idx], axis = 0, keepdims = True)"
      ],
      "execution_count": 222,
      "outputs": []
    },
    {
      "cell_type": "code",
      "metadata": {
        "colab": {
          "base_uri": "https://localhost:8080/"
        },
        "id": "GtFvIeHsDZJk",
        "outputId": "b136f914-5758-4365-f363-ede67b7be10c"
      },
      "source": [
        "np.std(x[bg_idx], axis = 0, keepdims = True), np.std(x, axis = 0, keepdims = True)"
      ],
      "execution_count": 223,
      "outputs": [
        {
          "output_type": "execute_result",
          "data": {
            "text/plain": [
              "(array([[1., 1.]]), array([[4.44326012, 3.25965767]]))"
            ]
          },
          "metadata": {},
          "execution_count": 223
        }
      ]
    },
    {
      "cell_type": "code",
      "metadata": {
        "colab": {
          "base_uri": "https://localhost:8080/",
          "height": 283
        },
        "id": "8-VLhUfDDeHt",
        "outputId": "0de11bc8-3d1c-4d2f-e72a-0aea8e2bffd6"
      },
      "source": [
        "for i in range(10):\n",
        "    plt.scatter(x[idx[i],0],x[idx[i],1],label=\"class_\"+str(i))\n",
        "plt.legend(loc='center left', bbox_to_anchor=(1, 0.5))"
      ],
      "execution_count": 224,
      "outputs": [
        {
          "output_type": "execute_result",
          "data": {
            "text/plain": [
              "<matplotlib.legend.Legend at 0x7f568ea15990>"
            ]
          },
          "metadata": {},
          "execution_count": 224
        },
        {
          "output_type": "display_data",
          "data": {
            "image/png": "[encoded data removed]",
            "text/plain": [
              "<Figure size 432x288 with 1 Axes>"
            ]
          },
          "metadata": {
            "needs_background": "light"
          }
        }
      ]
    },
    {
      "cell_type": "code",
      "metadata": {
        "id": "UfFHcZJOr0Sz"
      },
      "source": [
        "foreground_classes = {'class_0','class_1', 'class_2'}\n",
        "\n",
        "background_classes = {'class_3','class_4', 'class_5', 'class_6','class_7', 'class_8', 'class_9'}"
      ],
      "execution_count": 225,
      "outputs": []
    },
    {
      "cell_type": "code",
      "metadata": {
        "colab": {
          "base_uri": "https://localhost:8080/"
        },
        "id": "OplNpNQVr0S2",
        "outputId": "a002aef7-bd69-424d-f009-901b5a8c0dfa"
      },
      "source": [
        "fg_class  = np.random.randint(0,3)\n",
        "fg_idx = np.random.randint(0,m)\n",
        "\n",
        "a = []\n",
        "for i in range(m):\n",
        "    if i == fg_idx:\n",
        "        b = np.random.choice(np.where(idx[fg_class]==True)[0],size=1)\n",
        "        a.append(x[b])\n",
        "        print(\"foreground \"+str(fg_class)+\" present at \" + str(fg_idx))\n",
        "    else:\n",
        "        bg_class = np.random.randint(3,10)\n",
        "        b = np.random.choice(np.where(idx[bg_class]==True)[0],size=1)\n",
        "        a.append(x[b])\n",
        "        print(\"background \"+str(bg_class)+\" present at \" + str(i))\n",
        "a = np.concatenate(a,axis=0)\n",
        "print(a.shape)\n",
        "\n",
        "print(fg_class , fg_idx)"
      ],
      "execution_count": 226,
      "outputs": [
        {
          "output_type": "stream",
          "name": "stdout",
          "text": [
            "background 5 present at 0\n",
            "background 6 present at 1\n",
            "background 9 present at 2\n",
            "background 3 present at 3\n",
            "background 5 present at 4\n",
            "background 7 present at 5\n",
            "background 6 present at 6\n",
            "background 5 present at 7\n",
            "background 3 present at 8\n",
            "background 5 present at 9\n",
            "background 4 present at 10\n",
            "background 7 present at 11\n",
            "background 4 present at 12\n",
            "background 3 present at 13\n",
            "background 9 present at 14\n",
            "background 6 present at 15\n",
            "background 6 present at 16\n",
            "background 3 present at 17\n",
            "background 3 present at 18\n",
            "background 5 present at 19\n",
            "background 4 present at 20\n",
            "background 4 present at 21\n",
            "background 9 present at 22\n",
            "background 8 present at 23\n",
            "background 3 present at 24\n",
            "background 7 present at 25\n",
            "background 6 present at 26\n",
            "background 8 present at 27\n",
            "background 3 present at 28\n",
            "background 7 present at 29\n",
            "background 8 present at 30\n",
            "background 7 present at 31\n",
            "background 7 present at 32\n",
            "background 5 present at 33\n",
            "background 9 present at 34\n",
            "background 6 present at 35\n",
            "background 4 present at 36\n",
            "background 7 present at 37\n",
            "background 6 present at 38\n",
            "background 3 present at 39\n",
            "background 4 present at 40\n",
            "background 3 present at 41\n",
            "background 4 present at 42\n",
            "background 7 present at 43\n",
            "background 6 present at 44\n",
            "background 5 present at 45\n",
            "background 8 present at 46\n",
            "background 8 present at 47\n",
            "background 7 present at 48\n",
            "background 3 present at 49\n",
            "background 7 present at 50\n",
            "background 7 present at 51\n",
            "background 6 present at 52\n",
            "background 4 present at 53\n",
            "background 3 present at 54\n",
            "background 6 present at 55\n",
            "background 3 present at 56\n",
            "background 8 present at 57\n",
            "background 8 present at 58\n",
            "background 4 present at 59\n",
            "background 7 present at 60\n",
            "background 8 present at 61\n",
            "background 5 present at 62\n",
            "background 8 present at 63\n",
            "background 6 present at 64\n",
            "background 9 present at 65\n",
            "background 6 present at 66\n",
            "background 3 present at 67\n",
            "background 6 present at 68\n",
            "background 3 present at 69\n",
            "background 7 present at 70\n",
            "background 5 present at 71\n",
            "background 9 present at 72\n",
            "background 6 present at 73\n",
            "background 7 present at 74\n",
            "background 5 present at 75\n",
            "background 6 present at 76\n",
            "background 4 present at 77\n",
            "background 6 present at 78\n",
            "background 7 present at 79\n",
            "background 4 present at 80\n",
            "background 3 present at 81\n",
            "background 7 present at 82\n",
            "background 8 present at 83\n",
            "background 6 present at 84\n",
            "background 7 present at 85\n",
            "background 3 present at 86\n",
            "background 6 present at 87\n",
            "background 3 present at 88\n",
            "background 4 present at 89\n",
            "background 3 present at 90\n",
            "background 4 present at 91\n",
            "background 3 present at 92\n",
            "background 5 present at 93\n",
            "background 5 present at 94\n",
            "background 7 present at 95\n",
            "background 9 present at 96\n",
            "background 6 present at 97\n",
            "background 6 present at 98\n",
            "background 8 present at 99\n",
            "background 3 present at 100\n",
            "background 5 present at 101\n",
            "background 8 present at 102\n",
            "background 7 present at 103\n",
            "background 5 present at 104\n",
            "background 4 present at 105\n",
            "background 3 present at 106\n",
            "background 9 present at 107\n",
            "background 5 present at 108\n",
            "background 8 present at 109\n",
            "background 3 present at 110\n",
            "background 3 present at 111\n",
            "background 8 present at 112\n",
            "background 9 present at 113\n",
            "foreground 2 present at 114\n",
            "background 7 present at 115\n",
            "background 4 present at 116\n",
            "background 7 present at 117\n",
            "background 6 present at 118\n",
            "background 6 present at 119\n",
            "background 3 present at 120\n",
            "background 8 present at 121\n",
            "background 4 present at 122\n",
            "background 3 present at 123\n",
            "background 5 present at 124\n",
            "background 9 present at 125\n",
            "background 5 present at 126\n",
            "background 7 present at 127\n",
            "background 9 present at 128\n",
            "background 3 present at 129\n",
            "background 8 present at 130\n",
            "background 3 present at 131\n",
            "background 5 present at 132\n",
            "background 3 present at 133\n",
            "background 6 present at 134\n",
            "background 5 present at 135\n",
            "background 6 present at 136\n",
            "background 8 present at 137\n",
            "background 7 present at 138\n",
            "background 3 present at 139\n",
            "background 8 present at 140\n",
            "background 6 present at 141\n",
            "background 7 present at 142\n",
            "background 3 present at 143\n",
            "background 3 present at 144\n",
            "background 8 present at 145\n",
            "background 3 present at 146\n",
            "background 5 present at 147\n",
            "background 9 present at 148\n",
            "background 9 present at 149\n",
            "background 6 present at 150\n",
            "background 4 present at 151\n",
            "background 4 present at 152\n",
            "background 7 present at 153\n",
            "background 7 present at 154\n",
            "background 4 present at 155\n",
            "background 9 present at 156\n",
            "background 5 present at 157\n",
            "background 9 present at 158\n",
            "background 7 present at 159\n",
            "background 5 present at 160\n",
            "background 3 present at 161\n",
            "background 9 present at 162\n",
            "background 7 present at 163\n",
            "background 6 present at 164\n",
            "background 9 present at 165\n",
            "background 6 present at 166\n",
            "background 4 present at 167\n",
            "background 3 present at 168\n",
            "background 4 present at 169\n",
            "background 4 present at 170\n",
            "background 9 present at 171\n",
            "background 4 present at 172\n",
            "background 8 present at 173\n",
            "background 3 present at 174\n",
            "background 3 present at 175\n",
            "background 5 present at 176\n",
            "background 4 present at 177\n",
            "background 8 present at 178\n",
            "background 6 present at 179\n",
            "background 6 present at 180\n",
            "background 9 present at 181\n",
            "background 5 present at 182\n",
            "background 3 present at 183\n",
            "background 6 present at 184\n",
            "background 9 present at 185\n",
            "background 6 present at 186\n",
            "background 9 present at 187\n",
            "background 8 present at 188\n",
            "background 7 present at 189\n",
            "background 4 present at 190\n",
            "background 3 present at 191\n",
            "background 3 present at 192\n",
            "background 9 present at 193\n",
            "background 8 present at 194\n",
            "background 9 present at 195\n",
            "background 8 present at 196\n",
            "background 8 present at 197\n",
            "background 3 present at 198\n",
            "background 9 present at 199\n",
            "background 4 present at 200\n",
            "background 8 present at 201\n",
            "background 6 present at 202\n",
            "background 4 present at 203\n",
            "background 4 present at 204\n",
            "background 9 present at 205\n",
            "background 8 present at 206\n",
            "background 6 present at 207\n",
            "background 5 present at 208\n",
            "background 3 present at 209\n",
            "background 6 present at 210\n",
            "background 3 present at 211\n",
            "background 5 present at 212\n",
            "background 9 present at 213\n",
            "background 3 present at 214\n",
            "background 4 present at 215\n",
            "background 9 present at 216\n",
            "background 3 present at 217\n",
            "background 4 present at 218\n",
            "background 3 present at 219\n",
            "background 4 present at 220\n",
            "background 7 present at 221\n",
            "background 7 present at 222\n",
            "background 7 present at 223\n",
            "background 9 present at 224\n",
            "background 8 present at 225\n",
            "background 3 present at 226\n",
            "background 6 present at 227\n",
            "background 5 present at 228\n",
            "background 7 present at 229\n",
            "background 8 present at 230\n",
            "background 9 present at 231\n",
            "background 4 present at 232\n",
            "background 3 present at 233\n",
            "background 9 present at 234\n",
            "background 7 present at 235\n",
            "background 6 present at 236\n",
            "background 6 present at 237\n",
            "background 9 present at 238\n",
            "background 4 present at 239\n",
            "background 8 present at 240\n",
            "background 3 present at 241\n",
            "background 5 present at 242\n",
            "background 9 present at 243\n",
            "background 8 present at 244\n",
            "background 4 present at 245\n",
            "background 8 present at 246\n",
            "background 6 present at 247\n",
            "background 3 present at 248\n",
            "background 4 present at 249\n",
            "(250, 2)\n",
            "2 114\n"
          ]
        }
      ]
    },
    {
      "cell_type": "code",
      "metadata": {
        "colab": {
          "base_uri": "https://localhost:8080/"
        },
        "id": "OoxzYI-ur0S_",
        "outputId": "02f6ea0b-d457-446b-d8cd-bf5237e4c970"
      },
      "source": [
        "np.reshape(a,(2*m,1))"
      ],
      "execution_count": 227,
      "outputs": [
        {
          "output_type": "execute_result",
          "data": {
            "text/plain": [
              "array([[ 1.52560273e+00],\n",
              "       [-1.29848805e-01],\n",
              "       [-4.22650796e-01],\n",
              "       [-1.20033130e+00],\n",
              "       [ 2.34349307e-01],\n",
              "       [-2.78664796e-01],\n",
              "       [-9.86087689e-01],\n",
              "       [-7.51232458e-01],\n",
              "       [ 1.37297554e+00],\n",
              "       [-3.76733075e-01],\n",
              "       [-8.84692079e-01],\n",
              "       [-1.11551995e-01],\n",
              "       [ 3.23086410e-01],\n",
              "       [-1.23774128e+00],\n",
              "       [ 1.37297554e+00],\n",
              "       [-3.76733075e-01],\n",
              "       [-1.37994224e+00],\n",
              "       [-1.86927689e-02],\n",
              "       [ 1.18729176e+00],\n",
              "       [-1.43385686e-01],\n",
              "       [ 1.08414750e+00],\n",
              "       [ 2.21424613e+00],\n",
              "       [ 3.07773579e-01],\n",
              "       [ 5.11134472e-01],\n",
              "       [-5.80062748e-01],\n",
              "       [ 2.56861924e+00],\n",
              "       [-1.57480355e+00],\n",
              "       [ 1.37864198e-01],\n",
              "       [ 8.78834768e-01],\n",
              "       [-3.18178197e-01],\n",
              "       [ 5.58625839e-02],\n",
              "       [-1.37825691e+00],\n",
              "       [ 3.52658712e-01],\n",
              "       [-1.71500720e+00],\n",
              "       [-7.59374170e-01],\n",
              "       [-4.37189615e-03],\n",
              "       [-2.04596416e+00],\n",
              "       [-2.96574324e-01],\n",
              "       [ 6.67601921e-01],\n",
              "       [ 3.81413021e-01],\n",
              "       [ 4.32964750e-01],\n",
              "       [ 1.79447667e+00],\n",
              "       [ 5.77182460e-01],\n",
              "       [ 2.12761839e+00],\n",
              "       [ 4.81571501e-01],\n",
              "       [-1.77495772e-01],\n",
              "       [-9.01757410e-01],\n",
              "       [-6.53914167e-01],\n",
              "       [-1.05809662e+00],\n",
              "       [-2.96003187e-01],\n",
              "       [-9.64224116e-02],\n",
              "       [-1.02062394e-01],\n",
              "       [-3.51025475e-01],\n",
              "       [-1.43245892e+00],\n",
              "       [-7.86494960e-01],\n",
              "       [-6.96928923e-01],\n",
              "       [-1.78563283e+00],\n",
              "       [-2.97788754e-01],\n",
              "       [-2.91612592e-02],\n",
              "       [-8.20240457e-01],\n",
              "       [-1.36322898e+00],\n",
              "       [-1.17531631e+00],\n",
              "       [-7.28928821e-01],\n",
              "       [-2.00888740e-01],\n",
              "       [ 1.32681142e+00],\n",
              "       [-2.74341506e-01],\n",
              "       [ 2.21086140e+00],\n",
              "       [-4.46459278e-01],\n",
              "       [ 1.07505767e+00],\n",
              "       [ 7.08825917e-02],\n",
              "       [-3.58854571e-02],\n",
              "       [-1.00480957e+00],\n",
              "       [-3.17975403e-01],\n",
              "       [ 2.26776033e+00],\n",
              "       [ 4.32767080e-01],\n",
              "       [ 1.64016979e-01],\n",
              "       [ 3.05304464e-01],\n",
              "       [-1.41095178e+00],\n",
              "       [-1.57167801e+00],\n",
              "       [-2.15455107e-01],\n",
              "       [ 1.65618250e-01],\n",
              "       [ 2.34096180e+00],\n",
              "       [-1.76753678e+00],\n",
              "       [-3.71998306e-01],\n",
              "       [ 7.40531478e-01],\n",
              "       [ 2.93223156e+00],\n",
              "       [ 2.24896506e-01],\n",
              "       [-1.96101846e-01],\n",
              "       [ 4.18092096e-01],\n",
              "       [-9.94536492e-01],\n",
              "       [ 1.37861110e+00],\n",
              "       [-5.40275314e-01],\n",
              "       [-1.30672456e+00],\n",
              "       [-8.16503116e-01],\n",
              "       [-4.44657777e-01],\n",
              "       [-8.22773150e-01],\n",
              "       [-5.49469370e-02],\n",
              "       [ 2.75241692e-01],\n",
              "       [-1.72600806e+00],\n",
              "       [-3.41770538e-01],\n",
              "       [-1.01222748e-01],\n",
              "       [-6.04064183e-01],\n",
              "       [ 6.16491513e-01],\n",
              "       [ 1.27586905e-01],\n",
              "       [ 1.67964862e-01],\n",
              "       [-7.09359803e-01],\n",
              "       [ 1.02651061e+00],\n",
              "       [ 2.14150790e+00],\n",
              "       [-1.21775631e+00],\n",
              "       [-7.16974055e-02],\n",
              "       [-7.12909825e-01],\n",
              "       [-1.23765294e+00],\n",
              "       [-1.34572194e+00],\n",
              "       [ 2.21321434e-01],\n",
              "       [-6.10886116e-01],\n",
              "       [-4.80010535e-01],\n",
              "       [-6.74248734e-01],\n",
              "       [-8.72847231e-01],\n",
              "       [-5.64662439e-01],\n",
              "       [ 2.31680967e+00],\n",
              "       [-1.44915919e-01],\n",
              "       [-3.20870253e-01],\n",
              "       [-8.84312693e-01],\n",
              "       [-6.25599566e-01],\n",
              "       [ 1.52489136e+00],\n",
              "       [ 2.63127792e-02],\n",
              "       [-7.92128161e-01],\n",
              "       [-5.45112852e-01],\n",
              "       [ 1.27970573e-01],\n",
              "       [-1.14855190e+00],\n",
              "       [ 8.59813895e-01],\n",
              "       [-3.67608121e-01],\n",
              "       [-9.39856356e-02],\n",
              "       [-4.65375966e-01],\n",
              "       [-1.50036085e+00],\n",
              "       [-1.06988238e-01],\n",
              "       [-7.41694481e-01],\n",
              "       [-1.11564667e+00],\n",
              "       [-1.56287722e+00],\n",
              "       [ 6.05328543e-02],\n",
              "       [-1.06388916e+00],\n",
              "       [-1.58012961e-01],\n",
              "       [ 2.61769821e+00],\n",
              "       [ 3.76482710e-01],\n",
              "       [ 7.20750412e-01],\n",
              "       [-1.25938217e-01],\n",
              "       [-5.51467739e-02],\n",
              "       [-1.09701273e+00],\n",
              "       [-3.21420942e-01],\n",
              "       [ 4.12020452e-02],\n",
              "       [ 9.69369557e-01],\n",
              "       [-2.55073260e-01],\n",
              "       [ 2.26230296e-01],\n",
              "       [-9.79478646e-01],\n",
              "       [-4.42583467e-01],\n",
              "       [ 2.03331831e+00],\n",
              "       [ 1.73975532e-01],\n",
              "       [-1.01291610e+00],\n",
              "       [ 3.28419291e-01],\n",
              "       [-2.63913358e-01],\n",
              "       [ 6.77182351e-02],\n",
              "       [ 2.31384142e+00],\n",
              "       [-1.76489389e+00],\n",
              "       [-2.42244483e-01],\n",
              "       [-4.10409314e-01],\n",
              "       [ 2.24058531e-02],\n",
              "       [-7.92128161e-01],\n",
              "       [-5.45112852e-01],\n",
              "       [ 1.21334728e+00],\n",
              "       [-1.27332532e+00],\n",
              "       [ 2.70745155e-02],\n",
              "       [ 6.08602622e-01],\n",
              "       [-1.54110299e+00],\n",
              "       [ 1.49389444e-01],\n",
              "       [-4.17955611e-01],\n",
              "       [-8.20317805e-01],\n",
              "       [-3.22047527e-01],\n",
              "       [-7.25343701e-01],\n",
              "       [-2.50370275e-01],\n",
              "       [ 2.24995799e+00],\n",
              "       [-3.22047527e-01],\n",
              "       [-7.25343701e-01],\n",
              "       [ 1.08414750e+00],\n",
              "       [ 2.21424613e+00],\n",
              "       [-1.49347717e+00],\n",
              "       [-9.45644637e-02],\n",
              "       [ 1.28523668e+00],\n",
              "       [ 2.07231324e-01],\n",
              "       [ 1.48811544e+00],\n",
              "       [-1.77627931e-01],\n",
              "       [-1.40237805e-02],\n",
              "       [-6.34840722e-01],\n",
              "       [ 8.24353950e-01],\n",
              "       [ 3.57656156e-01],\n",
              "       [ 2.23201058e-01],\n",
              "       [-8.23635331e-01],\n",
              "       [ 1.16661925e-01],\n",
              "       [-1.18815427e+00],\n",
              "       [-9.27831149e-01],\n",
              "       [-1.10239133e+00],\n",
              "       [-1.81062817e+00],\n",
              "       [-2.10707784e-01],\n",
              "       [ 1.95628959e+00],\n",
              "       [ 4.89462962e-01],\n",
              "       [-4.48213599e-01],\n",
              "       [-7.70579723e-02],\n",
              "       [-7.48159744e-01],\n",
              "       [ 7.56823709e-02],\n",
              "       [ 1.35636024e+00],\n",
              "       [-2.12008125e-01],\n",
              "       [-2.85802890e-01],\n",
              "       [ 2.10771439e+00],\n",
              "       [-1.06388685e+00],\n",
              "       [-3.72483115e-01],\n",
              "       [-6.04676363e-01],\n",
              "       [-2.99562846e-01],\n",
              "       [ 2.26525945e+00],\n",
              "       [-3.48181781e-01],\n",
              "       [-1.42948218e+00],\n",
              "       [-3.19772131e-01],\n",
              "       [-1.81062817e+00],\n",
              "       [-2.10707784e-01],\n",
              "       [-2.60779530e+00],\n",
              "       [ 4.64938571e-01],\n",
              "       [-1.31011936e-02],\n",
              "       [-8.23270076e-01],\n",
              "       [ 7.85851448e-01],\n",
              "       [-3.00070982e-01],\n",
              "       [-7.07523532e+00],\n",
              "       [-4.89589674e+00],\n",
              "       [ 2.18459146e-02],\n",
              "       [-8.93468031e-01],\n",
              "       [ 3.58676355e-01],\n",
              "       [ 1.19962428e+00],\n",
              "       [-6.68237557e-01],\n",
              "       [-5.28588417e-01],\n",
              "       [-1.39933522e-01],\n",
              "       [-1.47225453e+00],\n",
              "       [-1.81649769e-01],\n",
              "       [-1.10661191e+00],\n",
              "       [-1.61911396e+00],\n",
              "       [ 4.96850838e-02],\n",
              "       [-7.89195748e-01],\n",
              "       [-1.00834433e+00],\n",
              "       [-2.61655961e-01],\n",
              "       [ 2.34520609e+00],\n",
              "       [-1.05809662e+00],\n",
              "       [-2.96003187e-01],\n",
              "       [ 1.90775045e+00],\n",
              "       [-7.99240765e-02],\n",
              "       [-4.98152358e-03],\n",
              "       [-1.23394502e-01],\n",
              "       [ 1.91230802e+00],\n",
              "       [-4.08706995e-02],\n",
              "       [-4.24940213e-01],\n",
              "       [ 4.58343139e-01],\n",
              "       [ 7.30145594e-01],\n",
              "       [ 1.13122222e-01],\n",
              "       [-1.76489389e+00],\n",
              "       [-2.42244483e-01],\n",
              "       [-4.44657777e-01],\n",
              "       [-8.22773150e-01],\n",
              "       [-4.28184036e-01],\n",
              "       [ 3.31364344e-01],\n",
              "       [ 4.88131675e-01],\n",
              "       [ 1.47963885e-01],\n",
              "       [-1.44282799e+00],\n",
              "       [ 1.17748109e-02],\n",
              "       [ 3.71947902e-01],\n",
              "       [-9.11201215e-01],\n",
              "       [ 1.74149072e+00],\n",
              "       [-3.81787685e-01],\n",
              "       [-8.33672933e-02],\n",
              "       [-1.42331360e+00],\n",
              "       [-3.31801278e-01],\n",
              "       [-3.30396008e-01],\n",
              "       [ 1.65530694e-01],\n",
              "       [-7.24020536e-02],\n",
              "       [-1.06956800e+00],\n",
              "       [-3.14684961e-01],\n",
              "       [-4.74628443e-01],\n",
              "       [-4.10969244e-01],\n",
              "       [ 3.05239192e-01],\n",
              "       [-1.63718743e+00],\n",
              "       [ 4.32767080e-01],\n",
              "       [ 1.64016979e-01],\n",
              "       [-1.28385904e+00],\n",
              "       [-2.12603596e-01],\n",
              "       [-1.11018698e+00],\n",
              "       [-2.64075651e-01],\n",
              "       [-6.29554538e-01],\n",
              "       [-8.18117468e-01],\n",
              "       [-7.86643022e-01],\n",
              "       [-1.64314616e-01],\n",
              "       [ 1.23864451e+00],\n",
              "       [ 2.64524360e-02],\n",
              "       [ 7.65601430e-01],\n",
              "       [ 5.02270197e-05],\n",
              "       [ 2.44313200e-01],\n",
              "       [ 3.89348136e-01],\n",
              "       [ 1.35731333e-02],\n",
              "       [-1.32680646e+00],\n",
              "       [-2.72830312e-01],\n",
              "       [ 2.41330606e+00],\n",
              "       [ 9.46945642e-02],\n",
              "       [ 2.75274924e+00],\n",
              "       [ 2.11027870e-01],\n",
              "       [-1.07657577e-01],\n",
              "       [-3.37538704e-01],\n",
              "       [-3.90671638e-02],\n",
              "       [ 8.26043457e-02],\n",
              "       [ 1.54183414e+00],\n",
              "       [ 8.56662331e-01],\n",
              "       [ 2.58948501e-01],\n",
              "       [ 8.12164486e-01],\n",
              "       [ 2.95767741e-01],\n",
              "       [ 1.12412883e+00],\n",
              "       [ 5.19239746e-01],\n",
              "       [ 9.24847205e-02],\n",
              "       [-3.69965219e-02],\n",
              "       [ 1.53130355e+00],\n",
              "       [ 3.24489297e-01],\n",
              "       [-1.35123550e+00],\n",
              "       [ 1.22380977e-02],\n",
              "       [ 2.14351628e-01],\n",
              "       [ 3.03753187e-01],\n",
              "       [-3.19640660e-01],\n",
              "       [ 7.27720670e-01],\n",
              "       [ 3.16268110e-01],\n",
              "       [-1.04526045e+00],\n",
              "       [ 5.25833762e-01],\n",
              "       [ 5.11895170e-01],\n",
              "       [-2.53295890e-01],\n",
              "       [-1.39330009e+00],\n",
              "       [-5.16927059e-01],\n",
              "       [ 2.55216887e+00],\n",
              "       [-6.06731138e-01],\n",
              "       [-7.43156922e-01],\n",
              "       [-6.62261367e-01],\n",
              "       [ 2.45977165e+00],\n",
              "       [ 1.04340919e+00],\n",
              "       [ 1.84744000e+00],\n",
              "       [ 6.10049357e-01],\n",
              "       [ 2.08587281e-01],\n",
              "       [ 2.25340044e-01],\n",
              "       [ 2.41526110e+00],\n",
              "       [-3.28095024e-01],\n",
              "       [-1.08047743e+00],\n",
              "       [-1.76004358e+00],\n",
              "       [-7.79205691e-01],\n",
              "       [-1.36603076e+00],\n",
              "       [-1.26813830e-01],\n",
              "       [ 1.80035637e+00],\n",
              "       [-6.43599474e-01],\n",
              "       [-8.44423033e-01],\n",
              "       [ 1.98800238e+00],\n",
              "       [-1.09137008e+00],\n",
              "       [-6.56277007e-01],\n",
              "       [-7.41532010e-02],\n",
              "       [-1.04397954e+00],\n",
              "       [ 5.31990724e-01],\n",
              "       [-1.41135818e+00],\n",
              "       [ 5.75212580e-01],\n",
              "       [-7.45097342e-01],\n",
              "       [ 1.70827733e+00],\n",
              "       [ 3.43147412e-01],\n",
              "       [-2.44453975e+00],\n",
              "       [-3.60894781e-01],\n",
              "       [-1.81159664e-01],\n",
              "       [-9.06800984e-01],\n",
              "       [ 7.87705037e-01],\n",
              "       [ 6.71544706e-01],\n",
              "       [ 3.80519801e-01],\n",
              "       [-1.21920240e+00],\n",
              "       [ 1.05483749e+00],\n",
              "       [-7.88112837e-03],\n",
              "       [-6.40659990e-01],\n",
              "       [-7.43412705e-01],\n",
              "       [ 4.07913942e-01],\n",
              "       [-1.12395934e-01],\n",
              "       [-2.30305499e-01],\n",
              "       [ 1.58091139e+00],\n",
              "       [-2.42348273e+00],\n",
              "       [ 4.04694020e-01],\n",
              "       [-2.09266596e+00],\n",
              "       [-4.62960546e-01],\n",
              "       [ 1.16359575e+00],\n",
              "       [ 4.11131022e-01],\n",
              "       [-7.58392301e-01],\n",
              "       [-6.71155714e-01],\n",
              "       [ 1.24217531e+00],\n",
              "       [ 1.96053614e-01],\n",
              "       [-8.60030425e-01],\n",
              "       [-3.94880679e-01],\n",
              "       [-9.03910886e-01],\n",
              "       [-8.83623982e-01],\n",
              "       [-1.32255500e+00],\n",
              "       [-4.43364161e-01],\n",
              "       [ 2.34349307e-01],\n",
              "       [-2.78664796e-01],\n",
              "       [ 3.79014542e-01],\n",
              "       [ 3.11881222e+00],\n",
              "       [-6.68866574e-01],\n",
              "       [-1.07438526e+00],\n",
              "       [ 5.99956964e-01],\n",
              "       [-1.13171854e+00],\n",
              "       [-2.07443750e-01],\n",
              "       [ 1.86334882e+00],\n",
              "       [-1.24699863e-01],\n",
              "       [ 2.08528506e+00],\n",
              "       [-1.04714217e-01],\n",
              "       [-1.81951594e-01],\n",
              "       [-1.32034396e+00],\n",
              "       [-7.39579362e-01],\n",
              "       [ 1.75719104e-01],\n",
              "       [-1.05833274e+00],\n",
              "       [ 1.13568403e+00],\n",
              "       [-3.63964463e-01],\n",
              "       [-1.53256517e+00],\n",
              "       [-3.16629312e-01],\n",
              "       [-3.85586129e-01],\n",
              "       [-9.22064495e-01],\n",
              "       [-9.43047859e-01],\n",
              "       [-3.08895288e-01],\n",
              "       [ 1.83126191e+00],\n",
              "       [-4.94523158e-01],\n",
              "       [ 9.03300652e-01],\n",
              "       [-2.29502581e-02],\n",
              "       [-1.53275732e+00],\n",
              "       [ 1.85822035e-01],\n",
              "       [ 4.99660012e-02],\n",
              "       [ 2.05032505e+00],\n",
              "       [ 7.74575162e-01],\n",
              "       [-5.40612287e-03],\n",
              "       [-1.04128557e+00],\n",
              "       [-1.07650971e+00],\n",
              "       [ 1.10449257e+00],\n",
              "       [ 1.90890798e+00],\n",
              "       [-1.86812859e+00],\n",
              "       [-2.11241110e-01],\n",
              "       [ 5.00445443e-01],\n",
              "       [ 1.71315143e+00],\n",
              "       [ 1.95120676e-01],\n",
              "       [ 2.27235410e-01],\n",
              "       [-3.73600873e-01],\n",
              "       [-3.51190161e-01],\n",
              "       [ 5.85564226e-01],\n",
              "       [-1.08037746e-01],\n",
              "       [ 1.57695107e+00],\n",
              "       [ 1.60539397e-01],\n",
              "       [-5.92339369e-01],\n",
              "       [-6.79315156e-01],\n",
              "       [-1.38285563e+00],\n",
              "       [ 1.37699495e-01],\n",
              "       [ 2.71583340e-01],\n",
              "       [-2.13030393e+00],\n",
              "       [ 7.90916019e-01],\n",
              "       [-3.06699977e-02],\n",
              "       [ 6.16491513e-01],\n",
              "       [ 1.27586905e-01],\n",
              "       [-1.22993421e+00],\n",
              "       [-4.10025782e-01],\n",
              "       [ 6.93470148e-01],\n",
              "       [ 1.98640883e-03],\n",
              "       [ 2.92842662e-02],\n",
              "       [ 2.29803228e+00],\n",
              "       [-1.00159206e+00],\n",
              "       [-6.18125657e-01],\n",
              "       [ 7.24367802e-01],\n",
              "       [ 1.21529387e-01],\n",
              "       [-5.47578458e-01],\n",
              "       [-4.68399871e-01],\n",
              "       [ 1.10324357e-01],\n",
              "       [-1.89371953e+00],\n",
              "       [ 3.16268110e-01],\n",
              "       [-1.04526045e+00],\n",
              "       [ 5.71550597e-01],\n",
              "       [-1.33415832e-01],\n",
              "       [ 9.22234065e-01],\n",
              "       [ 1.96238438e+00],\n",
              "       [ 4.96461475e-03],\n",
              "       [-8.45315893e-01],\n",
              "       [-1.32541646e+00],\n",
              "       [ 7.21993476e-01],\n",
              "       [ 1.42084582e+00],\n",
              "       [-2.20564911e-01],\n",
              "       [ 4.44642600e-01],\n",
              "       [-1.70116810e-01],\n",
              "       [-1.19196930e+00],\n",
              "       [-6.90891874e-01],\n",
              "       [ 7.91645946e-02],\n",
              "       [ 2.56229571e+00],\n",
              "       [-1.35143704e+00],\n",
              "       [-5.23842674e-01],\n",
              "       [ 7.72214296e-01],\n",
              "       [-1.25111989e+00],\n",
              "       [-1.01619035e+00],\n",
              "       [-2.02818439e-01],\n",
              "       [ 1.58358735e-01],\n",
              "       [ 2.00064576e+00]])"
            ]
          },
          "metadata": {},
          "execution_count": 227
        }
      ]
    },
    {
      "cell_type": "code",
      "metadata": {
        "id": "jqbvfbwVr0TN"
      },
      "source": [
        "desired_num = 2000\n",
        "mosaic_list_of_images =[]\n",
        "mosaic_label = []\n",
        "fore_idx=[]\n",
        "for j in range(desired_num):\n",
        "    np.random.seed(j)\n",
        "    fg_class  = np.random.randint(0,3)\n",
        "    fg_idx = np.random.randint(0,m)\n",
        "    a = []\n",
        "    for i in range(m):\n",
        "        if i == fg_idx:\n",
        "            b = np.random.choice(np.where(idx[fg_class]==True)[0],size=1)\n",
        "            a.append(x[b])\n",
        "#             print(\"foreground \"+str(fg_class)+\" present at \" + str(fg_idx))\n",
        "        else:\n",
        "            bg_class = np.random.randint(3,10)\n",
        "            b = np.random.choice(np.where(idx[bg_class]==True)[0],size=1)\n",
        "            a.append(x[b])\n",
        "#             print(\"background \"+str(bg_class)+\" present at \" + str(i))\n",
        "    a = np.concatenate(a,axis=0)\n",
        "    mosaic_list_of_images.append(np.reshape(a,(2*m,1)))\n",
        "    mosaic_label.append(fg_class)\n",
        "    fore_idx.append(fg_idx)"
      ],
      "execution_count": 228,
      "outputs": []
    },
    {
      "cell_type": "code",
      "metadata": {
        "colab": {
          "base_uri": "https://localhost:8080/"
        },
        "id": "YzJPNP2mFwAG",
        "outputId": "defbdf06-93af-44d5-8bfc-18e6a039db94"
      },
      "source": [
        "mosaic_list_of_images = np.concatenate(mosaic_list_of_images,axis=1).T\n",
        "mosaic_list_of_images.shape"
      ],
      "execution_count": 229,
      "outputs": [
        {
          "output_type": "execute_result",
          "data": {
            "text/plain": [
              "(2000, 500)"
            ]
          },
          "metadata": {},
          "execution_count": 229
        }
      ]
    },
    {
      "cell_type": "code",
      "metadata": {
        "colab": {
          "base_uri": "https://localhost:8080/"
        },
        "id": "2aIPMgLXNiXW",
        "outputId": "e1b17656-dad1-48a6-d256-f1c6cdea7424"
      },
      "source": [
        "mosaic_list_of_images.shape, mosaic_list_of_images[0]"
      ],
      "execution_count": 230,
      "outputs": [
        {
          "output_type": "execute_result",
          "data": {
            "text/plain": [
              "((2000, 500),\n",
              " array([ 5.05033874e-01, -6.51442375e-01, -2.59955349e-02, -1.54374402e+00,\n",
              "         4.78358582e-01, -1.25389275e+00,  5.00445443e-01,  1.71315143e+00,\n",
              "        -7.26036664e-01, -6.82400884e-01,  3.40706957e-01,  2.88995008e-02,\n",
              "         7.16311356e-01, -1.42621688e-01, -1.42817136e+00, -3.82902021e-01,\n",
              "         1.24086849e+00, -1.47454038e-01,  7.02373522e-01,  2.96185609e-01,\n",
              "         2.25544289e-01,  1.98923115e-01, -1.35092213e-01,  2.32146152e+00,\n",
              "         4.70651371e-01, -1.70530655e+00, -4.42421792e-02, -8.58447371e-01,\n",
              "         6.20891493e-01, -8.65683419e-02, -1.00159206e+00, -6.18125657e-01,\n",
              "        -2.28311639e+00, -9.65179595e-02,  2.42914057e-01, -1.06097518e+00,\n",
              "         5.55567480e-01, -1.08092273e+00,  1.06767904e-01,  6.90941118e-01,\n",
              "        -1.81042807e+00, -4.21543195e-01,  3.45167982e-01,  1.91607747e+00,\n",
              "        -1.44649678e+00,  3.53085288e-01,  3.65159740e-01, -6.72137948e-01,\n",
              "         1.22158179e+00, -2.29521265e-01, -3.98487287e-01, -1.57587090e-01,\n",
              "        -1.71963958e+00, -1.54071324e-01,  2.01794061e-01, -1.94899946e-02,\n",
              "        -1.70370754e-01, -5.19694690e-01, -2.29570869e+00, -1.46523424e-01,\n",
              "        -1.21373644e+00,  2.18163898e-01,  1.76844163e+00, -1.39781800e-01,\n",
              "        -1.06409105e+00,  4.43898696e-02, -4.44189803e-01,  2.69172256e+00,\n",
              "         3.20151998e-01,  1.70145171e+00, -7.08525830e-01, -1.28478294e+00,\n",
              "        -6.14079936e-01, -1.32199884e+00,  1.27399796e+00,  1.07152209e-01,\n",
              "        -1.66469081e+00, -5.87158699e-01, -4.37528749e-01, -1.25489330e+00,\n",
              "        -7.27338552e-01, -4.99348948e-01,  1.68006305e+00, -4.18144971e-01,\n",
              "         2.74271946e-01, -1.04246037e+00,  1.55484885e-01,  2.62489481e-01,\n",
              "        -7.84063735e-01,  4.15058208e-01,  2.81027713e-02,  2.52392448e-01,\n",
              "        -3.52997620e-01, -3.84935690e-01,  7.07990475e+00,  5.57919731e+00,\n",
              "         1.71351613e-01,  1.37566089e-01,  1.56355450e+00,  1.35699615e-01,\n",
              "        -9.03910886e-01, -8.83623982e-01, -3.51144023e-01, -6.32347029e-01,\n",
              "        -6.60366100e-02,  1.80548783e+00, -3.62761196e-01,  2.26878351e+00,\n",
              "        -1.37176326e+00,  1.11338121e-01, -9.21643912e-01, -1.85024242e-01,\n",
              "        -1.65114215e+00, -1.85339126e-02,  1.68871259e+00,  1.73611688e-01,\n",
              "        -7.56539971e-01, -2.86861809e-03,  1.13568403e+00, -3.63964463e-01,\n",
              "        -1.15297205e+00, -8.93168829e-01, -1.63083694e+00, -6.81449210e-01,\n",
              "        -1.68882384e+00,  2.44677434e-02, -3.58854571e-02, -1.00480957e+00,\n",
              "        -3.75702219e-01, -7.08261223e-01,  5.53287433e-01,  1.64369962e+00,\n",
              "         1.04054339e+00, -7.44331461e-01,  1.73975532e-01, -1.01291610e+00,\n",
              "         4.25371196e-02,  5.92296879e-01,  5.25468660e-01,  2.41171178e+00,\n",
              "        -2.70681769e-01, -1.33980249e+00, -1.97113178e-01,  3.02984241e+00,\n",
              "        -3.32173391e-01,  2.44946192e+00,  1.64201057e+00, -4.81968149e-02,\n",
              "         7.00297639e-01, -1.28061246e+00,  1.59724249e-01, -1.19708077e+00,\n",
              "         3.89327570e-01, -5.89897030e-01, -1.26033991e+00, -2.62106110e-01,\n",
              "        -1.33240343e+00, -6.27397915e-01,  8.03014927e-01,  3.50786077e-01,\n",
              "        -8.30107331e-01,  1.67283046e-02, -1.82023344e+00, -1.48532802e-01,\n",
              "        -3.22047527e-01, -7.25343701e-01, -5.91869170e-02, -1.05240024e-01,\n",
              "        -6.24971338e-01, -1.03659238e+00, -1.47266201e+00, -1.88271986e-02,\n",
              "        -1.76489389e+00, -2.42244483e-01, -1.26873460e+00,  1.51239355e-01,\n",
              "         7.30979560e-01,  1.47742509e-01,  7.79261211e-01, -1.16475317e+00,\n",
              "        -4.13831348e-01, -6.22840485e-01,  7.07799568e-01,  5.00312051e-01,\n",
              "         1.01158406e+00, -1.00098502e+00, -5.17222437e-01, -9.77517737e-01,\n",
              "        -1.56725038e+00, -5.86135306e-01, -4.44657777e-01, -8.22773150e-01,\n",
              "        -1.78212748e+00,  3.63231887e-01, -3.04472016e-01, -8.94314631e-01,\n",
              "        -2.67233130e-02,  3.39433995e-01, -2.20756769e+00, -6.05769799e-01,\n",
              "        -8.27105560e-01, -1.32163118e+00,  3.27084761e-01,  2.34272779e+00,\n",
              "        -1.71102985e+00,  3.27917269e-01, -2.59955349e-02, -1.54374402e+00,\n",
              "        -3.71282693e-01,  1.94301682e+00, -1.09137008e+00, -6.56277007e-01,\n",
              "         3.40658627e-01, -2.77374491e-01, -1.78212748e+00,  3.63231887e-01,\n",
              "         5.81449405e-01,  2.20518017e+00, -1.20029228e+00, -1.12628335e-01,\n",
              "        -8.20831807e-02, -1.23003882e+00,  2.28267229e-01, -1.08960523e+00,\n",
              "         2.50267424e-01,  1.92728328e-01, -1.64455577e+00, -9.56516639e-01,\n",
              "        -3.03166608e-01, -1.51911329e+00,  6.38405532e-02, -9.17867515e-01,\n",
              "        -9.92439409e-01, -4.17730258e-02,  1.86404825e-01, -1.72606069e+00,\n",
              "         1.10754434e+00, -6.85066447e-02,  2.44149167e-01, -1.73445419e+00,\n",
              "         5.38095000e-01, -4.27000293e-01, -4.33750272e-01,  2.45799666e-02,\n",
              "        -7.27961213e-01, -8.17812684e-01, -1.64470555e+00,  3.36957979e-01,\n",
              "         1.62030575e-01, -8.52558019e-03,  4.25371196e-02,  5.92296879e-01,\n",
              "         8.16584099e-02, -9.07279336e-01,  3.23086410e-01, -1.23774128e+00,\n",
              "         3.51407129e-01,  1.98476839e+00, -6.37995813e-01,  1.85309801e+00,\n",
              "        -5.36120848e-02, -1.13302746e+00,  7.47618241e-01, -4.06885510e-01,\n",
              "         1.57101325e-01, -4.80216570e-01, -1.95151396e-01,  2.21979759e+00,\n",
              "         2.03308247e-01, -8.28603544e-01, -1.43772903e+00, -7.18392674e-01,\n",
              "        -1.16331388e-01,  1.74081748e+00,  2.21800022e+00, -7.19783512e-01,\n",
              "        -1.40007120e+00, -8.49867076e-01, -2.26135397e+00, -5.97387699e-01,\n",
              "         1.89810322e-01,  5.26425861e-02,  2.23151478e-01, -1.40927220e+00,\n",
              "        -4.53883083e-01, -6.59946758e-01, -8.22962717e-01, -7.32521912e-01,\n",
              "        -7.15570921e-01, -2.18955776e-01, -1.43048408e+00,  1.22508293e-01,\n",
              "         2.28725933e-01,  2.04617349e+00, -1.76004358e+00, -7.79205691e-01,\n",
              "        -4.28184036e-01,  3.31364344e-01, -2.25489405e+00, -1.63891296e-01,\n",
              "        -1.46013486e-01,  2.15065911e+00,  5.30153970e-01, -3.70775159e-01,\n",
              "         1.60166194e+00, -3.79386636e-01,  1.99911154e-01, -1.00889401e+00,\n",
              "        -3.17975403e-01,  2.26776033e+00,  2.25340044e-01,  2.41526110e+00,\n",
              "        -4.51046758e-01,  5.76152034e-01, -6.96115195e-02, -4.95109584e-01,\n",
              "         5.36233398e-01, -1.53999596e-01, -7.66735997e-01, -9.36827812e-01,\n",
              "         1.84808351e+00, -3.75640965e-01, -1.02416450e-01, -1.38814768e+00,\n",
              "         4.64233584e-01, -1.50998520e+00,  1.14529139e+00, -5.07455396e-01,\n",
              "         2.92051096e-01,  8.46814152e-02,  3.91611719e-01, -1.97898716e+00,\n",
              "        -2.96035988e-01,  1.88995387e+00, -2.13961879e-01,  4.87219425e-01,\n",
              "         1.88706834e-02,  1.98795580e+00,  1.26886036e+00,  1.72901516e-01,\n",
              "         2.40327497e-01, -1.40424546e+00,  3.07956730e-01, -1.43963641e-01,\n",
              "        -9.16353764e-01,  2.05517413e+00,  2.50300924e+00, -5.19730996e-01,\n",
              "         8.80841778e-01,  9.13816674e-01,  2.38810202e+00, -2.12054639e-01,\n",
              "         6.54266103e-01,  3.38305012e-01,  2.91512648e-01, -1.60840075e+00,\n",
              "        -7.62117358e-01,  5.09101096e-01,  2.75479289e-02, -1.18022824e+00,\n",
              "        -1.37994224e+00, -1.86927689e-02, -2.53108712e+00,  8.65181460e-02,\n",
              "        -3.87867686e-01, -9.75166396e-01,  2.12577001e-01,  2.39597898e+00,\n",
              "         3.32266671e-01, -2.11061577e-01, -1.67259454e+00, -2.67491839e-01,\n",
              "        -1.67801155e+00,  7.83979544e-02, -1.19965118e-01,  1.08044270e-01,\n",
              "        -2.59638707e-01,  3.36347133e-01,  1.39879581e+00,  5.05148881e-02,\n",
              "         8.31383162e-01,  4.01107055e-01,  8.12367225e-01, -2.27545828e-02,\n",
              "        -1.14057100e+00,  1.80049645e-01, -1.41834640e+00, -2.04040026e-01,\n",
              "        -8.10818512e-01, -9.63056497e-01, -9.45100672e-02,  6.05336942e-01,\n",
              "         2.47448930e-01, -2.33495727e-01,  2.05657716e+00, -1.72711394e-01,\n",
              "        -6.31870508e-01, -4.87851941e-01, -1.38096265e-01,  2.26852177e+00,\n",
              "         3.65864806e-01, -1.38937170e+00,  5.81449405e-01,  2.20518017e+00,\n",
              "        -8.41766085e-01, -9.03217841e-01, -6.17699186e-02, -1.38879055e+00,\n",
              "        -3.87867686e-01, -9.75166396e-01,  8.31625962e-01, -1.05513643e+00,\n",
              "        -3.14937119e-01,  1.18939174e-01, -9.89866886e-01, -6.27253590e-01,\n",
              "        -3.71282693e-01,  1.94301682e+00,  1.24756025e+00, -7.64666375e-01,\n",
              "        -9.86087689e-01, -7.51232458e-01,  4.16257344e-01, -1.46806782e+00,\n",
              "         1.36964601e+00, -3.63280741e-01, -1.69192412e-01, -1.57348711e+00,\n",
              "         5.45181836e-01,  2.19349493e+00, -1.90374736e-01,  2.00556991e+00,\n",
              "        -1.56725038e+00, -5.86135306e-01,  1.62140049e-01,  2.46173007e-01,\n",
              "        -1.25793720e+00,  1.09595801e-01, -1.31013957e+00,  1.65011031e+00,\n",
              "         2.33635114e-01, -1.53224689e+00, -7.32422784e-01,  1.99957440e+00,\n",
              "         9.51460569e-03, -5.32730405e-01,  1.16319929e+00, -2.19433676e-01,\n",
              "        -1.80138171e+00, -3.34862240e-01,  1.55755973e+00,  1.68283401e-01,\n",
              "        -1.31825299e+00, -2.89959798e-01, -8.56111711e-01,  2.09773466e-01,\n",
              "         7.67052323e-01,  2.43779985e+00,  1.08274127e+00,  5.45636739e-02,\n",
              "         3.19779776e-01,  4.92524895e-01, -3.26583956e-01, -4.72462092e-01,\n",
              "         2.60567599e-01, -9.64248111e-01, -3.33417835e-01,  1.85240724e+00,\n",
              "        -1.58886313e+00, -3.71753185e-01,  8.30805050e-01, -8.14263010e-01,\n",
              "         9.36928523e-01, -3.21878831e-01, -8.36683217e-01,  1.84075678e+00,\n",
              "         4.00820356e-01,  1.40494968e-01, -2.94244824e-01, -1.05456724e-01,\n",
              "        -8.59239438e-01, -8.05152444e-03, -9.43047859e-01, -3.08895288e-01,\n",
              "         8.11696314e-01, -3.87223588e-01, -6.65145949e-01, -9.31520868e-02,\n",
              "         1.55755973e+00,  1.68283401e-01, -1.09695897e+00, -5.79015791e-02,\n",
              "        -1.56452372e-01,  1.60622734e-01,  7.76479787e-01,  1.73421068e+00,\n",
              "        -4.08871526e-01, -9.71474236e-01, -7.82361791e-01, -8.30030929e-01]))"
            ]
          },
          "metadata": {},
          "execution_count": 230
        }
      ]
    },
    {
      "cell_type": "code",
      "metadata": {
        "colab": {
          "base_uri": "https://localhost:8080/"
        },
        "id": "A3qcsbbzPfRG",
        "outputId": "cc05f04e-d67f-4e95-8220-1c48c7394b24"
      },
      "source": [
        "for j in range(m):\n",
        "  print(mosaic_list_of_images[0][2*j:2*j+2])\n",
        "  "
      ],
      "execution_count": 231,
      "outputs": [
        {
          "output_type": "stream",
          "name": "stdout",
          "text": [
            "[ 0.50503387 -0.65144237]\n",
            "[-0.02599553 -1.54374402]\n",
            "[ 0.47835858 -1.25389275]\n",
            "[0.50044544 1.71315143]\n",
            "[-0.72603666 -0.68240088]\n",
            "[0.34070696 0.0288995 ]\n",
            "[ 0.71631136 -0.14262169]\n",
            "[-1.42817136 -0.38290202]\n",
            "[ 1.24086849 -0.14745404]\n",
            "[0.70237352 0.29618561]\n",
            "[0.22554429 0.19892312]\n",
            "[-0.13509221  2.32146152]\n",
            "[ 0.47065137 -1.70530655]\n",
            "[-0.04424218 -0.85844737]\n",
            "[ 0.62089149 -0.08656834]\n",
            "[-1.00159206 -0.61812566]\n",
            "[-2.28311639 -0.09651796]\n",
            "[ 0.24291406 -1.06097518]\n",
            "[ 0.55556748 -1.08092273]\n",
            "[0.1067679  0.69094112]\n",
            "[-1.81042807 -0.42154319]\n",
            "[0.34516798 1.91607747]\n",
            "[-1.44649678  0.35308529]\n",
            "[ 0.36515974 -0.67213795]\n",
            "[ 1.22158179 -0.22952126]\n",
            "[-0.39848729 -0.15758709]\n",
            "[-1.71963958 -0.15407132]\n",
            "[ 0.20179406 -0.01948999]\n",
            "[-0.17037075 -0.51969469]\n",
            "[-2.29570869 -0.14652342]\n",
            "[-1.21373644  0.2181639 ]\n",
            "[ 1.76844163 -0.1397818 ]\n",
            "[-1.06409105  0.04438987]\n",
            "[-0.4441898   2.69172256]\n",
            "[0.320152   1.70145171]\n",
            "[-0.70852583 -1.28478294]\n",
            "[-0.61407994 -1.32199884]\n",
            "[1.27399796 0.10715221]\n",
            "[-1.66469081 -0.5871587 ]\n",
            "[-0.43752875 -1.2548933 ]\n",
            "[-0.72733855 -0.49934895]\n",
            "[ 1.68006305 -0.41814497]\n",
            "[ 0.27427195 -1.04246037]\n",
            "[0.15548488 0.26248948]\n",
            "[-0.78406373  0.41505821]\n",
            "[0.02810277 0.25239245]\n",
            "[-0.35299762 -0.38493569]\n",
            "[7.07990475 5.57919731]\n",
            "[0.17135161 0.13756609]\n",
            "[1.5635545  0.13569962]\n",
            "[-0.90391089 -0.88362398]\n",
            "[-0.35114402 -0.63234703]\n",
            "[-0.06603661  1.80548783]\n",
            "[-0.3627612   2.26878351]\n",
            "[-1.37176326  0.11133812]\n",
            "[-0.92164391 -0.18502424]\n",
            "[-1.65114215 -0.01853391]\n",
            "[1.68871259 0.17361169]\n",
            "[-0.75653997 -0.00286862]\n",
            "[ 1.13568403 -0.36396446]\n",
            "[-1.15297205 -0.89316883]\n",
            "[-1.63083694 -0.68144921]\n",
            "[-1.68882384  0.02446774]\n",
            "[-0.03588546 -1.00480957]\n",
            "[-0.37570222 -0.70826122]\n",
            "[0.55328743 1.64369962]\n",
            "[ 1.04054339 -0.74433146]\n",
            "[ 0.17397553 -1.0129161 ]\n",
            "[0.04253712 0.59229688]\n",
            "[0.52546866 2.41171178]\n",
            "[-0.27068177 -1.33980249]\n",
            "[-0.19711318  3.02984241]\n",
            "[-0.33217339  2.44946192]\n",
            "[ 1.64201057 -0.04819681]\n",
            "[ 0.70029764 -1.28061246]\n",
            "[ 0.15972425 -1.19708077]\n",
            "[ 0.38932757 -0.58989703]\n",
            "[-1.26033991 -0.26210611]\n",
            "[-1.33240343 -0.62739792]\n",
            "[0.80301493 0.35078608]\n",
            "[-0.83010733  0.0167283 ]\n",
            "[-1.82023344 -0.1485328 ]\n",
            "[-0.32204753 -0.7253437 ]\n",
            "[-0.05918692 -0.10524002]\n",
            "[-0.62497134 -1.03659238]\n",
            "[-1.47266201 -0.0188272 ]\n",
            "[-1.76489389 -0.24224448]\n",
            "[-1.2687346   0.15123936]\n",
            "[0.73097956 0.14774251]\n",
            "[ 0.77926121 -1.16475317]\n",
            "[-0.41383135 -0.62284048]\n",
            "[0.70779957 0.50031205]\n",
            "[ 1.01158406 -1.00098502]\n",
            "[-0.51722244 -0.97751774]\n",
            "[-1.56725038 -0.58613531]\n",
            "[-0.44465778 -0.82277315]\n",
            "[-1.78212748  0.36323189]\n",
            "[-0.30447202 -0.89431463]\n",
            "[-0.02672331  0.339434  ]\n",
            "[-2.20756769 -0.6057698 ]\n",
            "[-0.82710556 -1.32163118]\n",
            "[0.32708476 2.34272779]\n",
            "[-1.71102985  0.32791727]\n",
            "[-0.02599553 -1.54374402]\n",
            "[-0.37128269  1.94301682]\n",
            "[-1.09137008 -0.65627701]\n",
            "[ 0.34065863 -0.27737449]\n",
            "[-1.78212748  0.36323189]\n",
            "[0.5814494  2.20518017]\n",
            "[-1.20029228 -0.11262834]\n",
            "[-0.08208318 -1.23003882]\n",
            "[ 0.22826723 -1.08960523]\n",
            "[0.25026742 0.19272833]\n",
            "[-1.64455577 -0.95651664]\n",
            "[-0.30316661 -1.51911329]\n",
            "[ 0.06384055 -0.91786751]\n",
            "[-0.99243941 -0.04177303]\n",
            "[ 0.18640482 -1.72606069]\n",
            "[ 1.10754434 -0.06850664]\n",
            "[ 0.24414917 -1.73445419]\n",
            "[ 0.538095   -0.42700029]\n",
            "[-0.43375027  0.02457997]\n",
            "[-0.72796121 -0.81781268]\n",
            "[-1.64470555  0.33695798]\n",
            "[ 0.16203057 -0.00852558]\n",
            "[0.04253712 0.59229688]\n",
            "[ 0.08165841 -0.90727934]\n",
            "[ 0.32308641 -1.23774128]\n",
            "[0.35140713 1.98476839]\n",
            "[-0.63799581  1.85309801]\n",
            "[-0.05361208 -1.13302746]\n",
            "[ 0.74761824 -0.40688551]\n",
            "[ 0.15710132 -0.48021657]\n",
            "[-0.1951514   2.21979759]\n",
            "[ 0.20330825 -0.82860354]\n",
            "[-1.43772903 -0.71839267]\n",
            "[-0.11633139  1.74081748]\n",
            "[ 2.21800022 -0.71978351]\n",
            "[-1.4000712  -0.84986708]\n",
            "[-2.26135397 -0.5973877 ]\n",
            "[0.18981032 0.05264259]\n",
            "[ 0.22315148 -1.4092722 ]\n",
            "[-0.45388308 -0.65994676]\n",
            "[-0.82296272 -0.73252191]\n",
            "[-0.71557092 -0.21895578]\n",
            "[-1.43048408  0.12250829]\n",
            "[0.22872593 2.04617349]\n",
            "[-1.76004358 -0.77920569]\n",
            "[-0.42818404  0.33136434]\n",
            "[-2.25489405 -0.1638913 ]\n",
            "[-0.14601349  2.15065911]\n",
            "[ 0.53015397 -0.37077516]\n",
            "[ 1.60166194 -0.37938664]\n",
            "[ 0.19991115 -1.00889401]\n",
            "[-0.3179754   2.26776033]\n",
            "[0.22534004 2.4152611 ]\n",
            "[-0.45104676  0.57615203]\n",
            "[-0.06961152 -0.49510958]\n",
            "[ 0.5362334 -0.1539996]\n",
            "[-0.766736   -0.93682781]\n",
            "[ 1.84808351 -0.37564096]\n",
            "[-0.10241645 -1.38814768]\n",
            "[ 0.46423358 -1.5099852 ]\n",
            "[ 1.14529139 -0.5074554 ]\n",
            "[0.2920511  0.08468142]\n",
            "[ 0.39161172 -1.97898716]\n",
            "[-0.29603599  1.88995387]\n",
            "[-0.21396188  0.48721942]\n",
            "[0.01887068 1.9879558 ]\n",
            "[1.26886036 0.17290152]\n",
            "[ 0.2403275  -1.40424546]\n",
            "[ 0.30795673 -0.14396364]\n",
            "[-0.91635376  2.05517413]\n",
            "[ 2.50300924 -0.519731  ]\n",
            "[0.88084178 0.91381667]\n",
            "[ 2.38810202 -0.21205464]\n",
            "[0.6542661  0.33830501]\n",
            "[ 0.29151265 -1.60840075]\n",
            "[-0.76211736  0.5091011 ]\n",
            "[ 0.02754793 -1.18022824]\n",
            "[-1.37994224 -0.01869277]\n",
            "[-2.53108712  0.08651815]\n",
            "[-0.38786769 -0.9751664 ]\n",
            "[0.212577   2.39597898]\n",
            "[ 0.33226667 -0.21106158]\n",
            "[-1.67259454 -0.26749184]\n",
            "[-1.67801155  0.07839795]\n",
            "[-0.11996512  0.10804427]\n",
            "[-0.25963871  0.33634713]\n",
            "[1.39879581 0.05051489]\n",
            "[0.83138316 0.40110706]\n",
            "[ 0.81236723 -0.02275458]\n",
            "[-1.140571    0.18004964]\n",
            "[-1.4183464  -0.20404003]\n",
            "[-0.81081851 -0.9630565 ]\n",
            "[-0.09451007  0.60533694]\n",
            "[ 0.24744893 -0.23349573]\n",
            "[ 2.05657716 -0.17271139]\n",
            "[-0.63187051 -0.48785194]\n",
            "[-0.13809626  2.26852177]\n",
            "[ 0.36586481 -1.3893717 ]\n",
            "[0.5814494  2.20518017]\n",
            "[-0.84176609 -0.90321784]\n",
            "[-0.06176992 -1.38879055]\n",
            "[-0.38786769 -0.9751664 ]\n",
            "[ 0.83162596 -1.05513643]\n",
            "[-0.31493712  0.11893917]\n",
            "[-0.98986689 -0.62725359]\n",
            "[-0.37128269  1.94301682]\n",
            "[ 1.24756025 -0.76466638]\n",
            "[-0.98608769 -0.75123246]\n",
            "[ 0.41625734 -1.46806782]\n",
            "[ 1.36964601 -0.36328074]\n",
            "[-0.16919241 -1.57348711]\n",
            "[0.54518184 2.19349493]\n",
            "[-0.19037474  2.00556991]\n",
            "[-1.56725038 -0.58613531]\n",
            "[0.16214005 0.24617301]\n",
            "[-1.2579372  0.1095958]\n",
            "[-1.31013957  1.65011031]\n",
            "[ 0.23363511 -1.53224689]\n",
            "[-0.73242278  1.9995744 ]\n",
            "[ 0.00951461 -0.53273041]\n",
            "[ 1.16319929 -0.21943368]\n",
            "[-1.80138171 -0.33486224]\n",
            "[1.55755973 0.1682834 ]\n",
            "[-1.31825299 -0.2899598 ]\n",
            "[-0.85611171  0.20977347]\n",
            "[0.76705232 2.43779985]\n",
            "[1.08274127 0.05456367]\n",
            "[0.31977978 0.4925249 ]\n",
            "[-0.32658396 -0.47246209]\n",
            "[ 0.2605676  -0.96424811]\n",
            "[-0.33341783  1.85240724]\n",
            "[-1.58886313 -0.37175318]\n",
            "[ 0.83080505 -0.81426301]\n",
            "[ 0.93692852 -0.32187883]\n",
            "[-0.83668322  1.84075678]\n",
            "[0.40082036 0.14049497]\n",
            "[-0.29424482 -0.10545672]\n",
            "[-0.85923944 -0.00805152]\n",
            "[-0.94304786 -0.30889529]\n",
            "[ 0.81169631 -0.38722359]\n",
            "[-0.66514595 -0.09315209]\n",
            "[1.55755973 0.1682834 ]\n",
            "[-1.09695897 -0.05790158]\n",
            "[-0.15645237  0.16062273]\n",
            "[0.77647979 1.73421068]\n",
            "[-0.40887153 -0.97147424]\n",
            "[-0.78236179 -0.83003093]\n"
          ]
        }
      ]
    },
    {
      "cell_type": "code",
      "metadata": {
        "id": "iPoIwbMHx44n"
      },
      "source": [
        "def create_avg_image_from_mosaic_dataset(mosaic_dataset,labels,foreground_index,dataset_number, m):\n",
        "  \"\"\"\n",
        "  mosaic_dataset : mosaic_dataset contains 9 images 32 x 32 each as 1 data point\n",
        "  labels : mosaic_dataset labels\n",
        "  foreground_index : contains list of indexes where foreground image is present so that using this we can take weighted average\n",
        "  dataset_number : will help us to tell what ratio of foreground image to be taken. for eg: if it is \"j\" then fg_image_ratio = j/9 , bg_image_ratio = (9-j)/8*9\n",
        "  \"\"\"\n",
        "  avg_image_dataset = []\n",
        "  cnt = 0\n",
        "  counter = np.zeros(m) #np.array([0,0,0,0,0,0,0,0,0])\n",
        "  for i in range(len(mosaic_dataset)):\n",
        "    img = torch.zeros([2], dtype=torch.float64)\n",
        "    np.random.seed(int(dataset_number*10000 + i))\n",
        "    give_pref = foreground_index[i] #np.random.randint(0,9)\n",
        "    # print(\"outside\", give_pref,foreground_index[i])\n",
        "    for j in range(m):\n",
        "      if j == give_pref:\n",
        "        img = img + mosaic_dataset[i][2*j:2*j+2]*dataset_number/m   #2 is data dim\n",
        "      else :\n",
        "        img = img + mosaic_dataset[i][2*j:2*j+2]*(m-dataset_number)/((m-1)*m)\n",
        "\n",
        "    if give_pref == foreground_index[i] :\n",
        "      # print(\"equal are\", give_pref,foreground_index[i])\n",
        "      cnt += 1\n",
        "      counter[give_pref] += 1\n",
        "    else :\n",
        "      counter[give_pref] += 1\n",
        "\n",
        "    avg_image_dataset.append(img)\n",
        "\n",
        "  print(\"number of correct averaging happened for dataset \"+str(dataset_number)+\" is \"+str(cnt)) \n",
        "  print(\"the averaging are done as \", counter) \n",
        "  return avg_image_dataset , labels , foreground_index\n",
        "        \n",
        "  "
      ],
      "execution_count": 232,
      "outputs": []
    },
    {
      "cell_type": "code",
      "metadata": {
        "colab": {
          "base_uri": "https://localhost:8080/"
        },
        "id": "30ZAjix3x8CM",
        "outputId": "0189d5be-d232-4e9c-bb83-5febfc1c6b89"
      },
      "source": [
        "avg_image_dataset_1 , labels_1,  fg_index_1 = create_avg_image_from_mosaic_dataset(mosaic_list_of_images[0:1000], mosaic_label[0:1000], fore_idx[0:1000] , 1, m)\n",
        "\n",
        "\n",
        "test_dataset , labels , fg_index = create_avg_image_from_mosaic_dataset(mosaic_list_of_images[1000:2000], mosaic_label[1000:2000], fore_idx[1000:2000] , m, m)"
      ],
      "execution_count": 233,
      "outputs": [
        {
          "output_type": "stream",
          "name": "stdout",
          "text": [
            "number of correct averaging happened for dataset 1 is 1000\n",
            "the averaging are done as  [4. 2. 3. 5. 3. 8. 5. 2. 0. 4. 3. 6. 7. 1. 1. 6. 7. 5. 7. 6. 1. 2. 3. 6.\n",
            " 6. 3. 7. 2. 5. 3. 5. 3. 2. 5. 2. 7. 2. 3. 1. 4. 3. 5. 3. 3. 1. 4. 6. 4.\n",
            " 2. 5. 3. 5. 1. 2. 4. 2. 7. 5. 7. 2. 5. 5. 8. 2. 4. 2. 7. 1. 3. 3. 6. 7.\n",
            " 6. 4. 3. 4. 7. 7. 2. 2. 5. 6. 5. 5. 3. 0. 6. 3. 3. 5. 4. 3. 4. 3. 6. 4.\n",
            " 4. 5. 2. 2. 1. 2. 4. 5. 1. 3. 7. 4. 4. 6. 4. 4. 3. 6. 4. 6. 5. 5. 3. 3.\n",
            " 3. 4. 3. 2. 5. 4. 4. 3. 5. 3. 5. 7. 5. 4. 3. 3. 3. 5. 3. 6. 5. 3. 4. 5.\n",
            " 4. 3. 4. 2. 8. 3. 1. 3. 3. 3. 7. 3. 6. 5. 4. 7. 4. 2. 4. 5. 0. 2. 4. 3.\n",
            " 4. 3. 2. 4. 3. 2. 6. 1. 8. 3. 4. 3. 7. 1. 5. 6. 3. 3. 4. 3. 2. 7. 7. 2.\n",
            " 8. 3. 3. 3. 6. 7. 6. 4. 3. 2. 3. 6. 5. 2. 5. 4. 8. 4. 4. 4. 4. 5. 6. 5.\n",
            " 2. 2. 6. 2. 9. 4. 4. 6. 5. 2. 4. 3. 2. 1. 6. 4. 5. 5. 6. 2. 5. 4. 3. 3.\n",
            " 6. 6. 4. 1. 2. 5. 3. 6. 1. 4.]\n",
            "number of correct averaging happened for dataset 250 is 1000\n",
            "the averaging are done as  [ 3.  5.  3.  3.  4.  3.  2.  7.  2.  4.  2.  1.  4.  6.  6.  3.  4.  5.\n",
            "  2.  9.  2.  5.  4.  3.  6.  3.  3.  7.  5.  4.  7.  0.  2.  1.  4.  3.\n",
            "  3.  4.  3.  2.  2.  5.  0.  5.  7.  4.  4.  4.  4.  1.  2.  6.  4.  8.\n",
            "  4.  6.  8.  4.  3.  3.  2.  4.  4.  5.  4.  6.  9.  0.  1.  5.  6.  3.\n",
            "  4.  3.  4.  2.  3.  6.  8.  5.  7.  2.  2.  4.  5.  5.  6.  5.  3.  1.\n",
            "  4.  3.  8.  5.  6.  4.  2.  5.  4.  8.  4.  3.  8.  6.  4.  7.  5.  6.\n",
            "  2.  0.  5.  5.  5.  7.  6.  4.  1.  3.  4.  5.  2.  6.  2.  4.  5.  4.\n",
            "  4.  1.  6.  3.  5.  4.  2.  1.  4.  3.  3.  3.  3.  4.  0.  1.  2. 10.\n",
            "  4.  9.  4.  4.  6.  4.  3.  3.  4.  6.  6.  4.  8.  3.  5.  2.  3.  4.\n",
            "  8.  6.  2.  5.  3.  5.  6.  6.  4.  1.  1.  3.  4.  1.  0.  5.  6.  3.\n",
            "  3.  2.  4.  4.  2.  6.  7.  2.  5.  2.  4.  4.  8.  6.  4.  2.  2.  2.\n",
            "  4.  4.  5.  3.  3.  2.  3.  4.  4.  3.  5.  4.  2.  2.  4.  2.  5.  4.\n",
            "  2.  6.  3.  5.  2.  4.  3.  8.  2.  3.  4.  6.  4.  1.  4.  3.  5.  3.\n",
            "  4.  4.  3.  7.  7.  7.  3.  2.  3.  7.  5.  3.  8.  2.  3.  3.]\n"
          ]
        }
      ]
    },
    {
      "cell_type": "code",
      "metadata": {
        "colab": {
          "base_uri": "https://localhost:8080/"
        },
        "id": "0dYXnywAD-4l",
        "outputId": "e6f6110f-c65f-44f7-ad22-1902e8a54bf3"
      },
      "source": [
        "avg_image_dataset_1 = torch.stack(avg_image_dataset_1, axis = 0)\n",
        "# avg_image_dataset_1 = (avg - torch.mean(avg, keepdims= True, axis = 0)) / torch.std(avg, keepdims= True, axis = 0)\n",
        "# print(torch.mean(avg_image_dataset_1, keepdims= True, axis = 0))\n",
        "# print(torch.std(avg_image_dataset_1, keepdims= True, axis = 0))\n",
        "print(\"==\"*40)\n",
        "\n",
        "\n",
        "test_dataset = torch.stack(test_dataset, axis = 0)\n",
        "# test_dataset = (avg - torch.mean(avg, keepdims= True, axis = 0)) / torch.std(avg, keepdims= True, axis = 0)\n",
        "# print(torch.mean(test_dataset, keepdims= True, axis = 0))\n",
        "# print(torch.std(test_dataset, keepdims= True, axis = 0))\n",
        "print(\"==\"*40)\n"
      ],
      "execution_count": 234,
      "outputs": [
        {
          "output_type": "stream",
          "name": "stdout",
          "text": [
            "================================================================================\n",
            "================================================================================\n"
          ]
        }
      ]
    },
    {
      "cell_type": "code",
      "metadata": {
        "colab": {
          "base_uri": "https://localhost:8080/",
          "height": 299
        },
        "id": "bT9-kEI7NAnR",
        "outputId": "d6e26efe-534b-4a2c-83a2-8c06ee9554f8"
      },
      "source": [
        "x1 = (avg_image_dataset_1).numpy()\n",
        "y1 = np.array(labels_1)\n",
        "\n",
        "plt.scatter(x1[y1==0,0], x1[y1==0,1], label='class 0')\n",
        "plt.scatter(x1[y1==1,0], x1[y1==1,1], label='class 1')\n",
        "plt.scatter(x1[y1==2,0], x1[y1==2,1], label='class 2')\n",
        "plt.legend()\n",
        "plt.title(\"dataset4 CIN with alpha = 1/\"+str(m))"
      ],
      "execution_count": 235,
      "outputs": [
        {
          "output_type": "execute_result",
          "data": {
            "text/plain": [
              "Text(0.5, 1.0, 'dataset4 CIN with alpha = 1/250')"
            ]
          },
          "metadata": {},
          "execution_count": 235
        },
        {
          "output_type": "display_data",
          "data": {
            "image/png": "[encoded data removed]",
            "text/plain": [
              "<Figure size 432x288 with 1 Axes>"
            ]
          },
          "metadata": {
            "needs_background": "light"
          }
        }
      ]
    },
    {
      "cell_type": "code",
      "metadata": {
        "colab": {
          "base_uri": "https://localhost:8080/",
          "height": 299
        },
        "id": "Sc8W2N7LQQ_l",
        "outputId": "b67fbf68-9d60-4478-c3a4-b476dce1076e"
      },
      "source": [
        "x1 = (test_dataset).numpy() / m\n",
        "y1 = np.array(labels)\n",
        "\n",
        "plt.scatter(x1[y1==0,0], x1[y1==0,1], label='class 0')\n",
        "plt.scatter(x1[y1==1,0], x1[y1==1,1], label='class 1')\n",
        "plt.scatter(x1[y1==2,0], x1[y1==2,1], label='class 2')\n",
        "plt.legend()\n",
        "plt.title(\"test dataset4\")"
      ],
      "execution_count": 236,
      "outputs": [
        {
          "output_type": "execute_result",
          "data": {
            "text/plain": [
              "Text(0.5, 1.0, 'test dataset4')"
            ]
          },
          "metadata": {},
          "execution_count": 236
        },
        {
          "output_type": "display_data",
          "data": {
            "image/png": "[encoded data removed]",
            "text/plain": [
              "<Figure size 432x288 with 1 Axes>"
            ]
          },
          "metadata": {
            "needs_background": "light"
          }
        }
      ]
    },
    {
      "cell_type": "code",
      "metadata": {
        "colab": {
          "base_uri": "https://localhost:8080/"
        },
        "id": "pWVkaBZGXCRN",
        "outputId": "4c8cc8d6-acb8-4d35-fde4-7848884cc20d"
      },
      "source": [
        "test_dataset[0:10]/m"
      ],
      "execution_count": 237,
      "outputs": [
        {
          "output_type": "execute_result",
          "data": {
            "text/plain": [
              "tensor([[ 0.0272,  0.0222],\n",
              "        [-0.0356,  0.0297],\n",
              "        [-0.0366,  0.0337],\n",
              "        [-0.0370,  0.0295],\n",
              "        [-0.0283, -0.0196],\n",
              "        [-0.0370,  0.0295],\n",
              "        [ 0.0327,  0.0212],\n",
              "        [-0.0304, -0.0166],\n",
              "        [ 0.0297,  0.0209],\n",
              "        [ 0.0294,  0.0211]], dtype=torch.float64)"
            ]
          },
          "metadata": {},
          "execution_count": 237
        }
      ]
    },
    {
      "cell_type": "code",
      "metadata": {
        "colab": {
          "base_uri": "https://localhost:8080/"
        },
        "id": "JDZLkEGbXGqg",
        "outputId": "ac4d0ba6-5f8f-407d-bae5-6a963b0e59e3"
      },
      "source": [
        "test_dataset = test_dataset/m\n",
        "test_dataset[0:10]"
      ],
      "execution_count": 238,
      "outputs": [
        {
          "output_type": "execute_result",
          "data": {
            "text/plain": [
              "tensor([[ 0.0272,  0.0222],\n",
              "        [-0.0356,  0.0297],\n",
              "        [-0.0366,  0.0337],\n",
              "        [-0.0370,  0.0295],\n",
              "        [-0.0283, -0.0196],\n",
              "        [-0.0370,  0.0295],\n",
              "        [ 0.0327,  0.0212],\n",
              "        [-0.0304, -0.0166],\n",
              "        [ 0.0297,  0.0209],\n",
              "        [ 0.0294,  0.0211]], dtype=torch.float64)"
            ]
          },
          "metadata": {},
          "execution_count": 238
        }
      ]
    },
    {
      "cell_type": "code",
      "metadata": {
        "id": "yL0BRf8er0TX"
      },
      "source": [
        "class MosaicDataset(Dataset):\n",
        "  \"\"\"MosaicDataset dataset.\"\"\"\n",
        "\n",
        "  def __init__(self, mosaic_list_of_images, mosaic_label):\n",
        "    \"\"\"\n",
        "      Args:\n",
        "        csv_file (string): Path to the csv file with annotations.\n",
        "        root_dir (string): Directory with all the images.\n",
        "        transform (callable, optional): Optional transform to be applied\n",
        "            on a sample.\n",
        "    \"\"\"\n",
        "    self.mosaic = mosaic_list_of_images\n",
        "    self.label = mosaic_label\n",
        "    #self.fore_idx = fore_idx\n",
        "    \n",
        "  def __len__(self):\n",
        "    return len(self.label)\n",
        "\n",
        "  def __getitem__(self, idx):\n",
        "    return self.mosaic[idx] , self.label[idx] #, self.fore_idx[idx]\n",
        "\n"
      ],
      "execution_count": 239,
      "outputs": []
    },
    {
      "cell_type": "code",
      "metadata": {
        "colab": {
          "base_uri": "https://localhost:8080/"
        },
        "id": "4KsrW9qL9xgS",
        "outputId": "f7cc9a9c-e99e-4c53-93ba-70bb418f8f03"
      },
      "source": [
        "avg_image_dataset_1[0].shape\n",
        "avg_image_dataset_1[0]"
      ],
      "execution_count": 240,
      "outputs": [
        {
          "output_type": "execute_result",
          "data": {
            "text/plain": [
              "tensor([-0.1367, -0.0290], dtype=torch.float64)"
            ]
          },
          "metadata": {},
          "execution_count": 240
        }
      ]
    },
    {
      "cell_type": "code",
      "metadata": {
        "id": "EY2l62APygaV"
      },
      "source": [
        "batch = 200\n",
        "\n",
        "traindata_1 = MosaicDataset(avg_image_dataset_1, labels_1 )\n",
        "trainloader_1 = DataLoader( traindata_1 , batch_size= batch ,shuffle=True)\n"
      ],
      "execution_count": 241,
      "outputs": []
    },
    {
      "cell_type": "code",
      "metadata": {
        "id": "9suUslCj8YZK"
      },
      "source": [
        "testdata_1 = MosaicDataset(avg_image_dataset_1, labels_1 )\n",
        "testloader_1 = DataLoader( testdata_1 , batch_size= batch ,shuffle=False)\n"
      ],
      "execution_count": 242,
      "outputs": []
    },
    {
      "cell_type": "code",
      "metadata": {
        "id": "Nh3mBQHZ8bEj"
      },
      "source": [
        "testdata_11 = MosaicDataset(test_dataset, labels )\n",
        "testloader_11 = DataLoader( testdata_11 , batch_size= batch ,shuffle=False)"
      ],
      "execution_count": 243,
      "outputs": []
    },
    {
      "cell_type": "code",
      "metadata": {
        "id": "5_XeIUk0r0Tl"
      },
      "source": [
        "class Whatnet(nn.Module):\n",
        "    def __init__(self):\n",
        "        super(Whatnet,self).__init__()\n",
        "        self.linear1 = nn.Linear(2,3)\n",
        "        # self.linear2 = nn.Linear(50,10)\n",
        "        # self.linear3 = nn.Linear(10,3)\n",
        "\n",
        "        torch.nn.init.xavier_normal_(self.linear1.weight)\n",
        "        torch.nn.init.zeros_(self.linear1.bias)\n",
        "\n",
        "    def forward(self,x):\n",
        "        # x = F.relu(self.linear1(x))\n",
        "        # x = F.relu(self.linear2(x))\n",
        "        x = (self.linear1(x))\n",
        "\n",
        "        return x"
      ],
      "execution_count": 244,
      "outputs": []
    },
    {
      "cell_type": "code",
      "metadata": {
        "id": "pjD2VZuV9Ed4"
      },
      "source": [
        "def calculate_loss(dataloader,model,criter):\n",
        "  model.eval()\n",
        "  r_loss = 0\n",
        "  with torch.no_grad():\n",
        "    for i, data in enumerate(dataloader, 0):\n",
        "      inputs, labels = data\n",
        "      inputs, labels = inputs.to(\"cuda\"),labels.to(\"cuda\")\n",
        "      outputs = model(inputs)\n",
        "      loss = criter(outputs, labels)\n",
        "      r_loss += loss.item()\n",
        "  return r_loss/i"
      ],
      "execution_count": 245,
      "outputs": []
    },
    {
      "cell_type": "code",
      "metadata": {
        "id": "uALi25pmzQHV"
      },
      "source": [
        "def test_all(number, testloader,net):\n",
        "    correct = 0\n",
        "    total = 0\n",
        "    out = []\n",
        "    pred = []\n",
        "    with torch.no_grad():\n",
        "        for data in testloader:\n",
        "            images, labels = data\n",
        "            images, labels = images.to(\"cuda\"),labels.to(\"cuda\")\n",
        "            out.append(labels.cpu().numpy())\n",
        "            outputs= net(images)\n",
        "            _, predicted = torch.max(outputs.data, 1)\n",
        "            pred.append(predicted.cpu().numpy())\n",
        "            total += labels.size(0)\n",
        "            correct += (predicted == labels).sum().item()\n",
        "    \n",
        "    pred = np.concatenate(pred, axis = 0)\n",
        "    out = np.concatenate(out, axis = 0)\n",
        "    print(\"unique out: \",  np.unique(out), \"unique pred: \", np.unique(pred) )\n",
        "    print(\"correct: \", correct, \"total \",  total)\n",
        "    print('Accuracy of the network on the 1000 test dataset %d: %.2f %%' % (number , 100 * correct / total))"
      ],
      "execution_count": 246,
      "outputs": []
    },
    {
      "cell_type": "code",
      "metadata": {
        "id": "4vmNprlPzTjP"
      },
      "source": [
        "def train_all(trainloader, ds_number, testloader_list):\n",
        "    \n",
        "    print(\"--\"*40)\n",
        "    print(\"training on data set  \", ds_number)\n",
        "    \n",
        "    torch.manual_seed(12)\n",
        "    net = Whatnet().double()\n",
        "    net = net.to(\"cuda\")\n",
        "    \n",
        "    criterion_net = nn.CrossEntropyLoss()\n",
        "    optimizer_net = optim.Adam(net.parameters(), lr=0.001 ) #, momentum=0.9)\n",
        "    \n",
        "    acti = []\n",
        "    loss_curi = []\n",
        "    epochs = 1500\n",
        "    running_loss = calculate_loss(trainloader,net,criterion_net)\n",
        "    loss_curi.append(running_loss)\n",
        "    print('epoch: [%d ] loss: %.3f' %(0,running_loss)) \n",
        "    for epoch in range(epochs): # loop over the dataset multiple times\n",
        "        ep_lossi = []\n",
        "\n",
        "        running_loss = 0.0\n",
        "        net.train()\n",
        "        for i, data in enumerate(trainloader, 0):\n",
        "            # get the inputs\n",
        "            inputs, labels = data\n",
        "            inputs, labels = inputs.to(\"cuda\"),labels.to(\"cuda\")\n",
        "\n",
        "            # zero the parameter gradients\n",
        "            optimizer_net.zero_grad()\n",
        "\n",
        "            # forward + backward + optimize\n",
        "            outputs = net(inputs)\n",
        "            loss = criterion_net(outputs, labels)\n",
        "            # print statistics\n",
        "            running_loss += loss.item()\n",
        "            loss.backward()\n",
        "            optimizer_net.step()\n",
        "\n",
        "        running_loss = calculate_loss(trainloader,net,criterion_net)\n",
        "        if(epoch%200 == 0):\n",
        "          print('epoch: [%d] loss: %.3f' %(epoch + 1,running_loss)) \n",
        "        loss_curi.append(running_loss)   #loss per epoch\n",
        "        if running_loss<=0.05:\n",
        "          print('epoch: [%d] loss: %.3f' %(epoch + 1,running_loss))\n",
        "          break\n",
        "\n",
        "    print('Finished Training')\n",
        "    \n",
        "    correct = 0\n",
        "    total = 0\n",
        "    with torch.no_grad():\n",
        "        for data in trainloader:\n",
        "            images, labels = data\n",
        "            images, labels = images.to(\"cuda\"), labels.to(\"cuda\")\n",
        "            outputs = net(images)\n",
        "            _, predicted = torch.max(outputs.data, 1)\n",
        "            total += labels.size(0)\n",
        "            correct += (predicted == labels).sum().item()\n",
        "\n",
        "    print('Accuracy of the network on the 1000 train images: %.2f %%' % (  100 * correct / total))\n",
        "    \n",
        "    for i, j in enumerate(testloader_list):\n",
        "        test_all(i+1, j,net)\n",
        "    \n",
        "    print(\"--\"*40)\n",
        "    \n",
        "    return loss_curi\n",
        "    "
      ],
      "execution_count": 247,
      "outputs": []
    },
    {
      "cell_type": "code",
      "metadata": {
        "id": "Yl41sE8vFERk"
      },
      "source": [
        "train_loss_all=[]\n",
        "\n",
        "testloader_list= [ testloader_1, testloader_11]"
      ],
      "execution_count": 248,
      "outputs": []
    },
    {
      "cell_type": "code",
      "metadata": {
        "colab": {
          "base_uri": "https://localhost:8080/"
        },
        "id": "5gQoPST5zW2t",
        "outputId": "8d4dcd06-228b-4231-fe27-164e943945af"
      },
      "source": [
        "train_loss_all.append(train_all(trainloader_1, 1, testloader_list))"
      ],
      "execution_count": 249,
      "outputs": [
        {
          "output_type": "stream",
          "name": "stdout",
          "text": [
            "--------------------------------------------------------------------------------\n",
            "training on data set   1\n",
            "epoch: [0 ] loss: 1.364\n",
            "epoch: [1] loss: 1.363\n",
            "epoch: [201] loss: 1.314\n",
            "epoch: [401] loss: 1.277\n",
            "epoch: [601] loss: 1.249\n",
            "epoch: [801] loss: 1.228\n",
            "epoch: [1001] loss: 1.212\n",
            "epoch: [1201] loss: 1.201\n",
            "epoch: [1401] loss: 1.194\n",
            "Finished Training\n",
            "Accuracy of the network on the 1000 train images: 54.70 %\n",
            "unique out:  [0 1 2] unique pred:  [0 1 2]\n",
            "correct:  547 total  1000\n",
            "Accuracy of the network on the 1000 test dataset 1: 54.70 %\n",
            "unique out:  [0 1 2] unique pred:  [0 1 2]\n",
            "correct:  1000 total  1000\n",
            "Accuracy of the network on the 1000 test dataset 2: 100.00 %\n",
            "--------------------------------------------------------------------------------\n"
          ]
        }
      ]
    },
    {
      "cell_type": "code",
      "metadata": {
        "id": "In76SYH_zZHV"
      },
      "source": [
        "%matplotlib inline"
      ],
      "execution_count": 250,
      "outputs": []
    },
    {
      "cell_type": "code",
      "metadata": {
        "id": "BS4HtOHEzZ0E",
        "colab": {
          "base_uri": "https://localhost:8080/",
          "height": 297
        },
        "outputId": "08e87842-d367-4f83-a246-403659216aed"
      },
      "source": [
        "for i,j in enumerate(train_loss_all):\n",
        "    plt.plot(j,label =\"dataset \"+str(i+1))\n",
        "    \n",
        "\n",
        "plt.xlabel(\"Epochs\")\n",
        "plt.ylabel(\"Training_loss\")\n",
        "\n",
        "plt.legend(loc='center left', bbox_to_anchor=(1, 0.5))"
      ],
      "execution_count": 251,
      "outputs": [
        {
          "output_type": "execute_result",
          "data": {
            "text/plain": [
              "<matplotlib.legend.Legend at 0x7f568e829390>"
            ]
          },
          "metadata": {},
          "execution_count": 251
        },
        {
          "output_type": "display_data",
          "data": {
            "image/png": "[encoded data removed]",
            "text/plain": [
              "<Figure size 432x288 with 1 Axes>"
            ]
          },
          "metadata": {
            "needs_background": "light"
          }
        }
      ]
    },
    {
      "cell_type": "code",
      "metadata": {
        "id": "1UbTkfLUINTI"
      },
      "source": [
        ""
      ],
      "execution_count": 251,
      "outputs": []
    }
  ]
}