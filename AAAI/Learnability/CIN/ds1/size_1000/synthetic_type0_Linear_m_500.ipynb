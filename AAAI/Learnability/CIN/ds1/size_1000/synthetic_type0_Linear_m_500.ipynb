{
  "nbformat": 4,
  "nbformat_minor": 0,
  "metadata": {
    "accelerator": "GPU",
    "colab": {
      "name": "synthetic_type0_Linear_m_5.ipynb",
      "provenance": [],
      "collapsed_sections": []
    },
    "kernelspec": {
      "display_name": "Python 3",
      "language": "python",
      "name": "python3"
    },
    "language_info": {
      "codemirror_mode": {
        "name": "ipython",
        "version": 3
      },
      "file_extension": ".py",
      "mimetype": "text/x-python",
      "name": "python",
      "nbconvert_exporter": "python",
      "pygments_lexer": "ipython3",
      "version": "3.6.5"
    }
  },
  "cells": [
    {
      "cell_type": "code",
      "metadata": {
        "colab": {
          "base_uri": "https://localhost:8080/"
        },
        "id": "N2_J4Rw2r0SQ",
        "outputId": "906bdbb7-346a-4d7f-f19e-84a0fe7851d1"
      },
      "source": [
        "import numpy as np\n",
        "import pandas as pd\n",
        "from matplotlib import pyplot as plt\n",
        "from tqdm import tqdm\n",
        "%matplotlib inline\n",
        "from torch.utils.data import Dataset, DataLoader\n",
        "import torch\n",
        "import torchvision\n",
        "\n",
        "import torch.nn as nn\n",
        "import torch.optim as optim\n",
        "from torch.nn import functional as F\n",
        "device = torch.device(\"cuda\" if torch.cuda.is_available() else \"cpu\")\n",
        "print(device)"
      ],
      "execution_count": 151,
      "outputs": [
        {
          "output_type": "stream",
          "name": "stdout",
          "text": [
            "cuda\n"
          ]
        }
      ]
    },
    {
      "cell_type": "code",
      "metadata": {
        "id": "y9cP_3OWFHdo"
      },
      "source": [
        "torch.backends.cudnn.deterministic = True\n",
        "torch.backends.cudnn.benchmark= False"
      ],
      "execution_count": 152,
      "outputs": []
    },
    {
      "cell_type": "code",
      "metadata": {
        "id": "xR3b9hhxzqKB"
      },
      "source": [
        "m = 500                          # 5, 50, 100, 500 , 1000 , 2000 "
      ],
      "execution_count": 153,
      "outputs": []
    },
    {
      "cell_type": "code",
      "metadata": {
        "id": "xDifMu_gRXFN"
      },
      "source": [
        "desired_num = 2000"
      ],
      "execution_count": 154,
      "outputs": []
    },
    {
      "cell_type": "code",
      "metadata": {
        "colab": {
          "base_uri": "https://localhost:8080/"
        },
        "id": "tl7WPcTcRW-8",
        "outputId": "2182688a-b495-4ed1-b471-ef7aa2db15b5"
      },
      "source": [
        "tr_i = 0\n",
        "tr_j = int(desired_num/2)\n",
        "tr_k = desired_num\n",
        "\n",
        "tr_i, tr_j, tr_k"
      ],
      "execution_count": 155,
      "outputs": [
        {
          "output_type": "execute_result",
          "data": {
            "text/plain": [
              "(0, 1000, 2000)"
            ]
          },
          "metadata": {},
          "execution_count": 155
        }
      ]
    },
    {
      "cell_type": "markdown",
      "metadata": {
        "id": "F6fjud_Fr0Sa"
      },
      "source": [
        "# Generate dataset"
      ]
    },
    {
      "cell_type": "code",
      "metadata": {
        "colab": {
          "base_uri": "https://localhost:8080/"
        },
        "id": "CqdXHO0Cr0Sd",
        "outputId": "3e520d20-6742-498e-f896-1179eca4e09a"
      },
      "source": [
        "np.random.seed(12)\n",
        "y = np.random.randint(0,3,500)\n",
        "idx= []\n",
        "for i in range(3):\n",
        "    print(i,sum(y==i))\n",
        "    idx.append(y==i)"
      ],
      "execution_count": 156,
      "outputs": [
        {
          "output_type": "stream",
          "name": "stdout",
          "text": [
            "0 174\n",
            "1 163\n",
            "2 163\n"
          ]
        }
      ]
    },
    {
      "cell_type": "code",
      "metadata": {
        "id": "ddhXyODwr0Sk"
      },
      "source": [
        "x = np.zeros((500,))"
      ],
      "execution_count": 157,
      "outputs": []
    },
    {
      "cell_type": "code",
      "metadata": {
        "id": "DyV3N2DIr0Sp"
      },
      "source": [
        "np.random.seed(12)\n",
        "x[idx[0]] = np.random.uniform(low =-1,high =0,size= sum(idx[0]))\n",
        "x[idx[1]] = np.random.uniform(low =0,high =1,size= sum(idx[1]))\n",
        "x[idx[2]] = np.random.uniform(low =2,high =3,size= sum(idx[2]))"
      ],
      "execution_count": 158,
      "outputs": []
    },
    {
      "cell_type": "code",
      "metadata": {
        "colab": {
          "base_uri": "https://localhost:8080/"
        },
        "id": "qh1mDScsU07I",
        "outputId": "e15e62fa-9c0b-4240-a90c-3dee5d9d09e4"
      },
      "source": [
        "x[idx[0]][0], x[idx[2]][5] "
      ],
      "execution_count": 159,
      "outputs": [
        {
          "output_type": "execute_result",
          "data": {
            "text/plain": [
              "(-0.8458371576203276, 2.2459800877058114)"
            ]
          },
          "metadata": {},
          "execution_count": 159
        }
      ]
    },
    {
      "cell_type": "code",
      "metadata": {
        "colab": {
          "base_uri": "https://localhost:8080/"
        },
        "id": "9Vr5ErQ_wSrV",
        "outputId": "92466344-fd7c-462c-b3dd-2b6e42faec31"
      },
      "source": [
        "print(x.shape,y.shape)"
      ],
      "execution_count": 160,
      "outputs": [
        {
          "output_type": "stream",
          "name": "stdout",
          "text": [
            "(500,) (500,)\n"
          ]
        }
      ]
    },
    {
      "cell_type": "code",
      "metadata": {
        "id": "NG-3RpffwU_i"
      },
      "source": [
        "idx= []\n",
        "for i in range(3):\n",
        "  idx.append(y==i)"
      ],
      "execution_count": 161,
      "outputs": []
    },
    {
      "cell_type": "code",
      "metadata": {
        "colab": {
          "base_uri": "https://localhost:8080/",
          "height": 283
        },
        "id": "hJ8Jm7YUr0St",
        "outputId": "e40f614b-6557-4ad6-eaba-805053057a92"
      },
      "source": [
        "for i in range(3):\n",
        "    y= np.zeros(x[idx[i]].shape[0])\n",
        "    plt.scatter(x[idx[i]],y,label=\"class_\"+str(i))\n",
        "plt.legend()"
      ],
      "execution_count": 162,
      "outputs": [
        {
          "output_type": "execute_result",
          "data": {
            "text/plain": [
              "<matplotlib.legend.Legend at 0x7f4e3234a150>"
            ]
          },
          "metadata": {},
          "execution_count": 162
        },
        {
          "output_type": "display_data",
          "data": {
            "image/png": "[encoded data removed]",
            "text/plain": [
              "<Figure size 432x288 with 1 Axes>"
            ]
          },
          "metadata": {
            "needs_background": "light"
          }
        }
      ]
    },
    {
      "cell_type": "code",
      "metadata": {
        "colab": {
          "base_uri": "https://localhost:8080/"
        },
        "id": "3lMBZEHNBlF2",
        "outputId": "95e690f2-ff8b-45d5-9d65-1df06d408491"
      },
      "source": [
        "bg_idx = [ np.where(idx[2] == True)[0]]\n",
        "\n",
        "bg_idx = np.concatenate(bg_idx, axis = 0)\n",
        "bg_idx.shape"
      ],
      "execution_count": 163,
      "outputs": [
        {
          "output_type": "execute_result",
          "data": {
            "text/plain": [
              "(163,)"
            ]
          },
          "metadata": {},
          "execution_count": 163
        }
      ]
    },
    {
      "cell_type": "code",
      "metadata": {
        "colab": {
          "base_uri": "https://localhost:8080/"
        },
        "id": "blRbGZHeCwXU",
        "outputId": "f0d13ac0-ef69-4cd4-a045-c27666d5cf67"
      },
      "source": [
        "np.unique(bg_idx).shape"
      ],
      "execution_count": 164,
      "outputs": [
        {
          "output_type": "execute_result",
          "data": {
            "text/plain": [
              "(163,)"
            ]
          },
          "metadata": {},
          "execution_count": 164
        }
      ]
    },
    {
      "cell_type": "code",
      "metadata": {
        "id": "Y43sWeX7C15F"
      },
      "source": [
        "x = x - np.mean(x[bg_idx], axis = 0, keepdims = True)\n"
      ],
      "execution_count": 165,
      "outputs": []
    },
    {
      "cell_type": "code",
      "metadata": {
        "colab": {
          "base_uri": "https://localhost:8080/"
        },
        "id": "ooII7N6UDWe0",
        "outputId": "8310c916-dcb3-4e3d-bda9-0941c437f557"
      },
      "source": [
        "np.mean(x[bg_idx], axis = 0, keepdims = True), np.mean(x, axis = 0, keepdims = True)"
      ],
      "execution_count": 166,
      "outputs": [
        {
          "output_type": "execute_result",
          "data": {
            "text/plain": [
              "(array([-1.00805526e-16]), array([-1.7163962]))"
            ]
          },
          "metadata": {},
          "execution_count": 166
        }
      ]
    },
    {
      "cell_type": "code",
      "metadata": {
        "id": "g21bvPRYDL9k"
      },
      "source": [
        "x = x/np.std(x[bg_idx], axis = 0, keepdims = True)"
      ],
      "execution_count": 167,
      "outputs": []
    },
    {
      "cell_type": "code",
      "metadata": {
        "colab": {
          "base_uri": "https://localhost:8080/"
        },
        "id": "GtFvIeHsDZJk",
        "outputId": "99376d99-c16d-46bf-c6f4-8a7170b5b7fb"
      },
      "source": [
        "np.std(x[bg_idx], axis = 0, keepdims = True), np.std(x, axis = 0, keepdims = True)"
      ],
      "execution_count": 168,
      "outputs": [
        {
          "output_type": "execute_result",
          "data": {
            "text/plain": [
              "(array([1.]), array([4.37808847]))"
            ]
          },
          "metadata": {},
          "execution_count": 168
        }
      ]
    },
    {
      "cell_type": "code",
      "metadata": {
        "colab": {
          "base_uri": "https://localhost:8080/",
          "height": 283
        },
        "id": "8-VLhUfDDeHt",
        "outputId": "039cd317-ca8d-4619-9fb6-868b2f210fbb"
      },
      "source": [
        "for i in range(3):\n",
        "    y= np.zeros(x[idx[i]].shape[0])\n",
        "    plt.scatter(x[idx[i]],y,label=\"class_\"+str(i))\n",
        "plt.legend()"
      ],
      "execution_count": 169,
      "outputs": [
        {
          "output_type": "execute_result",
          "data": {
            "text/plain": [
              "<matplotlib.legend.Legend at 0x7f4e322c32d0>"
            ]
          },
          "metadata": {},
          "execution_count": 169
        },
        {
          "output_type": "display_data",
          "data": {
            "image/png": "[encoded data removed]",
            "text/plain": [
              "<Figure size 432x288 with 1 Axes>"
            ]
          },
          "metadata": {
            "needs_background": "light"
          }
        }
      ]
    },
    {
      "cell_type": "code",
      "metadata": {
        "id": "UfFHcZJOr0Sz"
      },
      "source": [
        "foreground_classes = {'class_0','class_1' }\n",
        "\n",
        "background_classes = {'class_2'}"
      ],
      "execution_count": 170,
      "outputs": []
    },
    {
      "cell_type": "code",
      "metadata": {
        "colab": {
          "base_uri": "https://localhost:8080/"
        },
        "id": "OplNpNQVr0S2",
        "outputId": "2ca2b5c2-6772-402e-9f21-a402126af6e7"
      },
      "source": [
        "fg_class  = np.random.randint(0,2)\n",
        "fg_idx = np.random.randint(0,m)\n",
        "\n",
        "a = []\n",
        "for i in range(m):\n",
        "    if i == fg_idx:\n",
        "        b = np.random.choice(np.where(idx[fg_class]==True)[0],size=1)\n",
        "        a.append(x[b])\n",
        "        print(\"foreground \"+str(fg_class)+\" present at \" + str(fg_idx))\n",
        "    else:\n",
        "        bg_class = np.random.randint(2,3)\n",
        "        b = np.random.choice(np.where(idx[bg_class]==True)[0],size=1)\n",
        "        a.append(x[b])\n",
        "        print(\"background \"+str(bg_class)+\" present at \" + str(i))\n",
        "a = np.concatenate(a,axis=0)\n",
        "print(a.shape)\n",
        "\n",
        "print(fg_class , fg_idx)"
      ],
      "execution_count": 171,
      "outputs": [
        {
          "output_type": "stream",
          "name": "stdout",
          "text": [
            "background 2 present at 0\n",
            "background 2 present at 1\n",
            "background 2 present at 2\n",
            "background 2 present at 3\n",
            "background 2 present at 4\n",
            "background 2 present at 5\n",
            "background 2 present at 6\n",
            "background 2 present at 7\n",
            "background 2 present at 8\n",
            "background 2 present at 9\n",
            "background 2 present at 10\n",
            "background 2 present at 11\n",
            "background 2 present at 12\n",
            "background 2 present at 13\n",
            "background 2 present at 14\n",
            "background 2 present at 15\n",
            "background 2 present at 16\n",
            "background 2 present at 17\n",
            "background 2 present at 18\n",
            "background 2 present at 19\n",
            "background 2 present at 20\n",
            "background 2 present at 21\n",
            "background 2 present at 22\n",
            "background 2 present at 23\n",
            "background 2 present at 24\n",
            "background 2 present at 25\n",
            "background 2 present at 26\n",
            "background 2 present at 27\n",
            "background 2 present at 28\n",
            "background 2 present at 29\n",
            "background 2 present at 30\n",
            "background 2 present at 31\n",
            "background 2 present at 32\n",
            "background 2 present at 33\n",
            "background 2 present at 34\n",
            "background 2 present at 35\n",
            "background 2 present at 36\n",
            "background 2 present at 37\n",
            "background 2 present at 38\n",
            "background 2 present at 39\n",
            "background 2 present at 40\n",
            "background 2 present at 41\n",
            "background 2 present at 42\n",
            "background 2 present at 43\n",
            "background 2 present at 44\n",
            "background 2 present at 45\n",
            "background 2 present at 46\n",
            "background 2 present at 47\n",
            "background 2 present at 48\n",
            "background 2 present at 49\n",
            "background 2 present at 50\n",
            "background 2 present at 51\n",
            "background 2 present at 52\n",
            "background 2 present at 53\n",
            "background 2 present at 54\n",
            "background 2 present at 55\n",
            "background 2 present at 56\n",
            "background 2 present at 57\n",
            "background 2 present at 58\n",
            "background 2 present at 59\n",
            "background 2 present at 60\n",
            "background 2 present at 61\n",
            "background 2 present at 62\n",
            "background 2 present at 63\n",
            "background 2 present at 64\n",
            "background 2 present at 65\n",
            "background 2 present at 66\n",
            "background 2 present at 67\n",
            "background 2 present at 68\n",
            "background 2 present at 69\n",
            "background 2 present at 70\n",
            "background 2 present at 71\n",
            "background 2 present at 72\n",
            "background 2 present at 73\n",
            "background 2 present at 74\n",
            "background 2 present at 75\n",
            "background 2 present at 76\n",
            "background 2 present at 77\n",
            "background 2 present at 78\n",
            "background 2 present at 79\n",
            "background 2 present at 80\n",
            "background 2 present at 81\n",
            "background 2 present at 82\n",
            "background 2 present at 83\n",
            "background 2 present at 84\n",
            "background 2 present at 85\n",
            "background 2 present at 86\n",
            "background 2 present at 87\n",
            "background 2 present at 88\n",
            "background 2 present at 89\n",
            "background 2 present at 90\n",
            "background 2 present at 91\n",
            "background 2 present at 92\n",
            "background 2 present at 93\n",
            "background 2 present at 94\n",
            "background 2 present at 95\n",
            "background 2 present at 96\n",
            "background 2 present at 97\n",
            "background 2 present at 98\n",
            "background 2 present at 99\n",
            "background 2 present at 100\n",
            "background 2 present at 101\n",
            "background 2 present at 102\n",
            "background 2 present at 103\n",
            "background 2 present at 104\n",
            "background 2 present at 105\n",
            "background 2 present at 106\n",
            "background 2 present at 107\n",
            "background 2 present at 108\n",
            "background 2 present at 109\n",
            "background 2 present at 110\n",
            "background 2 present at 111\n",
            "background 2 present at 112\n",
            "background 2 present at 113\n",
            "background 2 present at 114\n",
            "background 2 present at 115\n",
            "background 2 present at 116\n",
            "background 2 present at 117\n",
            "background 2 present at 118\n",
            "background 2 present at 119\n",
            "background 2 present at 120\n",
            "background 2 present at 121\n",
            "background 2 present at 122\n",
            "background 2 present at 123\n",
            "background 2 present at 124\n",
            "background 2 present at 125\n",
            "background 2 present at 126\n",
            "background 2 present at 127\n",
            "background 2 present at 128\n",
            "background 2 present at 129\n",
            "background 2 present at 130\n",
            "background 2 present at 131\n",
            "background 2 present at 132\n",
            "background 2 present at 133\n",
            "background 2 present at 134\n",
            "background 2 present at 135\n",
            "background 2 present at 136\n",
            "background 2 present at 137\n",
            "background 2 present at 138\n",
            "background 2 present at 139\n",
            "background 2 present at 140\n",
            "background 2 present at 141\n",
            "background 2 present at 142\n",
            "background 2 present at 143\n",
            "background 2 present at 144\n",
            "background 2 present at 145\n",
            "background 2 present at 146\n",
            "background 2 present at 147\n",
            "background 2 present at 148\n",
            "background 2 present at 149\n",
            "background 2 present at 150\n",
            "background 2 present at 151\n",
            "background 2 present at 152\n",
            "background 2 present at 153\n",
            "background 2 present at 154\n",
            "background 2 present at 155\n",
            "background 2 present at 156\n",
            "background 2 present at 157\n",
            "background 2 present at 158\n",
            "background 2 present at 159\n",
            "background 2 present at 160\n",
            "background 2 present at 161\n",
            "background 2 present at 162\n",
            "background 2 present at 163\n",
            "background 2 present at 164\n",
            "background 2 present at 165\n",
            "background 2 present at 166\n",
            "background 2 present at 167\n",
            "background 2 present at 168\n",
            "background 2 present at 169\n",
            "background 2 present at 170\n",
            "background 2 present at 171\n",
            "background 2 present at 172\n",
            "background 2 present at 173\n",
            "background 2 present at 174\n",
            "background 2 present at 175\n",
            "background 2 present at 176\n",
            "background 2 present at 177\n",
            "background 2 present at 178\n",
            "background 2 present at 179\n",
            "background 2 present at 180\n",
            "background 2 present at 181\n",
            "background 2 present at 182\n",
            "background 2 present at 183\n",
            "background 2 present at 184\n",
            "background 2 present at 185\n",
            "background 2 present at 186\n",
            "background 2 present at 187\n",
            "background 2 present at 188\n",
            "background 2 present at 189\n",
            "background 2 present at 190\n",
            "background 2 present at 191\n",
            "background 2 present at 192\n",
            "background 2 present at 193\n",
            "background 2 present at 194\n",
            "background 2 present at 195\n",
            "background 2 present at 196\n",
            "background 2 present at 197\n",
            "background 2 present at 198\n",
            "background 2 present at 199\n",
            "background 2 present at 200\n",
            "background 2 present at 201\n",
            "background 2 present at 202\n",
            "background 2 present at 203\n",
            "background 2 present at 204\n",
            "background 2 present at 205\n",
            "background 2 present at 206\n",
            "background 2 present at 207\n",
            "background 2 present at 208\n",
            "background 2 present at 209\n",
            "background 2 present at 210\n",
            "background 2 present at 211\n",
            "background 2 present at 212\n",
            "background 2 present at 213\n",
            "background 2 present at 214\n",
            "background 2 present at 215\n",
            "background 2 present at 216\n",
            "background 2 present at 217\n",
            "background 2 present at 218\n",
            "background 2 present at 219\n",
            "background 2 present at 220\n",
            "background 2 present at 221\n",
            "background 2 present at 222\n",
            "background 2 present at 223\n",
            "background 2 present at 224\n",
            "background 2 present at 225\n",
            "background 2 present at 226\n",
            "background 2 present at 227\n",
            "background 2 present at 228\n",
            "background 2 present at 229\n",
            "background 2 present at 230\n",
            "background 2 present at 231\n",
            "background 2 present at 232\n",
            "background 2 present at 233\n",
            "background 2 present at 234\n",
            "background 2 present at 235\n",
            "background 2 present at 236\n",
            "background 2 present at 237\n",
            "background 2 present at 238\n",
            "background 2 present at 239\n",
            "background 2 present at 240\n",
            "background 2 present at 241\n",
            "background 2 present at 242\n",
            "background 2 present at 243\n",
            "background 2 present at 244\n",
            "background 2 present at 245\n",
            "background 2 present at 246\n",
            "background 2 present at 247\n",
            "background 2 present at 248\n",
            "background 2 present at 249\n",
            "background 2 present at 250\n",
            "background 2 present at 251\n",
            "foreground 1 present at 252\n",
            "background 2 present at 253\n",
            "background 2 present at 254\n",
            "background 2 present at 255\n",
            "background 2 present at 256\n",
            "background 2 present at 257\n",
            "background 2 present at 258\n",
            "background 2 present at 259\n",
            "background 2 present at 260\n",
            "background 2 present at 261\n",
            "background 2 present at 262\n",
            "background 2 present at 263\n",
            "background 2 present at 264\n",
            "background 2 present at 265\n",
            "background 2 present at 266\n",
            "background 2 present at 267\n",
            "background 2 present at 268\n",
            "background 2 present at 269\n",
            "background 2 present at 270\n",
            "background 2 present at 271\n",
            "background 2 present at 272\n",
            "background 2 present at 273\n",
            "background 2 present at 274\n",
            "background 2 present at 275\n",
            "background 2 present at 276\n",
            "background 2 present at 277\n",
            "background 2 present at 278\n",
            "background 2 present at 279\n",
            "background 2 present at 280\n",
            "background 2 present at 281\n",
            "background 2 present at 282\n",
            "background 2 present at 283\n",
            "background 2 present at 284\n",
            "background 2 present at 285\n",
            "background 2 present at 286\n",
            "background 2 present at 287\n",
            "background 2 present at 288\n",
            "background 2 present at 289\n",
            "background 2 present at 290\n",
            "background 2 present at 291\n",
            "background 2 present at 292\n",
            "background 2 present at 293\n",
            "background 2 present at 294\n",
            "background 2 present at 295\n",
            "background 2 present at 296\n",
            "background 2 present at 297\n",
            "background 2 present at 298\n",
            "background 2 present at 299\n",
            "background 2 present at 300\n",
            "background 2 present at 301\n",
            "background 2 present at 302\n",
            "background 2 present at 303\n",
            "background 2 present at 304\n",
            "background 2 present at 305\n",
            "background 2 present at 306\n",
            "background 2 present at 307\n",
            "background 2 present at 308\n",
            "background 2 present at 309\n",
            "background 2 present at 310\n",
            "background 2 present at 311\n",
            "background 2 present at 312\n",
            "background 2 present at 313\n",
            "background 2 present at 314\n",
            "background 2 present at 315\n",
            "background 2 present at 316\n",
            "background 2 present at 317\n",
            "background 2 present at 318\n",
            "background 2 present at 319\n",
            "background 2 present at 320\n",
            "background 2 present at 321\n",
            "background 2 present at 322\n",
            "background 2 present at 323\n",
            "background 2 present at 324\n",
            "background 2 present at 325\n",
            "background 2 present at 326\n",
            "background 2 present at 327\n",
            "background 2 present at 328\n",
            "background 2 present at 329\n",
            "background 2 present at 330\n",
            "background 2 present at 331\n",
            "background 2 present at 332\n",
            "background 2 present at 333\n",
            "background 2 present at 334\n",
            "background 2 present at 335\n",
            "background 2 present at 336\n",
            "background 2 present at 337\n",
            "background 2 present at 338\n",
            "background 2 present at 339\n",
            "background 2 present at 340\n",
            "background 2 present at 341\n",
            "background 2 present at 342\n",
            "background 2 present at 343\n",
            "background 2 present at 344\n",
            "background 2 present at 345\n",
            "background 2 present at 346\n",
            "background 2 present at 347\n",
            "background 2 present at 348\n",
            "background 2 present at 349\n",
            "background 2 present at 350\n",
            "background 2 present at 351\n",
            "background 2 present at 352\n",
            "background 2 present at 353\n",
            "background 2 present at 354\n",
            "background 2 present at 355\n",
            "background 2 present at 356\n",
            "background 2 present at 357\n",
            "background 2 present at 358\n",
            "background 2 present at 359\n",
            "background 2 present at 360\n",
            "background 2 present at 361\n",
            "background 2 present at 362\n",
            "background 2 present at 363\n",
            "background 2 present at 364\n",
            "background 2 present at 365\n",
            "background 2 present at 366\n",
            "background 2 present at 367\n",
            "background 2 present at 368\n",
            "background 2 present at 369\n",
            "background 2 present at 370\n",
            "background 2 present at 371\n",
            "background 2 present at 372\n",
            "background 2 present at 373\n",
            "background 2 present at 374\n",
            "background 2 present at 375\n",
            "background 2 present at 376\n",
            "background 2 present at 377\n",
            "background 2 present at 378\n",
            "background 2 present at 379\n",
            "background 2 present at 380\n",
            "background 2 present at 381\n",
            "background 2 present at 382\n",
            "background 2 present at 383\n",
            "background 2 present at 384\n",
            "background 2 present at 385\n",
            "background 2 present at 386\n",
            "background 2 present at 387\n",
            "background 2 present at 388\n",
            "background 2 present at 389\n",
            "background 2 present at 390\n",
            "background 2 present at 391\n",
            "background 2 present at 392\n",
            "background 2 present at 393\n",
            "background 2 present at 394\n",
            "background 2 present at 395\n",
            "background 2 present at 396\n",
            "background 2 present at 397\n",
            "background 2 present at 398\n",
            "background 2 present at 399\n",
            "background 2 present at 400\n",
            "background 2 present at 401\n",
            "background 2 present at 402\n",
            "background 2 present at 403\n",
            "background 2 present at 404\n",
            "background 2 present at 405\n",
            "background 2 present at 406\n",
            "background 2 present at 407\n",
            "background 2 present at 408\n",
            "background 2 present at 409\n",
            "background 2 present at 410\n",
            "background 2 present at 411\n",
            "background 2 present at 412\n",
            "background 2 present at 413\n",
            "background 2 present at 414\n",
            "background 2 present at 415\n",
            "background 2 present at 416\n",
            "background 2 present at 417\n",
            "background 2 present at 418\n",
            "background 2 present at 419\n",
            "background 2 present at 420\n",
            "background 2 present at 421\n",
            "background 2 present at 422\n",
            "background 2 present at 423\n",
            "background 2 present at 424\n",
            "background 2 present at 425\n",
            "background 2 present at 426\n",
            "background 2 present at 427\n",
            "background 2 present at 428\n",
            "background 2 present at 429\n",
            "background 2 present at 430\n",
            "background 2 present at 431\n",
            "background 2 present at 432\n",
            "background 2 present at 433\n",
            "background 2 present at 434\n",
            "background 2 present at 435\n",
            "background 2 present at 436\n",
            "background 2 present at 437\n",
            "background 2 present at 438\n",
            "background 2 present at 439\n",
            "background 2 present at 440\n",
            "background 2 present at 441\n",
            "background 2 present at 442\n",
            "background 2 present at 443\n",
            "background 2 present at 444\n",
            "background 2 present at 445\n",
            "background 2 present at 446\n",
            "background 2 present at 447\n",
            "background 2 present at 448\n",
            "background 2 present at 449\n",
            "background 2 present at 450\n",
            "background 2 present at 451\n",
            "background 2 present at 452\n",
            "background 2 present at 453\n",
            "background 2 present at 454\n",
            "background 2 present at 455\n",
            "background 2 present at 456\n",
            "background 2 present at 457\n",
            "background 2 present at 458\n",
            "background 2 present at 459\n",
            "background 2 present at 460\n",
            "background 2 present at 461\n",
            "background 2 present at 462\n",
            "background 2 present at 463\n",
            "background 2 present at 464\n",
            "background 2 present at 465\n",
            "background 2 present at 466\n",
            "background 2 present at 467\n",
            "background 2 present at 468\n",
            "background 2 present at 469\n",
            "background 2 present at 470\n",
            "background 2 present at 471\n",
            "background 2 present at 472\n",
            "background 2 present at 473\n",
            "background 2 present at 474\n",
            "background 2 present at 475\n",
            "background 2 present at 476\n",
            "background 2 present at 477\n",
            "background 2 present at 478\n",
            "background 2 present at 479\n",
            "background 2 present at 480\n",
            "background 2 present at 481\n",
            "background 2 present at 482\n",
            "background 2 present at 483\n",
            "background 2 present at 484\n",
            "background 2 present at 485\n",
            "background 2 present at 486\n",
            "background 2 present at 487\n",
            "background 2 present at 488\n",
            "background 2 present at 489\n",
            "background 2 present at 490\n",
            "background 2 present at 491\n",
            "background 2 present at 492\n",
            "background 2 present at 493\n",
            "background 2 present at 494\n",
            "background 2 present at 495\n",
            "background 2 present at 496\n",
            "background 2 present at 497\n",
            "background 2 present at 498\n",
            "background 2 present at 499\n",
            "(500,)\n",
            "1 252\n"
          ]
        }
      ]
    },
    {
      "cell_type": "code",
      "metadata": {
        "colab": {
          "base_uri": "https://localhost:8080/"
        },
        "id": "dwZVmmRBr0S8",
        "outputId": "e1c7a7ed-b545-4abb-8593-ba22ec0c3ef1"
      },
      "source": [
        "a.shape"
      ],
      "execution_count": 172,
      "outputs": [
        {
          "output_type": "execute_result",
          "data": {
            "text/plain": [
              "(500,)"
            ]
          },
          "metadata": {},
          "execution_count": 172
        }
      ]
    },
    {
      "cell_type": "code",
      "metadata": {
        "colab": {
          "base_uri": "https://localhost:8080/"
        },
        "id": "OoxzYI-ur0S_",
        "outputId": "d3166b08-8f7f-4ac6-e478-99f939f44c78"
      },
      "source": [
        "np.reshape(a,(m,1))"
      ],
      "execution_count": 173,
      "outputs": [
        {
          "output_type": "execute_result",
          "data": {
            "text/plain": [
              "array([[-0.80241043],\n",
              "       [ 1.00228507],\n",
              "       [-0.81132988],\n",
              "       [ 1.2774409 ],\n",
              "       [ 0.57398646],\n",
              "       [-0.91850331],\n",
              "       [ 0.6600648 ],\n",
              "       [ 0.57398646],\n",
              "       [ 1.39799803],\n",
              "       [ 0.13695373],\n",
              "       [-1.44264034],\n",
              "       [ 0.71837826],\n",
              "       [ 1.08544127],\n",
              "       [ 1.55171236],\n",
              "       [ 0.4152144 ],\n",
              "       [-1.15692643],\n",
              "       [-1.62776348],\n",
              "       [ 0.65339431],\n",
              "       [ 0.44998336],\n",
              "       [-1.35067387],\n",
              "       [-0.1541663 ],\n",
              "       [ 1.2774409 ],\n",
              "       [ 0.44998336],\n",
              "       [ 1.20061574],\n",
              "       [-0.83952364],\n",
              "       [ 0.46279645],\n",
              "       [-0.90487837],\n",
              "       [ 0.8325454 ],\n",
              "       [-0.41161127],\n",
              "       [-0.94524964],\n",
              "       [-0.2407784 ],\n",
              "       [ 0.80282356],\n",
              "       [ 0.18678022],\n",
              "       [ 0.41553291],\n",
              "       [ 0.99304358],\n",
              "       [-0.94524964],\n",
              "       [-1.44264034],\n",
              "       [-1.36429042],\n",
              "       [-0.36474865],\n",
              "       [ 0.1392267 ],\n",
              "       [ 0.1428216 ],\n",
              "       [-1.08085196],\n",
              "       [ 0.6600648 ],\n",
              "       [-1.17697967],\n",
              "       [-0.29918788],\n",
              "       [-1.35067387],\n",
              "       [ 0.34820546],\n",
              "       [ 1.35486532],\n",
              "       [-1.3759762 ],\n",
              "       [ 0.98589978],\n",
              "       [-0.59511662],\n",
              "       [ 1.41734616],\n",
              "       [ 0.71837826],\n",
              "       [ 1.00274723],\n",
              "       [-0.90487837],\n",
              "       [ 0.32309258],\n",
              "       [-0.91850331],\n",
              "       [-0.1541663 ],\n",
              "       [-0.92269452],\n",
              "       [ 1.41734616],\n",
              "       [-1.54993781],\n",
              "       [-0.59511662],\n",
              "       [ 1.03475943],\n",
              "       [ 0.46786344],\n",
              "       [ 0.97606684],\n",
              "       [ 0.6600648 ],\n",
              "       [ 0.51783775],\n",
              "       [-0.4252276 ],\n",
              "       [ 1.28615767],\n",
              "       [ 0.97606684],\n",
              "       [-1.44985264],\n",
              "       [-1.54993781],\n",
              "       [ 1.40413128],\n",
              "       [ 1.04969471],\n",
              "       [ 0.94269703],\n",
              "       [-1.1935932 ],\n",
              "       [-0.00757527],\n",
              "       [ 0.75582313],\n",
              "       [ 1.39806093],\n",
              "       [-1.46523851],\n",
              "       [-1.0567665 ],\n",
              "       [ 0.9324306 ],\n",
              "       [-0.72988   ],\n",
              "       [ 1.52408356],\n",
              "       [ 1.39236683],\n",
              "       [ 0.06747313],\n",
              "       [-0.38545355],\n",
              "       [-1.1935932 ],\n",
              "       [-1.43069628],\n",
              "       [ 1.2774409 ],\n",
              "       [ 1.62014849],\n",
              "       [-1.27266268],\n",
              "       [ 1.4074927 ],\n",
              "       [-1.74493859],\n",
              "       [ 1.20061574],\n",
              "       [ 0.46786344],\n",
              "       [-1.0567665 ],\n",
              "       [ 0.83122375],\n",
              "       [ 0.6600648 ],\n",
              "       [ 0.58858422],\n",
              "       [ 1.50127618],\n",
              "       [ 1.50127618],\n",
              "       [-0.75894025],\n",
              "       [ 0.34586581],\n",
              "       [ 0.90752413],\n",
              "       [ 0.97191874],\n",
              "       [-1.73154424],\n",
              "       [ 1.43580093],\n",
              "       [ 1.62014849],\n",
              "       [-0.1541663 ],\n",
              "       [ 0.38745843],\n",
              "       [ 1.10390156],\n",
              "       [-0.59774   ],\n",
              "       [ 1.55171236],\n",
              "       [-0.2407784 ],\n",
              "       [ 0.78170047],\n",
              "       [-0.36464897],\n",
              "       [ 0.02575601],\n",
              "       [ 1.04960385],\n",
              "       [-1.15692643],\n",
              "       [-1.62776348],\n",
              "       [-0.36464897],\n",
              "       [-0.4252276 ],\n",
              "       [-0.2407784 ],\n",
              "       [ 0.27034648],\n",
              "       [ 0.46786344],\n",
              "       [-1.73714097],\n",
              "       [ 0.38745843],\n",
              "       [ 0.97606684],\n",
              "       [ 0.41553291],\n",
              "       [-1.62071732],\n",
              "       [ 1.10390156],\n",
              "       [ 0.71837826],\n",
              "       [-0.1541663 ],\n",
              "       [-1.36429042],\n",
              "       [-0.36464897],\n",
              "       [-0.92269452],\n",
              "       [-0.75894025],\n",
              "       [-0.90487837],\n",
              "       [-1.08182983],\n",
              "       [-0.52162168],\n",
              "       [ 0.9324306 ],\n",
              "       [ 1.2774409 ],\n",
              "       [ 1.37939868],\n",
              "       [ 1.37939868],\n",
              "       [ 1.03475943],\n",
              "       [-1.27266268],\n",
              "       [ 0.46279645],\n",
              "       [ 1.14462928],\n",
              "       [ 1.22075701],\n",
              "       [ 1.43580093],\n",
              "       [-1.02298771],\n",
              "       [-1.0567665 ],\n",
              "       [-0.55976305],\n",
              "       [-0.75894025],\n",
              "       [-0.03466237],\n",
              "       [ 0.18678022],\n",
              "       [-0.51577218],\n",
              "       [-0.59774   ],\n",
              "       [ 0.41497164],\n",
              "       [ 1.04960385],\n",
              "       [-0.89789265],\n",
              "       [ 0.34586581],\n",
              "       [ 0.02251877],\n",
              "       [ 0.28699413],\n",
              "       [-0.53607891],\n",
              "       [ 0.77509502],\n",
              "       [-1.27266268],\n",
              "       [-1.15692643],\n",
              "       [-1.3759762 ],\n",
              "       [ 0.6600648 ],\n",
              "       [ 0.94269703],\n",
              "       [-0.53607891],\n",
              "       [ 0.06747313],\n",
              "       [ 0.9324306 ],\n",
              "       [-1.27266268],\n",
              "       [-0.91850331],\n",
              "       [-0.51577218],\n",
              "       [ 0.8325454 ],\n",
              "       [ 0.99304358],\n",
              "       [ 0.41497164],\n",
              "       [ 1.31922113],\n",
              "       [-1.20787928],\n",
              "       [-0.16386973],\n",
              "       [ 0.41553291],\n",
              "       [-1.44985264],\n",
              "       [ 1.30533553],\n",
              "       [-0.42473802],\n",
              "       [ 0.75582313],\n",
              "       [-0.75011909],\n",
              "       [ 0.9324306 ],\n",
              "       [-0.18434348],\n",
              "       [-1.08182983],\n",
              "       [-0.1541663 ],\n",
              "       [-1.40535774],\n",
              "       [ 1.44702914],\n",
              "       [ 1.39799803],\n",
              "       [ 1.03475943],\n",
              "       [-0.38545355],\n",
              "       [-0.363319  ],\n",
              "       [ 0.46279645],\n",
              "       [-0.75011909],\n",
              "       [-0.51577218],\n",
              "       [ 0.41553291],\n",
              "       [ 0.27034648],\n",
              "       [ 0.77509502],\n",
              "       [ 0.26551966],\n",
              "       [ 1.04960385],\n",
              "       [ 0.02251877],\n",
              "       [ 1.62014849],\n",
              "       [-0.36464897],\n",
              "       [-0.80241043],\n",
              "       [ 0.83122375],\n",
              "       [-0.1541663 ],\n",
              "       [-0.55976305],\n",
              "       [ 1.31922113],\n",
              "       [-0.36464897],\n",
              "       [ 0.1392267 ],\n",
              "       [-0.89789265],\n",
              "       [ 0.57398646],\n",
              "       [ 1.35486532],\n",
              "       [ 1.2774409 ],\n",
              "       [-1.40535774],\n",
              "       [ 1.44702914],\n",
              "       [ 1.44702914],\n",
              "       [-1.36429042],\n",
              "       [-0.03466237],\n",
              "       [-0.29918788],\n",
              "       [-1.33059033],\n",
              "       [ 0.22843592],\n",
              "       [ 1.2774409 ],\n",
              "       [ 0.83122375],\n",
              "       [-1.47371279],\n",
              "       [ 1.43580093],\n",
              "       [ 1.03475943],\n",
              "       [ 0.77509502],\n",
              "       [ 1.28615767],\n",
              "       [ 0.51783775],\n",
              "       [-1.5721298 ],\n",
              "       [ 0.97606684],\n",
              "       [-0.11183672],\n",
              "       [-0.41161127],\n",
              "       [-1.21801511],\n",
              "       [ 0.83122375],\n",
              "       [ 1.37191625],\n",
              "       [ 0.8325454 ],\n",
              "       [-0.5854355 ],\n",
              "       [-0.12909751],\n",
              "       [ 0.78170047],\n",
              "       [ 0.41204831],\n",
              "       [-0.72988   ],\n",
              "       [ 1.03957183],\n",
              "       [-6.38165947],\n",
              "       [ 0.80282356],\n",
              "       [ 1.44702914],\n",
              "       [ 1.4747136 ],\n",
              "       [ 0.34820546],\n",
              "       [ 1.35486532],\n",
              "       [-0.91850331],\n",
              "       [ 1.37191625],\n",
              "       [-0.72988   ],\n",
              "       [ 0.38745843],\n",
              "       [-0.27510759],\n",
              "       [ 0.41553291],\n",
              "       [-1.57358463],\n",
              "       [-1.1935932 ],\n",
              "       [ 0.06747313],\n",
              "       [ 1.00274723],\n",
              "       [-0.41161127],\n",
              "       [-1.0567665 ],\n",
              "       [ 0.80282356],\n",
              "       [-1.08182983],\n",
              "       [ 0.22843592],\n",
              "       [ 1.50127618],\n",
              "       [-0.75894025],\n",
              "       [-0.42473802],\n",
              "       [-1.5721298 ],\n",
              "       [ 1.10390156],\n",
              "       [-0.44339937],\n",
              "       [-0.91850331],\n",
              "       [-0.52162168],\n",
              "       [ 0.8325454 ],\n",
              "       [ 0.94164048],\n",
              "       [-1.28104385],\n",
              "       [ 1.27408086],\n",
              "       [-0.36464897],\n",
              "       [ 0.46786344],\n",
              "       [ 1.4074927 ],\n",
              "       [ 0.9324306 ],\n",
              "       [-1.35067387],\n",
              "       [ 0.34820546],\n",
              "       [-1.36429042],\n",
              "       [ 1.50127618],\n",
              "       [-0.36474865],\n",
              "       [-0.29918788],\n",
              "       [ 1.35486532],\n",
              "       [ 0.80282356],\n",
              "       [ 1.04960385],\n",
              "       [-0.72988   ],\n",
              "       [-0.9959213 ],\n",
              "       [ 0.38745843],\n",
              "       [ 0.90752413],\n",
              "       [ 1.39236683],\n",
              "       [-1.74493859],\n",
              "       [ 0.26551966],\n",
              "       [ 1.22075701],\n",
              "       [-0.36474865],\n",
              "       [ 1.04960385],\n",
              "       [ 1.00115933],\n",
              "       [-0.03809035],\n",
              "       [ 0.02251877],\n",
              "       [-0.03466237],\n",
              "       [-1.46523851],\n",
              "       [ 0.1392267 ],\n",
              "       [-1.36429042],\n",
              "       [ 0.71837826],\n",
              "       [-1.46523851],\n",
              "       [ 1.62014849],\n",
              "       [-0.12909751],\n",
              "       [-1.28104385],\n",
              "       [-0.59511662],\n",
              "       [ 0.94164048],\n",
              "       [-0.12909751],\n",
              "       [ 0.8325454 ],\n",
              "       [-1.28104385],\n",
              "       [ 1.28615767],\n",
              "       [-1.53175495],\n",
              "       [-0.27510759],\n",
              "       [-0.5854355 ],\n",
              "       [ 1.03957183],\n",
              "       [-1.47371279],\n",
              "       [-1.3759762 ],\n",
              "       [-0.4252276 ],\n",
              "       [-1.47371279],\n",
              "       [-1.35067387],\n",
              "       [ 1.03957183],\n",
              "       [ 1.11307902],\n",
              "       [ 0.83122375],\n",
              "       [-1.35067387],\n",
              "       [ 1.20061574],\n",
              "       [-0.38545355],\n",
              "       [ 0.90752413],\n",
              "       [ 0.41553291],\n",
              "       [-0.11183672],\n",
              "       [ 1.37939868],\n",
              "       [-0.29918788],\n",
              "       [-0.03809035],\n",
              "       [ 1.43580093],\n",
              "       [-1.39140608],\n",
              "       [ 0.13695373],\n",
              "       [ 0.51783775],\n",
              "       [-0.51577218],\n",
              "       [-1.3759762 ],\n",
              "       [-0.11183672],\n",
              "       [ 0.98589978],\n",
              "       [ 0.46279645],\n",
              "       [ 0.80282356],\n",
              "       [ 0.94164048],\n",
              "       [ 1.39799803],\n",
              "       [ 0.38745843],\n",
              "       [-1.74493859],\n",
              "       [ 1.37939868],\n",
              "       [-0.99267185],\n",
              "       [-1.43069628],\n",
              "       [-1.17697967],\n",
              "       [ 0.4152144 ],\n",
              "       [ 1.35486532],\n",
              "       [-0.70196915],\n",
              "       [-0.48596823],\n",
              "       [-1.3759762 ],\n",
              "       [-0.36464897],\n",
              "       [ 0.95437629],\n",
              "       [ 0.6600648 ],\n",
              "       [ 0.02575601],\n",
              "       [ 0.95437629],\n",
              "       [ 0.1392267 ],\n",
              "       [-0.42473802],\n",
              "       [-0.9959213 ],\n",
              "       [-0.36464897],\n",
              "       [ 0.99304358],\n",
              "       [-0.55976305],\n",
              "       [-0.51577218],\n",
              "       [-0.03466237],\n",
              "       [ 1.04960385],\n",
              "       [-0.16386973],\n",
              "       [-0.16386973],\n",
              "       [ 0.46279645],\n",
              "       [-0.5854355 ],\n",
              "       [ 0.18678022],\n",
              "       [-1.73154424],\n",
              "       [ 0.38745843],\n",
              "       [-0.92269452],\n",
              "       [-0.12909751],\n",
              "       [ 0.4152144 ],\n",
              "       [-0.363319  ],\n",
              "       [-1.47371279],\n",
              "       [ 0.46279645],\n",
              "       [ 1.00228507],\n",
              "       [-0.18434348],\n",
              "       [ 1.43580093],\n",
              "       [ 1.31922113],\n",
              "       [-0.55976305],\n",
              "       [-0.12909751],\n",
              "       [-0.94524964],\n",
              "       [-0.03466237],\n",
              "       [-1.73714097],\n",
              "       [ 0.26551966],\n",
              "       [-0.59774   ],\n",
              "       [-0.83952364],\n",
              "       [ 0.78170047],\n",
              "       [ 0.06313378],\n",
              "       [ 1.03957183],\n",
              "       [-0.70196915],\n",
              "       [-0.75011909],\n",
              "       [ 1.4074927 ],\n",
              "       [-1.73714097],\n",
              "       [-1.46523851],\n",
              "       [-0.16386973],\n",
              "       [-0.94524964],\n",
              "       [-0.59774   ],\n",
              "       [-0.91850331],\n",
              "       [-0.92269452],\n",
              "       [-0.51577218],\n",
              "       [ 0.71837826],\n",
              "       [-0.5854355 ],\n",
              "       [ 1.00228507],\n",
              "       [ 0.97191874],\n",
              "       [-0.4252276 ],\n",
              "       [ 1.10390156],\n",
              "       [-0.99267185],\n",
              "       [-1.47371279],\n",
              "       [-1.6606795 ],\n",
              "       [-0.5854355 ],\n",
              "       [ 0.58858422],\n",
              "       [ 0.02575601],\n",
              "       [ 0.8325454 ],\n",
              "       [-0.42473802],\n",
              "       [ 1.03957183],\n",
              "       [ 1.39799803],\n",
              "       [ 0.28699413],\n",
              "       [ 1.04960385],\n",
              "       [-0.70196915],\n",
              "       [-1.08085196],\n",
              "       [-0.4252276 ],\n",
              "       [-1.20787928],\n",
              "       [ 0.97191874],\n",
              "       [ 0.32309258],\n",
              "       [ 0.75582313],\n",
              "       [-0.52917724],\n",
              "       [ 1.08544127],\n",
              "       [ 1.10390156],\n",
              "       [-1.35067387],\n",
              "       [-1.27266268],\n",
              "       [-1.39140608],\n",
              "       [ 1.40413128],\n",
              "       [ 1.39236683],\n",
              "       [ 1.03475943],\n",
              "       [ 1.10390156],\n",
              "       [-0.1541663 ],\n",
              "       [-0.11183672],\n",
              "       [-0.72988   ],\n",
              "       [-0.38545355],\n",
              "       [-0.59511662],\n",
              "       [-0.52900357],\n",
              "       [-0.44339937],\n",
              "       [-0.5854355 ],\n",
              "       [ 1.03475943],\n",
              "       [-1.73714097],\n",
              "       [-0.2407784 ],\n",
              "       [ 0.58858422],\n",
              "       [-0.59774   ],\n",
              "       [ 0.6640638 ],\n",
              "       [-1.73154424],\n",
              "       [ 0.4152144 ],\n",
              "       [ 0.94164048],\n",
              "       [ 1.2774409 ],\n",
              "       [-0.00757527],\n",
              "       [ 1.00274723],\n",
              "       [-0.80241043],\n",
              "       [ 0.34820546],\n",
              "       [-1.3759762 ],\n",
              "       [-1.43069628],\n",
              "       [-1.43069628],\n",
              "       [-1.17697967],\n",
              "       [ 1.30533553],\n",
              "       [ 0.06313378],\n",
              "       [-1.57358463],\n",
              "       [ 0.65339431],\n",
              "       [-1.0567665 ],\n",
              "       [ 1.20061574],\n",
              "       [-0.3972938 ],\n",
              "       [-1.0567665 ],\n",
              "       [-1.17697967],\n",
              "       [ 0.28699413],\n",
              "       [ 0.97191874],\n",
              "       [ 1.37939868],\n",
              "       [ 0.1428216 ],\n",
              "       [ 1.40413128],\n",
              "       [-0.52900357],\n",
              "       [-0.75894025]])"
            ]
          },
          "metadata": {},
          "execution_count": 173
        }
      ]
    },
    {
      "cell_type": "code",
      "metadata": {
        "id": "jqbvfbwVr0TN"
      },
      "source": [
        "\n",
        "mosaic_list_of_images =[]\n",
        "mosaic_label = []\n",
        "fore_idx=[]\n",
        "for j in range(desired_num):\n",
        "    np.random.seed(j)\n",
        "    fg_class  = np.random.randint(0,2)\n",
        "    fg_idx = np.random.randint(0,m)\n",
        "    a = []\n",
        "    for i in range(m):\n",
        "        if i == fg_idx:\n",
        "            b = np.random.choice(np.where(idx[fg_class]==True)[0],size=1)\n",
        "            a.append(x[b])\n",
        "#             print(\"foreground \"+str(fg_class)+\" present at \" + str(fg_idx))\n",
        "        else:\n",
        "            bg_class = np.random.randint(2,3)\n",
        "            b = np.random.choice(np.where(idx[bg_class]==True)[0],size=1)\n",
        "            a.append(x[b])\n",
        "#             print(\"background \"+str(bg_class)+\" present at \" + str(i))\n",
        "    a = np.concatenate(a,axis=0)\n",
        "    mosaic_list_of_images.append(np.reshape(a,(m,1)))\n",
        "    mosaic_label.append(fg_class)\n",
        "    fore_idx.append(fg_idx)"
      ],
      "execution_count": 174,
      "outputs": []
    },
    {
      "cell_type": "code",
      "metadata": {
        "id": "BOsFmWfMr0TR",
        "colab": {
          "base_uri": "https://localhost:8080/"
        },
        "outputId": "77a5af4d-8ff2-4776-b625-006de7e424b9"
      },
      "source": [
        "mosaic_list_of_images = np.concatenate(mosaic_list_of_images,axis=1).T\n",
        "mosaic_list_of_images.shape"
      ],
      "execution_count": 175,
      "outputs": [
        {
          "output_type": "execute_result",
          "data": {
            "text/plain": [
              "(2000, 500)"
            ]
          },
          "metadata": {},
          "execution_count": 175
        }
      ]
    },
    {
      "cell_type": "code",
      "metadata": {
        "colab": {
          "base_uri": "https://localhost:8080/"
        },
        "id": "2aIPMgLXNiXW",
        "outputId": "86138338-7bd6-4d4b-db4d-98b8f6be5310"
      },
      "source": [
        "mosaic_list_of_images.shape, mosaic_list_of_images[0]"
      ],
      "execution_count": 176,
      "outputs": [
        {
          "output_type": "execute_result",
          "data": {
            "text/plain": [
              "((2000, 500),\n",
              " array([ 1.43580093e+00,  1.36953727e-01, -4.25227595e-01, -9.18503310e-01,\n",
              "        -1.29097509e-01, -1.73154424e+00,  7.55823134e-01,  6.64063803e-01,\n",
              "        -1.54166304e-01,  8.32545402e-01,  1.31922113e+00, -4.11611269e-01,\n",
              "         7.55823134e-01, -1.54166304e-01, -9.04878365e-01,  2.65519657e-01,\n",
              "         1.41734616e+00, -1.35067387e+00, -9.18503310e-01, -8.48777450e-01,\n",
              "         4.14971640e-01,  2.28435924e-01,  4.12048306e-01,  1.03957183e+00,\n",
              "        -4.24738021e-01, -1.74493859e+00, -1.74493859e+00, -1.43069628e+00,\n",
              "        -2.99187881e-01, -9.18503310e-01, -1.46523851e+00, -2.99187881e-01,\n",
              "         7.18378258e-01, -1.37597620e+00,  6.53394308e-01,  3.45865811e-01,\n",
              "         1.62014849e+00,  3.48205465e-01,  3.48205465e-01, -2.40778404e-01,\n",
              "         7.81700467e-01, -5.29177237e-01,  1.39799803e+00,  2.28435924e-01,\n",
              "        -1.20787928e+00,  1.04960385e+00, -1.15692643e+00, -1.07805031e+01,\n",
              "        -1.54993781e+00, -9.92671849e-01,  1.00274723e+00, -1.57358463e+00,\n",
              "         1.50127618e+00, -5.15772181e-01, -1.28104385e+00, -3.64748654e-01,\n",
              "         4.12048306e-01, -3.80903463e-02,  3.48205465e-01, -1.43069628e+00,\n",
              "         1.03957183e+00, -2.40778404e-01,  8.32545402e-01,  9.76066844e-01,\n",
              "        -8.97892654e-01,  1.14462928e+00,  3.87458426e-01, -7.01969147e-01,\n",
              "        -1.46523851e+00, -9.95921302e-01, -7.29879997e-01,  1.44702914e+00,\n",
              "        -1.66067950e+00, -8.48777450e-01, -3.46623715e-02, -1.53175495e+00,\n",
              "         1.43580093e+00,  1.39236683e+00,  9.71918741e-01, -1.11836716e-01,\n",
              "        -1.05931124e+00, -8.02410432e-01,  1.00115933e+00, -3.63319004e-01,\n",
              "         1.30533553e+00, -1.73154424e+00,  6.74731264e-02,  9.71918741e-01,\n",
              "        -1.62776348e+00, -9.95921302e-01,  9.07524131e-01, -1.15692643e+00,\n",
              "        -3.64648966e-01, -1.27266268e+00, -1.46523851e+00, -3.63319004e-01,\n",
              "        -5.85435504e-01,  6.53394308e-01, -1.04969386e+00, -1.46523851e+00,\n",
              "        -3.46623715e-02,  9.32430600e-01,  9.76066844e-01,  9.07524131e-01,\n",
              "        -3.85453547e-01, -9.45249641e-01,  4.12048306e-01, -8.48777450e-01,\n",
              "         1.47471360e+00, -1.08085196e+00,  4.49983364e-01,  3.23092585e-01,\n",
              "         1.31922113e+00, -1.73154424e+00,  1.04969471e+00,  1.27744090e+00,\n",
              "        -1.04969386e+00,  1.40749270e+00, -3.64748654e-01, -8.39523638e-01,\n",
              "         6.60064797e-01,  9.93043577e-01, -2.99187881e-01,  3.48205465e-01,\n",
              "        -5.29177237e-01, -3.97293795e-01, -1.15692643e+00,  4.14971640e-01,\n",
              "         1.41734616e+00,  1.40413128e+00, -4.85968229e-01,  4.67863442e-01,\n",
              "        -8.39523638e-01, -1.39140608e+00,  1.00115933e+00,  5.88584223e-01,\n",
              "         1.53890257e+00, -3.64648966e-01, -7.58940247e-01, -1.35067387e+00,\n",
              "        -3.97293795e-01, -8.02410432e-01, -1.35067387e+00, -1.62071732e+00,\n",
              "         1.36953727e-01,  1.34835784e+00,  4.49983364e-01,  1.37191625e+00,\n",
              "         9.85899779e-01, -1.08182983e+00,  1.27744090e+00,  9.76066844e-01,\n",
              "        -1.84343478e-01, -1.57212980e+00,  1.37939868e+00,  8.31223753e-01,\n",
              "        -5.21621676e-01, -1.27266268e+00,  1.28615767e+00,  2.65519657e-01,\n",
              "         9.76066844e-01, -5.29003566e-01,  1.43580093e+00, -1.19359320e+00,\n",
              "        -1.47371279e+00,  1.40749270e+00, -1.44264034e+00,  9.76066844e-01,\n",
              "         6.64063803e-01,  7.18378258e-01,  1.53890257e+00,  1.00228507e+00,\n",
              "         8.31223753e-01,  2.28435924e-01,  3.23092585e-01,  1.21300931e+00,\n",
              "        -7.58940247e-01, -3.64748654e-01,  1.52408356e+00, -1.62776348e+00,\n",
              "         2.86994127e-01, -5.29003566e-01, -1.02298771e+00,  4.67863442e-01,\n",
              "        -4.85968229e-01,  1.36953727e-01, -1.39140608e+00,  1.50127618e+00,\n",
              "        -1.04969386e+00, -2.99187881e-01, -3.64748654e-01,  1.40749270e+00,\n",
              "        -5.85435504e-01,  4.67863442e-01, -5.95116619e-01,  1.52408356e+00,\n",
              "        -8.39523638e-01,  1.55171236e+00, -1.37597620e+00, -2.40778404e-01,\n",
              "         6.60064797e-01, -8.48777450e-01, -4.24738021e-01,  1.36953727e-01,\n",
              "         1.50127618e+00, -4.11611269e-01,  9.42697031e-01,  1.11307902e+00,\n",
              "         3.23092585e-01, -1.37597620e+00, -9.95921302e-01, -1.40535774e+00,\n",
              "         9.41640484e-01, -1.39140608e+00,  7.18378258e-01, -9.18503310e-01,\n",
              "        -5.85435504e-01,  1.55171236e+00,  1.34835784e+00,  1.39236683e+00,\n",
              "         1.39806093e+00, -1.02298771e+00,  1.62014849e+00,  6.74731264e-02,\n",
              "        -1.54166304e-01, -2.01409020e-01,  7.81700467e-01, -1.73154424e+00,\n",
              "        -3.63319004e-01,  1.62014849e+00,  7.75095020e-01,  9.93043577e-01,\n",
              "        -2.75107593e-01,  2.86994127e-01, -3.64648966e-01,  1.50127618e+00,\n",
              "        -1.54993781e+00, -3.80903463e-02,  2.25187695e-02, -1.73154424e+00,\n",
              "         2.65519657e-01,  1.36953727e-01, -4.25227595e-01,  1.50127618e+00,\n",
              "         6.53394308e-01,  1.40413128e+00, -4.24738021e-01, -2.01409020e-01,\n",
              "        -1.05676650e+00,  1.39799803e+00, -8.97892654e-01, -8.39523638e-01,\n",
              "        -1.05931124e+00, -1.21801511e+00,  8.32545402e-01, -1.02298771e+00,\n",
              "         1.43580093e+00,  1.39226705e-01,  1.52408356e+00, -3.80903463e-02,\n",
              "         1.39236683e+00, -4.11611269e-01,  1.20061574e+00, -7.50119090e-01,\n",
              "        -5.59763052e-01,  1.21300931e+00,  2.70346477e-01, -1.04969386e+00,\n",
              "        -1.19359320e+00,  3.23092585e-01, -1.62776348e+00, -1.27266268e+00,\n",
              "         1.22075701e+00,  1.11307902e+00,  3.45865811e-01,  1.04960385e+00,\n",
              "         3.48205465e-01,  5.17837754e-01,  1.37939868e+00,  1.08544127e+00,\n",
              "         1.00115933e+00, -4.85968229e-01,  2.25187695e-02,  6.60064797e-01,\n",
              "        -2.75107593e-01, -3.80903463e-02, -1.62776348e+00, -9.45249641e-01,\n",
              "         7.55823134e-01, -1.44264034e+00, -1.74493859e+00, -1.35067387e+00,\n",
              "         7.55823134e-01,  1.53890257e+00,  1.31922113e+00, -9.04878365e-01,\n",
              "        -1.54993781e+00,  2.25187695e-02,  1.03475943e+00,  2.65519657e-01,\n",
              "        -2.99187881e-01,  4.49983364e-01,  3.45865811e-01, -8.11329880e-01,\n",
              "         1.14462928e+00,  8.02823556e-01,  6.31337800e-02, -1.19359320e+00,\n",
              "        -1.34303174e+00,  1.34835784e+00, -1.53175495e+00, -9.22694519e-01,\n",
              "        -3.63319004e-01, -2.75107593e-01, -1.08182983e+00,  9.85899779e-01,\n",
              "         2.70346477e-01,  4.15532911e-01, -1.33059033e+00, -1.36429042e+00,\n",
              "         6.60064797e-01,  1.04960385e+00,  1.21300931e+00,  1.43580093e+00,\n",
              "         1.62014849e+00,  6.60064797e-01, -7.50119090e-01,  1.31922113e+00,\n",
              "         1.27408086e+00,  1.21300931e+00,  7.55823134e-01,  6.64063803e-01,\n",
              "        -2.40778404e-01,  9.71918741e-01,  1.00115933e+00,  5.73986455e-01,\n",
              "         9.93043577e-01, -1.62071732e+00, -5.97739995e-01,  1.31922113e+00,\n",
              "         1.08544127e+00, -1.02298771e+00,  1.53890257e+00,  9.76066844e-01,\n",
              "         6.64063803e-01, -5.29177237e-01, -2.75107593e-01,  1.53890257e+00,\n",
              "        -1.34303174e+00,  8.02823556e-01,  2.28435924e-01, -1.73714097e+00,\n",
              "         3.87458426e-01,  1.86780224e-01,  9.54376292e-01,  1.35486532e+00,\n",
              "         6.53394308e-01, -1.37597620e+00, -4.85968229e-01,  9.85899779e-01,\n",
              "        -7.29879997e-01, -1.11836716e-01,  7.55823134e-01,  1.40413128e+00,\n",
              "         2.57560056e-02, -7.57526877e-03, -8.11329880e-01,  1.39806093e+00,\n",
              "        -1.21801511e+00, -1.37597620e+00, -1.08085196e+00, -4.24738021e-01,\n",
              "        -1.47371279e+00,  4.14971640e-01, -2.40778404e-01, -1.28104385e+00,\n",
              "         1.27744090e+00, -5.36078907e-01,  1.04960385e+00,  9.42697031e-01,\n",
              "         3.48205465e-01, -1.19359320e+00, -1.54993781e+00, -8.48777450e-01,\n",
              "         1.43580093e+00, -1.39140608e+00,  7.75095020e-01, -1.15692643e+00,\n",
              "         1.00274723e+00, -8.11329880e-01, -1.73154424e+00,  1.14462928e+00,\n",
              "        -3.64648966e-01, -5.85435504e-01,  1.40749270e+00, -3.80903463e-02,\n",
              "        -1.04969386e+00,  5.17837754e-01,  4.15214402e-01, -8.48777450e-01,\n",
              "        -9.18503310e-01, -3.80903463e-02,  1.52408356e+00, -1.19359320e+00,\n",
              "        -1.63869730e-01,  1.21300931e+00,  1.30533553e+00, -1.33059033e+00,\n",
              "        -9.95921302e-01,  8.32545402e-01,  1.31922113e+00,  2.86994127e-01,\n",
              "         1.30533553e+00,  3.48205465e-01, -4.11611269e-01, -4.85968229e-01,\n",
              "        -1.73154424e+00,  1.03957183e+00, -1.05931124e+00, -4.43399369e-01,\n",
              "        -1.39140608e+00,  9.76066844e-01, -1.47371279e+00,  3.45865811e-01,\n",
              "         1.14462928e+00,  4.15532911e-01, -1.84343478e-01, -1.47371279e+00,\n",
              "        -1.34303174e+00,  4.67863442e-01,  1.00115933e+00, -1.35067387e+00,\n",
              "        -8.97892654e-01, -1.34303174e+00,  9.41640484e-01,  1.36953727e-01,\n",
              "        -5.15772181e-01, -8.97892654e-01,  1.00228507e+00, -1.19359320e+00,\n",
              "        -3.63319004e-01,  7.81700467e-01, -3.80903463e-02,  5.88584223e-01,\n",
              "        -7.50119090e-01, -5.36078907e-01, -1.27266268e+00, -2.75107593e-01,\n",
              "        -1.40535774e+00, -3.63319004e-01,  1.40749270e+00, -5.29177237e-01,\n",
              "         1.22075701e+00, -1.33059033e+00, -9.45249641e-01,  7.55823134e-01,\n",
              "         1.37191625e+00, -1.19359320e+00,  4.15532911e-01, -2.99187881e-01,\n",
              "         4.14971640e-01,  1.39806093e+00,  5.73986455e-01, -1.57358463e+00,\n",
              "        -1.20787928e+00, -1.62776348e+00, -3.80903463e-02, -5.59763052e-01,\n",
              "        -8.48777450e-01, -1.28104385e+00,  1.04960385e+00,  9.85899779e-01,\n",
              "        -7.50119090e-01, -1.84343478e-01,  7.55823134e-01,  1.11307902e+00,\n",
              "         4.15532911e-01, -5.29003566e-01,  8.02823556e-01,  9.07524131e-01,\n",
              "        -1.17697967e+00,  6.60064797e-01, -1.40535774e+00,  1.34835784e+00,\n",
              "        -7.01969147e-01,  1.40749270e+00,  3.48205465e-01, -5.85435504e-01,\n",
              "        -1.53175495e+00,  1.00228507e+00,  1.00115933e+00,  3.87458426e-01,\n",
              "        -7.50119090e-01,  4.62796449e-01, -2.40778404e-01,  4.12048306e-01,\n",
              "        -1.34303174e+00,  1.00274723e+00,  1.39226705e-01,  6.53394308e-01]))"
            ]
          },
          "metadata": {},
          "execution_count": 176
        }
      ]
    },
    {
      "cell_type": "code",
      "metadata": {
        "colab": {
          "base_uri": "https://localhost:8080/"
        },
        "id": "A3qcsbbzPfRG",
        "outputId": "d732be12-0cc5-4676-c076-a8eac6228e57"
      },
      "source": [
        "for j in range(m):\n",
        "  print(mosaic_list_of_images[0][j])\n",
        "  "
      ],
      "execution_count": 177,
      "outputs": [
        {
          "output_type": "stream",
          "name": "stdout",
          "text": [
            "1.4358009314866034\n",
            "0.13695372724012772\n",
            "-0.4252275951078302\n",
            "-0.9185033095974854\n",
            "-0.12909750858981067\n",
            "-1.7315442430857817\n",
            "0.7558231343879587\n",
            "0.6640638025673503\n",
            "-0.15416630449113\n",
            "0.832545401567119\n",
            "1.3192211298342615\n",
            "-0.411611268813296\n",
            "0.7558231343879587\n",
            "-0.15416630449113\n",
            "-0.9048783650832936\n",
            "0.2655196567190298\n",
            "1.4173461573148838\n",
            "-1.3506738707130648\n",
            "-0.9185033095974854\n",
            "-0.8487774501542434\n",
            "0.41497163990658553\n",
            "0.22843592432187756\n",
            "0.4120483059558463\n",
            "1.039571830882509\n",
            "-0.42473802055748705\n",
            "-1.7449385946476759\n",
            "-1.7449385946476759\n",
            "-1.4306962812399096\n",
            "-0.2991878808509575\n",
            "-0.9185033095974854\n",
            "-1.4652385079352608\n",
            "-0.2991878808509575\n",
            "0.7183782579402468\n",
            "-1.3759761997330582\n",
            "0.6533943080642937\n",
            "0.345865811484694\n",
            "1.6201484942286413\n",
            "0.34820546484848275\n",
            "0.34820546484848275\n",
            "-0.24077840436878184\n",
            "0.7817004669153338\n",
            "-0.529177237043516\n",
            "1.397998025695915\n",
            "0.22843592432187756\n",
            "-1.2078792839203505\n",
            "1.0496038541198456\n",
            "-1.1569264275370823\n",
            "-10.780503085215361\n",
            "-1.5499378105140722\n",
            "-0.992671849313759\n",
            "1.0027472329330642\n",
            "-1.573584632766583\n",
            "1.5012761831023353\n",
            "-0.5157721805614179\n",
            "-1.2810438533218755\n",
            "-0.3647486544408019\n",
            "0.4120483059558463\n",
            "-0.038090346259590985\n",
            "0.34820546484848275\n",
            "-1.4306962812399096\n",
            "1.039571830882509\n",
            "-0.24077840436878184\n",
            "0.832545401567119\n",
            "0.9760668439559996\n",
            "-0.8978926538361668\n",
            "1.1446292841441261\n",
            "0.38745842607626113\n",
            "-0.70196914745493\n",
            "-1.4652385079352608\n",
            "-0.9959213015328963\n",
            "-0.7298799970913634\n",
            "1.4470291398063106\n",
            "-1.660679504426819\n",
            "-0.8487774501542434\n",
            "-0.03466237152640819\n",
            "-1.5317549497195035\n",
            "1.4358009314866034\n",
            "1.3923668338722077\n",
            "0.9719187406356335\n",
            "-0.1118367162703567\n",
            "-1.0593112442151893\n",
            "-0.8024104318571436\n",
            "1.0011593284257532\n",
            "-0.363319004172012\n",
            "1.3053355316930382\n",
            "-1.7315442430857817\n",
            "0.06747312638794169\n",
            "0.9719187406356335\n",
            "-1.6277634830710428\n",
            "-0.9959213015328963\n",
            "0.907524130895722\n",
            "-1.1569264275370823\n",
            "-0.36464896647758427\n",
            "-1.272662683896807\n",
            "-1.4652385079352608\n",
            "-0.363319004172012\n",
            "-0.5854355038893796\n",
            "0.6533943080642937\n",
            "-1.0496938597364855\n",
            "-1.4652385079352608\n",
            "-0.03466237152640819\n",
            "0.9324306003807514\n",
            "0.9760668439559996\n",
            "0.907524130895722\n",
            "-0.3854535468599667\n",
            "-0.9452496411517143\n",
            "0.4120483059558463\n",
            "-0.8487774501542434\n",
            "1.4747135972927596\n",
            "-1.0808519586324388\n",
            "0.4499833637821108\n",
            "0.3230925845697044\n",
            "1.3192211298342615\n",
            "-1.7315442430857817\n",
            "1.0496947054642105\n",
            "1.2774408980197915\n",
            "-1.0496938597364855\n",
            "1.4074927036417388\n",
            "-0.3647486544408019\n",
            "-0.8395236381868343\n",
            "0.6600647973906256\n",
            "0.9930435774566333\n",
            "-0.2991878808509575\n",
            "0.34820546484848275\n",
            "-0.529177237043516\n",
            "-0.3972937951880947\n",
            "-1.1569264275370823\n",
            "0.41497163990658553\n",
            "1.4173461573148838\n",
            "1.404131276723479\n",
            "-0.48596822928314454\n",
            "0.4678634415173758\n",
            "-0.8395236381868343\n",
            "-1.391406079093982\n",
            "1.0011593284257532\n",
            "0.588584223030855\n",
            "1.5389025682085709\n",
            "-0.36464896647758427\n",
            "-0.758940247008594\n",
            "-1.3506738707130648\n",
            "-0.3972937951880947\n",
            "-0.8024104318571436\n",
            "-1.3506738707130648\n",
            "-1.620717323627289\n",
            "0.13695372724012772\n",
            "1.348357839804765\n",
            "0.4499833637821108\n",
            "1.371916253051332\n",
            "0.9858997788405828\n",
            "-1.0818298278085032\n",
            "1.2774408980197915\n",
            "0.9760668439559996\n",
            "-0.1843434778477586\n",
            "-1.5721297979884876\n",
            "1.379398681396218\n",
            "0.8312237532196014\n",
            "-0.521621676475422\n",
            "-1.272662683896807\n",
            "1.2861576669133736\n",
            "0.2655196567190298\n",
            "0.9760668439559996\n",
            "-0.5290035660358465\n",
            "1.4358009314866034\n",
            "-1.1935931998008302\n",
            "-1.47371278630514\n",
            "1.4074927036417388\n",
            "-1.4426403386796098\n",
            "0.9760668439559996\n",
            "0.6640638025673503\n",
            "0.7183782579402468\n",
            "1.5389025682085709\n",
            "1.002285072401912\n",
            "0.8312237532196014\n",
            "0.22843592432187756\n",
            "0.3230925845697044\n",
            "1.2130093073898924\n",
            "-0.758940247008594\n",
            "-0.3647486544408019\n",
            "1.5240835625729838\n",
            "-1.6277634830710428\n",
            "0.286994126800434\n",
            "-0.5290035660358465\n",
            "-1.022987706680747\n",
            "0.4678634415173758\n",
            "-0.48596822928314454\n",
            "0.13695372724012772\n",
            "-1.391406079093982\n",
            "1.5012761831023353\n",
            "-1.0496938597364855\n",
            "-0.2991878808509575\n",
            "-0.3647486544408019\n",
            "1.4074927036417388\n",
            "-0.5854355038893796\n",
            "0.4678634415173758\n",
            "-0.5951166186019476\n",
            "1.5240835625729838\n",
            "-0.8395236381868343\n",
            "1.5517123555259094\n",
            "-1.3759761997330582\n",
            "-0.24077840436878184\n",
            "0.6600647973906256\n",
            "-0.8487774501542434\n",
            "-0.42473802055748705\n",
            "0.13695372724012772\n",
            "1.5012761831023353\n",
            "-0.411611268813296\n",
            "0.9426970310457449\n",
            "1.113079017699489\n",
            "0.3230925845697044\n",
            "-1.3759761997330582\n",
            "-0.9959213015328963\n",
            "-1.4053577438062967\n",
            "0.9416404843151556\n",
            "-1.391406079093982\n",
            "0.7183782579402468\n",
            "-0.9185033095974854\n",
            "-0.5854355038893796\n",
            "1.5517123555259094\n",
            "1.348357839804765\n",
            "1.3923668338722077\n",
            "1.3980609289745154\n",
            "-1.022987706680747\n",
            "1.6201484942286413\n",
            "0.06747312638794169\n",
            "-0.15416630449113\n",
            "-0.20140902027738322\n",
            "0.7817004669153338\n",
            "-1.7315442430857817\n",
            "-0.363319004172012\n",
            "1.6201484942286413\n",
            "0.7750950204862487\n",
            "0.9930435774566333\n",
            "-0.2751075925449926\n",
            "0.286994126800434\n",
            "-0.36464896647758427\n",
            "1.5012761831023353\n",
            "-1.5499378105140722\n",
            "-0.038090346259590985\n",
            "0.022518769497317636\n",
            "-1.7315442430857817\n",
            "0.2655196567190298\n",
            "0.13695372724012772\n",
            "-0.4252275951078302\n",
            "1.5012761831023353\n",
            "0.6533943080642937\n",
            "1.404131276723479\n",
            "-0.42473802055748705\n",
            "-0.20140902027738322\n",
            "-1.0567665016598924\n",
            "1.397998025695915\n",
            "-0.8978926538361668\n",
            "-0.8395236381868343\n",
            "-1.0593112442151893\n",
            "-1.2180151098798444\n",
            "0.832545401567119\n",
            "-1.022987706680747\n",
            "1.4358009314866034\n",
            "0.13922670483020524\n",
            "1.5240835625729838\n",
            "-0.038090346259590985\n",
            "1.3923668338722077\n",
            "-0.411611268813296\n",
            "1.2006157359973084\n",
            "-0.750119089815876\n",
            "-0.5597630517499854\n",
            "1.2130093073898924\n",
            "0.2703464767968643\n",
            "-1.0496938597364855\n",
            "-1.1935931998008302\n",
            "0.3230925845697044\n",
            "-1.6277634830710428\n",
            "-1.272662683896807\n",
            "1.2207570119072646\n",
            "1.113079017699489\n",
            "0.345865811484694\n",
            "1.0496038541198456\n",
            "0.34820546484848275\n",
            "0.5178377536532937\n",
            "1.379398681396218\n",
            "1.0854412658327703\n",
            "1.0011593284257532\n",
            "-0.48596822928314454\n",
            "0.022518769497317636\n",
            "0.6600647973906256\n",
            "-0.2751075925449926\n",
            "-0.038090346259590985\n",
            "-1.6277634830710428\n",
            "-0.9452496411517143\n",
            "0.7558231343879587\n",
            "-1.4426403386796098\n",
            "-1.7449385946476759\n",
            "-1.3506738707130648\n",
            "0.7558231343879587\n",
            "1.5389025682085709\n",
            "1.3192211298342615\n",
            "-0.9048783650832936\n",
            "-1.5499378105140722\n",
            "0.022518769497317636\n",
            "1.0347594281804582\n",
            "0.2655196567190298\n",
            "-0.2991878808509575\n",
            "0.4499833637821108\n",
            "0.345865811484694\n",
            "-0.8113298803115528\n",
            "1.1446292841441261\n",
            "0.802823555571603\n",
            "0.06313378004233078\n",
            "-1.1935931998008302\n",
            "-1.3430317372919434\n",
            "1.348357839804765\n",
            "-1.5317549497195035\n",
            "-0.9226945189223152\n",
            "-0.363319004172012\n",
            "-0.2751075925449926\n",
            "-1.0818298278085032\n",
            "0.9858997788405828\n",
            "0.2703464767968643\n",
            "0.41553291149982463\n",
            "-1.3305903317891132\n",
            "-1.3642904225282908\n",
            "0.6600647973906256\n",
            "1.0496038541198456\n",
            "1.2130093073898924\n",
            "1.4358009314866034\n",
            "1.6201484942286413\n",
            "0.6600647973906256\n",
            "-0.750119089815876\n",
            "1.3192211298342615\n",
            "1.2740808648002295\n",
            "1.2130093073898924\n",
            "0.7558231343879587\n",
            "0.6640638025673503\n",
            "-0.24077840436878184\n",
            "0.9719187406356335\n",
            "1.0011593284257532\n",
            "0.573986455370021\n",
            "0.9930435774566333\n",
            "-1.620717323627289\n",
            "-0.5977399954857865\n",
            "1.3192211298342615\n",
            "1.0854412658327703\n",
            "-1.022987706680747\n",
            "1.5389025682085709\n",
            "0.9760668439559996\n",
            "0.6640638025673503\n",
            "-0.529177237043516\n",
            "-0.2751075925449926\n",
            "1.5389025682085709\n",
            "-1.3430317372919434\n",
            "0.802823555571603\n",
            "0.22843592432187756\n",
            "-1.7371409717979958\n",
            "0.38745842607626113\n",
            "0.18678022412344694\n",
            "0.9543762923047991\n",
            "1.3548653158077064\n",
            "0.6533943080642937\n",
            "-1.3759761997330582\n",
            "-0.48596822928314454\n",
            "0.9858997788405828\n",
            "-0.7298799970913634\n",
            "-0.1118367162703567\n",
            "0.7558231343879587\n",
            "1.404131276723479\n",
            "0.025756005624878228\n",
            "-0.0075752687656571\n",
            "-0.8113298803115528\n",
            "1.3980609289745154\n",
            "-1.2180151098798444\n",
            "-1.3759761997330582\n",
            "-1.0808519586324388\n",
            "-0.42473802055748705\n",
            "-1.47371278630514\n",
            "0.41497163990658553\n",
            "-0.24077840436878184\n",
            "-1.2810438533218755\n",
            "1.2774408980197915\n",
            "-0.5360789066374285\n",
            "1.0496038541198456\n",
            "0.9426970310457449\n",
            "0.34820546484848275\n",
            "-1.1935931998008302\n",
            "-1.5499378105140722\n",
            "-0.8487774501542434\n",
            "1.4358009314866034\n",
            "-1.391406079093982\n",
            "0.7750950204862487\n",
            "-1.1569264275370823\n",
            "1.0027472329330642\n",
            "-0.8113298803115528\n",
            "-1.7315442430857817\n",
            "1.1446292841441261\n",
            "-0.36464896647758427\n",
            "-0.5854355038893796\n",
            "1.4074927036417388\n",
            "-0.038090346259590985\n",
            "-1.0496938597364855\n",
            "0.5178377536532937\n",
            "0.4152144020644532\n",
            "-0.8487774501542434\n",
            "-0.9185033095974854\n",
            "-0.038090346259590985\n",
            "1.5240835625729838\n",
            "-1.1935931998008302\n",
            "-0.16386973004031988\n",
            "1.2130093073898924\n",
            "1.3053355316930382\n",
            "-1.3305903317891132\n",
            "-0.9959213015328963\n",
            "0.832545401567119\n",
            "1.3192211298342615\n",
            "0.286994126800434\n",
            "1.3053355316930382\n",
            "0.34820546484848275\n",
            "-0.411611268813296\n",
            "-0.48596822928314454\n",
            "-1.7315442430857817\n",
            "1.039571830882509\n",
            "-1.0593112442151893\n",
            "-0.44339936895615445\n",
            "-1.391406079093982\n",
            "0.9760668439559996\n",
            "-1.47371278630514\n",
            "0.345865811484694\n",
            "1.1446292841441261\n",
            "0.41553291149982463\n",
            "-0.1843434778477586\n",
            "-1.47371278630514\n",
            "-1.3430317372919434\n",
            "0.4678634415173758\n",
            "1.0011593284257532\n",
            "-1.3506738707130648\n",
            "-0.8978926538361668\n",
            "-1.3430317372919434\n",
            "0.9416404843151556\n",
            "0.13695372724012772\n",
            "-0.5157721805614179\n",
            "-0.8978926538361668\n",
            "1.002285072401912\n",
            "-1.1935931998008302\n",
            "-0.363319004172012\n",
            "0.7817004669153338\n",
            "-0.038090346259590985\n",
            "0.588584223030855\n",
            "-0.750119089815876\n",
            "-0.5360789066374285\n",
            "-1.272662683896807\n",
            "-0.2751075925449926\n",
            "-1.4053577438062967\n",
            "-0.363319004172012\n",
            "1.4074927036417388\n",
            "-0.529177237043516\n",
            "1.2207570119072646\n",
            "-1.3305903317891132\n",
            "-0.9452496411517143\n",
            "0.7558231343879587\n",
            "1.371916253051332\n",
            "-1.1935931998008302\n",
            "0.41553291149982463\n",
            "-0.2991878808509575\n",
            "0.41497163990658553\n",
            "1.3980609289745154\n",
            "0.573986455370021\n",
            "-1.573584632766583\n",
            "-1.2078792839203505\n",
            "-1.6277634830710428\n",
            "-0.038090346259590985\n",
            "-0.5597630517499854\n",
            "-0.8487774501542434\n",
            "-1.2810438533218755\n",
            "1.0496038541198456\n",
            "0.9858997788405828\n",
            "-0.750119089815876\n",
            "-0.1843434778477586\n",
            "0.7558231343879587\n",
            "1.113079017699489\n",
            "0.41553291149982463\n",
            "-0.5290035660358465\n",
            "0.802823555571603\n",
            "0.907524130895722\n",
            "-1.1769796709952587\n",
            "0.6600647973906256\n",
            "-1.4053577438062967\n",
            "1.348357839804765\n",
            "-0.70196914745493\n",
            "1.4074927036417388\n",
            "0.34820546484848275\n",
            "-0.5854355038893796\n",
            "-1.5317549497195035\n",
            "1.002285072401912\n",
            "1.0011593284257532\n",
            "0.38745842607626113\n",
            "-0.750119089815876\n",
            "0.46279644934090736\n",
            "-0.24077840436878184\n",
            "0.4120483059558463\n",
            "-1.3430317372919434\n",
            "1.0027472329330642\n",
            "0.13922670483020524\n",
            "0.6533943080642937\n"
          ]
        }
      ]
    },
    {
      "cell_type": "code",
      "metadata": {
        "id": "iPoIwbMHx44n"
      },
      "source": [
        "def create_avg_image_from_mosaic_dataset(mosaic_dataset,labels,foreground_index,dataset_number, m):\n",
        "  \"\"\"\n",
        "  mosaic_dataset : mosaic_dataset contains 9 images 32 x 32 each as 1 data point\n",
        "  labels : mosaic_dataset labels\n",
        "  foreground_index : contains list of indexes where foreground image is present so that using this we can take weighted average\n",
        "  dataset_number : will help us to tell what ratio of foreground image to be taken. for eg: if it is \"j\" then fg_image_ratio = j/9 , bg_image_ratio = (9-j)/8*9\n",
        "  \"\"\"\n",
        "  avg_image_dataset = []\n",
        "  cnt = 0\n",
        "  counter = np.zeros(m)\n",
        "  for i in range(len(mosaic_dataset)):\n",
        "    img = torch.zeros([1], dtype=torch.float64)\n",
        "    np.random.seed(int(dataset_number*10000 + i))\n",
        "    give_pref = foreground_index[i] #np.random.randint(0,9)\n",
        "    # print(\"outside\", give_pref,foreground_index[i])\n",
        "    for j in range(m):\n",
        "      if j == give_pref:\n",
        "        img = img + mosaic_dataset[i][j]*dataset_number/m   #2 is data dim\n",
        "      else :\n",
        "        img = img + mosaic_dataset[i][j]*(m-dataset_number)/((m-1)*m)\n",
        "\n",
        "    if give_pref == foreground_index[i] :\n",
        "      # print(\"equal are\", give_pref,foreground_index[i])\n",
        "      cnt += 1\n",
        "      counter[give_pref] += 1\n",
        "    else :\n",
        "      counter[give_pref] += 1\n",
        "\n",
        "    avg_image_dataset.append(img)\n",
        "\n",
        "  print(\"number of correct averaging happened for dataset \"+str(dataset_number)+\" is \"+str(cnt)) \n",
        "  print(\"the averaging are done as \", counter) \n",
        "  return avg_image_dataset , labels , foreground_index\n",
        "        \n",
        "  "
      ],
      "execution_count": 178,
      "outputs": []
    },
    {
      "cell_type": "code",
      "metadata": {
        "colab": {
          "base_uri": "https://localhost:8080/"
        },
        "id": "5sEE5AxhSFsf",
        "outputId": "ae1a778c-922d-477b-887a-73851fc1be6b"
      },
      "source": [
        "avg_image_dataset_1 , labels_1,  fg_index_1 = create_avg_image_from_mosaic_dataset(mosaic_list_of_images[0:tr_j], mosaic_label[0:tr_j], fore_idx[0:tr_j] , 1, m)\n",
        "\n",
        "\n",
        "test_dataset , labels , fg_index = create_avg_image_from_mosaic_dataset(mosaic_list_of_images[tr_j : tr_k], mosaic_label[tr_j : tr_k], fore_idx[tr_j : tr_k] , m, m)"
      ],
      "execution_count": 179,
      "outputs": [
        {
          "output_type": "stream",
          "name": "stdout",
          "text": [
            "number of correct averaging happened for dataset 1 is 1000\n",
            "the averaging are done as  [1. 3. 2. 2. 2. 4. 2. 1. 0. 1. 0. 2. 3. 0. 0. 2. 7. 2. 4. 1. 1. 0. 1. 3.\n",
            " 3. 2. 3. 0. 5. 0. 2. 3. 2. 3. 3. 2. 0. 2. 1. 3. 1. 1. 3. 1. 0. 1. 1. 4.\n",
            " 1. 4. 2. 3. 0. 1. 2. 1. 3. 1. 4. 0. 2. 2. 2. 0. 0. 2. 2. 0. 3. 1. 4. 2.\n",
            " 2. 4. 2. 0. 2. 4. 1. 0. 3. 2. 1. 5. 1. 0. 4. 2. 0. 3. 1. 1. 3. 0. 4. 3.\n",
            " 0. 4. 1. 2. 1. 3. 1. 3. 2. 3. 5. 2. 2. 4. 4. 2. 2. 1. 2. 2. 4. 4. 1. 2.\n",
            " 3. 1. 1. 1. 4. 5. 2. 1. 5. 1. 1. 2. 2. 1. 3. 0. 2. 1. 1. 1. 0. 1. 2. 2.\n",
            " 3. 1. 3. 2. 3. 1. 1. 3. 2. 4. 3. 2. 4. 2. 1. 4. 2. 0. 0. 1. 1. 0. 4. 1.\n",
            " 2. 4. 1. 0. 2. 1. 4. 0. 6. 2. 3. 2. 3. 2. 5. 2. 3. 3. 2. 3. 3. 7. 2. 1.\n",
            " 2. 4. 2. 2. 4. 2. 3. 2. 0. 3. 2. 3. 4. 1. 3. 3. 2. 1. 3. 1. 3. 3. 4. 4.\n",
            " 2. 0. 4. 1. 5. 2. 3. 4. 1. 1. 1. 1. 1. 0. 4. 3. 5. 2. 3. 2. 2. 3. 2. 2.\n",
            " 3. 5. 0. 1. 1. 3. 1. 1. 1. 1. 1. 1. 5. 0. 2. 3. 3. 0. 2. 2. 1. 1. 5. 3.\n",
            " 2. 2. 3. 1. 4. 0. 2. 1. 2. 3. 3. 4. 0. 2. 5. 3. 1. 2. 2. 3. 1. 3. 4. 2.\n",
            " 2. 4. 1. 2. 1. 0. 1. 3. 1. 3. 1. 3. 1. 1. 3. 1. 1. 1. 1. 1. 2. 4. 1. 0.\n",
            " 2. 4. 4. 1. 3. 2. 5. 1. 4. 2. 4. 1. 0. 2. 3. 3. 4. 1. 1. 6. 1. 3. 1. 2.\n",
            " 1. 0. 5. 1. 3. 1. 2. 0. 3. 2. 2. 2. 2. 3. 0. 2. 3. 2. 2. 0. 0. 5. 2. 1.\n",
            " 1. 1. 3. 3. 2. 1. 1. 1. 2. 3. 0. 4. 0. 1. 4. 0. 1. 2. 1. 1. 2. 1. 3. 2.\n",
            " 0. 2. 3. 3. 1. 3. 1. 3. 2. 3. 1. 3. 4. 1. 2. 2. 1. 2. 1. 0. 2. 1. 0. 3.\n",
            " 2. 0. 5. 1. 2. 2. 3. 5. 1. 2. 2. 5. 0. 3. 1. 0. 2. 0. 1. 3. 2. 3. 3. 1.\n",
            " 3. 1. 2. 1. 4. 0. 1. 3. 1. 1. 3. 2. 3. 3. 2. 1. 0. 1. 3. 1. 3. 3. 3. 3.\n",
            " 1. 0. 1. 2. 0. 0. 2. 1. 5. 2. 1. 2. 0. 2. 2. 2. 1. 2. 5. 2. 2. 1. 2. 1.\n",
            " 3. 1. 1. 1. 1. 1. 2. 3. 0. 1. 1. 2. 4. 2. 1. 1. 3. 0. 2. 0.]\n",
            "number of correct averaging happened for dataset 500 is 1000\n",
            "the averaging are done as  [2. 1. 1. 0. 1. 1. 1. 5. 3. 0. 1. 1. 3. 4. 3. 1. 1. 2. 2. 2. 0. 3. 6. 2.\n",
            " 1. 1. 0. 2. 1. 1. 5. 0. 1. 1. 3. 3. 0. 1. 2. 2. 4. 3. 0. 0. 3. 1. 2. 1.\n",
            " 2. 0. 2. 4. 1. 2. 3. 5. 2. 1. 2. 1. 1. 2. 2. 4. 2. 2. 8. 0. 0. 4. 4. 0.\n",
            " 1. 3. 1. 1. 0. 2. 5. 3. 5. 1. 1. 1. 4. 3. 2. 3. 1. 0. 3. 1. 2. 2. 1. 1.\n",
            " 1. 2. 2. 5. 2. 2. 5. 3. 2. 3. 1. 2. 1. 0. 3. 3. 1. 2. 3. 1. 1. 4. 1. 3.\n",
            " 3. 4. 0. 1. 3. 1. 1. 2. 3. 0. 2. 1. 1. 0. 1. 1. 1. 1. 0. 4. 2. 0. 0. 4.\n",
            " 2. 5. 1. 4. 0. 2. 3. 3. 2. 2. 4. 1. 5. 1. 3. 1. 3. 3. 3. 2. 1. 1. 1. 3.\n",
            " 3. 4. 3. 1. 1. 2. 1. 1. 1. 4. 4. 2. 2. 1. 1. 3. 1. 4. 1. 3. 0. 5. 1. 1.\n",
            " 1. 3. 2. 1. 3. 1. 3. 2. 3. 2. 2. 1. 3. 1. 1. 1. 1. 3. 1. 2. 3. 1. 1. 3.\n",
            " 0. 3. 3. 2. 0. 0. 2. 3. 1. 2. 4. 3. 2. 0. 1. 3. 2. 2. 0. 5. 2. 3. 2. 4.\n",
            " 2. 1. 1. 3. 2. 4. 4. 1. 2. 3. 0. 2. 0. 4. 5. 2. 3. 5. 1. 4. 3. 2. 2. 4.\n",
            " 0. 4. 1. 0. 1. 0. 2. 3. 4. 3. 0. 7. 1. 5. 0. 2. 5. 0. 3. 4. 3. 1. 2. 0.\n",
            " 2. 1. 3. 2. 3. 3. 1. 1. 3. 1. 0. 5. 4. 1. 1. 4. 2. 1. 0. 3. 2. 3. 1. 2.\n",
            " 4. 2. 1. 1. 0. 0. 3. 4. 2. 3. 2. 0. 1. 0. 1. 2. 2. 1. 2. 2. 3. 1. 1. 2.\n",
            " 3. 1. 0. 2. 1. 2. 1. 3. 1. 1. 1. 0. 2. 3. 5. 1. 2. 3. 2. 6. 1. 3. 3. 6.\n",
            " 3. 2. 5. 4. 1. 0. 1. 2. 3. 3. 3. 1. 0. 0. 1. 1. 1. 3. 2. 2. 3. 3. 2. 0.\n",
            " 4. 2. 2. 2. 1. 0. 4. 0. 2. 3. 2. 3. 1. 0. 3. 5. 2. 3. 3. 1. 4. 1. 1. 1.\n",
            " 3. 3. 1. 2. 3. 2. 4. 0. 2. 2. 4. 3. 1. 2. 1. 5. 0. 0. 2. 2. 1. 0. 2. 1.\n",
            " 0. 2. 1. 1. 1. 2. 3. 2. 1. 4. 5. 1. 6. 0. 1. 3. 5. 5. 1. 1. 2. 0. 2. 3.\n",
            " 4. 1. 1. 1. 0. 1. 3. 2. 3. 3. 0. 1. 1. 0. 3. 1. 2. 3. 0. 2. 1. 2. 0. 3.\n",
            " 1. 2. 2. 4. 1. 1. 1. 1. 2. 2. 3. 2. 1. 4. 3. 5. 1. 1. 3. 1.]\n"
          ]
        }
      ]
    },
    {
      "cell_type": "code",
      "metadata": {
        "id": "0dYXnywAD-4l"
      },
      "source": [
        "avg_image_dataset_1 = torch.stack(avg_image_dataset_1, axis = 0)\n",
        "\n",
        "# mean = torch.mean(avg_image_dataset_1, keepdims= True, axis = 0)\n",
        "# std = torch.std(avg_image_dataset_1, keepdims= True, axis = 0)\n",
        "\n",
        "# avg_image_dataset_1 = (avg_image_dataset_1 - mean) / std \n",
        "\n",
        "# print(torch.mean(avg_image_dataset_1, keepdims= True, axis = 0))\n",
        "# print(torch.std(avg_image_dataset_1, keepdims= True, axis = 0))\n",
        "# print(\"==\"*40)\n",
        "\n",
        "\n",
        "test_dataset = torch.stack(test_dataset, axis = 0)\n",
        "# mean = torch.mean(test_dataset, keepdims= True, axis = 0)\n",
        "# std = torch.std(test_dataset, keepdims= True, axis = 0)\n",
        "# test_dataset = (test_dataset - mean) / std\n",
        "\n",
        "# print(torch.mean(test_dataset, keepdims= True, axis = 0))\n",
        "# print(torch.std(test_dataset, keepdims= True, axis = 0))\n",
        "# print(\"==\"*40)\n"
      ],
      "execution_count": 180,
      "outputs": []
    },
    {
      "cell_type": "code",
      "metadata": {
        "colab": {
          "base_uri": "https://localhost:8080/",
          "height": 299
        },
        "id": "bT9-kEI7NAnR",
        "outputId": "62cb5348-f555-4fe1-a77c-a91b9ccacb27"
      },
      "source": [
        "x1 = (avg_image_dataset_1).numpy()\n",
        "y1 = np.array(labels_1)\n",
        "\n",
        "# idx1 = []\n",
        "# for i in range(3):\n",
        "#   idx1.append(y1 == i)\n",
        "\n",
        "# for i in range(3):\n",
        "#     z = np.zeros(x1[idx1[i]].shape[0])\n",
        "#     plt.scatter(x1[idx1[i]],z,label=\"class_\"+str(i))\n",
        "# plt.legend()\n",
        "\n",
        "plt.scatter(x1[y1==0], y1[y1==0]*0, label='class 0')\n",
        "plt.scatter(x1[y1==1], y1[y1==1]*0, label='class 1')\n",
        "# plt.scatter(x1[y1==2], y1[y1==2]*0, label='class 2')\n",
        "plt.legend()\n",
        "plt.title(\"dataset1 CIN with alpha = 1/\"+str(m))"
      ],
      "execution_count": 181,
      "outputs": [
        {
          "output_type": "execute_result",
          "data": {
            "text/plain": [
              "Text(0.5, 1.0, 'dataset1 CIN with alpha = 1/500')"
            ]
          },
          "metadata": {},
          "execution_count": 181
        },
        {
          "output_type": "display_data",
          "data": {
            "image/png": "[encoded data removed]",
            "text/plain": [
              "<Figure size 432x288 with 1 Axes>"
            ]
          },
          "metadata": {
            "needs_background": "light"
          }
        }
      ]
    },
    {
      "cell_type": "code",
      "metadata": {
        "colab": {
          "base_uri": "https://localhost:8080/",
          "height": 305
        },
        "id": "DWQydhG9jg1I",
        "outputId": "c4222aef-edde-4273-9d74-5fa0cf28a8c2"
      },
      "source": [
        "x1 = (avg_image_dataset_1).numpy()\n",
        "y1 = np.array(labels_1)\n",
        "\n",
        "idx_1 = y1==0\n",
        "idx_2 = np.where(idx_1==True)[0]\n",
        "idx_3 = np.where(idx_1==False)[0]\n",
        "color = ['#1F77B4','orange', 'brown']\n",
        "\n",
        "true_point = len(idx_2)\n",
        "plt.scatter(x1[idx_2[:25]], y1[idx_2[:25]]*0, label='class 0', c= color[0], marker='o')\n",
        "plt.scatter(x1[idx_3[:25]], y1[idx_3[:25]]*0, label='class 1', c= color[1], marker='o')\n",
        "\n",
        "plt.scatter(x1[idx_3[50:75]], y1[idx_3[50:75]]*0,  c= color[1], marker='o')\n",
        "plt.scatter(x1[idx_2[50:75]], y1[idx_2[50:75]]*0,  c= color[0], marker='o')\n",
        "\n",
        "\n",
        "plt.legend()\n",
        "plt.xticks( fontsize=14, fontweight = 'bold')\n",
        "plt.yticks( fontsize=14, fontweight = 'bold')\n",
        "plt.xlabel(\"X\", fontsize=14, fontweight = 'bold')\n",
        "# plt.savefig(fp_cin+\"ds1_alpha_04.png\", bbox_inches=\"tight\")\n",
        "# plt.savefig(fp_cin+\"ds1_alpha_04.pdf\", bbox_inches=\"tight\")"
      ],
      "execution_count": 182,
      "outputs": [
        {
          "output_type": "execute_result",
          "data": {
            "text/plain": [
              "Text(0.5, 0, 'X')"
            ]
          },
          "metadata": {},
          "execution_count": 182
        },
        {
          "output_type": "display_data",
          "data": {
            "image/png": "[encoded data removed]",
            "text/plain": [
              "<Figure size 432x288 with 1 Axes>"
            ]
          },
          "metadata": {
            "needs_background": "light"
          }
        }
      ]
    },
    {
      "cell_type": "code",
      "metadata": {
        "colab": {
          "base_uri": "https://localhost:8080/"
        },
        "id": "bu5Po7YIiLvN",
        "outputId": "7b4db0d5-1cc0-4956-c0d2-810e8435610c"
      },
      "source": [
        "avg_image_dataset_1[0:10]"
      ],
      "execution_count": 183,
      "outputs": [
        {
          "output_type": "execute_result",
          "data": {
            "text/plain": [
              "tensor([[-0.0209],\n",
              "        [-0.0137],\n",
              "        [-0.0202],\n",
              "        [-0.0834],\n",
              "        [-0.0340],\n",
              "        [ 0.0224],\n",
              "        [-0.0028],\n",
              "        [-0.0190],\n",
              "        [-0.0808],\n",
              "        [-0.0464]], dtype=torch.float64)"
            ]
          },
          "metadata": {},
          "execution_count": 183
        }
      ]
    },
    {
      "cell_type": "code",
      "metadata": {
        "colab": {
          "base_uri": "https://localhost:8080/",
          "height": 299
        },
        "id": "1fhxsxf9384L",
        "outputId": "506cfab0-40f1-46d4-8795-249265066234"
      },
      "source": [
        "x1 = (test_dataset).numpy()/m\n",
        "y1 = np.array(labels)\n",
        "\n",
        "# idx1 = []\n",
        "# for i in range(3):\n",
        "#   idx1.append(y1 == i)\n",
        "\n",
        "# for i in range(3):\n",
        "#     z = np.zeros(x1[idx1[i]].shape[0])\n",
        "#     plt.scatter(x1[idx1[i]],z,label=\"class_\"+str(i))\n",
        "# plt.legend()\n",
        "\n",
        "plt.scatter(x1[y1==0], y1[y1==0]*0, label='class 0')\n",
        "plt.scatter(x1[y1==1], y1[y1==1]*0, label='class 1')\n",
        "# plt.scatter(x1[y1==2], y1[y1==2]*0, label='class 2')\n",
        "plt.legend()\n",
        "plt.title(\"test dataset1 \")"
      ],
      "execution_count": 184,
      "outputs": [
        {
          "output_type": "execute_result",
          "data": {
            "text/plain": [
              "Text(0.5, 1.0, 'test dataset1 ')"
            ]
          },
          "metadata": {},
          "execution_count": 184
        },
        {
          "output_type": "display_data",
          "data": {
            "image/png": "[encoded data removed]",
            "text/plain": [
              "<Figure size 432x288 with 1 Axes>"
            ]
          },
          "metadata": {
            "needs_background": "light"
          }
        }
      ]
    },
    {
      "cell_type": "code",
      "metadata": {
        "colab": {
          "base_uri": "https://localhost:8080/"
        },
        "id": "wa4C_cnogtXE",
        "outputId": "47f77d25-88d4-4c8b-f070-e0bd552b4f10"
      },
      "source": [
        "test_dataset.numpy()[0:10]/m"
      ],
      "execution_count": 185,
      "outputs": [
        {
          "output_type": "execute_result",
          "data": {
            "text/plain": [
              "array([[-0.01255467],\n",
              "       [-0.01393633],\n",
              "       [-0.01667354],\n",
              "       [-0.01346196],\n",
              "       [-0.01845833],\n",
              "       [-0.01630295],\n",
              "       [-0.02257438],\n",
              "       [-0.01875851],\n",
              "       [-0.02375172],\n",
              "       [-0.01382226]])"
            ]
          },
          "metadata": {},
          "execution_count": 185
        }
      ]
    },
    {
      "cell_type": "code",
      "metadata": {
        "id": "3iJoJ0eIhSqz"
      },
      "source": [
        "test_dataset = test_dataset/m"
      ],
      "execution_count": 186,
      "outputs": []
    },
    {
      "cell_type": "code",
      "metadata": {
        "colab": {
          "base_uri": "https://localhost:8080/"
        },
        "id": "nKl8pSEbhVGU",
        "outputId": "1bd44327-3a6a-49cd-ead6-0ce6f0c02494"
      },
      "source": [
        "test_dataset.numpy()[0:10]"
      ],
      "execution_count": 187,
      "outputs": [
        {
          "output_type": "execute_result",
          "data": {
            "text/plain": [
              "array([[-0.01255467],\n",
              "       [-0.01393633],\n",
              "       [-0.01667354],\n",
              "       [-0.01346196],\n",
              "       [-0.01845833],\n",
              "       [-0.01630295],\n",
              "       [-0.02257438],\n",
              "       [-0.01875851],\n",
              "       [-0.02375172],\n",
              "       [-0.01382226]])"
            ]
          },
          "metadata": {},
          "execution_count": 187
        }
      ]
    },
    {
      "cell_type": "code",
      "metadata": {
        "id": "yL0BRf8er0TX"
      },
      "source": [
        "class MosaicDataset(Dataset):\n",
        "  \"\"\"MosaicDataset dataset.\"\"\"\n",
        "\n",
        "  def __init__(self, mosaic_list_of_images, mosaic_label):\n",
        "    \"\"\"\n",
        "      Args:\n",
        "        csv_file (string): Path to the csv file with annotations.\n",
        "        root_dir (string): Directory with all the images.\n",
        "        transform (callable, optional): Optional transform to be applied\n",
        "            on a sample.\n",
        "    \"\"\"\n",
        "    self.mosaic = mosaic_list_of_images\n",
        "    self.label = mosaic_label\n",
        "    #self.fore_idx = fore_idx\n",
        "    \n",
        "  def __len__(self):\n",
        "    return len(self.label)\n",
        "\n",
        "  def __getitem__(self, idx):\n",
        "    return self.mosaic[idx] , self.label[idx] #, self.fore_idx[idx]\n",
        "\n"
      ],
      "execution_count": 188,
      "outputs": []
    },
    {
      "cell_type": "code",
      "metadata": {
        "colab": {
          "base_uri": "https://localhost:8080/"
        },
        "id": "4KsrW9qL9xgS",
        "outputId": "6e309446-14ab-46cb-dec9-0a7b89d1fbbe"
      },
      "source": [
        "avg_image_dataset_1[0].shape, avg_image_dataset_1[0]"
      ],
      "execution_count": 189,
      "outputs": [
        {
          "output_type": "execute_result",
          "data": {
            "text/plain": [
              "(torch.Size([1]), tensor([-0.0209], dtype=torch.float64))"
            ]
          },
          "metadata": {},
          "execution_count": 189
        }
      ]
    },
    {
      "cell_type": "code",
      "metadata": {
        "id": "EY2l62APygaV"
      },
      "source": [
        "batch = 200\n",
        "\n",
        "traindata_1 = MosaicDataset(avg_image_dataset_1, labels_1 )\n",
        "trainloader_1 = DataLoader( traindata_1 , batch_size= batch ,shuffle=True)\n"
      ],
      "execution_count": 190,
      "outputs": []
    },
    {
      "cell_type": "code",
      "metadata": {
        "id": "Nh3mBQHZ8bEj"
      },
      "source": [
        "testdata_1 = MosaicDataset(test_dataset, labels )\n",
        "testloader_1 = DataLoader( testdata_1 , batch_size= batch ,shuffle=False)"
      ],
      "execution_count": 191,
      "outputs": []
    },
    {
      "cell_type": "code",
      "metadata": {
        "id": "5_XeIUk0r0Tl"
      },
      "source": [
        "class Whatnet(nn.Module):\n",
        "    def __init__(self):\n",
        "        super(Whatnet,self).__init__()\n",
        "        self.linear1 = nn.Linear(1,2)\n",
        "        # self.linear2 = nn.Linear(50,10)\n",
        "        # self.linear3 = nn.Linear(10,3)\n",
        "        torch.nn.init.xavier_normal_(self.linear1.weight)\n",
        "        torch.nn.init.zeros_(self.linear1.bias)\n",
        "\n",
        "    def forward(self,x):\n",
        "        # x = F.relu(self.linear1(x))\n",
        "        # x = F.relu(self.linear2(x))\n",
        "        x = (self.linear1(x))\n",
        "\n",
        "        return x"
      ],
      "execution_count": 192,
      "outputs": []
    },
    {
      "cell_type": "code",
      "metadata": {
        "id": "pjD2VZuV9Ed4"
      },
      "source": [
        "def calculate_loss(dataloader,model,criter):\n",
        "  model.eval()\n",
        "  r_loss = 0\n",
        "  with torch.no_grad():\n",
        "    for i, data in enumerate(dataloader, 0):\n",
        "      inputs, labels = data\n",
        "      inputs, labels = inputs.to(\"cuda\"),labels.to(\"cuda\")\n",
        "      outputs = model(inputs)\n",
        "      loss = criter(outputs, labels)\n",
        "      r_loss += loss.item()\n",
        "  return r_loss/(i+1)"
      ],
      "execution_count": 193,
      "outputs": []
    },
    {
      "cell_type": "code",
      "metadata": {
        "id": "uALi25pmzQHV"
      },
      "source": [
        "def test_all(number, testloader,net):\n",
        "    correct = 0\n",
        "    total = 0\n",
        "    out = []\n",
        "    pred = []\n",
        "    with torch.no_grad():\n",
        "        for data in testloader:\n",
        "            images, labels = data\n",
        "            images, labels = images.to(\"cuda\"),labels.to(\"cuda\")\n",
        "            out.append(labels.cpu().numpy())\n",
        "            outputs= net(images)\n",
        "            _, predicted = torch.max(outputs.data, 1)\n",
        "            pred.append(predicted.cpu().numpy())\n",
        "            total += labels.size(0)\n",
        "            correct += (predicted == labels).sum().item()\n",
        "    \n",
        "    pred = np.concatenate(pred, axis = 0)\n",
        "    out = np.concatenate(out, axis = 0)\n",
        "    print(\"unique out: \",  np.unique(out), \"unique pred: \", np.unique(pred) )\n",
        "    print(\"correct: \", correct, \"total \",  total)\n",
        "    print('Accuracy of the network on the %d test dataset %d: %.2f %%' % (total, number , 100 * correct / total))"
      ],
      "execution_count": 194,
      "outputs": []
    },
    {
      "cell_type": "code",
      "metadata": {
        "id": "4vmNprlPzTjP"
      },
      "source": [
        "def train_all(trainloader, ds_number, testloader_list):\n",
        "    \n",
        "    print(\"--\"*40)\n",
        "    print(\"training on data set  \", ds_number)\n",
        "    \n",
        "    torch.manual_seed(12)\n",
        "    net = Whatnet().double()\n",
        "    net = net.to(\"cuda\")\n",
        "    \n",
        "    criterion_net = nn.CrossEntropyLoss()\n",
        "    optimizer_net = optim.Adam(net.parameters(), lr=0.001 ) #, momentum=0.9)\n",
        "    \n",
        "    acti = []\n",
        "    loss_curi = []\n",
        "    epochs = 1500\n",
        "    running_loss = calculate_loss(trainloader,net,criterion_net)\n",
        "    loss_curi.append(running_loss)\n",
        "    print('epoch: [%d ] loss: %.3f' %(0,running_loss)) \n",
        "    for epoch in range(epochs): # loop over the dataset multiple times\n",
        "        ep_lossi = []\n",
        "\n",
        "        running_loss = 0.0\n",
        "        net.train()\n",
        "        for i, data in enumerate(trainloader, 0):\n",
        "            # get the inputs\n",
        "            inputs, labels = data\n",
        "            inputs, labels = inputs.to(\"cuda\"),labels.to(\"cuda\")\n",
        "\n",
        "            # zero the parameter gradients\n",
        "            optimizer_net.zero_grad()\n",
        "\n",
        "            # forward + backward + optimize\n",
        "            outputs = net(inputs)\n",
        "            loss = criterion_net(outputs, labels)\n",
        "            # print statistics\n",
        "            running_loss += loss.item()\n",
        "            loss.backward()\n",
        "            optimizer_net.step()\n",
        "\n",
        "        running_loss = calculate_loss(trainloader,net,criterion_net)\n",
        "        if(epoch%200 == 0):\n",
        "          print('epoch: [%d] loss: %.3f' %(epoch + 1,running_loss)) \n",
        "        loss_curi.append(running_loss)   #loss per epoch\n",
        "        if running_loss<=0.05:\n",
        "          print('epoch: [%d] loss: %.3f' %(epoch + 1,running_loss))\n",
        "          break\n",
        "\n",
        "    print('Finished Training')\n",
        "    \n",
        "    correct = 0\n",
        "    total = 0\n",
        "    with torch.no_grad():\n",
        "        for data in trainloader:\n",
        "            images, labels = data\n",
        "            images, labels = images.to(\"cuda\"), labels.to(\"cuda\")\n",
        "            outputs = net(images)\n",
        "            _, predicted = torch.max(outputs.data, 1)\n",
        "            total += labels.size(0)\n",
        "            correct += (predicted == labels).sum().item()\n",
        "\n",
        "    print('Accuracy of the network on the %d train images: %.2f %%' % (total,  100 * correct / total))\n",
        "    \n",
        "    for i, j in enumerate(testloader_list):\n",
        "        test_all(i+1, j,net)\n",
        "    \n",
        "    print(\"--\"*40)\n",
        "    \n",
        "    return loss_curi, net\n",
        "    "
      ],
      "execution_count": 195,
      "outputs": []
    },
    {
      "cell_type": "code",
      "metadata": {
        "id": "Yl41sE8vFERk"
      },
      "source": [
        "train_loss_all=[]\n",
        "\n",
        "testloader_list= [ testloader_1 ]"
      ],
      "execution_count": 196,
      "outputs": []
    },
    {
      "cell_type": "code",
      "metadata": {
        "id": "5gQoPST5zW2t",
        "colab": {
          "base_uri": "https://localhost:8080/"
        },
        "outputId": "cd99302a-fcd9-4521-f69a-e0e91544f63b"
      },
      "source": [
        "loss, net = train_all(trainloader_1, 1, testloader_list)\n",
        "train_loss_all.append(loss)"
      ],
      "execution_count": 197,
      "outputs": [
        {
          "output_type": "stream",
          "name": "stdout",
          "text": [
            "--------------------------------------------------------------------------------\n",
            "training on data set   1\n",
            "epoch: [0 ] loss: 0.693\n",
            "epoch: [1] loss: 0.692\n",
            "epoch: [201] loss: 0.691\n",
            "epoch: [401] loss: 0.690\n",
            "epoch: [601] loss: 0.690\n",
            "epoch: [801] loss: 0.690\n",
            "epoch: [1001] loss: 0.690\n",
            "epoch: [1201] loss: 0.690\n",
            "epoch: [1401] loss: 0.690\n",
            "Finished Training\n",
            "Accuracy of the network on the 1000 train images: 52.80 %\n",
            "unique out:  [0 1] unique pred:  [1]\n",
            "correct:  481 total  1000\n",
            "Accuracy of the network on the 1000 test dataset 1: 48.10 %\n",
            "--------------------------------------------------------------------------------\n"
          ]
        }
      ]
    },
    {
      "cell_type": "code",
      "metadata": {
        "colab": {
          "base_uri": "https://localhost:8080/"
        },
        "id": "1PKuWWdcic_T",
        "outputId": "7a3661e3-d193-4c0b-fdb6-4cc56e6ac627"
      },
      "source": [
        "net.linear1.weight, net.linear1.bias"
      ],
      "execution_count": 198,
      "outputs": [
        {
          "output_type": "execute_result",
          "data": {
            "text/plain": [
              "(Parameter containing:\n",
              " tensor([[-1.5697],\n",
              "         [ 1.8938]], device='cuda:0', dtype=torch.float64, requires_grad=True),\n",
              " Parameter containing:\n",
              " tensor([-0.0423,  0.0423], device='cuda:0', dtype=torch.float64,\n",
              "        requires_grad=True))"
            ]
          },
          "metadata": {},
          "execution_count": 198
        }
      ]
    },
    {
      "cell_type": "code",
      "metadata": {
        "id": "In76SYH_zZHV"
      },
      "source": [
        "%matplotlib inline"
      ],
      "execution_count": 199,
      "outputs": []
    },
    {
      "cell_type": "code",
      "metadata": {
        "id": "BS4HtOHEzZ0E",
        "colab": {
          "base_uri": "https://localhost:8080/",
          "height": 297
        },
        "outputId": "7aef16c4-1f15-4920-972d-34f19e54e677"
      },
      "source": [
        "for i,j in enumerate(train_loss_all):\n",
        "    plt.plot(j,label =\"dataset \"+str(i+1))\n",
        "    \n",
        "\n",
        "plt.xlabel(\"Epochs\")\n",
        "plt.ylabel(\"Training_loss\")\n",
        "\n",
        "plt.legend(loc='center left', bbox_to_anchor=(1, 0.5))"
      ],
      "execution_count": 200,
      "outputs": [
        {
          "output_type": "execute_result",
          "data": {
            "text/plain": [
              "<matplotlib.legend.Legend at 0x7f4e321d5090>"
            ]
          },
          "metadata": {},
          "execution_count": 200
        },
        {
          "output_type": "display_data",
          "data": {
            "image/png": "[encoded data removed]",
            "text/plain": [
              "<Figure size 432x288 with 1 Axes>"
            ]
          },
          "metadata": {
            "needs_background": "light"
          }
        }
      ]
    },
    {
      "cell_type": "code",
      "metadata": {
        "id": "1UbTkfLUINTI"
      },
      "source": [
        ""
      ],
      "execution_count": 200,
      "outputs": []
    }
  ]
}