{
  "nbformat": 4,
  "nbformat_minor": 0,
  "metadata": {
    "accelerator": "GPU",
    "colab": {
      "name": "synthetic_type0_Linear_m_5.ipynb",
      "provenance": [],
      "collapsed_sections": []
    },
    "kernelspec": {
      "display_name": "Python 3",
      "language": "python",
      "name": "python3"
    },
    "language_info": {
      "codemirror_mode": {
        "name": "ipython",
        "version": 3
      },
      "file_extension": ".py",
      "mimetype": "text/x-python",
      "name": "python",
      "nbconvert_exporter": "python",
      "pygments_lexer": "ipython3",
      "version": "3.6.5"
    }
  },
  "cells": [
    {
      "cell_type": "code",
      "metadata": {
        "colab": {
          "base_uri": "https://localhost:8080/"
        },
        "id": "N2_J4Rw2r0SQ",
        "outputId": "cfe85df3-4424-471e-d8c2-cda024dd9645"
      },
      "source": [
        "import numpy as np\n",
        "import pandas as pd\n",
        "from matplotlib import pyplot as plt\n",
        "from tqdm import tqdm\n",
        "%matplotlib inline\n",
        "from torch.utils.data import Dataset, DataLoader\n",
        "import torch\n",
        "import torchvision\n",
        "\n",
        "import torch.nn as nn\n",
        "import torch.optim as optim\n",
        "from torch.nn import functional as F\n",
        "device = torch.device(\"cuda\" if torch.cuda.is_available() else \"cpu\")\n",
        "print(device)"
      ],
      "execution_count": 991,
      "outputs": [
        {
          "output_type": "stream",
          "name": "stdout",
          "text": [
            "cuda\n"
          ]
        }
      ]
    },
    {
      "cell_type": "code",
      "metadata": {
        "id": "y9cP_3OWFHdo"
      },
      "source": [
        "torch.backends.cudnn.deterministic = True\n",
        "torch.backends.cudnn.benchmark= False"
      ],
      "execution_count": 992,
      "outputs": []
    },
    {
      "cell_type": "code",
      "metadata": {
        "id": "xR3b9hhxzqKB"
      },
      "source": [
        "m = 100                       # 5, 50, 100, 500 , 1000 , 2000 "
      ],
      "execution_count": 993,
      "outputs": []
    },
    {
      "cell_type": "code",
      "metadata": {
        "id": "xDifMu_gRXFN"
      },
      "source": [
        "desired_num = 4000"
      ],
      "execution_count": 994,
      "outputs": []
    },
    {
      "cell_type": "code",
      "metadata": {
        "colab": {
          "base_uri": "https://localhost:8080/"
        },
        "id": "tl7WPcTcRW-8",
        "outputId": "31e0cb80-c013-4527-a937-34b3485ac2cf"
      },
      "source": [
        "tr_i = 0\n",
        "tr_j = int(desired_num/2)\n",
        "tr_k = desired_num\n",
        "\n",
        "tr_i, tr_j, tr_k"
      ],
      "execution_count": 995,
      "outputs": [
        {
          "output_type": "execute_result",
          "data": {
            "text/plain": [
              "(0, 2000, 4000)"
            ]
          },
          "metadata": {},
          "execution_count": 995
        }
      ]
    },
    {
      "cell_type": "markdown",
      "metadata": {
        "id": "F6fjud_Fr0Sa"
      },
      "source": [
        "# Generate dataset"
      ]
    },
    {
      "cell_type": "code",
      "metadata": {
        "colab": {
          "base_uri": "https://localhost:8080/"
        },
        "id": "CqdXHO0Cr0Sd",
        "outputId": "d39ade36-0fe8-4277-af0b-1c9e3541e42e"
      },
      "source": [
        "np.random.seed(12)\n",
        "y = np.random.randint(0,3,500)\n",
        "idx= []\n",
        "for i in range(3):\n",
        "    print(i,sum(y==i))\n",
        "    idx.append(y==i)"
      ],
      "execution_count": 996,
      "outputs": [
        {
          "output_type": "stream",
          "name": "stdout",
          "text": [
            "0 174\n",
            "1 163\n",
            "2 163\n"
          ]
        }
      ]
    },
    {
      "cell_type": "code",
      "metadata": {
        "id": "ddhXyODwr0Sk"
      },
      "source": [
        "x = np.zeros((500,))"
      ],
      "execution_count": 997,
      "outputs": []
    },
    {
      "cell_type": "code",
      "metadata": {
        "id": "DyV3N2DIr0Sp"
      },
      "source": [
        "np.random.seed(12)\n",
        "x[idx[0]] = np.random.uniform(low =-1,high =0,size= sum(idx[0]))\n",
        "x[idx[1]] = np.random.uniform(low =0,high =1,size= sum(idx[1]))\n",
        "x[idx[2]] = np.random.uniform(low =2,high =3,size= sum(idx[2]))"
      ],
      "execution_count": 998,
      "outputs": []
    },
    {
      "cell_type": "code",
      "metadata": {
        "colab": {
          "base_uri": "https://localhost:8080/"
        },
        "id": "qh1mDScsU07I",
        "outputId": "43e9feae-6b9f-4b99-9cc6-c4942c0f7658"
      },
      "source": [
        "x[idx[0]][0], x[idx[2]][5] "
      ],
      "execution_count": 999,
      "outputs": [
        {
          "output_type": "execute_result",
          "data": {
            "text/plain": [
              "(-0.8458371576203276, 2.2459800877058114)"
            ]
          },
          "metadata": {},
          "execution_count": 999
        }
      ]
    },
    {
      "cell_type": "code",
      "metadata": {
        "colab": {
          "base_uri": "https://localhost:8080/"
        },
        "id": "9Vr5ErQ_wSrV",
        "outputId": "9688e382-7793-401d-e0c3-ed058e8a7252"
      },
      "source": [
        "print(x.shape,y.shape)"
      ],
      "execution_count": 1000,
      "outputs": [
        {
          "output_type": "stream",
          "name": "stdout",
          "text": [
            "(500,) (500,)\n"
          ]
        }
      ]
    },
    {
      "cell_type": "code",
      "metadata": {
        "id": "NG-3RpffwU_i"
      },
      "source": [
        "idx= []\n",
        "for i in range(3):\n",
        "  idx.append(y==i)"
      ],
      "execution_count": 1001,
      "outputs": []
    },
    {
      "cell_type": "code",
      "metadata": {
        "colab": {
          "base_uri": "https://localhost:8080/",
          "height": 283
        },
        "id": "hJ8Jm7YUr0St",
        "outputId": "04fdda58-2674-4058-d776-2c2161cc0576"
      },
      "source": [
        "for i in range(3):\n",
        "    y= np.zeros(x[idx[i]].shape[0])\n",
        "    plt.scatter(x[idx[i]],y,label=\"class_\"+str(i))\n",
        "plt.legend()"
      ],
      "execution_count": 1002,
      "outputs": [
        {
          "output_type": "execute_result",
          "data": {
            "text/plain": [
              "<matplotlib.legend.Legend at 0x7f4e1f583b10>"
            ]
          },
          "metadata": {},
          "execution_count": 1002
        },
        {
          "output_type": "display_data",
          "data": {
            "image/png": "[encoded data removed]",
            "text/plain": [
              "<Figure size 432x288 with 1 Axes>"
            ]
          },
          "metadata": {
            "needs_background": "light"
          }
        }
      ]
    },
    {
      "cell_type": "code",
      "metadata": {
        "colab": {
          "base_uri": "https://localhost:8080/"
        },
        "id": "3lMBZEHNBlF2",
        "outputId": "2306c6d0-9f18-49d1-ce9d-107f4aa34745"
      },
      "source": [
        "bg_idx = [ np.where(idx[2] == True)[0]]\n",
        "\n",
        "bg_idx = np.concatenate(bg_idx, axis = 0)\n",
        "bg_idx.shape"
      ],
      "execution_count": 1003,
      "outputs": [
        {
          "output_type": "execute_result",
          "data": {
            "text/plain": [
              "(163,)"
            ]
          },
          "metadata": {},
          "execution_count": 1003
        }
      ]
    },
    {
      "cell_type": "code",
      "metadata": {
        "colab": {
          "base_uri": "https://localhost:8080/"
        },
        "id": "blRbGZHeCwXU",
        "outputId": "37433ef6-a3b8-4a62-e0d0-de21785fd0de"
      },
      "source": [
        "np.unique(bg_idx).shape"
      ],
      "execution_count": 1004,
      "outputs": [
        {
          "output_type": "execute_result",
          "data": {
            "text/plain": [
              "(163,)"
            ]
          },
          "metadata": {},
          "execution_count": 1004
        }
      ]
    },
    {
      "cell_type": "code",
      "metadata": {
        "id": "Y43sWeX7C15F"
      },
      "source": [
        "x = x - np.mean(x[bg_idx], axis = 0, keepdims = True)\n"
      ],
      "execution_count": 1005,
      "outputs": []
    },
    {
      "cell_type": "code",
      "metadata": {
        "colab": {
          "base_uri": "https://localhost:8080/"
        },
        "id": "ooII7N6UDWe0",
        "outputId": "447d4060-1b64-4c49-d076-e9b27c653280"
      },
      "source": [
        "np.mean(x[bg_idx], axis = 0, keepdims = True), np.mean(x, axis = 0, keepdims = True)"
      ],
      "execution_count": 1006,
      "outputs": [
        {
          "output_type": "execute_result",
          "data": {
            "text/plain": [
              "(array([-1.00805526e-16]), array([-1.7163962]))"
            ]
          },
          "metadata": {},
          "execution_count": 1006
        }
      ]
    },
    {
      "cell_type": "code",
      "metadata": {
        "id": "g21bvPRYDL9k"
      },
      "source": [
        "x = x/np.std(x[bg_idx], axis = 0, keepdims = True)"
      ],
      "execution_count": 1007,
      "outputs": []
    },
    {
      "cell_type": "code",
      "metadata": {
        "colab": {
          "base_uri": "https://localhost:8080/"
        },
        "id": "GtFvIeHsDZJk",
        "outputId": "6fe6392a-beb8-4358-bd65-3c735eaad159"
      },
      "source": [
        "np.std(x[bg_idx], axis = 0, keepdims = True), np.std(x, axis = 0, keepdims = True)"
      ],
      "execution_count": 1008,
      "outputs": [
        {
          "output_type": "execute_result",
          "data": {
            "text/plain": [
              "(array([1.]), array([4.37808847]))"
            ]
          },
          "metadata": {},
          "execution_count": 1008
        }
      ]
    },
    {
      "cell_type": "code",
      "metadata": {
        "colab": {
          "base_uri": "https://localhost:8080/",
          "height": 283
        },
        "id": "8-VLhUfDDeHt",
        "outputId": "2886b364-5994-449c-d657-7503c9f49167"
      },
      "source": [
        "for i in range(3):\n",
        "    y= np.zeros(x[idx[i]].shape[0])\n",
        "    plt.scatter(x[idx[i]],y,label=\"class_\"+str(i))\n",
        "plt.legend()"
      ],
      "execution_count": 1009,
      "outputs": [
        {
          "output_type": "execute_result",
          "data": {
            "text/plain": [
              "<matplotlib.legend.Legend at 0x7f4e1f52cc90>"
            ]
          },
          "metadata": {},
          "execution_count": 1009
        },
        {
          "output_type": "display_data",
          "data": {
            "image/png": "[encoded data removed]",
            "text/plain": [
              "<Figure size 432x288 with 1 Axes>"
            ]
          },
          "metadata": {
            "needs_background": "light"
          }
        }
      ]
    },
    {
      "cell_type": "code",
      "metadata": {
        "id": "UfFHcZJOr0Sz"
      },
      "source": [
        "foreground_classes = {'class_0','class_1' }\n",
        "\n",
        "background_classes = {'class_2'}"
      ],
      "execution_count": 1010,
      "outputs": []
    },
    {
      "cell_type": "code",
      "metadata": {
        "colab": {
          "base_uri": "https://localhost:8080/"
        },
        "id": "OplNpNQVr0S2",
        "outputId": "82586216-83bc-40ce-c939-9e24f93563d6"
      },
      "source": [
        "fg_class  = np.random.randint(0,2)\n",
        "fg_idx = np.random.randint(0,m)\n",
        "\n",
        "a = []\n",
        "for i in range(m):\n",
        "    if i == fg_idx:\n",
        "        b = np.random.choice(np.where(idx[fg_class]==True)[0],size=1)\n",
        "        a.append(x[b])\n",
        "        print(\"foreground \"+str(fg_class)+\" present at \" + str(fg_idx))\n",
        "    else:\n",
        "        bg_class = np.random.randint(2,3)\n",
        "        b = np.random.choice(np.where(idx[bg_class]==True)[0],size=1)\n",
        "        a.append(x[b])\n",
        "        print(\"background \"+str(bg_class)+\" present at \" + str(i))\n",
        "a = np.concatenate(a,axis=0)\n",
        "print(a.shape)\n",
        "\n",
        "print(fg_class , fg_idx)"
      ],
      "execution_count": 1011,
      "outputs": [
        {
          "output_type": "stream",
          "name": "stdout",
          "text": [
            "background 2 present at 0\n",
            "background 2 present at 1\n",
            "background 2 present at 2\n",
            "background 2 present at 3\n",
            "background 2 present at 4\n",
            "background 2 present at 5\n",
            "background 2 present at 6\n",
            "background 2 present at 7\n",
            "background 2 present at 8\n",
            "background 2 present at 9\n",
            "background 2 present at 10\n",
            "background 2 present at 11\n",
            "background 2 present at 12\n",
            "background 2 present at 13\n",
            "background 2 present at 14\n",
            "background 2 present at 15\n",
            "background 2 present at 16\n",
            "background 2 present at 17\n",
            "background 2 present at 18\n",
            "background 2 present at 19\n",
            "background 2 present at 20\n",
            "background 2 present at 21\n",
            "background 2 present at 22\n",
            "background 2 present at 23\n",
            "background 2 present at 24\n",
            "background 2 present at 25\n",
            "background 2 present at 26\n",
            "background 2 present at 27\n",
            "background 2 present at 28\n",
            "background 2 present at 29\n",
            "background 2 present at 30\n",
            "background 2 present at 31\n",
            "background 2 present at 32\n",
            "background 2 present at 33\n",
            "background 2 present at 34\n",
            "background 2 present at 35\n",
            "background 2 present at 36\n",
            "background 2 present at 37\n",
            "background 2 present at 38\n",
            "background 2 present at 39\n",
            "background 2 present at 40\n",
            "background 2 present at 41\n",
            "background 2 present at 42\n",
            "background 2 present at 43\n",
            "background 2 present at 44\n",
            "background 2 present at 45\n",
            "background 2 present at 46\n",
            "background 2 present at 47\n",
            "background 2 present at 48\n",
            "background 2 present at 49\n",
            "background 2 present at 50\n",
            "background 2 present at 51\n",
            "background 2 present at 52\n",
            "background 2 present at 53\n",
            "background 2 present at 54\n",
            "background 2 present at 55\n",
            "background 2 present at 56\n",
            "background 2 present at 57\n",
            "background 2 present at 58\n",
            "background 2 present at 59\n",
            "background 2 present at 60\n",
            "background 2 present at 61\n",
            "background 2 present at 62\n",
            "background 2 present at 63\n",
            "background 2 present at 64\n",
            "background 2 present at 65\n",
            "background 2 present at 66\n",
            "background 2 present at 67\n",
            "background 2 present at 68\n",
            "background 2 present at 69\n",
            "background 2 present at 70\n",
            "background 2 present at 71\n",
            "foreground 1 present at 72\n",
            "background 2 present at 73\n",
            "background 2 present at 74\n",
            "background 2 present at 75\n",
            "background 2 present at 76\n",
            "background 2 present at 77\n",
            "background 2 present at 78\n",
            "background 2 present at 79\n",
            "background 2 present at 80\n",
            "background 2 present at 81\n",
            "background 2 present at 82\n",
            "background 2 present at 83\n",
            "background 2 present at 84\n",
            "background 2 present at 85\n",
            "background 2 present at 86\n",
            "background 2 present at 87\n",
            "background 2 present at 88\n",
            "background 2 present at 89\n",
            "background 2 present at 90\n",
            "background 2 present at 91\n",
            "background 2 present at 92\n",
            "background 2 present at 93\n",
            "background 2 present at 94\n",
            "background 2 present at 95\n",
            "background 2 present at 96\n",
            "background 2 present at 97\n",
            "background 2 present at 98\n",
            "background 2 present at 99\n",
            "(100,)\n",
            "1 72\n"
          ]
        }
      ]
    },
    {
      "cell_type": "code",
      "metadata": {
        "colab": {
          "base_uri": "https://localhost:8080/"
        },
        "id": "dwZVmmRBr0S8",
        "outputId": "7a186bc5-96a3-4e53-9f7c-7d45df2b3916"
      },
      "source": [
        "a.shape"
      ],
      "execution_count": 1012,
      "outputs": [
        {
          "output_type": "execute_result",
          "data": {
            "text/plain": [
              "(100,)"
            ]
          },
          "metadata": {},
          "execution_count": 1012
        }
      ]
    },
    {
      "cell_type": "code",
      "metadata": {
        "colab": {
          "base_uri": "https://localhost:8080/"
        },
        "id": "OoxzYI-ur0S_",
        "outputId": "654c84c1-253b-4a32-de14-31ad057011b4"
      },
      "source": [
        "np.reshape(a,(m,1))"
      ],
      "execution_count": 1013,
      "outputs": [
        {
          "output_type": "execute_result",
          "data": {
            "text/plain": [
              "array([[-0.80241043],\n",
              "       [ 1.00228507],\n",
              "       [-0.81132988],\n",
              "       [ 1.2774409 ],\n",
              "       [ 0.57398646],\n",
              "       [-0.91850331],\n",
              "       [ 0.6600648 ],\n",
              "       [ 0.57398646],\n",
              "       [ 1.39799803],\n",
              "       [ 0.13695373],\n",
              "       [-1.44264034],\n",
              "       [ 0.71837826],\n",
              "       [ 1.08544127],\n",
              "       [ 1.55171236],\n",
              "       [ 0.4152144 ],\n",
              "       [-1.15692643],\n",
              "       [-1.62776348],\n",
              "       [ 0.65339431],\n",
              "       [ 0.44998336],\n",
              "       [-1.35067387],\n",
              "       [-0.1541663 ],\n",
              "       [ 1.2774409 ],\n",
              "       [ 0.44998336],\n",
              "       [ 1.20061574],\n",
              "       [-0.83952364],\n",
              "       [ 0.46279645],\n",
              "       [-0.90487837],\n",
              "       [ 0.8325454 ],\n",
              "       [-0.41161127],\n",
              "       [-0.94524964],\n",
              "       [-0.2407784 ],\n",
              "       [ 0.80282356],\n",
              "       [ 0.18678022],\n",
              "       [ 0.41553291],\n",
              "       [ 0.99304358],\n",
              "       [-0.94524964],\n",
              "       [-1.44264034],\n",
              "       [-1.36429042],\n",
              "       [-0.36474865],\n",
              "       [ 0.1392267 ],\n",
              "       [ 0.1428216 ],\n",
              "       [-1.08085196],\n",
              "       [ 0.6600648 ],\n",
              "       [-1.17697967],\n",
              "       [-0.29918788],\n",
              "       [-1.35067387],\n",
              "       [ 0.34820546],\n",
              "       [ 1.35486532],\n",
              "       [-1.3759762 ],\n",
              "       [ 0.98589978],\n",
              "       [-0.59511662],\n",
              "       [ 1.41734616],\n",
              "       [ 0.71837826],\n",
              "       [ 1.00274723],\n",
              "       [-0.90487837],\n",
              "       [ 0.32309258],\n",
              "       [-0.91850331],\n",
              "       [-0.1541663 ],\n",
              "       [-0.92269452],\n",
              "       [ 1.41734616],\n",
              "       [-1.54993781],\n",
              "       [-0.59511662],\n",
              "       [ 1.03475943],\n",
              "       [ 0.46786344],\n",
              "       [ 0.97606684],\n",
              "       [ 0.6600648 ],\n",
              "       [ 0.51783775],\n",
              "       [-0.4252276 ],\n",
              "       [ 1.28615767],\n",
              "       [ 0.97606684],\n",
              "       [-1.44985264],\n",
              "       [-1.54993781],\n",
              "       [-5.98783232],\n",
              "       [ 1.04969471],\n",
              "       [ 0.94269703],\n",
              "       [-1.1935932 ],\n",
              "       [-0.00757527],\n",
              "       [ 0.75582313],\n",
              "       [ 1.39806093],\n",
              "       [-1.46523851],\n",
              "       [-1.0567665 ],\n",
              "       [ 0.9324306 ],\n",
              "       [-0.72988   ],\n",
              "       [ 1.52408356],\n",
              "       [ 1.39236683],\n",
              "       [ 0.06747313],\n",
              "       [-0.38545355],\n",
              "       [-1.1935932 ],\n",
              "       [-1.43069628],\n",
              "       [ 1.2774409 ],\n",
              "       [ 1.62014849],\n",
              "       [-1.27266268],\n",
              "       [ 1.4074927 ],\n",
              "       [-1.74493859],\n",
              "       [ 1.20061574],\n",
              "       [ 0.46786344],\n",
              "       [-1.0567665 ],\n",
              "       [ 0.83122375],\n",
              "       [ 0.6600648 ],\n",
              "       [ 0.58858422]])"
            ]
          },
          "metadata": {},
          "execution_count": 1013
        }
      ]
    },
    {
      "cell_type": "code",
      "metadata": {
        "id": "jqbvfbwVr0TN"
      },
      "source": [
        "\n",
        "mosaic_list_of_images =[]\n",
        "mosaic_label = []\n",
        "fore_idx=[]\n",
        "for j in range(desired_num):\n",
        "    np.random.seed(j)\n",
        "    fg_class  = np.random.randint(0,2)\n",
        "    fg_idx = np.random.randint(0,m)\n",
        "    a = []\n",
        "    for i in range(m):\n",
        "        if i == fg_idx:\n",
        "            b = np.random.choice(np.where(idx[fg_class]==True)[0],size=1)\n",
        "            a.append(x[b])\n",
        "#             print(\"foreground \"+str(fg_class)+\" present at \" + str(fg_idx))\n",
        "        else:\n",
        "            bg_class = np.random.randint(2,3)\n",
        "            b = np.random.choice(np.where(idx[bg_class]==True)[0],size=1)\n",
        "            a.append(x[b])\n",
        "#             print(\"background \"+str(bg_class)+\" present at \" + str(i))\n",
        "    a = np.concatenate(a,axis=0)\n",
        "    mosaic_list_of_images.append(np.reshape(a,(m,1)))\n",
        "    mosaic_label.append(fg_class)\n",
        "    fore_idx.append(fg_idx)"
      ],
      "execution_count": 1014,
      "outputs": []
    },
    {
      "cell_type": "code",
      "metadata": {
        "id": "BOsFmWfMr0TR",
        "colab": {
          "base_uri": "https://localhost:8080/"
        },
        "outputId": "95fa9431-9bd6-4f0c-a597-68ec1485fc15"
      },
      "source": [
        "mosaic_list_of_images = np.concatenate(mosaic_list_of_images,axis=1).T\n",
        "mosaic_list_of_images.shape"
      ],
      "execution_count": 1015,
      "outputs": [
        {
          "output_type": "execute_result",
          "data": {
            "text/plain": [
              "(4000, 100)"
            ]
          },
          "metadata": {},
          "execution_count": 1015
        }
      ]
    },
    {
      "cell_type": "code",
      "metadata": {
        "colab": {
          "base_uri": "https://localhost:8080/"
        },
        "id": "2aIPMgLXNiXW",
        "outputId": "82527f9f-2ced-4793-c77e-7f806be79b94"
      },
      "source": [
        "mosaic_list_of_images.shape, mosaic_list_of_images[0]"
      ],
      "execution_count": 1016,
      "outputs": [
        {
          "output_type": "execute_result",
          "data": {
            "text/plain": [
              "((4000, 100), array([  1.43580093,   0.13695373,  -0.4252276 ,  -0.91850331,\n",
              "         -0.12909751,  -1.73154424,   0.75582313,   0.6640638 ,\n",
              "         -0.1541663 ,   0.8325454 ,   1.31922113,  -0.41161127,\n",
              "          0.75582313,  -0.1541663 ,  -0.90487837,   0.26551966,\n",
              "          1.41734616,  -1.35067387,  -0.91850331,  -0.84877745,\n",
              "          0.41497164,   0.22843592,   0.41204831,   1.03957183,\n",
              "         -0.42473802,  -1.74493859,  -1.74493859,  -1.43069628,\n",
              "         -0.29918788,  -0.91850331,  -1.46523851,  -0.29918788,\n",
              "          0.71837826,  -1.3759762 ,   0.65339431,   0.34586581,\n",
              "          1.62014849,   0.34820546,   0.34820546,  -0.2407784 ,\n",
              "          0.78170047,  -0.52917724,   1.39799803,   0.22843592,\n",
              "         -1.20787928,   1.04960385,  -1.15692643, -10.78050309,\n",
              "         -1.54993781,  -0.99267185,   1.00274723,  -1.57358463,\n",
              "          1.50127618,  -0.51577218,  -1.28104385,  -0.36474865,\n",
              "          0.41204831,  -0.03809035,   0.34820546,  -1.43069628,\n",
              "          1.03957183,  -0.2407784 ,   0.8325454 ,   0.97606684,\n",
              "         -0.89789265,   1.14462928,   0.38745843,  -0.70196915,\n",
              "         -1.46523851,  -0.9959213 ,  -0.72988   ,   1.44702914,\n",
              "         -1.6606795 ,  -0.84877745,  -0.03466237,  -1.53175495,\n",
              "          1.43580093,   1.39236683,   0.97191874,  -0.11183672,\n",
              "         -1.05931124,  -0.80241043,   1.00115933,  -0.363319  ,\n",
              "          1.30533553,  -1.73154424,   0.06747313,   0.97191874,\n",
              "         -1.62776348,  -0.9959213 ,   0.90752413,  -1.15692643,\n",
              "         -0.36464897,  -1.27266268,  -1.46523851,  -0.363319  ,\n",
              "         -0.5854355 ,   0.65339431,  -1.04969386,  -1.46523851]))"
            ]
          },
          "metadata": {},
          "execution_count": 1016
        }
      ]
    },
    {
      "cell_type": "code",
      "metadata": {
        "colab": {
          "base_uri": "https://localhost:8080/"
        },
        "id": "A3qcsbbzPfRG",
        "outputId": "01378491-6e27-4459-eb33-b6d06abb1225"
      },
      "source": [
        "for j in range(m):\n",
        "  print(mosaic_list_of_images[0][j])\n",
        "  "
      ],
      "execution_count": 1017,
      "outputs": [
        {
          "output_type": "stream",
          "name": "stdout",
          "text": [
            "1.4358009314866034\n",
            "0.13695372724012772\n",
            "-0.4252275951078302\n",
            "-0.9185033095974854\n",
            "-0.12909750858981067\n",
            "-1.7315442430857817\n",
            "0.7558231343879587\n",
            "0.6640638025673503\n",
            "-0.15416630449113\n",
            "0.832545401567119\n",
            "1.3192211298342615\n",
            "-0.411611268813296\n",
            "0.7558231343879587\n",
            "-0.15416630449113\n",
            "-0.9048783650832936\n",
            "0.2655196567190298\n",
            "1.4173461573148838\n",
            "-1.3506738707130648\n",
            "-0.9185033095974854\n",
            "-0.8487774501542434\n",
            "0.41497163990658553\n",
            "0.22843592432187756\n",
            "0.4120483059558463\n",
            "1.039571830882509\n",
            "-0.42473802055748705\n",
            "-1.7449385946476759\n",
            "-1.7449385946476759\n",
            "-1.4306962812399096\n",
            "-0.2991878808509575\n",
            "-0.9185033095974854\n",
            "-1.4652385079352608\n",
            "-0.2991878808509575\n",
            "0.7183782579402468\n",
            "-1.3759761997330582\n",
            "0.6533943080642937\n",
            "0.345865811484694\n",
            "1.6201484942286413\n",
            "0.34820546484848275\n",
            "0.34820546484848275\n",
            "-0.24077840436878184\n",
            "0.7817004669153338\n",
            "-0.529177237043516\n",
            "1.397998025695915\n",
            "0.22843592432187756\n",
            "-1.2078792839203505\n",
            "1.0496038541198456\n",
            "-1.1569264275370823\n",
            "-10.780503085215361\n",
            "-1.5499378105140722\n",
            "-0.992671849313759\n",
            "1.0027472329330642\n",
            "-1.573584632766583\n",
            "1.5012761831023353\n",
            "-0.5157721805614179\n",
            "-1.2810438533218755\n",
            "-0.3647486544408019\n",
            "0.4120483059558463\n",
            "-0.038090346259590985\n",
            "0.34820546484848275\n",
            "-1.4306962812399096\n",
            "1.039571830882509\n",
            "-0.24077840436878184\n",
            "0.832545401567119\n",
            "0.9760668439559996\n",
            "-0.8978926538361668\n",
            "1.1446292841441261\n",
            "0.38745842607626113\n",
            "-0.70196914745493\n",
            "-1.4652385079352608\n",
            "-0.9959213015328963\n",
            "-0.7298799970913634\n",
            "1.4470291398063106\n",
            "-1.660679504426819\n",
            "-0.8487774501542434\n",
            "-0.03466237152640819\n",
            "-1.5317549497195035\n",
            "1.4358009314866034\n",
            "1.3923668338722077\n",
            "0.9719187406356335\n",
            "-0.1118367162703567\n",
            "-1.0593112442151893\n",
            "-0.8024104318571436\n",
            "1.0011593284257532\n",
            "-0.363319004172012\n",
            "1.3053355316930382\n",
            "-1.7315442430857817\n",
            "0.06747312638794169\n",
            "0.9719187406356335\n",
            "-1.6277634830710428\n",
            "-0.9959213015328963\n",
            "0.907524130895722\n",
            "-1.1569264275370823\n",
            "-0.36464896647758427\n",
            "-1.272662683896807\n",
            "-1.4652385079352608\n",
            "-0.363319004172012\n",
            "-0.5854355038893796\n",
            "0.6533943080642937\n",
            "-1.0496938597364855\n",
            "-1.4652385079352608\n"
          ]
        }
      ]
    },
    {
      "cell_type": "code",
      "metadata": {
        "id": "iPoIwbMHx44n"
      },
      "source": [
        "def create_avg_image_from_mosaic_dataset(mosaic_dataset,labels,foreground_index,dataset_number, m):\n",
        "  \"\"\"\n",
        "  mosaic_dataset : mosaic_dataset contains 9 images 32 x 32 each as 1 data point\n",
        "  labels : mosaic_dataset labels\n",
        "  foreground_index : contains list of indexes where foreground image is present so that using this we can take weighted average\n",
        "  dataset_number : will help us to tell what ratio of foreground image to be taken. for eg: if it is \"j\" then fg_image_ratio = j/9 , bg_image_ratio = (9-j)/8*9\n",
        "  \"\"\"\n",
        "  avg_image_dataset = []\n",
        "  cnt = 0\n",
        "  counter = np.zeros(m)\n",
        "  for i in range(len(mosaic_dataset)):\n",
        "    img = torch.zeros([1], dtype=torch.float64)\n",
        "    np.random.seed(int(dataset_number*10000 + i))\n",
        "    give_pref = foreground_index[i] #np.random.randint(0,9)\n",
        "    # print(\"outside\", give_pref,foreground_index[i])\n",
        "    for j in range(m):\n",
        "      if j == give_pref:\n",
        "        img = img + mosaic_dataset[i][j]*dataset_number/m   #2 is data dim\n",
        "      else :\n",
        "        img = img + mosaic_dataset[i][j]*(m-dataset_number)/((m-1)*m)\n",
        "\n",
        "    if give_pref == foreground_index[i] :\n",
        "      # print(\"equal are\", give_pref,foreground_index[i])\n",
        "      cnt += 1\n",
        "      counter[give_pref] += 1\n",
        "    else :\n",
        "      counter[give_pref] += 1\n",
        "\n",
        "    avg_image_dataset.append(img)\n",
        "\n",
        "  print(\"number of correct averaging happened for dataset \"+str(dataset_number)+\" is \"+str(cnt)) \n",
        "  print(\"the averaging are done as \", counter) \n",
        "  return avg_image_dataset , labels , foreground_index\n",
        "        \n",
        "  "
      ],
      "execution_count": 1018,
      "outputs": []
    },
    {
      "cell_type": "code",
      "metadata": {
        "colab": {
          "base_uri": "https://localhost:8080/"
        },
        "id": "5sEE5AxhSFsf",
        "outputId": "f8e721ad-ee48-407e-8d8e-438e237bce0b"
      },
      "source": [
        "avg_image_dataset_1 , labels_1,  fg_index_1 = create_avg_image_from_mosaic_dataset(mosaic_list_of_images[0:tr_j], mosaic_label[0:tr_j], fore_idx[0:tr_j] , 1, m)\n",
        "\n",
        "\n",
        "test_dataset , labels , fg_index = create_avg_image_from_mosaic_dataset(mosaic_list_of_images[tr_j : tr_k], mosaic_label[tr_j : tr_k], fore_idx[tr_j : tr_k] , m, m)"
      ],
      "execution_count": 1019,
      "outputs": [
        {
          "output_type": "stream",
          "name": "stdout",
          "text": [
            "number of correct averaging happened for dataset 1 is 2000\n",
            "the averaging are done as  [27. 19. 19. 16. 13. 15. 23. 23. 14. 19. 13. 20. 22. 11. 17. 26. 27. 27.\n",
            " 21. 25. 19. 16. 21. 26. 20. 18. 29. 19. 30. 17. 34. 18. 21. 23. 23. 28.\n",
            "  9. 17. 19. 20. 23. 24. 13. 22. 16. 16. 22. 16. 18. 21. 18. 18. 18. 17.\n",
            " 22. 22. 18. 23. 26. 14. 21. 25. 23. 20. 22. 25. 28.  7. 20. 20. 27. 18.\n",
            " 19. 19. 20. 20. 20. 15. 21. 19. 28. 16. 14. 17. 20. 15. 23. 21. 16. 16.\n",
            " 22. 15. 19. 18. 17. 21. 17. 17. 23. 25.]\n",
            "number of correct averaging happened for dataset 100 is 2000\n",
            "the averaging are done as  [17. 22. 20. 16. 22. 19. 16. 26. 25. 18. 29. 14. 17. 27. 24. 19. 20. 15.\n",
            " 20. 20. 21. 19. 23. 18. 19. 25. 17. 22. 25. 23. 15. 21. 18. 14. 16. 20.\n",
            " 24. 24. 22. 25. 21. 23. 14. 25. 17. 26. 17. 15. 18. 21. 26. 16. 23. 23.\n",
            " 18. 13. 24. 19. 14. 17. 30. 20. 24. 17. 21. 19. 17. 13. 21. 20. 18. 16.\n",
            " 15. 30. 13. 24. 12. 25. 22. 23. 22. 12. 23. 29. 14. 26. 24. 19. 14. 19.\n",
            " 20. 15. 22. 15. 18. 18. 21. 21. 21. 20.]\n"
          ]
        }
      ]
    },
    {
      "cell_type": "code",
      "metadata": {
        "id": "0dYXnywAD-4l"
      },
      "source": [
        "avg_image_dataset_1 = torch.stack(avg_image_dataset_1, axis = 0)\n",
        "\n",
        "# mean = torch.mean(avg_image_dataset_1, keepdims= True, axis = 0)\n",
        "# std = torch.std(avg_image_dataset_1, keepdims= True, axis = 0)\n",
        "\n",
        "# avg_image_dataset_1 = (avg_image_dataset_1 - mean) / std \n",
        "\n",
        "# print(torch.mean(avg_image_dataset_1, keepdims= True, axis = 0))\n",
        "# print(torch.std(avg_image_dataset_1, keepdims= True, axis = 0))\n",
        "# print(\"==\"*40)\n",
        "\n",
        "\n",
        "test_dataset = torch.stack(test_dataset, axis = 0)\n",
        "# mean = torch.mean(test_dataset, keepdims= True, axis = 0)\n",
        "# std = torch.std(test_dataset, keepdims= True, axis = 0)\n",
        "# test_dataset = (test_dataset - mean) / std\n",
        "\n",
        "# print(torch.mean(test_dataset, keepdims= True, axis = 0))\n",
        "# print(torch.std(test_dataset, keepdims= True, axis = 0))\n",
        "# print(\"==\"*40)\n"
      ],
      "execution_count": 1020,
      "outputs": []
    },
    {
      "cell_type": "code",
      "metadata": {
        "colab": {
          "base_uri": "https://localhost:8080/",
          "height": 299
        },
        "id": "bT9-kEI7NAnR",
        "outputId": "9fb2062a-83d3-4008-87da-06e521c06409"
      },
      "source": [
        "x1 = (avg_image_dataset_1).numpy()\n",
        "y1 = np.array(labels_1)\n",
        "\n",
        "# idx1 = []\n",
        "# for i in range(3):\n",
        "#   idx1.append(y1 == i)\n",
        "\n",
        "# for i in range(3):\n",
        "#     z = np.zeros(x1[idx1[i]].shape[0])\n",
        "#     plt.scatter(x1[idx1[i]],z,label=\"class_\"+str(i))\n",
        "# plt.legend()\n",
        "\n",
        "plt.scatter(x1[y1==0], y1[y1==0]*0, label='class 0')\n",
        "plt.scatter(x1[y1==1], y1[y1==1]*0, label='class 1')\n",
        "# plt.scatter(x1[y1==2], y1[y1==2]*0, label='class 2')\n",
        "plt.legend()\n",
        "plt.title(\"dataset1 CIN with alpha = 1/\"+str(m))"
      ],
      "execution_count": 1021,
      "outputs": [
        {
          "output_type": "execute_result",
          "data": {
            "text/plain": [
              "Text(0.5, 1.0, 'dataset1 CIN with alpha = 1/100')"
            ]
          },
          "metadata": {},
          "execution_count": 1021
        },
        {
          "output_type": "display_data",
          "data": {
            "image/png": "[encoded data removed]",
            "text/plain": [
              "<Figure size 432x288 with 1 Axes>"
            ]
          },
          "metadata": {
            "needs_background": "light"
          }
        }
      ]
    },
    {
      "cell_type": "code",
      "metadata": {
        "colab": {
          "base_uri": "https://localhost:8080/",
          "height": 305
        },
        "id": "DWQydhG9jg1I",
        "outputId": "455d7ab4-56a9-4912-8f76-eec26ed6647c"
      },
      "source": [
        "x1 = (avg_image_dataset_1).numpy()\n",
        "y1 = np.array(labels_1)\n",
        "\n",
        "idx_1 = y1==0\n",
        "idx_2 = np.where(idx_1==True)[0]\n",
        "idx_3 = np.where(idx_1==False)[0]\n",
        "color = ['#1F77B4','orange', 'brown']\n",
        "\n",
        "true_point = len(idx_2)\n",
        "plt.scatter(x1[idx_2[:25]], y1[idx_2[:25]]*0, label='class 0', c= color[0], marker='o')\n",
        "plt.scatter(x1[idx_3[:25]], y1[idx_3[:25]]*0, label='class 1', c= color[1], marker='o')\n",
        "\n",
        "plt.scatter(x1[idx_3[50:75]], y1[idx_3[50:75]]*0,  c= color[1], marker='o')\n",
        "plt.scatter(x1[idx_2[50:75]], y1[idx_2[50:75]]*0,  c= color[0], marker='o')\n",
        "\n",
        "\n",
        "plt.legend()\n",
        "plt.xticks( fontsize=14, fontweight = 'bold')\n",
        "plt.yticks( fontsize=14, fontweight = 'bold')\n",
        "plt.xlabel(\"X\", fontsize=14, fontweight = 'bold')\n",
        "# plt.savefig(fp_cin+\"ds1_alpha_04.png\", bbox_inches=\"tight\")\n",
        "# plt.savefig(fp_cin+\"ds1_alpha_04.pdf\", bbox_inches=\"tight\")"
      ],
      "execution_count": 1022,
      "outputs": [
        {
          "output_type": "execute_result",
          "data": {
            "text/plain": [
              "Text(0.5, 0, 'X')"
            ]
          },
          "metadata": {},
          "execution_count": 1022
        },
        {
          "output_type": "display_data",
          "data": {
            "image/png": "[encoded data removed]",
            "text/plain": [
              "<Figure size 432x288 with 1 Axes>"
            ]
          },
          "metadata": {
            "needs_background": "light"
          }
        }
      ]
    },
    {
      "cell_type": "code",
      "metadata": {
        "colab": {
          "base_uri": "https://localhost:8080/"
        },
        "id": "bu5Po7YIiLvN",
        "outputId": "c3f1e44f-56a3-432b-d9ea-8eb631616c86"
      },
      "source": [
        "avg_image_dataset_1[0:10]"
      ],
      "execution_count": 1023,
      "outputs": [
        {
          "output_type": "execute_result",
          "data": {
            "text/plain": [
              "tensor([[-0.2787],\n",
              "        [-0.2088],\n",
              "        [-0.0343],\n",
              "        [-0.2561],\n",
              "        [-0.0612],\n",
              "        [-0.0036],\n",
              "        [-0.1076],\n",
              "        [-0.2134],\n",
              "        [-0.0832],\n",
              "        [-0.0384]], dtype=torch.float64)"
            ]
          },
          "metadata": {},
          "execution_count": 1023
        }
      ]
    },
    {
      "cell_type": "code",
      "metadata": {
        "colab": {
          "base_uri": "https://localhost:8080/",
          "height": 299
        },
        "id": "1fhxsxf9384L",
        "outputId": "83f317ef-2692-4cbe-e095-84462ccb98f6"
      },
      "source": [
        "x1 = (test_dataset).numpy()/m\n",
        "y1 = np.array(labels)\n",
        "\n",
        "# idx1 = []\n",
        "# for i in range(3):\n",
        "#   idx1.append(y1 == i)\n",
        "\n",
        "# for i in range(3):\n",
        "#     z = np.zeros(x1[idx1[i]].shape[0])\n",
        "#     plt.scatter(x1[idx1[i]],z,label=\"class_\"+str(i))\n",
        "# plt.legend()\n",
        "\n",
        "plt.scatter(x1[y1==0], y1[y1==0]*0, label='class 0')\n",
        "plt.scatter(x1[y1==1], y1[y1==1]*0, label='class 1')\n",
        "# plt.scatter(x1[y1==2], y1[y1==2]*0, label='class 2')\n",
        "plt.legend()\n",
        "plt.title(\"test dataset1 \")"
      ],
      "execution_count": 1024,
      "outputs": [
        {
          "output_type": "execute_result",
          "data": {
            "text/plain": [
              "Text(0.5, 1.0, 'test dataset1 ')"
            ]
          },
          "metadata": {},
          "execution_count": 1024
        },
        {
          "output_type": "display_data",
          "data": {
            "image/png": "[encoded data removed]",
            "text/plain": [
              "<Figure size 432x288 with 1 Axes>"
            ]
          },
          "metadata": {
            "needs_background": "light"
          }
        }
      ]
    },
    {
      "cell_type": "code",
      "metadata": {
        "colab": {
          "base_uri": "https://localhost:8080/"
        },
        "id": "wa4C_cnogtXE",
        "outputId": "1f82b8c8-3798-4007-9982-df47d2f80e53"
      },
      "source": [
        "test_dataset.numpy()[0:10]/m"
      ],
      "execution_count": 1025,
      "outputs": [
        {
          "output_type": "execute_result",
          "data": {
            "text/plain": [
              "array([[-0.11774076],\n",
              "       [-0.10906993],\n",
              "       [-0.07346514],\n",
              "       [-0.09182247],\n",
              "       [-0.11724094],\n",
              "       [-0.05450785],\n",
              "       [-0.10756336],\n",
              "       [-0.06776301],\n",
              "       [-0.07840183],\n",
              "       [-0.11429495]])"
            ]
          },
          "metadata": {},
          "execution_count": 1025
        }
      ]
    },
    {
      "cell_type": "code",
      "metadata": {
        "id": "3iJoJ0eIhSqz"
      },
      "source": [
        "test_dataset = test_dataset/m"
      ],
      "execution_count": 1026,
      "outputs": []
    },
    {
      "cell_type": "code",
      "metadata": {
        "colab": {
          "base_uri": "https://localhost:8080/"
        },
        "id": "nKl8pSEbhVGU",
        "outputId": "218c400b-93b2-4186-b9f9-7c7749063dc2"
      },
      "source": [
        "test_dataset.numpy()[0:10]"
      ],
      "execution_count": 1027,
      "outputs": [
        {
          "output_type": "execute_result",
          "data": {
            "text/plain": [
              "array([[-0.11774076],\n",
              "       [-0.10906993],\n",
              "       [-0.07346514],\n",
              "       [-0.09182247],\n",
              "       [-0.11724094],\n",
              "       [-0.05450785],\n",
              "       [-0.10756336],\n",
              "       [-0.06776301],\n",
              "       [-0.07840183],\n",
              "       [-0.11429495]])"
            ]
          },
          "metadata": {},
          "execution_count": 1027
        }
      ]
    },
    {
      "cell_type": "code",
      "metadata": {
        "id": "yL0BRf8er0TX"
      },
      "source": [
        "class MosaicDataset(Dataset):\n",
        "  \"\"\"MosaicDataset dataset.\"\"\"\n",
        "\n",
        "  def __init__(self, mosaic_list_of_images, mosaic_label):\n",
        "    \"\"\"\n",
        "      Args:\n",
        "        csv_file (string): Path to the csv file with annotations.\n",
        "        root_dir (string): Directory with all the images.\n",
        "        transform (callable, optional): Optional transform to be applied\n",
        "            on a sample.\n",
        "    \"\"\"\n",
        "    self.mosaic = mosaic_list_of_images\n",
        "    self.label = mosaic_label\n",
        "    #self.fore_idx = fore_idx\n",
        "    \n",
        "  def __len__(self):\n",
        "    return len(self.label)\n",
        "\n",
        "  def __getitem__(self, idx):\n",
        "    return self.mosaic[idx] , self.label[idx] #, self.fore_idx[idx]\n",
        "\n"
      ],
      "execution_count": 1028,
      "outputs": []
    },
    {
      "cell_type": "code",
      "metadata": {
        "colab": {
          "base_uri": "https://localhost:8080/"
        },
        "id": "4KsrW9qL9xgS",
        "outputId": "2d80606d-ec24-4071-df53-58b48e30451c"
      },
      "source": [
        "avg_image_dataset_1[0].shape, avg_image_dataset_1[0]"
      ],
      "execution_count": 1029,
      "outputs": [
        {
          "output_type": "execute_result",
          "data": {
            "text/plain": [
              "(torch.Size([1]), tensor([-0.2787], dtype=torch.float64))"
            ]
          },
          "metadata": {},
          "execution_count": 1029
        }
      ]
    },
    {
      "cell_type": "code",
      "metadata": {
        "id": "EY2l62APygaV"
      },
      "source": [
        "batch = 200\n",
        "\n",
        "traindata_1 = MosaicDataset(avg_image_dataset_1, labels_1 )\n",
        "trainloader_1 = DataLoader( traindata_1 , batch_size= batch ,shuffle=True)\n"
      ],
      "execution_count": 1030,
      "outputs": []
    },
    {
      "cell_type": "code",
      "metadata": {
        "id": "Nh3mBQHZ8bEj"
      },
      "source": [
        "testdata_1 = MosaicDataset(test_dataset, labels )\n",
        "testloader_1 = DataLoader( testdata_1 , batch_size= batch ,shuffle=False)"
      ],
      "execution_count": 1031,
      "outputs": []
    },
    {
      "cell_type": "code",
      "metadata": {
        "id": "5_XeIUk0r0Tl"
      },
      "source": [
        "class Whatnet(nn.Module):\n",
        "    def __init__(self):\n",
        "        super(Whatnet,self).__init__()\n",
        "        self.linear1 = nn.Linear(1,2)\n",
        "        # self.linear2 = nn.Linear(50,10)\n",
        "        # self.linear3 = nn.Linear(10,3)\n",
        "        torch.nn.init.xavier_normal_(self.linear1.weight)\n",
        "        torch.nn.init.zeros_(self.linear1.bias)\n",
        "\n",
        "    def forward(self,x):\n",
        "        # x = F.relu(self.linear1(x))\n",
        "        # x = F.relu(self.linear2(x))\n",
        "        x = (self.linear1(x))\n",
        "\n",
        "        return x"
      ],
      "execution_count": 1032,
      "outputs": []
    },
    {
      "cell_type": "code",
      "metadata": {
        "id": "pjD2VZuV9Ed4"
      },
      "source": [
        "def calculate_loss(dataloader,model,criter):\n",
        "  model.eval()\n",
        "  r_loss = 0\n",
        "  with torch.no_grad():\n",
        "    for i, data in enumerate(dataloader, 0):\n",
        "      inputs, labels = data\n",
        "      inputs, labels = inputs.to(\"cuda\"),labels.to(\"cuda\")\n",
        "      outputs = model(inputs)\n",
        "      loss = criter(outputs, labels)\n",
        "      r_loss += loss.item()\n",
        "  return r_loss/(i+1)"
      ],
      "execution_count": 1033,
      "outputs": []
    },
    {
      "cell_type": "code",
      "metadata": {
        "id": "uALi25pmzQHV"
      },
      "source": [
        "def test_all(number, testloader,net):\n",
        "    correct = 0\n",
        "    total = 0\n",
        "    out = []\n",
        "    pred = []\n",
        "    with torch.no_grad():\n",
        "        for data in testloader:\n",
        "            images, labels = data\n",
        "            images, labels = images.to(\"cuda\"),labels.to(\"cuda\")\n",
        "            out.append(labels.cpu().numpy())\n",
        "            outputs= net(images)\n",
        "            _, predicted = torch.max(outputs.data, 1)\n",
        "            pred.append(predicted.cpu().numpy())\n",
        "            total += labels.size(0)\n",
        "            correct += (predicted == labels).sum().item()\n",
        "    \n",
        "    pred = np.concatenate(pred, axis = 0)\n",
        "    out = np.concatenate(out, axis = 0)\n",
        "    print(\"unique out: \",  np.unique(out), \"unique pred: \", np.unique(pred) )\n",
        "    print(\"correct: \", correct, \"total \",  total)\n",
        "    print('Accuracy of the network on the %d test dataset %d: %.2f %%' % (total, number , 100 * correct / total))"
      ],
      "execution_count": 1034,
      "outputs": []
    },
    {
      "cell_type": "code",
      "metadata": {
        "id": "4vmNprlPzTjP"
      },
      "source": [
        "def train_all(trainloader, ds_number, testloader_list):\n",
        "    \n",
        "    print(\"--\"*40)\n",
        "    print(\"training on data set  \", ds_number)\n",
        "    \n",
        "    torch.manual_seed(12)\n",
        "    net = Whatnet().double()\n",
        "    net = net.to(\"cuda\")\n",
        "    \n",
        "    criterion_net = nn.CrossEntropyLoss()\n",
        "    optimizer_net = optim.Adam(net.parameters(), lr=0.01 ) #, momentum=0.9)\n",
        "    \n",
        "    acti = []\n",
        "    loss_curi = []\n",
        "    epochs = 1500\n",
        "    running_loss = calculate_loss(trainloader,net,criterion_net)\n",
        "    loss_curi.append(running_loss)\n",
        "    print('epoch: [%d ] loss: %.3f' %(0,running_loss)) \n",
        "    for epoch in range(epochs): # loop over the dataset multiple times\n",
        "        ep_lossi = []\n",
        "\n",
        "        running_loss = 0.0\n",
        "        net.train()\n",
        "        for i, data in enumerate(trainloader, 0):\n",
        "            # get the inputs\n",
        "            inputs, labels = data\n",
        "            inputs, labels = inputs.to(\"cuda\"),labels.to(\"cuda\")\n",
        "\n",
        "            # zero the parameter gradients\n",
        "            optimizer_net.zero_grad()\n",
        "\n",
        "            # forward + backward + optimize\n",
        "            outputs = net(inputs)\n",
        "            loss = criterion_net(outputs, labels)\n",
        "            # print statistics\n",
        "            running_loss += loss.item()\n",
        "            loss.backward()\n",
        "            optimizer_net.step()\n",
        "\n",
        "        running_loss = calculate_loss(trainloader,net,criterion_net)\n",
        "        if(epoch%200 == 0):\n",
        "          print('epoch: [%d] loss: %.3f' %(epoch + 1,running_loss)) \n",
        "        loss_curi.append(running_loss)   #loss per epoch\n",
        "        if running_loss<=0.05:\n",
        "          print('epoch: [%d] loss: %.3f' %(epoch + 1,running_loss))\n",
        "          break\n",
        "\n",
        "    print('Finished Training')\n",
        "    \n",
        "    correct = 0\n",
        "    total = 0\n",
        "    with torch.no_grad():\n",
        "        for data in trainloader:\n",
        "            images, labels = data\n",
        "            images, labels = images.to(\"cuda\"), labels.to(\"cuda\")\n",
        "            outputs = net(images)\n",
        "            _, predicted = torch.max(outputs.data, 1)\n",
        "            total += labels.size(0)\n",
        "            correct += (predicted == labels).sum().item()\n",
        "\n",
        "    print('Accuracy of the network on the %d train images: %.2f %%' % (total,  100 * correct / total))\n",
        "    \n",
        "    for i, j in enumerate(testloader_list):\n",
        "        test_all(i+1, j,net)\n",
        "    \n",
        "    print(\"--\"*40)\n",
        "    \n",
        "    return loss_curi, net\n",
        "    "
      ],
      "execution_count": 1049,
      "outputs": []
    },
    {
      "cell_type": "code",
      "metadata": {
        "id": "Yl41sE8vFERk"
      },
      "source": [
        "train_loss_all=[]\n",
        "\n",
        "testloader_list= [ testloader_1 ]"
      ],
      "execution_count": 1050,
      "outputs": []
    },
    {
      "cell_type": "code",
      "metadata": {
        "id": "5gQoPST5zW2t",
        "colab": {
          "base_uri": "https://localhost:8080/"
        },
        "outputId": "537896b3-afbb-4d57-8fbc-b30e69904673"
      },
      "source": [
        "loss, net = train_all(trainloader_1, 1, testloader_list)\n",
        "train_loss_all.append(loss)"
      ],
      "execution_count": 1051,
      "outputs": [
        {
          "output_type": "stream",
          "name": "stdout",
          "text": [
            "--------------------------------------------------------------------------------\n",
            "training on data set   1\n",
            "epoch: [0 ] loss: 0.690\n",
            "epoch: [1] loss: 0.689\n",
            "epoch: [201] loss: 0.682\n",
            "epoch: [401] loss: 0.682\n",
            "epoch: [601] loss: 0.682\n",
            "epoch: [801] loss: 0.682\n",
            "epoch: [1001] loss: 0.682\n",
            "epoch: [1201] loss: 0.682\n",
            "epoch: [1401] loss: 0.682\n",
            "Finished Training\n",
            "Accuracy of the network on the 2000 train images: 56.20 %\n",
            "unique out:  [0 1] unique pred:  [0 1]\n",
            "correct:  1922 total  2000\n",
            "Accuracy of the network on the 2000 test dataset 1: 96.10 %\n",
            "--------------------------------------------------------------------------------\n"
          ]
        }
      ]
    },
    {
      "cell_type": "code",
      "metadata": {
        "colab": {
          "base_uri": "https://localhost:8080/"
        },
        "id": "1PKuWWdcic_T",
        "outputId": "d265e50a-b777-42fb-a4cd-e8b50ac28a2f"
      },
      "source": [
        "net.linear1.weight, net.linear1.bias"
      ],
      "execution_count": 1048,
      "outputs": [
        {
          "output_type": "execute_result",
          "data": {
            "text/plain": [
              "(Parameter containing:\n",
              " tensor([[-0.9630],\n",
              "         [ 1.2871]], device='cuda:0', dtype=torch.float64, requires_grad=True),\n",
              " Parameter containing:\n",
              " tensor([-0.0838,  0.0838], device='cuda:0', dtype=torch.float64,\n",
              "        requires_grad=True))"
            ]
          },
          "metadata": {},
          "execution_count": 1048
        }
      ]
    },
    {
      "cell_type": "code",
      "metadata": {
        "id": "In76SYH_zZHV"
      },
      "source": [
        "%matplotlib inline"
      ],
      "execution_count": 1039,
      "outputs": []
    },
    {
      "cell_type": "code",
      "metadata": {
        "id": "BS4HtOHEzZ0E",
        "colab": {
          "base_uri": "https://localhost:8080/",
          "height": 297
        },
        "outputId": "0a5ec3ad-420b-4d3d-de40-7524d564881e"
      },
      "source": [
        "for i,j in enumerate(train_loss_all):\n",
        "    plt.plot(j,label =\"dataset \"+str(i+1))\n",
        "    \n",
        "\n",
        "plt.xlabel(\"Epochs\")\n",
        "plt.ylabel(\"Training_loss\")\n",
        "\n",
        "plt.legend(loc='center left', bbox_to_anchor=(1, 0.5))"
      ],
      "execution_count": 1040,
      "outputs": [
        {
          "output_type": "execute_result",
          "data": {
            "text/plain": [
              "<matplotlib.legend.Legend at 0x7f4e1fde0890>"
            ]
          },
          "metadata": {},
          "execution_count": 1040
        },
        {
          "output_type": "display_data",
          "data": {
            "image/png": "[encoded data removed]",
            "text/plain": [
              "<Figure size 432x288 with 1 Axes>"
            ]
          },
          "metadata": {
            "needs_background": "light"
          }
        }
      ]
    },
    {
      "cell_type": "code",
      "metadata": {
        "id": "1UbTkfLUINTI"
      },
      "source": [
        ""
      ],
      "execution_count": 1040,
      "outputs": []
    }
  ]
}