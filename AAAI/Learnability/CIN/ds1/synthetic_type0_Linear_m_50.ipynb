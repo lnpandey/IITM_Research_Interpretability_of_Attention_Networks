{
  "nbformat": 4,
  "nbformat_minor": 0,
  "metadata": {
    "accelerator": "GPU",
    "colab": {
      "name": "synthetic_type0_Linear_m_5.ipynb",
      "provenance": [],
      "collapsed_sections": []
    },
    "kernelspec": {
      "display_name": "Python 3",
      "language": "python",
      "name": "python3"
    },
    "language_info": {
      "codemirror_mode": {
        "name": "ipython",
        "version": 3
      },
      "file_extension": ".py",
      "mimetype": "text/x-python",
      "name": "python",
      "nbconvert_exporter": "python",
      "pygments_lexer": "ipython3",
      "version": "3.6.5"
    }
  },
  "cells": [
    {
      "cell_type": "code",
      "metadata": {
        "colab": {
          "base_uri": "https://localhost:8080/"
        },
        "id": "N2_J4Rw2r0SQ",
        "outputId": "6a581100-9b75-45c2-b674-136f99a04bad"
      },
      "source": [
        "import numpy as np\n",
        "import pandas as pd\n",
        "from matplotlib import pyplot as plt\n",
        "from tqdm import tqdm\n",
        "%matplotlib inline\n",
        "from torch.utils.data import Dataset, DataLoader\n",
        "import torch\n",
        "import torchvision\n",
        "\n",
        "import torch.nn as nn\n",
        "import torch.optim as optim\n",
        "from torch.nn import functional as F\n",
        "device = torch.device(\"cuda\" if torch.cuda.is_available() else \"cpu\")\n",
        "print(device)"
      ],
      "execution_count": 205,
      "outputs": [
        {
          "output_type": "stream",
          "name": "stdout",
          "text": [
            "cuda\n"
          ]
        }
      ]
    },
    {
      "cell_type": "code",
      "metadata": {
        "id": "y9cP_3OWFHdo"
      },
      "source": [
        "torch.backends.cudnn.deterministic = True\n",
        "torch.backends.cudnn.benchmark= False"
      ],
      "execution_count": 206,
      "outputs": []
    },
    {
      "cell_type": "code",
      "metadata": {
        "id": "xR3b9hhxzqKB"
      },
      "source": [
        "m = 50"
      ],
      "execution_count": 207,
      "outputs": []
    },
    {
      "cell_type": "markdown",
      "metadata": {
        "id": "F6fjud_Fr0Sa"
      },
      "source": [
        "# Generate dataset"
      ]
    },
    {
      "cell_type": "code",
      "metadata": {
        "colab": {
          "base_uri": "https://localhost:8080/"
        },
        "id": "CqdXHO0Cr0Sd",
        "outputId": "37e0d627-4f3c-4ca3-a35e-665fd1434550"
      },
      "source": [
        "np.random.seed(12)\n",
        "y = np.random.randint(0,3,500)\n",
        "idx= []\n",
        "for i in range(3):\n",
        "    print(i,sum(y==i))\n",
        "    idx.append(y==i)"
      ],
      "execution_count": 208,
      "outputs": [
        {
          "output_type": "stream",
          "name": "stdout",
          "text": [
            "0 174\n",
            "1 163\n",
            "2 163\n"
          ]
        }
      ]
    },
    {
      "cell_type": "code",
      "metadata": {
        "id": "ddhXyODwr0Sk"
      },
      "source": [
        "x = np.zeros((500,))"
      ],
      "execution_count": 209,
      "outputs": []
    },
    {
      "cell_type": "code",
      "metadata": {
        "id": "DyV3N2DIr0Sp"
      },
      "source": [
        "np.random.seed(12)\n",
        "x[idx[0]] = np.random.uniform(low =-1,high =0,size= sum(idx[0]))\n",
        "x[idx[1]] = np.random.uniform(low =0,high =1,size= sum(idx[1]))\n",
        "x[idx[2]] = np.random.uniform(low =2,high =3,size= sum(idx[2]))"
      ],
      "execution_count": 210,
      "outputs": []
    },
    {
      "cell_type": "code",
      "metadata": {
        "colab": {
          "base_uri": "https://localhost:8080/"
        },
        "id": "qh1mDScsU07I",
        "outputId": "bc30dff2-18e0-42a8-e991-f78ed4a973e7"
      },
      "source": [
        "x[idx[0]][0], x[idx[2]][5] "
      ],
      "execution_count": 211,
      "outputs": [
        {
          "output_type": "execute_result",
          "data": {
            "text/plain": [
              "(-0.8458371576203276, 2.2459800877058114)"
            ]
          },
          "metadata": {},
          "execution_count": 211
        }
      ]
    },
    {
      "cell_type": "code",
      "metadata": {
        "colab": {
          "base_uri": "https://localhost:8080/"
        },
        "id": "9Vr5ErQ_wSrV",
        "outputId": "8a56e704-f146-45fc-92b2-b7e22d820612"
      },
      "source": [
        "print(x.shape,y.shape)"
      ],
      "execution_count": 212,
      "outputs": [
        {
          "output_type": "stream",
          "name": "stdout",
          "text": [
            "(500,) (500,)\n"
          ]
        }
      ]
    },
    {
      "cell_type": "code",
      "metadata": {
        "id": "NG-3RpffwU_i"
      },
      "source": [
        "idx= []\n",
        "for i in range(3):\n",
        "  idx.append(y==i)"
      ],
      "execution_count": 213,
      "outputs": []
    },
    {
      "cell_type": "code",
      "metadata": {
        "colab": {
          "base_uri": "https://localhost:8080/",
          "height": 283
        },
        "id": "hJ8Jm7YUr0St",
        "outputId": "0dc4bdb9-24a8-4aab-cc47-75a9f1b50251"
      },
      "source": [
        "for i in range(3):\n",
        "    y= np.zeros(x[idx[i]].shape[0])\n",
        "    plt.scatter(x[idx[i]],y,label=\"class_\"+str(i))\n",
        "plt.legend()"
      ],
      "execution_count": 214,
      "outputs": [
        {
          "output_type": "execute_result",
          "data": {
            "text/plain": [
              "<matplotlib.legend.Legend at 0x7fb16eef6910>"
            ]
          },
          "metadata": {},
          "execution_count": 214
        },
        {
          "output_type": "display_data",
          "data": {
            "image/png": "[encoded data removed]",
            "text/plain": [
              "<Figure size 432x288 with 1 Axes>"
            ]
          },
          "metadata": {
            "needs_background": "light"
          }
        }
      ]
    },
    {
      "cell_type": "code",
      "metadata": {
        "colab": {
          "base_uri": "https://localhost:8080/"
        },
        "id": "3lMBZEHNBlF2",
        "outputId": "961ab777-ec52-453c-9f8e-9237765334d1"
      },
      "source": [
        "bg_idx = [ np.where(idx[2] == True)[0]]\n",
        "\n",
        "bg_idx = np.concatenate(bg_idx, axis = 0)\n",
        "bg_idx.shape"
      ],
      "execution_count": 215,
      "outputs": [
        {
          "output_type": "execute_result",
          "data": {
            "text/plain": [
              "(163,)"
            ]
          },
          "metadata": {},
          "execution_count": 215
        }
      ]
    },
    {
      "cell_type": "code",
      "metadata": {
        "colab": {
          "base_uri": "https://localhost:8080/"
        },
        "id": "blRbGZHeCwXU",
        "outputId": "9d4bdc3c-aabf-4779-fce2-38ab3be71d33"
      },
      "source": [
        "np.unique(bg_idx).shape"
      ],
      "execution_count": 216,
      "outputs": [
        {
          "output_type": "execute_result",
          "data": {
            "text/plain": [
              "(163,)"
            ]
          },
          "metadata": {},
          "execution_count": 216
        }
      ]
    },
    {
      "cell_type": "code",
      "metadata": {
        "id": "Y43sWeX7C15F"
      },
      "source": [
        "x = x - np.mean(x[bg_idx], axis = 0, keepdims = True)\n"
      ],
      "execution_count": 217,
      "outputs": []
    },
    {
      "cell_type": "code",
      "metadata": {
        "colab": {
          "base_uri": "https://localhost:8080/"
        },
        "id": "ooII7N6UDWe0",
        "outputId": "827a50db-cd86-4412-e6a3-9789e441bc80"
      },
      "source": [
        "np.mean(x[bg_idx], axis = 0, keepdims = True), np.mean(x, axis = 0, keepdims = True)"
      ],
      "execution_count": 218,
      "outputs": [
        {
          "output_type": "execute_result",
          "data": {
            "text/plain": [
              "(array([-1.00805526e-16]), array([-1.7163962]))"
            ]
          },
          "metadata": {},
          "execution_count": 218
        }
      ]
    },
    {
      "cell_type": "code",
      "metadata": {
        "id": "g21bvPRYDL9k"
      },
      "source": [
        "x = x/np.std(x[bg_idx], axis = 0, keepdims = True)"
      ],
      "execution_count": 219,
      "outputs": []
    },
    {
      "cell_type": "code",
      "metadata": {
        "colab": {
          "base_uri": "https://localhost:8080/"
        },
        "id": "GtFvIeHsDZJk",
        "outputId": "22ffbbf9-d7fe-4178-f507-74b68c3945d2"
      },
      "source": [
        "np.std(x[bg_idx], axis = 0, keepdims = True), np.std(x, axis = 0, keepdims = True)"
      ],
      "execution_count": 220,
      "outputs": [
        {
          "output_type": "execute_result",
          "data": {
            "text/plain": [
              "(array([1.]), array([4.37808847]))"
            ]
          },
          "metadata": {},
          "execution_count": 220
        }
      ]
    },
    {
      "cell_type": "code",
      "metadata": {
        "colab": {
          "base_uri": "https://localhost:8080/",
          "height": 283
        },
        "id": "8-VLhUfDDeHt",
        "outputId": "2fde0498-7098-4b25-9fdc-90831bed7359"
      },
      "source": [
        "for i in range(3):\n",
        "    y= np.zeros(x[idx[i]].shape[0])\n",
        "    plt.scatter(x[idx[i]],y,label=\"class_\"+str(i))\n",
        "plt.legend()"
      ],
      "execution_count": 221,
      "outputs": [
        {
          "output_type": "execute_result",
          "data": {
            "text/plain": [
              "<matplotlib.legend.Legend at 0x7fb16ee52c10>"
            ]
          },
          "metadata": {},
          "execution_count": 221
        },
        {
          "output_type": "display_data",
          "data": {
            "image/png": "[encoded data removed]",
            "text/plain": [
              "<Figure size 432x288 with 1 Axes>"
            ]
          },
          "metadata": {
            "needs_background": "light"
          }
        }
      ]
    },
    {
      "cell_type": "code",
      "metadata": {
        "id": "UfFHcZJOr0Sz"
      },
      "source": [
        "foreground_classes = {'class_0','class_1' }\n",
        "\n",
        "background_classes = {'class_2'}"
      ],
      "execution_count": 222,
      "outputs": []
    },
    {
      "cell_type": "code",
      "metadata": {
        "colab": {
          "base_uri": "https://localhost:8080/"
        },
        "id": "OplNpNQVr0S2",
        "outputId": "7d4d94b4-1d6a-45fd-b3c3-51cd777c0286"
      },
      "source": [
        "fg_class  = np.random.randint(0,2)\n",
        "fg_idx = np.random.randint(0,m)\n",
        "\n",
        "a = []\n",
        "for i in range(m):\n",
        "    if i == fg_idx:\n",
        "        b = np.random.choice(np.where(idx[fg_class]==True)[0],size=1)\n",
        "        a.append(x[b])\n",
        "        print(\"foreground \"+str(fg_class)+\" present at \" + str(fg_idx))\n",
        "    else:\n",
        "        bg_class = np.random.randint(2,3)\n",
        "        b = np.random.choice(np.where(idx[bg_class]==True)[0],size=1)\n",
        "        a.append(x[b])\n",
        "        print(\"background \"+str(bg_class)+\" present at \" + str(i))\n",
        "a = np.concatenate(a,axis=0)\n",
        "print(a.shape)\n",
        "\n",
        "print(fg_class , fg_idx)"
      ],
      "execution_count": 223,
      "outputs": [
        {
          "output_type": "stream",
          "name": "stdout",
          "text": [
            "background 2 present at 0\n",
            "background 2 present at 1\n",
            "background 2 present at 2\n",
            "background 2 present at 3\n",
            "background 2 present at 4\n",
            "background 2 present at 5\n",
            "background 2 present at 6\n",
            "background 2 present at 7\n",
            "foreground 1 present at 8\n",
            "background 2 present at 9\n",
            "background 2 present at 10\n",
            "background 2 present at 11\n",
            "background 2 present at 12\n",
            "background 2 present at 13\n",
            "background 2 present at 14\n",
            "background 2 present at 15\n",
            "background 2 present at 16\n",
            "background 2 present at 17\n",
            "background 2 present at 18\n",
            "background 2 present at 19\n",
            "background 2 present at 20\n",
            "background 2 present at 21\n",
            "background 2 present at 22\n",
            "background 2 present at 23\n",
            "background 2 present at 24\n",
            "background 2 present at 25\n",
            "background 2 present at 26\n",
            "background 2 present at 27\n",
            "background 2 present at 28\n",
            "background 2 present at 29\n",
            "background 2 present at 30\n",
            "background 2 present at 31\n",
            "background 2 present at 32\n",
            "background 2 present at 33\n",
            "background 2 present at 34\n",
            "background 2 present at 35\n",
            "background 2 present at 36\n",
            "background 2 present at 37\n",
            "background 2 present at 38\n",
            "background 2 present at 39\n",
            "background 2 present at 40\n",
            "background 2 present at 41\n",
            "background 2 present at 42\n",
            "background 2 present at 43\n",
            "background 2 present at 44\n",
            "background 2 present at 45\n",
            "background 2 present at 46\n",
            "background 2 present at 47\n",
            "background 2 present at 48\n",
            "background 2 present at 49\n",
            "(50,)\n",
            "1 8\n"
          ]
        }
      ]
    },
    {
      "cell_type": "code",
      "metadata": {
        "colab": {
          "base_uri": "https://localhost:8080/"
        },
        "id": "dwZVmmRBr0S8",
        "outputId": "9cb2cc6f-d534-40d9-a1ed-71444c2d8ae8"
      },
      "source": [
        "a.shape"
      ],
      "execution_count": 224,
      "outputs": [
        {
          "output_type": "execute_result",
          "data": {
            "text/plain": [
              "(50,)"
            ]
          },
          "metadata": {},
          "execution_count": 224
        }
      ]
    },
    {
      "cell_type": "code",
      "metadata": {
        "colab": {
          "base_uri": "https://localhost:8080/"
        },
        "id": "OoxzYI-ur0S_",
        "outputId": "64fda705-9344-4d8a-d39f-4ae123b5e65c"
      },
      "source": [
        "np.reshape(a,(m,1))"
      ],
      "execution_count": 225,
      "outputs": [
        {
          "output_type": "execute_result",
          "data": {
            "text/plain": [
              "array([[-0.80241043],\n",
              "       [ 1.00228507],\n",
              "       [-0.81132988],\n",
              "       [ 1.2774409 ],\n",
              "       [ 0.57398646],\n",
              "       [-0.91850331],\n",
              "       [ 0.6600648 ],\n",
              "       [ 0.57398646],\n",
              "       [-7.63155537],\n",
              "       [ 0.13695373],\n",
              "       [-1.44264034],\n",
              "       [ 0.71837826],\n",
              "       [ 1.08544127],\n",
              "       [ 1.55171236],\n",
              "       [ 0.4152144 ],\n",
              "       [-1.15692643],\n",
              "       [-1.62776348],\n",
              "       [ 0.65339431],\n",
              "       [ 0.44998336],\n",
              "       [-1.35067387],\n",
              "       [-0.1541663 ],\n",
              "       [ 1.2774409 ],\n",
              "       [ 0.44998336],\n",
              "       [ 1.20061574],\n",
              "       [-0.83952364],\n",
              "       [ 0.46279645],\n",
              "       [-0.90487837],\n",
              "       [ 0.8325454 ],\n",
              "       [-0.41161127],\n",
              "       [-0.94524964],\n",
              "       [-0.2407784 ],\n",
              "       [ 0.80282356],\n",
              "       [ 0.18678022],\n",
              "       [ 0.41553291],\n",
              "       [ 0.99304358],\n",
              "       [-0.94524964],\n",
              "       [-1.44264034],\n",
              "       [-1.36429042],\n",
              "       [-0.36474865],\n",
              "       [ 0.1392267 ],\n",
              "       [ 0.1428216 ],\n",
              "       [-1.08085196],\n",
              "       [ 0.6600648 ],\n",
              "       [-1.17697967],\n",
              "       [-0.29918788],\n",
              "       [-1.35067387],\n",
              "       [ 0.34820546],\n",
              "       [ 1.35486532],\n",
              "       [-1.3759762 ],\n",
              "       [ 0.98589978]])"
            ]
          },
          "metadata": {},
          "execution_count": 225
        }
      ]
    },
    {
      "cell_type": "code",
      "metadata": {
        "id": "jqbvfbwVr0TN"
      },
      "source": [
        "desired_num = 2000\n",
        "mosaic_list_of_images =[]\n",
        "mosaic_label = []\n",
        "fore_idx=[]\n",
        "for j in range(desired_num):\n",
        "    np.random.seed(j)\n",
        "    fg_class  = np.random.randint(0,2)\n",
        "    fg_idx = np.random.randint(0,m)\n",
        "    a = []\n",
        "    for i in range(m):\n",
        "        if i == fg_idx:\n",
        "            b = np.random.choice(np.where(idx[fg_class]==True)[0],size=1)\n",
        "            a.append(x[b])\n",
        "#             print(\"foreground \"+str(fg_class)+\" present at \" + str(fg_idx))\n",
        "        else:\n",
        "            bg_class = np.random.randint(2,3)\n",
        "            b = np.random.choice(np.where(idx[bg_class]==True)[0],size=1)\n",
        "            a.append(x[b])\n",
        "#             print(\"background \"+str(bg_class)+\" present at \" + str(i))\n",
        "    a = np.concatenate(a,axis=0)\n",
        "    mosaic_list_of_images.append(np.reshape(a,(m,1)))\n",
        "    mosaic_label.append(fg_class)\n",
        "    fore_idx.append(fg_idx)"
      ],
      "execution_count": 226,
      "outputs": []
    },
    {
      "cell_type": "code",
      "metadata": {
        "id": "BOsFmWfMr0TR",
        "colab": {
          "base_uri": "https://localhost:8080/"
        },
        "outputId": "e0a713b3-ec01-4330-83ed-795d4b80bdbf"
      },
      "source": [
        "mosaic_list_of_images = np.concatenate(mosaic_list_of_images,axis=1).T\n",
        "mosaic_list_of_images.shape"
      ],
      "execution_count": 227,
      "outputs": [
        {
          "output_type": "execute_result",
          "data": {
            "text/plain": [
              "(2000, 50)"
            ]
          },
          "metadata": {},
          "execution_count": 227
        }
      ]
    },
    {
      "cell_type": "code",
      "metadata": {
        "colab": {
          "base_uri": "https://localhost:8080/"
        },
        "id": "2aIPMgLXNiXW",
        "outputId": "29b35b77-4963-440d-caae-3a930623f175"
      },
      "source": [
        "mosaic_list_of_images.shape, mosaic_list_of_images[0]"
      ],
      "execution_count": 228,
      "outputs": [
        {
          "output_type": "execute_result",
          "data": {
            "text/plain": [
              "((2000, 50), array([  1.43580093,   0.13695373,  -0.4252276 ,  -0.91850331,\n",
              "         -0.12909751,  -1.73154424,   0.75582313,   0.6640638 ,\n",
              "         -0.1541663 ,   0.8325454 ,   1.31922113,  -0.41161127,\n",
              "          0.75582313,  -0.1541663 ,  -0.90487837,   0.26551966,\n",
              "          1.41734616,  -1.35067387,  -0.91850331,  -0.84877745,\n",
              "          0.41497164,   0.22843592,   0.41204831,   1.03957183,\n",
              "         -0.42473802,  -1.74493859,  -1.74493859,  -1.43069628,\n",
              "         -0.29918788,  -0.91850331,  -1.46523851,  -0.29918788,\n",
              "          0.71837826,  -1.3759762 ,   0.65339431,   0.34586581,\n",
              "          1.62014849,   0.34820546,   0.34820546,  -0.2407784 ,\n",
              "          0.78170047,  -0.52917724,   1.39799803,   0.22843592,\n",
              "         -1.20787928,   1.04960385,  -1.15692643, -10.78050309,\n",
              "         -1.54993781,  -0.99267185]))"
            ]
          },
          "metadata": {},
          "execution_count": 228
        }
      ]
    },
    {
      "cell_type": "code",
      "metadata": {
        "colab": {
          "base_uri": "https://localhost:8080/"
        },
        "id": "A3qcsbbzPfRG",
        "outputId": "c5819f5f-0f3c-4018-a5a1-d5bb42f99b48"
      },
      "source": [
        "for j in range(m):\n",
        "  print(mosaic_list_of_images[0][j])\n",
        "  "
      ],
      "execution_count": 229,
      "outputs": [
        {
          "output_type": "stream",
          "name": "stdout",
          "text": [
            "1.4358009314866034\n",
            "0.13695372724012772\n",
            "-0.4252275951078302\n",
            "-0.9185033095974854\n",
            "-0.12909750858981067\n",
            "-1.7315442430857817\n",
            "0.7558231343879587\n",
            "0.6640638025673503\n",
            "-0.15416630449113\n",
            "0.832545401567119\n",
            "1.3192211298342615\n",
            "-0.411611268813296\n",
            "0.7558231343879587\n",
            "-0.15416630449113\n",
            "-0.9048783650832936\n",
            "0.2655196567190298\n",
            "1.4173461573148838\n",
            "-1.3506738707130648\n",
            "-0.9185033095974854\n",
            "-0.8487774501542434\n",
            "0.41497163990658553\n",
            "0.22843592432187756\n",
            "0.4120483059558463\n",
            "1.039571830882509\n",
            "-0.42473802055748705\n",
            "-1.7449385946476759\n",
            "-1.7449385946476759\n",
            "-1.4306962812399096\n",
            "-0.2991878808509575\n",
            "-0.9185033095974854\n",
            "-1.4652385079352608\n",
            "-0.2991878808509575\n",
            "0.7183782579402468\n",
            "-1.3759761997330582\n",
            "0.6533943080642937\n",
            "0.345865811484694\n",
            "1.6201484942286413\n",
            "0.34820546484848275\n",
            "0.34820546484848275\n",
            "-0.24077840436878184\n",
            "0.7817004669153338\n",
            "-0.529177237043516\n",
            "1.397998025695915\n",
            "0.22843592432187756\n",
            "-1.2078792839203505\n",
            "1.0496038541198456\n",
            "-1.1569264275370823\n",
            "-10.780503085215361\n",
            "-1.5499378105140722\n",
            "-0.992671849313759\n"
          ]
        }
      ]
    },
    {
      "cell_type": "code",
      "metadata": {
        "colab": {
          "base_uri": "https://localhost:8080/"
        },
        "id": "Q4X6ZiHrwL-m",
        "outputId": "688b3915-1524-4950-e111-a00123faf5be"
      },
      "source": [
        "mosaic_list_of_images[0:2], mosaic_list_of_images[1000:1002]"
      ],
      "execution_count": 230,
      "outputs": [
        {
          "output_type": "execute_result",
          "data": {
            "text/plain": [
              "(array([[  1.43580093,   0.13695373,  -0.4252276 ,  -0.91850331,\n",
              "          -0.12909751,  -1.73154424,   0.75582313,   0.6640638 ,\n",
              "          -0.1541663 ,   0.8325454 ,   1.31922113,  -0.41161127,\n",
              "           0.75582313,  -0.1541663 ,  -0.90487837,   0.26551966,\n",
              "           1.41734616,  -1.35067387,  -0.91850331,  -0.84877745,\n",
              "           0.41497164,   0.22843592,   0.41204831,   1.03957183,\n",
              "          -0.42473802,  -1.74493859,  -1.74493859,  -1.43069628,\n",
              "          -0.29918788,  -0.91850331,  -1.46523851,  -0.29918788,\n",
              "           0.71837826,  -1.3759762 ,   0.65339431,   0.34586581,\n",
              "           1.62014849,   0.34820546,   0.34820546,  -0.2407784 ,\n",
              "           0.78170047,  -0.52917724,   1.39799803,   0.22843592,\n",
              "          -1.20787928,   1.04960385,  -1.15692643, -10.78050309,\n",
              "          -1.54993781,  -0.99267185],\n",
              "        [  0.8325454 ,  -1.35067387,   0.94269703,   0.78170047,\n",
              "           0.22843592,   0.95437629,   0.28699413,   1.00228507,\n",
              "          -0.44339937,   0.26551966,  -0.81132988,  -1.21801511,\n",
              "          -1.0567665 ,  -1.08182983,  -0.59511662,  -0.52162168,\n",
              "          -1.43069628,   1.4747136 ,   1.14462928,   1.37191625,\n",
              "           1.2774409 ,  -1.53175495,   0.94269703,  -0.53607891,\n",
              "           0.51783775,   1.34835784,   0.80282356,  -1.57358463,\n",
              "          -0.99267185,   0.34820546,   0.18678022,  -1.73714097,\n",
              "          -1.53175495,   0.41497164,   0.97606684,   1.40413128,\n",
              "           1.00228507,  -0.9959213 ,  -1.27266268,  -0.11183672,\n",
              "          -1.57358463,  -1.39140608,  -0.48596823,  -7.61361208,\n",
              "          -0.16386973,   0.41553291,  -1.36429042,   0.99304358,\n",
              "          -0.18434348,   0.41497164]]),\n",
              " array([[ 1.00228507,  1.00115933,  0.27034648, -0.99267185,  0.34820546,\n",
              "          1.22075701,  0.1428216 , -0.75894025,  1.04960385,  0.27034648,\n",
              "         -1.73154424, -1.15692643,  1.31922113, -0.84877745,  1.40413128,\n",
              "         -0.1541663 ,  0.65339431, -0.75011909, -0.59511662, -0.75011909,\n",
              "         -0.59511662, -0.5854355 , -0.75011909, -7.06123448,  1.34835784,\n",
              "         -1.05931124, -0.36474865, -1.5721298 , -1.44264034,  1.4747136 ,\n",
              "         -0.12909751,  0.41553291, -0.72988   , -0.53607891,  0.95437629,\n",
              "          0.75582313,  0.27034648,  1.30533553, -0.94524964, -0.363319  ,\n",
              "          0.71837826, -0.75011909, -0.18434348, -1.0567665 , -0.99267185,\n",
              "         -0.36474865, -1.08085196, -0.70196915,  0.22843592, -0.55976305],\n",
              "        [ 1.40413128,  0.44998336,  0.44998336, -0.03809035,  1.03957183,\n",
              "          0.83122375, -1.20787928, -1.53175495,  0.75582313, -8.42037468,\n",
              "         -0.80241043,  0.8325454 ,  1.39236683,  1.00274723,  1.14462928,\n",
              "         -0.11183672,  0.26551966,  0.44998336,  1.00274723,  1.21300931,\n",
              "          1.08544127, -0.41161127,  0.80282356,  1.00228507, -1.28104385,\n",
              "         -0.12909751,  1.37191625, -1.33059033, -1.62776348,  0.41204831,\n",
              "         -0.70196915, -0.42473802, -0.44339937,  1.39806093,  0.18678022,\n",
              "         -1.21801511,  1.28615767,  1.50127618, -0.75011909, -0.59511662,\n",
              "         -0.75894025,  0.02575601, -1.36429042, -0.29918788,  1.39799803,\n",
              "         -0.52900357, -1.36429042,  0.8325454 ,  0.06313378, -1.15692643]]))"
            ]
          },
          "metadata": {},
          "execution_count": 230
        }
      ]
    },
    {
      "cell_type": "code",
      "metadata": {
        "colab": {
          "base_uri": "https://localhost:8080/"
        },
        "id": "sdS6A6MAUIWU",
        "outputId": "f9ab5266-2943-48d4-e671-c3f8ab9d7e74"
      },
      "source": [
        "0.2*-2.32955771 + 0.2*0.86577398 + 0.2*0.79067386 + 0.2*0.65150581 + 0.2*0.79065145"
      ],
      "execution_count": 231,
      "outputs": [
        {
          "output_type": "execute_result",
          "data": {
            "text/plain": [
              "0.153809478"
            ]
          },
          "metadata": {},
          "execution_count": 231
        }
      ]
    },
    {
      "cell_type": "code",
      "metadata": {
        "colab": {
          "base_uri": "https://localhost:8080/"
        },
        "id": "Fq6xvcZY1Nf3",
        "outputId": "fb47ea44-c250-469e-8a36-dec08da978fd"
      },
      "source": [
        "np.zeros(5)"
      ],
      "execution_count": 232,
      "outputs": [
        {
          "output_type": "execute_result",
          "data": {
            "text/plain": [
              "array([0., 0., 0., 0., 0.])"
            ]
          },
          "metadata": {},
          "execution_count": 232
        }
      ]
    },
    {
      "cell_type": "code",
      "metadata": {
        "id": "iPoIwbMHx44n"
      },
      "source": [
        "def create_avg_image_from_mosaic_dataset(mosaic_dataset,labels,foreground_index,dataset_number, m):\n",
        "  \"\"\"\n",
        "  mosaic_dataset : mosaic_dataset contains 9 images 32 x 32 each as 1 data point\n",
        "  labels : mosaic_dataset labels\n",
        "  foreground_index : contains list of indexes where foreground image is present so that using this we can take weighted average\n",
        "  dataset_number : will help us to tell what ratio of foreground image to be taken. for eg: if it is \"j\" then fg_image_ratio = j/9 , bg_image_ratio = (9-j)/8*9\n",
        "  \"\"\"\n",
        "  avg_image_dataset = []\n",
        "  cnt = 0\n",
        "  counter = np.zeros(m)\n",
        "  for i in range(len(mosaic_dataset)):\n",
        "    img = torch.zeros([1], dtype=torch.float64)\n",
        "    np.random.seed(int(dataset_number*10000 + i))\n",
        "    give_pref = foreground_index[i] #np.random.randint(0,9)\n",
        "    # print(\"outside\", give_pref,foreground_index[i])\n",
        "    for j in range(m):\n",
        "      if j == give_pref:\n",
        "        img = img + mosaic_dataset[i][j]*dataset_number/m   #2 is data dim\n",
        "      else :\n",
        "        img = img + mosaic_dataset[i][j]*(m-dataset_number)/((m-1)*m)\n",
        "\n",
        "    if give_pref == foreground_index[i] :\n",
        "      # print(\"equal are\", give_pref,foreground_index[i])\n",
        "      cnt += 1\n",
        "      counter[give_pref] += 1\n",
        "    else :\n",
        "      counter[give_pref] += 1\n",
        "\n",
        "    avg_image_dataset.append(img)\n",
        "\n",
        "  print(\"number of correct averaging happened for dataset \"+str(dataset_number)+\" is \"+str(cnt)) \n",
        "  print(\"the averaging are done as \", counter) \n",
        "  return avg_image_dataset , labels , foreground_index\n",
        "        \n",
        "  "
      ],
      "execution_count": 233,
      "outputs": []
    },
    {
      "cell_type": "code",
      "metadata": {
        "colab": {
          "base_uri": "https://localhost:8080/"
        },
        "id": "30ZAjix3x8CM",
        "outputId": "4123b2b1-df0d-41ab-b7ec-acb072c9804e"
      },
      "source": [
        "avg_image_dataset_1 , labels_1,  fg_index_1 = create_avg_image_from_mosaic_dataset(mosaic_list_of_images[0:1000], mosaic_label[0:1000], fore_idx[0:1000] , 1, m)\n",
        "\n",
        "test_dataset , labels , fg_index = create_avg_image_from_mosaic_dataset(mosaic_list_of_images[1000:2000], mosaic_label[1000:2000], fore_idx[1000:2000] , m, m)"
      ],
      "execution_count": 234,
      "outputs": [
        {
          "output_type": "stream",
          "name": "stdout",
          "text": [
            "number of correct averaging happened for dataset 1 is 1000\n",
            "the averaging are done as  [20. 22. 22. 17. 18. 24. 27. 22. 15. 19. 16. 21. 26. 14. 17. 13. 29. 16.\n",
            " 24. 19. 18. 15. 23. 24. 19. 21. 29. 14. 28. 17. 21. 26. 19. 21. 18. 16.\n",
            "  6. 16. 21. 23. 18. 18. 24. 20. 18. 19. 23. 17. 24. 23.]\n",
            "number of correct averaging happened for dataset 50 is 1000\n",
            "the averaging are done as  [28. 24. 27. 11. 13. 12. 20. 20. 18. 18. 16. 15. 17. 15. 23. 23. 24. 26.\n",
            " 10. 25. 19. 21. 19. 20. 18. 22. 18. 18. 23. 20. 22. 12. 16. 19. 29. 33.\n",
            " 14. 19. 20. 28. 23. 24. 17. 24. 17. 11. 22. 24. 20. 23.]\n"
          ]
        }
      ]
    },
    {
      "cell_type": "code",
      "metadata": {
        "id": "0dYXnywAD-4l"
      },
      "source": [
        "avg_image_dataset_1 = torch.stack(avg_image_dataset_1, axis = 0)\n",
        "\n",
        "# mean = torch.mean(avg_image_dataset_1, keepdims= True, axis = 0)\n",
        "# std = torch.std(avg_image_dataset_1, keepdims= True, axis = 0)\n",
        "\n",
        "# avg_image_dataset_1 = (avg_image_dataset_1 - mean) / std \n",
        "\n",
        "# print(torch.mean(avg_image_dataset_1, keepdims= True, axis = 0))\n",
        "# print(torch.std(avg_image_dataset_1, keepdims= True, axis = 0))\n",
        "# print(\"==\"*40)\n",
        "\n",
        "\n",
        "test_dataset = torch.stack(test_dataset, axis = 0)\n",
        "# mean = torch.mean(test_dataset, keepdims= True, axis = 0)\n",
        "# std = torch.std(test_dataset, keepdims= True, axis = 0)\n",
        "# test_dataset = (test_dataset - mean) / std\n",
        "\n",
        "# print(torch.mean(test_dataset, keepdims= True, axis = 0))\n",
        "# print(torch.std(test_dataset, keepdims= True, axis = 0))\n",
        "# print(\"==\"*40)\n"
      ],
      "execution_count": 235,
      "outputs": []
    },
    {
      "cell_type": "code",
      "metadata": {
        "colab": {
          "base_uri": "https://localhost:8080/",
          "height": 299
        },
        "id": "bT9-kEI7NAnR",
        "outputId": "2ed02296-9eaf-4146-b373-e4667f23f8c0"
      },
      "source": [
        "x1 = (avg_image_dataset_1).numpy()\n",
        "y1 = np.array(labels_1)\n",
        "\n",
        "# idx1 = []\n",
        "# for i in range(3):\n",
        "#   idx1.append(y1 == i)\n",
        "\n",
        "# for i in range(3):\n",
        "#     z = np.zeros(x1[idx1[i]].shape[0])\n",
        "#     plt.scatter(x1[idx1[i]],z,label=\"class_\"+str(i))\n",
        "# plt.legend()\n",
        "\n",
        "plt.scatter(x1[y1==0], y1[y1==0]*0, label='class 0')\n",
        "plt.scatter(x1[y1==1], y1[y1==1]*0, label='class 1')\n",
        "# plt.scatter(x1[y1==2], y1[y1==2]*0, label='class 2')\n",
        "plt.legend()\n",
        "plt.title(\"dataset1 CIN with alpha = 1/\"+str(m))"
      ],
      "execution_count": 236,
      "outputs": [
        {
          "output_type": "execute_result",
          "data": {
            "text/plain": [
              "Text(0.5, 1.0, 'dataset1 CIN with alpha = 1/50')"
            ]
          },
          "metadata": {},
          "execution_count": 236
        },
        {
          "output_type": "display_data",
          "data": {
            "image/png": "[encoded data removed]",
            "text/plain": [
              "<Figure size 432x288 with 1 Axes>"
            ]
          },
          "metadata": {
            "needs_background": "light"
          }
        }
      ]
    },
    {
      "cell_type": "code",
      "metadata": {
        "colab": {
          "base_uri": "https://localhost:8080/",
          "height": 305
        },
        "id": "DWQydhG9jg1I",
        "outputId": "229981d9-4259-4b05-d50e-38d6d8458612"
      },
      "source": [
        "x1 = (avg_image_dataset_1).numpy()\n",
        "y1 = np.array(labels_1)\n",
        "\n",
        "idx_1 = y1==0\n",
        "idx_2 = np.where(idx_1==True)[0]\n",
        "idx_3 = np.where(idx_1==False)[0]\n",
        "color = ['#1F77B4','orange', 'brown']\n",
        "\n",
        "true_point = len(idx_2)\n",
        "plt.scatter(x1[idx_2[:25]], y1[idx_2[:25]]*0, label='class 0', c= color[0], marker='o')\n",
        "plt.scatter(x1[idx_3[:25]], y1[idx_3[:25]]*0, label='class 1', c= color[1], marker='o')\n",
        "\n",
        "plt.scatter(x1[idx_3[50:75]], y1[idx_3[50:75]]*0,  c= color[1], marker='o')\n",
        "plt.scatter(x1[idx_2[50:75]], y1[idx_2[50:75]]*0,  c= color[0], marker='o')\n",
        "\n",
        "\n",
        "plt.legend()\n",
        "plt.xticks( fontsize=14, fontweight = 'bold')\n",
        "plt.yticks( fontsize=14, fontweight = 'bold')\n",
        "plt.xlabel(\"X\", fontsize=14, fontweight = 'bold')\n",
        "# plt.savefig(fp_cin+\"ds1_alpha_04.png\", bbox_inches=\"tight\")\n",
        "# plt.savefig(fp_cin+\"ds1_alpha_04.pdf\", bbox_inches=\"tight\")"
      ],
      "execution_count": 237,
      "outputs": [
        {
          "output_type": "execute_result",
          "data": {
            "text/plain": [
              "Text(0.5, 0, 'X')"
            ]
          },
          "metadata": {},
          "execution_count": 237
        },
        {
          "output_type": "display_data",
          "data": {
            "image/png": "[encoded data removed]",
            "text/plain": [
              "<Figure size 432x288 with 1 Axes>"
            ]
          },
          "metadata": {
            "needs_background": "light"
          }
        }
      ]
    },
    {
      "cell_type": "code",
      "metadata": {
        "colab": {
          "base_uri": "https://localhost:8080/"
        },
        "id": "bu5Po7YIiLvN",
        "outputId": "b977d37c-508a-47c9-9523-cfaca63e616c"
      },
      "source": [
        "avg_image_dataset_1[0:10]"
      ],
      "execution_count": 238,
      "outputs": [
        {
          "output_type": "execute_result",
          "data": {
            "text/plain": [
              "tensor([[-0.3388],\n",
              "        [-0.2248],\n",
              "        [-0.1879],\n",
              "        [-0.3719],\n",
              "        [-0.0898],\n",
              "        [-0.0162],\n",
              "        [-0.1339],\n",
              "        [-0.2408],\n",
              "        [-0.0803],\n",
              "        [-0.2742]], dtype=torch.float64)"
            ]
          },
          "metadata": {},
          "execution_count": 238
        }
      ]
    },
    {
      "cell_type": "code",
      "metadata": {
        "colab": {
          "base_uri": "https://localhost:8080/",
          "height": 299
        },
        "id": "1fhxsxf9384L",
        "outputId": "cb6004eb-673d-4cf1-eb40-c0a63a44d344"
      },
      "source": [
        "x1 = (test_dataset).numpy()/m\n",
        "y1 = np.array(labels)\n",
        "\n",
        "# idx1 = []\n",
        "# for i in range(3):\n",
        "#   idx1.append(y1 == i)\n",
        "\n",
        "# for i in range(3):\n",
        "#     z = np.zeros(x1[idx1[i]].shape[0])\n",
        "#     plt.scatter(x1[idx1[i]],z,label=\"class_\"+str(i))\n",
        "# plt.legend()\n",
        "\n",
        "plt.scatter(x1[y1==0], y1[y1==0]*0, label='class 0')\n",
        "plt.scatter(x1[y1==1], y1[y1==1]*0, label='class 1')\n",
        "# plt.scatter(x1[y1==2], y1[y1==2]*0, label='class 2')\n",
        "plt.legend()\n",
        "plt.title(\"test dataset1 \")"
      ],
      "execution_count": 239,
      "outputs": [
        {
          "output_type": "execute_result",
          "data": {
            "text/plain": [
              "Text(0.5, 1.0, 'test dataset1 ')"
            ]
          },
          "metadata": {},
          "execution_count": 239
        },
        {
          "output_type": "display_data",
          "data": {
            "image/png": "[encoded data removed]",
            "text/plain": [
              "<Figure size 432x288 with 1 Axes>"
            ]
          },
          "metadata": {
            "needs_background": "light"
          }
        }
      ]
    },
    {
      "cell_type": "code",
      "metadata": {
        "colab": {
          "base_uri": "https://localhost:8080/"
        },
        "id": "wa4C_cnogtXE",
        "outputId": "2af7b0bd-bce9-4a8d-c415-42a5550cfd36"
      },
      "source": [
        "test_dataset.numpy()[0:10]/m"
      ],
      "execution_count": 240,
      "outputs": [
        {
          "output_type": "execute_result",
          "data": {
            "text/plain": [
              "array([[-0.14122469],\n",
              "       [-0.16840749],\n",
              "       [-0.13787777],\n",
              "       [-0.1464346 ],\n",
              "       [-0.18458328],\n",
              "       [-0.10937303],\n",
              "       [-0.22860509],\n",
              "       [-0.18758507],\n",
              "       [-0.23034295],\n",
              "       [-0.12763319]])"
            ]
          },
          "metadata": {},
          "execution_count": 240
        }
      ]
    },
    {
      "cell_type": "code",
      "metadata": {
        "id": "3iJoJ0eIhSqz"
      },
      "source": [
        "test_dataset = test_dataset/m"
      ],
      "execution_count": 241,
      "outputs": []
    },
    {
      "cell_type": "code",
      "metadata": {
        "colab": {
          "base_uri": "https://localhost:8080/"
        },
        "id": "nKl8pSEbhVGU",
        "outputId": "0f927af1-8164-4c40-cfb9-0ebb4d374c38"
      },
      "source": [
        "test_dataset.numpy()[0:10]"
      ],
      "execution_count": 242,
      "outputs": [
        {
          "output_type": "execute_result",
          "data": {
            "text/plain": [
              "array([[-0.14122469],\n",
              "       [-0.16840749],\n",
              "       [-0.13787777],\n",
              "       [-0.1464346 ],\n",
              "       [-0.18458328],\n",
              "       [-0.10937303],\n",
              "       [-0.22860509],\n",
              "       [-0.18758507],\n",
              "       [-0.23034295],\n",
              "       [-0.12763319]])"
            ]
          },
          "metadata": {},
          "execution_count": 242
        }
      ]
    },
    {
      "cell_type": "code",
      "metadata": {
        "id": "yL0BRf8er0TX"
      },
      "source": [
        "class MosaicDataset(Dataset):\n",
        "  \"\"\"MosaicDataset dataset.\"\"\"\n",
        "\n",
        "  def __init__(self, mosaic_list_of_images, mosaic_label):\n",
        "    \"\"\"\n",
        "      Args:\n",
        "        csv_file (string): Path to the csv file with annotations.\n",
        "        root_dir (string): Directory with all the images.\n",
        "        transform (callable, optional): Optional transform to be applied\n",
        "            on a sample.\n",
        "    \"\"\"\n",
        "    self.mosaic = mosaic_list_of_images\n",
        "    self.label = mosaic_label\n",
        "    #self.fore_idx = fore_idx\n",
        "    \n",
        "  def __len__(self):\n",
        "    return len(self.label)\n",
        "\n",
        "  def __getitem__(self, idx):\n",
        "    return self.mosaic[idx] , self.label[idx] #, self.fore_idx[idx]\n",
        "\n"
      ],
      "execution_count": 243,
      "outputs": []
    },
    {
      "cell_type": "code",
      "metadata": {
        "colab": {
          "base_uri": "https://localhost:8080/"
        },
        "id": "4KsrW9qL9xgS",
        "outputId": "910f9277-0e56-4a70-f134-512b2612a869"
      },
      "source": [
        "avg_image_dataset_1[0].shape, avg_image_dataset_1[0]"
      ],
      "execution_count": 244,
      "outputs": [
        {
          "output_type": "execute_result",
          "data": {
            "text/plain": [
              "(torch.Size([1]), tensor([-0.3388], dtype=torch.float64))"
            ]
          },
          "metadata": {},
          "execution_count": 244
        }
      ]
    },
    {
      "cell_type": "code",
      "metadata": {
        "id": "EY2l62APygaV"
      },
      "source": [
        "batch = 200\n",
        "\n",
        "traindata_1 = MosaicDataset(avg_image_dataset_1, labels_1 )\n",
        "trainloader_1 = DataLoader( traindata_1 , batch_size= batch ,shuffle=True)\n"
      ],
      "execution_count": 245,
      "outputs": []
    },
    {
      "cell_type": "code",
      "metadata": {
        "id": "Nh3mBQHZ8bEj"
      },
      "source": [
        "testdata_1 = MosaicDataset(test_dataset, labels )\n",
        "testloader_1 = DataLoader( testdata_1 , batch_size= batch ,shuffle=False)"
      ],
      "execution_count": 246,
      "outputs": []
    },
    {
      "cell_type": "code",
      "metadata": {
        "id": "5_XeIUk0r0Tl"
      },
      "source": [
        "class Whatnet(nn.Module):\n",
        "    def __init__(self):\n",
        "        super(Whatnet,self).__init__()\n",
        "        self.linear1 = nn.Linear(1,2)\n",
        "        # self.linear2 = nn.Linear(50,10)\n",
        "        # self.linear3 = nn.Linear(10,3)\n",
        "        torch.nn.init.xavier_normal_(self.linear1.weight)\n",
        "        torch.nn.init.zeros_(self.linear1.bias)\n",
        "\n",
        "    def forward(self,x):\n",
        "        # x = F.relu(self.linear1(x))\n",
        "        # x = F.relu(self.linear2(x))\n",
        "        x = (self.linear1(x))\n",
        "\n",
        "        return x"
      ],
      "execution_count": 247,
      "outputs": []
    },
    {
      "cell_type": "code",
      "metadata": {
        "id": "pjD2VZuV9Ed4"
      },
      "source": [
        "def calculate_loss(dataloader,model,criter):\n",
        "  model.eval()\n",
        "  r_loss = 0\n",
        "  with torch.no_grad():\n",
        "    for i, data in enumerate(dataloader, 0):\n",
        "      inputs, labels = data\n",
        "      inputs, labels = inputs.to(\"cuda\"),labels.to(\"cuda\")\n",
        "      outputs = model(inputs)\n",
        "      loss = criter(outputs, labels)\n",
        "      r_loss += loss.item()\n",
        "  return r_loss/i"
      ],
      "execution_count": 248,
      "outputs": []
    },
    {
      "cell_type": "code",
      "metadata": {
        "id": "uALi25pmzQHV"
      },
      "source": [
        "def test_all(number, testloader,net):\n",
        "    correct = 0\n",
        "    total = 0\n",
        "    out = []\n",
        "    pred = []\n",
        "    with torch.no_grad():\n",
        "        for data in testloader:\n",
        "            images, labels = data\n",
        "            images, labels = images.to(\"cuda\"),labels.to(\"cuda\")\n",
        "            out.append(labels.cpu().numpy())\n",
        "            outputs= net(images)\n",
        "            _, predicted = torch.max(outputs.data, 1)\n",
        "            pred.append(predicted.cpu().numpy())\n",
        "            total += labels.size(0)\n",
        "            correct += (predicted == labels).sum().item()\n",
        "    \n",
        "    pred = np.concatenate(pred, axis = 0)\n",
        "    out = np.concatenate(out, axis = 0)\n",
        "    print(\"unique out: \",  np.unique(out), \"unique pred: \", np.unique(pred) )\n",
        "    print(\"correct: \", correct, \"total \",  total)\n",
        "    print('Accuracy of the network on the 1000 test dataset %d: %.2f %%' % (number , 100 * correct / total))"
      ],
      "execution_count": 249,
      "outputs": []
    },
    {
      "cell_type": "code",
      "metadata": {
        "id": "4vmNprlPzTjP"
      },
      "source": [
        "def train_all(trainloader, ds_number, testloader_list):\n",
        "    \n",
        "    print(\"--\"*40)\n",
        "    print(\"training on data set  \", ds_number)\n",
        "    \n",
        "    torch.manual_seed(12)\n",
        "    net = Whatnet().double()\n",
        "    net = net.to(\"cuda\")\n",
        "    \n",
        "    criterion_net = nn.CrossEntropyLoss()\n",
        "    optimizer_net = optim.Adam(net.parameters(), lr=0.001 ) #, momentum=0.9)\n",
        "    \n",
        "    acti = []\n",
        "    loss_curi = []\n",
        "    epochs = 1500\n",
        "    running_loss = calculate_loss(trainloader,net,criterion_net)\n",
        "    loss_curi.append(running_loss)\n",
        "    print('epoch: [%d ] loss: %.3f' %(0,running_loss)) \n",
        "    for epoch in range(epochs): # loop over the dataset multiple times\n",
        "        ep_lossi = []\n",
        "\n",
        "        running_loss = 0.0\n",
        "        net.train()\n",
        "        for i, data in enumerate(trainloader, 0):\n",
        "            # get the inputs\n",
        "            inputs, labels = data\n",
        "            inputs, labels = inputs.to(\"cuda\"),labels.to(\"cuda\")\n",
        "\n",
        "            # zero the parameter gradients\n",
        "            optimizer_net.zero_grad()\n",
        "\n",
        "            # forward + backward + optimize\n",
        "            outputs = net(inputs)\n",
        "            loss = criterion_net(outputs, labels)\n",
        "            # print statistics\n",
        "            running_loss += loss.item()\n",
        "            loss.backward()\n",
        "            optimizer_net.step()\n",
        "\n",
        "        running_loss = calculate_loss(trainloader,net,criterion_net)\n",
        "        if(epoch%200 == 0):\n",
        "          print('epoch: [%d] loss: %.3f' %(epoch + 1,running_loss)) \n",
        "        loss_curi.append(running_loss)   #loss per epoch\n",
        "        if running_loss<=0.05:\n",
        "          print('epoch: [%d] loss: %.3f' %(epoch + 1,running_loss))\n",
        "          break\n",
        "\n",
        "    print('Finished Training')\n",
        "    \n",
        "    correct = 0\n",
        "    total = 0\n",
        "    with torch.no_grad():\n",
        "        for data in trainloader:\n",
        "            images, labels = data\n",
        "            images, labels = images.to(\"cuda\"), labels.to(\"cuda\")\n",
        "            outputs = net(images)\n",
        "            _, predicted = torch.max(outputs.data, 1)\n",
        "            total += labels.size(0)\n",
        "            correct += (predicted == labels).sum().item()\n",
        "\n",
        "    print('Accuracy of the network on the 1000 train images: %.2f %%' % (  100 * correct / total))\n",
        "    \n",
        "    for i, j in enumerate(testloader_list):\n",
        "        test_all(i+1, j,net)\n",
        "    \n",
        "    print(\"--\"*40)\n",
        "    \n",
        "    return loss_curi, net\n",
        "    "
      ],
      "execution_count": 250,
      "outputs": []
    },
    {
      "cell_type": "code",
      "metadata": {
        "id": "Yl41sE8vFERk"
      },
      "source": [
        "train_loss_all=[]\n",
        "\n",
        "testloader_list= [ testloader_1 ]"
      ],
      "execution_count": 251,
      "outputs": []
    },
    {
      "cell_type": "code",
      "metadata": {
        "id": "5gQoPST5zW2t",
        "colab": {
          "base_uri": "https://localhost:8080/"
        },
        "outputId": "90eadada-81c2-4312-bdd3-d17fea577c0a"
      },
      "source": [
        "loss, net = train_all(trainloader_1, 1, testloader_list)\n",
        "train_loss_all.append(loss)"
      ],
      "execution_count": 252,
      "outputs": [
        {
          "output_type": "stream",
          "name": "stdout",
          "text": [
            "--------------------------------------------------------------------------------\n",
            "training on data set   1\n",
            "epoch: [0 ] loss: 0.861\n",
            "epoch: [1] loss: 0.861\n",
            "epoch: [201] loss: 0.845\n",
            "epoch: [401] loss: 0.843\n",
            "epoch: [601] loss: 0.842\n",
            "epoch: [801] loss: 0.842\n",
            "epoch: [1001] loss: 0.842\n",
            "epoch: [1201] loss: 0.842\n",
            "epoch: [1401] loss: 0.842\n",
            "Finished Training\n",
            "Accuracy of the network on the 1000 train images: 59.30 %\n",
            "unique out:  [0 1] unique pred:  [0 1]\n",
            "correct:  896 total  1000\n",
            "Accuracy of the network on the 1000 test dataset 1: 89.60 %\n",
            "--------------------------------------------------------------------------------\n"
          ]
        }
      ]
    },
    {
      "cell_type": "code",
      "metadata": {
        "colab": {
          "base_uri": "https://localhost:8080/"
        },
        "id": "1PKuWWdcic_T",
        "outputId": "ab4ceb25-c68f-47e1-c343-850f64d4c8cf"
      },
      "source": [
        "net.linear1.weight, net.linear1.bias"
      ],
      "execution_count": 253,
      "outputs": [
        {
          "output_type": "execute_result",
          "data": {
            "text/plain": [
              "(Parameter containing:\n",
              " tensor([[-1.1996],\n",
              "         [ 1.5237]], device='cuda:0', dtype=torch.float64, requires_grad=True),\n",
              " Parameter containing:\n",
              " tensor([-0.2549,  0.2549], device='cuda:0', dtype=torch.float64,\n",
              "        requires_grad=True))"
            ]
          },
          "metadata": {},
          "execution_count": 253
        }
      ]
    },
    {
      "cell_type": "code",
      "metadata": {
        "id": "In76SYH_zZHV"
      },
      "source": [
        "%matplotlib inline"
      ],
      "execution_count": 254,
      "outputs": []
    },
    {
      "cell_type": "code",
      "metadata": {
        "id": "BS4HtOHEzZ0E",
        "colab": {
          "base_uri": "https://localhost:8080/",
          "height": 297
        },
        "outputId": "26c73f2f-d238-4762-ff08-ea7baf0a9fbd"
      },
      "source": [
        "for i,j in enumerate(train_loss_all):\n",
        "    plt.plot(j,label =\"dataset \"+str(i+1))\n",
        "    \n",
        "\n",
        "plt.xlabel(\"Epochs\")\n",
        "plt.ylabel(\"Training_loss\")\n",
        "\n",
        "plt.legend(loc='center left', bbox_to_anchor=(1, 0.5))"
      ],
      "execution_count": 255,
      "outputs": [
        {
          "output_type": "execute_result",
          "data": {
            "text/plain": [
              "<matplotlib.legend.Legend at 0x7fb16f1d5050>"
            ]
          },
          "metadata": {},
          "execution_count": 255
        },
        {
          "output_type": "display_data",
          "data": {
            "image/png": "[encoded data removed]",
            "text/plain": [
              "<Figure size 432x288 with 1 Axes>"
            ]
          },
          "metadata": {
            "needs_background": "light"
          }
        }
      ]
    },
    {
      "cell_type": "code",
      "metadata": {
        "id": "1UbTkfLUINTI"
      },
      "source": [
        ""
      ],
      "execution_count": 255,
      "outputs": []
    }
  ]
}