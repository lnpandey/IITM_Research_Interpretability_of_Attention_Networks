{
  "nbformat": 4,
  "nbformat_minor": 0,
  "metadata": {
    "accelerator": "GPU",
    "colab": {
      "name": "synthetic_type0_Linear_m_5.ipynb",
      "provenance": [],
      "collapsed_sections": []
    },
    "kernelspec": {
      "display_name": "Python 3",
      "language": "python",
      "name": "python3"
    },
    "language_info": {
      "codemirror_mode": {
        "name": "ipython",
        "version": 3
      },
      "file_extension": ".py",
      "mimetype": "text/x-python",
      "name": "python",
      "nbconvert_exporter": "python",
      "pygments_lexer": "ipython3",
      "version": "3.6.5"
    }
  },
  "cells": [
    {
      "cell_type": "code",
      "metadata": {
        "colab": {
          "base_uri": "https://localhost:8080/"
        },
        "id": "N2_J4Rw2r0SQ",
        "outputId": "20b95692-8ce3-4313-882e-abc401876086"
      },
      "source": [
        "import numpy as np\n",
        "import pandas as pd\n",
        "from matplotlib import pyplot as plt\n",
        "from tqdm import tqdm\n",
        "%matplotlib inline\n",
        "from torch.utils.data import Dataset, DataLoader\n",
        "import torch\n",
        "import torchvision\n",
        "\n",
        "import torch.nn as nn\n",
        "import torch.optim as optim\n",
        "from torch.nn import functional as F\n",
        "device = torch.device(\"cuda\" if torch.cuda.is_available() else \"cpu\")\n",
        "print(device)"
      ],
      "execution_count": 306,
      "outputs": [
        {
          "output_type": "stream",
          "name": "stdout",
          "text": [
            "cuda\n"
          ]
        }
      ]
    },
    {
      "cell_type": "code",
      "metadata": {
        "id": "y9cP_3OWFHdo"
      },
      "source": [
        "torch.backends.cudnn.deterministic = True\n",
        "torch.backends.cudnn.benchmark= False"
      ],
      "execution_count": 307,
      "outputs": []
    },
    {
      "cell_type": "code",
      "metadata": {
        "id": "xR3b9hhxzqKB"
      },
      "source": [
        "m = 500                            # 5, 50, 100, 500 , 1000 , 2000 "
      ],
      "execution_count": 308,
      "outputs": []
    },
    {
      "cell_type": "code",
      "metadata": {
        "id": "xDifMu_gRXFN"
      },
      "source": [
        "desired_num = 10000"
      ],
      "execution_count": 309,
      "outputs": []
    },
    {
      "cell_type": "code",
      "metadata": {
        "colab": {
          "base_uri": "https://localhost:8080/"
        },
        "id": "tl7WPcTcRW-8",
        "outputId": "b7c4869f-2646-4848-f935-28d0a5407e5d"
      },
      "source": [
        "tr_i = 0\n",
        "tr_j = desired_num\n",
        "tr_k = desired_num+1000\n",
        "\n",
        "tr_i, tr_j, tr_k"
      ],
      "execution_count": 310,
      "outputs": [
        {
          "output_type": "execute_result",
          "data": {
            "text/plain": [
              "(0, 10000, 11000)"
            ]
          },
          "metadata": {},
          "execution_count": 310
        }
      ]
    },
    {
      "cell_type": "markdown",
      "metadata": {
        "id": "F6fjud_Fr0Sa"
      },
      "source": [
        "# Generate dataset"
      ]
    },
    {
      "cell_type": "code",
      "metadata": {
        "colab": {
          "base_uri": "https://localhost:8080/"
        },
        "id": "CqdXHO0Cr0Sd",
        "outputId": "495fb70c-7765-409e-a223-ef5eebad92eb"
      },
      "source": [
        "np.random.seed(12)\n",
        "y = np.random.randint(0,3,500)\n",
        "idx= []\n",
        "for i in range(3):\n",
        "    print(i,sum(y==i))\n",
        "    idx.append(y==i)"
      ],
      "execution_count": 311,
      "outputs": [
        {
          "output_type": "stream",
          "name": "stdout",
          "text": [
            "0 174\n",
            "1 163\n",
            "2 163\n"
          ]
        }
      ]
    },
    {
      "cell_type": "code",
      "metadata": {
        "id": "ddhXyODwr0Sk"
      },
      "source": [
        "x = np.zeros((500,))"
      ],
      "execution_count": 312,
      "outputs": []
    },
    {
      "cell_type": "code",
      "metadata": {
        "id": "DyV3N2DIr0Sp"
      },
      "source": [
        "np.random.seed(12)\n",
        "x[idx[0]] = np.random.uniform(low =-1,high =0,size= sum(idx[0]))\n",
        "x[idx[1]] = np.random.uniform(low =0,high =1,size= sum(idx[1]))\n",
        "x[idx[2]] = np.random.uniform(low =2,high =3,size= sum(idx[2]))"
      ],
      "execution_count": 313,
      "outputs": []
    },
    {
      "cell_type": "code",
      "metadata": {
        "colab": {
          "base_uri": "https://localhost:8080/"
        },
        "id": "qh1mDScsU07I",
        "outputId": "03b2cf82-2ee4-4f6a-d71d-53bb6d657e53"
      },
      "source": [
        "x[idx[0]][0], x[idx[2]][5] "
      ],
      "execution_count": 314,
      "outputs": [
        {
          "output_type": "execute_result",
          "data": {
            "text/plain": [
              "(-0.8458371576203276, 2.2459800877058114)"
            ]
          },
          "metadata": {},
          "execution_count": 314
        }
      ]
    },
    {
      "cell_type": "code",
      "metadata": {
        "colab": {
          "base_uri": "https://localhost:8080/"
        },
        "id": "9Vr5ErQ_wSrV",
        "outputId": "9be0789d-2ebe-431f-ef8d-df41af58bc8e"
      },
      "source": [
        "print(x.shape,y.shape)"
      ],
      "execution_count": 315,
      "outputs": [
        {
          "output_type": "stream",
          "name": "stdout",
          "text": [
            "(500,) (500,)\n"
          ]
        }
      ]
    },
    {
      "cell_type": "code",
      "metadata": {
        "id": "NG-3RpffwU_i"
      },
      "source": [
        "idx= []\n",
        "for i in range(3):\n",
        "  idx.append(y==i)"
      ],
      "execution_count": 316,
      "outputs": []
    },
    {
      "cell_type": "code",
      "metadata": {
        "colab": {
          "base_uri": "https://localhost:8080/",
          "height": 283
        },
        "id": "hJ8Jm7YUr0St",
        "outputId": "e167442a-1619-4d31-dce4-46d24701877d"
      },
      "source": [
        "for i in range(3):\n",
        "    y= np.zeros(x[idx[i]].shape[0])\n",
        "    plt.scatter(x[idx[i]],y,label=\"class_\"+str(i))\n",
        "plt.legend()"
      ],
      "execution_count": 317,
      "outputs": [
        {
          "output_type": "execute_result",
          "data": {
            "text/plain": [
              "<matplotlib.legend.Legend at 0x7f3b91f39250>"
            ]
          },
          "metadata": {},
          "execution_count": 317
        },
        {
          "output_type": "display_data",
          "data": {
            "image/png": "[encoded data removed]",
            "text/plain": [
              "<Figure size 432x288 with 1 Axes>"
            ]
          },
          "metadata": {
            "needs_background": "light"
          }
        }
      ]
    },
    {
      "cell_type": "code",
      "metadata": {
        "colab": {
          "base_uri": "https://localhost:8080/"
        },
        "id": "3lMBZEHNBlF2",
        "outputId": "d15d6392-f226-44f3-e500-2874b0ae399f"
      },
      "source": [
        "bg_idx = [ np.where(idx[2] == True)[0]]\n",
        "\n",
        "bg_idx = np.concatenate(bg_idx, axis = 0)\n",
        "bg_idx.shape"
      ],
      "execution_count": 318,
      "outputs": [
        {
          "output_type": "execute_result",
          "data": {
            "text/plain": [
              "(163,)"
            ]
          },
          "metadata": {},
          "execution_count": 318
        }
      ]
    },
    {
      "cell_type": "code",
      "metadata": {
        "colab": {
          "base_uri": "https://localhost:8080/"
        },
        "id": "blRbGZHeCwXU",
        "outputId": "d3d6462a-52d4-419f-cdb4-c58f00b31c6a"
      },
      "source": [
        "np.unique(bg_idx).shape"
      ],
      "execution_count": 319,
      "outputs": [
        {
          "output_type": "execute_result",
          "data": {
            "text/plain": [
              "(163,)"
            ]
          },
          "metadata": {},
          "execution_count": 319
        }
      ]
    },
    {
      "cell_type": "code",
      "metadata": {
        "id": "Y43sWeX7C15F"
      },
      "source": [
        "x = x - np.mean(x[bg_idx], axis = 0, keepdims = True)\n"
      ],
      "execution_count": 320,
      "outputs": []
    },
    {
      "cell_type": "code",
      "metadata": {
        "colab": {
          "base_uri": "https://localhost:8080/"
        },
        "id": "ooII7N6UDWe0",
        "outputId": "65eed32b-d4cc-4c30-8146-e68e19204fac"
      },
      "source": [
        "np.mean(x[bg_idx], axis = 0, keepdims = True), np.mean(x, axis = 0, keepdims = True)"
      ],
      "execution_count": 321,
      "outputs": [
        {
          "output_type": "execute_result",
          "data": {
            "text/plain": [
              "(array([-1.00805526e-16]), array([-1.7163962]))"
            ]
          },
          "metadata": {},
          "execution_count": 321
        }
      ]
    },
    {
      "cell_type": "code",
      "metadata": {
        "id": "g21bvPRYDL9k"
      },
      "source": [
        "x = x/np.std(x[bg_idx], axis = 0, keepdims = True)"
      ],
      "execution_count": 322,
      "outputs": []
    },
    {
      "cell_type": "code",
      "metadata": {
        "colab": {
          "base_uri": "https://localhost:8080/"
        },
        "id": "GtFvIeHsDZJk",
        "outputId": "4dda253d-6dcd-46da-9589-f689b84cecb9"
      },
      "source": [
        "np.std(x[bg_idx], axis = 0, keepdims = True), np.std(x, axis = 0, keepdims = True)"
      ],
      "execution_count": 323,
      "outputs": [
        {
          "output_type": "execute_result",
          "data": {
            "text/plain": [
              "(array([1.]), array([4.37808847]))"
            ]
          },
          "metadata": {},
          "execution_count": 323
        }
      ]
    },
    {
      "cell_type": "code",
      "metadata": {
        "colab": {
          "base_uri": "https://localhost:8080/",
          "height": 283
        },
        "id": "8-VLhUfDDeHt",
        "outputId": "86a540d8-057f-44d0-9790-1240b6a0ca78"
      },
      "source": [
        "for i in range(3):\n",
        "    y= np.zeros(x[idx[i]].shape[0])\n",
        "    plt.scatter(x[idx[i]],y,label=\"class_\"+str(i))\n",
        "plt.legend()"
      ],
      "execution_count": 324,
      "outputs": [
        {
          "output_type": "execute_result",
          "data": {
            "text/plain": [
              "<matplotlib.legend.Legend at 0x7f3b91ee5a90>"
            ]
          },
          "metadata": {},
          "execution_count": 324
        },
        {
          "output_type": "display_data",
          "data": {
            "image/png": "[encoded data removed]",
            "text/plain": [
              "<Figure size 432x288 with 1 Axes>"
            ]
          },
          "metadata": {
            "needs_background": "light"
          }
        }
      ]
    },
    {
      "cell_type": "code",
      "metadata": {
        "id": "UfFHcZJOr0Sz"
      },
      "source": [
        "foreground_classes = {'class_0','class_1' }\n",
        "\n",
        "background_classes = {'class_2'}"
      ],
      "execution_count": 325,
      "outputs": []
    },
    {
      "cell_type": "code",
      "metadata": {
        "colab": {
          "base_uri": "https://localhost:8080/"
        },
        "id": "OplNpNQVr0S2",
        "outputId": "0361fb97-fc87-4c7f-dc2a-2c1a30314c0f"
      },
      "source": [
        "fg_class  = np.random.randint(0,2)\n",
        "fg_idx = np.random.randint(0,m)\n",
        "\n",
        "a = []\n",
        "for i in range(m):\n",
        "    if i == fg_idx:\n",
        "        b = np.random.choice(np.where(idx[fg_class]==True)[0],size=1)\n",
        "        a.append(x[b])\n",
        "        print(\"foreground \"+str(fg_class)+\" present at \" + str(fg_idx))\n",
        "    else:\n",
        "        bg_class = np.random.randint(2,3)\n",
        "        b = np.random.choice(np.where(idx[bg_class]==True)[0],size=1)\n",
        "        a.append(x[b])\n",
        "        print(\"background \"+str(bg_class)+\" present at \" + str(i))\n",
        "a = np.concatenate(a,axis=0)\n",
        "print(a.shape)\n",
        "\n",
        "print(fg_class , fg_idx)"
      ],
      "execution_count": 326,
      "outputs": [
        {
          "output_type": "stream",
          "name": "stdout",
          "text": [
            "background 2 present at 0\n",
            "background 2 present at 1\n",
            "background 2 present at 2\n",
            "background 2 present at 3\n",
            "background 2 present at 4\n",
            "background 2 present at 5\n",
            "background 2 present at 6\n",
            "background 2 present at 7\n",
            "background 2 present at 8\n",
            "background 2 present at 9\n",
            "background 2 present at 10\n",
            "background 2 present at 11\n",
            "background 2 present at 12\n",
            "background 2 present at 13\n",
            "background 2 present at 14\n",
            "background 2 present at 15\n",
            "background 2 present at 16\n",
            "background 2 present at 17\n",
            "background 2 present at 18\n",
            "background 2 present at 19\n",
            "background 2 present at 20\n",
            "background 2 present at 21\n",
            "background 2 present at 22\n",
            "background 2 present at 23\n",
            "background 2 present at 24\n",
            "background 2 present at 25\n",
            "background 2 present at 26\n",
            "background 2 present at 27\n",
            "background 2 present at 28\n",
            "background 2 present at 29\n",
            "background 2 present at 30\n",
            "background 2 present at 31\n",
            "background 2 present at 32\n",
            "background 2 present at 33\n",
            "background 2 present at 34\n",
            "background 2 present at 35\n",
            "background 2 present at 36\n",
            "background 2 present at 37\n",
            "background 2 present at 38\n",
            "background 2 present at 39\n",
            "background 2 present at 40\n",
            "background 2 present at 41\n",
            "background 2 present at 42\n",
            "background 2 present at 43\n",
            "background 2 present at 44\n",
            "background 2 present at 45\n",
            "background 2 present at 46\n",
            "background 2 present at 47\n",
            "background 2 present at 48\n",
            "background 2 present at 49\n",
            "background 2 present at 50\n",
            "background 2 present at 51\n",
            "background 2 present at 52\n",
            "background 2 present at 53\n",
            "background 2 present at 54\n",
            "background 2 present at 55\n",
            "background 2 present at 56\n",
            "background 2 present at 57\n",
            "background 2 present at 58\n",
            "background 2 present at 59\n",
            "background 2 present at 60\n",
            "background 2 present at 61\n",
            "background 2 present at 62\n",
            "background 2 present at 63\n",
            "background 2 present at 64\n",
            "background 2 present at 65\n",
            "background 2 present at 66\n",
            "background 2 present at 67\n",
            "background 2 present at 68\n",
            "background 2 present at 69\n",
            "background 2 present at 70\n",
            "background 2 present at 71\n",
            "background 2 present at 72\n",
            "background 2 present at 73\n",
            "background 2 present at 74\n",
            "background 2 present at 75\n",
            "background 2 present at 76\n",
            "background 2 present at 77\n",
            "background 2 present at 78\n",
            "background 2 present at 79\n",
            "background 2 present at 80\n",
            "background 2 present at 81\n",
            "background 2 present at 82\n",
            "background 2 present at 83\n",
            "background 2 present at 84\n",
            "background 2 present at 85\n",
            "background 2 present at 86\n",
            "background 2 present at 87\n",
            "background 2 present at 88\n",
            "background 2 present at 89\n",
            "background 2 present at 90\n",
            "background 2 present at 91\n",
            "background 2 present at 92\n",
            "background 2 present at 93\n",
            "background 2 present at 94\n",
            "background 2 present at 95\n",
            "background 2 present at 96\n",
            "background 2 present at 97\n",
            "background 2 present at 98\n",
            "background 2 present at 99\n",
            "background 2 present at 100\n",
            "background 2 present at 101\n",
            "background 2 present at 102\n",
            "background 2 present at 103\n",
            "background 2 present at 104\n",
            "background 2 present at 105\n",
            "background 2 present at 106\n",
            "background 2 present at 107\n",
            "background 2 present at 108\n",
            "background 2 present at 109\n",
            "background 2 present at 110\n",
            "background 2 present at 111\n",
            "background 2 present at 112\n",
            "background 2 present at 113\n",
            "background 2 present at 114\n",
            "background 2 present at 115\n",
            "background 2 present at 116\n",
            "background 2 present at 117\n",
            "background 2 present at 118\n",
            "background 2 present at 119\n",
            "background 2 present at 120\n",
            "background 2 present at 121\n",
            "background 2 present at 122\n",
            "background 2 present at 123\n",
            "background 2 present at 124\n",
            "background 2 present at 125\n",
            "background 2 present at 126\n",
            "background 2 present at 127\n",
            "background 2 present at 128\n",
            "background 2 present at 129\n",
            "background 2 present at 130\n",
            "background 2 present at 131\n",
            "background 2 present at 132\n",
            "background 2 present at 133\n",
            "background 2 present at 134\n",
            "background 2 present at 135\n",
            "background 2 present at 136\n",
            "background 2 present at 137\n",
            "background 2 present at 138\n",
            "background 2 present at 139\n",
            "background 2 present at 140\n",
            "background 2 present at 141\n",
            "background 2 present at 142\n",
            "background 2 present at 143\n",
            "background 2 present at 144\n",
            "background 2 present at 145\n",
            "background 2 present at 146\n",
            "background 2 present at 147\n",
            "background 2 present at 148\n",
            "background 2 present at 149\n",
            "background 2 present at 150\n",
            "background 2 present at 151\n",
            "background 2 present at 152\n",
            "background 2 present at 153\n",
            "background 2 present at 154\n",
            "background 2 present at 155\n",
            "background 2 present at 156\n",
            "background 2 present at 157\n",
            "background 2 present at 158\n",
            "background 2 present at 159\n",
            "background 2 present at 160\n",
            "background 2 present at 161\n",
            "background 2 present at 162\n",
            "background 2 present at 163\n",
            "background 2 present at 164\n",
            "background 2 present at 165\n",
            "background 2 present at 166\n",
            "background 2 present at 167\n",
            "background 2 present at 168\n",
            "background 2 present at 169\n",
            "background 2 present at 170\n",
            "background 2 present at 171\n",
            "background 2 present at 172\n",
            "background 2 present at 173\n",
            "background 2 present at 174\n",
            "background 2 present at 175\n",
            "background 2 present at 176\n",
            "background 2 present at 177\n",
            "background 2 present at 178\n",
            "background 2 present at 179\n",
            "background 2 present at 180\n",
            "background 2 present at 181\n",
            "background 2 present at 182\n",
            "background 2 present at 183\n",
            "background 2 present at 184\n",
            "background 2 present at 185\n",
            "background 2 present at 186\n",
            "background 2 present at 187\n",
            "background 2 present at 188\n",
            "background 2 present at 189\n",
            "background 2 present at 190\n",
            "background 2 present at 191\n",
            "background 2 present at 192\n",
            "background 2 present at 193\n",
            "background 2 present at 194\n",
            "background 2 present at 195\n",
            "background 2 present at 196\n",
            "background 2 present at 197\n",
            "background 2 present at 198\n",
            "background 2 present at 199\n",
            "background 2 present at 200\n",
            "background 2 present at 201\n",
            "background 2 present at 202\n",
            "background 2 present at 203\n",
            "background 2 present at 204\n",
            "background 2 present at 205\n",
            "background 2 present at 206\n",
            "background 2 present at 207\n",
            "background 2 present at 208\n",
            "background 2 present at 209\n",
            "background 2 present at 210\n",
            "background 2 present at 211\n",
            "background 2 present at 212\n",
            "background 2 present at 213\n",
            "background 2 present at 214\n",
            "background 2 present at 215\n",
            "background 2 present at 216\n",
            "background 2 present at 217\n",
            "background 2 present at 218\n",
            "background 2 present at 219\n",
            "background 2 present at 220\n",
            "background 2 present at 221\n",
            "background 2 present at 222\n",
            "background 2 present at 223\n",
            "background 2 present at 224\n",
            "background 2 present at 225\n",
            "background 2 present at 226\n",
            "background 2 present at 227\n",
            "background 2 present at 228\n",
            "background 2 present at 229\n",
            "background 2 present at 230\n",
            "background 2 present at 231\n",
            "background 2 present at 232\n",
            "background 2 present at 233\n",
            "background 2 present at 234\n",
            "background 2 present at 235\n",
            "background 2 present at 236\n",
            "background 2 present at 237\n",
            "background 2 present at 238\n",
            "background 2 present at 239\n",
            "background 2 present at 240\n",
            "background 2 present at 241\n",
            "background 2 present at 242\n",
            "background 2 present at 243\n",
            "background 2 present at 244\n",
            "background 2 present at 245\n",
            "background 2 present at 246\n",
            "background 2 present at 247\n",
            "background 2 present at 248\n",
            "background 2 present at 249\n",
            "background 2 present at 250\n",
            "background 2 present at 251\n",
            "foreground 1 present at 252\n",
            "background 2 present at 253\n",
            "background 2 present at 254\n",
            "background 2 present at 255\n",
            "background 2 present at 256\n",
            "background 2 present at 257\n",
            "background 2 present at 258\n",
            "background 2 present at 259\n",
            "background 2 present at 260\n",
            "background 2 present at 261\n",
            "background 2 present at 262\n",
            "background 2 present at 263\n",
            "background 2 present at 264\n",
            "background 2 present at 265\n",
            "background 2 present at 266\n",
            "background 2 present at 267\n",
            "background 2 present at 268\n",
            "background 2 present at 269\n",
            "background 2 present at 270\n",
            "background 2 present at 271\n",
            "background 2 present at 272\n",
            "background 2 present at 273\n",
            "background 2 present at 274\n",
            "background 2 present at 275\n",
            "background 2 present at 276\n",
            "background 2 present at 277\n",
            "background 2 present at 278\n",
            "background 2 present at 279\n",
            "background 2 present at 280\n",
            "background 2 present at 281\n",
            "background 2 present at 282\n",
            "background 2 present at 283\n",
            "background 2 present at 284\n",
            "background 2 present at 285\n",
            "background 2 present at 286\n",
            "background 2 present at 287\n",
            "background 2 present at 288\n",
            "background 2 present at 289\n",
            "background 2 present at 290\n",
            "background 2 present at 291\n",
            "background 2 present at 292\n",
            "background 2 present at 293\n",
            "background 2 present at 294\n",
            "background 2 present at 295\n",
            "background 2 present at 296\n",
            "background 2 present at 297\n",
            "background 2 present at 298\n",
            "background 2 present at 299\n",
            "background 2 present at 300\n",
            "background 2 present at 301\n",
            "background 2 present at 302\n",
            "background 2 present at 303\n",
            "background 2 present at 304\n",
            "background 2 present at 305\n",
            "background 2 present at 306\n",
            "background 2 present at 307\n",
            "background 2 present at 308\n",
            "background 2 present at 309\n",
            "background 2 present at 310\n",
            "background 2 present at 311\n",
            "background 2 present at 312\n",
            "background 2 present at 313\n",
            "background 2 present at 314\n",
            "background 2 present at 315\n",
            "background 2 present at 316\n",
            "background 2 present at 317\n",
            "background 2 present at 318\n",
            "background 2 present at 319\n",
            "background 2 present at 320\n",
            "background 2 present at 321\n",
            "background 2 present at 322\n",
            "background 2 present at 323\n",
            "background 2 present at 324\n",
            "background 2 present at 325\n",
            "background 2 present at 326\n",
            "background 2 present at 327\n",
            "background 2 present at 328\n",
            "background 2 present at 329\n",
            "background 2 present at 330\n",
            "background 2 present at 331\n",
            "background 2 present at 332\n",
            "background 2 present at 333\n",
            "background 2 present at 334\n",
            "background 2 present at 335\n",
            "background 2 present at 336\n",
            "background 2 present at 337\n",
            "background 2 present at 338\n",
            "background 2 present at 339\n",
            "background 2 present at 340\n",
            "background 2 present at 341\n",
            "background 2 present at 342\n",
            "background 2 present at 343\n",
            "background 2 present at 344\n",
            "background 2 present at 345\n",
            "background 2 present at 346\n",
            "background 2 present at 347\n",
            "background 2 present at 348\n",
            "background 2 present at 349\n",
            "background 2 present at 350\n",
            "background 2 present at 351\n",
            "background 2 present at 352\n",
            "background 2 present at 353\n",
            "background 2 present at 354\n",
            "background 2 present at 355\n",
            "background 2 present at 356\n",
            "background 2 present at 357\n",
            "background 2 present at 358\n",
            "background 2 present at 359\n",
            "background 2 present at 360\n",
            "background 2 present at 361\n",
            "background 2 present at 362\n",
            "background 2 present at 363\n",
            "background 2 present at 364\n",
            "background 2 present at 365\n",
            "background 2 present at 366\n",
            "background 2 present at 367\n",
            "background 2 present at 368\n",
            "background 2 present at 369\n",
            "background 2 present at 370\n",
            "background 2 present at 371\n",
            "background 2 present at 372\n",
            "background 2 present at 373\n",
            "background 2 present at 374\n",
            "background 2 present at 375\n",
            "background 2 present at 376\n",
            "background 2 present at 377\n",
            "background 2 present at 378\n",
            "background 2 present at 379\n",
            "background 2 present at 380\n",
            "background 2 present at 381\n",
            "background 2 present at 382\n",
            "background 2 present at 383\n",
            "background 2 present at 384\n",
            "background 2 present at 385\n",
            "background 2 present at 386\n",
            "background 2 present at 387\n",
            "background 2 present at 388\n",
            "background 2 present at 389\n",
            "background 2 present at 390\n",
            "background 2 present at 391\n",
            "background 2 present at 392\n",
            "background 2 present at 393\n",
            "background 2 present at 394\n",
            "background 2 present at 395\n",
            "background 2 present at 396\n",
            "background 2 present at 397\n",
            "background 2 present at 398\n",
            "background 2 present at 399\n",
            "background 2 present at 400\n",
            "background 2 present at 401\n",
            "background 2 present at 402\n",
            "background 2 present at 403\n",
            "background 2 present at 404\n",
            "background 2 present at 405\n",
            "background 2 present at 406\n",
            "background 2 present at 407\n",
            "background 2 present at 408\n",
            "background 2 present at 409\n",
            "background 2 present at 410\n",
            "background 2 present at 411\n",
            "background 2 present at 412\n",
            "background 2 present at 413\n",
            "background 2 present at 414\n",
            "background 2 present at 415\n",
            "background 2 present at 416\n",
            "background 2 present at 417\n",
            "background 2 present at 418\n",
            "background 2 present at 419\n",
            "background 2 present at 420\n",
            "background 2 present at 421\n",
            "background 2 present at 422\n",
            "background 2 present at 423\n",
            "background 2 present at 424\n",
            "background 2 present at 425\n",
            "background 2 present at 426\n",
            "background 2 present at 427\n",
            "background 2 present at 428\n",
            "background 2 present at 429\n",
            "background 2 present at 430\n",
            "background 2 present at 431\n",
            "background 2 present at 432\n",
            "background 2 present at 433\n",
            "background 2 present at 434\n",
            "background 2 present at 435\n",
            "background 2 present at 436\n",
            "background 2 present at 437\n",
            "background 2 present at 438\n",
            "background 2 present at 439\n",
            "background 2 present at 440\n",
            "background 2 present at 441\n",
            "background 2 present at 442\n",
            "background 2 present at 443\n",
            "background 2 present at 444\n",
            "background 2 present at 445\n",
            "background 2 present at 446\n",
            "background 2 present at 447\n",
            "background 2 present at 448\n",
            "background 2 present at 449\n",
            "background 2 present at 450\n",
            "background 2 present at 451\n",
            "background 2 present at 452\n",
            "background 2 present at 453\n",
            "background 2 present at 454\n",
            "background 2 present at 455\n",
            "background 2 present at 456\n",
            "background 2 present at 457\n",
            "background 2 present at 458\n",
            "background 2 present at 459\n",
            "background 2 present at 460\n",
            "background 2 present at 461\n",
            "background 2 present at 462\n",
            "background 2 present at 463\n",
            "background 2 present at 464\n",
            "background 2 present at 465\n",
            "background 2 present at 466\n",
            "background 2 present at 467\n",
            "background 2 present at 468\n",
            "background 2 present at 469\n",
            "background 2 present at 470\n",
            "background 2 present at 471\n",
            "background 2 present at 472\n",
            "background 2 present at 473\n",
            "background 2 present at 474\n",
            "background 2 present at 475\n",
            "background 2 present at 476\n",
            "background 2 present at 477\n",
            "background 2 present at 478\n",
            "background 2 present at 479\n",
            "background 2 present at 480\n",
            "background 2 present at 481\n",
            "background 2 present at 482\n",
            "background 2 present at 483\n",
            "background 2 present at 484\n",
            "background 2 present at 485\n",
            "background 2 present at 486\n",
            "background 2 present at 487\n",
            "background 2 present at 488\n",
            "background 2 present at 489\n",
            "background 2 present at 490\n",
            "background 2 present at 491\n",
            "background 2 present at 492\n",
            "background 2 present at 493\n",
            "background 2 present at 494\n",
            "background 2 present at 495\n",
            "background 2 present at 496\n",
            "background 2 present at 497\n",
            "background 2 present at 498\n",
            "background 2 present at 499\n",
            "(500,)\n",
            "1 252\n"
          ]
        }
      ]
    },
    {
      "cell_type": "code",
      "metadata": {
        "colab": {
          "base_uri": "https://localhost:8080/"
        },
        "id": "dwZVmmRBr0S8",
        "outputId": "b2d77cfe-268b-4a38-d7e4-3971ea59ed9b"
      },
      "source": [
        "a.shape"
      ],
      "execution_count": 327,
      "outputs": [
        {
          "output_type": "execute_result",
          "data": {
            "text/plain": [
              "(500,)"
            ]
          },
          "metadata": {},
          "execution_count": 327
        }
      ]
    },
    {
      "cell_type": "code",
      "metadata": {
        "colab": {
          "base_uri": "https://localhost:8080/"
        },
        "id": "OoxzYI-ur0S_",
        "outputId": "8d439f5f-050a-402d-8f9a-b97514fb5f61"
      },
      "source": [
        "np.reshape(a,(m,1))"
      ],
      "execution_count": 328,
      "outputs": [
        {
          "output_type": "execute_result",
          "data": {
            "text/plain": [
              "array([[-0.80241043],\n",
              "       [ 1.00228507],\n",
              "       [-0.81132988],\n",
              "       [ 1.2774409 ],\n",
              "       [ 0.57398646],\n",
              "       [-0.91850331],\n",
              "       [ 0.6600648 ],\n",
              "       [ 0.57398646],\n",
              "       [ 1.39799803],\n",
              "       [ 0.13695373],\n",
              "       [-1.44264034],\n",
              "       [ 0.71837826],\n",
              "       [ 1.08544127],\n",
              "       [ 1.55171236],\n",
              "       [ 0.4152144 ],\n",
              "       [-1.15692643],\n",
              "       [-1.62776348],\n",
              "       [ 0.65339431],\n",
              "       [ 0.44998336],\n",
              "       [-1.35067387],\n",
              "       [-0.1541663 ],\n",
              "       [ 1.2774409 ],\n",
              "       [ 0.44998336],\n",
              "       [ 1.20061574],\n",
              "       [-0.83952364],\n",
              "       [ 0.46279645],\n",
              "       [-0.90487837],\n",
              "       [ 0.8325454 ],\n",
              "       [-0.41161127],\n",
              "       [-0.94524964],\n",
              "       [-0.2407784 ],\n",
              "       [ 0.80282356],\n",
              "       [ 0.18678022],\n",
              "       [ 0.41553291],\n",
              "       [ 0.99304358],\n",
              "       [-0.94524964],\n",
              "       [-1.44264034],\n",
              "       [-1.36429042],\n",
              "       [-0.36474865],\n",
              "       [ 0.1392267 ],\n",
              "       [ 0.1428216 ],\n",
              "       [-1.08085196],\n",
              "       [ 0.6600648 ],\n",
              "       [-1.17697967],\n",
              "       [-0.29918788],\n",
              "       [-1.35067387],\n",
              "       [ 0.34820546],\n",
              "       [ 1.35486532],\n",
              "       [-1.3759762 ],\n",
              "       [ 0.98589978],\n",
              "       [-0.59511662],\n",
              "       [ 1.41734616],\n",
              "       [ 0.71837826],\n",
              "       [ 1.00274723],\n",
              "       [-0.90487837],\n",
              "       [ 0.32309258],\n",
              "       [-0.91850331],\n",
              "       [-0.1541663 ],\n",
              "       [-0.92269452],\n",
              "       [ 1.41734616],\n",
              "       [-1.54993781],\n",
              "       [-0.59511662],\n",
              "       [ 1.03475943],\n",
              "       [ 0.46786344],\n",
              "       [ 0.97606684],\n",
              "       [ 0.6600648 ],\n",
              "       [ 0.51783775],\n",
              "       [-0.4252276 ],\n",
              "       [ 1.28615767],\n",
              "       [ 0.97606684],\n",
              "       [-1.44985264],\n",
              "       [-1.54993781],\n",
              "       [ 1.40413128],\n",
              "       [ 1.04969471],\n",
              "       [ 0.94269703],\n",
              "       [-1.1935932 ],\n",
              "       [-0.00757527],\n",
              "       [ 0.75582313],\n",
              "       [ 1.39806093],\n",
              "       [-1.46523851],\n",
              "       [-1.0567665 ],\n",
              "       [ 0.9324306 ],\n",
              "       [-0.72988   ],\n",
              "       [ 1.52408356],\n",
              "       [ 1.39236683],\n",
              "       [ 0.06747313],\n",
              "       [-0.38545355],\n",
              "       [-1.1935932 ],\n",
              "       [-1.43069628],\n",
              "       [ 1.2774409 ],\n",
              "       [ 1.62014849],\n",
              "       [-1.27266268],\n",
              "       [ 1.4074927 ],\n",
              "       [-1.74493859],\n",
              "       [ 1.20061574],\n",
              "       [ 0.46786344],\n",
              "       [-1.0567665 ],\n",
              "       [ 0.83122375],\n",
              "       [ 0.6600648 ],\n",
              "       [ 0.58858422],\n",
              "       [ 1.50127618],\n",
              "       [ 1.50127618],\n",
              "       [-0.75894025],\n",
              "       [ 0.34586581],\n",
              "       [ 0.90752413],\n",
              "       [ 0.97191874],\n",
              "       [-1.73154424],\n",
              "       [ 1.43580093],\n",
              "       [ 1.62014849],\n",
              "       [-0.1541663 ],\n",
              "       [ 0.38745843],\n",
              "       [ 1.10390156],\n",
              "       [-0.59774   ],\n",
              "       [ 1.55171236],\n",
              "       [-0.2407784 ],\n",
              "       [ 0.78170047],\n",
              "       [-0.36464897],\n",
              "       [ 0.02575601],\n",
              "       [ 1.04960385],\n",
              "       [-1.15692643],\n",
              "       [-1.62776348],\n",
              "       [-0.36464897],\n",
              "       [-0.4252276 ],\n",
              "       [-0.2407784 ],\n",
              "       [ 0.27034648],\n",
              "       [ 0.46786344],\n",
              "       [-1.73714097],\n",
              "       [ 0.38745843],\n",
              "       [ 0.97606684],\n",
              "       [ 0.41553291],\n",
              "       [-1.62071732],\n",
              "       [ 1.10390156],\n",
              "       [ 0.71837826],\n",
              "       [-0.1541663 ],\n",
              "       [-1.36429042],\n",
              "       [-0.36464897],\n",
              "       [-0.92269452],\n",
              "       [-0.75894025],\n",
              "       [-0.90487837],\n",
              "       [-1.08182983],\n",
              "       [-0.52162168],\n",
              "       [ 0.9324306 ],\n",
              "       [ 1.2774409 ],\n",
              "       [ 1.37939868],\n",
              "       [ 1.37939868],\n",
              "       [ 1.03475943],\n",
              "       [-1.27266268],\n",
              "       [ 0.46279645],\n",
              "       [ 1.14462928],\n",
              "       [ 1.22075701],\n",
              "       [ 1.43580093],\n",
              "       [-1.02298771],\n",
              "       [-1.0567665 ],\n",
              "       [-0.55976305],\n",
              "       [-0.75894025],\n",
              "       [-0.03466237],\n",
              "       [ 0.18678022],\n",
              "       [-0.51577218],\n",
              "       [-0.59774   ],\n",
              "       [ 0.41497164],\n",
              "       [ 1.04960385],\n",
              "       [-0.89789265],\n",
              "       [ 0.34586581],\n",
              "       [ 0.02251877],\n",
              "       [ 0.28699413],\n",
              "       [-0.53607891],\n",
              "       [ 0.77509502],\n",
              "       [-1.27266268],\n",
              "       [-1.15692643],\n",
              "       [-1.3759762 ],\n",
              "       [ 0.6600648 ],\n",
              "       [ 0.94269703],\n",
              "       [-0.53607891],\n",
              "       [ 0.06747313],\n",
              "       [ 0.9324306 ],\n",
              "       [-1.27266268],\n",
              "       [-0.91850331],\n",
              "       [-0.51577218],\n",
              "       [ 0.8325454 ],\n",
              "       [ 0.99304358],\n",
              "       [ 0.41497164],\n",
              "       [ 1.31922113],\n",
              "       [-1.20787928],\n",
              "       [-0.16386973],\n",
              "       [ 0.41553291],\n",
              "       [-1.44985264],\n",
              "       [ 1.30533553],\n",
              "       [-0.42473802],\n",
              "       [ 0.75582313],\n",
              "       [-0.75011909],\n",
              "       [ 0.9324306 ],\n",
              "       [-0.18434348],\n",
              "       [-1.08182983],\n",
              "       [-0.1541663 ],\n",
              "       [-1.40535774],\n",
              "       [ 1.44702914],\n",
              "       [ 1.39799803],\n",
              "       [ 1.03475943],\n",
              "       [-0.38545355],\n",
              "       [-0.363319  ],\n",
              "       [ 0.46279645],\n",
              "       [-0.75011909],\n",
              "       [-0.51577218],\n",
              "       [ 0.41553291],\n",
              "       [ 0.27034648],\n",
              "       [ 0.77509502],\n",
              "       [ 0.26551966],\n",
              "       [ 1.04960385],\n",
              "       [ 0.02251877],\n",
              "       [ 1.62014849],\n",
              "       [-0.36464897],\n",
              "       [-0.80241043],\n",
              "       [ 0.83122375],\n",
              "       [-0.1541663 ],\n",
              "       [-0.55976305],\n",
              "       [ 1.31922113],\n",
              "       [-0.36464897],\n",
              "       [ 0.1392267 ],\n",
              "       [-0.89789265],\n",
              "       [ 0.57398646],\n",
              "       [ 1.35486532],\n",
              "       [ 1.2774409 ],\n",
              "       [-1.40535774],\n",
              "       [ 1.44702914],\n",
              "       [ 1.44702914],\n",
              "       [-1.36429042],\n",
              "       [-0.03466237],\n",
              "       [-0.29918788],\n",
              "       [-1.33059033],\n",
              "       [ 0.22843592],\n",
              "       [ 1.2774409 ],\n",
              "       [ 0.83122375],\n",
              "       [-1.47371279],\n",
              "       [ 1.43580093],\n",
              "       [ 1.03475943],\n",
              "       [ 0.77509502],\n",
              "       [ 1.28615767],\n",
              "       [ 0.51783775],\n",
              "       [-1.5721298 ],\n",
              "       [ 0.97606684],\n",
              "       [-0.11183672],\n",
              "       [-0.41161127],\n",
              "       [-1.21801511],\n",
              "       [ 0.83122375],\n",
              "       [ 1.37191625],\n",
              "       [ 0.8325454 ],\n",
              "       [-0.5854355 ],\n",
              "       [-0.12909751],\n",
              "       [ 0.78170047],\n",
              "       [ 0.41204831],\n",
              "       [-0.72988   ],\n",
              "       [ 1.03957183],\n",
              "       [-6.38165947],\n",
              "       [ 0.80282356],\n",
              "       [ 1.44702914],\n",
              "       [ 1.4747136 ],\n",
              "       [ 0.34820546],\n",
              "       [ 1.35486532],\n",
              "       [-0.91850331],\n",
              "       [ 1.37191625],\n",
              "       [-0.72988   ],\n",
              "       [ 0.38745843],\n",
              "       [-0.27510759],\n",
              "       [ 0.41553291],\n",
              "       [-1.57358463],\n",
              "       [-1.1935932 ],\n",
              "       [ 0.06747313],\n",
              "       [ 1.00274723],\n",
              "       [-0.41161127],\n",
              "       [-1.0567665 ],\n",
              "       [ 0.80282356],\n",
              "       [-1.08182983],\n",
              "       [ 0.22843592],\n",
              "       [ 1.50127618],\n",
              "       [-0.75894025],\n",
              "       [-0.42473802],\n",
              "       [-1.5721298 ],\n",
              "       [ 1.10390156],\n",
              "       [-0.44339937],\n",
              "       [-0.91850331],\n",
              "       [-0.52162168],\n",
              "       [ 0.8325454 ],\n",
              "       [ 0.94164048],\n",
              "       [-1.28104385],\n",
              "       [ 1.27408086],\n",
              "       [-0.36464897],\n",
              "       [ 0.46786344],\n",
              "       [ 1.4074927 ],\n",
              "       [ 0.9324306 ],\n",
              "       [-1.35067387],\n",
              "       [ 0.34820546],\n",
              "       [-1.36429042],\n",
              "       [ 1.50127618],\n",
              "       [-0.36474865],\n",
              "       [-0.29918788],\n",
              "       [ 1.35486532],\n",
              "       [ 0.80282356],\n",
              "       [ 1.04960385],\n",
              "       [-0.72988   ],\n",
              "       [-0.9959213 ],\n",
              "       [ 0.38745843],\n",
              "       [ 0.90752413],\n",
              "       [ 1.39236683],\n",
              "       [-1.74493859],\n",
              "       [ 0.26551966],\n",
              "       [ 1.22075701],\n",
              "       [-0.36474865],\n",
              "       [ 1.04960385],\n",
              "       [ 1.00115933],\n",
              "       [-0.03809035],\n",
              "       [ 0.02251877],\n",
              "       [-0.03466237],\n",
              "       [-1.46523851],\n",
              "       [ 0.1392267 ],\n",
              "       [-1.36429042],\n",
              "       [ 0.71837826],\n",
              "       [-1.46523851],\n",
              "       [ 1.62014849],\n",
              "       [-0.12909751],\n",
              "       [-1.28104385],\n",
              "       [-0.59511662],\n",
              "       [ 0.94164048],\n",
              "       [-0.12909751],\n",
              "       [ 0.8325454 ],\n",
              "       [-1.28104385],\n",
              "       [ 1.28615767],\n",
              "       [-1.53175495],\n",
              "       [-0.27510759],\n",
              "       [-0.5854355 ],\n",
              "       [ 1.03957183],\n",
              "       [-1.47371279],\n",
              "       [-1.3759762 ],\n",
              "       [-0.4252276 ],\n",
              "       [-1.47371279],\n",
              "       [-1.35067387],\n",
              "       [ 1.03957183],\n",
              "       [ 1.11307902],\n",
              "       [ 0.83122375],\n",
              "       [-1.35067387],\n",
              "       [ 1.20061574],\n",
              "       [-0.38545355],\n",
              "       [ 0.90752413],\n",
              "       [ 0.41553291],\n",
              "       [-0.11183672],\n",
              "       [ 1.37939868],\n",
              "       [-0.29918788],\n",
              "       [-0.03809035],\n",
              "       [ 1.43580093],\n",
              "       [-1.39140608],\n",
              "       [ 0.13695373],\n",
              "       [ 0.51783775],\n",
              "       [-0.51577218],\n",
              "       [-1.3759762 ],\n",
              "       [-0.11183672],\n",
              "       [ 0.98589978],\n",
              "       [ 0.46279645],\n",
              "       [ 0.80282356],\n",
              "       [ 0.94164048],\n",
              "       [ 1.39799803],\n",
              "       [ 0.38745843],\n",
              "       [-1.74493859],\n",
              "       [ 1.37939868],\n",
              "       [-0.99267185],\n",
              "       [-1.43069628],\n",
              "       [-1.17697967],\n",
              "       [ 0.4152144 ],\n",
              "       [ 1.35486532],\n",
              "       [-0.70196915],\n",
              "       [-0.48596823],\n",
              "       [-1.3759762 ],\n",
              "       [-0.36464897],\n",
              "       [ 0.95437629],\n",
              "       [ 0.6600648 ],\n",
              "       [ 0.02575601],\n",
              "       [ 0.95437629],\n",
              "       [ 0.1392267 ],\n",
              "       [-0.42473802],\n",
              "       [-0.9959213 ],\n",
              "       [-0.36464897],\n",
              "       [ 0.99304358],\n",
              "       [-0.55976305],\n",
              "       [-0.51577218],\n",
              "       [-0.03466237],\n",
              "       [ 1.04960385],\n",
              "       [-0.16386973],\n",
              "       [-0.16386973],\n",
              "       [ 0.46279645],\n",
              "       [-0.5854355 ],\n",
              "       [ 0.18678022],\n",
              "       [-1.73154424],\n",
              "       [ 0.38745843],\n",
              "       [-0.92269452],\n",
              "       [-0.12909751],\n",
              "       [ 0.4152144 ],\n",
              "       [-0.363319  ],\n",
              "       [-1.47371279],\n",
              "       [ 0.46279645],\n",
              "       [ 1.00228507],\n",
              "       [-0.18434348],\n",
              "       [ 1.43580093],\n",
              "       [ 1.31922113],\n",
              "       [-0.55976305],\n",
              "       [-0.12909751],\n",
              "       [-0.94524964],\n",
              "       [-0.03466237],\n",
              "       [-1.73714097],\n",
              "       [ 0.26551966],\n",
              "       [-0.59774   ],\n",
              "       [-0.83952364],\n",
              "       [ 0.78170047],\n",
              "       [ 0.06313378],\n",
              "       [ 1.03957183],\n",
              "       [-0.70196915],\n",
              "       [-0.75011909],\n",
              "       [ 1.4074927 ],\n",
              "       [-1.73714097],\n",
              "       [-1.46523851],\n",
              "       [-0.16386973],\n",
              "       [-0.94524964],\n",
              "       [-0.59774   ],\n",
              "       [-0.91850331],\n",
              "       [-0.92269452],\n",
              "       [-0.51577218],\n",
              "       [ 0.71837826],\n",
              "       [-0.5854355 ],\n",
              "       [ 1.00228507],\n",
              "       [ 0.97191874],\n",
              "       [-0.4252276 ],\n",
              "       [ 1.10390156],\n",
              "       [-0.99267185],\n",
              "       [-1.47371279],\n",
              "       [-1.6606795 ],\n",
              "       [-0.5854355 ],\n",
              "       [ 0.58858422],\n",
              "       [ 0.02575601],\n",
              "       [ 0.8325454 ],\n",
              "       [-0.42473802],\n",
              "       [ 1.03957183],\n",
              "       [ 1.39799803],\n",
              "       [ 0.28699413],\n",
              "       [ 1.04960385],\n",
              "       [-0.70196915],\n",
              "       [-1.08085196],\n",
              "       [-0.4252276 ],\n",
              "       [-1.20787928],\n",
              "       [ 0.97191874],\n",
              "       [ 0.32309258],\n",
              "       [ 0.75582313],\n",
              "       [-0.52917724],\n",
              "       [ 1.08544127],\n",
              "       [ 1.10390156],\n",
              "       [-1.35067387],\n",
              "       [-1.27266268],\n",
              "       [-1.39140608],\n",
              "       [ 1.40413128],\n",
              "       [ 1.39236683],\n",
              "       [ 1.03475943],\n",
              "       [ 1.10390156],\n",
              "       [-0.1541663 ],\n",
              "       [-0.11183672],\n",
              "       [-0.72988   ],\n",
              "       [-0.38545355],\n",
              "       [-0.59511662],\n",
              "       [-0.52900357],\n",
              "       [-0.44339937],\n",
              "       [-0.5854355 ],\n",
              "       [ 1.03475943],\n",
              "       [-1.73714097],\n",
              "       [-0.2407784 ],\n",
              "       [ 0.58858422],\n",
              "       [-0.59774   ],\n",
              "       [ 0.6640638 ],\n",
              "       [-1.73154424],\n",
              "       [ 0.4152144 ],\n",
              "       [ 0.94164048],\n",
              "       [ 1.2774409 ],\n",
              "       [-0.00757527],\n",
              "       [ 1.00274723],\n",
              "       [-0.80241043],\n",
              "       [ 0.34820546],\n",
              "       [-1.3759762 ],\n",
              "       [-1.43069628],\n",
              "       [-1.43069628],\n",
              "       [-1.17697967],\n",
              "       [ 1.30533553],\n",
              "       [ 0.06313378],\n",
              "       [-1.57358463],\n",
              "       [ 0.65339431],\n",
              "       [-1.0567665 ],\n",
              "       [ 1.20061574],\n",
              "       [-0.3972938 ],\n",
              "       [-1.0567665 ],\n",
              "       [-1.17697967],\n",
              "       [ 0.28699413],\n",
              "       [ 0.97191874],\n",
              "       [ 1.37939868],\n",
              "       [ 0.1428216 ],\n",
              "       [ 1.40413128],\n",
              "       [-0.52900357],\n",
              "       [-0.75894025]])"
            ]
          },
          "metadata": {},
          "execution_count": 328
        }
      ]
    },
    {
      "cell_type": "code",
      "metadata": {
        "colab": {
          "base_uri": "https://localhost:8080/"
        },
        "id": "jqbvfbwVr0TN",
        "outputId": "1843035b-8596-4ea0-f078-e0f4f9c40e21"
      },
      "source": [
        "from tqdm import tqdm\n",
        "mosaic_list_of_images =[]\n",
        "mosaic_label = []\n",
        "fore_idx=[]\n",
        "for j in tqdm(range(desired_num+1000)):\n",
        "    np.random.seed(j)\n",
        "    fg_class  = np.random.randint(0,2)\n",
        "    fg_idx = 0\n",
        "    a = []\n",
        "    for i in range(m):\n",
        "        if i == fg_idx:\n",
        "            b = np.random.choice(np.where(idx[fg_class]==True)[0],size=1)\n",
        "            a.append(x[b])\n",
        "#             print(\"foreground \"+str(fg_class)+\" present at \" + str(fg_idx))\n",
        "        else:\n",
        "            bg_class = np.random.randint(2,3)\n",
        "            b = np.random.choice(np.where(idx[bg_class]==True)[0],size=1)\n",
        "            a.append(x[b])\n",
        "#             print(\"background \"+str(bg_class)+\" present at \" + str(i))\n",
        "    a = np.concatenate(a,axis=0)\n",
        "    mosaic_list_of_images.append(np.reshape(a,(m,1)))\n",
        "    mosaic_label.append(fg_class)\n",
        "    fore_idx.append(fg_idx)\n",
        "    # if(j%(int(desired_num/4))==0):\n",
        "      # print(\"25% done\")"
      ],
      "execution_count": 329,
      "outputs": [
        {
          "output_type": "stream",
          "name": "stderr",
          "text": [
            "100%|██████████| 11000/11000 [06:25<00:00, 28.54it/s]\n"
          ]
        }
      ]
    },
    {
      "cell_type": "code",
      "metadata": {
        "colab": {
          "base_uri": "https://localhost:8080/"
        },
        "id": "BOsFmWfMr0TR",
        "outputId": "5669a2fa-b9e3-4554-bf37-62e9179a94fc"
      },
      "source": [
        "mosaic_list_of_images = np.concatenate(mosaic_list_of_images,axis=1).T\n",
        "mosaic_list_of_images.shape"
      ],
      "execution_count": 330,
      "outputs": [
        {
          "output_type": "execute_result",
          "data": {
            "text/plain": [
              "(11000, 500)"
            ]
          },
          "metadata": {},
          "execution_count": 330
        }
      ]
    },
    {
      "cell_type": "code",
      "metadata": {
        "colab": {
          "base_uri": "https://localhost:8080/"
        },
        "id": "EYk_u5RS-qjC",
        "outputId": "62b6b199-1b25-42fc-abf6-585cfa2b2113"
      },
      "source": [
        "np.sum(mosaic_list_of_images[0:tr_j], axis=1).shape, np.sum(mosaic_list_of_images[0:tr_j], axis=1)"
      ],
      "execution_count": 331,
      "outputs": [
        {
          "output_type": "execute_result",
          "data": {
            "text/plain": [
              "((10000,), array([-10.21806515, -10.79146525,  -9.47009026, ..., -10.91181212,\n",
              "          6.4640813 , -43.54256649]))"
            ]
          },
          "metadata": {},
          "execution_count": 331
        }
      ]
    },
    {
      "cell_type": "code",
      "metadata": {
        "colab": {
          "base_uri": "https://localhost:8080/"
        },
        "id": "SID1-EWS-Moq",
        "outputId": "e4482c31-0460-4e4e-e45d-93a33a89bef4"
      },
      "source": [
        "train = np.sum(mosaic_list_of_images[0:tr_j], axis=1)/m\n",
        "train[0], train.shape"
      ],
      "execution_count": 332,
      "outputs": [
        {
          "output_type": "execute_result",
          "data": {
            "text/plain": [
              "(-0.02043613029758322, (10000,))"
            ]
          },
          "metadata": {},
          "execution_count": 332
        }
      ]
    },
    {
      "cell_type": "code",
      "metadata": {
        "colab": {
          "base_uri": "https://localhost:8080/"
        },
        "id": "udOrXAYP_un7",
        "outputId": "c622e2ab-730b-4b3e-a1d6-af3910c8737e"
      },
      "source": [
        "test = mosaic_list_of_images[tr_j:tr_k,0]/m\n",
        "test[0], test.shape"
      ],
      "execution_count": 333,
      "outputs": [
        {
          "output_type": "execute_result",
          "data": {
            "text/plain": [
              "(-0.023585400912882814, (1000,))"
            ]
          },
          "metadata": {},
          "execution_count": 333
        }
      ]
    },
    {
      "cell_type": "code",
      "metadata": {
        "id": "5sEE5AxhSFsf"
      },
      "source": [
        "avg_image_dataset_1 , labels_1,  fg_index_1 = np.sum(mosaic_list_of_images[0:tr_j], axis=1)/m , mosaic_label[0:tr_j], fore_idx[0:tr_j] \n",
        "\n",
        "\n",
        "test_dataset , labels , fg_index = mosaic_list_of_images[tr_j:tr_k,0]/m , mosaic_label[tr_j : tr_k], fore_idx[tr_j : tr_k] "
      ],
      "execution_count": 334,
      "outputs": []
    },
    {
      "cell_type": "code",
      "metadata": {
        "colab": {
          "base_uri": "https://localhost:8080/"
        },
        "id": "-7kCl8lV_KUD",
        "outputId": "adb9c613-9c86-4040-a7ab-ba6b84bc6a45"
      },
      "source": [
        "avg_image_dataset_1[0], test_dataset[0], avg_image_dataset_1.shape, test_dataset.shape"
      ],
      "execution_count": 335,
      "outputs": [
        {
          "output_type": "execute_result",
          "data": {
            "text/plain": [
              "(-0.02043613029758322, -0.023585400912882814, (10000,), (1000,))"
            ]
          },
          "metadata": {},
          "execution_count": 335
        }
      ]
    },
    {
      "cell_type": "code",
      "metadata": {
        "colab": {
          "base_uri": "https://localhost:8080/"
        },
        "id": "pFf3P3SWFpkY",
        "outputId": "8712154d-b178-446f-bccd-aa3bce34a0d0"
      },
      "source": [
        "avg_image_dataset_1 = avg_image_dataset_1.reshape(desired_num,1)\n",
        "test_dataset = test_dataset.reshape(1000, 1)\n",
        "avg_image_dataset_1.shape, test_dataset.shape"
      ],
      "execution_count": 355,
      "outputs": [
        {
          "output_type": "execute_result",
          "data": {
            "text/plain": [
              "((10000, 1), (1000, 1))"
            ]
          },
          "metadata": {},
          "execution_count": 355
        }
      ]
    },
    {
      "cell_type": "code",
      "metadata": {
        "id": "0dYXnywAD-4l"
      },
      "source": [
        "# avg_image_dataset_1 = torch.stack(avg_image_dataset_1, axis = 0)\n",
        "\n",
        "# mean = torch.mean(avg_image_dataset_1, keepdims= True, axis = 0)\n",
        "# std = torch.std(avg_image_dataset_1, keepdims= True, axis = 0)\n",
        "\n",
        "# avg_image_dataset_1 = (avg_image_dataset_1 - mean) / std \n",
        "\n",
        "# print(torch.mean(avg_image_dataset_1, keepdims= True, axis = 0))\n",
        "# print(torch.std(avg_image_dataset_1, keepdims= True, axis = 0))\n",
        "# print(\"==\"*40)\n",
        "\n",
        "\n",
        "# test_dataset = torch.stack(test_dataset, axis = 0)\n",
        "# mean = torch.mean(test_dataset, keepdims= True, axis = 0)\n",
        "# std = torch.std(test_dataset, keepdims= True, axis = 0)\n",
        "# test_dataset = (test_dataset - mean) / std\n",
        "\n",
        "# print(torch.mean(test_dataset, keepdims= True, axis = 0))\n",
        "# print(torch.std(test_dataset, keepdims= True, axis = 0))\n",
        "# print(\"==\"*40)\n"
      ],
      "execution_count": 356,
      "outputs": []
    },
    {
      "cell_type": "code",
      "metadata": {
        "colab": {
          "base_uri": "https://localhost:8080/",
          "height": 299
        },
        "id": "bT9-kEI7NAnR",
        "outputId": "fac02503-a622-4e31-e456-2542a02deddf"
      },
      "source": [
        "x1 = (avg_image_dataset_1)\n",
        "y1 = np.array(labels_1)\n",
        "\n",
        "# idx1 = []\n",
        "# for i in range(3):\n",
        "#   idx1.append(y1 == i)\n",
        "\n",
        "# for i in range(3):\n",
        "#     z = np.zeros(x1[idx1[i]].shape[0])\n",
        "#     plt.scatter(x1[idx1[i]],z,label=\"class_\"+str(i))\n",
        "# plt.legend()\n",
        "\n",
        "plt.scatter(x1[y1==0], y1[y1==0]*0, label='class 0')\n",
        "plt.scatter(x1[y1==1], y1[y1==1]*0, label='class 1')\n",
        "# plt.scatter(x1[y1==2], y1[y1==2]*0, label='class 2')\n",
        "plt.legend()\n",
        "plt.title(\"dataset1 CIN with alpha = 1/\"+str(m))"
      ],
      "execution_count": 357,
      "outputs": [
        {
          "output_type": "execute_result",
          "data": {
            "text/plain": [
              "Text(0.5, 1.0, 'dataset1 CIN with alpha = 1/500')"
            ]
          },
          "metadata": {},
          "execution_count": 357
        },
        {
          "output_type": "display_data",
          "data": {
            "image/png": "[encoded data removed]",
            "text/plain": [
              "<Figure size 432x288 with 1 Axes>"
            ]
          },
          "metadata": {
            "needs_background": "light"
          }
        }
      ]
    },
    {
      "cell_type": "code",
      "metadata": {
        "colab": {
          "base_uri": "https://localhost:8080/",
          "height": 305
        },
        "id": "DWQydhG9jg1I",
        "outputId": "e1c499e4-d545-43a1-ecc1-5c09b1473e7c"
      },
      "source": [
        "x1 = (avg_image_dataset_1)\n",
        "y1 = np.array(labels_1)\n",
        "\n",
        "idx_1 = y1==0\n",
        "idx_2 = np.where(idx_1==True)[0]\n",
        "idx_3 = np.where(idx_1==False)[0]\n",
        "color = ['#1F77B4','orange', 'brown']\n",
        "\n",
        "true_point = len(idx_2)\n",
        "plt.scatter(x1[idx_2[:25]], y1[idx_2[:25]]*0, label='class 0', c= color[0], marker='o')\n",
        "plt.scatter(x1[idx_3[:25]], y1[idx_3[:25]]*0, label='class 1', c= color[1], marker='o')\n",
        "\n",
        "plt.scatter(x1[idx_3[50:75]], y1[idx_3[50:75]]*0,  c= color[1], marker='o')\n",
        "plt.scatter(x1[idx_2[50:75]], y1[idx_2[50:75]]*0,  c= color[0], marker='o')\n",
        "\n",
        "\n",
        "plt.legend()\n",
        "plt.xticks( fontsize=14, fontweight = 'bold')\n",
        "plt.yticks( fontsize=14, fontweight = 'bold')\n",
        "plt.xlabel(\"X\", fontsize=14, fontweight = 'bold')\n",
        "# plt.savefig(fp_cin+\"ds1_alpha_04.png\", bbox_inches=\"tight\")\n",
        "# plt.savefig(fp_cin+\"ds1_alpha_04.pdf\", bbox_inches=\"tight\")"
      ],
      "execution_count": 358,
      "outputs": [
        {
          "output_type": "execute_result",
          "data": {
            "text/plain": [
              "Text(0.5, 0, 'X')"
            ]
          },
          "metadata": {},
          "execution_count": 358
        },
        {
          "output_type": "display_data",
          "data": {
            "image/png": "[encoded data removed]",
            "text/plain": [
              "<Figure size 432x288 with 1 Axes>"
            ]
          },
          "metadata": {
            "needs_background": "light"
          }
        }
      ]
    },
    {
      "cell_type": "code",
      "metadata": {
        "colab": {
          "base_uri": "https://localhost:8080/"
        },
        "id": "bu5Po7YIiLvN",
        "outputId": "a8739127-da9f-46d4-e6d0-20330f415651"
      },
      "source": [
        "avg_image_dataset_1[0:10]"
      ],
      "execution_count": 359,
      "outputs": [
        {
          "output_type": "execute_result",
          "data": {
            "text/plain": [
              "array([[-0.02043613],\n",
              "       [-0.02158293],\n",
              "       [-0.01894018],\n",
              "       [-0.08562688],\n",
              "       [-0.03473192],\n",
              "       [ 0.01673077],\n",
              "       [-0.00041908],\n",
              "       [-0.01507021],\n",
              "       [-0.07714583],\n",
              "       [-0.04686793]])"
            ]
          },
          "metadata": {},
          "execution_count": 359
        }
      ]
    },
    {
      "cell_type": "code",
      "metadata": {
        "colab": {
          "base_uri": "https://localhost:8080/",
          "height": 299
        },
        "id": "1fhxsxf9384L",
        "outputId": "622d26d9-e254-4b0d-fbbc-219a33dffd8b"
      },
      "source": [
        "x1 = (test_dataset)\n",
        "y1 = np.array(labels)\n",
        "\n",
        "# idx1 = []\n",
        "# for i in range(3):\n",
        "#   idx1.append(y1 == i)\n",
        "\n",
        "# for i in range(3):\n",
        "#     z = np.zeros(x1[idx1[i]].shape[0])\n",
        "#     plt.scatter(x1[idx1[i]],z,label=\"class_\"+str(i))\n",
        "# plt.legend()\n",
        "\n",
        "plt.scatter(x1[y1==0], y1[y1==0]*0, label='class 0')\n",
        "plt.scatter(x1[y1==1], y1[y1==1]*0, label='class 1')\n",
        "# plt.scatter(x1[y1==2], y1[y1==2]*0, label='class 2')\n",
        "plt.legend()\n",
        "plt.title(\"test dataset1 \")"
      ],
      "execution_count": 360,
      "outputs": [
        {
          "output_type": "execute_result",
          "data": {
            "text/plain": [
              "Text(0.5, 1.0, 'test dataset1 ')"
            ]
          },
          "metadata": {},
          "execution_count": 360
        },
        {
          "output_type": "display_data",
          "data": {
            "image/png": "[encoded data removed]",
            "text/plain": [
              "<Figure size 432x288 with 1 Axes>"
            ]
          },
          "metadata": {
            "needs_background": "light"
          }
        }
      ]
    },
    {
      "cell_type": "code",
      "metadata": {
        "colab": {
          "base_uri": "https://localhost:8080/"
        },
        "id": "wa4C_cnogtXE",
        "outputId": "b9bea621-e319-45a3-aa21-988e68bfe20a"
      },
      "source": [
        "test_dataset[0:10]"
      ],
      "execution_count": 361,
      "outputs": [
        {
          "output_type": "execute_result",
          "data": {
            "text/plain": [
              "array([[-0.0235854 ],\n",
              "       [-0.01333246],\n",
              "       [-0.01630295],\n",
              "       [-0.01382226],\n",
              "       [-0.01667354],\n",
              "       [-0.02240826],\n",
              "       [-0.01845833],\n",
              "       [-0.02065663],\n",
              "       [-0.01197566],\n",
              "       [-0.01692468]])"
            ]
          },
          "metadata": {},
          "execution_count": 361
        }
      ]
    },
    {
      "cell_type": "code",
      "metadata": {
        "id": "yL0BRf8er0TX"
      },
      "source": [
        "class MosaicDataset(Dataset):\n",
        "  \"\"\"MosaicDataset dataset.\"\"\"\n",
        "\n",
        "  def __init__(self, mosaic_list_of_images, mosaic_label):\n",
        "    \"\"\"\n",
        "      Args:\n",
        "        csv_file (string): Path to the csv file with annotations.\n",
        "        root_dir (string): Directory with all the images.\n",
        "        transform (callable, optional): Optional transform to be applied\n",
        "            on a sample.\n",
        "    \"\"\"\n",
        "    self.mosaic = mosaic_list_of_images\n",
        "    self.label = mosaic_label\n",
        "    #self.fore_idx = fore_idx\n",
        "    \n",
        "  def __len__(self):\n",
        "    return len(self.label)\n",
        "\n",
        "  def __getitem__(self, idx):\n",
        "    return self.mosaic[idx] , self.label[idx] #, self.fore_idx[idx]\n",
        "\n"
      ],
      "execution_count": 362,
      "outputs": []
    },
    {
      "cell_type": "code",
      "metadata": {
        "colab": {
          "base_uri": "https://localhost:8080/"
        },
        "id": "4KsrW9qL9xgS",
        "outputId": "8407b69e-a6e0-439d-9228-53ae56eb4523"
      },
      "source": [
        "avg_image_dataset_1[0].shape, avg_image_dataset_1[0]"
      ],
      "execution_count": 363,
      "outputs": [
        {
          "output_type": "execute_result",
          "data": {
            "text/plain": [
              "((1,), array([-0.02043613]))"
            ]
          },
          "metadata": {},
          "execution_count": 363
        }
      ]
    },
    {
      "cell_type": "code",
      "metadata": {
        "id": "EY2l62APygaV"
      },
      "source": [
        "batch = 200\n",
        "\n",
        "traindata_1 = MosaicDataset(avg_image_dataset_1, labels_1 )\n",
        "trainloader_1 = DataLoader( traindata_1 , batch_size= batch ,shuffle=True)\n"
      ],
      "execution_count": 364,
      "outputs": []
    },
    {
      "cell_type": "code",
      "metadata": {
        "id": "Nh3mBQHZ8bEj"
      },
      "source": [
        "testdata_1 = MosaicDataset(test_dataset, labels )\n",
        "testloader_1 = DataLoader( testdata_1 , batch_size= batch ,shuffle=False)"
      ],
      "execution_count": 365,
      "outputs": []
    },
    {
      "cell_type": "code",
      "metadata": {
        "id": "5_XeIUk0r0Tl"
      },
      "source": [
        "class Whatnet(nn.Module):\n",
        "    def __init__(self):\n",
        "        super(Whatnet,self).__init__()\n",
        "        self.linear1 = nn.Linear(1,2)\n",
        "        # self.linear2 = nn.Linear(50,10)\n",
        "        # self.linear3 = nn.Linear(10,3)\n",
        "        torch.nn.init.xavier_normal_(self.linear1.weight)\n",
        "        torch.nn.init.zeros_(self.linear1.bias)\n",
        "\n",
        "    def forward(self,x):\n",
        "        # x = F.relu(self.linear1(x))\n",
        "        # x = F.relu(self.linear2(x))\n",
        "        x = (self.linear1(x))\n",
        "\n",
        "        return x"
      ],
      "execution_count": 366,
      "outputs": []
    },
    {
      "cell_type": "code",
      "metadata": {
        "id": "pjD2VZuV9Ed4"
      },
      "source": [
        "def calculate_loss(dataloader,model,criter):\n",
        "  model.eval()\n",
        "  r_loss = 0\n",
        "  with torch.no_grad():\n",
        "    for i, data in enumerate(dataloader, 0):\n",
        "      inputs, labels = data\n",
        "      inputs, labels = inputs.to(\"cuda\"),labels.to(\"cuda\")\n",
        "      outputs = model(inputs)\n",
        "      loss = criter(outputs, labels)\n",
        "      r_loss += loss.item()\n",
        "  return r_loss/(i+1)"
      ],
      "execution_count": 367,
      "outputs": []
    },
    {
      "cell_type": "code",
      "metadata": {
        "id": "uALi25pmzQHV"
      },
      "source": [
        "def test_all(number, testloader,net):\n",
        "    correct = 0\n",
        "    total = 0\n",
        "    out = []\n",
        "    pred = []\n",
        "    with torch.no_grad():\n",
        "        for data in testloader:\n",
        "            images, labels = data\n",
        "            images, labels = images.to(\"cuda\"),labels.to(\"cuda\")\n",
        "            out.append(labels.cpu().numpy())\n",
        "            outputs= net(images)\n",
        "            _, predicted = torch.max(outputs.data, 1)\n",
        "            pred.append(predicted.cpu().numpy())\n",
        "            total += labels.size(0)\n",
        "            correct += (predicted == labels).sum().item()\n",
        "    \n",
        "    pred = np.concatenate(pred, axis = 0)\n",
        "    out = np.concatenate(out, axis = 0)\n",
        "    print(\"unique out: \",  np.unique(out), \"unique pred: \", np.unique(pred) )\n",
        "    print(\"correct: \", correct, \"total \",  total)\n",
        "    print('Accuracy of the network on the %d test dataset %d: %.2f %%' % (total, number , 100 * correct / total))"
      ],
      "execution_count": 368,
      "outputs": []
    },
    {
      "cell_type": "code",
      "metadata": {
        "id": "4vmNprlPzTjP"
      },
      "source": [
        "def train_all(trainloader, ds_number, testloader_list):\n",
        "    \n",
        "    print(\"--\"*40)\n",
        "    print(\"training on data set  \", ds_number)\n",
        "    \n",
        "    torch.manual_seed(12)\n",
        "    net = Whatnet().double()\n",
        "    net = net.to(\"cuda\")\n",
        "    \n",
        "    criterion_net = nn.CrossEntropyLoss()\n",
        "    optimizer_net = optim.Adam(net.parameters(), lr=0.0001 ) #, momentum=0.9)\n",
        "    \n",
        "    acti = []\n",
        "    loss_curi = []\n",
        "    epochs = 1500\n",
        "    running_loss = calculate_loss(trainloader,net,criterion_net)\n",
        "    loss_curi.append(running_loss)\n",
        "    print('epoch: [%d ] loss: %.3f' %(0,running_loss)) \n",
        "    for epoch in range(epochs): # loop over the dataset multiple times\n",
        "        ep_lossi = []\n",
        "\n",
        "        running_loss = 0.0\n",
        "        net.train()\n",
        "        for i, data in enumerate(trainloader, 0):\n",
        "            # get the inputs\n",
        "            inputs, labels = data\n",
        "            inputs, labels = inputs.to(\"cuda\"),labels.to(\"cuda\")\n",
        "\n",
        "            # zero the parameter gradients\n",
        "            optimizer_net.zero_grad()\n",
        "\n",
        "            # forward + backward + optimize\n",
        "            outputs = net(inputs)\n",
        "            loss = criterion_net(outputs, labels)\n",
        "            # print statistics\n",
        "            running_loss += loss.item()\n",
        "            loss.backward()\n",
        "            optimizer_net.step()\n",
        "\n",
        "        running_loss = calculate_loss(trainloader,net,criterion_net)\n",
        "        if(epoch%200 == 0):\n",
        "          print('epoch: [%d] loss: %.3f' %(epoch + 1,running_loss)) \n",
        "        loss_curi.append(running_loss)   #loss per epoch\n",
        "        if running_loss<=0.05:\n",
        "          print('epoch: [%d] loss: %.3f' %(epoch + 1,running_loss))\n",
        "          break\n",
        "\n",
        "    print('Finished Training')\n",
        "    \n",
        "    correct = 0\n",
        "    total = 0\n",
        "    with torch.no_grad():\n",
        "        for data in trainloader:\n",
        "            images, labels = data\n",
        "            images, labels = images.to(\"cuda\"), labels.to(\"cuda\")\n",
        "            outputs = net(images)\n",
        "            _, predicted = torch.max(outputs.data, 1)\n",
        "            total += labels.size(0)\n",
        "            correct += (predicted == labels).sum().item()\n",
        "\n",
        "    print('Accuracy of the network on the %d train images: %.2f %%' % (total,  100 * correct / total))\n",
        "    \n",
        "    for i, j in enumerate(testloader_list):\n",
        "        test_all(i+1, j,net)\n",
        "    \n",
        "    print(\"--\"*40)\n",
        "    \n",
        "    return loss_curi, net\n",
        "    "
      ],
      "execution_count": 369,
      "outputs": []
    },
    {
      "cell_type": "code",
      "metadata": {
        "id": "Yl41sE8vFERk"
      },
      "source": [
        "train_loss_all=[]\n",
        "\n",
        "testloader_list= [ testloader_1 ]"
      ],
      "execution_count": 370,
      "outputs": []
    },
    {
      "cell_type": "code",
      "metadata": {
        "id": "5gQoPST5zW2t",
        "colab": {
          "base_uri": "https://localhost:8080/"
        },
        "outputId": "14492a54-6237-4622-f48e-985baa7682f6"
      },
      "source": [
        "loss, net = train_all(trainloader_1, 1, testloader_list)\n",
        "train_loss_all.append(loss)"
      ],
      "execution_count": 371,
      "outputs": [
        {
          "output_type": "stream",
          "name": "stdout",
          "text": [
            "--------------------------------------------------------------------------------\n",
            "training on data set   1\n",
            "epoch: [0 ] loss: 0.692\n",
            "epoch: [1] loss: 0.692\n",
            "epoch: [201] loss: 0.691\n",
            "epoch: [401] loss: 0.690\n",
            "epoch: [601] loss: 0.690\n",
            "epoch: [801] loss: 0.690\n",
            "epoch: [1001] loss: 0.690\n",
            "epoch: [1201] loss: 0.690\n",
            "epoch: [1401] loss: 0.690\n",
            "Finished Training\n",
            "Accuracy of the network on the 10000 train images: 53.26 %\n",
            "unique out:  [0 1] unique pred:  [0 1]\n",
            "correct:  921 total  1000\n",
            "Accuracy of the network on the 1000 test dataset 1: 92.10 %\n",
            "--------------------------------------------------------------------------------\n"
          ]
        }
      ]
    },
    {
      "cell_type": "code",
      "metadata": {
        "colab": {
          "base_uri": "https://localhost:8080/"
        },
        "id": "1PKuWWdcic_T",
        "outputId": "56d1035f-4221-4ad0-c5e9-563e1ed476b0"
      },
      "source": [
        "net.linear1.weight, net.linear1.bias"
      ],
      "execution_count": 353,
      "outputs": [
        {
          "output_type": "execute_result",
          "data": {
            "text/plain": [
              "(Parameter containing:\n",
              " tensor([[-1.6036],\n",
              "         [ 1.9277]], device='cuda:0', dtype=torch.float64, requires_grad=True),\n",
              " Parameter containing:\n",
              " tensor([-0.0319,  0.0319], device='cuda:0', dtype=torch.float64,\n",
              "        requires_grad=True))"
            ]
          },
          "metadata": {},
          "execution_count": 353
        }
      ]
    },
    {
      "cell_type": "code",
      "metadata": {
        "id": "In76SYH_zZHV"
      },
      "source": [
        "%matplotlib inline"
      ],
      "execution_count": 354,
      "outputs": []
    },
    {
      "cell_type": "code",
      "metadata": {
        "id": "BS4HtOHEzZ0E"
      },
      "source": [
        "for i,j in enumerate(train_loss_all):\n",
        "    plt.plot(j,label =\"dataset \"+str(i+1))\n",
        "    \n",
        "\n",
        "plt.xlabel(\"Epochs\")\n",
        "plt.ylabel(\"Training_loss\")\n",
        "\n",
        "plt.legend(loc='center left', bbox_to_anchor=(1, 0.5))"
      ],
      "execution_count": null,
      "outputs": []
    },
    {
      "cell_type": "code",
      "metadata": {
        "id": "1UbTkfLUINTI"
      },
      "source": [
        ""
      ],
      "execution_count": null,
      "outputs": []
    }
  ]
}