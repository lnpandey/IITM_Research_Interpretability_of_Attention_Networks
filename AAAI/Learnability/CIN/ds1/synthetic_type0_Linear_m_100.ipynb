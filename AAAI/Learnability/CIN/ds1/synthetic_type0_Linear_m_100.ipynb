{
  "nbformat": 4,
  "nbformat_minor": 0,
  "metadata": {
    "accelerator": "GPU",
    "colab": {
      "name": "synthetic_type0_Linear_m_5.ipynb",
      "provenance": [],
      "collapsed_sections": []
    },
    "kernelspec": {
      "display_name": "Python 3",
      "language": "python",
      "name": "python3"
    },
    "language_info": {
      "codemirror_mode": {
        "name": "ipython",
        "version": 3
      },
      "file_extension": ".py",
      "mimetype": "text/x-python",
      "name": "python",
      "nbconvert_exporter": "python",
      "pygments_lexer": "ipython3",
      "version": "3.6.5"
    }
  },
  "cells": [
    {
      "cell_type": "code",
      "metadata": {
        "colab": {
          "base_uri": "https://localhost:8080/"
        },
        "id": "N2_J4Rw2r0SQ",
        "outputId": "3fd6bd66-6739-4d02-ffcc-b0f79d436f49"
      },
      "source": [
        "import numpy as np\n",
        "import pandas as pd\n",
        "from matplotlib import pyplot as plt\n",
        "from tqdm import tqdm\n",
        "%matplotlib inline\n",
        "from torch.utils.data import Dataset, DataLoader\n",
        "import torch\n",
        "import torchvision\n",
        "\n",
        "import torch.nn as nn\n",
        "import torch.optim as optim\n",
        "from torch.nn import functional as F\n",
        "device = torch.device(\"cuda\" if torch.cuda.is_available() else \"cpu\")\n",
        "print(device)"
      ],
      "execution_count": 256,
      "outputs": [
        {
          "output_type": "stream",
          "name": "stdout",
          "text": [
            "cuda\n"
          ]
        }
      ]
    },
    {
      "cell_type": "code",
      "metadata": {
        "id": "y9cP_3OWFHdo"
      },
      "source": [
        "torch.backends.cudnn.deterministic = True\n",
        "torch.backends.cudnn.benchmark= False"
      ],
      "execution_count": 257,
      "outputs": []
    },
    {
      "cell_type": "code",
      "metadata": {
        "id": "xR3b9hhxzqKB"
      },
      "source": [
        "m = 100"
      ],
      "execution_count": 258,
      "outputs": []
    },
    {
      "cell_type": "markdown",
      "metadata": {
        "id": "F6fjud_Fr0Sa"
      },
      "source": [
        "# Generate dataset"
      ]
    },
    {
      "cell_type": "code",
      "metadata": {
        "colab": {
          "base_uri": "https://localhost:8080/"
        },
        "id": "CqdXHO0Cr0Sd",
        "outputId": "9a5aa3a0-ef17-402f-a49e-84fe2525d4ff"
      },
      "source": [
        "np.random.seed(12)\n",
        "y = np.random.randint(0,3,500)\n",
        "idx= []\n",
        "for i in range(3):\n",
        "    print(i,sum(y==i))\n",
        "    idx.append(y==i)"
      ],
      "execution_count": 259,
      "outputs": [
        {
          "output_type": "stream",
          "name": "stdout",
          "text": [
            "0 174\n",
            "1 163\n",
            "2 163\n"
          ]
        }
      ]
    },
    {
      "cell_type": "code",
      "metadata": {
        "id": "ddhXyODwr0Sk"
      },
      "source": [
        "x = np.zeros((500,))"
      ],
      "execution_count": 260,
      "outputs": []
    },
    {
      "cell_type": "code",
      "metadata": {
        "id": "DyV3N2DIr0Sp"
      },
      "source": [
        "np.random.seed(12)\n",
        "x[idx[0]] = np.random.uniform(low =-1,high =0,size= sum(idx[0]))\n",
        "x[idx[1]] = np.random.uniform(low =0,high =1,size= sum(idx[1]))\n",
        "x[idx[2]] = np.random.uniform(low =2,high =3,size= sum(idx[2]))"
      ],
      "execution_count": 261,
      "outputs": []
    },
    {
      "cell_type": "code",
      "metadata": {
        "colab": {
          "base_uri": "https://localhost:8080/"
        },
        "id": "qh1mDScsU07I",
        "outputId": "6fc66c0e-70c2-4fe3-c409-19ca2696ad77"
      },
      "source": [
        "x[idx[0]][0], x[idx[2]][5] "
      ],
      "execution_count": 262,
      "outputs": [
        {
          "output_type": "execute_result",
          "data": {
            "text/plain": [
              "(-0.8458371576203276, 2.2459800877058114)"
            ]
          },
          "metadata": {},
          "execution_count": 262
        }
      ]
    },
    {
      "cell_type": "code",
      "metadata": {
        "colab": {
          "base_uri": "https://localhost:8080/"
        },
        "id": "9Vr5ErQ_wSrV",
        "outputId": "30a164d8-a502-423f-c17e-a256c088c13b"
      },
      "source": [
        "print(x.shape,y.shape)"
      ],
      "execution_count": 263,
      "outputs": [
        {
          "output_type": "stream",
          "name": "stdout",
          "text": [
            "(500,) (500,)\n"
          ]
        }
      ]
    },
    {
      "cell_type": "code",
      "metadata": {
        "id": "NG-3RpffwU_i"
      },
      "source": [
        "idx= []\n",
        "for i in range(3):\n",
        "  idx.append(y==i)"
      ],
      "execution_count": 264,
      "outputs": []
    },
    {
      "cell_type": "code",
      "metadata": {
        "colab": {
          "base_uri": "https://localhost:8080/",
          "height": 283
        },
        "id": "hJ8Jm7YUr0St",
        "outputId": "9c61fcae-4b26-4c7e-92cd-93339974a6a2"
      },
      "source": [
        "for i in range(3):\n",
        "    y= np.zeros(x[idx[i]].shape[0])\n",
        "    plt.scatter(x[idx[i]],y,label=\"class_\"+str(i))\n",
        "plt.legend()"
      ],
      "execution_count": 265,
      "outputs": [
        {
          "output_type": "execute_result",
          "data": {
            "text/plain": [
              "<matplotlib.legend.Legend at 0x7fb16eea0990>"
            ]
          },
          "metadata": {},
          "execution_count": 265
        },
        {
          "output_type": "display_data",
          "data": {
            "image/png": "[encoded data removed]",
            "text/plain": [
              "<Figure size 432x288 with 1 Axes>"
            ]
          },
          "metadata": {
            "needs_background": "light"
          }
        }
      ]
    },
    {
      "cell_type": "code",
      "metadata": {
        "colab": {
          "base_uri": "https://localhost:8080/"
        },
        "id": "3lMBZEHNBlF2",
        "outputId": "4b59e144-f5bf-4aea-d7a0-417f543d5a13"
      },
      "source": [
        "bg_idx = [ np.where(idx[2] == True)[0]]\n",
        "\n",
        "bg_idx = np.concatenate(bg_idx, axis = 0)\n",
        "bg_idx.shape"
      ],
      "execution_count": 266,
      "outputs": [
        {
          "output_type": "execute_result",
          "data": {
            "text/plain": [
              "(163,)"
            ]
          },
          "metadata": {},
          "execution_count": 266
        }
      ]
    },
    {
      "cell_type": "code",
      "metadata": {
        "colab": {
          "base_uri": "https://localhost:8080/"
        },
        "id": "blRbGZHeCwXU",
        "outputId": "922e57ca-fcfd-4cfd-ba13-3ebb8754fc65"
      },
      "source": [
        "np.unique(bg_idx).shape"
      ],
      "execution_count": 267,
      "outputs": [
        {
          "output_type": "execute_result",
          "data": {
            "text/plain": [
              "(163,)"
            ]
          },
          "metadata": {},
          "execution_count": 267
        }
      ]
    },
    {
      "cell_type": "code",
      "metadata": {
        "id": "Y43sWeX7C15F"
      },
      "source": [
        "x = x - np.mean(x[bg_idx], axis = 0, keepdims = True)\n"
      ],
      "execution_count": 268,
      "outputs": []
    },
    {
      "cell_type": "code",
      "metadata": {
        "colab": {
          "base_uri": "https://localhost:8080/"
        },
        "id": "ooII7N6UDWe0",
        "outputId": "1b87d6c4-660e-42ae-fab9-c916c5af00ec"
      },
      "source": [
        "np.mean(x[bg_idx], axis = 0, keepdims = True), np.mean(x, axis = 0, keepdims = True)"
      ],
      "execution_count": 269,
      "outputs": [
        {
          "output_type": "execute_result",
          "data": {
            "text/plain": [
              "(array([-1.00805526e-16]), array([-1.7163962]))"
            ]
          },
          "metadata": {},
          "execution_count": 269
        }
      ]
    },
    {
      "cell_type": "code",
      "metadata": {
        "id": "g21bvPRYDL9k"
      },
      "source": [
        "x = x/np.std(x[bg_idx], axis = 0, keepdims = True)"
      ],
      "execution_count": 270,
      "outputs": []
    },
    {
      "cell_type": "code",
      "metadata": {
        "colab": {
          "base_uri": "https://localhost:8080/"
        },
        "id": "GtFvIeHsDZJk",
        "outputId": "ca4ce46f-c537-428e-bca8-487d2a143f3a"
      },
      "source": [
        "np.std(x[bg_idx], axis = 0, keepdims = True), np.std(x, axis = 0, keepdims = True)"
      ],
      "execution_count": 271,
      "outputs": [
        {
          "output_type": "execute_result",
          "data": {
            "text/plain": [
              "(array([1.]), array([4.37808847]))"
            ]
          },
          "metadata": {},
          "execution_count": 271
        }
      ]
    },
    {
      "cell_type": "code",
      "metadata": {
        "colab": {
          "base_uri": "https://localhost:8080/",
          "height": 283
        },
        "id": "8-VLhUfDDeHt",
        "outputId": "fb9491de-5f34-4c97-d7d8-49df78e70fda"
      },
      "source": [
        "for i in range(3):\n",
        "    y= np.zeros(x[idx[i]].shape[0])\n",
        "    plt.scatter(x[idx[i]],y,label=\"class_\"+str(i))\n",
        "plt.legend()"
      ],
      "execution_count": 272,
      "outputs": [
        {
          "output_type": "execute_result",
          "data": {
            "text/plain": [
              "<matplotlib.legend.Legend at 0x7fb16ebb5490>"
            ]
          },
          "metadata": {},
          "execution_count": 272
        },
        {
          "output_type": "display_data",
          "data": {
            "image/png": "[encoded data removed]",
            "text/plain": [
              "<Figure size 432x288 with 1 Axes>"
            ]
          },
          "metadata": {
            "needs_background": "light"
          }
        }
      ]
    },
    {
      "cell_type": "code",
      "metadata": {
        "id": "UfFHcZJOr0Sz"
      },
      "source": [
        "foreground_classes = {'class_0','class_1' }\n",
        "\n",
        "background_classes = {'class_2'}"
      ],
      "execution_count": 273,
      "outputs": []
    },
    {
      "cell_type": "code",
      "metadata": {
        "colab": {
          "base_uri": "https://localhost:8080/"
        },
        "id": "OplNpNQVr0S2",
        "outputId": "62fb4dfa-4c01-4bc1-8f67-4608e8c4360c"
      },
      "source": [
        "fg_class  = np.random.randint(0,2)\n",
        "fg_idx = np.random.randint(0,m)\n",
        "\n",
        "a = []\n",
        "for i in range(m):\n",
        "    if i == fg_idx:\n",
        "        b = np.random.choice(np.where(idx[fg_class]==True)[0],size=1)\n",
        "        a.append(x[b])\n",
        "        print(\"foreground \"+str(fg_class)+\" present at \" + str(fg_idx))\n",
        "    else:\n",
        "        bg_class = np.random.randint(2,3)\n",
        "        b = np.random.choice(np.where(idx[bg_class]==True)[0],size=1)\n",
        "        a.append(x[b])\n",
        "        print(\"background \"+str(bg_class)+\" present at \" + str(i))\n",
        "a = np.concatenate(a,axis=0)\n",
        "print(a.shape)\n",
        "\n",
        "print(fg_class , fg_idx)"
      ],
      "execution_count": 274,
      "outputs": [
        {
          "output_type": "stream",
          "name": "stdout",
          "text": [
            "background 2 present at 0\n",
            "background 2 present at 1\n",
            "background 2 present at 2\n",
            "background 2 present at 3\n",
            "background 2 present at 4\n",
            "background 2 present at 5\n",
            "background 2 present at 6\n",
            "background 2 present at 7\n",
            "background 2 present at 8\n",
            "background 2 present at 9\n",
            "background 2 present at 10\n",
            "background 2 present at 11\n",
            "background 2 present at 12\n",
            "background 2 present at 13\n",
            "background 2 present at 14\n",
            "background 2 present at 15\n",
            "background 2 present at 16\n",
            "background 2 present at 17\n",
            "background 2 present at 18\n",
            "background 2 present at 19\n",
            "background 2 present at 20\n",
            "background 2 present at 21\n",
            "background 2 present at 22\n",
            "background 2 present at 23\n",
            "background 2 present at 24\n",
            "background 2 present at 25\n",
            "background 2 present at 26\n",
            "background 2 present at 27\n",
            "background 2 present at 28\n",
            "background 2 present at 29\n",
            "background 2 present at 30\n",
            "background 2 present at 31\n",
            "background 2 present at 32\n",
            "background 2 present at 33\n",
            "background 2 present at 34\n",
            "background 2 present at 35\n",
            "background 2 present at 36\n",
            "background 2 present at 37\n",
            "background 2 present at 38\n",
            "background 2 present at 39\n",
            "background 2 present at 40\n",
            "background 2 present at 41\n",
            "background 2 present at 42\n",
            "background 2 present at 43\n",
            "background 2 present at 44\n",
            "background 2 present at 45\n",
            "background 2 present at 46\n",
            "background 2 present at 47\n",
            "background 2 present at 48\n",
            "background 2 present at 49\n",
            "background 2 present at 50\n",
            "background 2 present at 51\n",
            "background 2 present at 52\n",
            "background 2 present at 53\n",
            "background 2 present at 54\n",
            "background 2 present at 55\n",
            "background 2 present at 56\n",
            "background 2 present at 57\n",
            "background 2 present at 58\n",
            "background 2 present at 59\n",
            "background 2 present at 60\n",
            "background 2 present at 61\n",
            "background 2 present at 62\n",
            "background 2 present at 63\n",
            "background 2 present at 64\n",
            "background 2 present at 65\n",
            "background 2 present at 66\n",
            "background 2 present at 67\n",
            "background 2 present at 68\n",
            "background 2 present at 69\n",
            "background 2 present at 70\n",
            "background 2 present at 71\n",
            "foreground 1 present at 72\n",
            "background 2 present at 73\n",
            "background 2 present at 74\n",
            "background 2 present at 75\n",
            "background 2 present at 76\n",
            "background 2 present at 77\n",
            "background 2 present at 78\n",
            "background 2 present at 79\n",
            "background 2 present at 80\n",
            "background 2 present at 81\n",
            "background 2 present at 82\n",
            "background 2 present at 83\n",
            "background 2 present at 84\n",
            "background 2 present at 85\n",
            "background 2 present at 86\n",
            "background 2 present at 87\n",
            "background 2 present at 88\n",
            "background 2 present at 89\n",
            "background 2 present at 90\n",
            "background 2 present at 91\n",
            "background 2 present at 92\n",
            "background 2 present at 93\n",
            "background 2 present at 94\n",
            "background 2 present at 95\n",
            "background 2 present at 96\n",
            "background 2 present at 97\n",
            "background 2 present at 98\n",
            "background 2 present at 99\n",
            "(100,)\n",
            "1 72\n"
          ]
        }
      ]
    },
    {
      "cell_type": "code",
      "metadata": {
        "colab": {
          "base_uri": "https://localhost:8080/"
        },
        "id": "dwZVmmRBr0S8",
        "outputId": "ba000b5b-98ca-4580-d591-bd07e4dbce3c"
      },
      "source": [
        "a.shape"
      ],
      "execution_count": 275,
      "outputs": [
        {
          "output_type": "execute_result",
          "data": {
            "text/plain": [
              "(100,)"
            ]
          },
          "metadata": {},
          "execution_count": 275
        }
      ]
    },
    {
      "cell_type": "code",
      "metadata": {
        "colab": {
          "base_uri": "https://localhost:8080/"
        },
        "id": "OoxzYI-ur0S_",
        "outputId": "ecb004cb-a002-475a-9da6-51679d4bd562"
      },
      "source": [
        "np.reshape(a,(m,1))"
      ],
      "execution_count": 276,
      "outputs": [
        {
          "output_type": "execute_result",
          "data": {
            "text/plain": [
              "array([[-0.80241043],\n",
              "       [ 1.00228507],\n",
              "       [-0.81132988],\n",
              "       [ 1.2774409 ],\n",
              "       [ 0.57398646],\n",
              "       [-0.91850331],\n",
              "       [ 0.6600648 ],\n",
              "       [ 0.57398646],\n",
              "       [ 1.39799803],\n",
              "       [ 0.13695373],\n",
              "       [-1.44264034],\n",
              "       [ 0.71837826],\n",
              "       [ 1.08544127],\n",
              "       [ 1.55171236],\n",
              "       [ 0.4152144 ],\n",
              "       [-1.15692643],\n",
              "       [-1.62776348],\n",
              "       [ 0.65339431],\n",
              "       [ 0.44998336],\n",
              "       [-1.35067387],\n",
              "       [-0.1541663 ],\n",
              "       [ 1.2774409 ],\n",
              "       [ 0.44998336],\n",
              "       [ 1.20061574],\n",
              "       [-0.83952364],\n",
              "       [ 0.46279645],\n",
              "       [-0.90487837],\n",
              "       [ 0.8325454 ],\n",
              "       [-0.41161127],\n",
              "       [-0.94524964],\n",
              "       [-0.2407784 ],\n",
              "       [ 0.80282356],\n",
              "       [ 0.18678022],\n",
              "       [ 0.41553291],\n",
              "       [ 0.99304358],\n",
              "       [-0.94524964],\n",
              "       [-1.44264034],\n",
              "       [-1.36429042],\n",
              "       [-0.36474865],\n",
              "       [ 0.1392267 ],\n",
              "       [ 0.1428216 ],\n",
              "       [-1.08085196],\n",
              "       [ 0.6600648 ],\n",
              "       [-1.17697967],\n",
              "       [-0.29918788],\n",
              "       [-1.35067387],\n",
              "       [ 0.34820546],\n",
              "       [ 1.35486532],\n",
              "       [-1.3759762 ],\n",
              "       [ 0.98589978],\n",
              "       [-0.59511662],\n",
              "       [ 1.41734616],\n",
              "       [ 0.71837826],\n",
              "       [ 1.00274723],\n",
              "       [-0.90487837],\n",
              "       [ 0.32309258],\n",
              "       [-0.91850331],\n",
              "       [-0.1541663 ],\n",
              "       [-0.92269452],\n",
              "       [ 1.41734616],\n",
              "       [-1.54993781],\n",
              "       [-0.59511662],\n",
              "       [ 1.03475943],\n",
              "       [ 0.46786344],\n",
              "       [ 0.97606684],\n",
              "       [ 0.6600648 ],\n",
              "       [ 0.51783775],\n",
              "       [-0.4252276 ],\n",
              "       [ 1.28615767],\n",
              "       [ 0.97606684],\n",
              "       [-1.44985264],\n",
              "       [-1.54993781],\n",
              "       [-5.98783232],\n",
              "       [ 1.04969471],\n",
              "       [ 0.94269703],\n",
              "       [-1.1935932 ],\n",
              "       [-0.00757527],\n",
              "       [ 0.75582313],\n",
              "       [ 1.39806093],\n",
              "       [-1.46523851],\n",
              "       [-1.0567665 ],\n",
              "       [ 0.9324306 ],\n",
              "       [-0.72988   ],\n",
              "       [ 1.52408356],\n",
              "       [ 1.39236683],\n",
              "       [ 0.06747313],\n",
              "       [-0.38545355],\n",
              "       [-1.1935932 ],\n",
              "       [-1.43069628],\n",
              "       [ 1.2774409 ],\n",
              "       [ 1.62014849],\n",
              "       [-1.27266268],\n",
              "       [ 1.4074927 ],\n",
              "       [-1.74493859],\n",
              "       [ 1.20061574],\n",
              "       [ 0.46786344],\n",
              "       [-1.0567665 ],\n",
              "       [ 0.83122375],\n",
              "       [ 0.6600648 ],\n",
              "       [ 0.58858422]])"
            ]
          },
          "metadata": {},
          "execution_count": 276
        }
      ]
    },
    {
      "cell_type": "code",
      "metadata": {
        "id": "jqbvfbwVr0TN"
      },
      "source": [
        "desired_num = 2000\n",
        "mosaic_list_of_images =[]\n",
        "mosaic_label = []\n",
        "fore_idx=[]\n",
        "for j in range(desired_num):\n",
        "    np.random.seed(j)\n",
        "    fg_class  = np.random.randint(0,2)\n",
        "    fg_idx = np.random.randint(0,m)\n",
        "    a = []\n",
        "    for i in range(m):\n",
        "        if i == fg_idx:\n",
        "            b = np.random.choice(np.where(idx[fg_class]==True)[0],size=1)\n",
        "            a.append(x[b])\n",
        "#             print(\"foreground \"+str(fg_class)+\" present at \" + str(fg_idx))\n",
        "        else:\n",
        "            bg_class = np.random.randint(2,3)\n",
        "            b = np.random.choice(np.where(idx[bg_class]==True)[0],size=1)\n",
        "            a.append(x[b])\n",
        "#             print(\"background \"+str(bg_class)+\" present at \" + str(i))\n",
        "    a = np.concatenate(a,axis=0)\n",
        "    mosaic_list_of_images.append(np.reshape(a,(m,1)))\n",
        "    mosaic_label.append(fg_class)\n",
        "    fore_idx.append(fg_idx)"
      ],
      "execution_count": 277,
      "outputs": []
    },
    {
      "cell_type": "code",
      "metadata": {
        "id": "BOsFmWfMr0TR",
        "colab": {
          "base_uri": "https://localhost:8080/"
        },
        "outputId": "35444ff3-e5a8-4ab3-d926-9364d5ab2f32"
      },
      "source": [
        "mosaic_list_of_images = np.concatenate(mosaic_list_of_images,axis=1).T\n",
        "mosaic_list_of_images.shape"
      ],
      "execution_count": 278,
      "outputs": [
        {
          "output_type": "execute_result",
          "data": {
            "text/plain": [
              "(2000, 100)"
            ]
          },
          "metadata": {},
          "execution_count": 278
        }
      ]
    },
    {
      "cell_type": "code",
      "metadata": {
        "colab": {
          "base_uri": "https://localhost:8080/"
        },
        "id": "2aIPMgLXNiXW",
        "outputId": "a7dab730-5a3f-401c-f594-cba2ff669e9c"
      },
      "source": [
        "mosaic_list_of_images.shape, mosaic_list_of_images[0]"
      ],
      "execution_count": 279,
      "outputs": [
        {
          "output_type": "execute_result",
          "data": {
            "text/plain": [
              "((2000, 100), array([  1.43580093,   0.13695373,  -0.4252276 ,  -0.91850331,\n",
              "         -0.12909751,  -1.73154424,   0.75582313,   0.6640638 ,\n",
              "         -0.1541663 ,   0.8325454 ,   1.31922113,  -0.41161127,\n",
              "          0.75582313,  -0.1541663 ,  -0.90487837,   0.26551966,\n",
              "          1.41734616,  -1.35067387,  -0.91850331,  -0.84877745,\n",
              "          0.41497164,   0.22843592,   0.41204831,   1.03957183,\n",
              "         -0.42473802,  -1.74493859,  -1.74493859,  -1.43069628,\n",
              "         -0.29918788,  -0.91850331,  -1.46523851,  -0.29918788,\n",
              "          0.71837826,  -1.3759762 ,   0.65339431,   0.34586581,\n",
              "          1.62014849,   0.34820546,   0.34820546,  -0.2407784 ,\n",
              "          0.78170047,  -0.52917724,   1.39799803,   0.22843592,\n",
              "         -1.20787928,   1.04960385,  -1.15692643, -10.78050309,\n",
              "         -1.54993781,  -0.99267185,   1.00274723,  -1.57358463,\n",
              "          1.50127618,  -0.51577218,  -1.28104385,  -0.36474865,\n",
              "          0.41204831,  -0.03809035,   0.34820546,  -1.43069628,\n",
              "          1.03957183,  -0.2407784 ,   0.8325454 ,   0.97606684,\n",
              "         -0.89789265,   1.14462928,   0.38745843,  -0.70196915,\n",
              "         -1.46523851,  -0.9959213 ,  -0.72988   ,   1.44702914,\n",
              "         -1.6606795 ,  -0.84877745,  -0.03466237,  -1.53175495,\n",
              "          1.43580093,   1.39236683,   0.97191874,  -0.11183672,\n",
              "         -1.05931124,  -0.80241043,   1.00115933,  -0.363319  ,\n",
              "          1.30533553,  -1.73154424,   0.06747313,   0.97191874,\n",
              "         -1.62776348,  -0.9959213 ,   0.90752413,  -1.15692643,\n",
              "         -0.36464897,  -1.27266268,  -1.46523851,  -0.363319  ,\n",
              "         -0.5854355 ,   0.65339431,  -1.04969386,  -1.46523851]))"
            ]
          },
          "metadata": {},
          "execution_count": 279
        }
      ]
    },
    {
      "cell_type": "code",
      "metadata": {
        "colab": {
          "base_uri": "https://localhost:8080/"
        },
        "id": "A3qcsbbzPfRG",
        "outputId": "e8daab51-b3ac-43c0-8fc9-62ee54871520"
      },
      "source": [
        "for j in range(m):\n",
        "  print(mosaic_list_of_images[0][j])\n",
        "  "
      ],
      "execution_count": 280,
      "outputs": [
        {
          "output_type": "stream",
          "name": "stdout",
          "text": [
            "1.4358009314866034\n",
            "0.13695372724012772\n",
            "-0.4252275951078302\n",
            "-0.9185033095974854\n",
            "-0.12909750858981067\n",
            "-1.7315442430857817\n",
            "0.7558231343879587\n",
            "0.6640638025673503\n",
            "-0.15416630449113\n",
            "0.832545401567119\n",
            "1.3192211298342615\n",
            "-0.411611268813296\n",
            "0.7558231343879587\n",
            "-0.15416630449113\n",
            "-0.9048783650832936\n",
            "0.2655196567190298\n",
            "1.4173461573148838\n",
            "-1.3506738707130648\n",
            "-0.9185033095974854\n",
            "-0.8487774501542434\n",
            "0.41497163990658553\n",
            "0.22843592432187756\n",
            "0.4120483059558463\n",
            "1.039571830882509\n",
            "-0.42473802055748705\n",
            "-1.7449385946476759\n",
            "-1.7449385946476759\n",
            "-1.4306962812399096\n",
            "-0.2991878808509575\n",
            "-0.9185033095974854\n",
            "-1.4652385079352608\n",
            "-0.2991878808509575\n",
            "0.7183782579402468\n",
            "-1.3759761997330582\n",
            "0.6533943080642937\n",
            "0.345865811484694\n",
            "1.6201484942286413\n",
            "0.34820546484848275\n",
            "0.34820546484848275\n",
            "-0.24077840436878184\n",
            "0.7817004669153338\n",
            "-0.529177237043516\n",
            "1.397998025695915\n",
            "0.22843592432187756\n",
            "-1.2078792839203505\n",
            "1.0496038541198456\n",
            "-1.1569264275370823\n",
            "-10.780503085215361\n",
            "-1.5499378105140722\n",
            "-0.992671849313759\n",
            "1.0027472329330642\n",
            "-1.573584632766583\n",
            "1.5012761831023353\n",
            "-0.5157721805614179\n",
            "-1.2810438533218755\n",
            "-0.3647486544408019\n",
            "0.4120483059558463\n",
            "-0.038090346259590985\n",
            "0.34820546484848275\n",
            "-1.4306962812399096\n",
            "1.039571830882509\n",
            "-0.24077840436878184\n",
            "0.832545401567119\n",
            "0.9760668439559996\n",
            "-0.8978926538361668\n",
            "1.1446292841441261\n",
            "0.38745842607626113\n",
            "-0.70196914745493\n",
            "-1.4652385079352608\n",
            "-0.9959213015328963\n",
            "-0.7298799970913634\n",
            "1.4470291398063106\n",
            "-1.660679504426819\n",
            "-0.8487774501542434\n",
            "-0.03466237152640819\n",
            "-1.5317549497195035\n",
            "1.4358009314866034\n",
            "1.3923668338722077\n",
            "0.9719187406356335\n",
            "-0.1118367162703567\n",
            "-1.0593112442151893\n",
            "-0.8024104318571436\n",
            "1.0011593284257532\n",
            "-0.363319004172012\n",
            "1.3053355316930382\n",
            "-1.7315442430857817\n",
            "0.06747312638794169\n",
            "0.9719187406356335\n",
            "-1.6277634830710428\n",
            "-0.9959213015328963\n",
            "0.907524130895722\n",
            "-1.1569264275370823\n",
            "-0.36464896647758427\n",
            "-1.272662683896807\n",
            "-1.4652385079352608\n",
            "-0.363319004172012\n",
            "-0.5854355038893796\n",
            "0.6533943080642937\n",
            "-1.0496938597364855\n",
            "-1.4652385079352608\n"
          ]
        }
      ]
    },
    {
      "cell_type": "code",
      "metadata": {
        "colab": {
          "base_uri": "https://localhost:8080/"
        },
        "id": "Q4X6ZiHrwL-m",
        "outputId": "afc29d7e-bedd-405c-fb67-1bdd7087478f"
      },
      "source": [
        "mosaic_list_of_images[0:2], mosaic_list_of_images[1000:1002]"
      ],
      "execution_count": 281,
      "outputs": [
        {
          "output_type": "execute_result",
          "data": {
            "text/plain": [
              "(array([[ 1.43580093e+00,  1.36953727e-01, -4.25227595e-01,\n",
              "         -9.18503310e-01, -1.29097509e-01, -1.73154424e+00,\n",
              "          7.55823134e-01,  6.64063803e-01, -1.54166304e-01,\n",
              "          8.32545402e-01,  1.31922113e+00, -4.11611269e-01,\n",
              "          7.55823134e-01, -1.54166304e-01, -9.04878365e-01,\n",
              "          2.65519657e-01,  1.41734616e+00, -1.35067387e+00,\n",
              "         -9.18503310e-01, -8.48777450e-01,  4.14971640e-01,\n",
              "          2.28435924e-01,  4.12048306e-01,  1.03957183e+00,\n",
              "         -4.24738021e-01, -1.74493859e+00, -1.74493859e+00,\n",
              "         -1.43069628e+00, -2.99187881e-01, -9.18503310e-01,\n",
              "         -1.46523851e+00, -2.99187881e-01,  7.18378258e-01,\n",
              "         -1.37597620e+00,  6.53394308e-01,  3.45865811e-01,\n",
              "          1.62014849e+00,  3.48205465e-01,  3.48205465e-01,\n",
              "         -2.40778404e-01,  7.81700467e-01, -5.29177237e-01,\n",
              "          1.39799803e+00,  2.28435924e-01, -1.20787928e+00,\n",
              "          1.04960385e+00, -1.15692643e+00, -1.07805031e+01,\n",
              "         -1.54993781e+00, -9.92671849e-01,  1.00274723e+00,\n",
              "         -1.57358463e+00,  1.50127618e+00, -5.15772181e-01,\n",
              "         -1.28104385e+00, -3.64748654e-01,  4.12048306e-01,\n",
              "         -3.80903463e-02,  3.48205465e-01, -1.43069628e+00,\n",
              "          1.03957183e+00, -2.40778404e-01,  8.32545402e-01,\n",
              "          9.76066844e-01, -8.97892654e-01,  1.14462928e+00,\n",
              "          3.87458426e-01, -7.01969147e-01, -1.46523851e+00,\n",
              "         -9.95921302e-01, -7.29879997e-01,  1.44702914e+00,\n",
              "         -1.66067950e+00, -8.48777450e-01, -3.46623715e-02,\n",
              "         -1.53175495e+00,  1.43580093e+00,  1.39236683e+00,\n",
              "          9.71918741e-01, -1.11836716e-01, -1.05931124e+00,\n",
              "         -8.02410432e-01,  1.00115933e+00, -3.63319004e-01,\n",
              "          1.30533553e+00, -1.73154424e+00,  6.74731264e-02,\n",
              "          9.71918741e-01, -1.62776348e+00, -9.95921302e-01,\n",
              "          9.07524131e-01, -1.15692643e+00, -3.64648966e-01,\n",
              "         -1.27266268e+00, -1.46523851e+00, -3.63319004e-01,\n",
              "         -5.85435504e-01,  6.53394308e-01, -1.04969386e+00,\n",
              "         -1.46523851e+00],\n",
              "        [-1.35067387e+00,  9.42697031e-01,  7.81700467e-01,\n",
              "          2.28435924e-01,  9.54376292e-01,  2.86994127e-01,\n",
              "          1.00228507e+00, -4.43399369e-01,  2.65519657e-01,\n",
              "         -8.11329880e-01, -1.21801511e+00, -1.05676650e+00,\n",
              "         -7.06496020e+00, -5.95116619e-01, -5.21621676e-01,\n",
              "         -1.43069628e+00,  1.47471360e+00,  1.14462928e+00,\n",
              "          1.37191625e+00,  1.27744090e+00, -1.53175495e+00,\n",
              "          9.42697031e-01, -5.36078907e-01,  5.17837754e-01,\n",
              "          1.34835784e+00,  8.02823556e-01, -1.57358463e+00,\n",
              "         -9.92671849e-01,  3.48205465e-01,  1.86780224e-01,\n",
              "         -1.73714097e+00, -1.53175495e+00,  4.14971640e-01,\n",
              "          9.76066844e-01,  1.40413128e+00,  1.00228507e+00,\n",
              "         -9.95921302e-01, -1.27266268e+00, -1.11836716e-01,\n",
              "         -1.57358463e+00, -1.39140608e+00, -4.85968229e-01,\n",
              "         -1.04969386e+00, -1.63869730e-01,  4.15532911e-01,\n",
              "         -1.36429042e+00,  9.93043577e-01, -1.84343478e-01,\n",
              "          4.14971640e-01,  3.23092585e-01,  4.62796449e-01,\n",
              "          1.03475943e+00,  2.65519657e-01,  1.52408356e+00,\n",
              "         -1.34303174e+00,  4.15532911e-01, -7.57526877e-03,\n",
              "          1.40749270e+00,  8.02823556e-01, -9.18503310e-01,\n",
              "          7.75095020e-01, -3.46623715e-02,  4.67863442e-01,\n",
              "         -7.29879997e-01, -1.08085196e+00, -1.57358463e+00,\n",
              "         -1.19359320e+00, -2.75107593e-01, -2.99187881e-01,\n",
              "          6.74731264e-02,  1.04969471e+00, -3.46623715e-02,\n",
              "         -1.66067950e+00,  7.55823134e-01,  2.65519657e-01,\n",
              "          2.70346477e-01, -1.33059033e+00, -1.40535774e+00,\n",
              "         -1.44264034e+00, -1.37597620e+00,  1.00274723e+00,\n",
              "          1.30533553e+00,  1.41734616e+00, -1.39140608e+00,\n",
              "          3.48205465e-01,  3.87458426e-01, -1.36429042e+00,\n",
              "         -8.39523638e-01, -1.63869730e-01, -1.27266268e+00,\n",
              "         -5.36078907e-01,  1.41734616e+00, -1.57212980e+00,\n",
              "         -1.63869730e-01, -1.04969386e+00, -8.11329880e-01,\n",
              "          1.40413128e+00, -1.73154424e+00, -4.25227595e-01,\n",
              "         -5.36078907e-01]]),\n",
              " array([[ 1.00228507e+00,  1.00115933e+00,  2.70346477e-01,\n",
              "         -9.92671849e-01,  3.48205465e-01,  1.22075701e+00,\n",
              "          1.42821598e-01, -7.58940247e-01,  1.04960385e+00,\n",
              "          2.70346477e-01, -1.73154424e+00, -1.15692643e+00,\n",
              "          1.31922113e+00, -8.48777450e-01,  1.40413128e+00,\n",
              "         -1.54166304e-01,  6.53394308e-01, -7.50119090e-01,\n",
              "         -5.95116619e-01, -7.50119090e-01, -5.95116619e-01,\n",
              "         -5.85435504e-01, -7.50119090e-01,  4.49983364e-01,\n",
              "          1.34835784e+00, -1.05931124e+00, -3.64748654e-01,\n",
              "         -1.57212980e+00, -1.44264034e+00,  1.47471360e+00,\n",
              "         -1.29097509e-01,  4.15532911e-01, -7.29879997e-01,\n",
              "         -5.36078907e-01,  9.54376292e-01,  7.55823134e-01,\n",
              "          2.70346477e-01,  1.30533553e+00, -9.45249641e-01,\n",
              "         -3.63319004e-01,  7.18378258e-01, -7.50119090e-01,\n",
              "         -1.84343478e-01, -1.05676650e+00, -9.92671849e-01,\n",
              "         -3.64748654e-01, -1.08085196e+00, -7.01969147e-01,\n",
              "          2.28435924e-01, -5.59763052e-01, -4.24738021e-01,\n",
              "         -3.64748654e-01, -1.44985264e+00, -9.22694519e-01,\n",
              "         -9.45249641e-01, -1.54166304e-01, -1.05676650e+00,\n",
              "         -8.39523638e-01,  1.41734616e+00,  3.23092585e-01,\n",
              "         -4.43399369e-01, -5.85435504e-01,  6.60064797e-01,\n",
              "         -7.01969147e-01,  1.35486532e+00, -8.11329880e-01,\n",
              "         -7.57526877e-03,  1.40749270e+00,  9.32430600e-01,\n",
              "          1.53890257e+00, -1.74493859e+00,  1.44702914e+00,\n",
              "          1.31922113e+00, -9.18503310e-01,  3.87458426e-01,\n",
              "          1.04960385e+00,  1.39236683e+00,  1.55171236e+00,\n",
              "         -1.27266268e+00,  2.57560056e-02,  1.04960385e+00,\n",
              "         -1.63869730e-01, -3.80903463e-02, -1.08085196e+00,\n",
              "          1.27408086e+00, -1.35067387e+00,  1.36953727e-01,\n",
              "         -6.27733447e+00, -8.02410432e-01, -1.05676650e+00,\n",
              "         -3.63319004e-01, -1.62776348e+00, -1.40535774e+00,\n",
              "         -8.97892654e-01, -1.21801511e+00,  1.34835784e+00,\n",
              "          1.40413128e+00,  1.42821598e-01,  2.86994127e-01,\n",
              "         -8.11329880e-01],\n",
              "        [ 1.40413128e+00,  4.49983364e-01,  4.49983364e-01,\n",
              "         -3.80903463e-02,  1.03957183e+00,  8.31223753e-01,\n",
              "         -1.20787928e+00, -1.53175495e+00,  7.55823134e-01,\n",
              "         -8.42037468e+00, -8.02410432e-01,  8.32545402e-01,\n",
              "          1.39236683e+00,  1.00274723e+00,  1.14462928e+00,\n",
              "         -1.11836716e-01,  2.65519657e-01,  4.49983364e-01,\n",
              "          1.00274723e+00,  1.21300931e+00,  1.08544127e+00,\n",
              "         -4.11611269e-01,  8.02823556e-01,  1.00228507e+00,\n",
              "         -1.28104385e+00, -1.29097509e-01,  1.37191625e+00,\n",
              "         -1.33059033e+00, -1.62776348e+00,  4.12048306e-01,\n",
              "         -7.01969147e-01, -4.24738021e-01, -4.43399369e-01,\n",
              "          1.39806093e+00,  1.86780224e-01, -1.21801511e+00,\n",
              "          1.28615767e+00,  1.50127618e+00, -7.50119090e-01,\n",
              "         -5.95116619e-01, -7.58940247e-01,  2.57560056e-02,\n",
              "         -1.36429042e+00, -2.99187881e-01,  1.39799803e+00,\n",
              "         -5.29003566e-01, -1.36429042e+00,  8.32545402e-01,\n",
              "          6.31337800e-02, -1.15692643e+00,  3.87458426e-01,\n",
              "          9.32430600e-01,  7.55823134e-01,  1.11307902e+00,\n",
              "         -1.27266268e+00, -1.53175495e+00,  8.31223753e-01,\n",
              "          1.55171236e+00,  9.76066844e-01, -9.22694519e-01,\n",
              "          6.53394308e-01,  4.15532911e-01, -1.54993781e+00,\n",
              "         -2.40778404e-01,  1.55171236e+00, -7.50119090e-01,\n",
              "          9.07524131e-01,  1.08544127e+00,  1.40749270e+00,\n",
              "         -1.44264034e+00, -2.01409020e-01, -7.57526877e-03,\n",
              "          1.10390156e+00,  1.43580093e+00, -1.73714097e+00,\n",
              "          1.30533553e+00,  9.85899779e-01,  1.14462928e+00,\n",
              "         -1.46523851e+00,  1.52408356e+00,  7.75095020e-01,\n",
              "         -1.43069628e+00,  1.47471360e+00, -7.57526877e-03,\n",
              "         -1.28104385e+00, -7.57526877e-03,  1.20061574e+00,\n",
              "          3.48205465e-01,  8.31223753e-01,  9.07524131e-01,\n",
              "          1.04960385e+00, -9.18503310e-01, -2.75107593e-01,\n",
              "          9.41640484e-01,  1.35486532e+00,  1.37191625e+00,\n",
              "         -1.73154424e+00, -2.99187881e-01,  8.02823556e-01,\n",
              "          4.67863442e-01]]))"
            ]
          },
          "metadata": {},
          "execution_count": 281
        }
      ]
    },
    {
      "cell_type": "code",
      "metadata": {
        "colab": {
          "base_uri": "https://localhost:8080/"
        },
        "id": "sdS6A6MAUIWU",
        "outputId": "70edad3f-eec7-43f4-a976-0e5a8a4cf40c"
      },
      "source": [
        "0.2*-2.32955771 + 0.2*0.86577398 + 0.2*0.79067386 + 0.2*0.65150581 + 0.2*0.79065145"
      ],
      "execution_count": 282,
      "outputs": [
        {
          "output_type": "execute_result",
          "data": {
            "text/plain": [
              "0.153809478"
            ]
          },
          "metadata": {},
          "execution_count": 282
        }
      ]
    },
    {
      "cell_type": "code",
      "metadata": {
        "colab": {
          "base_uri": "https://localhost:8080/"
        },
        "id": "Fq6xvcZY1Nf3",
        "outputId": "40629f6e-80d3-492c-9f38-938ab535ff37"
      },
      "source": [
        "np.zeros(5)"
      ],
      "execution_count": 283,
      "outputs": [
        {
          "output_type": "execute_result",
          "data": {
            "text/plain": [
              "array([0., 0., 0., 0., 0.])"
            ]
          },
          "metadata": {},
          "execution_count": 283
        }
      ]
    },
    {
      "cell_type": "code",
      "metadata": {
        "id": "iPoIwbMHx44n"
      },
      "source": [
        "def create_avg_image_from_mosaic_dataset(mosaic_dataset,labels,foreground_index,dataset_number, m):\n",
        "  \"\"\"\n",
        "  mosaic_dataset : mosaic_dataset contains 9 images 32 x 32 each as 1 data point\n",
        "  labels : mosaic_dataset labels\n",
        "  foreground_index : contains list of indexes where foreground image is present so that using this we can take weighted average\n",
        "  dataset_number : will help us to tell what ratio of foreground image to be taken. for eg: if it is \"j\" then fg_image_ratio = j/9 , bg_image_ratio = (9-j)/8*9\n",
        "  \"\"\"\n",
        "  avg_image_dataset = []\n",
        "  cnt = 0\n",
        "  counter = np.zeros(m)\n",
        "  for i in range(len(mosaic_dataset)):\n",
        "    img = torch.zeros([1], dtype=torch.float64)\n",
        "    np.random.seed(int(dataset_number*10000 + i))\n",
        "    give_pref = foreground_index[i] #np.random.randint(0,9)\n",
        "    # print(\"outside\", give_pref,foreground_index[i])\n",
        "    for j in range(m):\n",
        "      if j == give_pref:\n",
        "        img = img + mosaic_dataset[i][j]*dataset_number/m   #2 is data dim\n",
        "      else :\n",
        "        img = img + mosaic_dataset[i][j]*(m-dataset_number)/((m-1)*m)\n",
        "\n",
        "    if give_pref == foreground_index[i] :\n",
        "      # print(\"equal are\", give_pref,foreground_index[i])\n",
        "      cnt += 1\n",
        "      counter[give_pref] += 1\n",
        "    else :\n",
        "      counter[give_pref] += 1\n",
        "\n",
        "    avg_image_dataset.append(img)\n",
        "\n",
        "  print(\"number of correct averaging happened for dataset \"+str(dataset_number)+\" is \"+str(cnt)) \n",
        "  print(\"the averaging are done as \", counter) \n",
        "  return avg_image_dataset , labels , foreground_index\n",
        "        \n",
        "  "
      ],
      "execution_count": 284,
      "outputs": []
    },
    {
      "cell_type": "code",
      "metadata": {
        "colab": {
          "base_uri": "https://localhost:8080/"
        },
        "id": "30ZAjix3x8CM",
        "outputId": "b6eb6a58-ff64-499f-b7ed-cda8f07ecea6"
      },
      "source": [
        "avg_image_dataset_1 , labels_1,  fg_index_1 = create_avg_image_from_mosaic_dataset(mosaic_list_of_images[0:1000], mosaic_label[0:1000], fore_idx[0:1000] , 1, m)\n",
        "\n",
        "test_dataset , labels , fg_index = create_avg_image_from_mosaic_dataset(mosaic_list_of_images[1000:2000], mosaic_label[1000:2000], fore_idx[1000:2000] , m, m)"
      ],
      "execution_count": 285,
      "outputs": [
        {
          "output_type": "stream",
          "name": "stdout",
          "text": [
            "number of correct averaging happened for dataset 1 is 1000\n",
            "the averaging are done as  [12.  9.  8.  9.  6. 12. 12.  9.  7.  9.  7.  9. 14.  6.  7. 12. 15.  8.\n",
            " 14.  9. 11.  5. 11. 16.  8.  9. 18.  7. 14.  9. 15. 15. 10. 13.  8. 16.\n",
            "  3.  6. 11.  9.  9. 12.  7. 10.  5. 10. 13.  8. 13. 10.  9.  7. 11.  7.\n",
            " 10.  7.  9. 10. 15.  7. 14. 17. 12.  6.  9. 10. 14.  4. 11. 13. 15. 11.\n",
            "  7. 10. 10. 14. 10.  8.  9.  7. 12.  6. 11. 11.  9.  7. 14.  9. 10.  8.\n",
            " 13.  7. 13. 10.  9. 10.  9.  8. 10.  6.]\n",
            "number of correct averaging happened for dataset 100 is 1000\n",
            "the averaging are done as  [15. 10. 11.  7.  7.  3. 11. 14.  7. 10.  6. 11.  8.  5. 10. 14. 12. 19.\n",
            "  7. 16.  8. 11. 10. 10. 12.  9. 11. 12. 16.  8. 19.  3. 11. 10. 15. 12.\n",
            "  6. 11.  8. 11. 14. 12.  6. 12. 11.  6.  9.  8.  5. 11.  9. 11.  7. 10.\n",
            " 12. 15.  9. 13. 11.  7.  7.  8. 11. 14. 13. 15. 14.  3.  9.  7. 12.  7.\n",
            " 12.  9. 10.  6. 10.  7. 12. 12. 16. 10.  3.  6. 11.  8.  9. 12.  6.  8.\n",
            "  9.  8.  6.  8.  8. 11.  8.  9. 13. 19.]\n"
          ]
        }
      ]
    },
    {
      "cell_type": "code",
      "metadata": {
        "id": "0dYXnywAD-4l"
      },
      "source": [
        "avg_image_dataset_1 = torch.stack(avg_image_dataset_1, axis = 0)\n",
        "\n",
        "# mean = torch.mean(avg_image_dataset_1, keepdims= True, axis = 0)\n",
        "# std = torch.std(avg_image_dataset_1, keepdims= True, axis = 0)\n",
        "\n",
        "# avg_image_dataset_1 = (avg_image_dataset_1 - mean) / std \n",
        "\n",
        "# print(torch.mean(avg_image_dataset_1, keepdims= True, axis = 0))\n",
        "# print(torch.std(avg_image_dataset_1, keepdims= True, axis = 0))\n",
        "# print(\"==\"*40)\n",
        "\n",
        "\n",
        "test_dataset = torch.stack(test_dataset, axis = 0)\n",
        "# mean = torch.mean(test_dataset, keepdims= True, axis = 0)\n",
        "# std = torch.std(test_dataset, keepdims= True, axis = 0)\n",
        "# test_dataset = (test_dataset - mean) / std\n",
        "\n",
        "# print(torch.mean(test_dataset, keepdims= True, axis = 0))\n",
        "# print(torch.std(test_dataset, keepdims= True, axis = 0))\n",
        "# print(\"==\"*40)\n"
      ],
      "execution_count": 286,
      "outputs": []
    },
    {
      "cell_type": "code",
      "metadata": {
        "colab": {
          "base_uri": "https://localhost:8080/",
          "height": 299
        },
        "id": "bT9-kEI7NAnR",
        "outputId": "0ccabb72-bb64-4381-963b-76493749b6d9"
      },
      "source": [
        "x1 = (avg_image_dataset_1).numpy()\n",
        "y1 = np.array(labels_1)\n",
        "\n",
        "# idx1 = []\n",
        "# for i in range(3):\n",
        "#   idx1.append(y1 == i)\n",
        "\n",
        "# for i in range(3):\n",
        "#     z = np.zeros(x1[idx1[i]].shape[0])\n",
        "#     plt.scatter(x1[idx1[i]],z,label=\"class_\"+str(i))\n",
        "# plt.legend()\n",
        "\n",
        "plt.scatter(x1[y1==0], y1[y1==0]*0, label='class 0')\n",
        "plt.scatter(x1[y1==1], y1[y1==1]*0, label='class 1')\n",
        "# plt.scatter(x1[y1==2], y1[y1==2]*0, label='class 2')\n",
        "plt.legend()\n",
        "plt.title(\"dataset1 CIN with alpha = 1/\"+str(m))"
      ],
      "execution_count": 287,
      "outputs": [
        {
          "output_type": "execute_result",
          "data": {
            "text/plain": [
              "Text(0.5, 1.0, 'dataset1 CIN with alpha = 1/100')"
            ]
          },
          "metadata": {},
          "execution_count": 287
        },
        {
          "output_type": "display_data",
          "data": {
            "image/png": "[encoded data removed]",
            "text/plain": [
              "<Figure size 432x288 with 1 Axes>"
            ]
          },
          "metadata": {
            "needs_background": "light"
          }
        }
      ]
    },
    {
      "cell_type": "code",
      "metadata": {
        "colab": {
          "base_uri": "https://localhost:8080/",
          "height": 305
        },
        "id": "DWQydhG9jg1I",
        "outputId": "8fe18da1-fc5e-4dbd-824a-1e310d5b347a"
      },
      "source": [
        "x1 = (avg_image_dataset_1).numpy()\n",
        "y1 = np.array(labels_1)\n",
        "\n",
        "idx_1 = y1==0\n",
        "idx_2 = np.where(idx_1==True)[0]\n",
        "idx_3 = np.where(idx_1==False)[0]\n",
        "color = ['#1F77B4','orange', 'brown']\n",
        "\n",
        "true_point = len(idx_2)\n",
        "plt.scatter(x1[idx_2[:25]], y1[idx_2[:25]]*0, label='class 0', c= color[0], marker='o')\n",
        "plt.scatter(x1[idx_3[:25]], y1[idx_3[:25]]*0, label='class 1', c= color[1], marker='o')\n",
        "\n",
        "plt.scatter(x1[idx_3[50:75]], y1[idx_3[50:75]]*0,  c= color[1], marker='o')\n",
        "plt.scatter(x1[idx_2[50:75]], y1[idx_2[50:75]]*0,  c= color[0], marker='o')\n",
        "\n",
        "\n",
        "plt.legend()\n",
        "plt.xticks( fontsize=14, fontweight = 'bold')\n",
        "plt.yticks( fontsize=14, fontweight = 'bold')\n",
        "plt.xlabel(\"X\", fontsize=14, fontweight = 'bold')\n",
        "# plt.savefig(fp_cin+\"ds1_alpha_04.png\", bbox_inches=\"tight\")\n",
        "# plt.savefig(fp_cin+\"ds1_alpha_04.pdf\", bbox_inches=\"tight\")"
      ],
      "execution_count": 288,
      "outputs": [
        {
          "output_type": "execute_result",
          "data": {
            "text/plain": [
              "Text(0.5, 0, 'X')"
            ]
          },
          "metadata": {},
          "execution_count": 288
        },
        {
          "output_type": "display_data",
          "data": {
            "image/png": "[encoded data removed]",
            "text/plain": [
              "<Figure size 432x288 with 1 Axes>"
            ]
          },
          "metadata": {
            "needs_background": "light"
          }
        }
      ]
    },
    {
      "cell_type": "code",
      "metadata": {
        "colab": {
          "base_uri": "https://localhost:8080/"
        },
        "id": "bu5Po7YIiLvN",
        "outputId": "123563c9-b464-4f5f-bb48-eb4f05d6f6e6"
      },
      "source": [
        "avg_image_dataset_1[0:10]"
      ],
      "execution_count": 289,
      "outputs": [
        {
          "output_type": "execute_result",
          "data": {
            "text/plain": [
              "tensor([[-0.2787],\n",
              "        [-0.2088],\n",
              "        [-0.0343],\n",
              "        [-0.2561],\n",
              "        [-0.0612],\n",
              "        [-0.0036],\n",
              "        [-0.1076],\n",
              "        [-0.2134],\n",
              "        [-0.0832],\n",
              "        [-0.0384]], dtype=torch.float64)"
            ]
          },
          "metadata": {},
          "execution_count": 289
        }
      ]
    },
    {
      "cell_type": "code",
      "metadata": {
        "colab": {
          "base_uri": "https://localhost:8080/",
          "height": 299
        },
        "id": "1fhxsxf9384L",
        "outputId": "784d1d58-9c85-469a-d042-00fd2aec21d9"
      },
      "source": [
        "x1 = (test_dataset).numpy()/m\n",
        "y1 = np.array(labels)\n",
        "\n",
        "# idx1 = []\n",
        "# for i in range(3):\n",
        "#   idx1.append(y1 == i)\n",
        "\n",
        "# for i in range(3):\n",
        "#     z = np.zeros(x1[idx1[i]].shape[0])\n",
        "#     plt.scatter(x1[idx1[i]],z,label=\"class_\"+str(i))\n",
        "# plt.legend()\n",
        "\n",
        "plt.scatter(x1[y1==0], y1[y1==0]*0, label='class 0')\n",
        "plt.scatter(x1[y1==1], y1[y1==1]*0, label='class 1')\n",
        "# plt.scatter(x1[y1==2], y1[y1==2]*0, label='class 2')\n",
        "plt.legend()\n",
        "plt.title(\"test dataset1 \")"
      ],
      "execution_count": 290,
      "outputs": [
        {
          "output_type": "execute_result",
          "data": {
            "text/plain": [
              "Text(0.5, 1.0, 'test dataset1 ')"
            ]
          },
          "metadata": {},
          "execution_count": 290
        },
        {
          "output_type": "display_data",
          "data": {
            "image/png": "[encoded data removed]",
            "text/plain": [
              "<Figure size 432x288 with 1 Axes>"
            ]
          },
          "metadata": {
            "needs_background": "light"
          }
        }
      ]
    },
    {
      "cell_type": "code",
      "metadata": {
        "colab": {
          "base_uri": "https://localhost:8080/"
        },
        "id": "wa4C_cnogtXE",
        "outputId": "1fe7210c-c76b-455d-b175-1a728a8e02e7"
      },
      "source": [
        "test_dataset.numpy()[0:10]/m"
      ],
      "execution_count": 291,
      "outputs": [
        {
          "output_type": "execute_result",
          "data": {
            "text/plain": [
              "array([[-0.06277334],\n",
              "       [-0.08420375],\n",
              "       [-0.07989261],\n",
              "       [-0.07701202],\n",
              "       [-0.09229164],\n",
              "       [-0.05468652],\n",
              "       [-0.11430254],\n",
              "       [-0.09379254],\n",
              "       [-0.09100251],\n",
              "       [-0.0691113 ]])"
            ]
          },
          "metadata": {},
          "execution_count": 291
        }
      ]
    },
    {
      "cell_type": "code",
      "metadata": {
        "id": "3iJoJ0eIhSqz"
      },
      "source": [
        "test_dataset = test_dataset/m"
      ],
      "execution_count": 292,
      "outputs": []
    },
    {
      "cell_type": "code",
      "metadata": {
        "colab": {
          "base_uri": "https://localhost:8080/"
        },
        "id": "nKl8pSEbhVGU",
        "outputId": "ab950a06-8fbe-4986-8cfc-bae7cdb7ce87"
      },
      "source": [
        "test_dataset.numpy()[0:10]"
      ],
      "execution_count": 293,
      "outputs": [
        {
          "output_type": "execute_result",
          "data": {
            "text/plain": [
              "array([[-0.06277334],\n",
              "       [-0.08420375],\n",
              "       [-0.07989261],\n",
              "       [-0.07701202],\n",
              "       [-0.09229164],\n",
              "       [-0.05468652],\n",
              "       [-0.11430254],\n",
              "       [-0.09379254],\n",
              "       [-0.09100251],\n",
              "       [-0.0691113 ]])"
            ]
          },
          "metadata": {},
          "execution_count": 293
        }
      ]
    },
    {
      "cell_type": "code",
      "metadata": {
        "id": "yL0BRf8er0TX"
      },
      "source": [
        "class MosaicDataset(Dataset):\n",
        "  \"\"\"MosaicDataset dataset.\"\"\"\n",
        "\n",
        "  def __init__(self, mosaic_list_of_images, mosaic_label):\n",
        "    \"\"\"\n",
        "      Args:\n",
        "        csv_file (string): Path to the csv file with annotations.\n",
        "        root_dir (string): Directory with all the images.\n",
        "        transform (callable, optional): Optional transform to be applied\n",
        "            on a sample.\n",
        "    \"\"\"\n",
        "    self.mosaic = mosaic_list_of_images\n",
        "    self.label = mosaic_label\n",
        "    #self.fore_idx = fore_idx\n",
        "    \n",
        "  def __len__(self):\n",
        "    return len(self.label)\n",
        "\n",
        "  def __getitem__(self, idx):\n",
        "    return self.mosaic[idx] , self.label[idx] #, self.fore_idx[idx]\n",
        "\n"
      ],
      "execution_count": 294,
      "outputs": []
    },
    {
      "cell_type": "code",
      "metadata": {
        "colab": {
          "base_uri": "https://localhost:8080/"
        },
        "id": "4KsrW9qL9xgS",
        "outputId": "a852029b-15d7-4e16-8479-1eba5769d3be"
      },
      "source": [
        "avg_image_dataset_1[0].shape, avg_image_dataset_1[0]"
      ],
      "execution_count": 295,
      "outputs": [
        {
          "output_type": "execute_result",
          "data": {
            "text/plain": [
              "(torch.Size([1]), tensor([-0.2787], dtype=torch.float64))"
            ]
          },
          "metadata": {},
          "execution_count": 295
        }
      ]
    },
    {
      "cell_type": "code",
      "metadata": {
        "id": "EY2l62APygaV"
      },
      "source": [
        "batch = 200\n",
        "\n",
        "traindata_1 = MosaicDataset(avg_image_dataset_1, labels_1 )\n",
        "trainloader_1 = DataLoader( traindata_1 , batch_size= batch ,shuffle=True)\n"
      ],
      "execution_count": 296,
      "outputs": []
    },
    {
      "cell_type": "code",
      "metadata": {
        "id": "Nh3mBQHZ8bEj"
      },
      "source": [
        "testdata_1 = MosaicDataset(test_dataset, labels )\n",
        "testloader_1 = DataLoader( testdata_1 , batch_size= batch ,shuffle=False)"
      ],
      "execution_count": 297,
      "outputs": []
    },
    {
      "cell_type": "code",
      "metadata": {
        "id": "5_XeIUk0r0Tl"
      },
      "source": [
        "class Whatnet(nn.Module):\n",
        "    def __init__(self):\n",
        "        super(Whatnet,self).__init__()\n",
        "        self.linear1 = nn.Linear(1,2)\n",
        "        # self.linear2 = nn.Linear(50,10)\n",
        "        # self.linear3 = nn.Linear(10,3)\n",
        "        torch.nn.init.xavier_normal_(self.linear1.weight)\n",
        "        torch.nn.init.zeros_(self.linear1.bias)\n",
        "\n",
        "    def forward(self,x):\n",
        "        # x = F.relu(self.linear1(x))\n",
        "        # x = F.relu(self.linear2(x))\n",
        "        x = (self.linear1(x))\n",
        "\n",
        "        return x"
      ],
      "execution_count": 298,
      "outputs": []
    },
    {
      "cell_type": "code",
      "metadata": {
        "id": "pjD2VZuV9Ed4"
      },
      "source": [
        "def calculate_loss(dataloader,model,criter):\n",
        "  model.eval()\n",
        "  r_loss = 0\n",
        "  with torch.no_grad():\n",
        "    for i, data in enumerate(dataloader, 0):\n",
        "      inputs, labels = data\n",
        "      inputs, labels = inputs.to(\"cuda\"),labels.to(\"cuda\")\n",
        "      outputs = model(inputs)\n",
        "      loss = criter(outputs, labels)\n",
        "      r_loss += loss.item()\n",
        "  return r_loss/i"
      ],
      "execution_count": 299,
      "outputs": []
    },
    {
      "cell_type": "code",
      "metadata": {
        "id": "uALi25pmzQHV"
      },
      "source": [
        "def test_all(number, testloader,net):\n",
        "    correct = 0\n",
        "    total = 0\n",
        "    out = []\n",
        "    pred = []\n",
        "    with torch.no_grad():\n",
        "        for data in testloader:\n",
        "            images, labels = data\n",
        "            images, labels = images.to(\"cuda\"),labels.to(\"cuda\")\n",
        "            out.append(labels.cpu().numpy())\n",
        "            outputs= net(images)\n",
        "            _, predicted = torch.max(outputs.data, 1)\n",
        "            pred.append(predicted.cpu().numpy())\n",
        "            total += labels.size(0)\n",
        "            correct += (predicted == labels).sum().item()\n",
        "    \n",
        "    pred = np.concatenate(pred, axis = 0)\n",
        "    out = np.concatenate(out, axis = 0)\n",
        "    print(\"unique out: \",  np.unique(out), \"unique pred: \", np.unique(pred) )\n",
        "    print(\"correct: \", correct, \"total \",  total)\n",
        "    print('Accuracy of the network on the 1000 test dataset %d: %.2f %%' % (number , 100 * correct / total))"
      ],
      "execution_count": 300,
      "outputs": []
    },
    {
      "cell_type": "code",
      "metadata": {
        "id": "4vmNprlPzTjP"
      },
      "source": [
        "def train_all(trainloader, ds_number, testloader_list):\n",
        "    \n",
        "    print(\"--\"*40)\n",
        "    print(\"training on data set  \", ds_number)\n",
        "    \n",
        "    torch.manual_seed(12)\n",
        "    net = Whatnet().double()\n",
        "    net = net.to(\"cuda\")\n",
        "    \n",
        "    criterion_net = nn.CrossEntropyLoss()\n",
        "    optimizer_net = optim.Adam(net.parameters(), lr=0.001 ) #, momentum=0.9)\n",
        "    \n",
        "    acti = []\n",
        "    loss_curi = []\n",
        "    epochs = 1500\n",
        "    running_loss = calculate_loss(trainloader,net,criterion_net)\n",
        "    loss_curi.append(running_loss)\n",
        "    print('epoch: [%d ] loss: %.3f' %(0,running_loss)) \n",
        "    for epoch in range(epochs): # loop over the dataset multiple times\n",
        "        ep_lossi = []\n",
        "\n",
        "        running_loss = 0.0\n",
        "        net.train()\n",
        "        for i, data in enumerate(trainloader, 0):\n",
        "            # get the inputs\n",
        "            inputs, labels = data\n",
        "            inputs, labels = inputs.to(\"cuda\"),labels.to(\"cuda\")\n",
        "\n",
        "            # zero the parameter gradients\n",
        "            optimizer_net.zero_grad()\n",
        "\n",
        "            # forward + backward + optimize\n",
        "            outputs = net(inputs)\n",
        "            loss = criterion_net(outputs, labels)\n",
        "            # print statistics\n",
        "            running_loss += loss.item()\n",
        "            loss.backward()\n",
        "            optimizer_net.step()\n",
        "\n",
        "        running_loss = calculate_loss(trainloader,net,criterion_net)\n",
        "        if(epoch%200 == 0):\n",
        "          print('epoch: [%d] loss: %.3f' %(epoch + 1,running_loss)) \n",
        "        loss_curi.append(running_loss)   #loss per epoch\n",
        "        if running_loss<=0.05:\n",
        "          print('epoch: [%d] loss: %.3f' %(epoch + 1,running_loss))\n",
        "          break\n",
        "\n",
        "    print('Finished Training')\n",
        "    \n",
        "    correct = 0\n",
        "    total = 0\n",
        "    with torch.no_grad():\n",
        "        for data in trainloader:\n",
        "            images, labels = data\n",
        "            images, labels = images.to(\"cuda\"), labels.to(\"cuda\")\n",
        "            outputs = net(images)\n",
        "            _, predicted = torch.max(outputs.data, 1)\n",
        "            total += labels.size(0)\n",
        "            correct += (predicted == labels).sum().item()\n",
        "\n",
        "    print('Accuracy of the network on the 1000 train images: %.2f %%' % (  100 * correct / total))\n",
        "    \n",
        "    for i, j in enumerate(testloader_list):\n",
        "        test_all(i+1, j,net)\n",
        "    \n",
        "    print(\"--\"*40)\n",
        "    \n",
        "    return loss_curi, net\n",
        "    "
      ],
      "execution_count": 301,
      "outputs": []
    },
    {
      "cell_type": "code",
      "metadata": {
        "id": "Yl41sE8vFERk"
      },
      "source": [
        "train_loss_all=[]\n",
        "\n",
        "testloader_list= [ testloader_1 ]"
      ],
      "execution_count": 302,
      "outputs": []
    },
    {
      "cell_type": "code",
      "metadata": {
        "id": "5gQoPST5zW2t",
        "colab": {
          "base_uri": "https://localhost:8080/"
        },
        "outputId": "4c482bc1-0544-4216-ba63-7f8100904132"
      },
      "source": [
        "loss, net = train_all(trainloader_1, 1, testloader_list)\n",
        "train_loss_all.append(loss)"
      ],
      "execution_count": 303,
      "outputs": [
        {
          "output_type": "stream",
          "name": "stdout",
          "text": [
            "--------------------------------------------------------------------------------\n",
            "training on data set   1\n",
            "epoch: [0 ] loss: 0.864\n",
            "epoch: [1] loss: 0.864\n",
            "epoch: [201] loss: 0.859\n",
            "epoch: [401] loss: 0.858\n",
            "epoch: [601] loss: 0.858\n",
            "epoch: [801] loss: 0.858\n",
            "epoch: [1001] loss: 0.858\n",
            "epoch: [1201] loss: 0.858\n",
            "epoch: [1401] loss: 0.858\n",
            "Finished Training\n",
            "Accuracy of the network on the 1000 train images: 54.70 %\n",
            "unique out:  [0 1] unique pred:  [0 1]\n",
            "correct:  790 total  1000\n",
            "Accuracy of the network on the 1000 test dataset 1: 79.00 %\n",
            "--------------------------------------------------------------------------------\n"
          ]
        }
      ]
    },
    {
      "cell_type": "code",
      "metadata": {
        "colab": {
          "base_uri": "https://localhost:8080/"
        },
        "id": "1PKuWWdcic_T",
        "outputId": "6520f566-bad7-4139-e7fa-8a0dd433f921"
      },
      "source": [
        "net.linear1.weight, net.linear1.bias"
      ],
      "execution_count": 304,
      "outputs": [
        {
          "output_type": "execute_result",
          "data": {
            "text/plain": [
              "(Parameter containing:\n",
              " tensor([[-0.9703],\n",
              "         [ 1.2944]], device='cuda:0', dtype=torch.float64, requires_grad=True),\n",
              " Parameter containing:\n",
              " tensor([-0.1136,  0.1136], device='cuda:0', dtype=torch.float64,\n",
              "        requires_grad=True))"
            ]
          },
          "metadata": {},
          "execution_count": 304
        }
      ]
    },
    {
      "cell_type": "code",
      "metadata": {
        "id": "In76SYH_zZHV"
      },
      "source": [
        "%matplotlib inline"
      ],
      "execution_count": 305,
      "outputs": []
    },
    {
      "cell_type": "code",
      "metadata": {
        "id": "BS4HtOHEzZ0E",
        "colab": {
          "base_uri": "https://localhost:8080/",
          "height": 297
        },
        "outputId": "8c2cc8f5-943b-41a9-da57-577a8561670c"
      },
      "source": [
        "for i,j in enumerate(train_loss_all):\n",
        "    plt.plot(j,label =\"dataset \"+str(i+1))\n",
        "    \n",
        "\n",
        "plt.xlabel(\"Epochs\")\n",
        "plt.ylabel(\"Training_loss\")\n",
        "\n",
        "plt.legend(loc='center left', bbox_to_anchor=(1, 0.5))"
      ],
      "execution_count": 306,
      "outputs": [
        {
          "output_type": "execute_result",
          "data": {
            "text/plain": [
              "<matplotlib.legend.Legend at 0x7fb16e967e10>"
            ]
          },
          "metadata": {},
          "execution_count": 306
        },
        {
          "output_type": "display_data",
          "data": {
            "image/png": "[encoded data removed]",
            "text/plain": [
              "<Figure size 432x288 with 1 Axes>"
            ]
          },
          "metadata": {
            "needs_background": "light"
          }
        }
      ]
    },
    {
      "cell_type": "code",
      "metadata": {
        "id": "1UbTkfLUINTI"
      },
      "source": [
        ""
      ],
      "execution_count": 306,
      "outputs": []
    }
  ]
}