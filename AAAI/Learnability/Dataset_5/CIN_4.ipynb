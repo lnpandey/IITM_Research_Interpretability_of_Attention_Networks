{
 "cells": [
  {
   "cell_type": "code",
   "execution_count": 1,
   "metadata": {
    "colab": {
     "base_uri": "https://localhost:8080/"
    },
    "id": "N2_J4Rw2r0SQ",
    "outputId": "9de24054-a684-4331-a1e9-448b35505a1e"
   },
   "outputs": [
    {
     "name": "stdout",
     "output_type": "stream",
     "text": [
      "cpu\n"
     ]
    }
   ],
   "source": [
    "import numpy as np\n",
    "import pandas as pd\n",
    "from matplotlib import pyplot as plt\n",
    "from tqdm import tqdm\n",
    "%matplotlib inline\n",
    "from torch.utils.data import Dataset, DataLoader\n",
    "import torch\n",
    "import torchvision\n",
    "\n",
    "import torch.nn as nn\n",
    "import torch.optim as optim\n",
    "from torch.nn import functional as F\n",
    "device = torch.device(\"cuda\" if torch.cuda.is_available() else \"cpu\")\n",
    "print(device)"
   ]
  },
  {
   "cell_type": "code",
   "execution_count": 2,
   "metadata": {
    "id": "ZTJPyL45DiJ3"
   },
   "outputs": [],
   "source": [
    "m = 100                     # 5, 50, 100, 500, 2000"
   ]
  },
  {
   "cell_type": "code",
   "execution_count": 3,
   "metadata": {
    "id": "g-do5dZWK5L6"
   },
   "outputs": [],
   "source": [
    "train_size = 100           # 100, 500, 2000, 10000"
   ]
  },
  {
   "cell_type": "code",
   "execution_count": 4,
   "metadata": {
    "id": "c-WeVGWd49Hj"
   },
   "outputs": [],
   "source": [
    "desired_num = train_size + 1000"
   ]
  },
  {
   "cell_type": "code",
   "execution_count": 5,
   "metadata": {
    "colab": {
     "base_uri": "https://localhost:8080/"
    },
    "id": "XTHbSeGAK7k7",
    "outputId": "d6ab7dd0-6d0b-46aa-cc5a-8b365314eb34"
   },
   "outputs": [
    {
     "data": {
      "text/plain": [
       "(0, 100, 1100)"
      ]
     },
     "execution_count": 5,
     "metadata": {},
     "output_type": "execute_result"
    }
   ],
   "source": [
    "tr_i = 0\n",
    "tr_j = train_size\n",
    "tr_k = desired_num\n",
    "\n",
    "tr_i, tr_j, tr_k"
   ]
  },
  {
   "cell_type": "markdown",
   "metadata": {
    "id": "F6fjud_Fr0Sa"
   },
   "source": [
    "# Generate dataset"
   ]
  },
  {
   "cell_type": "code",
   "execution_count": 6,
   "metadata": {
    "colab": {
     "base_uri": "https://localhost:8080/"
    },
    "id": "ePsjDkjsEZm4",
    "outputId": "6ae6a349-e05e-42bc-94aa-970fcde663fd"
   },
   "outputs": [
    {
     "name": "stdout",
     "output_type": "stream",
     "text": [
      "0 500\n",
      "1 500\n",
      "2 500\n",
      "3 500\n",
      "4 500\n",
      "5 500\n",
      "6 500\n",
      "7 500\n",
      "8 500\n",
      "9 500\n"
     ]
    }
   ],
   "source": [
    "np.random.seed(1)\n",
    "n_points = 500\n",
    "y = np.concatenate((np.zeros(n_points),np.ones(n_points),np.ones(n_points)*2,np.ones(n_points)*3,np.ones(n_points)*4,\n",
    "                    np.ones(n_points)*5,np.ones(n_points)*6,np.ones(n_points)*7,np.ones(n_points)*8,np.ones(n_points)*9))\n",
    "#y = np.random.randint(0,3,6000)\n",
    "idx= []\n",
    "for i in range(10):\n",
    "    print(i,sum(y==i))\n",
    "    idx.append(y==i)"
   ]
  },
  {
   "cell_type": "code",
   "execution_count": 7,
   "metadata": {
    "id": "ddhXyODwr0Sk"
   },
   "outputs": [],
   "source": [
    "x = np.zeros((n_points*10,5))"
   ]
  },
  {
   "cell_type": "code",
   "execution_count": 8,
   "metadata": {
    "id": "DyV3N2DIr0Sp"
   },
   "outputs": [],
   "source": [
    "np.random.seed(1)\n",
    "cov_mat = [[0.02,0,0,0,0],[0,0.02,0,0,0],[0,0,0.02,0,0],\n",
    "                                                 [0,0,0,0.02,0],[0,0,0,0,0.02]]\n",
    "\n",
    "x[idx[0],:] = np.random.multivariate_normal(mean = [1,0,0,0,0],\n",
    "                                            cov=cov_mat,size=sum(idx[0]))\n",
    "\n",
    "\n",
    "x[idx[1],:] = np.random.multivariate_normal(mean = [0,1,0,0,0],\n",
    "                                            cov=cov_mat,size=sum(idx[1]))\n",
    "\n",
    "\n",
    "x[idx[2],:] = np.random.multivariate_normal(mean = [0,0,1,0,0],\n",
    "                                            cov=cov_mat,size=sum(idx[2]))\n",
    "\n",
    "\n",
    "x[idx[3],:] = np.random.multivariate_normal(mean = [0,0,0,-0.75,0.5],\n",
    "                                            cov=cov_mat,size=sum(idx[3]))\n",
    "\n",
    "\n",
    "\n",
    "x[idx[4],:] = np.random.multivariate_normal(mean = [0,0,0,0.65,-0.65],\n",
    "                                            cov=cov_mat,size=sum(idx[4]))\n",
    "\n",
    "\n",
    "x[idx[5],:] = np.random.multivariate_normal(mean = [0,0,0,-0.9,-0.75],\n",
    "                                            cov=cov_mat,size=sum(idx[5]))\n",
    "\n",
    "\n",
    "x[idx[6],:] = np.random.multivariate_normal(mean = [0,0,0,0.8,-0.8],\n",
    "                                            cov=cov_mat,size=sum(idx[6]))\n",
    "\n",
    "x[idx[7],:] = np.random.multivariate_normal(mean = [0,0,0,-0.5,0.8],\n",
    "                                            cov=cov_mat,size=sum(idx[7]))\n",
    "\n",
    "\n",
    "x[idx[8],:] = np.random.multivariate_normal(mean = [0,0,0,0.9,0.75],\n",
    "                                            cov=cov_mat,size=sum(idx[8]))\n",
    "\n",
    "\n",
    "x[idx[9],:] = np.random.multivariate_normal(mean = [0,0,0,-1,0.65],\n",
    "                                            cov=cov_mat,size=sum(idx[9]))"
   ]
  },
  {
   "cell_type": "code",
   "execution_count": 9,
   "metadata": {
    "colab": {
     "base_uri": "https://localhost:8080/",
     "height": 284
    },
    "id": "bPPedcldFQ3s",
    "outputId": "9452ef7e-3937-42a8-8367-6fd25e47119e"
   },
   "outputs": [
    {
     "data": {
      "text/plain": [
       "<matplotlib.legend.Legend at 0x123c63d90>"
      ]
     },
     "execution_count": 9,
     "metadata": {},
     "output_type": "execute_result"
    },
    {
     "data": {
      "image/png": "[encoded data removed]",
      "text/plain": [
       "<Figure size 432x288 with 1 Axes>"
      ]
     },
     "metadata": {
      "needs_background": "light"
     },
     "output_type": "display_data"
    }
   ],
   "source": [
    "plt.scatter(x[idx[0],0],x[idx[0],1],label=\"class_\"+str(0))\n",
    "\n",
    "plt.scatter(x[idx[1],0],x[idx[1],1],label=\"class_\"+str(1))\n",
    "\n",
    "\n",
    "\n",
    "plt.scatter(x[idx[2],1],x[idx[2],2],label=\"class_\"+str(2))\n",
    "plt.legend(loc='center left', bbox_to_anchor=(1, 0.5))"
   ]
  },
  {
   "cell_type": "code",
   "execution_count": 10,
   "metadata": {
    "colab": {
     "base_uri": "https://localhost:8080/"
    },
    "id": "hJ8Jm7YUr0St",
    "outputId": "98860c1c-30bc-4062-bf54-490868558c8a"
   },
   "outputs": [
    {
     "name": "stdout",
     "output_type": "stream",
     "text": [
      "0.05488034032428808\n",
      "0.4852598614616613\n"
     ]
    },
    {
     "data": {
      "text/plain": [
       "(None, None)"
      ]
     },
     "execution_count": 10,
     "metadata": {},
     "output_type": "execute_result"
    }
   ],
   "source": [
    "print(np.mean(x)),print(np.std(x))"
   ]
  },
  {
   "cell_type": "code",
   "execution_count": 11,
   "metadata": {
    "colab": {
     "base_uri": "https://localhost:8080/"
    },
    "id": "3lMBZEHNBlF2",
    "outputId": "6e1360ae-f365-4f95-a534-7241607afcd3"
   },
   "outputs": [
    {
     "data": {
      "text/plain": [
       "(3500,)"
      ]
     },
     "execution_count": 11,
     "metadata": {},
     "output_type": "execute_result"
    }
   ],
   "source": [
    "bg_idx = [ np.where(idx[3] == True)[0], \n",
    "          np.where(idx[4] == True)[0], \n",
    "          np.where(idx[5] == True)[0],\n",
    "          np.where(idx[6] == True)[0], \n",
    "          np.where(idx[7] == True)[0], \n",
    "          np.where(idx[8] == True)[0],\n",
    "          np.where(idx[9] == True)[0]]\n",
    "\n",
    "bg_idx = np.concatenate(bg_idx, axis = 0)\n",
    "bg_idx.shape"
   ]
  },
  {
   "cell_type": "code",
   "execution_count": 12,
   "metadata": {
    "colab": {
     "base_uri": "https://localhost:8080/"
    },
    "id": "blRbGZHeCwXU",
    "outputId": "40c563dd-83e7-493f-aad9-5a26c08091da"
   },
   "outputs": [
    {
     "data": {
      "text/plain": [
       "(3500,)"
      ]
     },
     "execution_count": 12,
     "metadata": {},
     "output_type": "execute_result"
    }
   ],
   "source": [
    "np.unique(bg_idx).shape"
   ]
  },
  {
   "cell_type": "code",
   "execution_count": 13,
   "metadata": {
    "id": "Y43sWeX7C15F"
   },
   "outputs": [],
   "source": [
    "x = x - np.mean(x[bg_idx], axis = 0, keepdims = True)\n"
   ]
  },
  {
   "cell_type": "code",
   "execution_count": 14,
   "metadata": {
    "colab": {
     "base_uri": "https://localhost:8080/"
    },
    "id": "ooII7N6UDWe0",
    "outputId": "1f683312-79fb-4fbc-c268-de0e5675ab13"
   },
   "outputs": [
    {
     "data": {
      "text/plain": [
       "(array([[ 5.13874657e-18, -1.12608335e-18,  3.40204055e-18,\n",
       "         -1.36398829e-16,  1.37255287e-16]]),\n",
       " array([[ 0.10018249,  0.10092463,  0.10053439,  0.03500096, -0.02430054]]))"
      ]
     },
     "execution_count": 14,
     "metadata": {},
     "output_type": "execute_result"
    }
   ],
   "source": [
    "np.mean(x[bg_idx], axis = 0, keepdims = True), np.mean(x, axis = 0, keepdims = True)"
   ]
  },
  {
   "cell_type": "code",
   "execution_count": 15,
   "metadata": {
    "id": "g21bvPRYDL9k"
   },
   "outputs": [],
   "source": [
    "x = x/np.std(x[bg_idx], axis = 0, keepdims = True)"
   ]
  },
  {
   "cell_type": "code",
   "execution_count": 16,
   "metadata": {
    "colab": {
     "base_uri": "https://localhost:8080/"
    },
    "id": "GtFvIeHsDZJk",
    "outputId": "ef61662a-6199-43a7-ae28-71002830c166"
   },
   "outputs": [
    {
     "data": {
      "text/plain": [
       "(array([[1., 1., 1., 1., 1.]]),\n",
       " array([[2.33693198, 2.31727908, 2.36731988, 0.84494646, 0.84569432]]))"
      ]
     },
     "execution_count": 16,
     "metadata": {},
     "output_type": "execute_result"
    }
   ],
   "source": [
    "np.std(x[bg_idx], axis = 0, keepdims = True), np.std(x, axis = 0, keepdims = True)"
   ]
  },
  {
   "cell_type": "code",
   "execution_count": 44,
   "metadata": {
    "colab": {
     "base_uri": "https://localhost:8080/",
     "height": 284
    },
    "id": "8-VLhUfDDeHt",
    "outputId": "ef0a58dc-f3d8-4d43-bf1c-c0d1c2998e68"
   },
   "outputs": [
    {
     "data": {
      "text/plain": [
       "<matplotlib.legend.Legend at 0x123dbe6a0>"
      ]
     },
     "execution_count": 44,
     "metadata": {},
     "output_type": "execute_result"
    },
    {
     "data": {
      "image/png": "[encoded data removed]",
      "text/plain": [
       "<Figure size 432x288 with 1 Axes>"
      ]
     },
     "metadata": {
      "needs_background": "light"
     },
     "output_type": "display_data"
    }
   ],
   "source": [
    "plt.scatter(x[idx[0],0],x[idx[0],1],label=\"class_\"+str(0))\n",
    "plt.scatter(x[idx[1],0],x[idx[1],1],label=\"class_\"+str(1))\n",
    "plt.scatter(x[idx[2],1],x[idx[2],2],label=\"class_\"+str(2))\n",
    "\n",
    "plt.legend(loc='center left', bbox_to_anchor=(1, 0.5))"
   ]
  },
  {
   "cell_type": "code",
   "execution_count": 18,
   "metadata": {
    "id": "UfFHcZJOr0Sz"
   },
   "outputs": [],
   "source": [
    "foreground_classes = {'class_0','class_1' }\n",
    "\n",
    "background_classes = {'bg_classes',}"
   ]
  },
  {
   "cell_type": "code",
   "execution_count": 19,
   "metadata": {
    "colab": {
     "base_uri": "https://localhost:8080/"
    },
    "id": "OplNpNQVr0S2",
    "outputId": "51bd017c-1f4d-41a1-a3cb-af674cdd5e67"
   },
   "outputs": [
    {
     "name": "stderr",
     "output_type": "stream",
     "text": [
      "100%|██████████████████████████████████████| 1100/1100 [00:02<00:00, 375.55it/s]\n"
     ]
    }
   ],
   "source": [
    "desired_num = 1100  # 2000 + 1000\n",
    "\n",
    "\n",
    "m = 100\n",
    "\n",
    "\n",
    "\n",
    "mosaic_list_of_images =[]\n",
    "mosaic_label = []\n",
    "fore_idx=[]\n",
    "for j in tqdm(range(desired_num)):\n",
    "    np.random.seed(j)\n",
    "    fg_class  = np.random.randint(0,3)\n",
    "    fg_idx = np.random.randint(0,m)\n",
    "    a = []\n",
    "    for i in range(m):\n",
    "        if i == fg_idx:\n",
    "            b = np.random.choice(np.where(idx[fg_class]==True)[0],size=1)\n",
    "            a.append(x[b])\n",
    "#             print(\"foreground \"+str(fg_class)+\" present at \" + str(fg_idx))\n",
    "        else:\n",
    "            bg_class = np.random.randint(3,10)\n",
    "            b = np.random.choice(np.where(idx[bg_class]==True)[0],size=1)\n",
    "            a.append(x[b])\n",
    "#             print(\"background \"+str(bg_class)+\" present at \" + str(i))\n",
    "    a = np.concatenate(a,axis=0)\n",
    "    mosaic_list_of_images.append(np.reshape(a,(m,5)))\n",
    "    mosaic_label.append(fg_class)\n",
    "    fore_idx.append(fg_idx)"
   ]
  },
  {
   "cell_type": "code",
   "execution_count": 20,
   "metadata": {
    "colab": {
     "base_uri": "https://localhost:8080/"
    },
    "id": "OoxzYI-ur0S_",
    "outputId": "ceb5db3f-e660-4671-b7ba-a9338109565b"
   },
   "outputs": [
    {
     "data": {
      "text/plain": [
       "(1100, (100, 5))"
      ]
     },
     "execution_count": 20,
     "metadata": {},
     "output_type": "execute_result"
    }
   ],
   "source": [
    "len(mosaic_list_of_images),mosaic_list_of_images[0].shape"
   ]
  },
  {
   "cell_type": "code",
   "execution_count": 21,
   "metadata": {
    "id": "jqbvfbwVr0TN"
   },
   "outputs": [
    {
     "data": {
      "text/plain": [
       "(100, 5)"
      ]
     },
     "execution_count": 21,
     "metadata": {},
     "output_type": "execute_result"
    }
   ],
   "source": [
    "mosaic_list_of_images[0].shape"
   ]
  },
  {
   "cell_type": "code",
   "execution_count": null,
   "metadata": {
    "colab": {
     "base_uri": "https://localhost:8080/"
    },
    "id": "YzJPNP2mFwAG",
    "outputId": "1398fbe6-9fec-477a-d636-1d5e1d006081"
   },
   "outputs": [],
   "source": []
  },
  {
   "cell_type": "code",
   "execution_count": null,
   "metadata": {
    "colab": {
     "base_uri": "https://localhost:8080/"
    },
    "id": "2aIPMgLXNiXW",
    "outputId": "f406e2af-75bd-489b-aacf-04dd4e16561b"
   },
   "outputs": [],
   "source": []
  },
  {
   "cell_type": "code",
   "execution_count": null,
   "metadata": {
    "colab": {
     "base_uri": "https://localhost:8080/"
    },
    "id": "A3qcsbbzPfRG",
    "outputId": "965d67c9-2e77-48a7-b778-abb2557c0d59"
   },
   "outputs": [],
   "source": [
    "\n",
    "  "
   ]
  },
  {
   "cell_type": "code",
   "execution_count": 22,
   "metadata": {
    "id": "iPoIwbMHx44n"
   },
   "outputs": [],
   "source": [
    "def create_avg_image_from_mosaic_dataset(mosaic_dataset,labels,foreground_index,dataset_number, m):\n",
    "  \"\"\"\n",
    "  mosaic_dataset : mosaic_dataset contains 9 images 32 x 32 each as 1 data point\n",
    "  labels : mosaic_dataset labels\n",
    "  foreground_index : contains list of indexes where foreground image is present so that using this we can take weighted average\n",
    "  dataset_number : will help us to tell what ratio of foreground image to be taken. for eg: if it is \"j\" then fg_image_ratio = j/9 , bg_image_ratio = (9-j)/8*9\n",
    "  \"\"\"\n",
    "  avg_image_dataset = []\n",
    "  cnt = 0\n",
    "  counter = np.zeros(m) #np.array([0,0,0,0,0,0,0,0,0])\n",
    "  for i in range(len(mosaic_dataset)):\n",
    "    img = torch.zeros([5], dtype=torch.float64)\n",
    "    np.random.seed(int(dataset_number*10000 + i))\n",
    "    give_pref = foreground_index[i] #np.random.randint(0,9)\n",
    "    # print(\"outside\", give_pref,foreground_index[i])\n",
    "    for j in range(m):\n",
    "      if j == give_pref:\n",
    "        img = img + mosaic_dataset[i][j]*dataset_number/m   #2 is data dim\n",
    "      else :\n",
    "        img = img + mosaic_dataset[i][j]*(m-dataset_number)/((m-1)*m)\n",
    "\n",
    "    if give_pref == foreground_index[i] :\n",
    "      # print(\"equal are\", give_pref,foreground_index[i])\n",
    "      cnt += 1\n",
    "      counter[give_pref] += 1\n",
    "    else :\n",
    "      counter[give_pref] += 1\n",
    "\n",
    "    avg_image_dataset.append(img)\n",
    "\n",
    "  print(\"number of correct averaging happened for dataset \"+str(dataset_number)+\" is \"+str(cnt)) \n",
    "  print(\"the averaging are done as \", counter) \n",
    "  return avg_image_dataset , labels , foreground_index\n",
    "        \n",
    "  "
   ]
  },
  {
   "cell_type": "code",
   "execution_count": 23,
   "metadata": {
    "colab": {
     "base_uri": "https://localhost:8080/"
    },
    "id": "30ZAjix3x8CM",
    "outputId": "d50cdbf4-5cb6-4be9-e8d3-358d5258bd39"
   },
   "outputs": [
    {
     "name": "stdout",
     "output_type": "stream",
     "text": [
      "number of correct averaging happened for dataset 1 is 100\n",
      "the averaging are done as  [0. 0. 2. 3. 2. 3. 0. 2. 0. 0. 0. 2. 3. 0. 0. 6. 0. 0. 1. 3. 0. 0. 0. 2.\n",
      " 2. 1. 1. 0. 1. 1. 0. 1. 2. 0. 2. 4. 0. 1. 2. 1. 1. 2. 2. 0. 1. 1. 2. 1.\n",
      " 1. 0. 0. 2. 0. 0. 1. 0. 1. 1. 0. 0. 1. 1. 2. 2. 2. 1. 0. 0. 0. 2. 0. 1.\n",
      " 1. 1. 2. 2. 0. 1. 0. 1. 0. 0. 0. 0. 1. 1. 2. 1. 0. 1. 1. 3. 2. 0. 0. 0.\n",
      " 2. 0. 2. 0.]\n",
      "number of correct averaging happened for dataset 100 is 1000\n",
      "the averaging are done as  [13.  8.  7. 12.  8. 13. 10.  8.  4. 14.  9. 13. 13.  9.  8.  8. 14. 11.\n",
      " 13.  9. 14.  6.  9. 12.  8.  6. 19.  7. 13. 10. 16. 11.  9. 11.  6. 12.\n",
      "  3.  7.  8.  8.  9.  9.  6.  8.  5.  9. 17.  7. 12. 10. 10.  6. 11.  3.\n",
      " 11. 13. 11.  9. 15.  7. 11. 15. 14.  5. 13.  8. 13.  5. 13. 13. 15. 11.\n",
      " 10.  8.  8. 10. 14.  8.  9.  6. 16. 12. 10. 12.  8.  6. 11. 10.  8.  7.\n",
      " 12.  5. 14. 12. 11. 13.  8. 10.  9. 10.]\n"
     ]
    }
   ],
   "source": [
    "avg_image_dataset_1 , labels_1,  fg_index_1 = create_avg_image_from_mosaic_dataset(mosaic_list_of_images[0:tr_j], mosaic_label[0:tr_j], fore_idx[0:tr_j] , 1, m)\n",
    "\n",
    "\n",
    "test_dataset , labels , fg_index = create_avg_image_from_mosaic_dataset(mosaic_list_of_images[tr_j : tr_k], mosaic_label[tr_j : tr_k], fore_idx[tr_j : tr_k] , m, m)"
   ]
  },
  {
   "cell_type": "code",
   "execution_count": 24,
   "metadata": {
    "colab": {
     "base_uri": "https://localhost:8080/"
    },
    "id": "0dYXnywAD-4l",
    "outputId": "8c959a2e-1933-4b65-a527-248b4df8642d"
   },
   "outputs": [
    {
     "name": "stdout",
     "output_type": "stream",
     "text": [
      "================================================================================\n",
      "================================================================================\n"
     ]
    }
   ],
   "source": [
    "avg_image_dataset_1 = torch.stack(avg_image_dataset_1, axis = 0)\n",
    "# avg_image_dataset_1 = (avg - torch.mean(avg, keepdims= True, axis = 0)) / torch.std(avg, keepdims= True, axis = 0)\n",
    "# print(torch.mean(avg_image_dataset_1, keepdims= True, axis = 0))\n",
    "# print(torch.std(avg_image_dataset_1, keepdims= True, axis = 0))\n",
    "print(\"==\"*40)\n",
    "\n",
    "\n",
    "test_dataset = torch.stack(test_dataset, axis = 0)\n",
    "# test_dataset = (avg - torch.mean(avg, keepdims= True, axis = 0)) / torch.std(avg, keepdims= True, axis = 0)\n",
    "# print(torch.mean(test_dataset, keepdims= True, axis = 0))\n",
    "# print(torch.std(test_dataset, keepdims= True, axis = 0))\n",
    "print(\"==\"*40)\n"
   ]
  },
  {
   "cell_type": "code",
   "execution_count": 45,
   "metadata": {
    "colab": {
     "base_uri": "https://localhost:8080/",
     "height": 300
    },
    "id": "bT9-kEI7NAnR",
    "outputId": "1a9b5046-d1d0-4a2a-fb36-86f6e7499ca9"
   },
   "outputs": [
    {
     "data": {
      "text/plain": [
       "Text(0.5, 1.0, 'dataset4 CIN with alpha = 1/100')"
      ]
     },
     "execution_count": 45,
     "metadata": {},
     "output_type": "execute_result"
    },
    {
     "data": {
      "image/png": "[encoded data removed]",
      "text/plain": [
       "<Figure size 432x288 with 1 Axes>"
      ]
     },
     "metadata": {
      "needs_background": "light"
     },
     "output_type": "display_data"
    }
   ],
   "source": [
    "x1 = (avg_image_dataset_1).numpy()\n",
    "y1 = np.array(labels_1)\n",
    "\n",
    "plt.scatter(x1[y1==0,0], x1[y1==0,1], label='class 0')\n",
    "plt.scatter(x1[y1==1,0], x1[y1==1,1], label='class 1')\n",
    "plt.scatter(x1[y1==2,1], x1[y1==2,2], label='class 2')\n",
    "plt.legend()\n",
    "plt.title(\"dataset4 CIN with alpha = 1/\"+str(m))"
   ]
  },
  {
   "cell_type": "code",
   "execution_count": 46,
   "metadata": {
    "colab": {
     "base_uri": "https://localhost:8080/",
     "height": 300
    },
    "id": "Sc8W2N7LQQ_l",
    "outputId": "9e433ebb-3f49-44db-857e-6df3780ae710"
   },
   "outputs": [
    {
     "data": {
      "text/plain": [
       "Text(0.5, 1.0, 'test dataset4')"
      ]
     },
     "execution_count": 46,
     "metadata": {},
     "output_type": "execute_result"
    },
    {
     "data": {
      "image/png": "[encoded data removed]",
      "text/plain": [
       "<Figure size 432x288 with 1 Axes>"
      ]
     },
     "metadata": {
      "needs_background": "light"
     },
     "output_type": "display_data"
    }
   ],
   "source": [
    "x1 = (test_dataset).numpy() / m\n",
    "y1 = np.array(labels)\n",
    "\n",
    "plt.scatter(x1[y1==0,0], x1[y1==0,1], label='class 0')\n",
    "plt.scatter(x1[y1==1,0], x1[y1==1,1], label='class 1')\n",
    "plt.scatter(x1[y1==2,1], x1[y1==2,2], label='class 2')\n",
    "plt.legend()\n",
    "plt.title(\"test dataset4\")"
   ]
  },
  {
   "cell_type": "code",
   "execution_count": 27,
   "metadata": {
    "colab": {
     "base_uri": "https://localhost:8080/"
    },
    "id": "pWVkaBZGXCRN",
    "outputId": "b5840593-1088-44d8-def2-0203ec837574"
   },
   "outputs": [
    {
     "data": {
      "text/plain": [
       "tensor([[ 7.7676e-02,  1.2855e-02, -6.0716e-03,  2.4828e-03,  1.7194e-03],\n",
       "        [ 7.7715e-03,  7.1691e-02, -7.8548e-03,  1.4859e-03, -3.4290e-03],\n",
       "        [ 5.6940e-02,  3.1087e-03,  8.6347e-03, -1.5126e-04, -3.8060e-04],\n",
       "        [-2.1565e-04,  7.4080e-02,  3.0682e-03,  5.3280e-03, -3.0801e-03],\n",
       "        [-1.0016e-02,  8.7415e-02,  1.9229e-02,  1.8830e-03,  5.7905e-04],\n",
       "        [ 6.3830e-02,  2.2499e-03,  9.4223e-03, -1.3579e-03, -1.2631e-04],\n",
       "        [-1.6413e-03, -2.6859e-03,  7.4782e-02,  3.6815e-03, -2.0005e-03],\n",
       "        [ 2.0942e-02, -9.8198e-03,  8.0651e-02,  1.6456e-03, -2.7235e-03],\n",
       "        [-3.0752e-03,  7.2593e-02, -2.2906e-02,  1.7757e-03, -3.0539e-03],\n",
       "        [ 5.1579e-03, -1.0245e-02,  6.8593e-02, -3.6424e-04, -4.2169e-05]],\n",
       "       dtype=torch.float64)"
      ]
     },
     "execution_count": 27,
     "metadata": {},
     "output_type": "execute_result"
    }
   ],
   "source": [
    "test_dataset[0:10]/m"
   ]
  },
  {
   "cell_type": "code",
   "execution_count": 28,
   "metadata": {
    "colab": {
     "base_uri": "https://localhost:8080/"
    },
    "id": "JDZLkEGbXGqg",
    "outputId": "2c4f8665-6f8e-4c33-922d-309088ebe0a9"
   },
   "outputs": [
    {
     "data": {
      "text/plain": [
       "tensor([[ 7.7676e-02,  1.2855e-02, -6.0716e-03,  2.4828e-03,  1.7194e-03],\n",
       "        [ 7.7715e-03,  7.1691e-02, -7.8548e-03,  1.4859e-03, -3.4290e-03],\n",
       "        [ 5.6940e-02,  3.1087e-03,  8.6347e-03, -1.5126e-04, -3.8060e-04],\n",
       "        [-2.1565e-04,  7.4080e-02,  3.0682e-03,  5.3280e-03, -3.0801e-03],\n",
       "        [-1.0016e-02,  8.7415e-02,  1.9229e-02,  1.8830e-03,  5.7905e-04],\n",
       "        [ 6.3830e-02,  2.2499e-03,  9.4223e-03, -1.3579e-03, -1.2631e-04],\n",
       "        [-1.6413e-03, -2.6859e-03,  7.4782e-02,  3.6815e-03, -2.0005e-03],\n",
       "        [ 2.0942e-02, -9.8198e-03,  8.0651e-02,  1.6456e-03, -2.7235e-03],\n",
       "        [-3.0752e-03,  7.2593e-02, -2.2906e-02,  1.7757e-03, -3.0539e-03],\n",
       "        [ 5.1579e-03, -1.0245e-02,  6.8593e-02, -3.6424e-04, -4.2169e-05]],\n",
       "       dtype=torch.float64)"
      ]
     },
     "execution_count": 28,
     "metadata": {},
     "output_type": "execute_result"
    }
   ],
   "source": [
    "test_dataset = test_dataset/m\n",
    "test_dataset[0:10]"
   ]
  },
  {
   "cell_type": "code",
   "execution_count": 29,
   "metadata": {
    "colab": {
     "base_uri": "https://localhost:8080/"
    },
    "id": "ngmzqU1nB3pF",
    "outputId": "3f6e5112-534f-4052-fd02-3c95f9f3feb6"
   },
   "outputs": [
    {
     "data": {
      "text/plain": [
       "torch.Size([1000, 5])"
      ]
     },
     "execution_count": 29,
     "metadata": {},
     "output_type": "execute_result"
    }
   ],
   "source": [
    "test_dataset.shape"
   ]
  },
  {
   "cell_type": "code",
   "execution_count": 30,
   "metadata": {
    "id": "yL0BRf8er0TX"
   },
   "outputs": [],
   "source": [
    "class MosaicDataset(Dataset):\n",
    "  \"\"\"MosaicDataset dataset.\"\"\"\n",
    "\n",
    "  def __init__(self, mosaic_list_of_images, mosaic_label):\n",
    "    \"\"\"\n",
    "      Args:\n",
    "        csv_file (string): Path to the csv file with annotations.\n",
    "        root_dir (string): Directory with all the images.\n",
    "        transform (callable, optional): Optional transform to be applied\n",
    "            on a sample.\n",
    "    \"\"\"\n",
    "    self.mosaic = mosaic_list_of_images\n",
    "    self.label = mosaic_label\n",
    "    #self.fore_idx = fore_idx\n",
    "    \n",
    "  def __len__(self):\n",
    "    return len(self.label)\n",
    "\n",
    "  def __getitem__(self, idx):\n",
    "    return self.mosaic[idx] , self.label[idx] #, self.fore_idx[idx]\n",
    "\n"
   ]
  },
  {
   "cell_type": "code",
   "execution_count": 31,
   "metadata": {
    "colab": {
     "base_uri": "https://localhost:8080/"
    },
    "id": "4KsrW9qL9xgS",
    "outputId": "bb6ae720-50f9-452e-b7a3-3dfd6b038a61"
   },
   "outputs": [
    {
     "data": {
      "text/plain": [
       "tensor([-0.0716,  0.0029, -0.0547, -0.1013, -0.0230], dtype=torch.float64)"
      ]
     },
     "execution_count": 31,
     "metadata": {},
     "output_type": "execute_result"
    }
   ],
   "source": [
    "avg_image_dataset_1[0].shape\n",
    "avg_image_dataset_1[0]"
   ]
  },
  {
   "cell_type": "code",
   "execution_count": 32,
   "metadata": {
    "id": "EY2l62APygaV"
   },
   "outputs": [],
   "source": [
    "batch = 200\n",
    "\n",
    "traindata_1 = MosaicDataset(avg_image_dataset_1, labels_1 )\n",
    "trainloader_1 = DataLoader( traindata_1 , batch_size= batch ,shuffle=True)\n"
   ]
  },
  {
   "cell_type": "code",
   "execution_count": 33,
   "metadata": {
    "id": "9suUslCj8YZK"
   },
   "outputs": [],
   "source": [
    "testdata_1 = MosaicDataset(test_dataset, labels )\n",
    "testloader_1 = DataLoader( testdata_1 , batch_size= batch ,shuffle=False)\n"
   ]
  },
  {
   "cell_type": "code",
   "execution_count": 34,
   "metadata": {
    "id": "Nh3mBQHZ8bEj"
   },
   "outputs": [],
   "source": [
    "# testdata_11 = MosaicDataset(test_dataset, labels )\n",
    "# testloader_11 = DataLoader( testdata_11 , batch_size= batch ,shuffle=False)"
   ]
  },
  {
   "cell_type": "code",
   "execution_count": 35,
   "metadata": {
    "id": "5_XeIUk0r0Tl"
   },
   "outputs": [],
   "source": [
    "class Whatnet(nn.Module):\n",
    "    def __init__(self):\n",
    "        super(Whatnet,self).__init__()\n",
    "        self.linear1 = nn.Linear(5,3)\n",
    "        # self.linear2 = nn.Linear(50,3)\n",
    "\n",
    "        torch.nn.init.xavier_normal_(self.linear1.weight)\n",
    "        torch.nn.init.zeros_(self.linear1.bias)\n",
    "        # torch.nn.init.xavier_normal_(self.linear2.weight)\n",
    "        # torch.nn.init.zeros_(self.linear2.bias)\n",
    "\n",
    "    def forward(self,x):\n",
    "        # x = F.relu(self.linear1(x))\n",
    "        x = (self.linear1(x))\n",
    "\n",
    "        return x"
   ]
  },
  {
   "cell_type": "code",
   "execution_count": 36,
   "metadata": {
    "id": "pjD2VZuV9Ed4"
   },
   "outputs": [],
   "source": [
    "def calculate_loss(dataloader,model,criter):\n",
    "  model.eval()\n",
    "  r_loss = 0\n",
    "  with torch.no_grad():\n",
    "    for i, data in enumerate(dataloader, 0):\n",
    "      inputs, labels = data\n",
    "      inputs, labels = inputs.to(device),labels.to(device)\n",
    "      outputs = model(inputs)\n",
    "      loss = criter(outputs, labels)\n",
    "      r_loss += loss.item()\n",
    "  return r_loss/(i+1)"
   ]
  },
  {
   "cell_type": "code",
   "execution_count": 37,
   "metadata": {
    "id": "uALi25pmzQHV"
   },
   "outputs": [],
   "source": [
    "def test_all(number, testloader,net):\n",
    "    correct = 0\n",
    "    total = 0\n",
    "    out = []\n",
    "    pred = []\n",
    "    with torch.no_grad():\n",
    "        for data in testloader:\n",
    "            images, labels = data\n",
    "            images, labels = images.to(device),labels.to(device)\n",
    "            out.append(labels.cpu().numpy())\n",
    "            outputs= net(images)\n",
    "            _, predicted = torch.max(outputs.data, 1)\n",
    "            pred.append(predicted.cpu().numpy())\n",
    "            total += labels.size(0)\n",
    "            correct += (predicted == labels).sum().item()\n",
    "    \n",
    "    pred = np.concatenate(pred, axis = 0)\n",
    "    out = np.concatenate(out, axis = 0)\n",
    "    print(\"unique out: \",  np.unique(out), \"unique pred: \", np.unique(pred) )\n",
    "    print(\"correct: \", correct, \"total \",  total)\n",
    "    print('Accuracy of the network on the %d test dataset %d: %.2f %%' % (total, number , 100 * correct / total))"
   ]
  },
  {
   "cell_type": "code",
   "execution_count": 38,
   "metadata": {
    "id": "4vmNprlPzTjP"
   },
   "outputs": [],
   "source": [
    "def train_all(trainloader, ds_number, testloader_list, lr_list):\n",
    "  \n",
    "  final_loss = []\n",
    "  for LR in lr_list:    \n",
    "    print(\"--\"*20, \"Learning Rate used is\", LR)\n",
    "    \n",
    "    torch.manual_seed(12)\n",
    "    net = Whatnet().double()\n",
    "    net = net.to(device)\n",
    "    \n",
    "    criterion_net = nn.CrossEntropyLoss()\n",
    "    optimizer_net = optim.Adam(net.parameters(), lr=LR ) #, momentum=0.9)\n",
    "    \n",
    "    acti = []\n",
    "    loss_curi = []\n",
    "    epochs = 1000\n",
    "    running_loss = calculate_loss(trainloader,net,criterion_net)\n",
    "    loss_curi.append(running_loss)\n",
    "    print('epoch: [%d ] loss: %.3f' %(0,running_loss)) \n",
    "    for epoch in range(epochs): # loop over the dataset multiple times\n",
    "        ep_lossi = []\n",
    "\n",
    "        running_loss = 0.0\n",
    "        net.train()\n",
    "        for i, data in enumerate(trainloader, 0):\n",
    "            # get the inputs\n",
    "            inputs, labels = data\n",
    "            inputs, labels = inputs.to(device),labels.to(device)\n",
    "\n",
    "            # zero the parameter gradients\n",
    "            optimizer_net.zero_grad()\n",
    "\n",
    "            # forward + backward + optimize\n",
    "            outputs = net(inputs)\n",
    "            loss = criterion_net(outputs, labels)\n",
    "            # print statistics\n",
    "            running_loss += loss.item()\n",
    "            loss.backward()\n",
    "            optimizer_net.step()\n",
    "\n",
    "        running_loss = calculate_loss(trainloader,net,criterion_net)\n",
    "        if(epoch%200 == 0):\n",
    "          print('epoch: [%d] loss: %.3f' %(epoch + 1,running_loss)) \n",
    "        loss_curi.append(running_loss)   #loss per epoch\n",
    "        if running_loss<=0.05:\n",
    "          print('epoch: [%d] loss: %.3f' %(epoch + 1,running_loss))\n",
    "          break\n",
    "\n",
    "    print('Finished Training')\n",
    "    \n",
    "    correct = 0\n",
    "    total = 0\n",
    "    with torch.no_grad():\n",
    "        for data in trainloader:\n",
    "            images, labels = data\n",
    "            images, labels = images.to(device), labels.to(device)\n",
    "            outputs = net(images)\n",
    "            _, predicted = torch.max(outputs.data, 1)\n",
    "            total += labels.size(0)\n",
    "            correct += (predicted == labels).sum().item()\n",
    "\n",
    "    print('Accuracy of the network on the %d train images: %.2f %%' % (total,  100 * correct / total))\n",
    "    \n",
    "    for i, j in enumerate(testloader_list):\n",
    "        test_all(i+1, j,net)\n",
    "        \n",
    "    print(\"print parameters \")\n",
    "    print(\" \")\n",
    "    \n",
    "    for p in net.parameters():\n",
    "        print(p)\n",
    "    \n",
    "    print(\"--\"*40)\n",
    "    \n",
    "    final_loss.append(loss_curi) \n",
    "  return final_loss\n",
    "    "
   ]
  },
  {
   "cell_type": "code",
   "execution_count": 39,
   "metadata": {
    "id": "Yl41sE8vFERk"
   },
   "outputs": [],
   "source": [
    "train_loss_all=[]\n",
    "\n",
    "testloader_list= [ testloader_1]\n",
    "lr_list = [0.0001, 0.0005, 0.001, 0.005, 0.01, 0.05, 0.1, 0.5 ]"
   ]
  },
  {
   "cell_type": "code",
   "execution_count": 40,
   "metadata": {
    "colab": {
     "base_uri": "https://localhost:8080/"
    },
    "id": "5gQoPST5zW2t",
    "outputId": "090cf153-2d73-4384-b45a-2bf3fd45cef1"
   },
   "outputs": [
    {
     "name": "stdout",
     "output_type": "stream",
     "text": [
      "---------------------------------------- Learning Rate used is 0.0001\n",
      "epoch: [0 ] loss: 1.132\n",
      "epoch: [1] loss: 1.132\n",
      "epoch: [201] loss: 1.127\n",
      "epoch: [401] loss: 1.122\n",
      "epoch: [601] loss: 1.118\n",
      "epoch: [801] loss: 1.114\n",
      "Finished Training\n",
      "Accuracy of the network on the 100 train images: 30.00 %\n",
      "unique out:  [0 1 2] unique pred:  [1 2]\n",
      "correct:  4 total  1000\n",
      "Accuracy of the network on the 1000 test dataset 1: 0.40 %\n",
      "print parameters \n",
      " \n",
      "Parameter containing:\n",
      "tensor([[ 0.5058, -0.0849, -0.1438,  0.9772, -0.4792],\n",
      "        [ 0.3040, -0.5425,  0.0121,  0.1589,  0.0196],\n",
      "        [ 0.4535,  0.6407, -0.7090, -0.6464,  0.4228]], dtype=torch.float64,\n",
      "       requires_grad=True)\n",
      "Parameter containing:\n",
      "tensor([-0.0873,  0.0712,  0.0909], dtype=torch.float64, requires_grad=True)\n",
      "--------------------------------------------------------------------------------\n",
      "---------------------------------------- Learning Rate used is 0.0005\n",
      "epoch: [0 ] loss: 1.132\n",
      "epoch: [1] loss: 1.132\n",
      "epoch: [201] loss: 1.110\n",
      "epoch: [401] loss: 1.095\n",
      "epoch: [601] loss: 1.084\n",
      "epoch: [801] loss: 1.074\n",
      "Finished Training\n",
      "Accuracy of the network on the 100 train images: 38.00 %\n",
      "unique out:  [0 1 2] unique pred:  [2]\n",
      "correct:  320 total  1000\n",
      "Accuracy of the network on the 1000 test dataset 1: 32.00 %\n",
      "print parameters \n",
      " \n",
      "Parameter containing:\n",
      "tensor([[ 0.9017, -0.4385, -0.5243,  1.4137, -0.1593],\n",
      "        [-0.0834, -0.1608, -0.2830, -0.1965, -0.1408],\n",
      "        [ 0.0525,  0.2379, -0.3315, -0.3049,  0.0977]], dtype=torch.float64,\n",
      "       requires_grad=True)\n",
      "Parameter containing:\n",
      "tensor([-0.2068,  0.1186,  0.2223], dtype=torch.float64, requires_grad=True)\n",
      "--------------------------------------------------------------------------------\n",
      "---------------------------------------- Learning Rate used is 0.001\n",
      "epoch: [0 ] loss: 1.132\n",
      "epoch: [1] loss: 1.132\n",
      "epoch: [201] loss: 1.095\n",
      "epoch: [401] loss: 1.074\n",
      "epoch: [601] loss: 1.056\n",
      "epoch: [801] loss: 1.039\n",
      "Finished Training\n",
      "Accuracy of the network on the 100 train images: 46.00 %\n",
      "unique out:  [0 1 2] unique pred:  [2]\n",
      "correct:  320 total  1000\n",
      "Accuracy of the network on the 1000 test dataset 1: 32.00 %\n",
      "print parameters \n",
      " \n",
      "Parameter containing:\n",
      "tensor([[ 1.3652, -0.8527, -0.9851,  1.7295,  0.1734],\n",
      "        [-0.5287,  0.2804, -0.3108, -0.5214, -0.4019],\n",
      "        [-0.4213, -0.2209,  0.1188,  0.0197, -0.2356]], dtype=torch.float64,\n",
      "       requires_grad=True)\n",
      "Parameter containing:\n",
      "tensor([-0.2066,  0.1162,  0.2223], dtype=torch.float64, requires_grad=True)\n",
      "--------------------------------------------------------------------------------\n",
      "---------------------------------------- Learning Rate used is 0.005\n",
      "epoch: [0 ] loss: 1.132\n",
      "epoch: [1] loss: 1.131\n",
      "epoch: [201] loss: 1.024\n",
      "epoch: [401] loss: 0.970\n",
      "epoch: [601] loss: 0.937\n",
      "epoch: [801] loss: 0.918\n",
      "Finished Training\n",
      "Accuracy of the network on the 100 train images: 59.00 %\n",
      "unique out:  [0 1 2] unique pred:  [0 1 2]\n",
      "correct:  787 total  1000\n",
      "Accuracy of the network on the 1000 test dataset 1: 78.70 %\n",
      "print parameters \n",
      " \n",
      "Parameter containing:\n",
      "tensor([[ 3.8268, -2.7194, -3.8358,  2.5076,  0.6954],\n",
      "        [-2.5612,  2.2132,  0.4863, -0.9649, -0.8818],\n",
      "        [-3.0904, -2.1904,  2.9298,  0.3843, -0.7497]], dtype=torch.float64,\n",
      "       requires_grad=True)\n",
      "Parameter containing:\n",
      "tensor([-0.2524,  0.1482,  0.2666], dtype=torch.float64, requires_grad=True)\n",
      "--------------------------------------------------------------------------------\n",
      "---------------------------------------- Learning Rate used is 0.01\n",
      "epoch: [0 ] loss: 1.132\n",
      "epoch: [1] loss: 1.130\n",
      "epoch: [201] loss: 0.969\n",
      "epoch: [401] loss: 0.917\n",
      "epoch: [601] loss: 0.898\n",
      "epoch: [801] loss: 0.890\n",
      "Finished Training\n",
      "Accuracy of the network on the 100 train images: 58.00 %\n",
      "unique out:  [0 1 2] unique pred:  [0 1 2]\n",
      "correct:  852 total  1000\n",
      "Accuracy of the network on the 1000 test dataset 1: 85.20 %\n",
      "print parameters \n",
      " \n",
      "Parameter containing:\n",
      "tensor([[ 4.7774, -3.1802, -5.8511,  3.0832,  0.6726],\n",
      "        [-3.0599,  2.4560,  1.3433, -1.0356, -0.8614],\n",
      "        [-4.2488, -2.2885,  4.9225,  0.3158, -0.7195]], dtype=torch.float64,\n",
      "       requires_grad=True)\n",
      "Parameter containing:\n",
      "tensor([-0.2862,  0.2252,  0.2879], dtype=torch.float64, requires_grad=True)\n",
      "--------------------------------------------------------------------------------\n",
      "---------------------------------------- Learning Rate used is 0.05\n",
      "epoch: [0 ] loss: 1.132\n",
      "epoch: [1] loss: 1.120\n",
      "epoch: [201] loss: 0.885\n",
      "epoch: [401] loss: 0.882\n",
      "epoch: [601] loss: 0.882\n",
      "epoch: [801] loss: 0.882\n",
      "Finished Training\n",
      "Accuracy of the network on the 100 train images: 60.00 %\n",
      "unique out:  [0 1 2] unique pred:  [0 1 2]\n",
      "correct:  805 total  1000\n",
      "Accuracy of the network on the 1000 test dataset 1: 80.50 %\n",
      "print parameters \n",
      " \n",
      "Parameter containing:\n",
      "tensor([[ 4.9441, -3.4896, -7.4940,  3.5314,  0.6470],\n",
      "        [-3.0524,  2.4790,  2.1896, -1.1506, -0.7955],\n",
      "        [-4.4868, -2.1207,  6.5582,  0.1516, -0.6643]], dtype=torch.float64,\n",
      "       requires_grad=True)\n",
      "Parameter containing:\n",
      "tensor([-0.2950,  0.2778,  0.2870], dtype=torch.float64, requires_grad=True)\n",
      "--------------------------------------------------------------------------------\n",
      "---------------------------------------- Learning Rate used is 0.1\n",
      "epoch: [0 ] loss: 1.132\n",
      "epoch: [1] loss: 1.109\n",
      "epoch: [201] loss: 0.882\n",
      "epoch: [401] loss: 0.882\n",
      "epoch: [601] loss: 0.882\n",
      "epoch: [801] loss: 0.882\n",
      "Finished Training\n",
      "Accuracy of the network on the 100 train images: 60.00 %\n",
      "unique out:  [0 1 2] unique pred:  [0 1 2]\n",
      "correct:  805 total  1000\n",
      "Accuracy of the network on the 1000 test dataset 1: 80.50 %\n",
      "print parameters \n",
      " \n",
      "Parameter containing:\n",
      "tensor([[ 4.9477, -3.4870, -7.4920,  3.4874,  0.6581],\n",
      "        [-3.0488,  2.4815,  2.1916, -1.1946, -0.7844],\n",
      "        [-4.4832, -2.1182,  6.5602,  0.1076, -0.6532]], dtype=torch.float64,\n",
      "       requires_grad=True)\n",
      "Parameter containing:\n",
      "tensor([-0.2912,  0.2816,  0.2908], dtype=torch.float64, requires_grad=True)\n",
      "--------------------------------------------------------------------------------\n",
      "---------------------------------------- Learning Rate used is 0.5\n",
      "epoch: [0 ] loss: 1.132\n",
      "epoch: [1] loss: 1.097\n",
      "epoch: [201] loss: 0.882\n",
      "epoch: [401] loss: 0.882\n",
      "epoch: [601] loss: 0.882\n",
      "epoch: [801] loss: 0.882\n",
      "Finished Training\n",
      "Accuracy of the network on the 100 train images: 60.00 %\n",
      "unique out:  [0 1 2] unique pred:  [0 1 2]\n",
      "correct:  805 total  1000\n",
      "Accuracy of the network on the 1000 test dataset 1: 80.50 %\n",
      "print parameters \n",
      " \n",
      "Parameter containing:\n",
      "tensor([[ 4.9398, -3.4659, -7.5670,  3.2411,  0.7198],\n",
      "        [-3.0568,  2.5026,  2.1166, -1.4408, -0.7227],\n",
      "        [-4.4912, -2.0971,  6.4852, -0.1386, -0.5915]], dtype=torch.float64,\n",
      "       requires_grad=True)\n",
      "Parameter containing:\n",
      "tensor([-0.2441,  0.3287,  0.3379], dtype=torch.float64, requires_grad=True)\n",
      "--------------------------------------------------------------------------------\n"
     ]
    }
   ],
   "source": [
    "fin_loss = train_all(trainloader_1, 1, testloader_list, lr_list)\n",
    "train_loss_all.append(fin_loss)"
   ]
  },
  {
   "cell_type": "code",
   "execution_count": 41,
   "metadata": {
    "id": "In76SYH_zZHV"
   },
   "outputs": [],
   "source": [
    "%matplotlib inline"
   ]
  },
  {
   "cell_type": "code",
   "execution_count": 42,
   "metadata": {
    "colab": {
     "base_uri": "https://localhost:8080/"
    },
    "id": "_GsE3qHR_A5c",
    "outputId": "e0ffc0dd-092a-4ccf-c4d5-6789613261b2"
   },
   "outputs": [
    {
     "data": {
      "text/plain": [
       "8"
      ]
     },
     "execution_count": 42,
     "metadata": {},
     "output_type": "execute_result"
    }
   ],
   "source": [
    "len(fin_loss)"
   ]
  },
  {
   "cell_type": "code",
   "execution_count": 43,
   "metadata": {
    "colab": {
     "base_uri": "https://localhost:8080/",
     "height": 297
    },
    "id": "BS4HtOHEzZ0E",
    "outputId": "a135edc1-9037-4849-bc7d-c7c446c8d500"
   },
   "outputs": [
    {
     "data": {
      "text/plain": [
       "<matplotlib.legend.Legend at 0x127e57850>"
      ]
     },
     "execution_count": 43,
     "metadata": {},
     "output_type": "execute_result"
    },
    {
     "data": {
      "image/png": "[encoded data removed]",
      "text/plain": [
       "<Figure size 432x288 with 1 Axes>"
      ]
     },
     "metadata": {
      "needs_background": "light"
     },
     "output_type": "display_data"
    }
   ],
   "source": [
    "for i,j in enumerate(fin_loss):\n",
    "    plt.plot(j,label =\"LR = \"+str(lr_list[i]))\n",
    "    \n",
    "\n",
    "plt.xlabel(\"Epochs\")\n",
    "plt.ylabel(\"Training_loss\")\n",
    "\n",
    "plt.legend(loc='center left', bbox_to_anchor=(1, 0.5))"
   ]
  },
  {
   "cell_type": "code",
   "execution_count": null,
   "metadata": {
    "id": "1UbTkfLUINTI"
   },
   "outputs": [],
   "source": []
  }
 ],
 "metadata": {
  "accelerator": "GPU",
  "colab": {
   "collapsed_sections": [],
   "name": "CIN_ds5_linear_m_100_size2000_run1.ipynb",
   "provenance": []
  },
  "kernelspec": {
   "display_name": "Python 3 (ipykernel)",
   "language": "python",
   "name": "python3"
  },
  "language_info": {
   "codemirror_mode": {
    "name": "ipython",
    "version": 3
   },
   "file_extension": ".py",
   "mimetype": "text/x-python",
   "name": "python",
   "nbconvert_exporter": "python",
   "pygments_lexer": "ipython3",
   "version": "3.8.12"
  }
 },
 "nbformat": 4,
 "nbformat_minor": 1
}
