{
  "cells": [
    {
      "cell_type": "code",
      "execution_count": 1,
      "metadata": {
        "id": "0vlCAi2JLSzD"
      },
      "outputs": [],
      "source": [
        "# from google.colab import drive\n",
        "# drive.mount('/content/drive')"
      ]
    },
    {
      "cell_type": "code",
      "execution_count": 2,
      "metadata": {
        "id": "PiPNZm1iTgHy"
      },
      "outputs": [],
      "source": [
        "# path=\"/content/drive/MyDrive/Research/Hard_Attention/dataset_2/m_5_size_100/run_\""
      ]
    },
    {
      "cell_type": "code",
      "execution_count": 2,
      "metadata": {
        "id": "SrZgZMlK-GDe"
      },
      "outputs": [],
      "source": [
        ""
      ]
    },
    {
      "cell_type": "code",
      "execution_count": 3,
      "metadata": {
        "colab": {
          "base_uri": "https://localhost:8080/"
        },
        "id": "N2_J4Rw2r0SQ",
        "outputId": "23dac164-321b-4fdf-9dfd-91f8c0e136b5"
      },
      "outputs": [
        {
          "output_type": "stream",
          "name": "stdout",
          "text": [
            "cuda\n"
          ]
        }
      ],
      "source": [
        "import numpy as np\n",
        "import pandas as pd\n",
        "from matplotlib import pyplot as plt\n",
        "from tqdm import tqdm\n",
        "%matplotlib inline\n",
        "from torch.utils.data import Dataset, DataLoader\n",
        "import torch\n",
        "import torchvision\n",
        "\n",
        "import torch.nn as nn\n",
        "import torch.optim as optim\n",
        "from torch.nn import functional as F\n",
        "from tqdm import tqdm as tqdm\n",
        "device = torch.device(\"cuda\" if torch.cuda.is_available() else \"cpu\")\n",
        "print(device)"
      ]
    },
    {
      "cell_type": "code",
      "execution_count": 4,
      "metadata": {
        "id": "-Dmy2iPWlgnc"
      },
      "outputs": [],
      "source": [
        "from torch.utils.tensorboard import SummaryWriter\n",
        "\n",
        "writer = SummaryWriter('runs/hard_attention')"
      ]
    },
    {
      "cell_type": "markdown",
      "metadata": {
        "id": "F6fjud_Fr0Sa"
      },
      "source": [
        "# Generate dataset"
      ]
    },
    {
      "cell_type": "code",
      "execution_count": 5,
      "metadata": {
        "colab": {
          "base_uri": "https://localhost:8080/"
        },
        "id": "CqdXHO0Cr0Sd",
        "outputId": "0fa61735-3b1c-4af3-bd53-ab419c80f873"
      },
      "outputs": [
        {
          "output_type": "stream",
          "name": "stdout",
          "text": [
            "0 500\n",
            "1 500\n",
            "2 500\n",
            "3 500\n",
            "4 500\n",
            "5 500\n",
            "6 500\n",
            "7 500\n",
            "8 500\n",
            "9 500\n"
          ]
        }
      ],
      "source": [
        "np.random.seed(1)\n",
        "\n",
        "y = np.concatenate((np.zeros(500),np.ones(500),np.ones(500)*2,np.ones(500)*3,np.ones(500)*4,\n",
        "                    np.ones(500)*5,np.ones(500)*6,np.ones(500)*7,np.ones(500)*8,np.ones(500)*9))\n",
        "#y = np.random.randint(0,3,6000)\n",
        "idx= []\n",
        "for i in range(10):\n",
        "    print(i,sum(y==i))\n",
        "    idx.append(y==i)"
      ]
    },
    {
      "cell_type": "code",
      "execution_count": 6,
      "metadata": {
        "id": "ddhXyODwr0Sk"
      },
      "outputs": [],
      "source": [
        "x = np.zeros((5000,2))"
      ]
    },
    {
      "cell_type": "code",
      "execution_count": 7,
      "metadata": {
        "id": "DyV3N2DIr0Sp"
      },
      "outputs": [],
      "source": [
        "np.random.seed(12)\n",
        "\n",
        "x[idx[0],:] = np.random.multivariate_normal(mean = [4,6.5],cov=[[0.01,0],[0,0.01]],size=sum(idx[0]))\n",
        "x[idx[1],:] = np.random.multivariate_normal(mean = [5.5,6],cov=[[0.01,0],[0,0.01]],size=sum(idx[1]))\n",
        "x[idx[2],:] = np.random.multivariate_normal(mean = [4.5,4.5],cov=[[0.01,0],[0,0.01]],size=sum(idx[2]))\n",
        "x[idx[3],:] = np.random.multivariate_normal(mean = [3,3.5],cov=[[0.01,0],[0,0.01]],size=sum(idx[3]))\n",
        "x[idx[4],:] = np.random.multivariate_normal(mean = [2.5,5.5],cov=[[0.01,0],[0,0.01]],size=sum(idx[4]))\n",
        "x[idx[5],:] = np.random.multivariate_normal(mean = [3.5,8],cov=[[0.01,0],[0,0.01]],size=sum(idx[5]))\n",
        "x[idx[6],:] = np.random.multivariate_normal(mean = [5.5,8],cov=[[0.01,0],[0,0.01]],size=sum(idx[6]))\n",
        "x[idx[7],:] = np.random.multivariate_normal(mean = [7,6.5],cov=[[0.01,0],[0,0.01]],size=sum(idx[7]))\n",
        "x[idx[8],:] = np.random.multivariate_normal(mean = [6.5,4.5],cov=[[0.01,0],[0,0.01]],size=sum(idx[8]))\n",
        "x[idx[9],:] = np.random.multivariate_normal(mean = [5,3],cov=[[0.01,0],[0,0.01]],size=sum(idx[9]))"
      ]
    },
    {
      "cell_type": "code",
      "execution_count": 8,
      "metadata": {
        "colab": {
          "base_uri": "https://localhost:8080/"
        },
        "id": "qh1mDScsU07I",
        "outputId": "eb575970-975c-49f0-c492-c7148c4135a4"
      },
      "outputs": [
        {
          "output_type": "execute_result",
          "data": {
            "text/plain": [
              "(array([4.04729858, 6.43185741]), array([4.53008447, 4.5079931 ]))"
            ]
          },
          "metadata": {},
          "execution_count": 8
        }
      ],
      "source": [
        "x[idx[0]][0], x[idx[2]][5] "
      ]
    },
    {
      "cell_type": "code",
      "execution_count": 9,
      "metadata": {
        "colab": {
          "base_uri": "https://localhost:8080/"
        },
        "id": "9Vr5ErQ_wSrV",
        "outputId": "5209f862-35e9-4572-c318-942391c67e7b"
      },
      "outputs": [
        {
          "output_type": "stream",
          "name": "stdout",
          "text": [
            "(5000, 2) (5000,)\n"
          ]
        }
      ],
      "source": [
        "print(x.shape,y.shape)"
      ]
    },
    {
      "cell_type": "code",
      "execution_count": 10,
      "metadata": {
        "id": "NG-3RpffwU_i"
      },
      "outputs": [],
      "source": [
        "idx= []\n",
        "for i in range(10):\n",
        "  idx.append(y==i)"
      ]
    },
    {
      "cell_type": "code",
      "execution_count": 11,
      "metadata": {
        "colab": {
          "base_uri": "https://localhost:8080/",
          "height": 284
        },
        "id": "hJ8Jm7YUr0St",
        "outputId": "bbf195f7-56c2-4585-d9a4-c0bfa2d3a74f"
      },
      "outputs": [
        {
          "output_type": "execute_result",
          "data": {
            "text/plain": [
              "<matplotlib.legend.Legend at 0x7f0bf2401850>"
            ]
          },
          "metadata": {},
          "execution_count": 11
        },
        {
          "output_type": "display_data",
          "data": {
            "image/png": "[encoded data removed]",
            "text/plain": [
              "<Figure size 432x288 with 1 Axes>"
            ]
          },
          "metadata": {
            "needs_background": "light"
          }
        }
      ],
      "source": [
        "for i in range(10):\n",
        "    plt.scatter(x[idx[i],0],x[idx[i],1],label=\"class_\"+str(i))\n",
        "plt.legend(loc='center left', bbox_to_anchor=(1, 0.5))"
      ]
    },
    {
      "cell_type": "code",
      "execution_count": 12,
      "metadata": {
        "id": "fNWgnhUJnWLV"
      },
      "outputs": [],
      "source": [
        "x = ( x -  np.mean(x,axis=0,keepdims=True) ) / np.std(x,axis=0,keepdims=True) \n"
      ]
    },
    {
      "cell_type": "code",
      "execution_count": 13,
      "metadata": {
        "colab": {
          "base_uri": "https://localhost:8080/",
          "height": 284
        },
        "id": "8-VLhUfDDeHt",
        "outputId": "1f7df06a-3263-4ad8-bd7c-c63d5a036de1"
      },
      "outputs": [
        {
          "output_type": "execute_result",
          "data": {
            "text/plain": [
              "<matplotlib.legend.Legend at 0x7f0bf238f9d0>"
            ]
          },
          "metadata": {},
          "execution_count": 13
        },
        {
          "output_type": "display_data",
          "data": {
            "image/png": "[encoded data removed]",
            "text/plain": [
              "<Figure size 432x288 with 1 Axes>"
            ]
          },
          "metadata": {
            "needs_background": "light"
          }
        }
      ],
      "source": [
        "for i in range(10):\n",
        "    plt.scatter(x[idx[i],0],x[idx[i],1],label=\"class_\"+str(i))\n",
        "plt.legend(loc='center left', bbox_to_anchor=(1, 0.5))"
      ]
    },
    {
      "cell_type": "code",
      "execution_count": 14,
      "metadata": {
        "id": "UfFHcZJOr0Sz"
      },
      "outputs": [],
      "source": [
        "foreground_classes = {'class_0','class_1' }\n",
        "\n",
        "background_classes = {'bg_classes',}"
      ]
    },
    {
      "cell_type": "code",
      "execution_count": 15,
      "metadata": {
        "colab": {
          "base_uri": "https://localhost:8080/"
        },
        "id": "jqbvfbwVr0TN",
        "outputId": "a87747ee-33c2-4c18-97e2-29d85e9cd874"
      },
      "outputs": [
        {
          "output_type": "stream",
          "name": "stderr",
          "text": [
            "100%|██████████| 1100/1100 [00:00<00:00, 3293.41it/s]\n"
          ]
        }
      ],
      "source": [
        "desired_num = 1100\n",
        "mosaic_list_of_images =[]\n",
        "mosaic_label = []\n",
        "fore_idx=[]\n",
        "m = 5\n",
        "for j in tqdm(range(desired_num)):\n",
        "    np.random.seed(j)\n",
        "    fg_class  = np.random.randint(0,3)\n",
        "    fg_idx = np.random.randint(0,m)\n",
        "    a = []\n",
        "    for i in range(m):\n",
        "        if i == fg_idx:\n",
        "            b = np.random.choice(np.where(idx[fg_class]==True)[0],size=1)\n",
        "            a.append(x[b])\n",
        "#             print(\"foreground \"+str(fg_class)+\" present at \" + str(fg_idx))\n",
        "        else:\n",
        "            bg_class = np.random.randint(3,10)\n",
        "            b = np.random.choice(np.where(idx[bg_class]==True)[0],size=1)\n",
        "            a.append(x[b])\n",
        "#             print(\"background \"+str(bg_class)+\" present at \" + str(i))\n",
        "    a = np.concatenate(a,axis=0)\n",
        "    mosaic_list_of_images.append(np.reshape(a,(m,2)))\n",
        "    mosaic_label.append(fg_class)\n",
        "    fore_idx.append(fg_idx)"
      ]
    },
    {
      "cell_type": "code",
      "execution_count": 16,
      "metadata": {
        "id": "BOsFmWfMr0TR"
      },
      "outputs": [],
      "source": [
        "# mosaic_list_of_images = np.concatenate(mosaic_list_of_images,axis=1).T\n"
      ]
    },
    {
      "cell_type": "code",
      "execution_count": 17,
      "metadata": {
        "colab": {
          "base_uri": "https://localhost:8080/"
        },
        "id": "2aIPMgLXNiXW",
        "outputId": "d1100351-984c-4bfa-cb04-106359a54512"
      },
      "outputs": [
        {
          "output_type": "execute_result",
          "data": {
            "text/plain": [
              "(1100, array([[-0.49857044,  0.4606684 ],\n",
              "        [ 0.57286412,  1.42914583],\n",
              "        [-1.69776679, -0.08130752],\n",
              "        [ 1.27946811, -0.71643805],\n",
              "        [ 1.45704   ,  0.60485745]]), (5, 2))"
            ]
          },
          "metadata": {},
          "execution_count": 17
        }
      ],
      "source": [
        "len(mosaic_list_of_images), mosaic_list_of_images[0],mosaic_list_of_images[0].shape"
      ]
    },
    {
      "cell_type": "code",
      "execution_count": 18,
      "metadata": {
        "id": "iPoIwbMHx44n"
      },
      "outputs": [],
      "source": [
        "class MosaicDataset(Dataset):\n",
        "  \"\"\"MosaicDataset dataset.\"\"\"\n",
        "\n",
        "  def __init__(self, mosaic_list_of_images, mosaic_label, fore_idx):\n",
        "    \"\"\"\n",
        "      Args:\n",
        "        csv_file (string): Path to the csv file with annotations.\n",
        "        root_dir (string): Directory with all the images.\n",
        "        transform (callable, optional): Optional transform to be applied\n",
        "            on a sample.\n",
        "    \"\"\"\n",
        "    self.mosaic = mosaic_list_of_images\n",
        "    self.label = mosaic_label\n",
        "    self.fore_idx = fore_idx\n",
        "\n",
        "  def __len__(self):\n",
        "    return len(self.label)\n",
        "\n",
        "  def __getitem__(self, idx):\n",
        "    return self.mosaic[idx] , self.label[idx], self.fore_idx[idx]\n",
        "\n"
      ]
    },
    {
      "cell_type": "code",
      "execution_count": 19,
      "metadata": {
        "id": "fOPAJQJeW8Ah"
      },
      "outputs": [],
      "source": [
        "batch = 50\n",
        "msd1 = MosaicDataset(mosaic_list_of_images[0:100], mosaic_label[0:100] , fore_idx[0:100])\n",
        "train_loader = DataLoader( msd1 ,batch_size= batch ,shuffle=True)"
      ]
    },
    {
      "cell_type": "code",
      "execution_count": 20,
      "metadata": {
        "id": "aWBIcyvGApLt"
      },
      "outputs": [],
      "source": [
        "data,_,_=iter(train_loader).next()"
      ]
    },
    {
      "cell_type": "code",
      "execution_count": 21,
      "metadata": {
        "colab": {
          "base_uri": "https://localhost:8080/"
        },
        "id": "cauJIvKEAxKM",
        "outputId": "3efd1d86-cc21-43fa-8a19-30b045b1aa4e"
      },
      "outputs": [
        {
          "output_type": "execute_result",
          "data": {
            "text/plain": [
              "torch.Size([50, 5, 2])"
            ]
          },
          "metadata": {},
          "execution_count": 21
        }
      ],
      "source": [
        "data.shape"
      ]
    },
    {
      "cell_type": "code",
      "execution_count": 22,
      "metadata": {
        "id": "qjNiQgxZW8bA"
      },
      "outputs": [],
      "source": [
        "batch = 250\n",
        "msd2 = MosaicDataset(mosaic_list_of_images[100:], mosaic_label[100:] , fore_idx[100:])\n",
        "test_loader = DataLoader( msd2 ,batch_size= batch ,shuffle=True)"
      ]
    },
    {
      "cell_type": "code",
      "execution_count": 23,
      "metadata": {
        "id": "yda1E5ApiKpH"
      },
      "outputs": [],
      "source": [
        "class Focus(nn.Module):\n",
        "    def __init__(self):\n",
        "        super(Focus, self).__init__()\n",
        "        self.fc1 = nn.Linear(2,50, bias=False)\n",
        "        self.fc2 = nn.Linear(50,1,bias=False)\n",
        "        torch.nn.init.xavier_normal_(self.fc1.weight)\n",
        "        torch.nn.init.xavier_normal_(self.fc2.weight)\n",
        "        #self.fc2 = nn.Linear(64, 1, bias=False)\n",
        "        #torch.nn.init.xavier_normal_(self.fc2.weight)\n",
        "\n",
        "    def forward(self,z):\n",
        "        #print(\"data\",z)\n",
        "        batch = z.size(0)\n",
        "        patches = z.size(1)\n",
        "        z = z.view(batch,patches,2*1)\n",
        "        alp1,ft1 = self.helper(z)\n",
        "\n",
        "        alpha = F.softmax(alp1,dim=1)\n",
        "        #print(self.training)\n",
        "        \n",
        "        if self.training:\n",
        "            alpha =alpha[:,:,0]\n",
        "            y = ft1 \n",
        "            return alpha,y\n",
        "        else:\n",
        "            #alpha_cumsum = torch.cumsum(alpha, dim = 1)\n",
        "            #print(alpha_cumsum)\n",
        "            #len_batch = alpha_cumsum.size(0)\n",
        "            #patches = alpha_cumsum.size(1)\n",
        "            #rand_prob = torch.rand(len_batch,patches, 1).to(device)\n",
        "            #alpha_relu = F.relu(rand_prob-alpha_cumsum)\n",
        "            #print(alpha_relu)\n",
        "            #alpha_index = torch.count_nonzero(alpha_relu,dim=1)\n",
        "            #alpha_hard = F.one_hot(alpha_index,num_classes=patches)\n",
        "            #print(alpha_hard)\n",
        "            #alpha_hard = torch.transpose(alpha_hard,dim0=1,dim1=2)\n",
        "            #print(ft1,\"alpha_hard\",alpha_hard) \n",
        "            #y = torch.sum(alpha_hard*ft1,dim=1)\n",
        "            #print(alpha,alpha.shape)\n",
        "         \n",
        "        \n",
        "            index = torch.argmax(alpha,dim=1)\n",
        "            hard_alpha = torch.nn.functional.one_hot(index[:,0], patches)\n",
        "            y = torch.sum(hard_alpha[:,:,None]*ft1,dim=1)\n",
        "            alpha = alpha[:,:,0]\n",
        "            return alpha,y\n",
        "    \n",
        "    def helper(self, x):\n",
        "        x1 = x\n",
        "        x = F.relu(self.fc1(x))\n",
        "        x = self.fc2(x)\n",
        "        return x,x1"
      ]
    },
    {
      "cell_type": "code",
      "execution_count": 24,
      "metadata": {
        "id": "0dYXnywAD-4l"
      },
      "outputs": [],
      "source": [
        "class Classification(nn.Module):\n",
        "  def __init__(self):\n",
        "    super(Classification, self).__init__()\n",
        "    self.fc1 = nn.Linear(2, 50)\n",
        "    self.fc2 = nn.Linear(50,3)\n",
        "    torch.nn.init.xavier_normal_(self.fc1.weight)\n",
        "    torch.nn.init.zeros_(self.fc1.bias)\n",
        "    torch.nn.init.xavier_normal_(self.fc2.weight)\n",
        "    torch.nn.init.zeros_(self.fc2.bias)\n",
        "  def forward(self, x):\n",
        "    #print(x.shape)\n",
        "    #x = x.view(-1, 1)\n",
        "    #print(x.shape)\n",
        "    x = F.relu(self.fc1(x))\n",
        "    x = self.fc2(x)\n",
        "    # print(x.shape)\n",
        "    return x"
      ]
    },
    {
      "cell_type": "code",
      "execution_count": 38,
      "metadata": {
        "id": "lSa6O9f6XNf4"
      },
      "outputs": [],
      "source": [
        "torch.manual_seed(13)\n",
        "focus_net = Focus().double()\n",
        "focus_net = focus_net.to(device)"
      ]
    },
    {
      "cell_type": "code",
      "execution_count": 39,
      "metadata": {
        "id": "36k3H2G-XO9A"
      },
      "outputs": [],
      "source": [
        "torch.manual_seed(13)\n",
        "classify = Classification().double()\n",
        "classify = classify.to(device)"
      ]
    },
    {
      "cell_type": "code",
      "execution_count": 40,
      "metadata": {
        "id": "bK78aII8-GDl"
      },
      "outputs": [],
      "source": [
        "import torch.optim as optim\n",
        "optimizer_classify = optim.Adam(classify.parameters(), lr=0.01 ) #, momentum=0.9)\n",
        "optimizer_focus = optim.Adam(focus_net.parameters(), lr=0.01 ) #, momentum=0.9)"
      ]
    },
    {
      "cell_type": "code",
      "execution_count": 41,
      "metadata": {
        "id": "h0mjWiFG-GDl"
      },
      "outputs": [],
      "source": [
        "def my_cross_entropy(output,target,alpha):\n",
        "    criterion = nn.CrossEntropyLoss(reduce=False)\n",
        "    \n",
        "    batch = output.size(0)\n",
        "    #print(batch)\n",
        "    patches = output.size(1)\n",
        "    classes = output.size(2)\n",
        "    \n",
        "    \n",
        "    \n",
        "    output = torch.reshape(output,(batch*patches,classes))\n",
        "    \n",
        "    \n",
        "    target = target.repeat_interleave(patches)\n",
        "    \n",
        "    loss = criterion(output,target)\n",
        "    \n",
        "    #print(loss,loss.shape)\n",
        "    loss = torch.reshape(loss,(batch,patches))\n",
        "    #print(loss.size())\n",
        "    final_loss = torch.sum(torch.mul(loss,alpha),dim=1)\n",
        "    #print(final_loss.shape)\n",
        "    final_loss = torch.mean(final_loss,dim=0)\n",
        "    \n",
        "    \n",
        "    \n",
        "    #print(final_loss)\n",
        "    return final_loss\n",
        "    \n",
        "    \n",
        "    "
      ]
    },
    {
      "cell_type": "code",
      "execution_count": 42,
      "metadata": {
        "id": "pjD2VZuV9Ed4"
      },
      "outputs": [],
      "source": [
        "col1=[]\n",
        "col2=[]\n",
        "col3=[]\n",
        "col4=[]\n",
        "col5=[]\n",
        "col6=[]\n",
        "col7=[]\n",
        "col8=[]\n",
        "col9=[]\n",
        "col10=[]\n",
        "col11=[]\n",
        "col12=[]\n",
        "col13=[]"
      ]
    },
    {
      "cell_type": "code",
      "execution_count": 43,
      "metadata": {
        "id": "eEVrBg7d-GDl"
      },
      "outputs": [],
      "source": [
        "def plot_attended_data(trainloader,net,epoch):\n",
        "    attd_data =[]\n",
        "    lbls = []\n",
        "    for data in trainloader:\n",
        "        inputs, labels , fore_idx = data\n",
        "        inputs = inputs.double()\n",
        "        inputs, labels , fore_idx = inputs.to(device),labels.to(device), fore_idx.to(device)\n",
        "        alphas, avg_images = focus_net(inputs)\n",
        "        attd_data.append(avg_images.numpy())\n",
        "        lbls.append(labels)\n",
        "    attd_data = np.concatenate(attd_data,axis=0)\n",
        "    lbls = np.concatenate(lbls,axis=0)\n",
        "    plt.figure(figsize=(6,8))\n",
        "    plt.scatter(attd_data[:,0],attd_data[:,1],c=lbls)\n",
        "    plt.title(\"EPOCH_\"+str(epoch))"
      ]
    },
    {
      "cell_type": "code",
      "execution_count": 44,
      "metadata": {
        "id": "uALi25pmzQHV",
        "colab": {
          "base_uri": "https://localhost:8080/"
        },
        "outputId": "6f3c3073-81b7-4bf4-e1cc-f7ec02b4f5d8"
      },
      "outputs": [
        {
          "output_type": "stream",
          "name": "stdout",
          "text": [
            "tensor(1.1032, device='cuda:0', dtype=torch.float64)\n",
            "tensor(1.1452, device='cuda:0', dtype=torch.float64)\n",
            "====================================================================================================\n"
          ]
        },
        {
          "output_type": "stream",
          "name": "stderr",
          "text": [
            "/usr/local/lib/python3.7/dist-packages/torch/nn/_reduction.py:42: UserWarning: size_average and reduce args will be deprecated, please use reduction='none' instead.\n",
            "  warnings.warn(warning.format(ret))\n"
          ]
        }
      ],
      "source": [
        "correct = 0\n",
        "total = 0\n",
        "count = 0\n",
        "flag = 1\n",
        "\n",
        "\n",
        "with torch.no_grad():\n",
        "  for data in train_loader:\n",
        "    inputs, labels , fore_idx = data\n",
        "    inputs = inputs.double()\n",
        "    inputs, labels , fore_idx = inputs.to(device),labels.to(device), fore_idx.to(device)\n",
        "    alphas, avg_images = focus_net(inputs)\n",
        "    outputs = classify(avg_images)\n",
        "    loss = my_cross_entropy(outputs,labels,alphas)\n",
        "    print(loss)\n",
        "    # print(outputs.shape)\n",
        "    _, predicted = torch.max(outputs.data, 1)\n",
        "\n",
        "\n",
        "print(\"=\"*100)\n",
        "\n"
      ]
    },
    {
      "cell_type": "code",
      "execution_count": 45,
      "metadata": {
        "id": "4vmNprlPzTjP"
      },
      "outputs": [],
      "source": [
        "correct = 0\n",
        "total = 0\n",
        "count = 0\n",
        "flag = 1\n",
        "\n",
        "\n",
        "with torch.no_grad():\n",
        "  for data in test_loader:\n",
        "    inputs, labels , fore_idx = data\n",
        "    inputs = inputs.double()\n",
        "    inputs, labels , fore_idx = inputs.to(device),labels.to(device), fore_idx.to(device)\n",
        "    alphas, avg_images = focus_net(inputs)\n",
        "    outputs = classify(avg_images)\n",
        "\n",
        "    _, predicted = torch.max(outputs.data, 1)\n"
      ]
    },
    {
      "cell_type": "code",
      "execution_count": 46,
      "metadata": {
        "id": "_nvicAzw-GDm",
        "colab": {
          "base_uri": "https://localhost:8080/"
        },
        "outputId": "0b8a98f0-48a6-40c8-c7cc-4abff84f14ba"
      },
      "outputs": [
        {
          "output_type": "stream",
          "name": "stdout",
          "text": [
            "('fc1.weight', Parameter containing:\n",
            "tensor([[-0.1181, -0.0030],\n",
            "        [-0.4268,  0.2945],\n",
            "        [ 0.2314, -0.0850],\n",
            "        [ 0.2047,  0.3473],\n",
            "        [ 0.1353, -0.0880],\n",
            "        [ 0.0341, -0.1290],\n",
            "        [ 0.0430, -0.1165],\n",
            "        [ 0.0171, -0.0899],\n",
            "        [ 0.2401, -0.0346],\n",
            "        [-0.2021,  0.1027],\n",
            "        [-0.4337, -0.2103],\n",
            "        [ 0.1129, -0.1162],\n",
            "        [ 0.1906, -0.4065],\n",
            "        [-0.1823, -0.6261],\n",
            "        [-0.3808, -0.0406],\n",
            "        [ 0.4075, -0.2476],\n",
            "        [-0.0116, -0.2889],\n",
            "        [ 0.5438, -0.4551],\n",
            "        [ 0.2557,  0.1164],\n",
            "        [-0.1854,  0.4136],\n",
            "        [-0.1875,  0.0379],\n",
            "        [-0.1165, -0.1601],\n",
            "        [-0.0614,  0.1823],\n",
            "        [ 0.0824, -0.0428],\n",
            "        [ 0.1910,  0.2516],\n",
            "        [-0.1856,  0.1568],\n",
            "        [-0.1999, -0.2636],\n",
            "        [-0.0564,  0.2618],\n",
            "        [-0.4972, -0.1039],\n",
            "        [ 0.0093,  0.0324],\n",
            "        [ 0.1483, -0.0172],\n",
            "        [ 0.0681, -0.1813],\n",
            "        [ 0.1324,  0.2163],\n",
            "        [ 0.0371, -0.1833],\n",
            "        [-0.1590, -0.0161],\n",
            "        [-0.3815,  0.1033],\n",
            "        [ 0.0966,  0.0421],\n",
            "        [-0.0925, -0.1502],\n",
            "        [-0.0524, -0.1245],\n",
            "        [-0.1022, -0.2882],\n",
            "        [ 0.1828, -0.2956],\n",
            "        [-0.0681,  0.0178],\n",
            "        [-0.1532, -0.3065],\n",
            "        [-0.0498, -0.0991],\n",
            "        [-0.1932,  0.2572],\n",
            "        [ 0.3471, -0.0632],\n",
            "        [-0.0676, -0.0115],\n",
            "        [ 0.0253,  0.2514],\n",
            "        [-0.0551,  0.2164],\n",
            "        [ 0.3290,  0.2001]], device='cuda:0', dtype=torch.float64,\n",
            "       requires_grad=True))\n",
            "('fc2.weight', Parameter containing:\n",
            "tensor([[-0.1399, -0.1249, -0.0564, -0.4391,  0.1649, -0.2374,  0.0706,  0.2608,\n",
            "         -0.0010, -0.3136,  0.1942,  0.2273,  0.3008,  0.1308,  0.1953,  0.1974,\n",
            "         -0.0421, -0.2338, -0.1033, -0.0973,  0.3072, -0.2419,  0.1255,  0.0583,\n",
            "          0.1224, -0.0315, -0.2101, -0.1591, -0.0293, -0.0339, -0.0007,  0.2735,\n",
            "          0.4036,  0.0824, -0.1448, -0.0010,  0.1737,  0.0394,  0.1208,  0.0653,\n",
            "         -0.1393, -0.1117,  0.0945, -0.1343,  0.1293, -0.0568, -0.0054,  0.0801,\n",
            "          0.1450, -0.2331]], device='cuda:0', dtype=torch.float64,\n",
            "       requires_grad=True))\n"
          ]
        }
      ],
      "source": [
        "for param in focus_net.named_parameters():\n",
        "    print(param)"
      ]
    },
    {
      "cell_type": "code",
      "execution_count": 47,
      "metadata": {
        "id": "Yl41sE8vFERk",
        "colab": {
          "base_uri": "https://localhost:8080/"
        },
        "outputId": "be8924df-f601-4ec6-cb6a-a3c0fe4d180e"
      },
      "outputs": [
        {
          "output_type": "stream",
          "name": "stderr",
          "text": [
            "/usr/local/lib/python3.7/dist-packages/torch/nn/_reduction.py:42: UserWarning: size_average and reduce args will be deprecated, please use reduction='none' instead.\n",
            "  warnings.warn(warning.format(ret))\n"
          ]
        },
        {
          "output_type": "stream",
          "name": "stdout",
          "text": [
            "[1,     2] loss: 1.111\n",
            "[2,     2] loss: 1.083\n",
            "[3,     2] loss: 1.072\n",
            "[4,     2] loss: 1.069\n",
            "[5,     2] loss: 1.060\n",
            "[6,     2] loss: 1.050\n",
            "[7,     2] loss: 1.040\n",
            "[8,     2] loss: 1.028\n",
            "[9,     2] loss: 1.014\n",
            "[10,     2] loss: 0.996\n",
            "[11,     2] loss: 0.978\n",
            "[12,     2] loss: 0.951\n",
            "[13,     2] loss: 0.920\n",
            "[14,     2] loss: 0.880\n",
            "[15,     2] loss: 0.834\n",
            "[16,     2] loss: 0.777\n",
            "[17,     2] loss: 0.711\n",
            "[18,     2] loss: 0.637\n",
            "[19,     2] loss: 0.557\n",
            "[20,     2] loss: 0.474\n",
            "[21,     2] loss: 0.392\n",
            "[22,     2] loss: 0.316\n",
            "[23,     2] loss: 0.248\n",
            "[24,     2] loss: 0.190\n",
            "[25,     2] loss: 0.145\n",
            "[26,     2] loss: 0.109\n",
            "[27,     2] loss: 0.082\n",
            "[28,     2] loss: 0.062\n",
            "[29,     2] loss: 0.048\n",
            "[30,     2] loss: 0.037\n",
            "[31,     2] loss: 0.030\n",
            "[32,     2] loss: 0.024\n",
            "[33,     2] loss: 0.020\n",
            "[34,     2] loss: 0.017\n",
            "[35,     2] loss: 0.014\n",
            "[36,     2] loss: 0.012\n",
            "[37,     2] loss: 0.011\n",
            "[38,     2] loss: 0.010\n",
            "Finished Training\n"
          ]
        }
      ],
      "source": [
        "nos_epochs = 2000\n",
        "focus_true_pred_true =0\n",
        "focus_false_pred_true =0\n",
        "focus_true_pred_false =0\n",
        "focus_false_pred_false =0\n",
        "\n",
        "argmax_more_than_half = 0\n",
        "argmax_less_than_half =0\n",
        "\n",
        "\n",
        "for epoch in range(nos_epochs):  # loop over the dataset multiple times\n",
        "\n",
        "  focus_true_pred_true =0\n",
        "  focus_false_pred_true =0\n",
        "  focus_true_pred_false =0\n",
        "  focus_false_pred_false =0\n",
        "  \n",
        "  argmax_more_than_half = 0\n",
        "  argmax_less_than_half =0\n",
        "  \n",
        "  running_loss = 0.0\n",
        "  epoch_loss = []\n",
        "  cnt=0\n",
        "\n",
        "  iteration = desired_num // batch\n",
        "  \n",
        "  #training data set\n",
        "  \n",
        "  for i, data in  enumerate(train_loader):\n",
        "    inputs , labels , fore_idx = data\n",
        "    batch = inputs.size(0)\n",
        "    inputs, labels = inputs.to(device), labels.to(device)\n",
        "    inputs = inputs.double()\n",
        "    # zero the parameter gradients\n",
        "    \n",
        "    optimizer_focus.zero_grad()\n",
        "    optimizer_classify.zero_grad()\n",
        "    \n",
        "    alphas, avg_images = focus_net(inputs)\n",
        "    outputs = classify(avg_images)\n",
        "\n",
        "    _, predicted = torch.max(outputs.data, 1)\n",
        "#     print(outputs)\n",
        "#     print(outputs.shape,labels.shape , torch.argmax(outputs, dim=1))\n",
        "\n",
        "    loss = my_cross_entropy(outputs, labels,alphas) \n",
        "    \n",
        "    loss.backward()\n",
        "    \n",
        "    \n",
        "    optimizer_focus.step()\n",
        "    optimizer_classify.step()\n",
        "\n",
        "    running_loss += loss.item()\n",
        "    mini = 2\n",
        "    if cnt % mini == mini-1:    # print every 40 mini-batches\n",
        "      print('[%d, %5d] loss: %.3f' %(epoch + 1, cnt + 1, running_loss / mini))\n",
        "      epoch_loss.append(running_loss/mini)\n",
        "      running_loss = 0.0\n",
        "    cnt=cnt+1\n",
        "\n",
        "  if(np.mean(epoch_loss) <= 0.01):\n",
        "      break;\n",
        "  #plot_attended_data(train_loader,focus_net,epoch)\n",
        "\n",
        "    \n",
        "print('Finished Training')"
      ]
    },
    {
      "cell_type": "code",
      "execution_count": 48,
      "metadata": {
        "id": "3xPsiBtU-GDn",
        "colab": {
          "base_uri": "https://localhost:8080/"
        },
        "outputId": "1d3930f4-1b40-43ce-e676-36ab795a031b"
      },
      "outputs": [
        {
          "output_type": "stream",
          "name": "stdout",
          "text": [
            "('fc1.weight', Parameter containing:\n",
            "tensor([[-0.7254,  0.1598],\n",
            "        [-0.9212,  0.7051],\n",
            "        [ 0.9667, -0.2113],\n",
            "        [ 0.8785,  0.9426],\n",
            "        [ 0.5089,  0.4449],\n",
            "        [-0.2255, -0.7634],\n",
            "        [ 0.5059, -0.5994],\n",
            "        [-0.1712, -0.1621],\n",
            "        [ 0.9690, -0.2118],\n",
            "        [-0.7442,  0.1806],\n",
            "        [-0.3547, -0.1571],\n",
            "        [-0.2381,  0.4620],\n",
            "        [ 0.2087, -0.2212],\n",
            "        [ 0.1540, -0.9470],\n",
            "        [-0.2171, -0.3246],\n",
            "        [ 0.6490, -0.6664],\n",
            "        [ 0.0698, -0.9572],\n",
            "        [ 1.2604, -0.9345],\n",
            "        [ 0.8822,  0.7784],\n",
            "        [-0.5206,  1.1352],\n",
            "        [ 0.0392, -0.0270],\n",
            "        [-0.6246, -0.7315],\n",
            "        [-0.2807,  0.5984],\n",
            "        [-0.5564, -0.5933],\n",
            "        [ 0.5001,  0.6212],\n",
            "        [-0.4158,  0.8889],\n",
            "        [-0.7108, -0.8366],\n",
            "        [ 0.3989,  0.9628],\n",
            "        [-1.0362, -0.4759],\n",
            "        [ 0.6770,  0.7003],\n",
            "        [ 0.8770, -0.1905],\n",
            "        [-0.1759,  0.1826],\n",
            "        [-0.0072, -0.0070],\n",
            "        [ 0.5312, -0.6267],\n",
            "        [-0.7411,  0.1651],\n",
            "        [-1.0097,  0.2299],\n",
            "        [ 0.4311, -0.5005],\n",
            "        [-0.6111, -0.6025],\n",
            "        [-0.2722,  0.5501],\n",
            "        [-0.6458, -0.6798],\n",
            "        [ 0.6488, -0.9447],\n",
            "        [-0.6723,  0.1358],\n",
            "        [-0.6103, -0.6316],\n",
            "        [-0.5898, -0.6835],\n",
            "        [-0.3270,  0.7094],\n",
            "        [ 1.0804, -0.2422],\n",
            "        [-0.6335,  0.1196],\n",
            "        [-0.3304,  0.7303],\n",
            "        [-0.4116,  0.5549],\n",
            "        [ 0.9095,  0.8816]], device='cuda:0', dtype=torch.float64,\n",
            "       requires_grad=True))\n",
            "('fc2.weight', Parameter containing:\n",
            "tensor([[-0.7095, -0.7300, -0.7957, -1.1232, -0.5764, -0.8576, -0.6503, -0.3812,\n",
            "         -0.7382, -0.9180, -0.2470, -0.5282, -0.2207, -0.4883, -0.2483, -0.5496,\n",
            "         -0.6767, -0.9496, -0.7901, -0.7866, -0.1096, -0.8404, -0.5856, -0.6324,\n",
            "         -0.5832, -0.7122, -0.7967, -0.8427, -0.5419, -0.7517, -0.7427, -0.2906,\n",
            "          0.0394, -0.6351, -0.7088, -0.5865, -0.5547, -0.5986, -0.5939, -0.5640,\n",
            "         -0.8233, -0.7193, -0.5281, -0.7494, -0.5505, -0.7892, -0.6101, -0.6191,\n",
            "         -0.5514, -0.9214]], device='cuda:0', dtype=torch.float64,\n",
            "       requires_grad=True))\n"
          ]
        }
      ],
      "source": [
        "for param in focus_net.named_parameters():\n",
        "    print(param)"
      ]
    },
    {
      "cell_type": "code",
      "execution_count": 49,
      "metadata": {
        "id": "jhvhkEAyeRpt",
        "colab": {
          "base_uri": "https://localhost:8080/"
        },
        "outputId": "c62a1dc6-6168-47b6-92fc-05cf77245e67"
      },
      "outputs": [
        {
          "output_type": "stream",
          "name": "stdout",
          "text": [
            "Accuracy of the network on the train images: 100.000000 %\n",
            "total correct 100\n",
            "total train set images 100\n"
          ]
        }
      ],
      "source": [
        "correct = 0\n",
        "total = 0\n",
        "\n",
        "focus_net.eval()\n",
        "classify.eval()\n",
        "with torch.no_grad():\n",
        "  for data in train_loader:\n",
        "    inputs, labels , fore_idx = data\n",
        "    inputs = inputs.double()\n",
        "    inputs, labels = inputs.to(device), labels.to(device)\n",
        "    alphas, avg_images = focus_net(inputs)\n",
        "    outputs = classify(avg_images)\n",
        "    #print(outputs.shape)\n",
        "\n",
        "    _, predicted = torch.max(outputs.data, 1)\n",
        "\n",
        "    total += labels.size(0)\n",
        "    correct += (predicted == labels).sum().item()\n",
        "\n",
        "print('Accuracy of the network on the train images: %f %%' % ( 100 * correct / total))\n",
        "print(\"total correct\", correct)\n",
        "print(\"total train set images\", total)"
      ]
    },
    {
      "cell_type": "code",
      "execution_count": 50,
      "metadata": {
        "id": "OKcmpKwGeS8M",
        "colab": {
          "base_uri": "https://localhost:8080/"
        },
        "outputId": "e71bd423-2995-477c-9354-4981d0c35b63"
      },
      "outputs": [
        {
          "output_type": "stream",
          "name": "stdout",
          "text": [
            "Accuracy of the network on the test images: 100.000000 %\n",
            "total correct 1000\n",
            "total train set images 1000\n"
          ]
        }
      ],
      "source": [
        "correct = 0\n",
        "total = 0\n",
        "\n",
        "with torch.no_grad():\n",
        "  for data in test_loader:\n",
        "    inputs, labels , fore_idx = data\n",
        "    inputs = inputs.double()\n",
        "    inputs, labels = inputs.to(device), labels.to(device)\n",
        "    alphas, avg_images = focus_net(inputs)\n",
        "    outputs = classify(avg_images)\n",
        "\n",
        "    _, predicted = torch.max(outputs.data, 1)\n",
        "\n",
        "    total += labels.size(0)\n",
        "    correct += (predicted == labels).sum().item()\n",
        "\n",
        "print('Accuracy of the network on the test images: %f %%' % ( 100 * correct / total))\n",
        "print(\"total correct\", correct)\n",
        "print(\"total train set images\", total)"
      ]
    },
    {
      "cell_type": "code",
      "execution_count": 50,
      "metadata": {
        "id": "es2XSAZkmZEZ"
      },
      "outputs": [],
      "source": [
        ""
      ]
    }
  ],
  "metadata": {
    "accelerator": "GPU",
    "colab": {
      "collapsed_sections": [],
      "name": "hard_attention_1.ipynb",
      "provenance": []
    },
    "kernelspec": {
      "display_name": "Python 3 (ipykernel)",
      "language": "python",
      "name": "python3"
    },
    "language_info": {
      "codemirror_mode": {
        "name": "ipython",
        "version": 3
      },
      "file_extension": ".py",
      "mimetype": "text/x-python",
      "name": "python",
      "nbconvert_exporter": "python",
      "pygments_lexer": "ipython3",
      "version": "3.8.12"
    }
  },
  "nbformat": 4,
  "nbformat_minor": 0
}