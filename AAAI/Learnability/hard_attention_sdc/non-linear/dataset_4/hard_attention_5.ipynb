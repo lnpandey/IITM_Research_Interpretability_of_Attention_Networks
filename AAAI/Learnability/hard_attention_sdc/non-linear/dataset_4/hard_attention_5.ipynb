{
  "cells": [
    {
      "cell_type": "code",
      "execution_count": 1,
      "metadata": {
        "id": "0vlCAi2JLSzD"
      },
      "outputs": [],
      "source": [
        "# from google.colab import drive\n",
        "# drive.mount('/content/drive')"
      ]
    },
    {
      "cell_type": "code",
      "execution_count": 2,
      "metadata": {
        "id": "PiPNZm1iTgHy"
      },
      "outputs": [],
      "source": [
        "# path=\"/content/drive/MyDrive/Research/Hard_Attention/dataset_2/m_5_size_100/run_\""
      ]
    },
    {
      "cell_type": "code",
      "execution_count": 2,
      "metadata": {
        "id": "SrZgZMlK-GDe"
      },
      "outputs": [],
      "source": [
        ""
      ]
    },
    {
      "cell_type": "code",
      "execution_count": 3,
      "metadata": {
        "colab": {
          "base_uri": "https://localhost:8080/"
        },
        "id": "N2_J4Rw2r0SQ",
        "outputId": "d7054dc2-f221-4ced-ea5f-40639942b209"
      },
      "outputs": [
        {
          "output_type": "stream",
          "name": "stdout",
          "text": [
            "cuda\n"
          ]
        }
      ],
      "source": [
        "import numpy as np\n",
        "import pandas as pd\n",
        "from matplotlib import pyplot as plt\n",
        "from tqdm import tqdm\n",
        "%matplotlib inline\n",
        "from torch.utils.data import Dataset, DataLoader\n",
        "import torch\n",
        "import torchvision\n",
        "\n",
        "import torch.nn as nn\n",
        "import torch.optim as optim\n",
        "from torch.nn import functional as F\n",
        "from tqdm import tqdm as tqdm\n",
        "device = torch.device(\"cuda\" if torch.cuda.is_available() else \"cpu\")\n",
        "print(device)"
      ]
    },
    {
      "cell_type": "code",
      "execution_count": 4,
      "metadata": {
        "id": "-Dmy2iPWlgnc"
      },
      "outputs": [],
      "source": [
        "from torch.utils.tensorboard import SummaryWriter\n",
        "\n",
        "writer = SummaryWriter('runs/hard_attention')"
      ]
    },
    {
      "cell_type": "markdown",
      "metadata": {
        "id": "F6fjud_Fr0Sa"
      },
      "source": [
        "# Generate dataset"
      ]
    },
    {
      "cell_type": "code",
      "execution_count": 5,
      "metadata": {
        "colab": {
          "base_uri": "https://localhost:8080/"
        },
        "id": "CqdXHO0Cr0Sd",
        "outputId": "c9a57aee-218f-473a-9eaf-fb2e88820994"
      },
      "outputs": [
        {
          "output_type": "stream",
          "name": "stdout",
          "text": [
            "0 500\n",
            "1 500\n",
            "2 500\n",
            "3 500\n",
            "4 500\n",
            "5 500\n",
            "6 500\n",
            "7 500\n",
            "8 500\n",
            "9 500\n"
          ]
        }
      ],
      "source": [
        "np.random.seed(1)\n",
        "\n",
        "y = np.concatenate((np.zeros(500),np.ones(500),np.ones(500)*2,np.ones(500)*3,np.ones(500)*4,\n",
        "                    np.ones(500)*5,np.ones(500)*6,np.ones(500)*7,np.ones(500)*8,np.ones(500)*9))\n",
        "#y = np.random.randint(0,3,6000)\n",
        "idx= []\n",
        "for i in range(10):\n",
        "    print(i,sum(y==i))\n",
        "    idx.append(y==i)"
      ]
    },
    {
      "cell_type": "code",
      "execution_count": 6,
      "metadata": {
        "id": "ddhXyODwr0Sk"
      },
      "outputs": [],
      "source": [
        "x = np.zeros((5000,2))"
      ]
    },
    {
      "cell_type": "code",
      "execution_count": 7,
      "metadata": {
        "id": "DyV3N2DIr0Sp"
      },
      "outputs": [],
      "source": [
        "np.random.seed(12)\n",
        "\n",
        "x[idx[0],:] = np.random.multivariate_normal(mean = [4,6.5],cov=[[0.01,0],[0,0.01]],size=sum(idx[0]))\n",
        "x[idx[1],:] = np.random.multivariate_normal(mean = [5.5,6],cov=[[0.01,0],[0,0.01]],size=sum(idx[1]))\n",
        "x[idx[2],:] = np.random.multivariate_normal(mean = [4.5,4.5],cov=[[0.01,0],[0,0.01]],size=sum(idx[2]))\n",
        "x[idx[3],:] = np.random.multivariate_normal(mean = [3,3.5],cov=[[0.01,0],[0,0.01]],size=sum(idx[3]))\n",
        "x[idx[4],:] = np.random.multivariate_normal(mean = [2.5,5.5],cov=[[0.01,0],[0,0.01]],size=sum(idx[4]))\n",
        "x[idx[5],:] = np.random.multivariate_normal(mean = [3.5,8],cov=[[0.01,0],[0,0.01]],size=sum(idx[5]))\n",
        "x[idx[6],:] = np.random.multivariate_normal(mean = [5.5,8],cov=[[0.01,0],[0,0.01]],size=sum(idx[6]))\n",
        "x[idx[7],:] = np.random.multivariate_normal(mean = [7,6.5],cov=[[0.01,0],[0,0.01]],size=sum(idx[7]))\n",
        "x[idx[8],:] = np.random.multivariate_normal(mean = [6.5,4.5],cov=[[0.01,0],[0,0.01]],size=sum(idx[8]))\n",
        "x[idx[9],:] = np.random.multivariate_normal(mean = [5,3],cov=[[0.01,0],[0,0.01]],size=sum(idx[9]))"
      ]
    },
    {
      "cell_type": "code",
      "execution_count": 8,
      "metadata": {
        "colab": {
          "base_uri": "https://localhost:8080/"
        },
        "id": "qh1mDScsU07I",
        "outputId": "fa389990-5e68-4ca1-90f2-5b4f5329a6cd"
      },
      "outputs": [
        {
          "output_type": "execute_result",
          "data": {
            "text/plain": [
              "(array([4.04729858, 6.43185741]), array([4.53008447, 4.5079931 ]))"
            ]
          },
          "metadata": {},
          "execution_count": 8
        }
      ],
      "source": [
        "x[idx[0]][0], x[idx[2]][5] "
      ]
    },
    {
      "cell_type": "code",
      "execution_count": 9,
      "metadata": {
        "colab": {
          "base_uri": "https://localhost:8080/"
        },
        "id": "9Vr5ErQ_wSrV",
        "outputId": "69126208-cf28-4c03-dbb4-551e11b519cd"
      },
      "outputs": [
        {
          "output_type": "stream",
          "name": "stdout",
          "text": [
            "(5000, 2) (5000,)\n"
          ]
        }
      ],
      "source": [
        "print(x.shape,y.shape)"
      ]
    },
    {
      "cell_type": "code",
      "execution_count": 10,
      "metadata": {
        "id": "NG-3RpffwU_i"
      },
      "outputs": [],
      "source": [
        "idx= []\n",
        "for i in range(10):\n",
        "  idx.append(y==i)"
      ]
    },
    {
      "cell_type": "code",
      "execution_count": 11,
      "metadata": {
        "colab": {
          "base_uri": "https://localhost:8080/",
          "height": 284
        },
        "id": "hJ8Jm7YUr0St",
        "outputId": "dc3633a2-cc51-4cd5-fd42-c1e9744e00e6"
      },
      "outputs": [
        {
          "output_type": "execute_result",
          "data": {
            "text/plain": [
              "<matplotlib.legend.Legend at 0x7f076929eed0>"
            ]
          },
          "metadata": {},
          "execution_count": 11
        },
        {
          "output_type": "display_data",
          "data": {
            "image/png": "[encoded data removed]",
            "text/plain": [
              "<Figure size 432x288 with 1 Axes>"
            ]
          },
          "metadata": {
            "needs_background": "light"
          }
        }
      ],
      "source": [
        "for i in range(10):\n",
        "    plt.scatter(x[idx[i],0],x[idx[i],1],label=\"class_\"+str(i))\n",
        "plt.legend(loc='center left', bbox_to_anchor=(1, 0.5))"
      ]
    },
    {
      "cell_type": "code",
      "execution_count": 12,
      "metadata": {
        "id": "fNWgnhUJnWLV"
      },
      "outputs": [],
      "source": [
        "x = ( x -  np.mean(x,axis=0,keepdims=True) ) / np.std(x,axis=0,keepdims=True) \n"
      ]
    },
    {
      "cell_type": "code",
      "execution_count": 13,
      "metadata": {
        "colab": {
          "base_uri": "https://localhost:8080/",
          "height": 284
        },
        "id": "8-VLhUfDDeHt",
        "outputId": "a035cb65-0066-408e-a1a3-e37384be010e"
      },
      "outputs": [
        {
          "output_type": "execute_result",
          "data": {
            "text/plain": [
              "<matplotlib.legend.Legend at 0x7f0768d1bf90>"
            ]
          },
          "metadata": {},
          "execution_count": 13
        },
        {
          "output_type": "display_data",
          "data": {
            "image/png": "[encoded data removed]",
            "text/plain": [
              "<Figure size 432x288 with 1 Axes>"
            ]
          },
          "metadata": {
            "needs_background": "light"
          }
        }
      ],
      "source": [
        "for i in range(10):\n",
        "    plt.scatter(x[idx[i],0],x[idx[i],1],label=\"class_\"+str(i))\n",
        "plt.legend(loc='center left', bbox_to_anchor=(1, 0.5))"
      ]
    },
    {
      "cell_type": "code",
      "execution_count": 14,
      "metadata": {
        "id": "UfFHcZJOr0Sz"
      },
      "outputs": [],
      "source": [
        "foreground_classes = {'class_0','class_1' }\n",
        "\n",
        "background_classes = {'bg_classes',}"
      ]
    },
    {
      "cell_type": "code",
      "execution_count": 15,
      "metadata": {
        "colab": {
          "base_uri": "https://localhost:8080/"
        },
        "id": "jqbvfbwVr0TN",
        "outputId": "6e889acb-2d45-485c-e871-7fea701359f2"
      },
      "outputs": [
        {
          "output_type": "stream",
          "name": "stderr",
          "text": [
            "100%|██████████| 1500/1500 [00:08<00:00, 167.99it/s]\n"
          ]
        }
      ],
      "source": [
        "desired_num = 1500\n",
        "mosaic_list_of_images =[]\n",
        "mosaic_label = []\n",
        "fore_idx=[]\n",
        "m = 100\n",
        "for j in tqdm(range(desired_num)):\n",
        "    np.random.seed(j)\n",
        "    fg_class  = np.random.randint(0,3)\n",
        "    fg_idx = np.random.randint(0,m)\n",
        "    a = []\n",
        "    for i in range(m):\n",
        "        if i == fg_idx:\n",
        "            b = np.random.choice(np.where(idx[fg_class]==True)[0],size=1)\n",
        "            a.append(x[b])\n",
        "#             print(\"foreground \"+str(fg_class)+\" present at \" + str(fg_idx))\n",
        "        else:\n",
        "            bg_class = np.random.randint(3,10)\n",
        "            b = np.random.choice(np.where(idx[bg_class]==True)[0],size=1)\n",
        "            a.append(x[b])\n",
        "#             print(\"background \"+str(bg_class)+\" present at \" + str(i))\n",
        "    a = np.concatenate(a,axis=0)\n",
        "    mosaic_list_of_images.append(np.reshape(a,(m,2)))\n",
        "    mosaic_label.append(fg_class)\n",
        "    fore_idx.append(fg_idx)"
      ]
    },
    {
      "cell_type": "code",
      "execution_count": 16,
      "metadata": {
        "id": "BOsFmWfMr0TR"
      },
      "outputs": [],
      "source": [
        "# mosaic_list_of_images = np.concatenate(mosaic_list_of_images,axis=1).T\n"
      ]
    },
    {
      "cell_type": "code",
      "execution_count": 17,
      "metadata": {
        "colab": {
          "base_uri": "https://localhost:8080/"
        },
        "id": "2aIPMgLXNiXW",
        "outputId": "7e18feba-b950-4ebe-e2b4-ef42249a524f"
      },
      "outputs": [
        {
          "output_type": "execute_result",
          "data": {
            "text/plain": [
              "(1500, array([[ 1.41860713, -0.6338838 ],\n",
              "        [ 0.60177752,  1.40622261],\n",
              "        [ 0.64672986,  1.41882828],\n",
              "        [-1.69776679, -0.08130752],\n",
              "        [ 1.27946811, -0.71643805],\n",
              "        [ 1.45704   ,  0.60485745],\n",
              "        [ 0.18423713, -1.55664656],\n",
              "        [-1.22655811, -1.21367441],\n",
              "        [-0.91172816,  1.57430636],\n",
              "        [ 0.15127428, -1.62296362],\n",
              "        [ 0.1344424 , -1.55689301],\n",
              "        [-1.69472731, -0.13317729],\n",
              "        [-1.48633975, -0.11413025],\n",
              "        [-1.28089583, -1.35206685],\n",
              "        [ 1.65185875,  0.62351016],\n",
              "        [-1.15951149, -1.22729989],\n",
              "        [ 1.38896738, -0.56645068],\n",
              "        [-1.18761801, -1.25787568],\n",
              "        [ 0.61278208,  1.60577174],\n",
              "        [-1.69274759, -0.07362477],\n",
              "        [ 1.39540616, -0.70341419],\n",
              "        [ 0.6484437 ,  1.36911164],\n",
              "        [-1.19959749, -1.37680104],\n",
              "        [-1.64713463, -0.03977351],\n",
              "        [-1.28776671, -1.24072576],\n",
              "        [-0.91020867,  1.53719333],\n",
              "        [ 0.61165152,  1.3779105 ],\n",
              "        [-0.84921877,  1.54958677],\n",
              "        [ 1.66187652,  0.55663566],\n",
              "        [-1.21920526, -1.37879562],\n",
              "        [ 1.68270895,  0.56733039],\n",
              "        [ 1.31045949, -0.70408025],\n",
              "        [-1.14817234, -1.25084758],\n",
              "        [-1.71088451, -0.04830865],\n",
              "        [ 1.62270482,  0.51768303],\n",
              "        [-0.81087159,  1.53322431],\n",
              "        [-1.27069138, -1.30609293],\n",
              "        [-1.69914455, -0.16147701],\n",
              "        [-1.65628865, -0.02423347],\n",
              "        [ 0.60460631,  1.44797892],\n",
              "        [ 0.58236704,  1.54894797],\n",
              "        [-0.75807128,  1.49637913],\n",
              "        [-1.28724192, -1.24386289],\n",
              "        [ 0.50158931,  1.43804287],\n",
              "        [ 1.60446175,  0.54857951],\n",
              "        [-0.73901596,  1.4622779 ],\n",
              "        [ 0.54263288,  1.44790818],\n",
              "        [-0.49505214,  0.60082382],\n",
              "        [ 1.71498428,  0.59954835],\n",
              "        [ 1.43641796,  0.45305328],\n",
              "        [ 1.55656178,  0.54573264],\n",
              "        [ 1.602678  ,  0.58268934],\n",
              "        [ 0.33530206, -1.52692569],\n",
              "        [ 1.79593358,  0.59840443],\n",
              "        [-0.80669488,  1.49720238],\n",
              "        [ 1.33428603, -0.65794801],\n",
              "        [ 1.27575595, -0.58010711],\n",
              "        [-1.44928269, -0.21540968],\n",
              "        [-1.62968697, -0.05435677],\n",
              "        [-1.14705658, -1.32173496],\n",
              "        [ 1.26347519, -0.67608686],\n",
              "        [-1.22613356, -1.23095984],\n",
              "        [-0.9408243 ,  1.49533605],\n",
              "        [-0.85868868,  1.45722051],\n",
              "        [ 1.22226935, -0.73183849],\n",
              "        [-1.0063457 ,  1.49934918],\n",
              "        [ 1.30597669, -0.69626665],\n",
              "        [ 1.26087483, -0.71083003],\n",
              "        [-1.18691723, -1.13322982],\n",
              "        [-0.76520942,  1.48175297],\n",
              "        [-0.83556166,  1.46827423],\n",
              "        [ 0.58276434,  1.50428082],\n",
              "        [-1.6086103 , -0.06712453],\n",
              "        [ 0.31810705, -1.61167082],\n",
              "        [ 0.09632852, -1.63056099],\n",
              "        [ 0.64150161,  1.40909262],\n",
              "        [ 0.09309813, -1.6306057 ],\n",
              "        [ 1.66239728,  0.59086736],\n",
              "        [-0.7828917 ,  1.46492326],\n",
              "        [ 0.2534351 , -1.61532233],\n",
              "        [-0.91172816,  1.57430636],\n",
              "        [ 1.63154468,  0.61032896],\n",
              "        [ 0.35113688, -1.57927957],\n",
              "        [-1.14814207, -1.32320798],\n",
              "        [-0.83193521,  1.29685967],\n",
              "        [-1.1908979 , -1.29775027],\n",
              "        [ 0.23826136, -1.5664998 ],\n",
              "        [ 0.21538706, -1.71336868],\n",
              "        [ 0.28184423, -1.5868274 ],\n",
              "        [ 0.64181542,  1.47919748],\n",
              "        [ 1.602678  ,  0.58268934],\n",
              "        [ 1.2015697 , -0.68408351],\n",
              "        [-1.15822387, -1.22934664],\n",
              "        [-0.85719594,  1.48370672],\n",
              "        [ 0.22408263, -1.58458172],\n",
              "        [ 0.56915048,  1.44188275],\n",
              "        [-1.20710459, -1.25338625],\n",
              "        [-1.33011081, -1.3672702 ],\n",
              "        [-1.2898084 , -1.34407395],\n",
              "        [-0.6872284 ,  1.44944975]]), (100, 2))"
            ]
          },
          "metadata": {},
          "execution_count": 17
        }
      ],
      "source": [
        "len(mosaic_list_of_images), mosaic_list_of_images[0],mosaic_list_of_images[0].shape"
      ]
    },
    {
      "cell_type": "code",
      "execution_count": 18,
      "metadata": {
        "id": "iPoIwbMHx44n"
      },
      "outputs": [],
      "source": [
        "class MosaicDataset(Dataset):\n",
        "  \"\"\"MosaicDataset dataset.\"\"\"\n",
        "\n",
        "  def __init__(self, mosaic_list_of_images, mosaic_label, fore_idx):\n",
        "    \"\"\"\n",
        "      Args:\n",
        "        csv_file (string): Path to the csv file with annotations.\n",
        "        root_dir (string): Directory with all the images.\n",
        "        transform (callable, optional): Optional transform to be applied\n",
        "            on a sample.\n",
        "    \"\"\"\n",
        "    self.mosaic = mosaic_list_of_images\n",
        "    self.label = mosaic_label\n",
        "    self.fore_idx = fore_idx\n",
        "\n",
        "  def __len__(self):\n",
        "    return len(self.label)\n",
        "\n",
        "  def __getitem__(self, idx):\n",
        "    return self.mosaic[idx] , self.label[idx], self.fore_idx[idx]\n",
        "\n"
      ]
    },
    {
      "cell_type": "code",
      "execution_count": 19,
      "metadata": {
        "id": "fOPAJQJeW8Ah"
      },
      "outputs": [],
      "source": [
        "batch = 50\n",
        "msd1 = MosaicDataset(mosaic_list_of_images[0:500], mosaic_label[0:500] , fore_idx[0:500])\n",
        "train_loader = DataLoader( msd1 ,batch_size= batch ,shuffle=True)"
      ]
    },
    {
      "cell_type": "code",
      "execution_count": 20,
      "metadata": {
        "id": "aWBIcyvGApLt"
      },
      "outputs": [],
      "source": [
        "data,_,_=iter(train_loader).next()"
      ]
    },
    {
      "cell_type": "code",
      "execution_count": 21,
      "metadata": {
        "colab": {
          "base_uri": "https://localhost:8080/"
        },
        "id": "cauJIvKEAxKM",
        "outputId": "d57cd909-43b9-47eb-be8f-1a787902056b"
      },
      "outputs": [
        {
          "output_type": "execute_result",
          "data": {
            "text/plain": [
              "torch.Size([50, 100, 2])"
            ]
          },
          "metadata": {},
          "execution_count": 21
        }
      ],
      "source": [
        "data.shape"
      ]
    },
    {
      "cell_type": "code",
      "execution_count": 22,
      "metadata": {
        "id": "qjNiQgxZW8bA"
      },
      "outputs": [],
      "source": [
        "batch = 250\n",
        "msd2 = MosaicDataset(mosaic_list_of_images[500:], mosaic_label[500:] , fore_idx[500:])\n",
        "test_loader = DataLoader( msd2 ,batch_size= batch ,shuffle=True)"
      ]
    },
    {
      "cell_type": "code",
      "execution_count": 23,
      "metadata": {
        "id": "yda1E5ApiKpH"
      },
      "outputs": [],
      "source": [
        "class Focus(nn.Module):\n",
        "    def __init__(self):\n",
        "        super(Focus, self).__init__()\n",
        "        self.fc1 = nn.Linear(2,50, bias=False)\n",
        "        self.fc2 = nn.Linear(50,1,bias=False)\n",
        "        torch.nn.init.xavier_normal_(self.fc1.weight)\n",
        "        torch.nn.init.xavier_normal_(self.fc2.weight)\n",
        "        #self.fc2 = nn.Linear(64, 1, bias=False)\n",
        "        #torch.nn.init.xavier_normal_(self.fc2.weight)\n",
        "\n",
        "    def forward(self,z):\n",
        "        #print(\"data\",z)\n",
        "        batch = z.size(0)\n",
        "        patches = z.size(1)\n",
        "        z = z.view(batch,patches,2*1)\n",
        "        alp1,ft1 = self.helper(z)\n",
        "\n",
        "        alpha = F.softmax(alp1,dim=1)\n",
        "        #print(self.training)\n",
        "        \n",
        "        if self.training:\n",
        "            alpha =alpha[:,:,0]\n",
        "            y = ft1 \n",
        "            return alpha,y\n",
        "        else:\n",
        "            #alpha_cumsum = torch.cumsum(alpha, dim = 1)\n",
        "            #print(alpha_cumsum)\n",
        "            #len_batch = alpha_cumsum.size(0)\n",
        "            #patches = alpha_cumsum.size(1)\n",
        "            #rand_prob = torch.rand(len_batch,patches, 1).to(device)\n",
        "            #alpha_relu = F.relu(rand_prob-alpha_cumsum)\n",
        "            #print(alpha_relu)\n",
        "            #alpha_index = torch.count_nonzero(alpha_relu,dim=1)\n",
        "            #alpha_hard = F.one_hot(alpha_index,num_classes=patches)\n",
        "            #print(alpha_hard)\n",
        "            #alpha_hard = torch.transpose(alpha_hard,dim0=1,dim1=2)\n",
        "            #print(ft1,\"alpha_hard\",alpha_hard) \n",
        "            #y = torch.sum(alpha_hard*ft1,dim=1)\n",
        "            #print(alpha,alpha.shape)\n",
        "         \n",
        "        \n",
        "            index = torch.argmax(alpha,dim=1)\n",
        "            hard_alpha = torch.nn.functional.one_hot(index[:,0], patches)\n",
        "            y = torch.sum(hard_alpha[:,:,None]*ft1,dim=1)\n",
        "            alpha = alpha[:,:,0]\n",
        "            return alpha,y\n",
        "    \n",
        "    def helper(self, x):\n",
        "        x1 = x\n",
        "        x = F.relu(self.fc1(x))\n",
        "        x = self.fc2(x)\n",
        "        return x,x1"
      ]
    },
    {
      "cell_type": "code",
      "execution_count": 24,
      "metadata": {
        "id": "0dYXnywAD-4l"
      },
      "outputs": [],
      "source": [
        "class Classification(nn.Module):\n",
        "  def __init__(self):\n",
        "    super(Classification, self).__init__()\n",
        "    self.fc1 = nn.Linear(2, 50)\n",
        "    self.fc2 = nn.Linear(50,3)\n",
        "    torch.nn.init.xavier_normal_(self.fc1.weight)\n",
        "    torch.nn.init.zeros_(self.fc1.bias)\n",
        "    torch.nn.init.xavier_normal_(self.fc2.weight)\n",
        "    torch.nn.init.zeros_(self.fc2.bias)\n",
        "  def forward(self, x):\n",
        "    #print(x.shape)\n",
        "    #x = x.view(-1, 1)\n",
        "    #print(x.shape)\n",
        "    x = F.relu(self.fc1(x))\n",
        "    x = self.fc2(x)\n",
        "    # print(x.shape)\n",
        "    return x"
      ]
    },
    {
      "cell_type": "code",
      "execution_count": 25,
      "metadata": {
        "id": "lSa6O9f6XNf4"
      },
      "outputs": [],
      "source": [
        "torch.manual_seed(12)\n",
        "focus_net = Focus().double()\n",
        "focus_net = focus_net.to(device)"
      ]
    },
    {
      "cell_type": "code",
      "execution_count": 26,
      "metadata": {
        "id": "36k3H2G-XO9A"
      },
      "outputs": [],
      "source": [
        "torch.manual_seed(12)\n",
        "classify = Classification().double()\n",
        "classify = classify.to(device)"
      ]
    },
    {
      "cell_type": "code",
      "execution_count": 27,
      "metadata": {
        "id": "bK78aII8-GDl"
      },
      "outputs": [],
      "source": [
        "import torch.optim as optim\n",
        "optimizer_classify = optim.Adam(classify.parameters(), lr=0.008 ) #, momentum=0.9)\n",
        "optimizer_focus = optim.Adam(focus_net.parameters(), lr=0.008 ) #, momentum=0.9)"
      ]
    },
    {
      "cell_type": "code",
      "execution_count": 28,
      "metadata": {
        "id": "h0mjWiFG-GDl"
      },
      "outputs": [],
      "source": [
        "def my_cross_entropy(output,target,alpha):\n",
        "    criterion = nn.CrossEntropyLoss(reduce=False)\n",
        "    \n",
        "    batch = output.size(0)\n",
        "    #print(batch)\n",
        "    patches = output.size(1)\n",
        "    classes = output.size(2)\n",
        "    \n",
        "    \n",
        "    \n",
        "    output = torch.reshape(output,(batch*patches,classes))\n",
        "    \n",
        "    \n",
        "    target = target.repeat_interleave(patches)\n",
        "    \n",
        "    loss = criterion(output,target)\n",
        "    \n",
        "    #print(loss,loss.shape)\n",
        "    loss = torch.reshape(loss,(batch,patches))\n",
        "    #print(loss.size())\n",
        "    final_loss = torch.sum(torch.mul(loss,alpha),dim=1)\n",
        "    #print(final_loss.shape)\n",
        "    final_loss = torch.mean(final_loss,dim=0)\n",
        "    \n",
        "    \n",
        "    \n",
        "    #print(final_loss)\n",
        "    return final_loss\n",
        "    \n",
        "    \n",
        "    "
      ]
    },
    {
      "cell_type": "code",
      "execution_count": 29,
      "metadata": {
        "id": "pjD2VZuV9Ed4"
      },
      "outputs": [],
      "source": [
        "col1=[]\n",
        "col2=[]\n",
        "col3=[]\n",
        "col4=[]\n",
        "col5=[]\n",
        "col6=[]\n",
        "col7=[]\n",
        "col8=[]\n",
        "col9=[]\n",
        "col10=[]\n",
        "col11=[]\n",
        "col12=[]\n",
        "col13=[]"
      ]
    },
    {
      "cell_type": "code",
      "execution_count": 30,
      "metadata": {
        "id": "eEVrBg7d-GDl"
      },
      "outputs": [],
      "source": [
        "def plot_attended_data(trainloader,net,epoch):\n",
        "    attd_data =[]\n",
        "    lbls = []\n",
        "    for data in trainloader:\n",
        "        inputs, labels , fore_idx = data\n",
        "        inputs = inputs.double()\n",
        "        inputs, labels , fore_idx = inputs.to(device),labels.to(device), fore_idx.to(device)\n",
        "        alphas, avg_images = focus_net(inputs)\n",
        "        attd_data.append(avg_images.numpy())\n",
        "        lbls.append(labels)\n",
        "    attd_data = np.concatenate(attd_data,axis=0)\n",
        "    lbls = np.concatenate(lbls,axis=0)\n",
        "    plt.figure(figsize=(6,8))\n",
        "    plt.scatter(attd_data[:,0],attd_data[:,1],c=lbls)\n",
        "    plt.title(\"EPOCH_\"+str(epoch))"
      ]
    },
    {
      "cell_type": "code",
      "execution_count": 31,
      "metadata": {
        "id": "uALi25pmzQHV",
        "colab": {
          "base_uri": "https://localhost:8080/"
        },
        "outputId": "27a85893-e4f7-46e9-e376-f372d460725e"
      },
      "outputs": [
        {
          "output_type": "stream",
          "name": "stdout",
          "text": [
            "tensor(1.0884, device='cuda:0', dtype=torch.float64)\n",
            "tensor(1.1354, device='cuda:0', dtype=torch.float64)\n",
            "tensor(1.0849, device='cuda:0', dtype=torch.float64)\n",
            "tensor(1.0938, device='cuda:0', dtype=torch.float64)\n",
            "tensor(1.1228, device='cuda:0', dtype=torch.float64)\n",
            "tensor(1.1245, device='cuda:0', dtype=torch.float64)\n",
            "tensor(1.1307, device='cuda:0', dtype=torch.float64)\n",
            "tensor(1.0856, device='cuda:0', dtype=torch.float64)\n",
            "tensor(1.1608, device='cuda:0', dtype=torch.float64)\n",
            "tensor(1.1404, device='cuda:0', dtype=torch.float64)\n",
            "====================================================================================================\n"
          ]
        },
        {
          "output_type": "stream",
          "name": "stderr",
          "text": [
            "/usr/local/lib/python3.7/dist-packages/torch/nn/_reduction.py:42: UserWarning: size_average and reduce args will be deprecated, please use reduction='none' instead.\n",
            "  warnings.warn(warning.format(ret))\n"
          ]
        }
      ],
      "source": [
        "correct = 0\n",
        "total = 0\n",
        "count = 0\n",
        "flag = 1\n",
        "\n",
        "\n",
        "with torch.no_grad():\n",
        "  for data in train_loader:\n",
        "    inputs, labels , fore_idx = data\n",
        "    inputs = inputs.double()\n",
        "    inputs, labels , fore_idx = inputs.to(device),labels.to(device), fore_idx.to(device)\n",
        "    alphas, avg_images = focus_net(inputs)\n",
        "    outputs = classify(avg_images)\n",
        "    loss = my_cross_entropy(outputs,labels,alphas)\n",
        "    print(loss)\n",
        "    # print(outputs.shape)\n",
        "    _, predicted = torch.max(outputs.data, 1)\n",
        "\n",
        "\n",
        "print(\"=\"*100)\n",
        "\n"
      ]
    },
    {
      "cell_type": "code",
      "execution_count": 32,
      "metadata": {
        "id": "4vmNprlPzTjP"
      },
      "outputs": [],
      "source": [
        "correct = 0\n",
        "total = 0\n",
        "count = 0\n",
        "flag = 1\n",
        "\n",
        "\n",
        "with torch.no_grad():\n",
        "  for data in test_loader:\n",
        "    inputs, labels , fore_idx = data\n",
        "    inputs = inputs.double()\n",
        "    inputs, labels , fore_idx = inputs.to(device),labels.to(device), fore_idx.to(device)\n",
        "    alphas, avg_images = focus_net(inputs)\n",
        "    outputs = classify(avg_images)\n",
        "\n",
        "    _, predicted = torch.max(outputs.data, 1)\n"
      ]
    },
    {
      "cell_type": "code",
      "execution_count": 33,
      "metadata": {
        "id": "_nvicAzw-GDm",
        "colab": {
          "base_uri": "https://localhost:8080/"
        },
        "outputId": "11f8e1cf-e089-462a-f1b2-91e3f1c35ed0"
      },
      "outputs": [
        {
          "output_type": "stream",
          "name": "stdout",
          "text": [
            "('fc1.weight', Parameter containing:\n",
            "tensor([[-0.1235,  0.3437],\n",
            "        [ 0.1704, -0.2588],\n",
            "        [ 0.0472,  0.0784],\n",
            "        [ 0.4953, -0.1659],\n",
            "        [ 0.3371,  0.3451],\n",
            "        [ 0.3131, -0.1927],\n",
            "        [-0.1788,  0.0314],\n",
            "        [ 0.1934,  0.0747],\n",
            "        [-0.0699,  0.2935],\n",
            "        [ 0.0524, -0.1017],\n",
            "        [-0.2094, -0.3588],\n",
            "        [ 0.2079, -0.0692],\n",
            "        [-0.0396,  0.2914],\n",
            "        [-0.2280,  0.0319],\n",
            "        [-0.1798,  0.1602],\n",
            "        [ 0.1488, -0.0822],\n",
            "        [ 0.2434,  0.1657],\n",
            "        [-0.1537, -0.0442],\n",
            "        [-0.2106,  0.2442],\n",
            "        [-0.1865, -0.1679],\n",
            "        [-0.3746,  0.1089],\n",
            "        [ 0.0765,  0.0746],\n",
            "        [ 0.0194,  0.5148],\n",
            "        [-0.0150, -0.0721],\n",
            "        [-0.2615,  0.0124],\n",
            "        [ 0.2550,  0.0677],\n",
            "        [ 0.1783, -0.1196],\n",
            "        [ 0.1869,  0.2055],\n",
            "        [-0.0041, -0.1310],\n",
            "        [-0.0923,  0.0208],\n",
            "        [-0.1519, -0.2190],\n",
            "        [-0.0142, -0.0720],\n",
            "        [ 0.1204,  0.0586],\n",
            "        [-0.2943,  0.2803],\n",
            "        [ 0.0041,  0.0944],\n",
            "        [-0.0306, -0.0983],\n",
            "        [ 0.1264, -0.1432],\n",
            "        [-0.2297, -0.2029],\n",
            "        [-0.4360,  0.1309],\n",
            "        [ 0.2729, -0.1434],\n",
            "        [-0.1905, -0.0718],\n",
            "        [ 0.4859,  0.3518],\n",
            "        [-0.1163, -0.1056],\n",
            "        [ 0.0843,  0.2349],\n",
            "        [-0.2124,  0.0694],\n",
            "        [ 0.1559,  0.4671],\n",
            "        [ 0.0944,  0.2184],\n",
            "        [-0.1632, -0.0640],\n",
            "        [ 0.3447,  0.0719],\n",
            "        [-0.0065, -0.2574]], device='cuda:0', dtype=torch.float64,\n",
            "       requires_grad=True))\n",
            "('fc2.weight', Parameter containing:\n",
            "tensor([[ 0.2877,  0.2409, -0.1060,  0.0798,  0.0235,  0.5752,  0.2892,  0.3077,\n",
            "         -0.0946,  0.0924, -0.1857,  0.1151, -0.0581, -0.1602, -0.0622, -0.3845,\n",
            "          0.2236, -0.0697, -0.1184, -0.0754,  0.0007,  0.0488,  0.0265, -0.2130,\n",
            "         -0.1718, -0.1714, -0.2712, -0.1121,  0.2311, -0.3507, -0.0884,  0.1573,\n",
            "          0.0479, -0.2186, -0.1205,  0.1774,  0.4210, -0.0055,  0.0760, -0.3396,\n",
            "          0.0821,  0.1663,  0.0678, -0.4594,  0.1509,  0.1229,  0.0456, -0.3413,\n",
            "          0.1490, -0.1123]], device='cuda:0', dtype=torch.float64,\n",
            "       requires_grad=True))\n"
          ]
        }
      ],
      "source": [
        "for param in focus_net.named_parameters():\n",
        "    print(param)"
      ]
    },
    {
      "cell_type": "code",
      "execution_count": 34,
      "metadata": {
        "id": "Yl41sE8vFERk",
        "colab": {
          "base_uri": "https://localhost:8080/"
        },
        "outputId": "2108cdca-7b11-4d54-b911-96b191c538b2"
      },
      "outputs": [
        {
          "output_type": "stream",
          "name": "stdout",
          "text": [
            "[1,    10] loss: 1.117\n",
            "[2,    10] loss: 1.104\n"
          ]
        },
        {
          "output_type": "stream",
          "name": "stderr",
          "text": [
            "/usr/local/lib/python3.7/dist-packages/torch/nn/_reduction.py:42: UserWarning: size_average and reduce args will be deprecated, please use reduction='none' instead.\n",
            "  warnings.warn(warning.format(ret))\n"
          ]
        },
        {
          "output_type": "stream",
          "name": "stdout",
          "text": [
            "[3,    10] loss: 1.100\n",
            "[4,    10] loss: 1.100\n",
            "[5,    10] loss: 1.103\n",
            "[6,    10] loss: 1.099\n",
            "[7,    10] loss: 1.100\n",
            "[8,    10] loss: 1.100\n",
            "[9,    10] loss: 1.099\n",
            "[10,    10] loss: 1.101\n",
            "[11,    10] loss: 1.100\n",
            "[12,    10] loss: 1.100\n",
            "[13,    10] loss: 1.102\n",
            "[14,    10] loss: 1.099\n",
            "[15,    10] loss: 1.100\n",
            "[16,    10] loss: 1.100\n",
            "[17,    10] loss: 1.099\n",
            "[18,    10] loss: 1.100\n",
            "[19,    10] loss: 1.098\n",
            "[20,    10] loss: 1.098\n",
            "[21,    10] loss: 1.098\n",
            "[22,    10] loss: 1.098\n",
            "[23,    10] loss: 1.097\n",
            "[24,    10] loss: 1.093\n",
            "[25,    10] loss: 1.055\n",
            "[26,    10] loss: 0.771\n",
            "[27,    10] loss: 0.238\n",
            "[28,    10] loss: 0.029\n",
            "[29,    10] loss: 0.006\n",
            "Finished Training\n"
          ]
        }
      ],
      "source": [
        "nos_epochs = 2000\n",
        "focus_true_pred_true =0\n",
        "focus_false_pred_true =0\n",
        "focus_true_pred_false =0\n",
        "focus_false_pred_false =0\n",
        "\n",
        "argmax_more_than_half = 0\n",
        "argmax_less_than_half =0\n",
        "\n",
        "\n",
        "for epoch in range(nos_epochs):  # loop over the dataset multiple times\n",
        "\n",
        "  focus_true_pred_true =0\n",
        "  focus_false_pred_true =0\n",
        "  focus_true_pred_false =0\n",
        "  focus_false_pred_false =0\n",
        "  \n",
        "  argmax_more_than_half = 0\n",
        "  argmax_less_than_half =0\n",
        "  \n",
        "  running_loss = 0.0\n",
        "  epoch_loss = []\n",
        "  cnt=0\n",
        "\n",
        "  iteration = desired_num // batch\n",
        "  \n",
        "  #training data set\n",
        "  \n",
        "  for i, data in  enumerate(train_loader):\n",
        "    inputs , labels , fore_idx = data\n",
        "    batch = inputs.size(0)\n",
        "    inputs, labels = inputs.to(device), labels.to(device)\n",
        "    inputs = inputs.double()\n",
        "    # zero the parameter gradients\n",
        "    \n",
        "    optimizer_focus.zero_grad()\n",
        "    optimizer_classify.zero_grad()\n",
        "    \n",
        "    alphas, avg_images = focus_net(inputs)\n",
        "    outputs = classify(avg_images)\n",
        "\n",
        "    _, predicted = torch.max(outputs.data, 1)\n",
        "#     print(outputs)\n",
        "#     print(outputs.shape,labels.shape , torch.argmax(outputs, dim=1))\n",
        "\n",
        "    loss = my_cross_entropy(outputs, labels,alphas) \n",
        "    \n",
        "    loss.backward()\n",
        "    \n",
        "    \n",
        "    optimizer_focus.step()\n",
        "    optimizer_classify.step()\n",
        "\n",
        "    running_loss += loss.item()\n",
        "    mini = 10\n",
        "    if cnt % mini == mini-1:    # print every 40 mini-batches\n",
        "      print('[%d, %5d] loss: %.3f' %(epoch + 1, cnt + 1, running_loss / mini))\n",
        "      epoch_loss.append(running_loss/mini)\n",
        "      running_loss = 0.0\n",
        "    cnt=cnt+1\n",
        "\n",
        "  if(np.mean(epoch_loss) <= 0.01):\n",
        "      break;\n",
        "  #plot_attended_data(train_loader,focus_net,epoch)\n",
        "\n",
        "    \n",
        "print('Finished Training')"
      ]
    },
    {
      "cell_type": "code",
      "execution_count": 35,
      "metadata": {
        "id": "3xPsiBtU-GDn",
        "colab": {
          "base_uri": "https://localhost:8080/"
        },
        "outputId": "d07c7720-b187-4eff-8f0a-5ea30221afb4"
      },
      "outputs": [
        {
          "output_type": "stream",
          "name": "stdout",
          "text": [
            "('fc1.weight', Parameter containing:\n",
            "tensor([[ 0.1764, -0.0397],\n",
            "        [ 0.3725, -0.7162],\n",
            "        [ 0.6393,  0.7983],\n",
            "        [ 1.1629, -0.9521],\n",
            "        [ 0.8476,  1.0051],\n",
            "        [-0.0522,  0.0692],\n",
            "        [-0.0332, -0.0209],\n",
            "        [-0.0270,  0.0203],\n",
            "        [-0.5196,  1.0379],\n",
            "        [ 0.7012, -0.9441],\n",
            "        [-1.0725, -1.0224],\n",
            "        [ 0.6323, -0.8246],\n",
            "        [ 0.7751,  0.9325],\n",
            "        [-1.1917,  0.4391],\n",
            "        [-1.3060,  0.4470],\n",
            "        [ 0.4685,  0.6237],\n",
            "        [ 0.6131, -0.3422],\n",
            "        [-0.9293, -0.8441],\n",
            "        [-1.2593,  0.4390],\n",
            "        [-1.0474, -0.9643],\n",
            "        [-1.3391,  0.4478],\n",
            "        [ 0.5857,  0.7368],\n",
            "        [ 0.8533,  0.9865],\n",
            "        [-0.8190, -0.7503],\n",
            "        [-1.2036,  0.4451],\n",
            "        [ 0.6350,  0.7907],\n",
            "        [ 1.1515, -0.8202],\n",
            "        [ 0.7223,  0.8844],\n",
            "        [ 0.4242, -0.7329],\n",
            "        [-0.9837,  0.4182],\n",
            "        [-1.0348, -0.9524],\n",
            "        [ 0.9713, -0.8415],\n",
            "        [ 1.0725, -0.8669],\n",
            "        [-1.2888,  0.4533],\n",
            "        [-0.8372,  0.5009],\n",
            "        [ 0.7696, -0.9399],\n",
            "        [-0.0083,  0.0663],\n",
            "        [-1.0966, -1.0144],\n",
            "        [-0.9292,  0.6395],\n",
            "        [ 1.2305, -0.8321],\n",
            "        [-0.8406,  0.4287],\n",
            "        [ 1.2075, -0.1638],\n",
            "        [-1.0524,  0.4204],\n",
            "        [ 0.6800,  0.8353],\n",
            "        [-0.2902,  0.5140],\n",
            "        [-0.1296,  1.0622],\n",
            "        [ 0.6709,  0.8290],\n",
            "        [-0.8915, -0.8181],\n",
            "        [ 0.7813, -0.1933],\n",
            "        [ 0.5853, -1.1690]], device='cuda:0', dtype=torch.float64,\n",
            "       requires_grad=True))\n",
            "('fc2.weight', Parameter containing:\n",
            "tensor([[-0.1437, -0.6829, -1.6079, -0.8517, -1.2180, -0.0191,  0.0034, -0.0666,\n",
            "         -0.7461, -1.0156, -1.0775, -0.8384, -1.2565, -1.0376, -0.8624, -1.2432,\n",
            "         -0.6029, -0.9663, -0.8493, -1.0229, -0.7439, -1.3249, -1.0041, -1.0318,\n",
            "         -1.0336, -1.2541, -1.2529, -1.4976, -0.8396, -1.3155, -1.0301, -1.1363,\n",
            "         -1.0595, -0.9420, -0.8080, -1.1094, -0.1506, -0.9472, -0.5922, -1.3093,\n",
            "         -0.6903, -0.7925, -0.8508, -1.8268, -0.4758, -0.7465, -1.2391, -1.2644,\n",
            "         -0.5649, -0.9636]], device='cuda:0', dtype=torch.float64,\n",
            "       requires_grad=True))\n"
          ]
        }
      ],
      "source": [
        "for param in focus_net.named_parameters():\n",
        "    print(param)"
      ]
    },
    {
      "cell_type": "code",
      "execution_count": 36,
      "metadata": {
        "id": "jhvhkEAyeRpt",
        "colab": {
          "base_uri": "https://localhost:8080/"
        },
        "outputId": "2d2eaf6b-3a62-497e-dbdd-39af2d62776d"
      },
      "outputs": [
        {
          "output_type": "stream",
          "name": "stdout",
          "text": [
            "Accuracy of the network on the train images: 100.000000 %\n",
            "total correct 500\n",
            "total train set images 500\n"
          ]
        }
      ],
      "source": [
        "correct = 0\n",
        "total = 0\n",
        "\n",
        "focus_net.eval()\n",
        "classify.eval()\n",
        "with torch.no_grad():\n",
        "  for data in train_loader:\n",
        "    inputs, labels , fore_idx = data\n",
        "    inputs = inputs.double()\n",
        "    inputs, labels = inputs.to(device), labels.to(device)\n",
        "    alphas, avg_images = focus_net(inputs)\n",
        "    outputs = classify(avg_images)\n",
        "    #print(outputs.shape)\n",
        "\n",
        "    _, predicted = torch.max(outputs.data, 1)\n",
        "\n",
        "    total += labels.size(0)\n",
        "    correct += (predicted == labels).sum().item()\n",
        "\n",
        "print('Accuracy of the network on the train images: %f %%' % ( 100 * correct / total))\n",
        "print(\"total correct\", correct)\n",
        "print(\"total train set images\", total)"
      ]
    },
    {
      "cell_type": "code",
      "execution_count": 37,
      "metadata": {
        "id": "OKcmpKwGeS8M",
        "colab": {
          "base_uri": "https://localhost:8080/"
        },
        "outputId": "850bdca7-86f5-4978-e455-51666befdb52"
      },
      "outputs": [
        {
          "output_type": "stream",
          "name": "stdout",
          "text": [
            "Accuracy of the network on the test images: 100.000000 %\n",
            "total correct 1000\n",
            "total train set images 1000\n"
          ]
        }
      ],
      "source": [
        "correct = 0\n",
        "total = 0\n",
        "\n",
        "with torch.no_grad():\n",
        "  for data in test_loader:\n",
        "    inputs, labels , fore_idx = data\n",
        "    inputs = inputs.double()\n",
        "    inputs, labels = inputs.to(device), labels.to(device)\n",
        "    alphas, avg_images = focus_net(inputs)\n",
        "    outputs = classify(avg_images)\n",
        "\n",
        "    _, predicted = torch.max(outputs.data, 1)\n",
        "\n",
        "    total += labels.size(0)\n",
        "    correct += (predicted == labels).sum().item()\n",
        "\n",
        "print('Accuracy of the network on the test images: %f %%' % ( 100 * correct / total))\n",
        "print(\"total correct\", correct)\n",
        "print(\"total train set images\", total)"
      ]
    },
    {
      "cell_type": "code",
      "execution_count": 37,
      "metadata": {
        "id": "VmBMR9rPr9v6"
      },
      "outputs": [],
      "source": [
        ""
      ]
    },
    {
      "cell_type": "code",
      "execution_count": 37,
      "metadata": {
        "id": "5y90S_lwr9v6"
      },
      "outputs": [],
      "source": [
        ""
      ]
    }
  ],
  "metadata": {
    "accelerator": "GPU",
    "colab": {
      "collapsed_sections": [],
      "name": "hard_attention_5.ipynb",
      "provenance": []
    },
    "kernelspec": {
      "display_name": "Python 3 (ipykernel)",
      "language": "python",
      "name": "python3"
    },
    "language_info": {
      "codemirror_mode": {
        "name": "ipython",
        "version": 3
      },
      "file_extension": ".py",
      "mimetype": "text/x-python",
      "name": "python",
      "nbconvert_exporter": "python",
      "pygments_lexer": "ipython3",
      "version": "3.8.12"
    }
  },
  "nbformat": 4,
  "nbformat_minor": 0
}