{
  "cells": [
    {
      "cell_type": "code",
      "execution_count": 1,
      "metadata": {
        "id": "0vlCAi2JLSzD"
      },
      "outputs": [],
      "source": [
        "# from google.colab import drive\n",
        "# drive.mount('/content/drive')"
      ]
    },
    {
      "cell_type": "code",
      "execution_count": 2,
      "metadata": {
        "id": "PiPNZm1iTgHy"
      },
      "outputs": [],
      "source": [
        "# path=\"/content/drive/MyDrive/Research/Hard_Attention/dataset_2/m_5_size_100/run_\""
      ]
    },
    {
      "cell_type": "code",
      "execution_count": 2,
      "metadata": {
        "id": "SrZgZMlK-GDe"
      },
      "outputs": [],
      "source": [
        ""
      ]
    },
    {
      "cell_type": "code",
      "execution_count": 3,
      "metadata": {
        "colab": {
          "base_uri": "https://localhost:8080/"
        },
        "id": "N2_J4Rw2r0SQ",
        "outputId": "bb226483-eec4-4da1-a78d-09710b044aa3"
      },
      "outputs": [
        {
          "output_type": "stream",
          "name": "stdout",
          "text": [
            "cuda\n"
          ]
        }
      ],
      "source": [
        "import numpy as np\n",
        "import pandas as pd\n",
        "from matplotlib import pyplot as plt\n",
        "from tqdm import tqdm\n",
        "%matplotlib inline\n",
        "from torch.utils.data import Dataset, DataLoader\n",
        "import torch\n",
        "import torchvision\n",
        "\n",
        "import torch.nn as nn\n",
        "import torch.optim as optim\n",
        "from torch.nn import functional as F\n",
        "from tqdm import tqdm as tqdm\n",
        "device = torch.device(\"cuda\" if torch.cuda.is_available() else \"cpu\")\n",
        "print(device)"
      ]
    },
    {
      "cell_type": "code",
      "execution_count": 4,
      "metadata": {
        "id": "-Dmy2iPWlgnc"
      },
      "outputs": [],
      "source": [
        "from torch.utils.tensorboard import SummaryWriter\n",
        "\n",
        "writer = SummaryWriter('runs/hard_attention')"
      ]
    },
    {
      "cell_type": "markdown",
      "metadata": {
        "id": "F6fjud_Fr0Sa"
      },
      "source": [
        "# Generate dataset"
      ]
    },
    {
      "cell_type": "code",
      "execution_count": 5,
      "metadata": {
        "colab": {
          "base_uri": "https://localhost:8080/"
        },
        "id": "CqdXHO0Cr0Sd",
        "outputId": "a5faa134-0b5e-410a-e1b6-196f825da77c"
      },
      "outputs": [
        {
          "output_type": "stream",
          "name": "stdout",
          "text": [
            "0 530\n",
            "1 463\n",
            "2 494\n",
            "3 517\n",
            "4 488\n",
            "5 497\n",
            "6 493\n",
            "7 507\n",
            "8 492\n",
            "9 519\n"
          ]
        }
      ],
      "source": [
        "np.random.seed(12)\n",
        "y = np.random.randint(0,10,5000)\n",
        "idx= []\n",
        "for i in range(10):\n",
        "    print(i,sum(y==i))\n",
        "    idx.append(y==i)"
      ]
    },
    {
      "cell_type": "code",
      "execution_count": 6,
      "metadata": {
        "id": "ddhXyODwr0Sk"
      },
      "outputs": [],
      "source": [
        "x = np.zeros((5000,2))"
      ]
    },
    {
      "cell_type": "code",
      "execution_count": 7,
      "metadata": {
        "id": "DyV3N2DIr0Sp"
      },
      "outputs": [],
      "source": [
        "np.random.seed(12)\n",
        "x[idx[0],:] = np.random.multivariate_normal(mean = [5,5],cov=[[0.1,0],[0,0.1]],size=sum(idx[0]))\n",
        "x[idx[1],:] = np.random.multivariate_normal(mean = [-6,7],cov=[[0.1,0],[0,0.1]],size=sum(idx[1]))\n",
        "x[idx[2],:] = np.random.multivariate_normal(mean = [-5,-4],cov=[[0.1,0],[0,0.1]],size=sum(idx[2]))\n",
        "x[idx[3],:] = np.random.multivariate_normal(mean = [-1,0],cov=[[0.1,0],[0,0.1]],size=sum(idx[3]))\n",
        "x[idx[4],:] = np.random.multivariate_normal(mean = [0,2],cov=[[0.1,0],[0,0.1]],size=sum(idx[4]))\n",
        "x[idx[5],:] = np.random.multivariate_normal(mean = [1,0],cov=[[0.1,0],[0,0.1]],size=sum(idx[5]))\n",
        "x[idx[6],:] = np.random.multivariate_normal(mean = [0,-1],cov=[[0.1,0],[0,0.1]],size=sum(idx[6]))\n",
        "x[idx[7],:] = np.random.multivariate_normal(mean = [0,0],cov=[[0.1,0],[0,0.1]],size=sum(idx[7]))\n",
        "x[idx[8],:] = np.random.multivariate_normal(mean = [-0.5,-0.5],cov=[[0.1,0],[0,0.1]],size=sum(idx[8]))\n",
        "x[idx[9],:] = np.random.multivariate_normal(mean = [0.4,0.2],cov=[[0.1,0],[0,0.1]],size=sum(idx[9]))"
      ]
    },
    {
      "cell_type": "code",
      "execution_count": 8,
      "metadata": {
        "colab": {
          "base_uri": "https://localhost:8080/"
        },
        "id": "qh1mDScsU07I",
        "outputId": "641068c4-c5eb-4c45-d658-d4128793624e"
      },
      "outputs": [
        {
          "output_type": "execute_result",
          "data": {
            "text/plain": [
              "(array([5.14957125, 4.78451422]), array([-5.10237232, -4.80310341]))"
            ]
          },
          "metadata": {},
          "execution_count": 8
        }
      ],
      "source": [
        "x[idx[0]][0], x[idx[2]][5] "
      ]
    },
    {
      "cell_type": "code",
      "execution_count": 9,
      "metadata": {
        "colab": {
          "base_uri": "https://localhost:8080/"
        },
        "id": "9Vr5ErQ_wSrV",
        "outputId": "fb34f4a7-f164-4784-cdb1-608eff8d1ee7"
      },
      "outputs": [
        {
          "output_type": "stream",
          "name": "stdout",
          "text": [
            "(5000, 2) (5000,)\n"
          ]
        }
      ],
      "source": [
        "print(x.shape,y.shape)"
      ]
    },
    {
      "cell_type": "code",
      "execution_count": 10,
      "metadata": {
        "id": "NG-3RpffwU_i"
      },
      "outputs": [],
      "source": [
        "idx= []\n",
        "for i in range(10):\n",
        "  idx.append(y==i)"
      ]
    },
    {
      "cell_type": "code",
      "execution_count": 11,
      "metadata": {
        "colab": {
          "base_uri": "https://localhost:8080/",
          "height": 284
        },
        "id": "hJ8Jm7YUr0St",
        "outputId": "01a33467-375a-4d24-f12e-cab89f88f231"
      },
      "outputs": [
        {
          "output_type": "execute_result",
          "data": {
            "text/plain": [
              "<matplotlib.legend.Legend at 0x7fbfda4388d0>"
            ]
          },
          "metadata": {},
          "execution_count": 11
        },
        {
          "output_type": "display_data",
          "data": {
            "image/png": "[encoded data removed]",
            "text/plain": [
              "<Figure size 432x288 with 1 Axes>"
            ]
          },
          "metadata": {
            "needs_background": "light"
          }
        }
      ],
      "source": [
        "for i in range(10):\n",
        "    plt.scatter(x[idx[i],0],x[idx[i],1],label=\"class_\"+str(i))\n",
        "plt.legend(loc='center left', bbox_to_anchor=(1, 0.5))"
      ]
    },
    {
      "cell_type": "code",
      "execution_count": 12,
      "metadata": {
        "id": "fNWgnhUJnWLV"
      },
      "outputs": [],
      "source": [
        "x = ( x -  np.mean(x,axis=0,keepdims=True) ) / np.std(x,axis=0,keepdims=True) \n"
      ]
    },
    {
      "cell_type": "code",
      "execution_count": 13,
      "metadata": {
        "colab": {
          "base_uri": "https://localhost:8080/",
          "height": 284
        },
        "id": "8-VLhUfDDeHt",
        "outputId": "c7e125a9-0534-4a46-9990-676a413c19bd"
      },
      "outputs": [
        {
          "output_type": "execute_result",
          "data": {
            "text/plain": [
              "<matplotlib.legend.Legend at 0x7fbfd9f1c890>"
            ]
          },
          "metadata": {},
          "execution_count": 13
        },
        {
          "output_type": "display_data",
          "data": {
            "image/png": "[encoded data removed]",
            "text/plain": [
              "<Figure size 432x288 with 1 Axes>"
            ]
          },
          "metadata": {
            "needs_background": "light"
          }
        }
      ],
      "source": [
        "for i in range(10):\n",
        "    plt.scatter(x[idx[i],0],x[idx[i],1],label=\"class_\"+str(i))\n",
        "plt.legend(loc='center left', bbox_to_anchor=(1, 0.5))"
      ]
    },
    {
      "cell_type": "code",
      "execution_count": 14,
      "metadata": {
        "id": "UfFHcZJOr0Sz"
      },
      "outputs": [],
      "source": [
        "foreground_classes = {'class_0','class_1' }\n",
        "\n",
        "background_classes = {'bg_classes',}"
      ]
    },
    {
      "cell_type": "code",
      "execution_count": 15,
      "metadata": {
        "colab": {
          "base_uri": "https://localhost:8080/"
        },
        "id": "jqbvfbwVr0TN",
        "outputId": "36eecb1e-ad3f-4c1f-ccf9-124c92007e31"
      },
      "outputs": [
        {
          "output_type": "stream",
          "name": "stderr",
          "text": [
            "100%|██████████| 1100/1100 [00:00<00:00, 2664.60it/s]\n"
          ]
        }
      ],
      "source": [
        "desired_num = 1100\n",
        "mosaic_list_of_images =[]\n",
        "mosaic_label = []\n",
        "fore_idx=[]\n",
        "m = 5\n",
        "for j in tqdm(range(desired_num)):\n",
        "    np.random.seed(j)\n",
        "    fg_class  = np.random.randint(0,3)\n",
        "    fg_idx = np.random.randint(0,m)\n",
        "    a = []\n",
        "    for i in range(m):\n",
        "        if i == fg_idx:\n",
        "            b = np.random.choice(np.where(idx[fg_class]==True)[0],size=1)\n",
        "            a.append(x[b])\n",
        "#             print(\"foreground \"+str(fg_class)+\" present at \" + str(fg_idx))\n",
        "        else:\n",
        "            bg_class = np.random.randint(3,10)\n",
        "            b = np.random.choice(np.where(idx[bg_class]==True)[0],size=1)\n",
        "            a.append(x[b])\n",
        "#             print(\"background \"+str(bg_class)+\" present at \" + str(i))\n",
        "    a = np.concatenate(a,axis=0)\n",
        "    mosaic_list_of_images.append(np.reshape(a,(m,2)))\n",
        "    mosaic_label.append(fg_class)\n",
        "    fore_idx.append(fg_idx)"
      ]
    },
    {
      "cell_type": "code",
      "execution_count": 16,
      "metadata": {
        "id": "BOsFmWfMr0TR"
      },
      "outputs": [],
      "source": [
        "# mosaic_list_of_images = np.concatenate(mosaic_list_of_images,axis=1).T\n"
      ]
    },
    {
      "cell_type": "code",
      "execution_count": 17,
      "metadata": {
        "colab": {
          "base_uri": "https://localhost:8080/"
        },
        "id": "2aIPMgLXNiXW",
        "outputId": "5eaa461c-5984-4080-eb6b-2218777d705c"
      },
      "outputs": [
        {
          "output_type": "execute_result",
          "data": {
            "text/plain": [
              "(1100, array([[ 1.83113999,  1.62840938],\n",
              "        [ 0.28928769,  0.27024286],\n",
              "        [ 0.01325566, -0.46466631],\n",
              "        [ 0.25333695, -0.2464531 ],\n",
              "        [ 0.33787047, -0.29907248]]), (5, 2))"
            ]
          },
          "metadata": {},
          "execution_count": 17
        }
      ],
      "source": [
        "len(mosaic_list_of_images), mosaic_list_of_images[0],mosaic_list_of_images[0].shape"
      ]
    },
    {
      "cell_type": "code",
      "execution_count": 18,
      "metadata": {
        "id": "iPoIwbMHx44n"
      },
      "outputs": [],
      "source": [
        "class MosaicDataset(Dataset):\n",
        "  \"\"\"MosaicDataset dataset.\"\"\"\n",
        "\n",
        "  def __init__(self, mosaic_list_of_images, mosaic_label, fore_idx):\n",
        "    \"\"\"\n",
        "      Args:\n",
        "        csv_file (string): Path to the csv file with annotations.\n",
        "        root_dir (string): Directory with all the images.\n",
        "        transform (callable, optional): Optional transform to be applied\n",
        "            on a sample.\n",
        "    \"\"\"\n",
        "    self.mosaic = mosaic_list_of_images\n",
        "    self.label = mosaic_label\n",
        "    self.fore_idx = fore_idx\n",
        "\n",
        "  def __len__(self):\n",
        "    return len(self.label)\n",
        "\n",
        "  def __getitem__(self, idx):\n",
        "    return self.mosaic[idx] , self.label[idx], self.fore_idx[idx]\n",
        "\n"
      ]
    },
    {
      "cell_type": "code",
      "execution_count": 19,
      "metadata": {
        "id": "fOPAJQJeW8Ah"
      },
      "outputs": [],
      "source": [
        "batch = 50\n",
        "msd1 = MosaicDataset(mosaic_list_of_images[0:100], mosaic_label[0:100] , fore_idx[0:100])\n",
        "train_loader = DataLoader( msd1 ,batch_size= batch ,shuffle=True)"
      ]
    },
    {
      "cell_type": "code",
      "execution_count": 20,
      "metadata": {
        "id": "aWBIcyvGApLt"
      },
      "outputs": [],
      "source": [
        "data,_,_=iter(train_loader).next()"
      ]
    },
    {
      "cell_type": "code",
      "execution_count": 21,
      "metadata": {
        "colab": {
          "base_uri": "https://localhost:8080/"
        },
        "id": "cauJIvKEAxKM",
        "outputId": "a1b20e40-651d-423f-8582-46c6264c7f6a"
      },
      "outputs": [
        {
          "output_type": "execute_result",
          "data": {
            "text/plain": [
              "torch.Size([50, 5, 2])"
            ]
          },
          "metadata": {},
          "execution_count": 21
        }
      ],
      "source": [
        "data.shape"
      ]
    },
    {
      "cell_type": "code",
      "execution_count": 22,
      "metadata": {
        "id": "qjNiQgxZW8bA"
      },
      "outputs": [],
      "source": [
        "batch = 250\n",
        "msd2 = MosaicDataset(mosaic_list_of_images[100:], mosaic_label[100:] , fore_idx[100:])\n",
        "test_loader = DataLoader( msd2 ,batch_size= batch ,shuffle=True)"
      ]
    },
    {
      "cell_type": "code",
      "execution_count": 23,
      "metadata": {
        "id": "yda1E5ApiKpH"
      },
      "outputs": [],
      "source": [
        "class Focus(nn.Module):\n",
        "    def __init__(self):\n",
        "        super(Focus, self).__init__()\n",
        "        self.fc1 = nn.Linear(2,1, bias=False)\n",
        "        torch.nn.init.xavier_normal_(self.fc1.weight)\n",
        "        #self.fc2 = nn.Linear(64, 1, bias=False)\n",
        "        #torch.nn.init.xavier_normal_(self.fc2.weight)\n",
        "\n",
        "    def forward(self,z):\n",
        "        #print(\"data\",z)\n",
        "        batch = z.size(0)\n",
        "        patches = z.size(1)\n",
        "        z = z.view(batch,patches,2*1)\n",
        "        alp1,ft1 = self.helper(z)\n",
        "\n",
        "        alpha = F.softmax(alp1,dim=1)\n",
        "        #print(self.training)\n",
        "        \n",
        "        if self.training:\n",
        "            alpha =alpha[:,:,0]\n",
        "            y = ft1 \n",
        "            return alpha,y\n",
        "        else:\n",
        "            #alpha_cumsum = torch.cumsum(alpha, dim = 1)\n",
        "            #print(alpha_cumsum)\n",
        "            #len_batch = alpha_cumsum.size(0)\n",
        "            #patches = alpha_cumsum.size(1)\n",
        "            #rand_prob = torch.rand(len_batch,patches, 1).to(device)\n",
        "            #alpha_relu = F.relu(rand_prob-alpha_cumsum)\n",
        "            #print(alpha_relu)\n",
        "            #alpha_index = torch.count_nonzero(alpha_relu,dim=1)\n",
        "            #alpha_hard = F.one_hot(alpha_index,num_classes=patches)\n",
        "            #print(alpha_hard)\n",
        "            #alpha_hard = torch.transpose(alpha_hard,dim0=1,dim1=2)\n",
        "            #print(ft1,\"alpha_hard\",alpha_hard) \n",
        "            #y = torch.sum(alpha_hard*ft1,dim=1)\n",
        "            #print(alpha,alpha.shape)\n",
        "         \n",
        "        \n",
        "            index = torch.argmax(alpha,dim=1)\n",
        "            hard_alpha = torch.nn.functional.one_hot(index[:,0], patches)\n",
        "            y = torch.sum(hard_alpha[:,:,None]*ft1,dim=1)\n",
        "            alpha = alpha[:,:,0]\n",
        "            return alpha,y\n",
        "    \n",
        "    def helper(self, x):\n",
        "        x1 = x\n",
        "        x = self.fc1(x)\n",
        "        return x,x1"
      ]
    },
    {
      "cell_type": "code",
      "execution_count": 24,
      "metadata": {
        "id": "0dYXnywAD-4l"
      },
      "outputs": [],
      "source": [
        "class Classification(nn.Module):\n",
        "  def __init__(self):\n",
        "    super(Classification, self).__init__()\n",
        "    self.fc1 = nn.Linear(2, 50)\n",
        "    self.fc2 = nn.Linear(50,3)\n",
        "    torch.nn.init.xavier_normal_(self.fc1.weight)\n",
        "    torch.nn.init.zeros_(self.fc1.bias)\n",
        "    torch.nn.init.xavier_normal_(self.fc2.weight)\n",
        "    torch.nn.init.zeros_(self.fc2.bias)\n",
        "  def forward(self, x):\n",
        "    #print(x.shape)\n",
        "    #x = x.view(-1, 1)\n",
        "    #print(x.shape)\n",
        "    x = F.relu(self.fc1(x))\n",
        "    x = self.fc2(x)\n",
        "    # print(x.shape)\n",
        "    return x"
      ]
    },
    {
      "cell_type": "code",
      "execution_count": 25,
      "metadata": {
        "id": "lSa6O9f6XNf4"
      },
      "outputs": [],
      "source": [
        "torch.manual_seed(12)\n",
        "focus_net = Focus().double()\n",
        "focus_net = focus_net.to(device)"
      ]
    },
    {
      "cell_type": "code",
      "execution_count": 26,
      "metadata": {
        "id": "36k3H2G-XO9A"
      },
      "outputs": [],
      "source": [
        "torch.manual_seed(12)\n",
        "classify = Classification().double()\n",
        "classify = classify.to(device)"
      ]
    },
    {
      "cell_type": "code",
      "execution_count": 27,
      "metadata": {
        "id": "bK78aII8-GDl"
      },
      "outputs": [],
      "source": [
        "import torch.optim as optim\n",
        "optimizer_classify = optim.Adam(classify.parameters(), lr=0.01 ) #, momentum=0.9)\n",
        "optimizer_focus = optim.Adam(focus_net.parameters(), lr=0.01 ) #, momentum=0.9)"
      ]
    },
    {
      "cell_type": "code",
      "execution_count": 28,
      "metadata": {
        "id": "h0mjWiFG-GDl"
      },
      "outputs": [],
      "source": [
        "def my_cross_entropy(output,target,alpha):\n",
        "    criterion = nn.CrossEntropyLoss(reduce=False)\n",
        "    \n",
        "    batch = output.size(0)\n",
        "    #print(batch)\n",
        "    patches = output.size(1)\n",
        "    classes = output.size(2)\n",
        "    \n",
        "    \n",
        "    \n",
        "    output = torch.reshape(output,(batch*patches,classes))\n",
        "    \n",
        "    \n",
        "    target = target.repeat_interleave(patches)\n",
        "    \n",
        "    loss = criterion(output,target)\n",
        "    \n",
        "    #print(loss,loss.shape)\n",
        "    loss = torch.reshape(loss,(batch,patches))\n",
        "    #print(loss.size())\n",
        "    final_loss = torch.sum(torch.mul(loss,alpha),dim=1)\n",
        "    #print(final_loss.shape)\n",
        "    final_loss = torch.mean(final_loss,dim=0)\n",
        "    \n",
        "    \n",
        "    \n",
        "    #print(final_loss)\n",
        "    return final_loss\n",
        "    \n",
        "    \n",
        "    "
      ]
    },
    {
      "cell_type": "code",
      "execution_count": 29,
      "metadata": {
        "id": "pjD2VZuV9Ed4"
      },
      "outputs": [],
      "source": [
        "col1=[]\n",
        "col2=[]\n",
        "col3=[]\n",
        "col4=[]\n",
        "col5=[]\n",
        "col6=[]\n",
        "col7=[]\n",
        "col8=[]\n",
        "col9=[]\n",
        "col10=[]\n",
        "col11=[]\n",
        "col12=[]\n",
        "col13=[]"
      ]
    },
    {
      "cell_type": "code",
      "execution_count": 30,
      "metadata": {
        "id": "eEVrBg7d-GDl"
      },
      "outputs": [],
      "source": [
        "def plot_attended_data(trainloader,net,epoch):\n",
        "    attd_data =[]\n",
        "    lbls = []\n",
        "    for data in trainloader:\n",
        "        inputs, labels , fore_idx = data\n",
        "        inputs = inputs.double()\n",
        "        inputs, labels , fore_idx = inputs.to(device),labels.to(device), fore_idx.to(device)\n",
        "        alphas, avg_images = focus_net(inputs)\n",
        "        attd_data.append(avg_images.numpy())\n",
        "        lbls.append(labels)\n",
        "    attd_data = np.concatenate(attd_data,axis=0)\n",
        "    lbls = np.concatenate(lbls,axis=0)\n",
        "    plt.figure(figsize=(6,8))\n",
        "    plt.scatter(attd_data[:,0],attd_data[:,1],c=lbls)\n",
        "    plt.title(\"EPOCH_\"+str(epoch))"
      ]
    },
    {
      "cell_type": "code",
      "execution_count": 31,
      "metadata": {
        "id": "uALi25pmzQHV",
        "outputId": "b174541d-3cfd-47ce-e31d-aee7f51c491d",
        "colab": {
          "base_uri": "https://localhost:8080/"
        }
      },
      "outputs": [
        {
          "output_type": "stream",
          "name": "stdout",
          "text": [
            "tensor(1.1164, device='cuda:0', dtype=torch.float64)\n",
            "tensor(1.1494, device='cuda:0', dtype=torch.float64)\n",
            "====================================================================================================\n"
          ]
        },
        {
          "output_type": "stream",
          "name": "stderr",
          "text": [
            "/usr/local/lib/python3.7/dist-packages/torch/nn/_reduction.py:42: UserWarning: size_average and reduce args will be deprecated, please use reduction='none' instead.\n",
            "  warnings.warn(warning.format(ret))\n"
          ]
        }
      ],
      "source": [
        "correct = 0\n",
        "total = 0\n",
        "count = 0\n",
        "flag = 1\n",
        "\n",
        "\n",
        "with torch.no_grad():\n",
        "  for data in train_loader:\n",
        "    inputs, labels , fore_idx = data\n",
        "    inputs = inputs.double()\n",
        "    inputs, labels , fore_idx = inputs.to(device),labels.to(device), fore_idx.to(device)\n",
        "    alphas, avg_images = focus_net(inputs)\n",
        "    outputs = classify(avg_images)\n",
        "    loss = my_cross_entropy(outputs,labels,alphas)\n",
        "    print(loss)\n",
        "    # print(outputs.shape)\n",
        "    _, predicted = torch.max(outputs.data, 1)\n",
        "\n",
        "\n",
        "print(\"=\"*100)\n",
        "\n"
      ]
    },
    {
      "cell_type": "code",
      "execution_count": 32,
      "metadata": {
        "id": "4vmNprlPzTjP"
      },
      "outputs": [],
      "source": [
        "correct = 0\n",
        "total = 0\n",
        "count = 0\n",
        "flag = 1\n",
        "\n",
        "\n",
        "with torch.no_grad():\n",
        "  for data in test_loader:\n",
        "    inputs, labels , fore_idx = data\n",
        "    inputs = inputs.double()\n",
        "    inputs, labels , fore_idx = inputs.to(device),labels.to(device), fore_idx.to(device)\n",
        "    alphas, avg_images = focus_net(inputs)\n",
        "    outputs = classify(avg_images)\n",
        "\n",
        "    _, predicted = torch.max(outputs.data, 1)\n"
      ]
    },
    {
      "cell_type": "code",
      "execution_count": 33,
      "metadata": {
        "id": "_nvicAzw-GDm",
        "outputId": "1795af78-2443-434b-8329-2c0cd7e51fab",
        "colab": {
          "base_uri": "https://localhost:8080/"
        }
      },
      "outputs": [
        {
          "output_type": "stream",
          "name": "stdout",
          "text": [
            "('fc1.weight', Parameter containing:\n",
            "tensor([[-0.4664, -0.4478]], device='cuda:0', dtype=torch.float64,\n",
            "       requires_grad=True))\n"
          ]
        }
      ],
      "source": [
        "for param in focus_net.named_parameters():\n",
        "    print(param)"
      ]
    },
    {
      "cell_type": "code",
      "execution_count": 34,
      "metadata": {
        "id": "Yl41sE8vFERk",
        "outputId": "ceff486e-8654-4cef-97d5-a12ee7110930",
        "colab": {
          "base_uri": "https://localhost:8080/"
        }
      },
      "outputs": [
        {
          "output_type": "stream",
          "name": "stdout",
          "text": [
            "[1,     2] loss: 1.101\n",
            "[2,     2] loss: 0.996\n",
            "[3,     2] loss: 0.917\n",
            "[4,     2] loss: 0.868\n",
            "[5,     2] loss: 0.835\n",
            "[6,     2] loss: 0.811\n",
            "[7,     2] loss: 0.792\n",
            "[8,     2] loss: 0.775\n",
            "[9,     2] loss: 0.762\n",
            "[10,     2] loss: 0.750\n",
            "[11,     2] loss: 0.740\n",
            "[12,     2] loss: 0.729\n",
            "[13,     2] loss: 0.720\n",
            "[14,     2] loss: 0.709\n",
            "[15,     2] loss: 0.697\n",
            "[16,     2] loss: 0.687\n"
          ]
        },
        {
          "output_type": "stream",
          "name": "stderr",
          "text": [
            "/usr/local/lib/python3.7/dist-packages/torch/nn/_reduction.py:42: UserWarning: size_average and reduce args will be deprecated, please use reduction='none' instead.\n",
            "  warnings.warn(warning.format(ret))\n"
          ]
        },
        {
          "output_type": "stream",
          "name": "stdout",
          "text": [
            "[17,     2] loss: 0.675\n",
            "[18,     2] loss: 0.664\n",
            "[19,     2] loss: 0.653\n",
            "[20,     2] loss: 0.641\n",
            "[21,     2] loss: 0.630\n",
            "[22,     2] loss: 0.619\n",
            "[23,     2] loss: 0.607\n",
            "[24,     2] loss: 0.595\n",
            "[25,     2] loss: 0.583\n",
            "[26,     2] loss: 0.571\n",
            "[27,     2] loss: 0.559\n",
            "[28,     2] loss: 0.547\n",
            "[29,     2] loss: 0.536\n",
            "[30,     2] loss: 0.523\n",
            "[31,     2] loss: 0.512\n",
            "[32,     2] loss: 0.501\n",
            "[33,     2] loss: 0.490\n",
            "[34,     2] loss: 0.479\n",
            "[35,     2] loss: 0.468\n",
            "[36,     2] loss: 0.459\n",
            "[37,     2] loss: 0.449\n",
            "[38,     2] loss: 0.440\n",
            "[39,     2] loss: 0.431\n",
            "[40,     2] loss: 0.423\n",
            "[41,     2] loss: 0.414\n",
            "[42,     2] loss: 0.407\n",
            "[43,     2] loss: 0.400\n",
            "[44,     2] loss: 0.393\n",
            "[45,     2] loss: 0.386\n",
            "[46,     2] loss: 0.380\n",
            "[47,     2] loss: 0.373\n",
            "[48,     2] loss: 0.367\n",
            "[49,     2] loss: 0.362\n",
            "[50,     2] loss: 0.356\n",
            "[51,     2] loss: 0.351\n",
            "[52,     2] loss: 0.346\n",
            "[53,     2] loss: 0.341\n",
            "[54,     2] loss: 0.337\n",
            "[55,     2] loss: 0.332\n",
            "[56,     2] loss: 0.328\n",
            "[57,     2] loss: 0.323\n",
            "[58,     2] loss: 0.319\n",
            "[59,     2] loss: 0.315\n",
            "[60,     2] loss: 0.310\n",
            "[61,     2] loss: 0.306\n",
            "[62,     2] loss: 0.302\n",
            "[63,     2] loss: 0.298\n",
            "[64,     2] loss: 0.294\n",
            "[65,     2] loss: 0.290\n",
            "[66,     2] loss: 0.286\n",
            "[67,     2] loss: 0.282\n",
            "[68,     2] loss: 0.278\n",
            "[69,     2] loss: 0.274\n",
            "[70,     2] loss: 0.271\n",
            "[71,     2] loss: 0.267\n",
            "[72,     2] loss: 0.263\n",
            "[73,     2] loss: 0.259\n",
            "[74,     2] loss: 0.255\n",
            "[75,     2] loss: 0.252\n",
            "[76,     2] loss: 0.248\n",
            "[77,     2] loss: 0.244\n",
            "[78,     2] loss: 0.240\n",
            "[79,     2] loss: 0.237\n",
            "[80,     2] loss: 0.233\n",
            "[81,     2] loss: 0.229\n",
            "[82,     2] loss: 0.226\n",
            "[83,     2] loss: 0.222\n",
            "[84,     2] loss: 0.219\n",
            "[85,     2] loss: 0.215\n",
            "[86,     2] loss: 0.212\n",
            "[87,     2] loss: 0.209\n",
            "[88,     2] loss: 0.205\n",
            "[89,     2] loss: 0.202\n",
            "[90,     2] loss: 0.199\n",
            "[91,     2] loss: 0.196\n",
            "[92,     2] loss: 0.193\n",
            "[93,     2] loss: 0.190\n",
            "[94,     2] loss: 0.187\n",
            "[95,     2] loss: 0.184\n",
            "[96,     2] loss: 0.181\n",
            "[97,     2] loss: 0.178\n",
            "[98,     2] loss: 0.176\n",
            "[99,     2] loss: 0.173\n",
            "[100,     2] loss: 0.170\n",
            "[101,     2] loss: 0.168\n",
            "[102,     2] loss: 0.165\n",
            "[103,     2] loss: 0.162\n",
            "[104,     2] loss: 0.160\n",
            "[105,     2] loss: 0.158\n",
            "[106,     2] loss: 0.155\n",
            "[107,     2] loss: 0.153\n",
            "[108,     2] loss: 0.151\n",
            "[109,     2] loss: 0.149\n",
            "[110,     2] loss: 0.146\n",
            "[111,     2] loss: 0.144\n",
            "[112,     2] loss: 0.142\n",
            "[113,     2] loss: 0.140\n",
            "[114,     2] loss: 0.138\n",
            "[115,     2] loss: 0.136\n",
            "[116,     2] loss: 0.134\n",
            "[117,     2] loss: 0.132\n",
            "[118,     2] loss: 0.130\n",
            "[119,     2] loss: 0.129\n",
            "[120,     2] loss: 0.127\n",
            "[121,     2] loss: 0.125\n",
            "[122,     2] loss: 0.123\n",
            "[123,     2] loss: 0.122\n",
            "[124,     2] loss: 0.120\n",
            "[125,     2] loss: 0.119\n",
            "[126,     2] loss: 0.117\n",
            "[127,     2] loss: 0.115\n",
            "[128,     2] loss: 0.114\n",
            "[129,     2] loss: 0.113\n",
            "[130,     2] loss: 0.111\n",
            "[131,     2] loss: 0.110\n",
            "[132,     2] loss: 0.108\n",
            "[133,     2] loss: 0.107\n",
            "[134,     2] loss: 0.106\n",
            "[135,     2] loss: 0.104\n",
            "[136,     2] loss: 0.103\n",
            "[137,     2] loss: 0.102\n",
            "[138,     2] loss: 0.100\n",
            "[139,     2] loss: 0.099\n",
            "[140,     2] loss: 0.098\n",
            "[141,     2] loss: 0.097\n",
            "[142,     2] loss: 0.096\n",
            "[143,     2] loss: 0.095\n",
            "[144,     2] loss: 0.093\n",
            "[145,     2] loss: 0.092\n",
            "[146,     2] loss: 0.091\n",
            "[147,     2] loss: 0.090\n",
            "[148,     2] loss: 0.089\n",
            "[149,     2] loss: 0.088\n",
            "[150,     2] loss: 0.087\n",
            "[151,     2] loss: 0.086\n",
            "[152,     2] loss: 0.085\n",
            "[153,     2] loss: 0.084\n",
            "[154,     2] loss: 0.083\n",
            "[155,     2] loss: 0.083\n",
            "[156,     2] loss: 0.082\n",
            "[157,     2] loss: 0.081\n",
            "[158,     2] loss: 0.080\n",
            "[159,     2] loss: 0.079\n",
            "[160,     2] loss: 0.078\n",
            "[161,     2] loss: 0.077\n",
            "[162,     2] loss: 0.077\n",
            "[163,     2] loss: 0.076\n",
            "[164,     2] loss: 0.075\n",
            "[165,     2] loss: 0.074\n",
            "[166,     2] loss: 0.073\n",
            "[167,     2] loss: 0.073\n",
            "[168,     2] loss: 0.072\n",
            "[169,     2] loss: 0.071\n",
            "[170,     2] loss: 0.071\n",
            "[171,     2] loss: 0.070\n",
            "[172,     2] loss: 0.069\n",
            "[173,     2] loss: 0.068\n",
            "[174,     2] loss: 0.068\n",
            "[175,     2] loss: 0.067\n",
            "[176,     2] loss: 0.066\n",
            "[177,     2] loss: 0.066\n",
            "[178,     2] loss: 0.065\n",
            "[179,     2] loss: 0.065\n",
            "[180,     2] loss: 0.064\n",
            "[181,     2] loss: 0.063\n",
            "[182,     2] loss: 0.063\n",
            "[183,     2] loss: 0.062\n",
            "[184,     2] loss: 0.062\n",
            "[185,     2] loss: 0.061\n",
            "[186,     2] loss: 0.060\n",
            "[187,     2] loss: 0.060\n",
            "[188,     2] loss: 0.059\n",
            "[189,     2] loss: 0.059\n",
            "[190,     2] loss: 0.058\n",
            "[191,     2] loss: 0.058\n",
            "[192,     2] loss: 0.057\n",
            "[193,     2] loss: 0.057\n",
            "[194,     2] loss: 0.056\n",
            "[195,     2] loss: 0.056\n",
            "[196,     2] loss: 0.055\n",
            "[197,     2] loss: 0.055\n",
            "[198,     2] loss: 0.054\n",
            "[199,     2] loss: 0.054\n",
            "[200,     2] loss: 0.053\n",
            "[201,     2] loss: 0.053\n",
            "[202,     2] loss: 0.053\n",
            "[203,     2] loss: 0.052\n",
            "[204,     2] loss: 0.052\n",
            "[205,     2] loss: 0.051\n",
            "[206,     2] loss: 0.051\n",
            "[207,     2] loss: 0.050\n",
            "[208,     2] loss: 0.050\n",
            "[209,     2] loss: 0.050\n",
            "[210,     2] loss: 0.049\n",
            "[211,     2] loss: 0.049\n",
            "[212,     2] loss: 0.048\n",
            "[213,     2] loss: 0.048\n",
            "[214,     2] loss: 0.048\n",
            "[215,     2] loss: 0.047\n",
            "[216,     2] loss: 0.047\n",
            "[217,     2] loss: 0.046\n",
            "[218,     2] loss: 0.046\n",
            "[219,     2] loss: 0.046\n",
            "[220,     2] loss: 0.045\n",
            "[221,     2] loss: 0.045\n",
            "[222,     2] loss: 0.045\n",
            "[223,     2] loss: 0.044\n",
            "[224,     2] loss: 0.044\n",
            "[225,     2] loss: 0.044\n",
            "[226,     2] loss: 0.043\n",
            "[227,     2] loss: 0.043\n",
            "[228,     2] loss: 0.043\n",
            "[229,     2] loss: 0.042\n",
            "[230,     2] loss: 0.042\n",
            "[231,     2] loss: 0.042\n",
            "[232,     2] loss: 0.041\n",
            "[233,     2] loss: 0.041\n",
            "[234,     2] loss: 0.041\n",
            "[235,     2] loss: 0.041\n",
            "[236,     2] loss: 0.040\n",
            "[237,     2] loss: 0.040\n",
            "[238,     2] loss: 0.040\n",
            "[239,     2] loss: 0.039\n",
            "[240,     2] loss: 0.039\n",
            "[241,     2] loss: 0.039\n",
            "[242,     2] loss: 0.039\n",
            "[243,     2] loss: 0.038\n",
            "[244,     2] loss: 0.038\n",
            "[245,     2] loss: 0.038\n",
            "[246,     2] loss: 0.038\n",
            "[247,     2] loss: 0.037\n",
            "[248,     2] loss: 0.037\n",
            "[249,     2] loss: 0.037\n",
            "[250,     2] loss: 0.037\n",
            "[251,     2] loss: 0.036\n",
            "[252,     2] loss: 0.036\n",
            "[253,     2] loss: 0.036\n",
            "[254,     2] loss: 0.036\n",
            "[255,     2] loss: 0.035\n",
            "[256,     2] loss: 0.035\n",
            "[257,     2] loss: 0.035\n",
            "[258,     2] loss: 0.035\n",
            "[259,     2] loss: 0.034\n",
            "[260,     2] loss: 0.034\n",
            "[261,     2] loss: 0.034\n",
            "[262,     2] loss: 0.034\n",
            "[263,     2] loss: 0.034\n",
            "[264,     2] loss: 0.033\n",
            "[265,     2] loss: 0.033\n",
            "[266,     2] loss: 0.033\n",
            "[267,     2] loss: 0.033\n",
            "[268,     2] loss: 0.032\n",
            "[269,     2] loss: 0.032\n",
            "[270,     2] loss: 0.032\n",
            "[271,     2] loss: 0.032\n",
            "[272,     2] loss: 0.032\n",
            "[273,     2] loss: 0.031\n",
            "[274,     2] loss: 0.031\n",
            "[275,     2] loss: 0.031\n",
            "[276,     2] loss: 0.031\n",
            "[277,     2] loss: 0.031\n",
            "[278,     2] loss: 0.030\n",
            "[279,     2] loss: 0.030\n",
            "[280,     2] loss: 0.030\n",
            "[281,     2] loss: 0.030\n",
            "[282,     2] loss: 0.030\n",
            "[283,     2] loss: 0.030\n",
            "[284,     2] loss: 0.029\n",
            "[285,     2] loss: 0.029\n",
            "[286,     2] loss: 0.029\n",
            "[287,     2] loss: 0.029\n",
            "[288,     2] loss: 0.029\n",
            "[289,     2] loss: 0.029\n",
            "[290,     2] loss: 0.028\n",
            "[291,     2] loss: 0.028\n",
            "[292,     2] loss: 0.028\n",
            "[293,     2] loss: 0.028\n",
            "[294,     2] loss: 0.028\n",
            "[295,     2] loss: 0.028\n",
            "[296,     2] loss: 0.027\n",
            "[297,     2] loss: 0.027\n",
            "[298,     2] loss: 0.027\n",
            "[299,     2] loss: 0.027\n",
            "[300,     2] loss: 0.027\n",
            "[301,     2] loss: 0.027\n",
            "[302,     2] loss: 0.026\n",
            "[303,     2] loss: 0.026\n",
            "[304,     2] loss: 0.026\n",
            "[305,     2] loss: 0.026\n",
            "[306,     2] loss: 0.026\n",
            "[307,     2] loss: 0.026\n",
            "[308,     2] loss: 0.026\n",
            "[309,     2] loss: 0.025\n",
            "[310,     2] loss: 0.025\n",
            "[311,     2] loss: 0.025\n",
            "[312,     2] loss: 0.025\n",
            "[313,     2] loss: 0.025\n",
            "[314,     2] loss: 0.025\n",
            "[315,     2] loss: 0.025\n",
            "[316,     2] loss: 0.024\n",
            "[317,     2] loss: 0.024\n",
            "[318,     2] loss: 0.024\n",
            "[319,     2] loss: 0.024\n",
            "[320,     2] loss: 0.024\n",
            "[321,     2] loss: 0.024\n",
            "[322,     2] loss: 0.024\n",
            "[323,     2] loss: 0.024\n",
            "[324,     2] loss: 0.023\n",
            "[325,     2] loss: 0.023\n",
            "[326,     2] loss: 0.023\n",
            "[327,     2] loss: 0.023\n",
            "[328,     2] loss: 0.023\n",
            "[329,     2] loss: 0.023\n",
            "[330,     2] loss: 0.023\n",
            "[331,     2] loss: 0.023\n",
            "[332,     2] loss: 0.023\n",
            "[333,     2] loss: 0.022\n",
            "[334,     2] loss: 0.022\n",
            "[335,     2] loss: 0.022\n",
            "[336,     2] loss: 0.022\n",
            "[337,     2] loss: 0.022\n",
            "[338,     2] loss: 0.022\n",
            "[339,     2] loss: 0.022\n",
            "[340,     2] loss: 0.022\n",
            "[341,     2] loss: 0.022\n",
            "[342,     2] loss: 0.021\n",
            "[343,     2] loss: 0.021\n",
            "[344,     2] loss: 0.021\n",
            "[345,     2] loss: 0.021\n",
            "[346,     2] loss: 0.021\n",
            "[347,     2] loss: 0.021\n",
            "[348,     2] loss: 0.021\n",
            "[349,     2] loss: 0.021\n",
            "[350,     2] loss: 0.021\n",
            "[351,     2] loss: 0.020\n",
            "[352,     2] loss: 0.020\n",
            "[353,     2] loss: 0.020\n",
            "[354,     2] loss: 0.020\n",
            "[355,     2] loss: 0.020\n",
            "[356,     2] loss: 0.020\n",
            "[357,     2] loss: 0.020\n",
            "[358,     2] loss: 0.020\n",
            "[359,     2] loss: 0.020\n",
            "[360,     2] loss: 0.020\n",
            "[361,     2] loss: 0.020\n",
            "[362,     2] loss: 0.019\n",
            "[363,     2] loss: 0.019\n",
            "[364,     2] loss: 0.019\n",
            "[365,     2] loss: 0.019\n",
            "[366,     2] loss: 0.019\n",
            "[367,     2] loss: 0.019\n",
            "[368,     2] loss: 0.019\n",
            "[369,     2] loss: 0.019\n",
            "[370,     2] loss: 0.019\n",
            "[371,     2] loss: 0.019\n",
            "[372,     2] loss: 0.019\n",
            "[373,     2] loss: 0.018\n",
            "[374,     2] loss: 0.018\n",
            "[375,     2] loss: 0.018\n",
            "[376,     2] loss: 0.018\n",
            "[377,     2] loss: 0.018\n",
            "[378,     2] loss: 0.018\n",
            "[379,     2] loss: 0.018\n",
            "[380,     2] loss: 0.018\n",
            "[381,     2] loss: 0.018\n",
            "[382,     2] loss: 0.018\n",
            "[383,     2] loss: 0.018\n",
            "[384,     2] loss: 0.018\n",
            "[385,     2] loss: 0.017\n",
            "[386,     2] loss: 0.017\n",
            "[387,     2] loss: 0.017\n",
            "[388,     2] loss: 0.017\n",
            "[389,     2] loss: 0.017\n",
            "[390,     2] loss: 0.017\n",
            "[391,     2] loss: 0.017\n",
            "[392,     2] loss: 0.017\n",
            "[393,     2] loss: 0.017\n",
            "[394,     2] loss: 0.017\n",
            "[395,     2] loss: 0.017\n",
            "[396,     2] loss: 0.017\n",
            "[397,     2] loss: 0.017\n",
            "[398,     2] loss: 0.017\n",
            "[399,     2] loss: 0.016\n",
            "[400,     2] loss: 0.016\n",
            "[401,     2] loss: 0.016\n",
            "[402,     2] loss: 0.016\n",
            "[403,     2] loss: 0.016\n",
            "[404,     2] loss: 0.016\n",
            "[405,     2] loss: 0.016\n",
            "[406,     2] loss: 0.016\n",
            "[407,     2] loss: 0.016\n",
            "[408,     2] loss: 0.016\n",
            "[409,     2] loss: 0.016\n",
            "[410,     2] loss: 0.016\n",
            "[411,     2] loss: 0.016\n",
            "[412,     2] loss: 0.016\n",
            "[413,     2] loss: 0.016\n",
            "[414,     2] loss: 0.015\n",
            "[415,     2] loss: 0.015\n",
            "[416,     2] loss: 0.015\n",
            "[417,     2] loss: 0.015\n",
            "[418,     2] loss: 0.015\n",
            "[419,     2] loss: 0.015\n",
            "[420,     2] loss: 0.015\n",
            "[421,     2] loss: 0.015\n",
            "[422,     2] loss: 0.015\n",
            "[423,     2] loss: 0.015\n",
            "[424,     2] loss: 0.015\n",
            "[425,     2] loss: 0.015\n",
            "[426,     2] loss: 0.015\n",
            "[427,     2] loss: 0.015\n",
            "[428,     2] loss: 0.015\n",
            "[429,     2] loss: 0.015\n",
            "[430,     2] loss: 0.014\n",
            "[431,     2] loss: 0.014\n",
            "[432,     2] loss: 0.014\n",
            "[433,     2] loss: 0.014\n",
            "[434,     2] loss: 0.014\n",
            "[435,     2] loss: 0.014\n",
            "[436,     2] loss: 0.014\n",
            "[437,     2] loss: 0.014\n",
            "[438,     2] loss: 0.014\n",
            "[439,     2] loss: 0.014\n",
            "[440,     2] loss: 0.014\n",
            "[441,     2] loss: 0.014\n",
            "[442,     2] loss: 0.014\n",
            "[443,     2] loss: 0.014\n",
            "[444,     2] loss: 0.014\n",
            "[445,     2] loss: 0.014\n",
            "[446,     2] loss: 0.014\n",
            "[447,     2] loss: 0.014\n",
            "[448,     2] loss: 0.013\n",
            "[449,     2] loss: 0.013\n",
            "[450,     2] loss: 0.013\n",
            "[451,     2] loss: 0.013\n",
            "[452,     2] loss: 0.013\n",
            "[453,     2] loss: 0.013\n",
            "[454,     2] loss: 0.013\n",
            "[455,     2] loss: 0.013\n",
            "[456,     2] loss: 0.013\n",
            "[457,     2] loss: 0.013\n",
            "[458,     2] loss: 0.013\n",
            "[459,     2] loss: 0.013\n",
            "[460,     2] loss: 0.013\n",
            "[461,     2] loss: 0.013\n",
            "[462,     2] loss: 0.013\n",
            "[463,     2] loss: 0.013\n",
            "[464,     2] loss: 0.013\n",
            "[465,     2] loss: 0.013\n",
            "[466,     2] loss: 0.013\n",
            "[467,     2] loss: 0.013\n",
            "[468,     2] loss: 0.013\n",
            "[469,     2] loss: 0.012\n",
            "[470,     2] loss: 0.012\n",
            "[471,     2] loss: 0.012\n",
            "[472,     2] loss: 0.012\n",
            "[473,     2] loss: 0.012\n",
            "[474,     2] loss: 0.012\n",
            "[475,     2] loss: 0.012\n",
            "[476,     2] loss: 0.012\n",
            "[477,     2] loss: 0.012\n",
            "[478,     2] loss: 0.012\n",
            "[479,     2] loss: 0.012\n",
            "[480,     2] loss: 0.012\n",
            "[481,     2] loss: 0.012\n",
            "[482,     2] loss: 0.012\n",
            "[483,     2] loss: 0.012\n",
            "[484,     2] loss: 0.012\n",
            "[485,     2] loss: 0.012\n",
            "[486,     2] loss: 0.012\n",
            "[487,     2] loss: 0.012\n",
            "[488,     2] loss: 0.012\n",
            "[489,     2] loss: 0.012\n",
            "[490,     2] loss: 0.012\n",
            "[491,     2] loss: 0.012\n",
            "[492,     2] loss: 0.011\n",
            "[493,     2] loss: 0.011\n",
            "[494,     2] loss: 0.011\n",
            "[495,     2] loss: 0.011\n",
            "[496,     2] loss: 0.011\n",
            "[497,     2] loss: 0.011\n",
            "[498,     2] loss: 0.011\n",
            "[499,     2] loss: 0.011\n",
            "[500,     2] loss: 0.011\n",
            "[501,     2] loss: 0.011\n",
            "[502,     2] loss: 0.011\n",
            "[503,     2] loss: 0.011\n",
            "[504,     2] loss: 0.011\n",
            "[505,     2] loss: 0.011\n",
            "[506,     2] loss: 0.011\n",
            "[507,     2] loss: 0.011\n",
            "[508,     2] loss: 0.011\n",
            "[509,     2] loss: 0.011\n",
            "[510,     2] loss: 0.011\n",
            "[511,     2] loss: 0.011\n",
            "[512,     2] loss: 0.011\n",
            "[513,     2] loss: 0.011\n",
            "[514,     2] loss: 0.011\n",
            "[515,     2] loss: 0.011\n",
            "[516,     2] loss: 0.011\n",
            "[517,     2] loss: 0.011\n",
            "[518,     2] loss: 0.010\n",
            "[519,     2] loss: 0.010\n",
            "[520,     2] loss: 0.010\n",
            "[521,     2] loss: 0.010\n",
            "[522,     2] loss: 0.010\n",
            "[523,     2] loss: 0.010\n",
            "[524,     2] loss: 0.010\n",
            "[525,     2] loss: 0.010\n",
            "[526,     2] loss: 0.010\n",
            "[527,     2] loss: 0.010\n",
            "[528,     2] loss: 0.010\n",
            "[529,     2] loss: 0.010\n",
            "[530,     2] loss: 0.010\n",
            "[531,     2] loss: 0.010\n",
            "[532,     2] loss: 0.010\n",
            "[533,     2] loss: 0.010\n",
            "Finished Training\n"
          ]
        }
      ],
      "source": [
        "nos_epochs = 2000\n",
        "focus_true_pred_true =0\n",
        "focus_false_pred_true =0\n",
        "focus_true_pred_false =0\n",
        "focus_false_pred_false =0\n",
        "\n",
        "argmax_more_than_half = 0\n",
        "argmax_less_than_half =0\n",
        "\n",
        "\n",
        "for epoch in range(nos_epochs):  # loop over the dataset multiple times\n",
        "\n",
        "  focus_true_pred_true =0\n",
        "  focus_false_pred_true =0\n",
        "  focus_true_pred_false =0\n",
        "  focus_false_pred_false =0\n",
        "  \n",
        "  argmax_more_than_half = 0\n",
        "  argmax_less_than_half =0\n",
        "  \n",
        "  running_loss = 0.0\n",
        "  epoch_loss = []\n",
        "  cnt=0\n",
        "\n",
        "  iteration = desired_num // batch\n",
        "  \n",
        "  #training data set\n",
        "  \n",
        "  for i, data in  enumerate(train_loader):\n",
        "    inputs , labels , fore_idx = data\n",
        "    batch = inputs.size(0)\n",
        "    inputs, labels = inputs.to(device), labels.to(device)\n",
        "    inputs = inputs.double()\n",
        "    # zero the parameter gradients\n",
        "    \n",
        "    optimizer_focus.zero_grad()\n",
        "    optimizer_classify.zero_grad()\n",
        "    \n",
        "    alphas, avg_images = focus_net(inputs)\n",
        "    outputs = classify(avg_images)\n",
        "\n",
        "    _, predicted = torch.max(outputs.data, 1)\n",
        "#     print(outputs)\n",
        "#     print(outputs.shape,labels.shape , torch.argmax(outputs, dim=1))\n",
        "\n",
        "    loss = my_cross_entropy(outputs, labels,alphas) \n",
        "    \n",
        "    loss.backward()\n",
        "    \n",
        "    \n",
        "    optimizer_focus.step()\n",
        "    optimizer_classify.step()\n",
        "\n",
        "    running_loss += loss.item()\n",
        "    mini = 2\n",
        "    if cnt % mini == mini-1:    # print every 40 mini-batches\n",
        "      print('[%d, %5d] loss: %.3f' %(epoch + 1, cnt + 1, running_loss / mini))\n",
        "      epoch_loss.append(running_loss/mini)\n",
        "      running_loss = 0.0\n",
        "    cnt=cnt+1\n",
        "\n",
        "  if(np.mean(epoch_loss) <= 0.01):\n",
        "      break;\n",
        "  #plot_attended_data(train_loader,focus_net,epoch)\n",
        "\n",
        "    \n",
        "print('Finished Training')"
      ]
    },
    {
      "cell_type": "code",
      "execution_count": 35,
      "metadata": {
        "id": "3xPsiBtU-GDn",
        "outputId": "72fefbe6-d42c-4a3f-860c-8b73b960da0f",
        "colab": {
          "base_uri": "https://localhost:8080/"
        }
      },
      "outputs": [
        {
          "output_type": "stream",
          "name": "stdout",
          "text": [
            "('fc1.weight', Parameter containing:\n",
            "tensor([[-4.4704, -0.2828]], device='cuda:0', dtype=torch.float64,\n",
            "       requires_grad=True))\n"
          ]
        }
      ],
      "source": [
        "for param in focus_net.named_parameters():\n",
        "    print(param)"
      ]
    },
    {
      "cell_type": "code",
      "execution_count": 36,
      "metadata": {
        "id": "jhvhkEAyeRpt",
        "outputId": "f049a703-3b87-4c32-8ab2-43e61bfa8d3c",
        "colab": {
          "base_uri": "https://localhost:8080/"
        }
      },
      "outputs": [
        {
          "output_type": "stream",
          "name": "stdout",
          "text": [
            "Accuracy of the network on the train images: 100.000000 %\n",
            "total correct 100\n",
            "total train set images 100\n"
          ]
        }
      ],
      "source": [
        "correct = 0\n",
        "total = 0\n",
        "\n",
        "focus_net.eval()\n",
        "classify.eval()\n",
        "with torch.no_grad():\n",
        "  for data in train_loader:\n",
        "    inputs, labels , fore_idx = data\n",
        "    inputs = inputs.double()\n",
        "    inputs, labels = inputs.to(device), labels.to(device)\n",
        "    alphas, avg_images = focus_net(inputs)\n",
        "    outputs = classify(avg_images)\n",
        "    #print(outputs.shape)\n",
        "\n",
        "    _, predicted = torch.max(outputs.data, 1)\n",
        "\n",
        "    total += labels.size(0)\n",
        "    correct += (predicted == labels).sum().item()\n",
        "\n",
        "print('Accuracy of the network on the train images: %f %%' % ( 100 * correct / total))\n",
        "print(\"total correct\", correct)\n",
        "print(\"total train set images\", total)"
      ]
    },
    {
      "cell_type": "code",
      "execution_count": 37,
      "metadata": {
        "id": "OKcmpKwGeS8M",
        "outputId": "04f57476-5f70-4df6-bbfb-ab74f4b7792a",
        "colab": {
          "base_uri": "https://localhost:8080/"
        }
      },
      "outputs": [
        {
          "output_type": "stream",
          "name": "stdout",
          "text": [
            "Accuracy of the network on the test images: 100.000000 %\n",
            "total correct 1000\n",
            "total train set images 1000\n"
          ]
        }
      ],
      "source": [
        "correct = 0\n",
        "total = 0\n",
        "\n",
        "with torch.no_grad():\n",
        "  for data in test_loader:\n",
        "    inputs, labels , fore_idx = data\n",
        "    inputs = inputs.double()\n",
        "    inputs, labels = inputs.to(device), labels.to(device)\n",
        "    alphas, avg_images = focus_net(inputs)\n",
        "    outputs = classify(avg_images)\n",
        "\n",
        "    _, predicted = torch.max(outputs.data, 1)\n",
        "\n",
        "    total += labels.size(0)\n",
        "    correct += (predicted == labels).sum().item()\n",
        "\n",
        "print('Accuracy of the network on the test images: %f %%' % ( 100 * correct / total))\n",
        "print(\"total correct\", correct)\n",
        "print(\"total train set images\", total)"
      ]
    }
  ],
  "metadata": {
    "accelerator": "GPU",
    "colab": {
      "collapsed_sections": [],
      "name": "hard_attention_1.ipynb",
      "provenance": []
    },
    "kernelspec": {
      "display_name": "Python 3 (ipykernel)",
      "language": "python",
      "name": "python3"
    },
    "language_info": {
      "codemirror_mode": {
        "name": "ipython",
        "version": 3
      },
      "file_extension": ".py",
      "mimetype": "text/x-python",
      "name": "python",
      "nbconvert_exporter": "python",
      "pygments_lexer": "ipython3",
      "version": "3.8.12"
    }
  },
  "nbformat": 4,
  "nbformat_minor": 0
}