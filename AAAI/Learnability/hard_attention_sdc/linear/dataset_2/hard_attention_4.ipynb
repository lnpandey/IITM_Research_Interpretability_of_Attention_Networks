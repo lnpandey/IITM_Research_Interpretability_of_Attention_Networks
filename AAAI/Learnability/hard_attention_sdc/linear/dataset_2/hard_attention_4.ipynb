{
 "cells": [
  {
   "cell_type": "code",
   "execution_count": 1,
   "metadata": {
    "executionInfo": {
     "elapsed": 596,
     "status": "ok",
     "timestamp": 1634805014692,
     "user": {
      "displayName": "Rahul Vashisht cs18d006",
      "photoUrl": "https://lh3.googleusercontent.com/a/default-user=s64",
      "userId": "07093414448675380290"
     },
     "user_tz": -330
    },
    "id": "0vlCAi2JLSzD"
   },
   "outputs": [],
   "source": [
    "# from google.colab import drive\n",
    "# drive.mount('/content/drive')"
   ]
  },
  {
   "cell_type": "code",
   "execution_count": 2,
   "metadata": {
    "executionInfo": {
     "elapsed": 4,
     "status": "ok",
     "timestamp": 1634805014693,
     "user": {
      "displayName": "Rahul Vashisht cs18d006",
      "photoUrl": "https://lh3.googleusercontent.com/a/default-user=s64",
      "userId": "07093414448675380290"
     },
     "user_tz": -330
    },
    "id": "PiPNZm1iTgHy"
   },
   "outputs": [],
   "source": [
    "# path=\"/content/drive/MyDrive/Research/Hard_Attention/dataset_2/m_5_size_100/run_\""
   ]
  },
  {
   "cell_type": "code",
   "execution_count": null,
   "metadata": {
    "executionInfo": {
     "elapsed": 3,
     "status": "ok",
     "timestamp": 1634805014693,
     "user": {
      "displayName": "Rahul Vashisht cs18d006",
      "photoUrl": "https://lh3.googleusercontent.com/a/default-user=s64",
      "userId": "07093414448675380290"
     },
     "user_tz": -330
    },
    "id": "SrZgZMlK-GDe"
   },
   "outputs": [],
   "source": []
  },
  {
   "cell_type": "code",
   "execution_count": 3,
   "metadata": {
    "colab": {
     "base_uri": "https://localhost:8080/"
    },
    "executionInfo": {
     "elapsed": 25004,
     "status": "ok",
     "timestamp": 1634805039693,
     "user": {
      "displayName": "Rahul Vashisht cs18d006",
      "photoUrl": "https://lh3.googleusercontent.com/a/default-user=s64",
      "userId": "07093414448675380290"
     },
     "user_tz": -330
    },
    "id": "N2_J4Rw2r0SQ",
    "outputId": "2e9af1d0-7605-4b70-90f7-1c488bee5e7b"
   },
   "outputs": [
    {
     "name": "stdout",
     "output_type": "stream",
     "text": [
      "cpu\n"
     ]
    }
   ],
   "source": [
    "import numpy as np\n",
    "import pandas as pd\n",
    "from matplotlib import pyplot as plt\n",
    "from tqdm import tqdm\n",
    "%matplotlib inline\n",
    "from torch.utils.data import Dataset, DataLoader\n",
    "import torch\n",
    "import torchvision\n",
    "\n",
    "import torch.nn as nn\n",
    "import torch.optim as optim\n",
    "from torch.nn import functional as F\n",
    "from tqdm import tqdm as tqdm\n",
    "device = torch.device(\"cuda\" if torch.cuda.is_available() else \"cpu\")\n",
    "print(device)"
   ]
  },
  {
   "cell_type": "code",
   "execution_count": 4,
   "metadata": {
    "executionInfo": {
     "elapsed": 1947,
     "status": "ok",
     "timestamp": 1634805041636,
     "user": {
      "displayName": "Rahul Vashisht cs18d006",
      "photoUrl": "https://lh3.googleusercontent.com/a/default-user=s64",
      "userId": "07093414448675380290"
     },
     "user_tz": -330
    },
    "id": "-Dmy2iPWlgnc"
   },
   "outputs": [],
   "source": [
    "from torch.utils.tensorboard import SummaryWriter\n",
    "\n",
    "writer = SummaryWriter('runs/hard_attention')"
   ]
  },
  {
   "cell_type": "markdown",
   "metadata": {
    "id": "F6fjud_Fr0Sa"
   },
   "source": [
    "# Generate dataset"
   ]
  },
  {
   "cell_type": "code",
   "execution_count": 5,
   "metadata": {
    "colab": {
     "base_uri": "https://localhost:8080/"
    },
    "executionInfo": {
     "elapsed": 22,
     "status": "ok",
     "timestamp": 1634805041640,
     "user": {
      "displayName": "Rahul Vashisht cs18d006",
      "photoUrl": "https://lh3.googleusercontent.com/a/default-user=s64",
      "userId": "07093414448675380290"
     },
     "user_tz": -330
    },
    "id": "CqdXHO0Cr0Sd",
    "outputId": "55a65df0-b570-448e-9841-e0bf957827c2"
   },
   "outputs": [
    {
     "name": "stdout",
     "output_type": "stream",
     "text": [
      "0 530\n",
      "1 463\n",
      "2 494\n",
      "3 517\n",
      "4 488\n",
      "5 497\n",
      "6 493\n",
      "7 507\n",
      "8 492\n",
      "9 519\n"
     ]
    }
   ],
   "source": [
    "np.random.seed(12)\n",
    "y = np.random.randint(0,10,5000)\n",
    "idx= []\n",
    "for i in range(10):\n",
    "    print(i,sum(y==i))\n",
    "    idx.append(y==i)"
   ]
  },
  {
   "cell_type": "code",
   "execution_count": 6,
   "metadata": {
    "executionInfo": {
     "elapsed": 14,
     "status": "ok",
     "timestamp": 1634805041640,
     "user": {
      "displayName": "Rahul Vashisht cs18d006",
      "photoUrl": "https://lh3.googleusercontent.com/a/default-user=s64",
      "userId": "07093414448675380290"
     },
     "user_tz": -330
    },
    "id": "ddhXyODwr0Sk"
   },
   "outputs": [],
   "source": [
    "x = np.zeros((5000,2))"
   ]
  },
  {
   "cell_type": "code",
   "execution_count": 7,
   "metadata": {
    "executionInfo": {
     "elapsed": 13,
     "status": "ok",
     "timestamp": 1634805041641,
     "user": {
      "displayName": "Rahul Vashisht cs18d006",
      "photoUrl": "https://lh3.googleusercontent.com/a/default-user=s64",
      "userId": "07093414448675380290"
     },
     "user_tz": -330
    },
    "id": "DyV3N2DIr0Sp"
   },
   "outputs": [],
   "source": [
    "np.random.seed(12)\n",
    "x[idx[0],:] = np.random.multivariate_normal(mean = [5,5],cov=[[0.1,0],[0,0.1]],size=sum(idx[0]))\n",
    "x[idx[1],:] = np.random.multivariate_normal(mean = [-6,7],cov=[[0.1,0],[0,0.1]],size=sum(idx[1]))\n",
    "x[idx[2],:] = np.random.multivariate_normal(mean = [-5,-4],cov=[[0.1,0],[0,0.1]],size=sum(idx[2]))\n",
    "x[idx[3],:] = np.random.multivariate_normal(mean = [-1,0],cov=[[0.1,0],[0,0.1]],size=sum(idx[3]))\n",
    "x[idx[4],:] = np.random.multivariate_normal(mean = [0,2],cov=[[0.1,0],[0,0.1]],size=sum(idx[4]))\n",
    "x[idx[5],:] = np.random.multivariate_normal(mean = [1,0],cov=[[0.1,0],[0,0.1]],size=sum(idx[5]))\n",
    "x[idx[6],:] = np.random.multivariate_normal(mean = [0,-1],cov=[[0.1,0],[0,0.1]],size=sum(idx[6]))\n",
    "x[idx[7],:] = np.random.multivariate_normal(mean = [0,0],cov=[[0.1,0],[0,0.1]],size=sum(idx[7]))\n",
    "x[idx[8],:] = np.random.multivariate_normal(mean = [-0.5,-0.5],cov=[[0.1,0],[0,0.1]],size=sum(idx[8]))\n",
    "x[idx[9],:] = np.random.multivariate_normal(mean = [0.4,0.2],cov=[[0.1,0],[0,0.1]],size=sum(idx[9]))"
   ]
  },
  {
   "cell_type": "code",
   "execution_count": 8,
   "metadata": {
    "colab": {
     "base_uri": "https://localhost:8080/"
    },
    "executionInfo": {
     "elapsed": 13,
     "status": "ok",
     "timestamp": 1634805041641,
     "user": {
      "displayName": "Rahul Vashisht cs18d006",
      "photoUrl": "https://lh3.googleusercontent.com/a/default-user=s64",
      "userId": "07093414448675380290"
     },
     "user_tz": -330
    },
    "id": "qh1mDScsU07I",
    "outputId": "14b6ce5c-fcd4-4198-810d-38613282dcd2"
   },
   "outputs": [
    {
     "data": {
      "text/plain": [
       "(array([5.14957125, 4.78451422]), array([-5.10237232, -4.80310341]))"
      ]
     },
     "execution_count": 8,
     "metadata": {},
     "output_type": "execute_result"
    }
   ],
   "source": [
    "x[idx[0]][0], x[idx[2]][5] "
   ]
  },
  {
   "cell_type": "code",
   "execution_count": 9,
   "metadata": {
    "colab": {
     "base_uri": "https://localhost:8080/"
    },
    "executionInfo": {
     "elapsed": 10,
     "status": "ok",
     "timestamp": 1634805041641,
     "user": {
      "displayName": "Rahul Vashisht cs18d006",
      "photoUrl": "https://lh3.googleusercontent.com/a/default-user=s64",
      "userId": "07093414448675380290"
     },
     "user_tz": -330
    },
    "id": "9Vr5ErQ_wSrV",
    "outputId": "54cde011-53f2-4947-9ec6-b4ca2a0d2d42"
   },
   "outputs": [
    {
     "name": "stdout",
     "output_type": "stream",
     "text": [
      "(5000, 2) (5000,)\n"
     ]
    }
   ],
   "source": [
    "print(x.shape,y.shape)"
   ]
  },
  {
   "cell_type": "code",
   "execution_count": 10,
   "metadata": {
    "executionInfo": {
     "elapsed": 9,
     "status": "ok",
     "timestamp": 1634805041642,
     "user": {
      "displayName": "Rahul Vashisht cs18d006",
      "photoUrl": "https://lh3.googleusercontent.com/a/default-user=s64",
      "userId": "07093414448675380290"
     },
     "user_tz": -330
    },
    "id": "NG-3RpffwU_i"
   },
   "outputs": [],
   "source": [
    "idx= []\n",
    "for i in range(10):\n",
    "  idx.append(y==i)"
   ]
  },
  {
   "cell_type": "code",
   "execution_count": 11,
   "metadata": {
    "colab": {
     "base_uri": "https://localhost:8080/",
     "height": 282
    },
    "executionInfo": {
     "elapsed": 1108,
     "status": "ok",
     "timestamp": 1634805042742,
     "user": {
      "displayName": "Rahul Vashisht cs18d006",
      "photoUrl": "https://lh3.googleusercontent.com/a/default-user=s64",
      "userId": "07093414448675380290"
     },
     "user_tz": -330
    },
    "id": "hJ8Jm7YUr0St",
    "outputId": "2cda1a1f-c910-460b-a9ae-4c7250d613aa"
   },
   "outputs": [
    {
     "data": {
      "text/plain": [
       "<matplotlib.legend.Legend at 0x28baa4760>"
      ]
     },
     "execution_count": 11,
     "metadata": {},
     "output_type": "execute_result"
    },
    {
     "data": {
      "image/png": "[encoded data removed]",
      "text/plain": [
       "<Figure size 432x288 with 1 Axes>"
      ]
     },
     "metadata": {
      "needs_background": "light"
     },
     "output_type": "display_data"
    }
   ],
   "source": [
    "for i in range(10):\n",
    "    plt.scatter(x[idx[i],0],x[idx[i],1],label=\"class_\"+str(i))\n",
    "plt.legend(loc='center left', bbox_to_anchor=(1, 0.5))"
   ]
  },
  {
   "cell_type": "code",
   "execution_count": 12,
   "metadata": {
    "executionInfo": {
     "elapsed": 29,
     "status": "ok",
     "timestamp": 1634805042743,
     "user": {
      "displayName": "Rahul Vashisht cs18d006",
      "photoUrl": "https://lh3.googleusercontent.com/a/default-user=s64",
      "userId": "07093414448675380290"
     },
     "user_tz": -330
    },
    "id": "fNWgnhUJnWLV"
   },
   "outputs": [],
   "source": [
    "x = ( x -  np.mean(x,axis=0,keepdims=True) ) / np.std(x,axis=0,keepdims=True) \n"
   ]
  },
  {
   "cell_type": "code",
   "execution_count": 13,
   "metadata": {
    "colab": {
     "base_uri": "https://localhost:8080/",
     "height": 282
    },
    "executionInfo": {
     "elapsed": 26,
     "status": "ok",
     "timestamp": 1634805042743,
     "user": {
      "displayName": "Rahul Vashisht cs18d006",
      "photoUrl": "https://lh3.googleusercontent.com/a/default-user=s64",
      "userId": "07093414448675380290"
     },
     "user_tz": -330
    },
    "id": "8-VLhUfDDeHt",
    "outputId": "328bf955-e35c-47bd-ca8a-a2290ac75781"
   },
   "outputs": [
    {
     "data": {
      "text/plain": [
       "<matplotlib.legend.Legend at 0x28cf1fca0>"
      ]
     },
     "execution_count": 13,
     "metadata": {},
     "output_type": "execute_result"
    },
    {
     "data": {
      "image/png": "[encoded data removed]",
      "text/plain": [
       "<Figure size 432x288 with 1 Axes>"
      ]
     },
     "metadata": {
      "needs_background": "light"
     },
     "output_type": "display_data"
    }
   ],
   "source": [
    "for i in range(10):\n",
    "    plt.scatter(x[idx[i],0],x[idx[i],1],label=\"class_\"+str(i))\n",
    "plt.legend(loc='center left', bbox_to_anchor=(1, 0.5))"
   ]
  },
  {
   "cell_type": "code",
   "execution_count": 14,
   "metadata": {
    "executionInfo": {
     "elapsed": 21,
     "status": "ok",
     "timestamp": 1634805042744,
     "user": {
      "displayName": "Rahul Vashisht cs18d006",
      "photoUrl": "https://lh3.googleusercontent.com/a/default-user=s64",
      "userId": "07093414448675380290"
     },
     "user_tz": -330
    },
    "id": "UfFHcZJOr0Sz"
   },
   "outputs": [],
   "source": [
    "foreground_classes = {'class_0','class_1' }\n",
    "\n",
    "background_classes = {'bg_classes',}"
   ]
  },
  {
   "cell_type": "code",
   "execution_count": 15,
   "metadata": {
    "colab": {
     "base_uri": "https://localhost:8080/"
    },
    "executionInfo": {
     "elapsed": 804,
     "status": "ok",
     "timestamp": 1634805043528,
     "user": {
      "displayName": "Rahul Vashisht cs18d006",
      "photoUrl": "https://lh3.googleusercontent.com/a/default-user=s64",
      "userId": "07093414448675380290"
     },
     "user_tz": -330
    },
    "id": "jqbvfbwVr0TN",
    "outputId": "dc7be6e6-3b9c-4ecd-e5d2-2872d09d0738"
   },
   "outputs": [
    {
     "name": "stderr",
     "output_type": "stream",
     "text": [
      "100%|██████████████████████████████████████| 1100/1100 [00:01<00:00, 612.23it/s]\n"
     ]
    }
   ],
   "source": [
    "desired_num = 1100\n",
    "mosaic_list_of_images =[]\n",
    "mosaic_label = []\n",
    "fore_idx=[]\n",
    "m = 100\n",
    "for j in tqdm(range(desired_num)):\n",
    "    np.random.seed(j)\n",
    "    fg_class  = np.random.randint(0,3)\n",
    "    fg_idx = np.random.randint(0,m)\n",
    "    a = []\n",
    "    for i in range(m):\n",
    "        if i == fg_idx:\n",
    "            b = np.random.choice(np.where(idx[fg_class]==True)[0],size=1)\n",
    "            a.append(x[b])\n",
    "#             print(\"foreground \"+str(fg_class)+\" present at \" + str(fg_idx))\n",
    "        else:\n",
    "            bg_class = np.random.randint(3,10)\n",
    "            b = np.random.choice(np.where(idx[bg_class]==True)[0],size=1)\n",
    "            a.append(x[b])\n",
    "#             print(\"background \"+str(bg_class)+\" present at \" + str(i))\n",
    "    a = np.concatenate(a,axis=0)\n",
    "    mosaic_list_of_images.append(np.reshape(a,(m,2)))\n",
    "    mosaic_label.append(fg_class)\n",
    "    fore_idx.append(fg_idx)"
   ]
  },
  {
   "cell_type": "code",
   "execution_count": 16,
   "metadata": {
    "executionInfo": {
     "elapsed": 13,
     "status": "ok",
     "timestamp": 1634805043529,
     "user": {
      "displayName": "Rahul Vashisht cs18d006",
      "photoUrl": "https://lh3.googleusercontent.com/a/default-user=s64",
      "userId": "07093414448675380290"
     },
     "user_tz": -330
    },
    "id": "BOsFmWfMr0TR"
   },
   "outputs": [],
   "source": [
    "# mosaic_list_of_images = np.concatenate(mosaic_list_of_images,axis=1).T\n"
   ]
  },
  {
   "cell_type": "code",
   "execution_count": 17,
   "metadata": {
    "colab": {
     "base_uri": "https://localhost:8080/"
    },
    "executionInfo": {
     "elapsed": 12,
     "status": "ok",
     "timestamp": 1634805043529,
     "user": {
      "displayName": "Rahul Vashisht cs18d006",
      "photoUrl": "https://lh3.googleusercontent.com/a/default-user=s64",
      "userId": "07093414448675380290"
     },
     "user_tz": -330
    },
    "id": "2aIPMgLXNiXW",
    "outputId": "2ceefa71-71ba-4d90-f0de-75e5673f7cd0"
   },
   "outputs": [
    {
     "data": {
      "text/plain": [
       "(1100,\n",
       " array([[ 2.90320363e-01, -4.55168839e-01],\n",
       "        [ 1.70806899e-01, -7.28909745e-01],\n",
       "        [ 2.84316823e-01, -6.39988976e-01],\n",
       "        [ 2.89287691e-01,  2.70242857e-01],\n",
       "        [ 1.32556618e-02, -4.64666311e-01],\n",
       "        [ 2.53336952e-01, -2.46453095e-01],\n",
       "        [ 3.37870467e-01, -2.99072482e-01],\n",
       "        [-1.44766752e-01, -3.72785846e-01],\n",
       "        [ 4.55927282e-01, -3.00554954e-01],\n",
       "        [ 3.34733619e-01, -1.64454881e-01],\n",
       "        [ 2.27418445e-01, -1.94293135e-01],\n",
       "        [ 1.46253604e-01,  4.56860642e-01],\n",
       "        [ 2.82582238e-01, -7.78474008e-01],\n",
       "        [ 1.66700310e-01, -5.18673972e-01],\n",
       "        [ 3.16395276e-01, -2.81876398e-01],\n",
       "        [-4.87608277e-02, -4.44947913e-01],\n",
       "        [-3.37180658e-01, -2.84928749e-01],\n",
       "        [ 2.31327684e-01, -5.80805591e-01],\n",
       "        [ 3.01693455e-01, -5.86925115e-01],\n",
       "        [ 2.00686635e-01, -4.33515172e-02],\n",
       "        [-2.30797439e-01, -3.84640212e-01],\n",
       "        [ 2.54340950e-01,  3.32496647e-01],\n",
       "        [-1.48891071e-01, -1.46999158e-01],\n",
       "        [ 2.58840294e-01, -4.61517841e-01],\n",
       "        [ 4.51586618e-01, -3.25731593e-01],\n",
       "        [ 8.69739157e-02, -3.03663578e-01],\n",
       "        [-2.10364582e-01, -3.02585009e-01],\n",
       "        [ 2.22073219e-01, -2.61298057e-01],\n",
       "        [ 1.38313816e-01, -4.14751194e-01],\n",
       "        [-3.40014681e-01, -3.00269459e-01],\n",
       "        [-9.65060353e-02, -1.88390435e-01],\n",
       "        [ 5.74662877e-01, -2.98201259e-01],\n",
       "        [-6.28268495e-02, -2.41700949e-01],\n",
       "        [ 7.66881086e-02,  5.70449575e-01],\n",
       "        [ 2.48710853e-01,  2.66653609e-01],\n",
       "        [ 1.71966497e-02, -6.49465488e-01],\n",
       "        [ 3.84526400e-02, -6.60882609e-01],\n",
       "        [ 4.63383399e-01, -2.22446676e-01],\n",
       "        [-1.97997814e-01, -4.35447849e-01],\n",
       "        [ 7.81872452e-02, -6.40295926e-01],\n",
       "        [ 1.29626590e-02, -4.08509514e-01],\n",
       "        [ 5.54772397e-01, -3.83597702e-01],\n",
       "        [ 2.38385090e-01, -5.75125607e-01],\n",
       "        [ 2.11650877e-01, -1.74792202e-01],\n",
       "        [ 1.96090997e-04, -1.27987064e-01],\n",
       "        [ 1.82982262e-01, -1.77889776e-01],\n",
       "        [ 9.72118188e-02, -3.73409737e-01],\n",
       "        [ 1.77006062e+00,  1.45627105e+00],\n",
       "        [ 2.15221843e-01, -2.13116285e-01],\n",
       "        [ 5.28550987e-01, -2.13688883e-01],\n",
       "        [-2.67767056e-02, -5.26397670e-01],\n",
       "        [ 9.76289892e-02, -4.49310756e-01],\n",
       "        [ 1.61795256e-01,  2.98569881e-01],\n",
       "        [ 9.50144287e-02,  4.40700046e-01],\n",
       "        [-1.32071548e-01, -2.21162519e-01],\n",
       "        [-3.07676998e-02, -3.12080766e-01],\n",
       "        [-1.94948552e-01, -2.61004750e-01],\n",
       "        [ 5.56719062e-01, -2.02058192e-01],\n",
       "        [ 6.39058843e-03, -2.56198940e-01],\n",
       "        [ 4.32254470e-01, -3.66976169e-01],\n",
       "        [-8.28304034e-02, -5.29325845e-01],\n",
       "        [-1.90378663e-01, -4.64374356e-01],\n",
       "        [-2.03429193e-01, -2.47812673e-01],\n",
       "        [ 1.68581073e-01, -5.63575068e-01],\n",
       "        [ 9.21019223e-02, -4.72599764e-01],\n",
       "        [ 3.01180308e-01,  2.48936385e-01],\n",
       "        [ 4.10842120e-01, -4.83665416e-01],\n",
       "        [ 2.15812382e-01, -5.66061995e-01],\n",
       "        [ 1.86230856e-01, -7.36136638e-02],\n",
       "        [ 2.94919415e-01,  4.84547679e-01],\n",
       "        [ 1.15737822e-01, -6.66344422e-01],\n",
       "        [ 1.32295167e-01,  6.74178212e-01],\n",
       "        [ 1.01898519e-01,  4.96128690e-01],\n",
       "        [ 5.46208307e-01, -2.70104755e-01],\n",
       "        [ 3.34266421e-01, -6.48186066e-01],\n",
       "        [ 2.12604989e-01, -6.22560158e-01],\n",
       "        [ 2.64279505e-01, -4.36287916e-01],\n",
       "        [-1.06994611e-01, -3.35727994e-01],\n",
       "        [-1.23213226e-01, -4.47792463e-01],\n",
       "        [ 3.57383971e-01, -1.47704512e-01],\n",
       "        [-1.01664796e-02, -2.50186983e-01],\n",
       "        [-2.33004235e-01, -3.00885898e-01],\n",
       "        [ 1.04177446e-01, -4.77840338e-01],\n",
       "        [ 1.63336848e-01, -2.87604510e-01],\n",
       "        [ 3.60014214e-02, -5.73325419e-01],\n",
       "        [-1.54779818e-01, -2.61094724e-01],\n",
       "        [-2.20549517e-01, -3.29634831e-01],\n",
       "        [-1.08883922e-01, -2.08921591e-01],\n",
       "        [ 3.41171693e-01, -2.09994356e-01],\n",
       "        [ 3.52037960e-01, -6.12642675e-01],\n",
       "        [ 8.35205818e-02, -4.46394331e-01],\n",
       "        [ 3.35954805e-01, -1.01832832e-01],\n",
       "        [ 4.04324534e-01, -5.62401769e-01],\n",
       "        [ 6.02513860e-02, -5.55202460e-01],\n",
       "        [-1.76067874e-01, -4.35133892e-01],\n",
       "        [ 7.65827864e-02, -5.07729811e-01],\n",
       "        [-2.24428108e-01, -1.43886378e-01],\n",
       "        [ 1.08132990e-01, -5.29677355e-01],\n",
       "        [ 1.70643105e-01, -1.51187112e-01],\n",
       "        [-3.20177670e-01, -4.41157375e-01]]),\n",
       " (100, 2))"
      ]
     },
     "execution_count": 17,
     "metadata": {},
     "output_type": "execute_result"
    }
   ],
   "source": [
    "len(mosaic_list_of_images), mosaic_list_of_images[0],mosaic_list_of_images[0].shape"
   ]
  },
  {
   "cell_type": "code",
   "execution_count": 18,
   "metadata": {
    "executionInfo": {
     "elapsed": 9,
     "status": "ok",
     "timestamp": 1634805043529,
     "user": {
      "displayName": "Rahul Vashisht cs18d006",
      "photoUrl": "https://lh3.googleusercontent.com/a/default-user=s64",
      "userId": "07093414448675380290"
     },
     "user_tz": -330
    },
    "id": "iPoIwbMHx44n"
   },
   "outputs": [],
   "source": [
    "class MosaicDataset(Dataset):\n",
    "  \"\"\"MosaicDataset dataset.\"\"\"\n",
    "\n",
    "  def __init__(self, mosaic_list_of_images, mosaic_label, fore_idx):\n",
    "    \"\"\"\n",
    "      Args:\n",
    "        csv_file (string): Path to the csv file with annotations.\n",
    "        root_dir (string): Directory with all the images.\n",
    "        transform (callable, optional): Optional transform to be applied\n",
    "            on a sample.\n",
    "    \"\"\"\n",
    "    self.mosaic = mosaic_list_of_images\n",
    "    self.label = mosaic_label\n",
    "    self.fore_idx = fore_idx\n",
    "\n",
    "  def __len__(self):\n",
    "    return len(self.label)\n",
    "\n",
    "  def __getitem__(self, idx):\n",
    "    return self.mosaic[idx] , self.label[idx], self.fore_idx[idx]\n",
    "\n"
   ]
  },
  {
   "cell_type": "code",
   "execution_count": 19,
   "metadata": {
    "executionInfo": {
     "elapsed": 10,
     "status": "ok",
     "timestamp": 1634805043530,
     "user": {
      "displayName": "Rahul Vashisht cs18d006",
      "photoUrl": "https://lh3.googleusercontent.com/a/default-user=s64",
      "userId": "07093414448675380290"
     },
     "user_tz": -330
    },
    "id": "fOPAJQJeW8Ah"
   },
   "outputs": [],
   "source": [
    "batch = 50\n",
    "msd1 = MosaicDataset(mosaic_list_of_images[0:100], mosaic_label[0:100] , fore_idx[0:100])\n",
    "train_loader = DataLoader( msd1 ,batch_size= batch ,shuffle=True)"
   ]
  },
  {
   "cell_type": "code",
   "execution_count": 20,
   "metadata": {
    "executionInfo": {
     "elapsed": 9,
     "status": "ok",
     "timestamp": 1634805043530,
     "user": {
      "displayName": "Rahul Vashisht cs18d006",
      "photoUrl": "https://lh3.googleusercontent.com/a/default-user=s64",
      "userId": "07093414448675380290"
     },
     "user_tz": -330
    },
    "id": "aWBIcyvGApLt"
   },
   "outputs": [],
   "source": [
    "data,_,_=iter(train_loader).next()"
   ]
  },
  {
   "cell_type": "code",
   "execution_count": 21,
   "metadata": {
    "colab": {
     "base_uri": "https://localhost:8080/"
    },
    "executionInfo": {
     "elapsed": 9,
     "status": "ok",
     "timestamp": 1634805043530,
     "user": {
      "displayName": "Rahul Vashisht cs18d006",
      "photoUrl": "https://lh3.googleusercontent.com/a/default-user=s64",
      "userId": "07093414448675380290"
     },
     "user_tz": -330
    },
    "id": "cauJIvKEAxKM",
    "outputId": "c0b5ce01-f4e6-4a17-946d-9d3036719125"
   },
   "outputs": [
    {
     "data": {
      "text/plain": [
       "torch.Size([50, 100, 2])"
      ]
     },
     "execution_count": 21,
     "metadata": {},
     "output_type": "execute_result"
    }
   ],
   "source": [
    "data.shape"
   ]
  },
  {
   "cell_type": "code",
   "execution_count": 22,
   "metadata": {
    "executionInfo": {
     "elapsed": 8,
     "status": "ok",
     "timestamp": 1634805043531,
     "user": {
      "displayName": "Rahul Vashisht cs18d006",
      "photoUrl": "https://lh3.googleusercontent.com/a/default-user=s64",
      "userId": "07093414448675380290"
     },
     "user_tz": -330
    },
    "id": "qjNiQgxZW8bA"
   },
   "outputs": [],
   "source": [
    "batch = 250\n",
    "msd2 = MosaicDataset(mosaic_list_of_images[100:], mosaic_label[100:] , fore_idx[100:])\n",
    "test_loader = DataLoader( msd2 ,batch_size= batch ,shuffle=True)"
   ]
  },
  {
   "cell_type": "code",
   "execution_count": 23,
   "metadata": {
    "executionInfo": {
     "elapsed": 8,
     "status": "ok",
     "timestamp": 1634805043531,
     "user": {
      "displayName": "Rahul Vashisht cs18d006",
      "photoUrl": "https://lh3.googleusercontent.com/a/default-user=s64",
      "userId": "07093414448675380290"
     },
     "user_tz": -330
    },
    "id": "yda1E5ApiKpH"
   },
   "outputs": [],
   "source": [
    "class Focus(nn.Module):\n",
    "    def __init__(self):\n",
    "        super(Focus, self).__init__()\n",
    "        self.fc1 = nn.Linear(2,1, bias=False)\n",
    "        torch.nn.init.xavier_normal_(self.fc1.weight)\n",
    "        #self.fc2 = nn.Linear(64, 1, bias=False)\n",
    "        #torch.nn.init.xavier_normal_(self.fc2.weight)\n",
    "\n",
    "    def forward(self,z):\n",
    "        #print(\"data\",z)\n",
    "        batch = z.size(0)\n",
    "        patches = z.size(1)\n",
    "        z = z.view(batch,patches,2*1)\n",
    "        alp1,ft1 = self.helper(z)\n",
    "\n",
    "        alpha = F.softmax(alp1,dim=1)\n",
    "        #print(self.training)\n",
    "        \n",
    "        if self.training:\n",
    "            alpha =alpha[:,:,0]\n",
    "            y = ft1 \n",
    "            return alpha,y\n",
    "        else:\n",
    "            #alpha_cumsum = torch.cumsum(alpha, dim = 1)\n",
    "            #print(alpha_cumsum)\n",
    "            #len_batch = alpha_cumsum.size(0)\n",
    "            #patches = alpha_cumsum.size(1)\n",
    "            #rand_prob = torch.rand(len_batch,patches, 1).to(device)\n",
    "            #alpha_relu = F.relu(rand_prob-alpha_cumsum)\n",
    "            #print(alpha_relu)\n",
    "            #alpha_index = torch.count_nonzero(alpha_relu,dim=1)\n",
    "            #alpha_hard = F.one_hot(alpha_index,num_classes=patches)\n",
    "            #print(alpha_hard)\n",
    "            #alpha_hard = torch.transpose(alpha_hard,dim0=1,dim1=2)\n",
    "            #print(ft1,\"alpha_hard\",alpha_hard) \n",
    "            #y = torch.sum(alpha_hard*ft1,dim=1)\n",
    "            #print(alpha,alpha.shape)\n",
    "         \n",
    "        \n",
    "            index = torch.argmax(alpha,dim=1)\n",
    "            hard_alpha = torch.nn.functional.one_hot(index[:,0], patches)\n",
    "            y = torch.sum(hard_alpha[:,:,None]*ft1,dim=1)\n",
    "            alpha = alpha[:,:,0]\n",
    "            return alpha,y\n",
    "    \n",
    "    def helper(self, x):\n",
    "        x1 = x\n",
    "        x = self.fc1(x)\n",
    "        return x,x1"
   ]
  },
  {
   "cell_type": "code",
   "execution_count": 24,
   "metadata": {
    "executionInfo": {
     "elapsed": 7,
     "status": "ok",
     "timestamp": 1634805043531,
     "user": {
      "displayName": "Rahul Vashisht cs18d006",
      "photoUrl": "https://lh3.googleusercontent.com/a/default-user=s64",
      "userId": "07093414448675380290"
     },
     "user_tz": -330
    },
    "id": "0dYXnywAD-4l"
   },
   "outputs": [],
   "source": [
    "class Classification(nn.Module):\n",
    "  def __init__(self):\n",
    "    super(Classification, self).__init__()\n",
    "    self.fc1 = nn.Linear(2, 3)\n",
    "    torch.nn.init.xavier_normal_(self.fc1.weight)\n",
    "    torch.nn.init.zeros_(self.fc1.bias)\n",
    "\n",
    "  def forward(self, x):\n",
    "    #print(x.shape)\n",
    "    #x = x.view(-1, 1)\n",
    "    #print(x.shape)\n",
    "    x = self.fc1(x)\n",
    "    # print(x.shape)\n",
    "    return x"
   ]
  },
  {
   "cell_type": "code",
   "execution_count": 25,
   "metadata": {
    "id": "lSa6O9f6XNf4"
   },
   "outputs": [],
   "source": [
    "torch.manual_seed(12)\n",
    "focus_net = Focus().double()\n",
    "focus_net = focus_net.to(device)"
   ]
  },
  {
   "cell_type": "code",
   "execution_count": 26,
   "metadata": {
    "id": "36k3H2G-XO9A"
   },
   "outputs": [],
   "source": [
    "torch.manual_seed(12)\n",
    "classify = Classification().double()\n",
    "classify = classify.to(device)"
   ]
  },
  {
   "cell_type": "code",
   "execution_count": 27,
   "metadata": {
    "id": "bK78aII8-GDl"
   },
   "outputs": [],
   "source": [
    "import torch.optim as optim\n",
    "optimizer_classify = optim.Adam(classify.parameters(), lr=0.5 ) #, momentum=0.9)\n",
    "optimizer_focus = optim.Adam(focus_net.parameters(), lr=0.5 ) #, momentum=0.9)"
   ]
  },
  {
   "cell_type": "code",
   "execution_count": 28,
   "metadata": {
    "id": "h0mjWiFG-GDl"
   },
   "outputs": [],
   "source": [
    "def my_cross_entropy(output,target,alpha):\n",
    "    criterion = nn.CrossEntropyLoss(reduce=False)\n",
    "    \n",
    "    batch = output.size(0)\n",
    "    #print(batch)\n",
    "    patches = output.size(1)\n",
    "    classes = output.size(2)\n",
    "    \n",
    "    \n",
    "    \n",
    "    output = torch.reshape(output,(batch*patches,classes))\n",
    "    \n",
    "    \n",
    "    target = target.repeat_interleave(patches)\n",
    "    \n",
    "    loss = criterion(output,target)\n",
    "    \n",
    "    #print(loss,loss.shape)\n",
    "    loss = torch.reshape(loss,(batch,patches))\n",
    "    #print(loss.size())\n",
    "    final_loss = torch.sum(torch.mul(loss,alpha),dim=1)\n",
    "    #print(final_loss.shape)\n",
    "    final_loss = torch.mean(final_loss,dim=0)\n",
    "    \n",
    "    \n",
    "    \n",
    "    #print(final_loss)\n",
    "    return final_loss\n",
    "    \n",
    "    \n",
    "    "
   ]
  },
  {
   "cell_type": "code",
   "execution_count": 29,
   "metadata": {
    "id": "pjD2VZuV9Ed4"
   },
   "outputs": [],
   "source": [
    "col1=[]\n",
    "col2=[]\n",
    "col3=[]\n",
    "col4=[]\n",
    "col5=[]\n",
    "col6=[]\n",
    "col7=[]\n",
    "col8=[]\n",
    "col9=[]\n",
    "col10=[]\n",
    "col11=[]\n",
    "col12=[]\n",
    "col13=[]"
   ]
  },
  {
   "cell_type": "code",
   "execution_count": 30,
   "metadata": {
    "id": "eEVrBg7d-GDl"
   },
   "outputs": [],
   "source": [
    "def plot_attended_data(trainloader,net,epoch):\n",
    "    attd_data =[]\n",
    "    lbls = []\n",
    "    for data in trainloader:\n",
    "        inputs, labels , fore_idx = data\n",
    "        inputs = inputs.double()\n",
    "        inputs, labels , fore_idx = inputs.to(device),labels.to(device), fore_idx.to(device)\n",
    "        alphas, avg_images = focus_net(inputs)\n",
    "        attd_data.append(avg_images.numpy())\n",
    "        lbls.append(labels)\n",
    "    attd_data = np.concatenate(attd_data,axis=0)\n",
    "    lbls = np.concatenate(lbls,axis=0)\n",
    "    plt.figure(figsize=(6,8))\n",
    "    plt.scatter(attd_data[:,0],attd_data[:,1],c=lbls)\n",
    "    plt.title(\"EPOCH_\"+str(epoch))"
   ]
  },
  {
   "cell_type": "code",
   "execution_count": 31,
   "metadata": {
    "id": "uALi25pmzQHV"
   },
   "outputs": [
    {
     "name": "stdout",
     "output_type": "stream",
     "text": [
      "tensor(1.1047, dtype=torch.float64)\n",
      "tensor(1.1103, dtype=torch.float64)\n",
      "====================================================================================================\n"
     ]
    },
    {
     "name": "stderr",
     "output_type": "stream",
     "text": [
      "/opt/homebrew/Caskroom/miniforge/base/envs/pytorch_env/lib/python3.8/site-packages/torch/nn/_reduction.py:42: UserWarning: size_average and reduce args will be deprecated, please use reduction='none' instead.\n",
      "  warnings.warn(warning.format(ret))\n"
     ]
    }
   ],
   "source": [
    "correct = 0\n",
    "total = 0\n",
    "count = 0\n",
    "flag = 1\n",
    "\n",
    "\n",
    "with torch.no_grad():\n",
    "  for data in train_loader:\n",
    "    inputs, labels , fore_idx = data\n",
    "    inputs = inputs.double()\n",
    "    inputs, labels , fore_idx = inputs.to(device),labels.to(device), fore_idx.to(device)\n",
    "    alphas, avg_images = focus_net(inputs)\n",
    "    outputs = classify(avg_images)\n",
    "    loss = my_cross_entropy(outputs,labels,alphas)\n",
    "    print(loss)\n",
    "    # print(outputs.shape)\n",
    "    _, predicted = torch.max(outputs.data, 1)\n",
    "\n",
    "\n",
    "print(\"=\"*100)\n",
    "\n"
   ]
  },
  {
   "cell_type": "code",
   "execution_count": 32,
   "metadata": {
    "id": "4vmNprlPzTjP"
   },
   "outputs": [],
   "source": [
    "correct = 0\n",
    "total = 0\n",
    "count = 0\n",
    "flag = 1\n",
    "\n",
    "\n",
    "with torch.no_grad():\n",
    "  for data in test_loader:\n",
    "    inputs, labels , fore_idx = data\n",
    "    inputs = inputs.double()\n",
    "    inputs, labels , fore_idx = inputs.to(device),labels.to(device), fore_idx.to(device)\n",
    "    alphas, avg_images = focus_net(inputs)\n",
    "    outputs = classify(avg_images)\n",
    "\n",
    "    _, predicted = torch.max(outputs.data, 1)\n"
   ]
  },
  {
   "cell_type": "code",
   "execution_count": 33,
   "metadata": {
    "id": "_nvicAzw-GDm"
   },
   "outputs": [
    {
     "name": "stdout",
     "output_type": "stream",
     "text": [
      "('fc1.weight', Parameter containing:\n",
      "tensor([[-0.4664, -0.4478]], dtype=torch.float64, requires_grad=True))\n"
     ]
    }
   ],
   "source": [
    "for param in focus_net.named_parameters():\n",
    "    print(param)"
   ]
  },
  {
   "cell_type": "code",
   "execution_count": 34,
   "metadata": {
    "id": "Yl41sE8vFERk"
   },
   "outputs": [
    {
     "name": "stdout",
     "output_type": "stream",
     "text": [
      "[1,     2] loss: 1.178\n",
      "[2,     2] loss: 1.086\n",
      "[3,     2] loss: 1.019\n",
      "[4,     2] loss: 0.778\n",
      "[5,     2] loss: 0.439\n",
      "[6,     2] loss: 0.270\n",
      "[7,     2] loss: 0.165\n",
      "[8,     2] loss: 0.089\n",
      "[9,     2] loss: 0.049\n",
      "[10,     2] loss: 0.027\n",
      "[11,     2] loss: 0.015\n",
      "[12,     2] loss: 0.008\n",
      "Finished Training\n"
     ]
    }
   ],
   "source": [
    "nos_epochs = 2000\n",
    "focus_true_pred_true =0\n",
    "focus_false_pred_true =0\n",
    "focus_true_pred_false =0\n",
    "focus_false_pred_false =0\n",
    "\n",
    "argmax_more_than_half = 0\n",
    "argmax_less_than_half =0\n",
    "\n",
    "\n",
    "for epoch in range(nos_epochs):  # loop over the dataset multiple times\n",
    "\n",
    "  focus_true_pred_true =0\n",
    "  focus_false_pred_true =0\n",
    "  focus_true_pred_false =0\n",
    "  focus_false_pred_false =0\n",
    "  \n",
    "  argmax_more_than_half = 0\n",
    "  argmax_less_than_half =0\n",
    "  \n",
    "  running_loss = 0.0\n",
    "  epoch_loss = []\n",
    "  cnt=0\n",
    "\n",
    "  iteration = desired_num // batch\n",
    "  \n",
    "  #training data set\n",
    "  \n",
    "  for i, data in  enumerate(train_loader):\n",
    "    inputs , labels , fore_idx = data\n",
    "    batch = inputs.size(0)\n",
    "    inputs, labels = inputs.to(device), labels.to(device)\n",
    "    inputs = inputs.double()\n",
    "    # zero the parameter gradients\n",
    "    \n",
    "    optimizer_focus.zero_grad()\n",
    "    optimizer_classify.zero_grad()\n",
    "    \n",
    "    alphas, avg_images = focus_net(inputs)\n",
    "    outputs = classify(avg_images)\n",
    "\n",
    "    _, predicted = torch.max(outputs.data, 1)\n",
    "#     print(outputs)\n",
    "#     print(outputs.shape,labels.shape , torch.argmax(outputs, dim=1))\n",
    "\n",
    "    loss = my_cross_entropy(outputs, labels,alphas) \n",
    "    \n",
    "    loss.backward()\n",
    "    \n",
    "    \n",
    "    optimizer_focus.step()\n",
    "    optimizer_classify.step()\n",
    "\n",
    "    running_loss += loss.item()\n",
    "    mini = 2\n",
    "    if cnt % mini == mini-1:    # print every 40 mini-batches\n",
    "      print('[%d, %5d] loss: %.3f' %(epoch + 1, cnt + 1, running_loss / mini))\n",
    "      epoch_loss.append(running_loss/mini)\n",
    "      running_loss = 0.0\n",
    "    cnt=cnt+1\n",
    "\n",
    "  if(np.mean(epoch_loss) <= 0.01):\n",
    "      break;\n",
    "  #plot_attended_data(train_loader,focus_net,epoch)\n",
    "\n",
    "    \n",
    "print('Finished Training')"
   ]
  },
  {
   "cell_type": "code",
   "execution_count": 35,
   "metadata": {
    "id": "3xPsiBtU-GDn"
   },
   "outputs": [
    {
     "name": "stdout",
     "output_type": "stream",
     "text": [
      "('fc1.weight', Parameter containing:\n",
      "tensor([[-8.5418,  0.4196]], dtype=torch.float64, requires_grad=True))\n"
     ]
    }
   ],
   "source": [
    "for param in focus_net.named_parameters():\n",
    "    print(param)"
   ]
  },
  {
   "cell_type": "code",
   "execution_count": 36,
   "metadata": {
    "id": "jhvhkEAyeRpt"
   },
   "outputs": [
    {
     "name": "stdout",
     "output_type": "stream",
     "text": [
      "Accuracy of the network on the train images: 100.000000 %\n",
      "total correct 100\n",
      "total train set images 100\n"
     ]
    }
   ],
   "source": [
    "correct = 0\n",
    "total = 0\n",
    "\n",
    "focus_net.eval()\n",
    "classify.eval()\n",
    "with torch.no_grad():\n",
    "  for data in train_loader:\n",
    "    inputs, labels , fore_idx = data\n",
    "    inputs = inputs.double()\n",
    "    inputs, labels = inputs.to(device), labels.to(device)\n",
    "    alphas, avg_images = focus_net(inputs)\n",
    "    outputs = classify(avg_images)\n",
    "    #print(outputs.shape)\n",
    "\n",
    "    _, predicted = torch.max(outputs.data, 1)\n",
    "\n",
    "    total += labels.size(0)\n",
    "    correct += (predicted == labels).sum().item()\n",
    "\n",
    "print('Accuracy of the network on the train images: %f %%' % ( 100 * correct / total))\n",
    "print(\"total correct\", correct)\n",
    "print(\"total train set images\", total)"
   ]
  },
  {
   "cell_type": "code",
   "execution_count": 37,
   "metadata": {
    "id": "OKcmpKwGeS8M"
   },
   "outputs": [
    {
     "name": "stdout",
     "output_type": "stream",
     "text": [
      "Accuracy of the network on the test images: 100.000000 %\n",
      "total correct 1000\n",
      "total train set images 1000\n"
     ]
    }
   ],
   "source": [
    "correct = 0\n",
    "total = 0\n",
    "\n",
    "with torch.no_grad():\n",
    "  for data in test_loader:\n",
    "    inputs, labels , fore_idx = data\n",
    "    inputs = inputs.double()\n",
    "    inputs, labels = inputs.to(device), labels.to(device)\n",
    "    alphas, avg_images = focus_net(inputs)\n",
    "    outputs = classify(avg_images)\n",
    "\n",
    "    _, predicted = torch.max(outputs.data, 1)\n",
    "\n",
    "    total += labels.size(0)\n",
    "    correct += (predicted == labels).sum().item()\n",
    "\n",
    "print('Accuracy of the network on the test images: %f %%' % ( 100 * correct / total))\n",
    "print(\"total correct\", correct)\n",
    "print(\"total train set images\", total)"
   ]
  }
 ],
 "metadata": {
  "accelerator": "GPU",
  "colab": {
   "collapsed_sections": [],
   "name": "hard_attention_1.ipynb",
   "provenance": []
  },
  "kernelspec": {
   "display_name": "Python 3 (ipykernel)",
   "language": "python",
   "name": "python3"
  },
  "language_info": {
   "codemirror_mode": {
    "name": "ipython",
    "version": 3
   },
   "file_extension": ".py",
   "mimetype": "text/x-python",
   "name": "python",
   "nbconvert_exporter": "python",
   "pygments_lexer": "ipython3",
   "version": "3.8.12"
  }
 },
 "nbformat": 4,
 "nbformat_minor": 1
}
