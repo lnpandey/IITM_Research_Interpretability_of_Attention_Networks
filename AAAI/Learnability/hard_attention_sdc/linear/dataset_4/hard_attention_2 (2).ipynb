{
  "cells": [
    {
      "cell_type": "code",
      "execution_count": 38,
      "metadata": {
        "id": "0vlCAi2JLSzD"
      },
      "outputs": [],
      "source": [
        "# from google.colab import drive\n",
        "# drive.mount('/content/drive')"
      ]
    },
    {
      "cell_type": "code",
      "execution_count": 39,
      "metadata": {
        "id": "PiPNZm1iTgHy"
      },
      "outputs": [],
      "source": [
        "# path=\"/content/drive/MyDrive/Research/Hard_Attention/dataset_2/m_5_size_100/run_\""
      ]
    },
    {
      "cell_type": "code",
      "execution_count": 39,
      "metadata": {
        "id": "SrZgZMlK-GDe"
      },
      "outputs": [],
      "source": [
        ""
      ]
    },
    {
      "cell_type": "code",
      "execution_count": 40,
      "metadata": {
        "colab": {
          "base_uri": "https://localhost:8080/"
        },
        "id": "N2_J4Rw2r0SQ",
        "outputId": "b14357a7-bc5d-4ffc-fdd7-c58c06ebe8b4"
      },
      "outputs": [
        {
          "output_type": "stream",
          "name": "stdout",
          "text": [
            "cuda\n"
          ]
        }
      ],
      "source": [
        "import numpy as np\n",
        "import pandas as pd\n",
        "from matplotlib import pyplot as plt\n",
        "from tqdm import tqdm\n",
        "%matplotlib inline\n",
        "from torch.utils.data import Dataset, DataLoader\n",
        "import torch\n",
        "import torchvision\n",
        "\n",
        "import torch.nn as nn\n",
        "import torch.optim as optim\n",
        "from torch.nn import functional as F\n",
        "from tqdm import tqdm as tqdm\n",
        "device = torch.device(\"cuda\" if torch.cuda.is_available() else \"cpu\")\n",
        "print(device)"
      ]
    },
    {
      "cell_type": "code",
      "execution_count": 41,
      "metadata": {
        "id": "-Dmy2iPWlgnc"
      },
      "outputs": [],
      "source": [
        "from torch.utils.tensorboard import SummaryWriter\n",
        "\n",
        "writer = SummaryWriter('runs/hard_attention')"
      ]
    },
    {
      "cell_type": "markdown",
      "metadata": {
        "id": "F6fjud_Fr0Sa"
      },
      "source": [
        "# Generate dataset"
      ]
    },
    {
      "cell_type": "code",
      "execution_count": 42,
      "metadata": {
        "colab": {
          "base_uri": "https://localhost:8080/"
        },
        "id": "CqdXHO0Cr0Sd",
        "outputId": "52ab3dc6-e59c-4757-a501-09c8928fd9bc"
      },
      "outputs": [
        {
          "output_type": "stream",
          "name": "stdout",
          "text": [
            "0 500\n",
            "1 500\n",
            "2 500\n",
            "3 500\n",
            "4 500\n",
            "5 500\n",
            "6 500\n",
            "7 500\n",
            "8 500\n",
            "9 500\n"
          ]
        }
      ],
      "source": [
        "np.random.seed(1)\n",
        "\n",
        "y = np.concatenate((np.zeros(500),np.ones(500),np.ones(500)*2,np.ones(500)*3,np.ones(500)*4,\n",
        "                    np.ones(500)*5,np.ones(500)*6,np.ones(500)*7,np.ones(500)*8,np.ones(500)*9))\n",
        "#y = np.random.randint(0,3,6000)\n",
        "idx= []\n",
        "for i in range(10):\n",
        "    print(i,sum(y==i))\n",
        "    idx.append(y==i)"
      ]
    },
    {
      "cell_type": "code",
      "execution_count": 43,
      "metadata": {
        "id": "ddhXyODwr0Sk"
      },
      "outputs": [],
      "source": [
        "x = np.zeros((5000,2))"
      ]
    },
    {
      "cell_type": "code",
      "execution_count": 44,
      "metadata": {
        "id": "DyV3N2DIr0Sp"
      },
      "outputs": [],
      "source": [
        "np.random.seed(12)\n",
        "\n",
        "x[idx[0],:] = np.random.multivariate_normal(mean = [4,6.5],cov=[[0.01,0],[0,0.01]],size=sum(idx[0]))\n",
        "x[idx[1],:] = np.random.multivariate_normal(mean = [5.5,6],cov=[[0.01,0],[0,0.01]],size=sum(idx[1]))\n",
        "x[idx[2],:] = np.random.multivariate_normal(mean = [4.5,4.5],cov=[[0.01,0],[0,0.01]],size=sum(idx[2]))\n",
        "x[idx[3],:] = np.random.multivariate_normal(mean = [3,3.5],cov=[[0.01,0],[0,0.01]],size=sum(idx[3]))\n",
        "x[idx[4],:] = np.random.multivariate_normal(mean = [2.5,5.5],cov=[[0.01,0],[0,0.01]],size=sum(idx[4]))\n",
        "x[idx[5],:] = np.random.multivariate_normal(mean = [3.5,8],cov=[[0.01,0],[0,0.01]],size=sum(idx[5]))\n",
        "x[idx[6],:] = np.random.multivariate_normal(mean = [5.5,8],cov=[[0.01,0],[0,0.01]],size=sum(idx[6]))\n",
        "x[idx[7],:] = np.random.multivariate_normal(mean = [7,6.5],cov=[[0.01,0],[0,0.01]],size=sum(idx[7]))\n",
        "x[idx[8],:] = np.random.multivariate_normal(mean = [6.5,4.5],cov=[[0.01,0],[0,0.01]],size=sum(idx[8]))\n",
        "x[idx[9],:] = np.random.multivariate_normal(mean = [5,3],cov=[[0.01,0],[0,0.01]],size=sum(idx[9]))"
      ]
    },
    {
      "cell_type": "code",
      "execution_count": 45,
      "metadata": {
        "colab": {
          "base_uri": "https://localhost:8080/"
        },
        "id": "qh1mDScsU07I",
        "outputId": "4e8b5397-4c94-46a0-d220-b044e719f335"
      },
      "outputs": [
        {
          "output_type": "execute_result",
          "data": {
            "text/plain": [
              "(array([4.04729858, 6.43185741]), array([4.53008447, 4.5079931 ]))"
            ]
          },
          "metadata": {},
          "execution_count": 45
        }
      ],
      "source": [
        "x[idx[0]][0], x[idx[2]][5] "
      ]
    },
    {
      "cell_type": "code",
      "execution_count": 46,
      "metadata": {
        "colab": {
          "base_uri": "https://localhost:8080/"
        },
        "id": "9Vr5ErQ_wSrV",
        "outputId": "4ba563a6-867c-4bff-fcf6-93475fcd4f51"
      },
      "outputs": [
        {
          "output_type": "stream",
          "name": "stdout",
          "text": [
            "(5000, 2) (5000,)\n"
          ]
        }
      ],
      "source": [
        "print(x.shape,y.shape)"
      ]
    },
    {
      "cell_type": "code",
      "execution_count": 47,
      "metadata": {
        "id": "NG-3RpffwU_i"
      },
      "outputs": [],
      "source": [
        "idx= []\n",
        "for i in range(10):\n",
        "  idx.append(y==i)"
      ]
    },
    {
      "cell_type": "code",
      "execution_count": 48,
      "metadata": {
        "colab": {
          "base_uri": "https://localhost:8080/",
          "height": 284
        },
        "id": "hJ8Jm7YUr0St",
        "outputId": "a31ad6fc-4391-4c2a-aa2d-00012cb526ae"
      },
      "outputs": [
        {
          "output_type": "execute_result",
          "data": {
            "text/plain": [
              "<matplotlib.legend.Legend at 0x7fc08cf51550>"
            ]
          },
          "metadata": {},
          "execution_count": 48
        },
        {
          "output_type": "display_data",
          "data": {
            "image/png": "[encoded data removed]",
            "text/plain": [
              "<Figure size 432x288 with 1 Axes>"
            ]
          },
          "metadata": {
            "needs_background": "light"
          }
        }
      ],
      "source": [
        "for i in range(10):\n",
        "    plt.scatter(x[idx[i],0],x[idx[i],1],label=\"class_\"+str(i))\n",
        "plt.legend(loc='center left', bbox_to_anchor=(1, 0.5))"
      ]
    },
    {
      "cell_type": "code",
      "execution_count": 49,
      "metadata": {
        "id": "fNWgnhUJnWLV"
      },
      "outputs": [],
      "source": [
        "x = ( x -  np.mean(x,axis=0,keepdims=True) ) / np.std(x,axis=0,keepdims=True) \n"
      ]
    },
    {
      "cell_type": "code",
      "execution_count": 50,
      "metadata": {
        "colab": {
          "base_uri": "https://localhost:8080/",
          "height": 284
        },
        "id": "8-VLhUfDDeHt",
        "outputId": "a78bd5e0-6455-4482-d939-50023b1c9fba"
      },
      "outputs": [
        {
          "output_type": "execute_result",
          "data": {
            "text/plain": [
              "<matplotlib.legend.Legend at 0x7fc08b6895d0>"
            ]
          },
          "metadata": {},
          "execution_count": 50
        },
        {
          "output_type": "display_data",
          "data": {
            "image/png": "[encoded data removed]",
            "text/plain": [
              "<Figure size 432x288 with 1 Axes>"
            ]
          },
          "metadata": {
            "needs_background": "light"
          }
        }
      ],
      "source": [
        "for i in range(10):\n",
        "    plt.scatter(x[idx[i],0],x[idx[i],1],label=\"class_\"+str(i))\n",
        "plt.legend(loc='center left', bbox_to_anchor=(1, 0.5))"
      ]
    },
    {
      "cell_type": "code",
      "execution_count": 51,
      "metadata": {
        "id": "UfFHcZJOr0Sz"
      },
      "outputs": [],
      "source": [
        "foreground_classes = {'class_0','class_1' }\n",
        "\n",
        "background_classes = {'bg_classes',}"
      ]
    },
    {
      "cell_type": "code",
      "execution_count": 52,
      "metadata": {
        "colab": {
          "base_uri": "https://localhost:8080/"
        },
        "id": "jqbvfbwVr0TN",
        "outputId": "377d588c-ae04-48a1-85d4-8f25a994da5b"
      },
      "outputs": [
        {
          "output_type": "stream",
          "name": "stderr",
          "text": [
            "100%|██████████| 1500/1500 [00:00<00:00, 3127.40it/s]\n"
          ]
        }
      ],
      "source": [
        "desired_num = 1500\n",
        "mosaic_list_of_images =[]\n",
        "mosaic_label = []\n",
        "fore_idx=[]\n",
        "m = 5\n",
        "for j in tqdm(range(desired_num)):\n",
        "    np.random.seed(j)\n",
        "    fg_class  = np.random.randint(0,3)\n",
        "    fg_idx = np.random.randint(0,m)\n",
        "    a = []\n",
        "    for i in range(m):\n",
        "        if i == fg_idx:\n",
        "            b = np.random.choice(np.where(idx[fg_class]==True)[0],size=1)\n",
        "            a.append(x[b])\n",
        "#             print(\"foreground \"+str(fg_class)+\" present at \" + str(fg_idx))\n",
        "        else:\n",
        "            bg_class = np.random.randint(3,10)\n",
        "            b = np.random.choice(np.where(idx[bg_class]==True)[0],size=1)\n",
        "            a.append(x[b])\n",
        "#             print(\"background \"+str(bg_class)+\" present at \" + str(i))\n",
        "    a = np.concatenate(a,axis=0)\n",
        "    mosaic_list_of_images.append(np.reshape(a,(m,2)))\n",
        "    mosaic_label.append(fg_class)\n",
        "    fore_idx.append(fg_idx)"
      ]
    },
    {
      "cell_type": "code",
      "execution_count": 53,
      "metadata": {
        "id": "BOsFmWfMr0TR"
      },
      "outputs": [],
      "source": [
        "# mosaic_list_of_images = np.concatenate(mosaic_list_of_images,axis=1).T\n"
      ]
    },
    {
      "cell_type": "code",
      "execution_count": 54,
      "metadata": {
        "colab": {
          "base_uri": "https://localhost:8080/"
        },
        "id": "2aIPMgLXNiXW",
        "outputId": "3380a7a3-d2e4-4156-c919-db60fe2fd21b"
      },
      "outputs": [
        {
          "output_type": "execute_result",
          "data": {
            "text/plain": [
              "(1500, array([[-0.49857044,  0.4606684 ],\n",
              "        [ 0.57286412,  1.42914583],\n",
              "        [-1.69776679, -0.08130752],\n",
              "        [ 1.27946811, -0.71643805],\n",
              "        [ 1.45704   ,  0.60485745]]), (5, 2))"
            ]
          },
          "metadata": {},
          "execution_count": 54
        }
      ],
      "source": [
        "len(mosaic_list_of_images), mosaic_list_of_images[0],mosaic_list_of_images[0].shape"
      ]
    },
    {
      "cell_type": "code",
      "execution_count": 55,
      "metadata": {
        "id": "iPoIwbMHx44n"
      },
      "outputs": [],
      "source": [
        "class MosaicDataset(Dataset):\n",
        "  \"\"\"MosaicDataset dataset.\"\"\"\n",
        "\n",
        "  def __init__(self, mosaic_list_of_images, mosaic_label, fore_idx):\n",
        "    \"\"\"\n",
        "      Args:\n",
        "        csv_file (string): Path to the csv file with annotations.\n",
        "        root_dir (string): Directory with all the images.\n",
        "        transform (callable, optional): Optional transform to be applied\n",
        "            on a sample.\n",
        "    \"\"\"\n",
        "    self.mosaic = mosaic_list_of_images\n",
        "    self.label = mosaic_label\n",
        "    self.fore_idx = fore_idx\n",
        "\n",
        "  def __len__(self):\n",
        "    return len(self.label)\n",
        "\n",
        "  def __getitem__(self, idx):\n",
        "    return self.mosaic[idx] , self.label[idx], self.fore_idx[idx]\n",
        "\n"
      ]
    },
    {
      "cell_type": "code",
      "execution_count": 56,
      "metadata": {
        "id": "fOPAJQJeW8Ah"
      },
      "outputs": [],
      "source": [
        "batch = 50\n",
        "msd1 = MosaicDataset(mosaic_list_of_images[0:500], mosaic_label[0:500] , fore_idx[0:500])\n",
        "train_loader = DataLoader( msd1 ,batch_size= batch ,shuffle=True)"
      ]
    },
    {
      "cell_type": "code",
      "execution_count": 57,
      "metadata": {
        "id": "aWBIcyvGApLt"
      },
      "outputs": [],
      "source": [
        "data,_,_=iter(train_loader).next()"
      ]
    },
    {
      "cell_type": "code",
      "execution_count": 58,
      "metadata": {
        "colab": {
          "base_uri": "https://localhost:8080/"
        },
        "id": "cauJIvKEAxKM",
        "outputId": "a184b298-bc9e-4e65-ac27-244aba380d1f"
      },
      "outputs": [
        {
          "output_type": "execute_result",
          "data": {
            "text/plain": [
              "torch.Size([50, 5, 2])"
            ]
          },
          "metadata": {},
          "execution_count": 58
        }
      ],
      "source": [
        "data.shape"
      ]
    },
    {
      "cell_type": "code",
      "execution_count": 59,
      "metadata": {
        "id": "qjNiQgxZW8bA"
      },
      "outputs": [],
      "source": [
        "batch = 250\n",
        "msd2 = MosaicDataset(mosaic_list_of_images[500:], mosaic_label[500:] , fore_idx[500:])\n",
        "test_loader = DataLoader( msd2 ,batch_size= batch ,shuffle=True)"
      ]
    },
    {
      "cell_type": "code",
      "execution_count": 60,
      "metadata": {
        "id": "yda1E5ApiKpH"
      },
      "outputs": [],
      "source": [
        "class Focus(nn.Module):\n",
        "    def __init__(self):\n",
        "        super(Focus, self).__init__()\n",
        "        self.fc1 = nn.Linear(2,50, bias=False)\n",
        "        self.fc2 = nn.Linear(50,1,bias=False)\n",
        "        torch.nn.init.xavier_normal_(self.fc1.weight)\n",
        "        torch.nn.init.xavier_normal_(self.fc2.weight)\n",
        "        #self.fc2 = nn.Linear(64, 1, bias=False)\n",
        "        #torch.nn.init.xavier_normal_(self.fc2.weight)\n",
        "\n",
        "    def forward(self,z):\n",
        "        #print(\"data\",z)\n",
        "        batch = z.size(0)\n",
        "        patches = z.size(1)\n",
        "        z = z.view(batch,patches,2*1)\n",
        "        alp1,ft1 = self.helper(z)\n",
        "\n",
        "        alpha = F.softmax(alp1,dim=1)\n",
        "        #print(self.training)\n",
        "        \n",
        "        if self.training:\n",
        "            alpha =alpha[:,:,0]\n",
        "            y = ft1 \n",
        "            return alpha,y\n",
        "        else:\n",
        "            #alpha_cumsum = torch.cumsum(alpha, dim = 1)\n",
        "            #print(alpha_cumsum)\n",
        "            #len_batch = alpha_cumsum.size(0)\n",
        "            #patches = alpha_cumsum.size(1)\n",
        "            #rand_prob = torch.rand(len_batch,patches, 1).to(device)\n",
        "            #alpha_relu = F.relu(rand_prob-alpha_cumsum)\n",
        "            #print(alpha_relu)\n",
        "            #alpha_index = torch.count_nonzero(alpha_relu,dim=1)\n",
        "            #alpha_hard = F.one_hot(alpha_index,num_classes=patches)\n",
        "            #print(alpha_hard)\n",
        "            #alpha_hard = torch.transpose(alpha_hard,dim0=1,dim1=2)\n",
        "            #print(ft1,\"alpha_hard\",alpha_hard) \n",
        "            #y = torch.sum(alpha_hard*ft1,dim=1)\n",
        "            #print(alpha,alpha.shape)\n",
        "         \n",
        "        \n",
        "            index = torch.argmax(alpha,dim=1)\n",
        "            hard_alpha = torch.nn.functional.one_hot(index[:,0], patches)\n",
        "            y = torch.sum(hard_alpha[:,:,None]*ft1,dim=1)\n",
        "            alpha = alpha[:,:,0]\n",
        "            return alpha,y\n",
        "    \n",
        "    def helper(self, x):\n",
        "        x1 = x\n",
        "        x = F.relu(self.fc1(x))\n",
        "        x = self.fc2(x)\n",
        "        return x,x1"
      ]
    },
    {
      "cell_type": "code",
      "execution_count": 61,
      "metadata": {
        "id": "0dYXnywAD-4l"
      },
      "outputs": [],
      "source": [
        "class Classification(nn.Module):\n",
        "  def __init__(self):\n",
        "    super(Classification, self).__init__()\n",
        "    self.fc1 = nn.Linear(2, 3)\n",
        "    torch.nn.init.xavier_normal_(self.fc1.weight)\n",
        "    torch.nn.init.zeros_(self.fc1.bias)\n",
        "\n",
        "  def forward(self, x):\n",
        "    #print(x.shape)\n",
        "    #x = x.view(-1, 1)\n",
        "    #print(x.shape)\n",
        "    x = self.fc1(x)\n",
        "    # print(x.shape)\n",
        "    return x"
      ]
    },
    {
      "cell_type": "code",
      "execution_count": 62,
      "metadata": {
        "id": "lSa6O9f6XNf4"
      },
      "outputs": [],
      "source": [
        "torch.manual_seed(14)\n",
        "focus_net = Focus().double()\n",
        "focus_net = focus_net.to(device)"
      ]
    },
    {
      "cell_type": "code",
      "execution_count": 63,
      "metadata": {
        "id": "36k3H2G-XO9A"
      },
      "outputs": [],
      "source": [
        "torch.manual_seed(14)\n",
        "classify = Classification().double()\n",
        "classify = classify.to(device)"
      ]
    },
    {
      "cell_type": "code",
      "execution_count": 64,
      "metadata": {
        "id": "bK78aII8-GDl"
      },
      "outputs": [],
      "source": [
        "import torch.optim as optim\n",
        "optimizer_classify = optim.Adam(classify.parameters(), lr=0.01 ) #, momentum=0.9)\n",
        "optimizer_focus = optim.Adam(focus_net.parameters(), lr=0.01 ) #, momentum=0.9)"
      ]
    },
    {
      "cell_type": "code",
      "execution_count": 65,
      "metadata": {
        "id": "h0mjWiFG-GDl"
      },
      "outputs": [],
      "source": [
        "def my_cross_entropy(output,target,alpha):\n",
        "    criterion = nn.CrossEntropyLoss(reduce=False)\n",
        "    \n",
        "    batch = output.size(0)\n",
        "    #print(batch)\n",
        "    patches = output.size(1)\n",
        "    classes = output.size(2)\n",
        "    \n",
        "    \n",
        "    \n",
        "    output = torch.reshape(output,(batch*patches,classes))\n",
        "    \n",
        "    \n",
        "    target = target.repeat_interleave(patches)\n",
        "    \n",
        "    loss = criterion(output,target)\n",
        "    \n",
        "    #print(loss,loss.shape)\n",
        "    loss = torch.reshape(loss,(batch,patches))\n",
        "    #print(loss.size())\n",
        "    final_loss = torch.sum(torch.mul(loss,alpha),dim=1)\n",
        "    #print(final_loss.shape)\n",
        "    final_loss = torch.mean(final_loss,dim=0)\n",
        "    \n",
        "    \n",
        "    \n",
        "    #print(final_loss)\n",
        "    return final_loss\n",
        "    \n",
        "    \n",
        "    "
      ]
    },
    {
      "cell_type": "code",
      "execution_count": 66,
      "metadata": {
        "id": "pjD2VZuV9Ed4"
      },
      "outputs": [],
      "source": [
        "col1=[]\n",
        "col2=[]\n",
        "col3=[]\n",
        "col4=[]\n",
        "col5=[]\n",
        "col6=[]\n",
        "col7=[]\n",
        "col8=[]\n",
        "col9=[]\n",
        "col10=[]\n",
        "col11=[]\n",
        "col12=[]\n",
        "col13=[]"
      ]
    },
    {
      "cell_type": "code",
      "execution_count": 67,
      "metadata": {
        "id": "eEVrBg7d-GDl"
      },
      "outputs": [],
      "source": [
        "def plot_attended_data(trainloader,net,epoch):\n",
        "    attd_data =[]\n",
        "    lbls = []\n",
        "    for data in trainloader:\n",
        "        inputs, labels , fore_idx = data\n",
        "        inputs = inputs.double()\n",
        "        inputs, labels , fore_idx = inputs.to(device),labels.to(device), fore_idx.to(device)\n",
        "        alphas, avg_images = focus_net(inputs)\n",
        "        attd_data.append(avg_images.numpy())\n",
        "        lbls.append(labels)\n",
        "    attd_data = np.concatenate(attd_data,axis=0)\n",
        "    lbls = np.concatenate(lbls,axis=0)\n",
        "    plt.figure(figsize=(6,8))\n",
        "    plt.scatter(attd_data[:,0],attd_data[:,1],c=lbls)\n",
        "    plt.title(\"EPOCH_\"+str(epoch))"
      ]
    },
    {
      "cell_type": "code",
      "execution_count": 68,
      "metadata": {
        "id": "uALi25pmzQHV",
        "colab": {
          "base_uri": "https://localhost:8080/"
        },
        "outputId": "cfd13af8-d8eb-4104-c7c8-7c55419fa56d"
      },
      "outputs": [
        {
          "output_type": "stream",
          "name": "stdout",
          "text": [
            "tensor(1.3077, device='cuda:0', dtype=torch.float64)\n",
            "tensor(1.2460, device='cuda:0', dtype=torch.float64)\n",
            "tensor(1.2836, device='cuda:0', dtype=torch.float64)\n",
            "tensor(1.2179, device='cuda:0', dtype=torch.float64)\n",
            "tensor(1.3021, device='cuda:0', dtype=torch.float64)\n",
            "tensor(1.2680, device='cuda:0', dtype=torch.float64)\n",
            "tensor(1.3338, device='cuda:0', dtype=torch.float64)\n",
            "tensor(1.2782, device='cuda:0', dtype=torch.float64)\n",
            "tensor(1.3006, device='cuda:0', dtype=torch.float64)\n",
            "tensor(1.2595, device='cuda:0', dtype=torch.float64)\n",
            "====================================================================================================\n"
          ]
        },
        {
          "output_type": "stream",
          "name": "stderr",
          "text": [
            "/usr/local/lib/python3.7/dist-packages/torch/nn/_reduction.py:42: UserWarning: size_average and reduce args will be deprecated, please use reduction='none' instead.\n",
            "  warnings.warn(warning.format(ret))\n"
          ]
        }
      ],
      "source": [
        "correct = 0\n",
        "total = 0\n",
        "count = 0\n",
        "flag = 1\n",
        "\n",
        "\n",
        "with torch.no_grad():\n",
        "  for data in train_loader:\n",
        "    inputs, labels , fore_idx = data\n",
        "    inputs = inputs.double()\n",
        "    inputs, labels , fore_idx = inputs.to(device),labels.to(device), fore_idx.to(device)\n",
        "    alphas, avg_images = focus_net(inputs)\n",
        "    outputs = classify(avg_images)\n",
        "    loss = my_cross_entropy(outputs,labels,alphas)\n",
        "    print(loss)\n",
        "    # print(outputs.shape)\n",
        "    _, predicted = torch.max(outputs.data, 1)\n",
        "\n",
        "\n",
        "print(\"=\"*100)\n",
        "\n"
      ]
    },
    {
      "cell_type": "code",
      "execution_count": 69,
      "metadata": {
        "id": "4vmNprlPzTjP"
      },
      "outputs": [],
      "source": [
        "correct = 0\n",
        "total = 0\n",
        "count = 0\n",
        "flag = 1\n",
        "\n",
        "\n",
        "with torch.no_grad():\n",
        "  for data in test_loader:\n",
        "    inputs, labels , fore_idx = data\n",
        "    inputs = inputs.double()\n",
        "    inputs, labels , fore_idx = inputs.to(device),labels.to(device), fore_idx.to(device)\n",
        "    alphas, avg_images = focus_net(inputs)\n",
        "    outputs = classify(avg_images)\n",
        "\n",
        "    _, predicted = torch.max(outputs.data, 1)\n"
      ]
    },
    {
      "cell_type": "code",
      "execution_count": 70,
      "metadata": {
        "id": "_nvicAzw-GDm",
        "colab": {
          "base_uri": "https://localhost:8080/"
        },
        "outputId": "8f240d7c-2dd9-4243-9419-d2ae53bfaa3b"
      },
      "outputs": [
        {
          "output_type": "stream",
          "name": "stdout",
          "text": [
            "('fc1.weight', Parameter containing:\n",
            "tensor([[ 3.4609e-01,  1.0473e-01],\n",
            "        [-4.2074e-01, -6.0013e-02],\n",
            "        [ 1.4034e-01, -2.2411e-01],\n",
            "        [ 1.3484e-01,  4.9900e-02],\n",
            "        [-2.2067e-02, -4.8510e-04],\n",
            "        [-1.3153e-03, -8.7718e-02],\n",
            "        [ 1.8523e-01, -3.2150e-01],\n",
            "        [-7.4684e-02, -2.9372e-02],\n",
            "        [ 6.5272e-02,  1.1163e-01],\n",
            "        [ 8.0826e-03,  2.2579e-01],\n",
            "        [-7.6870e-02, -1.0368e-02],\n",
            "        [-1.9890e-01,  1.4518e-01],\n",
            "        [ 7.0419e-02, -1.1977e-01],\n",
            "        [ 1.2701e-02,  2.1568e-01],\n",
            "        [ 2.8308e-01, -1.2644e-01],\n",
            "        [ 2.3501e-01,  7.2524e-02],\n",
            "        [-3.1221e-01,  2.0590e-01],\n",
            "        [ 2.3419e-01, -2.2195e-01],\n",
            "        [ 2.4644e-01,  3.1412e-01],\n",
            "        [ 7.1054e-02, -1.4203e-01],\n",
            "        [-6.3764e-02, -1.6727e-01],\n",
            "        [-8.4649e-02,  6.2509e-02],\n",
            "        [ 1.4716e-01,  7.1158e-03],\n",
            "        [-1.9342e-01,  2.3432e-01],\n",
            "        [ 2.4258e-01, -2.3152e-02],\n",
            "        [ 2.2065e-01,  1.9164e-02],\n",
            "        [ 2.4217e-01, -2.3391e-01],\n",
            "        [ 9.2096e-03,  1.5021e-01],\n",
            "        [-4.4786e-01, -1.2576e-02],\n",
            "        [ 1.8502e-01, -7.1153e-02],\n",
            "        [-2.5182e-02,  2.1075e-02],\n",
            "        [-1.1635e-01, -2.0965e-03],\n",
            "        [ 1.1437e-01, -2.0419e-01],\n",
            "        [-2.0779e-01,  5.4341e-01],\n",
            "        [-2.1286e-01, -2.4380e-02],\n",
            "        [-2.5494e-01,  7.0065e-02],\n",
            "        [-1.4578e-02,  1.4425e-02],\n",
            "        [ 2.8943e-01, -1.7105e-01],\n",
            "        [ 2.0660e-01, -7.1290e-02],\n",
            "        [-3.3443e-02, -3.1296e-01],\n",
            "        [ 2.0822e-01,  1.0459e-01],\n",
            "        [-2.3263e-01,  1.3613e-01],\n",
            "        [ 1.8168e-01,  2.4658e-01],\n",
            "        [ 2.8575e-02,  3.4189e-02],\n",
            "        [ 1.5990e-01,  4.2297e-02],\n",
            "        [-3.1422e-02,  2.0703e-01],\n",
            "        [-3.1073e-01, -2.9049e-02],\n",
            "        [ 2.3688e-01, -1.5666e-01],\n",
            "        [ 8.8915e-02,  9.2565e-02],\n",
            "        [ 6.7492e-02, -2.0439e-02]], device='cuda:0', dtype=torch.float64,\n",
            "       requires_grad=True))\n",
            "('fc2.weight', Parameter containing:\n",
            "tensor([[-0.1758,  0.0553,  0.0826, -0.0431, -0.1253,  0.1090, -0.0093, -0.0383,\n",
            "          0.2431,  0.2802, -0.0672, -0.2165,  0.1706, -0.0785, -0.0399,  0.0645,\n",
            "         -0.1125, -0.3003, -0.0539, -0.5322, -0.1185,  0.0464,  0.0178, -0.1827,\n",
            "          0.1098,  0.0476, -0.0712,  0.4167,  0.0905,  0.1012, -0.3594,  0.1193,\n",
            "         -0.1298,  0.2248,  0.3900,  0.4649, -0.4739,  0.3118, -0.1281,  0.2070,\n",
            "         -0.0664,  0.1874, -0.0963,  0.4034,  0.1038,  0.2357,  0.0420,  0.2563,\n",
            "          0.0615,  0.0943]], device='cuda:0', dtype=torch.float64,\n",
            "       requires_grad=True))\n"
          ]
        }
      ],
      "source": [
        "for param in focus_net.named_parameters():\n",
        "    print(param)"
      ]
    },
    {
      "cell_type": "code",
      "execution_count": 71,
      "metadata": {
        "id": "Yl41sE8vFERk",
        "colab": {
          "base_uri": "https://localhost:8080/"
        },
        "outputId": "c03b2e2f-c906-4508-88d9-65699abe4d82"
      },
      "outputs": [
        {
          "output_type": "stream",
          "name": "stderr",
          "text": [
            "/usr/local/lib/python3.7/dist-packages/torch/nn/_reduction.py:42: UserWarning: size_average and reduce args will be deprecated, please use reduction='none' instead.\n",
            "  warnings.warn(warning.format(ret))\n"
          ]
        },
        {
          "output_type": "stream",
          "name": "stdout",
          "text": [
            "[1,    10] loss: 1.233\n",
            "[2,    10] loss: 1.151\n",
            "[3,    10] loss: 1.107\n",
            "[4,    10] loss: 1.078\n",
            "[5,    10] loss: 1.057\n",
            "[6,    10] loss: 1.027\n",
            "[7,    10] loss: 0.967\n",
            "[8,    10] loss: 0.859\n",
            "[9,    10] loss: 0.746\n",
            "[10,    10] loss: 0.650\n",
            "[11,    10] loss: 0.570\n",
            "[12,    10] loss: 0.505\n",
            "[13,    10] loss: 0.450\n",
            "[14,    10] loss: 0.404\n",
            "[15,    10] loss: 0.365\n",
            "[16,    10] loss: 0.332\n",
            "[17,    10] loss: 0.304\n",
            "[18,    10] loss: 0.279\n",
            "[19,    10] loss: 0.258\n",
            "[20,    10] loss: 0.239\n",
            "[21,    10] loss: 0.222\n",
            "[22,    10] loss: 0.207\n",
            "[23,    10] loss: 0.193\n",
            "[24,    10] loss: 0.181\n",
            "[25,    10] loss: 0.170\n",
            "[26,    10] loss: 0.161\n",
            "[27,    10] loss: 0.152\n",
            "[28,    10] loss: 0.143\n",
            "[29,    10] loss: 0.136\n",
            "[30,    10] loss: 0.129\n",
            "[31,    10] loss: 0.123\n",
            "[32,    10] loss: 0.117\n",
            "[33,    10] loss: 0.112\n",
            "[34,    10] loss: 0.107\n",
            "[35,    10] loss: 0.102\n",
            "[36,    10] loss: 0.098\n",
            "[37,    10] loss: 0.094\n",
            "[38,    10] loss: 0.090\n",
            "[39,    10] loss: 0.086\n",
            "[40,    10] loss: 0.083\n",
            "[41,    10] loss: 0.080\n",
            "[42,    10] loss: 0.077\n",
            "[43,    10] loss: 0.074\n",
            "[44,    10] loss: 0.072\n",
            "[45,    10] loss: 0.069\n",
            "[46,    10] loss: 0.067\n",
            "[47,    10] loss: 0.065\n",
            "[48,    10] loss: 0.063\n",
            "[49,    10] loss: 0.061\n",
            "[50,    10] loss: 0.059\n",
            "[51,    10] loss: 0.057\n",
            "[52,    10] loss: 0.055\n",
            "[53,    10] loss: 0.054\n",
            "[54,    10] loss: 0.052\n",
            "[55,    10] loss: 0.051\n",
            "[56,    10] loss: 0.049\n",
            "[57,    10] loss: 0.048\n",
            "[58,    10] loss: 0.046\n",
            "[59,    10] loss: 0.045\n",
            "[60,    10] loss: 0.044\n",
            "[61,    10] loss: 0.043\n",
            "[62,    10] loss: 0.042\n",
            "[63,    10] loss: 0.041\n",
            "[64,    10] loss: 0.040\n",
            "[65,    10] loss: 0.039\n",
            "[66,    10] loss: 0.038\n",
            "[67,    10] loss: 0.037\n",
            "[68,    10] loss: 0.036\n",
            "[69,    10] loss: 0.035\n",
            "[70,    10] loss: 0.035\n",
            "[71,    10] loss: 0.034\n",
            "[72,    10] loss: 0.033\n",
            "[73,    10] loss: 0.032\n",
            "[74,    10] loss: 0.032\n",
            "[75,    10] loss: 0.031\n",
            "[76,    10] loss: 0.030\n",
            "[77,    10] loss: 0.030\n",
            "[78,    10] loss: 0.029\n",
            "[79,    10] loss: 0.028\n",
            "[80,    10] loss: 0.028\n",
            "[81,    10] loss: 0.027\n",
            "[82,    10] loss: 0.027\n",
            "[83,    10] loss: 0.026\n",
            "[84,    10] loss: 0.026\n",
            "[85,    10] loss: 0.025\n",
            "[86,    10] loss: 0.025\n",
            "[87,    10] loss: 0.024\n",
            "[88,    10] loss: 0.024\n",
            "[89,    10] loss: 0.023\n",
            "[90,    10] loss: 0.023\n",
            "[91,    10] loss: 0.023\n",
            "[92,    10] loss: 0.022\n",
            "[93,    10] loss: 0.022\n",
            "[94,    10] loss: 0.021\n",
            "[95,    10] loss: 0.021\n",
            "[96,    10] loss: 0.021\n",
            "[97,    10] loss: 0.020\n",
            "[98,    10] loss: 0.020\n",
            "[99,    10] loss: 0.020\n",
            "[100,    10] loss: 0.019\n",
            "[101,    10] loss: 0.019\n",
            "[102,    10] loss: 0.019\n",
            "[103,    10] loss: 0.018\n",
            "[104,    10] loss: 0.018\n",
            "[105,    10] loss: 0.018\n",
            "[106,    10] loss: 0.018\n",
            "[107,    10] loss: 0.017\n",
            "[108,    10] loss: 0.017\n",
            "[109,    10] loss: 0.017\n",
            "[110,    10] loss: 0.017\n",
            "[111,    10] loss: 0.016\n",
            "[112,    10] loss: 0.016\n",
            "[113,    10] loss: 0.016\n",
            "[114,    10] loss: 0.016\n",
            "[115,    10] loss: 0.015\n",
            "[116,    10] loss: 0.015\n",
            "[117,    10] loss: 0.015\n",
            "[118,    10] loss: 0.015\n",
            "[119,    10] loss: 0.015\n",
            "[120,    10] loss: 0.014\n",
            "[121,    10] loss: 0.014\n",
            "[122,    10] loss: 0.014\n",
            "[123,    10] loss: 0.014\n",
            "[124,    10] loss: 0.014\n",
            "[125,    10] loss: 0.013\n",
            "[126,    10] loss: 0.013\n",
            "[127,    10] loss: 0.013\n",
            "[128,    10] loss: 0.013\n",
            "[129,    10] loss: 0.013\n",
            "[130,    10] loss: 0.013\n",
            "[131,    10] loss: 0.012\n",
            "[132,    10] loss: 0.012\n",
            "[133,    10] loss: 0.012\n",
            "[134,    10] loss: 0.012\n",
            "[135,    10] loss: 0.012\n",
            "[136,    10] loss: 0.012\n",
            "[137,    10] loss: 0.011\n",
            "[138,    10] loss: 0.011\n",
            "[139,    10] loss: 0.011\n",
            "[140,    10] loss: 0.011\n",
            "[141,    10] loss: 0.011\n",
            "[142,    10] loss: 0.011\n",
            "[143,    10] loss: 0.011\n",
            "[144,    10] loss: 0.011\n",
            "[145,    10] loss: 0.010\n",
            "[146,    10] loss: 0.010\n",
            "[147,    10] loss: 0.010\n",
            "[148,    10] loss: 0.010\n",
            "[149,    10] loss: 0.010\n",
            "Finished Training\n"
          ]
        }
      ],
      "source": [
        "nos_epochs = 2000\n",
        "focus_true_pred_true =0\n",
        "focus_false_pred_true =0\n",
        "focus_true_pred_false =0\n",
        "focus_false_pred_false =0\n",
        "\n",
        "argmax_more_than_half = 0\n",
        "argmax_less_than_half =0\n",
        "\n",
        "\n",
        "for epoch in range(nos_epochs):  # loop over the dataset multiple times\n",
        "\n",
        "  focus_true_pred_true =0\n",
        "  focus_false_pred_true =0\n",
        "  focus_true_pred_false =0\n",
        "  focus_false_pred_false =0\n",
        "  \n",
        "  argmax_more_than_half = 0\n",
        "  argmax_less_than_half =0\n",
        "  \n",
        "  running_loss = 0.0\n",
        "  epoch_loss = []\n",
        "  cnt=0\n",
        "\n",
        "  iteration = desired_num // batch\n",
        "  \n",
        "  #training data set\n",
        "  \n",
        "  for i, data in  enumerate(train_loader):\n",
        "    inputs , labels , fore_idx = data\n",
        "    batch = inputs.size(0)\n",
        "    inputs, labels = inputs.to(device), labels.to(device)\n",
        "    inputs = inputs.double()\n",
        "    # zero the parameter gradients\n",
        "    \n",
        "    optimizer_focus.zero_grad()\n",
        "    optimizer_classify.zero_grad()\n",
        "    \n",
        "    alphas, avg_images = focus_net(inputs)\n",
        "    outputs = classify(avg_images)\n",
        "\n",
        "    _, predicted = torch.max(outputs.data, 1)\n",
        "#     print(outputs)\n",
        "#     print(outputs.shape,labels.shape , torch.argmax(outputs, dim=1))\n",
        "\n",
        "    loss = my_cross_entropy(outputs, labels,alphas) \n",
        "    \n",
        "    loss.backward()\n",
        "    \n",
        "    \n",
        "    optimizer_focus.step()\n",
        "    optimizer_classify.step()\n",
        "\n",
        "    running_loss += loss.item()\n",
        "    mini = 10\n",
        "    if cnt % mini == mini-1:    # print every 40 mini-batches\n",
        "      print('[%d, %5d] loss: %.3f' %(epoch + 1, cnt + 1, running_loss / mini))\n",
        "      epoch_loss.append(running_loss/mini)\n",
        "      running_loss = 0.0\n",
        "    cnt=cnt+1\n",
        "\n",
        "  if(np.mean(epoch_loss) <= 0.01):\n",
        "      break;\n",
        "  #plot_attended_data(train_loader,focus_net,epoch)\n",
        "\n",
        "    \n",
        "print('Finished Training')"
      ]
    },
    {
      "cell_type": "code",
      "execution_count": 72,
      "metadata": {
        "id": "3xPsiBtU-GDn",
        "colab": {
          "base_uri": "https://localhost:8080/"
        },
        "outputId": "58d6362d-42a0-4355-a001-10339beb0784"
      },
      "outputs": [
        {
          "output_type": "stream",
          "name": "stdout",
          "text": [
            "('fc1.weight', Parameter containing:\n",
            "tensor([[ 9.6532e-01,  1.0729e+00],\n",
            "        [-1.2266e+00, -1.1759e+00],\n",
            "        [ 1.2712e+00, -3.2136e-01],\n",
            "        [ 1.1240e+00,  1.2985e+00],\n",
            "        [ 2.8705e-01,  8.5980e-01],\n",
            "        [-1.1959e+00, -4.5777e-01],\n",
            "        [ 6.6072e-01, -1.4224e+00],\n",
            "        [-1.3158e+00,  2.5286e-01],\n",
            "        [ 2.8664e-01,  7.5076e-02],\n",
            "        [ 3.2515e-01, -6.6851e-02],\n",
            "        [-1.1134e+00,  8.1403e-01],\n",
            "        [-7.2650e-01,  8.2906e-01],\n",
            "        [ 7.1556e-01,  2.4483e-01],\n",
            "        [-4.8731e-01,  1.0632e+00],\n",
            "        [ 6.4332e-01, -1.3192e+00],\n",
            "        [ 9.1049e-01,  3.0105e-01],\n",
            "        [-1.1937e+00,  6.3075e-01],\n",
            "        [ 4.6751e-01, -9.9376e-01],\n",
            "        [ 8.8013e-01,  1.1495e+00],\n",
            "        [ 2.6740e-01, -8.3305e-01],\n",
            "        [ 2.9022e-02, -1.1105e+00],\n",
            "        [-1.3557e+00,  2.5153e-01],\n",
            "        [ 1.0913e+00,  1.3356e+00],\n",
            "        [-7.4800e-01,  9.2655e-01],\n",
            "        [ 8.5896e-01, -1.8376e-01],\n",
            "        [ 1.2329e+00, -3.0931e-01],\n",
            "        [ 5.7626e-01, -1.2436e+00],\n",
            "        [ 2.4240e-02, -3.4568e-02],\n",
            "        [-1.2612e+00, -7.5229e-01],\n",
            "        [ 1.2369e+00, -3.0276e-01],\n",
            "        [-3.3142e-01,  6.5755e-01],\n",
            "        [-1.1362e+00, -4.2496e-01],\n",
            "        [ 4.3993e-01, -1.1119e+00],\n",
            "        [-2.7738e-01,  4.4594e-01],\n",
            "        [-1.7985e-07,  4.7066e-06],\n",
            "        [ 1.7792e-02,  5.5488e-03],\n",
            "        [-3.5322e-01,  6.2551e-01],\n",
            "        [ 5.4523e-02, -1.2127e-01],\n",
            "        [ 5.3066e-01, -1.0901e+00],\n",
            "        [-5.3517e-01, -5.3844e-01],\n",
            "        [ 9.1226e-01,  1.0961e+00],\n",
            "        [-9.7517e-01,  1.3709e-01],\n",
            "        [ 7.2873e-01,  1.0063e+00],\n",
            "        [ 6.4399e-06, -7.8841e-07],\n",
            "        [ 4.4699e-01,  1.2637e-01],\n",
            "        [ 4.4841e-01, -9.4081e-02],\n",
            "        [-1.1906e+00, -1.2541e+00],\n",
            "        [ 7.7854e-02, -1.7562e-01],\n",
            "        [ 1.0674e+00,  4.6638e-01],\n",
            "        [ 1.2385e+00, -3.3608e-01]], device='cuda:0', dtype=torch.float64,\n",
            "       requires_grad=True))\n",
            "('fc2.weight', Parameter containing:\n",
            "tensor([[-0.9847, -0.9350, -0.9622, -1.1796, -1.1132, -1.2328, -0.9039, -1.2382,\n",
            "         -0.4231, -0.3313, -1.2638, -1.0496, -0.8102, -0.8523, -1.0026, -0.5989,\n",
            "         -0.9345, -1.1327, -0.8238, -1.4295, -1.0152, -1.2193, -1.1170, -0.9435,\n",
            "         -0.6036, -0.8322, -0.9541, -0.0771, -0.8507, -0.9785, -1.3143, -1.1692,\n",
            "         -1.0377, -0.2017,  0.1291,  0.0852, -1.4485, -0.1168, -1.1079, -0.5295,\n",
            "         -1.0081, -0.7094, -0.8654,  0.1001, -0.3870, -0.4158, -1.0567, -0.2030,\n",
            "         -0.9420, -1.2671]], device='cuda:0', dtype=torch.float64,\n",
            "       requires_grad=True))\n"
          ]
        }
      ],
      "source": [
        "for param in focus_net.named_parameters():\n",
        "    print(param)"
      ]
    },
    {
      "cell_type": "code",
      "execution_count": 73,
      "metadata": {
        "id": "jhvhkEAyeRpt",
        "colab": {
          "base_uri": "https://localhost:8080/"
        },
        "outputId": "0b862191-c40e-43d0-bbfd-9bffe04a9f5a"
      },
      "outputs": [
        {
          "output_type": "stream",
          "name": "stdout",
          "text": [
            "Accuracy of the network on the train images: 100.000000 %\n",
            "total correct 500\n",
            "total train set images 500\n"
          ]
        }
      ],
      "source": [
        "correct = 0\n",
        "total = 0\n",
        "\n",
        "focus_net.eval()\n",
        "classify.eval()\n",
        "with torch.no_grad():\n",
        "  for data in train_loader:\n",
        "    inputs, labels , fore_idx = data\n",
        "    inputs = inputs.double()\n",
        "    inputs, labels = inputs.to(device), labels.to(device)\n",
        "    alphas, avg_images = focus_net(inputs)\n",
        "    outputs = classify(avg_images)\n",
        "    #print(outputs.shape)\n",
        "\n",
        "    _, predicted = torch.max(outputs.data, 1)\n",
        "\n",
        "    total += labels.size(0)\n",
        "    correct += (predicted == labels).sum().item()\n",
        "\n",
        "print('Accuracy of the network on the train images: %f %%' % ( 100 * correct / total))\n",
        "print(\"total correct\", correct)\n",
        "print(\"total train set images\", total)"
      ]
    },
    {
      "cell_type": "code",
      "execution_count": 74,
      "metadata": {
        "id": "OKcmpKwGeS8M",
        "colab": {
          "base_uri": "https://localhost:8080/"
        },
        "outputId": "24e67e16-d4b5-4812-f8ce-c381b6206173"
      },
      "outputs": [
        {
          "output_type": "stream",
          "name": "stdout",
          "text": [
            "Accuracy of the network on the test images: 100.000000 %\n",
            "total correct 1000\n",
            "total train set images 1000\n"
          ]
        }
      ],
      "source": [
        "correct = 0\n",
        "total = 0\n",
        "\n",
        "with torch.no_grad():\n",
        "  for data in test_loader:\n",
        "    inputs, labels , fore_idx = data\n",
        "    inputs = inputs.double()\n",
        "    inputs, labels = inputs.to(device), labels.to(device)\n",
        "    alphas, avg_images = focus_net(inputs)\n",
        "    outputs = classify(avg_images)\n",
        "\n",
        "    _, predicted = torch.max(outputs.data, 1)\n",
        "\n",
        "    total += labels.size(0)\n",
        "    correct += (predicted == labels).sum().item()\n",
        "\n",
        "print('Accuracy of the network on the test images: %f %%' % ( 100 * correct / total))\n",
        "print(\"total correct\", correct)\n",
        "print(\"total train set images\", total)"
      ]
    },
    {
      "cell_type": "code",
      "execution_count": 74,
      "metadata": {
        "id": "5wDw34S54rjP"
      },
      "outputs": [],
      "source": [
        ""
      ]
    }
  ],
  "metadata": {
    "accelerator": "GPU",
    "colab": {
      "collapsed_sections": [],
      "name": "hard_attention_2.ipynb",
      "provenance": []
    },
    "kernelspec": {
      "display_name": "Python 3 (ipykernel)",
      "language": "python",
      "name": "python3"
    },
    "language_info": {
      "codemirror_mode": {
        "name": "ipython",
        "version": 3
      },
      "file_extension": ".py",
      "mimetype": "text/x-python",
      "name": "python",
      "nbconvert_exporter": "python",
      "pygments_lexer": "ipython3",
      "version": "3.8.12"
    }
  },
  "nbformat": 4,
  "nbformat_minor": 0
}