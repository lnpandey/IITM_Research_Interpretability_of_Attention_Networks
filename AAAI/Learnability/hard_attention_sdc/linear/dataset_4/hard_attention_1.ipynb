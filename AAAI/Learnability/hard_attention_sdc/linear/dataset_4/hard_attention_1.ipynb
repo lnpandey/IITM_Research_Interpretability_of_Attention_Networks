{
 "cells": [
  {
   "cell_type": "code",
   "execution_count": 1,
   "metadata": {
    "executionInfo": {
     "elapsed": 596,
     "status": "ok",
     "timestamp": 1634805014692,
     "user": {
      "displayName": "Rahul Vashisht cs18d006",
      "photoUrl": "https://lh3.googleusercontent.com/a/default-user=s64",
      "userId": "07093414448675380290"
     },
     "user_tz": -330
    },
    "id": "0vlCAi2JLSzD"
   },
   "outputs": [],
   "source": [
    "# from google.colab import drive\n",
    "# drive.mount('/content/drive')"
   ]
  },
  {
   "cell_type": "code",
   "execution_count": 2,
   "metadata": {
    "executionInfo": {
     "elapsed": 4,
     "status": "ok",
     "timestamp": 1634805014693,
     "user": {
      "displayName": "Rahul Vashisht cs18d006",
      "photoUrl": "https://lh3.googleusercontent.com/a/default-user=s64",
      "userId": "07093414448675380290"
     },
     "user_tz": -330
    },
    "id": "PiPNZm1iTgHy"
   },
   "outputs": [],
   "source": [
    "# path=\"/content/drive/MyDrive/Research/Hard_Attention/dataset_2/m_5_size_100/run_\""
   ]
  },
  {
   "cell_type": "code",
   "execution_count": null,
   "metadata": {
    "executionInfo": {
     "elapsed": 3,
     "status": "ok",
     "timestamp": 1634805014693,
     "user": {
      "displayName": "Rahul Vashisht cs18d006",
      "photoUrl": "https://lh3.googleusercontent.com/a/default-user=s64",
      "userId": "07093414448675380290"
     },
     "user_tz": -330
    },
    "id": "SrZgZMlK-GDe"
   },
   "outputs": [],
   "source": []
  },
  {
   "cell_type": "code",
   "execution_count": 3,
   "metadata": {
    "colab": {
     "base_uri": "https://localhost:8080/"
    },
    "executionInfo": {
     "elapsed": 25004,
     "status": "ok",
     "timestamp": 1634805039693,
     "user": {
      "displayName": "Rahul Vashisht cs18d006",
      "photoUrl": "https://lh3.googleusercontent.com/a/default-user=s64",
      "userId": "07093414448675380290"
     },
     "user_tz": -330
    },
    "id": "N2_J4Rw2r0SQ",
    "outputId": "2e9af1d0-7605-4b70-90f7-1c488bee5e7b"
   },
   "outputs": [
    {
     "name": "stdout",
     "output_type": "stream",
     "text": [
      "cpu\n"
     ]
    }
   ],
   "source": [
    "import numpy as np\n",
    "import pandas as pd\n",
    "from matplotlib import pyplot as plt\n",
    "from tqdm import tqdm\n",
    "%matplotlib inline\n",
    "from torch.utils.data import Dataset, DataLoader\n",
    "import torch\n",
    "import torchvision\n",
    "\n",
    "import torch.nn as nn\n",
    "import torch.optim as optim\n",
    "from torch.nn import functional as F\n",
    "from tqdm import tqdm as tqdm\n",
    "device = torch.device(\"cuda\" if torch.cuda.is_available() else \"cpu\")\n",
    "print(device)"
   ]
  },
  {
   "cell_type": "code",
   "execution_count": 4,
   "metadata": {
    "executionInfo": {
     "elapsed": 1947,
     "status": "ok",
     "timestamp": 1634805041636,
     "user": {
      "displayName": "Rahul Vashisht cs18d006",
      "photoUrl": "https://lh3.googleusercontent.com/a/default-user=s64",
      "userId": "07093414448675380290"
     },
     "user_tz": -330
    },
    "id": "-Dmy2iPWlgnc"
   },
   "outputs": [],
   "source": [
    "from torch.utils.tensorboard import SummaryWriter\n",
    "\n",
    "writer = SummaryWriter('runs/hard_attention')"
   ]
  },
  {
   "cell_type": "markdown",
   "metadata": {
    "id": "F6fjud_Fr0Sa"
   },
   "source": [
    "# Generate dataset"
   ]
  },
  {
   "cell_type": "code",
   "execution_count": 5,
   "metadata": {
    "colab": {
     "base_uri": "https://localhost:8080/"
    },
    "executionInfo": {
     "elapsed": 22,
     "status": "ok",
     "timestamp": 1634805041640,
     "user": {
      "displayName": "Rahul Vashisht cs18d006",
      "photoUrl": "https://lh3.googleusercontent.com/a/default-user=s64",
      "userId": "07093414448675380290"
     },
     "user_tz": -330
    },
    "id": "CqdXHO0Cr0Sd",
    "outputId": "55a65df0-b570-448e-9841-e0bf957827c2"
   },
   "outputs": [
    {
     "name": "stdout",
     "output_type": "stream",
     "text": [
      "0 500\n",
      "1 500\n",
      "2 500\n",
      "3 500\n",
      "4 500\n",
      "5 500\n",
      "6 500\n",
      "7 500\n",
      "8 500\n",
      "9 500\n"
     ]
    }
   ],
   "source": [
    "np.random.seed(1)\n",
    "\n",
    "y = np.concatenate((np.zeros(500),np.ones(500),np.ones(500)*2,np.ones(500)*3,np.ones(500)*4,\n",
    "                    np.ones(500)*5,np.ones(500)*6,np.ones(500)*7,np.ones(500)*8,np.ones(500)*9))\n",
    "#y = np.random.randint(0,3,6000)\n",
    "idx= []\n",
    "for i in range(10):\n",
    "    print(i,sum(y==i))\n",
    "    idx.append(y==i)"
   ]
  },
  {
   "cell_type": "code",
   "execution_count": 6,
   "metadata": {
    "executionInfo": {
     "elapsed": 14,
     "status": "ok",
     "timestamp": 1634805041640,
     "user": {
      "displayName": "Rahul Vashisht cs18d006",
      "photoUrl": "https://lh3.googleusercontent.com/a/default-user=s64",
      "userId": "07093414448675380290"
     },
     "user_tz": -330
    },
    "id": "ddhXyODwr0Sk"
   },
   "outputs": [],
   "source": [
    "x = np.zeros((5000,2))"
   ]
  },
  {
   "cell_type": "code",
   "execution_count": 7,
   "metadata": {
    "executionInfo": {
     "elapsed": 13,
     "status": "ok",
     "timestamp": 1634805041641,
     "user": {
      "displayName": "Rahul Vashisht cs18d006",
      "photoUrl": "https://lh3.googleusercontent.com/a/default-user=s64",
      "userId": "07093414448675380290"
     },
     "user_tz": -330
    },
    "id": "DyV3N2DIr0Sp"
   },
   "outputs": [],
   "source": [
    "np.random.seed(12)\n",
    "\n",
    "x[idx[0],:] = np.random.multivariate_normal(mean = [4,6.5],cov=[[0.01,0],[0,0.01]],size=sum(idx[0]))\n",
    "x[idx[1],:] = np.random.multivariate_normal(mean = [5.5,6],cov=[[0.01,0],[0,0.01]],size=sum(idx[1]))\n",
    "x[idx[2],:] = np.random.multivariate_normal(mean = [4.5,4.5],cov=[[0.01,0],[0,0.01]],size=sum(idx[2]))\n",
    "x[idx[3],:] = np.random.multivariate_normal(mean = [3,3.5],cov=[[0.01,0],[0,0.01]],size=sum(idx[3]))\n",
    "x[idx[4],:] = np.random.multivariate_normal(mean = [2.5,5.5],cov=[[0.01,0],[0,0.01]],size=sum(idx[4]))\n",
    "x[idx[5],:] = np.random.multivariate_normal(mean = [3.5,8],cov=[[0.01,0],[0,0.01]],size=sum(idx[5]))\n",
    "x[idx[6],:] = np.random.multivariate_normal(mean = [5.5,8],cov=[[0.01,0],[0,0.01]],size=sum(idx[6]))\n",
    "x[idx[7],:] = np.random.multivariate_normal(mean = [7,6.5],cov=[[0.01,0],[0,0.01]],size=sum(idx[7]))\n",
    "x[idx[8],:] = np.random.multivariate_normal(mean = [6.5,4.5],cov=[[0.01,0],[0,0.01]],size=sum(idx[8]))\n",
    "x[idx[9],:] = np.random.multivariate_normal(mean = [5,3],cov=[[0.01,0],[0,0.01]],size=sum(idx[9]))"
   ]
  },
  {
   "cell_type": "code",
   "execution_count": 8,
   "metadata": {
    "colab": {
     "base_uri": "https://localhost:8080/"
    },
    "executionInfo": {
     "elapsed": 13,
     "status": "ok",
     "timestamp": 1634805041641,
     "user": {
      "displayName": "Rahul Vashisht cs18d006",
      "photoUrl": "https://lh3.googleusercontent.com/a/default-user=s64",
      "userId": "07093414448675380290"
     },
     "user_tz": -330
    },
    "id": "qh1mDScsU07I",
    "outputId": "14b6ce5c-fcd4-4198-810d-38613282dcd2"
   },
   "outputs": [
    {
     "data": {
      "text/plain": [
       "(array([4.04729858, 6.43185741]), array([4.53008447, 4.5079931 ]))"
      ]
     },
     "execution_count": 8,
     "metadata": {},
     "output_type": "execute_result"
    }
   ],
   "source": [
    "x[idx[0]][0], x[idx[2]][5] "
   ]
  },
  {
   "cell_type": "code",
   "execution_count": 9,
   "metadata": {
    "colab": {
     "base_uri": "https://localhost:8080/"
    },
    "executionInfo": {
     "elapsed": 10,
     "status": "ok",
     "timestamp": 1634805041641,
     "user": {
      "displayName": "Rahul Vashisht cs18d006",
      "photoUrl": "https://lh3.googleusercontent.com/a/default-user=s64",
      "userId": "07093414448675380290"
     },
     "user_tz": -330
    },
    "id": "9Vr5ErQ_wSrV",
    "outputId": "54cde011-53f2-4947-9ec6-b4ca2a0d2d42"
   },
   "outputs": [
    {
     "name": "stdout",
     "output_type": "stream",
     "text": [
      "(5000, 2) (5000,)\n"
     ]
    }
   ],
   "source": [
    "print(x.shape,y.shape)"
   ]
  },
  {
   "cell_type": "code",
   "execution_count": 10,
   "metadata": {
    "executionInfo": {
     "elapsed": 9,
     "status": "ok",
     "timestamp": 1634805041642,
     "user": {
      "displayName": "Rahul Vashisht cs18d006",
      "photoUrl": "https://lh3.googleusercontent.com/a/default-user=s64",
      "userId": "07093414448675380290"
     },
     "user_tz": -330
    },
    "id": "NG-3RpffwU_i"
   },
   "outputs": [],
   "source": [
    "idx= []\n",
    "for i in range(10):\n",
    "  idx.append(y==i)"
   ]
  },
  {
   "cell_type": "code",
   "execution_count": 11,
   "metadata": {
    "colab": {
     "base_uri": "https://localhost:8080/",
     "height": 282
    },
    "executionInfo": {
     "elapsed": 1108,
     "status": "ok",
     "timestamp": 1634805042742,
     "user": {
      "displayName": "Rahul Vashisht cs18d006",
      "photoUrl": "https://lh3.googleusercontent.com/a/default-user=s64",
      "userId": "07093414448675380290"
     },
     "user_tz": -330
    },
    "id": "hJ8Jm7YUr0St",
    "outputId": "2cda1a1f-c910-460b-a9ae-4c7250d613aa"
   },
   "outputs": [
    {
     "data": {
      "text/plain": [
       "<matplotlib.legend.Legend at 0x1047308e0>"
      ]
     },
     "execution_count": 11,
     "metadata": {},
     "output_type": "execute_result"
    },
    {
     "data": {
      "image/png": "[encoded data removed]",
      "text/plain": [
       "<Figure size 432x288 with 1 Axes>"
      ]
     },
     "metadata": {
      "needs_background": "light"
     },
     "output_type": "display_data"
    }
   ],
   "source": [
    "for i in range(10):\n",
    "    plt.scatter(x[idx[i],0],x[idx[i],1],label=\"class_\"+str(i))\n",
    "plt.legend(loc='center left', bbox_to_anchor=(1, 0.5))"
   ]
  },
  {
   "cell_type": "code",
   "execution_count": 12,
   "metadata": {
    "executionInfo": {
     "elapsed": 29,
     "status": "ok",
     "timestamp": 1634805042743,
     "user": {
      "displayName": "Rahul Vashisht cs18d006",
      "photoUrl": "https://lh3.googleusercontent.com/a/default-user=s64",
      "userId": "07093414448675380290"
     },
     "user_tz": -330
    },
    "id": "fNWgnhUJnWLV"
   },
   "outputs": [],
   "source": [
    "x = ( x -  np.mean(x,axis=0,keepdims=True) ) / np.std(x,axis=0,keepdims=True) \n"
   ]
  },
  {
   "cell_type": "code",
   "execution_count": 13,
   "metadata": {
    "colab": {
     "base_uri": "https://localhost:8080/",
     "height": 282
    },
    "executionInfo": {
     "elapsed": 26,
     "status": "ok",
     "timestamp": 1634805042743,
     "user": {
      "displayName": "Rahul Vashisht cs18d006",
      "photoUrl": "https://lh3.googleusercontent.com/a/default-user=s64",
      "userId": "07093414448675380290"
     },
     "user_tz": -330
    },
    "id": "8-VLhUfDDeHt",
    "outputId": "328bf955-e35c-47bd-ca8a-a2290ac75781"
   },
   "outputs": [
    {
     "data": {
      "text/plain": [
       "<matplotlib.legend.Legend at 0x2828c1b80>"
      ]
     },
     "execution_count": 13,
     "metadata": {},
     "output_type": "execute_result"
    },
    {
     "data": {
      "image/png": "[encoded data removed]",
      "text/plain": [
       "<Figure size 432x288 with 1 Axes>"
      ]
     },
     "metadata": {
      "needs_background": "light"
     },
     "output_type": "display_data"
    }
   ],
   "source": [
    "for i in range(10):\n",
    "    plt.scatter(x[idx[i],0],x[idx[i],1],label=\"class_\"+str(i))\n",
    "plt.legend(loc='center left', bbox_to_anchor=(1, 0.5))"
   ]
  },
  {
   "cell_type": "code",
   "execution_count": 14,
   "metadata": {
    "executionInfo": {
     "elapsed": 21,
     "status": "ok",
     "timestamp": 1634805042744,
     "user": {
      "displayName": "Rahul Vashisht cs18d006",
      "photoUrl": "https://lh3.googleusercontent.com/a/default-user=s64",
      "userId": "07093414448675380290"
     },
     "user_tz": -330
    },
    "id": "UfFHcZJOr0Sz"
   },
   "outputs": [],
   "source": [
    "foreground_classes = {'class_0','class_1' }\n",
    "\n",
    "background_classes = {'bg_classes',}"
   ]
  },
  {
   "cell_type": "code",
   "execution_count": 15,
   "metadata": {
    "colab": {
     "base_uri": "https://localhost:8080/"
    },
    "executionInfo": {
     "elapsed": 804,
     "status": "ok",
     "timestamp": 1634805043528,
     "user": {
      "displayName": "Rahul Vashisht cs18d006",
      "photoUrl": "https://lh3.googleusercontent.com/a/default-user=s64",
      "userId": "07093414448675380290"
     },
     "user_tz": -330
    },
    "id": "jqbvfbwVr0TN",
    "outputId": "dc7be6e6-3b9c-4ecd-e5d2-2872d09d0738"
   },
   "outputs": [
    {
     "name": "stderr",
     "output_type": "stream",
     "text": [
      "100%|████████████████████████████████████| 1100/1100 [00:00<00:00, 11718.85it/s]\n"
     ]
    }
   ],
   "source": [
    "desired_num = 1100\n",
    "mosaic_list_of_images =[]\n",
    "mosaic_label = []\n",
    "fore_idx=[]\n",
    "m = 5\n",
    "for j in tqdm(range(desired_num)):\n",
    "    np.random.seed(j)\n",
    "    fg_class  = np.random.randint(0,3)\n",
    "    fg_idx = np.random.randint(0,m)\n",
    "    a = []\n",
    "    for i in range(m):\n",
    "        if i == fg_idx:\n",
    "            b = np.random.choice(np.where(idx[fg_class]==True)[0],size=1)\n",
    "            a.append(x[b])\n",
    "#             print(\"foreground \"+str(fg_class)+\" present at \" + str(fg_idx))\n",
    "        else:\n",
    "            bg_class = np.random.randint(3,10)\n",
    "            b = np.random.choice(np.where(idx[bg_class]==True)[0],size=1)\n",
    "            a.append(x[b])\n",
    "#             print(\"background \"+str(bg_class)+\" present at \" + str(i))\n",
    "    a = np.concatenate(a,axis=0)\n",
    "    mosaic_list_of_images.append(np.reshape(a,(m,2)))\n",
    "    mosaic_label.append(fg_class)\n",
    "    fore_idx.append(fg_idx)"
   ]
  },
  {
   "cell_type": "code",
   "execution_count": 16,
   "metadata": {
    "executionInfo": {
     "elapsed": 13,
     "status": "ok",
     "timestamp": 1634805043529,
     "user": {
      "displayName": "Rahul Vashisht cs18d006",
      "photoUrl": "https://lh3.googleusercontent.com/a/default-user=s64",
      "userId": "07093414448675380290"
     },
     "user_tz": -330
    },
    "id": "BOsFmWfMr0TR"
   },
   "outputs": [],
   "source": [
    "# mosaic_list_of_images = np.concatenate(mosaic_list_of_images,axis=1).T\n"
   ]
  },
  {
   "cell_type": "code",
   "execution_count": 17,
   "metadata": {
    "colab": {
     "base_uri": "https://localhost:8080/"
    },
    "executionInfo": {
     "elapsed": 12,
     "status": "ok",
     "timestamp": 1634805043529,
     "user": {
      "displayName": "Rahul Vashisht cs18d006",
      "photoUrl": "https://lh3.googleusercontent.com/a/default-user=s64",
      "userId": "07093414448675380290"
     },
     "user_tz": -330
    },
    "id": "2aIPMgLXNiXW",
    "outputId": "2ceefa71-71ba-4d90-f0de-75e5673f7cd0"
   },
   "outputs": [
    {
     "data": {
      "text/plain": [
       "(1100,\n",
       " array([[-0.49857044,  0.4606684 ],\n",
       "        [ 0.57286412,  1.42914583],\n",
       "        [-1.69776679, -0.08130752],\n",
       "        [ 1.27946811, -0.71643805],\n",
       "        [ 1.45704   ,  0.60485745]]),\n",
       " (5, 2))"
      ]
     },
     "execution_count": 17,
     "metadata": {},
     "output_type": "execute_result"
    }
   ],
   "source": [
    "len(mosaic_list_of_images), mosaic_list_of_images[0],mosaic_list_of_images[0].shape"
   ]
  },
  {
   "cell_type": "code",
   "execution_count": 18,
   "metadata": {
    "executionInfo": {
     "elapsed": 9,
     "status": "ok",
     "timestamp": 1634805043529,
     "user": {
      "displayName": "Rahul Vashisht cs18d006",
      "photoUrl": "https://lh3.googleusercontent.com/a/default-user=s64",
      "userId": "07093414448675380290"
     },
     "user_tz": -330
    },
    "id": "iPoIwbMHx44n"
   },
   "outputs": [],
   "source": [
    "class MosaicDataset(Dataset):\n",
    "  \"\"\"MosaicDataset dataset.\"\"\"\n",
    "\n",
    "  def __init__(self, mosaic_list_of_images, mosaic_label, fore_idx):\n",
    "    \"\"\"\n",
    "      Args:\n",
    "        csv_file (string): Path to the csv file with annotations.\n",
    "        root_dir (string): Directory with all the images.\n",
    "        transform (callable, optional): Optional transform to be applied\n",
    "            on a sample.\n",
    "    \"\"\"\n",
    "    self.mosaic = mosaic_list_of_images\n",
    "    self.label = mosaic_label\n",
    "    self.fore_idx = fore_idx\n",
    "\n",
    "  def __len__(self):\n",
    "    return len(self.label)\n",
    "\n",
    "  def __getitem__(self, idx):\n",
    "    return self.mosaic[idx] , self.label[idx], self.fore_idx[idx]\n",
    "\n"
   ]
  },
  {
   "cell_type": "code",
   "execution_count": 19,
   "metadata": {
    "executionInfo": {
     "elapsed": 10,
     "status": "ok",
     "timestamp": 1634805043530,
     "user": {
      "displayName": "Rahul Vashisht cs18d006",
      "photoUrl": "https://lh3.googleusercontent.com/a/default-user=s64",
      "userId": "07093414448675380290"
     },
     "user_tz": -330
    },
    "id": "fOPAJQJeW8Ah"
   },
   "outputs": [],
   "source": [
    "batch = 50\n",
    "msd1 = MosaicDataset(mosaic_list_of_images[0:100], mosaic_label[0:100] , fore_idx[0:100])\n",
    "train_loader = DataLoader( msd1 ,batch_size= batch ,shuffle=True)"
   ]
  },
  {
   "cell_type": "code",
   "execution_count": 20,
   "metadata": {
    "executionInfo": {
     "elapsed": 9,
     "status": "ok",
     "timestamp": 1634805043530,
     "user": {
      "displayName": "Rahul Vashisht cs18d006",
      "photoUrl": "https://lh3.googleusercontent.com/a/default-user=s64",
      "userId": "07093414448675380290"
     },
     "user_tz": -330
    },
    "id": "aWBIcyvGApLt"
   },
   "outputs": [],
   "source": [
    "data,_,_=iter(train_loader).next()"
   ]
  },
  {
   "cell_type": "code",
   "execution_count": 21,
   "metadata": {
    "colab": {
     "base_uri": "https://localhost:8080/"
    },
    "executionInfo": {
     "elapsed": 9,
     "status": "ok",
     "timestamp": 1634805043530,
     "user": {
      "displayName": "Rahul Vashisht cs18d006",
      "photoUrl": "https://lh3.googleusercontent.com/a/default-user=s64",
      "userId": "07093414448675380290"
     },
     "user_tz": -330
    },
    "id": "cauJIvKEAxKM",
    "outputId": "c0b5ce01-f4e6-4a17-946d-9d3036719125"
   },
   "outputs": [
    {
     "data": {
      "text/plain": [
       "torch.Size([50, 5, 2])"
      ]
     },
     "execution_count": 21,
     "metadata": {},
     "output_type": "execute_result"
    }
   ],
   "source": [
    "data.shape"
   ]
  },
  {
   "cell_type": "code",
   "execution_count": 22,
   "metadata": {
    "executionInfo": {
     "elapsed": 8,
     "status": "ok",
     "timestamp": 1634805043531,
     "user": {
      "displayName": "Rahul Vashisht cs18d006",
      "photoUrl": "https://lh3.googleusercontent.com/a/default-user=s64",
      "userId": "07093414448675380290"
     },
     "user_tz": -330
    },
    "id": "qjNiQgxZW8bA"
   },
   "outputs": [],
   "source": [
    "batch = 250\n",
    "msd2 = MosaicDataset(mosaic_list_of_images[100:], mosaic_label[100:] , fore_idx[100:])\n",
    "test_loader = DataLoader( msd2 ,batch_size= batch ,shuffle=True)"
   ]
  },
  {
   "cell_type": "code",
   "execution_count": 23,
   "metadata": {
    "executionInfo": {
     "elapsed": 8,
     "status": "ok",
     "timestamp": 1634805043531,
     "user": {
      "displayName": "Rahul Vashisht cs18d006",
      "photoUrl": "https://lh3.googleusercontent.com/a/default-user=s64",
      "userId": "07093414448675380290"
     },
     "user_tz": -330
    },
    "id": "yda1E5ApiKpH"
   },
   "outputs": [],
   "source": [
    "class Focus(nn.Module):\n",
    "    def __init__(self):\n",
    "        super(Focus, self).__init__()\n",
    "        self.fc1 = nn.Linear(2,50, bias=False)\n",
    "        self.fc2 = nn.Linear(50,1,bias=False)\n",
    "        torch.nn.init.xavier_normal_(self.fc1.weight)\n",
    "        torch.nn.init.xavier_normal_(self.fc2.weight)\n",
    "        #self.fc2 = nn.Linear(64, 1, bias=False)\n",
    "        #torch.nn.init.xavier_normal_(self.fc2.weight)\n",
    "\n",
    "    def forward(self,z):\n",
    "        #print(\"data\",z)\n",
    "        batch = z.size(0)\n",
    "        patches = z.size(1)\n",
    "        z = z.view(batch,patches,2*1)\n",
    "        alp1,ft1 = self.helper(z)\n",
    "\n",
    "        alpha = F.softmax(alp1,dim=1)\n",
    "        #print(self.training)\n",
    "        \n",
    "        if self.training:\n",
    "            alpha =alpha[:,:,0]\n",
    "            y = ft1 \n",
    "            return alpha,y\n",
    "        else:\n",
    "            #alpha_cumsum = torch.cumsum(alpha, dim = 1)\n",
    "            #print(alpha_cumsum)\n",
    "            #len_batch = alpha_cumsum.size(0)\n",
    "            #patches = alpha_cumsum.size(1)\n",
    "            #rand_prob = torch.rand(len_batch,patches, 1).to(device)\n",
    "            #alpha_relu = F.relu(rand_prob-alpha_cumsum)\n",
    "            #print(alpha_relu)\n",
    "            #alpha_index = torch.count_nonzero(alpha_relu,dim=1)\n",
    "            #alpha_hard = F.one_hot(alpha_index,num_classes=patches)\n",
    "            #print(alpha_hard)\n",
    "            #alpha_hard = torch.transpose(alpha_hard,dim0=1,dim1=2)\n",
    "            #print(ft1,\"alpha_hard\",alpha_hard) \n",
    "            #y = torch.sum(alpha_hard*ft1,dim=1)\n",
    "            #print(alpha,alpha.shape)\n",
    "         \n",
    "        \n",
    "            index = torch.argmax(alpha,dim=1)\n",
    "            hard_alpha = torch.nn.functional.one_hot(index[:,0], patches)\n",
    "            y = torch.sum(hard_alpha[:,:,None]*ft1,dim=1)\n",
    "            alpha = alpha[:,:,0]\n",
    "            return alpha,y\n",
    "    \n",
    "    def helper(self, x):\n",
    "        x1 = x\n",
    "        x = F.relu(self.fc1(x))\n",
    "        x = self.fc2(x)\n",
    "        return x,x1"
   ]
  },
  {
   "cell_type": "code",
   "execution_count": 24,
   "metadata": {
    "executionInfo": {
     "elapsed": 7,
     "status": "ok",
     "timestamp": 1634805043531,
     "user": {
      "displayName": "Rahul Vashisht cs18d006",
      "photoUrl": "https://lh3.googleusercontent.com/a/default-user=s64",
      "userId": "07093414448675380290"
     },
     "user_tz": -330
    },
    "id": "0dYXnywAD-4l"
   },
   "outputs": [],
   "source": [
    "class Classification(nn.Module):\n",
    "  def __init__(self):\n",
    "    super(Classification, self).__init__()\n",
    "    self.fc1 = nn.Linear(2, 3)\n",
    "    torch.nn.init.xavier_normal_(self.fc1.weight)\n",
    "    torch.nn.init.zeros_(self.fc1.bias)\n",
    "\n",
    "  def forward(self, x):\n",
    "    #print(x.shape)\n",
    "    #x = x.view(-1, 1)\n",
    "    #print(x.shape)\n",
    "    x = self.fc1(x)\n",
    "    # print(x.shape)\n",
    "    return x"
   ]
  },
  {
   "cell_type": "code",
   "execution_count": 25,
   "metadata": {
    "id": "lSa6O9f6XNf4"
   },
   "outputs": [],
   "source": [
    "torch.manual_seed(12)\n",
    "focus_net = Focus().double()\n",
    "focus_net = focus_net.to(device)"
   ]
  },
  {
   "cell_type": "code",
   "execution_count": 26,
   "metadata": {
    "id": "36k3H2G-XO9A"
   },
   "outputs": [],
   "source": [
    "torch.manual_seed(12)\n",
    "classify = Classification().double()\n",
    "classify = classify.to(device)"
   ]
  },
  {
   "cell_type": "code",
   "execution_count": 27,
   "metadata": {
    "id": "bK78aII8-GDl"
   },
   "outputs": [],
   "source": [
    "import torch.optim as optim\n",
    "optimizer_classify = optim.Adam(classify.parameters(), lr=0.01 ) #, momentum=0.9)\n",
    "optimizer_focus = optim.Adam(focus_net.parameters(), lr=0.01 ) #, momentum=0.9)"
   ]
  },
  {
   "cell_type": "code",
   "execution_count": 28,
   "metadata": {
    "id": "h0mjWiFG-GDl"
   },
   "outputs": [],
   "source": [
    "def my_cross_entropy(output,target,alpha):\n",
    "    criterion = nn.CrossEntropyLoss(reduce=False)\n",
    "    \n",
    "    batch = output.size(0)\n",
    "    #print(batch)\n",
    "    patches = output.size(1)\n",
    "    classes = output.size(2)\n",
    "    \n",
    "    \n",
    "    \n",
    "    output = torch.reshape(output,(batch*patches,classes))\n",
    "    \n",
    "    \n",
    "    target = target.repeat_interleave(patches)\n",
    "    \n",
    "    loss = criterion(output,target)\n",
    "    \n",
    "    #print(loss,loss.shape)\n",
    "    loss = torch.reshape(loss,(batch,patches))\n",
    "    #print(loss.size())\n",
    "    final_loss = torch.sum(torch.mul(loss,alpha),dim=1)\n",
    "    #print(final_loss.shape)\n",
    "    final_loss = torch.mean(final_loss,dim=0)\n",
    "    \n",
    "    \n",
    "    \n",
    "    #print(final_loss)\n",
    "    return final_loss\n",
    "    \n",
    "    \n",
    "    "
   ]
  },
  {
   "cell_type": "code",
   "execution_count": 29,
   "metadata": {
    "id": "pjD2VZuV9Ed4"
   },
   "outputs": [],
   "source": [
    "col1=[]\n",
    "col2=[]\n",
    "col3=[]\n",
    "col4=[]\n",
    "col5=[]\n",
    "col6=[]\n",
    "col7=[]\n",
    "col8=[]\n",
    "col9=[]\n",
    "col10=[]\n",
    "col11=[]\n",
    "col12=[]\n",
    "col13=[]"
   ]
  },
  {
   "cell_type": "code",
   "execution_count": 30,
   "metadata": {
    "id": "eEVrBg7d-GDl"
   },
   "outputs": [],
   "source": [
    "def plot_attended_data(trainloader,net,epoch):\n",
    "    attd_data =[]\n",
    "    lbls = []\n",
    "    for data in trainloader:\n",
    "        inputs, labels , fore_idx = data\n",
    "        inputs = inputs.double()\n",
    "        inputs, labels , fore_idx = inputs.to(device),labels.to(device), fore_idx.to(device)\n",
    "        alphas, avg_images = focus_net(inputs)\n",
    "        attd_data.append(avg_images.numpy())\n",
    "        lbls.append(labels)\n",
    "    attd_data = np.concatenate(attd_data,axis=0)\n",
    "    lbls = np.concatenate(lbls,axis=0)\n",
    "    plt.figure(figsize=(6,8))\n",
    "    plt.scatter(attd_data[:,0],attd_data[:,1],c=lbls)\n",
    "    plt.title(\"EPOCH_\"+str(epoch))"
   ]
  },
  {
   "cell_type": "code",
   "execution_count": 31,
   "metadata": {
    "id": "uALi25pmzQHV"
   },
   "outputs": [
    {
     "name": "stdout",
     "output_type": "stream",
     "text": [
      "tensor(1.1468, dtype=torch.float64)\n",
      "tensor(1.1553, dtype=torch.float64)\n",
      "====================================================================================================\n"
     ]
    },
    {
     "name": "stderr",
     "output_type": "stream",
     "text": [
      "/opt/homebrew/Caskroom/miniforge/base/envs/pytorch_env/lib/python3.8/site-packages/torch/nn/_reduction.py:42: UserWarning: size_average and reduce args will be deprecated, please use reduction='none' instead.\n",
      "  warnings.warn(warning.format(ret))\n"
     ]
    }
   ],
   "source": [
    "correct = 0\n",
    "total = 0\n",
    "count = 0\n",
    "flag = 1\n",
    "\n",
    "\n",
    "with torch.no_grad():\n",
    "  for data in train_loader:\n",
    "    inputs, labels , fore_idx = data\n",
    "    inputs = inputs.double()\n",
    "    inputs, labels , fore_idx = inputs.to(device),labels.to(device), fore_idx.to(device)\n",
    "    alphas, avg_images = focus_net(inputs)\n",
    "    outputs = classify(avg_images)\n",
    "    loss = my_cross_entropy(outputs,labels,alphas)\n",
    "    print(loss)\n",
    "    # print(outputs.shape)\n",
    "    _, predicted = torch.max(outputs.data, 1)\n",
    "\n",
    "\n",
    "print(\"=\"*100)\n",
    "\n"
   ]
  },
  {
   "cell_type": "code",
   "execution_count": 32,
   "metadata": {
    "id": "4vmNprlPzTjP"
   },
   "outputs": [],
   "source": [
    "correct = 0\n",
    "total = 0\n",
    "count = 0\n",
    "flag = 1\n",
    "\n",
    "\n",
    "with torch.no_grad():\n",
    "  for data in test_loader:\n",
    "    inputs, labels , fore_idx = data\n",
    "    inputs = inputs.double()\n",
    "    inputs, labels , fore_idx = inputs.to(device),labels.to(device), fore_idx.to(device)\n",
    "    alphas, avg_images = focus_net(inputs)\n",
    "    outputs = classify(avg_images)\n",
    "\n",
    "    _, predicted = torch.max(outputs.data, 1)\n"
   ]
  },
  {
   "cell_type": "code",
   "execution_count": 33,
   "metadata": {
    "id": "_nvicAzw-GDm"
   },
   "outputs": [
    {
     "name": "stdout",
     "output_type": "stream",
     "text": [
      "('fc1.weight', Parameter containing:\n",
      "tensor([[-0.1235,  0.3437],\n",
      "        [ 0.1704, -0.2588],\n",
      "        [ 0.0472,  0.0784],\n",
      "        [ 0.4953, -0.1659],\n",
      "        [ 0.3371,  0.3451],\n",
      "        [ 0.3131, -0.1927],\n",
      "        [-0.1788,  0.0314],\n",
      "        [ 0.1934,  0.0747],\n",
      "        [-0.0699,  0.2935],\n",
      "        [ 0.0524, -0.1017],\n",
      "        [-0.2094, -0.3588],\n",
      "        [ 0.2079, -0.0692],\n",
      "        [-0.0396,  0.2914],\n",
      "        [-0.2280,  0.0319],\n",
      "        [-0.1798,  0.1602],\n",
      "        [ 0.1488, -0.0822],\n",
      "        [ 0.2434,  0.1657],\n",
      "        [-0.1537, -0.0442],\n",
      "        [-0.2106,  0.2442],\n",
      "        [-0.1865, -0.1679],\n",
      "        [-0.3746,  0.1089],\n",
      "        [ 0.0765,  0.0746],\n",
      "        [ 0.0194,  0.5148],\n",
      "        [-0.0150, -0.0721],\n",
      "        [-0.2615,  0.0124],\n",
      "        [ 0.2550,  0.0677],\n",
      "        [ 0.1783, -0.1196],\n",
      "        [ 0.1869,  0.2055],\n",
      "        [-0.0041, -0.1310],\n",
      "        [-0.0923,  0.0208],\n",
      "        [-0.1519, -0.2190],\n",
      "        [-0.0142, -0.0720],\n",
      "        [ 0.1204,  0.0586],\n",
      "        [-0.2943,  0.2803],\n",
      "        [ 0.0041,  0.0944],\n",
      "        [-0.0306, -0.0983],\n",
      "        [ 0.1264, -0.1432],\n",
      "        [-0.2297, -0.2029],\n",
      "        [-0.4360,  0.1309],\n",
      "        [ 0.2729, -0.1434],\n",
      "        [-0.1905, -0.0718],\n",
      "        [ 0.4859,  0.3518],\n",
      "        [-0.1163, -0.1056],\n",
      "        [ 0.0843,  0.2349],\n",
      "        [-0.2124,  0.0694],\n",
      "        [ 0.1559,  0.4671],\n",
      "        [ 0.0944,  0.2184],\n",
      "        [-0.1632, -0.0640],\n",
      "        [ 0.3447,  0.0719],\n",
      "        [-0.0065, -0.2574]], dtype=torch.float64, requires_grad=True))\n",
      "('fc2.weight', Parameter containing:\n",
      "tensor([[ 0.2877,  0.2409, -0.1060,  0.0798,  0.0235,  0.5752,  0.2892,  0.3077,\n",
      "         -0.0946,  0.0924, -0.1857,  0.1151, -0.0581, -0.1602, -0.0622, -0.3845,\n",
      "          0.2236, -0.0697, -0.1184, -0.0754,  0.0007,  0.0488,  0.0265, -0.2130,\n",
      "         -0.1718, -0.1714, -0.2712, -0.1121,  0.2311, -0.3507, -0.0884,  0.1573,\n",
      "          0.0479, -0.2186, -0.1205,  0.1774,  0.4210, -0.0055,  0.0760, -0.3396,\n",
      "          0.0821,  0.1663,  0.0678, -0.4594,  0.1509,  0.1229,  0.0456, -0.3413,\n",
      "          0.1490, -0.1123]], dtype=torch.float64, requires_grad=True))\n"
     ]
    }
   ],
   "source": [
    "for param in focus_net.named_parameters():\n",
    "    print(param)"
   ]
  },
  {
   "cell_type": "code",
   "execution_count": 34,
   "metadata": {
    "id": "Yl41sE8vFERk"
   },
   "outputs": [
    {
     "name": "stdout",
     "output_type": "stream",
     "text": [
      "[1,     2] loss: 1.147\n",
      "[2,     2] loss: 1.131\n",
      "[3,     2] loss: 1.116\n",
      "[4,     2] loss: 1.104\n",
      "[5,     2] loss: 1.093\n",
      "[6,     2] loss: 1.084\n",
      "[7,     2] loss: 1.078\n",
      "[8,     2] loss: 1.072\n",
      "[9,     2] loss: 1.068\n",
      "[10,     2] loss: 1.066\n",
      "[11,     2] loss: 1.063\n",
      "[12,     2] loss: 1.062\n",
      "[13,     2] loss: 1.061\n",
      "[14,     2] loss: 1.061\n",
      "[15,     2] loss: 1.060\n",
      "[16,     2] loss: 1.059\n",
      "[17,     2] loss: 1.058\n",
      "[18,     2] loss: 1.058\n",
      "[19,     2] loss: 1.057\n",
      "[20,     2] loss: 1.056\n",
      "[21,     2] loss: 1.056\n",
      "[22,     2] loss: 1.055\n",
      "[23,     2] loss: 1.055\n",
      "[24,     2] loss: 1.054\n",
      "[25,     2] loss: 1.054\n",
      "[26,     2] loss: 1.054\n",
      "[27,     2] loss: 1.054\n",
      "[28,     2] loss: 1.053\n",
      "[29,     2] loss: 1.053\n",
      "[30,     2] loss: 1.052\n",
      "[31,     2] loss: 1.052\n",
      "[32,     2] loss: 1.052\n",
      "[33,     2] loss: 1.051\n",
      "[34,     2] loss: 1.051\n",
      "[35,     2] loss: 1.050\n",
      "[36,     2] loss: 1.050\n",
      "[37,     2] loss: 1.049\n",
      "[38,     2] loss: 1.049\n",
      "[39,     2] loss: 1.049\n",
      "[40,     2] loss: 1.048\n",
      "[41,     2] loss: 1.048\n",
      "[42,     2] loss: 1.047\n",
      "[43,     2] loss: 1.046\n",
      "[44,     2] loss: 1.046\n",
      "[45,     2] loss: 1.044\n",
      "[46,     2] loss: 1.043\n",
      "[47,     2] loss: 1.042\n",
      "[48,     2] loss: 1.040\n",
      "[49,     2] loss: 1.039\n",
      "[50,     2] loss: 1.036\n",
      "[51,     2] loss: 1.034\n",
      "[52,     2] loss: 1.032\n",
      "[53,     2] loss: 1.028\n",
      "[54,     2] loss: 1.023\n",
      "[55,     2] loss: 1.018\n",
      "[56,     2] loss: 1.008\n",
      "[57,     2] loss: 0.992\n",
      "[58,     2] loss: 0.970\n",
      "[59,     2] loss: 0.940\n",
      "[60,     2] loss: 0.915\n",
      "[61,     2] loss: 0.888\n",
      "[62,     2] loss: 0.857\n",
      "[63,     2] loss: 0.825\n",
      "[64,     2] loss: 0.794\n",
      "[65,     2] loss: 0.765\n",
      "[66,     2] loss: 0.739\n",
      "[67,     2] loss: 0.715\n",
      "[68,     2] loss: 0.691\n",
      "[69,     2] loss: 0.669\n",
      "[70,     2] loss: 0.648\n",
      "[71,     2] loss: 0.627\n",
      "[72,     2] loss: 0.608\n",
      "[73,     2] loss: 0.589\n",
      "[74,     2] loss: 0.572\n",
      "[75,     2] loss: 0.555\n",
      "[76,     2] loss: 0.539\n",
      "[77,     2] loss: 0.523\n",
      "[78,     2] loss: 0.508\n",
      "[79,     2] loss: 0.494\n",
      "[80,     2] loss: 0.481\n",
      "[81,     2] loss: 0.468\n",
      "[82,     2] loss: 0.456\n",
      "[83,     2] loss: 0.444\n",
      "[84,     2] loss: 0.433\n",
      "[85,     2] loss: 0.422\n",
      "[86,     2] loss: 0.411\n",
      "[87,     2] loss: 0.401\n",
      "[88,     2] loss: 0.392\n",
      "[89,     2] loss: 0.383\n",
      "[90,     2] loss: 0.374\n",
      "[91,     2] loss: 0.366\n",
      "[92,     2] loss: 0.357\n",
      "[93,     2] loss: 0.350\n",
      "[94,     2] loss: 0.342\n",
      "[95,     2] loss: 0.335\n",
      "[96,     2] loss: 0.328\n",
      "[97,     2] loss: 0.321\n",
      "[98,     2] loss: 0.315\n",
      "[99,     2] loss: 0.309\n",
      "[100,     2] loss: 0.302\n",
      "[101,     2] loss: 0.297\n",
      "[102,     2] loss: 0.291\n",
      "[103,     2] loss: 0.286\n",
      "[104,     2] loss: 0.280\n",
      "[105,     2] loss: 0.275\n",
      "[106,     2] loss: 0.270\n",
      "[107,     2] loss: 0.265\n",
      "[108,     2] loss: 0.261\n",
      "[109,     2] loss: 0.256\n",
      "[110,     2] loss: 0.252\n",
      "[111,     2] loss: 0.248\n",
      "[112,     2] loss: 0.243\n",
      "[113,     2] loss: 0.239\n",
      "[114,     2] loss: 0.235\n",
      "[115,     2] loss: 0.232\n",
      "[116,     2] loss: 0.228\n",
      "[117,     2] loss: 0.224\n",
      "[118,     2] loss: 0.221\n",
      "[119,     2] loss: 0.217\n",
      "[120,     2] loss: 0.214\n",
      "[121,     2] loss: 0.211\n",
      "[122,     2] loss: 0.208\n",
      "[123,     2] loss: 0.205\n",
      "[124,     2] loss: 0.202\n",
      "[125,     2] loss: 0.199\n",
      "[126,     2] loss: 0.196\n",
      "[127,     2] loss: 0.193\n",
      "[128,     2] loss: 0.190\n",
      "[129,     2] loss: 0.188\n",
      "[130,     2] loss: 0.185\n",
      "[131,     2] loss: 0.183\n",
      "[132,     2] loss: 0.180\n",
      "[133,     2] loss: 0.178\n",
      "[134,     2] loss: 0.175\n",
      "[135,     2] loss: 0.173\n",
      "[136,     2] loss: 0.171\n",
      "[137,     2] loss: 0.169\n",
      "[138,     2] loss: 0.166\n",
      "[139,     2] loss: 0.164\n",
      "[140,     2] loss: 0.162\n",
      "[141,     2] loss: 0.160\n",
      "[142,     2] loss: 0.158\n",
      "[143,     2] loss: 0.156\n",
      "[144,     2] loss: 0.154\n",
      "[145,     2] loss: 0.153\n",
      "[146,     2] loss: 0.151\n",
      "[147,     2] loss: 0.149\n",
      "[148,     2] loss: 0.147\n",
      "[149,     2] loss: 0.145\n",
      "[150,     2] loss: 0.144\n",
      "[151,     2] loss: 0.142\n",
      "[152,     2] loss: 0.140\n",
      "[153,     2] loss: 0.139\n",
      "[154,     2] loss: 0.137\n",
      "[155,     2] loss: 0.136\n",
      "[156,     2] loss: 0.134\n",
      "[157,     2] loss: 0.133\n",
      "[158,     2] loss: 0.131\n",
      "[159,     2] loss: 0.130\n",
      "[160,     2] loss: 0.129\n",
      "[161,     2] loss: 0.127\n",
      "[162,     2] loss: 0.126\n",
      "[163,     2] loss: 0.125\n",
      "[164,     2] loss: 0.123\n",
      "[165,     2] loss: 0.122\n",
      "[166,     2] loss: 0.121\n",
      "[167,     2] loss: 0.119\n",
      "[168,     2] loss: 0.118\n",
      "[169,     2] loss: 0.117\n",
      "[170,     2] loss: 0.116\n",
      "[171,     2] loss: 0.115\n",
      "[172,     2] loss: 0.114\n",
      "[173,     2] loss: 0.112\n",
      "[174,     2] loss: 0.111\n",
      "[175,     2] loss: 0.110\n",
      "[176,     2] loss: 0.109\n",
      "[177,     2] loss: 0.108\n",
      "[178,     2] loss: 0.107\n",
      "[179,     2] loss: 0.106\n",
      "[180,     2] loss: 0.105\n",
      "[181,     2] loss: 0.104\n",
      "[182,     2] loss: 0.103\n",
      "[183,     2] loss: 0.102\n",
      "[184,     2] loss: 0.101\n",
      "[185,     2] loss: 0.100\n",
      "[186,     2] loss: 0.099\n",
      "[187,     2] loss: 0.099\n",
      "[188,     2] loss: 0.098\n",
      "[189,     2] loss: 0.097\n",
      "[190,     2] loss: 0.096\n",
      "[191,     2] loss: 0.095\n",
      "[192,     2] loss: 0.094\n",
      "[193,     2] loss: 0.093\n",
      "[194,     2] loss: 0.093\n",
      "[195,     2] loss: 0.092\n",
      "[196,     2] loss: 0.091\n",
      "[197,     2] loss: 0.090\n",
      "[198,     2] loss: 0.090\n",
      "[199,     2] loss: 0.089\n",
      "[200,     2] loss: 0.088\n",
      "[201,     2] loss: 0.087\n",
      "[202,     2] loss: 0.087\n",
      "[203,     2] loss: 0.086\n",
      "[204,     2] loss: 0.085\n",
      "[205,     2] loss: 0.084\n",
      "[206,     2] loss: 0.084\n",
      "[207,     2] loss: 0.083\n",
      "[208,     2] loss: 0.082\n",
      "[209,     2] loss: 0.082\n",
      "[210,     2] loss: 0.081\n",
      "[211,     2] loss: 0.081\n",
      "[212,     2] loss: 0.080\n",
      "[213,     2] loss: 0.079\n",
      "[214,     2] loss: 0.079\n",
      "[215,     2] loss: 0.078\n",
      "[216,     2] loss: 0.077\n",
      "[217,     2] loss: 0.077\n",
      "[218,     2] loss: 0.076\n",
      "[219,     2] loss: 0.076\n",
      "[220,     2] loss: 0.075\n",
      "[221,     2] loss: 0.075\n",
      "[222,     2] loss: 0.074\n",
      "[223,     2] loss: 0.073\n",
      "[224,     2] loss: 0.073\n",
      "[225,     2] loss: 0.072\n",
      "[226,     2] loss: 0.072\n",
      "[227,     2] loss: 0.071\n",
      "[228,     2] loss: 0.071\n",
      "[229,     2] loss: 0.070\n",
      "[230,     2] loss: 0.070\n",
      "[231,     2] loss: 0.069\n",
      "[232,     2] loss: 0.069\n",
      "[233,     2] loss: 0.068\n",
      "[234,     2] loss: 0.068\n",
      "[235,     2] loss: 0.067\n",
      "[236,     2] loss: 0.067\n",
      "[237,     2] loss: 0.066\n",
      "[238,     2] loss: 0.066\n",
      "[239,     2] loss: 0.066\n",
      "[240,     2] loss: 0.065\n",
      "[241,     2] loss: 0.065\n",
      "[242,     2] loss: 0.064\n",
      "[243,     2] loss: 0.064\n",
      "[244,     2] loss: 0.063\n",
      "[245,     2] loss: 0.063\n",
      "[246,     2] loss: 0.062\n",
      "[247,     2] loss: 0.062\n",
      "[248,     2] loss: 0.062\n",
      "[249,     2] loss: 0.061\n",
      "[250,     2] loss: 0.061\n",
      "[251,     2] loss: 0.060\n",
      "[252,     2] loss: 0.060\n",
      "[253,     2] loss: 0.060\n",
      "[254,     2] loss: 0.059\n",
      "[255,     2] loss: 0.059\n",
      "[256,     2] loss: 0.058\n",
      "[257,     2] loss: 0.058\n",
      "[258,     2] loss: 0.058\n",
      "[259,     2] loss: 0.057\n",
      "[260,     2] loss: 0.057\n",
      "[261,     2] loss: 0.057\n",
      "[262,     2] loss: 0.056\n",
      "[263,     2] loss: 0.056\n",
      "[264,     2] loss: 0.056\n",
      "[265,     2] loss: 0.055\n",
      "[266,     2] loss: 0.055\n",
      "[267,     2] loss: 0.055\n",
      "[268,     2] loss: 0.054\n",
      "[269,     2] loss: 0.054\n",
      "[270,     2] loss: 0.054\n",
      "[271,     2] loss: 0.053\n",
      "[272,     2] loss: 0.053\n",
      "[273,     2] loss: 0.053\n",
      "[274,     2] loss: 0.052\n",
      "[275,     2] loss: 0.052\n",
      "[276,     2] loss: 0.052\n",
      "[277,     2] loss: 0.051\n",
      "[278,     2] loss: 0.051\n",
      "[279,     2] loss: 0.051\n",
      "[280,     2] loss: 0.051\n",
      "[281,     2] loss: 0.050\n",
      "[282,     2] loss: 0.050\n",
      "[283,     2] loss: 0.050\n",
      "[284,     2] loss: 0.049\n",
      "[285,     2] loss: 0.049\n",
      "[286,     2] loss: 0.049\n",
      "[287,     2] loss: 0.048\n",
      "[288,     2] loss: 0.048\n",
      "[289,     2] loss: 0.048\n",
      "[290,     2] loss: 0.048\n",
      "[291,     2] loss: 0.047\n",
      "[292,     2] loss: 0.047\n",
      "[293,     2] loss: 0.047\n",
      "[294,     2] loss: 0.047\n",
      "[295,     2] loss: 0.046\n",
      "[296,     2] loss: 0.046\n",
      "[297,     2] loss: 0.046\n",
      "[298,     2] loss: 0.046\n",
      "[299,     2] loss: 0.045\n",
      "[300,     2] loss: 0.045\n",
      "[301,     2] loss: 0.045\n",
      "[302,     2] loss: 0.045\n",
      "[303,     2] loss: 0.044\n",
      "[304,     2] loss: 0.044\n",
      "[305,     2] loss: 0.044\n",
      "[306,     2] loss: 0.044\n",
      "[307,     2] loss: 0.043\n",
      "[308,     2] loss: 0.043\n",
      "[309,     2] loss: 0.043\n",
      "[310,     2] loss: 0.043\n",
      "[311,     2] loss: 0.043\n",
      "[312,     2] loss: 0.042\n",
      "[313,     2] loss: 0.042\n",
      "[314,     2] loss: 0.042\n",
      "[315,     2] loss: 0.042\n",
      "[316,     2] loss: 0.041\n",
      "[317,     2] loss: 0.041\n",
      "[318,     2] loss: 0.041\n",
      "[319,     2] loss: 0.041\n",
      "[320,     2] loss: 0.041\n",
      "[321,     2] loss: 0.040\n",
      "[322,     2] loss: 0.040\n",
      "[323,     2] loss: 0.040\n",
      "[324,     2] loss: 0.040\n",
      "[325,     2] loss: 0.040\n",
      "[326,     2] loss: 0.039\n",
      "[327,     2] loss: 0.039\n",
      "[328,     2] loss: 0.039\n",
      "[329,     2] loss: 0.039\n",
      "[330,     2] loss: 0.039\n",
      "[331,     2] loss: 0.038\n",
      "[332,     2] loss: 0.038\n",
      "[333,     2] loss: 0.038\n",
      "[334,     2] loss: 0.038\n",
      "[335,     2] loss: 0.038\n",
      "[336,     2] loss: 0.037\n",
      "[337,     2] loss: 0.037\n",
      "[338,     2] loss: 0.037\n",
      "[339,     2] loss: 0.037\n",
      "[340,     2] loss: 0.037\n",
      "[341,     2] loss: 0.037\n",
      "[342,     2] loss: 0.036\n",
      "[343,     2] loss: 0.036\n",
      "[344,     2] loss: 0.036\n",
      "[345,     2] loss: 0.036\n",
      "[346,     2] loss: 0.036\n",
      "[347,     2] loss: 0.036\n",
      "[348,     2] loss: 0.035\n",
      "[349,     2] loss: 0.035\n",
      "[350,     2] loss: 0.035\n",
      "[351,     2] loss: 0.035\n",
      "[352,     2] loss: 0.035\n",
      "[353,     2] loss: 0.035\n",
      "[354,     2] loss: 0.034\n",
      "[355,     2] loss: 0.034\n",
      "[356,     2] loss: 0.034\n",
      "[357,     2] loss: 0.034\n",
      "[358,     2] loss: 0.034\n",
      "[359,     2] loss: 0.034\n",
      "[360,     2] loss: 0.033\n",
      "[361,     2] loss: 0.033\n",
      "[362,     2] loss: 0.033\n",
      "[363,     2] loss: 0.033\n",
      "[364,     2] loss: 0.033\n",
      "[365,     2] loss: 0.033\n",
      "[366,     2] loss: 0.033\n",
      "[367,     2] loss: 0.032\n",
      "[368,     2] loss: 0.032\n",
      "[369,     2] loss: 0.032\n",
      "[370,     2] loss: 0.032\n",
      "[371,     2] loss: 0.032\n",
      "[372,     2] loss: 0.032\n",
      "[373,     2] loss: 0.032\n",
      "[374,     2] loss: 0.031\n",
      "[375,     2] loss: 0.031\n",
      "[376,     2] loss: 0.031\n",
      "[377,     2] loss: 0.031\n",
      "[378,     2] loss: 0.031\n",
      "[379,     2] loss: 0.031\n",
      "[380,     2] loss: 0.031\n",
      "[381,     2] loss: 0.031\n",
      "[382,     2] loss: 0.030\n",
      "[383,     2] loss: 0.030\n",
      "[384,     2] loss: 0.030\n",
      "[385,     2] loss: 0.030\n",
      "[386,     2] loss: 0.030\n",
      "[387,     2] loss: 0.030\n",
      "[388,     2] loss: 0.030\n",
      "[389,     2] loss: 0.029\n",
      "[390,     2] loss: 0.029\n",
      "[391,     2] loss: 0.029\n",
      "[392,     2] loss: 0.029\n",
      "[393,     2] loss: 0.029\n",
      "[394,     2] loss: 0.029\n",
      "[395,     2] loss: 0.029\n",
      "[396,     2] loss: 0.029\n",
      "[397,     2] loss: 0.029\n",
      "[398,     2] loss: 0.028\n",
      "[399,     2] loss: 0.028\n"
     ]
    },
    {
     "name": "stdout",
     "output_type": "stream",
     "text": [
      "[400,     2] loss: 0.028\n",
      "[401,     2] loss: 0.028\n",
      "[402,     2] loss: 0.028\n",
      "[403,     2] loss: 0.028\n",
      "[404,     2] loss: 0.028\n",
      "[405,     2] loss: 0.028\n",
      "[406,     2] loss: 0.027\n",
      "[407,     2] loss: 0.027\n",
      "[408,     2] loss: 0.027\n",
      "[409,     2] loss: 0.027\n",
      "[410,     2] loss: 0.027\n",
      "[411,     2] loss: 0.027\n",
      "[412,     2] loss: 0.027\n",
      "[413,     2] loss: 0.027\n",
      "[414,     2] loss: 0.027\n",
      "[415,     2] loss: 0.027\n",
      "[416,     2] loss: 0.026\n",
      "[417,     2] loss: 0.026\n",
      "[418,     2] loss: 0.026\n",
      "[419,     2] loss: 0.026\n",
      "[420,     2] loss: 0.026\n",
      "[421,     2] loss: 0.026\n",
      "[422,     2] loss: 0.026\n",
      "[423,     2] loss: 0.026\n",
      "[424,     2] loss: 0.026\n",
      "[425,     2] loss: 0.026\n",
      "[426,     2] loss: 0.025\n",
      "[427,     2] loss: 0.025\n",
      "[428,     2] loss: 0.025\n",
      "[429,     2] loss: 0.025\n",
      "[430,     2] loss: 0.025\n",
      "[431,     2] loss: 0.025\n",
      "[432,     2] loss: 0.025\n",
      "[433,     2] loss: 0.025\n",
      "[434,     2] loss: 0.025\n",
      "[435,     2] loss: 0.025\n",
      "[436,     2] loss: 0.024\n",
      "[437,     2] loss: 0.024\n",
      "[438,     2] loss: 0.024\n",
      "[439,     2] loss: 0.024\n",
      "[440,     2] loss: 0.024\n",
      "[441,     2] loss: 0.024\n",
      "[442,     2] loss: 0.024\n",
      "[443,     2] loss: 0.024\n",
      "[444,     2] loss: 0.024\n",
      "[445,     2] loss: 0.024\n",
      "[446,     2] loss: 0.024\n",
      "[447,     2] loss: 0.023\n",
      "[448,     2] loss: 0.023\n",
      "[449,     2] loss: 0.023\n",
      "[450,     2] loss: 0.023\n",
      "[451,     2] loss: 0.023\n",
      "[452,     2] loss: 0.023\n",
      "[453,     2] loss: 0.023\n",
      "[454,     2] loss: 0.023\n",
      "[455,     2] loss: 0.023\n",
      "[456,     2] loss: 0.023\n",
      "[457,     2] loss: 0.023\n",
      "[458,     2] loss: 0.023\n",
      "[459,     2] loss: 0.022\n",
      "[460,     2] loss: 0.022\n",
      "[461,     2] loss: 0.022\n",
      "[462,     2] loss: 0.022\n",
      "[463,     2] loss: 0.022\n",
      "[464,     2] loss: 0.022\n",
      "[465,     2] loss: 0.022\n",
      "[466,     2] loss: 0.022\n",
      "[467,     2] loss: 0.022\n",
      "[468,     2] loss: 0.022\n",
      "[469,     2] loss: 0.022\n",
      "[470,     2] loss: 0.022\n",
      "[471,     2] loss: 0.022\n",
      "[472,     2] loss: 0.021\n",
      "[473,     2] loss: 0.021\n",
      "[474,     2] loss: 0.021\n",
      "[475,     2] loss: 0.021\n",
      "[476,     2] loss: 0.021\n",
      "[477,     2] loss: 0.021\n",
      "[478,     2] loss: 0.021\n",
      "[479,     2] loss: 0.021\n",
      "[480,     2] loss: 0.021\n",
      "[481,     2] loss: 0.021\n",
      "[482,     2] loss: 0.021\n",
      "[483,     2] loss: 0.021\n",
      "[484,     2] loss: 0.021\n",
      "[485,     2] loss: 0.021\n",
      "[486,     2] loss: 0.020\n",
      "[487,     2] loss: 0.020\n",
      "[488,     2] loss: 0.020\n",
      "[489,     2] loss: 0.020\n",
      "[490,     2] loss: 0.020\n",
      "[491,     2] loss: 0.020\n",
      "[492,     2] loss: 0.020\n",
      "[493,     2] loss: 0.020\n",
      "[494,     2] loss: 0.020\n",
      "[495,     2] loss: 0.020\n",
      "[496,     2] loss: 0.020\n",
      "[497,     2] loss: 0.020\n",
      "[498,     2] loss: 0.020\n",
      "[499,     2] loss: 0.020\n",
      "[500,     2] loss: 0.020\n",
      "[501,     2] loss: 0.019\n",
      "[502,     2] loss: 0.019\n",
      "[503,     2] loss: 0.019\n",
      "[504,     2] loss: 0.019\n",
      "[505,     2] loss: 0.019\n",
      "[506,     2] loss: 0.019\n",
      "[507,     2] loss: 0.019\n",
      "[508,     2] loss: 0.019\n",
      "[509,     2] loss: 0.019\n",
      "[510,     2] loss: 0.019\n",
      "[511,     2] loss: 0.019\n",
      "[512,     2] loss: 0.019\n",
      "[513,     2] loss: 0.019\n",
      "[514,     2] loss: 0.019\n",
      "[515,     2] loss: 0.019\n",
      "[516,     2] loss: 0.019\n",
      "[517,     2] loss: 0.018\n",
      "[518,     2] loss: 0.018\n",
      "[519,     2] loss: 0.018\n",
      "[520,     2] loss: 0.018\n",
      "[521,     2] loss: 0.018\n",
      "[522,     2] loss: 0.018\n",
      "[523,     2] loss: 0.018\n",
      "[524,     2] loss: 0.018\n",
      "[525,     2] loss: 0.018\n",
      "[526,     2] loss: 0.018\n",
      "[527,     2] loss: 0.018\n",
      "[528,     2] loss: 0.018\n",
      "[529,     2] loss: 0.018\n",
      "[530,     2] loss: 0.018\n",
      "[531,     2] loss: 0.018\n",
      "[532,     2] loss: 0.018\n",
      "[533,     2] loss: 0.018\n",
      "[534,     2] loss: 0.017\n",
      "[535,     2] loss: 0.017\n",
      "[536,     2] loss: 0.017\n",
      "[537,     2] loss: 0.017\n",
      "[538,     2] loss: 0.017\n",
      "[539,     2] loss: 0.017\n",
      "[540,     2] loss: 0.017\n",
      "[541,     2] loss: 0.017\n",
      "[542,     2] loss: 0.017\n",
      "[543,     2] loss: 0.017\n",
      "[544,     2] loss: 0.017\n",
      "[545,     2] loss: 0.017\n",
      "[546,     2] loss: 0.017\n",
      "[547,     2] loss: 0.017\n",
      "[548,     2] loss: 0.017\n",
      "[549,     2] loss: 0.017\n",
      "[550,     2] loss: 0.017\n",
      "[551,     2] loss: 0.017\n",
      "[552,     2] loss: 0.017\n",
      "[553,     2] loss: 0.016\n",
      "[554,     2] loss: 0.016\n",
      "[555,     2] loss: 0.016\n",
      "[556,     2] loss: 0.016\n",
      "[557,     2] loss: 0.016\n",
      "[558,     2] loss: 0.016\n",
      "[559,     2] loss: 0.016\n",
      "[560,     2] loss: 0.016\n",
      "[561,     2] loss: 0.016\n",
      "[562,     2] loss: 0.016\n",
      "[563,     2] loss: 0.016\n",
      "[564,     2] loss: 0.016\n",
      "[565,     2] loss: 0.016\n",
      "[566,     2] loss: 0.016\n",
      "[567,     2] loss: 0.016\n",
      "[568,     2] loss: 0.016\n",
      "[569,     2] loss: 0.016\n",
      "[570,     2] loss: 0.016\n",
      "[571,     2] loss: 0.016\n",
      "[572,     2] loss: 0.016\n",
      "[573,     2] loss: 0.016\n",
      "[574,     2] loss: 0.015\n",
      "[575,     2] loss: 0.015\n",
      "[576,     2] loss: 0.015\n",
      "[577,     2] loss: 0.015\n",
      "[578,     2] loss: 0.015\n",
      "[579,     2] loss: 0.015\n",
      "[580,     2] loss: 0.015\n",
      "[581,     2] loss: 0.015\n",
      "[582,     2] loss: 0.015\n",
      "[583,     2] loss: 0.015\n",
      "[584,     2] loss: 0.015\n",
      "[585,     2] loss: 0.015\n",
      "[586,     2] loss: 0.015\n",
      "[587,     2] loss: 0.015\n",
      "[588,     2] loss: 0.015\n",
      "[589,     2] loss: 0.015\n",
      "[590,     2] loss: 0.015\n",
      "[591,     2] loss: 0.015\n",
      "[592,     2] loss: 0.015\n",
      "[593,     2] loss: 0.015\n",
      "[594,     2] loss: 0.015\n",
      "[595,     2] loss: 0.015\n",
      "[596,     2] loss: 0.015\n",
      "[597,     2] loss: 0.014\n",
      "[598,     2] loss: 0.014\n",
      "[599,     2] loss: 0.014\n",
      "[600,     2] loss: 0.014\n",
      "[601,     2] loss: 0.014\n",
      "[602,     2] loss: 0.014\n",
      "[603,     2] loss: 0.014\n",
      "[604,     2] loss: 0.014\n",
      "[605,     2] loss: 0.014\n",
      "[606,     2] loss: 0.014\n",
      "[607,     2] loss: 0.014\n",
      "[608,     2] loss: 0.014\n",
      "[609,     2] loss: 0.014\n",
      "[610,     2] loss: 0.014\n",
      "[611,     2] loss: 0.014\n",
      "[612,     2] loss: 0.014\n",
      "[613,     2] loss: 0.014\n",
      "[614,     2] loss: 0.014\n",
      "[615,     2] loss: 0.014\n",
      "[616,     2] loss: 0.014\n",
      "[617,     2] loss: 0.014\n",
      "[618,     2] loss: 0.014\n",
      "[619,     2] loss: 0.014\n",
      "[620,     2] loss: 0.014\n",
      "[621,     2] loss: 0.014\n",
      "[622,     2] loss: 0.014\n",
      "[623,     2] loss: 0.013\n",
      "[624,     2] loss: 0.013\n",
      "[625,     2] loss: 0.013\n",
      "[626,     2] loss: 0.013\n",
      "[627,     2] loss: 0.013\n",
      "[628,     2] loss: 0.013\n",
      "[629,     2] loss: 0.013\n",
      "[630,     2] loss: 0.013\n",
      "[631,     2] loss: 0.013\n",
      "[632,     2] loss: 0.013\n",
      "[633,     2] loss: 0.013\n",
      "[634,     2] loss: 0.013\n",
      "[635,     2] loss: 0.013\n",
      "[636,     2] loss: 0.013\n",
      "[637,     2] loss: 0.013\n",
      "[638,     2] loss: 0.013\n",
      "[639,     2] loss: 0.013\n",
      "[640,     2] loss: 0.013\n",
      "[641,     2] loss: 0.013\n",
      "[642,     2] loss: 0.013\n",
      "[643,     2] loss: 0.013\n",
      "[644,     2] loss: 0.013\n",
      "[645,     2] loss: 0.013\n",
      "[646,     2] loss: 0.013\n",
      "[647,     2] loss: 0.013\n",
      "[648,     2] loss: 0.013\n",
      "[649,     2] loss: 0.013\n",
      "[650,     2] loss: 0.013\n",
      "[651,     2] loss: 0.013\n",
      "[652,     2] loss: 0.012\n",
      "[653,     2] loss: 0.012\n",
      "[654,     2] loss: 0.012\n",
      "[655,     2] loss: 0.012\n",
      "[656,     2] loss: 0.012\n",
      "[657,     2] loss: 0.012\n",
      "[658,     2] loss: 0.012\n",
      "[659,     2] loss: 0.012\n",
      "[660,     2] loss: 0.012\n",
      "[661,     2] loss: 0.012\n",
      "[662,     2] loss: 0.012\n",
      "[663,     2] loss: 0.012\n",
      "[664,     2] loss: 0.012\n",
      "[665,     2] loss: 0.012\n",
      "[666,     2] loss: 0.012\n",
      "[667,     2] loss: 0.012\n",
      "[668,     2] loss: 0.012\n",
      "[669,     2] loss: 0.012\n",
      "[670,     2] loss: 0.012\n",
      "[671,     2] loss: 0.012\n",
      "[672,     2] loss: 0.012\n",
      "[673,     2] loss: 0.012\n",
      "[674,     2] loss: 0.012\n",
      "[675,     2] loss: 0.012\n",
      "[676,     2] loss: 0.012\n",
      "[677,     2] loss: 0.012\n",
      "[678,     2] loss: 0.012\n",
      "[679,     2] loss: 0.012\n",
      "[680,     2] loss: 0.012\n",
      "[681,     2] loss: 0.012\n",
      "[682,     2] loss: 0.012\n",
      "[683,     2] loss: 0.012\n",
      "[684,     2] loss: 0.012\n",
      "[685,     2] loss: 0.011\n",
      "[686,     2] loss: 0.011\n",
      "[687,     2] loss: 0.011\n",
      "[688,     2] loss: 0.011\n",
      "[689,     2] loss: 0.011\n",
      "[690,     2] loss: 0.011\n",
      "[691,     2] loss: 0.011\n",
      "[692,     2] loss: 0.011\n",
      "[693,     2] loss: 0.011\n",
      "[694,     2] loss: 0.011\n",
      "[695,     2] loss: 0.011\n",
      "[696,     2] loss: 0.011\n",
      "[697,     2] loss: 0.011\n",
      "[698,     2] loss: 0.011\n",
      "[699,     2] loss: 0.011\n",
      "[700,     2] loss: 0.011\n",
      "[701,     2] loss: 0.011\n",
      "[702,     2] loss: 0.011\n",
      "[703,     2] loss: 0.011\n",
      "[704,     2] loss: 0.011\n",
      "[705,     2] loss: 0.011\n",
      "[706,     2] loss: 0.011\n",
      "[707,     2] loss: 0.011\n",
      "[708,     2] loss: 0.011\n",
      "[709,     2] loss: 0.011\n",
      "[710,     2] loss: 0.011\n",
      "[711,     2] loss: 0.011\n",
      "[712,     2] loss: 0.011\n",
      "[713,     2] loss: 0.011\n",
      "[714,     2] loss: 0.011\n",
      "[715,     2] loss: 0.011\n",
      "[716,     2] loss: 0.011\n",
      "[717,     2] loss: 0.011\n",
      "[718,     2] loss: 0.011\n",
      "[719,     2] loss: 0.011\n",
      "[720,     2] loss: 0.011\n",
      "[721,     2] loss: 0.011\n",
      "[722,     2] loss: 0.010\n",
      "[723,     2] loss: 0.010\n",
      "[724,     2] loss: 0.010\n",
      "[725,     2] loss: 0.010\n",
      "[726,     2] loss: 0.010\n",
      "[727,     2] loss: 0.010\n",
      "[728,     2] loss: 0.010\n",
      "[729,     2] loss: 0.010\n",
      "[730,     2] loss: 0.010\n",
      "[731,     2] loss: 0.010\n",
      "[732,     2] loss: 0.010\n",
      "[733,     2] loss: 0.010\n",
      "[734,     2] loss: 0.010\n",
      "[735,     2] loss: 0.010\n",
      "[736,     2] loss: 0.010\n",
      "[737,     2] loss: 0.010\n",
      "[738,     2] loss: 0.010\n",
      "[739,     2] loss: 0.010\n",
      "[740,     2] loss: 0.010\n",
      "[741,     2] loss: 0.010\n",
      "[742,     2] loss: 0.010\n",
      "Finished Training\n"
     ]
    }
   ],
   "source": [
    "nos_epochs = 2000\n",
    "focus_true_pred_true =0\n",
    "focus_false_pred_true =0\n",
    "focus_true_pred_false =0\n",
    "focus_false_pred_false =0\n",
    "\n",
    "argmax_more_than_half = 0\n",
    "argmax_less_than_half =0\n",
    "\n",
    "\n",
    "for epoch in range(nos_epochs):  # loop over the dataset multiple times\n",
    "\n",
    "  focus_true_pred_true =0\n",
    "  focus_false_pred_true =0\n",
    "  focus_true_pred_false =0\n",
    "  focus_false_pred_false =0\n",
    "  \n",
    "  argmax_more_than_half = 0\n",
    "  argmax_less_than_half =0\n",
    "  \n",
    "  running_loss = 0.0\n",
    "  epoch_loss = []\n",
    "  cnt=0\n",
    "\n",
    "  iteration = desired_num // batch\n",
    "  \n",
    "  #training data set\n",
    "  \n",
    "  for i, data in  enumerate(train_loader):\n",
    "    inputs , labels , fore_idx = data\n",
    "    batch = inputs.size(0)\n",
    "    inputs, labels = inputs.to(device), labels.to(device)\n",
    "    inputs = inputs.double()\n",
    "    # zero the parameter gradients\n",
    "    \n",
    "    optimizer_focus.zero_grad()\n",
    "    optimizer_classify.zero_grad()\n",
    "    \n",
    "    alphas, avg_images = focus_net(inputs)\n",
    "    outputs = classify(avg_images)\n",
    "\n",
    "    _, predicted = torch.max(outputs.data, 1)\n",
    "#     print(outputs)\n",
    "#     print(outputs.shape,labels.shape , torch.argmax(outputs, dim=1))\n",
    "\n",
    "    loss = my_cross_entropy(outputs, labels,alphas) \n",
    "    \n",
    "    loss.backward()\n",
    "    \n",
    "    \n",
    "    optimizer_focus.step()\n",
    "    optimizer_classify.step()\n",
    "\n",
    "    running_loss += loss.item()\n",
    "    mini = 2\n",
    "    if cnt % mini == mini-1:    # print every 40 mini-batches\n",
    "      print('[%d, %5d] loss: %.3f' %(epoch + 1, cnt + 1, running_loss / mini))\n",
    "      epoch_loss.append(running_loss/mini)\n",
    "      running_loss = 0.0\n",
    "    cnt=cnt+1\n",
    "\n",
    "  if(np.mean(epoch_loss) <= 0.01):\n",
    "      break;\n",
    "  #plot_attended_data(train_loader,focus_net,epoch)\n",
    "\n",
    "    \n",
    "print('Finished Training')"
   ]
  },
  {
   "cell_type": "code",
   "execution_count": 35,
   "metadata": {
    "id": "3xPsiBtU-GDn"
   },
   "outputs": [
    {
     "name": "stdout",
     "output_type": "stream",
     "text": [
      "('fc1.weight', Parameter containing:\n",
      "tensor([[-0.1190,  0.1889],\n",
      "        [ 0.3926, -0.1525],\n",
      "        [-0.4340,  1.0737],\n",
      "        [ 0.9793, -0.1538],\n",
      "        [ 1.2639, -0.1667],\n",
      "        [-0.0127, -0.1186],\n",
      "        [ 0.0937,  0.0129],\n",
      "        [-0.0975, -0.0083],\n",
      "        [-0.6568,  1.2456],\n",
      "        [ 0.9610, -0.1257],\n",
      "        [-1.2653, -1.0716],\n",
      "        [ 0.5231, -0.0617],\n",
      "        [-0.6645,  1.3051],\n",
      "        [-0.4743,  0.8807],\n",
      "        [ 0.1213,  1.1765],\n",
      "        [ 0.8729, -0.6663],\n",
      "        [ 0.0639, -0.0051],\n",
      "        [-0.9183, -0.8230],\n",
      "        [-0.6310,  1.1836],\n",
      "        [-1.1790, -1.0339],\n",
      "        [-1.3986,  0.1650],\n",
      "        [ 0.9254, -0.1170],\n",
      "        [ 0.1056,  1.4912],\n",
      "        [-0.9664, -0.8210],\n",
      "        [-1.0824,  0.1337],\n",
      "        [ 0.7994,  0.8618],\n",
      "        [ 0.9034, -0.7974],\n",
      "        [ 0.2624,  1.2362],\n",
      "        [ 0.9315, -0.1383],\n",
      "        [ 0.2662,  0.8614],\n",
      "        [-1.2075, -1.0538],\n",
      "        [ 1.0546, -0.1603],\n",
      "        [ 0.6886, -0.0851],\n",
      "        [-0.2356,  1.1650],\n",
      "        [-0.3945,  1.0572],\n",
      "        [ 1.0090, -0.1592],\n",
      "        [-0.0829, -0.0224],\n",
      "        [-1.2800, -1.1655],\n",
      "        [-1.1230, -1.0271],\n",
      "        [ 0.8016, -0.9656],\n",
      "        [ 0.6431, -1.0453],\n",
      "        [ 0.5961,  0.0428],\n",
      "        [ 1.0302, -0.7679],\n",
      "        [-0.4673,  0.9475],\n",
      "        [ 1.0425, -0.2410],\n",
      "        [ 1.1109,  1.0901],\n",
      "        [ 1.2123,  0.1972],\n",
      "        [-0.8553, -0.6873],\n",
      "        [ 0.2508, -0.0309],\n",
      "        [-0.3288, -1.1569]], dtype=torch.float64, requires_grad=True))\n",
      "('fc2.weight', Parameter containing:\n",
      "tensor([[-0.1632, -0.4412, -1.2036, -0.5163, -0.7037,  0.1211, -0.0954, -0.0574,\n",
      "         -1.0213, -1.0588, -1.0689, -0.4658, -1.0007, -0.9188, -0.9494, -1.4548,\n",
      "         -0.1491, -1.0505, -1.0450, -1.0641, -0.7514, -0.8695, -0.7447, -1.2920,\n",
      "         -0.9140, -0.8242, -1.3330, -0.8807, -0.9904, -1.3517, -1.0496, -1.1957,\n",
      "         -0.5741, -1.0002, -1.1839, -1.0534, -0.0517, -0.9832, -0.8606, -1.3014,\n",
      "         -1.1507, -0.3491, -1.2437, -1.3677, -1.0942, -0.8029, -0.8796, -1.3575,\n",
      "         -0.2452, -0.9364]], dtype=torch.float64, requires_grad=True))\n"
     ]
    }
   ],
   "source": [
    "for param in focus_net.named_parameters():\n",
    "    print(param)"
   ]
  },
  {
   "cell_type": "code",
   "execution_count": 36,
   "metadata": {
    "id": "jhvhkEAyeRpt"
   },
   "outputs": [
    {
     "name": "stdout",
     "output_type": "stream",
     "text": [
      "Accuracy of the network on the train images: 100.000000 %\n",
      "total correct 100\n",
      "total train set images 100\n"
     ]
    }
   ],
   "source": [
    "correct = 0\n",
    "total = 0\n",
    "\n",
    "focus_net.eval()\n",
    "classify.eval()\n",
    "with torch.no_grad():\n",
    "  for data in train_loader:\n",
    "    inputs, labels , fore_idx = data\n",
    "    inputs = inputs.double()\n",
    "    inputs, labels = inputs.to(device), labels.to(device)\n",
    "    alphas, avg_images = focus_net(inputs)\n",
    "    outputs = classify(avg_images)\n",
    "    #print(outputs.shape)\n",
    "\n",
    "    _, predicted = torch.max(outputs.data, 1)\n",
    "\n",
    "    total += labels.size(0)\n",
    "    correct += (predicted == labels).sum().item()\n",
    "\n",
    "print('Accuracy of the network on the train images: %f %%' % ( 100 * correct / total))\n",
    "print(\"total correct\", correct)\n",
    "print(\"total train set images\", total)"
   ]
  },
  {
   "cell_type": "code",
   "execution_count": 37,
   "metadata": {
    "id": "OKcmpKwGeS8M"
   },
   "outputs": [
    {
     "name": "stdout",
     "output_type": "stream",
     "text": [
      "Accuracy of the network on the test images: 100.000000 %\n",
      "total correct 1000\n",
      "total train set images 1000\n"
     ]
    }
   ],
   "source": [
    "correct = 0\n",
    "total = 0\n",
    "\n",
    "with torch.no_grad():\n",
    "  for data in test_loader:\n",
    "    inputs, labels , fore_idx = data\n",
    "    inputs = inputs.double()\n",
    "    inputs, labels = inputs.to(device), labels.to(device)\n",
    "    alphas, avg_images = focus_net(inputs)\n",
    "    outputs = classify(avg_images)\n",
    "\n",
    "    _, predicted = torch.max(outputs.data, 1)\n",
    "\n",
    "    total += labels.size(0)\n",
    "    correct += (predicted == labels).sum().item()\n",
    "\n",
    "print('Accuracy of the network on the test images: %f %%' % ( 100 * correct / total))\n",
    "print(\"total correct\", correct)\n",
    "print(\"total train set images\", total)"
   ]
  },
  {
   "cell_type": "code",
   "execution_count": null,
   "metadata": {},
   "outputs": [],
   "source": []
  }
 ],
 "metadata": {
  "accelerator": "GPU",
  "colab": {
   "collapsed_sections": [],
   "name": "hard_attention_1.ipynb",
   "provenance": []
  },
  "kernelspec": {
   "display_name": "Python 3 (ipykernel)",
   "language": "python",
   "name": "python3"
  },
  "language_info": {
   "codemirror_mode": {
    "name": "ipython",
    "version": 3
   },
   "file_extension": ".py",
   "mimetype": "text/x-python",
   "name": "python",
   "nbconvert_exporter": "python",
   "pygments_lexer": "ipython3",
   "version": "3.8.12"
  }
 },
 "nbformat": 4,
 "nbformat_minor": 1
}
