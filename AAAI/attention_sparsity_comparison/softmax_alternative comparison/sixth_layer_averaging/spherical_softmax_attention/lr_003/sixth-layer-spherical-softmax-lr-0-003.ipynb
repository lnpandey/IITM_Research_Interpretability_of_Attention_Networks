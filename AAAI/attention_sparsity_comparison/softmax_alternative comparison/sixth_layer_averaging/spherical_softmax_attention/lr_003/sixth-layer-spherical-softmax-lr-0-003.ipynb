{
 "cells": [
  {
   "cell_type": "code",
   "execution_count": 1,
   "id": "dbb46997",
   "metadata": {
    "execution": {
     "iopub.execute_input": "2021-09-03T07:53:37.478799Z",
     "iopub.status.busy": "2021-09-03T07:53:37.477952Z",
     "iopub.status.idle": "2021-09-03T07:53:37.479346Z",
     "shell.execute_reply": "2021-09-03T07:53:37.479755Z",
     "shell.execute_reply.started": "2021-09-03T06:28:15.437536Z"
    },
    "id": "JSjG64ra4aFu",
    "outputId": "addc1734-5176-4a1c-a637-220f1f24d021",
    "papermill": {
     "duration": 0.043215,
     "end_time": "2021-09-03T07:53:37.479956",
     "exception": false,
     "start_time": "2021-09-03T07:53:37.436741",
     "status": "completed"
    },
    "tags": []
   },
   "outputs": [],
   "source": [
    "# from google.colab import drive\n",
    "# drive.mount('/content/drive')"
   ]
  },
  {
   "cell_type": "code",
   "execution_count": 2,
   "id": "1a82e56b",
   "metadata": {
    "execution": {
     "iopub.execute_input": "2021-09-03T07:53:37.548931Z",
     "iopub.status.busy": "2021-09-03T07:53:37.548282Z",
     "iopub.status.idle": "2021-09-03T07:53:37.550968Z",
     "shell.execute_reply": "2021-09-03T07:53:37.550462Z",
     "shell.execute_reply.started": "2021-09-03T03:44:11.983114Z"
    },
    "papermill": {
     "duration": 0.038258,
     "end_time": "2021-09-03T07:53:37.551080",
     "exception": false,
     "start_time": "2021-09-03T07:53:37.512822",
     "status": "completed"
    },
    "tags": []
   },
   "outputs": [],
   "source": [
    "# !pip install sparsemax"
   ]
  },
  {
   "cell_type": "code",
   "execution_count": 3,
   "id": "ba996209",
   "metadata": {
    "execution": {
     "iopub.execute_input": "2021-09-03T07:53:37.708081Z",
     "iopub.status.busy": "2021-09-03T07:53:37.698323Z",
     "iopub.status.idle": "2021-09-03T07:53:38.358139Z",
     "shell.execute_reply": "2021-09-03T07:53:38.357641Z",
     "shell.execute_reply.started": "2021-09-03T06:29:00.220992Z"
    },
    "id": "atwYfdnU1_3W",
    "outputId": "0c7b155f-d0c1-4bd0-c87d-57be34d931d7",
    "papermill": {
     "duration": 0.772856,
     "end_time": "2021-09-03T07:53:38.358261",
     "exception": false,
     "start_time": "2021-09-03T07:53:37.585405",
     "status": "completed"
    },
    "tags": []
   },
   "outputs": [
    {
     "name": "stdout",
     "output_type": "stream",
     "text": [
      "/kaggle/working\r\n"
     ]
    }
   ],
   "source": [
    "# from google.colab import drive\n",
    "# drive.mount('/content/drive')\n",
    "!pwd"
   ]
  },
  {
   "cell_type": "code",
   "execution_count": 4,
   "id": "55b6da85",
   "metadata": {
    "execution": {
     "iopub.execute_input": "2021-09-03T07:53:38.451883Z",
     "iopub.status.busy": "2021-09-03T07:53:38.451124Z",
     "iopub.status.idle": "2021-09-03T07:53:38.456670Z",
     "shell.execute_reply": "2021-09-03T07:53:38.456212Z",
     "shell.execute_reply.started": "2021-09-03T06:29:05.058366Z"
    },
    "id": "Zj9vWd0E2C0t",
    "papermill": {
     "duration": 0.063989,
     "end_time": "2021-09-03T07:53:38.456787",
     "exception": false,
     "start_time": "2021-09-03T07:53:38.392798",
     "status": "completed"
    },
    "tags": []
   },
   "outputs": [],
   "source": [
    "\n",
    "path = '/kaggle/working/run1'"
   ]
  },
  {
   "cell_type": "code",
   "execution_count": 5,
   "id": "f8d41a27",
   "metadata": {
    "execution": {
     "iopub.execute_input": "2021-09-03T07:53:38.548381Z",
     "iopub.status.busy": "2021-09-03T07:53:38.547753Z",
     "iopub.status.idle": "2021-09-03T07:53:39.834207Z",
     "shell.execute_reply": "2021-09-03T07:53:39.833342Z",
     "shell.execute_reply.started": "2021-09-03T06:29:06.251795Z"
    },
    "id": "V8-7SARDZErK",
    "papermill": {
     "duration": 1.327831,
     "end_time": "2021-09-03T07:53:39.834344",
     "exception": false,
     "start_time": "2021-09-03T07:53:38.506513",
     "status": "completed"
    },
    "tags": []
   },
   "outputs": [],
   "source": [
    "import torch.nn as nn\n",
    "import torch.nn.functional as F\n",
    "import pandas as pd\n",
    "import numpy as np\n",
    "import matplotlib.pyplot as plt\n",
    "import torch\n",
    "import torchvision\n",
    "import torchvision.transforms as transforms\n",
    "from torch.utils.data import Dataset, DataLoader\n",
    "from torchvision import transforms, utils\n",
    "from matplotlib import pyplot as plt\n",
    "import copy\n",
    "\n",
    "#from sparsemax import Sparsemax\n",
    "# Ignore warnings\n",
    "import warnings\n",
    "warnings.filterwarnings(\"ignore\")\n",
    "n_seed = 0"
   ]
  },
  {
   "cell_type": "code",
   "execution_count": 6,
   "id": "7534b426",
   "metadata": {
    "execution": {
     "iopub.execute_input": "2021-09-03T07:53:39.922633Z",
     "iopub.status.busy": "2021-09-03T07:53:39.921205Z",
     "iopub.status.idle": "2021-09-03T07:53:39.923511Z",
     "shell.execute_reply": "2021-09-03T07:53:39.923937Z",
     "shell.execute_reply.started": "2021-09-03T06:29:08.600636Z"
    },
    "id": "_rVTn9u9uBRn",
    "papermill": {
     "duration": 0.043758,
     "end_time": "2021-09-03T07:53:39.924080",
     "exception": false,
     "start_time": "2021-09-03T07:53:39.880322",
     "status": "completed"
    },
    "tags": []
   },
   "outputs": [],
   "source": [
    "torch.backends.cudnn.deterministic = True\n",
    "torch.backends.cudnn.benchmark= False"
   ]
  },
  {
   "cell_type": "code",
   "execution_count": 7,
   "id": "ae6c5a51",
   "metadata": {
    "execution": {
     "iopub.execute_input": "2021-09-03T07:53:39.995993Z",
     "iopub.status.busy": "2021-09-03T07:53:39.995288Z",
     "iopub.status.idle": "2021-09-03T07:53:46.963466Z",
     "shell.execute_reply": "2021-09-03T07:53:46.962994Z",
     "shell.execute_reply.started": "2021-09-03T06:29:10.461103Z"
    },
    "id": "acRFqJNrZErV",
    "outputId": "8b937572-e8ec-458e-edd8-0ed0170b0fc9",
    "papermill": {
     "duration": 7.006248,
     "end_time": "2021-09-03T07:53:46.963602",
     "exception": false,
     "start_time": "2021-09-03T07:53:39.957354",
     "status": "completed"
    },
    "tags": []
   },
   "outputs": [
    {
     "name": "stdout",
     "output_type": "stream",
     "text": [
      "Downloading https://www.cs.toronto.edu/~kriz/cifar-10-python.tar.gz to ./data/cifar-10-python.tar.gz\n"
     ]
    },
    {
     "data": {
      "application/vnd.jupyter.widget-view+json": {
       "model_id": "e0988c1d4e424822b194bfc313faac27",
       "version_major": 2,
       "version_minor": 0
      },
      "text/plain": [
       "0it [00:00, ?it/s]"
      ]
     },
     "metadata": {},
     "output_type": "display_data"
    },
    {
     "name": "stdout",
     "output_type": "stream",
     "text": [
      "Extracting ./data/cifar-10-python.tar.gz to ./data\n",
      "Files already downloaded and verified\n"
     ]
    }
   ],
   "source": [
    "transform = transforms.Compose(\n",
    "    [transforms.ToTensor(),\n",
    "     transforms.Normalize((0.5, 0.5, 0.5), (0.5, 0.5, 0.5))])\n",
    "\n",
    "trainset = torchvision.datasets.CIFAR10(root='./data', train=True, download=True, transform=transform)\n",
    "\n",
    "\n",
    "testset = torchvision.datasets.CIFAR10(root='./data', train=False, download=True, transform=transform)\n"
   ]
  },
  {
   "cell_type": "code",
   "execution_count": 8,
   "id": "3679370c",
   "metadata": {
    "execution": {
     "iopub.execute_input": "2021-09-03T07:53:47.039264Z",
     "iopub.status.busy": "2021-09-03T07:53:47.038325Z",
     "iopub.status.idle": "2021-09-03T07:53:47.041214Z",
     "shell.execute_reply": "2021-09-03T07:53:47.040811Z",
     "shell.execute_reply.started": "2021-09-03T06:29:19.179605Z"
    },
    "id": "gh5DXuAV1tp5",
    "papermill": {
     "duration": 0.042572,
     "end_time": "2021-09-03T07:53:47.041324",
     "exception": false,
     "start_time": "2021-09-03T07:53:46.998752",
     "status": "completed"
    },
    "tags": []
   },
   "outputs": [],
   "source": [
    "trainloader = torch.utils.data.DataLoader(trainset, batch_size=10, shuffle=False)\n",
    "testloader = torch.utils.data.DataLoader(testset, batch_size=10, shuffle=False)\n",
    "\n",
    "\n",
    "classes = ('plane', 'car', 'bird', 'cat', 'deer', 'dog', 'frog', 'horse', 'ship', 'truck')\n",
    "\n",
    "foreground_classes = {'plane', 'car', 'bird'}\n",
    "#foreground_classes = {'bird', 'cat', 'deer'}\n",
    "background_classes = {'cat', 'deer', 'dog', 'frog', 'horse', 'ship', 'truck'}\n",
    "#background_classes = {'plane', 'car', 'dog', 'frog', 'horse','ship', 'truck'}\n",
    "\n",
    "fg1,fg2,fg3 = 0,1,2"
   ]
  },
  {
   "cell_type": "code",
   "execution_count": 9,
   "id": "69e1dcb8",
   "metadata": {
    "execution": {
     "iopub.execute_input": "2021-09-03T07:53:47.118550Z",
     "iopub.status.busy": "2021-09-03T07:53:47.117918Z",
     "iopub.status.idle": "2021-09-03T07:54:35.797982Z",
     "shell.execute_reply": "2021-09-03T07:54:35.798410Z",
     "shell.execute_reply.started": "2021-09-03T06:29:19.188456Z"
    },
    "id": "V_JUhwCeZErk",
    "papermill": {
     "duration": 48.722737,
     "end_time": "2021-09-03T07:54:35.798593",
     "exception": false,
     "start_time": "2021-09-03T07:53:47.075856",
     "status": "completed"
    },
    "tags": []
   },
   "outputs": [],
   "source": [
    "dataiter = iter(trainloader)\n",
    "background_data=[]\n",
    "background_label=[]\n",
    "foreground_data=[]\n",
    "foreground_label=[]\n",
    "batch_size=10\n",
    "\n",
    "for i in range(5000):\n",
    "  images, labels = dataiter.next()\n",
    "  for j in range(batch_size):\n",
    "    if(classes[labels[j]] in background_classes):\n",
    "      img = images[j].tolist()\n",
    "      background_data.append(img)\n",
    "      background_label.append(labels[j])\n",
    "    else:\n",
    "      img = images[j].tolist()\n",
    "      foreground_data.append(img)\n",
    "      foreground_label.append(labels[j])\n",
    "            \n",
    "foreground_data = torch.tensor(foreground_data)\n",
    "foreground_label = torch.tensor(foreground_label)\n",
    "background_data = torch.tensor(background_data)\n",
    "background_label = torch.tensor(background_label)"
   ]
  },
  {
   "cell_type": "code",
   "execution_count": 10,
   "id": "fa0b2c3d",
   "metadata": {
    "execution": {
     "iopub.execute_input": "2021-09-03T07:54:35.873401Z",
     "iopub.status.busy": "2021-09-03T07:54:35.872875Z",
     "iopub.status.idle": "2021-09-03T07:54:35.876664Z",
     "shell.execute_reply": "2021-09-03T07:54:35.876248Z",
     "shell.execute_reply.started": "2021-09-03T06:30:08.975739Z"
    },
    "id": "uW9MkktGysAp",
    "papermill": {
     "duration": 0.04359,
     "end_time": "2021-09-03T07:54:35.876779",
     "exception": false,
     "start_time": "2021-09-03T07:54:35.833189",
     "status": "completed"
    },
    "tags": []
   },
   "outputs": [],
   "source": [
    "def create_mosaic_img(bg_idx,fg_idx,fg): \n",
    "  \"\"\"\n",
    "  bg_idx : list of indexes of background_data[] to be used as background images in mosaic\n",
    "  fg_idx : index of image to be used as foreground image from foreground data\n",
    "  fg : at what position/index foreground image has to be stored out of 0-8\n",
    "  \"\"\"\n",
    "  image_list=[]\n",
    "  j=0\n",
    "  for i in range(9):\n",
    "    if i != fg:\n",
    "      image_list.append(background_data[bg_idx[j]])#.type(\"torch.DoubleTensor\"))\n",
    "      j+=1\n",
    "    else: \n",
    "      image_list.append(foreground_data[fg_idx])#.type(\"torch.DoubleTensor\"))\n",
    "      label = foreground_label[fg_idx]- fg1  # minus fg1 because our fore ground classes are fg1,fg2,fg3 but we have to store it as 0,1,2\n",
    "  #image_list = np.concatenate(image_list ,axis=0)\n",
    "  image_list = torch.stack(image_list) \n",
    "  return image_list,label"
   ]
  },
  {
   "cell_type": "code",
   "execution_count": 11,
   "id": "c2e83c18",
   "metadata": {
    "execution": {
     "iopub.execute_input": "2021-09-03T07:54:35.951773Z",
     "iopub.status.busy": "2021-09-03T07:54:35.950940Z",
     "iopub.status.idle": "2021-09-03T07:54:40.852443Z",
     "shell.execute_reply": "2021-09-03T07:54:40.851946Z",
     "shell.execute_reply.started": "2021-09-03T06:30:08.982796Z"
    },
    "id": "lWxkp87fNwnM",
    "papermill": {
     "duration": 4.941942,
     "end_time": "2021-09-03T07:54:40.852566",
     "exception": false,
     "start_time": "2021-09-03T07:54:35.910624",
     "status": "completed"
    },
    "tags": []
   },
   "outputs": [],
   "source": [
    "desired_num = 30000\n",
    "mosaic_list_of_images =[]      # list of mosaic images, each mosaic image is saved as list of 9 images\n",
    "fore_idx =[]                   # list of indexes at which foreground image is present in a mosaic image i.e from 0 to 9               \n",
    "mosaic_label=[]                # label of mosaic image = foreground class present in that mosaic\n",
    "for i in range(desired_num):\n",
    "  np.random.seed(i)\n",
    "  bg_idx = np.random.randint(0,35000,8)\n",
    "  fg_idx = np.random.randint(0,15000)\n",
    "  fg = np.random.randint(0,9)\n",
    "  fore_idx.append(fg)\n",
    "  image_list,label = create_mosaic_img(bg_idx,fg_idx,fg)\n",
    "  mosaic_list_of_images.append(image_list)\n",
    "  mosaic_label.append(label)"
   ]
  },
  {
   "cell_type": "code",
   "execution_count": 12,
   "id": "73aafa10",
   "metadata": {
    "execution": {
     "iopub.execute_input": "2021-09-03T07:54:40.941758Z",
     "iopub.status.busy": "2021-09-03T07:54:40.940946Z",
     "iopub.status.idle": "2021-09-03T07:54:41.080148Z",
     "shell.execute_reply": "2021-09-03T07:54:41.079676Z",
     "shell.execute_reply.started": "2021-09-03T06:30:14.074283Z"
    },
    "id": "TNMMsJ_auBRs",
    "outputId": "1eaf419e-a155-445a-86e3-e12cb440d065",
    "papermill": {
     "duration": 0.191997,
     "end_time": "2021-09-03T07:54:41.080263",
     "exception": false,
     "start_time": "2021-09-03T07:54:40.888266",
     "status": "completed"
    },
    "tags": []
   },
   "outputs": [
    {
     "data": {
      "text/plain": [
       "<matplotlib.image.AxesImage at 0x7f63eb8e6a90>"
      ]
     },
     "execution_count": 12,
     "metadata": {},
     "output_type": "execute_result"
    },
    {
     "data": {
      "image/png": "[encoded data removed]",
      "text/plain": [
       "<Figure size 432x288 with 1 Axes>"
      ]
     },
     "metadata": {
      "needs_background": "light"
     },
     "output_type": "display_data"
    }
   ],
   "source": [
    "plt.imshow(torch.transpose(mosaic_list_of_images[0][1],dim0= 0,dim1 = 2))"
   ]
  },
  {
   "cell_type": "code",
   "execution_count": 13,
   "id": "f1cfbae7",
   "metadata": {
    "execution": {
     "iopub.execute_input": "2021-09-03T07:54:41.156710Z",
     "iopub.status.busy": "2021-09-03T07:54:41.155936Z",
     "iopub.status.idle": "2021-09-03T07:54:41.158189Z",
     "shell.execute_reply": "2021-09-03T07:54:41.158655Z",
     "shell.execute_reply.started": "2021-09-03T06:30:14.242551Z"
    },
    "id": "AJuGak6_zXgx",
    "papermill": {
     "duration": 0.043595,
     "end_time": "2021-09-03T07:54:41.158779",
     "exception": false,
     "start_time": "2021-09-03T07:54:41.115184",
     "status": "completed"
    },
    "tags": []
   },
   "outputs": [],
   "source": [
    "class MosaicDataset(Dataset):\n",
    "  \"\"\"MosaicDataset dataset.\"\"\"\n",
    "\n",
    "  def __init__(self, mosaic_list_of_images, mosaic_label, fore_idx):\n",
    "    \"\"\"\n",
    "      Args:\n",
    "        csv_file (string): Path to the csv file with annotations.\n",
    "        root_dir (string): Directory with all the images.\n",
    "        transform (callable, optional): Optional transform to be applied\n",
    "            on a sample.\n",
    "    \"\"\"\n",
    "    self.mosaic = mosaic_list_of_images\n",
    "    self.label = mosaic_label\n",
    "    self.fore_idx = fore_idx\n",
    "\n",
    "  def __len__(self):\n",
    "    return len(self.label)\n",
    "\n",
    "  def __getitem__(self, idx):\n",
    "    return self.mosaic[idx] , self.label[idx], self.fore_idx[idx]\n",
    "\n",
    "batch = 250\n",
    "msd = MosaicDataset(mosaic_list_of_images, mosaic_label , fore_idx)\n",
    "train_loader = DataLoader( msd,batch_size= batch ,shuffle=True)"
   ]
  },
  {
   "cell_type": "code",
   "execution_count": 14,
   "id": "470de5e7",
   "metadata": {
    "execution": {
     "iopub.execute_input": "2021-09-03T07:54:41.233923Z",
     "iopub.status.busy": "2021-09-03T07:54:41.233210Z",
     "iopub.status.idle": "2021-09-03T07:54:41.235415Z",
     "shell.execute_reply": "2021-09-03T07:54:41.235870Z",
     "shell.execute_reply.started": "2021-09-03T06:34:35.577097Z"
    },
    "papermill": {
     "duration": 0.042449,
     "end_time": "2021-09-03T07:54:41.235999",
     "exception": false,
     "start_time": "2021-09-03T07:54:41.193550",
     "status": "completed"
    },
    "tags": []
   },
   "outputs": [],
   "source": [
    "class my_spherical_softmax(nn.Module):\n",
    "    \"\"\"\n",
    "    implementation is taken from https://github.com/anirbanl/sparsegen \n",
    "    Code for the NeurIPS 2018 paper \"On Controllable Sparse Alternatives to Softmax\"\n",
    "    \"\"\"\n",
    "    def __init__(self):\n",
    "        super(my_spherical_softmax,self).__init__()\n",
    "    def forward(self,x):\n",
    "        bs = x.data.size()[0]\n",
    "        dim = x.data.size()[1]\n",
    "        z = torch.pow(x, 2)\n",
    "        z_sum = torch.sum(z, dim=1).view(bs, 1).repeat(1, dim)\n",
    "        return z/z_sum"
   ]
  },
  {
   "cell_type": "code",
   "execution_count": 15,
   "id": "6e0d07b9",
   "metadata": {
    "execution": {
     "iopub.execute_input": "2021-09-03T07:54:41.327516Z",
     "iopub.status.busy": "2021-09-03T07:54:41.323716Z",
     "iopub.status.idle": "2021-09-03T07:54:41.329643Z",
     "shell.execute_reply": "2021-09-03T07:54:41.330081Z",
     "shell.execute_reply.started": "2021-09-03T06:44:47.332490Z"
    },
    "id": "bePj73XKuJpC",
    "papermill": {
     "duration": 0.059408,
     "end_time": "2021-09-03T07:54:41.330195",
     "exception": false,
     "start_time": "2021-09-03T07:54:41.270787",
     "status": "completed"
    },
    "tags": []
   },
   "outputs": [],
   "source": [
    "class Focus(nn.Module):\n",
    "  def __init__(self):\n",
    "    super(Focus, self).__init__()\n",
    "    self.conv1 = nn.Conv2d(in_channels=3, out_channels=32, kernel_size=3, padding=0,bias=False)\n",
    "    self.conv2 = nn.Conv2d(in_channels=32, out_channels=64, kernel_size=3, padding=0,bias=False)\n",
    "    self.conv3 = nn.Conv2d(in_channels=64, out_channels=64, kernel_size=3, padding=0,bias=False)\n",
    "    self.conv4 = nn.Conv2d(in_channels=64, out_channels=128, kernel_size=3, padding=0,bias=False)\n",
    "    self.conv5 = nn.Conv2d(in_channels=128, out_channels=256, kernel_size=3, padding=0,bias=False)\n",
    "    self.conv6 = nn.Conv2d(in_channels=256, out_channels=256, kernel_size=3, padding=1,bias=False)\n",
    "    self.pool = nn.MaxPool2d(kernel_size=2, stride=2)\n",
    "    self.batch_norm1 = nn.BatchNorm2d(32,track_running_stats=False)\n",
    "    self.batch_norm2 = nn.BatchNorm2d(64,track_running_stats=False)\n",
    "    self.batch_norm3 = nn.BatchNorm2d(256,track_running_stats=False)\n",
    "    self.dropout1 = nn.Dropout2d(p=0.05)\n",
    "    self.dropout2 = nn.Dropout2d(p=0.1)\n",
    "    self.fc1 = nn.Linear(256,64,bias=False)\n",
    "    self.fc2 = nn.Linear(64, 32,bias=False)\n",
    "    self.fc3 = nn.Linear(32, 10,bias=False)\n",
    "    self.fc4 = nn.Linear(10, 1,bias=False)\n",
    "\n",
    "    torch.nn.init.xavier_normal_(self.conv1.weight)\n",
    "    torch.nn.init.xavier_normal_(self.conv2.weight)\n",
    "    torch.nn.init.xavier_normal_(self.conv3.weight)\n",
    "    torch.nn.init.xavier_normal_(self.conv4.weight)\n",
    "    torch.nn.init.xavier_normal_(self.conv5.weight)\n",
    "    torch.nn.init.xavier_normal_(self.conv6.weight)\n",
    "\n",
    "    torch.nn.init.xavier_normal_(self.fc1.weight)\n",
    "    torch.nn.init.xavier_normal_(self.fc2.weight)\n",
    "    torch.nn.init.xavier_normal_(self.fc3.weight)\n",
    "    torch.nn.init.xavier_normal_(self.fc4.weight)\n",
    "    self.spherical_softmax = my_spherical_softmax() \n",
    "    \n",
    "\n",
    "  def forward(self,z):  #y is avg image #z batch of list of 9 images\n",
    "    batch_s = z.shape[0] \n",
    "    y = torch.zeros([batch_s,256, 3,3], dtype=torch.float64)\n",
    "    x = torch.zeros([batch_s,9],dtype=torch.float64)\n",
    "    ftr = torch.zeros([batch_s,9,256,3,3])\n",
    "    y = y.to(\"cuda\")\n",
    "    x = x.to(\"cuda\")\n",
    "    ftr = ftr.to(\"cuda\")\n",
    "    \n",
    "    for i in range(9):\n",
    "        out,ftrs = self.helper(z[:,i])\n",
    "        #print(out.shape)\n",
    "        x[:,i] = out\n",
    "        ftr[:,i] = ftrs\n",
    "    x = self.spherical_softmax(x)\n",
    "    #print(x,torch.sum(x,dim=1))\n",
    "\n",
    "    for i in range(9):            \n",
    "      x1 = x[:,i]          \n",
    "      y = y + torch.mul(x1[:,None,None,None],ftr[:,i])\n",
    "\n",
    "    return x, y #alpha, avg_data\n",
    "    \n",
    "  def helper(self, x):\n",
    "\n",
    "    x = self.conv1(x)\n",
    "    x = F.relu(self.batch_norm1(x))\n",
    "\n",
    "    x = (F.relu(self.conv2(x)))\n",
    "    x = self.pool(x)\n",
    "    \n",
    "    x = self.conv3(x)\n",
    "    x = F.relu(self.batch_norm2(x))\n",
    "\n",
    "    x = (F.relu(self.conv4(x)))\n",
    "    x = self.pool(x)\n",
    "    x = self.dropout1(x)\n",
    "\n",
    "    x = self.conv5(x)\n",
    "    \n",
    "    x = F.relu(self.batch_norm3(x))\n",
    "\n",
    "    x = self.conv6(x)\n",
    "    x1 = F.tanh(x)\n",
    "    \n",
    "    \n",
    "    x = F.relu(x)\n",
    "    x = self.pool(x)\n",
    "\n",
    "    x = x.view(x.size(0), -1)\n",
    "\n",
    "    x = self.dropout2(x)\n",
    "    x = F.relu(self.fc1(x))\n",
    "    x = F.relu(self.fc2(x))\n",
    "    x = self.dropout2(x)\n",
    "    x = F.relu(self.fc3(x))\n",
    "    x = self.fc4(x)\n",
    "    x = x[:,0] \n",
    "    # print(x.shape)\n",
    "    return x,x1"
   ]
  },
  {
   "cell_type": "code",
   "execution_count": 16,
   "id": "ed19eea5",
   "metadata": {
    "execution": {
     "iopub.execute_input": "2021-09-03T07:54:41.403792Z",
     "iopub.status.busy": "2021-09-03T07:54:41.403248Z",
     "iopub.status.idle": "2021-09-03T07:54:45.757279Z",
     "shell.execute_reply": "2021-09-03T07:54:45.758520Z",
     "shell.execute_reply.started": "2021-09-03T06:44:52.357953Z"
    },
    "id": "1GvXR1zV5n4w",
    "papermill": {
     "duration": 4.393458,
     "end_time": "2021-09-03T07:54:45.758745",
     "exception": false,
     "start_time": "2021-09-03T07:54:41.365287",
     "status": "completed"
    },
    "tags": []
   },
   "outputs": [],
   "source": [
    "torch.manual_seed(n_seed)\n",
    "focus_net = Focus().double()\n",
    "focus_net = focus_net.to(\"cuda\")"
   ]
  },
  {
   "cell_type": "code",
   "execution_count": 17,
   "id": "a9c0f639",
   "metadata": {
    "execution": {
     "iopub.execute_input": "2021-09-03T07:54:45.889020Z",
     "iopub.status.busy": "2021-09-03T07:54:45.887621Z",
     "iopub.status.idle": "2021-09-03T07:54:45.890595Z",
     "shell.execute_reply": "2021-09-03T07:54:45.890064Z",
     "shell.execute_reply.started": "2021-09-03T06:44:54.045180Z"
    },
    "id": "LYdCXceZzSk9",
    "papermill": {
     "duration": 0.068048,
     "end_time": "2021-09-03T07:54:45.890730",
     "exception": false,
     "start_time": "2021-09-03T07:54:45.822682",
     "status": "completed"
    },
    "tags": []
   },
   "outputs": [],
   "source": [
    "class Classification(nn.Module):\n",
    "  def __init__(self):\n",
    "    super(Classification, self).__init__()\n",
    "    self.conv1 = nn.Conv2d(in_channels=256, out_channels=128, kernel_size=3, padding=1)\n",
    "    self.conv2 = nn.Conv2d(in_channels=128, out_channels=128, kernel_size=3, padding=1)\n",
    "    self.conv3 = nn.Conv2d(in_channels=128, out_channels=256, kernel_size=3, padding=1)\n",
    "    self.conv4 = nn.Conv2d(in_channels=256, out_channels=256, kernel_size=3, padding=1)\n",
    "    self.conv5 = nn.Conv2d(in_channels=256, out_channels=512, kernel_size=3, padding=1)\n",
    "    self.conv6 = nn.Conv2d(in_channels=512, out_channels=512, kernel_size=3, padding=1)\n",
    "    self.pool = nn.MaxPool2d(kernel_size=2, stride=2,padding=1)\n",
    "    self.batch_norm1 = nn.BatchNorm2d(128,track_running_stats=False)\n",
    "    self.batch_norm2 = nn.BatchNorm2d(256,track_running_stats=False)\n",
    "    self.batch_norm3 = nn.BatchNorm2d(512,track_running_stats=False)\n",
    "    self.dropout1 = nn.Dropout2d(p=0.05)\n",
    "    self.dropout2 = nn.Dropout2d(p=0.1)\n",
    "    self.global_average_pooling = nn.AvgPool2d(kernel_size=2)\n",
    "    self.fc1 = nn.Linear(512,128)\n",
    "    # self.fc2 = nn.Linear(128, 64)\n",
    "    # self.fc3 = nn.Linear(64, 10)\n",
    "    self.fc2 = nn.Linear(128, 3)\n",
    "\n",
    "    torch.nn.init.xavier_normal_(self.conv1.weight)\n",
    "    torch.nn.init.xavier_normal_(self.conv2.weight)\n",
    "    torch.nn.init.xavier_normal_(self.conv3.weight)\n",
    "    torch.nn.init.xavier_normal_(self.conv4.weight)\n",
    "    torch.nn.init.xavier_normal_(self.conv5.weight)\n",
    "    torch.nn.init.xavier_normal_(self.conv6.weight)\n",
    "\n",
    "    torch.nn.init.zeros_(self.conv1.bias)\n",
    "    torch.nn.init.zeros_(self.conv2.bias)\n",
    "    torch.nn.init.zeros_(self.conv3.bias)\n",
    "    torch.nn.init.zeros_(self.conv4.bias)\n",
    "    torch.nn.init.zeros_(self.conv5.bias)\n",
    "    torch.nn.init.zeros_(self.conv6.bias)\n",
    "\n",
    "\n",
    "    torch.nn.init.xavier_normal_(self.fc1.weight)\n",
    "    torch.nn.init.xavier_normal_(self.fc2.weight)\n",
    "    torch.nn.init.zeros_(self.fc1.bias)\n",
    "    torch.nn.init.zeros_(self.fc2.bias)\n",
    "\n",
    "\n",
    "  def forward(self, x):\n",
    "    x = self.conv1(x)\n",
    "    x = F.relu(self.batch_norm1(x))\n",
    "\n",
    "    x = (F.relu(self.conv2(x)))\n",
    "    x = self.pool(x)\n",
    "    \n",
    "    x = self.conv3(x)\n",
    "    x = F.relu(self.batch_norm2(x))\n",
    "\n",
    "    x = (F.relu(self.conv4(x)))\n",
    "    x = self.pool(x)\n",
    "    x = self.dropout1(x)\n",
    "\n",
    "    x = self.conv5(x)\n",
    "    x = F.relu(self.batch_norm3(x))\n",
    "\n",
    "    x = (F.relu(self.conv6(x)))\n",
    "    x = self.pool(x)\n",
    "    #print(x.shape)\n",
    "    x = self.global_average_pooling(x)\n",
    "    x = x.squeeze()\n",
    "    #x = x.view(x.size(0), -1)\n",
    "    #print(x.shape)\n",
    "    x = self.dropout2(x)\n",
    "    x = F.relu(self.fc1(x))\n",
    "    #x = F.relu(self.fc2(x))\n",
    "    #x = self.dropout2(x)\n",
    "    #x = F.relu(self.fc3(x))\n",
    "    x = self.fc2(x)\n",
    "    return x"
   ]
  },
  {
   "cell_type": "code",
   "execution_count": 18,
   "id": "af6b6a8d",
   "metadata": {
    "execution": {
     "iopub.execute_input": "2021-09-03T07:54:45.971513Z",
     "iopub.status.busy": "2021-09-03T07:54:45.970818Z",
     "iopub.status.idle": "2021-09-03T07:54:46.090225Z",
     "shell.execute_reply": "2021-09-03T07:54:46.089734Z",
     "shell.execute_reply.started": "2021-09-03T06:44:55.484579Z"
    },
    "id": "uPYplUGazU9I",
    "papermill": {
     "duration": 0.160847,
     "end_time": "2021-09-03T07:54:46.090450",
     "exception": false,
     "start_time": "2021-09-03T07:54:45.929603",
     "status": "completed"
    },
    "tags": []
   },
   "outputs": [],
   "source": [
    "torch.manual_seed(n_seed)\n",
    "classify = Classification().double()\n",
    "classify = classify.to(\"cuda\")"
   ]
  },
  {
   "cell_type": "code",
   "execution_count": 19,
   "id": "7b5b26a4",
   "metadata": {
    "execution": {
     "iopub.execute_input": "2021-09-03T07:54:46.172451Z",
     "iopub.status.busy": "2021-09-03T07:54:46.169604Z",
     "iopub.status.idle": "2021-09-03T07:54:48.048993Z",
     "shell.execute_reply": "2021-09-03T07:54:48.048108Z",
     "shell.execute_reply.started": "2021-09-03T06:44:57.197963Z"
    },
    "id": "l789TLMP9zJX",
    "papermill": {
     "duration": 1.921669,
     "end_time": "2021-09-03T07:54:48.049133",
     "exception": false,
     "start_time": "2021-09-03T07:54:46.127464",
     "status": "completed"
    },
    "tags": []
   },
   "outputs": [],
   "source": [
    "test_images =[]        #list of mosaic images, each mosaic image is saved as laist of 9 images\n",
    "fore_idx_test =[]                   #list of indexes at which foreground image is present in a mosaic image                \n",
    "test_label=[]                # label of mosaic image = foreground class present in that mosaic\n",
    "for i in range(10000):\n",
    "  np.random.seed(i+30000)\n",
    "  bg_idx = np.random.randint(0,35000,8)\n",
    "  fg_idx = np.random.randint(0,15000)\n",
    "  fg = np.random.randint(0,9)\n",
    "  fore_idx_test.append(fg)\n",
    "  image_list,label = create_mosaic_img(bg_idx,fg_idx,fg)\n",
    "  test_images.append(image_list)\n",
    "  test_label.append(label)"
   ]
  },
  {
   "cell_type": "code",
   "execution_count": 20,
   "id": "b438e920",
   "metadata": {
    "execution": {
     "iopub.execute_input": "2021-09-03T07:54:48.125569Z",
     "iopub.status.busy": "2021-09-03T07:54:48.124365Z",
     "iopub.status.idle": "2021-09-03T07:54:48.126680Z",
     "shell.execute_reply": "2021-09-03T07:54:48.127095Z",
     "shell.execute_reply.started": "2021-09-03T06:45:00.248832Z"
    },
    "id": "bBzV9dKS5po7",
    "papermill": {
     "duration": 0.042203,
     "end_time": "2021-09-03T07:54:48.127218",
     "exception": false,
     "start_time": "2021-09-03T07:54:48.085015",
     "status": "completed"
    },
    "tags": []
   },
   "outputs": [],
   "source": [
    "test_data = MosaicDataset(test_images,test_label,fore_idx_test)\n",
    "test_loader = DataLoader( test_data,batch_size= batch ,shuffle=False)"
   ]
  },
  {
   "cell_type": "code",
   "execution_count": 21,
   "id": "11c1d48b",
   "metadata": {
    "execution": {
     "iopub.execute_input": "2021-09-03T07:54:48.220942Z",
     "iopub.status.busy": "2021-09-03T07:54:48.220166Z",
     "iopub.status.idle": "2021-09-03T07:54:48.224395Z",
     "shell.execute_reply": "2021-09-03T07:54:48.223906Z",
     "shell.execute_reply.started": "2021-09-03T06:45:03.754940Z"
    },
    "id": "NIZAdWWL93SJ",
    "papermill": {
     "duration": 0.054257,
     "end_time": "2021-09-03T07:54:48.224531",
     "exception": false,
     "start_time": "2021-09-03T07:54:48.170274",
     "status": "completed"
    },
    "tags": []
   },
   "outputs": [],
   "source": [
    "criterion = nn.CrossEntropyLoss()"
   ]
  },
  {
   "cell_type": "code",
   "execution_count": 22,
   "id": "23e830d8",
   "metadata": {
    "execution": {
     "iopub.execute_input": "2021-09-03T07:54:48.303968Z",
     "iopub.status.busy": "2021-09-03T07:54:48.303316Z",
     "iopub.status.idle": "2021-09-03T07:54:48.306412Z",
     "shell.execute_reply": "2021-09-03T07:54:48.306842Z",
     "shell.execute_reply.started": "2021-09-03T06:45:15.425036Z"
    },
    "id": "n5g3geNJ5zEu",
    "papermill": {
     "duration": 0.043582,
     "end_time": "2021-09-03T07:54:48.306990",
     "exception": false,
     "start_time": "2021-09-03T07:54:48.263408",
     "status": "completed"
    },
    "tags": []
   },
   "outputs": [],
   "source": [
    "import torch.optim as optim\n",
    "# criterion_classify = nn.CrossEntropyLoss()\n",
    "optimizer_focus = optim.Adam(focus_net.parameters(), lr=0.003) # momentum=0.9)\n",
    "optimizer_classify = optim.Adam(classify.parameters(), lr=0.003)#, mosmentum=0.9)"
   ]
  },
  {
   "cell_type": "code",
   "execution_count": 23,
   "id": "0db6dc80",
   "metadata": {
    "execution": {
     "iopub.execute_input": "2021-09-03T07:54:48.382809Z",
     "iopub.status.busy": "2021-09-03T07:54:48.381552Z",
     "iopub.status.idle": "2021-09-03T07:54:48.383924Z",
     "shell.execute_reply": "2021-09-03T07:54:48.384340Z",
     "shell.execute_reply.started": "2021-09-03T06:48:46.891117Z"
    },
    "id": "q8FurF4uDlOf",
    "papermill": {
     "duration": 0.042554,
     "end_time": "2021-09-03T07:54:48.384461",
     "exception": false,
     "start_time": "2021-09-03T07:54:48.341907",
     "status": "completed"
    },
    "tags": []
   },
   "outputs": [],
   "source": [
    "col1=[]\n",
    "col2=[]\n",
    "col3=[]\n",
    "col4=[]\n",
    "col5=[]\n",
    "col6=[]\n",
    "col7=[]\n",
    "col8=[]\n",
    "col9=[]\n",
    "col10=[]\n",
    "col11=[]\n",
    "col12=[]\n",
    "col13=[]\n",
    "col14 = [] # train average sparsity\n",
    "col15 = [] # test average sparsity\n",
    "\n"
   ]
  },
  {
   "cell_type": "code",
   "execution_count": 24,
   "id": "a27ec2bd",
   "metadata": {
    "execution": {
     "iopub.execute_input": "2021-09-03T07:54:48.468495Z",
     "iopub.status.busy": "2021-09-03T07:54:48.467963Z",
     "iopub.status.idle": "2021-09-03T07:55:14.961939Z",
     "shell.execute_reply": "2021-09-03T07:55:14.962502Z",
     "shell.execute_reply.started": "2021-09-03T06:48:48.202468Z"
    },
    "id": "u7wkoxckDlIg",
    "outputId": "8bd39cf0-6ed5-4baf-9ca9-2ef79eb52dad",
    "papermill": {
     "duration": 26.543318,
     "end_time": "2021-09-03T07:55:14.962720",
     "exception": false,
     "start_time": "2021-09-03T07:54:48.419402",
     "status": "completed"
    },
    "tags": []
   },
   "outputs": [
    {
     "name": "stdout",
     "output_type": "stream",
     "text": [
      "Accuracy of the network on the 30000 train images: 33.770000 %\n",
      "total correct 10131\n",
      "total train set images 30000\n",
      "focus_true_pred_true 2334 =============> FTPT : 7.780000 %\n",
      "focus_false_pred_true 7797 =============> FFPT : 25.990000 %\n",
      "focus_true_pred_false 3157 =============> FTPF : 10.523333 %\n",
      "focus_false_pred_false 16712 =============> FFPF : 55.706667 %\n",
      "Sparsity_Value 265373 =============> AVG Sparsity : 8.845767 \n",
      "argmax_more_than_half ==================>  456\n",
      "argmax_less_than_half ==================>  29544\n",
      "30000\n",
      "====================================================================================================\n"
     ]
    }
   ],
   "source": [
    "correct = 0\n",
    "total = 0\n",
    "count = 0\n",
    "flag = 1\n",
    "focus_true_pred_true =0\n",
    "focus_false_pred_true =0\n",
    "focus_true_pred_false =0\n",
    "focus_false_pred_false =0\n",
    "\n",
    "argmax_more_than_half = 0\n",
    "argmax_less_than_half =0\n",
    "sparse_val = 0 \n",
    "focus_net.eval()\n",
    "classify.eval()\n",
    "with torch.no_grad():\n",
    "  for data in train_loader:\n",
    "    inputs, labels , fore_idx = data\n",
    "    inputs = inputs.double()\n",
    "    inputs, labels , fore_idx = inputs.to(\"cuda\"),labels.to(\"cuda\"), fore_idx.to(\"cuda\")\n",
    "    alphas, avg_images = focus_net(inputs)\n",
    "    # print(inputs.shape, alphas.shape, avg_images.shape)\n",
    "    outputs = classify(avg_images)\n",
    "\n",
    "    _, predicted = torch.max(outputs.data, 1)\n",
    "    \n",
    "    sparse_val += torch.sum(torch.sum(alphas>0.01,dim=1)).item()\n",
    "\n",
    "\n",
    "    for j in range(labels.size(0)):\n",
    "      count += 1\n",
    "      focus = torch.argmax(alphas[j])\n",
    "      if alphas[j][focus] >= 0.5 :\n",
    "        argmax_more_than_half += 1\n",
    "      else:\n",
    "        argmax_less_than_half += 1\n",
    "\n",
    "      if(focus == fore_idx[j] and predicted[j] == labels[j]):\n",
    "          focus_true_pred_true += 1\n",
    "      elif(focus != fore_idx[j] and predicted[j] == labels[j]):\n",
    "        focus_false_pred_true += 1\n",
    "      elif(focus == fore_idx[j] and predicted[j] != labels[j]):\n",
    "        focus_true_pred_false += 1\n",
    "      elif(focus != fore_idx[j] and predicted[j] != labels[j]):\n",
    "        focus_false_pred_false += 1\n",
    "\n",
    "    total += labels.size(0)\n",
    "    correct += (predicted == labels).sum().item()\n",
    "\n",
    "print('Accuracy of the network on the 30000 train images: %f %%' % ( 100 * correct / total))\n",
    "print(\"total correct\", correct)\n",
    "print(\"total train set images\", total)\n",
    "\n",
    "print(\"focus_true_pred_true %d =============> FTPT : %f %%\" % (focus_true_pred_true , (100 * focus_true_pred_true / total) ) )\n",
    "print(\"focus_false_pred_true %d =============> FFPT : %f %%\" % (focus_false_pred_true, (100 * focus_false_pred_true / total) ) )\n",
    "print(\"focus_true_pred_false %d =============> FTPF : %f %%\" %( focus_true_pred_false , ( 100 * focus_true_pred_false / total) ) )\n",
    "print(\"focus_false_pred_false %d =============> FFPF : %f %%\" % (focus_false_pred_false, ( 100 * focus_false_pred_false / total) ) )\n",
    "print(\"Sparsity_Value %d =============> AVG Sparsity : %f \" % (sparse_val,(sparse_val)/total))\n",
    "print(\"argmax_more_than_half ==================> \",argmax_more_than_half)\n",
    "print(\"argmax_less_than_half ==================> \",argmax_less_than_half)\n",
    "print(count)\n",
    "\n",
    "print(\"=\"*100)\n",
    "\n",
    "col1.append(0)\n",
    "col2.append(argmax_more_than_half)\n",
    "col3.append(argmax_less_than_half)\n",
    "col4.append(focus_true_pred_true)\n",
    "col5.append(focus_false_pred_true)\n",
    "col6.append(focus_true_pred_false)\n",
    "col7.append(focus_false_pred_false)\n",
    "col14.append(sparse_val)"
   ]
  },
  {
   "cell_type": "code",
   "execution_count": 25,
   "id": "3f768877",
   "metadata": {
    "execution": {
     "iopub.execute_input": "2021-09-03T07:55:15.053193Z",
     "iopub.status.busy": "2021-09-03T07:55:15.051773Z",
     "iopub.status.idle": "2021-09-03T07:55:23.730311Z",
     "shell.execute_reply": "2021-09-03T07:55:23.730898Z",
     "shell.execute_reply.started": "2021-09-03T06:49:13.912068Z"
    },
    "id": "0S4x9oQuDlBa",
    "outputId": "c268f2ab-e59b-45bc-ecc0-1532f9dc95c9",
    "papermill": {
     "duration": 8.727891,
     "end_time": "2021-09-03T07:55:23.731101",
     "exception": false,
     "start_time": "2021-09-03T07:55:15.003210",
     "status": "completed"
    },
    "tags": []
   },
   "outputs": [
    {
     "name": "stdout",
     "output_type": "stream",
     "text": [
      "Accuracy of the network on the 10000 test images: 33.560000 %\n",
      "total correct 3356\n",
      "total test set images 10000\n",
      "focus_true_pred_true 775 =============> FTPT : 7.750000 %\n",
      "focus_false_pred_true 2581 =============> FFPT : 25.810000 %\n",
      "focus_true_pred_false 1054 =============> FTPF : 10.540000 %\n",
      "focus_false_pred_false 5590 =============> FFPF : 55.900000 %\n",
      "Sparsity_Value 88481 =============> AVG Sparsity : 8.848100 \n",
      "argmax_more_than_half ==================>  169\n",
      "argmax_less_than_half ==================>  9831\n"
     ]
    }
   ],
   "source": [
    "correct = 0\n",
    "total = 0\n",
    "count = 0\n",
    "flag = 1\n",
    "focus_true_pred_true =0\n",
    "focus_false_pred_true =0\n",
    "focus_true_pred_false =0\n",
    "focus_false_pred_false =0\n",
    "\n",
    "argmax_more_than_half = 0\n",
    "argmax_less_than_half =0\n",
    "sparse_val = 0\n",
    "focus_net.eval()\n",
    "classify.eval()\n",
    "with torch.no_grad():\n",
    "  for data in test_loader:\n",
    "    inputs, labels , fore_idx = data\n",
    "    inputs = inputs.double()\n",
    "    inputs, labels , fore_idx = inputs.to(\"cuda\"),labels.to(\"cuda\"), fore_idx.to(\"cuda\")\n",
    "    alphas, avg_images = focus_net(inputs)\n",
    "    outputs = classify(avg_images)\n",
    "\n",
    "    _, predicted = torch.max(outputs.data, 1)\n",
    "    \n",
    "    sparse_val += torch.sum(torch.sum(alphas>0.01,dim=1)).item()\n",
    "\n",
    "    for j in range(labels.size(0)):\n",
    "      focus = torch.argmax(alphas[j])\n",
    "      if alphas[j][focus] >= 0.5 :\n",
    "        argmax_more_than_half += 1\n",
    "      else:\n",
    "        argmax_less_than_half += 1\n",
    "\n",
    "      if(focus == fore_idx[j] and predicted[j] == labels[j]):\n",
    "          focus_true_pred_true += 1\n",
    "      elif(focus != fore_idx[j] and predicted[j] == labels[j]):\n",
    "        focus_false_pred_true += 1\n",
    "      elif(focus == fore_idx[j] and predicted[j] != labels[j]):\n",
    "        focus_true_pred_false += 1\n",
    "      elif(focus != fore_idx[j] and predicted[j] != labels[j]):\n",
    "        focus_false_pred_false += 1\n",
    "\n",
    "    total += labels.size(0)\n",
    "    correct += (predicted == labels).sum().item()\n",
    "\n",
    "print('Accuracy of the network on the 10000 test images: %f %%' % (\n",
    "    100 * correct / total))\n",
    "print(\"total correct\", correct)\n",
    "print(\"total test set images\", total)\n",
    "\n",
    "print(\"focus_true_pred_true %d =============> FTPT : %f %%\" % (focus_true_pred_true , (100 * focus_true_pred_true / total) ) )\n",
    "print(\"focus_false_pred_true %d =============> FFPT : %f %%\" % (focus_false_pred_true, (100 * focus_false_pred_true / total) ) )\n",
    "print(\"focus_true_pred_false %d =============> FTPF : %f %%\" %( focus_true_pred_false , ( 100 * focus_true_pred_false / total) ) )\n",
    "print(\"focus_false_pred_false %d =============> FFPF : %f %%\" % (focus_false_pred_false, ( 100 * focus_false_pred_false / total) ) )\n",
    "print(\"Sparsity_Value %d =============> AVG Sparsity : %f \" % (sparse_val,(sparse_val)/total))\n",
    "print(\"argmax_more_than_half ==================> \",argmax_more_than_half)\n",
    "print(\"argmax_less_than_half ==================> \",argmax_less_than_half)\n",
    "col8.append(argmax_more_than_half)\n",
    "col9.append(argmax_less_than_half)\n",
    "col10.append(focus_true_pred_true)\n",
    "col11.append(focus_false_pred_true)\n",
    "col12.append(focus_true_pred_false)\n",
    "col13.append(focus_false_pred_false)\n",
    "col15.append(sparse_val)"
   ]
  },
  {
   "cell_type": "code",
   "execution_count": 26,
   "id": "62aa1ad6",
   "metadata": {
    "execution": {
     "iopub.execute_input": "2021-09-03T07:55:23.827191Z",
     "iopub.status.busy": "2021-09-03T07:55:23.826317Z",
     "iopub.status.idle": "2021-09-03T08:19:39.677486Z",
     "shell.execute_reply": "2021-09-03T08:19:39.677929Z",
     "shell.execute_reply.started": "2021-09-03T06:49:22.604756Z"
    },
    "id": "tFfAJZkcZEsY",
    "outputId": "439eba9f-f882-4ed4-b553-fa100981260a",
    "papermill": {
     "duration": 1455.909863,
     "end_time": "2021-09-03T08:19:39.678090",
     "exception": false,
     "start_time": "2021-09-03T07:55:23.768227",
     "status": "completed"
    },
    "tags": []
   },
   "outputs": [
    {
     "name": "stdout",
     "output_type": "stream",
     "text": [
      "[1,    60] loss: 1.407\n",
      "[1,   120] loss: 1.100\n",
      "[2,    60] loss: 1.099\n",
      "[2,   120] loss: 1.099\n",
      "[3,    60] loss: 1.098\n",
      "[3,   120] loss: 1.096\n",
      "[4,    60] loss: 1.083\n",
      "[4,   120] loss: 1.068\n",
      "[5,    60] loss: 1.058\n",
      "[5,   120] loss: 1.026\n",
      "[6,    60] loss: 0.965\n",
      "[6,   120] loss: 0.898\n",
      "[7,    60] loss: 0.796\n",
      "[7,   120] loss: 0.738\n",
      "[8,    60] loss: 0.651\n",
      "[8,   120] loss: 0.608\n",
      "[9,    60] loss: 0.509\n",
      "[9,   120] loss: 0.484\n",
      "[10,    60] loss: 0.414\n",
      "[10,   120] loss: 0.372\n",
      "[11,    60] loss: 0.327\n",
      "[11,   120] loss: 0.323\n",
      "[12,    60] loss: 0.254\n",
      "[12,   120] loss: 0.254\n",
      "[13,    60] loss: 0.207\n",
      "[13,   120] loss: 0.199\n",
      "[14,    60] loss: 0.164\n",
      "[14,   120] loss: 0.169\n",
      "[15,    60] loss: 0.137\n",
      "[15,   120] loss: 0.155\n",
      "[16,    60] loss: 0.116\n",
      "[16,   120] loss: 0.112\n",
      "[17,    60] loss: 0.091\n",
      "[17,   120] loss: 0.104\n",
      "[18,    60] loss: 0.075\n",
      "[18,   120] loss: 0.091\n",
      "[19,    60] loss: 0.059\n",
      "[19,   120] loss: 0.070\n",
      "[20,    60] loss: 0.054\n",
      "[20,   120] loss: 0.066\n",
      "[21,    60] loss: 0.053\n",
      "[21,   120] loss: 0.048\n",
      "[22,    60] loss: 0.047\n",
      "[22,   120] loss: 0.051\n",
      "Finished Training\n"
     ]
    }
   ],
   "source": [
    "nos_epochs = 50\n",
    "focus_true_pred_true =0\n",
    "focus_false_pred_true =0\n",
    "focus_true_pred_false =0\n",
    "focus_false_pred_false =0\n",
    "\n",
    "argmax_more_than_half = 0\n",
    "argmax_less_than_half =0\n",
    "focus_net.train()\n",
    "classify.train()\n",
    "tr_loss = []\n",
    "\n",
    "\n",
    "for epoch in range(nos_epochs):  # loop over the dataset multiple times\n",
    "  focus_net.train()\n",
    "  classify.train()\n",
    "  focus_true_pred_true =0\n",
    "  focus_false_pred_true =0\n",
    "  focus_true_pred_false =0\n",
    "  focus_false_pred_false =0\n",
    "  \n",
    "  argmax_more_than_half = 0\n",
    "  argmax_less_than_half =0\n",
    "  sparse_val = 0 \n",
    "  \n",
    "  running_loss = 0.0\n",
    "  epoch_loss = []\n",
    "  cnt=0\n",
    "\n",
    "  iteration = desired_num // batch\n",
    "  \n",
    "  #training data set\n",
    "  \n",
    "  for i, data in  enumerate(train_loader):\n",
    "    inputs , labels , fore_idx = data\n",
    "    inputs = inputs.double()\n",
    "    inputs, labels = inputs.to(\"cuda\"), labels.to(\"cuda\")\n",
    "    # zero the parameter gradients\n",
    "    optimizer_focus.zero_grad()\n",
    "    optimizer_classify.zero_grad()\n",
    "    alphas, avg_images = focus_net(inputs)\n",
    "    outputs = classify(avg_images)\n",
    "    \n",
    "    \n",
    "\n",
    "    _, predicted = torch.max(outputs.data, 1)\n",
    "\n",
    "    loss = criterion(outputs, labels)\n",
    "    loss.backward()\n",
    "    optimizer_focus.step()\n",
    "    optimizer_classify.step()\n",
    "\n",
    "    running_loss += loss.item()\n",
    "    mini = 60\n",
    "    if cnt % mini == mini-1:    # print every 40 mini-batches\n",
    "      print('[%d, %5d] loss: %.3f' %(epoch + 1, cnt + 1, running_loss / mini))\n",
    "      epoch_loss.append(running_loss/mini)\n",
    "      running_loss = 0.0\n",
    "    cnt=cnt+1\n",
    "    \n",
    "    \n",
    "    if epoch % 1 == 0:\n",
    "      sparse_val += torch.sum(torch.sum(alphas>0.01,dim=1)).item()\n",
    "      for j in range (batch):\n",
    "        focus = torch.argmax(alphas[j])\n",
    "\n",
    "        if(alphas[j][focus] >= 0.5):\n",
    "          argmax_more_than_half +=1\n",
    "        else:\n",
    "          argmax_less_than_half +=1\n",
    "\n",
    "        if(focus == fore_idx[j] and predicted[j] == labels[j]):\n",
    "          focus_true_pred_true += 1\n",
    "\n",
    "        elif(focus != fore_idx[j] and predicted[j] == labels[j]):\n",
    "          focus_false_pred_true +=1\n",
    "\n",
    "        elif(focus == fore_idx[j] and predicted[j] != labels[j]):\n",
    "          focus_true_pred_false +=1\n",
    "\n",
    "        elif(focus != fore_idx[j] and predicted[j] != labels[j]):\n",
    "          focus_false_pred_false +=1\n",
    "\n",
    "\n",
    "  tr_loss.append(np.mean(epoch_loss))\n",
    "  if epoch % 1 == 0:\n",
    "    col1.append(epoch+1)\n",
    "    col2.append(argmax_more_than_half)\n",
    "    col3.append(argmax_less_than_half)\n",
    "    col4.append(focus_true_pred_true)\n",
    "    col5.append(focus_false_pred_true)\n",
    "    col6.append(focus_true_pred_false)\n",
    "    col7.append(focus_false_pred_false)\n",
    "    col14.append(sparse_val)\n",
    "  \n",
    "    #************************************************************************\n",
    "    #testing data set \n",
    "    focus_net.eval()\n",
    "    classify.eval() \n",
    "    with torch.no_grad():\n",
    "      focus_true_pred_true =0\n",
    "      focus_false_pred_true =0\n",
    "      focus_true_pred_false =0\n",
    "      focus_false_pred_false =0\n",
    "\n",
    "      argmax_more_than_half = 0\n",
    "      argmax_less_than_half =0\n",
    "      sparse_val = 0\n",
    "      for data in test_loader:\n",
    "        inputs, labels , fore_idx = data\n",
    "        inputs = inputs.double()\n",
    "        inputs, labels = inputs.to(\"cuda\"), labels.to(\"cuda\")\n",
    "        alphas, avg_images = focus_net(inputs)\n",
    "        outputs = classify(avg_images)\n",
    "        #outputs, alphas, avg_images = classify(inputs)\n",
    "        _, predicted = torch.max(outputs.data, 1)\n",
    "        sparse_val += torch.sum(torch.sum(alphas>0.01,dim=1)).item()\n",
    "        for j in range (batch):\n",
    "          focus = torch.argmax(alphas[j])\n",
    "\n",
    "          if(alphas[j][focus] >= 0.5):\n",
    "            argmax_more_than_half +=1\n",
    "          else:\n",
    "            argmax_less_than_half +=1\n",
    "\n",
    "          if(focus == fore_idx[j] and predicted[j] == labels[j]):\n",
    "            focus_true_pred_true += 1\n",
    "\n",
    "          elif(focus != fore_idx[j] and predicted[j] == labels[j]):\n",
    "            focus_false_pred_true +=1\n",
    "\n",
    "          elif(focus == fore_idx[j] and predicted[j] != labels[j]):\n",
    "            focus_true_pred_false +=1\n",
    "\n",
    "          elif(focus != fore_idx[j] and predicted[j] != labels[j]):\n",
    "            focus_false_pred_false +=1\n",
    "      \n",
    "    col8.append(argmax_more_than_half)\n",
    "    col9.append(argmax_less_than_half)\n",
    "    col10.append(focus_true_pred_true)\n",
    "    col11.append(focus_false_pred_true)\n",
    "    col12.append(focus_true_pred_false)\n",
    "    col13.append(focus_false_pred_false)\n",
    "    col15.append(sparse_val)\n",
    "  if(np.mean(epoch_loss) <= 0.05):\n",
    "    break;\n",
    "print('Finished Training') "
   ]
  },
  {
   "cell_type": "code",
   "execution_count": 27,
   "id": "b9b07d4c",
   "metadata": {
    "execution": {
     "iopub.execute_input": "2021-09-03T08:19:39.776149Z",
     "iopub.status.busy": "2021-09-03T08:19:39.775633Z",
     "iopub.status.idle": "2021-09-03T08:19:39.874313Z",
     "shell.execute_reply": "2021-09-03T08:19:39.873834Z",
     "shell.execute_reply.started": "2021-09-03T06:51:35.629374Z"
    },
    "id": "WIAJ3UZN8rPE",
    "papermill": {
     "duration": 0.149377,
     "end_time": "2021-09-03T08:19:39.874445",
     "exception": false,
     "start_time": "2021-09-03T08:19:39.725068",
     "status": "completed"
    },
    "tags": []
   },
   "outputs": [],
   "source": [
    "torch.save(focus_net.state_dict(),path+\"weights_focus_0.pt\")  \n",
    "torch.save(classify.state_dict(),path+\"weights_classify_0.pt\")"
   ]
  },
  {
   "cell_type": "code",
   "execution_count": 28,
   "id": "aa128ae0",
   "metadata": {
    "execution": {
     "iopub.execute_input": "2021-09-03T08:19:39.973441Z",
     "iopub.status.busy": "2021-09-03T08:19:39.972679Z",
     "iopub.status.idle": "2021-09-03T08:19:39.975416Z",
     "shell.execute_reply": "2021-09-03T08:19:39.975018Z",
     "shell.execute_reply.started": "2021-09-03T06:51:35.764079Z"
    },
    "id": "2LgQKXW-8MH-",
    "papermill": {
     "duration": 0.053538,
     "end_time": "2021-09-03T08:19:39.975529",
     "exception": false,
     "start_time": "2021-09-03T08:19:39.921991",
     "status": "completed"
    },
    "tags": []
   },
   "outputs": [],
   "source": [
    "columns = [\"epochs\", \"argmax > 0.5\" ,\"argmax < 0.5\", \"focus_true_pred_true\", \"focus_false_pred_true\", \"focus_true_pred_false\", \"focus_false_pred_false\" ,\"sparse_val\"]"
   ]
  },
  {
   "cell_type": "code",
   "execution_count": 29,
   "id": "a1490fbc",
   "metadata": {
    "execution": {
     "iopub.execute_input": "2021-09-03T08:19:40.074587Z",
     "iopub.status.busy": "2021-09-03T08:19:40.073685Z",
     "iopub.status.idle": "2021-09-03T08:19:40.076159Z",
     "shell.execute_reply": "2021-09-03T08:19:40.076579Z",
     "shell.execute_reply.started": "2021-09-03T06:51:35.770638Z"
    },
    "id": "tSKphM888Y5o",
    "papermill": {
     "duration": 0.053947,
     "end_time": "2021-09-03T08:19:40.076717",
     "exception": false,
     "start_time": "2021-09-03T08:19:40.022770",
     "status": "completed"
    },
    "tags": []
   },
   "outputs": [],
   "source": [
    "df_train = pd.DataFrame()\n",
    "df_test = pd.DataFrame()"
   ]
  },
  {
   "cell_type": "code",
   "execution_count": 30,
   "id": "b7e3127f",
   "metadata": {
    "execution": {
     "iopub.execute_input": "2021-09-03T08:19:40.175169Z",
     "iopub.status.busy": "2021-09-03T08:19:40.174360Z",
     "iopub.status.idle": "2021-09-03T08:19:40.177967Z",
     "shell.execute_reply": "2021-09-03T08:19:40.177551Z",
     "shell.execute_reply.started": "2021-09-03T06:51:35.784191Z"
    },
    "id": "lLSfxf-zE_D1",
    "outputId": "6cc73d7a-7d81-4717-b408-62a37e00b418",
    "papermill": {
     "duration": 0.054603,
     "end_time": "2021-09-03T08:19:40.178076",
     "exception": false,
     "start_time": "2021-09-03T08:19:40.123473",
     "status": "completed"
    },
    "tags": []
   },
   "outputs": [
    {
     "data": {
      "text/plain": [
       "(23,\n",
       " [9831,\n",
       "  3793,\n",
       "  4852,\n",
       "  4516,\n",
       "  4778,\n",
       "  9127,\n",
       "  8415,\n",
       "  6316,\n",
       "  4718,\n",
       "  2673,\n",
       "  2941,\n",
       "  2943,\n",
       "  2756,\n",
       "  2257,\n",
       "  1969,\n",
       "  2138,\n",
       "  2003,\n",
       "  2019,\n",
       "  1681,\n",
       "  1940,\n",
       "  2206,\n",
       "  1720,\n",
       "  1938])"
      ]
     },
     "execution_count": 30,
     "metadata": {},
     "output_type": "execute_result"
    }
   ],
   "source": [
    "len(col1),col9"
   ]
  },
  {
   "cell_type": "code",
   "execution_count": 31,
   "id": "ca686115",
   "metadata": {
    "execution": {
     "iopub.execute_input": "2021-09-03T08:19:40.290488Z",
     "iopub.status.busy": "2021-09-03T08:19:40.289700Z",
     "iopub.status.idle": "2021-09-03T08:19:40.396546Z",
     "shell.execute_reply": "2021-09-03T08:19:40.396152Z",
     "shell.execute_reply.started": "2021-09-03T06:51:35.798546Z"
    },
    "id": "eBFPNm12uBR3",
    "outputId": "735aba44-f94b-4f5a-fba8-e954fe4c4c56",
    "papermill": {
     "duration": 0.171216,
     "end_time": "2021-09-03T08:19:40.396671",
     "exception": false,
     "start_time": "2021-09-03T08:19:40.225455",
     "status": "completed"
    },
    "tags": []
   },
   "outputs": [
    {
     "data": {
      "image/png": "[encoded data removed]",
      "text/plain": [
       "<Figure size 432x288 with 1 Axes>"
      ]
     },
     "metadata": {
      "needs_background": "light"
     },
     "output_type": "display_data"
    }
   ],
   "source": [
    "plt.plot(np.arange(1,epoch+2),tr_loss)\n",
    "plt.xlabel(\"epochs\", fontsize=14, fontweight = 'bold')\n",
    "plt.ylabel(\"Loss\", fontsize=14, fontweight = 'bold')\n",
    "plt.title(\"Train Loss\")\n",
    "#plt.grid()\n",
    "plt.show()"
   ]
  },
  {
   "cell_type": "code",
   "execution_count": 32,
   "id": "297b1141",
   "metadata": {
    "execution": {
     "iopub.execute_input": "2021-09-03T08:19:40.496702Z",
     "iopub.status.busy": "2021-09-03T08:19:40.496150Z",
     "iopub.status.idle": "2021-09-03T08:19:40.498984Z",
     "shell.execute_reply": "2021-09-03T08:19:40.498542Z",
     "shell.execute_reply.started": "2021-09-03T06:51:35.929289Z"
    },
    "id": "dqTXDm-EuBR3",
    "papermill": {
     "duration": 0.054341,
     "end_time": "2021-09-03T08:19:40.499095",
     "exception": false,
     "start_time": "2021-09-03T08:19:40.444754",
     "status": "completed"
    },
    "tags": []
   },
   "outputs": [],
   "source": [
    "np.save(\"train_loss.npy\",{\"training_loss\":tr_loss})"
   ]
  },
  {
   "cell_type": "code",
   "execution_count": 33,
   "id": "60dacde6",
   "metadata": {
    "execution": {
     "iopub.execute_input": "2021-09-03T08:19:40.618628Z",
     "iopub.status.busy": "2021-09-03T08:19:40.617888Z",
     "iopub.status.idle": "2021-09-03T08:19:40.620693Z",
     "shell.execute_reply": "2021-09-03T08:19:40.620254Z",
     "shell.execute_reply.started": "2021-09-03T06:51:35.936130Z"
    },
    "id": "FrWoEGXZ8cBO",
    "papermill": {
     "duration": 0.073961,
     "end_time": "2021-09-03T08:19:40.620797",
     "exception": false,
     "start_time": "2021-09-03T08:19:40.546836",
     "status": "completed"
    },
    "tags": []
   },
   "outputs": [],
   "source": [
    "df_train[columns[0]] = col1\n",
    "df_train[columns[1]] = col2\n",
    "df_train[columns[2]] = col3\n",
    "df_train[columns[3]] = col4\n",
    "df_train[columns[4]] = col5\n",
    "df_train[columns[5]] = col6\n",
    "df_train[columns[6]] = col7\n",
    "df_train[columns[7]] = col14\n",
    "\n",
    "df_test[columns[0]] = col1\n",
    "df_test[columns[1]] = col8\n",
    "df_test[columns[2]] = col9\n",
    "df_test[columns[3]] = col10\n",
    "df_test[columns[4]] = col11\n",
    "df_test[columns[5]] = col12\n",
    "df_test[columns[6]] = col13\n",
    "df_test[columns[7]] = col15"
   ]
  },
  {
   "cell_type": "code",
   "execution_count": 34,
   "id": "baa18d79",
   "metadata": {
    "execution": {
     "iopub.execute_input": "2021-09-03T08:19:40.720311Z",
     "iopub.status.busy": "2021-09-03T08:19:40.719578Z",
     "iopub.status.idle": "2021-09-03T08:19:40.736108Z",
     "shell.execute_reply": "2021-09-03T08:19:40.735699Z",
     "shell.execute_reply.started": "2021-09-03T06:51:35.955883Z"
    },
    "id": "RGJoMFcK8eTe",
    "outputId": "cc5796ba-3e97-427e-8d8e-19adff2822c2",
    "papermill": {
     "duration": 0.067682,
     "end_time": "2021-09-03T08:19:40.736215",
     "exception": false,
     "start_time": "2021-09-03T08:19:40.668533",
     "status": "completed"
    },
    "tags": []
   },
   "outputs": [
    {
     "data": {
      "text/html": [
       "<div>\n",
       "<style scoped>\n",
       "    .dataframe tbody tr th:only-of-type {\n",
       "        vertical-align: middle;\n",
       "    }\n",
       "\n",
       "    .dataframe tbody tr th {\n",
       "        vertical-align: top;\n",
       "    }\n",
       "\n",
       "    .dataframe thead th {\n",
       "        text-align: right;\n",
       "    }\n",
       "</style>\n",
       "<table border=\"1\" class=\"dataframe\">\n",
       "  <thead>\n",
       "    <tr style=\"text-align: right;\">\n",
       "      <th></th>\n",
       "      <th>epochs</th>\n",
       "      <th>argmax &gt; 0.5</th>\n",
       "      <th>argmax &lt; 0.5</th>\n",
       "      <th>focus_true_pred_true</th>\n",
       "      <th>focus_false_pred_true</th>\n",
       "      <th>focus_true_pred_false</th>\n",
       "      <th>focus_false_pred_false</th>\n",
       "      <th>sparse_val</th>\n",
       "    </tr>\n",
       "  </thead>\n",
       "  <tbody>\n",
       "    <tr>\n",
       "      <th>0</th>\n",
       "      <td>0</td>\n",
       "      <td>456</td>\n",
       "      <td>29544</td>\n",
       "      <td>2334</td>\n",
       "      <td>7797</td>\n",
       "      <td>3157</td>\n",
       "      <td>16712</td>\n",
       "      <td>265373</td>\n",
       "    </tr>\n",
       "    <tr>\n",
       "      <th>1</th>\n",
       "      <td>1</td>\n",
       "      <td>19146</td>\n",
       "      <td>10854</td>\n",
       "      <td>1769</td>\n",
       "      <td>8355</td>\n",
       "      <td>3132</td>\n",
       "      <td>16744</td>\n",
       "      <td>138292</td>\n",
       "    </tr>\n",
       "    <tr>\n",
       "      <th>2</th>\n",
       "      <td>2</td>\n",
       "      <td>17886</td>\n",
       "      <td>12114</td>\n",
       "      <td>2076</td>\n",
       "      <td>8045</td>\n",
       "      <td>3923</td>\n",
       "      <td>15956</td>\n",
       "      <td>136416</td>\n",
       "    </tr>\n",
       "    <tr>\n",
       "      <th>3</th>\n",
       "      <td>3</td>\n",
       "      <td>18433</td>\n",
       "      <td>11567</td>\n",
       "      <td>2600</td>\n",
       "      <td>7751</td>\n",
       "      <td>3548</td>\n",
       "      <td>16101</td>\n",
       "      <td>137477</td>\n",
       "    </tr>\n",
       "    <tr>\n",
       "      <th>4</th>\n",
       "      <td>4</td>\n",
       "      <td>17012</td>\n",
       "      <td>12988</td>\n",
       "      <td>3661</td>\n",
       "      <td>8335</td>\n",
       "      <td>3481</td>\n",
       "      <td>14523</td>\n",
       "      <td>179444</td>\n",
       "    </tr>\n",
       "    <tr>\n",
       "      <th>5</th>\n",
       "      <td>5</td>\n",
       "      <td>7832</td>\n",
       "      <td>22168</td>\n",
       "      <td>4993</td>\n",
       "      <td>8285</td>\n",
       "      <td>3561</td>\n",
       "      <td>13161</td>\n",
       "      <td>228353</td>\n",
       "    </tr>\n",
       "    <tr>\n",
       "      <th>6</th>\n",
       "      <td>6</td>\n",
       "      <td>3794</td>\n",
       "      <td>26206</td>\n",
       "      <td>7833</td>\n",
       "      <td>7911</td>\n",
       "      <td>3647</td>\n",
       "      <td>10609</td>\n",
       "      <td>258730</td>\n",
       "    </tr>\n",
       "    <tr>\n",
       "      <th>7</th>\n",
       "      <td>7</td>\n",
       "      <td>9602</td>\n",
       "      <td>20398</td>\n",
       "      <td>11968</td>\n",
       "      <td>7020</td>\n",
       "      <td>3416</td>\n",
       "      <td>7596</td>\n",
       "      <td>248025</td>\n",
       "    </tr>\n",
       "    <tr>\n",
       "      <th>8</th>\n",
       "      <td>8</td>\n",
       "      <td>14586</td>\n",
       "      <td>15414</td>\n",
       "      <td>14972</td>\n",
       "      <td>6573</td>\n",
       "      <td>2749</td>\n",
       "      <td>5706</td>\n",
       "      <td>217882</td>\n",
       "    </tr>\n",
       "    <tr>\n",
       "      <th>9</th>\n",
       "      <td>9</td>\n",
       "      <td>17288</td>\n",
       "      <td>12712</td>\n",
       "      <td>17746</td>\n",
       "      <td>5903</td>\n",
       "      <td>2244</td>\n",
       "      <td>4107</td>\n",
       "      <td>204126</td>\n",
       "    </tr>\n",
       "    <tr>\n",
       "      <th>10</th>\n",
       "      <td>10</td>\n",
       "      <td>19748</td>\n",
       "      <td>10252</td>\n",
       "      <td>19921</td>\n",
       "      <td>5314</td>\n",
       "      <td>1802</td>\n",
       "      <td>2963</td>\n",
       "      <td>186539</td>\n",
       "    </tr>\n",
       "    <tr>\n",
       "      <th>11</th>\n",
       "      <td>11</td>\n",
       "      <td>21001</td>\n",
       "      <td>8999</td>\n",
       "      <td>21226</td>\n",
       "      <td>4977</td>\n",
       "      <td>1448</td>\n",
       "      <td>2349</td>\n",
       "      <td>172708</td>\n",
       "    </tr>\n",
       "    <tr>\n",
       "      <th>12</th>\n",
       "      <td>12</td>\n",
       "      <td>22113</td>\n",
       "      <td>7887</td>\n",
       "      <td>22374</td>\n",
       "      <td>4722</td>\n",
       "      <td>1206</td>\n",
       "      <td>1698</td>\n",
       "      <td>166289</td>\n",
       "    </tr>\n",
       "    <tr>\n",
       "      <th>13</th>\n",
       "      <td>13</td>\n",
       "      <td>22576</td>\n",
       "      <td>7424</td>\n",
       "      <td>23206</td>\n",
       "      <td>4489</td>\n",
       "      <td>946</td>\n",
       "      <td>1359</td>\n",
       "      <td>160566</td>\n",
       "    </tr>\n",
       "    <tr>\n",
       "      <th>14</th>\n",
       "      <td>14</td>\n",
       "      <td>23421</td>\n",
       "      <td>6579</td>\n",
       "      <td>23833</td>\n",
       "      <td>4376</td>\n",
       "      <td>730</td>\n",
       "      <td>1061</td>\n",
       "      <td>151155</td>\n",
       "    </tr>\n",
       "    <tr>\n",
       "      <th>15</th>\n",
       "      <td>15</td>\n",
       "      <td>23908</td>\n",
       "      <td>6092</td>\n",
       "      <td>24206</td>\n",
       "      <td>4227</td>\n",
       "      <td>603</td>\n",
       "      <td>964</td>\n",
       "      <td>142639</td>\n",
       "    </tr>\n",
       "    <tr>\n",
       "      <th>16</th>\n",
       "      <td>16</td>\n",
       "      <td>24370</td>\n",
       "      <td>5630</td>\n",
       "      <td>24634</td>\n",
       "      <td>4177</td>\n",
       "      <td>478</td>\n",
       "      <td>711</td>\n",
       "      <td>138943</td>\n",
       "    </tr>\n",
       "    <tr>\n",
       "      <th>17</th>\n",
       "      <td>17</td>\n",
       "      <td>24462</td>\n",
       "      <td>5538</td>\n",
       "      <td>25008</td>\n",
       "      <td>4004</td>\n",
       "      <td>383</td>\n",
       "      <td>605</td>\n",
       "      <td>139966</td>\n",
       "    </tr>\n",
       "    <tr>\n",
       "      <th>18</th>\n",
       "      <td>18</td>\n",
       "      <td>24646</td>\n",
       "      <td>5354</td>\n",
       "      <td>25266</td>\n",
       "      <td>3876</td>\n",
       "      <td>334</td>\n",
       "      <td>524</td>\n",
       "      <td>138834</td>\n",
       "    </tr>\n",
       "    <tr>\n",
       "      <th>19</th>\n",
       "      <td>19</td>\n",
       "      <td>24520</td>\n",
       "      <td>5480</td>\n",
       "      <td>25501</td>\n",
       "      <td>3837</td>\n",
       "      <td>251</td>\n",
       "      <td>411</td>\n",
       "      <td>140978</td>\n",
       "    </tr>\n",
       "    <tr>\n",
       "      <th>20</th>\n",
       "      <td>20</td>\n",
       "      <td>24424</td>\n",
       "      <td>5576</td>\n",
       "      <td>25492</td>\n",
       "      <td>3909</td>\n",
       "      <td>225</td>\n",
       "      <td>374</td>\n",
       "      <td>141254</td>\n",
       "    </tr>\n",
       "    <tr>\n",
       "      <th>21</th>\n",
       "      <td>21</td>\n",
       "      <td>24604</td>\n",
       "      <td>5396</td>\n",
       "      <td>25708</td>\n",
       "      <td>3785</td>\n",
       "      <td>195</td>\n",
       "      <td>312</td>\n",
       "      <td>137827</td>\n",
       "    </tr>\n",
       "    <tr>\n",
       "      <th>22</th>\n",
       "      <td>22</td>\n",
       "      <td>24321</td>\n",
       "      <td>5679</td>\n",
       "      <td>25790</td>\n",
       "      <td>3736</td>\n",
       "      <td>196</td>\n",
       "      <td>278</td>\n",
       "      <td>141822</td>\n",
       "    </tr>\n",
       "  </tbody>\n",
       "</table>\n",
       "</div>"
      ],
      "text/plain": [
       "    epochs  argmax > 0.5  argmax < 0.5  focus_true_pred_true  \\\n",
       "0        0           456         29544                  2334   \n",
       "1        1         19146         10854                  1769   \n",
       "2        2         17886         12114                  2076   \n",
       "3        3         18433         11567                  2600   \n",
       "4        4         17012         12988                  3661   \n",
       "5        5          7832         22168                  4993   \n",
       "6        6          3794         26206                  7833   \n",
       "7        7          9602         20398                 11968   \n",
       "8        8         14586         15414                 14972   \n",
       "9        9         17288         12712                 17746   \n",
       "10      10         19748         10252                 19921   \n",
       "11      11         21001          8999                 21226   \n",
       "12      12         22113          7887                 22374   \n",
       "13      13         22576          7424                 23206   \n",
       "14      14         23421          6579                 23833   \n",
       "15      15         23908          6092                 24206   \n",
       "16      16         24370          5630                 24634   \n",
       "17      17         24462          5538                 25008   \n",
       "18      18         24646          5354                 25266   \n",
       "19      19         24520          5480                 25501   \n",
       "20      20         24424          5576                 25492   \n",
       "21      21         24604          5396                 25708   \n",
       "22      22         24321          5679                 25790   \n",
       "\n",
       "    focus_false_pred_true  focus_true_pred_false  focus_false_pred_false  \\\n",
       "0                    7797                   3157                   16712   \n",
       "1                    8355                   3132                   16744   \n",
       "2                    8045                   3923                   15956   \n",
       "3                    7751                   3548                   16101   \n",
       "4                    8335                   3481                   14523   \n",
       "5                    8285                   3561                   13161   \n",
       "6                    7911                   3647                   10609   \n",
       "7                    7020                   3416                    7596   \n",
       "8                    6573                   2749                    5706   \n",
       "9                    5903                   2244                    4107   \n",
       "10                   5314                   1802                    2963   \n",
       "11                   4977                   1448                    2349   \n",
       "12                   4722                   1206                    1698   \n",
       "13                   4489                    946                    1359   \n",
       "14                   4376                    730                    1061   \n",
       "15                   4227                    603                     964   \n",
       "16                   4177                    478                     711   \n",
       "17                   4004                    383                     605   \n",
       "18                   3876                    334                     524   \n",
       "19                   3837                    251                     411   \n",
       "20                   3909                    225                     374   \n",
       "21                   3785                    195                     312   \n",
       "22                   3736                    196                     278   \n",
       "\n",
       "    sparse_val  \n",
       "0       265373  \n",
       "1       138292  \n",
       "2       136416  \n",
       "3       137477  \n",
       "4       179444  \n",
       "5       228353  \n",
       "6       258730  \n",
       "7       248025  \n",
       "8       217882  \n",
       "9       204126  \n",
       "10      186539  \n",
       "11      172708  \n",
       "12      166289  \n",
       "13      160566  \n",
       "14      151155  \n",
       "15      142639  \n",
       "16      138943  \n",
       "17      139966  \n",
       "18      138834  \n",
       "19      140978  \n",
       "20      141254  \n",
       "21      137827  \n",
       "22      141822  "
      ]
     },
     "execution_count": 34,
     "metadata": {},
     "output_type": "execute_result"
    }
   ],
   "source": [
    "df_train"
   ]
  },
  {
   "cell_type": "code",
   "execution_count": 35,
   "id": "a5d7af49",
   "metadata": {
    "execution": {
     "iopub.execute_input": "2021-09-03T08:19:40.836894Z",
     "iopub.status.busy": "2021-09-03T08:19:40.836195Z",
     "iopub.status.idle": "2021-09-03T08:19:40.842011Z",
     "shell.execute_reply": "2021-09-03T08:19:40.841535Z",
     "shell.execute_reply.started": "2021-09-03T06:51:35.977960Z"
    },
    "id": "cqrSQSNemDNp",
    "papermill": {
     "duration": 0.057441,
     "end_time": "2021-09-03T08:19:40.842118",
     "exception": false,
     "start_time": "2021-09-03T08:19:40.784677",
     "status": "completed"
    },
    "tags": []
   },
   "outputs": [],
   "source": [
    "df_train.to_csv(path+\"_train.csv\",index=False)"
   ]
  },
  {
   "cell_type": "code",
   "execution_count": 36,
   "id": "e78094e2",
   "metadata": {
    "execution": {
     "iopub.execute_input": "2021-09-03T08:19:40.962838Z",
     "iopub.status.busy": "2021-09-03T08:19:40.962030Z",
     "iopub.status.idle": "2021-09-03T08:19:41.076404Z",
     "shell.execute_reply": "2021-09-03T08:19:41.076873Z",
     "shell.execute_reply.started": "2021-09-03T06:51:35.987463Z"
    },
    "id": "Ei9HVQBZ8gn4",
    "outputId": "49460fbd-6e36-4fa5-dd2d-7d7937fb5089",
    "papermill": {
     "duration": 0.185717,
     "end_time": "2021-09-03T08:19:41.076996",
     "exception": false,
     "start_time": "2021-09-03T08:19:40.891279",
     "status": "completed"
    },
    "tags": []
   },
   "outputs": [
    {
     "data": {
      "image/png": "[encoded data removed]",
      "text/plain": [
       "<Figure size 432x288 with 1 Axes>"
      ]
     },
     "metadata": {
      "needs_background": "light"
     },
     "output_type": "display_data"
    }
   ],
   "source": [
    "# plt.figure(12,12)\n",
    "plt.plot(col1,col2, label='argmax > 0.5')\n",
    "plt.plot(col1,col3, label='argmax < 0.5')\n",
    "\n",
    "plt.legend(loc='center left', bbox_to_anchor=(1, 0.5))\n",
    "plt.xlabel(\"epochs\")\n",
    "plt.ylabel(\"training data\")\n",
    "plt.title(\"On Training set\")\n",
    "plt.show()\n",
    "\n"
   ]
  },
  {
   "cell_type": "code",
   "execution_count": 37,
   "id": "da5aff7a",
   "metadata": {
    "execution": {
     "iopub.execute_input": "2021-09-03T08:19:41.192303Z",
     "iopub.status.busy": "2021-09-03T08:19:41.191491Z",
     "iopub.status.idle": "2021-09-03T08:19:41.625886Z",
     "shell.execute_reply": "2021-09-03T08:19:41.626306Z",
     "shell.execute_reply.started": "2021-09-03T06:51:36.160410Z"
    },
    "id": "RcScxsHnuBR5",
    "outputId": "1c5544c8-2475-40f2-fc71-54d061b7d133",
    "papermill": {
     "duration": 0.499911,
     "end_time": "2021-09-03T08:19:41.626450",
     "exception": false,
     "start_time": "2021-09-03T08:19:41.126539",
     "status": "completed"
    },
    "tags": []
   },
   "outputs": [
    {
     "data": {
      "image/png": "[encoded data removed]",
      "text/plain": [
       "<Figure size 432x360 with 1 Axes>"
      ]
     },
     "metadata": {
      "needs_background": "light"
     },
     "output_type": "display_data"
    }
   ],
   "source": [
    "plt.figure(figsize=(6,5))\n",
    "plt.plot(col1,np.array(col4)/300, label =\"FTPT \")\n",
    "plt.plot(col1,np.array(col5)/300, label =\"FFPT \")\n",
    "plt.plot(col1,np.array(col6)/300, label =\"FTPF \")\n",
    "plt.plot(col1,np.array(col7)/300, label =\"FFPF \")\n",
    "plt.title(\"On Training set\")\n",
    "#plt.legend(loc='center left', bbox_to_anchor=(1, 0.5))\n",
    "plt.xlabel(\"epochs\", fontsize=14, fontweight = 'bold')\n",
    "plt.ylabel(\"percentage train data\", fontsize=14, fontweight = 'bold')\n",
    "# plt.xlabel(\"epochs\")\n",
    "# plt.ylabel(\"training data\")\n",
    "plt.legend()\n",
    "\n",
    "plt.savefig(path + \"_train.png\",bbox_inches=\"tight\")\n",
    "plt.savefig(path + \"_train.pdf\",bbox_inches=\"tight\")\n",
    "plt.grid()\n",
    "plt.show()"
   ]
  },
  {
   "cell_type": "code",
   "execution_count": 38,
   "id": "aa14b43a",
   "metadata": {
    "execution": {
     "iopub.execute_input": "2021-09-03T08:19:41.755935Z",
     "iopub.status.busy": "2021-09-03T08:19:41.755107Z",
     "iopub.status.idle": "2021-09-03T08:19:42.024628Z",
     "shell.execute_reply": "2021-09-03T08:19:42.025045Z",
     "shell.execute_reply.started": "2021-09-03T06:51:36.715504Z"
    },
    "id": "eyHnBFJxuBR5",
    "outputId": "df42ed8f-f4dd-4160-9e03-8ceaedc7b9ab",
    "papermill": {
     "duration": 0.34815,
     "end_time": "2021-09-03T08:19:42.025189",
     "exception": false,
     "start_time": "2021-09-03T08:19:41.677039",
     "status": "completed"
    },
    "tags": []
   },
   "outputs": [
    {
     "data": {
      "image/png": "[encoded data removed]",
      "text/plain": [
       "<Figure size 432x360 with 1 Axes>"
      ]
     },
     "metadata": {
      "needs_background": "light"
     },
     "output_type": "display_data"
    }
   ],
   "source": [
    "plt.figure(figsize=(6,5))\n",
    "plt.plot(col1,np.array(col14)/30000, label =\"sparsity_val\")\n",
    "\n",
    "plt.title(\"On Training set\")\n",
    "#plt.legend(loc='center left', bbox_to_anchor=(1, 0.5))\n",
    "plt.xlabel(\"epochs\", fontsize=14, fontweight = 'bold')\n",
    "plt.ylabel(\"average sparsity value\", fontsize=14, fontweight = 'bold')\n",
    "# plt.xlabel(\"epochs\")\n",
    "# plt.ylabel(\"sparsity_value\")\n",
    "\n",
    "plt.savefig(path + \"sparsity_train.png\",bbox_inches=\"tight\")\n",
    "plt.savefig(path + \"sparsity_train.pdf\",bbox_inches=\"tight\")\n",
    "plt.grid()\n",
    "plt.show()"
   ]
  },
  {
   "cell_type": "code",
   "execution_count": 39,
   "id": "147949d2",
   "metadata": {
    "execution": {
     "iopub.execute_input": "2021-09-03T08:19:42.153138Z",
     "iopub.status.busy": "2021-09-03T08:19:42.152232Z",
     "iopub.status.idle": "2021-09-03T08:19:42.156820Z",
     "shell.execute_reply": "2021-09-03T08:19:42.157315Z",
     "shell.execute_reply.started": "2021-09-03T06:51:37.099639Z"
    },
    "id": "_QKYVO8i8ivA",
    "outputId": "0d8b1ea0-efd0-4bdd-84a7-201356e5f823",
    "papermill": {
     "duration": 0.079594,
     "end_time": "2021-09-03T08:19:42.157464",
     "exception": false,
     "start_time": "2021-09-03T08:19:42.077870",
     "status": "completed"
    },
    "tags": []
   },
   "outputs": [
    {
     "data": {
      "text/html": [
       "<div>\n",
       "<style scoped>\n",
       "    .dataframe tbody tr th:only-of-type {\n",
       "        vertical-align: middle;\n",
       "    }\n",
       "\n",
       "    .dataframe tbody tr th {\n",
       "        vertical-align: top;\n",
       "    }\n",
       "\n",
       "    .dataframe thead th {\n",
       "        text-align: right;\n",
       "    }\n",
       "</style>\n",
       "<table border=\"1\" class=\"dataframe\">\n",
       "  <thead>\n",
       "    <tr style=\"text-align: right;\">\n",
       "      <th></th>\n",
       "      <th>epochs</th>\n",
       "      <th>argmax &gt; 0.5</th>\n",
       "      <th>argmax &lt; 0.5</th>\n",
       "      <th>focus_true_pred_true</th>\n",
       "      <th>focus_false_pred_true</th>\n",
       "      <th>focus_true_pred_false</th>\n",
       "      <th>focus_false_pred_false</th>\n",
       "      <th>sparse_val</th>\n",
       "    </tr>\n",
       "  </thead>\n",
       "  <tbody>\n",
       "    <tr>\n",
       "      <th>0</th>\n",
       "      <td>0</td>\n",
       "      <td>169</td>\n",
       "      <td>9831</td>\n",
       "      <td>775</td>\n",
       "      <td>2581</td>\n",
       "      <td>1054</td>\n",
       "      <td>5590</td>\n",
       "      <td>88481</td>\n",
       "    </tr>\n",
       "    <tr>\n",
       "      <th>1</th>\n",
       "      <td>1</td>\n",
       "      <td>6207</td>\n",
       "      <td>3793</td>\n",
       "      <td>517</td>\n",
       "      <td>2821</td>\n",
       "      <td>1709</td>\n",
       "      <td>4953</td>\n",
       "      <td>44950</td>\n",
       "    </tr>\n",
       "    <tr>\n",
       "      <th>2</th>\n",
       "      <td>2</td>\n",
       "      <td>5148</td>\n",
       "      <td>4852</td>\n",
       "      <td>855</td>\n",
       "      <td>2446</td>\n",
       "      <td>1146</td>\n",
       "      <td>5553</td>\n",
       "      <td>45424</td>\n",
       "    </tr>\n",
       "    <tr>\n",
       "      <th>3</th>\n",
       "      <td>3</td>\n",
       "      <td>5484</td>\n",
       "      <td>4516</td>\n",
       "      <td>1071</td>\n",
       "      <td>2664</td>\n",
       "      <td>1034</td>\n",
       "      <td>5231</td>\n",
       "      <td>58443</td>\n",
       "    </tr>\n",
       "    <tr>\n",
       "      <th>4</th>\n",
       "      <td>4</td>\n",
       "      <td>5222</td>\n",
       "      <td>4778</td>\n",
       "      <td>1502</td>\n",
       "      <td>2721</td>\n",
       "      <td>1139</td>\n",
       "      <td>4638</td>\n",
       "      <td>60921</td>\n",
       "    </tr>\n",
       "    <tr>\n",
       "      <th>5</th>\n",
       "      <td>5</td>\n",
       "      <td>873</td>\n",
       "      <td>9127</td>\n",
       "      <td>1967</td>\n",
       "      <td>2882</td>\n",
       "      <td>1410</td>\n",
       "      <td>3741</td>\n",
       "      <td>85978</td>\n",
       "    </tr>\n",
       "    <tr>\n",
       "      <th>6</th>\n",
       "      <td>6</td>\n",
       "      <td>1585</td>\n",
       "      <td>8415</td>\n",
       "      <td>3452</td>\n",
       "      <td>2574</td>\n",
       "      <td>1286</td>\n",
       "      <td>2688</td>\n",
       "      <td>87327</td>\n",
       "    </tr>\n",
       "    <tr>\n",
       "      <th>7</th>\n",
       "      <td>7</td>\n",
       "      <td>3684</td>\n",
       "      <td>6316</td>\n",
       "      <td>4761</td>\n",
       "      <td>2213</td>\n",
       "      <td>1075</td>\n",
       "      <td>1951</td>\n",
       "      <td>84091</td>\n",
       "    </tr>\n",
       "    <tr>\n",
       "      <th>8</th>\n",
       "      <td>8</td>\n",
       "      <td>5282</td>\n",
       "      <td>4718</td>\n",
       "      <td>5592</td>\n",
       "      <td>2012</td>\n",
       "      <td>893</td>\n",
       "      <td>1503</td>\n",
       "      <td>70906</td>\n",
       "    </tr>\n",
       "    <tr>\n",
       "      <th>9</th>\n",
       "      <td>9</td>\n",
       "      <td>7327</td>\n",
       "      <td>2673</td>\n",
       "      <td>6335</td>\n",
       "      <td>1783</td>\n",
       "      <td>691</td>\n",
       "      <td>1191</td>\n",
       "      <td>55508</td>\n",
       "    </tr>\n",
       "    <tr>\n",
       "      <th>10</th>\n",
       "      <td>10</td>\n",
       "      <td>7059</td>\n",
       "      <td>2941</td>\n",
       "      <td>7028</td>\n",
       "      <td>1509</td>\n",
       "      <td>570</td>\n",
       "      <td>893</td>\n",
       "      <td>56523</td>\n",
       "    </tr>\n",
       "    <tr>\n",
       "      <th>11</th>\n",
       "      <td>11</td>\n",
       "      <td>7057</td>\n",
       "      <td>2943</td>\n",
       "      <td>7077</td>\n",
       "      <td>1591</td>\n",
       "      <td>537</td>\n",
       "      <td>795</td>\n",
       "      <td>59320</td>\n",
       "    </tr>\n",
       "    <tr>\n",
       "      <th>12</th>\n",
       "      <td>12</td>\n",
       "      <td>7244</td>\n",
       "      <td>2756</td>\n",
       "      <td>7454</td>\n",
       "      <td>1447</td>\n",
       "      <td>403</td>\n",
       "      <td>696</td>\n",
       "      <td>55898</td>\n",
       "    </tr>\n",
       "    <tr>\n",
       "      <th>13</th>\n",
       "      <td>13</td>\n",
       "      <td>7743</td>\n",
       "      <td>2257</td>\n",
       "      <td>7799</td>\n",
       "      <td>1322</td>\n",
       "      <td>346</td>\n",
       "      <td>533</td>\n",
       "      <td>52130</td>\n",
       "    </tr>\n",
       "    <tr>\n",
       "      <th>14</th>\n",
       "      <td>14</td>\n",
       "      <td>8031</td>\n",
       "      <td>1969</td>\n",
       "      <td>7893</td>\n",
       "      <td>1303</td>\n",
       "      <td>331</td>\n",
       "      <td>473</td>\n",
       "      <td>45453</td>\n",
       "    </tr>\n",
       "    <tr>\n",
       "      <th>15</th>\n",
       "      <td>15</td>\n",
       "      <td>7862</td>\n",
       "      <td>2138</td>\n",
       "      <td>8052</td>\n",
       "      <td>1258</td>\n",
       "      <td>280</td>\n",
       "      <td>410</td>\n",
       "      <td>50002</td>\n",
       "    </tr>\n",
       "    <tr>\n",
       "      <th>16</th>\n",
       "      <td>16</td>\n",
       "      <td>7997</td>\n",
       "      <td>2003</td>\n",
       "      <td>8182</td>\n",
       "      <td>1152</td>\n",
       "      <td>248</td>\n",
       "      <td>418</td>\n",
       "      <td>49608</td>\n",
       "    </tr>\n",
       "    <tr>\n",
       "      <th>17</th>\n",
       "      <td>17</td>\n",
       "      <td>7981</td>\n",
       "      <td>2019</td>\n",
       "      <td>8205</td>\n",
       "      <td>1159</td>\n",
       "      <td>194</td>\n",
       "      <td>442</td>\n",
       "      <td>48363</td>\n",
       "    </tr>\n",
       "    <tr>\n",
       "      <th>18</th>\n",
       "      <td>18</td>\n",
       "      <td>8319</td>\n",
       "      <td>1681</td>\n",
       "      <td>8223</td>\n",
       "      <td>1235</td>\n",
       "      <td>225</td>\n",
       "      <td>317</td>\n",
       "      <td>42176</td>\n",
       "    </tr>\n",
       "    <tr>\n",
       "      <th>19</th>\n",
       "      <td>19</td>\n",
       "      <td>8060</td>\n",
       "      <td>1940</td>\n",
       "      <td>8365</td>\n",
       "      <td>1136</td>\n",
       "      <td>167</td>\n",
       "      <td>332</td>\n",
       "      <td>47481</td>\n",
       "    </tr>\n",
       "    <tr>\n",
       "      <th>20</th>\n",
       "      <td>20</td>\n",
       "      <td>7794</td>\n",
       "      <td>2206</td>\n",
       "      <td>8308</td>\n",
       "      <td>1180</td>\n",
       "      <td>178</td>\n",
       "      <td>334</td>\n",
       "      <td>49769</td>\n",
       "    </tr>\n",
       "    <tr>\n",
       "      <th>21</th>\n",
       "      <td>21</td>\n",
       "      <td>8280</td>\n",
       "      <td>1720</td>\n",
       "      <td>8322</td>\n",
       "      <td>1171</td>\n",
       "      <td>191</td>\n",
       "      <td>316</td>\n",
       "      <td>43983</td>\n",
       "    </tr>\n",
       "    <tr>\n",
       "      <th>22</th>\n",
       "      <td>22</td>\n",
       "      <td>8062</td>\n",
       "      <td>1938</td>\n",
       "      <td>8380</td>\n",
       "      <td>1161</td>\n",
       "      <td>191</td>\n",
       "      <td>268</td>\n",
       "      <td>47838</td>\n",
       "    </tr>\n",
       "  </tbody>\n",
       "</table>\n",
       "</div>"
      ],
      "text/plain": [
       "    epochs  argmax > 0.5  argmax < 0.5  focus_true_pred_true  \\\n",
       "0        0           169          9831                   775   \n",
       "1        1          6207          3793                   517   \n",
       "2        2          5148          4852                   855   \n",
       "3        3          5484          4516                  1071   \n",
       "4        4          5222          4778                  1502   \n",
       "5        5           873          9127                  1967   \n",
       "6        6          1585          8415                  3452   \n",
       "7        7          3684          6316                  4761   \n",
       "8        8          5282          4718                  5592   \n",
       "9        9          7327          2673                  6335   \n",
       "10      10          7059          2941                  7028   \n",
       "11      11          7057          2943                  7077   \n",
       "12      12          7244          2756                  7454   \n",
       "13      13          7743          2257                  7799   \n",
       "14      14          8031          1969                  7893   \n",
       "15      15          7862          2138                  8052   \n",
       "16      16          7997          2003                  8182   \n",
       "17      17          7981          2019                  8205   \n",
       "18      18          8319          1681                  8223   \n",
       "19      19          8060          1940                  8365   \n",
       "20      20          7794          2206                  8308   \n",
       "21      21          8280          1720                  8322   \n",
       "22      22          8062          1938                  8380   \n",
       "\n",
       "    focus_false_pred_true  focus_true_pred_false  focus_false_pred_false  \\\n",
       "0                    2581                   1054                    5590   \n",
       "1                    2821                   1709                    4953   \n",
       "2                    2446                   1146                    5553   \n",
       "3                    2664                   1034                    5231   \n",
       "4                    2721                   1139                    4638   \n",
       "5                    2882                   1410                    3741   \n",
       "6                    2574                   1286                    2688   \n",
       "7                    2213                   1075                    1951   \n",
       "8                    2012                    893                    1503   \n",
       "9                    1783                    691                    1191   \n",
       "10                   1509                    570                     893   \n",
       "11                   1591                    537                     795   \n",
       "12                   1447                    403                     696   \n",
       "13                   1322                    346                     533   \n",
       "14                   1303                    331                     473   \n",
       "15                   1258                    280                     410   \n",
       "16                   1152                    248                     418   \n",
       "17                   1159                    194                     442   \n",
       "18                   1235                    225                     317   \n",
       "19                   1136                    167                     332   \n",
       "20                   1180                    178                     334   \n",
       "21                   1171                    191                     316   \n",
       "22                   1161                    191                     268   \n",
       "\n",
       "    sparse_val  \n",
       "0        88481  \n",
       "1        44950  \n",
       "2        45424  \n",
       "3        58443  \n",
       "4        60921  \n",
       "5        85978  \n",
       "6        87327  \n",
       "7        84091  \n",
       "8        70906  \n",
       "9        55508  \n",
       "10       56523  \n",
       "11       59320  \n",
       "12       55898  \n",
       "13       52130  \n",
       "14       45453  \n",
       "15       50002  \n",
       "16       49608  \n",
       "17       48363  \n",
       "18       42176  \n",
       "19       47481  \n",
       "20       49769  \n",
       "21       43983  \n",
       "22       47838  "
      ]
     },
     "execution_count": 39,
     "metadata": {},
     "output_type": "execute_result"
    }
   ],
   "source": [
    "df_test"
   ]
  },
  {
   "cell_type": "code",
   "execution_count": 40,
   "id": "e1872077",
   "metadata": {
    "execution": {
     "iopub.execute_input": "2021-09-03T08:19:42.347934Z",
     "iopub.status.busy": "2021-09-03T08:19:42.347104Z",
     "iopub.status.idle": "2021-09-03T08:19:42.351670Z",
     "shell.execute_reply": "2021-09-03T08:19:42.352176Z",
     "shell.execute_reply.started": "2021-09-03T06:51:37.111940Z"
    },
    "id": "0oGTwRsdmOe4",
    "papermill": {
     "duration": 0.103367,
     "end_time": "2021-09-03T08:19:42.352307",
     "exception": false,
     "start_time": "2021-09-03T08:19:42.248940",
     "status": "completed"
    },
    "tags": []
   },
   "outputs": [],
   "source": [
    "df_test.to_csv(path+\"_test.csv\")"
   ]
  },
  {
   "cell_type": "code",
   "execution_count": 41,
   "id": "e170acf2",
   "metadata": {
    "execution": {
     "iopub.execute_input": "2021-09-03T08:19:42.537393Z",
     "iopub.status.busy": "2021-09-03T08:19:42.536631Z",
     "iopub.status.idle": "2021-09-03T08:19:42.738118Z",
     "shell.execute_reply": "2021-09-03T08:19:42.738672Z",
     "shell.execute_reply.started": "2021-09-03T06:51:37.123742Z"
    },
    "id": "aRlpgnjy8k1n",
    "outputId": "1d976d4b-80f4-4c20-c9ed-ad76a972c79f",
    "papermill": {
     "duration": 0.296039,
     "end_time": "2021-09-03T08:19:42.738843",
     "exception": false,
     "start_time": "2021-09-03T08:19:42.442804",
     "status": "completed"
    },
    "tags": []
   },
   "outputs": [
    {
     "data": {
      "image/png": "[encoded data removed]",
      "text/plain": [
       "<Figure size 432x288 with 1 Axes>"
      ]
     },
     "metadata": {
      "needs_background": "light"
     },
     "output_type": "display_data"
    }
   ],
   "source": [
    "# plt.figure(12,12)\n",
    "plt.plot(col1,col8, label='argmax > 0.5')\n",
    "plt.plot(col1,col9, label='argmax < 0.5')\n",
    "\n",
    "plt.legend(loc='center left', bbox_to_anchor=(1, 0.5))\n",
    "plt.xlabel(\"epochs\")\n",
    "plt.ylabel(\"Testing data\")\n",
    "plt.title(\"On Testing set\")\n",
    "plt.show()\n",
    "\n"
   ]
  },
  {
   "cell_type": "code",
   "execution_count": 42,
   "id": "4d10fddd",
   "metadata": {
    "execution": {
     "iopub.execute_input": "2021-09-03T08:19:42.863549Z",
     "iopub.status.busy": "2021-09-03T08:19:42.862658Z",
     "iopub.status.idle": "2021-09-03T08:19:43.340916Z",
     "shell.execute_reply": "2021-09-03T08:19:43.341371Z",
     "shell.execute_reply.started": "2021-09-03T06:51:37.363172Z"
    },
    "id": "C0XPoT7FuBR6",
    "outputId": "a3f0db62-71a8-498a-d72e-c2afc8d8739b",
    "papermill": {
     "duration": 0.543349,
     "end_time": "2021-09-03T08:19:43.341526",
     "exception": false,
     "start_time": "2021-09-03T08:19:42.798177",
     "status": "completed"
    },
    "tags": []
   },
   "outputs": [
    {
     "data": {
      "image/png": "[encoded data removed]",
      "text/plain": [
       "<Figure size 432x360 with 1 Axes>"
      ]
     },
     "metadata": {
      "needs_background": "light"
     },
     "output_type": "display_data"
    }
   ],
   "source": [
    "plt.figure(figsize=(6,5))\n",
    "plt.plot(col1,np.array(col10)/100, label =\"FTPT \")\n",
    "plt.plot(col1,np.array(col11)/100, label =\"FFPT \")\n",
    "plt.plot(col1,np.array(col12)/100, label =\"FTPF \")\n",
    "plt.plot(col1,np.array(col13)/100, label =\"FFPF \")\n",
    "plt.title(\"On Testing set\")\n",
    "\n",
    "#plt.legend(loc='center left', bbox_to_anchor=(1, 0.5))\n",
    "plt.xlabel(\"epochs\", fontsize=14, fontweight = 'bold')\n",
    "plt.ylabel(\"percentage test data\", fontsize=14, fontweight = 'bold')\n",
    "# plt.xlabel(\"epochs\")\n",
    "# plt.ylabel(\"training data\")\n",
    "plt.legend()\n",
    "\n",
    "#plt.legend(loc='center left', bbox_to_anchor=(1, 0.5))\n",
    "plt.xlabel(\"epochs\")\n",
    "# plt.ylabel(\"Testing data\")\n",
    "plt.savefig(path + \"_test.png\",bbox_inches=\"tight\")\n",
    "plt.savefig(path + \"_test.pdf\",bbox_inches=\"tight\")\n",
    "plt.grid()\n",
    "plt.show()"
   ]
  },
  {
   "cell_type": "code",
   "execution_count": 43,
   "id": "014ede0b",
   "metadata": {
    "execution": {
     "iopub.execute_input": "2021-09-03T08:19:43.480145Z",
     "iopub.status.busy": "2021-09-03T08:19:43.479278Z",
     "iopub.status.idle": "2021-09-03T08:19:43.775843Z",
     "shell.execute_reply": "2021-09-03T08:19:43.776257Z",
     "shell.execute_reply.started": "2021-09-03T06:51:38.000329Z"
    },
    "id": "5oh4o6NfuBR7",
    "outputId": "7b6b839a-dbc8-4b26-967c-1c2743f16774",
    "papermill": {
     "duration": 0.377212,
     "end_time": "2021-09-03T08:19:43.776399",
     "exception": false,
     "start_time": "2021-09-03T08:19:43.399187",
     "status": "completed"
    },
    "tags": []
   },
   "outputs": [
    {
     "data": {
      "image/png": "[encoded data removed]",
      "text/plain": [
       "<Figure size 432x360 with 1 Axes>"
      ]
     },
     "metadata": {
      "needs_background": "light"
     },
     "output_type": "display_data"
    }
   ],
   "source": [
    "plt.figure(figsize=(6,5))\n",
    "plt.plot(col1,np.array(col15)/10000, label =\"sparsity_val\")\n",
    "\n",
    "plt.title(\"On Testing set\")\n",
    "#plt.legend(loc='center left', bbox_to_anchor=(1, 0.5))\n",
    "plt.xlabel(\"epochs\", fontsize=14, fontweight = 'bold')\n",
    "plt.ylabel(\"average sparsity value\", fontsize=14, fontweight = 'bold')\n",
    "plt.grid()\n",
    "\n",
    "plt.savefig(path + \"sparsity_test.png\",bbox_inches=\"tight\")\n",
    "plt.savefig(path + \"sparsity_test.pdf\",bbox_inches=\"tight\")\n",
    "plt.show()"
   ]
  },
  {
   "cell_type": "code",
   "execution_count": 44,
   "id": "6a205f4f",
   "metadata": {
    "execution": {
     "iopub.execute_input": "2021-09-03T08:19:43.901072Z",
     "iopub.status.busy": "2021-09-03T08:19:43.900285Z",
     "iopub.status.idle": "2021-09-03T08:20:07.520411Z",
     "shell.execute_reply": "2021-09-03T08:20:07.519980Z",
     "shell.execute_reply.started": "2021-09-03T06:51:38.418435Z"
    },
    "id": "mSE5PCw2tyNO",
    "outputId": "59f0f59b-8414-43b3-cb1e-aa4b7d8a858b",
    "papermill": {
     "duration": 23.689004,
     "end_time": "2021-09-03T08:20:07.520536",
     "exception": false,
     "start_time": "2021-09-03T08:19:43.831532",
     "status": "completed"
    },
    "tags": []
   },
   "outputs": [
    {
     "name": "stdout",
     "output_type": "stream",
     "text": [
      "Accuracy of the network on the 30000 train images: 99.396667 %\n",
      "total correct 29819\n",
      "total train set images 30000\n",
      "focus_true_pred_true 26255 =============> FTPT : 87.516667 %\n",
      "focus_false_pred_true 3564 =============> FFPT : 11.880000 %\n",
      "focus_true_pred_false 91 =============> FTPF : 0.303333 %\n",
      "focus_false_pred_false 90 =============> FFPF : 0.300000 %\n",
      "Sparsity_Value 140048 =============> AVG Sparsity : 4.668267 \n",
      "argmax_more_than_half ==================>  24546\n",
      "argmax_less_than_half ==================>  5454\n",
      "30000\n",
      "====================================================================================================\n"
     ]
    }
   ],
   "source": [
    "correct = 0\n",
    "total = 0\n",
    "count = 0\n",
    "flag = 1\n",
    "focus_true_pred_true =0\n",
    "focus_false_pred_true =0\n",
    "focus_true_pred_false =0\n",
    "focus_false_pred_false =0\n",
    "\n",
    "argmax_more_than_half = 0\n",
    "argmax_less_than_half =0\n",
    "sparse_val = 0\n",
    "focus_net.eval()\n",
    "classify.eval()\n",
    "with torch.no_grad():\n",
    "  for data in train_loader:\n",
    "    inputs, labels , fore_idx = data\n",
    "    inputs = inputs.double()\n",
    "    inputs, labels , fore_idx = inputs.to(\"cuda\"),labels.to(\"cuda\"), fore_idx.to(\"cuda\")\n",
    "    alphas, avg_images = focus_net(inputs)\n",
    "    outputs = classify(avg_images)\n",
    "\n",
    "    _, predicted = torch.max(outputs.data, 1)\n",
    "    sparse_val += torch.sum(torch.sum(alphas>0.01,dim=1)).item()\n",
    "    for j in range(labels.size(0)):\n",
    "      count += 1\n",
    "      focus = torch.argmax(alphas[j])\n",
    "      if alphas[j][focus] >= 0.5 :\n",
    "        argmax_more_than_half += 1\n",
    "      else:\n",
    "        argmax_less_than_half += 1\n",
    "\n",
    "      if(focus == fore_idx[j] and predicted[j] == labels[j]):\n",
    "          focus_true_pred_true += 1\n",
    "      elif(focus != fore_idx[j] and predicted[j] == labels[j]):\n",
    "        focus_false_pred_true += 1\n",
    "      elif(focus == fore_idx[j] and predicted[j] != labels[j]):\n",
    "        focus_true_pred_false += 1\n",
    "      elif(focus != fore_idx[j] and predicted[j] != labels[j]):\n",
    "        focus_false_pred_false += 1\n",
    "\n",
    "    total += labels.size(0)\n",
    "    correct += (predicted == labels).sum().item()\n",
    "\n",
    "print('Accuracy of the network on the 30000 train images: %f %%' % ( 100 * correct / total))\n",
    "print(\"total correct\", correct)\n",
    "print(\"total train set images\", total)\n",
    "\n",
    "print(\"focus_true_pred_true %d =============> FTPT : %f %%\" % (focus_true_pred_true , (100 * focus_true_pred_true / total) ) )\n",
    "print(\"focus_false_pred_true %d =============> FFPT : %f %%\" % (focus_false_pred_true, (100 * focus_false_pred_true / total) ) )\n",
    "print(\"focus_true_pred_false %d =============> FTPF : %f %%\" %( focus_true_pred_false , ( 100 * focus_true_pred_false / total) ) )\n",
    "print(\"focus_false_pred_false %d =============> FFPF : %f %%\" % (focus_false_pred_false, ( 100 * focus_false_pred_false / total) ) )\n",
    "print(\"Sparsity_Value %d =============> AVG Sparsity : %f \" % (sparse_val,(sparse_val)/total))\n",
    "print(\"argmax_more_than_half ==================> \",argmax_more_than_half)\n",
    "print(\"argmax_less_than_half ==================> \",argmax_less_than_half)\n",
    "print(count)\n",
    "\n",
    "print(\"=\"*100)"
   ]
  },
  {
   "cell_type": "code",
   "execution_count": 45,
   "id": "78da83cc",
   "metadata": {
    "execution": {
     "iopub.execute_input": "2021-09-03T08:20:07.646115Z",
     "iopub.status.busy": "2021-09-03T08:20:07.644746Z",
     "iopub.status.idle": "2021-09-03T08:20:15.507365Z",
     "shell.execute_reply": "2021-09-03T08:20:15.508029Z",
     "shell.execute_reply.started": "2021-09-03T06:52:02.566403Z"
    },
    "id": "40tKBow5t1sF",
    "outputId": "2db3287c-37b4-4655-99b5-8c32e1f4a6c8",
    "papermill": {
     "duration": 7.931553,
     "end_time": "2021-09-03T08:20:15.508239",
     "exception": false,
     "start_time": "2021-09-03T08:20:07.576686",
     "status": "completed"
    },
    "tags": []
   },
   "outputs": [
    {
     "name": "stdout",
     "output_type": "stream",
     "text": [
      "Accuracy of the network on the 10000 test images: 95.410000 %\n",
      "total correct 9541\n",
      "total test set images 10000\n",
      "focus_true_pred_true 8380 =============> FTPT : 83.800000 %\n",
      "focus_false_pred_true 1161 =============> FFPT : 11.610000 %\n",
      "focus_true_pred_false 191 =============> FTPF : 1.910000 %\n",
      "focus_false_pred_false 268 =============> FFPF : 2.680000 %\n",
      "Sparsity_Value 47838 =============> AVG Sparsity : 4.783800 \n",
      "argmax_more_than_half ==================>  8062\n",
      "argmax_less_than_half ==================>  1938\n"
     ]
    }
   ],
   "source": [
    "correct = 0\n",
    "total = 0\n",
    "count = 0\n",
    "flag = 1\n",
    "focus_true_pred_true =0\n",
    "focus_false_pred_true =0\n",
    "focus_true_pred_false =0\n",
    "focus_false_pred_false =0\n",
    "\n",
    "argmax_more_than_half = 0\n",
    "argmax_less_than_half =0\n",
    "sparse_val = 0 \n",
    "focus_net.eval()\n",
    "classify.eval()\n",
    "with torch.no_grad():\n",
    "  for data in test_loader:\n",
    "    inputs, labels , fore_idx = data\n",
    "    inputs = inputs.double()\n",
    "    inputs, labels , fore_idx = inputs.to(\"cuda\"),labels.to(\"cuda\"), fore_idx.to(\"cuda\")\n",
    "    alphas, avg_images = focus_net(inputs)\n",
    "    outputs = classify(avg_images)\n",
    "\n",
    "    _, predicted = torch.max(outputs.data, 1)\n",
    "    sparse_val += torch.sum(torch.sum(alphas>0.01,dim=1)).item()\n",
    "    for j in range(labels.size(0)):\n",
    "      focus = torch.argmax(alphas[j])\n",
    "      if alphas[j][focus] >= 0.5 :\n",
    "        argmax_more_than_half += 1\n",
    "      else:\n",
    "        argmax_less_than_half += 1\n",
    "\n",
    "      if(focus == fore_idx[j] and predicted[j] == labels[j]):\n",
    "          focus_true_pred_true += 1\n",
    "      elif(focus != fore_idx[j] and predicted[j] == labels[j]):\n",
    "        focus_false_pred_true += 1\n",
    "      elif(focus == fore_idx[j] and predicted[j] != labels[j]):\n",
    "        focus_true_pred_false += 1\n",
    "      elif(focus != fore_idx[j] and predicted[j] != labels[j]):\n",
    "        focus_false_pred_false += 1\n",
    "\n",
    "    total += labels.size(0)\n",
    "    correct += (predicted == labels).sum().item()\n",
    "\n",
    "print('Accuracy of the network on the 10000 test images: %f %%' % (\n",
    "    100 * correct / total))\n",
    "print(\"total correct\", correct)\n",
    "print(\"total test set images\", total)\n",
    "\n",
    "print(\"focus_true_pred_true %d =============> FTPT : %f %%\" % (focus_true_pred_true , (100 * focus_true_pred_true / total) ) )\n",
    "print(\"focus_false_pred_true %d =============> FFPT : %f %%\" % (focus_false_pred_true, (100 * focus_false_pred_true / total) ) )\n",
    "print(\"focus_true_pred_false %d =============> FTPF : %f %%\" %( focus_true_pred_false , ( 100 * focus_true_pred_false / total) ) )\n",
    "print(\"focus_false_pred_false %d =============> FFPF : %f %%\" % (focus_false_pred_false, ( 100 * focus_false_pred_false / total) ) )\n",
    "print(\"Sparsity_Value %d =============> AVG Sparsity : %f \" % (sparse_val,(sparse_val)/total))\n",
    "\n",
    "print(\"argmax_more_than_half ==================> \",argmax_more_than_half)\n",
    "print(\"argmax_less_than_half ==================> \",argmax_less_than_half)"
   ]
  },
  {
   "cell_type": "code",
   "execution_count": 46,
   "id": "d52c0a3e",
   "metadata": {
    "execution": {
     "iopub.execute_input": "2021-09-03T08:20:15.712482Z",
     "iopub.status.busy": "2021-09-03T08:20:15.711718Z",
     "iopub.status.idle": "2021-09-03T08:20:33.902996Z",
     "shell.execute_reply": "2021-09-03T08:20:33.902524Z",
     "shell.execute_reply.started": "2021-09-03T06:52:10.642975Z"
    },
    "id": "iJEMJnUI9FP2",
    "papermill": {
     "duration": 18.295189,
     "end_time": "2021-09-03T08:20:33.903119",
     "exception": false,
     "start_time": "2021-09-03T08:20:15.607930",
     "status": "completed"
    },
    "tags": []
   },
   "outputs": [
    {
     "name": "stdout",
     "output_type": "stream",
     "text": [
      "Accuracy of the network on the 30000 train images: 99.396667 %\n",
      "total correct 29819\n",
      "total train set images 30000\n"
     ]
    }
   ],
   "source": [
    "correct = 0\n",
    "total = 0\n",
    "focus_net.eval()\n",
    "classify.eval()\n",
    "with torch.no_grad():\n",
    "  for data in train_loader:\n",
    "    inputs, labels , fore_idx = data\n",
    "    inputs = inputs.double()\n",
    "    inputs, labels = inputs.to(\"cuda\"), labels.to(\"cuda\")\n",
    "    alphas, avg_images = focus_net(inputs)\n",
    "    outputs = classify(avg_images)\n",
    "\n",
    "    _, predicted = torch.max(outputs.data, 1)\n",
    "\n",
    "    total += labels.size(0)\n",
    "    correct += (predicted == labels).sum().item()\n",
    "\n",
    "print('Accuracy of the network on the 30000 train images: %f %%' % ( 100 * correct / total))\n",
    "print(\"total correct\", correct)\n",
    "print(\"total train set images\", total)"
   ]
  },
  {
   "cell_type": "code",
   "execution_count": 47,
   "id": "eaf2f0bf",
   "metadata": {
    "execution": {
     "iopub.execute_input": "2021-09-03T08:20:34.022068Z",
     "iopub.status.busy": "2021-09-03T08:20:34.021209Z",
     "iopub.status.idle": "2021-09-03T08:20:40.170112Z",
     "shell.execute_reply": "2021-09-03T08:20:40.169497Z",
     "shell.execute_reply.started": "2021-09-03T06:52:28.802741Z"
    },
    "id": "an7qmNLB-Ilb",
    "papermill": {
     "duration": 6.211206,
     "end_time": "2021-09-03T08:20:40.170277",
     "exception": false,
     "start_time": "2021-09-03T08:20:33.959071",
     "status": "completed"
    },
    "tags": []
   },
   "outputs": [
    {
     "name": "stdout",
     "output_type": "stream",
     "text": [
      "Accuracy of the network on the 10000 test images: 95.410000 %\n",
      "total correct 9541\n",
      "total train set images 10000\n"
     ]
    }
   ],
   "source": [
    "correct = 0\n",
    "total = 0\n",
    "focus_net.eval()\n",
    "classify.eval()\n",
    "with torch.no_grad():\n",
    "  for data in test_loader:\n",
    "    inputs, labels , fore_idx = data\n",
    "    inputs = inputs.double()\n",
    "    inputs, labels = inputs.to(\"cuda\"), labels.to(\"cuda\")\n",
    "    alphas, avg_images = focus_net(inputs)\n",
    "    outputs = classify(avg_images)\n",
    "\n",
    "    _, predicted = torch.max(outputs.data, 1)\n",
    "\n",
    "    total += labels.size(0)\n",
    "    correct += (predicted == labels).sum().item()\n",
    "\n",
    "print('Accuracy of the network on the 10000 test images: %f %%' % ( 100 * correct / total))\n",
    "print(\"total correct\", correct)\n",
    "print(\"total train set images\", total)"
   ]
  },
  {
   "cell_type": "code",
   "execution_count": null,
   "id": "9f308109",
   "metadata": {
    "id": "SKwqTXFjuBR_",
    "papermill": {
     "duration": 0.056919,
     "end_time": "2021-09-03T08:20:40.285221",
     "exception": false,
     "start_time": "2021-09-03T08:20:40.228302",
     "status": "completed"
    },
    "tags": []
   },
   "outputs": [],
   "source": []
  }
 ],
 "metadata": {
  "kernelspec": {
   "display_name": "Python 3",
   "language": "python",
   "name": "python3"
  },
  "language_info": {
   "codemirror_mode": {
    "name": "ipython",
    "version": 3
   },
   "file_extension": ".py",
   "mimetype": "text/x-python",
   "name": "python",
   "nbconvert_exporter": "python",
   "pygments_lexer": "ipython3",
   "version": "3.7.10"
  },
  "papermill": {
   "default_parameters": {},
   "duration": 1631.131021,
   "end_time": "2021-09-03T08:20:41.887833",
   "environment_variables": {},
   "exception": null,
   "input_path": "__notebook__.ipynb",
   "output_path": "__notebook__.ipynb",
   "parameters": {},
   "start_time": "2021-09-03T07:53:30.756812",
   "version": "2.3.3"
  },
  "widgets": {
   "application/vnd.jupyter.widget-state+json": {
    "state": {
     "0f48f59903864d159e4725f96b1d6a91": {
      "model_module": "@jupyter-widgets/base",
      "model_module_version": "1.2.0",
      "model_name": "LayoutModel",
      "state": {
       "_model_module": "@jupyter-widgets/base",
       "_model_module_version": "1.2.0",
       "_model_name": "LayoutModel",
       "_view_count": null,
       "_view_module": "@jupyter-widgets/base",
       "_view_module_version": "1.2.0",
       "_view_name": "LayoutView",
       "align_content": null,
       "align_items": null,
       "align_self": null,
       "border": null,
       "bottom": null,
       "display": null,
       "flex": null,
       "flex_flow": null,
       "grid_area": null,
       "grid_auto_columns": null,
       "grid_auto_flow": null,
       "grid_auto_rows": null,
       "grid_column": null,
       "grid_gap": null,
       "grid_row": null,
       "grid_template_areas": null,
       "grid_template_columns": null,
       "grid_template_rows": null,
       "height": null,
       "justify_content": null,
       "justify_items": null,
       "left": null,
       "margin": null,
       "max_height": null,
       "max_width": null,
       "min_height": null,
       "min_width": null,
       "object_fit": null,
       "object_position": null,
       "order": null,
       "overflow": null,
       "overflow_x": null,
       "overflow_y": null,
       "padding": null,
       "right": null,
       "top": null,
       "visibility": null,
       "width": "20px"
      }
     },
     "5c44a3a405954a4ba2c9efd1824a80ba": {
      "model_module": "@jupyter-widgets/base",
      "model_module_version": "1.2.0",
      "model_name": "LayoutModel",
      "state": {
       "_model_module": "@jupyter-widgets/base",
       "_model_module_version": "1.2.0",
       "_model_name": "LayoutModel",
       "_view_count": null,
       "_view_module": "@jupyter-widgets/base",
       "_view_module_version": "1.2.0",
       "_view_name": "LayoutView",
       "align_content": null,
       "align_items": null,
       "align_self": null,
       "border": null,
       "bottom": null,
       "display": null,
       "flex": null,
       "flex_flow": null,
       "grid_area": null,
       "grid_auto_columns": null,
       "grid_auto_flow": null,
       "grid_auto_rows": null,
       "grid_column": null,
       "grid_gap": null,
       "grid_row": null,
       "grid_template_areas": null,
       "grid_template_columns": null,
       "grid_template_rows": null,
       "height": null,
       "justify_content": null,
       "justify_items": null,
       "left": null,
       "margin": null,
       "max_height": null,
       "max_width": null,
       "min_height": null,
       "min_width": null,
       "object_fit": null,
       "object_position": null,
       "order": null,
       "overflow": null,
       "overflow_x": null,
       "overflow_y": null,
       "padding": null,
       "right": null,
       "top": null,
       "visibility": null,
       "width": null
      }
     },
     "6460bb17057f4a208a08bfe90c3d3fbd": {
      "model_module": "@jupyter-widgets/controls",
      "model_module_version": "1.5.0",
      "model_name": "DescriptionStyleModel",
      "state": {
       "_model_module": "@jupyter-widgets/controls",
       "_model_module_version": "1.5.0",
       "_model_name": "DescriptionStyleModel",
       "_view_count": null,
       "_view_module": "@jupyter-widgets/base",
       "_view_module_version": "1.2.0",
       "_view_name": "StyleView",
       "description_width": ""
      }
     },
     "7008c3c892d44fe5810ccce7efe16df2": {
      "model_module": "@jupyter-widgets/controls",
      "model_module_version": "1.5.0",
      "model_name": "HTMLModel",
      "state": {
       "_dom_classes": [],
       "_model_module": "@jupyter-widgets/controls",
       "_model_module_version": "1.5.0",
       "_model_name": "HTMLModel",
       "_view_count": null,
       "_view_module": "@jupyter-widgets/controls",
       "_view_module_version": "1.5.0",
       "_view_name": "HTMLView",
       "description": "",
       "description_tooltip": null,
       "layout": "IPY_MODEL_b3be2ae21c714b2aa304f86208753d18",
       "placeholder": "​",
       "style": "IPY_MODEL_75af07cd57be4eedbff1e9e31174f28b",
       "value": ""
      }
     },
     "75af07cd57be4eedbff1e9e31174f28b": {
      "model_module": "@jupyter-widgets/controls",
      "model_module_version": "1.5.0",
      "model_name": "DescriptionStyleModel",
      "state": {
       "_model_module": "@jupyter-widgets/controls",
       "_model_module_version": "1.5.0",
       "_model_name": "DescriptionStyleModel",
       "_view_count": null,
       "_view_module": "@jupyter-widgets/base",
       "_view_module_version": "1.2.0",
       "_view_name": "StyleView",
       "description_width": ""
      }
     },
     "8acdca31871d43e8afe57401af1fb606": {
      "model_module": "@jupyter-widgets/base",
      "model_module_version": "1.2.0",
      "model_name": "LayoutModel",
      "state": {
       "_model_module": "@jupyter-widgets/base",
       "_model_module_version": "1.2.0",
       "_model_name": "LayoutModel",
       "_view_count": null,
       "_view_module": "@jupyter-widgets/base",
       "_view_module_version": "1.2.0",
       "_view_name": "LayoutView",
       "align_content": null,
       "align_items": null,
       "align_self": null,
       "border": null,
       "bottom": null,
       "display": null,
       "flex": null,
       "flex_flow": null,
       "grid_area": null,
       "grid_auto_columns": null,
       "grid_auto_flow": null,
       "grid_auto_rows": null,
       "grid_column": null,
       "grid_gap": null,
       "grid_row": null,
       "grid_template_areas": null,
       "grid_template_columns": null,
       "grid_template_rows": null,
       "height": null,
       "justify_content": null,
       "justify_items": null,
       "left": null,
       "margin": null,
       "max_height": null,
       "max_width": null,
       "min_height": null,
       "min_width": null,
       "object_fit": null,
       "object_position": null,
       "order": null,
       "overflow": null,
       "overflow_x": null,
       "overflow_y": null,
       "padding": null,
       "right": null,
       "top": null,
       "visibility": null,
       "width": null
      }
     },
     "a302f448b0434e9c860ebf9bbe2de927": {
      "model_module": "@jupyter-widgets/controls",
      "model_module_version": "1.5.0",
      "model_name": "ProgressStyleModel",
      "state": {
       "_model_module": "@jupyter-widgets/controls",
       "_model_module_version": "1.5.0",
       "_model_name": "ProgressStyleModel",
       "_view_count": null,
       "_view_module": "@jupyter-widgets/base",
       "_view_module_version": "1.2.0",
       "_view_name": "StyleView",
       "bar_color": null,
       "description_width": ""
      }
     },
     "b3be2ae21c714b2aa304f86208753d18": {
      "model_module": "@jupyter-widgets/base",
      "model_module_version": "1.2.0",
      "model_name": "LayoutModel",
      "state": {
       "_model_module": "@jupyter-widgets/base",
       "_model_module_version": "1.2.0",
       "_model_name": "LayoutModel",
       "_view_count": null,
       "_view_module": "@jupyter-widgets/base",
       "_view_module_version": "1.2.0",
       "_view_name": "LayoutView",
       "align_content": null,
       "align_items": null,
       "align_self": null,
       "border": null,
       "bottom": null,
       "display": null,
       "flex": null,
       "flex_flow": null,
       "grid_area": null,
       "grid_auto_columns": null,
       "grid_auto_flow": null,
       "grid_auto_rows": null,
       "grid_column": null,
       "grid_gap": null,
       "grid_row": null,
       "grid_template_areas": null,
       "grid_template_columns": null,
       "grid_template_rows": null,
       "height": null,
       "justify_content": null,
       "justify_items": null,
       "left": null,
       "margin": null,
       "max_height": null,
       "max_width": null,
       "min_height": null,
       "min_width": null,
       "object_fit": null,
       "object_position": null,
       "order": null,
       "overflow": null,
       "overflow_x": null,
       "overflow_y": null,
       "padding": null,
       "right": null,
       "top": null,
       "visibility": null,
       "width": null
      }
     },
     "bc23ecc387b244f2af41c8da0f178bd6": {
      "model_module": "@jupyter-widgets/controls",
      "model_module_version": "1.5.0",
      "model_name": "FloatProgressModel",
      "state": {
       "_dom_classes": [],
       "_model_module": "@jupyter-widgets/controls",
       "_model_module_version": "1.5.0",
       "_model_name": "FloatProgressModel",
       "_view_count": null,
       "_view_module": "@jupyter-widgets/controls",
       "_view_module_version": "1.5.0",
       "_view_name": "ProgressView",
       "bar_style": "info",
       "description": "",
       "description_tooltip": null,
       "layout": "IPY_MODEL_0f48f59903864d159e4725f96b1d6a91",
       "max": 1.0,
       "min": 0.0,
       "orientation": "horizontal",
       "style": "IPY_MODEL_a302f448b0434e9c860ebf9bbe2de927",
       "value": 1.0
      }
     },
     "e0988c1d4e424822b194bfc313faac27": {
      "model_module": "@jupyter-widgets/controls",
      "model_module_version": "1.5.0",
      "model_name": "HBoxModel",
      "state": {
       "_dom_classes": [],
       "_model_module": "@jupyter-widgets/controls",
       "_model_module_version": "1.5.0",
       "_model_name": "HBoxModel",
       "_view_count": null,
       "_view_module": "@jupyter-widgets/controls",
       "_view_module_version": "1.5.0",
       "_view_name": "HBoxView",
       "box_style": "",
       "children": [
        "IPY_MODEL_7008c3c892d44fe5810ccce7efe16df2",
        "IPY_MODEL_bc23ecc387b244f2af41c8da0f178bd6",
        "IPY_MODEL_f28a74d5c1ef4ff58a1caf29a53e7cd2"
       ],
       "layout": "IPY_MODEL_5c44a3a405954a4ba2c9efd1824a80ba"
      }
     },
     "f28a74d5c1ef4ff58a1caf29a53e7cd2": {
      "model_module": "@jupyter-widgets/controls",
      "model_module_version": "1.5.0",
      "model_name": "HTMLModel",
      "state": {
       "_dom_classes": [],
       "_model_module": "@jupyter-widgets/controls",
       "_model_module_version": "1.5.0",
       "_model_name": "HTMLModel",
       "_view_count": null,
       "_view_module": "@jupyter-widgets/controls",
       "_view_module_version": "1.5.0",
       "_view_name": "HTMLView",
       "description": "",
       "description_tooltip": null,
       "layout": "IPY_MODEL_8acdca31871d43e8afe57401af1fb606",
       "placeholder": "​",
       "style": "IPY_MODEL_6460bb17057f4a208a08bfe90c3d3fbd",
       "value": " 170500096/? [00:20&lt;00:00, 54492988.69it/s]"
      }
     }
    },
    "version_major": 2,
    "version_minor": 0
   }
  }
 },
 "nbformat": 4,
 "nbformat_minor": 5
}
