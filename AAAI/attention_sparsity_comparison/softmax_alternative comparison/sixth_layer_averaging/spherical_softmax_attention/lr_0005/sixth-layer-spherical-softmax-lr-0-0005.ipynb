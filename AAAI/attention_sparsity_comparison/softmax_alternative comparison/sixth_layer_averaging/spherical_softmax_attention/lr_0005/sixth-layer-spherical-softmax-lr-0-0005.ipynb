{
 "cells": [
  {
   "cell_type": "code",
   "execution_count": 1,
   "id": "76f7b11d",
   "metadata": {
    "execution": {
     "iopub.execute_input": "2021-09-03T06:59:24.021570Z",
     "iopub.status.busy": "2021-09-03T06:59:24.020876Z",
     "iopub.status.idle": "2021-09-03T06:59:24.022540Z",
     "shell.execute_reply": "2021-09-03T06:59:24.022042Z",
     "shell.execute_reply.started": "2021-09-03T06:28:15.437536Z"
    },
    "id": "JSjG64ra4aFu",
    "outputId": "addc1734-5176-4a1c-a637-220f1f24d021",
    "papermill": {
     "duration": 0.044249,
     "end_time": "2021-09-03T06:59:24.022663",
     "exception": false,
     "start_time": "2021-09-03T06:59:23.978414",
     "status": "completed"
    },
    "tags": []
   },
   "outputs": [],
   "source": [
    "# from google.colab import drive\n",
    "# drive.mount('/content/drive')"
   ]
  },
  {
   "cell_type": "code",
   "execution_count": 2,
   "id": "4042991e",
   "metadata": {
    "execution": {
     "iopub.execute_input": "2021-09-03T06:59:24.094550Z",
     "iopub.status.busy": "2021-09-03T06:59:24.093829Z",
     "iopub.status.idle": "2021-09-03T06:59:24.097405Z",
     "shell.execute_reply": "2021-09-03T06:59:24.096941Z",
     "shell.execute_reply.started": "2021-09-03T03:44:11.983114Z"
    },
    "papermill": {
     "duration": 0.040919,
     "end_time": "2021-09-03T06:59:24.097517",
     "exception": false,
     "start_time": "2021-09-03T06:59:24.056598",
     "status": "completed"
    },
    "tags": []
   },
   "outputs": [],
   "source": [
    "# !pip install sparsemax"
   ]
  },
  {
   "cell_type": "code",
   "execution_count": 3,
   "id": "1796f535",
   "metadata": {
    "execution": {
     "iopub.execute_input": "2021-09-03T06:59:24.263522Z",
     "iopub.status.busy": "2021-09-03T06:59:24.253966Z",
     "iopub.status.idle": "2021-09-03T06:59:24.942512Z",
     "shell.execute_reply": "2021-09-03T06:59:24.942026Z",
     "shell.execute_reply.started": "2021-09-03T06:29:00.220992Z"
    },
    "id": "atwYfdnU1_3W",
    "outputId": "0c7b155f-d0c1-4bd0-c87d-57be34d931d7",
    "papermill": {
     "duration": 0.808846,
     "end_time": "2021-09-03T06:59:24.942640",
     "exception": false,
     "start_time": "2021-09-03T06:59:24.133794",
     "status": "completed"
    },
    "tags": []
   },
   "outputs": [
    {
     "name": "stdout",
     "output_type": "stream",
     "text": [
      "/kaggle/working\r\n"
     ]
    }
   ],
   "source": [
    "# from google.colab import drive\n",
    "# drive.mount('/content/drive')\n",
    "!pwd"
   ]
  },
  {
   "cell_type": "code",
   "execution_count": 4,
   "id": "793dd1c5",
   "metadata": {
    "execution": {
     "iopub.execute_input": "2021-09-03T06:59:25.016494Z",
     "iopub.status.busy": "2021-09-03T06:59:25.015610Z",
     "iopub.status.idle": "2021-09-03T06:59:25.018445Z",
     "shell.execute_reply": "2021-09-03T06:59:25.018031Z",
     "shell.execute_reply.started": "2021-09-03T06:29:05.058366Z"
    },
    "id": "Zj9vWd0E2C0t",
    "papermill": {
     "duration": 0.040738,
     "end_time": "2021-09-03T06:59:25.018562",
     "exception": false,
     "start_time": "2021-09-03T06:59:24.977824",
     "status": "completed"
    },
    "tags": []
   },
   "outputs": [],
   "source": [
    "\n",
    "path = '/kaggle/working/run1'"
   ]
  },
  {
   "cell_type": "code",
   "execution_count": 5,
   "id": "c6409310",
   "metadata": {
    "execution": {
     "iopub.execute_input": "2021-09-03T06:59:25.124119Z",
     "iopub.status.busy": "2021-09-03T06:59:25.122445Z",
     "iopub.status.idle": "2021-09-03T06:59:26.480243Z",
     "shell.execute_reply": "2021-09-03T06:59:26.479465Z",
     "shell.execute_reply.started": "2021-09-03T06:29:06.251795Z"
    },
    "id": "V8-7SARDZErK",
    "papermill": {
     "duration": 1.421791,
     "end_time": "2021-09-03T06:59:26.480421",
     "exception": false,
     "start_time": "2021-09-03T06:59:25.058630",
     "status": "completed"
    },
    "tags": []
   },
   "outputs": [],
   "source": [
    "import torch.nn as nn\n",
    "import torch.nn.functional as F\n",
    "import pandas as pd\n",
    "import numpy as np\n",
    "import matplotlib.pyplot as plt\n",
    "import torch\n",
    "import torchvision\n",
    "import torchvision.transforms as transforms\n",
    "from torch.utils.data import Dataset, DataLoader\n",
    "from torchvision import transforms, utils\n",
    "from matplotlib import pyplot as plt\n",
    "import copy\n",
    "\n",
    "#from sparsemax import Sparsemax\n",
    "# Ignore warnings\n",
    "import warnings\n",
    "warnings.filterwarnings(\"ignore\")\n",
    "n_seed = 0"
   ]
  },
  {
   "cell_type": "code",
   "execution_count": 6,
   "id": "e0f6a091",
   "metadata": {
    "execution": {
     "iopub.execute_input": "2021-09-03T06:59:26.595704Z",
     "iopub.status.busy": "2021-09-03T06:59:26.594702Z",
     "iopub.status.idle": "2021-09-03T06:59:26.601487Z",
     "shell.execute_reply": "2021-09-03T06:59:26.600881Z",
     "shell.execute_reply.started": "2021-09-03T06:29:08.600636Z"
    },
    "id": "_rVTn9u9uBRn",
    "papermill": {
     "duration": 0.066254,
     "end_time": "2021-09-03T06:59:26.601655",
     "exception": false,
     "start_time": "2021-09-03T06:59:26.535401",
     "status": "completed"
    },
    "tags": []
   },
   "outputs": [],
   "source": [
    "torch.backends.cudnn.deterministic = True\n",
    "torch.backends.cudnn.benchmark= False"
   ]
  },
  {
   "cell_type": "code",
   "execution_count": 7,
   "id": "fe412908",
   "metadata": {
    "execution": {
     "iopub.execute_input": "2021-09-03T06:59:26.757777Z",
     "iopub.status.busy": "2021-09-03T06:59:26.756998Z",
     "iopub.status.idle": "2021-09-03T06:59:32.449427Z",
     "shell.execute_reply": "2021-09-03T06:59:32.448865Z",
     "shell.execute_reply.started": "2021-09-03T06:29:10.461103Z"
    },
    "id": "acRFqJNrZErV",
    "outputId": "8b937572-e8ec-458e-edd8-0ed0170b0fc9",
    "papermill": {
     "duration": 5.778359,
     "end_time": "2021-09-03T06:59:32.449576",
     "exception": false,
     "start_time": "2021-09-03T06:59:26.671217",
     "status": "completed"
    },
    "tags": []
   },
   "outputs": [
    {
     "name": "stdout",
     "output_type": "stream",
     "text": [
      "Downloading https://www.cs.toronto.edu/~kriz/cifar-10-python.tar.gz to ./data/cifar-10-python.tar.gz\n"
     ]
    },
    {
     "data": {
      "application/vnd.jupyter.widget-view+json": {
       "model_id": "b2954928c99a4facb19af8b69c6911b0",
       "version_major": 2,
       "version_minor": 0
      },
      "text/plain": [
       "0it [00:00, ?it/s]"
      ]
     },
     "metadata": {},
     "output_type": "display_data"
    },
    {
     "name": "stdout",
     "output_type": "stream",
     "text": [
      "Extracting ./data/cifar-10-python.tar.gz to ./data\n",
      "Files already downloaded and verified\n"
     ]
    }
   ],
   "source": [
    "transform = transforms.Compose(\n",
    "    [transforms.ToTensor(),\n",
    "     transforms.Normalize((0.5, 0.5, 0.5), (0.5, 0.5, 0.5))])\n",
    "\n",
    "trainset = torchvision.datasets.CIFAR10(root='./data', train=True, download=True, transform=transform)\n",
    "\n",
    "\n",
    "testset = torchvision.datasets.CIFAR10(root='./data', train=False, download=True, transform=transform)\n"
   ]
  },
  {
   "cell_type": "code",
   "execution_count": 8,
   "id": "9502f004",
   "metadata": {
    "execution": {
     "iopub.execute_input": "2021-09-03T06:59:32.527396Z",
     "iopub.status.busy": "2021-09-03T06:59:32.526516Z",
     "iopub.status.idle": "2021-09-03T06:59:32.529063Z",
     "shell.execute_reply": "2021-09-03T06:59:32.528578Z",
     "shell.execute_reply.started": "2021-09-03T06:29:19.179605Z"
    },
    "id": "gh5DXuAV1tp5",
    "papermill": {
     "duration": 0.04379,
     "end_time": "2021-09-03T06:59:32.529189",
     "exception": false,
     "start_time": "2021-09-03T06:59:32.485399",
     "status": "completed"
    },
    "tags": []
   },
   "outputs": [],
   "source": [
    "trainloader = torch.utils.data.DataLoader(trainset, batch_size=10, shuffle=False)\n",
    "testloader = torch.utils.data.DataLoader(testset, batch_size=10, shuffle=False)\n",
    "\n",
    "\n",
    "classes = ('plane', 'car', 'bird', 'cat', 'deer', 'dog', 'frog', 'horse', 'ship', 'truck')\n",
    "\n",
    "foreground_classes = {'plane', 'car', 'bird'}\n",
    "#foreground_classes = {'bird', 'cat', 'deer'}\n",
    "background_classes = {'cat', 'deer', 'dog', 'frog', 'horse', 'ship', 'truck'}\n",
    "#background_classes = {'plane', 'car', 'dog', 'frog', 'horse','ship', 'truck'}\n",
    "\n",
    "fg1,fg2,fg3 = 0,1,2"
   ]
  },
  {
   "cell_type": "code",
   "execution_count": 9,
   "id": "85828ce0",
   "metadata": {
    "execution": {
     "iopub.execute_input": "2021-09-03T06:59:32.610180Z",
     "iopub.status.busy": "2021-09-03T06:59:32.609472Z",
     "iopub.status.idle": "2021-09-03T07:00:24.723980Z",
     "shell.execute_reply": "2021-09-03T07:00:24.723451Z",
     "shell.execute_reply.started": "2021-09-03T06:29:19.188456Z"
    },
    "id": "V_JUhwCeZErk",
    "papermill": {
     "duration": 52.159263,
     "end_time": "2021-09-03T07:00:24.724146",
     "exception": false,
     "start_time": "2021-09-03T06:59:32.564883",
     "status": "completed"
    },
    "tags": []
   },
   "outputs": [],
   "source": [
    "dataiter = iter(trainloader)\n",
    "background_data=[]\n",
    "background_label=[]\n",
    "foreground_data=[]\n",
    "foreground_label=[]\n",
    "batch_size=10\n",
    "\n",
    "for i in range(5000):\n",
    "  images, labels = dataiter.next()\n",
    "  for j in range(batch_size):\n",
    "    if(classes[labels[j]] in background_classes):\n",
    "      img = images[j].tolist()\n",
    "      background_data.append(img)\n",
    "      background_label.append(labels[j])\n",
    "    else:\n",
    "      img = images[j].tolist()\n",
    "      foreground_data.append(img)\n",
    "      foreground_label.append(labels[j])\n",
    "            \n",
    "foreground_data = torch.tensor(foreground_data)\n",
    "foreground_label = torch.tensor(foreground_label)\n",
    "background_data = torch.tensor(background_data)\n",
    "background_label = torch.tensor(background_label)"
   ]
  },
  {
   "cell_type": "code",
   "execution_count": 10,
   "id": "33d2051c",
   "metadata": {
    "execution": {
     "iopub.execute_input": "2021-09-03T07:00:24.806859Z",
     "iopub.status.busy": "2021-09-03T07:00:24.805332Z",
     "iopub.status.idle": "2021-09-03T07:00:24.807674Z",
     "shell.execute_reply": "2021-09-03T07:00:24.808088Z",
     "shell.execute_reply.started": "2021-09-03T06:30:08.975739Z"
    },
    "id": "uW9MkktGysAp",
    "papermill": {
     "duration": 0.044589,
     "end_time": "2021-09-03T07:00:24.808237",
     "exception": false,
     "start_time": "2021-09-03T07:00:24.763648",
     "status": "completed"
    },
    "tags": []
   },
   "outputs": [],
   "source": [
    "def create_mosaic_img(bg_idx,fg_idx,fg): \n",
    "  \"\"\"\n",
    "  bg_idx : list of indexes of background_data[] to be used as background images in mosaic\n",
    "  fg_idx : index of image to be used as foreground image from foreground data\n",
    "  fg : at what position/index foreground image has to be stored out of 0-8\n",
    "  \"\"\"\n",
    "  image_list=[]\n",
    "  j=0\n",
    "  for i in range(9):\n",
    "    if i != fg:\n",
    "      image_list.append(background_data[bg_idx[j]])#.type(\"torch.DoubleTensor\"))\n",
    "      j+=1\n",
    "    else: \n",
    "      image_list.append(foreground_data[fg_idx])#.type(\"torch.DoubleTensor\"))\n",
    "      label = foreground_label[fg_idx]- fg1  # minus fg1 because our fore ground classes are fg1,fg2,fg3 but we have to store it as 0,1,2\n",
    "  #image_list = np.concatenate(image_list ,axis=0)\n",
    "  image_list = torch.stack(image_list) \n",
    "  return image_list,label"
   ]
  },
  {
   "cell_type": "code",
   "execution_count": 11,
   "id": "27cf621e",
   "metadata": {
    "execution": {
     "iopub.execute_input": "2021-09-03T07:00:24.887245Z",
     "iopub.status.busy": "2021-09-03T07:00:24.886304Z",
     "iopub.status.idle": "2021-09-03T07:00:30.025189Z",
     "shell.execute_reply": "2021-09-03T07:00:30.024620Z",
     "shell.execute_reply.started": "2021-09-03T06:30:08.982796Z"
    },
    "id": "lWxkp87fNwnM",
    "papermill": {
     "duration": 5.181613,
     "end_time": "2021-09-03T07:00:30.025320",
     "exception": false,
     "start_time": "2021-09-03T07:00:24.843707",
     "status": "completed"
    },
    "tags": []
   },
   "outputs": [],
   "source": [
    "desired_num = 30000\n",
    "mosaic_list_of_images =[]      # list of mosaic images, each mosaic image is saved as list of 9 images\n",
    "fore_idx =[]                   # list of indexes at which foreground image is present in a mosaic image i.e from 0 to 9               \n",
    "mosaic_label=[]                # label of mosaic image = foreground class present in that mosaic\n",
    "for i in range(desired_num):\n",
    "  np.random.seed(i)\n",
    "  bg_idx = np.random.randint(0,35000,8)\n",
    "  fg_idx = np.random.randint(0,15000)\n",
    "  fg = np.random.randint(0,9)\n",
    "  fore_idx.append(fg)\n",
    "  image_list,label = create_mosaic_img(bg_idx,fg_idx,fg)\n",
    "  mosaic_list_of_images.append(image_list)\n",
    "  mosaic_label.append(label)"
   ]
  },
  {
   "cell_type": "code",
   "execution_count": 12,
   "id": "5ca62859",
   "metadata": {
    "execution": {
     "iopub.execute_input": "2021-09-03T07:00:30.118116Z",
     "iopub.status.busy": "2021-09-03T07:00:30.116925Z",
     "iopub.status.idle": "2021-09-03T07:00:30.269310Z",
     "shell.execute_reply": "2021-09-03T07:00:30.269734Z",
     "shell.execute_reply.started": "2021-09-03T06:30:14.074283Z"
    },
    "id": "TNMMsJ_auBRs",
    "outputId": "1eaf419e-a155-445a-86e3-e12cb440d065",
    "papermill": {
     "duration": 0.207994,
     "end_time": "2021-09-03T07:00:30.269882",
     "exception": false,
     "start_time": "2021-09-03T07:00:30.061888",
     "status": "completed"
    },
    "tags": []
   },
   "outputs": [
    {
     "data": {
      "text/plain": [
       "<matplotlib.image.AxesImage at 0x7fe6483a4650>"
      ]
     },
     "execution_count": 12,
     "metadata": {},
     "output_type": "execute_result"
    },
    {
     "data": {
      "image/png": "[encoded data removed]",
      "text/plain": [
       "<Figure size 432x288 with 1 Axes>"
      ]
     },
     "metadata": {
      "needs_background": "light"
     },
     "output_type": "display_data"
    }
   ],
   "source": [
    "plt.imshow(torch.transpose(mosaic_list_of_images[0][1],dim0= 0,dim1 = 2))"
   ]
  },
  {
   "cell_type": "code",
   "execution_count": 13,
   "id": "bbdad3e4",
   "metadata": {
    "execution": {
     "iopub.execute_input": "2021-09-03T07:00:30.348557Z",
     "iopub.status.busy": "2021-09-03T07:00:30.347726Z",
     "iopub.status.idle": "2021-09-03T07:00:30.350506Z",
     "shell.execute_reply": "2021-09-03T07:00:30.350091Z",
     "shell.execute_reply.started": "2021-09-03T06:30:14.242551Z"
    },
    "id": "AJuGak6_zXgx",
    "papermill": {
     "duration": 0.045009,
     "end_time": "2021-09-03T07:00:30.350640",
     "exception": false,
     "start_time": "2021-09-03T07:00:30.305631",
     "status": "completed"
    },
    "tags": []
   },
   "outputs": [],
   "source": [
    "class MosaicDataset(Dataset):\n",
    "  \"\"\"MosaicDataset dataset.\"\"\"\n",
    "\n",
    "  def __init__(self, mosaic_list_of_images, mosaic_label, fore_idx):\n",
    "    \"\"\"\n",
    "      Args:\n",
    "        csv_file (string): Path to the csv file with annotations.\n",
    "        root_dir (string): Directory with all the images.\n",
    "        transform (callable, optional): Optional transform to be applied\n",
    "            on a sample.\n",
    "    \"\"\"\n",
    "    self.mosaic = mosaic_list_of_images\n",
    "    self.label = mosaic_label\n",
    "    self.fore_idx = fore_idx\n",
    "\n",
    "  def __len__(self):\n",
    "    return len(self.label)\n",
    "\n",
    "  def __getitem__(self, idx):\n",
    "    return self.mosaic[idx] , self.label[idx], self.fore_idx[idx]\n",
    "\n",
    "batch = 250\n",
    "msd = MosaicDataset(mosaic_list_of_images, mosaic_label , fore_idx)\n",
    "train_loader = DataLoader( msd,batch_size= batch ,shuffle=True)"
   ]
  },
  {
   "cell_type": "code",
   "execution_count": 14,
   "id": "de93e027",
   "metadata": {
    "execution": {
     "iopub.execute_input": "2021-09-03T07:00:30.430511Z",
     "iopub.status.busy": "2021-09-03T07:00:30.429653Z",
     "iopub.status.idle": "2021-09-03T07:00:30.432407Z",
     "shell.execute_reply": "2021-09-03T07:00:30.431921Z",
     "shell.execute_reply.started": "2021-09-03T06:34:35.577097Z"
    },
    "papermill": {
     "duration": 0.045866,
     "end_time": "2021-09-03T07:00:30.432534",
     "exception": false,
     "start_time": "2021-09-03T07:00:30.386668",
     "status": "completed"
    },
    "tags": []
   },
   "outputs": [],
   "source": [
    "class my_spherical_softmax(nn.Module):\n",
    "    \"\"\"\n",
    "    implementation is taken from https://github.com/anirbanl/sparsegen \n",
    "    Code for the NeurIPS 2018 paper \"On Controllable Sparse Alternatives to Softmax\"\n",
    "    \"\"\"\n",
    "    def __init__(self):\n",
    "        super(my_spherical_softmax,self).__init__()\n",
    "    def forward(self,x):\n",
    "        bs = x.data.size()[0]\n",
    "        dim = x.data.size()[1]\n",
    "        z = torch.pow(x, 2)\n",
    "        z_sum = torch.sum(z, dim=1).view(bs, 1).repeat(1, dim)\n",
    "        return z/z_sum"
   ]
  },
  {
   "cell_type": "code",
   "execution_count": 15,
   "id": "b77a4885",
   "metadata": {
    "execution": {
     "iopub.execute_input": "2021-09-03T07:00:30.528768Z",
     "iopub.status.busy": "2021-09-03T07:00:30.527833Z",
     "iopub.status.idle": "2021-09-03T07:00:30.530448Z",
     "shell.execute_reply": "2021-09-03T07:00:30.530024Z",
     "shell.execute_reply.started": "2021-09-03T06:44:47.332490Z"
    },
    "id": "bePj73XKuJpC",
    "papermill": {
     "duration": 0.061233,
     "end_time": "2021-09-03T07:00:30.530565",
     "exception": false,
     "start_time": "2021-09-03T07:00:30.469332",
     "status": "completed"
    },
    "tags": []
   },
   "outputs": [],
   "source": [
    "class Focus(nn.Module):\n",
    "  def __init__(self):\n",
    "    super(Focus, self).__init__()\n",
    "    self.conv1 = nn.Conv2d(in_channels=3, out_channels=32, kernel_size=3, padding=0,bias=False)\n",
    "    self.conv2 = nn.Conv2d(in_channels=32, out_channels=64, kernel_size=3, padding=0,bias=False)\n",
    "    self.conv3 = nn.Conv2d(in_channels=64, out_channels=64, kernel_size=3, padding=0,bias=False)\n",
    "    self.conv4 = nn.Conv2d(in_channels=64, out_channels=128, kernel_size=3, padding=0,bias=False)\n",
    "    self.conv5 = nn.Conv2d(in_channels=128, out_channels=256, kernel_size=3, padding=0,bias=False)\n",
    "    self.conv6 = nn.Conv2d(in_channels=256, out_channels=256, kernel_size=3, padding=1,bias=False)\n",
    "    self.pool = nn.MaxPool2d(kernel_size=2, stride=2)\n",
    "    self.batch_norm1 = nn.BatchNorm2d(32,track_running_stats=False)\n",
    "    self.batch_norm2 = nn.BatchNorm2d(64,track_running_stats=False)\n",
    "    self.batch_norm3 = nn.BatchNorm2d(256,track_running_stats=False)\n",
    "    self.dropout1 = nn.Dropout2d(p=0.05)\n",
    "    self.dropout2 = nn.Dropout2d(p=0.1)\n",
    "    self.fc1 = nn.Linear(256,64,bias=False)\n",
    "    self.fc2 = nn.Linear(64, 32,bias=False)\n",
    "    self.fc3 = nn.Linear(32, 10,bias=False)\n",
    "    self.fc4 = nn.Linear(10, 1,bias=False)\n",
    "\n",
    "    torch.nn.init.xavier_normal_(self.conv1.weight)\n",
    "    torch.nn.init.xavier_normal_(self.conv2.weight)\n",
    "    torch.nn.init.xavier_normal_(self.conv3.weight)\n",
    "    torch.nn.init.xavier_normal_(self.conv4.weight)\n",
    "    torch.nn.init.xavier_normal_(self.conv5.weight)\n",
    "    torch.nn.init.xavier_normal_(self.conv6.weight)\n",
    "\n",
    "    torch.nn.init.xavier_normal_(self.fc1.weight)\n",
    "    torch.nn.init.xavier_normal_(self.fc2.weight)\n",
    "    torch.nn.init.xavier_normal_(self.fc3.weight)\n",
    "    torch.nn.init.xavier_normal_(self.fc4.weight)\n",
    "    self.spherical_softmax = my_spherical_softmax() \n",
    "    \n",
    "\n",
    "  def forward(self,z):  #y is avg image #z batch of list of 9 images\n",
    "    batch_s = z.shape[0] \n",
    "    y = torch.zeros([batch_s,256, 3,3], dtype=torch.float64)\n",
    "    x = torch.zeros([batch_s,9],dtype=torch.float64)\n",
    "    ftr = torch.zeros([batch_s,9,256,3,3])\n",
    "    y = y.to(\"cuda\")\n",
    "    x = x.to(\"cuda\")\n",
    "    ftr = ftr.to(\"cuda\")\n",
    "    \n",
    "    for i in range(9):\n",
    "        out,ftrs = self.helper(z[:,i])\n",
    "        #print(out.shape)\n",
    "        x[:,i] = out\n",
    "        ftr[:,i] = ftrs\n",
    "    x = self.spherical_softmax(x)\n",
    "    #print(x,torch.sum(x,dim=1))\n",
    "\n",
    "    for i in range(9):            \n",
    "      x1 = x[:,i]          \n",
    "      y = y + torch.mul(x1[:,None,None,None],ftr[:,i])\n",
    "\n",
    "    return x, y #alpha, avg_data\n",
    "    \n",
    "  def helper(self, x):\n",
    "\n",
    "    x = self.conv1(x)\n",
    "    x = F.relu(self.batch_norm1(x))\n",
    "\n",
    "    x = (F.relu(self.conv2(x)))\n",
    "    x = self.pool(x)\n",
    "    \n",
    "    x = self.conv3(x)\n",
    "    x = F.relu(self.batch_norm2(x))\n",
    "\n",
    "    x = (F.relu(self.conv4(x)))\n",
    "    x = self.pool(x)\n",
    "    x = self.dropout1(x)\n",
    "\n",
    "    x = self.conv5(x)\n",
    "    \n",
    "    x = F.relu(self.batch_norm3(x))\n",
    "\n",
    "    x = self.conv6(x)\n",
    "    x1 = F.tanh(x)\n",
    "    \n",
    "    \n",
    "    x = F.relu(x)\n",
    "    x = self.pool(x)\n",
    "\n",
    "    x = x.view(x.size(0), -1)\n",
    "\n",
    "    x = self.dropout2(x)\n",
    "    x = F.relu(self.fc1(x))\n",
    "    x = F.relu(self.fc2(x))\n",
    "    x = self.dropout2(x)\n",
    "    x = F.relu(self.fc3(x))\n",
    "    x = self.fc4(x)\n",
    "    x = x[:,0] \n",
    "    # print(x.shape)\n",
    "    return x,x1"
   ]
  },
  {
   "cell_type": "code",
   "execution_count": 16,
   "id": "17ff5783",
   "metadata": {
    "execution": {
     "iopub.execute_input": "2021-09-03T07:00:30.608234Z",
     "iopub.status.busy": "2021-09-03T07:00:30.607532Z",
     "iopub.status.idle": "2021-09-03T07:00:35.285662Z",
     "shell.execute_reply": "2021-09-03T07:00:35.285190Z",
     "shell.execute_reply.started": "2021-09-03T06:44:52.357953Z"
    },
    "id": "1GvXR1zV5n4w",
    "papermill": {
     "duration": 4.71835,
     "end_time": "2021-09-03T07:00:35.285789",
     "exception": false,
     "start_time": "2021-09-03T07:00:30.567439",
     "status": "completed"
    },
    "tags": []
   },
   "outputs": [],
   "source": [
    "torch.manual_seed(n_seed)\n",
    "focus_net = Focus().double()\n",
    "focus_net = focus_net.to(\"cuda\")"
   ]
  },
  {
   "cell_type": "code",
   "execution_count": 17,
   "id": "3ca030d8",
   "metadata": {
    "execution": {
     "iopub.execute_input": "2021-09-03T07:00:35.380332Z",
     "iopub.status.busy": "2021-09-03T07:00:35.378719Z",
     "iopub.status.idle": "2021-09-03T07:00:35.381084Z",
     "shell.execute_reply": "2021-09-03T07:00:35.381502Z",
     "shell.execute_reply.started": "2021-09-03T06:44:54.045180Z"
    },
    "id": "LYdCXceZzSk9",
    "papermill": {
     "duration": 0.059073,
     "end_time": "2021-09-03T07:00:35.381654",
     "exception": false,
     "start_time": "2021-09-03T07:00:35.322581",
     "status": "completed"
    },
    "tags": []
   },
   "outputs": [],
   "source": [
    "class Classification(nn.Module):\n",
    "  def __init__(self):\n",
    "    super(Classification, self).__init__()\n",
    "    self.conv1 = nn.Conv2d(in_channels=256, out_channels=128, kernel_size=3, padding=1)\n",
    "    self.conv2 = nn.Conv2d(in_channels=128, out_channels=128, kernel_size=3, padding=1)\n",
    "    self.conv3 = nn.Conv2d(in_channels=128, out_channels=256, kernel_size=3, padding=1)\n",
    "    self.conv4 = nn.Conv2d(in_channels=256, out_channels=256, kernel_size=3, padding=1)\n",
    "    self.conv5 = nn.Conv2d(in_channels=256, out_channels=512, kernel_size=3, padding=1)\n",
    "    self.conv6 = nn.Conv2d(in_channels=512, out_channels=512, kernel_size=3, padding=1)\n",
    "    self.pool = nn.MaxPool2d(kernel_size=2, stride=2,padding=1)\n",
    "    self.batch_norm1 = nn.BatchNorm2d(128,track_running_stats=False)\n",
    "    self.batch_norm2 = nn.BatchNorm2d(256,track_running_stats=False)\n",
    "    self.batch_norm3 = nn.BatchNorm2d(512,track_running_stats=False)\n",
    "    self.dropout1 = nn.Dropout2d(p=0.05)\n",
    "    self.dropout2 = nn.Dropout2d(p=0.1)\n",
    "    self.global_average_pooling = nn.AvgPool2d(kernel_size=2)\n",
    "    self.fc1 = nn.Linear(512,128)\n",
    "    # self.fc2 = nn.Linear(128, 64)\n",
    "    # self.fc3 = nn.Linear(64, 10)\n",
    "    self.fc2 = nn.Linear(128, 3)\n",
    "\n",
    "    torch.nn.init.xavier_normal_(self.conv1.weight)\n",
    "    torch.nn.init.xavier_normal_(self.conv2.weight)\n",
    "    torch.nn.init.xavier_normal_(self.conv3.weight)\n",
    "    torch.nn.init.xavier_normal_(self.conv4.weight)\n",
    "    torch.nn.init.xavier_normal_(self.conv5.weight)\n",
    "    torch.nn.init.xavier_normal_(self.conv6.weight)\n",
    "\n",
    "    torch.nn.init.zeros_(self.conv1.bias)\n",
    "    torch.nn.init.zeros_(self.conv2.bias)\n",
    "    torch.nn.init.zeros_(self.conv3.bias)\n",
    "    torch.nn.init.zeros_(self.conv4.bias)\n",
    "    torch.nn.init.zeros_(self.conv5.bias)\n",
    "    torch.nn.init.zeros_(self.conv6.bias)\n",
    "\n",
    "\n",
    "    torch.nn.init.xavier_normal_(self.fc1.weight)\n",
    "    torch.nn.init.xavier_normal_(self.fc2.weight)\n",
    "    torch.nn.init.zeros_(self.fc1.bias)\n",
    "    torch.nn.init.zeros_(self.fc2.bias)\n",
    "\n",
    "\n",
    "  def forward(self, x):\n",
    "    x = self.conv1(x)\n",
    "    x = F.relu(self.batch_norm1(x))\n",
    "\n",
    "    x = (F.relu(self.conv2(x)))\n",
    "    x = self.pool(x)\n",
    "    \n",
    "    x = self.conv3(x)\n",
    "    x = F.relu(self.batch_norm2(x))\n",
    "\n",
    "    x = (F.relu(self.conv4(x)))\n",
    "    x = self.pool(x)\n",
    "    x = self.dropout1(x)\n",
    "\n",
    "    x = self.conv5(x)\n",
    "    x = F.relu(self.batch_norm3(x))\n",
    "\n",
    "    x = (F.relu(self.conv6(x)))\n",
    "    x = self.pool(x)\n",
    "    #print(x.shape)\n",
    "    x = self.global_average_pooling(x)\n",
    "    x = x.squeeze()\n",
    "    #x = x.view(x.size(0), -1)\n",
    "    #print(x.shape)\n",
    "    x = self.dropout2(x)\n",
    "    x = F.relu(self.fc1(x))\n",
    "    #x = F.relu(self.fc2(x))\n",
    "    #x = self.dropout2(x)\n",
    "    #x = F.relu(self.fc3(x))\n",
    "    x = self.fc2(x)\n",
    "    return x"
   ]
  },
  {
   "cell_type": "code",
   "execution_count": 18,
   "id": "5fb84bc1",
   "metadata": {
    "execution": {
     "iopub.execute_input": "2021-09-03T07:00:35.458542Z",
     "iopub.status.busy": "2021-09-03T07:00:35.457802Z",
     "iopub.status.idle": "2021-09-03T07:00:35.578892Z",
     "shell.execute_reply": "2021-09-03T07:00:35.578429Z",
     "shell.execute_reply.started": "2021-09-03T06:44:55.484579Z"
    },
    "id": "uPYplUGazU9I",
    "papermill": {
     "duration": 0.16138,
     "end_time": "2021-09-03T07:00:35.579037",
     "exception": false,
     "start_time": "2021-09-03T07:00:35.417657",
     "status": "completed"
    },
    "tags": []
   },
   "outputs": [],
   "source": [
    "torch.manual_seed(n_seed)\n",
    "classify = Classification().double()\n",
    "classify = classify.to(\"cuda\")"
   ]
  },
  {
   "cell_type": "code",
   "execution_count": 19,
   "id": "5167e563",
   "metadata": {
    "execution": {
     "iopub.execute_input": "2021-09-03T07:00:35.659252Z",
     "iopub.status.busy": "2021-09-03T07:00:35.658368Z",
     "iopub.status.idle": "2021-09-03T07:00:37.361332Z",
     "shell.execute_reply": "2021-09-03T07:00:37.360841Z",
     "shell.execute_reply.started": "2021-09-03T06:44:57.197963Z"
    },
    "id": "l789TLMP9zJX",
    "papermill": {
     "duration": 1.745425,
     "end_time": "2021-09-03T07:00:37.361467",
     "exception": false,
     "start_time": "2021-09-03T07:00:35.616042",
     "status": "completed"
    },
    "tags": []
   },
   "outputs": [],
   "source": [
    "test_images =[]        #list of mosaic images, each mosaic image is saved as laist of 9 images\n",
    "fore_idx_test =[]                   #list of indexes at which foreground image is present in a mosaic image                \n",
    "test_label=[]                # label of mosaic image = foreground class present in that mosaic\n",
    "for i in range(10000):\n",
    "  np.random.seed(i+30000)\n",
    "  bg_idx = np.random.randint(0,35000,8)\n",
    "  fg_idx = np.random.randint(0,15000)\n",
    "  fg = np.random.randint(0,9)\n",
    "  fore_idx_test.append(fg)\n",
    "  image_list,label = create_mosaic_img(bg_idx,fg_idx,fg)\n",
    "  test_images.append(image_list)\n",
    "  test_label.append(label)"
   ]
  },
  {
   "cell_type": "code",
   "execution_count": 20,
   "id": "96f94a1a",
   "metadata": {
    "execution": {
     "iopub.execute_input": "2021-09-03T07:00:37.438158Z",
     "iopub.status.busy": "2021-09-03T07:00:37.437581Z",
     "iopub.status.idle": "2021-09-03T07:00:37.441675Z",
     "shell.execute_reply": "2021-09-03T07:00:37.441249Z",
     "shell.execute_reply.started": "2021-09-03T06:45:00.248832Z"
    },
    "id": "bBzV9dKS5po7",
    "papermill": {
     "duration": 0.044079,
     "end_time": "2021-09-03T07:00:37.441797",
     "exception": false,
     "start_time": "2021-09-03T07:00:37.397718",
     "status": "completed"
    },
    "tags": []
   },
   "outputs": [],
   "source": [
    "test_data = MosaicDataset(test_images,test_label,fore_idx_test)\n",
    "test_loader = DataLoader( test_data,batch_size= batch ,shuffle=False)"
   ]
  },
  {
   "cell_type": "code",
   "execution_count": 21,
   "id": "37da2c86",
   "metadata": {
    "execution": {
     "iopub.execute_input": "2021-09-03T07:00:37.521320Z",
     "iopub.status.busy": "2021-09-03T07:00:37.519687Z",
     "iopub.status.idle": "2021-09-03T07:00:37.522215Z",
     "shell.execute_reply": "2021-09-03T07:00:37.522652Z",
     "shell.execute_reply.started": "2021-09-03T06:45:03.754940Z"
    },
    "id": "NIZAdWWL93SJ",
    "papermill": {
     "duration": 0.044081,
     "end_time": "2021-09-03T07:00:37.522788",
     "exception": false,
     "start_time": "2021-09-03T07:00:37.478707",
     "status": "completed"
    },
    "tags": []
   },
   "outputs": [],
   "source": [
    "criterion = nn.CrossEntropyLoss()"
   ]
  },
  {
   "cell_type": "code",
   "execution_count": 22,
   "id": "a06a73bb",
   "metadata": {
    "execution": {
     "iopub.execute_input": "2021-09-03T07:00:37.601204Z",
     "iopub.status.busy": "2021-09-03T07:00:37.600555Z",
     "iopub.status.idle": "2021-09-03T07:00:37.604386Z",
     "shell.execute_reply": "2021-09-03T07:00:37.603935Z",
     "shell.execute_reply.started": "2021-09-03T06:45:15.425036Z"
    },
    "id": "n5g3geNJ5zEu",
    "papermill": {
     "duration": 0.045151,
     "end_time": "2021-09-03T07:00:37.604498",
     "exception": false,
     "start_time": "2021-09-03T07:00:37.559347",
     "status": "completed"
    },
    "tags": []
   },
   "outputs": [],
   "source": [
    "import torch.optim as optim\n",
    "# criterion_classify = nn.CrossEntropyLoss()\n",
    "optimizer_focus = optim.Adam(focus_net.parameters(), lr=0.0005)#, momentum=0.9)\n",
    "optimizer_classify = optim.Adam(classify.parameters(), lr=0.0005)#, momentum=0.9)"
   ]
  },
  {
   "cell_type": "code",
   "execution_count": 23,
   "id": "b21332fb",
   "metadata": {
    "execution": {
     "iopub.execute_input": "2021-09-03T07:00:37.683212Z",
     "iopub.status.busy": "2021-09-03T07:00:37.682322Z",
     "iopub.status.idle": "2021-09-03T07:00:37.684943Z",
     "shell.execute_reply": "2021-09-03T07:00:37.684540Z",
     "shell.execute_reply.started": "2021-09-03T06:48:46.891117Z"
    },
    "id": "q8FurF4uDlOf",
    "papermill": {
     "duration": 0.04416,
     "end_time": "2021-09-03T07:00:37.685075",
     "exception": false,
     "start_time": "2021-09-03T07:00:37.640915",
     "status": "completed"
    },
    "tags": []
   },
   "outputs": [],
   "source": [
    "col1=[]\n",
    "col2=[]\n",
    "col3=[]\n",
    "col4=[]\n",
    "col5=[]\n",
    "col6=[]\n",
    "col7=[]\n",
    "col8=[]\n",
    "col9=[]\n",
    "col10=[]\n",
    "col11=[]\n",
    "col12=[]\n",
    "col13=[]\n",
    "col14 = [] # train average sparsity\n",
    "col15 = [] # test average sparsity\n",
    "\n"
   ]
  },
  {
   "cell_type": "code",
   "execution_count": 24,
   "id": "d772b58e",
   "metadata": {
    "execution": {
     "iopub.execute_input": "2021-09-03T07:00:37.775301Z",
     "iopub.status.busy": "2021-09-03T07:00:37.774695Z",
     "iopub.status.idle": "2021-09-03T07:01:05.297875Z",
     "shell.execute_reply": "2021-09-03T07:01:05.297461Z",
     "shell.execute_reply.started": "2021-09-03T06:48:48.202468Z"
    },
    "id": "u7wkoxckDlIg",
    "outputId": "8bd39cf0-6ed5-4baf-9ca9-2ef79eb52dad",
    "papermill": {
     "duration": 27.576495,
     "end_time": "2021-09-03T07:01:05.298022",
     "exception": false,
     "start_time": "2021-09-03T07:00:37.721527",
     "status": "completed"
    },
    "tags": []
   },
   "outputs": [
    {
     "name": "stdout",
     "output_type": "stream",
     "text": [
      "Accuracy of the network on the 30000 train images: 33.770000 %\n",
      "total correct 10131\n",
      "total train set images 30000\n",
      "focus_true_pred_true 2334 =============> FTPT : 7.780000 %\n",
      "focus_false_pred_true 7797 =============> FFPT : 25.990000 %\n",
      "focus_true_pred_false 3157 =============> FTPF : 10.523333 %\n",
      "focus_false_pred_false 16712 =============> FFPF : 55.706667 %\n",
      "Sparsity_Value 265373 =============> AVG Sparsity : 8.845767 \n",
      "argmax_more_than_half ==================>  456\n",
      "argmax_less_than_half ==================>  29544\n",
      "30000\n",
      "====================================================================================================\n"
     ]
    }
   ],
   "source": [
    "correct = 0\n",
    "total = 0\n",
    "count = 0\n",
    "flag = 1\n",
    "focus_true_pred_true =0\n",
    "focus_false_pred_true =0\n",
    "focus_true_pred_false =0\n",
    "focus_false_pred_false =0\n",
    "\n",
    "argmax_more_than_half = 0\n",
    "argmax_less_than_half =0\n",
    "sparse_val = 0 \n",
    "focus_net.eval()\n",
    "classify.eval()\n",
    "with torch.no_grad():\n",
    "  for data in train_loader:\n",
    "    inputs, labels , fore_idx = data\n",
    "    inputs = inputs.double()\n",
    "    inputs, labels , fore_idx = inputs.to(\"cuda\"),labels.to(\"cuda\"), fore_idx.to(\"cuda\")\n",
    "    alphas, avg_images = focus_net(inputs)\n",
    "    # print(inputs.shape, alphas.shape, avg_images.shape)\n",
    "    outputs = classify(avg_images)\n",
    "\n",
    "    _, predicted = torch.max(outputs.data, 1)\n",
    "    \n",
    "    sparse_val += torch.sum(torch.sum(alphas>0.01,dim=1)).item()\n",
    "\n",
    "\n",
    "    for j in range(labels.size(0)):\n",
    "      count += 1\n",
    "      focus = torch.argmax(alphas[j])\n",
    "      if alphas[j][focus] >= 0.5 :\n",
    "        argmax_more_than_half += 1\n",
    "      else:\n",
    "        argmax_less_than_half += 1\n",
    "\n",
    "      if(focus == fore_idx[j] and predicted[j] == labels[j]):\n",
    "          focus_true_pred_true += 1\n",
    "      elif(focus != fore_idx[j] and predicted[j] == labels[j]):\n",
    "        focus_false_pred_true += 1\n",
    "      elif(focus == fore_idx[j] and predicted[j] != labels[j]):\n",
    "        focus_true_pred_false += 1\n",
    "      elif(focus != fore_idx[j] and predicted[j] != labels[j]):\n",
    "        focus_false_pred_false += 1\n",
    "\n",
    "    total += labels.size(0)\n",
    "    correct += (predicted == labels).sum().item()\n",
    "\n",
    "print('Accuracy of the network on the 30000 train images: %f %%' % ( 100 * correct / total))\n",
    "print(\"total correct\", correct)\n",
    "print(\"total train set images\", total)\n",
    "\n",
    "print(\"focus_true_pred_true %d =============> FTPT : %f %%\" % (focus_true_pred_true , (100 * focus_true_pred_true / total) ) )\n",
    "print(\"focus_false_pred_true %d =============> FFPT : %f %%\" % (focus_false_pred_true, (100 * focus_false_pred_true / total) ) )\n",
    "print(\"focus_true_pred_false %d =============> FTPF : %f %%\" %( focus_true_pred_false , ( 100 * focus_true_pred_false / total) ) )\n",
    "print(\"focus_false_pred_false %d =============> FFPF : %f %%\" % (focus_false_pred_false, ( 100 * focus_false_pred_false / total) ) )\n",
    "print(\"Sparsity_Value %d =============> AVG Sparsity : %f \" % (sparse_val,(sparse_val)/total))\n",
    "print(\"argmax_more_than_half ==================> \",argmax_more_than_half)\n",
    "print(\"argmax_less_than_half ==================> \",argmax_less_than_half)\n",
    "print(count)\n",
    "\n",
    "print(\"=\"*100)\n",
    "\n",
    "col1.append(0)\n",
    "col2.append(argmax_more_than_half)\n",
    "col3.append(argmax_less_than_half)\n",
    "col4.append(focus_true_pred_true)\n",
    "col5.append(focus_false_pred_true)\n",
    "col6.append(focus_true_pred_false)\n",
    "col7.append(focus_false_pred_false)\n",
    "col14.append(sparse_val)"
   ]
  },
  {
   "cell_type": "code",
   "execution_count": 25,
   "id": "a551b203",
   "metadata": {
    "execution": {
     "iopub.execute_input": "2021-09-03T07:01:05.384779Z",
     "iopub.status.busy": "2021-09-03T07:01:05.383892Z",
     "iopub.status.idle": "2021-09-03T07:01:14.175596Z",
     "shell.execute_reply": "2021-09-03T07:01:14.174910Z",
     "shell.execute_reply.started": "2021-09-03T06:49:13.912068Z"
    },
    "id": "0S4x9oQuDlBa",
    "outputId": "c268f2ab-e59b-45bc-ecc0-1532f9dc95c9",
    "papermill": {
     "duration": 8.841399,
     "end_time": "2021-09-03T07:01:14.175759",
     "exception": false,
     "start_time": "2021-09-03T07:01:05.334360",
     "status": "completed"
    },
    "tags": []
   },
   "outputs": [
    {
     "name": "stdout",
     "output_type": "stream",
     "text": [
      "Accuracy of the network on the 10000 test images: 33.560000 %\n",
      "total correct 3356\n",
      "total test set images 10000\n",
      "focus_true_pred_true 775 =============> FTPT : 7.750000 %\n",
      "focus_false_pred_true 2581 =============> FFPT : 25.810000 %\n",
      "focus_true_pred_false 1054 =============> FTPF : 10.540000 %\n",
      "focus_false_pred_false 5590 =============> FFPF : 55.900000 %\n",
      "Sparsity_Value 88481 =============> AVG Sparsity : 8.848100 \n",
      "argmax_more_than_half ==================>  169\n",
      "argmax_less_than_half ==================>  9831\n"
     ]
    }
   ],
   "source": [
    "correct = 0\n",
    "total = 0\n",
    "count = 0\n",
    "flag = 1\n",
    "focus_true_pred_true =0\n",
    "focus_false_pred_true =0\n",
    "focus_true_pred_false =0\n",
    "focus_false_pred_false =0\n",
    "\n",
    "argmax_more_than_half = 0\n",
    "argmax_less_than_half =0\n",
    "sparse_val = 0\n",
    "focus_net.eval()\n",
    "classify.eval()\n",
    "with torch.no_grad():\n",
    "  for data in test_loader:\n",
    "    inputs, labels , fore_idx = data\n",
    "    inputs = inputs.double()\n",
    "    inputs, labels , fore_idx = inputs.to(\"cuda\"),labels.to(\"cuda\"), fore_idx.to(\"cuda\")\n",
    "    alphas, avg_images = focus_net(inputs)\n",
    "    outputs = classify(avg_images)\n",
    "\n",
    "    _, predicted = torch.max(outputs.data, 1)\n",
    "    \n",
    "    sparse_val += torch.sum(torch.sum(alphas>0.01,dim=1)).item()\n",
    "\n",
    "    for j in range(labels.size(0)):\n",
    "      focus = torch.argmax(alphas[j])\n",
    "      if alphas[j][focus] >= 0.5 :\n",
    "        argmax_more_than_half += 1\n",
    "      else:\n",
    "        argmax_less_than_half += 1\n",
    "\n",
    "      if(focus == fore_idx[j] and predicted[j] == labels[j]):\n",
    "          focus_true_pred_true += 1\n",
    "      elif(focus != fore_idx[j] and predicted[j] == labels[j]):\n",
    "        focus_false_pred_true += 1\n",
    "      elif(focus == fore_idx[j] and predicted[j] != labels[j]):\n",
    "        focus_true_pred_false += 1\n",
    "      elif(focus != fore_idx[j] and predicted[j] != labels[j]):\n",
    "        focus_false_pred_false += 1\n",
    "\n",
    "    total += labels.size(0)\n",
    "    correct += (predicted == labels).sum().item()\n",
    "\n",
    "print('Accuracy of the network on the 10000 test images: %f %%' % (\n",
    "    100 * correct / total))\n",
    "print(\"total correct\", correct)\n",
    "print(\"total test set images\", total)\n",
    "\n",
    "print(\"focus_true_pred_true %d =============> FTPT : %f %%\" % (focus_true_pred_true , (100 * focus_true_pred_true / total) ) )\n",
    "print(\"focus_false_pred_true %d =============> FFPT : %f %%\" % (focus_false_pred_true, (100 * focus_false_pred_true / total) ) )\n",
    "print(\"focus_true_pred_false %d =============> FTPF : %f %%\" %( focus_true_pred_false , ( 100 * focus_true_pred_false / total) ) )\n",
    "print(\"focus_false_pred_false %d =============> FFPF : %f %%\" % (focus_false_pred_false, ( 100 * focus_false_pred_false / total) ) )\n",
    "print(\"Sparsity_Value %d =============> AVG Sparsity : %f \" % (sparse_val,(sparse_val)/total))\n",
    "print(\"argmax_more_than_half ==================> \",argmax_more_than_half)\n",
    "print(\"argmax_less_than_half ==================> \",argmax_less_than_half)\n",
    "col8.append(argmax_more_than_half)\n",
    "col9.append(argmax_less_than_half)\n",
    "col10.append(focus_true_pred_true)\n",
    "col11.append(focus_false_pred_true)\n",
    "col12.append(focus_true_pred_false)\n",
    "col13.append(focus_false_pred_false)\n",
    "col15.append(sparse_val)"
   ]
  },
  {
   "cell_type": "code",
   "execution_count": 26,
   "id": "bd40d9d9",
   "metadata": {
    "execution": {
     "iopub.execute_input": "2021-09-03T07:01:14.273571Z",
     "iopub.status.busy": "2021-09-03T07:01:14.272666Z",
     "iopub.status.idle": "2021-09-03T07:18:55.070645Z",
     "shell.execute_reply": "2021-09-03T07:18:55.071289Z",
     "shell.execute_reply.started": "2021-09-03T06:49:22.604756Z"
    },
    "id": "tFfAJZkcZEsY",
    "outputId": "439eba9f-f882-4ed4-b553-fa100981260a",
    "papermill": {
     "duration": 1060.857772,
     "end_time": "2021-09-03T07:18:55.071512",
     "exception": false,
     "start_time": "2021-09-03T07:01:14.213740",
     "status": "completed"
    },
    "tags": []
   },
   "outputs": [
    {
     "name": "stdout",
     "output_type": "stream",
     "text": [
      "[1,    60] loss: 1.065\n",
      "[1,   120] loss: 0.833\n",
      "[2,    60] loss: 0.686\n",
      "[2,   120] loss: 0.583\n",
      "[3,    60] loss: 0.459\n",
      "[3,   120] loss: 0.418\n",
      "[4,    60] loss: 0.333\n",
      "[4,   120] loss: 0.310\n",
      "[5,    60] loss: 0.239\n",
      "[5,   120] loss: 0.238\n",
      "[6,    60] loss: 0.185\n",
      "[6,   120] loss: 0.186\n",
      "[7,    60] loss: 0.150\n",
      "[7,   120] loss: 0.159\n",
      "[8,    60] loss: 0.125\n",
      "[8,   120] loss: 0.122\n",
      "[9,    60] loss: 0.090\n",
      "[9,   120] loss: 0.108\n",
      "[10,    60] loss: 0.084\n",
      "[10,   120] loss: 0.086\n",
      "[11,    60] loss: 0.070\n",
      "[11,   120] loss: 0.071\n",
      "[12,    60] loss: 0.058\n",
      "[12,   120] loss: 0.064\n",
      "[13,    60] loss: 0.055\n",
      "[13,   120] loss: 0.059\n",
      "[14,    60] loss: 0.055\n",
      "[14,   120] loss: 0.058\n",
      "[15,    60] loss: 0.038\n",
      "[15,   120] loss: 0.062\n",
      "[16,    60] loss: 0.042\n",
      "[16,   120] loss: 0.041\n",
      "Finished Training\n"
     ]
    }
   ],
   "source": [
    "nos_epochs = 50\n",
    "focus_true_pred_true =0\n",
    "focus_false_pred_true =0\n",
    "focus_true_pred_false =0\n",
    "focus_false_pred_false =0\n",
    "\n",
    "argmax_more_than_half = 0\n",
    "argmax_less_than_half =0\n",
    "focus_net.train()\n",
    "classify.train()\n",
    "tr_loss = []\n",
    "\n",
    "\n",
    "for epoch in range(nos_epochs):  # loop over the dataset multiple times\n",
    "  focus_net.train()\n",
    "  classify.train()\n",
    "  focus_true_pred_true =0\n",
    "  focus_false_pred_true =0\n",
    "  focus_true_pred_false =0\n",
    "  focus_false_pred_false =0\n",
    "  \n",
    "  argmax_more_than_half = 0\n",
    "  argmax_less_than_half =0\n",
    "  sparse_val = 0 \n",
    "  \n",
    "  running_loss = 0.0\n",
    "  epoch_loss = []\n",
    "  cnt=0\n",
    "\n",
    "  iteration = desired_num // batch\n",
    "  \n",
    "  #training data set\n",
    "  \n",
    "  for i, data in  enumerate(train_loader):\n",
    "    inputs , labels , fore_idx = data\n",
    "    inputs = inputs.double()\n",
    "    inputs, labels = inputs.to(\"cuda\"), labels.to(\"cuda\")\n",
    "    # zero the parameter gradients\n",
    "    optimizer_focus.zero_grad()\n",
    "    optimizer_classify.zero_grad()\n",
    "    alphas, avg_images = focus_net(inputs)\n",
    "    outputs = classify(avg_images)\n",
    "    \n",
    "    \n",
    "\n",
    "    _, predicted = torch.max(outputs.data, 1)\n",
    "\n",
    "    loss = criterion(outputs, labels)\n",
    "    loss.backward()\n",
    "    optimizer_focus.step()\n",
    "    optimizer_classify.step()\n",
    "\n",
    "    running_loss += loss.item()\n",
    "    mini = 60\n",
    "    if cnt % mini == mini-1:    # print every 40 mini-batches\n",
    "      print('[%d, %5d] loss: %.3f' %(epoch + 1, cnt + 1, running_loss / mini))\n",
    "      epoch_loss.append(running_loss/mini)\n",
    "      running_loss = 0.0\n",
    "    cnt=cnt+1\n",
    "    \n",
    "    \n",
    "    if epoch % 1 == 0:\n",
    "      sparse_val += torch.sum(torch.sum(alphas>0.01,dim=1)).item()\n",
    "      for j in range (batch):\n",
    "        focus = torch.argmax(alphas[j])\n",
    "\n",
    "        if(alphas[j][focus] >= 0.5):\n",
    "          argmax_more_than_half +=1\n",
    "        else:\n",
    "          argmax_less_than_half +=1\n",
    "\n",
    "        if(focus == fore_idx[j] and predicted[j] == labels[j]):\n",
    "          focus_true_pred_true += 1\n",
    "\n",
    "        elif(focus != fore_idx[j] and predicted[j] == labels[j]):\n",
    "          focus_false_pred_true +=1\n",
    "\n",
    "        elif(focus == fore_idx[j] and predicted[j] != labels[j]):\n",
    "          focus_true_pred_false +=1\n",
    "\n",
    "        elif(focus != fore_idx[j] and predicted[j] != labels[j]):\n",
    "          focus_false_pred_false +=1\n",
    "\n",
    "\n",
    "  tr_loss.append(np.mean(epoch_loss))\n",
    "  if epoch % 1 == 0:\n",
    "    col1.append(epoch+1)\n",
    "    col2.append(argmax_more_than_half)\n",
    "    col3.append(argmax_less_than_half)\n",
    "    col4.append(focus_true_pred_true)\n",
    "    col5.append(focus_false_pred_true)\n",
    "    col6.append(focus_true_pred_false)\n",
    "    col7.append(focus_false_pred_false)\n",
    "    col14.append(sparse_val)\n",
    "  \n",
    "    #************************************************************************\n",
    "    #testing data set \n",
    "    focus_net.eval()\n",
    "    classify.eval() \n",
    "    with torch.no_grad():\n",
    "      focus_true_pred_true =0\n",
    "      focus_false_pred_true =0\n",
    "      focus_true_pred_false =0\n",
    "      focus_false_pred_false =0\n",
    "\n",
    "      argmax_more_than_half = 0\n",
    "      argmax_less_than_half =0\n",
    "      sparse_val = 0\n",
    "      for data in test_loader:\n",
    "        inputs, labels , fore_idx = data\n",
    "        inputs = inputs.double()\n",
    "        inputs, labels = inputs.to(\"cuda\"), labels.to(\"cuda\")\n",
    "        alphas, avg_images = focus_net(inputs)\n",
    "        outputs = classify(avg_images)\n",
    "        #outputs, alphas, avg_images = classify(inputs)\n",
    "        _, predicted = torch.max(outputs.data, 1)\n",
    "        sparse_val += torch.sum(torch.sum(alphas>0.01,dim=1)).item()\n",
    "        for j in range (batch):\n",
    "          focus = torch.argmax(alphas[j])\n",
    "\n",
    "          if(alphas[j][focus] >= 0.5):\n",
    "            argmax_more_than_half +=1\n",
    "          else:\n",
    "            argmax_less_than_half +=1\n",
    "\n",
    "          if(focus == fore_idx[j] and predicted[j] == labels[j]):\n",
    "            focus_true_pred_true += 1\n",
    "\n",
    "          elif(focus != fore_idx[j] and predicted[j] == labels[j]):\n",
    "            focus_false_pred_true +=1\n",
    "\n",
    "          elif(focus == fore_idx[j] and predicted[j] != labels[j]):\n",
    "            focus_true_pred_false +=1\n",
    "\n",
    "          elif(focus != fore_idx[j] and predicted[j] != labels[j]):\n",
    "            focus_false_pred_false +=1\n",
    "      \n",
    "    col8.append(argmax_more_than_half)\n",
    "    col9.append(argmax_less_than_half)\n",
    "    col10.append(focus_true_pred_true)\n",
    "    col11.append(focus_false_pred_true)\n",
    "    col12.append(focus_true_pred_false)\n",
    "    col13.append(focus_false_pred_false)\n",
    "    col15.append(sparse_val)\n",
    "  if(np.mean(epoch_loss) <= 0.05):\n",
    "    break;\n",
    "print('Finished Training') "
   ]
  },
  {
   "cell_type": "code",
   "execution_count": 27,
   "id": "61866dc7",
   "metadata": {
    "execution": {
     "iopub.execute_input": "2021-09-03T07:18:55.170872Z",
     "iopub.status.busy": "2021-09-03T07:18:55.170359Z",
     "iopub.status.idle": "2021-09-03T07:18:55.289422Z",
     "shell.execute_reply": "2021-09-03T07:18:55.288904Z",
     "shell.execute_reply.started": "2021-09-03T06:51:35.629374Z"
    },
    "id": "WIAJ3UZN8rPE",
    "papermill": {
     "duration": 0.169361,
     "end_time": "2021-09-03T07:18:55.289552",
     "exception": false,
     "start_time": "2021-09-03T07:18:55.120191",
     "status": "completed"
    },
    "tags": []
   },
   "outputs": [],
   "source": [
    "torch.save(focus_net.state_dict(),path+\"weights_focus_0.pt\")  \n",
    "torch.save(classify.state_dict(),path+\"weights_classify_0.pt\")"
   ]
  },
  {
   "cell_type": "code",
   "execution_count": 28,
   "id": "197e8a17",
   "metadata": {
    "execution": {
     "iopub.execute_input": "2021-09-03T07:18:55.383610Z",
     "iopub.status.busy": "2021-09-03T07:18:55.383037Z",
     "iopub.status.idle": "2021-09-03T07:18:55.387005Z",
     "shell.execute_reply": "2021-09-03T07:18:55.386563Z",
     "shell.execute_reply.started": "2021-09-03T06:51:35.764079Z"
    },
    "id": "2LgQKXW-8MH-",
    "papermill": {
     "duration": 0.052401,
     "end_time": "2021-09-03T07:18:55.387117",
     "exception": false,
     "start_time": "2021-09-03T07:18:55.334716",
     "status": "completed"
    },
    "tags": []
   },
   "outputs": [],
   "source": [
    "columns = [\"epochs\", \"argmax > 0.5\" ,\"argmax < 0.5\", \"focus_true_pred_true\", \"focus_false_pred_true\", \"focus_true_pred_false\", \"focus_false_pred_false\" ,\"sparse_val\"]"
   ]
  },
  {
   "cell_type": "code",
   "execution_count": 29,
   "id": "9199fa39",
   "metadata": {
    "execution": {
     "iopub.execute_input": "2021-09-03T07:18:55.489098Z",
     "iopub.status.busy": "2021-09-03T07:18:55.488225Z",
     "iopub.status.idle": "2021-09-03T07:18:55.491017Z",
     "shell.execute_reply": "2021-09-03T07:18:55.490569Z",
     "shell.execute_reply.started": "2021-09-03T06:51:35.770638Z"
    },
    "id": "tSKphM888Y5o",
    "papermill": {
     "duration": 0.055892,
     "end_time": "2021-09-03T07:18:55.491130",
     "exception": false,
     "start_time": "2021-09-03T07:18:55.435238",
     "status": "completed"
    },
    "tags": []
   },
   "outputs": [],
   "source": [
    "df_train = pd.DataFrame()\n",
    "df_test = pd.DataFrame()"
   ]
  },
  {
   "cell_type": "code",
   "execution_count": 30,
   "id": "5876d0b2",
   "metadata": {
    "execution": {
     "iopub.execute_input": "2021-09-03T07:18:55.586567Z",
     "iopub.status.busy": "2021-09-03T07:18:55.585789Z",
     "iopub.status.idle": "2021-09-03T07:18:55.590622Z",
     "shell.execute_reply": "2021-09-03T07:18:55.590189Z",
     "shell.execute_reply.started": "2021-09-03T06:51:35.784191Z"
    },
    "id": "lLSfxf-zE_D1",
    "outputId": "6cc73d7a-7d81-4717-b408-62a37e00b418",
    "papermill": {
     "duration": 0.054252,
     "end_time": "2021-09-03T07:18:55.590736",
     "exception": false,
     "start_time": "2021-09-03T07:18:55.536484",
     "status": "completed"
    },
    "tags": []
   },
   "outputs": [
    {
     "data": {
      "text/plain": [
       "(17,\n",
       " [9831,\n",
       "  6024,\n",
       "  4056,\n",
       "  3039,\n",
       "  2741,\n",
       "  2960,\n",
       "  2381,\n",
       "  2578,\n",
       "  2108,\n",
       "  2797,\n",
       "  2118,\n",
       "  2206,\n",
       "  2370,\n",
       "  2272,\n",
       "  2148,\n",
       "  2106,\n",
       "  2625])"
      ]
     },
     "execution_count": 30,
     "metadata": {},
     "output_type": "execute_result"
    }
   ],
   "source": [
    "len(col1),col9"
   ]
  },
  {
   "cell_type": "code",
   "execution_count": 31,
   "id": "e66c2bea",
   "metadata": {
    "execution": {
     "iopub.execute_input": "2021-09-03T07:18:55.702407Z",
     "iopub.status.busy": "2021-09-03T07:18:55.701358Z",
     "iopub.status.idle": "2021-09-03T07:18:55.827958Z",
     "shell.execute_reply": "2021-09-03T07:18:55.828398Z",
     "shell.execute_reply.started": "2021-09-03T06:51:35.798546Z"
    },
    "id": "eBFPNm12uBR3",
    "outputId": "735aba44-f94b-4f5a-fba8-e954fe4c4c56",
    "papermill": {
     "duration": 0.19062,
     "end_time": "2021-09-03T07:18:55.828546",
     "exception": false,
     "start_time": "2021-09-03T07:18:55.637926",
     "status": "completed"
    },
    "tags": []
   },
   "outputs": [
    {
     "data": {
      "image/png": "[encoded data removed]",
      "text/plain": [
       "<Figure size 432x288 with 1 Axes>"
      ]
     },
     "metadata": {
      "needs_background": "light"
     },
     "output_type": "display_data"
    }
   ],
   "source": [
    "plt.plot(np.arange(1,epoch+2),tr_loss)\n",
    "plt.xlabel(\"epochs\", fontsize=14, fontweight = 'bold')\n",
    "plt.ylabel(\"Loss\", fontsize=14, fontweight = 'bold')\n",
    "plt.title(\"Train Loss\")\n",
    "#plt.grid()\n",
    "plt.show()"
   ]
  },
  {
   "cell_type": "code",
   "execution_count": 32,
   "id": "114db0d6",
   "metadata": {
    "execution": {
     "iopub.execute_input": "2021-09-03T07:18:55.926890Z",
     "iopub.status.busy": "2021-09-03T07:18:55.926225Z",
     "iopub.status.idle": "2021-09-03T07:18:55.929139Z",
     "shell.execute_reply": "2021-09-03T07:18:55.928661Z",
     "shell.execute_reply.started": "2021-09-03T06:51:35.929289Z"
    },
    "id": "dqTXDm-EuBR3",
    "papermill": {
     "duration": 0.054538,
     "end_time": "2021-09-03T07:18:55.929262",
     "exception": false,
     "start_time": "2021-09-03T07:18:55.874724",
     "status": "completed"
    },
    "tags": []
   },
   "outputs": [],
   "source": [
    "np.save(\"train_loss.npy\",{\"training_loss\":tr_loss})"
   ]
  },
  {
   "cell_type": "code",
   "execution_count": 33,
   "id": "cfdc15d7",
   "metadata": {
    "execution": {
     "iopub.execute_input": "2021-09-03T07:18:56.046238Z",
     "iopub.status.busy": "2021-09-03T07:18:56.037202Z",
     "iopub.status.idle": "2021-09-03T07:18:56.048898Z",
     "shell.execute_reply": "2021-09-03T07:18:56.048480Z",
     "shell.execute_reply.started": "2021-09-03T06:51:35.936130Z"
    },
    "id": "FrWoEGXZ8cBO",
    "papermill": {
     "duration": 0.072642,
     "end_time": "2021-09-03T07:18:56.049036",
     "exception": false,
     "start_time": "2021-09-03T07:18:55.976394",
     "status": "completed"
    },
    "tags": []
   },
   "outputs": [],
   "source": [
    "df_train[columns[0]] = col1\n",
    "df_train[columns[1]] = col2\n",
    "df_train[columns[2]] = col3\n",
    "df_train[columns[3]] = col4\n",
    "df_train[columns[4]] = col5\n",
    "df_train[columns[5]] = col6\n",
    "df_train[columns[6]] = col7\n",
    "df_train[columns[7]] = col14\n",
    "\n",
    "df_test[columns[0]] = col1\n",
    "df_test[columns[1]] = col8\n",
    "df_test[columns[2]] = col9\n",
    "df_test[columns[3]] = col10\n",
    "df_test[columns[4]] = col11\n",
    "df_test[columns[5]] = col12\n",
    "df_test[columns[6]] = col13\n",
    "df_test[columns[7]] = col15"
   ]
  },
  {
   "cell_type": "code",
   "execution_count": 34,
   "id": "ed2537ff",
   "metadata": {
    "execution": {
     "iopub.execute_input": "2021-09-03T07:18:56.207594Z",
     "iopub.status.busy": "2021-09-03T07:18:56.206736Z",
     "iopub.status.idle": "2021-09-03T07:18:56.236968Z",
     "shell.execute_reply": "2021-09-03T07:18:56.237990Z",
     "shell.execute_reply.started": "2021-09-03T06:51:35.955883Z"
    },
    "id": "RGJoMFcK8eTe",
    "outputId": "cc5796ba-3e97-427e-8d8e-19adff2822c2",
    "papermill": {
     "duration": 0.114603,
     "end_time": "2021-09-03T07:18:56.238193",
     "exception": false,
     "start_time": "2021-09-03T07:18:56.123590",
     "status": "completed"
    },
    "tags": []
   },
   "outputs": [
    {
     "data": {
      "text/html": [
       "<div>\n",
       "<style scoped>\n",
       "    .dataframe tbody tr th:only-of-type {\n",
       "        vertical-align: middle;\n",
       "    }\n",
       "\n",
       "    .dataframe tbody tr th {\n",
       "        vertical-align: top;\n",
       "    }\n",
       "\n",
       "    .dataframe thead th {\n",
       "        text-align: right;\n",
       "    }\n",
       "</style>\n",
       "<table border=\"1\" class=\"dataframe\">\n",
       "  <thead>\n",
       "    <tr style=\"text-align: right;\">\n",
       "      <th></th>\n",
       "      <th>epochs</th>\n",
       "      <th>argmax &gt; 0.5</th>\n",
       "      <th>argmax &lt; 0.5</th>\n",
       "      <th>focus_true_pred_true</th>\n",
       "      <th>focus_false_pred_true</th>\n",
       "      <th>focus_true_pred_false</th>\n",
       "      <th>focus_false_pred_false</th>\n",
       "      <th>sparse_val</th>\n",
       "    </tr>\n",
       "  </thead>\n",
       "  <tbody>\n",
       "    <tr>\n",
       "      <th>0</th>\n",
       "      <td>0</td>\n",
       "      <td>456</td>\n",
       "      <td>29544</td>\n",
       "      <td>2334</td>\n",
       "      <td>7797</td>\n",
       "      <td>3157</td>\n",
       "      <td>16712</td>\n",
       "      <td>265373</td>\n",
       "    </tr>\n",
       "    <tr>\n",
       "      <th>1</th>\n",
       "      <td>1</td>\n",
       "      <td>9001</td>\n",
       "      <td>20999</td>\n",
       "      <td>7884</td>\n",
       "      <td>8135</td>\n",
       "      <td>3407</td>\n",
       "      <td>10574</td>\n",
       "      <td>236480</td>\n",
       "    </tr>\n",
       "    <tr>\n",
       "      <th>2</th>\n",
       "      <td>2</td>\n",
       "      <td>14149</td>\n",
       "      <td>15851</td>\n",
       "      <td>15067</td>\n",
       "      <td>6638</td>\n",
       "      <td>2865</td>\n",
       "      <td>5430</td>\n",
       "      <td>229424</td>\n",
       "    </tr>\n",
       "    <tr>\n",
       "      <th>3</th>\n",
       "      <td>3</td>\n",
       "      <td>18930</td>\n",
       "      <td>11070</td>\n",
       "      <td>18670</td>\n",
       "      <td>5910</td>\n",
       "      <td>2004</td>\n",
       "      <td>3416</td>\n",
       "      <td>199669</td>\n",
       "    </tr>\n",
       "    <tr>\n",
       "      <th>4</th>\n",
       "      <td>4</td>\n",
       "      <td>20318</td>\n",
       "      <td>9682</td>\n",
       "      <td>20748</td>\n",
       "      <td>5408</td>\n",
       "      <td>1549</td>\n",
       "      <td>2295</td>\n",
       "      <td>193121</td>\n",
       "    </tr>\n",
       "    <tr>\n",
       "      <th>5</th>\n",
       "      <td>5</td>\n",
       "      <td>21811</td>\n",
       "      <td>8189</td>\n",
       "      <td>22275</td>\n",
       "      <td>4962</td>\n",
       "      <td>1037</td>\n",
       "      <td>1726</td>\n",
       "      <td>175980</td>\n",
       "    </tr>\n",
       "    <tr>\n",
       "      <th>6</th>\n",
       "      <td>6</td>\n",
       "      <td>22570</td>\n",
       "      <td>7430</td>\n",
       "      <td>23207</td>\n",
       "      <td>4749</td>\n",
       "      <td>762</td>\n",
       "      <td>1282</td>\n",
       "      <td>165379</td>\n",
       "    </tr>\n",
       "    <tr>\n",
       "      <th>7</th>\n",
       "      <td>7</td>\n",
       "      <td>22535</td>\n",
       "      <td>7465</td>\n",
       "      <td>23750</td>\n",
       "      <td>4560</td>\n",
       "      <td>649</td>\n",
       "      <td>1041</td>\n",
       "      <td>169582</td>\n",
       "    </tr>\n",
       "    <tr>\n",
       "      <th>8</th>\n",
       "      <td>8</td>\n",
       "      <td>23105</td>\n",
       "      <td>6895</td>\n",
       "      <td>24194</td>\n",
       "      <td>4491</td>\n",
       "      <td>520</td>\n",
       "      <td>795</td>\n",
       "      <td>162050</td>\n",
       "    </tr>\n",
       "    <tr>\n",
       "      <th>9</th>\n",
       "      <td>9</td>\n",
       "      <td>23016</td>\n",
       "      <td>6984</td>\n",
       "      <td>24688</td>\n",
       "      <td>4274</td>\n",
       "      <td>396</td>\n",
       "      <td>642</td>\n",
       "      <td>164692</td>\n",
       "    </tr>\n",
       "    <tr>\n",
       "      <th>10</th>\n",
       "      <td>10</td>\n",
       "      <td>22968</td>\n",
       "      <td>7032</td>\n",
       "      <td>24775</td>\n",
       "      <td>4317</td>\n",
       "      <td>372</td>\n",
       "      <td>536</td>\n",
       "      <td>166472</td>\n",
       "    </tr>\n",
       "    <tr>\n",
       "      <th>11</th>\n",
       "      <td>11</td>\n",
       "      <td>23601</td>\n",
       "      <td>6399</td>\n",
       "      <td>25233</td>\n",
       "      <td>4034</td>\n",
       "      <td>275</td>\n",
       "      <td>458</td>\n",
       "      <td>156780</td>\n",
       "    </tr>\n",
       "    <tr>\n",
       "      <th>12</th>\n",
       "      <td>12</td>\n",
       "      <td>22856</td>\n",
       "      <td>7144</td>\n",
       "      <td>25134</td>\n",
       "      <td>4224</td>\n",
       "      <td>254</td>\n",
       "      <td>388</td>\n",
       "      <td>171194</td>\n",
       "    </tr>\n",
       "    <tr>\n",
       "      <th>13</th>\n",
       "      <td>13</td>\n",
       "      <td>23235</td>\n",
       "      <td>6765</td>\n",
       "      <td>25243</td>\n",
       "      <td>4176</td>\n",
       "      <td>251</td>\n",
       "      <td>330</td>\n",
       "      <td>166479</td>\n",
       "    </tr>\n",
       "    <tr>\n",
       "      <th>14</th>\n",
       "      <td>14</td>\n",
       "      <td>23294</td>\n",
       "      <td>6706</td>\n",
       "      <td>25274</td>\n",
       "      <td>4151</td>\n",
       "      <td>249</td>\n",
       "      <td>326</td>\n",
       "      <td>164576</td>\n",
       "    </tr>\n",
       "    <tr>\n",
       "      <th>15</th>\n",
       "      <td>15</td>\n",
       "      <td>23114</td>\n",
       "      <td>6886</td>\n",
       "      <td>25449</td>\n",
       "      <td>4046</td>\n",
       "      <td>222</td>\n",
       "      <td>283</td>\n",
       "      <td>171628</td>\n",
       "    </tr>\n",
       "    <tr>\n",
       "      <th>16</th>\n",
       "      <td>16</td>\n",
       "      <td>23383</td>\n",
       "      <td>6617</td>\n",
       "      <td>25696</td>\n",
       "      <td>3871</td>\n",
       "      <td>183</td>\n",
       "      <td>250</td>\n",
       "      <td>168423</td>\n",
       "    </tr>\n",
       "  </tbody>\n",
       "</table>\n",
       "</div>"
      ],
      "text/plain": [
       "    epochs  argmax > 0.5  argmax < 0.5  focus_true_pred_true  \\\n",
       "0        0           456         29544                  2334   \n",
       "1        1          9001         20999                  7884   \n",
       "2        2         14149         15851                 15067   \n",
       "3        3         18930         11070                 18670   \n",
       "4        4         20318          9682                 20748   \n",
       "5        5         21811          8189                 22275   \n",
       "6        6         22570          7430                 23207   \n",
       "7        7         22535          7465                 23750   \n",
       "8        8         23105          6895                 24194   \n",
       "9        9         23016          6984                 24688   \n",
       "10      10         22968          7032                 24775   \n",
       "11      11         23601          6399                 25233   \n",
       "12      12         22856          7144                 25134   \n",
       "13      13         23235          6765                 25243   \n",
       "14      14         23294          6706                 25274   \n",
       "15      15         23114          6886                 25449   \n",
       "16      16         23383          6617                 25696   \n",
       "\n",
       "    focus_false_pred_true  focus_true_pred_false  focus_false_pred_false  \\\n",
       "0                    7797                   3157                   16712   \n",
       "1                    8135                   3407                   10574   \n",
       "2                    6638                   2865                    5430   \n",
       "3                    5910                   2004                    3416   \n",
       "4                    5408                   1549                    2295   \n",
       "5                    4962                   1037                    1726   \n",
       "6                    4749                    762                    1282   \n",
       "7                    4560                    649                    1041   \n",
       "8                    4491                    520                     795   \n",
       "9                    4274                    396                     642   \n",
       "10                   4317                    372                     536   \n",
       "11                   4034                    275                     458   \n",
       "12                   4224                    254                     388   \n",
       "13                   4176                    251                     330   \n",
       "14                   4151                    249                     326   \n",
       "15                   4046                    222                     283   \n",
       "16                   3871                    183                     250   \n",
       "\n",
       "    sparse_val  \n",
       "0       265373  \n",
       "1       236480  \n",
       "2       229424  \n",
       "3       199669  \n",
       "4       193121  \n",
       "5       175980  \n",
       "6       165379  \n",
       "7       169582  \n",
       "8       162050  \n",
       "9       164692  \n",
       "10      166472  \n",
       "11      156780  \n",
       "12      171194  \n",
       "13      166479  \n",
       "14      164576  \n",
       "15      171628  \n",
       "16      168423  "
      ]
     },
     "execution_count": 34,
     "metadata": {},
     "output_type": "execute_result"
    }
   ],
   "source": [
    "df_train"
   ]
  },
  {
   "cell_type": "code",
   "execution_count": 35,
   "id": "3f714469",
   "metadata": {
    "execution": {
     "iopub.execute_input": "2021-09-03T07:18:56.399941Z",
     "iopub.status.busy": "2021-09-03T07:18:56.399036Z",
     "iopub.status.idle": "2021-09-03T07:18:56.404633Z",
     "shell.execute_reply": "2021-09-03T07:18:56.405788Z",
     "shell.execute_reply.started": "2021-09-03T06:51:35.977960Z"
    },
    "id": "cqrSQSNemDNp",
    "papermill": {
     "duration": 0.093104,
     "end_time": "2021-09-03T07:18:56.406039",
     "exception": false,
     "start_time": "2021-09-03T07:18:56.312935",
     "status": "completed"
    },
    "tags": []
   },
   "outputs": [],
   "source": [
    "df_train.to_csv(path+\"_train.csv\",index=False)"
   ]
  },
  {
   "cell_type": "code",
   "execution_count": 36,
   "id": "81c3189e",
   "metadata": {
    "execution": {
     "iopub.execute_input": "2021-09-03T07:18:56.588304Z",
     "iopub.status.busy": "2021-09-03T07:18:56.587356Z",
     "iopub.status.idle": "2021-09-03T07:18:56.855220Z",
     "shell.execute_reply": "2021-09-03T07:18:56.856461Z",
     "shell.execute_reply.started": "2021-09-03T06:51:35.987463Z"
    },
    "id": "Ei9HVQBZ8gn4",
    "outputId": "49460fbd-6e36-4fa5-dd2d-7d7937fb5089",
    "papermill": {
     "duration": 0.365383,
     "end_time": "2021-09-03T07:18:56.856711",
     "exception": false,
     "start_time": "2021-09-03T07:18:56.491328",
     "status": "completed"
    },
    "tags": []
   },
   "outputs": [
    {
     "data": {
      "image/png": "[encoded data removed]",
      "text/plain": [
       "<Figure size 432x288 with 1 Axes>"
      ]
     },
     "metadata": {
      "needs_background": "light"
     },
     "output_type": "display_data"
    }
   ],
   "source": [
    "# plt.figure(12,12)\n",
    "plt.plot(col1,col2, label='argmax > 0.5')\n",
    "plt.plot(col1,col3, label='argmax < 0.5')\n",
    "\n",
    "plt.legend(loc='center left', bbox_to_anchor=(1, 0.5))\n",
    "plt.xlabel(\"epochs\")\n",
    "plt.ylabel(\"training data\")\n",
    "plt.title(\"On Training set\")\n",
    "plt.show()\n",
    "\n"
   ]
  },
  {
   "cell_type": "code",
   "execution_count": 37,
   "id": "0f187aa0",
   "metadata": {
    "execution": {
     "iopub.execute_input": "2021-09-03T07:18:57.064731Z",
     "iopub.status.busy": "2021-09-03T07:18:57.063802Z",
     "iopub.status.idle": "2021-09-03T07:18:57.712657Z",
     "shell.execute_reply": "2021-09-03T07:18:57.712190Z",
     "shell.execute_reply.started": "2021-09-03T06:51:36.160410Z"
    },
    "id": "RcScxsHnuBR5",
    "outputId": "1c5544c8-2475-40f2-fc71-54d061b7d133",
    "papermill": {
     "duration": 0.757561,
     "end_time": "2021-09-03T07:18:57.712782",
     "exception": false,
     "start_time": "2021-09-03T07:18:56.955221",
     "status": "completed"
    },
    "tags": []
   },
   "outputs": [
    {
     "data": {
      "image/png": "[encoded data removed]",
      "text/plain": [
       "<Figure size 432x360 with 1 Axes>"
      ]
     },
     "metadata": {
      "needs_background": "light"
     },
     "output_type": "display_data"
    }
   ],
   "source": [
    "plt.figure(figsize=(6,5))\n",
    "plt.plot(col1,np.array(col4)/300, label =\"FTPT \")\n",
    "plt.plot(col1,np.array(col5)/300, label =\"FFPT \")\n",
    "plt.plot(col1,np.array(col6)/300, label =\"FTPF \")\n",
    "plt.plot(col1,np.array(col7)/300, label =\"FFPF \")\n",
    "plt.title(\"On Training set\")\n",
    "#plt.legend(loc='center left', bbox_to_anchor=(1, 0.5))\n",
    "plt.xlabel(\"epochs\", fontsize=14, fontweight = 'bold')\n",
    "plt.ylabel(\"percentage train data\", fontsize=14, fontweight = 'bold')\n",
    "# plt.xlabel(\"epochs\")\n",
    "# plt.ylabel(\"training data\")\n",
    "plt.legend()\n",
    "\n",
    "plt.savefig(path + \"_train.png\",bbox_inches=\"tight\")\n",
    "plt.savefig(path + \"_train.pdf\",bbox_inches=\"tight\")\n",
    "plt.grid()\n",
    "plt.show()"
   ]
  },
  {
   "cell_type": "code",
   "execution_count": 38,
   "id": "2f67ecd9",
   "metadata": {
    "execution": {
     "iopub.execute_input": "2021-09-03T07:18:57.842154Z",
     "iopub.status.busy": "2021-09-03T07:18:57.840120Z",
     "iopub.status.idle": "2021-09-03T07:18:58.246514Z",
     "shell.execute_reply": "2021-09-03T07:18:58.246972Z",
     "shell.execute_reply.started": "2021-09-03T06:51:36.715504Z"
    },
    "id": "eyHnBFJxuBR5",
    "outputId": "df42ed8f-f4dd-4160-9e03-8ceaedc7b9ab",
    "papermill": {
     "duration": 0.484372,
     "end_time": "2021-09-03T07:18:58.247154",
     "exception": false,
     "start_time": "2021-09-03T07:18:57.762782",
     "status": "completed"
    },
    "tags": []
   },
   "outputs": [
    {
     "data": {
      "image/png": "[encoded data removed]",
      "text/plain": [
       "<Figure size 432x360 with 1 Axes>"
      ]
     },
     "metadata": {
      "needs_background": "light"
     },
     "output_type": "display_data"
    }
   ],
   "source": [
    "plt.figure(figsize=(6,5))\n",
    "plt.plot(col1,np.array(col14)/30000, label =\"sparsity_val\")\n",
    "\n",
    "plt.title(\"On Training set\")\n",
    "#plt.legend(loc='center left', bbox_to_anchor=(1, 0.5))\n",
    "plt.xlabel(\"epochs\", fontsize=14, fontweight = 'bold')\n",
    "plt.ylabel(\"average sparsity value\", fontsize=14, fontweight = 'bold')\n",
    "# plt.xlabel(\"epochs\")\n",
    "# plt.ylabel(\"sparsity_value\")\n",
    "\n",
    "plt.savefig(path + \"sparsity_train.png\",bbox_inches=\"tight\")\n",
    "plt.savefig(path + \"sparsity_train.pdf\",bbox_inches=\"tight\")\n",
    "plt.grid()\n",
    "plt.show()"
   ]
  },
  {
   "cell_type": "code",
   "execution_count": 39,
   "id": "f9f9a9a7",
   "metadata": {
    "execution": {
     "iopub.execute_input": "2021-09-03T07:18:58.370648Z",
     "iopub.status.busy": "2021-09-03T07:18:58.369836Z",
     "iopub.status.idle": "2021-09-03T07:18:58.375074Z",
     "shell.execute_reply": "2021-09-03T07:18:58.375479Z",
     "shell.execute_reply.started": "2021-09-03T06:51:37.099639Z"
    },
    "id": "_QKYVO8i8ivA",
    "outputId": "0d8b1ea0-efd0-4bdd-84a7-201356e5f823",
    "papermill": {
     "duration": 0.072142,
     "end_time": "2021-09-03T07:18:58.375631",
     "exception": false,
     "start_time": "2021-09-03T07:18:58.303489",
     "status": "completed"
    },
    "tags": []
   },
   "outputs": [
    {
     "data": {
      "text/html": [
       "<div>\n",
       "<style scoped>\n",
       "    .dataframe tbody tr th:only-of-type {\n",
       "        vertical-align: middle;\n",
       "    }\n",
       "\n",
       "    .dataframe tbody tr th {\n",
       "        vertical-align: top;\n",
       "    }\n",
       "\n",
       "    .dataframe thead th {\n",
       "        text-align: right;\n",
       "    }\n",
       "</style>\n",
       "<table border=\"1\" class=\"dataframe\">\n",
       "  <thead>\n",
       "    <tr style=\"text-align: right;\">\n",
       "      <th></th>\n",
       "      <th>epochs</th>\n",
       "      <th>argmax &gt; 0.5</th>\n",
       "      <th>argmax &lt; 0.5</th>\n",
       "      <th>focus_true_pred_true</th>\n",
       "      <th>focus_false_pred_true</th>\n",
       "      <th>focus_true_pred_false</th>\n",
       "      <th>focus_false_pred_false</th>\n",
       "      <th>sparse_val</th>\n",
       "    </tr>\n",
       "  </thead>\n",
       "  <tbody>\n",
       "    <tr>\n",
       "      <th>0</th>\n",
       "      <td>0</td>\n",
       "      <td>169</td>\n",
       "      <td>9831</td>\n",
       "      <td>775</td>\n",
       "      <td>2581</td>\n",
       "      <td>1054</td>\n",
       "      <td>5590</td>\n",
       "      <td>88481</td>\n",
       "    </tr>\n",
       "    <tr>\n",
       "      <th>1</th>\n",
       "      <td>1</td>\n",
       "      <td>3976</td>\n",
       "      <td>6024</td>\n",
       "      <td>4478</td>\n",
       "      <td>2273</td>\n",
       "      <td>1034</td>\n",
       "      <td>2215</td>\n",
       "      <td>83723</td>\n",
       "    </tr>\n",
       "    <tr>\n",
       "      <th>2</th>\n",
       "      <td>2</td>\n",
       "      <td>5944</td>\n",
       "      <td>4056</td>\n",
       "      <td>5817</td>\n",
       "      <td>1946</td>\n",
       "      <td>864</td>\n",
       "      <td>1373</td>\n",
       "      <td>69385</td>\n",
       "    </tr>\n",
       "    <tr>\n",
       "      <th>3</th>\n",
       "      <td>3</td>\n",
       "      <td>6961</td>\n",
       "      <td>3039</td>\n",
       "      <td>6913</td>\n",
       "      <td>1525</td>\n",
       "      <td>605</td>\n",
       "      <td>957</td>\n",
       "      <td>64239</td>\n",
       "    </tr>\n",
       "    <tr>\n",
       "      <th>4</th>\n",
       "      <td>4</td>\n",
       "      <td>7259</td>\n",
       "      <td>2741</td>\n",
       "      <td>7293</td>\n",
       "      <td>1477</td>\n",
       "      <td>491</td>\n",
       "      <td>739</td>\n",
       "      <td>62494</td>\n",
       "    </tr>\n",
       "    <tr>\n",
       "      <th>5</th>\n",
       "      <td>5</td>\n",
       "      <td>7040</td>\n",
       "      <td>2960</td>\n",
       "      <td>7504</td>\n",
       "      <td>1457</td>\n",
       "      <td>424</td>\n",
       "      <td>615</td>\n",
       "      <td>63135</td>\n",
       "    </tr>\n",
       "    <tr>\n",
       "      <th>6</th>\n",
       "      <td>6</td>\n",
       "      <td>7619</td>\n",
       "      <td>2381</td>\n",
       "      <td>7690</td>\n",
       "      <td>1342</td>\n",
       "      <td>478</td>\n",
       "      <td>490</td>\n",
       "      <td>54586</td>\n",
       "    </tr>\n",
       "    <tr>\n",
       "      <th>7</th>\n",
       "      <td>7</td>\n",
       "      <td>7422</td>\n",
       "      <td>2578</td>\n",
       "      <td>7797</td>\n",
       "      <td>1301</td>\n",
       "      <td>415</td>\n",
       "      <td>487</td>\n",
       "      <td>58599</td>\n",
       "    </tr>\n",
       "    <tr>\n",
       "      <th>8</th>\n",
       "      <td>8</td>\n",
       "      <td>7892</td>\n",
       "      <td>2108</td>\n",
       "      <td>7997</td>\n",
       "      <td>1236</td>\n",
       "      <td>299</td>\n",
       "      <td>468</td>\n",
       "      <td>52076</td>\n",
       "    </tr>\n",
       "    <tr>\n",
       "      <th>9</th>\n",
       "      <td>9</td>\n",
       "      <td>7203</td>\n",
       "      <td>2797</td>\n",
       "      <td>8046</td>\n",
       "      <td>1226</td>\n",
       "      <td>341</td>\n",
       "      <td>387</td>\n",
       "      <td>64940</td>\n",
       "    </tr>\n",
       "    <tr>\n",
       "      <th>10</th>\n",
       "      <td>10</td>\n",
       "      <td>7882</td>\n",
       "      <td>2118</td>\n",
       "      <td>8101</td>\n",
       "      <td>1132</td>\n",
       "      <td>258</td>\n",
       "      <td>509</td>\n",
       "      <td>50310</td>\n",
       "    </tr>\n",
       "    <tr>\n",
       "      <th>11</th>\n",
       "      <td>11</td>\n",
       "      <td>7794</td>\n",
       "      <td>2206</td>\n",
       "      <td>8238</td>\n",
       "      <td>1155</td>\n",
       "      <td>209</td>\n",
       "      <td>398</td>\n",
       "      <td>53312</td>\n",
       "    </tr>\n",
       "    <tr>\n",
       "      <th>12</th>\n",
       "      <td>12</td>\n",
       "      <td>7630</td>\n",
       "      <td>2370</td>\n",
       "      <td>8030</td>\n",
       "      <td>1228</td>\n",
       "      <td>224</td>\n",
       "      <td>518</td>\n",
       "      <td>53406</td>\n",
       "    </tr>\n",
       "    <tr>\n",
       "      <th>13</th>\n",
       "      <td>13</td>\n",
       "      <td>7728</td>\n",
       "      <td>2272</td>\n",
       "      <td>8173</td>\n",
       "      <td>1209</td>\n",
       "      <td>236</td>\n",
       "      <td>382</td>\n",
       "      <td>55443</td>\n",
       "    </tr>\n",
       "    <tr>\n",
       "      <th>14</th>\n",
       "      <td>14</td>\n",
       "      <td>7852</td>\n",
       "      <td>2148</td>\n",
       "      <td>8163</td>\n",
       "      <td>1196</td>\n",
       "      <td>223</td>\n",
       "      <td>418</td>\n",
       "      <td>49994</td>\n",
       "    </tr>\n",
       "    <tr>\n",
       "      <th>15</th>\n",
       "      <td>15</td>\n",
       "      <td>7894</td>\n",
       "      <td>2106</td>\n",
       "      <td>8269</td>\n",
       "      <td>1140</td>\n",
       "      <td>245</td>\n",
       "      <td>346</td>\n",
       "      <td>53576</td>\n",
       "    </tr>\n",
       "    <tr>\n",
       "      <th>16</th>\n",
       "      <td>16</td>\n",
       "      <td>7375</td>\n",
       "      <td>2625</td>\n",
       "      <td>8313</td>\n",
       "      <td>1104</td>\n",
       "      <td>259</td>\n",
       "      <td>324</td>\n",
       "      <td>63196</td>\n",
       "    </tr>\n",
       "  </tbody>\n",
       "</table>\n",
       "</div>"
      ],
      "text/plain": [
       "    epochs  argmax > 0.5  argmax < 0.5  focus_true_pred_true  \\\n",
       "0        0           169          9831                   775   \n",
       "1        1          3976          6024                  4478   \n",
       "2        2          5944          4056                  5817   \n",
       "3        3          6961          3039                  6913   \n",
       "4        4          7259          2741                  7293   \n",
       "5        5          7040          2960                  7504   \n",
       "6        6          7619          2381                  7690   \n",
       "7        7          7422          2578                  7797   \n",
       "8        8          7892          2108                  7997   \n",
       "9        9          7203          2797                  8046   \n",
       "10      10          7882          2118                  8101   \n",
       "11      11          7794          2206                  8238   \n",
       "12      12          7630          2370                  8030   \n",
       "13      13          7728          2272                  8173   \n",
       "14      14          7852          2148                  8163   \n",
       "15      15          7894          2106                  8269   \n",
       "16      16          7375          2625                  8313   \n",
       "\n",
       "    focus_false_pred_true  focus_true_pred_false  focus_false_pred_false  \\\n",
       "0                    2581                   1054                    5590   \n",
       "1                    2273                   1034                    2215   \n",
       "2                    1946                    864                    1373   \n",
       "3                    1525                    605                     957   \n",
       "4                    1477                    491                     739   \n",
       "5                    1457                    424                     615   \n",
       "6                    1342                    478                     490   \n",
       "7                    1301                    415                     487   \n",
       "8                    1236                    299                     468   \n",
       "9                    1226                    341                     387   \n",
       "10                   1132                    258                     509   \n",
       "11                   1155                    209                     398   \n",
       "12                   1228                    224                     518   \n",
       "13                   1209                    236                     382   \n",
       "14                   1196                    223                     418   \n",
       "15                   1140                    245                     346   \n",
       "16                   1104                    259                     324   \n",
       "\n",
       "    sparse_val  \n",
       "0        88481  \n",
       "1        83723  \n",
       "2        69385  \n",
       "3        64239  \n",
       "4        62494  \n",
       "5        63135  \n",
       "6        54586  \n",
       "7        58599  \n",
       "8        52076  \n",
       "9        64940  \n",
       "10       50310  \n",
       "11       53312  \n",
       "12       53406  \n",
       "13       55443  \n",
       "14       49994  \n",
       "15       53576  \n",
       "16       63196  "
      ]
     },
     "execution_count": 39,
     "metadata": {},
     "output_type": "execute_result"
    }
   ],
   "source": [
    "df_test"
   ]
  },
  {
   "cell_type": "code",
   "execution_count": 40,
   "id": "ad12a54d",
   "metadata": {
    "execution": {
     "iopub.execute_input": "2021-09-03T07:18:58.483619Z",
     "iopub.status.busy": "2021-09-03T07:18:58.482380Z",
     "iopub.status.idle": "2021-09-03T07:18:58.485271Z",
     "shell.execute_reply": "2021-09-03T07:18:58.484774Z",
     "shell.execute_reply.started": "2021-09-03T06:51:37.111940Z"
    },
    "id": "0oGTwRsdmOe4",
    "papermill": {
     "duration": 0.059037,
     "end_time": "2021-09-03T07:18:58.485392",
     "exception": false,
     "start_time": "2021-09-03T07:18:58.426355",
     "status": "completed"
    },
    "tags": []
   },
   "outputs": [],
   "source": [
    "df_test.to_csv(path+\"_test.csv\")"
   ]
  },
  {
   "cell_type": "code",
   "execution_count": 41,
   "id": "7b78e8c0",
   "metadata": {
    "execution": {
     "iopub.execute_input": "2021-09-03T07:18:58.621948Z",
     "iopub.status.busy": "2021-09-03T07:18:58.620997Z",
     "iopub.status.idle": "2021-09-03T07:18:58.752498Z",
     "shell.execute_reply": "2021-09-03T07:18:58.752898Z",
     "shell.execute_reply.started": "2021-09-03T06:51:37.123742Z"
    },
    "id": "aRlpgnjy8k1n",
    "outputId": "1d976d4b-80f4-4c20-c9ed-ad76a972c79f",
    "papermill": {
     "duration": 0.216606,
     "end_time": "2021-09-03T07:18:58.753055",
     "exception": false,
     "start_time": "2021-09-03T07:18:58.536449",
     "status": "completed"
    },
    "tags": []
   },
   "outputs": [
    {
     "data": {
      "image/png": "[encoded data removed]",
      "text/plain": [
       "<Figure size 432x288 with 1 Axes>"
      ]
     },
     "metadata": {
      "needs_background": "light"
     },
     "output_type": "display_data"
    }
   ],
   "source": [
    "# plt.figure(12,12)\n",
    "plt.plot(col1,col8, label='argmax > 0.5')\n",
    "plt.plot(col1,col9, label='argmax < 0.5')\n",
    "\n",
    "plt.legend(loc='center left', bbox_to_anchor=(1, 0.5))\n",
    "plt.xlabel(\"epochs\")\n",
    "plt.ylabel(\"Testing data\")\n",
    "plt.title(\"On Testing set\")\n",
    "plt.show()\n",
    "\n"
   ]
  },
  {
   "cell_type": "code",
   "execution_count": 42,
   "id": "9b3ae3a2",
   "metadata": {
    "execution": {
     "iopub.execute_input": "2021-09-03T07:18:58.881119Z",
     "iopub.status.busy": "2021-09-03T07:18:58.880080Z",
     "iopub.status.idle": "2021-09-03T07:18:59.436132Z",
     "shell.execute_reply": "2021-09-03T07:18:59.436572Z",
     "shell.execute_reply.started": "2021-09-03T06:51:37.363172Z"
    },
    "id": "C0XPoT7FuBR6",
    "outputId": "a3f0db62-71a8-498a-d72e-c2afc8d8739b",
    "papermill": {
     "duration": 0.632558,
     "end_time": "2021-09-03T07:18:59.436720",
     "exception": false,
     "start_time": "2021-09-03T07:18:58.804162",
     "status": "completed"
    },
    "tags": []
   },
   "outputs": [
    {
     "data": {
      "image/png": "[encoded data removed]",
      "text/plain": [
       "<Figure size 432x360 with 1 Axes>"
      ]
     },
     "metadata": {
      "needs_background": "light"
     },
     "output_type": "display_data"
    }
   ],
   "source": [
    "plt.figure(figsize=(6,5))\n",
    "plt.plot(col1,np.array(col10)/100, label =\"FTPT \")\n",
    "plt.plot(col1,np.array(col11)/100, label =\"FFPT \")\n",
    "plt.plot(col1,np.array(col12)/100, label =\"FTPF \")\n",
    "plt.plot(col1,np.array(col13)/100, label =\"FFPF \")\n",
    "plt.title(\"On Testing set\")\n",
    "\n",
    "#plt.legend(loc='center left', bbox_to_anchor=(1, 0.5))\n",
    "plt.xlabel(\"epochs\", fontsize=14, fontweight = 'bold')\n",
    "plt.ylabel(\"percentage test data\", fontsize=14, fontweight = 'bold')\n",
    "# plt.xlabel(\"epochs\")\n",
    "# plt.ylabel(\"training data\")\n",
    "plt.legend()\n",
    "\n",
    "#plt.legend(loc='center left', bbox_to_anchor=(1, 0.5))\n",
    "plt.xlabel(\"epochs\")\n",
    "# plt.ylabel(\"Testing data\")\n",
    "plt.savefig(path + \"_test.png\",bbox_inches=\"tight\")\n",
    "plt.savefig(path + \"_test.pdf\",bbox_inches=\"tight\")\n",
    "plt.grid()\n",
    "plt.show()"
   ]
  },
  {
   "cell_type": "code",
   "execution_count": 43,
   "id": "47824ef7",
   "metadata": {
    "execution": {
     "iopub.execute_input": "2021-09-03T07:18:59.580670Z",
     "iopub.status.busy": "2021-09-03T07:18:59.579637Z",
     "iopub.status.idle": "2021-09-03T07:19:00.021558Z",
     "shell.execute_reply": "2021-09-03T07:19:00.022020Z",
     "shell.execute_reply.started": "2021-09-03T06:51:38.000329Z"
    },
    "id": "5oh4o6NfuBR7",
    "outputId": "7b6b839a-dbc8-4b26-967c-1c2743f16774",
    "papermill": {
     "duration": 0.531688,
     "end_time": "2021-09-03T07:19:00.022172",
     "exception": false,
     "start_time": "2021-09-03T07:18:59.490484",
     "status": "completed"
    },
    "tags": []
   },
   "outputs": [
    {
     "data": {
      "image/png": "[encoded data removed]",
      "text/plain": [
       "<Figure size 432x360 with 1 Axes>"
      ]
     },
     "metadata": {
      "needs_background": "light"
     },
     "output_type": "display_data"
    }
   ],
   "source": [
    "plt.figure(figsize=(6,5))\n",
    "plt.plot(col1,np.array(col15)/10000, label =\"sparsity_val\")\n",
    "\n",
    "plt.title(\"On Testing set\")\n",
    "#plt.legend(loc='center left', bbox_to_anchor=(1, 0.5))\n",
    "plt.xlabel(\"epochs\", fontsize=14, fontweight = 'bold')\n",
    "plt.ylabel(\"average sparsity value\", fontsize=14, fontweight = 'bold')\n",
    "plt.grid()\n",
    "\n",
    "plt.savefig(path + \"sparsity_test.png\",bbox_inches=\"tight\")\n",
    "plt.savefig(path + \"sparsity_test.pdf\",bbox_inches=\"tight\")\n",
    "plt.show()"
   ]
  },
  {
   "cell_type": "code",
   "execution_count": 44,
   "id": "6dcec5df",
   "metadata": {
    "execution": {
     "iopub.execute_input": "2021-09-03T07:19:00.149830Z",
     "iopub.status.busy": "2021-09-03T07:19:00.148893Z",
     "iopub.status.idle": "2021-09-03T07:19:25.226354Z",
     "shell.execute_reply": "2021-09-03T07:19:25.225738Z",
     "shell.execute_reply.started": "2021-09-03T06:51:38.418435Z"
    },
    "id": "mSE5PCw2tyNO",
    "outputId": "59f0f59b-8414-43b3-cb1e-aa4b7d8a858b",
    "papermill": {
     "duration": 25.149108,
     "end_time": "2021-09-03T07:19:25.226528",
     "exception": false,
     "start_time": "2021-09-03T07:19:00.077420",
     "status": "completed"
    },
    "tags": []
   },
   "outputs": [
    {
     "name": "stdout",
     "output_type": "stream",
     "text": [
      "Accuracy of the network on the 30000 train images: 99.343333 %\n",
      "total correct 29803\n",
      "total train set images 30000\n",
      "focus_true_pred_true 26342 =============> FTPT : 87.806667 %\n",
      "focus_false_pred_true 3461 =============> FFPT : 11.536667 %\n",
      "focus_true_pred_false 110 =============> FTPF : 0.366667 %\n",
      "focus_false_pred_false 87 =============> FFPF : 0.290000 %\n",
      "Sparsity_Value 185875 =============> AVG Sparsity : 6.195833 \n",
      "argmax_more_than_half ==================>  23044\n",
      "argmax_less_than_half ==================>  6956\n",
      "30000\n",
      "====================================================================================================\n"
     ]
    }
   ],
   "source": [
    "correct = 0\n",
    "total = 0\n",
    "count = 0\n",
    "flag = 1\n",
    "focus_true_pred_true =0\n",
    "focus_false_pred_true =0\n",
    "focus_true_pred_false =0\n",
    "focus_false_pred_false =0\n",
    "\n",
    "argmax_more_than_half = 0\n",
    "argmax_less_than_half =0\n",
    "sparse_val = 0\n",
    "focus_net.eval()\n",
    "classify.eval()\n",
    "with torch.no_grad():\n",
    "  for data in train_loader:\n",
    "    inputs, labels , fore_idx = data\n",
    "    inputs = inputs.double()\n",
    "    inputs, labels , fore_idx = inputs.to(\"cuda\"),labels.to(\"cuda\"), fore_idx.to(\"cuda\")\n",
    "    alphas, avg_images = focus_net(inputs)\n",
    "    outputs = classify(avg_images)\n",
    "\n",
    "    _, predicted = torch.max(outputs.data, 1)\n",
    "    sparse_val += torch.sum(torch.sum(alphas>0.01,dim=1)).item()\n",
    "    for j in range(labels.size(0)):\n",
    "      count += 1\n",
    "      focus = torch.argmax(alphas[j])\n",
    "      if alphas[j][focus] >= 0.5 :\n",
    "        argmax_more_than_half += 1\n",
    "      else:\n",
    "        argmax_less_than_half += 1\n",
    "\n",
    "      if(focus == fore_idx[j] and predicted[j] == labels[j]):\n",
    "          focus_true_pred_true += 1\n",
    "      elif(focus != fore_idx[j] and predicted[j] == labels[j]):\n",
    "        focus_false_pred_true += 1\n",
    "      elif(focus == fore_idx[j] and predicted[j] != labels[j]):\n",
    "        focus_true_pred_false += 1\n",
    "      elif(focus != fore_idx[j] and predicted[j] != labels[j]):\n",
    "        focus_false_pred_false += 1\n",
    "\n",
    "    total += labels.size(0)\n",
    "    correct += (predicted == labels).sum().item()\n",
    "\n",
    "print('Accuracy of the network on the 30000 train images: %f %%' % ( 100 * correct / total))\n",
    "print(\"total correct\", correct)\n",
    "print(\"total train set images\", total)\n",
    "\n",
    "print(\"focus_true_pred_true %d =============> FTPT : %f %%\" % (focus_true_pred_true , (100 * focus_true_pred_true / total) ) )\n",
    "print(\"focus_false_pred_true %d =============> FFPT : %f %%\" % (focus_false_pred_true, (100 * focus_false_pred_true / total) ) )\n",
    "print(\"focus_true_pred_false %d =============> FTPF : %f %%\" %( focus_true_pred_false , ( 100 * focus_true_pred_false / total) ) )\n",
    "print(\"focus_false_pred_false %d =============> FFPF : %f %%\" % (focus_false_pred_false, ( 100 * focus_false_pred_false / total) ) )\n",
    "print(\"Sparsity_Value %d =============> AVG Sparsity : %f \" % (sparse_val,(sparse_val)/total))\n",
    "print(\"argmax_more_than_half ==================> \",argmax_more_than_half)\n",
    "print(\"argmax_less_than_half ==================> \",argmax_less_than_half)\n",
    "print(count)\n",
    "\n",
    "print(\"=\"*100)"
   ]
  },
  {
   "cell_type": "code",
   "execution_count": 45,
   "id": "847b41ca",
   "metadata": {
    "execution": {
     "iopub.execute_input": "2021-09-03T07:19:25.350827Z",
     "iopub.status.busy": "2021-09-03T07:19:25.349700Z",
     "iopub.status.idle": "2021-09-03T07:19:34.144052Z",
     "shell.execute_reply": "2021-09-03T07:19:34.143454Z",
     "shell.execute_reply.started": "2021-09-03T06:52:02.566403Z"
    },
    "id": "40tKBow5t1sF",
    "outputId": "2db3287c-37b4-4655-99b5-8c32e1f4a6c8",
    "papermill": {
     "duration": 8.86254,
     "end_time": "2021-09-03T07:19:34.144220",
     "exception": false,
     "start_time": "2021-09-03T07:19:25.281680",
     "status": "completed"
    },
    "tags": []
   },
   "outputs": [
    {
     "name": "stdout",
     "output_type": "stream",
     "text": [
      "Accuracy of the network on the 10000 test images: 94.170000 %\n",
      "total correct 9417\n",
      "total test set images 10000\n",
      "focus_true_pred_true 8313 =============> FTPT : 83.130000 %\n",
      "focus_false_pred_true 1104 =============> FFPT : 11.040000 %\n",
      "focus_true_pred_false 259 =============> FTPF : 2.590000 %\n",
      "focus_false_pred_false 324 =============> FFPF : 3.240000 %\n",
      "Sparsity_Value 63196 =============> AVG Sparsity : 6.319600 \n",
      "argmax_more_than_half ==================>  7375\n",
      "argmax_less_than_half ==================>  2625\n"
     ]
    }
   ],
   "source": [
    "correct = 0\n",
    "total = 0\n",
    "count = 0\n",
    "flag = 1\n",
    "focus_true_pred_true =0\n",
    "focus_false_pred_true =0\n",
    "focus_true_pred_false =0\n",
    "focus_false_pred_false =0\n",
    "\n",
    "argmax_more_than_half = 0\n",
    "argmax_less_than_half =0\n",
    "sparse_val = 0 \n",
    "focus_net.eval()\n",
    "classify.eval()\n",
    "with torch.no_grad():\n",
    "  for data in test_loader:\n",
    "    inputs, labels , fore_idx = data\n",
    "    inputs = inputs.double()\n",
    "    inputs, labels , fore_idx = inputs.to(\"cuda\"),labels.to(\"cuda\"), fore_idx.to(\"cuda\")\n",
    "    alphas, avg_images = focus_net(inputs)\n",
    "    outputs = classify(avg_images)\n",
    "\n",
    "    _, predicted = torch.max(outputs.data, 1)\n",
    "    sparse_val += torch.sum(torch.sum(alphas>0.01,dim=1)).item()\n",
    "    for j in range(labels.size(0)):\n",
    "      focus = torch.argmax(alphas[j])\n",
    "      if alphas[j][focus] >= 0.5 :\n",
    "        argmax_more_than_half += 1\n",
    "      else:\n",
    "        argmax_less_than_half += 1\n",
    "\n",
    "      if(focus == fore_idx[j] and predicted[j] == labels[j]):\n",
    "          focus_true_pred_true += 1\n",
    "      elif(focus != fore_idx[j] and predicted[j] == labels[j]):\n",
    "        focus_false_pred_true += 1\n",
    "      elif(focus == fore_idx[j] and predicted[j] != labels[j]):\n",
    "        focus_true_pred_false += 1\n",
    "      elif(focus != fore_idx[j] and predicted[j] != labels[j]):\n",
    "        focus_false_pred_false += 1\n",
    "\n",
    "    total += labels.size(0)\n",
    "    correct += (predicted == labels).sum().item()\n",
    "\n",
    "print('Accuracy of the network on the 10000 test images: %f %%' % (\n",
    "    100 * correct / total))\n",
    "print(\"total correct\", correct)\n",
    "print(\"total test set images\", total)\n",
    "\n",
    "print(\"focus_true_pred_true %d =============> FTPT : %f %%\" % (focus_true_pred_true , (100 * focus_true_pred_true / total) ) )\n",
    "print(\"focus_false_pred_true %d =============> FFPT : %f %%\" % (focus_false_pred_true, (100 * focus_false_pred_true / total) ) )\n",
    "print(\"focus_true_pred_false %d =============> FTPF : %f %%\" %( focus_true_pred_false , ( 100 * focus_true_pred_false / total) ) )\n",
    "print(\"focus_false_pred_false %d =============> FFPF : %f %%\" % (focus_false_pred_false, ( 100 * focus_false_pred_false / total) ) )\n",
    "print(\"Sparsity_Value %d =============> AVG Sparsity : %f \" % (sparse_val,(sparse_val)/total))\n",
    "\n",
    "print(\"argmax_more_than_half ==================> \",argmax_more_than_half)\n",
    "print(\"argmax_less_than_half ==================> \",argmax_less_than_half)"
   ]
  },
  {
   "cell_type": "code",
   "execution_count": 46,
   "id": "58b57b4d",
   "metadata": {
    "execution": {
     "iopub.execute_input": "2021-09-03T07:19:34.262397Z",
     "iopub.status.busy": "2021-09-03T07:19:34.261560Z",
     "iopub.status.idle": "2021-09-03T07:19:54.041452Z",
     "shell.execute_reply": "2021-09-03T07:19:54.041893Z",
     "shell.execute_reply.started": "2021-09-03T06:52:10.642975Z"
    },
    "id": "iJEMJnUI9FP2",
    "papermill": {
     "duration": 19.841817,
     "end_time": "2021-09-03T07:19:54.042068",
     "exception": false,
     "start_time": "2021-09-03T07:19:34.200251",
     "status": "completed"
    },
    "tags": []
   },
   "outputs": [
    {
     "name": "stdout",
     "output_type": "stream",
     "text": [
      "Accuracy of the network on the 30000 train images: 99.316667 %\n",
      "total correct 29795\n",
      "total train set images 30000\n"
     ]
    }
   ],
   "source": [
    "correct = 0\n",
    "total = 0\n",
    "focus_net.eval()\n",
    "classify.eval()\n",
    "with torch.no_grad():\n",
    "  for data in train_loader:\n",
    "    inputs, labels , fore_idx = data\n",
    "    inputs = inputs.double()\n",
    "    inputs, labels = inputs.to(\"cuda\"), labels.to(\"cuda\")\n",
    "    alphas, avg_images = focus_net(inputs)\n",
    "    outputs = classify(avg_images)\n",
    "\n",
    "    _, predicted = torch.max(outputs.data, 1)\n",
    "\n",
    "    total += labels.size(0)\n",
    "    correct += (predicted == labels).sum().item()\n",
    "\n",
    "print('Accuracy of the network on the 30000 train images: %f %%' % ( 100 * correct / total))\n",
    "print(\"total correct\", correct)\n",
    "print(\"total train set images\", total)"
   ]
  },
  {
   "cell_type": "code",
   "execution_count": 47,
   "id": "1a47f8ca",
   "metadata": {
    "execution": {
     "iopub.execute_input": "2021-09-03T07:19:54.161647Z",
     "iopub.status.busy": "2021-09-03T07:19:54.160158Z",
     "iopub.status.idle": "2021-09-03T07:20:00.753149Z",
     "shell.execute_reply": "2021-09-03T07:20:00.752692Z",
     "shell.execute_reply.started": "2021-09-03T06:52:28.802741Z"
    },
    "id": "an7qmNLB-Ilb",
    "papermill": {
     "duration": 6.656926,
     "end_time": "2021-09-03T07:20:00.753278",
     "exception": false,
     "start_time": "2021-09-03T07:19:54.096352",
     "status": "completed"
    },
    "tags": []
   },
   "outputs": [
    {
     "name": "stdout",
     "output_type": "stream",
     "text": [
      "Accuracy of the network on the 10000 test images: 94.170000 %\n",
      "total correct 9417\n",
      "total train set images 10000\n"
     ]
    }
   ],
   "source": [
    "correct = 0\n",
    "total = 0\n",
    "focus_net.eval()\n",
    "classify.eval()\n",
    "with torch.no_grad():\n",
    "  for data in test_loader:\n",
    "    inputs, labels , fore_idx = data\n",
    "    inputs = inputs.double()\n",
    "    inputs, labels = inputs.to(\"cuda\"), labels.to(\"cuda\")\n",
    "    alphas, avg_images = focus_net(inputs)\n",
    "    outputs = classify(avg_images)\n",
    "\n",
    "    _, predicted = torch.max(outputs.data, 1)\n",
    "\n",
    "    total += labels.size(0)\n",
    "    correct += (predicted == labels).sum().item()\n",
    "\n",
    "print('Accuracy of the network on the 10000 test images: %f %%' % ( 100 * correct / total))\n",
    "print(\"total correct\", correct)\n",
    "print(\"total train set images\", total)"
   ]
  },
  {
   "cell_type": "code",
   "execution_count": null,
   "id": "ba402c26",
   "metadata": {
    "id": "SKwqTXFjuBR_",
    "papermill": {
     "duration": 0.055007,
     "end_time": "2021-09-03T07:20:00.863225",
     "exception": false,
     "start_time": "2021-09-03T07:20:00.808218",
     "status": "completed"
    },
    "tags": []
   },
   "outputs": [],
   "source": []
  }
 ],
 "metadata": {
  "kernelspec": {
   "display_name": "Python 3",
   "language": "python",
   "name": "python3"
  },
  "language_info": {
   "codemirror_mode": {
    "name": "ipython",
    "version": 3
   },
   "file_extension": ".py",
   "mimetype": "text/x-python",
   "name": "python",
   "nbconvert_exporter": "python",
   "pygments_lexer": "ipython3",
   "version": "3.7.10"
  },
  "papermill": {
   "default_parameters": {},
   "duration": 1246.045527,
   "end_time": "2021-09-03T07:20:03.208724",
   "environment_variables": {},
   "exception": null,
   "input_path": "__notebook__.ipynb",
   "output_path": "__notebook__.ipynb",
   "parameters": {},
   "start_time": "2021-09-03T06:59:17.163197",
   "version": "2.3.3"
  },
  "widgets": {
   "application/vnd.jupyter.widget-state+json": {
    "state": {
     "1438fb00e12f4b36adb0122edbadd780": {
      "model_module": "@jupyter-widgets/controls",
      "model_module_version": "1.5.0",
      "model_name": "DescriptionStyleModel",
      "state": {
       "_model_module": "@jupyter-widgets/controls",
       "_model_module_version": "1.5.0",
       "_model_name": "DescriptionStyleModel",
       "_view_count": null,
       "_view_module": "@jupyter-widgets/base",
       "_view_module_version": "1.2.0",
       "_view_name": "StyleView",
       "description_width": ""
      }
     },
     "16aa0e7afdd14a8ca07ac93159ada3c8": {
      "model_module": "@jupyter-widgets/controls",
      "model_module_version": "1.5.0",
      "model_name": "FloatProgressModel",
      "state": {
       "_dom_classes": [],
       "_model_module": "@jupyter-widgets/controls",
       "_model_module_version": "1.5.0",
       "_model_name": "FloatProgressModel",
       "_view_count": null,
       "_view_module": "@jupyter-widgets/controls",
       "_view_module_version": "1.5.0",
       "_view_name": "ProgressView",
       "bar_style": "info",
       "description": "",
       "description_tooltip": null,
       "layout": "IPY_MODEL_d74ffbd6e5bc4126905d664829767a68",
       "max": 1.0,
       "min": 0.0,
       "orientation": "horizontal",
       "style": "IPY_MODEL_d4e2c5a3f6524357943e9d6d966879b3",
       "value": 1.0
      }
     },
     "21e880d162d6482986c63a2f74b6fd78": {
      "model_module": "@jupyter-widgets/controls",
      "model_module_version": "1.5.0",
      "model_name": "HTMLModel",
      "state": {
       "_dom_classes": [],
       "_model_module": "@jupyter-widgets/controls",
       "_model_module_version": "1.5.0",
       "_model_name": "HTMLModel",
       "_view_count": null,
       "_view_module": "@jupyter-widgets/controls",
       "_view_module_version": "1.5.0",
       "_view_name": "HTMLView",
       "description": "",
       "description_tooltip": null,
       "layout": "IPY_MODEL_5a8400ad329841a0a1cf02a3dd5ef5a0",
       "placeholder": "​",
       "style": "IPY_MODEL_1438fb00e12f4b36adb0122edbadd780",
       "value": ""
      }
     },
     "4dbdc6ed8e4b4f5cbc52c22f69265ca4": {
      "model_module": "@jupyter-widgets/controls",
      "model_module_version": "1.5.0",
      "model_name": "DescriptionStyleModel",
      "state": {
       "_model_module": "@jupyter-widgets/controls",
       "_model_module_version": "1.5.0",
       "_model_name": "DescriptionStyleModel",
       "_view_count": null,
       "_view_module": "@jupyter-widgets/base",
       "_view_module_version": "1.2.0",
       "_view_name": "StyleView",
       "description_width": ""
      }
     },
     "5a8400ad329841a0a1cf02a3dd5ef5a0": {
      "model_module": "@jupyter-widgets/base",
      "model_module_version": "1.2.0",
      "model_name": "LayoutModel",
      "state": {
       "_model_module": "@jupyter-widgets/base",
       "_model_module_version": "1.2.0",
       "_model_name": "LayoutModel",
       "_view_count": null,
       "_view_module": "@jupyter-widgets/base",
       "_view_module_version": "1.2.0",
       "_view_name": "LayoutView",
       "align_content": null,
       "align_items": null,
       "align_self": null,
       "border": null,
       "bottom": null,
       "display": null,
       "flex": null,
       "flex_flow": null,
       "grid_area": null,
       "grid_auto_columns": null,
       "grid_auto_flow": null,
       "grid_auto_rows": null,
       "grid_column": null,
       "grid_gap": null,
       "grid_row": null,
       "grid_template_areas": null,
       "grid_template_columns": null,
       "grid_template_rows": null,
       "height": null,
       "justify_content": null,
       "justify_items": null,
       "left": null,
       "margin": null,
       "max_height": null,
       "max_width": null,
       "min_height": null,
       "min_width": null,
       "object_fit": null,
       "object_position": null,
       "order": null,
       "overflow": null,
       "overflow_x": null,
       "overflow_y": null,
       "padding": null,
       "right": null,
       "top": null,
       "visibility": null,
       "width": null
      }
     },
     "7d304ffdee9845ca85bbf73137f20af1": {
      "model_module": "@jupyter-widgets/controls",
      "model_module_version": "1.5.0",
      "model_name": "HTMLModel",
      "state": {
       "_dom_classes": [],
       "_model_module": "@jupyter-widgets/controls",
       "_model_module_version": "1.5.0",
       "_model_name": "HTMLModel",
       "_view_count": null,
       "_view_module": "@jupyter-widgets/controls",
       "_view_module_version": "1.5.0",
       "_view_name": "HTMLView",
       "description": "",
       "description_tooltip": null,
       "layout": "IPY_MODEL_9c046a8ae95b445fa32e57c5861b7043",
       "placeholder": "​",
       "style": "IPY_MODEL_4dbdc6ed8e4b4f5cbc52c22f69265ca4",
       "value": " 170500096/? [00:20&lt;00:00, 83453371.07it/s]"
      }
     },
     "9c046a8ae95b445fa32e57c5861b7043": {
      "model_module": "@jupyter-widgets/base",
      "model_module_version": "1.2.0",
      "model_name": "LayoutModel",
      "state": {
       "_model_module": "@jupyter-widgets/base",
       "_model_module_version": "1.2.0",
       "_model_name": "LayoutModel",
       "_view_count": null,
       "_view_module": "@jupyter-widgets/base",
       "_view_module_version": "1.2.0",
       "_view_name": "LayoutView",
       "align_content": null,
       "align_items": null,
       "align_self": null,
       "border": null,
       "bottom": null,
       "display": null,
       "flex": null,
       "flex_flow": null,
       "grid_area": null,
       "grid_auto_columns": null,
       "grid_auto_flow": null,
       "grid_auto_rows": null,
       "grid_column": null,
       "grid_gap": null,
       "grid_row": null,
       "grid_template_areas": null,
       "grid_template_columns": null,
       "grid_template_rows": null,
       "height": null,
       "justify_content": null,
       "justify_items": null,
       "left": null,
       "margin": null,
       "max_height": null,
       "max_width": null,
       "min_height": null,
       "min_width": null,
       "object_fit": null,
       "object_position": null,
       "order": null,
       "overflow": null,
       "overflow_x": null,
       "overflow_y": null,
       "padding": null,
       "right": null,
       "top": null,
       "visibility": null,
       "width": null
      }
     },
     "a96033504ff34d2187be68dfb5d27f0a": {
      "model_module": "@jupyter-widgets/base",
      "model_module_version": "1.2.0",
      "model_name": "LayoutModel",
      "state": {
       "_model_module": "@jupyter-widgets/base",
       "_model_module_version": "1.2.0",
       "_model_name": "LayoutModel",
       "_view_count": null,
       "_view_module": "@jupyter-widgets/base",
       "_view_module_version": "1.2.0",
       "_view_name": "LayoutView",
       "align_content": null,
       "align_items": null,
       "align_self": null,
       "border": null,
       "bottom": null,
       "display": null,
       "flex": null,
       "flex_flow": null,
       "grid_area": null,
       "grid_auto_columns": null,
       "grid_auto_flow": null,
       "grid_auto_rows": null,
       "grid_column": null,
       "grid_gap": null,
       "grid_row": null,
       "grid_template_areas": null,
       "grid_template_columns": null,
       "grid_template_rows": null,
       "height": null,
       "justify_content": null,
       "justify_items": null,
       "left": null,
       "margin": null,
       "max_height": null,
       "max_width": null,
       "min_height": null,
       "min_width": null,
       "object_fit": null,
       "object_position": null,
       "order": null,
       "overflow": null,
       "overflow_x": null,
       "overflow_y": null,
       "padding": null,
       "right": null,
       "top": null,
       "visibility": null,
       "width": null
      }
     },
     "b2954928c99a4facb19af8b69c6911b0": {
      "model_module": "@jupyter-widgets/controls",
      "model_module_version": "1.5.0",
      "model_name": "HBoxModel",
      "state": {
       "_dom_classes": [],
       "_model_module": "@jupyter-widgets/controls",
       "_model_module_version": "1.5.0",
       "_model_name": "HBoxModel",
       "_view_count": null,
       "_view_module": "@jupyter-widgets/controls",
       "_view_module_version": "1.5.0",
       "_view_name": "HBoxView",
       "box_style": "",
       "children": [
        "IPY_MODEL_21e880d162d6482986c63a2f74b6fd78",
        "IPY_MODEL_16aa0e7afdd14a8ca07ac93159ada3c8",
        "IPY_MODEL_7d304ffdee9845ca85bbf73137f20af1"
       ],
       "layout": "IPY_MODEL_a96033504ff34d2187be68dfb5d27f0a"
      }
     },
     "d4e2c5a3f6524357943e9d6d966879b3": {
      "model_module": "@jupyter-widgets/controls",
      "model_module_version": "1.5.0",
      "model_name": "ProgressStyleModel",
      "state": {
       "_model_module": "@jupyter-widgets/controls",
       "_model_module_version": "1.5.0",
       "_model_name": "ProgressStyleModel",
       "_view_count": null,
       "_view_module": "@jupyter-widgets/base",
       "_view_module_version": "1.2.0",
       "_view_name": "StyleView",
       "bar_color": null,
       "description_width": ""
      }
     },
     "d74ffbd6e5bc4126905d664829767a68": {
      "model_module": "@jupyter-widgets/base",
      "model_module_version": "1.2.0",
      "model_name": "LayoutModel",
      "state": {
       "_model_module": "@jupyter-widgets/base",
       "_model_module_version": "1.2.0",
       "_model_name": "LayoutModel",
       "_view_count": null,
       "_view_module": "@jupyter-widgets/base",
       "_view_module_version": "1.2.0",
       "_view_name": "LayoutView",
       "align_content": null,
       "align_items": null,
       "align_self": null,
       "border": null,
       "bottom": null,
       "display": null,
       "flex": null,
       "flex_flow": null,
       "grid_area": null,
       "grid_auto_columns": null,
       "grid_auto_flow": null,
       "grid_auto_rows": null,
       "grid_column": null,
       "grid_gap": null,
       "grid_row": null,
       "grid_template_areas": null,
       "grid_template_columns": null,
       "grid_template_rows": null,
       "height": null,
       "justify_content": null,
       "justify_items": null,
       "left": null,
       "margin": null,
       "max_height": null,
       "max_width": null,
       "min_height": null,
       "min_width": null,
       "object_fit": null,
       "object_position": null,
       "order": null,
       "overflow": null,
       "overflow_x": null,
       "overflow_y": null,
       "padding": null,
       "right": null,
       "top": null,
       "visibility": null,
       "width": "20px"
      }
     }
    },
    "version_major": 2,
    "version_minor": 0
   }
  }
 },
 "nbformat": 4,
 "nbformat_minor": 5
}
