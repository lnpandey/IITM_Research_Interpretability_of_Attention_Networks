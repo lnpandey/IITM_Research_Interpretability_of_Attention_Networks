{
 "cells": [
  {
   "cell_type": "code",
   "execution_count": 1,
   "id": "5cb66a44",
   "metadata": {
    "execution": {
     "iopub.execute_input": "2021-09-03T04:29:57.685721Z",
     "iopub.status.busy": "2021-09-03T04:29:57.684385Z",
     "iopub.status.idle": "2021-09-03T04:29:57.686717Z",
     "shell.execute_reply": "2021-09-03T04:29:57.686208Z",
     "shell.execute_reply.started": "2021-09-02T17:14:33.195123Z"
    },
    "id": "JSjG64ra4aFu",
    "outputId": "addc1734-5176-4a1c-a637-220f1f24d021",
    "papermill": {
     "duration": 0.04153,
     "end_time": "2021-09-03T04:29:57.686837",
     "exception": false,
     "start_time": "2021-09-03T04:29:57.645307",
     "status": "completed"
    },
    "tags": []
   },
   "outputs": [],
   "source": [
    "# from google.colab import drive\n",
    "# drive.mount('/content/drive')"
   ]
  },
  {
   "cell_type": "code",
   "execution_count": 2,
   "id": "0a9f9aad",
   "metadata": {
    "execution": {
     "iopub.execute_input": "2021-09-03T04:29:57.881345Z",
     "iopub.status.busy": "2021-09-03T04:29:57.880482Z",
     "iopub.status.idle": "2021-09-03T04:30:05.595973Z",
     "shell.execute_reply": "2021-09-03T04:30:05.595437Z",
     "shell.execute_reply.started": "2021-09-03T03:44:11.983114Z"
    },
    "papermill": {
     "duration": 7.85856,
     "end_time": "2021-09-03T04:30:05.596098",
     "exception": false,
     "start_time": "2021-09-03T04:29:57.737538",
     "status": "completed"
    },
    "tags": []
   },
   "outputs": [
    {
     "name": "stdout",
     "output_type": "stream",
     "text": [
      "Collecting sparsemax\r\n",
      "  Downloading sparsemax-0.1.9-py2.py3-none-any.whl (5.5 kB)\r\n",
      "Requirement already satisfied: torch in /opt/conda/lib/python3.7/site-packages (from sparsemax) (1.7.0)\r\n",
      "Requirement already satisfied: future in /opt/conda/lib/python3.7/site-packages (from torch->sparsemax) (0.18.2)\r\n",
      "Requirement already satisfied: typing_extensions in /opt/conda/lib/python3.7/site-packages (from torch->sparsemax) (3.7.4.3)\r\n",
      "Requirement already satisfied: dataclasses in /opt/conda/lib/python3.7/site-packages (from torch->sparsemax) (0.6)\r\n",
      "Requirement already satisfied: numpy in /opt/conda/lib/python3.7/site-packages (from torch->sparsemax) (1.19.5)\r\n",
      "Installing collected packages: sparsemax\r\n",
      "Successfully installed sparsemax-0.1.9\r\n",
      "\u001b[33mWARNING: Running pip as root will break packages and permissions. You should install packages reliably by using venv: https://pip.pypa.io/warnings/venv\u001b[0m\r\n"
     ]
    }
   ],
   "source": [
    "!pip install sparsemax"
   ]
  },
  {
   "cell_type": "code",
   "execution_count": 3,
   "id": "f6b77019",
   "metadata": {
    "execution": {
     "iopub.execute_input": "2021-09-03T04:30:05.673695Z",
     "iopub.status.busy": "2021-09-03T04:30:05.669794Z",
     "iopub.status.idle": "2021-09-03T04:30:06.303261Z",
     "shell.execute_reply": "2021-09-03T04:30:06.302784Z",
     "shell.execute_reply.started": "2021-09-03T03:42:57.687932Z"
    },
    "id": "atwYfdnU1_3W",
    "outputId": "0c7b155f-d0c1-4bd0-c87d-57be34d931d7",
    "papermill": {
     "duration": 0.671019,
     "end_time": "2021-09-03T04:30:06.303388",
     "exception": false,
     "start_time": "2021-09-03T04:30:05.632369",
     "status": "completed"
    },
    "tags": []
   },
   "outputs": [
    {
     "name": "stdout",
     "output_type": "stream",
     "text": [
      "/kaggle/working\r\n"
     ]
    }
   ],
   "source": [
    "# from google.colab import drive\n",
    "# drive.mount('/content/drive')\n",
    "!pwd"
   ]
  },
  {
   "cell_type": "code",
   "execution_count": 4,
   "id": "41709d68",
   "metadata": {
    "execution": {
     "iopub.execute_input": "2021-09-03T04:30:06.376261Z",
     "iopub.status.busy": "2021-09-03T04:30:06.375512Z",
     "iopub.status.idle": "2021-09-03T04:30:06.378240Z",
     "shell.execute_reply": "2021-09-03T04:30:06.377744Z",
     "shell.execute_reply.started": "2021-09-03T03:52:27.53824Z"
    },
    "id": "Zj9vWd0E2C0t",
    "papermill": {
     "duration": 0.040493,
     "end_time": "2021-09-03T04:30:06.378341",
     "exception": false,
     "start_time": "2021-09-03T04:30:06.337848",
     "status": "completed"
    },
    "tags": []
   },
   "outputs": [],
   "source": [
    "\n",
    "path = '/kaggle/working/run1'"
   ]
  },
  {
   "cell_type": "code",
   "execution_count": 5,
   "id": "d0fa5899",
   "metadata": {
    "execution": {
     "iopub.execute_input": "2021-09-03T04:30:06.451216Z",
     "iopub.status.busy": "2021-09-03T04:30:06.450459Z",
     "iopub.status.idle": "2021-09-03T04:30:07.808678Z",
     "shell.execute_reply": "2021-09-03T04:30:07.808122Z",
     "shell.execute_reply.started": "2021-09-03T03:46:46.088734Z"
    },
    "id": "V8-7SARDZErK",
    "papermill": {
     "duration": 1.396764,
     "end_time": "2021-09-03T04:30:07.808818",
     "exception": false,
     "start_time": "2021-09-03T04:30:06.412054",
     "status": "completed"
    },
    "tags": []
   },
   "outputs": [],
   "source": [
    "import torch.nn as nn\n",
    "import torch.nn.functional as F\n",
    "import pandas as pd\n",
    "import numpy as np\n",
    "import matplotlib.pyplot as plt\n",
    "import torch\n",
    "import torchvision\n",
    "import torchvision.transforms as transforms\n",
    "from torch.utils.data import Dataset, DataLoader\n",
    "from torchvision import transforms, utils\n",
    "from matplotlib import pyplot as plt\n",
    "import copy\n",
    "\n",
    "from sparsemax import Sparsemax\n",
    "# Ignore warnings\n",
    "import warnings\n",
    "warnings.filterwarnings(\"ignore\")\n",
    "n_seed = 0"
   ]
  },
  {
   "cell_type": "code",
   "execution_count": 6,
   "id": "502e9dfa",
   "metadata": {
    "execution": {
     "iopub.execute_input": "2021-09-03T04:30:07.881380Z",
     "iopub.status.busy": "2021-09-03T04:30:07.880858Z",
     "iopub.status.idle": "2021-09-03T04:30:07.884624Z",
     "shell.execute_reply": "2021-09-03T04:30:07.884223Z",
     "shell.execute_reply.started": "2021-09-03T03:43:46.177898Z"
    },
    "id": "_rVTn9u9uBRn",
    "papermill": {
     "duration": 0.041562,
     "end_time": "2021-09-03T04:30:07.884749",
     "exception": false,
     "start_time": "2021-09-03T04:30:07.843187",
     "status": "completed"
    },
    "tags": []
   },
   "outputs": [],
   "source": [
    "torch.backends.cudnn.deterministic = True\n",
    "torch.backends.cudnn.benchmark= False"
   ]
  },
  {
   "cell_type": "code",
   "execution_count": 7,
   "id": "a2fe7fab",
   "metadata": {
    "execution": {
     "iopub.execute_input": "2021-09-03T04:30:07.957221Z",
     "iopub.status.busy": "2021-09-03T04:30:07.956536Z",
     "iopub.status.idle": "2021-09-03T04:30:13.862270Z",
     "shell.execute_reply": "2021-09-03T04:30:13.861299Z",
     "shell.execute_reply.started": "2021-09-03T03:43:46.848818Z"
    },
    "id": "acRFqJNrZErV",
    "outputId": "8b937572-e8ec-458e-edd8-0ed0170b0fc9",
    "papermill": {
     "duration": 5.944233,
     "end_time": "2021-09-03T04:30:13.862420",
     "exception": false,
     "start_time": "2021-09-03T04:30:07.918187",
     "status": "completed"
    },
    "tags": []
   },
   "outputs": [
    {
     "name": "stdout",
     "output_type": "stream",
     "text": [
      "Downloading https://www.cs.toronto.edu/~kriz/cifar-10-python.tar.gz to ./data/cifar-10-python.tar.gz\n"
     ]
    },
    {
     "data": {
      "application/vnd.jupyter.widget-view+json": {
       "model_id": "257dd9815beb492b8aab3be8f77e6d22",
       "version_major": 2,
       "version_minor": 0
      },
      "text/plain": [
       "0it [00:00, ?it/s]"
      ]
     },
     "metadata": {},
     "output_type": "display_data"
    },
    {
     "name": "stdout",
     "output_type": "stream",
     "text": [
      "Extracting ./data/cifar-10-python.tar.gz to ./data\n",
      "Files already downloaded and verified\n"
     ]
    }
   ],
   "source": [
    "transform = transforms.Compose(\n",
    "    [transforms.ToTensor(),\n",
    "     transforms.Normalize((0.5, 0.5, 0.5), (0.5, 0.5, 0.5))])\n",
    "\n",
    "trainset = torchvision.datasets.CIFAR10(root='./data', train=True, download=True, transform=transform)\n",
    "\n",
    "\n",
    "testset = torchvision.datasets.CIFAR10(root='./data', train=False, download=True, transform=transform)\n"
   ]
  },
  {
   "cell_type": "code",
   "execution_count": 8,
   "id": "dc5b731a",
   "metadata": {
    "execution": {
     "iopub.execute_input": "2021-09-03T04:30:13.939407Z",
     "iopub.status.busy": "2021-09-03T04:30:13.938649Z",
     "iopub.status.idle": "2021-09-03T04:30:13.941552Z",
     "shell.execute_reply": "2021-09-03T04:30:13.941094Z",
     "shell.execute_reply.started": "2021-09-03T03:44:29.4724Z"
    },
    "id": "gh5DXuAV1tp5",
    "papermill": {
     "duration": 0.042978,
     "end_time": "2021-09-03T04:30:13.941675",
     "exception": false,
     "start_time": "2021-09-03T04:30:13.898697",
     "status": "completed"
    },
    "tags": []
   },
   "outputs": [],
   "source": [
    "trainloader = torch.utils.data.DataLoader(trainset, batch_size=10, shuffle=False)\n",
    "testloader = torch.utils.data.DataLoader(testset, batch_size=10, shuffle=False)\n",
    "\n",
    "\n",
    "classes = ('plane', 'car', 'bird', 'cat', 'deer', 'dog', 'frog', 'horse', 'ship', 'truck')\n",
    "\n",
    "foreground_classes = {'plane', 'car', 'bird'}\n",
    "#foreground_classes = {'bird', 'cat', 'deer'}\n",
    "background_classes = {'cat', 'deer', 'dog', 'frog', 'horse', 'ship', 'truck'}\n",
    "#background_classes = {'plane', 'car', 'dog', 'frog', 'horse','ship', 'truck'}\n",
    "\n",
    "fg1,fg2,fg3 = 0,1,2"
   ]
  },
  {
   "cell_type": "code",
   "execution_count": 9,
   "id": "465c12f8",
   "metadata": {
    "execution": {
     "iopub.execute_input": "2021-09-03T04:30:14.019476Z",
     "iopub.status.busy": "2021-09-03T04:30:14.018901Z",
     "iopub.status.idle": "2021-09-03T04:31:03.241678Z",
     "shell.execute_reply": "2021-09-03T04:31:03.242512Z",
     "shell.execute_reply.started": "2021-09-03T03:44:32.803285Z"
    },
    "id": "V_JUhwCeZErk",
    "papermill": {
     "duration": 49.266347,
     "end_time": "2021-09-03T04:31:03.242764",
     "exception": false,
     "start_time": "2021-09-03T04:30:13.976417",
     "status": "completed"
    },
    "tags": []
   },
   "outputs": [],
   "source": [
    "dataiter = iter(trainloader)\n",
    "background_data=[]\n",
    "background_label=[]\n",
    "foreground_data=[]\n",
    "foreground_label=[]\n",
    "batch_size=10\n",
    "\n",
    "for i in range(5000):\n",
    "  images, labels = dataiter.next()\n",
    "  for j in range(batch_size):\n",
    "    if(classes[labels[j]] in background_classes):\n",
    "      img = images[j].tolist()\n",
    "      background_data.append(img)\n",
    "      background_label.append(labels[j])\n",
    "    else:\n",
    "      img = images[j].tolist()\n",
    "      foreground_data.append(img)\n",
    "      foreground_label.append(labels[j])\n",
    "            \n",
    "foreground_data = torch.tensor(foreground_data)\n",
    "foreground_label = torch.tensor(foreground_label)\n",
    "background_data = torch.tensor(background_data)\n",
    "background_label = torch.tensor(background_label)"
   ]
  },
  {
   "cell_type": "code",
   "execution_count": 10,
   "id": "eaa5b02b",
   "metadata": {
    "execution": {
     "iopub.execute_input": "2021-09-03T04:31:03.375768Z",
     "iopub.status.busy": "2021-09-03T04:31:03.374821Z",
     "iopub.status.idle": "2021-09-03T04:31:03.376660Z",
     "shell.execute_reply": "2021-09-03T04:31:03.377261Z",
     "shell.execute_reply.started": "2021-09-03T03:45:22.711343Z"
    },
    "id": "uW9MkktGysAp",
    "papermill": {
     "duration": 0.072747,
     "end_time": "2021-09-03T04:31:03.377426",
     "exception": false,
     "start_time": "2021-09-03T04:31:03.304679",
     "status": "completed"
    },
    "tags": []
   },
   "outputs": [],
   "source": [
    "def create_mosaic_img(bg_idx,fg_idx,fg): \n",
    "  \"\"\"\n",
    "  bg_idx : list of indexes of background_data[] to be used as background images in mosaic\n",
    "  fg_idx : index of image to be used as foreground image from foreground data\n",
    "  fg : at what position/index foreground image has to be stored out of 0-8\n",
    "  \"\"\"\n",
    "  image_list=[]\n",
    "  j=0\n",
    "  for i in range(9):\n",
    "    if i != fg:\n",
    "      image_list.append(background_data[bg_idx[j]])#.type(\"torch.DoubleTensor\"))\n",
    "      j+=1\n",
    "    else: \n",
    "      image_list.append(foreground_data[fg_idx])#.type(\"torch.DoubleTensor\"))\n",
    "      label = foreground_label[fg_idx]- fg1  # minus fg1 because our fore ground classes are fg1,fg2,fg3 but we have to store it as 0,1,2\n",
    "  #image_list = np.concatenate(image_list ,axis=0)\n",
    "  image_list = torch.stack(image_list) \n",
    "  return image_list,label"
   ]
  },
  {
   "cell_type": "code",
   "execution_count": 11,
   "id": "a8b5bf64",
   "metadata": {
    "execution": {
     "iopub.execute_input": "2021-09-03T04:31:03.463935Z",
     "iopub.status.busy": "2021-09-03T04:31:03.463165Z",
     "iopub.status.idle": "2021-09-03T04:31:08.656111Z",
     "shell.execute_reply": "2021-09-03T04:31:08.655199Z",
     "shell.execute_reply.started": "2021-09-03T03:45:22.720107Z"
    },
    "id": "lWxkp87fNwnM",
    "papermill": {
     "duration": 5.235567,
     "end_time": "2021-09-03T04:31:08.656254",
     "exception": false,
     "start_time": "2021-09-03T04:31:03.420687",
     "status": "completed"
    },
    "tags": []
   },
   "outputs": [],
   "source": [
    "desired_num = 30000\n",
    "mosaic_list_of_images =[]      # list of mosaic images, each mosaic image is saved as list of 9 images\n",
    "fore_idx =[]                   # list of indexes at which foreground image is present in a mosaic image i.e from 0 to 9               \n",
    "mosaic_label=[]                # label of mosaic image = foreground class present in that mosaic\n",
    "for i in range(desired_num):\n",
    "  np.random.seed(i)\n",
    "  bg_idx = np.random.randint(0,35000,8)\n",
    "  fg_idx = np.random.randint(0,15000)\n",
    "  fg = np.random.randint(0,9)\n",
    "  fore_idx.append(fg)\n",
    "  image_list,label = create_mosaic_img(bg_idx,fg_idx,fg)\n",
    "  mosaic_list_of_images.append(image_list)\n",
    "  mosaic_label.append(label)"
   ]
  },
  {
   "cell_type": "code",
   "execution_count": 12,
   "id": "2f9f4d62",
   "metadata": {
    "execution": {
     "iopub.execute_input": "2021-09-03T04:31:08.743897Z",
     "iopub.status.busy": "2021-09-03T04:31:08.736128Z",
     "iopub.status.idle": "2021-09-03T04:31:08.884186Z",
     "shell.execute_reply": "2021-09-03T04:31:08.884586Z",
     "shell.execute_reply.started": "2021-09-03T03:45:27.886881Z"
    },
    "id": "TNMMsJ_auBRs",
    "outputId": "1eaf419e-a155-445a-86e3-e12cb440d065",
    "papermill": {
     "duration": 0.193312,
     "end_time": "2021-09-03T04:31:08.884732",
     "exception": false,
     "start_time": "2021-09-03T04:31:08.691420",
     "status": "completed"
    },
    "tags": []
   },
   "outputs": [
    {
     "data": {
      "text/plain": [
       "<matplotlib.image.AxesImage at 0x7fe18c1d7250>"
      ]
     },
     "execution_count": 12,
     "metadata": {},
     "output_type": "execute_result"
    },
    {
     "data": {
      "image/png": "[encoded data removed]",
      "text/plain": [
       "<Figure size 432x288 with 1 Axes>"
      ]
     },
     "metadata": {
      "needs_background": "light"
     },
     "output_type": "display_data"
    }
   ],
   "source": [
    "plt.imshow(torch.transpose(mosaic_list_of_images[0][1],dim0= 0,dim1 = 2))"
   ]
  },
  {
   "cell_type": "code",
   "execution_count": 13,
   "id": "52199e77",
   "metadata": {
    "execution": {
     "iopub.execute_input": "2021-09-03T04:31:08.962213Z",
     "iopub.status.busy": "2021-09-03T04:31:08.961581Z",
     "iopub.status.idle": "2021-09-03T04:31:08.964770Z",
     "shell.execute_reply": "2021-09-03T04:31:08.964358Z",
     "shell.execute_reply.started": "2021-09-03T03:45:28.054106Z"
    },
    "id": "AJuGak6_zXgx",
    "papermill": {
     "duration": 0.044232,
     "end_time": "2021-09-03T04:31:08.964876",
     "exception": false,
     "start_time": "2021-09-03T04:31:08.920644",
     "status": "completed"
    },
    "tags": []
   },
   "outputs": [],
   "source": [
    "class MosaicDataset(Dataset):\n",
    "  \"\"\"MosaicDataset dataset.\"\"\"\n",
    "\n",
    "  def __init__(self, mosaic_list_of_images, mosaic_label, fore_idx):\n",
    "    \"\"\"\n",
    "      Args:\n",
    "        csv_file (string): Path to the csv file with annotations.\n",
    "        root_dir (string): Directory with all the images.\n",
    "        transform (callable, optional): Optional transform to be applied\n",
    "            on a sample.\n",
    "    \"\"\"\n",
    "    self.mosaic = mosaic_list_of_images\n",
    "    self.label = mosaic_label\n",
    "    self.fore_idx = fore_idx\n",
    "\n",
    "  def __len__(self):\n",
    "    return len(self.label)\n",
    "\n",
    "  def __getitem__(self, idx):\n",
    "    return self.mosaic[idx] , self.label[idx], self.fore_idx[idx]\n",
    "\n",
    "batch = 250\n",
    "msd = MosaicDataset(mosaic_list_of_images, mosaic_label , fore_idx)\n",
    "train_loader = DataLoader( msd,batch_size= batch ,shuffle=True)"
   ]
  },
  {
   "cell_type": "code",
   "execution_count": 14,
   "id": "a2521649",
   "metadata": {
    "execution": {
     "iopub.execute_input": "2021-09-03T04:31:09.058131Z",
     "iopub.status.busy": "2021-09-03T04:31:09.056886Z",
     "iopub.status.idle": "2021-09-03T04:31:09.059571Z",
     "shell.execute_reply": "2021-09-03T04:31:09.059175Z",
     "shell.execute_reply.started": "2021-09-03T03:46:51.822126Z"
    },
    "id": "bePj73XKuJpC",
    "papermill": {
     "duration": 0.059328,
     "end_time": "2021-09-03T04:31:09.059689",
     "exception": false,
     "start_time": "2021-09-03T04:31:09.000361",
     "status": "completed"
    },
    "tags": []
   },
   "outputs": [],
   "source": [
    "class Focus(nn.Module):\n",
    "  def __init__(self):\n",
    "    super(Focus, self).__init__()\n",
    "    self.conv1 = nn.Conv2d(in_channels=3, out_channels=32, kernel_size=3, padding=0,bias=False)\n",
    "    self.conv2 = nn.Conv2d(in_channels=32, out_channels=64, kernel_size=3, padding=0,bias=False)\n",
    "    self.conv3 = nn.Conv2d(in_channels=64, out_channels=64, kernel_size=3, padding=0,bias=False)\n",
    "    self.conv4 = nn.Conv2d(in_channels=64, out_channels=128, kernel_size=3, padding=0,bias=False)\n",
    "    self.conv5 = nn.Conv2d(in_channels=128, out_channels=256, kernel_size=3, padding=0,bias=False)\n",
    "    self.conv6 = nn.Conv2d(in_channels=256, out_channels=256, kernel_size=3, padding=1,bias=False)\n",
    "    self.pool = nn.MaxPool2d(kernel_size=2, stride=2)\n",
    "    self.batch_norm1 = nn.BatchNorm2d(32,track_running_stats=False)\n",
    "    self.batch_norm2 = nn.BatchNorm2d(64,track_running_stats=False)\n",
    "    self.batch_norm3 = nn.BatchNorm2d(256,track_running_stats=False)\n",
    "    self.dropout1 = nn.Dropout2d(p=0.05)\n",
    "    self.dropout2 = nn.Dropout2d(p=0.1)\n",
    "    self.fc1 = nn.Linear(256,64,bias=False)\n",
    "    self.fc2 = nn.Linear(64, 32,bias=False)\n",
    "    self.fc3 = nn.Linear(32, 10,bias=False)\n",
    "    self.fc4 = nn.Linear(10, 1,bias=False)\n",
    "\n",
    "    torch.nn.init.xavier_normal_(self.conv1.weight)\n",
    "    torch.nn.init.xavier_normal_(self.conv2.weight)\n",
    "    torch.nn.init.xavier_normal_(self.conv3.weight)\n",
    "    torch.nn.init.xavier_normal_(self.conv4.weight)\n",
    "    torch.nn.init.xavier_normal_(self.conv5.weight)\n",
    "    torch.nn.init.xavier_normal_(self.conv6.weight)\n",
    "\n",
    "    torch.nn.init.xavier_normal_(self.fc1.weight)\n",
    "    torch.nn.init.xavier_normal_(self.fc2.weight)\n",
    "    torch.nn.init.xavier_normal_(self.fc3.weight)\n",
    "    torch.nn.init.xavier_normal_(self.fc4.weight)\n",
    "    self.sparsemax = Sparsemax(dim=-1) \n",
    "    \n",
    "\n",
    "  def forward(self,z):  #y is avg image #z batch of list of 9 images\n",
    "    y = torch.zeros([batch,256, 3,3], dtype=torch.float64)\n",
    "    x = torch.zeros([batch,9],dtype=torch.float64)\n",
    "    ftr = torch.zeros([batch,9,256,3,3])\n",
    "    y = y.to(\"cuda\")\n",
    "    x = x.to(\"cuda\")\n",
    "    ftr = ftr.to(\"cuda\")\n",
    "    \n",
    "    for i in range(9):\n",
    "        out,ftrs = self.helper(z[:,i])\n",
    "        #print(out.shape)\n",
    "        x[:,i] = out\n",
    "        ftr[:,i] = ftrs\n",
    "    x = self.sparsemax(x) \n",
    "\n",
    "    for i in range(9):            \n",
    "      x1 = x[:,i]          \n",
    "      y = y + torch.mul(x1[:,None,None,None],ftr[:,i])\n",
    "\n",
    "    return x, y #alpha, avg_data\n",
    "    \n",
    "  def helper(self, x):\n",
    "\n",
    "    x = self.conv1(x)\n",
    "    x = F.relu(self.batch_norm1(x))\n",
    "\n",
    "    x = (F.relu(self.conv2(x)))\n",
    "    x = self.pool(x)\n",
    "    \n",
    "    x = self.conv3(x)\n",
    "    x = F.relu(self.batch_norm2(x))\n",
    "\n",
    "    x = (F.relu(self.conv4(x)))\n",
    "    x = self.pool(x)\n",
    "    x = self.dropout1(x)\n",
    "\n",
    "    x = self.conv5(x)\n",
    "    \n",
    "    x = F.relu(self.batch_norm3(x))\n",
    "\n",
    "    x = self.conv6(x)\n",
    "    x1 = F.tanh(x)\n",
    "    x = F.relu(x)\n",
    "    x = self.pool(x)\n",
    "\n",
    "    x = x.view(x.size(0), -1)\n",
    "\n",
    "    x = self.dropout2(x)\n",
    "    x = F.relu(self.fc1(x))\n",
    "    x = F.relu(self.fc2(x))\n",
    "    x = self.dropout2(x)\n",
    "    x = F.relu(self.fc3(x))\n",
    "    x = self.fc4(x)\n",
    "    x = x[:,0] \n",
    "    # print(x.shape)\n",
    "    return x,x1"
   ]
  },
  {
   "cell_type": "code",
   "execution_count": 15,
   "id": "207d0421",
   "metadata": {
    "execution": {
     "iopub.execute_input": "2021-09-03T04:31:09.136069Z",
     "iopub.status.busy": "2021-09-03T04:31:09.135418Z",
     "iopub.status.idle": "2021-09-03T04:31:13.271431Z",
     "shell.execute_reply": "2021-09-03T04:31:13.270926Z",
     "shell.execute_reply.started": "2021-09-03T03:47:10.136968Z"
    },
    "id": "1GvXR1zV5n4w",
    "papermill": {
     "duration": 4.175536,
     "end_time": "2021-09-03T04:31:13.271551",
     "exception": false,
     "start_time": "2021-09-03T04:31:09.096015",
     "status": "completed"
    },
    "tags": []
   },
   "outputs": [],
   "source": [
    "torch.manual_seed(n_seed)\n",
    "focus_net = Focus().double()\n",
    "focus_net = focus_net.to(\"cuda\")"
   ]
  },
  {
   "cell_type": "code",
   "execution_count": 16,
   "id": "c0116673",
   "metadata": {
    "execution": {
     "iopub.execute_input": "2021-09-03T04:31:13.361875Z",
     "iopub.status.busy": "2021-09-03T04:31:13.361094Z",
     "iopub.status.idle": "2021-09-03T04:31:13.363669Z",
     "shell.execute_reply": "2021-09-03T04:31:13.363256Z",
     "shell.execute_reply.started": "2021-09-03T03:47:15.494388Z"
    },
    "id": "LYdCXceZzSk9",
    "papermill": {
     "duration": 0.055605,
     "end_time": "2021-09-03T04:31:13.363775",
     "exception": false,
     "start_time": "2021-09-03T04:31:13.308170",
     "status": "completed"
    },
    "tags": []
   },
   "outputs": [],
   "source": [
    "class Classification(nn.Module):\n",
    "  def __init__(self):\n",
    "    super(Classification, self).__init__()\n",
    "    self.conv1 = nn.Conv2d(in_channels=256, out_channels=128, kernel_size=3, padding=1)\n",
    "    self.conv2 = nn.Conv2d(in_channels=128, out_channels=128, kernel_size=3, padding=1)\n",
    "    self.conv3 = nn.Conv2d(in_channels=128, out_channels=256, kernel_size=3, padding=1)\n",
    "    self.conv4 = nn.Conv2d(in_channels=256, out_channels=256, kernel_size=3, padding=1)\n",
    "    self.conv5 = nn.Conv2d(in_channels=256, out_channels=512, kernel_size=3, padding=1)\n",
    "    self.conv6 = nn.Conv2d(in_channels=512, out_channels=512, kernel_size=3, padding=1)\n",
    "    self.pool = nn.MaxPool2d(kernel_size=2, stride=2,padding=1)\n",
    "    self.batch_norm1 = nn.BatchNorm2d(128,track_running_stats=False)\n",
    "    self.batch_norm2 = nn.BatchNorm2d(256,track_running_stats=False)\n",
    "    self.batch_norm3 = nn.BatchNorm2d(512,track_running_stats=False)\n",
    "    self.dropout1 = nn.Dropout2d(p=0.05)\n",
    "    self.dropout2 = nn.Dropout2d(p=0.1)\n",
    "    self.global_average_pooling = nn.AvgPool2d(kernel_size=2)\n",
    "    self.fc1 = nn.Linear(512,128)\n",
    "    # self.fc2 = nn.Linear(128, 64)\n",
    "    # self.fc3 = nn.Linear(64, 10)\n",
    "    self.fc2 = nn.Linear(128, 3)\n",
    "\n",
    "    torch.nn.init.xavier_normal_(self.conv1.weight)\n",
    "    torch.nn.init.xavier_normal_(self.conv2.weight)\n",
    "    torch.nn.init.xavier_normal_(self.conv3.weight)\n",
    "    torch.nn.init.xavier_normal_(self.conv4.weight)\n",
    "    torch.nn.init.xavier_normal_(self.conv5.weight)\n",
    "    torch.nn.init.xavier_normal_(self.conv6.weight)\n",
    "\n",
    "    torch.nn.init.zeros_(self.conv1.bias)\n",
    "    torch.nn.init.zeros_(self.conv2.bias)\n",
    "    torch.nn.init.zeros_(self.conv3.bias)\n",
    "    torch.nn.init.zeros_(self.conv4.bias)\n",
    "    torch.nn.init.zeros_(self.conv5.bias)\n",
    "    torch.nn.init.zeros_(self.conv6.bias)\n",
    "\n",
    "\n",
    "    torch.nn.init.xavier_normal_(self.fc1.weight)\n",
    "    torch.nn.init.xavier_normal_(self.fc2.weight)\n",
    "    torch.nn.init.zeros_(self.fc1.bias)\n",
    "    torch.nn.init.zeros_(self.fc2.bias)\n",
    "\n",
    "\n",
    "  def forward(self, x):\n",
    "    x = self.conv1(x)\n",
    "    x = F.relu(self.batch_norm1(x))\n",
    "\n",
    "    x = (F.relu(self.conv2(x)))\n",
    "    x = self.pool(x)\n",
    "    \n",
    "    x = self.conv3(x)\n",
    "    x = F.relu(self.batch_norm2(x))\n",
    "\n",
    "    x = (F.relu(self.conv4(x)))\n",
    "    x = self.pool(x)\n",
    "    x = self.dropout1(x)\n",
    "\n",
    "    x = self.conv5(x)\n",
    "    x = F.relu(self.batch_norm3(x))\n",
    "\n",
    "    x = (F.relu(self.conv6(x)))\n",
    "    x = self.pool(x)\n",
    "    #print(x.shape)\n",
    "    x = self.global_average_pooling(x)\n",
    "    x = x.squeeze()\n",
    "    #x = x.view(x.size(0), -1)\n",
    "    #print(x.shape)\n",
    "    x = self.dropout2(x)\n",
    "    x = F.relu(self.fc1(x))\n",
    "    #x = F.relu(self.fc2(x))\n",
    "    #x = self.dropout2(x)\n",
    "    #x = F.relu(self.fc3(x))\n",
    "    x = self.fc2(x)\n",
    "    return x"
   ]
  },
  {
   "cell_type": "code",
   "execution_count": 17,
   "id": "170a0747",
   "metadata": {
    "execution": {
     "iopub.execute_input": "2021-09-03T04:31:13.438722Z",
     "iopub.status.busy": "2021-09-03T04:31:13.438055Z",
     "iopub.status.idle": "2021-09-03T04:31:13.551923Z",
     "shell.execute_reply": "2021-09-03T04:31:13.552322Z",
     "shell.execute_reply.started": "2021-09-03T03:47:18.202066Z"
    },
    "id": "uPYplUGazU9I",
    "papermill": {
     "duration": 0.153088,
     "end_time": "2021-09-03T04:31:13.552468",
     "exception": false,
     "start_time": "2021-09-03T04:31:13.399380",
     "status": "completed"
    },
    "tags": []
   },
   "outputs": [],
   "source": [
    "torch.manual_seed(n_seed)\n",
    "classify = Classification().double()\n",
    "classify = classify.to(\"cuda\")"
   ]
  },
  {
   "cell_type": "code",
   "execution_count": 18,
   "id": "92d1c0cc",
   "metadata": {
    "execution": {
     "iopub.execute_input": "2021-09-03T04:31:13.630360Z",
     "iopub.status.busy": "2021-09-03T04:31:13.629407Z",
     "iopub.status.idle": "2021-09-03T04:31:15.238582Z",
     "shell.execute_reply": "2021-09-03T04:31:15.238122Z",
     "shell.execute_reply.started": "2021-09-03T03:47:20.740987Z"
    },
    "id": "l789TLMP9zJX",
    "papermill": {
     "duration": 1.650333,
     "end_time": "2021-09-03T04:31:15.238720",
     "exception": false,
     "start_time": "2021-09-03T04:31:13.588387",
     "status": "completed"
    },
    "tags": []
   },
   "outputs": [],
   "source": [
    "test_images =[]        #list of mosaic images, each mosaic image is saved as laist of 9 images\n",
    "fore_idx_test =[]                   #list of indexes at which foreground image is present in a mosaic image                \n",
    "test_label=[]                # label of mosaic image = foreground class present in that mosaic\n",
    "for i in range(10000):\n",
    "  np.random.seed(i+30000)\n",
    "  bg_idx = np.random.randint(0,35000,8)\n",
    "  fg_idx = np.random.randint(0,15000)\n",
    "  fg = np.random.randint(0,9)\n",
    "  fore_idx_test.append(fg)\n",
    "  image_list,label = create_mosaic_img(bg_idx,fg_idx,fg)\n",
    "  test_images.append(image_list)\n",
    "  test_label.append(label)"
   ]
  },
  {
   "cell_type": "code",
   "execution_count": 19,
   "id": "0c320041",
   "metadata": {
    "execution": {
     "iopub.execute_input": "2021-09-03T04:31:15.314749Z",
     "iopub.status.busy": "2021-09-03T04:31:15.314220Z",
     "iopub.status.idle": "2021-09-03T04:31:15.317479Z",
     "shell.execute_reply": "2021-09-03T04:31:15.318060Z",
     "shell.execute_reply.started": "2021-09-03T03:47:29.715272Z"
    },
    "id": "bBzV9dKS5po7",
    "papermill": {
     "duration": 0.043489,
     "end_time": "2021-09-03T04:31:15.318187",
     "exception": false,
     "start_time": "2021-09-03T04:31:15.274698",
     "status": "completed"
    },
    "tags": []
   },
   "outputs": [],
   "source": [
    "test_data = MosaicDataset(test_images,test_label,fore_idx_test)\n",
    "test_loader = DataLoader( test_data,batch_size= batch ,shuffle=False)"
   ]
  },
  {
   "cell_type": "code",
   "execution_count": 20,
   "id": "8269d172",
   "metadata": {
    "execution": {
     "iopub.execute_input": "2021-09-03T04:31:15.393213Z",
     "iopub.status.busy": "2021-09-03T04:31:15.392717Z",
     "iopub.status.idle": "2021-09-03T04:31:15.395944Z",
     "shell.execute_reply": "2021-09-03T04:31:15.396341Z",
     "shell.execute_reply.started": "2021-09-03T03:47:34.020574Z"
    },
    "id": "NIZAdWWL93SJ",
    "papermill": {
     "duration": 0.042448,
     "end_time": "2021-09-03T04:31:15.396453",
     "exception": false,
     "start_time": "2021-09-03T04:31:15.354005",
     "status": "completed"
    },
    "tags": []
   },
   "outputs": [],
   "source": [
    "criterion = nn.CrossEntropyLoss()"
   ]
  },
  {
   "cell_type": "code",
   "execution_count": 21,
   "id": "fb35e29a",
   "metadata": {
    "execution": {
     "iopub.execute_input": "2021-09-03T04:31:15.472056Z",
     "iopub.status.busy": "2021-09-03T04:31:15.471517Z",
     "iopub.status.idle": "2021-09-03T04:31:15.475242Z",
     "shell.execute_reply": "2021-09-03T04:31:15.474853Z",
     "shell.execute_reply.started": "2021-09-03T03:47:42.092231Z"
    },
    "id": "n5g3geNJ5zEu",
    "papermill": {
     "duration": 0.043322,
     "end_time": "2021-09-03T04:31:15.475342",
     "exception": false,
     "start_time": "2021-09-03T04:31:15.432020",
     "status": "completed"
    },
    "tags": []
   },
   "outputs": [],
   "source": [
    "import torch.optim as optim\n",
    "# criterion_classify = nn.CrossEntropyLoss()\n",
    "optimizer_focus = optim.Adam(focus_net.parameters(), lr=0.001)#, momentum=0.9)\n",
    "optimizer_classify = optim.Adam(classify.parameters(), lr=0.001)#, momentum=0.9)"
   ]
  },
  {
   "cell_type": "code",
   "execution_count": 22,
   "id": "73be29a8",
   "metadata": {
    "execution": {
     "iopub.execute_input": "2021-09-03T04:31:15.551045Z",
     "iopub.status.busy": "2021-09-03T04:31:15.550370Z",
     "iopub.status.idle": "2021-09-03T04:31:15.553258Z",
     "shell.execute_reply": "2021-09-03T04:31:15.552759Z",
     "shell.execute_reply.started": "2021-09-03T03:47:44.783125Z"
    },
    "id": "q8FurF4uDlOf",
    "papermill": {
     "duration": 0.042421,
     "end_time": "2021-09-03T04:31:15.553356",
     "exception": false,
     "start_time": "2021-09-03T04:31:15.510935",
     "status": "completed"
    },
    "tags": []
   },
   "outputs": [],
   "source": [
    "col1=[]\n",
    "col2=[]\n",
    "col3=[]\n",
    "col4=[]\n",
    "col5=[]\n",
    "col6=[]\n",
    "col7=[]\n",
    "col8=[]\n",
    "col9=[]\n",
    "col10=[]\n",
    "col11=[]\n",
    "col12=[]\n",
    "col13=[]\n",
    "col14 = [] # train average sparsity\n",
    "col15 = [] # test average sparsity\n",
    "\n"
   ]
  },
  {
   "cell_type": "code",
   "execution_count": 23,
   "id": "ab8c4a12",
   "metadata": {
    "execution": {
     "iopub.execute_input": "2021-09-03T04:31:15.639548Z",
     "iopub.status.busy": "2021-09-03T04:31:15.631879Z",
     "iopub.status.idle": "2021-09-03T04:31:43.460974Z",
     "shell.execute_reply": "2021-09-03T04:31:43.461899Z",
     "shell.execute_reply.started": "2021-09-03T03:48:00.348709Z"
    },
    "id": "u7wkoxckDlIg",
    "outputId": "8bd39cf0-6ed5-4baf-9ca9-2ef79eb52dad",
    "papermill": {
     "duration": 27.873348,
     "end_time": "2021-09-03T04:31:43.462101",
     "exception": false,
     "start_time": "2021-09-03T04:31:15.588753",
     "status": "completed"
    },
    "tags": []
   },
   "outputs": [
    {
     "name": "stdout",
     "output_type": "stream",
     "text": [
      "Accuracy of the network on the 30000 train images: 33.790000 %\n",
      "total correct 10137\n",
      "total train set images 30000\n",
      "focus_true_pred_true 411 =============> FTPT : 1.370000 %\n",
      "focus_false_pred_true 9726 =============> FFPT : 32.420000 %\n",
      "focus_true_pred_false 1586 =============> FTPF : 5.286667 %\n",
      "focus_false_pred_false 18277 =============> FFPF : 60.923333 %\n",
      "Sparsity_Value 164937 =============> AVG Sparsity : 5.497900 \n",
      "argmax_more_than_half ==================>  927\n",
      "argmax_less_than_half ==================>  29073\n",
      "30000\n",
      "====================================================================================================\n"
     ]
    }
   ],
   "source": [
    "correct = 0\n",
    "total = 0\n",
    "count = 0\n",
    "flag = 1\n",
    "focus_true_pred_true =0\n",
    "focus_false_pred_true =0\n",
    "focus_true_pred_false =0\n",
    "focus_false_pred_false =0\n",
    "\n",
    "argmax_more_than_half = 0\n",
    "argmax_less_than_half =0\n",
    "sparse_val = 0 \n",
    "focus_net.eval()\n",
    "classify.eval()\n",
    "with torch.no_grad():\n",
    "  for data in train_loader:\n",
    "    inputs, labels , fore_idx = data\n",
    "    inputs = inputs.double()\n",
    "    inputs, labels , fore_idx = inputs.to(\"cuda\"),labels.to(\"cuda\"), fore_idx.to(\"cuda\")\n",
    "    alphas, avg_images = focus_net(inputs)\n",
    "    # print(inputs.shape, alphas.shape, avg_images.shape)\n",
    "    outputs = classify(avg_images)\n",
    "\n",
    "    _, predicted = torch.max(outputs.data, 1)\n",
    "    \n",
    "    sparse_val += torch.sum(torch.sum(alphas>0.01,dim=1)).item()\n",
    "\n",
    "\n",
    "    for j in range(labels.size(0)):\n",
    "      count += 1\n",
    "      focus = torch.argmax(alphas[j])\n",
    "      if alphas[j][focus] >= 0.5 :\n",
    "        argmax_more_than_half += 1\n",
    "      else:\n",
    "        argmax_less_than_half += 1\n",
    "\n",
    "      if(focus == fore_idx[j] and predicted[j] == labels[j]):\n",
    "          focus_true_pred_true += 1\n",
    "      elif(focus != fore_idx[j] and predicted[j] == labels[j]):\n",
    "        focus_false_pred_true += 1\n",
    "      elif(focus == fore_idx[j] and predicted[j] != labels[j]):\n",
    "        focus_true_pred_false += 1\n",
    "      elif(focus != fore_idx[j] and predicted[j] != labels[j]):\n",
    "        focus_false_pred_false += 1\n",
    "\n",
    "    total += labels.size(0)\n",
    "    correct += (predicted == labels).sum().item()\n",
    "\n",
    "print('Accuracy of the network on the 30000 train images: %f %%' % ( 100 * correct / total))\n",
    "print(\"total correct\", correct)\n",
    "print(\"total train set images\", total)\n",
    "\n",
    "print(\"focus_true_pred_true %d =============> FTPT : %f %%\" % (focus_true_pred_true , (100 * focus_true_pred_true / total) ) )\n",
    "print(\"focus_false_pred_true %d =============> FFPT : %f %%\" % (focus_false_pred_true, (100 * focus_false_pred_true / total) ) )\n",
    "print(\"focus_true_pred_false %d =============> FTPF : %f %%\" %( focus_true_pred_false , ( 100 * focus_true_pred_false / total) ) )\n",
    "print(\"focus_false_pred_false %d =============> FFPF : %f %%\" % (focus_false_pred_false, ( 100 * focus_false_pred_false / total) ) )\n",
    "print(\"Sparsity_Value %d =============> AVG Sparsity : %f \" % (sparse_val,(sparse_val)/total))\n",
    "print(\"argmax_more_than_half ==================> \",argmax_more_than_half)\n",
    "print(\"argmax_less_than_half ==================> \",argmax_less_than_half)\n",
    "print(count)\n",
    "\n",
    "print(\"=\"*100)\n",
    "\n",
    "col1.append(0)\n",
    "col2.append(argmax_more_than_half)\n",
    "col3.append(argmax_less_than_half)\n",
    "col4.append(focus_true_pred_true)\n",
    "col5.append(focus_false_pred_true)\n",
    "col6.append(focus_true_pred_false)\n",
    "col7.append(focus_false_pred_false)\n",
    "col14.append(sparse_val)"
   ]
  },
  {
   "cell_type": "code",
   "execution_count": 24,
   "id": "12016890",
   "metadata": {
    "execution": {
     "iopub.execute_input": "2021-09-03T04:31:43.550095Z",
     "iopub.status.busy": "2021-09-03T04:31:43.548593Z",
     "iopub.status.idle": "2021-09-03T04:31:52.463256Z",
     "shell.execute_reply": "2021-09-03T04:31:52.462828Z",
     "shell.execute_reply.started": "2021-09-03T03:48:27.401401Z"
    },
    "id": "0S4x9oQuDlBa",
    "outputId": "c268f2ab-e59b-45bc-ecc0-1532f9dc95c9",
    "papermill": {
     "duration": 8.96421,
     "end_time": "2021-09-03T04:31:52.463382",
     "exception": false,
     "start_time": "2021-09-03T04:31:43.499172",
     "status": "completed"
    },
    "tags": []
   },
   "outputs": [
    {
     "name": "stdout",
     "output_type": "stream",
     "text": [
      "Accuracy of the network on the 10000 test images: 33.540000 %\n",
      "total correct 3354\n",
      "total test set images 10000\n",
      "focus_true_pred_true 138 =============> FTPT : 1.380000 %\n",
      "focus_false_pred_true 3216 =============> FFPT : 32.160000 %\n",
      "focus_true_pred_false 514 =============> FTPF : 5.140000 %\n",
      "focus_false_pred_false 6132 =============> FFPF : 61.320000 %\n",
      "Sparsity_Value 55044 =============> AVG Sparsity : 5.504400 \n",
      "argmax_more_than_half ==================>  298\n",
      "argmax_less_than_half ==================>  9702\n"
     ]
    }
   ],
   "source": [
    "correct = 0\n",
    "total = 0\n",
    "count = 0\n",
    "flag = 1\n",
    "focus_true_pred_true =0\n",
    "focus_false_pred_true =0\n",
    "focus_true_pred_false =0\n",
    "focus_false_pred_false =0\n",
    "\n",
    "argmax_more_than_half = 0\n",
    "argmax_less_than_half =0\n",
    "sparse_val = 0\n",
    "focus_net.eval()\n",
    "classify.eval()\n",
    "with torch.no_grad():\n",
    "  for data in test_loader:\n",
    "    inputs, labels , fore_idx = data\n",
    "    inputs = inputs.double()\n",
    "    inputs, labels , fore_idx = inputs.to(\"cuda\"),labels.to(\"cuda\"), fore_idx.to(\"cuda\")\n",
    "    alphas, avg_images = focus_net(inputs)\n",
    "    outputs = classify(avg_images)\n",
    "\n",
    "    _, predicted = torch.max(outputs.data, 1)\n",
    "    \n",
    "    sparse_val += torch.sum(torch.sum(alphas>0.01,dim=1)).item()\n",
    "\n",
    "    for j in range(labels.size(0)):\n",
    "      focus = torch.argmax(alphas[j])\n",
    "      if alphas[j][focus] >= 0.5 :\n",
    "        argmax_more_than_half += 1\n",
    "      else:\n",
    "        argmax_less_than_half += 1\n",
    "\n",
    "      if(focus == fore_idx[j] and predicted[j] == labels[j]):\n",
    "          focus_true_pred_true += 1\n",
    "      elif(focus != fore_idx[j] and predicted[j] == labels[j]):\n",
    "        focus_false_pred_true += 1\n",
    "      elif(focus == fore_idx[j] and predicted[j] != labels[j]):\n",
    "        focus_true_pred_false += 1\n",
    "      elif(focus != fore_idx[j] and predicted[j] != labels[j]):\n",
    "        focus_false_pred_false += 1\n",
    "\n",
    "    total += labels.size(0)\n",
    "    correct += (predicted == labels).sum().item()\n",
    "\n",
    "print('Accuracy of the network on the 10000 test images: %f %%' % (\n",
    "    100 * correct / total))\n",
    "print(\"total correct\", correct)\n",
    "print(\"total test set images\", total)\n",
    "\n",
    "print(\"focus_true_pred_true %d =============> FTPT : %f %%\" % (focus_true_pred_true , (100 * focus_true_pred_true / total) ) )\n",
    "print(\"focus_false_pred_true %d =============> FFPT : %f %%\" % (focus_false_pred_true, (100 * focus_false_pred_true / total) ) )\n",
    "print(\"focus_true_pred_false %d =============> FTPF : %f %%\" %( focus_true_pred_false , ( 100 * focus_true_pred_false / total) ) )\n",
    "print(\"focus_false_pred_false %d =============> FFPF : %f %%\" % (focus_false_pred_false, ( 100 * focus_false_pred_false / total) ) )\n",
    "print(\"Sparsity_Value %d =============> AVG Sparsity : %f \" % (sparse_val,(sparse_val)/total))\n",
    "print(\"argmax_more_than_half ==================> \",argmax_more_than_half)\n",
    "print(\"argmax_less_than_half ==================> \",argmax_less_than_half)\n",
    "col8.append(argmax_more_than_half)\n",
    "col9.append(argmax_less_than_half)\n",
    "col10.append(focus_true_pred_true)\n",
    "col11.append(focus_false_pred_true)\n",
    "col12.append(focus_true_pred_false)\n",
    "col13.append(focus_false_pred_false)\n",
    "col15.append(sparse_val)"
   ]
  },
  {
   "cell_type": "code",
   "execution_count": 25,
   "id": "ed53b484",
   "metadata": {
    "execution": {
     "iopub.execute_input": "2021-09-03T04:31:52.560376Z",
     "iopub.status.busy": "2021-09-03T04:31:52.550916Z",
     "iopub.status.idle": "2021-09-03T04:50:24.149646Z",
     "shell.execute_reply": "2021-09-03T04:50:24.150285Z",
     "shell.execute_reply.started": "2021-09-03T03:49:23.457916Z"
    },
    "id": "tFfAJZkcZEsY",
    "outputId": "439eba9f-f882-4ed4-b553-fa100981260a",
    "papermill": {
     "duration": 1111.650301,
     "end_time": "2021-09-03T04:50:24.150508",
     "exception": false,
     "start_time": "2021-09-03T04:31:52.500207",
     "status": "completed"
    },
    "tags": []
   },
   "outputs": [
    {
     "name": "stdout",
     "output_type": "stream",
     "text": [
      "[1,    60] loss: 1.172\n",
      "[1,   120] loss: 1.065\n",
      "[2,    60] loss: 0.965\n",
      "[2,   120] loss: 0.804\n",
      "[3,    60] loss: 0.657\n",
      "[3,   120] loss: 0.574\n",
      "[4,    60] loss: 0.483\n",
      "[4,   120] loss: 0.441\n",
      "[5,    60] loss: 0.355\n",
      "[5,   120] loss: 0.338\n",
      "[6,    60] loss: 0.274\n",
      "[6,   120] loss: 0.261\n",
      "[7,    60] loss: 0.210\n",
      "[7,   120] loss: 0.214\n",
      "[8,    60] loss: 0.163\n",
      "[8,   120] loss: 0.180\n",
      "[9,    60] loss: 0.132\n",
      "[9,   120] loss: 0.136\n",
      "[10,    60] loss: 0.105\n",
      "[10,   120] loss: 0.110\n",
      "[11,    60] loss: 0.086\n",
      "[11,   120] loss: 0.085\n",
      "[12,    60] loss: 0.074\n",
      "[12,   120] loss: 0.086\n",
      "[13,    60] loss: 0.065\n",
      "[13,   120] loss: 0.081\n",
      "[14,    60] loss: 0.055\n",
      "[14,   120] loss: 0.062\n",
      "[15,    60] loss: 0.050\n",
      "[15,   120] loss: 0.065\n",
      "[16,    60] loss: 0.049\n",
      "[16,   120] loss: 0.051\n",
      "[17,    60] loss: 0.038\n",
      "[17,   120] loss: 0.041\n",
      "Finished Training\n"
     ]
    }
   ],
   "source": [
    "nos_epochs = 50\n",
    "focus_true_pred_true =0\n",
    "focus_false_pred_true =0\n",
    "focus_true_pred_false =0\n",
    "focus_false_pred_false =0\n",
    "\n",
    "argmax_more_than_half = 0\n",
    "argmax_less_than_half =0\n",
    "focus_net.train()\n",
    "classify.train()\n",
    "tr_loss = []\n",
    "\n",
    "\n",
    "for epoch in range(nos_epochs):  # loop over the dataset multiple times\n",
    "  focus_net.train()\n",
    "  classify.train()\n",
    "  focus_true_pred_true =0\n",
    "  focus_false_pred_true =0\n",
    "  focus_true_pred_false =0\n",
    "  focus_false_pred_false =0\n",
    "  \n",
    "  argmax_more_than_half = 0\n",
    "  argmax_less_than_half =0\n",
    "  sparse_val = 0 \n",
    "  \n",
    "  running_loss = 0.0\n",
    "  epoch_loss = []\n",
    "  cnt=0\n",
    "\n",
    "  iteration = desired_num // batch\n",
    "  \n",
    "  #training data set\n",
    "  \n",
    "  for i, data in  enumerate(train_loader):\n",
    "    inputs , labels , fore_idx = data\n",
    "    inputs = inputs.double()\n",
    "    inputs, labels = inputs.to(\"cuda\"), labels.to(\"cuda\")\n",
    "    # zero the parameter gradients\n",
    "    optimizer_focus.zero_grad()\n",
    "    optimizer_classify.zero_grad()\n",
    "    alphas, avg_images = focus_net(inputs)\n",
    "    outputs = classify(avg_images)\n",
    "    \n",
    "    \n",
    "\n",
    "    _, predicted = torch.max(outputs.data, 1)\n",
    "\n",
    "    loss = criterion(outputs, labels)\n",
    "    loss.backward()\n",
    "    optimizer_focus.step()\n",
    "    optimizer_classify.step()\n",
    "\n",
    "    running_loss += loss.item()\n",
    "    mini = 60\n",
    "    if cnt % mini == mini-1:    # print every 40 mini-batches\n",
    "      print('[%d, %5d] loss: %.3f' %(epoch + 1, cnt + 1, running_loss / mini))\n",
    "      epoch_loss.append(running_loss/mini)\n",
    "      running_loss = 0.0\n",
    "    cnt=cnt+1\n",
    "    \n",
    "    \n",
    "    if epoch % 1 == 0:\n",
    "      sparse_val += torch.sum(torch.sum(alphas>0.01,dim=1)).item()\n",
    "      for j in range (batch):\n",
    "        focus = torch.argmax(alphas[j])\n",
    "\n",
    "        if(alphas[j][focus] >= 0.5):\n",
    "          argmax_more_than_half +=1\n",
    "        else:\n",
    "          argmax_less_than_half +=1\n",
    "\n",
    "        if(focus == fore_idx[j] and predicted[j] == labels[j]):\n",
    "          focus_true_pred_true += 1\n",
    "\n",
    "        elif(focus != fore_idx[j] and predicted[j] == labels[j]):\n",
    "          focus_false_pred_true +=1\n",
    "\n",
    "        elif(focus == fore_idx[j] and predicted[j] != labels[j]):\n",
    "          focus_true_pred_false +=1\n",
    "\n",
    "        elif(focus != fore_idx[j] and predicted[j] != labels[j]):\n",
    "          focus_false_pred_false +=1\n",
    "\n",
    "\n",
    "  tr_loss.append(np.mean(epoch_loss))\n",
    "  if epoch % 1 == 0:\n",
    "    col1.append(epoch+1)\n",
    "    col2.append(argmax_more_than_half)\n",
    "    col3.append(argmax_less_than_half)\n",
    "    col4.append(focus_true_pred_true)\n",
    "    col5.append(focus_false_pred_true)\n",
    "    col6.append(focus_true_pred_false)\n",
    "    col7.append(focus_false_pred_false)\n",
    "    col14.append(sparse_val)\n",
    "  \n",
    "    #************************************************************************\n",
    "    #testing data set \n",
    "    focus_net.eval()\n",
    "    classify.eval() \n",
    "    with torch.no_grad():\n",
    "      focus_true_pred_true =0\n",
    "      focus_false_pred_true =0\n",
    "      focus_true_pred_false =0\n",
    "      focus_false_pred_false =0\n",
    "\n",
    "      argmax_more_than_half = 0\n",
    "      argmax_less_than_half =0\n",
    "      sparse_val = 0\n",
    "      for data in test_loader:\n",
    "        inputs, labels , fore_idx = data\n",
    "        inputs = inputs.double()\n",
    "        inputs, labels = inputs.to(\"cuda\"), labels.to(\"cuda\")\n",
    "        alphas, avg_images = focus_net(inputs)\n",
    "        outputs = classify(avg_images)\n",
    "        #outputs, alphas, avg_images = classify(inputs)\n",
    "        _, predicted = torch.max(outputs.data, 1)\n",
    "        sparse_val += torch.sum(torch.sum(alphas>0.01,dim=1)).item()\n",
    "        for j in range (batch):\n",
    "          focus = torch.argmax(alphas[j])\n",
    "\n",
    "          if(alphas[j][focus] >= 0.5):\n",
    "            argmax_more_than_half +=1\n",
    "          else:\n",
    "            argmax_less_than_half +=1\n",
    "\n",
    "          if(focus == fore_idx[j] and predicted[j] == labels[j]):\n",
    "            focus_true_pred_true += 1\n",
    "\n",
    "          elif(focus != fore_idx[j] and predicted[j] == labels[j]):\n",
    "            focus_false_pred_true +=1\n",
    "\n",
    "          elif(focus == fore_idx[j] and predicted[j] != labels[j]):\n",
    "            focus_true_pred_false +=1\n",
    "\n",
    "          elif(focus != fore_idx[j] and predicted[j] != labels[j]):\n",
    "            focus_false_pred_false +=1\n",
    "      \n",
    "    col8.append(argmax_more_than_half)\n",
    "    col9.append(argmax_less_than_half)\n",
    "    col10.append(focus_true_pred_true)\n",
    "    col11.append(focus_false_pred_true)\n",
    "    col12.append(focus_true_pred_false)\n",
    "    col13.append(focus_false_pred_false)\n",
    "    col15.append(sparse_val)\n",
    "  if(np.mean(epoch_loss) <= 0.05):\n",
    "    break;\n",
    "print('Finished Training') "
   ]
  },
  {
   "cell_type": "code",
   "execution_count": 26,
   "id": "892cb9e6",
   "metadata": {
    "execution": {
     "iopub.execute_input": "2021-09-03T04:50:24.247218Z",
     "iopub.status.busy": "2021-09-03T04:50:24.246710Z",
     "iopub.status.idle": "2021-09-03T04:50:24.344149Z",
     "shell.execute_reply": "2021-09-03T04:50:24.343653Z",
     "shell.execute_reply.started": "2021-09-03T03:52:37.708682Z"
    },
    "id": "WIAJ3UZN8rPE",
    "papermill": {
     "duration": 0.146465,
     "end_time": "2021-09-03T04:50:24.344278",
     "exception": false,
     "start_time": "2021-09-03T04:50:24.197813",
     "status": "completed"
    },
    "tags": []
   },
   "outputs": [],
   "source": [
    "torch.save(focus_net.state_dict(),path+\"weights_focus_0.pt\")  \n",
    "torch.save(classify.state_dict(),path+\"weights_classify_0.pt\")"
   ]
  },
  {
   "cell_type": "code",
   "execution_count": 27,
   "id": "d8b94fd4",
   "metadata": {
    "execution": {
     "iopub.execute_input": "2021-09-03T04:50:24.438856Z",
     "iopub.status.busy": "2021-09-03T04:50:24.438310Z",
     "iopub.status.idle": "2021-09-03T04:50:24.442120Z",
     "shell.execute_reply": "2021-09-03T04:50:24.441726Z",
     "shell.execute_reply.started": "2021-09-03T03:52:39.267404Z"
    },
    "id": "2LgQKXW-8MH-",
    "papermill": {
     "duration": 0.052125,
     "end_time": "2021-09-03T04:50:24.442226",
     "exception": false,
     "start_time": "2021-09-03T04:50:24.390101",
     "status": "completed"
    },
    "tags": []
   },
   "outputs": [],
   "source": [
    "columns = [\"epochs\", \"argmax > 0.5\" ,\"argmax < 0.5\", \"focus_true_pred_true\", \"focus_false_pred_true\", \"focus_true_pred_false\", \"focus_false_pred_false\" ,\"sparse_val\"]"
   ]
  },
  {
   "cell_type": "code",
   "execution_count": 28,
   "id": "b31465f4",
   "metadata": {
    "execution": {
     "iopub.execute_input": "2021-09-03T04:50:24.537004Z",
     "iopub.status.busy": "2021-09-03T04:50:24.536321Z",
     "iopub.status.idle": "2021-09-03T04:50:24.539072Z",
     "shell.execute_reply": "2021-09-03T04:50:24.538680Z",
     "shell.execute_reply.started": "2021-09-03T03:52:40.429434Z"
    },
    "id": "tSKphM888Y5o",
    "papermill": {
     "duration": 0.051763,
     "end_time": "2021-09-03T04:50:24.539173",
     "exception": false,
     "start_time": "2021-09-03T04:50:24.487410",
     "status": "completed"
    },
    "tags": []
   },
   "outputs": [],
   "source": [
    "df_train = pd.DataFrame()\n",
    "df_test = pd.DataFrame()"
   ]
  },
  {
   "cell_type": "code",
   "execution_count": 29,
   "id": "d45d5997",
   "metadata": {
    "execution": {
     "iopub.execute_input": "2021-09-03T04:50:24.634101Z",
     "iopub.status.busy": "2021-09-03T04:50:24.633379Z",
     "iopub.status.idle": "2021-09-03T04:50:24.636354Z",
     "shell.execute_reply": "2021-09-03T04:50:24.636734Z",
     "shell.execute_reply.started": "2021-09-03T03:52:41.32567Z"
    },
    "id": "lLSfxf-zE_D1",
    "outputId": "6cc73d7a-7d81-4717-b408-62a37e00b418",
    "papermill": {
     "duration": 0.052355,
     "end_time": "2021-09-03T04:50:24.636851",
     "exception": false,
     "start_time": "2021-09-03T04:50:24.584496",
     "status": "completed"
    },
    "tags": []
   },
   "outputs": [
    {
     "data": {
      "text/plain": [
       "(18,\n",
       " [9702,\n",
       "  7294,\n",
       "  3906,\n",
       "  4171,\n",
       "  3812,\n",
       "  2942,\n",
       "  2431,\n",
       "  2221,\n",
       "  2240,\n",
       "  2245,\n",
       "  1934,\n",
       "  2464,\n",
       "  2195,\n",
       "  1838,\n",
       "  1422,\n",
       "  1863,\n",
       "  1991,\n",
       "  1819])"
      ]
     },
     "execution_count": 29,
     "metadata": {},
     "output_type": "execute_result"
    }
   ],
   "source": [
    "len(col1),col9"
   ]
  },
  {
   "cell_type": "code",
   "execution_count": 30,
   "id": "c8932802",
   "metadata": {
    "execution": {
     "iopub.execute_input": "2021-09-03T04:50:24.744931Z",
     "iopub.status.busy": "2021-09-03T04:50:24.744116Z",
     "iopub.status.idle": "2021-09-03T04:50:24.859673Z",
     "shell.execute_reply": "2021-09-03T04:50:24.860104Z",
     "shell.execute_reply.started": "2021-09-03T03:52:42.159093Z"
    },
    "id": "eBFPNm12uBR3",
    "outputId": "735aba44-f94b-4f5a-fba8-e954fe4c4c56",
    "papermill": {
     "duration": 0.178128,
     "end_time": "2021-09-03T04:50:24.860241",
     "exception": false,
     "start_time": "2021-09-03T04:50:24.682113",
     "status": "completed"
    },
    "tags": []
   },
   "outputs": [
    {
     "data": {
      "image/png": "[encoded data removed]",
      "text/plain": [
       "<Figure size 432x288 with 1 Axes>"
      ]
     },
     "metadata": {
      "needs_background": "light"
     },
     "output_type": "display_data"
    }
   ],
   "source": [
    "plt.plot(np.arange(1,epoch+2),tr_loss)\n",
    "plt.xlabel(\"epochs\", fontsize=14, fontweight = 'bold')\n",
    "plt.ylabel(\"Loss\", fontsize=14, fontweight = 'bold')\n",
    "plt.title(\"Train Loss\")\n",
    "#plt.grid()\n",
    "plt.show()"
   ]
  },
  {
   "cell_type": "code",
   "execution_count": 31,
   "id": "6893c544",
   "metadata": {
    "execution": {
     "iopub.execute_input": "2021-09-03T04:50:24.956338Z",
     "iopub.status.busy": "2021-09-03T04:50:24.955609Z",
     "iopub.status.idle": "2021-09-03T04:50:24.958216Z",
     "shell.execute_reply": "2021-09-03T04:50:24.957795Z",
     "shell.execute_reply.started": "2021-09-03T03:52:44.062576Z"
    },
    "id": "dqTXDm-EuBR3",
    "papermill": {
     "duration": 0.051942,
     "end_time": "2021-09-03T04:50:24.958313",
     "exception": false,
     "start_time": "2021-09-03T04:50:24.906371",
     "status": "completed"
    },
    "tags": []
   },
   "outputs": [],
   "source": [
    "np.save(\"train_loss.npy\",{\"training_loss\":tr_loss})"
   ]
  },
  {
   "cell_type": "code",
   "execution_count": 32,
   "id": "8b52f619",
   "metadata": {
    "execution": {
     "iopub.execute_input": "2021-09-03T04:50:25.073715Z",
     "iopub.status.busy": "2021-09-03T04:50:25.060737Z",
     "iopub.status.idle": "2021-09-03T04:50:25.076317Z",
     "shell.execute_reply": "2021-09-03T04:50:25.075907Z",
     "shell.execute_reply.started": "2021-09-03T03:52:45.32949Z"
    },
    "id": "FrWoEGXZ8cBO",
    "papermill": {
     "duration": 0.071363,
     "end_time": "2021-09-03T04:50:25.076424",
     "exception": false,
     "start_time": "2021-09-03T04:50:25.005061",
     "status": "completed"
    },
    "tags": []
   },
   "outputs": [],
   "source": [
    "df_train[columns[0]] = col1\n",
    "df_train[columns[1]] = col2\n",
    "df_train[columns[2]] = col3\n",
    "df_train[columns[3]] = col4\n",
    "df_train[columns[4]] = col5\n",
    "df_train[columns[5]] = col6\n",
    "df_train[columns[6]] = col7\n",
    "df_train[columns[7]] = col14\n",
    "\n",
    "df_test[columns[0]] = col1\n",
    "df_test[columns[1]] = col8\n",
    "df_test[columns[2]] = col9\n",
    "df_test[columns[3]] = col10\n",
    "df_test[columns[4]] = col11\n",
    "df_test[columns[5]] = col12\n",
    "df_test[columns[6]] = col13\n",
    "df_test[columns[7]] = col15"
   ]
  },
  {
   "cell_type": "code",
   "execution_count": 33,
   "id": "287ba4d3",
   "metadata": {
    "execution": {
     "iopub.execute_input": "2021-09-03T04:50:25.172861Z",
     "iopub.status.busy": "2021-09-03T04:50:25.172164Z",
     "iopub.status.idle": "2021-09-03T04:50:25.187877Z",
     "shell.execute_reply": "2021-09-03T04:50:25.187434Z",
     "shell.execute_reply.started": "2021-09-03T03:52:46.335237Z"
    },
    "id": "RGJoMFcK8eTe",
    "outputId": "cc5796ba-3e97-427e-8d8e-19adff2822c2",
    "papermill": {
     "duration": 0.06512,
     "end_time": "2021-09-03T04:50:25.187976",
     "exception": false,
     "start_time": "2021-09-03T04:50:25.122856",
     "status": "completed"
    },
    "tags": []
   },
   "outputs": [
    {
     "data": {
      "text/html": [
       "<div>\n",
       "<style scoped>\n",
       "    .dataframe tbody tr th:only-of-type {\n",
       "        vertical-align: middle;\n",
       "    }\n",
       "\n",
       "    .dataframe tbody tr th {\n",
       "        vertical-align: top;\n",
       "    }\n",
       "\n",
       "    .dataframe thead th {\n",
       "        text-align: right;\n",
       "    }\n",
       "</style>\n",
       "<table border=\"1\" class=\"dataframe\">\n",
       "  <thead>\n",
       "    <tr style=\"text-align: right;\">\n",
       "      <th></th>\n",
       "      <th>epochs</th>\n",
       "      <th>argmax &gt; 0.5</th>\n",
       "      <th>argmax &lt; 0.5</th>\n",
       "      <th>focus_true_pred_true</th>\n",
       "      <th>focus_false_pred_true</th>\n",
       "      <th>focus_true_pred_false</th>\n",
       "      <th>focus_false_pred_false</th>\n",
       "      <th>sparse_val</th>\n",
       "    </tr>\n",
       "  </thead>\n",
       "  <tbody>\n",
       "    <tr>\n",
       "      <th>0</th>\n",
       "      <td>0</td>\n",
       "      <td>927</td>\n",
       "      <td>29073</td>\n",
       "      <td>411</td>\n",
       "      <td>9726</td>\n",
       "      <td>1586</td>\n",
       "      <td>18277</td>\n",
       "      <td>164937</td>\n",
       "    </tr>\n",
       "    <tr>\n",
       "      <th>1</th>\n",
       "      <td>1</td>\n",
       "      <td>22211</td>\n",
       "      <td>7789</td>\n",
       "      <td>3017</td>\n",
       "      <td>8310</td>\n",
       "      <td>2974</td>\n",
       "      <td>15699</td>\n",
       "      <td>77860</td>\n",
       "    </tr>\n",
       "    <tr>\n",
       "      <th>2</th>\n",
       "      <td>2</td>\n",
       "      <td>16990</td>\n",
       "      <td>13010</td>\n",
       "      <td>9469</td>\n",
       "      <td>7905</td>\n",
       "      <td>3280</td>\n",
       "      <td>9346</td>\n",
       "      <td>102769</td>\n",
       "    </tr>\n",
       "    <tr>\n",
       "      <th>3</th>\n",
       "      <td>3</td>\n",
       "      <td>17070</td>\n",
       "      <td>12930</td>\n",
       "      <td>14913</td>\n",
       "      <td>7040</td>\n",
       "      <td>2846</td>\n",
       "      <td>5201</td>\n",
       "      <td>111377</td>\n",
       "    </tr>\n",
       "    <tr>\n",
       "      <th>4</th>\n",
       "      <td>4</td>\n",
       "      <td>18282</td>\n",
       "      <td>11718</td>\n",
       "      <td>18415</td>\n",
       "      <td>5841</td>\n",
       "      <td>2086</td>\n",
       "      <td>3658</td>\n",
       "      <td>114032</td>\n",
       "    </tr>\n",
       "    <tr>\n",
       "      <th>5</th>\n",
       "      <td>5</td>\n",
       "      <td>20688</td>\n",
       "      <td>9312</td>\n",
       "      <td>20717</td>\n",
       "      <td>5112</td>\n",
       "      <td>1607</td>\n",
       "      <td>2564</td>\n",
       "      <td>101599</td>\n",
       "    </tr>\n",
       "    <tr>\n",
       "      <th>6</th>\n",
       "      <td>6</td>\n",
       "      <td>21638</td>\n",
       "      <td>8362</td>\n",
       "      <td>22006</td>\n",
       "      <td>4883</td>\n",
       "      <td>1214</td>\n",
       "      <td>1897</td>\n",
       "      <td>92196</td>\n",
       "    </tr>\n",
       "    <tr>\n",
       "      <th>7</th>\n",
       "      <td>7</td>\n",
       "      <td>22640</td>\n",
       "      <td>7360</td>\n",
       "      <td>23083</td>\n",
       "      <td>4522</td>\n",
       "      <td>964</td>\n",
       "      <td>1431</td>\n",
       "      <td>86969</td>\n",
       "    </tr>\n",
       "    <tr>\n",
       "      <th>8</th>\n",
       "      <td>8</td>\n",
       "      <td>23538</td>\n",
       "      <td>6462</td>\n",
       "      <td>23894</td>\n",
       "      <td>4201</td>\n",
       "      <td>775</td>\n",
       "      <td>1130</td>\n",
       "      <td>80190</td>\n",
       "    </tr>\n",
       "    <tr>\n",
       "      <th>9</th>\n",
       "      <td>9</td>\n",
       "      <td>23714</td>\n",
       "      <td>6286</td>\n",
       "      <td>24396</td>\n",
       "      <td>4164</td>\n",
       "      <td>568</td>\n",
       "      <td>872</td>\n",
       "      <td>80685</td>\n",
       "    </tr>\n",
       "    <tr>\n",
       "      <th>10</th>\n",
       "      <td>10</td>\n",
       "      <td>24263</td>\n",
       "      <td>5737</td>\n",
       "      <td>24850</td>\n",
       "      <td>4035</td>\n",
       "      <td>448</td>\n",
       "      <td>667</td>\n",
       "      <td>75787</td>\n",
       "    </tr>\n",
       "    <tr>\n",
       "      <th>11</th>\n",
       "      <td>11</td>\n",
       "      <td>24616</td>\n",
       "      <td>5384</td>\n",
       "      <td>25241</td>\n",
       "      <td>3858</td>\n",
       "      <td>358</td>\n",
       "      <td>543</td>\n",
       "      <td>73534</td>\n",
       "    </tr>\n",
       "    <tr>\n",
       "      <th>12</th>\n",
       "      <td>12</td>\n",
       "      <td>24345</td>\n",
       "      <td>5655</td>\n",
       "      <td>25262</td>\n",
       "      <td>3907</td>\n",
       "      <td>335</td>\n",
       "      <td>496</td>\n",
       "      <td>74356</td>\n",
       "    </tr>\n",
       "    <tr>\n",
       "      <th>13</th>\n",
       "      <td>13</td>\n",
       "      <td>24200</td>\n",
       "      <td>5800</td>\n",
       "      <td>25393</td>\n",
       "      <td>3884</td>\n",
       "      <td>307</td>\n",
       "      <td>416</td>\n",
       "      <td>76050</td>\n",
       "    </tr>\n",
       "    <tr>\n",
       "      <th>14</th>\n",
       "      <td>14</td>\n",
       "      <td>25407</td>\n",
       "      <td>4593</td>\n",
       "      <td>25849</td>\n",
       "      <td>3568</td>\n",
       "      <td>224</td>\n",
       "      <td>359</td>\n",
       "      <td>66384</td>\n",
       "    </tr>\n",
       "    <tr>\n",
       "      <th>15</th>\n",
       "      <td>15</td>\n",
       "      <td>25275</td>\n",
       "      <td>4725</td>\n",
       "      <td>25774</td>\n",
       "      <td>3638</td>\n",
       "      <td>222</td>\n",
       "      <td>366</td>\n",
       "      <td>66250</td>\n",
       "    </tr>\n",
       "    <tr>\n",
       "      <th>16</th>\n",
       "      <td>16</td>\n",
       "      <td>24596</td>\n",
       "      <td>5404</td>\n",
       "      <td>25827</td>\n",
       "      <td>3664</td>\n",
       "      <td>207</td>\n",
       "      <td>302</td>\n",
       "      <td>74055</td>\n",
       "    </tr>\n",
       "    <tr>\n",
       "      <th>17</th>\n",
       "      <td>17</td>\n",
       "      <td>24229</td>\n",
       "      <td>5771</td>\n",
       "      <td>25942</td>\n",
       "      <td>3670</td>\n",
       "      <td>160</td>\n",
       "      <td>228</td>\n",
       "      <td>74056</td>\n",
       "    </tr>\n",
       "  </tbody>\n",
       "</table>\n",
       "</div>"
      ],
      "text/plain": [
       "    epochs  argmax > 0.5  argmax < 0.5  focus_true_pred_true  \\\n",
       "0        0           927         29073                   411   \n",
       "1        1         22211          7789                  3017   \n",
       "2        2         16990         13010                  9469   \n",
       "3        3         17070         12930                 14913   \n",
       "4        4         18282         11718                 18415   \n",
       "5        5         20688          9312                 20717   \n",
       "6        6         21638          8362                 22006   \n",
       "7        7         22640          7360                 23083   \n",
       "8        8         23538          6462                 23894   \n",
       "9        9         23714          6286                 24396   \n",
       "10      10         24263          5737                 24850   \n",
       "11      11         24616          5384                 25241   \n",
       "12      12         24345          5655                 25262   \n",
       "13      13         24200          5800                 25393   \n",
       "14      14         25407          4593                 25849   \n",
       "15      15         25275          4725                 25774   \n",
       "16      16         24596          5404                 25827   \n",
       "17      17         24229          5771                 25942   \n",
       "\n",
       "    focus_false_pred_true  focus_true_pred_false  focus_false_pred_false  \\\n",
       "0                    9726                   1586                   18277   \n",
       "1                    8310                   2974                   15699   \n",
       "2                    7905                   3280                    9346   \n",
       "3                    7040                   2846                    5201   \n",
       "4                    5841                   2086                    3658   \n",
       "5                    5112                   1607                    2564   \n",
       "6                    4883                   1214                    1897   \n",
       "7                    4522                    964                    1431   \n",
       "8                    4201                    775                    1130   \n",
       "9                    4164                    568                     872   \n",
       "10                   4035                    448                     667   \n",
       "11                   3858                    358                     543   \n",
       "12                   3907                    335                     496   \n",
       "13                   3884                    307                     416   \n",
       "14                   3568                    224                     359   \n",
       "15                   3638                    222                     366   \n",
       "16                   3664                    207                     302   \n",
       "17                   3670                    160                     228   \n",
       "\n",
       "    sparse_val  \n",
       "0       164937  \n",
       "1        77860  \n",
       "2       102769  \n",
       "3       111377  \n",
       "4       114032  \n",
       "5       101599  \n",
       "6        92196  \n",
       "7        86969  \n",
       "8        80190  \n",
       "9        80685  \n",
       "10       75787  \n",
       "11       73534  \n",
       "12       74356  \n",
       "13       76050  \n",
       "14       66384  \n",
       "15       66250  \n",
       "16       74055  \n",
       "17       74056  "
      ]
     },
     "execution_count": 33,
     "metadata": {},
     "output_type": "execute_result"
    }
   ],
   "source": [
    "df_train"
   ]
  },
  {
   "cell_type": "code",
   "execution_count": 34,
   "id": "7480ae19",
   "metadata": {
    "execution": {
     "iopub.execute_input": "2021-09-03T04:50:25.285221Z",
     "iopub.status.busy": "2021-09-03T04:50:25.284531Z",
     "iopub.status.idle": "2021-09-03T04:50:25.290361Z",
     "shell.execute_reply": "2021-09-03T04:50:25.289936Z",
     "shell.execute_reply.started": "2021-09-03T03:52:47.526757Z"
    },
    "id": "cqrSQSNemDNp",
    "papermill": {
     "duration": 0.055761,
     "end_time": "2021-09-03T04:50:25.290457",
     "exception": false,
     "start_time": "2021-09-03T04:50:25.234696",
     "status": "completed"
    },
    "tags": []
   },
   "outputs": [],
   "source": [
    "df_train.to_csv(path+\"_train.csv\",index=False)"
   ]
  },
  {
   "cell_type": "code",
   "execution_count": 35,
   "id": "ccdc5b7d",
   "metadata": {
    "execution": {
     "iopub.execute_input": "2021-09-03T04:50:25.402127Z",
     "iopub.status.busy": "2021-09-03T04:50:25.401253Z",
     "iopub.status.idle": "2021-09-03T04:50:25.527948Z",
     "shell.execute_reply": "2021-09-03T04:50:25.527503Z",
     "shell.execute_reply.started": "2021-09-03T03:52:48.732024Z"
    },
    "id": "Ei9HVQBZ8gn4",
    "outputId": "49460fbd-6e36-4fa5-dd2d-7d7937fb5089",
    "papermill": {
     "duration": 0.190775,
     "end_time": "2021-09-03T04:50:25.528049",
     "exception": false,
     "start_time": "2021-09-03T04:50:25.337274",
     "status": "completed"
    },
    "tags": []
   },
   "outputs": [
    {
     "data": {
      "image/png": "[encoded data removed]",
      "text/plain": [
       "<Figure size 432x288 with 1 Axes>"
      ]
     },
     "metadata": {
      "needs_background": "light"
     },
     "output_type": "display_data"
    }
   ],
   "source": [
    "# plt.figure(12,12)\n",
    "plt.plot(col1,col2, label='argmax > 0.5')\n",
    "plt.plot(col1,col3, label='argmax < 0.5')\n",
    "\n",
    "plt.legend(loc='center left', bbox_to_anchor=(1, 0.5))\n",
    "plt.xlabel(\"epochs\")\n",
    "plt.ylabel(\"training data\")\n",
    "plt.title(\"On Training set\")\n",
    "plt.show()\n",
    "\n"
   ]
  },
  {
   "cell_type": "code",
   "execution_count": 36,
   "id": "b6c617f9",
   "metadata": {
    "execution": {
     "iopub.execute_input": "2021-09-03T04:50:25.642963Z",
     "iopub.status.busy": "2021-09-03T04:50:25.642119Z",
     "iopub.status.idle": "2021-09-03T04:50:26.106808Z",
     "shell.execute_reply": "2021-09-03T04:50:26.107213Z",
     "shell.execute_reply.started": "2021-09-03T03:52:50.630152Z"
    },
    "id": "RcScxsHnuBR5",
    "outputId": "1c5544c8-2475-40f2-fc71-54d061b7d133",
    "papermill": {
     "duration": 0.53204,
     "end_time": "2021-09-03T04:50:26.107347",
     "exception": false,
     "start_time": "2021-09-03T04:50:25.575307",
     "status": "completed"
    },
    "tags": []
   },
   "outputs": [
    {
     "data": {
      "image/png": "[encoded data removed]",
      "text/plain": [
       "<Figure size 432x360 with 1 Axes>"
      ]
     },
     "metadata": {
      "needs_background": "light"
     },
     "output_type": "display_data"
    }
   ],
   "source": [
    "plt.figure(figsize=(6,5))\n",
    "plt.plot(col1,np.array(col4)/300, label =\"FTPT \")\n",
    "plt.plot(col1,np.array(col5)/300, label =\"FFPT \")\n",
    "plt.plot(col1,np.array(col6)/300, label =\"FTPF \")\n",
    "plt.plot(col1,np.array(col7)/300, label =\"FFPF \")\n",
    "plt.title(\"On Training set\")\n",
    "#plt.legend(loc='center left', bbox_to_anchor=(1, 0.5))\n",
    "plt.xlabel(\"epochs\", fontsize=14, fontweight = 'bold')\n",
    "plt.ylabel(\"percentage train data\", fontsize=14, fontweight = 'bold')\n",
    "# plt.xlabel(\"epochs\")\n",
    "# plt.ylabel(\"training data\")\n",
    "plt.legend()\n",
    "\n",
    "plt.savefig(path + \"_train.png\",bbox_inches=\"tight\")\n",
    "plt.savefig(path + \"_train.pdf\",bbox_inches=\"tight\")\n",
    "plt.grid()\n",
    "plt.show()"
   ]
  },
  {
   "cell_type": "code",
   "execution_count": 37,
   "id": "73515982",
   "metadata": {
    "execution": {
     "iopub.execute_input": "2021-09-03T04:50:26.230257Z",
     "iopub.status.busy": "2021-09-03T04:50:26.229418Z",
     "iopub.status.idle": "2021-09-03T04:50:26.565849Z",
     "shell.execute_reply": "2021-09-03T04:50:26.566257Z",
     "shell.execute_reply.started": "2021-09-03T03:52:51.70198Z"
    },
    "id": "eyHnBFJxuBR5",
    "outputId": "df42ed8f-f4dd-4160-9e03-8ceaedc7b9ab",
    "papermill": {
     "duration": 0.410072,
     "end_time": "2021-09-03T04:50:26.566386",
     "exception": false,
     "start_time": "2021-09-03T04:50:26.156314",
     "status": "completed"
    },
    "tags": []
   },
   "outputs": [
    {
     "data": {
      "image/png": "[encoded data removed]",
      "text/plain": [
       "<Figure size 432x360 with 1 Axes>"
      ]
     },
     "metadata": {
      "needs_background": "light"
     },
     "output_type": "display_data"
    }
   ],
   "source": [
    "plt.figure(figsize=(6,5))\n",
    "plt.plot(col1,np.array(col14)/30000, label =\"sparsity_val\")\n",
    "\n",
    "plt.title(\"On Training set\")\n",
    "#plt.legend(loc='center left', bbox_to_anchor=(1, 0.5))\n",
    "plt.xlabel(\"epochs\", fontsize=14, fontweight = 'bold')\n",
    "plt.ylabel(\"average sparsity value\", fontsize=14, fontweight = 'bold')\n",
    "# plt.xlabel(\"epochs\")\n",
    "# plt.ylabel(\"sparsity_value\")\n",
    "\n",
    "plt.savefig(path + \"sparsity_train.png\",bbox_inches=\"tight\")\n",
    "plt.savefig(path + \"sparsity_train.pdf\",bbox_inches=\"tight\")\n",
    "plt.grid()\n",
    "plt.show()"
   ]
  },
  {
   "cell_type": "code",
   "execution_count": 38,
   "id": "44947645",
   "metadata": {
    "execution": {
     "iopub.execute_input": "2021-09-03T04:50:26.676880Z",
     "iopub.status.busy": "2021-09-03T04:50:26.676063Z",
     "iopub.status.idle": "2021-09-03T04:50:26.679998Z",
     "shell.execute_reply": "2021-09-03T04:50:26.679583Z",
     "shell.execute_reply.started": "2021-09-03T03:52:52.861416Z"
    },
    "id": "_QKYVO8i8ivA",
    "outputId": "0d8b1ea0-efd0-4bdd-84a7-201356e5f823",
    "papermill": {
     "duration": 0.064298,
     "end_time": "2021-09-03T04:50:26.680101",
     "exception": false,
     "start_time": "2021-09-03T04:50:26.615803",
     "status": "completed"
    },
    "tags": []
   },
   "outputs": [
    {
     "data": {
      "text/html": [
       "<div>\n",
       "<style scoped>\n",
       "    .dataframe tbody tr th:only-of-type {\n",
       "        vertical-align: middle;\n",
       "    }\n",
       "\n",
       "    .dataframe tbody tr th {\n",
       "        vertical-align: top;\n",
       "    }\n",
       "\n",
       "    .dataframe thead th {\n",
       "        text-align: right;\n",
       "    }\n",
       "</style>\n",
       "<table border=\"1\" class=\"dataframe\">\n",
       "  <thead>\n",
       "    <tr style=\"text-align: right;\">\n",
       "      <th></th>\n",
       "      <th>epochs</th>\n",
       "      <th>argmax &gt; 0.5</th>\n",
       "      <th>argmax &lt; 0.5</th>\n",
       "      <th>focus_true_pred_true</th>\n",
       "      <th>focus_false_pred_true</th>\n",
       "      <th>focus_true_pred_false</th>\n",
       "      <th>focus_false_pred_false</th>\n",
       "      <th>sparse_val</th>\n",
       "    </tr>\n",
       "  </thead>\n",
       "  <tbody>\n",
       "    <tr>\n",
       "      <th>0</th>\n",
       "      <td>0</td>\n",
       "      <td>298</td>\n",
       "      <td>9702</td>\n",
       "      <td>138</td>\n",
       "      <td>3216</td>\n",
       "      <td>514</td>\n",
       "      <td>6132</td>\n",
       "      <td>55044</td>\n",
       "    </tr>\n",
       "    <tr>\n",
       "      <th>1</th>\n",
       "      <td>1</td>\n",
       "      <td>2706</td>\n",
       "      <td>7294</td>\n",
       "      <td>2009</td>\n",
       "      <td>2778</td>\n",
       "      <td>1243</td>\n",
       "      <td>3970</td>\n",
       "      <td>39189</td>\n",
       "    </tr>\n",
       "    <tr>\n",
       "      <th>2</th>\n",
       "      <td>2</td>\n",
       "      <td>6094</td>\n",
       "      <td>3906</td>\n",
       "      <td>4386</td>\n",
       "      <td>2561</td>\n",
       "      <td>1042</td>\n",
       "      <td>2011</td>\n",
       "      <td>35384</td>\n",
       "    </tr>\n",
       "    <tr>\n",
       "      <th>3</th>\n",
       "      <td>3</td>\n",
       "      <td>5829</td>\n",
       "      <td>4171</td>\n",
       "      <td>6030</td>\n",
       "      <td>1923</td>\n",
       "      <td>740</td>\n",
       "      <td>1307</td>\n",
       "      <td>39140</td>\n",
       "    </tr>\n",
       "    <tr>\n",
       "      <th>4</th>\n",
       "      <td>4</td>\n",
       "      <td>6188</td>\n",
       "      <td>3812</td>\n",
       "      <td>6696</td>\n",
       "      <td>1570</td>\n",
       "      <td>740</td>\n",
       "      <td>994</td>\n",
       "      <td>37420</td>\n",
       "    </tr>\n",
       "    <tr>\n",
       "      <th>5</th>\n",
       "      <td>5</td>\n",
       "      <td>7058</td>\n",
       "      <td>2942</td>\n",
       "      <td>7301</td>\n",
       "      <td>1385</td>\n",
       "      <td>486</td>\n",
       "      <td>828</td>\n",
       "      <td>33584</td>\n",
       "    </tr>\n",
       "    <tr>\n",
       "      <th>6</th>\n",
       "      <td>6</td>\n",
       "      <td>7569</td>\n",
       "      <td>2431</td>\n",
       "      <td>7347</td>\n",
       "      <td>1609</td>\n",
       "      <td>494</td>\n",
       "      <td>550</td>\n",
       "      <td>28311</td>\n",
       "    </tr>\n",
       "    <tr>\n",
       "      <th>7</th>\n",
       "      <td>7</td>\n",
       "      <td>7779</td>\n",
       "      <td>2221</td>\n",
       "      <td>7875</td>\n",
       "      <td>1273</td>\n",
       "      <td>387</td>\n",
       "      <td>465</td>\n",
       "      <td>27405</td>\n",
       "    </tr>\n",
       "    <tr>\n",
       "      <th>8</th>\n",
       "      <td>8</td>\n",
       "      <td>7760</td>\n",
       "      <td>2240</td>\n",
       "      <td>7972</td>\n",
       "      <td>1278</td>\n",
       "      <td>317</td>\n",
       "      <td>433</td>\n",
       "      <td>29252</td>\n",
       "    </tr>\n",
       "    <tr>\n",
       "      <th>9</th>\n",
       "      <td>9</td>\n",
       "      <td>7755</td>\n",
       "      <td>2245</td>\n",
       "      <td>8082</td>\n",
       "      <td>1209</td>\n",
       "      <td>270</td>\n",
       "      <td>439</td>\n",
       "      <td>28258</td>\n",
       "    </tr>\n",
       "    <tr>\n",
       "      <th>10</th>\n",
       "      <td>10</td>\n",
       "      <td>8066</td>\n",
       "      <td>1934</td>\n",
       "      <td>8229</td>\n",
       "      <td>1165</td>\n",
       "      <td>222</td>\n",
       "      <td>384</td>\n",
       "      <td>26521</td>\n",
       "    </tr>\n",
       "    <tr>\n",
       "      <th>11</th>\n",
       "      <td>11</td>\n",
       "      <td>7536</td>\n",
       "      <td>2464</td>\n",
       "      <td>8226</td>\n",
       "      <td>1153</td>\n",
       "      <td>247</td>\n",
       "      <td>374</td>\n",
       "      <td>32007</td>\n",
       "    </tr>\n",
       "    <tr>\n",
       "      <th>12</th>\n",
       "      <td>12</td>\n",
       "      <td>7805</td>\n",
       "      <td>2195</td>\n",
       "      <td>8331</td>\n",
       "      <td>1166</td>\n",
       "      <td>160</td>\n",
       "      <td>343</td>\n",
       "      <td>26606</td>\n",
       "    </tr>\n",
       "    <tr>\n",
       "      <th>13</th>\n",
       "      <td>13</td>\n",
       "      <td>8162</td>\n",
       "      <td>1838</td>\n",
       "      <td>8264</td>\n",
       "      <td>1189</td>\n",
       "      <td>180</td>\n",
       "      <td>367</td>\n",
       "      <td>24126</td>\n",
       "    </tr>\n",
       "    <tr>\n",
       "      <th>14</th>\n",
       "      <td>14</td>\n",
       "      <td>8578</td>\n",
       "      <td>1422</td>\n",
       "      <td>8411</td>\n",
       "      <td>1064</td>\n",
       "      <td>159</td>\n",
       "      <td>366</td>\n",
       "      <td>20602</td>\n",
       "    </tr>\n",
       "    <tr>\n",
       "      <th>15</th>\n",
       "      <td>15</td>\n",
       "      <td>8137</td>\n",
       "      <td>1863</td>\n",
       "      <td>8401</td>\n",
       "      <td>1114</td>\n",
       "      <td>169</td>\n",
       "      <td>316</td>\n",
       "      <td>25035</td>\n",
       "    </tr>\n",
       "    <tr>\n",
       "      <th>16</th>\n",
       "      <td>16</td>\n",
       "      <td>8009</td>\n",
       "      <td>1991</td>\n",
       "      <td>8471</td>\n",
       "      <td>1082</td>\n",
       "      <td>152</td>\n",
       "      <td>295</td>\n",
       "      <td>26386</td>\n",
       "    </tr>\n",
       "    <tr>\n",
       "      <th>17</th>\n",
       "      <td>17</td>\n",
       "      <td>8181</td>\n",
       "      <td>1819</td>\n",
       "      <td>8439</td>\n",
       "      <td>1117</td>\n",
       "      <td>157</td>\n",
       "      <td>287</td>\n",
       "      <td>22523</td>\n",
       "    </tr>\n",
       "  </tbody>\n",
       "</table>\n",
       "</div>"
      ],
      "text/plain": [
       "    epochs  argmax > 0.5  argmax < 0.5  focus_true_pred_true  \\\n",
       "0        0           298          9702                   138   \n",
       "1        1          2706          7294                  2009   \n",
       "2        2          6094          3906                  4386   \n",
       "3        3          5829          4171                  6030   \n",
       "4        4          6188          3812                  6696   \n",
       "5        5          7058          2942                  7301   \n",
       "6        6          7569          2431                  7347   \n",
       "7        7          7779          2221                  7875   \n",
       "8        8          7760          2240                  7972   \n",
       "9        9          7755          2245                  8082   \n",
       "10      10          8066          1934                  8229   \n",
       "11      11          7536          2464                  8226   \n",
       "12      12          7805          2195                  8331   \n",
       "13      13          8162          1838                  8264   \n",
       "14      14          8578          1422                  8411   \n",
       "15      15          8137          1863                  8401   \n",
       "16      16          8009          1991                  8471   \n",
       "17      17          8181          1819                  8439   \n",
       "\n",
       "    focus_false_pred_true  focus_true_pred_false  focus_false_pred_false  \\\n",
       "0                    3216                    514                    6132   \n",
       "1                    2778                   1243                    3970   \n",
       "2                    2561                   1042                    2011   \n",
       "3                    1923                    740                    1307   \n",
       "4                    1570                    740                     994   \n",
       "5                    1385                    486                     828   \n",
       "6                    1609                    494                     550   \n",
       "7                    1273                    387                     465   \n",
       "8                    1278                    317                     433   \n",
       "9                    1209                    270                     439   \n",
       "10                   1165                    222                     384   \n",
       "11                   1153                    247                     374   \n",
       "12                   1166                    160                     343   \n",
       "13                   1189                    180                     367   \n",
       "14                   1064                    159                     366   \n",
       "15                   1114                    169                     316   \n",
       "16                   1082                    152                     295   \n",
       "17                   1117                    157                     287   \n",
       "\n",
       "    sparse_val  \n",
       "0        55044  \n",
       "1        39189  \n",
       "2        35384  \n",
       "3        39140  \n",
       "4        37420  \n",
       "5        33584  \n",
       "6        28311  \n",
       "7        27405  \n",
       "8        29252  \n",
       "9        28258  \n",
       "10       26521  \n",
       "11       32007  \n",
       "12       26606  \n",
       "13       24126  \n",
       "14       20602  \n",
       "15       25035  \n",
       "16       26386  \n",
       "17       22523  "
      ]
     },
     "execution_count": 38,
     "metadata": {},
     "output_type": "execute_result"
    }
   ],
   "source": [
    "df_test"
   ]
  },
  {
   "cell_type": "code",
   "execution_count": 39,
   "id": "f34dfe14",
   "metadata": {
    "execution": {
     "iopub.execute_input": "2021-09-03T04:50:26.786588Z",
     "iopub.status.busy": "2021-09-03T04:50:26.785933Z",
     "iopub.status.idle": "2021-09-03T04:50:26.789149Z",
     "shell.execute_reply": "2021-09-03T04:50:26.788626Z",
     "shell.execute_reply.started": "2021-09-03T03:52:54.269341Z"
    },
    "id": "0oGTwRsdmOe4",
    "papermill": {
     "duration": 0.059204,
     "end_time": "2021-09-03T04:50:26.789247",
     "exception": false,
     "start_time": "2021-09-03T04:50:26.730043",
     "status": "completed"
    },
    "tags": []
   },
   "outputs": [],
   "source": [
    "df_test.to_csv(path+\"_test.csv\")"
   ]
  },
  {
   "cell_type": "code",
   "execution_count": 40,
   "id": "65688384",
   "metadata": {
    "execution": {
     "iopub.execute_input": "2021-09-03T04:50:26.907301Z",
     "iopub.status.busy": "2021-09-03T04:50:26.906500Z",
     "iopub.status.idle": "2021-09-03T04:50:27.031283Z",
     "shell.execute_reply": "2021-09-03T04:50:27.031762Z",
     "shell.execute_reply.started": "2021-09-03T03:52:55.488869Z"
    },
    "id": "aRlpgnjy8k1n",
    "outputId": "1d976d4b-80f4-4c20-c9ed-ad76a972c79f",
    "papermill": {
     "duration": 0.192543,
     "end_time": "2021-09-03T04:50:27.031894",
     "exception": false,
     "start_time": "2021-09-03T04:50:26.839351",
     "status": "completed"
    },
    "tags": []
   },
   "outputs": [
    {
     "data": {
      "image/png": "[encoded data removed]",
      "text/plain": [
       "<Figure size 432x288 with 1 Axes>"
      ]
     },
     "metadata": {
      "needs_background": "light"
     },
     "output_type": "display_data"
    }
   ],
   "source": [
    "# plt.figure(12,12)\n",
    "plt.plot(col1,col8, label='argmax > 0.5')\n",
    "plt.plot(col1,col9, label='argmax < 0.5')\n",
    "\n",
    "plt.legend(loc='center left', bbox_to_anchor=(1, 0.5))\n",
    "plt.xlabel(\"epochs\")\n",
    "plt.ylabel(\"Testing data\")\n",
    "plt.title(\"On Testing set\")\n",
    "plt.show()\n",
    "\n"
   ]
  },
  {
   "cell_type": "code",
   "execution_count": 41,
   "id": "f41eb1dc",
   "metadata": {
    "execution": {
     "iopub.execute_input": "2021-09-03T04:50:27.153069Z",
     "iopub.status.busy": "2021-09-03T04:50:27.152252Z",
     "iopub.status.idle": "2021-09-03T04:50:27.563140Z",
     "shell.execute_reply": "2021-09-03T04:50:27.563542Z",
     "shell.execute_reply.started": "2021-09-03T03:52:56.819643Z"
    },
    "id": "C0XPoT7FuBR6",
    "outputId": "a3f0db62-71a8-498a-d72e-c2afc8d8739b",
    "papermill": {
     "duration": 0.480318,
     "end_time": "2021-09-03T04:50:27.563692",
     "exception": false,
     "start_time": "2021-09-03T04:50:27.083374",
     "status": "completed"
    },
    "tags": []
   },
   "outputs": [
    {
     "data": {
      "image/png": "[encoded data removed]",
      "text/plain": [
       "<Figure size 432x360 with 1 Axes>"
      ]
     },
     "metadata": {
      "needs_background": "light"
     },
     "output_type": "display_data"
    }
   ],
   "source": [
    "plt.figure(figsize=(6,5))\n",
    "plt.plot(col1,np.array(col10)/100, label =\"FTPT \")\n",
    "plt.plot(col1,np.array(col11)/100, label =\"FFPT \")\n",
    "plt.plot(col1,np.array(col12)/100, label =\"FTPF \")\n",
    "plt.plot(col1,np.array(col13)/100, label =\"FFPF \")\n",
    "plt.title(\"On Testing set\")\n",
    "\n",
    "#plt.legend(loc='center left', bbox_to_anchor=(1, 0.5))\n",
    "plt.xlabel(\"epochs\", fontsize=14, fontweight = 'bold')\n",
    "plt.ylabel(\"percentage test data\", fontsize=14, fontweight = 'bold')\n",
    "# plt.xlabel(\"epochs\")\n",
    "# plt.ylabel(\"training data\")\n",
    "plt.legend()\n",
    "\n",
    "#plt.legend(loc='center left', bbox_to_anchor=(1, 0.5))\n",
    "plt.xlabel(\"epochs\")\n",
    "# plt.ylabel(\"Testing data\")\n",
    "plt.savefig(path + \"_test.png\",bbox_inches=\"tight\")\n",
    "plt.savefig(path + \"_test.pdf\",bbox_inches=\"tight\")\n",
    "plt.grid()\n",
    "plt.show()"
   ]
  },
  {
   "cell_type": "code",
   "execution_count": 42,
   "id": "215bc237",
   "metadata": {
    "execution": {
     "iopub.execute_input": "2021-09-03T04:50:27.695999Z",
     "iopub.status.busy": "2021-09-03T04:50:27.695193Z",
     "iopub.status.idle": "2021-09-03T04:50:28.077186Z",
     "shell.execute_reply": "2021-09-03T04:50:28.077623Z",
     "shell.execute_reply.started": "2021-09-03T03:52:58.047497Z"
    },
    "id": "5oh4o6NfuBR7",
    "outputId": "7b6b839a-dbc8-4b26-967c-1c2743f16774",
    "papermill": {
     "duration": 0.461947,
     "end_time": "2021-09-03T04:50:28.077795",
     "exception": false,
     "start_time": "2021-09-03T04:50:27.615848",
     "status": "completed"
    },
    "tags": []
   },
   "outputs": [
    {
     "data": {
      "image/png": "[encoded data removed]",
      "text/plain": [
       "<Figure size 432x360 with 1 Axes>"
      ]
     },
     "metadata": {
      "needs_background": "light"
     },
     "output_type": "display_data"
    }
   ],
   "source": [
    "plt.figure(figsize=(6,5))\n",
    "plt.plot(col1,np.array(col15)/10000, label =\"sparsity_val\")\n",
    "\n",
    "plt.title(\"On Testing set\")\n",
    "#plt.legend(loc='center left', bbox_to_anchor=(1, 0.5))\n",
    "plt.xlabel(\"epochs\", fontsize=14, fontweight = 'bold')\n",
    "plt.ylabel(\"average sparsity value\", fontsize=14, fontweight = 'bold')\n",
    "plt.grid()\n",
    "\n",
    "plt.savefig(path + \"sparsity_test.png\",bbox_inches=\"tight\")\n",
    "plt.savefig(path + \"sparsity_test.pdf\",bbox_inches=\"tight\")\n",
    "plt.show()"
   ]
  },
  {
   "cell_type": "code",
   "execution_count": 43,
   "id": "61b2673c",
   "metadata": {
    "execution": {
     "iopub.execute_input": "2021-09-03T04:50:28.198587Z",
     "iopub.status.busy": "2021-09-03T04:50:28.197825Z",
     "iopub.status.idle": "2021-09-03T04:50:52.070423Z",
     "shell.execute_reply": "2021-09-03T04:50:52.071212Z",
     "shell.execute_reply.started": "2021-09-03T03:52:59.663101Z"
    },
    "id": "mSE5PCw2tyNO",
    "outputId": "59f0f59b-8414-43b3-cb1e-aa4b7d8a858b",
    "papermill": {
     "duration": 23.939283,
     "end_time": "2021-09-03T04:50:52.071452",
     "exception": false,
     "start_time": "2021-09-03T04:50:28.132169",
     "status": "completed"
    },
    "tags": []
   },
   "outputs": [
    {
     "name": "stdout",
     "output_type": "stream",
     "text": [
      "Accuracy of the network on the 30000 train images: 99.293333 %\n",
      "total correct 29788\n",
      "total train set images 30000\n",
      "focus_true_pred_true 26244 =============> FTPT : 87.480000 %\n",
      "focus_false_pred_true 3544 =============> FFPT : 11.813333 %\n",
      "focus_true_pred_false 70 =============> FTPF : 0.233333 %\n",
      "focus_false_pred_false 142 =============> FFPF : 0.473333 %\n",
      "Sparsity_Value 65360 =============> AVG Sparsity : 2.178667 \n",
      "argmax_more_than_half ==================>  24883\n",
      "argmax_less_than_half ==================>  5117\n",
      "30000\n",
      "====================================================================================================\n"
     ]
    }
   ],
   "source": [
    "correct = 0\n",
    "total = 0\n",
    "count = 0\n",
    "flag = 1\n",
    "focus_true_pred_true =0\n",
    "focus_false_pred_true =0\n",
    "focus_true_pred_false =0\n",
    "focus_false_pred_false =0\n",
    "\n",
    "argmax_more_than_half = 0\n",
    "argmax_less_than_half =0\n",
    "sparse_val = 0\n",
    "focus_net.eval()\n",
    "classify.eval()\n",
    "with torch.no_grad():\n",
    "  for data in train_loader:\n",
    "    inputs, labels , fore_idx = data\n",
    "    inputs = inputs.double()\n",
    "    inputs, labels , fore_idx = inputs.to(\"cuda\"),labels.to(\"cuda\"), fore_idx.to(\"cuda\")\n",
    "    alphas, avg_images = focus_net(inputs)\n",
    "    outputs = classify(avg_images)\n",
    "\n",
    "    _, predicted = torch.max(outputs.data, 1)\n",
    "    sparse_val += torch.sum(torch.sum(alphas>0.01,dim=1)).item()\n",
    "    for j in range(labels.size(0)):\n",
    "      count += 1\n",
    "      focus = torch.argmax(alphas[j])\n",
    "      if alphas[j][focus] >= 0.5 :\n",
    "        argmax_more_than_half += 1\n",
    "      else:\n",
    "        argmax_less_than_half += 1\n",
    "\n",
    "      if(focus == fore_idx[j] and predicted[j] == labels[j]):\n",
    "          focus_true_pred_true += 1\n",
    "      elif(focus != fore_idx[j] and predicted[j] == labels[j]):\n",
    "        focus_false_pred_true += 1\n",
    "      elif(focus == fore_idx[j] and predicted[j] != labels[j]):\n",
    "        focus_true_pred_false += 1\n",
    "      elif(focus != fore_idx[j] and predicted[j] != labels[j]):\n",
    "        focus_false_pred_false += 1\n",
    "\n",
    "    total += labels.size(0)\n",
    "    correct += (predicted == labels).sum().item()\n",
    "\n",
    "print('Accuracy of the network on the 30000 train images: %f %%' % ( 100 * correct / total))\n",
    "print(\"total correct\", correct)\n",
    "print(\"total train set images\", total)\n",
    "\n",
    "print(\"focus_true_pred_true %d =============> FTPT : %f %%\" % (focus_true_pred_true , (100 * focus_true_pred_true / total) ) )\n",
    "print(\"focus_false_pred_true %d =============> FFPT : %f %%\" % (focus_false_pred_true, (100 * focus_false_pred_true / total) ) )\n",
    "print(\"focus_true_pred_false %d =============> FTPF : %f %%\" %( focus_true_pred_false , ( 100 * focus_true_pred_false / total) ) )\n",
    "print(\"focus_false_pred_false %d =============> FFPF : %f %%\" % (focus_false_pred_false, ( 100 * focus_false_pred_false / total) ) )\n",
    "print(\"Sparsity_Value %d =============> AVG Sparsity : %f \" % (sparse_val,(sparse_val)/total))\n",
    "print(\"argmax_more_than_half ==================> \",argmax_more_than_half)\n",
    "print(\"argmax_less_than_half ==================> \",argmax_less_than_half)\n",
    "print(count)\n",
    "\n",
    "print(\"=\"*100)"
   ]
  },
  {
   "cell_type": "code",
   "execution_count": 44,
   "id": "e93855d5",
   "metadata": {
    "execution": {
     "iopub.execute_input": "2021-09-03T04:50:52.195224Z",
     "iopub.status.busy": "2021-09-03T04:50:52.193826Z",
     "iopub.status.idle": "2021-09-03T04:51:00.273477Z",
     "shell.execute_reply": "2021-09-03T04:51:00.274037Z",
     "shell.execute_reply.started": "2021-09-03T03:53:24.810674Z"
    },
    "id": "40tKBow5t1sF",
    "outputId": "2db3287c-37b4-4655-99b5-8c32e1f4a6c8",
    "papermill": {
     "duration": 8.147197,
     "end_time": "2021-09-03T04:51:00.274229",
     "exception": false,
     "start_time": "2021-09-03T04:50:52.127032",
     "status": "completed"
    },
    "tags": []
   },
   "outputs": [
    {
     "name": "stdout",
     "output_type": "stream",
     "text": [
      "Accuracy of the network on the 10000 test images: 95.560000 %\n",
      "total correct 9556\n",
      "total test set images 10000\n",
      "focus_true_pred_true 8439 =============> FTPT : 84.390000 %\n",
      "focus_false_pred_true 1117 =============> FFPT : 11.170000 %\n",
      "focus_true_pred_false 157 =============> FTPF : 1.570000 %\n",
      "focus_false_pred_false 287 =============> FFPF : 2.870000 %\n",
      "Sparsity_Value 22523 =============> AVG Sparsity : 2.252300 \n",
      "argmax_more_than_half ==================>  8181\n",
      "argmax_less_than_half ==================>  1819\n"
     ]
    }
   ],
   "source": [
    "correct = 0\n",
    "total = 0\n",
    "count = 0\n",
    "flag = 1\n",
    "focus_true_pred_true =0\n",
    "focus_false_pred_true =0\n",
    "focus_true_pred_false =0\n",
    "focus_false_pred_false =0\n",
    "\n",
    "argmax_more_than_half = 0\n",
    "argmax_less_than_half =0\n",
    "sparse_val = 0 \n",
    "focus_net.eval()\n",
    "classify.eval()\n",
    "with torch.no_grad():\n",
    "  for data in test_loader:\n",
    "    inputs, labels , fore_idx = data\n",
    "    inputs = inputs.double()\n",
    "    inputs, labels , fore_idx = inputs.to(\"cuda\"),labels.to(\"cuda\"), fore_idx.to(\"cuda\")\n",
    "    alphas, avg_images = focus_net(inputs)\n",
    "    outputs = classify(avg_images)\n",
    "\n",
    "    _, predicted = torch.max(outputs.data, 1)\n",
    "    sparse_val += torch.sum(torch.sum(alphas>0.01,dim=1)).item()\n",
    "    for j in range(labels.size(0)):\n",
    "      focus = torch.argmax(alphas[j])\n",
    "      if alphas[j][focus] >= 0.5 :\n",
    "        argmax_more_than_half += 1\n",
    "      else:\n",
    "        argmax_less_than_half += 1\n",
    "\n",
    "      if(focus == fore_idx[j] and predicted[j] == labels[j]):\n",
    "          focus_true_pred_true += 1\n",
    "      elif(focus != fore_idx[j] and predicted[j] == labels[j]):\n",
    "        focus_false_pred_true += 1\n",
    "      elif(focus == fore_idx[j] and predicted[j] != labels[j]):\n",
    "        focus_true_pred_false += 1\n",
    "      elif(focus != fore_idx[j] and predicted[j] != labels[j]):\n",
    "        focus_false_pred_false += 1\n",
    "\n",
    "    total += labels.size(0)\n",
    "    correct += (predicted == labels).sum().item()\n",
    "\n",
    "print('Accuracy of the network on the 10000 test images: %f %%' % (\n",
    "    100 * correct / total))\n",
    "print(\"total correct\", correct)\n",
    "print(\"total test set images\", total)\n",
    "\n",
    "print(\"focus_true_pred_true %d =============> FTPT : %f %%\" % (focus_true_pred_true , (100 * focus_true_pred_true / total) ) )\n",
    "print(\"focus_false_pred_true %d =============> FFPT : %f %%\" % (focus_false_pred_true, (100 * focus_false_pred_true / total) ) )\n",
    "print(\"focus_true_pred_false %d =============> FTPF : %f %%\" %( focus_true_pred_false , ( 100 * focus_true_pred_false / total) ) )\n",
    "print(\"focus_false_pred_false %d =============> FFPF : %f %%\" % (focus_false_pred_false, ( 100 * focus_false_pred_false / total) ) )\n",
    "print(\"Sparsity_Value %d =============> AVG Sparsity : %f \" % (sparse_val,(sparse_val)/total))\n",
    "\n",
    "print(\"argmax_more_than_half ==================> \",argmax_more_than_half)\n",
    "print(\"argmax_less_than_half ==================> \",argmax_less_than_half)"
   ]
  },
  {
   "cell_type": "code",
   "execution_count": 45,
   "id": "36878079",
   "metadata": {
    "execution": {
     "iopub.execute_input": "2021-09-03T04:51:00.391210Z",
     "iopub.status.busy": "2021-09-03T04:51:00.390442Z",
     "iopub.status.idle": "2021-09-03T04:51:18.791532Z",
     "shell.execute_reply": "2021-09-03T04:51:18.789328Z",
     "shell.execute_reply.started": "2021-09-03T03:53:33.101612Z"
    },
    "id": "iJEMJnUI9FP2",
    "papermill": {
     "duration": 18.462308,
     "end_time": "2021-09-03T04:51:18.791739",
     "exception": false,
     "start_time": "2021-09-03T04:51:00.329431",
     "status": "completed"
    },
    "tags": []
   },
   "outputs": [
    {
     "name": "stdout",
     "output_type": "stream",
     "text": [
      "Accuracy of the network on the 30000 train images: 99.336667 %\n",
      "total correct 29801\n",
      "total train set images 30000\n"
     ]
    }
   ],
   "source": [
    "correct = 0\n",
    "total = 0\n",
    "focus_net.eval()\n",
    "classify.eval()\n",
    "with torch.no_grad():\n",
    "  for data in train_loader:\n",
    "    inputs, labels , fore_idx = data\n",
    "    inputs = inputs.double()\n",
    "    inputs, labels = inputs.to(\"cuda\"), labels.to(\"cuda\")\n",
    "    alphas, avg_images = focus_net(inputs)\n",
    "    outputs = classify(avg_images)\n",
    "\n",
    "    _, predicted = torch.max(outputs.data, 1)\n",
    "\n",
    "    total += labels.size(0)\n",
    "    correct += (predicted == labels).sum().item()\n",
    "\n",
    "print('Accuracy of the network on the 30000 train images: %f %%' % ( 100 * correct / total))\n",
    "print(\"total correct\", correct)\n",
    "print(\"total train set images\", total)"
   ]
  },
  {
   "cell_type": "code",
   "execution_count": 46,
   "id": "99b133da",
   "metadata": {
    "execution": {
     "iopub.execute_input": "2021-09-03T04:51:19.010978Z",
     "iopub.status.busy": "2021-09-03T04:51:19.002391Z",
     "iopub.status.idle": "2021-09-03T04:51:25.076189Z",
     "shell.execute_reply": "2021-09-03T04:51:25.075723Z",
     "shell.execute_reply.started": "2021-09-03T03:53:51.533376Z"
    },
    "id": "an7qmNLB-Ilb",
    "papermill": {
     "duration": 6.186459,
     "end_time": "2021-09-03T04:51:25.076311",
     "exception": false,
     "start_time": "2021-09-03T04:51:18.889852",
     "status": "completed"
    },
    "tags": []
   },
   "outputs": [
    {
     "name": "stdout",
     "output_type": "stream",
     "text": [
      "Accuracy of the network on the 10000 test images: 95.560000 %\n",
      "total correct 9556\n",
      "total train set images 10000\n"
     ]
    }
   ],
   "source": [
    "correct = 0\n",
    "total = 0\n",
    "focus_net.eval()\n",
    "classify.eval()\n",
    "with torch.no_grad():\n",
    "  for data in test_loader:\n",
    "    inputs, labels , fore_idx = data\n",
    "    inputs = inputs.double()\n",
    "    inputs, labels = inputs.to(\"cuda\"), labels.to(\"cuda\")\n",
    "    alphas, avg_images = focus_net(inputs)\n",
    "    outputs = classify(avg_images)\n",
    "\n",
    "    _, predicted = torch.max(outputs.data, 1)\n",
    "\n",
    "    total += labels.size(0)\n",
    "    correct += (predicted == labels).sum().item()\n",
    "\n",
    "print('Accuracy of the network on the 10000 test images: %f %%' % ( 100 * correct / total))\n",
    "print(\"total correct\", correct)\n",
    "print(\"total train set images\", total)"
   ]
  },
  {
   "cell_type": "code",
   "execution_count": null,
   "id": "b3beb029",
   "metadata": {
    "id": "SKwqTXFjuBR_",
    "papermill": {
     "duration": 0.053632,
     "end_time": "2021-09-03T04:51:25.184600",
     "exception": false,
     "start_time": "2021-09-03T04:51:25.130968",
     "status": "completed"
    },
    "tags": []
   },
   "outputs": [],
   "source": []
  }
 ],
 "metadata": {
  "kernelspec": {
   "display_name": "Python 3",
   "language": "python",
   "name": "python3"
  },
  "language_info": {
   "codemirror_mode": {
    "name": "ipython",
    "version": 3
   },
   "file_extension": ".py",
   "mimetype": "text/x-python",
   "name": "python",
   "nbconvert_exporter": "python",
   "pygments_lexer": "ipython3",
   "version": "3.7.10"
  },
  "papermill": {
   "default_parameters": {},
   "duration": 1296.050321,
   "end_time": "2021-09-03T04:51:26.995665",
   "environment_variables": {},
   "exception": null,
   "input_path": "__notebook__.ipynb",
   "output_path": "__notebook__.ipynb",
   "parameters": {},
   "start_time": "2021-09-03T04:29:50.945344",
   "version": "2.3.3"
  },
  "widgets": {
   "application/vnd.jupyter.widget-state+json": {
    "state": {
     "0eb77428f3244b2aad4541713b8eb9cf": {
      "model_module": "@jupyter-widgets/base",
      "model_module_version": "1.2.0",
      "model_name": "LayoutModel",
      "state": {
       "_model_module": "@jupyter-widgets/base",
       "_model_module_version": "1.2.0",
       "_model_name": "LayoutModel",
       "_view_count": null,
       "_view_module": "@jupyter-widgets/base",
       "_view_module_version": "1.2.0",
       "_view_name": "LayoutView",
       "align_content": null,
       "align_items": null,
       "align_self": null,
       "border": null,
       "bottom": null,
       "display": null,
       "flex": null,
       "flex_flow": null,
       "grid_area": null,
       "grid_auto_columns": null,
       "grid_auto_flow": null,
       "grid_auto_rows": null,
       "grid_column": null,
       "grid_gap": null,
       "grid_row": null,
       "grid_template_areas": null,
       "grid_template_columns": null,
       "grid_template_rows": null,
       "height": null,
       "justify_content": null,
       "justify_items": null,
       "left": null,
       "margin": null,
       "max_height": null,
       "max_width": null,
       "min_height": null,
       "min_width": null,
       "object_fit": null,
       "object_position": null,
       "order": null,
       "overflow": null,
       "overflow_x": null,
       "overflow_y": null,
       "padding": null,
       "right": null,
       "top": null,
       "visibility": null,
       "width": "20px"
      }
     },
     "257dd9815beb492b8aab3be8f77e6d22": {
      "model_module": "@jupyter-widgets/controls",
      "model_module_version": "1.5.0",
      "model_name": "HBoxModel",
      "state": {
       "_dom_classes": [],
       "_model_module": "@jupyter-widgets/controls",
       "_model_module_version": "1.5.0",
       "_model_name": "HBoxModel",
       "_view_count": null,
       "_view_module": "@jupyter-widgets/controls",
       "_view_module_version": "1.5.0",
       "_view_name": "HBoxView",
       "box_style": "",
       "children": [
        "IPY_MODEL_5eb06fcd70294225a613ff647c1cdc3d",
        "IPY_MODEL_bcebafca2ee742a0be5e321f1441e184",
        "IPY_MODEL_5026a718bdde42b6b7e586eb4c5f57af"
       ],
       "layout": "IPY_MODEL_458cf3fe79734919877e4a99ffdc1387"
      }
     },
     "458cf3fe79734919877e4a99ffdc1387": {
      "model_module": "@jupyter-widgets/base",
      "model_module_version": "1.2.0",
      "model_name": "LayoutModel",
      "state": {
       "_model_module": "@jupyter-widgets/base",
       "_model_module_version": "1.2.0",
       "_model_name": "LayoutModel",
       "_view_count": null,
       "_view_module": "@jupyter-widgets/base",
       "_view_module_version": "1.2.0",
       "_view_name": "LayoutView",
       "align_content": null,
       "align_items": null,
       "align_self": null,
       "border": null,
       "bottom": null,
       "display": null,
       "flex": null,
       "flex_flow": null,
       "grid_area": null,
       "grid_auto_columns": null,
       "grid_auto_flow": null,
       "grid_auto_rows": null,
       "grid_column": null,
       "grid_gap": null,
       "grid_row": null,
       "grid_template_areas": null,
       "grid_template_columns": null,
       "grid_template_rows": null,
       "height": null,
       "justify_content": null,
       "justify_items": null,
       "left": null,
       "margin": null,
       "max_height": null,
       "max_width": null,
       "min_height": null,
       "min_width": null,
       "object_fit": null,
       "object_position": null,
       "order": null,
       "overflow": null,
       "overflow_x": null,
       "overflow_y": null,
       "padding": null,
       "right": null,
       "top": null,
       "visibility": null,
       "width": null
      }
     },
     "4b8363c5e4304665858db4c7e418a972": {
      "model_module": "@jupyter-widgets/controls",
      "model_module_version": "1.5.0",
      "model_name": "DescriptionStyleModel",
      "state": {
       "_model_module": "@jupyter-widgets/controls",
       "_model_module_version": "1.5.0",
       "_model_name": "DescriptionStyleModel",
       "_view_count": null,
       "_view_module": "@jupyter-widgets/base",
       "_view_module_version": "1.2.0",
       "_view_name": "StyleView",
       "description_width": ""
      }
     },
     "5026a718bdde42b6b7e586eb4c5f57af": {
      "model_module": "@jupyter-widgets/controls",
      "model_module_version": "1.5.0",
      "model_name": "HTMLModel",
      "state": {
       "_dom_classes": [],
       "_model_module": "@jupyter-widgets/controls",
       "_model_module_version": "1.5.0",
       "_model_name": "HTMLModel",
       "_view_count": null,
       "_view_module": "@jupyter-widgets/controls",
       "_view_module_version": "1.5.0",
       "_view_name": "HTMLView",
       "description": "",
       "description_tooltip": null,
       "layout": "IPY_MODEL_5712010039be4d5ea710e25651c6408d",
       "placeholder": "​",
       "style": "IPY_MODEL_83b3dfcaf0894c2b9359e135e21f298b",
       "value": " 170500096/? [00:20&lt;00:00, 72100479.89it/s]"
      }
     },
     "5712010039be4d5ea710e25651c6408d": {
      "model_module": "@jupyter-widgets/base",
      "model_module_version": "1.2.0",
      "model_name": "LayoutModel",
      "state": {
       "_model_module": "@jupyter-widgets/base",
       "_model_module_version": "1.2.0",
       "_model_name": "LayoutModel",
       "_view_count": null,
       "_view_module": "@jupyter-widgets/base",
       "_view_module_version": "1.2.0",
       "_view_name": "LayoutView",
       "align_content": null,
       "align_items": null,
       "align_self": null,
       "border": null,
       "bottom": null,
       "display": null,
       "flex": null,
       "flex_flow": null,
       "grid_area": null,
       "grid_auto_columns": null,
       "grid_auto_flow": null,
       "grid_auto_rows": null,
       "grid_column": null,
       "grid_gap": null,
       "grid_row": null,
       "grid_template_areas": null,
       "grid_template_columns": null,
       "grid_template_rows": null,
       "height": null,
       "justify_content": null,
       "justify_items": null,
       "left": null,
       "margin": null,
       "max_height": null,
       "max_width": null,
       "min_height": null,
       "min_width": null,
       "object_fit": null,
       "object_position": null,
       "order": null,
       "overflow": null,
       "overflow_x": null,
       "overflow_y": null,
       "padding": null,
       "right": null,
       "top": null,
       "visibility": null,
       "width": null
      }
     },
     "5eb06fcd70294225a613ff647c1cdc3d": {
      "model_module": "@jupyter-widgets/controls",
      "model_module_version": "1.5.0",
      "model_name": "HTMLModel",
      "state": {
       "_dom_classes": [],
       "_model_module": "@jupyter-widgets/controls",
       "_model_module_version": "1.5.0",
       "_model_name": "HTMLModel",
       "_view_count": null,
       "_view_module": "@jupyter-widgets/controls",
       "_view_module_version": "1.5.0",
       "_view_name": "HTMLView",
       "description": "",
       "description_tooltip": null,
       "layout": "IPY_MODEL_91d5c0639c1a4640b62a8e2e063012cf",
       "placeholder": "​",
       "style": "IPY_MODEL_4b8363c5e4304665858db4c7e418a972",
       "value": ""
      }
     },
     "5f6e0c6894724a45b0b2de31bff10f4f": {
      "model_module": "@jupyter-widgets/controls",
      "model_module_version": "1.5.0",
      "model_name": "ProgressStyleModel",
      "state": {
       "_model_module": "@jupyter-widgets/controls",
       "_model_module_version": "1.5.0",
       "_model_name": "ProgressStyleModel",
       "_view_count": null,
       "_view_module": "@jupyter-widgets/base",
       "_view_module_version": "1.2.0",
       "_view_name": "StyleView",
       "bar_color": null,
       "description_width": ""
      }
     },
     "83b3dfcaf0894c2b9359e135e21f298b": {
      "model_module": "@jupyter-widgets/controls",
      "model_module_version": "1.5.0",
      "model_name": "DescriptionStyleModel",
      "state": {
       "_model_module": "@jupyter-widgets/controls",
       "_model_module_version": "1.5.0",
       "_model_name": "DescriptionStyleModel",
       "_view_count": null,
       "_view_module": "@jupyter-widgets/base",
       "_view_module_version": "1.2.0",
       "_view_name": "StyleView",
       "description_width": ""
      }
     },
     "91d5c0639c1a4640b62a8e2e063012cf": {
      "model_module": "@jupyter-widgets/base",
      "model_module_version": "1.2.0",
      "model_name": "LayoutModel",
      "state": {
       "_model_module": "@jupyter-widgets/base",
       "_model_module_version": "1.2.0",
       "_model_name": "LayoutModel",
       "_view_count": null,
       "_view_module": "@jupyter-widgets/base",
       "_view_module_version": "1.2.0",
       "_view_name": "LayoutView",
       "align_content": null,
       "align_items": null,
       "align_self": null,
       "border": null,
       "bottom": null,
       "display": null,
       "flex": null,
       "flex_flow": null,
       "grid_area": null,
       "grid_auto_columns": null,
       "grid_auto_flow": null,
       "grid_auto_rows": null,
       "grid_column": null,
       "grid_gap": null,
       "grid_row": null,
       "grid_template_areas": null,
       "grid_template_columns": null,
       "grid_template_rows": null,
       "height": null,
       "justify_content": null,
       "justify_items": null,
       "left": null,
       "margin": null,
       "max_height": null,
       "max_width": null,
       "min_height": null,
       "min_width": null,
       "object_fit": null,
       "object_position": null,
       "order": null,
       "overflow": null,
       "overflow_x": null,
       "overflow_y": null,
       "padding": null,
       "right": null,
       "top": null,
       "visibility": null,
       "width": null
      }
     },
     "bcebafca2ee742a0be5e321f1441e184": {
      "model_module": "@jupyter-widgets/controls",
      "model_module_version": "1.5.0",
      "model_name": "FloatProgressModel",
      "state": {
       "_dom_classes": [],
       "_model_module": "@jupyter-widgets/controls",
       "_model_module_version": "1.5.0",
       "_model_name": "FloatProgressModel",
       "_view_count": null,
       "_view_module": "@jupyter-widgets/controls",
       "_view_module_version": "1.5.0",
       "_view_name": "ProgressView",
       "bar_style": "info",
       "description": "",
       "description_tooltip": null,
       "layout": "IPY_MODEL_0eb77428f3244b2aad4541713b8eb9cf",
       "max": 1.0,
       "min": 0.0,
       "orientation": "horizontal",
       "style": "IPY_MODEL_5f6e0c6894724a45b0b2de31bff10f4f",
       "value": 1.0
      }
     }
    },
    "version_major": 2,
    "version_minor": 0
   }
  }
 },
 "nbformat": 4,
 "nbformat_minor": 5
}
