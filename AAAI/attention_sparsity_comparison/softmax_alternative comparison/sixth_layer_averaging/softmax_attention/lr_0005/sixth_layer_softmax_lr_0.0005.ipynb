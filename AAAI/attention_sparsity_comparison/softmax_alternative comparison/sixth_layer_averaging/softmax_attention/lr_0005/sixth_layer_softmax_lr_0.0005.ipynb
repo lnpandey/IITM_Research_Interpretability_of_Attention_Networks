{
 "cells": [
  {
   "cell_type": "code",
   "execution_count": 1,
   "id": "05ae261a",
   "metadata": {
    "execution": {
     "iopub.execute_input": "2021-09-03T08:30:02.147705Z",
     "iopub.status.busy": "2021-09-03T08:30:02.146122Z",
     "iopub.status.idle": "2021-09-03T08:30:02.148659Z",
     "shell.execute_reply": "2021-09-03T08:30:02.148126Z",
     "shell.execute_reply.started": "2021-09-03T06:28:15.437536Z"
    },
    "id": "JSjG64ra4aFu",
    "outputId": "addc1734-5176-4a1c-a637-220f1f24d021",
    "papermill": {
     "duration": 0.043756,
     "end_time": "2021-09-03T08:30:02.148783",
     "exception": false,
     "start_time": "2021-09-03T08:30:02.105027",
     "status": "completed"
    },
    "tags": []
   },
   "outputs": [],
   "source": [
    "# from google.colab import drive\n",
    "# drive.mount('/content/drive')"
   ]
  },
  {
   "cell_type": "code",
   "execution_count": 2,
   "id": "08298e0d",
   "metadata": {
    "execution": {
     "iopub.execute_input": "2021-09-03T08:30:02.219050Z",
     "iopub.status.busy": "2021-09-03T08:30:02.217887Z",
     "iopub.status.idle": "2021-09-03T08:30:02.220143Z",
     "shell.execute_reply": "2021-09-03T08:30:02.220578Z",
     "shell.execute_reply.started": "2021-09-03T03:44:11.983114Z"
    },
    "papermill": {
     "duration": 0.038721,
     "end_time": "2021-09-03T08:30:02.220700",
     "exception": false,
     "start_time": "2021-09-03T08:30:02.181979",
     "status": "completed"
    },
    "tags": []
   },
   "outputs": [],
   "source": [
    "# !pip install sparsemax"
   ]
  },
  {
   "cell_type": "code",
   "execution_count": 3,
   "id": "e779d2a5",
   "metadata": {
    "execution": {
     "iopub.execute_input": "2021-09-03T08:30:02.367173Z",
     "iopub.status.busy": "2021-09-03T08:30:02.366398Z",
     "iopub.status.idle": "2021-09-03T08:30:02.996257Z",
     "shell.execute_reply": "2021-09-03T08:30:02.996693Z",
     "shell.execute_reply.started": "2021-09-03T06:29:00.220992Z"
    },
    "id": "atwYfdnU1_3W",
    "outputId": "0c7b155f-d0c1-4bd0-c87d-57be34d931d7",
    "papermill": {
     "duration": 0.741802,
     "end_time": "2021-09-03T08:30:02.996855",
     "exception": false,
     "start_time": "2021-09-03T08:30:02.255053",
     "status": "completed"
    },
    "tags": []
   },
   "outputs": [
    {
     "name": "stdout",
     "output_type": "stream",
     "text": [
      "/kaggle/working\r\n"
     ]
    }
   ],
   "source": [
    "# from google.colab import drive\n",
    "# drive.mount('/content/drive')\n",
    "!pwd"
   ]
  },
  {
   "cell_type": "code",
   "execution_count": 4,
   "id": "788ed6cd",
   "metadata": {
    "execution": {
     "iopub.execute_input": "2021-09-03T08:30:03.069530Z",
     "iopub.status.busy": "2021-09-03T08:30:03.068989Z",
     "iopub.status.idle": "2021-09-03T08:30:03.072887Z",
     "shell.execute_reply": "2021-09-03T08:30:03.072462Z",
     "shell.execute_reply.started": "2021-09-03T06:29:05.058366Z"
    },
    "id": "Zj9vWd0E2C0t",
    "papermill": {
     "duration": 0.041291,
     "end_time": "2021-09-03T08:30:03.072995",
     "exception": false,
     "start_time": "2021-09-03T08:30:03.031704",
     "status": "completed"
    },
    "tags": []
   },
   "outputs": [],
   "source": [
    "\n",
    "path = '/kaggle/working/run1'"
   ]
  },
  {
   "cell_type": "code",
   "execution_count": 5,
   "id": "0fa56da4",
   "metadata": {
    "execution": {
     "iopub.execute_input": "2021-09-03T08:30:03.146422Z",
     "iopub.status.busy": "2021-09-03T08:30:03.145928Z",
     "iopub.status.idle": "2021-09-03T08:30:04.661805Z",
     "shell.execute_reply": "2021-09-03T08:30:04.661278Z",
     "shell.execute_reply.started": "2021-09-03T06:29:06.251795Z"
    },
    "id": "V8-7SARDZErK",
    "papermill": {
     "duration": 1.55474,
     "end_time": "2021-09-03T08:30:04.661945",
     "exception": false,
     "start_time": "2021-09-03T08:30:03.107205",
     "status": "completed"
    },
    "tags": []
   },
   "outputs": [],
   "source": [
    "import torch.nn as nn\n",
    "import torch.nn.functional as F\n",
    "import pandas as pd\n",
    "import numpy as np\n",
    "import matplotlib.pyplot as plt\n",
    "import torch\n",
    "import torchvision\n",
    "import torchvision.transforms as transforms\n",
    "from torch.utils.data import Dataset, DataLoader\n",
    "from torchvision import transforms, utils\n",
    "from matplotlib import pyplot as plt\n",
    "import copy\n",
    "\n",
    "#from sparsemax import Sparsemax\n",
    "# Ignore warnings\n",
    "import warnings\n",
    "warnings.filterwarnings(\"ignore\")\n",
    "n_seed = 0"
   ]
  },
  {
   "cell_type": "code",
   "execution_count": 6,
   "id": "0160382e",
   "metadata": {
    "execution": {
     "iopub.execute_input": "2021-09-03T08:30:04.733200Z",
     "iopub.status.busy": "2021-09-03T08:30:04.732673Z",
     "iopub.status.idle": "2021-09-03T08:30:04.736486Z",
     "shell.execute_reply": "2021-09-03T08:30:04.736077Z",
     "shell.execute_reply.started": "2021-09-03T06:29:08.600636Z"
    },
    "id": "_rVTn9u9uBRn",
    "papermill": {
     "duration": 0.040667,
     "end_time": "2021-09-03T08:30:04.736603",
     "exception": false,
     "start_time": "2021-09-03T08:30:04.695936",
     "status": "completed"
    },
    "tags": []
   },
   "outputs": [],
   "source": [
    "torch.backends.cudnn.deterministic = True\n",
    "torch.backends.cudnn.benchmark= False"
   ]
  },
  {
   "cell_type": "code",
   "execution_count": 7,
   "id": "e915d5a0",
   "metadata": {
    "execution": {
     "iopub.execute_input": "2021-09-03T08:30:04.808633Z",
     "iopub.status.busy": "2021-09-03T08:30:04.808070Z",
     "iopub.status.idle": "2021-09-03T08:30:20.012169Z",
     "shell.execute_reply": "2021-09-03T08:30:20.011691Z",
     "shell.execute_reply.started": "2021-09-03T06:29:10.461103Z"
    },
    "id": "acRFqJNrZErV",
    "outputId": "8b937572-e8ec-458e-edd8-0ed0170b0fc9",
    "papermill": {
     "duration": 15.242394,
     "end_time": "2021-09-03T08:30:20.012300",
     "exception": false,
     "start_time": "2021-09-03T08:30:04.769906",
     "status": "completed"
    },
    "tags": []
   },
   "outputs": [
    {
     "name": "stdout",
     "output_type": "stream",
     "text": [
      "Downloading https://www.cs.toronto.edu/~kriz/cifar-10-python.tar.gz to ./data/cifar-10-python.tar.gz\n"
     ]
    },
    {
     "data": {
      "application/vnd.jupyter.widget-view+json": {
       "model_id": "66e5a85e23aa4bcab465f1e8afa83c9d",
       "version_major": 2,
       "version_minor": 0
      },
      "text/plain": [
       "0it [00:00, ?it/s]"
      ]
     },
     "metadata": {},
     "output_type": "display_data"
    },
    {
     "name": "stdout",
     "output_type": "stream",
     "text": [
      "Extracting ./data/cifar-10-python.tar.gz to ./data\n",
      "Files already downloaded and verified\n"
     ]
    }
   ],
   "source": [
    "transform = transforms.Compose(\n",
    "    [transforms.ToTensor(),\n",
    "     transforms.Normalize((0.5, 0.5, 0.5), (0.5, 0.5, 0.5))])\n",
    "\n",
    "trainset = torchvision.datasets.CIFAR10(root='./data', train=True, download=True, transform=transform)\n",
    "\n",
    "\n",
    "testset = torchvision.datasets.CIFAR10(root='./data', train=False, download=True, transform=transform)\n"
   ]
  },
  {
   "cell_type": "code",
   "execution_count": 8,
   "id": "618685fe",
   "metadata": {
    "execution": {
     "iopub.execute_input": "2021-09-03T08:30:20.089607Z",
     "iopub.status.busy": "2021-09-03T08:30:20.088028Z",
     "iopub.status.idle": "2021-09-03T08:30:20.090453Z",
     "shell.execute_reply": "2021-09-03T08:30:20.090882Z",
     "shell.execute_reply.started": "2021-09-03T06:29:19.179605Z"
    },
    "id": "gh5DXuAV1tp5",
    "papermill": {
     "duration": 0.043458,
     "end_time": "2021-09-03T08:30:20.091012",
     "exception": false,
     "start_time": "2021-09-03T08:30:20.047554",
     "status": "completed"
    },
    "tags": []
   },
   "outputs": [],
   "source": [
    "trainloader = torch.utils.data.DataLoader(trainset, batch_size=10, shuffle=False)\n",
    "testloader = torch.utils.data.DataLoader(testset, batch_size=10, shuffle=False)\n",
    "\n",
    "\n",
    "classes = ('plane', 'car', 'bird', 'cat', 'deer', 'dog', 'frog', 'horse', 'ship', 'truck')\n",
    "\n",
    "foreground_classes = {'plane', 'car', 'bird'}\n",
    "#foreground_classes = {'bird', 'cat', 'deer'}\n",
    "background_classes = {'cat', 'deer', 'dog', 'frog', 'horse', 'ship', 'truck'}\n",
    "#background_classes = {'plane', 'car', 'dog', 'frog', 'horse','ship', 'truck'}\n",
    "\n",
    "fg1,fg2,fg3 = 0,1,2"
   ]
  },
  {
   "cell_type": "code",
   "execution_count": 9,
   "id": "5a9e2d06",
   "metadata": {
    "execution": {
     "iopub.execute_input": "2021-09-03T08:30:20.168991Z",
     "iopub.status.busy": "2021-09-03T08:30:20.168380Z",
     "iopub.status.idle": "2021-09-03T08:31:09.334243Z",
     "shell.execute_reply": "2021-09-03T08:31:09.335001Z",
     "shell.execute_reply.started": "2021-09-03T06:29:19.188456Z"
    },
    "id": "V_JUhwCeZErk",
    "papermill": {
     "duration": 49.209386,
     "end_time": "2021-09-03T08:31:09.335170",
     "exception": false,
     "start_time": "2021-09-03T08:30:20.125784",
     "status": "completed"
    },
    "tags": []
   },
   "outputs": [],
   "source": [
    "dataiter = iter(trainloader)\n",
    "background_data=[]\n",
    "background_label=[]\n",
    "foreground_data=[]\n",
    "foreground_label=[]\n",
    "batch_size=10\n",
    "\n",
    "for i in range(5000):\n",
    "  images, labels = dataiter.next()\n",
    "  for j in range(batch_size):\n",
    "    if(classes[labels[j]] in background_classes):\n",
    "      img = images[j].tolist()\n",
    "      background_data.append(img)\n",
    "      background_label.append(labels[j])\n",
    "    else:\n",
    "      img = images[j].tolist()\n",
    "      foreground_data.append(img)\n",
    "      foreground_label.append(labels[j])\n",
    "            \n",
    "foreground_data = torch.tensor(foreground_data)\n",
    "foreground_label = torch.tensor(foreground_label)\n",
    "background_data = torch.tensor(background_data)\n",
    "background_label = torch.tensor(background_label)"
   ]
  },
  {
   "cell_type": "code",
   "execution_count": 10,
   "id": "cf3e0f94",
   "metadata": {
    "execution": {
     "iopub.execute_input": "2021-09-03T08:31:09.412200Z",
     "iopub.status.busy": "2021-09-03T08:31:09.411390Z",
     "iopub.status.idle": "2021-09-03T08:31:09.413914Z",
     "shell.execute_reply": "2021-09-03T08:31:09.413510Z",
     "shell.execute_reply.started": "2021-09-03T06:30:08.975739Z"
    },
    "id": "uW9MkktGysAp",
    "papermill": {
     "duration": 0.043129,
     "end_time": "2021-09-03T08:31:09.414024",
     "exception": false,
     "start_time": "2021-09-03T08:31:09.370895",
     "status": "completed"
    },
    "tags": []
   },
   "outputs": [],
   "source": [
    "def create_mosaic_img(bg_idx,fg_idx,fg): \n",
    "  \"\"\"\n",
    "  bg_idx : list of indexes of background_data[] to be used as background images in mosaic\n",
    "  fg_idx : index of image to be used as foreground image from foreground data\n",
    "  fg : at what position/index foreground image has to be stored out of 0-8\n",
    "  \"\"\"\n",
    "  image_list=[]\n",
    "  j=0\n",
    "  for i in range(9):\n",
    "    if i != fg:\n",
    "      image_list.append(background_data[bg_idx[j]])#.type(\"torch.DoubleTensor\"))\n",
    "      j+=1\n",
    "    else: \n",
    "      image_list.append(foreground_data[fg_idx])#.type(\"torch.DoubleTensor\"))\n",
    "      label = foreground_label[fg_idx]- fg1  # minus fg1 because our fore ground classes are fg1,fg2,fg3 but we have to store it as 0,1,2\n",
    "  #image_list = np.concatenate(image_list ,axis=0)\n",
    "  image_list = torch.stack(image_list) \n",
    "  return image_list,label"
   ]
  },
  {
   "cell_type": "code",
   "execution_count": 11,
   "id": "bf798935",
   "metadata": {
    "execution": {
     "iopub.execute_input": "2021-09-03T08:31:09.491679Z",
     "iopub.status.busy": "2021-09-03T08:31:09.490910Z",
     "iopub.status.idle": "2021-09-03T08:31:14.659714Z",
     "shell.execute_reply": "2021-09-03T08:31:14.658737Z",
     "shell.execute_reply.started": "2021-09-03T06:30:08.982796Z"
    },
    "id": "lWxkp87fNwnM",
    "papermill": {
     "duration": 5.210922,
     "end_time": "2021-09-03T08:31:14.659866",
     "exception": false,
     "start_time": "2021-09-03T08:31:09.448944",
     "status": "completed"
    },
    "tags": []
   },
   "outputs": [],
   "source": [
    "desired_num = 30000\n",
    "mosaic_list_of_images =[]      # list of mosaic images, each mosaic image is saved as list of 9 images\n",
    "fore_idx =[]                   # list of indexes at which foreground image is present in a mosaic image i.e from 0 to 9               \n",
    "mosaic_label=[]                # label of mosaic image = foreground class present in that mosaic\n",
    "for i in range(desired_num):\n",
    "  np.random.seed(i)\n",
    "  bg_idx = np.random.randint(0,35000,8)\n",
    "  fg_idx = np.random.randint(0,15000)\n",
    "  fg = np.random.randint(0,9)\n",
    "  fore_idx.append(fg)\n",
    "  image_list,label = create_mosaic_img(bg_idx,fg_idx,fg)\n",
    "  mosaic_list_of_images.append(image_list)\n",
    "  mosaic_label.append(label)"
   ]
  },
  {
   "cell_type": "code",
   "execution_count": 12,
   "id": "8f6e0b26",
   "metadata": {
    "execution": {
     "iopub.execute_input": "2021-09-03T08:31:14.751489Z",
     "iopub.status.busy": "2021-09-03T08:31:14.750716Z",
     "iopub.status.idle": "2021-09-03T08:31:14.899004Z",
     "shell.execute_reply": "2021-09-03T08:31:14.899398Z",
     "shell.execute_reply.started": "2021-09-03T06:30:14.074283Z"
    },
    "id": "TNMMsJ_auBRs",
    "outputId": "1eaf419e-a155-445a-86e3-e12cb440d065",
    "papermill": {
     "duration": 0.203194,
     "end_time": "2021-09-03T08:31:14.899637",
     "exception": false,
     "start_time": "2021-09-03T08:31:14.696443",
     "status": "completed"
    },
    "tags": []
   },
   "outputs": [
    {
     "data": {
      "text/plain": [
       "<matplotlib.image.AxesImage at 0x7f3ff09b6790>"
      ]
     },
     "execution_count": 12,
     "metadata": {},
     "output_type": "execute_result"
    },
    {
     "data": {
      "image/png": "[encoded data removed]",
      "text/plain": [
       "<Figure size 432x288 with 1 Axes>"
      ]
     },
     "metadata": {
      "needs_background": "light"
     },
     "output_type": "display_data"
    }
   ],
   "source": [
    "plt.imshow(torch.transpose(mosaic_list_of_images[0][1],dim0= 0,dim1 = 2))"
   ]
  },
  {
   "cell_type": "code",
   "execution_count": 13,
   "id": "a706662d",
   "metadata": {
    "execution": {
     "iopub.execute_input": "2021-09-03T08:31:14.983837Z",
     "iopub.status.busy": "2021-09-03T08:31:14.983063Z",
     "iopub.status.idle": "2021-09-03T08:31:14.985828Z",
     "shell.execute_reply": "2021-09-03T08:31:14.985287Z",
     "shell.execute_reply.started": "2021-09-03T06:30:14.242551Z"
    },
    "id": "AJuGak6_zXgx",
    "papermill": {
     "duration": 0.045609,
     "end_time": "2021-09-03T08:31:14.985937",
     "exception": false,
     "start_time": "2021-09-03T08:31:14.940328",
     "status": "completed"
    },
    "tags": []
   },
   "outputs": [],
   "source": [
    "class MosaicDataset(Dataset):\n",
    "  \"\"\"MosaicDataset dataset.\"\"\"\n",
    "\n",
    "  def __init__(self, mosaic_list_of_images, mosaic_label, fore_idx):\n",
    "    \"\"\"\n",
    "      Args:\n",
    "        csv_file (string): Path to the csv file with annotations.\n",
    "        root_dir (string): Directory with all the images.\n",
    "        transform (callable, optional): Optional transform to be applied\n",
    "            on a sample.\n",
    "    \"\"\"\n",
    "    self.mosaic = mosaic_list_of_images\n",
    "    self.label = mosaic_label\n",
    "    self.fore_idx = fore_idx\n",
    "\n",
    "  def __len__(self):\n",
    "    return len(self.label)\n",
    "\n",
    "  def __getitem__(self, idx):\n",
    "    return self.mosaic[idx] , self.label[idx], self.fore_idx[idx]\n",
    "\n",
    "batch = 250\n",
    "msd = MosaicDataset(mosaic_list_of_images, mosaic_label , fore_idx)\n",
    "train_loader = DataLoader( msd,batch_size= batch ,shuffle=True)"
   ]
  },
  {
   "cell_type": "code",
   "execution_count": 14,
   "id": "4d575d56",
   "metadata": {
    "execution": {
     "iopub.execute_input": "2021-09-03T08:31:15.063666Z",
     "iopub.status.busy": "2021-09-03T08:31:15.062929Z",
     "iopub.status.idle": "2021-09-03T08:31:15.065635Z",
     "shell.execute_reply": "2021-09-03T08:31:15.065177Z",
     "shell.execute_reply.started": "2021-09-03T06:34:35.577097Z"
    },
    "papermill": {
     "duration": 0.042657,
     "end_time": "2021-09-03T08:31:15.065739",
     "exception": false,
     "start_time": "2021-09-03T08:31:15.023082",
     "status": "completed"
    },
    "tags": []
   },
   "outputs": [],
   "source": [
    "# class my_spherical_softmax(nn.Module):\n",
    "#     \"\"\"\n",
    "#     implementation is taken from https://github.com/anirbanl/sparsegen \n",
    "#     Code for the NeurIPS 2018 paper \"On Controllable Sparse Alternatives to Softmax\"\n",
    "#     \"\"\"\n",
    "#     def __init__(self):\n",
    "#         super(my_spherical_softmax,self).__init__()\n",
    "#     def forward(self,x):\n",
    "#         bs = x.data.size()[0]\n",
    "#         dim = x.data.size()[1]\n",
    "#         z = torch.pow(x, 2)\n",
    "#         z_sum = torch.sum(z, dim=1).view(bs, 1).repeat(1, dim)\n",
    "#         return z/z_sum"
   ]
  },
  {
   "cell_type": "code",
   "execution_count": 15,
   "id": "a5de7426",
   "metadata": {
    "execution": {
     "iopub.execute_input": "2021-09-03T08:31:15.161857Z",
     "iopub.status.busy": "2021-09-03T08:31:15.161025Z",
     "iopub.status.idle": "2021-09-03T08:31:15.163135Z",
     "shell.execute_reply": "2021-09-03T08:31:15.163594Z",
     "shell.execute_reply.started": "2021-09-03T06:44:47.33249Z"
    },
    "id": "bePj73XKuJpC",
    "papermill": {
     "duration": 0.061521,
     "end_time": "2021-09-03T08:31:15.163892",
     "exception": false,
     "start_time": "2021-09-03T08:31:15.102371",
     "status": "completed"
    },
    "tags": []
   },
   "outputs": [],
   "source": [
    "class Focus(nn.Module):\n",
    "  def __init__(self):\n",
    "    super(Focus, self).__init__()\n",
    "    self.conv1 = nn.Conv2d(in_channels=3, out_channels=32, kernel_size=3, padding=0,bias=False)\n",
    "    self.conv2 = nn.Conv2d(in_channels=32, out_channels=64, kernel_size=3, padding=0,bias=False)\n",
    "    self.conv3 = nn.Conv2d(in_channels=64, out_channels=64, kernel_size=3, padding=0,bias=False)\n",
    "    self.conv4 = nn.Conv2d(in_channels=64, out_channels=128, kernel_size=3, padding=0,bias=False)\n",
    "    self.conv5 = nn.Conv2d(in_channels=128, out_channels=256, kernel_size=3, padding=0,bias=False)\n",
    "    self.conv6 = nn.Conv2d(in_channels=256, out_channels=256, kernel_size=3, padding=1,bias=False)\n",
    "    self.pool = nn.MaxPool2d(kernel_size=2, stride=2)\n",
    "    self.batch_norm1 = nn.BatchNorm2d(32,track_running_stats=False)\n",
    "    self.batch_norm2 = nn.BatchNorm2d(64,track_running_stats=False)\n",
    "    self.batch_norm3 = nn.BatchNorm2d(256,track_running_stats=False)\n",
    "    self.dropout1 = nn.Dropout2d(p=0.05)\n",
    "    self.dropout2 = nn.Dropout2d(p=0.1)\n",
    "    self.fc1 = nn.Linear(256,64,bias=False)\n",
    "    self.fc2 = nn.Linear(64, 32,bias=False)\n",
    "    self.fc3 = nn.Linear(32, 10,bias=False)\n",
    "    self.fc4 = nn.Linear(10, 1,bias=False)\n",
    "\n",
    "    torch.nn.init.xavier_normal_(self.conv1.weight)\n",
    "    torch.nn.init.xavier_normal_(self.conv2.weight)\n",
    "    torch.nn.init.xavier_normal_(self.conv3.weight)\n",
    "    torch.nn.init.xavier_normal_(self.conv4.weight)\n",
    "    torch.nn.init.xavier_normal_(self.conv5.weight)\n",
    "    torch.nn.init.xavier_normal_(self.conv6.weight)\n",
    "\n",
    "    torch.nn.init.xavier_normal_(self.fc1.weight)\n",
    "    torch.nn.init.xavier_normal_(self.fc2.weight)\n",
    "    torch.nn.init.xavier_normal_(self.fc3.weight)\n",
    "    torch.nn.init.xavier_normal_(self.fc4.weight)\n",
    "    #self.spherical_softmax = my_spherical_softmax() \n",
    "    \n",
    "\n",
    "  def forward(self,z):  #y is avg image #z batch of list of 9 images\n",
    "    batch_s = z.shape[0] \n",
    "    y = torch.zeros([batch_s,256, 3,3], dtype=torch.float64)\n",
    "    x = torch.zeros([batch_s,9],dtype=torch.float64)\n",
    "    ftr = torch.zeros([batch_s,9,256,3,3])\n",
    "    y = y.to(\"cuda\")\n",
    "    x = x.to(\"cuda\")\n",
    "    ftr = ftr.to(\"cuda\")\n",
    "    \n",
    "    for i in range(9):\n",
    "        out,ftrs = self.helper(z[:,i])\n",
    "        #print(out.shape)\n",
    "        x[:,i] = out\n",
    "        ftr[:,i] = ftrs\n",
    "    x = F.softmax(x,dim=1)\n",
    "    #print(x,torch.sum(x,dim=1))\n",
    "\n",
    "    for i in range(9):            \n",
    "      x1 = x[:,i]          \n",
    "      y = y + torch.mul(x1[:,None,None,None],ftr[:,i])\n",
    "\n",
    "    return x, y #alpha, avg_data\n",
    "    \n",
    "  def helper(self, x):\n",
    "\n",
    "    x = self.conv1(x)\n",
    "    x = F.relu(self.batch_norm1(x))\n",
    "\n",
    "    x = (F.relu(self.conv2(x)))\n",
    "    x = self.pool(x)\n",
    "    \n",
    "    x = self.conv3(x)\n",
    "    x = F.relu(self.batch_norm2(x))\n",
    "\n",
    "    x = (F.relu(self.conv4(x)))\n",
    "    x = self.pool(x)\n",
    "    x = self.dropout1(x)\n",
    "\n",
    "    x = self.conv5(x)\n",
    "    \n",
    "    x = F.relu(self.batch_norm3(x))\n",
    "\n",
    "    x = self.conv6(x)\n",
    "    x1 = F.tanh(x)\n",
    "    \n",
    "    \n",
    "    x = F.relu(x)\n",
    "    x = self.pool(x)\n",
    "\n",
    "    x = x.view(x.size(0), -1)\n",
    "\n",
    "    x = self.dropout2(x)\n",
    "    x = F.relu(self.fc1(x))\n",
    "    x = F.relu(self.fc2(x))\n",
    "    x = self.dropout2(x)\n",
    "    x = F.relu(self.fc3(x))\n",
    "    x = self.fc4(x)\n",
    "    x = x[:,0] \n",
    "    # print(x.shape)\n",
    "    return x,x1"
   ]
  },
  {
   "cell_type": "code",
   "execution_count": 16,
   "id": "0cda6b15",
   "metadata": {
    "execution": {
     "iopub.execute_input": "2021-09-03T08:31:15.241046Z",
     "iopub.status.busy": "2021-09-03T08:31:15.240487Z",
     "iopub.status.idle": "2021-09-03T08:31:19.691393Z",
     "shell.execute_reply": "2021-09-03T08:31:19.690928Z",
     "shell.execute_reply.started": "2021-09-03T06:44:52.357953Z"
    },
    "id": "1GvXR1zV5n4w",
    "papermill": {
     "duration": 4.490521,
     "end_time": "2021-09-03T08:31:19.691539",
     "exception": false,
     "start_time": "2021-09-03T08:31:15.201018",
     "status": "completed"
    },
    "tags": []
   },
   "outputs": [],
   "source": [
    "torch.manual_seed(n_seed)\n",
    "focus_net = Focus().double()\n",
    "focus_net = focus_net.to(\"cuda\")"
   ]
  },
  {
   "cell_type": "code",
   "execution_count": 17,
   "id": "8e11da68",
   "metadata": {
    "execution": {
     "iopub.execute_input": "2021-09-03T08:31:19.783306Z",
     "iopub.status.busy": "2021-09-03T08:31:19.782042Z",
     "iopub.status.idle": "2021-09-03T08:31:19.784364Z",
     "shell.execute_reply": "2021-09-03T08:31:19.784818Z",
     "shell.execute_reply.started": "2021-09-03T06:44:54.04518Z"
    },
    "id": "LYdCXceZzSk9",
    "papermill": {
     "duration": 0.05641,
     "end_time": "2021-09-03T08:31:19.784943",
     "exception": false,
     "start_time": "2021-09-03T08:31:19.728533",
     "status": "completed"
    },
    "tags": []
   },
   "outputs": [],
   "source": [
    "class Classification(nn.Module):\n",
    "  def __init__(self):\n",
    "    super(Classification, self).__init__()\n",
    "    self.conv1 = nn.Conv2d(in_channels=256, out_channels=128, kernel_size=3, padding=1)\n",
    "    self.conv2 = nn.Conv2d(in_channels=128, out_channels=128, kernel_size=3, padding=1)\n",
    "    self.conv3 = nn.Conv2d(in_channels=128, out_channels=256, kernel_size=3, padding=1)\n",
    "    self.conv4 = nn.Conv2d(in_channels=256, out_channels=256, kernel_size=3, padding=1)\n",
    "    self.conv5 = nn.Conv2d(in_channels=256, out_channels=512, kernel_size=3, padding=1)\n",
    "    self.conv6 = nn.Conv2d(in_channels=512, out_channels=512, kernel_size=3, padding=1)\n",
    "    self.pool = nn.MaxPool2d(kernel_size=2, stride=2,padding=1)\n",
    "    self.batch_norm1 = nn.BatchNorm2d(128,track_running_stats=False)\n",
    "    self.batch_norm2 = nn.BatchNorm2d(256,track_running_stats=False)\n",
    "    self.batch_norm3 = nn.BatchNorm2d(512,track_running_stats=False)\n",
    "    self.dropout1 = nn.Dropout2d(p=0.05)\n",
    "    self.dropout2 = nn.Dropout2d(p=0.1)\n",
    "    self.global_average_pooling = nn.AvgPool2d(kernel_size=2)\n",
    "    self.fc1 = nn.Linear(512,128)\n",
    "    # self.fc2 = nn.Linear(128, 64)\n",
    "    # self.fc3 = nn.Linear(64, 10)\n",
    "    self.fc2 = nn.Linear(128, 3)\n",
    "\n",
    "    torch.nn.init.xavier_normal_(self.conv1.weight)\n",
    "    torch.nn.init.xavier_normal_(self.conv2.weight)\n",
    "    torch.nn.init.xavier_normal_(self.conv3.weight)\n",
    "    torch.nn.init.xavier_normal_(self.conv4.weight)\n",
    "    torch.nn.init.xavier_normal_(self.conv5.weight)\n",
    "    torch.nn.init.xavier_normal_(self.conv6.weight)\n",
    "\n",
    "    torch.nn.init.zeros_(self.conv1.bias)\n",
    "    torch.nn.init.zeros_(self.conv2.bias)\n",
    "    torch.nn.init.zeros_(self.conv3.bias)\n",
    "    torch.nn.init.zeros_(self.conv4.bias)\n",
    "    torch.nn.init.zeros_(self.conv5.bias)\n",
    "    torch.nn.init.zeros_(self.conv6.bias)\n",
    "\n",
    "\n",
    "    torch.nn.init.xavier_normal_(self.fc1.weight)\n",
    "    torch.nn.init.xavier_normal_(self.fc2.weight)\n",
    "    torch.nn.init.zeros_(self.fc1.bias)\n",
    "    torch.nn.init.zeros_(self.fc2.bias)\n",
    "\n",
    "\n",
    "  def forward(self, x):\n",
    "    x = self.conv1(x)\n",
    "    x = F.relu(self.batch_norm1(x))\n",
    "\n",
    "    x = (F.relu(self.conv2(x)))\n",
    "    x = self.pool(x)\n",
    "    \n",
    "    x = self.conv3(x)\n",
    "    x = F.relu(self.batch_norm2(x))\n",
    "\n",
    "    x = (F.relu(self.conv4(x)))\n",
    "    x = self.pool(x)\n",
    "    x = self.dropout1(x)\n",
    "\n",
    "    x = self.conv5(x)\n",
    "    x = F.relu(self.batch_norm3(x))\n",
    "\n",
    "    x = (F.relu(self.conv6(x)))\n",
    "    x = self.pool(x)\n",
    "    #print(x.shape)\n",
    "    x = self.global_average_pooling(x)\n",
    "    x = x.squeeze()\n",
    "    #x = x.view(x.size(0), -1)\n",
    "    #print(x.shape)\n",
    "    x = self.dropout2(x)\n",
    "    x = F.relu(self.fc1(x))\n",
    "    #x = F.relu(self.fc2(x))\n",
    "    #x = self.dropout2(x)\n",
    "    #x = F.relu(self.fc3(x))\n",
    "    x = self.fc2(x)\n",
    "    return x"
   ]
  },
  {
   "cell_type": "code",
   "execution_count": 18,
   "id": "92577f63",
   "metadata": {
    "execution": {
     "iopub.execute_input": "2021-09-03T08:31:19.859569Z",
     "iopub.status.busy": "2021-09-03T08:31:19.858909Z",
     "iopub.status.idle": "2021-09-03T08:31:19.971899Z",
     "shell.execute_reply": "2021-09-03T08:31:19.972298Z",
     "shell.execute_reply.started": "2021-09-03T06:44:55.484579Z"
    },
    "id": "uPYplUGazU9I",
    "papermill": {
     "duration": 0.15212,
     "end_time": "2021-09-03T08:31:19.972454",
     "exception": false,
     "start_time": "2021-09-03T08:31:19.820334",
     "status": "completed"
    },
    "tags": []
   },
   "outputs": [],
   "source": [
    "torch.manual_seed(n_seed)\n",
    "classify = Classification().double()\n",
    "classify = classify.to(\"cuda\")"
   ]
  },
  {
   "cell_type": "code",
   "execution_count": 19,
   "id": "8c6c6260",
   "metadata": {
    "execution": {
     "iopub.execute_input": "2021-09-03T08:31:20.050428Z",
     "iopub.status.busy": "2021-09-03T08:31:20.049553Z",
     "iopub.status.idle": "2021-09-03T08:31:21.989578Z",
     "shell.execute_reply": "2021-09-03T08:31:21.989096Z",
     "shell.execute_reply.started": "2021-09-03T06:44:57.197963Z"
    },
    "id": "l789TLMP9zJX",
    "papermill": {
     "duration": 1.981322,
     "end_time": "2021-09-03T08:31:21.989712",
     "exception": false,
     "start_time": "2021-09-03T08:31:20.008390",
     "status": "completed"
    },
    "tags": []
   },
   "outputs": [],
   "source": [
    "test_images =[]        #list of mosaic images, each mosaic image is saved as laist of 9 images\n",
    "fore_idx_test =[]                   #list of indexes at which foreground image is present in a mosaic image                \n",
    "test_label=[]                # label of mosaic image = foreground class present in that mosaic\n",
    "for i in range(10000):\n",
    "  np.random.seed(i+30000)\n",
    "  bg_idx = np.random.randint(0,35000,8)\n",
    "  fg_idx = np.random.randint(0,15000)\n",
    "  fg = np.random.randint(0,9)\n",
    "  fore_idx_test.append(fg)\n",
    "  image_list,label = create_mosaic_img(bg_idx,fg_idx,fg)\n",
    "  test_images.append(image_list)\n",
    "  test_label.append(label)"
   ]
  },
  {
   "cell_type": "code",
   "execution_count": 20,
   "id": "9cea7350",
   "metadata": {
    "execution": {
     "iopub.execute_input": "2021-09-03T08:31:22.068953Z",
     "iopub.status.busy": "2021-09-03T08:31:22.068123Z",
     "iopub.status.idle": "2021-09-03T08:31:22.071040Z",
     "shell.execute_reply": "2021-09-03T08:31:22.070642Z",
     "shell.execute_reply.started": "2021-09-03T06:45:00.248832Z"
    },
    "id": "bBzV9dKS5po7",
    "papermill": {
     "duration": 0.042696,
     "end_time": "2021-09-03T08:31:22.071159",
     "exception": false,
     "start_time": "2021-09-03T08:31:22.028463",
     "status": "completed"
    },
    "tags": []
   },
   "outputs": [],
   "source": [
    "test_data = MosaicDataset(test_images,test_label,fore_idx_test)\n",
    "test_loader = DataLoader( test_data,batch_size= batch ,shuffle=False)"
   ]
  },
  {
   "cell_type": "code",
   "execution_count": 21,
   "id": "43924775",
   "metadata": {
    "execution": {
     "iopub.execute_input": "2021-09-03T08:31:22.146972Z",
     "iopub.status.busy": "2021-09-03T08:31:22.146270Z",
     "iopub.status.idle": "2021-09-03T08:31:22.149165Z",
     "shell.execute_reply": "2021-09-03T08:31:22.148739Z",
     "shell.execute_reply.started": "2021-09-03T06:45:03.75494Z"
    },
    "id": "NIZAdWWL93SJ",
    "papermill": {
     "duration": 0.041776,
     "end_time": "2021-09-03T08:31:22.149265",
     "exception": false,
     "start_time": "2021-09-03T08:31:22.107489",
     "status": "completed"
    },
    "tags": []
   },
   "outputs": [],
   "source": [
    "criterion = nn.CrossEntropyLoss()"
   ]
  },
  {
   "cell_type": "code",
   "execution_count": 22,
   "id": "59fa41e4",
   "metadata": {
    "execution": {
     "iopub.execute_input": "2021-09-03T08:31:22.226084Z",
     "iopub.status.busy": "2021-09-03T08:31:22.225576Z",
     "iopub.status.idle": "2021-09-03T08:31:22.229144Z",
     "shell.execute_reply": "2021-09-03T08:31:22.229527Z",
     "shell.execute_reply.started": "2021-09-03T06:45:15.425036Z"
    },
    "id": "n5g3geNJ5zEu",
    "papermill": {
     "duration": 0.044044,
     "end_time": "2021-09-03T08:31:22.229650",
     "exception": false,
     "start_time": "2021-09-03T08:31:22.185606",
     "status": "completed"
    },
    "tags": []
   },
   "outputs": [],
   "source": [
    "import torch.optim as optim\n",
    "# criterion_classify = nn.CrossEntropyLoss()\n",
    "optimizer_focus = optim.Adam(focus_net.parameters(), lr=0.0005) # momentum=0.9)\n",
    "optimizer_classify = optim.Adam(classify.parameters(), lr=0.0005)#, mosmentum=0.9)"
   ]
  },
  {
   "cell_type": "code",
   "execution_count": 23,
   "id": "f46c6c9b",
   "metadata": {
    "execution": {
     "iopub.execute_input": "2021-09-03T08:31:22.306286Z",
     "iopub.status.busy": "2021-09-03T08:31:22.305791Z",
     "iopub.status.idle": "2021-09-03T08:31:22.309183Z",
     "shell.execute_reply": "2021-09-03T08:31:22.309559Z",
     "shell.execute_reply.started": "2021-09-03T06:48:46.891117Z"
    },
    "id": "q8FurF4uDlOf",
    "papermill": {
     "duration": 0.044255,
     "end_time": "2021-09-03T08:31:22.309676",
     "exception": false,
     "start_time": "2021-09-03T08:31:22.265421",
     "status": "completed"
    },
    "tags": []
   },
   "outputs": [],
   "source": [
    "col1=[]\n",
    "col2=[]\n",
    "col3=[]\n",
    "col4=[]\n",
    "col5=[]\n",
    "col6=[]\n",
    "col7=[]\n",
    "col8=[]\n",
    "col9=[]\n",
    "col10=[]\n",
    "col11=[]\n",
    "col12=[]\n",
    "col13=[]\n",
    "col14 = [] # train average sparsity\n",
    "col15 = [] # test average sparsity\n",
    "\n"
   ]
  },
  {
   "cell_type": "code",
   "execution_count": 24,
   "id": "5ba7f0c6",
   "metadata": {
    "execution": {
     "iopub.execute_input": "2021-09-03T08:31:22.397014Z",
     "iopub.status.busy": "2021-09-03T08:31:22.396226Z",
     "iopub.status.idle": "2021-09-03T08:31:49.110346Z",
     "shell.execute_reply": "2021-09-03T08:31:49.110920Z",
     "shell.execute_reply.started": "2021-09-03T06:48:48.202468Z"
    },
    "id": "u7wkoxckDlIg",
    "outputId": "8bd39cf0-6ed5-4baf-9ca9-2ef79eb52dad",
    "papermill": {
     "duration": 26.765927,
     "end_time": "2021-09-03T08:31:49.111132",
     "exception": false,
     "start_time": "2021-09-03T08:31:22.345205",
     "status": "completed"
    },
    "tags": []
   },
   "outputs": [
    {
     "name": "stdout",
     "output_type": "stream",
     "text": [
      "Accuracy of the network on the 30000 train images: 33.800000 %\n",
      "total correct 10140\n",
      "total train set images 30000\n",
      "focus_true_pred_true 412 =============> FTPT : 1.373333 %\n",
      "focus_false_pred_true 9728 =============> FFPT : 32.426667 %\n",
      "focus_true_pred_false 1585 =============> FTPF : 5.283333 %\n",
      "focus_false_pred_false 18275 =============> FFPF : 60.916667 %\n",
      "Sparsity_Value 269998 =============> AVG Sparsity : 8.999933 \n",
      "argmax_more_than_half ==================>  0\n",
      "argmax_less_than_half ==================>  30000\n",
      "30000\n",
      "====================================================================================================\n"
     ]
    }
   ],
   "source": [
    "correct = 0\n",
    "total = 0\n",
    "count = 0\n",
    "flag = 1\n",
    "focus_true_pred_true =0\n",
    "focus_false_pred_true =0\n",
    "focus_true_pred_false =0\n",
    "focus_false_pred_false =0\n",
    "\n",
    "argmax_more_than_half = 0\n",
    "argmax_less_than_half =0\n",
    "sparse_val = 0 \n",
    "focus_net.eval()\n",
    "classify.eval()\n",
    "with torch.no_grad():\n",
    "  for data in train_loader:\n",
    "    inputs, labels , fore_idx = data\n",
    "    inputs = inputs.double()\n",
    "    inputs, labels , fore_idx = inputs.to(\"cuda\"),labels.to(\"cuda\"), fore_idx.to(\"cuda\")\n",
    "    alphas, avg_images = focus_net(inputs)\n",
    "    # print(inputs.shape, alphas.shape, avg_images.shape)\n",
    "    outputs = classify(avg_images)\n",
    "\n",
    "    _, predicted = torch.max(outputs.data, 1)\n",
    "    \n",
    "    sparse_val += torch.sum(torch.sum(alphas>0.01,dim=1)).item()\n",
    "\n",
    "\n",
    "    for j in range(labels.size(0)):\n",
    "      count += 1\n",
    "      focus = torch.argmax(alphas[j])\n",
    "      if alphas[j][focus] >= 0.5 :\n",
    "        argmax_more_than_half += 1\n",
    "      else:\n",
    "        argmax_less_than_half += 1\n",
    "\n",
    "      if(focus == fore_idx[j] and predicted[j] == labels[j]):\n",
    "          focus_true_pred_true += 1\n",
    "      elif(focus != fore_idx[j] and predicted[j] == labels[j]):\n",
    "        focus_false_pred_true += 1\n",
    "      elif(focus == fore_idx[j] and predicted[j] != labels[j]):\n",
    "        focus_true_pred_false += 1\n",
    "      elif(focus != fore_idx[j] and predicted[j] != labels[j]):\n",
    "        focus_false_pred_false += 1\n",
    "\n",
    "    total += labels.size(0)\n",
    "    correct += (predicted == labels).sum().item()\n",
    "\n",
    "print('Accuracy of the network on the 30000 train images: %f %%' % ( 100 * correct / total))\n",
    "print(\"total correct\", correct)\n",
    "print(\"total train set images\", total)\n",
    "\n",
    "print(\"focus_true_pred_true %d =============> FTPT : %f %%\" % (focus_true_pred_true , (100 * focus_true_pred_true / total) ) )\n",
    "print(\"focus_false_pred_true %d =============> FFPT : %f %%\" % (focus_false_pred_true, (100 * focus_false_pred_true / total) ) )\n",
    "print(\"focus_true_pred_false %d =============> FTPF : %f %%\" %( focus_true_pred_false , ( 100 * focus_true_pred_false / total) ) )\n",
    "print(\"focus_false_pred_false %d =============> FFPF : %f %%\" % (focus_false_pred_false, ( 100 * focus_false_pred_false / total) ) )\n",
    "print(\"Sparsity_Value %d =============> AVG Sparsity : %f \" % (sparse_val,(sparse_val)/total))\n",
    "print(\"argmax_more_than_half ==================> \",argmax_more_than_half)\n",
    "print(\"argmax_less_than_half ==================> \",argmax_less_than_half)\n",
    "print(count)\n",
    "\n",
    "print(\"=\"*100)\n",
    "\n",
    "col1.append(0)\n",
    "col2.append(argmax_more_than_half)\n",
    "col3.append(argmax_less_than_half)\n",
    "col4.append(focus_true_pred_true)\n",
    "col5.append(focus_false_pred_true)\n",
    "col6.append(focus_true_pred_false)\n",
    "col7.append(focus_false_pred_false)\n",
    "col14.append(sparse_val)"
   ]
  },
  {
   "cell_type": "code",
   "execution_count": 25,
   "id": "c082f39e",
   "metadata": {
    "execution": {
     "iopub.execute_input": "2021-09-03T08:31:49.199661Z",
     "iopub.status.busy": "2021-09-03T08:31:49.198461Z",
     "iopub.status.idle": "2021-09-03T08:31:58.005386Z",
     "shell.execute_reply": "2021-09-03T08:31:58.006005Z",
     "shell.execute_reply.started": "2021-09-03T06:49:13.912068Z"
    },
    "id": "0S4x9oQuDlBa",
    "outputId": "c268f2ab-e59b-45bc-ecc0-1532f9dc95c9",
    "papermill": {
     "duration": 8.857516,
     "end_time": "2021-09-03T08:31:58.006214",
     "exception": false,
     "start_time": "2021-09-03T08:31:49.148698",
     "status": "completed"
    },
    "tags": []
   },
   "outputs": [
    {
     "name": "stdout",
     "output_type": "stream",
     "text": [
      "Accuracy of the network on the 10000 test images: 33.550000 %\n",
      "total correct 3355\n",
      "total test set images 10000\n",
      "focus_true_pred_true 138 =============> FTPT : 1.380000 %\n",
      "focus_false_pred_true 3217 =============> FFPT : 32.170000 %\n",
      "focus_true_pred_false 514 =============> FTPF : 5.140000 %\n",
      "focus_false_pred_false 6131 =============> FFPF : 61.310000 %\n",
      "Sparsity_Value 90000 =============> AVG Sparsity : 9.000000 \n",
      "argmax_more_than_half ==================>  0\n",
      "argmax_less_than_half ==================>  10000\n"
     ]
    }
   ],
   "source": [
    "correct = 0\n",
    "total = 0\n",
    "count = 0\n",
    "flag = 1\n",
    "focus_true_pred_true =0\n",
    "focus_false_pred_true =0\n",
    "focus_true_pred_false =0\n",
    "focus_false_pred_false =0\n",
    "\n",
    "argmax_more_than_half = 0\n",
    "argmax_less_than_half =0\n",
    "sparse_val = 0\n",
    "focus_net.eval()\n",
    "classify.eval()\n",
    "with torch.no_grad():\n",
    "  for data in test_loader:\n",
    "    inputs, labels , fore_idx = data\n",
    "    inputs = inputs.double()\n",
    "    inputs, labels , fore_idx = inputs.to(\"cuda\"),labels.to(\"cuda\"), fore_idx.to(\"cuda\")\n",
    "    alphas, avg_images = focus_net(inputs)\n",
    "    outputs = classify(avg_images)\n",
    "\n",
    "    _, predicted = torch.max(outputs.data, 1)\n",
    "    \n",
    "    sparse_val += torch.sum(torch.sum(alphas>0.01,dim=1)).item()\n",
    "\n",
    "    for j in range(labels.size(0)):\n",
    "      focus = torch.argmax(alphas[j])\n",
    "      if alphas[j][focus] >= 0.5 :\n",
    "        argmax_more_than_half += 1\n",
    "      else:\n",
    "        argmax_less_than_half += 1\n",
    "\n",
    "      if(focus == fore_idx[j] and predicted[j] == labels[j]):\n",
    "          focus_true_pred_true += 1\n",
    "      elif(focus != fore_idx[j] and predicted[j] == labels[j]):\n",
    "        focus_false_pred_true += 1\n",
    "      elif(focus == fore_idx[j] and predicted[j] != labels[j]):\n",
    "        focus_true_pred_false += 1\n",
    "      elif(focus != fore_idx[j] and predicted[j] != labels[j]):\n",
    "        focus_false_pred_false += 1\n",
    "\n",
    "    total += labels.size(0)\n",
    "    correct += (predicted == labels).sum().item()\n",
    "\n",
    "print('Accuracy of the network on the 10000 test images: %f %%' % (\n",
    "    100 * correct / total))\n",
    "print(\"total correct\", correct)\n",
    "print(\"total test set images\", total)\n",
    "\n",
    "print(\"focus_true_pred_true %d =============> FTPT : %f %%\" % (focus_true_pred_true , (100 * focus_true_pred_true / total) ) )\n",
    "print(\"focus_false_pred_true %d =============> FFPT : %f %%\" % (focus_false_pred_true, (100 * focus_false_pred_true / total) ) )\n",
    "print(\"focus_true_pred_false %d =============> FTPF : %f %%\" %( focus_true_pred_false , ( 100 * focus_true_pred_false / total) ) )\n",
    "print(\"focus_false_pred_false %d =============> FFPF : %f %%\" % (focus_false_pred_false, ( 100 * focus_false_pred_false / total) ) )\n",
    "print(\"Sparsity_Value %d =============> AVG Sparsity : %f \" % (sparse_val,(sparse_val)/total))\n",
    "print(\"argmax_more_than_half ==================> \",argmax_more_than_half)\n",
    "print(\"argmax_less_than_half ==================> \",argmax_less_than_half)\n",
    "col8.append(argmax_more_than_half)\n",
    "col9.append(argmax_less_than_half)\n",
    "col10.append(focus_true_pred_true)\n",
    "col11.append(focus_false_pred_true)\n",
    "col12.append(focus_true_pred_false)\n",
    "col13.append(focus_false_pred_false)\n",
    "col15.append(sparse_val)"
   ]
  },
  {
   "cell_type": "code",
   "execution_count": 26,
   "id": "febbc802",
   "metadata": {
    "execution": {
     "iopub.execute_input": "2021-09-03T08:31:58.108188Z",
     "iopub.status.busy": "2021-09-03T08:31:58.102938Z",
     "iopub.status.idle": "2021-09-03T08:48:18.594049Z",
     "shell.execute_reply": "2021-09-03T08:48:18.594653Z",
     "shell.execute_reply.started": "2021-09-03T06:49:22.604756Z"
    },
    "id": "tFfAJZkcZEsY",
    "outputId": "439eba9f-f882-4ed4-b553-fa100981260a",
    "papermill": {
     "duration": 980.548094,
     "end_time": "2021-09-03T08:48:18.594862",
     "exception": false,
     "start_time": "2021-09-03T08:31:58.046768",
     "status": "completed"
    },
    "tags": []
   },
   "outputs": [
    {
     "name": "stdout",
     "output_type": "stream",
     "text": [
      "[1,    60] loss: 1.084\n",
      "[1,   120] loss: 0.876\n",
      "[2,    60] loss: 0.721\n",
      "[2,   120] loss: 0.611\n",
      "[3,    60] loss: 0.481\n",
      "[3,   120] loss: 0.445\n",
      "[4,    60] loss: 0.356\n",
      "[4,   120] loss: 0.307\n",
      "[5,    60] loss: 0.261\n",
      "[5,   120] loss: 0.244\n",
      "[6,    60] loss: 0.184\n",
      "[6,   120] loss: 0.188\n",
      "[7,    60] loss: 0.152\n",
      "[7,   120] loss: 0.154\n",
      "[8,    60] loss: 0.125\n",
      "[8,   120] loss: 0.124\n",
      "[9,    60] loss: 0.095\n",
      "[9,   120] loss: 0.104\n",
      "[10,    60] loss: 0.089\n",
      "[10,   120] loss: 0.081\n",
      "[11,    60] loss: 0.077\n",
      "[11,   120] loss: 0.078\n",
      "[12,    60] loss: 0.063\n",
      "[12,   120] loss: 0.066\n",
      "[13,    60] loss: 0.052\n",
      "[13,   120] loss: 0.061\n",
      "[14,    60] loss: 0.052\n",
      "[14,   120] loss: 0.056\n",
      "[15,    60] loss: 0.052\n",
      "[15,   120] loss: 0.047\n",
      "Finished Training\n"
     ]
    }
   ],
   "source": [
    "nos_epochs = 50\n",
    "focus_true_pred_true =0\n",
    "focus_false_pred_true =0\n",
    "focus_true_pred_false =0\n",
    "focus_false_pred_false =0\n",
    "\n",
    "argmax_more_than_half = 0\n",
    "argmax_less_than_half =0\n",
    "focus_net.train()\n",
    "classify.train()\n",
    "tr_loss = []\n",
    "\n",
    "\n",
    "for epoch in range(nos_epochs):  # loop over the dataset multiple times\n",
    "  focus_net.train()\n",
    "  classify.train()\n",
    "  focus_true_pred_true =0\n",
    "  focus_false_pred_true =0\n",
    "  focus_true_pred_false =0\n",
    "  focus_false_pred_false =0\n",
    "  \n",
    "  argmax_more_than_half = 0\n",
    "  argmax_less_than_half =0\n",
    "  sparse_val = 0 \n",
    "  \n",
    "  running_loss = 0.0\n",
    "  epoch_loss = []\n",
    "  cnt=0\n",
    "\n",
    "  iteration = desired_num // batch\n",
    "  \n",
    "  #training data set\n",
    "  \n",
    "  for i, data in  enumerate(train_loader):\n",
    "    inputs , labels , fore_idx = data\n",
    "    inputs = inputs.double()\n",
    "    inputs, labels = inputs.to(\"cuda\"), labels.to(\"cuda\")\n",
    "    # zero the parameter gradients\n",
    "    optimizer_focus.zero_grad()\n",
    "    optimizer_classify.zero_grad()\n",
    "    alphas, avg_images = focus_net(inputs)\n",
    "    outputs = classify(avg_images)\n",
    "    \n",
    "    \n",
    "\n",
    "    _, predicted = torch.max(outputs.data, 1)\n",
    "\n",
    "    loss = criterion(outputs, labels)\n",
    "    loss.backward()\n",
    "    optimizer_focus.step()\n",
    "    optimizer_classify.step()\n",
    "\n",
    "    running_loss += loss.item()\n",
    "    mini = 60\n",
    "    if cnt % mini == mini-1:    # print every 40 mini-batches\n",
    "      print('[%d, %5d] loss: %.3f' %(epoch + 1, cnt + 1, running_loss / mini))\n",
    "      epoch_loss.append(running_loss/mini)\n",
    "      running_loss = 0.0\n",
    "    cnt=cnt+1\n",
    "    \n",
    "    \n",
    "    if epoch % 1 == 0:\n",
    "      sparse_val += torch.sum(torch.sum(alphas>0.01,dim=1)).item()\n",
    "      for j in range (batch):\n",
    "        focus = torch.argmax(alphas[j])\n",
    "\n",
    "        if(alphas[j][focus] >= 0.5):\n",
    "          argmax_more_than_half +=1\n",
    "        else:\n",
    "          argmax_less_than_half +=1\n",
    "\n",
    "        if(focus == fore_idx[j] and predicted[j] == labels[j]):\n",
    "          focus_true_pred_true += 1\n",
    "\n",
    "        elif(focus != fore_idx[j] and predicted[j] == labels[j]):\n",
    "          focus_false_pred_true +=1\n",
    "\n",
    "        elif(focus == fore_idx[j] and predicted[j] != labels[j]):\n",
    "          focus_true_pred_false +=1\n",
    "\n",
    "        elif(focus != fore_idx[j] and predicted[j] != labels[j]):\n",
    "          focus_false_pred_false +=1\n",
    "\n",
    "\n",
    "  tr_loss.append(np.mean(epoch_loss))\n",
    "  if epoch % 1 == 0:\n",
    "    col1.append(epoch+1)\n",
    "    col2.append(argmax_more_than_half)\n",
    "    col3.append(argmax_less_than_half)\n",
    "    col4.append(focus_true_pred_true)\n",
    "    col5.append(focus_false_pred_true)\n",
    "    col6.append(focus_true_pred_false)\n",
    "    col7.append(focus_false_pred_false)\n",
    "    col14.append(sparse_val)\n",
    "  \n",
    "    #************************************************************************\n",
    "    #testing data set \n",
    "    focus_net.eval()\n",
    "    classify.eval() \n",
    "    with torch.no_grad():\n",
    "      focus_true_pred_true =0\n",
    "      focus_false_pred_true =0\n",
    "      focus_true_pred_false =0\n",
    "      focus_false_pred_false =0\n",
    "\n",
    "      argmax_more_than_half = 0\n",
    "      argmax_less_than_half =0\n",
    "      sparse_val = 0\n",
    "      for data in test_loader:\n",
    "        inputs, labels , fore_idx = data\n",
    "        inputs = inputs.double()\n",
    "        inputs, labels = inputs.to(\"cuda\"), labels.to(\"cuda\")\n",
    "        alphas, avg_images = focus_net(inputs)\n",
    "        outputs = classify(avg_images)\n",
    "        #outputs, alphas, avg_images = classify(inputs)\n",
    "        _, predicted = torch.max(outputs.data, 1)\n",
    "        sparse_val += torch.sum(torch.sum(alphas>0.01,dim=1)).item()\n",
    "        for j in range (batch):\n",
    "          focus = torch.argmax(alphas[j])\n",
    "\n",
    "          if(alphas[j][focus] >= 0.5):\n",
    "            argmax_more_than_half +=1\n",
    "          else:\n",
    "            argmax_less_than_half +=1\n",
    "\n",
    "          if(focus == fore_idx[j] and predicted[j] == labels[j]):\n",
    "            focus_true_pred_true += 1\n",
    "\n",
    "          elif(focus != fore_idx[j] and predicted[j] == labels[j]):\n",
    "            focus_false_pred_true +=1\n",
    "\n",
    "          elif(focus == fore_idx[j] and predicted[j] != labels[j]):\n",
    "            focus_true_pred_false +=1\n",
    "\n",
    "          elif(focus != fore_idx[j] and predicted[j] != labels[j]):\n",
    "            focus_false_pred_false +=1\n",
    "      \n",
    "    col8.append(argmax_more_than_half)\n",
    "    col9.append(argmax_less_than_half)\n",
    "    col10.append(focus_true_pred_true)\n",
    "    col11.append(focus_false_pred_true)\n",
    "    col12.append(focus_true_pred_false)\n",
    "    col13.append(focus_false_pred_false)\n",
    "    col15.append(sparse_val)\n",
    "  if(np.mean(epoch_loss) <= 0.05):\n",
    "    break;\n",
    "print('Finished Training') "
   ]
  },
  {
   "cell_type": "code",
   "execution_count": 27,
   "id": "aa93300d",
   "metadata": {
    "execution": {
     "iopub.execute_input": "2021-09-03T08:48:18.688437Z",
     "iopub.status.busy": "2021-09-03T08:48:18.687958Z",
     "iopub.status.idle": "2021-09-03T08:48:18.784313Z",
     "shell.execute_reply": "2021-09-03T08:48:18.783847Z",
     "shell.execute_reply.started": "2021-09-03T06:51:35.629374Z"
    },
    "id": "WIAJ3UZN8rPE",
    "papermill": {
     "duration": 0.144157,
     "end_time": "2021-09-03T08:48:18.784440",
     "exception": false,
     "start_time": "2021-09-03T08:48:18.640283",
     "status": "completed"
    },
    "tags": []
   },
   "outputs": [],
   "source": [
    "torch.save(focus_net.state_dict(),path+\"weights_focus_0.pt\")  \n",
    "torch.save(classify.state_dict(),path+\"weights_classify_0.pt\")"
   ]
  },
  {
   "cell_type": "code",
   "execution_count": 28,
   "id": "2ef6ca4a",
   "metadata": {
    "execution": {
     "iopub.execute_input": "2021-09-03T08:48:18.877307Z",
     "iopub.status.busy": "2021-09-03T08:48:18.876784Z",
     "iopub.status.idle": "2021-09-03T08:48:18.880556Z",
     "shell.execute_reply": "2021-09-03T08:48:18.880142Z",
     "shell.execute_reply.started": "2021-09-03T06:51:35.764079Z"
    },
    "id": "2LgQKXW-8MH-",
    "papermill": {
     "duration": 0.051474,
     "end_time": "2021-09-03T08:48:18.880665",
     "exception": false,
     "start_time": "2021-09-03T08:48:18.829191",
     "status": "completed"
    },
    "tags": []
   },
   "outputs": [],
   "source": [
    "columns = [\"epochs\", \"argmax > 0.5\" ,\"argmax < 0.5\", \"focus_true_pred_true\", \"focus_false_pred_true\", \"focus_true_pred_false\", \"focus_false_pred_false\" ,\"sparse_val\"]"
   ]
  },
  {
   "cell_type": "code",
   "execution_count": 29,
   "id": "a645723e",
   "metadata": {
    "execution": {
     "iopub.execute_input": "2021-09-03T08:48:18.974110Z",
     "iopub.status.busy": "2021-09-03T08:48:18.972920Z",
     "iopub.status.idle": "2021-09-03T08:48:18.975167Z",
     "shell.execute_reply": "2021-09-03T08:48:18.975592Z",
     "shell.execute_reply.started": "2021-09-03T06:51:35.770638Z"
    },
    "id": "tSKphM888Y5o",
    "papermill": {
     "duration": 0.051037,
     "end_time": "2021-09-03T08:48:18.975709",
     "exception": false,
     "start_time": "2021-09-03T08:48:18.924672",
     "status": "completed"
    },
    "tags": []
   },
   "outputs": [],
   "source": [
    "df_train = pd.DataFrame()\n",
    "df_test = pd.DataFrame()"
   ]
  },
  {
   "cell_type": "code",
   "execution_count": 30,
   "id": "6b4e8e6d",
   "metadata": {
    "execution": {
     "iopub.execute_input": "2021-09-03T08:48:19.068332Z",
     "iopub.status.busy": "2021-09-03T08:48:19.067839Z",
     "iopub.status.idle": "2021-09-03T08:48:19.073075Z",
     "shell.execute_reply": "2021-09-03T08:48:19.073493Z",
     "shell.execute_reply.started": "2021-09-03T06:51:35.784191Z"
    },
    "id": "lLSfxf-zE_D1",
    "outputId": "6cc73d7a-7d81-4717-b408-62a37e00b418",
    "papermill": {
     "duration": 0.05376,
     "end_time": "2021-09-03T08:48:19.073606",
     "exception": false,
     "start_time": "2021-09-03T08:48:19.019846",
     "status": "completed"
    },
    "tags": []
   },
   "outputs": [
    {
     "data": {
      "text/plain": [
       "(16,\n",
       " [10000,\n",
       "  5640,\n",
       "  3303,\n",
       "  3684,\n",
       "  2921,\n",
       "  2574,\n",
       "  2297,\n",
       "  2922,\n",
       "  2626,\n",
       "  2214,\n",
       "  2164,\n",
       "  1978,\n",
       "  2849,\n",
       "  2324,\n",
       "  2008,\n",
       "  2741])"
      ]
     },
     "execution_count": 30,
     "metadata": {},
     "output_type": "execute_result"
    }
   ],
   "source": [
    "len(col1),col9"
   ]
  },
  {
   "cell_type": "code",
   "execution_count": 31,
   "id": "44286a46",
   "metadata": {
    "execution": {
     "iopub.execute_input": "2021-09-03T08:48:19.172831Z",
     "iopub.status.busy": "2021-09-03T08:48:19.167405Z",
     "iopub.status.idle": "2021-09-03T08:48:19.289704Z",
     "shell.execute_reply": "2021-09-03T08:48:19.290075Z",
     "shell.execute_reply.started": "2021-09-03T06:51:35.798546Z"
    },
    "id": "eBFPNm12uBR3",
    "outputId": "735aba44-f94b-4f5a-fba8-e954fe4c4c56",
    "papermill": {
     "duration": 0.17215,
     "end_time": "2021-09-03T08:48:19.290198",
     "exception": false,
     "start_time": "2021-09-03T08:48:19.118048",
     "status": "completed"
    },
    "tags": []
   },
   "outputs": [
    {
     "data": {
      "image/png": "[encoded data removed]",
      "text/plain": [
       "<Figure size 432x288 with 1 Axes>"
      ]
     },
     "metadata": {
      "needs_background": "light"
     },
     "output_type": "display_data"
    }
   ],
   "source": [
    "plt.plot(np.arange(1,epoch+2),tr_loss)\n",
    "plt.xlabel(\"epochs\", fontsize=14, fontweight = 'bold')\n",
    "plt.ylabel(\"Loss\", fontsize=14, fontweight = 'bold')\n",
    "plt.title(\"Train Loss\")\n",
    "#plt.grid()\n",
    "plt.show()"
   ]
  },
  {
   "cell_type": "code",
   "execution_count": 32,
   "id": "e0d7fa03",
   "metadata": {
    "execution": {
     "iopub.execute_input": "2021-09-03T08:48:19.385170Z",
     "iopub.status.busy": "2021-09-03T08:48:19.384652Z",
     "iopub.status.idle": "2021-09-03T08:48:19.387522Z",
     "shell.execute_reply": "2021-09-03T08:48:19.387106Z",
     "shell.execute_reply.started": "2021-09-03T06:51:35.929289Z"
    },
    "id": "dqTXDm-EuBR3",
    "papermill": {
     "duration": 0.051864,
     "end_time": "2021-09-03T08:48:19.387638",
     "exception": false,
     "start_time": "2021-09-03T08:48:19.335774",
     "status": "completed"
    },
    "tags": []
   },
   "outputs": [],
   "source": [
    "np.save(\"train_loss.npy\",{\"training_loss\":tr_loss})"
   ]
  },
  {
   "cell_type": "code",
   "execution_count": 33,
   "id": "55596b8a",
   "metadata": {
    "execution": {
     "iopub.execute_input": "2021-09-03T08:48:19.494569Z",
     "iopub.status.busy": "2021-09-03T08:48:19.493760Z",
     "iopub.status.idle": "2021-09-03T08:48:19.503153Z",
     "shell.execute_reply": "2021-09-03T08:48:19.503581Z",
     "shell.execute_reply.started": "2021-09-03T06:51:35.93613Z"
    },
    "id": "FrWoEGXZ8cBO",
    "papermill": {
     "duration": 0.071207,
     "end_time": "2021-09-03T08:48:19.503698",
     "exception": false,
     "start_time": "2021-09-03T08:48:19.432491",
     "status": "completed"
    },
    "tags": []
   },
   "outputs": [],
   "source": [
    "df_train[columns[0]] = col1\n",
    "df_train[columns[1]] = col2\n",
    "df_train[columns[2]] = col3\n",
    "df_train[columns[3]] = col4\n",
    "df_train[columns[4]] = col5\n",
    "df_train[columns[5]] = col6\n",
    "df_train[columns[6]] = col7\n",
    "df_train[columns[7]] = col14\n",
    "\n",
    "df_test[columns[0]] = col1\n",
    "df_test[columns[1]] = col8\n",
    "df_test[columns[2]] = col9\n",
    "df_test[columns[3]] = col10\n",
    "df_test[columns[4]] = col11\n",
    "df_test[columns[5]] = col12\n",
    "df_test[columns[6]] = col13\n",
    "df_test[columns[7]] = col15"
   ]
  },
  {
   "cell_type": "code",
   "execution_count": 34,
   "id": "ffcdd41c",
   "metadata": {
    "execution": {
     "iopub.execute_input": "2021-09-03T08:48:19.597592Z",
     "iopub.status.busy": "2021-09-03T08:48:19.597077Z",
     "iopub.status.idle": "2021-09-03T08:48:19.614873Z",
     "shell.execute_reply": "2021-09-03T08:48:19.614164Z",
     "shell.execute_reply.started": "2021-09-03T06:51:35.955883Z"
    },
    "id": "RGJoMFcK8eTe",
    "outputId": "cc5796ba-3e97-427e-8d8e-19adff2822c2",
    "papermill": {
     "duration": 0.066214,
     "end_time": "2021-09-03T08:48:19.614973",
     "exception": false,
     "start_time": "2021-09-03T08:48:19.548759",
     "status": "completed"
    },
    "tags": []
   },
   "outputs": [
    {
     "data": {
      "text/html": [
       "<div>\n",
       "<style scoped>\n",
       "    .dataframe tbody tr th:only-of-type {\n",
       "        vertical-align: middle;\n",
       "    }\n",
       "\n",
       "    .dataframe tbody tr th {\n",
       "        vertical-align: top;\n",
       "    }\n",
       "\n",
       "    .dataframe thead th {\n",
       "        text-align: right;\n",
       "    }\n",
       "</style>\n",
       "<table border=\"1\" class=\"dataframe\">\n",
       "  <thead>\n",
       "    <tr style=\"text-align: right;\">\n",
       "      <th></th>\n",
       "      <th>epochs</th>\n",
       "      <th>argmax &gt; 0.5</th>\n",
       "      <th>argmax &lt; 0.5</th>\n",
       "      <th>focus_true_pred_true</th>\n",
       "      <th>focus_false_pred_true</th>\n",
       "      <th>focus_true_pred_false</th>\n",
       "      <th>focus_false_pred_false</th>\n",
       "      <th>sparse_val</th>\n",
       "    </tr>\n",
       "  </thead>\n",
       "  <tbody>\n",
       "    <tr>\n",
       "      <th>0</th>\n",
       "      <td>0</td>\n",
       "      <td>0</td>\n",
       "      <td>30000</td>\n",
       "      <td>412</td>\n",
       "      <td>9728</td>\n",
       "      <td>1585</td>\n",
       "      <td>18275</td>\n",
       "      <td>269998</td>\n",
       "    </tr>\n",
       "    <tr>\n",
       "      <th>1</th>\n",
       "      <td>1</td>\n",
       "      <td>4861</td>\n",
       "      <td>25139</td>\n",
       "      <td>6744</td>\n",
       "      <td>8596</td>\n",
       "      <td>3183</td>\n",
       "      <td>11477</td>\n",
       "      <td>239907</td>\n",
       "    </tr>\n",
       "    <tr>\n",
       "      <th>2</th>\n",
       "      <td>2</td>\n",
       "      <td>14323</td>\n",
       "      <td>15677</td>\n",
       "      <td>14428</td>\n",
       "      <td>6874</td>\n",
       "      <td>2803</td>\n",
       "      <td>5895</td>\n",
       "      <td>202108</td>\n",
       "    </tr>\n",
       "    <tr>\n",
       "      <th>3</th>\n",
       "      <td>3</td>\n",
       "      <td>18820</td>\n",
       "      <td>11180</td>\n",
       "      <td>18448</td>\n",
       "      <td>5802</td>\n",
       "      <td>2095</td>\n",
       "      <td>3655</td>\n",
       "      <td>188110</td>\n",
       "    </tr>\n",
       "    <tr>\n",
       "      <th>4</th>\n",
       "      <td>4</td>\n",
       "      <td>21269</td>\n",
       "      <td>8731</td>\n",
       "      <td>20851</td>\n",
       "      <td>5245</td>\n",
       "      <td>1460</td>\n",
       "      <td>2444</td>\n",
       "      <td>174776</td>\n",
       "    </tr>\n",
       "    <tr>\n",
       "      <th>5</th>\n",
       "      <td>5</td>\n",
       "      <td>22160</td>\n",
       "      <td>7840</td>\n",
       "      <td>22270</td>\n",
       "      <td>4835</td>\n",
       "      <td>1142</td>\n",
       "      <td>1753</td>\n",
       "      <td>170883</td>\n",
       "    </tr>\n",
       "    <tr>\n",
       "      <th>6</th>\n",
       "      <td>6</td>\n",
       "      <td>22757</td>\n",
       "      <td>7243</td>\n",
       "      <td>23267</td>\n",
       "      <td>4653</td>\n",
       "      <td>822</td>\n",
       "      <td>1258</td>\n",
       "      <td>163990</td>\n",
       "    </tr>\n",
       "    <tr>\n",
       "      <th>7</th>\n",
       "      <td>7</td>\n",
       "      <td>22024</td>\n",
       "      <td>7976</td>\n",
       "      <td>23808</td>\n",
       "      <td>4544</td>\n",
       "      <td>635</td>\n",
       "      <td>1013</td>\n",
       "      <td>182389</td>\n",
       "    </tr>\n",
       "    <tr>\n",
       "      <th>8</th>\n",
       "      <td>8</td>\n",
       "      <td>22543</td>\n",
       "      <td>7457</td>\n",
       "      <td>24145</td>\n",
       "      <td>4519</td>\n",
       "      <td>536</td>\n",
       "      <td>800</td>\n",
       "      <td>171791</td>\n",
       "    </tr>\n",
       "    <tr>\n",
       "      <th>9</th>\n",
       "      <td>9</td>\n",
       "      <td>22834</td>\n",
       "      <td>7166</td>\n",
       "      <td>24646</td>\n",
       "      <td>4288</td>\n",
       "      <td>394</td>\n",
       "      <td>672</td>\n",
       "      <td>171799</td>\n",
       "    </tr>\n",
       "    <tr>\n",
       "      <th>10</th>\n",
       "      <td>10</td>\n",
       "      <td>23347</td>\n",
       "      <td>6653</td>\n",
       "      <td>24948</td>\n",
       "      <td>4163</td>\n",
       "      <td>332</td>\n",
       "      <td>557</td>\n",
       "      <td>160740</td>\n",
       "    </tr>\n",
       "    <tr>\n",
       "      <th>11</th>\n",
       "      <td>11</td>\n",
       "      <td>23755</td>\n",
       "      <td>6245</td>\n",
       "      <td>24854</td>\n",
       "      <td>4319</td>\n",
       "      <td>321</td>\n",
       "      <td>506</td>\n",
       "      <td>153638</td>\n",
       "    </tr>\n",
       "    <tr>\n",
       "      <th>12</th>\n",
       "      <td>12</td>\n",
       "      <td>23025</td>\n",
       "      <td>6975</td>\n",
       "      <td>25312</td>\n",
       "      <td>4011</td>\n",
       "      <td>254</td>\n",
       "      <td>423</td>\n",
       "      <td>173116</td>\n",
       "    </tr>\n",
       "    <tr>\n",
       "      <th>13</th>\n",
       "      <td>13</td>\n",
       "      <td>22879</td>\n",
       "      <td>7121</td>\n",
       "      <td>25365</td>\n",
       "      <td>4049</td>\n",
       "      <td>234</td>\n",
       "      <td>352</td>\n",
       "      <td>172340</td>\n",
       "    </tr>\n",
       "    <tr>\n",
       "      <th>14</th>\n",
       "      <td>14</td>\n",
       "      <td>23748</td>\n",
       "      <td>6252</td>\n",
       "      <td>25384</td>\n",
       "      <td>4075</td>\n",
       "      <td>223</td>\n",
       "      <td>318</td>\n",
       "      <td>155747</td>\n",
       "    </tr>\n",
       "    <tr>\n",
       "      <th>15</th>\n",
       "      <td>15</td>\n",
       "      <td>23794</td>\n",
       "      <td>6206</td>\n",
       "      <td>25513</td>\n",
       "      <td>3993</td>\n",
       "      <td>209</td>\n",
       "      <td>285</td>\n",
       "      <td>159194</td>\n",
       "    </tr>\n",
       "  </tbody>\n",
       "</table>\n",
       "</div>"
      ],
      "text/plain": [
       "    epochs  argmax > 0.5  argmax < 0.5  focus_true_pred_true  \\\n",
       "0        0             0         30000                   412   \n",
       "1        1          4861         25139                  6744   \n",
       "2        2         14323         15677                 14428   \n",
       "3        3         18820         11180                 18448   \n",
       "4        4         21269          8731                 20851   \n",
       "5        5         22160          7840                 22270   \n",
       "6        6         22757          7243                 23267   \n",
       "7        7         22024          7976                 23808   \n",
       "8        8         22543          7457                 24145   \n",
       "9        9         22834          7166                 24646   \n",
       "10      10         23347          6653                 24948   \n",
       "11      11         23755          6245                 24854   \n",
       "12      12         23025          6975                 25312   \n",
       "13      13         22879          7121                 25365   \n",
       "14      14         23748          6252                 25384   \n",
       "15      15         23794          6206                 25513   \n",
       "\n",
       "    focus_false_pred_true  focus_true_pred_false  focus_false_pred_false  \\\n",
       "0                    9728                   1585                   18275   \n",
       "1                    8596                   3183                   11477   \n",
       "2                    6874                   2803                    5895   \n",
       "3                    5802                   2095                    3655   \n",
       "4                    5245                   1460                    2444   \n",
       "5                    4835                   1142                    1753   \n",
       "6                    4653                    822                    1258   \n",
       "7                    4544                    635                    1013   \n",
       "8                    4519                    536                     800   \n",
       "9                    4288                    394                     672   \n",
       "10                   4163                    332                     557   \n",
       "11                   4319                    321                     506   \n",
       "12                   4011                    254                     423   \n",
       "13                   4049                    234                     352   \n",
       "14                   4075                    223                     318   \n",
       "15                   3993                    209                     285   \n",
       "\n",
       "    sparse_val  \n",
       "0       269998  \n",
       "1       239907  \n",
       "2       202108  \n",
       "3       188110  \n",
       "4       174776  \n",
       "5       170883  \n",
       "6       163990  \n",
       "7       182389  \n",
       "8       171791  \n",
       "9       171799  \n",
       "10      160740  \n",
       "11      153638  \n",
       "12      173116  \n",
       "13      172340  \n",
       "14      155747  \n",
       "15      159194  "
      ]
     },
     "execution_count": 34,
     "metadata": {},
     "output_type": "execute_result"
    }
   ],
   "source": [
    "df_train"
   ]
  },
  {
   "cell_type": "code",
   "execution_count": 35,
   "id": "e73318b3",
   "metadata": {
    "execution": {
     "iopub.execute_input": "2021-09-03T08:48:19.710078Z",
     "iopub.status.busy": "2021-09-03T08:48:19.709346Z",
     "iopub.status.idle": "2021-09-03T08:48:19.715228Z",
     "shell.execute_reply": "2021-09-03T08:48:19.714836Z",
     "shell.execute_reply.started": "2021-09-03T06:51:35.97796Z"
    },
    "id": "cqrSQSNemDNp",
    "papermill": {
     "duration": 0.054705,
     "end_time": "2021-09-03T08:48:19.715328",
     "exception": false,
     "start_time": "2021-09-03T08:48:19.660623",
     "status": "completed"
    },
    "tags": []
   },
   "outputs": [],
   "source": [
    "df_train.to_csv(path+\"_train.csv\",index=False)"
   ]
  },
  {
   "cell_type": "code",
   "execution_count": 36,
   "id": "18c90e78",
   "metadata": {
    "execution": {
     "iopub.execute_input": "2021-09-03T08:48:19.827063Z",
     "iopub.status.busy": "2021-09-03T08:48:19.826128Z",
     "iopub.status.idle": "2021-09-03T08:48:19.951277Z",
     "shell.execute_reply": "2021-09-03T08:48:19.951790Z",
     "shell.execute_reply.started": "2021-09-03T06:51:35.987463Z"
    },
    "id": "Ei9HVQBZ8gn4",
    "outputId": "49460fbd-6e36-4fa5-dd2d-7d7937fb5089",
    "papermill": {
     "duration": 0.19115,
     "end_time": "2021-09-03T08:48:19.951913",
     "exception": false,
     "start_time": "2021-09-03T08:48:19.760763",
     "status": "completed"
    },
    "tags": []
   },
   "outputs": [
    {
     "data": {
      "image/png": "[encoded data removed]",
      "text/plain": [
       "<Figure size 432x288 with 1 Axes>"
      ]
     },
     "metadata": {
      "needs_background": "light"
     },
     "output_type": "display_data"
    }
   ],
   "source": [
    "# plt.figure(12,12)\n",
    "plt.plot(col1,col2, label='argmax > 0.5')\n",
    "plt.plot(col1,col3, label='argmax < 0.5')\n",
    "\n",
    "plt.legend(loc='center left', bbox_to_anchor=(1, 0.5))\n",
    "plt.xlabel(\"epochs\")\n",
    "plt.ylabel(\"training data\")\n",
    "plt.title(\"On Training set\")\n",
    "plt.show()\n",
    "\n"
   ]
  },
  {
   "cell_type": "code",
   "execution_count": 37,
   "id": "c48afe0a",
   "metadata": {
    "execution": {
     "iopub.execute_input": "2021-09-03T08:48:20.068755Z",
     "iopub.status.busy": "2021-09-03T08:48:20.067759Z",
     "iopub.status.idle": "2021-09-03T08:48:20.536138Z",
     "shell.execute_reply": "2021-09-03T08:48:20.536559Z",
     "shell.execute_reply.started": "2021-09-03T06:51:36.16041Z"
    },
    "id": "RcScxsHnuBR5",
    "outputId": "1c5544c8-2475-40f2-fc71-54d061b7d133",
    "papermill": {
     "duration": 0.537787,
     "end_time": "2021-09-03T08:48:20.536701",
     "exception": false,
     "start_time": "2021-09-03T08:48:19.998914",
     "status": "completed"
    },
    "tags": []
   },
   "outputs": [
    {
     "data": {
      "image/png": "[encoded data removed]",
      "text/plain": [
       "<Figure size 432x360 with 1 Axes>"
      ]
     },
     "metadata": {
      "needs_background": "light"
     },
     "output_type": "display_data"
    }
   ],
   "source": [
    "plt.figure(figsize=(6,5))\n",
    "plt.plot(col1,np.array(col4)/300, label =\"FTPT \")\n",
    "plt.plot(col1,np.array(col5)/300, label =\"FFPT \")\n",
    "plt.plot(col1,np.array(col6)/300, label =\"FTPF \")\n",
    "plt.plot(col1,np.array(col7)/300, label =\"FFPF \")\n",
    "plt.title(\"On Training set\")\n",
    "#plt.legend(loc='center left', bbox_to_anchor=(1, 0.5))\n",
    "plt.xlabel(\"epochs\", fontsize=14, fontweight = 'bold')\n",
    "plt.ylabel(\"percentage train data\", fontsize=14, fontweight = 'bold')\n",
    "# plt.xlabel(\"epochs\")\n",
    "# plt.ylabel(\"training data\")\n",
    "plt.legend()\n",
    "\n",
    "plt.savefig(path + \"_train.png\",bbox_inches=\"tight\")\n",
    "plt.savefig(path + \"_train.pdf\",bbox_inches=\"tight\")\n",
    "plt.grid()\n",
    "plt.show()"
   ]
  },
  {
   "cell_type": "code",
   "execution_count": 38,
   "id": "c19243ab",
   "metadata": {
    "execution": {
     "iopub.execute_input": "2021-09-03T08:48:20.659765Z",
     "iopub.status.busy": "2021-09-03T08:48:20.652745Z",
     "iopub.status.idle": "2021-09-03T08:48:21.024360Z",
     "shell.execute_reply": "2021-09-03T08:48:21.024781Z",
     "shell.execute_reply.started": "2021-09-03T06:51:36.715504Z"
    },
    "id": "eyHnBFJxuBR5",
    "outputId": "df42ed8f-f4dd-4160-9e03-8ceaedc7b9ab",
    "papermill": {
     "duration": 0.44001,
     "end_time": "2021-09-03T08:48:21.024922",
     "exception": false,
     "start_time": "2021-09-03T08:48:20.584912",
     "status": "completed"
    },
    "tags": []
   },
   "outputs": [
    {
     "data": {
      "image/png": "[encoded data removed]",
      "text/plain": [
       "<Figure size 432x360 with 1 Axes>"
      ]
     },
     "metadata": {
      "needs_background": "light"
     },
     "output_type": "display_data"
    }
   ],
   "source": [
    "plt.figure(figsize=(6,5))\n",
    "plt.plot(col1,np.array(col14)/30000, label =\"sparsity_val\")\n",
    "\n",
    "plt.title(\"On Training set\")\n",
    "#plt.legend(loc='center left', bbox_to_anchor=(1, 0.5))\n",
    "plt.xlabel(\"epochs\", fontsize=14, fontweight = 'bold')\n",
    "plt.ylabel(\"average sparsity value\", fontsize=14, fontweight = 'bold')\n",
    "# plt.xlabel(\"epochs\")\n",
    "# plt.ylabel(\"sparsity_value\")\n",
    "\n",
    "plt.savefig(path + \"sparsity_train.png\",bbox_inches=\"tight\")\n",
    "plt.savefig(path + \"sparsity_train.pdf\",bbox_inches=\"tight\")\n",
    "plt.grid()\n",
    "plt.show()"
   ]
  },
  {
   "cell_type": "code",
   "execution_count": 39,
   "id": "36daf846",
   "metadata": {
    "execution": {
     "iopub.execute_input": "2021-09-03T08:48:21.133416Z",
     "iopub.status.busy": "2021-09-03T08:48:21.132923Z",
     "iopub.status.idle": "2021-09-03T08:48:21.137531Z",
     "shell.execute_reply": "2021-09-03T08:48:21.137895Z",
     "shell.execute_reply.started": "2021-09-03T06:51:37.099639Z"
    },
    "id": "_QKYVO8i8ivA",
    "outputId": "0d8b1ea0-efd0-4bdd-84a7-201356e5f823",
    "papermill": {
     "duration": 0.063504,
     "end_time": "2021-09-03T08:48:21.138021",
     "exception": false,
     "start_time": "2021-09-03T08:48:21.074517",
     "status": "completed"
    },
    "tags": []
   },
   "outputs": [
    {
     "data": {
      "text/html": [
       "<div>\n",
       "<style scoped>\n",
       "    .dataframe tbody tr th:only-of-type {\n",
       "        vertical-align: middle;\n",
       "    }\n",
       "\n",
       "    .dataframe tbody tr th {\n",
       "        vertical-align: top;\n",
       "    }\n",
       "\n",
       "    .dataframe thead th {\n",
       "        text-align: right;\n",
       "    }\n",
       "</style>\n",
       "<table border=\"1\" class=\"dataframe\">\n",
       "  <thead>\n",
       "    <tr style=\"text-align: right;\">\n",
       "      <th></th>\n",
       "      <th>epochs</th>\n",
       "      <th>argmax &gt; 0.5</th>\n",
       "      <th>argmax &lt; 0.5</th>\n",
       "      <th>focus_true_pred_true</th>\n",
       "      <th>focus_false_pred_true</th>\n",
       "      <th>focus_true_pred_false</th>\n",
       "      <th>focus_false_pred_false</th>\n",
       "      <th>sparse_val</th>\n",
       "    </tr>\n",
       "  </thead>\n",
       "  <tbody>\n",
       "    <tr>\n",
       "      <th>0</th>\n",
       "      <td>0</td>\n",
       "      <td>0</td>\n",
       "      <td>10000</td>\n",
       "      <td>138</td>\n",
       "      <td>3217</td>\n",
       "      <td>514</td>\n",
       "      <td>6131</td>\n",
       "      <td>90000</td>\n",
       "    </tr>\n",
       "    <tr>\n",
       "      <th>1</th>\n",
       "      <td>1</td>\n",
       "      <td>4360</td>\n",
       "      <td>5640</td>\n",
       "      <td>4266</td>\n",
       "      <td>2246</td>\n",
       "      <td>1094</td>\n",
       "      <td>2394</td>\n",
       "      <td>70497</td>\n",
       "    </tr>\n",
       "    <tr>\n",
       "      <th>2</th>\n",
       "      <td>2</td>\n",
       "      <td>6697</td>\n",
       "      <td>3303</td>\n",
       "      <td>5699</td>\n",
       "      <td>1972</td>\n",
       "      <td>937</td>\n",
       "      <td>1392</td>\n",
       "      <td>56402</td>\n",
       "    </tr>\n",
       "    <tr>\n",
       "      <th>3</th>\n",
       "      <td>3</td>\n",
       "      <td>6316</td>\n",
       "      <td>3684</td>\n",
       "      <td>6837</td>\n",
       "      <td>1469</td>\n",
       "      <td>619</td>\n",
       "      <td>1075</td>\n",
       "      <td>67440</td>\n",
       "    </tr>\n",
       "    <tr>\n",
       "      <th>4</th>\n",
       "      <td>4</td>\n",
       "      <td>7079</td>\n",
       "      <td>2921</td>\n",
       "      <td>7305</td>\n",
       "      <td>1385</td>\n",
       "      <td>523</td>\n",
       "      <td>787</td>\n",
       "      <td>65396</td>\n",
       "    </tr>\n",
       "    <tr>\n",
       "      <th>5</th>\n",
       "      <td>5</td>\n",
       "      <td>7426</td>\n",
       "      <td>2574</td>\n",
       "      <td>7596</td>\n",
       "      <td>1381</td>\n",
       "      <td>373</td>\n",
       "      <td>650</td>\n",
       "      <td>58549</td>\n",
       "    </tr>\n",
       "    <tr>\n",
       "      <th>6</th>\n",
       "      <td>6</td>\n",
       "      <td>7703</td>\n",
       "      <td>2297</td>\n",
       "      <td>7724</td>\n",
       "      <td>1333</td>\n",
       "      <td>438</td>\n",
       "      <td>505</td>\n",
       "      <td>55384</td>\n",
       "    </tr>\n",
       "    <tr>\n",
       "      <th>7</th>\n",
       "      <td>7</td>\n",
       "      <td>7078</td>\n",
       "      <td>2922</td>\n",
       "      <td>7847</td>\n",
       "      <td>1295</td>\n",
       "      <td>357</td>\n",
       "      <td>501</td>\n",
       "      <td>65722</td>\n",
       "    </tr>\n",
       "    <tr>\n",
       "      <th>8</th>\n",
       "      <td>8</td>\n",
       "      <td>7374</td>\n",
       "      <td>2626</td>\n",
       "      <td>7924</td>\n",
       "      <td>1291</td>\n",
       "      <td>354</td>\n",
       "      <td>431</td>\n",
       "      <td>58878</td>\n",
       "    </tr>\n",
       "    <tr>\n",
       "      <th>9</th>\n",
       "      <td>9</td>\n",
       "      <td>7786</td>\n",
       "      <td>2214</td>\n",
       "      <td>7970</td>\n",
       "      <td>1315</td>\n",
       "      <td>253</td>\n",
       "      <td>462</td>\n",
       "      <td>52490</td>\n",
       "    </tr>\n",
       "    <tr>\n",
       "      <th>10</th>\n",
       "      <td>10</td>\n",
       "      <td>7836</td>\n",
       "      <td>2164</td>\n",
       "      <td>8050</td>\n",
       "      <td>1266</td>\n",
       "      <td>224</td>\n",
       "      <td>460</td>\n",
       "      <td>51172</td>\n",
       "    </tr>\n",
       "    <tr>\n",
       "      <th>11</th>\n",
       "      <td>11</td>\n",
       "      <td>8022</td>\n",
       "      <td>1978</td>\n",
       "      <td>8167</td>\n",
       "      <td>1126</td>\n",
       "      <td>237</td>\n",
       "      <td>470</td>\n",
       "      <td>50145</td>\n",
       "    </tr>\n",
       "    <tr>\n",
       "      <th>12</th>\n",
       "      <td>12</td>\n",
       "      <td>7151</td>\n",
       "      <td>2849</td>\n",
       "      <td>8236</td>\n",
       "      <td>1157</td>\n",
       "      <td>261</td>\n",
       "      <td>346</td>\n",
       "      <td>65481</td>\n",
       "    </tr>\n",
       "    <tr>\n",
       "      <th>13</th>\n",
       "      <td>13</td>\n",
       "      <td>7676</td>\n",
       "      <td>2324</td>\n",
       "      <td>8120</td>\n",
       "      <td>1286</td>\n",
       "      <td>261</td>\n",
       "      <td>333</td>\n",
       "      <td>52551</td>\n",
       "    </tr>\n",
       "    <tr>\n",
       "      <th>14</th>\n",
       "      <td>14</td>\n",
       "      <td>7992</td>\n",
       "      <td>2008</td>\n",
       "      <td>8131</td>\n",
       "      <td>1176</td>\n",
       "      <td>199</td>\n",
       "      <td>494</td>\n",
       "      <td>48511</td>\n",
       "    </tr>\n",
       "    <tr>\n",
       "      <th>15</th>\n",
       "      <td>15</td>\n",
       "      <td>7259</td>\n",
       "      <td>2741</td>\n",
       "      <td>8233</td>\n",
       "      <td>1143</td>\n",
       "      <td>252</td>\n",
       "      <td>372</td>\n",
       "      <td>63808</td>\n",
       "    </tr>\n",
       "  </tbody>\n",
       "</table>\n",
       "</div>"
      ],
      "text/plain": [
       "    epochs  argmax > 0.5  argmax < 0.5  focus_true_pred_true  \\\n",
       "0        0             0         10000                   138   \n",
       "1        1          4360          5640                  4266   \n",
       "2        2          6697          3303                  5699   \n",
       "3        3          6316          3684                  6837   \n",
       "4        4          7079          2921                  7305   \n",
       "5        5          7426          2574                  7596   \n",
       "6        6          7703          2297                  7724   \n",
       "7        7          7078          2922                  7847   \n",
       "8        8          7374          2626                  7924   \n",
       "9        9          7786          2214                  7970   \n",
       "10      10          7836          2164                  8050   \n",
       "11      11          8022          1978                  8167   \n",
       "12      12          7151          2849                  8236   \n",
       "13      13          7676          2324                  8120   \n",
       "14      14          7992          2008                  8131   \n",
       "15      15          7259          2741                  8233   \n",
       "\n",
       "    focus_false_pred_true  focus_true_pred_false  focus_false_pred_false  \\\n",
       "0                    3217                    514                    6131   \n",
       "1                    2246                   1094                    2394   \n",
       "2                    1972                    937                    1392   \n",
       "3                    1469                    619                    1075   \n",
       "4                    1385                    523                     787   \n",
       "5                    1381                    373                     650   \n",
       "6                    1333                    438                     505   \n",
       "7                    1295                    357                     501   \n",
       "8                    1291                    354                     431   \n",
       "9                    1315                    253                     462   \n",
       "10                   1266                    224                     460   \n",
       "11                   1126                    237                     470   \n",
       "12                   1157                    261                     346   \n",
       "13                   1286                    261                     333   \n",
       "14                   1176                    199                     494   \n",
       "15                   1143                    252                     372   \n",
       "\n",
       "    sparse_val  \n",
       "0        90000  \n",
       "1        70497  \n",
       "2        56402  \n",
       "3        67440  \n",
       "4        65396  \n",
       "5        58549  \n",
       "6        55384  \n",
       "7        65722  \n",
       "8        58878  \n",
       "9        52490  \n",
       "10       51172  \n",
       "11       50145  \n",
       "12       65481  \n",
       "13       52551  \n",
       "14       48511  \n",
       "15       63808  "
      ]
     },
     "execution_count": 39,
     "metadata": {},
     "output_type": "execute_result"
    }
   ],
   "source": [
    "df_test"
   ]
  },
  {
   "cell_type": "code",
   "execution_count": 40,
   "id": "f80f9b1c",
   "metadata": {
    "execution": {
     "iopub.execute_input": "2021-09-03T08:48:21.243711Z",
     "iopub.status.busy": "2021-09-03T08:48:21.242908Z",
     "iopub.status.idle": "2021-09-03T08:48:21.247002Z",
     "shell.execute_reply": "2021-09-03T08:48:21.246603Z",
     "shell.execute_reply.started": "2021-09-03T06:51:37.11194Z"
    },
    "id": "0oGTwRsdmOe4",
    "papermill": {
     "duration": 0.059879,
     "end_time": "2021-09-03T08:48:21.247117",
     "exception": false,
     "start_time": "2021-09-03T08:48:21.187238",
     "status": "completed"
    },
    "tags": []
   },
   "outputs": [],
   "source": [
    "df_test.to_csv(path+\"_test.csv\")"
   ]
  },
  {
   "cell_type": "code",
   "execution_count": 41,
   "id": "0c95df03",
   "metadata": {
    "execution": {
     "iopub.execute_input": "2021-09-03T08:48:21.358713Z",
     "iopub.status.busy": "2021-09-03T08:48:21.357905Z",
     "iopub.status.idle": "2021-09-03T08:48:21.492532Z",
     "shell.execute_reply": "2021-09-03T08:48:21.492109Z",
     "shell.execute_reply.started": "2021-09-03T06:51:37.123742Z"
    },
    "id": "aRlpgnjy8k1n",
    "outputId": "1d976d4b-80f4-4c20-c9ed-ad76a972c79f",
    "papermill": {
     "duration": 0.196399,
     "end_time": "2021-09-03T08:48:21.492641",
     "exception": false,
     "start_time": "2021-09-03T08:48:21.296242",
     "status": "completed"
    },
    "tags": []
   },
   "outputs": [
    {
     "data": {
      "image/png": "[encoded data removed]",
      "text/plain": [
       "<Figure size 432x288 with 1 Axes>"
      ]
     },
     "metadata": {
      "needs_background": "light"
     },
     "output_type": "display_data"
    }
   ],
   "source": [
    "# plt.figure(12,12)\n",
    "plt.plot(col1,col8, label='argmax > 0.5')\n",
    "plt.plot(col1,col9, label='argmax < 0.5')\n",
    "\n",
    "plt.legend(loc='center left', bbox_to_anchor=(1, 0.5))\n",
    "plt.xlabel(\"epochs\")\n",
    "plt.ylabel(\"Testing data\")\n",
    "plt.title(\"On Testing set\")\n",
    "plt.show()\n",
    "\n"
   ]
  },
  {
   "cell_type": "code",
   "execution_count": 42,
   "id": "4448f014",
   "metadata": {
    "execution": {
     "iopub.execute_input": "2021-09-03T08:48:21.623900Z",
     "iopub.status.busy": "2021-09-03T08:48:21.623009Z",
     "iopub.status.idle": "2021-09-03T08:48:22.086128Z",
     "shell.execute_reply": "2021-09-03T08:48:22.086547Z",
     "shell.execute_reply.started": "2021-09-03T06:51:37.363172Z"
    },
    "id": "C0XPoT7FuBR6",
    "outputId": "a3f0db62-71a8-498a-d72e-c2afc8d8739b",
    "papermill": {
     "duration": 0.543531,
     "end_time": "2021-09-03T08:48:22.086686",
     "exception": false,
     "start_time": "2021-09-03T08:48:21.543155",
     "status": "completed"
    },
    "tags": []
   },
   "outputs": [
    {
     "data": {
      "image/png": "[encoded data removed]",
      "text/plain": [
       "<Figure size 432x360 with 1 Axes>"
      ]
     },
     "metadata": {
      "needs_background": "light"
     },
     "output_type": "display_data"
    }
   ],
   "source": [
    "plt.figure(figsize=(6,5))\n",
    "plt.plot(col1,np.array(col10)/100, label =\"FTPT \")\n",
    "plt.plot(col1,np.array(col11)/100, label =\"FFPT \")\n",
    "plt.plot(col1,np.array(col12)/100, label =\"FTPF \")\n",
    "plt.plot(col1,np.array(col13)/100, label =\"FFPF \")\n",
    "plt.title(\"On Testing set\")\n",
    "\n",
    "#plt.legend(loc='center left', bbox_to_anchor=(1, 0.5))\n",
    "plt.xlabel(\"epochs\", fontsize=14, fontweight = 'bold')\n",
    "plt.ylabel(\"percentage test data\", fontsize=14, fontweight = 'bold')\n",
    "# plt.xlabel(\"epochs\")\n",
    "# plt.ylabel(\"training data\")\n",
    "plt.legend()\n",
    "\n",
    "#plt.legend(loc='center left', bbox_to_anchor=(1, 0.5))\n",
    "plt.xlabel(\"epochs\")\n",
    "# plt.ylabel(\"Testing data\")\n",
    "plt.savefig(path + \"_test.png\",bbox_inches=\"tight\")\n",
    "plt.savefig(path + \"_test.pdf\",bbox_inches=\"tight\")\n",
    "plt.grid()\n",
    "plt.show()"
   ]
  },
  {
   "cell_type": "code",
   "execution_count": 43,
   "id": "0d26599a",
   "metadata": {
    "execution": {
     "iopub.execute_input": "2021-09-03T08:48:22.219831Z",
     "iopub.status.busy": "2021-09-03T08:48:22.218428Z",
     "iopub.status.idle": "2021-09-03T08:48:22.549798Z",
     "shell.execute_reply": "2021-09-03T08:48:22.550210Z",
     "shell.execute_reply.started": "2021-09-03T06:51:38.000329Z"
    },
    "id": "5oh4o6NfuBR7",
    "outputId": "7b6b839a-dbc8-4b26-967c-1c2743f16774",
    "papermill": {
     "duration": 0.412373,
     "end_time": "2021-09-03T08:48:22.550348",
     "exception": false,
     "start_time": "2021-09-03T08:48:22.137975",
     "status": "completed"
    },
    "tags": []
   },
   "outputs": [
    {
     "data": {
      "image/png": "[encoded data removed]",
      "text/plain": [
       "<Figure size 432x360 with 1 Axes>"
      ]
     },
     "metadata": {
      "needs_background": "light"
     },
     "output_type": "display_data"
    }
   ],
   "source": [
    "plt.figure(figsize=(6,5))\n",
    "plt.plot(col1,np.array(col15)/10000, label =\"sparsity_val\")\n",
    "\n",
    "plt.title(\"On Testing set\")\n",
    "#plt.legend(loc='center left', bbox_to_anchor=(1, 0.5))\n",
    "plt.xlabel(\"epochs\", fontsize=14, fontweight = 'bold')\n",
    "plt.ylabel(\"average sparsity value\", fontsize=14, fontweight = 'bold')\n",
    "plt.grid()\n",
    "\n",
    "plt.savefig(path + \"sparsity_test.png\",bbox_inches=\"tight\")\n",
    "plt.savefig(path + \"sparsity_test.pdf\",bbox_inches=\"tight\")\n",
    "plt.show()"
   ]
  },
  {
   "cell_type": "code",
   "execution_count": 44,
   "id": "1428f88c",
   "metadata": {
    "execution": {
     "iopub.execute_input": "2021-09-03T08:48:22.668135Z",
     "iopub.status.busy": "2021-09-03T08:48:22.667347Z",
     "iopub.status.idle": "2021-09-03T08:48:46.841360Z",
     "shell.execute_reply": "2021-09-03T08:48:46.841921Z",
     "shell.execute_reply.started": "2021-09-03T06:51:38.418435Z"
    },
    "id": "mSE5PCw2tyNO",
    "outputId": "59f0f59b-8414-43b3-cb1e-aa4b7d8a858b",
    "papermill": {
     "duration": 24.239126,
     "end_time": "2021-09-03T08:48:46.842125",
     "exception": false,
     "start_time": "2021-09-03T08:48:22.602999",
     "status": "completed"
    },
    "tags": []
   },
   "outputs": [
    {
     "name": "stdout",
     "output_type": "stream",
     "text": [
      "Accuracy of the network on the 30000 train images: 98.970000 %\n",
      "total correct 29691\n",
      "total train set images 30000\n",
      "focus_true_pred_true 25929 =============> FTPT : 86.430000 %\n",
      "focus_false_pred_true 3762 =============> FFPT : 12.540000 %\n",
      "focus_true_pred_false 181 =============> FTPF : 0.603333 %\n",
      "focus_false_pred_false 128 =============> FFPF : 0.426667 %\n",
      "Sparsity_Value 189504 =============> AVG Sparsity : 6.316800 \n",
      "argmax_more_than_half ==================>  22630\n",
      "argmax_less_than_half ==================>  7370\n",
      "30000\n",
      "====================================================================================================\n"
     ]
    }
   ],
   "source": [
    "correct = 0\n",
    "total = 0\n",
    "count = 0\n",
    "flag = 1\n",
    "focus_true_pred_true =0\n",
    "focus_false_pred_true =0\n",
    "focus_true_pred_false =0\n",
    "focus_false_pred_false =0\n",
    "\n",
    "argmax_more_than_half = 0\n",
    "argmax_less_than_half =0\n",
    "sparse_val = 0\n",
    "focus_net.eval()\n",
    "classify.eval()\n",
    "with torch.no_grad():\n",
    "  for data in train_loader:\n",
    "    inputs, labels , fore_idx = data\n",
    "    inputs = inputs.double()\n",
    "    inputs, labels , fore_idx = inputs.to(\"cuda\"),labels.to(\"cuda\"), fore_idx.to(\"cuda\")\n",
    "    alphas, avg_images = focus_net(inputs)\n",
    "    outputs = classify(avg_images)\n",
    "\n",
    "    _, predicted = torch.max(outputs.data, 1)\n",
    "    sparse_val += torch.sum(torch.sum(alphas>0.01,dim=1)).item()\n",
    "    for j in range(labels.size(0)):\n",
    "      count += 1\n",
    "      focus = torch.argmax(alphas[j])\n",
    "      if alphas[j][focus] >= 0.5 :\n",
    "        argmax_more_than_half += 1\n",
    "      else:\n",
    "        argmax_less_than_half += 1\n",
    "\n",
    "      if(focus == fore_idx[j] and predicted[j] == labels[j]):\n",
    "          focus_true_pred_true += 1\n",
    "      elif(focus != fore_idx[j] and predicted[j] == labels[j]):\n",
    "        focus_false_pred_true += 1\n",
    "      elif(focus == fore_idx[j] and predicted[j] != labels[j]):\n",
    "        focus_true_pred_false += 1\n",
    "      elif(focus != fore_idx[j] and predicted[j] != labels[j]):\n",
    "        focus_false_pred_false += 1\n",
    "\n",
    "    total += labels.size(0)\n",
    "    correct += (predicted == labels).sum().item()\n",
    "\n",
    "print('Accuracy of the network on the 30000 train images: %f %%' % ( 100 * correct / total))\n",
    "print(\"total correct\", correct)\n",
    "print(\"total train set images\", total)\n",
    "\n",
    "print(\"focus_true_pred_true %d =============> FTPT : %f %%\" % (focus_true_pred_true , (100 * focus_true_pred_true / total) ) )\n",
    "print(\"focus_false_pred_true %d =============> FFPT : %f %%\" % (focus_false_pred_true, (100 * focus_false_pred_true / total) ) )\n",
    "print(\"focus_true_pred_false %d =============> FTPF : %f %%\" %( focus_true_pred_false , ( 100 * focus_true_pred_false / total) ) )\n",
    "print(\"focus_false_pred_false %d =============> FFPF : %f %%\" % (focus_false_pred_false, ( 100 * focus_false_pred_false / total) ) )\n",
    "print(\"Sparsity_Value %d =============> AVG Sparsity : %f \" % (sparse_val,(sparse_val)/total))\n",
    "print(\"argmax_more_than_half ==================> \",argmax_more_than_half)\n",
    "print(\"argmax_less_than_half ==================> \",argmax_less_than_half)\n",
    "print(count)\n",
    "\n",
    "print(\"=\"*100)"
   ]
  },
  {
   "cell_type": "code",
   "execution_count": 45,
   "id": "aadf0f36",
   "metadata": {
    "execution": {
     "iopub.execute_input": "2021-09-03T08:48:46.963006Z",
     "iopub.status.busy": "2021-09-03T08:48:46.962101Z",
     "iopub.status.idle": "2021-09-03T08:48:55.065439Z",
     "shell.execute_reply": "2021-09-03T08:48:55.064842Z",
     "shell.execute_reply.started": "2021-09-03T06:52:02.566403Z"
    },
    "id": "40tKBow5t1sF",
    "outputId": "2db3287c-37b4-4655-99b5-8c32e1f4a6c8",
    "papermill": {
     "duration": 8.16955,
     "end_time": "2021-09-03T08:48:55.065636",
     "exception": false,
     "start_time": "2021-09-03T08:48:46.896086",
     "status": "completed"
    },
    "tags": []
   },
   "outputs": [
    {
     "name": "stdout",
     "output_type": "stream",
     "text": [
      "Accuracy of the network on the 10000 test images: 93.760000 %\n",
      "total correct 9376\n",
      "total test set images 10000\n",
      "focus_true_pred_true 8233 =============> FTPT : 82.330000 %\n",
      "focus_false_pred_true 1143 =============> FFPT : 11.430000 %\n",
      "focus_true_pred_false 252 =============> FTPF : 2.520000 %\n",
      "focus_false_pred_false 372 =============> FFPF : 3.720000 %\n",
      "Sparsity_Value 63808 =============> AVG Sparsity : 6.380800 \n",
      "argmax_more_than_half ==================>  7259\n",
      "argmax_less_than_half ==================>  2741\n"
     ]
    }
   ],
   "source": [
    "correct = 0\n",
    "total = 0\n",
    "count = 0\n",
    "flag = 1\n",
    "focus_true_pred_true =0\n",
    "focus_false_pred_true =0\n",
    "focus_true_pred_false =0\n",
    "focus_false_pred_false =0\n",
    "\n",
    "argmax_more_than_half = 0\n",
    "argmax_less_than_half =0\n",
    "sparse_val = 0 \n",
    "focus_net.eval()\n",
    "classify.eval()\n",
    "with torch.no_grad():\n",
    "  for data in test_loader:\n",
    "    inputs, labels , fore_idx = data\n",
    "    inputs = inputs.double()\n",
    "    inputs, labels , fore_idx = inputs.to(\"cuda\"),labels.to(\"cuda\"), fore_idx.to(\"cuda\")\n",
    "    alphas, avg_images = focus_net(inputs)\n",
    "    outputs = classify(avg_images)\n",
    "\n",
    "    _, predicted = torch.max(outputs.data, 1)\n",
    "    sparse_val += torch.sum(torch.sum(alphas>0.01,dim=1)).item()\n",
    "    for j in range(labels.size(0)):\n",
    "      focus = torch.argmax(alphas[j])\n",
    "      if alphas[j][focus] >= 0.5 :\n",
    "        argmax_more_than_half += 1\n",
    "      else:\n",
    "        argmax_less_than_half += 1\n",
    "\n",
    "      if(focus == fore_idx[j] and predicted[j] == labels[j]):\n",
    "          focus_true_pred_true += 1\n",
    "      elif(focus != fore_idx[j] and predicted[j] == labels[j]):\n",
    "        focus_false_pred_true += 1\n",
    "      elif(focus == fore_idx[j] and predicted[j] != labels[j]):\n",
    "        focus_true_pred_false += 1\n",
    "      elif(focus != fore_idx[j] and predicted[j] != labels[j]):\n",
    "        focus_false_pred_false += 1\n",
    "\n",
    "    total += labels.size(0)\n",
    "    correct += (predicted == labels).sum().item()\n",
    "\n",
    "print('Accuracy of the network on the 10000 test images: %f %%' % (\n",
    "    100 * correct / total))\n",
    "print(\"total correct\", correct)\n",
    "print(\"total test set images\", total)\n",
    "\n",
    "print(\"focus_true_pred_true %d =============> FTPT : %f %%\" % (focus_true_pred_true , (100 * focus_true_pred_true / total) ) )\n",
    "print(\"focus_false_pred_true %d =============> FFPT : %f %%\" % (focus_false_pred_true, (100 * focus_false_pred_true / total) ) )\n",
    "print(\"focus_true_pred_false %d =============> FTPF : %f %%\" %( focus_true_pred_false , ( 100 * focus_true_pred_false / total) ) )\n",
    "print(\"focus_false_pred_false %d =============> FFPF : %f %%\" % (focus_false_pred_false, ( 100 * focus_false_pred_false / total) ) )\n",
    "print(\"Sparsity_Value %d =============> AVG Sparsity : %f \" % (sparse_val,(sparse_val)/total))\n",
    "\n",
    "print(\"argmax_more_than_half ==================> \",argmax_more_than_half)\n",
    "print(\"argmax_less_than_half ==================> \",argmax_less_than_half)"
   ]
  },
  {
   "cell_type": "code",
   "execution_count": 46,
   "id": "1b992e85",
   "metadata": {
    "execution": {
     "iopub.execute_input": "2021-09-03T08:48:55.179246Z",
     "iopub.status.busy": "2021-09-03T08:48:55.178512Z",
     "iopub.status.idle": "2021-09-03T08:49:13.236611Z",
     "shell.execute_reply": "2021-09-03T08:49:13.237162Z",
     "shell.execute_reply.started": "2021-09-03T06:52:10.642975Z"
    },
    "id": "iJEMJnUI9FP2",
    "papermill": {
     "duration": 18.117708,
     "end_time": "2021-09-03T08:49:13.237358",
     "exception": false,
     "start_time": "2021-09-03T08:48:55.119650",
     "status": "completed"
    },
    "tags": []
   },
   "outputs": [
    {
     "name": "stdout",
     "output_type": "stream",
     "text": [
      "Accuracy of the network on the 30000 train images: 99.060000 %\n",
      "total correct 29718\n",
      "total train set images 30000\n"
     ]
    }
   ],
   "source": [
    "correct = 0\n",
    "total = 0\n",
    "focus_net.eval()\n",
    "classify.eval()\n",
    "with torch.no_grad():\n",
    "  for data in train_loader:\n",
    "    inputs, labels , fore_idx = data\n",
    "    inputs = inputs.double()\n",
    "    inputs, labels = inputs.to(\"cuda\"), labels.to(\"cuda\")\n",
    "    alphas, avg_images = focus_net(inputs)\n",
    "    outputs = classify(avg_images)\n",
    "\n",
    "    _, predicted = torch.max(outputs.data, 1)\n",
    "\n",
    "    total += labels.size(0)\n",
    "    correct += (predicted == labels).sum().item()\n",
    "\n",
    "print('Accuracy of the network on the 30000 train images: %f %%' % ( 100 * correct / total))\n",
    "print(\"total correct\", correct)\n",
    "print(\"total train set images\", total)"
   ]
  },
  {
   "cell_type": "code",
   "execution_count": 47,
   "id": "5a450e1f",
   "metadata": {
    "execution": {
     "iopub.execute_input": "2021-09-03T08:49:13.351900Z",
     "iopub.status.busy": "2021-09-03T08:49:13.350491Z",
     "iopub.status.idle": "2021-09-03T08:49:19.327897Z",
     "shell.execute_reply": "2021-09-03T08:49:19.327419Z",
     "shell.execute_reply.started": "2021-09-03T06:52:28.802741Z"
    },
    "id": "an7qmNLB-Ilb",
    "papermill": {
     "duration": 6.036587,
     "end_time": "2021-09-03T08:49:19.328017",
     "exception": false,
     "start_time": "2021-09-03T08:49:13.291430",
     "status": "completed"
    },
    "tags": []
   },
   "outputs": [
    {
     "name": "stdout",
     "output_type": "stream",
     "text": [
      "Accuracy of the network on the 10000 test images: 93.760000 %\n",
      "total correct 9376\n",
      "total train set images 10000\n"
     ]
    }
   ],
   "source": [
    "correct = 0\n",
    "total = 0\n",
    "focus_net.eval()\n",
    "classify.eval()\n",
    "with torch.no_grad():\n",
    "  for data in test_loader:\n",
    "    inputs, labels , fore_idx = data\n",
    "    inputs = inputs.double()\n",
    "    inputs, labels = inputs.to(\"cuda\"), labels.to(\"cuda\")\n",
    "    alphas, avg_images = focus_net(inputs)\n",
    "    outputs = classify(avg_images)\n",
    "\n",
    "    _, predicted = torch.max(outputs.data, 1)\n",
    "\n",
    "    total += labels.size(0)\n",
    "    correct += (predicted == labels).sum().item()\n",
    "\n",
    "print('Accuracy of the network on the 10000 test images: %f %%' % ( 100 * correct / total))\n",
    "print(\"total correct\", correct)\n",
    "print(\"total train set images\", total)"
   ]
  },
  {
   "cell_type": "code",
   "execution_count": null,
   "id": "3a8f7cad",
   "metadata": {
    "id": "SKwqTXFjuBR_",
    "papermill": {
     "duration": 0.052617,
     "end_time": "2021-09-03T08:49:19.433917",
     "exception": false,
     "start_time": "2021-09-03T08:49:19.381300",
     "status": "completed"
    },
    "tags": []
   },
   "outputs": [],
   "source": []
  }
 ],
 "metadata": {
  "kernelspec": {
   "display_name": "Python 3",
   "language": "python",
   "name": "python3"
  },
  "language_info": {
   "codemirror_mode": {
    "name": "ipython",
    "version": 3
   },
   "file_extension": ".py",
   "mimetype": "text/x-python",
   "name": "python",
   "nbconvert_exporter": "python",
   "pygments_lexer": "ipython3",
   "version": "3.7.10"
  },
  "papermill": {
   "default_parameters": {},
   "duration": 1166.047351,
   "end_time": "2021-09-03T08:49:21.481493",
   "environment_variables": {},
   "exception": null,
   "input_path": "__notebook__.ipynb",
   "output_path": "__notebook__.ipynb",
   "parameters": {},
   "start_time": "2021-09-03T08:29:55.434142",
   "version": "2.3.3"
  },
  "widgets": {
   "application/vnd.jupyter.widget-state+json": {
    "state": {
     "12544234563449cab0b70bd9899d4aa9": {
      "model_module": "@jupyter-widgets/controls",
      "model_module_version": "1.5.0",
      "model_name": "HTMLModel",
      "state": {
       "_dom_classes": [],
       "_model_module": "@jupyter-widgets/controls",
       "_model_module_version": "1.5.0",
       "_model_name": "HTMLModel",
       "_view_count": null,
       "_view_module": "@jupyter-widgets/controls",
       "_view_module_version": "1.5.0",
       "_view_name": "HTMLView",
       "description": "",
       "description_tooltip": null,
       "layout": "IPY_MODEL_dea4ae7719694fb39efbc88901b31a7b",
       "placeholder": "​",
       "style": "IPY_MODEL_da9b0327e2f54dd0a6d9f15c1f502864",
       "value": " 170500096/? [00:30&lt;00:00, 17746792.79it/s]"
      }
     },
     "328add28cf6349d5b03e943f635fb5a9": {
      "model_module": "@jupyter-widgets/controls",
      "model_module_version": "1.5.0",
      "model_name": "DescriptionStyleModel",
      "state": {
       "_model_module": "@jupyter-widgets/controls",
       "_model_module_version": "1.5.0",
       "_model_name": "DescriptionStyleModel",
       "_view_count": null,
       "_view_module": "@jupyter-widgets/base",
       "_view_module_version": "1.2.0",
       "_view_name": "StyleView",
       "description_width": ""
      }
     },
     "66e5a85e23aa4bcab465f1e8afa83c9d": {
      "model_module": "@jupyter-widgets/controls",
      "model_module_version": "1.5.0",
      "model_name": "HBoxModel",
      "state": {
       "_dom_classes": [],
       "_model_module": "@jupyter-widgets/controls",
       "_model_module_version": "1.5.0",
       "_model_name": "HBoxModel",
       "_view_count": null,
       "_view_module": "@jupyter-widgets/controls",
       "_view_module_version": "1.5.0",
       "_view_name": "HBoxView",
       "box_style": "",
       "children": [
        "IPY_MODEL_764a48d7f88a4fd3880714a0b5fc8f7d",
        "IPY_MODEL_85fe54376618476b8311f3d204b6f422",
        "IPY_MODEL_12544234563449cab0b70bd9899d4aa9"
       ],
       "layout": "IPY_MODEL_db99786f87ec48edaca959165ff1fb65"
      }
     },
     "73b030fd603b4498addf38b155bdf34d": {
      "model_module": "@jupyter-widgets/base",
      "model_module_version": "1.2.0",
      "model_name": "LayoutModel",
      "state": {
       "_model_module": "@jupyter-widgets/base",
       "_model_module_version": "1.2.0",
       "_model_name": "LayoutModel",
       "_view_count": null,
       "_view_module": "@jupyter-widgets/base",
       "_view_module_version": "1.2.0",
       "_view_name": "LayoutView",
       "align_content": null,
       "align_items": null,
       "align_self": null,
       "border": null,
       "bottom": null,
       "display": null,
       "flex": null,
       "flex_flow": null,
       "grid_area": null,
       "grid_auto_columns": null,
       "grid_auto_flow": null,
       "grid_auto_rows": null,
       "grid_column": null,
       "grid_gap": null,
       "grid_row": null,
       "grid_template_areas": null,
       "grid_template_columns": null,
       "grid_template_rows": null,
       "height": null,
       "justify_content": null,
       "justify_items": null,
       "left": null,
       "margin": null,
       "max_height": null,
       "max_width": null,
       "min_height": null,
       "min_width": null,
       "object_fit": null,
       "object_position": null,
       "order": null,
       "overflow": null,
       "overflow_x": null,
       "overflow_y": null,
       "padding": null,
       "right": null,
       "top": null,
       "visibility": null,
       "width": null
      }
     },
     "764a48d7f88a4fd3880714a0b5fc8f7d": {
      "model_module": "@jupyter-widgets/controls",
      "model_module_version": "1.5.0",
      "model_name": "HTMLModel",
      "state": {
       "_dom_classes": [],
       "_model_module": "@jupyter-widgets/controls",
       "_model_module_version": "1.5.0",
       "_model_name": "HTMLModel",
       "_view_count": null,
       "_view_module": "@jupyter-widgets/controls",
       "_view_module_version": "1.5.0",
       "_view_name": "HTMLView",
       "description": "",
       "description_tooltip": null,
       "layout": "IPY_MODEL_73b030fd603b4498addf38b155bdf34d",
       "placeholder": "​",
       "style": "IPY_MODEL_328add28cf6349d5b03e943f635fb5a9",
       "value": ""
      }
     },
     "7b93775cc85d48e79bb0d2336ac69bb8": {
      "model_module": "@jupyter-widgets/base",
      "model_module_version": "1.2.0",
      "model_name": "LayoutModel",
      "state": {
       "_model_module": "@jupyter-widgets/base",
       "_model_module_version": "1.2.0",
       "_model_name": "LayoutModel",
       "_view_count": null,
       "_view_module": "@jupyter-widgets/base",
       "_view_module_version": "1.2.0",
       "_view_name": "LayoutView",
       "align_content": null,
       "align_items": null,
       "align_self": null,
       "border": null,
       "bottom": null,
       "display": null,
       "flex": null,
       "flex_flow": null,
       "grid_area": null,
       "grid_auto_columns": null,
       "grid_auto_flow": null,
       "grid_auto_rows": null,
       "grid_column": null,
       "grid_gap": null,
       "grid_row": null,
       "grid_template_areas": null,
       "grid_template_columns": null,
       "grid_template_rows": null,
       "height": null,
       "justify_content": null,
       "justify_items": null,
       "left": null,
       "margin": null,
       "max_height": null,
       "max_width": null,
       "min_height": null,
       "min_width": null,
       "object_fit": null,
       "object_position": null,
       "order": null,
       "overflow": null,
       "overflow_x": null,
       "overflow_y": null,
       "padding": null,
       "right": null,
       "top": null,
       "visibility": null,
       "width": "20px"
      }
     },
     "85fe54376618476b8311f3d204b6f422": {
      "model_module": "@jupyter-widgets/controls",
      "model_module_version": "1.5.0",
      "model_name": "FloatProgressModel",
      "state": {
       "_dom_classes": [],
       "_model_module": "@jupyter-widgets/controls",
       "_model_module_version": "1.5.0",
       "_model_name": "FloatProgressModel",
       "_view_count": null,
       "_view_module": "@jupyter-widgets/controls",
       "_view_module_version": "1.5.0",
       "_view_name": "ProgressView",
       "bar_style": "info",
       "description": "",
       "description_tooltip": null,
       "layout": "IPY_MODEL_7b93775cc85d48e79bb0d2336ac69bb8",
       "max": 1.0,
       "min": 0.0,
       "orientation": "horizontal",
       "style": "IPY_MODEL_9ee0f861cf0040069ad601e78cb3d6b7",
       "value": 1.0
      }
     },
     "9ee0f861cf0040069ad601e78cb3d6b7": {
      "model_module": "@jupyter-widgets/controls",
      "model_module_version": "1.5.0",
      "model_name": "ProgressStyleModel",
      "state": {
       "_model_module": "@jupyter-widgets/controls",
       "_model_module_version": "1.5.0",
       "_model_name": "ProgressStyleModel",
       "_view_count": null,
       "_view_module": "@jupyter-widgets/base",
       "_view_module_version": "1.2.0",
       "_view_name": "StyleView",
       "bar_color": null,
       "description_width": ""
      }
     },
     "da9b0327e2f54dd0a6d9f15c1f502864": {
      "model_module": "@jupyter-widgets/controls",
      "model_module_version": "1.5.0",
      "model_name": "DescriptionStyleModel",
      "state": {
       "_model_module": "@jupyter-widgets/controls",
       "_model_module_version": "1.5.0",
       "_model_name": "DescriptionStyleModel",
       "_view_count": null,
       "_view_module": "@jupyter-widgets/base",
       "_view_module_version": "1.2.0",
       "_view_name": "StyleView",
       "description_width": ""
      }
     },
     "db99786f87ec48edaca959165ff1fb65": {
      "model_module": "@jupyter-widgets/base",
      "model_module_version": "1.2.0",
      "model_name": "LayoutModel",
      "state": {
       "_model_module": "@jupyter-widgets/base",
       "_model_module_version": "1.2.0",
       "_model_name": "LayoutModel",
       "_view_count": null,
       "_view_module": "@jupyter-widgets/base",
       "_view_module_version": "1.2.0",
       "_view_name": "LayoutView",
       "align_content": null,
       "align_items": null,
       "align_self": null,
       "border": null,
       "bottom": null,
       "display": null,
       "flex": null,
       "flex_flow": null,
       "grid_area": null,
       "grid_auto_columns": null,
       "grid_auto_flow": null,
       "grid_auto_rows": null,
       "grid_column": null,
       "grid_gap": null,
       "grid_row": null,
       "grid_template_areas": null,
       "grid_template_columns": null,
       "grid_template_rows": null,
       "height": null,
       "justify_content": null,
       "justify_items": null,
       "left": null,
       "margin": null,
       "max_height": null,
       "max_width": null,
       "min_height": null,
       "min_width": null,
       "object_fit": null,
       "object_position": null,
       "order": null,
       "overflow": null,
       "overflow_x": null,
       "overflow_y": null,
       "padding": null,
       "right": null,
       "top": null,
       "visibility": null,
       "width": null
      }
     },
     "dea4ae7719694fb39efbc88901b31a7b": {
      "model_module": "@jupyter-widgets/base",
      "model_module_version": "1.2.0",
      "model_name": "LayoutModel",
      "state": {
       "_model_module": "@jupyter-widgets/base",
       "_model_module_version": "1.2.0",
       "_model_name": "LayoutModel",
       "_view_count": null,
       "_view_module": "@jupyter-widgets/base",
       "_view_module_version": "1.2.0",
       "_view_name": "LayoutView",
       "align_content": null,
       "align_items": null,
       "align_self": null,
       "border": null,
       "bottom": null,
       "display": null,
       "flex": null,
       "flex_flow": null,
       "grid_area": null,
       "grid_auto_columns": null,
       "grid_auto_flow": null,
       "grid_auto_rows": null,
       "grid_column": null,
       "grid_gap": null,
       "grid_row": null,
       "grid_template_areas": null,
       "grid_template_columns": null,
       "grid_template_rows": null,
       "height": null,
       "justify_content": null,
       "justify_items": null,
       "left": null,
       "margin": null,
       "max_height": null,
       "max_width": null,
       "min_height": null,
       "min_width": null,
       "object_fit": null,
       "object_position": null,
       "order": null,
       "overflow": null,
       "overflow_x": null,
       "overflow_y": null,
       "padding": null,
       "right": null,
       "top": null,
       "visibility": null,
       "width": null
      }
     }
    },
    "version_major": 2,
    "version_minor": 0
   }
  }
 },
 "nbformat": 4,
 "nbformat_minor": 5
}
