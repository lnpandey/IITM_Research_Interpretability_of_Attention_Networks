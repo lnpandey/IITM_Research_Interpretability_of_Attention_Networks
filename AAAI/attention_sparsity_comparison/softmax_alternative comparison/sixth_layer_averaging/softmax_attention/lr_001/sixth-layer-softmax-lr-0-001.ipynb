{
 "cells": [
  {
   "cell_type": "code",
   "execution_count": 1,
   "id": "883ab0ae",
   "metadata": {
    "execution": {
     "iopub.execute_input": "2021-09-03T08:55:46.489225Z",
     "iopub.status.busy": "2021-09-03T08:55:46.487415Z",
     "iopub.status.idle": "2021-09-03T08:55:46.492866Z",
     "shell.execute_reply": "2021-09-03T08:55:46.494114Z",
     "shell.execute_reply.started": "2021-09-03T06:28:15.437536Z"
    },
    "id": "JSjG64ra4aFu",
    "outputId": "addc1734-5176-4a1c-a637-220f1f24d021",
    "papermill": {
     "duration": 0.057931,
     "end_time": "2021-09-03T08:55:46.494388",
     "exception": false,
     "start_time": "2021-09-03T08:55:46.436457",
     "status": "completed"
    },
    "tags": []
   },
   "outputs": [],
   "source": [
    "# from google.colab import drive\n",
    "# drive.mount('/content/drive')"
   ]
  },
  {
   "cell_type": "code",
   "execution_count": 2,
   "id": "0e467bef",
   "metadata": {
    "execution": {
     "iopub.execute_input": "2021-09-03T08:55:46.587308Z",
     "iopub.status.busy": "2021-09-03T08:55:46.586215Z",
     "iopub.status.idle": "2021-09-03T08:55:46.589631Z",
     "shell.execute_reply": "2021-09-03T08:55:46.589012Z",
     "shell.execute_reply.started": "2021-09-03T03:44:11.983114Z"
    },
    "papermill": {
     "duration": 0.050566,
     "end_time": "2021-09-03T08:55:46.589775",
     "exception": false,
     "start_time": "2021-09-03T08:55:46.539209",
     "status": "completed"
    },
    "tags": []
   },
   "outputs": [],
   "source": [
    "# !pip install sparsemax"
   ]
  },
  {
   "cell_type": "code",
   "execution_count": 3,
   "id": "a3c63eac",
   "metadata": {
    "execution": {
     "iopub.execute_input": "2021-09-03T08:55:46.769672Z",
     "iopub.status.busy": "2021-09-03T08:55:46.757552Z",
     "iopub.status.idle": "2021-09-03T08:55:47.618771Z",
     "shell.execute_reply": "2021-09-03T08:55:47.617850Z",
     "shell.execute_reply.started": "2021-09-03T06:29:00.220992Z"
    },
    "id": "atwYfdnU1_3W",
    "outputId": "0c7b155f-d0c1-4bd0-c87d-57be34d931d7",
    "papermill": {
     "duration": 0.984376,
     "end_time": "2021-09-03T08:55:47.618923",
     "exception": false,
     "start_time": "2021-09-03T08:55:46.634547",
     "status": "completed"
    },
    "tags": []
   },
   "outputs": [
    {
     "name": "stdout",
     "output_type": "stream",
     "text": [
      "/kaggle/working\r\n"
     ]
    }
   ],
   "source": [
    "# from google.colab import drive\n",
    "# drive.mount('/content/drive')\n",
    "!pwd"
   ]
  },
  {
   "cell_type": "code",
   "execution_count": 4,
   "id": "c0c63db0",
   "metadata": {
    "execution": {
     "iopub.execute_input": "2021-09-03T08:55:47.777165Z",
     "iopub.status.busy": "2021-09-03T08:55:47.776037Z",
     "iopub.status.idle": "2021-09-03T08:55:47.779499Z",
     "shell.execute_reply": "2021-09-03T08:55:47.780316Z",
     "shell.execute_reply.started": "2021-09-03T06:29:05.058366Z"
    },
    "id": "Zj9vWd0E2C0t",
    "papermill": {
     "duration": 0.085246,
     "end_time": "2021-09-03T08:55:47.780534",
     "exception": false,
     "start_time": "2021-09-03T08:55:47.695288",
     "status": "completed"
    },
    "tags": []
   },
   "outputs": [],
   "source": [
    "\n",
    "path = '/kaggle/working/run1'"
   ]
  },
  {
   "cell_type": "code",
   "execution_count": 5,
   "id": "fda2689a",
   "metadata": {
    "execution": {
     "iopub.execute_input": "2021-09-03T08:55:47.942434Z",
     "iopub.status.busy": "2021-09-03T08:55:47.941725Z",
     "iopub.status.idle": "2021-09-03T08:55:49.510759Z",
     "shell.execute_reply": "2021-09-03T08:55:49.509524Z",
     "shell.execute_reply.started": "2021-09-03T06:29:06.251795Z"
    },
    "id": "V8-7SARDZErK",
    "papermill": {
     "duration": 1.654209,
     "end_time": "2021-09-03T08:55:49.510945",
     "exception": false,
     "start_time": "2021-09-03T08:55:47.856736",
     "status": "completed"
    },
    "tags": []
   },
   "outputs": [],
   "source": [
    "import torch.nn as nn\n",
    "import torch.nn.functional as F\n",
    "import pandas as pd\n",
    "import numpy as np\n",
    "import matplotlib.pyplot as plt\n",
    "import torch\n",
    "import torchvision\n",
    "import torchvision.transforms as transforms\n",
    "from torch.utils.data import Dataset, DataLoader\n",
    "from torchvision import transforms, utils\n",
    "from matplotlib import pyplot as plt\n",
    "import copy\n",
    "\n",
    "#from sparsemax import Sparsemax\n",
    "# Ignore warnings\n",
    "import warnings\n",
    "warnings.filterwarnings(\"ignore\")\n",
    "n_seed = 0"
   ]
  },
  {
   "cell_type": "code",
   "execution_count": 6,
   "id": "ec160f26",
   "metadata": {
    "execution": {
     "iopub.execute_input": "2021-09-03T08:55:49.608480Z",
     "iopub.status.busy": "2021-09-03T08:55:49.607406Z",
     "iopub.status.idle": "2021-09-03T08:55:49.610752Z",
     "shell.execute_reply": "2021-09-03T08:55:49.610196Z",
     "shell.execute_reply.started": "2021-09-03T06:29:08.600636Z"
    },
    "id": "_rVTn9u9uBRn",
    "papermill": {
     "duration": 0.052996,
     "end_time": "2021-09-03T08:55:49.610872",
     "exception": false,
     "start_time": "2021-09-03T08:55:49.557876",
     "status": "completed"
    },
    "tags": []
   },
   "outputs": [],
   "source": [
    "torch.backends.cudnn.deterministic = True\n",
    "torch.backends.cudnn.benchmark= False"
   ]
  },
  {
   "cell_type": "code",
   "execution_count": 7,
   "id": "f0ea8a05",
   "metadata": {
    "execution": {
     "iopub.execute_input": "2021-09-03T08:55:49.707328Z",
     "iopub.status.busy": "2021-09-03T08:55:49.706482Z",
     "iopub.status.idle": "2021-09-03T08:55:59.751161Z",
     "shell.execute_reply": "2021-09-03T08:55:59.750522Z",
     "shell.execute_reply.started": "2021-09-03T06:29:10.461103Z"
    },
    "id": "acRFqJNrZErV",
    "outputId": "8b937572-e8ec-458e-edd8-0ed0170b0fc9",
    "papermill": {
     "duration": 10.095097,
     "end_time": "2021-09-03T08:55:59.751337",
     "exception": false,
     "start_time": "2021-09-03T08:55:49.656240",
     "status": "completed"
    },
    "tags": []
   },
   "outputs": [
    {
     "name": "stdout",
     "output_type": "stream",
     "text": [
      "Downloading https://www.cs.toronto.edu/~kriz/cifar-10-python.tar.gz to ./data/cifar-10-python.tar.gz\n"
     ]
    },
    {
     "data": {
      "application/vnd.jupyter.widget-view+json": {
       "model_id": "a44e61c9f1694682b33df1c3b918ac35",
       "version_major": 2,
       "version_minor": 0
      },
      "text/plain": [
       "0it [00:00, ?it/s]"
      ]
     },
     "metadata": {},
     "output_type": "display_data"
    },
    {
     "name": "stdout",
     "output_type": "stream",
     "text": [
      "Extracting ./data/cifar-10-python.tar.gz to ./data\n",
      "Files already downloaded and verified\n"
     ]
    }
   ],
   "source": [
    "transform = transforms.Compose(\n",
    "    [transforms.ToTensor(),\n",
    "     transforms.Normalize((0.5, 0.5, 0.5), (0.5, 0.5, 0.5))])\n",
    "\n",
    "trainset = torchvision.datasets.CIFAR10(root='./data', train=True, download=True, transform=transform)\n",
    "\n",
    "\n",
    "testset = torchvision.datasets.CIFAR10(root='./data', train=False, download=True, transform=transform)\n"
   ]
  },
  {
   "cell_type": "code",
   "execution_count": 8,
   "id": "dbadd04e",
   "metadata": {
    "execution": {
     "iopub.execute_input": "2021-09-03T08:55:59.851745Z",
     "iopub.status.busy": "2021-09-03T08:55:59.850872Z",
     "iopub.status.idle": "2021-09-03T08:55:59.855331Z",
     "shell.execute_reply": "2021-09-03T08:55:59.854768Z",
     "shell.execute_reply.started": "2021-09-03T06:29:19.179605Z"
    },
    "id": "gh5DXuAV1tp5",
    "papermill": {
     "duration": 0.056457,
     "end_time": "2021-09-03T08:55:59.855488",
     "exception": false,
     "start_time": "2021-09-03T08:55:59.799031",
     "status": "completed"
    },
    "tags": []
   },
   "outputs": [],
   "source": [
    "trainloader = torch.utils.data.DataLoader(trainset, batch_size=10, shuffle=False)\n",
    "testloader = torch.utils.data.DataLoader(testset, batch_size=10, shuffle=False)\n",
    "\n",
    "\n",
    "classes = ('plane', 'car', 'bird', 'cat', 'deer', 'dog', 'frog', 'horse', 'ship', 'truck')\n",
    "\n",
    "foreground_classes = {'plane', 'car', 'bird'}\n",
    "#foreground_classes = {'bird', 'cat', 'deer'}\n",
    "background_classes = {'cat', 'deer', 'dog', 'frog', 'horse', 'ship', 'truck'}\n",
    "#background_classes = {'plane', 'car', 'dog', 'frog', 'horse','ship', 'truck'}\n",
    "\n",
    "fg1,fg2,fg3 = 0,1,2"
   ]
  },
  {
   "cell_type": "code",
   "execution_count": 9,
   "id": "c378d0c0",
   "metadata": {
    "execution": {
     "iopub.execute_input": "2021-09-03T08:55:59.957582Z",
     "iopub.status.busy": "2021-09-03T08:55:59.956909Z",
     "iopub.status.idle": "2021-09-03T08:57:02.681218Z",
     "shell.execute_reply": "2021-09-03T08:57:02.680200Z",
     "shell.execute_reply.started": "2021-09-03T06:29:19.188456Z"
    },
    "id": "V_JUhwCeZErk",
    "papermill": {
     "duration": 62.779873,
     "end_time": "2021-09-03T08:57:02.681423",
     "exception": false,
     "start_time": "2021-09-03T08:55:59.901550",
     "status": "completed"
    },
    "tags": []
   },
   "outputs": [],
   "source": [
    "dataiter = iter(trainloader)\n",
    "background_data=[]\n",
    "background_label=[]\n",
    "foreground_data=[]\n",
    "foreground_label=[]\n",
    "batch_size=10\n",
    "\n",
    "for i in range(5000):\n",
    "  images, labels = dataiter.next()\n",
    "  for j in range(batch_size):\n",
    "    if(classes[labels[j]] in background_classes):\n",
    "      img = images[j].tolist()\n",
    "      background_data.append(img)\n",
    "      background_label.append(labels[j])\n",
    "    else:\n",
    "      img = images[j].tolist()\n",
    "      foreground_data.append(img)\n",
    "      foreground_label.append(labels[j])\n",
    "            \n",
    "foreground_data = torch.tensor(foreground_data)\n",
    "foreground_label = torch.tensor(foreground_label)\n",
    "background_data = torch.tensor(background_data)\n",
    "background_label = torch.tensor(background_label)"
   ]
  },
  {
   "cell_type": "code",
   "execution_count": 10,
   "id": "00659ea1",
   "metadata": {
    "execution": {
     "iopub.execute_input": "2021-09-03T08:57:02.781645Z",
     "iopub.status.busy": "2021-09-03T08:57:02.780437Z",
     "iopub.status.idle": "2021-09-03T08:57:02.784013Z",
     "shell.execute_reply": "2021-09-03T08:57:02.783433Z",
     "shell.execute_reply.started": "2021-09-03T06:30:08.975739Z"
    },
    "id": "uW9MkktGysAp",
    "papermill": {
     "duration": 0.056325,
     "end_time": "2021-09-03T08:57:02.784182",
     "exception": false,
     "start_time": "2021-09-03T08:57:02.727857",
     "status": "completed"
    },
    "tags": []
   },
   "outputs": [],
   "source": [
    "def create_mosaic_img(bg_idx,fg_idx,fg): \n",
    "  \"\"\"\n",
    "  bg_idx : list of indexes of background_data[] to be used as background images in mosaic\n",
    "  fg_idx : index of image to be used as foreground image from foreground data\n",
    "  fg : at what position/index foreground image has to be stored out of 0-8\n",
    "  \"\"\"\n",
    "  image_list=[]\n",
    "  j=0\n",
    "  for i in range(9):\n",
    "    if i != fg:\n",
    "      image_list.append(background_data[bg_idx[j]])#.type(\"torch.DoubleTensor\"))\n",
    "      j+=1\n",
    "    else: \n",
    "      image_list.append(foreground_data[fg_idx])#.type(\"torch.DoubleTensor\"))\n",
    "      label = foreground_label[fg_idx]- fg1  # minus fg1 because our fore ground classes are fg1,fg2,fg3 but we have to store it as 0,1,2\n",
    "  #image_list = np.concatenate(image_list ,axis=0)\n",
    "  image_list = torch.stack(image_list) \n",
    "  return image_list,label"
   ]
  },
  {
   "cell_type": "code",
   "execution_count": 11,
   "id": "a635cb59",
   "metadata": {
    "execution": {
     "iopub.execute_input": "2021-09-03T08:57:02.884408Z",
     "iopub.status.busy": "2021-09-03T08:57:02.883281Z",
     "iopub.status.idle": "2021-09-03T08:57:10.154254Z",
     "shell.execute_reply": "2021-09-03T08:57:10.153232Z",
     "shell.execute_reply.started": "2021-09-03T06:30:08.982796Z"
    },
    "id": "lWxkp87fNwnM",
    "papermill": {
     "duration": 7.324791,
     "end_time": "2021-09-03T08:57:10.154410",
     "exception": false,
     "start_time": "2021-09-03T08:57:02.829619",
     "status": "completed"
    },
    "tags": []
   },
   "outputs": [],
   "source": [
    "desired_num = 30000\n",
    "mosaic_list_of_images =[]      # list of mosaic images, each mosaic image is saved as list of 9 images\n",
    "fore_idx =[]                   # list of indexes at which foreground image is present in a mosaic image i.e from 0 to 9               \n",
    "mosaic_label=[]                # label of mosaic image = foreground class present in that mosaic\n",
    "for i in range(desired_num):\n",
    "  np.random.seed(i)\n",
    "  bg_idx = np.random.randint(0,35000,8)\n",
    "  fg_idx = np.random.randint(0,15000)\n",
    "  fg = np.random.randint(0,9)\n",
    "  fore_idx.append(fg)\n",
    "  image_list,label = create_mosaic_img(bg_idx,fg_idx,fg)\n",
    "  mosaic_list_of_images.append(image_list)\n",
    "  mosaic_label.append(label)"
   ]
  },
  {
   "cell_type": "code",
   "execution_count": 12,
   "id": "11a0ecc4",
   "metadata": {
    "execution": {
     "iopub.execute_input": "2021-09-03T08:57:10.271007Z",
     "iopub.status.busy": "2021-09-03T08:57:10.269910Z",
     "iopub.status.idle": "2021-09-03T08:57:10.473534Z",
     "shell.execute_reply": "2021-09-03T08:57:10.474172Z",
     "shell.execute_reply.started": "2021-09-03T06:30:14.074283Z"
    },
    "id": "TNMMsJ_auBRs",
    "outputId": "1eaf419e-a155-445a-86e3-e12cb440d065",
    "papermill": {
     "duration": 0.272296,
     "end_time": "2021-09-03T08:57:10.474356",
     "exception": false,
     "start_time": "2021-09-03T08:57:10.202060",
     "status": "completed"
    },
    "tags": []
   },
   "outputs": [
    {
     "data": {
      "text/plain": [
       "<matplotlib.image.AxesImage at 0x7ff6186b6bd0>"
      ]
     },
     "execution_count": 12,
     "metadata": {},
     "output_type": "execute_result"
    },
    {
     "data": {
      "image/png": "[encoded data removed]",
      "text/plain": [
       "<Figure size 432x288 with 1 Axes>"
      ]
     },
     "metadata": {
      "needs_background": "light"
     },
     "output_type": "display_data"
    }
   ],
   "source": [
    "plt.imshow(torch.transpose(mosaic_list_of_images[0][1],dim0= 0,dim1 = 2))"
   ]
  },
  {
   "cell_type": "code",
   "execution_count": 13,
   "id": "0c84895f",
   "metadata": {
    "execution": {
     "iopub.execute_input": "2021-09-03T08:57:10.583535Z",
     "iopub.status.busy": "2021-09-03T08:57:10.582466Z",
     "iopub.status.idle": "2021-09-03T08:57:10.586352Z",
     "shell.execute_reply": "2021-09-03T08:57:10.585727Z",
     "shell.execute_reply.started": "2021-09-03T06:30:14.242551Z"
    },
    "id": "AJuGak6_zXgx",
    "papermill": {
     "duration": 0.063829,
     "end_time": "2021-09-03T08:57:10.586486",
     "exception": false,
     "start_time": "2021-09-03T08:57:10.522657",
     "status": "completed"
    },
    "tags": []
   },
   "outputs": [],
   "source": [
    "class MosaicDataset(Dataset):\n",
    "  \"\"\"MosaicDataset dataset.\"\"\"\n",
    "\n",
    "  def __init__(self, mosaic_list_of_images, mosaic_label, fore_idx):\n",
    "    \"\"\"\n",
    "      Args:\n",
    "        csv_file (string): Path to the csv file with annotations.\n",
    "        root_dir (string): Directory with all the images.\n",
    "        transform (callable, optional): Optional transform to be applied\n",
    "            on a sample.\n",
    "    \"\"\"\n",
    "    self.mosaic = mosaic_list_of_images\n",
    "    self.label = mosaic_label\n",
    "    self.fore_idx = fore_idx\n",
    "\n",
    "  def __len__(self):\n",
    "    return len(self.label)\n",
    "\n",
    "  def __getitem__(self, idx):\n",
    "    return self.mosaic[idx] , self.label[idx], self.fore_idx[idx]\n",
    "\n",
    "batch = 250\n",
    "msd = MosaicDataset(mosaic_list_of_images, mosaic_label , fore_idx)\n",
    "train_loader = DataLoader( msd,batch_size= batch ,shuffle=True)"
   ]
  },
  {
   "cell_type": "code",
   "execution_count": 14,
   "id": "24600591",
   "metadata": {
    "execution": {
     "iopub.execute_input": "2021-09-03T08:57:10.685928Z",
     "iopub.status.busy": "2021-09-03T08:57:10.684931Z",
     "iopub.status.idle": "2021-09-03T08:57:10.688011Z",
     "shell.execute_reply": "2021-09-03T08:57:10.688583Z",
     "shell.execute_reply.started": "2021-09-03T06:34:35.577097Z"
    },
    "papermill": {
     "duration": 0.054359,
     "end_time": "2021-09-03T08:57:10.688733",
     "exception": false,
     "start_time": "2021-09-03T08:57:10.634374",
     "status": "completed"
    },
    "tags": []
   },
   "outputs": [],
   "source": [
    "# class my_spherical_softmax(nn.Module):\n",
    "#     \"\"\"\n",
    "#     implementation is taken from https://github.com/anirbanl/sparsegen \n",
    "#     Code for the NeurIPS 2018 paper \"On Controllable Sparse Alternatives to Softmax\"\n",
    "#     \"\"\"\n",
    "#     def __init__(self):\n",
    "#         super(my_spherical_softmax,self).__init__()\n",
    "#     def forward(self,x):\n",
    "#         bs = x.data.size()[0]\n",
    "#         dim = x.data.size()[1]\n",
    "#         z = torch.pow(x, 2)\n",
    "#         z_sum = torch.sum(z, dim=1).view(bs, 1).repeat(1, dim)\n",
    "#         return z/z_sum"
   ]
  },
  {
   "cell_type": "code",
   "execution_count": 15,
   "id": "70086e41",
   "metadata": {
    "execution": {
     "iopub.execute_input": "2021-09-03T08:57:10.809302Z",
     "iopub.status.busy": "2021-09-03T08:57:10.801674Z",
     "iopub.status.idle": "2021-09-03T08:57:10.812549Z",
     "shell.execute_reply": "2021-09-03T08:57:10.812026Z",
     "shell.execute_reply.started": "2021-09-03T06:44:47.33249Z"
    },
    "id": "bePj73XKuJpC",
    "papermill": {
     "duration": 0.077185,
     "end_time": "2021-09-03T08:57:10.812705",
     "exception": false,
     "start_time": "2021-09-03T08:57:10.735520",
     "status": "completed"
    },
    "tags": []
   },
   "outputs": [],
   "source": [
    "class Focus(nn.Module):\n",
    "  def __init__(self):\n",
    "    super(Focus, self).__init__()\n",
    "    self.conv1 = nn.Conv2d(in_channels=3, out_channels=32, kernel_size=3, padding=0,bias=False)\n",
    "    self.conv2 = nn.Conv2d(in_channels=32, out_channels=64, kernel_size=3, padding=0,bias=False)\n",
    "    self.conv3 = nn.Conv2d(in_channels=64, out_channels=64, kernel_size=3, padding=0,bias=False)\n",
    "    self.conv4 = nn.Conv2d(in_channels=64, out_channels=128, kernel_size=3, padding=0,bias=False)\n",
    "    self.conv5 = nn.Conv2d(in_channels=128, out_channels=256, kernel_size=3, padding=0,bias=False)\n",
    "    self.conv6 = nn.Conv2d(in_channels=256, out_channels=256, kernel_size=3, padding=1,bias=False)\n",
    "    self.pool = nn.MaxPool2d(kernel_size=2, stride=2)\n",
    "    self.batch_norm1 = nn.BatchNorm2d(32,track_running_stats=False)\n",
    "    self.batch_norm2 = nn.BatchNorm2d(64,track_running_stats=False)\n",
    "    self.batch_norm3 = nn.BatchNorm2d(256,track_running_stats=False)\n",
    "    self.dropout1 = nn.Dropout2d(p=0.05)\n",
    "    self.dropout2 = nn.Dropout2d(p=0.1)\n",
    "    self.fc1 = nn.Linear(256,64,bias=False)\n",
    "    self.fc2 = nn.Linear(64, 32,bias=False)\n",
    "    self.fc3 = nn.Linear(32, 10,bias=False)\n",
    "    self.fc4 = nn.Linear(10, 1,bias=False)\n",
    "\n",
    "    torch.nn.init.xavier_normal_(self.conv1.weight)\n",
    "    torch.nn.init.xavier_normal_(self.conv2.weight)\n",
    "    torch.nn.init.xavier_normal_(self.conv3.weight)\n",
    "    torch.nn.init.xavier_normal_(self.conv4.weight)\n",
    "    torch.nn.init.xavier_normal_(self.conv5.weight)\n",
    "    torch.nn.init.xavier_normal_(self.conv6.weight)\n",
    "\n",
    "    torch.nn.init.xavier_normal_(self.fc1.weight)\n",
    "    torch.nn.init.xavier_normal_(self.fc2.weight)\n",
    "    torch.nn.init.xavier_normal_(self.fc3.weight)\n",
    "    torch.nn.init.xavier_normal_(self.fc4.weight)\n",
    "    #self.spherical_softmax = my_spherical_softmax() \n",
    "    \n",
    "\n",
    "  def forward(self,z):  #y is avg image #z batch of list of 9 images\n",
    "    batch_s = z.shape[0] \n",
    "    y = torch.zeros([batch_s,256, 3,3], dtype=torch.float64)\n",
    "    x = torch.zeros([batch_s,9],dtype=torch.float64)\n",
    "    ftr = torch.zeros([batch_s,9,256,3,3])\n",
    "    y = y.to(\"cuda\")\n",
    "    x = x.to(\"cuda\")\n",
    "    ftr = ftr.to(\"cuda\")\n",
    "    \n",
    "    for i in range(9):\n",
    "        out,ftrs = self.helper(z[:,i])\n",
    "        #print(out.shape)\n",
    "        x[:,i] = out\n",
    "        ftr[:,i] = ftrs\n",
    "    x = F.softmax(x,dim=1)\n",
    "    #print(x,torch.sum(x,dim=1))\n",
    "\n",
    "    for i in range(9):            \n",
    "      x1 = x[:,i]          \n",
    "      y = y + torch.mul(x1[:,None,None,None],ftr[:,i])\n",
    "\n",
    "    return x, y #alpha, avg_data\n",
    "    \n",
    "  def helper(self, x):\n",
    "\n",
    "    x = self.conv1(x)\n",
    "    x = F.relu(self.batch_norm1(x))\n",
    "\n",
    "    x = (F.relu(self.conv2(x)))\n",
    "    x = self.pool(x)\n",
    "    \n",
    "    x = self.conv3(x)\n",
    "    x = F.relu(self.batch_norm2(x))\n",
    "\n",
    "    x = (F.relu(self.conv4(x)))\n",
    "    x = self.pool(x)\n",
    "    x = self.dropout1(x)\n",
    "\n",
    "    x = self.conv5(x)\n",
    "    \n",
    "    x = F.relu(self.batch_norm3(x))\n",
    "\n",
    "    x = self.conv6(x)\n",
    "    x1 = F.tanh(x)\n",
    "    \n",
    "    \n",
    "    x = F.relu(x)\n",
    "    x = self.pool(x)\n",
    "\n",
    "    x = x.view(x.size(0), -1)\n",
    "\n",
    "    x = self.dropout2(x)\n",
    "    x = F.relu(self.fc1(x))\n",
    "    x = F.relu(self.fc2(x))\n",
    "    x = self.dropout2(x)\n",
    "    x = F.relu(self.fc3(x))\n",
    "    x = self.fc4(x)\n",
    "    x = x[:,0] \n",
    "    # print(x.shape)\n",
    "    return x,x1"
   ]
  },
  {
   "cell_type": "code",
   "execution_count": 16,
   "id": "f1b5637a",
   "metadata": {
    "execution": {
     "iopub.execute_input": "2021-09-03T08:57:10.913247Z",
     "iopub.status.busy": "2021-09-03T08:57:10.912396Z",
     "iopub.status.idle": "2021-09-03T08:57:16.444687Z",
     "shell.execute_reply": "2021-09-03T08:57:16.443659Z",
     "shell.execute_reply.started": "2021-09-03T06:44:52.357953Z"
    },
    "id": "1GvXR1zV5n4w",
    "papermill": {
     "duration": 5.584362,
     "end_time": "2021-09-03T08:57:16.444835",
     "exception": false,
     "start_time": "2021-09-03T08:57:10.860473",
     "status": "completed"
    },
    "tags": []
   },
   "outputs": [],
   "source": [
    "torch.manual_seed(n_seed)\n",
    "focus_net = Focus().double()\n",
    "focus_net = focus_net.to(\"cuda\")"
   ]
  },
  {
   "cell_type": "code",
   "execution_count": 17,
   "id": "23201cdb",
   "metadata": {
    "execution": {
     "iopub.execute_input": "2021-09-03T08:57:16.560997Z",
     "iopub.status.busy": "2021-09-03T08:57:16.552913Z",
     "iopub.status.idle": "2021-09-03T08:57:16.564180Z",
     "shell.execute_reply": "2021-09-03T08:57:16.563634Z",
     "shell.execute_reply.started": "2021-09-03T06:44:54.04518Z"
    },
    "id": "LYdCXceZzSk9",
    "papermill": {
     "duration": 0.071991,
     "end_time": "2021-09-03T08:57:16.564316",
     "exception": false,
     "start_time": "2021-09-03T08:57:16.492325",
     "status": "completed"
    },
    "tags": []
   },
   "outputs": [],
   "source": [
    "class Classification(nn.Module):\n",
    "  def __init__(self):\n",
    "    super(Classification, self).__init__()\n",
    "    self.conv1 = nn.Conv2d(in_channels=256, out_channels=128, kernel_size=3, padding=1)\n",
    "    self.conv2 = nn.Conv2d(in_channels=128, out_channels=128, kernel_size=3, padding=1)\n",
    "    self.conv3 = nn.Conv2d(in_channels=128, out_channels=256, kernel_size=3, padding=1)\n",
    "    self.conv4 = nn.Conv2d(in_channels=256, out_channels=256, kernel_size=3, padding=1)\n",
    "    self.conv5 = nn.Conv2d(in_channels=256, out_channels=512, kernel_size=3, padding=1)\n",
    "    self.conv6 = nn.Conv2d(in_channels=512, out_channels=512, kernel_size=3, padding=1)\n",
    "    self.pool = nn.MaxPool2d(kernel_size=2, stride=2,padding=1)\n",
    "    self.batch_norm1 = nn.BatchNorm2d(128,track_running_stats=False)\n",
    "    self.batch_norm2 = nn.BatchNorm2d(256,track_running_stats=False)\n",
    "    self.batch_norm3 = nn.BatchNorm2d(512,track_running_stats=False)\n",
    "    self.dropout1 = nn.Dropout2d(p=0.05)\n",
    "    self.dropout2 = nn.Dropout2d(p=0.1)\n",
    "    self.global_average_pooling = nn.AvgPool2d(kernel_size=2)\n",
    "    self.fc1 = nn.Linear(512,128)\n",
    "    # self.fc2 = nn.Linear(128, 64)\n",
    "    # self.fc3 = nn.Linear(64, 10)\n",
    "    self.fc2 = nn.Linear(128, 3)\n",
    "\n",
    "    torch.nn.init.xavier_normal_(self.conv1.weight)\n",
    "    torch.nn.init.xavier_normal_(self.conv2.weight)\n",
    "    torch.nn.init.xavier_normal_(self.conv3.weight)\n",
    "    torch.nn.init.xavier_normal_(self.conv4.weight)\n",
    "    torch.nn.init.xavier_normal_(self.conv5.weight)\n",
    "    torch.nn.init.xavier_normal_(self.conv6.weight)\n",
    "\n",
    "    torch.nn.init.zeros_(self.conv1.bias)\n",
    "    torch.nn.init.zeros_(self.conv2.bias)\n",
    "    torch.nn.init.zeros_(self.conv3.bias)\n",
    "    torch.nn.init.zeros_(self.conv4.bias)\n",
    "    torch.nn.init.zeros_(self.conv5.bias)\n",
    "    torch.nn.init.zeros_(self.conv6.bias)\n",
    "\n",
    "\n",
    "    torch.nn.init.xavier_normal_(self.fc1.weight)\n",
    "    torch.nn.init.xavier_normal_(self.fc2.weight)\n",
    "    torch.nn.init.zeros_(self.fc1.bias)\n",
    "    torch.nn.init.zeros_(self.fc2.bias)\n",
    "\n",
    "\n",
    "  def forward(self, x):\n",
    "    x = self.conv1(x)\n",
    "    x = F.relu(self.batch_norm1(x))\n",
    "\n",
    "    x = (F.relu(self.conv2(x)))\n",
    "    x = self.pool(x)\n",
    "    \n",
    "    x = self.conv3(x)\n",
    "    x = F.relu(self.batch_norm2(x))\n",
    "\n",
    "    x = (F.relu(self.conv4(x)))\n",
    "    x = self.pool(x)\n",
    "    x = self.dropout1(x)\n",
    "\n",
    "    x = self.conv5(x)\n",
    "    x = F.relu(self.batch_norm3(x))\n",
    "\n",
    "    x = (F.relu(self.conv6(x)))\n",
    "    x = self.pool(x)\n",
    "    #print(x.shape)\n",
    "    x = self.global_average_pooling(x)\n",
    "    x = x.squeeze()\n",
    "    #x = x.view(x.size(0), -1)\n",
    "    #print(x.shape)\n",
    "    x = self.dropout2(x)\n",
    "    x = F.relu(self.fc1(x))\n",
    "    #x = F.relu(self.fc2(x))\n",
    "    #x = self.dropout2(x)\n",
    "    #x = F.relu(self.fc3(x))\n",
    "    x = self.fc2(x)\n",
    "    return x"
   ]
  },
  {
   "cell_type": "code",
   "execution_count": 18,
   "id": "e57d1aa0",
   "metadata": {
    "execution": {
     "iopub.execute_input": "2021-09-03T08:57:16.665890Z",
     "iopub.status.busy": "2021-09-03T08:57:16.664977Z",
     "iopub.status.idle": "2021-09-03T08:57:16.803347Z",
     "shell.execute_reply": "2021-09-03T08:57:16.802730Z",
     "shell.execute_reply.started": "2021-09-03T06:44:55.484579Z"
    },
    "id": "uPYplUGazU9I",
    "papermill": {
     "duration": 0.192221,
     "end_time": "2021-09-03T08:57:16.803499",
     "exception": false,
     "start_time": "2021-09-03T08:57:16.611278",
     "status": "completed"
    },
    "tags": []
   },
   "outputs": [],
   "source": [
    "torch.manual_seed(n_seed)\n",
    "classify = Classification().double()\n",
    "classify = classify.to(\"cuda\")"
   ]
  },
  {
   "cell_type": "code",
   "execution_count": 19,
   "id": "436f61fb",
   "metadata": {
    "execution": {
     "iopub.execute_input": "2021-09-03T08:57:16.908178Z",
     "iopub.status.busy": "2021-09-03T08:57:16.907042Z",
     "iopub.status.idle": "2021-09-03T08:57:19.615120Z",
     "shell.execute_reply": "2021-09-03T08:57:19.614429Z",
     "shell.execute_reply.started": "2021-09-03T06:44:57.197963Z"
    },
    "id": "l789TLMP9zJX",
    "papermill": {
     "duration": 2.763774,
     "end_time": "2021-09-03T08:57:19.615301",
     "exception": false,
     "start_time": "2021-09-03T08:57:16.851527",
     "status": "completed"
    },
    "tags": []
   },
   "outputs": [],
   "source": [
    "test_images =[]        #list of mosaic images, each mosaic image is saved as laist of 9 images\n",
    "fore_idx_test =[]                   #list of indexes at which foreground image is present in a mosaic image                \n",
    "test_label=[]                # label of mosaic image = foreground class present in that mosaic\n",
    "for i in range(10000):\n",
    "  np.random.seed(i+30000)\n",
    "  bg_idx = np.random.randint(0,35000,8)\n",
    "  fg_idx = np.random.randint(0,15000)\n",
    "  fg = np.random.randint(0,9)\n",
    "  fore_idx_test.append(fg)\n",
    "  image_list,label = create_mosaic_img(bg_idx,fg_idx,fg)\n",
    "  test_images.append(image_list)\n",
    "  test_label.append(label)"
   ]
  },
  {
   "cell_type": "code",
   "execution_count": 20,
   "id": "ed626ed2",
   "metadata": {
    "execution": {
     "iopub.execute_input": "2021-09-03T08:57:19.716891Z",
     "iopub.status.busy": "2021-09-03T08:57:19.716214Z",
     "iopub.status.idle": "2021-09-03T08:57:19.721307Z",
     "shell.execute_reply": "2021-09-03T08:57:19.720698Z",
     "shell.execute_reply.started": "2021-09-03T06:45:00.248832Z"
    },
    "id": "bBzV9dKS5po7",
    "papermill": {
     "duration": 0.056477,
     "end_time": "2021-09-03T08:57:19.721447",
     "exception": false,
     "start_time": "2021-09-03T08:57:19.664970",
     "status": "completed"
    },
    "tags": []
   },
   "outputs": [],
   "source": [
    "test_data = MosaicDataset(test_images,test_label,fore_idx_test)\n",
    "test_loader = DataLoader( test_data,batch_size= batch ,shuffle=False)"
   ]
  },
  {
   "cell_type": "code",
   "execution_count": 21,
   "id": "60b217d3",
   "metadata": {
    "execution": {
     "iopub.execute_input": "2021-09-03T08:57:19.820674Z",
     "iopub.status.busy": "2021-09-03T08:57:19.819911Z",
     "iopub.status.idle": "2021-09-03T08:57:19.825026Z",
     "shell.execute_reply": "2021-09-03T08:57:19.824508Z",
     "shell.execute_reply.started": "2021-09-03T06:45:03.75494Z"
    },
    "id": "NIZAdWWL93SJ",
    "papermill": {
     "duration": 0.056381,
     "end_time": "2021-09-03T08:57:19.825195",
     "exception": false,
     "start_time": "2021-09-03T08:57:19.768814",
     "status": "completed"
    },
    "tags": []
   },
   "outputs": [],
   "source": [
    "criterion = nn.CrossEntropyLoss()"
   ]
  },
  {
   "cell_type": "code",
   "execution_count": 22,
   "id": "c7506c4c",
   "metadata": {
    "execution": {
     "iopub.execute_input": "2021-09-03T08:57:19.925465Z",
     "iopub.status.busy": "2021-09-03T08:57:19.924650Z",
     "iopub.status.idle": "2021-09-03T08:57:19.929338Z",
     "shell.execute_reply": "2021-09-03T08:57:19.928682Z",
     "shell.execute_reply.started": "2021-09-03T06:45:15.425036Z"
    },
    "id": "n5g3geNJ5zEu",
    "papermill": {
     "duration": 0.056704,
     "end_time": "2021-09-03T08:57:19.929471",
     "exception": false,
     "start_time": "2021-09-03T08:57:19.872767",
     "status": "completed"
    },
    "tags": []
   },
   "outputs": [],
   "source": [
    "import torch.optim as optim\n",
    "# criterion_classify = nn.CrossEntropyLoss()\n",
    "optimizer_focus = optim.Adam(focus_net.parameters(), lr=0.001) # momentum=0.9)\n",
    "optimizer_classify = optim.Adam(classify.parameters(), lr=0.001)#, mosmentum=0.9)"
   ]
  },
  {
   "cell_type": "code",
   "execution_count": 23,
   "id": "2b50190f",
   "metadata": {
    "execution": {
     "iopub.execute_input": "2021-09-03T08:57:20.030065Z",
     "iopub.status.busy": "2021-09-03T08:57:20.029009Z",
     "iopub.status.idle": "2021-09-03T08:57:20.032170Z",
     "shell.execute_reply": "2021-09-03T08:57:20.032814Z",
     "shell.execute_reply.started": "2021-09-03T06:48:46.891117Z"
    },
    "id": "q8FurF4uDlOf",
    "papermill": {
     "duration": 0.056704,
     "end_time": "2021-09-03T08:57:20.033000",
     "exception": false,
     "start_time": "2021-09-03T08:57:19.976296",
     "status": "completed"
    },
    "tags": []
   },
   "outputs": [],
   "source": [
    "col1=[]\n",
    "col2=[]\n",
    "col3=[]\n",
    "col4=[]\n",
    "col5=[]\n",
    "col6=[]\n",
    "col7=[]\n",
    "col8=[]\n",
    "col9=[]\n",
    "col10=[]\n",
    "col11=[]\n",
    "col12=[]\n",
    "col13=[]\n",
    "col14 = [] # train average sparsity\n",
    "col15 = [] # test average sparsity\n",
    "\n"
   ]
  },
  {
   "cell_type": "code",
   "execution_count": 24,
   "id": "b28ab34a",
   "metadata": {
    "execution": {
     "iopub.execute_input": "2021-09-03T08:57:20.142482Z",
     "iopub.status.busy": "2021-09-03T08:57:20.141311Z",
     "iopub.status.idle": "2021-09-03T08:57:53.455489Z",
     "shell.execute_reply": "2021-09-03T08:57:53.456334Z",
     "shell.execute_reply.started": "2021-09-03T06:48:48.202468Z"
    },
    "id": "u7wkoxckDlIg",
    "outputId": "8bd39cf0-6ed5-4baf-9ca9-2ef79eb52dad",
    "papermill": {
     "duration": 33.376628,
     "end_time": "2021-09-03T08:57:53.456587",
     "exception": false,
     "start_time": "2021-09-03T08:57:20.079959",
     "status": "completed"
    },
    "tags": []
   },
   "outputs": [
    {
     "name": "stdout",
     "output_type": "stream",
     "text": [
      "Accuracy of the network on the 30000 train images: 33.800000 %\n",
      "total correct 10140\n",
      "total train set images 30000\n",
      "focus_true_pred_true 412 =============> FTPT : 1.373333 %\n",
      "focus_false_pred_true 9728 =============> FFPT : 32.426667 %\n",
      "focus_true_pred_false 1585 =============> FTPF : 5.283333 %\n",
      "focus_false_pred_false 18275 =============> FFPF : 60.916667 %\n",
      "Sparsity_Value 269998 =============> AVG Sparsity : 8.999933 \n",
      "argmax_more_than_half ==================>  0\n",
      "argmax_less_than_half ==================>  30000\n",
      "30000\n",
      "====================================================================================================\n"
     ]
    }
   ],
   "source": [
    "correct = 0\n",
    "total = 0\n",
    "count = 0\n",
    "flag = 1\n",
    "focus_true_pred_true =0\n",
    "focus_false_pred_true =0\n",
    "focus_true_pred_false =0\n",
    "focus_false_pred_false =0\n",
    "\n",
    "argmax_more_than_half = 0\n",
    "argmax_less_than_half =0\n",
    "sparse_val = 0 \n",
    "focus_net.eval()\n",
    "classify.eval()\n",
    "with torch.no_grad():\n",
    "  for data in train_loader:\n",
    "    inputs, labels , fore_idx = data\n",
    "    inputs = inputs.double()\n",
    "    inputs, labels , fore_idx = inputs.to(\"cuda\"),labels.to(\"cuda\"), fore_idx.to(\"cuda\")\n",
    "    alphas, avg_images = focus_net(inputs)\n",
    "    # print(inputs.shape, alphas.shape, avg_images.shape)\n",
    "    outputs = classify(avg_images)\n",
    "\n",
    "    _, predicted = torch.max(outputs.data, 1)\n",
    "    \n",
    "    sparse_val += torch.sum(torch.sum(alphas>0.01,dim=1)).item()\n",
    "\n",
    "\n",
    "    for j in range(labels.size(0)):\n",
    "      count += 1\n",
    "      focus = torch.argmax(alphas[j])\n",
    "      if alphas[j][focus] >= 0.5 :\n",
    "        argmax_more_than_half += 1\n",
    "      else:\n",
    "        argmax_less_than_half += 1\n",
    "\n",
    "      if(focus == fore_idx[j] and predicted[j] == labels[j]):\n",
    "          focus_true_pred_true += 1\n",
    "      elif(focus != fore_idx[j] and predicted[j] == labels[j]):\n",
    "        focus_false_pred_true += 1\n",
    "      elif(focus == fore_idx[j] and predicted[j] != labels[j]):\n",
    "        focus_true_pred_false += 1\n",
    "      elif(focus != fore_idx[j] and predicted[j] != labels[j]):\n",
    "        focus_false_pred_false += 1\n",
    "\n",
    "    total += labels.size(0)\n",
    "    correct += (predicted == labels).sum().item()\n",
    "\n",
    "print('Accuracy of the network on the 30000 train images: %f %%' % ( 100 * correct / total))\n",
    "print(\"total correct\", correct)\n",
    "print(\"total train set images\", total)\n",
    "\n",
    "print(\"focus_true_pred_true %d =============> FTPT : %f %%\" % (focus_true_pred_true , (100 * focus_true_pred_true / total) ) )\n",
    "print(\"focus_false_pred_true %d =============> FFPT : %f %%\" % (focus_false_pred_true, (100 * focus_false_pred_true / total) ) )\n",
    "print(\"focus_true_pred_false %d =============> FTPF : %f %%\" %( focus_true_pred_false , ( 100 * focus_true_pred_false / total) ) )\n",
    "print(\"focus_false_pred_false %d =============> FFPF : %f %%\" % (focus_false_pred_false, ( 100 * focus_false_pred_false / total) ) )\n",
    "print(\"Sparsity_Value %d =============> AVG Sparsity : %f \" % (sparse_val,(sparse_val)/total))\n",
    "print(\"argmax_more_than_half ==================> \",argmax_more_than_half)\n",
    "print(\"argmax_less_than_half ==================> \",argmax_less_than_half)\n",
    "print(count)\n",
    "\n",
    "print(\"=\"*100)\n",
    "\n",
    "col1.append(0)\n",
    "col2.append(argmax_more_than_half)\n",
    "col3.append(argmax_less_than_half)\n",
    "col4.append(focus_true_pred_true)\n",
    "col5.append(focus_false_pred_true)\n",
    "col6.append(focus_true_pred_false)\n",
    "col7.append(focus_false_pred_false)\n",
    "col14.append(sparse_val)"
   ]
  },
  {
   "cell_type": "code",
   "execution_count": 25,
   "id": "758a43a5",
   "metadata": {
    "execution": {
     "iopub.execute_input": "2021-09-03T08:57:53.627828Z",
     "iopub.status.busy": "2021-09-03T08:57:53.626808Z",
     "iopub.status.idle": "2021-09-03T08:58:04.880538Z",
     "shell.execute_reply": "2021-09-03T08:58:04.879894Z",
     "shell.execute_reply.started": "2021-09-03T06:49:13.912068Z"
    },
    "id": "0S4x9oQuDlBa",
    "outputId": "c268f2ab-e59b-45bc-ecc0-1532f9dc95c9",
    "papermill": {
     "duration": 11.347484,
     "end_time": "2021-09-03T08:58:04.880685",
     "exception": false,
     "start_time": "2021-09-03T08:57:53.533201",
     "status": "completed"
    },
    "tags": []
   },
   "outputs": [
    {
     "name": "stdout",
     "output_type": "stream",
     "text": [
      "Accuracy of the network on the 10000 test images: 33.550000 %\n",
      "total correct 3355\n",
      "total test set images 10000\n",
      "focus_true_pred_true 138 =============> FTPT : 1.380000 %\n",
      "focus_false_pred_true 3217 =============> FFPT : 32.170000 %\n",
      "focus_true_pred_false 514 =============> FTPF : 5.140000 %\n",
      "focus_false_pred_false 6131 =============> FFPF : 61.310000 %\n",
      "Sparsity_Value 90000 =============> AVG Sparsity : 9.000000 \n",
      "argmax_more_than_half ==================>  0\n",
      "argmax_less_than_half ==================>  10000\n"
     ]
    }
   ],
   "source": [
    "correct = 0\n",
    "total = 0\n",
    "count = 0\n",
    "flag = 1\n",
    "focus_true_pred_true =0\n",
    "focus_false_pred_true =0\n",
    "focus_true_pred_false =0\n",
    "focus_false_pred_false =0\n",
    "\n",
    "argmax_more_than_half = 0\n",
    "argmax_less_than_half =0\n",
    "sparse_val = 0\n",
    "focus_net.eval()\n",
    "classify.eval()\n",
    "with torch.no_grad():\n",
    "  for data in test_loader:\n",
    "    inputs, labels , fore_idx = data\n",
    "    inputs = inputs.double()\n",
    "    inputs, labels , fore_idx = inputs.to(\"cuda\"),labels.to(\"cuda\"), fore_idx.to(\"cuda\")\n",
    "    alphas, avg_images = focus_net(inputs)\n",
    "    outputs = classify(avg_images)\n",
    "\n",
    "    _, predicted = torch.max(outputs.data, 1)\n",
    "    \n",
    "    sparse_val += torch.sum(torch.sum(alphas>0.01,dim=1)).item()\n",
    "\n",
    "    for j in range(labels.size(0)):\n",
    "      focus = torch.argmax(alphas[j])\n",
    "      if alphas[j][focus] >= 0.5 :\n",
    "        argmax_more_than_half += 1\n",
    "      else:\n",
    "        argmax_less_than_half += 1\n",
    "\n",
    "      if(focus == fore_idx[j] and predicted[j] == labels[j]):\n",
    "          focus_true_pred_true += 1\n",
    "      elif(focus != fore_idx[j] and predicted[j] == labels[j]):\n",
    "        focus_false_pred_true += 1\n",
    "      elif(focus == fore_idx[j] and predicted[j] != labels[j]):\n",
    "        focus_true_pred_false += 1\n",
    "      elif(focus != fore_idx[j] and predicted[j] != labels[j]):\n",
    "        focus_false_pred_false += 1\n",
    "\n",
    "    total += labels.size(0)\n",
    "    correct += (predicted == labels).sum().item()\n",
    "\n",
    "print('Accuracy of the network on the 10000 test images: %f %%' % (\n",
    "    100 * correct / total))\n",
    "print(\"total correct\", correct)\n",
    "print(\"total test set images\", total)\n",
    "\n",
    "print(\"focus_true_pred_true %d =============> FTPT : %f %%\" % (focus_true_pred_true , (100 * focus_true_pred_true / total) ) )\n",
    "print(\"focus_false_pred_true %d =============> FFPT : %f %%\" % (focus_false_pred_true, (100 * focus_false_pred_true / total) ) )\n",
    "print(\"focus_true_pred_false %d =============> FTPF : %f %%\" %( focus_true_pred_false , ( 100 * focus_true_pred_false / total) ) )\n",
    "print(\"focus_false_pred_false %d =============> FFPF : %f %%\" % (focus_false_pred_false, ( 100 * focus_false_pred_false / total) ) )\n",
    "print(\"Sparsity_Value %d =============> AVG Sparsity : %f \" % (sparse_val,(sparse_val)/total))\n",
    "print(\"argmax_more_than_half ==================> \",argmax_more_than_half)\n",
    "print(\"argmax_less_than_half ==================> \",argmax_less_than_half)\n",
    "col8.append(argmax_more_than_half)\n",
    "col9.append(argmax_less_than_half)\n",
    "col10.append(focus_true_pred_true)\n",
    "col11.append(focus_false_pred_true)\n",
    "col12.append(focus_true_pred_false)\n",
    "col13.append(focus_false_pred_false)\n",
    "col15.append(sparse_val)"
   ]
  },
  {
   "cell_type": "code",
   "execution_count": 26,
   "id": "eda461bd",
   "metadata": {
    "execution": {
     "iopub.execute_input": "2021-09-03T08:58:05.002424Z",
     "iopub.status.busy": "2021-09-03T08:58:04.994347Z",
     "iopub.status.idle": "2021-09-03T09:16:03.516192Z",
     "shell.execute_reply": "2021-09-03T09:16:03.517040Z",
     "shell.execute_reply.started": "2021-09-03T06:49:22.604756Z"
    },
    "id": "tFfAJZkcZEsY",
    "outputId": "439eba9f-f882-4ed4-b553-fa100981260a",
    "papermill": {
     "duration": 1078.588754,
     "end_time": "2021-09-03T09:16:03.517341",
     "exception": false,
     "start_time": "2021-09-03T08:58:04.928587",
     "status": "completed"
    },
    "tags": []
   },
   "outputs": [
    {
     "name": "stdout",
     "output_type": "stream",
     "text": [
      "[1,    60] loss: 1.175\n",
      "[1,   120] loss: 1.003\n",
      "[2,    60] loss: 0.876\n",
      "[2,   120] loss: 0.728\n",
      "[3,    60] loss: 0.577\n",
      "[3,   120] loss: 0.487\n",
      "[4,    60] loss: 0.401\n",
      "[4,   120] loss: 0.363\n",
      "[5,    60] loss: 0.299\n",
      "[5,   120] loss: 0.295\n",
      "[6,    60] loss: 0.236\n",
      "[6,   120] loss: 0.226\n",
      "[7,    60] loss: 0.177\n",
      "[7,   120] loss: 0.186\n",
      "[8,    60] loss: 0.140\n",
      "[8,   120] loss: 0.162\n",
      "[9,    60] loss: 0.116\n",
      "[9,   120] loss: 0.123\n",
      "[10,    60] loss: 0.096\n",
      "[10,   120] loss: 0.095\n",
      "[11,    60] loss: 0.082\n",
      "[11,   120] loss: 0.090\n",
      "[12,    60] loss: 0.076\n",
      "[12,   120] loss: 0.077\n",
      "[13,    60] loss: 0.071\n",
      "[13,   120] loss: 0.068\n",
      "[14,    60] loss: 0.055\n",
      "[14,   120] loss: 0.053\n",
      "[15,    60] loss: 0.039\n",
      "[15,   120] loss: 0.060\n",
      "Finished Training\n"
     ]
    }
   ],
   "source": [
    "nos_epochs = 50\n",
    "focus_true_pred_true =0\n",
    "focus_false_pred_true =0\n",
    "focus_true_pred_false =0\n",
    "focus_false_pred_false =0\n",
    "\n",
    "argmax_more_than_half = 0\n",
    "argmax_less_than_half =0\n",
    "focus_net.train()\n",
    "classify.train()\n",
    "tr_loss = []\n",
    "\n",
    "\n",
    "for epoch in range(nos_epochs):  # loop over the dataset multiple times\n",
    "  focus_net.train()\n",
    "  classify.train()\n",
    "  focus_true_pred_true =0\n",
    "  focus_false_pred_true =0\n",
    "  focus_true_pred_false =0\n",
    "  focus_false_pred_false =0\n",
    "  \n",
    "  argmax_more_than_half = 0\n",
    "  argmax_less_than_half =0\n",
    "  sparse_val = 0 \n",
    "  \n",
    "  running_loss = 0.0\n",
    "  epoch_loss = []\n",
    "  cnt=0\n",
    "\n",
    "  iteration = desired_num // batch\n",
    "  \n",
    "  #training data set\n",
    "  \n",
    "  for i, data in  enumerate(train_loader):\n",
    "    inputs , labels , fore_idx = data\n",
    "    inputs = inputs.double()\n",
    "    inputs, labels = inputs.to(\"cuda\"), labels.to(\"cuda\")\n",
    "    # zero the parameter gradients\n",
    "    optimizer_focus.zero_grad()\n",
    "    optimizer_classify.zero_grad()\n",
    "    alphas, avg_images = focus_net(inputs)\n",
    "    outputs = classify(avg_images)\n",
    "    \n",
    "    \n",
    "\n",
    "    _, predicted = torch.max(outputs.data, 1)\n",
    "\n",
    "    loss = criterion(outputs, labels)\n",
    "    loss.backward()\n",
    "    optimizer_focus.step()\n",
    "    optimizer_classify.step()\n",
    "\n",
    "    running_loss += loss.item()\n",
    "    mini = 60\n",
    "    if cnt % mini == mini-1:    # print every 40 mini-batches\n",
    "      print('[%d, %5d] loss: %.3f' %(epoch + 1, cnt + 1, running_loss / mini))\n",
    "      epoch_loss.append(running_loss/mini)\n",
    "      running_loss = 0.0\n",
    "    cnt=cnt+1\n",
    "    \n",
    "    \n",
    "    if epoch % 1 == 0:\n",
    "      sparse_val += torch.sum(torch.sum(alphas>0.01,dim=1)).item()\n",
    "      for j in range (batch):\n",
    "        focus = torch.argmax(alphas[j])\n",
    "\n",
    "        if(alphas[j][focus] >= 0.5):\n",
    "          argmax_more_than_half +=1\n",
    "        else:\n",
    "          argmax_less_than_half +=1\n",
    "\n",
    "        if(focus == fore_idx[j] and predicted[j] == labels[j]):\n",
    "          focus_true_pred_true += 1\n",
    "\n",
    "        elif(focus != fore_idx[j] and predicted[j] == labels[j]):\n",
    "          focus_false_pred_true +=1\n",
    "\n",
    "        elif(focus == fore_idx[j] and predicted[j] != labels[j]):\n",
    "          focus_true_pred_false +=1\n",
    "\n",
    "        elif(focus != fore_idx[j] and predicted[j] != labels[j]):\n",
    "          focus_false_pred_false +=1\n",
    "\n",
    "\n",
    "  tr_loss.append(np.mean(epoch_loss))\n",
    "  if epoch % 1 == 0:\n",
    "    col1.append(epoch+1)\n",
    "    col2.append(argmax_more_than_half)\n",
    "    col3.append(argmax_less_than_half)\n",
    "    col4.append(focus_true_pred_true)\n",
    "    col5.append(focus_false_pred_true)\n",
    "    col6.append(focus_true_pred_false)\n",
    "    col7.append(focus_false_pred_false)\n",
    "    col14.append(sparse_val)\n",
    "  \n",
    "    #************************************************************************\n",
    "    #testing data set \n",
    "    focus_net.eval()\n",
    "    classify.eval() \n",
    "    with torch.no_grad():\n",
    "      focus_true_pred_true =0\n",
    "      focus_false_pred_true =0\n",
    "      focus_true_pred_false =0\n",
    "      focus_false_pred_false =0\n",
    "\n",
    "      argmax_more_than_half = 0\n",
    "      argmax_less_than_half =0\n",
    "      sparse_val = 0\n",
    "      for data in test_loader:\n",
    "        inputs, labels , fore_idx = data\n",
    "        inputs = inputs.double()\n",
    "        inputs, labels = inputs.to(\"cuda\"), labels.to(\"cuda\")\n",
    "        alphas, avg_images = focus_net(inputs)\n",
    "        outputs = classify(avg_images)\n",
    "        #outputs, alphas, avg_images = classify(inputs)\n",
    "        _, predicted = torch.max(outputs.data, 1)\n",
    "        sparse_val += torch.sum(torch.sum(alphas>0.01,dim=1)).item()\n",
    "        for j in range (batch):\n",
    "          focus = torch.argmax(alphas[j])\n",
    "\n",
    "          if(alphas[j][focus] >= 0.5):\n",
    "            argmax_more_than_half +=1\n",
    "          else:\n",
    "            argmax_less_than_half +=1\n",
    "\n",
    "          if(focus == fore_idx[j] and predicted[j] == labels[j]):\n",
    "            focus_true_pred_true += 1\n",
    "\n",
    "          elif(focus != fore_idx[j] and predicted[j] == labels[j]):\n",
    "            focus_false_pred_true +=1\n",
    "\n",
    "          elif(focus == fore_idx[j] and predicted[j] != labels[j]):\n",
    "            focus_true_pred_false +=1\n",
    "\n",
    "          elif(focus != fore_idx[j] and predicted[j] != labels[j]):\n",
    "            focus_false_pred_false +=1\n",
    "      \n",
    "    col8.append(argmax_more_than_half)\n",
    "    col9.append(argmax_less_than_half)\n",
    "    col10.append(focus_true_pred_true)\n",
    "    col11.append(focus_false_pred_true)\n",
    "    col12.append(focus_true_pred_false)\n",
    "    col13.append(focus_false_pred_false)\n",
    "    col15.append(sparse_val)\n",
    "  if(np.mean(epoch_loss) <= 0.05):\n",
    "    break;\n",
    "print('Finished Training') "
   ]
  },
  {
   "cell_type": "code",
   "execution_count": 27,
   "id": "e6caef99",
   "metadata": {
    "execution": {
     "iopub.execute_input": "2021-09-03T09:16:03.641893Z",
     "iopub.status.busy": "2021-09-03T09:16:03.641242Z",
     "iopub.status.idle": "2021-09-03T09:16:03.760457Z",
     "shell.execute_reply": "2021-09-03T09:16:03.759889Z",
     "shell.execute_reply.started": "2021-09-03T06:51:35.629374Z"
    },
    "id": "WIAJ3UZN8rPE",
    "papermill": {
     "duration": 0.183553,
     "end_time": "2021-09-03T09:16:03.760609",
     "exception": false,
     "start_time": "2021-09-03T09:16:03.577056",
     "status": "completed"
    },
    "tags": []
   },
   "outputs": [],
   "source": [
    "torch.save(focus_net.state_dict(),path+\"weights_focus_0.pt\")  \n",
    "torch.save(classify.state_dict(),path+\"weights_classify_0.pt\")"
   ]
  },
  {
   "cell_type": "code",
   "execution_count": 28,
   "id": "4435bf65",
   "metadata": {
    "execution": {
     "iopub.execute_input": "2021-09-03T09:16:03.884042Z",
     "iopub.status.busy": "2021-09-03T09:16:03.883358Z",
     "iopub.status.idle": "2021-09-03T09:16:03.887997Z",
     "shell.execute_reply": "2021-09-03T09:16:03.888516Z",
     "shell.execute_reply.started": "2021-09-03T06:51:35.764079Z"
    },
    "id": "2LgQKXW-8MH-",
    "papermill": {
     "duration": 0.068441,
     "end_time": "2021-09-03T09:16:03.888680",
     "exception": false,
     "start_time": "2021-09-03T09:16:03.820239",
     "status": "completed"
    },
    "tags": []
   },
   "outputs": [],
   "source": [
    "columns = [\"epochs\", \"argmax > 0.5\" ,\"argmax < 0.5\", \"focus_true_pred_true\", \"focus_false_pred_true\", \"focus_true_pred_false\", \"focus_false_pred_false\" ,\"sparse_val\"]"
   ]
  },
  {
   "cell_type": "code",
   "execution_count": 29,
   "id": "bd674410",
   "metadata": {
    "execution": {
     "iopub.execute_input": "2021-09-03T09:16:04.015158Z",
     "iopub.status.busy": "2021-09-03T09:16:04.012946Z",
     "iopub.status.idle": "2021-09-03T09:16:04.015991Z",
     "shell.execute_reply": "2021-09-03T09:16:04.016522Z",
     "shell.execute_reply.started": "2021-09-03T06:51:35.770638Z"
    },
    "id": "tSKphM888Y5o",
    "papermill": {
     "duration": 0.068992,
     "end_time": "2021-09-03T09:16:04.016685",
     "exception": false,
     "start_time": "2021-09-03T09:16:03.947693",
     "status": "completed"
    },
    "tags": []
   },
   "outputs": [],
   "source": [
    "df_train = pd.DataFrame()\n",
    "df_test = pd.DataFrame()"
   ]
  },
  {
   "cell_type": "code",
   "execution_count": 30,
   "id": "525e443f",
   "metadata": {
    "execution": {
     "iopub.execute_input": "2021-09-03T09:16:04.140313Z",
     "iopub.status.busy": "2021-09-03T09:16:04.139059Z",
     "iopub.status.idle": "2021-09-03T09:16:04.144968Z",
     "shell.execute_reply": "2021-09-03T09:16:04.144444Z",
     "shell.execute_reply.started": "2021-09-03T06:51:35.784191Z"
    },
    "id": "lLSfxf-zE_D1",
    "outputId": "6cc73d7a-7d81-4717-b408-62a37e00b418",
    "papermill": {
     "duration": 0.069577,
     "end_time": "2021-09-03T09:16:04.145106",
     "exception": false,
     "start_time": "2021-09-03T09:16:04.075529",
     "status": "completed"
    },
    "tags": []
   },
   "outputs": [
    {
     "data": {
      "text/plain": [
       "(16,\n",
       " [10000,\n",
       "  8474,\n",
       "  4600,\n",
       "  4222,\n",
       "  2882,\n",
       "  3343,\n",
       "  2469,\n",
       "  2137,\n",
       "  2173,\n",
       "  2300,\n",
       "  1909,\n",
       "  2348,\n",
       "  2183,\n",
       "  2042,\n",
       "  1749,\n",
       "  2496])"
      ]
     },
     "execution_count": 30,
     "metadata": {},
     "output_type": "execute_result"
    }
   ],
   "source": [
    "len(col1),col9"
   ]
  },
  {
   "cell_type": "code",
   "execution_count": 31,
   "id": "76b1cd95",
   "metadata": {
    "execution": {
     "iopub.execute_input": "2021-09-03T09:16:04.287647Z",
     "iopub.status.busy": "2021-09-03T09:16:04.286491Z",
     "iopub.status.idle": "2021-09-03T09:16:04.443566Z",
     "shell.execute_reply": "2021-09-03T09:16:04.444100Z",
     "shell.execute_reply.started": "2021-09-03T06:51:35.798546Z"
    },
    "id": "eBFPNm12uBR3",
    "outputId": "735aba44-f94b-4f5a-fba8-e954fe4c4c56",
    "papermill": {
     "duration": 0.239674,
     "end_time": "2021-09-03T09:16:04.444277",
     "exception": false,
     "start_time": "2021-09-03T09:16:04.204603",
     "status": "completed"
    },
    "tags": []
   },
   "outputs": [
    {
     "data": {
      "image/png": "[encoded data removed]",
      "text/plain": [
       "<Figure size 432x288 with 1 Axes>"
      ]
     },
     "metadata": {
      "needs_background": "light"
     },
     "output_type": "display_data"
    }
   ],
   "source": [
    "plt.plot(np.arange(1,epoch+2),tr_loss)\n",
    "plt.xlabel(\"epochs\", fontsize=14, fontweight = 'bold')\n",
    "plt.ylabel(\"Loss\", fontsize=14, fontweight = 'bold')\n",
    "plt.title(\"Train Loss\")\n",
    "#plt.grid()\n",
    "plt.show()"
   ]
  },
  {
   "cell_type": "code",
   "execution_count": 32,
   "id": "920f4c73",
   "metadata": {
    "execution": {
     "iopub.execute_input": "2021-09-03T09:16:04.570077Z",
     "iopub.status.busy": "2021-09-03T09:16:04.569343Z",
     "iopub.status.idle": "2021-09-03T09:16:04.573303Z",
     "shell.execute_reply": "2021-09-03T09:16:04.572640Z",
     "shell.execute_reply.started": "2021-09-03T06:51:35.929289Z"
    },
    "id": "dqTXDm-EuBR3",
    "papermill": {
     "duration": 0.068898,
     "end_time": "2021-09-03T09:16:04.573438",
     "exception": false,
     "start_time": "2021-09-03T09:16:04.504540",
     "status": "completed"
    },
    "tags": []
   },
   "outputs": [],
   "source": [
    "np.save(\"train_loss.npy\",{\"training_loss\":tr_loss})"
   ]
  },
  {
   "cell_type": "code",
   "execution_count": 33,
   "id": "7814fc5c",
   "metadata": {
    "execution": {
     "iopub.execute_input": "2021-09-03T09:16:04.722874Z",
     "iopub.status.busy": "2021-09-03T09:16:04.721800Z",
     "iopub.status.idle": "2021-09-03T09:16:04.725261Z",
     "shell.execute_reply": "2021-09-03T09:16:04.724704Z",
     "shell.execute_reply.started": "2021-09-03T06:51:35.93613Z"
    },
    "id": "FrWoEGXZ8cBO",
    "papermill": {
     "duration": 0.092874,
     "end_time": "2021-09-03T09:16:04.725396",
     "exception": false,
     "start_time": "2021-09-03T09:16:04.632522",
     "status": "completed"
    },
    "tags": []
   },
   "outputs": [],
   "source": [
    "df_train[columns[0]] = col1\n",
    "df_train[columns[1]] = col2\n",
    "df_train[columns[2]] = col3\n",
    "df_train[columns[3]] = col4\n",
    "df_train[columns[4]] = col5\n",
    "df_train[columns[5]] = col6\n",
    "df_train[columns[6]] = col7\n",
    "df_train[columns[7]] = col14\n",
    "\n",
    "df_test[columns[0]] = col1\n",
    "df_test[columns[1]] = col8\n",
    "df_test[columns[2]] = col9\n",
    "df_test[columns[3]] = col10\n",
    "df_test[columns[4]] = col11\n",
    "df_test[columns[5]] = col12\n",
    "df_test[columns[6]] = col13\n",
    "df_test[columns[7]] = col15"
   ]
  },
  {
   "cell_type": "code",
   "execution_count": 34,
   "id": "f1bbf789",
   "metadata": {
    "execution": {
     "iopub.execute_input": "2021-09-03T09:16:04.851578Z",
     "iopub.status.busy": "2021-09-03T09:16:04.850472Z",
     "iopub.status.idle": "2021-09-03T09:16:04.869868Z",
     "shell.execute_reply": "2021-09-03T09:16:04.870445Z",
     "shell.execute_reply.started": "2021-09-03T06:51:35.955883Z"
    },
    "id": "RGJoMFcK8eTe",
    "outputId": "cc5796ba-3e97-427e-8d8e-19adff2822c2",
    "papermill": {
     "duration": 0.085777,
     "end_time": "2021-09-03T09:16:04.870606",
     "exception": false,
     "start_time": "2021-09-03T09:16:04.784829",
     "status": "completed"
    },
    "tags": []
   },
   "outputs": [
    {
     "data": {
      "text/html": [
       "<div>\n",
       "<style scoped>\n",
       "    .dataframe tbody tr th:only-of-type {\n",
       "        vertical-align: middle;\n",
       "    }\n",
       "\n",
       "    .dataframe tbody tr th {\n",
       "        vertical-align: top;\n",
       "    }\n",
       "\n",
       "    .dataframe thead th {\n",
       "        text-align: right;\n",
       "    }\n",
       "</style>\n",
       "<table border=\"1\" class=\"dataframe\">\n",
       "  <thead>\n",
       "    <tr style=\"text-align: right;\">\n",
       "      <th></th>\n",
       "      <th>epochs</th>\n",
       "      <th>argmax &gt; 0.5</th>\n",
       "      <th>argmax &lt; 0.5</th>\n",
       "      <th>focus_true_pred_true</th>\n",
       "      <th>focus_false_pred_true</th>\n",
       "      <th>focus_true_pred_false</th>\n",
       "      <th>focus_false_pred_false</th>\n",
       "      <th>sparse_val</th>\n",
       "    </tr>\n",
       "  </thead>\n",
       "  <tbody>\n",
       "    <tr>\n",
       "      <th>0</th>\n",
       "      <td>0</td>\n",
       "      <td>0</td>\n",
       "      <td>30000</td>\n",
       "      <td>412</td>\n",
       "      <td>9728</td>\n",
       "      <td>1585</td>\n",
       "      <td>18275</td>\n",
       "      <td>269998</td>\n",
       "    </tr>\n",
       "    <tr>\n",
       "      <th>1</th>\n",
       "      <td>1</td>\n",
       "      <td>4014</td>\n",
       "      <td>25986</td>\n",
       "      <td>3815</td>\n",
       "      <td>8634</td>\n",
       "      <td>3412</td>\n",
       "      <td>14139</td>\n",
       "      <td>244437</td>\n",
       "    </tr>\n",
       "    <tr>\n",
       "      <th>2</th>\n",
       "      <td>2</td>\n",
       "      <td>7817</td>\n",
       "      <td>22183</td>\n",
       "      <td>10815</td>\n",
       "      <td>7241</td>\n",
       "      <td>3499</td>\n",
       "      <td>8445</td>\n",
       "      <td>244390</td>\n",
       "    </tr>\n",
       "    <tr>\n",
       "      <th>3</th>\n",
       "      <td>3</td>\n",
       "      <td>16017</td>\n",
       "      <td>13983</td>\n",
       "      <td>17047</td>\n",
       "      <td>6032</td>\n",
       "      <td>2507</td>\n",
       "      <td>4414</td>\n",
       "      <td>200048</td>\n",
       "    </tr>\n",
       "    <tr>\n",
       "      <th>4</th>\n",
       "      <td>4</td>\n",
       "      <td>19590</td>\n",
       "      <td>10410</td>\n",
       "      <td>20172</td>\n",
       "      <td>5069</td>\n",
       "      <td>1875</td>\n",
       "      <td>2884</td>\n",
       "      <td>172323</td>\n",
       "    </tr>\n",
       "    <tr>\n",
       "      <th>5</th>\n",
       "      <td>5</td>\n",
       "      <td>21551</td>\n",
       "      <td>8449</td>\n",
       "      <td>21681</td>\n",
       "      <td>4845</td>\n",
       "      <td>1380</td>\n",
       "      <td>2094</td>\n",
       "      <td>151798</td>\n",
       "    </tr>\n",
       "    <tr>\n",
       "      <th>6</th>\n",
       "      <td>6</td>\n",
       "      <td>22266</td>\n",
       "      <td>7734</td>\n",
       "      <td>22860</td>\n",
       "      <td>4442</td>\n",
       "      <td>1119</td>\n",
       "      <td>1579</td>\n",
       "      <td>145133</td>\n",
       "    </tr>\n",
       "    <tr>\n",
       "      <th>7</th>\n",
       "      <td>7</td>\n",
       "      <td>23185</td>\n",
       "      <td>6815</td>\n",
       "      <td>23751</td>\n",
       "      <td>4259</td>\n",
       "      <td>814</td>\n",
       "      <td>1176</td>\n",
       "      <td>140130</td>\n",
       "    </tr>\n",
       "    <tr>\n",
       "      <th>8</th>\n",
       "      <td>8</td>\n",
       "      <td>23331</td>\n",
       "      <td>6669</td>\n",
       "      <td>24412</td>\n",
       "      <td>3925</td>\n",
       "      <td>674</td>\n",
       "      <td>989</td>\n",
       "      <td>141644</td>\n",
       "    </tr>\n",
       "    <tr>\n",
       "      <th>9</th>\n",
       "      <td>9</td>\n",
       "      <td>23067</td>\n",
       "      <td>6933</td>\n",
       "      <td>24799</td>\n",
       "      <td>3924</td>\n",
       "      <td>526</td>\n",
       "      <td>751</td>\n",
       "      <td>142738</td>\n",
       "    </tr>\n",
       "    <tr>\n",
       "      <th>10</th>\n",
       "      <td>10</td>\n",
       "      <td>23737</td>\n",
       "      <td>6263</td>\n",
       "      <td>25204</td>\n",
       "      <td>3818</td>\n",
       "      <td>405</td>\n",
       "      <td>573</td>\n",
       "      <td>137316</td>\n",
       "    </tr>\n",
       "    <tr>\n",
       "      <th>11</th>\n",
       "      <td>11</td>\n",
       "      <td>24133</td>\n",
       "      <td>5867</td>\n",
       "      <td>25308</td>\n",
       "      <td>3788</td>\n",
       "      <td>350</td>\n",
       "      <td>554</td>\n",
       "      <td>129945</td>\n",
       "    </tr>\n",
       "    <tr>\n",
       "      <th>12</th>\n",
       "      <td>12</td>\n",
       "      <td>23923</td>\n",
       "      <td>6077</td>\n",
       "      <td>25481</td>\n",
       "      <td>3738</td>\n",
       "      <td>315</td>\n",
       "      <td>466</td>\n",
       "      <td>134064</td>\n",
       "    </tr>\n",
       "    <tr>\n",
       "      <th>13</th>\n",
       "      <td>13</td>\n",
       "      <td>23565</td>\n",
       "      <td>6435</td>\n",
       "      <td>25444</td>\n",
       "      <td>3815</td>\n",
       "      <td>315</td>\n",
       "      <td>426</td>\n",
       "      <td>137092</td>\n",
       "    </tr>\n",
       "    <tr>\n",
       "      <th>14</th>\n",
       "      <td>14</td>\n",
       "      <td>24496</td>\n",
       "      <td>5504</td>\n",
       "      <td>25847</td>\n",
       "      <td>3607</td>\n",
       "      <td>216</td>\n",
       "      <td>330</td>\n",
       "      <td>127279</td>\n",
       "    </tr>\n",
       "    <tr>\n",
       "      <th>15</th>\n",
       "      <td>15</td>\n",
       "      <td>24283</td>\n",
       "      <td>5717</td>\n",
       "      <td>26044</td>\n",
       "      <td>3459</td>\n",
       "      <td>188</td>\n",
       "      <td>309</td>\n",
       "      <td>132206</td>\n",
       "    </tr>\n",
       "  </tbody>\n",
       "</table>\n",
       "</div>"
      ],
      "text/plain": [
       "    epochs  argmax > 0.5  argmax < 0.5  focus_true_pred_true  \\\n",
       "0        0             0         30000                   412   \n",
       "1        1          4014         25986                  3815   \n",
       "2        2          7817         22183                 10815   \n",
       "3        3         16017         13983                 17047   \n",
       "4        4         19590         10410                 20172   \n",
       "5        5         21551          8449                 21681   \n",
       "6        6         22266          7734                 22860   \n",
       "7        7         23185          6815                 23751   \n",
       "8        8         23331          6669                 24412   \n",
       "9        9         23067          6933                 24799   \n",
       "10      10         23737          6263                 25204   \n",
       "11      11         24133          5867                 25308   \n",
       "12      12         23923          6077                 25481   \n",
       "13      13         23565          6435                 25444   \n",
       "14      14         24496          5504                 25847   \n",
       "15      15         24283          5717                 26044   \n",
       "\n",
       "    focus_false_pred_true  focus_true_pred_false  focus_false_pred_false  \\\n",
       "0                    9728                   1585                   18275   \n",
       "1                    8634                   3412                   14139   \n",
       "2                    7241                   3499                    8445   \n",
       "3                    6032                   2507                    4414   \n",
       "4                    5069                   1875                    2884   \n",
       "5                    4845                   1380                    2094   \n",
       "6                    4442                   1119                    1579   \n",
       "7                    4259                    814                    1176   \n",
       "8                    3925                    674                     989   \n",
       "9                    3924                    526                     751   \n",
       "10                   3818                    405                     573   \n",
       "11                   3788                    350                     554   \n",
       "12                   3738                    315                     466   \n",
       "13                   3815                    315                     426   \n",
       "14                   3607                    216                     330   \n",
       "15                   3459                    188                     309   \n",
       "\n",
       "    sparse_val  \n",
       "0       269998  \n",
       "1       244437  \n",
       "2       244390  \n",
       "3       200048  \n",
       "4       172323  \n",
       "5       151798  \n",
       "6       145133  \n",
       "7       140130  \n",
       "8       141644  \n",
       "9       142738  \n",
       "10      137316  \n",
       "11      129945  \n",
       "12      134064  \n",
       "13      137092  \n",
       "14      127279  \n",
       "15      132206  "
      ]
     },
     "execution_count": 34,
     "metadata": {},
     "output_type": "execute_result"
    }
   ],
   "source": [
    "df_train"
   ]
  },
  {
   "cell_type": "code",
   "execution_count": 35,
   "id": "7abe7862",
   "metadata": {
    "execution": {
     "iopub.execute_input": "2021-09-03T09:16:04.998880Z",
     "iopub.status.busy": "2021-09-03T09:16:04.997916Z",
     "iopub.status.idle": "2021-09-03T09:16:05.006458Z",
     "shell.execute_reply": "2021-09-03T09:16:05.005819Z",
     "shell.execute_reply.started": "2021-09-03T06:51:35.97796Z"
    },
    "id": "cqrSQSNemDNp",
    "papermill": {
     "duration": 0.07347,
     "end_time": "2021-09-03T09:16:05.006608",
     "exception": false,
     "start_time": "2021-09-03T09:16:04.933138",
     "status": "completed"
    },
    "tags": []
   },
   "outputs": [],
   "source": [
    "df_train.to_csv(path+\"_train.csv\",index=False)"
   ]
  },
  {
   "cell_type": "code",
   "execution_count": 36,
   "id": "5733d62b",
   "metadata": {
    "execution": {
     "iopub.execute_input": "2021-09-03T09:16:05.146880Z",
     "iopub.status.busy": "2021-09-03T09:16:05.145799Z",
     "iopub.status.idle": "2021-09-03T09:16:05.340502Z",
     "shell.execute_reply": "2021-09-03T09:16:05.341072Z",
     "shell.execute_reply.started": "2021-09-03T06:51:35.987463Z"
    },
    "id": "Ei9HVQBZ8gn4",
    "outputId": "49460fbd-6e36-4fa5-dd2d-7d7937fb5089",
    "papermill": {
     "duration": 0.273394,
     "end_time": "2021-09-03T09:16:05.341293",
     "exception": false,
     "start_time": "2021-09-03T09:16:05.067899",
     "status": "completed"
    },
    "tags": []
   },
   "outputs": [
    {
     "data": {
      "image/png": "[encoded data removed]",
      "text/plain": [
       "<Figure size 432x288 with 1 Axes>"
      ]
     },
     "metadata": {
      "needs_background": "light"
     },
     "output_type": "display_data"
    }
   ],
   "source": [
    "# plt.figure(12,12)\n",
    "plt.plot(col1,col2, label='argmax > 0.5')\n",
    "plt.plot(col1,col3, label='argmax < 0.5')\n",
    "\n",
    "plt.legend(loc='center left', bbox_to_anchor=(1, 0.5))\n",
    "plt.xlabel(\"epochs\")\n",
    "plt.ylabel(\"training data\")\n",
    "plt.title(\"On Training set\")\n",
    "plt.show()\n",
    "\n"
   ]
  },
  {
   "cell_type": "code",
   "execution_count": 37,
   "id": "20815cb2",
   "metadata": {
    "execution": {
     "iopub.execute_input": "2021-09-03T09:16:05.503722Z",
     "iopub.status.busy": "2021-09-03T09:16:05.502582Z",
     "iopub.status.idle": "2021-09-03T09:16:06.137526Z",
     "shell.execute_reply": "2021-09-03T09:16:06.138075Z",
     "shell.execute_reply.started": "2021-09-03T06:51:36.16041Z"
    },
    "id": "RcScxsHnuBR5",
    "outputId": "1c5544c8-2475-40f2-fc71-54d061b7d133",
    "papermill": {
     "duration": 0.727762,
     "end_time": "2021-09-03T09:16:06.138317",
     "exception": false,
     "start_time": "2021-09-03T09:16:05.410555",
     "status": "completed"
    },
    "tags": []
   },
   "outputs": [
    {
     "data": {
      "image/png": "[encoded data removed]",
      "text/plain": [
       "<Figure size 432x360 with 1 Axes>"
      ]
     },
     "metadata": {
      "needs_background": "light"
     },
     "output_type": "display_data"
    }
   ],
   "source": [
    "plt.figure(figsize=(6,5))\n",
    "plt.plot(col1,np.array(col4)/300, label =\"FTPT \")\n",
    "plt.plot(col1,np.array(col5)/300, label =\"FFPT \")\n",
    "plt.plot(col1,np.array(col6)/300, label =\"FTPF \")\n",
    "plt.plot(col1,np.array(col7)/300, label =\"FFPF \")\n",
    "plt.title(\"On Training set\")\n",
    "#plt.legend(loc='center left', bbox_to_anchor=(1, 0.5))\n",
    "plt.xlabel(\"epochs\", fontsize=14, fontweight = 'bold')\n",
    "plt.ylabel(\"percentage train data\", fontsize=14, fontweight = 'bold')\n",
    "# plt.xlabel(\"epochs\")\n",
    "# plt.ylabel(\"training data\")\n",
    "plt.legend()\n",
    "\n",
    "plt.savefig(path + \"_train.png\",bbox_inches=\"tight\")\n",
    "plt.savefig(path + \"_train.pdf\",bbox_inches=\"tight\")\n",
    "plt.grid()\n",
    "plt.show()"
   ]
  },
  {
   "cell_type": "code",
   "execution_count": 38,
   "id": "21e02aab",
   "metadata": {
    "execution": {
     "iopub.execute_input": "2021-09-03T09:16:06.301676Z",
     "iopub.status.busy": "2021-09-03T09:16:06.300292Z",
     "iopub.status.idle": "2021-09-03T09:16:06.744617Z",
     "shell.execute_reply": "2021-09-03T09:16:06.745187Z",
     "shell.execute_reply.started": "2021-09-03T06:51:36.715504Z"
    },
    "id": "eyHnBFJxuBR5",
    "outputId": "df42ed8f-f4dd-4160-9e03-8ceaedc7b9ab",
    "papermill": {
     "duration": 0.543578,
     "end_time": "2021-09-03T09:16:06.745364",
     "exception": false,
     "start_time": "2021-09-03T09:16:06.201786",
     "status": "completed"
    },
    "tags": []
   },
   "outputs": [
    {
     "data": {
      "image/png": "[encoded data removed]",
      "text/plain": [
       "<Figure size 432x360 with 1 Axes>"
      ]
     },
     "metadata": {
      "needs_background": "light"
     },
     "output_type": "display_data"
    }
   ],
   "source": [
    "plt.figure(figsize=(6,5))\n",
    "plt.plot(col1,np.array(col14)/30000, label =\"sparsity_val\")\n",
    "\n",
    "plt.title(\"On Training set\")\n",
    "#plt.legend(loc='center left', bbox_to_anchor=(1, 0.5))\n",
    "plt.xlabel(\"epochs\", fontsize=14, fontweight = 'bold')\n",
    "plt.ylabel(\"average sparsity value\", fontsize=14, fontweight = 'bold')\n",
    "# plt.xlabel(\"epochs\")\n",
    "# plt.ylabel(\"sparsity_value\")\n",
    "\n",
    "plt.savefig(path + \"sparsity_train.png\",bbox_inches=\"tight\")\n",
    "plt.savefig(path + \"sparsity_train.pdf\",bbox_inches=\"tight\")\n",
    "plt.grid()\n",
    "plt.show()"
   ]
  },
  {
   "cell_type": "code",
   "execution_count": 39,
   "id": "b1991c30",
   "metadata": {
    "execution": {
     "iopub.execute_input": "2021-09-03T09:16:06.887586Z",
     "iopub.status.busy": "2021-09-03T09:16:06.886530Z",
     "iopub.status.idle": "2021-09-03T09:16:06.892219Z",
     "shell.execute_reply": "2021-09-03T09:16:06.892780Z",
     "shell.execute_reply.started": "2021-09-03T06:51:37.099639Z"
    },
    "id": "_QKYVO8i8ivA",
    "outputId": "0d8b1ea0-efd0-4bdd-84a7-201356e5f823",
    "papermill": {
     "duration": 0.083611,
     "end_time": "2021-09-03T09:16:06.892933",
     "exception": false,
     "start_time": "2021-09-03T09:16:06.809322",
     "status": "completed"
    },
    "tags": []
   },
   "outputs": [
    {
     "data": {
      "text/html": [
       "<div>\n",
       "<style scoped>\n",
       "    .dataframe tbody tr th:only-of-type {\n",
       "        vertical-align: middle;\n",
       "    }\n",
       "\n",
       "    .dataframe tbody tr th {\n",
       "        vertical-align: top;\n",
       "    }\n",
       "\n",
       "    .dataframe thead th {\n",
       "        text-align: right;\n",
       "    }\n",
       "</style>\n",
       "<table border=\"1\" class=\"dataframe\">\n",
       "  <thead>\n",
       "    <tr style=\"text-align: right;\">\n",
       "      <th></th>\n",
       "      <th>epochs</th>\n",
       "      <th>argmax &gt; 0.5</th>\n",
       "      <th>argmax &lt; 0.5</th>\n",
       "      <th>focus_true_pred_true</th>\n",
       "      <th>focus_false_pred_true</th>\n",
       "      <th>focus_true_pred_false</th>\n",
       "      <th>focus_false_pred_false</th>\n",
       "      <th>sparse_val</th>\n",
       "    </tr>\n",
       "  </thead>\n",
       "  <tbody>\n",
       "    <tr>\n",
       "      <th>0</th>\n",
       "      <td>0</td>\n",
       "      <td>0</td>\n",
       "      <td>10000</td>\n",
       "      <td>138</td>\n",
       "      <td>3217</td>\n",
       "      <td>514</td>\n",
       "      <td>6131</td>\n",
       "      <td>90000</td>\n",
       "    </tr>\n",
       "    <tr>\n",
       "      <th>1</th>\n",
       "      <td>1</td>\n",
       "      <td>1526</td>\n",
       "      <td>8474</td>\n",
       "      <td>2587</td>\n",
       "      <td>2627</td>\n",
       "      <td>1461</td>\n",
       "      <td>3325</td>\n",
       "      <td>88511</td>\n",
       "    </tr>\n",
       "    <tr>\n",
       "      <th>2</th>\n",
       "      <td>2</td>\n",
       "      <td>5400</td>\n",
       "      <td>4600</td>\n",
       "      <td>5059</td>\n",
       "      <td>1997</td>\n",
       "      <td>1068</td>\n",
       "      <td>1876</td>\n",
       "      <td>71555</td>\n",
       "    </tr>\n",
       "    <tr>\n",
       "      <th>3</th>\n",
       "      <td>3</td>\n",
       "      <td>5778</td>\n",
       "      <td>4222</td>\n",
       "      <td>6397</td>\n",
       "      <td>1647</td>\n",
       "      <td>800</td>\n",
       "      <td>1156</td>\n",
       "      <td>65656</td>\n",
       "    </tr>\n",
       "    <tr>\n",
       "      <th>4</th>\n",
       "      <td>4</td>\n",
       "      <td>7118</td>\n",
       "      <td>2882</td>\n",
       "      <td>7051</td>\n",
       "      <td>1588</td>\n",
       "      <td>552</td>\n",
       "      <td>809</td>\n",
       "      <td>54726</td>\n",
       "    </tr>\n",
       "    <tr>\n",
       "      <th>5</th>\n",
       "      <td>5</td>\n",
       "      <td>6657</td>\n",
       "      <td>3343</td>\n",
       "      <td>7289</td>\n",
       "      <td>1534</td>\n",
       "      <td>465</td>\n",
       "      <td>712</td>\n",
       "      <td>57046</td>\n",
       "    </tr>\n",
       "    <tr>\n",
       "      <th>6</th>\n",
       "      <td>6</td>\n",
       "      <td>7531</td>\n",
       "      <td>2469</td>\n",
       "      <td>7517</td>\n",
       "      <td>1472</td>\n",
       "      <td>521</td>\n",
       "      <td>490</td>\n",
       "      <td>46701</td>\n",
       "    </tr>\n",
       "    <tr>\n",
       "      <th>7</th>\n",
       "      <td>7</td>\n",
       "      <td>7863</td>\n",
       "      <td>2137</td>\n",
       "      <td>7958</td>\n",
       "      <td>1237</td>\n",
       "      <td>365</td>\n",
       "      <td>440</td>\n",
       "      <td>46696</td>\n",
       "    </tr>\n",
       "    <tr>\n",
       "      <th>8</th>\n",
       "      <td>8</td>\n",
       "      <td>7827</td>\n",
       "      <td>2173</td>\n",
       "      <td>8140</td>\n",
       "      <td>1174</td>\n",
       "      <td>299</td>\n",
       "      <td>387</td>\n",
       "      <td>47840</td>\n",
       "    </tr>\n",
       "    <tr>\n",
       "      <th>9</th>\n",
       "      <td>9</td>\n",
       "      <td>7700</td>\n",
       "      <td>2300</td>\n",
       "      <td>8178</td>\n",
       "      <td>1156</td>\n",
       "      <td>263</td>\n",
       "      <td>403</td>\n",
       "      <td>49074</td>\n",
       "    </tr>\n",
       "    <tr>\n",
       "      <th>10</th>\n",
       "      <td>10</td>\n",
       "      <td>8091</td>\n",
       "      <td>1909</td>\n",
       "      <td>8227</td>\n",
       "      <td>1096</td>\n",
       "      <td>272</td>\n",
       "      <td>405</td>\n",
       "      <td>43539</td>\n",
       "    </tr>\n",
       "    <tr>\n",
       "      <th>11</th>\n",
       "      <td>11</td>\n",
       "      <td>7652</td>\n",
       "      <td>2348</td>\n",
       "      <td>8255</td>\n",
       "      <td>1172</td>\n",
       "      <td>230</td>\n",
       "      <td>343</td>\n",
       "      <td>49147</td>\n",
       "    </tr>\n",
       "    <tr>\n",
       "      <th>12</th>\n",
       "      <td>12</td>\n",
       "      <td>7817</td>\n",
       "      <td>2183</td>\n",
       "      <td>7996</td>\n",
       "      <td>1271</td>\n",
       "      <td>250</td>\n",
       "      <td>483</td>\n",
       "      <td>43434</td>\n",
       "    </tr>\n",
       "    <tr>\n",
       "      <th>13</th>\n",
       "      <td>13</td>\n",
       "      <td>7958</td>\n",
       "      <td>2042</td>\n",
       "      <td>8278</td>\n",
       "      <td>1141</td>\n",
       "      <td>227</td>\n",
       "      <td>354</td>\n",
       "      <td>45337</td>\n",
       "    </tr>\n",
       "    <tr>\n",
       "      <th>14</th>\n",
       "      <td>14</td>\n",
       "      <td>8251</td>\n",
       "      <td>1749</td>\n",
       "      <td>8420</td>\n",
       "      <td>1048</td>\n",
       "      <td>175</td>\n",
       "      <td>357</td>\n",
       "      <td>42135</td>\n",
       "    </tr>\n",
       "    <tr>\n",
       "      <th>15</th>\n",
       "      <td>15</td>\n",
       "      <td>7504</td>\n",
       "      <td>2496</td>\n",
       "      <td>8365</td>\n",
       "      <td>1076</td>\n",
       "      <td>268</td>\n",
       "      <td>291</td>\n",
       "      <td>50714</td>\n",
       "    </tr>\n",
       "  </tbody>\n",
       "</table>\n",
       "</div>"
      ],
      "text/plain": [
       "    epochs  argmax > 0.5  argmax < 0.5  focus_true_pred_true  \\\n",
       "0        0             0         10000                   138   \n",
       "1        1          1526          8474                  2587   \n",
       "2        2          5400          4600                  5059   \n",
       "3        3          5778          4222                  6397   \n",
       "4        4          7118          2882                  7051   \n",
       "5        5          6657          3343                  7289   \n",
       "6        6          7531          2469                  7517   \n",
       "7        7          7863          2137                  7958   \n",
       "8        8          7827          2173                  8140   \n",
       "9        9          7700          2300                  8178   \n",
       "10      10          8091          1909                  8227   \n",
       "11      11          7652          2348                  8255   \n",
       "12      12          7817          2183                  7996   \n",
       "13      13          7958          2042                  8278   \n",
       "14      14          8251          1749                  8420   \n",
       "15      15          7504          2496                  8365   \n",
       "\n",
       "    focus_false_pred_true  focus_true_pred_false  focus_false_pred_false  \\\n",
       "0                    3217                    514                    6131   \n",
       "1                    2627                   1461                    3325   \n",
       "2                    1997                   1068                    1876   \n",
       "3                    1647                    800                    1156   \n",
       "4                    1588                    552                     809   \n",
       "5                    1534                    465                     712   \n",
       "6                    1472                    521                     490   \n",
       "7                    1237                    365                     440   \n",
       "8                    1174                    299                     387   \n",
       "9                    1156                    263                     403   \n",
       "10                   1096                    272                     405   \n",
       "11                   1172                    230                     343   \n",
       "12                   1271                    250                     483   \n",
       "13                   1141                    227                     354   \n",
       "14                   1048                    175                     357   \n",
       "15                   1076                    268                     291   \n",
       "\n",
       "    sparse_val  \n",
       "0        90000  \n",
       "1        88511  \n",
       "2        71555  \n",
       "3        65656  \n",
       "4        54726  \n",
       "5        57046  \n",
       "6        46701  \n",
       "7        46696  \n",
       "8        47840  \n",
       "9        49074  \n",
       "10       43539  \n",
       "11       49147  \n",
       "12       43434  \n",
       "13       45337  \n",
       "14       42135  \n",
       "15       50714  "
      ]
     },
     "execution_count": 39,
     "metadata": {},
     "output_type": "execute_result"
    }
   ],
   "source": [
    "df_test"
   ]
  },
  {
   "cell_type": "code",
   "execution_count": 40,
   "id": "4e4c732d",
   "metadata": {
    "execution": {
     "iopub.execute_input": "2021-09-03T09:16:07.038011Z",
     "iopub.status.busy": "2021-09-03T09:16:07.036924Z",
     "iopub.status.idle": "2021-09-03T09:16:07.042398Z",
     "shell.execute_reply": "2021-09-03T09:16:07.041680Z",
     "shell.execute_reply.started": "2021-09-03T06:51:37.11194Z"
    },
    "id": "0oGTwRsdmOe4",
    "papermill": {
     "duration": 0.083665,
     "end_time": "2021-09-03T09:16:07.042549",
     "exception": false,
     "start_time": "2021-09-03T09:16:06.958884",
     "status": "completed"
    },
    "tags": []
   },
   "outputs": [],
   "source": [
    "df_test.to_csv(path+\"_test.csv\")"
   ]
  },
  {
   "cell_type": "code",
   "execution_count": 41,
   "id": "f1864d82",
   "metadata": {
    "execution": {
     "iopub.execute_input": "2021-09-03T09:16:07.200904Z",
     "iopub.status.busy": "2021-09-03T09:16:07.199815Z",
     "iopub.status.idle": "2021-09-03T09:16:07.376245Z",
     "shell.execute_reply": "2021-09-03T09:16:07.376832Z",
     "shell.execute_reply.started": "2021-09-03T06:51:37.123742Z"
    },
    "id": "aRlpgnjy8k1n",
    "outputId": "1d976d4b-80f4-4c20-c9ed-ad76a972c79f",
    "papermill": {
     "duration": 0.267258,
     "end_time": "2021-09-03T09:16:07.377011",
     "exception": false,
     "start_time": "2021-09-03T09:16:07.109753",
     "status": "completed"
    },
    "tags": []
   },
   "outputs": [
    {
     "data": {
      "image/png": "[encoded data removed]",
      "text/plain": [
       "<Figure size 432x288 with 1 Axes>"
      ]
     },
     "metadata": {
      "needs_background": "light"
     },
     "output_type": "display_data"
    }
   ],
   "source": [
    "# plt.figure(12,12)\n",
    "plt.plot(col1,col8, label='argmax > 0.5')\n",
    "plt.plot(col1,col9, label='argmax < 0.5')\n",
    "\n",
    "plt.legend(loc='center left', bbox_to_anchor=(1, 0.5))\n",
    "plt.xlabel(\"epochs\")\n",
    "plt.ylabel(\"Testing data\")\n",
    "plt.title(\"On Testing set\")\n",
    "plt.show()\n",
    "\n"
   ]
  },
  {
   "cell_type": "code",
   "execution_count": 42,
   "id": "783ae784",
   "metadata": {
    "execution": {
     "iopub.execute_input": "2021-09-03T09:16:07.562079Z",
     "iopub.status.busy": "2021-09-03T09:16:07.553456Z",
     "iopub.status.idle": "2021-09-03T09:16:08.141831Z",
     "shell.execute_reply": "2021-09-03T09:16:08.140856Z",
     "shell.execute_reply.started": "2021-09-03T06:51:37.363172Z"
    },
    "id": "C0XPoT7FuBR6",
    "outputId": "a3f0db62-71a8-498a-d72e-c2afc8d8739b",
    "papermill": {
     "duration": 0.696777,
     "end_time": "2021-09-03T09:16:08.141997",
     "exception": false,
     "start_time": "2021-09-03T09:16:07.445220",
     "status": "completed"
    },
    "tags": []
   },
   "outputs": [
    {
     "data": {
      "image/png": "[encoded data removed]",
      "text/plain": [
       "<Figure size 432x360 with 1 Axes>"
      ]
     },
     "metadata": {
      "needs_background": "light"
     },
     "output_type": "display_data"
    }
   ],
   "source": [
    "plt.figure(figsize=(6,5))\n",
    "plt.plot(col1,np.array(col10)/100, label =\"FTPT \")\n",
    "plt.plot(col1,np.array(col11)/100, label =\"FFPT \")\n",
    "plt.plot(col1,np.array(col12)/100, label =\"FTPF \")\n",
    "plt.plot(col1,np.array(col13)/100, label =\"FFPF \")\n",
    "plt.title(\"On Testing set\")\n",
    "\n",
    "#plt.legend(loc='center left', bbox_to_anchor=(1, 0.5))\n",
    "plt.xlabel(\"epochs\", fontsize=14, fontweight = 'bold')\n",
    "plt.ylabel(\"percentage test data\", fontsize=14, fontweight = 'bold')\n",
    "# plt.xlabel(\"epochs\")\n",
    "# plt.ylabel(\"training data\")\n",
    "plt.legend()\n",
    "\n",
    "#plt.legend(loc='center left', bbox_to_anchor=(1, 0.5))\n",
    "plt.xlabel(\"epochs\")\n",
    "# plt.ylabel(\"Testing data\")\n",
    "plt.savefig(path + \"_test.png\",bbox_inches=\"tight\")\n",
    "plt.savefig(path + \"_test.pdf\",bbox_inches=\"tight\")\n",
    "plt.grid()\n",
    "plt.show()"
   ]
  },
  {
   "cell_type": "code",
   "execution_count": 43,
   "id": "e80fc71c",
   "metadata": {
    "execution": {
     "iopub.execute_input": "2021-09-03T09:16:08.317707Z",
     "iopub.status.busy": "2021-09-03T09:16:08.308953Z",
     "iopub.status.idle": "2021-09-03T09:16:09.069813Z",
     "shell.execute_reply": "2021-09-03T09:16:09.068629Z",
     "shell.execute_reply.started": "2021-09-03T06:51:38.000329Z"
    },
    "id": "5oh4o6NfuBR7",
    "outputId": "7b6b839a-dbc8-4b26-967c-1c2743f16774",
    "papermill": {
     "duration": 0.859753,
     "end_time": "2021-09-03T09:16:09.070051",
     "exception": false,
     "start_time": "2021-09-03T09:16:08.210298",
     "status": "completed"
    },
    "tags": []
   },
   "outputs": [
    {
     "data": {
      "image/png": "[encoded data removed]",
      "text/plain": [
       "<Figure size 432x360 with 1 Axes>"
      ]
     },
     "metadata": {
      "needs_background": "light"
     },
     "output_type": "display_data"
    }
   ],
   "source": [
    "plt.figure(figsize=(6,5))\n",
    "plt.plot(col1,np.array(col15)/10000, label =\"sparsity_val\")\n",
    "\n",
    "plt.title(\"On Testing set\")\n",
    "#plt.legend(loc='center left', bbox_to_anchor=(1, 0.5))\n",
    "plt.xlabel(\"epochs\", fontsize=14, fontweight = 'bold')\n",
    "plt.ylabel(\"average sparsity value\", fontsize=14, fontweight = 'bold')\n",
    "plt.grid()\n",
    "\n",
    "plt.savefig(path + \"sparsity_test.png\",bbox_inches=\"tight\")\n",
    "plt.savefig(path + \"sparsity_test.pdf\",bbox_inches=\"tight\")\n",
    "plt.show()"
   ]
  },
  {
   "cell_type": "code",
   "execution_count": 44,
   "id": "9d22b1ff",
   "metadata": {
    "execution": {
     "iopub.execute_input": "2021-09-03T09:16:09.224063Z",
     "iopub.status.busy": "2021-09-03T09:16:09.222945Z",
     "iopub.status.idle": "2021-09-03T09:16:36.908163Z",
     "shell.execute_reply": "2021-09-03T09:16:36.907605Z",
     "shell.execute_reply.started": "2021-09-03T06:51:38.418435Z"
    },
    "id": "mSE5PCw2tyNO",
    "outputId": "59f0f59b-8414-43b3-cb1e-aa4b7d8a858b",
    "papermill": {
     "duration": 27.769392,
     "end_time": "2021-09-03T09:16:36.908332",
     "exception": false,
     "start_time": "2021-09-03T09:16:09.138940",
     "status": "completed"
    },
    "tags": []
   },
   "outputs": [
    {
     "name": "stdout",
     "output_type": "stream",
     "text": [
      "Accuracy of the network on the 30000 train images: 98.356667 %\n",
      "total correct 29507\n",
      "total train set images 30000\n",
      "focus_true_pred_true 26309 =============> FTPT : 87.696667 %\n",
      "focus_false_pred_true 3198 =============> FFPT : 10.660000 %\n",
      "focus_true_pred_false 306 =============> FTPF : 1.020000 %\n",
      "focus_false_pred_false 187 =============> FFPF : 0.623333 %\n",
      "Sparsity_Value 147764 =============> AVG Sparsity : 4.925467 \n",
      "argmax_more_than_half ==================>  23360\n",
      "argmax_less_than_half ==================>  6640\n",
      "30000\n",
      "====================================================================================================\n"
     ]
    }
   ],
   "source": [
    "correct = 0\n",
    "total = 0\n",
    "count = 0\n",
    "flag = 1\n",
    "focus_true_pred_true =0\n",
    "focus_false_pred_true =0\n",
    "focus_true_pred_false =0\n",
    "focus_false_pred_false =0\n",
    "\n",
    "argmax_more_than_half = 0\n",
    "argmax_less_than_half =0\n",
    "sparse_val = 0\n",
    "focus_net.eval()\n",
    "classify.eval()\n",
    "with torch.no_grad():\n",
    "  for data in train_loader:\n",
    "    inputs, labels , fore_idx = data\n",
    "    inputs = inputs.double()\n",
    "    inputs, labels , fore_idx = inputs.to(\"cuda\"),labels.to(\"cuda\"), fore_idx.to(\"cuda\")\n",
    "    alphas, avg_images = focus_net(inputs)\n",
    "    outputs = classify(avg_images)\n",
    "\n",
    "    _, predicted = torch.max(outputs.data, 1)\n",
    "    sparse_val += torch.sum(torch.sum(alphas>0.01,dim=1)).item()\n",
    "    for j in range(labels.size(0)):\n",
    "      count += 1\n",
    "      focus = torch.argmax(alphas[j])\n",
    "      if alphas[j][focus] >= 0.5 :\n",
    "        argmax_more_than_half += 1\n",
    "      else:\n",
    "        argmax_less_than_half += 1\n",
    "\n",
    "      if(focus == fore_idx[j] and predicted[j] == labels[j]):\n",
    "          focus_true_pred_true += 1\n",
    "      elif(focus != fore_idx[j] and predicted[j] == labels[j]):\n",
    "        focus_false_pred_true += 1\n",
    "      elif(focus == fore_idx[j] and predicted[j] != labels[j]):\n",
    "        focus_true_pred_false += 1\n",
    "      elif(focus != fore_idx[j] and predicted[j] != labels[j]):\n",
    "        focus_false_pred_false += 1\n",
    "\n",
    "    total += labels.size(0)\n",
    "    correct += (predicted == labels).sum().item()\n",
    "\n",
    "print('Accuracy of the network on the 30000 train images: %f %%' % ( 100 * correct / total))\n",
    "print(\"total correct\", correct)\n",
    "print(\"total train set images\", total)\n",
    "\n",
    "print(\"focus_true_pred_true %d =============> FTPT : %f %%\" % (focus_true_pred_true , (100 * focus_true_pred_true / total) ) )\n",
    "print(\"focus_false_pred_true %d =============> FFPT : %f %%\" % (focus_false_pred_true, (100 * focus_false_pred_true / total) ) )\n",
    "print(\"focus_true_pred_false %d =============> FTPF : %f %%\" %( focus_true_pred_false , ( 100 * focus_true_pred_false / total) ) )\n",
    "print(\"focus_false_pred_false %d =============> FFPF : %f %%\" % (focus_false_pred_false, ( 100 * focus_false_pred_false / total) ) )\n",
    "print(\"Sparsity_Value %d =============> AVG Sparsity : %f \" % (sparse_val,(sparse_val)/total))\n",
    "print(\"argmax_more_than_half ==================> \",argmax_more_than_half)\n",
    "print(\"argmax_less_than_half ==================> \",argmax_less_than_half)\n",
    "print(count)\n",
    "\n",
    "print(\"=\"*100)"
   ]
  },
  {
   "cell_type": "code",
   "execution_count": 45,
   "id": "3c07c309",
   "metadata": {
    "execution": {
     "iopub.execute_input": "2021-09-03T09:16:37.097513Z",
     "iopub.status.busy": "2021-09-03T09:16:37.096383Z",
     "iopub.status.idle": "2021-09-03T09:16:46.702662Z",
     "shell.execute_reply": "2021-09-03T09:16:46.701244Z",
     "shell.execute_reply.started": "2021-09-03T06:52:02.566403Z"
    },
    "id": "40tKBow5t1sF",
    "outputId": "2db3287c-37b4-4655-99b5-8c32e1f4a6c8",
    "papermill": {
     "duration": 9.724702,
     "end_time": "2021-09-03T09:16:46.702801",
     "exception": false,
     "start_time": "2021-09-03T09:16:36.978099",
     "status": "completed"
    },
    "tags": []
   },
   "outputs": [
    {
     "name": "stdout",
     "output_type": "stream",
     "text": [
      "Accuracy of the network on the 10000 test images: 94.410000 %\n",
      "total correct 9441\n",
      "total test set images 10000\n",
      "focus_true_pred_true 8365 =============> FTPT : 83.650000 %\n",
      "focus_false_pred_true 1076 =============> FFPT : 10.760000 %\n",
      "focus_true_pred_false 268 =============> FTPF : 2.680000 %\n",
      "focus_false_pred_false 291 =============> FFPF : 2.910000 %\n",
      "Sparsity_Value 50714 =============> AVG Sparsity : 5.071400 \n",
      "argmax_more_than_half ==================>  7504\n",
      "argmax_less_than_half ==================>  2496\n"
     ]
    }
   ],
   "source": [
    "correct = 0\n",
    "total = 0\n",
    "count = 0\n",
    "flag = 1\n",
    "focus_true_pred_true =0\n",
    "focus_false_pred_true =0\n",
    "focus_true_pred_false =0\n",
    "focus_false_pred_false =0\n",
    "\n",
    "argmax_more_than_half = 0\n",
    "argmax_less_than_half =0\n",
    "sparse_val = 0 \n",
    "focus_net.eval()\n",
    "classify.eval()\n",
    "with torch.no_grad():\n",
    "  for data in test_loader:\n",
    "    inputs, labels , fore_idx = data\n",
    "    inputs = inputs.double()\n",
    "    inputs, labels , fore_idx = inputs.to(\"cuda\"),labels.to(\"cuda\"), fore_idx.to(\"cuda\")\n",
    "    alphas, avg_images = focus_net(inputs)\n",
    "    outputs = classify(avg_images)\n",
    "\n",
    "    _, predicted = torch.max(outputs.data, 1)\n",
    "    sparse_val += torch.sum(torch.sum(alphas>0.01,dim=1)).item()\n",
    "    for j in range(labels.size(0)):\n",
    "      focus = torch.argmax(alphas[j])\n",
    "      if alphas[j][focus] >= 0.5 :\n",
    "        argmax_more_than_half += 1\n",
    "      else:\n",
    "        argmax_less_than_half += 1\n",
    "\n",
    "      if(focus == fore_idx[j] and predicted[j] == labels[j]):\n",
    "          focus_true_pred_true += 1\n",
    "      elif(focus != fore_idx[j] and predicted[j] == labels[j]):\n",
    "        focus_false_pred_true += 1\n",
    "      elif(focus == fore_idx[j] and predicted[j] != labels[j]):\n",
    "        focus_true_pred_false += 1\n",
    "      elif(focus != fore_idx[j] and predicted[j] != labels[j]):\n",
    "        focus_false_pred_false += 1\n",
    "\n",
    "    total += labels.size(0)\n",
    "    correct += (predicted == labels).sum().item()\n",
    "\n",
    "print('Accuracy of the network on the 10000 test images: %f %%' % (\n",
    "    100 * correct / total))\n",
    "print(\"total correct\", correct)\n",
    "print(\"total test set images\", total)\n",
    "\n",
    "print(\"focus_true_pred_true %d =============> FTPT : %f %%\" % (focus_true_pred_true , (100 * focus_true_pred_true / total) ) )\n",
    "print(\"focus_false_pred_true %d =============> FFPT : %f %%\" % (focus_false_pred_true, (100 * focus_false_pred_true / total) ) )\n",
    "print(\"focus_true_pred_false %d =============> FTPF : %f %%\" %( focus_true_pred_false , ( 100 * focus_true_pred_false / total) ) )\n",
    "print(\"focus_false_pred_false %d =============> FFPF : %f %%\" % (focus_false_pred_false, ( 100 * focus_false_pred_false / total) ) )\n",
    "print(\"Sparsity_Value %d =============> AVG Sparsity : %f \" % (sparse_val,(sparse_val)/total))\n",
    "\n",
    "print(\"argmax_more_than_half ==================> \",argmax_more_than_half)\n",
    "print(\"argmax_less_than_half ==================> \",argmax_less_than_half)"
   ]
  },
  {
   "cell_type": "code",
   "execution_count": 46,
   "id": "e3b1906d",
   "metadata": {
    "execution": {
     "iopub.execute_input": "2021-09-03T09:16:46.848238Z",
     "iopub.status.busy": "2021-09-03T09:16:46.847234Z",
     "iopub.status.idle": "2021-09-03T09:17:06.091924Z",
     "shell.execute_reply": "2021-09-03T09:17:06.090708Z",
     "shell.execute_reply.started": "2021-09-03T06:52:10.642975Z"
    },
    "id": "iJEMJnUI9FP2",
    "papermill": {
     "duration": 19.322142,
     "end_time": "2021-09-03T09:17:06.092155",
     "exception": false,
     "start_time": "2021-09-03T09:16:46.770013",
     "status": "completed"
    },
    "tags": []
   },
   "outputs": [
    {
     "name": "stdout",
     "output_type": "stream",
     "text": [
      "Accuracy of the network on the 30000 train images: 98.400000 %\n",
      "total correct 29520\n",
      "total train set images 30000\n"
     ]
    }
   ],
   "source": [
    "correct = 0\n",
    "total = 0\n",
    "focus_net.eval()\n",
    "classify.eval()\n",
    "with torch.no_grad():\n",
    "  for data in train_loader:\n",
    "    inputs, labels , fore_idx = data\n",
    "    inputs = inputs.double()\n",
    "    inputs, labels = inputs.to(\"cuda\"), labels.to(\"cuda\")\n",
    "    alphas, avg_images = focus_net(inputs)\n",
    "    outputs = classify(avg_images)\n",
    "\n",
    "    _, predicted = torch.max(outputs.data, 1)\n",
    "\n",
    "    total += labels.size(0)\n",
    "    correct += (predicted == labels).sum().item()\n",
    "\n",
    "print('Accuracy of the network on the 30000 train images: %f %%' % ( 100 * correct / total))\n",
    "print(\"total correct\", correct)\n",
    "print(\"total train set images\", total)"
   ]
  },
  {
   "cell_type": "code",
   "execution_count": 47,
   "id": "57355ae4",
   "metadata": {
    "execution": {
     "iopub.execute_input": "2021-09-03T09:17:06.242164Z",
     "iopub.status.busy": "2021-09-03T09:17:06.240415Z",
     "iopub.status.idle": "2021-09-03T09:17:12.576612Z",
     "shell.execute_reply": "2021-09-03T09:17:12.577184Z",
     "shell.execute_reply.started": "2021-09-03T06:52:28.802741Z"
    },
    "id": "an7qmNLB-Ilb",
    "papermill": {
     "duration": 6.414105,
     "end_time": "2021-09-03T09:17:12.577378",
     "exception": false,
     "start_time": "2021-09-03T09:17:06.163273",
     "status": "completed"
    },
    "tags": []
   },
   "outputs": [
    {
     "name": "stdout",
     "output_type": "stream",
     "text": [
      "Accuracy of the network on the 10000 test images: 94.410000 %\n",
      "total correct 9441\n",
      "total train set images 10000\n"
     ]
    }
   ],
   "source": [
    "correct = 0\n",
    "total = 0\n",
    "focus_net.eval()\n",
    "classify.eval()\n",
    "with torch.no_grad():\n",
    "  for data in test_loader:\n",
    "    inputs, labels , fore_idx = data\n",
    "    inputs = inputs.double()\n",
    "    inputs, labels = inputs.to(\"cuda\"), labels.to(\"cuda\")\n",
    "    alphas, avg_images = focus_net(inputs)\n",
    "    outputs = classify(avg_images)\n",
    "\n",
    "    _, predicted = torch.max(outputs.data, 1)\n",
    "\n",
    "    total += labels.size(0)\n",
    "    correct += (predicted == labels).sum().item()\n",
    "\n",
    "print('Accuracy of the network on the 10000 test images: %f %%' % ( 100 * correct / total))\n",
    "print(\"total correct\", correct)\n",
    "print(\"total train set images\", total)"
   ]
  },
  {
   "cell_type": "code",
   "execution_count": null,
   "id": "026c00fb",
   "metadata": {
    "id": "SKwqTXFjuBR_",
    "papermill": {
     "duration": 0.068064,
     "end_time": "2021-09-03T09:17:12.714373",
     "exception": false,
     "start_time": "2021-09-03T09:17:12.646309",
     "status": "completed"
    },
    "tags": []
   },
   "outputs": [],
   "source": []
  }
 ],
 "metadata": {
  "kernelspec": {
   "display_name": "Python 3",
   "language": "python",
   "name": "python3"
  },
  "language_info": {
   "codemirror_mode": {
    "name": "ipython",
    "version": 3
   },
   "file_extension": ".py",
   "mimetype": "text/x-python",
   "name": "python",
   "nbconvert_exporter": "python",
   "pygments_lexer": "ipython3",
   "version": "3.7.10"
  },
  "papermill": {
   "default_parameters": {},
   "duration": 1297.420402,
   "end_time": "2021-09-03T09:17:14.966087",
   "environment_variables": {},
   "exception": null,
   "input_path": "__notebook__.ipynb",
   "output_path": "__notebook__.ipynb",
   "parameters": {},
   "start_time": "2021-09-03T08:55:37.545685",
   "version": "2.3.3"
  },
  "widgets": {
   "application/vnd.jupyter.widget-state+json": {
    "state": {
     "1b66c1d1928b46688418cfb31bfecf5e": {
      "model_module": "@jupyter-widgets/base",
      "model_module_version": "1.2.0",
      "model_name": "LayoutModel",
      "state": {
       "_model_module": "@jupyter-widgets/base",
       "_model_module_version": "1.2.0",
       "_model_name": "LayoutModel",
       "_view_count": null,
       "_view_module": "@jupyter-widgets/base",
       "_view_module_version": "1.2.0",
       "_view_name": "LayoutView",
       "align_content": null,
       "align_items": null,
       "align_self": null,
       "border": null,
       "bottom": null,
       "display": null,
       "flex": null,
       "flex_flow": null,
       "grid_area": null,
       "grid_auto_columns": null,
       "grid_auto_flow": null,
       "grid_auto_rows": null,
       "grid_column": null,
       "grid_gap": null,
       "grid_row": null,
       "grid_template_areas": null,
       "grid_template_columns": null,
       "grid_template_rows": null,
       "height": null,
       "justify_content": null,
       "justify_items": null,
       "left": null,
       "margin": null,
       "max_height": null,
       "max_width": null,
       "min_height": null,
       "min_width": null,
       "object_fit": null,
       "object_position": null,
       "order": null,
       "overflow": null,
       "overflow_x": null,
       "overflow_y": null,
       "padding": null,
       "right": null,
       "top": null,
       "visibility": null,
       "width": null
      }
     },
     "23ca36ba1ec946b6ad80afa7cfe7b102": {
      "model_module": "@jupyter-widgets/controls",
      "model_module_version": "1.5.0",
      "model_name": "DescriptionStyleModel",
      "state": {
       "_model_module": "@jupyter-widgets/controls",
       "_model_module_version": "1.5.0",
       "_model_name": "DescriptionStyleModel",
       "_view_count": null,
       "_view_module": "@jupyter-widgets/base",
       "_view_module_version": "1.2.0",
       "_view_name": "StyleView",
       "description_width": ""
      }
     },
     "4d7670bc17874ccabc050dc5f129e531": {
      "model_module": "@jupyter-widgets/base",
      "model_module_version": "1.2.0",
      "model_name": "LayoutModel",
      "state": {
       "_model_module": "@jupyter-widgets/base",
       "_model_module_version": "1.2.0",
       "_model_name": "LayoutModel",
       "_view_count": null,
       "_view_module": "@jupyter-widgets/base",
       "_view_module_version": "1.2.0",
       "_view_name": "LayoutView",
       "align_content": null,
       "align_items": null,
       "align_self": null,
       "border": null,
       "bottom": null,
       "display": null,
       "flex": null,
       "flex_flow": null,
       "grid_area": null,
       "grid_auto_columns": null,
       "grid_auto_flow": null,
       "grid_auto_rows": null,
       "grid_column": null,
       "grid_gap": null,
       "grid_row": null,
       "grid_template_areas": null,
       "grid_template_columns": null,
       "grid_template_rows": null,
       "height": null,
       "justify_content": null,
       "justify_items": null,
       "left": null,
       "margin": null,
       "max_height": null,
       "max_width": null,
       "min_height": null,
       "min_width": null,
       "object_fit": null,
       "object_position": null,
       "order": null,
       "overflow": null,
       "overflow_x": null,
       "overflow_y": null,
       "padding": null,
       "right": null,
       "top": null,
       "visibility": null,
       "width": null
      }
     },
     "6198c3a0d7a146069d0a292f10c04891": {
      "model_module": "@jupyter-widgets/controls",
      "model_module_version": "1.5.0",
      "model_name": "HTMLModel",
      "state": {
       "_dom_classes": [],
       "_model_module": "@jupyter-widgets/controls",
       "_model_module_version": "1.5.0",
       "_model_name": "HTMLModel",
       "_view_count": null,
       "_view_module": "@jupyter-widgets/controls",
       "_view_module_version": "1.5.0",
       "_view_name": "HTMLView",
       "description": "",
       "description_tooltip": null,
       "layout": "IPY_MODEL_4d7670bc17874ccabc050dc5f129e531",
       "placeholder": "​",
       "style": "IPY_MODEL_23ca36ba1ec946b6ad80afa7cfe7b102",
       "value": " 170500096/? [00:20&lt;00:00, 33952358.44it/s]"
      }
     },
     "9ef611fa85e04e7fb50bb314753b3230": {
      "model_module": "@jupyter-widgets/controls",
      "model_module_version": "1.5.0",
      "model_name": "ProgressStyleModel",
      "state": {
       "_model_module": "@jupyter-widgets/controls",
       "_model_module_version": "1.5.0",
       "_model_name": "ProgressStyleModel",
       "_view_count": null,
       "_view_module": "@jupyter-widgets/base",
       "_view_module_version": "1.2.0",
       "_view_name": "StyleView",
       "bar_color": null,
       "description_width": ""
      }
     },
     "a44e61c9f1694682b33df1c3b918ac35": {
      "model_module": "@jupyter-widgets/controls",
      "model_module_version": "1.5.0",
      "model_name": "HBoxModel",
      "state": {
       "_dom_classes": [],
       "_model_module": "@jupyter-widgets/controls",
       "_model_module_version": "1.5.0",
       "_model_name": "HBoxModel",
       "_view_count": null,
       "_view_module": "@jupyter-widgets/controls",
       "_view_module_version": "1.5.0",
       "_view_name": "HBoxView",
       "box_style": "",
       "children": [
        "IPY_MODEL_af156a6312404d148143164068396ae2",
        "IPY_MODEL_add3165120f741b694747c9e00b3d903",
        "IPY_MODEL_6198c3a0d7a146069d0a292f10c04891"
       ],
       "layout": "IPY_MODEL_1b66c1d1928b46688418cfb31bfecf5e"
      }
     },
     "a70b1f9217dd4f18bb9fcbe9b3c30b42": {
      "model_module": "@jupyter-widgets/base",
      "model_module_version": "1.2.0",
      "model_name": "LayoutModel",
      "state": {
       "_model_module": "@jupyter-widgets/base",
       "_model_module_version": "1.2.0",
       "_model_name": "LayoutModel",
       "_view_count": null,
       "_view_module": "@jupyter-widgets/base",
       "_view_module_version": "1.2.0",
       "_view_name": "LayoutView",
       "align_content": null,
       "align_items": null,
       "align_self": null,
       "border": null,
       "bottom": null,
       "display": null,
       "flex": null,
       "flex_flow": null,
       "grid_area": null,
       "grid_auto_columns": null,
       "grid_auto_flow": null,
       "grid_auto_rows": null,
       "grid_column": null,
       "grid_gap": null,
       "grid_row": null,
       "grid_template_areas": null,
       "grid_template_columns": null,
       "grid_template_rows": null,
       "height": null,
       "justify_content": null,
       "justify_items": null,
       "left": null,
       "margin": null,
       "max_height": null,
       "max_width": null,
       "min_height": null,
       "min_width": null,
       "object_fit": null,
       "object_position": null,
       "order": null,
       "overflow": null,
       "overflow_x": null,
       "overflow_y": null,
       "padding": null,
       "right": null,
       "top": null,
       "visibility": null,
       "width": "20px"
      }
     },
     "a93c941b947f4c9aa3fe7d2554e0c533": {
      "model_module": "@jupyter-widgets/base",
      "model_module_version": "1.2.0",
      "model_name": "LayoutModel",
      "state": {
       "_model_module": "@jupyter-widgets/base",
       "_model_module_version": "1.2.0",
       "_model_name": "LayoutModel",
       "_view_count": null,
       "_view_module": "@jupyter-widgets/base",
       "_view_module_version": "1.2.0",
       "_view_name": "LayoutView",
       "align_content": null,
       "align_items": null,
       "align_self": null,
       "border": null,
       "bottom": null,
       "display": null,
       "flex": null,
       "flex_flow": null,
       "grid_area": null,
       "grid_auto_columns": null,
       "grid_auto_flow": null,
       "grid_auto_rows": null,
       "grid_column": null,
       "grid_gap": null,
       "grid_row": null,
       "grid_template_areas": null,
       "grid_template_columns": null,
       "grid_template_rows": null,
       "height": null,
       "justify_content": null,
       "justify_items": null,
       "left": null,
       "margin": null,
       "max_height": null,
       "max_width": null,
       "min_height": null,
       "min_width": null,
       "object_fit": null,
       "object_position": null,
       "order": null,
       "overflow": null,
       "overflow_x": null,
       "overflow_y": null,
       "padding": null,
       "right": null,
       "top": null,
       "visibility": null,
       "width": null
      }
     },
     "add3165120f741b694747c9e00b3d903": {
      "model_module": "@jupyter-widgets/controls",
      "model_module_version": "1.5.0",
      "model_name": "FloatProgressModel",
      "state": {
       "_dom_classes": [],
       "_model_module": "@jupyter-widgets/controls",
       "_model_module_version": "1.5.0",
       "_model_name": "FloatProgressModel",
       "_view_count": null,
       "_view_module": "@jupyter-widgets/controls",
       "_view_module_version": "1.5.0",
       "_view_name": "ProgressView",
       "bar_style": "info",
       "description": "",
       "description_tooltip": null,
       "layout": "IPY_MODEL_a70b1f9217dd4f18bb9fcbe9b3c30b42",
       "max": 1.0,
       "min": 0.0,
       "orientation": "horizontal",
       "style": "IPY_MODEL_9ef611fa85e04e7fb50bb314753b3230",
       "value": 1.0
      }
     },
     "af156a6312404d148143164068396ae2": {
      "model_module": "@jupyter-widgets/controls",
      "model_module_version": "1.5.0",
      "model_name": "HTMLModel",
      "state": {
       "_dom_classes": [],
       "_model_module": "@jupyter-widgets/controls",
       "_model_module_version": "1.5.0",
       "_model_name": "HTMLModel",
       "_view_count": null,
       "_view_module": "@jupyter-widgets/controls",
       "_view_module_version": "1.5.0",
       "_view_name": "HTMLView",
       "description": "",
       "description_tooltip": null,
       "layout": "IPY_MODEL_a93c941b947f4c9aa3fe7d2554e0c533",
       "placeholder": "​",
       "style": "IPY_MODEL_cc1e1f2895524765adf0bb9256aab473",
       "value": ""
      }
     },
     "cc1e1f2895524765adf0bb9256aab473": {
      "model_module": "@jupyter-widgets/controls",
      "model_module_version": "1.5.0",
      "model_name": "DescriptionStyleModel",
      "state": {
       "_model_module": "@jupyter-widgets/controls",
       "_model_module_version": "1.5.0",
       "_model_name": "DescriptionStyleModel",
       "_view_count": null,
       "_view_module": "@jupyter-widgets/base",
       "_view_module_version": "1.2.0",
       "_view_name": "StyleView",
       "description_width": ""
      }
     }
    },
    "version_major": 2,
    "version_minor": 0
   }
  }
 },
 "nbformat": 4,
 "nbformat_minor": 5
}
