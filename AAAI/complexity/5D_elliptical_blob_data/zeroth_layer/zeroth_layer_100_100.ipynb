{
  "nbformat": 4,
  "nbformat_minor": 0,
  "metadata": {
    "accelerator": "GPU",
    "colab": {
      "name": "zeroth_layer_100_100.ipynb",
      "provenance": [],
      "collapsed_sections": []
    },
    "kernelspec": {
      "display_name": "Python 3",
      "name": "python3"
    }
  },
  "cells": [
    {
      "cell_type": "code",
      "metadata": {
        "colab": {
          "base_uri": "https://localhost:8080/"
        },
        "id": "-Vv0xhOxmRqI",
        "outputId": "0493ef61-9553-4219-c78c-711755f7dbd0"
      },
      "source": [
        "from google.colab import drive\n",
        "drive.mount('/content/drive')"
      ],
      "execution_count": 1,
      "outputs": [
        {
          "output_type": "stream",
          "name": "stdout",
          "text": [
            "Drive already mounted at /content/drive; to attempt to forcibly remount, call drive.mount(\"/content/drive\", force_remount=True).\n"
          ]
        }
      ]
    },
    {
      "cell_type": "code",
      "metadata": {
        "id": "vO-FHcaXmYW0"
      },
      "source": [
        "path = '/content/drive/MyDrive/Research/AAAI/complexity/100_100/'"
      ],
      "execution_count": 2,
      "outputs": []
    },
    {
      "cell_type": "code",
      "metadata": {
        "id": "VAYu3ISwwGks"
      },
      "source": [
        "import numpy as np\n",
        "import pandas as pd\n",
        "\n",
        "import torch\n",
        "import torchvision\n",
        "from torch.utils.data import Dataset, DataLoader\n",
        "from torchvision import transforms, utils\n",
        "import torch.nn as nn\n",
        "import torch.nn.functional as F\n",
        "import torch.optim as optim\n",
        "\n",
        "from matplotlib import pyplot as plt\n",
        "%matplotlib inline\n",
        "\n",
        "torch.backends.cudnn.deterministic = True\n",
        "torch.backends.cudnn.benchmark = False"
      ],
      "execution_count": 3,
      "outputs": []
    },
    {
      "cell_type": "markdown",
      "metadata": {
        "id": "w5peJDh_2PGd"
      },
      "source": [
        "# Generate dataset"
      ]
    },
    {
      "cell_type": "code",
      "metadata": {
        "id": "WvT4DjeaU1_J"
      },
      "source": [
        "mu1 = np.array([3,3,3,3,0])\n",
        "sigma1 = np.array([[1,1,1,1,1],[1,16,1,1,1],[1,1,1,1,1],[1,1,1,1,1],[1,1,1,1,1]])\n",
        "\n",
        "mu2 = np.array([4,4,4,4,0])\n",
        "sigma2 = np.array([[16,1,1,1,1],[1,1,1,1,1],[1,1,1,1,1],[1,1,1,1,1],[1,1,1,1,1]])\n",
        "\n",
        "mu3 = np.array([10,5,5,10,0])\n",
        "sigma3 = np.array([[1,1,1,1,1],[1,16,1,1,1],[1,1,1,1,1],[1,1,1,1,1],[1,1,1,1,1]])\n",
        "\n",
        "mu4 = np.array([-10,-10,-10,-10,0])\n",
        "sigma4 = np.array([[1,1,1,1,1],[1,16,1,1,1],[1,1,1,1,1],[1,1,1,1,1],[1,1,1,1,1]])\n",
        "\n",
        "mu5 = np.array([-21,4,4,-21,0])\n",
        "sigma5 = np.array([[16,1,1,1,1],[1,1,1,1,1],[1,1,1,1,1],[1,1,1,1,1],[1,1,1,1,1]])\n",
        "\n",
        "mu6 = np.array([-10,18,18,-10,0])\n",
        "sigma6 = np.array([[1,1,1,1,1],[1,16,1,1,1],[1,1,1,1,1],[1,1,1,1,1],[1,1,1,1,1]])\n",
        "\n",
        "mu7 = np.array([4,20,4,20,0])\n",
        "sigma7 = np.array([[16,1,1,1,1],[1,1,1,1,1],[1,1,1,1,1],[1,1,1,1,1],[1,1,1,1,1]])\n",
        "\n",
        "mu8 = np.array([4,-20,-20,4,0])\n",
        "sigma8 = np.array([[16,1,1,1,1],[1,1,1,1,1],[1,1,1,1,1],[1,1,1,1,1],[1,1,1,1,1]])\n",
        "\n",
        "mu9 = np.array([20,20,20,20,0])\n",
        "sigma9 = np.array([[1,1,1,1,1],[1,16,1,1,1],[1,1,1,1,1],[1,1,1,1,1],[1,1,1,1,1]])\n",
        "\n",
        "mu10 = np.array([20,-10,-10,20,0])\n",
        "sigma10 = np.array([[1,1,1,1,1],[1,16,1,1,1],[1,1,1,1,1],[1,1,1,1,1],[1,1,1,1,1]])"
      ],
      "execution_count": 4,
      "outputs": []
    },
    {
      "cell_type": "code",
      "metadata": {
        "id": "Hoq8cln5U_aX"
      },
      "source": [
        "np.random.seed(12)\n",
        "sample1 = np.random.multivariate_normal(mean=mu1,cov= sigma1,size=500)\n",
        "sample2 = np.random.multivariate_normal(mean=mu2,cov= sigma2,size=500)\n",
        "sample3 = np.random.multivariate_normal(mean=mu3,cov= sigma3,size=500)\n",
        "sample4 = np.random.multivariate_normal(mean=mu4,cov= sigma4,size=500)\n",
        "sample5 = np.random.multivariate_normal(mean=mu5,cov= sigma5,size=500)\n",
        "sample6 = np.random.multivariate_normal(mean=mu6,cov= sigma6,size=500)\n",
        "sample7 = np.random.multivariate_normal(mean=mu7,cov= sigma7,size=500)\n",
        "sample8 = np.random.multivariate_normal(mean=mu8,cov= sigma8,size=500)\n",
        "sample9 = np.random.multivariate_normal(mean=mu9,cov= sigma9,size=500)\n",
        "sample10 = np.random.multivariate_normal(mean=mu10,cov= sigma10,size=500)"
      ],
      "execution_count": 5,
      "outputs": []
    },
    {
      "cell_type": "code",
      "metadata": {
        "id": "J0F1koRdVGCm"
      },
      "source": [
        "X = np.concatenate((sample1,sample2,sample3,sample4,sample5,sample6,sample7,sample8,sample9,sample10),axis=0)\n",
        "Y = np.concatenate((np.zeros((500,1)),np.ones((500,1)),2*np.ones((500,1)),3*np.ones((500,1)),4*np.ones((500,1)),\n",
        "                    5*np.ones((500,1)),6*np.ones((500,1)),7*np.ones((500,1)),8*np.ones((500,1)),9*np.ones((500,1))),axis=0).astype(int)"
      ],
      "execution_count": 6,
      "outputs": []
    },
    {
      "cell_type": "code",
      "metadata": {
        "colab": {
          "base_uri": "https://localhost:8080/"
        },
        "id": "_bD8CltbVY6B",
        "outputId": "8d974027-5ad6-44c9-e746-9f0eb1715fd8"
      },
      "source": [
        "print(X[0], Y[0])"
      ],
      "execution_count": 7,
      "outputs": [
        {
          "output_type": "stream",
          "name": "stdout",
          "text": [
            "[ 2.20218134  1.32290141  2.20218134  2.20218134 -0.79781866] [0]\n"
          ]
        }
      ]
    },
    {
      "cell_type": "code",
      "metadata": {
        "colab": {
          "base_uri": "https://localhost:8080/"
        },
        "id": "UqkZXw-NVmJ2",
        "outputId": "3f7065a0-2fed-42d5-f282-619b202308c4"
      },
      "source": [
        "print(X[500], Y[500])"
      ],
      "execution_count": 8,
      "outputs": [
        {
          "output_type": "stream",
          "name": "stdout",
          "text": [
            "[12.65418869  5.7937588   5.7937588   5.7937588   1.7937588 ] [1]\n"
          ]
        }
      ]
    },
    {
      "cell_type": "code",
      "metadata": {
        "colab": {
          "base_uri": "https://localhost:8080/"
        },
        "id": "U2WL6wYrV8Iv",
        "outputId": "698daebf-fd8d-4b48-a67d-e3da1407cd67"
      },
      "source": [
        "class SyntheticDataset(Dataset):\n",
        "  \"\"\"MosaicDataset dataset.\"\"\"\n",
        "  def __init__(self, x, y):\n",
        "    \"\"\"\n",
        "      Args:\n",
        "       x: list of instance\n",
        "       y: list of instance label\n",
        "    \"\"\"\n",
        "    self.x = x\n",
        "    self.y = y\n",
        "    #self.fore_idx = fore_idx\n",
        "    \n",
        "  def __len__(self):\n",
        "    return len(self.y)\n",
        "\n",
        "  def __getitem__(self, idx):\n",
        "    return self.x[idx] , self.y[idx] #, self.fore_idx[idx]\n",
        "\n",
        "trainset = SyntheticDataset(X,Y)\n",
        "\n",
        "classes = ('zero','one','two','three','four','five','six','seven','eight','nine')\n",
        "\n",
        "foreground_classes = {'zero','one','two'}\n",
        "fg_used = '012'\n",
        "fg1, fg2, fg3 = 0,1,2\n",
        "\n",
        "all_classes = {'zero','one','two','three','four','five','six','seven','eight','nine'}\n",
        "background_classes = all_classes - foreground_classes\n",
        "print(\"background classes \",background_classes)\n",
        "\n",
        "trainloader = torch.utils.data.DataLoader(trainset, batch_size=100, shuffle=False)\n",
        "\n",
        "dataiter = iter(trainloader)\n",
        "background_data=[]\n",
        "background_label=[]\n",
        "foreground_data=[]\n",
        "foreground_label=[]\n",
        "batch_size=100\n",
        "\n",
        "for i in range(50):\n",
        "  images, labels = dataiter.next()\n",
        "  for j in range(batch_size):\n",
        "    if(classes[labels[j]] in background_classes):\n",
        "      img = images[j].tolist()\n",
        "      background_data.append(img)\n",
        "      background_label.append(labels[j])\n",
        "    else:\n",
        "      img = images[j].tolist()\n",
        "      foreground_data.append(img)\n",
        "      foreground_label.append(labels[j])\n",
        "            \n",
        "foreground_data = torch.tensor(foreground_data)\n",
        "foreground_label = torch.tensor(foreground_label)\n",
        "background_data = torch.tensor(background_data)\n",
        "background_label = torch.tensor(background_label)"
      ],
      "execution_count": 9,
      "outputs": [
        {
          "output_type": "stream",
          "name": "stdout",
          "text": [
            "background classes  {'eight', 'four', 'three', 'seven', 'five', 'six', 'nine'}\n"
          ]
        }
      ]
    },
    {
      "cell_type": "code",
      "metadata": {
        "colab": {
          "base_uri": "https://localhost:8080/"
        },
        "id": "TkzWjwECWhV_",
        "outputId": "2bf7d64d-66da-4e47-8fce-b40c6abef67c"
      },
      "source": [
        "print(foreground_data[0], foreground_label[0] )"
      ],
      "execution_count": 10,
      "outputs": [
        {
          "output_type": "stream",
          "name": "stdout",
          "text": [
            "tensor([ 2.2022,  1.3229,  2.2022,  2.2022, -0.7978]) tensor(0)\n"
          ]
        }
      ]
    },
    {
      "cell_type": "code",
      "metadata": {
        "id": "gk7U_B7jWw3f"
      },
      "source": [
        "def create_mosaic_img(bg_idx,fg_idx,fg): \n",
        "  \"\"\"\n",
        "  bg_idx : list of indexes of background_data[] to be used as background images in mosaic\n",
        "  fg_idx : index of image to be used as foreground image from foreground data\n",
        "  fg : at what position/index foreground image has to be stored out of 0-8\n",
        "  \"\"\"\n",
        "  image_list=[]\n",
        "  j=0\n",
        "  for i in range(9):\n",
        "    if i != fg:\n",
        "      image_list.append(background_data[bg_idx[j]])\n",
        "      j+=1\n",
        "    else: \n",
        "      image_list.append(foreground_data[fg_idx])\n",
        "      label = foreground_label[fg_idx] - fg1  # minus fg1 because our fore ground classes are fg1,fg2,fg3 but we have to store it as 0,1,2\n",
        "  #image_list = np.concatenate(image_list ,axis=0)\n",
        "  image_list = torch.stack(image_list) \n",
        "  return image_list,label"
      ],
      "execution_count": 11,
      "outputs": []
    },
    {
      "cell_type": "code",
      "metadata": {
        "id": "9XEv4A_ZW_nI"
      },
      "source": [
        "desired_num = 6000\n",
        "mosaic_list_of_images =[]      # list of mosaic images, each mosaic image is saved as list of 9 images\n",
        "fore_idx =[]                   # list of indexes at which foreground image is present in a mosaic image i.e from 0 to 9               \n",
        "mosaic_label=[]                # label of mosaic image = foreground class present in that mosaic\n",
        "list_set_labels = [] \n",
        "for i in range(desired_num):\n",
        "  set_idx = set()\n",
        "  np.random.seed(i)\n",
        "  bg_idx = np.random.randint(0,3500,8)\n",
        "  set_idx = set(background_label[bg_idx].tolist())\n",
        "  fg_idx = np.random.randint(0,1500)\n",
        "  set_idx.add(foreground_label[fg_idx].item())\n",
        "  fg = np.random.randint(0,9)\n",
        "  fore_idx.append(fg)\n",
        "  image_list,label = create_mosaic_img(bg_idx,fg_idx,fg)\n",
        "  mosaic_list_of_images.append(image_list)\n",
        "  mosaic_label.append(label)\n",
        "  list_set_labels.append(set_idx)"
      ],
      "execution_count": 12,
      "outputs": []
    },
    {
      "cell_type": "code",
      "metadata": {
        "colab": {
          "base_uri": "https://localhost:8080/"
        },
        "id": "YuPrl-ak23hd",
        "outputId": "40615607-049f-4033-b4f2-7f3302c94e88"
      },
      "source": [
        "len(mosaic_list_of_images), mosaic_list_of_images[0]"
      ],
      "execution_count": 13,
      "outputs": [
        {
          "output_type": "execute_result",
          "data": {
            "text/plain": [
              "(6000, tensor([[ 20.0825,  25.5012,  20.0825,  20.0825,   0.0825],\n",
              "         [ 20.6911,  22.6202,  20.6911,  20.6911,   0.6911],\n",
              "         [  1.2544,  22.0426,   6.0426,  22.0426,   2.0426],\n",
              "         [  9.2862,   3.1005,   4.2862,   9.2862,  -0.7138],\n",
              "         [ 20.7622, -12.2787,  -9.2378,  20.7622,   0.7622],\n",
              "         [-27.2336,   3.4770,   3.4770, -21.5230,  -0.5230],\n",
              "         [-32.2853,   1.7774,   1.7774, -23.2226,  -2.2226],\n",
              "         [  4.1916,  17.4376,   1.4376,  17.4376,  -2.5624],\n",
              "         [ 20.9615,  -4.3890,  -9.0385,  20.9615,   0.9615]]))"
            ]
          },
          "metadata": {},
          "execution_count": 13
        }
      ]
    },
    {
      "cell_type": "markdown",
      "metadata": {
        "id": "y4ZKaqzq_vcD"
      },
      "source": [
        "# load mosaic data"
      ]
    },
    {
      "cell_type": "code",
      "metadata": {
        "id": "syESDetXAPK2"
      },
      "source": [
        "class MosaicDataset(Dataset):\n",
        "  \"\"\"MosaicDataset dataset.\"\"\"\n",
        "\n",
        "  def __init__(self, mosaic_list, mosaic_label,fore_idx):\n",
        "    \"\"\"\n",
        "      Args:\n",
        "        csv_file (string): Path to the csv file with annotations.\n",
        "        root_dir (string): Directory with all the images.\n",
        "        transform (callable, optional): Optional transform to be applied\n",
        "            on a sample.\n",
        "    \"\"\"\n",
        "    self.mosaic = mosaic_list\n",
        "    self.label = mosaic_label\n",
        "    self.fore_idx = fore_idx\n",
        "    \n",
        "  def __len__(self):\n",
        "    return len(self.label)\n",
        "\n",
        "  def __getitem__(self, idx):\n",
        "    return self.mosaic[idx] , self.label[idx] , self.fore_idx[idx]"
      ],
      "execution_count": 14,
      "outputs": []
    },
    {
      "cell_type": "code",
      "metadata": {
        "id": "fP5NPRPmb904"
      },
      "source": [
        "batch = 250\n",
        "msd1 = MosaicDataset(mosaic_list_of_images[0:3000], mosaic_label[0:3000] , fore_idx[0:3000])\n",
        "train_loader = DataLoader( msd1 ,batch_size= batch ,shuffle=True)"
      ],
      "execution_count": 15,
      "outputs": []
    },
    {
      "cell_type": "code",
      "metadata": {
        "id": "92ZN-Sm54ti7"
      },
      "source": [
        "batch = 250\n",
        "msd2 = MosaicDataset(mosaic_list_of_images[3000:6000], mosaic_label[3000:6000] , fore_idx[3000:6000])\n",
        "test_loader = DataLoader( msd2 ,batch_size= batch ,shuffle=True)"
      ],
      "execution_count": 16,
      "outputs": []
    },
    {
      "cell_type": "markdown",
      "metadata": {
        "id": "ARLPPASQ_2gB"
      },
      "source": [
        "# models"
      ]
    },
    {
      "cell_type": "code",
      "metadata": {
        "id": "F_LGWC0pXmFD"
      },
      "source": [
        "class Focus_deep(nn.Module):\n",
        "    '''\n",
        "       deep focus network averaged at zeroth layer with input-50-output architecture\n",
        "       input : elemental data\n",
        "    '''\n",
        " \n",
        "    def __init__(self,inputs,output,K,d):\n",
        "        super(Focus_deep,self).__init__()\n",
        "        self.inputs = inputs\n",
        "        self.output = output\n",
        "        self.K = K\n",
        "        self.d  = d\n",
        "        self.linear1 = nn.Linear(self.inputs,100, bias=False)  #,self.output)\n",
        "        self.linear2 = nn.Linear(100,self.output, bias=False) \n",
        "\n",
        "        torch.nn.init.xavier_normal_(self.linear1.weight)\n",
        "        torch.nn.init.xavier_normal_(self.linear2.weight)\n",
        "\n",
        "    def forward(self,z):\n",
        "        batch = z.shape[0]\n",
        "        x = torch.zeros([batch,self.K],dtype=torch.float64)\n",
        "        y = torch.zeros([batch,self.d], dtype=torch.float64)\n",
        "        x,y = x.to(\"cuda\"),y.to(\"cuda\")\n",
        "        for i in range(self.K):\n",
        "            x[:,i] = self.helper(z[:,i] )[:,0]  # self.d*i:self.d*i+self.d\n",
        "        log_x = F.log_softmax(x,dim=1)\n",
        "        x = F.softmax(x,dim=1)   # alphas\n",
        "        x1 = x[:,0]\n",
        "        for i in range(self.K):\n",
        "            x1 = x[:,i]          \n",
        "            y = y+torch.mul(x1[:,None],z[:,i])  # self.d*i:self.d*i+self.d\n",
        "        return y , x , log_x\n",
        "    def helper(self,x):\n",
        "      x = F.relu(self.linear1(x))\n",
        "      x = self.linear2(x)\n",
        "      return x"
      ],
      "execution_count": 17,
      "outputs": []
    },
    {
      "cell_type": "code",
      "metadata": {
        "id": "t1El0hjJZAk3"
      },
      "source": [
        "class Classification_deep(nn.Module):\n",
        "    '''\n",
        "       input : elemental data\n",
        "       deep classification module data averaged at zeroth layer with input-50-output architecture\n",
        "    '''\n",
        "    def __init__(self,inputs,output):\n",
        "        super(Classification_deep,self).__init__()\n",
        "        self.inputs = inputs\n",
        "        self.output = output\n",
        "        self.linear1 = nn.Linear(self.inputs,100)\n",
        "        self.linear2 = nn.Linear(100,self.output)\n",
        "        \n",
        "        torch.nn.init.xavier_normal_(self.linear1.weight)\n",
        "        torch.nn.init.zeros_(self.linear1.bias)\n",
        "        torch.nn.init.xavier_normal_(self.linear2.weight)\n",
        "        torch.nn.init.zeros_(self.linear2.bias)\n",
        "\n",
        "    def forward(self,x):\n",
        "      x = F.relu(self.linear1(x))\n",
        "      x = self.linear2(x)\n",
        "      return x"
      ],
      "execution_count": 18,
      "outputs": []
    },
    {
      "cell_type": "code",
      "metadata": {
        "id": "lp8mPNj45RG5"
      },
      "source": [
        "torch.manual_seed(12)\n",
        "focus_net = Focus_deep(2,1,9,2).double()\n",
        "focus_net = focus_net.to(\"cuda\")"
      ],
      "execution_count": 19,
      "outputs": []
    },
    {
      "cell_type": "code",
      "metadata": {
        "id": "LovpFOe25RES",
        "colab": {
          "base_uri": "https://localhost:8080/"
        },
        "outputId": "b10490dd-9d33-4769-8c47-8c5a3f8e172b"
      },
      "source": [
        "focus_net.linear1.weight.shape,focus_net.linear2.weight.shape"
      ],
      "execution_count": 20,
      "outputs": [
        {
          "output_type": "execute_result",
          "data": {
            "text/plain": [
              "(torch.Size([100, 2]), torch.Size([1, 100]))"
            ]
          },
          "metadata": {},
          "execution_count": 20
        }
      ]
    },
    {
      "cell_type": "code",
      "metadata": {
        "id": "LWV9_JVps4Mf"
      },
      "source": [
        "hidden = 50"
      ],
      "execution_count": 21,
      "outputs": []
    },
    {
      "cell_type": "code",
      "metadata": {
        "id": "VXjZ7tiF5RBy",
        "colab": {
          "base_uri": "https://localhost:8080/"
        },
        "outputId": "9804768d-0d5e-4484-dd64-d4ffc204475c"
      },
      "source": [
        "focus_net.linear1.weight.data[hidden:,:] = focus_net.linear1.weight.data[:hidden,:] #torch.nn.Parameter(torch.tensor([last_layer]) )\n",
        "(focus_net.linear1.weight[:hidden,:]== focus_net.linear1.weight[hidden:,:] )"
      ],
      "execution_count": 22,
      "outputs": [
        {
          "output_type": "execute_result",
          "data": {
            "text/plain": [
              "tensor([[True, True],\n",
              "        [True, True],\n",
              "        [True, True],\n",
              "        [True, True],\n",
              "        [True, True],\n",
              "        [True, True],\n",
              "        [True, True],\n",
              "        [True, True],\n",
              "        [True, True],\n",
              "        [True, True],\n",
              "        [True, True],\n",
              "        [True, True],\n",
              "        [True, True],\n",
              "        [True, True],\n",
              "        [True, True],\n",
              "        [True, True],\n",
              "        [True, True],\n",
              "        [True, True],\n",
              "        [True, True],\n",
              "        [True, True],\n",
              "        [True, True],\n",
              "        [True, True],\n",
              "        [True, True],\n",
              "        [True, True],\n",
              "        [True, True],\n",
              "        [True, True],\n",
              "        [True, True],\n",
              "        [True, True],\n",
              "        [True, True],\n",
              "        [True, True],\n",
              "        [True, True],\n",
              "        [True, True],\n",
              "        [True, True],\n",
              "        [True, True],\n",
              "        [True, True],\n",
              "        [True, True],\n",
              "        [True, True],\n",
              "        [True, True],\n",
              "        [True, True],\n",
              "        [True, True],\n",
              "        [True, True],\n",
              "        [True, True],\n",
              "        [True, True],\n",
              "        [True, True],\n",
              "        [True, True],\n",
              "        [True, True],\n",
              "        [True, True],\n",
              "        [True, True],\n",
              "        [True, True],\n",
              "        [True, True]], device='cuda:0')"
            ]
          },
          "metadata": {},
          "execution_count": 22
        }
      ]
    },
    {
      "cell_type": "code",
      "metadata": {
        "id": "vfzyIhtb5Q-6",
        "colab": {
          "base_uri": "https://localhost:8080/"
        },
        "outputId": "72164150-340a-4aac-f51a-aa99dee34281"
      },
      "source": [
        "focus_net.linear2.weight.data[:,hidden:] = -focus_net.linear2.weight.data[:,:hidden] #torch.nn.Parameter(torch.tensor([last_layer]) )\n",
        "focus_net.linear2.weight"
      ],
      "execution_count": 23,
      "outputs": [
        {
          "output_type": "execute_result",
          "data": {
            "text/plain": [
              "Parameter containing:\n",
              "tensor([[ 0.0378,  0.2297, -0.0169,  0.0787, -0.0527, -0.0162, -0.0669,  0.1037,\n",
              "         -0.0439, -0.0378,  0.1805, -0.0277, -0.2225, -0.1406, -0.1492,  0.1455,\n",
              "          0.2070,  0.0192, -0.0121,  0.0444, -0.0943,  0.0978, -0.0710,  0.0970,\n",
              "         -0.0552, -0.1344,  0.0932, -0.2411, -0.0414, -0.0195, -0.0879, -0.2148,\n",
              "          0.1879,  0.0177,  0.0240,  0.2681, -0.3014,  0.0370, -0.0125, -0.0192,\n",
              "          0.1510,  0.0105, -0.0896,  0.0831, -0.2144,  0.0295, -0.2612,  0.1582,\n",
              "         -0.0636,  0.1644, -0.0378, -0.2297,  0.0169, -0.0787,  0.0527,  0.0162,\n",
              "          0.0669, -0.1037,  0.0439,  0.0378, -0.1805,  0.0277,  0.2225,  0.1406,\n",
              "          0.1492, -0.1455, -0.2070, -0.0192,  0.0121, -0.0444,  0.0943, -0.0978,\n",
              "          0.0710, -0.0970,  0.0552,  0.1344, -0.0932,  0.2411,  0.0414,  0.0195,\n",
              "          0.0879,  0.2148, -0.1879, -0.0177, -0.0240, -0.2681,  0.3014, -0.0370,\n",
              "          0.0125,  0.0192, -0.1510, -0.0105,  0.0896, -0.0831,  0.2144, -0.0295,\n",
              "          0.2612, -0.1582,  0.0636, -0.1644]], device='cuda:0',\n",
              "       dtype=torch.float64, requires_grad=True)"
            ]
          },
          "metadata": {},
          "execution_count": 23
        }
      ]
    },
    {
      "cell_type": "code",
      "metadata": {
        "id": "_zrNdgOy5Q8C",
        "colab": {
          "base_uri": "https://localhost:8080/"
        },
        "outputId": "dab7b6eb-a124-4c9c-f6e5-b6a9a9bf8c0a"
      },
      "source": [
        "focus_net.helper( torch.randn((1,5,2)).double().to(\"cuda\") )"
      ],
      "execution_count": 24,
      "outputs": [
        {
          "output_type": "execute_result",
          "data": {
            "text/plain": [
              "tensor([[[ 3.4694e-18],\n",
              "         [ 2.7756e-17],\n",
              "         [-6.9389e-18],\n",
              "         [ 8.6736e-19],\n",
              "         [ 6.9389e-18]]], device='cuda:0', dtype=torch.float64,\n",
              "       grad_fn=<UnsafeViewBackward>)"
            ]
          },
          "metadata": {},
          "execution_count": 24
        }
      ]
    },
    {
      "cell_type": "code",
      "metadata": {
        "id": "nS2I5eABHNPk"
      },
      "source": [
        "criterion = nn.CrossEntropyLoss()\n",
        "def my_cross_entropy(x, y,alpha,log_alpha,k):\n",
        "    # log_prob = -1.0 * F.log_softmax(x, 1)\n",
        "    # loss = log_prob.gather(1, y.unsqueeze(1))\n",
        "    # loss = loss.mean()\n",
        "    loss = criterion(x,y)\n",
        "    \n",
        "    #alpha = torch.clamp(alpha,min=1e-10)     \n",
        "    \n",
        "    b = -1.0* alpha * log_alpha\n",
        "    b =  torch.mean(torch.sum(b,dim=1))\n",
        "    closs = loss\n",
        "    entropy = b \n",
        "    loss = (1-k)*loss + ((k)*b)\n",
        "    return loss,closs,entropy"
      ],
      "execution_count": 25,
      "outputs": []
    },
    {
      "cell_type": "code",
      "metadata": {
        "id": "ehAfQnNwgFYX"
      },
      "source": [
        "def calculate_attn_loss(dataloader,what,where,criter,k):\n",
        "  what.eval()\n",
        "  where.eval()\n",
        "  r_loss = 0\n",
        "  cc_loss = 0\n",
        "  cc_entropy = 0\n",
        "  alphas = []\n",
        "  lbls = []\n",
        "  pred = []\n",
        "  fidices = []\n",
        "  with torch.no_grad():\n",
        "    for i, data in enumerate(dataloader, 0):\n",
        "      inputs, labels,fidx = data\n",
        "      lbls.append(labels)\n",
        "      fidices.append(fidx)\n",
        "      inputs = inputs.double()\n",
        "      inputs, labels = inputs.to(\"cuda\"),labels.to(\"cuda\")\n",
        "      avg,alpha,log_alpha = where(inputs)\n",
        "      outputs = what(avg)\n",
        "      _, predicted = torch.max(outputs.data, 1)\n",
        "      pred.append(predicted.cpu().numpy())\n",
        "      alphas.append(alpha.cpu().numpy())\n",
        "\n",
        "      #ent = np.sum(entropy(alpha.cpu().detach().numpy(), base=2, axis=1))/batch\n",
        "      # mx,_ = torch.max(alpha,1)\n",
        "      # entropy = np.mean(-np.log2(mx.cpu().detach().numpy()))\n",
        "      # print(\"entropy of batch\", entropy)\n",
        "\n",
        "      #loss = (1-k)*criter(outputs, labels) + k*ent\n",
        "      loss,closs,entropy = my_cross_entropy(outputs,labels,alpha,log_alpha,k)\n",
        "      r_loss += loss.item()\n",
        "      cc_loss += closs.item()\n",
        "      cc_entropy += entropy.item()\n",
        "\n",
        "  alphas = np.concatenate(alphas,axis=0)\n",
        "  pred = np.concatenate(pred,axis=0)\n",
        "  lbls = np.concatenate(lbls,axis=0)\n",
        "  fidices = np.concatenate(fidices,axis=0)\n",
        "  #print(alphas.shape,pred.shape,lbls.shape,fidices.shape) \n",
        "  analysis = analyse_data(alphas,lbls,pred,fidices)\n",
        "  return r_loss/i,cc_loss/i,cc_entropy/i,analysis"
      ],
      "execution_count": 26,
      "outputs": []
    },
    {
      "cell_type": "code",
      "metadata": {
        "id": "6e9HQJMzxBhp"
      },
      "source": [
        "def analyse_data(alphas,lbls,predicted,f_idx):\n",
        "    '''\n",
        "       analysis data is created here\n",
        "    '''\n",
        "    batch = len(predicted)\n",
        "    amth,alth,ftpt,ffpt,ftpf,ffpf = 0,0,0,0,0,0\n",
        "    for j in range (batch):\n",
        "      focus = np.argmax(alphas[j])\n",
        "      if(alphas[j][focus] >= 0.5):\n",
        "        amth +=1\n",
        "      else:\n",
        "        alth +=1\n",
        "      if(focus == f_idx[j] and predicted[j] == lbls[j]):\n",
        "        ftpt += 1\n",
        "      elif(focus != f_idx[j] and predicted[j] == lbls[j]):\n",
        "        ffpt +=1\n",
        "      elif(focus == f_idx[j] and predicted[j] != lbls[j]):\n",
        "        ftpf +=1\n",
        "      elif(focus != f_idx[j] and predicted[j] != lbls[j]):\n",
        "        ffpf +=1\n",
        "    #print(sum(predicted==lbls),ftpt+ffpt)\n",
        "    return [ftpt,ffpt,ftpf,ffpf,amth,alth]"
      ],
      "execution_count": 27,
      "outputs": []
    },
    {
      "cell_type": "markdown",
      "metadata": {
        "id": "a2AlGgRa_6_H"
      },
      "source": [
        "# training"
      ]
    },
    {
      "cell_type": "code",
      "metadata": {
        "colab": {
          "base_uri": "https://localhost:8080/"
        },
        "id": "rJ99urwJHWmx",
        "outputId": "e4a05a00-5188-4a4f-aa43-f73e139d57ba"
      },
      "source": [
        "number_runs = 10\n",
        "full_analysis =[]\n",
        "FTPT_analysis = pd.DataFrame(columns = [\"FTPT\",\"FFPT\", \"FTPF\",\"FFPF\"])\n",
        "k = 0\n",
        "for n in range(number_runs):\n",
        "  print(\"--\"*40)\n",
        "  \n",
        "  # instantiate focus and classification Model\n",
        "  torch.manual_seed(n)\n",
        "  where = Focus_deep(5,1,9,5).double()\n",
        "  where.linear1.weight.data[hidden:,:] = where.linear1.weight.data[:hidden,:]\n",
        "  where.linear2.weight.data[:,hidden:] = -where.linear2.weight.data[:,:hidden]\n",
        "  where = where.double().to(\"cuda\")\n",
        "\n",
        "  print(where.helper( torch.randn((1,5,9)).double().to(\"cuda\")))\n",
        "\n",
        "  what = Classification_deep(5,3).double()\n",
        "  where = where.to(\"cuda\")\n",
        "  what = what.to(\"cuda\")\n",
        "\n",
        "  # instantiate optimizer\n",
        "  optimizer_where = optim.Adam(where.parameters(),lr =0.001)\n",
        "  optimizer_what = optim.Adam(what.parameters(), lr=0.001)\n",
        "  #criterion = nn.CrossEntropyLoss()\n",
        "  acti = []\n",
        "  analysis_data = []\n",
        "  loss_curi = []\n",
        "  epochs = 4000\n",
        "\n",
        "\n",
        "  # calculate zeroth epoch loss and FTPT values\n",
        "  running_loss ,_,_,anlys_data= calculate_attn_loss(train_loader,what,where,criterion,k)\n",
        "  loss_curi.append(running_loss)\n",
        "  analysis_data.append(anlys_data)\n",
        "\n",
        "  print('epoch: [%d ] loss: %.3f' %(0,running_loss)) \n",
        "\n",
        "  # training starts \n",
        "  for epoch in range(epochs): # loop over the dataset multiple times\n",
        "    ep_lossi = []\n",
        "    running_loss = 0.0\n",
        "    what.train()\n",
        "    where.train()\n",
        "    for i, data in enumerate(train_loader, 0):\n",
        "      # get the inputs\n",
        "      inputs, labels,_ = data\n",
        "      inputs = inputs.double()\n",
        "      inputs, labels = inputs.to(\"cuda\"),labels.to(\"cuda\")\n",
        "\n",
        "      # zero the parameter gradients\n",
        "      optimizer_where.zero_grad()\n",
        "      optimizer_what.zero_grad()\n",
        "      \n",
        "      # forward + backward + optimize\n",
        "      avg, alpha,log_alpha = where(inputs)\n",
        "      outputs = what(avg)\n",
        "\n",
        "      my_loss,_,_ = my_cross_entropy(outputs,labels,alpha,log_alpha,k)\n",
        "\n",
        "      # print statistics\n",
        "      running_loss += my_loss.item()\n",
        "      my_loss.backward()\n",
        "      optimizer_where.step()\n",
        "      optimizer_what.step()\n",
        "    #break\n",
        "    running_loss,ccloss,ccentropy,anls_data = calculate_attn_loss(train_loader,what,where,criterion,k)\n",
        "    analysis_data.append(anls_data)\n",
        "\n",
        "    if(epoch % 200==0):\n",
        "      print('epoch: [%d] loss: %.3f celoss: %.3f entropy: %.3f' %(epoch + 1,running_loss,ccloss,ccentropy)) \n",
        "    loss_curi.append(running_loss)   #loss per epoch\n",
        "    if running_loss<=0.01:\n",
        "      print('breaking in epoch: ', epoch)\n",
        "      break\n",
        "  print('Finished Training run ' +str(n))\n",
        "  #break\n",
        "  analysis_data = np.array(analysis_data)\n",
        "  FTPT_analysis.loc[n] = analysis_data[-1,:4]/30\n",
        "  full_analysis.append((epoch, analysis_data))\n",
        "  correct = 0\n",
        "  total = 0\n",
        "  with torch.no_grad():\n",
        "    for data in test_loader:\n",
        "      images, labels,_ = data\n",
        "      images = images.double()\n",
        "      images, labels = images.to(\"cuda\"), labels.to(\"cuda\")\n",
        "      avg, alpha,log_alpha = where(images)\n",
        "      outputs  = what(avg)\n",
        "      _, predicted = torch.max(outputs.data, 1)\n",
        "      total += labels.size(0)\n",
        "      correct += (predicted == labels).sum().item()\n",
        "\n",
        "  print('Accuracy of the network on the 3000 test images: %f %%' % (  100 * correct / total))\n",
        "    "
      ],
      "execution_count": 28,
      "outputs": [
        {
          "output_type": "stream",
          "name": "stdout",
          "text": [
            "--------------------------------------------------------------------------------\n",
            "tensor([[[ 6.9389e-18],\n",
            "         [ 1.3878e-17],\n",
            "         [ 4.1633e-17],\n",
            "         [ 1.3878e-17],\n",
            "         [-5.5511e-17]]], device='cuda:0', dtype=torch.float64,\n",
            "       grad_fn=<UnsafeViewBackward>)\n",
            "epoch: [0 ] loss: 1.610\n",
            "epoch: [1] loss: 1.255 celoss: 1.255 entropy: 1.987\n",
            "breaking in epoch:  121\n",
            "Finished Training run 0\n",
            "Accuracy of the network on the 3000 test images: 100.000000 %\n",
            "--------------------------------------------------------------------------------\n",
            "tensor([[[ 0.0000e+00],\n",
            "         [ 0.0000e+00],\n",
            "         [ 1.3878e-17],\n",
            "         [-1.1102e-16],\n",
            "         [ 6.9389e-18]]], device='cuda:0', dtype=torch.float64,\n",
            "       grad_fn=<UnsafeViewBackward>)\n",
            "epoch: [0 ] loss: 1.873\n",
            "epoch: [1] loss: 1.251 celoss: 1.251 entropy: 1.987\n",
            "breaking in epoch:  176\n",
            "Finished Training run 1\n",
            "Accuracy of the network on the 3000 test images: 99.933333 %\n",
            "--------------------------------------------------------------------------------\n",
            "tensor([[[-3.6429e-17],\n",
            "         [ 0.0000e+00],\n",
            "         [-1.1102e-16],\n",
            "         [-3.2960e-17],\n",
            "         [ 0.0000e+00]]], device='cuda:0', dtype=torch.float64,\n",
            "       grad_fn=<UnsafeViewBackward>)\n",
            "epoch: [0 ] loss: 1.891\n",
            "epoch: [1] loss: 1.245 celoss: 1.245 entropy: 1.798\n",
            "breaking in epoch:  147\n",
            "Finished Training run 2\n",
            "Accuracy of the network on the 3000 test images: 99.900000 %\n",
            "--------------------------------------------------------------------------------\n",
            "tensor([[[-1.3878e-17],\n",
            "         [-4.8572e-17],\n",
            "         [ 6.9389e-18],\n",
            "         [ 1.3878e-17],\n",
            "         [-2.7756e-17]]], device='cuda:0', dtype=torch.float64,\n",
            "       grad_fn=<UnsafeViewBackward>)\n",
            "epoch: [0 ] loss: 1.457\n",
            "epoch: [1] loss: 1.207 celoss: 1.207 entropy: 1.955\n",
            "breaking in epoch:  117\n",
            "Finished Training run 3\n",
            "Accuracy of the network on the 3000 test images: 99.966667 %\n",
            "--------------------------------------------------------------------------------\n",
            "tensor([[[ 0.0000e+00],\n",
            "         [ 2.2551e-17],\n",
            "         [ 2.7756e-17],\n",
            "         [-4.1633e-17],\n",
            "         [ 2.7756e-17]]], device='cuda:0', dtype=torch.float64,\n",
            "       grad_fn=<UnsafeViewBackward>)\n",
            "epoch: [0 ] loss: 1.840\n",
            "epoch: [1] loss: 1.262 celoss: 1.262 entropy: 2.202\n",
            "breaking in epoch:  126\n",
            "Finished Training run 4\n",
            "Accuracy of the network on the 3000 test images: 99.966667 %\n",
            "--------------------------------------------------------------------------------\n",
            "tensor([[[ 0.0000e+00],\n",
            "         [ 6.9389e-18],\n",
            "         [ 5.2042e-18],\n",
            "         [ 0.0000e+00],\n",
            "         [-5.5511e-17]]], device='cuda:0', dtype=torch.float64,\n",
            "       grad_fn=<UnsafeViewBackward>)\n",
            "epoch: [0 ] loss: 1.400\n",
            "epoch: [1] loss: 1.219 celoss: 1.219 entropy: 2.059\n",
            "breaking in epoch:  117\n",
            "Finished Training run 5\n",
            "Accuracy of the network on the 3000 test images: 99.966667 %\n",
            "--------------------------------------------------------------------------------\n",
            "tensor([[[0.0000e+00],\n",
            "         [6.9389e-17],\n",
            "         [1.3878e-17],\n",
            "         [8.3267e-17],\n",
            "         [6.9389e-18]]], device='cuda:0', dtype=torch.float64,\n",
            "       grad_fn=<UnsafeViewBackward>)\n",
            "epoch: [0 ] loss: 1.620\n",
            "epoch: [1] loss: 1.262 celoss: 1.262 entropy: 1.989\n",
            "breaking in epoch:  182\n",
            "Finished Training run 6\n",
            "Accuracy of the network on the 3000 test images: 99.933333 %\n",
            "--------------------------------------------------------------------------------\n",
            "tensor([[[ 0.0000e+00],\n",
            "         [-1.3878e-17],\n",
            "         [ 2.7756e-17],\n",
            "         [-2.7756e-17],\n",
            "         [ 1.3878e-17]]], device='cuda:0', dtype=torch.float64,\n",
            "       grad_fn=<UnsafeViewBackward>)\n",
            "epoch: [0 ] loss: 2.296\n",
            "epoch: [1] loss: 1.332 celoss: 1.332 entropy: 1.588\n",
            "breaking in epoch:  134\n",
            "Finished Training run 7\n",
            "Accuracy of the network on the 3000 test images: 100.000000 %\n",
            "--------------------------------------------------------------------------------\n",
            "tensor([[[ 0.0000e+00],\n",
            "         [-2.7756e-17],\n",
            "         [ 6.9389e-18],\n",
            "         [ 0.0000e+00],\n",
            "         [ 1.3878e-17]]], device='cuda:0', dtype=torch.float64,\n",
            "       grad_fn=<UnsafeViewBackward>)\n",
            "epoch: [0 ] loss: 1.774\n",
            "epoch: [1] loss: 1.256 celoss: 1.256 entropy: 2.333\n",
            "breaking in epoch:  128\n",
            "Finished Training run 8\n",
            "Accuracy of the network on the 3000 test images: 100.000000 %\n",
            "--------------------------------------------------------------------------------\n",
            "tensor([[[-1.0408e-17],\n",
            "         [-1.0408e-17],\n",
            "         [-1.0408e-17],\n",
            "         [ 3.4694e-17],\n",
            "         [ 1.7347e-17]]], device='cuda:0', dtype=torch.float64,\n",
            "       grad_fn=<UnsafeViewBackward>)\n",
            "epoch: [0 ] loss: 1.631\n",
            "epoch: [1] loss: 1.239 celoss: 1.239 entropy: 2.077\n",
            "breaking in epoch:  124\n",
            "Finished Training run 9\n",
            "Accuracy of the network on the 3000 test images: 100.000000 %\n"
          ]
        }
      ]
    },
    {
      "cell_type": "code",
      "metadata": {
        "id": "yBbboK0mtLTL",
        "colab": {
          "base_uri": "https://localhost:8080/"
        },
        "outputId": "e833cc10-6704-4031-91f5-d718cafa1b42"
      },
      "source": [
        "print(np.mean(np.array(FTPT_analysis),axis=0)) "
      ],
      "execution_count": 29,
      "outputs": [
        {
          "output_type": "stream",
          "name": "stdout",
          "text": [
            "[9.26600000e+01 7.33666667e+00 3.33333333e-03 0.00000000e+00]\n"
          ]
        }
      ]
    },
    {
      "cell_type": "code",
      "metadata": {
        "id": "aGLofG1qpB4b",
        "colab": {
          "base_uri": "https://localhost:8080/",
          "height": 363
        },
        "outputId": "3841ee79-a398-4c90-9210-56596a13dbdb"
      },
      "source": [
        "FTPT_analysis"
      ],
      "execution_count": 30,
      "outputs": [
        {
          "output_type": "execute_result",
          "data": {
            "text/html": [
              "<div>\n",
              "<style scoped>\n",
              "    .dataframe tbody tr th:only-of-type {\n",
              "        vertical-align: middle;\n",
              "    }\n",
              "\n",
              "    .dataframe tbody tr th {\n",
              "        vertical-align: top;\n",
              "    }\n",
              "\n",
              "    .dataframe thead th {\n",
              "        text-align: right;\n",
              "    }\n",
              "</style>\n",
              "<table border=\"1\" class=\"dataframe\">\n",
              "  <thead>\n",
              "    <tr style=\"text-align: right;\">\n",
              "      <th></th>\n",
              "      <th>FTPT</th>\n",
              "      <th>FFPT</th>\n",
              "      <th>FTPF</th>\n",
              "      <th>FFPF</th>\n",
              "    </tr>\n",
              "  </thead>\n",
              "  <tbody>\n",
              "    <tr>\n",
              "      <th>0</th>\n",
              "      <td>100.000000</td>\n",
              "      <td>0.000000</td>\n",
              "      <td>0.000000</td>\n",
              "      <td>0.0</td>\n",
              "    </tr>\n",
              "    <tr>\n",
              "      <th>1</th>\n",
              "      <td>67.733333</td>\n",
              "      <td>32.233333</td>\n",
              "      <td>0.033333</td>\n",
              "      <td>0.0</td>\n",
              "    </tr>\n",
              "    <tr>\n",
              "      <th>2</th>\n",
              "      <td>67.733333</td>\n",
              "      <td>32.266667</td>\n",
              "      <td>0.000000</td>\n",
              "      <td>0.0</td>\n",
              "    </tr>\n",
              "    <tr>\n",
              "      <th>3</th>\n",
              "      <td>99.933333</td>\n",
              "      <td>0.066667</td>\n",
              "      <td>0.000000</td>\n",
              "      <td>0.0</td>\n",
              "    </tr>\n",
              "    <tr>\n",
              "      <th>4</th>\n",
              "      <td>100.000000</td>\n",
              "      <td>0.000000</td>\n",
              "      <td>0.000000</td>\n",
              "      <td>0.0</td>\n",
              "    </tr>\n",
              "    <tr>\n",
              "      <th>5</th>\n",
              "      <td>100.000000</td>\n",
              "      <td>0.000000</td>\n",
              "      <td>0.000000</td>\n",
              "      <td>0.0</td>\n",
              "    </tr>\n",
              "    <tr>\n",
              "      <th>6</th>\n",
              "      <td>91.200000</td>\n",
              "      <td>8.800000</td>\n",
              "      <td>0.000000</td>\n",
              "      <td>0.0</td>\n",
              "    </tr>\n",
              "    <tr>\n",
              "      <th>7</th>\n",
              "      <td>100.000000</td>\n",
              "      <td>0.000000</td>\n",
              "      <td>0.000000</td>\n",
              "      <td>0.0</td>\n",
              "    </tr>\n",
              "    <tr>\n",
              "      <th>8</th>\n",
              "      <td>100.000000</td>\n",
              "      <td>0.000000</td>\n",
              "      <td>0.000000</td>\n",
              "      <td>0.0</td>\n",
              "    </tr>\n",
              "    <tr>\n",
              "      <th>9</th>\n",
              "      <td>100.000000</td>\n",
              "      <td>0.000000</td>\n",
              "      <td>0.000000</td>\n",
              "      <td>0.0</td>\n",
              "    </tr>\n",
              "  </tbody>\n",
              "</table>\n",
              "</div>"
            ],
            "text/plain": [
              "         FTPT       FFPT      FTPF  FFPF\n",
              "0  100.000000   0.000000  0.000000   0.0\n",
              "1   67.733333  32.233333  0.033333   0.0\n",
              "2   67.733333  32.266667  0.000000   0.0\n",
              "3   99.933333   0.066667  0.000000   0.0\n",
              "4  100.000000   0.000000  0.000000   0.0\n",
              "5  100.000000   0.000000  0.000000   0.0\n",
              "6   91.200000   8.800000  0.000000   0.0\n",
              "7  100.000000   0.000000  0.000000   0.0\n",
              "8  100.000000   0.000000  0.000000   0.0\n",
              "9  100.000000   0.000000  0.000000   0.0"
            ]
          },
          "metadata": {},
          "execution_count": 30
        }
      ]
    },
    {
      "cell_type": "code",
      "metadata": {
        "colab": {
          "base_uri": "https://localhost:8080/",
          "height": 363
        },
        "id": "Rdx_zQIm27aH",
        "outputId": "6e3dd6a4-1437-4aa3-f544-8f57035c2e38"
      },
      "source": [
        "FTPT_analysis[FTPT_analysis['FTPT']+FTPT_analysis['FFPT'] > 90 ]"
      ],
      "execution_count": 31,
      "outputs": [
        {
          "output_type": "execute_result",
          "data": {
            "text/html": [
              "<div>\n",
              "<style scoped>\n",
              "    .dataframe tbody tr th:only-of-type {\n",
              "        vertical-align: middle;\n",
              "    }\n",
              "\n",
              "    .dataframe tbody tr th {\n",
              "        vertical-align: top;\n",
              "    }\n",
              "\n",
              "    .dataframe thead th {\n",
              "        text-align: right;\n",
              "    }\n",
              "</style>\n",
              "<table border=\"1\" class=\"dataframe\">\n",
              "  <thead>\n",
              "    <tr style=\"text-align: right;\">\n",
              "      <th></th>\n",
              "      <th>FTPT</th>\n",
              "      <th>FFPT</th>\n",
              "      <th>FTPF</th>\n",
              "      <th>FFPF</th>\n",
              "    </tr>\n",
              "  </thead>\n",
              "  <tbody>\n",
              "    <tr>\n",
              "      <th>0</th>\n",
              "      <td>100.000000</td>\n",
              "      <td>0.000000</td>\n",
              "      <td>0.000000</td>\n",
              "      <td>0.0</td>\n",
              "    </tr>\n",
              "    <tr>\n",
              "      <th>1</th>\n",
              "      <td>67.733333</td>\n",
              "      <td>32.233333</td>\n",
              "      <td>0.033333</td>\n",
              "      <td>0.0</td>\n",
              "    </tr>\n",
              "    <tr>\n",
              "      <th>2</th>\n",
              "      <td>67.733333</td>\n",
              "      <td>32.266667</td>\n",
              "      <td>0.000000</td>\n",
              "      <td>0.0</td>\n",
              "    </tr>\n",
              "    <tr>\n",
              "      <th>3</th>\n",
              "      <td>99.933333</td>\n",
              "      <td>0.066667</td>\n",
              "      <td>0.000000</td>\n",
              "      <td>0.0</td>\n",
              "    </tr>\n",
              "    <tr>\n",
              "      <th>4</th>\n",
              "      <td>100.000000</td>\n",
              "      <td>0.000000</td>\n",
              "      <td>0.000000</td>\n",
              "      <td>0.0</td>\n",
              "    </tr>\n",
              "    <tr>\n",
              "      <th>5</th>\n",
              "      <td>100.000000</td>\n",
              "      <td>0.000000</td>\n",
              "      <td>0.000000</td>\n",
              "      <td>0.0</td>\n",
              "    </tr>\n",
              "    <tr>\n",
              "      <th>6</th>\n",
              "      <td>91.200000</td>\n",
              "      <td>8.800000</td>\n",
              "      <td>0.000000</td>\n",
              "      <td>0.0</td>\n",
              "    </tr>\n",
              "    <tr>\n",
              "      <th>7</th>\n",
              "      <td>100.000000</td>\n",
              "      <td>0.000000</td>\n",
              "      <td>0.000000</td>\n",
              "      <td>0.0</td>\n",
              "    </tr>\n",
              "    <tr>\n",
              "      <th>8</th>\n",
              "      <td>100.000000</td>\n",
              "      <td>0.000000</td>\n",
              "      <td>0.000000</td>\n",
              "      <td>0.0</td>\n",
              "    </tr>\n",
              "    <tr>\n",
              "      <th>9</th>\n",
              "      <td>100.000000</td>\n",
              "      <td>0.000000</td>\n",
              "      <td>0.000000</td>\n",
              "      <td>0.0</td>\n",
              "    </tr>\n",
              "  </tbody>\n",
              "</table>\n",
              "</div>"
            ],
            "text/plain": [
              "         FTPT       FFPT      FTPF  FFPF\n",
              "0  100.000000   0.000000  0.000000   0.0\n",
              "1   67.733333  32.233333  0.033333   0.0\n",
              "2   67.733333  32.266667  0.000000   0.0\n",
              "3   99.933333   0.066667  0.000000   0.0\n",
              "4  100.000000   0.000000  0.000000   0.0\n",
              "5  100.000000   0.000000  0.000000   0.0\n",
              "6   91.200000   8.800000  0.000000   0.0\n",
              "7  100.000000   0.000000  0.000000   0.0\n",
              "8  100.000000   0.000000  0.000000   0.0\n",
              "9  100.000000   0.000000  0.000000   0.0"
            ]
          },
          "metadata": {},
          "execution_count": 31
        }
      ]
    },
    {
      "cell_type": "code",
      "metadata": {
        "colab": {
          "base_uri": "https://localhost:8080/"
        },
        "id": "Ug413cPT3Hck",
        "outputId": "2f7dfe4a-d9c0-41ee-fc13-d3ab616edd04"
      },
      "source": [
        "print(np.mean(np.array(FTPT_analysis[FTPT_analysis['FTPT']+FTPT_analysis['FFPT'] > 90 ]),axis=0))"
      ],
      "execution_count": 32,
      "outputs": [
        {
          "output_type": "stream",
          "name": "stdout",
          "text": [
            "[9.26600000e+01 7.33666667e+00 3.33333333e-03 0.00000000e+00]\n"
          ]
        }
      ]
    },
    {
      "cell_type": "code",
      "metadata": {
        "id": "2eA8azQPohjT",
        "colab": {
          "base_uri": "https://localhost:8080/",
          "height": 1000
        },
        "outputId": "f27dddf9-b168-4ceb-9c5d-bb400e8c357e"
      },
      "source": [
        "cnt=1\n",
        "for epoch, analysis_data in full_analysis:\n",
        "  analysis_data = np.array(analysis_data)\n",
        "  # print(\"=\"*20+\"run \",cnt,\"=\"*20)\n",
        "  \n",
        "  plt.figure(figsize=(6,5))\n",
        "  plt.plot(np.arange(0,epoch+2,1),analysis_data[:,0]/30,label=\"FTPT\")\n",
        "  plt.plot(np.arange(0,epoch+2,1),analysis_data[:,1]/30,label=\"FFPT\")\n",
        "  plt.plot(np.arange(0,epoch+2,1),analysis_data[:,2]/30,label=\"FTPF\")\n",
        "  plt.plot(np.arange(0,epoch+2,1),analysis_data[:,3]/30,label=\"FFPF\")\n",
        "\n",
        "  plt.title(\"Training trends for run \"+str(cnt))\n",
        "  plt.grid()\n",
        "  # plt.legend(loc='center left', bbox_to_anchor=(1, 0.5))\n",
        "  plt.legend()\n",
        "  plt.xlabel(\"epochs\", fontsize=14, fontweight = 'bold')\n",
        "  plt.ylabel(\"percentage train data\", fontsize=14, fontweight = 'bold')\n",
        "  plt.savefig(path + \"run\"+str(cnt)+\".png\",bbox_inches=\"tight\")\n",
        "  plt.savefig(path + \"run\"+str(cnt)+\".pdf\",bbox_inches=\"tight\")\n",
        "  cnt+=1"
      ],
      "execution_count": 33,
      "outputs": [
        {
          "output_type": "display_data",
          "data": {
            "image/png": "[encoded data removed]",
            "text/plain": [
              "<Figure size 432x360 with 1 Axes>"
            ]
          },
          "metadata": {
            "needs_background": "light"
          }
        },
        {
          "output_type": "display_data",
          "data": {
            "image/png": "[encoded data removed]",
            "text/plain": [
              "<Figure size 432x360 with 1 Axes>"
            ]
          },
          "metadata": {
            "needs_background": "light"
          }
        },
        {
          "output_type": "display_data",
          "data": {
            "image/png": "[encoded data removed]",
            "text/plain": [
              "<Figure size 432x360 with 1 Axes>"
            ]
          },
          "metadata": {
            "needs_background": "light"
          }
        },
        {
          "output_type": "display_data",
          "data": {
            "image/png": "[encoded data removed]",
            "text/plain": [
              "<Figure size 432x360 with 1 Axes>"
            ]
          },
          "metadata": {
            "needs_background": "light"
          }
        },
        {
          "output_type": "display_data",
          "data": {
            "image/png": "[encoded data removed]",
            "text/plain": [
              "<Figure size 432x360 with 1 Axes>"
            ]
          },
          "metadata": {
            "needs_background": "light"
          }
        },
        {
          "output_type": "display_data",
          "data": {
            "image/png": "[encoded data removed]",
            "text/plain": [
              "<Figure size 432x360 with 1 Axes>"
            ]
          },
          "metadata": {
            "needs_background": "light"
          }
        },
        {
          "output_type": "display_data",
          "data": {
            "image/png": "[encoded data removed]",
            "text/plain": [
              "<Figure size 432x360 with 1 Axes>"
            ]
          },
          "metadata": {
            "needs_background": "light"
          }
        },
        {
          "output_type": "display_data",
          "data": {
            "image/png": "[encoded data removed]",
            "text/plain": [
              "<Figure size 432x360 with 1 Axes>"
            ]
          },
          "metadata": {
            "needs_background": "light"
          }
        },
        {
          "output_type": "display_data",
          "data": {
            "image/png": "[encoded data removed]",
            "text/plain": [
              "<Figure size 432x360 with 1 Axes>"
            ]
          },
          "metadata": {
            "needs_background": "light"
          }
        },
        {
          "output_type": "display_data",
          "data": {
            "image/png": "[encoded data removed]",
            "text/plain": [
              "<Figure size 432x360 with 1 Axes>"
            ]
          },
          "metadata": {
            "needs_background": "light"
          }
        }
      ]
    },
    {
      "cell_type": "code",
      "metadata": {
        "id": "AYS7jRsCz30j"
      },
      "source": [
        "FTPT_analysis.to_csv(path+\"synthetic_zeroth.csv\",index=False)"
      ],
      "execution_count": 34,
      "outputs": []
    },
    {
      "cell_type": "code",
      "metadata": {
        "id": "RXIPbWNwxNCj"
      },
      "source": [
        ""
      ],
      "execution_count": 34,
      "outputs": []
    }
  ]
}