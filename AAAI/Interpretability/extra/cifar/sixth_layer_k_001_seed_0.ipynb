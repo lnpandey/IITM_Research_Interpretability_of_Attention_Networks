{
 "cells": [
  {
   "cell_type": "code",
   "execution_count": 1,
   "id": "a7fe9cb6",
   "metadata": {
    "execution": {
     "iopub.execute_input": "2021-08-31T16:21:58.358972Z",
     "iopub.status.busy": "2021-08-31T16:21:58.357975Z",
     "iopub.status.idle": "2021-08-31T16:21:58.359907Z",
     "shell.execute_reply": "2021-08-31T16:21:58.359428Z"
    },
    "id": "JSjG64ra4aFu",
    "outputId": "9aa2b7c9-03a3-4472-e5a7-33d4e93d6d7c",
    "papermill": {
     "duration": 0.03564,
     "end_time": "2021-08-31T16:21:58.360037",
     "exception": false,
     "start_time": "2021-08-31T16:21:58.324397",
     "status": "completed"
    },
    "tags": []
   },
   "outputs": [],
   "source": [
    "# from google.colab import drive\n",
    "# drive.mount('/content/drive')"
   ]
  },
  {
   "cell_type": "code",
   "execution_count": 2,
   "id": "e29a3445",
   "metadata": {
    "execution": {
     "iopub.execute_input": "2021-08-31T16:21:58.495767Z",
     "iopub.status.busy": "2021-08-31T16:21:58.486722Z",
     "iopub.status.idle": "2021-08-31T16:21:59.195455Z",
     "shell.execute_reply": "2021-08-31T16:21:59.195000Z",
     "shell.execute_reply.started": "2021-08-31T16:18:01.341237Z"
    },
    "papermill": {
     "duration": 0.811644,
     "end_time": "2021-08-31T16:21:59.195590",
     "exception": false,
     "start_time": "2021-08-31T16:21:58.383946",
     "status": "completed"
    },
    "tags": []
   },
   "outputs": [
    {
     "name": "stdout",
     "output_type": "stream",
     "text": [
      "/kaggle/working\r\n"
     ]
    }
   ],
   "source": [
    "!pwd"
   ]
  },
  {
   "cell_type": "code",
   "execution_count": 3,
   "id": "6c9c7821",
   "metadata": {
    "execution": {
     "iopub.execute_input": "2021-08-31T16:21:59.266351Z",
     "iopub.status.busy": "2021-08-31T16:21:59.265232Z",
     "iopub.status.idle": "2021-08-31T16:21:59.272435Z",
     "shell.execute_reply": "2021-08-31T16:21:59.273124Z"
    },
    "id": "YuGBqS2Vbfer",
    "papermill": {
     "duration": 0.052523,
     "end_time": "2021-08-31T16:21:59.273418",
     "exception": false,
     "start_time": "2021-08-31T16:21:59.220895",
     "status": "completed"
    },
    "tags": []
   },
   "outputs": [],
   "source": [
    "path = '/kaggle/working/run_1'"
   ]
  },
  {
   "cell_type": "code",
   "execution_count": 4,
   "id": "2a93d5ef",
   "metadata": {
    "execution": {
     "iopub.execute_input": "2021-08-31T16:21:59.330266Z",
     "iopub.status.busy": "2021-08-31T16:21:59.329745Z",
     "iopub.status.idle": "2021-08-31T16:22:00.701503Z",
     "shell.execute_reply": "2021-08-31T16:22:00.702593Z"
    },
    "id": "V8-7SARDZErK",
    "papermill": {
     "duration": 1.402826,
     "end_time": "2021-08-31T16:22:00.702802",
     "exception": false,
     "start_time": "2021-08-31T16:21:59.299976",
     "status": "completed"
    },
    "tags": []
   },
   "outputs": [],
   "source": [
    "import torch.nn as nn\n",
    "import torch.nn.functional as F\n",
    "import pandas as pd\n",
    "import numpy as np\n",
    "import matplotlib.pyplot as plt\n",
    "import torch\n",
    "import torchvision\n",
    "import torchvision.transforms as transforms\n",
    "from torch.utils.data import Dataset, DataLoader\n",
    "from torchvision import transforms, utils\n",
    "from matplotlib import pyplot as plt\n",
    "import copy\n",
    "\n",
    "# Ignore warnings\n",
    "import warnings\n",
    "warnings.filterwarnings(\"ignore\")\n"
   ]
  },
  {
   "cell_type": "code",
   "execution_count": 5,
   "id": "9ea0d8f0",
   "metadata": {
    "execution": {
     "iopub.execute_input": "2021-08-31T16:22:00.793456Z",
     "iopub.status.busy": "2021-08-31T16:22:00.792639Z",
     "iopub.status.idle": "2021-08-31T16:22:07.691391Z",
     "shell.execute_reply": "2021-08-31T16:22:07.690842Z"
    },
    "id": "acRFqJNrZErV",
    "outputId": "24ea6b3a-5cc7-4cb2-baee-096574fffaf0",
    "papermill": {
     "duration": 6.946159,
     "end_time": "2021-08-31T16:22:07.691529",
     "exception": false,
     "start_time": "2021-08-31T16:22:00.745370",
     "status": "completed"
    },
    "tags": []
   },
   "outputs": [
    {
     "name": "stdout",
     "output_type": "stream",
     "text": [
      "Downloading https://www.cs.toronto.edu/~kriz/cifar-10-python.tar.gz to ./data/cifar-10-python.tar.gz\n"
     ]
    },
    {
     "data": {
      "application/vnd.jupyter.widget-view+json": {
       "model_id": "878144579dc34222a69c9fb5ef237ea9",
       "version_major": 2,
       "version_minor": 0
      },
      "text/plain": [
       "0it [00:00, ?it/s]"
      ]
     },
     "metadata": {},
     "output_type": "display_data"
    },
    {
     "name": "stdout",
     "output_type": "stream",
     "text": [
      "Extracting ./data/cifar-10-python.tar.gz to ./data\n",
      "Files already downloaded and verified\n"
     ]
    }
   ],
   "source": [
    "transform = transforms.Compose(\n",
    "    [transforms.ToTensor(),\n",
    "     transforms.Normalize((0.5, 0.5, 0.5), (0.5, 0.5, 0.5))])\n",
    "\n",
    "trainset = torchvision.datasets.CIFAR10(root='./data', train=True, download=True, transform=transform)\n",
    "\n",
    "\n",
    "testset = torchvision.datasets.CIFAR10(root='./data', train=False, download=True, transform=transform)\n"
   ]
  },
  {
   "cell_type": "code",
   "execution_count": 6,
   "id": "3a96d5fc",
   "metadata": {
    "execution": {
     "iopub.execute_input": "2021-08-31T16:22:07.748897Z",
     "iopub.status.busy": "2021-08-31T16:22:07.748187Z",
     "iopub.status.idle": "2021-08-31T16:22:07.750934Z",
     "shell.execute_reply": "2021-08-31T16:22:07.750504Z"
    },
    "id": "gh5DXuAV1tp5",
    "papermill": {
     "duration": 0.033392,
     "end_time": "2021-08-31T16:22:07.751047",
     "exception": false,
     "start_time": "2021-08-31T16:22:07.717655",
     "status": "completed"
    },
    "tags": []
   },
   "outputs": [],
   "source": [
    "trainloader = torch.utils.data.DataLoader(trainset, batch_size=10, shuffle=False)\n",
    "testloader = torch.utils.data.DataLoader(testset, batch_size=10, shuffle=False)\n",
    "\n",
    "\n",
    "classes = ('plane', 'car', 'bird', 'cat', 'deer', 'dog', 'frog', 'horse', 'ship', 'truck')\n",
    "\n",
    "foreground_classes = {'plane', 'car', 'bird'}\n",
    "#foreground_classes = {'bird', 'cat', 'deer'}\n",
    "background_classes = {'cat', 'deer', 'dog', 'frog', 'horse', 'ship', 'truck'}\n",
    "#background_classes = {'plane', 'car', 'dog', 'frog', 'horse','ship', 'truck'}\n",
    "\n",
    "fg1,fg2,fg3 = 0,1,2"
   ]
  },
  {
   "cell_type": "code",
   "execution_count": 7,
   "id": "125d47dd",
   "metadata": {
    "execution": {
     "iopub.execute_input": "2021-08-31T16:22:07.810584Z",
     "iopub.status.busy": "2021-08-31T16:22:07.810063Z",
     "iopub.status.idle": "2021-08-31T16:22:56.624513Z",
     "shell.execute_reply": "2021-08-31T16:22:56.624978Z"
    },
    "id": "V_JUhwCeZErk",
    "papermill": {
     "duration": 48.847852,
     "end_time": "2021-08-31T16:22:56.625158",
     "exception": false,
     "start_time": "2021-08-31T16:22:07.777306",
     "status": "completed"
    },
    "tags": []
   },
   "outputs": [],
   "source": [
    "dataiter = iter(trainloader)\n",
    "background_data=[]\n",
    "background_label=[]\n",
    "foreground_data=[]\n",
    "foreground_label=[]\n",
    "batch_size=10\n",
    "\n",
    "for i in range(5000):\n",
    "  images, labels = dataiter.next()\n",
    "  for j in range(batch_size):\n",
    "    if(classes[labels[j]] in background_classes):\n",
    "      img = images[j].tolist()\n",
    "      background_data.append(img)\n",
    "      background_label.append(labels[j])\n",
    "    else:\n",
    "      img = images[j].tolist()\n",
    "      foreground_data.append(img)\n",
    "      foreground_label.append(labels[j])\n",
    "            \n",
    "foreground_data = torch.tensor(foreground_data)\n",
    "foreground_label = torch.tensor(foreground_label)\n",
    "background_data = torch.tensor(background_data)\n",
    "background_label = torch.tensor(background_label)"
   ]
  },
  {
   "cell_type": "code",
   "execution_count": 8,
   "id": "2c10e109",
   "metadata": {
    "execution": {
     "iopub.execute_input": "2021-08-31T16:22:56.684663Z",
     "iopub.status.busy": "2021-08-31T16:22:56.684151Z",
     "iopub.status.idle": "2021-08-31T16:22:56.687448Z",
     "shell.execute_reply": "2021-08-31T16:22:56.687838Z"
    },
    "id": "uW9MkktGysAp",
    "papermill": {
     "duration": 0.034963,
     "end_time": "2021-08-31T16:22:56.688051",
     "exception": false,
     "start_time": "2021-08-31T16:22:56.653088",
     "status": "completed"
    },
    "tags": []
   },
   "outputs": [],
   "source": [
    "def create_mosaic_img(bg_idx,fg_idx,fg): \n",
    "  \"\"\"\n",
    "  bg_idx : list of indexes of background_data[] to be used as background images in mosaic\n",
    "  fg_idx : index of image to be used as foreground image from foreground data\n",
    "  fg : at what position/index foreground image has to be stored out of 0-8\n",
    "  \"\"\"\n",
    "  image_list=[]\n",
    "  j=0\n",
    "  for i in range(9):\n",
    "    if i != fg:\n",
    "      image_list.append(background_data[bg_idx[j]])#.type(\"torch.DoubleTensor\"))\n",
    "      j+=1\n",
    "    else: \n",
    "      image_list.append(foreground_data[fg_idx])#.type(\"torch.DoubleTensor\"))\n",
    "      label = foreground_label[fg_idx]- fg1  # minus fg1 because our fore ground classes are fg1,fg2,fg3 but we have to store it as 0,1,2\n",
    "  #image_list = np.concatenate(image_list ,axis=0)\n",
    "  image_list = torch.stack(image_list) \n",
    "  return image_list,label"
   ]
  },
  {
   "cell_type": "code",
   "execution_count": 9,
   "id": "ac14d901",
   "metadata": {
    "execution": {
     "iopub.execute_input": "2021-08-31T16:22:56.746272Z",
     "iopub.status.busy": "2021-08-31T16:22:56.745764Z",
     "iopub.status.idle": "2021-08-31T16:23:01.852053Z",
     "shell.execute_reply": "2021-08-31T16:23:01.852693Z"
    },
    "id": "lWxkp87fNwnM",
    "papermill": {
     "duration": 5.139195,
     "end_time": "2021-08-31T16:23:01.852929",
     "exception": false,
     "start_time": "2021-08-31T16:22:56.713734",
     "status": "completed"
    },
    "tags": []
   },
   "outputs": [],
   "source": [
    "desired_num = 30000\n",
    "mosaic_list_of_images =[]      # list of mosaic images, each mosaic image is saved as list of 9 images\n",
    "fore_idx =[]                   # list of indexes at which foreground image is present in a mosaic image i.e from 0 to 9               \n",
    "mosaic_label=[]                # label of mosaic image = foreground class present in that mosaic\n",
    "for i in range(desired_num):\n",
    "  np.random.seed(i)\n",
    "  bg_idx = np.random.randint(0,35000,8)\n",
    "  fg_idx = np.random.randint(0,15000)\n",
    "  fg = np.random.randint(0,9)\n",
    "  fore_idx.append(fg)\n",
    "  image_list,label = create_mosaic_img(bg_idx,fg_idx,fg)\n",
    "  mosaic_list_of_images.append(image_list)\n",
    "  mosaic_label.append(label)"
   ]
  },
  {
   "cell_type": "code",
   "execution_count": 10,
   "id": "892ece11",
   "metadata": {
    "execution": {
     "iopub.execute_input": "2021-08-31T16:23:01.950024Z",
     "iopub.status.busy": "2021-08-31T16:23:01.949226Z",
     "iopub.status.idle": "2021-08-31T16:23:01.952571Z",
     "shell.execute_reply": "2021-08-31T16:23:01.953159Z"
    },
    "id": "AJuGak6_zXgx",
    "papermill": {
     "duration": 0.057829,
     "end_time": "2021-08-31T16:23:01.953341",
     "exception": false,
     "start_time": "2021-08-31T16:23:01.895512",
     "status": "completed"
    },
    "tags": []
   },
   "outputs": [],
   "source": [
    "class MosaicDataset(Dataset):\n",
    "  \"\"\"MosaicDataset dataset.\"\"\"\n",
    "\n",
    "  def __init__(self, mosaic_list_of_images, mosaic_label, fore_idx):\n",
    "    \"\"\"\n",
    "      Args:\n",
    "        csv_file (string): Path to the csv file with annotations.\n",
    "        root_dir (string): Directory with all the images.\n",
    "        transform (callable, optional): Optional transform to be applied\n",
    "            on a sample.\n",
    "    \"\"\"\n",
    "    self.mosaic = mosaic_list_of_images\n",
    "    self.label = mosaic_label\n",
    "    self.fore_idx = fore_idx\n",
    "\n",
    "  def __len__(self):\n",
    "    return len(self.label)\n",
    "\n",
    "  def __getitem__(self, idx):\n",
    "    return self.mosaic[idx] , self.label[idx], self.fore_idx[idx]\n",
    "\n",
    "batch = 250\n",
    "msd = MosaicDataset(mosaic_list_of_images, mosaic_label , fore_idx)\n",
    "train_loader = DataLoader( msd,batch_size= batch ,shuffle=True)"
   ]
  },
  {
   "cell_type": "code",
   "execution_count": 11,
   "id": "51895479",
   "metadata": {
    "execution": {
     "iopub.execute_input": "2021-08-31T16:23:02.045310Z",
     "iopub.status.busy": "2021-08-31T16:23:02.044485Z",
     "iopub.status.idle": "2021-08-31T16:23:02.069973Z",
     "shell.execute_reply": "2021-08-31T16:23:02.069512Z"
    },
    "id": "VxkwCqcYRtGc",
    "papermill": {
     "duration": 0.075679,
     "end_time": "2021-08-31T16:23:02.070163",
     "exception": false,
     "start_time": "2021-08-31T16:23:01.994484",
     "status": "completed"
    },
    "tags": []
   },
   "outputs": [],
   "source": [
    "class Focus(nn.Module):\n",
    "  def __init__(self):\n",
    "    super(Focus, self).__init__()\n",
    "    self.conv1 = nn.Conv2d(in_channels=3, out_channels=32, kernel_size=3, padding=0,bias=False)\n",
    "    self.conv2 = nn.Conv2d(in_channels=32, out_channels=64, kernel_size=3, padding=0,bias=False)\n",
    "    self.conv3 = nn.Conv2d(in_channels=64, out_channels=64, kernel_size=3, padding=0,bias=False)\n",
    "    self.conv4 = nn.Conv2d(in_channels=64, out_channels=128, kernel_size=3, padding=0,bias=False)\n",
    "    self.conv5 = nn.Conv2d(in_channels=128, out_channels=256, kernel_size=3, padding=0,bias=False)\n",
    "    self.conv6 = nn.Conv2d(in_channels=256, out_channels=256, kernel_size=3, padding=1,bias=False)\n",
    "    self.pool = nn.MaxPool2d(kernel_size=2, stride=2)\n",
    "    self.batch_norm1 = nn.BatchNorm2d(32,track_running_stats=False)\n",
    "    self.batch_norm2 = nn.BatchNorm2d(64,track_running_stats=False)\n",
    "    self.batch_norm3 = nn.BatchNorm2d(256,track_running_stats=False)\n",
    "    self.dropout1 = nn.Dropout2d(p=0.05)\n",
    "    self.dropout2 = nn.Dropout2d(p=0.1)\n",
    "    self.fc1 = nn.Linear(256,64,bias=False)\n",
    "    self.fc2 = nn.Linear(64, 32,bias=False)\n",
    "    self.fc3 = nn.Linear(32, 10,bias=False)\n",
    "    self.fc4 = nn.Linear(10, 1,bias=False)\n",
    "\n",
    "    torch.nn.init.xavier_normal_(self.conv1.weight)\n",
    "    torch.nn.init.xavier_normal_(self.conv2.weight)\n",
    "    torch.nn.init.xavier_normal_(self.conv3.weight)\n",
    "    torch.nn.init.xavier_normal_(self.conv4.weight)\n",
    "    torch.nn.init.xavier_normal_(self.conv5.weight)\n",
    "    torch.nn.init.xavier_normal_(self.conv6.weight)\n",
    "\n",
    "    torch.nn.init.xavier_normal_(self.fc1.weight)\n",
    "    torch.nn.init.xavier_normal_(self.fc2.weight)\n",
    "    torch.nn.init.xavier_normal_(self.fc3.weight)\n",
    "    torch.nn.init.xavier_normal_(self.fc4.weight)\n",
    "\n",
    "  def forward(self,z):  #y is avg image #z batch of list of 9 images\n",
    "    y = torch.zeros([batch,256, 3,3], dtype=torch.float64)\n",
    "    x = torch.zeros([batch,9],dtype=torch.float64)\n",
    "    ftr = torch.zeros([batch,9,256,3,3])\n",
    "    y = y.to(\"cuda\")\n",
    "    x = x.to(\"cuda\")\n",
    "    ftr = ftr.to(\"cuda\")\n",
    "    \n",
    "    for i in range(9):\n",
    "        out,ftrs = self.helper(z[:,i])\n",
    "        #print(out.shape)\n",
    "        x[:,i] = out\n",
    "        ftr[:,i] = ftrs\n",
    "    log_x = F.log_softmax(x,dim=1)  # log_alpha\n",
    "    x = F.softmax(x,dim=1) \n",
    "\n",
    "    for i in range(9):            \n",
    "      x1 = x[:,i]          \n",
    "      y = y + torch.mul(x1[:,None,None,None],ftr[:,i])\n",
    "\n",
    "    return x,log_x, y #alpha, log_alpha, avg_data\n",
    "    \n",
    "  def helper(self, x):\n",
    "    #x1 = x\n",
    "    #x1 =x\n",
    "    x = self.conv1(x)\n",
    "    x = F.relu(self.batch_norm1(x))\n",
    "\n",
    "    x = (F.relu(self.conv2(x)))\n",
    "    x = self.pool(x)\n",
    "    \n",
    "    x = self.conv3(x)\n",
    "    x = F.relu(self.batch_norm2(x))\n",
    "\n",
    "    x = (F.relu(self.conv4(x)))\n",
    "    x = self.pool(x)\n",
    "    x = self.dropout1(x)\n",
    "\n",
    "    x = self.conv5(x)\n",
    "    \n",
    "    x = F.relu(self.batch_norm3(x))\n",
    "\n",
    "    x = self.conv6(x)\n",
    "    x1 = F.tanh(x)\n",
    "    x = F.relu(x)\n",
    "    x = self.pool(x)\n",
    "\n",
    "    x = x.view(x.size(0), -1)\n",
    "\n",
    "    x = self.dropout2(x)\n",
    "    x = F.relu(self.fc1(x))\n",
    "    x = F.relu(self.fc2(x))\n",
    "    x = self.dropout2(x)\n",
    "    x = F.relu(self.fc3(x))\n",
    "    x = self.fc4(x)\n",
    "    x = x[:,0] \n",
    "    #print(x.shape)\n",
    "    return x,x1"
   ]
  },
  {
   "cell_type": "code",
   "execution_count": 12,
   "id": "50c677ee",
   "metadata": {
    "execution": {
     "iopub.execute_input": "2021-08-31T16:23:02.166047Z",
     "iopub.status.busy": "2021-08-31T16:23:02.165492Z",
     "iopub.status.idle": "2021-08-31T16:23:06.751285Z",
     "shell.execute_reply": "2021-08-31T16:23:06.750555Z"
    },
    "id": "1GvXR1zV5n4w",
    "papermill": {
     "duration": 4.637947,
     "end_time": "2021-08-31T16:23:06.751468",
     "exception": false,
     "start_time": "2021-08-31T16:23:02.113521",
     "status": "completed"
    },
    "tags": []
   },
   "outputs": [],
   "source": [
    "torch.manual_seed(0)\n",
    "focus_net = Focus().double()\n",
    "focus_net = focus_net.to(\"cuda\")"
   ]
  },
  {
   "cell_type": "code",
   "execution_count": 13,
   "id": "d32d52b9",
   "metadata": {
    "execution": {
     "iopub.execute_input": "2021-08-31T16:23:06.855948Z",
     "iopub.status.busy": "2021-08-31T16:23:06.855174Z",
     "iopub.status.idle": "2021-08-31T16:23:07.777037Z",
     "shell.execute_reply": "2021-08-31T16:23:07.777459Z"
    },
    "id": "mV8YEa74b62J",
    "outputId": "45548076-bf0c-4934-da72-4b7c323a13f4",
    "papermill": {
     "duration": 0.977046,
     "end_time": "2021-08-31T16:23:07.777604",
     "exception": false,
     "start_time": "2021-08-31T16:23:06.800558",
     "status": "completed"
    },
    "tags": []
   },
   "outputs": [
    {
     "data": {
      "text/plain": [
       "(tensor([ 0.0000e+00,  0.0000e+00,  0.0000e+00, -1.7347e-18,  1.3878e-17],\n",
       "        device='cuda:0', dtype=torch.float64, grad_fn=<SelectBackward>),\n",
       " tensor([[[[-6.9270e-01, -7.4384e-01, -8.6014e-01],\n",
       "           [-6.4608e-01, -2.5373e-01, -1.7676e-01],\n",
       "           [-1.5501e-02, -1.6789e-01,  2.6978e-01]],\n",
       " \n",
       "          [[ 2.8931e-03,  5.7462e-02, -2.7321e-01],\n",
       "           [-1.0880e-01, -3.6941e-01, -2.9590e-01],\n",
       "           [ 2.9016e-04, -3.2321e-01, -3.2141e-01]],\n",
       " \n",
       "          [[ 2.8162e-01, -6.1387e-01,  4.9848e-02],\n",
       "           [-3.0958e-01,  6.5193e-01, -4.2579e-01],\n",
       "           [ 7.5063e-01,  3.9877e-02, -3.2868e-01]],\n",
       " \n",
       "          ...,\n",
       " \n",
       "          [[-1.2446e-01, -6.7808e-01, -6.7794e-01],\n",
       "           [-4.4224e-01, -6.7451e-01, -5.6011e-02],\n",
       "           [-2.8785e-02, -3.7409e-01, -5.1330e-01]],\n",
       " \n",
       "          [[ 4.9193e-01,  2.5395e-01,  3.0708e-01],\n",
       "           [ 6.6062e-01,  5.8003e-01,  1.9734e-02],\n",
       "           [ 2.5318e-01,  1.1156e-02, -2.3247e-01]],\n",
       " \n",
       "          [[ 4.1030e-01, -2.6836e-01,  4.5044e-01],\n",
       "           [ 8.2012e-01, -6.1911e-01, -2.5484e-01],\n",
       "           [-6.1677e-01, -3.3003e-01, -2.0213e-01]]],\n",
       " \n",
       " \n",
       "         [[[-8.2603e-01, -1.3109e-01,  2.8234e-01],\n",
       "           [-7.7091e-01, -5.6518e-01,  5.5152e-01],\n",
       "           [ 3.1260e-01, -1.0254e-01, -5.3711e-02]],\n",
       " \n",
       "          [[-2.8804e-01, -3.3857e-01, -3.2494e-01],\n",
       "           [-6.2158e-01, -8.0456e-01,  8.1313e-02],\n",
       "           [ 2.7740e-02, -5.2702e-01, -3.9490e-01]],\n",
       " \n",
       "          [[-7.3603e-02, -5.8831e-01, -5.0174e-01],\n",
       "           [-7.0803e-02,  6.7697e-01,  6.4995e-01],\n",
       "           [-7.2511e-01, -8.7946e-02, -6.2243e-02]],\n",
       " \n",
       "          ...,\n",
       " \n",
       "          [[ 4.9189e-01,  7.6866e-01, -1.1989e-01],\n",
       "           [-5.1985e-01, -6.3772e-01,  2.3349e-01],\n",
       "           [ 7.0132e-01, -4.3306e-01, -6.2935e-01]],\n",
       " \n",
       "          [[ 4.6547e-01,  3.6217e-01,  4.0677e-01],\n",
       "           [ 8.7009e-01,  5.2311e-01,  3.7133e-01],\n",
       "           [ 6.8486e-02,  2.8866e-01,  3.1210e-01]],\n",
       " \n",
       "          [[-1.9503e-01,  6.8286e-01, -3.5433e-01],\n",
       "           [-7.2520e-01,  1.9522e-01,  2.7720e-01],\n",
       "           [-1.3010e-01,  6.9709e-01, -6.5625e-01]]],\n",
       " \n",
       " \n",
       "         [[[-4.9524e-01, -9.5276e-01, -6.5412e-01],\n",
       "           [-4.6092e-01, -5.6966e-01, -2.5961e-01],\n",
       "           [ 2.7485e-01, -4.9751e-01, -5.1978e-01]],\n",
       " \n",
       "          [[ 1.9097e-01, -6.1564e-01, -4.1536e-01],\n",
       "           [ 3.9511e-01, -3.4377e-01,  4.5453e-01],\n",
       "           [-5.7032e-01, -1.5623e-01,  3.6711e-01]],\n",
       " \n",
       "          [[-1.8149e-01, -7.8183e-01, -2.2822e-01],\n",
       "           [-1.5508e-02, -3.3060e-01,  5.6352e-01],\n",
       "           [ 5.8703e-01,  3.5508e-02,  2.2999e-01]],\n",
       " \n",
       "          ...,\n",
       " \n",
       "          [[ 4.3759e-01, -4.1399e-01, -5.4874e-01],\n",
       "           [ 4.2623e-01, -8.0228e-01, -5.7152e-01],\n",
       "           [ 6.1019e-01, -1.2682e-01, -5.6802e-01]],\n",
       " \n",
       "          [[ 6.0078e-01, -4.9937e-01, -3.9164e-01],\n",
       "           [ 1.6884e-01, -1.9537e-02, -1.1588e-01],\n",
       "           [ 5.2018e-01, -2.8911e-01,  3.4976e-01]],\n",
       " \n",
       "          [[ 7.0838e-01,  1.9974e-01,  3.0771e-01],\n",
       "           [-3.5611e-01, -6.9277e-01,  2.4152e-02],\n",
       "           [-7.2932e-02, -4.7252e-01,  1.2633e-01]]],\n",
       " \n",
       " \n",
       "         [[[-7.3450e-01, -5.9080e-01,  1.9955e-01],\n",
       "           [-5.9376e-01,  3.3482e-01, -7.1454e-01],\n",
       "           [ 6.4902e-02, -5.3563e-01, -3.1783e-01]],\n",
       " \n",
       "          [[-6.2289e-01, -8.3530e-01,  3.6286e-01],\n",
       "           [-1.0942e-01, -6.1523e-01,  4.0691e-02],\n",
       "           [-6.5272e-02, -6.8428e-01, -4.8085e-01]],\n",
       " \n",
       "          [[-3.3298e-01, -5.0188e-01, -2.3275e-01],\n",
       "           [-9.3330e-02,  5.8522e-01,  1.2296e-01],\n",
       "           [ 8.2612e-01,  5.3611e-02,  5.4652e-01]],\n",
       " \n",
       "          ...,\n",
       " \n",
       "          [[ 3.9651e-01, -1.4733e-01, -1.5731e-01],\n",
       "           [-6.5686e-01,  2.0203e-01, -5.9921e-01],\n",
       "           [-5.7731e-02, -6.4510e-01, -3.8155e-01]],\n",
       " \n",
       "          [[ 2.2656e-01, -1.4853e-01,  1.1839e-01],\n",
       "           [ 4.8454e-01, -7.4121e-02,  4.8200e-01],\n",
       "           [ 1.7466e-01,  7.5808e-01, -1.6261e-02]],\n",
       " \n",
       "          [[ 6.0245e-01, -3.5322e-01, -3.4118e-01],\n",
       "           [-2.1179e-01,  4.4454e-01, -4.0854e-01],\n",
       "           [-2.5050e-01, -1.2717e-01, -3.5680e-01]]],\n",
       " \n",
       " \n",
       "         [[[-6.1420e-01, -6.2170e-01, -3.4749e-01],\n",
       "           [-3.1242e-01, -6.6490e-01, -8.2009e-01],\n",
       "           [-4.3628e-01, -2.9879e-01,  2.9489e-01]],\n",
       " \n",
       "          [[-2.2380e-01, -2.1899e-01, -3.9308e-01],\n",
       "           [ 1.0885e-01,  8.2623e-01,  4.6400e-02],\n",
       "           [-3.6784e-01, -8.0025e-01, -3.9832e-01]],\n",
       " \n",
       "          [[-2.1205e-01, -8.5297e-01, -3.4277e-01],\n",
       "           [-1.6117e-01,  1.5311e-01,  6.0017e-01],\n",
       "           [-5.1266e-01, -2.5222e-01,  2.9254e-01]],\n",
       " \n",
       "          ...,\n",
       " \n",
       "          [[ 3.6493e-01,  3.6933e-01, -2.6317e-01],\n",
       "           [ 6.4066e-01,  2.2652e-01, -4.7559e-01],\n",
       "           [ 4.2221e-01, -1.3992e-01,  2.8685e-01]],\n",
       " \n",
       "          [[ 7.6217e-01,  6.1559e-01,  1.7756e-01],\n",
       "           [ 7.2585e-01,  9.8016e-01,  3.5427e-01],\n",
       "           [-3.8544e-01,  5.0595e-01, -4.6226e-01]],\n",
       " \n",
       "          [[ 7.5942e-01,  8.0318e-01,  2.8686e-01],\n",
       "           [ 9.0013e-02,  3.6282e-02,  1.2493e-01],\n",
       "           [ 3.2661e-01, -2.4885e-01, -3.1114e-01]]]], device='cuda:0',\n",
       "        dtype=torch.float64, grad_fn=<TanhBackward>))"
      ]
     },
     "execution_count": 13,
     "metadata": {},
     "output_type": "execute_result"
    }
   ],
   "source": [
    "focus_net.fc3.weight.data[5:,:] = focus_net.fc3.weight.data[:5,:] \n",
    "\n",
    "\n",
    "focus_net.fc4.weight.data[:,5:] = -focus_net.fc4.weight.data[:,:5] \n",
    "\n",
    "\n",
    "focus_net.helper( torch.randn((5,3,32,32)).double().to(\"cuda\") )"
   ]
  },
  {
   "cell_type": "code",
   "execution_count": 14,
   "id": "7d4488ca",
   "metadata": {
    "execution": {
     "iopub.execute_input": "2021-08-31T16:23:07.839734Z",
     "iopub.status.busy": "2021-08-31T16:23:07.838469Z",
     "iopub.status.idle": "2021-08-31T16:23:07.841805Z",
     "shell.execute_reply": "2021-08-31T16:23:07.842426Z"
    },
    "id": "0uE2ecgApdwn",
    "outputId": "2641f323-1809-438a-b9c2-3e6205b524ab",
    "papermill": {
     "duration": 0.037486,
     "end_time": "2021-08-31T16:23:07.842588",
     "exception": false,
     "start_time": "2021-08-31T16:23:07.805102",
     "status": "completed"
    },
    "tags": []
   },
   "outputs": [
    {
     "name": "stdout",
     "output_type": "stream",
     "text": [
      "True\n",
      "True\n",
      "True\n",
      "True\n",
      "True\n",
      "True\n",
      "True\n",
      "True\n",
      "True\n",
      "True\n",
      "True\n",
      "True\n",
      "True\n",
      "True\n",
      "True\n",
      "True\n"
     ]
    }
   ],
   "source": [
    "for params in focus_net.parameters():\n",
    "  print(params.requires_grad)"
   ]
  },
  {
   "cell_type": "code",
   "execution_count": 15,
   "id": "cabf8dc6",
   "metadata": {
    "execution": {
     "iopub.execute_input": "2021-08-31T16:23:07.914683Z",
     "iopub.status.busy": "2021-08-31T16:23:07.909530Z",
     "iopub.status.idle": "2021-08-31T16:23:07.917183Z",
     "shell.execute_reply": "2021-08-31T16:23:07.916753Z"
    },
    "id": "LYdCXceZzSk9",
    "papermill": {
     "duration": 0.047752,
     "end_time": "2021-08-31T16:23:07.917292",
     "exception": false,
     "start_time": "2021-08-31T16:23:07.869540",
     "status": "completed"
    },
    "tags": []
   },
   "outputs": [],
   "source": [
    "class Classification(nn.Module):\n",
    "  def __init__(self):\n",
    "    super(Classification, self).__init__()\n",
    "    self.conv1 = nn.Conv2d(in_channels=256, out_channels=128, kernel_size=3, padding=1)\n",
    "    self.conv2 = nn.Conv2d(in_channels=128, out_channels=128, kernel_size=3, padding=1)\n",
    "    self.conv3 = nn.Conv2d(in_channels=128, out_channels=256, kernel_size=3, padding=1)\n",
    "    self.conv4 = nn.Conv2d(in_channels=256, out_channels=256, kernel_size=3, padding=1)\n",
    "    self.conv5 = nn.Conv2d(in_channels=256, out_channels=512, kernel_size=3, padding=1)\n",
    "    self.conv6 = nn.Conv2d(in_channels=512, out_channels=512, kernel_size=3, padding=1)\n",
    "    self.pool = nn.MaxPool2d(kernel_size=2, stride=2,padding=1)\n",
    "    self.batch_norm1 = nn.BatchNorm2d(128,track_running_stats=False)\n",
    "    self.batch_norm2 = nn.BatchNorm2d(256,track_running_stats=False)\n",
    "    self.batch_norm3 = nn.BatchNorm2d(512,track_running_stats=False)\n",
    "    self.dropout1 = nn.Dropout2d(p=0.05)\n",
    "    self.dropout2 = nn.Dropout2d(p=0.1)\n",
    "    self.global_average_pooling = nn.AvgPool2d(kernel_size=2)\n",
    "    self.fc1 = nn.Linear(512,128)\n",
    "    # self.fc2 = nn.Linear(128, 64)\n",
    "    # self.fc3 = nn.Linear(64, 10)\n",
    "    self.fc2 = nn.Linear(128, 3)\n",
    "\n",
    "    torch.nn.init.xavier_normal_(self.conv1.weight)\n",
    "    torch.nn.init.xavier_normal_(self.conv2.weight)\n",
    "    torch.nn.init.xavier_normal_(self.conv3.weight)\n",
    "    torch.nn.init.xavier_normal_(self.conv4.weight)\n",
    "    torch.nn.init.xavier_normal_(self.conv5.weight)\n",
    "    torch.nn.init.xavier_normal_(self.conv6.weight)\n",
    "\n",
    "    torch.nn.init.zeros_(self.conv1.bias)\n",
    "    torch.nn.init.zeros_(self.conv2.bias)\n",
    "    torch.nn.init.zeros_(self.conv3.bias)\n",
    "    torch.nn.init.zeros_(self.conv4.bias)\n",
    "    torch.nn.init.zeros_(self.conv5.bias)\n",
    "    torch.nn.init.zeros_(self.conv6.bias)\n",
    "\n",
    "\n",
    "    torch.nn.init.xavier_normal_(self.fc1.weight)\n",
    "    torch.nn.init.xavier_normal_(self.fc2.weight)\n",
    "    torch.nn.init.zeros_(self.fc1.bias)\n",
    "    torch.nn.init.zeros_(self.fc2.bias)\n",
    "\n",
    "\n",
    "  def forward(self, x):\n",
    "    x = self.conv1(x)\n",
    "    x = F.relu(self.batch_norm1(x))\n",
    "\n",
    "    x = (F.relu(self.conv2(x)))\n",
    "    x = self.pool(x)\n",
    "    \n",
    "    x = self.conv3(x)\n",
    "    x = F.relu(self.batch_norm2(x))\n",
    "\n",
    "    x = (F.relu(self.conv4(x)))\n",
    "    x = self.pool(x)\n",
    "    x = self.dropout1(x)\n",
    "\n",
    "    x = self.conv5(x)\n",
    "    x = F.relu(self.batch_norm3(x))\n",
    "\n",
    "    x = (F.relu(self.conv6(x)))\n",
    "    x = self.pool(x)\n",
    "    #print(x.shape)\n",
    "    x = self.global_average_pooling(x)\n",
    "    x = x.squeeze()\n",
    "    #x = x.view(x.size(0), -1)\n",
    "    #print(x.shape)\n",
    "    x = self.dropout2(x)\n",
    "    x = F.relu(self.fc1(x))\n",
    "    #x = F.relu(self.fc2(x))\n",
    "    #x = self.dropout2(x)\n",
    "    #x = F.relu(self.fc3(x))\n",
    "    x = self.fc2(x)\n",
    "    return x"
   ]
  },
  {
   "cell_type": "code",
   "execution_count": 16,
   "id": "5e0b4a3b",
   "metadata": {
    "execution": {
     "iopub.execute_input": "2021-08-31T16:23:07.975445Z",
     "iopub.status.busy": "2021-08-31T16:23:07.974772Z",
     "iopub.status.idle": "2021-08-31T16:23:08.091312Z",
     "shell.execute_reply": "2021-08-31T16:23:08.090815Z"
    },
    "id": "uPYplUGazU9I",
    "papermill": {
     "duration": 0.147332,
     "end_time": "2021-08-31T16:23:08.091431",
     "exception": false,
     "start_time": "2021-08-31T16:23:07.944099",
     "status": "completed"
    },
    "tags": []
   },
   "outputs": [],
   "source": [
    "torch.manual_seed(0)\n",
    "classify = Classification().double()\n",
    "classify = classify.to(\"cuda\")"
   ]
  },
  {
   "cell_type": "code",
   "execution_count": 17,
   "id": "caa84197",
   "metadata": {
    "execution": {
     "iopub.execute_input": "2021-08-31T16:23:08.154369Z",
     "iopub.status.busy": "2021-08-31T16:23:08.150586Z",
     "iopub.status.idle": "2021-08-31T16:23:08.157504Z",
     "shell.execute_reply": "2021-08-31T16:23:08.157940Z"
    },
    "id": "wh4QKVHrjvNK",
    "outputId": "2bc75e96-dbba-48e9-abda-6b59593c490c",
    "papermill": {
     "duration": 0.038891,
     "end_time": "2021-08-31T16:23:08.158097",
     "exception": false,
     "start_time": "2021-08-31T16:23:08.119206",
     "status": "completed"
    },
    "tags": []
   },
   "outputs": [
    {
     "name": "stdout",
     "output_type": "stream",
     "text": [
      "True\n",
      "True\n",
      "True\n",
      "True\n",
      "True\n",
      "True\n",
      "True\n",
      "True\n",
      "True\n",
      "True\n",
      "True\n",
      "True\n",
      "True\n",
      "True\n",
      "True\n",
      "True\n",
      "True\n",
      "True\n",
      "True\n",
      "True\n",
      "True\n",
      "True\n"
     ]
    }
   ],
   "source": [
    "for params in classify.parameters():\n",
    "  print(params.requires_grad)"
   ]
  },
  {
   "cell_type": "code",
   "execution_count": 18,
   "id": "e5ec8edf",
   "metadata": {
    "execution": {
     "iopub.execute_input": "2021-08-31T16:23:08.219008Z",
     "iopub.status.busy": "2021-08-31T16:23:08.218183Z",
     "iopub.status.idle": "2021-08-31T16:23:09.827702Z",
     "shell.execute_reply": "2021-08-31T16:23:09.826750Z"
    },
    "id": "l789TLMP9zJX",
    "papermill": {
     "duration": 1.64237,
     "end_time": "2021-08-31T16:23:09.827848",
     "exception": false,
     "start_time": "2021-08-31T16:23:08.185478",
     "status": "completed"
    },
    "tags": []
   },
   "outputs": [],
   "source": [
    "test_images =[]        #list of mosaic images, each mosaic image is saved as laist of 9 images\n",
    "fore_idx_test =[]                   #list of indexes at which foreground image is present in a mosaic image                \n",
    "test_label=[]                # label of mosaic image = foreground class present in that mosaic\n",
    "for i in range(10000):\n",
    "  np.random.seed(i+30000)\n",
    "  bg_idx = np.random.randint(0,35000,8)\n",
    "  fg_idx = np.random.randint(0,15000)\n",
    "  fg = np.random.randint(0,9)\n",
    "  fore_idx_test.append(fg)\n",
    "  image_list,label = create_mosaic_img(bg_idx,fg_idx,fg)\n",
    "  test_images.append(image_list)\n",
    "  test_label.append(label)"
   ]
  },
  {
   "cell_type": "code",
   "execution_count": 19,
   "id": "cf609850",
   "metadata": {
    "execution": {
     "iopub.execute_input": "2021-08-31T16:23:09.888538Z",
     "iopub.status.busy": "2021-08-31T16:23:09.887269Z",
     "iopub.status.idle": "2021-08-31T16:23:09.889531Z",
     "shell.execute_reply": "2021-08-31T16:23:09.889977Z"
    },
    "id": "bBzV9dKS5po7",
    "papermill": {
     "duration": 0.034337,
     "end_time": "2021-08-31T16:23:09.890109",
     "exception": false,
     "start_time": "2021-08-31T16:23:09.855772",
     "status": "completed"
    },
    "tags": []
   },
   "outputs": [],
   "source": [
    "test_data = MosaicDataset(test_images,test_label,fore_idx_test)\n",
    "test_loader = DataLoader( test_data,batch_size= batch ,shuffle=False)"
   ]
  },
  {
   "cell_type": "code",
   "execution_count": 20,
   "id": "b5715a94",
   "metadata": {
    "execution": {
     "iopub.execute_input": "2021-08-31T16:23:09.950207Z",
     "iopub.status.busy": "2021-08-31T16:23:09.949577Z",
     "iopub.status.idle": "2021-08-31T16:23:09.952974Z",
     "shell.execute_reply": "2021-08-31T16:23:09.952567Z"
    },
    "id": "n5g3geNJ5zEu",
    "papermill": {
     "duration": 0.035228,
     "end_time": "2021-08-31T16:23:09.953079",
     "exception": false,
     "start_time": "2021-08-31T16:23:09.917851",
     "status": "completed"
    },
    "tags": []
   },
   "outputs": [],
   "source": [
    "import torch.optim as optim\n",
    "# criterion_classify = nn.CrossEntropyLoss()\n",
    "optimizer_focus = optim.Adam(focus_net.parameters(), lr=0.001)#, momentum=0.9)\n",
    "optimizer_classify = optim.Adam(classify.parameters(), lr=0.001)#, momentum=0.9)"
   ]
  },
  {
   "cell_type": "code",
   "execution_count": 21,
   "id": "fe46861e",
   "metadata": {
    "execution": {
     "iopub.execute_input": "2021-08-31T16:23:10.013803Z",
     "iopub.status.busy": "2021-08-31T16:23:10.013327Z",
     "iopub.status.idle": "2021-08-31T16:23:10.017120Z",
     "shell.execute_reply": "2021-08-31T16:23:10.016685Z"
    },
    "id": "84QnXWy4xIJq",
    "papermill": {
     "duration": 0.036302,
     "end_time": "2021-08-31T16:23:10.017224",
     "exception": false,
     "start_time": "2021-08-31T16:23:09.980922",
     "status": "completed"
    },
    "tags": []
   },
   "outputs": [],
   "source": [
    "criterion = nn.CrossEntropyLoss()\n",
    "def my_cross_entropy(x, y,alpha,log_alpha,k):\n",
    "    loss = criterion(x,y)\n",
    "    b = -1.0* alpha * log_alpha\n",
    "    b =  torch.mean(torch.sum(b,dim=1))\n",
    "    closs = loss\n",
    "    entropy = b \n",
    "    loss = (1-k)*loss + ((k)*b)\n",
    "    return loss,closs,entropy"
   ]
  },
  {
   "cell_type": "code",
   "execution_count": 22,
   "id": "67bb8d80",
   "metadata": {
    "execution": {
     "iopub.execute_input": "2021-08-31T16:23:10.077625Z",
     "iopub.status.busy": "2021-08-31T16:23:10.077129Z",
     "iopub.status.idle": "2021-08-31T16:23:10.080982Z",
     "shell.execute_reply": "2021-08-31T16:23:10.080573Z"
    },
    "id": "q8FurF4uDlOf",
    "papermill": {
     "duration": 0.035958,
     "end_time": "2021-08-31T16:23:10.081090",
     "exception": false,
     "start_time": "2021-08-31T16:23:10.045132",
     "status": "completed"
    },
    "tags": []
   },
   "outputs": [],
   "source": [
    "col1=[]\n",
    "col2=[]\n",
    "col3=[]\n",
    "col4=[]\n",
    "col5=[]\n",
    "col6=[]\n",
    "col7=[]\n",
    "col8=[]\n",
    "col9=[]\n",
    "col10=[]\n",
    "col11=[]\n",
    "col12=[]\n",
    "col13=[]"
   ]
  },
  {
   "cell_type": "code",
   "execution_count": 23,
   "id": "631881aa",
   "metadata": {
    "execution": {
     "iopub.execute_input": "2021-08-31T16:23:10.151233Z",
     "iopub.status.busy": "2021-08-31T16:23:10.150431Z",
     "iopub.status.idle": "2021-08-31T16:23:35.735086Z",
     "shell.execute_reply": "2021-08-31T16:23:35.735660Z"
    },
    "id": "u7wkoxckDlIg",
    "outputId": "8e523a85-964f-4e5d-d2e4-730ed4060761",
    "papermill": {
     "duration": 25.626671,
     "end_time": "2021-08-31T16:23:35.735856",
     "exception": false,
     "start_time": "2021-08-31T16:23:10.109185",
     "status": "completed"
    },
    "tags": []
   },
   "outputs": [
    {
     "name": "stdout",
     "output_type": "stream",
     "text": [
      "Accuracy of the network on the 30000 train images: 33.796667 %\n",
      "total correct 10139\n",
      "total train set images 30000\n",
      "focus_true_pred_true 1162 =============> FTPT : 3.873333 %\n",
      "focus_false_pred_true 8977 =============> FFPT : 29.923333 %\n",
      "focus_true_pred_false 2222 =============> FTPF : 7.406667 %\n",
      "focus_false_pred_false 17639 =============> FFPF : 58.796667 %\n",
      "argmax_more_than_half ==================>  0\n",
      "argmax_less_than_half ==================>  30000\n",
      "30000\n",
      "====================================================================================================\n"
     ]
    }
   ],
   "source": [
    "correct = 0\n",
    "total = 0\n",
    "count = 0\n",
    "flag = 1\n",
    "focus_true_pred_true =0\n",
    "focus_false_pred_true =0\n",
    "focus_true_pred_false =0\n",
    "focus_false_pred_false =0\n",
    "\n",
    "argmax_more_than_half = 0\n",
    "argmax_less_than_half =0\n",
    "\n",
    "with torch.no_grad():\n",
    "  for data in train_loader:\n",
    "    inputs, labels , fore_idx = data\n",
    "    inputs = inputs.double()\n",
    "    inputs, labels , fore_idx = inputs.to(\"cuda\"),labels.to(\"cuda\"), fore_idx.to(\"cuda\")\n",
    "    alphas, _ ,avg_images = focus_net(inputs)\n",
    "    outputs = classify(avg_images)\n",
    "\n",
    "    _, predicted = torch.max(outputs.data, 1)\n",
    "\n",
    "    for j in range(labels.size(0)):\n",
    "      count += 1\n",
    "      focus = torch.argmax(alphas[j])\n",
    "      if alphas[j][focus] >= 0.5 :\n",
    "        argmax_more_than_half += 1\n",
    "      else:\n",
    "        argmax_less_than_half += 1\n",
    "\n",
    "      if(focus == fore_idx[j] and predicted[j] == labels[j]):\n",
    "          focus_true_pred_true += 1\n",
    "      elif(focus != fore_idx[j] and predicted[j] == labels[j]):\n",
    "        focus_false_pred_true += 1\n",
    "      elif(focus == fore_idx[j] and predicted[j] != labels[j]):\n",
    "        focus_true_pred_false += 1\n",
    "      elif(focus != fore_idx[j] and predicted[j] != labels[j]):\n",
    "        focus_false_pred_false += 1\n",
    "\n",
    "    total += labels.size(0)\n",
    "    correct += (predicted == labels).sum().item()\n",
    "\n",
    "print('Accuracy of the network on the 30000 train images: %f %%' % ( 100 * correct / total))\n",
    "print(\"total correct\", correct)\n",
    "print(\"total train set images\", total)\n",
    "\n",
    "print(\"focus_true_pred_true %d =============> FTPT : %f %%\" % (focus_true_pred_true , (100 * focus_true_pred_true / total) ) )\n",
    "print(\"focus_false_pred_true %d =============> FFPT : %f %%\" % (focus_false_pred_true, (100 * focus_false_pred_true / total) ) )\n",
    "print(\"focus_true_pred_false %d =============> FTPF : %f %%\" %( focus_true_pred_false , ( 100 * focus_true_pred_false / total) ) )\n",
    "print(\"focus_false_pred_false %d =============> FFPF : %f %%\" % (focus_false_pred_false, ( 100 * focus_false_pred_false / total) ) )\n",
    "\n",
    "print(\"argmax_more_than_half ==================> \",argmax_more_than_half)\n",
    "print(\"argmax_less_than_half ==================> \",argmax_less_than_half)\n",
    "print(count)\n",
    "\n",
    "print(\"=\"*100)\n",
    "\n",
    "col1.append(0)\n",
    "col2.append(argmax_more_than_half)\n",
    "col3.append(argmax_less_than_half)\n",
    "col4.append(focus_true_pred_true)\n",
    "col5.append(focus_false_pred_true)\n",
    "col6.append(focus_true_pred_false)\n",
    "col7.append(focus_false_pred_false)"
   ]
  },
  {
   "cell_type": "code",
   "execution_count": 24,
   "id": "0c608497",
   "metadata": {
    "execution": {
     "iopub.execute_input": "2021-08-31T16:23:35.808146Z",
     "iopub.status.busy": "2021-08-31T16:23:35.806618Z",
     "iopub.status.idle": "2021-08-31T16:23:44.967293Z",
     "shell.execute_reply": "2021-08-31T16:23:44.967825Z"
    },
    "id": "0S4x9oQuDlBa",
    "outputId": "6642294a-4382-41f2-8d32-086e5a88c141",
    "papermill": {
     "duration": 9.202165,
     "end_time": "2021-08-31T16:23:44.968051",
     "exception": false,
     "start_time": "2021-08-31T16:23:35.765886",
     "status": "completed"
    },
    "tags": []
   },
   "outputs": [
    {
     "name": "stdout",
     "output_type": "stream",
     "text": [
      "Accuracy of the network on the 10000 test images: 33.520000 %\n",
      "total correct 3352\n",
      "total train set images 10000\n",
      "focus_true_pred_true 386 =============> FTPT : 3.860000 %\n",
      "focus_false_pred_true 2966 =============> FFPT : 29.660000 %\n",
      "focus_true_pred_false 692 =============> FTPF : 6.920000 %\n",
      "focus_false_pred_false 5956 =============> FFPF : 59.560000 %\n",
      "argmax_more_than_half ==================>  0\n",
      "argmax_less_than_half ==================>  10000\n"
     ]
    }
   ],
   "source": [
    "correct = 0\n",
    "total = 0\n",
    "count = 0\n",
    "flag = 1\n",
    "focus_true_pred_true =0\n",
    "focus_false_pred_true =0\n",
    "focus_true_pred_false =0\n",
    "focus_false_pred_false =0\n",
    "\n",
    "argmax_more_than_half = 0\n",
    "argmax_less_than_half =0\n",
    "\n",
    "with torch.no_grad():\n",
    "  for data in test_loader:\n",
    "    inputs, labels , fore_idx = data\n",
    "    inputs = inputs.double()\n",
    "    inputs, labels , fore_idx = inputs.to(\"cuda\"),labels.to(\"cuda\"), fore_idx.to(\"cuda\")\n",
    "    alphas,_, avg_images = focus_net(inputs)\n",
    "    outputs = classify(avg_images)\n",
    "\n",
    "    _, predicted = torch.max(outputs.data, 1)\n",
    "\n",
    "    for j in range(labels.size(0)):\n",
    "      focus = torch.argmax(alphas[j])\n",
    "      if alphas[j][focus] >= 0.5 :\n",
    "        argmax_more_than_half += 1\n",
    "      else:\n",
    "        argmax_less_than_half += 1\n",
    "\n",
    "      if(focus == fore_idx[j] and predicted[j] == labels[j]):\n",
    "          focus_true_pred_true += 1\n",
    "      elif(focus != fore_idx[j] and predicted[j] == labels[j]):\n",
    "        focus_false_pred_true += 1\n",
    "      elif(focus == fore_idx[j] and predicted[j] != labels[j]):\n",
    "        focus_true_pred_false += 1\n",
    "      elif(focus != fore_idx[j] and predicted[j] != labels[j]):\n",
    "        focus_false_pred_false += 1\n",
    "\n",
    "    total += labels.size(0)\n",
    "    correct += (predicted == labels).sum().item()\n",
    "\n",
    "print('Accuracy of the network on the 10000 test images: %f %%' % (\n",
    "    100 * correct / total))\n",
    "print(\"total correct\", correct)\n",
    "print(\"total train set images\", total)\n",
    "\n",
    "print(\"focus_true_pred_true %d =============> FTPT : %f %%\" % (focus_true_pred_true , (100 * focus_true_pred_true / total) ) )\n",
    "print(\"focus_false_pred_true %d =============> FFPT : %f %%\" % (focus_false_pred_true, (100 * focus_false_pred_true / total) ) )\n",
    "print(\"focus_true_pred_false %d =============> FTPF : %f %%\" %( focus_true_pred_false , ( 100 * focus_true_pred_false / total) ) )\n",
    "print(\"focus_false_pred_false %d =============> FFPF : %f %%\" % (focus_false_pred_false, ( 100 * focus_false_pred_false / total) ) )\n",
    "\n",
    "print(\"argmax_more_than_half ==================> \",argmax_more_than_half)\n",
    "print(\"argmax_less_than_half ==================> \",argmax_less_than_half)\n",
    "col8.append(argmax_more_than_half)\n",
    "col9.append(argmax_less_than_half)\n",
    "col10.append(focus_true_pred_true)\n",
    "col11.append(focus_false_pred_true)\n",
    "col12.append(focus_true_pred_false)\n",
    "col13.append(focus_false_pred_false)"
   ]
  },
  {
   "cell_type": "code",
   "execution_count": 25,
   "id": "3ec042fc",
   "metadata": {
    "execution": {
     "iopub.execute_input": "2021-08-31T16:23:45.049728Z",
     "iopub.status.busy": "2021-08-31T16:23:45.035539Z",
     "iopub.status.idle": "2021-08-31T16:37:16.837002Z",
     "shell.execute_reply": "2021-08-31T16:37:16.836328Z"
    },
    "id": "tFfAJZkcZEsY",
    "outputId": "2ce4bfd4-1b74-4163-d9cd-10565171d37a",
    "papermill": {
     "duration": 811.838638,
     "end_time": "2021-08-31T16:37:16.837183",
     "exception": false,
     "start_time": "2021-08-31T16:23:44.998545",
     "status": "completed"
    },
    "tags": []
   },
   "outputs": [
    {
     "name": "stdout",
     "output_type": "stream",
     "text": [
      "[1,    60] loss: 1.151  cross_entropy: 1.150  entropy: 2.089\n",
      "[1,   120] loss: 0.960  cross_entropy: 0.960  entropy: 1.737\n",
      "[2,    60] loss: 0.838  cross_entropy: 0.838  entropy: 1.619\n",
      "[2,   120] loss: 0.692  cross_entropy: 0.691  entropy: 1.342\n",
      "[3,    60] loss: 0.551  cross_entropy: 0.550  entropy: 1.232\n",
      "[3,   120] loss: 0.480  cross_entropy: 0.480  entropy: 1.100\n",
      "[4,    60] loss: 0.385  cross_entropy: 0.385  entropy: 0.940\n",
      "[4,   120] loss: 0.358  cross_entropy: 0.358  entropy: 0.917\n",
      "[5,    60] loss: 0.300  cross_entropy: 0.299  entropy: 0.860\n",
      "[5,   120] loss: 0.286  cross_entropy: 0.285  entropy: 0.822\n",
      "[6,    60] loss: 0.223  cross_entropy: 0.222  entropy: 0.804\n",
      "[6,   120] loss: 0.233  cross_entropy: 0.233  entropy: 0.740\n",
      "[7,    60] loss: 0.194  cross_entropy: 0.194  entropy: 0.706\n",
      "[7,   120] loss: 0.186  cross_entropy: 0.185  entropy: 0.682\n",
      "[8,    60] loss: 0.146  cross_entropy: 0.146  entropy: 0.679\n",
      "[8,   120] loss: 0.134  cross_entropy: 0.134  entropy: 0.567\n",
      "[9,    60] loss: 0.120  cross_entropy: 0.119  entropy: 0.675\n",
      "[9,   120] loss: 0.128  cross_entropy: 0.127  entropy: 0.655\n",
      "[10,    60] loss: 0.097  cross_entropy: 0.096  entropy: 0.596\n",
      "[10,   120] loss: 0.115  cross_entropy: 0.115  entropy: 0.590\n",
      "[11,    60] loss: 0.087  cross_entropy: 0.086  entropy: 0.669\n",
      "[11,   120] loss: 0.096  cross_entropy: 0.096  entropy: 0.605\n",
      "[12,    60] loss: 0.066  cross_entropy: 0.065  entropy: 0.615\n",
      "[12,   120] loss: 0.067  cross_entropy: 0.066  entropy: 0.591\n",
      "[13,    60] loss: 0.068  cross_entropy: 0.068  entropy: 0.588\n",
      "[13,   120] loss: 0.069  cross_entropy: 0.068  entropy: 0.560\n",
      "[14,    60] loss: 0.055  cross_entropy: 0.054  entropy: 0.624\n",
      "[14,   120] loss: 0.060  cross_entropy: 0.060  entropy: 0.585\n",
      "[15,    60] loss: 0.047  cross_entropy: 0.047  entropy: 0.598\n",
      "[15,   120] loss: 0.050  cross_entropy: 0.049  entropy: 0.654\n",
      "Finished Training\n"
     ]
    }
   ],
   "source": [
    "nos_epochs = 80\n",
    "k = 0.001\n",
    "focus_true_pred_true =0\n",
    "focus_false_pred_true =0\n",
    "focus_true_pred_false =0\n",
    "focus_false_pred_false =0\n",
    "\n",
    "argmax_more_than_half = 0\n",
    "argmax_less_than_half =0\n",
    "\n",
    "\n",
    "for epoch in range(nos_epochs):  # loop over the dataset multiple times\n",
    "\n",
    "  focus_true_pred_true =0\n",
    "  focus_false_pred_true =0\n",
    "  focus_true_pred_false =0\n",
    "  focus_false_pred_false =0\n",
    "  \n",
    "  argmax_more_than_half = 0\n",
    "  argmax_less_than_half =0\n",
    "  \n",
    "  running_loss = 0.0\n",
    "  running_cross_entropy = 0.0\n",
    "  running_entropy = 0.0\n",
    "  cnt=0\n",
    "\n",
    "  iteration = desired_num // batch\n",
    "  epoch_loss = []\n",
    "  epoch_ce = []\n",
    "  epoch_entropy = []\n",
    "  #training data set\n",
    "  \n",
    "  for i, data in  enumerate(train_loader):\n",
    "    inputs , labels , fore_idx = data\n",
    "    inputs = inputs.double()\n",
    "    inputs, labels = inputs.to(\"cuda\"), labels.to(\"cuda\")\n",
    "    # zero the parameter gradients\n",
    "    optimizer_focus.zero_grad()\n",
    "    optimizer_classify.zero_grad()\n",
    "    alphas,log_alpha, avg_images = focus_net(inputs)\n",
    "    outputs = classify(avg_images)\n",
    "    \n",
    "    # outputs, alphas, avg_images = classify(inputs)\n",
    "\n",
    "    _, predicted = torch.max(outputs.data, 1)\n",
    "#     print(outputs)\n",
    "#     print(outputs.shape,labels.shape , torch.argmax(outputs, dim=1))\n",
    "\n",
    "    #loss = criterion_classify(outputs, labels) \n",
    "    loss,c_e,entropy = my_cross_entropy(outputs, labels,alphas,log_alpha,k)\n",
    "    loss.backward()\n",
    "    optimizer_focus.step()\n",
    "    optimizer_classify.step()\n",
    "\n",
    "    running_loss += loss.item()\n",
    "    running_cross_entropy += c_e.item()\n",
    "    running_entropy += entropy.item()\n",
    "    mini = 60\n",
    "    if cnt % mini == mini-1:    # print every 40 mini-batches\n",
    "      print('[%d, %5d] loss: %.3f  cross_entropy: %.3f  entropy: %.3f' %(epoch + 1, cnt + 1, running_loss / mini,running_cross_entropy/mini,running_entropy/mini))\n",
    "      epoch_loss.append(running_loss/mini)\n",
    "      epoch_ce.append(running_cross_entropy/mini)\n",
    "      epoch_entropy.append(running_entropy/mini)\n",
    "      running_loss = 0.0\n",
    "      running_cross_entropy = 0.0\n",
    "      running_entropy = 0.0\n",
    "    cnt=cnt+1\n",
    "    \n",
    "    if epoch % 5 == 0:\n",
    "      for j in range (batch):\n",
    "        focus = torch.argmax(alphas[j])\n",
    "\n",
    "        if(alphas[j][focus] >= 0.5):\n",
    "          argmax_more_than_half +=1\n",
    "        else:\n",
    "          argmax_less_than_half +=1\n",
    "\n",
    "        if(focus == fore_idx[j] and predicted[j] == labels[j]):\n",
    "          focus_true_pred_true += 1\n",
    "\n",
    "        elif(focus != fore_idx[j] and predicted[j] == labels[j]):\n",
    "          focus_false_pred_true +=1\n",
    "\n",
    "        elif(focus == fore_idx[j] and predicted[j] != labels[j]):\n",
    "          focus_true_pred_false +=1\n",
    "\n",
    "        elif(focus != fore_idx[j] and predicted[j] != labels[j]):\n",
    "          focus_false_pred_false +=1\n",
    "\n",
    "\n",
    "\n",
    "  if epoch % 5 == 0:\n",
    "    col1.append(epoch+1)\n",
    "    col2.append(argmax_more_than_half)\n",
    "    col3.append(argmax_less_than_half)\n",
    "    col4.append(focus_true_pred_true)\n",
    "    col5.append(focus_false_pred_true)\n",
    "    col6.append(focus_true_pred_false)\n",
    "    col7.append(focus_false_pred_false)\n",
    "  \n",
    "    #************************************************************************\n",
    "    #testing data set  \n",
    "    with torch.no_grad():\n",
    "      focus_true_pred_true =0\n",
    "      focus_false_pred_true =0\n",
    "      focus_true_pred_false =0\n",
    "      focus_false_pred_false =0\n",
    "\n",
    "      argmax_more_than_half = 0\n",
    "      argmax_less_than_half =0\n",
    "      for data in test_loader:\n",
    "        inputs, labels , fore_idx = data\n",
    "        inputs = inputs.double()\n",
    "        inputs, labels = inputs.to(\"cuda\"), labels.to(\"cuda\")\n",
    "        alphas, _,avg_images = focus_net(inputs)\n",
    "        outputs = classify(avg_images)\n",
    "        #outputs, alphas, avg_images = classify(inputs)\n",
    "        _, predicted = torch.max(outputs.data, 1)\n",
    "\n",
    "        for j in range (batch):\n",
    "          focus = torch.argmax(alphas[j])\n",
    "\n",
    "          if(alphas[j][focus] >= 0.5):\n",
    "            argmax_more_than_half +=1\n",
    "          else:\n",
    "            argmax_less_than_half +=1\n",
    "\n",
    "          if(focus == fore_idx[j] and predicted[j] == labels[j]):\n",
    "            focus_true_pred_true += 1\n",
    "\n",
    "          elif(focus != fore_idx[j] and predicted[j] == labels[j]):\n",
    "            focus_false_pred_true +=1\n",
    "\n",
    "          elif(focus == fore_idx[j] and predicted[j] != labels[j]):\n",
    "            focus_true_pred_false +=1\n",
    "\n",
    "          elif(focus != fore_idx[j] and predicted[j] != labels[j]):\n",
    "            focus_false_pred_false +=1\n",
    "      \n",
    "    col8.append(argmax_more_than_half)\n",
    "    col9.append(argmax_less_than_half)\n",
    "    col10.append(focus_true_pred_true)\n",
    "    col11.append(focus_false_pred_true)\n",
    "    col12.append(focus_true_pred_false)\n",
    "    col13.append(focus_false_pred_false)\n",
    "  if(np.mean(epoch_loss) <= 0.05):\n",
    "    break;\n",
    "print('Finished Training')"
   ]
  },
  {
   "cell_type": "code",
   "execution_count": 26,
   "id": "73500b8f",
   "metadata": {
    "execution": {
     "iopub.execute_input": "2021-08-31T16:37:16.916718Z",
     "iopub.status.busy": "2021-08-31T16:37:16.916183Z",
     "iopub.status.idle": "2021-08-31T16:37:17.016792Z",
     "shell.execute_reply": "2021-08-31T16:37:17.016298Z"
    },
    "id": "WIAJ3UZN8rPE",
    "papermill": {
     "duration": 0.142103,
     "end_time": "2021-08-31T16:37:17.016939",
     "exception": false,
     "start_time": "2021-08-31T16:37:16.874836",
     "status": "completed"
    },
    "tags": []
   },
   "outputs": [],
   "source": [
    "torch.save(focus_net.state_dict(),path+\"_weights_focus_entropy_6.pt\") \n",
    "torch.save(classify.state_dict(),path+\"_weights_classify_entropy_6.pt\")"
   ]
  },
  {
   "cell_type": "code",
   "execution_count": 27,
   "id": "7c427714",
   "metadata": {
    "execution": {
     "iopub.execute_input": "2021-08-31T16:37:17.130281Z",
     "iopub.status.busy": "2021-08-31T16:37:17.129415Z",
     "iopub.status.idle": "2021-08-31T16:37:17.135285Z",
     "shell.execute_reply": "2021-08-31T16:37:17.134770Z"
    },
    "id": "2LgQKXW-8MH-",
    "papermill": {
     "duration": 0.075184,
     "end_time": "2021-08-31T16:37:17.135402",
     "exception": false,
     "start_time": "2021-08-31T16:37:17.060218",
     "status": "completed"
    },
    "tags": []
   },
   "outputs": [],
   "source": [
    "columns = [\"epochs\", \"argmax > 0.5\" ,\"argmax < 0.5\", \"focus_true_pred_true\", \"focus_false_pred_true\", \"focus_true_pred_false\", \"focus_false_pred_false\" ]"
   ]
  },
  {
   "cell_type": "code",
   "execution_count": 28,
   "id": "9e0cf784",
   "metadata": {
    "execution": {
     "iopub.execute_input": "2021-08-31T16:37:17.266266Z",
     "iopub.status.busy": "2021-08-31T16:37:17.264831Z",
     "iopub.status.idle": "2021-08-31T16:37:17.266993Z",
     "shell.execute_reply": "2021-08-31T16:37:17.265571Z"
    },
    "id": "tSKphM888Y5o",
    "papermill": {
     "duration": 0.06986,
     "end_time": "2021-08-31T16:37:17.267146",
     "exception": false,
     "start_time": "2021-08-31T16:37:17.197286",
     "status": "completed"
    },
    "tags": []
   },
   "outputs": [],
   "source": [
    "df_train = pd.DataFrame()\n",
    "df_test = pd.DataFrame()"
   ]
  },
  {
   "cell_type": "code",
   "execution_count": 29,
   "id": "8908b084",
   "metadata": {
    "execution": {
     "iopub.execute_input": "2021-08-31T16:37:17.395813Z",
     "iopub.status.busy": "2021-08-31T16:37:17.394957Z",
     "iopub.status.idle": "2021-08-31T16:37:17.398477Z",
     "shell.execute_reply": "2021-08-31T16:37:17.396504Z"
    },
    "id": "lLSfxf-zE_D1",
    "outputId": "dd3ddd25-c6b2-4a9e-ebfb-e6b67f3705f7",
    "papermill": {
     "duration": 0.070573,
     "end_time": "2021-08-31T16:37:17.398658",
     "exception": false,
     "start_time": "2021-08-31T16:37:17.328085",
     "status": "completed"
    },
    "tags": []
   },
   "outputs": [
    {
     "data": {
      "text/plain": [
       "4"
      ]
     },
     "execution_count": 29,
     "metadata": {},
     "output_type": "execute_result"
    }
   ],
   "source": [
    "len(col1)"
   ]
  },
  {
   "cell_type": "code",
   "execution_count": 30,
   "id": "35424c89",
   "metadata": {
    "execution": {
     "iopub.execute_input": "2021-08-31T16:37:17.530800Z",
     "iopub.status.busy": "2021-08-31T16:37:17.529879Z",
     "iopub.status.idle": "2021-08-31T16:37:17.549887Z",
     "shell.execute_reply": "2021-08-31T16:37:17.551163Z"
    },
    "id": "FrWoEGXZ8cBO",
    "papermill": {
     "duration": 0.092364,
     "end_time": "2021-08-31T16:37:17.551373",
     "exception": false,
     "start_time": "2021-08-31T16:37:17.459009",
     "status": "completed"
    },
    "tags": []
   },
   "outputs": [],
   "source": [
    "df_train[columns[0]] = col1\n",
    "df_train[columns[1]] = col2\n",
    "df_train[columns[2]] = col3\n",
    "df_train[columns[3]] = col4\n",
    "df_train[columns[4]] = col5\n",
    "df_train[columns[5]] = col6\n",
    "df_train[columns[6]] = col7\n",
    "\n",
    "df_test[columns[0]] = col1\n",
    "df_test[columns[1]] = col8\n",
    "df_test[columns[2]] = col9\n",
    "df_test[columns[3]] = col10\n",
    "df_test[columns[4]] = col11\n",
    "df_test[columns[5]] = col12\n",
    "df_test[columns[6]] = col13"
   ]
  },
  {
   "cell_type": "code",
   "execution_count": 31,
   "id": "751d9fd3",
   "metadata": {
    "execution": {
     "iopub.execute_input": "2021-08-31T16:37:17.695846Z",
     "iopub.status.busy": "2021-08-31T16:37:17.691455Z",
     "iopub.status.idle": "2021-08-31T16:37:17.706603Z",
     "shell.execute_reply": "2021-08-31T16:37:17.707553Z"
    },
    "id": "RGJoMFcK8eTe",
    "outputId": "fb26c843-7688-4ac2-ef80-9437060ef50b",
    "papermill": {
     "duration": 0.089696,
     "end_time": "2021-08-31T16:37:17.707733",
     "exception": false,
     "start_time": "2021-08-31T16:37:17.618037",
     "status": "completed"
    },
    "tags": []
   },
   "outputs": [
    {
     "data": {
      "text/html": [
       "<div>\n",
       "<style scoped>\n",
       "    .dataframe tbody tr th:only-of-type {\n",
       "        vertical-align: middle;\n",
       "    }\n",
       "\n",
       "    .dataframe tbody tr th {\n",
       "        vertical-align: top;\n",
       "    }\n",
       "\n",
       "    .dataframe thead th {\n",
       "        text-align: right;\n",
       "    }\n",
       "</style>\n",
       "<table border=\"1\" class=\"dataframe\">\n",
       "  <thead>\n",
       "    <tr style=\"text-align: right;\">\n",
       "      <th></th>\n",
       "      <th>epochs</th>\n",
       "      <th>argmax &gt; 0.5</th>\n",
       "      <th>argmax &lt; 0.5</th>\n",
       "      <th>focus_true_pred_true</th>\n",
       "      <th>focus_false_pred_true</th>\n",
       "      <th>focus_true_pred_false</th>\n",
       "      <th>focus_false_pred_false</th>\n",
       "    </tr>\n",
       "  </thead>\n",
       "  <tbody>\n",
       "    <tr>\n",
       "      <th>0</th>\n",
       "      <td>0</td>\n",
       "      <td>0</td>\n",
       "      <td>30000</td>\n",
       "      <td>1162</td>\n",
       "      <td>8977</td>\n",
       "      <td>2222</td>\n",
       "      <td>17639</td>\n",
       "    </tr>\n",
       "    <tr>\n",
       "      <th>1</th>\n",
       "      <td>1</td>\n",
       "      <td>4750</td>\n",
       "      <td>25250</td>\n",
       "      <td>4891</td>\n",
       "      <td>8321</td>\n",
       "      <td>3786</td>\n",
       "      <td>13002</td>\n",
       "    </tr>\n",
       "    <tr>\n",
       "      <th>2</th>\n",
       "      <td>6</td>\n",
       "      <td>23075</td>\n",
       "      <td>6925</td>\n",
       "      <td>23115</td>\n",
       "      <td>4272</td>\n",
       "      <td>1063</td>\n",
       "      <td>1550</td>\n",
       "    </tr>\n",
       "    <tr>\n",
       "      <th>3</th>\n",
       "      <td>11</td>\n",
       "      <td>24472</td>\n",
       "      <td>5528</td>\n",
       "      <td>25347</td>\n",
       "      <td>3681</td>\n",
       "      <td>413</td>\n",
       "      <td>559</td>\n",
       "    </tr>\n",
       "  </tbody>\n",
       "</table>\n",
       "</div>"
      ],
      "text/plain": [
       "   epochs  argmax > 0.5  argmax < 0.5  focus_true_pred_true  \\\n",
       "0       0             0         30000                  1162   \n",
       "1       1          4750         25250                  4891   \n",
       "2       6         23075          6925                 23115   \n",
       "3      11         24472          5528                 25347   \n",
       "\n",
       "   focus_false_pred_true  focus_true_pred_false  focus_false_pred_false  \n",
       "0                   8977                   2222                   17639  \n",
       "1                   8321                   3786                   13002  \n",
       "2                   4272                   1063                    1550  \n",
       "3                   3681                    413                     559  "
      ]
     },
     "execution_count": 31,
     "metadata": {},
     "output_type": "execute_result"
    }
   ],
   "source": [
    "df_train"
   ]
  },
  {
   "cell_type": "code",
   "execution_count": 32,
   "id": "1ad49a5f",
   "metadata": {
    "execution": {
     "iopub.execute_input": "2021-08-31T16:37:17.853354Z",
     "iopub.status.busy": "2021-08-31T16:37:17.852559Z",
     "iopub.status.idle": "2021-08-31T16:37:17.855992Z",
     "shell.execute_reply": "2021-08-31T16:37:17.856703Z"
    },
    "id": "g6BTbptxejQu",
    "papermill": {
     "duration": 0.08073,
     "end_time": "2021-08-31T16:37:17.856905",
     "exception": false,
     "start_time": "2021-08-31T16:37:17.776175",
     "status": "completed"
    },
    "tags": []
   },
   "outputs": [],
   "source": [
    "df_train.to_csv(path+\"_train.csv\",index=False)"
   ]
  },
  {
   "cell_type": "code",
   "execution_count": 33,
   "id": "930ca9ee",
   "metadata": {
    "execution": {
     "iopub.execute_input": "2021-08-31T16:37:18.003764Z",
     "iopub.status.busy": "2021-08-31T16:37:18.002997Z",
     "iopub.status.idle": "2021-08-31T16:37:18.607225Z",
     "shell.execute_reply": "2021-08-31T16:37:18.607630Z"
    },
    "id": "Ei9HVQBZ8gn4",
    "outputId": "b1a85f99-eb58-4939-fd69-49d3dd6a71e2",
    "papermill": {
     "duration": 0.681977,
     "end_time": "2021-08-31T16:37:18.607784",
     "exception": false,
     "start_time": "2021-08-31T16:37:17.925807",
     "status": "completed"
    },
    "tags": []
   },
   "outputs": [
    {
     "data": {
      "image/png": "[encoded data removed]",
      "text/plain": [
       "<Figure size 432x288 with 1 Axes>"
      ]
     },
     "metadata": {
      "needs_background": "light"
     },
     "output_type": "display_data"
    },
    {
     "data": {
      "image/png": "[encoded data removed]",
      "text/plain": [
       "<Figure size 432x432 with 1 Axes>"
      ]
     },
     "metadata": {
      "needs_background": "light"
     },
     "output_type": "display_data"
    }
   ],
   "source": [
    "# plt.figure(12,12)\n",
    "plt.plot(col1,col2, label='argmax > 0.5')\n",
    "plt.plot(col1,col3, label='argmax < 0.5')\n",
    "\n",
    "plt.legend(loc='center left', bbox_to_anchor=(1, 0.5))\n",
    "plt.xlabel(\"epochs\")\n",
    "plt.ylabel(\"training data\")\n",
    "plt.title(\"On Training set\")\n",
    "plt.show()\n",
    "\n",
    "plt.figure(figsize=(6,6))\n",
    "plt.plot(col1,col4, label =\"focus_true_pred_true \")\n",
    "plt.plot(col1,col5, label =\"focus_false_pred_true \")\n",
    "plt.plot(col1,col6, label =\"focus_true_pred_false \")\n",
    "plt.plot(col1,col7, label =\"focus_false_pred_false \")\n",
    "plt.title(\"On Training set\")\n",
    "#plt.legend(loc='center left', bbox_to_anchor=(1, 0.5))\n",
    "plt.xlabel(\"epochs\")\n",
    "plt.ylabel(\"training data\")\n",
    "plt.savefig(path+\"train_entropy_6.png\",bbox_inches=\"tight\")\n",
    "plt.savefig(path+\"train_entropy_6.pdf\",bbox_inches=\"tight\")\n",
    "\n",
    "plt.show()\n"
   ]
  },
  {
   "cell_type": "code",
   "execution_count": 34,
   "id": "e1630dc2",
   "metadata": {
    "execution": {
     "iopub.execute_input": "2021-08-31T16:37:18.700221Z",
     "iopub.status.busy": "2021-08-31T16:37:18.699557Z",
     "iopub.status.idle": "2021-08-31T16:37:18.704706Z",
     "shell.execute_reply": "2021-08-31T16:37:18.704173Z"
    },
    "id": "_QKYVO8i8ivA",
    "outputId": "48659952-cdfc-4bb3-ab45-001381a93aeb",
    "papermill": {
     "duration": 0.054891,
     "end_time": "2021-08-31T16:37:18.704823",
     "exception": false,
     "start_time": "2021-08-31T16:37:18.649932",
     "status": "completed"
    },
    "tags": []
   },
   "outputs": [
    {
     "data": {
      "text/html": [
       "<div>\n",
       "<style scoped>\n",
       "    .dataframe tbody tr th:only-of-type {\n",
       "        vertical-align: middle;\n",
       "    }\n",
       "\n",
       "    .dataframe tbody tr th {\n",
       "        vertical-align: top;\n",
       "    }\n",
       "\n",
       "    .dataframe thead th {\n",
       "        text-align: right;\n",
       "    }\n",
       "</style>\n",
       "<table border=\"1\" class=\"dataframe\">\n",
       "  <thead>\n",
       "    <tr style=\"text-align: right;\">\n",
       "      <th></th>\n",
       "      <th>epochs</th>\n",
       "      <th>argmax &gt; 0.5</th>\n",
       "      <th>argmax &lt; 0.5</th>\n",
       "      <th>focus_true_pred_true</th>\n",
       "      <th>focus_false_pred_true</th>\n",
       "      <th>focus_true_pred_false</th>\n",
       "      <th>focus_false_pred_false</th>\n",
       "    </tr>\n",
       "  </thead>\n",
       "  <tbody>\n",
       "    <tr>\n",
       "      <th>0</th>\n",
       "      <td>0</td>\n",
       "      <td>0</td>\n",
       "      <td>10000</td>\n",
       "      <td>386</td>\n",
       "      <td>2966</td>\n",
       "      <td>692</td>\n",
       "      <td>5956</td>\n",
       "    </tr>\n",
       "    <tr>\n",
       "      <th>1</th>\n",
       "      <td>1</td>\n",
       "      <td>3127</td>\n",
       "      <td>6873</td>\n",
       "      <td>2826</td>\n",
       "      <td>2770</td>\n",
       "      <td>1184</td>\n",
       "      <td>3220</td>\n",
       "    </tr>\n",
       "    <tr>\n",
       "      <th>2</th>\n",
       "      <td>6</td>\n",
       "      <td>7528</td>\n",
       "      <td>2472</td>\n",
       "      <td>7422</td>\n",
       "      <td>1429</td>\n",
       "      <td>489</td>\n",
       "      <td>660</td>\n",
       "    </tr>\n",
       "    <tr>\n",
       "      <th>3</th>\n",
       "      <td>11</td>\n",
       "      <td>8612</td>\n",
       "      <td>1388</td>\n",
       "      <td>8311</td>\n",
       "      <td>1028</td>\n",
       "      <td>265</td>\n",
       "      <td>396</td>\n",
       "    </tr>\n",
       "  </tbody>\n",
       "</table>\n",
       "</div>"
      ],
      "text/plain": [
       "   epochs  argmax > 0.5  argmax < 0.5  focus_true_pred_true  \\\n",
       "0       0             0         10000                   386   \n",
       "1       1          3127          6873                  2826   \n",
       "2       6          7528          2472                  7422   \n",
       "3      11          8612          1388                  8311   \n",
       "\n",
       "   focus_false_pred_true  focus_true_pred_false  focus_false_pred_false  \n",
       "0                   2966                    692                    5956  \n",
       "1                   2770                   1184                    3220  \n",
       "2                   1429                    489                     660  \n",
       "3                   1028                    265                     396  "
      ]
     },
     "execution_count": 34,
     "metadata": {},
     "output_type": "execute_result"
    }
   ],
   "source": [
    "df_test"
   ]
  },
  {
   "cell_type": "code",
   "execution_count": 35,
   "id": "54716196",
   "metadata": {
    "execution": {
     "iopub.execute_input": "2021-08-31T16:37:18.795098Z",
     "iopub.status.busy": "2021-08-31T16:37:18.794062Z",
     "iopub.status.idle": "2021-08-31T16:37:18.797039Z",
     "shell.execute_reply": "2021-08-31T16:37:18.796590Z"
    },
    "id": "B_DSXVjOerj1",
    "papermill": {
     "duration": 0.050196,
     "end_time": "2021-08-31T16:37:18.797142",
     "exception": false,
     "start_time": "2021-08-31T16:37:18.746946",
     "status": "completed"
    },
    "tags": []
   },
   "outputs": [],
   "source": [
    "df_train.to_csv(path+\"_test.csv\",index=False)"
   ]
  },
  {
   "cell_type": "code",
   "execution_count": 36,
   "id": "2916580f",
   "metadata": {
    "execution": {
     "iopub.execute_input": "2021-08-31T16:37:18.911455Z",
     "iopub.status.busy": "2021-08-31T16:37:18.907153Z",
     "iopub.status.idle": "2021-08-31T16:37:19.381704Z",
     "shell.execute_reply": "2021-08-31T16:37:19.382123Z"
    },
    "id": "aRlpgnjy8k1n",
    "outputId": "74aa0110-33d3-4c5f-9d91-17ae386d74f0",
    "papermill": {
     "duration": 0.542782,
     "end_time": "2021-08-31T16:37:19.382293",
     "exception": false,
     "start_time": "2021-08-31T16:37:18.839511",
     "status": "completed"
    },
    "tags": []
   },
   "outputs": [
    {
     "data": {
      "image/png": "[encoded data removed]",
      "text/plain": [
       "<Figure size 432x288 with 1 Axes>"
      ]
     },
     "metadata": {
      "needs_background": "light"
     },
     "output_type": "display_data"
    },
    {
     "data": {
      "image/png": "[encoded data removed]",
      "text/plain": [
       "<Figure size 432x432 with 1 Axes>"
      ]
     },
     "metadata": {
      "needs_background": "light"
     },
     "output_type": "display_data"
    }
   ],
   "source": [
    "# plt.figure(12,12)\n",
    "plt.plot(col1,col8, label='argmax > 0.5')\n",
    "plt.plot(col1,col9, label='argmax < 0.5')\n",
    "\n",
    "plt.legend(loc='center left', bbox_to_anchor=(1, 0.5))\n",
    "plt.xlabel(\"epochs\")\n",
    "plt.ylabel(\"Testing data\")\n",
    "plt.title(\"On Testing set\")\n",
    "plt.show()\n",
    "\n",
    "plt.figure(figsize=(6,6))\n",
    "plt.plot(col1,col10, label =\"focus_true_pred_true \")\n",
    "plt.plot(col1,col11, label =\"focus_false_pred_true \")\n",
    "plt.plot(col1,col12, label =\"focus_true_pred_false \")\n",
    "plt.plot(col1,col13, label =\"focus_false_pred_false \")\n",
    "plt.title(\"On Testing set\")\n",
    "#plt.legend(loc='center left', bbox_to_anchor=(1, 0.5))\n",
    "plt.xlabel(\"epochs\")\n",
    "plt.ylabel(\"Testing data\")\n",
    "plt.savefig(path+\"test_entropy_6.png\",bbox_inches=\"tight\")\n",
    "plt.savefig(path+\"test_entropy_6.pdf\",bbox_inches=\"tight\")\n",
    "plt.show()\n",
    "\n"
   ]
  },
  {
   "cell_type": "code",
   "execution_count": 37,
   "id": "b4b678ef",
   "metadata": {
    "execution": {
     "iopub.execute_input": "2021-08-31T16:37:19.485304Z",
     "iopub.status.busy": "2021-08-31T16:37:19.484514Z",
     "iopub.status.idle": "2021-08-31T16:37:42.636848Z",
     "shell.execute_reply": "2021-08-31T16:37:42.637686Z"
    },
    "id": "mSE5PCw2tyNO",
    "outputId": "c554e5c3-104b-46f0-d5f0-76188976ed90",
    "papermill": {
     "duration": 23.210852,
     "end_time": "2021-08-31T16:37:42.637845",
     "exception": false,
     "start_time": "2021-08-31T16:37:19.426993",
     "status": "completed"
    },
    "tags": []
   },
   "outputs": [
    {
     "name": "stdout",
     "output_type": "stream",
     "text": [
      "Accuracy of the network on the 30000 train images: 99.143333 %\n",
      "total correct 29743\n",
      "total train set images 30000\n",
      "focus_true_pred_true 26231 =============> FTPT : 87.436667 %\n",
      "focus_false_pred_true 3512 =============> FFPT : 11.706667 %\n",
      "focus_true_pred_false 52 =============> FTPF : 0.173333 %\n",
      "focus_false_pred_false 205 =============> FFPF : 0.683333 %\n",
      "argmax_more_than_half ==================>  24904\n",
      "argmax_less_than_half ==================>  5096\n",
      "30000\n",
      "====================================================================================================\n"
     ]
    }
   ],
   "source": [
    "correct = 0\n",
    "total = 0\n",
    "count = 0\n",
    "flag = 1\n",
    "focus_true_pred_true =0\n",
    "focus_false_pred_true =0\n",
    "focus_true_pred_false =0\n",
    "focus_false_pred_false =0\n",
    "\n",
    "argmax_more_than_half = 0\n",
    "argmax_less_than_half =0\n",
    "focus_net.eval()\n",
    "classify.eval()\n",
    "with torch.no_grad():\n",
    "  for data in train_loader:\n",
    "    inputs, labels , fore_idx = data\n",
    "    inputs = inputs.double()\n",
    "    inputs, labels , fore_idx = inputs.to(\"cuda\"),labels.to(\"cuda\"), fore_idx.to(\"cuda\")\n",
    "    alphas,_, avg_images = focus_net(inputs)\n",
    "    outputs = classify(avg_images)\n",
    "\n",
    "    _, predicted = torch.max(outputs.data, 1)\n",
    "\n",
    "    for j in range(labels.size(0)):\n",
    "      count += 1\n",
    "      focus = torch.argmax(alphas[j])\n",
    "      if alphas[j][focus] >= 0.5 :\n",
    "        argmax_more_than_half += 1\n",
    "      else:\n",
    "        argmax_less_than_half += 1\n",
    "\n",
    "      if(focus == fore_idx[j] and predicted[j] == labels[j]):\n",
    "          focus_true_pred_true += 1\n",
    "      elif(focus != fore_idx[j] and predicted[j] == labels[j]):\n",
    "        focus_false_pred_true += 1\n",
    "      elif(focus == fore_idx[j] and predicted[j] != labels[j]):\n",
    "        focus_true_pred_false += 1\n",
    "      elif(focus != fore_idx[j] and predicted[j] != labels[j]):\n",
    "        focus_false_pred_false += 1\n",
    "\n",
    "    total += labels.size(0)\n",
    "    correct += (predicted == labels).sum().item()\n",
    "\n",
    "print('Accuracy of the network on the 30000 train images: %f %%' % ( 100 * correct / total))\n",
    "print(\"total correct\", correct)\n",
    "print(\"total train set images\", total)\n",
    "\n",
    "print(\"focus_true_pred_true %d =============> FTPT : %f %%\" % (focus_true_pred_true , (100 * focus_true_pred_true / total) ) )\n",
    "print(\"focus_false_pred_true %d =============> FFPT : %f %%\" % (focus_false_pred_true, (100 * focus_false_pred_true / total) ) )\n",
    "print(\"focus_true_pred_false %d =============> FTPF : %f %%\" %( focus_true_pred_false , ( 100 * focus_true_pred_false / total) ) )\n",
    "print(\"focus_false_pred_false %d =============> FFPF : %f %%\" % (focus_false_pred_false, ( 100 * focus_false_pred_false / total) ) )\n",
    "\n",
    "print(\"argmax_more_than_half ==================> \",argmax_more_than_half)\n",
    "print(\"argmax_less_than_half ==================> \",argmax_less_than_half)\n",
    "print(count)\n",
    "\n",
    "print(\"=\"*100)"
   ]
  },
  {
   "cell_type": "code",
   "execution_count": 38,
   "id": "47169aa4",
   "metadata": {
    "execution": {
     "iopub.execute_input": "2021-08-31T16:37:42.736928Z",
     "iopub.status.busy": "2021-08-31T16:37:42.736022Z",
     "iopub.status.idle": "2021-08-31T16:37:50.886576Z",
     "shell.execute_reply": "2021-08-31T16:37:50.887158Z"
    },
    "id": "40tKBow5t1sF",
    "outputId": "8ced8a19-8fa6-4cfe-9e4c-84425b3ad2bd",
    "papermill": {
     "duration": 8.206016,
     "end_time": "2021-08-31T16:37:50.887333",
     "exception": false,
     "start_time": "2021-08-31T16:37:42.681317",
     "status": "completed"
    },
    "tags": []
   },
   "outputs": [
    {
     "name": "stdout",
     "output_type": "stream",
     "text": [
      "Accuracy of the network on the 10000 test images: 94.750000 %\n",
      "total correct 9475\n",
      "total train set images 10000\n",
      "focus_true_pred_true 8417 =============> FTPT : 84.170000 %\n",
      "focus_false_pred_true 1058 =============> FFPT : 10.580000 %\n",
      "focus_true_pred_false 161 =============> FTPF : 1.610000 %\n",
      "focus_false_pred_false 364 =============> FFPF : 3.640000 %\n",
      "argmax_more_than_half ==================>  8171\n",
      "argmax_less_than_half ==================>  1829\n"
     ]
    }
   ],
   "source": [
    "correct = 0\n",
    "total = 0\n",
    "count = 0\n",
    "flag = 1\n",
    "focus_true_pred_true =0\n",
    "focus_false_pred_true =0\n",
    "focus_true_pred_false =0\n",
    "focus_false_pred_false =0\n",
    "\n",
    "argmax_more_than_half = 0\n",
    "argmax_less_than_half =0\n",
    "focus_net.eval()\n",
    "classify.eval()\n",
    "with torch.no_grad():\n",
    "  for data in test_loader:\n",
    "    inputs, labels , fore_idx = data\n",
    "    inputs = inputs.double()\n",
    "    inputs, labels , fore_idx = inputs.to(\"cuda\"),labels.to(\"cuda\"), fore_idx.to(\"cuda\")\n",
    "    alphas, _,avg_images = focus_net(inputs)\n",
    "    outputs = classify(avg_images)\n",
    "\n",
    "    _, predicted = torch.max(outputs.data, 1)\n",
    "\n",
    "    for j in range(labels.size(0)):\n",
    "      focus = torch.argmax(alphas[j])\n",
    "      if alphas[j][focus] >= 0.5 :\n",
    "        argmax_more_than_half += 1\n",
    "      else:\n",
    "        argmax_less_than_half += 1\n",
    "\n",
    "      if(focus == fore_idx[j] and predicted[j] == labels[j]):\n",
    "          focus_true_pred_true += 1\n",
    "      elif(focus != fore_idx[j] and predicted[j] == labels[j]):\n",
    "        focus_false_pred_true += 1\n",
    "      elif(focus == fore_idx[j] and predicted[j] != labels[j]):\n",
    "        focus_true_pred_false += 1\n",
    "      elif(focus != fore_idx[j] and predicted[j] != labels[j]):\n",
    "        focus_false_pred_false += 1\n",
    "\n",
    "    total += labels.size(0)\n",
    "    correct += (predicted == labels).sum().item()\n",
    "\n",
    "print('Accuracy of the network on the 10000 test images: %f %%' % (\n",
    "    100 * correct / total))\n",
    "print(\"total correct\", correct)\n",
    "print(\"total train set images\", total)\n",
    "\n",
    "print(\"focus_true_pred_true %d =============> FTPT : %f %%\" % (focus_true_pred_true , (100 * focus_true_pred_true / total) ) )\n",
    "print(\"focus_false_pred_true %d =============> FFPT : %f %%\" % (focus_false_pred_true, (100 * focus_false_pred_true / total) ) )\n",
    "print(\"focus_true_pred_false %d =============> FTPF : %f %%\" %( focus_true_pred_false , ( 100 * focus_true_pred_false / total) ) )\n",
    "print(\"focus_false_pred_false %d =============> FFPF : %f %%\" % (focus_false_pred_false, ( 100 * focus_false_pred_false / total) ) )\n",
    "\n",
    "print(\"argmax_more_than_half ==================> \",argmax_more_than_half)\n",
    "print(\"argmax_less_than_half ==================> \",argmax_less_than_half)"
   ]
  },
  {
   "cell_type": "code",
   "execution_count": 39,
   "id": "f0796419",
   "metadata": {
    "execution": {
     "iopub.execute_input": "2021-08-31T16:37:50.982751Z",
     "iopub.status.busy": "2021-08-31T16:37:50.982006Z",
     "iopub.status.idle": "2021-08-31T16:38:09.230223Z",
     "shell.execute_reply": "2021-08-31T16:38:09.229302Z"
    },
    "id": "iJEMJnUI9FP2",
    "outputId": "c7658cfd-553a-4c6e-8a17-da3dec8ba733",
    "papermill": {
     "duration": 18.298261,
     "end_time": "2021-08-31T16:38:09.230384",
     "exception": false,
     "start_time": "2021-08-31T16:37:50.932123",
     "status": "completed"
    },
    "tags": []
   },
   "outputs": [
    {
     "name": "stdout",
     "output_type": "stream",
     "text": [
      "Accuracy of the network on the 30000 train images: 99.163333 %\n",
      "total correct 29749\n",
      "total train set images 30000\n"
     ]
    }
   ],
   "source": [
    "correct = 0\n",
    "total = 0\n",
    "focus_net.eval()\n",
    "classify.eval()\n",
    "with torch.no_grad():\n",
    "  for data in train_loader:\n",
    "    inputs, labels , fore_idx = data\n",
    "    inputs = inputs.double()\n",
    "    inputs, labels = inputs.to(\"cuda\"), labels.to(\"cuda\")\n",
    "    alphas,_, avg_images = focus_net(inputs)\n",
    "    outputs = classify(avg_images)\n",
    "\n",
    "    _, predicted = torch.max(outputs.data, 1)\n",
    "\n",
    "    total += labels.size(0)\n",
    "    correct += (predicted == labels).sum().item()\n",
    "\n",
    "print('Accuracy of the network on the 30000 train images: %f %%' % ( 100 * correct / total))\n",
    "print(\"total correct\", correct)\n",
    "print(\"total train set images\", total)"
   ]
  },
  {
   "cell_type": "code",
   "execution_count": 40,
   "id": "1b342a62",
   "metadata": {
    "execution": {
     "iopub.execute_input": "2021-08-31T16:38:09.326603Z",
     "iopub.status.busy": "2021-08-31T16:38:09.325855Z",
     "iopub.status.idle": "2021-08-31T16:38:15.291849Z",
     "shell.execute_reply": "2021-08-31T16:38:15.291215Z"
    },
    "id": "an7qmNLB-Ilb",
    "outputId": "b97f131d-d111-4383-c239-728d18e5d0d2",
    "papermill": {
     "duration": 6.016734,
     "end_time": "2021-08-31T16:38:15.292037",
     "exception": false,
     "start_time": "2021-08-31T16:38:09.275303",
     "status": "completed"
    },
    "tags": []
   },
   "outputs": [
    {
     "name": "stdout",
     "output_type": "stream",
     "text": [
      "Accuracy of the network on the 10000 test images: 94.750000 %\n",
      "total correct 9475\n",
      "total train set images 10000\n"
     ]
    }
   ],
   "source": [
    "correct = 0\n",
    "total = 0\n",
    "focus_net.eval()\n",
    "classify.eval()\n",
    "with torch.no_grad():\n",
    "  for data in test_loader:\n",
    "    inputs, labels , fore_idx = data\n",
    "    inputs = inputs.double()\n",
    "    inputs, labels = inputs.to(\"cuda\"), labels.to(\"cuda\")\n",
    "    alphas, _,avg_images = focus_net(inputs)\n",
    "    outputs = classify(avg_images)\n",
    "\n",
    "    _, predicted = torch.max(outputs.data, 1)\n",
    "\n",
    "    total += labels.size(0)\n",
    "    correct += (predicted == labels).sum().item()\n",
    "\n",
    "print('Accuracy of the network on the 10000 test images: %f %%' % ( 100 * correct / total))\n",
    "print(\"total correct\", correct)\n",
    "print(\"total train set images\", total)"
   ]
  },
  {
   "cell_type": "code",
   "execution_count": null,
   "id": "315f45fe",
   "metadata": {
    "id": "ETkfw2nG9BO3",
    "papermill": {
     "duration": 0.046121,
     "end_time": "2021-08-31T16:38:15.385828",
     "exception": false,
     "start_time": "2021-08-31T16:38:15.339707",
     "status": "completed"
    },
    "tags": []
   },
   "outputs": [],
   "source": []
  }
 ],
 "metadata": {
  "kernelspec": {
   "display_name": "Python 3",
   "language": "python",
   "name": "python3"
  },
  "language_info": {
   "codemirror_mode": {
    "name": "ipython",
    "version": 3
   },
   "file_extension": ".py",
   "mimetype": "text/x-python",
   "name": "python",
   "nbconvert_exporter": "python",
   "pygments_lexer": "ipython3",
   "version": "3.7.10"
  },
  "papermill": {
   "default_parameters": {},
   "duration": 986.076468,
   "end_time": "2021-08-31T16:38:17.332129",
   "environment_variables": {},
   "exception": null,
   "input_path": "__notebook__.ipynb",
   "output_path": "__notebook__.ipynb",
   "parameters": {},
   "start_time": "2021-08-31T16:21:51.255661",
   "version": "2.3.3"
  },
  "widgets": {
   "application/vnd.jupyter.widget-state+json": {
    "state": {
     "246526a4caad4f75987174c44f2ae10d": {
      "model_module": "@jupyter-widgets/controls",
      "model_module_version": "1.5.0",
      "model_name": "HTMLModel",
      "state": {
       "_dom_classes": [],
       "_model_module": "@jupyter-widgets/controls",
       "_model_module_version": "1.5.0",
       "_model_name": "HTMLModel",
       "_view_count": null,
       "_view_module": "@jupyter-widgets/controls",
       "_view_module_version": "1.5.0",
       "_view_name": "HTMLView",
       "description": "",
       "description_tooltip": null,
       "layout": "IPY_MODEL_774294f8564f49f3856c50ae84e741a3",
       "placeholder": "​",
       "style": "IPY_MODEL_8fb57d4c9918409e87fbc821e31a73bb",
       "value": " 170500096/? [00:20&lt;00:00, 54746815.59it/s]"
      }
     },
     "65b4a26970114829b3a69af20bbde46b": {
      "model_module": "@jupyter-widgets/controls",
      "model_module_version": "1.5.0",
      "model_name": "ProgressStyleModel",
      "state": {
       "_model_module": "@jupyter-widgets/controls",
       "_model_module_version": "1.5.0",
       "_model_name": "ProgressStyleModel",
       "_view_count": null,
       "_view_module": "@jupyter-widgets/base",
       "_view_module_version": "1.2.0",
       "_view_name": "StyleView",
       "bar_color": null,
       "description_width": ""
      }
     },
     "6a0055b54c244f4292d5d0e0cff128ce": {
      "model_module": "@jupyter-widgets/base",
      "model_module_version": "1.2.0",
      "model_name": "LayoutModel",
      "state": {
       "_model_module": "@jupyter-widgets/base",
       "_model_module_version": "1.2.0",
       "_model_name": "LayoutModel",
       "_view_count": null,
       "_view_module": "@jupyter-widgets/base",
       "_view_module_version": "1.2.0",
       "_view_name": "LayoutView",
       "align_content": null,
       "align_items": null,
       "align_self": null,
       "border": null,
       "bottom": null,
       "display": null,
       "flex": null,
       "flex_flow": null,
       "grid_area": null,
       "grid_auto_columns": null,
       "grid_auto_flow": null,
       "grid_auto_rows": null,
       "grid_column": null,
       "grid_gap": null,
       "grid_row": null,
       "grid_template_areas": null,
       "grid_template_columns": null,
       "grid_template_rows": null,
       "height": null,
       "justify_content": null,
       "justify_items": null,
       "left": null,
       "margin": null,
       "max_height": null,
       "max_width": null,
       "min_height": null,
       "min_width": null,
       "object_fit": null,
       "object_position": null,
       "order": null,
       "overflow": null,
       "overflow_x": null,
       "overflow_y": null,
       "padding": null,
       "right": null,
       "top": null,
       "visibility": null,
       "width": "20px"
      }
     },
     "774294f8564f49f3856c50ae84e741a3": {
      "model_module": "@jupyter-widgets/base",
      "model_module_version": "1.2.0",
      "model_name": "LayoutModel",
      "state": {
       "_model_module": "@jupyter-widgets/base",
       "_model_module_version": "1.2.0",
       "_model_name": "LayoutModel",
       "_view_count": null,
       "_view_module": "@jupyter-widgets/base",
       "_view_module_version": "1.2.0",
       "_view_name": "LayoutView",
       "align_content": null,
       "align_items": null,
       "align_self": null,
       "border": null,
       "bottom": null,
       "display": null,
       "flex": null,
       "flex_flow": null,
       "grid_area": null,
       "grid_auto_columns": null,
       "grid_auto_flow": null,
       "grid_auto_rows": null,
       "grid_column": null,
       "grid_gap": null,
       "grid_row": null,
       "grid_template_areas": null,
       "grid_template_columns": null,
       "grid_template_rows": null,
       "height": null,
       "justify_content": null,
       "justify_items": null,
       "left": null,
       "margin": null,
       "max_height": null,
       "max_width": null,
       "min_height": null,
       "min_width": null,
       "object_fit": null,
       "object_position": null,
       "order": null,
       "overflow": null,
       "overflow_x": null,
       "overflow_y": null,
       "padding": null,
       "right": null,
       "top": null,
       "visibility": null,
       "width": null
      }
     },
     "7b9d6212e93e4035bff61f0fd33fb7b7": {
      "model_module": "@jupyter-widgets/base",
      "model_module_version": "1.2.0",
      "model_name": "LayoutModel",
      "state": {
       "_model_module": "@jupyter-widgets/base",
       "_model_module_version": "1.2.0",
       "_model_name": "LayoutModel",
       "_view_count": null,
       "_view_module": "@jupyter-widgets/base",
       "_view_module_version": "1.2.0",
       "_view_name": "LayoutView",
       "align_content": null,
       "align_items": null,
       "align_self": null,
       "border": null,
       "bottom": null,
       "display": null,
       "flex": null,
       "flex_flow": null,
       "grid_area": null,
       "grid_auto_columns": null,
       "grid_auto_flow": null,
       "grid_auto_rows": null,
       "grid_column": null,
       "grid_gap": null,
       "grid_row": null,
       "grid_template_areas": null,
       "grid_template_columns": null,
       "grid_template_rows": null,
       "height": null,
       "justify_content": null,
       "justify_items": null,
       "left": null,
       "margin": null,
       "max_height": null,
       "max_width": null,
       "min_height": null,
       "min_width": null,
       "object_fit": null,
       "object_position": null,
       "order": null,
       "overflow": null,
       "overflow_x": null,
       "overflow_y": null,
       "padding": null,
       "right": null,
       "top": null,
       "visibility": null,
       "width": null
      }
     },
     "811f5187c3e94f60951999e7f8117b15": {
      "model_module": "@jupyter-widgets/base",
      "model_module_version": "1.2.0",
      "model_name": "LayoutModel",
      "state": {
       "_model_module": "@jupyter-widgets/base",
       "_model_module_version": "1.2.0",
       "_model_name": "LayoutModel",
       "_view_count": null,
       "_view_module": "@jupyter-widgets/base",
       "_view_module_version": "1.2.0",
       "_view_name": "LayoutView",
       "align_content": null,
       "align_items": null,
       "align_self": null,
       "border": null,
       "bottom": null,
       "display": null,
       "flex": null,
       "flex_flow": null,
       "grid_area": null,
       "grid_auto_columns": null,
       "grid_auto_flow": null,
       "grid_auto_rows": null,
       "grid_column": null,
       "grid_gap": null,
       "grid_row": null,
       "grid_template_areas": null,
       "grid_template_columns": null,
       "grid_template_rows": null,
       "height": null,
       "justify_content": null,
       "justify_items": null,
       "left": null,
       "margin": null,
       "max_height": null,
       "max_width": null,
       "min_height": null,
       "min_width": null,
       "object_fit": null,
       "object_position": null,
       "order": null,
       "overflow": null,
       "overflow_x": null,
       "overflow_y": null,
       "padding": null,
       "right": null,
       "top": null,
       "visibility": null,
       "width": null
      }
     },
     "878144579dc34222a69c9fb5ef237ea9": {
      "model_module": "@jupyter-widgets/controls",
      "model_module_version": "1.5.0",
      "model_name": "HBoxModel",
      "state": {
       "_dom_classes": [],
       "_model_module": "@jupyter-widgets/controls",
       "_model_module_version": "1.5.0",
       "_model_name": "HBoxModel",
       "_view_count": null,
       "_view_module": "@jupyter-widgets/controls",
       "_view_module_version": "1.5.0",
       "_view_name": "HBoxView",
       "box_style": "",
       "children": [
        "IPY_MODEL_8d935a38886545c8bdc805fd792a2472",
        "IPY_MODEL_8b1e8f7778ab48669479f8526577fac5",
        "IPY_MODEL_246526a4caad4f75987174c44f2ae10d"
       ],
       "layout": "IPY_MODEL_7b9d6212e93e4035bff61f0fd33fb7b7"
      }
     },
     "8b1e8f7778ab48669479f8526577fac5": {
      "model_module": "@jupyter-widgets/controls",
      "model_module_version": "1.5.0",
      "model_name": "FloatProgressModel",
      "state": {
       "_dom_classes": [],
       "_model_module": "@jupyter-widgets/controls",
       "_model_module_version": "1.5.0",
       "_model_name": "FloatProgressModel",
       "_view_count": null,
       "_view_module": "@jupyter-widgets/controls",
       "_view_module_version": "1.5.0",
       "_view_name": "ProgressView",
       "bar_style": "info",
       "description": "",
       "description_tooltip": null,
       "layout": "IPY_MODEL_6a0055b54c244f4292d5d0e0cff128ce",
       "max": 1.0,
       "min": 0.0,
       "orientation": "horizontal",
       "style": "IPY_MODEL_65b4a26970114829b3a69af20bbde46b",
       "value": 1.0
      }
     },
     "8d935a38886545c8bdc805fd792a2472": {
      "model_module": "@jupyter-widgets/controls",
      "model_module_version": "1.5.0",
      "model_name": "HTMLModel",
      "state": {
       "_dom_classes": [],
       "_model_module": "@jupyter-widgets/controls",
       "_model_module_version": "1.5.0",
       "_model_name": "HTMLModel",
       "_view_count": null,
       "_view_module": "@jupyter-widgets/controls",
       "_view_module_version": "1.5.0",
       "_view_name": "HTMLView",
       "description": "",
       "description_tooltip": null,
       "layout": "IPY_MODEL_811f5187c3e94f60951999e7f8117b15",
       "placeholder": "​",
       "style": "IPY_MODEL_9580257f669043f9b901583b016d4416",
       "value": ""
      }
     },
     "8fb57d4c9918409e87fbc821e31a73bb": {
      "model_module": "@jupyter-widgets/controls",
      "model_module_version": "1.5.0",
      "model_name": "DescriptionStyleModel",
      "state": {
       "_model_module": "@jupyter-widgets/controls",
       "_model_module_version": "1.5.0",
       "_model_name": "DescriptionStyleModel",
       "_view_count": null,
       "_view_module": "@jupyter-widgets/base",
       "_view_module_version": "1.2.0",
       "_view_name": "StyleView",
       "description_width": ""
      }
     },
     "9580257f669043f9b901583b016d4416": {
      "model_module": "@jupyter-widgets/controls",
      "model_module_version": "1.5.0",
      "model_name": "DescriptionStyleModel",
      "state": {
       "_model_module": "@jupyter-widgets/controls",
       "_model_module_version": "1.5.0",
       "_model_name": "DescriptionStyleModel",
       "_view_count": null,
       "_view_module": "@jupyter-widgets/base",
       "_view_module_version": "1.2.0",
       "_view_name": "StyleView",
       "description_width": ""
      }
     }
    },
    "version_major": 2,
    "version_minor": 0
   }
  }
 },
 "nbformat": 4,
 "nbformat_minor": 5
}
