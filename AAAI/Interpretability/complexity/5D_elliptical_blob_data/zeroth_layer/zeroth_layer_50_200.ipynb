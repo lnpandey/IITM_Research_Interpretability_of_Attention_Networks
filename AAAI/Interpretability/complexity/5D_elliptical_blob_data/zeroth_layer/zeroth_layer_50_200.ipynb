{
  "nbformat": 4,
  "nbformat_minor": 0,
  "metadata": {
    "accelerator": "GPU",
    "colab": {
      "name": "zeroth_layer_50_200.ipynb",
      "provenance": [],
      "collapsed_sections": []
    },
    "kernelspec": {
      "display_name": "Python 3",
      "name": "python3"
    }
  },
  "cells": [
    {
      "cell_type": "code",
      "metadata": {
        "colab": {
          "base_uri": "https://localhost:8080/"
        },
        "id": "-Vv0xhOxmRqI",
        "outputId": "1502000d-11ba-47de-b783-68c90671aa8d"
      },
      "source": [
        "from google.colab import drive\n",
        "drive.mount('/content/drive')"
      ],
      "execution_count": 34,
      "outputs": [
        {
          "output_type": "stream",
          "name": "stdout",
          "text": [
            "Drive already mounted at /content/drive; to attempt to forcibly remount, call drive.mount(\"/content/drive\", force_remount=True).\n"
          ]
        }
      ]
    },
    {
      "cell_type": "code",
      "metadata": {
        "id": "vO-FHcaXmYW0"
      },
      "source": [
        "path = '/content/drive/MyDrive/Research/AAAI/complexity/50_200/'"
      ],
      "execution_count": 35,
      "outputs": []
    },
    {
      "cell_type": "code",
      "metadata": {
        "id": "VAYu3ISwwGks"
      },
      "source": [
        "import numpy as np\n",
        "import pandas as pd\n",
        "\n",
        "import torch\n",
        "import torchvision\n",
        "from torch.utils.data import Dataset, DataLoader\n",
        "from torchvision import transforms, utils\n",
        "import torch.nn as nn\n",
        "import torch.nn.functional as F\n",
        "import torch.optim as optim\n",
        "\n",
        "from matplotlib import pyplot as plt\n",
        "%matplotlib inline\n",
        "\n",
        "torch.backends.cudnn.deterministic = True\n",
        "torch.backends.cudnn.benchmark = False"
      ],
      "execution_count": 36,
      "outputs": []
    },
    {
      "cell_type": "markdown",
      "metadata": {
        "id": "w5peJDh_2PGd"
      },
      "source": [
        "# Generate dataset"
      ]
    },
    {
      "cell_type": "code",
      "metadata": {
        "id": "WvT4DjeaU1_J"
      },
      "source": [
        "mu1 = np.array([3,3,3,3,0])\n",
        "sigma1 = np.array([[1,1,1,1,1],[1,16,1,1,1],[1,1,1,1,1],[1,1,1,1,1],[1,1,1,1,1]])\n",
        "\n",
        "mu2 = np.array([4,4,4,4,0])\n",
        "sigma2 = np.array([[16,1,1,1,1],[1,1,1,1,1],[1,1,1,1,1],[1,1,1,1,1],[1,1,1,1,1]])\n",
        "\n",
        "mu3 = np.array([10,5,5,10,0])\n",
        "sigma3 = np.array([[1,1,1,1,1],[1,16,1,1,1],[1,1,1,1,1],[1,1,1,1,1],[1,1,1,1,1]])\n",
        "\n",
        "mu4 = np.array([-10,-10,-10,-10,0])\n",
        "sigma4 = np.array([[1,1,1,1,1],[1,16,1,1,1],[1,1,1,1,1],[1,1,1,1,1],[1,1,1,1,1]])\n",
        "\n",
        "mu5 = np.array([-21,4,4,-21,0])\n",
        "sigma5 = np.array([[16,1,1,1,1],[1,1,1,1,1],[1,1,1,1,1],[1,1,1,1,1],[1,1,1,1,1]])\n",
        "\n",
        "mu6 = np.array([-10,18,18,-10,0])\n",
        "sigma6 = np.array([[1,1,1,1,1],[1,16,1,1,1],[1,1,1,1,1],[1,1,1,1,1],[1,1,1,1,1]])\n",
        "\n",
        "mu7 = np.array([4,20,4,20,0])\n",
        "sigma7 = np.array([[16,1,1,1,1],[1,1,1,1,1],[1,1,1,1,1],[1,1,1,1,1],[1,1,1,1,1]])\n",
        "\n",
        "mu8 = np.array([4,-20,-20,4,0])\n",
        "sigma8 = np.array([[16,1,1,1,1],[1,1,1,1,1],[1,1,1,1,1],[1,1,1,1,1],[1,1,1,1,1]])\n",
        "\n",
        "mu9 = np.array([20,20,20,20,0])\n",
        "sigma9 = np.array([[1,1,1,1,1],[1,16,1,1,1],[1,1,1,1,1],[1,1,1,1,1],[1,1,1,1,1]])\n",
        "\n",
        "mu10 = np.array([20,-10,-10,20,0])\n",
        "sigma10 = np.array([[1,1,1,1,1],[1,16,1,1,1],[1,1,1,1,1],[1,1,1,1,1],[1,1,1,1,1]])"
      ],
      "execution_count": 37,
      "outputs": []
    },
    {
      "cell_type": "code",
      "metadata": {
        "id": "Hoq8cln5U_aX"
      },
      "source": [
        "np.random.seed(12)\n",
        "sample1 = np.random.multivariate_normal(mean=mu1,cov= sigma1,size=500)\n",
        "sample2 = np.random.multivariate_normal(mean=mu2,cov= sigma2,size=500)\n",
        "sample3 = np.random.multivariate_normal(mean=mu3,cov= sigma3,size=500)\n",
        "sample4 = np.random.multivariate_normal(mean=mu4,cov= sigma4,size=500)\n",
        "sample5 = np.random.multivariate_normal(mean=mu5,cov= sigma5,size=500)\n",
        "sample6 = np.random.multivariate_normal(mean=mu6,cov= sigma6,size=500)\n",
        "sample7 = np.random.multivariate_normal(mean=mu7,cov= sigma7,size=500)\n",
        "sample8 = np.random.multivariate_normal(mean=mu8,cov= sigma8,size=500)\n",
        "sample9 = np.random.multivariate_normal(mean=mu9,cov= sigma9,size=500)\n",
        "sample10 = np.random.multivariate_normal(mean=mu10,cov= sigma10,size=500)"
      ],
      "execution_count": 38,
      "outputs": []
    },
    {
      "cell_type": "code",
      "metadata": {
        "id": "J0F1koRdVGCm"
      },
      "source": [
        "X = np.concatenate((sample1,sample2,sample3,sample4,sample5,sample6,sample7,sample8,sample9,sample10),axis=0)\n",
        "Y = np.concatenate((np.zeros((500,1)),np.ones((500,1)),2*np.ones((500,1)),3*np.ones((500,1)),4*np.ones((500,1)),\n",
        "                    5*np.ones((500,1)),6*np.ones((500,1)),7*np.ones((500,1)),8*np.ones((500,1)),9*np.ones((500,1))),axis=0).astype(int)"
      ],
      "execution_count": 39,
      "outputs": []
    },
    {
      "cell_type": "code",
      "metadata": {
        "colab": {
          "base_uri": "https://localhost:8080/"
        },
        "id": "_bD8CltbVY6B",
        "outputId": "389627f0-4060-4d86-8ac3-7ccfdf39e0bd"
      },
      "source": [
        "print(X[0], Y[0])"
      ],
      "execution_count": 40,
      "outputs": [
        {
          "output_type": "stream",
          "name": "stdout",
          "text": [
            "[ 2.20218134  1.32290141  2.20218134  2.20218134 -0.79781866] [0]\n"
          ]
        }
      ]
    },
    {
      "cell_type": "code",
      "metadata": {
        "colab": {
          "base_uri": "https://localhost:8080/"
        },
        "id": "UqkZXw-NVmJ2",
        "outputId": "6ae53750-6f05-4fd2-924c-7d6e1b2b038e"
      },
      "source": [
        "print(X[500], Y[500])"
      ],
      "execution_count": 41,
      "outputs": [
        {
          "output_type": "stream",
          "name": "stdout",
          "text": [
            "[12.65418869  5.7937588   5.7937588   5.7937588   1.7937588 ] [1]\n"
          ]
        }
      ]
    },
    {
      "cell_type": "code",
      "metadata": {
        "colab": {
          "base_uri": "https://localhost:8080/"
        },
        "id": "U2WL6wYrV8Iv",
        "outputId": "b16d640a-3544-40dc-8427-8e58158d3577"
      },
      "source": [
        "class SyntheticDataset(Dataset):\n",
        "  \"\"\"MosaicDataset dataset.\"\"\"\n",
        "  def __init__(self, x, y):\n",
        "    \"\"\"\n",
        "      Args:\n",
        "       x: list of instance\n",
        "       y: list of instance label\n",
        "    \"\"\"\n",
        "    self.x = x\n",
        "    self.y = y\n",
        "    #self.fore_idx = fore_idx\n",
        "    \n",
        "  def __len__(self):\n",
        "    return len(self.y)\n",
        "\n",
        "  def __getitem__(self, idx):\n",
        "    return self.x[idx] , self.y[idx] #, self.fore_idx[idx]\n",
        "\n",
        "trainset = SyntheticDataset(X,Y)\n",
        "\n",
        "classes = ('zero','one','two','three','four','five','six','seven','eight','nine')\n",
        "\n",
        "foreground_classes = {'zero','one','two'}\n",
        "fg_used = '012'\n",
        "fg1, fg2, fg3 = 0,1,2\n",
        "\n",
        "all_classes = {'zero','one','two','three','four','five','six','seven','eight','nine'}\n",
        "background_classes = all_classes - foreground_classes\n",
        "print(\"background classes \",background_classes)\n",
        "\n",
        "trainloader = torch.utils.data.DataLoader(trainset, batch_size=100, shuffle=False)\n",
        "\n",
        "dataiter = iter(trainloader)\n",
        "background_data=[]\n",
        "background_label=[]\n",
        "foreground_data=[]\n",
        "foreground_label=[]\n",
        "batch_size=100\n",
        "\n",
        "for i in range(50):\n",
        "  images, labels = dataiter.next()\n",
        "  for j in range(batch_size):\n",
        "    if(classes[labels[j]] in background_classes):\n",
        "      img = images[j].tolist()\n",
        "      background_data.append(img)\n",
        "      background_label.append(labels[j])\n",
        "    else:\n",
        "      img = images[j].tolist()\n",
        "      foreground_data.append(img)\n",
        "      foreground_label.append(labels[j])\n",
        "            \n",
        "foreground_data = torch.tensor(foreground_data)\n",
        "foreground_label = torch.tensor(foreground_label)\n",
        "background_data = torch.tensor(background_data)\n",
        "background_label = torch.tensor(background_label)"
      ],
      "execution_count": 42,
      "outputs": [
        {
          "output_type": "stream",
          "name": "stdout",
          "text": [
            "background classes  {'six', 'three', 'five', 'seven', 'eight', 'nine', 'four'}\n"
          ]
        }
      ]
    },
    {
      "cell_type": "code",
      "metadata": {
        "colab": {
          "base_uri": "https://localhost:8080/"
        },
        "id": "TkzWjwECWhV_",
        "outputId": "23e0d7e5-ca2c-4dda-d589-b1e7934ba64f"
      },
      "source": [
        "print(foreground_data[0], foreground_label[0] )"
      ],
      "execution_count": 43,
      "outputs": [
        {
          "output_type": "stream",
          "name": "stdout",
          "text": [
            "tensor([ 2.2022,  1.3229,  2.2022,  2.2022, -0.7978]) tensor(0)\n"
          ]
        }
      ]
    },
    {
      "cell_type": "code",
      "metadata": {
        "id": "gk7U_B7jWw3f"
      },
      "source": [
        "def create_mosaic_img(bg_idx,fg_idx,fg): \n",
        "  \"\"\"\n",
        "  bg_idx : list of indexes of background_data[] to be used as background images in mosaic\n",
        "  fg_idx : index of image to be used as foreground image from foreground data\n",
        "  fg : at what position/index foreground image has to be stored out of 0-8\n",
        "  \"\"\"\n",
        "  image_list=[]\n",
        "  j=0\n",
        "  for i in range(9):\n",
        "    if i != fg:\n",
        "      image_list.append(background_data[bg_idx[j]])\n",
        "      j+=1\n",
        "    else: \n",
        "      image_list.append(foreground_data[fg_idx])\n",
        "      label = foreground_label[fg_idx] - fg1  # minus fg1 because our fore ground classes are fg1,fg2,fg3 but we have to store it as 0,1,2\n",
        "  #image_list = np.concatenate(image_list ,axis=0)\n",
        "  image_list = torch.stack(image_list) \n",
        "  return image_list,label"
      ],
      "execution_count": 44,
      "outputs": []
    },
    {
      "cell_type": "code",
      "metadata": {
        "id": "9XEv4A_ZW_nI"
      },
      "source": [
        "desired_num = 6000\n",
        "mosaic_list_of_images =[]      # list of mosaic images, each mosaic image is saved as list of 9 images\n",
        "fore_idx =[]                   # list of indexes at which foreground image is present in a mosaic image i.e from 0 to 9               \n",
        "mosaic_label=[]                # label of mosaic image = foreground class present in that mosaic\n",
        "list_set_labels = [] \n",
        "for i in range(desired_num):\n",
        "  set_idx = set()\n",
        "  np.random.seed(i)\n",
        "  bg_idx = np.random.randint(0,3500,8)\n",
        "  set_idx = set(background_label[bg_idx].tolist())\n",
        "  fg_idx = np.random.randint(0,1500)\n",
        "  set_idx.add(foreground_label[fg_idx].item())\n",
        "  fg = np.random.randint(0,9)\n",
        "  fore_idx.append(fg)\n",
        "  image_list,label = create_mosaic_img(bg_idx,fg_idx,fg)\n",
        "  mosaic_list_of_images.append(image_list)\n",
        "  mosaic_label.append(label)\n",
        "  list_set_labels.append(set_idx)"
      ],
      "execution_count": 45,
      "outputs": []
    },
    {
      "cell_type": "code",
      "metadata": {
        "colab": {
          "base_uri": "https://localhost:8080/"
        },
        "id": "YuPrl-ak23hd",
        "outputId": "48fd592d-bdcb-4d46-f4ab-c10b0cbe5474"
      },
      "source": [
        "len(mosaic_list_of_images), mosaic_list_of_images[0]"
      ],
      "execution_count": 46,
      "outputs": [
        {
          "output_type": "execute_result",
          "data": {
            "text/plain": [
              "(6000, tensor([[ 20.0825,  25.5012,  20.0825,  20.0825,   0.0825],\n",
              "         [ 20.6911,  22.6202,  20.6911,  20.6911,   0.6911],\n",
              "         [  1.2544,  22.0426,   6.0426,  22.0426,   2.0426],\n",
              "         [  9.2862,   3.1005,   4.2862,   9.2862,  -0.7138],\n",
              "         [ 20.7622, -12.2787,  -9.2378,  20.7622,   0.7622],\n",
              "         [-27.2336,   3.4770,   3.4770, -21.5230,  -0.5230],\n",
              "         [-32.2853,   1.7774,   1.7774, -23.2226,  -2.2226],\n",
              "         [  4.1916,  17.4376,   1.4376,  17.4376,  -2.5624],\n",
              "         [ 20.9615,  -4.3890,  -9.0385,  20.9615,   0.9615]]))"
            ]
          },
          "metadata": {},
          "execution_count": 46
        }
      ]
    },
    {
      "cell_type": "markdown",
      "metadata": {
        "id": "y4ZKaqzq_vcD"
      },
      "source": [
        "# load mosaic data"
      ]
    },
    {
      "cell_type": "code",
      "metadata": {
        "id": "syESDetXAPK2"
      },
      "source": [
        "class MosaicDataset(Dataset):\n",
        "  \"\"\"MosaicDataset dataset.\"\"\"\n",
        "\n",
        "  def __init__(self, mosaic_list, mosaic_label,fore_idx):\n",
        "    \"\"\"\n",
        "      Args:\n",
        "        csv_file (string): Path to the csv file with annotations.\n",
        "        root_dir (string): Directory with all the images.\n",
        "        transform (callable, optional): Optional transform to be applied\n",
        "            on a sample.\n",
        "    \"\"\"\n",
        "    self.mosaic = mosaic_list\n",
        "    self.label = mosaic_label\n",
        "    self.fore_idx = fore_idx\n",
        "    \n",
        "  def __len__(self):\n",
        "    return len(self.label)\n",
        "\n",
        "  def __getitem__(self, idx):\n",
        "    return self.mosaic[idx] , self.label[idx] , self.fore_idx[idx]"
      ],
      "execution_count": 47,
      "outputs": []
    },
    {
      "cell_type": "code",
      "metadata": {
        "id": "fP5NPRPmb904"
      },
      "source": [
        "batch = 250\n",
        "msd1 = MosaicDataset(mosaic_list_of_images[0:3000], mosaic_label[0:3000] , fore_idx[0:3000])\n",
        "train_loader = DataLoader( msd1 ,batch_size= batch ,shuffle=True)"
      ],
      "execution_count": 48,
      "outputs": []
    },
    {
      "cell_type": "code",
      "metadata": {
        "id": "92ZN-Sm54ti7"
      },
      "source": [
        "batch = 250\n",
        "msd2 = MosaicDataset(mosaic_list_of_images[3000:6000], mosaic_label[3000:6000] , fore_idx[3000:6000])\n",
        "test_loader = DataLoader( msd2 ,batch_size= batch ,shuffle=True)"
      ],
      "execution_count": 49,
      "outputs": []
    },
    {
      "cell_type": "markdown",
      "metadata": {
        "id": "ARLPPASQ_2gB"
      },
      "source": [
        "# models"
      ]
    },
    {
      "cell_type": "code",
      "metadata": {
        "id": "F_LGWC0pXmFD"
      },
      "source": [
        "class Focus_deep(nn.Module):\n",
        "    '''\n",
        "       deep focus network averaged at zeroth layer with input-50-output architecture\n",
        "       input : elemental data\n",
        "    '''\n",
        " \n",
        "    def __init__(self,inputs,output,K,d):\n",
        "        super(Focus_deep,self).__init__()\n",
        "        self.inputs = inputs\n",
        "        self.output = output\n",
        "        self.K = K\n",
        "        self.d  = d\n",
        "        self.linear1 = nn.Linear(self.inputs,50, bias=False)  #,self.output)\n",
        "        self.linear2 = nn.Linear(50,self.output, bias=False) \n",
        "\n",
        "        torch.nn.init.xavier_normal_(self.linear1.weight)\n",
        "        torch.nn.init.xavier_normal_(self.linear2.weight)\n",
        "\n",
        "    def forward(self,z):\n",
        "        batch = z.shape[0]\n",
        "        x = torch.zeros([batch,self.K],dtype=torch.float64)\n",
        "        y = torch.zeros([batch,self.d], dtype=torch.float64)\n",
        "        x,y = x.to(\"cuda\"),y.to(\"cuda\")\n",
        "        for i in range(self.K):\n",
        "            x[:,i] = self.helper(z[:,i] )[:,0]  # self.d*i:self.d*i+self.d\n",
        "        log_x = F.log_softmax(x,dim=1)\n",
        "        x = F.softmax(x,dim=1)   # alphas\n",
        "        x1 = x[:,0]\n",
        "        for i in range(self.K):\n",
        "            x1 = x[:,i]          \n",
        "            y = y+torch.mul(x1[:,None],z[:,i])  # self.d*i:self.d*i+self.d\n",
        "        return y , x , log_x\n",
        "    def helper(self,x):\n",
        "      x = F.relu(self.linear1(x))\n",
        "      x = self.linear2(x)\n",
        "      return x"
      ],
      "execution_count": 50,
      "outputs": []
    },
    {
      "cell_type": "code",
      "metadata": {
        "id": "t1El0hjJZAk3"
      },
      "source": [
        "class Classification_deep(nn.Module):\n",
        "    '''\n",
        "       input : elemental data\n",
        "       deep classification module data averaged at zeroth layer with input-50-output architecture\n",
        "    '''\n",
        "    def __init__(self,inputs,output):\n",
        "        super(Classification_deep,self).__init__()\n",
        "        self.inputs = inputs\n",
        "        self.output = output\n",
        "        self.linear1 = nn.Linear(self.inputs,200)\n",
        "        self.linear2 = nn.Linear(200,self.output)\n",
        "        \n",
        "        torch.nn.init.xavier_normal_(self.linear1.weight)\n",
        "        torch.nn.init.zeros_(self.linear1.bias)\n",
        "        torch.nn.init.xavier_normal_(self.linear2.weight)\n",
        "        torch.nn.init.zeros_(self.linear2.bias)\n",
        "\n",
        "    def forward(self,x):\n",
        "      x = F.relu(self.linear1(x))\n",
        "      x = self.linear2(x)\n",
        "      return x"
      ],
      "execution_count": 51,
      "outputs": []
    },
    {
      "cell_type": "code",
      "metadata": {
        "id": "lp8mPNj45RG5"
      },
      "source": [
        "torch.manual_seed(12)\n",
        "focus_net = Focus_deep(2,1,9,2).double()\n",
        "focus_net = focus_net.to(\"cuda\")"
      ],
      "execution_count": 52,
      "outputs": []
    },
    {
      "cell_type": "code",
      "metadata": {
        "id": "LovpFOe25RES",
        "colab": {
          "base_uri": "https://localhost:8080/"
        },
        "outputId": "51d9315b-e2c5-4222-c011-fec3c757c82d"
      },
      "source": [
        "focus_net.linear1.weight.shape,focus_net.linear2.weight.shape"
      ],
      "execution_count": 53,
      "outputs": [
        {
          "output_type": "execute_result",
          "data": {
            "text/plain": [
              "(torch.Size([50, 2]), torch.Size([1, 50]))"
            ]
          },
          "metadata": {},
          "execution_count": 53
        }
      ]
    },
    {
      "cell_type": "code",
      "metadata": {
        "id": "VXjZ7tiF5RBy",
        "colab": {
          "base_uri": "https://localhost:8080/"
        },
        "outputId": "2571394f-baeb-4380-bb56-0ebec33b7ace"
      },
      "source": [
        "focus_net.linear1.weight.data[25:,:] = focus_net.linear1.weight.data[:25,:] #torch.nn.Parameter(torch.tensor([last_layer]) )\n",
        "(focus_net.linear1.weight[:25,:]== focus_net.linear1.weight[25:,:] )"
      ],
      "execution_count": 54,
      "outputs": [
        {
          "output_type": "execute_result",
          "data": {
            "text/plain": [
              "tensor([[True, True],\n",
              "        [True, True],\n",
              "        [True, True],\n",
              "        [True, True],\n",
              "        [True, True],\n",
              "        [True, True],\n",
              "        [True, True],\n",
              "        [True, True],\n",
              "        [True, True],\n",
              "        [True, True],\n",
              "        [True, True],\n",
              "        [True, True],\n",
              "        [True, True],\n",
              "        [True, True],\n",
              "        [True, True],\n",
              "        [True, True],\n",
              "        [True, True],\n",
              "        [True, True],\n",
              "        [True, True],\n",
              "        [True, True],\n",
              "        [True, True],\n",
              "        [True, True],\n",
              "        [True, True],\n",
              "        [True, True],\n",
              "        [True, True]], device='cuda:0')"
            ]
          },
          "metadata": {},
          "execution_count": 54
        }
      ]
    },
    {
      "cell_type": "code",
      "metadata": {
        "id": "vfzyIhtb5Q-6",
        "colab": {
          "base_uri": "https://localhost:8080/"
        },
        "outputId": "5ba9dcb0-1415-4557-aa95-a2243b429e9c"
      },
      "source": [
        "focus_net.linear2.weight.data[:,25:] = -focus_net.linear2.weight.data[:,:25] #torch.nn.Parameter(torch.tensor([last_layer]) )\n",
        "focus_net.linear2.weight"
      ],
      "execution_count": 55,
      "outputs": [
        {
          "output_type": "execute_result",
          "data": {
            "text/plain": [
              "Parameter containing:\n",
              "tensor([[ 0.2877,  0.2409, -0.1060,  0.0798,  0.0235,  0.5752,  0.2892,  0.3077,\n",
              "         -0.0946,  0.0924, -0.1857,  0.1151, -0.0581, -0.1602, -0.0622, -0.3845,\n",
              "          0.2236, -0.0697, -0.1184, -0.0754,  0.0007,  0.0488,  0.0265, -0.2130,\n",
              "         -0.1718, -0.2877, -0.2409,  0.1060, -0.0798, -0.0235, -0.5752, -0.2892,\n",
              "         -0.3077,  0.0946, -0.0924,  0.1857, -0.1151,  0.0581,  0.1602,  0.0622,\n",
              "          0.3845, -0.2236,  0.0697,  0.1184,  0.0754, -0.0007, -0.0488, -0.0265,\n",
              "          0.2130,  0.1718]], device='cuda:0', dtype=torch.float64,\n",
              "       requires_grad=True)"
            ]
          },
          "metadata": {},
          "execution_count": 55
        }
      ]
    },
    {
      "cell_type": "code",
      "metadata": {
        "id": "_zrNdgOy5Q8C",
        "colab": {
          "base_uri": "https://localhost:8080/"
        },
        "outputId": "1bbc2e9b-ad71-4ede-d7d2-dc74265634bd"
      },
      "source": [
        "focus_net.helper( torch.randn((1,5,2)).double().to(\"cuda\") )"
      ],
      "execution_count": 56,
      "outputs": [
        {
          "output_type": "execute_result",
          "data": {
            "text/plain": [
              "tensor([[[-6.9389e-17],\n",
              "         [ 8.3267e-17],\n",
              "         [-4.1633e-17],\n",
              "         [ 1.3878e-17],\n",
              "         [ 2.7756e-17]]], device='cuda:0', dtype=torch.float64,\n",
              "       grad_fn=<UnsafeViewBackward>)"
            ]
          },
          "metadata": {},
          "execution_count": 56
        }
      ]
    },
    {
      "cell_type": "code",
      "metadata": {
        "id": "nS2I5eABHNPk"
      },
      "source": [
        "criterion = nn.CrossEntropyLoss()\n",
        "def my_cross_entropy(x, y,alpha,log_alpha,k):\n",
        "    # log_prob = -1.0 * F.log_softmax(x, 1)\n",
        "    # loss = log_prob.gather(1, y.unsqueeze(1))\n",
        "    # loss = loss.mean()\n",
        "    loss = criterion(x,y)\n",
        "    \n",
        "    #alpha = torch.clamp(alpha,min=1e-10)     \n",
        "    \n",
        "    b = -1.0* alpha * log_alpha\n",
        "    b =  torch.mean(torch.sum(b,dim=1))\n",
        "    closs = loss\n",
        "    entropy = b \n",
        "    loss = (1-k)*loss + ((k)*b)\n",
        "    return loss,closs,entropy"
      ],
      "execution_count": 57,
      "outputs": []
    },
    {
      "cell_type": "code",
      "metadata": {
        "id": "ehAfQnNwgFYX"
      },
      "source": [
        "def calculate_attn_loss(dataloader,what,where,criter,k):\n",
        "  what.eval()\n",
        "  where.eval()\n",
        "  r_loss = 0\n",
        "  cc_loss = 0\n",
        "  cc_entropy = 0\n",
        "  alphas = []\n",
        "  lbls = []\n",
        "  pred = []\n",
        "  fidices = []\n",
        "  with torch.no_grad():\n",
        "    for i, data in enumerate(dataloader, 0):\n",
        "      inputs, labels,fidx = data\n",
        "      lbls.append(labels)\n",
        "      fidices.append(fidx)\n",
        "      inputs = inputs.double()\n",
        "      inputs, labels = inputs.to(\"cuda\"),labels.to(\"cuda\")\n",
        "      avg,alpha,log_alpha = where(inputs)\n",
        "      outputs = what(avg)\n",
        "      _, predicted = torch.max(outputs.data, 1)\n",
        "      pred.append(predicted.cpu().numpy())\n",
        "      alphas.append(alpha.cpu().numpy())\n",
        "\n",
        "      #ent = np.sum(entropy(alpha.cpu().detach().numpy(), base=2, axis=1))/batch\n",
        "      # mx,_ = torch.max(alpha,1)\n",
        "      # entropy = np.mean(-np.log2(mx.cpu().detach().numpy()))\n",
        "      # print(\"entropy of batch\", entropy)\n",
        "\n",
        "      #loss = (1-k)*criter(outputs, labels) + k*ent\n",
        "      loss,closs,entropy = my_cross_entropy(outputs,labels,alpha,log_alpha,k)\n",
        "      r_loss += loss.item()\n",
        "      cc_loss += closs.item()\n",
        "      cc_entropy += entropy.item()\n",
        "\n",
        "  alphas = np.concatenate(alphas,axis=0)\n",
        "  pred = np.concatenate(pred,axis=0)\n",
        "  lbls = np.concatenate(lbls,axis=0)\n",
        "  fidices = np.concatenate(fidices,axis=0)\n",
        "  #print(alphas.shape,pred.shape,lbls.shape,fidices.shape) \n",
        "  analysis = analyse_data(alphas,lbls,pred,fidices)\n",
        "  return r_loss/i,cc_loss/i,cc_entropy/i,analysis"
      ],
      "execution_count": 58,
      "outputs": []
    },
    {
      "cell_type": "code",
      "metadata": {
        "id": "6e9HQJMzxBhp"
      },
      "source": [
        "def analyse_data(alphas,lbls,predicted,f_idx):\n",
        "    '''\n",
        "       analysis data is created here\n",
        "    '''\n",
        "    batch = len(predicted)\n",
        "    amth,alth,ftpt,ffpt,ftpf,ffpf = 0,0,0,0,0,0\n",
        "    for j in range (batch):\n",
        "      focus = np.argmax(alphas[j])\n",
        "      if(alphas[j][focus] >= 0.5):\n",
        "        amth +=1\n",
        "      else:\n",
        "        alth +=1\n",
        "      if(focus == f_idx[j] and predicted[j] == lbls[j]):\n",
        "        ftpt += 1\n",
        "      elif(focus != f_idx[j] and predicted[j] == lbls[j]):\n",
        "        ffpt +=1\n",
        "      elif(focus == f_idx[j] and predicted[j] != lbls[j]):\n",
        "        ftpf +=1\n",
        "      elif(focus != f_idx[j] and predicted[j] != lbls[j]):\n",
        "        ffpf +=1\n",
        "    #print(sum(predicted==lbls),ftpt+ffpt)\n",
        "    return [ftpt,ffpt,ftpf,ffpf,amth,alth]"
      ],
      "execution_count": 59,
      "outputs": []
    },
    {
      "cell_type": "markdown",
      "metadata": {
        "id": "a2AlGgRa_6_H"
      },
      "source": [
        "# training"
      ]
    },
    {
      "cell_type": "code",
      "metadata": {
        "colab": {
          "base_uri": "https://localhost:8080/"
        },
        "id": "rJ99urwJHWmx",
        "outputId": "6033442c-953a-4e3b-b9c4-902c9d2ac24a"
      },
      "source": [
        "number_runs = 10\n",
        "full_analysis =[]\n",
        "FTPT_analysis = pd.DataFrame(columns = [\"FTPT\",\"FFPT\", \"FTPF\",\"FFPF\"])\n",
        "k = 0\n",
        "for n in range(number_runs):\n",
        "  print(\"--\"*40)\n",
        "  \n",
        "  # instantiate focus and classification Model\n",
        "  torch.manual_seed(n)\n",
        "  where = Focus_deep(5,1,9,5).double()\n",
        "  where.linear1.weight.data[25:,:] = where.linear1.weight.data[:25,:]\n",
        "  where.linear2.weight.data[:,25:] = -where.linear2.weight.data[:,:25]\n",
        "  where = where.double().to(\"cuda\")\n",
        "\n",
        "  print(where.helper( torch.randn((1,5,9)).double().to(\"cuda\")))\n",
        "\n",
        "  what = Classification_deep(5,3).double()\n",
        "  where = where.to(\"cuda\")\n",
        "  what = what.to(\"cuda\")\n",
        "\n",
        "  # instantiate optimizer\n",
        "  optimizer_where = optim.Adam(where.parameters(),lr =0.001)\n",
        "  optimizer_what = optim.Adam(what.parameters(), lr=0.001)\n",
        "  #criterion = nn.CrossEntropyLoss()\n",
        "  acti = []\n",
        "  analysis_data = []\n",
        "  loss_curi = []\n",
        "  epochs = 2000\n",
        "\n",
        "\n",
        "  # calculate zeroth epoch loss and FTPT values\n",
        "  running_loss ,_,_,anlys_data= calculate_attn_loss(train_loader,what,where,criterion,k)\n",
        "  loss_curi.append(running_loss)\n",
        "  analysis_data.append(anlys_data)\n",
        "\n",
        "  print('epoch: [%d ] loss: %.3f' %(0,running_loss)) \n",
        "\n",
        "  # training starts \n",
        "  for epoch in range(epochs): # loop over the dataset multiple times\n",
        "    ep_lossi = []\n",
        "    running_loss = 0.0\n",
        "    what.train()\n",
        "    where.train()\n",
        "    for i, data in enumerate(train_loader, 0):\n",
        "      # get the inputs\n",
        "      inputs, labels,_ = data\n",
        "      inputs = inputs.double()\n",
        "      inputs, labels = inputs.to(\"cuda\"),labels.to(\"cuda\")\n",
        "\n",
        "      # zero the parameter gradients\n",
        "      optimizer_where.zero_grad()\n",
        "      optimizer_what.zero_grad()\n",
        "      \n",
        "      # forward + backward + optimize\n",
        "      avg, alpha,log_alpha = where(inputs)\n",
        "      outputs = what(avg)\n",
        "\n",
        "      my_loss,_,_ = my_cross_entropy(outputs,labels,alpha,log_alpha,k)\n",
        "\n",
        "      # print statistics\n",
        "      running_loss += my_loss.item()\n",
        "      my_loss.backward()\n",
        "      optimizer_where.step()\n",
        "      optimizer_what.step()\n",
        "    #break\n",
        "    running_loss,ccloss,ccentropy,anls_data = calculate_attn_loss(train_loader,what,where,criterion,k)\n",
        "    analysis_data.append(anls_data)\n",
        "\n",
        "    if(epoch % 200==0):\n",
        "      print('epoch: [%d] loss: %.3f celoss: %.3f entropy: %.3f' %(epoch + 1,running_loss,ccloss,ccentropy)) \n",
        "    loss_curi.append(running_loss)   #loss per epoch\n",
        "    if running_loss<=0.01:\n",
        "      print('breaking in epoch: ', epoch)\n",
        "      break\n",
        "  print('Finished Training run ' +str(n))\n",
        "  #break\n",
        "  analysis_data = np.array(analysis_data)\n",
        "  FTPT_analysis.loc[n] = analysis_data[-1,:4]/30\n",
        "  full_analysis.append((epoch, analysis_data))\n",
        "  correct = 0\n",
        "  total = 0\n",
        "  with torch.no_grad():\n",
        "    for data in test_loader:\n",
        "      images, labels,_ = data\n",
        "      images = images.double()\n",
        "      images, labels = images.to(\"cuda\"), labels.to(\"cuda\")\n",
        "      avg, alpha,log_alpha = where(images)\n",
        "      outputs  = what(avg)\n",
        "      _, predicted = torch.max(outputs.data, 1)\n",
        "      total += labels.size(0)\n",
        "      correct += (predicted == labels).sum().item()\n",
        "\n",
        "  print('Accuracy of the network on the 3000 test images: %f %%' % (  100 * correct / total))\n",
        "    "
      ],
      "execution_count": 60,
      "outputs": [
        {
          "output_type": "stream",
          "name": "stdout",
          "text": [
            "--------------------------------------------------------------------------------\n",
            "tensor([[[-3.4694e-17],\n",
            "         [-1.7944e-17],\n",
            "         [ 0.0000e+00],\n",
            "         [-8.6736e-17],\n",
            "         [ 0.0000e+00]]], device='cuda:0', dtype=torch.float64,\n",
            "       grad_fn=<UnsafeViewBackward>)\n",
            "epoch: [0 ] loss: 1.685\n",
            "epoch: [1] loss: 1.251 celoss: 1.251 entropy: 2.354\n",
            "breaking in epoch:  100\n",
            "Finished Training run 0\n",
            "Accuracy of the network on the 3000 test images: 99.966667 %\n",
            "--------------------------------------------------------------------------------\n",
            "tensor([[[-6.9389e-18],\n",
            "         [-3.4694e-18],\n",
            "         [ 0.0000e+00],\n",
            "         [-1.7347e-17],\n",
            "         [ 8.6736e-18]]], device='cuda:0', dtype=torch.float64,\n",
            "       grad_fn=<UnsafeViewBackward>)\n",
            "epoch: [0 ] loss: 1.470\n",
            "epoch: [1] loss: 1.205 celoss: 1.205 entropy: 2.217\n",
            "breaking in epoch:  98\n",
            "Finished Training run 1\n",
            "Accuracy of the network on the 3000 test images: 100.000000 %\n",
            "--------------------------------------------------------------------------------\n",
            "tensor([[[ 4.3368e-18],\n",
            "         [-4.1633e-17],\n",
            "         [ 6.9389e-18],\n",
            "         [-3.4261e-17],\n",
            "         [ 1.8648e-17]]], device='cuda:0', dtype=torch.float64,\n",
            "       grad_fn=<UnsafeViewBackward>)\n",
            "epoch: [0 ] loss: 1.537\n",
            "epoch: [1] loss: 1.214 celoss: 1.214 entropy: 2.218\n",
            "breaking in epoch:  99\n",
            "Finished Training run 2\n",
            "Accuracy of the network on the 3000 test images: 99.966667 %\n",
            "--------------------------------------------------------------------------------\n",
            "tensor([[[-1.5613e-17],\n",
            "         [-3.4694e-18],\n",
            "         [-2.7756e-17],\n",
            "         [ 1.0755e-16],\n",
            "         [ 1.7889e-17]]], device='cuda:0', dtype=torch.float64,\n",
            "       grad_fn=<UnsafeViewBackward>)\n",
            "epoch: [0 ] loss: 1.415\n",
            "epoch: [1] loss: 1.213 celoss: 1.213 entropy: 2.102\n",
            "breaking in epoch:  101\n",
            "Finished Training run 3\n",
            "Accuracy of the network on the 3000 test images: 100.000000 %\n",
            "--------------------------------------------------------------------------------\n",
            "tensor([[[ 4.1633e-17],\n",
            "         [ 5.5511e-17],\n",
            "         [-2.7756e-17],\n",
            "         [-5.5511e-17],\n",
            "         [ 0.0000e+00]]], device='cuda:0', dtype=torch.float64,\n",
            "       grad_fn=<UnsafeViewBackward>)\n",
            "epoch: [0 ] loss: 1.444\n",
            "epoch: [1] loss: 1.216 celoss: 1.216 entropy: 2.305\n",
            "breaking in epoch:  93\n",
            "Finished Training run 4\n",
            "Accuracy of the network on the 3000 test images: 100.000000 %\n",
            "--------------------------------------------------------------------------------\n",
            "tensor([[[ 0.0000e+00],\n",
            "         [-2.0817e-17],\n",
            "         [ 2.4937e-17],\n",
            "         [ 1.3878e-17],\n",
            "         [ 1.4854e-17]]], device='cuda:0', dtype=torch.float64,\n",
            "       grad_fn=<UnsafeViewBackward>)\n",
            "epoch: [0 ] loss: 1.260\n",
            "epoch: [1] loss: 1.207 celoss: 1.207 entropy: 2.172\n",
            "breaking in epoch:  88\n",
            "Finished Training run 5\n",
            "Accuracy of the network on the 3000 test images: 100.000000 %\n",
            "--------------------------------------------------------------------------------\n",
            "tensor([[[-1.3010e-18],\n",
            "         [-1.3878e-17],\n",
            "         [ 2.7756e-17],\n",
            "         [ 4.1633e-17],\n",
            "         [ 2.7756e-17]]], device='cuda:0', dtype=torch.float64,\n",
            "       grad_fn=<UnsafeViewBackward>)\n",
            "epoch: [0 ] loss: 1.683\n",
            "epoch: [1] loss: 1.215 celoss: 1.215 entropy: 1.759\n",
            "breaking in epoch:  104\n",
            "Finished Training run 6\n",
            "Accuracy of the network on the 3000 test images: 100.000000 %\n",
            "--------------------------------------------------------------------------------\n",
            "tensor([[[ 0.0000e+00],\n",
            "         [-2.7756e-17],\n",
            "         [-6.9389e-18],\n",
            "         [-1.1102e-16],\n",
            "         [ 0.0000e+00]]], device='cuda:0', dtype=torch.float64,\n",
            "       grad_fn=<UnsafeViewBackward>)\n",
            "epoch: [0 ] loss: 1.551\n",
            "epoch: [1] loss: 1.233 celoss: 1.233 entropy: 2.219\n",
            "breaking in epoch:  91\n",
            "Finished Training run 7\n",
            "Accuracy of the network on the 3000 test images: 100.000000 %\n",
            "--------------------------------------------------------------------------------\n",
            "tensor([[[ 1.3878e-17],\n",
            "         [ 5.2042e-18],\n",
            "         [-8.1532e-17],\n",
            "         [ 6.9389e-18],\n",
            "         [-5.5511e-17]]], device='cuda:0', dtype=torch.float64,\n",
            "       grad_fn=<UnsafeViewBackward>)\n",
            "epoch: [0 ] loss: 1.259\n",
            "epoch: [1] loss: 1.203 celoss: 1.203 entropy: 2.374\n",
            "breaking in epoch:  83\n",
            "Finished Training run 8\n",
            "Accuracy of the network on the 3000 test images: 100.000000 %\n",
            "--------------------------------------------------------------------------------\n",
            "tensor([[[ 6.9389e-18],\n",
            "         [ 0.0000e+00],\n",
            "         [ 2.4286e-17],\n",
            "         [-4.8572e-17],\n",
            "         [ 4.5103e-17]]], device='cuda:0', dtype=torch.float64,\n",
            "       grad_fn=<UnsafeViewBackward>)\n",
            "epoch: [0 ] loss: 1.384\n",
            "epoch: [1] loss: 1.224 celoss: 1.224 entropy: 2.149\n",
            "breaking in epoch:  95\n",
            "Finished Training run 9\n",
            "Accuracy of the network on the 3000 test images: 100.000000 %\n"
          ]
        }
      ]
    },
    {
      "cell_type": "code",
      "metadata": {
        "id": "yBbboK0mtLTL",
        "colab": {
          "base_uri": "https://localhost:8080/"
        },
        "outputId": "dfab0c0b-7c44-4e92-96e6-64f94f299757"
      },
      "source": [
        "print(np.mean(np.array(FTPT_analysis),axis=0)) "
      ],
      "execution_count": 61,
      "outputs": [
        {
          "output_type": "stream",
          "name": "stdout",
          "text": [
            "[9.99933333e+01 6.66666667e-03 0.00000000e+00 0.00000000e+00]\n"
          ]
        }
      ]
    },
    {
      "cell_type": "code",
      "metadata": {
        "id": "aGLofG1qpB4b",
        "colab": {
          "base_uri": "https://localhost:8080/",
          "height": 363
        },
        "outputId": "951d5284-997c-490e-eff1-2878aae18736"
      },
      "source": [
        "FTPT_analysis"
      ],
      "execution_count": 62,
      "outputs": [
        {
          "output_type": "execute_result",
          "data": {
            "text/html": [
              "<div>\n",
              "<style scoped>\n",
              "    .dataframe tbody tr th:only-of-type {\n",
              "        vertical-align: middle;\n",
              "    }\n",
              "\n",
              "    .dataframe tbody tr th {\n",
              "        vertical-align: top;\n",
              "    }\n",
              "\n",
              "    .dataframe thead th {\n",
              "        text-align: right;\n",
              "    }\n",
              "</style>\n",
              "<table border=\"1\" class=\"dataframe\">\n",
              "  <thead>\n",
              "    <tr style=\"text-align: right;\">\n",
              "      <th></th>\n",
              "      <th>FTPT</th>\n",
              "      <th>FFPT</th>\n",
              "      <th>FTPF</th>\n",
              "      <th>FFPF</th>\n",
              "    </tr>\n",
              "  </thead>\n",
              "  <tbody>\n",
              "    <tr>\n",
              "      <th>0</th>\n",
              "      <td>100.000000</td>\n",
              "      <td>0.000000</td>\n",
              "      <td>0.0</td>\n",
              "      <td>0.0</td>\n",
              "    </tr>\n",
              "    <tr>\n",
              "      <th>1</th>\n",
              "      <td>100.000000</td>\n",
              "      <td>0.000000</td>\n",
              "      <td>0.0</td>\n",
              "      <td>0.0</td>\n",
              "    </tr>\n",
              "    <tr>\n",
              "      <th>2</th>\n",
              "      <td>100.000000</td>\n",
              "      <td>0.000000</td>\n",
              "      <td>0.0</td>\n",
              "      <td>0.0</td>\n",
              "    </tr>\n",
              "    <tr>\n",
              "      <th>3</th>\n",
              "      <td>100.000000</td>\n",
              "      <td>0.000000</td>\n",
              "      <td>0.0</td>\n",
              "      <td>0.0</td>\n",
              "    </tr>\n",
              "    <tr>\n",
              "      <th>4</th>\n",
              "      <td>99.933333</td>\n",
              "      <td>0.066667</td>\n",
              "      <td>0.0</td>\n",
              "      <td>0.0</td>\n",
              "    </tr>\n",
              "    <tr>\n",
              "      <th>5</th>\n",
              "      <td>100.000000</td>\n",
              "      <td>0.000000</td>\n",
              "      <td>0.0</td>\n",
              "      <td>0.0</td>\n",
              "    </tr>\n",
              "    <tr>\n",
              "      <th>6</th>\n",
              "      <td>100.000000</td>\n",
              "      <td>0.000000</td>\n",
              "      <td>0.0</td>\n",
              "      <td>0.0</td>\n",
              "    </tr>\n",
              "    <tr>\n",
              "      <th>7</th>\n",
              "      <td>100.000000</td>\n",
              "      <td>0.000000</td>\n",
              "      <td>0.0</td>\n",
              "      <td>0.0</td>\n",
              "    </tr>\n",
              "    <tr>\n",
              "      <th>8</th>\n",
              "      <td>100.000000</td>\n",
              "      <td>0.000000</td>\n",
              "      <td>0.0</td>\n",
              "      <td>0.0</td>\n",
              "    </tr>\n",
              "    <tr>\n",
              "      <th>9</th>\n",
              "      <td>100.000000</td>\n",
              "      <td>0.000000</td>\n",
              "      <td>0.0</td>\n",
              "      <td>0.0</td>\n",
              "    </tr>\n",
              "  </tbody>\n",
              "</table>\n",
              "</div>"
            ],
            "text/plain": [
              "         FTPT      FFPT  FTPF  FFPF\n",
              "0  100.000000  0.000000   0.0   0.0\n",
              "1  100.000000  0.000000   0.0   0.0\n",
              "2  100.000000  0.000000   0.0   0.0\n",
              "3  100.000000  0.000000   0.0   0.0\n",
              "4   99.933333  0.066667   0.0   0.0\n",
              "5  100.000000  0.000000   0.0   0.0\n",
              "6  100.000000  0.000000   0.0   0.0\n",
              "7  100.000000  0.000000   0.0   0.0\n",
              "8  100.000000  0.000000   0.0   0.0\n",
              "9  100.000000  0.000000   0.0   0.0"
            ]
          },
          "metadata": {},
          "execution_count": 62
        }
      ]
    },
    {
      "cell_type": "code",
      "metadata": {
        "colab": {
          "base_uri": "https://localhost:8080/",
          "height": 363
        },
        "id": "Rdx_zQIm27aH",
        "outputId": "389da3f3-f333-423f-f54b-500751669b54"
      },
      "source": [
        "FTPT_analysis[FTPT_analysis['FTPT']+FTPT_analysis['FFPT'] > 90 ]"
      ],
      "execution_count": 63,
      "outputs": [
        {
          "output_type": "execute_result",
          "data": {
            "text/html": [
              "<div>\n",
              "<style scoped>\n",
              "    .dataframe tbody tr th:only-of-type {\n",
              "        vertical-align: middle;\n",
              "    }\n",
              "\n",
              "    .dataframe tbody tr th {\n",
              "        vertical-align: top;\n",
              "    }\n",
              "\n",
              "    .dataframe thead th {\n",
              "        text-align: right;\n",
              "    }\n",
              "</style>\n",
              "<table border=\"1\" class=\"dataframe\">\n",
              "  <thead>\n",
              "    <tr style=\"text-align: right;\">\n",
              "      <th></th>\n",
              "      <th>FTPT</th>\n",
              "      <th>FFPT</th>\n",
              "      <th>FTPF</th>\n",
              "      <th>FFPF</th>\n",
              "    </tr>\n",
              "  </thead>\n",
              "  <tbody>\n",
              "    <tr>\n",
              "      <th>0</th>\n",
              "      <td>100.000000</td>\n",
              "      <td>0.000000</td>\n",
              "      <td>0.0</td>\n",
              "      <td>0.0</td>\n",
              "    </tr>\n",
              "    <tr>\n",
              "      <th>1</th>\n",
              "      <td>100.000000</td>\n",
              "      <td>0.000000</td>\n",
              "      <td>0.0</td>\n",
              "      <td>0.0</td>\n",
              "    </tr>\n",
              "    <tr>\n",
              "      <th>2</th>\n",
              "      <td>100.000000</td>\n",
              "      <td>0.000000</td>\n",
              "      <td>0.0</td>\n",
              "      <td>0.0</td>\n",
              "    </tr>\n",
              "    <tr>\n",
              "      <th>3</th>\n",
              "      <td>100.000000</td>\n",
              "      <td>0.000000</td>\n",
              "      <td>0.0</td>\n",
              "      <td>0.0</td>\n",
              "    </tr>\n",
              "    <tr>\n",
              "      <th>4</th>\n",
              "      <td>99.933333</td>\n",
              "      <td>0.066667</td>\n",
              "      <td>0.0</td>\n",
              "      <td>0.0</td>\n",
              "    </tr>\n",
              "    <tr>\n",
              "      <th>5</th>\n",
              "      <td>100.000000</td>\n",
              "      <td>0.000000</td>\n",
              "      <td>0.0</td>\n",
              "      <td>0.0</td>\n",
              "    </tr>\n",
              "    <tr>\n",
              "      <th>6</th>\n",
              "      <td>100.000000</td>\n",
              "      <td>0.000000</td>\n",
              "      <td>0.0</td>\n",
              "      <td>0.0</td>\n",
              "    </tr>\n",
              "    <tr>\n",
              "      <th>7</th>\n",
              "      <td>100.000000</td>\n",
              "      <td>0.000000</td>\n",
              "      <td>0.0</td>\n",
              "      <td>0.0</td>\n",
              "    </tr>\n",
              "    <tr>\n",
              "      <th>8</th>\n",
              "      <td>100.000000</td>\n",
              "      <td>0.000000</td>\n",
              "      <td>0.0</td>\n",
              "      <td>0.0</td>\n",
              "    </tr>\n",
              "    <tr>\n",
              "      <th>9</th>\n",
              "      <td>100.000000</td>\n",
              "      <td>0.000000</td>\n",
              "      <td>0.0</td>\n",
              "      <td>0.0</td>\n",
              "    </tr>\n",
              "  </tbody>\n",
              "</table>\n",
              "</div>"
            ],
            "text/plain": [
              "         FTPT      FFPT  FTPF  FFPF\n",
              "0  100.000000  0.000000   0.0   0.0\n",
              "1  100.000000  0.000000   0.0   0.0\n",
              "2  100.000000  0.000000   0.0   0.0\n",
              "3  100.000000  0.000000   0.0   0.0\n",
              "4   99.933333  0.066667   0.0   0.0\n",
              "5  100.000000  0.000000   0.0   0.0\n",
              "6  100.000000  0.000000   0.0   0.0\n",
              "7  100.000000  0.000000   0.0   0.0\n",
              "8  100.000000  0.000000   0.0   0.0\n",
              "9  100.000000  0.000000   0.0   0.0"
            ]
          },
          "metadata": {},
          "execution_count": 63
        }
      ]
    },
    {
      "cell_type": "code",
      "metadata": {
        "colab": {
          "base_uri": "https://localhost:8080/"
        },
        "id": "Ug413cPT3Hck",
        "outputId": "19901617-b0cc-4fe6-c5a9-1608c23520e5"
      },
      "source": [
        "print(np.mean(np.array(FTPT_analysis[FTPT_analysis['FTPT']+FTPT_analysis['FFPT'] > 90 ]),axis=0))"
      ],
      "execution_count": 64,
      "outputs": [
        {
          "output_type": "stream",
          "name": "stdout",
          "text": [
            "[9.99933333e+01 6.66666667e-03 0.00000000e+00 0.00000000e+00]\n"
          ]
        }
      ]
    },
    {
      "cell_type": "code",
      "metadata": {
        "id": "2eA8azQPohjT",
        "colab": {
          "base_uri": "https://localhost:8080/",
          "height": 1000
        },
        "outputId": "bde601ac-41ad-4b47-d80a-7cdba8ad991f"
      },
      "source": [
        "cnt=1\n",
        "for epoch, analysis_data in full_analysis:\n",
        "  analysis_data = np.array(analysis_data)\n",
        "  # print(\"=\"*20+\"run \",cnt,\"=\"*20)\n",
        "  \n",
        "  plt.figure(figsize=(6,5))\n",
        "  plt.plot(np.arange(0,epoch+2,1),analysis_data[:,0]/30,label=\"FTPT\")\n",
        "  plt.plot(np.arange(0,epoch+2,1),analysis_data[:,1]/30,label=\"FFPT\")\n",
        "  plt.plot(np.arange(0,epoch+2,1),analysis_data[:,2]/30,label=\"FTPF\")\n",
        "  plt.plot(np.arange(0,epoch+2,1),analysis_data[:,3]/30,label=\"FFPF\")\n",
        "\n",
        "  plt.title(\"Training trends for run \"+str(cnt))\n",
        "  plt.grid()\n",
        "  # plt.legend(loc='center left', bbox_to_anchor=(1, 0.5))\n",
        "  plt.legend()\n",
        "  plt.xlabel(\"epochs\", fontsize=14, fontweight = 'bold')\n",
        "  plt.ylabel(\"percentage train data\", fontsize=14, fontweight = 'bold')\n",
        "  plt.savefig(path + \"run\"+str(cnt)+\".png\",bbox_inches=\"tight\")\n",
        "  plt.savefig(path + \"run\"+str(cnt)+\".pdf\",bbox_inches=\"tight\")\n",
        "  cnt+=1"
      ],
      "execution_count": 65,
      "outputs": [
        {
          "output_type": "display_data",
          "data": {
            "image/png": "[encoded data removed]",
            "text/plain": [
              "<Figure size 432x360 with 1 Axes>"
            ]
          },
          "metadata": {
            "needs_background": "light"
          }
        },
        {
          "output_type": "display_data",
          "data": {
            "image/png": "[encoded data removed]",
            "text/plain": [
              "<Figure size 432x360 with 1 Axes>"
            ]
          },
          "metadata": {
            "needs_background": "light"
          }
        },
        {
          "output_type": "display_data",
          "data": {
            "image/png": "[encoded data removed]",
            "text/plain": [
              "<Figure size 432x360 with 1 Axes>"
            ]
          },
          "metadata": {
            "needs_background": "light"
          }
        },
        {
          "output_type": "display_data",
          "data": {
            "image/png": "[encoded data removed]",
            "text/plain": [
              "<Figure size 432x360 with 1 Axes>"
            ]
          },
          "metadata": {
            "needs_background": "light"
          }
        },
        {
          "output_type": "display_data",
          "data": {
            "image/png": "[encoded data removed]",
            "text/plain": [
              "<Figure size 432x360 with 1 Axes>"
            ]
          },
          "metadata": {
            "needs_background": "light"
          }
        },
        {
          "output_type": "display_data",
          "data": {
            "image/png": "[encoded data removed]",
            "text/plain": [
              "<Figure size 432x360 with 1 Axes>"
            ]
          },
          "metadata": {
            "needs_background": "light"
          }
        },
        {
          "output_type": "display_data",
          "data": {
            "image/png": "[encoded data removed]",
            "text/plain": [
              "<Figure size 432x360 with 1 Axes>"
            ]
          },
          "metadata": {
            "needs_background": "light"
          }
        },
        {
          "output_type": "display_data",
          "data": {
            "image/png": "[encoded data removed]",
            "text/plain": [
              "<Figure size 432x360 with 1 Axes>"
            ]
          },
          "metadata": {
            "needs_background": "light"
          }
        },
        {
          "output_type": "display_data",
          "data": {
            "image/png": "[encoded data removed]",
            "text/plain": [
              "<Figure size 432x360 with 1 Axes>"
            ]
          },
          "metadata": {
            "needs_background": "light"
          }
        },
        {
          "output_type": "display_data",
          "data": {
            "image/png": "[encoded data removed]",
            "text/plain": [
              "<Figure size 432x360 with 1 Axes>"
            ]
          },
          "metadata": {
            "needs_background": "light"
          }
        }
      ]
    },
    {
      "cell_type": "code",
      "metadata": {
        "id": "AYS7jRsCz30j"
      },
      "source": [
        "FTPT_analysis.to_csv(path+\"synthetic_zeroth.csv\",index=False)"
      ],
      "execution_count": 66,
      "outputs": []
    },
    {
      "cell_type": "code",
      "metadata": {
        "id": "RXIPbWNwxNCj"
      },
      "source": [
        ""
      ],
      "execution_count": 66,
      "outputs": []
    }
  ]
}