{
  "nbformat": 4,
  "nbformat_minor": 0,
  "metadata": {
    "colab": {
      "name": "zeroth_layer_softmax_D_1.ipynb",
      "provenance": [],
      "collapsed_sections": []
    },
    "kernelspec": {
      "display_name": "Python 3",
      "name": "python3"
    }
  },
  "cells": [
    {
      "cell_type": "code",
      "metadata": {
        "id": "-Vv0xhOxmRqI"
      },
      "source": [
        "# from google.colab import drive\n",
        "# drive.mount('/content/drive')"
      ],
      "execution_count": 1,
      "outputs": []
    },
    {
      "cell_type": "code",
      "metadata": {
        "id": "vO-FHcaXmYW0"
      },
      "source": [
        "# path = '/content/drive/MyDrive/Research/AAAI/dataset2/Arch2/zeroth_layer_with_entropy/k_01/'"
      ],
      "execution_count": 2,
      "outputs": []
    },
    {
      "cell_type": "code",
      "metadata": {
        "colab": {
          "base_uri": "https://localhost:8080/"
        },
        "id": "SErXEr7NnV9A",
        "outputId": "d7595ebb-c4c9-4fb4-b52b-f8ee733e233b"
      },
      "source": [
        "!pip install sparsemax"
      ],
      "execution_count": 3,
      "outputs": [
        {
          "output_type": "stream",
          "name": "stdout",
          "text": [
            "Requirement already satisfied: sparsemax in /usr/local/lib/python3.7/dist-packages (0.1.9)\n",
            "Requirement already satisfied: torch in /usr/local/lib/python3.7/dist-packages (from sparsemax) (1.9.0+cu102)\n",
            "Requirement already satisfied: typing-extensions in /usr/local/lib/python3.7/dist-packages (from torch->sparsemax) (3.7.4.3)\n"
          ]
        }
      ]
    },
    {
      "cell_type": "code",
      "metadata": {
        "id": "VAYu3ISwwGks"
      },
      "source": [
        "import numpy as np\n",
        "import pandas as pd\n",
        "\n",
        "import torch\n",
        "import torchvision\n",
        "from torch.utils.data import Dataset, DataLoader\n",
        "from torchvision import transforms, utils\n",
        "import torch.nn as nn\n",
        "import torch.nn.functional as F\n",
        "import torch.optim as optim\n",
        "\n",
        "\n",
        "from sparsemax import Sparsemax\n",
        "\n",
        "from matplotlib import pyplot as plt\n",
        "%matplotlib inline\n",
        "\n",
        "torch.backends.cudnn.deterministic = True\n",
        "torch.backends.cudnn.benchmark = False"
      ],
      "execution_count": 4,
      "outputs": []
    },
    {
      "cell_type": "code",
      "metadata": {
        "colab": {
          "base_uri": "https://localhost:8080/"
        },
        "id": "RjOdgFoVslfc",
        "outputId": "2c046599-e946-4d58-be35-814a7389987a"
      },
      "source": [
        "device = torch.device(\"cuda\" if torch.cuda.is_available() else \"cpu\")\n",
        "print(device)"
      ],
      "execution_count": 5,
      "outputs": [
        {
          "output_type": "stream",
          "name": "stdout",
          "text": [
            "cpu\n"
          ]
        }
      ]
    },
    {
      "cell_type": "markdown",
      "metadata": {
        "id": "w5peJDh_2PGd"
      },
      "source": [
        "# Generate dataset"
      ]
    },
    {
      "cell_type": "code",
      "metadata": {
        "colab": {
          "base_uri": "https://localhost:8080/",
          "height": 452
        },
        "id": "WvT4DjeaU1_J",
        "outputId": "a09436ff-5a45-43f3-9126-52fdfaaf6cdc"
      },
      "source": [
        "np.random.seed(12)\n",
        "y = np.random.randint(0,10,5000)\n",
        "idx= []\n",
        "for i in range(10):\n",
        "    print(i,sum(y==i))\n",
        "    idx.append(y==i)\n",
        "x = np.zeros((5000,2))\n",
        "np.random.seed(12)\n",
        "x[idx[0],:] = np.random.multivariate_normal(mean = [4,6.5],cov=[[0.01,0],[0,0.01]],size=sum(idx[0]))\n",
        "x[idx[1],:] = np.random.multivariate_normal(mean = [5.5,6],cov=[[0.01,0],[0,0.01]],size=sum(idx[1]))\n",
        "x[idx[2],:] = np.random.multivariate_normal(mean = [4.5,4.5],cov=[[0.01,0],[0,0.01]],size=sum(idx[2]))\n",
        "x[idx[3],:] = np.random.multivariate_normal(mean = [3,3.5],cov=[[0.01,0],[0,0.01]],size=sum(idx[3]))\n",
        "x[idx[4],:] = np.random.multivariate_normal(mean = [2.5,5.5],cov=[[0.01,0],[0,0.01]],size=sum(idx[4]))\n",
        "x[idx[5],:] = np.random.multivariate_normal(mean = [3.5,8],cov=[[0.01,0],[0,0.01]],size=sum(idx[5]))\n",
        "x[idx[6],:] = np.random.multivariate_normal(mean = [5.5,8],cov=[[0.01,0],[0,0.01]],size=sum(idx[6]))\n",
        "x[idx[7],:] = np.random.multivariate_normal(mean = [7,6.5],cov=[[0.01,0],[0,0.01]],size=sum(idx[7]))\n",
        "x[idx[8],:] = np.random.multivariate_normal(mean = [6.5,4.5],cov=[[0.01,0],[0,0.01]],size=sum(idx[8]))\n",
        "x[idx[9],:] = np.random.multivariate_normal(mean = [5,3],cov=[[0.01,0],[0,0.01]],size=sum(idx[9]))\n",
        "color = ['#1F77B4','orange', 'g','brown']\n",
        "name = [1,2,3,0]\n",
        "for i in range(10):\n",
        "  if i==3:\n",
        "    plt.scatter(x[idx[i],0],x[idx[i],1],c=color[3],label=\"D_\"+str(name[i]))\n",
        "  elif i>=4:\n",
        "    plt.scatter(x[idx[i],0],x[idx[i],1],c=color[3])\n",
        "  else:\n",
        "    plt.scatter(x[idx[i],0],x[idx[i],1],c=color[i],label=\"D_\"+str(name[i]))\n",
        "plt.legend()"
      ],
      "execution_count": 6,
      "outputs": [
        {
          "output_type": "stream",
          "name": "stdout",
          "text": [
            "0 530\n",
            "1 463\n",
            "2 494\n",
            "3 517\n",
            "4 488\n",
            "5 497\n",
            "6 493\n",
            "7 507\n",
            "8 492\n",
            "9 519\n"
          ]
        },
        {
          "output_type": "execute_result",
          "data": {
            "text/plain": [
              "<matplotlib.legend.Legend at 0x7f9362336f50>"
            ]
          },
          "metadata": {},
          "execution_count": 6
        },
        {
          "output_type": "display_data",
          "data": {
            "image/png": "[encoded data removed]",
            "text/plain": [
              "<Figure size 432x288 with 1 Axes>"
            ]
          },
          "metadata": {
            "needs_background": "light"
          }
        }
      ]
    },
    {
      "cell_type": "code",
      "metadata": {
        "id": "tnB6jphSr8tH"
      },
      "source": [
        "desired_num = 6000\n",
        "mosaic_list_of_images =[]\n",
        "mosaic_label = []\n",
        "fore_idx=[]\n",
        "for j in range(desired_num):\n",
        "    np.random.seed(j)\n",
        "    fg_class  = np.random.randint(0,3)\n",
        "    fg_idx = np.random.randint(0,9)\n",
        "    a = []\n",
        "    for i in range(9):\n",
        "        if i == fg_idx:\n",
        "            b = np.random.choice(np.where(idx[fg_class]==True)[0],size=1)\n",
        "            a.append(x[b])\n",
        "#             print(\"foreground \"+str(fg_class)+\" present at \" + str(fg_idx))\n",
        "        else:\n",
        "            bg_class = np.random.randint(3,10)\n",
        "            b = np.random.choice(np.where(idx[bg_class]==True)[0],size=1)\n",
        "            a.append(x[b])\n",
        "#             print(\"background \"+str(bg_class)+\" present at \" + str(i))\n",
        "    a = np.concatenate(a,axis=0)\n",
        "    mosaic_list_of_images.append(a)\n",
        "    mosaic_label.append(fg_class)\n",
        "    fore_idx.append(fg_idx)"
      ],
      "execution_count": 7,
      "outputs": []
    },
    {
      "cell_type": "markdown",
      "metadata": {
        "id": "y4ZKaqzq_vcD"
      },
      "source": [
        "# load mosaic data"
      ]
    },
    {
      "cell_type": "code",
      "metadata": {
        "id": "syESDetXAPK2"
      },
      "source": [
        "class MosaicDataset(Dataset):\n",
        "  \"\"\"MosaicDataset dataset.\"\"\"\n",
        "\n",
        "  def __init__(self, mosaic_list, mosaic_label,fore_idx):\n",
        "    \"\"\"\n",
        "      Args:\n",
        "        csv_file (string): Path to the csv file with annotations.\n",
        "        root_dir (string): Directory with all the images.\n",
        "        transform (callable, optional): Optional transform to be applied\n",
        "            on a sample.\n",
        "    \"\"\"\n",
        "    self.mosaic = mosaic_list\n",
        "    self.label = mosaic_label\n",
        "    self.fore_idx = fore_idx\n",
        "    \n",
        "  def __len__(self):\n",
        "    return len(self.label)\n",
        "\n",
        "  def __getitem__(self, idx):\n",
        "    return self.mosaic[idx] , self.label[idx] , self.fore_idx[idx]"
      ],
      "execution_count": 8,
      "outputs": []
    },
    {
      "cell_type": "code",
      "metadata": {
        "id": "fP5NPRPmb904"
      },
      "source": [
        "batch = 250\n",
        "msd1 = MosaicDataset(mosaic_list_of_images[0:3000], mosaic_label[0:3000] , fore_idx[0:3000])\n",
        "train_loader = DataLoader( msd1 ,batch_size= batch ,shuffle=True)"
      ],
      "execution_count": 9,
      "outputs": []
    },
    {
      "cell_type": "code",
      "metadata": {
        "id": "92ZN-Sm54ti7"
      },
      "source": [
        "batch = 250\n",
        "msd2 = MosaicDataset(mosaic_list_of_images[3000:6000], mosaic_label[3000:6000] , fore_idx[3000:6000])\n",
        "test_loader = DataLoader( msd2 ,batch_size= batch ,shuffle=True)"
      ],
      "execution_count": 10,
      "outputs": []
    },
    {
      "cell_type": "markdown",
      "metadata": {
        "id": "ARLPPASQ_2gB"
      },
      "source": [
        "# models"
      ]
    },
    {
      "cell_type": "code",
      "metadata": {
        "id": "ZQg1JWnMpup-"
      },
      "source": [
        "class Focus_deep(nn.Module):\n",
        "    '''\n",
        "       deep focus network averaged at zeroth layer\n",
        "       input : elemental data\n",
        "    '''\n",
        "    def __init__(self,inputs,output,K,d):\n",
        "        super(Focus_deep,self).__init__()\n",
        "        self.inputs = inputs\n",
        "        self.output = output\n",
        "        self.K = K\n",
        "        self.d  = d\n",
        "        self.linear1 = nn.Linear(self.inputs,50, bias=False)  #,self.output)\n",
        "        self.linear2 = nn.Linear(50,50 , bias=False)\n",
        "        self.linear3 = nn.Linear(50,self.output, bias=False) \n",
        "\n",
        "        torch.nn.init.xavier_normal_(self.linear1.weight)\n",
        "        torch.nn.init.xavier_normal_(self.linear2.weight)\n",
        "        torch.nn.init.xavier_normal_(self.linear3.weight)\n",
        "        self.sparsemax = Sparsemax(dim=-1) \n",
        "        \n",
        "    def forward(self,z):\n",
        "        batch = z.shape[0]\n",
        "        x = torch.zeros([batch,self.K],dtype=torch.float64)\n",
        "        y = torch.zeros([batch,self.d], dtype=torch.float64)\n",
        "        #x,y = x.to(\"cuda\"),y.to(\"cuda\")\n",
        "        #print(z[:,0].shape,z[:,self.d*0:self.d*0+self.d].shape)\n",
        "        for i in range(self.K):\n",
        "            x[:,i] = self.helper(z[:,i] )[:,0]  # self.d*i:self.d*i+self.d\n",
        "\n",
        "        #x = self.sparsemax(x)   # alphas\n",
        "        x = F.softmax(x,dim=1)\n",
        "        x1 = x[:,0]\n",
        "        for i in range(self.K):\n",
        "            x1 = x[:,i]          \n",
        "            y = y+torch.mul(x1[:,None],z[:,i])  # self.d*i:self.d*i+self.d\n",
        "        return y , x   # attended, alpha\n",
        "    def helper(self,x):\n",
        "      #print(x.shape)\n",
        "      x = F.relu(self.linear1(x))\n",
        "      x = F.relu(self.linear2(x))\n",
        "      x = self.linear3(x)\n",
        "      return x\n"
      ],
      "execution_count": 11,
      "outputs": []
    },
    {
      "cell_type": "code",
      "metadata": {
        "id": "ywJN1oMioPZd"
      },
      "source": [
        "fc = Focus_deep(2,1,9,2).double()\n",
        "#fc = fc.to(\"cuda\")"
      ],
      "execution_count": 12,
      "outputs": []
    },
    {
      "cell_type": "code",
      "metadata": {
        "id": "TKn7RT9goPPA",
        "colab": {
          "base_uri": "https://localhost:8080/"
        },
        "outputId": "9bf14d70-1c45-4159-d397-f31d9434d975"
      },
      "source": [
        "fc(torch.randn((2,9,2)).double())"
      ],
      "execution_count": 13,
      "outputs": [
        {
          "output_type": "execute_result",
          "data": {
            "text/plain": [
              "(tensor([[ 0.0503, -0.1712],\n",
              "         [ 0.0302,  0.4035]], dtype=torch.float64, grad_fn=<AddBackward0>),\n",
              " tensor([[0.1150, 0.0967, 0.1175, 0.1181, 0.1141, 0.0844, 0.1214, 0.1178, 0.1150],\n",
              "         [0.1156, 0.0986, 0.1219, 0.1088, 0.1180, 0.1294, 0.0976, 0.1270, 0.0832]],\n",
              "        dtype=torch.float64, grad_fn=<SoftmaxBackward>))"
            ]
          },
          "metadata": {},
          "execution_count": 13
        }
      ]
    },
    {
      "cell_type": "code",
      "metadata": {
        "id": "IEBn5e2yp_xf"
      },
      "source": [
        "class Classification_deep(nn.Module):\n",
        "    '''\n",
        "       input : elemental data\n",
        "       deep classification module data averaged at zeroth layer\n",
        "    '''\n",
        "    def __init__(self,inputs,output):\n",
        "        super(Classification_deep,self).__init__()\n",
        "        self.inputs = inputs\n",
        "        self.output = output\n",
        "        self.linear1 = nn.Linear(self.inputs,50)\n",
        "        #self.linear2 = nn.Linear(6,12)\n",
        "        self.linear2 = nn.Linear(50,self.output)\n",
        "\n",
        "        torch.nn.init.xavier_normal_(self.linear1.weight)\n",
        "        torch.nn.init.zeros_(self.linear1.bias)\n",
        "        torch.nn.init.xavier_normal_(self.linear2.weight)\n",
        "        torch.nn.init.zeros_(self.linear2.bias)\n",
        "\n",
        "    def forward(self,x):\n",
        "      x = F.relu(self.linear1(x))\n",
        "      #x = F.relu(self.linear2(x))\n",
        "      x = self.linear2(x)\n",
        "      return x    "
      ],
      "execution_count": 14,
      "outputs": []
    },
    {
      "cell_type": "code",
      "metadata": {
        "id": "nS2I5eABHNPk"
      },
      "source": [
        "criterion = nn.CrossEntropyLoss()\n",
        "# def my_cross_entropy(x, y,alpha,log_alpha,k):\n",
        "#     # log_prob = -1.0 * F.log_softmax(x, 1)\n",
        "#     # loss = log_prob.gather(1, y.unsqueeze(1))\n",
        "#     # loss = loss.mean()\n",
        "#     loss = criterion(x,y)\n",
        "    \n",
        "#     #alpha = torch.clamp(alpha,min=1e-10)     \n",
        "    \n",
        "#     b = -1.0* alpha * log_alpha\n",
        "#     b =  torch.mean(torch.sum(b,dim=1))\n",
        "#     closs = loss\n",
        "#     entropy = b \n",
        "#     loss = (1-k)*loss + ((k)*b)\n",
        "#     return loss,closs,entropy"
      ],
      "execution_count": 15,
      "outputs": []
    },
    {
      "cell_type": "code",
      "metadata": {
        "id": "ehAfQnNwgFYX"
      },
      "source": [
        "def calculate_attn_loss(dataloader,what,where,criter):\n",
        "  what.eval()\n",
        "  where.eval()\n",
        "  r_loss = 0\n",
        "  alphas = []\n",
        "  lbls = []\n",
        "  pred = []\n",
        "  fidices = []\n",
        "  with torch.no_grad():\n",
        "    for i, data in enumerate(dataloader, 0):\n",
        "      inputs, labels,fidx = data\n",
        "      lbls.append(labels)\n",
        "      fidices.append(fidx)\n",
        "      inputs = inputs.double()\n",
        "      #inputs, labels = inputs.to(\"cuda\"),labels.to(\"cuda\")\n",
        "\n",
        "\n",
        "\n",
        "      avg,alpha = where(inputs)\n",
        "      outputs = what(avg)\n",
        "      \n",
        "      \n",
        "      _, predicted = torch.max(outputs.data, 1)\n",
        "      pred.append(predicted.cpu().numpy())\n",
        "      alphas.append(alpha.cpu().numpy())\n",
        "\n",
        "      loss = criter(outputs,labels)\n",
        "      r_loss += loss.item()\n",
        "\n",
        "\n",
        "  alphas = np.concatenate(alphas,axis=0)\n",
        "  pred = np.concatenate(pred,axis=0)\n",
        "  lbls = np.concatenate(lbls,axis=0)\n",
        "  fidices = np.concatenate(fidices,axis=0)\n",
        "\n",
        "  \n",
        "  #print(alphas.shape,pred.shape,lbls.shape,fidices.shape) \n",
        "  analysis = analyse_data(alphas,lbls,pred,fidices)\n",
        "  return r_loss/i,analysis"
      ],
      "execution_count": 16,
      "outputs": []
    },
    {
      "cell_type": "code",
      "metadata": {
        "id": "6e9HQJMzxBhp"
      },
      "source": [
        "def analyse_data(alphas,lbls,predicted,f_idx):\n",
        "    '''\n",
        "       analysis data is created here\n",
        "    '''\n",
        "    batch = len(predicted)\n",
        "    amth,alth,ftpt,ffpt,ftpf,ffpf = 0,0,0,0,0,0\n",
        "    for j in range (batch):\n",
        "      focus = np.argmax(alphas[j])\n",
        "      if(alphas[j][focus] >= 0.5):\n",
        "        amth +=1\n",
        "      else:\n",
        "        alth +=1\n",
        "      if(focus == f_idx[j] and predicted[j] == lbls[j]):\n",
        "        ftpt += 1\n",
        "      elif(focus != f_idx[j] and predicted[j] == lbls[j]):\n",
        "        ffpt +=1\n",
        "      elif(focus == f_idx[j] and predicted[j] != lbls[j]):\n",
        "        ftpf +=1\n",
        "      elif(focus != f_idx[j] and predicted[j] != lbls[j]):\n",
        "        ffpf +=1\n",
        "    #print(sum(predicted==lbls),ftpt+ffpt)\n",
        "    # value>0.01\n",
        "    sparsity_val = np.sum(np.sum(alphas>0.01,axis=1))\n",
        "    # simplex distance\n",
        "    argmax_index = np.argmax(alphas,axis=1)\n",
        "    simplex_pt = np.zeros(alphas.shape)\n",
        "    simplex_pt[np.arange(argmax_index.size),argmax_index] = 1\n",
        "    \n",
        "    shortest_distance_simplex = np.sum(np.sqrt(np.sum((alphas-simplex_pt)**2,axis=1))) \n",
        "    \n",
        "    # entropy\n",
        "    #entropy = np.nansum((-alphas*np.log2(alphas)).sum(axis=1))\n",
        "    entropy = np.sum(np.nansum(-alphas*np.log2(alphas),axis=1))  \n",
        "\n",
        "\n",
        "    return [ftpt,ffpt,ftpf,ffpf,sparsity_val,shortest_distance_simplex,entropy]#,amth,alth]"
      ],
      "execution_count": 17,
      "outputs": []
    },
    {
      "cell_type": "markdown",
      "metadata": {
        "id": "a2AlGgRa_6_H"
      },
      "source": [
        "# training"
      ]
    },
    {
      "cell_type": "code",
      "metadata": {
        "colab": {
          "base_uri": "https://localhost:8080/"
        },
        "id": "rJ99urwJHWmx",
        "outputId": "3602d3c6-fbe8-4c16-eb27-31e5f56cc5ee"
      },
      "source": [
        "number_runs = 5\n",
        "full_analysis =[]\n",
        "FTPT_analysis = pd.DataFrame(columns = [\"FTPT\",\"FFPT\", \"FTPF\",\"FFPF\",\"sparsity_value\",\"shortest distance smplx\",\"Entropy\"])\n",
        "\n",
        "for n in range(number_runs):\n",
        "  print(\"--\"*40)\n",
        "  \n",
        "  # instantiate focus and classification Model\n",
        "  torch.manual_seed(n)\n",
        "  where = Focus_deep(2,1,9,2).double()\n",
        "\n",
        "  #where = where.double().to(\"cuda\")\n",
        "\n",
        "\n",
        "  what = Classification_deep(2,3).double()\n",
        "  #where = where.to(\"cuda\")\n",
        "  #what = what.to(\"cuda\")\n",
        "\n",
        "  # instantiate optimizer\n",
        "  optimizer_where = optim.Adam(where.parameters(),lr =0.0005)\n",
        "  optimizer_what = optim.Adam(what.parameters(), lr=0.0005)\n",
        "  #criterion = nn.CrossEntropyLoss()\n",
        "  acti = []\n",
        "  analysis_data = []\n",
        "  loss_curi = []\n",
        "  epochs = 2500\n",
        "\n",
        "\n",
        "  # calculate zeroth epoch loss and FTPT values\n",
        "  running_loss ,anlys_data= calculate_attn_loss(train_loader,what,where,criterion)\n",
        "  loss_curi.append(running_loss)\n",
        "  analysis_data.append(anlys_data)\n",
        "\n",
        "  print('epoch: [%d ] loss: %.3f' %(0,running_loss)) \n",
        "\n",
        "  # training starts \n",
        "  for epoch in range(epochs): # loop over the dataset multiple times\n",
        "    ep_lossi = []\n",
        "    running_loss = 0.0\n",
        "    what.train()\n",
        "    where.train()\n",
        "    for i, data in enumerate(train_loader, 0):\n",
        "      # get the inputs\n",
        "      inputs, labels,_ = data\n",
        "      inputs = inputs.double()\n",
        "      #inputs, labels = inputs.to(\"cuda\"),labels.to(\"cuda\")\n",
        "\n",
        "      # zero the parameter gradients\n",
        "      optimizer_where.zero_grad()\n",
        "      optimizer_what.zero_grad()\n",
        "      \n",
        "      # forward + backward + optimize\n",
        "      avg, alpha = where(inputs)\n",
        "      outputs = what(avg)\n",
        "\n",
        "      loss = criterion(outputs,labels)\n",
        "\n",
        "      # print statistics\n",
        "      loss.backward()\n",
        "      optimizer_where.step()\n",
        "      optimizer_what.step()\n",
        "      running_loss +=  loss.item()\n",
        "    #break\n",
        "    running_loss,anls_data = calculate_attn_loss(train_loader,what,where,criterion)\n",
        "    analysis_data.append(anls_data)\n",
        "\n",
        "    if(epoch % 200==0):\n",
        "      print('epoch: [%d] loss: %.3f ' %(epoch + 1,running_loss)) \n",
        "    loss_curi.append(running_loss)   #loss per epoch\n",
        "    if running_loss<=0.01:\n",
        "      print('breaking in epoch: ', epoch)\n",
        "      break\n",
        "  print('Finished Training run ' +str(n))\n",
        "  #break\n",
        "  analysis_data = np.array(analysis_data)\n",
        "  FTPT_analysis.loc[n] = analysis_data[-1,:7]/3000\n",
        "  full_analysis.append((epoch, analysis_data))\n",
        "  correct = 0\n",
        "  total = 0\n",
        "  with torch.no_grad():\n",
        "    for data in test_loader:\n",
        "      images, labels,_ = data\n",
        "      images = images.double()\n",
        "      #images, labels = images.to(\"cuda\"), labels.to(\"cuda\")\n",
        "      avg, alpha = where(images)\n",
        "      outputs  = what(avg)\n",
        "      _, predicted = torch.max(outputs.data, 1)\n",
        "      total += labels.size(0)\n",
        "      correct += (predicted == labels).sum().item()\n",
        "\n",
        "  print('Accuracy of the network on the 3000 test images: %f %%' % (  100 * correct / total))\n",
        "    "
      ],
      "execution_count": 18,
      "outputs": [
        {
          "output_type": "stream",
          "name": "stdout",
          "text": [
            "--------------------------------------------------------------------------------\n",
            "epoch: [0 ] loss: 1.799\n",
            "epoch: [1] loss: 1.475 \n",
            "epoch: [201] loss: 0.523 \n",
            "epoch: [401] loss: 0.144 \n",
            "epoch: [601] loss: 0.106 \n",
            "epoch: [801] loss: 0.081 \n",
            "epoch: [1001] loss: 0.080 \n",
            "epoch: [1201] loss: 0.074 \n",
            "epoch: [1401] loss: 0.072 \n",
            "epoch: [1601] loss: 0.068 \n",
            "epoch: [1801] loss: 0.066 \n",
            "epoch: [2001] loss: 0.062 \n",
            "epoch: [2201] loss: 0.052 \n",
            "epoch: [2401] loss: 0.044 \n",
            "Finished Training run 0\n",
            "Accuracy of the network on the 3000 test images: 98.266667 %\n",
            "--------------------------------------------------------------------------------\n",
            "epoch: [0 ] loss: 1.733\n",
            "epoch: [1] loss: 1.441 \n",
            "epoch: [201] loss: 0.536 \n",
            "epoch: [401] loss: 0.130 \n",
            "epoch: [601] loss: 0.090 \n",
            "epoch: [801] loss: 0.086 \n",
            "epoch: [1001] loss: 0.084 \n",
            "epoch: [1201] loss: 0.085 \n",
            "epoch: [1401] loss: 0.078 \n",
            "epoch: [1601] loss: 0.075 \n",
            "epoch: [1801] loss: 0.074 \n",
            "epoch: [2001] loss: 0.076 \n",
            "epoch: [2201] loss: 0.075 \n",
            "epoch: [2401] loss: 0.070 \n",
            "Finished Training run 1\n",
            "Accuracy of the network on the 3000 test images: 98.966667 %\n",
            "--------------------------------------------------------------------------------\n",
            "epoch: [0 ] loss: 1.379\n",
            "epoch: [1] loss: 1.243 \n",
            "epoch: [201] loss: 0.528 \n",
            "epoch: [401] loss: 0.149 \n",
            "epoch: [601] loss: 0.107 \n",
            "epoch: [801] loss: 0.077 \n",
            "epoch: [1001] loss: 0.058 \n",
            "epoch: [1201] loss: 0.049 \n",
            "epoch: [1401] loss: 0.036 \n",
            "epoch: [1601] loss: 0.032 \n",
            "epoch: [1801] loss: 0.029 \n",
            "epoch: [2001] loss: 0.024 \n",
            "epoch: [2201] loss: 0.024 \n",
            "epoch: [2401] loss: 0.023 \n",
            "Finished Training run 2\n",
            "Accuracy of the network on the 3000 test images: 99.566667 %\n",
            "--------------------------------------------------------------------------------\n",
            "epoch: [0 ] loss: 1.216\n",
            "epoch: [1] loss: 1.200 \n",
            "epoch: [201] loss: 0.470 \n",
            "epoch: [401] loss: 0.337 \n",
            "epoch: [601] loss: 0.280 \n",
            "epoch: [801] loss: 0.242 \n",
            "epoch: [1001] loss: 0.220 \n",
            "epoch: [1201] loss: 0.205 \n",
            "epoch: [1401] loss: 0.188 \n",
            "epoch: [1601] loss: 0.166 \n",
            "epoch: [1801] loss: 0.158 \n",
            "epoch: [2001] loss: 0.151 \n",
            "epoch: [2201] loss: 0.154 \n",
            "epoch: [2401] loss: 0.091 \n",
            "Finished Training run 3\n",
            "Accuracy of the network on the 3000 test images: 97.166667 %\n",
            "--------------------------------------------------------------------------------\n",
            "epoch: [0 ] loss: 1.706\n",
            "epoch: [1] loss: 1.441 \n",
            "epoch: [201] loss: 0.443 \n",
            "epoch: [401] loss: 0.219 \n",
            "epoch: [601] loss: 0.104 \n",
            "epoch: [801] loss: 0.081 \n",
            "epoch: [1001] loss: 0.063 \n",
            "epoch: [1201] loss: 0.044 \n",
            "epoch: [1401] loss: 0.031 \n",
            "epoch: [1601] loss: 0.026 \n",
            "epoch: [1801] loss: 0.031 \n",
            "epoch: [2001] loss: 0.019 \n",
            "epoch: [2201] loss: 0.021 \n",
            "epoch: [2401] loss: 0.019 \n",
            "Finished Training run 4\n",
            "Accuracy of the network on the 3000 test images: 99.500000 %\n"
          ]
        }
      ]
    },
    {
      "cell_type": "code",
      "metadata": {
        "colab": {
          "base_uri": "https://localhost:8080/"
        },
        "id": "yBbboK0mtLTL",
        "outputId": "277668bc-82da-4ed8-afb1-d6df7f5f074d"
      },
      "source": [
        "print(np.mean(np.array(FTPT_analysis),axis=0)) "
      ],
      "execution_count": 19,
      "outputs": [
        {
          "output_type": "stream",
          "name": "stdout",
          "text": [
            "[0.77506667 0.21393333 0.003      0.008      2.40746667 0.2419894\n",
            " 0.67730838]\n"
          ]
        }
      ]
    },
    {
      "cell_type": "code",
      "metadata": {
        "colab": {
          "base_uri": "https://localhost:8080/",
          "height": 204
        },
        "id": "aGLofG1qpB4b",
        "outputId": "52d3fcba-cf21-47f2-f452-dea9d445c735"
      },
      "source": [
        "FTPT_analysis"
      ],
      "execution_count": 20,
      "outputs": [
        {
          "output_type": "execute_result",
          "data": {
            "text/html": [
              "<div>\n",
              "<style scoped>\n",
              "    .dataframe tbody tr th:only-of-type {\n",
              "        vertical-align: middle;\n",
              "    }\n",
              "\n",
              "    .dataframe tbody tr th {\n",
              "        vertical-align: top;\n",
              "    }\n",
              "\n",
              "    .dataframe thead th {\n",
              "        text-align: right;\n",
              "    }\n",
              "</style>\n",
              "<table border=\"1\" class=\"dataframe\">\n",
              "  <thead>\n",
              "    <tr style=\"text-align: right;\">\n",
              "      <th></th>\n",
              "      <th>FTPT</th>\n",
              "      <th>FFPT</th>\n",
              "      <th>FTPF</th>\n",
              "      <th>FFPF</th>\n",
              "      <th>sparsity_value</th>\n",
              "      <th>shortest distance smplx</th>\n",
              "      <th>Entropy</th>\n",
              "    </tr>\n",
              "  </thead>\n",
              "  <tbody>\n",
              "    <tr>\n",
              "      <th>0</th>\n",
              "      <td>0.882000</td>\n",
              "      <td>0.108000</td>\n",
              "      <td>0.002667</td>\n",
              "      <td>0.007333</td>\n",
              "      <td>1.960333</td>\n",
              "      <td>0.143855</td>\n",
              "      <td>0.423426</td>\n",
              "    </tr>\n",
              "    <tr>\n",
              "      <th>1</th>\n",
              "      <td>0.866667</td>\n",
              "      <td>0.122333</td>\n",
              "      <td>0.002667</td>\n",
              "      <td>0.008333</td>\n",
              "      <td>2.123000</td>\n",
              "      <td>0.186384</td>\n",
              "      <td>0.534855</td>\n",
              "    </tr>\n",
              "    <tr>\n",
              "      <th>2</th>\n",
              "      <td>0.760333</td>\n",
              "      <td>0.232667</td>\n",
              "      <td>0.002333</td>\n",
              "      <td>0.004667</td>\n",
              "      <td>2.269333</td>\n",
              "      <td>0.168627</td>\n",
              "      <td>0.516600</td>\n",
              "    </tr>\n",
              "    <tr>\n",
              "      <th>3</th>\n",
              "      <td>0.587333</td>\n",
              "      <td>0.390000</td>\n",
              "      <td>0.007000</td>\n",
              "      <td>0.015667</td>\n",
              "      <td>3.363667</td>\n",
              "      <td>0.549336</td>\n",
              "      <td>1.406032</td>\n",
              "    </tr>\n",
              "    <tr>\n",
              "      <th>4</th>\n",
              "      <td>0.779000</td>\n",
              "      <td>0.216667</td>\n",
              "      <td>0.000333</td>\n",
              "      <td>0.004000</td>\n",
              "      <td>2.321000</td>\n",
              "      <td>0.161745</td>\n",
              "      <td>0.505629</td>\n",
              "    </tr>\n",
              "  </tbody>\n",
              "</table>\n",
              "</div>"
            ],
            "text/plain": [
              "       FTPT      FFPT  ...  shortest distance smplx   Entropy\n",
              "0  0.882000  0.108000  ...                 0.143855  0.423426\n",
              "1  0.866667  0.122333  ...                 0.186384  0.534855\n",
              "2  0.760333  0.232667  ...                 0.168627  0.516600\n",
              "3  0.587333  0.390000  ...                 0.549336  1.406032\n",
              "4  0.779000  0.216667  ...                 0.161745  0.505629\n",
              "\n",
              "[5 rows x 7 columns]"
            ]
          },
          "metadata": {},
          "execution_count": 20
        }
      ]
    },
    {
      "cell_type": "code",
      "metadata": {
        "colab": {
          "base_uri": "https://localhost:8080/",
          "height": 204
        },
        "id": "Rdx_zQIm27aH",
        "outputId": "76613afd-42a1-45b3-c5cb-571dd868cdf4"
      },
      "source": [
        "FTPT_analysis[FTPT_analysis['FTPT']+FTPT_analysis['FFPT'] > 0.9 ]"
      ],
      "execution_count": 21,
      "outputs": [
        {
          "output_type": "execute_result",
          "data": {
            "text/html": [
              "<div>\n",
              "<style scoped>\n",
              "    .dataframe tbody tr th:only-of-type {\n",
              "        vertical-align: middle;\n",
              "    }\n",
              "\n",
              "    .dataframe tbody tr th {\n",
              "        vertical-align: top;\n",
              "    }\n",
              "\n",
              "    .dataframe thead th {\n",
              "        text-align: right;\n",
              "    }\n",
              "</style>\n",
              "<table border=\"1\" class=\"dataframe\">\n",
              "  <thead>\n",
              "    <tr style=\"text-align: right;\">\n",
              "      <th></th>\n",
              "      <th>FTPT</th>\n",
              "      <th>FFPT</th>\n",
              "      <th>FTPF</th>\n",
              "      <th>FFPF</th>\n",
              "      <th>sparsity_value</th>\n",
              "      <th>shortest distance smplx</th>\n",
              "      <th>Entropy</th>\n",
              "    </tr>\n",
              "  </thead>\n",
              "  <tbody>\n",
              "    <tr>\n",
              "      <th>0</th>\n",
              "      <td>0.882000</td>\n",
              "      <td>0.108000</td>\n",
              "      <td>0.002667</td>\n",
              "      <td>0.007333</td>\n",
              "      <td>1.960333</td>\n",
              "      <td>0.143855</td>\n",
              "      <td>0.423426</td>\n",
              "    </tr>\n",
              "    <tr>\n",
              "      <th>1</th>\n",
              "      <td>0.866667</td>\n",
              "      <td>0.122333</td>\n",
              "      <td>0.002667</td>\n",
              "      <td>0.008333</td>\n",
              "      <td>2.123000</td>\n",
              "      <td>0.186384</td>\n",
              "      <td>0.534855</td>\n",
              "    </tr>\n",
              "    <tr>\n",
              "      <th>2</th>\n",
              "      <td>0.760333</td>\n",
              "      <td>0.232667</td>\n",
              "      <td>0.002333</td>\n",
              "      <td>0.004667</td>\n",
              "      <td>2.269333</td>\n",
              "      <td>0.168627</td>\n",
              "      <td>0.516600</td>\n",
              "    </tr>\n",
              "    <tr>\n",
              "      <th>3</th>\n",
              "      <td>0.587333</td>\n",
              "      <td>0.390000</td>\n",
              "      <td>0.007000</td>\n",
              "      <td>0.015667</td>\n",
              "      <td>3.363667</td>\n",
              "      <td>0.549336</td>\n",
              "      <td>1.406032</td>\n",
              "    </tr>\n",
              "    <tr>\n",
              "      <th>4</th>\n",
              "      <td>0.779000</td>\n",
              "      <td>0.216667</td>\n",
              "      <td>0.000333</td>\n",
              "      <td>0.004000</td>\n",
              "      <td>2.321000</td>\n",
              "      <td>0.161745</td>\n",
              "      <td>0.505629</td>\n",
              "    </tr>\n",
              "  </tbody>\n",
              "</table>\n",
              "</div>"
            ],
            "text/plain": [
              "       FTPT      FFPT  ...  shortest distance smplx   Entropy\n",
              "0  0.882000  0.108000  ...                 0.143855  0.423426\n",
              "1  0.866667  0.122333  ...                 0.186384  0.534855\n",
              "2  0.760333  0.232667  ...                 0.168627  0.516600\n",
              "3  0.587333  0.390000  ...                 0.549336  1.406032\n",
              "4  0.779000  0.216667  ...                 0.161745  0.505629\n",
              "\n",
              "[5 rows x 7 columns]"
            ]
          },
          "metadata": {},
          "execution_count": 21
        }
      ]
    },
    {
      "cell_type": "code",
      "metadata": {
        "colab": {
          "base_uri": "https://localhost:8080/"
        },
        "id": "Ug413cPT3Hck",
        "outputId": "6498369d-7132-4f50-9148-973fab65ea6d"
      },
      "source": [
        "print(np.mean(np.array(FTPT_analysis[FTPT_analysis['FTPT']+FTPT_analysis['FFPT'] > 0.9 ]),axis=0))"
      ],
      "execution_count": 22,
      "outputs": [
        {
          "output_type": "stream",
          "name": "stdout",
          "text": [
            "[0.77506667 0.21393333 0.003      0.008      2.40746667 0.2419894\n",
            " 0.67730838]\n"
          ]
        }
      ]
    },
    {
      "cell_type": "code",
      "metadata": {
        "colab": {
          "base_uri": "https://localhost:8080/"
        },
        "id": "D0lDls6caoO_",
        "outputId": "dba449ba-2309-4b8f-b562-6f7ed7caa662"
      },
      "source": [
        "77.50+21.39"
      ],
      "execution_count": 26,
      "outputs": [
        {
          "output_type": "execute_result",
          "data": {
            "text/plain": [
              "98.89"
            ]
          },
          "metadata": {},
          "execution_count": 26
        }
      ]
    },
    {
      "cell_type": "code",
      "metadata": {
        "colab": {
          "base_uri": "https://localhost:8080/",
          "height": 1000
        },
        "id": "2eA8azQPohjT",
        "outputId": "8e0cb1c3-223b-4756-e99c-1d9e41ab430e"
      },
      "source": [
        "cnt=1\n",
        "for epoch, analysis_data in full_analysis:\n",
        "  analysis_data = np.array(analysis_data)\n",
        "  # print(\"=\"*20+\"run \",cnt,\"=\"*20)\n",
        "  \n",
        "  plt.figure(figsize=(6,5))\n",
        "  plt.plot(np.arange(0,epoch+2,1),analysis_data[:,0]/30,label=\"FTPT\")\n",
        "  plt.plot(np.arange(0,epoch+2,1),analysis_data[:,1]/30,label=\"FFPT\")\n",
        "  plt.plot(np.arange(0,epoch+2,1),analysis_data[:,2]/30,label=\"FTPF\")\n",
        "  plt.plot(np.arange(0,epoch+2,1),analysis_data[:,3]/30,label=\"FFPF\")\n",
        "\n",
        "  plt.title(\"Training trends for run \"+str(cnt))\n",
        "  plt.grid()\n",
        "  # plt.legend(loc='center left', bbox_to_anchor=(1, 0.5))\n",
        "  plt.legend()\n",
        "  plt.xlabel(\"epochs\", fontsize=14, fontweight = 'bold')\n",
        "  plt.ylabel(\"percentage train data\", fontsize=14, fontweight = 'bold')\n",
        "  #plt.savefig(path + \"run\"+str(cnt)+\".png\",bbox_inches=\"tight\")\n",
        "  #plt.savefig(path + \"run\"+str(cnt)+\".pdf\",bbox_inches=\"tight\")\n",
        "  cnt+=1"
      ],
      "execution_count": 24,
      "outputs": [
        {
          "output_type": "display_data",
          "data": {
            "image/png": "[encoded data removed]",
            "text/plain": [
              "<Figure size 432x360 with 1 Axes>"
            ]
          },
          "metadata": {
            "needs_background": "light"
          }
        },
        {
          "output_type": "display_data",
          "data": {
            "image/png": "[encoded data removed]",
            "text/plain": [
              "<Figure size 432x360 with 1 Axes>"
            ]
          },
          "metadata": {
            "needs_background": "light"
          }
        },
        {
          "output_type": "display_data",
          "data": {
            "image/png": "[encoded data removed]",
            "text/plain": [
              "<Figure size 432x360 with 1 Axes>"
            ]
          },
          "metadata": {
            "needs_background": "light"
          }
        },
        {
          "output_type": "display_data",
          "data": {
            "image/png": "[encoded data removed]",
            "text/plain": [
              "<Figure size 432x360 with 1 Axes>"
            ]
          },
          "metadata": {
            "needs_background": "light"
          }
        },
        {
          "output_type": "display_data",
          "data": {
            "image/png": "[encoded data removed]",
            "text/plain": [
              "<Figure size 432x360 with 1 Axes>"
            ]
          },
          "metadata": {
            "needs_background": "light"
          }
        }
      ]
    },
    {
      "cell_type": "code",
      "metadata": {
        "id": "AYS7jRsCz30j"
      },
      "source": [
        "#FTPT_analysis.to_csv(path+\"synthetic_zeroth.csv\",index=False)"
      ],
      "execution_count": 25,
      "outputs": []
    },
    {
      "cell_type": "code",
      "metadata": {
        "id": "RXIPbWNwxNCj"
      },
      "source": [
        ""
      ],
      "execution_count": 25,
      "outputs": []
    }
  ]
}