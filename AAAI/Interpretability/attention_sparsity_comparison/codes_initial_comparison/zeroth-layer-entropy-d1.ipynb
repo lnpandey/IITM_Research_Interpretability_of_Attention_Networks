{
 "cells": [
  {
   "cell_type": "code",
   "execution_count": 1,
   "id": "768129fd",
   "metadata": {
    "execution": {
     "iopub.execute_input": "2021-09-08T12:56:20.630995Z",
     "iopub.status.busy": "2021-09-08T12:56:20.629027Z",
     "iopub.status.idle": "2021-09-08T12:56:20.633313Z",
     "shell.execute_reply": "2021-09-08T12:56:20.633841Z"
    },
    "id": "-Vv0xhOxmRqI",
    "papermill": {
     "duration": 0.032339,
     "end_time": "2021-09-08T12:56:20.634078",
     "exception": false,
     "start_time": "2021-09-08T12:56:20.601739",
     "status": "completed"
    },
    "tags": []
   },
   "outputs": [],
   "source": [
    "# from google.colab import drive\n",
    "# drive.mount('/content/drive')"
   ]
  },
  {
   "cell_type": "code",
   "execution_count": 2,
   "id": "0ea02272",
   "metadata": {
    "execution": {
     "iopub.execute_input": "2021-09-08T12:56:20.680370Z",
     "iopub.status.busy": "2021-09-08T12:56:20.679476Z",
     "iopub.status.idle": "2021-09-08T12:56:20.682625Z",
     "shell.execute_reply": "2021-09-08T12:56:20.683096Z"
    },
    "id": "vO-FHcaXmYW0",
    "papermill": {
     "duration": 0.028378,
     "end_time": "2021-09-08T12:56:20.683244",
     "exception": false,
     "start_time": "2021-09-08T12:56:20.654866",
     "status": "completed"
    },
    "tags": []
   },
   "outputs": [],
   "source": [
    "# path = '/content/drive/MyDrive/Research/AAAI/dataset1/second_layer_with_entropy/'"
   ]
  },
  {
   "cell_type": "code",
   "execution_count": 3,
   "id": "dabf2d31",
   "metadata": {
    "execution": {
     "iopub.execute_input": "2021-09-08T12:56:20.839891Z",
     "iopub.status.busy": "2021-09-08T12:56:20.838801Z",
     "iopub.status.idle": "2021-09-08T12:56:22.613333Z",
     "shell.execute_reply": "2021-09-08T12:56:22.612382Z"
    },
    "id": "VAYu3ISwwGks",
    "papermill": {
     "duration": 1.909948,
     "end_time": "2021-09-08T12:56:22.613491",
     "exception": false,
     "start_time": "2021-09-08T12:56:20.703543",
     "status": "completed"
    },
    "tags": []
   },
   "outputs": [],
   "source": [
    "import numpy as np\n",
    "import pandas as pd\n",
    "\n",
    "import torch\n",
    "import torchvision\n",
    "from torch.utils.data import Dataset, DataLoader\n",
    "from torchvision import transforms, utils\n",
    "import torch.nn as nn\n",
    "import torch.nn.functional as F\n",
    "import torch.optim as optim\n",
    "\n",
    "from matplotlib import pyplot as plt\n",
    "%matplotlib inline\n",
    "\n",
    "torch.backends.cudnn.deterministic = True\n",
    "torch.backends.cudnn.benchmark = False"
   ]
  },
  {
   "cell_type": "markdown",
   "id": "6f623812",
   "metadata": {
    "id": "w5peJDh_2PGd",
    "papermill": {
     "duration": 0.021393,
     "end_time": "2021-09-08T12:56:22.655788",
     "exception": false,
     "start_time": "2021-09-08T12:56:22.634395",
     "status": "completed"
    },
    "tags": []
   },
   "source": [
    "# Generate dataset"
   ]
  },
  {
   "cell_type": "code",
   "execution_count": 4,
   "id": "c412dede",
   "metadata": {
    "execution": {
     "iopub.execute_input": "2021-09-08T12:56:22.719581Z",
     "iopub.status.busy": "2021-09-08T12:56:22.718586Z",
     "iopub.status.idle": "2021-09-08T12:56:23.612502Z",
     "shell.execute_reply": "2021-09-08T12:56:23.611845Z"
    },
    "id": "EALfMjOa23vJ",
    "outputId": "02f68fe5-1f87-4956-a7db-cc3f921318f3",
    "papermill": {
     "duration": 0.934038,
     "end_time": "2021-09-08T12:56:23.612636",
     "exception": false,
     "start_time": "2021-09-08T12:56:22.678598",
     "status": "completed"
    },
    "tags": []
   },
   "outputs": [
    {
     "name": "stdout",
     "output_type": "stream",
     "text": [
      "0 530\n",
      "1 463\n",
      "2 494\n",
      "3 517\n",
      "4 488\n",
      "5 497\n",
      "6 493\n",
      "7 507\n",
      "8 492\n",
      "9 519\n"
     ]
    },
    {
     "data": {
      "text/plain": [
       "<matplotlib.legend.Legend at 0x7f53e6bc2d90>"
      ]
     },
     "execution_count": 4,
     "metadata": {},
     "output_type": "execute_result"
    },
    {
     "data": {
      "image/png": "[encoded data removed]",
      "text/plain": [
       "<Figure size 432x288 with 1 Axes>"
      ]
     },
     "metadata": {
      "needs_background": "light"
     },
     "output_type": "display_data"
    }
   ],
   "source": [
    "np.random.seed(12)\n",
    "y = np.random.randint(0,10,5000)\n",
    "idx= []\n",
    "for i in range(10):\n",
    "    print(i,sum(y==i))\n",
    "    idx.append(y==i)\n",
    "x = np.zeros((5000,2))\n",
    "np.random.seed(12)\n",
    "x[idx[0],:] = np.random.multivariate_normal(mean = [4,6.5],cov=[[0.01,0],[0,0.01]],size=sum(idx[0]))\n",
    "x[idx[1],:] = np.random.multivariate_normal(mean = [5.5,6],cov=[[0.01,0],[0,0.01]],size=sum(idx[1]))\n",
    "x[idx[2],:] = np.random.multivariate_normal(mean = [4.5,4.5],cov=[[0.01,0],[0,0.01]],size=sum(idx[2]))\n",
    "x[idx[3],:] = np.random.multivariate_normal(mean = [3,3.5],cov=[[0.01,0],[0,0.01]],size=sum(idx[3]))\n",
    "x[idx[4],:] = np.random.multivariate_normal(mean = [2.5,5.5],cov=[[0.01,0],[0,0.01]],size=sum(idx[4]))\n",
    "x[idx[5],:] = np.random.multivariate_normal(mean = [3.5,8],cov=[[0.01,0],[0,0.01]],size=sum(idx[5]))\n",
    "x[idx[6],:] = np.random.multivariate_normal(mean = [5.5,8],cov=[[0.01,0],[0,0.01]],size=sum(idx[6]))\n",
    "x[idx[7],:] = np.random.multivariate_normal(mean = [7,6.5],cov=[[0.01,0],[0,0.01]],size=sum(idx[7]))\n",
    "x[idx[8],:] = np.random.multivariate_normal(mean = [6.5,4.5],cov=[[0.01,0],[0,0.01]],size=sum(idx[8]))\n",
    "x[idx[9],:] = np.random.multivariate_normal(mean = [5,3],cov=[[0.01,0],[0,0.01]],size=sum(idx[9]))\n",
    "color = ['#1F77B4','orange', 'g','brown']\n",
    "name = [1,2,3,0]\n",
    "for i in range(10):\n",
    "  if i==3:\n",
    "    plt.scatter(x[idx[i],0],x[idx[i],1],c=color[3],label=\"D_\"+str(name[i]))\n",
    "  elif i>=4:\n",
    "    plt.scatter(x[idx[i],0],x[idx[i],1],c=color[3])\n",
    "  else:\n",
    "    plt.scatter(x[idx[i],0],x[idx[i],1],c=color[i],label=\"D_\"+str(name[i]))\n",
    "plt.legend()"
   ]
  },
  {
   "cell_type": "code",
   "execution_count": 5,
   "id": "defdbb5d",
   "metadata": {
    "execution": {
     "iopub.execute_input": "2021-09-08T12:56:23.663037Z",
     "iopub.status.busy": "2021-09-08T12:56:23.661032Z",
     "iopub.status.idle": "2021-09-08T12:56:23.669566Z",
     "shell.execute_reply": "2021-09-08T12:56:23.669090Z"
    },
    "id": "5OqyFeEa3nT8",
    "outputId": "6b63a674-db3d-4aaa-e120-cd0aa3680615",
    "papermill": {
     "duration": 0.03435,
     "end_time": "2021-09-08T12:56:23.669683",
     "exception": false,
     "start_time": "2021-09-08T12:56:23.635333",
     "status": "completed"
    },
    "tags": []
   },
   "outputs": [
    {
     "data": {
      "text/plain": [
       "(array([4.04729858, 6.43185741]), array([3.4612816 , 8.00144771]))"
      ]
     },
     "execution_count": 5,
     "metadata": {},
     "output_type": "execute_result"
    }
   ],
   "source": [
    "x[idx[0]][0], x[idx[5]][5] "
   ]
  },
  {
   "cell_type": "code",
   "execution_count": 6,
   "id": "32c69e97",
   "metadata": {
    "execution": {
     "iopub.execute_input": "2021-09-08T12:56:23.723253Z",
     "iopub.status.busy": "2021-09-08T12:56:23.722267Z",
     "iopub.status.idle": "2021-09-08T12:56:27.486191Z",
     "shell.execute_reply": "2021-09-08T12:56:27.485178Z"
    },
    "id": "qYrdlcjM23kh",
    "papermill": {
     "duration": 3.794501,
     "end_time": "2021-09-08T12:56:27.486340",
     "exception": false,
     "start_time": "2021-09-08T12:56:23.691839",
     "status": "completed"
    },
    "tags": []
   },
   "outputs": [],
   "source": [
    "desired_num = 6000\n",
    "mosaic_list_of_images =[]\n",
    "mosaic_label = []\n",
    "fore_idx=[]\n",
    "for j in range(desired_num):\n",
    "    np.random.seed(j)\n",
    "    fg_class  = np.random.randint(0,3)\n",
    "    fg_idx = np.random.randint(0,9)\n",
    "    a = []\n",
    "    for i in range(9):\n",
    "        if i == fg_idx:\n",
    "            b = np.random.choice(np.where(idx[fg_class]==True)[0],size=1)\n",
    "            a.append(x[b])\n",
    "#             print(\"foreground \"+str(fg_class)+\" present at \" + str(fg_idx))\n",
    "        else:\n",
    "            bg_class = np.random.randint(3,10)\n",
    "            b = np.random.choice(np.where(idx[bg_class]==True)[0],size=1)\n",
    "            a.append(x[b])\n",
    "#             print(\"background \"+str(bg_class)+\" present at \" + str(i))\n",
    "    a = np.concatenate(a,axis=0)\n",
    "    mosaic_list_of_images.append(a)\n",
    "    mosaic_label.append(fg_class)\n",
    "    fore_idx.append(fg_idx)"
   ]
  },
  {
   "cell_type": "code",
   "execution_count": 7,
   "id": "4e39d199",
   "metadata": {
    "execution": {
     "iopub.execute_input": "2021-09-08T12:56:27.538337Z",
     "iopub.status.busy": "2021-09-08T12:56:27.537323Z",
     "iopub.status.idle": "2021-09-08T12:56:27.541820Z",
     "shell.execute_reply": "2021-09-08T12:56:27.541344Z"
    },
    "id": "YuPrl-ak23hd",
    "outputId": "c68abf46-26b8-4ea7-c9e8-167e67fadf27",
    "papermill": {
     "duration": 0.031978,
     "end_time": "2021-09-08T12:56:27.541947",
     "exception": false,
     "start_time": "2021-09-08T12:56:27.509969",
     "status": "completed"
    },
    "tags": []
   },
   "outputs": [
    {
     "data": {
      "text/plain": [
       "(6000,\n",
       " array([[2.97319488, 3.56326392],\n",
       "        [2.59779787, 5.38694546],\n",
       "        [6.50095845, 4.49418185],\n",
       "        [7.06459245, 6.53896691],\n",
       "        [5.0161796 , 2.92679482],\n",
       "        [4.1251117 , 6.62627906],\n",
       "        [3.43548455, 7.98866194],\n",
       "        [5.01328229, 3.05196492],\n",
       "        [4.91416206, 3.02422072]]))"
      ]
     },
     "execution_count": 7,
     "metadata": {},
     "output_type": "execute_result"
    }
   ],
   "source": [
    "len(mosaic_list_of_images), mosaic_list_of_images[0]"
   ]
  },
  {
   "cell_type": "markdown",
   "id": "26064f16",
   "metadata": {
    "id": "y4ZKaqzq_vcD",
    "papermill": {
     "duration": 0.024039,
     "end_time": "2021-09-08T12:56:27.589240",
     "exception": false,
     "start_time": "2021-09-08T12:56:27.565201",
     "status": "completed"
    },
    "tags": []
   },
   "source": [
    "# load mosaic data"
   ]
  },
  {
   "cell_type": "code",
   "execution_count": 8,
   "id": "c299dd87",
   "metadata": {
    "execution": {
     "iopub.execute_input": "2021-09-08T12:56:27.642939Z",
     "iopub.status.busy": "2021-09-08T12:56:27.641763Z",
     "iopub.status.idle": "2021-09-08T12:56:27.645172Z",
     "shell.execute_reply": "2021-09-08T12:56:27.644657Z"
    },
    "id": "syESDetXAPK2",
    "papermill": {
     "duration": 0.032732,
     "end_time": "2021-09-08T12:56:27.645347",
     "exception": false,
     "start_time": "2021-09-08T12:56:27.612615",
     "status": "completed"
    },
    "tags": []
   },
   "outputs": [],
   "source": [
    "class MosaicDataset(Dataset):\n",
    "  \"\"\"MosaicDataset dataset.\"\"\"\n",
    "\n",
    "  def __init__(self, mosaic_list, mosaic_label,fore_idx):\n",
    "    \"\"\"\n",
    "      Args:\n",
    "        csv_file (string): Path to the csv file with annotations.\n",
    "        root_dir (string): Directory with all the images.\n",
    "        transform (callable, optional): Optional transform to be applied\n",
    "            on a sample.\n",
    "    \"\"\"\n",
    "    self.mosaic = mosaic_list\n",
    "    self.label = mosaic_label\n",
    "    self.fore_idx = fore_idx\n",
    "    \n",
    "  def __len__(self):\n",
    "    return len(self.label)\n",
    "\n",
    "  def __getitem__(self, idx):\n",
    "    return self.mosaic[idx] , self.label[idx] , self.fore_idx[idx]"
   ]
  },
  {
   "cell_type": "code",
   "execution_count": 9,
   "id": "038c3152",
   "metadata": {
    "execution": {
     "iopub.execute_input": "2021-09-08T12:56:27.699833Z",
     "iopub.status.busy": "2021-09-08T12:56:27.698725Z",
     "iopub.status.idle": "2021-09-08T12:56:27.702232Z",
     "shell.execute_reply": "2021-09-08T12:56:27.701709Z"
    },
    "id": "fP5NPRPmb904",
    "papermill": {
     "duration": 0.0331,
     "end_time": "2021-09-08T12:56:27.702388",
     "exception": false,
     "start_time": "2021-09-08T12:56:27.669288",
     "status": "completed"
    },
    "tags": []
   },
   "outputs": [],
   "source": [
    "batch = 250\n",
    "msd1 = MosaicDataset(mosaic_list_of_images[0:3000], mosaic_label[0:3000] , fore_idx[0:3000])\n",
    "train_loader = DataLoader( msd1 ,batch_size= batch ,shuffle=True)"
   ]
  },
  {
   "cell_type": "code",
   "execution_count": 10,
   "id": "a0292c10",
   "metadata": {
    "execution": {
     "iopub.execute_input": "2021-09-08T12:56:27.757041Z",
     "iopub.status.busy": "2021-09-08T12:56:27.756073Z",
     "iopub.status.idle": "2021-09-08T12:56:27.759648Z",
     "shell.execute_reply": "2021-09-08T12:56:27.759094Z"
    },
    "id": "92ZN-Sm54ti7",
    "papermill": {
     "duration": 0.03282,
     "end_time": "2021-09-08T12:56:27.759789",
     "exception": false,
     "start_time": "2021-09-08T12:56:27.726969",
     "status": "completed"
    },
    "tags": []
   },
   "outputs": [],
   "source": [
    "batch = 250\n",
    "msd2 = MosaicDataset(mosaic_list_of_images[3000:6000], mosaic_label[3000:6000] , fore_idx[3000:6000])\n",
    "test_loader = DataLoader( msd2 ,batch_size= batch ,shuffle=True)"
   ]
  },
  {
   "cell_type": "markdown",
   "id": "adce411d",
   "metadata": {
    "id": "ARLPPASQ_2gB",
    "papermill": {
     "duration": 0.023686,
     "end_time": "2021-09-08T12:56:27.806353",
     "exception": false,
     "start_time": "2021-09-08T12:56:27.782667",
     "status": "completed"
    },
    "tags": []
   },
   "source": [
    "# models"
   ]
  },
  {
   "cell_type": "code",
   "execution_count": 11,
   "id": "028669d0",
   "metadata": {
    "execution": {
     "iopub.execute_input": "2021-09-08T12:56:27.867888Z",
     "iopub.status.busy": "2021-09-08T12:56:27.867136Z",
     "iopub.status.idle": "2021-09-08T12:56:27.870883Z",
     "shell.execute_reply": "2021-09-08T12:56:27.870384Z"
    },
    "id": "uzUh5CowZ8rX",
    "papermill": {
     "duration": 0.041307,
     "end_time": "2021-09-08T12:56:27.871021",
     "exception": false,
     "start_time": "2021-09-08T12:56:27.829714",
     "status": "completed"
    },
    "tags": []
   },
   "outputs": [],
   "source": [
    "class Focus_deep(nn.Module):\n",
    "    '''\n",
    "       deep focus network averaged at zeroth layer\n",
    "       input : elemental data\n",
    "    '''\n",
    "    def __init__(self,inputs,output,K,d):\n",
    "        super(Focus_deep,self).__init__()\n",
    "        self.inputs = inputs\n",
    "        self.output = output\n",
    "        self.K = K\n",
    "        self.d  = d\n",
    "        self.linear1 = nn.Linear(self.inputs,50, bias=False)  #,self.output)\n",
    "        self.linear2 = nn.Linear(50,50 , bias=False)\n",
    "        self.linear3 = nn.Linear(50,self.output, bias=False) \n",
    "\n",
    "        torch.nn.init.xavier_normal_(self.linear1.weight)\n",
    "        torch.nn.init.xavier_normal_(self.linear2.weight)\n",
    "        torch.nn.init.xavier_normal_(self.linear3.weight)\n",
    "        \n",
    "    def forward(self,z):\n",
    "        batch = z.shape[0]\n",
    "        x = torch.zeros([batch,self.K],dtype=torch.float64)\n",
    "        y = torch.zeros([batch,2], dtype=torch.float64)   # number of features of output\n",
    "        features = torch.zeros([batch,self.K,2],dtype=torch.float64)\n",
    "        x,y = x.to(\"cuda\"),y.to(\"cuda\")\n",
    "        features = features.to(\"cuda\")\n",
    "        for i in range(self.K):\n",
    "            alp,ftrs = self.helper(z[:,i] )  # self.d*i:self.d*i+self.d\n",
    "            x[:,i] = alp[:,0]\n",
    "            features[:,i]  = ftrs \n",
    "        log_x = F.log_softmax(x,dim=1)\n",
    "        x = F.softmax(x,dim=1)   # alphas\n",
    "        for i in range(self.K):\n",
    "            x1 = x[:,i]          \n",
    "            y = y+torch.mul(x1[:,None],features[:,i])  # self.d*i:self.d*i+self.d\n",
    "        return y , x ,log_x\n",
    "    def helper(self,x):\n",
    "      x1 = x\n",
    "      x = self.linear1(x)\n",
    "      x = F.relu(x) \n",
    "      x = self.linear2(x)\n",
    "      #x1 = F.tanh(x)\n",
    "      x = F.relu(x)\n",
    "      x = self.linear3(x)\n",
    "      #print(x1.shape)\n",
    "      return x,x1"
   ]
  },
  {
   "cell_type": "code",
   "execution_count": 12,
   "id": "e6a7dd31",
   "metadata": {
    "execution": {
     "iopub.execute_input": "2021-09-08T12:56:27.926228Z",
     "iopub.status.busy": "2021-09-08T12:56:27.924719Z",
     "iopub.status.idle": "2021-09-08T12:56:27.927811Z",
     "shell.execute_reply": "2021-09-08T12:56:27.928365Z"
    },
    "id": "w0W0oKcClFZY",
    "papermill": {
     "duration": 0.034151,
     "end_time": "2021-09-08T12:56:27.928503",
     "exception": false,
     "start_time": "2021-09-08T12:56:27.894352",
     "status": "completed"
    },
    "tags": []
   },
   "outputs": [],
   "source": [
    "class Classification_deep(nn.Module):\n",
    "    '''\n",
    "       input : elemental data\n",
    "       deep classification module data averaged at zeroth layer\n",
    "    '''\n",
    "    def __init__(self,inputs,output):\n",
    "        super(Classification_deep,self).__init__()\n",
    "        self.inputs = inputs\n",
    "        self.output = output\n",
    "        self.linear1 = nn.Linear(self.inputs,50)\n",
    "        #self.linear2 = nn.Linear(6,12)\n",
    "        self.linear2 = nn.Linear(50,self.output)\n",
    "\n",
    "        torch.nn.init.xavier_normal_(self.linear1.weight)\n",
    "        torch.nn.init.zeros_(self.linear1.bias)\n",
    "        torch.nn.init.xavier_normal_(self.linear2.weight)\n",
    "        torch.nn.init.zeros_(self.linear2.bias)\n",
    "\n",
    "    def forward(self,x):\n",
    "      x = F.relu(self.linear1(x))\n",
    "      #x = F.relu(self.linear2(x))\n",
    "      x = self.linear2(x)\n",
    "      return x    "
   ]
  },
  {
   "cell_type": "code",
   "execution_count": 13,
   "id": "d68c92cb",
   "metadata": {
    "execution": {
     "iopub.execute_input": "2021-09-08T12:56:27.978837Z",
     "iopub.status.busy": "2021-09-08T12:56:27.978275Z",
     "iopub.status.idle": "2021-09-08T12:56:27.982591Z",
     "shell.execute_reply": "2021-09-08T12:56:27.983043Z"
    },
    "id": "lp8mPNj45RG5",
    "papermill": {
     "duration": 0.031766,
     "end_time": "2021-09-08T12:56:27.983191",
     "exception": false,
     "start_time": "2021-09-08T12:56:27.951425",
     "status": "completed"
    },
    "tags": []
   },
   "outputs": [],
   "source": [
    "# torch.manual_seed(12)\n",
    "# focus_net = Focus_deep(2,1,9,2).double()\n",
    "# focus_net = focus_net.to(\"cuda\")"
   ]
  },
  {
   "cell_type": "code",
   "execution_count": 14,
   "id": "4bf6377a",
   "metadata": {
    "execution": {
     "iopub.execute_input": "2021-09-08T12:56:28.034627Z",
     "iopub.status.busy": "2021-09-08T12:56:28.033623Z",
     "iopub.status.idle": "2021-09-08T12:56:28.036846Z",
     "shell.execute_reply": "2021-09-08T12:56:28.036337Z"
    },
    "id": "LovpFOe25RES",
    "papermill": {
     "duration": 0.03019,
     "end_time": "2021-09-08T12:56:28.036991",
     "exception": false,
     "start_time": "2021-09-08T12:56:28.006801",
     "status": "completed"
    },
    "tags": []
   },
   "outputs": [],
   "source": [
    "# focus_net.linear2.weight.shape,focus_net.linear3.weight.shape"
   ]
  },
  {
   "cell_type": "code",
   "execution_count": 15,
   "id": "c637a22b",
   "metadata": {
    "execution": {
     "iopub.execute_input": "2021-09-08T12:56:28.087731Z",
     "iopub.status.busy": "2021-09-08T12:56:28.086752Z",
     "iopub.status.idle": "2021-09-08T12:56:28.089520Z",
     "shell.execute_reply": "2021-09-08T12:56:28.090133Z"
    },
    "id": "VXjZ7tiF5RBy",
    "papermill": {
     "duration": 0.029811,
     "end_time": "2021-09-08T12:56:28.090284",
     "exception": false,
     "start_time": "2021-09-08T12:56:28.060473",
     "status": "completed"
    },
    "tags": []
   },
   "outputs": [],
   "source": [
    "# focus_net.linear2.weight.data[25:,:] = focus_net.linear2.weight.data[:25,:] #torch.nn.Parameter(torch.tensor([last_layer]) )\n",
    "# (focus_net.linear2.weight[:25,:]== focus_net.linear2.weight[25:,:] )"
   ]
  },
  {
   "cell_type": "code",
   "execution_count": 16,
   "id": "58c52822",
   "metadata": {
    "execution": {
     "iopub.execute_input": "2021-09-08T12:56:28.142829Z",
     "iopub.status.busy": "2021-09-08T12:56:28.141770Z",
     "iopub.status.idle": "2021-09-08T12:56:28.144693Z",
     "shell.execute_reply": "2021-09-08T12:56:28.145183Z"
    },
    "id": "vfzyIhtb5Q-6",
    "papermill": {
     "duration": 0.031822,
     "end_time": "2021-09-08T12:56:28.145319",
     "exception": false,
     "start_time": "2021-09-08T12:56:28.113497",
     "status": "completed"
    },
    "tags": []
   },
   "outputs": [],
   "source": [
    "# focus_net.linear3.weight.data[:,25:] = -focus_net.linear3.weight.data[:,:25] #torch.nn.Parameter(torch.tensor([last_layer]) )\n",
    "# focus_net.linear3.weight"
   ]
  },
  {
   "cell_type": "code",
   "execution_count": 17,
   "id": "02223e00",
   "metadata": {
    "execution": {
     "iopub.execute_input": "2021-09-08T12:56:28.197830Z",
     "iopub.status.busy": "2021-09-08T12:56:28.197224Z",
     "iopub.status.idle": "2021-09-08T12:56:28.201454Z",
     "shell.execute_reply": "2021-09-08T12:56:28.201896Z"
    },
    "id": "_zrNdgOy5Q8C",
    "papermill": {
     "duration": 0.032678,
     "end_time": "2021-09-08T12:56:28.202090",
     "exception": false,
     "start_time": "2021-09-08T12:56:28.169412",
     "status": "completed"
    },
    "tags": []
   },
   "outputs": [],
   "source": [
    "# focus_net.helper( torch.randn((5,2,2)).double().to(\"cuda\") )"
   ]
  },
  {
   "cell_type": "code",
   "execution_count": 18,
   "id": "d766c5a8",
   "metadata": {
    "execution": {
     "iopub.execute_input": "2021-09-08T12:56:28.259148Z",
     "iopub.status.busy": "2021-09-08T12:56:28.258323Z",
     "iopub.status.idle": "2021-09-08T12:56:28.262163Z",
     "shell.execute_reply": "2021-09-08T12:56:28.261527Z"
    },
    "id": "nS2I5eABHNPk",
    "papermill": {
     "duration": 0.035417,
     "end_time": "2021-09-08T12:56:28.262281",
     "exception": false,
     "start_time": "2021-09-08T12:56:28.226864",
     "status": "completed"
    },
    "tags": []
   },
   "outputs": [],
   "source": [
    "criterion = nn.CrossEntropyLoss()\n",
    "def my_cross_entropy(x, y,alpha,log_alpha,k):\n",
    "    # log_prob = -1.0 * F.log_softmax(x, 1)\n",
    "    # loss = log_prob.gather(1, y.unsqueeze(1))\n",
    "    # loss = loss.mean()\n",
    "    loss = criterion(x,y)\n",
    "    \n",
    "    #alpha = torch.clamp(alpha,min=1e-10)     \n",
    "    \n",
    "    b = -1.0* alpha * log_alpha\n",
    "    b =  torch.mean(torch.sum(b,dim=1))\n",
    "    closs = loss\n",
    "    entropy = b \n",
    "    loss = (1-k)*loss + ((k)*b)\n",
    "    return loss,closs,entropy"
   ]
  },
  {
   "cell_type": "code",
   "execution_count": 19,
   "id": "946960a0",
   "metadata": {
    "execution": {
     "iopub.execute_input": "2021-09-08T12:56:28.324156Z",
     "iopub.status.busy": "2021-09-08T12:56:28.323226Z",
     "iopub.status.idle": "2021-09-08T12:56:28.326310Z",
     "shell.execute_reply": "2021-09-08T12:56:28.326816Z"
    },
    "id": "ehAfQnNwgFYX",
    "papermill": {
     "duration": 0.039737,
     "end_time": "2021-09-08T12:56:28.327007",
     "exception": false,
     "start_time": "2021-09-08T12:56:28.287270",
     "status": "completed"
    },
    "tags": []
   },
   "outputs": [],
   "source": [
    "def calculate_attn_loss(dataloader,what,where,criter,k):\n",
    "  what.eval()\n",
    "  where.eval()\n",
    "  r_loss = 0\n",
    "  cc_loss = 0\n",
    "  cc_entropy = 0\n",
    "  alphas = []\n",
    "  lbls = []\n",
    "  pred = []\n",
    "  fidices = []\n",
    "  with torch.no_grad():\n",
    "    for i, data in enumerate(dataloader, 0):\n",
    "      inputs, labels,fidx = data\n",
    "      lbls.append(labels)\n",
    "      fidices.append(fidx)\n",
    "      inputs = inputs.double()\n",
    "      inputs, labels = inputs.to(\"cuda\"),labels.to(\"cuda\")\n",
    "      avg,alpha,log_alpha = where(inputs)\n",
    "      outputs = what(avg)\n",
    "      _, predicted = torch.max(outputs.data, 1)\n",
    "      pred.append(predicted.cpu().numpy())\n",
    "      alphas.append(alpha.cpu().numpy())\n",
    "\n",
    "      #ent = np.sum(entropy(alpha.cpu().detach().numpy(), base=2, axis=1))/batch\n",
    "      # mx,_ = torch.max(alpha,1)\n",
    "      # entropy = np.mean(-np.log2(mx.cpu().detach().numpy()))\n",
    "      # print(\"entropy of batch\", entropy)\n",
    "\n",
    "      #loss = (1-k)*criter(outputs, labels) + k*ent\n",
    "      loss,closs,entropy = my_cross_entropy(outputs,labels,alpha,log_alpha,k)\n",
    "      r_loss += loss.item()\n",
    "      cc_loss += closs.item()\n",
    "      cc_entropy += entropy.item()\n",
    "\n",
    "  alphas = np.concatenate(alphas,axis=0)\n",
    "  pred = np.concatenate(pred,axis=0)\n",
    "  lbls = np.concatenate(lbls,axis=0)\n",
    "  fidices = np.concatenate(fidices,axis=0)\n",
    "  #print(alphas.shape,pred.shape,lbls.shape,fidices.shape) \n",
    "  analysis = analyse_data(alphas,lbls,pred,fidices)\n",
    "  return r_loss/i,cc_loss/i,cc_entropy/i,analysis"
   ]
  },
  {
   "cell_type": "code",
   "execution_count": 20,
   "id": "7331649a",
   "metadata": {
    "execution": {
     "iopub.execute_input": "2021-09-08T12:56:28.389978Z",
     "iopub.status.busy": "2021-09-08T12:56:28.388965Z",
     "iopub.status.idle": "2021-09-08T12:56:28.392038Z",
     "shell.execute_reply": "2021-09-08T12:56:28.392659Z"
    },
    "id": "6e9HQJMzxBhp",
    "papermill": {
     "duration": 0.041212,
     "end_time": "2021-09-08T12:56:28.392842",
     "exception": false,
     "start_time": "2021-09-08T12:56:28.351630",
     "status": "completed"
    },
    "tags": []
   },
   "outputs": [],
   "source": [
    "def analyse_data(alphas,lbls,predicted,f_idx):\n",
    "    '''\n",
    "       analysis data is created here\n",
    "    '''\n",
    "    batch = len(predicted)\n",
    "    amth,alth,ftpt,ffpt,ftpf,ffpf = 0,0,0,0,0,0\n",
    "    for j in range (batch):\n",
    "      focus = np.argmax(alphas[j])\n",
    "      if(alphas[j][focus] >= 0.5):\n",
    "        amth +=1\n",
    "      else:\n",
    "        alth +=1\n",
    "      if(focus == f_idx[j] and predicted[j] == lbls[j]):\n",
    "        ftpt += 1\n",
    "      elif(focus != f_idx[j] and predicted[j] == lbls[j]):\n",
    "        ffpt +=1\n",
    "      elif(focus == f_idx[j] and predicted[j] != lbls[j]):\n",
    "        ftpf +=1\n",
    "      elif(focus != f_idx[j] and predicted[j] != lbls[j]):\n",
    "        ffpf +=1\n",
    "    #print(sum(predicted==lbls),ftpt+ffpt)\n",
    "\n",
    "        sparsity_val = np.sum(np.sum(alphas>0.01,axis=1))\n",
    "    # simplex distance\n",
    "    argmax_index = np.argmax(alphas,axis=1)\n",
    "    simplex_pt = np.zeros(alphas.shape)\n",
    "    simplex_pt[np.arange(argmax_index.size),argmax_index] = 1\n",
    "    \n",
    "    shortest_distance_simplex = np.sum(np.sqrt(np.sum((alphas-simplex_pt)**2,axis=1))) \n",
    "    \n",
    "    # entropy\n",
    "    #entropy = np.nansum((-alphas*np.log2(alphas)).sum(axis=1))\n",
    "    entropy = np.sum(np.nansum(-alphas*np.log2(alphas),axis=1))  \n",
    "    return [ftpt,ffpt,ftpf,ffpf,sparsity_val,shortest_distance_simplex,entropy]"
   ]
  },
  {
   "cell_type": "markdown",
   "id": "f6278f4b",
   "metadata": {
    "id": "a2AlGgRa_6_H",
    "papermill": {
     "duration": 0.026486,
     "end_time": "2021-09-08T12:56:28.445670",
     "exception": false,
     "start_time": "2021-09-08T12:56:28.419184",
     "status": "completed"
    },
    "tags": []
   },
   "source": [
    "# training"
   ]
  },
  {
   "cell_type": "code",
   "execution_count": 21,
   "id": "68be3d5d",
   "metadata": {
    "execution": {
     "iopub.execute_input": "2021-09-08T12:56:28.516815Z",
     "iopub.status.busy": "2021-09-08T12:56:28.503581Z",
     "iopub.status.idle": "2021-09-08T14:07:55.894980Z",
     "shell.execute_reply": "2021-09-08T14:07:55.895938Z"
    },
    "id": "rJ99urwJHWmx",
    "outputId": "0c056db3-a58a-4c37-a78b-c7cd32499f00",
    "papermill": {
     "duration": 4287.424955,
     "end_time": "2021-09-08T14:07:55.896300",
     "exception": false,
     "start_time": "2021-09-08T12:56:28.471345",
     "status": "completed"
    },
    "tags": []
   },
   "outputs": [
    {
     "name": "stdout",
     "output_type": "stream",
     "text": [
      "--------------------------------------------------------------------------------\n",
      "epoch: [0 ] loss: 1.713\n",
      "epoch: [1] loss: 1.419 celoss: 1.414 entropy: 2.311\n",
      "epoch: [201] loss: 0.551 celoss: 0.548 entropy: 1.222\n",
      "epoch: [401] loss: 0.183 celoss: 0.181 entropy: 0.625\n",
      "epoch: [601] loss: 0.096 celoss: 0.094 entropy: 0.509\n",
      "epoch: [801] loss: 0.090 celoss: 0.088 entropy: 0.496\n",
      "epoch: [1001] loss: 0.086 celoss: 0.084 entropy: 0.463\n",
      "epoch: [1201] loss: 0.086 celoss: 0.084 entropy: 0.471\n",
      "epoch: [1401] loss: 0.096 celoss: 0.094 entropy: 0.441\n",
      "epoch: [1601] loss: 0.087 celoss: 0.086 entropy: 0.462\n",
      "epoch: [1801] loss: 0.090 celoss: 0.088 entropy: 0.467\n",
      "epoch: [2001] loss: 0.086 celoss: 0.084 entropy: 0.453\n",
      "epoch: [2201] loss: 0.086 celoss: 0.084 entropy: 0.438\n",
      "epoch: [2401] loss: 0.081 celoss: 0.079 entropy: 0.446\n",
      "Finished Training run 0\n",
      "Accuracy of the network on the 3000 test images: 98.500000 %\n",
      "--------------------------------------------------------------------------------\n",
      "epoch: [0 ] loss: 1.903\n",
      "epoch: [1] loss: 1.548 celoss: 1.543 entropy: 2.396\n",
      "epoch: [201] loss: 0.431 celoss: 0.429 entropy: 0.931\n",
      "epoch: [401] loss: 0.110 celoss: 0.108 entropy: 0.547\n",
      "epoch: [601] loss: 0.088 celoss: 0.086 entropy: 0.505\n",
      "epoch: [801] loss: 0.082 celoss: 0.080 entropy: 0.480\n",
      "epoch: [1001] loss: 0.081 celoss: 0.079 entropy: 0.470\n",
      "epoch: [1201] loss: 0.079 celoss: 0.076 entropy: 0.483\n",
      "epoch: [1401] loss: 0.076 celoss: 0.074 entropy: 0.489\n",
      "epoch: [1601] loss: 0.080 celoss: 0.078 entropy: 0.487\n",
      "epoch: [1801] loss: 0.075 celoss: 0.073 entropy: 0.469\n",
      "epoch: [2001] loss: 0.071 celoss: 0.069 entropy: 0.467\n",
      "epoch: [2201] loss: 0.069 celoss: 0.067 entropy: 0.459\n",
      "epoch: [2401] loss: 0.066 celoss: 0.064 entropy: 0.470\n",
      "Finished Training run 1\n",
      "Accuracy of the network on the 3000 test images: 98.700000 %\n",
      "--------------------------------------------------------------------------------\n",
      "epoch: [0 ] loss: 2.416\n",
      "epoch: [1] loss: 1.939 celoss: 1.937 entropy: 2.347\n",
      "epoch: [201] loss: 0.532 celoss: 0.528 entropy: 1.212\n",
      "epoch: [401] loss: 0.365 celoss: 0.362 entropy: 1.096\n",
      "epoch: [601] loss: 0.247 celoss: 0.242 entropy: 1.121\n",
      "epoch: [801] loss: 0.111 celoss: 0.107 entropy: 0.877\n",
      "epoch: [1001] loss: 0.074 celoss: 0.071 entropy: 0.723\n",
      "epoch: [1201] loss: 0.059 celoss: 0.056 entropy: 0.636\n",
      "epoch: [1401] loss: 0.049 celoss: 0.046 entropy: 0.566\n",
      "epoch: [1601] loss: 0.057 celoss: 0.055 entropy: 0.523\n",
      "epoch: [1801] loss: 0.043 celoss: 0.041 entropy: 0.492\n",
      "epoch: [2001] loss: 0.038 celoss: 0.036 entropy: 0.470\n",
      "epoch: [2201] loss: 0.040 celoss: 0.037 entropy: 0.465\n",
      "epoch: [2401] loss: 0.036 celoss: 0.034 entropy: 0.453\n",
      "Finished Training run 2\n",
      "Accuracy of the network on the 3000 test images: 99.433333 %\n",
      "--------------------------------------------------------------------------------\n",
      "epoch: [0 ] loss: 1.530\n",
      "epoch: [1] loss: 1.307 celoss: 1.302 entropy: 2.388\n",
      "epoch: [201] loss: 0.501 celoss: 0.498 entropy: 1.100\n",
      "epoch: [401] loss: 0.362 celoss: 0.358 entropy: 1.114\n",
      "epoch: [601] loss: 0.312 celoss: 0.308 entropy: 1.104\n",
      "epoch: [801] loss: 0.284 celoss: 0.280 entropy: 1.096\n",
      "epoch: [1001] loss: 0.259 celoss: 0.255 entropy: 1.090\n",
      "epoch: [1201] loss: 0.238 celoss: 0.234 entropy: 1.092\n",
      "epoch: [1401] loss: 0.195 celoss: 0.190 entropy: 1.101\n",
      "epoch: [1601] loss: 0.119 celoss: 0.114 entropy: 1.052\n",
      "epoch: [1801] loss: 0.078 celoss: 0.074 entropy: 0.945\n",
      "epoch: [2001] loss: 0.063 celoss: 0.059 entropy: 0.835\n",
      "epoch: [2201] loss: 0.059 celoss: 0.055 entropy: 0.756\n",
      "epoch: [2401] loss: 0.045 celoss: 0.042 entropy: 0.688\n",
      "Finished Training run 3\n",
      "Accuracy of the network on the 3000 test images: 99.233333 %\n",
      "--------------------------------------------------------------------------------\n",
      "epoch: [0 ] loss: 2.184\n",
      "epoch: [1] loss: 1.830 celoss: 1.828 entropy: 2.352\n",
      "epoch: [201] loss: 1.191 celoss: 1.195 entropy: 0.319\n",
      "epoch: [401] loss: 1.188 celoss: 1.193 entropy: 0.149\n",
      "epoch: [601] loss: 1.176 celoss: 1.181 entropy: 0.130\n",
      "epoch: [801] loss: 0.726 celoss: 0.727 entropy: 0.668\n",
      "epoch: [1001] loss: 0.633 celoss: 0.634 entropy: 0.533\n",
      "epoch: [1201] loss: 0.600 celoss: 0.601 entropy: 0.485\n",
      "epoch: [1401] loss: 0.587 celoss: 0.587 entropy: 0.463\n",
      "epoch: [1601] loss: 0.581 celoss: 0.581 entropy: 0.460\n",
      "epoch: [1801] loss: 0.576 celoss: 0.577 entropy: 0.446\n",
      "epoch: [2001] loss: 0.572 celoss: 0.573 entropy: 0.437\n",
      "epoch: [2201] loss: 0.566 celoss: 0.567 entropy: 0.435\n",
      "epoch: [2401] loss: 0.554 celoss: 0.555 entropy: 0.442\n",
      "Finished Training run 4\n",
      "Accuracy of the network on the 3000 test images: 78.333333 %\n"
     ]
    }
   ],
   "source": [
    "number_runs = 5\n",
    "full_analysis =[]\n",
    "FTPT_analysis = pd.DataFrame(columns = [\"FTPT\",\"FFPT\", \"FTPF\",\"FFPF\",\"sparsity_value\",\"shortest distance smplx\",\"Entropy\"])\n",
    "k = 0.005\n",
    "for n in range(number_runs):\n",
    "  print(\"--\"*40)\n",
    "  \n",
    "  # instantiate focus and classification Model\n",
    "  torch.manual_seed(n)\n",
    "  where = Focus_deep(2,1,9,2).double()\n",
    "\n",
    "  where = where.double().to(\"cuda\")\n",
    "\n",
    "\n",
    "  torch.manual_seed(n)\n",
    "  what = Classification_deep(2,3).double()\n",
    "  where = where.to(\"cuda\")\n",
    "  what = what.to(\"cuda\")\n",
    "\n",
    "  # instantiate optimizer\n",
    "  optimizer_where = optim.Adam(where.parameters(),lr =0.0005)\n",
    "  optimizer_what = optim.Adam(what.parameters(), lr=0.0005)\n",
    "  #criterion = nn.CrossEntropyLoss()\n",
    "  acti = []\n",
    "  analysis_data = []\n",
    "  loss_curi = []\n",
    "  epochs = 2500\n",
    "\n",
    "\n",
    "  # calculate zeroth epoch loss and FTPT values\n",
    "  running_loss ,_,_,anlys_data= calculate_attn_loss(train_loader,what,where,criterion,k)\n",
    "  loss_curi.append(running_loss)\n",
    "  analysis_data.append(anlys_data)\n",
    "\n",
    "  print('epoch: [%d ] loss: %.3f' %(0,running_loss)) \n",
    "\n",
    "  # training starts \n",
    "  for epoch in range(epochs): # loop over the dataset multiple times\n",
    "    ep_lossi = []\n",
    "    running_loss = 0.0\n",
    "    what.train()\n",
    "    where.train()\n",
    "    for i, data in enumerate(train_loader, 0):\n",
    "      # get the inputs\n",
    "      inputs, labels,_ = data\n",
    "      inputs = inputs.double()\n",
    "      inputs, labels = inputs.to(\"cuda\"),labels.to(\"cuda\")\n",
    "\n",
    "      # zero the parameter gradients\n",
    "      optimizer_where.zero_grad()\n",
    "      optimizer_what.zero_grad()\n",
    "      \n",
    "      # forward + backward + optimize\n",
    "      avg, alpha,log_alpha = where(inputs)\n",
    "      outputs = what(avg)\n",
    "\n",
    "      my_loss,_,_ = my_cross_entropy(outputs,labels,alpha,log_alpha,k)\n",
    "\n",
    "      # print statistics\n",
    "      running_loss += my_loss.item()\n",
    "      my_loss.backward()\n",
    "      optimizer_where.step()\n",
    "      optimizer_what.step()\n",
    "    #break\n",
    "    running_loss,ccloss,ccentropy,anls_data = calculate_attn_loss(train_loader,what,where,criterion,k)\n",
    "    analysis_data.append(anls_data)\n",
    "\n",
    "    if(epoch % 200==0):\n",
    "      print('epoch: [%d] loss: %.3f celoss: %.3f entropy: %.3f' %(epoch + 1,running_loss,ccloss,ccentropy)) \n",
    "    loss_curi.append(running_loss)   #loss per epoch\n",
    "    if running_loss<=0.01:\n",
    "      break\n",
    "  print('Finished Training run ' +str(n))\n",
    "  #break\n",
    "  analysis_data = np.array(analysis_data)\n",
    "  FTPT_analysis.loc[n] = analysis_data[-1,:7]/3000\n",
    "  full_analysis.append((epoch, analysis_data))\n",
    "  correct = 0\n",
    "  total = 0\n",
    "  with torch.no_grad():\n",
    "    for data in test_loader:\n",
    "      images, labels,_ = data\n",
    "      images = images.double()\n",
    "      images, labels = images.to(\"cuda\"), labels.to(\"cuda\")\n",
    "      avg, alpha,log_alpha = where(images)\n",
    "      outputs  = what(avg)\n",
    "      _, predicted = torch.max(outputs.data, 1)\n",
    "      total += labels.size(0)\n",
    "      correct += (predicted == labels).sum().item()\n",
    "\n",
    "  print('Accuracy of the network on the 3000 test images: %f %%' % (  100 * correct / total))\n",
    "    "
   ]
  },
  {
   "cell_type": "code",
   "execution_count": 22,
   "id": "212b289d",
   "metadata": {
    "execution": {
     "iopub.execute_input": "2021-09-08T14:07:56.008847Z",
     "iopub.status.busy": "2021-09-08T14:07:56.008102Z",
     "iopub.status.idle": "2021-09-08T14:07:56.014834Z",
     "shell.execute_reply": "2021-09-08T14:07:56.014049Z"
    },
    "id": "yBbboK0mtLTL",
    "papermill": {
     "duration": 0.065264,
     "end_time": "2021-09-08T14:07:56.015049",
     "exception": false,
     "start_time": "2021-09-08T14:07:55.949785",
     "status": "completed"
    },
    "tags": []
   },
   "outputs": [
    {
     "name": "stdout",
     "output_type": "stream",
     "text": [
      "[0.71773333 0.22873333 0.00353333 0.05       2.42533333 0.21624468\n",
      " 0.62774195]\n"
     ]
    }
   ],
   "source": [
    "print(np.mean(np.array(FTPT_analysis),axis=0)) #[7.42700000e+01 2.44100000e+01 7.33333333e-02 1.24666667e+00]"
   ]
  },
  {
   "cell_type": "code",
   "execution_count": 23,
   "id": "90b499e5",
   "metadata": {
    "execution": {
     "iopub.execute_input": "2021-09-08T14:07:56.125956Z",
     "iopub.status.busy": "2021-09-08T14:07:56.125132Z",
     "iopub.status.idle": "2021-09-08T14:07:56.145047Z",
     "shell.execute_reply": "2021-09-08T14:07:56.145590Z"
    },
    "id": "aGLofG1qpB4b",
    "papermill": {
     "duration": 0.07797,
     "end_time": "2021-09-08T14:07:56.145756",
     "exception": false,
     "start_time": "2021-09-08T14:07:56.067786",
     "status": "completed"
    },
    "tags": []
   },
   "outputs": [
    {
     "data": {
      "text/html": [
       "<div>\n",
       "<style scoped>\n",
       "    .dataframe tbody tr th:only-of-type {\n",
       "        vertical-align: middle;\n",
       "    }\n",
       "\n",
       "    .dataframe tbody tr th {\n",
       "        vertical-align: top;\n",
       "    }\n",
       "\n",
       "    .dataframe thead th {\n",
       "        text-align: right;\n",
       "    }\n",
       "</style>\n",
       "<table border=\"1\" class=\"dataframe\">\n",
       "  <thead>\n",
       "    <tr style=\"text-align: right;\">\n",
       "      <th></th>\n",
       "      <th>FTPT</th>\n",
       "      <th>FFPT</th>\n",
       "      <th>FTPF</th>\n",
       "      <th>FFPF</th>\n",
       "      <th>sparsity_value</th>\n",
       "      <th>shortest distance smplx</th>\n",
       "      <th>Entropy</th>\n",
       "    </tr>\n",
       "  </thead>\n",
       "  <tbody>\n",
       "    <tr>\n",
       "      <th>0</th>\n",
       "      <td>0.842667</td>\n",
       "      <td>0.142000</td>\n",
       "      <td>0.003667</td>\n",
       "      <td>0.011667</td>\n",
       "      <td>2.203000</td>\n",
       "      <td>0.213722</td>\n",
       "      <td>0.598361</td>\n",
       "    </tr>\n",
       "    <tr>\n",
       "      <th>1</th>\n",
       "      <td>0.859667</td>\n",
       "      <td>0.128000</td>\n",
       "      <td>0.003000</td>\n",
       "      <td>0.009333</td>\n",
       "      <td>2.242000</td>\n",
       "      <td>0.221285</td>\n",
       "      <td>0.623815</td>\n",
       "    </tr>\n",
       "    <tr>\n",
       "      <th>2</th>\n",
       "      <td>0.746000</td>\n",
       "      <td>0.245000</td>\n",
       "      <td>0.002000</td>\n",
       "      <td>0.007000</td>\n",
       "      <td>2.531667</td>\n",
       "      <td>0.187841</td>\n",
       "      <td>0.580390</td>\n",
       "    </tr>\n",
       "    <tr>\n",
       "      <th>3</th>\n",
       "      <td>0.755000</td>\n",
       "      <td>0.235667</td>\n",
       "      <td>0.002667</td>\n",
       "      <td>0.006667</td>\n",
       "      <td>3.213333</td>\n",
       "      <td>0.284009</td>\n",
       "      <td>0.882685</td>\n",
       "    </tr>\n",
       "    <tr>\n",
       "      <th>4</th>\n",
       "      <td>0.385333</td>\n",
       "      <td>0.393000</td>\n",
       "      <td>0.006333</td>\n",
       "      <td>0.215333</td>\n",
       "      <td>1.936667</td>\n",
       "      <td>0.174366</td>\n",
       "      <td>0.453459</td>\n",
       "    </tr>\n",
       "  </tbody>\n",
       "</table>\n",
       "</div>"
      ],
      "text/plain": [
       "       FTPT      FFPT      FTPF      FFPF  sparsity_value  \\\n",
       "0  0.842667  0.142000  0.003667  0.011667        2.203000   \n",
       "1  0.859667  0.128000  0.003000  0.009333        2.242000   \n",
       "2  0.746000  0.245000  0.002000  0.007000        2.531667   \n",
       "3  0.755000  0.235667  0.002667  0.006667        3.213333   \n",
       "4  0.385333  0.393000  0.006333  0.215333        1.936667   \n",
       "\n",
       "   shortest distance smplx   Entropy  \n",
       "0                 0.213722  0.598361  \n",
       "1                 0.221285  0.623815  \n",
       "2                 0.187841  0.580390  \n",
       "3                 0.284009  0.882685  \n",
       "4                 0.174366  0.453459  "
      ]
     },
     "execution_count": 23,
     "metadata": {},
     "output_type": "execute_result"
    }
   ],
   "source": [
    "FTPT_analysis"
   ]
  },
  {
   "cell_type": "code",
   "execution_count": 24,
   "id": "18d52709",
   "metadata": {
    "execution": {
     "iopub.execute_input": "2021-09-08T14:07:56.279275Z",
     "iopub.status.busy": "2021-09-08T14:07:56.277817Z",
     "iopub.status.idle": "2021-09-08T14:07:56.656744Z",
     "shell.execute_reply": "2021-09-08T14:07:56.656113Z"
    },
    "id": "2eA8azQPohjT",
    "papermill": {
     "duration": 0.459647,
     "end_time": "2021-09-08T14:07:56.657063",
     "exception": true,
     "start_time": "2021-09-08T14:07:56.197416",
     "status": "failed"
    },
    "tags": []
   },
   "outputs": [
    {
     "ename": "NameError",
     "evalue": "name 'path' is not defined",
     "output_type": "error",
     "traceback": [
      "\u001b[0;31m---------------------------------------------------------------------------\u001b[0m",
      "\u001b[0;31mNameError\u001b[0m                                 Traceback (most recent call last)",
      "\u001b[0;32m<ipython-input-24-c3b9994dd35d>\u001b[0m in \u001b[0;36m<module>\u001b[0;34m\u001b[0m\n\u001b[1;32m     16\u001b[0m   \u001b[0mplt\u001b[0m\u001b[0;34m.\u001b[0m\u001b[0mxlabel\u001b[0m\u001b[0;34m(\u001b[0m\u001b[0;34m\"epochs\"\u001b[0m\u001b[0;34m,\u001b[0m \u001b[0mfontsize\u001b[0m\u001b[0;34m=\u001b[0m\u001b[0;36m14\u001b[0m\u001b[0;34m,\u001b[0m \u001b[0mfontweight\u001b[0m \u001b[0;34m=\u001b[0m \u001b[0;34m'bold'\u001b[0m\u001b[0;34m)\u001b[0m\u001b[0;34m\u001b[0m\u001b[0;34m\u001b[0m\u001b[0m\n\u001b[1;32m     17\u001b[0m   \u001b[0mplt\u001b[0m\u001b[0;34m.\u001b[0m\u001b[0mylabel\u001b[0m\u001b[0;34m(\u001b[0m\u001b[0;34m\"percentage train data\"\u001b[0m\u001b[0;34m,\u001b[0m \u001b[0mfontsize\u001b[0m\u001b[0;34m=\u001b[0m\u001b[0;36m14\u001b[0m\u001b[0;34m,\u001b[0m \u001b[0mfontweight\u001b[0m \u001b[0;34m=\u001b[0m \u001b[0;34m'bold'\u001b[0m\u001b[0;34m)\u001b[0m\u001b[0;34m\u001b[0m\u001b[0;34m\u001b[0m\u001b[0m\n\u001b[0;32m---> 18\u001b[0;31m   \u001b[0mplt\u001b[0m\u001b[0;34m.\u001b[0m\u001b[0msavefig\u001b[0m\u001b[0;34m(\u001b[0m\u001b[0mpath\u001b[0m \u001b[0;34m+\u001b[0m \u001b[0;34m\"run\"\u001b[0m\u001b[0;34m+\u001b[0m\u001b[0mstr\u001b[0m\u001b[0;34m(\u001b[0m\u001b[0mcnt\u001b[0m\u001b[0;34m)\u001b[0m\u001b[0;34m+\u001b[0m\u001b[0;34m\".png\"\u001b[0m\u001b[0;34m,\u001b[0m\u001b[0mbbox_inches\u001b[0m\u001b[0;34m=\u001b[0m\u001b[0;34m\"tight\"\u001b[0m\u001b[0;34m)\u001b[0m\u001b[0;34m\u001b[0m\u001b[0;34m\u001b[0m\u001b[0m\n\u001b[0m\u001b[1;32m     19\u001b[0m   \u001b[0mplt\u001b[0m\u001b[0;34m.\u001b[0m\u001b[0msavefig\u001b[0m\u001b[0;34m(\u001b[0m\u001b[0mpath\u001b[0m \u001b[0;34m+\u001b[0m \u001b[0;34m\"run\"\u001b[0m\u001b[0;34m+\u001b[0m\u001b[0mstr\u001b[0m\u001b[0;34m(\u001b[0m\u001b[0mcnt\u001b[0m\u001b[0;34m)\u001b[0m\u001b[0;34m+\u001b[0m\u001b[0;34m\".pdf\"\u001b[0m\u001b[0;34m,\u001b[0m\u001b[0mbbox_inches\u001b[0m\u001b[0;34m=\u001b[0m\u001b[0;34m\"tight\"\u001b[0m\u001b[0;34m)\u001b[0m\u001b[0;34m\u001b[0m\u001b[0;34m\u001b[0m\u001b[0m\n\u001b[1;32m     20\u001b[0m   \u001b[0mcnt\u001b[0m\u001b[0;34m+=\u001b[0m\u001b[0;36m1\u001b[0m\u001b[0;34m\u001b[0m\u001b[0;34m\u001b[0m\u001b[0m\n",
      "\u001b[0;31mNameError\u001b[0m: name 'path' is not defined"
     ]
    },
    {
     "data": {
      "image/png": "[encoded data removed]",
      "text/plain": [
       "<Figure size 432x360 with 1 Axes>"
      ]
     },
     "metadata": {
      "needs_background": "light"
     },
     "output_type": "display_data"
    }
   ],
   "source": [
    "cnt=1\n",
    "for epoch, analysis_data in full_analysis:\n",
    "  analysis_data = np.array(analysis_data)\n",
    "  # print(\"=\"*20+\"run \",cnt,\"=\"*20)\n",
    "  \n",
    "  plt.figure(figsize=(6,5))\n",
    "  plt.plot(np.arange(0,epoch+2,1),analysis_data[:,0]/30,label=\"FTPT\")\n",
    "  plt.plot(np.arange(0,epoch+2,1),analysis_data[:,1]/30,label=\"FFPT\")\n",
    "  plt.plot(np.arange(0,epoch+2,1),analysis_data[:,2]/30,label=\"FTPF\")\n",
    "  plt.plot(np.arange(0,epoch+2,1),analysis_data[:,3]/30,label=\"FFPF\")\n",
    "\n",
    "  plt.title(\"Training trends for run \"+str(cnt))\n",
    "  plt.grid()\n",
    "  # plt.legend(loc='center left', bbox_to_anchor=(1, 0.5))\n",
    "  plt.legend()\n",
    "  plt.xlabel(\"epochs\", fontsize=14, fontweight = 'bold')\n",
    "  plt.ylabel(\"percentage train data\", fontsize=14, fontweight = 'bold')\n",
    "  plt.savefig(path + \"run\"+str(cnt)+\".png\",bbox_inches=\"tight\")\n",
    "  plt.savefig(path + \"run\"+str(cnt)+\".pdf\",bbox_inches=\"tight\")\n",
    "  cnt+=1"
   ]
  },
  {
   "cell_type": "code",
   "execution_count": null,
   "id": "6b858fd2",
   "metadata": {
    "id": "AYS7jRsCz30j",
    "papermill": {
     "duration": null,
     "end_time": null,
     "exception": null,
     "start_time": null,
     "status": "pending"
    },
    "tags": []
   },
   "outputs": [],
   "source": [
    "FTPT_analysis.to_csv(path+\"synthetic_zeroth.csv\",index=False)"
   ]
  },
  {
   "cell_type": "code",
   "execution_count": null,
   "id": "9f6b260c",
   "metadata": {
    "id": "RXIPbWNwxNCj",
    "papermill": {
     "duration": null,
     "end_time": null,
     "exception": null,
     "start_time": null,
     "status": "pending"
    },
    "tags": []
   },
   "outputs": [],
   "source": []
  }
 ],
 "metadata": {
  "kernelspec": {
   "display_name": "Python 3",
   "language": "python",
   "name": "python3"
  },
  "language_info": {
   "codemirror_mode": {
    "name": "ipython",
    "version": 3
   },
   "file_extension": ".py",
   "mimetype": "text/x-python",
   "name": "python",
   "nbconvert_exporter": "python",
   "pygments_lexer": "ipython3",
   "version": "3.7.10"
  },
  "papermill": {
   "default_parameters": {},
   "duration": 4306.086043,
   "end_time": "2021-09-08T14:07:58.744525",
   "environment_variables": {},
   "exception": true,
   "input_path": "__notebook__.ipynb",
   "output_path": "__notebook__.ipynb",
   "parameters": {},
   "start_time": "2021-09-08T12:56:12.658482",
   "version": "2.3.3"
  }
 },
 "nbformat": 4,
 "nbformat_minor": 5
}
