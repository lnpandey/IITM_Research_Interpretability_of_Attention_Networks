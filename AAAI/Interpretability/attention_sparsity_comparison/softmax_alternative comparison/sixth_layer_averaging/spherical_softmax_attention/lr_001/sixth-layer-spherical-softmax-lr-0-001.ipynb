{
 "cells": [
  {
   "cell_type": "code",
   "execution_count": 1,
   "id": "350cd28e",
   "metadata": {
    "execution": {
     "iopub.execute_input": "2021-09-03T07:27:47.562843Z",
     "iopub.status.busy": "2021-09-03T07:27:47.561542Z",
     "iopub.status.idle": "2021-09-03T07:27:47.564283Z",
     "shell.execute_reply": "2021-09-03T07:27:47.564933Z",
     "shell.execute_reply.started": "2021-09-03T06:28:15.437536Z"
    },
    "id": "JSjG64ra4aFu",
    "outputId": "addc1734-5176-4a1c-a637-220f1f24d021",
    "papermill": {
     "duration": 0.059719,
     "end_time": "2021-09-03T07:27:47.565240",
     "exception": false,
     "start_time": "2021-09-03T07:27:47.505521",
     "status": "completed"
    },
    "tags": []
   },
   "outputs": [],
   "source": [
    "# from google.colab import drive\n",
    "# drive.mount('/content/drive')"
   ]
  },
  {
   "cell_type": "code",
   "execution_count": 2,
   "id": "d80ee8ac",
   "metadata": {
    "execution": {
     "iopub.execute_input": "2021-09-03T07:27:47.655256Z",
     "iopub.status.busy": "2021-09-03T07:27:47.654489Z",
     "iopub.status.idle": "2021-09-03T07:27:47.658239Z",
     "shell.execute_reply": "2021-09-03T07:27:47.657639Z",
     "shell.execute_reply.started": "2021-09-03T03:44:11.983114Z"
    },
    "papermill": {
     "duration": 0.050429,
     "end_time": "2021-09-03T07:27:47.658369",
     "exception": false,
     "start_time": "2021-09-03T07:27:47.607940",
     "status": "completed"
    },
    "tags": []
   },
   "outputs": [],
   "source": [
    "# !pip install sparsemax"
   ]
  },
  {
   "cell_type": "code",
   "execution_count": 3,
   "id": "cc7bba2e",
   "metadata": {
    "execution": {
     "iopub.execute_input": "2021-09-03T07:27:47.835975Z",
     "iopub.status.busy": "2021-09-03T07:27:47.824224Z",
     "iopub.status.idle": "2021-09-03T07:27:48.606781Z",
     "shell.execute_reply": "2021-09-03T07:27:48.612517Z",
     "shell.execute_reply.started": "2021-09-03T06:29:00.220992Z"
    },
    "id": "atwYfdnU1_3W",
    "outputId": "0c7b155f-d0c1-4bd0-c87d-57be34d931d7",
    "papermill": {
     "duration": 0.911055,
     "end_time": "2021-09-03T07:27:48.612794",
     "exception": false,
     "start_time": "2021-09-03T07:27:47.701739",
     "status": "completed"
    },
    "tags": []
   },
   "outputs": [
    {
     "name": "stdout",
     "output_type": "stream",
     "text": [
      "/kaggle/working\r\n"
     ]
    }
   ],
   "source": [
    "# from google.colab import drive\n",
    "# drive.mount('/content/drive')\n",
    "!pwd"
   ]
  },
  {
   "cell_type": "code",
   "execution_count": 4,
   "id": "72e0572b",
   "metadata": {
    "execution": {
     "iopub.execute_input": "2021-09-03T07:27:48.827761Z",
     "iopub.status.busy": "2021-09-03T07:27:48.826396Z",
     "iopub.status.idle": "2021-09-03T07:27:48.830067Z",
     "shell.execute_reply": "2021-09-03T07:27:48.828890Z",
     "shell.execute_reply.started": "2021-09-03T06:29:05.058366Z"
    },
    "id": "Zj9vWd0E2C0t",
    "papermill": {
     "duration": 0.120158,
     "end_time": "2021-09-03T07:27:48.830263",
     "exception": false,
     "start_time": "2021-09-03T07:27:48.710105",
     "status": "completed"
    },
    "tags": []
   },
   "outputs": [],
   "source": [
    "\n",
    "path = '/kaggle/working/run1'"
   ]
  },
  {
   "cell_type": "code",
   "execution_count": 5,
   "id": "b27b0223",
   "metadata": {
    "execution": {
     "iopub.execute_input": "2021-09-03T07:27:49.012375Z",
     "iopub.status.busy": "2021-09-03T07:27:49.011277Z",
     "iopub.status.idle": "2021-09-03T07:27:50.691354Z",
     "shell.execute_reply": "2021-09-03T07:27:50.690399Z",
     "shell.execute_reply.started": "2021-09-03T06:29:06.251795Z"
    },
    "id": "V8-7SARDZErK",
    "papermill": {
     "duration": 1.773796,
     "end_time": "2021-09-03T07:27:50.691494",
     "exception": false,
     "start_time": "2021-09-03T07:27:48.917698",
     "status": "completed"
    },
    "tags": []
   },
   "outputs": [],
   "source": [
    "import torch.nn as nn\n",
    "import torch.nn.functional as F\n",
    "import pandas as pd\n",
    "import numpy as np\n",
    "import matplotlib.pyplot as plt\n",
    "import torch\n",
    "import torchvision\n",
    "import torchvision.transforms as transforms\n",
    "from torch.utils.data import Dataset, DataLoader\n",
    "from torchvision import transforms, utils\n",
    "from matplotlib import pyplot as plt\n",
    "import copy\n",
    "\n",
    "#from sparsemax import Sparsemax\n",
    "# Ignore warnings\n",
    "import warnings\n",
    "warnings.filterwarnings(\"ignore\")\n",
    "n_seed = 0"
   ]
  },
  {
   "cell_type": "code",
   "execution_count": 6,
   "id": "2dfa56c5",
   "metadata": {
    "execution": {
     "iopub.execute_input": "2021-09-03T07:27:50.780056Z",
     "iopub.status.busy": "2021-09-03T07:27:50.778925Z",
     "iopub.status.idle": "2021-09-03T07:27:50.781875Z",
     "shell.execute_reply": "2021-09-03T07:27:50.782533Z",
     "shell.execute_reply.started": "2021-09-03T06:29:08.600636Z"
    },
    "id": "_rVTn9u9uBRn",
    "papermill": {
     "duration": 0.048384,
     "end_time": "2021-09-03T07:27:50.782683",
     "exception": false,
     "start_time": "2021-09-03T07:27:50.734299",
     "status": "completed"
    },
    "tags": []
   },
   "outputs": [],
   "source": [
    "torch.backends.cudnn.deterministic = True\n",
    "torch.backends.cudnn.benchmark= False"
   ]
  },
  {
   "cell_type": "code",
   "execution_count": 7,
   "id": "1a158efc",
   "metadata": {
    "execution": {
     "iopub.execute_input": "2021-09-03T07:27:50.875622Z",
     "iopub.status.busy": "2021-09-03T07:27:50.874961Z",
     "iopub.status.idle": "2021-09-03T07:28:02.841343Z",
     "shell.execute_reply": "2021-09-03T07:28:02.840720Z",
     "shell.execute_reply.started": "2021-09-03T06:29:10.461103Z"
    },
    "id": "acRFqJNrZErV",
    "outputId": "8b937572-e8ec-458e-edd8-0ed0170b0fc9",
    "papermill": {
     "duration": 12.014788,
     "end_time": "2021-09-03T07:28:02.841509",
     "exception": false,
     "start_time": "2021-09-03T07:27:50.826721",
     "status": "completed"
    },
    "tags": []
   },
   "outputs": [
    {
     "name": "stdout",
     "output_type": "stream",
     "text": [
      "Downloading https://www.cs.toronto.edu/~kriz/cifar-10-python.tar.gz to ./data/cifar-10-python.tar.gz\n"
     ]
    },
    {
     "data": {
      "application/vnd.jupyter.widget-view+json": {
       "model_id": "0b1edf2cb59d4f4db4321b1eb0361fb2",
       "version_major": 2,
       "version_minor": 0
      },
      "text/plain": [
       "0it [00:00, ?it/s]"
      ]
     },
     "metadata": {},
     "output_type": "display_data"
    },
    {
     "name": "stdout",
     "output_type": "stream",
     "text": [
      "Extracting ./data/cifar-10-python.tar.gz to ./data\n",
      "Files already downloaded and verified\n"
     ]
    }
   ],
   "source": [
    "transform = transforms.Compose(\n",
    "    [transforms.ToTensor(),\n",
    "     transforms.Normalize((0.5, 0.5, 0.5), (0.5, 0.5, 0.5))])\n",
    "\n",
    "trainset = torchvision.datasets.CIFAR10(root='./data', train=True, download=True, transform=transform)\n",
    "\n",
    "\n",
    "testset = torchvision.datasets.CIFAR10(root='./data', train=False, download=True, transform=transform)\n"
   ]
  },
  {
   "cell_type": "code",
   "execution_count": 8,
   "id": "e487eef4",
   "metadata": {
    "execution": {
     "iopub.execute_input": "2021-09-03T07:28:02.938490Z",
     "iopub.status.busy": "2021-09-03T07:28:02.937653Z",
     "iopub.status.idle": "2021-09-03T07:28:02.941000Z",
     "shell.execute_reply": "2021-09-03T07:28:02.940521Z",
     "shell.execute_reply.started": "2021-09-03T06:29:19.179605Z"
    },
    "id": "gh5DXuAV1tp5",
    "papermill": {
     "duration": 0.054376,
     "end_time": "2021-09-03T07:28:02.941146",
     "exception": false,
     "start_time": "2021-09-03T07:28:02.886770",
     "status": "completed"
    },
    "tags": []
   },
   "outputs": [],
   "source": [
    "trainloader = torch.utils.data.DataLoader(trainset, batch_size=10, shuffle=False)\n",
    "testloader = torch.utils.data.DataLoader(testset, batch_size=10, shuffle=False)\n",
    "\n",
    "\n",
    "classes = ('plane', 'car', 'bird', 'cat', 'deer', 'dog', 'frog', 'horse', 'ship', 'truck')\n",
    "\n",
    "foreground_classes = {'plane', 'car', 'bird'}\n",
    "#foreground_classes = {'bird', 'cat', 'deer'}\n",
    "background_classes = {'cat', 'deer', 'dog', 'frog', 'horse', 'ship', 'truck'}\n",
    "#background_classes = {'plane', 'car', 'dog', 'frog', 'horse','ship', 'truck'}\n",
    "\n",
    "fg1,fg2,fg3 = 0,1,2"
   ]
  },
  {
   "cell_type": "code",
   "execution_count": 9,
   "id": "ad798f35",
   "metadata": {
    "execution": {
     "iopub.execute_input": "2021-09-03T07:28:03.038003Z",
     "iopub.status.busy": "2021-09-03T07:28:03.037239Z",
     "iopub.status.idle": "2021-09-03T07:29:04.330570Z",
     "shell.execute_reply": "2021-09-03T07:29:04.329942Z",
     "shell.execute_reply.started": "2021-09-03T06:29:19.188456Z"
    },
    "id": "V_JUhwCeZErk",
    "papermill": {
     "duration": 61.346019,
     "end_time": "2021-09-03T07:29:04.330765",
     "exception": false,
     "start_time": "2021-09-03T07:28:02.984746",
     "status": "completed"
    },
    "tags": []
   },
   "outputs": [],
   "source": [
    "dataiter = iter(trainloader)\n",
    "background_data=[]\n",
    "background_label=[]\n",
    "foreground_data=[]\n",
    "foreground_label=[]\n",
    "batch_size=10\n",
    "\n",
    "for i in range(5000):\n",
    "  images, labels = dataiter.next()\n",
    "  for j in range(batch_size):\n",
    "    if(classes[labels[j]] in background_classes):\n",
    "      img = images[j].tolist()\n",
    "      background_data.append(img)\n",
    "      background_label.append(labels[j])\n",
    "    else:\n",
    "      img = images[j].tolist()\n",
    "      foreground_data.append(img)\n",
    "      foreground_label.append(labels[j])\n",
    "            \n",
    "foreground_data = torch.tensor(foreground_data)\n",
    "foreground_label = torch.tensor(foreground_label)\n",
    "background_data = torch.tensor(background_data)\n",
    "background_label = torch.tensor(background_label)"
   ]
  },
  {
   "cell_type": "code",
   "execution_count": 10,
   "id": "e001f8d7",
   "metadata": {
    "execution": {
     "iopub.execute_input": "2021-09-03T07:29:04.428408Z",
     "iopub.status.busy": "2021-09-03T07:29:04.427540Z",
     "iopub.status.idle": "2021-09-03T07:29:04.430737Z",
     "shell.execute_reply": "2021-09-03T07:29:04.431477Z",
     "shell.execute_reply.started": "2021-09-03T06:30:08.975739Z"
    },
    "id": "uW9MkktGysAp",
    "papermill": {
     "duration": 0.05459,
     "end_time": "2021-09-03T07:29:04.431676",
     "exception": false,
     "start_time": "2021-09-03T07:29:04.377086",
     "status": "completed"
    },
    "tags": []
   },
   "outputs": [],
   "source": [
    "def create_mosaic_img(bg_idx,fg_idx,fg): \n",
    "  \"\"\"\n",
    "  bg_idx : list of indexes of background_data[] to be used as background images in mosaic\n",
    "  fg_idx : index of image to be used as foreground image from foreground data\n",
    "  fg : at what position/index foreground image has to be stored out of 0-8\n",
    "  \"\"\"\n",
    "  image_list=[]\n",
    "  j=0\n",
    "  for i in range(9):\n",
    "    if i != fg:\n",
    "      image_list.append(background_data[bg_idx[j]])#.type(\"torch.DoubleTensor\"))\n",
    "      j+=1\n",
    "    else: \n",
    "      image_list.append(foreground_data[fg_idx])#.type(\"torch.DoubleTensor\"))\n",
    "      label = foreground_label[fg_idx]- fg1  # minus fg1 because our fore ground classes are fg1,fg2,fg3 but we have to store it as 0,1,2\n",
    "  #image_list = np.concatenate(image_list ,axis=0)\n",
    "  image_list = torch.stack(image_list) \n",
    "  return image_list,label"
   ]
  },
  {
   "cell_type": "code",
   "execution_count": 11,
   "id": "b4d0319c",
   "metadata": {
    "execution": {
     "iopub.execute_input": "2021-09-03T07:29:04.529198Z",
     "iopub.status.busy": "2021-09-03T07:29:04.528081Z",
     "iopub.status.idle": "2021-09-03T07:29:11.422940Z",
     "shell.execute_reply": "2021-09-03T07:29:11.422307Z",
     "shell.execute_reply.started": "2021-09-03T06:30:08.982796Z"
    },
    "id": "lWxkp87fNwnM",
    "papermill": {
     "duration": 6.946697,
     "end_time": "2021-09-03T07:29:11.423148",
     "exception": false,
     "start_time": "2021-09-03T07:29:04.476451",
     "status": "completed"
    },
    "tags": []
   },
   "outputs": [],
   "source": [
    "desired_num = 30000\n",
    "mosaic_list_of_images =[]      # list of mosaic images, each mosaic image is saved as list of 9 images\n",
    "fore_idx =[]                   # list of indexes at which foreground image is present in a mosaic image i.e from 0 to 9               \n",
    "mosaic_label=[]                # label of mosaic image = foreground class present in that mosaic\n",
    "for i in range(desired_num):\n",
    "  np.random.seed(i)\n",
    "  bg_idx = np.random.randint(0,35000,8)\n",
    "  fg_idx = np.random.randint(0,15000)\n",
    "  fg = np.random.randint(0,9)\n",
    "  fore_idx.append(fg)\n",
    "  image_list,label = create_mosaic_img(bg_idx,fg_idx,fg)\n",
    "  mosaic_list_of_images.append(image_list)\n",
    "  mosaic_label.append(label)"
   ]
  },
  {
   "cell_type": "code",
   "execution_count": 12,
   "id": "70f3aecd",
   "metadata": {
    "execution": {
     "iopub.execute_input": "2021-09-03T07:29:11.534952Z",
     "iopub.status.busy": "2021-09-03T07:29:11.534328Z",
     "iopub.status.idle": "2021-09-03T07:29:11.726318Z",
     "shell.execute_reply": "2021-09-03T07:29:11.726868Z",
     "shell.execute_reply.started": "2021-09-03T06:30:14.074283Z"
    },
    "id": "TNMMsJ_auBRs",
    "outputId": "1eaf419e-a155-445a-86e3-e12cb440d065",
    "papermill": {
     "duration": 0.259357,
     "end_time": "2021-09-03T07:29:11.727055",
     "exception": false,
     "start_time": "2021-09-03T07:29:11.467698",
     "status": "completed"
    },
    "tags": []
   },
   "outputs": [
    {
     "data": {
      "text/plain": [
       "<matplotlib.image.AxesImage at 0x7f881e188910>"
      ]
     },
     "execution_count": 12,
     "metadata": {},
     "output_type": "execute_result"
    },
    {
     "data": {
      "image/png": "[encoded data removed]",
      "text/plain": [
       "<Figure size 432x288 with 1 Axes>"
      ]
     },
     "metadata": {
      "needs_background": "light"
     },
     "output_type": "display_data"
    }
   ],
   "source": [
    "plt.imshow(torch.transpose(mosaic_list_of_images[0][1],dim0= 0,dim1 = 2))"
   ]
  },
  {
   "cell_type": "code",
   "execution_count": 13,
   "id": "68ea142a",
   "metadata": {
    "execution": {
     "iopub.execute_input": "2021-09-03T07:29:11.825287Z",
     "iopub.status.busy": "2021-09-03T07:29:11.824373Z",
     "iopub.status.idle": "2021-09-03T07:29:11.828232Z",
     "shell.execute_reply": "2021-09-03T07:29:11.827628Z",
     "shell.execute_reply.started": "2021-09-03T06:30:14.242551Z"
    },
    "id": "AJuGak6_zXgx",
    "papermill": {
     "duration": 0.056311,
     "end_time": "2021-09-03T07:29:11.828368",
     "exception": false,
     "start_time": "2021-09-03T07:29:11.772057",
     "status": "completed"
    },
    "tags": []
   },
   "outputs": [],
   "source": [
    "class MosaicDataset(Dataset):\n",
    "  \"\"\"MosaicDataset dataset.\"\"\"\n",
    "\n",
    "  def __init__(self, mosaic_list_of_images, mosaic_label, fore_idx):\n",
    "    \"\"\"\n",
    "      Args:\n",
    "        csv_file (string): Path to the csv file with annotations.\n",
    "        root_dir (string): Directory with all the images.\n",
    "        transform (callable, optional): Optional transform to be applied\n",
    "            on a sample.\n",
    "    \"\"\"\n",
    "    self.mosaic = mosaic_list_of_images\n",
    "    self.label = mosaic_label\n",
    "    self.fore_idx = fore_idx\n",
    "\n",
    "  def __len__(self):\n",
    "    return len(self.label)\n",
    "\n",
    "  def __getitem__(self, idx):\n",
    "    return self.mosaic[idx] , self.label[idx], self.fore_idx[idx]\n",
    "\n",
    "batch = 250\n",
    "msd = MosaicDataset(mosaic_list_of_images, mosaic_label , fore_idx)\n",
    "train_loader = DataLoader( msd,batch_size= batch ,shuffle=True)"
   ]
  },
  {
   "cell_type": "code",
   "execution_count": 14,
   "id": "e2d51baa",
   "metadata": {
    "execution": {
     "iopub.execute_input": "2021-09-03T07:29:11.930313Z",
     "iopub.status.busy": "2021-09-03T07:29:11.929195Z",
     "iopub.status.idle": "2021-09-03T07:29:11.932311Z",
     "shell.execute_reply": "2021-09-03T07:29:11.932814Z",
     "shell.execute_reply.started": "2021-09-03T06:34:35.577097Z"
    },
    "papermill": {
     "duration": 0.056202,
     "end_time": "2021-09-03T07:29:11.933004",
     "exception": false,
     "start_time": "2021-09-03T07:29:11.876802",
     "status": "completed"
    },
    "tags": []
   },
   "outputs": [],
   "source": [
    "class my_spherical_softmax(nn.Module):\n",
    "    \"\"\"\n",
    "    implementation is taken from https://github.com/anirbanl/sparsegen \n",
    "    Code for the NeurIPS 2018 paper \"On Controllable Sparse Alternatives to Softmax\"\n",
    "    \"\"\"\n",
    "    def __init__(self):\n",
    "        super(my_spherical_softmax,self).__init__()\n",
    "    def forward(self,x):\n",
    "        bs = x.data.size()[0]\n",
    "        dim = x.data.size()[1]\n",
    "        z = torch.pow(x, 2)\n",
    "        z_sum = torch.sum(z, dim=1).view(bs, 1).repeat(1, dim)\n",
    "        return z/z_sum"
   ]
  },
  {
   "cell_type": "code",
   "execution_count": 15,
   "id": "8f27cfb5",
   "metadata": {
    "execution": {
     "iopub.execute_input": "2021-09-03T07:29:12.046606Z",
     "iopub.status.busy": "2021-09-03T07:29:12.045451Z",
     "iopub.status.idle": "2021-09-03T07:29:12.056416Z",
     "shell.execute_reply": "2021-09-03T07:29:12.057083Z",
     "shell.execute_reply.started": "2021-09-03T06:44:47.332490Z"
    },
    "id": "bePj73XKuJpC",
    "papermill": {
     "duration": 0.077377,
     "end_time": "2021-09-03T07:29:12.057244",
     "exception": false,
     "start_time": "2021-09-03T07:29:11.979867",
     "status": "completed"
    },
    "tags": []
   },
   "outputs": [],
   "source": [
    "class Focus(nn.Module):\n",
    "  def __init__(self):\n",
    "    super(Focus, self).__init__()\n",
    "    self.conv1 = nn.Conv2d(in_channels=3, out_channels=32, kernel_size=3, padding=0,bias=False)\n",
    "    self.conv2 = nn.Conv2d(in_channels=32, out_channels=64, kernel_size=3, padding=0,bias=False)\n",
    "    self.conv3 = nn.Conv2d(in_channels=64, out_channels=64, kernel_size=3, padding=0,bias=False)\n",
    "    self.conv4 = nn.Conv2d(in_channels=64, out_channels=128, kernel_size=3, padding=0,bias=False)\n",
    "    self.conv5 = nn.Conv2d(in_channels=128, out_channels=256, kernel_size=3, padding=0,bias=False)\n",
    "    self.conv6 = nn.Conv2d(in_channels=256, out_channels=256, kernel_size=3, padding=1,bias=False)\n",
    "    self.pool = nn.MaxPool2d(kernel_size=2, stride=2)\n",
    "    self.batch_norm1 = nn.BatchNorm2d(32,track_running_stats=False)\n",
    "    self.batch_norm2 = nn.BatchNorm2d(64,track_running_stats=False)\n",
    "    self.batch_norm3 = nn.BatchNorm2d(256,track_running_stats=False)\n",
    "    self.dropout1 = nn.Dropout2d(p=0.05)\n",
    "    self.dropout2 = nn.Dropout2d(p=0.1)\n",
    "    self.fc1 = nn.Linear(256,64,bias=False)\n",
    "    self.fc2 = nn.Linear(64, 32,bias=False)\n",
    "    self.fc3 = nn.Linear(32, 10,bias=False)\n",
    "    self.fc4 = nn.Linear(10, 1,bias=False)\n",
    "\n",
    "    torch.nn.init.xavier_normal_(self.conv1.weight)\n",
    "    torch.nn.init.xavier_normal_(self.conv2.weight)\n",
    "    torch.nn.init.xavier_normal_(self.conv3.weight)\n",
    "    torch.nn.init.xavier_normal_(self.conv4.weight)\n",
    "    torch.nn.init.xavier_normal_(self.conv5.weight)\n",
    "    torch.nn.init.xavier_normal_(self.conv6.weight)\n",
    "\n",
    "    torch.nn.init.xavier_normal_(self.fc1.weight)\n",
    "    torch.nn.init.xavier_normal_(self.fc2.weight)\n",
    "    torch.nn.init.xavier_normal_(self.fc3.weight)\n",
    "    torch.nn.init.xavier_normal_(self.fc4.weight)\n",
    "    self.spherical_softmax = my_spherical_softmax() \n",
    "    \n",
    "\n",
    "  def forward(self,z):  #y is avg image #z batch of list of 9 images\n",
    "    batch_s = z.shape[0] \n",
    "    y = torch.zeros([batch_s,256, 3,3], dtype=torch.float64)\n",
    "    x = torch.zeros([batch_s,9],dtype=torch.float64)\n",
    "    ftr = torch.zeros([batch_s,9,256,3,3])\n",
    "    y = y.to(\"cuda\")\n",
    "    x = x.to(\"cuda\")\n",
    "    ftr = ftr.to(\"cuda\")\n",
    "    \n",
    "    for i in range(9):\n",
    "        out,ftrs = self.helper(z[:,i])\n",
    "        #print(out.shape)\n",
    "        x[:,i] = out\n",
    "        ftr[:,i] = ftrs\n",
    "    x = self.spherical_softmax(x)\n",
    "    #print(x,torch.sum(x,dim=1))\n",
    "\n",
    "    for i in range(9):            \n",
    "      x1 = x[:,i]          \n",
    "      y = y + torch.mul(x1[:,None,None,None],ftr[:,i])\n",
    "\n",
    "    return x, y #alpha, avg_data\n",
    "    \n",
    "  def helper(self, x):\n",
    "\n",
    "    x = self.conv1(x)\n",
    "    x = F.relu(self.batch_norm1(x))\n",
    "\n",
    "    x = (F.relu(self.conv2(x)))\n",
    "    x = self.pool(x)\n",
    "    \n",
    "    x = self.conv3(x)\n",
    "    x = F.relu(self.batch_norm2(x))\n",
    "\n",
    "    x = (F.relu(self.conv4(x)))\n",
    "    x = self.pool(x)\n",
    "    x = self.dropout1(x)\n",
    "\n",
    "    x = self.conv5(x)\n",
    "    \n",
    "    x = F.relu(self.batch_norm3(x))\n",
    "\n",
    "    x = self.conv6(x)\n",
    "    x1 = F.tanh(x)\n",
    "    \n",
    "    \n",
    "    x = F.relu(x)\n",
    "    x = self.pool(x)\n",
    "\n",
    "    x = x.view(x.size(0), -1)\n",
    "\n",
    "    x = self.dropout2(x)\n",
    "    x = F.relu(self.fc1(x))\n",
    "    x = F.relu(self.fc2(x))\n",
    "    x = self.dropout2(x)\n",
    "    x = F.relu(self.fc3(x))\n",
    "    x = self.fc4(x)\n",
    "    x = x[:,0] \n",
    "    # print(x.shape)\n",
    "    return x,x1"
   ]
  },
  {
   "cell_type": "code",
   "execution_count": 16,
   "id": "07db3ed0",
   "metadata": {
    "execution": {
     "iopub.execute_input": "2021-09-03T07:29:12.157734Z",
     "iopub.status.busy": "2021-09-03T07:29:12.156867Z",
     "iopub.status.idle": "2021-09-03T07:29:17.588068Z",
     "shell.execute_reply": "2021-09-03T07:29:17.587414Z",
     "shell.execute_reply.started": "2021-09-03T06:44:52.357953Z"
    },
    "id": "1GvXR1zV5n4w",
    "papermill": {
     "duration": 5.484233,
     "end_time": "2021-09-03T07:29:17.588261",
     "exception": false,
     "start_time": "2021-09-03T07:29:12.104028",
     "status": "completed"
    },
    "tags": []
   },
   "outputs": [],
   "source": [
    "torch.manual_seed(n_seed)\n",
    "focus_net = Focus().double()\n",
    "focus_net = focus_net.to(\"cuda\")"
   ]
  },
  {
   "cell_type": "code",
   "execution_count": 17,
   "id": "6a139276",
   "metadata": {
    "execution": {
     "iopub.execute_input": "2021-09-03T07:29:17.708819Z",
     "iopub.status.busy": "2021-09-03T07:29:17.707808Z",
     "iopub.status.idle": "2021-09-03T07:29:17.711781Z",
     "shell.execute_reply": "2021-09-03T07:29:17.711165Z",
     "shell.execute_reply.started": "2021-09-03T06:44:54.045180Z"
    },
    "id": "LYdCXceZzSk9",
    "papermill": {
     "duration": 0.072983,
     "end_time": "2021-09-03T07:29:17.711992",
     "exception": false,
     "start_time": "2021-09-03T07:29:17.639009",
     "status": "completed"
    },
    "tags": []
   },
   "outputs": [],
   "source": [
    "class Classification(nn.Module):\n",
    "  def __init__(self):\n",
    "    super(Classification, self).__init__()\n",
    "    self.conv1 = nn.Conv2d(in_channels=256, out_channels=128, kernel_size=3, padding=1)\n",
    "    self.conv2 = nn.Conv2d(in_channels=128, out_channels=128, kernel_size=3, padding=1)\n",
    "    self.conv3 = nn.Conv2d(in_channels=128, out_channels=256, kernel_size=3, padding=1)\n",
    "    self.conv4 = nn.Conv2d(in_channels=256, out_channels=256, kernel_size=3, padding=1)\n",
    "    self.conv5 = nn.Conv2d(in_channels=256, out_channels=512, kernel_size=3, padding=1)\n",
    "    self.conv6 = nn.Conv2d(in_channels=512, out_channels=512, kernel_size=3, padding=1)\n",
    "    self.pool = nn.MaxPool2d(kernel_size=2, stride=2,padding=1)\n",
    "    self.batch_norm1 = nn.BatchNorm2d(128,track_running_stats=False)\n",
    "    self.batch_norm2 = nn.BatchNorm2d(256,track_running_stats=False)\n",
    "    self.batch_norm3 = nn.BatchNorm2d(512,track_running_stats=False)\n",
    "    self.dropout1 = nn.Dropout2d(p=0.05)\n",
    "    self.dropout2 = nn.Dropout2d(p=0.1)\n",
    "    self.global_average_pooling = nn.AvgPool2d(kernel_size=2)\n",
    "    self.fc1 = nn.Linear(512,128)\n",
    "    # self.fc2 = nn.Linear(128, 64)\n",
    "    # self.fc3 = nn.Linear(64, 10)\n",
    "    self.fc2 = nn.Linear(128, 3)\n",
    "\n",
    "    torch.nn.init.xavier_normal_(self.conv1.weight)\n",
    "    torch.nn.init.xavier_normal_(self.conv2.weight)\n",
    "    torch.nn.init.xavier_normal_(self.conv3.weight)\n",
    "    torch.nn.init.xavier_normal_(self.conv4.weight)\n",
    "    torch.nn.init.xavier_normal_(self.conv5.weight)\n",
    "    torch.nn.init.xavier_normal_(self.conv6.weight)\n",
    "\n",
    "    torch.nn.init.zeros_(self.conv1.bias)\n",
    "    torch.nn.init.zeros_(self.conv2.bias)\n",
    "    torch.nn.init.zeros_(self.conv3.bias)\n",
    "    torch.nn.init.zeros_(self.conv4.bias)\n",
    "    torch.nn.init.zeros_(self.conv5.bias)\n",
    "    torch.nn.init.zeros_(self.conv6.bias)\n",
    "\n",
    "\n",
    "    torch.nn.init.xavier_normal_(self.fc1.weight)\n",
    "    torch.nn.init.xavier_normal_(self.fc2.weight)\n",
    "    torch.nn.init.zeros_(self.fc1.bias)\n",
    "    torch.nn.init.zeros_(self.fc2.bias)\n",
    "\n",
    "\n",
    "  def forward(self, x):\n",
    "    x = self.conv1(x)\n",
    "    x = F.relu(self.batch_norm1(x))\n",
    "\n",
    "    x = (F.relu(self.conv2(x)))\n",
    "    x = self.pool(x)\n",
    "    \n",
    "    x = self.conv3(x)\n",
    "    x = F.relu(self.batch_norm2(x))\n",
    "\n",
    "    x = (F.relu(self.conv4(x)))\n",
    "    x = self.pool(x)\n",
    "    x = self.dropout1(x)\n",
    "\n",
    "    x = self.conv5(x)\n",
    "    x = F.relu(self.batch_norm3(x))\n",
    "\n",
    "    x = (F.relu(self.conv6(x)))\n",
    "    x = self.pool(x)\n",
    "    #print(x.shape)\n",
    "    x = self.global_average_pooling(x)\n",
    "    x = x.squeeze()\n",
    "    #x = x.view(x.size(0), -1)\n",
    "    #print(x.shape)\n",
    "    x = self.dropout2(x)\n",
    "    x = F.relu(self.fc1(x))\n",
    "    #x = F.relu(self.fc2(x))\n",
    "    #x = self.dropout2(x)\n",
    "    #x = F.relu(self.fc3(x))\n",
    "    x = self.fc2(x)\n",
    "    return x"
   ]
  },
  {
   "cell_type": "code",
   "execution_count": 18,
   "id": "d5520d56",
   "metadata": {
    "execution": {
     "iopub.execute_input": "2021-09-03T07:29:17.811607Z",
     "iopub.status.busy": "2021-09-03T07:29:17.810568Z",
     "iopub.status.idle": "2021-09-03T07:29:17.954759Z",
     "shell.execute_reply": "2021-09-03T07:29:17.955323Z",
     "shell.execute_reply.started": "2021-09-03T06:44:55.484579Z"
    },
    "id": "uPYplUGazU9I",
    "papermill": {
     "duration": 0.196898,
     "end_time": "2021-09-03T07:29:17.955505",
     "exception": false,
     "start_time": "2021-09-03T07:29:17.758607",
     "status": "completed"
    },
    "tags": []
   },
   "outputs": [],
   "source": [
    "torch.manual_seed(n_seed)\n",
    "classify = Classification().double()\n",
    "classify = classify.to(\"cuda\")"
   ]
  },
  {
   "cell_type": "code",
   "execution_count": 19,
   "id": "6f4bef1b",
   "metadata": {
    "execution": {
     "iopub.execute_input": "2021-09-03T07:29:18.057349Z",
     "iopub.status.busy": "2021-09-03T07:29:18.056552Z",
     "iopub.status.idle": "2021-09-03T07:29:20.338421Z",
     "shell.execute_reply": "2021-09-03T07:29:20.337413Z",
     "shell.execute_reply.started": "2021-09-03T06:44:57.197963Z"
    },
    "id": "l789TLMP9zJX",
    "papermill": {
     "duration": 2.335662,
     "end_time": "2021-09-03T07:29:20.338579",
     "exception": false,
     "start_time": "2021-09-03T07:29:18.002917",
     "status": "completed"
    },
    "tags": []
   },
   "outputs": [],
   "source": [
    "test_images =[]        #list of mosaic images, each mosaic image is saved as laist of 9 images\n",
    "fore_idx_test =[]                   #list of indexes at which foreground image is present in a mosaic image                \n",
    "test_label=[]                # label of mosaic image = foreground class present in that mosaic\n",
    "for i in range(10000):\n",
    "  np.random.seed(i+30000)\n",
    "  bg_idx = np.random.randint(0,35000,8)\n",
    "  fg_idx = np.random.randint(0,15000)\n",
    "  fg = np.random.randint(0,9)\n",
    "  fore_idx_test.append(fg)\n",
    "  image_list,label = create_mosaic_img(bg_idx,fg_idx,fg)\n",
    "  test_images.append(image_list)\n",
    "  test_label.append(label)"
   ]
  },
  {
   "cell_type": "code",
   "execution_count": 20,
   "id": "5d3056d5",
   "metadata": {
    "execution": {
     "iopub.execute_input": "2021-09-03T07:29:20.439210Z",
     "iopub.status.busy": "2021-09-03T07:29:20.437017Z",
     "iopub.status.idle": "2021-09-03T07:29:20.440153Z",
     "shell.execute_reply": "2021-09-03T07:29:20.440753Z",
     "shell.execute_reply.started": "2021-09-03T06:45:00.248832Z"
    },
    "id": "bBzV9dKS5po7",
    "papermill": {
     "duration": 0.054702,
     "end_time": "2021-09-03T07:29:20.440899",
     "exception": false,
     "start_time": "2021-09-03T07:29:20.386197",
     "status": "completed"
    },
    "tags": []
   },
   "outputs": [],
   "source": [
    "test_data = MosaicDataset(test_images,test_label,fore_idx_test)\n",
    "test_loader = DataLoader( test_data,batch_size= batch ,shuffle=False)"
   ]
  },
  {
   "cell_type": "code",
   "execution_count": 21,
   "id": "f2a74c2a",
   "metadata": {
    "execution": {
     "iopub.execute_input": "2021-09-03T07:29:20.537512Z",
     "iopub.status.busy": "2021-09-03T07:29:20.536586Z",
     "iopub.status.idle": "2021-09-03T07:29:20.541292Z",
     "shell.execute_reply": "2021-09-03T07:29:20.540608Z",
     "shell.execute_reply.started": "2021-09-03T06:45:03.754940Z"
    },
    "id": "NIZAdWWL93SJ",
    "papermill": {
     "duration": 0.053997,
     "end_time": "2021-09-03T07:29:20.541437",
     "exception": false,
     "start_time": "2021-09-03T07:29:20.487440",
     "status": "completed"
    },
    "tags": []
   },
   "outputs": [],
   "source": [
    "criterion = nn.CrossEntropyLoss()"
   ]
  },
  {
   "cell_type": "code",
   "execution_count": 22,
   "id": "356208c2",
   "metadata": {
    "execution": {
     "iopub.execute_input": "2021-09-03T07:29:20.641317Z",
     "iopub.status.busy": "2021-09-03T07:29:20.639280Z",
     "iopub.status.idle": "2021-09-03T07:29:20.642390Z",
     "shell.execute_reply": "2021-09-03T07:29:20.642884Z",
     "shell.execute_reply.started": "2021-09-03T06:45:15.425036Z"
    },
    "id": "n5g3geNJ5zEu",
    "papermill": {
     "duration": 0.056287,
     "end_time": "2021-09-03T07:29:20.643086",
     "exception": false,
     "start_time": "2021-09-03T07:29:20.586799",
     "status": "completed"
    },
    "tags": []
   },
   "outputs": [],
   "source": [
    "import torch.optim as optim\n",
    "# criterion_classify = nn.CrossEntropyLoss()\n",
    "optimizer_focus = optim.Adam(focus_net.parameters(), lr=0.001) # momentum=0.9)\n",
    "optimizer_classify = optim.Adam(classify.parameters(), lr=0.001)#, mosmentum=0.9)"
   ]
  },
  {
   "cell_type": "code",
   "execution_count": 23,
   "id": "18413975",
   "metadata": {
    "execution": {
     "iopub.execute_input": "2021-09-03T07:29:20.742031Z",
     "iopub.status.busy": "2021-09-03T07:29:20.741306Z",
     "iopub.status.idle": "2021-09-03T07:29:20.746283Z",
     "shell.execute_reply": "2021-09-03T07:29:20.745739Z",
     "shell.execute_reply.started": "2021-09-03T06:48:46.891117Z"
    },
    "id": "q8FurF4uDlOf",
    "papermill": {
     "duration": 0.057228,
     "end_time": "2021-09-03T07:29:20.746433",
     "exception": false,
     "start_time": "2021-09-03T07:29:20.689205",
     "status": "completed"
    },
    "tags": []
   },
   "outputs": [],
   "source": [
    "col1=[]\n",
    "col2=[]\n",
    "col3=[]\n",
    "col4=[]\n",
    "col5=[]\n",
    "col6=[]\n",
    "col7=[]\n",
    "col8=[]\n",
    "col9=[]\n",
    "col10=[]\n",
    "col11=[]\n",
    "col12=[]\n",
    "col13=[]\n",
    "col14 = [] # train average sparsity\n",
    "col15 = [] # test average sparsity\n",
    "\n"
   ]
  },
  {
   "cell_type": "code",
   "execution_count": 24,
   "id": "27d84ed7",
   "metadata": {
    "execution": {
     "iopub.execute_input": "2021-09-03T07:29:20.856914Z",
     "iopub.status.busy": "2021-09-03T07:29:20.852504Z",
     "iopub.status.idle": "2021-09-03T07:29:54.178974Z",
     "shell.execute_reply": "2021-09-03T07:29:54.179617Z",
     "shell.execute_reply.started": "2021-09-03T06:48:48.202468Z"
    },
    "id": "u7wkoxckDlIg",
    "outputId": "8bd39cf0-6ed5-4baf-9ca9-2ef79eb52dad",
    "papermill": {
     "duration": 33.387376,
     "end_time": "2021-09-03T07:29:54.179811",
     "exception": false,
     "start_time": "2021-09-03T07:29:20.792435",
     "status": "completed"
    },
    "tags": []
   },
   "outputs": [
    {
     "name": "stdout",
     "output_type": "stream",
     "text": [
      "Accuracy of the network on the 30000 train images: 33.770000 %\n",
      "total correct 10131\n",
      "total train set images 30000\n",
      "focus_true_pred_true 2334 =============> FTPT : 7.780000 %\n",
      "focus_false_pred_true 7797 =============> FFPT : 25.990000 %\n",
      "focus_true_pred_false 3157 =============> FTPF : 10.523333 %\n",
      "focus_false_pred_false 16712 =============> FFPF : 55.706667 %\n",
      "Sparsity_Value 265373 =============> AVG Sparsity : 8.845767 \n",
      "argmax_more_than_half ==================>  456\n",
      "argmax_less_than_half ==================>  29544\n",
      "30000\n",
      "====================================================================================================\n"
     ]
    }
   ],
   "source": [
    "correct = 0\n",
    "total = 0\n",
    "count = 0\n",
    "flag = 1\n",
    "focus_true_pred_true =0\n",
    "focus_false_pred_true =0\n",
    "focus_true_pred_false =0\n",
    "focus_false_pred_false =0\n",
    "\n",
    "argmax_more_than_half = 0\n",
    "argmax_less_than_half =0\n",
    "sparse_val = 0 \n",
    "focus_net.eval()\n",
    "classify.eval()\n",
    "with torch.no_grad():\n",
    "  for data in train_loader:\n",
    "    inputs, labels , fore_idx = data\n",
    "    inputs = inputs.double()\n",
    "    inputs, labels , fore_idx = inputs.to(\"cuda\"),labels.to(\"cuda\"), fore_idx.to(\"cuda\")\n",
    "    alphas, avg_images = focus_net(inputs)\n",
    "    # print(inputs.shape, alphas.shape, avg_images.shape)\n",
    "    outputs = classify(avg_images)\n",
    "\n",
    "    _, predicted = torch.max(outputs.data, 1)\n",
    "    \n",
    "    sparse_val += torch.sum(torch.sum(alphas>0.01,dim=1)).item()\n",
    "\n",
    "\n",
    "    for j in range(labels.size(0)):\n",
    "      count += 1\n",
    "      focus = torch.argmax(alphas[j])\n",
    "      if alphas[j][focus] >= 0.5 :\n",
    "        argmax_more_than_half += 1\n",
    "      else:\n",
    "        argmax_less_than_half += 1\n",
    "\n",
    "      if(focus == fore_idx[j] and predicted[j] == labels[j]):\n",
    "          focus_true_pred_true += 1\n",
    "      elif(focus != fore_idx[j] and predicted[j] == labels[j]):\n",
    "        focus_false_pred_true += 1\n",
    "      elif(focus == fore_idx[j] and predicted[j] != labels[j]):\n",
    "        focus_true_pred_false += 1\n",
    "      elif(focus != fore_idx[j] and predicted[j] != labels[j]):\n",
    "        focus_false_pred_false += 1\n",
    "\n",
    "    total += labels.size(0)\n",
    "    correct += (predicted == labels).sum().item()\n",
    "\n",
    "print('Accuracy of the network on the 30000 train images: %f %%' % ( 100 * correct / total))\n",
    "print(\"total correct\", correct)\n",
    "print(\"total train set images\", total)\n",
    "\n",
    "print(\"focus_true_pred_true %d =============> FTPT : %f %%\" % (focus_true_pred_true , (100 * focus_true_pred_true / total) ) )\n",
    "print(\"focus_false_pred_true %d =============> FFPT : %f %%\" % (focus_false_pred_true, (100 * focus_false_pred_true / total) ) )\n",
    "print(\"focus_true_pred_false %d =============> FTPF : %f %%\" %( focus_true_pred_false , ( 100 * focus_true_pred_false / total) ) )\n",
    "print(\"focus_false_pred_false %d =============> FFPF : %f %%\" % (focus_false_pred_false, ( 100 * focus_false_pred_false / total) ) )\n",
    "print(\"Sparsity_Value %d =============> AVG Sparsity : %f \" % (sparse_val,(sparse_val)/total))\n",
    "print(\"argmax_more_than_half ==================> \",argmax_more_than_half)\n",
    "print(\"argmax_less_than_half ==================> \",argmax_less_than_half)\n",
    "print(count)\n",
    "\n",
    "print(\"=\"*100)\n",
    "\n",
    "col1.append(0)\n",
    "col2.append(argmax_more_than_half)\n",
    "col3.append(argmax_less_than_half)\n",
    "col4.append(focus_true_pred_true)\n",
    "col5.append(focus_false_pred_true)\n",
    "col6.append(focus_true_pred_false)\n",
    "col7.append(focus_false_pred_false)\n",
    "col14.append(sparse_val)"
   ]
  },
  {
   "cell_type": "code",
   "execution_count": 25,
   "id": "3556b787",
   "metadata": {
    "execution": {
     "iopub.execute_input": "2021-09-03T07:29:54.287332Z",
     "iopub.status.busy": "2021-09-03T07:29:54.286233Z",
     "iopub.status.idle": "2021-09-03T07:30:05.154935Z",
     "shell.execute_reply": "2021-09-03T07:30:05.153996Z",
     "shell.execute_reply.started": "2021-09-03T06:49:13.912068Z"
    },
    "id": "0S4x9oQuDlBa",
    "outputId": "c268f2ab-e59b-45bc-ecc0-1532f9dc95c9",
    "papermill": {
     "duration": 10.929069,
     "end_time": "2021-09-03T07:30:05.155162",
     "exception": false,
     "start_time": "2021-09-03T07:29:54.226093",
     "status": "completed"
    },
    "tags": []
   },
   "outputs": [
    {
     "name": "stdout",
     "output_type": "stream",
     "text": [
      "Accuracy of the network on the 10000 test images: 33.560000 %\n",
      "total correct 3356\n",
      "total test set images 10000\n",
      "focus_true_pred_true 775 =============> FTPT : 7.750000 %\n",
      "focus_false_pred_true 2581 =============> FFPT : 25.810000 %\n",
      "focus_true_pred_false 1054 =============> FTPF : 10.540000 %\n",
      "focus_false_pred_false 5590 =============> FFPF : 55.900000 %\n",
      "Sparsity_Value 88481 =============> AVG Sparsity : 8.848100 \n",
      "argmax_more_than_half ==================>  169\n",
      "argmax_less_than_half ==================>  9831\n"
     ]
    }
   ],
   "source": [
    "correct = 0\n",
    "total = 0\n",
    "count = 0\n",
    "flag = 1\n",
    "focus_true_pred_true =0\n",
    "focus_false_pred_true =0\n",
    "focus_true_pred_false =0\n",
    "focus_false_pred_false =0\n",
    "\n",
    "argmax_more_than_half = 0\n",
    "argmax_less_than_half =0\n",
    "sparse_val = 0\n",
    "focus_net.eval()\n",
    "classify.eval()\n",
    "with torch.no_grad():\n",
    "  for data in test_loader:\n",
    "    inputs, labels , fore_idx = data\n",
    "    inputs = inputs.double()\n",
    "    inputs, labels , fore_idx = inputs.to(\"cuda\"),labels.to(\"cuda\"), fore_idx.to(\"cuda\")\n",
    "    alphas, avg_images = focus_net(inputs)\n",
    "    outputs = classify(avg_images)\n",
    "\n",
    "    _, predicted = torch.max(outputs.data, 1)\n",
    "    \n",
    "    sparse_val += torch.sum(torch.sum(alphas>0.01,dim=1)).item()\n",
    "\n",
    "    for j in range(labels.size(0)):\n",
    "      focus = torch.argmax(alphas[j])\n",
    "      if alphas[j][focus] >= 0.5 :\n",
    "        argmax_more_than_half += 1\n",
    "      else:\n",
    "        argmax_less_than_half += 1\n",
    "\n",
    "      if(focus == fore_idx[j] and predicted[j] == labels[j]):\n",
    "          focus_true_pred_true += 1\n",
    "      elif(focus != fore_idx[j] and predicted[j] == labels[j]):\n",
    "        focus_false_pred_true += 1\n",
    "      elif(focus == fore_idx[j] and predicted[j] != labels[j]):\n",
    "        focus_true_pred_false += 1\n",
    "      elif(focus != fore_idx[j] and predicted[j] != labels[j]):\n",
    "        focus_false_pred_false += 1\n",
    "\n",
    "    total += labels.size(0)\n",
    "    correct += (predicted == labels).sum().item()\n",
    "\n",
    "print('Accuracy of the network on the 10000 test images: %f %%' % (\n",
    "    100 * correct / total))\n",
    "print(\"total correct\", correct)\n",
    "print(\"total test set images\", total)\n",
    "\n",
    "print(\"focus_true_pred_true %d =============> FTPT : %f %%\" % (focus_true_pred_true , (100 * focus_true_pred_true / total) ) )\n",
    "print(\"focus_false_pred_true %d =============> FFPT : %f %%\" % (focus_false_pred_true, (100 * focus_false_pred_true / total) ) )\n",
    "print(\"focus_true_pred_false %d =============> FTPF : %f %%\" %( focus_true_pred_false , ( 100 * focus_true_pred_false / total) ) )\n",
    "print(\"focus_false_pred_false %d =============> FFPF : %f %%\" % (focus_false_pred_false, ( 100 * focus_false_pred_false / total) ) )\n",
    "print(\"Sparsity_Value %d =============> AVG Sparsity : %f \" % (sparse_val,(sparse_val)/total))\n",
    "print(\"argmax_more_than_half ==================> \",argmax_more_than_half)\n",
    "print(\"argmax_less_than_half ==================> \",argmax_less_than_half)\n",
    "col8.append(argmax_more_than_half)\n",
    "col9.append(argmax_less_than_half)\n",
    "col10.append(focus_true_pred_true)\n",
    "col11.append(focus_false_pred_true)\n",
    "col12.append(focus_true_pred_false)\n",
    "col13.append(focus_false_pred_false)\n",
    "col15.append(sparse_val)"
   ]
  },
  {
   "cell_type": "code",
   "execution_count": 26,
   "id": "354f4f51",
   "metadata": {
    "execution": {
     "iopub.execute_input": "2021-09-03T07:30:05.279009Z",
     "iopub.status.busy": "2021-09-03T07:30:05.275695Z",
     "iopub.status.idle": "2021-09-03T07:50:20.384475Z",
     "shell.execute_reply": "2021-09-03T07:50:20.383839Z",
     "shell.execute_reply.started": "2021-09-03T06:49:22.604756Z"
    },
    "id": "tFfAJZkcZEsY",
    "outputId": "439eba9f-f882-4ed4-b553-fa100981260a",
    "papermill": {
     "duration": 1215.182164,
     "end_time": "2021-09-03T07:50:20.384638",
     "exception": false,
     "start_time": "2021-09-03T07:30:05.202474",
     "status": "completed"
    },
    "tags": []
   },
   "outputs": [
    {
     "name": "stdout",
     "output_type": "stream",
     "text": [
      "[1,    60] loss: 1.174\n",
      "[1,   120] loss: 0.979\n",
      "[2,    60] loss: 0.852\n",
      "[2,   120] loss: 0.744\n",
      "[3,    60] loss: 0.601\n",
      "[3,   120] loss: 0.526\n",
      "[4,    60] loss: 0.441\n",
      "[4,   120] loss: 0.405\n",
      "[5,    60] loss: 0.320\n",
      "[5,   120] loss: 0.306\n",
      "[6,    60] loss: 0.251\n",
      "[6,   120] loss: 0.247\n",
      "[7,    60] loss: 0.192\n",
      "[7,   120] loss: 0.205\n",
      "[8,    60] loss: 0.154\n",
      "[8,   120] loss: 0.160\n",
      "[9,    60] loss: 0.117\n",
      "[9,   120] loss: 0.130\n",
      "[10,    60] loss: 0.104\n",
      "[10,   120] loss: 0.105\n",
      "[11,    60] loss: 0.089\n",
      "[11,   120] loss: 0.086\n",
      "[12,    60] loss: 0.075\n",
      "[12,   120] loss: 0.078\n",
      "[13,    60] loss: 0.069\n",
      "[13,   120] loss: 0.075\n",
      "[14,    60] loss: 0.054\n",
      "[14,   120] loss: 0.060\n",
      "[15,    60] loss: 0.057\n",
      "[15,   120] loss: 0.051\n",
      "[16,    60] loss: 0.049\n",
      "[16,   120] loss: 0.053\n",
      "[17,    60] loss: 0.039\n",
      "[17,   120] loss: 0.046\n",
      "Finished Training\n"
     ]
    }
   ],
   "source": [
    "nos_epochs = 50\n",
    "focus_true_pred_true =0\n",
    "focus_false_pred_true =0\n",
    "focus_true_pred_false =0\n",
    "focus_false_pred_false =0\n",
    "\n",
    "argmax_more_than_half = 0\n",
    "argmax_less_than_half =0\n",
    "focus_net.train()\n",
    "classify.train()\n",
    "tr_loss = []\n",
    "\n",
    "\n",
    "for epoch in range(nos_epochs):  # loop over the dataset multiple times\n",
    "  focus_net.train()\n",
    "  classify.train()\n",
    "  focus_true_pred_true =0\n",
    "  focus_false_pred_true =0\n",
    "  focus_true_pred_false =0\n",
    "  focus_false_pred_false =0\n",
    "  \n",
    "  argmax_more_than_half = 0\n",
    "  argmax_less_than_half =0\n",
    "  sparse_val = 0 \n",
    "  \n",
    "  running_loss = 0.0\n",
    "  epoch_loss = []\n",
    "  cnt=0\n",
    "\n",
    "  iteration = desired_num // batch\n",
    "  \n",
    "  #training data set\n",
    "  \n",
    "  for i, data in  enumerate(train_loader):\n",
    "    inputs , labels , fore_idx = data\n",
    "    inputs = inputs.double()\n",
    "    inputs, labels = inputs.to(\"cuda\"), labels.to(\"cuda\")\n",
    "    # zero the parameter gradients\n",
    "    optimizer_focus.zero_grad()\n",
    "    optimizer_classify.zero_grad()\n",
    "    alphas, avg_images = focus_net(inputs)\n",
    "    outputs = classify(avg_images)\n",
    "    \n",
    "    \n",
    "\n",
    "    _, predicted = torch.max(outputs.data, 1)\n",
    "\n",
    "    loss = criterion(outputs, labels)\n",
    "    loss.backward()\n",
    "    optimizer_focus.step()\n",
    "    optimizer_classify.step()\n",
    "\n",
    "    running_loss += loss.item()\n",
    "    mini = 60\n",
    "    if cnt % mini == mini-1:    # print every 40 mini-batches\n",
    "      print('[%d, %5d] loss: %.3f' %(epoch + 1, cnt + 1, running_loss / mini))\n",
    "      epoch_loss.append(running_loss/mini)\n",
    "      running_loss = 0.0\n",
    "    cnt=cnt+1\n",
    "    \n",
    "    \n",
    "    if epoch % 1 == 0:\n",
    "      sparse_val += torch.sum(torch.sum(alphas>0.01,dim=1)).item()\n",
    "      for j in range (batch):\n",
    "        focus = torch.argmax(alphas[j])\n",
    "\n",
    "        if(alphas[j][focus] >= 0.5):\n",
    "          argmax_more_than_half +=1\n",
    "        else:\n",
    "          argmax_less_than_half +=1\n",
    "\n",
    "        if(focus == fore_idx[j] and predicted[j] == labels[j]):\n",
    "          focus_true_pred_true += 1\n",
    "\n",
    "        elif(focus != fore_idx[j] and predicted[j] == labels[j]):\n",
    "          focus_false_pred_true +=1\n",
    "\n",
    "        elif(focus == fore_idx[j] and predicted[j] != labels[j]):\n",
    "          focus_true_pred_false +=1\n",
    "\n",
    "        elif(focus != fore_idx[j] and predicted[j] != labels[j]):\n",
    "          focus_false_pred_false +=1\n",
    "\n",
    "\n",
    "  tr_loss.append(np.mean(epoch_loss))\n",
    "  if epoch % 1 == 0:\n",
    "    col1.append(epoch+1)\n",
    "    col2.append(argmax_more_than_half)\n",
    "    col3.append(argmax_less_than_half)\n",
    "    col4.append(focus_true_pred_true)\n",
    "    col5.append(focus_false_pred_true)\n",
    "    col6.append(focus_true_pred_false)\n",
    "    col7.append(focus_false_pred_false)\n",
    "    col14.append(sparse_val)\n",
    "  \n",
    "    #************************************************************************\n",
    "    #testing data set \n",
    "    focus_net.eval()\n",
    "    classify.eval() \n",
    "    with torch.no_grad():\n",
    "      focus_true_pred_true =0\n",
    "      focus_false_pred_true =0\n",
    "      focus_true_pred_false =0\n",
    "      focus_false_pred_false =0\n",
    "\n",
    "      argmax_more_than_half = 0\n",
    "      argmax_less_than_half =0\n",
    "      sparse_val = 0\n",
    "      for data in test_loader:\n",
    "        inputs, labels , fore_idx = data\n",
    "        inputs = inputs.double()\n",
    "        inputs, labels = inputs.to(\"cuda\"), labels.to(\"cuda\")\n",
    "        alphas, avg_images = focus_net(inputs)\n",
    "        outputs = classify(avg_images)\n",
    "        #outputs, alphas, avg_images = classify(inputs)\n",
    "        _, predicted = torch.max(outputs.data, 1)\n",
    "        sparse_val += torch.sum(torch.sum(alphas>0.01,dim=1)).item()\n",
    "        for j in range (batch):\n",
    "          focus = torch.argmax(alphas[j])\n",
    "\n",
    "          if(alphas[j][focus] >= 0.5):\n",
    "            argmax_more_than_half +=1\n",
    "          else:\n",
    "            argmax_less_than_half +=1\n",
    "\n",
    "          if(focus == fore_idx[j] and predicted[j] == labels[j]):\n",
    "            focus_true_pred_true += 1\n",
    "\n",
    "          elif(focus != fore_idx[j] and predicted[j] == labels[j]):\n",
    "            focus_false_pred_true +=1\n",
    "\n",
    "          elif(focus == fore_idx[j] and predicted[j] != labels[j]):\n",
    "            focus_true_pred_false +=1\n",
    "\n",
    "          elif(focus != fore_idx[j] and predicted[j] != labels[j]):\n",
    "            focus_false_pred_false +=1\n",
    "      \n",
    "    col8.append(argmax_more_than_half)\n",
    "    col9.append(argmax_less_than_half)\n",
    "    col10.append(focus_true_pred_true)\n",
    "    col11.append(focus_false_pred_true)\n",
    "    col12.append(focus_true_pred_false)\n",
    "    col13.append(focus_false_pred_false)\n",
    "    col15.append(sparse_val)\n",
    "  if(np.mean(epoch_loss) <= 0.05):\n",
    "    break;\n",
    "print('Finished Training') "
   ]
  },
  {
   "cell_type": "code",
   "execution_count": 27,
   "id": "e3b88a94",
   "metadata": {
    "execution": {
     "iopub.execute_input": "2021-09-03T07:50:20.509824Z",
     "iopub.status.busy": "2021-09-03T07:50:20.509160Z",
     "iopub.status.idle": "2021-09-03T07:50:20.642571Z",
     "shell.execute_reply": "2021-09-03T07:50:20.641487Z",
     "shell.execute_reply.started": "2021-09-03T06:51:35.629374Z"
    },
    "id": "WIAJ3UZN8rPE",
    "papermill": {
     "duration": 0.198737,
     "end_time": "2021-09-03T07:50:20.642739",
     "exception": false,
     "start_time": "2021-09-03T07:50:20.444002",
     "status": "completed"
    },
    "tags": []
   },
   "outputs": [],
   "source": [
    "torch.save(focus_net.state_dict(),path+\"weights_focus_0.pt\")  \n",
    "torch.save(classify.state_dict(),path+\"weights_classify_0.pt\")"
   ]
  },
  {
   "cell_type": "code",
   "execution_count": 28,
   "id": "1b5c5925",
   "metadata": {
    "execution": {
     "iopub.execute_input": "2021-09-03T07:50:20.783840Z",
     "iopub.status.busy": "2021-09-03T07:50:20.781467Z",
     "iopub.status.idle": "2021-09-03T07:50:20.784788Z",
     "shell.execute_reply": "2021-09-03T07:50:20.785315Z",
     "shell.execute_reply.started": "2021-09-03T06:51:35.764079Z"
    },
    "id": "2LgQKXW-8MH-",
    "papermill": {
     "duration": 0.072986,
     "end_time": "2021-09-03T07:50:20.785464",
     "exception": false,
     "start_time": "2021-09-03T07:50:20.712478",
     "status": "completed"
    },
    "tags": []
   },
   "outputs": [],
   "source": [
    "columns = [\"epochs\", \"argmax > 0.5\" ,\"argmax < 0.5\", \"focus_true_pred_true\", \"focus_false_pred_true\", \"focus_true_pred_false\", \"focus_false_pred_false\" ,\"sparse_val\"]"
   ]
  },
  {
   "cell_type": "code",
   "execution_count": 29,
   "id": "dbdc897c",
   "metadata": {
    "execution": {
     "iopub.execute_input": "2021-09-03T07:50:20.918532Z",
     "iopub.status.busy": "2021-09-03T07:50:20.917450Z",
     "iopub.status.idle": "2021-09-03T07:50:20.921364Z",
     "shell.execute_reply": "2021-09-03T07:50:20.920818Z",
     "shell.execute_reply.started": "2021-09-03T06:51:35.770638Z"
    },
    "id": "tSKphM888Y5o",
    "papermill": {
     "duration": 0.073815,
     "end_time": "2021-09-03T07:50:20.921500",
     "exception": false,
     "start_time": "2021-09-03T07:50:20.847685",
     "status": "completed"
    },
    "tags": []
   },
   "outputs": [],
   "source": [
    "df_train = pd.DataFrame()\n",
    "df_test = pd.DataFrame()"
   ]
  },
  {
   "cell_type": "code",
   "execution_count": 30,
   "id": "79086485",
   "metadata": {
    "execution": {
     "iopub.execute_input": "2021-09-03T07:50:21.056572Z",
     "iopub.status.busy": "2021-09-03T07:50:21.055361Z",
     "iopub.status.idle": "2021-09-03T07:50:21.060165Z",
     "shell.execute_reply": "2021-09-03T07:50:21.060792Z",
     "shell.execute_reply.started": "2021-09-03T06:51:35.784191Z"
    },
    "id": "lLSfxf-zE_D1",
    "outputId": "6cc73d7a-7d81-4717-b408-62a37e00b418",
    "papermill": {
     "duration": 0.075688,
     "end_time": "2021-09-03T07:50:21.060976",
     "exception": false,
     "start_time": "2021-09-03T07:50:20.985288",
     "status": "completed"
    },
    "tags": []
   },
   "outputs": [
    {
     "data": {
      "text/plain": [
       "(18,\n",
       " [9831,\n",
       "  7036,\n",
       "  4587,\n",
       "  3320,\n",
       "  2259,\n",
       "  3050,\n",
       "  2160,\n",
       "  1907,\n",
       "  1892,\n",
       "  1738,\n",
       "  1856,\n",
       "  1457,\n",
       "  1465,\n",
       "  1213,\n",
       "  1432,\n",
       "  1355,\n",
       "  1531,\n",
       "  1708])"
      ]
     },
     "execution_count": 30,
     "metadata": {},
     "output_type": "execute_result"
    }
   ],
   "source": [
    "len(col1),col9"
   ]
  },
  {
   "cell_type": "code",
   "execution_count": 31,
   "id": "8f9fc8cc",
   "metadata": {
    "execution": {
     "iopub.execute_input": "2021-09-03T07:50:21.203252Z",
     "iopub.status.busy": "2021-09-03T07:50:21.201905Z",
     "iopub.status.idle": "2021-09-03T07:50:21.394946Z",
     "shell.execute_reply": "2021-09-03T07:50:21.395705Z",
     "shell.execute_reply.started": "2021-09-03T06:51:35.798546Z"
    },
    "id": "eBFPNm12uBR3",
    "outputId": "735aba44-f94b-4f5a-fba8-e954fe4c4c56",
    "papermill": {
     "duration": 0.271125,
     "end_time": "2021-09-03T07:50:21.395887",
     "exception": false,
     "start_time": "2021-09-03T07:50:21.124762",
     "status": "completed"
    },
    "tags": []
   },
   "outputs": [
    {
     "data": {
      "image/png": "[encoded data removed]",
      "text/plain": [
       "<Figure size 432x288 with 1 Axes>"
      ]
     },
     "metadata": {
      "needs_background": "light"
     },
     "output_type": "display_data"
    }
   ],
   "source": [
    "plt.plot(np.arange(1,epoch+2),tr_loss)\n",
    "plt.xlabel(\"epochs\", fontsize=14, fontweight = 'bold')\n",
    "plt.ylabel(\"Loss\", fontsize=14, fontweight = 'bold')\n",
    "plt.title(\"Train Loss\")\n",
    "#plt.grid()\n",
    "plt.show()"
   ]
  },
  {
   "cell_type": "code",
   "execution_count": 32,
   "id": "80286897",
   "metadata": {
    "execution": {
     "iopub.execute_input": "2021-09-03T07:50:21.533836Z",
     "iopub.status.busy": "2021-09-03T07:50:21.532847Z",
     "iopub.status.idle": "2021-09-03T07:50:21.537311Z",
     "shell.execute_reply": "2021-09-03T07:50:21.536609Z",
     "shell.execute_reply.started": "2021-09-03T06:51:35.929289Z"
    },
    "id": "dqTXDm-EuBR3",
    "papermill": {
     "duration": 0.0758,
     "end_time": "2021-09-03T07:50:21.537449",
     "exception": false,
     "start_time": "2021-09-03T07:50:21.461649",
     "status": "completed"
    },
    "tags": []
   },
   "outputs": [],
   "source": [
    "np.save(\"train_loss.npy\",{\"training_loss\":tr_loss})"
   ]
  },
  {
   "cell_type": "code",
   "execution_count": 33,
   "id": "4ba56768",
   "metadata": {
    "execution": {
     "iopub.execute_input": "2021-09-03T07:50:21.772281Z",
     "iopub.status.busy": "2021-09-03T07:50:21.771091Z",
     "iopub.status.idle": "2021-09-03T07:50:21.797604Z",
     "shell.execute_reply": "2021-09-03T07:50:21.799009Z",
     "shell.execute_reply.started": "2021-09-03T06:51:35.936130Z"
    },
    "id": "FrWoEGXZ8cBO",
    "papermill": {
     "duration": 0.162224,
     "end_time": "2021-09-03T07:50:21.799265",
     "exception": false,
     "start_time": "2021-09-03T07:50:21.637041",
     "status": "completed"
    },
    "tags": []
   },
   "outputs": [],
   "source": [
    "df_train[columns[0]] = col1\n",
    "df_train[columns[1]] = col2\n",
    "df_train[columns[2]] = col3\n",
    "df_train[columns[3]] = col4\n",
    "df_train[columns[4]] = col5\n",
    "df_train[columns[5]] = col6\n",
    "df_train[columns[6]] = col7\n",
    "df_train[columns[7]] = col14\n",
    "\n",
    "df_test[columns[0]] = col1\n",
    "df_test[columns[1]] = col8\n",
    "df_test[columns[2]] = col9\n",
    "df_test[columns[3]] = col10\n",
    "df_test[columns[4]] = col11\n",
    "df_test[columns[5]] = col12\n",
    "df_test[columns[6]] = col13\n",
    "df_test[columns[7]] = col15"
   ]
  },
  {
   "cell_type": "code",
   "execution_count": 34,
   "id": "426e1195",
   "metadata": {
    "execution": {
     "iopub.execute_input": "2021-09-03T07:50:22.046526Z",
     "iopub.status.busy": "2021-09-03T07:50:22.041648Z",
     "iopub.status.idle": "2021-09-03T07:50:22.072838Z",
     "shell.execute_reply": "2021-09-03T07:50:22.074318Z",
     "shell.execute_reply.started": "2021-09-03T06:51:35.955883Z"
    },
    "id": "RGJoMFcK8eTe",
    "outputId": "cc5796ba-3e97-427e-8d8e-19adff2822c2",
    "papermill": {
     "duration": 0.157454,
     "end_time": "2021-09-03T07:50:22.074611",
     "exception": false,
     "start_time": "2021-09-03T07:50:21.917157",
     "status": "completed"
    },
    "tags": []
   },
   "outputs": [
    {
     "data": {
      "text/html": [
       "<div>\n",
       "<style scoped>\n",
       "    .dataframe tbody tr th:only-of-type {\n",
       "        vertical-align: middle;\n",
       "    }\n",
       "\n",
       "    .dataframe tbody tr th {\n",
       "        vertical-align: top;\n",
       "    }\n",
       "\n",
       "    .dataframe thead th {\n",
       "        text-align: right;\n",
       "    }\n",
       "</style>\n",
       "<table border=\"1\" class=\"dataframe\">\n",
       "  <thead>\n",
       "    <tr style=\"text-align: right;\">\n",
       "      <th></th>\n",
       "      <th>epochs</th>\n",
       "      <th>argmax &gt; 0.5</th>\n",
       "      <th>argmax &lt; 0.5</th>\n",
       "      <th>focus_true_pred_true</th>\n",
       "      <th>focus_false_pred_true</th>\n",
       "      <th>focus_true_pred_false</th>\n",
       "      <th>focus_false_pred_false</th>\n",
       "      <th>sparse_val</th>\n",
       "    </tr>\n",
       "  </thead>\n",
       "  <tbody>\n",
       "    <tr>\n",
       "      <th>0</th>\n",
       "      <td>0</td>\n",
       "      <td>456</td>\n",
       "      <td>29544</td>\n",
       "      <td>2334</td>\n",
       "      <td>7797</td>\n",
       "      <td>3157</td>\n",
       "      <td>16712</td>\n",
       "      <td>265373</td>\n",
       "    </tr>\n",
       "    <tr>\n",
       "      <th>1</th>\n",
       "      <td>1</td>\n",
       "      <td>12713</td>\n",
       "      <td>17287</td>\n",
       "      <td>4643</td>\n",
       "      <td>8032</td>\n",
       "      <td>3763</td>\n",
       "      <td>13562</td>\n",
       "      <td>209430</td>\n",
       "    </tr>\n",
       "    <tr>\n",
       "      <th>2</th>\n",
       "      <td>2</td>\n",
       "      <td>12023</td>\n",
       "      <td>17977</td>\n",
       "      <td>10991</td>\n",
       "      <td>7099</td>\n",
       "      <td>3478</td>\n",
       "      <td>8432</td>\n",
       "      <td>230605</td>\n",
       "    </tr>\n",
       "    <tr>\n",
       "      <th>3</th>\n",
       "      <td>3</td>\n",
       "      <td>16779</td>\n",
       "      <td>13221</td>\n",
       "      <td>15773</td>\n",
       "      <td>6791</td>\n",
       "      <td>2504</td>\n",
       "      <td>4932</td>\n",
       "      <td>197315</td>\n",
       "    </tr>\n",
       "    <tr>\n",
       "      <th>4</th>\n",
       "      <td>4</td>\n",
       "      <td>20123</td>\n",
       "      <td>9877</td>\n",
       "      <td>19049</td>\n",
       "      <td>5665</td>\n",
       "      <td>2026</td>\n",
       "      <td>3260</td>\n",
       "      <td>181087</td>\n",
       "    </tr>\n",
       "    <tr>\n",
       "      <th>5</th>\n",
       "      <td>5</td>\n",
       "      <td>21684</td>\n",
       "      <td>8316</td>\n",
       "      <td>21187</td>\n",
       "      <td>5010</td>\n",
       "      <td>1491</td>\n",
       "      <td>2312</td>\n",
       "      <td>170050</td>\n",
       "    </tr>\n",
       "    <tr>\n",
       "      <th>6</th>\n",
       "      <td>6</td>\n",
       "      <td>23080</td>\n",
       "      <td>6920</td>\n",
       "      <td>22431</td>\n",
       "      <td>4640</td>\n",
       "      <td>1188</td>\n",
       "      <td>1741</td>\n",
       "      <td>151569</td>\n",
       "    </tr>\n",
       "    <tr>\n",
       "      <th>7</th>\n",
       "      <td>7</td>\n",
       "      <td>23681</td>\n",
       "      <td>6319</td>\n",
       "      <td>23214</td>\n",
       "      <td>4514</td>\n",
       "      <td>970</td>\n",
       "      <td>1302</td>\n",
       "      <td>147131</td>\n",
       "    </tr>\n",
       "    <tr>\n",
       "      <th>8</th>\n",
       "      <td>8</td>\n",
       "      <td>24222</td>\n",
       "      <td>5778</td>\n",
       "      <td>23851</td>\n",
       "      <td>4445</td>\n",
       "      <td>743</td>\n",
       "      <td>961</td>\n",
       "      <td>141208</td>\n",
       "    </tr>\n",
       "    <tr>\n",
       "      <th>9</th>\n",
       "      <td>9</td>\n",
       "      <td>24933</td>\n",
       "      <td>5067</td>\n",
       "      <td>24553</td>\n",
       "      <td>4120</td>\n",
       "      <td>571</td>\n",
       "      <td>756</td>\n",
       "      <td>128558</td>\n",
       "    </tr>\n",
       "    <tr>\n",
       "      <th>10</th>\n",
       "      <td>10</td>\n",
       "      <td>25343</td>\n",
       "      <td>4657</td>\n",
       "      <td>25002</td>\n",
       "      <td>3895</td>\n",
       "      <td>472</td>\n",
       "      <td>631</td>\n",
       "      <td>124342</td>\n",
       "    </tr>\n",
       "    <tr>\n",
       "      <th>11</th>\n",
       "      <td>11</td>\n",
       "      <td>24988</td>\n",
       "      <td>5012</td>\n",
       "      <td>25166</td>\n",
       "      <td>3916</td>\n",
       "      <td>382</td>\n",
       "      <td>536</td>\n",
       "      <td>132428</td>\n",
       "    </tr>\n",
       "    <tr>\n",
       "      <th>12</th>\n",
       "      <td>12</td>\n",
       "      <td>25401</td>\n",
       "      <td>4599</td>\n",
       "      <td>25454</td>\n",
       "      <td>3755</td>\n",
       "      <td>327</td>\n",
       "      <td>464</td>\n",
       "      <td>123019</td>\n",
       "    </tr>\n",
       "    <tr>\n",
       "      <th>13</th>\n",
       "      <td>13</td>\n",
       "      <td>25293</td>\n",
       "      <td>4707</td>\n",
       "      <td>25556</td>\n",
       "      <td>3723</td>\n",
       "      <td>298</td>\n",
       "      <td>423</td>\n",
       "      <td>127455</td>\n",
       "    </tr>\n",
       "    <tr>\n",
       "      <th>14</th>\n",
       "      <td>14</td>\n",
       "      <td>25573</td>\n",
       "      <td>4427</td>\n",
       "      <td>25893</td>\n",
       "      <td>3511</td>\n",
       "      <td>233</td>\n",
       "      <td>363</td>\n",
       "      <td>124503</td>\n",
       "    </tr>\n",
       "    <tr>\n",
       "      <th>15</th>\n",
       "      <td>15</td>\n",
       "      <td>25353</td>\n",
       "      <td>4647</td>\n",
       "      <td>25944</td>\n",
       "      <td>3497</td>\n",
       "      <td>227</td>\n",
       "      <td>332</td>\n",
       "      <td>127067</td>\n",
       "    </tr>\n",
       "    <tr>\n",
       "      <th>16</th>\n",
       "      <td>16</td>\n",
       "      <td>25156</td>\n",
       "      <td>4844</td>\n",
       "      <td>25854</td>\n",
       "      <td>3614</td>\n",
       "      <td>215</td>\n",
       "      <td>317</td>\n",
       "      <td>128887</td>\n",
       "    </tr>\n",
       "    <tr>\n",
       "      <th>17</th>\n",
       "      <td>17</td>\n",
       "      <td>25445</td>\n",
       "      <td>4555</td>\n",
       "      <td>25950</td>\n",
       "      <td>3635</td>\n",
       "      <td>171</td>\n",
       "      <td>244</td>\n",
       "      <td>122440</td>\n",
       "    </tr>\n",
       "  </tbody>\n",
       "</table>\n",
       "</div>"
      ],
      "text/plain": [
       "    epochs  argmax > 0.5  argmax < 0.5  focus_true_pred_true  \\\n",
       "0        0           456         29544                  2334   \n",
       "1        1         12713         17287                  4643   \n",
       "2        2         12023         17977                 10991   \n",
       "3        3         16779         13221                 15773   \n",
       "4        4         20123          9877                 19049   \n",
       "5        5         21684          8316                 21187   \n",
       "6        6         23080          6920                 22431   \n",
       "7        7         23681          6319                 23214   \n",
       "8        8         24222          5778                 23851   \n",
       "9        9         24933          5067                 24553   \n",
       "10      10         25343          4657                 25002   \n",
       "11      11         24988          5012                 25166   \n",
       "12      12         25401          4599                 25454   \n",
       "13      13         25293          4707                 25556   \n",
       "14      14         25573          4427                 25893   \n",
       "15      15         25353          4647                 25944   \n",
       "16      16         25156          4844                 25854   \n",
       "17      17         25445          4555                 25950   \n",
       "\n",
       "    focus_false_pred_true  focus_true_pred_false  focus_false_pred_false  \\\n",
       "0                    7797                   3157                   16712   \n",
       "1                    8032                   3763                   13562   \n",
       "2                    7099                   3478                    8432   \n",
       "3                    6791                   2504                    4932   \n",
       "4                    5665                   2026                    3260   \n",
       "5                    5010                   1491                    2312   \n",
       "6                    4640                   1188                    1741   \n",
       "7                    4514                    970                    1302   \n",
       "8                    4445                    743                     961   \n",
       "9                    4120                    571                     756   \n",
       "10                   3895                    472                     631   \n",
       "11                   3916                    382                     536   \n",
       "12                   3755                    327                     464   \n",
       "13                   3723                    298                     423   \n",
       "14                   3511                    233                     363   \n",
       "15                   3497                    227                     332   \n",
       "16                   3614                    215                     317   \n",
       "17                   3635                    171                     244   \n",
       "\n",
       "    sparse_val  \n",
       "0       265373  \n",
       "1       209430  \n",
       "2       230605  \n",
       "3       197315  \n",
       "4       181087  \n",
       "5       170050  \n",
       "6       151569  \n",
       "7       147131  \n",
       "8       141208  \n",
       "9       128558  \n",
       "10      124342  \n",
       "11      132428  \n",
       "12      123019  \n",
       "13      127455  \n",
       "14      124503  \n",
       "15      127067  \n",
       "16      128887  \n",
       "17      122440  "
      ]
     },
     "execution_count": 34,
     "metadata": {},
     "output_type": "execute_result"
    }
   ],
   "source": [
    "df_train"
   ]
  },
  {
   "cell_type": "code",
   "execution_count": 35,
   "id": "bc109a08",
   "metadata": {
    "execution": {
     "iopub.execute_input": "2021-09-03T07:50:22.316303Z",
     "iopub.status.busy": "2021-09-03T07:50:22.315118Z",
     "iopub.status.idle": "2021-09-03T07:50:22.323748Z",
     "shell.execute_reply": "2021-09-03T07:50:22.323142Z",
     "shell.execute_reply.started": "2021-09-03T06:51:35.977960Z"
    },
    "id": "cqrSQSNemDNp",
    "papermill": {
     "duration": 0.123032,
     "end_time": "2021-09-03T07:50:22.323898",
     "exception": false,
     "start_time": "2021-09-03T07:50:22.200866",
     "status": "completed"
    },
    "tags": []
   },
   "outputs": [],
   "source": [
    "df_train.to_csv(path+\"_train.csv\",index=False)"
   ]
  },
  {
   "cell_type": "code",
   "execution_count": 36,
   "id": "a5bc2e78",
   "metadata": {
    "execution": {
     "iopub.execute_input": "2021-09-03T07:50:22.487302Z",
     "iopub.status.busy": "2021-09-03T07:50:22.479924Z",
     "iopub.status.idle": "2021-09-03T07:50:22.674781Z",
     "shell.execute_reply": "2021-09-03T07:50:22.675437Z",
     "shell.execute_reply.started": "2021-09-03T06:51:35.987463Z"
    },
    "id": "Ei9HVQBZ8gn4",
    "outputId": "49460fbd-6e36-4fa5-dd2d-7d7937fb5089",
    "papermill": {
     "duration": 0.285166,
     "end_time": "2021-09-03T07:50:22.675640",
     "exception": false,
     "start_time": "2021-09-03T07:50:22.390474",
     "status": "completed"
    },
    "tags": []
   },
   "outputs": [
    {
     "data": {
      "image/png": "[encoded data removed]",
      "text/plain": [
       "<Figure size 432x288 with 1 Axes>"
      ]
     },
     "metadata": {
      "needs_background": "light"
     },
     "output_type": "display_data"
    }
   ],
   "source": [
    "# plt.figure(12,12)\n",
    "plt.plot(col1,col2, label='argmax > 0.5')\n",
    "plt.plot(col1,col3, label='argmax < 0.5')\n",
    "\n",
    "plt.legend(loc='center left', bbox_to_anchor=(1, 0.5))\n",
    "plt.xlabel(\"epochs\")\n",
    "plt.ylabel(\"training data\")\n",
    "plt.title(\"On Training set\")\n",
    "plt.show()\n",
    "\n"
   ]
  },
  {
   "cell_type": "code",
   "execution_count": 37,
   "id": "2b2cdf51",
   "metadata": {
    "execution": {
     "iopub.execute_input": "2021-09-03T07:50:22.839959Z",
     "iopub.status.busy": "2021-09-03T07:50:22.838756Z",
     "iopub.status.idle": "2021-09-03T07:50:23.535273Z",
     "shell.execute_reply": "2021-09-03T07:50:23.535831Z",
     "shell.execute_reply.started": "2021-09-03T06:51:36.160410Z"
    },
    "id": "RcScxsHnuBR5",
    "outputId": "1c5544c8-2475-40f2-fc71-54d061b7d133",
    "papermill": {
     "duration": 0.7933,
     "end_time": "2021-09-03T07:50:23.536028",
     "exception": false,
     "start_time": "2021-09-03T07:50:22.742728",
     "status": "completed"
    },
    "tags": []
   },
   "outputs": [
    {
     "data": {
      "image/png": "[encoded data removed]",
      "text/plain": [
       "<Figure size 432x360 with 1 Axes>"
      ]
     },
     "metadata": {
      "needs_background": "light"
     },
     "output_type": "display_data"
    }
   ],
   "source": [
    "plt.figure(figsize=(6,5))\n",
    "plt.plot(col1,np.array(col4)/300, label =\"FTPT \")\n",
    "plt.plot(col1,np.array(col5)/300, label =\"FFPT \")\n",
    "plt.plot(col1,np.array(col6)/300, label =\"FTPF \")\n",
    "plt.plot(col1,np.array(col7)/300, label =\"FFPF \")\n",
    "plt.title(\"On Training set\")\n",
    "#plt.legend(loc='center left', bbox_to_anchor=(1, 0.5))\n",
    "plt.xlabel(\"epochs\", fontsize=14, fontweight = 'bold')\n",
    "plt.ylabel(\"percentage train data\", fontsize=14, fontweight = 'bold')\n",
    "# plt.xlabel(\"epochs\")\n",
    "# plt.ylabel(\"training data\")\n",
    "plt.legend()\n",
    "\n",
    "plt.savefig(path + \"_train.png\",bbox_inches=\"tight\")\n",
    "plt.savefig(path + \"_train.pdf\",bbox_inches=\"tight\")\n",
    "plt.grid()\n",
    "plt.show()"
   ]
  },
  {
   "cell_type": "code",
   "execution_count": 38,
   "id": "15c997d9",
   "metadata": {
    "execution": {
     "iopub.execute_input": "2021-09-03T07:50:23.713428Z",
     "iopub.status.busy": "2021-09-03T07:50:23.712056Z",
     "iopub.status.idle": "2021-09-03T07:50:24.193400Z",
     "shell.execute_reply": "2021-09-03T07:50:24.193941Z",
     "shell.execute_reply.started": "2021-09-03T06:51:36.715504Z"
    },
    "id": "eyHnBFJxuBR5",
    "outputId": "df42ed8f-f4dd-4160-9e03-8ceaedc7b9ab",
    "papermill": {
     "duration": 0.590543,
     "end_time": "2021-09-03T07:50:24.194196",
     "exception": false,
     "start_time": "2021-09-03T07:50:23.603653",
     "status": "completed"
    },
    "tags": []
   },
   "outputs": [
    {
     "data": {
      "image/png": "[encoded data removed]",
      "text/plain": [
       "<Figure size 432x360 with 1 Axes>"
      ]
     },
     "metadata": {
      "needs_background": "light"
     },
     "output_type": "display_data"
    }
   ],
   "source": [
    "plt.figure(figsize=(6,5))\n",
    "plt.plot(col1,np.array(col14)/30000, label =\"sparsity_val\")\n",
    "\n",
    "plt.title(\"On Training set\")\n",
    "#plt.legend(loc='center left', bbox_to_anchor=(1, 0.5))\n",
    "plt.xlabel(\"epochs\", fontsize=14, fontweight = 'bold')\n",
    "plt.ylabel(\"average sparsity value\", fontsize=14, fontweight = 'bold')\n",
    "# plt.xlabel(\"epochs\")\n",
    "# plt.ylabel(\"sparsity_value\")\n",
    "\n",
    "plt.savefig(path + \"sparsity_train.png\",bbox_inches=\"tight\")\n",
    "plt.savefig(path + \"sparsity_train.pdf\",bbox_inches=\"tight\")\n",
    "plt.grid()\n",
    "plt.show()"
   ]
  },
  {
   "cell_type": "code",
   "execution_count": 39,
   "id": "40fa00db",
   "metadata": {
    "execution": {
     "iopub.execute_input": "2021-09-03T07:50:24.337471Z",
     "iopub.status.busy": "2021-09-03T07:50:24.336004Z",
     "iopub.status.idle": "2021-09-03T07:50:24.355248Z",
     "shell.execute_reply": "2021-09-03T07:50:24.354598Z",
     "shell.execute_reply.started": "2021-09-03T06:51:37.099639Z"
    },
    "id": "_QKYVO8i8ivA",
    "outputId": "0d8b1ea0-efd0-4bdd-84a7-201356e5f823",
    "papermill": {
     "duration": 0.093873,
     "end_time": "2021-09-03T07:50:24.355413",
     "exception": false,
     "start_time": "2021-09-03T07:50:24.261540",
     "status": "completed"
    },
    "tags": []
   },
   "outputs": [
    {
     "data": {
      "text/html": [
       "<div>\n",
       "<style scoped>\n",
       "    .dataframe tbody tr th:only-of-type {\n",
       "        vertical-align: middle;\n",
       "    }\n",
       "\n",
       "    .dataframe tbody tr th {\n",
       "        vertical-align: top;\n",
       "    }\n",
       "\n",
       "    .dataframe thead th {\n",
       "        text-align: right;\n",
       "    }\n",
       "</style>\n",
       "<table border=\"1\" class=\"dataframe\">\n",
       "  <thead>\n",
       "    <tr style=\"text-align: right;\">\n",
       "      <th></th>\n",
       "      <th>epochs</th>\n",
       "      <th>argmax &gt; 0.5</th>\n",
       "      <th>argmax &lt; 0.5</th>\n",
       "      <th>focus_true_pred_true</th>\n",
       "      <th>focus_false_pred_true</th>\n",
       "      <th>focus_true_pred_false</th>\n",
       "      <th>focus_false_pred_false</th>\n",
       "      <th>sparse_val</th>\n",
       "    </tr>\n",
       "  </thead>\n",
       "  <tbody>\n",
       "    <tr>\n",
       "      <th>0</th>\n",
       "      <td>0</td>\n",
       "      <td>169</td>\n",
       "      <td>9831</td>\n",
       "      <td>775</td>\n",
       "      <td>2581</td>\n",
       "      <td>1054</td>\n",
       "      <td>5590</td>\n",
       "      <td>88481</td>\n",
       "    </tr>\n",
       "    <tr>\n",
       "      <th>1</th>\n",
       "      <td>1</td>\n",
       "      <td>2964</td>\n",
       "      <td>7036</td>\n",
       "      <td>2959</td>\n",
       "      <td>2474</td>\n",
       "      <td>1352</td>\n",
       "      <td>3215</td>\n",
       "      <td>85796</td>\n",
       "    </tr>\n",
       "    <tr>\n",
       "      <th>2</th>\n",
       "      <td>2</td>\n",
       "      <td>5413</td>\n",
       "      <td>4587</td>\n",
       "      <td>4482</td>\n",
       "      <td>2154</td>\n",
       "      <td>703</td>\n",
       "      <td>2661</td>\n",
       "      <td>65020</td>\n",
       "    </tr>\n",
       "    <tr>\n",
       "      <th>3</th>\n",
       "      <td>3</td>\n",
       "      <td>6680</td>\n",
       "      <td>3320</td>\n",
       "      <td>6081</td>\n",
       "      <td>1990</td>\n",
       "      <td>728</td>\n",
       "      <td>1201</td>\n",
       "      <td>57255</td>\n",
       "    </tr>\n",
       "    <tr>\n",
       "      <th>4</th>\n",
       "      <td>4</td>\n",
       "      <td>7741</td>\n",
       "      <td>2259</td>\n",
       "      <td>6607</td>\n",
       "      <td>1818</td>\n",
       "      <td>653</td>\n",
       "      <td>922</td>\n",
       "      <td>48672</td>\n",
       "    </tr>\n",
       "    <tr>\n",
       "      <th>5</th>\n",
       "      <td>5</td>\n",
       "      <td>6950</td>\n",
       "      <td>3050</td>\n",
       "      <td>7246</td>\n",
       "      <td>1487</td>\n",
       "      <td>635</td>\n",
       "      <td>632</td>\n",
       "      <td>59737</td>\n",
       "    </tr>\n",
       "    <tr>\n",
       "      <th>6</th>\n",
       "      <td>6</td>\n",
       "      <td>7840</td>\n",
       "      <td>2160</td>\n",
       "      <td>7534</td>\n",
       "      <td>1432</td>\n",
       "      <td>428</td>\n",
       "      <td>606</td>\n",
       "      <td>48534</td>\n",
       "    </tr>\n",
       "    <tr>\n",
       "      <th>7</th>\n",
       "      <td>7</td>\n",
       "      <td>8093</td>\n",
       "      <td>1907</td>\n",
       "      <td>7802</td>\n",
       "      <td>1335</td>\n",
       "      <td>395</td>\n",
       "      <td>468</td>\n",
       "      <td>47137</td>\n",
       "    </tr>\n",
       "    <tr>\n",
       "      <th>8</th>\n",
       "      <td>8</td>\n",
       "      <td>8108</td>\n",
       "      <td>1892</td>\n",
       "      <td>7991</td>\n",
       "      <td>1209</td>\n",
       "      <td>345</td>\n",
       "      <td>455</td>\n",
       "      <td>45844</td>\n",
       "    </tr>\n",
       "    <tr>\n",
       "      <th>9</th>\n",
       "      <td>9</td>\n",
       "      <td>8262</td>\n",
       "      <td>1738</td>\n",
       "      <td>8074</td>\n",
       "      <td>1199</td>\n",
       "      <td>320</td>\n",
       "      <td>407</td>\n",
       "      <td>43693</td>\n",
       "    </tr>\n",
       "    <tr>\n",
       "      <th>10</th>\n",
       "      <td>10</td>\n",
       "      <td>8144</td>\n",
       "      <td>1856</td>\n",
       "      <td>8222</td>\n",
       "      <td>1107</td>\n",
       "      <td>272</td>\n",
       "      <td>399</td>\n",
       "      <td>48776</td>\n",
       "    </tr>\n",
       "    <tr>\n",
       "      <th>11</th>\n",
       "      <td>11</td>\n",
       "      <td>8543</td>\n",
       "      <td>1457</td>\n",
       "      <td>8342</td>\n",
       "      <td>1083</td>\n",
       "      <td>195</td>\n",
       "      <td>380</td>\n",
       "      <td>40416</td>\n",
       "    </tr>\n",
       "    <tr>\n",
       "      <th>12</th>\n",
       "      <td>12</td>\n",
       "      <td>8535</td>\n",
       "      <td>1465</td>\n",
       "      <td>8275</td>\n",
       "      <td>1151</td>\n",
       "      <td>192</td>\n",
       "      <td>382</td>\n",
       "      <td>38508</td>\n",
       "    </tr>\n",
       "    <tr>\n",
       "      <th>13</th>\n",
       "      <td>13</td>\n",
       "      <td>8787</td>\n",
       "      <td>1213</td>\n",
       "      <td>8469</td>\n",
       "      <td>971</td>\n",
       "      <td>197</td>\n",
       "      <td>363</td>\n",
       "      <td>37517</td>\n",
       "    </tr>\n",
       "    <tr>\n",
       "      <th>14</th>\n",
       "      <td>14</td>\n",
       "      <td>8568</td>\n",
       "      <td>1432</td>\n",
       "      <td>8454</td>\n",
       "      <td>1024</td>\n",
       "      <td>163</td>\n",
       "      <td>359</td>\n",
       "      <td>38799</td>\n",
       "    </tr>\n",
       "    <tr>\n",
       "      <th>15</th>\n",
       "      <td>15</td>\n",
       "      <td>8645</td>\n",
       "      <td>1355</td>\n",
       "      <td>8496</td>\n",
       "      <td>1012</td>\n",
       "      <td>164</td>\n",
       "      <td>328</td>\n",
       "      <td>37068</td>\n",
       "    </tr>\n",
       "    <tr>\n",
       "      <th>16</th>\n",
       "      <td>16</td>\n",
       "      <td>8469</td>\n",
       "      <td>1531</td>\n",
       "      <td>8543</td>\n",
       "      <td>1004</td>\n",
       "      <td>161</td>\n",
       "      <td>292</td>\n",
       "      <td>40806</td>\n",
       "    </tr>\n",
       "    <tr>\n",
       "      <th>17</th>\n",
       "      <td>17</td>\n",
       "      <td>8292</td>\n",
       "      <td>1708</td>\n",
       "      <td>8500</td>\n",
       "      <td>1026</td>\n",
       "      <td>160</td>\n",
       "      <td>314</td>\n",
       "      <td>44076</td>\n",
       "    </tr>\n",
       "  </tbody>\n",
       "</table>\n",
       "</div>"
      ],
      "text/plain": [
       "    epochs  argmax > 0.5  argmax < 0.5  focus_true_pred_true  \\\n",
       "0        0           169          9831                   775   \n",
       "1        1          2964          7036                  2959   \n",
       "2        2          5413          4587                  4482   \n",
       "3        3          6680          3320                  6081   \n",
       "4        4          7741          2259                  6607   \n",
       "5        5          6950          3050                  7246   \n",
       "6        6          7840          2160                  7534   \n",
       "7        7          8093          1907                  7802   \n",
       "8        8          8108          1892                  7991   \n",
       "9        9          8262          1738                  8074   \n",
       "10      10          8144          1856                  8222   \n",
       "11      11          8543          1457                  8342   \n",
       "12      12          8535          1465                  8275   \n",
       "13      13          8787          1213                  8469   \n",
       "14      14          8568          1432                  8454   \n",
       "15      15          8645          1355                  8496   \n",
       "16      16          8469          1531                  8543   \n",
       "17      17          8292          1708                  8500   \n",
       "\n",
       "    focus_false_pred_true  focus_true_pred_false  focus_false_pred_false  \\\n",
       "0                    2581                   1054                    5590   \n",
       "1                    2474                   1352                    3215   \n",
       "2                    2154                    703                    2661   \n",
       "3                    1990                    728                    1201   \n",
       "4                    1818                    653                     922   \n",
       "5                    1487                    635                     632   \n",
       "6                    1432                    428                     606   \n",
       "7                    1335                    395                     468   \n",
       "8                    1209                    345                     455   \n",
       "9                    1199                    320                     407   \n",
       "10                   1107                    272                     399   \n",
       "11                   1083                    195                     380   \n",
       "12                   1151                    192                     382   \n",
       "13                    971                    197                     363   \n",
       "14                   1024                    163                     359   \n",
       "15                   1012                    164                     328   \n",
       "16                   1004                    161                     292   \n",
       "17                   1026                    160                     314   \n",
       "\n",
       "    sparse_val  \n",
       "0        88481  \n",
       "1        85796  \n",
       "2        65020  \n",
       "3        57255  \n",
       "4        48672  \n",
       "5        59737  \n",
       "6        48534  \n",
       "7        47137  \n",
       "8        45844  \n",
       "9        43693  \n",
       "10       48776  \n",
       "11       40416  \n",
       "12       38508  \n",
       "13       37517  \n",
       "14       38799  \n",
       "15       37068  \n",
       "16       40806  \n",
       "17       44076  "
      ]
     },
     "execution_count": 39,
     "metadata": {},
     "output_type": "execute_result"
    }
   ],
   "source": [
    "df_test"
   ]
  },
  {
   "cell_type": "code",
   "execution_count": 40,
   "id": "57ef6322",
   "metadata": {
    "execution": {
     "iopub.execute_input": "2021-09-03T07:50:24.512903Z",
     "iopub.status.busy": "2021-09-03T07:50:24.511649Z",
     "iopub.status.idle": "2021-09-03T07:50:24.515298Z",
     "shell.execute_reply": "2021-09-03T07:50:24.514707Z",
     "shell.execute_reply.started": "2021-09-03T06:51:37.111940Z"
    },
    "id": "0oGTwRsdmOe4",
    "papermill": {
     "duration": 0.085434,
     "end_time": "2021-09-03T07:50:24.515443",
     "exception": false,
     "start_time": "2021-09-03T07:50:24.430009",
     "status": "completed"
    },
    "tags": []
   },
   "outputs": [],
   "source": [
    "df_test.to_csv(path+\"_test.csv\")"
   ]
  },
  {
   "cell_type": "code",
   "execution_count": 41,
   "id": "688be1bb",
   "metadata": {
    "execution": {
     "iopub.execute_input": "2021-09-03T07:50:24.663139Z",
     "iopub.status.busy": "2021-09-03T07:50:24.661855Z",
     "iopub.status.idle": "2021-09-03T07:50:24.863762Z",
     "shell.execute_reply": "2021-09-03T07:50:24.864474Z",
     "shell.execute_reply.started": "2021-09-03T06:51:37.123742Z"
    },
    "id": "aRlpgnjy8k1n",
    "outputId": "1d976d4b-80f4-4c20-c9ed-ad76a972c79f",
    "papermill": {
     "duration": 0.279036,
     "end_time": "2021-09-03T07:50:24.864682",
     "exception": false,
     "start_time": "2021-09-03T07:50:24.585646",
     "status": "completed"
    },
    "tags": []
   },
   "outputs": [
    {
     "data": {
      "image/png": "[encoded data removed]",
      "text/plain": [
       "<Figure size 432x288 with 1 Axes>"
      ]
     },
     "metadata": {
      "needs_background": "light"
     },
     "output_type": "display_data"
    }
   ],
   "source": [
    "# plt.figure(12,12)\n",
    "plt.plot(col1,col8, label='argmax > 0.5')\n",
    "plt.plot(col1,col9, label='argmax < 0.5')\n",
    "\n",
    "plt.legend(loc='center left', bbox_to_anchor=(1, 0.5))\n",
    "plt.xlabel(\"epochs\")\n",
    "plt.ylabel(\"Testing data\")\n",
    "plt.title(\"On Testing set\")\n",
    "plt.show()\n",
    "\n"
   ]
  },
  {
   "cell_type": "code",
   "execution_count": 42,
   "id": "3559b492",
   "metadata": {
    "execution": {
     "iopub.execute_input": "2021-09-03T07:50:25.050064Z",
     "iopub.status.busy": "2021-09-03T07:50:25.048862Z",
     "iopub.status.idle": "2021-09-03T07:50:25.702976Z",
     "shell.execute_reply": "2021-09-03T07:50:25.703726Z",
     "shell.execute_reply.started": "2021-09-03T06:51:37.363172Z"
    },
    "id": "C0XPoT7FuBR6",
    "outputId": "a3f0db62-71a8-498a-d72e-c2afc8d8739b",
    "papermill": {
     "duration": 0.764807,
     "end_time": "2021-09-03T07:50:25.703919",
     "exception": false,
     "start_time": "2021-09-03T07:50:24.939112",
     "status": "completed"
    },
    "tags": []
   },
   "outputs": [
    {
     "data": {
      "image/png": "[encoded data removed]",
      "text/plain": [
       "<Figure size 432x360 with 1 Axes>"
      ]
     },
     "metadata": {
      "needs_background": "light"
     },
     "output_type": "display_data"
    }
   ],
   "source": [
    "plt.figure(figsize=(6,5))\n",
    "plt.plot(col1,np.array(col10)/100, label =\"FTPT \")\n",
    "plt.plot(col1,np.array(col11)/100, label =\"FFPT \")\n",
    "plt.plot(col1,np.array(col12)/100, label =\"FTPF \")\n",
    "plt.plot(col1,np.array(col13)/100, label =\"FFPF \")\n",
    "plt.title(\"On Testing set\")\n",
    "\n",
    "#plt.legend(loc='center left', bbox_to_anchor=(1, 0.5))\n",
    "plt.xlabel(\"epochs\", fontsize=14, fontweight = 'bold')\n",
    "plt.ylabel(\"percentage test data\", fontsize=14, fontweight = 'bold')\n",
    "# plt.xlabel(\"epochs\")\n",
    "# plt.ylabel(\"training data\")\n",
    "plt.legend()\n",
    "\n",
    "#plt.legend(loc='center left', bbox_to_anchor=(1, 0.5))\n",
    "plt.xlabel(\"epochs\")\n",
    "# plt.ylabel(\"Testing data\")\n",
    "plt.savefig(path + \"_test.png\",bbox_inches=\"tight\")\n",
    "plt.savefig(path + \"_test.pdf\",bbox_inches=\"tight\")\n",
    "plt.grid()\n",
    "plt.show()"
   ]
  },
  {
   "cell_type": "code",
   "execution_count": 43,
   "id": "3e0c209a",
   "metadata": {
    "execution": {
     "iopub.execute_input": "2021-09-03T07:50:25.916074Z",
     "iopub.status.busy": "2021-09-03T07:50:25.914990Z",
     "iopub.status.idle": "2021-09-03T07:50:26.456806Z",
     "shell.execute_reply": "2021-09-03T07:50:26.457368Z",
     "shell.execute_reply.started": "2021-09-03T06:51:38.000329Z"
    },
    "id": "5oh4o6NfuBR7",
    "outputId": "7b6b839a-dbc8-4b26-967c-1c2743f16774",
    "papermill": {
     "duration": 0.677501,
     "end_time": "2021-09-03T07:50:26.457547",
     "exception": false,
     "start_time": "2021-09-03T07:50:25.780046",
     "status": "completed"
    },
    "tags": []
   },
   "outputs": [
    {
     "data": {
      "image/png": "[encoded data removed]",
      "text/plain": [
       "<Figure size 432x360 with 1 Axes>"
      ]
     },
     "metadata": {
      "needs_background": "light"
     },
     "output_type": "display_data"
    }
   ],
   "source": [
    "plt.figure(figsize=(6,5))\n",
    "plt.plot(col1,np.array(col15)/10000, label =\"sparsity_val\")\n",
    "\n",
    "plt.title(\"On Testing set\")\n",
    "#plt.legend(loc='center left', bbox_to_anchor=(1, 0.5))\n",
    "plt.xlabel(\"epochs\", fontsize=14, fontweight = 'bold')\n",
    "plt.ylabel(\"average sparsity value\", fontsize=14, fontweight = 'bold')\n",
    "plt.grid()\n",
    "\n",
    "plt.savefig(path + \"sparsity_test.png\",bbox_inches=\"tight\")\n",
    "plt.savefig(path + \"sparsity_test.pdf\",bbox_inches=\"tight\")\n",
    "plt.show()"
   ]
  },
  {
   "cell_type": "code",
   "execution_count": 44,
   "id": "17c22e20",
   "metadata": {
    "execution": {
     "iopub.execute_input": "2021-09-03T07:50:26.638901Z",
     "iopub.status.busy": "2021-09-03T07:50:26.629770Z",
     "iopub.status.idle": "2021-09-03T07:50:54.133152Z",
     "shell.execute_reply": "2021-09-03T07:50:54.132515Z",
     "shell.execute_reply.started": "2021-09-03T06:51:38.418435Z"
    },
    "id": "mSE5PCw2tyNO",
    "outputId": "59f0f59b-8414-43b3-cb1e-aa4b7d8a858b",
    "papermill": {
     "duration": 27.600909,
     "end_time": "2021-09-03T07:50:54.133303",
     "exception": false,
     "start_time": "2021-09-03T07:50:26.532394",
     "status": "completed"
    },
    "tags": []
   },
   "outputs": [
    {
     "name": "stdout",
     "output_type": "stream",
     "text": [
      "Accuracy of the network on the 30000 train images: 99.320000 %\n",
      "total correct 29796\n",
      "total train set images 30000\n",
      "focus_true_pred_true 26607 =============> FTPT : 88.690000 %\n",
      "focus_false_pred_true 3189 =============> FFPT : 10.630000 %\n",
      "focus_true_pred_false 76 =============> FTPF : 0.253333 %\n",
      "focus_false_pred_false 128 =============> FFPF : 0.426667 %\n",
      "Sparsity_Value 128912 =============> AVG Sparsity : 4.297067 \n",
      "argmax_more_than_half ==================>  25276\n",
      "argmax_less_than_half ==================>  4724\n",
      "30000\n",
      "====================================================================================================\n"
     ]
    }
   ],
   "source": [
    "correct = 0\n",
    "total = 0\n",
    "count = 0\n",
    "flag = 1\n",
    "focus_true_pred_true =0\n",
    "focus_false_pred_true =0\n",
    "focus_true_pred_false =0\n",
    "focus_false_pred_false =0\n",
    "\n",
    "argmax_more_than_half = 0\n",
    "argmax_less_than_half =0\n",
    "sparse_val = 0\n",
    "focus_net.eval()\n",
    "classify.eval()\n",
    "with torch.no_grad():\n",
    "  for data in train_loader:\n",
    "    inputs, labels , fore_idx = data\n",
    "    inputs = inputs.double()\n",
    "    inputs, labels , fore_idx = inputs.to(\"cuda\"),labels.to(\"cuda\"), fore_idx.to(\"cuda\")\n",
    "    alphas, avg_images = focus_net(inputs)\n",
    "    outputs = classify(avg_images)\n",
    "\n",
    "    _, predicted = torch.max(outputs.data, 1)\n",
    "    sparse_val += torch.sum(torch.sum(alphas>0.01,dim=1)).item()\n",
    "    for j in range(labels.size(0)):\n",
    "      count += 1\n",
    "      focus = torch.argmax(alphas[j])\n",
    "      if alphas[j][focus] >= 0.5 :\n",
    "        argmax_more_than_half += 1\n",
    "      else:\n",
    "        argmax_less_than_half += 1\n",
    "\n",
    "      if(focus == fore_idx[j] and predicted[j] == labels[j]):\n",
    "          focus_true_pred_true += 1\n",
    "      elif(focus != fore_idx[j] and predicted[j] == labels[j]):\n",
    "        focus_false_pred_true += 1\n",
    "      elif(focus == fore_idx[j] and predicted[j] != labels[j]):\n",
    "        focus_true_pred_false += 1\n",
    "      elif(focus != fore_idx[j] and predicted[j] != labels[j]):\n",
    "        focus_false_pred_false += 1\n",
    "\n",
    "    total += labels.size(0)\n",
    "    correct += (predicted == labels).sum().item()\n",
    "\n",
    "print('Accuracy of the network on the 30000 train images: %f %%' % ( 100 * correct / total))\n",
    "print(\"total correct\", correct)\n",
    "print(\"total train set images\", total)\n",
    "\n",
    "print(\"focus_true_pred_true %d =============> FTPT : %f %%\" % (focus_true_pred_true , (100 * focus_true_pred_true / total) ) )\n",
    "print(\"focus_false_pred_true %d =============> FFPT : %f %%\" % (focus_false_pred_true, (100 * focus_false_pred_true / total) ) )\n",
    "print(\"focus_true_pred_false %d =============> FTPF : %f %%\" %( focus_true_pred_false , ( 100 * focus_true_pred_false / total) ) )\n",
    "print(\"focus_false_pred_false %d =============> FFPF : %f %%\" % (focus_false_pred_false, ( 100 * focus_false_pred_false / total) ) )\n",
    "print(\"Sparsity_Value %d =============> AVG Sparsity : %f \" % (sparse_val,(sparse_val)/total))\n",
    "print(\"argmax_more_than_half ==================> \",argmax_more_than_half)\n",
    "print(\"argmax_less_than_half ==================> \",argmax_less_than_half)\n",
    "print(count)\n",
    "\n",
    "print(\"=\"*100)"
   ]
  },
  {
   "cell_type": "code",
   "execution_count": 45,
   "id": "82cf210f",
   "metadata": {
    "execution": {
     "iopub.execute_input": "2021-09-03T07:50:54.289495Z",
     "iopub.status.busy": "2021-09-03T07:50:54.288124Z",
     "iopub.status.idle": "2021-09-03T07:51:03.481365Z",
     "shell.execute_reply": "2021-09-03T07:51:03.479570Z",
     "shell.execute_reply.started": "2021-09-03T06:52:02.566403Z"
    },
    "id": "40tKBow5t1sF",
    "outputId": "2db3287c-37b4-4655-99b5-8c32e1f4a6c8",
    "papermill": {
     "duration": 9.278598,
     "end_time": "2021-09-03T07:51:03.481563",
     "exception": false,
     "start_time": "2021-09-03T07:50:54.202965",
     "status": "completed"
    },
    "tags": []
   },
   "outputs": [
    {
     "name": "stdout",
     "output_type": "stream",
     "text": [
      "Accuracy of the network on the 10000 test images: 95.260000 %\n",
      "total correct 9526\n",
      "total test set images 10000\n",
      "focus_true_pred_true 8500 =============> FTPT : 85.000000 %\n",
      "focus_false_pred_true 1026 =============> FFPT : 10.260000 %\n",
      "focus_true_pred_false 160 =============> FTPF : 1.600000 %\n",
      "focus_false_pred_false 314 =============> FFPF : 3.140000 %\n",
      "Sparsity_Value 44076 =============> AVG Sparsity : 4.407600 \n",
      "argmax_more_than_half ==================>  8292\n",
      "argmax_less_than_half ==================>  1708\n"
     ]
    }
   ],
   "source": [
    "correct = 0\n",
    "total = 0\n",
    "count = 0\n",
    "flag = 1\n",
    "focus_true_pred_true =0\n",
    "focus_false_pred_true =0\n",
    "focus_true_pred_false =0\n",
    "focus_false_pred_false =0\n",
    "\n",
    "argmax_more_than_half = 0\n",
    "argmax_less_than_half =0\n",
    "sparse_val = 0 \n",
    "focus_net.eval()\n",
    "classify.eval()\n",
    "with torch.no_grad():\n",
    "  for data in test_loader:\n",
    "    inputs, labels , fore_idx = data\n",
    "    inputs = inputs.double()\n",
    "    inputs, labels , fore_idx = inputs.to(\"cuda\"),labels.to(\"cuda\"), fore_idx.to(\"cuda\")\n",
    "    alphas, avg_images = focus_net(inputs)\n",
    "    outputs = classify(avg_images)\n",
    "\n",
    "    _, predicted = torch.max(outputs.data, 1)\n",
    "    sparse_val += torch.sum(torch.sum(alphas>0.01,dim=1)).item()\n",
    "    for j in range(labels.size(0)):\n",
    "      focus = torch.argmax(alphas[j])\n",
    "      if alphas[j][focus] >= 0.5 :\n",
    "        argmax_more_than_half += 1\n",
    "      else:\n",
    "        argmax_less_than_half += 1\n",
    "\n",
    "      if(focus == fore_idx[j] and predicted[j] == labels[j]):\n",
    "          focus_true_pred_true += 1\n",
    "      elif(focus != fore_idx[j] and predicted[j] == labels[j]):\n",
    "        focus_false_pred_true += 1\n",
    "      elif(focus == fore_idx[j] and predicted[j] != labels[j]):\n",
    "        focus_true_pred_false += 1\n",
    "      elif(focus != fore_idx[j] and predicted[j] != labels[j]):\n",
    "        focus_false_pred_false += 1\n",
    "\n",
    "    total += labels.size(0)\n",
    "    correct += (predicted == labels).sum().item()\n",
    "\n",
    "print('Accuracy of the network on the 10000 test images: %f %%' % (\n",
    "    100 * correct / total))\n",
    "print(\"total correct\", correct)\n",
    "print(\"total test set images\", total)\n",
    "\n",
    "print(\"focus_true_pred_true %d =============> FTPT : %f %%\" % (focus_true_pred_true , (100 * focus_true_pred_true / total) ) )\n",
    "print(\"focus_false_pred_true %d =============> FFPT : %f %%\" % (focus_false_pred_true, (100 * focus_false_pred_true / total) ) )\n",
    "print(\"focus_true_pred_false %d =============> FTPF : %f %%\" %( focus_true_pred_false , ( 100 * focus_true_pred_false / total) ) )\n",
    "print(\"focus_false_pred_false %d =============> FFPF : %f %%\" % (focus_false_pred_false, ( 100 * focus_false_pred_false / total) ) )\n",
    "print(\"Sparsity_Value %d =============> AVG Sparsity : %f \" % (sparse_val,(sparse_val)/total))\n",
    "\n",
    "print(\"argmax_more_than_half ==================> \",argmax_more_than_half)\n",
    "print(\"argmax_less_than_half ==================> \",argmax_less_than_half)"
   ]
  },
  {
   "cell_type": "code",
   "execution_count": 46,
   "id": "2160f588",
   "metadata": {
    "execution": {
     "iopub.execute_input": "2021-09-03T07:51:03.629128Z",
     "iopub.status.busy": "2021-09-03T07:51:03.628149Z",
     "iopub.status.idle": "2021-09-03T07:51:21.827551Z",
     "shell.execute_reply": "2021-09-03T07:51:21.828310Z",
     "shell.execute_reply.started": "2021-09-03T06:52:10.642975Z"
    },
    "id": "iJEMJnUI9FP2",
    "papermill": {
     "duration": 18.277623,
     "end_time": "2021-09-03T07:51:21.828521",
     "exception": false,
     "start_time": "2021-09-03T07:51:03.550898",
     "status": "completed"
    },
    "tags": []
   },
   "outputs": [
    {
     "name": "stdout",
     "output_type": "stream",
     "text": [
      "Accuracy of the network on the 30000 train images: 99.323333 %\n",
      "total correct 29797\n",
      "total train set images 30000\n"
     ]
    }
   ],
   "source": [
    "correct = 0\n",
    "total = 0\n",
    "focus_net.eval()\n",
    "classify.eval()\n",
    "with torch.no_grad():\n",
    "  for data in train_loader:\n",
    "    inputs, labels , fore_idx = data\n",
    "    inputs = inputs.double()\n",
    "    inputs, labels = inputs.to(\"cuda\"), labels.to(\"cuda\")\n",
    "    alphas, avg_images = focus_net(inputs)\n",
    "    outputs = classify(avg_images)\n",
    "\n",
    "    _, predicted = torch.max(outputs.data, 1)\n",
    "\n",
    "    total += labels.size(0)\n",
    "    correct += (predicted == labels).sum().item()\n",
    "\n",
    "print('Accuracy of the network on the 30000 train images: %f %%' % ( 100 * correct / total))\n",
    "print(\"total correct\", correct)\n",
    "print(\"total train set images\", total)"
   ]
  },
  {
   "cell_type": "code",
   "execution_count": 47,
   "id": "e4b32988",
   "metadata": {
    "execution": {
     "iopub.execute_input": "2021-09-03T07:51:21.982672Z",
     "iopub.status.busy": "2021-09-03T07:51:21.980721Z",
     "iopub.status.idle": "2021-09-03T07:51:28.063171Z",
     "shell.execute_reply": "2021-09-03T07:51:28.064832Z",
     "shell.execute_reply.started": "2021-09-03T06:52:28.802741Z"
    },
    "id": "an7qmNLB-Ilb",
    "papermill": {
     "duration": 6.16471,
     "end_time": "2021-09-03T07:51:28.065187",
     "exception": false,
     "start_time": "2021-09-03T07:51:21.900477",
     "status": "completed"
    },
    "tags": []
   },
   "outputs": [
    {
     "name": "stdout",
     "output_type": "stream",
     "text": [
      "Accuracy of the network on the 10000 test images: 95.260000 %\n",
      "total correct 9526\n",
      "total train set images 10000\n"
     ]
    }
   ],
   "source": [
    "correct = 0\n",
    "total = 0\n",
    "focus_net.eval()\n",
    "classify.eval()\n",
    "with torch.no_grad():\n",
    "  for data in test_loader:\n",
    "    inputs, labels , fore_idx = data\n",
    "    inputs = inputs.double()\n",
    "    inputs, labels = inputs.to(\"cuda\"), labels.to(\"cuda\")\n",
    "    alphas, avg_images = focus_net(inputs)\n",
    "    outputs = classify(avg_images)\n",
    "\n",
    "    _, predicted = torch.max(outputs.data, 1)\n",
    "\n",
    "    total += labels.size(0)\n",
    "    correct += (predicted == labels).sum().item()\n",
    "\n",
    "print('Accuracy of the network on the 10000 test images: %f %%' % ( 100 * correct / total))\n",
    "print(\"total correct\", correct)\n",
    "print(\"total train set images\", total)"
   ]
  },
  {
   "cell_type": "code",
   "execution_count": null,
   "id": "c6a0a578",
   "metadata": {
    "id": "SKwqTXFjuBR_",
    "papermill": {
     "duration": 0.105802,
     "end_time": "2021-09-03T07:51:28.302921",
     "exception": false,
     "start_time": "2021-09-03T07:51:28.197119",
     "status": "completed"
    },
    "tags": []
   },
   "outputs": [],
   "source": []
  }
 ],
 "metadata": {
  "kernelspec": {
   "display_name": "Python 3",
   "language": "python",
   "name": "python3"
  },
  "language_info": {
   "codemirror_mode": {
    "name": "ipython",
    "version": 3
   },
   "file_extension": ".py",
   "mimetype": "text/x-python",
   "name": "python",
   "nbconvert_exporter": "python",
   "pygments_lexer": "ipython3",
   "version": "3.7.10"
  },
  "papermill": {
   "default_parameters": {},
   "duration": 1431.415862,
   "end_time": "2021-09-03T07:51:30.627954",
   "environment_variables": {},
   "exception": null,
   "input_path": "__notebook__.ipynb",
   "output_path": "__notebook__.ipynb",
   "parameters": {},
   "start_time": "2021-09-03T07:27:39.212092",
   "version": "2.3.3"
  },
  "widgets": {
   "application/vnd.jupyter.widget-state+json": {
    "state": {
     "0b1edf2cb59d4f4db4321b1eb0361fb2": {
      "model_module": "@jupyter-widgets/controls",
      "model_module_version": "1.5.0",
      "model_name": "HBoxModel",
      "state": {
       "_dom_classes": [],
       "_model_module": "@jupyter-widgets/controls",
       "_model_module_version": "1.5.0",
       "_model_name": "HBoxModel",
       "_view_count": null,
       "_view_module": "@jupyter-widgets/controls",
       "_view_module_version": "1.5.0",
       "_view_name": "HBoxView",
       "box_style": "",
       "children": [
        "IPY_MODEL_4dd73f87cc5f4fd593f3a8e4e52fdd94",
        "IPY_MODEL_a4853db9e2314043a77d78b6203d1a39",
        "IPY_MODEL_f4573582922d42819a8b10981616d102"
       ],
       "layout": "IPY_MODEL_a6f6c7c0bae34de389123bd0f0028d62"
      }
     },
     "1448bf722957455e84f7dab8d4b000be": {
      "model_module": "@jupyter-widgets/controls",
      "model_module_version": "1.5.0",
      "model_name": "ProgressStyleModel",
      "state": {
       "_model_module": "@jupyter-widgets/controls",
       "_model_module_version": "1.5.0",
       "_model_name": "ProgressStyleModel",
       "_view_count": null,
       "_view_module": "@jupyter-widgets/base",
       "_view_module_version": "1.2.0",
       "_view_name": "StyleView",
       "bar_color": null,
       "description_width": ""
      }
     },
     "4dd73f87cc5f4fd593f3a8e4e52fdd94": {
      "model_module": "@jupyter-widgets/controls",
      "model_module_version": "1.5.0",
      "model_name": "HTMLModel",
      "state": {
       "_dom_classes": [],
       "_model_module": "@jupyter-widgets/controls",
       "_model_module_version": "1.5.0",
       "_model_name": "HTMLModel",
       "_view_count": null,
       "_view_module": "@jupyter-widgets/controls",
       "_view_module_version": "1.5.0",
       "_view_name": "HTMLView",
       "description": "",
       "description_tooltip": null,
       "layout": "IPY_MODEL_a233d56a5bca4ea2b8adf56807c448f5",
       "placeholder": "​",
       "style": "IPY_MODEL_8f26bdb59cfd4779aa11b640d1b9cf87",
       "value": ""
      }
     },
     "8f26bdb59cfd4779aa11b640d1b9cf87": {
      "model_module": "@jupyter-widgets/controls",
      "model_module_version": "1.5.0",
      "model_name": "DescriptionStyleModel",
      "state": {
       "_model_module": "@jupyter-widgets/controls",
       "_model_module_version": "1.5.0",
       "_model_name": "DescriptionStyleModel",
       "_view_count": null,
       "_view_module": "@jupyter-widgets/base",
       "_view_module_version": "1.2.0",
       "_view_name": "StyleView",
       "description_width": ""
      }
     },
     "90e5ab793f40413288da3cfb4dda580d": {
      "model_module": "@jupyter-widgets/base",
      "model_module_version": "1.2.0",
      "model_name": "LayoutModel",
      "state": {
       "_model_module": "@jupyter-widgets/base",
       "_model_module_version": "1.2.0",
       "_model_name": "LayoutModel",
       "_view_count": null,
       "_view_module": "@jupyter-widgets/base",
       "_view_module_version": "1.2.0",
       "_view_name": "LayoutView",
       "align_content": null,
       "align_items": null,
       "align_self": null,
       "border": null,
       "bottom": null,
       "display": null,
       "flex": null,
       "flex_flow": null,
       "grid_area": null,
       "grid_auto_columns": null,
       "grid_auto_flow": null,
       "grid_auto_rows": null,
       "grid_column": null,
       "grid_gap": null,
       "grid_row": null,
       "grid_template_areas": null,
       "grid_template_columns": null,
       "grid_template_rows": null,
       "height": null,
       "justify_content": null,
       "justify_items": null,
       "left": null,
       "margin": null,
       "max_height": null,
       "max_width": null,
       "min_height": null,
       "min_width": null,
       "object_fit": null,
       "object_position": null,
       "order": null,
       "overflow": null,
       "overflow_x": null,
       "overflow_y": null,
       "padding": null,
       "right": null,
       "top": null,
       "visibility": null,
       "width": null
      }
     },
     "a233d56a5bca4ea2b8adf56807c448f5": {
      "model_module": "@jupyter-widgets/base",
      "model_module_version": "1.2.0",
      "model_name": "LayoutModel",
      "state": {
       "_model_module": "@jupyter-widgets/base",
       "_model_module_version": "1.2.0",
       "_model_name": "LayoutModel",
       "_view_count": null,
       "_view_module": "@jupyter-widgets/base",
       "_view_module_version": "1.2.0",
       "_view_name": "LayoutView",
       "align_content": null,
       "align_items": null,
       "align_self": null,
       "border": null,
       "bottom": null,
       "display": null,
       "flex": null,
       "flex_flow": null,
       "grid_area": null,
       "grid_auto_columns": null,
       "grid_auto_flow": null,
       "grid_auto_rows": null,
       "grid_column": null,
       "grid_gap": null,
       "grid_row": null,
       "grid_template_areas": null,
       "grid_template_columns": null,
       "grid_template_rows": null,
       "height": null,
       "justify_content": null,
       "justify_items": null,
       "left": null,
       "margin": null,
       "max_height": null,
       "max_width": null,
       "min_height": null,
       "min_width": null,
       "object_fit": null,
       "object_position": null,
       "order": null,
       "overflow": null,
       "overflow_x": null,
       "overflow_y": null,
       "padding": null,
       "right": null,
       "top": null,
       "visibility": null,
       "width": null
      }
     },
     "a4853db9e2314043a77d78b6203d1a39": {
      "model_module": "@jupyter-widgets/controls",
      "model_module_version": "1.5.0",
      "model_name": "FloatProgressModel",
      "state": {
       "_dom_classes": [],
       "_model_module": "@jupyter-widgets/controls",
       "_model_module_version": "1.5.0",
       "_model_name": "FloatProgressModel",
       "_view_count": null,
       "_view_module": "@jupyter-widgets/controls",
       "_view_module_version": "1.5.0",
       "_view_name": "ProgressView",
       "bar_style": "info",
       "description": "",
       "description_tooltip": null,
       "layout": "IPY_MODEL_c3ff13f92074466f93f487b5d9037c32",
       "max": 1.0,
       "min": 0.0,
       "orientation": "horizontal",
       "style": "IPY_MODEL_1448bf722957455e84f7dab8d4b000be",
       "value": 1.0
      }
     },
     "a6f6c7c0bae34de389123bd0f0028d62": {
      "model_module": "@jupyter-widgets/base",
      "model_module_version": "1.2.0",
      "model_name": "LayoutModel",
      "state": {
       "_model_module": "@jupyter-widgets/base",
       "_model_module_version": "1.2.0",
       "_model_name": "LayoutModel",
       "_view_count": null,
       "_view_module": "@jupyter-widgets/base",
       "_view_module_version": "1.2.0",
       "_view_name": "LayoutView",
       "align_content": null,
       "align_items": null,
       "align_self": null,
       "border": null,
       "bottom": null,
       "display": null,
       "flex": null,
       "flex_flow": null,
       "grid_area": null,
       "grid_auto_columns": null,
       "grid_auto_flow": null,
       "grid_auto_rows": null,
       "grid_column": null,
       "grid_gap": null,
       "grid_row": null,
       "grid_template_areas": null,
       "grid_template_columns": null,
       "grid_template_rows": null,
       "height": null,
       "justify_content": null,
       "justify_items": null,
       "left": null,
       "margin": null,
       "max_height": null,
       "max_width": null,
       "min_height": null,
       "min_width": null,
       "object_fit": null,
       "object_position": null,
       "order": null,
       "overflow": null,
       "overflow_x": null,
       "overflow_y": null,
       "padding": null,
       "right": null,
       "top": null,
       "visibility": null,
       "width": null
      }
     },
     "b5860649a15c46c1a069d3be9d9f046a": {
      "model_module": "@jupyter-widgets/controls",
      "model_module_version": "1.5.0",
      "model_name": "DescriptionStyleModel",
      "state": {
       "_model_module": "@jupyter-widgets/controls",
       "_model_module_version": "1.5.0",
       "_model_name": "DescriptionStyleModel",
       "_view_count": null,
       "_view_module": "@jupyter-widgets/base",
       "_view_module_version": "1.2.0",
       "_view_name": "StyleView",
       "description_width": ""
      }
     },
     "c3ff13f92074466f93f487b5d9037c32": {
      "model_module": "@jupyter-widgets/base",
      "model_module_version": "1.2.0",
      "model_name": "LayoutModel",
      "state": {
       "_model_module": "@jupyter-widgets/base",
       "_model_module_version": "1.2.0",
       "_model_name": "LayoutModel",
       "_view_count": null,
       "_view_module": "@jupyter-widgets/base",
       "_view_module_version": "1.2.0",
       "_view_name": "LayoutView",
       "align_content": null,
       "align_items": null,
       "align_self": null,
       "border": null,
       "bottom": null,
       "display": null,
       "flex": null,
       "flex_flow": null,
       "grid_area": null,
       "grid_auto_columns": null,
       "grid_auto_flow": null,
       "grid_auto_rows": null,
       "grid_column": null,
       "grid_gap": null,
       "grid_row": null,
       "grid_template_areas": null,
       "grid_template_columns": null,
       "grid_template_rows": null,
       "height": null,
       "justify_content": null,
       "justify_items": null,
       "left": null,
       "margin": null,
       "max_height": null,
       "max_width": null,
       "min_height": null,
       "min_width": null,
       "object_fit": null,
       "object_position": null,
       "order": null,
       "overflow": null,
       "overflow_x": null,
       "overflow_y": null,
       "padding": null,
       "right": null,
       "top": null,
       "visibility": null,
       "width": "20px"
      }
     },
     "f4573582922d42819a8b10981616d102": {
      "model_module": "@jupyter-widgets/controls",
      "model_module_version": "1.5.0",
      "model_name": "HTMLModel",
      "state": {
       "_dom_classes": [],
       "_model_module": "@jupyter-widgets/controls",
       "_model_module_version": "1.5.0",
       "_model_name": "HTMLModel",
       "_view_count": null,
       "_view_module": "@jupyter-widgets/controls",
       "_view_module_version": "1.5.0",
       "_view_name": "HTMLView",
       "description": "",
       "description_tooltip": null,
       "layout": "IPY_MODEL_90e5ab793f40413288da3cfb4dda580d",
       "placeholder": "​",
       "style": "IPY_MODEL_b5860649a15c46c1a069d3be9d9f046a",
       "value": " 170500096/? [00:20&lt;00:00, 33601522.34it/s]"
      }
     }
    },
    "version_major": 2,
    "version_minor": 0
   }
  }
 },
 "nbformat": 4,
 "nbformat_minor": 5
}
