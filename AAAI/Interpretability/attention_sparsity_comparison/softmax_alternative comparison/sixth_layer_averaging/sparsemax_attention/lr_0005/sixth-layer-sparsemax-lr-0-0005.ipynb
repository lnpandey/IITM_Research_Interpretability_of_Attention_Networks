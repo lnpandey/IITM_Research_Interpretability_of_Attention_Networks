{
 "cells": [
  {
   "cell_type": "code",
   "execution_count": 1,
   "id": "0ab9a013",
   "metadata": {
    "execution": {
     "iopub.execute_input": "2021-09-03T04:03:54.745936Z",
     "iopub.status.busy": "2021-09-03T04:03:54.744457Z",
     "iopub.status.idle": "2021-09-03T04:03:54.746906Z",
     "shell.execute_reply": "2021-09-03T04:03:54.746418Z",
     "shell.execute_reply.started": "2021-09-02T17:14:33.195123Z"
    },
    "id": "JSjG64ra4aFu",
    "outputId": "addc1734-5176-4a1c-a637-220f1f24d021",
    "papermill": {
     "duration": 0.041211,
     "end_time": "2021-09-03T04:03:54.747019",
     "exception": false,
     "start_time": "2021-09-03T04:03:54.705808",
     "status": "completed"
    },
    "tags": []
   },
   "outputs": [],
   "source": [
    "# from google.colab import drive\n",
    "# drive.mount('/content/drive')"
   ]
  },
  {
   "cell_type": "code",
   "execution_count": 2,
   "id": "8b53b35a",
   "metadata": {
    "execution": {
     "iopub.execute_input": "2021-09-03T04:03:54.889053Z",
     "iopub.status.busy": "2021-09-03T04:03:54.888466Z",
     "iopub.status.idle": "2021-09-03T04:04:03.050853Z",
     "shell.execute_reply": "2021-09-03T04:04:03.050390Z",
     "shell.execute_reply.started": "2021-09-03T03:44:11.983114Z"
    },
    "papermill": {
     "duration": 8.271925,
     "end_time": "2021-09-03T04:04:03.050979",
     "exception": false,
     "start_time": "2021-09-03T04:03:54.779054",
     "status": "completed"
    },
    "tags": []
   },
   "outputs": [
    {
     "name": "stdout",
     "output_type": "stream",
     "text": [
      "Collecting sparsemax\r\n",
      "  Downloading sparsemax-0.1.9-py2.py3-none-any.whl (5.5 kB)\r\n",
      "Requirement already satisfied: torch in /opt/conda/lib/python3.7/site-packages (from sparsemax) (1.7.0)\r\n",
      "Requirement already satisfied: future in /opt/conda/lib/python3.7/site-packages (from torch->sparsemax) (0.18.2)\r\n",
      "Requirement already satisfied: typing_extensions in /opt/conda/lib/python3.7/site-packages (from torch->sparsemax) (3.7.4.3)\r\n",
      "Requirement already satisfied: dataclasses in /opt/conda/lib/python3.7/site-packages (from torch->sparsemax) (0.6)\r\n",
      "Requirement already satisfied: numpy in /opt/conda/lib/python3.7/site-packages (from torch->sparsemax) (1.19.5)\r\n",
      "Installing collected packages: sparsemax\r\n",
      "Successfully installed sparsemax-0.1.9\r\n",
      "\u001b[33mWARNING: Running pip as root will break packages and permissions. You should install packages reliably by using venv: https://pip.pypa.io/warnings/venv\u001b[0m\r\n"
     ]
    }
   ],
   "source": [
    "!pip install sparsemax"
   ]
  },
  {
   "cell_type": "code",
   "execution_count": 3,
   "id": "f7d4b990",
   "metadata": {
    "execution": {
     "iopub.execute_input": "2021-09-03T04:04:03.127795Z",
     "iopub.status.busy": "2021-09-03T04:04:03.126882Z",
     "iopub.status.idle": "2021-09-03T04:04:03.744682Z",
     "shell.execute_reply": "2021-09-03T04:04:03.744249Z",
     "shell.execute_reply.started": "2021-09-03T03:42:57.687932Z"
    },
    "id": "atwYfdnU1_3W",
    "outputId": "0c7b155f-d0c1-4bd0-c87d-57be34d931d7",
    "papermill": {
     "duration": 0.658481,
     "end_time": "2021-09-03T04:04:03.744818",
     "exception": false,
     "start_time": "2021-09-03T04:04:03.086337",
     "status": "completed"
    },
    "tags": []
   },
   "outputs": [
    {
     "name": "stdout",
     "output_type": "stream",
     "text": [
      "/kaggle/working\r\n"
     ]
    }
   ],
   "source": [
    "# from google.colab import drive\n",
    "# drive.mount('/content/drive')\n",
    "!pwd"
   ]
  },
  {
   "cell_type": "code",
   "execution_count": 4,
   "id": "80246dcd",
   "metadata": {
    "execution": {
     "iopub.execute_input": "2021-09-03T04:04:03.815845Z",
     "iopub.status.busy": "2021-09-03T04:04:03.815089Z",
     "iopub.status.idle": "2021-09-03T04:04:03.817800Z",
     "shell.execute_reply": "2021-09-03T04:04:03.817371Z",
     "shell.execute_reply.started": "2021-09-03T03:52:27.53824Z"
    },
    "id": "Zj9vWd0E2C0t",
    "papermill": {
     "duration": 0.039594,
     "end_time": "2021-09-03T04:04:03.817903",
     "exception": false,
     "start_time": "2021-09-03T04:04:03.778309",
     "status": "completed"
    },
    "tags": []
   },
   "outputs": [],
   "source": [
    "\n",
    "path = '/kaggle/working/run1'"
   ]
  },
  {
   "cell_type": "code",
   "execution_count": 5,
   "id": "1f271465",
   "metadata": {
    "execution": {
     "iopub.execute_input": "2021-09-03T04:04:03.890834Z",
     "iopub.status.busy": "2021-09-03T04:04:03.890027Z",
     "iopub.status.idle": "2021-09-03T04:04:05.172517Z",
     "shell.execute_reply": "2021-09-03T04:04:05.171619Z",
     "shell.execute_reply.started": "2021-09-03T03:46:46.088734Z"
    },
    "id": "V8-7SARDZErK",
    "papermill": {
     "duration": 1.321295,
     "end_time": "2021-09-03T04:04:05.172664",
     "exception": false,
     "start_time": "2021-09-03T04:04:03.851369",
     "status": "completed"
    },
    "tags": []
   },
   "outputs": [],
   "source": [
    "import torch.nn as nn\n",
    "import torch.nn.functional as F\n",
    "import pandas as pd\n",
    "import numpy as np\n",
    "import matplotlib.pyplot as plt\n",
    "import torch\n",
    "import torchvision\n",
    "import torchvision.transforms as transforms\n",
    "from torch.utils.data import Dataset, DataLoader\n",
    "from torchvision import transforms, utils\n",
    "from matplotlib import pyplot as plt\n",
    "import copy\n",
    "\n",
    "from sparsemax import Sparsemax\n",
    "# Ignore warnings\n",
    "import warnings\n",
    "warnings.filterwarnings(\"ignore\")\n",
    "n_seed = 0"
   ]
  },
  {
   "cell_type": "code",
   "execution_count": 6,
   "id": "78769b05",
   "metadata": {
    "execution": {
     "iopub.execute_input": "2021-09-03T04:04:05.245243Z",
     "iopub.status.busy": "2021-09-03T04:04:05.244371Z",
     "iopub.status.idle": "2021-09-03T04:04:05.246899Z",
     "shell.execute_reply": "2021-09-03T04:04:05.246491Z",
     "shell.execute_reply.started": "2021-09-03T03:43:46.177898Z"
    },
    "id": "_rVTn9u9uBRn",
    "papermill": {
     "duration": 0.039837,
     "end_time": "2021-09-03T04:04:05.247008",
     "exception": false,
     "start_time": "2021-09-03T04:04:05.207171",
     "status": "completed"
    },
    "tags": []
   },
   "outputs": [],
   "source": [
    "torch.backends.cudnn.deterministic = True\n",
    "torch.backends.cudnn.benchmark= False"
   ]
  },
  {
   "cell_type": "code",
   "execution_count": 7,
   "id": "c9f95c99",
   "metadata": {
    "execution": {
     "iopub.execute_input": "2021-09-03T04:04:05.319514Z",
     "iopub.status.busy": "2021-09-03T04:04:05.318960Z",
     "iopub.status.idle": "2021-09-03T04:04:12.295171Z",
     "shell.execute_reply": "2021-09-03T04:04:12.294156Z",
     "shell.execute_reply.started": "2021-09-03T03:43:46.848818Z"
    },
    "id": "acRFqJNrZErV",
    "outputId": "8b937572-e8ec-458e-edd8-0ed0170b0fc9",
    "papermill": {
     "duration": 7.014983,
     "end_time": "2021-09-03T04:04:12.295329",
     "exception": false,
     "start_time": "2021-09-03T04:04:05.280346",
     "status": "completed"
    },
    "tags": []
   },
   "outputs": [
    {
     "name": "stdout",
     "output_type": "stream",
     "text": [
      "Downloading https://www.cs.toronto.edu/~kriz/cifar-10-python.tar.gz to ./data/cifar-10-python.tar.gz\n"
     ]
    },
    {
     "data": {
      "application/vnd.jupyter.widget-view+json": {
       "model_id": "55f4c60e2e03493e8909ced6af44b1fa",
       "version_major": 2,
       "version_minor": 0
      },
      "text/plain": [
       "0it [00:00, ?it/s]"
      ]
     },
     "metadata": {},
     "output_type": "display_data"
    },
    {
     "name": "stdout",
     "output_type": "stream",
     "text": [
      "Extracting ./data/cifar-10-python.tar.gz to ./data\n",
      "Files already downloaded and verified\n"
     ]
    }
   ],
   "source": [
    "transform = transforms.Compose(\n",
    "    [transforms.ToTensor(),\n",
    "     transforms.Normalize((0.5, 0.5, 0.5), (0.5, 0.5, 0.5))])\n",
    "\n",
    "trainset = torchvision.datasets.CIFAR10(root='./data', train=True, download=True, transform=transform)\n",
    "\n",
    "\n",
    "testset = torchvision.datasets.CIFAR10(root='./data', train=False, download=True, transform=transform)\n"
   ]
  },
  {
   "cell_type": "code",
   "execution_count": 8,
   "id": "2d68dadd",
   "metadata": {
    "execution": {
     "iopub.execute_input": "2021-09-03T04:04:12.375583Z",
     "iopub.status.busy": "2021-09-03T04:04:12.373973Z",
     "iopub.status.idle": "2021-09-03T04:04:12.376317Z",
     "shell.execute_reply": "2021-09-03T04:04:12.376711Z",
     "shell.execute_reply.started": "2021-09-03T03:44:29.4724Z"
    },
    "id": "gh5DXuAV1tp5",
    "papermill": {
     "duration": 0.044799,
     "end_time": "2021-09-03T04:04:12.376852",
     "exception": false,
     "start_time": "2021-09-03T04:04:12.332053",
     "status": "completed"
    },
    "tags": []
   },
   "outputs": [],
   "source": [
    "trainloader = torch.utils.data.DataLoader(trainset, batch_size=10, shuffle=False)\n",
    "testloader = torch.utils.data.DataLoader(testset, batch_size=10, shuffle=False)\n",
    "\n",
    "\n",
    "classes = ('plane', 'car', 'bird', 'cat', 'deer', 'dog', 'frog', 'horse', 'ship', 'truck')\n",
    "\n",
    "foreground_classes = {'plane', 'car', 'bird'}\n",
    "#foreground_classes = {'bird', 'cat', 'deer'}\n",
    "background_classes = {'cat', 'deer', 'dog', 'frog', 'horse', 'ship', 'truck'}\n",
    "#background_classes = {'plane', 'car', 'dog', 'frog', 'horse','ship', 'truck'}\n",
    "\n",
    "fg1,fg2,fg3 = 0,1,2"
   ]
  },
  {
   "cell_type": "code",
   "execution_count": 9,
   "id": "3fa11a25",
   "metadata": {
    "execution": {
     "iopub.execute_input": "2021-09-03T04:04:12.459642Z",
     "iopub.status.busy": "2021-09-03T04:04:12.458956Z",
     "iopub.status.idle": "2021-09-03T04:05:01.502700Z",
     "shell.execute_reply": "2021-09-03T04:05:01.501730Z",
     "shell.execute_reply.started": "2021-09-03T03:44:32.803285Z"
    },
    "id": "V_JUhwCeZErk",
    "papermill": {
     "duration": 49.088722,
     "end_time": "2021-09-03T04:05:01.502860",
     "exception": false,
     "start_time": "2021-09-03T04:04:12.414138",
     "status": "completed"
    },
    "tags": []
   },
   "outputs": [],
   "source": [
    "dataiter = iter(trainloader)\n",
    "background_data=[]\n",
    "background_label=[]\n",
    "foreground_data=[]\n",
    "foreground_label=[]\n",
    "batch_size=10\n",
    "\n",
    "for i in range(5000):\n",
    "  images, labels = dataiter.next()\n",
    "  for j in range(batch_size):\n",
    "    if(classes[labels[j]] in background_classes):\n",
    "      img = images[j].tolist()\n",
    "      background_data.append(img)\n",
    "      background_label.append(labels[j])\n",
    "    else:\n",
    "      img = images[j].tolist()\n",
    "      foreground_data.append(img)\n",
    "      foreground_label.append(labels[j])\n",
    "            \n",
    "foreground_data = torch.tensor(foreground_data)\n",
    "foreground_label = torch.tensor(foreground_label)\n",
    "background_data = torch.tensor(background_data)\n",
    "background_label = torch.tensor(background_label)"
   ]
  },
  {
   "cell_type": "code",
   "execution_count": 10,
   "id": "34a9e3f8",
   "metadata": {
    "execution": {
     "iopub.execute_input": "2021-09-03T04:05:01.578968Z",
     "iopub.status.busy": "2021-09-03T04:05:01.578073Z",
     "iopub.status.idle": "2021-09-03T04:05:01.580656Z",
     "shell.execute_reply": "2021-09-03T04:05:01.580242Z",
     "shell.execute_reply.started": "2021-09-03T03:45:22.711343Z"
    },
    "id": "uW9MkktGysAp",
    "papermill": {
     "duration": 0.042684,
     "end_time": "2021-09-03T04:05:01.580763",
     "exception": false,
     "start_time": "2021-09-03T04:05:01.538079",
     "status": "completed"
    },
    "tags": []
   },
   "outputs": [],
   "source": [
    "def create_mosaic_img(bg_idx,fg_idx,fg): \n",
    "  \"\"\"\n",
    "  bg_idx : list of indexes of background_data[] to be used as background images in mosaic\n",
    "  fg_idx : index of image to be used as foreground image from foreground data\n",
    "  fg : at what position/index foreground image has to be stored out of 0-8\n",
    "  \"\"\"\n",
    "  image_list=[]\n",
    "  j=0\n",
    "  for i in range(9):\n",
    "    if i != fg:\n",
    "      image_list.append(background_data[bg_idx[j]])#.type(\"torch.DoubleTensor\"))\n",
    "      j+=1\n",
    "    else: \n",
    "      image_list.append(foreground_data[fg_idx])#.type(\"torch.DoubleTensor\"))\n",
    "      label = foreground_label[fg_idx]- fg1  # minus fg1 because our fore ground classes are fg1,fg2,fg3 but we have to store it as 0,1,2\n",
    "  #image_list = np.concatenate(image_list ,axis=0)\n",
    "  image_list = torch.stack(image_list) \n",
    "  return image_list,label"
   ]
  },
  {
   "cell_type": "code",
   "execution_count": 11,
   "id": "484b08d5",
   "metadata": {
    "execution": {
     "iopub.execute_input": "2021-09-03T04:05:01.656724Z",
     "iopub.status.busy": "2021-09-03T04:05:01.656034Z",
     "iopub.status.idle": "2021-09-03T04:05:06.691314Z",
     "shell.execute_reply": "2021-09-03T04:05:06.691744Z",
     "shell.execute_reply.started": "2021-09-03T03:45:22.720107Z"
    },
    "id": "lWxkp87fNwnM",
    "papermill": {
     "duration": 5.076865,
     "end_time": "2021-09-03T04:05:06.691904",
     "exception": false,
     "start_time": "2021-09-03T04:05:01.615039",
     "status": "completed"
    },
    "tags": []
   },
   "outputs": [],
   "source": [
    "desired_num = 30000\n",
    "mosaic_list_of_images =[]      # list of mosaic images, each mosaic image is saved as list of 9 images\n",
    "fore_idx =[]                   # list of indexes at which foreground image is present in a mosaic image i.e from 0 to 9               \n",
    "mosaic_label=[]                # label of mosaic image = foreground class present in that mosaic\n",
    "for i in range(desired_num):\n",
    "  np.random.seed(i)\n",
    "  bg_idx = np.random.randint(0,35000,8)\n",
    "  fg_idx = np.random.randint(0,15000)\n",
    "  fg = np.random.randint(0,9)\n",
    "  fore_idx.append(fg)\n",
    "  image_list,label = create_mosaic_img(bg_idx,fg_idx,fg)\n",
    "  mosaic_list_of_images.append(image_list)\n",
    "  mosaic_label.append(label)"
   ]
  },
  {
   "cell_type": "code",
   "execution_count": 12,
   "id": "5f389a3e",
   "metadata": {
    "execution": {
     "iopub.execute_input": "2021-09-03T04:05:06.825089Z",
     "iopub.status.busy": "2021-09-03T04:05:06.824273Z",
     "iopub.status.idle": "2021-09-03T04:05:07.070109Z",
     "shell.execute_reply": "2021-09-03T04:05:07.071169Z",
     "shell.execute_reply.started": "2021-09-03T03:45:27.886881Z"
    },
    "id": "TNMMsJ_auBRs",
    "outputId": "1eaf419e-a155-445a-86e3-e12cb440d065",
    "papermill": {
     "duration": 0.31801,
     "end_time": "2021-09-03T04:05:07.071392",
     "exception": false,
     "start_time": "2021-09-03T04:05:06.753382",
     "status": "completed"
    },
    "tags": []
   },
   "outputs": [
    {
     "data": {
      "text/plain": [
       "<matplotlib.image.AxesImage at 0x7f61d77bf0d0>"
      ]
     },
     "execution_count": 12,
     "metadata": {},
     "output_type": "execute_result"
    },
    {
     "data": {
      "image/png": "[encoded data removed]",
      "text/plain": [
       "<Figure size 432x288 with 1 Axes>"
      ]
     },
     "metadata": {
      "needs_background": "light"
     },
     "output_type": "display_data"
    }
   ],
   "source": [
    "plt.imshow(torch.transpose(mosaic_list_of_images[0][1],dim0= 0,dim1 = 2))"
   ]
  },
  {
   "cell_type": "code",
   "execution_count": 13,
   "id": "fca50d5e",
   "metadata": {
    "execution": {
     "iopub.execute_input": "2021-09-03T04:05:07.195080Z",
     "iopub.status.busy": "2021-09-03T04:05:07.194232Z",
     "iopub.status.idle": "2021-09-03T04:05:07.201563Z",
     "shell.execute_reply": "2021-09-03T04:05:07.200444Z",
     "shell.execute_reply.started": "2021-09-03T03:45:28.054106Z"
    },
    "id": "AJuGak6_zXgx",
    "papermill": {
     "duration": 0.0728,
     "end_time": "2021-09-03T04:05:07.201807",
     "exception": false,
     "start_time": "2021-09-03T04:05:07.129007",
     "status": "completed"
    },
    "tags": []
   },
   "outputs": [],
   "source": [
    "class MosaicDataset(Dataset):\n",
    "  \"\"\"MosaicDataset dataset.\"\"\"\n",
    "\n",
    "  def __init__(self, mosaic_list_of_images, mosaic_label, fore_idx):\n",
    "    \"\"\"\n",
    "      Args:\n",
    "        csv_file (string): Path to the csv file with annotations.\n",
    "        root_dir (string): Directory with all the images.\n",
    "        transform (callable, optional): Optional transform to be applied\n",
    "            on a sample.\n",
    "    \"\"\"\n",
    "    self.mosaic = mosaic_list_of_images\n",
    "    self.label = mosaic_label\n",
    "    self.fore_idx = fore_idx\n",
    "\n",
    "  def __len__(self):\n",
    "    return len(self.label)\n",
    "\n",
    "  def __getitem__(self, idx):\n",
    "    return self.mosaic[idx] , self.label[idx], self.fore_idx[idx]\n",
    "\n",
    "batch = 250\n",
    "msd = MosaicDataset(mosaic_list_of_images, mosaic_label , fore_idx)\n",
    "train_loader = DataLoader( msd,batch_size= batch ,shuffle=True)"
   ]
  },
  {
   "cell_type": "code",
   "execution_count": 14,
   "id": "b89b4a84",
   "metadata": {
    "execution": {
     "iopub.execute_input": "2021-09-03T04:05:07.326918Z",
     "iopub.status.busy": "2021-09-03T04:05:07.326048Z",
     "iopub.status.idle": "2021-09-03T04:05:07.354364Z",
     "shell.execute_reply": "2021-09-03T04:05:07.355341Z",
     "shell.execute_reply.started": "2021-09-03T03:46:51.822126Z"
    },
    "id": "bePj73XKuJpC",
    "papermill": {
     "duration": 0.096639,
     "end_time": "2021-09-03T04:05:07.355545",
     "exception": false,
     "start_time": "2021-09-03T04:05:07.258906",
     "status": "completed"
    },
    "tags": []
   },
   "outputs": [],
   "source": [
    "class Focus(nn.Module):\n",
    "  def __init__(self):\n",
    "    super(Focus, self).__init__()\n",
    "    self.conv1 = nn.Conv2d(in_channels=3, out_channels=32, kernel_size=3, padding=0,bias=False)\n",
    "    self.conv2 = nn.Conv2d(in_channels=32, out_channels=64, kernel_size=3, padding=0,bias=False)\n",
    "    self.conv3 = nn.Conv2d(in_channels=64, out_channels=64, kernel_size=3, padding=0,bias=False)\n",
    "    self.conv4 = nn.Conv2d(in_channels=64, out_channels=128, kernel_size=3, padding=0,bias=False)\n",
    "    self.conv5 = nn.Conv2d(in_channels=128, out_channels=256, kernel_size=3, padding=0,bias=False)\n",
    "    self.conv6 = nn.Conv2d(in_channels=256, out_channels=256, kernel_size=3, padding=1,bias=False)\n",
    "    self.pool = nn.MaxPool2d(kernel_size=2, stride=2)\n",
    "    self.batch_norm1 = nn.BatchNorm2d(32,track_running_stats=False)\n",
    "    self.batch_norm2 = nn.BatchNorm2d(64,track_running_stats=False)\n",
    "    self.batch_norm3 = nn.BatchNorm2d(256,track_running_stats=False)\n",
    "    self.dropout1 = nn.Dropout2d(p=0.05)\n",
    "    self.dropout2 = nn.Dropout2d(p=0.1)\n",
    "    self.fc1 = nn.Linear(256,64,bias=False)\n",
    "    self.fc2 = nn.Linear(64, 32,bias=False)\n",
    "    self.fc3 = nn.Linear(32, 10,bias=False)\n",
    "    self.fc4 = nn.Linear(10, 1,bias=False)\n",
    "\n",
    "    torch.nn.init.xavier_normal_(self.conv1.weight)\n",
    "    torch.nn.init.xavier_normal_(self.conv2.weight)\n",
    "    torch.nn.init.xavier_normal_(self.conv3.weight)\n",
    "    torch.nn.init.xavier_normal_(self.conv4.weight)\n",
    "    torch.nn.init.xavier_normal_(self.conv5.weight)\n",
    "    torch.nn.init.xavier_normal_(self.conv6.weight)\n",
    "\n",
    "    torch.nn.init.xavier_normal_(self.fc1.weight)\n",
    "    torch.nn.init.xavier_normal_(self.fc2.weight)\n",
    "    torch.nn.init.xavier_normal_(self.fc3.weight)\n",
    "    torch.nn.init.xavier_normal_(self.fc4.weight)\n",
    "    self.sparsemax = Sparsemax(dim=-1) \n",
    "    \n",
    "\n",
    "  def forward(self,z):  #y is avg image #z batch of list of 9 images\n",
    "    y = torch.zeros([batch,256, 3,3], dtype=torch.float64)\n",
    "    x = torch.zeros([batch,9],dtype=torch.float64)\n",
    "    ftr = torch.zeros([batch,9,256,3,3])\n",
    "    y = y.to(\"cuda\")\n",
    "    x = x.to(\"cuda\")\n",
    "    ftr = ftr.to(\"cuda\")\n",
    "    \n",
    "    for i in range(9):\n",
    "        out,ftrs = self.helper(z[:,i])\n",
    "        #print(out.shape)\n",
    "        x[:,i] = out\n",
    "        ftr[:,i] = ftrs\n",
    "    x = self.sparsemax(x) \n",
    "\n",
    "    for i in range(9):            \n",
    "      x1 = x[:,i]          \n",
    "      y = y + torch.mul(x1[:,None,None,None],ftr[:,i])\n",
    "\n",
    "    return x, y #alpha, avg_data\n",
    "    \n",
    "  def helper(self, x):\n",
    "\n",
    "    x = self.conv1(x)\n",
    "    x = F.relu(self.batch_norm1(x))\n",
    "\n",
    "    x = (F.relu(self.conv2(x)))\n",
    "    x = self.pool(x)\n",
    "    \n",
    "    x = self.conv3(x)\n",
    "    x = F.relu(self.batch_norm2(x))\n",
    "\n",
    "    x = (F.relu(self.conv4(x)))\n",
    "    x = self.pool(x)\n",
    "    x = self.dropout1(x)\n",
    "\n",
    "    x = self.conv5(x)\n",
    "    \n",
    "    x = F.relu(self.batch_norm3(x))\n",
    "\n",
    "    x = self.conv6(x)\n",
    "    x1 = F.tanh(x)\n",
    "    x = F.relu(x)\n",
    "    x = self.pool(x)\n",
    "\n",
    "    x = x.view(x.size(0), -1)\n",
    "\n",
    "    x = self.dropout2(x)\n",
    "    x = F.relu(self.fc1(x))\n",
    "    x = F.relu(self.fc2(x))\n",
    "    x = self.dropout2(x)\n",
    "    x = F.relu(self.fc3(x))\n",
    "    x = self.fc4(x)\n",
    "    x = x[:,0] \n",
    "    # print(x.shape)\n",
    "    return x,x1"
   ]
  },
  {
   "cell_type": "code",
   "execution_count": 15,
   "id": "ca45300c",
   "metadata": {
    "execution": {
     "iopub.execute_input": "2021-09-03T04:05:07.480246Z",
     "iopub.status.busy": "2021-09-03T04:05:07.477454Z",
     "iopub.status.idle": "2021-09-03T04:05:11.784135Z",
     "shell.execute_reply": "2021-09-03T04:05:11.782977Z",
     "shell.execute_reply.started": "2021-09-03T03:47:10.136968Z"
    },
    "id": "1GvXR1zV5n4w",
    "papermill": {
     "duration": 4.369819,
     "end_time": "2021-09-03T04:05:11.784279",
     "exception": false,
     "start_time": "2021-09-03T04:05:07.414460",
     "status": "completed"
    },
    "tags": []
   },
   "outputs": [],
   "source": [
    "torch.manual_seed(n_seed)\n",
    "focus_net = Focus().double()\n",
    "focus_net = focus_net.to(\"cuda\")"
   ]
  },
  {
   "cell_type": "code",
   "execution_count": 16,
   "id": "9ede45e9",
   "metadata": {
    "execution": {
     "iopub.execute_input": "2021-09-03T04:05:11.875336Z",
     "iopub.status.busy": "2021-09-03T04:05:11.874426Z",
     "iopub.status.idle": "2021-09-03T04:05:11.876997Z",
     "shell.execute_reply": "2021-09-03T04:05:11.876579Z",
     "shell.execute_reply.started": "2021-09-03T03:47:15.494388Z"
    },
    "id": "LYdCXceZzSk9",
    "papermill": {
     "duration": 0.056111,
     "end_time": "2021-09-03T04:05:11.877132",
     "exception": false,
     "start_time": "2021-09-03T04:05:11.821021",
     "status": "completed"
    },
    "tags": []
   },
   "outputs": [],
   "source": [
    "class Classification(nn.Module):\n",
    "  def __init__(self):\n",
    "    super(Classification, self).__init__()\n",
    "    self.conv1 = nn.Conv2d(in_channels=256, out_channels=128, kernel_size=3, padding=1)\n",
    "    self.conv2 = nn.Conv2d(in_channels=128, out_channels=128, kernel_size=3, padding=1)\n",
    "    self.conv3 = nn.Conv2d(in_channels=128, out_channels=256, kernel_size=3, padding=1)\n",
    "    self.conv4 = nn.Conv2d(in_channels=256, out_channels=256, kernel_size=3, padding=1)\n",
    "    self.conv5 = nn.Conv2d(in_channels=256, out_channels=512, kernel_size=3, padding=1)\n",
    "    self.conv6 = nn.Conv2d(in_channels=512, out_channels=512, kernel_size=3, padding=1)\n",
    "    self.pool = nn.MaxPool2d(kernel_size=2, stride=2,padding=1)\n",
    "    self.batch_norm1 = nn.BatchNorm2d(128,track_running_stats=False)\n",
    "    self.batch_norm2 = nn.BatchNorm2d(256,track_running_stats=False)\n",
    "    self.batch_norm3 = nn.BatchNorm2d(512,track_running_stats=False)\n",
    "    self.dropout1 = nn.Dropout2d(p=0.05)\n",
    "    self.dropout2 = nn.Dropout2d(p=0.1)\n",
    "    self.global_average_pooling = nn.AvgPool2d(kernel_size=2)\n",
    "    self.fc1 = nn.Linear(512,128)\n",
    "    # self.fc2 = nn.Linear(128, 64)\n",
    "    # self.fc3 = nn.Linear(64, 10)\n",
    "    self.fc2 = nn.Linear(128, 3)\n",
    "\n",
    "    torch.nn.init.xavier_normal_(self.conv1.weight)\n",
    "    torch.nn.init.xavier_normal_(self.conv2.weight)\n",
    "    torch.nn.init.xavier_normal_(self.conv3.weight)\n",
    "    torch.nn.init.xavier_normal_(self.conv4.weight)\n",
    "    torch.nn.init.xavier_normal_(self.conv5.weight)\n",
    "    torch.nn.init.xavier_normal_(self.conv6.weight)\n",
    "\n",
    "    torch.nn.init.zeros_(self.conv1.bias)\n",
    "    torch.nn.init.zeros_(self.conv2.bias)\n",
    "    torch.nn.init.zeros_(self.conv3.bias)\n",
    "    torch.nn.init.zeros_(self.conv4.bias)\n",
    "    torch.nn.init.zeros_(self.conv5.bias)\n",
    "    torch.nn.init.zeros_(self.conv6.bias)\n",
    "\n",
    "\n",
    "    torch.nn.init.xavier_normal_(self.fc1.weight)\n",
    "    torch.nn.init.xavier_normal_(self.fc2.weight)\n",
    "    torch.nn.init.zeros_(self.fc1.bias)\n",
    "    torch.nn.init.zeros_(self.fc2.bias)\n",
    "\n",
    "\n",
    "  def forward(self, x):\n",
    "    x = self.conv1(x)\n",
    "    x = F.relu(self.batch_norm1(x))\n",
    "\n",
    "    x = (F.relu(self.conv2(x)))\n",
    "    x = self.pool(x)\n",
    "    \n",
    "    x = self.conv3(x)\n",
    "    x = F.relu(self.batch_norm2(x))\n",
    "\n",
    "    x = (F.relu(self.conv4(x)))\n",
    "    x = self.pool(x)\n",
    "    x = self.dropout1(x)\n",
    "\n",
    "    x = self.conv5(x)\n",
    "    x = F.relu(self.batch_norm3(x))\n",
    "\n",
    "    x = (F.relu(self.conv6(x)))\n",
    "    x = self.pool(x)\n",
    "    #print(x.shape)\n",
    "    x = self.global_average_pooling(x)\n",
    "    x = x.squeeze()\n",
    "    #x = x.view(x.size(0), -1)\n",
    "    #print(x.shape)\n",
    "    x = self.dropout2(x)\n",
    "    x = F.relu(self.fc1(x))\n",
    "    #x = F.relu(self.fc2(x))\n",
    "    #x = self.dropout2(x)\n",
    "    #x = F.relu(self.fc3(x))\n",
    "    x = self.fc2(x)\n",
    "    return x"
   ]
  },
  {
   "cell_type": "code",
   "execution_count": 17,
   "id": "19ca7544",
   "metadata": {
    "execution": {
     "iopub.execute_input": "2021-09-03T04:05:11.954266Z",
     "iopub.status.busy": "2021-09-03T04:05:11.953528Z",
     "iopub.status.idle": "2021-09-03T04:05:12.068922Z",
     "shell.execute_reply": "2021-09-03T04:05:12.068464Z",
     "shell.execute_reply.started": "2021-09-03T03:47:18.202066Z"
    },
    "id": "uPYplUGazU9I",
    "papermill": {
     "duration": 0.155808,
     "end_time": "2021-09-03T04:05:12.069051",
     "exception": false,
     "start_time": "2021-09-03T04:05:11.913243",
     "status": "completed"
    },
    "tags": []
   },
   "outputs": [],
   "source": [
    "torch.manual_seed(n_seed)\n",
    "classify = Classification().double()\n",
    "classify = classify.to(\"cuda\")"
   ]
  },
  {
   "cell_type": "code",
   "execution_count": 18,
   "id": "93846d88",
   "metadata": {
    "execution": {
     "iopub.execute_input": "2021-09-03T04:05:12.147174Z",
     "iopub.status.busy": "2021-09-03T04:05:12.146095Z",
     "iopub.status.idle": "2021-09-03T04:05:13.753800Z",
     "shell.execute_reply": "2021-09-03T04:05:13.753307Z",
     "shell.execute_reply.started": "2021-09-03T03:47:20.740987Z"
    },
    "id": "l789TLMP9zJX",
    "papermill": {
     "duration": 1.649073,
     "end_time": "2021-09-03T04:05:13.753920",
     "exception": false,
     "start_time": "2021-09-03T04:05:12.104847",
     "status": "completed"
    },
    "tags": []
   },
   "outputs": [],
   "source": [
    "test_images =[]        #list of mosaic images, each mosaic image is saved as laist of 9 images\n",
    "fore_idx_test =[]                   #list of indexes at which foreground image is present in a mosaic image                \n",
    "test_label=[]                # label of mosaic image = foreground class present in that mosaic\n",
    "for i in range(10000):\n",
    "  np.random.seed(i+30000)\n",
    "  bg_idx = np.random.randint(0,35000,8)\n",
    "  fg_idx = np.random.randint(0,15000)\n",
    "  fg = np.random.randint(0,9)\n",
    "  fore_idx_test.append(fg)\n",
    "  image_list,label = create_mosaic_img(bg_idx,fg_idx,fg)\n",
    "  test_images.append(image_list)\n",
    "  test_label.append(label)"
   ]
  },
  {
   "cell_type": "code",
   "execution_count": 19,
   "id": "ce037926",
   "metadata": {
    "execution": {
     "iopub.execute_input": "2021-09-03T04:05:13.832512Z",
     "iopub.status.busy": "2021-09-03T04:05:13.831787Z",
     "iopub.status.idle": "2021-09-03T04:05:13.834564Z",
     "shell.execute_reply": "2021-09-03T04:05:13.834157Z",
     "shell.execute_reply.started": "2021-09-03T03:47:29.715272Z"
    },
    "id": "bBzV9dKS5po7",
    "papermill": {
     "duration": 0.041748,
     "end_time": "2021-09-03T04:05:13.834668",
     "exception": false,
     "start_time": "2021-09-03T04:05:13.792920",
     "status": "completed"
    },
    "tags": []
   },
   "outputs": [],
   "source": [
    "test_data = MosaicDataset(test_images,test_label,fore_idx_test)\n",
    "test_loader = DataLoader( test_data,batch_size= batch ,shuffle=False)"
   ]
  },
  {
   "cell_type": "code",
   "execution_count": 20,
   "id": "9e078d97",
   "metadata": {
    "execution": {
     "iopub.execute_input": "2021-09-03T04:05:13.908953Z",
     "iopub.status.busy": "2021-09-03T04:05:13.908255Z",
     "iopub.status.idle": "2021-09-03T04:05:13.911011Z",
     "shell.execute_reply": "2021-09-03T04:05:13.910612Z",
     "shell.execute_reply.started": "2021-09-03T03:47:34.020574Z"
    },
    "id": "NIZAdWWL93SJ",
    "papermill": {
     "duration": 0.041298,
     "end_time": "2021-09-03T04:05:13.911113",
     "exception": false,
     "start_time": "2021-09-03T04:05:13.869815",
     "status": "completed"
    },
    "tags": []
   },
   "outputs": [],
   "source": [
    "criterion = nn.CrossEntropyLoss()"
   ]
  },
  {
   "cell_type": "code",
   "execution_count": 21,
   "id": "8475807f",
   "metadata": {
    "execution": {
     "iopub.execute_input": "2021-09-03T04:05:13.986693Z",
     "iopub.status.busy": "2021-09-03T04:05:13.985958Z",
     "iopub.status.idle": "2021-09-03T04:05:13.988721Z",
     "shell.execute_reply": "2021-09-03T04:05:13.988327Z",
     "shell.execute_reply.started": "2021-09-03T03:47:42.092231Z"
    },
    "id": "n5g3geNJ5zEu",
    "papermill": {
     "duration": 0.042498,
     "end_time": "2021-09-03T04:05:13.988821",
     "exception": false,
     "start_time": "2021-09-03T04:05:13.946323",
     "status": "completed"
    },
    "tags": []
   },
   "outputs": [],
   "source": [
    "import torch.optim as optim\n",
    "# criterion_classify = nn.CrossEntropyLoss()\n",
    "optimizer_focus = optim.Adam(focus_net.parameters(), lr=0.0005)#, momentum=0.9)\n",
    "optimizer_classify = optim.Adam(classify.parameters(), lr=0.0005)#, momentum=0.9)"
   ]
  },
  {
   "cell_type": "code",
   "execution_count": 22,
   "id": "8b46a9e3",
   "metadata": {
    "execution": {
     "iopub.execute_input": "2021-09-03T04:05:14.064436Z",
     "iopub.status.busy": "2021-09-03T04:05:14.063737Z",
     "iopub.status.idle": "2021-09-03T04:05:14.066499Z",
     "shell.execute_reply": "2021-09-03T04:05:14.066066Z",
     "shell.execute_reply.started": "2021-09-03T03:47:44.783125Z"
    },
    "id": "q8FurF4uDlOf",
    "papermill": {
     "duration": 0.042597,
     "end_time": "2021-09-03T04:05:14.066603",
     "exception": false,
     "start_time": "2021-09-03T04:05:14.024006",
     "status": "completed"
    },
    "tags": []
   },
   "outputs": [],
   "source": [
    "col1=[]\n",
    "col2=[]\n",
    "col3=[]\n",
    "col4=[]\n",
    "col5=[]\n",
    "col6=[]\n",
    "col7=[]\n",
    "col8=[]\n",
    "col9=[]\n",
    "col10=[]\n",
    "col11=[]\n",
    "col12=[]\n",
    "col13=[]\n",
    "col14 = [] # train average sparsity\n",
    "col15 = [] # test average sparsity\n",
    "\n"
   ]
  },
  {
   "cell_type": "code",
   "execution_count": 23,
   "id": "78706f63",
   "metadata": {
    "execution": {
     "iopub.execute_input": "2021-09-03T04:05:14.151226Z",
     "iopub.status.busy": "2021-09-03T04:05:14.150696Z",
     "iopub.status.idle": "2021-09-03T04:05:41.308972Z",
     "shell.execute_reply": "2021-09-03T04:05:41.308033Z",
     "shell.execute_reply.started": "2021-09-03T03:48:00.348709Z"
    },
    "id": "u7wkoxckDlIg",
    "outputId": "8bd39cf0-6ed5-4baf-9ca9-2ef79eb52dad",
    "papermill": {
     "duration": 27.207415,
     "end_time": "2021-09-03T04:05:41.309147",
     "exception": false,
     "start_time": "2021-09-03T04:05:14.101732",
     "status": "completed"
    },
    "tags": []
   },
   "outputs": [
    {
     "name": "stdout",
     "output_type": "stream",
     "text": [
      "Accuracy of the network on the 30000 train images: 33.790000 %\n",
      "total correct 10137\n",
      "total train set images 30000\n",
      "focus_true_pred_true 411 =============> FTPT : 1.370000 %\n",
      "focus_false_pred_true 9726 =============> FFPT : 32.420000 %\n",
      "focus_true_pred_false 1586 =============> FTPF : 5.286667 %\n",
      "focus_false_pred_false 18277 =============> FFPF : 60.923333 %\n",
      "Sparsity_Value 164937 =============> AVG Sparsity : 5.497900 \n",
      "argmax_more_than_half ==================>  927\n",
      "argmax_less_than_half ==================>  29073\n",
      "30000\n",
      "====================================================================================================\n"
     ]
    }
   ],
   "source": [
    "correct = 0\n",
    "total = 0\n",
    "count = 0\n",
    "flag = 1\n",
    "focus_true_pred_true =0\n",
    "focus_false_pred_true =0\n",
    "focus_true_pred_false =0\n",
    "focus_false_pred_false =0\n",
    "\n",
    "argmax_more_than_half = 0\n",
    "argmax_less_than_half =0\n",
    "sparse_val = 0 \n",
    "focus_net.eval()\n",
    "classify.eval()\n",
    "with torch.no_grad():\n",
    "  for data in train_loader:\n",
    "    inputs, labels , fore_idx = data\n",
    "    inputs = inputs.double()\n",
    "    inputs, labels , fore_idx = inputs.to(\"cuda\"),labels.to(\"cuda\"), fore_idx.to(\"cuda\")\n",
    "    alphas, avg_images = focus_net(inputs)\n",
    "    # print(inputs.shape, alphas.shape, avg_images.shape)\n",
    "    outputs = classify(avg_images)\n",
    "\n",
    "    _, predicted = torch.max(outputs.data, 1)\n",
    "    \n",
    "    sparse_val += torch.sum(torch.sum(alphas>0.01,dim=1)).item()\n",
    "\n",
    "\n",
    "    for j in range(labels.size(0)):\n",
    "      count += 1\n",
    "      focus = torch.argmax(alphas[j])\n",
    "      if alphas[j][focus] >= 0.5 :\n",
    "        argmax_more_than_half += 1\n",
    "      else:\n",
    "        argmax_less_than_half += 1\n",
    "\n",
    "      if(focus == fore_idx[j] and predicted[j] == labels[j]):\n",
    "          focus_true_pred_true += 1\n",
    "      elif(focus != fore_idx[j] and predicted[j] == labels[j]):\n",
    "        focus_false_pred_true += 1\n",
    "      elif(focus == fore_idx[j] and predicted[j] != labels[j]):\n",
    "        focus_true_pred_false += 1\n",
    "      elif(focus != fore_idx[j] and predicted[j] != labels[j]):\n",
    "        focus_false_pred_false += 1\n",
    "\n",
    "    total += labels.size(0)\n",
    "    correct += (predicted == labels).sum().item()\n",
    "\n",
    "print('Accuracy of the network on the 30000 train images: %f %%' % ( 100 * correct / total))\n",
    "print(\"total correct\", correct)\n",
    "print(\"total train set images\", total)\n",
    "\n",
    "print(\"focus_true_pred_true %d =============> FTPT : %f %%\" % (focus_true_pred_true , (100 * focus_true_pred_true / total) ) )\n",
    "print(\"focus_false_pred_true %d =============> FFPT : %f %%\" % (focus_false_pred_true, (100 * focus_false_pred_true / total) ) )\n",
    "print(\"focus_true_pred_false %d =============> FTPF : %f %%\" %( focus_true_pred_false , ( 100 * focus_true_pred_false / total) ) )\n",
    "print(\"focus_false_pred_false %d =============> FFPF : %f %%\" % (focus_false_pred_false, ( 100 * focus_false_pred_false / total) ) )\n",
    "print(\"Sparsity_Value %d =============> AVG Sparsity : %f \" % (sparse_val,(sparse_val)/total))\n",
    "print(\"argmax_more_than_half ==================> \",argmax_more_than_half)\n",
    "print(\"argmax_less_than_half ==================> \",argmax_less_than_half)\n",
    "print(count)\n",
    "\n",
    "print(\"=\"*100)\n",
    "\n",
    "col1.append(0)\n",
    "col2.append(argmax_more_than_half)\n",
    "col3.append(argmax_less_than_half)\n",
    "col4.append(focus_true_pred_true)\n",
    "col5.append(focus_false_pred_true)\n",
    "col6.append(focus_true_pred_false)\n",
    "col7.append(focus_false_pred_false)\n",
    "col14.append(sparse_val)"
   ]
  },
  {
   "cell_type": "code",
   "execution_count": 24,
   "id": "aaa06887",
   "metadata": {
    "execution": {
     "iopub.execute_input": "2021-09-03T04:05:41.398889Z",
     "iopub.status.busy": "2021-09-03T04:05:41.397313Z",
     "iopub.status.idle": "2021-09-03T04:05:50.037089Z",
     "shell.execute_reply": "2021-09-03T04:05:50.037697Z",
     "shell.execute_reply.started": "2021-09-03T03:48:27.401401Z"
    },
    "id": "0S4x9oQuDlBa",
    "outputId": "c268f2ab-e59b-45bc-ecc0-1532f9dc95c9",
    "papermill": {
     "duration": 8.691448,
     "end_time": "2021-09-03T04:05:50.037893",
     "exception": false,
     "start_time": "2021-09-03T04:05:41.346445",
     "status": "completed"
    },
    "tags": []
   },
   "outputs": [
    {
     "name": "stdout",
     "output_type": "stream",
     "text": [
      "Accuracy of the network on the 10000 test images: 33.540000 %\n",
      "total correct 3354\n",
      "total test set images 10000\n",
      "focus_true_pred_true 138 =============> FTPT : 1.380000 %\n",
      "focus_false_pred_true 3216 =============> FFPT : 32.160000 %\n",
      "focus_true_pred_false 514 =============> FTPF : 5.140000 %\n",
      "focus_false_pred_false 6132 =============> FFPF : 61.320000 %\n",
      "Sparsity_Value 55044 =============> AVG Sparsity : 5.504400 \n",
      "argmax_more_than_half ==================>  298\n",
      "argmax_less_than_half ==================>  9702\n"
     ]
    }
   ],
   "source": [
    "correct = 0\n",
    "total = 0\n",
    "count = 0\n",
    "flag = 1\n",
    "focus_true_pred_true =0\n",
    "focus_false_pred_true =0\n",
    "focus_true_pred_false =0\n",
    "focus_false_pred_false =0\n",
    "\n",
    "argmax_more_than_half = 0\n",
    "argmax_less_than_half =0\n",
    "sparse_val = 0\n",
    "focus_net.eval()\n",
    "classify.eval()\n",
    "with torch.no_grad():\n",
    "  for data in test_loader:\n",
    "    inputs, labels , fore_idx = data\n",
    "    inputs = inputs.double()\n",
    "    inputs, labels , fore_idx = inputs.to(\"cuda\"),labels.to(\"cuda\"), fore_idx.to(\"cuda\")\n",
    "    alphas, avg_images = focus_net(inputs)\n",
    "    outputs = classify(avg_images)\n",
    "\n",
    "    _, predicted = torch.max(outputs.data, 1)\n",
    "    \n",
    "    sparse_val += torch.sum(torch.sum(alphas>0.01,dim=1)).item()\n",
    "\n",
    "    for j in range(labels.size(0)):\n",
    "      focus = torch.argmax(alphas[j])\n",
    "      if alphas[j][focus] >= 0.5 :\n",
    "        argmax_more_than_half += 1\n",
    "      else:\n",
    "        argmax_less_than_half += 1\n",
    "\n",
    "      if(focus == fore_idx[j] and predicted[j] == labels[j]):\n",
    "          focus_true_pred_true += 1\n",
    "      elif(focus != fore_idx[j] and predicted[j] == labels[j]):\n",
    "        focus_false_pred_true += 1\n",
    "      elif(focus == fore_idx[j] and predicted[j] != labels[j]):\n",
    "        focus_true_pred_false += 1\n",
    "      elif(focus != fore_idx[j] and predicted[j] != labels[j]):\n",
    "        focus_false_pred_false += 1\n",
    "\n",
    "    total += labels.size(0)\n",
    "    correct += (predicted == labels).sum().item()\n",
    "\n",
    "print('Accuracy of the network on the 10000 test images: %f %%' % (\n",
    "    100 * correct / total))\n",
    "print(\"total correct\", correct)\n",
    "print(\"total test set images\", total)\n",
    "\n",
    "print(\"focus_true_pred_true %d =============> FTPT : %f %%\" % (focus_true_pred_true , (100 * focus_true_pred_true / total) ) )\n",
    "print(\"focus_false_pred_true %d =============> FFPT : %f %%\" % (focus_false_pred_true, (100 * focus_false_pred_true / total) ) )\n",
    "print(\"focus_true_pred_false %d =============> FTPF : %f %%\" %( focus_true_pred_false , ( 100 * focus_true_pred_false / total) ) )\n",
    "print(\"focus_false_pred_false %d =============> FFPF : %f %%\" % (focus_false_pred_false, ( 100 * focus_false_pred_false / total) ) )\n",
    "print(\"Sparsity_Value %d =============> AVG Sparsity : %f \" % (sparse_val,(sparse_val)/total))\n",
    "print(\"argmax_more_than_half ==================> \",argmax_more_than_half)\n",
    "print(\"argmax_less_than_half ==================> \",argmax_less_than_half)\n",
    "col8.append(argmax_more_than_half)\n",
    "col9.append(argmax_less_than_half)\n",
    "col10.append(focus_true_pred_true)\n",
    "col11.append(focus_false_pred_true)\n",
    "col12.append(focus_true_pred_false)\n",
    "col13.append(focus_false_pred_false)\n",
    "col15.append(sparse_val)"
   ]
  },
  {
   "cell_type": "code",
   "execution_count": 25,
   "id": "fc913070",
   "metadata": {
    "execution": {
     "iopub.execute_input": "2021-09-03T04:05:50.132691Z",
     "iopub.status.busy": "2021-09-03T04:05:50.131873Z",
     "iopub.status.idle": "2021-09-03T04:22:20.028310Z",
     "shell.execute_reply": "2021-09-03T04:22:20.028807Z",
     "shell.execute_reply.started": "2021-09-03T03:49:23.457916Z"
    },
    "id": "tFfAJZkcZEsY",
    "outputId": "439eba9f-f882-4ed4-b553-fa100981260a",
    "papermill": {
     "duration": 989.954243,
     "end_time": "2021-09-03T04:22:20.028992",
     "exception": false,
     "start_time": "2021-09-03T04:05:50.074749",
     "status": "completed"
    },
    "tags": []
   },
   "outputs": [
    {
     "name": "stdout",
     "output_type": "stream",
     "text": [
      "[1,    60] loss: 1.124\n",
      "[1,   120] loss: 1.021\n",
      "[2,    60] loss: 0.879\n",
      "[2,   120] loss: 0.742\n",
      "[3,    60] loss: 0.593\n",
      "[3,   120] loss: 0.515\n",
      "[4,    60] loss: 0.421\n",
      "[4,   120] loss: 0.379\n",
      "[5,    60] loss: 0.300\n",
      "[5,   120] loss: 0.287\n",
      "[6,    60] loss: 0.224\n",
      "[6,   120] loss: 0.221\n",
      "[7,    60] loss: 0.171\n",
      "[7,   120] loss: 0.184\n",
      "[8,    60] loss: 0.137\n",
      "[8,   120] loss: 0.141\n",
      "[9,    60] loss: 0.104\n",
      "[9,   120] loss: 0.111\n",
      "[10,    60] loss: 0.087\n",
      "[10,   120] loss: 0.093\n",
      "[11,    60] loss: 0.081\n",
      "[11,   120] loss: 0.078\n",
      "[12,    60] loss: 0.068\n",
      "[12,   120] loss: 0.082\n",
      "[13,    60] loss: 0.053\n",
      "[13,   120] loss: 0.057\n",
      "[14,    60] loss: 0.045\n",
      "[14,   120] loss: 0.060\n",
      "[15,    60] loss: 0.045\n",
      "[15,   120] loss: 0.051\n",
      "Finished Training\n"
     ]
    }
   ],
   "source": [
    "nos_epochs = 50\n",
    "focus_true_pred_true =0\n",
    "focus_false_pred_true =0\n",
    "focus_true_pred_false =0\n",
    "focus_false_pred_false =0\n",
    "\n",
    "argmax_more_than_half = 0\n",
    "argmax_less_than_half =0\n",
    "focus_net.train()\n",
    "classify.train()\n",
    "tr_loss = []\n",
    "\n",
    "\n",
    "for epoch in range(nos_epochs):  # loop over the dataset multiple times\n",
    "  focus_net.train()\n",
    "  classify.train()\n",
    "  focus_true_pred_true =0\n",
    "  focus_false_pred_true =0\n",
    "  focus_true_pred_false =0\n",
    "  focus_false_pred_false =0\n",
    "  \n",
    "  argmax_more_than_half = 0\n",
    "  argmax_less_than_half =0\n",
    "  sparse_val = 0 \n",
    "  \n",
    "  running_loss = 0.0\n",
    "  epoch_loss = []\n",
    "  cnt=0\n",
    "\n",
    "  iteration = desired_num // batch\n",
    "  \n",
    "  #training data set\n",
    "  \n",
    "  for i, data in  enumerate(train_loader):\n",
    "    inputs , labels , fore_idx = data\n",
    "    inputs = inputs.double()\n",
    "    inputs, labels = inputs.to(\"cuda\"), labels.to(\"cuda\")\n",
    "    # zero the parameter gradients\n",
    "    optimizer_focus.zero_grad()\n",
    "    optimizer_classify.zero_grad()\n",
    "    alphas, avg_images = focus_net(inputs)\n",
    "    outputs = classify(avg_images)\n",
    "    \n",
    "    \n",
    "\n",
    "    _, predicted = torch.max(outputs.data, 1)\n",
    "\n",
    "    loss = criterion(outputs, labels)\n",
    "    loss.backward()\n",
    "    optimizer_focus.step()\n",
    "    optimizer_classify.step()\n",
    "\n",
    "    running_loss += loss.item()\n",
    "    mini = 60\n",
    "    if cnt % mini == mini-1:    # print every 40 mini-batches\n",
    "      print('[%d, %5d] loss: %.3f' %(epoch + 1, cnt + 1, running_loss / mini))\n",
    "      epoch_loss.append(running_loss/mini)\n",
    "      running_loss = 0.0\n",
    "    cnt=cnt+1\n",
    "    \n",
    "    \n",
    "    if epoch % 1 == 0:\n",
    "      sparse_val += torch.sum(torch.sum(alphas>0.01,dim=1)).item()\n",
    "      for j in range (batch):\n",
    "        focus = torch.argmax(alphas[j])\n",
    "\n",
    "        if(alphas[j][focus] >= 0.5):\n",
    "          argmax_more_than_half +=1\n",
    "        else:\n",
    "          argmax_less_than_half +=1\n",
    "\n",
    "        if(focus == fore_idx[j] and predicted[j] == labels[j]):\n",
    "          focus_true_pred_true += 1\n",
    "\n",
    "        elif(focus != fore_idx[j] and predicted[j] == labels[j]):\n",
    "          focus_false_pred_true +=1\n",
    "\n",
    "        elif(focus == fore_idx[j] and predicted[j] != labels[j]):\n",
    "          focus_true_pred_false +=1\n",
    "\n",
    "        elif(focus != fore_idx[j] and predicted[j] != labels[j]):\n",
    "          focus_false_pred_false +=1\n",
    "\n",
    "\n",
    "  tr_loss.append(np.mean(epoch_loss))\n",
    "  if epoch % 1 == 0:\n",
    "    col1.append(epoch+1)\n",
    "    col2.append(argmax_more_than_half)\n",
    "    col3.append(argmax_less_than_half)\n",
    "    col4.append(focus_true_pred_true)\n",
    "    col5.append(focus_false_pred_true)\n",
    "    col6.append(focus_true_pred_false)\n",
    "    col7.append(focus_false_pred_false)\n",
    "    col14.append(sparse_val)\n",
    "  \n",
    "    #************************************************************************\n",
    "    #testing data set \n",
    "    focus_net.eval()\n",
    "    classify.eval() \n",
    "    with torch.no_grad():\n",
    "      focus_true_pred_true =0\n",
    "      focus_false_pred_true =0\n",
    "      focus_true_pred_false =0\n",
    "      focus_false_pred_false =0\n",
    "\n",
    "      argmax_more_than_half = 0\n",
    "      argmax_less_than_half =0\n",
    "      sparse_val = 0\n",
    "      for data in test_loader:\n",
    "        inputs, labels , fore_idx = data\n",
    "        inputs = inputs.double()\n",
    "        inputs, labels = inputs.to(\"cuda\"), labels.to(\"cuda\")\n",
    "        alphas, avg_images = focus_net(inputs)\n",
    "        outputs = classify(avg_images)\n",
    "        #outputs, alphas, avg_images = classify(inputs)\n",
    "        _, predicted = torch.max(outputs.data, 1)\n",
    "        sparse_val += torch.sum(torch.sum(alphas>0.01,dim=1)).item()\n",
    "        for j in range (batch):\n",
    "          focus = torch.argmax(alphas[j])\n",
    "\n",
    "          if(alphas[j][focus] >= 0.5):\n",
    "            argmax_more_than_half +=1\n",
    "          else:\n",
    "            argmax_less_than_half +=1\n",
    "\n",
    "          if(focus == fore_idx[j] and predicted[j] == labels[j]):\n",
    "            focus_true_pred_true += 1\n",
    "\n",
    "          elif(focus != fore_idx[j] and predicted[j] == labels[j]):\n",
    "            focus_false_pred_true +=1\n",
    "\n",
    "          elif(focus == fore_idx[j] and predicted[j] != labels[j]):\n",
    "            focus_true_pred_false +=1\n",
    "\n",
    "          elif(focus != fore_idx[j] and predicted[j] != labels[j]):\n",
    "            focus_false_pred_false +=1\n",
    "      \n",
    "    col8.append(argmax_more_than_half)\n",
    "    col9.append(argmax_less_than_half)\n",
    "    col10.append(focus_true_pred_true)\n",
    "    col11.append(focus_false_pred_true)\n",
    "    col12.append(focus_true_pred_false)\n",
    "    col13.append(focus_false_pred_false)\n",
    "    col15.append(sparse_val)\n",
    "  if(np.mean(epoch_loss) <= 0.05):\n",
    "    break;\n",
    "print('Finished Training') "
   ]
  },
  {
   "cell_type": "code",
   "execution_count": 26,
   "id": "c1781524",
   "metadata": {
    "execution": {
     "iopub.execute_input": "2021-09-03T04:22:20.123382Z",
     "iopub.status.busy": "2021-09-03T04:22:20.122808Z",
     "iopub.status.idle": "2021-09-03T04:22:20.222994Z",
     "shell.execute_reply": "2021-09-03T04:22:20.222505Z",
     "shell.execute_reply.started": "2021-09-03T03:52:37.708682Z"
    },
    "id": "WIAJ3UZN8rPE",
    "papermill": {
     "duration": 0.149484,
     "end_time": "2021-09-03T04:22:20.223144",
     "exception": false,
     "start_time": "2021-09-03T04:22:20.073660",
     "status": "completed"
    },
    "tags": []
   },
   "outputs": [],
   "source": [
    "torch.save(focus_net.state_dict(),path+\"weights_focus_0.pt\")  \n",
    "torch.save(classify.state_dict(),path+\"weights_classify_0.pt\")"
   ]
  },
  {
   "cell_type": "code",
   "execution_count": 27,
   "id": "cac32585",
   "metadata": {
    "execution": {
     "iopub.execute_input": "2021-09-03T04:22:20.319064Z",
     "iopub.status.busy": "2021-09-03T04:22:20.317586Z",
     "iopub.status.idle": "2021-09-03T04:22:20.320008Z",
     "shell.execute_reply": "2021-09-03T04:22:20.320454Z",
     "shell.execute_reply.started": "2021-09-03T03:52:39.267404Z"
    },
    "id": "2LgQKXW-8MH-",
    "papermill": {
     "duration": 0.052525,
     "end_time": "2021-09-03T04:22:20.320592",
     "exception": false,
     "start_time": "2021-09-03T04:22:20.268067",
     "status": "completed"
    },
    "tags": []
   },
   "outputs": [],
   "source": [
    "columns = [\"epochs\", \"argmax > 0.5\" ,\"argmax < 0.5\", \"focus_true_pred_true\", \"focus_false_pred_true\", \"focus_true_pred_false\", \"focus_false_pred_false\" ,\"sparse_val\"]"
   ]
  },
  {
   "cell_type": "code",
   "execution_count": 28,
   "id": "9a871dee",
   "metadata": {
    "execution": {
     "iopub.execute_input": "2021-09-03T04:22:20.419001Z",
     "iopub.status.busy": "2021-09-03T04:22:20.418323Z",
     "iopub.status.idle": "2021-09-03T04:22:20.421676Z",
     "shell.execute_reply": "2021-09-03T04:22:20.421247Z",
     "shell.execute_reply.started": "2021-09-03T03:52:40.429434Z"
    },
    "id": "tSKphM888Y5o",
    "papermill": {
     "duration": 0.054039,
     "end_time": "2021-09-03T04:22:20.421791",
     "exception": false,
     "start_time": "2021-09-03T04:22:20.367752",
     "status": "completed"
    },
    "tags": []
   },
   "outputs": [],
   "source": [
    "df_train = pd.DataFrame()\n",
    "df_test = pd.DataFrame()"
   ]
  },
  {
   "cell_type": "code",
   "execution_count": 29,
   "id": "6233ba0f",
   "metadata": {
    "execution": {
     "iopub.execute_input": "2021-09-03T04:22:20.515398Z",
     "iopub.status.busy": "2021-09-03T04:22:20.514717Z",
     "iopub.status.idle": "2021-09-03T04:22:20.519421Z",
     "shell.execute_reply": "2021-09-03T04:22:20.519793Z",
     "shell.execute_reply.started": "2021-09-03T03:52:41.32567Z"
    },
    "id": "lLSfxf-zE_D1",
    "outputId": "6cc73d7a-7d81-4717-b408-62a37e00b418",
    "papermill": {
     "duration": 0.05396,
     "end_time": "2021-09-03T04:22:20.519942",
     "exception": false,
     "start_time": "2021-09-03T04:22:20.465982",
     "status": "completed"
    },
    "tags": []
   },
   "outputs": [
    {
     "data": {
      "text/plain": [
       "(16,\n",
       " [9702,\n",
       "  4527,\n",
       "  5215,\n",
       "  2708,\n",
       "  2919,\n",
       "  2297,\n",
       "  2999,\n",
       "  1763,\n",
       "  2350,\n",
       "  2142,\n",
       "  1907,\n",
       "  1866,\n",
       "  1839,\n",
       "  1736,\n",
       "  2042,\n",
       "  2050])"
      ]
     },
     "execution_count": 29,
     "metadata": {},
     "output_type": "execute_result"
    }
   ],
   "source": [
    "len(col1),col9"
   ]
  },
  {
   "cell_type": "code",
   "execution_count": 30,
   "id": "488832e6",
   "metadata": {
    "execution": {
     "iopub.execute_input": "2021-09-03T04:22:20.632323Z",
     "iopub.status.busy": "2021-09-03T04:22:20.631501Z",
     "iopub.status.idle": "2021-09-03T04:22:20.747402Z",
     "shell.execute_reply": "2021-09-03T04:22:20.747828Z",
     "shell.execute_reply.started": "2021-09-03T03:52:42.159093Z"
    },
    "id": "eBFPNm12uBR3",
    "outputId": "735aba44-f94b-4f5a-fba8-e954fe4c4c56",
    "papermill": {
     "duration": 0.182673,
     "end_time": "2021-09-03T04:22:20.747975",
     "exception": false,
     "start_time": "2021-09-03T04:22:20.565302",
     "status": "completed"
    },
    "tags": []
   },
   "outputs": [
    {
     "data": {
      "image/png": "[encoded data removed]",
      "text/plain": [
       "<Figure size 432x288 with 1 Axes>"
      ]
     },
     "metadata": {
      "needs_background": "light"
     },
     "output_type": "display_data"
    }
   ],
   "source": [
    "plt.plot(np.arange(1,epoch+2),tr_loss)\n",
    "plt.xlabel(\"epochs\", fontsize=14, fontweight = 'bold')\n",
    "plt.ylabel(\"Loss\", fontsize=14, fontweight = 'bold')\n",
    "plt.title(\"Train Loss\")\n",
    "#plt.grid()\n",
    "plt.show()"
   ]
  },
  {
   "cell_type": "code",
   "execution_count": 31,
   "id": "5817edec",
   "metadata": {
    "execution": {
     "iopub.execute_input": "2021-09-03T04:22:20.845063Z",
     "iopub.status.busy": "2021-09-03T04:22:20.844368Z",
     "iopub.status.idle": "2021-09-03T04:22:20.847727Z",
     "shell.execute_reply": "2021-09-03T04:22:20.847317Z",
     "shell.execute_reply.started": "2021-09-03T03:52:44.062576Z"
    },
    "id": "dqTXDm-EuBR3",
    "papermill": {
     "duration": 0.053068,
     "end_time": "2021-09-03T04:22:20.847836",
     "exception": false,
     "start_time": "2021-09-03T04:22:20.794768",
     "status": "completed"
    },
    "tags": []
   },
   "outputs": [],
   "source": [
    "np.save(\"train_loss.npy\",{\"training_loss\":tr_loss})"
   ]
  },
  {
   "cell_type": "code",
   "execution_count": 32,
   "id": "ec8c8424",
   "metadata": {
    "execution": {
     "iopub.execute_input": "2021-09-03T04:22:20.962889Z",
     "iopub.status.busy": "2021-09-03T04:22:20.962115Z",
     "iopub.status.idle": "2021-09-03T04:22:20.964611Z",
     "shell.execute_reply": "2021-09-03T04:22:20.965217Z",
     "shell.execute_reply.started": "2021-09-03T03:52:45.32949Z"
    },
    "id": "FrWoEGXZ8cBO",
    "papermill": {
     "duration": 0.071877,
     "end_time": "2021-09-03T04:22:20.965378",
     "exception": false,
     "start_time": "2021-09-03T04:22:20.893501",
     "status": "completed"
    },
    "tags": []
   },
   "outputs": [],
   "source": [
    "df_train[columns[0]] = col1\n",
    "df_train[columns[1]] = col2\n",
    "df_train[columns[2]] = col3\n",
    "df_train[columns[3]] = col4\n",
    "df_train[columns[4]] = col5\n",
    "df_train[columns[5]] = col6\n",
    "df_train[columns[6]] = col7\n",
    "df_train[columns[7]] = col14\n",
    "\n",
    "df_test[columns[0]] = col1\n",
    "df_test[columns[1]] = col8\n",
    "df_test[columns[2]] = col9\n",
    "df_test[columns[3]] = col10\n",
    "df_test[columns[4]] = col11\n",
    "df_test[columns[5]] = col12\n",
    "df_test[columns[6]] = col13\n",
    "df_test[columns[7]] = col15"
   ]
  },
  {
   "cell_type": "code",
   "execution_count": 33,
   "id": "fc13dd42",
   "metadata": {
    "execution": {
     "iopub.execute_input": "2021-09-03T04:22:21.062916Z",
     "iopub.status.busy": "2021-09-03T04:22:21.062047Z",
     "iopub.status.idle": "2021-09-03T04:22:21.078936Z",
     "shell.execute_reply": "2021-09-03T04:22:21.078517Z",
     "shell.execute_reply.started": "2021-09-03T03:52:46.335237Z"
    },
    "id": "RGJoMFcK8eTe",
    "outputId": "cc5796ba-3e97-427e-8d8e-19adff2822c2",
    "papermill": {
     "duration": 0.066457,
     "end_time": "2021-09-03T04:22:21.079053",
     "exception": false,
     "start_time": "2021-09-03T04:22:21.012596",
     "status": "completed"
    },
    "tags": []
   },
   "outputs": [
    {
     "data": {
      "text/html": [
       "<div>\n",
       "<style scoped>\n",
       "    .dataframe tbody tr th:only-of-type {\n",
       "        vertical-align: middle;\n",
       "    }\n",
       "\n",
       "    .dataframe tbody tr th {\n",
       "        vertical-align: top;\n",
       "    }\n",
       "\n",
       "    .dataframe thead th {\n",
       "        text-align: right;\n",
       "    }\n",
       "</style>\n",
       "<table border=\"1\" class=\"dataframe\">\n",
       "  <thead>\n",
       "    <tr style=\"text-align: right;\">\n",
       "      <th></th>\n",
       "      <th>epochs</th>\n",
       "      <th>argmax &gt; 0.5</th>\n",
       "      <th>argmax &lt; 0.5</th>\n",
       "      <th>focus_true_pred_true</th>\n",
       "      <th>focus_false_pred_true</th>\n",
       "      <th>focus_true_pred_false</th>\n",
       "      <th>focus_false_pred_false</th>\n",
       "      <th>sparse_val</th>\n",
       "    </tr>\n",
       "  </thead>\n",
       "  <tbody>\n",
       "    <tr>\n",
       "      <th>0</th>\n",
       "      <td>0</td>\n",
       "      <td>927</td>\n",
       "      <td>29073</td>\n",
       "      <td>411</td>\n",
       "      <td>9726</td>\n",
       "      <td>1586</td>\n",
       "      <td>18277</td>\n",
       "      <td>164937</td>\n",
       "    </tr>\n",
       "    <tr>\n",
       "      <th>1</th>\n",
       "      <td>1</td>\n",
       "      <td>25175</td>\n",
       "      <td>4825</td>\n",
       "      <td>4137</td>\n",
       "      <td>8562</td>\n",
       "      <td>2937</td>\n",
       "      <td>14364</td>\n",
       "      <td>65775</td>\n",
       "    </tr>\n",
       "    <tr>\n",
       "      <th>2</th>\n",
       "      <td>2</td>\n",
       "      <td>13838</td>\n",
       "      <td>16162</td>\n",
       "      <td>11118</td>\n",
       "      <td>7854</td>\n",
       "      <td>3259</td>\n",
       "      <td>7769</td>\n",
       "      <td>134852</td>\n",
       "    </tr>\n",
       "    <tr>\n",
       "      <th>3</th>\n",
       "      <td>3</td>\n",
       "      <td>17231</td>\n",
       "      <td>12769</td>\n",
       "      <td>16393</td>\n",
       "      <td>6612</td>\n",
       "      <td>2484</td>\n",
       "      <td>4511</td>\n",
       "      <td>121248</td>\n",
       "    </tr>\n",
       "    <tr>\n",
       "      <th>4</th>\n",
       "      <td>4</td>\n",
       "      <td>19573</td>\n",
       "      <td>10427</td>\n",
       "      <td>19510</td>\n",
       "      <td>5618</td>\n",
       "      <td>1754</td>\n",
       "      <td>3118</td>\n",
       "      <td>112147</td>\n",
       "    </tr>\n",
       "    <tr>\n",
       "      <th>5</th>\n",
       "      <td>5</td>\n",
       "      <td>21524</td>\n",
       "      <td>8476</td>\n",
       "      <td>21416</td>\n",
       "      <td>5143</td>\n",
       "      <td>1281</td>\n",
       "      <td>2160</td>\n",
       "      <td>97727</td>\n",
       "    </tr>\n",
       "    <tr>\n",
       "      <th>6</th>\n",
       "      <td>6</td>\n",
       "      <td>21965</td>\n",
       "      <td>8035</td>\n",
       "      <td>22676</td>\n",
       "      <td>4741</td>\n",
       "      <td>989</td>\n",
       "      <td>1594</td>\n",
       "      <td>95192</td>\n",
       "    </tr>\n",
       "    <tr>\n",
       "      <th>7</th>\n",
       "      <td>7</td>\n",
       "      <td>23156</td>\n",
       "      <td>6844</td>\n",
       "      <td>23508</td>\n",
       "      <td>4541</td>\n",
       "      <td>786</td>\n",
       "      <td>1165</td>\n",
       "      <td>85091</td>\n",
       "    </tr>\n",
       "    <tr>\n",
       "      <th>8</th>\n",
       "      <td>8</td>\n",
       "      <td>23403</td>\n",
       "      <td>6597</td>\n",
       "      <td>24086</td>\n",
       "      <td>4427</td>\n",
       "      <td>558</td>\n",
       "      <td>929</td>\n",
       "      <td>84962</td>\n",
       "    </tr>\n",
       "    <tr>\n",
       "      <th>9</th>\n",
       "      <td>9</td>\n",
       "      <td>23395</td>\n",
       "      <td>6605</td>\n",
       "      <td>24561</td>\n",
       "      <td>4284</td>\n",
       "      <td>450</td>\n",
       "      <td>705</td>\n",
       "      <td>86532</td>\n",
       "    </tr>\n",
       "    <tr>\n",
       "      <th>10</th>\n",
       "      <td>10</td>\n",
       "      <td>23591</td>\n",
       "      <td>6409</td>\n",
       "      <td>24908</td>\n",
       "      <td>4143</td>\n",
       "      <td>351</td>\n",
       "      <td>598</td>\n",
       "      <td>86317</td>\n",
       "    </tr>\n",
       "    <tr>\n",
       "      <th>11</th>\n",
       "      <td>11</td>\n",
       "      <td>24130</td>\n",
       "      <td>5870</td>\n",
       "      <td>25051</td>\n",
       "      <td>4086</td>\n",
       "      <td>337</td>\n",
       "      <td>526</td>\n",
       "      <td>78444</td>\n",
       "    </tr>\n",
       "    <tr>\n",
       "      <th>12</th>\n",
       "      <td>12</td>\n",
       "      <td>24177</td>\n",
       "      <td>5823</td>\n",
       "      <td>25093</td>\n",
       "      <td>4118</td>\n",
       "      <td>280</td>\n",
       "      <td>509</td>\n",
       "      <td>75725</td>\n",
       "    </tr>\n",
       "    <tr>\n",
       "      <th>13</th>\n",
       "      <td>13</td>\n",
       "      <td>24651</td>\n",
       "      <td>5349</td>\n",
       "      <td>25452</td>\n",
       "      <td>3959</td>\n",
       "      <td>216</td>\n",
       "      <td>373</td>\n",
       "      <td>74764</td>\n",
       "    </tr>\n",
       "    <tr>\n",
       "      <th>14</th>\n",
       "      <td>14</td>\n",
       "      <td>24428</td>\n",
       "      <td>5572</td>\n",
       "      <td>25612</td>\n",
       "      <td>3856</td>\n",
       "      <td>213</td>\n",
       "      <td>319</td>\n",
       "      <td>76525</td>\n",
       "    </tr>\n",
       "    <tr>\n",
       "      <th>15</th>\n",
       "      <td>15</td>\n",
       "      <td>24235</td>\n",
       "      <td>5765</td>\n",
       "      <td>25479</td>\n",
       "      <td>4045</td>\n",
       "      <td>191</td>\n",
       "      <td>285</td>\n",
       "      <td>74242</td>\n",
       "    </tr>\n",
       "  </tbody>\n",
       "</table>\n",
       "</div>"
      ],
      "text/plain": [
       "    epochs  argmax > 0.5  argmax < 0.5  focus_true_pred_true  \\\n",
       "0        0           927         29073                   411   \n",
       "1        1         25175          4825                  4137   \n",
       "2        2         13838         16162                 11118   \n",
       "3        3         17231         12769                 16393   \n",
       "4        4         19573         10427                 19510   \n",
       "5        5         21524          8476                 21416   \n",
       "6        6         21965          8035                 22676   \n",
       "7        7         23156          6844                 23508   \n",
       "8        8         23403          6597                 24086   \n",
       "9        9         23395          6605                 24561   \n",
       "10      10         23591          6409                 24908   \n",
       "11      11         24130          5870                 25051   \n",
       "12      12         24177          5823                 25093   \n",
       "13      13         24651          5349                 25452   \n",
       "14      14         24428          5572                 25612   \n",
       "15      15         24235          5765                 25479   \n",
       "\n",
       "    focus_false_pred_true  focus_true_pred_false  focus_false_pred_false  \\\n",
       "0                    9726                   1586                   18277   \n",
       "1                    8562                   2937                   14364   \n",
       "2                    7854                   3259                    7769   \n",
       "3                    6612                   2484                    4511   \n",
       "4                    5618                   1754                    3118   \n",
       "5                    5143                   1281                    2160   \n",
       "6                    4741                    989                    1594   \n",
       "7                    4541                    786                    1165   \n",
       "8                    4427                    558                     929   \n",
       "9                    4284                    450                     705   \n",
       "10                   4143                    351                     598   \n",
       "11                   4086                    337                     526   \n",
       "12                   4118                    280                     509   \n",
       "13                   3959                    216                     373   \n",
       "14                   3856                    213                     319   \n",
       "15                   4045                    191                     285   \n",
       "\n",
       "    sparse_val  \n",
       "0       164937  \n",
       "1        65775  \n",
       "2       134852  \n",
       "3       121248  \n",
       "4       112147  \n",
       "5        97727  \n",
       "6        95192  \n",
       "7        85091  \n",
       "8        84962  \n",
       "9        86532  \n",
       "10       86317  \n",
       "11       78444  \n",
       "12       75725  \n",
       "13       74764  \n",
       "14       76525  \n",
       "15       74242  "
      ]
     },
     "execution_count": 33,
     "metadata": {},
     "output_type": "execute_result"
    }
   ],
   "source": [
    "df_train"
   ]
  },
  {
   "cell_type": "code",
   "execution_count": 34,
   "id": "a2c5e0f7",
   "metadata": {
    "execution": {
     "iopub.execute_input": "2021-09-03T04:22:21.175417Z",
     "iopub.status.busy": "2021-09-03T04:22:21.174682Z",
     "iopub.status.idle": "2021-09-03T04:22:21.181261Z",
     "shell.execute_reply": "2021-09-03T04:22:21.180774Z",
     "shell.execute_reply.started": "2021-09-03T03:52:47.526757Z"
    },
    "id": "cqrSQSNemDNp",
    "papermill": {
     "duration": 0.056429,
     "end_time": "2021-09-03T04:22:21.181387",
     "exception": false,
     "start_time": "2021-09-03T04:22:21.124958",
     "status": "completed"
    },
    "tags": []
   },
   "outputs": [],
   "source": [
    "df_train.to_csv(path+\"_train.csv\",index=False)"
   ]
  },
  {
   "cell_type": "code",
   "execution_count": 35,
   "id": "6fa8bb19",
   "metadata": {
    "execution": {
     "iopub.execute_input": "2021-09-03T04:22:21.331593Z",
     "iopub.status.busy": "2021-09-03T04:22:21.328490Z",
     "iopub.status.idle": "2021-09-03T04:22:21.434414Z",
     "shell.execute_reply": "2021-09-03T04:22:21.434806Z",
     "shell.execute_reply.started": "2021-09-03T03:52:48.732024Z"
    },
    "id": "Ei9HVQBZ8gn4",
    "outputId": "49460fbd-6e36-4fa5-dd2d-7d7937fb5089",
    "papermill": {
     "duration": 0.20741,
     "end_time": "2021-09-03T04:22:21.434961",
     "exception": false,
     "start_time": "2021-09-03T04:22:21.227551",
     "status": "completed"
    },
    "tags": []
   },
   "outputs": [
    {
     "data": {
      "image/png": "[encoded data removed]",
      "text/plain": [
       "<Figure size 432x288 with 1 Axes>"
      ]
     },
     "metadata": {
      "needs_background": "light"
     },
     "output_type": "display_data"
    }
   ],
   "source": [
    "# plt.figure(12,12)\n",
    "plt.plot(col1,col2, label='argmax > 0.5')\n",
    "plt.plot(col1,col3, label='argmax < 0.5')\n",
    "\n",
    "plt.legend(loc='center left', bbox_to_anchor=(1, 0.5))\n",
    "plt.xlabel(\"epochs\")\n",
    "plt.ylabel(\"training data\")\n",
    "plt.title(\"On Training set\")\n",
    "plt.show()\n",
    "\n"
   ]
  },
  {
   "cell_type": "code",
   "execution_count": 36,
   "id": "34437046",
   "metadata": {
    "execution": {
     "iopub.execute_input": "2021-09-03T04:22:21.565808Z",
     "iopub.status.busy": "2021-09-03T04:22:21.559018Z",
     "iopub.status.idle": "2021-09-03T04:22:22.035993Z",
     "shell.execute_reply": "2021-09-03T04:22:22.036431Z",
     "shell.execute_reply.started": "2021-09-03T03:52:50.630152Z"
    },
    "id": "RcScxsHnuBR5",
    "outputId": "1c5544c8-2475-40f2-fc71-54d061b7d133",
    "papermill": {
     "duration": 0.554468,
     "end_time": "2021-09-03T04:22:22.036691",
     "exception": false,
     "start_time": "2021-09-03T04:22:21.482223",
     "status": "completed"
    },
    "tags": []
   },
   "outputs": [
    {
     "data": {
      "image/png": "[encoded data removed]",
      "text/plain": [
       "<Figure size 432x360 with 1 Axes>"
      ]
     },
     "metadata": {
      "needs_background": "light"
     },
     "output_type": "display_data"
    }
   ],
   "source": [
    "plt.figure(figsize=(6,5))\n",
    "plt.plot(col1,np.array(col4)/300, label =\"FTPT \")\n",
    "plt.plot(col1,np.array(col5)/300, label =\"FFPT \")\n",
    "plt.plot(col1,np.array(col6)/300, label =\"FTPF \")\n",
    "plt.plot(col1,np.array(col7)/300, label =\"FFPF \")\n",
    "plt.title(\"On Training set\")\n",
    "#plt.legend(loc='center left', bbox_to_anchor=(1, 0.5))\n",
    "plt.xlabel(\"epochs\", fontsize=14, fontweight = 'bold')\n",
    "plt.ylabel(\"percentage train data\", fontsize=14, fontweight = 'bold')\n",
    "# plt.xlabel(\"epochs\")\n",
    "# plt.ylabel(\"training data\")\n",
    "plt.legend()\n",
    "\n",
    "plt.savefig(path + \"_train.png\",bbox_inches=\"tight\")\n",
    "plt.savefig(path + \"_train.pdf\",bbox_inches=\"tight\")\n",
    "plt.grid()\n",
    "plt.show()"
   ]
  },
  {
   "cell_type": "code",
   "execution_count": 37,
   "id": "3ebdfd52",
   "metadata": {
    "execution": {
     "iopub.execute_input": "2021-09-03T04:22:22.163235Z",
     "iopub.status.busy": "2021-09-03T04:22:22.162263Z",
     "iopub.status.idle": "2021-09-03T04:22:22.511323Z",
     "shell.execute_reply": "2021-09-03T04:22:22.511766Z",
     "shell.execute_reply.started": "2021-09-03T03:52:51.70198Z"
    },
    "id": "eyHnBFJxuBR5",
    "outputId": "df42ed8f-f4dd-4160-9e03-8ceaedc7b9ab",
    "papermill": {
     "duration": 0.427261,
     "end_time": "2021-09-03T04:22:22.511926",
     "exception": false,
     "start_time": "2021-09-03T04:22:22.084665",
     "status": "completed"
    },
    "tags": []
   },
   "outputs": [
    {
     "data": {
      "image/png": "[encoded data removed]",
      "text/plain": [
       "<Figure size 432x360 with 1 Axes>"
      ]
     },
     "metadata": {
      "needs_background": "light"
     },
     "output_type": "display_data"
    }
   ],
   "source": [
    "plt.figure(figsize=(6,5))\n",
    "plt.plot(col1,np.array(col14)/30000, label =\"sparsity_val\")\n",
    "\n",
    "plt.title(\"On Training set\")\n",
    "#plt.legend(loc='center left', bbox_to_anchor=(1, 0.5))\n",
    "plt.xlabel(\"epochs\", fontsize=14, fontweight = 'bold')\n",
    "plt.ylabel(\"average sparsity value\", fontsize=14, fontweight = 'bold')\n",
    "# plt.xlabel(\"epochs\")\n",
    "# plt.ylabel(\"sparsity_value\")\n",
    "\n",
    "plt.savefig(path + \"sparsity_train.png\",bbox_inches=\"tight\")\n",
    "plt.savefig(path + \"sparsity_train.pdf\",bbox_inches=\"tight\")\n",
    "plt.grid()\n",
    "plt.show()"
   ]
  },
  {
   "cell_type": "code",
   "execution_count": 38,
   "id": "3ae0b1db",
   "metadata": {
    "execution": {
     "iopub.execute_input": "2021-09-03T04:22:22.633734Z",
     "iopub.status.busy": "2021-09-03T04:22:22.632656Z",
     "iopub.status.idle": "2021-09-03T04:22:22.636554Z",
     "shell.execute_reply": "2021-09-03T04:22:22.637007Z",
     "shell.execute_reply.started": "2021-09-03T03:52:52.861416Z"
    },
    "id": "_QKYVO8i8ivA",
    "outputId": "0d8b1ea0-efd0-4bdd-84a7-201356e5f823",
    "papermill": {
     "duration": 0.073102,
     "end_time": "2021-09-03T04:22:22.637195",
     "exception": false,
     "start_time": "2021-09-03T04:22:22.564093",
     "status": "completed"
    },
    "tags": []
   },
   "outputs": [
    {
     "data": {
      "text/html": [
       "<div>\n",
       "<style scoped>\n",
       "    .dataframe tbody tr th:only-of-type {\n",
       "        vertical-align: middle;\n",
       "    }\n",
       "\n",
       "    .dataframe tbody tr th {\n",
       "        vertical-align: top;\n",
       "    }\n",
       "\n",
       "    .dataframe thead th {\n",
       "        text-align: right;\n",
       "    }\n",
       "</style>\n",
       "<table border=\"1\" class=\"dataframe\">\n",
       "  <thead>\n",
       "    <tr style=\"text-align: right;\">\n",
       "      <th></th>\n",
       "      <th>epochs</th>\n",
       "      <th>argmax &gt; 0.5</th>\n",
       "      <th>argmax &lt; 0.5</th>\n",
       "      <th>focus_true_pred_true</th>\n",
       "      <th>focus_false_pred_true</th>\n",
       "      <th>focus_true_pred_false</th>\n",
       "      <th>focus_false_pred_false</th>\n",
       "      <th>sparse_val</th>\n",
       "    </tr>\n",
       "  </thead>\n",
       "  <tbody>\n",
       "    <tr>\n",
       "      <th>0</th>\n",
       "      <td>0</td>\n",
       "      <td>298</td>\n",
       "      <td>9702</td>\n",
       "      <td>138</td>\n",
       "      <td>3216</td>\n",
       "      <td>514</td>\n",
       "      <td>6132</td>\n",
       "      <td>55044</td>\n",
       "    </tr>\n",
       "    <tr>\n",
       "      <th>1</th>\n",
       "      <td>1</td>\n",
       "      <td>5473</td>\n",
       "      <td>4527</td>\n",
       "      <td>2584</td>\n",
       "      <td>2831</td>\n",
       "      <td>1168</td>\n",
       "      <td>3417</td>\n",
       "      <td>34663</td>\n",
       "    </tr>\n",
       "    <tr>\n",
       "      <th>2</th>\n",
       "      <td>2</td>\n",
       "      <td>4785</td>\n",
       "      <td>5215</td>\n",
       "      <td>5145</td>\n",
       "      <td>2176</td>\n",
       "      <td>1068</td>\n",
       "      <td>1611</td>\n",
       "      <td>47559</td>\n",
       "    </tr>\n",
       "    <tr>\n",
       "      <th>3</th>\n",
       "      <td>3</td>\n",
       "      <td>7292</td>\n",
       "      <td>2708</td>\n",
       "      <td>6477</td>\n",
       "      <td>1704</td>\n",
       "      <td>665</td>\n",
       "      <td>1154</td>\n",
       "      <td>30753</td>\n",
       "    </tr>\n",
       "    <tr>\n",
       "      <th>4</th>\n",
       "      <td>4</td>\n",
       "      <td>7081</td>\n",
       "      <td>2919</td>\n",
       "      <td>6890</td>\n",
       "      <td>1715</td>\n",
       "      <td>580</td>\n",
       "      <td>815</td>\n",
       "      <td>36180</td>\n",
       "    </tr>\n",
       "    <tr>\n",
       "      <th>5</th>\n",
       "      <td>5</td>\n",
       "      <td>7703</td>\n",
       "      <td>2297</td>\n",
       "      <td>7208</td>\n",
       "      <td>1482</td>\n",
       "      <td>429</td>\n",
       "      <td>881</td>\n",
       "      <td>27604</td>\n",
       "    </tr>\n",
       "    <tr>\n",
       "      <th>6</th>\n",
       "      <td>6</td>\n",
       "      <td>7001</td>\n",
       "      <td>2999</td>\n",
       "      <td>7553</td>\n",
       "      <td>1468</td>\n",
       "      <td>470</td>\n",
       "      <td>509</td>\n",
       "      <td>33087</td>\n",
       "    </tr>\n",
       "    <tr>\n",
       "      <th>7</th>\n",
       "      <td>7</td>\n",
       "      <td>8237</td>\n",
       "      <td>1763</td>\n",
       "      <td>7927</td>\n",
       "      <td>1258</td>\n",
       "      <td>295</td>\n",
       "      <td>520</td>\n",
       "      <td>24088</td>\n",
       "    </tr>\n",
       "    <tr>\n",
       "      <th>8</th>\n",
       "      <td>8</td>\n",
       "      <td>7650</td>\n",
       "      <td>2350</td>\n",
       "      <td>7939</td>\n",
       "      <td>1338</td>\n",
       "      <td>295</td>\n",
       "      <td>428</td>\n",
       "      <td>30127</td>\n",
       "    </tr>\n",
       "    <tr>\n",
       "      <th>9</th>\n",
       "      <td>9</td>\n",
       "      <td>7858</td>\n",
       "      <td>2142</td>\n",
       "      <td>8157</td>\n",
       "      <td>1171</td>\n",
       "      <td>245</td>\n",
       "      <td>427</td>\n",
       "      <td>28282</td>\n",
       "    </tr>\n",
       "    <tr>\n",
       "      <th>10</th>\n",
       "      <td>10</td>\n",
       "      <td>8093</td>\n",
       "      <td>1907</td>\n",
       "      <td>8159</td>\n",
       "      <td>1178</td>\n",
       "      <td>265</td>\n",
       "      <td>398</td>\n",
       "      <td>26284</td>\n",
       "    </tr>\n",
       "    <tr>\n",
       "      <th>11</th>\n",
       "      <td>11</td>\n",
       "      <td>8134</td>\n",
       "      <td>1866</td>\n",
       "      <td>8203</td>\n",
       "      <td>1123</td>\n",
       "      <td>213</td>\n",
       "      <td>461</td>\n",
       "      <td>24797</td>\n",
       "    </tr>\n",
       "    <tr>\n",
       "      <th>12</th>\n",
       "      <td>12</td>\n",
       "      <td>8161</td>\n",
       "      <td>1839</td>\n",
       "      <td>8185</td>\n",
       "      <td>1192</td>\n",
       "      <td>228</td>\n",
       "      <td>395</td>\n",
       "      <td>25359</td>\n",
       "    </tr>\n",
       "    <tr>\n",
       "      <th>13</th>\n",
       "      <td>13</td>\n",
       "      <td>8264</td>\n",
       "      <td>1736</td>\n",
       "      <td>8267</td>\n",
       "      <td>1122</td>\n",
       "      <td>194</td>\n",
       "      <td>417</td>\n",
       "      <td>23812</td>\n",
       "    </tr>\n",
       "    <tr>\n",
       "      <th>14</th>\n",
       "      <td>14</td>\n",
       "      <td>7958</td>\n",
       "      <td>2042</td>\n",
       "      <td>8199</td>\n",
       "      <td>1168</td>\n",
       "      <td>184</td>\n",
       "      <td>449</td>\n",
       "      <td>24757</td>\n",
       "    </tr>\n",
       "    <tr>\n",
       "      <th>15</th>\n",
       "      <td>15</td>\n",
       "      <td>7950</td>\n",
       "      <td>2050</td>\n",
       "      <td>8226</td>\n",
       "      <td>1213</td>\n",
       "      <td>252</td>\n",
       "      <td>309</td>\n",
       "      <td>24404</td>\n",
       "    </tr>\n",
       "  </tbody>\n",
       "</table>\n",
       "</div>"
      ],
      "text/plain": [
       "    epochs  argmax > 0.5  argmax < 0.5  focus_true_pred_true  \\\n",
       "0        0           298          9702                   138   \n",
       "1        1          5473          4527                  2584   \n",
       "2        2          4785          5215                  5145   \n",
       "3        3          7292          2708                  6477   \n",
       "4        4          7081          2919                  6890   \n",
       "5        5          7703          2297                  7208   \n",
       "6        6          7001          2999                  7553   \n",
       "7        7          8237          1763                  7927   \n",
       "8        8          7650          2350                  7939   \n",
       "9        9          7858          2142                  8157   \n",
       "10      10          8093          1907                  8159   \n",
       "11      11          8134          1866                  8203   \n",
       "12      12          8161          1839                  8185   \n",
       "13      13          8264          1736                  8267   \n",
       "14      14          7958          2042                  8199   \n",
       "15      15          7950          2050                  8226   \n",
       "\n",
       "    focus_false_pred_true  focus_true_pred_false  focus_false_pred_false  \\\n",
       "0                    3216                    514                    6132   \n",
       "1                    2831                   1168                    3417   \n",
       "2                    2176                   1068                    1611   \n",
       "3                    1704                    665                    1154   \n",
       "4                    1715                    580                     815   \n",
       "5                    1482                    429                     881   \n",
       "6                    1468                    470                     509   \n",
       "7                    1258                    295                     520   \n",
       "8                    1338                    295                     428   \n",
       "9                    1171                    245                     427   \n",
       "10                   1178                    265                     398   \n",
       "11                   1123                    213                     461   \n",
       "12                   1192                    228                     395   \n",
       "13                   1122                    194                     417   \n",
       "14                   1168                    184                     449   \n",
       "15                   1213                    252                     309   \n",
       "\n",
       "    sparse_val  \n",
       "0        55044  \n",
       "1        34663  \n",
       "2        47559  \n",
       "3        30753  \n",
       "4        36180  \n",
       "5        27604  \n",
       "6        33087  \n",
       "7        24088  \n",
       "8        30127  \n",
       "9        28282  \n",
       "10       26284  \n",
       "11       24797  \n",
       "12       25359  \n",
       "13       23812  \n",
       "14       24757  \n",
       "15       24404  "
      ]
     },
     "execution_count": 38,
     "metadata": {},
     "output_type": "execute_result"
    }
   ],
   "source": [
    "df_test"
   ]
  },
  {
   "cell_type": "code",
   "execution_count": 39,
   "id": "6ac25b91",
   "metadata": {
    "execution": {
     "iopub.execute_input": "2021-09-03T04:22:22.750743Z",
     "iopub.status.busy": "2021-09-03T04:22:22.749911Z",
     "iopub.status.idle": "2021-09-03T04:22:22.753622Z",
     "shell.execute_reply": "2021-09-03T04:22:22.753162Z",
     "shell.execute_reply.started": "2021-09-03T03:52:54.269341Z"
    },
    "id": "0oGTwRsdmOe4",
    "papermill": {
     "duration": 0.061587,
     "end_time": "2021-09-03T04:22:22.753745",
     "exception": false,
     "start_time": "2021-09-03T04:22:22.692158",
     "status": "completed"
    },
    "tags": []
   },
   "outputs": [],
   "source": [
    "df_test.to_csv(path+\"_test.csv\")"
   ]
  },
  {
   "cell_type": "code",
   "execution_count": 40,
   "id": "d39a854f",
   "metadata": {
    "execution": {
     "iopub.execute_input": "2021-09-03T04:22:22.877854Z",
     "iopub.status.busy": "2021-09-03T04:22:22.876812Z",
     "iopub.status.idle": "2021-09-03T04:22:23.016846Z",
     "shell.execute_reply": "2021-09-03T04:22:23.017278Z",
     "shell.execute_reply.started": "2021-09-03T03:52:55.488869Z"
    },
    "id": "aRlpgnjy8k1n",
    "outputId": "1d976d4b-80f4-4c20-c9ed-ad76a972c79f",
    "papermill": {
     "duration": 0.212478,
     "end_time": "2021-09-03T04:22:23.017428",
     "exception": false,
     "start_time": "2021-09-03T04:22:22.804950",
     "status": "completed"
    },
    "tags": []
   },
   "outputs": [
    {
     "data": {
      "image/png": "[encoded data removed]",
      "text/plain": [
       "<Figure size 432x288 with 1 Axes>"
      ]
     },
     "metadata": {
      "needs_background": "light"
     },
     "output_type": "display_data"
    }
   ],
   "source": [
    "# plt.figure(12,12)\n",
    "plt.plot(col1,col8, label='argmax > 0.5')\n",
    "plt.plot(col1,col9, label='argmax < 0.5')\n",
    "\n",
    "plt.legend(loc='center left', bbox_to_anchor=(1, 0.5))\n",
    "plt.xlabel(\"epochs\")\n",
    "plt.ylabel(\"Testing data\")\n",
    "plt.title(\"On Testing set\")\n",
    "plt.show()\n",
    "\n"
   ]
  },
  {
   "cell_type": "code",
   "execution_count": 41,
   "id": "e762df80",
   "metadata": {
    "execution": {
     "iopub.execute_input": "2021-09-03T04:22:23.146281Z",
     "iopub.status.busy": "2021-09-03T04:22:23.145311Z",
     "iopub.status.idle": "2021-09-03T04:22:23.649003Z",
     "shell.execute_reply": "2021-09-03T04:22:23.649730Z",
     "shell.execute_reply.started": "2021-09-03T03:52:56.819643Z"
    },
    "id": "C0XPoT7FuBR6",
    "outputId": "a3f0db62-71a8-498a-d72e-c2afc8d8739b",
    "papermill": {
     "duration": 0.580024,
     "end_time": "2021-09-03T04:22:23.649901",
     "exception": false,
     "start_time": "2021-09-03T04:22:23.069877",
     "status": "completed"
    },
    "tags": []
   },
   "outputs": [
    {
     "data": {
      "image/png": "[encoded data removed]",
      "text/plain": [
       "<Figure size 432x360 with 1 Axes>"
      ]
     },
     "metadata": {
      "needs_background": "light"
     },
     "output_type": "display_data"
    }
   ],
   "source": [
    "plt.figure(figsize=(6,5))\n",
    "plt.plot(col1,np.array(col10)/100, label =\"FTPT \")\n",
    "plt.plot(col1,np.array(col11)/100, label =\"FFPT \")\n",
    "plt.plot(col1,np.array(col12)/100, label =\"FTPF \")\n",
    "plt.plot(col1,np.array(col13)/100, label =\"FFPF \")\n",
    "plt.title(\"On Testing set\")\n",
    "\n",
    "#plt.legend(loc='center left', bbox_to_anchor=(1, 0.5))\n",
    "plt.xlabel(\"epochs\", fontsize=14, fontweight = 'bold')\n",
    "plt.ylabel(\"percentage test data\", fontsize=14, fontweight = 'bold')\n",
    "# plt.xlabel(\"epochs\")\n",
    "# plt.ylabel(\"training data\")\n",
    "plt.legend()\n",
    "\n",
    "#plt.legend(loc='center left', bbox_to_anchor=(1, 0.5))\n",
    "plt.xlabel(\"epochs\")\n",
    "# plt.ylabel(\"Testing data\")\n",
    "plt.savefig(path + \"_test.png\",bbox_inches=\"tight\")\n",
    "plt.savefig(path + \"_test.pdf\",bbox_inches=\"tight\")\n",
    "plt.grid()\n",
    "plt.show()"
   ]
  },
  {
   "cell_type": "code",
   "execution_count": 42,
   "id": "aa0bc34e",
   "metadata": {
    "execution": {
     "iopub.execute_input": "2021-09-03T04:22:23.792164Z",
     "iopub.status.busy": "2021-09-03T04:22:23.791250Z",
     "iopub.status.idle": "2021-09-03T04:22:24.181742Z",
     "shell.execute_reply": "2021-09-03T04:22:24.181171Z",
     "shell.execute_reply.started": "2021-09-03T03:52:58.047497Z"
    },
    "id": "5oh4o6NfuBR7",
    "outputId": "7b6b839a-dbc8-4b26-967c-1c2743f16774",
    "papermill": {
     "duration": 0.477274,
     "end_time": "2021-09-03T04:22:24.181889",
     "exception": false,
     "start_time": "2021-09-03T04:22:23.704615",
     "status": "completed"
    },
    "tags": []
   },
   "outputs": [
    {
     "data": {
      "image/png": "[encoded data removed]",
      "text/plain": [
       "<Figure size 432x360 with 1 Axes>"
      ]
     },
     "metadata": {
      "needs_background": "light"
     },
     "output_type": "display_data"
    }
   ],
   "source": [
    "plt.figure(figsize=(6,5))\n",
    "plt.plot(col1,np.array(col15)/10000, label =\"sparsity_val\")\n",
    "\n",
    "plt.title(\"On Testing set\")\n",
    "#plt.legend(loc='center left', bbox_to_anchor=(1, 0.5))\n",
    "plt.xlabel(\"epochs\", fontsize=14, fontweight = 'bold')\n",
    "plt.ylabel(\"average sparsity value\", fontsize=14, fontweight = 'bold')\n",
    "plt.grid()\n",
    "\n",
    "plt.savefig(path + \"sparsity_test.png\",bbox_inches=\"tight\")\n",
    "plt.savefig(path + \"sparsity_test.pdf\",bbox_inches=\"tight\")\n",
    "plt.show()"
   ]
  },
  {
   "cell_type": "code",
   "execution_count": 43,
   "id": "7cbefaf9",
   "metadata": {
    "execution": {
     "iopub.execute_input": "2021-09-03T04:22:24.302347Z",
     "iopub.status.busy": "2021-09-03T04:22:24.291312Z",
     "iopub.status.idle": "2021-09-03T04:22:48.512043Z",
     "shell.execute_reply": "2021-09-03T04:22:48.511209Z",
     "shell.execute_reply.started": "2021-09-03T03:52:59.663101Z"
    },
    "id": "mSE5PCw2tyNO",
    "outputId": "59f0f59b-8414-43b3-cb1e-aa4b7d8a858b",
    "papermill": {
     "duration": 24.277154,
     "end_time": "2021-09-03T04:22:48.512204",
     "exception": false,
     "start_time": "2021-09-03T04:22:24.235050",
     "status": "completed"
    },
    "tags": []
   },
   "outputs": [
    {
     "name": "stdout",
     "output_type": "stream",
     "text": [
      "Accuracy of the network on the 30000 train images: 98.956667 %\n",
      "total correct 29687\n",
      "total train set images 30000\n",
      "focus_true_pred_true 25899 =============> FTPT : 86.330000 %\n",
      "focus_false_pred_true 3788 =============> FFPT : 12.626667 %\n",
      "focus_true_pred_false 181 =============> FTPF : 0.603333 %\n",
      "focus_false_pred_false 132 =============> FFPF : 0.440000 %\n",
      "Sparsity_Value 70130 =============> AVG Sparsity : 2.337667 \n",
      "argmax_more_than_half ==================>  24452\n",
      "argmax_less_than_half ==================>  5548\n",
      "30000\n",
      "====================================================================================================\n"
     ]
    }
   ],
   "source": [
    "correct = 0\n",
    "total = 0\n",
    "count = 0\n",
    "flag = 1\n",
    "focus_true_pred_true =0\n",
    "focus_false_pred_true =0\n",
    "focus_true_pred_false =0\n",
    "focus_false_pred_false =0\n",
    "\n",
    "argmax_more_than_half = 0\n",
    "argmax_less_than_half =0\n",
    "sparse_val = 0\n",
    "focus_net.eval()\n",
    "classify.eval()\n",
    "with torch.no_grad():\n",
    "  for data in train_loader:\n",
    "    inputs, labels , fore_idx = data\n",
    "    inputs = inputs.double()\n",
    "    inputs, labels , fore_idx = inputs.to(\"cuda\"),labels.to(\"cuda\"), fore_idx.to(\"cuda\")\n",
    "    alphas, avg_images = focus_net(inputs)\n",
    "    outputs = classify(avg_images)\n",
    "\n",
    "    _, predicted = torch.max(outputs.data, 1)\n",
    "    sparse_val += torch.sum(torch.sum(alphas>0.01,dim=1)).item()\n",
    "    for j in range(labels.size(0)):\n",
    "      count += 1\n",
    "      focus = torch.argmax(alphas[j])\n",
    "      if alphas[j][focus] >= 0.5 :\n",
    "        argmax_more_than_half += 1\n",
    "      else:\n",
    "        argmax_less_than_half += 1\n",
    "\n",
    "      if(focus == fore_idx[j] and predicted[j] == labels[j]):\n",
    "          focus_true_pred_true += 1\n",
    "      elif(focus != fore_idx[j] and predicted[j] == labels[j]):\n",
    "        focus_false_pred_true += 1\n",
    "      elif(focus == fore_idx[j] and predicted[j] != labels[j]):\n",
    "        focus_true_pred_false += 1\n",
    "      elif(focus != fore_idx[j] and predicted[j] != labels[j]):\n",
    "        focus_false_pred_false += 1\n",
    "\n",
    "    total += labels.size(0)\n",
    "    correct += (predicted == labels).sum().item()\n",
    "\n",
    "print('Accuracy of the network on the 30000 train images: %f %%' % ( 100 * correct / total))\n",
    "print(\"total correct\", correct)\n",
    "print(\"total train set images\", total)\n",
    "\n",
    "print(\"focus_true_pred_true %d =============> FTPT : %f %%\" % (focus_true_pred_true , (100 * focus_true_pred_true / total) ) )\n",
    "print(\"focus_false_pred_true %d =============> FFPT : %f %%\" % (focus_false_pred_true, (100 * focus_false_pred_true / total) ) )\n",
    "print(\"focus_true_pred_false %d =============> FTPF : %f %%\" %( focus_true_pred_false , ( 100 * focus_true_pred_false / total) ) )\n",
    "print(\"focus_false_pred_false %d =============> FFPF : %f %%\" % (focus_false_pred_false, ( 100 * focus_false_pred_false / total) ) )\n",
    "print(\"Sparsity_Value %d =============> AVG Sparsity : %f \" % (sparse_val,(sparse_val)/total))\n",
    "print(\"argmax_more_than_half ==================> \",argmax_more_than_half)\n",
    "print(\"argmax_less_than_half ==================> \",argmax_less_than_half)\n",
    "print(count)\n",
    "\n",
    "print(\"=\"*100)"
   ]
  },
  {
   "cell_type": "code",
   "execution_count": 44,
   "id": "66ce7c9d",
   "metadata": {
    "execution": {
     "iopub.execute_input": "2021-09-03T04:22:48.632177Z",
     "iopub.status.busy": "2021-09-03T04:22:48.630413Z",
     "iopub.status.idle": "2021-09-03T04:22:57.064805Z",
     "shell.execute_reply": "2021-09-03T04:22:57.064353Z",
     "shell.execute_reply.started": "2021-09-03T03:53:24.810674Z"
    },
    "id": "40tKBow5t1sF",
    "outputId": "2db3287c-37b4-4655-99b5-8c32e1f4a6c8",
    "papermill": {
     "duration": 8.499405,
     "end_time": "2021-09-03T04:22:57.064927",
     "exception": false,
     "start_time": "2021-09-03T04:22:48.565522",
     "status": "completed"
    },
    "tags": []
   },
   "outputs": [
    {
     "name": "stdout",
     "output_type": "stream",
     "text": [
      "Accuracy of the network on the 10000 test images: 94.390000 %\n",
      "total correct 9439\n",
      "total test set images 10000\n",
      "focus_true_pred_true 8226 =============> FTPT : 82.260000 %\n",
      "focus_false_pred_true 1213 =============> FFPT : 12.130000 %\n",
      "focus_true_pred_false 252 =============> FTPF : 2.520000 %\n",
      "focus_false_pred_false 309 =============> FFPF : 3.090000 %\n",
      "Sparsity_Value 24404 =============> AVG Sparsity : 2.440400 \n",
      "argmax_more_than_half ==================>  7950\n",
      "argmax_less_than_half ==================>  2050\n"
     ]
    }
   ],
   "source": [
    "correct = 0\n",
    "total = 0\n",
    "count = 0\n",
    "flag = 1\n",
    "focus_true_pred_true =0\n",
    "focus_false_pred_true =0\n",
    "focus_true_pred_false =0\n",
    "focus_false_pred_false =0\n",
    "\n",
    "argmax_more_than_half = 0\n",
    "argmax_less_than_half =0\n",
    "sparse_val = 0 \n",
    "focus_net.eval()\n",
    "classify.eval()\n",
    "with torch.no_grad():\n",
    "  for data in test_loader:\n",
    "    inputs, labels , fore_idx = data\n",
    "    inputs = inputs.double()\n",
    "    inputs, labels , fore_idx = inputs.to(\"cuda\"),labels.to(\"cuda\"), fore_idx.to(\"cuda\")\n",
    "    alphas, avg_images = focus_net(inputs)\n",
    "    outputs = classify(avg_images)\n",
    "\n",
    "    _, predicted = torch.max(outputs.data, 1)\n",
    "    sparse_val += torch.sum(torch.sum(alphas>0.01,dim=1)).item()\n",
    "    for j in range(labels.size(0)):\n",
    "      focus = torch.argmax(alphas[j])\n",
    "      if alphas[j][focus] >= 0.5 :\n",
    "        argmax_more_than_half += 1\n",
    "      else:\n",
    "        argmax_less_than_half += 1\n",
    "\n",
    "      if(focus == fore_idx[j] and predicted[j] == labels[j]):\n",
    "          focus_true_pred_true += 1\n",
    "      elif(focus != fore_idx[j] and predicted[j] == labels[j]):\n",
    "        focus_false_pred_true += 1\n",
    "      elif(focus == fore_idx[j] and predicted[j] != labels[j]):\n",
    "        focus_true_pred_false += 1\n",
    "      elif(focus != fore_idx[j] and predicted[j] != labels[j]):\n",
    "        focus_false_pred_false += 1\n",
    "\n",
    "    total += labels.size(0)\n",
    "    correct += (predicted == labels).sum().item()\n",
    "\n",
    "print('Accuracy of the network on the 10000 test images: %f %%' % (\n",
    "    100 * correct / total))\n",
    "print(\"total correct\", correct)\n",
    "print(\"total test set images\", total)\n",
    "\n",
    "print(\"focus_true_pred_true %d =============> FTPT : %f %%\" % (focus_true_pred_true , (100 * focus_true_pred_true / total) ) )\n",
    "print(\"focus_false_pred_true %d =============> FFPT : %f %%\" % (focus_false_pred_true, (100 * focus_false_pred_true / total) ) )\n",
    "print(\"focus_true_pred_false %d =============> FTPF : %f %%\" %( focus_true_pred_false , ( 100 * focus_true_pred_false / total) ) )\n",
    "print(\"focus_false_pred_false %d =============> FFPF : %f %%\" % (focus_false_pred_false, ( 100 * focus_false_pred_false / total) ) )\n",
    "print(\"Sparsity_Value %d =============> AVG Sparsity : %f \" % (sparse_val,(sparse_val)/total))\n",
    "\n",
    "print(\"argmax_more_than_half ==================> \",argmax_more_than_half)\n",
    "print(\"argmax_less_than_half ==================> \",argmax_less_than_half)"
   ]
  },
  {
   "cell_type": "code",
   "execution_count": 45,
   "id": "38b61df4",
   "metadata": {
    "execution": {
     "iopub.execute_input": "2021-09-03T04:22:57.177667Z",
     "iopub.status.busy": "2021-09-03T04:22:57.176869Z",
     "iopub.status.idle": "2021-09-03T04:23:16.050178Z",
     "shell.execute_reply": "2021-09-03T04:23:16.049235Z",
     "shell.execute_reply.started": "2021-09-03T03:53:33.101612Z"
    },
    "id": "iJEMJnUI9FP2",
    "papermill": {
     "duration": 18.932531,
     "end_time": "2021-09-03T04:23:16.050351",
     "exception": false,
     "start_time": "2021-09-03T04:22:57.117820",
     "status": "completed"
    },
    "tags": []
   },
   "outputs": [
    {
     "name": "stdout",
     "output_type": "stream",
     "text": [
      "Accuracy of the network on the 30000 train images: 99.046667 %\n",
      "total correct 29714\n",
      "total train set images 30000\n"
     ]
    }
   ],
   "source": [
    "correct = 0\n",
    "total = 0\n",
    "focus_net.eval()\n",
    "classify.eval()\n",
    "with torch.no_grad():\n",
    "  for data in train_loader:\n",
    "    inputs, labels , fore_idx = data\n",
    "    inputs = inputs.double()\n",
    "    inputs, labels = inputs.to(\"cuda\"), labels.to(\"cuda\")\n",
    "    alphas, avg_images = focus_net(inputs)\n",
    "    outputs = classify(avg_images)\n",
    "\n",
    "    _, predicted = torch.max(outputs.data, 1)\n",
    "\n",
    "    total += labels.size(0)\n",
    "    correct += (predicted == labels).sum().item()\n",
    "\n",
    "print('Accuracy of the network on the 30000 train images: %f %%' % ( 100 * correct / total))\n",
    "print(\"total correct\", correct)\n",
    "print(\"total train set images\", total)"
   ]
  },
  {
   "cell_type": "code",
   "execution_count": 46,
   "id": "0ed21d9b",
   "metadata": {
    "execution": {
     "iopub.execute_input": "2021-09-03T04:23:16.167530Z",
     "iopub.status.busy": "2021-09-03T04:23:16.166074Z",
     "iopub.status.idle": "2021-09-03T04:23:22.660245Z",
     "shell.execute_reply": "2021-09-03T04:23:22.661072Z",
     "shell.execute_reply.started": "2021-09-03T03:53:51.533376Z"
    },
    "id": "an7qmNLB-Ilb",
    "papermill": {
     "duration": 6.556833,
     "end_time": "2021-09-03T04:23:22.661285",
     "exception": false,
     "start_time": "2021-09-03T04:23:16.104452",
     "status": "completed"
    },
    "tags": []
   },
   "outputs": [
    {
     "name": "stdout",
     "output_type": "stream",
     "text": [
      "Accuracy of the network on the 10000 test images: 94.390000 %\n",
      "total correct 9439\n",
      "total train set images 10000\n"
     ]
    }
   ],
   "source": [
    "correct = 0\n",
    "total = 0\n",
    "focus_net.eval()\n",
    "classify.eval()\n",
    "with torch.no_grad():\n",
    "  for data in test_loader:\n",
    "    inputs, labels , fore_idx = data\n",
    "    inputs = inputs.double()\n",
    "    inputs, labels = inputs.to(\"cuda\"), labels.to(\"cuda\")\n",
    "    alphas, avg_images = focus_net(inputs)\n",
    "    outputs = classify(avg_images)\n",
    "\n",
    "    _, predicted = torch.max(outputs.data, 1)\n",
    "\n",
    "    total += labels.size(0)\n",
    "    correct += (predicted == labels).sum().item()\n",
    "\n",
    "print('Accuracy of the network on the 10000 test images: %f %%' % ( 100 * correct / total))\n",
    "print(\"total correct\", correct)\n",
    "print(\"total train set images\", total)"
   ]
  },
  {
   "cell_type": "code",
   "execution_count": null,
   "id": "53e25cb9",
   "metadata": {
    "id": "SKwqTXFjuBR_",
    "papermill": {
     "duration": 0.054224,
     "end_time": "2021-09-03T04:23:22.770262",
     "exception": false,
     "start_time": "2021-09-03T04:23:22.716038",
     "status": "completed"
    },
    "tags": []
   },
   "outputs": [],
   "source": []
  }
 ],
 "metadata": {
  "kernelspec": {
   "display_name": "Python 3",
   "language": "python",
   "name": "python3"
  },
  "language_info": {
   "codemirror_mode": {
    "name": "ipython",
    "version": 3
   },
   "file_extension": ".py",
   "mimetype": "text/x-python",
   "name": "python",
   "nbconvert_exporter": "python",
   "pygments_lexer": "ipython3",
   "version": "3.7.10"
  },
  "papermill": {
   "default_parameters": {},
   "duration": 1177.025086,
   "end_time": "2021-09-03T04:23:25.278919",
   "environment_variables": {},
   "exception": null,
   "input_path": "__notebook__.ipynb",
   "output_path": "__notebook__.ipynb",
   "parameters": {},
   "start_time": "2021-09-03T04:03:48.253833",
   "version": "2.3.3"
  },
  "widgets": {
   "application/vnd.jupyter.widget-state+json": {
    "state": {
     "057664ff943c4ef7a5b2d427e05f8f48": {
      "model_module": "@jupyter-widgets/controls",
      "model_module_version": "1.5.0",
      "model_name": "HTMLModel",
      "state": {
       "_dom_classes": [],
       "_model_module": "@jupyter-widgets/controls",
       "_model_module_version": "1.5.0",
       "_model_name": "HTMLModel",
       "_view_count": null,
       "_view_module": "@jupyter-widgets/controls",
       "_view_module_version": "1.5.0",
       "_view_name": "HTMLView",
       "description": "",
       "description_tooltip": null,
       "layout": "IPY_MODEL_6157b856cd254c4291c75ab1ad7ce49b",
       "placeholder": "​",
       "style": "IPY_MODEL_3d5a9d37ab8a4a61bf1224f82aa5c36c",
       "value": " 170500096/? [00:20&lt;00:00, 54956190.07it/s]"
      }
     },
     "0f8c36c60a92472c8c43a2423ce0e497": {
      "model_module": "@jupyter-widgets/controls",
      "model_module_version": "1.5.0",
      "model_name": "FloatProgressModel",
      "state": {
       "_dom_classes": [],
       "_model_module": "@jupyter-widgets/controls",
       "_model_module_version": "1.5.0",
       "_model_name": "FloatProgressModel",
       "_view_count": null,
       "_view_module": "@jupyter-widgets/controls",
       "_view_module_version": "1.5.0",
       "_view_name": "ProgressView",
       "bar_style": "info",
       "description": "",
       "description_tooltip": null,
       "layout": "IPY_MODEL_ea279de59f784cd4b52d204626713401",
       "max": 1.0,
       "min": 0.0,
       "orientation": "horizontal",
       "style": "IPY_MODEL_dc3c93d6f0094ad7ae19afbc5d4ff8ac",
       "value": 1.0
      }
     },
     "3d5a9d37ab8a4a61bf1224f82aa5c36c": {
      "model_module": "@jupyter-widgets/controls",
      "model_module_version": "1.5.0",
      "model_name": "DescriptionStyleModel",
      "state": {
       "_model_module": "@jupyter-widgets/controls",
       "_model_module_version": "1.5.0",
       "_model_name": "DescriptionStyleModel",
       "_view_count": null,
       "_view_module": "@jupyter-widgets/base",
       "_view_module_version": "1.2.0",
       "_view_name": "StyleView",
       "description_width": ""
      }
     },
     "55f4c60e2e03493e8909ced6af44b1fa": {
      "model_module": "@jupyter-widgets/controls",
      "model_module_version": "1.5.0",
      "model_name": "HBoxModel",
      "state": {
       "_dom_classes": [],
       "_model_module": "@jupyter-widgets/controls",
       "_model_module_version": "1.5.0",
       "_model_name": "HBoxModel",
       "_view_count": null,
       "_view_module": "@jupyter-widgets/controls",
       "_view_module_version": "1.5.0",
       "_view_name": "HBoxView",
       "box_style": "",
       "children": [
        "IPY_MODEL_90bf84d9e81b4c268a37fccbec9637a6",
        "IPY_MODEL_0f8c36c60a92472c8c43a2423ce0e497",
        "IPY_MODEL_057664ff943c4ef7a5b2d427e05f8f48"
       ],
       "layout": "IPY_MODEL_b8795a5d416b4d51985f8db37a166e25"
      }
     },
     "6157b856cd254c4291c75ab1ad7ce49b": {
      "model_module": "@jupyter-widgets/base",
      "model_module_version": "1.2.0",
      "model_name": "LayoutModel",
      "state": {
       "_model_module": "@jupyter-widgets/base",
       "_model_module_version": "1.2.0",
       "_model_name": "LayoutModel",
       "_view_count": null,
       "_view_module": "@jupyter-widgets/base",
       "_view_module_version": "1.2.0",
       "_view_name": "LayoutView",
       "align_content": null,
       "align_items": null,
       "align_self": null,
       "border": null,
       "bottom": null,
       "display": null,
       "flex": null,
       "flex_flow": null,
       "grid_area": null,
       "grid_auto_columns": null,
       "grid_auto_flow": null,
       "grid_auto_rows": null,
       "grid_column": null,
       "grid_gap": null,
       "grid_row": null,
       "grid_template_areas": null,
       "grid_template_columns": null,
       "grid_template_rows": null,
       "height": null,
       "justify_content": null,
       "justify_items": null,
       "left": null,
       "margin": null,
       "max_height": null,
       "max_width": null,
       "min_height": null,
       "min_width": null,
       "object_fit": null,
       "object_position": null,
       "order": null,
       "overflow": null,
       "overflow_x": null,
       "overflow_y": null,
       "padding": null,
       "right": null,
       "top": null,
       "visibility": null,
       "width": null
      }
     },
     "6476451eac854f88adb38bfe1ac0e5ec": {
      "model_module": "@jupyter-widgets/controls",
      "model_module_version": "1.5.0",
      "model_name": "DescriptionStyleModel",
      "state": {
       "_model_module": "@jupyter-widgets/controls",
       "_model_module_version": "1.5.0",
       "_model_name": "DescriptionStyleModel",
       "_view_count": null,
       "_view_module": "@jupyter-widgets/base",
       "_view_module_version": "1.2.0",
       "_view_name": "StyleView",
       "description_width": ""
      }
     },
     "90bf84d9e81b4c268a37fccbec9637a6": {
      "model_module": "@jupyter-widgets/controls",
      "model_module_version": "1.5.0",
      "model_name": "HTMLModel",
      "state": {
       "_dom_classes": [],
       "_model_module": "@jupyter-widgets/controls",
       "_model_module_version": "1.5.0",
       "_model_name": "HTMLModel",
       "_view_count": null,
       "_view_module": "@jupyter-widgets/controls",
       "_view_module_version": "1.5.0",
       "_view_name": "HTMLView",
       "description": "",
       "description_tooltip": null,
       "layout": "IPY_MODEL_bdd981a280e3420bb18747f1ca14c078",
       "placeholder": "​",
       "style": "IPY_MODEL_6476451eac854f88adb38bfe1ac0e5ec",
       "value": ""
      }
     },
     "b8795a5d416b4d51985f8db37a166e25": {
      "model_module": "@jupyter-widgets/base",
      "model_module_version": "1.2.0",
      "model_name": "LayoutModel",
      "state": {
       "_model_module": "@jupyter-widgets/base",
       "_model_module_version": "1.2.0",
       "_model_name": "LayoutModel",
       "_view_count": null,
       "_view_module": "@jupyter-widgets/base",
       "_view_module_version": "1.2.0",
       "_view_name": "LayoutView",
       "align_content": null,
       "align_items": null,
       "align_self": null,
       "border": null,
       "bottom": null,
       "display": null,
       "flex": null,
       "flex_flow": null,
       "grid_area": null,
       "grid_auto_columns": null,
       "grid_auto_flow": null,
       "grid_auto_rows": null,
       "grid_column": null,
       "grid_gap": null,
       "grid_row": null,
       "grid_template_areas": null,
       "grid_template_columns": null,
       "grid_template_rows": null,
       "height": null,
       "justify_content": null,
       "justify_items": null,
       "left": null,
       "margin": null,
       "max_height": null,
       "max_width": null,
       "min_height": null,
       "min_width": null,
       "object_fit": null,
       "object_position": null,
       "order": null,
       "overflow": null,
       "overflow_x": null,
       "overflow_y": null,
       "padding": null,
       "right": null,
       "top": null,
       "visibility": null,
       "width": null
      }
     },
     "bdd981a280e3420bb18747f1ca14c078": {
      "model_module": "@jupyter-widgets/base",
      "model_module_version": "1.2.0",
      "model_name": "LayoutModel",
      "state": {
       "_model_module": "@jupyter-widgets/base",
       "_model_module_version": "1.2.0",
       "_model_name": "LayoutModel",
       "_view_count": null,
       "_view_module": "@jupyter-widgets/base",
       "_view_module_version": "1.2.0",
       "_view_name": "LayoutView",
       "align_content": null,
       "align_items": null,
       "align_self": null,
       "border": null,
       "bottom": null,
       "display": null,
       "flex": null,
       "flex_flow": null,
       "grid_area": null,
       "grid_auto_columns": null,
       "grid_auto_flow": null,
       "grid_auto_rows": null,
       "grid_column": null,
       "grid_gap": null,
       "grid_row": null,
       "grid_template_areas": null,
       "grid_template_columns": null,
       "grid_template_rows": null,
       "height": null,
       "justify_content": null,
       "justify_items": null,
       "left": null,
       "margin": null,
       "max_height": null,
       "max_width": null,
       "min_height": null,
       "min_width": null,
       "object_fit": null,
       "object_position": null,
       "order": null,
       "overflow": null,
       "overflow_x": null,
       "overflow_y": null,
       "padding": null,
       "right": null,
       "top": null,
       "visibility": null,
       "width": null
      }
     },
     "dc3c93d6f0094ad7ae19afbc5d4ff8ac": {
      "model_module": "@jupyter-widgets/controls",
      "model_module_version": "1.5.0",
      "model_name": "ProgressStyleModel",
      "state": {
       "_model_module": "@jupyter-widgets/controls",
       "_model_module_version": "1.5.0",
       "_model_name": "ProgressStyleModel",
       "_view_count": null,
       "_view_module": "@jupyter-widgets/base",
       "_view_module_version": "1.2.0",
       "_view_name": "StyleView",
       "bar_color": null,
       "description_width": ""
      }
     },
     "ea279de59f784cd4b52d204626713401": {
      "model_module": "@jupyter-widgets/base",
      "model_module_version": "1.2.0",
      "model_name": "LayoutModel",
      "state": {
       "_model_module": "@jupyter-widgets/base",
       "_model_module_version": "1.2.0",
       "_model_name": "LayoutModel",
       "_view_count": null,
       "_view_module": "@jupyter-widgets/base",
       "_view_module_version": "1.2.0",
       "_view_name": "LayoutView",
       "align_content": null,
       "align_items": null,
       "align_self": null,
       "border": null,
       "bottom": null,
       "display": null,
       "flex": null,
       "flex_flow": null,
       "grid_area": null,
       "grid_auto_columns": null,
       "grid_auto_flow": null,
       "grid_auto_rows": null,
       "grid_column": null,
       "grid_gap": null,
       "grid_row": null,
       "grid_template_areas": null,
       "grid_template_columns": null,
       "grid_template_rows": null,
       "height": null,
       "justify_content": null,
       "justify_items": null,
       "left": null,
       "margin": null,
       "max_height": null,
       "max_width": null,
       "min_height": null,
       "min_width": null,
       "object_fit": null,
       "object_position": null,
       "order": null,
       "overflow": null,
       "overflow_x": null,
       "overflow_y": null,
       "padding": null,
       "right": null,
       "top": null,
       "visibility": null,
       "width": "20px"
      }
     }
    },
    "version_major": 2,
    "version_minor": 0
   }
  }
 },
 "nbformat": 4,
 "nbformat_minor": 5
}
