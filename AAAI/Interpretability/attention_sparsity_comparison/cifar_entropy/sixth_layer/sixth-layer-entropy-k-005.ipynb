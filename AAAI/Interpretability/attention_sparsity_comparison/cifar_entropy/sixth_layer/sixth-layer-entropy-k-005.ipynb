{
 "cells": [
  {
   "cell_type": "code",
   "execution_count": 1,
   "id": "bb151f62",
   "metadata": {
    "execution": {
     "iopub.execute_input": "2021-09-04T13:49:07.813044Z",
     "iopub.status.busy": "2021-09-04T13:49:07.812546Z",
     "iopub.status.idle": "2021-09-04T13:49:07.815797Z",
     "shell.execute_reply": "2021-09-04T13:49:07.816644Z",
     "shell.execute_reply.started": "2021-09-03T17:05:15.105239Z"
    },
    "id": "69930b53",
    "papermill": {
     "duration": 0.030273,
     "end_time": "2021-09-04T13:49:07.816856",
     "exception": false,
     "start_time": "2021-09-04T13:49:07.786583",
     "status": "completed"
    },
    "tags": []
   },
   "outputs": [],
   "source": [
    "# # from google.colab import drive\n",
    "# drive.mount('/content/drive')"
   ]
  },
  {
   "cell_type": "code",
   "execution_count": 2,
   "id": "b8d85dbe",
   "metadata": {
    "execution": {
     "iopub.execute_input": "2021-09-04T13:49:07.949212Z",
     "iopub.status.busy": "2021-09-04T13:49:07.938206Z",
     "iopub.status.idle": "2021-09-04T13:49:08.590313Z",
     "shell.execute_reply": "2021-09-04T13:49:08.589845Z",
     "shell.execute_reply.started": "2021-09-03T17:05:15.181841Z"
    },
    "id": "3bb4bdeb",
    "outputId": "0fefb66c-59b5-467b-9bd1-0adc7067fe2f",
    "papermill": {
     "duration": 0.754393,
     "end_time": "2021-09-04T13:49:08.590451",
     "exception": false,
     "start_time": "2021-09-04T13:49:07.836058",
     "status": "completed"
    },
    "tags": []
   },
   "outputs": [
    {
     "name": "stdout",
     "output_type": "stream",
     "text": [
      "/kaggle/working\r\n"
     ]
    }
   ],
   "source": [
    "# from google.colab import drive\n",
    "# drive.mount('/content/drive')\n",
    "!pwd"
   ]
  },
  {
   "cell_type": "code",
   "execution_count": 3,
   "id": "3220e385",
   "metadata": {
    "execution": {
     "iopub.execute_input": "2021-09-04T13:49:08.635166Z",
     "iopub.status.busy": "2021-09-04T13:49:08.634376Z",
     "iopub.status.idle": "2021-09-04T13:49:08.637142Z",
     "shell.execute_reply": "2021-09-04T13:49:08.636727Z",
     "shell.execute_reply.started": "2021-09-03T17:05:15.958836Z"
    },
    "id": "59416e0c",
    "papermill": {
     "duration": 0.026738,
     "end_time": "2021-09-04T13:49:08.637257",
     "exception": false,
     "start_time": "2021-09-04T13:49:08.610519",
     "status": "completed"
    },
    "tags": []
   },
   "outputs": [],
   "source": [
    "\n",
    "path = '/kaggle/working/run_'\n",
    "# path=''"
   ]
  },
  {
   "cell_type": "code",
   "execution_count": 4,
   "id": "57bc96a0",
   "metadata": {
    "execution": {
     "iopub.execute_input": "2021-09-04T13:49:08.682300Z",
     "iopub.status.busy": "2021-09-04T13:49:08.681760Z",
     "iopub.status.idle": "2021-09-04T13:49:09.925130Z",
     "shell.execute_reply": "2021-09-04T13:49:09.924201Z",
     "shell.execute_reply.started": "2021-09-03T17:05:28.273352Z"
    },
    "id": "e8aa1663",
    "papermill": {
     "duration": 1.268357,
     "end_time": "2021-09-04T13:49:09.925279",
     "exception": false,
     "start_time": "2021-09-04T13:49:08.656922",
     "status": "completed"
    },
    "tags": []
   },
   "outputs": [],
   "source": [
    "import torch.nn as nn\n",
    "import torch.nn.functional as F\n",
    "import pandas as pd\n",
    "import numpy as np\n",
    "import matplotlib.pyplot as plt\n",
    "import torch\n",
    "import torchvision\n",
    "import torchvision.transforms as transforms\n",
    "from torch.utils.data import Dataset, DataLoader\n",
    "from torchvision import transforms, utils\n",
    "from matplotlib import pyplot as plt\n",
    "import copy\n",
    "# from sparsemax import Sparsemax\n",
    "import torch.optim as optim\n",
    "\n",
    "\n",
    "\n",
    "# Ignore warnings\n",
    "import warnings\n",
    "warnings.filterwarnings(\"ignore\")\n",
    "# n_seed = 0\n",
    "#k = 0"
   ]
  },
  {
   "cell_type": "code",
   "execution_count": 5,
   "id": "2708bc24",
   "metadata": {
    "execution": {
     "iopub.execute_input": "2021-09-04T13:49:09.971099Z",
     "iopub.status.busy": "2021-09-04T13:49:09.969635Z",
     "iopub.status.idle": "2021-09-04T13:49:09.971899Z",
     "shell.execute_reply": "2021-09-04T13:49:09.972331Z",
     "shell.execute_reply.started": "2021-09-03T17:05:30.137406Z"
    },
    "id": "3bd8d578",
    "papermill": {
     "duration": 0.025951,
     "end_time": "2021-09-04T13:49:09.972462",
     "exception": false,
     "start_time": "2021-09-04T13:49:09.946511",
     "status": "completed"
    },
    "tags": []
   },
   "outputs": [],
   "source": [
    "torch.backends.cudnn.deterministic = True\n",
    "torch.backends.cudnn.benchmark= False"
   ]
  },
  {
   "cell_type": "code",
   "execution_count": 6,
   "id": "8ef013ca",
   "metadata": {
    "execution": {
     "iopub.execute_input": "2021-09-04T13:49:10.016424Z",
     "iopub.status.busy": "2021-09-04T13:49:10.015671Z",
     "iopub.status.idle": "2021-09-04T13:49:15.496921Z",
     "shell.execute_reply": "2021-09-04T13:49:15.496460Z",
     "shell.execute_reply.started": "2021-09-03T17:05:30.14726Z"
    },
    "id": "f930d92b",
    "outputId": "537f16ee-02fd-4d54-8846-aa323e0804e9",
    "papermill": {
     "duration": 5.50535,
     "end_time": "2021-09-04T13:49:15.497049",
     "exception": false,
     "start_time": "2021-09-04T13:49:09.991699",
     "status": "completed"
    },
    "tags": []
   },
   "outputs": [
    {
     "name": "stdout",
     "output_type": "stream",
     "text": [
      "Downloading https://www.cs.toronto.edu/~kriz/cifar-10-python.tar.gz to ./data/cifar-10-python.tar.gz\n"
     ]
    },
    {
     "data": {
      "application/vnd.jupyter.widget-view+json": {
       "model_id": "c98de61d005a467ab1057df961278a6f",
       "version_major": 2,
       "version_minor": 0
      },
      "text/plain": [
       "0it [00:00, ?it/s]"
      ]
     },
     "metadata": {},
     "output_type": "display_data"
    },
    {
     "name": "stdout",
     "output_type": "stream",
     "text": [
      "Extracting ./data/cifar-10-python.tar.gz to ./data\n",
      "Files already downloaded and verified\n"
     ]
    }
   ],
   "source": [
    "transform = transforms.Compose(\n",
    "    [transforms.ToTensor(),\n",
    "     transforms.Normalize((0.5, 0.5, 0.5), (0.5, 0.5, 0.5))])\n",
    "\n",
    "trainset = torchvision.datasets.CIFAR10(root='./data', train=True, download=True, transform=transform)\n",
    "\n",
    "\n",
    "testset = torchvision.datasets.CIFAR10(root='./data', train=False, download=True, transform=transform)\n"
   ]
  },
  {
   "cell_type": "code",
   "execution_count": 7,
   "id": "cf1d62be",
   "metadata": {
    "execution": {
     "iopub.execute_input": "2021-09-04T13:49:15.544781Z",
     "iopub.status.busy": "2021-09-04T13:49:15.543982Z",
     "iopub.status.idle": "2021-09-04T13:49:15.546643Z",
     "shell.execute_reply": "2021-09-04T13:49:15.546250Z",
     "shell.execute_reply.started": "2021-09-03T17:05:40.251387Z"
    },
    "id": "9d1d2898",
    "papermill": {
     "duration": 0.028611,
     "end_time": "2021-09-04T13:49:15.546749",
     "exception": false,
     "start_time": "2021-09-04T13:49:15.518138",
     "status": "completed"
    },
    "tags": []
   },
   "outputs": [],
   "source": [
    "trainloader = torch.utils.data.DataLoader(trainset, batch_size=10, shuffle=False)\n",
    "testloader = torch.utils.data.DataLoader(testset, batch_size=10, shuffle=False)\n",
    "\n",
    "\n",
    "classes = ('plane', 'car', 'bird', 'cat', 'deer', 'dog', 'frog', 'horse', 'ship', 'truck')\n",
    "\n",
    "foreground_classes = {'plane', 'car', 'bird'}\n",
    "#foreground_classes = {'bird', 'cat', 'deer'}\n",
    "background_classes = {'cat', 'deer', 'dog', 'frog', 'horse', 'ship', 'truck'}\n",
    "#background_classes = {'plane', 'car', 'dog', 'frog', 'horse','ship', 'truck'}\n",
    "\n",
    "fg1,fg2,fg3 = 0,1,2"
   ]
  },
  {
   "cell_type": "code",
   "execution_count": 8,
   "id": "3ea98c75",
   "metadata": {
    "execution": {
     "iopub.execute_input": "2021-09-04T13:49:15.595473Z",
     "iopub.status.busy": "2021-09-04T13:49:15.594877Z",
     "iopub.status.idle": "2021-09-04T13:50:05.815335Z",
     "shell.execute_reply": "2021-09-04T13:50:05.814592Z",
     "shell.execute_reply.started": "2021-09-03T17:05:40.262107Z"
    },
    "id": "6b95df3b",
    "papermill": {
     "duration": 50.24842,
     "end_time": "2021-09-04T13:50:05.815489",
     "exception": false,
     "start_time": "2021-09-04T13:49:15.567069",
     "status": "completed"
    },
    "tags": []
   },
   "outputs": [],
   "source": [
    "dataiter = iter(trainloader)\n",
    "background_data=[]\n",
    "background_label=[]\n",
    "foreground_data=[]\n",
    "foreground_label=[]\n",
    "batch_size=10\n",
    "\n",
    "for i in range(5000):\n",
    "  images, labels = dataiter.next()\n",
    "  for j in range(batch_size):\n",
    "    if(classes[labels[j]] in background_classes):\n",
    "      img = images[j].tolist()\n",
    "      background_data.append(img)\n",
    "      background_label.append(labels[j])\n",
    "    else:\n",
    "      img = images[j].tolist()\n",
    "      foreground_data.append(img)\n",
    "      foreground_label.append(labels[j])\n",
    "            \n",
    "foreground_data = torch.tensor(foreground_data)\n",
    "foreground_label = torch.tensor(foreground_label)\n",
    "background_data = torch.tensor(background_data)\n",
    "background_label = torch.tensor(background_label)"
   ]
  },
  {
   "cell_type": "code",
   "execution_count": 9,
   "id": "2b3a5442",
   "metadata": {
    "execution": {
     "iopub.execute_input": "2021-09-04T13:50:05.865466Z",
     "iopub.status.busy": "2021-09-04T13:50:05.864614Z",
     "iopub.status.idle": "2021-09-04T13:50:05.867296Z",
     "shell.execute_reply": "2021-09-04T13:50:05.866768Z",
     "shell.execute_reply.started": "2021-09-03T17:06:42.485612Z"
    },
    "id": "5c1e2f3d",
    "papermill": {
     "duration": 0.029475,
     "end_time": "2021-09-04T13:50:05.867408",
     "exception": false,
     "start_time": "2021-09-04T13:50:05.837933",
     "status": "completed"
    },
    "tags": []
   },
   "outputs": [],
   "source": [
    "def create_mosaic_img(bg_idx,fg_idx,fg): \n",
    "  \"\"\"\n",
    "  bg_idx : list of indexes of background_data[] to be used as background images in mosaic\n",
    "  fg_idx : index of image to be used as foreground image from foreground data\n",
    "  fg : at what position/index foreground image has to be stored out of 0-8\n",
    "  \"\"\"\n",
    "  image_list=[]\n",
    "  j=0\n",
    "  for i in range(9):\n",
    "    if i != fg:\n",
    "      image_list.append(background_data[bg_idx[j]])#.type(\"torch.DoubleTensor\"))\n",
    "      j+=1\n",
    "    else: \n",
    "      image_list.append(foreground_data[fg_idx])#.type(\"torch.DoubleTensor\"))\n",
    "      label = foreground_label[fg_idx]- fg1  # minus fg1 because our fore ground classes are fg1,fg2,fg3 but we have to store it as 0,1,2\n",
    "  #image_list = np.concatenate(image_list ,axis=0)\n",
    "  image_list = torch.stack(image_list) \n",
    "  return image_list,label"
   ]
  },
  {
   "cell_type": "code",
   "execution_count": 10,
   "id": "b7d1d100",
   "metadata": {
    "execution": {
     "iopub.execute_input": "2021-09-04T13:50:05.917208Z",
     "iopub.status.busy": "2021-09-04T13:50:05.916313Z",
     "iopub.status.idle": "2021-09-04T13:50:10.996263Z",
     "shell.execute_reply": "2021-09-04T13:50:10.995241Z",
     "shell.execute_reply.started": "2021-09-03T17:06:42.498207Z"
    },
    "id": "3d055e22",
    "papermill": {
     "duration": 5.108153,
     "end_time": "2021-09-04T13:50:10.996413",
     "exception": false,
     "start_time": "2021-09-04T13:50:05.888260",
     "status": "completed"
    },
    "tags": []
   },
   "outputs": [],
   "source": [
    "desired_num = 30000\n",
    "mosaic_list_of_images =[]      # list of mosaic images, each mosaic image is saved as list of 9 images\n",
    "fore_idx =[]                   # list of indexes at which foreground image is present in a mosaic image i.e from 0 to 9               \n",
    "mosaic_label=[]                # label of mosaic image = foreground class present in that mosaic\n",
    "for i in range(desired_num):\n",
    "  np.random.seed(i)\n",
    "  bg_idx = np.random.randint(0,35000,8)\n",
    "  fg_idx = np.random.randint(0,15000)\n",
    "  fg = np.random.randint(0,9)\n",
    "  fore_idx.append(fg)\n",
    "  image_list,label = create_mosaic_img(bg_idx,fg_idx,fg)\n",
    "  mosaic_list_of_images.append(image_list)\n",
    "  mosaic_label.append(label)"
   ]
  },
  {
   "cell_type": "code",
   "execution_count": 11,
   "id": "1a18e04c",
   "metadata": {
    "execution": {
     "iopub.execute_input": "2021-09-04T13:50:11.060644Z",
     "iopub.status.busy": "2021-09-04T13:50:11.059590Z",
     "iopub.status.idle": "2021-09-04T13:50:11.209235Z",
     "shell.execute_reply": "2021-09-04T13:50:11.209663Z",
     "shell.execute_reply.started": "2021-09-03T17:06:49.721109Z"
    },
    "id": "e3d3c1ee",
    "papermill": {
     "duration": 0.190582,
     "end_time": "2021-09-04T13:50:11.209811",
     "exception": false,
     "start_time": "2021-09-04T13:50:11.019229",
     "status": "completed"
    },
    "tags": []
   },
   "outputs": [
    {
     "data": {
      "text/plain": [
       "<matplotlib.image.AxesImage at 0x7f2b13796550>"
      ]
     },
     "execution_count": 11,
     "metadata": {},
     "output_type": "execute_result"
    },
    {
     "data": {
      "image/png": "[encoded data removed]",
      "text/plain": [
       "<Figure size 432x288 with 1 Axes>"
      ]
     },
     "metadata": {
      "needs_background": "light"
     },
     "output_type": "display_data"
    }
   ],
   "source": [
    "plt.imshow(torch.transpose(mosaic_list_of_images[0][1],dim0= 0,dim1 = 2))"
   ]
  },
  {
   "cell_type": "code",
   "execution_count": 12,
   "id": "983b00c2",
   "metadata": {
    "execution": {
     "iopub.execute_input": "2021-09-04T13:50:11.260407Z",
     "iopub.status.busy": "2021-09-04T13:50:11.259676Z",
     "iopub.status.idle": "2021-09-04T13:50:11.262620Z",
     "shell.execute_reply": "2021-09-04T13:50:11.262180Z",
     "shell.execute_reply.started": "2021-09-03T17:06:49.945797Z"
    },
    "id": "75820e1e",
    "papermill": {
     "duration": 0.030475,
     "end_time": "2021-09-04T13:50:11.262732",
     "exception": false,
     "start_time": "2021-09-04T13:50:11.232257",
     "status": "completed"
    },
    "tags": []
   },
   "outputs": [],
   "source": [
    "class MosaicDataset(Dataset):\n",
    "  \"\"\"MosaicDataset dataset.\"\"\"\n",
    "\n",
    "  def __init__(self, mosaic_list_of_images, mosaic_label, fore_idx):\n",
    "    \"\"\"\n",
    "      Args:\n",
    "        csv_file (string): Path to the csv file with annotations.\n",
    "        root_dir (string): Directory with all the images.\n",
    "        transform (callable, optional): Optional transform to be applied\n",
    "            on a sample.\n",
    "    \"\"\"\n",
    "    self.mosaic = mosaic_list_of_images\n",
    "    self.label = mosaic_label\n",
    "    self.fore_idx = fore_idx\n",
    "\n",
    "  def __len__(self):\n",
    "    return len(self.label)\n",
    "\n",
    "  def __getitem__(self, idx):\n",
    "    return self.mosaic[idx] , self.label[idx], self.fore_idx[idx]\n",
    "\n",
    "batch = 250\n",
    "msd = MosaicDataset(mosaic_list_of_images, mosaic_label , fore_idx)\n",
    "train_loader = DataLoader( msd,batch_size= batch ,shuffle=True)"
   ]
  },
  {
   "cell_type": "code",
   "execution_count": 13,
   "id": "f3d92873",
   "metadata": {
    "execution": {
     "iopub.execute_input": "2021-09-04T13:50:11.325331Z",
     "iopub.status.busy": "2021-09-04T13:50:11.324380Z",
     "iopub.status.idle": "2021-09-04T13:50:11.330183Z",
     "shell.execute_reply": "2021-09-04T13:50:11.329727Z",
     "shell.execute_reply.started": "2021-09-03T17:19:37.739447Z"
    },
    "id": "d0444a92",
    "papermill": {
     "duration": 0.045771,
     "end_time": "2021-09-04T13:50:11.330287",
     "exception": false,
     "start_time": "2021-09-04T13:50:11.284516",
     "status": "completed"
    },
    "tags": []
   },
   "outputs": [],
   "source": [
    "class Focus(nn.Module):\n",
    "  def __init__(self):\n",
    "    super(Focus, self).__init__()\n",
    "    self.conv1 = nn.Conv2d(in_channels=3, out_channels=32, kernel_size=3, padding=0,bias=False)\n",
    "    self.conv2 = nn.Conv2d(in_channels=32, out_channels=64, kernel_size=3, padding=0,bias=False)\n",
    "    self.conv3 = nn.Conv2d(in_channels=64, out_channels=64, kernel_size=3, padding=0,bias=False)\n",
    "    self.conv4 = nn.Conv2d(in_channels=64, out_channels=128, kernel_size=3, padding=0,bias=False)\n",
    "    self.conv5 = nn.Conv2d(in_channels=128, out_channels=256, kernel_size=3, padding=0,bias=False)\n",
    "    self.conv6 = nn.Conv2d(in_channels=256, out_channels=256, kernel_size=3, padding=1,bias=False)\n",
    "    self.pool = nn.MaxPool2d(kernel_size=2, stride=2)\n",
    "    self.batch_norm1 = nn.BatchNorm2d(32,track_running_stats=False)\n",
    "    self.batch_norm2 = nn.BatchNorm2d(64,track_running_stats=False)\n",
    "    self.batch_norm3 = nn.BatchNorm2d(256,track_running_stats=False)\n",
    "    self.dropout1 = nn.Dropout2d(p=0.05)\n",
    "    self.dropout2 = nn.Dropout2d(p=0.1)\n",
    "    self.fc1 = nn.Linear(256,64,bias=False)\n",
    "    self.fc2 = nn.Linear(64, 32,bias=False)\n",
    "    self.fc3 = nn.Linear(32, 10,bias=False)\n",
    "    self.fc4 = nn.Linear(10, 1,bias=False)\n",
    "\n",
    "    torch.nn.init.xavier_normal_(self.conv1.weight)\n",
    "    torch.nn.init.xavier_normal_(self.conv2.weight)\n",
    "    torch.nn.init.xavier_normal_(self.conv3.weight)\n",
    "    torch.nn.init.xavier_normal_(self.conv4.weight)\n",
    "    torch.nn.init.xavier_normal_(self.conv5.weight)\n",
    "    torch.nn.init.xavier_normal_(self.conv6.weight)\n",
    "\n",
    "    torch.nn.init.xavier_normal_(self.fc1.weight)\n",
    "    torch.nn.init.xavier_normal_(self.fc2.weight)\n",
    "    torch.nn.init.xavier_normal_(self.fc3.weight)\n",
    "    torch.nn.init.xavier_normal_(self.fc4.weight)\n",
    "\n",
    "  def forward(self,z):  #y is avg image #z batch of list of 9 images\n",
    "    y = torch.zeros([batch,256, 3,3], dtype=torch.float64)\n",
    "    x = torch.zeros([batch,9],dtype=torch.float64)\n",
    "    ftr = torch.zeros([batch,9,256,3,3])\n",
    "    y = y.to(\"cuda\")\n",
    "    x = x.to(\"cuda\")\n",
    "    ftr = ftr.to(\"cuda\")\n",
    "    \n",
    "    for i in range(9):\n",
    "        out,ftrs = self.helper(z[:,i])\n",
    "        #print(out.shape)\n",
    "        x[:,i] = out\n",
    "        ftr[:,i] = ftrs\n",
    "    log_x = F.log_softmax(x,dim=1)  # log_alpha\n",
    "    x = F.softmax(x,dim=1) \n",
    "\n",
    "    for i in range(9):            \n",
    "      x1 = x[:,i]          \n",
    "      y = y + torch.mul(x1[:,None,None,None],ftr[:,i])\n",
    "\n",
    "    return x, y, log_x, #alpha, log_alpha, avg_data\n",
    "    \n",
    "  def helper(self, x):\n",
    "    #x1 = x\n",
    "    #x1 =x\n",
    "    x = self.conv1(x)\n",
    "    x = F.relu(self.batch_norm1(x))\n",
    "\n",
    "    x = (F.relu(self.conv2(x)))\n",
    "    x = self.pool(x)\n",
    "    \n",
    "    x = self.conv3(x)\n",
    "    x = F.relu(self.batch_norm2(x))\n",
    "\n",
    "    x = (F.relu(self.conv4(x)))\n",
    "    x = self.pool(x)\n",
    "    x = self.dropout1(x)\n",
    "\n",
    "    x = self.conv5(x)\n",
    "    \n",
    "    x = F.relu(self.batch_norm3(x))\n",
    "\n",
    "    x = self.conv6(x)\n",
    "    x1 = F.tanh(x)\n",
    "    x = F.relu(x)\n",
    "    x = self.pool(x)\n",
    "\n",
    "    x = x.view(x.size(0), -1)\n",
    "\n",
    "    x = self.dropout2(x)\n",
    "    x = F.relu(self.fc1(x))\n",
    "    x = F.relu(self.fc2(x))\n",
    "    x = self.dropout2(x)\n",
    "    x = F.relu(self.fc3(x))\n",
    "    x = self.fc4(x)\n",
    "    x = x[:,0] \n",
    "    # print(x.shape)\n",
    "    return x,x1"
   ]
  },
  {
   "cell_type": "code",
   "execution_count": 14,
   "id": "43112d17",
   "metadata": {
    "execution": {
     "iopub.execute_input": "2021-09-04T13:50:11.390392Z",
     "iopub.status.busy": "2021-09-04T13:50:11.389628Z",
     "iopub.status.idle": "2021-09-04T13:50:11.392288Z",
     "shell.execute_reply": "2021-09-04T13:50:11.391762Z",
     "shell.execute_reply.started": "2021-09-03T17:19:45.052391Z"
    },
    "id": "aad06548",
    "papermill": {
     "duration": 0.040757,
     "end_time": "2021-09-04T13:50:11.392387",
     "exception": false,
     "start_time": "2021-09-04T13:50:11.351630",
     "status": "completed"
    },
    "tags": []
   },
   "outputs": [],
   "source": [
    "class Classification(nn.Module):\n",
    "  def __init__(self):\n",
    "    super(Classification, self).__init__()\n",
    "    self.conv1 = nn.Conv2d(in_channels=256, out_channels=128, kernel_size=3, padding=1)\n",
    "    self.conv2 = nn.Conv2d(in_channels=128, out_channels=128, kernel_size=3, padding=1)\n",
    "    self.conv3 = nn.Conv2d(in_channels=128, out_channels=256, kernel_size=3, padding=1)\n",
    "    self.conv4 = nn.Conv2d(in_channels=256, out_channels=256, kernel_size=3, padding=1)\n",
    "    self.conv5 = nn.Conv2d(in_channels=256, out_channels=512, kernel_size=3, padding=1)\n",
    "    self.conv6 = nn.Conv2d(in_channels=512, out_channels=512, kernel_size=3, padding=1)\n",
    "    self.pool = nn.MaxPool2d(kernel_size=2, stride=2,padding=1)\n",
    "    self.batch_norm1 = nn.BatchNorm2d(128,track_running_stats=False)\n",
    "    self.batch_norm2 = nn.BatchNorm2d(256,track_running_stats=False)\n",
    "    self.batch_norm3 = nn.BatchNorm2d(512,track_running_stats=False)\n",
    "    self.dropout1 = nn.Dropout2d(p=0.05)\n",
    "    self.dropout2 = nn.Dropout2d(p=0.1)\n",
    "    self.global_average_pooling = nn.AvgPool2d(kernel_size=2)\n",
    "    self.fc1 = nn.Linear(512,128)\n",
    "    # self.fc2 = nn.Linear(128, 64)\n",
    "    # self.fc3 = nn.Linear(64, 10)\n",
    "    self.fc2 = nn.Linear(128, 3)\n",
    "\n",
    "    torch.nn.init.xavier_normal_(self.conv1.weight)\n",
    "    torch.nn.init.xavier_normal_(self.conv2.weight)\n",
    "    torch.nn.init.xavier_normal_(self.conv3.weight)\n",
    "    torch.nn.init.xavier_normal_(self.conv4.weight)\n",
    "    torch.nn.init.xavier_normal_(self.conv5.weight)\n",
    "    torch.nn.init.xavier_normal_(self.conv6.weight)\n",
    "\n",
    "    torch.nn.init.zeros_(self.conv1.bias)\n",
    "    torch.nn.init.zeros_(self.conv2.bias)\n",
    "    torch.nn.init.zeros_(self.conv3.bias)\n",
    "    torch.nn.init.zeros_(self.conv4.bias)\n",
    "    torch.nn.init.zeros_(self.conv5.bias)\n",
    "    torch.nn.init.zeros_(self.conv6.bias)\n",
    "\n",
    "\n",
    "    torch.nn.init.xavier_normal_(self.fc1.weight)\n",
    "    torch.nn.init.xavier_normal_(self.fc2.weight)\n",
    "    torch.nn.init.zeros_(self.fc1.bias)\n",
    "    torch.nn.init.zeros_(self.fc2.bias)\n",
    "\n",
    "\n",
    "  def forward(self, x):\n",
    "    x = self.conv1(x)\n",
    "    x = F.relu(self.batch_norm1(x))\n",
    "\n",
    "    x = (F.relu(self.conv2(x)))\n",
    "    x = self.pool(x)\n",
    "    \n",
    "    x = self.conv3(x)\n",
    "    x = F.relu(self.batch_norm2(x))\n",
    "\n",
    "    x = (F.relu(self.conv4(x)))\n",
    "    x = self.pool(x)\n",
    "    x = self.dropout1(x)\n",
    "\n",
    "    x = self.conv5(x)\n",
    "    x = F.relu(self.batch_norm3(x))\n",
    "\n",
    "    x = (F.relu(self.conv6(x)))\n",
    "    x = self.pool(x)\n",
    "    #print(x.shape)\n",
    "    x = self.global_average_pooling(x)\n",
    "    x = x.squeeze()\n",
    "    #x = x.view(x.size(0), -1)\n",
    "    #print(x.shape)\n",
    "    x = self.dropout2(x)\n",
    "    x = F.relu(self.fc1(x))\n",
    "    #x = F.relu(self.fc2(x))\n",
    "    #x = self.dropout2(x)\n",
    "    #x = F.relu(self.fc3(x))\n",
    "    x = self.fc2(x)\n",
    "    return x"
   ]
  },
  {
   "cell_type": "code",
   "execution_count": 15,
   "id": "67e15dc8",
   "metadata": {
    "execution": {
     "iopub.execute_input": "2021-09-04T13:50:11.441252Z",
     "iopub.status.busy": "2021-09-04T13:50:11.440415Z",
     "iopub.status.idle": "2021-09-04T13:50:13.083727Z",
     "shell.execute_reply": "2021-09-04T13:50:13.082838Z",
     "shell.execute_reply.started": "2021-09-03T17:19:46.98611Z"
    },
    "id": "4e9a8273",
    "papermill": {
     "duration": 1.670137,
     "end_time": "2021-09-04T13:50:13.083859",
     "exception": false,
     "start_time": "2021-09-04T13:50:11.413722",
     "status": "completed"
    },
    "tags": []
   },
   "outputs": [],
   "source": [
    "test_images =[]        #list of mosaic images, each mosaic image is saved as laist of 9 images\n",
    "fore_idx_test =[]                   #list of indexes at which foreground image is present in a mosaic image                \n",
    "test_label=[]                # label of mosaic image = foreground class present in that mosaic\n",
    "for i in range(10000):\n",
    "  np.random.seed(i+30000)\n",
    "  bg_idx = np.random.randint(0,35000,8)\n",
    "  fg_idx = np.random.randint(0,15000)\n",
    "  fg = np.random.randint(0,9)\n",
    "  fore_idx_test.append(fg)\n",
    "  image_list,label = create_mosaic_img(bg_idx,fg_idx,fg)\n",
    "  test_images.append(image_list)\n",
    "  test_label.append(label)"
   ]
  },
  {
   "cell_type": "code",
   "execution_count": 16,
   "id": "d99ae5f2",
   "metadata": {
    "execution": {
     "iopub.execute_input": "2021-09-04T13:50:13.132265Z",
     "iopub.status.busy": "2021-09-04T13:50:13.131433Z",
     "iopub.status.idle": "2021-09-04T13:50:13.133694Z",
     "shell.execute_reply": "2021-09-04T13:50:13.134066Z",
     "shell.execute_reply.started": "2021-09-03T17:19:49.690982Z"
    },
    "id": "20bc2956",
    "papermill": {
     "duration": 0.028155,
     "end_time": "2021-09-04T13:50:13.134204",
     "exception": false,
     "start_time": "2021-09-04T13:50:13.106049",
     "status": "completed"
    },
    "tags": []
   },
   "outputs": [],
   "source": [
    "test_data = MosaicDataset(test_images,test_label,fore_idx_test)\n",
    "test_loader = DataLoader( test_data,batch_size= batch ,shuffle=False)"
   ]
  },
  {
   "cell_type": "code",
   "execution_count": 17,
   "id": "f054c66b",
   "metadata": {
    "execution": {
     "iopub.execute_input": "2021-09-04T13:50:13.182620Z",
     "iopub.status.busy": "2021-09-04T13:50:13.181949Z",
     "iopub.status.idle": "2021-09-04T13:50:13.184869Z",
     "shell.execute_reply": "2021-09-04T13:50:13.184418Z"
    },
    "id": "ec8d6a06",
    "papermill": {
     "duration": 0.029203,
     "end_time": "2021-09-04T13:50:13.184980",
     "exception": false,
     "start_time": "2021-09-04T13:50:13.155777",
     "status": "completed"
    },
    "tags": []
   },
   "outputs": [],
   "source": [
    "criterion = nn.CrossEntropyLoss()\n",
    "def my_cross_entropy(x, y,alpha,log_alpha,k):\n",
    "    # log_prob = -1.0 * F.log_softmax(x, 1)\n",
    "    # loss = log_prob.gather(1, y.unsqueeze(1))\n",
    "    # loss = loss.mean()\n",
    "    loss = criterion(x,y)\n",
    "    \n",
    "    #alpha = torch.clamp(alpha,min=1e-10)     \n",
    "    \n",
    "    b = -1.0* alpha * log_alpha\n",
    "    b =  torch.mean(torch.sum(b,dim=1))\n",
    "    closs = loss\n",
    "    entropy = b \n",
    "    loss = (1-k)*loss + ((k)*b)\n",
    "    return loss,closs,entropy"
   ]
  },
  {
   "cell_type": "code",
   "execution_count": 18,
   "id": "e50b4534",
   "metadata": {
    "execution": {
     "iopub.execute_input": "2021-09-04T13:50:13.239488Z",
     "iopub.status.busy": "2021-09-04T13:50:13.238739Z",
     "iopub.status.idle": "2021-09-04T13:50:13.241324Z",
     "shell.execute_reply": "2021-09-04T13:50:13.240889Z",
     "shell.execute_reply.started": "2021-09-03T17:19:50.107148Z"
    },
    "id": "a3927db7",
    "papermill": {
     "duration": 0.034965,
     "end_time": "2021-09-04T13:50:13.241435",
     "exception": false,
     "start_time": "2021-09-04T13:50:13.206470",
     "status": "completed"
    },
    "tags": []
   },
   "outputs": [],
   "source": [
    "def calculate_attn_loss(dataloader,what,where,k):\n",
    "    what.eval()\n",
    "    where.eval()\n",
    "    r_loss = 0\n",
    "    alphas = []\n",
    "    lbls = []\n",
    "    pred = []\n",
    "    fidices = []\n",
    "    with torch.no_grad():\n",
    "        for i, data in enumerate(dataloader, 0):\n",
    "            inputs, labels,fidx = data\n",
    "            lbls.append(labels)\n",
    "            fidices.append(fidx)\n",
    "            inputs = inputs.double()\n",
    "            inputs, labels = inputs.to(\"cuda\"),labels.to(\"cuda\")\n",
    "\n",
    "\n",
    "\n",
    "            alpha, avg_images,log_alphas = focus_net(inputs)\n",
    "            outputs = classify(avg_images)\n",
    "      \n",
    "      \n",
    "            _, predicted = torch.max(outputs.data, 1)\n",
    "            pred.append(predicted.cpu().numpy())\n",
    "            alphas.append(alpha.cpu().numpy())\n",
    "\n",
    "            loss,_,_ = my_cross_entropy(outputs, labels, alpha, log_alphas, k)\n",
    "            r_loss += loss.item()\n",
    "\n",
    "\n",
    "    alphas = np.concatenate(alphas,axis=0)\n",
    "    pred = np.concatenate(pred,axis=0)\n",
    "    lbls = np.concatenate(lbls,axis=0)\n",
    "    fidices = np.concatenate(fidices,axis=0)\n",
    "    #print(alphas.shape,pred.shape,lbls.shape,fidices.shape) \n",
    "    \n",
    "    # value>0.01\n",
    "    sparsity_val = np.sum(np.sum(alphas>0.01,axis=1))\n",
    "    \n",
    "    \n",
    "    # simplex distance\n",
    "    argmax_index = np.argmax(alphas,axis=1)\n",
    "    simplex_pt = np.zeros(alphas.shape)\n",
    "    simplex_pt[np.arange(argmax_index.size),argmax_index] = 1\n",
    "    \n",
    "    shortest_distance_simplex = np.sum(np.sqrt(np.sum((alphas-simplex_pt)**2,axis=1))) \n",
    "    \n",
    "    # entropy\n",
    "    entropy = np.sum((-alphas*np.log2(alphas)).sum(axis=1))\n",
    "    \n",
    "    \n",
    "    \n",
    "    \n",
    "    \n",
    "    \n",
    "    \n",
    "    analysis = analyse_data(alphas,lbls,pred,fidices)\n",
    "    return analysis,[sparsity_val,shortest_distance_simplex ,entropy]"
   ]
  },
  {
   "cell_type": "code",
   "execution_count": 19,
   "id": "e1a31ce1",
   "metadata": {
    "execution": {
     "iopub.execute_input": "2021-09-04T13:50:13.291457Z",
     "iopub.status.busy": "2021-09-04T13:50:13.290780Z",
     "iopub.status.idle": "2021-09-04T13:50:13.293514Z",
     "shell.execute_reply": "2021-09-04T13:50:13.293083Z",
     "shell.execute_reply.started": "2021-09-03T17:19:51.364595Z"
    },
    "id": "e86fd03e",
    "papermill": {
     "duration": 0.03097,
     "end_time": "2021-09-04T13:50:13.293611",
     "exception": false,
     "start_time": "2021-09-04T13:50:13.262641",
     "status": "completed"
    },
    "tags": []
   },
   "outputs": [],
   "source": [
    "def analyse_data(alphas,lbls,predicted,f_idx):\n",
    "    '''\n",
    "       analysis data is created here\n",
    "    '''\n",
    "    batch = len(predicted)\n",
    "    amth,alth,ftpt,ffpt,ftpf,ffpf = 0,0,0,0,0,0\n",
    "    for j in range (batch):\n",
    "        focus = np.argmax(alphas[j])\n",
    "        if(alphas[j][focus] >= 0.5):\n",
    "            amth +=1\n",
    "        else:\n",
    "            alth +=1\n",
    "        if(focus == f_idx[j] and predicted[j] == lbls[j]):\n",
    "            ftpt += 1\n",
    "        elif(focus != f_idx[j] and predicted[j] == lbls[j]):\n",
    "            ffpt +=1\n",
    "        elif(focus == f_idx[j] and predicted[j] != lbls[j]):\n",
    "            ftpf +=1\n",
    "        elif(focus != f_idx[j] and predicted[j] != lbls[j]):\n",
    "            ffpf +=1\n",
    "\n",
    "    return [ftpt,ffpt,ftpf,ffpf,amth,alth]"
   ]
  },
  {
   "cell_type": "code",
   "execution_count": 20,
   "id": "7e165b8e",
   "metadata": {
    "execution": {
     "iopub.execute_input": "2021-09-04T13:50:13.340020Z",
     "iopub.status.busy": "2021-09-04T13:50:13.339326Z",
     "iopub.status.idle": "2021-09-04T13:50:13.341983Z",
     "shell.execute_reply": "2021-09-04T13:50:13.341496Z",
     "shell.execute_reply.started": "2021-09-03T17:19:52.357725Z"
    },
    "id": "2414b1da",
    "papermill": {
     "duration": 0.027253,
     "end_time": "2021-09-04T13:50:13.342081",
     "exception": false,
     "start_time": "2021-09-04T13:50:13.314828",
     "status": "completed"
    },
    "tags": []
   },
   "outputs": [],
   "source": [
    "n_seed =[0, 1, 2]\n",
    "lr = [0.0005]\n",
    "k = 0.005 # k 0, 0.001 0.003, 0.005"
   ]
  },
  {
   "cell_type": "code",
   "execution_count": 21,
   "id": "aea34f09",
   "metadata": {
    "execution": {
     "iopub.execute_input": "2021-09-04T13:50:13.403034Z",
     "iopub.status.busy": "2021-09-04T13:50:13.402484Z",
     "iopub.status.idle": "2021-09-04T14:54:16.052459Z",
     "shell.execute_reply": "2021-09-04T14:54:16.052898Z",
     "shell.execute_reply.started": "2021-09-03T17:19:53.741298Z"
    },
    "id": "56a132e5",
    "papermill": {
     "duration": 3842.689668,
     "end_time": "2021-09-04T14:54:16.053062",
     "exception": false,
     "start_time": "2021-09-04T13:50:13.363394",
     "status": "completed"
    },
    "tags": []
   },
   "outputs": [
    {
     "name": "stdout",
     "output_type": "stream",
     "text": [
      "initializing models using seed 0\n",
      "using lr 0.0005\n",
      "[1,    60] loss: 1.088\n",
      "[1,   120] loss: 0.875\n",
      "[2,    60] loss: 0.714\n",
      "[2,   120] loss: 0.618\n",
      "[3,    60] loss: 0.484\n",
      "[3,   120] loss: 0.448\n",
      "[4,    60] loss: 0.372\n",
      "[4,   120] loss: 0.334\n",
      "[5,    60] loss: 0.263\n",
      "[5,   120] loss: 0.264\n",
      "[6,    60] loss: 0.210\n",
      "[6,   120] loss: 0.207\n",
      "[7,    60] loss: 0.169\n",
      "[7,   120] loss: 0.160\n",
      "[8,    60] loss: 0.124\n",
      "[8,   120] loss: 0.131\n",
      "[9,    60] loss: 0.110\n",
      "[9,   120] loss: 0.111\n",
      "[10,    60] loss: 0.083\n",
      "[10,   120] loss: 0.099\n",
      "[11,    60] loss: 0.076\n",
      "[11,   120] loss: 0.084\n",
      "[12,    60] loss: 0.074\n",
      "[12,   120] loss: 0.078\n",
      "[13,    60] loss: 0.066\n",
      "[13,   120] loss: 0.076\n",
      "[14,    60] loss: 0.060\n",
      "[14,   120] loss: 0.063\n",
      "[15,    60] loss: 0.049\n",
      "[15,   120] loss: 0.054\n",
      "[16,    60] loss: 0.050\n",
      "[16,   120] loss: 0.046\n",
      "Finished Training\n",
      "train FTPT Analysis and sparsity values [26423, 3314, 128, 135, 25191, 4809] [114582, 6636.860315177723, 26736.777360457774]\n",
      "test FTPT Analysis and sparsity values [8363, 1077, 240, 320, 8119, 1881] [39774, 2434.755402312823, 9587.090930957602]\n",
      "initializing models using seed 1\n",
      "using lr 0.0005\n",
      "[1,    60] loss: 1.089\n",
      "[1,   120] loss: 0.977\n",
      "[2,    60] loss: 0.829\n",
      "[2,   120] loss: 0.684\n",
      "[3,    60] loss: 0.543\n",
      "[3,   120] loss: 0.479\n",
      "[4,    60] loss: 0.390\n",
      "[4,   120] loss: 0.355\n",
      "[5,    60] loss: 0.269\n",
      "[5,   120] loss: 0.276\n",
      "[6,    60] loss: 0.215\n",
      "[6,   120] loss: 0.220\n",
      "[7,    60] loss: 0.173\n",
      "[7,   120] loss: 0.162\n",
      "[8,    60] loss: 0.137\n",
      "[8,   120] loss: 0.149\n",
      "[9,    60] loss: 0.111\n",
      "[9,   120] loss: 0.115\n",
      "[10,    60] loss: 0.094\n",
      "[10,   120] loss: 0.106\n",
      "[11,    60] loss: 0.083\n",
      "[11,   120] loss: 0.091\n",
      "[12,    60] loss: 0.071\n",
      "[12,   120] loss: 0.077\n",
      "[13,    60] loss: 0.061\n",
      "[13,   120] loss: 0.069\n",
      "[14,    60] loss: 0.057\n",
      "[14,   120] loss: 0.059\n",
      "[15,    60] loss: 0.047\n",
      "[15,   120] loss: 0.055\n",
      "[16,    60] loss: 0.047\n",
      "[16,   120] loss: 0.054\n",
      "[17,    60] loss: 0.047\n",
      "[17,   120] loss: 0.049\n",
      "Finished Training\n",
      "train FTPT Analysis and sparsity values [26243, 3615, 64, 78, 24773, 5227] [106761, 6049.398382680298, 24233.127342918782]\n",
      "test FTPT Analysis and sparsity values [8399, 1159, 170, 272, 8056, 1944] [37357, 2200.098883846416, 8680.86856709043]\n",
      "initializing models using seed 2\n",
      "using lr 0.0005\n",
      "[1,    60] loss: 1.110\n",
      "[1,   120] loss: 0.872\n",
      "[2,    60] loss: 0.680\n",
      "[2,   120] loss: 0.582\n",
      "[3,    60] loss: 0.464\n",
      "[3,   120] loss: 0.423\n",
      "[4,    60] loss: 0.338\n",
      "[4,   120] loss: 0.319\n",
      "[5,    60] loss: 0.270\n",
      "[5,   120] loss: 0.245\n",
      "[6,    60] loss: 0.199\n",
      "[6,   120] loss: 0.198\n",
      "[7,    60] loss: 0.158\n",
      "[7,   120] loss: 0.156\n",
      "[8,    60] loss: 0.129\n",
      "[8,   120] loss: 0.126\n",
      "[9,    60] loss: 0.101\n",
      "[9,   120] loss: 0.112\n",
      "[10,    60] loss: 0.092\n",
      "[10,   120] loss: 0.096\n",
      "[11,    60] loss: 0.070\n",
      "[11,   120] loss: 0.086\n",
      "[12,    60] loss: 0.069\n",
      "[12,   120] loss: 0.070\n",
      "[13,    60] loss: 0.058\n",
      "[13,   120] loss: 0.076\n",
      "[14,    60] loss: 0.059\n",
      "[14,   120] loss: 0.059\n",
      "[15,    60] loss: 0.051\n",
      "[15,   120] loss: 0.055\n",
      "[16,    60] loss: 0.040\n",
      "[16,   120] loss: 0.054\n",
      "Finished Training\n",
      "train FTPT Analysis and sparsity values [26068, 3707, 77, 148, 26240, 3760] [88733, 5155.840170964953, 19781.000411487705]\n",
      "test FTPT Analysis and sparsity values [8298, 1180, 193, 329, 8603, 1397] [31089, 1893.5977182911345, 7132.9463744844925]\n"
     ]
    }
   ],
   "source": [
    "Analysis_ = {}\n",
    "Train_Loss_ = []\n",
    "\n",
    "for n_seed_ in n_seed:\n",
    "    for lr_ in lr:\n",
    "        analyse_data_train = []\n",
    "        analyse_data_test = []\n",
    "        sparsty_train = []\n",
    "        sparsty_test = []\n",
    "        \n",
    "        tr_loss = []\n",
    "        \n",
    "        print(\"initializing models using seed\",n_seed_)\n",
    "        torch.manual_seed(n_seed_)\n",
    "        focus_net = Focus().double()\n",
    "        focus_net = focus_net.to(\"cuda\")\n",
    "\n",
    "\n",
    "        torch.manual_seed(n_seed_)\n",
    "        classify = Classification().double()\n",
    "        classify = classify.to(\"cuda\")\n",
    "\n",
    "\n",
    "        criterion = nn.CrossEntropyLoss()\n",
    "\n",
    "\n",
    "        print(\"using lr\",lr_)\n",
    "\n",
    "        optimizer_focus = optim.Adam(focus_net.parameters(), lr=lr_)#, momentum=0.9)\n",
    "        optimizer_classify = optim.Adam(classify.parameters(), lr=lr_)#, momentum=0.9)\n",
    "        \n",
    "        analysis_data_train, sparsity_value_train =calculate_attn_loss(train_loader,classify,focus_net,k)\n",
    "        \n",
    "        analysis_data_test, sparsity_value_test =calculate_attn_loss(test_loader,classify,focus_net,k)\n",
    "        \n",
    "        analyse_data_train.append(analysis_data_train)\n",
    "        analyse_data_test.append(analysis_data_test)\n",
    "        sparsty_train.append(sparsity_value_train)\n",
    "        sparsty_test.append(sparsity_value_test)\n",
    "        \n",
    "        nos_epochs = 60\n",
    "        \n",
    "        \n",
    "        focus_net.train()\n",
    "        classify.train()\n",
    "        \n",
    "        for epoch in range(nos_epochs):  # loop over the dataset multiple time\n",
    "            focus_net.train()\n",
    "            classify.train()\n",
    "            \n",
    "            epoch_loss = []\n",
    "            cnt=0\n",
    "            running_loss = 0\n",
    "            \n",
    "            iteration = desired_num // batch\n",
    "            for i, data in  enumerate(train_loader):\n",
    "                inputs , labels , fore_idx = data\n",
    "                inputs = inputs.double()\n",
    "                inputs, labels = inputs.to(\"cuda\"), labels.to(\"cuda\")\n",
    "                \n",
    "                # zero the parameter gradients\n",
    "                optimizer_focus.zero_grad()\n",
    "                optimizer_classify.zero_grad()\n",
    "            \n",
    "                alphas, avg_images,log_alphas = focus_net(inputs)\n",
    "                outputs = classify(avg_images)\n",
    "\n",
    "                # outputs, alphas, avg_images = classify(inputs)\n",
    "\n",
    "                _, predicted = torch.max(outputs.data, 1)\n",
    "                \n",
    "                loss,_,_ = my_cross_entropy(outputs, labels,alphas,log_alphas,k)\n",
    "                loss.backward()\n",
    "                optimizer_focus.step()\n",
    "                optimizer_classify.step()\n",
    "\n",
    "                running_loss += loss.item()\n",
    "                mini = 60\n",
    "                if cnt % mini == mini-1:    # print every 60 mini-batches\n",
    "                    print('[%d, %5d] loss: %.3f' %(epoch + 1, cnt + 1, running_loss / mini))\n",
    "                    epoch_loss.append(running_loss/mini)\n",
    "                    running_loss = 0.0\n",
    "                cnt=cnt+1\n",
    "                \n",
    "            tr_loss.append(np.mean(epoch_loss))\n",
    "                \n",
    "            if epoch % 1 == 0:\n",
    "                analysis_data_train, sparsity_value_train = calculate_attn_loss(train_loader,classify,focus_net,k)\n",
    "        \n",
    "                analysis_data_test, sparsity_value_test = calculate_attn_loss(test_loader,classify,focus_net,k)    \n",
    "                \n",
    "                analyse_data_train.append(analysis_data_train)\n",
    "                analyse_data_test.append(analysis_data_test)\n",
    "                sparsty_train.append(sparsity_value_train)\n",
    "                sparsty_test.append(sparsity_value_test)\n",
    "            if(np.mean(epoch_loss) <= 0.05):\n",
    "                break\n",
    "        print('Finished Training') \n",
    "        print(\"train FTPT Analysis and sparsity values\",analysis_data_train,sparsity_value_train)\n",
    "        print(\"test FTPT Analysis and sparsity values\",analysis_data_test,sparsity_value_test)\n",
    "        \n",
    "        torch.save(focus_net.state_dict(),path+\"seed_\"+str(n_seed_)+\"lr_\"+str(lr_)+\"weights_focus.pt\")  \n",
    "        torch.save(classify.state_dict(),path+\"seed_\"+str(n_seed_)+\"lr_\"+str(lr_)+\"weights_classify.pt\")\n",
    "         \n",
    "        Analysis_[\"train_seed_\"+str(n_seed_)+\"_lr_\"+str(lr_)] = np.array(analyse_data_train)\n",
    "        Analysis_[\"test_seed_\"+str(n_seed_)+\"_lr_\"+str(lr_)]  = np.array(analyse_data_test)\n",
    "        Analysis_[\"train_sparsity_\"+str(n_seed_)+\"_lr_\"+str(lr_)] = np.array(sparsty_train)\n",
    "        Analysis_[\"test_sparsity_\"+str(n_seed_)+\"_lr_\"+str(lr_)] = np.array(sparsty_test)\n",
    "        \n",
    "        Train_Loss_.append(tr_loss)"
   ]
  },
  {
   "cell_type": "code",
   "execution_count": 22,
   "id": "07978434",
   "metadata": {
    "execution": {
     "iopub.execute_input": "2021-09-04T14:54:16.154007Z",
     "iopub.status.busy": "2021-09-04T14:54:16.153166Z",
     "iopub.status.idle": "2021-09-04T14:54:16.156899Z",
     "shell.execute_reply": "2021-09-04T14:54:16.156463Z",
     "shell.execute_reply.started": "2021-09-03T17:27:04.503804Z"
    },
    "id": "946caced",
    "papermill": {
     "duration": 0.055613,
     "end_time": "2021-09-04T14:54:16.157021",
     "exception": false,
     "start_time": "2021-09-04T14:54:16.101408",
     "status": "completed"
    },
    "tags": []
   },
   "outputs": [],
   "source": [
    "np.save(\"analysis.npy\",Analysis_)\n",
    "np.save(\"training_loss.npy\",Train_Loss_)"
   ]
  },
  {
   "cell_type": "code",
   "execution_count": 23,
   "id": "2f99daca",
   "metadata": {
    "execution": {
     "iopub.execute_input": "2021-09-04T14:54:16.296987Z",
     "iopub.status.busy": "2021-09-04T14:54:16.295991Z",
     "iopub.status.idle": "2021-09-04T14:54:16.329544Z",
     "shell.execute_reply": "2021-09-04T14:54:16.330049Z",
     "shell.execute_reply.started": "2021-09-03T17:27:07.988405Z"
    },
    "id": "dfe217b2",
    "papermill": {
     "duration": 0.11659,
     "end_time": "2021-09-04T14:54:16.330250",
     "exception": false,
     "start_time": "2021-09-04T14:54:16.213660",
     "status": "completed"
    },
    "tags": []
   },
   "outputs": [
    {
     "data": {
      "text/plain": [
       "{'train_seed_0_lr_0.0005': array([[  412,  9728,  1585, 18275,     0, 30000],\n",
       "        [12795,  7377,  2906,  6922, 13212, 16788],\n",
       "        [17304,  6349,  2369,  3978, 17801, 12199],\n",
       "        [20979,  4917,  1480,  2624, 23661,  6339],\n",
       "        [21835,  5151,   877,  2137, 24665,  5335],\n",
       "        [23873,  4197,   840,  1090, 24792,  5208],\n",
       "        [24517,  4149,   370,   964, 25784,  4216],\n",
       "        [24567,  4372,   406,   655, 24700,  5300],\n",
       "        [24773,  4482,   201,   544, 25552,  4448],\n",
       "        [25462,  3829,   237,   472, 26427,  3573],\n",
       "        [25493,  4048,    90,   369, 26219,  3781],\n",
       "        [25614,  3944,   156,   286, 25583,  4417],\n",
       "        [25818,  3688,   256,   238, 24872,  5128],\n",
       "        [25537,  4103,   117,   243, 25312,  4688],\n",
       "        [26274,  3487,    65,   174, 27241,  2759],\n",
       "        [26259,  3427,   140,   174, 26033,  3967],\n",
       "        [26423,  3314,   128,   135, 25191,  4809]]),\n",
       " 'test_seed_0_lr_0.0005': array([[  138,  3217,   514,  6131,     0, 10000],\n",
       "        [ 4190,  2363,  1058,  2389,  4361,  5639],\n",
       "        [ 5635,  2066,   893,  1406,  5962,  4038],\n",
       "        [ 6726,  1514,   672,  1088,  7868,  2132],\n",
       "        [ 6969,  1600,   465,   966,  8166,  1834],\n",
       "        [ 7571,  1313,   487,   629,  8102,  1898],\n",
       "        [ 7771,  1230,   315,   684,  8551,  1449],\n",
       "        [ 7793,  1350,   326,   531,  8064,  1936],\n",
       "        [ 7895,  1331,   258,   516,  8415,  1585],\n",
       "        [ 8089,  1176,   273,   462,  8696,  1304],\n",
       "        [ 8145,  1218,   193,   444,  8635,  1365],\n",
       "        [ 8126,  1252,   232,   390,  8409,  1591],\n",
       "        [ 8168,  1227,   312,   293,  8082,  1918],\n",
       "        [ 8072,  1301,   210,   417,  8285,  1715],\n",
       "        [ 8408,  1051,   176,   365,  8966,  1034],\n",
       "        [ 8352,  1077,   216,   355,  8435,  1565],\n",
       "        [ 8363,  1077,   240,   320,  8119,  1881]]),\n",
       " 'train_sparsity_0_lr_0.0005': array([[269998.        ,  27146.73143785,  94003.74539717],\n",
       "        [205906.        ,  17158.91616377,  60773.32736232],\n",
       "        [191399.        ,  14398.67864953,  53195.07298643],\n",
       "        [136631.        ,   9787.89371861,  36115.11032399],\n",
       "        [123082.        ,   8956.4958397 ,  32448.24242056],\n",
       "        [130980.        ,   8536.80482219,  32938.48634377],\n",
       "        [115814.        ,   7783.16952466,  29112.54660445],\n",
       "        [129894.        ,   8180.89642507,  32048.88475958],\n",
       "        [109941.        ,   7020.1732729 ,  26763.03552605],\n",
       "        [102336.        ,   6557.32310482,  24609.87237712],\n",
       "        [100196.        ,   6293.79571225,  23835.33932457],\n",
       "        [110421.        ,   6793.07727484,  26441.18610084],\n",
       "        [130323.        ,   7709.04076643,  31175.88815288],\n",
       "        [113550.        ,   7205.3853184 ,  27714.10657971],\n",
       "        [ 84729.        ,   4950.84963126,  18803.30932943],\n",
       "        [104631.        ,   6225.73228153,  24373.66505291],\n",
       "        [114582.        ,   6636.86031518,  26736.77736046]]),\n",
       " 'test_sparsity_0_lr_0.0005': array([[90000.        ,  9048.29558176, 31335.10799647],\n",
       "        [68703.        ,  5748.3156347 , 20310.27039866],\n",
       "        [64143.        ,  4820.25874862, 17811.093773  ],\n",
       "        [45903.        ,  3321.44973976, 12199.87272975],\n",
       "        [41515.        ,  3073.89775982, 11058.47447673],\n",
       "        [44413.        ,  2997.37139365, 11375.72492335],\n",
       "        [39079.        ,  2696.39371241,  9964.07159558],\n",
       "        [44163.        ,  2884.9916012 , 11126.9221878 ],\n",
       "        [37611.        ,  2491.67733283,  9362.9264768 ],\n",
       "        [34979.        ,  2334.55889889,  8610.97909088],\n",
       "        [34401.        ,  2249.46046786,  8395.09667647],\n",
       "        [37753.        ,  2414.70040727,  9250.64763194],\n",
       "        [44630.        ,  2743.57602063, 10900.62427211],\n",
       "        [38880.        ,  2547.15064782,  9677.02898989],\n",
       "        [29446.        ,  1813.9287079 ,  6764.20858644],\n",
       "        [36315.        ,  2271.36652285,  8704.94893589],\n",
       "        [39774.        ,  2434.75540231,  9587.09093096]]),\n",
       " 'train_seed_1_lr_0.0005': array([[ 2163,  7981,  2828, 17028,     5, 29995],\n",
       "        [ 9472,  7779,  3232,  9517, 22828,  7172],\n",
       "        [15998,  6847,  2544,  4611, 22134,  7866],\n",
       "        [20236,  5203,  2111,  2450, 21083,  8917],\n",
       "        [22202,  5152,  1086,  1560, 22870,  7130],\n",
       "        [23180,  4805,   809,  1206, 24025,  5975],\n",
       "        [24047,  4369,   626,   958, 23953,  6047],\n",
       "        [24182,  4693,   358,   767, 24912,  5088],\n",
       "        [25106,  4156,   286,   452, 25227,  4773],\n",
       "        [25342,  4057,   258,   343, 24194,  5806],\n",
       "        [25723,  3744,   239,   294, 24443,  5557],\n",
       "        [25157,  4225,   303,   315, 24171,  5829],\n",
       "        [25547,  4073,   156,   224, 24204,  5796],\n",
       "        [25888,  3775,   142,   195, 25868,  4132],\n",
       "        [25926,  3801,   111,   162, 25135,  4865],\n",
       "        [26038,  3538,   189,   235, 24560,  5440],\n",
       "        [25726,  4004,    44,   226, 25056,  4944],\n",
       "        [26243,  3615,    64,    78, 24773,  5227]]),\n",
       " 'test_seed_1_lr_0.0005': array([[ 701, 2655,  943, 5701,    2, 9998],\n",
       "        [3122, 2555, 1107, 3216, 7537, 2463],\n",
       "        [5239, 2195,  913, 1653, 7324, 2676],\n",
       "        [6517, 1643,  841,  999, 6953, 3047],\n",
       "        [7105, 1640,  510,  745, 7535, 2465],\n",
       "        [7415, 1483,  450,  652, 7966, 2034],\n",
       "        [7656, 1357,  387,  600, 7874, 2126],\n",
       "        [7795, 1418,  269,  518, 8267, 1733],\n",
       "        [7996, 1338,  276,  390, 8304, 1696],\n",
       "        [8029, 1329,  312,  330, 7877, 2123],\n",
       "        [8214, 1171,  265,  350, 7962, 2038],\n",
       "        [7995, 1390,  299,  316, 7905, 2095],\n",
       "        [8137, 1334,  216,  313, 7919, 2081],\n",
       "        [8239, 1238,  227,  296, 8486, 1514],\n",
       "        [8264, 1221,  217,  298, 8200, 1800],\n",
       "        [8301, 1156,  232,  311, 7997, 2003],\n",
       "        [8313, 1200,  142,  345, 8254, 1746],\n",
       "        [8399, 1159,  170,  272, 8056, 1944]]),\n",
       " 'train_sparsity_1_lr_0.0005': array([[270000.        ,  26005.29213516,  92780.24285772],\n",
       "        [146428.        ,   9414.21306483,  36040.94592673],\n",
       "        [150399.        ,   9318.69219546,  36463.72076677],\n",
       "        [160895.        ,   9682.33955367,  38886.41405966],\n",
       "        [136605.        ,   7859.43187526,  31862.97997575],\n",
       "        [120009.        ,   6815.1012779 ,  27121.05341652],\n",
       "        [125915.        ,   6973.69844113,  28495.58476077],\n",
       "        [107590.        ,   6063.03594015,  23888.24639822],\n",
       "        [106179.        ,   5757.82192788,  23218.75905722],\n",
       "        [116446.        ,   6424.48596631,  26175.90960381],\n",
       "        [115035.        ,   6364.49255539,  25853.44021085],\n",
       "        [112672.        ,   6466.95795923,  25696.09322914],\n",
       "        [112637.        ,   6514.76171133,  25834.82193293],\n",
       "        [ 94593.        ,   5358.96003236,  20909.13036304],\n",
       "        [ 99748.        ,   5799.28419903,  22599.43229058],\n",
       "        [112566.        ,   6196.80802432,  25174.67582254],\n",
       "        [ 96887.        ,   5700.63338369,  21919.08854525],\n",
       "        [106761.        ,   6049.39838268,  24233.12734292]]),\n",
       " 'test_sparsity_1_lr_0.0005': array([[90000.        ,  8668.01000912, 30925.21194804],\n",
       "        [48804.        ,  3199.80677242, 12127.25212929],\n",
       "        [50688.        ,  3164.06905998, 12355.46701868],\n",
       "        [54777.        ,  3340.01066014, 13314.7630328 ],\n",
       "        [46679.        ,  2720.74734671, 10953.61007272],\n",
       "        [41137.        ,  2349.64338818,  9358.43432125],\n",
       "        [43542.        ,  2459.05726494,  9968.61459697],\n",
       "        [37212.        ,  2127.94167245,  8356.97718191],\n",
       "        [37062.        ,  2060.22676609,  8238.32071107],\n",
       "        [40773.        ,  2323.6308832 ,  9353.56502539],\n",
       "        [40485.        ,  2315.28358578,  9307.02496073],\n",
       "        [39395.        ,  2308.20556561,  9117.86443771],\n",
       "        [39218.        ,  2327.35174021,  9169.98728271],\n",
       "        [33185.        ,  1963.72899071,  7553.14376804],\n",
       "        [35092.        ,  2135.11395613,  8191.77286672],\n",
       "        [39404.        ,  2258.91116523,  9044.98060189],\n",
       "        [33658.        ,  2023.1356192 ,  7761.20124199],\n",
       "        [37357.        ,  2200.09888385,  8680.86856709]]),\n",
       " 'train_seed_2_lr_0.0005': array([[ 1287,  8865,  1961, 17887,     0, 30000],\n",
       "        [12747,  7515,  3332,  6406, 17073, 12927],\n",
       "        [18208,  6044,  2146,  3602, 19212, 10788],\n",
       "        [20843,  5516,  1472,  2169, 21503,  8497],\n",
       "        [21840,  5210,  1358,  1592, 22269,  7731],\n",
       "        [23516,  4636,   775,  1073, 24255,  5745],\n",
       "        [24370,  4457,   361,   812, 25540,  4460],\n",
       "        [25062,  4087,   307,   544, 24008,  5992],\n",
       "        [25183,  4080,   210,   527, 25397,  4603],\n",
       "        [25344,  3953,   338,   365, 24546,  5454],\n",
       "        [25206,  4265,   186,   343, 25963,  4037],\n",
       "        [25390,  4080,   143,   387, 26029,  3971],\n",
       "        [25911,  3766,   124,   199, 25898,  4102],\n",
       "        [25255,  4381,   100,   264, 24253,  5747],\n",
       "        [26342,  3451,    84,   123, 25880,  4120],\n",
       "        [26163,  3577,    60,   200, 26200,  3800],\n",
       "        [26068,  3707,    77,   148, 26240,  3760]]),\n",
       " 'test_seed_2_lr_0.0005': array([[  414,  2940,   668,  5978,     0, 10000],\n",
       "        [ 4220,  2441,  1148,  2191,  5623,  4377],\n",
       "        [ 5904,  1940,   794,  1362,  6379,  3621],\n",
       "        [ 6697,  1772,   638,   893,  7076,  2924],\n",
       "        [ 6959,  1675,   653,   713,  7283,  2717],\n",
       "        [ 7494,  1462,   456,   588,  8004,  1996],\n",
       "        [ 7741,  1387,   319,   553,  8405,  1595],\n",
       "        [ 7945,  1270,   343,   442,  7923,  2077],\n",
       "        [ 7977,  1279,   247,   497,  8398,  1602],\n",
       "        [ 8014,  1314,   304,   368,  8041,  1959],\n",
       "        [ 8004,  1323,   260,   413,  8531,  1469],\n",
       "        [ 8070,  1272,   207,   451,  8563,  1437],\n",
       "        [ 8250,  1172,   240,   338,  8521,  1479],\n",
       "        [ 8021,  1319,   243,   417,  7994,  2006],\n",
       "        [ 8381,  1112,   201,   306,  8459,  1541],\n",
       "        [ 8341,  1079,   189,   391,  8617,  1383],\n",
       "        [ 8298,  1180,   193,   329,  8603,  1397]]),\n",
       " 'train_sparsity_2_lr_0.0005': array([[270000.        ,  27542.3045562 ,  94582.89286498],\n",
       "        [176835.        ,  14393.4578343 ,  51524.1139778 ],\n",
       "        [168732.        ,  11702.96215308,  44603.05826871],\n",
       "        [143386.        ,   9656.89477275,  36947.79173786],\n",
       "        [139299.        ,   8902.95416824,  34887.51367728],\n",
       "        [113382.        ,   7329.06183479,  27909.70929053],\n",
       "        [ 98708.        ,   6269.55767872,  23533.95988856],\n",
       "        [115670.        ,   7108.15276749,  27938.92120968],\n",
       "        [ 98283.        ,   5991.67442313,  22966.94747543],\n",
       "        [112859.        ,   6645.28059109,  26399.77883982],\n",
       "        [ 91571.        ,   5830.41514268,  21477.04055371],\n",
       "        [ 90616.        ,   5804.49986013,  21290.18458356],\n",
       "        [ 90492.        ,   5614.2692233 ,  20993.59147061],\n",
       "        [104182.        ,   6506.01555734,  24913.85860307],\n",
       "        [ 94152.        ,   5549.31013813,  21494.35143889],\n",
       "        [ 85935.        ,   5117.74339985,  19308.81309128],\n",
       "        [ 88733.        ,   5155.84017096,  19781.00041149]]),\n",
       " 'test_sparsity_2_lr_0.0005': array([[90000.        ,  9180.34401838, 31526.97993459],\n",
       "        [59083.        ,  4836.14598528, 17257.95200129],\n",
       "        [56664.        ,  3953.95200749, 15007.18244684],\n",
       "        [48353.        ,  3306.66178434, 12586.51167973],\n",
       "        [47517.        ,  3100.35892827, 12034.19704334],\n",
       "        [38917.        ,  2566.15246097,  9716.35446728],\n",
       "        [34042.        ,  2229.96233047,  8275.47136879],\n",
       "        [39721.        ,  2502.14995887,  9762.19319847],\n",
       "        [33963.        ,  2126.90726709,  8090.92417838],\n",
       "        [38941.        ,  2379.43929183,  9314.88158945],\n",
       "        [31640.        ,  2114.39697611,  7655.88319357],\n",
       "        [31336.        ,  2085.94129241,  7545.71889022],\n",
       "        [31598.        ,  2052.55016629,  7561.35040644],\n",
       "        [35995.        ,  2308.04155854,  8781.39475679],\n",
       "        [33066.        ,  2051.80288739,  7786.23400914],\n",
       "        [30029.        ,  1886.22343757,  6996.1537044 ],\n",
       "        [31089.        ,  1893.59771829,  7132.94637448]])}"
      ]
     },
     "execution_count": 23,
     "metadata": {},
     "output_type": "execute_result"
    }
   ],
   "source": [
    "Analysis_"
   ]
  },
  {
   "cell_type": "code",
   "execution_count": 24,
   "id": "5a580d40",
   "metadata": {
    "execution": {
     "iopub.execute_input": "2021-09-04T14:54:16.495237Z",
     "iopub.status.busy": "2021-09-04T14:54:16.494425Z",
     "iopub.status.idle": "2021-09-04T14:54:17.046899Z",
     "shell.execute_reply": "2021-09-04T14:54:17.046414Z",
     "shell.execute_reply.started": "2021-09-03T17:27:11.470656Z"
    },
    "id": "d4f80227",
    "papermill": {
     "duration": 0.640005,
     "end_time": "2021-09-04T14:54:17.047027",
     "exception": false,
     "start_time": "2021-09-04T14:54:16.407022",
     "status": "completed"
    },
    "tags": []
   },
   "outputs": [
    {
     "data": {
      "image/png": "[encoded data removed]",
      "text/plain": [
       "<Figure size 432x360 with 1 Axes>"
      ]
     },
     "metadata": {
      "needs_background": "light"
     },
     "output_type": "display_data"
    },
    {
     "data": {
      "image/png": "[encoded data removed]",
      "text/plain": [
       "<Figure size 432x360 with 1 Axes>"
      ]
     },
     "metadata": {
      "needs_background": "light"
     },
     "output_type": "display_data"
    },
    {
     "data": {
      "image/png": "[encoded data removed]",
      "text/plain": [
       "<Figure size 432x360 with 1 Axes>"
      ]
     },
     "metadata": {
      "needs_background": "light"
     },
     "output_type": "display_data"
    }
   ],
   "source": [
    "for i in range(len(Train_Loss_)):\n",
    "    plt.figure(figsize=(6,5))\n",
    "    plt.plot(np.arange(1,len(Train_Loss_[i])+1),Train_Loss_[i])\n",
    "    plt.xlabel(\"epochs\", fontsize=14, fontweight = 'bold')\n",
    "    plt.ylabel(\"Loss\", fontsize=14, fontweight = 'bold')\n",
    "    plt.xticks(np.arange(1,epoch+2))\n",
    "    plt.title(\"Train Loss\")\n",
    "    # #plt.grid()\n",
    "    plt.show()"
   ]
  },
  {
   "cell_type": "code",
   "execution_count": 25,
   "id": "e5c92402",
   "metadata": {
    "execution": {
     "iopub.execute_input": "2021-09-04T14:54:17.180749Z",
     "iopub.status.busy": "2021-09-04T14:54:17.179915Z",
     "iopub.status.idle": "2021-09-04T14:54:18.534874Z",
     "shell.execute_reply": "2021-09-04T14:54:18.534454Z",
     "shell.execute_reply.started": "2021-09-03T17:27:14.38325Z"
    },
    "id": "ad5e4283",
    "papermill": {
     "duration": 1.435939,
     "end_time": "2021-09-04T14:54:18.535004",
     "exception": false,
     "start_time": "2021-09-04T14:54:17.099065",
     "status": "completed"
    },
    "tags": []
   },
   "outputs": [
    {
     "data": {
      "image/png": "[encoded data removed]",
      "text/plain": [
       "<Figure size 432x360 with 1 Axes>"
      ]
     },
     "metadata": {
      "needs_background": "light"
     },
     "output_type": "display_data"
    },
    {
     "data": {
      "image/png": "[encoded data removed]",
      "text/plain": [
       "<Figure size 432x360 with 1 Axes>"
      ]
     },
     "metadata": {
      "needs_background": "light"
     },
     "output_type": "display_data"
    },
    {
     "data": {
      "image/png": "[encoded data removed]",
      "text/plain": [
       "<Figure size 432x360 with 1 Axes>"
      ]
     },
     "metadata": {
      "needs_background": "light"
     },
     "output_type": "display_data"
    }
   ],
   "source": [
    "for seed_ in n_seed:\n",
    "    for lr_ in lr:\n",
    "        data = Analysis_['train_seed_'+ str(seed_)+\"_lr_\" +str(lr_)]\n",
    "        plt.figure(figsize=(6,5))\n",
    "        plt.plot(np.arange(0,len(data)),data[:,0]/300, label =\"FTPT \")\n",
    "        plt.plot(np.arange(0,len(data)),data[:,1]/300, label =\"FFPT \")\n",
    "        plt.plot(np.arange(0,len(data)),data[:,2]/300, label =\"FTPF \")\n",
    "        plt.plot(np.arange(0,len(data)),data[:,3]/300, label =\"FFPF \")\n",
    "        plt.title(\"On Training set \" + 'seed ' + str(seed_)+\" lr \" +str(lr_))\n",
    "        #plt.legend(loc='center left', bbox_to_anchor=(1, 0.5))\n",
    "        plt.xlabel(\"epochs\", fontsize=14, fontweight = 'bold')\n",
    "        plt.ylabel(\"percentage train data\", fontsize=14, fontweight = 'bold')\n",
    "        # plt.xlabel(\"epochs\")\n",
    "        # plt.ylabel(\"training data\")\n",
    "        plt.legend()\n",
    "\n",
    "        plt.savefig(path + 'seed ' + str(seed_)+\" lr \" +str(lr_)+ \"_train.png\",bbox_inches=\"tight\")\n",
    "        plt.savefig(path + 'seed ' + str(seed_)+\" lr \" +str(lr_)+ \"_train.pdf\",bbox_inches=\"tight\")\n",
    "        plt.grid()\n",
    "        plt.show()"
   ]
  },
  {
   "cell_type": "code",
   "execution_count": 26,
   "id": "7f516344",
   "metadata": {
    "execution": {
     "iopub.execute_input": "2021-09-04T14:54:18.674300Z",
     "iopub.status.busy": "2021-09-04T14:54:18.673137Z",
     "iopub.status.idle": "2021-09-04T14:54:19.998248Z",
     "shell.execute_reply": "2021-09-04T14:54:19.998693Z",
     "shell.execute_reply.started": "2021-09-03T17:27:16.160352Z"
    },
    "id": "96b8ca45",
    "papermill": {
     "duration": 1.408394,
     "end_time": "2021-09-04T14:54:19.998845",
     "exception": false,
     "start_time": "2021-09-04T14:54:18.590451",
     "status": "completed"
    },
    "tags": []
   },
   "outputs": [
    {
     "data": {
      "image/png": "[encoded data removed]",
      "text/plain": [
       "<Figure size 432x360 with 1 Axes>"
      ]
     },
     "metadata": {
      "needs_background": "light"
     },
     "output_type": "display_data"
    },
    {
     "data": {
      "image/png": "[encoded data removed]",
      "text/plain": [
       "<Figure size 432x360 with 1 Axes>"
      ]
     },
     "metadata": {
      "needs_background": "light"
     },
     "output_type": "display_data"
    },
    {
     "data": {
      "image/png": "[encoded data removed]",
      "text/plain": [
       "<Figure size 432x360 with 1 Axes>"
      ]
     },
     "metadata": {
      "needs_background": "light"
     },
     "output_type": "display_data"
    }
   ],
   "source": [
    "for seed_ in n_seed:\n",
    "    for lr_ in lr:\n",
    "        data = Analysis_['test_seed_'+ str(seed_)+\"_lr_\" +str(lr_)]\n",
    "        plt.figure(figsize=(6,5))\n",
    "        plt.plot(np.arange(0,len(data)),data[:,0]/100, label =\"FTPT \")\n",
    "        plt.plot(np.arange(0,len(data)),data[:,1]/100, label =\"FFPT \")\n",
    "        plt.plot(np.arange(0,len(data)),data[:,2]/100, label =\"FTPF \")\n",
    "        plt.plot(np.arange(0,len(data)),data[:,3]/100, label =\"FFPF \")\n",
    "        plt.title(\"On Testing set \" + 'seed ' + str(seed_)+\" lr \" +str(lr_))\n",
    "        #plt.legend(loc='center left', bbox_to_anchor=(1, 0.5))\n",
    "        plt.xlabel(\"epochs\", fontsize=14, fontweight = 'bold')\n",
    "        plt.ylabel(\"percentage test data\", fontsize=14, fontweight = 'bold')\n",
    "        # plt.xlabel(\"epochs\")\n",
    "        # plt.ylabel(\"training data\")\n",
    "        plt.legend()\n",
    "\n",
    "        plt.savefig(path + 'seed ' + str(seed_)+\" lr \" +str(lr_)+\"_test.png\",bbox_inches=\"tight\")\n",
    "        plt.savefig(path + 'seed ' + str(seed_)+\" lr \" +str(lr_)+ \"_test.pdf\",bbox_inches=\"tight\")\n",
    "        plt.grid()\n",
    "        plt.show()"
   ]
  },
  {
   "cell_type": "code",
   "execution_count": null,
   "id": "bdce1b50",
   "metadata": {
    "id": "2c2f7640",
    "papermill": {
     "duration": 0.057072,
     "end_time": "2021-09-04T14:54:20.114074",
     "exception": false,
     "start_time": "2021-09-04T14:54:20.057002",
     "status": "completed"
    },
    "tags": []
   },
   "outputs": [],
   "source": []
  }
 ],
 "metadata": {
  "kernelspec": {
   "display_name": "Python 3",
   "language": "python",
   "name": "python3"
  },
  "language_info": {
   "codemirror_mode": {
    "name": "ipython",
    "version": 3
   },
   "file_extension": ".py",
   "mimetype": "text/x-python",
   "name": "python",
   "nbconvert_exporter": "python",
   "pygments_lexer": "ipython3",
   "version": "3.7.10"
  },
  "papermill": {
   "default_parameters": {},
   "duration": 3920.67821,
   "end_time": "2021-09-04T14:54:22.137932",
   "environment_variables": {},
   "exception": null,
   "input_path": "__notebook__.ipynb",
   "output_path": "__notebook__.ipynb",
   "parameters": {},
   "start_time": "2021-09-04T13:49:01.459722",
   "version": "2.3.3"
  },
  "widgets": {
   "application/vnd.jupyter.widget-state+json": {
    "state": {
     "0b2b8c453a8d49a4a4fb3ba4d363fe87": {
      "model_module": "@jupyter-widgets/base",
      "model_module_version": "1.2.0",
      "model_name": "LayoutModel",
      "state": {
       "_model_module": "@jupyter-widgets/base",
       "_model_module_version": "1.2.0",
       "_model_name": "LayoutModel",
       "_view_count": null,
       "_view_module": "@jupyter-widgets/base",
       "_view_module_version": "1.2.0",
       "_view_name": "LayoutView",
       "align_content": null,
       "align_items": null,
       "align_self": null,
       "border": null,
       "bottom": null,
       "display": null,
       "flex": null,
       "flex_flow": null,
       "grid_area": null,
       "grid_auto_columns": null,
       "grid_auto_flow": null,
       "grid_auto_rows": null,
       "grid_column": null,
       "grid_gap": null,
       "grid_row": null,
       "grid_template_areas": null,
       "grid_template_columns": null,
       "grid_template_rows": null,
       "height": null,
       "justify_content": null,
       "justify_items": null,
       "left": null,
       "margin": null,
       "max_height": null,
       "max_width": null,
       "min_height": null,
       "min_width": null,
       "object_fit": null,
       "object_position": null,
       "order": null,
       "overflow": null,
       "overflow_x": null,
       "overflow_y": null,
       "padding": null,
       "right": null,
       "top": null,
       "visibility": null,
       "width": null
      }
     },
     "0b83fb07ce0841ed9a8b128aa7f0dcb6": {
      "model_module": "@jupyter-widgets/controls",
      "model_module_version": "1.5.0",
      "model_name": "FloatProgressModel",
      "state": {
       "_dom_classes": [],
       "_model_module": "@jupyter-widgets/controls",
       "_model_module_version": "1.5.0",
       "_model_name": "FloatProgressModel",
       "_view_count": null,
       "_view_module": "@jupyter-widgets/controls",
       "_view_module_version": "1.5.0",
       "_view_name": "ProgressView",
       "bar_style": "info",
       "description": "",
       "description_tooltip": null,
       "layout": "IPY_MODEL_ebee72d38fdd4b97baa7203987d93365",
       "max": 1.0,
       "min": 0.0,
       "orientation": "horizontal",
       "style": "IPY_MODEL_a5889109f4cd4d7dbc2e424581df4fb2",
       "value": 1.0
      }
     },
     "46c82adb20e64a4f9a56224b1f8343d4": {
      "model_module": "@jupyter-widgets/controls",
      "model_module_version": "1.5.0",
      "model_name": "HTMLModel",
      "state": {
       "_dom_classes": [],
       "_model_module": "@jupyter-widgets/controls",
       "_model_module_version": "1.5.0",
       "_model_name": "HTMLModel",
       "_view_count": null,
       "_view_module": "@jupyter-widgets/controls",
       "_view_module_version": "1.5.0",
       "_view_name": "HTMLView",
       "description": "",
       "description_tooltip": null,
       "layout": "IPY_MODEL_b94d38ecea31486f927e501f3e2dde7f",
       "placeholder": "​",
       "style": "IPY_MODEL_efc0e21747054a00824bc6eb054949ec",
       "value": " 170500096/? [00:20&lt;00:00, 89579642.34it/s]"
      }
     },
     "7069f5b39a504f539d18ea88c156289b": {
      "model_module": "@jupyter-widgets/controls",
      "model_module_version": "1.5.0",
      "model_name": "HTMLModel",
      "state": {
       "_dom_classes": [],
       "_model_module": "@jupyter-widgets/controls",
       "_model_module_version": "1.5.0",
       "_model_name": "HTMLModel",
       "_view_count": null,
       "_view_module": "@jupyter-widgets/controls",
       "_view_module_version": "1.5.0",
       "_view_name": "HTMLView",
       "description": "",
       "description_tooltip": null,
       "layout": "IPY_MODEL_0b2b8c453a8d49a4a4fb3ba4d363fe87",
       "placeholder": "​",
       "style": "IPY_MODEL_7eddb74e55624e87b701f7aeb50a3db4",
       "value": ""
      }
     },
     "7eddb74e55624e87b701f7aeb50a3db4": {
      "model_module": "@jupyter-widgets/controls",
      "model_module_version": "1.5.0",
      "model_name": "DescriptionStyleModel",
      "state": {
       "_model_module": "@jupyter-widgets/controls",
       "_model_module_version": "1.5.0",
       "_model_name": "DescriptionStyleModel",
       "_view_count": null,
       "_view_module": "@jupyter-widgets/base",
       "_view_module_version": "1.2.0",
       "_view_name": "StyleView",
       "description_width": ""
      }
     },
     "a53d4579f5ae44c8b680ee2586ba6427": {
      "model_module": "@jupyter-widgets/base",
      "model_module_version": "1.2.0",
      "model_name": "LayoutModel",
      "state": {
       "_model_module": "@jupyter-widgets/base",
       "_model_module_version": "1.2.0",
       "_model_name": "LayoutModel",
       "_view_count": null,
       "_view_module": "@jupyter-widgets/base",
       "_view_module_version": "1.2.0",
       "_view_name": "LayoutView",
       "align_content": null,
       "align_items": null,
       "align_self": null,
       "border": null,
       "bottom": null,
       "display": null,
       "flex": null,
       "flex_flow": null,
       "grid_area": null,
       "grid_auto_columns": null,
       "grid_auto_flow": null,
       "grid_auto_rows": null,
       "grid_column": null,
       "grid_gap": null,
       "grid_row": null,
       "grid_template_areas": null,
       "grid_template_columns": null,
       "grid_template_rows": null,
       "height": null,
       "justify_content": null,
       "justify_items": null,
       "left": null,
       "margin": null,
       "max_height": null,
       "max_width": null,
       "min_height": null,
       "min_width": null,
       "object_fit": null,
       "object_position": null,
       "order": null,
       "overflow": null,
       "overflow_x": null,
       "overflow_y": null,
       "padding": null,
       "right": null,
       "top": null,
       "visibility": null,
       "width": null
      }
     },
     "a5889109f4cd4d7dbc2e424581df4fb2": {
      "model_module": "@jupyter-widgets/controls",
      "model_module_version": "1.5.0",
      "model_name": "ProgressStyleModel",
      "state": {
       "_model_module": "@jupyter-widgets/controls",
       "_model_module_version": "1.5.0",
       "_model_name": "ProgressStyleModel",
       "_view_count": null,
       "_view_module": "@jupyter-widgets/base",
       "_view_module_version": "1.2.0",
       "_view_name": "StyleView",
       "bar_color": null,
       "description_width": ""
      }
     },
     "b94d38ecea31486f927e501f3e2dde7f": {
      "model_module": "@jupyter-widgets/base",
      "model_module_version": "1.2.0",
      "model_name": "LayoutModel",
      "state": {
       "_model_module": "@jupyter-widgets/base",
       "_model_module_version": "1.2.0",
       "_model_name": "LayoutModel",
       "_view_count": null,
       "_view_module": "@jupyter-widgets/base",
       "_view_module_version": "1.2.0",
       "_view_name": "LayoutView",
       "align_content": null,
       "align_items": null,
       "align_self": null,
       "border": null,
       "bottom": null,
       "display": null,
       "flex": null,
       "flex_flow": null,
       "grid_area": null,
       "grid_auto_columns": null,
       "grid_auto_flow": null,
       "grid_auto_rows": null,
       "grid_column": null,
       "grid_gap": null,
       "grid_row": null,
       "grid_template_areas": null,
       "grid_template_columns": null,
       "grid_template_rows": null,
       "height": null,
       "justify_content": null,
       "justify_items": null,
       "left": null,
       "margin": null,
       "max_height": null,
       "max_width": null,
       "min_height": null,
       "min_width": null,
       "object_fit": null,
       "object_position": null,
       "order": null,
       "overflow": null,
       "overflow_x": null,
       "overflow_y": null,
       "padding": null,
       "right": null,
       "top": null,
       "visibility": null,
       "width": null
      }
     },
     "c98de61d005a467ab1057df961278a6f": {
      "model_module": "@jupyter-widgets/controls",
      "model_module_version": "1.5.0",
      "model_name": "HBoxModel",
      "state": {
       "_dom_classes": [],
       "_model_module": "@jupyter-widgets/controls",
       "_model_module_version": "1.5.0",
       "_model_name": "HBoxModel",
       "_view_count": null,
       "_view_module": "@jupyter-widgets/controls",
       "_view_module_version": "1.5.0",
       "_view_name": "HBoxView",
       "box_style": "",
       "children": [
        "IPY_MODEL_7069f5b39a504f539d18ea88c156289b",
        "IPY_MODEL_0b83fb07ce0841ed9a8b128aa7f0dcb6",
        "IPY_MODEL_46c82adb20e64a4f9a56224b1f8343d4"
       ],
       "layout": "IPY_MODEL_a53d4579f5ae44c8b680ee2586ba6427"
      }
     },
     "ebee72d38fdd4b97baa7203987d93365": {
      "model_module": "@jupyter-widgets/base",
      "model_module_version": "1.2.0",
      "model_name": "LayoutModel",
      "state": {
       "_model_module": "@jupyter-widgets/base",
       "_model_module_version": "1.2.0",
       "_model_name": "LayoutModel",
       "_view_count": null,
       "_view_module": "@jupyter-widgets/base",
       "_view_module_version": "1.2.0",
       "_view_name": "LayoutView",
       "align_content": null,
       "align_items": null,
       "align_self": null,
       "border": null,
       "bottom": null,
       "display": null,
       "flex": null,
       "flex_flow": null,
       "grid_area": null,
       "grid_auto_columns": null,
       "grid_auto_flow": null,
       "grid_auto_rows": null,
       "grid_column": null,
       "grid_gap": null,
       "grid_row": null,
       "grid_template_areas": null,
       "grid_template_columns": null,
       "grid_template_rows": null,
       "height": null,
       "justify_content": null,
       "justify_items": null,
       "left": null,
       "margin": null,
       "max_height": null,
       "max_width": null,
       "min_height": null,
       "min_width": null,
       "object_fit": null,
       "object_position": null,
       "order": null,
       "overflow": null,
       "overflow_x": null,
       "overflow_y": null,
       "padding": null,
       "right": null,
       "top": null,
       "visibility": null,
       "width": "20px"
      }
     },
     "efc0e21747054a00824bc6eb054949ec": {
      "model_module": "@jupyter-widgets/controls",
      "model_module_version": "1.5.0",
      "model_name": "DescriptionStyleModel",
      "state": {
       "_model_module": "@jupyter-widgets/controls",
       "_model_module_version": "1.5.0",
       "_model_name": "DescriptionStyleModel",
       "_view_count": null,
       "_view_module": "@jupyter-widgets/base",
       "_view_module_version": "1.2.0",
       "_view_name": "StyleView",
       "description_width": ""
      }
     }
    },
    "version_major": 2,
    "version_minor": 0
   }
  }
 },
 "nbformat": 4,
 "nbformat_minor": 5
}
