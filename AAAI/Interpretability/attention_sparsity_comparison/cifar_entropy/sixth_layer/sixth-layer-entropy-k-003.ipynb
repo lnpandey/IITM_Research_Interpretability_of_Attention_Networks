{
 "cells": [
  {
   "cell_type": "code",
   "execution_count": 1,
   "id": "04ecb6d4",
   "metadata": {
    "execution": {
     "iopub.execute_input": "2021-09-04T11:40:50.828923Z",
     "iopub.status.busy": "2021-09-04T11:40:50.827633Z",
     "iopub.status.idle": "2021-09-04T11:40:50.830874Z",
     "shell.execute_reply": "2021-09-04T11:40:50.830337Z",
     "shell.execute_reply.started": "2021-09-03T17:05:15.105239Z"
    },
    "id": "69930b53",
    "papermill": {
     "duration": 0.027342,
     "end_time": "2021-09-04T11:40:50.831001",
     "exception": false,
     "start_time": "2021-09-04T11:40:50.803659",
     "status": "completed"
    },
    "tags": []
   },
   "outputs": [],
   "source": [
    "# # from google.colab import drive\n",
    "# drive.mount('/content/drive')"
   ]
  },
  {
   "cell_type": "code",
   "execution_count": 2,
   "id": "032cb50d",
   "metadata": {
    "execution": {
     "iopub.execute_input": "2021-09-04T11:40:50.953737Z",
     "iopub.status.busy": "2021-09-04T11:40:50.945010Z",
     "iopub.status.idle": "2021-09-04T11:40:51.576306Z",
     "shell.execute_reply": "2021-09-04T11:40:51.576726Z",
     "shell.execute_reply.started": "2021-09-03T17:05:15.181841Z"
    },
    "id": "3bb4bdeb",
    "outputId": "0fefb66c-59b5-467b-9bd1-0adc7067fe2f",
    "papermill": {
     "duration": 0.726908,
     "end_time": "2021-09-04T11:40:51.576877",
     "exception": false,
     "start_time": "2021-09-04T11:40:50.849969",
     "status": "completed"
    },
    "tags": []
   },
   "outputs": [
    {
     "name": "stdout",
     "output_type": "stream",
     "text": [
      "/kaggle/working\r\n"
     ]
    }
   ],
   "source": [
    "# from google.colab import drive\n",
    "# drive.mount('/content/drive')\n",
    "!pwd"
   ]
  },
  {
   "cell_type": "code",
   "execution_count": 3,
   "id": "81d43a73",
   "metadata": {
    "execution": {
     "iopub.execute_input": "2021-09-04T11:40:51.620113Z",
     "iopub.status.busy": "2021-09-04T11:40:51.619373Z",
     "iopub.status.idle": "2021-09-04T11:40:51.622156Z",
     "shell.execute_reply": "2021-09-04T11:40:51.621759Z",
     "shell.execute_reply.started": "2021-09-03T17:05:15.958836Z"
    },
    "id": "59416e0c",
    "papermill": {
     "duration": 0.025372,
     "end_time": "2021-09-04T11:40:51.622258",
     "exception": false,
     "start_time": "2021-09-04T11:40:51.596886",
     "status": "completed"
    },
    "tags": []
   },
   "outputs": [],
   "source": [
    "\n",
    "path = '/kaggle/working/run_'\n",
    "# path=''"
   ]
  },
  {
   "cell_type": "code",
   "execution_count": 4,
   "id": "5a9caaf3",
   "metadata": {
    "execution": {
     "iopub.execute_input": "2021-09-04T11:40:51.666022Z",
     "iopub.status.busy": "2021-09-04T11:40:51.665491Z",
     "iopub.status.idle": "2021-09-04T11:40:52.991659Z",
     "shell.execute_reply": "2021-09-04T11:40:52.991177Z",
     "shell.execute_reply.started": "2021-09-03T17:05:28.273352Z"
    },
    "id": "e8aa1663",
    "papermill": {
     "duration": 1.350167,
     "end_time": "2021-09-04T11:40:52.991794",
     "exception": false,
     "start_time": "2021-09-04T11:40:51.641627",
     "status": "completed"
    },
    "tags": []
   },
   "outputs": [],
   "source": [
    "import torch.nn as nn\n",
    "import torch.nn.functional as F\n",
    "import pandas as pd\n",
    "import numpy as np\n",
    "import matplotlib.pyplot as plt\n",
    "import torch\n",
    "import torchvision\n",
    "import torchvision.transforms as transforms\n",
    "from torch.utils.data import Dataset, DataLoader\n",
    "from torchvision import transforms, utils\n",
    "from matplotlib import pyplot as plt\n",
    "import copy\n",
    "# from sparsemax import Sparsemax\n",
    "import torch.optim as optim\n",
    "\n",
    "\n",
    "\n",
    "# Ignore warnings\n",
    "import warnings\n",
    "warnings.filterwarnings(\"ignore\")\n",
    "# n_seed = 0\n",
    "#k = 0"
   ]
  },
  {
   "cell_type": "code",
   "execution_count": 5,
   "id": "f016e183",
   "metadata": {
    "execution": {
     "iopub.execute_input": "2021-09-04T11:40:53.042183Z",
     "iopub.status.busy": "2021-09-04T11:40:53.041461Z",
     "iopub.status.idle": "2021-09-04T11:40:53.046283Z",
     "shell.execute_reply": "2021-09-04T11:40:53.047409Z",
     "shell.execute_reply.started": "2021-09-03T17:05:30.137406Z"
    },
    "id": "3bd8d578",
    "papermill": {
     "duration": 0.034299,
     "end_time": "2021-09-04T11:40:53.047590",
     "exception": false,
     "start_time": "2021-09-04T11:40:53.013291",
     "status": "completed"
    },
    "tags": []
   },
   "outputs": [],
   "source": [
    "torch.backends.cudnn.deterministic = True\n",
    "torch.backends.cudnn.benchmark= False"
   ]
  },
  {
   "cell_type": "code",
   "execution_count": 6,
   "id": "06e4e82e",
   "metadata": {
    "execution": {
     "iopub.execute_input": "2021-09-04T11:40:53.099358Z",
     "iopub.status.busy": "2021-09-04T11:40:53.098523Z",
     "iopub.status.idle": "2021-09-04T11:40:58.575635Z",
     "shell.execute_reply": "2021-09-04T11:40:58.576214Z",
     "shell.execute_reply.started": "2021-09-03T17:05:30.14726Z"
    },
    "id": "f930d92b",
    "outputId": "537f16ee-02fd-4d54-8846-aa323e0804e9",
    "papermill": {
     "duration": 5.503269,
     "end_time": "2021-09-04T11:40:58.576386",
     "exception": false,
     "start_time": "2021-09-04T11:40:53.073117",
     "status": "completed"
    },
    "tags": []
   },
   "outputs": [
    {
     "name": "stdout",
     "output_type": "stream",
     "text": [
      "Downloading https://www.cs.toronto.edu/~kriz/cifar-10-python.tar.gz to ./data/cifar-10-python.tar.gz\n"
     ]
    },
    {
     "data": {
      "application/vnd.jupyter.widget-view+json": {
       "model_id": "c41ac0140c9041c7a72fc6c5092e6977",
       "version_major": 2,
       "version_minor": 0
      },
      "text/plain": [
       "0it [00:00, ?it/s]"
      ]
     },
     "metadata": {},
     "output_type": "display_data"
    },
    {
     "name": "stdout",
     "output_type": "stream",
     "text": [
      "Extracting ./data/cifar-10-python.tar.gz to ./data\n",
      "Files already downloaded and verified\n"
     ]
    }
   ],
   "source": [
    "transform = transforms.Compose(\n",
    "    [transforms.ToTensor(),\n",
    "     transforms.Normalize((0.5, 0.5, 0.5), (0.5, 0.5, 0.5))])\n",
    "\n",
    "trainset = torchvision.datasets.CIFAR10(root='./data', train=True, download=True, transform=transform)\n",
    "\n",
    "\n",
    "testset = torchvision.datasets.CIFAR10(root='./data', train=False, download=True, transform=transform)\n"
   ]
  },
  {
   "cell_type": "code",
   "execution_count": 7,
   "id": "1ff8c6dd",
   "metadata": {
    "execution": {
     "iopub.execute_input": "2021-09-04T11:40:58.626973Z",
     "iopub.status.busy": "2021-09-04T11:40:58.626142Z",
     "iopub.status.idle": "2021-09-04T11:40:58.628663Z",
     "shell.execute_reply": "2021-09-04T11:40:58.628240Z",
     "shell.execute_reply.started": "2021-09-03T17:05:40.251387Z"
    },
    "id": "9d1d2898",
    "papermill": {
     "duration": 0.029666,
     "end_time": "2021-09-04T11:40:58.628772",
     "exception": false,
     "start_time": "2021-09-04T11:40:58.599106",
     "status": "completed"
    },
    "tags": []
   },
   "outputs": [],
   "source": [
    "trainloader = torch.utils.data.DataLoader(trainset, batch_size=10, shuffle=False)\n",
    "testloader = torch.utils.data.DataLoader(testset, batch_size=10, shuffle=False)\n",
    "\n",
    "\n",
    "classes = ('plane', 'car', 'bird', 'cat', 'deer', 'dog', 'frog', 'horse', 'ship', 'truck')\n",
    "\n",
    "foreground_classes = {'plane', 'car', 'bird'}\n",
    "#foreground_classes = {'bird', 'cat', 'deer'}\n",
    "background_classes = {'cat', 'deer', 'dog', 'frog', 'horse', 'ship', 'truck'}\n",
    "#background_classes = {'plane', 'car', 'dog', 'frog', 'horse','ship', 'truck'}\n",
    "\n",
    "fg1,fg2,fg3 = 0,1,2"
   ]
  },
  {
   "cell_type": "code",
   "execution_count": 8,
   "id": "893851d8",
   "metadata": {
    "execution": {
     "iopub.execute_input": "2021-09-04T11:40:58.679396Z",
     "iopub.status.busy": "2021-09-04T11:40:58.678884Z",
     "iopub.status.idle": "2021-09-04T11:41:47.306000Z",
     "shell.execute_reply": "2021-09-04T11:41:47.305101Z",
     "shell.execute_reply.started": "2021-09-03T17:05:40.262107Z"
    },
    "id": "6b95df3b",
    "papermill": {
     "duration": 48.65618,
     "end_time": "2021-09-04T11:41:47.306143",
     "exception": false,
     "start_time": "2021-09-04T11:40:58.649963",
     "status": "completed"
    },
    "tags": []
   },
   "outputs": [],
   "source": [
    "dataiter = iter(trainloader)\n",
    "background_data=[]\n",
    "background_label=[]\n",
    "foreground_data=[]\n",
    "foreground_label=[]\n",
    "batch_size=10\n",
    "\n",
    "for i in range(5000):\n",
    "  images, labels = dataiter.next()\n",
    "  for j in range(batch_size):\n",
    "    if(classes[labels[j]] in background_classes):\n",
    "      img = images[j].tolist()\n",
    "      background_data.append(img)\n",
    "      background_label.append(labels[j])\n",
    "    else:\n",
    "      img = images[j].tolist()\n",
    "      foreground_data.append(img)\n",
    "      foreground_label.append(labels[j])\n",
    "            \n",
    "foreground_data = torch.tensor(foreground_data)\n",
    "foreground_label = torch.tensor(foreground_label)\n",
    "background_data = torch.tensor(background_data)\n",
    "background_label = torch.tensor(background_label)"
   ]
  },
  {
   "cell_type": "code",
   "execution_count": 9,
   "id": "9f17892c",
   "metadata": {
    "execution": {
     "iopub.execute_input": "2021-09-04T11:41:47.354959Z",
     "iopub.status.busy": "2021-09-04T11:41:47.354176Z",
     "iopub.status.idle": "2021-09-04T11:41:47.356809Z",
     "shell.execute_reply": "2021-09-04T11:41:47.356393Z",
     "shell.execute_reply.started": "2021-09-03T17:06:42.485612Z"
    },
    "id": "5c1e2f3d",
    "papermill": {
     "duration": 0.028953,
     "end_time": "2021-09-04T11:41:47.356917",
     "exception": false,
     "start_time": "2021-09-04T11:41:47.327964",
     "status": "completed"
    },
    "tags": []
   },
   "outputs": [],
   "source": [
    "def create_mosaic_img(bg_idx,fg_idx,fg): \n",
    "  \"\"\"\n",
    "  bg_idx : list of indexes of background_data[] to be used as background images in mosaic\n",
    "  fg_idx : index of image to be used as foreground image from foreground data\n",
    "  fg : at what position/index foreground image has to be stored out of 0-8\n",
    "  \"\"\"\n",
    "  image_list=[]\n",
    "  j=0\n",
    "  for i in range(9):\n",
    "    if i != fg:\n",
    "      image_list.append(background_data[bg_idx[j]])#.type(\"torch.DoubleTensor\"))\n",
    "      j+=1\n",
    "    else: \n",
    "      image_list.append(foreground_data[fg_idx])#.type(\"torch.DoubleTensor\"))\n",
    "      label = foreground_label[fg_idx]- fg1  # minus fg1 because our fore ground classes are fg1,fg2,fg3 but we have to store it as 0,1,2\n",
    "  #image_list = np.concatenate(image_list ,axis=0)\n",
    "  image_list = torch.stack(image_list) \n",
    "  return image_list,label"
   ]
  },
  {
   "cell_type": "code",
   "execution_count": 10,
   "id": "bb2595de",
   "metadata": {
    "execution": {
     "iopub.execute_input": "2021-09-04T11:41:47.404755Z",
     "iopub.status.busy": "2021-09-04T11:41:47.404099Z",
     "iopub.status.idle": "2021-09-04T11:41:52.579793Z",
     "shell.execute_reply": "2021-09-04T11:41:52.578881Z",
     "shell.execute_reply.started": "2021-09-03T17:06:42.498207Z"
    },
    "id": "3d055e22",
    "papermill": {
     "duration": 5.202406,
     "end_time": "2021-09-04T11:41:52.579935",
     "exception": false,
     "start_time": "2021-09-04T11:41:47.377529",
     "status": "completed"
    },
    "tags": []
   },
   "outputs": [],
   "source": [
    "desired_num = 30000\n",
    "mosaic_list_of_images =[]      # list of mosaic images, each mosaic image is saved as list of 9 images\n",
    "fore_idx =[]                   # list of indexes at which foreground image is present in a mosaic image i.e from 0 to 9               \n",
    "mosaic_label=[]                # label of mosaic image = foreground class present in that mosaic\n",
    "for i in range(desired_num):\n",
    "  np.random.seed(i)\n",
    "  bg_idx = np.random.randint(0,35000,8)\n",
    "  fg_idx = np.random.randint(0,15000)\n",
    "  fg = np.random.randint(0,9)\n",
    "  fore_idx.append(fg)\n",
    "  image_list,label = create_mosaic_img(bg_idx,fg_idx,fg)\n",
    "  mosaic_list_of_images.append(image_list)\n",
    "  mosaic_label.append(label)"
   ]
  },
  {
   "cell_type": "code",
   "execution_count": 11,
   "id": "995ab573",
   "metadata": {
    "execution": {
     "iopub.execute_input": "2021-09-04T11:41:52.639513Z",
     "iopub.status.busy": "2021-09-04T11:41:52.639006Z",
     "iopub.status.idle": "2021-09-04T11:41:52.777453Z",
     "shell.execute_reply": "2021-09-04T11:41:52.777028Z",
     "shell.execute_reply.started": "2021-09-03T17:06:49.721109Z"
    },
    "id": "e3d3c1ee",
    "papermill": {
     "duration": 0.176769,
     "end_time": "2021-09-04T11:41:52.777598",
     "exception": false,
     "start_time": "2021-09-04T11:41:52.600829",
     "status": "completed"
    },
    "tags": []
   },
   "outputs": [
    {
     "data": {
      "text/plain": [
       "<matplotlib.image.AxesImage at 0x7f37b96bb4d0>"
      ]
     },
     "execution_count": 11,
     "metadata": {},
     "output_type": "execute_result"
    },
    {
     "data": {
      "image/png": "[encoded data removed]",
      "text/plain": [
       "<Figure size 432x288 with 1 Axes>"
      ]
     },
     "metadata": {
      "needs_background": "light"
     },
     "output_type": "display_data"
    }
   ],
   "source": [
    "plt.imshow(torch.transpose(mosaic_list_of_images[0][1],dim0= 0,dim1 = 2))"
   ]
  },
  {
   "cell_type": "code",
   "execution_count": 12,
   "id": "5d19a605",
   "metadata": {
    "execution": {
     "iopub.execute_input": "2021-09-04T11:41:52.826777Z",
     "iopub.status.busy": "2021-09-04T11:41:52.826039Z",
     "iopub.status.idle": "2021-09-04T11:41:52.828992Z",
     "shell.execute_reply": "2021-09-04T11:41:52.828578Z",
     "shell.execute_reply.started": "2021-09-03T17:06:49.945797Z"
    },
    "id": "75820e1e",
    "papermill": {
     "duration": 0.030156,
     "end_time": "2021-09-04T11:41:52.829106",
     "exception": false,
     "start_time": "2021-09-04T11:41:52.798950",
     "status": "completed"
    },
    "tags": []
   },
   "outputs": [],
   "source": [
    "class MosaicDataset(Dataset):\n",
    "  \"\"\"MosaicDataset dataset.\"\"\"\n",
    "\n",
    "  def __init__(self, mosaic_list_of_images, mosaic_label, fore_idx):\n",
    "    \"\"\"\n",
    "      Args:\n",
    "        csv_file (string): Path to the csv file with annotations.\n",
    "        root_dir (string): Directory with all the images.\n",
    "        transform (callable, optional): Optional transform to be applied\n",
    "            on a sample.\n",
    "    \"\"\"\n",
    "    self.mosaic = mosaic_list_of_images\n",
    "    self.label = mosaic_label\n",
    "    self.fore_idx = fore_idx\n",
    "\n",
    "  def __len__(self):\n",
    "    return len(self.label)\n",
    "\n",
    "  def __getitem__(self, idx):\n",
    "    return self.mosaic[idx] , self.label[idx], self.fore_idx[idx]\n",
    "\n",
    "batch = 250\n",
    "msd = MosaicDataset(mosaic_list_of_images, mosaic_label , fore_idx)\n",
    "train_loader = DataLoader( msd,batch_size= batch ,shuffle=True)"
   ]
  },
  {
   "cell_type": "code",
   "execution_count": 13,
   "id": "b8d7f5fb",
   "metadata": {
    "execution": {
     "iopub.execute_input": "2021-09-04T11:41:52.875383Z",
     "iopub.status.busy": "2021-09-04T11:41:52.874597Z",
     "iopub.status.idle": "2021-09-04T11:41:52.895853Z",
     "shell.execute_reply": "2021-09-04T11:41:52.895430Z",
     "shell.execute_reply.started": "2021-09-03T17:19:37.739447Z"
    },
    "id": "d0444a92",
    "papermill": {
     "duration": 0.045122,
     "end_time": "2021-09-04T11:41:52.895956",
     "exception": false,
     "start_time": "2021-09-04T11:41:52.850834",
     "status": "completed"
    },
    "tags": []
   },
   "outputs": [],
   "source": [
    "class Focus(nn.Module):\n",
    "  def __init__(self):\n",
    "    super(Focus, self).__init__()\n",
    "    self.conv1 = nn.Conv2d(in_channels=3, out_channels=32, kernel_size=3, padding=0,bias=False)\n",
    "    self.conv2 = nn.Conv2d(in_channels=32, out_channels=64, kernel_size=3, padding=0,bias=False)\n",
    "    self.conv3 = nn.Conv2d(in_channels=64, out_channels=64, kernel_size=3, padding=0,bias=False)\n",
    "    self.conv4 = nn.Conv2d(in_channels=64, out_channels=128, kernel_size=3, padding=0,bias=False)\n",
    "    self.conv5 = nn.Conv2d(in_channels=128, out_channels=256, kernel_size=3, padding=0,bias=False)\n",
    "    self.conv6 = nn.Conv2d(in_channels=256, out_channels=256, kernel_size=3, padding=1,bias=False)\n",
    "    self.pool = nn.MaxPool2d(kernel_size=2, stride=2)\n",
    "    self.batch_norm1 = nn.BatchNorm2d(32,track_running_stats=False)\n",
    "    self.batch_norm2 = nn.BatchNorm2d(64,track_running_stats=False)\n",
    "    self.batch_norm3 = nn.BatchNorm2d(256,track_running_stats=False)\n",
    "    self.dropout1 = nn.Dropout2d(p=0.05)\n",
    "    self.dropout2 = nn.Dropout2d(p=0.1)\n",
    "    self.fc1 = nn.Linear(256,64,bias=False)\n",
    "    self.fc2 = nn.Linear(64, 32,bias=False)\n",
    "    self.fc3 = nn.Linear(32, 10,bias=False)\n",
    "    self.fc4 = nn.Linear(10, 1,bias=False)\n",
    "\n",
    "    torch.nn.init.xavier_normal_(self.conv1.weight)\n",
    "    torch.nn.init.xavier_normal_(self.conv2.weight)\n",
    "    torch.nn.init.xavier_normal_(self.conv3.weight)\n",
    "    torch.nn.init.xavier_normal_(self.conv4.weight)\n",
    "    torch.nn.init.xavier_normal_(self.conv5.weight)\n",
    "    torch.nn.init.xavier_normal_(self.conv6.weight)\n",
    "\n",
    "    torch.nn.init.xavier_normal_(self.fc1.weight)\n",
    "    torch.nn.init.xavier_normal_(self.fc2.weight)\n",
    "    torch.nn.init.xavier_normal_(self.fc3.weight)\n",
    "    torch.nn.init.xavier_normal_(self.fc4.weight)\n",
    "\n",
    "  def forward(self,z):  #y is avg image #z batch of list of 9 images\n",
    "    y = torch.zeros([batch,256, 3,3], dtype=torch.float64)\n",
    "    x = torch.zeros([batch,9],dtype=torch.float64)\n",
    "    ftr = torch.zeros([batch,9,256,3,3])\n",
    "    y = y.to(\"cuda\")\n",
    "    x = x.to(\"cuda\")\n",
    "    ftr = ftr.to(\"cuda\")\n",
    "    \n",
    "    for i in range(9):\n",
    "        out,ftrs = self.helper(z[:,i])\n",
    "        #print(out.shape)\n",
    "        x[:,i] = out\n",
    "        ftr[:,i] = ftrs\n",
    "    log_x = F.log_softmax(x,dim=1)  # log_alpha\n",
    "    x = F.softmax(x,dim=1) \n",
    "\n",
    "    for i in range(9):            \n",
    "      x1 = x[:,i]          \n",
    "      y = y + torch.mul(x1[:,None,None,None],ftr[:,i])\n",
    "\n",
    "    return x, y, log_x, #alpha, log_alpha, avg_data\n",
    "    \n",
    "  def helper(self, x):\n",
    "    #x1 = x\n",
    "    #x1 =x\n",
    "    x = self.conv1(x)\n",
    "    x = F.relu(self.batch_norm1(x))\n",
    "\n",
    "    x = (F.relu(self.conv2(x)))\n",
    "    x = self.pool(x)\n",
    "    \n",
    "    x = self.conv3(x)\n",
    "    x = F.relu(self.batch_norm2(x))\n",
    "\n",
    "    x = (F.relu(self.conv4(x)))\n",
    "    x = self.pool(x)\n",
    "    x = self.dropout1(x)\n",
    "\n",
    "    x = self.conv5(x)\n",
    "    \n",
    "    x = F.relu(self.batch_norm3(x))\n",
    "\n",
    "    x = self.conv6(x)\n",
    "    x1 = F.tanh(x)\n",
    "    x = F.relu(x)\n",
    "    x = self.pool(x)\n",
    "\n",
    "    x = x.view(x.size(0), -1)\n",
    "\n",
    "    x = self.dropout2(x)\n",
    "    x = F.relu(self.fc1(x))\n",
    "    x = F.relu(self.fc2(x))\n",
    "    x = self.dropout2(x)\n",
    "    x = F.relu(self.fc3(x))\n",
    "    x = self.fc4(x)\n",
    "    x = x[:,0] \n",
    "    # print(x.shape)\n",
    "    return x,x1"
   ]
  },
  {
   "cell_type": "code",
   "execution_count": 14,
   "id": "d1be535f",
   "metadata": {
    "execution": {
     "iopub.execute_input": "2021-09-04T11:41:52.956147Z",
     "iopub.status.busy": "2021-09-04T11:41:52.955354Z",
     "iopub.status.idle": "2021-09-04T11:41:52.983901Z",
     "shell.execute_reply": "2021-09-04T11:41:52.984610Z",
     "shell.execute_reply.started": "2021-09-03T17:19:45.052391Z"
    },
    "id": "aad06548",
    "papermill": {
     "duration": 0.066976,
     "end_time": "2021-09-04T11:41:52.984777",
     "exception": false,
     "start_time": "2021-09-04T11:41:52.917801",
     "status": "completed"
    },
    "tags": []
   },
   "outputs": [],
   "source": [
    "class Classification(nn.Module):\n",
    "  def __init__(self):\n",
    "    super(Classification, self).__init__()\n",
    "    self.conv1 = nn.Conv2d(in_channels=256, out_channels=128, kernel_size=3, padding=1)\n",
    "    self.conv2 = nn.Conv2d(in_channels=128, out_channels=128, kernel_size=3, padding=1)\n",
    "    self.conv3 = nn.Conv2d(in_channels=128, out_channels=256, kernel_size=3, padding=1)\n",
    "    self.conv4 = nn.Conv2d(in_channels=256, out_channels=256, kernel_size=3, padding=1)\n",
    "    self.conv5 = nn.Conv2d(in_channels=256, out_channels=512, kernel_size=3, padding=1)\n",
    "    self.conv6 = nn.Conv2d(in_channels=512, out_channels=512, kernel_size=3, padding=1)\n",
    "    self.pool = nn.MaxPool2d(kernel_size=2, stride=2,padding=1)\n",
    "    self.batch_norm1 = nn.BatchNorm2d(128,track_running_stats=False)\n",
    "    self.batch_norm2 = nn.BatchNorm2d(256,track_running_stats=False)\n",
    "    self.batch_norm3 = nn.BatchNorm2d(512,track_running_stats=False)\n",
    "    self.dropout1 = nn.Dropout2d(p=0.05)\n",
    "    self.dropout2 = nn.Dropout2d(p=0.1)\n",
    "    self.global_average_pooling = nn.AvgPool2d(kernel_size=2)\n",
    "    self.fc1 = nn.Linear(512,128)\n",
    "    # self.fc2 = nn.Linear(128, 64)\n",
    "    # self.fc3 = nn.Linear(64, 10)\n",
    "    self.fc2 = nn.Linear(128, 3)\n",
    "\n",
    "    torch.nn.init.xavier_normal_(self.conv1.weight)\n",
    "    torch.nn.init.xavier_normal_(self.conv2.weight)\n",
    "    torch.nn.init.xavier_normal_(self.conv3.weight)\n",
    "    torch.nn.init.xavier_normal_(self.conv4.weight)\n",
    "    torch.nn.init.xavier_normal_(self.conv5.weight)\n",
    "    torch.nn.init.xavier_normal_(self.conv6.weight)\n",
    "\n",
    "    torch.nn.init.zeros_(self.conv1.bias)\n",
    "    torch.nn.init.zeros_(self.conv2.bias)\n",
    "    torch.nn.init.zeros_(self.conv3.bias)\n",
    "    torch.nn.init.zeros_(self.conv4.bias)\n",
    "    torch.nn.init.zeros_(self.conv5.bias)\n",
    "    torch.nn.init.zeros_(self.conv6.bias)\n",
    "\n",
    "\n",
    "    torch.nn.init.xavier_normal_(self.fc1.weight)\n",
    "    torch.nn.init.xavier_normal_(self.fc2.weight)\n",
    "    torch.nn.init.zeros_(self.fc1.bias)\n",
    "    torch.nn.init.zeros_(self.fc2.bias)\n",
    "\n",
    "\n",
    "  def forward(self, x):\n",
    "    x = self.conv1(x)\n",
    "    x = F.relu(self.batch_norm1(x))\n",
    "\n",
    "    x = (F.relu(self.conv2(x)))\n",
    "    x = self.pool(x)\n",
    "    \n",
    "    x = self.conv3(x)\n",
    "    x = F.relu(self.batch_norm2(x))\n",
    "\n",
    "    x = (F.relu(self.conv4(x)))\n",
    "    x = self.pool(x)\n",
    "    x = self.dropout1(x)\n",
    "\n",
    "    x = self.conv5(x)\n",
    "    x = F.relu(self.batch_norm3(x))\n",
    "\n",
    "    x = (F.relu(self.conv6(x)))\n",
    "    x = self.pool(x)\n",
    "    #print(x.shape)\n",
    "    x = self.global_average_pooling(x)\n",
    "    x = x.squeeze()\n",
    "    #x = x.view(x.size(0), -1)\n",
    "    #print(x.shape)\n",
    "    x = self.dropout2(x)\n",
    "    x = F.relu(self.fc1(x))\n",
    "    #x = F.relu(self.fc2(x))\n",
    "    #x = self.dropout2(x)\n",
    "    #x = F.relu(self.fc3(x))\n",
    "    x = self.fc2(x)\n",
    "    return x"
   ]
  },
  {
   "cell_type": "code",
   "execution_count": 15,
   "id": "b4480bf9",
   "metadata": {
    "execution": {
     "iopub.execute_input": "2021-09-04T11:41:53.075381Z",
     "iopub.status.busy": "2021-09-04T11:41:53.074532Z",
     "iopub.status.idle": "2021-09-04T11:41:55.041598Z",
     "shell.execute_reply": "2021-09-04T11:41:55.042050Z",
     "shell.execute_reply.started": "2021-09-03T17:19:46.98611Z"
    },
    "id": "4e9a8273",
    "papermill": {
     "duration": 2.022132,
     "end_time": "2021-09-04T11:41:55.042221",
     "exception": false,
     "start_time": "2021-09-04T11:41:53.020089",
     "status": "completed"
    },
    "tags": []
   },
   "outputs": [],
   "source": [
    "test_images =[]        #list of mosaic images, each mosaic image is saved as laist of 9 images\n",
    "fore_idx_test =[]                   #list of indexes at which foreground image is present in a mosaic image                \n",
    "test_label=[]                # label of mosaic image = foreground class present in that mosaic\n",
    "for i in range(10000):\n",
    "  np.random.seed(i+30000)\n",
    "  bg_idx = np.random.randint(0,35000,8)\n",
    "  fg_idx = np.random.randint(0,15000)\n",
    "  fg = np.random.randint(0,9)\n",
    "  fore_idx_test.append(fg)\n",
    "  image_list,label = create_mosaic_img(bg_idx,fg_idx,fg)\n",
    "  test_images.append(image_list)\n",
    "  test_label.append(label)"
   ]
  },
  {
   "cell_type": "code",
   "execution_count": 16,
   "id": "0d242889",
   "metadata": {
    "execution": {
     "iopub.execute_input": "2021-09-04T11:41:55.090249Z",
     "iopub.status.busy": "2021-09-04T11:41:55.089719Z",
     "iopub.status.idle": "2021-09-04T11:41:55.093211Z",
     "shell.execute_reply": "2021-09-04T11:41:55.094081Z",
     "shell.execute_reply.started": "2021-09-03T17:19:49.690982Z"
    },
    "id": "20bc2956",
    "papermill": {
     "duration": 0.030085,
     "end_time": "2021-09-04T11:41:55.094210",
     "exception": false,
     "start_time": "2021-09-04T11:41:55.064125",
     "status": "completed"
    },
    "tags": []
   },
   "outputs": [],
   "source": [
    "test_data = MosaicDataset(test_images,test_label,fore_idx_test)\n",
    "test_loader = DataLoader( test_data,batch_size= batch ,shuffle=False)"
   ]
  },
  {
   "cell_type": "code",
   "execution_count": 17,
   "id": "d03bdd8f",
   "metadata": {
    "execution": {
     "iopub.execute_input": "2021-09-04T11:41:55.143732Z",
     "iopub.status.busy": "2021-09-04T11:41:55.142512Z",
     "iopub.status.idle": "2021-09-04T11:41:55.144824Z",
     "shell.execute_reply": "2021-09-04T11:41:55.145202Z"
    },
    "id": "ec8d6a06",
    "papermill": {
     "duration": 0.029698,
     "end_time": "2021-09-04T11:41:55.145322",
     "exception": false,
     "start_time": "2021-09-04T11:41:55.115624",
     "status": "completed"
    },
    "tags": []
   },
   "outputs": [],
   "source": [
    "criterion = nn.CrossEntropyLoss()\n",
    "def my_cross_entropy(x, y,alpha,log_alpha,k):\n",
    "    # log_prob = -1.0 * F.log_softmax(x, 1)\n",
    "    # loss = log_prob.gather(1, y.unsqueeze(1))\n",
    "    # loss = loss.mean()\n",
    "    loss = criterion(x,y)\n",
    "    \n",
    "    #alpha = torch.clamp(alpha,min=1e-10)     \n",
    "    \n",
    "    b = -1.0* alpha * log_alpha\n",
    "    b =  torch.mean(torch.sum(b,dim=1))\n",
    "    closs = loss\n",
    "    entropy = b \n",
    "    loss = (1-k)*loss + ((k)*b)\n",
    "    return loss,closs,entropy"
   ]
  },
  {
   "cell_type": "code",
   "execution_count": 18,
   "id": "5db2dca5",
   "metadata": {
    "execution": {
     "iopub.execute_input": "2021-09-04T11:41:55.199270Z",
     "iopub.status.busy": "2021-09-04T11:41:55.195612Z",
     "iopub.status.idle": "2021-09-04T11:41:55.201669Z",
     "shell.execute_reply": "2021-09-04T11:41:55.201234Z",
     "shell.execute_reply.started": "2021-09-03T17:19:50.107148Z"
    },
    "id": "a3927db7",
    "papermill": {
     "duration": 0.03484,
     "end_time": "2021-09-04T11:41:55.201768",
     "exception": false,
     "start_time": "2021-09-04T11:41:55.166928",
     "status": "completed"
    },
    "tags": []
   },
   "outputs": [],
   "source": [
    "def calculate_attn_loss(dataloader,what,where,k):\n",
    "    what.eval()\n",
    "    where.eval()\n",
    "    r_loss = 0\n",
    "    alphas = []\n",
    "    lbls = []\n",
    "    pred = []\n",
    "    fidices = []\n",
    "    with torch.no_grad():\n",
    "        for i, data in enumerate(dataloader, 0):\n",
    "            inputs, labels,fidx = data\n",
    "            lbls.append(labels)\n",
    "            fidices.append(fidx)\n",
    "            inputs = inputs.double()\n",
    "            inputs, labels = inputs.to(\"cuda\"),labels.to(\"cuda\")\n",
    "\n",
    "\n",
    "\n",
    "            alpha, avg_images,log_alphas = focus_net(inputs)\n",
    "            outputs = classify(avg_images)\n",
    "      \n",
    "      \n",
    "            _, predicted = torch.max(outputs.data, 1)\n",
    "            pred.append(predicted.cpu().numpy())\n",
    "            alphas.append(alpha.cpu().numpy())\n",
    "\n",
    "            loss,_,_ = my_cross_entropy(outputs, labels, alpha, log_alphas, k)\n",
    "            r_loss += loss.item()\n",
    "\n",
    "\n",
    "    alphas = np.concatenate(alphas,axis=0)\n",
    "    pred = np.concatenate(pred,axis=0)\n",
    "    lbls = np.concatenate(lbls,axis=0)\n",
    "    fidices = np.concatenate(fidices,axis=0)\n",
    "    #print(alphas.shape,pred.shape,lbls.shape,fidices.shape) \n",
    "    \n",
    "    # value>0.01\n",
    "    sparsity_val = np.sum(np.sum(alphas>0.01,axis=1))\n",
    "    \n",
    "    \n",
    "    # simplex distance\n",
    "    argmax_index = np.argmax(alphas,axis=1)\n",
    "    simplex_pt = np.zeros(alphas.shape)\n",
    "    simplex_pt[np.arange(argmax_index.size),argmax_index] = 1\n",
    "    \n",
    "    shortest_distance_simplex = np.sum(np.sqrt(np.sum((alphas-simplex_pt)**2,axis=1))) \n",
    "    \n",
    "    # entropy\n",
    "    entropy = np.sum((-alphas*np.log2(alphas)).sum(axis=1))\n",
    "    \n",
    "    \n",
    "    \n",
    "    \n",
    "    \n",
    "    \n",
    "    \n",
    "    analysis = analyse_data(alphas,lbls,pred,fidices)\n",
    "    return analysis,[sparsity_val,shortest_distance_simplex ,entropy]"
   ]
  },
  {
   "cell_type": "code",
   "execution_count": 19,
   "id": "4c2405f1",
   "metadata": {
    "execution": {
     "iopub.execute_input": "2021-09-04T11:41:55.251420Z",
     "iopub.status.busy": "2021-09-04T11:41:55.250930Z",
     "iopub.status.idle": "2021-09-04T11:41:55.254592Z",
     "shell.execute_reply": "2021-09-04T11:41:55.254186Z",
     "shell.execute_reply.started": "2021-09-03T17:19:51.364595Z"
    },
    "id": "e86fd03e",
    "papermill": {
     "duration": 0.031864,
     "end_time": "2021-09-04T11:41:55.254693",
     "exception": false,
     "start_time": "2021-09-04T11:41:55.222829",
     "status": "completed"
    },
    "tags": []
   },
   "outputs": [],
   "source": [
    "def analyse_data(alphas,lbls,predicted,f_idx):\n",
    "    '''\n",
    "       analysis data is created here\n",
    "    '''\n",
    "    batch = len(predicted)\n",
    "    amth,alth,ftpt,ffpt,ftpf,ffpf = 0,0,0,0,0,0\n",
    "    for j in range (batch):\n",
    "        focus = np.argmax(alphas[j])\n",
    "        if(alphas[j][focus] >= 0.5):\n",
    "            amth +=1\n",
    "        else:\n",
    "            alth +=1\n",
    "        if(focus == f_idx[j] and predicted[j] == lbls[j]):\n",
    "            ftpt += 1\n",
    "        elif(focus != f_idx[j] and predicted[j] == lbls[j]):\n",
    "            ffpt +=1\n",
    "        elif(focus == f_idx[j] and predicted[j] != lbls[j]):\n",
    "            ftpf +=1\n",
    "        elif(focus != f_idx[j] and predicted[j] != lbls[j]):\n",
    "            ffpf +=1\n",
    "\n",
    "    return [ftpt,ffpt,ftpf,ffpf,amth,alth]"
   ]
  },
  {
   "cell_type": "code",
   "execution_count": 20,
   "id": "a58c3348",
   "metadata": {
    "execution": {
     "iopub.execute_input": "2021-09-04T11:41:55.300992Z",
     "iopub.status.busy": "2021-09-04T11:41:55.300277Z",
     "iopub.status.idle": "2021-09-04T11:41:55.302601Z",
     "shell.execute_reply": "2021-09-04T11:41:55.302970Z",
     "shell.execute_reply.started": "2021-09-03T17:19:52.357725Z"
    },
    "id": "2414b1da",
    "papermill": {
     "duration": 0.027271,
     "end_time": "2021-09-04T11:41:55.303083",
     "exception": false,
     "start_time": "2021-09-04T11:41:55.275812",
     "status": "completed"
    },
    "tags": []
   },
   "outputs": [],
   "source": [
    "n_seed =[0, 1, 2]\n",
    "lr = [0.0005]\n",
    "k = 0.003 # k 0, 0.001 0.003, 0.005"
   ]
  },
  {
   "cell_type": "code",
   "execution_count": 21,
   "id": "7314d34c",
   "metadata": {
    "execution": {
     "iopub.execute_input": "2021-09-04T11:41:55.363475Z",
     "iopub.status.busy": "2021-09-04T11:41:55.362924Z",
     "iopub.status.idle": "2021-09-04T12:44:03.436546Z",
     "shell.execute_reply": "2021-09-04T12:44:03.436972Z",
     "shell.execute_reply.started": "2021-09-03T17:19:53.741298Z"
    },
    "id": "56a132e5",
    "papermill": {
     "duration": 3728.11289,
     "end_time": "2021-09-04T12:44:03.437127",
     "exception": false,
     "start_time": "2021-09-04T11:41:55.324237",
     "status": "completed"
    },
    "tags": []
   },
   "outputs": [
    {
     "name": "stdout",
     "output_type": "stream",
     "text": [
      "initializing models using seed 0\n",
      "using lr 0.0005\n",
      "[1,    60] loss: 1.092\n",
      "[1,   120] loss: 0.888\n",
      "[2,    60] loss: 0.723\n",
      "[2,   120] loss: 0.622\n",
      "[3,    60] loss: 0.482\n",
      "[3,   120] loss: 0.450\n",
      "[4,    60] loss: 0.359\n",
      "[4,   120] loss: 0.343\n",
      "[5,    60] loss: 0.267\n",
      "[5,   120] loss: 0.250\n",
      "[6,    60] loss: 0.206\n",
      "[6,   120] loss: 0.218\n",
      "[7,    60] loss: 0.173\n",
      "[7,   120] loss: 0.166\n",
      "[8,    60] loss: 0.136\n",
      "[8,   120] loss: 0.134\n",
      "[9,    60] loss: 0.112\n",
      "[9,   120] loss: 0.113\n",
      "[10,    60] loss: 0.089\n",
      "[10,   120] loss: 0.100\n",
      "[11,    60] loss: 0.083\n",
      "[11,   120] loss: 0.082\n",
      "[12,    60] loss: 0.068\n",
      "[12,   120] loss: 0.071\n",
      "[13,    60] loss: 0.064\n",
      "[13,   120] loss: 0.058\n",
      "[14,    60] loss: 0.056\n",
      "[14,   120] loss: 0.059\n",
      "[15,    60] loss: 0.047\n",
      "[15,   120] loss: 0.056\n",
      "[16,    60] loss: 0.045\n",
      "[16,   120] loss: 0.055\n",
      "Finished Training\n",
      "train FTPT Analysis and sparsity values [26112, 3611, 109, 168, 24868, 5132] [133830, 7880.556706189027, 32019.01763843638]\n",
      "test FTPT Analysis and sparsity values [8329, 1118, 181, 372, 8121, 1879] [45881, 2794.468864184072, 11164.728082178292]\n",
      "initializing models using seed 1\n",
      "using lr 0.0005\n",
      "[1,    60] loss: 1.087\n",
      "[1,   120] loss: 0.934\n",
      "[2,    60] loss: 0.761\n",
      "[2,   120] loss: 0.641\n",
      "[3,    60] loss: 0.499\n",
      "[3,   120] loss: 0.463\n",
      "[4,    60] loss: 0.360\n",
      "[4,   120] loss: 0.355\n",
      "[5,    60] loss: 0.267\n",
      "[5,   120] loss: 0.254\n",
      "[6,    60] loss: 0.216\n",
      "[6,   120] loss: 0.209\n",
      "[7,    60] loss: 0.169\n",
      "[7,   120] loss: 0.174\n",
      "[8,    60] loss: 0.140\n",
      "[8,   120] loss: 0.146\n",
      "[9,    60] loss: 0.116\n",
      "[9,   120] loss: 0.115\n",
      "[10,    60] loss: 0.095\n",
      "[10,   120] loss: 0.098\n",
      "[11,    60] loss: 0.084\n",
      "[11,   120] loss: 0.086\n",
      "[12,    60] loss: 0.071\n",
      "[12,   120] loss: 0.082\n",
      "[13,    60] loss: 0.079\n",
      "[13,   120] loss: 0.065\n",
      "[14,    60] loss: 0.052\n",
      "[14,   120] loss: 0.060\n",
      "[15,    60] loss: 0.046\n",
      "[15,   120] loss: 0.058\n",
      "[16,    60] loss: 0.045\n",
      "[16,   120] loss: 0.047\n",
      "Finished Training\n",
      "train FTPT Analysis and sparsity values [25528, 4267, 33, 172, 24274, 5726] [108251, 6122.767372886672, 24321.837357579436]\n",
      "test FTPT Analysis and sparsity values [8138, 1280, 167, 415, 7984, 2016] [37821, 2171.638684747922, 8599.472244408396]\n",
      "initializing models using seed 2\n",
      "using lr 0.0005\n",
      "[1,    60] loss: 1.104\n",
      "[1,   120] loss: 0.870\n",
      "[2,    60] loss: 0.679\n",
      "[2,   120] loss: 0.583\n",
      "[3,    60] loss: 0.461\n",
      "[3,   120] loss: 0.420\n",
      "[4,    60] loss: 0.341\n",
      "[4,   120] loss: 0.317\n",
      "[5,    60] loss: 0.271\n",
      "[5,   120] loss: 0.257\n",
      "[6,    60] loss: 0.203\n",
      "[6,   120] loss: 0.196\n",
      "[7,    60] loss: 0.161\n",
      "[7,   120] loss: 0.173\n",
      "[8,    60] loss: 0.119\n",
      "[8,   120] loss: 0.131\n",
      "[9,    60] loss: 0.100\n",
      "[9,   120] loss: 0.122\n",
      "[10,    60] loss: 0.092\n",
      "[10,   120] loss: 0.101\n",
      "[11,    60] loss: 0.066\n",
      "[11,   120] loss: 0.089\n",
      "[12,    60] loss: 0.075\n",
      "[12,   120] loss: 0.077\n",
      "[13,    60] loss: 0.069\n",
      "[13,   120] loss: 0.070\n",
      "[14,    60] loss: 0.058\n",
      "[14,   120] loss: 0.062\n",
      "[15,    60] loss: 0.049\n",
      "[15,   120] loss: 0.061\n",
      "[16,    60] loss: 0.046\n",
      "[16,   120] loss: 0.051\n",
      "Finished Training\n",
      "train FTPT Analysis and sparsity values [26096, 3735, 53, 116, 24987, 5013] [110486, 6448.758860712772, 25650.259355139366]\n",
      "test FTPT Analysis and sparsity values [8272, 1226, 205, 297, 8237, 1763] [38587, 2317.0238787590415, 9139.40322637235]\n"
     ]
    }
   ],
   "source": [
    "Analysis_ = {}\n",
    "Train_Loss_ = []\n",
    "\n",
    "for n_seed_ in n_seed:\n",
    "    for lr_ in lr:\n",
    "        analyse_data_train = []\n",
    "        analyse_data_test = []\n",
    "        sparsty_train = []\n",
    "        sparsty_test = []\n",
    "        \n",
    "        tr_loss = []\n",
    "        \n",
    "        print(\"initializing models using seed\",n_seed_)\n",
    "        torch.manual_seed(n_seed_)\n",
    "        focus_net = Focus().double()\n",
    "        focus_net = focus_net.to(\"cuda\")\n",
    "\n",
    "\n",
    "        torch.manual_seed(n_seed_)\n",
    "        classify = Classification().double()\n",
    "        classify = classify.to(\"cuda\")\n",
    "\n",
    "\n",
    "        criterion = nn.CrossEntropyLoss()\n",
    "\n",
    "\n",
    "        print(\"using lr\",lr_)\n",
    "\n",
    "        optimizer_focus = optim.Adam(focus_net.parameters(), lr=lr_)#, momentum=0.9)\n",
    "        optimizer_classify = optim.Adam(classify.parameters(), lr=lr_)#, momentum=0.9)\n",
    "        \n",
    "        analysis_data_train, sparsity_value_train =calculate_attn_loss(train_loader,classify,focus_net,k)\n",
    "        \n",
    "        analysis_data_test, sparsity_value_test =calculate_attn_loss(test_loader,classify,focus_net,k)\n",
    "        \n",
    "        analyse_data_train.append(analysis_data_train)\n",
    "        analyse_data_test.append(analysis_data_test)\n",
    "        sparsty_train.append(sparsity_value_train)\n",
    "        sparsty_test.append(sparsity_value_test)\n",
    "        \n",
    "        nos_epochs = 60\n",
    "        \n",
    "        \n",
    "        focus_net.train()\n",
    "        classify.train()\n",
    "        \n",
    "        for epoch in range(nos_epochs):  # loop over the dataset multiple time\n",
    "            focus_net.train()\n",
    "            classify.train()\n",
    "            \n",
    "            epoch_loss = []\n",
    "            cnt=0\n",
    "            running_loss = 0\n",
    "            \n",
    "            iteration = desired_num // batch\n",
    "            for i, data in  enumerate(train_loader):\n",
    "                inputs , labels , fore_idx = data\n",
    "                inputs = inputs.double()\n",
    "                inputs, labels = inputs.to(\"cuda\"), labels.to(\"cuda\")\n",
    "                \n",
    "                # zero the parameter gradients\n",
    "                optimizer_focus.zero_grad()\n",
    "                optimizer_classify.zero_grad()\n",
    "            \n",
    "                alphas, avg_images,log_alphas = focus_net(inputs)\n",
    "                outputs = classify(avg_images)\n",
    "\n",
    "                # outputs, alphas, avg_images = classify(inputs)\n",
    "\n",
    "                _, predicted = torch.max(outputs.data, 1)\n",
    "                \n",
    "                loss,_,_ = my_cross_entropy(outputs, labels,alphas,log_alphas,k)\n",
    "                loss.backward()\n",
    "                optimizer_focus.step()\n",
    "                optimizer_classify.step()\n",
    "\n",
    "                running_loss += loss.item()\n",
    "                mini = 60\n",
    "                if cnt % mini == mini-1:    # print every 60 mini-batches\n",
    "                    print('[%d, %5d] loss: %.3f' %(epoch + 1, cnt + 1, running_loss / mini))\n",
    "                    epoch_loss.append(running_loss/mini)\n",
    "                    running_loss = 0.0\n",
    "                cnt=cnt+1\n",
    "                \n",
    "            tr_loss.append(np.mean(epoch_loss))\n",
    "                \n",
    "            if epoch % 1 == 0:\n",
    "                analysis_data_train, sparsity_value_train = calculate_attn_loss(train_loader,classify,focus_net,k)\n",
    "        \n",
    "                analysis_data_test, sparsity_value_test = calculate_attn_loss(test_loader,classify,focus_net,k)    \n",
    "                \n",
    "                analyse_data_train.append(analysis_data_train)\n",
    "                analyse_data_test.append(analysis_data_test)\n",
    "                sparsty_train.append(sparsity_value_train)\n",
    "                sparsty_test.append(sparsity_value_test)\n",
    "            if(np.mean(epoch_loss) <= 0.05):\n",
    "                break\n",
    "        print('Finished Training') \n",
    "        print(\"train FTPT Analysis and sparsity values\",analysis_data_train,sparsity_value_train)\n",
    "        print(\"test FTPT Analysis and sparsity values\",analysis_data_test,sparsity_value_test)\n",
    "        \n",
    "        torch.save(focus_net.state_dict(),path+\"seed_\"+str(n_seed_)+\"lr_\"+str(lr_)+\"weights_focus.pt\")  \n",
    "        torch.save(classify.state_dict(),path+\"seed_\"+str(n_seed_)+\"lr_\"+str(lr_)+\"weights_classify.pt\")\n",
    "         \n",
    "        Analysis_[\"train_seed_\"+str(n_seed_)+\"_lr_\"+str(lr_)] = np.array(analyse_data_train)\n",
    "        Analysis_[\"test_seed_\"+str(n_seed_)+\"_lr_\"+str(lr_)]  = np.array(analyse_data_test)\n",
    "        Analysis_[\"train_sparsity_\"+str(n_seed_)+\"_lr_\"+str(lr_)] = np.array(sparsty_train)\n",
    "        Analysis_[\"test_sparsity_\"+str(n_seed_)+\"_lr_\"+str(lr_)] = np.array(sparsty_test)\n",
    "        \n",
    "        Train_Loss_.append(tr_loss)"
   ]
  },
  {
   "cell_type": "code",
   "execution_count": 22,
   "id": "96e4986b",
   "metadata": {
    "execution": {
     "iopub.execute_input": "2021-09-04T12:44:03.533841Z",
     "iopub.status.busy": "2021-09-04T12:44:03.533318Z",
     "iopub.status.idle": "2021-09-04T12:44:03.538439Z",
     "shell.execute_reply": "2021-09-04T12:44:03.538042Z",
     "shell.execute_reply.started": "2021-09-03T17:27:04.503804Z"
    },
    "id": "946caced",
    "papermill": {
     "duration": 0.054537,
     "end_time": "2021-09-04T12:44:03.538551",
     "exception": false,
     "start_time": "2021-09-04T12:44:03.484014",
     "status": "completed"
    },
    "tags": []
   },
   "outputs": [],
   "source": [
    "np.save(\"analysis.npy\",Analysis_)\n",
    "np.save(\"training_loss.npy\",Train_Loss_)"
   ]
  },
  {
   "cell_type": "code",
   "execution_count": 23,
   "id": "5205e8bd",
   "metadata": {
    "execution": {
     "iopub.execute_input": "2021-09-04T12:44:03.642943Z",
     "iopub.status.busy": "2021-09-04T12:44:03.642289Z",
     "iopub.status.idle": "2021-09-04T12:44:03.646930Z",
     "shell.execute_reply": "2021-09-04T12:44:03.647350Z",
     "shell.execute_reply.started": "2021-09-03T17:27:07.988405Z"
    },
    "id": "dfe217b2",
    "papermill": {
     "duration": 0.062447,
     "end_time": "2021-09-04T12:44:03.647466",
     "exception": false,
     "start_time": "2021-09-04T12:44:03.585019",
     "status": "completed"
    },
    "tags": []
   },
   "outputs": [
    {
     "data": {
      "text/plain": [
       "{'train_seed_0_lr_0.0005': array([[  412,  9728,  1585, 18275,     0, 30000],\n",
       "        [12900,  7057,  2848,  7195, 20486,  9514],\n",
       "        [17820,  6161,  2142,  3877, 20311,  9689],\n",
       "        [20795,  5243,  1686,  2276, 21329,  8671],\n",
       "        [22158,  4498,  1100,  2244, 23293,  6707],\n",
       "        [23843,  4341,   837,   979, 22889,  7111],\n",
       "        [24472,  4039,   543,   946, 23770,  6230],\n",
       "        [23647,  4704,   438,  1211, 23284,  6716],\n",
       "        [25239,  4086,   182,   493, 25390,  4610],\n",
       "        [25287,  4153,   208,   352, 25163,  4837],\n",
       "        [26069,  3460,   202,   269, 24955,  5045],\n",
       "        [26192,  3440,   125,   243, 26631,  3369],\n",
       "        [25895,  3735,   138,   232, 25881,  4119],\n",
       "        [25979,  3785,    87,   149, 25875,  4125],\n",
       "        [26502,  3242,    82,   174, 26314,  3686],\n",
       "        [25800,  3911,    61,   228, 25709,  4291],\n",
       "        [26112,  3611,   109,   168, 24868,  5132]]),\n",
       " 'test_seed_0_lr_0.0005': array([[  138,  3217,   514,  6131,     0, 10000],\n",
       "        [ 4285,  2304,  1029,  2382,  6853,  3147],\n",
       "        [ 5738,  2021,   826,  1415,  6719,  3281],\n",
       "        [ 6597,  1673,   721,  1009,  6987,  3013],\n",
       "        [ 7053,  1429,   525,   993,  7693,  2307],\n",
       "        [ 7544,  1419,   484,   553,  7447,  2553],\n",
       "        [ 7767,  1250,   351,   632,  7756,  2244],\n",
       "        [ 7519,  1478,   322,   681,  7596,  2404],\n",
       "        [ 8022,  1296,   226,   456,  8417,  1583],\n",
       "        [ 8014,  1359,   255,   372,  8262,  1738],\n",
       "        [ 8251,  1086,   242,   421,  8110,  1890],\n",
       "        [ 8348,  1049,   182,   421,  8676,  1324],\n",
       "        [ 8242,  1196,   207,   355,  8535,  1465],\n",
       "        [ 8280,  1201,   189,   330,  8504,  1496],\n",
       "        [ 8437,   994,   178,   391,  8596,  1404],\n",
       "        [ 8188,  1220,   181,   411,  8508,  1492],\n",
       "        [ 8329,  1118,   181,   372,  8121,  1879]]),\n",
       " 'train_sparsity_0_lr_0.0005': array([[269998.        ,  27146.73143785,  94003.74539717],\n",
       "        [152861.        ,  13546.88817356,  45805.60763733],\n",
       "        [168094.        ,  12147.02104627,  45411.44224025],\n",
       "        [170144.        ,  11324.51024352,  44031.5489763 ],\n",
       "        [147550.        ,  10061.75545595,  38291.91812133],\n",
       "        [160793.        ,   9931.24302087,  39928.41754381],\n",
       "        [153927.        ,   9443.62560862,  37992.15145996],\n",
       "        [149966.        ,   9558.37877527,  37649.19586199],\n",
       "        [119521.        ,   7450.50612819,  29075.79463142],\n",
       "        [119293.        ,   7242.25872713,  28695.53464198],\n",
       "        [140663.        ,   8269.00989728,  33844.7734041 ],\n",
       "        [111144.        ,   6616.86575714,  26206.560968  ],\n",
       "        [110106.        ,   6675.64110896,  26148.17748895],\n",
       "        [103110.        ,   6178.80429616,  24199.82542086],\n",
       "        [104509.        ,   6119.34714603,  24238.29377025],\n",
       "        [110806.        ,   6825.8847097 ,  26509.57584831],\n",
       "        [133830.        ,   7880.55670619,  32019.01763844]]),\n",
       " 'test_sparsity_0_lr_0.0005': array([[90000.        ,  9048.29558176, 31335.10799647],\n",
       "        [50969.        ,  4549.9388171 , 15342.04756315],\n",
       "        [56373.        ,  4108.38433622, 15282.18160629],\n",
       "        [57149.        ,  3857.94091751, 14895.11736261],\n",
       "        [49573.        ,  3446.54373315, 12984.41297554],\n",
       "        [54354.        ,  3431.18800268, 13624.31155468],\n",
       "        [52169.        ,  3261.93729346, 12980.81464451],\n",
       "        [50668.        ,  3338.35991853, 12928.86584985],\n",
       "        [40738.        ,  2586.39429146, 10011.45391999],\n",
       "        [40869.        ,  2558.38050814,  9987.87816823],\n",
       "        [47864.        ,  2932.96603256, 11764.2996173 ],\n",
       "        [38406.        ,  2394.41060896,  9292.30531898],\n",
       "        [37718.        ,  2360.71050286,  9133.0753266 ],\n",
       "        [35717.        ,  2215.82533809,  8563.5812389 ],\n",
       "        [36268.        ,  2243.55673088,  8683.0809027 ],\n",
       "        [37969.        ,  2399.43207009,  9212.8869389 ],\n",
       "        [45881.        ,  2794.46886418, 11164.72808218]]),\n",
       " 'train_seed_1_lr_0.0005': array([[ 2163,  7981,  2828, 17028,     5, 29995],\n",
       "        [11973,  7393,  3367,  7267, 15680, 14320],\n",
       "        [17275,  6337,  2081,  4307, 20602,  9398],\n",
       "        [20466,  5395,  1909,  2230, 18337, 11663],\n",
       "        [21028,  5937,   979,  2056, 21936,  8064],\n",
       "        [23598,  4611,   699,  1092, 21368,  8632],\n",
       "        [23456,  4935,   516,  1093, 23792,  6208],\n",
       "        [24560,  4212,   482,   746, 24291,  5709],\n",
       "        [24778,  4351,   337,   534, 24632,  5368],\n",
       "        [24928,  4269,   359,   444, 23908,  6092],\n",
       "        [25617,  3902,   174,   307, 24141,  5859],\n",
       "        [25162,  4253,   335,   250, 23832,  6168],\n",
       "        [24682,  4862,   120,   336, 24217,  5783],\n",
       "        [25642,  4005,   115,   238, 25014,  4986],\n",
       "        [26304,  3482,    78,   136, 25348,  4652],\n",
       "        [25610,  4050,   149,   191, 24006,  5994],\n",
       "        [25528,  4267,    33,   172, 24274,  5726]]),\n",
       " 'test_seed_1_lr_0.0005': array([[ 701, 2655,  943, 5701,    2, 9998],\n",
       "        [3932, 2344, 1220, 2504, 5172, 4828],\n",
       "        [5682, 2014,  785, 1519, 6790, 3210],\n",
       "        [6588, 1711,  745,  956, 5979, 4021],\n",
       "        [6714, 1832,  516,  938, 7228, 2772],\n",
       "        [7504, 1446,  408,  642, 6907, 3093],\n",
       "        [7492, 1533,  340,  635, 7893, 2107],\n",
       "        [7815, 1387,  317,  481, 7992, 2008],\n",
       "        [7879, 1358,  284,  479, 8100, 1900],\n",
       "        [7930, 1361,  281,  428, 7825, 2175],\n",
       "        [8151, 1235,  227,  387, 7888, 2112],\n",
       "        [7964, 1398,  324,  314, 7735, 2265],\n",
       "        [7878, 1513,  198,  411, 7980, 2020],\n",
       "        [8209, 1198,  193,  400, 8205, 1795],\n",
       "        [8436, 1051,  178,  335, 8248, 1752],\n",
       "        [8157, 1263,  235,  345, 7819, 2181],\n",
       "        [8138, 1280,  167,  415, 7984, 2016]]),\n",
       " 'train_sparsity_1_lr_0.0005': array([[270000.        ,  26005.29213516,  92780.24285772],\n",
       "        [216065.        ,  14196.20993037,  56558.16413025],\n",
       "        [169281.        ,  10338.81093879,  41345.71610681],\n",
       "        [183589.        ,  11435.70879336,  47058.18196258],\n",
       "        [139256.        ,   8368.02497501,  33203.82508503],\n",
       "        [151947.        ,   8862.74161169,  36508.20137202],\n",
       "        [118747.        ,   6709.63396705,  26904.39599024],\n",
       "        [120441.        ,   6635.39928931,  27005.70439708],\n",
       "        [114324.        ,   6270.36926278,  25427.67717867],\n",
       "        [126931.        ,   6973.57199164,  28710.23147567],\n",
       "        [118041.        ,   6519.89763606,  26641.24259277],\n",
       "        [122437.        ,   6802.59869008,  27795.59339695],\n",
       "        [110374.        ,   6175.46064372,  24642.8052501 ],\n",
       "        [106969.        ,   5796.1968015 ,  23410.08979589],\n",
       "        [104756.        ,   5692.36447538,  23070.51923437],\n",
       "        [112212.        ,   6451.54509804,  25702.83449876],\n",
       "        [108251.        ,   6122.76737289,  24321.83735758]]),\n",
       " 'test_sparsity_1_lr_0.0005': array([[90000.        ,  8668.01000912, 30925.21194804],\n",
       "        [72199.        ,  4778.0349263 , 18993.98678241],\n",
       "        [57049.        ,  3509.85063638, 14000.0432073 ],\n",
       "        [62766.        ,  3923.51531969, 16114.99825068],\n",
       "        [47797.        ,  2888.81562887, 11432.91328513],\n",
       "        [52599.        ,  3126.82736315, 12774.57390872],\n",
       "        [41227.        ,  2345.7281269 ,  9363.3513502 ],\n",
       "        [41650.        ,  2352.01731562,  9469.45299721],\n",
       "        [39953.        ,  2247.28442318,  9022.50824341],\n",
       "        [44331.        ,  2485.59959387, 10131.87278977],\n",
       "        [41402.        ,  2357.11007567,  9511.30446771],\n",
       "        [42935.        ,  2445.61282038,  9896.41150913],\n",
       "        [38330.        ,  2186.03574521,  8667.33395217],\n",
       "        [37592.        ,  2110.82774586,  8407.13369298],\n",
       "        [37222.        ,  2129.69242772,  8468.09358754],\n",
       "        [39123.        ,  2331.27960561,  9171.40062756],\n",
       "        [37821.        ,  2171.63868475,  8599.47224441]]),\n",
       " 'train_seed_2_lr_0.0005': array([[ 1287,  8865,  1961, 17887,     0, 30000],\n",
       "        [12122,  8041,  3889,  5948, 11294, 18706],\n",
       "        [18497,  5910,  1957,  3636, 20558,  9442],\n",
       "        [21384,  4627,  1317,  2672, 22766,  7234],\n",
       "        [22149,  4745,  1550,  1556, 21508,  8492],\n",
       "        [23590,  4649,   795,   966, 22530,  7470],\n",
       "        [24390,  4315,   427,   868, 24843,  5157],\n",
       "        [25149,  3951,   294,   606, 23884,  6116],\n",
       "        [25701,  3645,   229,   425, 25381,  4619],\n",
       "        [25645,  3716,   318,   321, 24839,  5161],\n",
       "        [25648,  3825,   102,   425, 26167,  3833],\n",
       "        [24974,  4476,    91,   459, 24886,  5114],\n",
       "        [25429,  4111,   156,   304, 24717,  5283],\n",
       "        [25347,  4277,   111,   265, 25391,  4609],\n",
       "        [26250,  3526,    66,   158, 24716,  5284],\n",
       "        [26018,  3650,    81,   251, 25957,  4043],\n",
       "        [26096,  3735,    53,   116, 24987,  5013]]),\n",
       " 'test_seed_2_lr_0.0005': array([[  414,  2940,   668,  5978,     0, 10000],\n",
       "        [ 3996,  2625,  1282,  2097,  3712,  6288],\n",
       "        [ 5946,  1924,   773,  1357,  6737,  3263],\n",
       "        [ 6861,  1453,   585,  1101,  7460,  2540],\n",
       "        [ 7109,  1469,   681,   741,  7006,  2994],\n",
       "        [ 7459,  1468,   488,   585,  7385,  2615],\n",
       "        [ 7755,  1312,   322,   611,  8227,  1773],\n",
       "        [ 7932,  1267,   271,   530,  7735,  2265],\n",
       "        [ 8150,  1131,   256,   463,  8297,  1703],\n",
       "        [ 8123,  1194,   307,   376,  8090,  1910],\n",
       "        [ 8182,  1138,   194,   486,  8631,  1369],\n",
       "        [ 7915,  1366,   193,   526,  8188,  1812],\n",
       "        [ 8084,  1279,   249,   388,  8068,  1932],\n",
       "        [ 8037,  1332,   208,   423,  8369,  1631],\n",
       "        [ 8308,  1169,   232,   291,  8023,  1977],\n",
       "        [ 8269,  1149,   200,   382,  8547,  1453],\n",
       "        [ 8272,  1226,   205,   297,  8237,  1763]]),\n",
       " 'train_sparsity_2_lr_0.0005': array([[270000.        ,  27542.3045562 ,  94582.89286498],\n",
       "        [239168.        ,  17550.48286786,  67145.94333877],\n",
       "        [150520.        ,  11210.24412624,  41087.06638755],\n",
       "        [138103.        ,   9480.69610851,  35826.76902287],\n",
       "        [142214.        ,   9460.29007138,  36378.53616148],\n",
       "        [138146.        ,   8662.94464145,  34251.9336151 ],\n",
       "        [108806.        ,   6884.86980603,  26235.8647381 ],\n",
       "        [123974.        ,   7747.79242524,  30215.52553235],\n",
       "        [108654.        ,   6429.28067142,  25381.47506974],\n",
       "        [116353.        ,   6984.04098686,  27627.13571729],\n",
       "        [ 94105.        ,   5696.71520977,  21727.53626013],\n",
       "        [106900.        ,   6811.38240997,  25855.99373148],\n",
       "        [109408.        ,   6699.28339632,  26016.84530065],\n",
       "        [101940.        ,   6308.92726394,  24182.04227422],\n",
       "        [111350.        ,   6530.74899062,  26050.36998737],\n",
       "        [ 98624.        ,   5968.86536562,  22892.89550937],\n",
       "        [110486.        ,   6448.75886071,  25650.25935514]]),\n",
       " 'test_sparsity_2_lr_0.0005': array([[90000.        ,  9180.34401838, 31526.97993459],\n",
       "        [80060.        ,  5894.87714533, 22546.11960591],\n",
       "        [50804.        ,  3829.53500507, 13946.89945117],\n",
       "        [46757.        ,  3275.25815975, 12249.99660245],\n",
       "        [48636.        ,  3291.27569971, 12564.9078542 ],\n",
       "        [47330.        ,  3034.36367256, 11891.84097143],\n",
       "        [37547.        ,  2427.90378684,  9187.04556993],\n",
       "        [42640.        ,  2774.14508529, 10663.55405463],\n",
       "        [37898.        ,  2321.78755838,  9033.21934696],\n",
       "        [40240.        ,  2518.17949129,  9794.48141398],\n",
       "        [32798.        ,  2055.50545163,  7735.77961659],\n",
       "        [37026.        ,  2429.39531905,  9122.73502964],\n",
       "        [38086.        ,  2406.168636  ,  9228.90968259],\n",
       "        [35397.        ,  2264.8513432 ,  8600.95540583],\n",
       "        [39292.        ,  2396.47701881,  9419.68244546],\n",
       "        [34361.        ,  2154.87189977,  8155.56650805],\n",
       "        [38587.        ,  2317.02387876,  9139.40322637]])}"
      ]
     },
     "execution_count": 23,
     "metadata": {},
     "output_type": "execute_result"
    }
   ],
   "source": [
    "Analysis_"
   ]
  },
  {
   "cell_type": "code",
   "execution_count": 24,
   "id": "1233a67a",
   "metadata": {
    "execution": {
     "iopub.execute_input": "2021-09-04T12:44:03.760467Z",
     "iopub.status.busy": "2021-09-04T12:44:03.759689Z",
     "iopub.status.idle": "2021-09-04T12:44:04.169933Z",
     "shell.execute_reply": "2021-09-04T12:44:04.169468Z",
     "shell.execute_reply.started": "2021-09-03T17:27:11.470656Z"
    },
    "id": "d4f80227",
    "papermill": {
     "duration": 0.475006,
     "end_time": "2021-09-04T12:44:04.170091",
     "exception": false,
     "start_time": "2021-09-04T12:44:03.695085",
     "status": "completed"
    },
    "tags": []
   },
   "outputs": [
    {
     "data": {
      "image/png": "[encoded data removed]",
      "text/plain": [
       "<Figure size 432x360 with 1 Axes>"
      ]
     },
     "metadata": {
      "needs_background": "light"
     },
     "output_type": "display_data"
    },
    {
     "data": {
      "image/png": "[encoded data removed]",
      "text/plain": [
       "<Figure size 432x360 with 1 Axes>"
      ]
     },
     "metadata": {
      "needs_background": "light"
     },
     "output_type": "display_data"
    },
    {
     "data": {
      "image/png": "[encoded data removed]",
      "text/plain": [
       "<Figure size 432x360 with 1 Axes>"
      ]
     },
     "metadata": {
      "needs_background": "light"
     },
     "output_type": "display_data"
    }
   ],
   "source": [
    "for i in range(len(Train_Loss_)):\n",
    "    plt.figure(figsize=(6,5))\n",
    "    plt.plot(np.arange(1,len(Train_Loss_[i])+1),Train_Loss_[i])\n",
    "    plt.xlabel(\"epochs\", fontsize=14, fontweight = 'bold')\n",
    "    plt.ylabel(\"Loss\", fontsize=14, fontweight = 'bold')\n",
    "    plt.xticks(np.arange(1,epoch+2))\n",
    "    plt.title(\"Train Loss\")\n",
    "    # #plt.grid()\n",
    "    plt.show()"
   ]
  },
  {
   "cell_type": "code",
   "execution_count": 25,
   "id": "f715b704",
   "metadata": {
    "execution": {
     "iopub.execute_input": "2021-09-04T12:44:04.283673Z",
     "iopub.status.busy": "2021-09-04T12:44:04.282843Z",
     "iopub.status.idle": "2021-09-04T12:44:05.656448Z",
     "shell.execute_reply": "2021-09-04T12:44:05.656871Z",
     "shell.execute_reply.started": "2021-09-03T17:27:14.38325Z"
    },
    "id": "ad5e4283",
    "papermill": {
     "duration": 1.437109,
     "end_time": "2021-09-04T12:44:05.657021",
     "exception": false,
     "start_time": "2021-09-04T12:44:04.219912",
     "status": "completed"
    },
    "tags": []
   },
   "outputs": [
    {
     "data": {
      "image/png": "[encoded data removed]",
      "text/plain": [
       "<Figure size 432x360 with 1 Axes>"
      ]
     },
     "metadata": {
      "needs_background": "light"
     },
     "output_type": "display_data"
    },
    {
     "data": {
      "image/png": "[encoded data removed]",
      "text/plain": [
       "<Figure size 432x360 with 1 Axes>"
      ]
     },
     "metadata": {
      "needs_background": "light"
     },
     "output_type": "display_data"
    },
    {
     "data": {
      "image/png": "[encoded data removed]",
      "text/plain": [
       "<Figure size 432x360 with 1 Axes>"
      ]
     },
     "metadata": {
      "needs_background": "light"
     },
     "output_type": "display_data"
    }
   ],
   "source": [
    "for seed_ in n_seed:\n",
    "    for lr_ in lr:\n",
    "        data = Analysis_['train_seed_'+ str(seed_)+\"_lr_\" +str(lr_)]\n",
    "        plt.figure(figsize=(6,5))\n",
    "        plt.plot(np.arange(0,len(data)),data[:,0]/300, label =\"FTPT \")\n",
    "        plt.plot(np.arange(0,len(data)),data[:,1]/300, label =\"FFPT \")\n",
    "        plt.plot(np.arange(0,len(data)),data[:,2]/300, label =\"FTPF \")\n",
    "        plt.plot(np.arange(0,len(data)),data[:,3]/300, label =\"FFPF \")\n",
    "        plt.title(\"On Training set \" + 'seed ' + str(seed_)+\" lr \" +str(lr_))\n",
    "        #plt.legend(loc='center left', bbox_to_anchor=(1, 0.5))\n",
    "        plt.xlabel(\"epochs\", fontsize=14, fontweight = 'bold')\n",
    "        plt.ylabel(\"percentage train data\", fontsize=14, fontweight = 'bold')\n",
    "        # plt.xlabel(\"epochs\")\n",
    "        # plt.ylabel(\"training data\")\n",
    "        plt.legend()\n",
    "\n",
    "        plt.savefig(path + 'seed ' + str(seed_)+\" lr \" +str(lr_)+ \"_train.png\",bbox_inches=\"tight\")\n",
    "        plt.savefig(path + 'seed ' + str(seed_)+\" lr \" +str(lr_)+ \"_train.pdf\",bbox_inches=\"tight\")\n",
    "        plt.grid()\n",
    "        plt.show()"
   ]
  },
  {
   "cell_type": "code",
   "execution_count": 26,
   "id": "bc7c3403",
   "metadata": {
    "execution": {
     "iopub.execute_input": "2021-09-04T12:44:05.797900Z",
     "iopub.status.busy": "2021-09-04T12:44:05.770096Z",
     "iopub.status.idle": "2021-09-04T12:44:07.139846Z",
     "shell.execute_reply": "2021-09-04T12:44:07.140251Z",
     "shell.execute_reply.started": "2021-09-03T17:27:16.160352Z"
    },
    "id": "96b8ca45",
    "papermill": {
     "duration": 1.430167,
     "end_time": "2021-09-04T12:44:07.140389",
     "exception": false,
     "start_time": "2021-09-04T12:44:05.710222",
     "status": "completed"
    },
    "tags": []
   },
   "outputs": [
    {
     "data": {
      "image/png": "[encoded data removed]",
      "text/plain": [
       "<Figure size 432x360 with 1 Axes>"
      ]
     },
     "metadata": {
      "needs_background": "light"
     },
     "output_type": "display_data"
    },
    {
     "data": {
      "image/png": "[encoded data removed]",
      "text/plain": [
       "<Figure size 432x360 with 1 Axes>"
      ]
     },
     "metadata": {
      "needs_background": "light"
     },
     "output_type": "display_data"
    },
    {
     "data": {
      "image/png": "[encoded data removed]",
      "text/plain": [
       "<Figure size 432x360 with 1 Axes>"
      ]
     },
     "metadata": {
      "needs_background": "light"
     },
     "output_type": "display_data"
    }
   ],
   "source": [
    "for seed_ in n_seed:\n",
    "    for lr_ in lr:\n",
    "        data = Analysis_['test_seed_'+ str(seed_)+\"_lr_\" +str(lr_)]\n",
    "        plt.figure(figsize=(6,5))\n",
    "        plt.plot(np.arange(0,len(data)),data[:,0]/100, label =\"FTPT \")\n",
    "        plt.plot(np.arange(0,len(data)),data[:,1]/100, label =\"FFPT \")\n",
    "        plt.plot(np.arange(0,len(data)),data[:,2]/100, label =\"FTPF \")\n",
    "        plt.plot(np.arange(0,len(data)),data[:,3]/100, label =\"FFPF \")\n",
    "        plt.title(\"On Testing set \" + 'seed ' + str(seed_)+\" lr \" +str(lr_))\n",
    "        #plt.legend(loc='center left', bbox_to_anchor=(1, 0.5))\n",
    "        plt.xlabel(\"epochs\", fontsize=14, fontweight = 'bold')\n",
    "        plt.ylabel(\"percentage test data\", fontsize=14, fontweight = 'bold')\n",
    "        # plt.xlabel(\"epochs\")\n",
    "        # plt.ylabel(\"training data\")\n",
    "        plt.legend()\n",
    "\n",
    "        plt.savefig(path + 'seed ' + str(seed_)+\" lr \" +str(lr_)+\"_test.png\",bbox_inches=\"tight\")\n",
    "        plt.savefig(path + 'seed ' + str(seed_)+\" lr \" +str(lr_)+ \"_test.pdf\",bbox_inches=\"tight\")\n",
    "        plt.grid()\n",
    "        plt.show()"
   ]
  },
  {
   "cell_type": "code",
   "execution_count": null,
   "id": "258413e4",
   "metadata": {
    "id": "2c2f7640",
    "papermill": {
     "duration": 0.056122,
     "end_time": "2021-09-04T12:44:07.252657",
     "exception": false,
     "start_time": "2021-09-04T12:44:07.196535",
     "status": "completed"
    },
    "tags": []
   },
   "outputs": [],
   "source": []
  }
 ],
 "metadata": {
  "kernelspec": {
   "display_name": "Python 3",
   "language": "python",
   "name": "python3"
  },
  "language_info": {
   "codemirror_mode": {
    "name": "ipython",
    "version": 3
   },
   "file_extension": ".py",
   "mimetype": "text/x-python",
   "name": "python",
   "nbconvert_exporter": "python",
   "pygments_lexer": "ipython3",
   "version": "3.7.10"
  },
  "papermill": {
   "default_parameters": {},
   "duration": 3804.590847,
   "end_time": "2021-09-04T12:44:08.887277",
   "environment_variables": {},
   "exception": null,
   "input_path": "__notebook__.ipynb",
   "output_path": "__notebook__.ipynb",
   "parameters": {},
   "start_time": "2021-09-04T11:40:44.296430",
   "version": "2.3.3"
  },
  "widgets": {
   "application/vnd.jupyter.widget-state+json": {
    "state": {
     "3b2356f5f4e448ef9922cc3ade520fe7": {
      "model_module": "@jupyter-widgets/controls",
      "model_module_version": "1.5.0",
      "model_name": "DescriptionStyleModel",
      "state": {
       "_model_module": "@jupyter-widgets/controls",
       "_model_module_version": "1.5.0",
       "_model_name": "DescriptionStyleModel",
       "_view_count": null,
       "_view_module": "@jupyter-widgets/base",
       "_view_module_version": "1.2.0",
       "_view_name": "StyleView",
       "description_width": ""
      }
     },
     "4b601b2a628d43d6a005dd90b5b8e652": {
      "model_module": "@jupyter-widgets/controls",
      "model_module_version": "1.5.0",
      "model_name": "HTMLModel",
      "state": {
       "_dom_classes": [],
       "_model_module": "@jupyter-widgets/controls",
       "_model_module_version": "1.5.0",
       "_model_name": "HTMLModel",
       "_view_count": null,
       "_view_module": "@jupyter-widgets/controls",
       "_view_module_version": "1.5.0",
       "_view_name": "HTMLView",
       "description": "",
       "description_tooltip": null,
       "layout": "IPY_MODEL_bdd92b775ade4004ab7a4418cca8e448",
       "placeholder": "​",
       "style": "IPY_MODEL_8f0168d2aa504fc8a2e4cd0da764aac1",
       "value": " 170500096/? [00:20&lt;00:00, 89389791.04it/s]"
      }
     },
     "621b06691399494d8452bc1e6b5ed684": {
      "model_module": "@jupyter-widgets/base",
      "model_module_version": "1.2.0",
      "model_name": "LayoutModel",
      "state": {
       "_model_module": "@jupyter-widgets/base",
       "_model_module_version": "1.2.0",
       "_model_name": "LayoutModel",
       "_view_count": null,
       "_view_module": "@jupyter-widgets/base",
       "_view_module_version": "1.2.0",
       "_view_name": "LayoutView",
       "align_content": null,
       "align_items": null,
       "align_self": null,
       "border": null,
       "bottom": null,
       "display": null,
       "flex": null,
       "flex_flow": null,
       "grid_area": null,
       "grid_auto_columns": null,
       "grid_auto_flow": null,
       "grid_auto_rows": null,
       "grid_column": null,
       "grid_gap": null,
       "grid_row": null,
       "grid_template_areas": null,
       "grid_template_columns": null,
       "grid_template_rows": null,
       "height": null,
       "justify_content": null,
       "justify_items": null,
       "left": null,
       "margin": null,
       "max_height": null,
       "max_width": null,
       "min_height": null,
       "min_width": null,
       "object_fit": null,
       "object_position": null,
       "order": null,
       "overflow": null,
       "overflow_x": null,
       "overflow_y": null,
       "padding": null,
       "right": null,
       "top": null,
       "visibility": null,
       "width": "20px"
      }
     },
     "6c3a6980b0034de48323d8314e95f359": {
      "model_module": "@jupyter-widgets/controls",
      "model_module_version": "1.5.0",
      "model_name": "HTMLModel",
      "state": {
       "_dom_classes": [],
       "_model_module": "@jupyter-widgets/controls",
       "_model_module_version": "1.5.0",
       "_model_name": "HTMLModel",
       "_view_count": null,
       "_view_module": "@jupyter-widgets/controls",
       "_view_module_version": "1.5.0",
       "_view_name": "HTMLView",
       "description": "",
       "description_tooltip": null,
       "layout": "IPY_MODEL_d53b0892767e42719f0ab23b260a5d1e",
       "placeholder": "​",
       "style": "IPY_MODEL_3b2356f5f4e448ef9922cc3ade520fe7",
       "value": ""
      }
     },
     "8f0168d2aa504fc8a2e4cd0da764aac1": {
      "model_module": "@jupyter-widgets/controls",
      "model_module_version": "1.5.0",
      "model_name": "DescriptionStyleModel",
      "state": {
       "_model_module": "@jupyter-widgets/controls",
       "_model_module_version": "1.5.0",
       "_model_name": "DescriptionStyleModel",
       "_view_count": null,
       "_view_module": "@jupyter-widgets/base",
       "_view_module_version": "1.2.0",
       "_view_name": "StyleView",
       "description_width": ""
      }
     },
     "a5ff597f1ca74688895e5b5945e8ca39": {
      "model_module": "@jupyter-widgets/controls",
      "model_module_version": "1.5.0",
      "model_name": "FloatProgressModel",
      "state": {
       "_dom_classes": [],
       "_model_module": "@jupyter-widgets/controls",
       "_model_module_version": "1.5.0",
       "_model_name": "FloatProgressModel",
       "_view_count": null,
       "_view_module": "@jupyter-widgets/controls",
       "_view_module_version": "1.5.0",
       "_view_name": "ProgressView",
       "bar_style": "info",
       "description": "",
       "description_tooltip": null,
       "layout": "IPY_MODEL_621b06691399494d8452bc1e6b5ed684",
       "max": 1.0,
       "min": 0.0,
       "orientation": "horizontal",
       "style": "IPY_MODEL_b0bd946bfdb446b2ab2abe22cd0868ff",
       "value": 1.0
      }
     },
     "b0bd946bfdb446b2ab2abe22cd0868ff": {
      "model_module": "@jupyter-widgets/controls",
      "model_module_version": "1.5.0",
      "model_name": "ProgressStyleModel",
      "state": {
       "_model_module": "@jupyter-widgets/controls",
       "_model_module_version": "1.5.0",
       "_model_name": "ProgressStyleModel",
       "_view_count": null,
       "_view_module": "@jupyter-widgets/base",
       "_view_module_version": "1.2.0",
       "_view_name": "StyleView",
       "bar_color": null,
       "description_width": ""
      }
     },
     "bdd92b775ade4004ab7a4418cca8e448": {
      "model_module": "@jupyter-widgets/base",
      "model_module_version": "1.2.0",
      "model_name": "LayoutModel",
      "state": {
       "_model_module": "@jupyter-widgets/base",
       "_model_module_version": "1.2.0",
       "_model_name": "LayoutModel",
       "_view_count": null,
       "_view_module": "@jupyter-widgets/base",
       "_view_module_version": "1.2.0",
       "_view_name": "LayoutView",
       "align_content": null,
       "align_items": null,
       "align_self": null,
       "border": null,
       "bottom": null,
       "display": null,
       "flex": null,
       "flex_flow": null,
       "grid_area": null,
       "grid_auto_columns": null,
       "grid_auto_flow": null,
       "grid_auto_rows": null,
       "grid_column": null,
       "grid_gap": null,
       "grid_row": null,
       "grid_template_areas": null,
       "grid_template_columns": null,
       "grid_template_rows": null,
       "height": null,
       "justify_content": null,
       "justify_items": null,
       "left": null,
       "margin": null,
       "max_height": null,
       "max_width": null,
       "min_height": null,
       "min_width": null,
       "object_fit": null,
       "object_position": null,
       "order": null,
       "overflow": null,
       "overflow_x": null,
       "overflow_y": null,
       "padding": null,
       "right": null,
       "top": null,
       "visibility": null,
       "width": null
      }
     },
     "c41ac0140c9041c7a72fc6c5092e6977": {
      "model_module": "@jupyter-widgets/controls",
      "model_module_version": "1.5.0",
      "model_name": "HBoxModel",
      "state": {
       "_dom_classes": [],
       "_model_module": "@jupyter-widgets/controls",
       "_model_module_version": "1.5.0",
       "_model_name": "HBoxModel",
       "_view_count": null,
       "_view_module": "@jupyter-widgets/controls",
       "_view_module_version": "1.5.0",
       "_view_name": "HBoxView",
       "box_style": "",
       "children": [
        "IPY_MODEL_6c3a6980b0034de48323d8314e95f359",
        "IPY_MODEL_a5ff597f1ca74688895e5b5945e8ca39",
        "IPY_MODEL_4b601b2a628d43d6a005dd90b5b8e652"
       ],
       "layout": "IPY_MODEL_deab6a7e171f4223a16cb445d3638f72"
      }
     },
     "d53b0892767e42719f0ab23b260a5d1e": {
      "model_module": "@jupyter-widgets/base",
      "model_module_version": "1.2.0",
      "model_name": "LayoutModel",
      "state": {
       "_model_module": "@jupyter-widgets/base",
       "_model_module_version": "1.2.0",
       "_model_name": "LayoutModel",
       "_view_count": null,
       "_view_module": "@jupyter-widgets/base",
       "_view_module_version": "1.2.0",
       "_view_name": "LayoutView",
       "align_content": null,
       "align_items": null,
       "align_self": null,
       "border": null,
       "bottom": null,
       "display": null,
       "flex": null,
       "flex_flow": null,
       "grid_area": null,
       "grid_auto_columns": null,
       "grid_auto_flow": null,
       "grid_auto_rows": null,
       "grid_column": null,
       "grid_gap": null,
       "grid_row": null,
       "grid_template_areas": null,
       "grid_template_columns": null,
       "grid_template_rows": null,
       "height": null,
       "justify_content": null,
       "justify_items": null,
       "left": null,
       "margin": null,
       "max_height": null,
       "max_width": null,
       "min_height": null,
       "min_width": null,
       "object_fit": null,
       "object_position": null,
       "order": null,
       "overflow": null,
       "overflow_x": null,
       "overflow_y": null,
       "padding": null,
       "right": null,
       "top": null,
       "visibility": null,
       "width": null
      }
     },
     "deab6a7e171f4223a16cb445d3638f72": {
      "model_module": "@jupyter-widgets/base",
      "model_module_version": "1.2.0",
      "model_name": "LayoutModel",
      "state": {
       "_model_module": "@jupyter-widgets/base",
       "_model_module_version": "1.2.0",
       "_model_name": "LayoutModel",
       "_view_count": null,
       "_view_module": "@jupyter-widgets/base",
       "_view_module_version": "1.2.0",
       "_view_name": "LayoutView",
       "align_content": null,
       "align_items": null,
       "align_self": null,
       "border": null,
       "bottom": null,
       "display": null,
       "flex": null,
       "flex_flow": null,
       "grid_area": null,
       "grid_auto_columns": null,
       "grid_auto_flow": null,
       "grid_auto_rows": null,
       "grid_column": null,
       "grid_gap": null,
       "grid_row": null,
       "grid_template_areas": null,
       "grid_template_columns": null,
       "grid_template_rows": null,
       "height": null,
       "justify_content": null,
       "justify_items": null,
       "left": null,
       "margin": null,
       "max_height": null,
       "max_width": null,
       "min_height": null,
       "min_width": null,
       "object_fit": null,
       "object_position": null,
       "order": null,
       "overflow": null,
       "overflow_x": null,
       "overflow_y": null,
       "padding": null,
       "right": null,
       "top": null,
       "visibility": null,
       "width": null
      }
     }
    },
    "version_major": 2,
    "version_minor": 0
   }
  }
 },
 "nbformat": 4,
 "nbformat_minor": 5
}
