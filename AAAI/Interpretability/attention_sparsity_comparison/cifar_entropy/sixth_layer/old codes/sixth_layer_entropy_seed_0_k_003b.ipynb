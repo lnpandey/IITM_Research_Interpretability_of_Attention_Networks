{
  "nbformat": 4,
  "nbformat_minor": 0,
  "metadata": {
    "kernelspec": {
      "language": "python",
      "display_name": "Python 3",
      "name": "python3"
    },
    "language_info": {
      "name": "python",
      "version": "3.7.10",
      "mimetype": "text/x-python",
      "codemirror_mode": {
        "name": "ipython",
        "version": 3
      },
      "pygments_lexer": "ipython3",
      "nbconvert_exporter": "python",
      "file_extension": ".py"
    },
    "colab": {
      "name": "sixth_layer_entropy_seed_0_k_003b.ipynb",
      "provenance": []
    },
    "accelerator": "GPU",
    "widgets": {
      "application/vnd.jupyter.widget-state+json": {
        "d423f7af43954822bed56b749c9f7682": {
          "model_module": "@jupyter-widgets/controls",
          "model_name": "HBoxModel",
          "model_module_version": "1.5.0",
          "state": {
            "_view_name": "HBoxView",
            "_dom_classes": [],
            "_model_name": "HBoxModel",
            "_view_module": "@jupyter-widgets/controls",
            "_model_module_version": "1.5.0",
            "_view_count": null,
            "_view_module_version": "1.5.0",
            "box_style": "",
            "layout": "IPY_MODEL_a10e260512304649a47006f4f0af03ae",
            "_model_module": "@jupyter-widgets/controls",
            "children": [
              "IPY_MODEL_adb98e4bd83a4d19a40ac98d099b3a65",
              "IPY_MODEL_81a8233be5aa4b1db86fe13de12d7f9a",
              "IPY_MODEL_b4dc8e9d11dd4c3bade94c44e3e8c90d"
            ]
          }
        },
        "a10e260512304649a47006f4f0af03ae": {
          "model_module": "@jupyter-widgets/base",
          "model_name": "LayoutModel",
          "model_module_version": "1.2.0",
          "state": {
            "_view_name": "LayoutView",
            "grid_template_rows": null,
            "right": null,
            "justify_content": null,
            "_view_module": "@jupyter-widgets/base",
            "overflow": null,
            "_model_module_version": "1.2.0",
            "_view_count": null,
            "flex_flow": null,
            "width": null,
            "min_width": null,
            "border": null,
            "align_items": null,
            "bottom": null,
            "_model_module": "@jupyter-widgets/base",
            "top": null,
            "grid_column": null,
            "overflow_y": null,
            "overflow_x": null,
            "grid_auto_flow": null,
            "grid_area": null,
            "grid_template_columns": null,
            "flex": null,
            "_model_name": "LayoutModel",
            "justify_items": null,
            "grid_row": null,
            "max_height": null,
            "align_content": null,
            "visibility": null,
            "align_self": null,
            "height": null,
            "min_height": null,
            "padding": null,
            "grid_auto_rows": null,
            "grid_gap": null,
            "max_width": null,
            "order": null,
            "_view_module_version": "1.2.0",
            "grid_template_areas": null,
            "object_position": null,
            "object_fit": null,
            "grid_auto_columns": null,
            "margin": null,
            "display": null,
            "left": null
          }
        },
        "adb98e4bd83a4d19a40ac98d099b3a65": {
          "model_module": "@jupyter-widgets/controls",
          "model_name": "HTMLModel",
          "model_module_version": "1.5.0",
          "state": {
            "_view_name": "HTMLView",
            "style": "IPY_MODEL_fb8a70f04d4f4f81abf5d2e0d2c2a501",
            "_dom_classes": [],
            "description": "",
            "_model_name": "HTMLModel",
            "placeholder": "​",
            "_view_module": "@jupyter-widgets/controls",
            "_model_module_version": "1.5.0",
            "value": "",
            "_view_count": null,
            "_view_module_version": "1.5.0",
            "description_tooltip": null,
            "_model_module": "@jupyter-widgets/controls",
            "layout": "IPY_MODEL_368b187680c04b2c821f8176efff63ef"
          }
        },
        "81a8233be5aa4b1db86fe13de12d7f9a": {
          "model_module": "@jupyter-widgets/controls",
          "model_name": "FloatProgressModel",
          "model_module_version": "1.5.0",
          "state": {
            "_view_name": "ProgressView",
            "style": "IPY_MODEL_df4421d7d3994002b30cf40b476ff4f7",
            "_dom_classes": [],
            "description": "",
            "_model_name": "FloatProgressModel",
            "bar_style": "success",
            "max": 170498071,
            "_view_module": "@jupyter-widgets/controls",
            "_model_module_version": "1.5.0",
            "value": 170498071,
            "_view_count": null,
            "_view_module_version": "1.5.0",
            "orientation": "horizontal",
            "min": 0,
            "description_tooltip": null,
            "_model_module": "@jupyter-widgets/controls",
            "layout": "IPY_MODEL_8a6723c078534574a207d27ecf1e13bd"
          }
        },
        "b4dc8e9d11dd4c3bade94c44e3e8c90d": {
          "model_module": "@jupyter-widgets/controls",
          "model_name": "HTMLModel",
          "model_module_version": "1.5.0",
          "state": {
            "_view_name": "HTMLView",
            "style": "IPY_MODEL_b7dad6dc552a4bf196f09973ab820e7e",
            "_dom_classes": [],
            "description": "",
            "_model_name": "HTMLModel",
            "placeholder": "​",
            "_view_module": "@jupyter-widgets/controls",
            "_model_module_version": "1.5.0",
            "value": " 170499072/? [00:03&lt;00:00, 48847392.47it/s]",
            "_view_count": null,
            "_view_module_version": "1.5.0",
            "description_tooltip": null,
            "_model_module": "@jupyter-widgets/controls",
            "layout": "IPY_MODEL_061b71301d6c4cceb0c01697fe890f00"
          }
        },
        "fb8a70f04d4f4f81abf5d2e0d2c2a501": {
          "model_module": "@jupyter-widgets/controls",
          "model_name": "DescriptionStyleModel",
          "model_module_version": "1.5.0",
          "state": {
            "_view_name": "StyleView",
            "_model_name": "DescriptionStyleModel",
            "description_width": "",
            "_view_module": "@jupyter-widgets/base",
            "_model_module_version": "1.5.0",
            "_view_count": null,
            "_view_module_version": "1.2.0",
            "_model_module": "@jupyter-widgets/controls"
          }
        },
        "368b187680c04b2c821f8176efff63ef": {
          "model_module": "@jupyter-widgets/base",
          "model_name": "LayoutModel",
          "model_module_version": "1.2.0",
          "state": {
            "_view_name": "LayoutView",
            "grid_template_rows": null,
            "right": null,
            "justify_content": null,
            "_view_module": "@jupyter-widgets/base",
            "overflow": null,
            "_model_module_version": "1.2.0",
            "_view_count": null,
            "flex_flow": null,
            "width": null,
            "min_width": null,
            "border": null,
            "align_items": null,
            "bottom": null,
            "_model_module": "@jupyter-widgets/base",
            "top": null,
            "grid_column": null,
            "overflow_y": null,
            "overflow_x": null,
            "grid_auto_flow": null,
            "grid_area": null,
            "grid_template_columns": null,
            "flex": null,
            "_model_name": "LayoutModel",
            "justify_items": null,
            "grid_row": null,
            "max_height": null,
            "align_content": null,
            "visibility": null,
            "align_self": null,
            "height": null,
            "min_height": null,
            "padding": null,
            "grid_auto_rows": null,
            "grid_gap": null,
            "max_width": null,
            "order": null,
            "_view_module_version": "1.2.0",
            "grid_template_areas": null,
            "object_position": null,
            "object_fit": null,
            "grid_auto_columns": null,
            "margin": null,
            "display": null,
            "left": null
          }
        },
        "df4421d7d3994002b30cf40b476ff4f7": {
          "model_module": "@jupyter-widgets/controls",
          "model_name": "ProgressStyleModel",
          "model_module_version": "1.5.0",
          "state": {
            "_view_name": "StyleView",
            "_model_name": "ProgressStyleModel",
            "description_width": "",
            "_view_module": "@jupyter-widgets/base",
            "_model_module_version": "1.5.0",
            "_view_count": null,
            "_view_module_version": "1.2.0",
            "bar_color": null,
            "_model_module": "@jupyter-widgets/controls"
          }
        },
        "8a6723c078534574a207d27ecf1e13bd": {
          "model_module": "@jupyter-widgets/base",
          "model_name": "LayoutModel",
          "model_module_version": "1.2.0",
          "state": {
            "_view_name": "LayoutView",
            "grid_template_rows": null,
            "right": null,
            "justify_content": null,
            "_view_module": "@jupyter-widgets/base",
            "overflow": null,
            "_model_module_version": "1.2.0",
            "_view_count": null,
            "flex_flow": null,
            "width": null,
            "min_width": null,
            "border": null,
            "align_items": null,
            "bottom": null,
            "_model_module": "@jupyter-widgets/base",
            "top": null,
            "grid_column": null,
            "overflow_y": null,
            "overflow_x": null,
            "grid_auto_flow": null,
            "grid_area": null,
            "grid_template_columns": null,
            "flex": null,
            "_model_name": "LayoutModel",
            "justify_items": null,
            "grid_row": null,
            "max_height": null,
            "align_content": null,
            "visibility": null,
            "align_self": null,
            "height": null,
            "min_height": null,
            "padding": null,
            "grid_auto_rows": null,
            "grid_gap": null,
            "max_width": null,
            "order": null,
            "_view_module_version": "1.2.0",
            "grid_template_areas": null,
            "object_position": null,
            "object_fit": null,
            "grid_auto_columns": null,
            "margin": null,
            "display": null,
            "left": null
          }
        },
        "b7dad6dc552a4bf196f09973ab820e7e": {
          "model_module": "@jupyter-widgets/controls",
          "model_name": "DescriptionStyleModel",
          "model_module_version": "1.5.0",
          "state": {
            "_view_name": "StyleView",
            "_model_name": "DescriptionStyleModel",
            "description_width": "",
            "_view_module": "@jupyter-widgets/base",
            "_model_module_version": "1.5.0",
            "_view_count": null,
            "_view_module_version": "1.2.0",
            "_model_module": "@jupyter-widgets/controls"
          }
        },
        "061b71301d6c4cceb0c01697fe890f00": {
          "model_module": "@jupyter-widgets/base",
          "model_name": "LayoutModel",
          "model_module_version": "1.2.0",
          "state": {
            "_view_name": "LayoutView",
            "grid_template_rows": null,
            "right": null,
            "justify_content": null,
            "_view_module": "@jupyter-widgets/base",
            "overflow": null,
            "_model_module_version": "1.2.0",
            "_view_count": null,
            "flex_flow": null,
            "width": null,
            "min_width": null,
            "border": null,
            "align_items": null,
            "bottom": null,
            "_model_module": "@jupyter-widgets/base",
            "top": null,
            "grid_column": null,
            "overflow_y": null,
            "overflow_x": null,
            "grid_auto_flow": null,
            "grid_area": null,
            "grid_template_columns": null,
            "flex": null,
            "_model_name": "LayoutModel",
            "justify_items": null,
            "grid_row": null,
            "max_height": null,
            "align_content": null,
            "visibility": null,
            "align_self": null,
            "height": null,
            "min_height": null,
            "padding": null,
            "grid_auto_rows": null,
            "grid_gap": null,
            "max_width": null,
            "order": null,
            "_view_module_version": "1.2.0",
            "grid_template_areas": null,
            "object_position": null,
            "object_fit": null,
            "grid_auto_columns": null,
            "margin": null,
            "display": null,
            "left": null
          }
        }
      }
    }
  },
  "cells": [
    {
      "cell_type": "code",
      "metadata": {
        "id": "JSjG64ra4aFu",
        "execution": {
          "iopub.status.busy": "2021-09-02T17:14:33.194830Z",
          "iopub.execute_input": "2021-09-02T17:14:33.195201Z",
          "iopub.status.idle": "2021-09-02T17:14:33.199846Z",
          "shell.execute_reply.started": "2021-09-02T17:14:33.195123Z",
          "shell.execute_reply": "2021-09-02T17:14:33.198962Z"
        },
        "trusted": true,
        "colab": {
          "base_uri": "https://localhost:8080/"
        },
        "outputId": "c4ef46d6-08f9-426f-f43a-424b1a468cef"
      },
      "source": [
        "from google.colab import drive\n",
        "drive.mount('/content/drive')"
      ],
      "execution_count": 1,
      "outputs": [
        {
          "output_type": "stream",
          "name": "stdout",
          "text": [
            "Mounted at /content/drive\n"
          ]
        }
      ]
    },
    {
      "cell_type": "code",
      "metadata": {
        "id": "atwYfdnU1_3W",
        "execution": {
          "iopub.status.busy": "2021-09-02T17:14:33.201602Z",
          "iopub.execute_input": "2021-09-02T17:14:33.202208Z",
          "iopub.status.idle": "2021-09-02T17:14:33.955889Z",
          "shell.execute_reply.started": "2021-09-02T17:14:33.202169Z",
          "shell.execute_reply": "2021-09-02T17:14:33.954947Z"
        },
        "trusted": true,
        "colab": {
          "base_uri": "https://localhost:8080/"
        },
        "outputId": "6fa3b176-a0f6-42d6-e5ec-a6b4d9612faf"
      },
      "source": [
        "# from google.colab import drive\n",
        "# drive.mount('/content/drive')\n",
        "!pwd"
      ],
      "execution_count": 2,
      "outputs": [
        {
          "output_type": "stream",
          "name": "stdout",
          "text": [
            "/content\n"
          ]
        }
      ]
    },
    {
      "cell_type": "code",
      "metadata": {
        "id": "Zj9vWd0E2C0t",
        "execution": {
          "iopub.status.busy": "2021-09-02T17:14:33.958007Z",
          "iopub.execute_input": "2021-09-02T17:14:33.958387Z",
          "iopub.status.idle": "2021-09-02T17:14:33.965154Z",
          "shell.execute_reply.started": "2021-09-02T17:14:33.958345Z",
          "shell.execute_reply": "2021-09-02T17:14:33.964186Z"
        },
        "trusted": true
      },
      "source": [
        "\n",
        "path = '/content/drive/MyDrive/Research/AAAI/cifar_new/k_003b/sixth_run1_'"
      ],
      "execution_count": 3,
      "outputs": []
    },
    {
      "cell_type": "code",
      "metadata": {
        "id": "V8-7SARDZErK",
        "execution": {
          "iopub.status.busy": "2021-09-02T17:14:33.968574Z",
          "iopub.execute_input": "2021-09-02T17:14:33.968998Z",
          "iopub.status.idle": "2021-09-02T17:14:35.397487Z",
          "shell.execute_reply.started": "2021-09-02T17:14:33.968967Z",
          "shell.execute_reply": "2021-09-02T17:14:35.396208Z"
        },
        "trusted": true
      },
      "source": [
        "import torch.nn as nn\n",
        "import torch.nn.functional as F\n",
        "import pandas as pd\n",
        "import numpy as np\n",
        "import matplotlib.pyplot as plt\n",
        "import torch\n",
        "import torchvision\n",
        "import torchvision.transforms as transforms\n",
        "from torch.utils.data import Dataset, DataLoader\n",
        "from torchvision import transforms, utils\n",
        "from matplotlib import pyplot as plt\n",
        "import copy\n",
        "\n",
        "# Ignore warnings\n",
        "import warnings\n",
        "warnings.filterwarnings(\"ignore\")\n",
        "n_seed = 0\n",
        "k = 0.003"
      ],
      "execution_count": 4,
      "outputs": []
    },
    {
      "cell_type": "code",
      "metadata": {
        "execution": {
          "iopub.status.busy": "2021-09-02T17:14:35.399294Z",
          "iopub.execute_input": "2021-09-02T17:14:35.399612Z",
          "iopub.status.idle": "2021-09-02T17:14:35.405092Z",
          "shell.execute_reply.started": "2021-09-02T17:14:35.399577Z",
          "shell.execute_reply": "2021-09-02T17:14:35.404170Z"
        },
        "trusted": true,
        "id": "_rVTn9u9uBRn"
      },
      "source": [
        "torch.backends.cudnn.deterministic = True\n",
        "torch.backends.cudnn.benchmark= False"
      ],
      "execution_count": 5,
      "outputs": []
    },
    {
      "cell_type": "code",
      "metadata": {
        "id": "acRFqJNrZErV",
        "execution": {
          "iopub.status.busy": "2021-09-02T17:14:35.407430Z",
          "iopub.execute_input": "2021-09-02T17:14:35.409788Z",
          "iopub.status.idle": "2021-09-02T17:14:40.843104Z",
          "shell.execute_reply.started": "2021-09-02T17:14:35.409738Z",
          "shell.execute_reply": "2021-09-02T17:14:40.842194Z"
        },
        "trusted": true,
        "colab": {
          "base_uri": "https://localhost:8080/",
          "height": 104,
          "referenced_widgets": [
            "d423f7af43954822bed56b749c9f7682",
            "a10e260512304649a47006f4f0af03ae",
            "adb98e4bd83a4d19a40ac98d099b3a65",
            "81a8233be5aa4b1db86fe13de12d7f9a",
            "b4dc8e9d11dd4c3bade94c44e3e8c90d",
            "fb8a70f04d4f4f81abf5d2e0d2c2a501",
            "368b187680c04b2c821f8176efff63ef",
            "df4421d7d3994002b30cf40b476ff4f7",
            "8a6723c078534574a207d27ecf1e13bd",
            "b7dad6dc552a4bf196f09973ab820e7e",
            "061b71301d6c4cceb0c01697fe890f00"
          ]
        },
        "outputId": "eb610d5f-0682-4603-8dca-7e7d4f4242a2"
      },
      "source": [
        "transform = transforms.Compose(\n",
        "    [transforms.ToTensor(),\n",
        "     transforms.Normalize((0.5, 0.5, 0.5), (0.5, 0.5, 0.5))])\n",
        "\n",
        "trainset = torchvision.datasets.CIFAR10(root='./data', train=True, download=True, transform=transform)\n",
        "\n",
        "\n",
        "testset = torchvision.datasets.CIFAR10(root='./data', train=False, download=True, transform=transform)\n"
      ],
      "execution_count": 6,
      "outputs": [
        {
          "output_type": "stream",
          "name": "stdout",
          "text": [
            "Downloading https://www.cs.toronto.edu/~kriz/cifar-10-python.tar.gz to ./data/cifar-10-python.tar.gz\n"
          ]
        },
        {
          "output_type": "display_data",
          "data": {
            "application/vnd.jupyter.widget-view+json": {
              "model_id": "d423f7af43954822bed56b749c9f7682",
              "version_minor": 0,
              "version_major": 2
            },
            "text/plain": [
              "  0%|          | 0/170498071 [00:00<?, ?it/s]"
            ]
          },
          "metadata": {}
        },
        {
          "output_type": "stream",
          "name": "stdout",
          "text": [
            "Extracting ./data/cifar-10-python.tar.gz to ./data\n",
            "Files already downloaded and verified\n"
          ]
        }
      ]
    },
    {
      "cell_type": "code",
      "metadata": {
        "id": "gh5DXuAV1tp5",
        "execution": {
          "iopub.status.busy": "2021-09-02T17:14:40.846426Z",
          "iopub.execute_input": "2021-09-02T17:14:40.846788Z",
          "iopub.status.idle": "2021-09-02T17:14:40.853436Z",
          "shell.execute_reply.started": "2021-09-02T17:14:40.846750Z",
          "shell.execute_reply": "2021-09-02T17:14:40.852000Z"
        },
        "trusted": true
      },
      "source": [
        "trainloader = torch.utils.data.DataLoader(trainset, batch_size=10, shuffle=False)\n",
        "testloader = torch.utils.data.DataLoader(testset, batch_size=10, shuffle=False)\n",
        "\n",
        "\n",
        "classes = ('plane', 'car', 'bird', 'cat', 'deer', 'dog', 'frog', 'horse', 'ship', 'truck')\n",
        "\n",
        "foreground_classes = {'plane', 'car', 'bird'}\n",
        "#foreground_classes = {'bird', 'cat', 'deer'}\n",
        "background_classes = {'cat', 'deer', 'dog', 'frog', 'horse', 'ship', 'truck'}\n",
        "#background_classes = {'plane', 'car', 'dog', 'frog', 'horse','ship', 'truck'}\n",
        "\n",
        "fg1,fg2,fg3 = 0,1,2"
      ],
      "execution_count": 7,
      "outputs": []
    },
    {
      "cell_type": "code",
      "metadata": {
        "id": "V_JUhwCeZErk",
        "execution": {
          "iopub.status.busy": "2021-09-02T17:14:40.855907Z",
          "iopub.execute_input": "2021-09-02T17:14:40.856384Z",
          "iopub.status.idle": "2021-09-02T17:15:31.911383Z",
          "shell.execute_reply.started": "2021-09-02T17:14:40.856340Z",
          "shell.execute_reply": "2021-09-02T17:15:31.910215Z"
        },
        "trusted": true
      },
      "source": [
        "dataiter = iter(trainloader)\n",
        "background_data=[]\n",
        "background_label=[]\n",
        "foreground_data=[]\n",
        "foreground_label=[]\n",
        "batch_size=10\n",
        "\n",
        "for i in range(5000):\n",
        "  images, labels = dataiter.next()\n",
        "  for j in range(batch_size):\n",
        "    if(classes[labels[j]] in background_classes):\n",
        "      img = images[j].tolist()\n",
        "      background_data.append(img)\n",
        "      background_label.append(labels[j])\n",
        "    else:\n",
        "      img = images[j].tolist()\n",
        "      foreground_data.append(img)\n",
        "      foreground_label.append(labels[j])\n",
        "            \n",
        "foreground_data = torch.tensor(foreground_data)\n",
        "foreground_label = torch.tensor(foreground_label)\n",
        "background_data = torch.tensor(background_data)\n",
        "background_label = torch.tensor(background_label)"
      ],
      "execution_count": 8,
      "outputs": []
    },
    {
      "cell_type": "code",
      "metadata": {
        "id": "uW9MkktGysAp",
        "execution": {
          "iopub.status.busy": "2021-09-02T17:15:31.912826Z",
          "iopub.execute_input": "2021-09-02T17:15:31.913206Z",
          "iopub.status.idle": "2021-09-02T17:15:31.920104Z",
          "shell.execute_reply.started": "2021-09-02T17:15:31.913166Z",
          "shell.execute_reply": "2021-09-02T17:15:31.919104Z"
        },
        "trusted": true
      },
      "source": [
        "def create_mosaic_img(bg_idx,fg_idx,fg): \n",
        "  \"\"\"\n",
        "  bg_idx : list of indexes of background_data[] to be used as background images in mosaic\n",
        "  fg_idx : index of image to be used as foreground image from foreground data\n",
        "  fg : at what position/index foreground image has to be stored out of 0-8\n",
        "  \"\"\"\n",
        "  image_list=[]\n",
        "  j=0\n",
        "  for i in range(9):\n",
        "    if i != fg:\n",
        "      image_list.append(background_data[bg_idx[j]])#.type(\"torch.DoubleTensor\"))\n",
        "      j+=1\n",
        "    else: \n",
        "      image_list.append(foreground_data[fg_idx])#.type(\"torch.DoubleTensor\"))\n",
        "      label = foreground_label[fg_idx]- fg1  # minus fg1 because our fore ground classes are fg1,fg2,fg3 but we have to store it as 0,1,2\n",
        "  #image_list = np.concatenate(image_list ,axis=0)\n",
        "  image_list = torch.stack(image_list) \n",
        "  return image_list,label"
      ],
      "execution_count": 9,
      "outputs": []
    },
    {
      "cell_type": "code",
      "metadata": {
        "id": "lWxkp87fNwnM",
        "execution": {
          "iopub.status.busy": "2021-09-02T17:15:31.921433Z",
          "iopub.execute_input": "2021-09-02T17:15:31.921788Z",
          "iopub.status.idle": "2021-09-02T17:15:37.300322Z",
          "shell.execute_reply.started": "2021-09-02T17:15:31.921751Z",
          "shell.execute_reply": "2021-09-02T17:15:37.299437Z"
        },
        "trusted": true
      },
      "source": [
        "desired_num = 30000\n",
        "mosaic_list_of_images =[]      # list of mosaic images, each mosaic image is saved as list of 9 images\n",
        "fore_idx =[]                   # list of indexes at which foreground image is present in a mosaic image i.e from 0 to 9               \n",
        "mosaic_label=[]                # label of mosaic image = foreground class present in that mosaic\n",
        "for i in range(desired_num):\n",
        "  np.random.seed(i)\n",
        "  bg_idx = np.random.randint(0,35000,8)\n",
        "  fg_idx = np.random.randint(0,15000)\n",
        "  fg = np.random.randint(0,9)\n",
        "  fore_idx.append(fg)\n",
        "  image_list,label = create_mosaic_img(bg_idx,fg_idx,fg)\n",
        "  mosaic_list_of_images.append(image_list)\n",
        "  mosaic_label.append(label)"
      ],
      "execution_count": 10,
      "outputs": []
    },
    {
      "cell_type": "code",
      "metadata": {
        "execution": {
          "iopub.status.busy": "2021-09-02T17:15:37.301599Z",
          "iopub.execute_input": "2021-09-02T17:15:37.301941Z",
          "iopub.status.idle": "2021-09-02T17:15:37.479701Z",
          "shell.execute_reply.started": "2021-09-02T17:15:37.301906Z",
          "shell.execute_reply": "2021-09-02T17:15:37.478677Z"
        },
        "trusted": true,
        "id": "TNMMsJ_auBRs",
        "colab": {
          "base_uri": "https://localhost:8080/",
          "height": 303
        },
        "outputId": "2c648a86-d908-4546-83d6-7011d7c86bcd"
      },
      "source": [
        "plt.imshow(torch.transpose(mosaic_list_of_images[0][1],dim0= 0,dim1 = 2))"
      ],
      "execution_count": 11,
      "outputs": [
        {
          "output_type": "stream",
          "name": "stderr",
          "text": [
            "Clipping input data to the valid range for imshow with RGB data ([0..1] for floats or [0..255] for integers).\n"
          ]
        },
        {
          "output_type": "execute_result",
          "data": {
            "text/plain": [
              "<matplotlib.image.AxesImage at 0x7f02025fcf10>"
            ]
          },
          "metadata": {},
          "execution_count": 11
        },
        {
          "output_type": "display_data",
          "data": {
            "image/png": "[encoded data removed]",
            "text/plain": [
              "<Figure size 432x288 with 1 Axes>"
            ]
          },
          "metadata": {
            "needs_background": "light"
          }
        }
      ]
    },
    {
      "cell_type": "code",
      "metadata": {
        "id": "AJuGak6_zXgx",
        "execution": {
          "iopub.status.busy": "2021-09-02T17:15:37.481190Z",
          "iopub.execute_input": "2021-09-02T17:15:37.481578Z",
          "iopub.status.idle": "2021-09-02T17:15:37.488448Z",
          "shell.execute_reply.started": "2021-09-02T17:15:37.481543Z",
          "shell.execute_reply": "2021-09-02T17:15:37.487314Z"
        },
        "trusted": true
      },
      "source": [
        "class MosaicDataset(Dataset):\n",
        "  \"\"\"MosaicDataset dataset.\"\"\"\n",
        "\n",
        "  def __init__(self, mosaic_list_of_images, mosaic_label, fore_idx):\n",
        "    \"\"\"\n",
        "      Args:\n",
        "        csv_file (string): Path to the csv file with annotations.\n",
        "        root_dir (string): Directory with all the images.\n",
        "        transform (callable, optional): Optional transform to be applied\n",
        "            on a sample.\n",
        "    \"\"\"\n",
        "    self.mosaic = mosaic_list_of_images\n",
        "    self.label = mosaic_label\n",
        "    self.fore_idx = fore_idx\n",
        "\n",
        "  def __len__(self):\n",
        "    return len(self.label)\n",
        "\n",
        "  def __getitem__(self, idx):\n",
        "    return self.mosaic[idx] , self.label[idx], self.fore_idx[idx]\n",
        "\n",
        "batch = 250\n",
        "msd = MosaicDataset(mosaic_list_of_images, mosaic_label , fore_idx)\n",
        "train_loader = DataLoader( msd,batch_size= batch ,shuffle=True)"
      ],
      "execution_count": 12,
      "outputs": []
    },
    {
      "cell_type": "code",
      "metadata": {
        "id": "bePj73XKuJpC"
      },
      "source": [
        "class Focus(nn.Module):\n",
        "  def __init__(self):\n",
        "    super(Focus, self).__init__()\n",
        "    self.conv1 = nn.Conv2d(in_channels=3, out_channels=32, kernel_size=3, padding=0,bias=False)\n",
        "    self.conv2 = nn.Conv2d(in_channels=32, out_channels=64, kernel_size=3, padding=0,bias=False)\n",
        "    self.conv3 = nn.Conv2d(in_channels=64, out_channels=64, kernel_size=3, padding=0,bias=False)\n",
        "    self.conv4 = nn.Conv2d(in_channels=64, out_channels=128, kernel_size=3, padding=0,bias=False)\n",
        "    self.conv5 = nn.Conv2d(in_channels=128, out_channels=256, kernel_size=3, padding=0,bias=False)\n",
        "    self.conv6 = nn.Conv2d(in_channels=256, out_channels=256, kernel_size=3, padding=1,bias=False)\n",
        "    self.pool = nn.MaxPool2d(kernel_size=2, stride=2)\n",
        "    self.batch_norm1 = nn.BatchNorm2d(32,track_running_stats=False)\n",
        "    self.batch_norm2 = nn.BatchNorm2d(64,track_running_stats=False)\n",
        "    self.batch_norm3 = nn.BatchNorm2d(256,track_running_stats=False)\n",
        "    self.dropout1 = nn.Dropout2d(p=0.05)\n",
        "    self.dropout2 = nn.Dropout2d(p=0.1)\n",
        "    self.fc1 = nn.Linear(256,64,bias=False)\n",
        "    self.fc2 = nn.Linear(64, 32,bias=False)\n",
        "    self.fc3 = nn.Linear(32, 10,bias=False)\n",
        "    self.fc4 = nn.Linear(10, 1,bias=False)\n",
        "\n",
        "    torch.nn.init.xavier_normal_(self.conv1.weight)\n",
        "    torch.nn.init.xavier_normal_(self.conv2.weight)\n",
        "    torch.nn.init.xavier_normal_(self.conv3.weight)\n",
        "    torch.nn.init.xavier_normal_(self.conv4.weight)\n",
        "    torch.nn.init.xavier_normal_(self.conv5.weight)\n",
        "    torch.nn.init.xavier_normal_(self.conv6.weight)\n",
        "\n",
        "    torch.nn.init.xavier_normal_(self.fc1.weight)\n",
        "    torch.nn.init.xavier_normal_(self.fc2.weight)\n",
        "    torch.nn.init.xavier_normal_(self.fc3.weight)\n",
        "    torch.nn.init.xavier_normal_(self.fc4.weight)\n",
        "\n",
        "  def forward(self,z):  #y is avg image #z batch of list of 9 images\n",
        "    y = torch.zeros([batch,256, 3,3], dtype=torch.float64)\n",
        "    x = torch.zeros([batch,9],dtype=torch.float64)\n",
        "    ftr = torch.zeros([batch,9,256,3,3])\n",
        "    y = y.to(\"cuda\")\n",
        "    x = x.to(\"cuda\")\n",
        "    ftr = ftr.to(\"cuda\")\n",
        "    \n",
        "    for i in range(9):\n",
        "        out,ftrs = self.helper(z[:,i])\n",
        "        #print(out.shape)\n",
        "        x[:,i] = out\n",
        "        ftr[:,i] = ftrs\n",
        "    log_x = F.log_softmax(x,dim=1)  # log_alpha\n",
        "    x = F.softmax(x,dim=1) \n",
        "\n",
        "    for i in range(9):            \n",
        "      x1 = x[:,i]          \n",
        "      y = y + torch.mul(x1[:,None,None,None],ftr[:,i])\n",
        "\n",
        "    return x, y, log_x, #alpha, log_alpha, avg_data\n",
        "    \n",
        "  def helper(self, x):\n",
        "    #x1 = x\n",
        "    #x1 =x\n",
        "    x = self.conv1(x)\n",
        "    x = F.relu(self.batch_norm1(x))\n",
        "\n",
        "    x = (F.relu(self.conv2(x)))\n",
        "    x = self.pool(x)\n",
        "    \n",
        "    x = self.conv3(x)\n",
        "    x = F.relu(self.batch_norm2(x))\n",
        "\n",
        "    x = (F.relu(self.conv4(x)))\n",
        "    x = self.pool(x)\n",
        "    x = self.dropout1(x)\n",
        "\n",
        "    x = self.conv5(x)\n",
        "    \n",
        "    x = F.relu(self.batch_norm3(x))\n",
        "\n",
        "    x = self.conv6(x)\n",
        "    x1 = F.tanh(x)\n",
        "    x = F.relu(x)\n",
        "    x = self.pool(x)\n",
        "\n",
        "    x = x.view(x.size(0), -1)\n",
        "\n",
        "    x = self.dropout2(x)\n",
        "    x = F.relu(self.fc1(x))\n",
        "    x = F.relu(self.fc2(x))\n",
        "    x = self.dropout2(x)\n",
        "    x = F.relu(self.fc3(x))\n",
        "    x = self.fc4(x)\n",
        "    x = x[:,0] \n",
        "    # print(x.shape)\n",
        "    return x,x1"
      ],
      "execution_count": 13,
      "outputs": []
    },
    {
      "cell_type": "code",
      "metadata": {
        "id": "1GvXR1zV5n4w",
        "execution": {
          "iopub.status.busy": "2021-09-02T17:51:09.361696Z",
          "iopub.execute_input": "2021-09-02T17:51:09.362041Z",
          "iopub.status.idle": "2021-09-02T17:51:09.392551Z",
          "shell.execute_reply.started": "2021-09-02T17:51:09.362000Z",
          "shell.execute_reply": "2021-09-02T17:51:09.391770Z"
        },
        "trusted": true
      },
      "source": [
        "torch.manual_seed(n_seed)\n",
        "focus_net = Focus().double()\n",
        "focus_net = focus_net.to(\"cuda\")"
      ],
      "execution_count": 14,
      "outputs": []
    },
    {
      "cell_type": "code",
      "metadata": {
        "id": "LYdCXceZzSk9",
        "execution": {
          "iopub.status.busy": "2021-09-02T17:51:09.784395Z",
          "iopub.execute_input": "2021-09-02T17:51:09.784702Z",
          "iopub.status.idle": "2021-09-02T17:51:09.802984Z",
          "shell.execute_reply.started": "2021-09-02T17:51:09.784675Z",
          "shell.execute_reply": "2021-09-02T17:51:09.801781Z"
        },
        "trusted": true
      },
      "source": [
        "class Classification(nn.Module):\n",
        "  def __init__(self):\n",
        "    super(Classification, self).__init__()\n",
        "    self.conv1 = nn.Conv2d(in_channels=256, out_channels=128, kernel_size=3, padding=1)\n",
        "    self.conv2 = nn.Conv2d(in_channels=128, out_channels=128, kernel_size=3, padding=1)\n",
        "    self.conv3 = nn.Conv2d(in_channels=128, out_channels=256, kernel_size=3, padding=1)\n",
        "    self.conv4 = nn.Conv2d(in_channels=256, out_channels=256, kernel_size=3, padding=1)\n",
        "    self.conv5 = nn.Conv2d(in_channels=256, out_channels=512, kernel_size=3, padding=1)\n",
        "    self.conv6 = nn.Conv2d(in_channels=512, out_channels=512, kernel_size=3, padding=1)\n",
        "    self.pool = nn.MaxPool2d(kernel_size=2, stride=2,padding=1)\n",
        "    self.batch_norm1 = nn.BatchNorm2d(128,track_running_stats=False)\n",
        "    self.batch_norm2 = nn.BatchNorm2d(256,track_running_stats=False)\n",
        "    self.batch_norm3 = nn.BatchNorm2d(512,track_running_stats=False)\n",
        "    self.dropout1 = nn.Dropout2d(p=0.05)\n",
        "    self.dropout2 = nn.Dropout2d(p=0.1)\n",
        "    self.global_average_pooling = nn.AvgPool2d(kernel_size=2)\n",
        "    self.fc1 = nn.Linear(512,128)\n",
        "    # self.fc2 = nn.Linear(128, 64)\n",
        "    # self.fc3 = nn.Linear(64, 10)\n",
        "    self.fc2 = nn.Linear(128, 3)\n",
        "\n",
        "    torch.nn.init.xavier_normal_(self.conv1.weight)\n",
        "    torch.nn.init.xavier_normal_(self.conv2.weight)\n",
        "    torch.nn.init.xavier_normal_(self.conv3.weight)\n",
        "    torch.nn.init.xavier_normal_(self.conv4.weight)\n",
        "    torch.nn.init.xavier_normal_(self.conv5.weight)\n",
        "    torch.nn.init.xavier_normal_(self.conv6.weight)\n",
        "\n",
        "    torch.nn.init.zeros_(self.conv1.bias)\n",
        "    torch.nn.init.zeros_(self.conv2.bias)\n",
        "    torch.nn.init.zeros_(self.conv3.bias)\n",
        "    torch.nn.init.zeros_(self.conv4.bias)\n",
        "    torch.nn.init.zeros_(self.conv5.bias)\n",
        "    torch.nn.init.zeros_(self.conv6.bias)\n",
        "\n",
        "\n",
        "    torch.nn.init.xavier_normal_(self.fc1.weight)\n",
        "    torch.nn.init.xavier_normal_(self.fc2.weight)\n",
        "    torch.nn.init.zeros_(self.fc1.bias)\n",
        "    torch.nn.init.zeros_(self.fc2.bias)\n",
        "\n",
        "\n",
        "  def forward(self, x):\n",
        "    x = self.conv1(x)\n",
        "    x = F.relu(self.batch_norm1(x))\n",
        "\n",
        "    x = (F.relu(self.conv2(x)))\n",
        "    x = self.pool(x)\n",
        "    \n",
        "    x = self.conv3(x)\n",
        "    x = F.relu(self.batch_norm2(x))\n",
        "\n",
        "    x = (F.relu(self.conv4(x)))\n",
        "    x = self.pool(x)\n",
        "    x = self.dropout1(x)\n",
        "\n",
        "    x = self.conv5(x)\n",
        "    x = F.relu(self.batch_norm3(x))\n",
        "\n",
        "    x = (F.relu(self.conv6(x)))\n",
        "    x = self.pool(x)\n",
        "    #print(x.shape)\n",
        "    x = self.global_average_pooling(x)\n",
        "    x = x.squeeze()\n",
        "    #x = x.view(x.size(0), -1)\n",
        "    #print(x.shape)\n",
        "    x = self.dropout2(x)\n",
        "    x = F.relu(self.fc1(x))\n",
        "    #x = F.relu(self.fc2(x))\n",
        "    #x = self.dropout2(x)\n",
        "    #x = F.relu(self.fc3(x))\n",
        "    x = self.fc2(x)\n",
        "    return x"
      ],
      "execution_count": 15,
      "outputs": []
    },
    {
      "cell_type": "code",
      "metadata": {
        "id": "uPYplUGazU9I",
        "execution": {
          "iopub.status.busy": "2021-09-02T17:51:10.025448Z",
          "iopub.execute_input": "2021-09-02T17:51:10.025783Z",
          "iopub.status.idle": "2021-09-02T17:51:10.123449Z",
          "shell.execute_reply.started": "2021-09-02T17:51:10.025755Z",
          "shell.execute_reply": "2021-09-02T17:51:10.122598Z"
        },
        "trusted": true
      },
      "source": [
        "torch.manual_seed(n_seed)\n",
        "classify = Classification().double()\n",
        "classify = classify.to(\"cuda\")"
      ],
      "execution_count": 16,
      "outputs": []
    },
    {
      "cell_type": "code",
      "metadata": {
        "id": "l789TLMP9zJX",
        "execution": {
          "iopub.status.busy": "2021-09-02T17:51:10.240800Z",
          "iopub.execute_input": "2021-09-02T17:51:10.241065Z",
          "iopub.status.idle": "2021-09-02T17:51:11.570692Z",
          "shell.execute_reply.started": "2021-09-02T17:51:10.241038Z",
          "shell.execute_reply": "2021-09-02T17:51:11.569728Z"
        },
        "trusted": true
      },
      "source": [
        "test_images =[]        #list of mosaic images, each mosaic image is saved as laist of 9 images\n",
        "fore_idx_test =[]                   #list of indexes at which foreground image is present in a mosaic image                \n",
        "test_label=[]                # label of mosaic image = foreground class present in that mosaic\n",
        "for i in range(10000):\n",
        "  np.random.seed(i+30000)\n",
        "  bg_idx = np.random.randint(0,35000,8)\n",
        "  fg_idx = np.random.randint(0,15000)\n",
        "  fg = np.random.randint(0,9)\n",
        "  fore_idx_test.append(fg)\n",
        "  image_list,label = create_mosaic_img(bg_idx,fg_idx,fg)\n",
        "  test_images.append(image_list)\n",
        "  test_label.append(label)"
      ],
      "execution_count": 17,
      "outputs": []
    },
    {
      "cell_type": "code",
      "metadata": {
        "id": "bBzV9dKS5po7",
        "execution": {
          "iopub.status.busy": "2021-09-02T17:51:11.572447Z",
          "iopub.execute_input": "2021-09-02T17:51:11.572808Z",
          "iopub.status.idle": "2021-09-02T17:51:11.596712Z",
          "shell.execute_reply.started": "2021-09-02T17:51:11.572771Z",
          "shell.execute_reply": "2021-09-02T17:51:11.595652Z"
        },
        "trusted": true
      },
      "source": [
        "test_data = MosaicDataset(test_images,test_label,fore_idx_test)\n",
        "test_loader = DataLoader( test_data,batch_size= batch ,shuffle=False)"
      ],
      "execution_count": 18,
      "outputs": []
    },
    {
      "cell_type": "code",
      "metadata": {
        "id": "NIZAdWWL93SJ",
        "execution": {
          "iopub.status.busy": "2021-09-02T17:51:11.599264Z",
          "iopub.execute_input": "2021-09-02T17:51:11.599784Z",
          "iopub.status.idle": "2021-09-02T17:51:11.607144Z",
          "shell.execute_reply.started": "2021-09-02T17:51:11.599745Z",
          "shell.execute_reply": "2021-09-02T17:51:11.606316Z"
        },
        "trusted": true
      },
      "source": [
        "criterion = nn.CrossEntropyLoss()\n",
        "def my_cross_entropy(x, y,alpha,log_alpha,k):\n",
        "    # log_prob = -1.0 * F.log_softmax(x, 1)\n",
        "    # loss = log_prob.gather(1, y.unsqueeze(1))\n",
        "    # loss = loss.mean()\n",
        "    loss = criterion(x,y)\n",
        "    \n",
        "    #alpha = torch.clamp(alpha,min=1e-10)     \n",
        "    \n",
        "    b = -1.0* alpha * log_alpha\n",
        "    b =  torch.mean(torch.sum(b,dim=1))\n",
        "    closs = loss\n",
        "    entropy = b \n",
        "    loss = (1-k)*loss + ((k)*b)\n",
        "    return loss,closs,entropy"
      ],
      "execution_count": 19,
      "outputs": []
    },
    {
      "cell_type": "code",
      "metadata": {
        "id": "n5g3geNJ5zEu",
        "execution": {
          "iopub.status.busy": "2021-09-02T17:51:11.608676Z",
          "iopub.execute_input": "2021-09-02T17:51:11.609071Z",
          "iopub.status.idle": "2021-09-02T17:51:11.618079Z",
          "shell.execute_reply.started": "2021-09-02T17:51:11.609034Z",
          "shell.execute_reply": "2021-09-02T17:51:11.617147Z"
        },
        "trusted": true
      },
      "source": [
        "import torch.optim as optim\n",
        "# criterion_classify = nn.CrossEntropyLoss()\n",
        "optimizer_focus = optim.Adam(focus_net.parameters(), lr=0.0005)#, momentum=0.9)\n",
        "optimizer_classify = optim.Adam(classify.parameters(), lr=0.0005)#, momentum=0.9)"
      ],
      "execution_count": 20,
      "outputs": []
    },
    {
      "cell_type": "code",
      "metadata": {
        "id": "q8FurF4uDlOf",
        "execution": {
          "iopub.status.busy": "2021-09-02T17:51:11.621021Z",
          "iopub.execute_input": "2021-09-02T17:51:11.621313Z",
          "iopub.status.idle": "2021-09-02T17:51:11.631163Z",
          "shell.execute_reply.started": "2021-09-02T17:51:11.621285Z",
          "shell.execute_reply": "2021-09-02T17:51:11.630387Z"
        },
        "trusted": true
      },
      "source": [
        "col1=[]\n",
        "col2=[]\n",
        "col3=[]\n",
        "col4=[]\n",
        "col5=[]\n",
        "col6=[]\n",
        "col7=[]\n",
        "col8=[]\n",
        "col9=[]\n",
        "col10=[]\n",
        "col11=[]\n",
        "col12=[]\n",
        "col13=[]\n",
        "col14 = [] # train average sparsity\n",
        "col15 = [] # test average sparsity\n",
        "\n"
      ],
      "execution_count": 21,
      "outputs": []
    },
    {
      "cell_type": "code",
      "metadata": {
        "id": "u7wkoxckDlIg",
        "execution": {
          "iopub.status.busy": "2021-09-02T17:51:11.632525Z",
          "iopub.execute_input": "2021-09-02T17:51:11.632965Z",
          "iopub.status.idle": "2021-09-02T17:51:51.956526Z",
          "shell.execute_reply.started": "2021-09-02T17:51:11.632867Z",
          "shell.execute_reply": "2021-09-02T17:51:51.953392Z"
        },
        "trusted": true,
        "colab": {
          "base_uri": "https://localhost:8080/"
        },
        "outputId": "4b94d2f6-40a1-4f64-8bcf-d4c9d90cb566"
      },
      "source": [
        "correct = 0\n",
        "total = 0\n",
        "count = 0\n",
        "flag = 1\n",
        "focus_true_pred_true =0\n",
        "focus_false_pred_true =0\n",
        "focus_true_pred_false =0\n",
        "focus_false_pred_false =0\n",
        "\n",
        "argmax_more_than_half = 0\n",
        "argmax_less_than_half =0\n",
        "sparse_val = 0 \n",
        "focus_net.eval()\n",
        "classify.eval()\n",
        "with torch.no_grad():\n",
        "  for data in train_loader:\n",
        "    inputs, labels , fore_idx = data\n",
        "    inputs = inputs.double()\n",
        "    inputs, labels , fore_idx = inputs.to(\"cuda\"),labels.to(\"cuda\"), fore_idx.to(\"cuda\")\n",
        "    alphas, avg_images,_ = focus_net(inputs)\n",
        "    # print(inputs.shape, alphas.shape, avg_images.shape)\n",
        "    outputs = classify(avg_images)\n",
        "\n",
        "    _, predicted = torch.max(outputs.data, 1)\n",
        "    \n",
        "    sparse_val += torch.sum(torch.sum(alphas>0.01,dim=1)).item()\n",
        "\n",
        "\n",
        "    for j in range(labels.size(0)):\n",
        "      count += 1\n",
        "      focus = torch.argmax(alphas[j])\n",
        "      if alphas[j][focus] >= 0.5 :\n",
        "        argmax_more_than_half += 1\n",
        "      else:\n",
        "        argmax_less_than_half += 1\n",
        "\n",
        "      if(focus == fore_idx[j] and predicted[j] == labels[j]):\n",
        "          focus_true_pred_true += 1\n",
        "      elif(focus != fore_idx[j] and predicted[j] == labels[j]):\n",
        "        focus_false_pred_true += 1\n",
        "      elif(focus == fore_idx[j] and predicted[j] != labels[j]):\n",
        "        focus_true_pred_false += 1\n",
        "      elif(focus != fore_idx[j] and predicted[j] != labels[j]):\n",
        "        focus_false_pred_false += 1\n",
        "\n",
        "    total += labels.size(0)\n",
        "    correct += (predicted == labels).sum().item()\n",
        "\n",
        "print('Accuracy of the network on the 30000 train images: %f %%' % ( 100 * correct / total))\n",
        "print(\"total correct\", correct)\n",
        "print(\"total train set images\", total)\n",
        "\n",
        "print(\"focus_true_pred_true %d =============> FTPT : %f %%\" % (focus_true_pred_true , (100 * focus_true_pred_true / total) ) )\n",
        "print(\"focus_false_pred_true %d =============> FFPT : %f %%\" % (focus_false_pred_true, (100 * focus_false_pred_true / total) ) )\n",
        "print(\"focus_true_pred_false %d =============> FTPF : %f %%\" %( focus_true_pred_false , ( 100 * focus_true_pred_false / total) ) )\n",
        "print(\"focus_false_pred_false %d =============> FFPF : %f %%\" % (focus_false_pred_false, ( 100 * focus_false_pred_false / total) ) )\n",
        "print(\"Sparsity_Value %d =============> AVG Sparsity : %f \" % (sparse_val,(sparse_val)/total))\n",
        "print(\"argmax_more_than_half ==================> \",argmax_more_than_half)\n",
        "print(\"argmax_less_than_half ==================> \",argmax_less_than_half)\n",
        "print(count)\n",
        "\n",
        "print(\"=\"*100)\n",
        "\n",
        "col1.append(0)\n",
        "col2.append(argmax_more_than_half)\n",
        "col3.append(argmax_less_than_half)\n",
        "col4.append(focus_true_pred_true)\n",
        "col5.append(focus_false_pred_true)\n",
        "col6.append(focus_true_pred_false)\n",
        "col7.append(focus_false_pred_false)\n",
        "col14.append(sparse_val)"
      ],
      "execution_count": 22,
      "outputs": [
        {
          "output_type": "stream",
          "name": "stdout",
          "text": [
            "Accuracy of the network on the 30000 train images: 33.813333 %\n",
            "total correct 10144\n",
            "total train set images 30000\n",
            "focus_true_pred_true 405 =============> FTPT : 1.350000 %\n",
            "focus_false_pred_true 9739 =============> FFPT : 32.463333 %\n",
            "focus_true_pred_false 1624 =============> FTPF : 5.413333 %\n",
            "focus_false_pred_false 18232 =============> FFPF : 60.773333 %\n",
            "Sparsity_Value 270000 =============> AVG Sparsity : 9.000000 \n",
            "argmax_more_than_half ==================>  0\n",
            "argmax_less_than_half ==================>  30000\n",
            "30000\n",
            "====================================================================================================\n"
          ]
        }
      ]
    },
    {
      "cell_type": "code",
      "metadata": {
        "id": "0S4x9oQuDlBa",
        "execution": {
          "iopub.status.busy": "2021-09-02T17:51:51.958224Z",
          "iopub.execute_input": "2021-09-02T17:51:51.958588Z",
          "iopub.status.idle": "2021-09-02T17:52:05.246029Z",
          "shell.execute_reply.started": "2021-09-02T17:51:51.958552Z",
          "shell.execute_reply": "2021-09-02T17:52:05.245105Z"
        },
        "trusted": true,
        "colab": {
          "base_uri": "https://localhost:8080/"
        },
        "outputId": "01229dd7-82ad-4579-a334-036365edfb45"
      },
      "source": [
        "correct = 0\n",
        "total = 0\n",
        "count = 0\n",
        "flag = 1\n",
        "focus_true_pred_true =0\n",
        "focus_false_pred_true =0\n",
        "focus_true_pred_false =0\n",
        "focus_false_pred_false =0\n",
        "\n",
        "argmax_more_than_half = 0\n",
        "argmax_less_than_half =0\n",
        "sparse_val = 0\n",
        "focus_net.eval()\n",
        "classify.eval()\n",
        "with torch.no_grad():\n",
        "  for data in test_loader:\n",
        "    inputs, labels , fore_idx = data\n",
        "    inputs = inputs.double()\n",
        "    inputs, labels , fore_idx = inputs.to(\"cuda\"),labels.to(\"cuda\"), fore_idx.to(\"cuda\")\n",
        "    alphas, avg_images,_ = focus_net(inputs)\n",
        "    outputs = classify(avg_images)\n",
        "\n",
        "    _, predicted = torch.max(outputs.data, 1)\n",
        "    \n",
        "    sparse_val += torch.sum(torch.sum(alphas>0.01,dim=1)).item()\n",
        "\n",
        "    for j in range(labels.size(0)):\n",
        "      focus = torch.argmax(alphas[j])\n",
        "      if alphas[j][focus] >= 0.5 :\n",
        "        argmax_more_than_half += 1\n",
        "      else:\n",
        "        argmax_less_than_half += 1\n",
        "\n",
        "      if(focus == fore_idx[j] and predicted[j] == labels[j]):\n",
        "          focus_true_pred_true += 1\n",
        "      elif(focus != fore_idx[j] and predicted[j] == labels[j]):\n",
        "        focus_false_pred_true += 1\n",
        "      elif(focus == fore_idx[j] and predicted[j] != labels[j]):\n",
        "        focus_true_pred_false += 1\n",
        "      elif(focus != fore_idx[j] and predicted[j] != labels[j]):\n",
        "        focus_false_pred_false += 1\n",
        "\n",
        "    total += labels.size(0)\n",
        "    correct += (predicted == labels).sum().item()\n",
        "\n",
        "print('Accuracy of the network on the 10000 test images: %f %%' % (\n",
        "    100 * correct / total))\n",
        "print(\"total correct\", correct)\n",
        "print(\"total test set images\", total)\n",
        "\n",
        "print(\"focus_true_pred_true %d =============> FTPT : %f %%\" % (focus_true_pred_true , (100 * focus_true_pred_true / total) ) )\n",
        "print(\"focus_false_pred_true %d =============> FFPT : %f %%\" % (focus_false_pred_true, (100 * focus_false_pred_true / total) ) )\n",
        "print(\"focus_true_pred_false %d =============> FTPF : %f %%\" %( focus_true_pred_false , ( 100 * focus_true_pred_false / total) ) )\n",
        "print(\"focus_false_pred_false %d =============> FFPF : %f %%\" % (focus_false_pred_false, ( 100 * focus_false_pred_false / total) ) )\n",
        "print(\"Sparsity_Value %d =============> AVG Sparsity : %f \" % (sparse_val,(sparse_val)/total))\n",
        "print(\"argmax_more_than_half ==================> \",argmax_more_than_half)\n",
        "print(\"argmax_less_than_half ==================> \",argmax_less_than_half)\n",
        "col8.append(argmax_more_than_half)\n",
        "col9.append(argmax_less_than_half)\n",
        "col10.append(focus_true_pred_true)\n",
        "col11.append(focus_false_pred_true)\n",
        "col12.append(focus_true_pred_false)\n",
        "col13.append(focus_false_pred_false)\n",
        "col15.append(sparse_val)"
      ],
      "execution_count": 23,
      "outputs": [
        {
          "output_type": "stream",
          "name": "stdout",
          "text": [
            "Accuracy of the network on the 10000 test images: 33.550000 %\n",
            "total correct 3355\n",
            "total test set images 10000\n",
            "focus_true_pred_true 138 =============> FTPT : 1.380000 %\n",
            "focus_false_pred_true 3217 =============> FFPT : 32.170000 %\n",
            "focus_true_pred_false 514 =============> FTPF : 5.140000 %\n",
            "focus_false_pred_false 6131 =============> FFPF : 61.310000 %\n",
            "Sparsity_Value 90000 =============> AVG Sparsity : 9.000000 \n",
            "argmax_more_than_half ==================>  0\n",
            "argmax_less_than_half ==================>  10000\n"
          ]
        }
      ]
    },
    {
      "cell_type": "code",
      "metadata": {
        "id": "tFfAJZkcZEsY",
        "execution": {
          "iopub.status.busy": "2021-09-02T17:52:53.887863Z",
          "iopub.execute_input": "2021-09-02T17:52:53.888227Z",
          "iopub.status.idle": "2021-09-02T17:58:41.630161Z",
          "shell.execute_reply.started": "2021-09-02T17:52:53.888195Z",
          "shell.execute_reply": "2021-09-02T17:58:41.628625Z"
        },
        "trusted": true,
        "colab": {
          "base_uri": "https://localhost:8080/"
        },
        "outputId": "584ddf6f-b24f-4e42-ada2-1e6bba8e1fdb"
      },
      "source": [
        "nos_epochs = 100\n",
        "focus_true_pred_true =0\n",
        "focus_false_pred_true =0\n",
        "focus_true_pred_false =0\n",
        "focus_false_pred_false =0\n",
        "\n",
        "argmax_more_than_half = 0\n",
        "argmax_less_than_half =0\n",
        "focus_net.train()\n",
        "classify.train()\n",
        "tr_loss = []\n",
        "\n",
        "\n",
        "for epoch in range(nos_epochs):  # loop over the dataset multiple times\n",
        "  focus_net.train()\n",
        "  classify.train()\n",
        "  focus_true_pred_true =0\n",
        "  focus_false_pred_true =0\n",
        "  focus_true_pred_false =0\n",
        "  focus_false_pred_false =0\n",
        "  \n",
        "  argmax_more_than_half = 0\n",
        "  argmax_less_than_half =0\n",
        "  sparse_val = 0 \n",
        "  \n",
        "  running_loss = 0.0\n",
        "  epoch_loss = []\n",
        "  cnt=0\n",
        "\n",
        "  iteration = desired_num // batch\n",
        "  \n",
        "  #training data set\n",
        "  \n",
        "  for i, data in  enumerate(train_loader):\n",
        "    inputs , labels , fore_idx = data\n",
        "    inputs = inputs.double()\n",
        "    inputs, labels = inputs.to(\"cuda\"), labels.to(\"cuda\")\n",
        "    # zero the parameter gradients\n",
        "    optimizer_focus.zero_grad()\n",
        "    optimizer_classify.zero_grad()\n",
        "    alphas, avg_images,log_alphas = focus_net(inputs)\n",
        "    outputs = classify(avg_images)\n",
        "    \n",
        "    # outputs, alphas, avg_images = classify(inputs)\n",
        "\n",
        "    _, predicted = torch.max(outputs.data, 1)\n",
        "#     print(outputs)\n",
        "#     print(outputs.shape,labels.shape , torch.argmax(outputs, dim=1))\n",
        "\n",
        "    loss,_,_ = my_cross_entropy(outputs, labels,alphas,log_alphas,k) \n",
        "    loss.backward()\n",
        "    optimizer_focus.step()\n",
        "    optimizer_classify.step()\n",
        "\n",
        "    running_loss += loss.item()\n",
        "    mini = 60\n",
        "    if cnt % mini == mini-1:    # print every 40 mini-batches\n",
        "      print('[%d, %5d] loss: %.3f' %(epoch + 1, cnt + 1, running_loss / mini))\n",
        "      epoch_loss.append(running_loss/mini)\n",
        "      running_loss = 0.0\n",
        "    cnt=cnt+1\n",
        "    \n",
        "    \n",
        "    if epoch % 1 == 0:\n",
        "      sparse_val += torch.sum(torch.sum(alphas>0.01,dim=1)).item()\n",
        "      for j in range (batch):\n",
        "        focus = torch.argmax(alphas[j])\n",
        "\n",
        "        if(alphas[j][focus] >= 0.5):\n",
        "          argmax_more_than_half +=1\n",
        "        else:\n",
        "          argmax_less_than_half +=1\n",
        "\n",
        "        if(focus == fore_idx[j] and predicted[j] == labels[j]):\n",
        "          focus_true_pred_true += 1\n",
        "\n",
        "        elif(focus != fore_idx[j] and predicted[j] == labels[j]):\n",
        "          focus_false_pred_true +=1\n",
        "\n",
        "        elif(focus == fore_idx[j] and predicted[j] != labels[j]):\n",
        "          focus_true_pred_false +=1\n",
        "\n",
        "        elif(focus != fore_idx[j] and predicted[j] != labels[j]):\n",
        "          focus_false_pred_false +=1\n",
        "\n",
        "\n",
        "  tr_loss.append(np.mean(epoch_loss))\n",
        "  if epoch % 1 == 0:\n",
        "    col1.append(epoch+1)\n",
        "    col2.append(argmax_more_than_half)\n",
        "    col3.append(argmax_less_than_half)\n",
        "    col4.append(focus_true_pred_true)\n",
        "    col5.append(focus_false_pred_true)\n",
        "    col6.append(focus_true_pred_false)\n",
        "    col7.append(focus_false_pred_false)\n",
        "    col14.append(sparse_val)\n",
        "  \n",
        "    #************************************************************************\n",
        "    #testing data set \n",
        "    focus_net.eval()\n",
        "    classify.eval() \n",
        "    with torch.no_grad():\n",
        "      focus_true_pred_true =0\n",
        "      focus_false_pred_true =0\n",
        "      focus_true_pred_false =0\n",
        "      focus_false_pred_false =0\n",
        "\n",
        "      argmax_more_than_half = 0\n",
        "      argmax_less_than_half =0\n",
        "      sparse_val = 0\n",
        "      for data in test_loader:\n",
        "        inputs, labels , fore_idx = data\n",
        "        inputs = inputs.double()\n",
        "        inputs, labels = inputs.to(\"cuda\"), labels.to(\"cuda\")\n",
        "        alphas, avg_images,log_alphas = focus_net(inputs)\n",
        "        outputs = classify(avg_images)\n",
        "        #outputs, alphas, avg_images = classify(inputs)\n",
        "        _, predicted = torch.max(outputs.data, 1)\n",
        "        sparse_val += torch.sum(torch.sum(alphas>0.01,dim=1)).item()\n",
        "        for j in range (batch):\n",
        "          focus = torch.argmax(alphas[j])\n",
        "\n",
        "          if(alphas[j][focus] >= 0.5):\n",
        "            argmax_more_than_half +=1\n",
        "          else:\n",
        "            argmax_less_than_half +=1\n",
        "\n",
        "          if(focus == fore_idx[j] and predicted[j] == labels[j]):\n",
        "            focus_true_pred_true += 1\n",
        "\n",
        "          elif(focus != fore_idx[j] and predicted[j] == labels[j]):\n",
        "            focus_false_pred_true +=1\n",
        "\n",
        "          elif(focus == fore_idx[j] and predicted[j] != labels[j]):\n",
        "            focus_true_pred_false +=1\n",
        "\n",
        "          elif(focus != fore_idx[j] and predicted[j] != labels[j]):\n",
        "            focus_false_pred_false +=1\n",
        "      \n",
        "    col8.append(argmax_more_than_half)\n",
        "    col9.append(argmax_less_than_half)\n",
        "    col10.append(focus_true_pred_true)\n",
        "    col11.append(focus_false_pred_true)\n",
        "    col12.append(focus_true_pred_false)\n",
        "    col13.append(focus_false_pred_false)\n",
        "    col15.append(sparse_val)\n",
        "  if(np.mean(epoch_loss) <= 0.05):\n",
        "    break;\n",
        "print('Finished Training') "
      ],
      "execution_count": 24,
      "outputs": [
        {
          "output_type": "stream",
          "name": "stdout",
          "text": [
            "[1,    60] loss: 1.126\n",
            "[1,   120] loss: 0.994\n",
            "[2,    60] loss: 0.827\n",
            "[2,   120] loss: 0.645\n",
            "[3,    60] loss: 0.522\n",
            "[3,   120] loss: 0.451\n",
            "[4,    60] loss: 0.360\n",
            "[4,   120] loss: 0.337\n",
            "[5,    60] loss: 0.253\n",
            "[5,   120] loss: 0.257\n",
            "[6,    60] loss: 0.216\n",
            "[6,   120] loss: 0.196\n",
            "[7,    60] loss: 0.140\n",
            "[7,   120] loss: 0.165\n",
            "[8,    60] loss: 0.121\n",
            "[8,   120] loss: 0.129\n",
            "[9,    60] loss: 0.102\n",
            "[9,   120] loss: 0.103\n",
            "[10,    60] loss: 0.090\n",
            "[10,   120] loss: 0.087\n",
            "[11,    60] loss: 0.076\n",
            "[11,   120] loss: 0.084\n",
            "[12,    60] loss: 0.069\n",
            "[12,   120] loss: 0.068\n",
            "[13,    60] loss: 0.064\n",
            "[13,   120] loss: 0.066\n",
            "[14,    60] loss: 0.052\n",
            "[14,   120] loss: 0.058\n",
            "[15,    60] loss: 0.047\n",
            "[15,   120] loss: 0.047\n",
            "Finished Training\n"
          ]
        }
      ]
    },
    {
      "cell_type": "code",
      "metadata": {
        "id": "WIAJ3UZN8rPE",
        "execution": {
          "iopub.status.busy": "2021-09-02T17:58:41.631562Z",
          "iopub.execute_input": "2021-09-02T17:58:41.631817Z",
          "iopub.status.idle": "2021-09-02T17:58:41.753111Z",
          "shell.execute_reply.started": "2021-09-02T17:58:41.631791Z",
          "shell.execute_reply": "2021-09-02T17:58:41.752029Z"
        },
        "trusted": true
      },
      "source": [
        "torch.save(focus_net.state_dict(),path+\"weights_focus_0.pt\")  \n",
        "torch.save(classify.state_dict(),path+\"weights_classify_0.pt\")"
      ],
      "execution_count": 25,
      "outputs": []
    },
    {
      "cell_type": "code",
      "metadata": {
        "id": "2LgQKXW-8MH-",
        "execution": {
          "iopub.status.busy": "2021-09-02T17:58:41.757427Z",
          "iopub.execute_input": "2021-09-02T17:58:41.758059Z",
          "iopub.status.idle": "2021-09-02T17:58:41.762282Z",
          "shell.execute_reply.started": "2021-09-02T17:58:41.758017Z",
          "shell.execute_reply": "2021-09-02T17:58:41.761462Z"
        },
        "trusted": true
      },
      "source": [
        "columns = [\"epochs\", \"argmax > 0.5\" ,\"argmax < 0.5\", \"focus_true_pred_true\", \"focus_false_pred_true\", \"focus_true_pred_false\", \"focus_false_pred_false\" ,\"sparse_val\"]"
      ],
      "execution_count": 26,
      "outputs": []
    },
    {
      "cell_type": "code",
      "metadata": {
        "id": "tSKphM888Y5o",
        "execution": {
          "iopub.status.busy": "2021-09-02T17:58:41.763888Z",
          "iopub.execute_input": "2021-09-02T17:58:41.764508Z",
          "iopub.status.idle": "2021-09-02T17:58:41.773725Z",
          "shell.execute_reply.started": "2021-09-02T17:58:41.764471Z",
          "shell.execute_reply": "2021-09-02T17:58:41.772873Z"
        },
        "trusted": true
      },
      "source": [
        "df_train = pd.DataFrame()\n",
        "df_test = pd.DataFrame()"
      ],
      "execution_count": 27,
      "outputs": []
    },
    {
      "cell_type": "code",
      "metadata": {
        "id": "lLSfxf-zE_D1",
        "execution": {
          "iopub.status.busy": "2021-09-02T17:58:41.774940Z",
          "iopub.execute_input": "2021-09-02T17:58:41.775502Z",
          "iopub.status.idle": "2021-09-02T17:58:41.787662Z",
          "shell.execute_reply.started": "2021-09-02T17:58:41.775464Z",
          "shell.execute_reply": "2021-09-02T17:58:41.786553Z"
        },
        "trusted": true,
        "colab": {
          "base_uri": "https://localhost:8080/"
        },
        "outputId": "e5161c9c-c9e3-45d6-96b6-ff46cb0aadf1"
      },
      "source": [
        "len(col1),col9"
      ],
      "execution_count": 28,
      "outputs": [
        {
          "output_type": "execute_result",
          "data": {
            "text/plain": [
              "(16,\n",
              " [10000,\n",
              "  9413,\n",
              "  4316,\n",
              "  3493,\n",
              "  2294,\n",
              "  2298,\n",
              "  2266,\n",
              "  2076,\n",
              "  1605,\n",
              "  1905,\n",
              "  2164,\n",
              "  1526,\n",
              "  1621,\n",
              "  1401,\n",
              "  1723,\n",
              "  2033])"
            ]
          },
          "metadata": {},
          "execution_count": 28
        }
      ]
    },
    {
      "cell_type": "code",
      "metadata": {
        "execution": {
          "iopub.status.busy": "2021-09-02T18:02:15.433273Z",
          "iopub.execute_input": "2021-09-02T18:02:15.433616Z",
          "iopub.status.idle": "2021-09-02T18:02:15.587556Z",
          "shell.execute_reply.started": "2021-09-02T18:02:15.433582Z",
          "shell.execute_reply": "2021-09-02T18:02:15.586746Z"
        },
        "trusted": true,
        "id": "eBFPNm12uBR3",
        "colab": {
          "base_uri": "https://localhost:8080/",
          "height": 299
        },
        "outputId": "b272ca0f-58bd-4de9-cc75-427edfce30c9"
      },
      "source": [
        "plt.plot(np.arange(1,epoch+2),tr_loss)\n",
        "plt.xlabel(\"epochs\", fontsize=14, fontweight = 'bold')\n",
        "plt.ylabel(\"Loss\", fontsize=14, fontweight = 'bold')\n",
        "plt.title(\"Train Loss\")\n",
        "plt.grid()\n",
        "plt.show()"
      ],
      "execution_count": 29,
      "outputs": [
        {
          "output_type": "display_data",
          "data": {
            "image/png": "[encoded data removed]",
            "text/plain": [
              "<Figure size 432x288 with 1 Axes>"
            ]
          },
          "metadata": {
            "needs_background": "light"
          }
        }
      ]
    },
    {
      "cell_type": "code",
      "metadata": {
        "execution": {
          "iopub.status.busy": "2021-09-02T17:58:41.947854Z",
          "iopub.execute_input": "2021-09-02T17:58:41.948219Z",
          "iopub.status.idle": "2021-09-02T17:58:41.952929Z",
          "shell.execute_reply.started": "2021-09-02T17:58:41.948180Z",
          "shell.execute_reply": "2021-09-02T17:58:41.952078Z"
        },
        "trusted": true,
        "id": "dqTXDm-EuBR3"
      },
      "source": [
        "np.save(\"train_loss.npy\",{\"training_loss\":tr_loss})"
      ],
      "execution_count": 30,
      "outputs": []
    },
    {
      "cell_type": "code",
      "metadata": {
        "id": "FrWoEGXZ8cBO",
        "execution": {
          "iopub.status.busy": "2021-09-02T17:58:41.955724Z",
          "iopub.execute_input": "2021-09-02T17:58:41.956276Z",
          "iopub.status.idle": "2021-09-02T17:58:41.973284Z",
          "shell.execute_reply.started": "2021-09-02T17:58:41.956227Z",
          "shell.execute_reply": "2021-09-02T17:58:41.972493Z"
        },
        "trusted": true
      },
      "source": [
        "df_train[columns[0]] = col1\n",
        "df_train[columns[1]] = col2\n",
        "df_train[columns[2]] = col3\n",
        "df_train[columns[3]] = col4\n",
        "df_train[columns[4]] = col5\n",
        "df_train[columns[5]] = col6\n",
        "df_train[columns[6]] = col7\n",
        "df_train[columns[7]] = col14\n",
        "\n",
        "df_test[columns[0]] = col1\n",
        "df_test[columns[1]] = col8\n",
        "df_test[columns[2]] = col9\n",
        "df_test[columns[3]] = col10\n",
        "df_test[columns[4]] = col11\n",
        "df_test[columns[5]] = col12\n",
        "df_test[columns[6]] = col13\n",
        "df_test[columns[7]] = col15"
      ],
      "execution_count": 31,
      "outputs": []
    },
    {
      "cell_type": "code",
      "metadata": {
        "id": "RGJoMFcK8eTe",
        "execution": {
          "iopub.status.busy": "2021-09-02T17:58:41.975585Z",
          "iopub.execute_input": "2021-09-02T17:58:41.975997Z",
          "iopub.status.idle": "2021-09-02T17:58:41.990914Z",
          "shell.execute_reply.started": "2021-09-02T17:58:41.975960Z",
          "shell.execute_reply": "2021-09-02T17:58:41.990084Z"
        },
        "trusted": true,
        "colab": {
          "base_uri": "https://localhost:8080/",
          "height": 551
        },
        "outputId": "52aa3fd2-afb3-4bd8-b6b4-8b70e7eab4e5"
      },
      "source": [
        "df_train"
      ],
      "execution_count": 32,
      "outputs": [
        {
          "output_type": "execute_result",
          "data": {
            "text/html": [
              "<div>\n",
              "<style scoped>\n",
              "    .dataframe tbody tr th:only-of-type {\n",
              "        vertical-align: middle;\n",
              "    }\n",
              "\n",
              "    .dataframe tbody tr th {\n",
              "        vertical-align: top;\n",
              "    }\n",
              "\n",
              "    .dataframe thead th {\n",
              "        text-align: right;\n",
              "    }\n",
              "</style>\n",
              "<table border=\"1\" class=\"dataframe\">\n",
              "  <thead>\n",
              "    <tr style=\"text-align: right;\">\n",
              "      <th></th>\n",
              "      <th>epochs</th>\n",
              "      <th>argmax &gt; 0.5</th>\n",
              "      <th>argmax &lt; 0.5</th>\n",
              "      <th>focus_true_pred_true</th>\n",
              "      <th>focus_false_pred_true</th>\n",
              "      <th>focus_true_pred_false</th>\n",
              "      <th>focus_false_pred_false</th>\n",
              "      <th>sparse_val</th>\n",
              "    </tr>\n",
              "  </thead>\n",
              "  <tbody>\n",
              "    <tr>\n",
              "      <th>0</th>\n",
              "      <td>0</td>\n",
              "      <td>0</td>\n",
              "      <td>30000</td>\n",
              "      <td>405</td>\n",
              "      <td>9739</td>\n",
              "      <td>1624</td>\n",
              "      <td>18232</td>\n",
              "      <td>270000</td>\n",
              "    </tr>\n",
              "    <tr>\n",
              "      <th>1</th>\n",
              "      <td>1</td>\n",
              "      <td>3746</td>\n",
              "      <td>26254</td>\n",
              "      <td>4633</td>\n",
              "      <td>8798</td>\n",
              "      <td>3134</td>\n",
              "      <td>13435</td>\n",
              "      <td>230993</td>\n",
              "    </tr>\n",
              "    <tr>\n",
              "      <th>2</th>\n",
              "      <td>2</td>\n",
              "      <td>12480</td>\n",
              "      <td>17520</td>\n",
              "      <td>13532</td>\n",
              "      <td>6742</td>\n",
              "      <td>2974</td>\n",
              "      <td>6752</td>\n",
              "      <td>214583</td>\n",
              "    </tr>\n",
              "    <tr>\n",
              "      <th>3</th>\n",
              "      <td>3</td>\n",
              "      <td>19048</td>\n",
              "      <td>10952</td>\n",
              "      <td>18515</td>\n",
              "      <td>5503</td>\n",
              "      <td>2131</td>\n",
              "      <td>3851</td>\n",
              "      <td>183933</td>\n",
              "    </tr>\n",
              "    <tr>\n",
              "      <th>4</th>\n",
              "      <td>4</td>\n",
              "      <td>21600</td>\n",
              "      <td>8400</td>\n",
              "      <td>21107</td>\n",
              "      <td>4738</td>\n",
              "      <td>1543</td>\n",
              "      <td>2612</td>\n",
              "      <td>163065</td>\n",
              "    </tr>\n",
              "    <tr>\n",
              "      <th>5</th>\n",
              "      <td>5</td>\n",
              "      <td>22939</td>\n",
              "      <td>7061</td>\n",
              "      <td>22674</td>\n",
              "      <td>4377</td>\n",
              "      <td>1069</td>\n",
              "      <td>1880</td>\n",
              "      <td>147732</td>\n",
              "    </tr>\n",
              "    <tr>\n",
              "      <th>6</th>\n",
              "      <td>6</td>\n",
              "      <td>23786</td>\n",
              "      <td>6214</td>\n",
              "      <td>23562</td>\n",
              "      <td>4132</td>\n",
              "      <td>907</td>\n",
              "      <td>1399</td>\n",
              "      <td>140422</td>\n",
              "    </tr>\n",
              "    <tr>\n",
              "      <th>7</th>\n",
              "      <td>7</td>\n",
              "      <td>24208</td>\n",
              "      <td>5792</td>\n",
              "      <td>24451</td>\n",
              "      <td>3918</td>\n",
              "      <td>614</td>\n",
              "      <td>1017</td>\n",
              "      <td>137037</td>\n",
              "    </tr>\n",
              "    <tr>\n",
              "      <th>8</th>\n",
              "      <td>8</td>\n",
              "      <td>24510</td>\n",
              "      <td>5490</td>\n",
              "      <td>24896</td>\n",
              "      <td>3792</td>\n",
              "      <td>458</td>\n",
              "      <td>854</td>\n",
              "      <td>134365</td>\n",
              "    </tr>\n",
              "    <tr>\n",
              "      <th>9</th>\n",
              "      <td>9</td>\n",
              "      <td>24823</td>\n",
              "      <td>5177</td>\n",
              "      <td>25204</td>\n",
              "      <td>3718</td>\n",
              "      <td>359</td>\n",
              "      <td>719</td>\n",
              "      <td>131623</td>\n",
              "    </tr>\n",
              "    <tr>\n",
              "      <th>10</th>\n",
              "      <td>10</td>\n",
              "      <td>25100</td>\n",
              "      <td>4900</td>\n",
              "      <td>25454</td>\n",
              "      <td>3659</td>\n",
              "      <td>332</td>\n",
              "      <td>555</td>\n",
              "      <td>124365</td>\n",
              "    </tr>\n",
              "    <tr>\n",
              "      <th>11</th>\n",
              "      <td>11</td>\n",
              "      <td>24636</td>\n",
              "      <td>5364</td>\n",
              "      <td>25592</td>\n",
              "      <td>3585</td>\n",
              "      <td>321</td>\n",
              "      <td>502</td>\n",
              "      <td>131131</td>\n",
              "    </tr>\n",
              "    <tr>\n",
              "      <th>12</th>\n",
              "      <td>12</td>\n",
              "      <td>25164</td>\n",
              "      <td>4836</td>\n",
              "      <td>25819</td>\n",
              "      <td>3509</td>\n",
              "      <td>248</td>\n",
              "      <td>424</td>\n",
              "      <td>123808</td>\n",
              "    </tr>\n",
              "    <tr>\n",
              "      <th>13</th>\n",
              "      <td>13</td>\n",
              "      <td>25136</td>\n",
              "      <td>4864</td>\n",
              "      <td>25852</td>\n",
              "      <td>3491</td>\n",
              "      <td>258</td>\n",
              "      <td>399</td>\n",
              "      <td>124445</td>\n",
              "    </tr>\n",
              "    <tr>\n",
              "      <th>14</th>\n",
              "      <td>14</td>\n",
              "      <td>25516</td>\n",
              "      <td>4484</td>\n",
              "      <td>26064</td>\n",
              "      <td>3384</td>\n",
              "      <td>212</td>\n",
              "      <td>340</td>\n",
              "      <td>121774</td>\n",
              "    </tr>\n",
              "    <tr>\n",
              "      <th>15</th>\n",
              "      <td>15</td>\n",
              "      <td>25593</td>\n",
              "      <td>4407</td>\n",
              "      <td>26161</td>\n",
              "      <td>3388</td>\n",
              "      <td>176</td>\n",
              "      <td>275</td>\n",
              "      <td>118710</td>\n",
              "    </tr>\n",
              "  </tbody>\n",
              "</table>\n",
              "</div>"
            ],
            "text/plain": [
              "    epochs  argmax > 0.5  ...  focus_false_pred_false  sparse_val\n",
              "0        0             0  ...                   18232      270000\n",
              "1        1          3746  ...                   13435      230993\n",
              "2        2         12480  ...                    6752      214583\n",
              "3        3         19048  ...                    3851      183933\n",
              "4        4         21600  ...                    2612      163065\n",
              "5        5         22939  ...                    1880      147732\n",
              "6        6         23786  ...                    1399      140422\n",
              "7        7         24208  ...                    1017      137037\n",
              "8        8         24510  ...                     854      134365\n",
              "9        9         24823  ...                     719      131623\n",
              "10      10         25100  ...                     555      124365\n",
              "11      11         24636  ...                     502      131131\n",
              "12      12         25164  ...                     424      123808\n",
              "13      13         25136  ...                     399      124445\n",
              "14      14         25516  ...                     340      121774\n",
              "15      15         25593  ...                     275      118710\n",
              "\n",
              "[16 rows x 8 columns]"
            ]
          },
          "metadata": {},
          "execution_count": 32
        }
      ]
    },
    {
      "cell_type": "code",
      "metadata": {
        "id": "cqrSQSNemDNp",
        "execution": {
          "iopub.status.busy": "2021-09-02T17:58:41.992137Z",
          "iopub.execute_input": "2021-09-02T17:58:41.992509Z",
          "iopub.status.idle": "2021-09-02T17:58:41.999979Z",
          "shell.execute_reply.started": "2021-09-02T17:58:41.992475Z",
          "shell.execute_reply": "2021-09-02T17:58:41.999180Z"
        },
        "trusted": true
      },
      "source": [
        "df_train.to_csv(path+\"_train.csv\",index=False)"
      ],
      "execution_count": 33,
      "outputs": []
    },
    {
      "cell_type": "code",
      "metadata": {
        "id": "Ei9HVQBZ8gn4",
        "execution": {
          "iopub.status.busy": "2021-09-02T17:58:42.001230Z",
          "iopub.execute_input": "2021-09-02T17:58:42.001738Z",
          "iopub.status.idle": "2021-09-02T17:58:42.159856Z",
          "shell.execute_reply.started": "2021-09-02T17:58:42.001703Z",
          "shell.execute_reply": "2021-09-02T17:58:42.158915Z"
        },
        "trusted": true,
        "colab": {
          "base_uri": "https://localhost:8080/",
          "height": 295
        },
        "outputId": "9b4526f7-5d2c-4fbe-c537-038ada0b6ac8"
      },
      "source": [
        "# plt.figure(12,12)\n",
        "plt.plot(col1,col2, label='argmax > 0.5')\n",
        "plt.plot(col1,col3, label='argmax < 0.5')\n",
        "\n",
        "plt.legend(loc='center left', bbox_to_anchor=(1, 0.5))\n",
        "plt.xlabel(\"epochs\")\n",
        "plt.ylabel(\"training data\")\n",
        "plt.title(\"On Training set\")\n",
        "plt.show()\n",
        "\n"
      ],
      "execution_count": 34,
      "outputs": [
        {
          "output_type": "display_data",
          "data": {
            "image/png": "[encoded data removed]",
            "text/plain": [
              "<Figure size 432x288 with 1 Axes>"
            ]
          },
          "metadata": {
            "needs_background": "light"
          }
        }
      ]
    },
    {
      "cell_type": "code",
      "metadata": {
        "execution": {
          "iopub.status.busy": "2021-09-02T17:58:42.161381Z",
          "iopub.execute_input": "2021-09-02T17:58:42.161720Z",
          "iopub.status.idle": "2021-09-02T17:58:42.644508Z",
          "shell.execute_reply.started": "2021-09-02T17:58:42.161686Z",
          "shell.execute_reply": "2021-09-02T17:58:42.643551Z"
        },
        "trusted": true,
        "id": "RcScxsHnuBR5",
        "colab": {
          "base_uri": "https://localhost:8080/",
          "height": 354
        },
        "outputId": "e92ac860-58b5-49c8-b80b-8844dbe58993"
      },
      "source": [
        "plt.figure(figsize=(6,5))\n",
        "plt.plot(col1,np.array(col4)/300, label =\"FTPT \")\n",
        "plt.plot(col1,np.array(col5)/300, label =\"FFPT \")\n",
        "plt.plot(col1,np.array(col6)/300, label =\"FTPF \")\n",
        "plt.plot(col1,np.array(col7)/300, label =\"FFPF \")\n",
        "plt.title(\"On Training set\")\n",
        "#plt.legend(loc='center left', bbox_to_anchor=(1, 0.5))\n",
        "plt.xlabel(\"epochs\", fontsize=14, fontweight = 'bold')\n",
        "plt.ylabel(\"percentage train data\", fontsize=14, fontweight = 'bold')\n",
        "# plt.xlabel(\"epochs\")\n",
        "# plt.ylabel(\"training data\")\n",
        "plt.legend()\n",
        "\n",
        "plt.savefig(path + \"_train.png\",bbox_inches=\"tight\")\n",
        "plt.savefig(path + \"_train.pdf\",bbox_inches=\"tight\")\n",
        "plt.grid()\n",
        "plt.show()"
      ],
      "execution_count": 35,
      "outputs": [
        {
          "output_type": "display_data",
          "data": {
            "image/png": "[encoded data removed]",
            "text/plain": [
              "<Figure size 432x360 with 1 Axes>"
            ]
          },
          "metadata": {
            "needs_background": "light"
          }
        }
      ]
    },
    {
      "cell_type": "code",
      "metadata": {
        "execution": {
          "iopub.status.busy": "2021-09-02T17:58:42.645802Z",
          "iopub.execute_input": "2021-09-02T17:58:42.646138Z",
          "iopub.status.idle": "2021-09-02T17:58:43.038167Z",
          "shell.execute_reply.started": "2021-09-02T17:58:42.646100Z",
          "shell.execute_reply": "2021-09-02T17:58:43.037151Z"
        },
        "trusted": true,
        "id": "eyHnBFJxuBR5",
        "colab": {
          "base_uri": "https://localhost:8080/",
          "height": 354
        },
        "outputId": "209643a0-57c2-41a1-de26-e4074aa8affe"
      },
      "source": [
        "plt.figure(figsize=(6,5))\n",
        "plt.plot(col1,np.array(col14)/30000, label =\"sparsity_val\")\n",
        "\n",
        "plt.title(\"On Training set\")\n",
        "#plt.legend(loc='center left', bbox_to_anchor=(1, 0.5))\n",
        "plt.xlabel(\"epochs\", fontsize=14, fontweight = 'bold')\n",
        "plt.ylabel(\"average sparsity value\", fontsize=14, fontweight = 'bold')\n",
        "# plt.xlabel(\"epochs\")\n",
        "# plt.ylabel(\"sparsity_value\")\n",
        "\n",
        "plt.savefig(path + \"sparsity_train.png\",bbox_inches=\"tight\")\n",
        "plt.savefig(path + \"sparsity_train.pdf\",bbox_inches=\"tight\")\n",
        "plt.grid()\n",
        "plt.show()"
      ],
      "execution_count": 36,
      "outputs": [
        {
          "output_type": "display_data",
          "data": {
            "image/png": "[encoded data removed]",
            "text/plain": [
              "<Figure size 432x360 with 1 Axes>"
            ]
          },
          "metadata": {
            "needs_background": "light"
          }
        }
      ]
    },
    {
      "cell_type": "code",
      "metadata": {
        "id": "_QKYVO8i8ivA",
        "execution": {
          "iopub.status.busy": "2021-09-02T17:58:43.039687Z",
          "iopub.execute_input": "2021-09-02T17:58:43.040083Z",
          "iopub.status.idle": "2021-09-02T17:58:43.051512Z",
          "shell.execute_reply.started": "2021-09-02T17:58:43.040044Z",
          "shell.execute_reply": "2021-09-02T17:58:43.050431Z"
        },
        "trusted": true,
        "colab": {
          "base_uri": "https://localhost:8080/",
          "height": 551
        },
        "outputId": "11d95060-a32b-4949-b3f1-a117433a7d54"
      },
      "source": [
        "df_test"
      ],
      "execution_count": 37,
      "outputs": [
        {
          "output_type": "execute_result",
          "data": {
            "text/html": [
              "<div>\n",
              "<style scoped>\n",
              "    .dataframe tbody tr th:only-of-type {\n",
              "        vertical-align: middle;\n",
              "    }\n",
              "\n",
              "    .dataframe tbody tr th {\n",
              "        vertical-align: top;\n",
              "    }\n",
              "\n",
              "    .dataframe thead th {\n",
              "        text-align: right;\n",
              "    }\n",
              "</style>\n",
              "<table border=\"1\" class=\"dataframe\">\n",
              "  <thead>\n",
              "    <tr style=\"text-align: right;\">\n",
              "      <th></th>\n",
              "      <th>epochs</th>\n",
              "      <th>argmax &gt; 0.5</th>\n",
              "      <th>argmax &lt; 0.5</th>\n",
              "      <th>focus_true_pred_true</th>\n",
              "      <th>focus_false_pred_true</th>\n",
              "      <th>focus_true_pred_false</th>\n",
              "      <th>focus_false_pred_false</th>\n",
              "      <th>sparse_val</th>\n",
              "    </tr>\n",
              "  </thead>\n",
              "  <tbody>\n",
              "    <tr>\n",
              "      <th>0</th>\n",
              "      <td>0</td>\n",
              "      <td>0</td>\n",
              "      <td>10000</td>\n",
              "      <td>138</td>\n",
              "      <td>3217</td>\n",
              "      <td>514</td>\n",
              "      <td>6131</td>\n",
              "      <td>90000</td>\n",
              "    </tr>\n",
              "    <tr>\n",
              "      <th>1</th>\n",
              "      <td>1</td>\n",
              "      <td>587</td>\n",
              "      <td>9413</td>\n",
              "      <td>3063</td>\n",
              "      <td>2857</td>\n",
              "      <td>1408</td>\n",
              "      <td>2672</td>\n",
              "      <td>82841</td>\n",
              "    </tr>\n",
              "    <tr>\n",
              "      <th>2</th>\n",
              "      <td>2</td>\n",
              "      <td>5684</td>\n",
              "      <td>4316</td>\n",
              "      <td>5725</td>\n",
              "      <td>1838</td>\n",
              "      <td>896</td>\n",
              "      <td>1541</td>\n",
              "      <td>70559</td>\n",
              "    </tr>\n",
              "    <tr>\n",
              "      <th>3</th>\n",
              "      <td>3</td>\n",
              "      <td>6507</td>\n",
              "      <td>3493</td>\n",
              "      <td>6750</td>\n",
              "      <td>1549</td>\n",
              "      <td>615</td>\n",
              "      <td>1086</td>\n",
              "      <td>62625</td>\n",
              "    </tr>\n",
              "    <tr>\n",
              "      <th>4</th>\n",
              "      <td>4</td>\n",
              "      <td>7706</td>\n",
              "      <td>2294</td>\n",
              "      <td>7294</td>\n",
              "      <td>1370</td>\n",
              "      <td>493</td>\n",
              "      <td>843</td>\n",
              "      <td>49583</td>\n",
              "    </tr>\n",
              "    <tr>\n",
              "      <th>5</th>\n",
              "      <td>5</td>\n",
              "      <td>7702</td>\n",
              "      <td>2298</td>\n",
              "      <td>7695</td>\n",
              "      <td>1166</td>\n",
              "      <td>548</td>\n",
              "      <td>591</td>\n",
              "      <td>52589</td>\n",
              "    </tr>\n",
              "    <tr>\n",
              "      <th>6</th>\n",
              "      <td>6</td>\n",
              "      <td>7734</td>\n",
              "      <td>2266</td>\n",
              "      <td>7803</td>\n",
              "      <td>1291</td>\n",
              "      <td>382</td>\n",
              "      <td>524</td>\n",
              "      <td>50406</td>\n",
              "    </tr>\n",
              "    <tr>\n",
              "      <th>7</th>\n",
              "      <td>7</td>\n",
              "      <td>7924</td>\n",
              "      <td>2076</td>\n",
              "      <td>8086</td>\n",
              "      <td>1105</td>\n",
              "      <td>335</td>\n",
              "      <td>474</td>\n",
              "      <td>49233</td>\n",
              "    </tr>\n",
              "    <tr>\n",
              "      <th>8</th>\n",
              "      <td>8</td>\n",
              "      <td>8395</td>\n",
              "      <td>1605</td>\n",
              "      <td>8264</td>\n",
              "      <td>993</td>\n",
              "      <td>246</td>\n",
              "      <td>497</td>\n",
              "      <td>41996</td>\n",
              "    </tr>\n",
              "    <tr>\n",
              "      <th>9</th>\n",
              "      <td>9</td>\n",
              "      <td>8095</td>\n",
              "      <td>1905</td>\n",
              "      <td>8307</td>\n",
              "      <td>992</td>\n",
              "      <td>277</td>\n",
              "      <td>424</td>\n",
              "      <td>46953</td>\n",
              "    </tr>\n",
              "    <tr>\n",
              "      <th>10</th>\n",
              "      <td>10</td>\n",
              "      <td>7836</td>\n",
              "      <td>2164</td>\n",
              "      <td>8298</td>\n",
              "      <td>1026</td>\n",
              "      <td>241</td>\n",
              "      <td>435</td>\n",
              "      <td>49298</td>\n",
              "    </tr>\n",
              "    <tr>\n",
              "      <th>11</th>\n",
              "      <td>11</td>\n",
              "      <td>8474</td>\n",
              "      <td>1526</td>\n",
              "      <td>8458</td>\n",
              "      <td>975</td>\n",
              "      <td>213</td>\n",
              "      <td>354</td>\n",
              "      <td>42141</td>\n",
              "    </tr>\n",
              "    <tr>\n",
              "      <th>12</th>\n",
              "      <td>12</td>\n",
              "      <td>8379</td>\n",
              "      <td>1621</td>\n",
              "      <td>8245</td>\n",
              "      <td>1143</td>\n",
              "      <td>234</td>\n",
              "      <td>378</td>\n",
              "      <td>38410</td>\n",
              "    </tr>\n",
              "    <tr>\n",
              "      <th>13</th>\n",
              "      <td>13</td>\n",
              "      <td>8599</td>\n",
              "      <td>1401</td>\n",
              "      <td>8420</td>\n",
              "      <td>1000</td>\n",
              "      <td>193</td>\n",
              "      <td>387</td>\n",
              "      <td>38621</td>\n",
              "    </tr>\n",
              "    <tr>\n",
              "      <th>14</th>\n",
              "      <td>14</td>\n",
              "      <td>8277</td>\n",
              "      <td>1723</td>\n",
              "      <td>8491</td>\n",
              "      <td>1000</td>\n",
              "      <td>191</td>\n",
              "      <td>318</td>\n",
              "      <td>45072</td>\n",
              "    </tr>\n",
              "    <tr>\n",
              "      <th>15</th>\n",
              "      <td>15</td>\n",
              "      <td>7967</td>\n",
              "      <td>2033</td>\n",
              "      <td>8455</td>\n",
              "      <td>1009</td>\n",
              "      <td>193</td>\n",
              "      <td>343</td>\n",
              "      <td>45881</td>\n",
              "    </tr>\n",
              "  </tbody>\n",
              "</table>\n",
              "</div>"
            ],
            "text/plain": [
              "    epochs  argmax > 0.5  ...  focus_false_pred_false  sparse_val\n",
              "0        0             0  ...                    6131       90000\n",
              "1        1           587  ...                    2672       82841\n",
              "2        2          5684  ...                    1541       70559\n",
              "3        3          6507  ...                    1086       62625\n",
              "4        4          7706  ...                     843       49583\n",
              "5        5          7702  ...                     591       52589\n",
              "6        6          7734  ...                     524       50406\n",
              "7        7          7924  ...                     474       49233\n",
              "8        8          8395  ...                     497       41996\n",
              "9        9          8095  ...                     424       46953\n",
              "10      10          7836  ...                     435       49298\n",
              "11      11          8474  ...                     354       42141\n",
              "12      12          8379  ...                     378       38410\n",
              "13      13          8599  ...                     387       38621\n",
              "14      14          8277  ...                     318       45072\n",
              "15      15          7967  ...                     343       45881\n",
              "\n",
              "[16 rows x 8 columns]"
            ]
          },
          "metadata": {},
          "execution_count": 37
        }
      ]
    },
    {
      "cell_type": "code",
      "metadata": {
        "id": "0oGTwRsdmOe4",
        "execution": {
          "iopub.status.busy": "2021-09-02T17:58:43.053085Z",
          "iopub.execute_input": "2021-09-02T17:58:43.053478Z",
          "iopub.status.idle": "2021-09-02T17:58:43.061475Z",
          "shell.execute_reply.started": "2021-09-02T17:58:43.053442Z",
          "shell.execute_reply": "2021-09-02T17:58:43.060334Z"
        },
        "trusted": true
      },
      "source": [
        "df_test.to_csv(path+\"_test.csv\")"
      ],
      "execution_count": 38,
      "outputs": []
    },
    {
      "cell_type": "code",
      "metadata": {
        "id": "aRlpgnjy8k1n",
        "execution": {
          "iopub.status.busy": "2021-09-02T17:58:43.063087Z",
          "iopub.execute_input": "2021-09-02T17:58:43.063514Z",
          "iopub.status.idle": "2021-09-02T17:58:43.213269Z",
          "shell.execute_reply.started": "2021-09-02T17:58:43.063477Z",
          "shell.execute_reply": "2021-09-02T17:58:43.212310Z"
        },
        "trusted": true,
        "colab": {
          "base_uri": "https://localhost:8080/",
          "height": 295
        },
        "outputId": "2085c7c3-bad6-4049-b3e9-63c584f8b374"
      },
      "source": [
        "# plt.figure(12,12)\n",
        "plt.plot(col1,col8, label='argmax > 0.5')\n",
        "plt.plot(col1,col9, label='argmax < 0.5')\n",
        "\n",
        "plt.legend(loc='center left', bbox_to_anchor=(1, 0.5))\n",
        "plt.xlabel(\"epochs\")\n",
        "plt.ylabel(\"Testing data\")\n",
        "plt.title(\"On Testing set\")\n",
        "plt.show()\n",
        "\n"
      ],
      "execution_count": 39,
      "outputs": [
        {
          "output_type": "display_data",
          "data": {
            "image/png": "[encoded data removed]",
            "text/plain": [
              "<Figure size 432x288 with 1 Axes>"
            ]
          },
          "metadata": {
            "needs_background": "light"
          }
        }
      ]
    },
    {
      "cell_type": "code",
      "metadata": {
        "execution": {
          "iopub.status.busy": "2021-09-02T17:58:43.214595Z",
          "iopub.execute_input": "2021-09-02T17:58:43.214948Z",
          "iopub.status.idle": "2021-09-02T17:58:43.723255Z",
          "shell.execute_reply.started": "2021-09-02T17:58:43.214913Z",
          "shell.execute_reply": "2021-09-02T17:58:43.722314Z"
        },
        "trusted": true,
        "id": "C0XPoT7FuBR6",
        "colab": {
          "base_uri": "https://localhost:8080/",
          "height": 354
        },
        "outputId": "a363347e-48e0-4e7e-e262-2121c61c88b7"
      },
      "source": [
        "plt.figure(figsize=(6,5))\n",
        "plt.plot(col1,np.array(col10)/100, label =\"FTPT \")\n",
        "plt.plot(col1,np.array(col11)/100, label =\"FFPT \")\n",
        "plt.plot(col1,np.array(col12)/100, label =\"FTPF \")\n",
        "plt.plot(col1,np.array(col13)/100, label =\"FFPF \")\n",
        "plt.title(\"On Testing set\")\n",
        "\n",
        "#plt.legend(loc='center left', bbox_to_anchor=(1, 0.5))\n",
        "plt.xlabel(\"epochs\", fontsize=14, fontweight = 'bold')\n",
        "plt.ylabel(\"percentage test data\", fontsize=14, fontweight = 'bold')\n",
        "# plt.xlabel(\"epochs\")\n",
        "# plt.ylabel(\"training data\")\n",
        "plt.legend()\n",
        "\n",
        "#plt.legend(loc='center left', bbox_to_anchor=(1, 0.5))\n",
        "plt.xlabel(\"epochs\")\n",
        "# plt.ylabel(\"Testing data\")\n",
        "plt.savefig(path + \"_test.png\",bbox_inches=\"tight\")\n",
        "plt.savefig(path + \"_test.pdf\",bbox_inches=\"tight\")\n",
        "plt.grid()\n",
        "plt.show()"
      ],
      "execution_count": 40,
      "outputs": [
        {
          "output_type": "display_data",
          "data": {
            "image/png": "[encoded data removed]",
            "text/plain": [
              "<Figure size 432x360 with 1 Axes>"
            ]
          },
          "metadata": {
            "needs_background": "light"
          }
        }
      ]
    },
    {
      "cell_type": "code",
      "metadata": {
        "execution": {
          "iopub.status.busy": "2021-09-02T17:58:43.724687Z",
          "iopub.execute_input": "2021-09-02T17:58:43.725018Z",
          "iopub.status.idle": "2021-09-02T17:58:44.209534Z",
          "shell.execute_reply.started": "2021-09-02T17:58:43.724979Z",
          "shell.execute_reply": "2021-09-02T17:58:44.205910Z"
        },
        "trusted": true,
        "id": "5oh4o6NfuBR7",
        "colab": {
          "base_uri": "https://localhost:8080/",
          "height": 354
        },
        "outputId": "74f6124e-2733-46bc-af0c-5127ea81182c"
      },
      "source": [
        "plt.figure(figsize=(6,5))\n",
        "plt.plot(col1,np.array(col15)/10000, label =\"sparsity_val\")\n",
        "\n",
        "plt.title(\"On Testing set\")\n",
        "#plt.legend(loc='center left', bbox_to_anchor=(1, 0.5))\n",
        "plt.xlabel(\"epochs\", fontsize=14, fontweight = 'bold')\n",
        "plt.ylabel(\"average sparsity value\", fontsize=14, fontweight = 'bold')\n",
        "plt.grid()\n",
        "\n",
        "plt.savefig(path + \"sparsity_test.png\",bbox_inches=\"tight\")\n",
        "plt.savefig(path + \"sparsity_test.pdf\",bbox_inches=\"tight\")\n",
        "plt.show()"
      ],
      "execution_count": 41,
      "outputs": [
        {
          "output_type": "display_data",
          "data": {
            "image/png": "[encoded data removed]",
            "text/plain": [
              "<Figure size 432x360 with 1 Axes>"
            ]
          },
          "metadata": {
            "needs_background": "light"
          }
        }
      ]
    },
    {
      "cell_type": "code",
      "metadata": {
        "id": "mSE5PCw2tyNO",
        "execution": {
          "iopub.status.busy": "2021-09-02T17:58:44.210972Z",
          "iopub.execute_input": "2021-09-02T17:58:44.211306Z",
          "iopub.status.idle": "2021-09-02T17:59:23.203302Z",
          "shell.execute_reply.started": "2021-09-02T17:58:44.211268Z",
          "shell.execute_reply": "2021-09-02T17:59:23.201836Z"
        },
        "trusted": true,
        "colab": {
          "base_uri": "https://localhost:8080/"
        },
        "outputId": "c6de9dd3-e1e9-4a67-c413-9f4ff609ccfe"
      },
      "source": [
        "correct = 0\n",
        "total = 0\n",
        "count = 0\n",
        "flag = 1\n",
        "focus_true_pred_true =0\n",
        "focus_false_pred_true =0\n",
        "focus_true_pred_false =0\n",
        "focus_false_pred_false =0\n",
        "\n",
        "argmax_more_than_half = 0\n",
        "argmax_less_than_half =0\n",
        "sparse_val = 0\n",
        "focus_net.eval()\n",
        "classify.eval()\n",
        "with torch.no_grad():\n",
        "  for data in train_loader:\n",
        "    inputs, labels , fore_idx = data\n",
        "    inputs = inputs.double()\n",
        "    inputs, labels , fore_idx = inputs.to(\"cuda\"),labels.to(\"cuda\"), fore_idx.to(\"cuda\")\n",
        "    alphas, avg_images,_ = focus_net(inputs)\n",
        "    outputs = classify(avg_images)\n",
        "\n",
        "    _, predicted = torch.max(outputs.data, 1)\n",
        "    sparse_val += torch.sum(torch.sum(alphas>0.01,dim=1)).item()\n",
        "    for j in range(labels.size(0)):\n",
        "      count += 1\n",
        "      focus = torch.argmax(alphas[j])\n",
        "      if alphas[j][focus] >= 0.5 :\n",
        "        argmax_more_than_half += 1\n",
        "      else:\n",
        "        argmax_less_than_half += 1\n",
        "\n",
        "      if(focus == fore_idx[j] and predicted[j] == labels[j]):\n",
        "          focus_true_pred_true += 1\n",
        "      elif(focus != fore_idx[j] and predicted[j] == labels[j]):\n",
        "        focus_false_pred_true += 1\n",
        "      elif(focus == fore_idx[j] and predicted[j] != labels[j]):\n",
        "        focus_true_pred_false += 1\n",
        "      elif(focus != fore_idx[j] and predicted[j] != labels[j]):\n",
        "        focus_false_pred_false += 1\n",
        "\n",
        "    total += labels.size(0)\n",
        "    correct += (predicted == labels).sum().item()\n",
        "\n",
        "print('Accuracy of the network on the 30000 train images: %f %%' % ( 100 * correct / total))\n",
        "print(\"total correct\", correct)\n",
        "print(\"total train set images\", total)\n",
        "\n",
        "print(\"focus_true_pred_true %d =============> FTPT : %f %%\" % (focus_true_pred_true , (100 * focus_true_pred_true / total) ) )\n",
        "print(\"focus_false_pred_true %d =============> FFPT : %f %%\" % (focus_false_pred_true, (100 * focus_false_pred_true / total) ) )\n",
        "print(\"focus_true_pred_false %d =============> FTPF : %f %%\" %( focus_true_pred_false , ( 100 * focus_true_pred_false / total) ) )\n",
        "print(\"focus_false_pred_false %d =============> FFPF : %f %%\" % (focus_false_pred_false, ( 100 * focus_false_pred_false / total) ) )\n",
        "print(\"Sparsity_Value %d =============> AVG Sparsity : %f \" % (sparse_val,(sparse_val)/total))\n",
        "print(\"argmax_more_than_half ==================> \",argmax_more_than_half)\n",
        "print(\"argmax_less_than_half ==================> \",argmax_less_than_half)\n",
        "print(count)\n",
        "\n",
        "print(\"=\"*100)"
      ],
      "execution_count": 42,
      "outputs": [
        {
          "output_type": "stream",
          "name": "stdout",
          "text": [
            "Accuracy of the network on the 30000 train images: 99.470000 %\n",
            "total correct 29841\n",
            "total train set images 30000\n",
            "focus_true_pred_true 26571 =============> FTPT : 88.570000 %\n",
            "focus_false_pred_true 3270 =============> FFPT : 10.900000 %\n",
            "focus_true_pred_false 49 =============> FTPF : 0.163333 %\n",
            "focus_false_pred_false 110 =============> FFPF : 0.366667 %\n",
            "Sparsity_Value 132278 =============> AVG Sparsity : 4.409267 \n",
            "argmax_more_than_half ==================>  24682\n",
            "argmax_less_than_half ==================>  5318\n",
            "30000\n",
            "====================================================================================================\n"
          ]
        }
      ]
    },
    {
      "cell_type": "code",
      "metadata": {
        "id": "40tKBow5t1sF",
        "execution": {
          "iopub.status.busy": "2021-09-02T17:59:23.204486Z",
          "iopub.execute_input": "2021-09-02T17:59:23.204788Z",
          "iopub.status.idle": "2021-09-02T17:59:36.121564Z",
          "shell.execute_reply.started": "2021-09-02T17:59:23.204758Z",
          "shell.execute_reply": "2021-09-02T17:59:36.120787Z"
        },
        "trusted": true,
        "colab": {
          "base_uri": "https://localhost:8080/"
        },
        "outputId": "991f26ee-80ae-4435-f229-da13b3247055"
      },
      "source": [
        "correct = 0\n",
        "total = 0\n",
        "count = 0\n",
        "flag = 1\n",
        "focus_true_pred_true =0\n",
        "focus_false_pred_true =0\n",
        "focus_true_pred_false =0\n",
        "focus_false_pred_false =0\n",
        "\n",
        "argmax_more_than_half = 0\n",
        "argmax_less_than_half =0\n",
        "sparse_val = 0 \n",
        "focus_net.eval()\n",
        "classify.eval()\n",
        "with torch.no_grad():\n",
        "  for data in test_loader:\n",
        "    inputs, labels , fore_idx = data\n",
        "    inputs = inputs.double()\n",
        "    inputs, labels , fore_idx = inputs.to(\"cuda\"),labels.to(\"cuda\"), fore_idx.to(\"cuda\")\n",
        "    alphas, avg_images , _ = focus_net(inputs)\n",
        "    outputs = classify(avg_images)\n",
        "\n",
        "    _, predicted = torch.max(outputs.data, 1)\n",
        "    sparse_val += torch.sum(torch.sum(alphas>0.01,dim=1)).item()\n",
        "    for j in range(labels.size(0)):\n",
        "      focus = torch.argmax(alphas[j])\n",
        "      if alphas[j][focus] >= 0.5 :\n",
        "        argmax_more_than_half += 1\n",
        "      else:\n",
        "        argmax_less_than_half += 1\n",
        "\n",
        "      if(focus == fore_idx[j] and predicted[j] == labels[j]):\n",
        "          focus_true_pred_true += 1\n",
        "      elif(focus != fore_idx[j] and predicted[j] == labels[j]):\n",
        "        focus_false_pred_true += 1\n",
        "      elif(focus == fore_idx[j] and predicted[j] != labels[j]):\n",
        "        focus_true_pred_false += 1\n",
        "      elif(focus != fore_idx[j] and predicted[j] != labels[j]):\n",
        "        focus_false_pred_false += 1\n",
        "\n",
        "    total += labels.size(0)\n",
        "    correct += (predicted == labels).sum().item()\n",
        "\n",
        "print('Accuracy of the network on the 10000 test images: %f %%' % (\n",
        "    100 * correct / total))\n",
        "print(\"total correct\", correct)\n",
        "print(\"total test set images\", total)\n",
        "\n",
        "print(\"focus_true_pred_true %d =============> FTPT : %f %%\" % (focus_true_pred_true , (100 * focus_true_pred_true / total) ) )\n",
        "print(\"focus_false_pred_true %d =============> FFPT : %f %%\" % (focus_false_pred_true, (100 * focus_false_pred_true / total) ) )\n",
        "print(\"focus_true_pred_false %d =============> FTPF : %f %%\" %( focus_true_pred_false , ( 100 * focus_true_pred_false / total) ) )\n",
        "print(\"focus_false_pred_false %d =============> FFPF : %f %%\" % (focus_false_pred_false, ( 100 * focus_false_pred_false / total) ) )\n",
        "print(\"Sparsity_Value %d =============> AVG Sparsity : %f \" % (sparse_val,(sparse_val)/total))\n",
        "\n",
        "print(\"argmax_more_than_half ==================> \",argmax_more_than_half)\n",
        "print(\"argmax_less_than_half ==================> \",argmax_less_than_half)"
      ],
      "execution_count": 43,
      "outputs": [
        {
          "output_type": "stream",
          "name": "stdout",
          "text": [
            "Accuracy of the network on the 10000 test images: 94.640000 %\n",
            "total correct 9464\n",
            "total test set images 10000\n",
            "focus_true_pred_true 8455 =============> FTPT : 84.550000 %\n",
            "focus_false_pred_true 1009 =============> FFPT : 10.090000 %\n",
            "focus_true_pred_false 193 =============> FTPF : 1.930000 %\n",
            "focus_false_pred_false 343 =============> FFPF : 3.430000 %\n",
            "Sparsity_Value 45881 =============> AVG Sparsity : 4.588100 \n",
            "argmax_more_than_half ==================>  7967\n",
            "argmax_less_than_half ==================>  2033\n"
          ]
        }
      ]
    },
    {
      "cell_type": "code",
      "metadata": {
        "id": "iJEMJnUI9FP2",
        "execution": {
          "iopub.status.busy": "2021-09-02T17:59:36.122822Z",
          "iopub.execute_input": "2021-09-02T17:59:36.123216Z",
          "iopub.status.idle": "2021-09-02T18:00:08.142140Z",
          "shell.execute_reply.started": "2021-09-02T17:59:36.123169Z",
          "shell.execute_reply": "2021-09-02T18:00:08.141142Z"
        },
        "trusted": true,
        "colab": {
          "base_uri": "https://localhost:8080/"
        },
        "outputId": "72276431-916b-466c-cc7e-52c7043b9e8f"
      },
      "source": [
        "correct = 0\n",
        "total = 0\n",
        "focus_net.eval()\n",
        "classify.eval()\n",
        "with torch.no_grad():\n",
        "  for data in train_loader:\n",
        "    inputs, labels , fore_idx = data\n",
        "    inputs = inputs.double()\n",
        "    inputs, labels = inputs.to(\"cuda\"), labels.to(\"cuda\")\n",
        "    alphas, avg_images,_ = focus_net(inputs)\n",
        "    outputs = classify(avg_images)\n",
        "\n",
        "    _, predicted = torch.max(outputs.data, 1)\n",
        "\n",
        "    total += labels.size(0)\n",
        "    correct += (predicted == labels).sum().item()\n",
        "\n",
        "print('Accuracy of the network on the 30000 train images: %f %%' % ( 100 * correct / total))\n",
        "print(\"total correct\", correct)\n",
        "print(\"total train set images\", total)"
      ],
      "execution_count": 44,
      "outputs": [
        {
          "output_type": "stream",
          "name": "stdout",
          "text": [
            "Accuracy of the network on the 30000 train images: 99.450000 %\n",
            "total correct 29835\n",
            "total train set images 30000\n"
          ]
        }
      ]
    },
    {
      "cell_type": "code",
      "metadata": {
        "id": "an7qmNLB-Ilb",
        "execution": {
          "iopub.status.busy": "2021-09-02T18:00:08.143501Z",
          "iopub.execute_input": "2021-09-02T18:00:08.144024Z",
          "iopub.status.idle": "2021-09-02T18:00:18.755890Z",
          "shell.execute_reply.started": "2021-09-02T18:00:08.143982Z",
          "shell.execute_reply": "2021-09-02T18:00:18.754940Z"
        },
        "trusted": true,
        "colab": {
          "base_uri": "https://localhost:8080/"
        },
        "outputId": "11af98c3-1f43-4def-f6d8-03b76828fd15"
      },
      "source": [
        "correct = 0\n",
        "total = 0\n",
        "focus_net.eval()\n",
        "classify.eval()\n",
        "with torch.no_grad():\n",
        "  for data in test_loader:\n",
        "    inputs, labels , fore_idx = data\n",
        "    inputs = inputs.double()\n",
        "    inputs, labels = inputs.to(\"cuda\"), labels.to(\"cuda\")\n",
        "    alphas, avg_images,_ = focus_net(inputs)\n",
        "    outputs = classify(avg_images)\n",
        "\n",
        "    _, predicted = torch.max(outputs.data, 1)\n",
        "\n",
        "    total += labels.size(0)\n",
        "    correct += (predicted == labels).sum().item()\n",
        "\n",
        "print('Accuracy of the network on the 10000 test images: %f %%' % ( 100 * correct / total))\n",
        "print(\"total correct\", correct)\n",
        "print(\"total test set images\", total)"
      ],
      "execution_count": 45,
      "outputs": [
        {
          "output_type": "stream",
          "name": "stdout",
          "text": [
            "Accuracy of the network on the 10000 test images: 94.640000 %\n",
            "total correct 9464\n",
            "total test set images 10000\n"
          ]
        }
      ]
    },
    {
      "cell_type": "code",
      "metadata": {
        "id": "SKwqTXFjuBR_"
      },
      "source": [
        ""
      ],
      "execution_count": 45,
      "outputs": []
    }
  ]
}