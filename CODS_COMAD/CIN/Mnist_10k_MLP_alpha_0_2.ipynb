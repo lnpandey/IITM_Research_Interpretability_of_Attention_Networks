{
  "nbformat": 4,
  "nbformat_minor": 0,
  "metadata": {
    "colab": {
      "name": "Mnist_10k_MLP_alpha_0_2.ipynb",
      "provenance": [],
      "collapsed_sections": []
    },
    "kernelspec": {
      "name": "python3",
      "display_name": "Python 3"
    },
    "accelerator": "GPU",
    "widgets": {
      "application/vnd.jupyter.widget-state+json": {
        "49185afc4c094a688af102a5ff59aa28": {
          "model_module": "@jupyter-widgets/controls",
          "model_name": "HBoxModel",
          "model_module_version": "1.5.0",
          "state": {
            "_view_name": "HBoxView",
            "_dom_classes": [],
            "_model_name": "HBoxModel",
            "_view_module": "@jupyter-widgets/controls",
            "_model_module_version": "1.5.0",
            "_view_count": null,
            "_view_module_version": "1.5.0",
            "box_style": "",
            "layout": "IPY_MODEL_a055f6aad4ce4effbe417ff0385c2e5f",
            "_model_module": "@jupyter-widgets/controls",
            "children": [
              "IPY_MODEL_385da3c7ec1b4298b97c0ab07b8fc300",
              "IPY_MODEL_720723a792a344e1bbc407bfcd46080d"
            ]
          }
        },
        "a055f6aad4ce4effbe417ff0385c2e5f": {
          "model_module": "@jupyter-widgets/base",
          "model_name": "LayoutModel",
          "model_module_version": "1.2.0",
          "state": {
            "_view_name": "LayoutView",
            "grid_template_rows": null,
            "right": null,
            "justify_content": null,
            "_view_module": "@jupyter-widgets/base",
            "overflow": null,
            "_model_module_version": "1.2.0",
            "_view_count": null,
            "flex_flow": null,
            "width": null,
            "min_width": null,
            "border": null,
            "align_items": null,
            "bottom": null,
            "_model_module": "@jupyter-widgets/base",
            "top": null,
            "grid_column": null,
            "overflow_y": null,
            "overflow_x": null,
            "grid_auto_flow": null,
            "grid_area": null,
            "grid_template_columns": null,
            "flex": null,
            "_model_name": "LayoutModel",
            "justify_items": null,
            "grid_row": null,
            "max_height": null,
            "align_content": null,
            "visibility": null,
            "align_self": null,
            "height": null,
            "min_height": null,
            "padding": null,
            "grid_auto_rows": null,
            "grid_gap": null,
            "max_width": null,
            "order": null,
            "_view_module_version": "1.2.0",
            "grid_template_areas": null,
            "object_position": null,
            "object_fit": null,
            "grid_auto_columns": null,
            "margin": null,
            "display": null,
            "left": null
          }
        },
        "385da3c7ec1b4298b97c0ab07b8fc300": {
          "model_module": "@jupyter-widgets/controls",
          "model_name": "FloatProgressModel",
          "model_module_version": "1.5.0",
          "state": {
            "_view_name": "ProgressView",
            "style": "IPY_MODEL_9b9e2a2c56b84331b565bef6fe248457",
            "_dom_classes": [],
            "description": "",
            "_model_name": "FloatProgressModel",
            "bar_style": "success",
            "max": 9912422,
            "_view_module": "@jupyter-widgets/controls",
            "_model_module_version": "1.5.0",
            "value": 9912422,
            "_view_count": null,
            "_view_module_version": "1.5.0",
            "orientation": "horizontal",
            "min": 0,
            "description_tooltip": null,
            "_model_module": "@jupyter-widgets/controls",
            "layout": "IPY_MODEL_6c1c76c5de2d4da48113be393fc992f4"
          }
        },
        "720723a792a344e1bbc407bfcd46080d": {
          "model_module": "@jupyter-widgets/controls",
          "model_name": "HTMLModel",
          "model_module_version": "1.5.0",
          "state": {
            "_view_name": "HTMLView",
            "style": "IPY_MODEL_fcb7f1b15b02442cafe52132c30e91e5",
            "_dom_classes": [],
            "description": "",
            "_model_name": "HTMLModel",
            "placeholder": "​",
            "_view_module": "@jupyter-widgets/controls",
            "_model_module_version": "1.5.0",
            "value": " 9913344/? [00:03&lt;00:00, 2836481.81it/s]",
            "_view_count": null,
            "_view_module_version": "1.5.0",
            "description_tooltip": null,
            "_model_module": "@jupyter-widgets/controls",
            "layout": "IPY_MODEL_4f3e819ab35a410ab2f9c2daa23c4d89"
          }
        },
        "9b9e2a2c56b84331b565bef6fe248457": {
          "model_module": "@jupyter-widgets/controls",
          "model_name": "ProgressStyleModel",
          "model_module_version": "1.5.0",
          "state": {
            "_view_name": "StyleView",
            "_model_name": "ProgressStyleModel",
            "description_width": "initial",
            "_view_module": "@jupyter-widgets/base",
            "_model_module_version": "1.5.0",
            "_view_count": null,
            "_view_module_version": "1.2.0",
            "bar_color": null,
            "_model_module": "@jupyter-widgets/controls"
          }
        },
        "6c1c76c5de2d4da48113be393fc992f4": {
          "model_module": "@jupyter-widgets/base",
          "model_name": "LayoutModel",
          "model_module_version": "1.2.0",
          "state": {
            "_view_name": "LayoutView",
            "grid_template_rows": null,
            "right": null,
            "justify_content": null,
            "_view_module": "@jupyter-widgets/base",
            "overflow": null,
            "_model_module_version": "1.2.0",
            "_view_count": null,
            "flex_flow": null,
            "width": null,
            "min_width": null,
            "border": null,
            "align_items": null,
            "bottom": null,
            "_model_module": "@jupyter-widgets/base",
            "top": null,
            "grid_column": null,
            "overflow_y": null,
            "overflow_x": null,
            "grid_auto_flow": null,
            "grid_area": null,
            "grid_template_columns": null,
            "flex": null,
            "_model_name": "LayoutModel",
            "justify_items": null,
            "grid_row": null,
            "max_height": null,
            "align_content": null,
            "visibility": null,
            "align_self": null,
            "height": null,
            "min_height": null,
            "padding": null,
            "grid_auto_rows": null,
            "grid_gap": null,
            "max_width": null,
            "order": null,
            "_view_module_version": "1.2.0",
            "grid_template_areas": null,
            "object_position": null,
            "object_fit": null,
            "grid_auto_columns": null,
            "margin": null,
            "display": null,
            "left": null
          }
        },
        "fcb7f1b15b02442cafe52132c30e91e5": {
          "model_module": "@jupyter-widgets/controls",
          "model_name": "DescriptionStyleModel",
          "model_module_version": "1.5.0",
          "state": {
            "_view_name": "StyleView",
            "_model_name": "DescriptionStyleModel",
            "description_width": "",
            "_view_module": "@jupyter-widgets/base",
            "_model_module_version": "1.5.0",
            "_view_count": null,
            "_view_module_version": "1.2.0",
            "_model_module": "@jupyter-widgets/controls"
          }
        },
        "4f3e819ab35a410ab2f9c2daa23c4d89": {
          "model_module": "@jupyter-widgets/base",
          "model_name": "LayoutModel",
          "model_module_version": "1.2.0",
          "state": {
            "_view_name": "LayoutView",
            "grid_template_rows": null,
            "right": null,
            "justify_content": null,
            "_view_module": "@jupyter-widgets/base",
            "overflow": null,
            "_model_module_version": "1.2.0",
            "_view_count": null,
            "flex_flow": null,
            "width": null,
            "min_width": null,
            "border": null,
            "align_items": null,
            "bottom": null,
            "_model_module": "@jupyter-widgets/base",
            "top": null,
            "grid_column": null,
            "overflow_y": null,
            "overflow_x": null,
            "grid_auto_flow": null,
            "grid_area": null,
            "grid_template_columns": null,
            "flex": null,
            "_model_name": "LayoutModel",
            "justify_items": null,
            "grid_row": null,
            "max_height": null,
            "align_content": null,
            "visibility": null,
            "align_self": null,
            "height": null,
            "min_height": null,
            "padding": null,
            "grid_auto_rows": null,
            "grid_gap": null,
            "max_width": null,
            "order": null,
            "_view_module_version": "1.2.0",
            "grid_template_areas": null,
            "object_position": null,
            "object_fit": null,
            "grid_auto_columns": null,
            "margin": null,
            "display": null,
            "left": null
          }
        },
        "c6e0d0a5614049b8b7f37bb116a4bb09": {
          "model_module": "@jupyter-widgets/controls",
          "model_name": "HBoxModel",
          "model_module_version": "1.5.0",
          "state": {
            "_view_name": "HBoxView",
            "_dom_classes": [],
            "_model_name": "HBoxModel",
            "_view_module": "@jupyter-widgets/controls",
            "_model_module_version": "1.5.0",
            "_view_count": null,
            "_view_module_version": "1.5.0",
            "box_style": "",
            "layout": "IPY_MODEL_6b1f6006edab4cc0a20cabd82f0b9f90",
            "_model_module": "@jupyter-widgets/controls",
            "children": [
              "IPY_MODEL_e10519bc5bf74198882791c69240732f",
              "IPY_MODEL_fd79945daa084e98ad529921497a0784"
            ]
          }
        },
        "6b1f6006edab4cc0a20cabd82f0b9f90": {
          "model_module": "@jupyter-widgets/base",
          "model_name": "LayoutModel",
          "model_module_version": "1.2.0",
          "state": {
            "_view_name": "LayoutView",
            "grid_template_rows": null,
            "right": null,
            "justify_content": null,
            "_view_module": "@jupyter-widgets/base",
            "overflow": null,
            "_model_module_version": "1.2.0",
            "_view_count": null,
            "flex_flow": null,
            "width": null,
            "min_width": null,
            "border": null,
            "align_items": null,
            "bottom": null,
            "_model_module": "@jupyter-widgets/base",
            "top": null,
            "grid_column": null,
            "overflow_y": null,
            "overflow_x": null,
            "grid_auto_flow": null,
            "grid_area": null,
            "grid_template_columns": null,
            "flex": null,
            "_model_name": "LayoutModel",
            "justify_items": null,
            "grid_row": null,
            "max_height": null,
            "align_content": null,
            "visibility": null,
            "align_self": null,
            "height": null,
            "min_height": null,
            "padding": null,
            "grid_auto_rows": null,
            "grid_gap": null,
            "max_width": null,
            "order": null,
            "_view_module_version": "1.2.0",
            "grid_template_areas": null,
            "object_position": null,
            "object_fit": null,
            "grid_auto_columns": null,
            "margin": null,
            "display": null,
            "left": null
          }
        },
        "e10519bc5bf74198882791c69240732f": {
          "model_module": "@jupyter-widgets/controls",
          "model_name": "FloatProgressModel",
          "model_module_version": "1.5.0",
          "state": {
            "_view_name": "ProgressView",
            "style": "IPY_MODEL_9ca98bc9d3db40e3b1b251bbe70b9f6b",
            "_dom_classes": [],
            "description": "",
            "_model_name": "FloatProgressModel",
            "bar_style": "success",
            "max": 28881,
            "_view_module": "@jupyter-widgets/controls",
            "_model_module_version": "1.5.0",
            "value": 28881,
            "_view_count": null,
            "_view_module_version": "1.5.0",
            "orientation": "horizontal",
            "min": 0,
            "description_tooltip": null,
            "_model_module": "@jupyter-widgets/controls",
            "layout": "IPY_MODEL_1c9e50543c2f4209b3195200262ae3fd"
          }
        },
        "fd79945daa084e98ad529921497a0784": {
          "model_module": "@jupyter-widgets/controls",
          "model_name": "HTMLModel",
          "model_module_version": "1.5.0",
          "state": {
            "_view_name": "HTMLView",
            "style": "IPY_MODEL_2e5adace7cf94a4b854d0f1da51376d0",
            "_dom_classes": [],
            "description": "",
            "_model_name": "HTMLModel",
            "placeholder": "​",
            "_view_module": "@jupyter-widgets/controls",
            "_model_module_version": "1.5.0",
            "value": " 29696/? [00:00&lt;00:00, 38534.56it/s]",
            "_view_count": null,
            "_view_module_version": "1.5.0",
            "description_tooltip": null,
            "_model_module": "@jupyter-widgets/controls",
            "layout": "IPY_MODEL_db435025db6e4d3793d3a0603262a0f6"
          }
        },
        "9ca98bc9d3db40e3b1b251bbe70b9f6b": {
          "model_module": "@jupyter-widgets/controls",
          "model_name": "ProgressStyleModel",
          "model_module_version": "1.5.0",
          "state": {
            "_view_name": "StyleView",
            "_model_name": "ProgressStyleModel",
            "description_width": "initial",
            "_view_module": "@jupyter-widgets/base",
            "_model_module_version": "1.5.0",
            "_view_count": null,
            "_view_module_version": "1.2.0",
            "bar_color": null,
            "_model_module": "@jupyter-widgets/controls"
          }
        },
        "1c9e50543c2f4209b3195200262ae3fd": {
          "model_module": "@jupyter-widgets/base",
          "model_name": "LayoutModel",
          "model_module_version": "1.2.0",
          "state": {
            "_view_name": "LayoutView",
            "grid_template_rows": null,
            "right": null,
            "justify_content": null,
            "_view_module": "@jupyter-widgets/base",
            "overflow": null,
            "_model_module_version": "1.2.0",
            "_view_count": null,
            "flex_flow": null,
            "width": null,
            "min_width": null,
            "border": null,
            "align_items": null,
            "bottom": null,
            "_model_module": "@jupyter-widgets/base",
            "top": null,
            "grid_column": null,
            "overflow_y": null,
            "overflow_x": null,
            "grid_auto_flow": null,
            "grid_area": null,
            "grid_template_columns": null,
            "flex": null,
            "_model_name": "LayoutModel",
            "justify_items": null,
            "grid_row": null,
            "max_height": null,
            "align_content": null,
            "visibility": null,
            "align_self": null,
            "height": null,
            "min_height": null,
            "padding": null,
            "grid_auto_rows": null,
            "grid_gap": null,
            "max_width": null,
            "order": null,
            "_view_module_version": "1.2.0",
            "grid_template_areas": null,
            "object_position": null,
            "object_fit": null,
            "grid_auto_columns": null,
            "margin": null,
            "display": null,
            "left": null
          }
        },
        "2e5adace7cf94a4b854d0f1da51376d0": {
          "model_module": "@jupyter-widgets/controls",
          "model_name": "DescriptionStyleModel",
          "model_module_version": "1.5.0",
          "state": {
            "_view_name": "StyleView",
            "_model_name": "DescriptionStyleModel",
            "description_width": "",
            "_view_module": "@jupyter-widgets/base",
            "_model_module_version": "1.5.0",
            "_view_count": null,
            "_view_module_version": "1.2.0",
            "_model_module": "@jupyter-widgets/controls"
          }
        },
        "db435025db6e4d3793d3a0603262a0f6": {
          "model_module": "@jupyter-widgets/base",
          "model_name": "LayoutModel",
          "model_module_version": "1.2.0",
          "state": {
            "_view_name": "LayoutView",
            "grid_template_rows": null,
            "right": null,
            "justify_content": null,
            "_view_module": "@jupyter-widgets/base",
            "overflow": null,
            "_model_module_version": "1.2.0",
            "_view_count": null,
            "flex_flow": null,
            "width": null,
            "min_width": null,
            "border": null,
            "align_items": null,
            "bottom": null,
            "_model_module": "@jupyter-widgets/base",
            "top": null,
            "grid_column": null,
            "overflow_y": null,
            "overflow_x": null,
            "grid_auto_flow": null,
            "grid_area": null,
            "grid_template_columns": null,
            "flex": null,
            "_model_name": "LayoutModel",
            "justify_items": null,
            "grid_row": null,
            "max_height": null,
            "align_content": null,
            "visibility": null,
            "align_self": null,
            "height": null,
            "min_height": null,
            "padding": null,
            "grid_auto_rows": null,
            "grid_gap": null,
            "max_width": null,
            "order": null,
            "_view_module_version": "1.2.0",
            "grid_template_areas": null,
            "object_position": null,
            "object_fit": null,
            "grid_auto_columns": null,
            "margin": null,
            "display": null,
            "left": null
          }
        },
        "57670f53e55c46f0bc4962742af19921": {
          "model_module": "@jupyter-widgets/controls",
          "model_name": "HBoxModel",
          "model_module_version": "1.5.0",
          "state": {
            "_view_name": "HBoxView",
            "_dom_classes": [],
            "_model_name": "HBoxModel",
            "_view_module": "@jupyter-widgets/controls",
            "_model_module_version": "1.5.0",
            "_view_count": null,
            "_view_module_version": "1.5.0",
            "box_style": "",
            "layout": "IPY_MODEL_bbb620cf757448e79c7684982b5bb774",
            "_model_module": "@jupyter-widgets/controls",
            "children": [
              "IPY_MODEL_3167942cd11d41f899a664a0b1dc013c",
              "IPY_MODEL_52fa5e5275db49ee8ec3b67df1222715"
            ]
          }
        },
        "bbb620cf757448e79c7684982b5bb774": {
          "model_module": "@jupyter-widgets/base",
          "model_name": "LayoutModel",
          "model_module_version": "1.2.0",
          "state": {
            "_view_name": "LayoutView",
            "grid_template_rows": null,
            "right": null,
            "justify_content": null,
            "_view_module": "@jupyter-widgets/base",
            "overflow": null,
            "_model_module_version": "1.2.0",
            "_view_count": null,
            "flex_flow": null,
            "width": null,
            "min_width": null,
            "border": null,
            "align_items": null,
            "bottom": null,
            "_model_module": "@jupyter-widgets/base",
            "top": null,
            "grid_column": null,
            "overflow_y": null,
            "overflow_x": null,
            "grid_auto_flow": null,
            "grid_area": null,
            "grid_template_columns": null,
            "flex": null,
            "_model_name": "LayoutModel",
            "justify_items": null,
            "grid_row": null,
            "max_height": null,
            "align_content": null,
            "visibility": null,
            "align_self": null,
            "height": null,
            "min_height": null,
            "padding": null,
            "grid_auto_rows": null,
            "grid_gap": null,
            "max_width": null,
            "order": null,
            "_view_module_version": "1.2.0",
            "grid_template_areas": null,
            "object_position": null,
            "object_fit": null,
            "grid_auto_columns": null,
            "margin": null,
            "display": null,
            "left": null
          }
        },
        "3167942cd11d41f899a664a0b1dc013c": {
          "model_module": "@jupyter-widgets/controls",
          "model_name": "FloatProgressModel",
          "model_module_version": "1.5.0",
          "state": {
            "_view_name": "ProgressView",
            "style": "IPY_MODEL_9232ed7d851f4db697c5980272bedb68",
            "_dom_classes": [],
            "description": "",
            "_model_name": "FloatProgressModel",
            "bar_style": "success",
            "max": 1648877,
            "_view_module": "@jupyter-widgets/controls",
            "_model_module_version": "1.5.0",
            "value": 1648877,
            "_view_count": null,
            "_view_module_version": "1.5.0",
            "orientation": "horizontal",
            "min": 0,
            "description_tooltip": null,
            "_model_module": "@jupyter-widgets/controls",
            "layout": "IPY_MODEL_8151e951f47245658b6db11fc2cfd9fb"
          }
        },
        "52fa5e5275db49ee8ec3b67df1222715": {
          "model_module": "@jupyter-widgets/controls",
          "model_name": "HTMLModel",
          "model_module_version": "1.5.0",
          "state": {
            "_view_name": "HTMLView",
            "style": "IPY_MODEL_49fa2b7854c5476ca9462d674446bb44",
            "_dom_classes": [],
            "description": "",
            "_model_name": "HTMLModel",
            "placeholder": "​",
            "_view_module": "@jupyter-widgets/controls",
            "_model_module_version": "1.5.0",
            "value": " 1649664/? [00:01&lt;00:00, 1648145.65it/s]",
            "_view_count": null,
            "_view_module_version": "1.5.0",
            "description_tooltip": null,
            "_model_module": "@jupyter-widgets/controls",
            "layout": "IPY_MODEL_442c90dfe6ab434eacbd9b756b48e63d"
          }
        },
        "9232ed7d851f4db697c5980272bedb68": {
          "model_module": "@jupyter-widgets/controls",
          "model_name": "ProgressStyleModel",
          "model_module_version": "1.5.0",
          "state": {
            "_view_name": "StyleView",
            "_model_name": "ProgressStyleModel",
            "description_width": "initial",
            "_view_module": "@jupyter-widgets/base",
            "_model_module_version": "1.5.0",
            "_view_count": null,
            "_view_module_version": "1.2.0",
            "bar_color": null,
            "_model_module": "@jupyter-widgets/controls"
          }
        },
        "8151e951f47245658b6db11fc2cfd9fb": {
          "model_module": "@jupyter-widgets/base",
          "model_name": "LayoutModel",
          "model_module_version": "1.2.0",
          "state": {
            "_view_name": "LayoutView",
            "grid_template_rows": null,
            "right": null,
            "justify_content": null,
            "_view_module": "@jupyter-widgets/base",
            "overflow": null,
            "_model_module_version": "1.2.0",
            "_view_count": null,
            "flex_flow": null,
            "width": null,
            "min_width": null,
            "border": null,
            "align_items": null,
            "bottom": null,
            "_model_module": "@jupyter-widgets/base",
            "top": null,
            "grid_column": null,
            "overflow_y": null,
            "overflow_x": null,
            "grid_auto_flow": null,
            "grid_area": null,
            "grid_template_columns": null,
            "flex": null,
            "_model_name": "LayoutModel",
            "justify_items": null,
            "grid_row": null,
            "max_height": null,
            "align_content": null,
            "visibility": null,
            "align_self": null,
            "height": null,
            "min_height": null,
            "padding": null,
            "grid_auto_rows": null,
            "grid_gap": null,
            "max_width": null,
            "order": null,
            "_view_module_version": "1.2.0",
            "grid_template_areas": null,
            "object_position": null,
            "object_fit": null,
            "grid_auto_columns": null,
            "margin": null,
            "display": null,
            "left": null
          }
        },
        "49fa2b7854c5476ca9462d674446bb44": {
          "model_module": "@jupyter-widgets/controls",
          "model_name": "DescriptionStyleModel",
          "model_module_version": "1.5.0",
          "state": {
            "_view_name": "StyleView",
            "_model_name": "DescriptionStyleModel",
            "description_width": "",
            "_view_module": "@jupyter-widgets/base",
            "_model_module_version": "1.5.0",
            "_view_count": null,
            "_view_module_version": "1.2.0",
            "_model_module": "@jupyter-widgets/controls"
          }
        },
        "442c90dfe6ab434eacbd9b756b48e63d": {
          "model_module": "@jupyter-widgets/base",
          "model_name": "LayoutModel",
          "model_module_version": "1.2.0",
          "state": {
            "_view_name": "LayoutView",
            "grid_template_rows": null,
            "right": null,
            "justify_content": null,
            "_view_module": "@jupyter-widgets/base",
            "overflow": null,
            "_model_module_version": "1.2.0",
            "_view_count": null,
            "flex_flow": null,
            "width": null,
            "min_width": null,
            "border": null,
            "align_items": null,
            "bottom": null,
            "_model_module": "@jupyter-widgets/base",
            "top": null,
            "grid_column": null,
            "overflow_y": null,
            "overflow_x": null,
            "grid_auto_flow": null,
            "grid_area": null,
            "grid_template_columns": null,
            "flex": null,
            "_model_name": "LayoutModel",
            "justify_items": null,
            "grid_row": null,
            "max_height": null,
            "align_content": null,
            "visibility": null,
            "align_self": null,
            "height": null,
            "min_height": null,
            "padding": null,
            "grid_auto_rows": null,
            "grid_gap": null,
            "max_width": null,
            "order": null,
            "_view_module_version": "1.2.0",
            "grid_template_areas": null,
            "object_position": null,
            "object_fit": null,
            "grid_auto_columns": null,
            "margin": null,
            "display": null,
            "left": null
          }
        },
        "177be999285d46e9b2de6596deb3596b": {
          "model_module": "@jupyter-widgets/controls",
          "model_name": "HBoxModel",
          "model_module_version": "1.5.0",
          "state": {
            "_view_name": "HBoxView",
            "_dom_classes": [],
            "_model_name": "HBoxModel",
            "_view_module": "@jupyter-widgets/controls",
            "_model_module_version": "1.5.0",
            "_view_count": null,
            "_view_module_version": "1.5.0",
            "box_style": "",
            "layout": "IPY_MODEL_a404481661b2493695e6562341939387",
            "_model_module": "@jupyter-widgets/controls",
            "children": [
              "IPY_MODEL_0be4ede011c748019e5384f8bab13fff",
              "IPY_MODEL_0823013fcc3b4667b64203c85b1147d8"
            ]
          }
        },
        "a404481661b2493695e6562341939387": {
          "model_module": "@jupyter-widgets/base",
          "model_name": "LayoutModel",
          "model_module_version": "1.2.0",
          "state": {
            "_view_name": "LayoutView",
            "grid_template_rows": null,
            "right": null,
            "justify_content": null,
            "_view_module": "@jupyter-widgets/base",
            "overflow": null,
            "_model_module_version": "1.2.0",
            "_view_count": null,
            "flex_flow": null,
            "width": null,
            "min_width": null,
            "border": null,
            "align_items": null,
            "bottom": null,
            "_model_module": "@jupyter-widgets/base",
            "top": null,
            "grid_column": null,
            "overflow_y": null,
            "overflow_x": null,
            "grid_auto_flow": null,
            "grid_area": null,
            "grid_template_columns": null,
            "flex": null,
            "_model_name": "LayoutModel",
            "justify_items": null,
            "grid_row": null,
            "max_height": null,
            "align_content": null,
            "visibility": null,
            "align_self": null,
            "height": null,
            "min_height": null,
            "padding": null,
            "grid_auto_rows": null,
            "grid_gap": null,
            "max_width": null,
            "order": null,
            "_view_module_version": "1.2.0",
            "grid_template_areas": null,
            "object_position": null,
            "object_fit": null,
            "grid_auto_columns": null,
            "margin": null,
            "display": null,
            "left": null
          }
        },
        "0be4ede011c748019e5384f8bab13fff": {
          "model_module": "@jupyter-widgets/controls",
          "model_name": "FloatProgressModel",
          "model_module_version": "1.5.0",
          "state": {
            "_view_name": "ProgressView",
            "style": "IPY_MODEL_983b42ef02264ee2918f10884ef2fb21",
            "_dom_classes": [],
            "description": "",
            "_model_name": "FloatProgressModel",
            "bar_style": "success",
            "max": 4542,
            "_view_module": "@jupyter-widgets/controls",
            "_model_module_version": "1.5.0",
            "value": 4542,
            "_view_count": null,
            "_view_module_version": "1.5.0",
            "orientation": "horizontal",
            "min": 0,
            "description_tooltip": null,
            "_model_module": "@jupyter-widgets/controls",
            "layout": "IPY_MODEL_00258d0010a54d56bcad9b039528b64f"
          }
        },
        "0823013fcc3b4667b64203c85b1147d8": {
          "model_module": "@jupyter-widgets/controls",
          "model_name": "HTMLModel",
          "model_module_version": "1.5.0",
          "state": {
            "_view_name": "HTMLView",
            "style": "IPY_MODEL_688e3baa90b049578cca93f27fbdf7d7",
            "_dom_classes": [],
            "description": "",
            "_model_name": "HTMLModel",
            "placeholder": "​",
            "_view_module": "@jupyter-widgets/controls",
            "_model_module_version": "1.5.0",
            "value": " 5120/? [00:00&lt;00:00, 32107.10it/s]",
            "_view_count": null,
            "_view_module_version": "1.5.0",
            "description_tooltip": null,
            "_model_module": "@jupyter-widgets/controls",
            "layout": "IPY_MODEL_b19da0ec97f242788d89742cda48096c"
          }
        },
        "983b42ef02264ee2918f10884ef2fb21": {
          "model_module": "@jupyter-widgets/controls",
          "model_name": "ProgressStyleModel",
          "model_module_version": "1.5.0",
          "state": {
            "_view_name": "StyleView",
            "_model_name": "ProgressStyleModel",
            "description_width": "initial",
            "_view_module": "@jupyter-widgets/base",
            "_model_module_version": "1.5.0",
            "_view_count": null,
            "_view_module_version": "1.2.0",
            "bar_color": null,
            "_model_module": "@jupyter-widgets/controls"
          }
        },
        "00258d0010a54d56bcad9b039528b64f": {
          "model_module": "@jupyter-widgets/base",
          "model_name": "LayoutModel",
          "model_module_version": "1.2.0",
          "state": {
            "_view_name": "LayoutView",
            "grid_template_rows": null,
            "right": null,
            "justify_content": null,
            "_view_module": "@jupyter-widgets/base",
            "overflow": null,
            "_model_module_version": "1.2.0",
            "_view_count": null,
            "flex_flow": null,
            "width": null,
            "min_width": null,
            "border": null,
            "align_items": null,
            "bottom": null,
            "_model_module": "@jupyter-widgets/base",
            "top": null,
            "grid_column": null,
            "overflow_y": null,
            "overflow_x": null,
            "grid_auto_flow": null,
            "grid_area": null,
            "grid_template_columns": null,
            "flex": null,
            "_model_name": "LayoutModel",
            "justify_items": null,
            "grid_row": null,
            "max_height": null,
            "align_content": null,
            "visibility": null,
            "align_self": null,
            "height": null,
            "min_height": null,
            "padding": null,
            "grid_auto_rows": null,
            "grid_gap": null,
            "max_width": null,
            "order": null,
            "_view_module_version": "1.2.0",
            "grid_template_areas": null,
            "object_position": null,
            "object_fit": null,
            "grid_auto_columns": null,
            "margin": null,
            "display": null,
            "left": null
          }
        },
        "688e3baa90b049578cca93f27fbdf7d7": {
          "model_module": "@jupyter-widgets/controls",
          "model_name": "DescriptionStyleModel",
          "model_module_version": "1.5.0",
          "state": {
            "_view_name": "StyleView",
            "_model_name": "DescriptionStyleModel",
            "description_width": "",
            "_view_module": "@jupyter-widgets/base",
            "_model_module_version": "1.5.0",
            "_view_count": null,
            "_view_module_version": "1.2.0",
            "_model_module": "@jupyter-widgets/controls"
          }
        },
        "b19da0ec97f242788d89742cda48096c": {
          "model_module": "@jupyter-widgets/base",
          "model_name": "LayoutModel",
          "model_module_version": "1.2.0",
          "state": {
            "_view_name": "LayoutView",
            "grid_template_rows": null,
            "right": null,
            "justify_content": null,
            "_view_module": "@jupyter-widgets/base",
            "overflow": null,
            "_model_module_version": "1.2.0",
            "_view_count": null,
            "flex_flow": null,
            "width": null,
            "min_width": null,
            "border": null,
            "align_items": null,
            "bottom": null,
            "_model_module": "@jupyter-widgets/base",
            "top": null,
            "grid_column": null,
            "overflow_y": null,
            "overflow_x": null,
            "grid_auto_flow": null,
            "grid_area": null,
            "grid_template_columns": null,
            "flex": null,
            "_model_name": "LayoutModel",
            "justify_items": null,
            "grid_row": null,
            "max_height": null,
            "align_content": null,
            "visibility": null,
            "align_self": null,
            "height": null,
            "min_height": null,
            "padding": null,
            "grid_auto_rows": null,
            "grid_gap": null,
            "max_width": null,
            "order": null,
            "_view_module_version": "1.2.0",
            "grid_template_areas": null,
            "object_position": null,
            "object_fit": null,
            "grid_auto_columns": null,
            "margin": null,
            "display": null,
            "left": null
          }
        }
      }
    }
  },
  "cells": [
    {
      "cell_type": "code",
      "metadata": {
        "id": "w_X--pBaZ3sk"
      },
      "source": [
        "import torch.nn as nn\n",
        "import torch.nn.functional as F\n",
        "\n",
        "import pandas as pd\n",
        "import numpy as np\n",
        "import matplotlib.pyplot as plt\n",
        "\n",
        "import torch\n",
        "import torchvision\n",
        "import torchvision.transforms as transforms\n",
        "from torch.utils.data import Dataset, DataLoader\n",
        "from torchvision import transforms, utils\n",
        "\n",
        "from matplotlib import pyplot as plt\n",
        "from numpy import linalg as LA\n",
        "import copy\n",
        "import torch.optim as optim\n",
        "\n",
        "# Ignore warnings\n",
        "import warnings\n",
        "warnings.filterwarnings(\"ignore\")"
      ],
      "execution_count": 1,
      "outputs": []
    },
    {
      "cell_type": "code",
      "metadata": {
        "id": "giKZEoj0a1KY",
        "colab": {
          "base_uri": "https://localhost:8080/",
          "height": 706,
          "referenced_widgets": [
            "49185afc4c094a688af102a5ff59aa28",
            "a055f6aad4ce4effbe417ff0385c2e5f",
            "385da3c7ec1b4298b97c0ab07b8fc300",
            "720723a792a344e1bbc407bfcd46080d",
            "9b9e2a2c56b84331b565bef6fe248457",
            "6c1c76c5de2d4da48113be393fc992f4",
            "fcb7f1b15b02442cafe52132c30e91e5",
            "4f3e819ab35a410ab2f9c2daa23c4d89",
            "c6e0d0a5614049b8b7f37bb116a4bb09",
            "6b1f6006edab4cc0a20cabd82f0b9f90",
            "e10519bc5bf74198882791c69240732f",
            "fd79945daa084e98ad529921497a0784",
            "9ca98bc9d3db40e3b1b251bbe70b9f6b",
            "1c9e50543c2f4209b3195200262ae3fd",
            "2e5adace7cf94a4b854d0f1da51376d0",
            "db435025db6e4d3793d3a0603262a0f6",
            "57670f53e55c46f0bc4962742af19921",
            "bbb620cf757448e79c7684982b5bb774",
            "3167942cd11d41f899a664a0b1dc013c",
            "52fa5e5275db49ee8ec3b67df1222715",
            "9232ed7d851f4db697c5980272bedb68",
            "8151e951f47245658b6db11fc2cfd9fb",
            "49fa2b7854c5476ca9462d674446bb44",
            "442c90dfe6ab434eacbd9b756b48e63d",
            "177be999285d46e9b2de6596deb3596b",
            "a404481661b2493695e6562341939387",
            "0be4ede011c748019e5384f8bab13fff",
            "0823013fcc3b4667b64203c85b1147d8",
            "983b42ef02264ee2918f10884ef2fb21",
            "00258d0010a54d56bcad9b039528b64f",
            "688e3baa90b049578cca93f27fbdf7d7",
            "b19da0ec97f242788d89742cda48096c"
          ]
        },
        "outputId": "31fcfca5-9787-4384-8636-75a04fee745d"
      },
      "source": [
        "transform = transforms.Compose(\n",
        "    [transforms.ToTensor(),\n",
        "     transforms.Normalize((0.5), (0.5))])\n",
        "\n",
        "trainset = torchvision.datasets.MNIST(root='./data', train=True, download=True, transform=transform)\n",
        "\n",
        "\n",
        "testset = torchvision.datasets.MNIST(root='./data', train=False, download=True, transform=transform)"
      ],
      "execution_count": 2,
      "outputs": [
        {
          "output_type": "stream",
          "text": [
            "Downloading http://yann.lecun.com/exdb/mnist/train-images-idx3-ubyte.gz\n",
            "Downloading http://yann.lecun.com/exdb/mnist/train-images-idx3-ubyte.gz to ./data/MNIST/raw/train-images-idx3-ubyte.gz\n",
            "Failed to download (trying next):\n",
            "HTTP Error 503: Service Unavailable\n",
            "\n",
            "Downloading https://ossci-datasets.s3.amazonaws.com/mnist/train-images-idx3-ubyte.gz\n",
            "Downloading https://ossci-datasets.s3.amazonaws.com/mnist/train-images-idx3-ubyte.gz to ./data/MNIST/raw/train-images-idx3-ubyte.gz\n"
          ],
          "name": "stdout"
        },
        {
          "output_type": "display_data",
          "data": {
            "application/vnd.jupyter.widget-view+json": {
              "model_id": "49185afc4c094a688af102a5ff59aa28",
              "version_minor": 0,
              "version_major": 2
            },
            "text/plain": [
              "HBox(children=(FloatProgress(value=0.0, max=9912422.0), HTML(value='')))"
            ]
          },
          "metadata": {
            "tags": []
          }
        },
        {
          "output_type": "stream",
          "text": [
            "\n",
            "Extracting ./data/MNIST/raw/train-images-idx3-ubyte.gz to ./data/MNIST/raw\n",
            "\n",
            "Downloading http://yann.lecun.com/exdb/mnist/train-labels-idx1-ubyte.gz\n",
            "Downloading http://yann.lecun.com/exdb/mnist/train-labels-idx1-ubyte.gz to ./data/MNIST/raw/train-labels-idx1-ubyte.gz\n"
          ],
          "name": "stdout"
        },
        {
          "output_type": "display_data",
          "data": {
            "application/vnd.jupyter.widget-view+json": {
              "model_id": "c6e0d0a5614049b8b7f37bb116a4bb09",
              "version_minor": 0,
              "version_major": 2
            },
            "text/plain": [
              "HBox(children=(FloatProgress(value=0.0, max=28881.0), HTML(value='')))"
            ]
          },
          "metadata": {
            "tags": []
          }
        },
        {
          "output_type": "stream",
          "text": [
            "\n",
            "Extracting ./data/MNIST/raw/train-labels-idx1-ubyte.gz to ./data/MNIST/raw\n",
            "\n",
            "Downloading http://yann.lecun.com/exdb/mnist/t10k-images-idx3-ubyte.gz\n",
            "Downloading http://yann.lecun.com/exdb/mnist/t10k-images-idx3-ubyte.gz to ./data/MNIST/raw/t10k-images-idx3-ubyte.gz\n",
            "Failed to download (trying next):\n",
            "HTTP Error 503: Service Unavailable\n",
            "\n",
            "Downloading https://ossci-datasets.s3.amazonaws.com/mnist/t10k-images-idx3-ubyte.gz\n",
            "Downloading https://ossci-datasets.s3.amazonaws.com/mnist/t10k-images-idx3-ubyte.gz to ./data/MNIST/raw/t10k-images-idx3-ubyte.gz\n"
          ],
          "name": "stdout"
        },
        {
          "output_type": "display_data",
          "data": {
            "application/vnd.jupyter.widget-view+json": {
              "model_id": "57670f53e55c46f0bc4962742af19921",
              "version_minor": 0,
              "version_major": 2
            },
            "text/plain": [
              "HBox(children=(FloatProgress(value=0.0, max=1648877.0), HTML(value='')))"
            ]
          },
          "metadata": {
            "tags": []
          }
        },
        {
          "output_type": "stream",
          "text": [
            "\n",
            "Extracting ./data/MNIST/raw/t10k-images-idx3-ubyte.gz to ./data/MNIST/raw\n",
            "\n",
            "Downloading http://yann.lecun.com/exdb/mnist/t10k-labels-idx1-ubyte.gz\n",
            "Downloading http://yann.lecun.com/exdb/mnist/t10k-labels-idx1-ubyte.gz to ./data/MNIST/raw/t10k-labels-idx1-ubyte.gz\n"
          ],
          "name": "stdout"
        },
        {
          "output_type": "display_data",
          "data": {
            "application/vnd.jupyter.widget-view+json": {
              "model_id": "177be999285d46e9b2de6596deb3596b",
              "version_minor": 0,
              "version_major": 2
            },
            "text/plain": [
              "HBox(children=(FloatProgress(value=0.0, max=4542.0), HTML(value='')))"
            ]
          },
          "metadata": {
            "tags": []
          }
        },
        {
          "output_type": "stream",
          "text": [
            "\n",
            "Extracting ./data/MNIST/raw/t10k-labels-idx1-ubyte.gz to ./data/MNIST/raw\n",
            "\n"
          ],
          "name": "stdout"
        }
      ]
    },
    {
      "cell_type": "code",
      "metadata": {
        "id": "GbqCx5Bca2Eh",
        "colab": {
          "base_uri": "https://localhost:8080/"
        },
        "outputId": "d4517d25-9596-40bf-a6f1-148911e62247"
      },
      "source": [
        "classes = ('zero','one','two','three','four','five','six','seven','eight','nine')\n",
        "\n",
        "foreground_classes = {'zero','one'}\n",
        "fg_used = '01'\n",
        "fg1, fg2 = 0,1\n",
        "\n",
        "\n",
        "all_classes = {'zero','one','two','three','four','five','six','seven','eight','nine'}\n",
        "background_classes = all_classes - foreground_classes\n",
        "background_classes"
      ],
      "execution_count": 3,
      "outputs": [
        {
          "output_type": "execute_result",
          "data": {
            "text/plain": [
              "{'eight', 'five', 'four', 'nine', 'seven', 'six', 'three', 'two'}"
            ]
          },
          "metadata": {
            "tags": []
          },
          "execution_count": 3
        }
      ]
    },
    {
      "cell_type": "code",
      "metadata": {
        "id": "AqOQPp7nd64x"
      },
      "source": [
        "trainloader = torch.utils.data.DataLoader(trainset, batch_size=10, shuffle = False)\n",
        "testloader = torch.utils.data.DataLoader(testset, batch_size=10, shuffle = False)"
      ],
      "execution_count": 4,
      "outputs": []
    },
    {
      "cell_type": "code",
      "metadata": {
        "id": "ACeFPtf1eCEe"
      },
      "source": [
        "dataiter = iter(trainloader)\n",
        "background_data=[]\n",
        "background_label=[]\n",
        "foreground_data=[]\n",
        "foreground_label=[]\n",
        "batch_size=10\n",
        "\n",
        "for i in range(6000):\n",
        "  images, labels = dataiter.next()\n",
        "  for j in range(batch_size):\n",
        "    if(classes[labels[j]] in background_classes):\n",
        "      img = images[j].tolist()\n",
        "      background_data.append(img)\n",
        "      background_label.append(labels[j])\n",
        "    else:\n",
        "      img = images[j].tolist()\n",
        "      foreground_data.append(img)\n",
        "      foreground_label.append(labels[j])\n",
        "            \n",
        "foreground_data = torch.tensor(foreground_data)\n",
        "foreground_label = torch.tensor(foreground_label)\n",
        "background_data = torch.tensor(background_data)\n",
        "background_label = torch.tensor(background_label)"
      ],
      "execution_count": 5,
      "outputs": []
    },
    {
      "cell_type": "code",
      "metadata": {
        "id": "YHShWR-Oh8Lf"
      },
      "source": [
        "def imshow(img):\n",
        "  img = img / 2 + 0.5     # unnormalize\n",
        "  npimg = img#.numpy()\n",
        "  plt.imshow(np.reshape(npimg, (28,28)))\n",
        "  plt.show()"
      ],
      "execution_count": 6,
      "outputs": []
    },
    {
      "cell_type": "code",
      "metadata": {
        "colab": {
          "base_uri": "https://localhost:8080/"
        },
        "id": "SjRlj-MPidSx",
        "outputId": "6ea29e1a-6e71-4b77-b228-7fcdc40ef1b0"
      },
      "source": [
        "foreground_data.shape, foreground_label.shape, background_data.shape, background_label.shape"
      ],
      "execution_count": 7,
      "outputs": [
        {
          "output_type": "execute_result",
          "data": {
            "text/plain": [
              "(torch.Size([12665, 1, 28, 28]),\n",
              " torch.Size([12665]),\n",
              " torch.Size([47335, 1, 28, 28]),\n",
              " torch.Size([47335]))"
            ]
          },
          "metadata": {
            "tags": []
          },
          "execution_count": 7
        }
      ]
    },
    {
      "cell_type": "code",
      "metadata": {
        "colab": {
          "base_uri": "https://localhost:8080/",
          "height": 265
        },
        "id": "SaEMipIH9L5S",
        "outputId": "bb4f7034-28da-4277-cc9d-0c944768d906"
      },
      "source": [
        "imshow(foreground_data[0])"
      ],
      "execution_count": 8,
      "outputs": [
        {
          "output_type": "display_data",
          "data": {
            "image/png": "[encoded data removed]",
            "text/plain": [
              "<Figure size 432x288 with 1 Axes>"
            ]
          },
          "metadata": {
            "tags": [],
            "needs_background": "light"
          }
        }
      ]
    },
    {
      "cell_type": "code",
      "metadata": {
        "id": "kW1PGzUL7kXA"
      },
      "source": [
        "mean_bg = torch.mean(background_data, dim=0, keepdims= True)\n",
        "std_bg, _ = torch.max(background_data, dim=0, keepdims= True)"
      ],
      "execution_count": 9,
      "outputs": []
    },
    {
      "cell_type": "code",
      "metadata": {
        "colab": {
          "base_uri": "https://localhost:8080/"
        },
        "id": "s8FwUW-l7kUm",
        "outputId": "aa7913e8-4880-4474-af2b-2757ceb99c59"
      },
      "source": [
        "mean_bg.shape, std_bg.shape"
      ],
      "execution_count": 10,
      "outputs": [
        {
          "output_type": "execute_result",
          "data": {
            "text/plain": [
              "(torch.Size([1, 1, 28, 28]), torch.Size([1, 1, 28, 28]))"
            ]
          },
          "metadata": {
            "tags": []
          },
          "execution_count": 10
        }
      ]
    },
    {
      "cell_type": "code",
      "metadata": {
        "id": "-aM-NeCP7uo2"
      },
      "source": [
        "foreground_data = (foreground_data - mean_bg) / std_bg\n",
        "background_data = (background_data - mean_bg) / torch.abs(std_bg)"
      ],
      "execution_count": 11,
      "outputs": []
    },
    {
      "cell_type": "code",
      "metadata": {
        "colab": {
          "base_uri": "https://localhost:8080/"
        },
        "id": "qLaRFBGZ7umW",
        "outputId": "8335cb93-e42b-4a11-a352-f36ea486db7b"
      },
      "source": [
        "foreground_data.shape, foreground_label.shape, background_data.shape, background_label.shape"
      ],
      "execution_count": 12,
      "outputs": [
        {
          "output_type": "execute_result",
          "data": {
            "text/plain": [
              "(torch.Size([12665, 1, 28, 28]),\n",
              " torch.Size([12665]),\n",
              " torch.Size([47335, 1, 28, 28]),\n",
              " torch.Size([47335]))"
            ]
          },
          "metadata": {
            "tags": []
          },
          "execution_count": 12
        }
      ]
    },
    {
      "cell_type": "code",
      "metadata": {
        "colab": {
          "base_uri": "https://localhost:8080/"
        },
        "id": "HAedI_5W7uje",
        "outputId": "e7c6f72d-af05-4c0d-a915-1c059b33a397"
      },
      "source": [
        "torch.sum(torch.isnan(foreground_data)), torch.sum(torch.isnan(background_data))"
      ],
      "execution_count": 13,
      "outputs": [
        {
          "output_type": "execute_result",
          "data": {
            "text/plain": [
              "(tensor(0), tensor(0))"
            ]
          },
          "metadata": {
            "tags": []
          },
          "execution_count": 13
        }
      ]
    },
    {
      "cell_type": "code",
      "metadata": {
        "colab": {
          "base_uri": "https://localhost:8080/",
          "height": 265
        },
        "id": "MnDBTsPm7kRw",
        "outputId": "3ab31fd6-3e1d-4823-92ad-3f5d28bb62ef"
      },
      "source": [
        "imshow(foreground_data[0])"
      ],
      "execution_count": 14,
      "outputs": [
        {
          "output_type": "display_data",
          "data": {
            "image/png": "[encoded data removed]",
            "text/plain": [
              "<Figure size 432x288 with 1 Axes>"
            ]
          },
          "metadata": {
            "tags": [],
            "needs_background": "light"
          }
        }
      ]
    },
    {
      "cell_type": "code",
      "metadata": {
        "colab": {
          "base_uri": "https://localhost:8080/",
          "height": 265
        },
        "id": "oLp8rsaQ7-VR",
        "outputId": "6ce0caf0-9c57-42bf-cc47-ed54880a69f7"
      },
      "source": [
        "imshow(background_data[0])"
      ],
      "execution_count": 15,
      "outputs": [
        {
          "output_type": "display_data",
          "data": {
            "image/png": "[encoded data removed]",
            "text/plain": [
              "<Figure size 432x288 with 1 Axes>"
            ]
          },
          "metadata": {
            "tags": [],
            "needs_background": "light"
          }
        }
      ]
    },
    {
      "cell_type": "code",
      "metadata": {
        "id": "d-UCgJT9eHT4"
      },
      "source": [
        "def create_mosaic_img(bg_idx,fg_idx,fg): \n",
        "  \"\"\"\n",
        "  bg_idx : list of indexes of background_data[] to be used as background images in mosaic\n",
        "  fg_idx : index of image to be used as foreground image from foreground data\n",
        "  fg : at what position/index foreground image has to be stored out of 0-8\n",
        "  \"\"\"\n",
        "  image_list=[]\n",
        "  j=0\n",
        "  for i in range(9):\n",
        "    if i != fg:\n",
        "      image_list.append(background_data[bg_idx[j]])\n",
        "      j+=1\n",
        "    else: \n",
        "      image_list.append(foreground_data[fg_idx])\n",
        "      label = foreground_label[fg_idx] - fg1  # minus fg1 because our fore ground classes are fg1,fg2,fg3 but we have to store it as 0,1,2\n",
        "  #image_list = np.concatenate(image_list ,axis=0)\n",
        "  image_list = torch.stack(image_list) \n",
        "  return image_list,label"
      ],
      "execution_count": 16,
      "outputs": []
    },
    {
      "cell_type": "code",
      "metadata": {
        "id": "HES-uRlLeVh8"
      },
      "source": [
        "desired_num = 20000\n",
        "mosaic_list_of_images =[]      # list of mosaic images, each mosaic image is saved as list of 9 images\n",
        "fore_idx =[]                   # list of indexes at which foreground image is present in a mosaic image i.e from 0 to 9               \n",
        "mosaic_label=[]                # label of mosaic image = foreground class present in that mosaic\n",
        "list_set_labels = [] \n",
        "for i in range(desired_num):\n",
        "  set_idx = set()\n",
        "  np.random.seed(i)\n",
        "  bg_idx = np.random.randint(0,47335,8)\n",
        "  set_idx = set(background_label[bg_idx].tolist())\n",
        "  fg_idx = np.random.randint(0,12665)\n",
        "  set_idx.add(foreground_label[fg_idx].item())\n",
        "  fg = np.random.randint(0,9)\n",
        "  fore_idx.append(fg)\n",
        "  image_list,label = create_mosaic_img(bg_idx,fg_idx,fg)\n",
        "  mosaic_list_of_images.append(image_list)\n",
        "  mosaic_label.append(label)\n",
        "  list_set_labels.append(set_idx)"
      ],
      "execution_count": 17,
      "outputs": []
    },
    {
      "cell_type": "code",
      "metadata": {
        "id": "FJeVQuFVj9Yy",
        "colab": {
          "base_uri": "https://localhost:8080/"
        },
        "outputId": "b148fb52-5246-4ca7-82a3-54bd04940e46"
      },
      "source": [
        "print(len(mosaic_list_of_images) , len(mosaic_label), len(mosaic_list_of_images[0:10000]))\n",
        "print(len(fore_idx))"
      ],
      "execution_count": 18,
      "outputs": [
        {
          "output_type": "stream",
          "text": [
            "20000 20000 10000\n",
            "20000\n"
          ],
          "name": "stdout"
        }
      ]
    },
    {
      "cell_type": "code",
      "metadata": {
        "colab": {
          "base_uri": "https://localhost:8080/",
          "height": 265
        },
        "id": "Me2gS4_k8Z_L",
        "outputId": "ae548d3b-8f68-40a7-daa7-a695ec425831"
      },
      "source": [
        "imshow(mosaic_list_of_images[0][2])"
      ],
      "execution_count": 19,
      "outputs": [
        {
          "output_type": "display_data",
          "data": {
            "image/png": "[encoded data removed]",
            "text/plain": [
              "<Figure size 432x288 with 1 Axes>"
            ]
          },
          "metadata": {
            "tags": [],
            "needs_background": "light"
          }
        }
      ]
    },
    {
      "cell_type": "code",
      "metadata": {
        "colab": {
          "base_uri": "https://localhost:8080/"
        },
        "id": "b6unmYWy8Luh",
        "outputId": "211d46bf-d927-4d9d-a755-bea2be597a4e"
      },
      "source": [
        "mosaic_list_of_images = torch.stack(mosaic_list_of_images)\n",
        "mosaic_list_of_images.shape"
      ],
      "execution_count": 20,
      "outputs": [
        {
          "output_type": "execute_result",
          "data": {
            "text/plain": [
              "torch.Size([20000, 9, 1, 28, 28])"
            ]
          },
          "metadata": {
            "tags": []
          },
          "execution_count": 20
        }
      ]
    },
    {
      "cell_type": "code",
      "metadata": {
        "id": "7qFphyDh8MYW"
      },
      "source": [
        "mean_train = torch.mean(mosaic_list_of_images[0:10000], dim=0, keepdims= True)\n",
        "# std_train, _ = torch.max(mosaic_list_of_images_train[0:10000], dim=0, keepdims= True) \n",
        "\n",
        "mosaic_list_of_images = (mosaic_list_of_images - mean_train) # / torch.abs(std_train"
      ],
      "execution_count": 21,
      "outputs": []
    },
    {
      "cell_type": "code",
      "metadata": {
        "colab": {
          "base_uri": "https://localhost:8080/",
          "height": 265
        },
        "id": "yiYPKvlY8a2q",
        "outputId": "b83105dc-a448-4ed7-8c98-2ef67cc20056"
      },
      "source": [
        "imshow(mosaic_list_of_images[0][2])"
      ],
      "execution_count": 22,
      "outputs": [
        {
          "output_type": "display_data",
          "data": {
            "image/png": "[encoded data removed]",
            "text/plain": [
              "<Figure size 432x288 with 1 Axes>"
            ]
          },
          "metadata": {
            "tags": [],
            "needs_background": "light"
          }
        }
      ]
    },
    {
      "cell_type": "code",
      "metadata": {
        "colab": {
          "base_uri": "https://localhost:8080/"
        },
        "id": "0T9wERWz8dFm",
        "outputId": "add772da-4ad3-4ef4-f547-d69527fb4e09"
      },
      "source": [
        "torch.sum(torch.isnan(mosaic_list_of_images))"
      ],
      "execution_count": 23,
      "outputs": [
        {
          "output_type": "execute_result",
          "data": {
            "text/plain": [
              "tensor(0)"
            ]
          },
          "metadata": {
            "tags": []
          },
          "execution_count": 23
        }
      ]
    },
    {
      "cell_type": "code",
      "metadata": {
        "id": "goLIiZQsemTJ"
      },
      "source": [
        "def create_avg_image_from_mosaic_dataset(mosaic_dataset,labels,foreground_index,dataset_number):\n",
        "  \"\"\"\n",
        "  mosaic_dataset : mosaic_dataset contains 9 images 32 x 32 each as 1 data point\n",
        "  labels : mosaic_dataset labels\n",
        "  foreground_index : contains list of indexes where foreground image is present so that using this we can take weighted average\n",
        "  dataset_number : will help us to tell what ratio of foreground image to be taken. for eg: if it is \"j\" then fg_image_ratio = j/9 , bg_image_ratio = (9-j)/8*9\n",
        "  \"\"\"\n",
        "  avg_image_dataset = []\n",
        "  for i in range(len(mosaic_dataset)):\n",
        "    img = torch.zeros([ 28,28], dtype=torch.float64)\n",
        "    for j in range(9):\n",
        "      if j == foreground_index[i]:\n",
        "        img = img + mosaic_dataset[i][j]*dataset_number/9\n",
        "      else :\n",
        "        img = img + mosaic_dataset[i][j]*(9-dataset_number)/(8*9)\n",
        "    \n",
        "    avg_image_dataset.append(img)\n",
        "    \n",
        "  return avg_image_dataset , labels , foreground_index"
      ],
      "execution_count": 24,
      "outputs": []
    },
    {
      "cell_type": "code",
      "metadata": {
        "id": "Rl8FVV0Fi5UK"
      },
      "source": [
        "avg_image_dataset_1 , labels_1,  fg_index_1 = create_avg_image_from_mosaic_dataset(mosaic_list_of_images[0:10000], mosaic_label[0:10000], fore_idx[0:10000] , 0)\n",
        "avg_image_dataset_2 , labels_2,  fg_index_2 = create_avg_image_from_mosaic_dataset(mosaic_list_of_images[0:10000], mosaic_label[0:10000], fore_idx[0:10000] , 0.001)\n",
        "avg_image_dataset_3 , labels_3,  fg_index_3 = create_avg_image_from_mosaic_dataset(mosaic_list_of_images[0:10000], mosaic_label[0:10000], fore_idx[0:10000] , 0.002)\n",
        "avg_image_dataset_4 , labels_4,  fg_index_4 = create_avg_image_from_mosaic_dataset(mosaic_list_of_images[0:10000], mosaic_label[0:10000], fore_idx[0:10000] , 0.004)\n",
        "avg_image_dataset_5 , labels_5,  fg_index_5 = create_avg_image_from_mosaic_dataset(mosaic_list_of_images[0:10000], mosaic_label[0:10000], fore_idx[0:10000] , 0.008)\n",
        "avg_image_dataset_6 , labels_6,  fg_index_6 = create_avg_image_from_mosaic_dataset(mosaic_list_of_images[0:10000], mosaic_label[0:10000], fore_idx[0:10000] , 0.016)\n",
        "avg_image_dataset_7 , labels_7,  fg_index_7 = create_avg_image_from_mosaic_dataset(mosaic_list_of_images[0:10000], mosaic_label[0:10000], fore_idx[0:10000] , 0.032)\n",
        "avg_image_dataset_8 , labels_8,  fg_index_8 = create_avg_image_from_mosaic_dataset(mosaic_list_of_images[0:10000], mosaic_label[0:10000], fore_idx[0:10000] , 0.064)\n",
        "avg_image_dataset_9 , labels_9,  fg_index_9 = create_avg_image_from_mosaic_dataset(mosaic_list_of_images[0:10000], mosaic_label[0:10000], fore_idx[0:10000] , 0.128)\n",
        "avg_image_dataset_10 , labels_10,  fg_index_10 = create_avg_image_from_mosaic_dataset(mosaic_list_of_images[0:10000], mosaic_label[0:10000], fore_idx[0:10000] , 0.256)\n",
        "\n",
        "test_dataset , labels , fg_index = create_avg_image_from_mosaic_dataset(mosaic_list_of_images[10000:20000], mosaic_label[10000:20000], fore_idx[10000:20000] , 9)\n",
        "\n"
      ],
      "execution_count": 25,
      "outputs": []
    },
    {
      "cell_type": "code",
      "metadata": {
        "id": "8ZAX2z2ijLYX"
      },
      "source": [
        "class MosaicDataset(Dataset):\n",
        "  \"\"\"MosaicDataset dataset.\"\"\"\n",
        "\n",
        "  def __init__(self, mosaic_list_of_images, mosaic_label):\n",
        "    \"\"\"\n",
        "      Args:\n",
        "        csv_file (string): Path to the csv file with annotations.\n",
        "        root_dir (string): Directory with all the images.\n",
        "        transform (callable, optional): Optional transform to be applied\n",
        "            on a sample.\n",
        "    \"\"\"\n",
        "    self.mosaic = mosaic_list_of_images\n",
        "    self.label = mosaic_label\n",
        "    #self.fore_idx = fore_idx\n",
        "    \n",
        "  def __len__(self):\n",
        "    return len(self.label)\n",
        "\n",
        "  def __getitem__(self, idx):\n",
        "    return self.mosaic[idx] , self.label[idx] #, self.fore_idx[idx]\n"
      ],
      "execution_count": 26,
      "outputs": []
    },
    {
      "cell_type": "code",
      "metadata": {
        "id": "TZWIbWTcjZTC"
      },
      "source": [
        "batch = 512\n",
        "\n",
        "\n",
        "# training_data = avg_image_dataset_5    #just change this and training_label to desired dataset for training\n",
        "# training_label = labels_5\n",
        "\n",
        "traindata_1 = MosaicDataset(avg_image_dataset_1, labels_1 )\n",
        "trainloader_1 = DataLoader( traindata_1 , batch_size= batch ,shuffle=True)\n",
        "\n",
        "traindata_2 = MosaicDataset(avg_image_dataset_2, labels_2 )\n",
        "trainloader_2 = DataLoader( traindata_2 , batch_size= batch ,shuffle=True)\n",
        "\n",
        "traindata_3 = MosaicDataset(avg_image_dataset_3, labels_3 )\n",
        "trainloader_3 = DataLoader( traindata_3 , batch_size= batch ,shuffle=True)\n",
        "\n",
        "traindata_4 = MosaicDataset(avg_image_dataset_4, labels_4 )\n",
        "trainloader_4 = DataLoader( traindata_4 , batch_size= batch ,shuffle=True)\n",
        "\n",
        "traindata_5 = MosaicDataset(avg_image_dataset_5, labels_5 )\n",
        "trainloader_5 = DataLoader( traindata_5 , batch_size= batch ,shuffle=True)\n",
        "\n",
        "traindata_6 = MosaicDataset(avg_image_dataset_6, labels_6 )\n",
        "trainloader_6 = DataLoader( traindata_6 , batch_size= batch ,shuffle=True)\n",
        "\n",
        "traindata_7 = MosaicDataset(avg_image_dataset_7, labels_7 )\n",
        "trainloader_7 = DataLoader( traindata_7 , batch_size= batch ,shuffle=True)\n",
        "\n",
        "traindata_8 = MosaicDataset(avg_image_dataset_8, labels_8 )\n",
        "trainloader_8 = DataLoader( traindata_8 , batch_size= batch ,shuffle=True)\n",
        "\n",
        "traindata_9 = MosaicDataset(avg_image_dataset_9, labels_9 )\n",
        "trainloader_9 = DataLoader( traindata_9 , batch_size= batch ,shuffle=True)\n",
        "\n",
        "traindata_10 = MosaicDataset(avg_image_dataset_10, labels_10 )\n",
        "trainloader_10 = DataLoader( traindata_10 , batch_size= batch ,shuffle=True)\n",
        "\n"
      ],
      "execution_count": 27,
      "outputs": []
    },
    {
      "cell_type": "code",
      "metadata": {
        "id": "rCaLHr5Wvxfc"
      },
      "source": [
        "testdata_1 = MosaicDataset(avg_image_dataset_1, labels_1 )\n",
        "testloader_1 = DataLoader( testdata_1 , batch_size= batch ,shuffle=False)\n",
        "\n",
        "testdata_2 = MosaicDataset(avg_image_dataset_2, labels_2 )\n",
        "testloader_2 = DataLoader( testdata_2 , batch_size= batch ,shuffle=False)\n",
        "\n",
        "testdata_3 = MosaicDataset(avg_image_dataset_3, labels_3 )\n",
        "testloader_3 = DataLoader( testdata_3 , batch_size= batch ,shuffle=False)\n",
        "\n",
        "testdata_4 = MosaicDataset(avg_image_dataset_4, labels_4 )\n",
        "testloader_4 = DataLoader( testdata_4 , batch_size= batch ,shuffle=False)\n",
        "\n",
        "testdata_5 = MosaicDataset(avg_image_dataset_5, labels_5 )\n",
        "testloader_5 = DataLoader( testdata_5 , batch_size= batch ,shuffle=False)\n",
        "\n",
        "testdata_6 = MosaicDataset(avg_image_dataset_6, labels_6 )\n",
        "testloader_6 = DataLoader( testdata_6 , batch_size= batch ,shuffle=False)\n",
        "\n",
        "testdata_7 = MosaicDataset(avg_image_dataset_7, labels_7 )\n",
        "testloader_7 = DataLoader( testdata_7 , batch_size= batch ,shuffle=False)\n",
        "\n",
        "testdata_8 = MosaicDataset(avg_image_dataset_8, labels_8 )\n",
        "testloader_8 = DataLoader( testdata_8 , batch_size= batch ,shuffle=False)\n",
        "\n",
        "testdata_9 = MosaicDataset(avg_image_dataset_9, labels_9 )\n",
        "testloader_9 = DataLoader( testdata_9 , batch_size= batch ,shuffle=False)\n",
        "\n",
        "testdata_10 = MosaicDataset(avg_image_dataset_10, labels_10 )\n",
        "testloader_10 = DataLoader( testdata_10 , batch_size= batch ,shuffle=False)\n",
        "\n"
      ],
      "execution_count": 28,
      "outputs": []
    },
    {
      "cell_type": "code",
      "metadata": {
        "id": "QTmJHboqv5Ga"
      },
      "source": [
        "testdata_11 = MosaicDataset(test_dataset, labels )\n",
        "testloader_11 = DataLoader( testdata_11 , batch_size= batch ,shuffle=False)"
      ],
      "execution_count": 29,
      "outputs": []
    },
    {
      "cell_type": "code",
      "metadata": {
        "id": "g78esapkGPsJ"
      },
      "source": [
        "class Module2(nn.Module):\n",
        "  def __init__(self):\n",
        "    super(Module2, self).__init__()\n",
        "    # self.conv1 = nn.Conv2d(1, 6, 5)\n",
        "    # self.pool = nn.MaxPool2d(2, 2)\n",
        "    # self.conv2 = nn.Conv2d(6, 16, 5)\n",
        "\n",
        "    self.fc1 = nn.Linear(28*28, 64)\n",
        "    torch.nn.init.xavier_normal_(self.fc1.weight)\n",
        "    torch.nn.init.zeros_(self.fc1.bias)\n",
        "    self.fc2 = nn.Linear(64, 2)\n",
        "    torch.nn.init.xavier_normal_(self.fc2.weight)\n",
        "    torch.nn.init.zeros_(self.fc2.bias)\n",
        "\n",
        "    # self.fc3 = nn.Linear(64, 10)\n",
        "    # self.fc4 = nn.Linear(10,3)\n",
        "\n",
        "  def forward(self,z): \n",
        "    # y1 = self.pool(F.relu(self.conv1(z)))\n",
        "    # y1 = self.pool(F.relu(self.conv2(y1)))\n",
        "    y1 = z.view(-1, 28*28)\n",
        "\n",
        "    y1 = F.relu(self.fc1(y1))\n",
        "    y1 = (self.fc2(y1))\n",
        "    # y1 = F.relu(self.fc3(y1))\n",
        "    # y1 = self.fc4(y1)\n",
        "    return y1 "
      ],
      "execution_count": 30,
      "outputs": []
    },
    {
      "cell_type": "code",
      "metadata": {
        "id": "5JKIMetphOYV"
      },
      "source": [
        "def calculate_loss(dataloader,model,criter):\n",
        "  model.eval()\n",
        "  r_loss = 0\n",
        "  with torch.no_grad():\n",
        "    for i, data in enumerate(dataloader, 0):\n",
        "      inputs, labels = data\n",
        "      inputs, labels = inputs.to(\"cuda\"),labels.to(\"cuda\")\n",
        "      outputs = model(inputs)\n",
        "      loss = criter(outputs, labels)\n",
        "      r_loss += loss.item()\n",
        "  return r_loss/i"
      ],
      "execution_count": 31,
      "outputs": []
    },
    {
      "cell_type": "code",
      "metadata": {
        "id": "Hiif2MO5nAis"
      },
      "source": [
        "def test_all(number, testloader,net):\n",
        "    correct = 0\n",
        "    total = 0\n",
        "    out = []\n",
        "    pred = []\n",
        "    with torch.no_grad():\n",
        "        for data in testloader:\n",
        "            images, labels = data\n",
        "            images, labels = images.to(\"cuda\"),labels.to(\"cuda\")\n",
        "            out.append(labels.cpu().numpy())\n",
        "            outputs= net(images)\n",
        "            _, predicted = torch.max(outputs.data, 1)\n",
        "            pred.append(predicted.cpu().numpy())\n",
        "            total += labels.size(0)\n",
        "            correct += (predicted == labels).sum().item()\n",
        "    \n",
        "    pred = np.concatenate(pred, axis = 0)\n",
        "    out = np.concatenate(out, axis = 0)\n",
        "    print(\"pred: \", pred, np.unique(pred))\n",
        "    print(\"out: \", out, np.unique(pred))\n",
        "    print(\"correct: \", correct,\" total: \", total, \"sum: \", sum(pred==out))\n",
        "    print('Accuracy of the network on the 10000 test dataset %d: %d %%' % (number , 100 * correct / total))"
      ],
      "execution_count": 32,
      "outputs": []
    },
    {
      "cell_type": "code",
      "metadata": {
        "id": "ut2fHl-lnDpL"
      },
      "source": [
        "def train_all(trainloader, ds_number, testloader_list):\n",
        "    \n",
        "    print(\"--\"*40)\n",
        "    print(\"training on data set  \", ds_number)\n",
        "    \n",
        "    torch.manual_seed(12)\n",
        "    net = Module2().double()\n",
        "    net = net.to(\"cuda\")\n",
        "    \n",
        "    criterion_net = nn.CrossEntropyLoss()\n",
        "    optimizer_net = optim.SGD(net.parameters(), lr=0.0001, momentum=0.9)\n",
        "    \n",
        "    acti = []\n",
        "    loss_curi = []\n",
        "    epochs = 1000\n",
        "    running_loss = calculate_loss(trainloader,net,criterion_net)\n",
        "    loss_curi.append(running_loss)\n",
        "    print('epoch: [%d ] loss: %.3f' %(0,running_loss)) \n",
        "    for epoch in range(epochs): # loop over the dataset multiple times\n",
        "        ep_lossi = []\n",
        "\n",
        "        running_loss = 0.0\n",
        "        net.train()\n",
        "        for i, data in enumerate(trainloader, 0):\n",
        "            # get the inputs\n",
        "            inputs, labels = data\n",
        "            inputs, labels = inputs.to(\"cuda\"),labels.to(\"cuda\")\n",
        "\n",
        "            # zero the parameter gradients\n",
        "            optimizer_net.zero_grad()\n",
        "\n",
        "            # forward + backward + optimize\n",
        "            outputs = net(inputs)\n",
        "            loss = criterion_net(outputs, labels)\n",
        "            # print statistics\n",
        "            running_loss += loss.item()\n",
        "            loss.backward()\n",
        "            optimizer_net.step()\n",
        "\n",
        "        running_loss = calculate_loss(trainloader,net,criterion_net)\n",
        "        if(epoch%200 == 0):\n",
        "          print('epoch: [%d] loss: %.3f' %(epoch + 1,running_loss)) \n",
        "        loss_curi.append(running_loss)   #loss per epoch\n",
        "        if running_loss<=0.005:\n",
        "          print('epoch: [%d] loss: %.3f' %(epoch + 1,running_loss))\n",
        "          break\n",
        "\n",
        "    print('Finished Training')\n",
        "    \n",
        "    correct = 0\n",
        "    total = 0\n",
        "    with torch.no_grad():\n",
        "        for data in trainloader:\n",
        "            images, labels = data\n",
        "            images, labels = images.to(\"cuda\"), labels.to(\"cuda\")\n",
        "            outputs = net(images)\n",
        "            _, predicted = torch.max(outputs.data, 1)\n",
        "            total += labels.size(0)\n",
        "            correct += (predicted == labels).sum().item()\n",
        "\n",
        "    print('Accuracy of the network on the 10000 train images: %d %%' % (  100 * correct / total))\n",
        "    \n",
        "    for i, j in enumerate(testloader_list):\n",
        "        test_all(i+1, j,net)\n",
        "    \n",
        "    print(\"--\"*40)\n",
        "    \n",
        "    return loss_curi\n",
        "    "
      ],
      "execution_count": 50,
      "outputs": []
    },
    {
      "cell_type": "code",
      "metadata": {
        "colab": {
          "base_uri": "https://localhost:8080/"
        },
        "id": "5zjRI237IyAW",
        "outputId": "40f4a683-9add-48b0-c4db-cc78895caccd"
      },
      "source": [
        "torch.manual_seed(12)\n",
        "net = Module2().double()\n",
        "net = net.to(\"cuda\")\n",
        "\n",
        "test_all(11, testloader_11 ,net)"
      ],
      "execution_count": 51,
      "outputs": [
        {
          "output_type": "stream",
          "text": [
            "pred:  [0 0 0 ... 1 0 0] [0 1]\n",
            "out:  [0 0 1 ... 0 1 1] [0 1]\n",
            "correct:  5406  total:  10000 sum:  5406\n",
            "Accuracy of the network on the 10000 test dataset 11: 54 %\n"
          ],
          "name": "stdout"
        }
      ]
    },
    {
      "cell_type": "code",
      "metadata": {
        "id": "shv3ygDijMAg"
      },
      "source": [
        "train_loss_all=[]\n",
        "\n",
        "testloader_list= [ testloader_1, testloader_2, testloader_3, testloader_4, testloader_5, testloader_6,\n",
        "                 testloader_7, testloader_8, testloader_9, testloader_10, testloader_11]"
      ],
      "execution_count": 52,
      "outputs": []
    },
    {
      "cell_type": "code",
      "metadata": {
        "id": "kPIoOsmrnLyX",
        "colab": {
          "base_uri": "https://localhost:8080/"
        },
        "outputId": "ae1191b4-4df2-4203-a9a3-469fe0ccb788"
      },
      "source": [
        "train_loss_all.append(train_all(trainloader_1, 1, testloader_list))\n",
        "train_loss_all.append(train_all(trainloader_2, 2, testloader_list))\n",
        "train_loss_all.append(train_all(trainloader_3, 3, testloader_list))\n",
        "train_loss_all.append(train_all(trainloader_4, 4, testloader_list))\n",
        "train_loss_all.append(train_all(trainloader_5, 5, testloader_list))\n",
        "train_loss_all.append(train_all(trainloader_6, 6, testloader_list))\n",
        "train_loss_all.append(train_all(trainloader_7, 7, testloader_list))\n",
        "train_loss_all.append(train_all(trainloader_8, 8, testloader_list))\n",
        "train_loss_all.append(train_all(trainloader_9, 9, testloader_list)) \n",
        "train_loss_all.append(train_all(trainloader_10, 10, testloader_list))"
      ],
      "execution_count": 53,
      "outputs": [
        {
          "output_type": "stream",
          "text": [
            "--------------------------------------------------------------------------------\n",
            "training on data set   1\n",
            "epoch: [0 ] loss: 0.740\n",
            "epoch: [1] loss: 0.740\n",
            "epoch: [201] loss: 0.729\n",
            "epoch: [401] loss: 0.725\n",
            "epoch: [601] loss: 0.722\n",
            "epoch: [801] loss: 0.721\n",
            "Finished Training\n",
            "Accuracy of the network on the 10000 train images: 56 %\n",
            "pred:  [0 0 1 ... 1 1 1] [0 1]\n",
            "out:  [0 1 0 ... 1 1 1] [0 1]\n",
            "correct:  5608  total:  10000 sum:  5608\n",
            "Accuracy of the network on the 10000 test dataset 1: 56 %\n",
            "pred:  [0 0 1 ... 1 1 1] [0 1]\n",
            "out:  [0 1 0 ... 1 1 1] [0 1]\n",
            "correct:  5607  total:  10000 sum:  5607\n",
            "Accuracy of the network on the 10000 test dataset 2: 56 %\n",
            "pred:  [0 0 1 ... 1 1 1] [0 1]\n",
            "out:  [0 1 0 ... 1 1 1] [0 1]\n",
            "correct:  5608  total:  10000 sum:  5608\n",
            "Accuracy of the network on the 10000 test dataset 3: 56 %\n",
            "pred:  [0 0 1 ... 1 1 1] [0 1]\n",
            "out:  [0 1 0 ... 1 1 1] [0 1]\n",
            "correct:  5609  total:  10000 sum:  5609\n",
            "Accuracy of the network on the 10000 test dataset 4: 56 %\n",
            "pred:  [0 0 1 ... 1 1 1] [0 1]\n",
            "out:  [0 1 0 ... 1 1 1] [0 1]\n",
            "correct:  5610  total:  10000 sum:  5610\n",
            "Accuracy of the network on the 10000 test dataset 5: 56 %\n",
            "pred:  [0 0 1 ... 1 1 1] [0 1]\n",
            "out:  [0 1 0 ... 1 1 1] [0 1]\n",
            "correct:  5605  total:  10000 sum:  5605\n",
            "Accuracy of the network on the 10000 test dataset 6: 56 %\n",
            "pred:  [0 0 1 ... 1 1 1] [0 1]\n",
            "out:  [0 1 0 ... 1 1 1] [0 1]\n",
            "correct:  5596  total:  10000 sum:  5596\n",
            "Accuracy of the network on the 10000 test dataset 7: 55 %\n",
            "pred:  [0 0 1 ... 1 1 1] [0 1]\n",
            "out:  [0 1 0 ... 1 1 1] [0 1]\n",
            "correct:  5587  total:  10000 sum:  5587\n",
            "Accuracy of the network on the 10000 test dataset 8: 55 %\n",
            "pred:  [0 0 1 ... 1 1 1] [0 1]\n",
            "out:  [0 1 0 ... 1 1 1] [0 1]\n",
            "correct:  5566  total:  10000 sum:  5566\n",
            "Accuracy of the network on the 10000 test dataset 9: 55 %\n",
            "pred:  [0 0 1 ... 1 1 1] [0 1]\n",
            "out:  [0 1 0 ... 1 1 1] [0 1]\n",
            "correct:  5524  total:  10000 sum:  5524\n",
            "Accuracy of the network on the 10000 test dataset 10: 55 %\n",
            "pred:  [0 1 0 ... 1 0 0] [0 1]\n",
            "out:  [0 0 1 ... 0 1 1] [0 1]\n",
            "correct:  4724  total:  10000 sum:  4724\n",
            "Accuracy of the network on the 10000 test dataset 11: 47 %\n",
            "--------------------------------------------------------------------------------\n",
            "--------------------------------------------------------------------------------\n",
            "training on data set   2\n",
            "epoch: [0 ] loss: 0.740\n",
            "epoch: [1] loss: 0.740\n",
            "epoch: [201] loss: 0.729\n",
            "epoch: [401] loss: 0.725\n",
            "epoch: [601] loss: 0.722\n",
            "epoch: [801] loss: 0.721\n",
            "Finished Training\n",
            "Accuracy of the network on the 10000 train images: 56 %\n",
            "pred:  [0 0 1 ... 1 1 1] [0 1]\n",
            "out:  [0 1 0 ... 1 1 1] [0 1]\n",
            "correct:  5605  total:  10000 sum:  5605\n",
            "Accuracy of the network on the 10000 test dataset 1: 56 %\n",
            "pred:  [0 0 1 ... 1 1 1] [0 1]\n",
            "out:  [0 1 0 ... 1 1 1] [0 1]\n",
            "correct:  5605  total:  10000 sum:  5605\n",
            "Accuracy of the network on the 10000 test dataset 2: 56 %\n",
            "pred:  [0 0 1 ... 1 1 1] [0 1]\n",
            "out:  [0 1 0 ... 1 1 1] [0 1]\n",
            "correct:  5605  total:  10000 sum:  5605\n",
            "Accuracy of the network on the 10000 test dataset 3: 56 %\n",
            "pred:  [0 0 1 ... 1 1 1] [0 1]\n",
            "out:  [0 1 0 ... 1 1 1] [0 1]\n",
            "correct:  5604  total:  10000 sum:  5604\n",
            "Accuracy of the network on the 10000 test dataset 4: 56 %\n",
            "pred:  [0 0 1 ... 1 1 1] [0 1]\n",
            "out:  [0 1 0 ... 1 1 1] [0 1]\n",
            "correct:  5603  total:  10000 sum:  5603\n",
            "Accuracy of the network on the 10000 test dataset 5: 56 %\n",
            "pred:  [0 0 1 ... 1 1 1] [0 1]\n",
            "out:  [0 1 0 ... 1 1 1] [0 1]\n",
            "correct:  5604  total:  10000 sum:  5604\n",
            "Accuracy of the network on the 10000 test dataset 6: 56 %\n",
            "pred:  [0 0 1 ... 1 1 1] [0 1]\n",
            "out:  [0 1 0 ... 1 1 1] [0 1]\n",
            "correct:  5596  total:  10000 sum:  5596\n",
            "Accuracy of the network on the 10000 test dataset 7: 55 %\n",
            "pred:  [0 0 1 ... 1 1 1] [0 1]\n",
            "out:  [0 1 0 ... 1 1 1] [0 1]\n",
            "correct:  5589  total:  10000 sum:  5589\n",
            "Accuracy of the network on the 10000 test dataset 8: 55 %\n",
            "pred:  [0 0 1 ... 1 1 1] [0 1]\n",
            "out:  [0 1 0 ... 1 1 1] [0 1]\n",
            "correct:  5575  total:  10000 sum:  5575\n",
            "Accuracy of the network on the 10000 test dataset 9: 55 %\n",
            "pred:  [0 0 1 ... 1 1 1] [0 1]\n",
            "out:  [0 1 0 ... 1 1 1] [0 1]\n",
            "correct:  5531  total:  10000 sum:  5531\n",
            "Accuracy of the network on the 10000 test dataset 10: 55 %\n",
            "pred:  [0 1 0 ... 1 0 0] [0 1]\n",
            "out:  [0 0 1 ... 0 1 1] [0 1]\n",
            "correct:  4835  total:  10000 sum:  4835\n",
            "Accuracy of the network on the 10000 test dataset 11: 48 %\n",
            "--------------------------------------------------------------------------------\n",
            "--------------------------------------------------------------------------------\n",
            "training on data set   3\n",
            "epoch: [0 ] loss: 0.740\n",
            "epoch: [1] loss: 0.740\n",
            "epoch: [201] loss: 0.729\n",
            "epoch: [401] loss: 0.725\n",
            "epoch: [601] loss: 0.722\n",
            "epoch: [801] loss: 0.721\n",
            "Finished Training\n",
            "Accuracy of the network on the 10000 train images: 56 %\n",
            "pred:  [0 0 1 ... 1 1 1] [0 1]\n",
            "out:  [0 1 0 ... 1 1 1] [0 1]\n",
            "correct:  5606  total:  10000 sum:  5606\n",
            "Accuracy of the network on the 10000 test dataset 1: 56 %\n",
            "pred:  [0 0 1 ... 1 1 1] [0 1]\n",
            "out:  [0 1 0 ... 1 1 1] [0 1]\n",
            "correct:  5606  total:  10000 sum:  5606\n",
            "Accuracy of the network on the 10000 test dataset 2: 56 %\n",
            "pred:  [0 0 1 ... 1 1 1] [0 1]\n",
            "out:  [0 1 0 ... 1 1 1] [0 1]\n",
            "correct:  5606  total:  10000 sum:  5606\n",
            "Accuracy of the network on the 10000 test dataset 3: 56 %\n",
            "pred:  [0 0 1 ... 1 1 1] [0 1]\n",
            "out:  [0 1 0 ... 1 1 1] [0 1]\n",
            "correct:  5604  total:  10000 sum:  5604\n",
            "Accuracy of the network on the 10000 test dataset 4: 56 %\n",
            "pred:  [0 0 1 ... 1 1 1] [0 1]\n",
            "out:  [0 1 0 ... 1 1 1] [0 1]\n",
            "correct:  5604  total:  10000 sum:  5604\n",
            "Accuracy of the network on the 10000 test dataset 5: 56 %\n",
            "pred:  [0 0 1 ... 1 1 1] [0 1]\n",
            "out:  [0 1 0 ... 1 1 1] [0 1]\n",
            "correct:  5605  total:  10000 sum:  5605\n",
            "Accuracy of the network on the 10000 test dataset 6: 56 %\n",
            "pred:  [0 0 1 ... 1 1 1] [0 1]\n",
            "out:  [0 1 0 ... 1 1 1] [0 1]\n",
            "correct:  5599  total:  10000 sum:  5599\n",
            "Accuracy of the network on the 10000 test dataset 7: 55 %\n",
            "pred:  [0 0 1 ... 1 1 1] [0 1]\n",
            "out:  [0 1 0 ... 1 1 1] [0 1]\n",
            "correct:  5590  total:  10000 sum:  5590\n",
            "Accuracy of the network on the 10000 test dataset 8: 55 %\n",
            "pred:  [0 0 1 ... 1 1 1] [0 1]\n",
            "out:  [0 1 0 ... 1 1 1] [0 1]\n",
            "correct:  5575  total:  10000 sum:  5575\n",
            "Accuracy of the network on the 10000 test dataset 9: 55 %\n",
            "pred:  [0 0 1 ... 1 1 1] [0 1]\n",
            "out:  [0 1 0 ... 1 1 1] [0 1]\n",
            "correct:  5535  total:  10000 sum:  5535\n",
            "Accuracy of the network on the 10000 test dataset 10: 55 %\n",
            "pred:  [0 0 0 ... 1 0 0] [0 1]\n",
            "out:  [0 0 1 ... 0 1 1] [0 1]\n",
            "correct:  4974  total:  10000 sum:  4974\n",
            "Accuracy of the network on the 10000 test dataset 11: 49 %\n",
            "--------------------------------------------------------------------------------\n",
            "--------------------------------------------------------------------------------\n",
            "training on data set   4\n",
            "epoch: [0 ] loss: 0.740\n",
            "epoch: [1] loss: 0.740\n",
            "epoch: [201] loss: 0.729\n",
            "epoch: [401] loss: 0.725\n",
            "epoch: [601] loss: 0.722\n",
            "epoch: [801] loss: 0.721\n",
            "Finished Training\n",
            "Accuracy of the network on the 10000 train images: 56 %\n",
            "pred:  [0 0 1 ... 1 1 1] [0 1]\n",
            "out:  [0 1 0 ... 1 1 1] [0 1]\n",
            "correct:  5611  total:  10000 sum:  5611\n",
            "Accuracy of the network on the 10000 test dataset 1: 56 %\n",
            "pred:  [0 0 1 ... 1 1 1] [0 1]\n",
            "out:  [0 1 0 ... 1 1 1] [0 1]\n",
            "correct:  5611  total:  10000 sum:  5611\n",
            "Accuracy of the network on the 10000 test dataset 2: 56 %\n",
            "pred:  [0 0 1 ... 1 1 1] [0 1]\n",
            "out:  [0 1 0 ... 1 1 1] [0 1]\n",
            "correct:  5611  total:  10000 sum:  5611\n",
            "Accuracy of the network on the 10000 test dataset 3: 56 %\n",
            "pred:  [0 0 1 ... 1 1 1] [0 1]\n",
            "out:  [0 1 0 ... 1 1 1] [0 1]\n",
            "correct:  5610  total:  10000 sum:  5610\n",
            "Accuracy of the network on the 10000 test dataset 4: 56 %\n",
            "pred:  [0 0 1 ... 1 1 1] [0 1]\n",
            "out:  [0 1 0 ... 1 1 1] [0 1]\n",
            "correct:  5610  total:  10000 sum:  5610\n",
            "Accuracy of the network on the 10000 test dataset 5: 56 %\n",
            "pred:  [0 0 1 ... 1 1 1] [0 1]\n",
            "out:  [0 1 0 ... 1 1 1] [0 1]\n",
            "correct:  5608  total:  10000 sum:  5608\n",
            "Accuracy of the network on the 10000 test dataset 6: 56 %\n",
            "pred:  [0 0 1 ... 1 1 1] [0 1]\n",
            "out:  [0 1 0 ... 1 1 1] [0 1]\n",
            "correct:  5602  total:  10000 sum:  5602\n",
            "Accuracy of the network on the 10000 test dataset 7: 56 %\n",
            "pred:  [0 0 1 ... 1 1 1] [0 1]\n",
            "out:  [0 1 0 ... 1 1 1] [0 1]\n",
            "correct:  5593  total:  10000 sum:  5593\n",
            "Accuracy of the network on the 10000 test dataset 8: 55 %\n",
            "pred:  [0 0 1 ... 1 1 1] [0 1]\n",
            "out:  [0 1 0 ... 1 1 1] [0 1]\n",
            "correct:  5582  total:  10000 sum:  5582\n",
            "Accuracy of the network on the 10000 test dataset 9: 55 %\n",
            "pred:  [0 0 1 ... 1 1 1] [0 1]\n",
            "out:  [0 1 0 ... 1 1 1] [0 1]\n",
            "correct:  5552  total:  10000 sum:  5552\n",
            "Accuracy of the network on the 10000 test dataset 10: 55 %\n",
            "pred:  [0 0 0 ... 1 0 0] [0 1]\n",
            "out:  [0 0 1 ... 0 1 1] [0 1]\n",
            "correct:  5246  total:  10000 sum:  5246\n",
            "Accuracy of the network on the 10000 test dataset 11: 52 %\n",
            "--------------------------------------------------------------------------------\n",
            "--------------------------------------------------------------------------------\n",
            "training on data set   5\n",
            "epoch: [0 ] loss: 0.740\n",
            "epoch: [1] loss: 0.740\n",
            "epoch: [201] loss: 0.729\n",
            "epoch: [401] loss: 0.725\n",
            "epoch: [601] loss: 0.722\n",
            "epoch: [801] loss: 0.721\n",
            "Finished Training\n",
            "Accuracy of the network on the 10000 train images: 56 %\n",
            "pred:  [0 0 1 ... 1 1 1] [0 1]\n",
            "out:  [0 1 0 ... 1 1 1] [0 1]\n",
            "correct:  5612  total:  10000 sum:  5612\n",
            "Accuracy of the network on the 10000 test dataset 1: 56 %\n",
            "pred:  [0 0 1 ... 1 1 1] [0 1]\n",
            "out:  [0 1 0 ... 1 1 1] [0 1]\n",
            "correct:  5612  total:  10000 sum:  5612\n",
            "Accuracy of the network on the 10000 test dataset 2: 56 %\n",
            "pred:  [0 0 1 ... 1 1 1] [0 1]\n",
            "out:  [0 1 0 ... 1 1 1] [0 1]\n",
            "correct:  5610  total:  10000 sum:  5610\n",
            "Accuracy of the network on the 10000 test dataset 3: 56 %\n",
            "pred:  [0 0 1 ... 1 1 1] [0 1]\n",
            "out:  [0 1 0 ... 1 1 1] [0 1]\n",
            "correct:  5610  total:  10000 sum:  5610\n",
            "Accuracy of the network on the 10000 test dataset 4: 56 %\n",
            "pred:  [0 0 1 ... 1 1 1] [0 1]\n",
            "out:  [0 1 0 ... 1 1 1] [0 1]\n",
            "correct:  5610  total:  10000 sum:  5610\n",
            "Accuracy of the network on the 10000 test dataset 5: 56 %\n",
            "pred:  [0 0 1 ... 1 1 1] [0 1]\n",
            "out:  [0 1 0 ... 1 1 1] [0 1]\n",
            "correct:  5605  total:  10000 sum:  5605\n",
            "Accuracy of the network on the 10000 test dataset 6: 56 %\n",
            "pred:  [0 0 1 ... 1 1 1] [0 1]\n",
            "out:  [0 1 0 ... 1 1 1] [0 1]\n",
            "correct:  5605  total:  10000 sum:  5605\n",
            "Accuracy of the network on the 10000 test dataset 7: 56 %\n",
            "pred:  [0 0 1 ... 1 1 1] [0 1]\n",
            "out:  [0 1 0 ... 1 1 1] [0 1]\n",
            "correct:  5608  total:  10000 sum:  5608\n",
            "Accuracy of the network on the 10000 test dataset 8: 56 %\n",
            "pred:  [0 0 1 ... 1 1 1] [0 1]\n",
            "out:  [0 1 0 ... 1 1 1] [0 1]\n",
            "correct:  5599  total:  10000 sum:  5599\n",
            "Accuracy of the network on the 10000 test dataset 9: 55 %\n",
            "pred:  [0 0 1 ... 1 1 1] [0 1]\n",
            "out:  [0 1 0 ... 1 1 1] [0 1]\n",
            "correct:  5594  total:  10000 sum:  5594\n",
            "Accuracy of the network on the 10000 test dataset 10: 55 %\n",
            "pred:  [0 0 0 ... 1 0 0] [0 1]\n",
            "out:  [0 0 1 ... 0 1 1] [0 1]\n",
            "correct:  5754  total:  10000 sum:  5754\n",
            "Accuracy of the network on the 10000 test dataset 11: 57 %\n",
            "--------------------------------------------------------------------------------\n",
            "--------------------------------------------------------------------------------\n",
            "training on data set   6\n",
            "epoch: [0 ] loss: 0.740\n",
            "epoch: [1] loss: 0.740\n",
            "epoch: [201] loss: 0.729\n",
            "epoch: [401] loss: 0.725\n",
            "epoch: [601] loss: 0.722\n",
            "epoch: [801] loss: 0.721\n",
            "Finished Training\n",
            "Accuracy of the network on the 10000 train images: 56 %\n",
            "pred:  [0 0 1 ... 1 1 1] [0 1]\n",
            "out:  [0 1 0 ... 1 1 1] [0 1]\n",
            "correct:  5611  total:  10000 sum:  5611\n",
            "Accuracy of the network on the 10000 test dataset 1: 56 %\n",
            "pred:  [0 0 1 ... 1 1 1] [0 1]\n",
            "out:  [0 1 0 ... 1 1 1] [0 1]\n",
            "correct:  5610  total:  10000 sum:  5610\n",
            "Accuracy of the network on the 10000 test dataset 2: 56 %\n",
            "pred:  [0 0 1 ... 1 1 1] [0 1]\n",
            "out:  [0 1 0 ... 1 1 1] [0 1]\n",
            "correct:  5611  total:  10000 sum:  5611\n",
            "Accuracy of the network on the 10000 test dataset 3: 56 %\n",
            "pred:  [0 0 1 ... 1 1 1] [0 1]\n",
            "out:  [0 1 0 ... 1 1 1] [0 1]\n",
            "correct:  5612  total:  10000 sum:  5612\n",
            "Accuracy of the network on the 10000 test dataset 4: 56 %\n",
            "pred:  [0 0 1 ... 1 1 1] [0 1]\n",
            "out:  [0 1 0 ... 1 1 1] [0 1]\n",
            "correct:  5613  total:  10000 sum:  5613\n",
            "Accuracy of the network on the 10000 test dataset 5: 56 %\n",
            "pred:  [0 0 1 ... 1 1 1] [0 1]\n",
            "out:  [0 1 0 ... 1 1 1] [0 1]\n",
            "correct:  5615  total:  10000 sum:  5615\n",
            "Accuracy of the network on the 10000 test dataset 6: 56 %\n",
            "pred:  [0 0 1 ... 1 1 1] [0 1]\n",
            "out:  [0 1 0 ... 1 1 1] [0 1]\n",
            "correct:  5611  total:  10000 sum:  5611\n",
            "Accuracy of the network on the 10000 test dataset 7: 56 %\n",
            "pred:  [0 0 1 ... 1 1 1] [0 1]\n",
            "out:  [0 1 0 ... 1 1 1] [0 1]\n",
            "correct:  5614  total:  10000 sum:  5614\n",
            "Accuracy of the network on the 10000 test dataset 8: 56 %\n",
            "pred:  [0 0 1 ... 1 1 1] [0 1]\n",
            "out:  [0 1 0 ... 1 1 1] [0 1]\n",
            "correct:  5623  total:  10000 sum:  5623\n",
            "Accuracy of the network on the 10000 test dataset 9: 56 %\n",
            "pred:  [0 0 1 ... 1 1 1] [0 1]\n",
            "out:  [0 1 0 ... 1 1 1] [0 1]\n",
            "correct:  5660  total:  10000 sum:  5660\n",
            "Accuracy of the network on the 10000 test dataset 10: 56 %\n",
            "pred:  [0 0 0 ... 1 1 0] [0 1]\n",
            "out:  [0 0 1 ... 0 1 1] [0 1]\n",
            "correct:  6686  total:  10000 sum:  6686\n",
            "Accuracy of the network on the 10000 test dataset 11: 66 %\n",
            "--------------------------------------------------------------------------------\n",
            "--------------------------------------------------------------------------------\n",
            "training on data set   7\n",
            "epoch: [0 ] loss: 0.740\n",
            "epoch: [1] loss: 0.740\n",
            "epoch: [201] loss: 0.729\n",
            "epoch: [401] loss: 0.725\n",
            "epoch: [601] loss: 0.722\n",
            "epoch: [801] loss: 0.720\n",
            "Finished Training\n",
            "Accuracy of the network on the 10000 train images: 56 %\n",
            "pred:  [0 0 1 ... 1 1 1] [0 1]\n",
            "out:  [0 1 0 ... 1 1 1] [0 1]\n",
            "correct:  5586  total:  10000 sum:  5586\n",
            "Accuracy of the network on the 10000 test dataset 1: 55 %\n",
            "pred:  [0 0 1 ... 1 1 1] [0 1]\n",
            "out:  [0 1 0 ... 1 1 1] [0 1]\n",
            "correct:  5586  total:  10000 sum:  5586\n",
            "Accuracy of the network on the 10000 test dataset 2: 55 %\n",
            "pred:  [0 0 1 ... 1 1 1] [0 1]\n",
            "out:  [0 1 0 ... 1 1 1] [0 1]\n",
            "correct:  5587  total:  10000 sum:  5587\n",
            "Accuracy of the network on the 10000 test dataset 3: 55 %\n",
            "pred:  [0 0 1 ... 1 1 1] [0 1]\n",
            "out:  [0 1 0 ... 1 1 1] [0 1]\n",
            "correct:  5589  total:  10000 sum:  5589\n",
            "Accuracy of the network on the 10000 test dataset 4: 55 %\n",
            "pred:  [0 0 1 ... 1 1 1] [0 1]\n",
            "out:  [0 1 0 ... 1 1 1] [0 1]\n",
            "correct:  5595  total:  10000 sum:  5595\n",
            "Accuracy of the network on the 10000 test dataset 5: 55 %\n",
            "pred:  [0 0 1 ... 1 1 1] [0 1]\n",
            "out:  [0 1 0 ... 1 1 1] [0 1]\n",
            "correct:  5603  total:  10000 sum:  5603\n",
            "Accuracy of the network on the 10000 test dataset 6: 56 %\n",
            "pred:  [0 0 1 ... 1 1 1] [0 1]\n",
            "out:  [0 1 0 ... 1 1 1] [0 1]\n",
            "correct:  5614  total:  10000 sum:  5614\n",
            "Accuracy of the network on the 10000 test dataset 7: 56 %\n",
            "pred:  [0 0 1 ... 1 1 1] [0 1]\n",
            "out:  [0 1 0 ... 1 1 1] [0 1]\n",
            "correct:  5631  total:  10000 sum:  5631\n",
            "Accuracy of the network on the 10000 test dataset 8: 56 %\n",
            "pred:  [0 0 1 ... 1 1 1] [0 1]\n",
            "out:  [0 1 0 ... 1 1 1] [0 1]\n",
            "correct:  5683  total:  10000 sum:  5683\n",
            "Accuracy of the network on the 10000 test dataset 9: 56 %\n",
            "pred:  [0 0 1 ... 1 1 1] [0 1]\n",
            "out:  [0 1 0 ... 1 1 1] [0 1]\n",
            "correct:  5783  total:  10000 sum:  5783\n",
            "Accuracy of the network on the 10000 test dataset 10: 57 %\n",
            "pred:  [0 0 0 ... 0 1 0] [0 1]\n",
            "out:  [0 0 1 ... 0 1 1] [0 1]\n",
            "correct:  8043  total:  10000 sum:  8043\n",
            "Accuracy of the network on the 10000 test dataset 11: 80 %\n",
            "--------------------------------------------------------------------------------\n",
            "--------------------------------------------------------------------------------\n",
            "training on data set   8\n",
            "epoch: [0 ] loss: 0.740\n",
            "epoch: [1] loss: 0.740\n",
            "epoch: [201] loss: 0.728\n",
            "epoch: [401] loss: 0.724\n",
            "epoch: [601] loss: 0.721\n",
            "epoch: [801] loss: 0.719\n",
            "Finished Training\n",
            "Accuracy of the network on the 10000 train images: 56 %\n",
            "pred:  [0 0 1 ... 1 1 1] [0 1]\n",
            "out:  [0 1 0 ... 1 1 1] [0 1]\n",
            "correct:  5554  total:  10000 sum:  5554\n",
            "Accuracy of the network on the 10000 test dataset 1: 55 %\n",
            "pred:  [0 0 1 ... 1 1 1] [0 1]\n",
            "out:  [0 1 0 ... 1 1 1] [0 1]\n",
            "correct:  5556  total:  10000 sum:  5556\n",
            "Accuracy of the network on the 10000 test dataset 2: 55 %\n",
            "pred:  [0 0 1 ... 1 1 1] [0 1]\n",
            "out:  [0 1 0 ... 1 1 1] [0 1]\n",
            "correct:  5556  total:  10000 sum:  5556\n",
            "Accuracy of the network on the 10000 test dataset 3: 55 %\n",
            "pred:  [0 0 1 ... 1 1 1] [0 1]\n",
            "out:  [0 1 0 ... 1 1 1] [0 1]\n",
            "correct:  5558  total:  10000 sum:  5558\n",
            "Accuracy of the network on the 10000 test dataset 4: 55 %\n",
            "pred:  [0 0 1 ... 1 1 1] [0 1]\n",
            "out:  [0 1 0 ... 1 1 1] [0 1]\n",
            "correct:  5568  total:  10000 sum:  5568\n",
            "Accuracy of the network on the 10000 test dataset 5: 55 %\n",
            "pred:  [0 0 1 ... 1 1 1] [0 1]\n",
            "out:  [0 1 0 ... 1 1 1] [0 1]\n",
            "correct:  5583  total:  10000 sum:  5583\n",
            "Accuracy of the network on the 10000 test dataset 6: 55 %\n",
            "pred:  [0 0 1 ... 1 1 1] [0 1]\n",
            "out:  [0 1 0 ... 1 1 1] [0 1]\n",
            "correct:  5608  total:  10000 sum:  5608\n",
            "Accuracy of the network on the 10000 test dataset 7: 56 %\n",
            "pred:  [0 0 1 ... 1 1 1] [0 1]\n",
            "out:  [0 1 0 ... 1 1 1] [0 1]\n",
            "correct:  5657  total:  10000 sum:  5657\n",
            "Accuracy of the network on the 10000 test dataset 8: 56 %\n",
            "pred:  [0 0 1 ... 1 1 1] [0 1]\n",
            "out:  [0 1 0 ... 1 1 1] [0 1]\n",
            "correct:  5772  total:  10000 sum:  5772\n",
            "Accuracy of the network on the 10000 test dataset 9: 57 %\n",
            "pred:  [0 0 1 ... 1 1 1] [0 1]\n",
            "out:  [0 1 0 ... 1 1 1] [0 1]\n",
            "correct:  5993  total:  10000 sum:  5993\n",
            "Accuracy of the network on the 10000 test dataset 10: 59 %\n",
            "pred:  [0 0 0 ... 0 1 1] [0 1]\n",
            "out:  [0 0 1 ... 0 1 1] [0 1]\n",
            "correct:  9392  total:  10000 sum:  9392\n",
            "Accuracy of the network on the 10000 test dataset 11: 93 %\n",
            "--------------------------------------------------------------------------------\n",
            "--------------------------------------------------------------------------------\n",
            "training on data set   9\n",
            "epoch: [0 ] loss: 0.740\n",
            "epoch: [1] loss: 0.740\n",
            "epoch: [201] loss: 0.724\n",
            "epoch: [401] loss: 0.718\n",
            "epoch: [601] loss: 0.715\n",
            "epoch: [801] loss: 0.712\n",
            "Finished Training\n",
            "Accuracy of the network on the 10000 train images: 58 %\n",
            "pred:  [1 0 1 ... 1 1 1] [0 1]\n",
            "out:  [0 1 0 ... 1 1 1] [0 1]\n",
            "correct:  5435  total:  10000 sum:  5435\n",
            "Accuracy of the network on the 10000 test dataset 1: 54 %\n",
            "pred:  [1 0 1 ... 1 1 1] [0 1]\n",
            "out:  [0 1 0 ... 1 1 1] [0 1]\n",
            "correct:  5437  total:  10000 sum:  5437\n",
            "Accuracy of the network on the 10000 test dataset 2: 54 %\n",
            "pred:  [1 0 1 ... 1 1 1] [0 1]\n",
            "out:  [0 1 0 ... 1 1 1] [0 1]\n",
            "correct:  5440  total:  10000 sum:  5440\n",
            "Accuracy of the network on the 10000 test dataset 3: 54 %\n",
            "pred:  [1 0 1 ... 1 1 1] [0 1]\n",
            "out:  [0 1 0 ... 1 1 1] [0 1]\n",
            "correct:  5443  total:  10000 sum:  5443\n",
            "Accuracy of the network on the 10000 test dataset 4: 54 %\n",
            "pred:  [1 0 1 ... 1 1 1] [0 1]\n",
            "out:  [0 1 0 ... 1 1 1] [0 1]\n",
            "correct:  5458  total:  10000 sum:  5458\n",
            "Accuracy of the network on the 10000 test dataset 5: 54 %\n",
            "pred:  [1 0 1 ... 1 1 1] [0 1]\n",
            "out:  [0 1 0 ... 1 1 1] [0 1]\n",
            "correct:  5474  total:  10000 sum:  5474\n",
            "Accuracy of the network on the 10000 test dataset 6: 54 %\n",
            "pred:  [0 0 1 ... 1 1 1] [0 1]\n",
            "out:  [0 1 0 ... 1 1 1] [0 1]\n",
            "correct:  5530  total:  10000 sum:  5530\n",
            "Accuracy of the network on the 10000 test dataset 7: 55 %\n",
            "pred:  [0 0 1 ... 1 1 1] [0 1]\n",
            "out:  [0 1 0 ... 1 1 1] [0 1]\n",
            "correct:  5640  total:  10000 sum:  5640\n",
            "Accuracy of the network on the 10000 test dataset 8: 56 %\n",
            "pred:  [0 0 1 ... 1 1 1] [0 1]\n",
            "out:  [0 1 0 ... 1 1 1] [0 1]\n",
            "correct:  5832  total:  10000 sum:  5832\n",
            "Accuracy of the network on the 10000 test dataset 9: 58 %\n",
            "pred:  [0 0 1 ... 1 1 1] [0 1]\n",
            "out:  [0 1 0 ... 1 1 1] [0 1]\n",
            "correct:  6217  total:  10000 sum:  6217\n",
            "Accuracy of the network on the 10000 test dataset 10: 62 %\n",
            "pred:  [0 0 1 ... 0 1 1] [0 1]\n",
            "out:  [0 0 1 ... 0 1 1] [0 1]\n",
            "correct:  9887  total:  10000 sum:  9887\n",
            "Accuracy of the network on the 10000 test dataset 11: 98 %\n",
            "--------------------------------------------------------------------------------\n",
            "--------------------------------------------------------------------------------\n",
            "training on data set   10\n",
            "epoch: [0 ] loss: 0.740\n",
            "epoch: [1] loss: 0.740\n",
            "epoch: [201] loss: 0.707\n",
            "epoch: [401] loss: 0.696\n",
            "epoch: [601] loss: 0.687\n",
            "epoch: [801] loss: 0.681\n",
            "Finished Training\n",
            "Accuracy of the network on the 10000 train images: 63 %\n",
            "pred:  [1 0 1 ... 1 1 1] [0 1]\n",
            "out:  [0 1 0 ... 1 1 1] [0 1]\n",
            "correct:  5284  total:  10000 sum:  5284\n",
            "Accuracy of the network on the 10000 test dataset 1: 52 %\n",
            "pred:  [1 0 1 ... 1 1 1] [0 1]\n",
            "out:  [0 1 0 ... 1 1 1] [0 1]\n",
            "correct:  5288  total:  10000 sum:  5288\n",
            "Accuracy of the network on the 10000 test dataset 2: 52 %\n",
            "pred:  [1 0 1 ... 1 1 1] [0 1]\n",
            "out:  [0 1 0 ... 1 1 1] [0 1]\n",
            "correct:  5290  total:  10000 sum:  5290\n",
            "Accuracy of the network on the 10000 test dataset 3: 52 %\n",
            "pred:  [1 0 1 ... 1 1 1] [0 1]\n",
            "out:  [0 1 0 ... 1 1 1] [0 1]\n",
            "correct:  5302  total:  10000 sum:  5302\n",
            "Accuracy of the network on the 10000 test dataset 4: 53 %\n",
            "pred:  [1 0 1 ... 1 1 1] [0 1]\n",
            "out:  [0 1 0 ... 1 1 1] [0 1]\n",
            "correct:  5314  total:  10000 sum:  5314\n",
            "Accuracy of the network on the 10000 test dataset 5: 53 %\n",
            "pred:  [1 0 1 ... 1 1 1] [0 1]\n",
            "out:  [0 1 0 ... 1 1 1] [0 1]\n",
            "correct:  5350  total:  10000 sum:  5350\n",
            "Accuracy of the network on the 10000 test dataset 6: 53 %\n",
            "pred:  [1 0 1 ... 1 1 1] [0 1]\n",
            "out:  [0 1 0 ... 1 1 1] [0 1]\n",
            "correct:  5422  total:  10000 sum:  5422\n",
            "Accuracy of the network on the 10000 test dataset 7: 54 %\n",
            "pred:  [1 0 1 ... 1 1 1] [0 1]\n",
            "out:  [0 1 0 ... 1 1 1] [0 1]\n",
            "correct:  5552  total:  10000 sum:  5552\n",
            "Accuracy of the network on the 10000 test dataset 8: 55 %\n",
            "pred:  [1 0 1 ... 1 1 1] [0 1]\n",
            "out:  [0 1 0 ... 1 1 1] [0 1]\n",
            "correct:  5817  total:  10000 sum:  5817\n",
            "Accuracy of the network on the 10000 test dataset 9: 58 %\n",
            "pred:  [0 0 1 ... 1 1 1] [0 1]\n",
            "out:  [0 1 0 ... 1 1 1] [0 1]\n",
            "correct:  6307  total:  10000 sum:  6307\n",
            "Accuracy of the network on the 10000 test dataset 10: 63 %\n",
            "pred:  [0 0 1 ... 0 1 1] [0 1]\n",
            "out:  [0 0 1 ... 0 1 1] [0 1]\n",
            "correct:  9934  total:  10000 sum:  9934\n",
            "Accuracy of the network on the 10000 test dataset 11: 99 %\n",
            "--------------------------------------------------------------------------------\n"
          ],
          "name": "stdout"
        }
      ]
    },
    {
      "cell_type": "code",
      "metadata": {
        "id": "DlDXudp5naB3",
        "colab": {
          "base_uri": "https://localhost:8080/",
          "height": 279
        },
        "outputId": "8fdc27f9-193b-4bf6-dedc-79b0a2d78d6e"
      },
      "source": [
        "%matplotlib inline\n",
        "\n",
        "fig = plt.figure()\n",
        "for i,j in enumerate(train_loss_all):\n",
        "    plt.plot(j,label =\"dataset \"+str(i+1))\n",
        "    \n",
        "\n",
        "plt.xlabel(\"Epochs\")\n",
        "plt.ylabel(\"Training_loss\")\n",
        "\n",
        "plt.legend(loc='center left', bbox_to_anchor=(1, 0.5))\n",
        "fig.savefig(\"Figure.pdf\")"
      ],
      "execution_count": 54,
      "outputs": [
        {
          "output_type": "display_data",
          "data": {
            "image/png": "[encoded data removed]",
            "text/plain": [
              "<Figure size 432x288 with 1 Axes>"
            ]
          },
          "metadata": {
            "tags": [],
            "needs_background": "light"
          }
        }
      ]
    },
    {
      "cell_type": "code",
      "metadata": {
        "id": "Fe45SA2hiUTN"
      },
      "source": [
        ""
      ],
      "execution_count": 37,
      "outputs": []
    }
  ]
}