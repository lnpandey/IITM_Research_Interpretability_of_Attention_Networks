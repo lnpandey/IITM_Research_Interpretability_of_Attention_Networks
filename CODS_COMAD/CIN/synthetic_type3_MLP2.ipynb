{
  "nbformat": 4,
  "nbformat_minor": 0,
  "metadata": {
    "accelerator": "GPU",
    "colab": {
      "name": "synthetic_type3_MLP2.ipynb",
      "provenance": [],
      "collapsed_sections": []
    },
    "kernelspec": {
      "display_name": "Python 3",
      "language": "python",
      "name": "python3"
    },
    "language_info": {
      "codemirror_mode": {
        "name": "ipython",
        "version": 3
      },
      "file_extension": ".py",
      "mimetype": "text/x-python",
      "name": "python",
      "nbconvert_exporter": "python",
      "pygments_lexer": "ipython3",
      "version": "3.6.5"
    }
  },
  "cells": [
    {
      "cell_type": "code",
      "metadata": {
        "colab": {
          "base_uri": "https://localhost:8080/"
        },
        "id": "N2_J4Rw2r0SQ",
        "outputId": "e30c082e-e7a0-44a2-fc18-582c182f00f5"
      },
      "source": [
        "import numpy as np\n",
        "import pandas as pd\n",
        "from matplotlib import pyplot as plt\n",
        "from tqdm import tqdm\n",
        "%matplotlib inline\n",
        "from torch.utils.data import Dataset, DataLoader\n",
        "import torch\n",
        "import torchvision\n",
        "\n",
        "import torch.nn as nn\n",
        "import torch.optim as optim\n",
        "from torch.nn import functional as F\n",
        "device = torch.device(\"cuda\" if torch.cuda.is_available() else \"cpu\")\n",
        "print(device)"
      ],
      "execution_count": 191,
      "outputs": [
        {
          "output_type": "stream",
          "text": [
            "cuda\n"
          ],
          "name": "stdout"
        }
      ]
    },
    {
      "cell_type": "markdown",
      "metadata": {
        "id": "F6fjud_Fr0Sa"
      },
      "source": [
        "# Generate dataset"
      ]
    },
    {
      "cell_type": "code",
      "metadata": {
        "colab": {
          "base_uri": "https://localhost:8080/"
        },
        "id": "CqdXHO0Cr0Sd",
        "outputId": "8c789dcb-9988-4c06-8769-56fe28cbd5c3"
      },
      "source": [
        "np.random.seed(12)\n",
        "y = np.random.randint(0,10,5000)\n",
        "idx= []\n",
        "for i in range(10):\n",
        "    print(i,sum(y==i))\n",
        "    idx.append(y==i)"
      ],
      "execution_count": 192,
      "outputs": [
        {
          "output_type": "stream",
          "text": [
            "0 530\n",
            "1 463\n",
            "2 494\n",
            "3 517\n",
            "4 488\n",
            "5 497\n",
            "6 493\n",
            "7 507\n",
            "8 492\n",
            "9 519\n"
          ],
          "name": "stdout"
        }
      ]
    },
    {
      "cell_type": "code",
      "metadata": {
        "id": "ddhXyODwr0Sk"
      },
      "source": [
        "x = np.zeros((5000,2))"
      ],
      "execution_count": 193,
      "outputs": []
    },
    {
      "cell_type": "code",
      "metadata": {
        "id": "DyV3N2DIr0Sp"
      },
      "source": [
        "np.random.seed(12)\n",
        "x[idx[0],:] = np.random.multivariate_normal(mean = [5,5],cov=[[0.1,0],[0,0.1]],size=sum(idx[0]))\n",
        "x[idx[1],:] = np.random.multivariate_normal(mean = [6,6],cov=[[0.1,0],[0,0.1]],size=sum(idx[1]))\n",
        "x[idx[2],:] = np.random.multivariate_normal(mean = [5.5,6.5],cov=[[0.1,0],[0,0.1]],size=sum(idx[2]))\n",
        "x[idx[3],:] = np.random.multivariate_normal(mean = [-1,0],cov=[[0.1,0],[0,0.1]],size=sum(idx[3]))\n",
        "x[idx[4],:] = np.random.multivariate_normal(mean = [0,2],cov=[[0.1,0],[0,0.1]],size=sum(idx[4]))\n",
        "x[idx[5],:] = np.random.multivariate_normal(mean = [1,0],cov=[[0.1,0],[0,0.1]],size=sum(idx[5]))\n",
        "x[idx[6],:] = np.random.multivariate_normal(mean = [0,-1],cov=[[0.1,0],[0,0.1]],size=sum(idx[6]))\n",
        "x[idx[7],:] = np.random.multivariate_normal(mean = [0,0],cov=[[0.1,0],[0,0.1]],size=sum(idx[7]))\n",
        "x[idx[8],:] = np.random.multivariate_normal(mean = [-0.5,-0.5],cov=[[0.1,0],[0,0.1]],size=sum(idx[8]))\n",
        "x[idx[9],:] = np.random.multivariate_normal(mean = [0.4,0.2],cov=[[0.1,0],[0,0.1]],size=sum(idx[9]))"
      ],
      "execution_count": 194,
      "outputs": []
    },
    {
      "cell_type": "code",
      "metadata": {
        "colab": {
          "base_uri": "https://localhost:8080/"
        },
        "id": "qh1mDScsU07I",
        "outputId": "d5d90b21-17f5-4cf5-b03f-34dfcbc082fd"
      },
      "source": [
        "x[idx[0]][0], x[idx[5]][5] "
      ],
      "execution_count": 195,
      "outputs": [
        {
          "output_type": "execute_result",
          "data": {
            "text/plain": [
              "(array([5.14957125, 4.78451422]), array([0.87756167, 0.00457805]))"
            ]
          },
          "metadata": {
            "tags": []
          },
          "execution_count": 195
        }
      ]
    },
    {
      "cell_type": "code",
      "metadata": {
        "colab": {
          "base_uri": "https://localhost:8080/",
          "height": 284
        },
        "id": "hJ8Jm7YUr0St",
        "outputId": "4eba3852-3d93-4fa1-a2b4-df85cac32cbb"
      },
      "source": [
        "for i in range(10):\n",
        "    plt.scatter(x[idx[i],0],x[idx[i],1],label=\"class_\"+str(i))\n",
        "plt.legend(loc='center left', bbox_to_anchor=(1, 0.5))"
      ],
      "execution_count": 196,
      "outputs": [
        {
          "output_type": "execute_result",
          "data": {
            "text/plain": [
              "<matplotlib.legend.Legend at 0x7f2e213b4a10>"
            ]
          },
          "metadata": {
            "tags": []
          },
          "execution_count": 196
        },
        {
          "output_type": "display_data",
          "data": {
            "image/png": "[encoded data removed]",
            "text/plain": [
              "<Figure size 432x288 with 1 Axes>"
            ]
          },
          "metadata": {
            "tags": [],
            "needs_background": "light"
          }
        }
      ]
    },
    {
      "cell_type": "code",
      "metadata": {
        "colab": {
          "base_uri": "https://localhost:8080/"
        },
        "id": "3lMBZEHNBlF2",
        "outputId": "b3d9346d-ad75-4a98-f9d4-cb1128fc5241"
      },
      "source": [
        "bg_idx = [ np.where(idx[3] == True)[0], \n",
        "          np.where(idx[4] == True)[0], \n",
        "          np.where(idx[5] == True)[0],\n",
        "          np.where(idx[6] == True)[0], \n",
        "          np.where(idx[7] == True)[0], \n",
        "          np.where(idx[8] == True)[0],\n",
        "          np.where(idx[9] == True)[0]]\n",
        "\n",
        "bg_idx = np.concatenate(bg_idx, axis = 0)\n",
        "bg_idx.shape"
      ],
      "execution_count": 197,
      "outputs": [
        {
          "output_type": "execute_result",
          "data": {
            "text/plain": [
              "(3513,)"
            ]
          },
          "metadata": {
            "tags": []
          },
          "execution_count": 197
        }
      ]
    },
    {
      "cell_type": "code",
      "metadata": {
        "colab": {
          "base_uri": "https://localhost:8080/"
        },
        "id": "blRbGZHeCwXU",
        "outputId": "07e3a52a-13e7-4026-dd23-72262a6775fb"
      },
      "source": [
        "np.unique(bg_idx).shape"
      ],
      "execution_count": 198,
      "outputs": [
        {
          "output_type": "execute_result",
          "data": {
            "text/plain": [
              "(3513,)"
            ]
          },
          "metadata": {
            "tags": []
          },
          "execution_count": 198
        }
      ]
    },
    {
      "cell_type": "code",
      "metadata": {
        "id": "Y43sWeX7C15F"
      },
      "source": [
        "x = x - np.mean(x[bg_idx], axis = 0, keepdims = True)\n"
      ],
      "execution_count": 199,
      "outputs": []
    },
    {
      "cell_type": "code",
      "metadata": {
        "colab": {
          "base_uri": "https://localhost:8080/"
        },
        "id": "ooII7N6UDWe0",
        "outputId": "423a5a6a-539f-40f6-87f3-e3729a15d963"
      },
      "source": [
        "np.mean(x[bg_idx], axis = 0, keepdims = True), np.mean(x, axis = 0, keepdims = True)"
      ],
      "execution_count": 200,
      "outputs": [
        {
          "output_type": "execute_result",
          "data": {
            "text/plain": [
              "(array([[-1.04275003e-16,  6.74571889e-17]]),\n",
              " array([[1.63261967, 1.69552644]]))"
            ]
          },
          "metadata": {
            "tags": []
          },
          "execution_count": 200
        }
      ]
    },
    {
      "cell_type": "code",
      "metadata": {
        "id": "g21bvPRYDL9k"
      },
      "source": [
        "x = x/np.std(x[bg_idx], axis = 0, keepdims = True)"
      ],
      "execution_count": 201,
      "outputs": []
    },
    {
      "cell_type": "code",
      "metadata": {
        "colab": {
          "base_uri": "https://localhost:8080/"
        },
        "id": "GtFvIeHsDZJk",
        "outputId": "debdb194-a952-46a7-a50b-a5bede69259c"
      },
      "source": [
        "np.std(x[bg_idx], axis = 0, keepdims = True), np.std(x, axis = 0, keepdims = True)"
      ],
      "execution_count": 202,
      "outputs": [
        {
          "output_type": "execute_result",
          "data": {
            "text/plain": [
              "(array([[1., 1.]]), array([[3.93071885, 3.03840862]]))"
            ]
          },
          "metadata": {
            "tags": []
          },
          "execution_count": 202
        }
      ]
    },
    {
      "cell_type": "code",
      "metadata": {
        "colab": {
          "base_uri": "https://localhost:8080/",
          "height": 284
        },
        "id": "8-VLhUfDDeHt",
        "outputId": "6d00d386-4762-4f80-ae3f-e3ab723d837c"
      },
      "source": [
        "for i in range(10):\n",
        "    plt.scatter(x[idx[i],0],x[idx[i],1],label=\"class_\"+str(i))\n",
        "plt.legend(loc='center left', bbox_to_anchor=(1, 0.5))"
      ],
      "execution_count": 203,
      "outputs": [
        {
          "output_type": "execute_result",
          "data": {
            "text/plain": [
              "<matplotlib.legend.Legend at 0x7f2e20f90210>"
            ]
          },
          "metadata": {
            "tags": []
          },
          "execution_count": 203
        },
        {
          "output_type": "display_data",
          "data": {
            "image/png": "[encoded data removed]",
            "text/plain": [
              "<Figure size 432x288 with 1 Axes>"
            ]
          },
          "metadata": {
            "tags": [],
            "needs_background": "light"
          }
        }
      ]
    },
    {
      "cell_type": "code",
      "metadata": {
        "id": "UfFHcZJOr0Sz"
      },
      "source": [
        "foreground_classes = {'class_0','class_1', 'class_2'}\n",
        "\n",
        "background_classes = {'class_3','class_4', 'class_5', 'class_6','class_7', 'class_8', 'class_9'}"
      ],
      "execution_count": 204,
      "outputs": []
    },
    {
      "cell_type": "code",
      "metadata": {
        "colab": {
          "base_uri": "https://localhost:8080/"
        },
        "id": "OplNpNQVr0S2",
        "outputId": "1f236693-d663-4875-b315-8ddc799d576a"
      },
      "source": [
        "fg_class  = np.random.randint(0,3)\n",
        "fg_idx = np.random.randint(0,9)\n",
        "\n",
        "a = []\n",
        "for i in range(9):\n",
        "    if i == fg_idx:\n",
        "        b = np.random.choice(np.where(idx[fg_class]==True)[0],size=1)\n",
        "        a.append(x[b])\n",
        "        print(\"foreground \"+str(fg_class)+\" present at \" + str(fg_idx))\n",
        "    else:\n",
        "        bg_class = np.random.randint(3,10)\n",
        "        b = np.random.choice(np.where(idx[bg_class]==True)[0],size=1)\n",
        "        a.append(x[b])\n",
        "        print(\"background \"+str(bg_class)+\" present at \" + str(i))\n",
        "a = np.concatenate(a,axis=0)\n",
        "print(a.shape)\n",
        "\n",
        "print(fg_class , fg_idx)"
      ],
      "execution_count": 205,
      "outputs": [
        {
          "output_type": "stream",
          "text": [
            "background 5 present at 0\n",
            "background 6 present at 1\n",
            "foreground 2 present at 2\n",
            "background 5 present at 3\n",
            "background 3 present at 4\n",
            "background 5 present at 5\n",
            "background 7 present at 6\n",
            "background 6 present at 7\n",
            "background 5 present at 8\n",
            "(9, 2)\n",
            "2 2\n"
          ],
          "name": "stdout"
        }
      ]
    },
    {
      "cell_type": "code",
      "metadata": {
        "colab": {
          "base_uri": "https://localhost:8080/"
        },
        "id": "dwZVmmRBr0S8",
        "outputId": "01e1a366-71e6-4329-fb48-b4aa425a5039"
      },
      "source": [
        "a.shape"
      ],
      "execution_count": 206,
      "outputs": [
        {
          "output_type": "execute_result",
          "data": {
            "text/plain": [
              "(9, 2)"
            ]
          },
          "metadata": {
            "tags": []
          },
          "execution_count": 206
        }
      ]
    },
    {
      "cell_type": "code",
      "metadata": {
        "colab": {
          "base_uri": "https://localhost:8080/"
        },
        "id": "OoxzYI-ur0S_",
        "outputId": "194f5276-4446-4b20-def9-58de9c2c5dba"
      },
      "source": [
        "np.reshape(a,(18,1))"
      ],
      "execution_count": 207,
      "outputs": [
        {
          "output_type": "execute_result",
          "data": {
            "text/plain": [
              "array([[ 1.52560273],\n",
              "       [-0.1298488 ],\n",
              "       [-0.4226508 ],\n",
              "       [-1.2003313 ],\n",
              "       [ 8.5153438 ],\n",
              "       [ 7.02349438],\n",
              "       [ 2.09728368],\n",
              "       [-0.24465132],\n",
              "       [-0.98608769],\n",
              "       [-0.75123246],\n",
              "       [ 1.37297554],\n",
              "       [-0.37673308],\n",
              "       [-0.88469208],\n",
              "       [-0.11155199],\n",
              "       [ 0.32308641],\n",
              "       [-1.23774128],\n",
              "       [ 1.37297554],\n",
              "       [-0.37673308]])"
            ]
          },
          "metadata": {
            "tags": []
          },
          "execution_count": 207
        }
      ]
    },
    {
      "cell_type": "code",
      "metadata": {
        "id": "y4ruI0cxr0TE"
      },
      "source": [
        "a=np.reshape(a,(3,6))"
      ],
      "execution_count": 208,
      "outputs": []
    },
    {
      "cell_type": "code",
      "metadata": {
        "colab": {
          "base_uri": "https://localhost:8080/",
          "height": 238
        },
        "id": "RTUTFhJIr0TI",
        "outputId": "d62322f5-9f61-4e0c-ffc7-2afd45fb66c6"
      },
      "source": [
        "plt.imshow(a)"
      ],
      "execution_count": 209,
      "outputs": [
        {
          "output_type": "execute_result",
          "data": {
            "text/plain": [
              "<matplotlib.image.AxesImage at 0x7f2e20fd8d90>"
            ]
          },
          "metadata": {
            "tags": []
          },
          "execution_count": 209
        },
        {
          "output_type": "display_data",
          "data": {
            "image/png": "[encoded data removed]",
            "text/plain": [
              "<Figure size 432x288 with 1 Axes>"
            ]
          },
          "metadata": {
            "tags": [],
            "needs_background": "light"
          }
        }
      ]
    },
    {
      "cell_type": "code",
      "metadata": {
        "id": "jqbvfbwVr0TN"
      },
      "source": [
        "desired_num = 2000\n",
        "mosaic_list_of_images =[]\n",
        "mosaic_label = []\n",
        "fore_idx=[]\n",
        "for j in range(desired_num):\n",
        "    np.random.seed(j)\n",
        "    fg_class  = np.random.randint(0,3)\n",
        "    fg_idx = 0\n",
        "    a = []\n",
        "    for i in range(9):\n",
        "        if i == fg_idx:\n",
        "            b = np.random.choice(np.where(idx[fg_class]==True)[0],size=1)\n",
        "            a.append(x[b])\n",
        "#             print(\"foreground \"+str(fg_class)+\" present at \" + str(fg_idx))\n",
        "        else:\n",
        "            bg_class = np.random.randint(3,10)\n",
        "            b = np.random.choice(np.where(idx[bg_class]==True)[0],size=1)\n",
        "            a.append(x[b])\n",
        "#             print(\"background \"+str(bg_class)+\" present at \" + str(i))\n",
        "    a = np.concatenate(a,axis=0)\n",
        "    mosaic_list_of_images.append(np.reshape(a,(18,1)))\n",
        "    mosaic_label.append(fg_class)\n",
        "    fore_idx.append(fg_idx)"
      ],
      "execution_count": 210,
      "outputs": []
    },
    {
      "cell_type": "code",
      "metadata": {
        "id": "BOsFmWfMr0TR"
      },
      "source": [
        "mosaic_list_of_images = np.concatenate(mosaic_list_of_images,axis=1).T\n"
      ],
      "execution_count": 211,
      "outputs": []
    },
    {
      "cell_type": "code",
      "metadata": {
        "colab": {
          "base_uri": "https://localhost:8080/"
        },
        "id": "2aIPMgLXNiXW",
        "outputId": "440195a5-d651-4ab7-8610-052e97251881"
      },
      "source": [
        "mosaic_list_of_images.shape, mosaic_list_of_images[0]"
      ],
      "execution_count": 212,
      "outputs": [
        {
          "output_type": "execute_result",
          "data": {
            "text/plain": [
              "((2000, 18),\n",
              " array([ 8.09802917,  5.02587859, -0.02599553, -1.54374402,  0.47835858,\n",
              "        -1.25389275,  0.50044544,  1.71315143, -0.72603666, -0.68240088,\n",
              "         0.34070696,  0.0288995 ,  0.71631136, -0.14262169, -1.42817136,\n",
              "        -0.38290202,  1.24086849, -0.14745404]))"
            ]
          },
          "metadata": {
            "tags": []
          },
          "execution_count": 212
        }
      ]
    },
    {
      "cell_type": "code",
      "metadata": {
        "colab": {
          "base_uri": "https://localhost:8080/"
        },
        "id": "A3qcsbbzPfRG",
        "outputId": "5de5cea2-5a53-49c3-ea5f-0c0d301d4f18"
      },
      "source": [
        "for j in range(9):\n",
        "  print(mosaic_list_of_images[0][2*j:2*j+2])\n",
        "  "
      ],
      "execution_count": 213,
      "outputs": [
        {
          "output_type": "stream",
          "text": [
            "[8.09802917 5.02587859]\n",
            "[-0.02599553 -1.54374402]\n",
            "[ 0.47835858 -1.25389275]\n",
            "[0.50044544 1.71315143]\n",
            "[-0.72603666 -0.68240088]\n",
            "[0.34070696 0.0288995 ]\n",
            "[ 0.71631136 -0.14262169]\n",
            "[-1.42817136 -0.38290202]\n",
            "[ 1.24086849 -0.14745404]\n"
          ],
          "name": "stdout"
        }
      ]
    },
    {
      "cell_type": "code",
      "metadata": {
        "id": "iPoIwbMHx44n"
      },
      "source": [
        "def create_avg_image_from_mosaic_dataset(mosaic_dataset,labels,foreground_index,dataset_number):\n",
        "  \"\"\"\n",
        "  mosaic_dataset : mosaic_dataset contains 9 images 32 x 32 each as 1 data point\n",
        "  labels : mosaic_dataset labels\n",
        "  foreground_index : contains list of indexes where foreground image is present so that using this we can take weighted average\n",
        "  dataset_number : will help us to tell what ratio of foreground image to be taken. for eg: if it is \"j\" then fg_image_ratio = j/9 , bg_image_ratio = (9-j)/8*9\n",
        "  \"\"\"\n",
        "  avg_image_dataset = []\n",
        "  cnt = 0\n",
        "  counter = np.array([0,0,0,0,0,0,0,0,0])\n",
        "  for i in range(len(mosaic_dataset)):\n",
        "    img = torch.zeros([2], dtype=torch.float64)\n",
        "    np.random.seed(int(dataset_number*10000 + i))\n",
        "    give_pref = foreground_index[i] #np.random.randint(0,9)\n",
        "    # print(\"outside\", give_pref,foreground_index[i])\n",
        "    for j in range(9):\n",
        "      if j == give_pref:\n",
        "        img = img + mosaic_dataset[i][2*j:2*j+2]*dataset_number/9   #2 is data dim\n",
        "      else :\n",
        "        img = img + mosaic_dataset[i][2*j:2*j+2]*(9-dataset_number)/(8*9)\n",
        "\n",
        "    if give_pref == foreground_index[i] :\n",
        "      # print(\"equal are\", give_pref,foreground_index[i])\n",
        "      cnt += 1\n",
        "      counter[give_pref] += 1\n",
        "    else :\n",
        "      counter[give_pref] += 1\n",
        "\n",
        "    avg_image_dataset.append(img)\n",
        "\n",
        "  print(\"number of correct averaging happened for dataset \"+str(dataset_number)+\" is \"+str(cnt)) \n",
        "  print(\"the averaging are done as \", counter) \n",
        "  return avg_image_dataset , labels , foreground_index\n",
        "        \n",
        "  "
      ],
      "execution_count": 214,
      "outputs": []
    },
    {
      "cell_type": "code",
      "metadata": {
        "colab": {
          "base_uri": "https://localhost:8080/"
        },
        "id": "30ZAjix3x8CM",
        "outputId": "ed07c630-cc3d-48a0-8cea-be441c3dc7b0"
      },
      "source": [
        "avg_image_dataset_1 , labels_1,  fg_index_1 = create_avg_image_from_mosaic_dataset(mosaic_list_of_images[0:1000], mosaic_label[0:1000], fore_idx[0:1000] , 0)\n",
        "avg_image_dataset_2 , labels_2,  fg_index_2 = create_avg_image_from_mosaic_dataset(mosaic_list_of_images[0:1000], mosaic_label[0:1000], fore_idx[0:1000] , 1)\n",
        "avg_image_dataset_3 , labels_3,  fg_index_3 = create_avg_image_from_mosaic_dataset(mosaic_list_of_images[0:1000], mosaic_label[0:1000], fore_idx[0:1000] , 2)\n",
        "avg_image_dataset_4 , labels_4,  fg_index_4 = create_avg_image_from_mosaic_dataset(mosaic_list_of_images[0:1000], mosaic_label[0:1000], fore_idx[0:1000] , 3)\n",
        "avg_image_dataset_5 , labels_5,  fg_index_5 = create_avg_image_from_mosaic_dataset(mosaic_list_of_images[0:1000], mosaic_label[0:1000], fore_idx[0:1000] , 4)\n",
        "avg_image_dataset_6 , labels_6,  fg_index_6 = create_avg_image_from_mosaic_dataset(mosaic_list_of_images[0:1000], mosaic_label[0:1000], fore_idx[0:1000] , 5)\n",
        "avg_image_dataset_7 , labels_7,  fg_index_7 = create_avg_image_from_mosaic_dataset(mosaic_list_of_images[0:1000], mosaic_label[0:1000], fore_idx[0:1000] , 6)\n",
        "avg_image_dataset_8 , labels_8,  fg_index_8 = create_avg_image_from_mosaic_dataset(mosaic_list_of_images[0:1000], mosaic_label[0:1000], fore_idx[0:1000] , 7)\n",
        "avg_image_dataset_9 , labels_9,  fg_index_9 = create_avg_image_from_mosaic_dataset(mosaic_list_of_images[0:1000], mosaic_label[0:1000], fore_idx[0:1000] , 8)\n",
        "avg_image_dataset_10 , labels_10,  fg_index_10 = create_avg_image_from_mosaic_dataset(mosaic_list_of_images[0:1000], mosaic_label[0:1000], fore_idx[0:1000] , 9)\n",
        "\n",
        "test_dataset , labels , fg_index = create_avg_image_from_mosaic_dataset(mosaic_list_of_images[1000:2000], mosaic_label[1000:2000], fore_idx[1000:2000] , 9)"
      ],
      "execution_count": 215,
      "outputs": [
        {
          "output_type": "stream",
          "text": [
            "number of correct averaging happened for dataset 0 is 1000\n",
            "the averaging are done as  [1000    0    0    0    0    0    0    0    0]\n",
            "number of correct averaging happened for dataset 1 is 1000\n",
            "the averaging are done as  [1000    0    0    0    0    0    0    0    0]\n",
            "number of correct averaging happened for dataset 2 is 1000\n",
            "the averaging are done as  [1000    0    0    0    0    0    0    0    0]\n",
            "number of correct averaging happened for dataset 3 is 1000\n",
            "the averaging are done as  [1000    0    0    0    0    0    0    0    0]\n",
            "number of correct averaging happened for dataset 4 is 1000\n",
            "the averaging are done as  [1000    0    0    0    0    0    0    0    0]\n",
            "number of correct averaging happened for dataset 5 is 1000\n",
            "the averaging are done as  [1000    0    0    0    0    0    0    0    0]\n",
            "number of correct averaging happened for dataset 6 is 1000\n",
            "the averaging are done as  [1000    0    0    0    0    0    0    0    0]\n",
            "number of correct averaging happened for dataset 7 is 1000\n",
            "the averaging are done as  [1000    0    0    0    0    0    0    0    0]\n",
            "number of correct averaging happened for dataset 8 is 1000\n",
            "the averaging are done as  [1000    0    0    0    0    0    0    0    0]\n",
            "number of correct averaging happened for dataset 9 is 1000\n",
            "the averaging are done as  [1000    0    0    0    0    0    0    0    0]\n",
            "number of correct averaging happened for dataset 9 is 1000\n",
            "the averaging are done as  [1000    0    0    0    0    0    0    0    0]\n"
          ],
          "name": "stdout"
        }
      ]
    },
    {
      "cell_type": "code",
      "metadata": {
        "colab": {
          "base_uri": "https://localhost:8080/"
        },
        "id": "0dYXnywAD-4l",
        "outputId": "b74c5631-06d8-4d31-8b51-0913228cc3bf"
      },
      "source": [
        "avg = torch.stack(avg_image_dataset_1, axis = 0)\n",
        "avg_image_dataset_1 = (avg - torch.mean(avg, keepdims= True, axis = 0)) / torch.std(avg, keepdims= True, axis = 0)\n",
        "print(torch.mean(avg_image_dataset_1, keepdims= True, axis = 0))\n",
        "print(torch.std(avg_image_dataset_1, keepdims= True, axis = 0))\n",
        "print(\"==\"*40)\n",
        "\n",
        "avg = torch.stack(avg_image_dataset_2, axis = 0)\n",
        "avg_image_dataset_2 = (avg - torch.mean(avg, keepdims= True, axis = 0)) / torch.std(avg, keepdims= True, axis = 0)\n",
        "print(torch.mean(avg_image_dataset_2, keepdims= True, axis = 0))\n",
        "print(torch.std(avg_image_dataset_2, keepdims= True, axis = 0))\n",
        "print(\"==\"*40)\n",
        "\n",
        "avg = torch.stack(avg_image_dataset_3, axis = 0)\n",
        "avg_image_dataset_3 = (avg - torch.mean(avg, keepdims= True, axis = 0)) / torch.std(avg, keepdims= True, axis = 0)\n",
        "print(torch.mean(avg_image_dataset_3, keepdims= True, axis = 0))\n",
        "print(torch.std(avg_image_dataset_3, keepdims= True, axis = 0))\n",
        "print(\"==\"*40)\n",
        "\n",
        "avg = torch.stack(avg_image_dataset_4, axis = 0)\n",
        "avg_image_dataset_4 = (avg - torch.mean(avg, keepdims= True, axis = 0)) / torch.std(avg, keepdims= True, axis = 0)\n",
        "print(torch.mean(avg_image_dataset_4, keepdims= True, axis = 0))\n",
        "print(torch.std(avg_image_dataset_4, keepdims= True, axis = 0))\n",
        "print(\"==\"*40)\n",
        "\n",
        "avg = torch.stack(avg_image_dataset_5, axis = 0)\n",
        "avg_image_dataset_5 = (avg - torch.mean(avg, keepdims= True, axis = 0)) / torch.std(avg, keepdims= True, axis = 0)\n",
        "print(torch.mean(avg_image_dataset_5, keepdims= True, axis = 0))\n",
        "print(torch.std(avg_image_dataset_5, keepdims= True, axis = 0))\n",
        "print(\"==\"*40)\n",
        "\n",
        "avg = torch.stack(avg_image_dataset_6, axis = 0)\n",
        "avg_image_dataset_6 = (avg - torch.mean(avg, keepdims= True, axis = 0)) / torch.std(avg, keepdims= True, axis = 0)\n",
        "print(torch.mean(avg_image_dataset_6, keepdims= True, axis = 0))\n",
        "print(torch.std(avg_image_dataset_6, keepdims= True, axis = 0))\n",
        "print(\"==\"*40)\n",
        "\n",
        "avg = torch.stack(avg_image_dataset_7, axis = 0)\n",
        "avg_image_dataset_7 = (avg - torch.mean(avg, keepdims= True, axis = 0)) / torch.std(avg, keepdims= True, axis = 0)\n",
        "print(torch.mean(avg_image_dataset_7, keepdims= True, axis = 0))\n",
        "print(torch.std(avg_image_dataset_7, keepdims= True, axis = 0))\n",
        "print(\"==\"*40)\n",
        "\n",
        "avg = torch.stack(avg_image_dataset_8, axis = 0)\n",
        "avg_image_dataset_8 = (avg - torch.mean(avg, keepdims= True, axis = 0)) / torch.std(avg, keepdims= True, axis = 0)\n",
        "print(torch.mean(avg_image_dataset_8, keepdims= True, axis = 0))\n",
        "print(torch.std(avg_image_dataset_8, keepdims= True, axis = 0))\n",
        "print(\"==\"*40)\n",
        "\n",
        "avg = torch.stack(avg_image_dataset_9, axis = 0)\n",
        "avg_image_dataset_9 = (avg - torch.mean(avg, keepdims= True, axis = 0)) / torch.std(avg, keepdims= True, axis = 0)\n",
        "print(torch.mean(avg_image_dataset_9, keepdims= True, axis = 0))\n",
        "print(torch.std(avg_image_dataset_9, keepdims= True, axis = 0))\n",
        "print(\"==\"*40)\n",
        "\n",
        "avg = torch.stack(avg_image_dataset_10, axis = 0)\n",
        "avg_image_dataset_10 = (avg - torch.mean(avg, keepdims= True, axis = 0)) / torch.std(avg, keepdims= True, axis = 0)\n",
        "print(torch.mean(avg_image_dataset_10, keepdims= True, axis = 0))\n",
        "print(torch.std(avg_image_dataset_10, keepdims= True, axis = 0))\n",
        "print(\"==\"*40)\n",
        "\n",
        "avg = torch.stack(test_dataset, axis = 0)\n",
        "test_dataset = (avg - torch.mean(avg, keepdims= True, axis = 0)) / torch.std(avg, keepdims= True, axis = 0)\n",
        "print(torch.mean(test_dataset, keepdims= True, axis = 0))\n",
        "print(torch.std(test_dataset, keepdims= True, axis = 0))\n",
        "print(\"==\"*40)\n"
      ],
      "execution_count": 216,
      "outputs": [
        {
          "output_type": "stream",
          "text": [
            "tensor([[2.1316e-17, 1.0658e-17]], dtype=torch.float64)\n",
            "tensor([[1.0000, 1.0000]], dtype=torch.float64)\n",
            "================================================================================\n",
            "tensor([[ 3.5527e-17, -8.3489e-17]], dtype=torch.float64)\n",
            "tensor([[1.0000, 1.0000]], dtype=torch.float64)\n",
            "================================================================================\n",
            "tensor([[-2.4869e-16,  9.5568e-16]], dtype=torch.float64)\n",
            "tensor([[1.0000, 1.0000]], dtype=torch.float64)\n",
            "================================================================================\n",
            "tensor([[ 7.3541e-16, -3.9080e-17]], dtype=torch.float64)\n",
            "tensor([[1.0000, 1.0000]], dtype=torch.float64)\n",
            "================================================================================\n",
            "tensor([[ 9.0949e-16, -2.0357e-15]], dtype=torch.float64)\n",
            "tensor([[1.0000, 1.0000]], dtype=torch.float64)\n",
            "================================================================================\n",
            "tensor([[-9.8765e-16,  5.1159e-16]], dtype=torch.float64)\n",
            "tensor([[1.0000, 1.0000]], dtype=torch.float64)\n",
            "================================================================================\n",
            "tensor([[ 2.0677e-15, -1.7231e-16]], dtype=torch.float64)\n",
            "tensor([[1.0000, 1.0000]], dtype=torch.float64)\n",
            "================================================================================\n",
            "tensor([[ 1.1013e-15, -7.9226e-16]], dtype=torch.float64)\n",
            "tensor([[1.0000, 1.0000]], dtype=torch.float64)\n",
            "================================================================================\n",
            "tensor([[6.4304e-16, 1.5028e-15]], dtype=torch.float64)\n",
            "tensor([[1.0000, 1.0000]], dtype=torch.float64)\n",
            "================================================================================\n",
            "tensor([[ 9.2371e-17, -3.0731e-16]], dtype=torch.float64)\n",
            "tensor([[1.0000, 1.0000]], dtype=torch.float64)\n",
            "================================================================================\n",
            "tensor([[1.0871e-15, 7.2831e-16]], dtype=torch.float64)\n",
            "tensor([[1.0000, 1.0000]], dtype=torch.float64)\n",
            "================================================================================\n"
          ],
          "name": "stdout"
        }
      ]
    },
    {
      "cell_type": "code",
      "metadata": {
        "colab": {
          "base_uri": "https://localhost:8080/",
          "height": 300
        },
        "id": "bT9-kEI7NAnR",
        "outputId": "e7f62f90-ecf0-4216-a6e3-0144f6b07017"
      },
      "source": [
        "x1 = (avg_image_dataset_3).numpy()\n",
        "y1 = np.array(labels_3)\n",
        "\n",
        "plt.scatter(x1[y1==0,0], x1[y1==0,1], label='class 0')\n",
        "plt.scatter(x1[y1==1,0], x1[y1==1,1], label='class 1')\n",
        "plt.scatter(x1[y1==2,0], x1[y1==2,1], label='class 2')\n",
        "plt.legend()\n",
        "plt.title(\"type 2 alpha = 2/9\")"
      ],
      "execution_count": 217,
      "outputs": [
        {
          "output_type": "execute_result",
          "data": {
            "text/plain": [
              "Text(0.5, 1.0, 'type 2 alpha = 2/9')"
            ]
          },
          "metadata": {
            "tags": []
          },
          "execution_count": 217
        },
        {
          "output_type": "display_data",
          "data": {
            "image/png": "[encoded data removed]",
            "text/plain": [
              "<Figure size 432x288 with 1 Axes>"
            ]
          },
          "metadata": {
            "tags": [],
            "needs_background": "light"
          }
        }
      ]
    },
    {
      "cell_type": "code",
      "metadata": {
        "colab": {
          "base_uri": "https://localhost:8080/",
          "height": 300
        },
        "id": "Sc8W2N7LQQ_l",
        "outputId": "b1f02344-4d67-4b4c-fedc-430af2e8382f"
      },
      "source": [
        "x1 = (avg_image_dataset_6).numpy()\n",
        "y1 = np.array(labels_6)\n",
        "\n",
        "plt.scatter(x1[y1==0,0], x1[y1==0,1], label='class 0')\n",
        "plt.scatter(x1[y1==1,0], x1[y1==1,1], label='class 1')\n",
        "plt.scatter(x1[y1==2,0], x1[y1==2,1], label='class 2')\n",
        "plt.legend()\n",
        "plt.title(\"type 2 alpha = 5/9\")"
      ],
      "execution_count": 218,
      "outputs": [
        {
          "output_type": "execute_result",
          "data": {
            "text/plain": [
              "Text(0.5, 1.0, 'type 2 alpha = 5/9')"
            ]
          },
          "metadata": {
            "tags": []
          },
          "execution_count": 218
        },
        {
          "output_type": "display_data",
          "data": {
            "image/png": "[encoded data removed]",
            "text/plain": [
              "<Figure size 432x288 with 1 Axes>"
            ]
          },
          "metadata": {
            "tags": [],
            "needs_background": "light"
          }
        }
      ]
    },
    {
      "cell_type": "code",
      "metadata": {
        "colab": {
          "base_uri": "https://localhost:8080/",
          "height": 300
        },
        "id": "i4xGQy56Qe9e",
        "outputId": "9fa33cb5-d501-4c13-e953-d4595dd3fe42"
      },
      "source": [
        "x1 = (avg_image_dataset_9).numpy()\n",
        "y1 = np.array(labels_9)\n",
        "\n",
        "plt.scatter(x1[y1==0,0], x1[y1==0,1], label='class 0')\n",
        "plt.scatter(x1[y1==1,0], x1[y1==1,1], label='class 1')\n",
        "plt.scatter(x1[y1==2,0], x1[y1==2,1], label='class 2')\n",
        "plt.legend()\n",
        "plt.title(\"type 2 alpha = 8/9\")"
      ],
      "execution_count": 219,
      "outputs": [
        {
          "output_type": "execute_result",
          "data": {
            "text/plain": [
              "Text(0.5, 1.0, 'type 2 alpha = 8/9')"
            ]
          },
          "metadata": {
            "tags": []
          },
          "execution_count": 219
        },
        {
          "output_type": "display_data",
          "data": {
            "image/png": "[encoded data removed]",
            "text/plain": [
              "<Figure size 432x288 with 1 Axes>"
            ]
          },
          "metadata": {
            "tags": [],
            "needs_background": "light"
          }
        }
      ]
    },
    {
      "cell_type": "code",
      "metadata": {
        "colab": {
          "base_uri": "https://localhost:8080/",
          "height": 300
        },
        "id": "b6pnxGE7Qv3O",
        "outputId": "03d1452d-d640-4dde-819d-ccbeb29a1c66"
      },
      "source": [
        "x1 = (avg_image_dataset_10).numpy()\n",
        "y1 = np.array(labels_10)\n",
        "\n",
        "plt.scatter(x1[y1==0,0], x1[y1==0,1], label='class 0')\n",
        "plt.scatter(x1[y1==1,0], x1[y1==1,1], label='class 1')\n",
        "plt.scatter(x1[y1==2,0], x1[y1==2,1], label='class 2')\n",
        "plt.legend()\n",
        "plt.title(\"type 2 alpha = 9/9\")"
      ],
      "execution_count": 220,
      "outputs": [
        {
          "output_type": "execute_result",
          "data": {
            "text/plain": [
              "Text(0.5, 1.0, 'type 2 alpha = 9/9')"
            ]
          },
          "metadata": {
            "tags": []
          },
          "execution_count": 220
        },
        {
          "output_type": "display_data",
          "data": {
            "image/png": "[encoded data removed]",
            "text/plain": [
              "<Figure size 432x288 with 1 Axes>"
            ]
          },
          "metadata": {
            "tags": [],
            "needs_background": "light"
          }
        }
      ]
    },
    {
      "cell_type": "code",
      "metadata": {
        "id": "yL0BRf8er0TX"
      },
      "source": [
        "class MosaicDataset(Dataset):\n",
        "  \"\"\"MosaicDataset dataset.\"\"\"\n",
        "\n",
        "  def __init__(self, mosaic_list_of_images, mosaic_label):\n",
        "    \"\"\"\n",
        "      Args:\n",
        "        csv_file (string): Path to the csv file with annotations.\n",
        "        root_dir (string): Directory with all the images.\n",
        "        transform (callable, optional): Optional transform to be applied\n",
        "            on a sample.\n",
        "    \"\"\"\n",
        "    self.mosaic = mosaic_list_of_images\n",
        "    self.label = mosaic_label\n",
        "    #self.fore_idx = fore_idx\n",
        "    \n",
        "  def __len__(self):\n",
        "    return len(self.label)\n",
        "\n",
        "  def __getitem__(self, idx):\n",
        "    return self.mosaic[idx] , self.label[idx] #, self.fore_idx[idx]\n",
        "\n"
      ],
      "execution_count": 221,
      "outputs": []
    },
    {
      "cell_type": "code",
      "metadata": {
        "colab": {
          "base_uri": "https://localhost:8080/"
        },
        "id": "4KsrW9qL9xgS",
        "outputId": "8f92f631-4310-4f45-f908-fe547d58b88c"
      },
      "source": [
        "avg_image_dataset_1[0].shape\n",
        "avg_image_dataset_1[0]"
      ],
      "execution_count": 222,
      "outputs": [
        {
          "output_type": "execute_result",
          "data": {
            "text/plain": [
              "tensor([ 0.3385, -0.8721], dtype=torch.float64)"
            ]
          },
          "metadata": {
            "tags": []
          },
          "execution_count": 222
        }
      ]
    },
    {
      "cell_type": "code",
      "metadata": {
        "colab": {
          "base_uri": "https://localhost:8080/"
        },
        "id": "fjVnan3CA8ix",
        "outputId": "90df92fa-489e-4fda-a2fb-e19572ee62db"
      },
      "source": [
        "l = [ labels_1, labels_2, labels_3, labels_4, labels_5, labels_6, labels_7, labels_8, labels_9, labels_10]\n",
        "for i in l:\n",
        "  print(np.unique(l))"
      ],
      "execution_count": 223,
      "outputs": [
        {
          "output_type": "stream",
          "text": [
            "[0 1 2]\n",
            "[0 1 2]\n",
            "[0 1 2]\n",
            "[0 1 2]\n",
            "[0 1 2]\n",
            "[0 1 2]\n",
            "[0 1 2]\n",
            "[0 1 2]\n",
            "[0 1 2]\n",
            "[0 1 2]\n"
          ],
          "name": "stdout"
        }
      ]
    },
    {
      "cell_type": "code",
      "metadata": {
        "id": "EY2l62APygaV"
      },
      "source": [
        "batch = 200\n",
        "\n",
        "traindata_1 = MosaicDataset(avg_image_dataset_1, labels_1 )\n",
        "trainloader_1 = DataLoader( traindata_1 , batch_size= batch ,shuffle=True)\n",
        "\n",
        "traindata_2 = MosaicDataset(avg_image_dataset_2, labels_2 )\n",
        "trainloader_2 = DataLoader( traindata_2 , batch_size= batch ,shuffle=True)\n",
        "\n",
        "traindata_3 = MosaicDataset(avg_image_dataset_3, labels_3 )\n",
        "trainloader_3 = DataLoader( traindata_3 , batch_size= batch ,shuffle=True)\n",
        "\n",
        "traindata_4 = MosaicDataset(avg_image_dataset_4, labels_4 )\n",
        "trainloader_4 = DataLoader( traindata_4 , batch_size= batch ,shuffle=True)\n",
        "\n",
        "traindata_5 = MosaicDataset(avg_image_dataset_5, labels_5 )\n",
        "trainloader_5 = DataLoader( traindata_5 , batch_size= batch ,shuffle=True)\n",
        "\n",
        "traindata_6 = MosaicDataset(avg_image_dataset_6, labels_6 )\n",
        "trainloader_6 = DataLoader( traindata_6 , batch_size= batch ,shuffle=True)\n",
        "\n",
        "traindata_7 = MosaicDataset(avg_image_dataset_7, labels_7 )\n",
        "trainloader_7 = DataLoader( traindata_7 , batch_size= batch ,shuffle=True)\n",
        "\n",
        "traindata_8 = MosaicDataset(avg_image_dataset_8, labels_8 )\n",
        "trainloader_8 = DataLoader( traindata_8 , batch_size= batch ,shuffle=True)\n",
        "\n",
        "traindata_9 = MosaicDataset(avg_image_dataset_9, labels_9 )\n",
        "trainloader_9 = DataLoader( traindata_9 , batch_size= batch ,shuffle=True)\n",
        "\n",
        "traindata_10 = MosaicDataset(avg_image_dataset_10, labels_10 )\n",
        "trainloader_10 = DataLoader( traindata_10 , batch_size= batch ,shuffle=True)"
      ],
      "execution_count": 224,
      "outputs": []
    },
    {
      "cell_type": "code",
      "metadata": {
        "id": "9suUslCj8YZK"
      },
      "source": [
        "testdata_1 = MosaicDataset(avg_image_dataset_1, labels_1 )\n",
        "testloader_1 = DataLoader( testdata_1 , batch_size= batch ,shuffle=False)\n",
        "\n",
        "testdata_2 = MosaicDataset(avg_image_dataset_2, labels_2 )\n",
        "testloader_2 = DataLoader( testdata_2 , batch_size= batch ,shuffle=False)\n",
        "\n",
        "testdata_3 = MosaicDataset(avg_image_dataset_3, labels_3 )\n",
        "testloader_3 = DataLoader( testdata_3 , batch_size= batch ,shuffle=False)\n",
        "\n",
        "testdata_4 = MosaicDataset(avg_image_dataset_4, labels_4 )\n",
        "testloader_4 = DataLoader( testdata_4 , batch_size= batch ,shuffle=False)\n",
        "\n",
        "testdata_5 = MosaicDataset(avg_image_dataset_5, labels_5 )\n",
        "testloader_5 = DataLoader( testdata_5 , batch_size= batch ,shuffle=False)\n",
        "\n",
        "testdata_6 = MosaicDataset(avg_image_dataset_6, labels_6 )\n",
        "testloader_6 = DataLoader( testdata_6 , batch_size= batch ,shuffle=False)\n",
        "\n",
        "testdata_7 = MosaicDataset(avg_image_dataset_7, labels_7 )\n",
        "testloader_7 = DataLoader( testdata_7 , batch_size= batch ,shuffle=False)\n",
        "\n",
        "testdata_8 = MosaicDataset(avg_image_dataset_8, labels_8 )\n",
        "testloader_8 = DataLoader( testdata_8 , batch_size= batch ,shuffle=False)\n",
        "\n",
        "testdata_9 = MosaicDataset(avg_image_dataset_9, labels_9 )\n",
        "testloader_9 = DataLoader( testdata_9 , batch_size= batch ,shuffle=False)\n",
        "\n",
        "testdata_10 = MosaicDataset(avg_image_dataset_10, labels_10 )\n",
        "testloader_10 = DataLoader( testdata_10 , batch_size= batch ,shuffle=False)\n",
        "\n"
      ],
      "execution_count": 225,
      "outputs": []
    },
    {
      "cell_type": "code",
      "metadata": {
        "id": "Nh3mBQHZ8bEj"
      },
      "source": [
        "testdata_11 = MosaicDataset(test_dataset, labels )\n",
        "testloader_11 = DataLoader( testdata_11 , batch_size= batch ,shuffle=False)"
      ],
      "execution_count": 226,
      "outputs": []
    },
    {
      "cell_type": "code",
      "metadata": {
        "id": "5_XeIUk0r0Tl"
      },
      "source": [
        "class Whatnet(nn.Module):\n",
        "    def __init__(self):\n",
        "        super(Whatnet,self).__init__()\n",
        "        self.linear1 = nn.Linear(2,50)\n",
        "        self.linear2 = nn.Linear(50,10)\n",
        "        self.linear3 = nn.Linear(10,3)\n",
        "\n",
        "    def forward(self,x):\n",
        "        x = F.relu(self.linear1(x))\n",
        "        x = F.relu(self.linear2(x))\n",
        "        x = (self.linear3(x))\n",
        "\n",
        "        return x"
      ],
      "execution_count": 227,
      "outputs": []
    },
    {
      "cell_type": "code",
      "metadata": {
        "id": "pjD2VZuV9Ed4"
      },
      "source": [
        "def calculate_loss(dataloader,model,criter):\n",
        "  model.eval()\n",
        "  r_loss = 0\n",
        "  with torch.no_grad():\n",
        "    for i, data in enumerate(dataloader, 0):\n",
        "      inputs, labels = data\n",
        "      inputs, labels = inputs.to(\"cuda\"),labels.to(\"cuda\")\n",
        "      outputs = model(inputs)\n",
        "      loss = criter(outputs, labels)\n",
        "      r_loss += loss.item()\n",
        "  return r_loss/i"
      ],
      "execution_count": 228,
      "outputs": []
    },
    {
      "cell_type": "code",
      "metadata": {
        "id": "uALi25pmzQHV"
      },
      "source": [
        "def test_all(number, testloader,net):\n",
        "    correct = 0\n",
        "    total = 0\n",
        "    out = []\n",
        "    pred = []\n",
        "    with torch.no_grad():\n",
        "        for data in testloader:\n",
        "            images, labels = data\n",
        "            images, labels = images.to(\"cuda\"),labels.to(\"cuda\")\n",
        "            out.append(labels.cpu().numpy())\n",
        "            outputs= net(images)\n",
        "            _, predicted = torch.max(outputs.data, 1)\n",
        "            pred.append(predicted.cpu().numpy())\n",
        "            total += labels.size(0)\n",
        "            correct += (predicted == labels).sum().item()\n",
        "    \n",
        "    pred = np.concatenate(pred, axis = 0)\n",
        "    out = np.concatenate(out, axis = 0)\n",
        "    print(\"unique out: \",  np.unique(out), \"unique pred: \", np.unique(pred) )\n",
        "    print(\"correct: \", correct, \"total \",  total)\n",
        "    print('Accuracy of the network on the 1000 test dataset %d: %.2f %%' % (number , 100 * correct / total))"
      ],
      "execution_count": 229,
      "outputs": []
    },
    {
      "cell_type": "code",
      "metadata": {
        "id": "4vmNprlPzTjP"
      },
      "source": [
        "def train_all(trainloader, ds_number, testloader_list):\n",
        "    \n",
        "    print(\"--\"*40)\n",
        "    print(\"training on data set  \", ds_number)\n",
        "    \n",
        "    torch.manual_seed(12)\n",
        "    net = Whatnet().double()\n",
        "    net = net.to(\"cuda\")\n",
        "    \n",
        "    criterion_net = nn.CrossEntropyLoss()\n",
        "    optimizer_net = optim.Adam(net.parameters(), lr=0.001 ) #, momentum=0.9)\n",
        "    \n",
        "    acti = []\n",
        "    loss_curi = []\n",
        "    epochs = 1000\n",
        "    running_loss = calculate_loss(trainloader,net,criterion_net)\n",
        "    loss_curi.append(running_loss)\n",
        "    print('epoch: [%d ] loss: %.3f' %(0,running_loss)) \n",
        "    for epoch in range(epochs): # loop over the dataset multiple times\n",
        "        ep_lossi = []\n",
        "\n",
        "        running_loss = 0.0\n",
        "        net.train()\n",
        "        for i, data in enumerate(trainloader, 0):\n",
        "            # get the inputs\n",
        "            inputs, labels = data\n",
        "            inputs, labels = inputs.to(\"cuda\"),labels.to(\"cuda\")\n",
        "\n",
        "            # zero the parameter gradients\n",
        "            optimizer_net.zero_grad()\n",
        "\n",
        "            # forward + backward + optimize\n",
        "            outputs = net(inputs)\n",
        "            loss = criterion_net(outputs, labels)\n",
        "            # print statistics\n",
        "            running_loss += loss.item()\n",
        "            loss.backward()\n",
        "            optimizer_net.step()\n",
        "\n",
        "        running_loss = calculate_loss(trainloader,net,criterion_net)\n",
        "        if(epoch%500 == 0):\n",
        "          print('epoch: [%d] loss: %.3f' %(epoch + 1,running_loss)) \n",
        "        loss_curi.append(running_loss)   #loss per epoch\n",
        "        if running_loss<=0.05:\n",
        "          print('epoch: [%d] loss: %.3f' %(epoch + 1,running_loss))\n",
        "          break\n",
        "\n",
        "    print('Finished Training')\n",
        "    \n",
        "    correct = 0\n",
        "    total = 0\n",
        "    with torch.no_grad():\n",
        "        for data in trainloader:\n",
        "            images, labels = data\n",
        "            images, labels = images.to(\"cuda\"), labels.to(\"cuda\")\n",
        "            outputs = net(images)\n",
        "            _, predicted = torch.max(outputs.data, 1)\n",
        "            total += labels.size(0)\n",
        "            correct += (predicted == labels).sum().item()\n",
        "\n",
        "    print('Accuracy of the network on the 1000 train images: %.2f %%' % (  100 * correct / total))\n",
        "    \n",
        "    for i, j in enumerate(testloader_list):\n",
        "        test_all(i+1, j,net)\n",
        "    \n",
        "    print(\"--\"*40)\n",
        "    \n",
        "    return loss_curi\n",
        "    "
      ],
      "execution_count": 230,
      "outputs": []
    },
    {
      "cell_type": "code",
      "metadata": {
        "id": "Yl41sE8vFERk"
      },
      "source": [
        "train_loss_all=[]\n",
        "\n",
        "testloader_list= [ testloader_1, testloader_2, testloader_3, testloader_4, testloader_5, testloader_6,\n",
        "                 testloader_7, testloader_8, testloader_9, testloader_10, testloader_11]"
      ],
      "execution_count": 231,
      "outputs": []
    },
    {
      "cell_type": "code",
      "metadata": {
        "colab": {
          "base_uri": "https://localhost:8080/"
        },
        "id": "5gQoPST5zW2t",
        "outputId": "12655666-36ff-45d6-8a53-f34cf57b0ae6"
      },
      "source": [
        "train_loss_all.append(train_all(trainloader_1, 1, testloader_list))\n",
        "train_loss_all.append(train_all(trainloader_2, 2, testloader_list))\n",
        "train_loss_all.append(train_all(trainloader_3, 3, testloader_list))\n",
        "train_loss_all.append(train_all(trainloader_4, 4, testloader_list))\n",
        "train_loss_all.append(train_all(trainloader_5, 5, testloader_list))\n",
        "train_loss_all.append(train_all(trainloader_6, 6, testloader_list))\n",
        "train_loss_all.append(train_all(trainloader_7, 7, testloader_list))\n",
        "train_loss_all.append(train_all(trainloader_8, 8, testloader_list))\n",
        "train_loss_all.append(train_all(trainloader_9, 9, testloader_list))\n",
        "train_loss_all.append(train_all(trainloader_10, 10, testloader_list))"
      ],
      "execution_count": 232,
      "outputs": [
        {
          "output_type": "stream",
          "text": [
            "--------------------------------------------------------------------------------\n",
            "training on data set   1\n",
            "epoch: [0 ] loss: 1.379\n",
            "epoch: [1] loss: 1.376\n",
            "epoch: [501] loss: 1.326\n",
            "Finished Training\n",
            "Accuracy of the network on the 1000 train images: 44.70 %\n",
            "unique out:  [0 1 2] unique pred:  [0 1 2]\n",
            "correct:  447 total  1000\n",
            "Accuracy of the network on the 1000 test dataset 1: 44.70 %\n",
            "unique out:  [0 1 2] unique pred:  [0 1 2]\n",
            "correct:  395 total  1000\n",
            "Accuracy of the network on the 1000 test dataset 2: 39.50 %\n",
            "unique out:  [0 1 2] unique pred:  [0 1 2]\n",
            "correct:  370 total  1000\n",
            "Accuracy of the network on the 1000 test dataset 3: 37.00 %\n",
            "unique out:  [0 1 2] unique pred:  [0 1 2]\n",
            "correct:  395 total  1000\n",
            "Accuracy of the network on the 1000 test dataset 4: 39.50 %\n",
            "unique out:  [0 1 2] unique pred:  [0 1 2]\n",
            "correct:  359 total  1000\n",
            "Accuracy of the network on the 1000 test dataset 5: 35.90 %\n",
            "unique out:  [0 1 2] unique pred:  [0 1 2]\n",
            "correct:  374 total  1000\n",
            "Accuracy of the network on the 1000 test dataset 6: 37.40 %\n",
            "unique out:  [0 1 2] unique pred:  [0 1 2]\n",
            "correct:  369 total  1000\n",
            "Accuracy of the network on the 1000 test dataset 7: 36.90 %\n",
            "unique out:  [0 1 2] unique pred:  [0 1 2]\n",
            "correct:  384 total  1000\n",
            "Accuracy of the network on the 1000 test dataset 8: 38.40 %\n",
            "unique out:  [0 1 2] unique pred:  [0 1 2]\n",
            "correct:  382 total  1000\n",
            "Accuracy of the network on the 1000 test dataset 9: 38.20 %\n",
            "unique out:  [0 1 2] unique pred:  [0 1 2]\n",
            "correct:  389 total  1000\n",
            "Accuracy of the network on the 1000 test dataset 10: 38.90 %\n",
            "unique out:  [0 1 2] unique pred:  [0 1 2]\n",
            "correct:  372 total  1000\n",
            "Accuracy of the network on the 1000 test dataset 11: 37.20 %\n",
            "--------------------------------------------------------------------------------\n",
            "--------------------------------------------------------------------------------\n",
            "training on data set   2\n",
            "epoch: [0 ] loss: 1.369\n",
            "epoch: [1] loss: 1.364\n",
            "epoch: [501] loss: 1.244\n",
            "Finished Training\n",
            "Accuracy of the network on the 1000 train images: 49.10 %\n",
            "unique out:  [0 1 2] unique pred:  [0 1 2]\n",
            "correct:  367 total  1000\n",
            "Accuracy of the network on the 1000 test dataset 1: 36.70 %\n",
            "unique out:  [0 1 2] unique pred:  [0 1 2]\n",
            "correct:  491 total  1000\n",
            "Accuracy of the network on the 1000 test dataset 2: 49.10 %\n",
            "unique out:  [0 1 2] unique pred:  [0 1 2]\n",
            "correct:  564 total  1000\n",
            "Accuracy of the network on the 1000 test dataset 3: 56.40 %\n",
            "unique out:  [0 1 2] unique pred:  [0 1 2]\n",
            "correct:  625 total  1000\n",
            "Accuracy of the network on the 1000 test dataset 4: 62.50 %\n",
            "unique out:  [0 1 2] unique pred:  [0 1 2]\n",
            "correct:  701 total  1000\n",
            "Accuracy of the network on the 1000 test dataset 5: 70.10 %\n",
            "unique out:  [0 1 2] unique pred:  [0 1 2]\n",
            "correct:  734 total  1000\n",
            "Accuracy of the network on the 1000 test dataset 6: 73.40 %\n",
            "unique out:  [0 1 2] unique pred:  [0 1 2]\n",
            "correct:  749 total  1000\n",
            "Accuracy of the network on the 1000 test dataset 7: 74.90 %\n",
            "unique out:  [0 1 2] unique pred:  [0 1 2]\n",
            "correct:  764 total  1000\n",
            "Accuracy of the network on the 1000 test dataset 8: 76.40 %\n",
            "unique out:  [0 1 2] unique pred:  [0 1 2]\n",
            "correct:  768 total  1000\n",
            "Accuracy of the network on the 1000 test dataset 9: 76.80 %\n",
            "unique out:  [0 1 2] unique pred:  [0 1 2]\n",
            "correct:  776 total  1000\n",
            "Accuracy of the network on the 1000 test dataset 10: 77.60 %\n",
            "unique out:  [0 1 2] unique pred:  [0 1 2]\n",
            "correct:  759 total  1000\n",
            "Accuracy of the network on the 1000 test dataset 11: 75.90 %\n",
            "--------------------------------------------------------------------------------\n",
            "--------------------------------------------------------------------------------\n",
            "training on data set   3\n",
            "epoch: [0 ] loss: 1.360\n",
            "epoch: [1] loss: 1.348\n",
            "epoch: [501] loss: 1.048\n",
            "Finished Training\n",
            "Accuracy of the network on the 1000 train images: 60.20 %\n",
            "unique out:  [0 1 2] unique pred:  [0 1 2]\n",
            "correct:  358 total  1000\n",
            "Accuracy of the network on the 1000 test dataset 1: 35.80 %\n",
            "unique out:  [0 1 2] unique pred:  [0 1 2]\n",
            "correct:  463 total  1000\n",
            "Accuracy of the network on the 1000 test dataset 2: 46.30 %\n",
            "unique out:  [0 1 2] unique pred:  [0 1 2]\n",
            "correct:  602 total  1000\n",
            "Accuracy of the network on the 1000 test dataset 3: 60.20 %\n",
            "unique out:  [0 1 2] unique pred:  [0 1 2]\n",
            "correct:  704 total  1000\n",
            "Accuracy of the network on the 1000 test dataset 4: 70.40 %\n",
            "unique out:  [0 1 2] unique pred:  [0 1 2]\n",
            "correct:  774 total  1000\n",
            "Accuracy of the network on the 1000 test dataset 5: 77.40 %\n",
            "unique out:  [0 1 2] unique pred:  [0 1 2]\n",
            "correct:  820 total  1000\n",
            "Accuracy of the network on the 1000 test dataset 6: 82.00 %\n",
            "unique out:  [0 1 2] unique pred:  [0 1 2]\n",
            "correct:  846 total  1000\n",
            "Accuracy of the network on the 1000 test dataset 7: 84.60 %\n",
            "unique out:  [0 1 2] unique pred:  [0 1 2]\n",
            "correct:  855 total  1000\n",
            "Accuracy of the network on the 1000 test dataset 8: 85.50 %\n",
            "unique out:  [0 1 2] unique pred:  [0 1 2]\n",
            "correct:  859 total  1000\n",
            "Accuracy of the network on the 1000 test dataset 9: 85.90 %\n",
            "unique out:  [0 1 2] unique pred:  [0 1 2]\n",
            "correct:  856 total  1000\n",
            "Accuracy of the network on the 1000 test dataset 10: 85.60 %\n",
            "unique out:  [0 1 2] unique pred:  [0 1 2]\n",
            "correct:  858 total  1000\n",
            "Accuracy of the network on the 1000 test dataset 11: 85.80 %\n",
            "--------------------------------------------------------------------------------\n",
            "--------------------------------------------------------------------------------\n",
            "training on data set   4\n",
            "epoch: [0 ] loss: 1.353\n",
            "epoch: [1] loss: 1.336\n",
            "epoch: [501] loss: 0.777\n",
            "Finished Training\n",
            "Accuracy of the network on the 1000 train images: 72.20 %\n",
            "unique out:  [0 1 2] unique pred:  [0 1 2]\n",
            "correct:  362 total  1000\n",
            "Accuracy of the network on the 1000 test dataset 1: 36.20 %\n",
            "unique out:  [0 1 2] unique pred:  [0 1 2]\n",
            "correct:  470 total  1000\n",
            "Accuracy of the network on the 1000 test dataset 2: 47.00 %\n",
            "unique out:  [0 1 2] unique pred:  [0 1 2]\n",
            "correct:  581 total  1000\n",
            "Accuracy of the network on the 1000 test dataset 3: 58.10 %\n",
            "unique out:  [0 1 2] unique pred:  [0 1 2]\n",
            "correct:  722 total  1000\n",
            "Accuracy of the network on the 1000 test dataset 4: 72.20 %\n",
            "unique out:  [0 1 2] unique pred:  [0 1 2]\n",
            "correct:  773 total  1000\n",
            "Accuracy of the network on the 1000 test dataset 5: 77.30 %\n",
            "unique out:  [0 1 2] unique pred:  [0 1 2]\n",
            "correct:  838 total  1000\n",
            "Accuracy of the network on the 1000 test dataset 6: 83.80 %\n",
            "unique out:  [0 1 2] unique pred:  [0 1 2]\n",
            "correct:  856 total  1000\n",
            "Accuracy of the network on the 1000 test dataset 7: 85.60 %\n",
            "unique out:  [0 1 2] unique pred:  [0 1 2]\n",
            "correct:  861 total  1000\n",
            "Accuracy of the network on the 1000 test dataset 8: 86.10 %\n",
            "unique out:  [0 1 2] unique pred:  [0 1 2]\n",
            "correct:  856 total  1000\n",
            "Accuracy of the network on the 1000 test dataset 9: 85.60 %\n",
            "unique out:  [0 1 2] unique pred:  [0 1 2]\n",
            "correct:  866 total  1000\n",
            "Accuracy of the network on the 1000 test dataset 10: 86.60 %\n",
            "unique out:  [0 1 2] unique pred:  [0 1 2]\n",
            "correct:  849 total  1000\n",
            "Accuracy of the network on the 1000 test dataset 11: 84.90 %\n",
            "--------------------------------------------------------------------------------\n",
            "--------------------------------------------------------------------------------\n",
            "training on data set   5\n",
            "epoch: [0 ] loss: 1.348\n",
            "epoch: [1] loss: 1.329\n",
            "epoch: [501] loss: 0.536\n",
            "Finished Training\n",
            "Accuracy of the network on the 1000 train images: 80.20 %\n",
            "unique out:  [0 1 2] unique pred:  [0 1 2]\n",
            "correct:  360 total  1000\n",
            "Accuracy of the network on the 1000 test dataset 1: 36.00 %\n",
            "unique out:  [0 1 2] unique pred:  [0 1 2]\n",
            "correct:  461 total  1000\n",
            "Accuracy of the network on the 1000 test dataset 2: 46.10 %\n",
            "unique out:  [0 1 2] unique pred:  [0 1 2]\n",
            "correct:  588 total  1000\n",
            "Accuracy of the network on the 1000 test dataset 3: 58.80 %\n",
            "unique out:  [0 1 2] unique pred:  [0 1 2]\n",
            "correct:  707 total  1000\n",
            "Accuracy of the network on the 1000 test dataset 4: 70.70 %\n",
            "unique out:  [0 1 2] unique pred:  [0 1 2]\n",
            "correct:  802 total  1000\n",
            "Accuracy of the network on the 1000 test dataset 5: 80.20 %\n",
            "unique out:  [0 1 2] unique pred:  [0 1 2]\n",
            "correct:  843 total  1000\n",
            "Accuracy of the network on the 1000 test dataset 6: 84.30 %\n",
            "unique out:  [0 1 2] unique pred:  [0 1 2]\n",
            "correct:  865 total  1000\n",
            "Accuracy of the network on the 1000 test dataset 7: 86.50 %\n",
            "unique out:  [0 1 2] unique pred:  [0 1 2]\n",
            "correct:  874 total  1000\n",
            "Accuracy of the network on the 1000 test dataset 8: 87.40 %\n",
            "unique out:  [0 1 2] unique pred:  [0 1 2]\n",
            "correct:  871 total  1000\n",
            "Accuracy of the network on the 1000 test dataset 9: 87.10 %\n",
            "unique out:  [0 1 2] unique pred:  [0 1 2]\n",
            "correct:  876 total  1000\n",
            "Accuracy of the network on the 1000 test dataset 10: 87.60 %\n",
            "unique out:  [0 1 2] unique pred:  [0 1 2]\n",
            "correct:  871 total  1000\n",
            "Accuracy of the network on the 1000 test dataset 11: 87.10 %\n",
            "--------------------------------------------------------------------------------\n",
            "--------------------------------------------------------------------------------\n",
            "training on data set   6\n",
            "epoch: [0 ] loss: 1.345\n",
            "epoch: [1] loss: 1.325\n",
            "epoch: [501] loss: 0.392\n",
            "Finished Training\n",
            "Accuracy of the network on the 1000 train images: 84.70 %\n",
            "unique out:  [0 1 2] unique pred:  [0 1 2]\n",
            "correct:  349 total  1000\n",
            "Accuracy of the network on the 1000 test dataset 1: 34.90 %\n",
            "unique out:  [0 1 2] unique pred:  [0 1 2]\n",
            "correct:  456 total  1000\n",
            "Accuracy of the network on the 1000 test dataset 2: 45.60 %\n",
            "unique out:  [0 1 2] unique pred:  [0 1 2]\n",
            "correct:  571 total  1000\n",
            "Accuracy of the network on the 1000 test dataset 3: 57.10 %\n",
            "unique out:  [0 1 2] unique pred:  [0 1 2]\n",
            "correct:  694 total  1000\n",
            "Accuracy of the network on the 1000 test dataset 4: 69.40 %\n",
            "unique out:  [0 1 2] unique pred:  [0 1 2]\n",
            "correct:  801 total  1000\n",
            "Accuracy of the network on the 1000 test dataset 5: 80.10 %\n",
            "unique out:  [0 1 2] unique pred:  [0 1 2]\n",
            "correct:  847 total  1000\n",
            "Accuracy of the network on the 1000 test dataset 6: 84.70 %\n",
            "unique out:  [0 1 2] unique pred:  [0 1 2]\n",
            "correct:  873 total  1000\n",
            "Accuracy of the network on the 1000 test dataset 7: 87.30 %\n",
            "unique out:  [0 1 2] unique pred:  [0 1 2]\n",
            "correct:  874 total  1000\n",
            "Accuracy of the network on the 1000 test dataset 8: 87.40 %\n",
            "unique out:  [0 1 2] unique pred:  [0 1 2]\n",
            "correct:  882 total  1000\n",
            "Accuracy of the network on the 1000 test dataset 9: 88.20 %\n",
            "unique out:  [0 1 2] unique pred:  [0 1 2]\n",
            "correct:  881 total  1000\n",
            "Accuracy of the network on the 1000 test dataset 10: 88.10 %\n",
            "unique out:  [0 1 2] unique pred:  [0 1 2]\n",
            "correct:  886 total  1000\n",
            "Accuracy of the network on the 1000 test dataset 11: 88.60 %\n",
            "--------------------------------------------------------------------------------\n",
            "--------------------------------------------------------------------------------\n",
            "training on data set   7\n",
            "epoch: [0 ] loss: 1.344\n",
            "epoch: [1] loss: 1.322\n",
            "epoch: [501] loss: 0.330\n",
            "Finished Training\n",
            "Accuracy of the network on the 1000 train images: 87.00 %\n",
            "unique out:  [0 1 2] unique pred:  [0 1 2]\n",
            "correct:  348 total  1000\n",
            "Accuracy of the network on the 1000 test dataset 1: 34.80 %\n",
            "unique out:  [0 1 2] unique pred:  [0 1 2]\n",
            "correct:  458 total  1000\n",
            "Accuracy of the network on the 1000 test dataset 2: 45.80 %\n",
            "unique out:  [0 1 2] unique pred:  [0 1 2]\n",
            "correct:  567 total  1000\n",
            "Accuracy of the network on the 1000 test dataset 3: 56.70 %\n",
            "unique out:  [0 1 2] unique pred:  [0 1 2]\n",
            "correct:  702 total  1000\n",
            "Accuracy of the network on the 1000 test dataset 4: 70.20 %\n",
            "unique out:  [0 1 2] unique pred:  [0 1 2]\n",
            "correct:  795 total  1000\n",
            "Accuracy of the network on the 1000 test dataset 5: 79.50 %\n",
            "unique out:  [0 1 2] unique pred:  [0 1 2]\n",
            "correct:  850 total  1000\n",
            "Accuracy of the network on the 1000 test dataset 6: 85.00 %\n",
            "unique out:  [0 1 2] unique pred:  [0 1 2]\n",
            "correct:  870 total  1000\n",
            "Accuracy of the network on the 1000 test dataset 7: 87.00 %\n",
            "unique out:  [0 1 2] unique pred:  [0 1 2]\n",
            "correct:  881 total  1000\n",
            "Accuracy of the network on the 1000 test dataset 8: 88.10 %\n",
            "unique out:  [0 1 2] unique pred:  [0 1 2]\n",
            "correct:  887 total  1000\n",
            "Accuracy of the network on the 1000 test dataset 9: 88.70 %\n",
            "unique out:  [0 1 2] unique pred:  [0 1 2]\n",
            "correct:  888 total  1000\n",
            "Accuracy of the network on the 1000 test dataset 10: 88.80 %\n",
            "unique out:  [0 1 2] unique pred:  [0 1 2]\n",
            "correct:  886 total  1000\n",
            "Accuracy of the network on the 1000 test dataset 11: 88.60 %\n",
            "--------------------------------------------------------------------------------\n",
            "--------------------------------------------------------------------------------\n",
            "training on data set   8\n",
            "epoch: [0 ] loss: 1.343\n",
            "epoch: [1] loss: 1.321\n",
            "epoch: [501] loss: 0.305\n",
            "Finished Training\n",
            "Accuracy of the network on the 1000 train images: 89.50 %\n",
            "unique out:  [0 1 2] unique pred:  [0 1 2]\n",
            "correct:  343 total  1000\n",
            "Accuracy of the network on the 1000 test dataset 1: 34.30 %\n",
            "unique out:  [0 1 2] unique pred:  [0 1 2]\n",
            "correct:  458 total  1000\n",
            "Accuracy of the network on the 1000 test dataset 2: 45.80 %\n",
            "unique out:  [0 1 2] unique pred:  [0 1 2]\n",
            "correct:  574 total  1000\n",
            "Accuracy of the network on the 1000 test dataset 3: 57.40 %\n",
            "unique out:  [0 1 2] unique pred:  [0 1 2]\n",
            "correct:  702 total  1000\n",
            "Accuracy of the network on the 1000 test dataset 4: 70.20 %\n",
            "unique out:  [0 1 2] unique pred:  [0 1 2]\n",
            "correct:  788 total  1000\n",
            "Accuracy of the network on the 1000 test dataset 5: 78.80 %\n",
            "unique out:  [0 1 2] unique pred:  [0 1 2]\n",
            "correct:  844 total  1000\n",
            "Accuracy of the network on the 1000 test dataset 6: 84.40 %\n",
            "unique out:  [0 1 2] unique pred:  [0 1 2]\n",
            "correct:  878 total  1000\n",
            "Accuracy of the network on the 1000 test dataset 7: 87.80 %\n",
            "unique out:  [0 1 2] unique pred:  [0 1 2]\n",
            "correct:  895 total  1000\n",
            "Accuracy of the network on the 1000 test dataset 8: 89.50 %\n",
            "unique out:  [0 1 2] unique pred:  [0 1 2]\n",
            "correct:  895 total  1000\n",
            "Accuracy of the network on the 1000 test dataset 9: 89.50 %\n",
            "unique out:  [0 1 2] unique pred:  [0 1 2]\n",
            "correct:  892 total  1000\n",
            "Accuracy of the network on the 1000 test dataset 10: 89.20 %\n",
            "unique out:  [0 1 2] unique pred:  [0 1 2]\n",
            "correct:  885 total  1000\n",
            "Accuracy of the network on the 1000 test dataset 11: 88.50 %\n",
            "--------------------------------------------------------------------------------\n",
            "--------------------------------------------------------------------------------\n",
            "training on data set   9\n",
            "epoch: [0 ] loss: 1.343\n",
            "epoch: [1] loss: 1.321\n",
            "epoch: [501] loss: 0.295\n",
            "Finished Training\n",
            "Accuracy of the network on the 1000 train images: 89.60 %\n",
            "unique out:  [0 1 2] unique pred:  [0 1 2]\n",
            "correct:  341 total  1000\n",
            "Accuracy of the network on the 1000 test dataset 1: 34.10 %\n",
            "unique out:  [0 1 2] unique pred:  [0 1 2]\n",
            "correct:  451 total  1000\n",
            "Accuracy of the network on the 1000 test dataset 2: 45.10 %\n",
            "unique out:  [0 1 2] unique pred:  [0 1 2]\n",
            "correct:  569 total  1000\n",
            "Accuracy of the network on the 1000 test dataset 3: 56.90 %\n",
            "unique out:  [0 1 2] unique pred:  [0 1 2]\n",
            "correct:  704 total  1000\n",
            "Accuracy of the network on the 1000 test dataset 4: 70.40 %\n",
            "unique out:  [0 1 2] unique pred:  [0 1 2]\n",
            "correct:  783 total  1000\n",
            "Accuracy of the network on the 1000 test dataset 5: 78.30 %\n",
            "unique out:  [0 1 2] unique pred:  [0 1 2]\n",
            "correct:  844 total  1000\n",
            "Accuracy of the network on the 1000 test dataset 6: 84.40 %\n",
            "unique out:  [0 1 2] unique pred:  [0 1 2]\n",
            "correct:  876 total  1000\n",
            "Accuracy of the network on the 1000 test dataset 7: 87.60 %\n",
            "unique out:  [0 1 2] unique pred:  [0 1 2]\n",
            "correct:  900 total  1000\n",
            "Accuracy of the network on the 1000 test dataset 8: 90.00 %\n",
            "unique out:  [0 1 2] unique pred:  [0 1 2]\n",
            "correct:  896 total  1000\n",
            "Accuracy of the network on the 1000 test dataset 9: 89.60 %\n",
            "unique out:  [0 1 2] unique pred:  [0 1 2]\n",
            "correct:  894 total  1000\n",
            "Accuracy of the network on the 1000 test dataset 10: 89.40 %\n",
            "unique out:  [0 1 2] unique pred:  [0 1 2]\n",
            "correct:  892 total  1000\n",
            "Accuracy of the network on the 1000 test dataset 11: 89.20 %\n",
            "--------------------------------------------------------------------------------\n",
            "--------------------------------------------------------------------------------\n",
            "training on data set   10\n",
            "epoch: [0 ] loss: 1.343\n",
            "epoch: [1] loss: 1.321\n",
            "epoch: [501] loss: 0.292\n",
            "Finished Training\n",
            "Accuracy of the network on the 1000 train images: 89.60 %\n",
            "unique out:  [0 1 2] unique pred:  [0 1 2]\n",
            "correct:  343 total  1000\n",
            "Accuracy of the network on the 1000 test dataset 1: 34.30 %\n",
            "unique out:  [0 1 2] unique pred:  [0 1 2]\n",
            "correct:  443 total  1000\n",
            "Accuracy of the network on the 1000 test dataset 2: 44.30 %\n",
            "unique out:  [0 1 2] unique pred:  [0 1 2]\n",
            "correct:  573 total  1000\n",
            "Accuracy of the network on the 1000 test dataset 3: 57.30 %\n",
            "unique out:  [0 1 2] unique pred:  [0 1 2]\n",
            "correct:  700 total  1000\n",
            "Accuracy of the network on the 1000 test dataset 4: 70.00 %\n",
            "unique out:  [0 1 2] unique pred:  [0 1 2]\n",
            "correct:  783 total  1000\n",
            "Accuracy of the network on the 1000 test dataset 5: 78.30 %\n",
            "unique out:  [0 1 2] unique pred:  [0 1 2]\n",
            "correct:  842 total  1000\n",
            "Accuracy of the network on the 1000 test dataset 6: 84.20 %\n",
            "unique out:  [0 1 2] unique pred:  [0 1 2]\n",
            "correct:  873 total  1000\n",
            "Accuracy of the network on the 1000 test dataset 7: 87.30 %\n",
            "unique out:  [0 1 2] unique pred:  [0 1 2]\n",
            "correct:  900 total  1000\n",
            "Accuracy of the network on the 1000 test dataset 8: 90.00 %\n",
            "unique out:  [0 1 2] unique pred:  [0 1 2]\n",
            "correct:  896 total  1000\n",
            "Accuracy of the network on the 1000 test dataset 9: 89.60 %\n",
            "unique out:  [0 1 2] unique pred:  [0 1 2]\n",
            "correct:  896 total  1000\n",
            "Accuracy of the network on the 1000 test dataset 10: 89.60 %\n",
            "unique out:  [0 1 2] unique pred:  [0 1 2]\n",
            "correct:  891 total  1000\n",
            "Accuracy of the network on the 1000 test dataset 11: 89.10 %\n",
            "--------------------------------------------------------------------------------\n"
          ],
          "name": "stdout"
        }
      ]
    },
    {
      "cell_type": "code",
      "metadata": {
        "id": "In76SYH_zZHV"
      },
      "source": [
        "%matplotlib inline"
      ],
      "execution_count": 233,
      "outputs": []
    },
    {
      "cell_type": "code",
      "metadata": {
        "id": "BS4HtOHEzZ0E",
        "colab": {
          "base_uri": "https://localhost:8080/",
          "height": 298
        },
        "outputId": "bea51f40-d16f-48e0-9b99-9e02da3b2854"
      },
      "source": [
        "for i,j in enumerate(train_loss_all):\n",
        "    plt.plot(j,label =\"dataset \"+str(i+1))\n",
        "    \n",
        "\n",
        "plt.xlabel(\"Epochs\")\n",
        "plt.ylabel(\"Training_loss\")\n",
        "\n",
        "plt.legend(loc='center left', bbox_to_anchor=(1, 0.5))"
      ],
      "execution_count": 234,
      "outputs": [
        {
          "output_type": "execute_result",
          "data": {
            "text/plain": [
              "<matplotlib.legend.Legend at 0x7f2e211e3690>"
            ]
          },
          "metadata": {
            "tags": []
          },
          "execution_count": 234
        },
        {
          "output_type": "display_data",
          "data": {
            "image/png": "[encoded data removed]",
            "text/plain": [
              "<Figure size 432x288 with 1 Axes>"
            ]
          },
          "metadata": {
            "tags": [],
            "needs_background": "light"
          }
        }
      ]
    },
    {
      "cell_type": "code",
      "metadata": {
        "id": "1UbTkfLUINTI"
      },
      "source": [
        ""
      ],
      "execution_count": 234,
      "outputs": []
    }
  ]
}