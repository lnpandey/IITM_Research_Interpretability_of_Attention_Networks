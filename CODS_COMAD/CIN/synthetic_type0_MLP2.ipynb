{
  "nbformat": 4,
  "nbformat_minor": 0,
  "metadata": {
    "accelerator": "GPU",
    "colab": {
      "name": "synthetic_type0_Linear.ipynb",
      "provenance": [],
      "collapsed_sections": []
    },
    "kernelspec": {
      "display_name": "Python 3",
      "language": "python",
      "name": "python3"
    },
    "language_info": {
      "codemirror_mode": {
        "name": "ipython",
        "version": 3
      },
      "file_extension": ".py",
      "mimetype": "text/x-python",
      "name": "python",
      "nbconvert_exporter": "python",
      "pygments_lexer": "ipython3",
      "version": "3.6.5"
    }
  },
  "cells": [
    {
      "cell_type": "code",
      "metadata": {
        "colab": {
          "base_uri": "https://localhost:8080/"
        },
        "id": "N2_J4Rw2r0SQ",
        "outputId": "1bbbd455-b92d-4634-e841-5899648eba2e"
      },
      "source": [
        "import numpy as np\n",
        "import pandas as pd\n",
        "from matplotlib import pyplot as plt\n",
        "from tqdm import tqdm\n",
        "%matplotlib inline\n",
        "from torch.utils.data import Dataset, DataLoader\n",
        "import torch\n",
        "import torchvision\n",
        "\n",
        "import torch.nn as nn\n",
        "import torch.optim as optim\n",
        "from torch.nn import functional as F\n",
        "device = torch.device(\"cuda\" if torch.cuda.is_available() else \"cpu\")\n",
        "print(device)"
      ],
      "execution_count": 215,
      "outputs": [
        {
          "output_type": "stream",
          "text": [
            "cuda\n"
          ],
          "name": "stdout"
        }
      ]
    },
    {
      "cell_type": "markdown",
      "metadata": {
        "id": "F6fjud_Fr0Sa"
      },
      "source": [
        "# Generate dataset"
      ]
    },
    {
      "cell_type": "code",
      "metadata": {
        "colab": {
          "base_uri": "https://localhost:8080/"
        },
        "id": "CqdXHO0Cr0Sd",
        "outputId": "c2ec993e-f0a3-47ce-80d1-82e5fa820c56"
      },
      "source": [
        "y = np.random.randint(0,3,500)\n",
        "idx= []\n",
        "for i in range(3):\n",
        "    print(i,sum(y==i))\n",
        "    idx.append(y==i)"
      ],
      "execution_count": 216,
      "outputs": [
        {
          "output_type": "stream",
          "text": [
            "0 182\n",
            "1 175\n",
            "2 143\n"
          ],
          "name": "stdout"
        }
      ]
    },
    {
      "cell_type": "code",
      "metadata": {
        "id": "ddhXyODwr0Sk"
      },
      "source": [
        "x = np.zeros((500,))"
      ],
      "execution_count": 217,
      "outputs": []
    },
    {
      "cell_type": "code",
      "metadata": {
        "id": "DyV3N2DIr0Sp"
      },
      "source": [
        "np.random.seed(12)\n",
        "x[idx[0]] = np.random.uniform(low =-1,high =0,size= sum(idx[0]))\n",
        "x[idx[1]] = np.random.uniform(low =0,high =1,size= sum(idx[1]))\n",
        "x[idx[2]] = np.random.uniform(low =2,high =3,size= sum(idx[2]))"
      ],
      "execution_count": 218,
      "outputs": []
    },
    {
      "cell_type": "code",
      "metadata": {
        "colab": {
          "base_uri": "https://localhost:8080/"
        },
        "id": "qh1mDScsU07I",
        "outputId": "40bb53c8-4733-4aaa-d003-44678996ce5a"
      },
      "source": [
        "x[idx[0]][0], x[idx[2]][5] "
      ],
      "execution_count": 219,
      "outputs": [
        {
          "output_type": "execute_result",
          "data": {
            "text/plain": [
              "(-0.8458371576203276, 2.5977516640696616)"
            ]
          },
          "metadata": {
            "tags": []
          },
          "execution_count": 219
        }
      ]
    },
    {
      "cell_type": "code",
      "metadata": {
        "colab": {
          "base_uri": "https://localhost:8080/"
        },
        "id": "9Vr5ErQ_wSrV",
        "outputId": "2199de07-8393-407a-8558-1aa35f82233a"
      },
      "source": [
        "print(x.shape,y.shape)"
      ],
      "execution_count": 220,
      "outputs": [
        {
          "output_type": "stream",
          "text": [
            "(500,) (500,)\n"
          ],
          "name": "stdout"
        }
      ]
    },
    {
      "cell_type": "code",
      "metadata": {
        "id": "NG-3RpffwU_i"
      },
      "source": [
        "idx= []\n",
        "for i in range(3):\n",
        "  idx.append(y==i)"
      ],
      "execution_count": 221,
      "outputs": []
    },
    {
      "cell_type": "code",
      "metadata": {
        "colab": {
          "base_uri": "https://localhost:8080/",
          "height": 284
        },
        "id": "hJ8Jm7YUr0St",
        "outputId": "209e4a2b-4bde-4853-db13-4f70a9ebbc43"
      },
      "source": [
        "for i in range(3):\n",
        "    y= np.zeros(x[idx[i]].shape[0])\n",
        "    plt.scatter(x[idx[i]],y,label=\"class_\"+str(i))\n",
        "plt.legend()"
      ],
      "execution_count": 222,
      "outputs": [
        {
          "output_type": "execute_result",
          "data": {
            "text/plain": [
              "<matplotlib.legend.Legend at 0x7efcd9f66c50>"
            ]
          },
          "metadata": {
            "tags": []
          },
          "execution_count": 222
        },
        {
          "output_type": "display_data",
          "data": {
            "image/png": "[encoded data removed]",
            "text/plain": [
              "<Figure size 432x288 with 1 Axes>"
            ]
          },
          "metadata": {
            "tags": [],
            "needs_background": "light"
          }
        }
      ]
    },
    {
      "cell_type": "code",
      "metadata": {
        "colab": {
          "base_uri": "https://localhost:8080/"
        },
        "id": "3lMBZEHNBlF2",
        "outputId": "a1497f83-c89f-4ef8-cf73-a7a72ff00ba5"
      },
      "source": [
        "bg_idx = [ np.where(idx[2] == True)[0]]\n",
        "\n",
        "bg_idx = np.concatenate(bg_idx, axis = 0)\n",
        "bg_idx.shape"
      ],
      "execution_count": 223,
      "outputs": [
        {
          "output_type": "execute_result",
          "data": {
            "text/plain": [
              "(143,)"
            ]
          },
          "metadata": {
            "tags": []
          },
          "execution_count": 223
        }
      ]
    },
    {
      "cell_type": "code",
      "metadata": {
        "colab": {
          "base_uri": "https://localhost:8080/"
        },
        "id": "blRbGZHeCwXU",
        "outputId": "e3e6a395-488b-4dd6-99f1-bdf9c64b2e48"
      },
      "source": [
        "np.unique(bg_idx).shape"
      ],
      "execution_count": 224,
      "outputs": [
        {
          "output_type": "execute_result",
          "data": {
            "text/plain": [
              "(143,)"
            ]
          },
          "metadata": {
            "tags": []
          },
          "execution_count": 224
        }
      ]
    },
    {
      "cell_type": "code",
      "metadata": {
        "id": "Y43sWeX7C15F"
      },
      "source": [
        "x = x - np.mean(x[bg_idx], axis = 0, keepdims = True)\n"
      ],
      "execution_count": 225,
      "outputs": []
    },
    {
      "cell_type": "code",
      "metadata": {
        "colab": {
          "base_uri": "https://localhost:8080/"
        },
        "id": "ooII7N6UDWe0",
        "outputId": "f5b788d7-0851-4a91-f62a-9d99b03faf2b"
      },
      "source": [
        "np.mean(x[bg_idx], axis = 0, keepdims = True), np.mean(x, axis = 0, keepdims = True)"
      ],
      "execution_count": 226,
      "outputs": [
        {
          "output_type": "execute_result",
          "data": {
            "text/plain": [
              "(array([1.4906491e-16]), array([-1.81456605]))"
            ]
          },
          "metadata": {
            "tags": []
          },
          "execution_count": 226
        }
      ]
    },
    {
      "cell_type": "code",
      "metadata": {
        "id": "g21bvPRYDL9k"
      },
      "source": [
        "x = x/np.std(x[bg_idx], axis = 0, keepdims = True)"
      ],
      "execution_count": 227,
      "outputs": []
    },
    {
      "cell_type": "code",
      "metadata": {
        "colab": {
          "base_uri": "https://localhost:8080/"
        },
        "id": "GtFvIeHsDZJk",
        "outputId": "76996a77-7435-4389-bd53-fbf1f197832c"
      },
      "source": [
        "np.std(x[bg_idx], axis = 0, keepdims = True), np.std(x, axis = 0, keepdims = True)"
      ],
      "execution_count": 228,
      "outputs": [
        {
          "output_type": "execute_result",
          "data": {
            "text/plain": [
              "(array([1.]), array([4.26256846]))"
            ]
          },
          "metadata": {
            "tags": []
          },
          "execution_count": 228
        }
      ]
    },
    {
      "cell_type": "code",
      "metadata": {
        "colab": {
          "base_uri": "https://localhost:8080/",
          "height": 284
        },
        "id": "8-VLhUfDDeHt",
        "outputId": "ffcd570c-cdb1-4c91-875a-78e795c5840a"
      },
      "source": [
        "for i in range(3):\n",
        "    y= np.zeros(x[idx[i]].shape[0])\n",
        "    plt.scatter(x[idx[i]],y,label=\"class_\"+str(i))\n",
        "plt.legend()"
      ],
      "execution_count": 229,
      "outputs": [
        {
          "output_type": "execute_result",
          "data": {
            "text/plain": [
              "<matplotlib.legend.Legend at 0x7efcd9eea8d0>"
            ]
          },
          "metadata": {
            "tags": []
          },
          "execution_count": 229
        },
        {
          "output_type": "display_data",
          "data": {
            "image/png": "[encoded data removed]",
            "text/plain": [
              "<Figure size 432x288 with 1 Axes>"
            ]
          },
          "metadata": {
            "tags": [],
            "needs_background": "light"
          }
        }
      ]
    },
    {
      "cell_type": "code",
      "metadata": {
        "id": "UfFHcZJOr0Sz"
      },
      "source": [
        "foreground_classes = {'class_0','class_1' }\n",
        "\n",
        "background_classes = {'class_2'}"
      ],
      "execution_count": 230,
      "outputs": []
    },
    {
      "cell_type": "code",
      "metadata": {
        "colab": {
          "base_uri": "https://localhost:8080/"
        },
        "id": "OplNpNQVr0S2",
        "outputId": "93b1bec3-b2db-4ed1-8d76-9d940acabefa"
      },
      "source": [
        "fg_class  = np.random.randint(0,2)\n",
        "fg_idx = np.random.randint(0,9)\n",
        "\n",
        "a = []\n",
        "for i in range(9):\n",
        "    if i == fg_idx:\n",
        "        b = np.random.choice(np.where(idx[fg_class]==True)[0],size=1)\n",
        "        a.append(x[b])\n",
        "        print(\"foreground \"+str(fg_class)+\" present at \" + str(fg_idx))\n",
        "    else:\n",
        "        bg_class = np.random.randint(2,3)\n",
        "        b = np.random.choice(np.where(idx[bg_class]==True)[0],size=1)\n",
        "        a.append(x[b])\n",
        "        print(\"background \"+str(bg_class)+\" present at \" + str(i))\n",
        "a = np.concatenate(a,axis=0)\n",
        "print(a.shape)\n",
        "\n",
        "print(fg_class , fg_idx)"
      ],
      "execution_count": 231,
      "outputs": [
        {
          "output_type": "stream",
          "text": [
            "background 2 present at 0\n",
            "background 2 present at 1\n",
            "background 2 present at 2\n",
            "background 2 present at 3\n",
            "background 2 present at 4\n",
            "background 2 present at 5\n",
            "background 2 present at 6\n",
            "background 2 present at 7\n",
            "foreground 1 present at 8\n",
            "(9,)\n",
            "1 8\n"
          ],
          "name": "stdout"
        }
      ]
    },
    {
      "cell_type": "code",
      "metadata": {
        "colab": {
          "base_uri": "https://localhost:8080/"
        },
        "id": "dwZVmmRBr0S8",
        "outputId": "a118fc60-19a7-432d-bde0-14b07be8bfd5"
      },
      "source": [
        "a.shape"
      ],
      "execution_count": 232,
      "outputs": [
        {
          "output_type": "execute_result",
          "data": {
            "text/plain": [
              "(9,)"
            ]
          },
          "metadata": {
            "tags": []
          },
          "execution_count": 232
        }
      ]
    },
    {
      "cell_type": "code",
      "metadata": {
        "colab": {
          "base_uri": "https://localhost:8080/"
        },
        "id": "OoxzYI-ur0S_",
        "outputId": "719768e9-93a4-4da2-91c8-1a6baeee5db6"
      },
      "source": [
        "np.reshape(a,(9,1))"
      ],
      "execution_count": 233,
      "outputs": [
        {
          "output_type": "execute_result",
          "data": {
            "text/plain": [
              "array([[ 0.40979192],\n",
              "       [-0.04565917],\n",
              "       [-0.77031028],\n",
              "       [ 1.08379709],\n",
              "       [ 0.22227256],\n",
              "       [-0.43434573],\n",
              "       [ 1.00020239],\n",
              "       [ 0.22227256],\n",
              "       [-6.28320936]])"
            ]
          },
          "metadata": {
            "tags": []
          },
          "execution_count": 233
        }
      ]
    },
    {
      "cell_type": "code",
      "metadata": {
        "id": "y4ruI0cxr0TE"
      },
      "source": [
        "a=np.reshape(a,(3,3))"
      ],
      "execution_count": 234,
      "outputs": []
    },
    {
      "cell_type": "code",
      "metadata": {
        "colab": {
          "base_uri": "https://localhost:8080/",
          "height": 288
        },
        "id": "RTUTFhJIr0TI",
        "outputId": "bd7f1c52-46c9-4921-de00-d9203a12ad84"
      },
      "source": [
        "plt.imshow(a)"
      ],
      "execution_count": 235,
      "outputs": [
        {
          "output_type": "execute_result",
          "data": {
            "text/plain": [
              "<matplotlib.image.AxesImage at 0x7efcd9e70f50>"
            ]
          },
          "metadata": {
            "tags": []
          },
          "execution_count": 235
        },
        {
          "output_type": "display_data",
          "data": {
            "image/png": "[encoded data removed]",
            "text/plain": [
              "<Figure size 432x288 with 1 Axes>"
            ]
          },
          "metadata": {
            "tags": [],
            "needs_background": "light"
          }
        }
      ]
    },
    {
      "cell_type": "code",
      "metadata": {
        "id": "jqbvfbwVr0TN"
      },
      "source": [
        "desired_num = 2000\n",
        "mosaic_list_of_images =[]\n",
        "mosaic_label = []\n",
        "fore_idx=[]\n",
        "for j in range(desired_num):\n",
        "    np.random.seed(j)\n",
        "    fg_class  = np.random.randint(0,2)\n",
        "    fg_idx = 0\n",
        "    a = []\n",
        "    for i in range(9):\n",
        "        if i == fg_idx:\n",
        "            b = np.random.choice(np.where(idx[fg_class]==True)[0],size=1)\n",
        "            a.append(x[b])\n",
        "#             print(\"foreground \"+str(fg_class)+\" present at \" + str(fg_idx))\n",
        "        else:\n",
        "            bg_class = np.random.randint(2,3)\n",
        "            b = np.random.choice(np.where(idx[bg_class]==True)[0],size=1)\n",
        "            a.append(x[b])\n",
        "#             print(\"background \"+str(bg_class)+\" present at \" + str(i))\n",
        "    a = np.concatenate(a,axis=0)\n",
        "    mosaic_list_of_images.append(np.reshape(a,(9,1)))\n",
        "    mosaic_label.append(fg_class)\n",
        "    fore_idx.append(fg_idx)"
      ],
      "execution_count": 236,
      "outputs": []
    },
    {
      "cell_type": "code",
      "metadata": {
        "id": "BOsFmWfMr0TR"
      },
      "source": [
        "mosaic_list_of_images = np.concatenate(mosaic_list_of_images,axis=1).T\n"
      ],
      "execution_count": 237,
      "outputs": []
    },
    {
      "cell_type": "code",
      "metadata": {
        "colab": {
          "base_uri": "https://localhost:8080/"
        },
        "id": "2aIPMgLXNiXW",
        "outputId": "6451cf7d-5136-4335-9685-9b3f6b77117f"
      },
      "source": [
        "mosaic_list_of_images.shape, mosaic_list_of_images[0]"
      ],
      "execution_count": 238,
      "outputs": [
        {
          "output_type": "execute_result",
          "data": {
            "text/plain": [
              "((2000, 9), array([-10.68799918,   0.94030013,   0.7524408 ,  -0.95760213,\n",
              "         -0.43434573,   0.31742836,   1.35464187,   0.58432   ,\n",
              "         -1.19055412]))"
            ]
          },
          "metadata": {
            "tags": []
          },
          "execution_count": 238
        }
      ]
    },
    {
      "cell_type": "code",
      "metadata": {
        "colab": {
          "base_uri": "https://localhost:8080/"
        },
        "id": "A3qcsbbzPfRG",
        "outputId": "754f20d2-16c4-4bd9-ab7e-7b91f46ddc38"
      },
      "source": [
        "for j in range(9):\n",
        "  print(mosaic_list_of_images[0][j])\n",
        "  "
      ],
      "execution_count": 239,
      "outputs": [
        {
          "output_type": "stream",
          "text": [
            "-10.687999184729621\n",
            "0.9403001287685366\n",
            "0.7524408023240402\n",
            "-0.9576021280224775\n",
            "-0.43434572784995695\n",
            "0.3174283630550014\n",
            "1.354641873345945\n",
            "0.5843200010524233\n",
            "-1.1905541245396298\n"
          ],
          "name": "stdout"
        }
      ]
    },
    {
      "cell_type": "code",
      "metadata": {
        "id": "iPoIwbMHx44n"
      },
      "source": [
        "def create_avg_image_from_mosaic_dataset(mosaic_dataset,labels,foreground_index,dataset_number):\n",
        "  \"\"\"\n",
        "  mosaic_dataset : mosaic_dataset contains 9 images 32 x 32 each as 1 data point\n",
        "  labels : mosaic_dataset labels\n",
        "  foreground_index : contains list of indexes where foreground image is present so that using this we can take weighted average\n",
        "  dataset_number : will help us to tell what ratio of foreground image to be taken. for eg: if it is \"j\" then fg_image_ratio = j/9 , bg_image_ratio = (9-j)/8*9\n",
        "  \"\"\"\n",
        "  avg_image_dataset = []\n",
        "  cnt = 0\n",
        "  counter = np.array([0,0,0,0,0,0,0,0,0])\n",
        "  for i in range(len(mosaic_dataset)):\n",
        "    img = torch.zeros([1], dtype=torch.float64)\n",
        "    np.random.seed(int(dataset_number*10000 + i))\n",
        "    give_pref = foreground_index[i] #np.random.randint(0,9)\n",
        "    # print(\"outside\", give_pref,foreground_index[i])\n",
        "    for j in range(9):\n",
        "      if j == give_pref:\n",
        "        img = img + mosaic_dataset[i][j]*dataset_number/9   #2 is data dim\n",
        "      else :\n",
        "        img = img + mosaic_dataset[i][j]*(9-dataset_number)/(8*9)\n",
        "\n",
        "    if give_pref == foreground_index[i] :\n",
        "      # print(\"equal are\", give_pref,foreground_index[i])\n",
        "      cnt += 1\n",
        "      counter[give_pref] += 1\n",
        "    else :\n",
        "      counter[give_pref] += 1\n",
        "\n",
        "    avg_image_dataset.append(img)\n",
        "\n",
        "  print(\"number of correct averaging happened for dataset \"+str(dataset_number)+\" is \"+str(cnt)) \n",
        "  print(\"the averaging are done as \", counter) \n",
        "  return avg_image_dataset , labels , foreground_index\n",
        "        \n",
        "  "
      ],
      "execution_count": 240,
      "outputs": []
    },
    {
      "cell_type": "code",
      "metadata": {
        "colab": {
          "base_uri": "https://localhost:8080/"
        },
        "id": "30ZAjix3x8CM",
        "outputId": "635be4a6-b398-4ce3-9719-94942ac54a84"
      },
      "source": [
        "avg_image_dataset_1 , labels_1,  fg_index_1 = create_avg_image_from_mosaic_dataset(mosaic_list_of_images[0:1000], mosaic_label[0:1000], fore_idx[0:1000] , 0)\n",
        "avg_image_dataset_2 , labels_2,  fg_index_2 = create_avg_image_from_mosaic_dataset(mosaic_list_of_images[0:1000], mosaic_label[0:1000], fore_idx[0:1000] , 0.2)\n",
        "avg_image_dataset_3 , labels_3,  fg_index_3 = create_avg_image_from_mosaic_dataset(mosaic_list_of_images[0:1000], mosaic_label[0:1000], fore_idx[0:1000] , 0.4)\n",
        "avg_image_dataset_4 , labels_4,  fg_index_4 = create_avg_image_from_mosaic_dataset(mosaic_list_of_images[0:1000], mosaic_label[0:1000], fore_idx[0:1000] , 0.6)\n",
        "avg_image_dataset_5 , labels_5,  fg_index_5 = create_avg_image_from_mosaic_dataset(mosaic_list_of_images[0:1000], mosaic_label[0:1000], fore_idx[0:1000] , 0.8)\n",
        "avg_image_dataset_6 , labels_6,  fg_index_6 = create_avg_image_from_mosaic_dataset(mosaic_list_of_images[0:1000], mosaic_label[0:1000], fore_idx[0:1000] , 1)\n",
        "avg_image_dataset_7 , labels_7,  fg_index_7 = create_avg_image_from_mosaic_dataset(mosaic_list_of_images[0:1000], mosaic_label[0:1000], fore_idx[0:1000] , 1.2)\n",
        "avg_image_dataset_8 , labels_8,  fg_index_8 = create_avg_image_from_mosaic_dataset(mosaic_list_of_images[0:1000], mosaic_label[0:1000], fore_idx[0:1000] , 1.4)\n",
        "avg_image_dataset_9 , labels_9,  fg_index_9 = create_avg_image_from_mosaic_dataset(mosaic_list_of_images[0:1000], mosaic_label[0:1000], fore_idx[0:1000] , 1.6)\n",
        "avg_image_dataset_10 , labels_10,  fg_index_10 = create_avg_image_from_mosaic_dataset(mosaic_list_of_images[0:1000], mosaic_label[0:1000], fore_idx[0:1000] , 1.8)\n",
        "\n",
        "test_dataset , labels , fg_index = create_avg_image_from_mosaic_dataset(mosaic_list_of_images[1000:2000], mosaic_label[1000:2000], fore_idx[1000:2000] , 9)"
      ],
      "execution_count": 241,
      "outputs": [
        {
          "output_type": "stream",
          "text": [
            "number of correct averaging happened for dataset 0 is 1000\n",
            "the averaging are done as  [1000    0    0    0    0    0    0    0    0]\n",
            "number of correct averaging happened for dataset 0.2 is 1000\n",
            "the averaging are done as  [1000    0    0    0    0    0    0    0    0]\n",
            "number of correct averaging happened for dataset 0.4 is 1000\n",
            "the averaging are done as  [1000    0    0    0    0    0    0    0    0]\n",
            "number of correct averaging happened for dataset 0.6 is 1000\n",
            "the averaging are done as  [1000    0    0    0    0    0    0    0    0]\n",
            "number of correct averaging happened for dataset 0.8 is 1000\n",
            "the averaging are done as  [1000    0    0    0    0    0    0    0    0]\n",
            "number of correct averaging happened for dataset 1 is 1000\n",
            "the averaging are done as  [1000    0    0    0    0    0    0    0    0]\n",
            "number of correct averaging happened for dataset 1.2 is 1000\n",
            "the averaging are done as  [1000    0    0    0    0    0    0    0    0]\n",
            "number of correct averaging happened for dataset 1.4 is 1000\n",
            "the averaging are done as  [1000    0    0    0    0    0    0    0    0]\n",
            "number of correct averaging happened for dataset 1.6 is 1000\n",
            "the averaging are done as  [1000    0    0    0    0    0    0    0    0]\n",
            "number of correct averaging happened for dataset 1.8 is 1000\n",
            "the averaging are done as  [1000    0    0    0    0    0    0    0    0]\n",
            "number of correct averaging happened for dataset 9 is 1000\n",
            "the averaging are done as  [1000    0    0    0    0    0    0    0    0]\n"
          ],
          "name": "stdout"
        }
      ]
    },
    {
      "cell_type": "code",
      "metadata": {
        "colab": {
          "base_uri": "https://localhost:8080/"
        },
        "id": "0dYXnywAD-4l",
        "outputId": "7db7ec52-e35f-4192-95ab-69be91cc318a"
      },
      "source": [
        "avg = torch.stack(avg_image_dataset_1, axis = 0)\n",
        "avg_image_dataset_1 = (avg - torch.mean(avg, keepdims= True, axis = 0)) / torch.std(avg, keepdims= True, axis = 0)\n",
        "print(torch.mean(avg_image_dataset_1, keepdims= True, axis = 0))\n",
        "print(torch.std(avg_image_dataset_1, keepdims= True, axis = 0))\n",
        "print(\"==\"*40)\n",
        "\n",
        "avg = torch.stack(avg_image_dataset_2, axis = 0)\n",
        "avg_image_dataset_2 = (avg - torch.mean(avg, keepdims= True, axis = 0)) / torch.std(avg, keepdims= True, axis = 0)\n",
        "print(torch.mean(avg_image_dataset_2, keepdims= True, axis = 0))\n",
        "print(torch.std(avg_image_dataset_2, keepdims= True, axis = 0))\n",
        "print(\"==\"*40)\n",
        "\n",
        "avg = torch.stack(avg_image_dataset_3, axis = 0)\n",
        "avg_image_dataset_3 = (avg - torch.mean(avg, keepdims= True, axis = 0)) / torch.std(avg, keepdims= True, axis = 0)\n",
        "print(torch.mean(avg_image_dataset_3, keepdims= True, axis = 0))\n",
        "print(torch.std(avg_image_dataset_3, keepdims= True, axis = 0))\n",
        "print(\"==\"*40)\n",
        "\n",
        "avg = torch.stack(avg_image_dataset_4, axis = 0)\n",
        "avg_image_dataset_4 = (avg - torch.mean(avg, keepdims= True, axis = 0)) / torch.std(avg, keepdims= True, axis = 0)\n",
        "print(torch.mean(avg_image_dataset_4, keepdims= True, axis = 0))\n",
        "print(torch.std(avg_image_dataset_4, keepdims= True, axis = 0))\n",
        "print(\"==\"*40)\n",
        "\n",
        "avg = torch.stack(avg_image_dataset_5, axis = 0)\n",
        "avg_image_dataset_5 = (avg - torch.mean(avg, keepdims= True, axis = 0)) / torch.std(avg, keepdims= True, axis = 0)\n",
        "print(torch.mean(avg_image_dataset_5, keepdims= True, axis = 0))\n",
        "print(torch.std(avg_image_dataset_5, keepdims= True, axis = 0))\n",
        "print(\"==\"*40)\n",
        "\n",
        "avg = torch.stack(avg_image_dataset_6, axis = 0)\n",
        "avg_image_dataset_6 = (avg - torch.mean(avg, keepdims= True, axis = 0)) / torch.std(avg, keepdims= True, axis = 0)\n",
        "print(torch.mean(avg_image_dataset_6, keepdims= True, axis = 0))\n",
        "print(torch.std(avg_image_dataset_6, keepdims= True, axis = 0))\n",
        "print(\"==\"*40)\n",
        "\n",
        "avg = torch.stack(avg_image_dataset_7, axis = 0)\n",
        "avg_image_dataset_7 = (avg - torch.mean(avg, keepdims= True, axis = 0)) / torch.std(avg, keepdims= True, axis = 0)\n",
        "print(torch.mean(avg_image_dataset_7, keepdims= True, axis = 0))\n",
        "print(torch.std(avg_image_dataset_7, keepdims= True, axis = 0))\n",
        "print(\"==\"*40)\n",
        "\n",
        "avg = torch.stack(avg_image_dataset_8, axis = 0)\n",
        "avg_image_dataset_8 = (avg - torch.mean(avg, keepdims= True, axis = 0)) / torch.std(avg, keepdims= True, axis = 0)\n",
        "print(torch.mean(avg_image_dataset_8, keepdims= True, axis = 0))\n",
        "print(torch.std(avg_image_dataset_8, keepdims= True, axis = 0))\n",
        "print(\"==\"*40)\n",
        "\n",
        "avg = torch.stack(avg_image_dataset_9, axis = 0)\n",
        "avg_image_dataset_9 = (avg - torch.mean(avg, keepdims= True, axis = 0)) / torch.std(avg, keepdims= True, axis = 0)\n",
        "print(torch.mean(avg_image_dataset_9, keepdims= True, axis = 0))\n",
        "print(torch.std(avg_image_dataset_9, keepdims= True, axis = 0))\n",
        "print(\"==\"*40)\n",
        "\n",
        "avg = torch.stack(avg_image_dataset_10, axis = 0)\n",
        "avg_image_dataset_10 = (avg - torch.mean(avg, keepdims= True, axis = 0)) / torch.std(avg, keepdims= True, axis = 0)\n",
        "print(torch.mean(avg_image_dataset_10, keepdims= True, axis = 0))\n",
        "print(torch.std(avg_image_dataset_10, keepdims= True, axis = 0))\n",
        "print(\"==\"*40)\n",
        "\n",
        "avg = torch.stack(test_dataset, axis = 0)\n",
        "test_dataset = (avg - torch.mean(avg, keepdims= True, axis = 0)) / torch.std(avg, keepdims= True, axis = 0)\n",
        "print(torch.mean(test_dataset, keepdims= True, axis = 0))\n",
        "print(torch.std(test_dataset, keepdims= True, axis = 0))\n",
        "print(\"==\"*40)\n"
      ],
      "execution_count": 242,
      "outputs": [
        {
          "output_type": "stream",
          "text": [
            "tensor([[3.7303e-17]], dtype=torch.float64)\n",
            "tensor([[1.0000]], dtype=torch.float64)\n",
            "================================================================================\n",
            "tensor([[-5.1514e-17]], dtype=torch.float64)\n",
            "tensor([[1.0000]], dtype=torch.float64)\n",
            "================================================================================\n",
            "tensor([[-7.1054e-18]], dtype=torch.float64)\n",
            "tensor([[1.0000]], dtype=torch.float64)\n",
            "================================================================================\n",
            "tensor([[2.3803e-16]], dtype=torch.float64)\n",
            "tensor([[1.0000]], dtype=torch.float64)\n",
            "================================================================================\n",
            "tensor([[2.3181e-16]], dtype=torch.float64)\n",
            "tensor([[1.0000]], dtype=torch.float64)\n",
            "================================================================================\n",
            "tensor([[-1.6520e-16]], dtype=torch.float64)\n",
            "tensor([[1.0000]], dtype=torch.float64)\n",
            "================================================================================\n",
            "tensor([[1.3944e-16]], dtype=torch.float64)\n",
            "tensor([[1.0000]], dtype=torch.float64)\n",
            "================================================================================\n",
            "tensor([[2.8422e-17]], dtype=torch.float64)\n",
            "tensor([[1.0000]], dtype=torch.float64)\n",
            "================================================================================\n",
            "tensor([[8.1712e-17]], dtype=torch.float64)\n",
            "tensor([[1.0000]], dtype=torch.float64)\n",
            "================================================================================\n",
            "tensor([[-1.9096e-17]], dtype=torch.float64)\n",
            "tensor([[1.0000]], dtype=torch.float64)\n",
            "================================================================================\n",
            "tensor([[5.2935e-16]], dtype=torch.float64)\n",
            "tensor([[1.0000]], dtype=torch.float64)\n",
            "================================================================================\n"
          ],
          "name": "stdout"
        }
      ]
    },
    {
      "cell_type": "code",
      "metadata": {
        "colab": {
          "base_uri": "https://localhost:8080/",
          "height": 300
        },
        "id": "bT9-kEI7NAnR",
        "outputId": "26f365d1-d750-49b9-d6a4-32686de1b7a3"
      },
      "source": [
        "x1 = (avg_image_dataset_3).numpy()\n",
        "y1 = np.array(labels_3)\n",
        "\n",
        "# idx1 = []\n",
        "# for i in range(3):\n",
        "#   idx1.append(y1 == i)\n",
        "\n",
        "# for i in range(3):\n",
        "#     z = np.zeros(x1[idx1[i]].shape[0])\n",
        "#     plt.scatter(x1[idx1[i]],z,label=\"class_\"+str(i))\n",
        "# plt.legend()\n",
        "\n",
        "plt.scatter(x1[y1==0], y1[y1==0]*0, label='class 0')\n",
        "plt.scatter(x1[y1==1], y1[y1==1]*0, label='class 1')\n",
        "plt.scatter(x1[y1==2], y1[y1==2]*0, label='class 2')\n",
        "plt.legend()\n",
        "plt.title(\"type 2 alpha = 2/9\")"
      ],
      "execution_count": 243,
      "outputs": [
        {
          "output_type": "execute_result",
          "data": {
            "text/plain": [
              "Text(0.5, 1.0, 'type 2 alpha = 2/9')"
            ]
          },
          "metadata": {
            "tags": []
          },
          "execution_count": 243
        },
        {
          "output_type": "display_data",
          "data": {
            "image/png": "[encoded data removed]",
            "text/plain": [
              "<Figure size 432x288 with 1 Axes>"
            ]
          },
          "metadata": {
            "tags": [],
            "needs_background": "light"
          }
        }
      ]
    },
    {
      "cell_type": "code",
      "metadata": {
        "colab": {
          "base_uri": "https://localhost:8080/",
          "height": 300
        },
        "id": "Sc8W2N7LQQ_l",
        "outputId": "d1ff1609-43fa-435d-8c0b-5c9799e6fac5"
      },
      "source": [
        "x1 = (avg_image_dataset_6).numpy()\n",
        "y1 = np.array(labels_6)\n",
        "\n",
        "# idx1 = []\n",
        "# for i in range(3):\n",
        "#   idx1.append(y1 == i)\n",
        "\n",
        "# for i in range(3):\n",
        "#     z = np.zeros(x1[idx1[i]].shape[0])\n",
        "#     plt.scatter(x1[idx1[i]],z,label=\"class_\"+str(i))\n",
        "# plt.legend()\n",
        "plt.scatter(x1[y1==0], y1[y1==0]*0, label='class 0')\n",
        "plt.scatter(x1[y1==1], y1[y1==1]*0, label='class 1')\n",
        "plt.scatter(x1[y1==2], y1[y1==2]*0, label='class 2')\n",
        "plt.legend()\n",
        "plt.title(\"type 2 alpha = 5/9\")"
      ],
      "execution_count": 244,
      "outputs": [
        {
          "output_type": "execute_result",
          "data": {
            "text/plain": [
              "Text(0.5, 1.0, 'type 2 alpha = 5/9')"
            ]
          },
          "metadata": {
            "tags": []
          },
          "execution_count": 244
        },
        {
          "output_type": "display_data",
          "data": {
            "image/png": "[encoded data removed]",
            "text/plain": [
              "<Figure size 432x288 with 1 Axes>"
            ]
          },
          "metadata": {
            "tags": [],
            "needs_background": "light"
          }
        }
      ]
    },
    {
      "cell_type": "code",
      "metadata": {
        "colab": {
          "base_uri": "https://localhost:8080/",
          "height": 300
        },
        "id": "i4xGQy56Qe9e",
        "outputId": "e78d9e3c-73ad-4cdb-85dc-9636aeec4070"
      },
      "source": [
        "x1 = (avg_image_dataset_9).numpy()\n",
        "y1 = np.array(labels_9)\n",
        "\n",
        "# idx1 = []\n",
        "# for i in range(3):\n",
        "#   idx1.append(y1 == i)\n",
        "\n",
        "# for i in range(3):\n",
        "#     z = np.zeros(x1[idx1[i]].shape[0])\n",
        "#     plt.scatter(x1[idx1[i]],z,label=\"class_\"+str(i))\n",
        "# plt.legend()\n",
        "\n",
        "plt.scatter(x1[y1==0], y1[y1==0]*0, label='class 0')\n",
        "plt.scatter(x1[y1==1], y1[y1==1]*0, label='class 1')\n",
        "plt.scatter(x1[y1==2], y1[y1==2]*0, label='class 2')\n",
        "plt.legend()\n",
        "plt.title(\"type 2 alpha = 8/9\")"
      ],
      "execution_count": 245,
      "outputs": [
        {
          "output_type": "execute_result",
          "data": {
            "text/plain": [
              "Text(0.5, 1.0, 'type 2 alpha = 8/9')"
            ]
          },
          "metadata": {
            "tags": []
          },
          "execution_count": 245
        },
        {
          "output_type": "display_data",
          "data": {
            "image/png": "[encoded data removed]",
            "text/plain": [
              "<Figure size 432x288 with 1 Axes>"
            ]
          },
          "metadata": {
            "tags": [],
            "needs_background": "light"
          }
        }
      ]
    },
    {
      "cell_type": "code",
      "metadata": {
        "colab": {
          "base_uri": "https://localhost:8080/",
          "height": 300
        },
        "id": "b6pnxGE7Qv3O",
        "outputId": "dabdda79-5349-49bf-fa03-e23e2c9eb7d9"
      },
      "source": [
        "x1 = (avg_image_dataset_10).numpy()\n",
        "y1 = np.array(labels_10)\n",
        "\n",
        "plt.scatter(x1[y1==0], y1[y1==0]*0, label='class 0')\n",
        "plt.scatter(x1[y1==1], y1[y1==1]*0, label='class 1')\n",
        "plt.scatter(x1[y1==2], y1[y1==2]*0, label='class 2')\n",
        "plt.legend()\n",
        "plt.title(\"type 2 alpha = 9/9\")"
      ],
      "execution_count": 246,
      "outputs": [
        {
          "output_type": "execute_result",
          "data": {
            "text/plain": [
              "Text(0.5, 1.0, 'type 2 alpha = 9/9')"
            ]
          },
          "metadata": {
            "tags": []
          },
          "execution_count": 246
        },
        {
          "output_type": "display_data",
          "data": {
            "image/png": "[encoded data removed]",
            "text/plain": [
              "<Figure size 432x288 with 1 Axes>"
            ]
          },
          "metadata": {
            "tags": [],
            "needs_background": "light"
          }
        }
      ]
    },
    {
      "cell_type": "code",
      "metadata": {
        "id": "yL0BRf8er0TX"
      },
      "source": [
        "class MosaicDataset(Dataset):\n",
        "  \"\"\"MosaicDataset dataset.\"\"\"\n",
        "\n",
        "  def __init__(self, mosaic_list_of_images, mosaic_label):\n",
        "    \"\"\"\n",
        "      Args:\n",
        "        csv_file (string): Path to the csv file with annotations.\n",
        "        root_dir (string): Directory with all the images.\n",
        "        transform (callable, optional): Optional transform to be applied\n",
        "            on a sample.\n",
        "    \"\"\"\n",
        "    self.mosaic = mosaic_list_of_images\n",
        "    self.label = mosaic_label\n",
        "    #self.fore_idx = fore_idx\n",
        "    \n",
        "  def __len__(self):\n",
        "    return len(self.label)\n",
        "\n",
        "  def __getitem__(self, idx):\n",
        "    return self.mosaic[idx] , self.label[idx] #, self.fore_idx[idx]\n",
        "\n"
      ],
      "execution_count": 247,
      "outputs": []
    },
    {
      "cell_type": "code",
      "metadata": {
        "colab": {
          "base_uri": "https://localhost:8080/"
        },
        "id": "4KsrW9qL9xgS",
        "outputId": "ff20b0fa-dd76-4f96-b61a-a724e0645ac3"
      },
      "source": [
        "avg_image_dataset_1[0].shape\n",
        "avg_image_dataset_1[0]"
      ],
      "execution_count": 248,
      "outputs": [
        {
          "output_type": "execute_result",
          "data": {
            "text/plain": [
              "tensor([0.4880], dtype=torch.float64)"
            ]
          },
          "metadata": {
            "tags": []
          },
          "execution_count": 248
        }
      ]
    },
    {
      "cell_type": "code",
      "metadata": {
        "colab": {
          "base_uri": "https://localhost:8080/"
        },
        "id": "fjVnan3CA8ix",
        "outputId": "853d2245-c655-4896-95b9-7b85b0df1e82"
      },
      "source": [
        "l = [ labels_1, labels_2, labels_3, labels_4, labels_5, labels_6, labels_7, labels_8, labels_9, labels_10]\n",
        "for i in l:\n",
        "  print(np.unique(l))"
      ],
      "execution_count": 249,
      "outputs": [
        {
          "output_type": "stream",
          "text": [
            "[0 1]\n",
            "[0 1]\n",
            "[0 1]\n",
            "[0 1]\n",
            "[0 1]\n",
            "[0 1]\n",
            "[0 1]\n",
            "[0 1]\n",
            "[0 1]\n",
            "[0 1]\n"
          ],
          "name": "stdout"
        }
      ]
    },
    {
      "cell_type": "code",
      "metadata": {
        "id": "EY2l62APygaV"
      },
      "source": [
        "batch = 200\n",
        "\n",
        "traindata_1 = MosaicDataset(avg_image_dataset_1, labels_1 )\n",
        "trainloader_1 = DataLoader( traindata_1 , batch_size= batch ,shuffle=True)\n",
        "\n",
        "traindata_2 = MosaicDataset(avg_image_dataset_2, labels_2 )\n",
        "trainloader_2 = DataLoader( traindata_2 , batch_size= batch ,shuffle=True)\n",
        "\n",
        "traindata_3 = MosaicDataset(avg_image_dataset_3, labels_3 )\n",
        "trainloader_3 = DataLoader( traindata_3 , batch_size= batch ,shuffle=True)\n",
        "\n",
        "traindata_4 = MosaicDataset(avg_image_dataset_4, labels_4 )\n",
        "trainloader_4 = DataLoader( traindata_4 , batch_size= batch ,shuffle=True)\n",
        "\n",
        "traindata_5 = MosaicDataset(avg_image_dataset_5, labels_5 )\n",
        "trainloader_5 = DataLoader( traindata_5 , batch_size= batch ,shuffle=True)\n",
        "\n",
        "traindata_6 = MosaicDataset(avg_image_dataset_6, labels_6 )\n",
        "trainloader_6 = DataLoader( traindata_6 , batch_size= batch ,shuffle=True)\n",
        "\n",
        "traindata_7 = MosaicDataset(avg_image_dataset_7, labels_7 )\n",
        "trainloader_7 = DataLoader( traindata_7 , batch_size= batch ,shuffle=True)\n",
        "\n",
        "traindata_8 = MosaicDataset(avg_image_dataset_8, labels_8 )\n",
        "trainloader_8 = DataLoader( traindata_8 , batch_size= batch ,shuffle=True)\n",
        "\n",
        "traindata_9 = MosaicDataset(avg_image_dataset_9, labels_9 )\n",
        "trainloader_9 = DataLoader( traindata_9 , batch_size= batch ,shuffle=True)\n",
        "\n",
        "traindata_10 = MosaicDataset(avg_image_dataset_10, labels_10 )\n",
        "trainloader_10 = DataLoader( traindata_10 , batch_size= batch ,shuffle=True)"
      ],
      "execution_count": 250,
      "outputs": []
    },
    {
      "cell_type": "code",
      "metadata": {
        "id": "9suUslCj8YZK"
      },
      "source": [
        "testdata_1 = MosaicDataset(avg_image_dataset_1, labels_1 )\n",
        "testloader_1 = DataLoader( testdata_1 , batch_size= batch ,shuffle=False)\n",
        "\n",
        "testdata_2 = MosaicDataset(avg_image_dataset_2, labels_2 )\n",
        "testloader_2 = DataLoader( testdata_2 , batch_size= batch ,shuffle=False)\n",
        "\n",
        "testdata_3 = MosaicDataset(avg_image_dataset_3, labels_3 )\n",
        "testloader_3 = DataLoader( testdata_3 , batch_size= batch ,shuffle=False)\n",
        "\n",
        "testdata_4 = MosaicDataset(avg_image_dataset_4, labels_4 )\n",
        "testloader_4 = DataLoader( testdata_4 , batch_size= batch ,shuffle=False)\n",
        "\n",
        "testdata_5 = MosaicDataset(avg_image_dataset_5, labels_5 )\n",
        "testloader_5 = DataLoader( testdata_5 , batch_size= batch ,shuffle=False)\n",
        "\n",
        "testdata_6 = MosaicDataset(avg_image_dataset_6, labels_6 )\n",
        "testloader_6 = DataLoader( testdata_6 , batch_size= batch ,shuffle=False)\n",
        "\n",
        "testdata_7 = MosaicDataset(avg_image_dataset_7, labels_7 )\n",
        "testloader_7 = DataLoader( testdata_7 , batch_size= batch ,shuffle=False)\n",
        "\n",
        "testdata_8 = MosaicDataset(avg_image_dataset_8, labels_8 )\n",
        "testloader_8 = DataLoader( testdata_8 , batch_size= batch ,shuffle=False)\n",
        "\n",
        "testdata_9 = MosaicDataset(avg_image_dataset_9, labels_9 )\n",
        "testloader_9 = DataLoader( testdata_9 , batch_size= batch ,shuffle=False)\n",
        "\n",
        "testdata_10 = MosaicDataset(avg_image_dataset_10, labels_10 )\n",
        "testloader_10 = DataLoader( testdata_10 , batch_size= batch ,shuffle=False)\n",
        "\n"
      ],
      "execution_count": 251,
      "outputs": []
    },
    {
      "cell_type": "code",
      "metadata": {
        "id": "Nh3mBQHZ8bEj"
      },
      "source": [
        "testdata_11 = MosaicDataset(test_dataset, labels )\n",
        "testloader_11 = DataLoader( testdata_11 , batch_size= batch ,shuffle=False)"
      ],
      "execution_count": 252,
      "outputs": []
    },
    {
      "cell_type": "code",
      "metadata": {
        "id": "5_XeIUk0r0Tl"
      },
      "source": [
        "class Whatnet(nn.Module):\n",
        "    def __init__(self):\n",
        "        super(Whatnet,self).__init__()\n",
        "        self.linear1 = nn.Linear(1,50)\n",
        "        self.linear2 = nn.Linear(50,10)\n",
        "        self.linear3 = nn.Linear(10,3)\n",
        "\n",
        "    def forward(self,x):\n",
        "        x = F.relu(self.linear1(x))\n",
        "        x = F.relu(self.linear2(x))\n",
        "        x = (self.linear3(x))\n",
        "\n",
        "        return x"
      ],
      "execution_count": 253,
      "outputs": []
    },
    {
      "cell_type": "code",
      "metadata": {
        "id": "pjD2VZuV9Ed4"
      },
      "source": [
        "def calculate_loss(dataloader,model,criter):\n",
        "  model.eval()\n",
        "  r_loss = 0\n",
        "  with torch.no_grad():\n",
        "    for i, data in enumerate(dataloader, 0):\n",
        "      inputs, labels = data\n",
        "      inputs, labels = inputs.to(\"cuda\"),labels.to(\"cuda\")\n",
        "      outputs = model(inputs)\n",
        "      loss = criter(outputs, labels)\n",
        "      r_loss += loss.item()\n",
        "  return r_loss/i"
      ],
      "execution_count": 254,
      "outputs": []
    },
    {
      "cell_type": "code",
      "metadata": {
        "id": "uALi25pmzQHV"
      },
      "source": [
        "def test_all(number, testloader,net):\n",
        "    correct = 0\n",
        "    total = 0\n",
        "    out = []\n",
        "    pred = []\n",
        "    with torch.no_grad():\n",
        "        for data in testloader:\n",
        "            images, labels = data\n",
        "            images, labels = images.to(\"cuda\"),labels.to(\"cuda\")\n",
        "            out.append(labels.cpu().numpy())\n",
        "            outputs= net(images)\n",
        "            _, predicted = torch.max(outputs.data, 1)\n",
        "            pred.append(predicted.cpu().numpy())\n",
        "            total += labels.size(0)\n",
        "            correct += (predicted == labels).sum().item()\n",
        "    \n",
        "    pred = np.concatenate(pred, axis = 0)\n",
        "    out = np.concatenate(out, axis = 0)\n",
        "    print(\"unique out: \",  np.unique(out), \"unique pred: \", np.unique(pred) )\n",
        "    print(\"correct: \", correct, \"total \",  total)\n",
        "    print('Accuracy of the network on the 1000 test dataset %d: %.2f %%' % (number , 100 * correct / total))"
      ],
      "execution_count": 255,
      "outputs": []
    },
    {
      "cell_type": "code",
      "metadata": {
        "id": "4vmNprlPzTjP"
      },
      "source": [
        "def train_all(trainloader, ds_number, testloader_list):\n",
        "    \n",
        "    print(\"--\"*40)\n",
        "    print(\"training on data set  \", ds_number)\n",
        "    \n",
        "    torch.manual_seed(12)\n",
        "    net = Whatnet().double()\n",
        "    net = net.to(\"cuda\")\n",
        "    \n",
        "    criterion_net = nn.CrossEntropyLoss()\n",
        "    optimizer_net = optim.Adam(net.parameters(), lr=0.001 ) #, momentum=0.9)\n",
        "    \n",
        "    acti = []\n",
        "    loss_curi = []\n",
        "    epochs = 1000\n",
        "    running_loss = calculate_loss(trainloader,net,criterion_net)\n",
        "    loss_curi.append(running_loss)\n",
        "    print('epoch: [%d ] loss: %.3f' %(0,running_loss)) \n",
        "    for epoch in range(epochs): # loop over the dataset multiple times\n",
        "        ep_lossi = []\n",
        "\n",
        "        running_loss = 0.0\n",
        "        net.train()\n",
        "        for i, data in enumerate(trainloader, 0):\n",
        "            # get the inputs\n",
        "            inputs, labels = data\n",
        "            inputs, labels = inputs.to(\"cuda\"),labels.to(\"cuda\")\n",
        "\n",
        "            # zero the parameter gradients\n",
        "            optimizer_net.zero_grad()\n",
        "\n",
        "            # forward + backward + optimize\n",
        "            outputs = net(inputs)\n",
        "            loss = criterion_net(outputs, labels)\n",
        "            # print statistics\n",
        "            running_loss += loss.item()\n",
        "            loss.backward()\n",
        "            optimizer_net.step()\n",
        "\n",
        "        running_loss = calculate_loss(trainloader,net,criterion_net)\n",
        "        if(epoch%500 == 0):\n",
        "          print('epoch: [%d] loss: %.3f' %(epoch + 1,running_loss)) \n",
        "        loss_curi.append(running_loss)   #loss per epoch\n",
        "        if running_loss<=0.05:\n",
        "          print('epoch: [%d] loss: %.3f' %(epoch + 1,running_loss))\n",
        "          break\n",
        "\n",
        "    print('Finished Training')\n",
        "    \n",
        "    correct = 0\n",
        "    total = 0\n",
        "    with torch.no_grad():\n",
        "        for data in trainloader:\n",
        "            images, labels = data\n",
        "            images, labels = images.to(\"cuda\"), labels.to(\"cuda\")\n",
        "            outputs = net(images)\n",
        "            _, predicted = torch.max(outputs.data, 1)\n",
        "            total += labels.size(0)\n",
        "            correct += (predicted == labels).sum().item()\n",
        "\n",
        "    print('Accuracy of the network on the 1000 train images: %.2f %%' % (  100 * correct / total))\n",
        "    \n",
        "    for i, j in enumerate(testloader_list):\n",
        "        test_all(i+1, j,net)\n",
        "    \n",
        "    print(\"--\"*40)\n",
        "    \n",
        "    return loss_curi\n",
        "    "
      ],
      "execution_count": 256,
      "outputs": []
    },
    {
      "cell_type": "code",
      "metadata": {
        "id": "Yl41sE8vFERk"
      },
      "source": [
        "train_loss_all=[]\n",
        "\n",
        "testloader_list= [ testloader_1, testloader_2, testloader_3, testloader_4, testloader_5, testloader_6,\n",
        "                 testloader_7, testloader_8, testloader_9, testloader_10, testloader_11]"
      ],
      "execution_count": 257,
      "outputs": []
    },
    {
      "cell_type": "code",
      "metadata": {
        "colab": {
          "base_uri": "https://localhost:8080/"
        },
        "id": "5gQoPST5zW2t",
        "outputId": "625378bc-2f35-4940-8759-8f51a6aea53e"
      },
      "source": [
        "train_loss_all.append(train_all(trainloader_1, 1, testloader_list))\n",
        "train_loss_all.append(train_all(trainloader_2, 2, testloader_list))\n",
        "train_loss_all.append(train_all(trainloader_3, 3, testloader_list))\n",
        "train_loss_all.append(train_all(trainloader_4, 4, testloader_list))\n",
        "train_loss_all.append(train_all(trainloader_5, 5, testloader_list))\n",
        "train_loss_all.append(train_all(trainloader_6, 6, testloader_list))\n",
        "train_loss_all.append(train_all(trainloader_7, 7, testloader_list))\n",
        "train_loss_all.append(train_all(trainloader_8, 8, testloader_list))\n",
        "train_loss_all.append(train_all(trainloader_9, 9, testloader_list))\n",
        "train_loss_all.append(train_all(trainloader_10, 10, testloader_list))"
      ],
      "execution_count": 258,
      "outputs": [
        {
          "output_type": "stream",
          "text": [
            "--------------------------------------------------------------------------------\n",
            "training on data set   1\n",
            "epoch: [0 ] loss: 1.369\n",
            "epoch: [1] loss: 1.293\n",
            "epoch: [501] loss: 0.861\n",
            "Finished Training\n",
            "Accuracy of the network on the 1000 train images: 54.50 %\n",
            "unique out:  [0 1] unique pred:  [0 1]\n",
            "correct:  545 total  1000\n",
            "Accuracy of the network on the 1000 test dataset 1: 54.50 %\n",
            "unique out:  [0 1] unique pred:  [0 1]\n",
            "correct:  517 total  1000\n",
            "Accuracy of the network on the 1000 test dataset 2: 51.70 %\n",
            "unique out:  [0 1] unique pred:  [0 1]\n",
            "correct:  493 total  1000\n",
            "Accuracy of the network on the 1000 test dataset 3: 49.30 %\n",
            "unique out:  [0 1] unique pred:  [0 1]\n",
            "correct:  467 total  1000\n",
            "Accuracy of the network on the 1000 test dataset 4: 46.70 %\n",
            "unique out:  [0 1] unique pred:  [0 1]\n",
            "correct:  446 total  1000\n",
            "Accuracy of the network on the 1000 test dataset 5: 44.60 %\n",
            "unique out:  [0 1] unique pred:  [0 1]\n",
            "correct:  434 total  1000\n",
            "Accuracy of the network on the 1000 test dataset 6: 43.40 %\n",
            "unique out:  [0 1] unique pred:  [0 1]\n",
            "correct:  434 total  1000\n",
            "Accuracy of the network on the 1000 test dataset 7: 43.40 %\n",
            "unique out:  [0 1] unique pred:  [0 1]\n",
            "correct:  416 total  1000\n",
            "Accuracy of the network on the 1000 test dataset 8: 41.60 %\n",
            "unique out:  [0 1] unique pred:  [0 1]\n",
            "correct:  408 total  1000\n",
            "Accuracy of the network on the 1000 test dataset 9: 40.80 %\n",
            "unique out:  [0 1] unique pred:  [0 1]\n",
            "correct:  401 total  1000\n",
            "Accuracy of the network on the 1000 test dataset 10: 40.10 %\n",
            "unique out:  [0 1] unique pred:  [0 1]\n",
            "correct:  325 total  1000\n",
            "Accuracy of the network on the 1000 test dataset 11: 32.50 %\n",
            "--------------------------------------------------------------------------------\n",
            "--------------------------------------------------------------------------------\n",
            "training on data set   2\n",
            "epoch: [0 ] loss: 1.370\n",
            "epoch: [1] loss: 1.296\n",
            "epoch: [501] loss: 0.861\n",
            "Finished Training\n",
            "Accuracy of the network on the 1000 train images: 53.40 %\n",
            "unique out:  [0 1] unique pred:  [0 1]\n",
            "correct:  508 total  1000\n",
            "Accuracy of the network on the 1000 test dataset 1: 50.80 %\n",
            "unique out:  [0 1] unique pred:  [0 1]\n",
            "correct:  534 total  1000\n",
            "Accuracy of the network on the 1000 test dataset 2: 53.40 %\n",
            "unique out:  [0 1] unique pred:  [0 1]\n",
            "correct:  571 total  1000\n",
            "Accuracy of the network on the 1000 test dataset 3: 57.10 %\n",
            "unique out:  [0 1] unique pred:  [0 1]\n",
            "correct:  579 total  1000\n",
            "Accuracy of the network on the 1000 test dataset 4: 57.90 %\n",
            "unique out:  [0 1] unique pred:  [0 1]\n",
            "correct:  616 total  1000\n",
            "Accuracy of the network on the 1000 test dataset 5: 61.60 %\n",
            "unique out:  [0 1] unique pred:  [0 1]\n",
            "correct:  630 total  1000\n",
            "Accuracy of the network on the 1000 test dataset 6: 63.00 %\n",
            "unique out:  [0 1] unique pred:  [0 1]\n",
            "correct:  653 total  1000\n",
            "Accuracy of the network on the 1000 test dataset 7: 65.30 %\n",
            "unique out:  [0 1] unique pred:  [0 1]\n",
            "correct:  683 total  1000\n",
            "Accuracy of the network on the 1000 test dataset 8: 68.30 %\n",
            "unique out:  [0 1] unique pred:  [0 1]\n",
            "correct:  694 total  1000\n",
            "Accuracy of the network on the 1000 test dataset 9: 69.40 %\n",
            "unique out:  [0 1] unique pred:  [0 1]\n",
            "correct:  704 total  1000\n",
            "Accuracy of the network on the 1000 test dataset 10: 70.40 %\n",
            "unique out:  [0 1] unique pred:  [0 1]\n",
            "correct:  770 total  1000\n",
            "Accuracy of the network on the 1000 test dataset 11: 77.00 %\n",
            "--------------------------------------------------------------------------------\n",
            "--------------------------------------------------------------------------------\n",
            "training on data set   3\n",
            "epoch: [0 ] loss: 1.372\n",
            "epoch: [1] loss: 1.299\n",
            "epoch: [501] loss: 0.845\n",
            "Finished Training\n",
            "Accuracy of the network on the 1000 train images: 57.10 %\n",
            "unique out:  [0 1] unique pred:  [0 1]\n",
            "correct:  490 total  1000\n",
            "Accuracy of the network on the 1000 test dataset 1: 49.00 %\n",
            "unique out:  [0 1] unique pred:  [0 1]\n",
            "correct:  521 total  1000\n",
            "Accuracy of the network on the 1000 test dataset 2: 52.10 %\n",
            "unique out:  [0 1] unique pred:  [0 1]\n",
            "correct:  571 total  1000\n",
            "Accuracy of the network on the 1000 test dataset 3: 57.10 %\n",
            "unique out:  [0 1] unique pred:  [0 1]\n",
            "correct:  623 total  1000\n",
            "Accuracy of the network on the 1000 test dataset 4: 62.30 %\n",
            "unique out:  [0 1] unique pred:  [0 1]\n",
            "correct:  651 total  1000\n",
            "Accuracy of the network on the 1000 test dataset 5: 65.10 %\n",
            "unique out:  [0 1] unique pred:  [0 1]\n",
            "correct:  691 total  1000\n",
            "Accuracy of the network on the 1000 test dataset 6: 69.10 %\n",
            "unique out:  [0 1] unique pred:  [0 1]\n",
            "correct:  730 total  1000\n",
            "Accuracy of the network on the 1000 test dataset 7: 73.00 %\n",
            "unique out:  [0 1] unique pred:  [0 1]\n",
            "correct:  764 total  1000\n",
            "Accuracy of the network on the 1000 test dataset 8: 76.40 %\n",
            "unique out:  [0 1] unique pred:  [0 1]\n",
            "correct:  788 total  1000\n",
            "Accuracy of the network on the 1000 test dataset 9: 78.80 %\n",
            "unique out:  [0 1] unique pred:  [0 1]\n",
            "correct:  810 total  1000\n",
            "Accuracy of the network on the 1000 test dataset 10: 81.00 %\n",
            "unique out:  [0 1] unique pred:  [0 1]\n",
            "correct:  961 total  1000\n",
            "Accuracy of the network on the 1000 test dataset 11: 96.10 %\n",
            "--------------------------------------------------------------------------------\n",
            "--------------------------------------------------------------------------------\n",
            "training on data set   4\n",
            "epoch: [0 ] loss: 1.374\n",
            "epoch: [1] loss: 1.302\n",
            "epoch: [501] loss: 0.814\n",
            "Finished Training\n",
            "Accuracy of the network on the 1000 train images: 61.40 %\n",
            "unique out:  [0 1] unique pred:  [0 1]\n",
            "correct:  474 total  1000\n",
            "Accuracy of the network on the 1000 test dataset 1: 47.40 %\n",
            "unique out:  [0 1] unique pred:  [0 1]\n",
            "correct:  530 total  1000\n",
            "Accuracy of the network on the 1000 test dataset 2: 53.00 %\n",
            "unique out:  [0 1] unique pred:  [0 1]\n",
            "correct:  572 total  1000\n",
            "Accuracy of the network on the 1000 test dataset 3: 57.20 %\n",
            "unique out:  [0 1] unique pred:  [0 1]\n",
            "correct:  614 total  1000\n",
            "Accuracy of the network on the 1000 test dataset 4: 61.40 %\n",
            "unique out:  [0 1] unique pred:  [0 1]\n",
            "correct:  657 total  1000\n",
            "Accuracy of the network on the 1000 test dataset 5: 65.70 %\n",
            "unique out:  [0 1] unique pred:  [0 1]\n",
            "correct:  701 total  1000\n",
            "Accuracy of the network on the 1000 test dataset 6: 70.10 %\n",
            "unique out:  [0 1] unique pred:  [0 1]\n",
            "correct:  738 total  1000\n",
            "Accuracy of the network on the 1000 test dataset 7: 73.80 %\n",
            "unique out:  [0 1] unique pred:  [0 1]\n",
            "correct:  765 total  1000\n",
            "Accuracy of the network on the 1000 test dataset 8: 76.50 %\n",
            "unique out:  [0 1] unique pred:  [0 1]\n",
            "correct:  796 total  1000\n",
            "Accuracy of the network on the 1000 test dataset 9: 79.60 %\n",
            "unique out:  [0 1] unique pred:  [0 1]\n",
            "correct:  815 total  1000\n",
            "Accuracy of the network on the 1000 test dataset 10: 81.50 %\n",
            "unique out:  [0 1] unique pred:  [0 1]\n",
            "correct:  982 total  1000\n",
            "Accuracy of the network on the 1000 test dataset 11: 98.20 %\n",
            "--------------------------------------------------------------------------------\n",
            "--------------------------------------------------------------------------------\n",
            "training on data set   5\n",
            "epoch: [0 ] loss: 1.376\n",
            "epoch: [1] loss: 1.302\n",
            "epoch: [501] loss: 0.770\n",
            "Finished Training\n",
            "Accuracy of the network on the 1000 train images: 66.20 %\n",
            "unique out:  [0 1] unique pred:  [0 1]\n",
            "correct:  484 total  1000\n",
            "Accuracy of the network on the 1000 test dataset 1: 48.40 %\n",
            "unique out:  [0 1] unique pred:  [0 1]\n",
            "correct:  528 total  1000\n",
            "Accuracy of the network on the 1000 test dataset 2: 52.80 %\n",
            "unique out:  [0 1] unique pred:  [0 1]\n",
            "correct:  570 total  1000\n",
            "Accuracy of the network on the 1000 test dataset 3: 57.00 %\n",
            "unique out:  [0 1] unique pred:  [0 1]\n",
            "correct:  605 total  1000\n",
            "Accuracy of the network on the 1000 test dataset 4: 60.50 %\n",
            "unique out:  [0 1] unique pred:  [0 1]\n",
            "correct:  662 total  1000\n",
            "Accuracy of the network on the 1000 test dataset 5: 66.20 %\n",
            "unique out:  [0 1] unique pred:  [0 1]\n",
            "correct:  704 total  1000\n",
            "Accuracy of the network on the 1000 test dataset 6: 70.40 %\n",
            "unique out:  [0 1] unique pred:  [0 1]\n",
            "correct:  739 total  1000\n",
            "Accuracy of the network on the 1000 test dataset 7: 73.90 %\n",
            "unique out:  [0 1] unique pred:  [0 1]\n",
            "correct:  768 total  1000\n",
            "Accuracy of the network on the 1000 test dataset 8: 76.80 %\n",
            "unique out:  [0 1] unique pred:  [0 1]\n",
            "correct:  791 total  1000\n",
            "Accuracy of the network on the 1000 test dataset 9: 79.10 %\n",
            "unique out:  [0 1] unique pred:  [0 1]\n",
            "correct:  822 total  1000\n",
            "Accuracy of the network on the 1000 test dataset 10: 82.20 %\n",
            "unique out:  [0 1] unique pred:  [0 1]\n",
            "correct:  984 total  1000\n",
            "Accuracy of the network on the 1000 test dataset 11: 98.40 %\n",
            "--------------------------------------------------------------------------------\n",
            "--------------------------------------------------------------------------------\n",
            "training on data set   6\n",
            "epoch: [0 ] loss: 1.378\n",
            "epoch: [1] loss: 1.302\n",
            "epoch: [501] loss: 0.715\n",
            "Finished Training\n",
            "Accuracy of the network on the 1000 train images: 70.20 %\n",
            "unique out:  [0 1] unique pred:  [0 1]\n",
            "correct:  479 total  1000\n",
            "Accuracy of the network on the 1000 test dataset 1: 47.90 %\n",
            "unique out:  [0 1] unique pred:  [0 1]\n",
            "correct:  528 total  1000\n",
            "Accuracy of the network on the 1000 test dataset 2: 52.80 %\n",
            "unique out:  [0 1] unique pred:  [0 1]\n",
            "correct:  570 total  1000\n",
            "Accuracy of the network on the 1000 test dataset 3: 57.00 %\n",
            "unique out:  [0 1] unique pred:  [0 1]\n",
            "correct:  610 total  1000\n",
            "Accuracy of the network on the 1000 test dataset 4: 61.00 %\n",
            "unique out:  [0 1] unique pred:  [0 1]\n",
            "correct:  661 total  1000\n",
            "Accuracy of the network on the 1000 test dataset 5: 66.10 %\n",
            "unique out:  [0 1] unique pred:  [0 1]\n",
            "correct:  702 total  1000\n",
            "Accuracy of the network on the 1000 test dataset 6: 70.20 %\n",
            "unique out:  [0 1] unique pred:  [0 1]\n",
            "correct:  735 total  1000\n",
            "Accuracy of the network on the 1000 test dataset 7: 73.50 %\n",
            "unique out:  [0 1] unique pred:  [0 1]\n",
            "correct:  764 total  1000\n",
            "Accuracy of the network on the 1000 test dataset 8: 76.40 %\n",
            "unique out:  [0 1] unique pred:  [0 1]\n",
            "correct:  791 total  1000\n",
            "Accuracy of the network on the 1000 test dataset 9: 79.10 %\n",
            "unique out:  [0 1] unique pred:  [0 1]\n",
            "correct:  823 total  1000\n",
            "Accuracy of the network on the 1000 test dataset 10: 82.30 %\n",
            "unique out:  [0 1] unique pred:  [0 1]\n",
            "correct:  987 total  1000\n",
            "Accuracy of the network on the 1000 test dataset 11: 98.70 %\n",
            "--------------------------------------------------------------------------------\n",
            "--------------------------------------------------------------------------------\n",
            "training on data set   7\n",
            "epoch: [0 ] loss: 1.379\n",
            "epoch: [1] loss: 1.301\n",
            "epoch: [501] loss: 0.655\n",
            "Finished Training\n",
            "Accuracy of the network on the 1000 train images: 73.60 %\n",
            "unique out:  [0 1] unique pred:  [0 1]\n",
            "correct:  475 total  1000\n",
            "Accuracy of the network on the 1000 test dataset 1: 47.50 %\n",
            "unique out:  [0 1] unique pred:  [0 1]\n",
            "correct:  528 total  1000\n",
            "Accuracy of the network on the 1000 test dataset 2: 52.80 %\n",
            "unique out:  [0 1] unique pred:  [0 1]\n",
            "correct:  573 total  1000\n",
            "Accuracy of the network on the 1000 test dataset 3: 57.30 %\n",
            "unique out:  [0 1] unique pred:  [0 1]\n",
            "correct:  610 total  1000\n",
            "Accuracy of the network on the 1000 test dataset 4: 61.00 %\n",
            "unique out:  [0 1] unique pred:  [0 1]\n",
            "correct:  659 total  1000\n",
            "Accuracy of the network on the 1000 test dataset 5: 65.90 %\n",
            "unique out:  [0 1] unique pred:  [0 1]\n",
            "correct:  704 total  1000\n",
            "Accuracy of the network on the 1000 test dataset 6: 70.40 %\n",
            "unique out:  [0 1] unique pred:  [0 1]\n",
            "correct:  736 total  1000\n",
            "Accuracy of the network on the 1000 test dataset 7: 73.60 %\n",
            "unique out:  [0 1] unique pred:  [0 1]\n",
            "correct:  765 total  1000\n",
            "Accuracy of the network on the 1000 test dataset 8: 76.50 %\n",
            "unique out:  [0 1] unique pred:  [0 1]\n",
            "correct:  796 total  1000\n",
            "Accuracy of the network on the 1000 test dataset 9: 79.60 %\n",
            "unique out:  [0 1] unique pred:  [0 1]\n",
            "correct:  820 total  1000\n",
            "Accuracy of the network on the 1000 test dataset 10: 82.00 %\n",
            "unique out:  [0 1] unique pred:  [0 1]\n",
            "correct:  989 total  1000\n",
            "Accuracy of the network on the 1000 test dataset 11: 98.90 %\n",
            "--------------------------------------------------------------------------------\n",
            "--------------------------------------------------------------------------------\n",
            "training on data set   8\n",
            "epoch: [0 ] loss: 1.380\n",
            "epoch: [1] loss: 1.300\n",
            "epoch: [501] loss: 0.593\n",
            "Finished Training\n",
            "Accuracy of the network on the 1000 train images: 76.50 %\n",
            "unique out:  [0 1] unique pred:  [0 1]\n",
            "correct:  475 total  1000\n",
            "Accuracy of the network on the 1000 test dataset 1: 47.50 %\n",
            "unique out:  [0 1] unique pred:  [0 1]\n",
            "correct:  528 total  1000\n",
            "Accuracy of the network on the 1000 test dataset 2: 52.80 %\n",
            "unique out:  [0 1] unique pred:  [0 1]\n",
            "correct:  573 total  1000\n",
            "Accuracy of the network on the 1000 test dataset 3: 57.30 %\n",
            "unique out:  [0 1] unique pred:  [0 1]\n",
            "correct:  610 total  1000\n",
            "Accuracy of the network on the 1000 test dataset 4: 61.00 %\n",
            "unique out:  [0 1] unique pred:  [0 1]\n",
            "correct:  659 total  1000\n",
            "Accuracy of the network on the 1000 test dataset 5: 65.90 %\n",
            "unique out:  [0 1] unique pred:  [0 1]\n",
            "correct:  704 total  1000\n",
            "Accuracy of the network on the 1000 test dataset 6: 70.40 %\n",
            "unique out:  [0 1] unique pred:  [0 1]\n",
            "correct:  736 total  1000\n",
            "Accuracy of the network on the 1000 test dataset 7: 73.60 %\n",
            "unique out:  [0 1] unique pred:  [0 1]\n",
            "correct:  765 total  1000\n",
            "Accuracy of the network on the 1000 test dataset 8: 76.50 %\n",
            "unique out:  [0 1] unique pred:  [0 1]\n",
            "correct:  796 total  1000\n",
            "Accuracy of the network on the 1000 test dataset 9: 79.60 %\n",
            "unique out:  [0 1] unique pred:  [0 1]\n",
            "correct:  820 total  1000\n",
            "Accuracy of the network on the 1000 test dataset 10: 82.00 %\n",
            "unique out:  [0 1] unique pred:  [0 1]\n",
            "correct:  989 total  1000\n",
            "Accuracy of the network on the 1000 test dataset 11: 98.90 %\n",
            "--------------------------------------------------------------------------------\n",
            "--------------------------------------------------------------------------------\n",
            "training on data set   9\n",
            "epoch: [0 ] loss: 1.381\n",
            "epoch: [1] loss: 1.299\n",
            "epoch: [501] loss: 0.530\n",
            "Finished Training\n",
            "Accuracy of the network on the 1000 train images: 79.60 %\n",
            "unique out:  [0 1] unique pred:  [0 1]\n",
            "correct:  484 total  1000\n",
            "Accuracy of the network on the 1000 test dataset 1: 48.40 %\n",
            "unique out:  [0 1] unique pred:  [0 1]\n",
            "correct:  524 total  1000\n",
            "Accuracy of the network on the 1000 test dataset 2: 52.40 %\n",
            "unique out:  [0 1] unique pred:  [0 1]\n",
            "correct:  568 total  1000\n",
            "Accuracy of the network on the 1000 test dataset 3: 56.80 %\n",
            "unique out:  [0 1] unique pred:  [0 1]\n",
            "correct:  614 total  1000\n",
            "Accuracy of the network on the 1000 test dataset 4: 61.40 %\n",
            "unique out:  [0 1] unique pred:  [0 1]\n",
            "correct:  658 total  1000\n",
            "Accuracy of the network on the 1000 test dataset 5: 65.80 %\n",
            "unique out:  [0 1] unique pred:  [0 1]\n",
            "correct:  698 total  1000\n",
            "Accuracy of the network on the 1000 test dataset 6: 69.80 %\n",
            "unique out:  [0 1] unique pred:  [0 1]\n",
            "correct:  739 total  1000\n",
            "Accuracy of the network on the 1000 test dataset 7: 73.90 %\n",
            "unique out:  [0 1] unique pred:  [0 1]\n",
            "correct:  765 total  1000\n",
            "Accuracy of the network on the 1000 test dataset 8: 76.50 %\n",
            "unique out:  [0 1] unique pred:  [0 1]\n",
            "correct:  796 total  1000\n",
            "Accuracy of the network on the 1000 test dataset 9: 79.60 %\n",
            "unique out:  [0 1] unique pred:  [0 1]\n",
            "correct:  819 total  1000\n",
            "Accuracy of the network on the 1000 test dataset 10: 81.90 %\n",
            "unique out:  [0 1] unique pred:  [0 1]\n",
            "correct:  981 total  1000\n",
            "Accuracy of the network on the 1000 test dataset 11: 98.10 %\n",
            "--------------------------------------------------------------------------------\n",
            "--------------------------------------------------------------------------------\n",
            "training on data set   10\n",
            "epoch: [0 ] loss: 1.382\n",
            "epoch: [1] loss: 1.298\n",
            "epoch: [501] loss: 0.472\n",
            "Finished Training\n",
            "Accuracy of the network on the 1000 train images: 82.30 %\n",
            "unique out:  [0 1] unique pred:  [0 1]\n",
            "correct:  485 total  1000\n",
            "Accuracy of the network on the 1000 test dataset 1: 48.50 %\n",
            "unique out:  [0 1] unique pred:  [0 1]\n",
            "correct:  525 total  1000\n",
            "Accuracy of the network on the 1000 test dataset 2: 52.50 %\n",
            "unique out:  [0 1] unique pred:  [0 1]\n",
            "correct:  567 total  1000\n",
            "Accuracy of the network on the 1000 test dataset 3: 56.70 %\n",
            "unique out:  [0 1] unique pred:  [0 1]\n",
            "correct:  615 total  1000\n",
            "Accuracy of the network on the 1000 test dataset 4: 61.50 %\n",
            "unique out:  [0 1] unique pred:  [0 1]\n",
            "correct:  656 total  1000\n",
            "Accuracy of the network on the 1000 test dataset 5: 65.60 %\n",
            "unique out:  [0 1] unique pred:  [0 1]\n",
            "correct:  701 total  1000\n",
            "Accuracy of the network on the 1000 test dataset 6: 70.10 %\n",
            "unique out:  [0 1] unique pred:  [0 1]\n",
            "correct:  739 total  1000\n",
            "Accuracy of the network on the 1000 test dataset 7: 73.90 %\n",
            "unique out:  [0 1] unique pred:  [0 1]\n",
            "correct:  766 total  1000\n",
            "Accuracy of the network on the 1000 test dataset 8: 76.60 %\n",
            "unique out:  [0 1] unique pred:  [0 1]\n",
            "correct:  795 total  1000\n",
            "Accuracy of the network on the 1000 test dataset 9: 79.50 %\n",
            "unique out:  [0 1] unique pred:  [0 1]\n",
            "correct:  823 total  1000\n",
            "Accuracy of the network on the 1000 test dataset 10: 82.30 %\n",
            "unique out:  [0 1] unique pred:  [0 1]\n",
            "correct:  979 total  1000\n",
            "Accuracy of the network on the 1000 test dataset 11: 97.90 %\n",
            "--------------------------------------------------------------------------------\n"
          ],
          "name": "stdout"
        }
      ]
    },
    {
      "cell_type": "code",
      "metadata": {
        "id": "In76SYH_zZHV"
      },
      "source": [
        "%matplotlib inline"
      ],
      "execution_count": 259,
      "outputs": []
    },
    {
      "cell_type": "code",
      "metadata": {
        "id": "BS4HtOHEzZ0E",
        "colab": {
          "base_uri": "https://localhost:8080/",
          "height": 298
        },
        "outputId": "62ee4fc1-b3b4-4772-a548-274f21790a7e"
      },
      "source": [
        "for i,j in enumerate(train_loss_all):\n",
        "    plt.plot(j,label =\"dataset \"+str(i+1))\n",
        "    \n",
        "\n",
        "plt.xlabel(\"Epochs\")\n",
        "plt.ylabel(\"Training_loss\")\n",
        "\n",
        "plt.legend(loc='center left', bbox_to_anchor=(1, 0.5))"
      ],
      "execution_count": 260,
      "outputs": [
        {
          "output_type": "execute_result",
          "data": {
            "text/plain": [
              "<matplotlib.legend.Legend at 0x7efcd9bf7250>"
            ]
          },
          "metadata": {
            "tags": []
          },
          "execution_count": 260
        },
        {
          "output_type": "display_data",
          "data": {
            "image/png": "[encoded data removed]",
            "text/plain": [
              "<Figure size 432x288 with 1 Axes>"
            ]
          },
          "metadata": {
            "tags": [],
            "needs_background": "light"
          }
        }
      ]
    },
    {
      "cell_type": "code",
      "metadata": {
        "id": "1UbTkfLUINTI"
      },
      "source": [
        ""
      ],
      "execution_count": 260,
      "outputs": []
    }
  ]
}