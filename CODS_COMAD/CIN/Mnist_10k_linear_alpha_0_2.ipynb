{
  "nbformat": 4,
  "nbformat_minor": 0,
  "metadata": {
    "colab": {
      "name": "Mnist_10k_linear_alpha_0_2.ipynb",
      "provenance": [],
      "collapsed_sections": []
    },
    "kernelspec": {
      "name": "python3",
      "display_name": "Python 3"
    },
    "accelerator": "GPU",
    "widgets": {
      "application/vnd.jupyter.widget-state+json": {
        "db70d475bbf646219e3bfecae346ea47": {
          "model_module": "@jupyter-widgets/controls",
          "model_name": "HBoxModel",
          "model_module_version": "1.5.0",
          "state": {
            "_view_name": "HBoxView",
            "_dom_classes": [],
            "_model_name": "HBoxModel",
            "_view_module": "@jupyter-widgets/controls",
            "_model_module_version": "1.5.0",
            "_view_count": null,
            "_view_module_version": "1.5.0",
            "box_style": "",
            "layout": "IPY_MODEL_1f48635feb3643a4b056199045a8d137",
            "_model_module": "@jupyter-widgets/controls",
            "children": [
              "IPY_MODEL_b68407b11239445393d10e6e77aa2566",
              "IPY_MODEL_3580e609be294424955f3b9b3101cbc0"
            ]
          }
        },
        "1f48635feb3643a4b056199045a8d137": {
          "model_module": "@jupyter-widgets/base",
          "model_name": "LayoutModel",
          "model_module_version": "1.2.0",
          "state": {
            "_view_name": "LayoutView",
            "grid_template_rows": null,
            "right": null,
            "justify_content": null,
            "_view_module": "@jupyter-widgets/base",
            "overflow": null,
            "_model_module_version": "1.2.0",
            "_view_count": null,
            "flex_flow": null,
            "width": null,
            "min_width": null,
            "border": null,
            "align_items": null,
            "bottom": null,
            "_model_module": "@jupyter-widgets/base",
            "top": null,
            "grid_column": null,
            "overflow_y": null,
            "overflow_x": null,
            "grid_auto_flow": null,
            "grid_area": null,
            "grid_template_columns": null,
            "flex": null,
            "_model_name": "LayoutModel",
            "justify_items": null,
            "grid_row": null,
            "max_height": null,
            "align_content": null,
            "visibility": null,
            "align_self": null,
            "height": null,
            "min_height": null,
            "padding": null,
            "grid_auto_rows": null,
            "grid_gap": null,
            "max_width": null,
            "order": null,
            "_view_module_version": "1.2.0",
            "grid_template_areas": null,
            "object_position": null,
            "object_fit": null,
            "grid_auto_columns": null,
            "margin": null,
            "display": null,
            "left": null
          }
        },
        "b68407b11239445393d10e6e77aa2566": {
          "model_module": "@jupyter-widgets/controls",
          "model_name": "FloatProgressModel",
          "model_module_version": "1.5.0",
          "state": {
            "_view_name": "ProgressView",
            "style": "IPY_MODEL_b16d80b0945d4029ba91e60efa3da6a2",
            "_dom_classes": [],
            "description": "",
            "_model_name": "FloatProgressModel",
            "bar_style": "success",
            "max": 9912422,
            "_view_module": "@jupyter-widgets/controls",
            "_model_module_version": "1.5.0",
            "value": 9912422,
            "_view_count": null,
            "_view_module_version": "1.5.0",
            "orientation": "horizontal",
            "min": 0,
            "description_tooltip": null,
            "_model_module": "@jupyter-widgets/controls",
            "layout": "IPY_MODEL_ab3145656fe24ccd8ae7ef4b0aba839d"
          }
        },
        "3580e609be294424955f3b9b3101cbc0": {
          "model_module": "@jupyter-widgets/controls",
          "model_name": "HTMLModel",
          "model_module_version": "1.5.0",
          "state": {
            "_view_name": "HTMLView",
            "style": "IPY_MODEL_8317f3fee0b04f89b027d153db8dcf22",
            "_dom_classes": [],
            "description": "",
            "_model_name": "HTMLModel",
            "placeholder": "​",
            "_view_module": "@jupyter-widgets/controls",
            "_model_module_version": "1.5.0",
            "value": " 9913344/? [04:13&lt;00:00, 39046.20it/s]",
            "_view_count": null,
            "_view_module_version": "1.5.0",
            "description_tooltip": null,
            "_model_module": "@jupyter-widgets/controls",
            "layout": "IPY_MODEL_c0007729ebed49afb1dac65fd88916b5"
          }
        },
        "b16d80b0945d4029ba91e60efa3da6a2": {
          "model_module": "@jupyter-widgets/controls",
          "model_name": "ProgressStyleModel",
          "model_module_version": "1.5.0",
          "state": {
            "_view_name": "StyleView",
            "_model_name": "ProgressStyleModel",
            "description_width": "initial",
            "_view_module": "@jupyter-widgets/base",
            "_model_module_version": "1.5.0",
            "_view_count": null,
            "_view_module_version": "1.2.0",
            "bar_color": null,
            "_model_module": "@jupyter-widgets/controls"
          }
        },
        "ab3145656fe24ccd8ae7ef4b0aba839d": {
          "model_module": "@jupyter-widgets/base",
          "model_name": "LayoutModel",
          "model_module_version": "1.2.0",
          "state": {
            "_view_name": "LayoutView",
            "grid_template_rows": null,
            "right": null,
            "justify_content": null,
            "_view_module": "@jupyter-widgets/base",
            "overflow": null,
            "_model_module_version": "1.2.0",
            "_view_count": null,
            "flex_flow": null,
            "width": null,
            "min_width": null,
            "border": null,
            "align_items": null,
            "bottom": null,
            "_model_module": "@jupyter-widgets/base",
            "top": null,
            "grid_column": null,
            "overflow_y": null,
            "overflow_x": null,
            "grid_auto_flow": null,
            "grid_area": null,
            "grid_template_columns": null,
            "flex": null,
            "_model_name": "LayoutModel",
            "justify_items": null,
            "grid_row": null,
            "max_height": null,
            "align_content": null,
            "visibility": null,
            "align_self": null,
            "height": null,
            "min_height": null,
            "padding": null,
            "grid_auto_rows": null,
            "grid_gap": null,
            "max_width": null,
            "order": null,
            "_view_module_version": "1.2.0",
            "grid_template_areas": null,
            "object_position": null,
            "object_fit": null,
            "grid_auto_columns": null,
            "margin": null,
            "display": null,
            "left": null
          }
        },
        "8317f3fee0b04f89b027d153db8dcf22": {
          "model_module": "@jupyter-widgets/controls",
          "model_name": "DescriptionStyleModel",
          "model_module_version": "1.5.0",
          "state": {
            "_view_name": "StyleView",
            "_model_name": "DescriptionStyleModel",
            "description_width": "",
            "_view_module": "@jupyter-widgets/base",
            "_model_module_version": "1.5.0",
            "_view_count": null,
            "_view_module_version": "1.2.0",
            "_model_module": "@jupyter-widgets/controls"
          }
        },
        "c0007729ebed49afb1dac65fd88916b5": {
          "model_module": "@jupyter-widgets/base",
          "model_name": "LayoutModel",
          "model_module_version": "1.2.0",
          "state": {
            "_view_name": "LayoutView",
            "grid_template_rows": null,
            "right": null,
            "justify_content": null,
            "_view_module": "@jupyter-widgets/base",
            "overflow": null,
            "_model_module_version": "1.2.0",
            "_view_count": null,
            "flex_flow": null,
            "width": null,
            "min_width": null,
            "border": null,
            "align_items": null,
            "bottom": null,
            "_model_module": "@jupyter-widgets/base",
            "top": null,
            "grid_column": null,
            "overflow_y": null,
            "overflow_x": null,
            "grid_auto_flow": null,
            "grid_area": null,
            "grid_template_columns": null,
            "flex": null,
            "_model_name": "LayoutModel",
            "justify_items": null,
            "grid_row": null,
            "max_height": null,
            "align_content": null,
            "visibility": null,
            "align_self": null,
            "height": null,
            "min_height": null,
            "padding": null,
            "grid_auto_rows": null,
            "grid_gap": null,
            "max_width": null,
            "order": null,
            "_view_module_version": "1.2.0",
            "grid_template_areas": null,
            "object_position": null,
            "object_fit": null,
            "grid_auto_columns": null,
            "margin": null,
            "display": null,
            "left": null
          }
        },
        "35b00be205994418ac5a8f8377fc93a1": {
          "model_module": "@jupyter-widgets/controls",
          "model_name": "HBoxModel",
          "model_module_version": "1.5.0",
          "state": {
            "_view_name": "HBoxView",
            "_dom_classes": [],
            "_model_name": "HBoxModel",
            "_view_module": "@jupyter-widgets/controls",
            "_model_module_version": "1.5.0",
            "_view_count": null,
            "_view_module_version": "1.5.0",
            "box_style": "",
            "layout": "IPY_MODEL_103410d1055d42b1a9805d53d6801f19",
            "_model_module": "@jupyter-widgets/controls",
            "children": [
              "IPY_MODEL_6d472ba346c2421c96f45adb50d62f37",
              "IPY_MODEL_8adac2a7648946b8b6b53cb5d21ed1c2"
            ]
          }
        },
        "103410d1055d42b1a9805d53d6801f19": {
          "model_module": "@jupyter-widgets/base",
          "model_name": "LayoutModel",
          "model_module_version": "1.2.0",
          "state": {
            "_view_name": "LayoutView",
            "grid_template_rows": null,
            "right": null,
            "justify_content": null,
            "_view_module": "@jupyter-widgets/base",
            "overflow": null,
            "_model_module_version": "1.2.0",
            "_view_count": null,
            "flex_flow": null,
            "width": null,
            "min_width": null,
            "border": null,
            "align_items": null,
            "bottom": null,
            "_model_module": "@jupyter-widgets/base",
            "top": null,
            "grid_column": null,
            "overflow_y": null,
            "overflow_x": null,
            "grid_auto_flow": null,
            "grid_area": null,
            "grid_template_columns": null,
            "flex": null,
            "_model_name": "LayoutModel",
            "justify_items": null,
            "grid_row": null,
            "max_height": null,
            "align_content": null,
            "visibility": null,
            "align_self": null,
            "height": null,
            "min_height": null,
            "padding": null,
            "grid_auto_rows": null,
            "grid_gap": null,
            "max_width": null,
            "order": null,
            "_view_module_version": "1.2.0",
            "grid_template_areas": null,
            "object_position": null,
            "object_fit": null,
            "grid_auto_columns": null,
            "margin": null,
            "display": null,
            "left": null
          }
        },
        "6d472ba346c2421c96f45adb50d62f37": {
          "model_module": "@jupyter-widgets/controls",
          "model_name": "FloatProgressModel",
          "model_module_version": "1.5.0",
          "state": {
            "_view_name": "ProgressView",
            "style": "IPY_MODEL_c0a8708a79a249e590799d70747be715",
            "_dom_classes": [],
            "description": "",
            "_model_name": "FloatProgressModel",
            "bar_style": "success",
            "max": 28881,
            "_view_module": "@jupyter-widgets/controls",
            "_model_module_version": "1.5.0",
            "value": 28881,
            "_view_count": null,
            "_view_module_version": "1.5.0",
            "orientation": "horizontal",
            "min": 0,
            "description_tooltip": null,
            "_model_module": "@jupyter-widgets/controls",
            "layout": "IPY_MODEL_8b6e122a2cd343a98055b4c0762e345b"
          }
        },
        "8adac2a7648946b8b6b53cb5d21ed1c2": {
          "model_module": "@jupyter-widgets/controls",
          "model_name": "HTMLModel",
          "model_module_version": "1.5.0",
          "state": {
            "_view_name": "HTMLView",
            "style": "IPY_MODEL_0ba9f37f8e8146f295baca5569ebf3ce",
            "_dom_classes": [],
            "description": "",
            "_model_name": "HTMLModel",
            "placeholder": "​",
            "_view_module": "@jupyter-widgets/controls",
            "_model_module_version": "1.5.0",
            "value": " 29696/? [00:00&lt;00:00, 78077.20it/s]",
            "_view_count": null,
            "_view_module_version": "1.5.0",
            "description_tooltip": null,
            "_model_module": "@jupyter-widgets/controls",
            "layout": "IPY_MODEL_992133747be24a1587e49dd87536ddc8"
          }
        },
        "c0a8708a79a249e590799d70747be715": {
          "model_module": "@jupyter-widgets/controls",
          "model_name": "ProgressStyleModel",
          "model_module_version": "1.5.0",
          "state": {
            "_view_name": "StyleView",
            "_model_name": "ProgressStyleModel",
            "description_width": "initial",
            "_view_module": "@jupyter-widgets/base",
            "_model_module_version": "1.5.0",
            "_view_count": null,
            "_view_module_version": "1.2.0",
            "bar_color": null,
            "_model_module": "@jupyter-widgets/controls"
          }
        },
        "8b6e122a2cd343a98055b4c0762e345b": {
          "model_module": "@jupyter-widgets/base",
          "model_name": "LayoutModel",
          "model_module_version": "1.2.0",
          "state": {
            "_view_name": "LayoutView",
            "grid_template_rows": null,
            "right": null,
            "justify_content": null,
            "_view_module": "@jupyter-widgets/base",
            "overflow": null,
            "_model_module_version": "1.2.0",
            "_view_count": null,
            "flex_flow": null,
            "width": null,
            "min_width": null,
            "border": null,
            "align_items": null,
            "bottom": null,
            "_model_module": "@jupyter-widgets/base",
            "top": null,
            "grid_column": null,
            "overflow_y": null,
            "overflow_x": null,
            "grid_auto_flow": null,
            "grid_area": null,
            "grid_template_columns": null,
            "flex": null,
            "_model_name": "LayoutModel",
            "justify_items": null,
            "grid_row": null,
            "max_height": null,
            "align_content": null,
            "visibility": null,
            "align_self": null,
            "height": null,
            "min_height": null,
            "padding": null,
            "grid_auto_rows": null,
            "grid_gap": null,
            "max_width": null,
            "order": null,
            "_view_module_version": "1.2.0",
            "grid_template_areas": null,
            "object_position": null,
            "object_fit": null,
            "grid_auto_columns": null,
            "margin": null,
            "display": null,
            "left": null
          }
        },
        "0ba9f37f8e8146f295baca5569ebf3ce": {
          "model_module": "@jupyter-widgets/controls",
          "model_name": "DescriptionStyleModel",
          "model_module_version": "1.5.0",
          "state": {
            "_view_name": "StyleView",
            "_model_name": "DescriptionStyleModel",
            "description_width": "",
            "_view_module": "@jupyter-widgets/base",
            "_model_module_version": "1.5.0",
            "_view_count": null,
            "_view_module_version": "1.2.0",
            "_model_module": "@jupyter-widgets/controls"
          }
        },
        "992133747be24a1587e49dd87536ddc8": {
          "model_module": "@jupyter-widgets/base",
          "model_name": "LayoutModel",
          "model_module_version": "1.2.0",
          "state": {
            "_view_name": "LayoutView",
            "grid_template_rows": null,
            "right": null,
            "justify_content": null,
            "_view_module": "@jupyter-widgets/base",
            "overflow": null,
            "_model_module_version": "1.2.0",
            "_view_count": null,
            "flex_flow": null,
            "width": null,
            "min_width": null,
            "border": null,
            "align_items": null,
            "bottom": null,
            "_model_module": "@jupyter-widgets/base",
            "top": null,
            "grid_column": null,
            "overflow_y": null,
            "overflow_x": null,
            "grid_auto_flow": null,
            "grid_area": null,
            "grid_template_columns": null,
            "flex": null,
            "_model_name": "LayoutModel",
            "justify_items": null,
            "grid_row": null,
            "max_height": null,
            "align_content": null,
            "visibility": null,
            "align_self": null,
            "height": null,
            "min_height": null,
            "padding": null,
            "grid_auto_rows": null,
            "grid_gap": null,
            "max_width": null,
            "order": null,
            "_view_module_version": "1.2.0",
            "grid_template_areas": null,
            "object_position": null,
            "object_fit": null,
            "grid_auto_columns": null,
            "margin": null,
            "display": null,
            "left": null
          }
        },
        "a35ac633cc9d450290eca20bbbe17b45": {
          "model_module": "@jupyter-widgets/controls",
          "model_name": "HBoxModel",
          "model_module_version": "1.5.0",
          "state": {
            "_view_name": "HBoxView",
            "_dom_classes": [],
            "_model_name": "HBoxModel",
            "_view_module": "@jupyter-widgets/controls",
            "_model_module_version": "1.5.0",
            "_view_count": null,
            "_view_module_version": "1.5.0",
            "box_style": "",
            "layout": "IPY_MODEL_f021ba6014c04ae58540d6cb91061731",
            "_model_module": "@jupyter-widgets/controls",
            "children": [
              "IPY_MODEL_bbd576811a514b6fa3915b20a3a15180",
              "IPY_MODEL_258ce28ad44d4291a5b20d91c3fed92b"
            ]
          }
        },
        "f021ba6014c04ae58540d6cb91061731": {
          "model_module": "@jupyter-widgets/base",
          "model_name": "LayoutModel",
          "model_module_version": "1.2.0",
          "state": {
            "_view_name": "LayoutView",
            "grid_template_rows": null,
            "right": null,
            "justify_content": null,
            "_view_module": "@jupyter-widgets/base",
            "overflow": null,
            "_model_module_version": "1.2.0",
            "_view_count": null,
            "flex_flow": null,
            "width": null,
            "min_width": null,
            "border": null,
            "align_items": null,
            "bottom": null,
            "_model_module": "@jupyter-widgets/base",
            "top": null,
            "grid_column": null,
            "overflow_y": null,
            "overflow_x": null,
            "grid_auto_flow": null,
            "grid_area": null,
            "grid_template_columns": null,
            "flex": null,
            "_model_name": "LayoutModel",
            "justify_items": null,
            "grid_row": null,
            "max_height": null,
            "align_content": null,
            "visibility": null,
            "align_self": null,
            "height": null,
            "min_height": null,
            "padding": null,
            "grid_auto_rows": null,
            "grid_gap": null,
            "max_width": null,
            "order": null,
            "_view_module_version": "1.2.0",
            "grid_template_areas": null,
            "object_position": null,
            "object_fit": null,
            "grid_auto_columns": null,
            "margin": null,
            "display": null,
            "left": null
          }
        },
        "bbd576811a514b6fa3915b20a3a15180": {
          "model_module": "@jupyter-widgets/controls",
          "model_name": "FloatProgressModel",
          "model_module_version": "1.5.0",
          "state": {
            "_view_name": "ProgressView",
            "style": "IPY_MODEL_b8345cb07b72428f89303084d94e90da",
            "_dom_classes": [],
            "description": "",
            "_model_name": "FloatProgressModel",
            "bar_style": "success",
            "max": 1648877,
            "_view_module": "@jupyter-widgets/controls",
            "_model_module_version": "1.5.0",
            "value": 1648877,
            "_view_count": null,
            "_view_module_version": "1.5.0",
            "orientation": "horizontal",
            "min": 0,
            "description_tooltip": null,
            "_model_module": "@jupyter-widgets/controls",
            "layout": "IPY_MODEL_d737cd06c86843f8ba4c0fa89682cc51"
          }
        },
        "258ce28ad44d4291a5b20d91c3fed92b": {
          "model_module": "@jupyter-widgets/controls",
          "model_name": "HTMLModel",
          "model_module_version": "1.5.0",
          "state": {
            "_view_name": "HTMLView",
            "style": "IPY_MODEL_0d49888efbf945c3afb61499ee390283",
            "_dom_classes": [],
            "description": "",
            "_model_name": "HTMLModel",
            "placeholder": "​",
            "_view_module": "@jupyter-widgets/controls",
            "_model_module_version": "1.5.0",
            "value": " 1649664/? [00:27&lt;00:00, 59151.46it/s]",
            "_view_count": null,
            "_view_module_version": "1.5.0",
            "description_tooltip": null,
            "_model_module": "@jupyter-widgets/controls",
            "layout": "IPY_MODEL_363de7d73d0842caa085f64cac8c497d"
          }
        },
        "b8345cb07b72428f89303084d94e90da": {
          "model_module": "@jupyter-widgets/controls",
          "model_name": "ProgressStyleModel",
          "model_module_version": "1.5.0",
          "state": {
            "_view_name": "StyleView",
            "_model_name": "ProgressStyleModel",
            "description_width": "initial",
            "_view_module": "@jupyter-widgets/base",
            "_model_module_version": "1.5.0",
            "_view_count": null,
            "_view_module_version": "1.2.0",
            "bar_color": null,
            "_model_module": "@jupyter-widgets/controls"
          }
        },
        "d737cd06c86843f8ba4c0fa89682cc51": {
          "model_module": "@jupyter-widgets/base",
          "model_name": "LayoutModel",
          "model_module_version": "1.2.0",
          "state": {
            "_view_name": "LayoutView",
            "grid_template_rows": null,
            "right": null,
            "justify_content": null,
            "_view_module": "@jupyter-widgets/base",
            "overflow": null,
            "_model_module_version": "1.2.0",
            "_view_count": null,
            "flex_flow": null,
            "width": null,
            "min_width": null,
            "border": null,
            "align_items": null,
            "bottom": null,
            "_model_module": "@jupyter-widgets/base",
            "top": null,
            "grid_column": null,
            "overflow_y": null,
            "overflow_x": null,
            "grid_auto_flow": null,
            "grid_area": null,
            "grid_template_columns": null,
            "flex": null,
            "_model_name": "LayoutModel",
            "justify_items": null,
            "grid_row": null,
            "max_height": null,
            "align_content": null,
            "visibility": null,
            "align_self": null,
            "height": null,
            "min_height": null,
            "padding": null,
            "grid_auto_rows": null,
            "grid_gap": null,
            "max_width": null,
            "order": null,
            "_view_module_version": "1.2.0",
            "grid_template_areas": null,
            "object_position": null,
            "object_fit": null,
            "grid_auto_columns": null,
            "margin": null,
            "display": null,
            "left": null
          }
        },
        "0d49888efbf945c3afb61499ee390283": {
          "model_module": "@jupyter-widgets/controls",
          "model_name": "DescriptionStyleModel",
          "model_module_version": "1.5.0",
          "state": {
            "_view_name": "StyleView",
            "_model_name": "DescriptionStyleModel",
            "description_width": "",
            "_view_module": "@jupyter-widgets/base",
            "_model_module_version": "1.5.0",
            "_view_count": null,
            "_view_module_version": "1.2.0",
            "_model_module": "@jupyter-widgets/controls"
          }
        },
        "363de7d73d0842caa085f64cac8c497d": {
          "model_module": "@jupyter-widgets/base",
          "model_name": "LayoutModel",
          "model_module_version": "1.2.0",
          "state": {
            "_view_name": "LayoutView",
            "grid_template_rows": null,
            "right": null,
            "justify_content": null,
            "_view_module": "@jupyter-widgets/base",
            "overflow": null,
            "_model_module_version": "1.2.0",
            "_view_count": null,
            "flex_flow": null,
            "width": null,
            "min_width": null,
            "border": null,
            "align_items": null,
            "bottom": null,
            "_model_module": "@jupyter-widgets/base",
            "top": null,
            "grid_column": null,
            "overflow_y": null,
            "overflow_x": null,
            "grid_auto_flow": null,
            "grid_area": null,
            "grid_template_columns": null,
            "flex": null,
            "_model_name": "LayoutModel",
            "justify_items": null,
            "grid_row": null,
            "max_height": null,
            "align_content": null,
            "visibility": null,
            "align_self": null,
            "height": null,
            "min_height": null,
            "padding": null,
            "grid_auto_rows": null,
            "grid_gap": null,
            "max_width": null,
            "order": null,
            "_view_module_version": "1.2.0",
            "grid_template_areas": null,
            "object_position": null,
            "object_fit": null,
            "grid_auto_columns": null,
            "margin": null,
            "display": null,
            "left": null
          }
        },
        "798ccff58f7d4d8f9192e13002bb0ed4": {
          "model_module": "@jupyter-widgets/controls",
          "model_name": "HBoxModel",
          "model_module_version": "1.5.0",
          "state": {
            "_view_name": "HBoxView",
            "_dom_classes": [],
            "_model_name": "HBoxModel",
            "_view_module": "@jupyter-widgets/controls",
            "_model_module_version": "1.5.0",
            "_view_count": null,
            "_view_module_version": "1.5.0",
            "box_style": "",
            "layout": "IPY_MODEL_8d06a29b4bae46e7b92617f6243c91eb",
            "_model_module": "@jupyter-widgets/controls",
            "children": [
              "IPY_MODEL_8fb556bc87fa41dc9fbed595e755bc6b",
              "IPY_MODEL_995a9ddec8c845019e6398d70e50c215"
            ]
          }
        },
        "8d06a29b4bae46e7b92617f6243c91eb": {
          "model_module": "@jupyter-widgets/base",
          "model_name": "LayoutModel",
          "model_module_version": "1.2.0",
          "state": {
            "_view_name": "LayoutView",
            "grid_template_rows": null,
            "right": null,
            "justify_content": null,
            "_view_module": "@jupyter-widgets/base",
            "overflow": null,
            "_model_module_version": "1.2.0",
            "_view_count": null,
            "flex_flow": null,
            "width": null,
            "min_width": null,
            "border": null,
            "align_items": null,
            "bottom": null,
            "_model_module": "@jupyter-widgets/base",
            "top": null,
            "grid_column": null,
            "overflow_y": null,
            "overflow_x": null,
            "grid_auto_flow": null,
            "grid_area": null,
            "grid_template_columns": null,
            "flex": null,
            "_model_name": "LayoutModel",
            "justify_items": null,
            "grid_row": null,
            "max_height": null,
            "align_content": null,
            "visibility": null,
            "align_self": null,
            "height": null,
            "min_height": null,
            "padding": null,
            "grid_auto_rows": null,
            "grid_gap": null,
            "max_width": null,
            "order": null,
            "_view_module_version": "1.2.0",
            "grid_template_areas": null,
            "object_position": null,
            "object_fit": null,
            "grid_auto_columns": null,
            "margin": null,
            "display": null,
            "left": null
          }
        },
        "8fb556bc87fa41dc9fbed595e755bc6b": {
          "model_module": "@jupyter-widgets/controls",
          "model_name": "FloatProgressModel",
          "model_module_version": "1.5.0",
          "state": {
            "_view_name": "ProgressView",
            "style": "IPY_MODEL_e8716b7f438746a59fbe485a3a373aec",
            "_dom_classes": [],
            "description": "",
            "_model_name": "FloatProgressModel",
            "bar_style": "success",
            "max": 4542,
            "_view_module": "@jupyter-widgets/controls",
            "_model_module_version": "1.5.0",
            "value": 4542,
            "_view_count": null,
            "_view_module_version": "1.5.0",
            "orientation": "horizontal",
            "min": 0,
            "description_tooltip": null,
            "_model_module": "@jupyter-widgets/controls",
            "layout": "IPY_MODEL_8c0a10aa8da24d5b87b7e602e313b3b5"
          }
        },
        "995a9ddec8c845019e6398d70e50c215": {
          "model_module": "@jupyter-widgets/controls",
          "model_name": "HTMLModel",
          "model_module_version": "1.5.0",
          "state": {
            "_view_name": "HTMLView",
            "style": "IPY_MODEL_1086932ec0414f7caedf15a7f3175b4a",
            "_dom_classes": [],
            "description": "",
            "_model_name": "HTMLModel",
            "placeholder": "​",
            "_view_module": "@jupyter-widgets/controls",
            "_model_module_version": "1.5.0",
            "value": " 5120/? [00:00&lt;00:00, 34364.85it/s]",
            "_view_count": null,
            "_view_module_version": "1.5.0",
            "description_tooltip": null,
            "_model_module": "@jupyter-widgets/controls",
            "layout": "IPY_MODEL_f97998ea36f04f66935a8946be65e690"
          }
        },
        "e8716b7f438746a59fbe485a3a373aec": {
          "model_module": "@jupyter-widgets/controls",
          "model_name": "ProgressStyleModel",
          "model_module_version": "1.5.0",
          "state": {
            "_view_name": "StyleView",
            "_model_name": "ProgressStyleModel",
            "description_width": "initial",
            "_view_module": "@jupyter-widgets/base",
            "_model_module_version": "1.5.0",
            "_view_count": null,
            "_view_module_version": "1.2.0",
            "bar_color": null,
            "_model_module": "@jupyter-widgets/controls"
          }
        },
        "8c0a10aa8da24d5b87b7e602e313b3b5": {
          "model_module": "@jupyter-widgets/base",
          "model_name": "LayoutModel",
          "model_module_version": "1.2.0",
          "state": {
            "_view_name": "LayoutView",
            "grid_template_rows": null,
            "right": null,
            "justify_content": null,
            "_view_module": "@jupyter-widgets/base",
            "overflow": null,
            "_model_module_version": "1.2.0",
            "_view_count": null,
            "flex_flow": null,
            "width": null,
            "min_width": null,
            "border": null,
            "align_items": null,
            "bottom": null,
            "_model_module": "@jupyter-widgets/base",
            "top": null,
            "grid_column": null,
            "overflow_y": null,
            "overflow_x": null,
            "grid_auto_flow": null,
            "grid_area": null,
            "grid_template_columns": null,
            "flex": null,
            "_model_name": "LayoutModel",
            "justify_items": null,
            "grid_row": null,
            "max_height": null,
            "align_content": null,
            "visibility": null,
            "align_self": null,
            "height": null,
            "min_height": null,
            "padding": null,
            "grid_auto_rows": null,
            "grid_gap": null,
            "max_width": null,
            "order": null,
            "_view_module_version": "1.2.0",
            "grid_template_areas": null,
            "object_position": null,
            "object_fit": null,
            "grid_auto_columns": null,
            "margin": null,
            "display": null,
            "left": null
          }
        },
        "1086932ec0414f7caedf15a7f3175b4a": {
          "model_module": "@jupyter-widgets/controls",
          "model_name": "DescriptionStyleModel",
          "model_module_version": "1.5.0",
          "state": {
            "_view_name": "StyleView",
            "_model_name": "DescriptionStyleModel",
            "description_width": "",
            "_view_module": "@jupyter-widgets/base",
            "_model_module_version": "1.5.0",
            "_view_count": null,
            "_view_module_version": "1.2.0",
            "_model_module": "@jupyter-widgets/controls"
          }
        },
        "f97998ea36f04f66935a8946be65e690": {
          "model_module": "@jupyter-widgets/base",
          "model_name": "LayoutModel",
          "model_module_version": "1.2.0",
          "state": {
            "_view_name": "LayoutView",
            "grid_template_rows": null,
            "right": null,
            "justify_content": null,
            "_view_module": "@jupyter-widgets/base",
            "overflow": null,
            "_model_module_version": "1.2.0",
            "_view_count": null,
            "flex_flow": null,
            "width": null,
            "min_width": null,
            "border": null,
            "align_items": null,
            "bottom": null,
            "_model_module": "@jupyter-widgets/base",
            "top": null,
            "grid_column": null,
            "overflow_y": null,
            "overflow_x": null,
            "grid_auto_flow": null,
            "grid_area": null,
            "grid_template_columns": null,
            "flex": null,
            "_model_name": "LayoutModel",
            "justify_items": null,
            "grid_row": null,
            "max_height": null,
            "align_content": null,
            "visibility": null,
            "align_self": null,
            "height": null,
            "min_height": null,
            "padding": null,
            "grid_auto_rows": null,
            "grid_gap": null,
            "max_width": null,
            "order": null,
            "_view_module_version": "1.2.0",
            "grid_template_areas": null,
            "object_position": null,
            "object_fit": null,
            "grid_auto_columns": null,
            "margin": null,
            "display": null,
            "left": null
          }
        }
      }
    }
  },
  "cells": [
    {
      "cell_type": "code",
      "metadata": {
        "id": "w_X--pBaZ3sk"
      },
      "source": [
        "import torch.nn as nn\n",
        "import torch.nn.functional as F\n",
        "\n",
        "import pandas as pd\n",
        "import numpy as np\n",
        "import matplotlib.pyplot as plt\n",
        "\n",
        "import torch\n",
        "import torchvision\n",
        "import torchvision.transforms as transforms\n",
        "from torch.utils.data import Dataset, DataLoader\n",
        "from torchvision import transforms, utils\n",
        "\n",
        "from matplotlib import pyplot as plt\n",
        "from numpy import linalg as LA\n",
        "import copy\n",
        "import torch.optim as optim\n",
        "\n",
        "# Ignore warnings\n",
        "import warnings\n",
        "warnings.filterwarnings(\"ignore\")"
      ],
      "execution_count": 1,
      "outputs": []
    },
    {
      "cell_type": "code",
      "metadata": {
        "id": "giKZEoj0a1KY",
        "colab": {
          "base_uri": "https://localhost:8080/",
          "height": 519,
          "referenced_widgets": [
            "db70d475bbf646219e3bfecae346ea47",
            "1f48635feb3643a4b056199045a8d137",
            "b68407b11239445393d10e6e77aa2566",
            "3580e609be294424955f3b9b3101cbc0",
            "b16d80b0945d4029ba91e60efa3da6a2",
            "ab3145656fe24ccd8ae7ef4b0aba839d",
            "8317f3fee0b04f89b027d153db8dcf22",
            "c0007729ebed49afb1dac65fd88916b5",
            "35b00be205994418ac5a8f8377fc93a1",
            "103410d1055d42b1a9805d53d6801f19",
            "6d472ba346c2421c96f45adb50d62f37",
            "8adac2a7648946b8b6b53cb5d21ed1c2",
            "c0a8708a79a249e590799d70747be715",
            "8b6e122a2cd343a98055b4c0762e345b",
            "0ba9f37f8e8146f295baca5569ebf3ce",
            "992133747be24a1587e49dd87536ddc8",
            "a35ac633cc9d450290eca20bbbe17b45",
            "f021ba6014c04ae58540d6cb91061731",
            "bbd576811a514b6fa3915b20a3a15180",
            "258ce28ad44d4291a5b20d91c3fed92b",
            "b8345cb07b72428f89303084d94e90da",
            "d737cd06c86843f8ba4c0fa89682cc51",
            "0d49888efbf945c3afb61499ee390283",
            "363de7d73d0842caa085f64cac8c497d",
            "798ccff58f7d4d8f9192e13002bb0ed4",
            "8d06a29b4bae46e7b92617f6243c91eb",
            "8fb556bc87fa41dc9fbed595e755bc6b",
            "995a9ddec8c845019e6398d70e50c215",
            "e8716b7f438746a59fbe485a3a373aec",
            "8c0a10aa8da24d5b87b7e602e313b3b5",
            "1086932ec0414f7caedf15a7f3175b4a",
            "f97998ea36f04f66935a8946be65e690"
          ]
        },
        "outputId": "aa37fa3a-00e8-4fc3-9619-3766372fedc7"
      },
      "source": [
        "transform = transforms.Compose(\n",
        "    [transforms.ToTensor(),\n",
        "     transforms.Normalize((0.5), (0.5))])\n",
        "\n",
        "trainset = torchvision.datasets.MNIST(root='./data', train=True, download=True, transform=transform)\n",
        "\n",
        "\n",
        "testset = torchvision.datasets.MNIST(root='./data', train=False, download=True, transform=transform)"
      ],
      "execution_count": 2,
      "outputs": [
        {
          "output_type": "stream",
          "text": [
            "Downloading http://yann.lecun.com/exdb/mnist/train-images-idx3-ubyte.gz\n",
            "Downloading http://yann.lecun.com/exdb/mnist/train-images-idx3-ubyte.gz to ./data/MNIST/raw/train-images-idx3-ubyte.gz\n"
          ],
          "name": "stdout"
        },
        {
          "output_type": "display_data",
          "data": {
            "application/vnd.jupyter.widget-view+json": {
              "model_id": "db70d475bbf646219e3bfecae346ea47",
              "version_minor": 0,
              "version_major": 2
            },
            "text/plain": [
              "HBox(children=(FloatProgress(value=0.0, max=9912422.0), HTML(value='')))"
            ]
          },
          "metadata": {
            "tags": []
          }
        },
        {
          "output_type": "stream",
          "text": [
            "\n",
            "Extracting ./data/MNIST/raw/train-images-idx3-ubyte.gz to ./data/MNIST/raw\n",
            "\n",
            "Downloading http://yann.lecun.com/exdb/mnist/train-labels-idx1-ubyte.gz\n",
            "Downloading http://yann.lecun.com/exdb/mnist/train-labels-idx1-ubyte.gz to ./data/MNIST/raw/train-labels-idx1-ubyte.gz\n"
          ],
          "name": "stdout"
        },
        {
          "output_type": "display_data",
          "data": {
            "application/vnd.jupyter.widget-view+json": {
              "model_id": "35b00be205994418ac5a8f8377fc93a1",
              "version_minor": 0,
              "version_major": 2
            },
            "text/plain": [
              "HBox(children=(FloatProgress(value=0.0, max=28881.0), HTML(value='')))"
            ]
          },
          "metadata": {
            "tags": []
          }
        },
        {
          "output_type": "stream",
          "text": [
            "\n",
            "Extracting ./data/MNIST/raw/train-labels-idx1-ubyte.gz to ./data/MNIST/raw\n",
            "\n",
            "Downloading http://yann.lecun.com/exdb/mnist/t10k-images-idx3-ubyte.gz\n",
            "Downloading http://yann.lecun.com/exdb/mnist/t10k-images-idx3-ubyte.gz to ./data/MNIST/raw/t10k-images-idx3-ubyte.gz\n"
          ],
          "name": "stdout"
        },
        {
          "output_type": "display_data",
          "data": {
            "application/vnd.jupyter.widget-view+json": {
              "model_id": "a35ac633cc9d450290eca20bbbe17b45",
              "version_minor": 0,
              "version_major": 2
            },
            "text/plain": [
              "HBox(children=(FloatProgress(value=0.0, max=1648877.0), HTML(value='')))"
            ]
          },
          "metadata": {
            "tags": []
          }
        },
        {
          "output_type": "stream",
          "text": [
            "\n",
            "Extracting ./data/MNIST/raw/t10k-images-idx3-ubyte.gz to ./data/MNIST/raw\n",
            "\n",
            "Downloading http://yann.lecun.com/exdb/mnist/t10k-labels-idx1-ubyte.gz\n",
            "Downloading http://yann.lecun.com/exdb/mnist/t10k-labels-idx1-ubyte.gz to ./data/MNIST/raw/t10k-labels-idx1-ubyte.gz\n"
          ],
          "name": "stdout"
        },
        {
          "output_type": "display_data",
          "data": {
            "application/vnd.jupyter.widget-view+json": {
              "model_id": "798ccff58f7d4d8f9192e13002bb0ed4",
              "version_minor": 0,
              "version_major": 2
            },
            "text/plain": [
              "HBox(children=(FloatProgress(value=0.0, max=4542.0), HTML(value='')))"
            ]
          },
          "metadata": {
            "tags": []
          }
        },
        {
          "output_type": "stream",
          "text": [
            "\n",
            "Extracting ./data/MNIST/raw/t10k-labels-idx1-ubyte.gz to ./data/MNIST/raw\n",
            "\n"
          ],
          "name": "stdout"
        }
      ]
    },
    {
      "cell_type": "code",
      "metadata": {
        "id": "GbqCx5Bca2Eh",
        "colab": {
          "base_uri": "https://localhost:8080/"
        },
        "outputId": "9648a180-3bf4-4146-eaef-2433477c11d2"
      },
      "source": [
        "classes = ('zero','one','two','three','four','five','six','seven','eight','nine')\n",
        "\n",
        "foreground_classes = {'zero','one'}\n",
        "fg_used = '01'\n",
        "fg1, fg2 = 0,1\n",
        "\n",
        "\n",
        "all_classes = {'zero','one','two','three','four','five','six','seven','eight','nine'}\n",
        "background_classes = all_classes - foreground_classes\n",
        "background_classes"
      ],
      "execution_count": 3,
      "outputs": [
        {
          "output_type": "execute_result",
          "data": {
            "text/plain": [
              "{'eight', 'five', 'four', 'nine', 'seven', 'six', 'three', 'two'}"
            ]
          },
          "metadata": {
            "tags": []
          },
          "execution_count": 3
        }
      ]
    },
    {
      "cell_type": "code",
      "metadata": {
        "id": "AqOQPp7nd64x"
      },
      "source": [
        "trainloader = torch.utils.data.DataLoader(trainset, batch_size=10, shuffle = False)\n",
        "testloader = torch.utils.data.DataLoader(testset, batch_size=10, shuffle = False)"
      ],
      "execution_count": 4,
      "outputs": []
    },
    {
      "cell_type": "code",
      "metadata": {
        "id": "ACeFPtf1eCEe"
      },
      "source": [
        "dataiter = iter(trainloader)\n",
        "background_data=[]\n",
        "background_label=[]\n",
        "foreground_data=[]\n",
        "foreground_label=[]\n",
        "batch_size=10\n",
        "\n",
        "for i in range(6000):\n",
        "  images, labels = dataiter.next()\n",
        "  for j in range(batch_size):\n",
        "    if(classes[labels[j]] in background_classes):\n",
        "      img = images[j].tolist()\n",
        "      background_data.append(img)\n",
        "      background_label.append(labels[j])\n",
        "    else:\n",
        "      img = images[j].tolist()\n",
        "      foreground_data.append(img)\n",
        "      foreground_label.append(labels[j])\n",
        "            \n",
        "foreground_data = torch.tensor(foreground_data)\n",
        "foreground_label = torch.tensor(foreground_label)\n",
        "background_data = torch.tensor(background_data)\n",
        "background_label = torch.tensor(background_label)"
      ],
      "execution_count": 22,
      "outputs": []
    },
    {
      "cell_type": "code",
      "metadata": {
        "id": "YHShWR-Oh8Lf"
      },
      "source": [
        "def imshow(img):\n",
        "  img = img / 2 + 0.5     # unnormalize\n",
        "  npimg = img#.numpy()\n",
        "  plt.imshow(np.reshape(npimg, (28,28)))\n",
        "  plt.show()"
      ],
      "execution_count": 23,
      "outputs": []
    },
    {
      "cell_type": "code",
      "metadata": {
        "colab": {
          "base_uri": "https://localhost:8080/"
        },
        "id": "SjRlj-MPidSx",
        "outputId": "26d729d7-efca-40ee-bba0-6d564396ef24"
      },
      "source": [
        "foreground_data.shape, foreground_label.shape, background_data.shape, background_label.shape"
      ],
      "execution_count": 24,
      "outputs": [
        {
          "output_type": "execute_result",
          "data": {
            "text/plain": [
              "(torch.Size([12665, 1, 28, 28]),\n",
              " torch.Size([12665]),\n",
              " torch.Size([47335, 1, 28, 28]),\n",
              " torch.Size([47335]))"
            ]
          },
          "metadata": {
            "tags": []
          },
          "execution_count": 24
        }
      ]
    },
    {
      "cell_type": "code",
      "metadata": {
        "colab": {
          "base_uri": "https://localhost:8080/",
          "height": 265
        },
        "id": "SaEMipIH9L5S",
        "outputId": "19c23cb9-26f7-4fb3-d2ad-41ac210ec13e"
      },
      "source": [
        "imshow(foreground_data[0])"
      ],
      "execution_count": 25,
      "outputs": [
        {
          "output_type": "display_data",
          "data": {
            "image/png": "[encoded data removed]",
            "text/plain": [
              "<Figure size 432x288 with 1 Axes>"
            ]
          },
          "metadata": {
            "tags": [],
            "needs_background": "light"
          }
        }
      ]
    },
    {
      "cell_type": "code",
      "metadata": {
        "id": "kW1PGzUL7kXA"
      },
      "source": [
        "mean_bg = torch.mean(background_data, dim=0, keepdims= True)\n",
        "std_bg, _ = torch.max(background_data, dim=0, keepdims= True)"
      ],
      "execution_count": 26,
      "outputs": []
    },
    {
      "cell_type": "code",
      "metadata": {
        "colab": {
          "base_uri": "https://localhost:8080/"
        },
        "id": "s8FwUW-l7kUm",
        "outputId": "f52915e6-0b06-485f-c5d6-7afc5c96e210"
      },
      "source": [
        "mean_bg.shape, std_bg.shape"
      ],
      "execution_count": 27,
      "outputs": [
        {
          "output_type": "execute_result",
          "data": {
            "text/plain": [
              "(torch.Size([1, 1, 28, 28]), torch.Size([1, 1, 28, 28]))"
            ]
          },
          "metadata": {
            "tags": []
          },
          "execution_count": 27
        }
      ]
    },
    {
      "cell_type": "code",
      "metadata": {
        "id": "-aM-NeCP7uo2"
      },
      "source": [
        "foreground_data = (foreground_data - mean_bg) / std_bg\n",
        "background_data = (background_data - mean_bg) / torch.abs(std_bg)"
      ],
      "execution_count": 28,
      "outputs": []
    },
    {
      "cell_type": "code",
      "metadata": {
        "colab": {
          "base_uri": "https://localhost:8080/"
        },
        "id": "qLaRFBGZ7umW",
        "outputId": "e3fa6fb6-a93d-4a2f-df62-63c4d90fe952"
      },
      "source": [
        "foreground_data.shape, foreground_label.shape, background_data.shape, background_label.shape"
      ],
      "execution_count": 29,
      "outputs": [
        {
          "output_type": "execute_result",
          "data": {
            "text/plain": [
              "(torch.Size([12665, 1, 28, 28]),\n",
              " torch.Size([12665]),\n",
              " torch.Size([47335, 1, 28, 28]),\n",
              " torch.Size([47335]))"
            ]
          },
          "metadata": {
            "tags": []
          },
          "execution_count": 29
        }
      ]
    },
    {
      "cell_type": "code",
      "metadata": {
        "colab": {
          "base_uri": "https://localhost:8080/"
        },
        "id": "HAedI_5W7uje",
        "outputId": "40c7b00f-a48a-473d-ad82-e567e24f194e"
      },
      "source": [
        "torch.sum(torch.isnan(foreground_data)), torch.sum(torch.isnan(background_data))"
      ],
      "execution_count": 30,
      "outputs": [
        {
          "output_type": "execute_result",
          "data": {
            "text/plain": [
              "(tensor(0), tensor(0))"
            ]
          },
          "metadata": {
            "tags": []
          },
          "execution_count": 30
        }
      ]
    },
    {
      "cell_type": "code",
      "metadata": {
        "colab": {
          "base_uri": "https://localhost:8080/",
          "height": 265
        },
        "id": "MnDBTsPm7kRw",
        "outputId": "2752527c-6b24-4ba7-fbf6-44a141d05907"
      },
      "source": [
        "imshow(foreground_data[0])"
      ],
      "execution_count": 31,
      "outputs": [
        {
          "output_type": "display_data",
          "data": {
            "image/png": "[encoded data removed]",
            "text/plain": [
              "<Figure size 432x288 with 1 Axes>"
            ]
          },
          "metadata": {
            "tags": [],
            "needs_background": "light"
          }
        }
      ]
    },
    {
      "cell_type": "code",
      "metadata": {
        "colab": {
          "base_uri": "https://localhost:8080/",
          "height": 265
        },
        "id": "oLp8rsaQ7-VR",
        "outputId": "59ec99f6-7099-4c54-905d-d16df4348923"
      },
      "source": [
        "imshow(background_data[0])"
      ],
      "execution_count": 32,
      "outputs": [
        {
          "output_type": "display_data",
          "data": {
            "image/png": "[encoded data removed]",
            "text/plain": [
              "<Figure size 432x288 with 1 Axes>"
            ]
          },
          "metadata": {
            "tags": [],
            "needs_background": "light"
          }
        }
      ]
    },
    {
      "cell_type": "code",
      "metadata": {
        "id": "d-UCgJT9eHT4"
      },
      "source": [
        "def create_mosaic_img(bg_idx,fg_idx,fg): \n",
        "  \"\"\"\n",
        "  bg_idx : list of indexes of background_data[] to be used as background images in mosaic\n",
        "  fg_idx : index of image to be used as foreground image from foreground data\n",
        "  fg : at what position/index foreground image has to be stored out of 0-8\n",
        "  \"\"\"\n",
        "  image_list=[]\n",
        "  j=0\n",
        "  for i in range(9):\n",
        "    if i != fg:\n",
        "      image_list.append(background_data[bg_idx[j]])\n",
        "      j+=1\n",
        "    else: \n",
        "      image_list.append(foreground_data[fg_idx])\n",
        "      label = foreground_label[fg_idx] - fg1  # minus fg1 because our fore ground classes are fg1,fg2,fg3 but we have to store it as 0,1,2\n",
        "  #image_list = np.concatenate(image_list ,axis=0)\n",
        "  image_list = torch.stack(image_list) \n",
        "  return image_list,label"
      ],
      "execution_count": 33,
      "outputs": []
    },
    {
      "cell_type": "code",
      "metadata": {
        "id": "HES-uRlLeVh8"
      },
      "source": [
        "desired_num = 20000\n",
        "mosaic_list_of_images =[]      # list of mosaic images, each mosaic image is saved as list of 9 images\n",
        "fore_idx =[]                   # list of indexes at which foreground image is present in a mosaic image i.e from 0 to 9               \n",
        "mosaic_label=[]                # label of mosaic image = foreground class present in that mosaic\n",
        "list_set_labels = [] \n",
        "for i in range(desired_num):\n",
        "  set_idx = set()\n",
        "  np.random.seed(i)\n",
        "  bg_idx = np.random.randint(0,47335,8)\n",
        "  set_idx = set(background_label[bg_idx].tolist())\n",
        "  fg_idx = np.random.randint(0,12665)\n",
        "  set_idx.add(foreground_label[fg_idx].item())\n",
        "  fg = np.random.randint(0,9)\n",
        "  fore_idx.append(fg)\n",
        "  image_list,label = create_mosaic_img(bg_idx,fg_idx,fg)\n",
        "  mosaic_list_of_images.append(image_list)\n",
        "  mosaic_label.append(label)\n",
        "  list_set_labels.append(set_idx)"
      ],
      "execution_count": 34,
      "outputs": []
    },
    {
      "cell_type": "code",
      "metadata": {
        "id": "FJeVQuFVj9Yy",
        "colab": {
          "base_uri": "https://localhost:8080/"
        },
        "outputId": "95f79674-6d2b-40cd-bd37-34a5272ddbb8"
      },
      "source": [
        "print(len(mosaic_list_of_images) , len(mosaic_label), len(mosaic_list_of_images[0:10000]))\n",
        "print(len(fore_idx))"
      ],
      "execution_count": 35,
      "outputs": [
        {
          "output_type": "stream",
          "text": [
            "20000 20000 10000\n",
            "20000\n"
          ],
          "name": "stdout"
        }
      ]
    },
    {
      "cell_type": "code",
      "metadata": {
        "colab": {
          "base_uri": "https://localhost:8080/",
          "height": 265
        },
        "id": "Me2gS4_k8Z_L",
        "outputId": "cceeab40-177a-4cea-8880-e2fa56df25a7"
      },
      "source": [
        "imshow(mosaic_list_of_images[0][2])"
      ],
      "execution_count": 36,
      "outputs": [
        {
          "output_type": "display_data",
          "data": {
            "image/png": "[encoded data removed]",
            "text/plain": [
              "<Figure size 432x288 with 1 Axes>"
            ]
          },
          "metadata": {
            "tags": [],
            "needs_background": "light"
          }
        }
      ]
    },
    {
      "cell_type": "code",
      "metadata": {
        "colab": {
          "base_uri": "https://localhost:8080/"
        },
        "id": "b6unmYWy8Luh",
        "outputId": "9b3dc49a-bd28-453a-84df-9cd0c75f2859"
      },
      "source": [
        "mosaic_list_of_images = torch.stack(mosaic_list_of_images)\n",
        "mosaic_list_of_images.shape"
      ],
      "execution_count": 37,
      "outputs": [
        {
          "output_type": "execute_result",
          "data": {
            "text/plain": [
              "torch.Size([20000, 9, 1, 28, 28])"
            ]
          },
          "metadata": {
            "tags": []
          },
          "execution_count": 37
        }
      ]
    },
    {
      "cell_type": "code",
      "metadata": {
        "id": "7qFphyDh8MYW"
      },
      "source": [
        "mean_train = torch.mean(mosaic_list_of_images[0:10000], dim=0, keepdims= True)\n",
        "# std_train, _ = torch.max(mosaic_list_of_images_train[0:10000], dim=0, keepdims= True) \n",
        "\n",
        "mosaic_list_of_images = (mosaic_list_of_images - mean_train) # / torch.abs(std_train"
      ],
      "execution_count": 38,
      "outputs": []
    },
    {
      "cell_type": "code",
      "metadata": {
        "colab": {
          "base_uri": "https://localhost:8080/",
          "height": 265
        },
        "id": "yiYPKvlY8a2q",
        "outputId": "43ae25f9-54f0-4690-905c-def20b69d008"
      },
      "source": [
        "imshow(mosaic_list_of_images[0][2])"
      ],
      "execution_count": 39,
      "outputs": [
        {
          "output_type": "display_data",
          "data": {
            "image/png": "[encoded data removed]",
            "text/plain": [
              "<Figure size 432x288 with 1 Axes>"
            ]
          },
          "metadata": {
            "tags": [],
            "needs_background": "light"
          }
        }
      ]
    },
    {
      "cell_type": "code",
      "metadata": {
        "colab": {
          "base_uri": "https://localhost:8080/"
        },
        "id": "0T9wERWz8dFm",
        "outputId": "ac0c6b22-5840-4c9e-eadf-273a4d88ef8f"
      },
      "source": [
        "torch.sum(torch.isnan(mosaic_list_of_images))"
      ],
      "execution_count": 40,
      "outputs": [
        {
          "output_type": "execute_result",
          "data": {
            "text/plain": [
              "tensor(0)"
            ]
          },
          "metadata": {
            "tags": []
          },
          "execution_count": 40
        }
      ]
    },
    {
      "cell_type": "code",
      "metadata": {
        "id": "goLIiZQsemTJ"
      },
      "source": [
        "def create_avg_image_from_mosaic_dataset(mosaic_dataset,labels,foreground_index,dataset_number):\n",
        "  \"\"\"\n",
        "  mosaic_dataset : mosaic_dataset contains 9 images 32 x 32 each as 1 data point\n",
        "  labels : mosaic_dataset labels\n",
        "  foreground_index : contains list of indexes where foreground image is present so that using this we can take weighted average\n",
        "  dataset_number : will help us to tell what ratio of foreground image to be taken. for eg: if it is \"j\" then fg_image_ratio = j/9 , bg_image_ratio = (9-j)/8*9\n",
        "  \"\"\"\n",
        "  avg_image_dataset = []\n",
        "  for i in range(len(mosaic_dataset)):\n",
        "    img = torch.zeros([ 28,28], dtype=torch.float64)\n",
        "    for j in range(9):\n",
        "      if j == foreground_index[i]:\n",
        "        img = img + mosaic_dataset[i][j]*dataset_number/9\n",
        "      else :\n",
        "        img = img + mosaic_dataset[i][j]*(9-dataset_number)/(8*9)\n",
        "    \n",
        "    avg_image_dataset.append(img)\n",
        "    \n",
        "  return avg_image_dataset , labels , foreground_index"
      ],
      "execution_count": 41,
      "outputs": []
    },
    {
      "cell_type": "code",
      "metadata": {
        "id": "Rl8FVV0Fi5UK"
      },
      "source": [
        "avg_image_dataset_1 , labels_1,  fg_index_1 = create_avg_image_from_mosaic_dataset(mosaic_list_of_images[0:10000], mosaic_label[0:10000], fore_idx[0:10000] , 0)\n",
        "avg_image_dataset_2 , labels_2,  fg_index_2 = create_avg_image_from_mosaic_dataset(mosaic_list_of_images[0:10000], mosaic_label[0:10000], fore_idx[0:10000] , 0.001)\n",
        "avg_image_dataset_3 , labels_3,  fg_index_3 = create_avg_image_from_mosaic_dataset(mosaic_list_of_images[0:10000], mosaic_label[0:10000], fore_idx[0:10000] , 0.002)\n",
        "avg_image_dataset_4 , labels_4,  fg_index_4 = create_avg_image_from_mosaic_dataset(mosaic_list_of_images[0:10000], mosaic_label[0:10000], fore_idx[0:10000] , 0.004)\n",
        "avg_image_dataset_5 , labels_5,  fg_index_5 = create_avg_image_from_mosaic_dataset(mosaic_list_of_images[0:10000], mosaic_label[0:10000], fore_idx[0:10000] , 0.008)\n",
        "avg_image_dataset_6 , labels_6,  fg_index_6 = create_avg_image_from_mosaic_dataset(mosaic_list_of_images[0:10000], mosaic_label[0:10000], fore_idx[0:10000] , 0.016)\n",
        "avg_image_dataset_7 , labels_7,  fg_index_7 = create_avg_image_from_mosaic_dataset(mosaic_list_of_images[0:10000], mosaic_label[0:10000], fore_idx[0:10000] , 0.032)\n",
        "avg_image_dataset_8 , labels_8,  fg_index_8 = create_avg_image_from_mosaic_dataset(mosaic_list_of_images[0:10000], mosaic_label[0:10000], fore_idx[0:10000] , 0.064)\n",
        "avg_image_dataset_9 , labels_9,  fg_index_9 = create_avg_image_from_mosaic_dataset(mosaic_list_of_images[0:10000], mosaic_label[0:10000], fore_idx[0:10000] , 0.128)\n",
        "avg_image_dataset_10 , labels_10,  fg_index_10 = create_avg_image_from_mosaic_dataset(mosaic_list_of_images[0:10000], mosaic_label[0:10000], fore_idx[0:10000] , 0.256)\n",
        "\n",
        "test_dataset , labels , fg_index = create_avg_image_from_mosaic_dataset(mosaic_list_of_images[10000:20000], mosaic_label[10000:20000], fore_idx[10000:20000] , 9)\n",
        "\n"
      ],
      "execution_count": 42,
      "outputs": []
    },
    {
      "cell_type": "code",
      "metadata": {
        "id": "8ZAX2z2ijLYX"
      },
      "source": [
        "class MosaicDataset(Dataset):\n",
        "  \"\"\"MosaicDataset dataset.\"\"\"\n",
        "\n",
        "  def __init__(self, mosaic_list_of_images, mosaic_label):\n",
        "    \"\"\"\n",
        "      Args:\n",
        "        csv_file (string): Path to the csv file with annotations.\n",
        "        root_dir (string): Directory with all the images.\n",
        "        transform (callable, optional): Optional transform to be applied\n",
        "            on a sample.\n",
        "    \"\"\"\n",
        "    self.mosaic = mosaic_list_of_images\n",
        "    self.label = mosaic_label\n",
        "    #self.fore_idx = fore_idx\n",
        "    \n",
        "  def __len__(self):\n",
        "    return len(self.label)\n",
        "\n",
        "  def __getitem__(self, idx):\n",
        "    return self.mosaic[idx] , self.label[idx] #, self.fore_idx[idx]\n"
      ],
      "execution_count": 43,
      "outputs": []
    },
    {
      "cell_type": "code",
      "metadata": {
        "id": "TZWIbWTcjZTC"
      },
      "source": [
        "batch = 512\n",
        "\n",
        "\n",
        "# training_data = avg_image_dataset_5    #just change this and training_label to desired dataset for training\n",
        "# training_label = labels_5\n",
        "\n",
        "traindata_1 = MosaicDataset(avg_image_dataset_1, labels_1 )\n",
        "trainloader_1 = DataLoader( traindata_1 , batch_size= batch ,shuffle=True)\n",
        "\n",
        "traindata_2 = MosaicDataset(avg_image_dataset_2, labels_2 )\n",
        "trainloader_2 = DataLoader( traindata_2 , batch_size= batch ,shuffle=True)\n",
        "\n",
        "traindata_3 = MosaicDataset(avg_image_dataset_3, labels_3 )\n",
        "trainloader_3 = DataLoader( traindata_3 , batch_size= batch ,shuffle=True)\n",
        "\n",
        "traindata_4 = MosaicDataset(avg_image_dataset_4, labels_4 )\n",
        "trainloader_4 = DataLoader( traindata_4 , batch_size= batch ,shuffle=True)\n",
        "\n",
        "traindata_5 = MosaicDataset(avg_image_dataset_5, labels_5 )\n",
        "trainloader_5 = DataLoader( traindata_5 , batch_size= batch ,shuffle=True)\n",
        "\n",
        "traindata_6 = MosaicDataset(avg_image_dataset_6, labels_6 )\n",
        "trainloader_6 = DataLoader( traindata_6 , batch_size= batch ,shuffle=True)\n",
        "\n",
        "traindata_7 = MosaicDataset(avg_image_dataset_7, labels_7 )\n",
        "trainloader_7 = DataLoader( traindata_7 , batch_size= batch ,shuffle=True)\n",
        "\n",
        "traindata_8 = MosaicDataset(avg_image_dataset_8, labels_8 )\n",
        "trainloader_8 = DataLoader( traindata_8 , batch_size= batch ,shuffle=True)\n",
        "\n",
        "traindata_9 = MosaicDataset(avg_image_dataset_9, labels_9 )\n",
        "trainloader_9 = DataLoader( traindata_9 , batch_size= batch ,shuffle=True)\n",
        "\n",
        "traindata_10 = MosaicDataset(avg_image_dataset_10, labels_10 )\n",
        "trainloader_10 = DataLoader( traindata_10 , batch_size= batch ,shuffle=True)\n",
        "\n"
      ],
      "execution_count": 44,
      "outputs": []
    },
    {
      "cell_type": "code",
      "metadata": {
        "id": "rCaLHr5Wvxfc"
      },
      "source": [
        "testdata_1 = MosaicDataset(avg_image_dataset_1, labels_1 )\n",
        "testloader_1 = DataLoader( testdata_1 , batch_size= batch ,shuffle=False)\n",
        "\n",
        "testdata_2 = MosaicDataset(avg_image_dataset_2, labels_2 )\n",
        "testloader_2 = DataLoader( testdata_2 , batch_size= batch ,shuffle=False)\n",
        "\n",
        "testdata_3 = MosaicDataset(avg_image_dataset_3, labels_3 )\n",
        "testloader_3 = DataLoader( testdata_3 , batch_size= batch ,shuffle=False)\n",
        "\n",
        "testdata_4 = MosaicDataset(avg_image_dataset_4, labels_4 )\n",
        "testloader_4 = DataLoader( testdata_4 , batch_size= batch ,shuffle=False)\n",
        "\n",
        "testdata_5 = MosaicDataset(avg_image_dataset_5, labels_5 )\n",
        "testloader_5 = DataLoader( testdata_5 , batch_size= batch ,shuffle=False)\n",
        "\n",
        "testdata_6 = MosaicDataset(avg_image_dataset_6, labels_6 )\n",
        "testloader_6 = DataLoader( testdata_6 , batch_size= batch ,shuffle=False)\n",
        "\n",
        "testdata_7 = MosaicDataset(avg_image_dataset_7, labels_7 )\n",
        "testloader_7 = DataLoader( testdata_7 , batch_size= batch ,shuffle=False)\n",
        "\n",
        "testdata_8 = MosaicDataset(avg_image_dataset_8, labels_8 )\n",
        "testloader_8 = DataLoader( testdata_8 , batch_size= batch ,shuffle=False)\n",
        "\n",
        "testdata_9 = MosaicDataset(avg_image_dataset_9, labels_9 )\n",
        "testloader_9 = DataLoader( testdata_9 , batch_size= batch ,shuffle=False)\n",
        "\n",
        "testdata_10 = MosaicDataset(avg_image_dataset_10, labels_10 )\n",
        "testloader_10 = DataLoader( testdata_10 , batch_size= batch ,shuffle=False)\n",
        "\n"
      ],
      "execution_count": 45,
      "outputs": []
    },
    {
      "cell_type": "code",
      "metadata": {
        "id": "QTmJHboqv5Ga"
      },
      "source": [
        "testdata_11 = MosaicDataset(test_dataset, labels )\n",
        "testloader_11 = DataLoader( testdata_11 , batch_size= batch ,shuffle=False)"
      ],
      "execution_count": 46,
      "outputs": []
    },
    {
      "cell_type": "code",
      "metadata": {
        "id": "Nej7sxdrmz1b"
      },
      "source": [
        "class Module2(nn.Module):\n",
        "  def __init__(self):\n",
        "    super(Module2, self).__init__()\n",
        "    # self.conv1 = nn.Conv2d(1, 6, 5)\n",
        "    # self.pool = nn.MaxPool2d(2, 2)\n",
        "    # self.conv2 = nn.Conv2d(6, 16, 5)\n",
        "\n",
        "    self.fc1 = nn.Linear(28*28, 2)\n",
        "    torch.nn.init.xavier_normal_(self.fc1.weight)\n",
        "    torch.nn.init.zeros_(self.fc1.bias)\n",
        "    # self.fc2 = nn.Linear(64, 3)\n",
        "\n",
        "    # self.fc3 = nn.Linear(64, 10)\n",
        "    # self.fc4 = nn.Linear(10,3)\n",
        "\n",
        "  def forward(self,z): \n",
        "    # y1 = self.pool(F.relu(self.conv1(z)))\n",
        "    # y1 = self.pool(F.relu(self.conv2(y1)))\n",
        "    y1 = z.view(-1, 28*28)\n",
        "\n",
        "    y1 = (self.fc1(y1))\n",
        "    # y1 = (self.fc2(y1))\n",
        "    # y1 = F.relu(self.fc3(y1))\n",
        "    # y1 = self.fc4(y1)\n",
        "    return y1 "
      ],
      "execution_count": 47,
      "outputs": []
    },
    {
      "cell_type": "code",
      "metadata": {
        "id": "5JKIMetphOYV"
      },
      "source": [
        "def calculate_loss(dataloader,model,criter):\n",
        "  model.eval()\n",
        "  r_loss = 0\n",
        "  with torch.no_grad():\n",
        "    for i, data in enumerate(dataloader, 0):\n",
        "      inputs, labels = data\n",
        "      inputs, labels = inputs.to(\"cuda\"),labels.to(\"cuda\")\n",
        "      outputs = model(inputs)\n",
        "      loss = criter(outputs, labels)\n",
        "      r_loss += loss.item()\n",
        "  return r_loss/i"
      ],
      "execution_count": 48,
      "outputs": []
    },
    {
      "cell_type": "code",
      "metadata": {
        "id": "Hiif2MO5nAis"
      },
      "source": [
        "def test_all(number, testloader,net):\n",
        "    correct = 0\n",
        "    total = 0\n",
        "    out = []\n",
        "    pred = []\n",
        "    with torch.no_grad():\n",
        "        for data in testloader:\n",
        "            images, labels = data\n",
        "            images, labels = images.to(\"cuda\"),labels.to(\"cuda\")\n",
        "            out.append(labels.cpu().numpy())\n",
        "            outputs= net(images)\n",
        "            _, predicted = torch.max(outputs.data, 1)\n",
        "            pred.append(predicted.cpu().numpy())\n",
        "            total += labels.size(0)\n",
        "            correct += (predicted == labels).sum().item()\n",
        "    \n",
        "    pred = np.concatenate(pred, axis = 0)\n",
        "    out = np.concatenate(out, axis = 0)\n",
        "    print(\"pred: \", pred, np.unique(pred))\n",
        "    print(\"out: \", out, np.unique(pred))\n",
        "    print(\"correct: \", correct,\" total: \", total, \"sum: \", sum(pred==out))\n",
        "    print('Accuracy of the network on the 10000 test dataset %d: %d %%' % (number , 100 * correct / total))"
      ],
      "execution_count": 49,
      "outputs": []
    },
    {
      "cell_type": "code",
      "metadata": {
        "id": "ut2fHl-lnDpL"
      },
      "source": [
        "def train_all(trainloader, ds_number, testloader_list):\n",
        "    \n",
        "    print(\"--\"*40)\n",
        "    print(\"training on data set  \", ds_number)\n",
        "    \n",
        "    torch.manual_seed(12)\n",
        "    net = Module2().double()\n",
        "    net = net.to(\"cuda\")\n",
        "    \n",
        "    criterion_net = nn.CrossEntropyLoss()\n",
        "    optimizer_net = optim.SGD(net.parameters(), lr=0.001, momentum=0.9)\n",
        "    \n",
        "    acti = []\n",
        "    loss_curi = []\n",
        "    epochs = 1000\n",
        "    running_loss = calculate_loss(trainloader,net,criterion_net)\n",
        "    loss_curi.append(running_loss)\n",
        "    print('epoch: [%d ] loss: %.3f' %(0,running_loss)) \n",
        "    for epoch in range(epochs): # loop over the dataset multiple times\n",
        "        ep_lossi = []\n",
        "\n",
        "        running_loss = 0.0\n",
        "        net.train()\n",
        "        for i, data in enumerate(trainloader, 0):\n",
        "            # get the inputs\n",
        "            inputs, labels = data\n",
        "            inputs, labels = inputs.to(\"cuda\"),labels.to(\"cuda\")\n",
        "\n",
        "            # zero the parameter gradients\n",
        "            optimizer_net.zero_grad()\n",
        "\n",
        "            # forward + backward + optimize\n",
        "            outputs = net(inputs)\n",
        "            loss = criterion_net(outputs, labels)\n",
        "            # print statistics\n",
        "            running_loss += loss.item()\n",
        "            loss.backward()\n",
        "            optimizer_net.step()\n",
        "\n",
        "        running_loss = calculate_loss(trainloader,net,criterion_net)\n",
        "        if(epoch%200 == 0):\n",
        "          print('epoch: [%d] loss: %.3f' %(epoch + 1,running_loss)) \n",
        "        loss_curi.append(running_loss)   #loss per epoch\n",
        "        if running_loss<=0.005:\n",
        "          print('epoch: [%d] loss: %.3f' %(epoch + 1,running_loss))\n",
        "          break\n",
        "\n",
        "    print('Finished Training')\n",
        "    \n",
        "    correct = 0\n",
        "    total = 0\n",
        "    with torch.no_grad():\n",
        "        for data in trainloader:\n",
        "            images, labels = data\n",
        "            images, labels = images.to(\"cuda\"), labels.to(\"cuda\")\n",
        "            outputs = net(images)\n",
        "            _, predicted = torch.max(outputs.data, 1)\n",
        "            total += labels.size(0)\n",
        "            correct += (predicted == labels).sum().item()\n",
        "\n",
        "    print('Accuracy of the network on the 10000 train images: %d %%' % (  100 * correct / total))\n",
        "    \n",
        "    for i, j in enumerate(testloader_list):\n",
        "        test_all(i+1, j,net)\n",
        "    \n",
        "    print(\"--\"*40)\n",
        "    \n",
        "    return loss_curi\n",
        "    "
      ],
      "execution_count": 54,
      "outputs": []
    },
    {
      "cell_type": "code",
      "metadata": {
        "colab": {
          "base_uri": "https://localhost:8080/"
        },
        "id": "5zjRI237IyAW",
        "outputId": "a53433f2-fb9b-41ef-c45b-30f032fc0cfc"
      },
      "source": [
        "torch.manual_seed(12)\n",
        "net = Module2().double()\n",
        "net = net.to(\"cuda\")\n",
        "\n",
        "test_all(11, testloader_11 ,net)"
      ],
      "execution_count": 55,
      "outputs": [
        {
          "output_type": "stream",
          "text": [
            "pred:  [1 1 1 ... 1 0 0] [0 1]\n",
            "out:  [0 0 1 ... 0 1 1] [0 1]\n",
            "correct:  2782  total:  10000 sum:  2782\n",
            "Accuracy of the network on the 10000 test dataset 11: 27 %\n"
          ],
          "name": "stdout"
        }
      ]
    },
    {
      "cell_type": "code",
      "metadata": {
        "id": "shv3ygDijMAg"
      },
      "source": [
        "train_loss_all=[]\n",
        "\n",
        "testloader_list= [ testloader_1, testloader_2, testloader_3, testloader_4, testloader_5, testloader_6,\n",
        "                 testloader_7, testloader_8, testloader_9, testloader_10, testloader_11]"
      ],
      "execution_count": 56,
      "outputs": []
    },
    {
      "cell_type": "code",
      "metadata": {
        "id": "kPIoOsmrnLyX",
        "colab": {
          "base_uri": "https://localhost:8080/"
        },
        "outputId": "2a7d95bf-5077-4be0-a066-d33544474591"
      },
      "source": [
        "train_loss_all.append(train_all(trainloader_1, 1, testloader_list))\n",
        "train_loss_all.append(train_all(trainloader_2, 2, testloader_list))\n",
        "train_loss_all.append(train_all(trainloader_3, 3, testloader_list))\n",
        "train_loss_all.append(train_all(trainloader_4, 4, testloader_list))\n",
        "train_loss_all.append(train_all(trainloader_5, 5, testloader_list))\n",
        "train_loss_all.append(train_all(trainloader_6, 6, testloader_list))\n",
        "train_loss_all.append(train_all(trainloader_7, 7, testloader_list))\n",
        "train_loss_all.append(train_all(trainloader_8, 8, testloader_list))\n",
        "train_loss_all.append(train_all(trainloader_9, 9, testloader_list)) \n",
        "train_loss_all.append(train_all(trainloader_10, 10, testloader_list))"
      ],
      "execution_count": 58,
      "outputs": [
        {
          "output_type": "stream",
          "text": [
            "--------------------------------------------------------------------------------\n",
            "training on data set   1\n",
            "epoch: [0 ] loss: 0.747\n",
            "epoch: [1] loss: 0.745\n",
            "epoch: [201] loss: 0.720\n",
            "epoch: [401] loss: 0.717\n",
            "epoch: [601] loss: 0.714\n",
            "epoch: [801] loss: 0.712\n",
            "Finished Training\n",
            "Accuracy of the network on the 10000 train images: 57 %\n",
            "pred:  [1 0 1 ... 1 1 1] [0 1]\n",
            "out:  [0 1 0 ... 1 1 1] [0 1]\n",
            "correct:  5763  total:  10000 sum:  5763\n",
            "Accuracy of the network on the 10000 test dataset 1: 57 %\n",
            "pred:  [1 0 1 ... 1 1 1] [0 1]\n",
            "out:  [0 1 0 ... 1 1 1] [0 1]\n",
            "correct:  5763  total:  10000 sum:  5763\n",
            "Accuracy of the network on the 10000 test dataset 2: 57 %\n",
            "pred:  [1 0 1 ... 1 1 1] [0 1]\n",
            "out:  [0 1 0 ... 1 1 1] [0 1]\n",
            "correct:  5762  total:  10000 sum:  5762\n",
            "Accuracy of the network on the 10000 test dataset 3: 57 %\n",
            "pred:  [1 0 1 ... 1 1 1] [0 1]\n",
            "out:  [0 1 0 ... 1 1 1] [0 1]\n",
            "correct:  5761  total:  10000 sum:  5761\n",
            "Accuracy of the network on the 10000 test dataset 4: 57 %\n",
            "pred:  [1 0 1 ... 1 1 1] [0 1]\n",
            "out:  [0 1 0 ... 1 1 1] [0 1]\n",
            "correct:  5757  total:  10000 sum:  5757\n",
            "Accuracy of the network on the 10000 test dataset 5: 57 %\n",
            "pred:  [1 0 1 ... 1 1 1] [0 1]\n",
            "out:  [0 1 0 ... 1 1 1] [0 1]\n",
            "correct:  5751  total:  10000 sum:  5751\n",
            "Accuracy of the network on the 10000 test dataset 6: 57 %\n",
            "pred:  [1 0 1 ... 1 1 1] [0 1]\n",
            "out:  [0 1 0 ... 1 1 1] [0 1]\n",
            "correct:  5741  total:  10000 sum:  5741\n",
            "Accuracy of the network on the 10000 test dataset 7: 57 %\n",
            "pred:  [1 0 1 ... 1 1 1] [0 1]\n",
            "out:  [0 1 0 ... 1 1 1] [0 1]\n",
            "correct:  5718  total:  10000 sum:  5718\n",
            "Accuracy of the network on the 10000 test dataset 8: 57 %\n",
            "pred:  [1 0 1 ... 1 1 1] [0 1]\n",
            "out:  [0 1 0 ... 1 1 1] [0 1]\n",
            "correct:  5684  total:  10000 sum:  5684\n",
            "Accuracy of the network on the 10000 test dataset 9: 56 %\n",
            "pred:  [1 0 1 ... 1 1 1] [0 1]\n",
            "out:  [0 1 0 ... 1 1 1] [0 1]\n",
            "correct:  5627  total:  10000 sum:  5627\n",
            "Accuracy of the network on the 10000 test dataset 10: 56 %\n",
            "pred:  [0 1 0 ... 1 1 1] [0 1]\n",
            "out:  [0 0 1 ... 0 1 1] [0 1]\n",
            "correct:  3471  total:  10000 sum:  3471\n",
            "Accuracy of the network on the 10000 test dataset 11: 34 %\n",
            "--------------------------------------------------------------------------------\n",
            "--------------------------------------------------------------------------------\n",
            "training on data set   2\n",
            "epoch: [0 ] loss: 0.747\n",
            "epoch: [1] loss: 0.745\n",
            "epoch: [201] loss: 0.720\n",
            "epoch: [401] loss: 0.717\n",
            "epoch: [601] loss: 0.714\n",
            "epoch: [801] loss: 0.712\n",
            "Finished Training\n",
            "Accuracy of the network on the 10000 train images: 57 %\n",
            "pred:  [1 0 1 ... 1 1 1] [0 1]\n",
            "out:  [0 1 0 ... 1 1 1] [0 1]\n",
            "correct:  5765  total:  10000 sum:  5765\n",
            "Accuracy of the network on the 10000 test dataset 1: 57 %\n",
            "pred:  [1 0 1 ... 1 1 1] [0 1]\n",
            "out:  [0 1 0 ... 1 1 1] [0 1]\n",
            "correct:  5766  total:  10000 sum:  5766\n",
            "Accuracy of the network on the 10000 test dataset 2: 57 %\n",
            "pred:  [1 0 1 ... 1 1 1] [0 1]\n",
            "out:  [0 1 0 ... 1 1 1] [0 1]\n",
            "correct:  5765  total:  10000 sum:  5765\n",
            "Accuracy of the network on the 10000 test dataset 3: 57 %\n",
            "pred:  [1 0 1 ... 1 1 1] [0 1]\n",
            "out:  [0 1 0 ... 1 1 1] [0 1]\n",
            "correct:  5764  total:  10000 sum:  5764\n",
            "Accuracy of the network on the 10000 test dataset 4: 57 %\n",
            "pred:  [1 0 1 ... 1 1 1] [0 1]\n",
            "out:  [0 1 0 ... 1 1 1] [0 1]\n",
            "correct:  5762  total:  10000 sum:  5762\n",
            "Accuracy of the network on the 10000 test dataset 5: 57 %\n",
            "pred:  [1 0 1 ... 1 1 1] [0 1]\n",
            "out:  [0 1 0 ... 1 1 1] [0 1]\n",
            "correct:  5758  total:  10000 sum:  5758\n",
            "Accuracy of the network on the 10000 test dataset 6: 57 %\n",
            "pred:  [1 0 1 ... 1 1 1] [0 1]\n",
            "out:  [0 1 0 ... 1 1 1] [0 1]\n",
            "correct:  5750  total:  10000 sum:  5750\n",
            "Accuracy of the network on the 10000 test dataset 7: 57 %\n",
            "pred:  [1 0 1 ... 1 1 1] [0 1]\n",
            "out:  [0 1 0 ... 1 1 1] [0 1]\n",
            "correct:  5723  total:  10000 sum:  5723\n",
            "Accuracy of the network on the 10000 test dataset 8: 57 %\n",
            "pred:  [1 0 1 ... 1 1 1] [0 1]\n",
            "out:  [0 1 0 ... 1 1 1] [0 1]\n",
            "correct:  5696  total:  10000 sum:  5696\n",
            "Accuracy of the network on the 10000 test dataset 9: 56 %\n",
            "pred:  [1 0 1 ... 1 1 1] [0 1]\n",
            "out:  [0 1 0 ... 1 1 1] [0 1]\n",
            "correct:  5645  total:  10000 sum:  5645\n",
            "Accuracy of the network on the 10000 test dataset 10: 56 %\n",
            "pred:  [0 1 0 ... 1 1 1] [0 1]\n",
            "out:  [0 0 1 ... 0 1 1] [0 1]\n",
            "correct:  3599  total:  10000 sum:  3599\n",
            "Accuracy of the network on the 10000 test dataset 11: 35 %\n",
            "--------------------------------------------------------------------------------\n",
            "--------------------------------------------------------------------------------\n",
            "training on data set   3\n",
            "epoch: [0 ] loss: 0.747\n",
            "epoch: [1] loss: 0.745\n",
            "epoch: [201] loss: 0.720\n",
            "epoch: [401] loss: 0.717\n",
            "epoch: [601] loss: 0.714\n",
            "epoch: [801] loss: 0.712\n",
            "Finished Training\n",
            "Accuracy of the network on the 10000 train images: 57 %\n",
            "pred:  [1 0 1 ... 1 1 1] [0 1]\n",
            "out:  [0 1 0 ... 1 1 1] [0 1]\n",
            "correct:  5761  total:  10000 sum:  5761\n",
            "Accuracy of the network on the 10000 test dataset 1: 57 %\n",
            "pred:  [1 0 1 ... 1 1 1] [0 1]\n",
            "out:  [0 1 0 ... 1 1 1] [0 1]\n",
            "correct:  5760  total:  10000 sum:  5760\n",
            "Accuracy of the network on the 10000 test dataset 2: 57 %\n",
            "pred:  [1 0 1 ... 1 1 1] [0 1]\n",
            "out:  [0 1 0 ... 1 1 1] [0 1]\n",
            "correct:  5760  total:  10000 sum:  5760\n",
            "Accuracy of the network on the 10000 test dataset 3: 57 %\n",
            "pred:  [1 0 1 ... 1 1 1] [0 1]\n",
            "out:  [0 1 0 ... 1 1 1] [0 1]\n",
            "correct:  5760  total:  10000 sum:  5760\n",
            "Accuracy of the network on the 10000 test dataset 4: 57 %\n",
            "pred:  [1 0 1 ... 1 1 1] [0 1]\n",
            "out:  [0 1 0 ... 1 1 1] [0 1]\n",
            "correct:  5756  total:  10000 sum:  5756\n",
            "Accuracy of the network on the 10000 test dataset 5: 57 %\n",
            "pred:  [1 0 1 ... 1 1 1] [0 1]\n",
            "out:  [0 1 0 ... 1 1 1] [0 1]\n",
            "correct:  5754  total:  10000 sum:  5754\n",
            "Accuracy of the network on the 10000 test dataset 6: 57 %\n",
            "pred:  [1 0 1 ... 1 1 1] [0 1]\n",
            "out:  [0 1 0 ... 1 1 1] [0 1]\n",
            "correct:  5740  total:  10000 sum:  5740\n",
            "Accuracy of the network on the 10000 test dataset 7: 57 %\n",
            "pred:  [1 0 1 ... 1 1 1] [0 1]\n",
            "out:  [0 1 0 ... 1 1 1] [0 1]\n",
            "correct:  5731  total:  10000 sum:  5731\n",
            "Accuracy of the network on the 10000 test dataset 8: 57 %\n",
            "pred:  [1 0 1 ... 1 1 1] [0 1]\n",
            "out:  [0 1 0 ... 1 1 1] [0 1]\n",
            "correct:  5707  total:  10000 sum:  5707\n",
            "Accuracy of the network on the 10000 test dataset 9: 57 %\n",
            "pred:  [1 0 1 ... 1 1 1] [0 1]\n",
            "out:  [0 1 0 ... 1 1 1] [0 1]\n",
            "correct:  5657  total:  10000 sum:  5657\n",
            "Accuracy of the network on the 10000 test dataset 10: 56 %\n",
            "pred:  [0 1 0 ... 1 1 1] [0 1]\n",
            "out:  [0 0 1 ... 0 1 1] [0 1]\n",
            "correct:  3747  total:  10000 sum:  3747\n",
            "Accuracy of the network on the 10000 test dataset 11: 37 %\n",
            "--------------------------------------------------------------------------------\n",
            "--------------------------------------------------------------------------------\n",
            "training on data set   4\n",
            "epoch: [0 ] loss: 0.747\n",
            "epoch: [1] loss: 0.745\n",
            "epoch: [201] loss: 0.720\n",
            "epoch: [401] loss: 0.717\n",
            "epoch: [601] loss: 0.714\n",
            "epoch: [801] loss: 0.713\n",
            "Finished Training\n",
            "Accuracy of the network on the 10000 train images: 57 %\n",
            "pred:  [1 0 1 ... 1 1 1] [0 1]\n",
            "out:  [0 1 0 ... 1 1 1] [0 1]\n",
            "correct:  5750  total:  10000 sum:  5750\n",
            "Accuracy of the network on the 10000 test dataset 1: 57 %\n",
            "pred:  [1 0 1 ... 1 1 1] [0 1]\n",
            "out:  [0 1 0 ... 1 1 1] [0 1]\n",
            "correct:  5751  total:  10000 sum:  5751\n",
            "Accuracy of the network on the 10000 test dataset 2: 57 %\n",
            "pred:  [1 0 1 ... 1 1 1] [0 1]\n",
            "out:  [0 1 0 ... 1 1 1] [0 1]\n",
            "correct:  5749  total:  10000 sum:  5749\n",
            "Accuracy of the network on the 10000 test dataset 3: 57 %\n",
            "pred:  [1 0 1 ... 1 1 1] [0 1]\n",
            "out:  [0 1 0 ... 1 1 1] [0 1]\n",
            "correct:  5749  total:  10000 sum:  5749\n",
            "Accuracy of the network on the 10000 test dataset 4: 57 %\n",
            "pred:  [1 0 1 ... 1 1 1] [0 1]\n",
            "out:  [0 1 0 ... 1 1 1] [0 1]\n",
            "correct:  5746  total:  10000 sum:  5746\n",
            "Accuracy of the network on the 10000 test dataset 5: 57 %\n",
            "pred:  [1 0 1 ... 1 1 1] [0 1]\n",
            "out:  [0 1 0 ... 1 1 1] [0 1]\n",
            "correct:  5741  total:  10000 sum:  5741\n",
            "Accuracy of the network on the 10000 test dataset 6: 57 %\n",
            "pred:  [1 0 1 ... 1 1 1] [0 1]\n",
            "out:  [0 1 0 ... 1 1 1] [0 1]\n",
            "correct:  5738  total:  10000 sum:  5738\n",
            "Accuracy of the network on the 10000 test dataset 7: 57 %\n",
            "pred:  [1 0 1 ... 1 1 1] [0 1]\n",
            "out:  [0 1 0 ... 1 1 1] [0 1]\n",
            "correct:  5734  total:  10000 sum:  5734\n",
            "Accuracy of the network on the 10000 test dataset 8: 57 %\n",
            "pred:  [1 0 1 ... 1 1 1] [0 1]\n",
            "out:  [0 1 0 ... 1 1 1] [0 1]\n",
            "correct:  5716  total:  10000 sum:  5716\n",
            "Accuracy of the network on the 10000 test dataset 9: 57 %\n",
            "pred:  [1 0 1 ... 1 1 1] [0 1]\n",
            "out:  [0 1 0 ... 1 1 1] [0 1]\n",
            "correct:  5686  total:  10000 sum:  5686\n",
            "Accuracy of the network on the 10000 test dataset 10: 56 %\n",
            "pred:  [0 1 0 ... 1 1 1] [0 1]\n",
            "out:  [0 0 1 ... 0 1 1] [0 1]\n",
            "correct:  4062  total:  10000 sum:  4062\n",
            "Accuracy of the network on the 10000 test dataset 11: 40 %\n",
            "--------------------------------------------------------------------------------\n",
            "--------------------------------------------------------------------------------\n",
            "training on data set   5\n",
            "epoch: [0 ] loss: 0.747\n",
            "epoch: [1] loss: 0.745\n",
            "epoch: [201] loss: 0.720\n",
            "epoch: [401] loss: 0.717\n",
            "epoch: [601] loss: 0.714\n",
            "epoch: [801] loss: 0.713\n",
            "Finished Training\n",
            "Accuracy of the network on the 10000 train images: 57 %\n",
            "pred:  [1 0 1 ... 1 1 1] [0 1]\n",
            "out:  [0 1 0 ... 1 1 1] [0 1]\n",
            "correct:  5751  total:  10000 sum:  5751\n",
            "Accuracy of the network on the 10000 test dataset 1: 57 %\n",
            "pred:  [1 0 1 ... 1 1 1] [0 1]\n",
            "out:  [0 1 0 ... 1 1 1] [0 1]\n",
            "correct:  5751  total:  10000 sum:  5751\n",
            "Accuracy of the network on the 10000 test dataset 2: 57 %\n",
            "pred:  [1 0 1 ... 1 1 1] [0 1]\n",
            "out:  [0 1 0 ... 1 1 1] [0 1]\n",
            "correct:  5751  total:  10000 sum:  5751\n",
            "Accuracy of the network on the 10000 test dataset 3: 57 %\n",
            "pred:  [1 0 1 ... 1 1 1] [0 1]\n",
            "out:  [0 1 0 ... 1 1 1] [0 1]\n",
            "correct:  5753  total:  10000 sum:  5753\n",
            "Accuracy of the network on the 10000 test dataset 4: 57 %\n",
            "pred:  [1 0 1 ... 1 1 1] [0 1]\n",
            "out:  [0 1 0 ... 1 1 1] [0 1]\n",
            "correct:  5752  total:  10000 sum:  5752\n",
            "Accuracy of the network on the 10000 test dataset 5: 57 %\n",
            "pred:  [1 0 1 ... 1 1 1] [0 1]\n",
            "out:  [0 1 0 ... 1 1 1] [0 1]\n",
            "correct:  5749  total:  10000 sum:  5749\n",
            "Accuracy of the network on the 10000 test dataset 6: 57 %\n",
            "pred:  [1 0 1 ... 1 1 1] [0 1]\n",
            "out:  [0 1 0 ... 1 1 1] [0 1]\n",
            "correct:  5753  total:  10000 sum:  5753\n",
            "Accuracy of the network on the 10000 test dataset 7: 57 %\n",
            "pred:  [1 0 1 ... 1 1 1] [0 1]\n",
            "out:  [0 1 0 ... 1 1 1] [0 1]\n",
            "correct:  5750  total:  10000 sum:  5750\n",
            "Accuracy of the network on the 10000 test dataset 8: 57 %\n",
            "pred:  [1 0 1 ... 1 1 1] [0 1]\n",
            "out:  [0 1 0 ... 1 1 1] [0 1]\n",
            "correct:  5743  total:  10000 sum:  5743\n",
            "Accuracy of the network on the 10000 test dataset 9: 57 %\n",
            "pred:  [1 0 1 ... 1 1 1] [0 1]\n",
            "out:  [0 1 0 ... 1 1 1] [0 1]\n",
            "correct:  5737  total:  10000 sum:  5737\n",
            "Accuracy of the network on the 10000 test dataset 10: 57 %\n",
            "pred:  [0 1 1 ... 1 1 1] [0 1]\n",
            "out:  [0 0 1 ... 0 1 1] [0 1]\n",
            "correct:  4611  total:  10000 sum:  4611\n",
            "Accuracy of the network on the 10000 test dataset 11: 46 %\n",
            "--------------------------------------------------------------------------------\n",
            "--------------------------------------------------------------------------------\n",
            "training on data set   6\n",
            "epoch: [0 ] loss: 0.747\n",
            "epoch: [1] loss: 0.745\n",
            "epoch: [201] loss: 0.720\n",
            "epoch: [401] loss: 0.717\n",
            "epoch: [601] loss: 0.714\n",
            "epoch: [801] loss: 0.713\n",
            "Finished Training\n",
            "Accuracy of the network on the 10000 train images: 57 %\n",
            "pred:  [1 0 1 ... 1 1 1] [0 1]\n",
            "out:  [0 1 0 ... 1 1 1] [0 1]\n",
            "correct:  5763  total:  10000 sum:  5763\n",
            "Accuracy of the network on the 10000 test dataset 1: 57 %\n",
            "pred:  [1 0 1 ... 1 1 1] [0 1]\n",
            "out:  [0 1 0 ... 1 1 1] [0 1]\n",
            "correct:  5763  total:  10000 sum:  5763\n",
            "Accuracy of the network on the 10000 test dataset 2: 57 %\n",
            "pred:  [1 0 1 ... 1 1 1] [0 1]\n",
            "out:  [0 1 0 ... 1 1 1] [0 1]\n",
            "correct:  5762  total:  10000 sum:  5762\n",
            "Accuracy of the network on the 10000 test dataset 3: 57 %\n",
            "pred:  [1 0 1 ... 1 1 1] [0 1]\n",
            "out:  [0 1 0 ... 1 1 1] [0 1]\n",
            "correct:  5762  total:  10000 sum:  5762\n",
            "Accuracy of the network on the 10000 test dataset 4: 57 %\n",
            "pred:  [1 0 1 ... 1 1 1] [0 1]\n",
            "out:  [0 1 0 ... 1 1 1] [0 1]\n",
            "correct:  5762  total:  10000 sum:  5762\n",
            "Accuracy of the network on the 10000 test dataset 5: 57 %\n",
            "pred:  [1 0 1 ... 1 1 1] [0 1]\n",
            "out:  [0 1 0 ... 1 1 1] [0 1]\n",
            "correct:  5765  total:  10000 sum:  5765\n",
            "Accuracy of the network on the 10000 test dataset 6: 57 %\n",
            "pred:  [1 0 1 ... 1 1 1] [0 1]\n",
            "out:  [0 1 0 ... 1 1 1] [0 1]\n",
            "correct:  5769  total:  10000 sum:  5769\n",
            "Accuracy of the network on the 10000 test dataset 7: 57 %\n",
            "pred:  [1 0 1 ... 1 1 1] [0 1]\n",
            "out:  [0 1 0 ... 1 1 1] [0 1]\n",
            "correct:  5771  total:  10000 sum:  5771\n",
            "Accuracy of the network on the 10000 test dataset 8: 57 %\n",
            "pred:  [1 0 1 ... 1 1 1] [0 1]\n",
            "out:  [0 1 0 ... 1 1 1] [0 1]\n",
            "correct:  5785  total:  10000 sum:  5785\n",
            "Accuracy of the network on the 10000 test dataset 9: 57 %\n",
            "pred:  [1 0 1 ... 1 1 1] [0 1]\n",
            "out:  [0 1 0 ... 1 1 1] [0 1]\n",
            "correct:  5830  total:  10000 sum:  5830\n",
            "Accuracy of the network on the 10000 test dataset 10: 58 %\n",
            "pred:  [0 1 1 ... 1 1 1] [0 1]\n",
            "out:  [0 0 1 ... 0 1 1] [0 1]\n",
            "correct:  5832  total:  10000 sum:  5832\n",
            "Accuracy of the network on the 10000 test dataset 11: 58 %\n",
            "--------------------------------------------------------------------------------\n",
            "--------------------------------------------------------------------------------\n",
            "training on data set   7\n",
            "epoch: [0 ] loss: 0.747\n",
            "epoch: [1] loss: 0.745\n",
            "epoch: [201] loss: 0.720\n",
            "epoch: [401] loss: 0.716\n",
            "epoch: [601] loss: 0.714\n",
            "epoch: [801] loss: 0.712\n",
            "Finished Training\n",
            "Accuracy of the network on the 10000 train images: 57 %\n",
            "pred:  [1 0 1 ... 1 1 1] [0 1]\n",
            "out:  [0 1 0 ... 1 1 1] [0 1]\n",
            "correct:  5714  total:  10000 sum:  5714\n",
            "Accuracy of the network on the 10000 test dataset 1: 57 %\n",
            "pred:  [1 0 1 ... 1 1 1] [0 1]\n",
            "out:  [0 1 0 ... 1 1 1] [0 1]\n",
            "correct:  5716  total:  10000 sum:  5716\n",
            "Accuracy of the network on the 10000 test dataset 2: 57 %\n",
            "pred:  [1 0 1 ... 1 1 1] [0 1]\n",
            "out:  [0 1 0 ... 1 1 1] [0 1]\n",
            "correct:  5717  total:  10000 sum:  5717\n",
            "Accuracy of the network on the 10000 test dataset 3: 57 %\n",
            "pred:  [1 0 1 ... 1 1 1] [0 1]\n",
            "out:  [0 1 0 ... 1 1 1] [0 1]\n",
            "correct:  5719  total:  10000 sum:  5719\n",
            "Accuracy of the network on the 10000 test dataset 4: 57 %\n",
            "pred:  [1 0 1 ... 1 1 1] [0 1]\n",
            "out:  [0 1 0 ... 1 1 1] [0 1]\n",
            "correct:  5726  total:  10000 sum:  5726\n",
            "Accuracy of the network on the 10000 test dataset 5: 57 %\n",
            "pred:  [1 0 1 ... 1 1 1] [0 1]\n",
            "out:  [0 1 0 ... 1 1 1] [0 1]\n",
            "correct:  5736  total:  10000 sum:  5736\n",
            "Accuracy of the network on the 10000 test dataset 6: 57 %\n",
            "pred:  [1 0 1 ... 1 1 1] [0 1]\n",
            "out:  [0 1 0 ... 1 1 1] [0 1]\n",
            "correct:  5750  total:  10000 sum:  5750\n",
            "Accuracy of the network on the 10000 test dataset 7: 57 %\n",
            "pred:  [1 0 1 ... 1 1 1] [0 1]\n",
            "out:  [0 1 0 ... 1 1 1] [0 1]\n",
            "correct:  5785  total:  10000 sum:  5785\n",
            "Accuracy of the network on the 10000 test dataset 8: 57 %\n",
            "pred:  [1 0 1 ... 1 1 1] [0 1]\n",
            "out:  [0 1 0 ... 1 1 1] [0 1]\n",
            "correct:  5849  total:  10000 sum:  5849\n",
            "Accuracy of the network on the 10000 test dataset 9: 58 %\n",
            "pred:  [1 0 1 ... 1 1 1] [0 1]\n",
            "out:  [0 1 0 ... 1 1 1] [0 1]\n",
            "correct:  5967  total:  10000 sum:  5967\n",
            "Accuracy of the network on the 10000 test dataset 10: 59 %\n",
            "pred:  [0 1 1 ... 0 1 1] [0 1]\n",
            "out:  [0 0 1 ... 0 1 1] [0 1]\n",
            "correct:  7828  total:  10000 sum:  7828\n",
            "Accuracy of the network on the 10000 test dataset 11: 78 %\n",
            "--------------------------------------------------------------------------------\n",
            "--------------------------------------------------------------------------------\n",
            "training on data set   8\n",
            "epoch: [0 ] loss: 0.748\n",
            "epoch: [1] loss: 0.746\n",
            "epoch: [201] loss: 0.718\n",
            "epoch: [401] loss: 0.714\n",
            "epoch: [601] loss: 0.712\n",
            "epoch: [801] loss: 0.710\n",
            "Finished Training\n",
            "Accuracy of the network on the 10000 train images: 57 %\n",
            "pred:  [1 0 1 ... 1 1 1] [0 1]\n",
            "out:  [0 1 0 ... 1 1 1] [0 1]\n",
            "correct:  5628  total:  10000 sum:  5628\n",
            "Accuracy of the network on the 10000 test dataset 1: 56 %\n",
            "pred:  [1 0 1 ... 1 1 1] [0 1]\n",
            "out:  [0 1 0 ... 1 1 1] [0 1]\n",
            "correct:  5628  total:  10000 sum:  5628\n",
            "Accuracy of the network on the 10000 test dataset 2: 56 %\n",
            "pred:  [1 0 1 ... 1 1 1] [0 1]\n",
            "out:  [0 1 0 ... 1 1 1] [0 1]\n",
            "correct:  5630  total:  10000 sum:  5630\n",
            "Accuracy of the network on the 10000 test dataset 3: 56 %\n",
            "pred:  [1 0 1 ... 1 1 1] [0 1]\n",
            "out:  [0 1 0 ... 1 1 1] [0 1]\n",
            "correct:  5632  total:  10000 sum:  5632\n",
            "Accuracy of the network on the 10000 test dataset 4: 56 %\n",
            "pred:  [1 0 1 ... 1 1 1] [0 1]\n",
            "out:  [0 1 0 ... 1 1 1] [0 1]\n",
            "correct:  5642  total:  10000 sum:  5642\n",
            "Accuracy of the network on the 10000 test dataset 5: 56 %\n",
            "pred:  [1 0 1 ... 1 1 1] [0 1]\n",
            "out:  [0 1 0 ... 1 1 1] [0 1]\n",
            "correct:  5668  total:  10000 sum:  5668\n",
            "Accuracy of the network on the 10000 test dataset 6: 56 %\n",
            "pred:  [1 0 1 ... 1 1 1] [0 1]\n",
            "out:  [0 1 0 ... 1 1 1] [0 1]\n",
            "correct:  5704  total:  10000 sum:  5704\n",
            "Accuracy of the network on the 10000 test dataset 7: 57 %\n",
            "pred:  [1 0 1 ... 1 1 1] [0 1]\n",
            "out:  [0 1 0 ... 1 1 1] [0 1]\n",
            "correct:  5771  total:  10000 sum:  5771\n",
            "Accuracy of the network on the 10000 test dataset 8: 57 %\n",
            "pred:  [1 0 1 ... 1 1 1] [0 1]\n",
            "out:  [0 1 0 ... 1 1 1] [0 1]\n",
            "correct:  5915  total:  10000 sum:  5915\n",
            "Accuracy of the network on the 10000 test dataset 9: 59 %\n",
            "pred:  [1 0 1 ... 1 1 1] [0 1]\n",
            "out:  [0 1 0 ... 1 1 1] [0 1]\n",
            "correct:  6221  total:  10000 sum:  6221\n",
            "Accuracy of the network on the 10000 test dataset 10: 62 %\n",
            "pred:  [0 0 1 ... 0 1 1] [0 1]\n",
            "out:  [0 0 1 ... 0 1 1] [0 1]\n",
            "correct:  9621  total:  10000 sum:  9621\n",
            "Accuracy of the network on the 10000 test dataset 11: 96 %\n",
            "--------------------------------------------------------------------------------\n",
            "--------------------------------------------------------------------------------\n",
            "training on data set   9\n",
            "epoch: [0 ] loss: 0.750\n",
            "epoch: [1] loss: 0.747\n",
            "epoch: [201] loss: 0.709\n",
            "epoch: [401] loss: 0.705\n",
            "epoch: [601] loss: 0.703\n",
            "epoch: [801] loss: 0.701\n",
            "Finished Training\n",
            "Accuracy of the network on the 10000 train images: 59 %\n",
            "pred:  [1 0 1 ... 1 0 1] [0 1]\n",
            "out:  [0 1 0 ... 1 1 1] [0 1]\n",
            "correct:  5488  total:  10000 sum:  5488\n",
            "Accuracy of the network on the 10000 test dataset 1: 54 %\n",
            "pred:  [1 0 1 ... 1 0 1] [0 1]\n",
            "out:  [0 1 0 ... 1 1 1] [0 1]\n",
            "correct:  5492  total:  10000 sum:  5492\n",
            "Accuracy of the network on the 10000 test dataset 2: 54 %\n",
            "pred:  [1 0 1 ... 1 0 1] [0 1]\n",
            "out:  [0 1 0 ... 1 1 1] [0 1]\n",
            "correct:  5497  total:  10000 sum:  5497\n",
            "Accuracy of the network on the 10000 test dataset 3: 54 %\n",
            "pred:  [1 0 1 ... 1 0 1] [0 1]\n",
            "out:  [0 1 0 ... 1 1 1] [0 1]\n",
            "correct:  5504  total:  10000 sum:  5504\n",
            "Accuracy of the network on the 10000 test dataset 4: 55 %\n",
            "pred:  [1 0 1 ... 1 0 1] [0 1]\n",
            "out:  [0 1 0 ... 1 1 1] [0 1]\n",
            "correct:  5516  total:  10000 sum:  5516\n",
            "Accuracy of the network on the 10000 test dataset 5: 55 %\n",
            "pred:  [1 0 1 ... 1 0 1] [0 1]\n",
            "out:  [0 1 0 ... 1 1 1] [0 1]\n",
            "correct:  5547  total:  10000 sum:  5547\n",
            "Accuracy of the network on the 10000 test dataset 6: 55 %\n",
            "pred:  [1 0 1 ... 1 0 1] [0 1]\n",
            "out:  [0 1 0 ... 1 1 1] [0 1]\n",
            "correct:  5603  total:  10000 sum:  5603\n",
            "Accuracy of the network on the 10000 test dataset 7: 56 %\n",
            "pred:  [1 0 1 ... 1 0 1] [0 1]\n",
            "out:  [0 1 0 ... 1 1 1] [0 1]\n",
            "correct:  5723  total:  10000 sum:  5723\n",
            "Accuracy of the network on the 10000 test dataset 8: 57 %\n",
            "pred:  [1 0 1 ... 1 0 1] [0 1]\n",
            "out:  [0 1 0 ... 1 1 1] [0 1]\n",
            "correct:  5964  total:  10000 sum:  5964\n",
            "Accuracy of the network on the 10000 test dataset 9: 59 %\n",
            "pred:  [1 0 1 ... 1 0 1] [0 1]\n",
            "out:  [0 1 0 ... 1 1 1] [0 1]\n",
            "correct:  6424  total:  10000 sum:  6424\n",
            "Accuracy of the network on the 10000 test dataset 10: 64 %\n",
            "pred:  [0 0 1 ... 0 1 1] [0 1]\n",
            "out:  [0 0 1 ... 0 1 1] [0 1]\n",
            "correct:  9923  total:  10000 sum:  9923\n",
            "Accuracy of the network on the 10000 test dataset 11: 99 %\n",
            "--------------------------------------------------------------------------------\n",
            "--------------------------------------------------------------------------------\n",
            "training on data set   10\n",
            "epoch: [0 ] loss: 0.753\n",
            "epoch: [1] loss: 0.749\n",
            "epoch: [201] loss: 0.673\n",
            "epoch: [401] loss: 0.668\n",
            "epoch: [601] loss: 0.666\n",
            "epoch: [801] loss: 0.664\n",
            "Finished Training\n",
            "Accuracy of the network on the 10000 train images: 64 %\n",
            "pred:  [1 0 1 ... 1 0 1] [0 1]\n",
            "out:  [0 1 0 ... 1 1 1] [0 1]\n",
            "correct:  5324  total:  10000 sum:  5324\n",
            "Accuracy of the network on the 10000 test dataset 1: 53 %\n",
            "pred:  [1 0 1 ... 1 0 1] [0 1]\n",
            "out:  [0 1 0 ... 1 1 1] [0 1]\n",
            "correct:  5327  total:  10000 sum:  5327\n",
            "Accuracy of the network on the 10000 test dataset 2: 53 %\n",
            "pred:  [1 0 1 ... 1 0 1] [0 1]\n",
            "out:  [0 1 0 ... 1 1 1] [0 1]\n",
            "correct:  5336  total:  10000 sum:  5336\n",
            "Accuracy of the network on the 10000 test dataset 3: 53 %\n",
            "pred:  [1 0 1 ... 1 0 1] [0 1]\n",
            "out:  [0 1 0 ... 1 1 1] [0 1]\n",
            "correct:  5342  total:  10000 sum:  5342\n",
            "Accuracy of the network on the 10000 test dataset 4: 53 %\n",
            "pred:  [1 0 1 ... 1 0 1] [0 1]\n",
            "out:  [0 1 0 ... 1 1 1] [0 1]\n",
            "correct:  5358  total:  10000 sum:  5358\n",
            "Accuracy of the network on the 10000 test dataset 5: 53 %\n",
            "pred:  [1 0 1 ... 1 0 1] [0 1]\n",
            "out:  [0 1 0 ... 1 1 1] [0 1]\n",
            "correct:  5391  total:  10000 sum:  5391\n",
            "Accuracy of the network on the 10000 test dataset 6: 53 %\n",
            "pred:  [1 0 1 ... 1 0 1] [0 1]\n",
            "out:  [0 1 0 ... 1 1 1] [0 1]\n",
            "correct:  5474  total:  10000 sum:  5474\n",
            "Accuracy of the network on the 10000 test dataset 7: 54 %\n",
            "pred:  [1 0 1 ... 1 0 1] [0 1]\n",
            "out:  [0 1 0 ... 1 1 1] [0 1]\n",
            "correct:  5618  total:  10000 sum:  5618\n",
            "Accuracy of the network on the 10000 test dataset 8: 56 %\n",
            "pred:  [1 0 1 ... 1 0 1] [0 1]\n",
            "out:  [0 1 0 ... 1 1 1] [0 1]\n",
            "correct:  5868  total:  10000 sum:  5868\n",
            "Accuracy of the network on the 10000 test dataset 9: 58 %\n",
            "pred:  [1 0 1 ... 1 0 1] [0 1]\n",
            "out:  [0 1 0 ... 1 1 1] [0 1]\n",
            "correct:  6458  total:  10000 sum:  6458\n",
            "Accuracy of the network on the 10000 test dataset 10: 64 %\n",
            "pred:  [0 0 1 ... 0 1 1] [0 1]\n",
            "out:  [0 0 1 ... 0 1 1] [0 1]\n",
            "correct:  9942  total:  10000 sum:  9942\n",
            "Accuracy of the network on the 10000 test dataset 11: 99 %\n",
            "--------------------------------------------------------------------------------\n"
          ],
          "name": "stdout"
        }
      ]
    },
    {
      "cell_type": "code",
      "metadata": {
        "id": "DlDXudp5naB3",
        "colab": {
          "base_uri": "https://localhost:8080/",
          "height": 279
        },
        "outputId": "69a0085b-df06-40d3-a252-36a5c4ebb477"
      },
      "source": [
        "%matplotlib inline\n",
        "\n",
        "fig = plt.figure()\n",
        "for i,j in enumerate(train_loss_all):\n",
        "    plt.plot(j,label =\"dataset \"+str(i+1))\n",
        "    \n",
        "\n",
        "plt.xlabel(\"Epochs\")\n",
        "plt.ylabel(\"Training_loss\")\n",
        "\n",
        "plt.legend(loc='center left', bbox_to_anchor=(1, 0.5))\n",
        "fig.savefig(\"Figure.pdf\")"
      ],
      "execution_count": 59,
      "outputs": [
        {
          "output_type": "display_data",
          "data": {
            "image/png": "[encoded data removed]",
            "text/plain": [
              "<Figure size 432x288 with 1 Axes>"
            ]
          },
          "metadata": {
            "tags": [],
            "needs_background": "light"
          }
        }
      ]
    },
    {
      "cell_type": "code",
      "metadata": {
        "id": "Fe45SA2hiUTN"
      },
      "source": [
        ""
      ],
      "execution_count": null,
      "outputs": []
    }
  ]
}