{
  "nbformat": 4,
  "nbformat_minor": 0,
  "metadata": {
    "kernelspec": {
      "name": "python3",
      "display_name": "Python 3"
    },
    "language_info": {
      "codemirror_mode": {
        "name": "ipython",
        "version": 3
      },
      "file_extension": ".py",
      "mimetype": "text/x-python",
      "name": "python",
      "nbconvert_exporter": "python",
      "pygments_lexer": "ipython3",
      "version": "3.7.0"
    },
    "colab": {
      "name": "mini_inception_8layer_4000.ipynb",
      "provenance": [],
      "collapsed_sections": []
    },
    "accelerator": "GPU"
  },
  "cells": [
    {
      "cell_type": "code",
      "metadata": {
        "id": "lR-eQfx0acq8"
      },
      "source": [
        "import numpy as np\n",
        "import pandas as pd\n",
        "from matplotlib import pyplot as plt\n",
        "from tqdm import tqdm as tqdm\n",
        "\n",
        "%matplotlib inline\n",
        "\n",
        "import torch\n",
        "import torchvision\n",
        "import torchvision.transforms as transforms\n",
        "import torch.nn as nn\n",
        "import torch.optim as optim\n",
        "import torch.nn.functional as F\n",
        "import random"
      ],
      "execution_count": 1,
      "outputs": []
    },
    {
      "cell_type": "code",
      "metadata": {
        "id": "YoAqFwqpacrH",
        "colab": {
          "base_uri": "https://localhost:8080/"
        },
        "outputId": "81e26ad1-f1d6-4286-9991-35c02bff5d52"
      },
      "source": [
        "transform = transforms.Compose(\n",
        "    [transforms.ToTensor(),\n",
        "     transforms.Normalize((0.5, 0.5, 0.5), (0.5, 0.5, 0.5))])\n",
        "\n",
        "trainset = torchvision.datasets.CIFAR10(root='./data', train=True, download=True, transform=transform)\n",
        "\n",
        "\n",
        "testset = torchvision.datasets.CIFAR10(root='./data', train=False, download=True, transform=transform)\n"
      ],
      "execution_count": 2,
      "outputs": [
        {
          "output_type": "stream",
          "text": [
            "Files already downloaded and verified\n",
            "Files already downloaded and verified\n"
          ],
          "name": "stdout"
        }
      ]
    },
    {
      "cell_type": "code",
      "metadata": {
        "id": "wVrHeC0k1i8S",
        "colab": {
          "base_uri": "https://localhost:8080/"
        },
        "outputId": "672b64a2-03bd-4fd8-950e-b097c8e8fdea"
      },
      "source": [
        "type(trainset.targets)\n",
        "type(trainset.data)"
      ],
      "execution_count": 3,
      "outputs": [
        {
          "output_type": "execute_result",
          "data": {
            "text/plain": [
              "numpy.ndarray"
            ]
          },
          "metadata": {
            "tags": []
          },
          "execution_count": 3
        }
      ]
    },
    {
      "cell_type": "code",
      "metadata": {
        "id": "56x0FjYZacrM",
        "colab": {
          "base_uri": "https://localhost:8080/"
        },
        "outputId": "336e50bf-92ef-4bcd-b147-e71b33ab7812"
      },
      "source": [
        "index1 = [np.where(np.array(trainset.targets)==0)[0] , np.where(np.array(trainset.targets)==1)[0], np.where(np.array(trainset.targets)==2)[0]  ]\n",
        "index1 = np.concatenate(index1,axis=0)\n",
        "len(index1) #15000\n",
        "#index1"
      ],
      "execution_count": 4,
      "outputs": [
        {
          "output_type": "execute_result",
          "data": {
            "text/plain": [
              "15000"
            ]
          },
          "metadata": {
            "tags": []
          },
          "execution_count": 4
        }
      ]
    },
    {
      "cell_type": "code",
      "metadata": {
        "id": "JFMA8WBbyKSn"
      },
      "source": [
        "disp = np.array(trainset.targets)"
      ],
      "execution_count": 5,
      "outputs": []
    },
    {
      "cell_type": "code",
      "metadata": {
        "colab": {
          "base_uri": "https://localhost:8080/"
        },
        "id": "UdINW0WtGGhT",
        "outputId": "28edbcb0-862c-4e19-80f5-809b36ae69ce"
      },
      "source": [
        "true = 4000\n",
        "total = 35000\n",
        "sin = total-true\n",
        "sin"
      ],
      "execution_count": 6,
      "outputs": [
        {
          "output_type": "execute_result",
          "data": {
            "text/plain": [
              "31000"
            ]
          },
          "metadata": {
            "tags": []
          },
          "execution_count": 6
        }
      ]
    },
    {
      "cell_type": "code",
      "metadata": {
        "id": "ihAjt75QGP8D"
      },
      "source": [
        "epochs= 100"
      ],
      "execution_count": 7,
      "outputs": []
    },
    {
      "cell_type": "code",
      "metadata": {
        "id": "yQOoEO2meJDv",
        "colab": {
          "base_uri": "https://localhost:8080/"
        },
        "outputId": "ffdff3df-407a-43f3-e23b-848e4248029c"
      },
      "source": [
        "indices = np.random.choice(index1,true)\n",
        "_,count = np.unique(disp[indices],return_counts=True)\n",
        "print(count, indices.shape)"
      ],
      "execution_count": 8,
      "outputs": [
        {
          "output_type": "stream",
          "text": [
            "[1357 1285 1358] (4000,)\n"
          ],
          "name": "stdout"
        }
      ]
    },
    {
      "cell_type": "code",
      "metadata": {
        "id": "d_8snSm1acrR",
        "colab": {
          "base_uri": "https://localhost:8080/"
        },
        "outputId": "306ea503-90b1-4788-bcef-35c5184c234a"
      },
      "source": [
        "index = np.where(np.logical_and(np.logical_and(np.array(trainset.targets)!=0, np.array(trainset.targets)!=1), np.array(trainset.targets)!=2))[0]  #35000\n",
        "len(index)"
      ],
      "execution_count": 9,
      "outputs": [
        {
          "output_type": "execute_result",
          "data": {
            "text/plain": [
              "35000"
            ]
          },
          "metadata": {
            "tags": []
          },
          "execution_count": 9
        }
      ]
    },
    {
      "cell_type": "code",
      "metadata": {
        "id": "Mqhs1LjFGwzr"
      },
      "source": [
        "req_index = np.random.choice(index.shape[0], sin, replace=False) "
      ],
      "execution_count": 10,
      "outputs": []
    },
    {
      "cell_type": "code",
      "metadata": {
        "colab": {
          "base_uri": "https://localhost:8080/"
        },
        "id": "GoVPRbOXGxQ4",
        "outputId": "efe94f40-35ea-4801-befc-29dc5e0dde98"
      },
      "source": [
        "index = index[req_index]\n",
        "index.shape"
      ],
      "execution_count": 11,
      "outputs": [
        {
          "output_type": "execute_result",
          "data": {
            "text/plain": [
              "(31000,)"
            ]
          },
          "metadata": {
            "tags": []
          },
          "execution_count": 11
        }
      ]
    },
    {
      "cell_type": "code",
      "metadata": {
        "id": "vYhiSaAnacrW",
        "colab": {
          "base_uri": "https://localhost:8080/"
        },
        "outputId": "037c4c81-6adf-4539-9059-59dfb9d15830"
      },
      "source": [
        "values = np.random.choice([0,1,2],size= len(index)) #labeling others as 0,1,2\n",
        "print(sum(values ==0),sum(values==1), sum(values==2))\n"
      ],
      "execution_count": 12,
      "outputs": [
        {
          "output_type": "stream",
          "text": [
            "10284 10332 10384\n"
          ],
          "name": "stdout"
        }
      ]
    },
    {
      "cell_type": "code",
      "metadata": {
        "id": "lMAVbPYH063V"
      },
      "source": [
        "# trainset.data = torch.tensor( trainset.data )\n",
        "# trainset.targets = torch.tensor(trainset.targets)"
      ],
      "execution_count": 13,
      "outputs": []
    },
    {
      "cell_type": "code",
      "metadata": {
        "id": "uLuqrhO1hRR6"
      },
      "source": [
        "trainset.data = np.concatenate((trainset.data[indices],trainset.data[index]))\n",
        "trainset.targets = np.concatenate((np.array(trainset.targets)[indices],values))"
      ],
      "execution_count": 14,
      "outputs": []
    },
    {
      "cell_type": "code",
      "metadata": {
        "colab": {
          "base_uri": "https://localhost:8080/"
        },
        "id": "3W1zLA5KG6fp",
        "outputId": "efb82c5a-6801-41d6-f20e-06cb3f21f7de"
      },
      "source": [
        "trainset.targets.shape, trainset.data.shape"
      ],
      "execution_count": 15,
      "outputs": [
        {
          "output_type": "execute_result",
          "data": {
            "text/plain": [
              "((35000,), (35000, 32, 32, 3))"
            ]
          },
          "metadata": {
            "tags": []
          },
          "execution_count": 15
        }
      ]
    },
    {
      "cell_type": "code",
      "metadata": {
        "id": "iczET1tohOsL",
        "colab": {
          "base_uri": "https://localhost:8080/",
          "height": 283
        },
        "outputId": "d44fcf99-1e6a-4553-cffc-e63e54ea28e4"
      },
      "source": [
        "# mnist_trainset.targets[index] = torch.Tensor(values).type(torch.LongTensor)\n",
        "j =20078     # Without Shuffle upto True Training numbers correct , after that corrupted\n",
        "print(plt.imshow(trainset.data[j]),trainset.targets[j])"
      ],
      "execution_count": 16,
      "outputs": [
        {
          "output_type": "stream",
          "text": [
            "AxesImage(54,36;334.8x217.44) 1\n"
          ],
          "name": "stdout"
        },
        {
          "output_type": "display_data",
          "data": {
            "image/png": "[encoded data removed]",
            "text/plain": [
              "<Figure size 432x288 with 1 Axes>"
            ]
          },
          "metadata": {
            "tags": [],
            "needs_background": "light"
          }
        }
      ]
    },
    {
      "cell_type": "code",
      "metadata": {
        "id": "U8WPVHnPacrd"
      },
      "source": [
        "trainloader = torch.utils.data.DataLoader(trainset, batch_size=256,shuffle=True, num_workers=2)"
      ],
      "execution_count": 17,
      "outputs": []
    },
    {
      "cell_type": "code",
      "metadata": {
        "id": "7L7ocAcracri"
      },
      "source": [
        "testloader = torch.utils.data.DataLoader(testset, batch_size=256,shuffle=False, num_workers=2)"
      ],
      "execution_count": 18,
      "outputs": []
    },
    {
      "cell_type": "code",
      "metadata": {
        "id": "pdhAr2p6acrm"
      },
      "source": [
        "classes = ('zero', 'one','two')"
      ],
      "execution_count": 19,
      "outputs": []
    },
    {
      "cell_type": "code",
      "metadata": {
        "id": "jhUOj6Tnacrr"
      },
      "source": [
        "dataiter = iter(trainloader)\n",
        "images, labels = dataiter.next()"
      ],
      "execution_count": 20,
      "outputs": []
    },
    {
      "cell_type": "code",
      "metadata": {
        "id": "vVgW5hBkacrv",
        "colab": {
          "base_uri": "https://localhost:8080/"
        },
        "outputId": "dd706447-fd9d-46c8-9533-036abf8c154b"
      },
      "source": [
        "images[:4].shape"
      ],
      "execution_count": 21,
      "outputs": [
        {
          "output_type": "execute_result",
          "data": {
            "text/plain": [
              "torch.Size([4, 3, 32, 32])"
            ]
          },
          "metadata": {
            "tags": []
          },
          "execution_count": 21
        }
      ]
    },
    {
      "cell_type": "code",
      "metadata": {
        "id": "nUtA80KCacr1"
      },
      "source": [
        "# def imshow(img):\n",
        "#     img = img / 2 + 0.5     # unnormalize\n",
        "#     npimg = img.numpy()\n",
        "#     plt.imshow(np.transpose(npimg, (1, 2, 0)))\n",
        "#     plt.show()\n",
        "def imshow(img):\n",
        "  img = img / 2 + 0.5     # unnormalize\n",
        "  npimg = img#.numpy()\n",
        "  plt.imshow(np.transpose(npimg, (1, 2, 0)))\n",
        "  plt.show()"
      ],
      "execution_count": 22,
      "outputs": []
    },
    {
      "cell_type": "code",
      "metadata": {
        "id": "Xv34FfAdacr5",
        "colab": {
          "base_uri": "https://localhost:8080/",
          "height": 154
        },
        "outputId": "8e30aa7d-b853-4b98-d72a-ed0a3512b912"
      },
      "source": [
        "imshow(torchvision.utils.make_grid(images[:10]))\n",
        "print('GroundTruth: ', ' '.join('%5s' % classes[labels[j]] for j in range(10)))"
      ],
      "execution_count": 23,
      "outputs": [
        {
          "output_type": "display_data",
          "data": {
            "image/png": "[encoded data removed]",
            "text/plain": [
              "<Figure size 432x288 with 1 Axes>"
            ]
          },
          "metadata": {
            "tags": [],
            "needs_background": "light"
          }
        },
        {
          "output_type": "stream",
          "text": [
            "GroundTruth:    two   one   one  zero   two   one  zero   one   two  zero\n"
          ],
          "name": "stdout"
        }
      ]
    },
    {
      "cell_type": "code",
      "metadata": {
        "id": "iliHfURzahct"
      },
      "source": [
        "classes = ('plane', 'car', 'bird', 'cat', 'deer', 'dog', 'frog', 'horse', 'ship', 'truck')"
      ],
      "execution_count": 24,
      "outputs": []
    },
    {
      "cell_type": "code",
      "metadata": {
        "id": "Ss-jhHRIacr-"
      },
      "source": [
        "class Conv_module(nn.Module):\n",
        "    def __init__(self,inp_ch,f,s,k,pad):\n",
        "        super(Conv_module,self).__init__()\n",
        "        self.inp_ch = inp_ch\n",
        "        self.f = f\n",
        "        self.s = s \n",
        "        self.k = k \n",
        "        self.pad = pad\n",
        "        \n",
        "        \n",
        "        self.conv = nn.Conv2d(self.inp_ch,self.f,k,stride=s,padding=self.pad)\n",
        "        self.bn = nn.BatchNorm2d(self.f)\n",
        "        self.act = nn.ReLU()\n",
        "    def forward(self,x):\n",
        "        x = self.conv(x)\n",
        "        x = self.bn(x)\n",
        "        x = self.act(x)\n",
        "        return x"
      ],
      "execution_count": 25,
      "outputs": []
    },
    {
      "cell_type": "code",
      "metadata": {
        "id": "51c92MhjacsC"
      },
      "source": [
        "class inception_module(nn.Module):\n",
        "    def __init__(self,inp_ch,f0,f1):\n",
        "        super(inception_module, self).__init__()\n",
        "        self.inp_ch = inp_ch\n",
        "        self.f0 = f0\n",
        "        self.f1 = f1\n",
        "        \n",
        "        \n",
        "        \n",
        "        self.conv1 = Conv_module(self.inp_ch,self.f0,1,1,pad=0)\n",
        "        self.conv3 = Conv_module(self.inp_ch,self.f1,1,3,pad=1)\n",
        "        #self.conv1 = nn.Conv2d(3,self.f0,1)\n",
        "        #self.conv3 = nn.Conv2d(3,self.f1,3,padding=1)\n",
        "    def forward(self,x):\n",
        "        x1 = self.conv1.forward(x)\n",
        "        x3 = self.conv3.forward(x)\n",
        "        #print(x1.shape,x3.shape)\n",
        "        \n",
        "        x = torch.cat((x1,x3),dim=1)\n",
        "        \n",
        "    \n",
        "        return x"
      ],
      "execution_count": 26,
      "outputs": []
    },
    {
      "cell_type": "code",
      "metadata": {
        "id": "6Tl67apKacsG"
      },
      "source": [
        "class downsample_module(nn.Module):\n",
        "    def __init__(self,inp_ch,f):\n",
        "        super(downsample_module,self).__init__()\n",
        "        self.inp_ch = inp_ch\n",
        "        self.f = f\n",
        "        self.conv = Conv_module(self.inp_ch,self.f,2,3,pad=0)\n",
        "        self.pool = nn.MaxPool2d(3,stride=2,padding=0)\n",
        "    def forward(self,x):\n",
        "        x1 = self.conv(x)\n",
        "        #print(x1.shape)\n",
        "        x2 = self.pool(x)\n",
        "        #print(x2.shape)\n",
        "        x = torch.cat((x1,x2),dim=1)\n",
        "        \n",
        "        return x,x1"
      ],
      "execution_count": 27,
      "outputs": []
    },
    {
      "cell_type": "code",
      "metadata": {
        "id": "_RKEYiG7acsJ"
      },
      "source": [
        "class inception_net(nn.Module):\n",
        "    def __init__(self):\n",
        "        super(inception_net,self).__init__()\n",
        "        self.conv1 = Conv_module(3,96,1,3,0)\n",
        "        \n",
        "        self.incept1 = inception_module(96,32,32)\n",
        "        self.incept2 = inception_module(64,32,48)\n",
        "        \n",
        "        self.downsample1 = downsample_module(80,80)\n",
        "        \n",
        "        self.incept3 = inception_module(160,112,48)\n",
        "        self.incept4 = inception_module(160,96,64)\n",
        "        self.incept5 = inception_module(160,80,80)\n",
        "        self.incept6 = inception_module(160,48,96)\n",
        "        \n",
        "        self.downsample2 = downsample_module(144,96)\n",
        "        \n",
        "        self.incept7 = inception_module(240,176,60)\n",
        "        self.incept8 = inception_module(236,176,60)\n",
        "        \n",
        "        self.pool = nn.AvgPool2d(5)\n",
        "        \n",
        "        \n",
        "        \n",
        "        self.linear = nn.Linear(236,10)\n",
        "    def forward(self,x):\n",
        "        x = self.conv1.forward(x)\n",
        "        #act1 = x\n",
        "        \n",
        "        x = self.incept1.forward(x)\n",
        "        #act2 = x\n",
        "        \n",
        "        x = self.incept2.forward(x)\n",
        "        #act3 = x\n",
        "        \n",
        "        x,act4 = self.downsample1.forward(x)\n",
        "        \n",
        "        x = self.incept3.forward(x)\n",
        "        #act5 = x\n",
        "        \n",
        "        x = self.incept4.forward(x)\n",
        "        #act6 = x\n",
        "        \n",
        "        x = self.incept5.forward(x)\n",
        "        #act7 = x\n",
        "        \n",
        "        x = self.incept6.forward(x)\n",
        "        #act8 = x\n",
        "        \n",
        "        x,act9 = self.downsample2.forward(x)\n",
        "        \n",
        "        x = self.incept7.forward(x)\n",
        "        #act10 = x\n",
        "        x = self.incept8.forward(x)\n",
        "        #act11 = x\n",
        "        #print(x.shape)\n",
        "        x = self.pool(x)\n",
        "        #print(x.shape)\n",
        "        x = x.view(-1,1*1*236)\n",
        "        x = self.linear(x) \n",
        "        return x"
      ],
      "execution_count": 28,
      "outputs": []
    },
    {
      "cell_type": "code",
      "metadata": {
        "id": "rByxqKdOacsM"
      },
      "source": [
        "inc = inception_net()\n",
        "inc = inc.to(\"cuda\")"
      ],
      "execution_count": 29,
      "outputs": []
    },
    {
      "cell_type": "code",
      "metadata": {
        "id": "imWjagA2acsO"
      },
      "source": [
        "criterion_inception = nn.CrossEntropyLoss()\n",
        "optimizer_inception = optim.SGD(inc.parameters(), lr=0.01, momentum=0.9)"
      ],
      "execution_count": 30,
      "outputs": []
    },
    {
      "cell_type": "code",
      "metadata": {
        "id": "r5mCNr38acsR",
        "colab": {
          "base_uri": "https://localhost:8080/"
        },
        "outputId": "1786db31-3760-4f7f-d5cb-b3fe02235afe"
      },
      "source": [
        "acti = []\n",
        "loss_curi = []\n",
        "\n",
        "for epoch in range(epochs): # loop over the dataset multiple times\n",
        "    ep_lossi = []\n",
        "\n",
        "    running_loss = 0.0\n",
        "    for i, data in enumerate(trainloader, 0):\n",
        "        # get the inputs\n",
        "        inputs, labels = data\n",
        "        inputs, labels = inputs.to(\"cuda\"),labels.to(\"cuda\")\n",
        "\n",
        "        # zero the parameter gradients\n",
        "        optimizer_inception.zero_grad()\n",
        "\n",
        "        # forward + backward + optimize\n",
        "        outputs = inc(inputs)\n",
        "        loss = criterion_inception(outputs, labels)\n",
        "        loss.backward()\n",
        "        optimizer_inception.step()\n",
        "\n",
        "        # print statistics\n",
        "        running_loss += loss.item()\n",
        "        if i % 50 == 49:    # print every 50 mini-batches\n",
        "            print('[%d, %5d] loss: %.3f' %\n",
        "                  (epoch + 1, i + 1, running_loss / 50))\n",
        "            ep_lossi.append(running_loss/50) # loss per minibatch\n",
        "            running_loss = 0.0\n",
        "            \n",
        "    loss_curi.append(np.mean(ep_lossi))   #loss per epoch\n",
        "\n",
        "    if(np.mean(ep_lossi)<=0.03):\n",
        "      break\n",
        "#     if (epoch%5 == 0):\n",
        "#         _,actis= inc(inputs)\n",
        "#         acti.append(actis)\n",
        "    \n",
        "            \n",
        "\n",
        "print('Finished Training')"
      ],
      "execution_count": 31,
      "outputs": [
        {
          "output_type": "stream",
          "text": [
            "/usr/local/lib/python3.7/dist-packages/torch/nn/functional.py:718: UserWarning: Named tensors and all their associated APIs are an experimental feature and subject to change. Please do not use them for anything important until they are released as stable. (Triggered internally at  /pytorch/c10/core/TensorImpl.h:1156.)\n",
            "  return torch.max_pool2d(input, kernel_size, stride, padding, dilation, ceil_mode)\n"
          ],
          "name": "stderr"
        },
        {
          "output_type": "stream",
          "text": [
            "[1,    50] loss: 1.220\n",
            "[1,   100] loss: 1.098\n",
            "[2,    50] loss: 1.086\n",
            "[2,   100] loss: 1.088\n",
            "[3,    50] loss: 1.076\n",
            "[3,   100] loss: 1.081\n",
            "[4,    50] loss: 1.065\n",
            "[4,   100] loss: 1.075\n",
            "[5,    50] loss: 1.046\n",
            "[5,   100] loss: 1.057\n",
            "[6,    50] loss: 1.035\n",
            "[6,   100] loss: 1.041\n",
            "[7,    50] loss: 1.020\n",
            "[7,   100] loss: 1.029\n",
            "[8,    50] loss: 0.977\n",
            "[8,   100] loss: 1.018\n",
            "[9,    50] loss: 0.946\n",
            "[9,   100] loss: 0.984\n",
            "[10,    50] loss: 0.899\n",
            "[10,   100] loss: 0.961\n",
            "[11,    50] loss: 0.842\n",
            "[11,   100] loss: 0.938\n",
            "[12,    50] loss: 0.767\n",
            "[12,   100] loss: 0.907\n",
            "[13,    50] loss: 0.707\n",
            "[13,   100] loss: 0.832\n",
            "[14,    50] loss: 0.636\n",
            "[14,   100] loss: 0.775\n",
            "[15,    50] loss: 0.573\n",
            "[15,   100] loss: 0.668\n",
            "[16,    50] loss: 0.530\n",
            "[16,   100] loss: 0.593\n",
            "[17,    50] loss: 0.455\n",
            "[17,   100] loss: 0.545\n",
            "[18,    50] loss: 0.423\n",
            "[18,   100] loss: 0.461\n",
            "[19,    50] loss: 0.358\n",
            "[19,   100] loss: 0.400\n",
            "[20,    50] loss: 0.319\n",
            "[20,   100] loss: 0.350\n",
            "[21,    50] loss: 0.291\n",
            "[21,   100] loss: 0.286\n",
            "[22,    50] loss: 0.228\n",
            "[22,   100] loss: 0.259\n",
            "[23,    50] loss: 0.222\n",
            "[23,   100] loss: 0.251\n",
            "[24,    50] loss: 0.196\n",
            "[24,   100] loss: 0.209\n",
            "[25,    50] loss: 0.175\n",
            "[25,   100] loss: 0.192\n",
            "[26,    50] loss: 0.123\n",
            "[26,   100] loss: 0.141\n",
            "[27,    50] loss: 0.119\n",
            "[27,   100] loss: 0.133\n",
            "[28,    50] loss: 0.107\n",
            "[28,   100] loss: 0.112\n",
            "[29,    50] loss: 0.122\n",
            "[29,   100] loss: 0.134\n",
            "[30,    50] loss: 0.103\n",
            "[30,   100] loss: 0.106\n",
            "[31,    50] loss: 0.077\n",
            "[31,   100] loss: 0.080\n",
            "[32,    50] loss: 0.059\n",
            "[32,   100] loss: 0.066\n",
            "[33,    50] loss: 0.051\n",
            "[33,   100] loss: 0.052\n",
            "[34,    50] loss: 0.038\n",
            "[34,   100] loss: 0.039\n",
            "[35,    50] loss: 0.026\n",
            "[35,   100] loss: 0.037\n",
            "[36,    50] loss: 0.034\n",
            "[36,   100] loss: 0.037\n",
            "[37,    50] loss: 0.030\n",
            "[37,   100] loss: 0.038\n",
            "[38,    50] loss: 0.040\n",
            "[38,   100] loss: 0.058\n",
            "[39,    50] loss: 0.078\n",
            "[39,   100] loss: 0.097\n",
            "[40,    50] loss: 0.092\n",
            "[40,   100] loss: 0.098\n",
            "[41,    50] loss: 0.063\n",
            "[41,   100] loss: 0.069\n",
            "[42,    50] loss: 0.045\n",
            "[42,   100] loss: 0.036\n",
            "[43,    50] loss: 0.021\n",
            "[43,   100] loss: 0.016\n",
            "Finished Training\n"
          ],
          "name": "stdout"
        }
      ]
    },
    {
      "cell_type": "code",
      "metadata": {
        "id": "IxXbhlbEacsW",
        "colab": {
          "base_uri": "https://localhost:8080/"
        },
        "outputId": "b8582ae5-2fa7-4d74-e55e-e35ce1c14fbf"
      },
      "source": [
        "correct = 0\n",
        "total = 0\n",
        "with torch.no_grad():\n",
        "    for data in trainloader:\n",
        "        images, labels = data\n",
        "        images, labels = images.to(\"cuda\"), labels.to(\"cuda\")\n",
        "        outputs = inc(images)\n",
        "        _, predicted = torch.max(outputs.data, 1)\n",
        "        total += labels.size(0)\n",
        "        correct += (predicted == labels).sum().item()\n",
        "\n",
        "print('Accuracy of the network on the 35000  train images: %d %%' % (  100 * correct / total))"
      ],
      "execution_count": 32,
      "outputs": [
        {
          "output_type": "stream",
          "text": [
            "Accuracy of the network on the 35000  train images: 99 %\n"
          ],
          "name": "stdout"
        }
      ]
    },
    {
      "cell_type": "code",
      "metadata": {
        "id": "U2kQXLzgacsa",
        "colab": {
          "base_uri": "https://localhost:8080/"
        },
        "outputId": "dfda38e8-20ee-4fb6-d2dc-aec48d458c5f"
      },
      "source": [
        "total,correct"
      ],
      "execution_count": 33,
      "outputs": [
        {
          "output_type": "execute_result",
          "data": {
            "text/plain": [
              "(35000, 34923)"
            ]
          },
          "metadata": {
            "tags": []
          },
          "execution_count": 33
        }
      ]
    },
    {
      "cell_type": "code",
      "metadata": {
        "id": "5IcmEl2lacsd",
        "colab": {
          "base_uri": "https://localhost:8080/"
        },
        "outputId": "fa712874-4772-4b97-a3bb-9b7f66899ea1"
      },
      "source": [
        "correct = 0\n",
        "total = 0\n",
        "out = []\n",
        "pred = []\n",
        "with torch.no_grad():\n",
        "    for data in testloader:\n",
        "        images, labels = data\n",
        "        images, labels = images.to(\"cuda\"),labels.to(\"cuda\")\n",
        "        out.append(labels.cpu().numpy())\n",
        "        outputs= inc(images)\n",
        "        _, predicted = torch.max(outputs.data, 1)\n",
        "        pred.append(predicted.cpu().numpy())\n",
        "        total += labels.size(0)\n",
        "        correct += (predicted == labels).sum().item()\n",
        "\n",
        "print('Accuracy of the network on the 10000 test images: %d %%' % (\n",
        "    100 * correct / total))"
      ],
      "execution_count": 34,
      "outputs": [
        {
          "output_type": "stream",
          "text": [
            "Accuracy of the network on the 10000 test images: 17 %\n"
          ],
          "name": "stdout"
        }
      ]
    },
    {
      "cell_type": "code",
      "metadata": {
        "id": "KrlBRcSQacsg"
      },
      "source": [
        "out = np.concatenate(out,axis=0)"
      ],
      "execution_count": 35,
      "outputs": []
    },
    {
      "cell_type": "code",
      "metadata": {
        "id": "EWyBhOPlacsi"
      },
      "source": [
        "pred = np.concatenate(pred,axis=0)"
      ],
      "execution_count": 36,
      "outputs": []
    },
    {
      "cell_type": "code",
      "metadata": {
        "id": "IJ1F7Lfdacsl",
        "colab": {
          "base_uri": "https://localhost:8080/"
        },
        "outputId": "259468a7-67e8-4194-e8bf-c1fe38198ace"
      },
      "source": [
        "index = np.logical_or(np.logical_or(out ==1,out==0),out == 2)\n",
        "print(index.shape)"
      ],
      "execution_count": 37,
      "outputs": [
        {
          "output_type": "stream",
          "text": [
            "(10000,)\n"
          ],
          "name": "stdout"
        }
      ]
    },
    {
      "cell_type": "code",
      "metadata": {
        "id": "h7PmLPkGacsn",
        "colab": {
          "base_uri": "https://localhost:8080/"
        },
        "outputId": "71330857-1916-4c90-ebbb-f4081a95414b"
      },
      "source": [
        "acc = sum(out[index] == pred[index])/sum(index)\n",
        "print('Accuracy of the network on the 0-1-2 test images: %d %%' % (\n",
        "    100*acc))"
      ],
      "execution_count": 38,
      "outputs": [
        {
          "output_type": "stream",
          "text": [
            "Accuracy of the network on the 0-1-2 test images: 59 %\n"
          ],
          "name": "stdout"
        }
      ]
    },
    {
      "cell_type": "code",
      "metadata": {
        "id": "fvCi8x41acsq",
        "colab": {
          "base_uri": "https://localhost:8080/"
        },
        "outputId": "2b68ccf5-72bb-4d02-cec5-d4948decaa44"
      },
      "source": [
        "\n",
        "np.unique(out[index],return_counts = True) #== pred[index])"
      ],
      "execution_count": 39,
      "outputs": [
        {
          "output_type": "execute_result",
          "data": {
            "text/plain": [
              "(array([0, 1, 2]), array([1000, 1000, 1000]))"
            ]
          },
          "metadata": {
            "tags": []
          },
          "execution_count": 39
        }
      ]
    },
    {
      "cell_type": "code",
      "metadata": {
        "id": "a1Am5Q45LXmt",
        "colab": {
          "base_uri": "https://localhost:8080/"
        },
        "outputId": "dc6f7fe4-6370-41d6-e656-2222ada28019"
      },
      "source": [
        "\n",
        "np.unique(pred[index],return_counts = True) #== pred[index])"
      ],
      "execution_count": 40,
      "outputs": [
        {
          "output_type": "execute_result",
          "data": {
            "text/plain": [
              "(array([0, 1, 2]), array([1101, 1047,  852]))"
            ]
          },
          "metadata": {
            "tags": []
          },
          "execution_count": 40
        }
      ]
    },
    {
      "cell_type": "code",
      "metadata": {
        "id": "bdGNgi62acss",
        "colab": {
          "base_uri": "https://localhost:8080/"
        },
        "outputId": "d4d15ec7-e231-41b8-bf76-d1ee640f0ad2"
      },
      "source": [
        "sum(out[index] == pred[index])"
      ],
      "execution_count": 41,
      "outputs": [
        {
          "output_type": "execute_result",
          "data": {
            "text/plain": [
              "1782"
            ]
          },
          "metadata": {
            "tags": []
          },
          "execution_count": 41
        }
      ]
    },
    {
      "cell_type": "code",
      "metadata": {
        "id": "D6Vmd4B5MTrc",
        "colab": {
          "base_uri": "https://localhost:8080/"
        },
        "outputId": "7c8bc161-bfd7-4fca-b384-b3319abaf965"
      },
      "source": [
        "cnt = np.zeros((3,3))\n",
        "true = out[index]\n",
        "predict = pred[index]\n",
        "for i in range(len(true)):\n",
        "  cnt[true[i]][predict[i]] += 1 \n",
        "cnt"
      ],
      "execution_count": 42,
      "outputs": [
        {
          "output_type": "execute_result",
          "data": {
            "text/plain": [
              "array([[635., 167., 198.],\n",
              "       [201., 646., 153.],\n",
              "       [265., 234., 501.]])"
            ]
          },
          "metadata": {
            "tags": []
          },
          "execution_count": 42
        }
      ]
    },
    {
      "cell_type": "code",
      "metadata": {
        "id": "KBZqLh7heULT"
      },
      "source": [
        "# torch.save(inc.state_dict(),\"/content/drive/My Drive/Research/CIFAR Random/model_True_\"+str(true_data_count)+\"_epoch_\"+str(epochs)+\".pkl\")"
      ],
      "execution_count": 43,
      "outputs": []
    },
    {
      "cell_type": "code",
      "metadata": {
        "id": "pZhSFZLeeXeO"
      },
      "source": [
        ""
      ],
      "execution_count": 43,
      "outputs": []
    },
    {
      "cell_type": "code",
      "metadata": {
        "id": "NuAy-cU0sY9z"
      },
      "source": [
        ""
      ],
      "execution_count": 43,
      "outputs": []
    }
  ]
}