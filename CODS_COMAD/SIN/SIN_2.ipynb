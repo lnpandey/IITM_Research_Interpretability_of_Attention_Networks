{
  "nbformat": 4,
  "nbformat_minor": 0,
  "metadata": {
    "accelerator": "GPU",
    "colab": {
      "name": "SIN_2.ipynb",
      "provenance": [],
      "collapsed_sections": []
    },
    "kernelspec": {
      "display_name": "Python 3",
      "name": "python3"
    },
    "language_info": {
      "codemirror_mode": {
        "name": "ipython",
        "version": 3
      },
      "file_extension": ".py",
      "mimetype": "text/x-python",
      "name": "python",
      "nbconvert_exporter": "python",
      "pygments_lexer": "ipython3",
      "version": "3.7.4"
    }
  },
  "cells": [
    {
      "cell_type": "code",
      "metadata": {
        "id": "IeTl5GZz7dAx"
      },
      "source": [
        "import numpy as np\n",
        "import pandas as pd\n",
        "from matplotlib import pyplot as plt\n",
        "from tqdm import tqdm as tqdm\n",
        "\n",
        "%matplotlib inline\n",
        "\n",
        "import torch\n",
        "import torchvision\n",
        "\n",
        "import torchvision.transforms as transforms\n",
        "import torch.nn as nn\n",
        "import torch.optim as optim\n",
        "import torch.nn.functional as F\n",
        "import random\n",
        "\n",
        "from torch.utils.data import Dataset, DataLoader"
      ],
      "execution_count": 2,
      "outputs": []
    },
    {
      "cell_type": "code",
      "metadata": {
        "id": "ol2iFB_1YUQC"
      },
      "source": [
        "def create_data(n_patch,n_points,true_points,test_data=False,normalize=True,rseed=1234):\n",
        "  '''\n",
        "  Arguments:\n",
        "  n_patch : number of patches (n_patch x n_patch)\n",
        "  n_points : number of points per patch\n",
        "  true_points: number of points for true patch cluster\n",
        "  normalize: if True then return normalized data\n",
        "\n",
        "  '''\n",
        "  np.random.seed(rseed)\n",
        "  x_min = 0\n",
        "  x_max = 1\n",
        "\n",
        "  y_min = 0 \n",
        "  y_max = 1\n",
        "  csize = n_points\n",
        "\n",
        "  X = []\n",
        "  Y = []\n",
        "  k = 2 \n",
        "  # 10x10 patch of clusters\n",
        "  for i in range(n_patch):\n",
        "    for j in range(n_patch):\n",
        "      if (i == 3 and j == 0):\n",
        "        #print(x_min,x_max,y_min,y_max)\n",
        "        X.append(np.random.uniform(low=[x_min,y_min],high=[x_max,y_max],size=(true_points,2)))\n",
        "        labels = np.zeros(true_points)\n",
        "        Y.append(labels)\n",
        "      elif (i==3 and j==1):\n",
        "        X.append(np.random.uniform(low=[x_min,y_min],high=[x_max,y_max],size=(true_points,2)))\n",
        "        labels = np.ones(true_points)\n",
        "        Y.append(labels)\n",
        "      else:\n",
        "        X.append(np.random.uniform(low=[x_min,y_min],high=[x_max,y_max],size=(csize,2)))\n",
        "        #labels = np.random.randint(0,2,csize)\n",
        "        labels = np.ones(csize)*int(k)\n",
        "        Y.append(labels)\n",
        "        k = k+1\n",
        "      x_min += 1.5\n",
        "      x_max += 1.5\n",
        "    x_min = 0\n",
        "    x_max = 1\n",
        "    y_min += 1.5\n",
        "    y_max += 1.5\n",
        "  X = np.concatenate(X,axis=0)\n",
        "  Y = np.concatenate(Y,axis=0)\n",
        "\n",
        "  \n",
        "\n",
        "\n",
        "\n",
        "  if normalize ==True:\n",
        "    X = ( X - np.mean(X,axis =0 ) ) / np.std(X)\n",
        "  idx = np.logical_or(Y==0,Y==1)\n",
        "  print(\"no of corrupted data points\",sum(~idx))\n",
        "\n",
        "  n_pts =  ( len(idx) - sum(idx) )// 2 \n",
        "\n",
        "  index = np.where(idx==False)[0]\n",
        "  #print(\"before shuffle\",index)\n",
        "  np.random.seed(rseed)\n",
        "  np.random.shuffle(index)\n",
        "  #print(\"after shuffle\",index) \n",
        "  Y[index[:n_pts]] = np.ones(n_pts)\n",
        "  Y[index[n_pts:] ]= np.zeros(n_pts)\n",
        "\n",
        "  if test_data ==True:\n",
        "    X = X[idx]\n",
        "    Y = Y[idx]\n",
        "    idx = np.logical_or(Y==0,Y==1)\n",
        "\n",
        "  #print(\"abcd\",sum(idx), len(X))\n",
        "  return X,Y,idx\n",
        "\n",
        "\n"
      ],
      "execution_count": 24,
      "outputs": []
    },
    {
      "cell_type": "code",
      "metadata": {
        "id": "MuDuqKzi7dBt"
      },
      "source": [
        "class Grid_data(Dataset):\n",
        "    def __init__(self,x,y):\n",
        "        self.x = torch.Tensor(x)\n",
        "        self.y = torch.Tensor(y).type(torch.LongTensor)\n",
        "    \n",
        "    def __len__(self):\n",
        "        \n",
        "        return len(self.x)\n",
        "    \n",
        "    \n",
        "    def __getitem__(self,idx):\n",
        "        self.xdata = self.x[idx,:]\n",
        "        self.ydata = self.y[idx]\n",
        "\n",
        "\n",
        "        return self.xdata, self.ydata\n",
        "        "
      ],
      "execution_count": 4,
      "outputs": []
    },
    {
      "cell_type": "code",
      "metadata": {
        "id": "eINcPHl87dCA"
      },
      "source": [
        "class Net(nn.Module):\n",
        "    def __init__(self):\n",
        "        super(Net,self).__init__()\n",
        "        \n",
        "        self.linear1 = nn.Linear(2,64)\n",
        "        self.linear2 = nn.Linear(64,2)\n",
        "        \n",
        "    def forward(self,x):\n",
        "  \n",
        "        x = F.relu(self.linear1(x))\n",
        "        x = self.linear2(x)\n",
        "        \n",
        "        \n",
        "        return x"
      ],
      "execution_count": 5,
      "outputs": []
    },
    {
      "cell_type": "code",
      "metadata": {
        "id": "sV4LeKuW7dCU"
      },
      "source": [
        "def calculate_accuracy(trainloader,model,idx):\n",
        "  correct = 0\n",
        "  total = 0\n",
        "  out = []\n",
        "  pred = []\n",
        "  true_data = sum(idx)\n",
        "  corruption_size = len(idx)\n",
        "  with torch.no_grad():\n",
        "      for data in trainloader:\n",
        "          images, labels = data\n",
        "          images, labels = images.to(\"cuda\"), labels.to(\"cuda\")\n",
        "          out.append(labels.cpu().numpy())\n",
        "          outputs = model(images)\n",
        "          \n",
        "          _, predicted = torch.max(outputs.data, 1)\n",
        "          pred.append(predicted.cpu().numpy())\n",
        "          total += labels.size(0)\n",
        "          correct += (predicted == labels).sum().item()\n",
        "\n",
        "  print('Accuracy of the network on the %d images: %d %%' % (true_data+corruption_size, 100 * correct / total))\n",
        "  train_acc = 100 * correct / total\n",
        "\n",
        "  out = np.concatenate(out,axis=0)\n",
        "  pred = np.concatenate(pred,axis=0)\n",
        "\n",
        "  print(\"Accuracy on non corrupt data\",sum(pred[idx] == out[idx] ) /sum(idx))\n",
        "  # return true data accuracy\n",
        "  return sum(pred[idx] == out[idx] ) /sum(idx)\n"
      ],
      "execution_count": 6,
      "outputs": []
    },
    {
      "cell_type": "code",
      "metadata": {
        "id": "--AqzJs77dCn"
      },
      "source": [
        "def plot_decision_boundary(model,X,Y,fname=\"db\"):\n",
        "  X_axis,Y_axis = np.meshgrid(np.arange(-2,2,0.01),np.arange(-2,2,0.01))\n",
        "  X_mesh = np.concatenate( (X_axis.reshape((-1,1)), Y_axis.reshape(-1,1)), axis=1 )\n",
        "  Y_mesh = np.zeros(X_mesh.shape[0])\n",
        "\n",
        "\n",
        "  mesh_set = Grid_data(X_mesh,Y_mesh)\n",
        "  meshloader = DataLoader(mesh_set,batch_size=1000,shuffle=False)\n",
        "\n",
        "\n",
        "  total = 0\n",
        "  mesh_pred = []\n",
        "  with torch.no_grad():\n",
        "      for data in meshloader:\n",
        "          images, _ = data\n",
        "          images = images.to(\"cuda\")\n",
        "          outputs = model(images)\n",
        "          \n",
        "          _, predicted = torch.max(outputs.data, 1)\n",
        "          mesh_pred.append(predicted.cpu().numpy())\n",
        "          #total += labels.size(0)\n",
        "  #print(\"finished\")\n",
        "\n",
        "  mesh_pred = np.concatenate(mesh_pred,axis=0)\n",
        "  \n",
        "   \n",
        "\n",
        "\n",
        "  # plot decision boundary along with given data\n",
        "  plt.figure(figsize = (6,5))\n",
        "  plt.contourf(X_mesh[:,0].reshape(X_axis.shape),X_mesh[:,1].reshape(Y_axis.shape),mesh_pred.reshape(X_axis.shape),alpha=0.2)\n",
        "  plt.scatter(X[Y==1,0], X[Y==1,1] ,c=\"red\",s =20,alpha=0.5)\n",
        "  plt.scatter(X[Y==0,0], X[Y==0,1],c= \"black\",s=20,alpha=0.5 )\n",
        "  plt.xlabel(\"X1\")\n",
        "  plt.ylabel(\"X2\")\n",
        "  #plt.savefig(fname+\".pdf\")\n",
        "  #plt.savefig(fname+\".png\")\n"
      ],
      "execution_count": 7,
      "outputs": []
    },
    {
      "cell_type": "code",
      "metadata": {
        "id": "Wq58U7UVc-cT"
      },
      "source": [
        "def train_model(model,optimizer,criterion,trainloader,testloader,train_index,test_index,epochs_nos=100):\n",
        "  \"\"\"\n",
        "     Returns trained model and test_true_data accuaracy \n",
        "\n",
        "  \"\"\"\n",
        "  \n",
        "  loss_curi = []\n",
        "  #epochs_nos= 200\n",
        "  for epoch in range(epochs_nos): # loop over the dataset multiple times\n",
        "      ep_lossi = []\n",
        "      \n",
        "      running_loss = 0.0\n",
        "      for j, data in enumerate(trainloader, 0):\n",
        "          # get the inputs\n",
        "          inputs, labels = data\n",
        "          inputs, labels = inputs.to(\"cuda\"),labels.to(\"cuda\")\n",
        "\n",
        "          # zero the parameter gradients\n",
        "          optimizer.zero_grad()\n",
        "\n",
        "          # forward + backward + optimize\n",
        "          outputs = model(inputs)\n",
        "          loss = criterion(outputs, labels)\n",
        "          loss.backward()\n",
        "          optimizer.step()\n",
        "\n",
        "          # print statistics\n",
        "          running_loss += loss.item()\n",
        "          mini = 35\n",
        "          if j % mini == mini-1:    # print every mini mini-batches\n",
        "              print('[%d, %5d] loss: %.3f' %\n",
        "                    (epoch + 1, j + 1, running_loss/mini ))\n",
        "              ep_lossi.append(running_loss/mini) # loss per minibatch\n",
        "              running_loss = 0.0\n",
        "      #if(np.mean(ep_lossi)<= 0.05):\n",
        "      #  epochs_nos = epoch\n",
        "      #  break        \n",
        "      loss_curi.append(np.mean(ep_lossi))   #loss per epoch  \n",
        "  print('Finished Training')\n",
        "  print(\"Overall accuracy\" )\n",
        "  train_true_acc = calculate_accuracy(trainloader,model,train_index)\n",
        "  test_true_acc = calculate_accuracy(testloader,model,test_index)\n",
        "  #true_data_acc.append(non_corrupt_acc)\n",
        "\n",
        "  plt.figure(figsize=(6,6))\n",
        "  plt.plot(loss_curi)        \n",
        "  plt.xlabel(\"epochs\")\n",
        "  plt.ylabel(\"training loss\")  \n",
        "  print(\"*\"*50)\n",
        "\n",
        "  return model, train_true_acc, test_true_acc"
      ],
      "execution_count": 8,
      "outputs": []
    },
    {
      "cell_type": "code",
      "metadata": {
        "id": "IAQd6cbclEkj"
      },
      "source": [
        "random_seeds = [1234,1235,1236,1237,1238]\n",
        "accuracy_train_every_run = []\n",
        "accuracy_test_every_run = []\n",
        "for k in random_seeds:\n",
        "  train_data_acc = []\n",
        "  test_data_acc = []\n",
        "  true_data_list = [0,1,2,3,4,5,6,7,8,9,10,15,20,25,30]\n",
        "  for i in true_data_list:\n",
        "    print(\"True data points for two clusters are \", 2*i)\n",
        "    X_train,Y_train,train_index = create_data(7,30,i,normalize=True,rseed=1234)\n",
        "    print(\"unique classes in Y_train\",np.unique(Y_train))\n",
        "\n",
        "    X_test,Y_test,test_index = create_data(7,100,100,test_data=True,normalize=True,rseed=1235)\n",
        "    \n",
        "    \n",
        "    # scatter plot the given data\n",
        "    plt.figure(figsize=(6,6))\n",
        "    plt.scatter(X_train[Y_train==0,0],X_train[Y_train==0,1],label = \"class_0\")\n",
        "    plt.scatter(X_train[Y_train==1,0],X_train[Y_train==1,1],label = \"class_1\")\n",
        "\n",
        "    # # scatter plot the given data\n",
        "    # plt.figure(figsize=(6,6))\n",
        "    # plt.scatter(X_test[Y_test==0,0],X_test[Y_test==0,1],label = \"class_0\")\n",
        "    # plt.scatter(X_test[Y_test==1,0],X_test[Y_test==1,1],label = \"class_1\")\n",
        "    # plt.title(\"Test_data\")\n",
        "    # break\n",
        "\n",
        "\n",
        "    # create dataloader and dataset\n",
        "    trainset = Grid_data(X_train,Y_train)\n",
        "    trainloader = DataLoader(trainset,batch_size=30,shuffle = False)\n",
        "\n",
        "    testset = Grid_data(X_test,Y_test)\n",
        "    testloader = DataLoader(testset,batch_size=200,shuffle = False)\n",
        "\n",
        "\n",
        "    # network instantiation\n",
        "    torch.random.manual_seed(k)\n",
        "    net = Net()\n",
        "    # net(inputs)\n",
        "    net = net.to(\"cuda\")\n",
        "\n",
        "\n",
        "    # define cross entropy loss and optimizer\n",
        "    criterion = nn.CrossEntropyLoss()\n",
        "    lr=0.001\n",
        "    optimizer = optim.Adam(net.parameters(), lr)#, momentum=0.9)\n",
        "    #optimizer = optim.SGD(net.parameters(), lr, momentum=0.9)\n",
        "    net, train_true_acc, test_true_acc= train_model(net,optimizer,criterion,trainloader,testloader,train_index,test_index,epochs_nos=200)\n",
        "    plot_decision_boundary(net,X_train,Y_train,fname=\"simple_train_db\")\n",
        "\n",
        "    train_data_acc.append(train_true_acc)\n",
        "    test_data_acc.append(test_true_acc)\n",
        "  accuracy_train_every_run.append(train_data_acc)\n",
        "  accuracy_test_every_run.append(test_data_acc)\n"
      ],
      "execution_count": null,
      "outputs": []
    },
    {
      "cell_type": "code",
      "metadata": {
        "id": "Rkqzwvmt05_y"
      },
      "source": [
        "data = {\"train\":accuracy_train_every_run,\"test\":accuracy_test_every_run}\n",
        "np.save(\"net_5runs_30_64_1.npy\",data)"
      ],
      "execution_count": 26,
      "outputs": []
    },
    {
      "cell_type": "code",
      "metadata": {
        "colab": {
          "base_uri": "https://localhost:8080/"
        },
        "id": "QyreWiri6IVG",
        "outputId": "c58d132a-3512-4274-9cbf-81373d205f22"
      },
      "source": [
        "len(accuracy_train_every_run),len(accuracy_train_every_run[0]),np.mean(accuracy_train_every_run,axis=0),np.std(accuracy_train_every_run,axis=0)\n"
      ],
      "execution_count": 27,
      "outputs": [
        {
          "output_type": "execute_result",
          "data": {
            "text/plain": [
              "(5, 15, array([       nan, 0.6       , 0.7       , 0.9       , 0.9       ,\n",
              "        0.96      , 0.83333333, 0.94285714, 0.975     , 0.97777778,\n",
              "        1.        , 0.99333333, 1.        , 1.        , 1.        ]), array([       nan, 0.2       , 0.1       , 0.13333333, 0.2       ,\n",
              "        0.04898979, 0.13944334, 0.06998542, 0.05      , 0.04444444,\n",
              "        0.        , 0.01333333, 0.        , 0.        , 0.        ]))"
            ]
          },
          "metadata": {
            "tags": []
          },
          "execution_count": 27
        }
      ]
    },
    {
      "cell_type": "code",
      "metadata": {
        "colab": {
          "base_uri": "https://localhost:8080/",
          "height": 299
        },
        "id": "--8bqwKBOXr2",
        "outputId": "0106971d-0e4c-4487-f810-47b8b7088eeb"
      },
      "source": [
        "mean = np.mean(accuracy_train_every_run, axis=0)\n",
        "standard_dev = np.std(accuracy_train_every_run, axis=0)\n",
        "plt.plot(true_data_list[1:],mean[1:],marker=\"x\")\n",
        "plt.fill_between(true_data_list[1:], mean[1:]-standard_dev[1:], mean[1:]+standard_dev[1:], alpha = 0.5,color=\"orange\")\n",
        "\n",
        "plt.grid()\n",
        "plt.legend()"
      ],
      "execution_count": 28,
      "outputs": [
        {
          "output_type": "stream",
          "text": [
            "No handles with labels found to put in legend.\n"
          ],
          "name": "stderr"
        },
        {
          "output_type": "execute_result",
          "data": {
            "text/plain": [
              "<matplotlib.legend.Legend at 0x7fa311d35590>"
            ]
          },
          "metadata": {
            "tags": []
          },
          "execution_count": 28
        },
        {
          "output_type": "display_data",
          "data": {
            "image/png": "[encoded data removed]",
            "text/plain": [
              "<Figure size 432x288 with 1 Axes>"
            ]
          },
          "metadata": {
            "tags": [],
            "needs_background": "light"
          }
        }
      ]
    },
    {
      "cell_type": "code",
      "metadata": {
        "colab": {
          "base_uri": "https://localhost:8080/"
        },
        "id": "6PWZz-VNH8oF",
        "outputId": "26e8d700-1d1e-42f2-dcd6-877d4a90328f"
      },
      "source": [
        "len(accuracy_test_every_run),len(accuracy_test_every_run[0]),np.mean(accuracy_test_every_run,axis=0),np.std(accuracy_test_every_run,axis=0)\n"
      ],
      "execution_count": 29,
      "outputs": [
        {
          "output_type": "execute_result",
          "data": {
            "text/plain": [
              "(5, 15, array([0.568, 0.557, 0.657, 0.864, 0.9  , 0.89 , 0.792, 0.901, 0.943,\n",
              "        0.921, 0.968, 0.965, 1.   , 1.   , 1.   ]), array([0.09102747, 0.10906879, 0.12932904, 0.13249151, 0.15430489,\n",
              "        0.09549869, 0.12520383, 0.07787169, 0.0776917 , 0.08569714,\n",
              "        0.02925748, 0.04626013, 0.        , 0.        , 0.        ]))"
            ]
          },
          "metadata": {
            "tags": []
          },
          "execution_count": 29
        }
      ]
    },
    {
      "cell_type": "code",
      "metadata": {
        "id": "XoAQC-1laBHh",
        "colab": {
          "base_uri": "https://localhost:8080/",
          "height": 299
        },
        "outputId": "f872666e-bb6f-4d08-98f6-465adcc0852d"
      },
      "source": [
        "mean = np.mean(accuracy_test_every_run, axis=0)\n",
        "standard_dev = np.std(accuracy_test_every_run, axis=0)\n",
        "plt.plot(true_data_list,mean,marker=\"x\")\n",
        "plt.fill_between(true_data_list, mean-standard_dev, mean+standard_dev, alpha = 0.5,color=\"orange\")\n",
        "\n",
        "plt.grid()\n",
        "plt.legend()"
      ],
      "execution_count": 31,
      "outputs": [
        {
          "output_type": "stream",
          "text": [
            "No handles with labels found to put in legend.\n"
          ],
          "name": "stderr"
        },
        {
          "output_type": "execute_result",
          "data": {
            "text/plain": [
              "<matplotlib.legend.Legend at 0x7fa30db730d0>"
            ]
          },
          "metadata": {
            "tags": []
          },
          "execution_count": 31
        },
        {
          "output_type": "display_data",
          "data": {
            "image/png": "[encoded data removed]",
            "text/plain": [
              "<Figure size 432x288 with 1 Axes>"
            ]
          },
          "metadata": {
            "tags": [],
            "needs_background": "light"
          }
        }
      ]
    },
    {
      "cell_type": "code",
      "metadata": {
        "id": "0Fg0KIzNh3RY"
      },
      "source": [
        "class Net1(nn.Module):\n",
        "    def __init__(self):\n",
        "        super(Net1,self).__init__()\n",
        "        \n",
        "        self.linear1 = nn.Linear(2,2)\n",
        "        \n",
        "    def forward(self,x):\n",
        "        x = self.linear1(x)\n",
        "        return x"
      ],
      "execution_count": 32,
      "outputs": []
    },
    {
      "cell_type": "code",
      "metadata": {
        "id": "33zfyP_smClC"
      },
      "source": [
        "random_seeds = [1234,1235,1236,1237,1238]\n",
        "accuracy_train_every_runl = []\n",
        "accuracy_test_every_runl = []\n",
        "for k in random_seeds:\n",
        "  train_data_accl = []\n",
        "  test_data_accl = []\n",
        "  true_data_list = [0,1,2,3,4,5,6,7,8,9,10,15,20,25,30]\n",
        "  for i in true_data_list:\n",
        "    print(\"True data points for two clusters are \", 2*i)\n",
        "    X_train,Y_train,train_index = create_data(7,30,i,normalize=True,rseed=1234)\n",
        "    print(\"unique classes in Y_train\",np.unique(Y_train))\n",
        "\n",
        "    X_test,Y_test,test_index = create_data(7,100,100,test_data=True,normalize=True,rseed=1235)\n",
        "    \n",
        "    \n",
        "    # scatter plot the given data\n",
        "    plt.figure(figsize=(6,6))\n",
        "    plt.scatter(X_train[Y_train==0,0],X_train[Y_train==0,1],label = \"class_0\")\n",
        "    plt.scatter(X_train[Y_train==1,0],X_train[Y_train==1,1],label = \"class_1\")\n",
        "\n",
        "\n",
        "    # create dataloader and dataset\n",
        "    trainset = Grid_data(X_train,Y_train)\n",
        "    trainloader = DataLoader(trainset,batch_size=30,shuffle = False)\n",
        "\n",
        "    testset = Grid_data(X_test,Y_test)\n",
        "    testloader = DataLoader(testset,batch_size=512,shuffle = False)\n",
        "\n",
        "\n",
        "    # network instantiation\n",
        "    torch.random.manual_seed(k)\n",
        "    net = Net1()\n",
        "    # net(inputs)\n",
        "    net = net.to(\"cuda\")\n",
        "\n",
        "\n",
        "    # define cross entropy loss and optimizer\n",
        "    criterion = nn.CrossEntropyLoss()\n",
        "    lr=0.001\n",
        "    optimizer = optim.Adam(net.parameters(), lr)#, momentum=0.9)\n",
        "\n",
        "    net, train_true_acc, test_true_acc= train_model(net,optimizer,criterion,trainloader,testloader,train_index,test_index,epochs_nos=200)\n",
        "    plot_decision_boundary(net,X_train,Y_train,fname=\"linear_train_db\")\n",
        "\n",
        "    train_data_accl.append(train_true_acc)\n",
        "    test_data_accl.append(test_true_acc)\n",
        "  accuracy_train_every_runl.append(train_data_accl)\n",
        "  accuracy_test_every_runl.append(test_data_accl)\n"
      ],
      "execution_count": null,
      "outputs": []
    },
    {
      "cell_type": "code",
      "metadata": {
        "id": "O75tW-LM4AF0"
      },
      "source": [
        "data = {\"train\":accuracy_train_every_runl,\"test\":accuracy_test_every_runl}\n",
        "np.save(\"net_5runs_30_linear_1.npy\",data)"
      ],
      "execution_count": 34,
      "outputs": []
    },
    {
      "cell_type": "code",
      "metadata": {
        "id": "Ic5z0Z3r3_yL",
        "colab": {
          "base_uri": "https://localhost:8080/"
        },
        "outputId": "0566b7c3-05b0-4a6d-e216-bbac958debbe"
      },
      "source": [
        "len(accuracy_train_every_runl),len(accuracy_train_every_runl[0]),np.mean(accuracy_train_every_runl,axis=0),np.std(accuracy_train_every_runl,axis=0)\n"
      ],
      "execution_count": 35,
      "outputs": [
        {
          "output_type": "execute_result",
          "data": {
            "text/plain": [
              "(5, 15, array([nan, 0.5, 0.5, 0.5, 0.5, 0.5, 0.5, 0.5, 0.5, 0.5, 0.5, 0.5, 0.5,\n",
              "        0.5, 0.5]), array([nan,  0.,  0.,  0.,  0.,  0.,  0.,  0.,  0.,  0.,  0.,  0.,  0.,\n",
              "         0.,  0.]))"
            ]
          },
          "metadata": {
            "tags": []
          },
          "execution_count": 35
        }
      ]
    },
    {
      "cell_type": "code",
      "metadata": {
        "id": "v8LCwRWg3-vq",
        "colab": {
          "base_uri": "https://localhost:8080/",
          "height": 299
        },
        "outputId": "3da6ccf0-9713-48c9-c9a9-d811d46a3c7c"
      },
      "source": [
        "mean = np.mean(accuracy_train_every_runl, axis=0)\n",
        "standard_dev = np.std(accuracy_train_every_runl, axis=0)\n",
        "plt.plot(true_data_list[1:],mean[1:],marker=\"x\")\n",
        "plt.fill_between(true_data_list[1:], mean[1:]-standard_dev[1:], mean[1:]+standard_dev[1:], alpha = 0.5,color=\"orange\")\n",
        "\n",
        "plt.grid()\n",
        "plt.legend()"
      ],
      "execution_count": 36,
      "outputs": [
        {
          "output_type": "stream",
          "text": [
            "No handles with labels found to put in legend.\n"
          ],
          "name": "stderr"
        },
        {
          "output_type": "execute_result",
          "data": {
            "text/plain": [
              "<matplotlib.legend.Legend at 0x7fa30f618590>"
            ]
          },
          "metadata": {
            "tags": []
          },
          "execution_count": 36
        },
        {
          "output_type": "display_data",
          "data": {
            "image/png": "[encoded data removed]",
            "text/plain": [
              "<Figure size 432x288 with 1 Axes>"
            ]
          },
          "metadata": {
            "tags": [],
            "needs_background": "light"
          }
        }
      ]
    },
    {
      "cell_type": "code",
      "metadata": {
        "colab": {
          "base_uri": "https://localhost:8080/"
        },
        "id": "xL-sFwu8Jqqx",
        "outputId": "a4f815ba-2467-40ea-d7f0-d79e51b4e533"
      },
      "source": [
        "len(accuracy_test_every_runl),len(accuracy_test_every_runl[0]),np.mean(accuracy_test_every_runl,axis=0),np.std(accuracy_test_every_runl,axis=0)\n"
      ],
      "execution_count": 37,
      "outputs": [
        {
          "output_type": "execute_result",
          "data": {
            "text/plain": [
              "(5, 15, array([0.5, 0.5, 0.5, 0.5, 0.5, 0.5, 0.5, 0.5, 0.5, 0.5, 0.5, 0.5, 0.5,\n",
              "        0.5, 0.5]), array([0., 0., 0., 0., 0., 0., 0., 0., 0., 0., 0., 0., 0., 0., 0.]))"
            ]
          },
          "metadata": {
            "tags": []
          },
          "execution_count": 37
        }
      ]
    },
    {
      "cell_type": "code",
      "metadata": {
        "colab": {
          "base_uri": "https://localhost:8080/",
          "height": 299
        },
        "id": "pQTFQ6rmJqVZ",
        "outputId": "9b56cb25-65b5-49e1-8dec-97b3e07cdbfb"
      },
      "source": [
        "mean = np.mean(accuracy_test_every_runl, axis=0)\n",
        "standard_dev = np.std(accuracy_test_every_runl, axis=0)\n",
        "plt.plot(true_data_list,mean,marker=\"x\")\n",
        "plt.fill_between(true_data_list, mean-standard_dev, mean+standard_dev, alpha = 0.5,color=\"orange\")\n",
        "\n",
        "plt.grid()\n",
        "plt.legend()"
      ],
      "execution_count": 38,
      "outputs": [
        {
          "output_type": "stream",
          "text": [
            "No handles with labels found to put in legend.\n"
          ],
          "name": "stderr"
        },
        {
          "output_type": "execute_result",
          "data": {
            "text/plain": [
              "<matplotlib.legend.Legend at 0x7fa30f071090>"
            ]
          },
          "metadata": {
            "tags": []
          },
          "execution_count": 38
        },
        {
          "output_type": "display_data",
          "data": {
            "image/png": "[encoded data removed]",
            "text/plain": [
              "<Figure size 432x288 with 1 Axes>"
            ]
          },
          "metadata": {
            "tags": [],
            "needs_background": "light"
          }
        }
      ]
    },
    {
      "cell_type": "code",
      "metadata": {
        "id": "DDwp0yDkJp3Q"
      },
      "source": [
        ""
      ],
      "execution_count": null,
      "outputs": []
    },
    {
      "cell_type": "code",
      "metadata": {
        "id": "CZ5r6jpCJy_h"
      },
      "source": [
        ""
      ],
      "execution_count": null,
      "outputs": []
    },
    {
      "cell_type": "markdown",
      "metadata": {
        "id": "_0x0A9bF4BEd"
      },
      "source": [
        ""
      ]
    },
    {
      "cell_type": "code",
      "metadata": {
        "id": "-fB_GPWq4CBr"
      },
      "source": [
        "class Net2(nn.Module):\n",
        "    def __init__(self):\n",
        "        super(Net2,self).__init__()\n",
        "        \n",
        "        self.linear1 = nn.Linear(2,10000)\n",
        "        self.linear2 = nn.Linear(10000,2)\n",
        "\n",
        "        \n",
        "    def forward(self,x):\n",
        "        x = F.relu(self.linear1(x))\n",
        "        x = self.linear2(x)\n",
        "        return x"
      ],
      "execution_count": null,
      "outputs": []
    },
    {
      "cell_type": "code",
      "metadata": {
        "id": "b-JOW-vV4XEK"
      },
      "source": [
        "random_seeds = [1234,1235,1236,1237,1238]\n",
        "accuracy_train_every_run_3 = []\n",
        "accuracy_test_every_run_3 = []\n",
        "for k in random_seeds:\n",
        "  train_data_acc_3 = []\n",
        "  test_data_acc_3 = []\n",
        "  true_data_list = [0,1,2,3,4,5,6,7,8,9,10,15,20,25,30]\n",
        "  for i in true_data_list:\n",
        "    print(\"True data points for two clusters are \", 2*i)\n",
        "    X_train,Y_train,train_index = create_data(7,30,i,normalize=True,rseed=1234)\n",
        "    print(\"unique classes in Y_train\",np.unique(Y_train))\n",
        "\n",
        "    X_test,Y_test,test_index = create_data(7,100,100,test_data=True,normalize=True,rseed=1235)\n",
        "    \n",
        "    \n",
        "    # scatter plot the given data\n",
        "    plt.figure(figsize=(6,6))\n",
        "    plt.scatter(X_train[Y_train==0,0],X_train[Y_train==0,1],label = \"class_0\")\n",
        "    plt.scatter(X_train[Y_train==1,0],X_train[Y_train==1,1],label = \"class_1\")\n",
        "\n",
        "\n",
        "    # create dataloader and dataset\n",
        "    trainset = Grid_data(X_train,Y_train)\n",
        "    trainloader = DataLoader(trainset,batch_size=30,shuffle = False)\n",
        "\n",
        "    testset = Grid_data(X_test,Y_test)\n",
        "    testloader = DataLoader(testset,batch_size=512,shuffle = False)\n",
        "\n",
        "\n",
        "    # network instantiation\n",
        "    torch.random.manual_seed(k)\n",
        "    net = Net2()\n",
        "    # net(inputs)\n",
        "    net = net.to(\"cuda\")\n",
        "\n",
        "\n",
        "    # define cross entropy loss and optimizer\n",
        "    criterion = nn.CrossEntropyLoss()\n",
        "    lr=0.00001\n",
        "    optimizer = optim.Adam(net.parameters(), lr)#, momentum=0.9)\n",
        "    net, train_true_acc, test_true_acc= train_model(net,optimizer,criterion,trainloader,testloader,train_index,test_index,epochs_nos=100)\n",
        "    plot_decision_boundary(net,X_train,Y_train)\n",
        "\n",
        "    train_data_acc_3.append(train_true_acc)\n",
        "    test_data_acc_3.append(test_true_acc)\n",
        "  accuracy_train_every_run_3.append(train_data_acc_3)\n",
        "  accuracy_test_every_run_3.append(test_data_acc_3)\n"
      ],
      "execution_count": null,
      "outputs": []
    },
    {
      "cell_type": "code",
      "metadata": {
        "id": "gfnRS0Vz4W7S"
      },
      "source": [
        "data = {\"train\":accuracy_train_every_run_3,\"test\":accuracy_test_every_run_3}\n",
        "np.save(\"net_5runs_30_10000_3.npy\",data)"
      ],
      "execution_count": null,
      "outputs": []
    },
    {
      "cell_type": "code",
      "metadata": {
        "colab": {
          "base_uri": "https://localhost:8080/"
        },
        "id": "J2KLIvZriq4g",
        "outputId": "5068f1f2-78ad-4f28-949a-8e598669b0be"
      },
      "source": [
        "np.mean([1,1,1,0.5,1])"
      ],
      "execution_count": null,
      "outputs": [
        {
          "output_type": "execute_result",
          "data": {
            "text/plain": [
              "0.9"
            ]
          },
          "metadata": {
            "tags": []
          },
          "execution_count": 44
        }
      ]
    },
    {
      "cell_type": "code",
      "metadata": {
        "colab": {
          "base_uri": "https://localhost:8080/"
        },
        "id": "6gOXu29b5Gfg",
        "outputId": "bdceb7d8-ca14-41f9-9c27-74cf232f5346"
      },
      "source": [
        "len(accuracy_train_every_run_3),len(accuracy_train_every_run_3[0]),np.mean(accuracy_train_every_run_3,axis=0),np.std(accuracy_train_every_run_3,axis=0)\n"
      ],
      "execution_count": null,
      "outputs": [
        {
          "output_type": "execute_result",
          "data": {
            "text/plain": [
              "(5, 15, array([       nan, 0.5       , 0.5       , 0.5       , 0.5       ,\n",
              "        0.54      , 0.5       , 0.82857143, 0.7375    , 0.74444444,\n",
              "        0.84      , 0.98666667, 1.        , 1.        , 1.        ]), array([       nan, 0.        , 0.        , 0.        , 0.        ,\n",
              "        0.04898979, 0.        , 0.05714286, 0.1       , 0.10304021,\n",
              "        0.02      , 0.01632993, 0.        , 0.        , 0.        ]))"
            ]
          },
          "metadata": {
            "tags": []
          },
          "execution_count": 60
        }
      ]
    },
    {
      "cell_type": "code",
      "metadata": {
        "colab": {
          "base_uri": "https://localhost:8080/",
          "height": 299
        },
        "id": "_RjJEXgR5GUU",
        "outputId": "dcdf6908-93f8-45bb-e47b-9871f1aa6deb"
      },
      "source": [
        "mean = np.mean(accuracy_train_every_run_3, axis=0)\n",
        "standard_dev = np.std(accuracy_train_every_run_3, axis=0)\n",
        "plt.plot(true_data_list[1:],mean[1:],marker=\"x\")\n",
        "plt.fill_between(true_data_list[1:], mean[1:]-standard_dev[1:], mean[1:]+standard_dev[1:], alpha = 0.5,color=\"orange\")\n",
        "\n",
        "plt.grid()\n",
        "plt.legend()"
      ],
      "execution_count": null,
      "outputs": [
        {
          "output_type": "stream",
          "text": [
            "No handles with labels found to put in legend.\n"
          ],
          "name": "stderr"
        },
        {
          "output_type": "execute_result",
          "data": {
            "text/plain": [
              "<matplotlib.legend.Legend at 0x7f237cb8de50>"
            ]
          },
          "metadata": {
            "tags": []
          },
          "execution_count": 61
        },
        {
          "output_type": "display_data",
          "data": {
            "image/png": "[encoded data removed]",
            "text/plain": [
              "<Figure size 432x288 with 1 Axes>"
            ]
          },
          "metadata": {
            "tags": [],
            "needs_background": "light"
          }
        }
      ]
    },
    {
      "cell_type": "code",
      "metadata": {
        "id": "2EFezQau6QaW",
        "colab": {
          "base_uri": "https://localhost:8080/"
        },
        "outputId": "a291822a-51be-451d-ed09-029fdb13210c"
      },
      "source": [
        "len(accuracy_test_every_run_3),len(accuracy_test_every_run_3[0]),np.mean(accuracy_test_every_run_3,axis=0),np.std(accuracy_test_every_run_3,axis=0)\n"
      ],
      "execution_count": null,
      "outputs": [
        {
          "output_type": "execute_result",
          "data": {
            "text/plain": [
              "(5, 15, array([       nan, 0.5       , 0.5       , 0.53333333, 0.5       ,\n",
              "        0.6       , 0.53333333, 0.78571429, 0.7625    , 0.68888889,\n",
              "        0.76      , 0.90666667, 1.        , 1.        , 1.        ]), array([       nan, 0.        , 0.        , 0.06666667, 0.        ,\n",
              "        0.        , 0.04082483, 0.0451754 , 0.04677072, 0.04444444,\n",
              "        0.04898979, 0.01333333, 0.        , 0.        , 0.        ]))"
            ]
          },
          "metadata": {
            "tags": []
          },
          "execution_count": 62
        }
      ]
    },
    {
      "cell_type": "code",
      "metadata": {
        "id": "z-Q0a6f0DoJI",
        "colab": {
          "base_uri": "https://localhost:8080/",
          "height": 299
        },
        "outputId": "81ba7c33-7c07-40da-cb08-0597c306edb6"
      },
      "source": [
        "mean = np.mean(accuracy_test_every_run_3, axis=0)\n",
        "standard_dev = np.std(accuracy_test_every_run_3, axis=0)\n",
        "plt.plot(true_data_list,mean,marker=\"x\")\n",
        "plt.fill_between(true_data_list, mean-standard_dev, mean+standard_dev, alpha = 0.5,color=\"orange\")\n",
        "\n",
        "plt.grid()\n",
        "plt.legend()"
      ],
      "execution_count": null,
      "outputs": [
        {
          "output_type": "stream",
          "text": [
            "No handles with labels found to put in legend.\n"
          ],
          "name": "stderr"
        },
        {
          "output_type": "execute_result",
          "data": {
            "text/plain": [
              "<matplotlib.legend.Legend at 0x7f237acbb690>"
            ]
          },
          "metadata": {
            "tags": []
          },
          "execution_count": 63
        },
        {
          "output_type": "display_data",
          "data": {
            "image/png": "[encoded data removed]",
            "text/plain": [
              "<Figure size 432x288 with 1 Axes>"
            ]
          },
          "metadata": {
            "tags": [],
            "needs_background": "light"
          }
        }
      ]
    },
    {
      "cell_type": "code",
      "metadata": {
        "id": "-tvzKxCiDnyd"
      },
      "source": [
        ""
      ],
      "execution_count": null,
      "outputs": []
    },
    {
      "cell_type": "markdown",
      "metadata": {
        "id": "B0kkV-FmDo0b"
      },
      "source": [
        ""
      ]
    },
    {
      "cell_type": "code",
      "metadata": {
        "id": "swDJ8q4bDppx"
      },
      "source": [
        "class Net3(nn.Module):\n",
        "    def __init__(self):\n",
        "        super(Net3,self).__init__()\n",
        "        \n",
        "        self.linear1 = nn.Linear(2,1000)\n",
        "        self.linear2 = nn.Linear(1000,1000)\n",
        "        self.linear3 = nn.Linear(1000,1000)\n",
        "        self.linear4 = nn.Linear(1000,2)\n",
        "\n",
        "        \n",
        "    def forward(self,x):\n",
        "        x = F.relu(self.linear1(x))\n",
        "        x = F.relu(self.linear2(x))\n",
        "        x = F.relu(self.linear3(x))\n",
        "        x = self.linear4(x)\n",
        "        return x"
      ],
      "execution_count": 39,
      "outputs": []
    },
    {
      "cell_type": "code",
      "metadata": {
        "id": "zJZnJ9DOEArM"
      },
      "source": [
        "random_seeds = [1234,1235,1236,1237,1238]\n",
        "accuracy_train_every_run_4 = []\n",
        "accuracy_test_every_run_4 = []\n",
        "for k in random_seeds:\n",
        "  train_data_acc_4 = []\n",
        "  test_data_acc_4 = []\n",
        "  true_data_list = [0,1,2,3,4,5,6,7,8,9,10,15,20,25,30] #[8]\n",
        "  for i in true_data_list:\n",
        "    print(\"True data points for two clusters are \", 2*i)\n",
        "    X_train,Y_train,train_index = create_data(7,30,i,normalize=True,rseed=1234)\n",
        "    print(\"unique classes in Y_train\",np.unique(Y_train))\n",
        "\n",
        "    X_test,Y_test,test_index = create_data(7,100,100,test_data=True,normalize=True,rseed=1235)\n",
        "    \n",
        "    \n",
        "    # scatter plot the given data\n",
        "    plt.figure(figsize=(6,6))\n",
        "    plt.scatter(X_train[Y_train==0,0],X_train[Y_train==0,1],label = \"class_0\")\n",
        "    plt.scatter(X_train[Y_train==1,0],X_train[Y_train==1,1],label = \"class_1\")\n",
        "\n",
        "\n",
        "    # create dataloader and dataset\n",
        "    trainset = Grid_data(X_train,Y_train)\n",
        "    trainloader = DataLoader(trainset,batch_size=30,shuffle = False)\n",
        "\n",
        "    testset = Grid_data(X_test,Y_test)\n",
        "    testloader = DataLoader(testset,batch_size=512,shuffle = False)\n",
        "\n",
        "\n",
        "    # network instantiation\n",
        "    torch.random.manual_seed(k)\n",
        "    net = Net3()\n",
        "    # net(inputs)\n",
        "    net = net.to(\"cuda\")\n",
        "\n",
        "\n",
        "    # define cross entropy loss and optimizer\n",
        "    criterion = nn.CrossEntropyLoss()\n",
        "    lr=0.0001\n",
        "    optimizer = optim.Adam(net.parameters(), lr)#, momentum=0.9)\n",
        "    net, train_true_acc, test_true_acc= train_model(net,optimizer,criterion,trainloader,testloader,train_index,test_index,epochs_nos=200)\n",
        "    plot_decision_boundary(net,X_train,Y_train,fname=\"complex_train_db\")\n",
        "\n",
        "    train_data_acc_4.append(train_true_acc)\n",
        "    test_data_acc_4.append(test_true_acc)\n",
        "  accuracy_train_every_run_4.append(train_data_acc_4)\n",
        "  accuracy_test_every_run_4.append(test_data_acc_4)\n"
      ],
      "execution_count": null,
      "outputs": []
    },
    {
      "cell_type": "code",
      "metadata": {
        "id": "nkdAWKCGEQjy"
      },
      "source": [
        "data = {\"train\":accuracy_train_every_run_4,\"test\":accuracy_test_every_run_4}\n",
        "np.save(\"net_5runs_30_3_1000_1.npy\",data)"
      ],
      "execution_count": 41,
      "outputs": []
    },
    {
      "cell_type": "code",
      "metadata": {
        "colab": {
          "base_uri": "https://localhost:8080/"
        },
        "id": "G1XGJ8ZiEYMU",
        "outputId": "819de81b-d9ee-4992-8111-b3f3e6f4aa1f"
      },
      "source": [
        "len(accuracy_train_every_run_4),len(accuracy_train_every_run_4[0]),np.mean(accuracy_train_every_run_4,axis=0),np.std(accuracy_train_every_run_4,axis=0)\n"
      ],
      "execution_count": 42,
      "outputs": [
        {
          "output_type": "execute_result",
          "data": {
            "text/plain": [
              "(5, 15, array([       nan, 1.        , 0.95      , 0.93333333, 0.975     ,\n",
              "        1.        , 1.        , 0.91428571, 1.        , 1.        ,\n",
              "        0.98      , 1.        , 1.        , 0.992     , 1.        ]), array([       nan, 0.        , 0.1       , 0.13333333, 0.05      ,\n",
              "        0.        , 0.        , 0.17142857, 0.        , 0.        ,\n",
              "        0.04      , 0.        , 0.        , 0.00979796, 0.        ]))"
            ]
          },
          "metadata": {
            "tags": []
          },
          "execution_count": 42
        }
      ]
    },
    {
      "cell_type": "code",
      "metadata": {
        "colab": {
          "base_uri": "https://localhost:8080/",
          "height": 302
        },
        "id": "547fHWLqEf-O",
        "outputId": "8d1906e7-7dc3-4e85-e62b-ff76f29273a5"
      },
      "source": [
        "mean = np.mean(accuracy_train_every_run_4, axis=0)\n",
        "standard_dev = np.std(accuracy_train_every_run_4, axis=0)\n",
        "plt.plot(true_data_list[1:],mean[1:],marker=\"x\")\n",
        "plt.fill_between(true_data_list[1:], mean[1:]-standard_dev[1:], mean[1:]+standard_dev[1:], alpha = 0.5,color=\"orange\")\n",
        "\n",
        "plt.grid()\n",
        "plt.legend()"
      ],
      "execution_count": 43,
      "outputs": [
        {
          "output_type": "stream",
          "text": [
            "No handles with labels found to put in legend.\n"
          ],
          "name": "stderr"
        },
        {
          "output_type": "execute_result",
          "data": {
            "text/plain": [
              "<matplotlib.legend.Legend at 0x7fa30fc5a0d0>"
            ]
          },
          "metadata": {
            "tags": []
          },
          "execution_count": 43
        },
        {
          "output_type": "display_data",
          "data": {
            "image/png": "[encoded data removed]",
            "text/plain": [
              "<Figure size 432x288 with 1 Axes>"
            ]
          },
          "metadata": {
            "tags": [],
            "needs_background": "light"
          }
        }
      ]
    },
    {
      "cell_type": "code",
      "metadata": {
        "id": "VFnrmmroEikd",
        "colab": {
          "base_uri": "https://localhost:8080/"
        },
        "outputId": "a4853373-9e18-401c-c619-3a7526817e71"
      },
      "source": [
        "len(accuracy_test_every_run_4),len(accuracy_test_every_run_4[0]),np.mean(accuracy_test_every_run_4,axis=0),np.std(accuracy_test_every_run_4,axis=0)\n"
      ],
      "execution_count": 44,
      "outputs": [
        {
          "output_type": "execute_result",
          "data": {
            "text/plain": [
              "(5, 15, array([0.57 , 0.838, 0.92 , 0.97 , 0.973, 0.953, 0.977, 0.931, 0.994,\n",
              "        0.99 , 0.974, 0.993, 0.994, 0.988, 1.   ]), array([0.13367872, 0.09410632, 0.05449771, 0.05282045, 0.00979796,\n",
              "        0.01989975, 0.00509902, 0.07914544, 0.00374166, 0.01140175,\n",
              "        0.04017462, 0.0116619 , 0.00734847, 0.01122497, 0.        ]))"
            ]
          },
          "metadata": {
            "tags": []
          },
          "execution_count": 44
        }
      ]
    },
    {
      "cell_type": "code",
      "metadata": {
        "colab": {
          "base_uri": "https://localhost:8080/",
          "height": 299
        },
        "id": "_KeYMMuylDyW",
        "outputId": "eb1bc674-ec2c-491e-8689-d4e9abf36da8"
      },
      "source": [
        "mean = np.mean(accuracy_test_every_run_4, axis=0)\n",
        "standard_dev = np.std(accuracy_test_every_run_4, axis=0)\n",
        "plt.plot(true_data_list,mean,marker=\"x\")\n",
        "plt.fill_between(true_data_list, mean-standard_dev, mean+standard_dev, alpha = 0.5,color=\"orange\")\n",
        "\n",
        "plt.grid()\n",
        "plt.legend()"
      ],
      "execution_count": 45,
      "outputs": [
        {
          "output_type": "stream",
          "text": [
            "No handles with labels found to put in legend.\n"
          ],
          "name": "stderr"
        },
        {
          "output_type": "execute_result",
          "data": {
            "text/plain": [
              "<matplotlib.legend.Legend at 0x7fa3108d5e50>"
            ]
          },
          "metadata": {
            "tags": []
          },
          "execution_count": 45
        },
        {
          "output_type": "display_data",
          "data": {
            "image/png": "[encoded data removed]",
            "text/plain": [
              "<Figure size 432x288 with 1 Axes>"
            ]
          },
          "metadata": {
            "tags": [],
            "needs_background": "light"
          }
        }
      ]
    },
    {
      "cell_type": "code",
      "metadata": {
        "id": "3EVNSOwjssI_"
      },
      "source": [
        ""
      ],
      "execution_count": null,
      "outputs": []
    }
  ]
}