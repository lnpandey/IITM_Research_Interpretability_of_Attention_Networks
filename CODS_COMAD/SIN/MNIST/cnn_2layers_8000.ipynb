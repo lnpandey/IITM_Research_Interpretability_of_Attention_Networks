{
  "nbformat": 4,
  "nbformat_minor": 0,
  "metadata": {
    "kernelspec": {
      "name": "python3",
      "display_name": "Python 3"
    },
    "language_info": {
      "codemirror_mode": {
        "name": "ipython",
        "version": 3
      },
      "file_extension": ".py",
      "mimetype": "text/x-python",
      "name": "python",
      "nbconvert_exporter": "python",
      "pygments_lexer": "ipython3",
      "version": "3.7.0"
    },
    "colab": {
      "name": "cnn_2layers_500.ipynb",
      "provenance": [],
      "collapsed_sections": []
    },
    "accelerator": "GPU"
  },
  "cells": [
    {
      "cell_type": "code",
      "metadata": {
        "id": "lR-eQfx0acq8"
      },
      "source": [
        "import numpy as np\n",
        "import pandas as pd\n",
        "from matplotlib import pyplot as plt\n",
        "from tqdm import tqdm as tqdm\n",
        "\n",
        "%matplotlib inline\n",
        "\n",
        "import torch\n",
        "import torchvision\n",
        "\n",
        "import torchvision.transforms as transforms\n",
        "import torch.nn as nn\n",
        "import torch.optim as optim\n",
        "import torch.nn.functional as F\n",
        "import random"
      ],
      "execution_count": 298,
      "outputs": []
    },
    {
      "cell_type": "code",
      "metadata": {
        "id": "HxCE5TSmap0T"
      },
      "source": [
        "# from google.colab import drive\n",
        "\n",
        "# drive.mount('/content/drive')"
      ],
      "execution_count": 299,
      "outputs": []
    },
    {
      "cell_type": "code",
      "metadata": {
        "id": "yh4EScpqacrC"
      },
      "source": [
        "transform = transforms.Compose(\n",
        "    [transforms.CenterCrop((28,28)),transforms.ToTensor(),transforms.Normalize([0.5], [0.5])])\n"
      ],
      "execution_count": 300,
      "outputs": []
    },
    {
      "cell_type": "code",
      "metadata": {
        "id": "YoAqFwqpacrH"
      },
      "source": [
        "mnist_trainset = torchvision.datasets.MNIST(root='./data', train=True, download=True, transform=transform)\n",
        "mnist_testset = torchvision.datasets.MNIST(root='./data', train=False, download=True, transform=transform)"
      ],
      "execution_count": 301,
      "outputs": []
    },
    {
      "cell_type": "code",
      "metadata": {
        "id": "56x0FjYZacrM",
        "colab": {
          "base_uri": "https://localhost:8080/"
        },
        "outputId": "fde9be51-590b-4147-f825-72b07f481979"
      },
      "source": [
        "index1 = [np.where(mnist_trainset.targets==0)[0] , np.where(mnist_trainset.targets==1)[0] ]\n",
        "index1 = np.concatenate(index1,axis=0)\n",
        "len(index1) #12665"
      ],
      "execution_count": 302,
      "outputs": [
        {
          "output_type": "execute_result",
          "data": {
            "text/plain": [
              "12665"
            ]
          },
          "metadata": {
            "tags": []
          },
          "execution_count": 302
        }
      ]
    },
    {
      "cell_type": "code",
      "metadata": {
        "id": "QZWNdX-BvxKP",
        "colab": {
          "base_uri": "https://localhost:8080/"
        },
        "outputId": "0e124647-a8ea-4ad1-be0f-c922252010d2"
      },
      "source": [
        "true = 8000\n",
        "total = 47000\n",
        "sin = total-true\n",
        "sin"
      ],
      "execution_count": 303,
      "outputs": [
        {
          "output_type": "execute_result",
          "data": {
            "text/plain": [
              "39000"
            ]
          },
          "metadata": {
            "tags": []
          },
          "execution_count": 303
        }
      ]
    },
    {
      "cell_type": "code",
      "metadata": {
        "id": "D45juO_vINDB"
      },
      "source": [
        "epochs = 300"
      ],
      "execution_count": 304,
      "outputs": []
    },
    {
      "cell_type": "code",
      "metadata": {
        "id": "yQOoEO2meJDv",
        "colab": {
          "base_uri": "https://localhost:8080/"
        },
        "outputId": "8a965c60-1b3c-448d-e7fe-411cec6ed97c"
      },
      "source": [
        "indices = np.random.choice(index1,true)\n",
        "indices.shape"
      ],
      "execution_count": 305,
      "outputs": [
        {
          "output_type": "execute_result",
          "data": {
            "text/plain": [
              "(8000,)"
            ]
          },
          "metadata": {
            "tags": []
          },
          "execution_count": 305
        }
      ]
    },
    {
      "cell_type": "code",
      "metadata": {
        "id": "d_8snSm1acrR",
        "colab": {
          "base_uri": "https://localhost:8080/"
        },
        "outputId": "d234229a-d587-4292-c2a4-ec03b4adab47"
      },
      "source": [
        "index = np.where(np.logical_and(mnist_trainset.targets!=0,mnist_trainset.targets!=1))[0]  #47335\n",
        "index.shape"
      ],
      "execution_count": 306,
      "outputs": [
        {
          "output_type": "execute_result",
          "data": {
            "text/plain": [
              "(47335,)"
            ]
          },
          "metadata": {
            "tags": []
          },
          "execution_count": 306
        }
      ]
    },
    {
      "cell_type": "code",
      "metadata": {
        "id": "ejwWlWXm5pP7"
      },
      "source": [
        "req_index = np.random.choice(index.shape[0], sin, replace=False) \n",
        "# req_index"
      ],
      "execution_count": 307,
      "outputs": []
    },
    {
      "cell_type": "code",
      "metadata": {
        "colab": {
          "base_uri": "https://localhost:8080/"
        },
        "id": "mEg6CPL-6fuj",
        "outputId": "6ee07506-9ded-4897-e483-d760a8719057"
      },
      "source": [
        "index = index[req_index]\n",
        "index.shape"
      ],
      "execution_count": 308,
      "outputs": [
        {
          "output_type": "execute_result",
          "data": {
            "text/plain": [
              "(39000,)"
            ]
          },
          "metadata": {
            "tags": []
          },
          "execution_count": 308
        }
      ]
    },
    {
      "cell_type": "code",
      "metadata": {
        "id": "vYhiSaAnacrW",
        "colab": {
          "base_uri": "https://localhost:8080/"
        },
        "outputId": "2939df15-2ead-4979-f0d4-5fcaf68499c3"
      },
      "source": [
        "values = np.random.choice([0,1],size= sin) \n",
        "print(sum(values ==0),sum(values==1), sum(values ==0) + sum(values==1) )\n"
      ],
      "execution_count": 309,
      "outputs": [
        {
          "output_type": "stream",
          "text": [
            "19590 19410 39000\n"
          ],
          "name": "stdout"
        }
      ]
    },
    {
      "cell_type": "code",
      "metadata": {
        "id": "uLuqrhO1hRR6"
      },
      "source": [
        "mnist_trainset.data = torch.cat((mnist_trainset.data[indices],mnist_trainset.data[index]))\n",
        "mnist_trainset.targets = torch.cat((mnist_trainset.targets[indices],torch.Tensor(values).type(torch.LongTensor)))"
      ],
      "execution_count": 310,
      "outputs": []
    },
    {
      "cell_type": "code",
      "metadata": {
        "colab": {
          "base_uri": "https://localhost:8080/"
        },
        "id": "43UoqeUI4hIV",
        "outputId": "b5446cb5-aefb-4eee-ef32-18620d556733"
      },
      "source": [
        "mnist_trainset.targets.shape, mnist_trainset.data.shape"
      ],
      "execution_count": 311,
      "outputs": [
        {
          "output_type": "execute_result",
          "data": {
            "text/plain": [
              "(torch.Size([47000]), torch.Size([47000, 28, 28]))"
            ]
          },
          "metadata": {
            "tags": []
          },
          "execution_count": 311
        }
      ]
    },
    {
      "cell_type": "code",
      "metadata": {
        "id": "iczET1tohOsL",
        "colab": {
          "base_uri": "https://localhost:8080/",
          "height": 283
        },
        "outputId": "4aae4919-92e6-4b32-9799-fa82de83840e"
      },
      "source": [
        "# mnist_trainset.targets[index] = torch.Tensor(values).type(torch.LongTensor)\n",
        "j =20078     # Without Shuffle upto True Training numbers correct , after that corrupted\n",
        "print(plt.imshow(mnist_trainset.data[j]),mnist_trainset.targets[j])"
      ],
      "execution_count": 312,
      "outputs": [
        {
          "output_type": "stream",
          "text": [
            "AxesImage(54,36;334.8x217.44) tensor(0)\n"
          ],
          "name": "stdout"
        },
        {
          "output_type": "display_data",
          "data": {
            "image/png": "[encoded data removed]",
            "text/plain": [
              "<Figure size 432x288 with 1 Axes>"
            ]
          },
          "metadata": {
            "tags": [],
            "needs_background": "light"
          }
        }
      ]
    },
    {
      "cell_type": "code",
      "metadata": {
        "id": "U8WPVHnPacrd"
      },
      "source": [
        "trainloader = torch.utils.data.DataLoader(mnist_trainset, batch_size=250,shuffle=True, num_workers=2)"
      ],
      "execution_count": 313,
      "outputs": []
    },
    {
      "cell_type": "code",
      "metadata": {
        "id": "7L7ocAcracri"
      },
      "source": [
        "testloader = torch.utils.data.DataLoader(mnist_testset, batch_size=250,shuffle=False, num_workers=2)"
      ],
      "execution_count": 314,
      "outputs": []
    },
    {
      "cell_type": "code",
      "metadata": {
        "colab": {
          "base_uri": "https://localhost:8080/"
        },
        "id": "ULbHmoX-5QRM",
        "outputId": "dae99e24-2ae2-4964-9811-247a2c98a288"
      },
      "source": [
        "mnist_trainset.data.shape"
      ],
      "execution_count": 315,
      "outputs": [
        {
          "output_type": "execute_result",
          "data": {
            "text/plain": [
              "torch.Size([47000, 28, 28])"
            ]
          },
          "metadata": {
            "tags": []
          },
          "execution_count": 315
        }
      ]
    },
    {
      "cell_type": "code",
      "metadata": {
        "id": "pdhAr2p6acrm"
      },
      "source": [
        "classes = ('zero', 'one')"
      ],
      "execution_count": 316,
      "outputs": []
    },
    {
      "cell_type": "code",
      "metadata": {
        "id": "jhUOj6Tnacrr"
      },
      "source": [
        "dataiter = iter(trainloader)\n",
        "images, labels = dataiter.next()"
      ],
      "execution_count": 317,
      "outputs": []
    },
    {
      "cell_type": "code",
      "metadata": {
        "id": "vVgW5hBkacrv",
        "colab": {
          "base_uri": "https://localhost:8080/"
        },
        "outputId": "9bedecf6-2017-4047-ef3b-db54183cee75"
      },
      "source": [
        "images[:4].shape"
      ],
      "execution_count": 318,
      "outputs": [
        {
          "output_type": "execute_result",
          "data": {
            "text/plain": [
              "torch.Size([4, 1, 28, 28])"
            ]
          },
          "metadata": {
            "tags": []
          },
          "execution_count": 318
        }
      ]
    },
    {
      "cell_type": "code",
      "metadata": {
        "id": "nUtA80KCacr1"
      },
      "source": [
        "def imshow(img):\n",
        "    img = img / 2 + 0.5     # unnormalize\n",
        "    npimg = img.numpy()\n",
        "    plt.imshow(np.transpose(npimg, (1, 2, 0)))\n",
        "    plt.show()"
      ],
      "execution_count": 319,
      "outputs": []
    },
    {
      "cell_type": "code",
      "metadata": {
        "id": "Xv34FfAdacr5",
        "colab": {
          "base_uri": "https://localhost:8080/",
          "height": 155
        },
        "outputId": "b0d3c742-d68a-493d-ef4e-df575b6d6e57"
      },
      "source": [
        "imshow(torchvision.utils.make_grid(images[:10]))\n",
        "print('GroundTruth: ', ' '.join('%5s' % classes[labels[j]] for j in range(10)))"
      ],
      "execution_count": 320,
      "outputs": [
        {
          "output_type": "display_data",
          "data": {
            "image/png": "[encoded data removed]",
            "text/plain": [
              "<Figure size 432x288 with 1 Axes>"
            ]
          },
          "metadata": {
            "tags": [],
            "needs_background": "light"
          }
        },
        {
          "output_type": "stream",
          "text": [
            "GroundTruth:    one  zero   one   one   one   one   one   one  zero   one\n"
          ],
          "name": "stdout"
        }
      ]
    },
    {
      "cell_type": "code",
      "metadata": {
        "id": "Ss-jhHRIacr-"
      },
      "source": [
        "class Module2(nn.Module):\n",
        "  def __init__(self):\n",
        "    super(Module2, self).__init__()\n",
        "    self.conv1 = nn.Conv2d(1, 6, 5)\n",
        "    self.pool = nn.MaxPool2d(2, 2)\n",
        "    self.conv2 = nn.Conv2d(6, 16, 5)\n",
        "    self.fc1 = nn.Linear(16 * 4 * 4, 128)\n",
        "    self.fc2 = nn.Linear(128, 64)\n",
        "    self.fc3 = nn.Linear(64, 10)\n",
        "    self.fc4 = nn.Linear(10,2)\n",
        "\n",
        "  def forward(self,z):  \n",
        "    y1 = self.pool(F.relu(self.conv1(z)))\n",
        "    y1 = self.pool(F.relu(self.conv2(y1)))\n",
        "    # print(y1.shape)\n",
        "    y1 = y1.view(-1, 16 * 4 * 4)\n",
        "\n",
        "    y1 = F.relu(self.fc1(y1))\n",
        "    y1 = F.relu(self.fc2(y1))\n",
        "    y1 = F.relu(self.fc3(y1))\n",
        "    y1 = self.fc4(y1)\n",
        "    return y1 "
      ],
      "execution_count": 321,
      "outputs": []
    },
    {
      "cell_type": "code",
      "metadata": {
        "id": "rByxqKdOacsM"
      },
      "source": [
        "inc = Module2()\n",
        "inc = inc.to(\"cuda\")"
      ],
      "execution_count": 322,
      "outputs": []
    },
    {
      "cell_type": "code",
      "metadata": {
        "id": "imWjagA2acsO"
      },
      "source": [
        "criterion_inception = nn.CrossEntropyLoss()\n",
        "optimizer_inception = optim.SGD(inc.parameters(), lr=0.01, momentum=0.9)"
      ],
      "execution_count": 323,
      "outputs": []
    },
    {
      "cell_type": "code",
      "metadata": {
        "id": "r5mCNr38acsR",
        "colab": {
          "base_uri": "https://localhost:8080/"
        },
        "outputId": "cd7fa5cb-3ef3-448b-dd49-1d4387e537c9"
      },
      "source": [
        "acti = []\n",
        "loss_curi = []\n",
        "for epoch in range(epochs): # loop over the dataset multiple times\n",
        "    ep_lossi = []\n",
        "\n",
        "    running_loss = 0.0\n",
        "    for i, data in enumerate(trainloader, 0):\n",
        "        # get the inputs\n",
        "        inputs, labels = data\n",
        "        inputs, labels = inputs.to(\"cuda\"),labels.to(\"cuda\")\n",
        "\n",
        "        # print(inputs.shape)\n",
        "        # zero the parameter gradients\n",
        "        optimizer_inception.zero_grad()\n",
        "\n",
        "        # forward + backward + optimize\n",
        "        outputs = inc(inputs)\n",
        "        loss = criterion_inception(outputs, labels)\n",
        "        loss.backward()\n",
        "        optimizer_inception.step()\n",
        "\n",
        "        # print statistics\n",
        "        running_loss += loss.item()\n",
        "        if i % 50 == 49:    # print every 50 mini-batches\n",
        "            print('[%d, %5d] loss: %.3f' %\n",
        "                  (epoch + 1, i + 1, running_loss / 50))\n",
        "            ep_lossi.append(running_loss/50) # loss per minibatch\n",
        "            running_loss = 0.0\n",
        "            \n",
        "    loss_curi.append(np.mean(ep_lossi))   #loss per epoch\n",
        "    if (np.mean(ep_lossi)<=0.03):\n",
        "        break\n",
        "#         acti.append(actis)\n",
        "    \n",
        "            \n",
        "\n",
        "print('Finished Training')"
      ],
      "execution_count": 324,
      "outputs": [
        {
          "output_type": "stream",
          "text": [
            "[1,    50] loss: 0.700\n",
            "[1,   100] loss: 0.693\n",
            "[1,   150] loss: 0.692\n",
            "[2,    50] loss: 0.691\n",
            "[2,   100] loss: 0.689\n",
            "[2,   150] loss: 0.684\n",
            "[3,    50] loss: 0.650\n",
            "[3,   100] loss: 0.640\n",
            "[3,   150] loss: 0.644\n",
            "[4,    50] loss: 0.623\n",
            "[4,   100] loss: 0.623\n",
            "[4,   150] loss: 0.621\n",
            "[5,    50] loss: 0.613\n",
            "[5,   100] loss: 0.613\n",
            "[5,   150] loss: 0.615\n",
            "[6,    50] loss: 0.602\n",
            "[6,   100] loss: 0.599\n",
            "[6,   150] loss: 0.606\n",
            "[7,    50] loss: 0.600\n",
            "[7,   100] loss: 0.600\n",
            "[7,   150] loss: 0.595\n",
            "[8,    50] loss: 0.590\n",
            "[8,   100] loss: 0.593\n",
            "[8,   150] loss: 0.591\n",
            "[9,    50] loss: 0.589\n",
            "[9,   100] loss: 0.593\n",
            "[9,   150] loss: 0.588\n",
            "[10,    50] loss: 0.587\n",
            "[10,   100] loss: 0.586\n",
            "[10,   150] loss: 0.583\n",
            "[11,    50] loss: 0.585\n",
            "[11,   100] loss: 0.590\n",
            "[11,   150] loss: 0.580\n",
            "[12,    50] loss: 0.588\n",
            "[12,   100] loss: 0.585\n",
            "[12,   150] loss: 0.582\n",
            "[13,    50] loss: 0.579\n",
            "[13,   100] loss: 0.584\n",
            "[13,   150] loss: 0.580\n",
            "[14,    50] loss: 0.580\n",
            "[14,   100] loss: 0.579\n",
            "[14,   150] loss: 0.581\n",
            "[15,    50] loss: 0.580\n",
            "[15,   100] loss: 0.579\n",
            "[15,   150] loss: 0.581\n",
            "[16,    50] loss: 0.577\n",
            "[16,   100] loss: 0.585\n",
            "[16,   150] loss: 0.578\n",
            "[17,    50] loss: 0.579\n",
            "[17,   100] loss: 0.579\n",
            "[17,   150] loss: 0.576\n",
            "[18,    50] loss: 0.575\n",
            "[18,   100] loss: 0.576\n",
            "[18,   150] loss: 0.580\n",
            "[19,    50] loss: 0.576\n",
            "[19,   100] loss: 0.575\n",
            "[19,   150] loss: 0.580\n",
            "[20,    50] loss: 0.571\n",
            "[20,   100] loss: 0.573\n",
            "[20,   150] loss: 0.580\n",
            "[21,    50] loss: 0.577\n",
            "[21,   100] loss: 0.573\n",
            "[21,   150] loss: 0.579\n",
            "[22,    50] loss: 0.573\n",
            "[22,   100] loss: 0.575\n",
            "[22,   150] loss: 0.573\n",
            "[23,    50] loss: 0.578\n",
            "[23,   100] loss: 0.568\n",
            "[23,   150] loss: 0.573\n",
            "[24,    50] loss: 0.570\n",
            "[24,   100] loss: 0.570\n",
            "[24,   150] loss: 0.572\n",
            "[25,    50] loss: 0.573\n",
            "[25,   100] loss: 0.568\n",
            "[25,   150] loss: 0.573\n",
            "[26,    50] loss: 0.564\n",
            "[26,   100] loss: 0.572\n",
            "[26,   150] loss: 0.573\n",
            "[27,    50] loss: 0.567\n",
            "[27,   100] loss: 0.571\n",
            "[27,   150] loss: 0.570\n",
            "[28,    50] loss: 0.569\n",
            "[28,   100] loss: 0.568\n",
            "[28,   150] loss: 0.565\n",
            "[29,    50] loss: 0.566\n",
            "[29,   100] loss: 0.563\n",
            "[29,   150] loss: 0.568\n",
            "[30,    50] loss: 0.561\n",
            "[30,   100] loss: 0.562\n",
            "[30,   150] loss: 0.565\n",
            "[31,    50] loss: 0.561\n",
            "[31,   100] loss: 0.561\n",
            "[31,   150] loss: 0.562\n",
            "[32,    50] loss: 0.556\n",
            "[32,   100] loss: 0.563\n",
            "[32,   150] loss: 0.561\n",
            "[33,    50] loss: 0.560\n",
            "[33,   100] loss: 0.558\n",
            "[33,   150] loss: 0.560\n",
            "[34,    50] loss: 0.556\n",
            "[34,   100] loss: 0.557\n",
            "[34,   150] loss: 0.559\n",
            "[35,    50] loss: 0.550\n",
            "[35,   100] loss: 0.557\n",
            "[35,   150] loss: 0.553\n",
            "[36,    50] loss: 0.553\n",
            "[36,   100] loss: 0.555\n",
            "[36,   150] loss: 0.553\n",
            "[37,    50] loss: 0.550\n",
            "[37,   100] loss: 0.553\n",
            "[37,   150] loss: 0.555\n",
            "[38,    50] loss: 0.545\n",
            "[38,   100] loss: 0.549\n",
            "[38,   150] loss: 0.551\n",
            "[39,    50] loss: 0.539\n",
            "[39,   100] loss: 0.546\n",
            "[39,   150] loss: 0.551\n",
            "[40,    50] loss: 0.539\n",
            "[40,   100] loss: 0.541\n",
            "[40,   150] loss: 0.545\n",
            "[41,    50] loss: 0.539\n",
            "[41,   100] loss: 0.538\n",
            "[41,   150] loss: 0.543\n",
            "[42,    50] loss: 0.534\n",
            "[42,   100] loss: 0.534\n",
            "[42,   150] loss: 0.541\n",
            "[43,    50] loss: 0.535\n",
            "[43,   100] loss: 0.535\n",
            "[43,   150] loss: 0.539\n",
            "[44,    50] loss: 0.529\n",
            "[44,   100] loss: 0.534\n",
            "[44,   150] loss: 0.534\n",
            "[45,    50] loss: 0.519\n",
            "[45,   100] loss: 0.528\n",
            "[45,   150] loss: 0.536\n",
            "[46,    50] loss: 0.517\n",
            "[46,   100] loss: 0.526\n",
            "[46,   150] loss: 0.531\n",
            "[47,    50] loss: 0.509\n",
            "[47,   100] loss: 0.520\n",
            "[47,   150] loss: 0.530\n",
            "[48,    50] loss: 0.505\n",
            "[48,   100] loss: 0.514\n",
            "[48,   150] loss: 0.520\n",
            "[49,    50] loss: 0.508\n",
            "[49,   100] loss: 0.503\n",
            "[49,   150] loss: 0.515\n",
            "[50,    50] loss: 0.498\n",
            "[50,   100] loss: 0.507\n",
            "[50,   150] loss: 0.511\n",
            "[51,    50] loss: 0.495\n",
            "[51,   100] loss: 0.500\n",
            "[51,   150] loss: 0.509\n",
            "[52,    50] loss: 0.495\n",
            "[52,   100] loss: 0.496\n",
            "[52,   150] loss: 0.507\n",
            "[53,    50] loss: 0.481\n",
            "[53,   100] loss: 0.493\n",
            "[53,   150] loss: 0.500\n",
            "[54,    50] loss: 0.476\n",
            "[54,   100] loss: 0.490\n",
            "[54,   150] loss: 0.491\n",
            "[55,    50] loss: 0.472\n",
            "[55,   100] loss: 0.487\n",
            "[55,   150] loss: 0.487\n",
            "[56,    50] loss: 0.469\n",
            "[56,   100] loss: 0.481\n",
            "[56,   150] loss: 0.481\n",
            "[57,    50] loss: 0.461\n",
            "[57,   100] loss: 0.469\n",
            "[57,   150] loss: 0.478\n",
            "[58,    50] loss: 0.457\n",
            "[58,   100] loss: 0.456\n",
            "[58,   150] loss: 0.472\n",
            "[59,    50] loss: 0.442\n",
            "[59,   100] loss: 0.464\n",
            "[59,   150] loss: 0.469\n",
            "[60,    50] loss: 0.459\n",
            "[60,   100] loss: 0.453\n",
            "[60,   150] loss: 0.457\n",
            "[61,    50] loss: 0.434\n",
            "[61,   100] loss: 0.458\n",
            "[61,   150] loss: 0.451\n",
            "[62,    50] loss: 0.423\n",
            "[62,   100] loss: 0.447\n",
            "[62,   150] loss: 0.454\n",
            "[63,    50] loss: 0.424\n",
            "[63,   100] loss: 0.435\n",
            "[63,   150] loss: 0.450\n",
            "[64,    50] loss: 0.412\n",
            "[64,   100] loss: 0.417\n",
            "[64,   150] loss: 0.442\n",
            "[65,    50] loss: 0.406\n",
            "[65,   100] loss: 0.429\n",
            "[65,   150] loss: 0.425\n",
            "[66,    50] loss: 0.401\n",
            "[66,   100] loss: 0.416\n",
            "[66,   150] loss: 0.425\n",
            "[67,    50] loss: 0.394\n",
            "[67,   100] loss: 0.395\n",
            "[67,   150] loss: 0.412\n",
            "[68,    50] loss: 0.394\n",
            "[68,   100] loss: 0.413\n",
            "[68,   150] loss: 0.416\n",
            "[69,    50] loss: 0.377\n",
            "[69,   100] loss: 0.396\n",
            "[69,   150] loss: 0.404\n",
            "[70,    50] loss: 0.370\n",
            "[70,   100] loss: 0.387\n",
            "[70,   150] loss: 0.398\n",
            "[71,    50] loss: 0.371\n",
            "[71,   100] loss: 0.374\n",
            "[71,   150] loss: 0.404\n",
            "[72,    50] loss: 0.363\n",
            "[72,   100] loss: 0.378\n",
            "[72,   150] loss: 0.400\n",
            "[73,    50] loss: 0.339\n",
            "[73,   100] loss: 0.364\n",
            "[73,   150] loss: 0.394\n",
            "[74,    50] loss: 0.353\n",
            "[74,   100] loss: 0.368\n",
            "[74,   150] loss: 0.382\n",
            "[75,    50] loss: 0.353\n",
            "[75,   100] loss: 0.361\n",
            "[75,   150] loss: 0.370\n",
            "[76,    50] loss: 0.338\n",
            "[76,   100] loss: 0.362\n",
            "[76,   150] loss: 0.358\n",
            "[77,    50] loss: 0.338\n",
            "[77,   100] loss: 0.349\n",
            "[77,   150] loss: 0.356\n",
            "[78,    50] loss: 0.324\n",
            "[78,   100] loss: 0.336\n",
            "[78,   150] loss: 0.349\n",
            "[79,    50] loss: 0.318\n",
            "[79,   100] loss: 0.347\n",
            "[79,   150] loss: 0.343\n",
            "[80,    50] loss: 0.301\n",
            "[80,   100] loss: 0.337\n",
            "[80,   150] loss: 0.348\n",
            "[81,    50] loss: 0.301\n",
            "[81,   100] loss: 0.333\n",
            "[81,   150] loss: 0.343\n",
            "[82,    50] loss: 0.316\n",
            "[82,   100] loss: 0.308\n",
            "[82,   150] loss: 0.316\n",
            "[83,    50] loss: 0.282\n",
            "[83,   100] loss: 0.328\n",
            "[83,   150] loss: 0.326\n",
            "[84,    50] loss: 0.285\n",
            "[84,   100] loss: 0.308\n",
            "[84,   150] loss: 0.318\n",
            "[85,    50] loss: 0.278\n",
            "[85,   100] loss: 0.294\n",
            "[85,   150] loss: 0.322\n",
            "[86,    50] loss: 0.277\n",
            "[86,   100] loss: 0.297\n",
            "[86,   150] loss: 0.314\n",
            "[87,    50] loss: 0.274\n",
            "[87,   100] loss: 0.290\n",
            "[87,   150] loss: 0.293\n",
            "[88,    50] loss: 0.256\n",
            "[88,   100] loss: 0.293\n",
            "[88,   150] loss: 0.294\n",
            "[89,    50] loss: 0.260\n",
            "[89,   100] loss: 0.277\n",
            "[89,   150] loss: 0.294\n",
            "[90,    50] loss: 0.246\n",
            "[90,   100] loss: 0.259\n",
            "[90,   150] loss: 0.307\n",
            "[91,    50] loss: 0.248\n",
            "[91,   100] loss: 0.258\n",
            "[91,   150] loss: 0.290\n",
            "[92,    50] loss: 0.266\n",
            "[92,   100] loss: 0.259\n",
            "[92,   150] loss: 0.272\n",
            "[93,    50] loss: 0.248\n",
            "[93,   100] loss: 0.257\n",
            "[93,   150] loss: 0.268\n",
            "[94,    50] loss: 0.252\n",
            "[94,   100] loss: 0.251\n",
            "[94,   150] loss: 0.275\n",
            "[95,    50] loss: 0.226\n",
            "[95,   100] loss: 0.247\n",
            "[95,   150] loss: 0.269\n",
            "[96,    50] loss: 0.252\n",
            "[96,   100] loss: 0.239\n",
            "[96,   150] loss: 0.263\n",
            "[97,    50] loss: 0.220\n",
            "[97,   100] loss: 0.235\n",
            "[97,   150] loss: 0.263\n",
            "[98,    50] loss: 0.211\n",
            "[98,   100] loss: 0.244\n",
            "[98,   150] loss: 0.255\n",
            "[99,    50] loss: 0.204\n",
            "[99,   100] loss: 0.229\n",
            "[99,   150] loss: 0.265\n",
            "[100,    50] loss: 0.211\n",
            "[100,   100] loss: 0.215\n",
            "[100,   150] loss: 0.243\n",
            "[101,    50] loss: 0.225\n",
            "[101,   100] loss: 0.223\n",
            "[101,   150] loss: 0.238\n",
            "[102,    50] loss: 0.190\n",
            "[102,   100] loss: 0.212\n",
            "[102,   150] loss: 0.243\n",
            "[103,    50] loss: 0.189\n",
            "[103,   100] loss: 0.202\n",
            "[103,   150] loss: 0.249\n",
            "[104,    50] loss: 0.192\n",
            "[104,   100] loss: 0.195\n",
            "[104,   150] loss: 0.228\n",
            "[105,    50] loss: 0.191\n",
            "[105,   100] loss: 0.204\n",
            "[105,   150] loss: 0.236\n",
            "[106,    50] loss: 0.182\n",
            "[106,   100] loss: 0.191\n",
            "[106,   150] loss: 0.197\n",
            "[107,    50] loss: 0.190\n",
            "[107,   100] loss: 0.205\n",
            "[107,   150] loss: 0.211\n",
            "[108,    50] loss: 0.179\n",
            "[108,   100] loss: 0.191\n",
            "[108,   150] loss: 0.223\n",
            "[109,    50] loss: 0.163\n",
            "[109,   100] loss: 0.200\n",
            "[109,   150] loss: 0.237\n",
            "[110,    50] loss: 0.160\n",
            "[110,   100] loss: 0.186\n",
            "[110,   150] loss: 0.193\n",
            "[111,    50] loss: 0.174\n",
            "[111,   100] loss: 0.189\n",
            "[111,   150] loss: 0.191\n",
            "[112,    50] loss: 0.177\n",
            "[112,   100] loss: 0.193\n",
            "[112,   150] loss: 0.200\n",
            "[113,    50] loss: 0.173\n",
            "[113,   100] loss: 0.182\n",
            "[113,   150] loss: 0.190\n",
            "[114,    50] loss: 0.164\n",
            "[114,   100] loss: 0.182\n",
            "[114,   150] loss: 0.190\n",
            "[115,    50] loss: 0.151\n",
            "[115,   100] loss: 0.170\n",
            "[115,   150] loss: 0.197\n",
            "[116,    50] loss: 0.172\n",
            "[116,   100] loss: 0.162\n",
            "[116,   150] loss: 0.167\n",
            "[117,    50] loss: 0.155\n",
            "[117,   100] loss: 0.170\n",
            "[117,   150] loss: 0.191\n",
            "[118,    50] loss: 0.147\n",
            "[118,   100] loss: 0.160\n",
            "[118,   150] loss: 0.168\n",
            "[119,    50] loss: 0.149\n",
            "[119,   100] loss: 0.149\n",
            "[119,   150] loss: 0.164\n",
            "[120,    50] loss: 0.140\n",
            "[120,   100] loss: 0.175\n",
            "[120,   150] loss: 0.193\n",
            "[121,    50] loss: 0.133\n",
            "[121,   100] loss: 0.134\n",
            "[121,   150] loss: 0.159\n",
            "[122,    50] loss: 0.137\n",
            "[122,   100] loss: 0.153\n",
            "[122,   150] loss: 0.177\n",
            "[123,    50] loss: 0.146\n",
            "[123,   100] loss: 0.141\n",
            "[123,   150] loss: 0.154\n",
            "[124,    50] loss: 0.141\n",
            "[124,   100] loss: 0.155\n",
            "[124,   150] loss: 0.158\n",
            "[125,    50] loss: 0.140\n",
            "[125,   100] loss: 0.139\n",
            "[125,   150] loss: 0.152\n",
            "[126,    50] loss: 0.149\n",
            "[126,   100] loss: 0.134\n",
            "[126,   150] loss: 0.152\n",
            "[127,    50] loss: 0.129\n",
            "[127,   100] loss: 0.131\n",
            "[127,   150] loss: 0.150\n",
            "[128,    50] loss: 0.121\n",
            "[128,   100] loss: 0.132\n",
            "[128,   150] loss: 0.150\n",
            "[129,    50] loss: 0.117\n",
            "[129,   100] loss: 0.135\n",
            "[129,   150] loss: 0.157\n",
            "[130,    50] loss: 0.131\n",
            "[130,   100] loss: 0.124\n",
            "[130,   150] loss: 0.143\n",
            "[131,    50] loss: 0.127\n",
            "[131,   100] loss: 0.137\n",
            "[131,   150] loss: 0.129\n",
            "[132,    50] loss: 0.119\n",
            "[132,   100] loss: 0.115\n",
            "[132,   150] loss: 0.133\n",
            "[133,    50] loss: 0.120\n",
            "[133,   100] loss: 0.125\n",
            "[133,   150] loss: 0.135\n",
            "[134,    50] loss: 0.100\n",
            "[134,   100] loss: 0.128\n",
            "[134,   150] loss: 0.180\n",
            "[135,    50] loss: 0.107\n",
            "[135,   100] loss: 0.121\n",
            "[135,   150] loss: 0.129\n",
            "[136,    50] loss: 0.112\n",
            "[136,   100] loss: 0.124\n",
            "[136,   150] loss: 0.146\n",
            "[137,    50] loss: 0.110\n",
            "[137,   100] loss: 0.121\n",
            "[137,   150] loss: 0.124\n",
            "[138,    50] loss: 0.117\n",
            "[138,   100] loss: 0.116\n",
            "[138,   150] loss: 0.142\n",
            "[139,    50] loss: 0.105\n",
            "[139,   100] loss: 0.090\n",
            "[139,   150] loss: 0.121\n",
            "[140,    50] loss: 0.097\n",
            "[140,   100] loss: 0.108\n",
            "[140,   150] loss: 0.125\n",
            "[141,    50] loss: 0.130\n",
            "[141,   100] loss: 0.114\n",
            "[141,   150] loss: 0.127\n",
            "[142,    50] loss: 0.102\n",
            "[142,   100] loss: 0.095\n",
            "[142,   150] loss: 0.107\n",
            "[143,    50] loss: 0.105\n",
            "[143,   100] loss: 0.110\n",
            "[143,   150] loss: 0.104\n",
            "[144,    50] loss: 0.089\n",
            "[144,   100] loss: 0.100\n",
            "[144,   150] loss: 0.118\n",
            "[145,    50] loss: 0.103\n",
            "[145,   100] loss: 0.103\n",
            "[145,   150] loss: 0.115\n",
            "[146,    50] loss: 0.103\n",
            "[146,   100] loss: 0.111\n",
            "[146,   150] loss: 0.121\n",
            "[147,    50] loss: 0.089\n",
            "[147,   100] loss: 0.101\n",
            "[147,   150] loss: 0.109\n",
            "[148,    50] loss: 0.093\n",
            "[148,   100] loss: 0.096\n",
            "[148,   150] loss: 0.101\n",
            "[149,    50] loss: 0.087\n",
            "[149,   100] loss: 0.109\n",
            "[149,   150] loss: 0.107\n",
            "[150,    50] loss: 0.100\n",
            "[150,   100] loss: 0.086\n",
            "[150,   150] loss: 0.107\n",
            "[151,    50] loss: 0.087\n",
            "[151,   100] loss: 0.085\n",
            "[151,   150] loss: 0.087\n",
            "[152,    50] loss: 0.112\n",
            "[152,   100] loss: 0.101\n",
            "[152,   150] loss: 0.103\n",
            "[153,    50] loss: 0.079\n",
            "[153,   100] loss: 0.074\n",
            "[153,   150] loss: 0.094\n",
            "[154,    50] loss: 0.093\n",
            "[154,   100] loss: 0.087\n",
            "[154,   150] loss: 0.097\n",
            "[155,    50] loss: 0.076\n",
            "[155,   100] loss: 0.080\n",
            "[155,   150] loss: 0.109\n",
            "[156,    50] loss: 0.098\n",
            "[156,   100] loss: 0.087\n",
            "[156,   150] loss: 0.101\n",
            "[157,    50] loss: 0.072\n",
            "[157,   100] loss: 0.083\n",
            "[157,   150] loss: 0.090\n",
            "[158,    50] loss: 0.099\n",
            "[158,   100] loss: 0.098\n",
            "[158,   150] loss: 0.086\n",
            "[159,    50] loss: 0.059\n",
            "[159,   100] loss: 0.084\n",
            "[159,   150] loss: 0.114\n",
            "[160,    50] loss: 0.085\n",
            "[160,   100] loss: 0.076\n",
            "[160,   150] loss: 0.082\n",
            "[161,    50] loss: 0.088\n",
            "[161,   100] loss: 0.079\n",
            "[161,   150] loss: 0.103\n",
            "[162,    50] loss: 0.077\n",
            "[162,   100] loss: 0.078\n",
            "[162,   150] loss: 0.081\n",
            "[163,    50] loss: 0.065\n",
            "[163,   100] loss: 0.067\n",
            "[163,   150] loss: 0.083\n",
            "[164,    50] loss: 0.075\n",
            "[164,   100] loss: 0.083\n",
            "[164,   150] loss: 0.080\n",
            "[165,    50] loss: 0.077\n",
            "[165,   100] loss: 0.065\n",
            "[165,   150] loss: 0.069\n",
            "[166,    50] loss: 0.088\n",
            "[166,   100] loss: 0.086\n",
            "[166,   150] loss: 0.092\n",
            "[167,    50] loss: 0.059\n",
            "[167,   100] loss: 0.074\n",
            "[167,   150] loss: 0.087\n",
            "[168,    50] loss: 0.068\n",
            "[168,   100] loss: 0.072\n",
            "[168,   150] loss: 0.099\n",
            "[169,    50] loss: 0.074\n",
            "[169,   100] loss: 0.067\n",
            "[169,   150] loss: 0.061\n",
            "[170,    50] loss: 0.070\n",
            "[170,   100] loss: 0.079\n",
            "[170,   150] loss: 0.086\n",
            "[171,    50] loss: 0.064\n",
            "[171,   100] loss: 0.076\n",
            "[171,   150] loss: 0.071\n",
            "[172,    50] loss: 0.067\n",
            "[172,   100] loss: 0.062\n",
            "[172,   150] loss: 0.063\n",
            "[173,    50] loss: 0.078\n",
            "[173,   100] loss: 0.077\n",
            "[173,   150] loss: 0.072\n",
            "[174,    50] loss: 0.057\n",
            "[174,   100] loss: 0.071\n",
            "[174,   150] loss: 0.096\n",
            "[175,    50] loss: 0.060\n",
            "[175,   100] loss: 0.063\n",
            "[175,   150] loss: 0.078\n",
            "[176,    50] loss: 0.054\n",
            "[176,   100] loss: 0.055\n",
            "[176,   150] loss: 0.067\n",
            "[177,    50] loss: 0.079\n",
            "[177,   100] loss: 0.063\n",
            "[177,   150] loss: 0.087\n",
            "[178,    50] loss: 0.056\n",
            "[178,   100] loss: 0.058\n",
            "[178,   150] loss: 0.058\n",
            "[179,    50] loss: 0.055\n",
            "[179,   100] loss: 0.065\n",
            "[179,   150] loss: 0.071\n",
            "[180,    50] loss: 0.080\n",
            "[180,   100] loss: 0.065\n",
            "[180,   150] loss: 0.073\n",
            "[181,    50] loss: 0.055\n",
            "[181,   100] loss: 0.059\n",
            "[181,   150] loss: 0.084\n",
            "[182,    50] loss: 0.050\n",
            "[182,   100] loss: 0.045\n",
            "[182,   150] loss: 0.057\n",
            "[183,    50] loss: 0.061\n",
            "[183,   100] loss: 0.072\n",
            "[183,   150] loss: 0.095\n",
            "[184,    50] loss: 0.047\n",
            "[184,   100] loss: 0.052\n",
            "[184,   150] loss: 0.076\n",
            "[185,    50] loss: 0.074\n",
            "[185,   100] loss: 0.056\n",
            "[185,   150] loss: 0.050\n",
            "[186,    50] loss: 0.072\n",
            "[186,   100] loss: 0.066\n",
            "[186,   150] loss: 0.084\n",
            "[187,    50] loss: 0.057\n",
            "[187,   100] loss: 0.054\n",
            "[187,   150] loss: 0.064\n",
            "[188,    50] loss: 0.058\n",
            "[188,   100] loss: 0.059\n",
            "[188,   150] loss: 0.065\n",
            "[189,    50] loss: 0.055\n",
            "[189,   100] loss: 0.062\n",
            "[189,   150] loss: 0.077\n",
            "[190,    50] loss: 0.038\n",
            "[190,   100] loss: 0.045\n",
            "[190,   150] loss: 0.073\n",
            "[191,    50] loss: 0.062\n",
            "[191,   100] loss: 0.063\n",
            "[191,   150] loss: 0.059\n",
            "[192,    50] loss: 0.053\n",
            "[192,   100] loss: 0.051\n",
            "[192,   150] loss: 0.056\n",
            "[193,    50] loss: 0.051\n",
            "[193,   100] loss: 0.056\n",
            "[193,   150] loss: 0.065\n",
            "[194,    50] loss: 0.044\n",
            "[194,   100] loss: 0.049\n",
            "[194,   150] loss: 0.059\n",
            "[195,    50] loss: 0.053\n",
            "[195,   100] loss: 0.046\n",
            "[195,   150] loss: 0.055\n",
            "[196,    50] loss: 0.053\n",
            "[196,   100] loss: 0.055\n",
            "[196,   150] loss: 0.068\n",
            "[197,    50] loss: 0.059\n",
            "[197,   100] loss: 0.041\n",
            "[197,   150] loss: 0.051\n",
            "[198,    50] loss: 0.060\n",
            "[198,   100] loss: 0.047\n",
            "[198,   150] loss: 0.062\n",
            "[199,    50] loss: 0.051\n",
            "[199,   100] loss: 0.053\n",
            "[199,   150] loss: 0.062\n",
            "[200,    50] loss: 0.042\n",
            "[200,   100] loss: 0.046\n",
            "[200,   150] loss: 0.046\n",
            "[201,    50] loss: 0.060\n",
            "[201,   100] loss: 0.057\n",
            "[201,   150] loss: 0.075\n",
            "[202,    50] loss: 0.043\n",
            "[202,   100] loss: 0.027\n",
            "[202,   150] loss: 0.037\n",
            "[203,    50] loss: 0.060\n",
            "[203,   100] loss: 0.068\n",
            "[203,   150] loss: 0.058\n",
            "[204,    50] loss: 0.050\n",
            "[204,   100] loss: 0.036\n",
            "[204,   150] loss: 0.046\n",
            "[205,    50] loss: 0.055\n",
            "[205,   100] loss: 0.042\n",
            "[205,   150] loss: 0.049\n",
            "[206,    50] loss: 0.045\n",
            "[206,   100] loss: 0.048\n",
            "[206,   150] loss: 0.066\n",
            "[207,    50] loss: 0.037\n",
            "[207,   100] loss: 0.037\n",
            "[207,   150] loss: 0.035\n",
            "[208,    50] loss: 0.044\n",
            "[208,   100] loss: 0.039\n",
            "[208,   150] loss: 0.056\n",
            "[209,    50] loss: 0.041\n",
            "[209,   100] loss: 0.042\n",
            "[209,   150] loss: 0.059\n",
            "[210,    50] loss: 0.048\n",
            "[210,   100] loss: 0.053\n",
            "[210,   150] loss: 0.059\n",
            "[211,    50] loss: 0.034\n",
            "[211,   100] loss: 0.041\n",
            "[211,   150] loss: 0.044\n",
            "[212,    50] loss: 0.041\n",
            "[212,   100] loss: 0.034\n",
            "[212,   150] loss: 0.050\n",
            "[213,    50] loss: 0.056\n",
            "[213,   100] loss: 0.041\n",
            "[213,   150] loss: 0.050\n",
            "[214,    50] loss: 0.047\n",
            "[214,   100] loss: 0.044\n",
            "[214,   150] loss: 0.046\n",
            "[215,    50] loss: 0.045\n",
            "[215,   100] loss: 0.050\n",
            "[215,   150] loss: 0.057\n",
            "[216,    50] loss: 0.041\n",
            "[216,   100] loss: 0.046\n",
            "[216,   150] loss: 0.050\n",
            "[217,    50] loss: 0.032\n",
            "[217,   100] loss: 0.028\n",
            "[217,   150] loss: 0.037\n",
            "[218,    50] loss: 0.044\n",
            "[218,   100] loss: 0.062\n",
            "[218,   150] loss: 0.040\n",
            "[219,    50] loss: 0.043\n",
            "[219,   100] loss: 0.048\n",
            "[219,   150] loss: 0.054\n",
            "[220,    50] loss: 0.042\n",
            "[220,   100] loss: 0.040\n",
            "[220,   150] loss: 0.031\n",
            "[221,    50] loss: 0.034\n",
            "[221,   100] loss: 0.053\n",
            "[221,   150] loss: 0.053\n",
            "[222,    50] loss: 0.037\n",
            "[222,   100] loss: 0.028\n",
            "[222,   150] loss: 0.039\n",
            "[223,    50] loss: 0.045\n",
            "[223,   100] loss: 0.042\n",
            "[223,   150] loss: 0.036\n",
            "[224,    50] loss: 0.044\n",
            "[224,   100] loss: 0.029\n",
            "[224,   150] loss: 0.051\n",
            "[225,    50] loss: 0.045\n",
            "[225,   100] loss: 0.043\n",
            "[225,   150] loss: 0.048\n",
            "[226,    50] loss: 0.032\n",
            "[226,   100] loss: 0.029\n",
            "[226,   150] loss: 0.050\n",
            "[227,    50] loss: 0.035\n",
            "[227,   100] loss: 0.035\n",
            "[227,   150] loss: 0.033\n",
            "[228,    50] loss: 0.025\n",
            "[228,   100] loss: 0.041\n",
            "[228,   150] loss: 0.046\n",
            "[229,    50] loss: 0.036\n",
            "[229,   100] loss: 0.041\n",
            "[229,   150] loss: 0.053\n",
            "[230,    50] loss: 0.027\n",
            "[230,   100] loss: 0.038\n",
            "[230,   150] loss: 0.047\n",
            "[231,    50] loss: 0.050\n",
            "[231,   100] loss: 0.040\n",
            "[231,   150] loss: 0.033\n",
            "[232,    50] loss: 0.041\n",
            "[232,   100] loss: 0.042\n",
            "[232,   150] loss: 0.042\n",
            "[233,    50] loss: 0.036\n",
            "[233,   100] loss: 0.037\n",
            "[233,   150] loss: 0.044\n",
            "[234,    50] loss: 0.041\n",
            "[234,   100] loss: 0.033\n",
            "[234,   150] loss: 0.033\n",
            "[235,    50] loss: 0.034\n",
            "[235,   100] loss: 0.039\n",
            "[235,   150] loss: 0.043\n",
            "[236,    50] loss: 0.038\n",
            "[236,   100] loss: 0.034\n",
            "[236,   150] loss: 0.039\n",
            "[237,    50] loss: 0.027\n",
            "[237,   100] loss: 0.024\n",
            "[237,   150] loss: 0.034\n",
            "Finished Training\n"
          ],
          "name": "stdout"
        }
      ]
    },
    {
      "cell_type": "code",
      "metadata": {
        "id": "IxXbhlbEacsW",
        "colab": {
          "base_uri": "https://localhost:8080/"
        },
        "outputId": "89b3bd65-6951-4dc3-c7b5-23388914fd7d"
      },
      "source": [
        "correct = 0\n",
        "total = 0\n",
        "with torch.no_grad():\n",
        "    for data in trainloader:\n",
        "        images, labels = data\n",
        "        images, labels = images.to(\"cuda\"), labels.to(\"cuda\")\n",
        "        outputs = inc(images)\n",
        "        _, predicted = torch.max(outputs.data, 1)\n",
        "        total += labels.size(0)\n",
        "        correct += (predicted == labels).sum().item()\n",
        "\n",
        "print('Accuracy of the network on the 60000 train images: %d %%' % (\n",
        "    100 * correct / total))"
      ],
      "execution_count": 325,
      "outputs": [
        {
          "output_type": "stream",
          "text": [
            "Accuracy of the network on the 60000 train images: 98 %\n"
          ],
          "name": "stdout"
        }
      ]
    },
    {
      "cell_type": "code",
      "metadata": {
        "id": "U2kQXLzgacsa",
        "colab": {
          "base_uri": "https://localhost:8080/"
        },
        "outputId": "48cf0d49-0074-4b0a-8524-593d5d7b3bb7"
      },
      "source": [
        "total,correct"
      ],
      "execution_count": 326,
      "outputs": [
        {
          "output_type": "execute_result",
          "data": {
            "text/plain": [
              "(47000, 46236)"
            ]
          },
          "metadata": {
            "tags": []
          },
          "execution_count": 326
        }
      ]
    },
    {
      "cell_type": "code",
      "metadata": {
        "id": "5IcmEl2lacsd",
        "colab": {
          "base_uri": "https://localhost:8080/"
        },
        "outputId": "21ab5160-3d21-4a20-85b3-f8946ce26953"
      },
      "source": [
        "correct = 0\n",
        "total = 0\n",
        "out = []\n",
        "pred = []\n",
        "with torch.no_grad():\n",
        "    for data in testloader:\n",
        "        images, labels = data\n",
        "        images, labels = images.to(\"cuda\"),labels.to(\"cuda\")\n",
        "        out.append(labels.cpu().numpy())\n",
        "        outputs= inc(images)\n",
        "        _, predicted = torch.max(outputs.data, 1)\n",
        "        pred.append(predicted.cpu().numpy())\n",
        "        total += labels.size(0)\n",
        "        correct += (predicted == labels).sum().item()\n",
        "\n",
        "print('Accuracy of the network on the 10000 test images: %d %%' % (\n",
        "    100 * correct / total))"
      ],
      "execution_count": 327,
      "outputs": [
        {
          "output_type": "stream",
          "text": [
            "Accuracy of the network on the 10000 test images: 20 %\n"
          ],
          "name": "stdout"
        }
      ]
    },
    {
      "cell_type": "code",
      "metadata": {
        "id": "KrlBRcSQacsg"
      },
      "source": [
        "out = np.concatenate(out,axis=0)"
      ],
      "execution_count": 328,
      "outputs": []
    },
    {
      "cell_type": "code",
      "metadata": {
        "id": "EWyBhOPlacsi"
      },
      "source": [
        "pred = np.concatenate(pred,axis=0)"
      ],
      "execution_count": 329,
      "outputs": []
    },
    {
      "cell_type": "code",
      "metadata": {
        "id": "IJ1F7Lfdacsl",
        "colab": {
          "base_uri": "https://localhost:8080/"
        },
        "outputId": "04ff05b9-d785-4d70-d3ab-f031206efc0f"
      },
      "source": [
        "index = np.logical_or(out ==1,out==0)\n",
        "print(index.shape)"
      ],
      "execution_count": 330,
      "outputs": [
        {
          "output_type": "stream",
          "text": [
            "(10000,)\n"
          ],
          "name": "stdout"
        }
      ]
    },
    {
      "cell_type": "code",
      "metadata": {
        "id": "h7PmLPkGacsn",
        "colab": {
          "base_uri": "https://localhost:8080/"
        },
        "outputId": "3fd4eb11-7d0b-460f-bf2d-8687db85a1ad"
      },
      "source": [
        "acc = sum(out[index] == pred[index])/sum(index)\n",
        "print('Accuracy of the network on the 10000 test images: %d %%' % (\n",
        "    100*acc))"
      ],
      "execution_count": 331,
      "outputs": [
        {
          "output_type": "stream",
          "text": [
            "Accuracy of the network on the 10000 test images: 98 %\n"
          ],
          "name": "stdout"
        }
      ]
    },
    {
      "cell_type": "code",
      "metadata": {
        "id": "fvCi8x41acsq",
        "colab": {
          "base_uri": "https://localhost:8080/"
        },
        "outputId": "7abba6fc-0a5b-492b-bfbc-15564e5eb7ac"
      },
      "source": [
        "\n",
        "sum(index)"
      ],
      "execution_count": 332,
      "outputs": [
        {
          "output_type": "execute_result",
          "data": {
            "text/plain": [
              "2115"
            ]
          },
          "metadata": {
            "tags": []
          },
          "execution_count": 332
        }
      ]
    },
    {
      "cell_type": "code",
      "metadata": {
        "id": "bdGNgi62acss",
        "colab": {
          "base_uri": "https://localhost:8080/"
        },
        "outputId": "41922fa7-1fe8-4787-beea-1c8f50087657"
      },
      "source": [
        "import random\n",
        "random.sample([1,2,3,4,5,6,7,8],5)"
      ],
      "execution_count": 333,
      "outputs": [
        {
          "output_type": "execute_result",
          "data": {
            "text/plain": [
              "[6, 2, 3, 8, 4]"
            ]
          },
          "metadata": {
            "tags": []
          },
          "execution_count": 333
        }
      ]
    },
    {
      "cell_type": "code",
      "metadata": {
        "id": "KBZqLh7heULT"
      },
      "source": [
        "# torch.save(inc.state_dict(),\"/content/drive/My Drive/model_simple_8000.pkl\")"
      ],
      "execution_count": 334,
      "outputs": []
    },
    {
      "cell_type": "code",
      "metadata": {
        "id": "JgLuOIeLeUHk",
        "colab": {
          "base_uri": "https://localhost:8080/",
          "height": 279
        },
        "outputId": "ce0fa83f-2f0d-4136-f29b-44feb0a00fc0"
      },
      "source": [
        "fig = plt.figure()\n",
        "plt.plot(loss_curi,label=\"loss_Curve\")\n",
        "plt.xlabel(\"epochs\")\n",
        "plt.ylabel(\"training_loss\")\n",
        "plt.legend()\n",
        "fig.savefig(\"loss_curve.pdf\") "
      ],
      "execution_count": 335,
      "outputs": [
        {
          "output_type": "display_data",
          "data": {
            "image/png": "[encoded data removed]",
            "text/plain": [
              "<Figure size 432x288 with 1 Axes>"
            ]
          },
          "metadata": {
            "tags": [],
            "needs_background": "light"
          }
        }
      ]
    },
    {
      "cell_type": "code",
      "metadata": {
        "id": "pZhSFZLeeXeO"
      },
      "source": [
        ""
      ],
      "execution_count": 335,
      "outputs": []
    },
    {
      "cell_type": "markdown",
      "metadata": {
        "id": "p9IrsRjWNZvw"
      },
      "source": [
        "Simple Model 3 Inception Module\n",
        "\n",
        "|true training data  | Corr Training Data | Test Accuracy | Test Accuracy 0-1 | \n",
        "| ------------------ | ------------------ | ------------- | ----------------- |\n",
        "| 100   | 47335  | 15  |  75 |\n",
        "| 500   | 47335  | 16  |  80 | \n",
        "| 1000  | 47335  | 17  | 83  | \n",
        "| 2000  | 47335  | 19 | 92 | \n",
        "| 4000  | 47335  | 20 | 95  | \n",
        "| 6000  | 47335  |  20 | 96  | \n",
        "| 8000  | 47335  | 20  |  96 | \n",
        "| 12665 | 47335  | 20 | 98  | \n",
        "\n",
        "\n",
        "|   Total Training Data       |   Training Accuracy      |\n",
        "|---------------------------- | ------------------------ |\n",
        "| 47435         | 100 |\n",
        "| 47835         | 100 |\n",
        "| 48335         | 100 |\n",
        "| 49335         | 100 | \n",
        "| 51335         | 100 |\n",
        "| 53335         | 100 |\n",
        "| 55335         | 100 |\n",
        "| 60000         | 100 |"
      ]
    },
    {
      "cell_type": "markdown",
      "metadata": {
        "id": "u6XhWXz3sYcx"
      },
      "source": [
        "Mini- Inception network 8 Inception Modules\n",
        "\n",
        "|true training data  | Corr Training Data | Test Accuracy | Test Accuracy 0-1 | \n",
        "| ------------------ | ------------------ | ------------- | ----------------- |\n",
        "| 100   | 47335  | 14  | 69  |\n",
        "| 500   | 47335  | 19  | 90  | \n",
        "| 1000  | 47335  | 19  |  92 | \n",
        "| 2000  | 47335  | 20  | 95  | \n",
        "| 4000  | 47335  | 20  |  97 | \n",
        "| 6000  | 47335  | 20  | 97  | \n",
        "| 8000  | 47335  | 20  |  98 | \n",
        "| 12665 | 47335  | 20  | 99  | "
      ]
    },
    {
      "cell_type": "markdown",
      "metadata": {
        "id": "d05DCw3Jw9Am"
      },
      "source": [
        "|   Total Training Data       |   Training Accuracy      |\n",
        "|---------------------------- | ------------------------ |\n",
        "| 47435         | 100 |\n",
        "| 47835         | 100 |\n",
        "| 48335         | 100 |\n",
        "| 49335         | 100 | \n",
        "| 51335         | 100 |\n",
        "| 53335         | 100 |\n",
        "| 55335         | 100 |\n",
        "| 60000         | 100 |"
      ]
    },
    {
      "cell_type": "code",
      "metadata": {
        "id": "NuAy-cU0sY9z"
      },
      "source": [
        ""
      ],
      "execution_count": 335,
      "outputs": []
    }
  ]
}