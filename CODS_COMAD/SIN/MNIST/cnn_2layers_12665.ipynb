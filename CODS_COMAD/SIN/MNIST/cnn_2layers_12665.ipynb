{
  "nbformat": 4,
  "nbformat_minor": 0,
  "metadata": {
    "kernelspec": {
      "name": "python3",
      "display_name": "Python 3"
    },
    "language_info": {
      "codemirror_mode": {
        "name": "ipython",
        "version": 3
      },
      "file_extension": ".py",
      "mimetype": "text/x-python",
      "name": "python",
      "nbconvert_exporter": "python",
      "pygments_lexer": "ipython3",
      "version": "3.7.0"
    },
    "colab": {
      "name": "cnn_2layers_500.ipynb",
      "provenance": [],
      "collapsed_sections": []
    },
    "accelerator": "GPU"
  },
  "cells": [
    {
      "cell_type": "code",
      "metadata": {
        "id": "lR-eQfx0acq8"
      },
      "source": [
        "import numpy as np\n",
        "import pandas as pd\n",
        "from matplotlib import pyplot as plt\n",
        "from tqdm import tqdm as tqdm\n",
        "\n",
        "%matplotlib inline\n",
        "\n",
        "import torch\n",
        "import torchvision\n",
        "\n",
        "import torchvision.transforms as transforms\n",
        "import torch.nn as nn\n",
        "import torch.optim as optim\n",
        "import torch.nn.functional as F\n",
        "import random"
      ],
      "execution_count": 374,
      "outputs": []
    },
    {
      "cell_type": "code",
      "metadata": {
        "id": "HxCE5TSmap0T"
      },
      "source": [
        "# from google.colab import drive\n",
        "\n",
        "# drive.mount('/content/drive')"
      ],
      "execution_count": 375,
      "outputs": []
    },
    {
      "cell_type": "code",
      "metadata": {
        "id": "yh4EScpqacrC"
      },
      "source": [
        "transform = transforms.Compose(\n",
        "    [transforms.CenterCrop((28,28)),transforms.ToTensor(),transforms.Normalize([0.5], [0.5])])\n"
      ],
      "execution_count": 376,
      "outputs": []
    },
    {
      "cell_type": "code",
      "metadata": {
        "id": "YoAqFwqpacrH"
      },
      "source": [
        "mnist_trainset = torchvision.datasets.MNIST(root='./data', train=True, download=True, transform=transform)\n",
        "mnist_testset = torchvision.datasets.MNIST(root='./data', train=False, download=True, transform=transform)"
      ],
      "execution_count": 377,
      "outputs": []
    },
    {
      "cell_type": "code",
      "metadata": {
        "id": "56x0FjYZacrM",
        "colab": {
          "base_uri": "https://localhost:8080/"
        },
        "outputId": "5895dff8-5712-4241-c390-ef79a5ee99a9"
      },
      "source": [
        "index1 = [np.where(mnist_trainset.targets==0)[0] , np.where(mnist_trainset.targets==1)[0] ]\n",
        "index1 = np.concatenate(index1,axis=0)\n",
        "len(index1) #12665"
      ],
      "execution_count": 378,
      "outputs": [
        {
          "output_type": "execute_result",
          "data": {
            "text/plain": [
              "12665"
            ]
          },
          "metadata": {
            "tags": []
          },
          "execution_count": 378
        }
      ]
    },
    {
      "cell_type": "code",
      "metadata": {
        "id": "QZWNdX-BvxKP",
        "colab": {
          "base_uri": "https://localhost:8080/"
        },
        "outputId": "bcdbdfcb-053f-489b-a640-0b4b4d96d0ce"
      },
      "source": [
        "true = 12665\n",
        "total = 47000\n",
        "sin = total-true\n",
        "sin"
      ],
      "execution_count": 379,
      "outputs": [
        {
          "output_type": "execute_result",
          "data": {
            "text/plain": [
              "34335"
            ]
          },
          "metadata": {
            "tags": []
          },
          "execution_count": 379
        }
      ]
    },
    {
      "cell_type": "code",
      "metadata": {
        "id": "D45juO_vINDB"
      },
      "source": [
        "epochs = 300"
      ],
      "execution_count": 380,
      "outputs": []
    },
    {
      "cell_type": "code",
      "metadata": {
        "id": "yQOoEO2meJDv",
        "colab": {
          "base_uri": "https://localhost:8080/"
        },
        "outputId": "f4dfb564-20cc-4d8b-ba2e-7f5c3b92303d"
      },
      "source": [
        "indices = np.random.choice(index1,true)\n",
        "indices.shape"
      ],
      "execution_count": 381,
      "outputs": [
        {
          "output_type": "execute_result",
          "data": {
            "text/plain": [
              "(12665,)"
            ]
          },
          "metadata": {
            "tags": []
          },
          "execution_count": 381
        }
      ]
    },
    {
      "cell_type": "code",
      "metadata": {
        "id": "d_8snSm1acrR",
        "colab": {
          "base_uri": "https://localhost:8080/"
        },
        "outputId": "c408184d-be5d-4b50-c2fa-37cc2be36876"
      },
      "source": [
        "index = np.where(np.logical_and(mnist_trainset.targets!=0,mnist_trainset.targets!=1))[0]  #47335\n",
        "index.shape"
      ],
      "execution_count": 382,
      "outputs": [
        {
          "output_type": "execute_result",
          "data": {
            "text/plain": [
              "(47335,)"
            ]
          },
          "metadata": {
            "tags": []
          },
          "execution_count": 382
        }
      ]
    },
    {
      "cell_type": "code",
      "metadata": {
        "id": "ejwWlWXm5pP7"
      },
      "source": [
        "req_index = np.random.choice(index.shape[0], sin, replace=False) \n",
        "# req_index"
      ],
      "execution_count": 383,
      "outputs": []
    },
    {
      "cell_type": "code",
      "metadata": {
        "colab": {
          "base_uri": "https://localhost:8080/"
        },
        "id": "mEg6CPL-6fuj",
        "outputId": "6765ecf9-a1f3-4e38-bdc0-ccd67160e37c"
      },
      "source": [
        "index = index[req_index]\n",
        "index.shape"
      ],
      "execution_count": 384,
      "outputs": [
        {
          "output_type": "execute_result",
          "data": {
            "text/plain": [
              "(34335,)"
            ]
          },
          "metadata": {
            "tags": []
          },
          "execution_count": 384
        }
      ]
    },
    {
      "cell_type": "code",
      "metadata": {
        "id": "vYhiSaAnacrW",
        "colab": {
          "base_uri": "https://localhost:8080/"
        },
        "outputId": "c200542f-8816-4648-b12b-82d38d1ea388"
      },
      "source": [
        "values = np.random.choice([0,1],size= sin) \n",
        "print(sum(values ==0),sum(values==1), sum(values ==0) + sum(values==1) )\n"
      ],
      "execution_count": 385,
      "outputs": [
        {
          "output_type": "stream",
          "text": [
            "17215 17120 34335\n"
          ],
          "name": "stdout"
        }
      ]
    },
    {
      "cell_type": "code",
      "metadata": {
        "id": "uLuqrhO1hRR6"
      },
      "source": [
        "mnist_trainset.data = torch.cat((mnist_trainset.data[indices],mnist_trainset.data[index]))\n",
        "mnist_trainset.targets = torch.cat((mnist_trainset.targets[indices],torch.Tensor(values).type(torch.LongTensor)))"
      ],
      "execution_count": 386,
      "outputs": []
    },
    {
      "cell_type": "code",
      "metadata": {
        "colab": {
          "base_uri": "https://localhost:8080/"
        },
        "id": "43UoqeUI4hIV",
        "outputId": "874896e6-1cf7-4e2c-88cd-356db5f6e82b"
      },
      "source": [
        "mnist_trainset.targets.shape, mnist_trainset.data.shape"
      ],
      "execution_count": 387,
      "outputs": [
        {
          "output_type": "execute_result",
          "data": {
            "text/plain": [
              "(torch.Size([47000]), torch.Size([47000, 28, 28]))"
            ]
          },
          "metadata": {
            "tags": []
          },
          "execution_count": 387
        }
      ]
    },
    {
      "cell_type": "code",
      "metadata": {
        "id": "iczET1tohOsL",
        "colab": {
          "base_uri": "https://localhost:8080/",
          "height": 283
        },
        "outputId": "bfe05508-ee8a-49c2-9907-092edee61ea6"
      },
      "source": [
        "# mnist_trainset.targets[index] = torch.Tensor(values).type(torch.LongTensor)\n",
        "j =20078     # Without Shuffle upto True Training numbers correct , after that corrupted\n",
        "print(plt.imshow(mnist_trainset.data[j]),mnist_trainset.targets[j])"
      ],
      "execution_count": 388,
      "outputs": [
        {
          "output_type": "stream",
          "text": [
            "AxesImage(54,36;334.8x217.44) tensor(0)\n"
          ],
          "name": "stdout"
        },
        {
          "output_type": "display_data",
          "data": {
            "image/png": "[encoded data removed]",
            "text/plain": [
              "<Figure size 432x288 with 1 Axes>"
            ]
          },
          "metadata": {
            "tags": [],
            "needs_background": "light"
          }
        }
      ]
    },
    {
      "cell_type": "code",
      "metadata": {
        "id": "U8WPVHnPacrd"
      },
      "source": [
        "trainloader = torch.utils.data.DataLoader(mnist_trainset, batch_size=250,shuffle=True, num_workers=2)"
      ],
      "execution_count": 389,
      "outputs": []
    },
    {
      "cell_type": "code",
      "metadata": {
        "id": "7L7ocAcracri"
      },
      "source": [
        "testloader = torch.utils.data.DataLoader(mnist_testset, batch_size=250,shuffle=False, num_workers=2)"
      ],
      "execution_count": 390,
      "outputs": []
    },
    {
      "cell_type": "code",
      "metadata": {
        "colab": {
          "base_uri": "https://localhost:8080/"
        },
        "id": "ULbHmoX-5QRM",
        "outputId": "6b3c3f33-053d-40d5-9482-65fb72400af2"
      },
      "source": [
        "mnist_trainset.data.shape"
      ],
      "execution_count": 391,
      "outputs": [
        {
          "output_type": "execute_result",
          "data": {
            "text/plain": [
              "torch.Size([47000, 28, 28])"
            ]
          },
          "metadata": {
            "tags": []
          },
          "execution_count": 391
        }
      ]
    },
    {
      "cell_type": "code",
      "metadata": {
        "id": "pdhAr2p6acrm"
      },
      "source": [
        "classes = ('zero', 'one')"
      ],
      "execution_count": 392,
      "outputs": []
    },
    {
      "cell_type": "code",
      "metadata": {
        "id": "jhUOj6Tnacrr"
      },
      "source": [
        "dataiter = iter(trainloader)\n",
        "images, labels = dataiter.next()"
      ],
      "execution_count": 393,
      "outputs": []
    },
    {
      "cell_type": "code",
      "metadata": {
        "id": "vVgW5hBkacrv",
        "colab": {
          "base_uri": "https://localhost:8080/"
        },
        "outputId": "cdd3acb5-d635-47cd-ff5d-a018947272ab"
      },
      "source": [
        "images[:4].shape"
      ],
      "execution_count": 394,
      "outputs": [
        {
          "output_type": "execute_result",
          "data": {
            "text/plain": [
              "torch.Size([4, 1, 28, 28])"
            ]
          },
          "metadata": {
            "tags": []
          },
          "execution_count": 394
        }
      ]
    },
    {
      "cell_type": "code",
      "metadata": {
        "id": "nUtA80KCacr1"
      },
      "source": [
        "def imshow(img):\n",
        "    img = img / 2 + 0.5     # unnormalize\n",
        "    npimg = img.numpy()\n",
        "    plt.imshow(np.transpose(npimg, (1, 2, 0)))\n",
        "    plt.show()"
      ],
      "execution_count": 395,
      "outputs": []
    },
    {
      "cell_type": "code",
      "metadata": {
        "id": "Xv34FfAdacr5",
        "colab": {
          "base_uri": "https://localhost:8080/",
          "height": 155
        },
        "outputId": "97fcb413-2506-4f8f-b6e2-461d8f1949b9"
      },
      "source": [
        "imshow(torchvision.utils.make_grid(images[:10]))\n",
        "print('GroundTruth: ', ' '.join('%5s' % classes[labels[j]] for j in range(10)))"
      ],
      "execution_count": 396,
      "outputs": [
        {
          "output_type": "display_data",
          "data": {
            "image/png": "[encoded data removed]",
            "text/plain": [
              "<Figure size 432x288 with 1 Axes>"
            ]
          },
          "metadata": {
            "tags": [],
            "needs_background": "light"
          }
        },
        {
          "output_type": "stream",
          "text": [
            "GroundTruth:   zero  zero  zero   one   one   one  zero  zero  zero   one\n"
          ],
          "name": "stdout"
        }
      ]
    },
    {
      "cell_type": "code",
      "metadata": {
        "id": "Ss-jhHRIacr-"
      },
      "source": [
        "class Module2(nn.Module):\n",
        "  def __init__(self):\n",
        "    super(Module2, self).__init__()\n",
        "    self.conv1 = nn.Conv2d(1, 6, 5)\n",
        "    self.pool = nn.MaxPool2d(2, 2)\n",
        "    self.conv2 = nn.Conv2d(6, 16, 5)\n",
        "    self.fc1 = nn.Linear(16 * 4 * 4, 128)\n",
        "    self.fc2 = nn.Linear(128, 64)\n",
        "    self.fc3 = nn.Linear(64, 10)\n",
        "    self.fc4 = nn.Linear(10,2)\n",
        "\n",
        "  def forward(self,z):  \n",
        "    y1 = self.pool(F.relu(self.conv1(z)))\n",
        "    y1 = self.pool(F.relu(self.conv2(y1)))\n",
        "    # print(y1.shape)\n",
        "    y1 = y1.view(-1, 16 * 4 * 4)\n",
        "\n",
        "    y1 = F.relu(self.fc1(y1))\n",
        "    y1 = F.relu(self.fc2(y1))\n",
        "    y1 = F.relu(self.fc3(y1))\n",
        "    y1 = self.fc4(y1)\n",
        "    return y1 "
      ],
      "execution_count": 397,
      "outputs": []
    },
    {
      "cell_type": "code",
      "metadata": {
        "id": "rByxqKdOacsM"
      },
      "source": [
        "inc = Module2()\n",
        "inc = inc.to(\"cuda\")"
      ],
      "execution_count": 398,
      "outputs": []
    },
    {
      "cell_type": "code",
      "metadata": {
        "id": "imWjagA2acsO"
      },
      "source": [
        "criterion_inception = nn.CrossEntropyLoss()\n",
        "optimizer_inception = optim.SGD(inc.parameters(), lr=0.01, momentum=0.9)"
      ],
      "execution_count": 399,
      "outputs": []
    },
    {
      "cell_type": "code",
      "metadata": {
        "id": "r5mCNr38acsR",
        "colab": {
          "base_uri": "https://localhost:8080/"
        },
        "outputId": "8c735d27-0277-4d77-d6e9-5c10cce9fe8c"
      },
      "source": [
        "acti = []\n",
        "loss_curi = []\n",
        "for epoch in range(epochs): # loop over the dataset multiple times\n",
        "    ep_lossi = []\n",
        "\n",
        "    running_loss = 0.0\n",
        "    for i, data in enumerate(trainloader, 0):\n",
        "        # get the inputs\n",
        "        inputs, labels = data\n",
        "        inputs, labels = inputs.to(\"cuda\"),labels.to(\"cuda\")\n",
        "\n",
        "        # print(inputs.shape)\n",
        "        # zero the parameter gradients\n",
        "        optimizer_inception.zero_grad()\n",
        "\n",
        "        # forward + backward + optimize\n",
        "        outputs = inc(inputs)\n",
        "        loss = criterion_inception(outputs, labels)\n",
        "        loss.backward()\n",
        "        optimizer_inception.step()\n",
        "\n",
        "        # print statistics\n",
        "        running_loss += loss.item()\n",
        "        if i % 50 == 49:    # print every 50 mini-batches\n",
        "            print('[%d, %5d] loss: %.3f' %\n",
        "                  (epoch + 1, i + 1, running_loss / 50))\n",
        "            ep_lossi.append(running_loss/50) # loss per minibatch\n",
        "            running_loss = 0.0\n",
        "            \n",
        "    loss_curi.append(np.mean(ep_lossi))   #loss per epoch\n",
        "    if (np.mean(ep_lossi)<=0.03):\n",
        "        break\n",
        "#         acti.append(actis)\n",
        "    \n",
        "            \n",
        "\n",
        "print('Finished Training')"
      ],
      "execution_count": 400,
      "outputs": [
        {
          "output_type": "stream",
          "text": [
            "[1,    50] loss: 0.696\n",
            "[1,   100] loss: 0.689\n",
            "[1,   150] loss: 0.679\n",
            "[2,    50] loss: 0.599\n",
            "[2,   100] loss: 0.588\n",
            "[2,   150] loss: 0.577\n",
            "[3,    50] loss: 0.560\n",
            "[3,   100] loss: 0.557\n",
            "[3,   150] loss: 0.543\n",
            "[4,    50] loss: 0.538\n",
            "[4,   100] loss: 0.530\n",
            "[4,   150] loss: 0.531\n",
            "[5,    50] loss: 0.529\n",
            "[5,   100] loss: 0.529\n",
            "[5,   150] loss: 0.521\n",
            "[6,    50] loss: 0.518\n",
            "[6,   100] loss: 0.528\n",
            "[6,   150] loss: 0.517\n",
            "[7,    50] loss: 0.523\n",
            "[7,   100] loss: 0.516\n",
            "[7,   150] loss: 0.517\n",
            "[8,    50] loss: 0.513\n",
            "[8,   100] loss: 0.515\n",
            "[8,   150] loss: 0.520\n",
            "[9,    50] loss: 0.513\n",
            "[9,   100] loss: 0.513\n",
            "[9,   150] loss: 0.516\n",
            "[10,    50] loss: 0.517\n",
            "[10,   100] loss: 0.512\n",
            "[10,   150] loss: 0.509\n",
            "[11,    50] loss: 0.513\n",
            "[11,   100] loss: 0.509\n",
            "[11,   150] loss: 0.510\n",
            "[12,    50] loss: 0.510\n",
            "[12,   100] loss: 0.513\n",
            "[12,   150] loss: 0.506\n",
            "[13,    50] loss: 0.508\n",
            "[13,   100] loss: 0.509\n",
            "[13,   150] loss: 0.511\n",
            "[14,    50] loss: 0.504\n",
            "[14,   100] loss: 0.510\n",
            "[14,   150] loss: 0.509\n",
            "[15,    50] loss: 0.503\n",
            "[15,   100] loss: 0.509\n",
            "[15,   150] loss: 0.508\n",
            "[16,    50] loss: 0.506\n",
            "[16,   100] loss: 0.507\n",
            "[16,   150] loss: 0.507\n",
            "[17,    50] loss: 0.500\n",
            "[17,   100] loss: 0.513\n",
            "[17,   150] loss: 0.504\n",
            "[18,    50] loss: 0.504\n",
            "[18,   100] loss: 0.506\n",
            "[18,   150] loss: 0.502\n",
            "[19,    50] loss: 0.504\n",
            "[19,   100] loss: 0.504\n",
            "[19,   150] loss: 0.503\n",
            "[20,    50] loss: 0.504\n",
            "[20,   100] loss: 0.503\n",
            "[20,   150] loss: 0.501\n",
            "[21,    50] loss: 0.499\n",
            "[21,   100] loss: 0.500\n",
            "[21,   150] loss: 0.505\n",
            "[22,    50] loss: 0.501\n",
            "[22,   100] loss: 0.498\n",
            "[22,   150] loss: 0.501\n",
            "[23,    50] loss: 0.499\n",
            "[23,   100] loss: 0.500\n",
            "[23,   150] loss: 0.497\n",
            "[24,    50] loss: 0.494\n",
            "[24,   100] loss: 0.498\n",
            "[24,   150] loss: 0.503\n",
            "[25,    50] loss: 0.494\n",
            "[25,   100] loss: 0.496\n",
            "[25,   150] loss: 0.497\n",
            "[26,    50] loss: 0.494\n",
            "[26,   100] loss: 0.500\n",
            "[26,   150] loss: 0.487\n",
            "[27,    50] loss: 0.488\n",
            "[27,   100] loss: 0.493\n",
            "[27,   150] loss: 0.495\n",
            "[28,    50] loss: 0.488\n",
            "[28,   100] loss: 0.490\n",
            "[28,   150] loss: 0.493\n",
            "[29,    50] loss: 0.488\n",
            "[29,   100] loss: 0.488\n",
            "[29,   150] loss: 0.492\n",
            "[30,    50] loss: 0.491\n",
            "[30,   100] loss: 0.485\n",
            "[30,   150] loss: 0.487\n",
            "[31,    50] loss: 0.488\n",
            "[31,   100] loss: 0.488\n",
            "[31,   150] loss: 0.482\n",
            "[32,    50] loss: 0.484\n",
            "[32,   100] loss: 0.491\n",
            "[32,   150] loss: 0.480\n",
            "[33,    50] loss: 0.479\n",
            "[33,   100] loss: 0.482\n",
            "[33,   150] loss: 0.486\n",
            "[34,    50] loss: 0.481\n",
            "[34,   100] loss: 0.474\n",
            "[34,   150] loss: 0.480\n",
            "[35,    50] loss: 0.474\n",
            "[35,   100] loss: 0.479\n",
            "[35,   150] loss: 0.481\n",
            "[36,    50] loss: 0.475\n",
            "[36,   100] loss: 0.471\n",
            "[36,   150] loss: 0.483\n",
            "[37,    50] loss: 0.469\n",
            "[37,   100] loss: 0.479\n",
            "[37,   150] loss: 0.474\n",
            "[38,    50] loss: 0.472\n",
            "[38,   100] loss: 0.470\n",
            "[38,   150] loss: 0.473\n",
            "[39,    50] loss: 0.463\n",
            "[39,   100] loss: 0.466\n",
            "[39,   150] loss: 0.470\n",
            "[40,    50] loss: 0.459\n",
            "[40,   100] loss: 0.472\n",
            "[40,   150] loss: 0.464\n",
            "[41,    50] loss: 0.452\n",
            "[41,   100] loss: 0.467\n",
            "[41,   150] loss: 0.465\n",
            "[42,    50] loss: 0.454\n",
            "[42,   100] loss: 0.462\n",
            "[42,   150] loss: 0.466\n",
            "[43,    50] loss: 0.448\n",
            "[43,   100] loss: 0.454\n",
            "[43,   150] loss: 0.460\n",
            "[44,    50] loss: 0.442\n",
            "[44,   100] loss: 0.461\n",
            "[44,   150] loss: 0.451\n",
            "[45,    50] loss: 0.448\n",
            "[45,   100] loss: 0.450\n",
            "[45,   150] loss: 0.453\n",
            "[46,    50] loss: 0.438\n",
            "[46,   100] loss: 0.449\n",
            "[46,   150] loss: 0.445\n",
            "[47,    50] loss: 0.428\n",
            "[47,   100] loss: 0.443\n",
            "[47,   150] loss: 0.445\n",
            "[48,    50] loss: 0.427\n",
            "[48,   100] loss: 0.442\n",
            "[48,   150] loss: 0.436\n",
            "[49,    50] loss: 0.425\n",
            "[49,   100] loss: 0.432\n",
            "[49,   150] loss: 0.431\n",
            "[50,    50] loss: 0.414\n",
            "[50,   100] loss: 0.424\n",
            "[50,   150] loss: 0.434\n",
            "[51,    50] loss: 0.421\n",
            "[51,   100] loss: 0.423\n",
            "[51,   150] loss: 0.431\n",
            "[52,    50] loss: 0.410\n",
            "[52,   100] loss: 0.413\n",
            "[52,   150] loss: 0.426\n",
            "[53,    50] loss: 0.403\n",
            "[53,   100] loss: 0.415\n",
            "[53,   150] loss: 0.417\n",
            "[54,    50] loss: 0.401\n",
            "[54,   100] loss: 0.409\n",
            "[54,   150] loss: 0.411\n",
            "[55,    50] loss: 0.395\n",
            "[55,   100] loss: 0.397\n",
            "[55,   150] loss: 0.399\n",
            "[56,    50] loss: 0.391\n",
            "[56,   100] loss: 0.396\n",
            "[56,   150] loss: 0.399\n",
            "[57,    50] loss: 0.389\n",
            "[57,   100] loss: 0.391\n",
            "[57,   150] loss: 0.401\n",
            "[58,    50] loss: 0.373\n",
            "[58,   100] loss: 0.391\n",
            "[58,   150] loss: 0.403\n",
            "[59,    50] loss: 0.365\n",
            "[59,   100] loss: 0.382\n",
            "[59,   150] loss: 0.382\n",
            "[60,    50] loss: 0.379\n",
            "[60,   100] loss: 0.366\n",
            "[60,   150] loss: 0.384\n",
            "[61,    50] loss: 0.364\n",
            "[61,   100] loss: 0.357\n",
            "[61,   150] loss: 0.382\n",
            "[62,    50] loss: 0.361\n",
            "[62,   100] loss: 0.362\n",
            "[62,   150] loss: 0.376\n",
            "[63,    50] loss: 0.350\n",
            "[63,   100] loss: 0.362\n",
            "[63,   150] loss: 0.363\n",
            "[64,    50] loss: 0.345\n",
            "[64,   100] loss: 0.350\n",
            "[64,   150] loss: 0.372\n",
            "[65,    50] loss: 0.328\n",
            "[65,   100] loss: 0.347\n",
            "[65,   150] loss: 0.350\n",
            "[66,    50] loss: 0.332\n",
            "[66,   100] loss: 0.338\n",
            "[66,   150] loss: 0.344\n",
            "[67,    50] loss: 0.315\n",
            "[67,   100] loss: 0.335\n",
            "[67,   150] loss: 0.353\n",
            "[68,    50] loss: 0.316\n",
            "[68,   100] loss: 0.330\n",
            "[68,   150] loss: 0.346\n",
            "[69,    50] loss: 0.309\n",
            "[69,   100] loss: 0.321\n",
            "[69,   150] loss: 0.334\n",
            "[70,    50] loss: 0.297\n",
            "[70,   100] loss: 0.310\n",
            "[70,   150] loss: 0.331\n",
            "[71,    50] loss: 0.291\n",
            "[71,   100] loss: 0.319\n",
            "[71,   150] loss: 0.324\n",
            "[72,    50] loss: 0.294\n",
            "[72,   100] loss: 0.303\n",
            "[72,   150] loss: 0.323\n",
            "[73,    50] loss: 0.293\n",
            "[73,   100] loss: 0.295\n",
            "[73,   150] loss: 0.327\n",
            "[74,    50] loss: 0.274\n",
            "[74,   100] loss: 0.299\n",
            "[74,   150] loss: 0.309\n",
            "[75,    50] loss: 0.269\n",
            "[75,   100] loss: 0.286\n",
            "[75,   150] loss: 0.294\n",
            "[76,    50] loss: 0.264\n",
            "[76,   100] loss: 0.285\n",
            "[76,   150] loss: 0.292\n",
            "[77,    50] loss: 0.277\n",
            "[77,   100] loss: 0.280\n",
            "[77,   150] loss: 0.280\n",
            "[78,    50] loss: 0.257\n",
            "[78,   100] loss: 0.270\n",
            "[78,   150] loss: 0.279\n",
            "[79,    50] loss: 0.247\n",
            "[79,   100] loss: 0.266\n",
            "[79,   150] loss: 0.293\n",
            "[80,    50] loss: 0.246\n",
            "[80,   100] loss: 0.267\n",
            "[80,   150] loss: 0.274\n",
            "[81,    50] loss: 0.238\n",
            "[81,   100] loss: 0.255\n",
            "[81,   150] loss: 0.259\n",
            "[82,    50] loss: 0.224\n",
            "[82,   100] loss: 0.253\n",
            "[82,   150] loss: 0.254\n",
            "[83,    50] loss: 0.264\n",
            "[83,   100] loss: 0.237\n",
            "[83,   150] loss: 0.258\n",
            "[84,    50] loss: 0.222\n",
            "[84,   100] loss: 0.240\n",
            "[84,   150] loss: 0.265\n",
            "[85,    50] loss: 0.218\n",
            "[85,   100] loss: 0.238\n",
            "[85,   150] loss: 0.250\n",
            "[86,    50] loss: 0.205\n",
            "[86,   100] loss: 0.221\n",
            "[86,   150] loss: 0.254\n",
            "[87,    50] loss: 0.204\n",
            "[87,   100] loss: 0.233\n",
            "[87,   150] loss: 0.240\n",
            "[88,    50] loss: 0.212\n",
            "[88,   100] loss: 0.219\n",
            "[88,   150] loss: 0.230\n",
            "[89,    50] loss: 0.208\n",
            "[89,   100] loss: 0.201\n",
            "[89,   150] loss: 0.230\n",
            "[90,    50] loss: 0.195\n",
            "[90,   100] loss: 0.211\n",
            "[90,   150] loss: 0.231\n",
            "[91,    50] loss: 0.192\n",
            "[91,   100] loss: 0.222\n",
            "[91,   150] loss: 0.221\n",
            "[92,    50] loss: 0.188\n",
            "[92,   100] loss: 0.200\n",
            "[92,   150] loss: 0.205\n",
            "[93,    50] loss: 0.189\n",
            "[93,   100] loss: 0.194\n",
            "[93,   150] loss: 0.230\n",
            "[94,    50] loss: 0.172\n",
            "[94,   100] loss: 0.190\n",
            "[94,   150] loss: 0.196\n",
            "[95,    50] loss: 0.181\n",
            "[95,   100] loss: 0.190\n",
            "[95,   150] loss: 0.207\n",
            "[96,    50] loss: 0.177\n",
            "[96,   100] loss: 0.183\n",
            "[96,   150] loss: 0.188\n",
            "[97,    50] loss: 0.168\n",
            "[97,   100] loss: 0.166\n",
            "[97,   150] loss: 0.203\n",
            "[98,    50] loss: 0.156\n",
            "[98,   100] loss: 0.181\n",
            "[98,   150] loss: 0.206\n",
            "[99,    50] loss: 0.169\n",
            "[99,   100] loss: 0.171\n",
            "[99,   150] loss: 0.200\n",
            "[100,    50] loss: 0.172\n",
            "[100,   100] loss: 0.165\n",
            "[100,   150] loss: 0.196\n",
            "[101,    50] loss: 0.158\n",
            "[101,   100] loss: 0.175\n",
            "[101,   150] loss: 0.181\n",
            "[102,    50] loss: 0.151\n",
            "[102,   100] loss: 0.154\n",
            "[102,   150] loss: 0.177\n",
            "[103,    50] loss: 0.139\n",
            "[103,   100] loss: 0.165\n",
            "[103,   150] loss: 0.183\n",
            "[104,    50] loss: 0.140\n",
            "[104,   100] loss: 0.155\n",
            "[104,   150] loss: 0.180\n",
            "[105,    50] loss: 0.160\n",
            "[105,   100] loss: 0.169\n",
            "[105,   150] loss: 0.159\n",
            "[106,    50] loss: 0.158\n",
            "[106,   100] loss: 0.160\n",
            "[106,   150] loss: 0.171\n",
            "[107,    50] loss: 0.141\n",
            "[107,   100] loss: 0.142\n",
            "[107,   150] loss: 0.156\n",
            "[108,    50] loss: 0.141\n",
            "[108,   100] loss: 0.177\n",
            "[108,   150] loss: 0.174\n",
            "[109,    50] loss: 0.130\n",
            "[109,   100] loss: 0.134\n",
            "[109,   150] loss: 0.162\n",
            "[110,    50] loss: 0.126\n",
            "[110,   100] loss: 0.140\n",
            "[110,   150] loss: 0.145\n",
            "[111,    50] loss: 0.136\n",
            "[111,   100] loss: 0.136\n",
            "[111,   150] loss: 0.150\n",
            "[112,    50] loss: 0.128\n",
            "[112,   100] loss: 0.137\n",
            "[112,   150] loss: 0.136\n",
            "[113,    50] loss: 0.105\n",
            "[113,   100] loss: 0.123\n",
            "[113,   150] loss: 0.146\n",
            "[114,    50] loss: 0.133\n",
            "[114,   100] loss: 0.145\n",
            "[114,   150] loss: 0.139\n",
            "[115,    50] loss: 0.107\n",
            "[115,   100] loss: 0.138\n",
            "[115,   150] loss: 0.158\n",
            "[116,    50] loss: 0.121\n",
            "[116,   100] loss: 0.128\n",
            "[116,   150] loss: 0.148\n",
            "[117,    50] loss: 0.109\n",
            "[117,   100] loss: 0.111\n",
            "[117,   150] loss: 0.116\n",
            "[118,    50] loss: 0.120\n",
            "[118,   100] loss: 0.110\n",
            "[118,   150] loss: 0.125\n",
            "[119,    50] loss: 0.099\n",
            "[119,   100] loss: 0.104\n",
            "[119,   150] loss: 0.134\n",
            "[120,    50] loss: 0.125\n",
            "[120,   100] loss: 0.125\n",
            "[120,   150] loss: 0.118\n",
            "[121,    50] loss: 0.108\n",
            "[121,   100] loss: 0.120\n",
            "[121,   150] loss: 0.132\n",
            "[122,    50] loss: 0.095\n",
            "[122,   100] loss: 0.085\n",
            "[122,   150] loss: 0.120\n",
            "[123,    50] loss: 0.103\n",
            "[123,   100] loss: 0.124\n",
            "[123,   150] loss: 0.137\n",
            "[124,    50] loss: 0.096\n",
            "[124,   100] loss: 0.105\n",
            "[124,   150] loss: 0.113\n",
            "[125,    50] loss: 0.118\n",
            "[125,   100] loss: 0.115\n",
            "[125,   150] loss: 0.105\n",
            "[126,    50] loss: 0.101\n",
            "[126,   100] loss: 0.105\n",
            "[126,   150] loss: 0.135\n",
            "[127,    50] loss: 0.087\n",
            "[127,   100] loss: 0.083\n",
            "[127,   150] loss: 0.096\n",
            "[128,    50] loss: 0.108\n",
            "[128,   100] loss: 0.109\n",
            "[128,   150] loss: 0.140\n",
            "[129,    50] loss: 0.086\n",
            "[129,   100] loss: 0.090\n",
            "[129,   150] loss: 0.093\n",
            "[130,    50] loss: 0.091\n",
            "[130,   100] loss: 0.101\n",
            "[130,   150] loss: 0.111\n",
            "[131,    50] loss: 0.091\n",
            "[131,   100] loss: 0.085\n",
            "[131,   150] loss: 0.095\n",
            "[132,    50] loss: 0.104\n",
            "[132,   100] loss: 0.104\n",
            "[132,   150] loss: 0.118\n",
            "[133,    50] loss: 0.073\n",
            "[133,   100] loss: 0.072\n",
            "[133,   150] loss: 0.082\n",
            "[134,    50] loss: 0.084\n",
            "[134,   100] loss: 0.082\n",
            "[134,   150] loss: 0.085\n",
            "[135,    50] loss: 0.086\n",
            "[135,   100] loss: 0.100\n",
            "[135,   150] loss: 0.105\n",
            "[136,    50] loss: 0.086\n",
            "[136,   100] loss: 0.077\n",
            "[136,   150] loss: 0.104\n",
            "[137,    50] loss: 0.085\n",
            "[137,   100] loss: 0.086\n",
            "[137,   150] loss: 0.090\n",
            "[138,    50] loss: 0.080\n",
            "[138,   100] loss: 0.093\n",
            "[138,   150] loss: 0.089\n",
            "[139,    50] loss: 0.074\n",
            "[139,   100] loss: 0.072\n",
            "[139,   150] loss: 0.093\n",
            "[140,    50] loss: 0.083\n",
            "[140,   100] loss: 0.071\n",
            "[140,   150] loss: 0.072\n",
            "[141,    50] loss: 0.067\n",
            "[141,   100] loss: 0.073\n",
            "[141,   150] loss: 0.101\n",
            "[142,    50] loss: 0.079\n",
            "[142,   100] loss: 0.077\n",
            "[142,   150] loss: 0.081\n",
            "[143,    50] loss: 0.073\n",
            "[143,   100] loss: 0.074\n",
            "[143,   150] loss: 0.073\n",
            "[144,    50] loss: 0.067\n",
            "[144,   100] loss: 0.065\n",
            "[144,   150] loss: 0.078\n",
            "[145,    50] loss: 0.079\n",
            "[145,   100] loss: 0.070\n",
            "[145,   150] loss: 0.084\n",
            "[146,    50] loss: 0.066\n",
            "[146,   100] loss: 0.076\n",
            "[146,   150] loss: 0.090\n",
            "[147,    50] loss: 0.073\n",
            "[147,   100] loss: 0.073\n",
            "[147,   150] loss: 0.073\n",
            "[148,    50] loss: 0.066\n",
            "[148,   100] loss: 0.073\n",
            "[148,   150] loss: 0.082\n",
            "[149,    50] loss: 0.084\n",
            "[149,   100] loss: 0.075\n",
            "[149,   150] loss: 0.086\n",
            "[150,    50] loss: 0.059\n",
            "[150,   100] loss: 0.055\n",
            "[150,   150] loss: 0.066\n",
            "[151,    50] loss: 0.056\n",
            "[151,   100] loss: 0.051\n",
            "[151,   150] loss: 0.058\n",
            "[152,    50] loss: 0.067\n",
            "[152,   100] loss: 0.067\n",
            "[152,   150] loss: 0.091\n",
            "[153,    50] loss: 0.079\n",
            "[153,   100] loss: 0.072\n",
            "[153,   150] loss: 0.061\n",
            "[154,    50] loss: 0.062\n",
            "[154,   100] loss: 0.069\n",
            "[154,   150] loss: 0.077\n",
            "[155,    50] loss: 0.082\n",
            "[155,   100] loss: 0.071\n",
            "[155,   150] loss: 0.063\n",
            "[156,    50] loss: 0.046\n",
            "[156,   100] loss: 0.047\n",
            "[156,   150] loss: 0.055\n",
            "[157,    50] loss: 0.066\n",
            "[157,   100] loss: 0.076\n",
            "[157,   150] loss: 0.066\n",
            "[158,    50] loss: 0.075\n",
            "[158,   100] loss: 0.073\n",
            "[158,   150] loss: 0.061\n",
            "[159,    50] loss: 0.050\n",
            "[159,   100] loss: 0.060\n",
            "[159,   150] loss: 0.069\n",
            "[160,    50] loss: 0.050\n",
            "[160,   100] loss: 0.050\n",
            "[160,   150] loss: 0.071\n",
            "[161,    50] loss: 0.050\n",
            "[161,   100] loss: 0.060\n",
            "[161,   150] loss: 0.060\n",
            "[162,    50] loss: 0.067\n",
            "[162,   100] loss: 0.070\n",
            "[162,   150] loss: 0.058\n",
            "[163,    50] loss: 0.052\n",
            "[163,   100] loss: 0.059\n",
            "[163,   150] loss: 0.073\n",
            "[164,    50] loss: 0.069\n",
            "[164,   100] loss: 0.056\n",
            "[164,   150] loss: 0.052\n",
            "[165,    50] loss: 0.044\n",
            "[165,   100] loss: 0.043\n",
            "[165,   150] loss: 0.070\n",
            "[166,    50] loss: 0.044\n",
            "[166,   100] loss: 0.058\n",
            "[166,   150] loss: 0.051\n",
            "[167,    50] loss: 0.082\n",
            "[167,   100] loss: 0.057\n",
            "[167,   150] loss: 0.045\n",
            "[168,    50] loss: 0.038\n",
            "[168,   100] loss: 0.042\n",
            "[168,   150] loss: 0.042\n",
            "[169,    50] loss: 0.049\n",
            "[169,   100] loss: 0.061\n",
            "[169,   150] loss: 0.056\n",
            "[170,    50] loss: 0.047\n",
            "[170,   100] loss: 0.062\n",
            "[170,   150] loss: 0.070\n",
            "[171,    50] loss: 0.060\n",
            "[171,   100] loss: 0.045\n",
            "[171,   150] loss: 0.049\n",
            "[172,    50] loss: 0.047\n",
            "[172,   100] loss: 0.044\n",
            "[172,   150] loss: 0.050\n",
            "[173,    50] loss: 0.040\n",
            "[173,   100] loss: 0.040\n",
            "[173,   150] loss: 0.051\n",
            "[174,    50] loss: 0.048\n",
            "[174,   100] loss: 0.045\n",
            "[174,   150] loss: 0.056\n",
            "[175,    50] loss: 0.053\n",
            "[175,   100] loss: 0.051\n",
            "[175,   150] loss: 0.045\n",
            "[176,    50] loss: 0.045\n",
            "[176,   100] loss: 0.049\n",
            "[176,   150] loss: 0.055\n",
            "[177,    50] loss: 0.053\n",
            "[177,   100] loss: 0.046\n",
            "[177,   150] loss: 0.048\n",
            "[178,    50] loss: 0.042\n",
            "[178,   100] loss: 0.048\n",
            "[178,   150] loss: 0.064\n",
            "[179,    50] loss: 0.040\n",
            "[179,   100] loss: 0.049\n",
            "[179,   150] loss: 0.065\n",
            "[180,    50] loss: 0.044\n",
            "[180,   100] loss: 0.044\n",
            "[180,   150] loss: 0.045\n",
            "[181,    50] loss: 0.047\n",
            "[181,   100] loss: 0.038\n",
            "[181,   150] loss: 0.048\n",
            "[182,    50] loss: 0.029\n",
            "[182,   100] loss: 0.033\n",
            "[182,   150] loss: 0.031\n",
            "[183,    50] loss: 0.045\n",
            "[183,   100] loss: 0.049\n",
            "[183,   150] loss: 0.070\n",
            "[184,    50] loss: 0.038\n",
            "[184,   100] loss: 0.040\n",
            "[184,   150] loss: 0.048\n",
            "[185,    50] loss: 0.033\n",
            "[185,   100] loss: 0.031\n",
            "[185,   150] loss: 0.039\n",
            "[186,    50] loss: 0.034\n",
            "[186,   100] loss: 0.037\n",
            "[186,   150] loss: 0.049\n",
            "[187,    50] loss: 0.047\n",
            "[187,   100] loss: 0.043\n",
            "[187,   150] loss: 0.040\n",
            "[188,    50] loss: 0.047\n",
            "[188,   100] loss: 0.037\n",
            "[188,   150] loss: 0.038\n",
            "[189,    50] loss: 0.028\n",
            "[189,   100] loss: 0.034\n",
            "[189,   150] loss: 0.056\n",
            "[190,    50] loss: 0.042\n",
            "[190,   100] loss: 0.053\n",
            "[190,   150] loss: 0.047\n",
            "[191,    50] loss: 0.041\n",
            "[191,   100] loss: 0.041\n",
            "[191,   150] loss: 0.029\n",
            "[192,    50] loss: 0.036\n",
            "[192,   100] loss: 0.043\n",
            "[192,   150] loss: 0.048\n",
            "[193,    50] loss: 0.043\n",
            "[193,   100] loss: 0.032\n",
            "[193,   150] loss: 0.040\n",
            "[194,    50] loss: 0.026\n",
            "[194,   100] loss: 0.023\n",
            "[194,   150] loss: 0.029\n",
            "Finished Training\n"
          ],
          "name": "stdout"
        }
      ]
    },
    {
      "cell_type": "code",
      "metadata": {
        "id": "IxXbhlbEacsW",
        "colab": {
          "base_uri": "https://localhost:8080/"
        },
        "outputId": "0e6a6d62-0c47-4acd-b799-e5dd92e14588"
      },
      "source": [
        "correct = 0\n",
        "total = 0\n",
        "with torch.no_grad():\n",
        "    for data in trainloader:\n",
        "        images, labels = data\n",
        "        images, labels = images.to(\"cuda\"), labels.to(\"cuda\")\n",
        "        outputs = inc(images)\n",
        "        _, predicted = torch.max(outputs.data, 1)\n",
        "        total += labels.size(0)\n",
        "        correct += (predicted == labels).sum().item()\n",
        "\n",
        "print('Accuracy of the network on the 60000 train images: %d %%' % (\n",
        "    100 * correct / total))"
      ],
      "execution_count": 401,
      "outputs": [
        {
          "output_type": "stream",
          "text": [
            "Accuracy of the network on the 60000 train images: 98 %\n"
          ],
          "name": "stdout"
        }
      ]
    },
    {
      "cell_type": "code",
      "metadata": {
        "id": "U2kQXLzgacsa",
        "colab": {
          "base_uri": "https://localhost:8080/"
        },
        "outputId": "4872a778-5853-418c-a9fa-7f63e60aa839"
      },
      "source": [
        "total,correct"
      ],
      "execution_count": 402,
      "outputs": [
        {
          "output_type": "execute_result",
          "data": {
            "text/plain": [
              "(47000, 46324)"
            ]
          },
          "metadata": {
            "tags": []
          },
          "execution_count": 402
        }
      ]
    },
    {
      "cell_type": "code",
      "metadata": {
        "id": "5IcmEl2lacsd",
        "colab": {
          "base_uri": "https://localhost:8080/"
        },
        "outputId": "e4bfc24a-c536-4d24-922d-2f736599f95e"
      },
      "source": [
        "correct = 0\n",
        "total = 0\n",
        "out = []\n",
        "pred = []\n",
        "with torch.no_grad():\n",
        "    for data in testloader:\n",
        "        images, labels = data\n",
        "        images, labels = images.to(\"cuda\"),labels.to(\"cuda\")\n",
        "        out.append(labels.cpu().numpy())\n",
        "        outputs= inc(images)\n",
        "        _, predicted = torch.max(outputs.data, 1)\n",
        "        pred.append(predicted.cpu().numpy())\n",
        "        total += labels.size(0)\n",
        "        correct += (predicted == labels).sum().item()\n",
        "\n",
        "print('Accuracy of the network on the 10000 test images: %d %%' % (\n",
        "    100 * correct / total))"
      ],
      "execution_count": 403,
      "outputs": [
        {
          "output_type": "stream",
          "text": [
            "Accuracy of the network on the 10000 test images: 21 %\n"
          ],
          "name": "stdout"
        }
      ]
    },
    {
      "cell_type": "code",
      "metadata": {
        "id": "KrlBRcSQacsg"
      },
      "source": [
        "out = np.concatenate(out,axis=0)"
      ],
      "execution_count": 404,
      "outputs": []
    },
    {
      "cell_type": "code",
      "metadata": {
        "id": "EWyBhOPlacsi"
      },
      "source": [
        "pred = np.concatenate(pred,axis=0)"
      ],
      "execution_count": 405,
      "outputs": []
    },
    {
      "cell_type": "code",
      "metadata": {
        "id": "IJ1F7Lfdacsl",
        "colab": {
          "base_uri": "https://localhost:8080/"
        },
        "outputId": "725ab06a-0898-4caf-ac37-9daaf6d2e0f7"
      },
      "source": [
        "index = np.logical_or(out ==1,out==0)\n",
        "print(index.shape)"
      ],
      "execution_count": 406,
      "outputs": [
        {
          "output_type": "stream",
          "text": [
            "(10000,)\n"
          ],
          "name": "stdout"
        }
      ]
    },
    {
      "cell_type": "code",
      "metadata": {
        "id": "h7PmLPkGacsn",
        "colab": {
          "base_uri": "https://localhost:8080/"
        },
        "outputId": "2f08254b-c734-4c52-c2c1-95744eabc2c0"
      },
      "source": [
        "acc = sum(out[index] == pred[index])/sum(index)\n",
        "print('Accuracy of the network on the 10000 test images: %d %%' % (\n",
        "    100*acc))"
      ],
      "execution_count": 407,
      "outputs": [
        {
          "output_type": "stream",
          "text": [
            "Accuracy of the network on the 10000 test images: 99 %\n"
          ],
          "name": "stdout"
        }
      ]
    },
    {
      "cell_type": "code",
      "metadata": {
        "id": "fvCi8x41acsq",
        "colab": {
          "base_uri": "https://localhost:8080/"
        },
        "outputId": "4d48345a-bdf9-4604-88ff-6171a53ed244"
      },
      "source": [
        "\n",
        "sum(index)"
      ],
      "execution_count": 408,
      "outputs": [
        {
          "output_type": "execute_result",
          "data": {
            "text/plain": [
              "2115"
            ]
          },
          "metadata": {
            "tags": []
          },
          "execution_count": 408
        }
      ]
    },
    {
      "cell_type": "code",
      "metadata": {
        "id": "bdGNgi62acss",
        "colab": {
          "base_uri": "https://localhost:8080/"
        },
        "outputId": "f4b54d75-91bb-4764-a928-63e7df85a449"
      },
      "source": [
        "import random\n",
        "random.sample([1,2,3,4,5,6,7,8],5)"
      ],
      "execution_count": 409,
      "outputs": [
        {
          "output_type": "execute_result",
          "data": {
            "text/plain": [
              "[7, 2, 1, 8, 5]"
            ]
          },
          "metadata": {
            "tags": []
          },
          "execution_count": 409
        }
      ]
    },
    {
      "cell_type": "code",
      "metadata": {
        "id": "KBZqLh7heULT"
      },
      "source": [
        "# torch.save(inc.state_dict(),\"/content/drive/My Drive/model_simple_8000.pkl\")"
      ],
      "execution_count": 410,
      "outputs": []
    },
    {
      "cell_type": "code",
      "metadata": {
        "id": "JgLuOIeLeUHk",
        "colab": {
          "base_uri": "https://localhost:8080/",
          "height": 279
        },
        "outputId": "5d85ecda-d667-497a-bf39-c94545c30651"
      },
      "source": [
        "fig = plt.figure()\n",
        "plt.plot(loss_curi,label=\"loss_Curve\")\n",
        "plt.xlabel(\"epochs\")\n",
        "plt.ylabel(\"training_loss\")\n",
        "plt.legend()\n",
        "fig.savefig(\"loss_curve.pdf\") "
      ],
      "execution_count": 411,
      "outputs": [
        {
          "output_type": "display_data",
          "data": {
            "image/png": "[encoded data removed]",
            "text/plain": [
              "<Figure size 432x288 with 1 Axes>"
            ]
          },
          "metadata": {
            "tags": [],
            "needs_background": "light"
          }
        }
      ]
    },
    {
      "cell_type": "code",
      "metadata": {
        "id": "pZhSFZLeeXeO"
      },
      "source": [
        ""
      ],
      "execution_count": 411,
      "outputs": []
    },
    {
      "cell_type": "markdown",
      "metadata": {
        "id": "p9IrsRjWNZvw"
      },
      "source": [
        "Simple Model 3 Inception Module\n",
        "\n",
        "|true training data  | Corr Training Data | Test Accuracy | Test Accuracy 0-1 | \n",
        "| ------------------ | ------------------ | ------------- | ----------------- |\n",
        "| 100   | 47335  | 15  |  75 |\n",
        "| 500   | 47335  | 16  |  80 | \n",
        "| 1000  | 47335  | 17  | 83  | \n",
        "| 2000  | 47335  | 19 | 92 | \n",
        "| 4000  | 47335  | 20 | 95  | \n",
        "| 6000  | 47335  |  20 | 96  | \n",
        "| 8000  | 47335  | 20  |  96 | \n",
        "| 12665 | 47335  | 20 | 98  | \n",
        "\n",
        "\n",
        "|   Total Training Data       |   Training Accuracy      |\n",
        "|---------------------------- | ------------------------ |\n",
        "| 47435         | 100 |\n",
        "| 47835         | 100 |\n",
        "| 48335         | 100 |\n",
        "| 49335         | 100 | \n",
        "| 51335         | 100 |\n",
        "| 53335         | 100 |\n",
        "| 55335         | 100 |\n",
        "| 60000         | 100 |"
      ]
    },
    {
      "cell_type": "markdown",
      "metadata": {
        "id": "u6XhWXz3sYcx"
      },
      "source": [
        "Mini- Inception network 8 Inception Modules\n",
        "\n",
        "|true training data  | Corr Training Data | Test Accuracy | Test Accuracy 0-1 | \n",
        "| ------------------ | ------------------ | ------------- | ----------------- |\n",
        "| 100   | 47335  | 14  | 69  |\n",
        "| 500   | 47335  | 19  | 90  | \n",
        "| 1000  | 47335  | 19  |  92 | \n",
        "| 2000  | 47335  | 20  | 95  | \n",
        "| 4000  | 47335  | 20  |  97 | \n",
        "| 6000  | 47335  | 20  | 97  | \n",
        "| 8000  | 47335  | 20  |  98 | \n",
        "| 12665 | 47335  | 20  | 99  | "
      ]
    },
    {
      "cell_type": "markdown",
      "metadata": {
        "id": "d05DCw3Jw9Am"
      },
      "source": [
        "|   Total Training Data       |   Training Accuracy      |\n",
        "|---------------------------- | ------------------------ |\n",
        "| 47435         | 100 |\n",
        "| 47835         | 100 |\n",
        "| 48335         | 100 |\n",
        "| 49335         | 100 | \n",
        "| 51335         | 100 |\n",
        "| 53335         | 100 |\n",
        "| 55335         | 100 |\n",
        "| 60000         | 100 |"
      ]
    },
    {
      "cell_type": "code",
      "metadata": {
        "id": "NuAy-cU0sY9z"
      },
      "source": [
        ""
      ],
      "execution_count": 411,
      "outputs": []
    }
  ]
}