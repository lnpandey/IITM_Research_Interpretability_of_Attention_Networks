{
  "nbformat": 4,
  "nbformat_minor": 0,
  "metadata": {
    "kernelspec": {
      "name": "python3",
      "display_name": "Python 3"
    },
    "language_info": {
      "codemirror_mode": {
        "name": "ipython",
        "version": 3
      },
      "file_extension": ".py",
      "mimetype": "text/x-python",
      "name": "python",
      "nbconvert_exporter": "python",
      "pygments_lexer": "ipython3",
      "version": "3.7.0"
    },
    "colab": {
      "name": "cnn_2layers_500.ipynb",
      "provenance": [],
      "collapsed_sections": []
    },
    "accelerator": "GPU"
  },
  "cells": [
    {
      "cell_type": "code",
      "metadata": {
        "id": "lR-eQfx0acq8"
      },
      "source": [
        "import numpy as np\n",
        "import pandas as pd\n",
        "from matplotlib import pyplot as plt\n",
        "from tqdm import tqdm as tqdm\n",
        "\n",
        "%matplotlib inline\n",
        "\n",
        "import torch\n",
        "import torchvision\n",
        "\n",
        "import torchvision.transforms as transforms\n",
        "import torch.nn as nn\n",
        "import torch.optim as optim\n",
        "import torch.nn.functional as F\n",
        "import random"
      ],
      "execution_count": 184,
      "outputs": []
    },
    {
      "cell_type": "code",
      "metadata": {
        "id": "HxCE5TSmap0T"
      },
      "source": [
        "# from google.colab import drive\n",
        "\n",
        "# drive.mount('/content/drive')"
      ],
      "execution_count": 185,
      "outputs": []
    },
    {
      "cell_type": "code",
      "metadata": {
        "id": "yh4EScpqacrC"
      },
      "source": [
        "transform = transforms.Compose(\n",
        "    [transforms.CenterCrop((28,28)),transforms.ToTensor(),transforms.Normalize([0.5], [0.5])])\n"
      ],
      "execution_count": 186,
      "outputs": []
    },
    {
      "cell_type": "code",
      "metadata": {
        "id": "YoAqFwqpacrH"
      },
      "source": [
        "mnist_trainset = torchvision.datasets.MNIST(root='./data', train=True, download=True, transform=transform)\n",
        "mnist_testset = torchvision.datasets.MNIST(root='./data', train=False, download=True, transform=transform)"
      ],
      "execution_count": 187,
      "outputs": []
    },
    {
      "cell_type": "code",
      "metadata": {
        "id": "56x0FjYZacrM",
        "colab": {
          "base_uri": "https://localhost:8080/"
        },
        "outputId": "0a8d0054-0871-4a0d-d471-d223dc15cc91"
      },
      "source": [
        "index1 = [np.where(mnist_trainset.targets==0)[0] , np.where(mnist_trainset.targets==1)[0] ]\n",
        "index1 = np.concatenate(index1,axis=0)\n",
        "len(index1) #12665"
      ],
      "execution_count": 188,
      "outputs": [
        {
          "output_type": "execute_result",
          "data": {
            "text/plain": [
              "12665"
            ]
          },
          "metadata": {
            "tags": []
          },
          "execution_count": 188
        }
      ]
    },
    {
      "cell_type": "code",
      "metadata": {
        "id": "QZWNdX-BvxKP",
        "colab": {
          "base_uri": "https://localhost:8080/"
        },
        "outputId": "63370420-f7f2-4996-af7c-455daf6b2b5b"
      },
      "source": [
        "true = 2000\n",
        "total = 47000\n",
        "sin = total-true\n",
        "sin"
      ],
      "execution_count": 189,
      "outputs": [
        {
          "output_type": "execute_result",
          "data": {
            "text/plain": [
              "45000"
            ]
          },
          "metadata": {
            "tags": []
          },
          "execution_count": 189
        }
      ]
    },
    {
      "cell_type": "code",
      "metadata": {
        "id": "D45juO_vINDB"
      },
      "source": [
        "epochs = 300"
      ],
      "execution_count": 190,
      "outputs": []
    },
    {
      "cell_type": "code",
      "metadata": {
        "id": "yQOoEO2meJDv",
        "colab": {
          "base_uri": "https://localhost:8080/"
        },
        "outputId": "657e5c60-841f-4fc0-e25b-6ca829641759"
      },
      "source": [
        "indices = np.random.choice(index1,true)\n",
        "indices.shape"
      ],
      "execution_count": 191,
      "outputs": [
        {
          "output_type": "execute_result",
          "data": {
            "text/plain": [
              "(2000,)"
            ]
          },
          "metadata": {
            "tags": []
          },
          "execution_count": 191
        }
      ]
    },
    {
      "cell_type": "code",
      "metadata": {
        "id": "d_8snSm1acrR",
        "colab": {
          "base_uri": "https://localhost:8080/"
        },
        "outputId": "4a2ab0d2-6455-45cd-f3ce-4a5badb6319e"
      },
      "source": [
        "index = np.where(np.logical_and(mnist_trainset.targets!=0,mnist_trainset.targets!=1))[0]  #47335\n",
        "index.shape"
      ],
      "execution_count": 192,
      "outputs": [
        {
          "output_type": "execute_result",
          "data": {
            "text/plain": [
              "(47335,)"
            ]
          },
          "metadata": {
            "tags": []
          },
          "execution_count": 192
        }
      ]
    },
    {
      "cell_type": "code",
      "metadata": {
        "id": "ejwWlWXm5pP7"
      },
      "source": [
        "req_index = np.random.choice(index.shape[0], sin, replace=False) \n",
        "# req_index"
      ],
      "execution_count": 193,
      "outputs": []
    },
    {
      "cell_type": "code",
      "metadata": {
        "colab": {
          "base_uri": "https://localhost:8080/"
        },
        "id": "mEg6CPL-6fuj",
        "outputId": "76843eca-d428-409c-87e0-4991fd7ca949"
      },
      "source": [
        "index = index[req_index]\n",
        "index.shape"
      ],
      "execution_count": 194,
      "outputs": [
        {
          "output_type": "execute_result",
          "data": {
            "text/plain": [
              "(45000,)"
            ]
          },
          "metadata": {
            "tags": []
          },
          "execution_count": 194
        }
      ]
    },
    {
      "cell_type": "code",
      "metadata": {
        "id": "vYhiSaAnacrW",
        "colab": {
          "base_uri": "https://localhost:8080/"
        },
        "outputId": "efdc6e25-0034-44a7-f70a-b54b9ec7ef08"
      },
      "source": [
        "values = np.random.choice([0,1],size= sin) \n",
        "print(sum(values ==0),sum(values==1), sum(values ==0) + sum(values==1) )\n"
      ],
      "execution_count": 195,
      "outputs": [
        {
          "output_type": "stream",
          "text": [
            "22510 22490 45000\n"
          ],
          "name": "stdout"
        }
      ]
    },
    {
      "cell_type": "code",
      "metadata": {
        "id": "uLuqrhO1hRR6"
      },
      "source": [
        "mnist_trainset.data = torch.cat((mnist_trainset.data[indices],mnist_trainset.data[index]))\n",
        "mnist_trainset.targets = torch.cat((mnist_trainset.targets[indices],torch.Tensor(values).type(torch.LongTensor)))"
      ],
      "execution_count": 196,
      "outputs": []
    },
    {
      "cell_type": "code",
      "metadata": {
        "colab": {
          "base_uri": "https://localhost:8080/"
        },
        "id": "43UoqeUI4hIV",
        "outputId": "a64efcd0-8fad-4c70-a74e-54470d959cd7"
      },
      "source": [
        "mnist_trainset.targets.shape, mnist_trainset.data.shape"
      ],
      "execution_count": 197,
      "outputs": [
        {
          "output_type": "execute_result",
          "data": {
            "text/plain": [
              "(torch.Size([47000]), torch.Size([47000, 28, 28]))"
            ]
          },
          "metadata": {
            "tags": []
          },
          "execution_count": 197
        }
      ]
    },
    {
      "cell_type": "code",
      "metadata": {
        "id": "iczET1tohOsL",
        "colab": {
          "base_uri": "https://localhost:8080/",
          "height": 283
        },
        "outputId": "5d1baf69-409c-4dd8-c632-a999b10667d2"
      },
      "source": [
        "# mnist_trainset.targets[index] = torch.Tensor(values).type(torch.LongTensor)\n",
        "j =20078     # Without Shuffle upto True Training numbers correct , after that corrupted\n",
        "print(plt.imshow(mnist_trainset.data[j]),mnist_trainset.targets[j])"
      ],
      "execution_count": 198,
      "outputs": [
        {
          "output_type": "stream",
          "text": [
            "AxesImage(54,36;334.8x217.44) tensor(0)\n"
          ],
          "name": "stdout"
        },
        {
          "output_type": "display_data",
          "data": {
            "image/png": "[encoded data removed]",
            "text/plain": [
              "<Figure size 432x288 with 1 Axes>"
            ]
          },
          "metadata": {
            "tags": [],
            "needs_background": "light"
          }
        }
      ]
    },
    {
      "cell_type": "code",
      "metadata": {
        "id": "U8WPVHnPacrd"
      },
      "source": [
        "trainloader = torch.utils.data.DataLoader(mnist_trainset, batch_size=250,shuffle=True, num_workers=2)"
      ],
      "execution_count": 199,
      "outputs": []
    },
    {
      "cell_type": "code",
      "metadata": {
        "id": "7L7ocAcracri"
      },
      "source": [
        "testloader = torch.utils.data.DataLoader(mnist_testset, batch_size=250,shuffle=False, num_workers=2)"
      ],
      "execution_count": 200,
      "outputs": []
    },
    {
      "cell_type": "code",
      "metadata": {
        "colab": {
          "base_uri": "https://localhost:8080/"
        },
        "id": "ULbHmoX-5QRM",
        "outputId": "49440c77-ab36-4a96-e73c-2b7cd68bb18b"
      },
      "source": [
        "mnist_trainset.data.shape"
      ],
      "execution_count": 201,
      "outputs": [
        {
          "output_type": "execute_result",
          "data": {
            "text/plain": [
              "torch.Size([47000, 28, 28])"
            ]
          },
          "metadata": {
            "tags": []
          },
          "execution_count": 201
        }
      ]
    },
    {
      "cell_type": "code",
      "metadata": {
        "id": "pdhAr2p6acrm"
      },
      "source": [
        "classes = ('zero', 'one')"
      ],
      "execution_count": 202,
      "outputs": []
    },
    {
      "cell_type": "code",
      "metadata": {
        "id": "jhUOj6Tnacrr"
      },
      "source": [
        "dataiter = iter(trainloader)\n",
        "images, labels = dataiter.next()"
      ],
      "execution_count": 203,
      "outputs": []
    },
    {
      "cell_type": "code",
      "metadata": {
        "id": "vVgW5hBkacrv",
        "colab": {
          "base_uri": "https://localhost:8080/"
        },
        "outputId": "45df5bcf-fd4d-4530-d771-659430ef3b5b"
      },
      "source": [
        "images[:4].shape"
      ],
      "execution_count": 204,
      "outputs": [
        {
          "output_type": "execute_result",
          "data": {
            "text/plain": [
              "torch.Size([4, 1, 28, 28])"
            ]
          },
          "metadata": {
            "tags": []
          },
          "execution_count": 204
        }
      ]
    },
    {
      "cell_type": "code",
      "metadata": {
        "id": "nUtA80KCacr1"
      },
      "source": [
        "def imshow(img):\n",
        "    img = img / 2 + 0.5     # unnormalize\n",
        "    npimg = img.numpy()\n",
        "    plt.imshow(np.transpose(npimg, (1, 2, 0)))\n",
        "    plt.show()"
      ],
      "execution_count": 205,
      "outputs": []
    },
    {
      "cell_type": "code",
      "metadata": {
        "id": "Xv34FfAdacr5",
        "colab": {
          "base_uri": "https://localhost:8080/",
          "height": 155
        },
        "outputId": "6dd5a1cc-9af7-44a9-d689-b335e285840f"
      },
      "source": [
        "imshow(torchvision.utils.make_grid(images[:10]))\n",
        "print('GroundTruth: ', ' '.join('%5s' % classes[labels[j]] for j in range(10)))"
      ],
      "execution_count": 206,
      "outputs": [
        {
          "output_type": "display_data",
          "data": {
            "image/png": "[encoded data removed]",
            "text/plain": [
              "<Figure size 432x288 with 1 Axes>"
            ]
          },
          "metadata": {
            "tags": [],
            "needs_background": "light"
          }
        },
        {
          "output_type": "stream",
          "text": [
            "GroundTruth:    one  zero  zero  zero   one  zero   one  zero   one   one\n"
          ],
          "name": "stdout"
        }
      ]
    },
    {
      "cell_type": "code",
      "metadata": {
        "id": "Ss-jhHRIacr-"
      },
      "source": [
        "class Module2(nn.Module):\n",
        "  def __init__(self):\n",
        "    super(Module2, self).__init__()\n",
        "    self.conv1 = nn.Conv2d(1, 6, 5)\n",
        "    self.pool = nn.MaxPool2d(2, 2)\n",
        "    self.conv2 = nn.Conv2d(6, 16, 5)\n",
        "    self.fc1 = nn.Linear(16 * 4 * 4, 128)\n",
        "    self.fc2 = nn.Linear(128, 64)\n",
        "    self.fc3 = nn.Linear(64, 10)\n",
        "    self.fc4 = nn.Linear(10,2)\n",
        "\n",
        "  def forward(self,z):  \n",
        "    y1 = self.pool(F.relu(self.conv1(z)))\n",
        "    y1 = self.pool(F.relu(self.conv2(y1)))\n",
        "    # print(y1.shape)\n",
        "    y1 = y1.view(-1, 16 * 4 * 4)\n",
        "\n",
        "    y1 = F.relu(self.fc1(y1))\n",
        "    y1 = F.relu(self.fc2(y1))\n",
        "    y1 = F.relu(self.fc3(y1))\n",
        "    y1 = self.fc4(y1)\n",
        "    return y1 "
      ],
      "execution_count": 207,
      "outputs": []
    },
    {
      "cell_type": "code",
      "metadata": {
        "id": "rByxqKdOacsM"
      },
      "source": [
        "inc = Module2()\n",
        "inc = inc.to(\"cuda\")"
      ],
      "execution_count": 208,
      "outputs": []
    },
    {
      "cell_type": "code",
      "metadata": {
        "id": "imWjagA2acsO"
      },
      "source": [
        "criterion_inception = nn.CrossEntropyLoss()\n",
        "optimizer_inception = optim.SGD(inc.parameters(), lr=0.01, momentum=0.9)"
      ],
      "execution_count": 209,
      "outputs": []
    },
    {
      "cell_type": "code",
      "metadata": {
        "id": "r5mCNr38acsR",
        "colab": {
          "base_uri": "https://localhost:8080/"
        },
        "outputId": "183279d3-fbad-4473-b6c0-52d52d87f00f"
      },
      "source": [
        "acti = []\n",
        "loss_curi = []\n",
        "for epoch in range(epochs): # loop over the dataset multiple times\n",
        "    ep_lossi = []\n",
        "\n",
        "    running_loss = 0.0\n",
        "    for i, data in enumerate(trainloader, 0):\n",
        "        # get the inputs\n",
        "        inputs, labels = data\n",
        "        inputs, labels = inputs.to(\"cuda\"),labels.to(\"cuda\")\n",
        "\n",
        "        # print(inputs.shape)\n",
        "        # zero the parameter gradients\n",
        "        optimizer_inception.zero_grad()\n",
        "\n",
        "        # forward + backward + optimize\n",
        "        outputs = inc(inputs)\n",
        "        loss = criterion_inception(outputs, labels)\n",
        "        loss.backward()\n",
        "        optimizer_inception.step()\n",
        "\n",
        "        # print statistics\n",
        "        running_loss += loss.item()\n",
        "        if i % 50 == 49:    # print every 50 mini-batches\n",
        "            print('[%d, %5d] loss: %.3f' %\n",
        "                  (epoch + 1, i + 1, running_loss / 50))\n",
        "            ep_lossi.append(running_loss/50) # loss per minibatch\n",
        "            running_loss = 0.0\n",
        "            \n",
        "    loss_curi.append(np.mean(ep_lossi))   #loss per epoch\n",
        "    if (np.mean(ep_lossi)<=0.03):\n",
        "        break\n",
        "#         acti.append(actis)\n",
        "    \n",
        "            \n",
        "\n",
        "print('Finished Training')"
      ],
      "execution_count": 210,
      "outputs": [
        {
          "output_type": "stream",
          "text": [
            "[1,    50] loss: 0.695\n",
            "[1,   100] loss: 0.693\n",
            "[1,   150] loss: 0.693\n",
            "[2,    50] loss: 0.693\n",
            "[2,   100] loss: 0.693\n",
            "[2,   150] loss: 0.693\n",
            "[3,    50] loss: 0.692\n",
            "[3,   100] loss: 0.693\n",
            "[3,   150] loss: 0.692\n",
            "[4,    50] loss: 0.692\n",
            "[4,   100] loss: 0.691\n",
            "[4,   150] loss: 0.690\n",
            "[5,    50] loss: 0.690\n",
            "[5,   100] loss: 0.690\n",
            "[5,   150] loss: 0.689\n",
            "[6,    50] loss: 0.689\n",
            "[6,   100] loss: 0.688\n",
            "[6,   150] loss: 0.687\n",
            "[7,    50] loss: 0.687\n",
            "[7,   100] loss: 0.686\n",
            "[7,   150] loss: 0.687\n",
            "[8,    50] loss: 0.686\n",
            "[8,   100] loss: 0.684\n",
            "[8,   150] loss: 0.684\n",
            "[9,    50] loss: 0.684\n",
            "[9,   100] loss: 0.684\n",
            "[9,   150] loss: 0.683\n",
            "[10,    50] loss: 0.682\n",
            "[10,   100] loss: 0.681\n",
            "[10,   150] loss: 0.682\n",
            "[11,    50] loss: 0.681\n",
            "[11,   100] loss: 0.678\n",
            "[11,   150] loss: 0.679\n",
            "[12,    50] loss: 0.678\n",
            "[12,   100] loss: 0.679\n",
            "[12,   150] loss: 0.676\n",
            "[13,    50] loss: 0.675\n",
            "[13,   100] loss: 0.678\n",
            "[13,   150] loss: 0.679\n",
            "[14,    50] loss: 0.675\n",
            "[14,   100] loss: 0.677\n",
            "[14,   150] loss: 0.674\n",
            "[15,    50] loss: 0.673\n",
            "[15,   100] loss: 0.674\n",
            "[15,   150] loss: 0.674\n",
            "[16,    50] loss: 0.673\n",
            "[16,   100] loss: 0.672\n",
            "[16,   150] loss: 0.671\n",
            "[17,    50] loss: 0.671\n",
            "[17,   100] loss: 0.674\n",
            "[17,   150] loss: 0.670\n",
            "[18,    50] loss: 0.672\n",
            "[18,   100] loss: 0.671\n",
            "[18,   150] loss: 0.670\n",
            "[19,    50] loss: 0.672\n",
            "[19,   100] loss: 0.670\n",
            "[19,   150] loss: 0.670\n",
            "[20,    50] loss: 0.671\n",
            "[20,   100] loss: 0.668\n",
            "[20,   150] loss: 0.668\n",
            "[21,    50] loss: 0.669\n",
            "[21,   100] loss: 0.668\n",
            "[21,   150] loss: 0.668\n",
            "[22,    50] loss: 0.666\n",
            "[22,   100] loss: 0.664\n",
            "[22,   150] loss: 0.669\n",
            "[23,    50] loss: 0.666\n",
            "[23,   100] loss: 0.667\n",
            "[23,   150] loss: 0.665\n",
            "[24,    50] loss: 0.667\n",
            "[24,   100] loss: 0.668\n",
            "[24,   150] loss: 0.666\n",
            "[25,    50] loss: 0.667\n",
            "[25,   100] loss: 0.667\n",
            "[25,   150] loss: 0.665\n",
            "[26,    50] loss: 0.666\n",
            "[26,   100] loss: 0.664\n",
            "[26,   150] loss: 0.665\n",
            "[27,    50] loss: 0.663\n",
            "[27,   100] loss: 0.664\n",
            "[27,   150] loss: 0.663\n",
            "[28,    50] loss: 0.665\n",
            "[28,   100] loss: 0.666\n",
            "[28,   150] loss: 0.663\n",
            "[29,    50] loss: 0.663\n",
            "[29,   100] loss: 0.662\n",
            "[29,   150] loss: 0.665\n",
            "[30,    50] loss: 0.660\n",
            "[30,   100] loss: 0.664\n",
            "[30,   150] loss: 0.665\n",
            "[31,    50] loss: 0.659\n",
            "[31,   100] loss: 0.663\n",
            "[31,   150] loss: 0.662\n",
            "[32,    50] loss: 0.663\n",
            "[32,   100] loss: 0.660\n",
            "[32,   150] loss: 0.661\n",
            "[33,    50] loss: 0.660\n",
            "[33,   100] loss: 0.661\n",
            "[33,   150] loss: 0.661\n",
            "[34,    50] loss: 0.659\n",
            "[34,   100] loss: 0.663\n",
            "[34,   150] loss: 0.660\n",
            "[35,    50] loss: 0.658\n",
            "[35,   100] loss: 0.658\n",
            "[35,   150] loss: 0.660\n",
            "[36,    50] loss: 0.657\n",
            "[36,   100] loss: 0.659\n",
            "[36,   150] loss: 0.657\n",
            "[37,    50] loss: 0.657\n",
            "[37,   100] loss: 0.657\n",
            "[37,   150] loss: 0.655\n",
            "[38,    50] loss: 0.655\n",
            "[38,   100] loss: 0.657\n",
            "[38,   150] loss: 0.654\n",
            "[39,    50] loss: 0.656\n",
            "[39,   100] loss: 0.655\n",
            "[39,   150] loss: 0.656\n",
            "[40,    50] loss: 0.651\n",
            "[40,   100] loss: 0.653\n",
            "[40,   150] loss: 0.659\n",
            "[41,    50] loss: 0.653\n",
            "[41,   100] loss: 0.653\n",
            "[41,   150] loss: 0.656\n",
            "[42,    50] loss: 0.651\n",
            "[42,   100] loss: 0.650\n",
            "[42,   150] loss: 0.655\n",
            "[43,    50] loss: 0.647\n",
            "[43,   100] loss: 0.652\n",
            "[43,   150] loss: 0.652\n",
            "[44,    50] loss: 0.648\n",
            "[44,   100] loss: 0.648\n",
            "[44,   150] loss: 0.649\n",
            "[45,    50] loss: 0.648\n",
            "[45,   100] loss: 0.645\n",
            "[45,   150] loss: 0.650\n",
            "[46,    50] loss: 0.645\n",
            "[46,   100] loss: 0.650\n",
            "[46,   150] loss: 0.649\n",
            "[47,    50] loss: 0.644\n",
            "[47,   100] loss: 0.648\n",
            "[47,   150] loss: 0.648\n",
            "[48,    50] loss: 0.643\n",
            "[48,   100] loss: 0.646\n",
            "[48,   150] loss: 0.641\n",
            "[49,    50] loss: 0.640\n",
            "[49,   100] loss: 0.643\n",
            "[49,   150] loss: 0.648\n",
            "[50,    50] loss: 0.634\n",
            "[50,   100] loss: 0.640\n",
            "[50,   150] loss: 0.640\n",
            "[51,    50] loss: 0.636\n",
            "[51,   100] loss: 0.640\n",
            "[51,   150] loss: 0.639\n",
            "[52,    50] loss: 0.633\n",
            "[52,   100] loss: 0.638\n",
            "[52,   150] loss: 0.639\n",
            "[53,    50] loss: 0.635\n",
            "[53,   100] loss: 0.640\n",
            "[53,   150] loss: 0.636\n",
            "[54,    50] loss: 0.629\n",
            "[54,   100] loss: 0.632\n",
            "[54,   150] loss: 0.632\n",
            "[55,    50] loss: 0.624\n",
            "[55,   100] loss: 0.629\n",
            "[55,   150] loss: 0.631\n",
            "[56,    50] loss: 0.621\n",
            "[56,   100] loss: 0.627\n",
            "[56,   150] loss: 0.629\n",
            "[57,    50] loss: 0.623\n",
            "[57,   100] loss: 0.623\n",
            "[57,   150] loss: 0.628\n",
            "[58,    50] loss: 0.623\n",
            "[58,   100] loss: 0.618\n",
            "[58,   150] loss: 0.623\n",
            "[59,    50] loss: 0.615\n",
            "[59,   100] loss: 0.618\n",
            "[59,   150] loss: 0.621\n",
            "[60,    50] loss: 0.609\n",
            "[60,   100] loss: 0.613\n",
            "[60,   150] loss: 0.621\n",
            "[61,    50] loss: 0.615\n",
            "[61,   100] loss: 0.606\n",
            "[61,   150] loss: 0.619\n",
            "[62,    50] loss: 0.598\n",
            "[62,   100] loss: 0.612\n",
            "[62,   150] loss: 0.606\n",
            "[63,    50] loss: 0.600\n",
            "[63,   100] loss: 0.602\n",
            "[63,   150] loss: 0.607\n",
            "[64,    50] loss: 0.588\n",
            "[64,   100] loss: 0.600\n",
            "[64,   150] loss: 0.611\n",
            "[65,    50] loss: 0.586\n",
            "[65,   100] loss: 0.600\n",
            "[65,   150] loss: 0.606\n",
            "[66,    50] loss: 0.586\n",
            "[66,   100] loss: 0.591\n",
            "[66,   150] loss: 0.593\n",
            "[67,    50] loss: 0.578\n",
            "[67,   100] loss: 0.588\n",
            "[67,   150] loss: 0.599\n",
            "[68,    50] loss: 0.573\n",
            "[68,   100] loss: 0.577\n",
            "[68,   150] loss: 0.592\n",
            "[69,    50] loss: 0.565\n",
            "[69,   100] loss: 0.570\n",
            "[69,   150] loss: 0.588\n",
            "[70,    50] loss: 0.558\n",
            "[70,   100] loss: 0.573\n",
            "[70,   150] loss: 0.584\n",
            "[71,    50] loss: 0.559\n",
            "[71,   100] loss: 0.566\n",
            "[71,   150] loss: 0.572\n",
            "[72,    50] loss: 0.549\n",
            "[72,   100] loss: 0.563\n",
            "[72,   150] loss: 0.574\n",
            "[73,    50] loss: 0.538\n",
            "[73,   100] loss: 0.556\n",
            "[73,   150] loss: 0.567\n",
            "[74,    50] loss: 0.543\n",
            "[74,   100] loss: 0.544\n",
            "[74,   150] loss: 0.555\n",
            "[75,    50] loss: 0.523\n",
            "[75,   100] loss: 0.543\n",
            "[75,   150] loss: 0.559\n",
            "[76,    50] loss: 0.530\n",
            "[76,   100] loss: 0.524\n",
            "[76,   150] loss: 0.538\n",
            "[77,    50] loss: 0.516\n",
            "[77,   100] loss: 0.531\n",
            "[77,   150] loss: 0.541\n",
            "[78,    50] loss: 0.517\n",
            "[78,   100] loss: 0.516\n",
            "[78,   150] loss: 0.537\n",
            "[79,    50] loss: 0.504\n",
            "[79,   100] loss: 0.513\n",
            "[79,   150] loss: 0.523\n",
            "[80,    50] loss: 0.494\n",
            "[80,   100] loss: 0.505\n",
            "[80,   150] loss: 0.520\n",
            "[81,    50] loss: 0.492\n",
            "[81,   100] loss: 0.500\n",
            "[81,   150] loss: 0.514\n",
            "[82,    50] loss: 0.491\n",
            "[82,   100] loss: 0.504\n",
            "[82,   150] loss: 0.504\n",
            "[83,    50] loss: 0.474\n",
            "[83,   100] loss: 0.495\n",
            "[83,   150] loss: 0.497\n",
            "[84,    50] loss: 0.462\n",
            "[84,   100] loss: 0.489\n",
            "[84,   150] loss: 0.504\n",
            "[85,    50] loss: 0.451\n",
            "[85,   100] loss: 0.481\n",
            "[85,   150] loss: 0.481\n",
            "[86,    50] loss: 0.452\n",
            "[86,   100] loss: 0.471\n",
            "[86,   150] loss: 0.490\n",
            "[87,    50] loss: 0.451\n",
            "[87,   100] loss: 0.459\n",
            "[87,   150] loss: 0.479\n",
            "[88,    50] loss: 0.445\n",
            "[88,   100] loss: 0.466\n",
            "[88,   150] loss: 0.465\n",
            "[89,    50] loss: 0.431\n",
            "[89,   100] loss: 0.449\n",
            "[89,   150] loss: 0.461\n",
            "[90,    50] loss: 0.425\n",
            "[90,   100] loss: 0.435\n",
            "[90,   150] loss: 0.451\n",
            "[91,    50] loss: 0.410\n",
            "[91,   100] loss: 0.435\n",
            "[91,   150] loss: 0.461\n",
            "[92,    50] loss: 0.404\n",
            "[92,   100] loss: 0.431\n",
            "[92,   150] loss: 0.443\n",
            "[93,    50] loss: 0.395\n",
            "[93,   100] loss: 0.429\n",
            "[93,   150] loss: 0.440\n",
            "[94,    50] loss: 0.396\n",
            "[94,   100] loss: 0.404\n",
            "[94,   150] loss: 0.418\n",
            "[95,    50] loss: 0.387\n",
            "[95,   100] loss: 0.411\n",
            "[95,   150] loss: 0.445\n",
            "[96,    50] loss: 0.389\n",
            "[96,   100] loss: 0.392\n",
            "[96,   150] loss: 0.413\n",
            "[97,    50] loss: 0.368\n",
            "[97,   100] loss: 0.382\n",
            "[97,   150] loss: 0.412\n",
            "[98,    50] loss: 0.360\n",
            "[98,   100] loss: 0.385\n",
            "[98,   150] loss: 0.399\n",
            "[99,    50] loss: 0.341\n",
            "[99,   100] loss: 0.379\n",
            "[99,   150] loss: 0.397\n",
            "[100,    50] loss: 0.358\n",
            "[100,   100] loss: 0.365\n",
            "[100,   150] loss: 0.384\n",
            "[101,    50] loss: 0.346\n",
            "[101,   100] loss: 0.373\n",
            "[101,   150] loss: 0.398\n",
            "[102,    50] loss: 0.343\n",
            "[102,   100] loss: 0.349\n",
            "[102,   150] loss: 0.368\n",
            "[103,    50] loss: 0.336\n",
            "[103,   100] loss: 0.365\n",
            "[103,   150] loss: 0.381\n",
            "[104,    50] loss: 0.342\n",
            "[104,   100] loss: 0.358\n",
            "[104,   150] loss: 0.369\n",
            "[105,    50] loss: 0.333\n",
            "[105,   100] loss: 0.356\n",
            "[105,   150] loss: 0.350\n",
            "[106,    50] loss: 0.322\n",
            "[106,   100] loss: 0.334\n",
            "[106,   150] loss: 0.363\n",
            "[107,    50] loss: 0.319\n",
            "[107,   100] loss: 0.324\n",
            "[107,   150] loss: 0.354\n",
            "[108,    50] loss: 0.292\n",
            "[108,   100] loss: 0.325\n",
            "[108,   150] loss: 0.346\n",
            "[109,    50] loss: 0.314\n",
            "[109,   100] loss: 0.318\n",
            "[109,   150] loss: 0.340\n",
            "[110,    50] loss: 0.280\n",
            "[110,   100] loss: 0.306\n",
            "[110,   150] loss: 0.342\n",
            "[111,    50] loss: 0.286\n",
            "[111,   100] loss: 0.295\n",
            "[111,   150] loss: 0.321\n",
            "[112,    50] loss: 0.296\n",
            "[112,   100] loss: 0.300\n",
            "[112,   150] loss: 0.333\n",
            "[113,    50] loss: 0.283\n",
            "[113,   100] loss: 0.295\n",
            "[113,   150] loss: 0.314\n",
            "[114,    50] loss: 0.268\n",
            "[114,   100] loss: 0.286\n",
            "[114,   150] loss: 0.313\n",
            "[115,    50] loss: 0.245\n",
            "[115,   100] loss: 0.297\n",
            "[115,   150] loss: 0.315\n",
            "[116,    50] loss: 0.255\n",
            "[116,   100] loss: 0.278\n",
            "[116,   150] loss: 0.302\n",
            "[117,    50] loss: 0.265\n",
            "[117,   100] loss: 0.261\n",
            "[117,   150] loss: 0.290\n",
            "[118,    50] loss: 0.249\n",
            "[118,   100] loss: 0.265\n",
            "[118,   150] loss: 0.301\n",
            "[119,    50] loss: 0.263\n",
            "[119,   100] loss: 0.260\n",
            "[119,   150] loss: 0.290\n",
            "[120,    50] loss: 0.232\n",
            "[120,   100] loss: 0.267\n",
            "[120,   150] loss: 0.291\n",
            "[121,    50] loss: 0.240\n",
            "[121,   100] loss: 0.263\n",
            "[121,   150] loss: 0.277\n",
            "[122,    50] loss: 0.227\n",
            "[122,   100] loss: 0.249\n",
            "[122,   150] loss: 0.268\n",
            "[123,    50] loss: 0.221\n",
            "[123,   100] loss: 0.236\n",
            "[123,   150] loss: 0.257\n",
            "[124,    50] loss: 0.220\n",
            "[124,   100] loss: 0.243\n",
            "[124,   150] loss: 0.264\n",
            "[125,    50] loss: 0.220\n",
            "[125,   100] loss: 0.244\n",
            "[125,   150] loss: 0.259\n",
            "[126,    50] loss: 0.222\n",
            "[126,   100] loss: 0.244\n",
            "[126,   150] loss: 0.261\n",
            "[127,    50] loss: 0.200\n",
            "[127,   100] loss: 0.221\n",
            "[127,   150] loss: 0.247\n",
            "[128,    50] loss: 0.215\n",
            "[128,   100] loss: 0.229\n",
            "[128,   150] loss: 0.236\n",
            "[129,    50] loss: 0.210\n",
            "[129,   100] loss: 0.228\n",
            "[129,   150] loss: 0.248\n",
            "[130,    50] loss: 0.205\n",
            "[130,   100] loss: 0.220\n",
            "[130,   150] loss: 0.226\n",
            "[131,    50] loss: 0.211\n",
            "[131,   100] loss: 0.214\n",
            "[131,   150] loss: 0.236\n",
            "[132,    50] loss: 0.194\n",
            "[132,   100] loss: 0.211\n",
            "[132,   150] loss: 0.231\n",
            "[133,    50] loss: 0.185\n",
            "[133,   100] loss: 0.209\n",
            "[133,   150] loss: 0.243\n",
            "[134,    50] loss: 0.189\n",
            "[134,   100] loss: 0.194\n",
            "[134,   150] loss: 0.222\n",
            "[135,    50] loss: 0.188\n",
            "[135,   100] loss: 0.201\n",
            "[135,   150] loss: 0.234\n",
            "[136,    50] loss: 0.170\n",
            "[136,   100] loss: 0.193\n",
            "[136,   150] loss: 0.214\n",
            "[137,    50] loss: 0.206\n",
            "[137,   100] loss: 0.201\n",
            "[137,   150] loss: 0.199\n",
            "[138,    50] loss: 0.189\n",
            "[138,   100] loss: 0.175\n",
            "[138,   150] loss: 0.198\n",
            "[139,    50] loss: 0.178\n",
            "[139,   100] loss: 0.184\n",
            "[139,   150] loss: 0.214\n",
            "[140,    50] loss: 0.178\n",
            "[140,   100] loss: 0.190\n",
            "[140,   150] loss: 0.199\n",
            "[141,    50] loss: 0.155\n",
            "[141,   100] loss: 0.183\n",
            "[141,   150] loss: 0.208\n",
            "[142,    50] loss: 0.169\n",
            "[142,   100] loss: 0.160\n",
            "[142,   150] loss: 0.175\n",
            "[143,    50] loss: 0.166\n",
            "[143,   100] loss: 0.161\n",
            "[143,   150] loss: 0.206\n",
            "[144,    50] loss: 0.162\n",
            "[144,   100] loss: 0.193\n",
            "[144,   150] loss: 0.193\n",
            "[145,    50] loss: 0.166\n",
            "[145,   100] loss: 0.181\n",
            "[145,   150] loss: 0.200\n",
            "[146,    50] loss: 0.168\n",
            "[146,   100] loss: 0.164\n",
            "[146,   150] loss: 0.193\n",
            "[147,    50] loss: 0.145\n",
            "[147,   100] loss: 0.147\n",
            "[147,   150] loss: 0.175\n",
            "[148,    50] loss: 0.143\n",
            "[148,   100] loss: 0.142\n",
            "[148,   150] loss: 0.160\n",
            "[149,    50] loss: 0.138\n",
            "[149,   100] loss: 0.162\n",
            "[149,   150] loss: 0.183\n",
            "[150,    50] loss: 0.146\n",
            "[150,   100] loss: 0.172\n",
            "[150,   150] loss: 0.189\n",
            "[151,    50] loss: 0.159\n",
            "[151,   100] loss: 0.151\n",
            "[151,   150] loss: 0.161\n",
            "[152,    50] loss: 0.146\n",
            "[152,   100] loss: 0.157\n",
            "[152,   150] loss: 0.163\n",
            "[153,    50] loss: 0.157\n",
            "[153,   100] loss: 0.153\n",
            "[153,   150] loss: 0.159\n",
            "[154,    50] loss: 0.125\n",
            "[154,   100] loss: 0.122\n",
            "[154,   150] loss: 0.153\n",
            "[155,    50] loss: 0.132\n",
            "[155,   100] loss: 0.138\n",
            "[155,   150] loss: 0.167\n",
            "[156,    50] loss: 0.146\n",
            "[156,   100] loss: 0.130\n",
            "[156,   150] loss: 0.145\n",
            "[157,    50] loss: 0.129\n",
            "[157,   100] loss: 0.129\n",
            "[157,   150] loss: 0.151\n",
            "[158,    50] loss: 0.134\n",
            "[158,   100] loss: 0.151\n",
            "[158,   150] loss: 0.155\n",
            "[159,    50] loss: 0.112\n",
            "[159,   100] loss: 0.126\n",
            "[159,   150] loss: 0.145\n",
            "[160,    50] loss: 0.126\n",
            "[160,   100] loss: 0.127\n",
            "[160,   150] loss: 0.160\n",
            "[161,    50] loss: 0.129\n",
            "[161,   100] loss: 0.122\n",
            "[161,   150] loss: 0.153\n",
            "[162,    50] loss: 0.116\n",
            "[162,   100] loss: 0.105\n",
            "[162,   150] loss: 0.150\n",
            "[163,    50] loss: 0.127\n",
            "[163,   100] loss: 0.121\n",
            "[163,   150] loss: 0.140\n",
            "[164,    50] loss: 0.117\n",
            "[164,   100] loss: 0.136\n",
            "[164,   150] loss: 0.146\n",
            "[165,    50] loss: 0.103\n",
            "[165,   100] loss: 0.106\n",
            "[165,   150] loss: 0.153\n",
            "[166,    50] loss: 0.133\n",
            "[166,   100] loss: 0.118\n",
            "[166,   150] loss: 0.154\n",
            "[167,    50] loss: 0.106\n",
            "[167,   100] loss: 0.109\n",
            "[167,   150] loss: 0.137\n",
            "[168,    50] loss: 0.101\n",
            "[168,   100] loss: 0.118\n",
            "[168,   150] loss: 0.126\n",
            "[169,    50] loss: 0.102\n",
            "[169,   100] loss: 0.112\n",
            "[169,   150] loss: 0.138\n",
            "[170,    50] loss: 0.138\n",
            "[170,   100] loss: 0.133\n",
            "[170,   150] loss: 0.117\n",
            "[171,    50] loss: 0.095\n",
            "[171,   100] loss: 0.112\n",
            "[171,   150] loss: 0.142\n",
            "[172,    50] loss: 0.092\n",
            "[172,   100] loss: 0.099\n",
            "[172,   150] loss: 0.123\n",
            "[173,    50] loss: 0.101\n",
            "[173,   100] loss: 0.117\n",
            "[173,   150] loss: 0.144\n",
            "[174,    50] loss: 0.110\n",
            "[174,   100] loss: 0.110\n",
            "[174,   150] loss: 0.127\n",
            "[175,    50] loss: 0.094\n",
            "[175,   100] loss: 0.116\n",
            "[175,   150] loss: 0.141\n",
            "[176,    50] loss: 0.080\n",
            "[176,   100] loss: 0.103\n",
            "[176,   150] loss: 0.125\n",
            "[177,    50] loss: 0.109\n",
            "[177,   100] loss: 0.109\n",
            "[177,   150] loss: 0.126\n",
            "[178,    50] loss: 0.079\n",
            "[178,   100] loss: 0.096\n",
            "[178,   150] loss: 0.129\n",
            "[179,    50] loss: 0.092\n",
            "[179,   100] loss: 0.104\n",
            "[179,   150] loss: 0.135\n",
            "[180,    50] loss: 0.078\n",
            "[180,   100] loss: 0.078\n",
            "[180,   150] loss: 0.091\n",
            "[181,    50] loss: 0.125\n",
            "[181,   100] loss: 0.098\n",
            "[181,   150] loss: 0.111\n",
            "[182,    50] loss: 0.089\n",
            "[182,   100] loss: 0.100\n",
            "[182,   150] loss: 0.099\n",
            "[183,    50] loss: 0.093\n",
            "[183,   100] loss: 0.098\n",
            "[183,   150] loss: 0.104\n",
            "[184,    50] loss: 0.107\n",
            "[184,   100] loss: 0.094\n",
            "[184,   150] loss: 0.121\n",
            "[185,    50] loss: 0.071\n",
            "[185,   100] loss: 0.086\n",
            "[185,   150] loss: 0.108\n",
            "[186,    50] loss: 0.091\n",
            "[186,   100] loss: 0.092\n",
            "[186,   150] loss: 0.106\n",
            "[187,    50] loss: 0.092\n",
            "[187,   100] loss: 0.085\n",
            "[187,   150] loss: 0.089\n",
            "[188,    50] loss: 0.103\n",
            "[188,   100] loss: 0.076\n",
            "[188,   150] loss: 0.110\n",
            "[189,    50] loss: 0.079\n",
            "[189,   100] loss: 0.063\n",
            "[189,   150] loss: 0.086\n",
            "[190,    50] loss: 0.084\n",
            "[190,   100] loss: 0.090\n",
            "[190,   150] loss: 0.099\n",
            "[191,    50] loss: 0.079\n",
            "[191,   100] loss: 0.081\n",
            "[191,   150] loss: 0.101\n",
            "[192,    50] loss: 0.073\n",
            "[192,   100] loss: 0.079\n",
            "[192,   150] loss: 0.115\n",
            "[193,    50] loss: 0.075\n",
            "[193,   100] loss: 0.081\n",
            "[193,   150] loss: 0.098\n",
            "[194,    50] loss: 0.067\n",
            "[194,   100] loss: 0.064\n",
            "[194,   150] loss: 0.091\n",
            "[195,    50] loss: 0.070\n",
            "[195,   100] loss: 0.083\n",
            "[195,   150] loss: 0.094\n",
            "[196,    50] loss: 0.071\n",
            "[196,   100] loss: 0.073\n",
            "[196,   150] loss: 0.080\n",
            "[197,    50] loss: 0.082\n",
            "[197,   100] loss: 0.083\n",
            "[197,   150] loss: 0.095\n",
            "[198,    50] loss: 0.067\n",
            "[198,   100] loss: 0.073\n",
            "[198,   150] loss: 0.093\n",
            "[199,    50] loss: 0.081\n",
            "[199,   100] loss: 0.071\n",
            "[199,   150] loss: 0.073\n",
            "[200,    50] loss: 0.066\n",
            "[200,   100] loss: 0.066\n",
            "[200,   150] loss: 0.080\n",
            "[201,    50] loss: 0.070\n",
            "[201,   100] loss: 0.064\n",
            "[201,   150] loss: 0.095\n",
            "[202,    50] loss: 0.055\n",
            "[202,   100] loss: 0.073\n",
            "[202,   150] loss: 0.127\n",
            "[203,    50] loss: 0.063\n",
            "[203,   100] loss: 0.066\n",
            "[203,   150] loss: 0.092\n",
            "[204,    50] loss: 0.067\n",
            "[204,   100] loss: 0.075\n",
            "[204,   150] loss: 0.097\n",
            "[205,    50] loss: 0.060\n",
            "[205,   100] loss: 0.068\n",
            "[205,   150] loss: 0.093\n",
            "[206,    50] loss: 0.062\n",
            "[206,   100] loss: 0.079\n",
            "[206,   150] loss: 0.081\n",
            "[207,    50] loss: 0.066\n",
            "[207,   100] loss: 0.061\n",
            "[207,   150] loss: 0.080\n",
            "[208,    50] loss: 0.066\n",
            "[208,   100] loss: 0.058\n",
            "[208,   150] loss: 0.069\n",
            "[209,    50] loss: 0.080\n",
            "[209,   100] loss: 0.067\n",
            "[209,   150] loss: 0.071\n",
            "[210,    50] loss: 0.071\n",
            "[210,   100] loss: 0.068\n",
            "[210,   150] loss: 0.076\n",
            "[211,    50] loss: 0.057\n",
            "[211,   100] loss: 0.068\n",
            "[211,   150] loss: 0.091\n",
            "[212,    50] loss: 0.053\n",
            "[212,   100] loss: 0.061\n",
            "[212,   150] loss: 0.093\n",
            "[213,    50] loss: 0.058\n",
            "[213,   100] loss: 0.059\n",
            "[213,   150] loss: 0.068\n",
            "[214,    50] loss: 0.075\n",
            "[214,   100] loss: 0.075\n",
            "[214,   150] loss: 0.071\n",
            "[215,    50] loss: 0.063\n",
            "[215,   100] loss: 0.070\n",
            "[215,   150] loss: 0.074\n",
            "[216,    50] loss: 0.058\n",
            "[216,   100] loss: 0.059\n",
            "[216,   150] loss: 0.070\n",
            "[217,    50] loss: 0.077\n",
            "[217,   100] loss: 0.058\n",
            "[217,   150] loss: 0.068\n",
            "[218,    50] loss: 0.063\n",
            "[218,   100] loss: 0.045\n",
            "[218,   150] loss: 0.070\n",
            "[219,    50] loss: 0.070\n",
            "[219,   100] loss: 0.050\n",
            "[219,   150] loss: 0.076\n",
            "[220,    50] loss: 0.037\n",
            "[220,   100] loss: 0.048\n",
            "[220,   150] loss: 0.104\n",
            "[221,    50] loss: 0.055\n",
            "[221,   100] loss: 0.067\n",
            "[221,   150] loss: 0.074\n",
            "[222,    50] loss: 0.046\n",
            "[222,   100] loss: 0.061\n",
            "[222,   150] loss: 0.078\n",
            "[223,    50] loss: 0.049\n",
            "[223,   100] loss: 0.063\n",
            "[223,   150] loss: 0.077\n",
            "[224,    50] loss: 0.042\n",
            "[224,   100] loss: 0.061\n",
            "[224,   150] loss: 0.086\n",
            "[225,    50] loss: 0.055\n",
            "[225,   100] loss: 0.054\n",
            "[225,   150] loss: 0.074\n",
            "[226,    50] loss: 0.051\n",
            "[226,   100] loss: 0.061\n",
            "[226,   150] loss: 0.073\n",
            "[227,    50] loss: 0.043\n",
            "[227,   100] loss: 0.053\n",
            "[227,   150] loss: 0.064\n",
            "[228,    50] loss: 0.056\n",
            "[228,   100] loss: 0.052\n",
            "[228,   150] loss: 0.064\n",
            "[229,    50] loss: 0.043\n",
            "[229,   100] loss: 0.054\n",
            "[229,   150] loss: 0.070\n",
            "[230,    50] loss: 0.056\n",
            "[230,   100] loss: 0.054\n",
            "[230,   150] loss: 0.064\n",
            "[231,    50] loss: 0.040\n",
            "[231,   100] loss: 0.036\n",
            "[231,   150] loss: 0.063\n",
            "[232,    50] loss: 0.044\n",
            "[232,   100] loss: 0.038\n",
            "[232,   150] loss: 0.058\n",
            "[233,    50] loss: 0.053\n",
            "[233,   100] loss: 0.066\n",
            "[233,   150] loss: 0.053\n",
            "[234,    50] loss: 0.042\n",
            "[234,   100] loss: 0.057\n",
            "[234,   150] loss: 0.049\n",
            "[235,    50] loss: 0.050\n",
            "[235,   100] loss: 0.058\n",
            "[235,   150] loss: 0.059\n",
            "[236,    50] loss: 0.053\n",
            "[236,   100] loss: 0.059\n",
            "[236,   150] loss: 0.048\n",
            "[237,    50] loss: 0.045\n",
            "[237,   100] loss: 0.039\n",
            "[237,   150] loss: 0.056\n",
            "[238,    50] loss: 0.053\n",
            "[238,   100] loss: 0.055\n",
            "[238,   150] loss: 0.054\n",
            "[239,    50] loss: 0.064\n",
            "[239,   100] loss: 0.050\n",
            "[239,   150] loss: 0.047\n",
            "[240,    50] loss: 0.055\n",
            "[240,   100] loss: 0.046\n",
            "[240,   150] loss: 0.049\n",
            "[241,    50] loss: 0.039\n",
            "[241,   100] loss: 0.045\n",
            "[241,   150] loss: 0.057\n",
            "[242,    50] loss: 0.060\n",
            "[242,   100] loss: 0.051\n",
            "[242,   150] loss: 0.050\n",
            "[243,    50] loss: 0.051\n",
            "[243,   100] loss: 0.039\n",
            "[243,   150] loss: 0.058\n",
            "[244,    50] loss: 0.051\n",
            "[244,   100] loss: 0.031\n",
            "[244,   150] loss: 0.043\n",
            "[245,    50] loss: 0.052\n",
            "[245,   100] loss: 0.043\n",
            "[245,   150] loss: 0.044\n",
            "[246,    50] loss: 0.056\n",
            "[246,   100] loss: 0.052\n",
            "[246,   150] loss: 0.054\n",
            "[247,    50] loss: 0.045\n",
            "[247,   100] loss: 0.039\n",
            "[247,   150] loss: 0.042\n",
            "[248,    50] loss: 0.059\n",
            "[248,   100] loss: 0.047\n",
            "[248,   150] loss: 0.042\n",
            "[249,    50] loss: 0.032\n",
            "[249,   100] loss: 0.043\n",
            "[249,   150] loss: 0.050\n",
            "[250,    50] loss: 0.055\n",
            "[250,   100] loss: 0.035\n",
            "[250,   150] loss: 0.033\n",
            "[251,    50] loss: 0.042\n",
            "[251,   100] loss: 0.065\n",
            "[251,   150] loss: 0.064\n",
            "[252,    50] loss: 0.034\n",
            "[252,   100] loss: 0.027\n",
            "[252,   150] loss: 0.041\n",
            "[253,    50] loss: 0.049\n",
            "[253,   100] loss: 0.052\n",
            "[253,   150] loss: 0.057\n",
            "[254,    50] loss: 0.034\n",
            "[254,   100] loss: 0.037\n",
            "[254,   150] loss: 0.059\n",
            "[255,    50] loss: 0.038\n",
            "[255,   100] loss: 0.032\n",
            "[255,   150] loss: 0.050\n",
            "[256,    50] loss: 0.044\n",
            "[256,   100] loss: 0.043\n",
            "[256,   150] loss: 0.072\n",
            "[257,    50] loss: 0.031\n",
            "[257,   100] loss: 0.031\n",
            "[257,   150] loss: 0.053\n",
            "[258,    50] loss: 0.045\n",
            "[258,   100] loss: 0.021\n",
            "[258,   150] loss: 0.044\n",
            "[259,    50] loss: 0.046\n",
            "[259,   100] loss: 0.032\n",
            "[259,   150] loss: 0.042\n",
            "[260,    50] loss: 0.038\n",
            "[260,   100] loss: 0.031\n",
            "[260,   150] loss: 0.053\n",
            "[261,    50] loss: 0.030\n",
            "[261,   100] loss: 0.027\n",
            "[261,   150] loss: 0.046\n",
            "[262,    50] loss: 0.044\n",
            "[262,   100] loss: 0.049\n",
            "[262,   150] loss: 0.050\n",
            "[263,    50] loss: 0.039\n",
            "[263,   100] loss: 0.042\n",
            "[263,   150] loss: 0.052\n",
            "[264,    50] loss: 0.035\n",
            "[264,   100] loss: 0.038\n",
            "[264,   150] loss: 0.057\n",
            "[265,    50] loss: 0.033\n",
            "[265,   100] loss: 0.029\n",
            "[265,   150] loss: 0.037\n",
            "[266,    50] loss: 0.040\n",
            "[266,   100] loss: 0.034\n",
            "[266,   150] loss: 0.032\n",
            "[267,    50] loss: 0.034\n",
            "[267,   100] loss: 0.034\n",
            "[267,   150] loss: 0.050\n",
            "[268,    50] loss: 0.040\n",
            "[268,   100] loss: 0.034\n",
            "[268,   150] loss: 0.053\n",
            "[269,    50] loss: 0.033\n",
            "[269,   100] loss: 0.038\n",
            "[269,   150] loss: 0.056\n",
            "[270,    50] loss: 0.032\n",
            "[270,   100] loss: 0.034\n",
            "[270,   150] loss: 0.045\n",
            "[271,    50] loss: 0.033\n",
            "[271,   100] loss: 0.031\n",
            "[271,   150] loss: 0.051\n",
            "[272,    50] loss: 0.035\n",
            "[272,   100] loss: 0.035\n",
            "[272,   150] loss: 0.030\n",
            "[273,    50] loss: 0.037\n",
            "[273,   100] loss: 0.037\n",
            "[273,   150] loss: 0.049\n",
            "[274,    50] loss: 0.028\n",
            "[274,   100] loss: 0.027\n",
            "[274,   150] loss: 0.034\n",
            "Finished Training\n"
          ],
          "name": "stdout"
        }
      ]
    },
    {
      "cell_type": "code",
      "metadata": {
        "id": "IxXbhlbEacsW",
        "colab": {
          "base_uri": "https://localhost:8080/"
        },
        "outputId": "f8e34693-624f-42d7-fcf4-95df1694e066"
      },
      "source": [
        "correct = 0\n",
        "total = 0\n",
        "with torch.no_grad():\n",
        "    for data in trainloader:\n",
        "        images, labels = data\n",
        "        images, labels = images.to(\"cuda\"), labels.to(\"cuda\")\n",
        "        outputs = inc(images)\n",
        "        _, predicted = torch.max(outputs.data, 1)\n",
        "        total += labels.size(0)\n",
        "        correct += (predicted == labels).sum().item()\n",
        "\n",
        "print('Accuracy of the network on the 60000 train images: %d %%' % (\n",
        "    100 * correct / total))"
      ],
      "execution_count": 211,
      "outputs": [
        {
          "output_type": "stream",
          "text": [
            "Accuracy of the network on the 60000 train images: 98 %\n"
          ],
          "name": "stdout"
        }
      ]
    },
    {
      "cell_type": "code",
      "metadata": {
        "id": "U2kQXLzgacsa",
        "colab": {
          "base_uri": "https://localhost:8080/"
        },
        "outputId": "23ba41d6-c335-42e3-ffc2-01614b55fbb1"
      },
      "source": [
        "total,correct"
      ],
      "execution_count": 212,
      "outputs": [
        {
          "output_type": "execute_result",
          "data": {
            "text/plain": [
              "(47000, 46306)"
            ]
          },
          "metadata": {
            "tags": []
          },
          "execution_count": 212
        }
      ]
    },
    {
      "cell_type": "code",
      "metadata": {
        "id": "5IcmEl2lacsd",
        "colab": {
          "base_uri": "https://localhost:8080/"
        },
        "outputId": "ba6b1126-403c-4bea-f805-7f6e91d3de3b"
      },
      "source": [
        "correct = 0\n",
        "total = 0\n",
        "out = []\n",
        "pred = []\n",
        "with torch.no_grad():\n",
        "    for data in testloader:\n",
        "        images, labels = data\n",
        "        images, labels = images.to(\"cuda\"),labels.to(\"cuda\")\n",
        "        out.append(labels.cpu().numpy())\n",
        "        outputs= inc(images)\n",
        "        _, predicted = torch.max(outputs.data, 1)\n",
        "        pred.append(predicted.cpu().numpy())\n",
        "        total += labels.size(0)\n",
        "        correct += (predicted == labels).sum().item()\n",
        "\n",
        "print('Accuracy of the network on the 10000 test images: %d %%' % (\n",
        "    100 * correct / total))"
      ],
      "execution_count": 213,
      "outputs": [
        {
          "output_type": "stream",
          "text": [
            "Accuracy of the network on the 10000 test images: 20 %\n"
          ],
          "name": "stdout"
        }
      ]
    },
    {
      "cell_type": "code",
      "metadata": {
        "id": "KrlBRcSQacsg"
      },
      "source": [
        "out = np.concatenate(out,axis=0)"
      ],
      "execution_count": 214,
      "outputs": []
    },
    {
      "cell_type": "code",
      "metadata": {
        "id": "EWyBhOPlacsi"
      },
      "source": [
        "pred = np.concatenate(pred,axis=0)"
      ],
      "execution_count": 215,
      "outputs": []
    },
    {
      "cell_type": "code",
      "metadata": {
        "id": "IJ1F7Lfdacsl",
        "colab": {
          "base_uri": "https://localhost:8080/"
        },
        "outputId": "3cc99e6d-a261-4585-9393-58270a910526"
      },
      "source": [
        "index = np.logical_or(out ==1,out==0)\n",
        "print(index.shape)"
      ],
      "execution_count": 216,
      "outputs": [
        {
          "output_type": "stream",
          "text": [
            "(10000,)\n"
          ],
          "name": "stdout"
        }
      ]
    },
    {
      "cell_type": "code",
      "metadata": {
        "id": "h7PmLPkGacsn",
        "colab": {
          "base_uri": "https://localhost:8080/"
        },
        "outputId": "5e43d13c-4be2-4d82-fec8-07211ee65a8f"
      },
      "source": [
        "acc = sum(out[index] == pred[index])/sum(index)\n",
        "print('Accuracy of the network on the 10000 test images: %d %%' % (\n",
        "    100*acc))"
      ],
      "execution_count": 217,
      "outputs": [
        {
          "output_type": "stream",
          "text": [
            "Accuracy of the network on the 10000 test images: 97 %\n"
          ],
          "name": "stdout"
        }
      ]
    },
    {
      "cell_type": "code",
      "metadata": {
        "id": "fvCi8x41acsq",
        "colab": {
          "base_uri": "https://localhost:8080/"
        },
        "outputId": "a972b8ca-21ba-4613-a06b-a7ff2f3977fb"
      },
      "source": [
        "\n",
        "sum(index)"
      ],
      "execution_count": 218,
      "outputs": [
        {
          "output_type": "execute_result",
          "data": {
            "text/plain": [
              "2115"
            ]
          },
          "metadata": {
            "tags": []
          },
          "execution_count": 218
        }
      ]
    },
    {
      "cell_type": "code",
      "metadata": {
        "id": "bdGNgi62acss",
        "colab": {
          "base_uri": "https://localhost:8080/"
        },
        "outputId": "c489670d-90be-4264-97c0-65e2028790a4"
      },
      "source": [
        "import random\n",
        "random.sample([1,2,3,4,5,6,7,8],5)"
      ],
      "execution_count": 219,
      "outputs": [
        {
          "output_type": "execute_result",
          "data": {
            "text/plain": [
              "[1, 7, 5, 6, 8]"
            ]
          },
          "metadata": {
            "tags": []
          },
          "execution_count": 219
        }
      ]
    },
    {
      "cell_type": "code",
      "metadata": {
        "id": "KBZqLh7heULT"
      },
      "source": [
        "# torch.save(inc.state_dict(),\"/content/drive/My Drive/model_simple_8000.pkl\")"
      ],
      "execution_count": 220,
      "outputs": []
    },
    {
      "cell_type": "code",
      "metadata": {
        "id": "JgLuOIeLeUHk",
        "colab": {
          "base_uri": "https://localhost:8080/",
          "height": 279
        },
        "outputId": "726a9b23-2534-4e42-bb5e-7e81d3a3ca34"
      },
      "source": [
        "fig = plt.figure()\n",
        "plt.plot(loss_curi,label=\"loss_Curve\")\n",
        "plt.xlabel(\"epochs\")\n",
        "plt.ylabel(\"training_loss\")\n",
        "plt.legend()\n",
        "fig.savefig(\"loss_curve.pdf\") "
      ],
      "execution_count": 221,
      "outputs": [
        {
          "output_type": "display_data",
          "data": {
            "image/png": "[encoded data removed]",
            "text/plain": [
              "<Figure size 432x288 with 1 Axes>"
            ]
          },
          "metadata": {
            "tags": [],
            "needs_background": "light"
          }
        }
      ]
    },
    {
      "cell_type": "code",
      "metadata": {
        "id": "pZhSFZLeeXeO"
      },
      "source": [
        ""
      ],
      "execution_count": 221,
      "outputs": []
    },
    {
      "cell_type": "markdown",
      "metadata": {
        "id": "p9IrsRjWNZvw"
      },
      "source": [
        "Simple Model 3 Inception Module\n",
        "\n",
        "|true training data  | Corr Training Data | Test Accuracy | Test Accuracy 0-1 | \n",
        "| ------------------ | ------------------ | ------------- | ----------------- |\n",
        "| 100   | 47335  | 15  |  75 |\n",
        "| 500   | 47335  | 16  |  80 | \n",
        "| 1000  | 47335  | 17  | 83  | \n",
        "| 2000  | 47335  | 19 | 92 | \n",
        "| 4000  | 47335  | 20 | 95  | \n",
        "| 6000  | 47335  |  20 | 96  | \n",
        "| 8000  | 47335  | 20  |  96 | \n",
        "| 12665 | 47335  | 20 | 98  | \n",
        "\n",
        "\n",
        "|   Total Training Data       |   Training Accuracy      |\n",
        "|---------------------------- | ------------------------ |\n",
        "| 47435         | 100 |\n",
        "| 47835         | 100 |\n",
        "| 48335         | 100 |\n",
        "| 49335         | 100 | \n",
        "| 51335         | 100 |\n",
        "| 53335         | 100 |\n",
        "| 55335         | 100 |\n",
        "| 60000         | 100 |"
      ]
    },
    {
      "cell_type": "markdown",
      "metadata": {
        "id": "u6XhWXz3sYcx"
      },
      "source": [
        "Mini- Inception network 8 Inception Modules\n",
        "\n",
        "|true training data  | Corr Training Data | Test Accuracy | Test Accuracy 0-1 | \n",
        "| ------------------ | ------------------ | ------------- | ----------------- |\n",
        "| 100   | 47335  | 14  | 69  |\n",
        "| 500   | 47335  | 19  | 90  | \n",
        "| 1000  | 47335  | 19  |  92 | \n",
        "| 2000  | 47335  | 20  | 95  | \n",
        "| 4000  | 47335  | 20  |  97 | \n",
        "| 6000  | 47335  | 20  | 97  | \n",
        "| 8000  | 47335  | 20  |  98 | \n",
        "| 12665 | 47335  | 20  | 99  | "
      ]
    },
    {
      "cell_type": "markdown",
      "metadata": {
        "id": "d05DCw3Jw9Am"
      },
      "source": [
        "|   Total Training Data       |   Training Accuracy      |\n",
        "|---------------------------- | ------------------------ |\n",
        "| 47435         | 100 |\n",
        "| 47835         | 100 |\n",
        "| 48335         | 100 |\n",
        "| 49335         | 100 | \n",
        "| 51335         | 100 |\n",
        "| 53335         | 100 |\n",
        "| 55335         | 100 |\n",
        "| 60000         | 100 |"
      ]
    },
    {
      "cell_type": "code",
      "metadata": {
        "id": "NuAy-cU0sY9z"
      },
      "source": [
        ""
      ],
      "execution_count": 221,
      "outputs": []
    }
  ]
}