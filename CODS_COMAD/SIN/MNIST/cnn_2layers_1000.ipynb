{
  "nbformat": 4,
  "nbformat_minor": 0,
  "metadata": {
    "kernelspec": {
      "name": "python3",
      "display_name": "Python 3"
    },
    "language_info": {
      "codemirror_mode": {
        "name": "ipython",
        "version": 3
      },
      "file_extension": ".py",
      "mimetype": "text/x-python",
      "name": "python",
      "nbconvert_exporter": "python",
      "pygments_lexer": "ipython3",
      "version": "3.7.0"
    },
    "colab": {
      "name": "cnn_2layers_500.ipynb",
      "provenance": [],
      "collapsed_sections": []
    },
    "accelerator": "GPU"
  },
  "cells": [
    {
      "cell_type": "code",
      "metadata": {
        "id": "lR-eQfx0acq8"
      },
      "source": [
        "import numpy as np\n",
        "import pandas as pd\n",
        "from matplotlib import pyplot as plt\n",
        "from tqdm import tqdm as tqdm\n",
        "\n",
        "%matplotlib inline\n",
        "\n",
        "import torch\n",
        "import torchvision\n",
        "\n",
        "import torchvision.transforms as transforms\n",
        "import torch.nn as nn\n",
        "import torch.optim as optim\n",
        "import torch.nn.functional as F\n",
        "import random"
      ],
      "execution_count": 146,
      "outputs": []
    },
    {
      "cell_type": "code",
      "metadata": {
        "id": "HxCE5TSmap0T"
      },
      "source": [
        "# from google.colab import drive\n",
        "\n",
        "# drive.mount('/content/drive')"
      ],
      "execution_count": 147,
      "outputs": []
    },
    {
      "cell_type": "code",
      "metadata": {
        "id": "yh4EScpqacrC"
      },
      "source": [
        "transform = transforms.Compose(\n",
        "    [transforms.CenterCrop((28,28)),transforms.ToTensor(),transforms.Normalize([0.5], [0.5])])\n"
      ],
      "execution_count": 148,
      "outputs": []
    },
    {
      "cell_type": "code",
      "metadata": {
        "id": "YoAqFwqpacrH"
      },
      "source": [
        "mnist_trainset = torchvision.datasets.MNIST(root='./data', train=True, download=True, transform=transform)\n",
        "mnist_testset = torchvision.datasets.MNIST(root='./data', train=False, download=True, transform=transform)"
      ],
      "execution_count": 149,
      "outputs": []
    },
    {
      "cell_type": "code",
      "metadata": {
        "id": "56x0FjYZacrM",
        "colab": {
          "base_uri": "https://localhost:8080/"
        },
        "outputId": "43fc76ee-db74-477c-b451-bb573037a9fc"
      },
      "source": [
        "index1 = [np.where(mnist_trainset.targets==0)[0] , np.where(mnist_trainset.targets==1)[0] ]\n",
        "index1 = np.concatenate(index1,axis=0)\n",
        "len(index1) #12665"
      ],
      "execution_count": 150,
      "outputs": [
        {
          "output_type": "execute_result",
          "data": {
            "text/plain": [
              "12665"
            ]
          },
          "metadata": {
            "tags": []
          },
          "execution_count": 150
        }
      ]
    },
    {
      "cell_type": "code",
      "metadata": {
        "id": "QZWNdX-BvxKP",
        "colab": {
          "base_uri": "https://localhost:8080/"
        },
        "outputId": "e4b35a74-2016-4ee8-d7ae-9f87423a9087"
      },
      "source": [
        "true = 1000\n",
        "total = 47000\n",
        "sin = total-true\n",
        "sin"
      ],
      "execution_count": 151,
      "outputs": [
        {
          "output_type": "execute_result",
          "data": {
            "text/plain": [
              "46000"
            ]
          },
          "metadata": {
            "tags": []
          },
          "execution_count": 151
        }
      ]
    },
    {
      "cell_type": "code",
      "metadata": {
        "id": "D45juO_vINDB"
      },
      "source": [
        "epochs = 300"
      ],
      "execution_count": 152,
      "outputs": []
    },
    {
      "cell_type": "code",
      "metadata": {
        "id": "yQOoEO2meJDv",
        "colab": {
          "base_uri": "https://localhost:8080/"
        },
        "outputId": "5780d10f-f6f0-4f45-e8e7-e3e34925ee0d"
      },
      "source": [
        "indices = np.random.choice(index1,true)\n",
        "indices.shape"
      ],
      "execution_count": 153,
      "outputs": [
        {
          "output_type": "execute_result",
          "data": {
            "text/plain": [
              "(1000,)"
            ]
          },
          "metadata": {
            "tags": []
          },
          "execution_count": 153
        }
      ]
    },
    {
      "cell_type": "code",
      "metadata": {
        "id": "d_8snSm1acrR",
        "colab": {
          "base_uri": "https://localhost:8080/"
        },
        "outputId": "4099c8de-ee38-473b-b840-19ec7698ef06"
      },
      "source": [
        "index = np.where(np.logical_and(mnist_trainset.targets!=0,mnist_trainset.targets!=1))[0]  #47335\n",
        "index.shape"
      ],
      "execution_count": 154,
      "outputs": [
        {
          "output_type": "execute_result",
          "data": {
            "text/plain": [
              "(47335,)"
            ]
          },
          "metadata": {
            "tags": []
          },
          "execution_count": 154
        }
      ]
    },
    {
      "cell_type": "code",
      "metadata": {
        "id": "ejwWlWXm5pP7"
      },
      "source": [
        "req_index = np.random.choice(index.shape[0], sin, replace=False) \n",
        "# req_index"
      ],
      "execution_count": 155,
      "outputs": []
    },
    {
      "cell_type": "code",
      "metadata": {
        "colab": {
          "base_uri": "https://localhost:8080/"
        },
        "id": "mEg6CPL-6fuj",
        "outputId": "9095a5b5-97ca-45a3-c7ad-0592da18c7b8"
      },
      "source": [
        "index = index[req_index]\n",
        "index.shape"
      ],
      "execution_count": 156,
      "outputs": [
        {
          "output_type": "execute_result",
          "data": {
            "text/plain": [
              "(46000,)"
            ]
          },
          "metadata": {
            "tags": []
          },
          "execution_count": 156
        }
      ]
    },
    {
      "cell_type": "code",
      "metadata": {
        "id": "vYhiSaAnacrW",
        "colab": {
          "base_uri": "https://localhost:8080/"
        },
        "outputId": "7469bf64-d7d4-49ed-d88a-195cc628a740"
      },
      "source": [
        "values = np.random.choice([0,1],size= sin) \n",
        "print(sum(values ==0),sum(values==1), sum(values ==0) + sum(values==1) )\n"
      ],
      "execution_count": 157,
      "outputs": [
        {
          "output_type": "stream",
          "text": [
            "23069 22931 46000\n"
          ],
          "name": "stdout"
        }
      ]
    },
    {
      "cell_type": "code",
      "metadata": {
        "id": "uLuqrhO1hRR6"
      },
      "source": [
        "mnist_trainset.data = torch.cat((mnist_trainset.data[indices],mnist_trainset.data[index]))\n",
        "mnist_trainset.targets = torch.cat((mnist_trainset.targets[indices],torch.Tensor(values).type(torch.LongTensor)))"
      ],
      "execution_count": 158,
      "outputs": []
    },
    {
      "cell_type": "code",
      "metadata": {
        "colab": {
          "base_uri": "https://localhost:8080/"
        },
        "id": "43UoqeUI4hIV",
        "outputId": "919fc155-4c12-4a99-d333-e600d78aee57"
      },
      "source": [
        "mnist_trainset.targets.shape, mnist_trainset.data.shape"
      ],
      "execution_count": 159,
      "outputs": [
        {
          "output_type": "execute_result",
          "data": {
            "text/plain": [
              "(torch.Size([47000]), torch.Size([47000, 28, 28]))"
            ]
          },
          "metadata": {
            "tags": []
          },
          "execution_count": 159
        }
      ]
    },
    {
      "cell_type": "code",
      "metadata": {
        "id": "iczET1tohOsL",
        "colab": {
          "base_uri": "https://localhost:8080/",
          "height": 283
        },
        "outputId": "bdf863c1-6eb7-43de-e46f-b87c837b6f20"
      },
      "source": [
        "# mnist_trainset.targets[index] = torch.Tensor(values).type(torch.LongTensor)\n",
        "j =20078     # Without Shuffle upto True Training numbers correct , after that corrupted\n",
        "print(plt.imshow(mnist_trainset.data[j]),mnist_trainset.targets[j])"
      ],
      "execution_count": 160,
      "outputs": [
        {
          "output_type": "stream",
          "text": [
            "AxesImage(54,36;334.8x217.44) tensor(1)\n"
          ],
          "name": "stdout"
        },
        {
          "output_type": "display_data",
          "data": {
            "image/png": "[encoded data removed]",
            "text/plain": [
              "<Figure size 432x288 with 1 Axes>"
            ]
          },
          "metadata": {
            "tags": [],
            "needs_background": "light"
          }
        }
      ]
    },
    {
      "cell_type": "code",
      "metadata": {
        "id": "U8WPVHnPacrd"
      },
      "source": [
        "trainloader = torch.utils.data.DataLoader(mnist_trainset, batch_size=250,shuffle=True, num_workers=2)"
      ],
      "execution_count": 161,
      "outputs": []
    },
    {
      "cell_type": "code",
      "metadata": {
        "id": "7L7ocAcracri"
      },
      "source": [
        "testloader = torch.utils.data.DataLoader(mnist_testset, batch_size=250,shuffle=False, num_workers=2)"
      ],
      "execution_count": 162,
      "outputs": []
    },
    {
      "cell_type": "code",
      "metadata": {
        "colab": {
          "base_uri": "https://localhost:8080/"
        },
        "id": "ULbHmoX-5QRM",
        "outputId": "9e7a2d7b-2da1-41c9-cc5a-a6712eaa95a1"
      },
      "source": [
        "mnist_trainset.data.shape"
      ],
      "execution_count": 163,
      "outputs": [
        {
          "output_type": "execute_result",
          "data": {
            "text/plain": [
              "torch.Size([47000, 28, 28])"
            ]
          },
          "metadata": {
            "tags": []
          },
          "execution_count": 163
        }
      ]
    },
    {
      "cell_type": "code",
      "metadata": {
        "id": "pdhAr2p6acrm"
      },
      "source": [
        "classes = ('zero', 'one')"
      ],
      "execution_count": 164,
      "outputs": []
    },
    {
      "cell_type": "code",
      "metadata": {
        "id": "jhUOj6Tnacrr"
      },
      "source": [
        "dataiter = iter(trainloader)\n",
        "images, labels = dataiter.next()"
      ],
      "execution_count": 165,
      "outputs": []
    },
    {
      "cell_type": "code",
      "metadata": {
        "id": "vVgW5hBkacrv",
        "colab": {
          "base_uri": "https://localhost:8080/"
        },
        "outputId": "3c37fce9-d1ae-4fea-c0d8-e66f213c318a"
      },
      "source": [
        "images[:4].shape"
      ],
      "execution_count": 166,
      "outputs": [
        {
          "output_type": "execute_result",
          "data": {
            "text/plain": [
              "torch.Size([4, 1, 28, 28])"
            ]
          },
          "metadata": {
            "tags": []
          },
          "execution_count": 166
        }
      ]
    },
    {
      "cell_type": "code",
      "metadata": {
        "id": "nUtA80KCacr1"
      },
      "source": [
        "def imshow(img):\n",
        "    img = img / 2 + 0.5     # unnormalize\n",
        "    npimg = img.numpy()\n",
        "    plt.imshow(np.transpose(npimg, (1, 2, 0)))\n",
        "    plt.show()"
      ],
      "execution_count": 167,
      "outputs": []
    },
    {
      "cell_type": "code",
      "metadata": {
        "id": "Xv34FfAdacr5",
        "colab": {
          "base_uri": "https://localhost:8080/",
          "height": 155
        },
        "outputId": "c58f1925-43e4-42f8-d8a9-1ec1bb194935"
      },
      "source": [
        "imshow(torchvision.utils.make_grid(images[:10]))\n",
        "print('GroundTruth: ', ' '.join('%5s' % classes[labels[j]] for j in range(10)))"
      ],
      "execution_count": 168,
      "outputs": [
        {
          "output_type": "display_data",
          "data": {
            "image/png": "[encoded data removed]",
            "text/plain": [
              "<Figure size 432x288 with 1 Axes>"
            ]
          },
          "metadata": {
            "tags": [],
            "needs_background": "light"
          }
        },
        {
          "output_type": "stream",
          "text": [
            "GroundTruth:   zero  zero  zero   one  zero  zero   one  zero  zero  zero\n"
          ],
          "name": "stdout"
        }
      ]
    },
    {
      "cell_type": "code",
      "metadata": {
        "id": "Ss-jhHRIacr-"
      },
      "source": [
        "class Module2(nn.Module):\n",
        "  def __init__(self):\n",
        "    super(Module2, self).__init__()\n",
        "    self.conv1 = nn.Conv2d(1, 6, 5)\n",
        "    self.pool = nn.MaxPool2d(2, 2)\n",
        "    self.conv2 = nn.Conv2d(6, 16, 5)\n",
        "    self.fc1 = nn.Linear(16 * 4 * 4, 128)\n",
        "    self.fc2 = nn.Linear(128, 64)\n",
        "    self.fc3 = nn.Linear(64, 10)\n",
        "    self.fc4 = nn.Linear(10,2)\n",
        "\n",
        "  def forward(self,z):  \n",
        "    y1 = self.pool(F.relu(self.conv1(z)))\n",
        "    y1 = self.pool(F.relu(self.conv2(y1)))\n",
        "    # print(y1.shape)\n",
        "    y1 = y1.view(-1, 16 * 4 * 4)\n",
        "\n",
        "    y1 = F.relu(self.fc1(y1))\n",
        "    y1 = F.relu(self.fc2(y1))\n",
        "    y1 = F.relu(self.fc3(y1))\n",
        "    y1 = self.fc4(y1)\n",
        "    return y1 "
      ],
      "execution_count": 169,
      "outputs": []
    },
    {
      "cell_type": "code",
      "metadata": {
        "id": "rByxqKdOacsM"
      },
      "source": [
        "inc = Module2()\n",
        "inc = inc.to(\"cuda\")"
      ],
      "execution_count": 170,
      "outputs": []
    },
    {
      "cell_type": "code",
      "metadata": {
        "id": "imWjagA2acsO"
      },
      "source": [
        "criterion_inception = nn.CrossEntropyLoss()\n",
        "optimizer_inception = optim.SGD(inc.parameters(), lr=0.01, momentum=0.9)"
      ],
      "execution_count": 171,
      "outputs": []
    },
    {
      "cell_type": "code",
      "metadata": {
        "id": "r5mCNr38acsR",
        "colab": {
          "base_uri": "https://localhost:8080/"
        },
        "outputId": "3559c6f1-ae4e-4b25-f09a-37a504e9ab17"
      },
      "source": [
        "acti = []\n",
        "loss_curi = []\n",
        "for epoch in range(epochs): # loop over the dataset multiple times\n",
        "    ep_lossi = []\n",
        "\n",
        "    running_loss = 0.0\n",
        "    for i, data in enumerate(trainloader, 0):\n",
        "        # get the inputs\n",
        "        inputs, labels = data\n",
        "        inputs, labels = inputs.to(\"cuda\"),labels.to(\"cuda\")\n",
        "\n",
        "        # print(inputs.shape)\n",
        "        # zero the parameter gradients\n",
        "        optimizer_inception.zero_grad()\n",
        "\n",
        "        # forward + backward + optimize\n",
        "        outputs = inc(inputs)\n",
        "        loss = criterion_inception(outputs, labels)\n",
        "        loss.backward()\n",
        "        optimizer_inception.step()\n",
        "\n",
        "        # print statistics\n",
        "        running_loss += loss.item()\n",
        "        if i % 50 == 49:    # print every 50 mini-batches\n",
        "            print('[%d, %5d] loss: %.3f' %\n",
        "                  (epoch + 1, i + 1, running_loss / 50))\n",
        "            ep_lossi.append(running_loss/50) # loss per minibatch\n",
        "            running_loss = 0.0\n",
        "            \n",
        "    loss_curi.append(np.mean(ep_lossi))   #loss per epoch\n",
        "    if (np.mean(ep_lossi)<=0.03):\n",
        "        break\n",
        "#         acti.append(actis)\n",
        "    \n",
        "            \n",
        "\n",
        "print('Finished Training')"
      ],
      "execution_count": 172,
      "outputs": [
        {
          "output_type": "stream",
          "text": [
            "[1,    50] loss: 0.696\n",
            "[1,   100] loss: 0.693\n",
            "[1,   150] loss: 0.693\n",
            "[2,    50] loss: 0.693\n",
            "[2,   100] loss: 0.693\n",
            "[2,   150] loss: 0.693\n",
            "[3,    50] loss: 0.693\n",
            "[3,   100] loss: 0.693\n",
            "[3,   150] loss: 0.693\n",
            "[4,    50] loss: 0.693\n",
            "[4,   100] loss: 0.693\n",
            "[4,   150] loss: 0.693\n",
            "[5,    50] loss: 0.693\n",
            "[5,   100] loss: 0.693\n",
            "[5,   150] loss: 0.693\n",
            "[6,    50] loss: 0.693\n",
            "[6,   100] loss: 0.693\n",
            "[6,   150] loss: 0.693\n",
            "[7,    50] loss: 0.693\n",
            "[7,   100] loss: 0.692\n",
            "[7,   150] loss: 0.693\n",
            "[8,    50] loss: 0.692\n",
            "[8,   100] loss: 0.692\n",
            "[8,   150] loss: 0.692\n",
            "[9,    50] loss: 0.692\n",
            "[9,   100] loss: 0.692\n",
            "[9,   150] loss: 0.692\n",
            "[10,    50] loss: 0.692\n",
            "[10,   100] loss: 0.692\n",
            "[10,   150] loss: 0.692\n",
            "[11,    50] loss: 0.692\n",
            "[11,   100] loss: 0.692\n",
            "[11,   150] loss: 0.691\n",
            "[12,    50] loss: 0.692\n",
            "[12,   100] loss: 0.691\n",
            "[12,   150] loss: 0.690\n",
            "[13,    50] loss: 0.692\n",
            "[13,   100] loss: 0.691\n",
            "[13,   150] loss: 0.691\n",
            "[14,    50] loss: 0.690\n",
            "[14,   100] loss: 0.691\n",
            "[14,   150] loss: 0.691\n",
            "[15,    50] loss: 0.690\n",
            "[15,   100] loss: 0.691\n",
            "[15,   150] loss: 0.691\n",
            "[16,    50] loss: 0.690\n",
            "[16,   100] loss: 0.690\n",
            "[16,   150] loss: 0.691\n",
            "[17,    50] loss: 0.689\n",
            "[17,   100] loss: 0.691\n",
            "[17,   150] loss: 0.690\n",
            "[18,    50] loss: 0.688\n",
            "[18,   100] loss: 0.690\n",
            "[18,   150] loss: 0.689\n",
            "[19,    50] loss: 0.689\n",
            "[19,   100] loss: 0.689\n",
            "[19,   150] loss: 0.689\n",
            "[20,    50] loss: 0.688\n",
            "[20,   100] loss: 0.690\n",
            "[20,   150] loss: 0.688\n",
            "[21,    50] loss: 0.688\n",
            "[21,   100] loss: 0.688\n",
            "[21,   150] loss: 0.686\n",
            "[22,    50] loss: 0.687\n",
            "[22,   100] loss: 0.687\n",
            "[22,   150] loss: 0.687\n",
            "[23,    50] loss: 0.687\n",
            "[23,   100] loss: 0.687\n",
            "[23,   150] loss: 0.687\n",
            "[24,    50] loss: 0.686\n",
            "[24,   100] loss: 0.686\n",
            "[24,   150] loss: 0.687\n",
            "[25,    50] loss: 0.685\n",
            "[25,   100] loss: 0.686\n",
            "[25,   150] loss: 0.687\n",
            "[26,    50] loss: 0.685\n",
            "[26,   100] loss: 0.686\n",
            "[26,   150] loss: 0.684\n",
            "[27,    50] loss: 0.684\n",
            "[27,   100] loss: 0.684\n",
            "[27,   150] loss: 0.683\n",
            "[28,    50] loss: 0.684\n",
            "[28,   100] loss: 0.684\n",
            "[28,   150] loss: 0.684\n",
            "[29,    50] loss: 0.684\n",
            "[29,   100] loss: 0.684\n",
            "[29,   150] loss: 0.684\n",
            "[30,    50] loss: 0.682\n",
            "[30,   100] loss: 0.682\n",
            "[30,   150] loss: 0.684\n",
            "[31,    50] loss: 0.683\n",
            "[31,   100] loss: 0.681\n",
            "[31,   150] loss: 0.683\n",
            "[32,    50] loss: 0.683\n",
            "[32,   100] loss: 0.682\n",
            "[32,   150] loss: 0.680\n",
            "[33,    50] loss: 0.680\n",
            "[33,   100] loss: 0.681\n",
            "[33,   150] loss: 0.682\n",
            "[34,    50] loss: 0.681\n",
            "[34,   100] loss: 0.682\n",
            "[34,   150] loss: 0.680\n",
            "[35,    50] loss: 0.680\n",
            "[35,   100] loss: 0.680\n",
            "[35,   150] loss: 0.679\n",
            "[36,    50] loss: 0.678\n",
            "[36,   100] loss: 0.679\n",
            "[36,   150] loss: 0.682\n",
            "[37,    50] loss: 0.678\n",
            "[37,   100] loss: 0.680\n",
            "[37,   150] loss: 0.683\n",
            "[38,    50] loss: 0.678\n",
            "[38,   100] loss: 0.680\n",
            "[38,   150] loss: 0.677\n",
            "[39,    50] loss: 0.678\n",
            "[39,   100] loss: 0.677\n",
            "[39,   150] loss: 0.678\n",
            "[40,    50] loss: 0.676\n",
            "[40,   100] loss: 0.679\n",
            "[40,   150] loss: 0.678\n",
            "[41,    50] loss: 0.674\n",
            "[41,   100] loss: 0.676\n",
            "[41,   150] loss: 0.678\n",
            "[42,    50] loss: 0.677\n",
            "[42,   100] loss: 0.677\n",
            "[42,   150] loss: 0.677\n",
            "[43,    50] loss: 0.675\n",
            "[43,   100] loss: 0.678\n",
            "[43,   150] loss: 0.674\n",
            "[44,    50] loss: 0.674\n",
            "[44,   100] loss: 0.674\n",
            "[44,   150] loss: 0.676\n",
            "[45,    50] loss: 0.671\n",
            "[45,   100] loss: 0.676\n",
            "[45,   150] loss: 0.675\n",
            "[46,    50] loss: 0.672\n",
            "[46,   100] loss: 0.673\n",
            "[46,   150] loss: 0.672\n",
            "[47,    50] loss: 0.670\n",
            "[47,   100] loss: 0.672\n",
            "[47,   150] loss: 0.674\n",
            "[48,    50] loss: 0.669\n",
            "[48,   100] loss: 0.675\n",
            "[48,   150] loss: 0.671\n",
            "[49,    50] loss: 0.668\n",
            "[49,   100] loss: 0.669\n",
            "[49,   150] loss: 0.671\n",
            "[50,    50] loss: 0.667\n",
            "[50,   100] loss: 0.670\n",
            "[50,   150] loss: 0.671\n",
            "[51,    50] loss: 0.668\n",
            "[51,   100] loss: 0.668\n",
            "[51,   150] loss: 0.666\n",
            "[52,    50] loss: 0.664\n",
            "[52,   100] loss: 0.665\n",
            "[52,   150] loss: 0.668\n",
            "[53,    50] loss: 0.664\n",
            "[53,   100] loss: 0.662\n",
            "[53,   150] loss: 0.666\n",
            "[54,    50] loss: 0.664\n",
            "[54,   100] loss: 0.666\n",
            "[54,   150] loss: 0.663\n",
            "[55,    50] loss: 0.661\n",
            "[55,   100] loss: 0.661\n",
            "[55,   150] loss: 0.663\n",
            "[56,    50] loss: 0.660\n",
            "[56,   100] loss: 0.659\n",
            "[56,   150] loss: 0.661\n",
            "[57,    50] loss: 0.659\n",
            "[57,   100] loss: 0.657\n",
            "[57,   150] loss: 0.661\n",
            "[58,    50] loss: 0.655\n",
            "[58,   100] loss: 0.659\n",
            "[58,   150] loss: 0.659\n",
            "[59,    50] loss: 0.651\n",
            "[59,   100] loss: 0.657\n",
            "[59,   150] loss: 0.664\n",
            "[60,    50] loss: 0.650\n",
            "[60,   100] loss: 0.655\n",
            "[60,   150] loss: 0.655\n",
            "[61,    50] loss: 0.648\n",
            "[61,   100] loss: 0.656\n",
            "[61,   150] loss: 0.653\n",
            "[62,    50] loss: 0.648\n",
            "[62,   100] loss: 0.651\n",
            "[62,   150] loss: 0.650\n",
            "[63,    50] loss: 0.645\n",
            "[63,   100] loss: 0.646\n",
            "[63,   150] loss: 0.651\n",
            "[64,    50] loss: 0.646\n",
            "[64,   100] loss: 0.648\n",
            "[64,   150] loss: 0.648\n",
            "[65,    50] loss: 0.637\n",
            "[65,   100] loss: 0.648\n",
            "[65,   150] loss: 0.643\n",
            "[66,    50] loss: 0.637\n",
            "[66,   100] loss: 0.647\n",
            "[66,   150] loss: 0.643\n",
            "[67,    50] loss: 0.635\n",
            "[67,   100] loss: 0.634\n",
            "[67,   150] loss: 0.645\n",
            "[68,    50] loss: 0.634\n",
            "[68,   100] loss: 0.640\n",
            "[68,   150] loss: 0.632\n",
            "[69,    50] loss: 0.628\n",
            "[69,   100] loss: 0.635\n",
            "[69,   150] loss: 0.637\n",
            "[70,    50] loss: 0.625\n",
            "[70,   100] loss: 0.630\n",
            "[70,   150] loss: 0.634\n",
            "[71,    50] loss: 0.621\n",
            "[71,   100] loss: 0.628\n",
            "[71,   150] loss: 0.634\n",
            "[72,    50] loss: 0.620\n",
            "[72,   100] loss: 0.623\n",
            "[72,   150] loss: 0.620\n",
            "[73,    50] loss: 0.609\n",
            "[73,   100] loss: 0.617\n",
            "[73,   150] loss: 0.627\n",
            "[74,    50] loss: 0.608\n",
            "[74,   100] loss: 0.618\n",
            "[74,   150] loss: 0.623\n",
            "[75,    50] loss: 0.603\n",
            "[75,   100] loss: 0.607\n",
            "[75,   150] loss: 0.611\n",
            "[76,    50] loss: 0.602\n",
            "[76,   100] loss: 0.605\n",
            "[76,   150] loss: 0.605\n",
            "[77,    50] loss: 0.593\n",
            "[77,   100] loss: 0.605\n",
            "[77,   150] loss: 0.606\n",
            "[78,    50] loss: 0.593\n",
            "[78,   100] loss: 0.599\n",
            "[78,   150] loss: 0.605\n",
            "[79,    50] loss: 0.571\n",
            "[79,   100] loss: 0.595\n",
            "[79,   150] loss: 0.606\n",
            "[80,    50] loss: 0.573\n",
            "[80,   100] loss: 0.588\n",
            "[80,   150] loss: 0.596\n",
            "[81,    50] loss: 0.576\n",
            "[81,   100] loss: 0.582\n",
            "[81,   150] loss: 0.589\n",
            "[82,    50] loss: 0.563\n",
            "[82,   100] loss: 0.575\n",
            "[82,   150] loss: 0.580\n",
            "[83,    50] loss: 0.551\n",
            "[83,   100] loss: 0.576\n",
            "[83,   150] loss: 0.571\n",
            "[84,    50] loss: 0.550\n",
            "[84,   100] loss: 0.570\n",
            "[84,   150] loss: 0.560\n",
            "[85,    50] loss: 0.548\n",
            "[85,   100] loss: 0.558\n",
            "[85,   150] loss: 0.565\n",
            "[86,    50] loss: 0.530\n",
            "[86,   100] loss: 0.545\n",
            "[86,   150] loss: 0.558\n",
            "[87,    50] loss: 0.539\n",
            "[87,   100] loss: 0.542\n",
            "[87,   150] loss: 0.556\n",
            "[88,    50] loss: 0.519\n",
            "[88,   100] loss: 0.540\n",
            "[88,   150] loss: 0.548\n",
            "[89,    50] loss: 0.509\n",
            "[89,   100] loss: 0.529\n",
            "[89,   150] loss: 0.546\n",
            "[90,    50] loss: 0.492\n",
            "[90,   100] loss: 0.514\n",
            "[90,   150] loss: 0.531\n",
            "[91,    50] loss: 0.502\n",
            "[91,   100] loss: 0.517\n",
            "[91,   150] loss: 0.537\n",
            "[92,    50] loss: 0.486\n",
            "[92,   100] loss: 0.501\n",
            "[92,   150] loss: 0.521\n",
            "[93,    50] loss: 0.469\n",
            "[93,   100] loss: 0.509\n",
            "[93,   150] loss: 0.527\n",
            "[94,    50] loss: 0.475\n",
            "[94,   100] loss: 0.482\n",
            "[94,   150] loss: 0.495\n",
            "[95,    50] loss: 0.465\n",
            "[95,   100] loss: 0.474\n",
            "[95,   150] loss: 0.496\n",
            "[96,    50] loss: 0.447\n",
            "[96,   100] loss: 0.473\n",
            "[96,   150] loss: 0.494\n",
            "[97,    50] loss: 0.442\n",
            "[97,   100] loss: 0.466\n",
            "[97,   150] loss: 0.491\n",
            "[98,    50] loss: 0.433\n",
            "[98,   100] loss: 0.462\n",
            "[98,   150] loss: 0.474\n",
            "[99,    50] loss: 0.429\n",
            "[99,   100] loss: 0.444\n",
            "[99,   150] loss: 0.468\n",
            "[100,    50] loss: 0.416\n",
            "[100,   100] loss: 0.445\n",
            "[100,   150] loss: 0.446\n",
            "[101,    50] loss: 0.418\n",
            "[101,   100] loss: 0.432\n",
            "[101,   150] loss: 0.465\n",
            "[102,    50] loss: 0.398\n",
            "[102,   100] loss: 0.412\n",
            "[102,   150] loss: 0.435\n",
            "[103,    50] loss: 0.385\n",
            "[103,   100] loss: 0.427\n",
            "[103,   150] loss: 0.439\n",
            "[104,    50] loss: 0.389\n",
            "[104,   100] loss: 0.404\n",
            "[104,   150] loss: 0.427\n",
            "[105,    50] loss: 0.370\n",
            "[105,   100] loss: 0.383\n",
            "[105,   150] loss: 0.416\n",
            "[106,    50] loss: 0.392\n",
            "[106,   100] loss: 0.392\n",
            "[106,   150] loss: 0.405\n",
            "[107,    50] loss: 0.365\n",
            "[107,   100] loss: 0.390\n",
            "[107,   150] loss: 0.398\n",
            "[108,    50] loss: 0.347\n",
            "[108,   100] loss: 0.373\n",
            "[108,   150] loss: 0.392\n",
            "[109,    50] loss: 0.342\n",
            "[109,   100] loss: 0.368\n",
            "[109,   150] loss: 0.386\n",
            "[110,    50] loss: 0.340\n",
            "[110,   100] loss: 0.368\n",
            "[110,   150] loss: 0.393\n",
            "[111,    50] loss: 0.323\n",
            "[111,   100] loss: 0.353\n",
            "[111,   150] loss: 0.372\n",
            "[112,    50] loss: 0.340\n",
            "[112,   100] loss: 0.340\n",
            "[112,   150] loss: 0.366\n",
            "[113,    50] loss: 0.314\n",
            "[113,   100] loss: 0.343\n",
            "[113,   150] loss: 0.348\n",
            "[114,    50] loss: 0.302\n",
            "[114,   100] loss: 0.345\n",
            "[114,   150] loss: 0.367\n",
            "[115,    50] loss: 0.295\n",
            "[115,   100] loss: 0.315\n",
            "[115,   150] loss: 0.354\n",
            "[116,    50] loss: 0.292\n",
            "[116,   100] loss: 0.327\n",
            "[116,   150] loss: 0.359\n",
            "[117,    50] loss: 0.288\n",
            "[117,   100] loss: 0.321\n",
            "[117,   150] loss: 0.331\n",
            "[118,    50] loss: 0.275\n",
            "[118,   100] loss: 0.309\n",
            "[118,   150] loss: 0.329\n",
            "[119,    50] loss: 0.274\n",
            "[119,   100] loss: 0.290\n",
            "[119,   150] loss: 0.319\n",
            "[120,    50] loss: 0.268\n",
            "[120,   100] loss: 0.291\n",
            "[120,   150] loss: 0.314\n",
            "[121,    50] loss: 0.254\n",
            "[121,   100] loss: 0.285\n",
            "[121,   150] loss: 0.313\n",
            "[122,    50] loss: 0.260\n",
            "[122,   100] loss: 0.283\n",
            "[122,   150] loss: 0.301\n",
            "[123,    50] loss: 0.262\n",
            "[123,   100] loss: 0.303\n",
            "[123,   150] loss: 0.295\n",
            "[124,    50] loss: 0.252\n",
            "[124,   100] loss: 0.256\n",
            "[124,   150] loss: 0.283\n",
            "[125,    50] loss: 0.242\n",
            "[125,   100] loss: 0.266\n",
            "[125,   150] loss: 0.296\n",
            "[126,    50] loss: 0.227\n",
            "[126,   100] loss: 0.275\n",
            "[126,   150] loss: 0.296\n",
            "[127,    50] loss: 0.225\n",
            "[127,   100] loss: 0.242\n",
            "[127,   150] loss: 0.274\n",
            "[128,    50] loss: 0.230\n",
            "[128,   100] loss: 0.250\n",
            "[128,   150] loss: 0.276\n",
            "[129,    50] loss: 0.214\n",
            "[129,   100] loss: 0.237\n",
            "[129,   150] loss: 0.268\n",
            "[130,    50] loss: 0.213\n",
            "[130,   100] loss: 0.220\n",
            "[130,   150] loss: 0.240\n",
            "[131,    50] loss: 0.229\n",
            "[131,   100] loss: 0.229\n",
            "[131,   150] loss: 0.251\n",
            "[132,    50] loss: 0.215\n",
            "[132,   100] loss: 0.220\n",
            "[132,   150] loss: 0.244\n",
            "[133,    50] loss: 0.222\n",
            "[133,   100] loss: 0.227\n",
            "[133,   150] loss: 0.241\n",
            "[134,    50] loss: 0.206\n",
            "[134,   100] loss: 0.231\n",
            "[134,   150] loss: 0.238\n",
            "[135,    50] loss: 0.207\n",
            "[135,   100] loss: 0.219\n",
            "[135,   150] loss: 0.223\n",
            "[136,    50] loss: 0.188\n",
            "[136,   100] loss: 0.191\n",
            "[136,   150] loss: 0.243\n",
            "[137,    50] loss: 0.193\n",
            "[137,   100] loss: 0.222\n",
            "[137,   150] loss: 0.223\n",
            "[138,    50] loss: 0.190\n",
            "[138,   100] loss: 0.201\n",
            "[138,   150] loss: 0.220\n",
            "[139,    50] loss: 0.178\n",
            "[139,   100] loss: 0.215\n",
            "[139,   150] loss: 0.224\n",
            "[140,    50] loss: 0.161\n",
            "[140,   100] loss: 0.172\n",
            "[140,   150] loss: 0.197\n",
            "[141,    50] loss: 0.185\n",
            "[141,   100] loss: 0.200\n",
            "[141,   150] loss: 0.233\n",
            "[142,    50] loss: 0.159\n",
            "[142,   100] loss: 0.183\n",
            "[142,   150] loss: 0.204\n",
            "[143,    50] loss: 0.172\n",
            "[143,   100] loss: 0.186\n",
            "[143,   150] loss: 0.215\n",
            "[144,    50] loss: 0.169\n",
            "[144,   100] loss: 0.175\n",
            "[144,   150] loss: 0.206\n",
            "[145,    50] loss: 0.179\n",
            "[145,   100] loss: 0.174\n",
            "[145,   150] loss: 0.182\n",
            "[146,    50] loss: 0.158\n",
            "[146,   100] loss: 0.151\n",
            "[146,   150] loss: 0.202\n",
            "[147,    50] loss: 0.176\n",
            "[147,   100] loss: 0.170\n",
            "[147,   150] loss: 0.174\n",
            "[148,    50] loss: 0.153\n",
            "[148,   100] loss: 0.153\n",
            "[148,   150] loss: 0.196\n",
            "[149,    50] loss: 0.152\n",
            "[149,   100] loss: 0.181\n",
            "[149,   150] loss: 0.180\n",
            "[150,    50] loss: 0.145\n",
            "[150,   100] loss: 0.149\n",
            "[150,   150] loss: 0.165\n",
            "[151,    50] loss: 0.155\n",
            "[151,   100] loss: 0.139\n",
            "[151,   150] loss: 0.177\n",
            "[152,    50] loss: 0.135\n",
            "[152,   100] loss: 0.149\n",
            "[152,   150] loss: 0.157\n",
            "[153,    50] loss: 0.121\n",
            "[153,   100] loss: 0.161\n",
            "[153,   150] loss: 0.169\n",
            "[154,    50] loss: 0.148\n",
            "[154,   100] loss: 0.143\n",
            "[154,   150] loss: 0.178\n",
            "[155,    50] loss: 0.144\n",
            "[155,   100] loss: 0.135\n",
            "[155,   150] loss: 0.160\n",
            "[156,    50] loss: 0.123\n",
            "[156,   100] loss: 0.143\n",
            "[156,   150] loss: 0.174\n",
            "[157,    50] loss: 0.128\n",
            "[157,   100] loss: 0.130\n",
            "[157,   150] loss: 0.158\n",
            "[158,    50] loss: 0.123\n",
            "[158,   100] loss: 0.131\n",
            "[158,   150] loss: 0.156\n",
            "[159,    50] loss: 0.114\n",
            "[159,   100] loss: 0.130\n",
            "[159,   150] loss: 0.144\n",
            "[160,    50] loss: 0.141\n",
            "[160,   100] loss: 0.138\n",
            "[160,   150] loss: 0.166\n",
            "[161,    50] loss: 0.126\n",
            "[161,   100] loss: 0.123\n",
            "[161,   150] loss: 0.146\n",
            "[162,    50] loss: 0.117\n",
            "[162,   100] loss: 0.117\n",
            "[162,   150] loss: 0.170\n",
            "[163,    50] loss: 0.099\n",
            "[163,   100] loss: 0.122\n",
            "[163,   150] loss: 0.141\n",
            "[164,    50] loss: 0.120\n",
            "[164,   100] loss: 0.108\n",
            "[164,   150] loss: 0.176\n",
            "[165,    50] loss: 0.111\n",
            "[165,   100] loss: 0.123\n",
            "[165,   150] loss: 0.137\n",
            "[166,    50] loss: 0.119\n",
            "[166,   100] loss: 0.119\n",
            "[166,   150] loss: 0.127\n",
            "[167,    50] loss: 0.104\n",
            "[167,   100] loss: 0.115\n",
            "[167,   150] loss: 0.137\n",
            "[168,    50] loss: 0.125\n",
            "[168,   100] loss: 0.112\n",
            "[168,   150] loss: 0.111\n",
            "[169,    50] loss: 0.108\n",
            "[169,   100] loss: 0.110\n",
            "[169,   150] loss: 0.129\n",
            "[170,    50] loss: 0.120\n",
            "[170,   100] loss: 0.115\n",
            "[170,   150] loss: 0.109\n",
            "[171,    50] loss: 0.099\n",
            "[171,   100] loss: 0.108\n",
            "[171,   150] loss: 0.133\n",
            "[172,    50] loss: 0.097\n",
            "[172,   100] loss: 0.102\n",
            "[172,   150] loss: 0.127\n",
            "[173,    50] loss: 0.092\n",
            "[173,   100] loss: 0.095\n",
            "[173,   150] loss: 0.105\n",
            "[174,    50] loss: 0.110\n",
            "[174,   100] loss: 0.103\n",
            "[174,   150] loss: 0.115\n",
            "[175,    50] loss: 0.103\n",
            "[175,   100] loss: 0.098\n",
            "[175,   150] loss: 0.108\n",
            "[176,    50] loss: 0.085\n",
            "[176,   100] loss: 0.105\n",
            "[176,   150] loss: 0.128\n",
            "[177,    50] loss: 0.094\n",
            "[177,   100] loss: 0.083\n",
            "[177,   150] loss: 0.104\n",
            "[178,    50] loss: 0.109\n",
            "[178,   100] loss: 0.100\n",
            "[178,   150] loss: 0.118\n",
            "[179,    50] loss: 0.087\n",
            "[179,   100] loss: 0.073\n",
            "[179,   150] loss: 0.080\n",
            "[180,    50] loss: 0.114\n",
            "[180,   100] loss: 0.116\n",
            "[180,   150] loss: 0.119\n",
            "[181,    50] loss: 0.084\n",
            "[181,   100] loss: 0.087\n",
            "[181,   150] loss: 0.119\n",
            "[182,    50] loss: 0.115\n",
            "[182,   100] loss: 0.103\n",
            "[182,   150] loss: 0.118\n",
            "[183,    50] loss: 0.083\n",
            "[183,   100] loss: 0.082\n",
            "[183,   150] loss: 0.094\n",
            "[184,    50] loss: 0.090\n",
            "[184,   100] loss: 0.110\n",
            "[184,   150] loss: 0.110\n",
            "[185,    50] loss: 0.066\n",
            "[185,   100] loss: 0.080\n",
            "[185,   150] loss: 0.114\n",
            "[186,    50] loss: 0.087\n",
            "[186,   100] loss: 0.073\n",
            "[186,   150] loss: 0.074\n",
            "[187,    50] loss: 0.087\n",
            "[187,   100] loss: 0.087\n",
            "[187,   150] loss: 0.085\n",
            "[188,    50] loss: 0.071\n",
            "[188,   100] loss: 0.096\n",
            "[188,   150] loss: 0.109\n",
            "[189,    50] loss: 0.067\n",
            "[189,   100] loss: 0.100\n",
            "[189,   150] loss: 0.081\n",
            "[190,    50] loss: 0.097\n",
            "[190,   100] loss: 0.082\n",
            "[190,   150] loss: 0.082\n",
            "[191,    50] loss: 0.071\n",
            "[191,   100] loss: 0.085\n",
            "[191,   150] loss: 0.097\n",
            "[192,    50] loss: 0.069\n",
            "[192,   100] loss: 0.070\n",
            "[192,   150] loss: 0.074\n",
            "[193,    50] loss: 0.090\n",
            "[193,   100] loss: 0.086\n",
            "[193,   150] loss: 0.098\n",
            "[194,    50] loss: 0.059\n",
            "[194,   100] loss: 0.062\n",
            "[194,   150] loss: 0.080\n",
            "[195,    50] loss: 0.080\n",
            "[195,   100] loss: 0.074\n",
            "[195,   150] loss: 0.085\n",
            "[196,    50] loss: 0.062\n",
            "[196,   100] loss: 0.071\n",
            "[196,   150] loss: 0.089\n",
            "[197,    50] loss: 0.081\n",
            "[197,   100] loss: 0.093\n",
            "[197,   150] loss: 0.087\n",
            "[198,    50] loss: 0.073\n",
            "[198,   100] loss: 0.088\n",
            "[198,   150] loss: 0.064\n",
            "[199,    50] loss: 0.066\n",
            "[199,   100] loss: 0.070\n",
            "[199,   150] loss: 0.111\n",
            "[200,    50] loss: 0.051\n",
            "[200,   100] loss: 0.046\n",
            "[200,   150] loss: 0.070\n",
            "[201,    50] loss: 0.067\n",
            "[201,   100] loss: 0.068\n",
            "[201,   150] loss: 0.093\n",
            "[202,    50] loss: 0.061\n",
            "[202,   100] loss: 0.060\n",
            "[202,   150] loss: 0.087\n",
            "[203,    50] loss: 0.071\n",
            "[203,   100] loss: 0.070\n",
            "[203,   150] loss: 0.089\n",
            "[204,    50] loss: 0.057\n",
            "[204,   100] loss: 0.062\n",
            "[204,   150] loss: 0.074\n",
            "[205,    50] loss: 0.058\n",
            "[205,   100] loss: 0.064\n",
            "[205,   150] loss: 0.094\n",
            "[206,    50] loss: 0.058\n",
            "[206,   100] loss: 0.060\n",
            "[206,   150] loss: 0.075\n",
            "[207,    50] loss: 0.061\n",
            "[207,   100] loss: 0.064\n",
            "[207,   150] loss: 0.084\n",
            "[208,    50] loss: 0.062\n",
            "[208,   100] loss: 0.056\n",
            "[208,   150] loss: 0.068\n",
            "[209,    50] loss: 0.062\n",
            "[209,   100] loss: 0.077\n",
            "[209,   150] loss: 0.077\n",
            "[210,    50] loss: 0.058\n",
            "[210,   100] loss: 0.066\n",
            "[210,   150] loss: 0.083\n",
            "[211,    50] loss: 0.053\n",
            "[211,   100] loss: 0.057\n",
            "[211,   150] loss: 0.065\n",
            "[212,    50] loss: 0.058\n",
            "[212,   100] loss: 0.052\n",
            "[212,   150] loss: 0.064\n",
            "[213,    50] loss: 0.075\n",
            "[213,   100] loss: 0.066\n",
            "[213,   150] loss: 0.070\n",
            "[214,    50] loss: 0.055\n",
            "[214,   100] loss: 0.056\n",
            "[214,   150] loss: 0.098\n",
            "[215,    50] loss: 0.041\n",
            "[215,   100] loss: 0.043\n",
            "[215,   150] loss: 0.059\n",
            "[216,    50] loss: 0.085\n",
            "[216,   100] loss: 0.077\n",
            "[216,   150] loss: 0.056\n",
            "[217,    50] loss: 0.052\n",
            "[217,   100] loss: 0.059\n",
            "[217,   150] loss: 0.062\n",
            "[218,    50] loss: 0.061\n",
            "[218,   100] loss: 0.065\n",
            "[218,   150] loss: 0.063\n",
            "[219,    50] loss: 0.043\n",
            "[219,   100] loss: 0.049\n",
            "[219,   150] loss: 0.061\n",
            "[220,    50] loss: 0.061\n",
            "[220,   100] loss: 0.059\n",
            "[220,   150] loss: 0.054\n",
            "[221,    50] loss: 0.060\n",
            "[221,   100] loss: 0.052\n",
            "[221,   150] loss: 0.054\n",
            "[222,    50] loss: 0.045\n",
            "[222,   100] loss: 0.053\n",
            "[222,   150] loss: 0.084\n",
            "[223,    50] loss: 0.047\n",
            "[223,   100] loss: 0.049\n",
            "[223,   150] loss: 0.066\n",
            "[224,    50] loss: 0.042\n",
            "[224,   100] loss: 0.045\n",
            "[224,   150] loss: 0.063\n",
            "[225,    50] loss: 0.044\n",
            "[225,   100] loss: 0.056\n",
            "[225,   150] loss: 0.080\n",
            "[226,    50] loss: 0.040\n",
            "[226,   100] loss: 0.051\n",
            "[226,   150] loss: 0.065\n",
            "[227,    50] loss: 0.041\n",
            "[227,   100] loss: 0.062\n",
            "[227,   150] loss: 0.070\n",
            "[228,    50] loss: 0.045\n",
            "[228,   100] loss: 0.049\n",
            "[228,   150] loss: 0.066\n",
            "[229,    50] loss: 0.059\n",
            "[229,   100] loss: 0.043\n",
            "[229,   150] loss: 0.045\n",
            "[230,    50] loss: 0.044\n",
            "[230,   100] loss: 0.046\n",
            "[230,   150] loss: 0.075\n",
            "[231,    50] loss: 0.051\n",
            "[231,   100] loss: 0.040\n",
            "[231,   150] loss: 0.044\n",
            "[232,    50] loss: 0.044\n",
            "[232,   100] loss: 0.053\n",
            "[232,   150] loss: 0.068\n",
            "[233,    50] loss: 0.038\n",
            "[233,   100] loss: 0.041\n",
            "[233,   150] loss: 0.067\n",
            "[234,    50] loss: 0.043\n",
            "[234,   100] loss: 0.033\n",
            "[234,   150] loss: 0.034\n",
            "[235,    50] loss: 0.068\n",
            "[235,   100] loss: 0.058\n",
            "[235,   150] loss: 0.048\n",
            "[236,    50] loss: 0.040\n",
            "[236,   100] loss: 0.052\n",
            "[236,   150] loss: 0.055\n",
            "[237,    50] loss: 0.043\n",
            "[237,   100] loss: 0.035\n",
            "[237,   150] loss: 0.068\n",
            "[238,    50] loss: 0.045\n",
            "[238,   100] loss: 0.052\n",
            "[238,   150] loss: 0.060\n",
            "[239,    50] loss: 0.027\n",
            "[239,   100] loss: 0.026\n",
            "[239,   150] loss: 0.036\n",
            "Finished Training\n"
          ],
          "name": "stdout"
        }
      ]
    },
    {
      "cell_type": "code",
      "metadata": {
        "id": "IxXbhlbEacsW",
        "colab": {
          "base_uri": "https://localhost:8080/"
        },
        "outputId": "811d65f5-d2d2-4269-8591-53ce9e4c245c"
      },
      "source": [
        "correct = 0\n",
        "total = 0\n",
        "with torch.no_grad():\n",
        "    for data in trainloader:\n",
        "        images, labels = data\n",
        "        images, labels = images.to(\"cuda\"), labels.to(\"cuda\")\n",
        "        outputs = inc(images)\n",
        "        _, predicted = torch.max(outputs.data, 1)\n",
        "        total += labels.size(0)\n",
        "        correct += (predicted == labels).sum().item()\n",
        "\n",
        "print('Accuracy of the network on the 60000 train images: %d %%' % (\n",
        "    100 * correct / total))"
      ],
      "execution_count": 173,
      "outputs": [
        {
          "output_type": "stream",
          "text": [
            "Accuracy of the network on the 60000 train images: 97 %\n"
          ],
          "name": "stdout"
        }
      ]
    },
    {
      "cell_type": "code",
      "metadata": {
        "id": "U2kQXLzgacsa",
        "colab": {
          "base_uri": "https://localhost:8080/"
        },
        "outputId": "766a3fb3-9053-4d0d-99cb-70ee773e96a8"
      },
      "source": [
        "total,correct"
      ],
      "execution_count": 174,
      "outputs": [
        {
          "output_type": "execute_result",
          "data": {
            "text/plain": [
              "(47000, 45976)"
            ]
          },
          "metadata": {
            "tags": []
          },
          "execution_count": 174
        }
      ]
    },
    {
      "cell_type": "code",
      "metadata": {
        "id": "5IcmEl2lacsd",
        "colab": {
          "base_uri": "https://localhost:8080/"
        },
        "outputId": "1a71c45a-0716-405f-d102-3b3671e79486"
      },
      "source": [
        "correct = 0\n",
        "total = 0\n",
        "out = []\n",
        "pred = []\n",
        "with torch.no_grad():\n",
        "    for data in testloader:\n",
        "        images, labels = data\n",
        "        images, labels = images.to(\"cuda\"),labels.to(\"cuda\")\n",
        "        out.append(labels.cpu().numpy())\n",
        "        outputs= inc(images)\n",
        "        _, predicted = torch.max(outputs.data, 1)\n",
        "        pred.append(predicted.cpu().numpy())\n",
        "        total += labels.size(0)\n",
        "        correct += (predicted == labels).sum().item()\n",
        "\n",
        "print('Accuracy of the network on the 10000 test images: %d %%' % (\n",
        "    100 * correct / total))"
      ],
      "execution_count": 175,
      "outputs": [
        {
          "output_type": "stream",
          "text": [
            "Accuracy of the network on the 10000 test images: 19 %\n"
          ],
          "name": "stdout"
        }
      ]
    },
    {
      "cell_type": "code",
      "metadata": {
        "id": "KrlBRcSQacsg"
      },
      "source": [
        "out = np.concatenate(out,axis=0)"
      ],
      "execution_count": 176,
      "outputs": []
    },
    {
      "cell_type": "code",
      "metadata": {
        "id": "EWyBhOPlacsi"
      },
      "source": [
        "pred = np.concatenate(pred,axis=0)"
      ],
      "execution_count": 177,
      "outputs": []
    },
    {
      "cell_type": "code",
      "metadata": {
        "id": "IJ1F7Lfdacsl",
        "colab": {
          "base_uri": "https://localhost:8080/"
        },
        "outputId": "643b3189-f829-49ba-97a7-0860d088fcea"
      },
      "source": [
        "index = np.logical_or(out ==1,out==0)\n",
        "print(index.shape)"
      ],
      "execution_count": 178,
      "outputs": [
        {
          "output_type": "stream",
          "text": [
            "(10000,)\n"
          ],
          "name": "stdout"
        }
      ]
    },
    {
      "cell_type": "code",
      "metadata": {
        "id": "h7PmLPkGacsn",
        "colab": {
          "base_uri": "https://localhost:8080/"
        },
        "outputId": "a11b7aca-a6bf-421a-8137-1f711044d649"
      },
      "source": [
        "acc = sum(out[index] == pred[index])/sum(index)\n",
        "print('Accuracy of the network on the 10000 test images: %d %%' % (\n",
        "    100*acc))"
      ],
      "execution_count": 179,
      "outputs": [
        {
          "output_type": "stream",
          "text": [
            "Accuracy of the network on the 10000 test images: 94 %\n"
          ],
          "name": "stdout"
        }
      ]
    },
    {
      "cell_type": "code",
      "metadata": {
        "id": "fvCi8x41acsq",
        "colab": {
          "base_uri": "https://localhost:8080/"
        },
        "outputId": "95331ebe-3eac-44a7-ab28-cf0d41c290c4"
      },
      "source": [
        "\n",
        "sum(index)"
      ],
      "execution_count": 180,
      "outputs": [
        {
          "output_type": "execute_result",
          "data": {
            "text/plain": [
              "2115"
            ]
          },
          "metadata": {
            "tags": []
          },
          "execution_count": 180
        }
      ]
    },
    {
      "cell_type": "code",
      "metadata": {
        "id": "bdGNgi62acss",
        "colab": {
          "base_uri": "https://localhost:8080/"
        },
        "outputId": "7752c42a-d426-4271-c260-7b736d716264"
      },
      "source": [
        "import random\n",
        "random.sample([1,2,3,4,5,6,7,8],5)"
      ],
      "execution_count": 181,
      "outputs": [
        {
          "output_type": "execute_result",
          "data": {
            "text/plain": [
              "[5, 6, 7, 8, 1]"
            ]
          },
          "metadata": {
            "tags": []
          },
          "execution_count": 181
        }
      ]
    },
    {
      "cell_type": "code",
      "metadata": {
        "id": "KBZqLh7heULT"
      },
      "source": [
        "# torch.save(inc.state_dict(),\"/content/drive/My Drive/model_simple_8000.pkl\")"
      ],
      "execution_count": 182,
      "outputs": []
    },
    {
      "cell_type": "code",
      "metadata": {
        "id": "JgLuOIeLeUHk",
        "colab": {
          "base_uri": "https://localhost:8080/",
          "height": 279
        },
        "outputId": "09f8101b-d69a-43a2-88e9-168f1615652c"
      },
      "source": [
        "fig = plt.figure()\n",
        "plt.plot(loss_curi,label=\"loss_Curve\")\n",
        "plt.xlabel(\"epochs\")\n",
        "plt.ylabel(\"training_loss\")\n",
        "plt.legend()\n",
        "fig.savefig(\"loss_curve.pdf\") "
      ],
      "execution_count": 183,
      "outputs": [
        {
          "output_type": "display_data",
          "data": {
            "image/png": "[encoded data removed]",
            "text/plain": [
              "<Figure size 432x288 with 1 Axes>"
            ]
          },
          "metadata": {
            "tags": [],
            "needs_background": "light"
          }
        }
      ]
    },
    {
      "cell_type": "code",
      "metadata": {
        "id": "pZhSFZLeeXeO"
      },
      "source": [
        ""
      ],
      "execution_count": 183,
      "outputs": []
    },
    {
      "cell_type": "markdown",
      "metadata": {
        "id": "p9IrsRjWNZvw"
      },
      "source": [
        "Simple Model 3 Inception Module\n",
        "\n",
        "|true training data  | Corr Training Data | Test Accuracy | Test Accuracy 0-1 | \n",
        "| ------------------ | ------------------ | ------------- | ----------------- |\n",
        "| 100   | 47335  | 15  |  75 |\n",
        "| 500   | 47335  | 16  |  80 | \n",
        "| 1000  | 47335  | 17  | 83  | \n",
        "| 2000  | 47335  | 19 | 92 | \n",
        "| 4000  | 47335  | 20 | 95  | \n",
        "| 6000  | 47335  |  20 | 96  | \n",
        "| 8000  | 47335  | 20  |  96 | \n",
        "| 12665 | 47335  | 20 | 98  | \n",
        "\n",
        "\n",
        "|   Total Training Data       |   Training Accuracy      |\n",
        "|---------------------------- | ------------------------ |\n",
        "| 47435         | 100 |\n",
        "| 47835         | 100 |\n",
        "| 48335         | 100 |\n",
        "| 49335         | 100 | \n",
        "| 51335         | 100 |\n",
        "| 53335         | 100 |\n",
        "| 55335         | 100 |\n",
        "| 60000         | 100 |"
      ]
    },
    {
      "cell_type": "markdown",
      "metadata": {
        "id": "u6XhWXz3sYcx"
      },
      "source": [
        "Mini- Inception network 8 Inception Modules\n",
        "\n",
        "|true training data  | Corr Training Data | Test Accuracy | Test Accuracy 0-1 | \n",
        "| ------------------ | ------------------ | ------------- | ----------------- |\n",
        "| 100   | 47335  | 14  | 69  |\n",
        "| 500   | 47335  | 19  | 90  | \n",
        "| 1000  | 47335  | 19  |  92 | \n",
        "| 2000  | 47335  | 20  | 95  | \n",
        "| 4000  | 47335  | 20  |  97 | \n",
        "| 6000  | 47335  | 20  | 97  | \n",
        "| 8000  | 47335  | 20  |  98 | \n",
        "| 12665 | 47335  | 20  | 99  | "
      ]
    },
    {
      "cell_type": "markdown",
      "metadata": {
        "id": "d05DCw3Jw9Am"
      },
      "source": [
        "|   Total Training Data       |   Training Accuracy      |\n",
        "|---------------------------- | ------------------------ |\n",
        "| 47435         | 100 |\n",
        "| 47835         | 100 |\n",
        "| 48335         | 100 |\n",
        "| 49335         | 100 | \n",
        "| 51335         | 100 |\n",
        "| 53335         | 100 |\n",
        "| 55335         | 100 |\n",
        "| 60000         | 100 |"
      ]
    },
    {
      "cell_type": "code",
      "metadata": {
        "id": "NuAy-cU0sY9z"
      },
      "source": [
        ""
      ],
      "execution_count": 183,
      "outputs": []
    }
  ]
}