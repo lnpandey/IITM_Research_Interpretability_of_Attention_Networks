{
  "nbformat": 4,
  "nbformat_minor": 0,
  "metadata": {
    "kernelspec": {
      "name": "python3",
      "display_name": "Python 3"
    },
    "language_info": {
      "codemirror_mode": {
        "name": "ipython",
        "version": 3
      },
      "file_extension": ".py",
      "mimetype": "text/x-python",
      "name": "python",
      "nbconvert_exporter": "python",
      "pygments_lexer": "ipython3",
      "version": "3.7.0"
    },
    "colab": {
      "name": "mini_inception_3layer_100.ipynb",
      "provenance": [],
      "collapsed_sections": []
    },
    "accelerator": "GPU"
  },
  "cells": [
    {
      "cell_type": "code",
      "metadata": {
        "id": "lR-eQfx0acq8"
      },
      "source": [
        "import numpy as np\n",
        "import pandas as pd\n",
        "from matplotlib import pyplot as plt\n",
        "from tqdm import tqdm as tqdm\n",
        "\n",
        "%matplotlib inline\n",
        "\n",
        "import torch\n",
        "import torchvision\n",
        "\n",
        "import torchvision.transforms as transforms\n",
        "import torch.nn as nn\n",
        "import torch.optim as optim\n",
        "import torch.nn.functional as F\n",
        "import random"
      ],
      "execution_count": 494,
      "outputs": []
    },
    {
      "cell_type": "code",
      "metadata": {
        "id": "HxCE5TSmap0T"
      },
      "source": [
        "# from google.colab import drive\n",
        "\n",
        "# drive.mount('/content/drive')"
      ],
      "execution_count": 495,
      "outputs": []
    },
    {
      "cell_type": "code",
      "metadata": {
        "id": "yh4EScpqacrC"
      },
      "source": [
        "transform = transforms.Compose(\n",
        "    [transforms.CenterCrop((28,28)),transforms.ToTensor(),transforms.Normalize([0.5], [0.5])])\n"
      ],
      "execution_count": 496,
      "outputs": []
    },
    {
      "cell_type": "code",
      "metadata": {
        "id": "YoAqFwqpacrH"
      },
      "source": [
        "mnist_trainset = torchvision.datasets.MNIST(root='./data', train=True, download=True, transform=transform)\n",
        "mnist_testset = torchvision.datasets.MNIST(root='./data', train=False, download=True, transform=transform)"
      ],
      "execution_count": 497,
      "outputs": []
    },
    {
      "cell_type": "code",
      "metadata": {
        "id": "56x0FjYZacrM",
        "colab": {
          "base_uri": "https://localhost:8080/"
        },
        "outputId": "85c6ce94-c422-4c9e-dc45-8df9055d147b"
      },
      "source": [
        "index1 = [np.where(mnist_trainset.targets==0)[0] , np.where(mnist_trainset.targets==1)[0] ]\n",
        "index1 = np.concatenate(index1,axis=0)\n",
        "len(index1) #12665"
      ],
      "execution_count": 498,
      "outputs": [
        {
          "output_type": "execute_result",
          "data": {
            "text/plain": [
              "12665"
            ]
          },
          "metadata": {
            "tags": []
          },
          "execution_count": 498
        }
      ]
    },
    {
      "cell_type": "code",
      "metadata": {
        "id": "QZWNdX-BvxKP",
        "colab": {
          "base_uri": "https://localhost:8080/"
        },
        "outputId": "4d09b4da-5c03-437e-f592-f72adb9edcc1"
      },
      "source": [
        "true = 1000\n",
        "total = 47000\n",
        "sin = total-true\n",
        "sin"
      ],
      "execution_count": 499,
      "outputs": [
        {
          "output_type": "execute_result",
          "data": {
            "text/plain": [
              "46000"
            ]
          },
          "metadata": {
            "tags": []
          },
          "execution_count": 499
        }
      ]
    },
    {
      "cell_type": "code",
      "metadata": {
        "id": "D45juO_vINDB"
      },
      "source": [
        "epochs = 300"
      ],
      "execution_count": 500,
      "outputs": []
    },
    {
      "cell_type": "code",
      "metadata": {
        "id": "yQOoEO2meJDv",
        "colab": {
          "base_uri": "https://localhost:8080/"
        },
        "outputId": "5eca9b53-b8ac-4f5e-f043-ca7739c4f583"
      },
      "source": [
        "indices = np.random.choice(index1,true)\n",
        "indices.shape"
      ],
      "execution_count": 501,
      "outputs": [
        {
          "output_type": "execute_result",
          "data": {
            "text/plain": [
              "(1000,)"
            ]
          },
          "metadata": {
            "tags": []
          },
          "execution_count": 501
        }
      ]
    },
    {
      "cell_type": "code",
      "metadata": {
        "id": "d_8snSm1acrR",
        "colab": {
          "base_uri": "https://localhost:8080/"
        },
        "outputId": "f8d9150e-40dd-4390-b4d0-0980d6614411"
      },
      "source": [
        "index = np.where(np.logical_and(mnist_trainset.targets!=0,mnist_trainset.targets!=1))[0]  #47335\n",
        "index.shape"
      ],
      "execution_count": 502,
      "outputs": [
        {
          "output_type": "execute_result",
          "data": {
            "text/plain": [
              "(47335,)"
            ]
          },
          "metadata": {
            "tags": []
          },
          "execution_count": 502
        }
      ]
    },
    {
      "cell_type": "code",
      "metadata": {
        "id": "ejwWlWXm5pP7"
      },
      "source": [
        "req_index = np.random.choice(index.shape[0], sin, replace=False) \n",
        "# req_index"
      ],
      "execution_count": 503,
      "outputs": []
    },
    {
      "cell_type": "code",
      "metadata": {
        "colab": {
          "base_uri": "https://localhost:8080/"
        },
        "id": "mEg6CPL-6fuj",
        "outputId": "c04f5084-cb7a-4b05-f2f8-04866b9c8209"
      },
      "source": [
        "index = index[req_index]\n",
        "index.shape"
      ],
      "execution_count": 504,
      "outputs": [
        {
          "output_type": "execute_result",
          "data": {
            "text/plain": [
              "(46000,)"
            ]
          },
          "metadata": {
            "tags": []
          },
          "execution_count": 504
        }
      ]
    },
    {
      "cell_type": "code",
      "metadata": {
        "id": "vYhiSaAnacrW",
        "colab": {
          "base_uri": "https://localhost:8080/"
        },
        "outputId": "360ee16e-4bd1-41a4-cd33-c5081290d878"
      },
      "source": [
        "values = np.random.choice([0,1],size= sin) \n",
        "print(sum(values ==0),sum(values==1), sum(values ==0) + sum(values==1) )\n"
      ],
      "execution_count": 505,
      "outputs": [
        {
          "output_type": "stream",
          "text": [
            "23045 22955 46000\n"
          ],
          "name": "stdout"
        }
      ]
    },
    {
      "cell_type": "code",
      "metadata": {
        "id": "uLuqrhO1hRR6"
      },
      "source": [
        "mnist_trainset.data = torch.cat((mnist_trainset.data[indices],mnist_trainset.data[index]))\n",
        "mnist_trainset.targets = torch.cat((mnist_trainset.targets[indices],torch.Tensor(values).type(torch.LongTensor)))"
      ],
      "execution_count": 506,
      "outputs": []
    },
    {
      "cell_type": "code",
      "metadata": {
        "colab": {
          "base_uri": "https://localhost:8080/"
        },
        "id": "43UoqeUI4hIV",
        "outputId": "dd0f644d-4a31-4c97-a5ac-2152aefd666d"
      },
      "source": [
        "mnist_trainset.targets.shape, mnist_trainset.data.shape"
      ],
      "execution_count": 507,
      "outputs": [
        {
          "output_type": "execute_result",
          "data": {
            "text/plain": [
              "(torch.Size([47000]), torch.Size([47000, 28, 28]))"
            ]
          },
          "metadata": {
            "tags": []
          },
          "execution_count": 507
        }
      ]
    },
    {
      "cell_type": "code",
      "metadata": {
        "id": "iczET1tohOsL",
        "colab": {
          "base_uri": "https://localhost:8080/",
          "height": 283
        },
        "outputId": "90a9d768-2a78-402a-c319-2867320b33b6"
      },
      "source": [
        "# mnist_trainset.targets[index] = torch.Tensor(values).type(torch.LongTensor)\n",
        "j =20078     # Without Shuffle upto True Training numbers correct , after that corrupted\n",
        "print(plt.imshow(mnist_trainset.data[j]),mnist_trainset.targets[j])"
      ],
      "execution_count": 508,
      "outputs": [
        {
          "output_type": "stream",
          "text": [
            "AxesImage(54,36;334.8x217.44) tensor(0)\n"
          ],
          "name": "stdout"
        },
        {
          "output_type": "display_data",
          "data": {
            "image/png": "[encoded data removed]",
            "text/plain": [
              "<Figure size 432x288 with 1 Axes>"
            ]
          },
          "metadata": {
            "tags": [],
            "needs_background": "light"
          }
        }
      ]
    },
    {
      "cell_type": "code",
      "metadata": {
        "id": "U8WPVHnPacrd"
      },
      "source": [
        "trainloader = torch.utils.data.DataLoader(mnist_trainset, batch_size=250,shuffle=True, num_workers=2)"
      ],
      "execution_count": 509,
      "outputs": []
    },
    {
      "cell_type": "code",
      "metadata": {
        "id": "7L7ocAcracri"
      },
      "source": [
        "testloader = torch.utils.data.DataLoader(mnist_testset, batch_size=250,shuffle=False, num_workers=2)"
      ],
      "execution_count": 510,
      "outputs": []
    },
    {
      "cell_type": "code",
      "metadata": {
        "colab": {
          "base_uri": "https://localhost:8080/"
        },
        "id": "ULbHmoX-5QRM",
        "outputId": "2efffbb8-7801-4d3e-8988-9c95c0e31c38"
      },
      "source": [
        "mnist_trainset.data.shape"
      ],
      "execution_count": 511,
      "outputs": [
        {
          "output_type": "execute_result",
          "data": {
            "text/plain": [
              "torch.Size([47000, 28, 28])"
            ]
          },
          "metadata": {
            "tags": []
          },
          "execution_count": 511
        }
      ]
    },
    {
      "cell_type": "code",
      "metadata": {
        "id": "pdhAr2p6acrm"
      },
      "source": [
        "classes = ('zero', 'one')"
      ],
      "execution_count": 512,
      "outputs": []
    },
    {
      "cell_type": "code",
      "metadata": {
        "id": "jhUOj6Tnacrr"
      },
      "source": [
        "dataiter = iter(trainloader)\n",
        "images, labels = dataiter.next()"
      ],
      "execution_count": 513,
      "outputs": []
    },
    {
      "cell_type": "code",
      "metadata": {
        "id": "vVgW5hBkacrv",
        "colab": {
          "base_uri": "https://localhost:8080/"
        },
        "outputId": "98a4e447-08e0-480f-9c6e-bdb3bfadcdb2"
      },
      "source": [
        "images[:4].shape"
      ],
      "execution_count": 514,
      "outputs": [
        {
          "output_type": "execute_result",
          "data": {
            "text/plain": [
              "torch.Size([4, 1, 28, 28])"
            ]
          },
          "metadata": {
            "tags": []
          },
          "execution_count": 514
        }
      ]
    },
    {
      "cell_type": "code",
      "metadata": {
        "id": "nUtA80KCacr1"
      },
      "source": [
        "def imshow(img):\n",
        "    img = img / 2 + 0.5     # unnormalize\n",
        "    npimg = img.numpy()\n",
        "    plt.imshow(np.transpose(npimg, (1, 2, 0)))\n",
        "    plt.show()"
      ],
      "execution_count": 515,
      "outputs": []
    },
    {
      "cell_type": "code",
      "metadata": {
        "id": "Xv34FfAdacr5",
        "colab": {
          "base_uri": "https://localhost:8080/",
          "height": 155
        },
        "outputId": "f745a1a0-2928-47c4-f7f8-9c1d8f3494b7"
      },
      "source": [
        "imshow(torchvision.utils.make_grid(images[:10]))\n",
        "print('GroundTruth: ', ' '.join('%5s' % classes[labels[j]] for j in range(10)))"
      ],
      "execution_count": 516,
      "outputs": [
        {
          "output_type": "display_data",
          "data": {
            "image/png": "[encoded data removed]",
            "text/plain": [
              "<Figure size 432x288 with 1 Axes>"
            ]
          },
          "metadata": {
            "tags": [],
            "needs_background": "light"
          }
        },
        {
          "output_type": "stream",
          "text": [
            "GroundTruth:    one   one   one   one   one  zero   one  zero  zero   one\n"
          ],
          "name": "stdout"
        }
      ]
    },
    {
      "cell_type": "code",
      "metadata": {
        "id": "QHs5PlMOT-Hv"
      },
      "source": [
        "class Conv_module(nn.Module):\n",
        "    def __init__(self,inp_ch,f,s,k,pad):\n",
        "        super(Conv_module,self).__init__()\n",
        "        self.inp_ch = inp_ch\n",
        "        self.f = f\n",
        "        self.s = s \n",
        "        self.k = k \n",
        "        self.pad = pad\n",
        "        \n",
        "        \n",
        "        self.conv = nn.Conv2d(self.inp_ch,self.f,k,stride=s,padding=self.pad)\n",
        "        self.bn = nn.BatchNorm2d(self.f)\n",
        "        self.act = nn.ReLU()\n",
        "    def forward(self,x):\n",
        "        x = self.conv(x)\n",
        "        x = self.bn(x)\n",
        "        x = self.act(x)\n",
        "        return x"
      ],
      "execution_count": 517,
      "outputs": []
    },
    {
      "cell_type": "code",
      "metadata": {
        "id": "Imcx6keET-sA"
      },
      "source": [
        "class inception_module(nn.Module):\n",
        "    def __init__(self,inp_ch,f0,f1):\n",
        "        super(inception_module, self).__init__()\n",
        "        self.inp_ch = inp_ch\n",
        "        self.f0 = f0\n",
        "        self.f1 = f1\n",
        "        \n",
        "        \n",
        "        \n",
        "        self.conv1 = Conv_module(self.inp_ch,self.f0,1,1,pad=0)\n",
        "        self.conv3 = Conv_module(self.inp_ch,self.f1,1,3,pad=1)\n",
        "        #self.conv1 = nn.Conv2d(3,self.f0,1)\n",
        "        #self.conv3 = nn.Conv2d(3,self.f1,3,padding=1)\n",
        "    def forward(self,x):\n",
        "        x1 = self.conv1.forward(x)\n",
        "        x3 = self.conv3.forward(x)\n",
        "        #print(x1.shape,x3.shape)\n",
        "        \n",
        "        x = torch.cat((x1,x3),dim=1)\n",
        "        \n",
        "    \n",
        "        return x"
      ],
      "execution_count": 518,
      "outputs": []
    },
    {
      "cell_type": "code",
      "metadata": {
        "id": "0bMmJLXzUAWe"
      },
      "source": [
        "class downsample_module(nn.Module):\n",
        "    def __init__(self,inp_ch,f):\n",
        "        super(downsample_module,self).__init__()\n",
        "        self.inp_ch = inp_ch\n",
        "        self.f = f\n",
        "        self.conv = Conv_module(self.inp_ch,self.f,2,3,pad=0)\n",
        "        self.pool = nn.MaxPool2d(3,stride=2,padding=0)\n",
        "    def forward(self,x):\n",
        "        x1 = self.conv(x)\n",
        "        #print(x1.shape)\n",
        "        x2 = self.pool(x)\n",
        "        #print(x2.shape)\n",
        "        x = torch.cat((x1,x2),dim=1)\n",
        "        \n",
        "        return x"
      ],
      "execution_count": 519,
      "outputs": []
    },
    {
      "cell_type": "code",
      "metadata": {
        "id": "sRcNGxt7UDO2"
      },
      "source": [
        "class inception_net(nn.Module):\n",
        "    def __init__(self):\n",
        "        super(inception_net,self).__init__()\n",
        "        self.conv1 = Conv_module(1,96,1,3,0)\n",
        "        \n",
        "        self.incept1 = inception_module(96,32,32)\n",
        "        self.incept2 = inception_module(64,32,48)\n",
        "        \n",
        "        self.downsample1 = downsample_module(80,80)\n",
        "        \n",
        "        self.incept3 = inception_module(160,112,48)\n",
        "        # self.incept4 = inception_module(160,96,64)\n",
        "        # self.incept5 = inception_module(160,80,80)\n",
        "        # self.incept6 = inception_module(160,48,96)\n",
        "        \n",
        "        self.downsample2 = downsample_module(160,48)\n",
        "        \n",
        "        # self.incept7 = inception_module(240,176,60)\n",
        "        # self.incept8 = inception_module(236,176,60)\n",
        "        \n",
        "        self.pool = nn.AvgPool2d(5)\n",
        "        \n",
        "        \n",
        "        \n",
        "        self.linear = nn.Linear(208,2)\n",
        "    def forward(self,x):\n",
        "        x = self.conv1.forward(x)\n",
        "        #act1 = x\n",
        "        \n",
        "        x = self.incept1.forward(x)\n",
        "        #act2 = x\n",
        "        \n",
        "        x = self.incept2.forward(x)\n",
        "        #act3 = x\n",
        "        \n",
        "        x = self.downsample1.forward(x)\n",
        "        \n",
        "        x = self.incept3.forward(x)\n",
        "        #act5 = x\n",
        "        \n",
        "        # x = self.incept4.forward(x)\n",
        "        # #act6 = x\n",
        "        \n",
        "        # x = self.incept5.forward(x)\n",
        "        # #act7 = x\n",
        "        \n",
        "        # x = self.incept6.forward(x)\n",
        "        #act8 = x\n",
        "        \n",
        "        x = self.downsample2.forward(x)\n",
        "        \n",
        "        # x = self.incept7.forward(x)\n",
        "        # #act10 = x\n",
        "        # x = self.incept8.forward(x)\n",
        "        #act11 = x\n",
        "        #print(x.shape)\n",
        "        x = self.pool(x)\n",
        "        #print(x.shape)\n",
        "        x = x.view(-1,1*1*208)\n",
        "        #print(x.shape)\n",
        "        x = self.linear(x) \n",
        "        return x"
      ],
      "execution_count": 520,
      "outputs": []
    },
    {
      "cell_type": "code",
      "metadata": {
        "id": "rByxqKdOacsM"
      },
      "source": [
        "inc = inception_net()\n",
        "inc = inc.to(\"cuda\")"
      ],
      "execution_count": 521,
      "outputs": []
    },
    {
      "cell_type": "code",
      "metadata": {
        "id": "imWjagA2acsO"
      },
      "source": [
        "criterion_inception = nn.CrossEntropyLoss()\n",
        "optimizer_inception = optim.SGD(inc.parameters(), lr=0.01, momentum=0.9)"
      ],
      "execution_count": 522,
      "outputs": []
    },
    {
      "cell_type": "code",
      "metadata": {
        "id": "r5mCNr38acsR",
        "colab": {
          "base_uri": "https://localhost:8080/"
        },
        "outputId": "cff74a16-fe55-45c7-9b57-b3d1fca960c7"
      },
      "source": [
        "acti = []\n",
        "loss_curi = []\n",
        "for epoch in range(epochs): # loop over the dataset multiple times\n",
        "    ep_lossi = []\n",
        "\n",
        "    running_loss = 0.0\n",
        "    for i, data in enumerate(trainloader, 0):\n",
        "        # get the inputs\n",
        "        inputs, labels = data\n",
        "        inputs, labels = inputs.to(\"cuda\"),labels.to(\"cuda\")\n",
        "\n",
        "        # print(inputs.shape)\n",
        "        # zero the parameter gradients\n",
        "        optimizer_inception.zero_grad()\n",
        "\n",
        "        # forward + backward + optimize\n",
        "        outputs = inc(inputs)\n",
        "        loss = criterion_inception(outputs, labels)\n",
        "        loss.backward()\n",
        "        optimizer_inception.step()\n",
        "\n",
        "        # print statistics\n",
        "        running_loss += loss.item()\n",
        "        if i % 50 == 49:    # print every 50 mini-batches\n",
        "            print('[%d, %5d] loss: %.3f' %\n",
        "                  (epoch + 1, i + 1, running_loss / 50))\n",
        "            ep_lossi.append(running_loss/50) # loss per minibatch\n",
        "            running_loss = 0.0\n",
        "            \n",
        "    loss_curi.append(np.mean(ep_lossi))   #loss per epoch\n",
        "    if (np.mean(ep_lossi)<=0.03):\n",
        "        break\n",
        "#         acti.append(actis)\n",
        "    \n",
        "            \n",
        "\n",
        "print('Finished Training')"
      ],
      "execution_count": 523,
      "outputs": [
        {
          "output_type": "stream",
          "text": [
            "[1,    50] loss: 0.709\n",
            "[1,   100] loss: 0.713\n",
            "[1,   150] loss: 0.723\n",
            "[2,    50] loss: 0.702\n",
            "[2,   100] loss: 0.710\n",
            "[2,   150] loss: 0.699\n",
            "[3,    50] loss: 0.697\n",
            "[3,   100] loss: 0.695\n",
            "[3,   150] loss: 0.700\n",
            "[4,    50] loss: 0.697\n",
            "[4,   100] loss: 0.700\n",
            "[4,   150] loss: 0.695\n",
            "[5,    50] loss: 0.691\n",
            "[5,   100] loss: 0.701\n",
            "[5,   150] loss: 0.704\n",
            "[6,    50] loss: 0.690\n",
            "[6,   100] loss: 0.690\n",
            "[6,   150] loss: 0.692\n",
            "[7,    50] loss: 0.702\n",
            "[7,   100] loss: 0.686\n",
            "[7,   150] loss: 0.696\n",
            "[8,    50] loss: 0.685\n",
            "[8,   100] loss: 0.689\n",
            "[8,   150] loss: 0.684\n",
            "[9,    50] loss: 0.692\n",
            "[9,   100] loss: 0.696\n",
            "[9,   150] loss: 0.683\n",
            "[10,    50] loss: 0.688\n",
            "[10,   100] loss: 0.690\n",
            "[10,   150] loss: 0.684\n",
            "[11,    50] loss: 0.678\n",
            "[11,   100] loss: 0.695\n",
            "[11,   150] loss: 0.682\n",
            "[12,    50] loss: 0.673\n",
            "[12,   100] loss: 0.679\n",
            "[12,   150] loss: 0.685\n",
            "[13,    50] loss: 0.670\n",
            "[13,   100] loss: 0.679\n",
            "[13,   150] loss: 0.679\n",
            "[14,    50] loss: 0.664\n",
            "[14,   100] loss: 0.671\n",
            "[14,   150] loss: 0.678\n",
            "[15,    50] loss: 0.664\n",
            "[15,   100] loss: 0.666\n",
            "[15,   150] loss: 0.669\n",
            "[16,    50] loss: 0.657\n",
            "[16,   100] loss: 0.668\n",
            "[16,   150] loss: 0.671\n",
            "[17,    50] loss: 0.647\n",
            "[17,   100] loss: 0.666\n",
            "[17,   150] loss: 0.667\n",
            "[18,    50] loss: 0.640\n",
            "[18,   100] loss: 0.656\n",
            "[18,   150] loss: 0.652\n",
            "[19,    50] loss: 0.647\n",
            "[19,   100] loss: 0.643\n",
            "[19,   150] loss: 0.659\n",
            "[20,    50] loss: 0.633\n",
            "[20,   100] loss: 0.640\n",
            "[20,   150] loss: 0.649\n",
            "[21,    50] loss: 0.620\n",
            "[21,   100] loss: 0.626\n",
            "[21,   150] loss: 0.647\n",
            "[22,    50] loss: 0.608\n",
            "[22,   100] loss: 0.619\n",
            "[22,   150] loss: 0.635\n",
            "[23,    50] loss: 0.599\n",
            "[23,   100] loss: 0.615\n",
            "[23,   150] loss: 0.626\n",
            "[24,    50] loss: 0.581\n",
            "[24,   100] loss: 0.599\n",
            "[24,   150] loss: 0.612\n",
            "[25,    50] loss: 0.567\n",
            "[25,   100] loss: 0.587\n",
            "[25,   150] loss: 0.604\n",
            "[26,    50] loss: 0.560\n",
            "[26,   100] loss: 0.573\n",
            "[26,   150] loss: 0.579\n",
            "[27,    50] loss: 0.530\n",
            "[27,   100] loss: 0.553\n",
            "[27,   150] loss: 0.571\n",
            "[28,    50] loss: 0.527\n",
            "[28,   100] loss: 0.551\n",
            "[28,   150] loss: 0.557\n",
            "[29,    50] loss: 0.487\n",
            "[29,   100] loss: 0.525\n",
            "[29,   150] loss: 0.546\n",
            "[30,    50] loss: 0.471\n",
            "[30,   100] loss: 0.499\n",
            "[30,   150] loss: 0.522\n",
            "[31,    50] loss: 0.468\n",
            "[31,   100] loss: 0.487\n",
            "[31,   150] loss: 0.498\n",
            "[32,    50] loss: 0.426\n",
            "[32,   100] loss: 0.452\n",
            "[32,   150] loss: 0.486\n",
            "[33,    50] loss: 0.423\n",
            "[33,   100] loss: 0.425\n",
            "[33,   150] loss: 0.464\n",
            "[34,    50] loss: 0.370\n",
            "[34,   100] loss: 0.403\n",
            "[34,   150] loss: 0.450\n",
            "[35,    50] loss: 0.351\n",
            "[35,   100] loss: 0.379\n",
            "[35,   150] loss: 0.400\n",
            "[36,    50] loss: 0.351\n",
            "[36,   100] loss: 0.361\n",
            "[36,   150] loss: 0.384\n",
            "[37,    50] loss: 0.297\n",
            "[37,   100] loss: 0.339\n",
            "[37,   150] loss: 0.361\n",
            "[38,    50] loss: 0.273\n",
            "[38,   100] loss: 0.308\n",
            "[38,   150] loss: 0.355\n",
            "[39,    50] loss: 0.257\n",
            "[39,   100] loss: 0.266\n",
            "[39,   150] loss: 0.315\n",
            "[40,    50] loss: 0.248\n",
            "[40,   100] loss: 0.261\n",
            "[40,   150] loss: 0.275\n",
            "[41,    50] loss: 0.219\n",
            "[41,   100] loss: 0.238\n",
            "[41,   150] loss: 0.292\n",
            "[42,    50] loss: 0.218\n",
            "[42,   100] loss: 0.218\n",
            "[42,   150] loss: 0.238\n",
            "[43,    50] loss: 0.188\n",
            "[43,   100] loss: 0.194\n",
            "[43,   150] loss: 0.202\n",
            "[44,    50] loss: 0.166\n",
            "[44,   100] loss: 0.171\n",
            "[44,   150] loss: 0.199\n",
            "[45,    50] loss: 0.150\n",
            "[45,   100] loss: 0.161\n",
            "[45,   150] loss: 0.181\n",
            "[46,    50] loss: 0.154\n",
            "[46,   100] loss: 0.158\n",
            "[46,   150] loss: 0.167\n",
            "[47,    50] loss: 0.134\n",
            "[47,   100] loss: 0.125\n",
            "[47,   150] loss: 0.148\n",
            "[48,    50] loss: 0.105\n",
            "[48,   100] loss: 0.122\n",
            "[48,   150] loss: 0.138\n",
            "[49,    50] loss: 0.114\n",
            "[49,   100] loss: 0.107\n",
            "[49,   150] loss: 0.120\n",
            "[50,    50] loss: 0.105\n",
            "[50,   100] loss: 0.093\n",
            "[50,   150] loss: 0.107\n",
            "[51,    50] loss: 0.087\n",
            "[51,   100] loss: 0.083\n",
            "[51,   150] loss: 0.097\n",
            "[52,    50] loss: 0.087\n",
            "[52,   100] loss: 0.089\n",
            "[52,   150] loss: 0.095\n",
            "[53,    50] loss: 0.095\n",
            "[53,   100] loss: 0.092\n",
            "[53,   150] loss: 0.096\n",
            "[54,    50] loss: 0.080\n",
            "[54,   100] loss: 0.073\n",
            "[54,   150] loss: 0.084\n",
            "[55,    50] loss: 0.085\n",
            "[55,   100] loss: 0.085\n",
            "[55,   150] loss: 0.101\n",
            "[56,    50] loss: 0.068\n",
            "[56,   100] loss: 0.064\n",
            "[56,   150] loss: 0.065\n",
            "[57,    50] loss: 0.049\n",
            "[57,   100] loss: 0.047\n",
            "[57,   150] loss: 0.052\n",
            "[58,    50] loss: 0.039\n",
            "[58,   100] loss: 0.034\n",
            "[58,   150] loss: 0.037\n",
            "[59,    50] loss: 0.033\n",
            "[59,   100] loss: 0.033\n",
            "[59,   150] loss: 0.041\n",
            "[60,    50] loss: 0.028\n",
            "[60,   100] loss: 0.028\n",
            "[60,   150] loss: 0.045\n",
            "[61,    50] loss: 0.048\n",
            "[61,   100] loss: 0.049\n",
            "[61,   150] loss: 0.047\n",
            "[62,    50] loss: 0.060\n",
            "[62,   100] loss: 0.061\n",
            "[62,   150] loss: 0.084\n",
            "[63,    50] loss: 0.077\n",
            "[63,   100] loss: 0.078\n",
            "[63,   150] loss: 0.091\n",
            "[64,    50] loss: 0.064\n",
            "[64,   100] loss: 0.067\n",
            "[64,   150] loss: 0.063\n",
            "[65,    50] loss: 0.043\n",
            "[65,   100] loss: 0.040\n",
            "[65,   150] loss: 0.044\n",
            "[66,    50] loss: 0.026\n",
            "[66,   100] loss: 0.022\n",
            "[66,   150] loss: 0.023\n",
            "Finished Training\n"
          ],
          "name": "stdout"
        }
      ]
    },
    {
      "cell_type": "code",
      "metadata": {
        "id": "IxXbhlbEacsW",
        "colab": {
          "base_uri": "https://localhost:8080/"
        },
        "outputId": "817afd1f-19fb-4dd7-fc5a-068836b63896"
      },
      "source": [
        "correct = 0\n",
        "total = 0\n",
        "with torch.no_grad():\n",
        "    for data in trainloader:\n",
        "        images, labels = data\n",
        "        images, labels = images.to(\"cuda\"), labels.to(\"cuda\")\n",
        "        outputs = inc(images)\n",
        "        _, predicted = torch.max(outputs.data, 1)\n",
        "        total += labels.size(0)\n",
        "        correct += (predicted == labels).sum().item()\n",
        "\n",
        "print('Accuracy of the network on the 60000 train images: %d %%' % (\n",
        "    100 * correct / total))"
      ],
      "execution_count": 524,
      "outputs": [
        {
          "output_type": "stream",
          "text": [
            "Accuracy of the network on the 60000 train images: 99 %\n"
          ],
          "name": "stdout"
        }
      ]
    },
    {
      "cell_type": "code",
      "metadata": {
        "id": "U2kQXLzgacsa",
        "colab": {
          "base_uri": "https://localhost:8080/"
        },
        "outputId": "b27e149a-7158-4989-b4ef-1ee942dbc4ef"
      },
      "source": [
        "total,correct"
      ],
      "execution_count": 525,
      "outputs": [
        {
          "output_type": "execute_result",
          "data": {
            "text/plain": [
              "(47000, 46919)"
            ]
          },
          "metadata": {
            "tags": []
          },
          "execution_count": 525
        }
      ]
    },
    {
      "cell_type": "code",
      "metadata": {
        "id": "5IcmEl2lacsd",
        "colab": {
          "base_uri": "https://localhost:8080/"
        },
        "outputId": "37c08382-ee31-497d-abaf-ffac2589a2e8"
      },
      "source": [
        "correct = 0\n",
        "total = 0\n",
        "out = []\n",
        "pred = []\n",
        "with torch.no_grad():\n",
        "    for data in testloader:\n",
        "        images, labels = data\n",
        "        images, labels = images.to(\"cuda\"),labels.to(\"cuda\")\n",
        "        out.append(labels.cpu().numpy())\n",
        "        outputs= inc(images)\n",
        "        _, predicted = torch.max(outputs.data, 1)\n",
        "        pred.append(predicted.cpu().numpy())\n",
        "        total += labels.size(0)\n",
        "        correct += (predicted == labels).sum().item()\n",
        "\n",
        "print('Accuracy of the network on the 10000 test images: %d %%' % (\n",
        "    100 * correct / total))"
      ],
      "execution_count": 526,
      "outputs": [
        {
          "output_type": "stream",
          "text": [
            "Accuracy of the network on the 10000 test images: 18 %\n"
          ],
          "name": "stdout"
        }
      ]
    },
    {
      "cell_type": "code",
      "metadata": {
        "id": "KrlBRcSQacsg"
      },
      "source": [
        "out = np.concatenate(out,axis=0)"
      ],
      "execution_count": 527,
      "outputs": []
    },
    {
      "cell_type": "code",
      "metadata": {
        "id": "EWyBhOPlacsi"
      },
      "source": [
        "pred = np.concatenate(pred,axis=0)"
      ],
      "execution_count": 528,
      "outputs": []
    },
    {
      "cell_type": "code",
      "metadata": {
        "id": "IJ1F7Lfdacsl",
        "colab": {
          "base_uri": "https://localhost:8080/"
        },
        "outputId": "af6cf5ab-0afd-4215-cd1c-7151a91276c3"
      },
      "source": [
        "index = np.logical_or(out ==1,out==0)\n",
        "print(index.shape)"
      ],
      "execution_count": 529,
      "outputs": [
        {
          "output_type": "stream",
          "text": [
            "(10000,)\n"
          ],
          "name": "stdout"
        }
      ]
    },
    {
      "cell_type": "code",
      "metadata": {
        "id": "h7PmLPkGacsn",
        "colab": {
          "base_uri": "https://localhost:8080/"
        },
        "outputId": "cf729cdc-b6ec-4bcf-8dd8-9de33f1063f2"
      },
      "source": [
        "acc = sum(out[index] == pred[index])/sum(index)\n",
        "print('Accuracy of the network on the 10000 test images: %d %%' % (\n",
        "    100*acc))"
      ],
      "execution_count": 530,
      "outputs": [
        {
          "output_type": "stream",
          "text": [
            "Accuracy of the network on the 10000 test images: 87 %\n"
          ],
          "name": "stdout"
        }
      ]
    },
    {
      "cell_type": "code",
      "metadata": {
        "id": "fvCi8x41acsq",
        "colab": {
          "base_uri": "https://localhost:8080/"
        },
        "outputId": "881e2fbc-b657-4515-f277-283e275e572d"
      },
      "source": [
        "\n",
        "sum(index)"
      ],
      "execution_count": 531,
      "outputs": [
        {
          "output_type": "execute_result",
          "data": {
            "text/plain": [
              "2115"
            ]
          },
          "metadata": {
            "tags": []
          },
          "execution_count": 531
        }
      ]
    },
    {
      "cell_type": "code",
      "metadata": {
        "id": "bdGNgi62acss",
        "colab": {
          "base_uri": "https://localhost:8080/"
        },
        "outputId": "de3242d7-3beb-45ec-b3c3-4b2fe943a17b"
      },
      "source": [
        "import random\n",
        "random.sample([1,2,3,4,5,6,7,8],5)"
      ],
      "execution_count": 532,
      "outputs": [
        {
          "output_type": "execute_result",
          "data": {
            "text/plain": [
              "[8, 4, 2, 7, 3]"
            ]
          },
          "metadata": {
            "tags": []
          },
          "execution_count": 532
        }
      ]
    },
    {
      "cell_type": "code",
      "metadata": {
        "id": "KBZqLh7heULT"
      },
      "source": [
        "# torch.save(inc.state_dict(),\"/content/drive/My Drive/model_simple_8000.pkl\")"
      ],
      "execution_count": 533,
      "outputs": []
    },
    {
      "cell_type": "code",
      "metadata": {
        "id": "JgLuOIeLeUHk",
        "colab": {
          "base_uri": "https://localhost:8080/",
          "height": 279
        },
        "outputId": "5e351691-3b06-46a4-e330-0781ac94eee2"
      },
      "source": [
        "fig = plt.figure()\n",
        "plt.plot(loss_curi,label=\"loss_Curve\")\n",
        "plt.xlabel(\"epochs\")\n",
        "plt.ylabel(\"training_loss\")\n",
        "plt.legend()\n",
        "fig.savefig(\"loss_curve.pdf\") "
      ],
      "execution_count": 534,
      "outputs": [
        {
          "output_type": "display_data",
          "data": {
            "image/png": "[encoded data removed]",
            "text/plain": [
              "<Figure size 432x288 with 1 Axes>"
            ]
          },
          "metadata": {
            "tags": [],
            "needs_background": "light"
          }
        }
      ]
    },
    {
      "cell_type": "code",
      "metadata": {
        "id": "pZhSFZLeeXeO"
      },
      "source": [
        ""
      ],
      "execution_count": 534,
      "outputs": []
    },
    {
      "cell_type": "markdown",
      "metadata": {
        "id": "p9IrsRjWNZvw"
      },
      "source": [
        "Simple Model 3 Inception Module\n",
        "\n",
        "|true training data  | Corr Training Data | Test Accuracy | Test Accuracy 0-1 | \n",
        "| ------------------ | ------------------ | ------------- | ----------------- |\n",
        "| 100   | 47335  | 15  |  75 |\n",
        "| 500   | 47335  | 16  |  80 | \n",
        "| 1000  | 47335  | 17  | 83  | \n",
        "| 2000  | 47335  | 19 | 92 | \n",
        "| 4000  | 47335  | 20 | 95  | \n",
        "| 6000  | 47335  |  20 | 96  | \n",
        "| 8000  | 47335  | 20  |  96 | \n",
        "| 12665 | 47335  | 20 | 98  | \n",
        "\n",
        "\n",
        "|   Total Training Data       |   Training Accuracy      |\n",
        "|---------------------------- | ------------------------ |\n",
        "| 47435         | 100 |\n",
        "| 47835         | 100 |\n",
        "| 48335         | 100 |\n",
        "| 49335         | 100 | \n",
        "| 51335         | 100 |\n",
        "| 53335         | 100 |\n",
        "| 55335         | 100 |\n",
        "| 60000         | 100 |"
      ]
    },
    {
      "cell_type": "markdown",
      "metadata": {
        "id": "u6XhWXz3sYcx"
      },
      "source": [
        "Mini- Inception network 8 Inception Modules\n",
        "\n",
        "|true training data  | Corr Training Data | Test Accuracy | Test Accuracy 0-1 | \n",
        "| ------------------ | ------------------ | ------------- | ----------------- |\n",
        "| 100   | 47335  | 14  | 69  |\n",
        "| 500   | 47335  | 19  | 90  | \n",
        "| 1000  | 47335  | 19  |  92 | \n",
        "| 2000  | 47335  | 20  | 95  | \n",
        "| 4000  | 47335  | 20  |  97 | \n",
        "| 6000  | 47335  | 20  | 97  | \n",
        "| 8000  | 47335  | 20  |  98 | \n",
        "| 12665 | 47335  | 20  | 99  | "
      ]
    },
    {
      "cell_type": "markdown",
      "metadata": {
        "id": "d05DCw3Jw9Am"
      },
      "source": [
        "|   Total Training Data       |   Training Accuracy      |\n",
        "|---------------------------- | ------------------------ |\n",
        "| 47435         | 100 |\n",
        "| 47835         | 100 |\n",
        "| 48335         | 100 |\n",
        "| 49335         | 100 | \n",
        "| 51335         | 100 |\n",
        "| 53335         | 100 |\n",
        "| 55335         | 100 |\n",
        "| 60000         | 100 |"
      ]
    },
    {
      "cell_type": "code",
      "metadata": {
        "id": "NuAy-cU0sY9z"
      },
      "source": [
        ""
      ],
      "execution_count": 534,
      "outputs": []
    }
  ]
}