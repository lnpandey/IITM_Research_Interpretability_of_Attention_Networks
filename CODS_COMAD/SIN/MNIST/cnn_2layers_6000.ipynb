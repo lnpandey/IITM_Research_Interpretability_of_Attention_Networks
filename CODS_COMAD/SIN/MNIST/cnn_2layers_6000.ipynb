{
  "nbformat": 4,
  "nbformat_minor": 0,
  "metadata": {
    "kernelspec": {
      "name": "python3",
      "display_name": "Python 3"
    },
    "language_info": {
      "codemirror_mode": {
        "name": "ipython",
        "version": 3
      },
      "file_extension": ".py",
      "mimetype": "text/x-python",
      "name": "python",
      "nbconvert_exporter": "python",
      "pygments_lexer": "ipython3",
      "version": "3.7.0"
    },
    "colab": {
      "name": "cnn_2layers_500.ipynb",
      "provenance": [],
      "collapsed_sections": []
    },
    "accelerator": "GPU"
  },
  "cells": [
    {
      "cell_type": "code",
      "metadata": {
        "id": "lR-eQfx0acq8"
      },
      "source": [
        "import numpy as np\n",
        "import pandas as pd\n",
        "from matplotlib import pyplot as plt\n",
        "from tqdm import tqdm as tqdm\n",
        "\n",
        "%matplotlib inline\n",
        "\n",
        "import torch\n",
        "import torchvision\n",
        "\n",
        "import torchvision.transforms as transforms\n",
        "import torch.nn as nn\n",
        "import torch.optim as optim\n",
        "import torch.nn.functional as F\n",
        "import random"
      ],
      "execution_count": 260,
      "outputs": []
    },
    {
      "cell_type": "code",
      "metadata": {
        "id": "HxCE5TSmap0T"
      },
      "source": [
        "# from google.colab import drive\n",
        "\n",
        "# drive.mount('/content/drive')"
      ],
      "execution_count": 261,
      "outputs": []
    },
    {
      "cell_type": "code",
      "metadata": {
        "id": "yh4EScpqacrC"
      },
      "source": [
        "transform = transforms.Compose(\n",
        "    [transforms.CenterCrop((28,28)),transforms.ToTensor(),transforms.Normalize([0.5], [0.5])])\n"
      ],
      "execution_count": 262,
      "outputs": []
    },
    {
      "cell_type": "code",
      "metadata": {
        "id": "YoAqFwqpacrH"
      },
      "source": [
        "mnist_trainset = torchvision.datasets.MNIST(root='./data', train=True, download=True, transform=transform)\n",
        "mnist_testset = torchvision.datasets.MNIST(root='./data', train=False, download=True, transform=transform)"
      ],
      "execution_count": 263,
      "outputs": []
    },
    {
      "cell_type": "code",
      "metadata": {
        "id": "56x0FjYZacrM",
        "colab": {
          "base_uri": "https://localhost:8080/"
        },
        "outputId": "aaa4c5f0-3a99-4035-9e14-fe7a82bbd40f"
      },
      "source": [
        "index1 = [np.where(mnist_trainset.targets==0)[0] , np.where(mnist_trainset.targets==1)[0] ]\n",
        "index1 = np.concatenate(index1,axis=0)\n",
        "len(index1) #12665"
      ],
      "execution_count": 264,
      "outputs": [
        {
          "output_type": "execute_result",
          "data": {
            "text/plain": [
              "12665"
            ]
          },
          "metadata": {
            "tags": []
          },
          "execution_count": 264
        }
      ]
    },
    {
      "cell_type": "code",
      "metadata": {
        "id": "QZWNdX-BvxKP",
        "colab": {
          "base_uri": "https://localhost:8080/"
        },
        "outputId": "52914157-e8e2-4e0e-e683-e8cd85b17def"
      },
      "source": [
        "true = 6000\n",
        "total = 47000\n",
        "sin = total-true\n",
        "sin"
      ],
      "execution_count": 265,
      "outputs": [
        {
          "output_type": "execute_result",
          "data": {
            "text/plain": [
              "41000"
            ]
          },
          "metadata": {
            "tags": []
          },
          "execution_count": 265
        }
      ]
    },
    {
      "cell_type": "code",
      "metadata": {
        "id": "D45juO_vINDB"
      },
      "source": [
        "epochs = 300"
      ],
      "execution_count": 266,
      "outputs": []
    },
    {
      "cell_type": "code",
      "metadata": {
        "id": "yQOoEO2meJDv",
        "colab": {
          "base_uri": "https://localhost:8080/"
        },
        "outputId": "3a2978ee-62fe-42b8-925c-53b72848f748"
      },
      "source": [
        "indices = np.random.choice(index1,true)\n",
        "indices.shape"
      ],
      "execution_count": 267,
      "outputs": [
        {
          "output_type": "execute_result",
          "data": {
            "text/plain": [
              "(6000,)"
            ]
          },
          "metadata": {
            "tags": []
          },
          "execution_count": 267
        }
      ]
    },
    {
      "cell_type": "code",
      "metadata": {
        "id": "d_8snSm1acrR",
        "colab": {
          "base_uri": "https://localhost:8080/"
        },
        "outputId": "145a3d42-7774-4e6d-9901-3d62b70c9997"
      },
      "source": [
        "index = np.where(np.logical_and(mnist_trainset.targets!=0,mnist_trainset.targets!=1))[0]  #47335\n",
        "index.shape"
      ],
      "execution_count": 268,
      "outputs": [
        {
          "output_type": "execute_result",
          "data": {
            "text/plain": [
              "(47335,)"
            ]
          },
          "metadata": {
            "tags": []
          },
          "execution_count": 268
        }
      ]
    },
    {
      "cell_type": "code",
      "metadata": {
        "id": "ejwWlWXm5pP7"
      },
      "source": [
        "req_index = np.random.choice(index.shape[0], sin, replace=False) \n",
        "# req_index"
      ],
      "execution_count": 269,
      "outputs": []
    },
    {
      "cell_type": "code",
      "metadata": {
        "colab": {
          "base_uri": "https://localhost:8080/"
        },
        "id": "mEg6CPL-6fuj",
        "outputId": "d4f3c4b9-5060-47ec-c5e7-09cf8df80698"
      },
      "source": [
        "index = index[req_index]\n",
        "index.shape"
      ],
      "execution_count": 270,
      "outputs": [
        {
          "output_type": "execute_result",
          "data": {
            "text/plain": [
              "(41000,)"
            ]
          },
          "metadata": {
            "tags": []
          },
          "execution_count": 270
        }
      ]
    },
    {
      "cell_type": "code",
      "metadata": {
        "id": "vYhiSaAnacrW",
        "colab": {
          "base_uri": "https://localhost:8080/"
        },
        "outputId": "e06ff230-ab62-4a75-87c9-5d2778edb44a"
      },
      "source": [
        "values = np.random.choice([0,1],size= sin) \n",
        "print(sum(values ==0),sum(values==1), sum(values ==0) + sum(values==1) )\n"
      ],
      "execution_count": 271,
      "outputs": [
        {
          "output_type": "stream",
          "text": [
            "20476 20524 41000\n"
          ],
          "name": "stdout"
        }
      ]
    },
    {
      "cell_type": "code",
      "metadata": {
        "id": "uLuqrhO1hRR6"
      },
      "source": [
        "mnist_trainset.data = torch.cat((mnist_trainset.data[indices],mnist_trainset.data[index]))\n",
        "mnist_trainset.targets = torch.cat((mnist_trainset.targets[indices],torch.Tensor(values).type(torch.LongTensor)))"
      ],
      "execution_count": 272,
      "outputs": []
    },
    {
      "cell_type": "code",
      "metadata": {
        "colab": {
          "base_uri": "https://localhost:8080/"
        },
        "id": "43UoqeUI4hIV",
        "outputId": "fcc18c92-3ff5-4350-e4df-b18401407fef"
      },
      "source": [
        "mnist_trainset.targets.shape, mnist_trainset.data.shape"
      ],
      "execution_count": 273,
      "outputs": [
        {
          "output_type": "execute_result",
          "data": {
            "text/plain": [
              "(torch.Size([47000]), torch.Size([47000, 28, 28]))"
            ]
          },
          "metadata": {
            "tags": []
          },
          "execution_count": 273
        }
      ]
    },
    {
      "cell_type": "code",
      "metadata": {
        "id": "iczET1tohOsL",
        "colab": {
          "base_uri": "https://localhost:8080/",
          "height": 283
        },
        "outputId": "642402f6-ac83-41aa-a211-968af8aa1738"
      },
      "source": [
        "# mnist_trainset.targets[index] = torch.Tensor(values).type(torch.LongTensor)\n",
        "j =20078     # Without Shuffle upto True Training numbers correct , after that corrupted\n",
        "print(plt.imshow(mnist_trainset.data[j]),mnist_trainset.targets[j])"
      ],
      "execution_count": 274,
      "outputs": [
        {
          "output_type": "stream",
          "text": [
            "AxesImage(54,36;334.8x217.44) tensor(0)\n"
          ],
          "name": "stdout"
        },
        {
          "output_type": "display_data",
          "data": {
            "image/png": "[encoded data removed]",
            "text/plain": [
              "<Figure size 432x288 with 1 Axes>"
            ]
          },
          "metadata": {
            "tags": [],
            "needs_background": "light"
          }
        }
      ]
    },
    {
      "cell_type": "code",
      "metadata": {
        "id": "U8WPVHnPacrd"
      },
      "source": [
        "trainloader = torch.utils.data.DataLoader(mnist_trainset, batch_size=250,shuffle=True, num_workers=2)"
      ],
      "execution_count": 275,
      "outputs": []
    },
    {
      "cell_type": "code",
      "metadata": {
        "id": "7L7ocAcracri"
      },
      "source": [
        "testloader = torch.utils.data.DataLoader(mnist_testset, batch_size=250,shuffle=False, num_workers=2)"
      ],
      "execution_count": 276,
      "outputs": []
    },
    {
      "cell_type": "code",
      "metadata": {
        "colab": {
          "base_uri": "https://localhost:8080/"
        },
        "id": "ULbHmoX-5QRM",
        "outputId": "1dfd29db-8582-4027-a01a-0eff4966e7f9"
      },
      "source": [
        "mnist_trainset.data.shape"
      ],
      "execution_count": 277,
      "outputs": [
        {
          "output_type": "execute_result",
          "data": {
            "text/plain": [
              "torch.Size([47000, 28, 28])"
            ]
          },
          "metadata": {
            "tags": []
          },
          "execution_count": 277
        }
      ]
    },
    {
      "cell_type": "code",
      "metadata": {
        "id": "pdhAr2p6acrm"
      },
      "source": [
        "classes = ('zero', 'one')"
      ],
      "execution_count": 278,
      "outputs": []
    },
    {
      "cell_type": "code",
      "metadata": {
        "id": "jhUOj6Tnacrr"
      },
      "source": [
        "dataiter = iter(trainloader)\n",
        "images, labels = dataiter.next()"
      ],
      "execution_count": 279,
      "outputs": []
    },
    {
      "cell_type": "code",
      "metadata": {
        "id": "vVgW5hBkacrv",
        "colab": {
          "base_uri": "https://localhost:8080/"
        },
        "outputId": "c0e30e00-eb06-48cf-f2a4-ec6a9c0fdaa8"
      },
      "source": [
        "images[:4].shape"
      ],
      "execution_count": 280,
      "outputs": [
        {
          "output_type": "execute_result",
          "data": {
            "text/plain": [
              "torch.Size([4, 1, 28, 28])"
            ]
          },
          "metadata": {
            "tags": []
          },
          "execution_count": 280
        }
      ]
    },
    {
      "cell_type": "code",
      "metadata": {
        "id": "nUtA80KCacr1"
      },
      "source": [
        "def imshow(img):\n",
        "    img = img / 2 + 0.5     # unnormalize\n",
        "    npimg = img.numpy()\n",
        "    plt.imshow(np.transpose(npimg, (1, 2, 0)))\n",
        "    plt.show()"
      ],
      "execution_count": 281,
      "outputs": []
    },
    {
      "cell_type": "code",
      "metadata": {
        "id": "Xv34FfAdacr5",
        "colab": {
          "base_uri": "https://localhost:8080/",
          "height": 155
        },
        "outputId": "dd7535fd-674c-40f9-fac3-855d3071603c"
      },
      "source": [
        "imshow(torchvision.utils.make_grid(images[:10]))\n",
        "print('GroundTruth: ', ' '.join('%5s' % classes[labels[j]] for j in range(10)))"
      ],
      "execution_count": 282,
      "outputs": [
        {
          "output_type": "display_data",
          "data": {
            "image/png": "[encoded data removed]",
            "text/plain": [
              "<Figure size 432x288 with 1 Axes>"
            ]
          },
          "metadata": {
            "tags": [],
            "needs_background": "light"
          }
        },
        {
          "output_type": "stream",
          "text": [
            "GroundTruth:    one  zero   one  zero   one  zero   one   one   one  zero\n"
          ],
          "name": "stdout"
        }
      ]
    },
    {
      "cell_type": "code",
      "metadata": {
        "id": "Ss-jhHRIacr-"
      },
      "source": [
        "class Module2(nn.Module):\n",
        "  def __init__(self):\n",
        "    super(Module2, self).__init__()\n",
        "    self.conv1 = nn.Conv2d(1, 6, 5)\n",
        "    self.pool = nn.MaxPool2d(2, 2)\n",
        "    self.conv2 = nn.Conv2d(6, 16, 5)\n",
        "    self.fc1 = nn.Linear(16 * 4 * 4, 128)\n",
        "    self.fc2 = nn.Linear(128, 64)\n",
        "    self.fc3 = nn.Linear(64, 10)\n",
        "    self.fc4 = nn.Linear(10,2)\n",
        "\n",
        "  def forward(self,z):  \n",
        "    y1 = self.pool(F.relu(self.conv1(z)))\n",
        "    y1 = self.pool(F.relu(self.conv2(y1)))\n",
        "    # print(y1.shape)\n",
        "    y1 = y1.view(-1, 16 * 4 * 4)\n",
        "\n",
        "    y1 = F.relu(self.fc1(y1))\n",
        "    y1 = F.relu(self.fc2(y1))\n",
        "    y1 = F.relu(self.fc3(y1))\n",
        "    y1 = self.fc4(y1)\n",
        "    return y1 "
      ],
      "execution_count": 283,
      "outputs": []
    },
    {
      "cell_type": "code",
      "metadata": {
        "id": "rByxqKdOacsM"
      },
      "source": [
        "inc = Module2()\n",
        "inc = inc.to(\"cuda\")"
      ],
      "execution_count": 284,
      "outputs": []
    },
    {
      "cell_type": "code",
      "metadata": {
        "id": "imWjagA2acsO"
      },
      "source": [
        "criterion_inception = nn.CrossEntropyLoss()\n",
        "optimizer_inception = optim.SGD(inc.parameters(), lr=0.01, momentum=0.9)"
      ],
      "execution_count": 285,
      "outputs": []
    },
    {
      "cell_type": "code",
      "metadata": {
        "id": "r5mCNr38acsR",
        "colab": {
          "base_uri": "https://localhost:8080/"
        },
        "outputId": "b8d1e5b1-d047-4b6b-831a-10ae12799f22"
      },
      "source": [
        "acti = []\n",
        "loss_curi = []\n",
        "for epoch in range(epochs): # loop over the dataset multiple times\n",
        "    ep_lossi = []\n",
        "\n",
        "    running_loss = 0.0\n",
        "    for i, data in enumerate(trainloader, 0):\n",
        "        # get the inputs\n",
        "        inputs, labels = data\n",
        "        inputs, labels = inputs.to(\"cuda\"),labels.to(\"cuda\")\n",
        "\n",
        "        # print(inputs.shape)\n",
        "        # zero the parameter gradients\n",
        "        optimizer_inception.zero_grad()\n",
        "\n",
        "        # forward + backward + optimize\n",
        "        outputs = inc(inputs)\n",
        "        loss = criterion_inception(outputs, labels)\n",
        "        loss.backward()\n",
        "        optimizer_inception.step()\n",
        "\n",
        "        # print statistics\n",
        "        running_loss += loss.item()\n",
        "        if i % 50 == 49:    # print every 50 mini-batches\n",
        "            print('[%d, %5d] loss: %.3f' %\n",
        "                  (epoch + 1, i + 1, running_loss / 50))\n",
        "            ep_lossi.append(running_loss/50) # loss per minibatch\n",
        "            running_loss = 0.0\n",
        "            \n",
        "    loss_curi.append(np.mean(ep_lossi))   #loss per epoch\n",
        "    if (np.mean(ep_lossi)<=0.03):\n",
        "        break\n",
        "#         acti.append(actis)\n",
        "    \n",
        "            \n",
        "\n",
        "print('Finished Training')"
      ],
      "execution_count": 286,
      "outputs": [
        {
          "output_type": "stream",
          "text": [
            "[1,    50] loss: 0.697\n",
            "[1,   100] loss: 0.692\n",
            "[1,   150] loss: 0.690\n",
            "[2,    50] loss: 0.684\n",
            "[2,   100] loss: 0.676\n",
            "[2,   150] loss: 0.666\n",
            "[3,    50] loss: 0.657\n",
            "[3,   100] loss: 0.653\n",
            "[3,   150] loss: 0.651\n",
            "[4,    50] loss: 0.645\n",
            "[4,   100] loss: 0.646\n",
            "[4,   150] loss: 0.642\n",
            "[5,    50] loss: 0.639\n",
            "[5,   100] loss: 0.638\n",
            "[5,   150] loss: 0.634\n",
            "[6,    50] loss: 0.630\n",
            "[6,   100] loss: 0.628\n",
            "[6,   150] loss: 0.628\n",
            "[7,    50] loss: 0.627\n",
            "[7,   100] loss: 0.627\n",
            "[7,   150] loss: 0.620\n",
            "[8,    50] loss: 0.620\n",
            "[8,   100] loss: 0.617\n",
            "[8,   150] loss: 0.613\n",
            "[9,    50] loss: 0.616\n",
            "[9,   100] loss: 0.616\n",
            "[9,   150] loss: 0.614\n",
            "[10,    50] loss: 0.612\n",
            "[10,   100] loss: 0.618\n",
            "[10,   150] loss: 0.612\n",
            "[11,    50] loss: 0.614\n",
            "[11,   100] loss: 0.610\n",
            "[11,   150] loss: 0.610\n",
            "[12,    50] loss: 0.612\n",
            "[12,   100] loss: 0.610\n",
            "[12,   150] loss: 0.611\n",
            "[13,    50] loss: 0.609\n",
            "[13,   100] loss: 0.608\n",
            "[13,   150] loss: 0.611\n",
            "[14,    50] loss: 0.609\n",
            "[14,   100] loss: 0.609\n",
            "[14,   150] loss: 0.609\n",
            "[15,    50] loss: 0.605\n",
            "[15,   100] loss: 0.612\n",
            "[15,   150] loss: 0.606\n",
            "[16,    50] loss: 0.609\n",
            "[16,   100] loss: 0.607\n",
            "[16,   150] loss: 0.608\n",
            "[17,    50] loss: 0.607\n",
            "[17,   100] loss: 0.607\n",
            "[17,   150] loss: 0.606\n",
            "[18,    50] loss: 0.604\n",
            "[18,   100] loss: 0.602\n",
            "[18,   150] loss: 0.608\n",
            "[19,    50] loss: 0.604\n",
            "[19,   100] loss: 0.602\n",
            "[19,   150] loss: 0.602\n",
            "[20,    50] loss: 0.599\n",
            "[20,   100] loss: 0.602\n",
            "[20,   150] loss: 0.604\n",
            "[21,    50] loss: 0.601\n",
            "[21,   100] loss: 0.605\n",
            "[21,   150] loss: 0.601\n",
            "[22,    50] loss: 0.601\n",
            "[22,   100] loss: 0.602\n",
            "[22,   150] loss: 0.600\n",
            "[23,    50] loss: 0.600\n",
            "[23,   100] loss: 0.600\n",
            "[23,   150] loss: 0.602\n",
            "[24,    50] loss: 0.601\n",
            "[24,   100] loss: 0.597\n",
            "[24,   150] loss: 0.600\n",
            "[25,    50] loss: 0.597\n",
            "[25,   100] loss: 0.598\n",
            "[25,   150] loss: 0.594\n",
            "[26,    50] loss: 0.595\n",
            "[26,   100] loss: 0.593\n",
            "[26,   150] loss: 0.598\n",
            "[27,    50] loss: 0.595\n",
            "[27,   100] loss: 0.596\n",
            "[27,   150] loss: 0.593\n",
            "[28,    50] loss: 0.588\n",
            "[28,   100] loss: 0.595\n",
            "[28,   150] loss: 0.594\n",
            "[29,    50] loss: 0.589\n",
            "[29,   100] loss: 0.593\n",
            "[29,   150] loss: 0.594\n",
            "[30,    50] loss: 0.590\n",
            "[30,   100] loss: 0.590\n",
            "[30,   150] loss: 0.590\n",
            "[31,    50] loss: 0.584\n",
            "[31,   100] loss: 0.586\n",
            "[31,   150] loss: 0.587\n",
            "[32,    50] loss: 0.581\n",
            "[32,   100] loss: 0.587\n",
            "[32,   150] loss: 0.591\n",
            "[33,    50] loss: 0.584\n",
            "[33,   100] loss: 0.584\n",
            "[33,   150] loss: 0.585\n",
            "[34,    50] loss: 0.575\n",
            "[34,   100] loss: 0.582\n",
            "[34,   150] loss: 0.580\n",
            "[35,    50] loss: 0.579\n",
            "[35,   100] loss: 0.575\n",
            "[35,   150] loss: 0.580\n",
            "[36,    50] loss: 0.573\n",
            "[36,   100] loss: 0.579\n",
            "[36,   150] loss: 0.579\n",
            "[37,    50] loss: 0.565\n",
            "[37,   100] loss: 0.575\n",
            "[37,   150] loss: 0.574\n",
            "[38,    50] loss: 0.567\n",
            "[38,   100] loss: 0.572\n",
            "[38,   150] loss: 0.574\n",
            "[39,    50] loss: 0.559\n",
            "[39,   100] loss: 0.571\n",
            "[39,   150] loss: 0.567\n",
            "[40,    50] loss: 0.561\n",
            "[40,   100] loss: 0.566\n",
            "[40,   150] loss: 0.564\n",
            "[41,    50] loss: 0.558\n",
            "[41,   100] loss: 0.562\n",
            "[41,   150] loss: 0.563\n",
            "[42,    50] loss: 0.549\n",
            "[42,   100] loss: 0.554\n",
            "[42,   150] loss: 0.562\n",
            "[43,    50] loss: 0.543\n",
            "[43,   100] loss: 0.559\n",
            "[43,   150] loss: 0.554\n",
            "[44,    50] loss: 0.537\n",
            "[44,   100] loss: 0.547\n",
            "[44,   150] loss: 0.556\n",
            "[45,    50] loss: 0.536\n",
            "[45,   100] loss: 0.544\n",
            "[45,   150] loss: 0.547\n",
            "[46,    50] loss: 0.529\n",
            "[46,   100] loss: 0.541\n",
            "[46,   150] loss: 0.542\n",
            "[47,    50] loss: 0.528\n",
            "[47,   100] loss: 0.543\n",
            "[47,   150] loss: 0.539\n",
            "[48,    50] loss: 0.514\n",
            "[48,   100] loss: 0.533\n",
            "[48,   150] loss: 0.538\n",
            "[49,    50] loss: 0.513\n",
            "[49,   100] loss: 0.523\n",
            "[49,   150] loss: 0.524\n",
            "[50,    50] loss: 0.507\n",
            "[50,   100] loss: 0.516\n",
            "[50,   150] loss: 0.523\n",
            "[51,    50] loss: 0.497\n",
            "[51,   100] loss: 0.512\n",
            "[51,   150] loss: 0.513\n",
            "[52,    50] loss: 0.497\n",
            "[52,   100] loss: 0.501\n",
            "[52,   150] loss: 0.514\n",
            "[53,    50] loss: 0.480\n",
            "[53,   100] loss: 0.493\n",
            "[53,   150] loss: 0.515\n",
            "[54,    50] loss: 0.483\n",
            "[54,   100] loss: 0.492\n",
            "[54,   150] loss: 0.500\n",
            "[55,    50] loss: 0.472\n",
            "[55,   100] loss: 0.481\n",
            "[55,   150] loss: 0.498\n",
            "[56,    50] loss: 0.474\n",
            "[56,   100] loss: 0.480\n",
            "[56,   150] loss: 0.487\n",
            "[57,    50] loss: 0.452\n",
            "[57,   100] loss: 0.481\n",
            "[57,   150] loss: 0.481\n",
            "[58,    50] loss: 0.457\n",
            "[58,   100] loss: 0.466\n",
            "[58,   150] loss: 0.480\n",
            "[59,    50] loss: 0.442\n",
            "[59,   100] loss: 0.463\n",
            "[59,   150] loss: 0.471\n",
            "[60,    50] loss: 0.436\n",
            "[60,   100] loss: 0.454\n",
            "[60,   150] loss: 0.480\n",
            "[61,    50] loss: 0.441\n",
            "[61,   100] loss: 0.442\n",
            "[61,   150] loss: 0.454\n",
            "[62,    50] loss: 0.420\n",
            "[62,   100] loss: 0.447\n",
            "[62,   150] loss: 0.454\n",
            "[63,    50] loss: 0.415\n",
            "[63,   100] loss: 0.431\n",
            "[63,   150] loss: 0.437\n",
            "[64,    50] loss: 0.402\n",
            "[64,   100] loss: 0.425\n",
            "[64,   150] loss: 0.438\n",
            "[65,    50] loss: 0.403\n",
            "[65,   100] loss: 0.414\n",
            "[65,   150] loss: 0.432\n",
            "[66,    50] loss: 0.391\n",
            "[66,   100] loss: 0.401\n",
            "[66,   150] loss: 0.425\n",
            "[67,    50] loss: 0.384\n",
            "[67,   100] loss: 0.405\n",
            "[67,   150] loss: 0.417\n",
            "[68,    50] loss: 0.378\n",
            "[68,   100] loss: 0.402\n",
            "[68,   150] loss: 0.409\n",
            "[69,    50] loss: 0.375\n",
            "[69,   100] loss: 0.383\n",
            "[69,   150] loss: 0.400\n",
            "[70,    50] loss: 0.372\n",
            "[70,   100] loss: 0.388\n",
            "[70,   150] loss: 0.402\n",
            "[71,    50] loss: 0.353\n",
            "[71,   100] loss: 0.376\n",
            "[71,   150] loss: 0.402\n",
            "[72,    50] loss: 0.358\n",
            "[72,   100] loss: 0.370\n",
            "[72,   150] loss: 0.386\n",
            "[73,    50] loss: 0.354\n",
            "[73,   100] loss: 0.357\n",
            "[73,   150] loss: 0.385\n",
            "[74,    50] loss: 0.333\n",
            "[74,   100] loss: 0.350\n",
            "[74,   150] loss: 0.385\n",
            "[75,    50] loss: 0.330\n",
            "[75,   100] loss: 0.358\n",
            "[75,   150] loss: 0.369\n",
            "[76,    50] loss: 0.325\n",
            "[76,   100] loss: 0.340\n",
            "[76,   150] loss: 0.359\n",
            "[77,    50] loss: 0.325\n",
            "[77,   100] loss: 0.325\n",
            "[77,   150] loss: 0.350\n",
            "[78,    50] loss: 0.313\n",
            "[78,   100] loss: 0.319\n",
            "[78,   150] loss: 0.344\n",
            "[79,    50] loss: 0.310\n",
            "[79,   100] loss: 0.335\n",
            "[79,   150] loss: 0.333\n",
            "[80,    50] loss: 0.288\n",
            "[80,   100] loss: 0.313\n",
            "[80,   150] loss: 0.340\n",
            "[81,    50] loss: 0.310\n",
            "[81,   100] loss: 0.312\n",
            "[81,   150] loss: 0.341\n",
            "[82,    50] loss: 0.279\n",
            "[82,   100] loss: 0.299\n",
            "[82,   150] loss: 0.328\n",
            "[83,    50] loss: 0.294\n",
            "[83,   100] loss: 0.292\n",
            "[83,   150] loss: 0.306\n",
            "[84,    50] loss: 0.276\n",
            "[84,   100] loss: 0.294\n",
            "[84,   150] loss: 0.300\n",
            "[85,    50] loss: 0.276\n",
            "[85,   100] loss: 0.294\n",
            "[85,   150] loss: 0.312\n",
            "[86,    50] loss: 0.259\n",
            "[86,   100] loss: 0.291\n",
            "[86,   150] loss: 0.298\n",
            "[87,    50] loss: 0.251\n",
            "[87,   100] loss: 0.265\n",
            "[87,   150] loss: 0.298\n",
            "[88,    50] loss: 0.251\n",
            "[88,   100] loss: 0.273\n",
            "[88,   150] loss: 0.282\n",
            "[89,    50] loss: 0.250\n",
            "[89,   100] loss: 0.258\n",
            "[89,   150] loss: 0.293\n",
            "[90,    50] loss: 0.262\n",
            "[90,   100] loss: 0.267\n",
            "[90,   150] loss: 0.282\n",
            "[91,    50] loss: 0.238\n",
            "[91,   100] loss: 0.250\n",
            "[91,   150] loss: 0.286\n",
            "[92,    50] loss: 0.240\n",
            "[92,   100] loss: 0.247\n",
            "[92,   150] loss: 0.265\n",
            "[93,    50] loss: 0.242\n",
            "[93,   100] loss: 0.240\n",
            "[93,   150] loss: 0.267\n",
            "[94,    50] loss: 0.236\n",
            "[94,   100] loss: 0.244\n",
            "[94,   150] loss: 0.244\n",
            "[95,    50] loss: 0.237\n",
            "[95,   100] loss: 0.260\n",
            "[95,   150] loss: 0.256\n",
            "[96,    50] loss: 0.211\n",
            "[96,   100] loss: 0.217\n",
            "[96,   150] loss: 0.257\n",
            "[97,    50] loss: 0.221\n",
            "[97,   100] loss: 0.235\n",
            "[97,   150] loss: 0.262\n",
            "[98,    50] loss: 0.204\n",
            "[98,   100] loss: 0.223\n",
            "[98,   150] loss: 0.244\n",
            "[99,    50] loss: 0.209\n",
            "[99,   100] loss: 0.214\n",
            "[99,   150] loss: 0.234\n",
            "[100,    50] loss: 0.197\n",
            "[100,   100] loss: 0.217\n",
            "[100,   150] loss: 0.226\n",
            "[101,    50] loss: 0.194\n",
            "[101,   100] loss: 0.220\n",
            "[101,   150] loss: 0.248\n",
            "[102,    50] loss: 0.212\n",
            "[102,   100] loss: 0.222\n",
            "[102,   150] loss: 0.218\n",
            "[103,    50] loss: 0.189\n",
            "[103,   100] loss: 0.205\n",
            "[103,   150] loss: 0.241\n",
            "[104,    50] loss: 0.184\n",
            "[104,   100] loss: 0.199\n",
            "[104,   150] loss: 0.217\n",
            "[105,    50] loss: 0.209\n",
            "[105,   100] loss: 0.219\n",
            "[105,   150] loss: 0.218\n",
            "[106,    50] loss: 0.184\n",
            "[106,   100] loss: 0.201\n",
            "[106,   150] loss: 0.224\n",
            "[107,    50] loss: 0.165\n",
            "[107,   100] loss: 0.172\n",
            "[107,   150] loss: 0.199\n",
            "[108,    50] loss: 0.180\n",
            "[108,   100] loss: 0.184\n",
            "[108,   150] loss: 0.214\n",
            "[109,    50] loss: 0.179\n",
            "[109,   100] loss: 0.183\n",
            "[109,   150] loss: 0.205\n",
            "[110,    50] loss: 0.169\n",
            "[110,   100] loss: 0.184\n",
            "[110,   150] loss: 0.202\n",
            "[111,    50] loss: 0.171\n",
            "[111,   100] loss: 0.171\n",
            "[111,   150] loss: 0.178\n",
            "[112,    50] loss: 0.160\n",
            "[112,   100] loss: 0.179\n",
            "[112,   150] loss: 0.181\n",
            "[113,    50] loss: 0.153\n",
            "[113,   100] loss: 0.176\n",
            "[113,   150] loss: 0.174\n",
            "[114,    50] loss: 0.163\n",
            "[114,   100] loss: 0.187\n",
            "[114,   150] loss: 0.186\n",
            "[115,    50] loss: 0.160\n",
            "[115,   100] loss: 0.154\n",
            "[115,   150] loss: 0.176\n",
            "[116,    50] loss: 0.154\n",
            "[116,   100] loss: 0.158\n",
            "[116,   150] loss: 0.174\n",
            "[117,    50] loss: 0.158\n",
            "[117,   100] loss: 0.177\n",
            "[117,   150] loss: 0.182\n",
            "[118,    50] loss: 0.148\n",
            "[118,   100] loss: 0.154\n",
            "[118,   150] loss: 0.174\n",
            "[119,    50] loss: 0.134\n",
            "[119,   100] loss: 0.148\n",
            "[119,   150] loss: 0.165\n",
            "[120,    50] loss: 0.138\n",
            "[120,   100] loss: 0.151\n",
            "[120,   150] loss: 0.194\n",
            "[121,    50] loss: 0.121\n",
            "[121,   100] loss: 0.144\n",
            "[121,   150] loss: 0.167\n",
            "[122,    50] loss: 0.141\n",
            "[122,   100] loss: 0.146\n",
            "[122,   150] loss: 0.153\n",
            "[123,    50] loss: 0.132\n",
            "[123,   100] loss: 0.149\n",
            "[123,   150] loss: 0.171\n",
            "[124,    50] loss: 0.126\n",
            "[124,   100] loss: 0.131\n",
            "[124,   150] loss: 0.147\n",
            "[125,    50] loss: 0.136\n",
            "[125,   100] loss: 0.134\n",
            "[125,   150] loss: 0.167\n",
            "[126,    50] loss: 0.138\n",
            "[126,   100] loss: 0.132\n",
            "[126,   150] loss: 0.154\n",
            "[127,    50] loss: 0.131\n",
            "[127,   100] loss: 0.130\n",
            "[127,   150] loss: 0.135\n",
            "[128,    50] loss: 0.134\n",
            "[128,   100] loss: 0.141\n",
            "[128,   150] loss: 0.160\n",
            "[129,    50] loss: 0.119\n",
            "[129,   100] loss: 0.123\n",
            "[129,   150] loss: 0.161\n",
            "[130,    50] loss: 0.114\n",
            "[130,   100] loss: 0.121\n",
            "[130,   150] loss: 0.139\n",
            "[131,    50] loss: 0.127\n",
            "[131,   100] loss: 0.129\n",
            "[131,   150] loss: 0.144\n",
            "[132,    50] loss: 0.118\n",
            "[132,   100] loss: 0.106\n",
            "[132,   150] loss: 0.126\n",
            "[133,    50] loss: 0.121\n",
            "[133,   100] loss: 0.129\n",
            "[133,   150] loss: 0.133\n",
            "[134,    50] loss: 0.113\n",
            "[134,   100] loss: 0.117\n",
            "[134,   150] loss: 0.124\n",
            "[135,    50] loss: 0.113\n",
            "[135,   100] loss: 0.128\n",
            "[135,   150] loss: 0.119\n",
            "[136,    50] loss: 0.108\n",
            "[136,   100] loss: 0.123\n",
            "[136,   150] loss: 0.143\n",
            "[137,    50] loss: 0.113\n",
            "[137,   100] loss: 0.110\n",
            "[137,   150] loss: 0.116\n",
            "[138,    50] loss: 0.108\n",
            "[138,   100] loss: 0.120\n",
            "[138,   150] loss: 0.125\n",
            "[139,    50] loss: 0.133\n",
            "[139,   100] loss: 0.119\n",
            "[139,   150] loss: 0.147\n",
            "[140,    50] loss: 0.098\n",
            "[140,   100] loss: 0.094\n",
            "[140,   150] loss: 0.118\n",
            "[141,    50] loss: 0.116\n",
            "[141,   100] loss: 0.123\n",
            "[141,   150] loss: 0.113\n",
            "[142,    50] loss: 0.098\n",
            "[142,   100] loss: 0.109\n",
            "[142,   150] loss: 0.135\n",
            "[143,    50] loss: 0.091\n",
            "[143,   100] loss: 0.085\n",
            "[143,   150] loss: 0.094\n",
            "[144,    50] loss: 0.113\n",
            "[144,   100] loss: 0.105\n",
            "[144,   150] loss: 0.095\n",
            "[145,    50] loss: 0.120\n",
            "[145,   100] loss: 0.097\n",
            "[145,   150] loss: 0.125\n",
            "[146,    50] loss: 0.111\n",
            "[146,   100] loss: 0.094\n",
            "[146,   150] loss: 0.094\n",
            "[147,    50] loss: 0.106\n",
            "[147,   100] loss: 0.157\n",
            "[147,   150] loss: 0.119\n",
            "[148,    50] loss: 0.082\n",
            "[148,   100] loss: 0.111\n",
            "[148,   150] loss: 0.106\n",
            "[149,    50] loss: 0.104\n",
            "[149,   100] loss: 0.094\n",
            "[149,   150] loss: 0.098\n",
            "[150,    50] loss: 0.086\n",
            "[150,   100] loss: 0.114\n",
            "[150,   150] loss: 0.110\n",
            "[151,    50] loss: 0.086\n",
            "[151,   100] loss: 0.092\n",
            "[151,   150] loss: 0.102\n",
            "[152,    50] loss: 0.096\n",
            "[152,   100] loss: 0.102\n",
            "[152,   150] loss: 0.111\n",
            "[153,    50] loss: 0.077\n",
            "[153,   100] loss: 0.100\n",
            "[153,   150] loss: 0.134\n",
            "[154,    50] loss: 0.082\n",
            "[154,   100] loss: 0.088\n",
            "[154,   150] loss: 0.095\n",
            "[155,    50] loss: 0.102\n",
            "[155,   100] loss: 0.088\n",
            "[155,   150] loss: 0.095\n",
            "[156,    50] loss: 0.086\n",
            "[156,   100] loss: 0.106\n",
            "[156,   150] loss: 0.124\n",
            "[157,    50] loss: 0.074\n",
            "[157,   100] loss: 0.080\n",
            "[157,   150] loss: 0.086\n",
            "[158,    50] loss: 0.079\n",
            "[158,   100] loss: 0.072\n",
            "[158,   150] loss: 0.090\n",
            "[159,    50] loss: 0.080\n",
            "[159,   100] loss: 0.071\n",
            "[159,   150] loss: 0.083\n",
            "[160,    50] loss: 0.094\n",
            "[160,   100] loss: 0.083\n",
            "[160,   150] loss: 0.110\n",
            "[161,    50] loss: 0.078\n",
            "[161,   100] loss: 0.068\n",
            "[161,   150] loss: 0.086\n",
            "[162,    50] loss: 0.085\n",
            "[162,   100] loss: 0.071\n",
            "[162,   150] loss: 0.096\n",
            "[163,    50] loss: 0.067\n",
            "[163,   100] loss: 0.075\n",
            "[163,   150] loss: 0.092\n",
            "[164,    50] loss: 0.076\n",
            "[164,   100] loss: 0.065\n",
            "[164,   150] loss: 0.082\n",
            "[165,    50] loss: 0.082\n",
            "[165,   100] loss: 0.074\n",
            "[165,   150] loss: 0.111\n",
            "[166,    50] loss: 0.072\n",
            "[166,   100] loss: 0.068\n",
            "[166,   150] loss: 0.087\n",
            "[167,    50] loss: 0.065\n",
            "[167,   100] loss: 0.073\n",
            "[167,   150] loss: 0.071\n",
            "[168,    50] loss: 0.065\n",
            "[168,   100] loss: 0.067\n",
            "[168,   150] loss: 0.097\n",
            "[169,    50] loss: 0.064\n",
            "[169,   100] loss: 0.061\n",
            "[169,   150] loss: 0.077\n",
            "[170,    50] loss: 0.072\n",
            "[170,   100] loss: 0.095\n",
            "[170,   150] loss: 0.087\n",
            "[171,    50] loss: 0.057\n",
            "[171,   100] loss: 0.066\n",
            "[171,   150] loss: 0.081\n",
            "[172,    50] loss: 0.074\n",
            "[172,   100] loss: 0.089\n",
            "[172,   150] loss: 0.082\n",
            "[173,    50] loss: 0.068\n",
            "[173,   100] loss: 0.063\n",
            "[173,   150] loss: 0.077\n",
            "[174,    50] loss: 0.060\n",
            "[174,   100] loss: 0.061\n",
            "[174,   150] loss: 0.069\n",
            "[175,    50] loss: 0.092\n",
            "[175,   100] loss: 0.067\n",
            "[175,   150] loss: 0.061\n",
            "[176,    50] loss: 0.069\n",
            "[176,   100] loss: 0.069\n",
            "[176,   150] loss: 0.075\n",
            "[177,    50] loss: 0.068\n",
            "[177,   100] loss: 0.061\n",
            "[177,   150] loss: 0.073\n",
            "[178,    50] loss: 0.057\n",
            "[178,   100] loss: 0.058\n",
            "[178,   150] loss: 0.074\n",
            "[179,    50] loss: 0.068\n",
            "[179,   100] loss: 0.059\n",
            "[179,   150] loss: 0.093\n",
            "[180,    50] loss: 0.061\n",
            "[180,   100] loss: 0.066\n",
            "[180,   150] loss: 0.070\n",
            "[181,    50] loss: 0.060\n",
            "[181,   100] loss: 0.061\n",
            "[181,   150] loss: 0.084\n",
            "[182,    50] loss: 0.053\n",
            "[182,   100] loss: 0.073\n",
            "[182,   150] loss: 0.098\n",
            "[183,    50] loss: 0.045\n",
            "[183,   100] loss: 0.064\n",
            "[183,   150] loss: 0.074\n",
            "[184,    50] loss: 0.068\n",
            "[184,   100] loss: 0.061\n",
            "[184,   150] loss: 0.053\n",
            "[185,    50] loss: 0.047\n",
            "[185,   100] loss: 0.061\n",
            "[185,   150] loss: 0.079\n",
            "[186,    50] loss: 0.058\n",
            "[186,   100] loss: 0.048\n",
            "[186,   150] loss: 0.056\n",
            "[187,    50] loss: 0.069\n",
            "[187,   100] loss: 0.070\n",
            "[187,   150] loss: 0.059\n",
            "[188,    50] loss: 0.053\n",
            "[188,   100] loss: 0.063\n",
            "[188,   150] loss: 0.076\n",
            "[189,    50] loss: 0.058\n",
            "[189,   100] loss: 0.048\n",
            "[189,   150] loss: 0.048\n",
            "[190,    50] loss: 0.067\n",
            "[190,   100] loss: 0.060\n",
            "[190,   150] loss: 0.062\n",
            "[191,    50] loss: 0.062\n",
            "[191,   100] loss: 0.060\n",
            "[191,   150] loss: 0.081\n",
            "[192,    50] loss: 0.050\n",
            "[192,   100] loss: 0.052\n",
            "[192,   150] loss: 0.055\n",
            "[193,    50] loss: 0.072\n",
            "[193,   100] loss: 0.059\n",
            "[193,   150] loss: 0.051\n",
            "[194,    50] loss: 0.047\n",
            "[194,   100] loss: 0.045\n",
            "[194,   150] loss: 0.056\n",
            "[195,    50] loss: 0.059\n",
            "[195,   100] loss: 0.042\n",
            "[195,   150] loss: 0.050\n",
            "[196,    50] loss: 0.069\n",
            "[196,   100] loss: 0.059\n",
            "[196,   150] loss: 0.063\n",
            "[197,    50] loss: 0.045\n",
            "[197,   100] loss: 0.041\n",
            "[197,   150] loss: 0.049\n",
            "[198,    50] loss: 0.047\n",
            "[198,   100] loss: 0.062\n",
            "[198,   150] loss: 0.077\n",
            "[199,    50] loss: 0.050\n",
            "[199,   100] loss: 0.042\n",
            "[199,   150] loss: 0.064\n",
            "[200,    50] loss: 0.062\n",
            "[200,   100] loss: 0.048\n",
            "[200,   150] loss: 0.060\n",
            "[201,    50] loss: 0.045\n",
            "[201,   100] loss: 0.045\n",
            "[201,   150] loss: 0.064\n",
            "[202,    50] loss: 0.050\n",
            "[202,   100] loss: 0.046\n",
            "[202,   150] loss: 0.061\n",
            "[203,    50] loss: 0.055\n",
            "[203,   100] loss: 0.050\n",
            "[203,   150] loss: 0.053\n",
            "[204,    50] loss: 0.076\n",
            "[204,   100] loss: 0.051\n",
            "[204,   150] loss: 0.041\n",
            "[205,    50] loss: 0.041\n",
            "[205,   100] loss: 0.035\n",
            "[205,   150] loss: 0.042\n",
            "[206,    50] loss: 0.057\n",
            "[206,   100] loss: 0.064\n",
            "[206,   150] loss: 0.066\n",
            "[207,    50] loss: 0.055\n",
            "[207,   100] loss: 0.047\n",
            "[207,   150] loss: 0.041\n",
            "[208,    50] loss: 0.053\n",
            "[208,   100] loss: 0.055\n",
            "[208,   150] loss: 0.047\n",
            "[209,    50] loss: 0.042\n",
            "[209,   100] loss: 0.063\n",
            "[209,   150] loss: 0.059\n",
            "[210,    50] loss: 0.042\n",
            "[210,   100] loss: 0.027\n",
            "[210,   150] loss: 0.036\n",
            "[211,    50] loss: 0.057\n",
            "[211,   100] loss: 0.050\n",
            "[211,   150] loss: 0.051\n",
            "[212,    50] loss: 0.049\n",
            "[212,   100] loss: 0.051\n",
            "[212,   150] loss: 0.064\n",
            "[213,    50] loss: 0.036\n",
            "[213,   100] loss: 0.042\n",
            "[213,   150] loss: 0.051\n",
            "[214,    50] loss: 0.047\n",
            "[214,   100] loss: 0.038\n",
            "[214,   150] loss: 0.042\n",
            "[215,    50] loss: 0.044\n",
            "[215,   100] loss: 0.052\n",
            "[215,   150] loss: 0.047\n",
            "[216,    50] loss: 0.038\n",
            "[216,   100] loss: 0.038\n",
            "[216,   150] loss: 0.051\n",
            "[217,    50] loss: 0.031\n",
            "[217,   100] loss: 0.031\n",
            "[217,   150] loss: 0.045\n",
            "[218,    50] loss: 0.042\n",
            "[218,   100] loss: 0.040\n",
            "[218,   150] loss: 0.055\n",
            "[219,    50] loss: 0.045\n",
            "[219,   100] loss: 0.037\n",
            "[219,   150] loss: 0.054\n",
            "[220,    50] loss: 0.029\n",
            "[220,   100] loss: 0.037\n",
            "[220,   150] loss: 0.043\n",
            "[221,    50] loss: 0.039\n",
            "[221,   100] loss: 0.040\n",
            "[221,   150] loss: 0.037\n",
            "[222,    50] loss: 0.042\n",
            "[222,   100] loss: 0.055\n",
            "[222,   150] loss: 0.054\n",
            "[223,    50] loss: 0.035\n",
            "[223,   100] loss: 0.042\n",
            "[223,   150] loss: 0.046\n",
            "[224,    50] loss: 0.047\n",
            "[224,   100] loss: 0.031\n",
            "[224,   150] loss: 0.057\n",
            "[225,    50] loss: 0.036\n",
            "[225,   100] loss: 0.033\n",
            "[225,   150] loss: 0.031\n",
            "[226,    50] loss: 0.039\n",
            "[226,   100] loss: 0.046\n",
            "[226,   150] loss: 0.041\n",
            "[227,    50] loss: 0.034\n",
            "[227,   100] loss: 0.035\n",
            "[227,   150] loss: 0.043\n",
            "[228,    50] loss: 0.048\n",
            "[228,   100] loss: 0.045\n",
            "[228,   150] loss: 0.045\n",
            "[229,    50] loss: 0.024\n",
            "[229,   100] loss: 0.032\n",
            "[229,   150] loss: 0.052\n",
            "[230,    50] loss: 0.042\n",
            "[230,   100] loss: 0.035\n",
            "[230,   150] loss: 0.042\n",
            "[231,    50] loss: 0.038\n",
            "[231,   100] loss: 0.030\n",
            "[231,   150] loss: 0.037\n",
            "[232,    50] loss: 0.045\n",
            "[232,   100] loss: 0.047\n",
            "[232,   150] loss: 0.037\n",
            "[233,    50] loss: 0.032\n",
            "[233,   100] loss: 0.029\n",
            "[233,   150] loss: 0.040\n",
            "[234,    50] loss: 0.045\n",
            "[234,   100] loss: 0.045\n",
            "[234,   150] loss: 0.044\n",
            "[235,    50] loss: 0.032\n",
            "[235,   100] loss: 0.037\n",
            "[235,   150] loss: 0.047\n",
            "[236,    50] loss: 0.029\n",
            "[236,   100] loss: 0.033\n",
            "[236,   150] loss: 0.032\n",
            "[237,    50] loss: 0.039\n",
            "[237,   100] loss: 0.053\n",
            "[237,   150] loss: 0.044\n",
            "[238,    50] loss: 0.033\n",
            "[238,   100] loss: 0.033\n",
            "[238,   150] loss: 0.035\n",
            "[239,    50] loss: 0.037\n",
            "[239,   100] loss: 0.037\n",
            "[239,   150] loss: 0.049\n",
            "[240,    50] loss: 0.023\n",
            "[240,   100] loss: 0.024\n",
            "[240,   150] loss: 0.047\n",
            "[241,    50] loss: 0.043\n",
            "[241,   100] loss: 0.032\n",
            "[241,   150] loss: 0.053\n",
            "[242,    50] loss: 0.028\n",
            "[242,   100] loss: 0.020\n",
            "[242,   150] loss: 0.029\n",
            "Finished Training\n"
          ],
          "name": "stdout"
        }
      ]
    },
    {
      "cell_type": "code",
      "metadata": {
        "id": "IxXbhlbEacsW",
        "colab": {
          "base_uri": "https://localhost:8080/"
        },
        "outputId": "a5762205-8f3c-4103-ddb6-500ce387cdda"
      },
      "source": [
        "correct = 0\n",
        "total = 0\n",
        "with torch.no_grad():\n",
        "    for data in trainloader:\n",
        "        images, labels = data\n",
        "        images, labels = images.to(\"cuda\"), labels.to(\"cuda\")\n",
        "        outputs = inc(images)\n",
        "        _, predicted = torch.max(outputs.data, 1)\n",
        "        total += labels.size(0)\n",
        "        correct += (predicted == labels).sum().item()\n",
        "\n",
        "print('Accuracy of the network on the 60000 train images: %d %%' % (\n",
        "    100 * correct / total))"
      ],
      "execution_count": 287,
      "outputs": [
        {
          "output_type": "stream",
          "text": [
            "Accuracy of the network on the 60000 train images: 98 %\n"
          ],
          "name": "stdout"
        }
      ]
    },
    {
      "cell_type": "code",
      "metadata": {
        "id": "U2kQXLzgacsa",
        "colab": {
          "base_uri": "https://localhost:8080/"
        },
        "outputId": "58d6f905-bb55-4e4e-f315-4b68d01b8751"
      },
      "source": [
        "total,correct"
      ],
      "execution_count": 288,
      "outputs": [
        {
          "output_type": "execute_result",
          "data": {
            "text/plain": [
              "(47000, 46426)"
            ]
          },
          "metadata": {
            "tags": []
          },
          "execution_count": 288
        }
      ]
    },
    {
      "cell_type": "code",
      "metadata": {
        "id": "5IcmEl2lacsd",
        "colab": {
          "base_uri": "https://localhost:8080/"
        },
        "outputId": "f8b72854-dd16-4fbe-c107-befc376c1651"
      },
      "source": [
        "correct = 0\n",
        "total = 0\n",
        "out = []\n",
        "pred = []\n",
        "with torch.no_grad():\n",
        "    for data in testloader:\n",
        "        images, labels = data\n",
        "        images, labels = images.to(\"cuda\"),labels.to(\"cuda\")\n",
        "        out.append(labels.cpu().numpy())\n",
        "        outputs= inc(images)\n",
        "        _, predicted = torch.max(outputs.data, 1)\n",
        "        pred.append(predicted.cpu().numpy())\n",
        "        total += labels.size(0)\n",
        "        correct += (predicted == labels).sum().item()\n",
        "\n",
        "print('Accuracy of the network on the 10000 test images: %d %%' % (\n",
        "    100 * correct / total))"
      ],
      "execution_count": 289,
      "outputs": [
        {
          "output_type": "stream",
          "text": [
            "Accuracy of the network on the 10000 test images: 20 %\n"
          ],
          "name": "stdout"
        }
      ]
    },
    {
      "cell_type": "code",
      "metadata": {
        "id": "KrlBRcSQacsg"
      },
      "source": [
        "out = np.concatenate(out,axis=0)"
      ],
      "execution_count": 290,
      "outputs": []
    },
    {
      "cell_type": "code",
      "metadata": {
        "id": "EWyBhOPlacsi"
      },
      "source": [
        "pred = np.concatenate(pred,axis=0)"
      ],
      "execution_count": 291,
      "outputs": []
    },
    {
      "cell_type": "code",
      "metadata": {
        "id": "IJ1F7Lfdacsl",
        "colab": {
          "base_uri": "https://localhost:8080/"
        },
        "outputId": "af202921-2800-4c91-ace4-d8cc0c3ec938"
      },
      "source": [
        "index = np.logical_or(out ==1,out==0)\n",
        "print(index.shape)"
      ],
      "execution_count": 292,
      "outputs": [
        {
          "output_type": "stream",
          "text": [
            "(10000,)\n"
          ],
          "name": "stdout"
        }
      ]
    },
    {
      "cell_type": "code",
      "metadata": {
        "id": "h7PmLPkGacsn",
        "colab": {
          "base_uri": "https://localhost:8080/"
        },
        "outputId": "8dfd7560-9869-4916-93f7-d4d14b7fba25"
      },
      "source": [
        "acc = sum(out[index] == pred[index])/sum(index)\n",
        "print('Accuracy of the network on the 10000 test images: %d %%' % (\n",
        "    100*acc))"
      ],
      "execution_count": 293,
      "outputs": [
        {
          "output_type": "stream",
          "text": [
            "Accuracy of the network on the 10000 test images: 98 %\n"
          ],
          "name": "stdout"
        }
      ]
    },
    {
      "cell_type": "code",
      "metadata": {
        "id": "fvCi8x41acsq",
        "colab": {
          "base_uri": "https://localhost:8080/"
        },
        "outputId": "f182383b-8d5a-4cef-a5be-f6b297457222"
      },
      "source": [
        "\n",
        "sum(index)"
      ],
      "execution_count": 294,
      "outputs": [
        {
          "output_type": "execute_result",
          "data": {
            "text/plain": [
              "2115"
            ]
          },
          "metadata": {
            "tags": []
          },
          "execution_count": 294
        }
      ]
    },
    {
      "cell_type": "code",
      "metadata": {
        "id": "bdGNgi62acss",
        "colab": {
          "base_uri": "https://localhost:8080/"
        },
        "outputId": "add4485e-414d-487c-f132-23c9c0246df3"
      },
      "source": [
        "import random\n",
        "random.sample([1,2,3,4,5,6,7,8],5)"
      ],
      "execution_count": 295,
      "outputs": [
        {
          "output_type": "execute_result",
          "data": {
            "text/plain": [
              "[4, 7, 8, 3, 5]"
            ]
          },
          "metadata": {
            "tags": []
          },
          "execution_count": 295
        }
      ]
    },
    {
      "cell_type": "code",
      "metadata": {
        "id": "KBZqLh7heULT"
      },
      "source": [
        "# torch.save(inc.state_dict(),\"/content/drive/My Drive/model_simple_8000.pkl\")"
      ],
      "execution_count": 296,
      "outputs": []
    },
    {
      "cell_type": "code",
      "metadata": {
        "id": "JgLuOIeLeUHk",
        "colab": {
          "base_uri": "https://localhost:8080/",
          "height": 279
        },
        "outputId": "b7e721fc-1c3f-4a6d-c454-b77a00eb86a4"
      },
      "source": [
        "fig = plt.figure()\n",
        "plt.plot(loss_curi,label=\"loss_Curve\")\n",
        "plt.xlabel(\"epochs\")\n",
        "plt.ylabel(\"training_loss\")\n",
        "plt.legend()\n",
        "fig.savefig(\"loss_curve.pdf\") "
      ],
      "execution_count": 297,
      "outputs": [
        {
          "output_type": "display_data",
          "data": {
            "image/png": "[encoded data removed]",
            "text/plain": [
              "<Figure size 432x288 with 1 Axes>"
            ]
          },
          "metadata": {
            "tags": [],
            "needs_background": "light"
          }
        }
      ]
    },
    {
      "cell_type": "code",
      "metadata": {
        "id": "pZhSFZLeeXeO"
      },
      "source": [
        ""
      ],
      "execution_count": 297,
      "outputs": []
    },
    {
      "cell_type": "markdown",
      "metadata": {
        "id": "p9IrsRjWNZvw"
      },
      "source": [
        "Simple Model 3 Inception Module\n",
        "\n",
        "|true training data  | Corr Training Data | Test Accuracy | Test Accuracy 0-1 | \n",
        "| ------------------ | ------------------ | ------------- | ----------------- |\n",
        "| 100   | 47335  | 15  |  75 |\n",
        "| 500   | 47335  | 16  |  80 | \n",
        "| 1000  | 47335  | 17  | 83  | \n",
        "| 2000  | 47335  | 19 | 92 | \n",
        "| 4000  | 47335  | 20 | 95  | \n",
        "| 6000  | 47335  |  20 | 96  | \n",
        "| 8000  | 47335  | 20  |  96 | \n",
        "| 12665 | 47335  | 20 | 98  | \n",
        "\n",
        "\n",
        "|   Total Training Data       |   Training Accuracy      |\n",
        "|---------------------------- | ------------------------ |\n",
        "| 47435         | 100 |\n",
        "| 47835         | 100 |\n",
        "| 48335         | 100 |\n",
        "| 49335         | 100 | \n",
        "| 51335         | 100 |\n",
        "| 53335         | 100 |\n",
        "| 55335         | 100 |\n",
        "| 60000         | 100 |"
      ]
    },
    {
      "cell_type": "markdown",
      "metadata": {
        "id": "u6XhWXz3sYcx"
      },
      "source": [
        "Mini- Inception network 8 Inception Modules\n",
        "\n",
        "|true training data  | Corr Training Data | Test Accuracy | Test Accuracy 0-1 | \n",
        "| ------------------ | ------------------ | ------------- | ----------------- |\n",
        "| 100   | 47335  | 14  | 69  |\n",
        "| 500   | 47335  | 19  | 90  | \n",
        "| 1000  | 47335  | 19  |  92 | \n",
        "| 2000  | 47335  | 20  | 95  | \n",
        "| 4000  | 47335  | 20  |  97 | \n",
        "| 6000  | 47335  | 20  | 97  | \n",
        "| 8000  | 47335  | 20  |  98 | \n",
        "| 12665 | 47335  | 20  | 99  | "
      ]
    },
    {
      "cell_type": "markdown",
      "metadata": {
        "id": "d05DCw3Jw9Am"
      },
      "source": [
        "|   Total Training Data       |   Training Accuracy      |\n",
        "|---------------------------- | ------------------------ |\n",
        "| 47435         | 100 |\n",
        "| 47835         | 100 |\n",
        "| 48335         | 100 |\n",
        "| 49335         | 100 | \n",
        "| 51335         | 100 |\n",
        "| 53335         | 100 |\n",
        "| 55335         | 100 |\n",
        "| 60000         | 100 |"
      ]
    },
    {
      "cell_type": "code",
      "metadata": {
        "id": "NuAy-cU0sY9z"
      },
      "source": [
        ""
      ],
      "execution_count": 297,
      "outputs": []
    }
  ]
}