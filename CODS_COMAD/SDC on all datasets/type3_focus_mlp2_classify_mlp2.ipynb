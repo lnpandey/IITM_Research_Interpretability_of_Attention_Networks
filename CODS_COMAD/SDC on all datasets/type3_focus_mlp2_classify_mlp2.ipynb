{
  "nbformat": 4,
  "nbformat_minor": 0,
  "metadata": {
    "accelerator": "GPU",
    "colab": {
      "name": "type3_focus_mlp2_classify_mlp2.ipynb",
      "provenance": [],
      "collapsed_sections": []
    },
    "kernelspec": {
      "display_name": "Python 3",
      "language": "python",
      "name": "python3"
    },
    "language_info": {
      "codemirror_mode": {
        "name": "ipython",
        "version": 3
      },
      "file_extension": ".py",
      "mimetype": "text/x-python",
      "name": "python",
      "nbconvert_exporter": "python",
      "pygments_lexer": "ipython3",
      "version": "3.6.5"
    }
  },
  "cells": [
    {
      "cell_type": "code",
      "metadata": {
        "colab": {
          "base_uri": "https://localhost:8080/"
        },
        "id": "PVO3ASMSm8Bx",
        "outputId": "459faaa6-0059-4b91-eb1d-fa8ac1ee4cfc"
      },
      "source": [
        "from google.colab import drive\n",
        "drive.mount('/content/drive')"
      ],
      "execution_count": 113,
      "outputs": [
        {
          "output_type": "stream",
          "text": [
            "Drive already mounted at /content/drive; to attempt to forcibly remount, call drive.mount(\"/content/drive\", force_remount=True).\n"
          ],
          "name": "stdout"
        }
      ]
    },
    {
      "cell_type": "code",
      "metadata": {
        "id": "uLrd5bwInAd1"
      },
      "source": [
        "path=\"/content/drive/MyDrive/Research/cods_comad_plots/SDC/dataset_3/\""
      ],
      "execution_count": 114,
      "outputs": []
    },
    {
      "cell_type": "code",
      "metadata": {
        "colab": {
          "base_uri": "https://localhost:8080/"
        },
        "id": "N2_J4Rw2r0SQ",
        "outputId": "ace4ee3f-05ad-4e7d-dc4e-f9bff4f21aed"
      },
      "source": [
        "import numpy as np\n",
        "import pandas as pd\n",
        "from matplotlib import pyplot as plt\n",
        "from tqdm import tqdm\n",
        "%matplotlib inline\n",
        "from torch.utils.data import Dataset, DataLoader\n",
        "import torch\n",
        "import torchvision\n",
        "\n",
        "import torch.nn as nn\n",
        "import torch.optim as optim\n",
        "from torch.nn import functional as F\n",
        "device = torch.device(\"cuda\" if torch.cuda.is_available() else \"cpu\")\n",
        "print(device)"
      ],
      "execution_count": 115,
      "outputs": [
        {
          "output_type": "stream",
          "text": [
            "cuda\n"
          ],
          "name": "stdout"
        }
      ]
    },
    {
      "cell_type": "markdown",
      "metadata": {
        "id": "F6fjud_Fr0Sa"
      },
      "source": [
        "# Generate dataset"
      ]
    },
    {
      "cell_type": "code",
      "metadata": {
        "colab": {
          "base_uri": "https://localhost:8080/"
        },
        "id": "CqdXHO0Cr0Sd",
        "outputId": "d5b8d02d-73e0-4f9f-ad32-8c7cb17929b3"
      },
      "source": [
        "np.random.seed(12)\n",
        "y = np.random.randint(0,10,5000)\n",
        "idx= []\n",
        "for i in range(10):\n",
        "    print(i,sum(y==i))\n",
        "    idx.append(y==i)"
      ],
      "execution_count": 116,
      "outputs": [
        {
          "output_type": "stream",
          "text": [
            "0 530\n",
            "1 463\n",
            "2 494\n",
            "3 517\n",
            "4 488\n",
            "5 497\n",
            "6 493\n",
            "7 507\n",
            "8 492\n",
            "9 519\n"
          ],
          "name": "stdout"
        }
      ]
    },
    {
      "cell_type": "code",
      "metadata": {
        "id": "ddhXyODwr0Sk"
      },
      "source": [
        "x = np.zeros((5000,2))"
      ],
      "execution_count": 117,
      "outputs": []
    },
    {
      "cell_type": "code",
      "metadata": {
        "id": "DyV3N2DIr0Sp"
      },
      "source": [
        "np.random.seed(12)\n",
        "x[idx[0],:] = np.random.multivariate_normal(mean = [5,5],cov=[[0.1,0],[0,0.1]],size=sum(idx[0]))\n",
        "x[idx[1],:] = np.random.multivariate_normal(mean = [6,6],cov=[[0.1,0],[0,0.1]],size=sum(idx[1]))\n",
        "x[idx[2],:] = np.random.multivariate_normal(mean = [5.5,6.5],cov=[[0.1,0],[0,0.1]],size=sum(idx[2]))\n",
        "x[idx[3],:] = np.random.multivariate_normal(mean = [-1,0],cov=[[0.1,0],[0,0.1]],size=sum(idx[3]))\n",
        "x[idx[4],:] = np.random.multivariate_normal(mean = [0,2],cov=[[0.1,0],[0,0.1]],size=sum(idx[4]))\n",
        "x[idx[5],:] = np.random.multivariate_normal(mean = [1,0],cov=[[0.1,0],[0,0.1]],size=sum(idx[5]))\n",
        "x[idx[6],:] = np.random.multivariate_normal(mean = [0,-1],cov=[[0.1,0],[0,0.1]],size=sum(idx[6]))\n",
        "x[idx[7],:] = np.random.multivariate_normal(mean = [0,0],cov=[[0.1,0],[0,0.1]],size=sum(idx[7]))\n",
        "x[idx[8],:] = np.random.multivariate_normal(mean = [-0.5,-0.5],cov=[[0.1,0],[0,0.1]],size=sum(idx[8]))\n",
        "x[idx[9],:] = np.random.multivariate_normal(mean = [0.4,0.2],cov=[[0.1,0],[0,0.1]],size=sum(idx[9]))"
      ],
      "execution_count": 118,
      "outputs": []
    },
    {
      "cell_type": "code",
      "metadata": {
        "colab": {
          "base_uri": "https://localhost:8080/"
        },
        "id": "qh1mDScsU07I",
        "outputId": "d21836dc-01f8-4ab1-b803-0c4e3cf7af51"
      },
      "source": [
        "x[idx[0]][0], x[idx[5]][5] "
      ],
      "execution_count": 119,
      "outputs": [
        {
          "output_type": "execute_result",
          "data": {
            "text/plain": [
              "(array([5.14957125, 4.78451422]), array([0.87756167, 0.00457805]))"
            ]
          },
          "metadata": {
            "tags": []
          },
          "execution_count": 119
        }
      ]
    },
    {
      "cell_type": "code",
      "metadata": {
        "colab": {
          "base_uri": "https://localhost:8080/",
          "height": 284
        },
        "id": "9Vr5ErQ_wSrV",
        "outputId": "57ccd805-0fec-4bd0-bdd6-070c930ff5b2"
      },
      "source": [
        "for i in range(10):\n",
        "    plt.scatter(x[idx[i],0],x[idx[i],1],label=\"class_\"+str(i))\n",
        "plt.legend(loc='center left', bbox_to_anchor=(1, 0.5))"
      ],
      "execution_count": 120,
      "outputs": [
        {
          "output_type": "execute_result",
          "data": {
            "text/plain": [
              "<matplotlib.legend.Legend at 0x7fe9e169ae50>"
            ]
          },
          "metadata": {
            "tags": []
          },
          "execution_count": 120
        },
        {
          "output_type": "display_data",
          "data": {
            "image/png": "[encoded data removed]",
            "text/plain": [
              "<Figure size 432x288 with 1 Axes>"
            ]
          },
          "metadata": {
            "tags": [],
            "needs_background": "light"
          }
        }
      ]
    },
    {
      "cell_type": "code",
      "metadata": {
        "id": "NG-3RpffwU_i",
        "colab": {
          "base_uri": "https://localhost:8080/"
        },
        "outputId": "d10f29a9-599c-4a38-997e-eafeb14d010d"
      },
      "source": [
        "bg_idx = [ np.where(idx[3] == True)[0], \n",
        "          np.where(idx[4] == True)[0], \n",
        "          np.where(idx[5] == True)[0],\n",
        "          np.where(idx[6] == True)[0], \n",
        "          np.where(idx[7] == True)[0], \n",
        "          np.where(idx[8] == True)[0],\n",
        "          np.where(idx[9] == True)[0]]\n",
        "\n",
        "bg_idx = np.concatenate(bg_idx, axis = 0)\n",
        "bg_idx.shape"
      ],
      "execution_count": 121,
      "outputs": [
        {
          "output_type": "execute_result",
          "data": {
            "text/plain": [
              "(3513,)"
            ]
          },
          "metadata": {
            "tags": []
          },
          "execution_count": 121
        }
      ]
    },
    {
      "cell_type": "code",
      "metadata": {
        "colab": {
          "base_uri": "https://localhost:8080/"
        },
        "id": "_0JKKUdwoo9b",
        "outputId": "bb34a869-24d0-491b-f038-34048770550c"
      },
      "source": [
        "np.unique(bg_idx).shape"
      ],
      "execution_count": 122,
      "outputs": [
        {
          "output_type": "execute_result",
          "data": {
            "text/plain": [
              "(3513,)"
            ]
          },
          "metadata": {
            "tags": []
          },
          "execution_count": 122
        }
      ]
    },
    {
      "cell_type": "code",
      "metadata": {
        "id": "6LA5i3Droo60"
      },
      "source": [
        "x = x - np.mean(x[bg_idx], axis = 0, keepdims = True)\n"
      ],
      "execution_count": 123,
      "outputs": []
    },
    {
      "cell_type": "code",
      "metadata": {
        "colab": {
          "base_uri": "https://localhost:8080/"
        },
        "id": "s5tfCDfHoo3-",
        "outputId": "b7901364-edd3-4ad0-f975-3329fa5e196f"
      },
      "source": [
        "np.mean(x[bg_idx], axis = 0, keepdims = True), np.mean(x, axis = 0, keepdims = True)"
      ],
      "execution_count": 124,
      "outputs": [
        {
          "output_type": "execute_result",
          "data": {
            "text/plain": [
              "(array([[-1.04275003e-16,  6.74571889e-17]]),\n",
              " array([[1.63261967, 1.69552644]]))"
            ]
          },
          "metadata": {
            "tags": []
          },
          "execution_count": 124
        }
      ]
    },
    {
      "cell_type": "code",
      "metadata": {
        "id": "TpSAZtqzoo1F"
      },
      "source": [
        "x = x/np.std(x[bg_idx], axis = 0, keepdims = True)"
      ],
      "execution_count": 125,
      "outputs": []
    },
    {
      "cell_type": "code",
      "metadata": {
        "colab": {
          "base_uri": "https://localhost:8080/"
        },
        "id": "NsrCmT8IovQv",
        "outputId": "56737488-907c-4606-bf22-e4aa73374aef"
      },
      "source": [
        "np.std(x[bg_idx], axis = 0, keepdims = True), np.std(x, axis = 0, keepdims = True)"
      ],
      "execution_count": 126,
      "outputs": [
        {
          "output_type": "execute_result",
          "data": {
            "text/plain": [
              "(array([[1., 1.]]), array([[3.93071885, 3.03840862]]))"
            ]
          },
          "metadata": {
            "tags": []
          },
          "execution_count": 126
        }
      ]
    },
    {
      "cell_type": "code",
      "metadata": {
        "colab": {
          "base_uri": "https://localhost:8080/",
          "height": 284
        },
        "id": "hJ8Jm7YUr0St",
        "outputId": "5d958d89-2655-4a94-87fe-ad1789055718"
      },
      "source": [
        "for i in range(10):\n",
        "    plt.scatter(x[idx[i],0],x[idx[i],1],label=\"class_\"+str(i))\n",
        "plt.legend(loc='center left', bbox_to_anchor=(1, 0.5))"
      ],
      "execution_count": 127,
      "outputs": [
        {
          "output_type": "execute_result",
          "data": {
            "text/plain": [
              "<matplotlib.legend.Legend at 0x7fe9e15e8590>"
            ]
          },
          "metadata": {
            "tags": []
          },
          "execution_count": 127
        },
        {
          "output_type": "display_data",
          "data": {
            "image/png": "[encoded data removed]",
            "text/plain": [
              "<Figure size 432x288 with 1 Axes>"
            ]
          },
          "metadata": {
            "tags": [],
            "needs_background": "light"
          }
        }
      ]
    },
    {
      "cell_type": "code",
      "metadata": {
        "id": "3lMBZEHNBlF2"
      },
      "source": [
        "foreground_classes = {'class_0','class_1', 'class_2'}\n",
        "\n",
        "background_classes = {'class_3','class_4', 'class_5', 'class_6','class_7', 'class_8', 'class_9'}"
      ],
      "execution_count": 128,
      "outputs": []
    },
    {
      "cell_type": "code",
      "metadata": {
        "colab": {
          "base_uri": "https://localhost:8080/"
        },
        "id": "blRbGZHeCwXU",
        "outputId": "f62a9cd3-a802-407b-b651-fa014f2195d6"
      },
      "source": [
        "fg_class  = np.random.randint(0,3)\n",
        "fg_idx = np.random.randint(0,9)\n",
        "\n",
        "a = []\n",
        "for i in range(9):\n",
        "    if i == fg_idx:\n",
        "        b = np.random.choice(np.where(idx[fg_class]==True)[0],size=1)\n",
        "        a.append(x[b])\n",
        "        print(\"foreground \"+str(fg_class)+\" present at \" + str(fg_idx))\n",
        "    else:\n",
        "        bg_class = np.random.randint(3,10)\n",
        "        b = np.random.choice(np.where(idx[bg_class]==True)[0],size=1)\n",
        "        a.append(x[b])\n",
        "        print(\"background \"+str(bg_class)+\" present at \" + str(i))\n",
        "a = np.concatenate(a,axis=0)\n",
        "print(a.shape)\n",
        "\n",
        "print(fg_class , fg_idx)"
      ],
      "execution_count": 129,
      "outputs": [
        {
          "output_type": "stream",
          "text": [
            "background 5 present at 0\n",
            "background 6 present at 1\n",
            "foreground 2 present at 2\n",
            "background 5 present at 3\n",
            "background 3 present at 4\n",
            "background 5 present at 5\n",
            "background 7 present at 6\n",
            "background 6 present at 7\n",
            "background 5 present at 8\n",
            "(9, 2)\n",
            "2 2\n"
          ],
          "name": "stdout"
        }
      ]
    },
    {
      "cell_type": "code",
      "metadata": {
        "id": "Y43sWeX7C15F",
        "colab": {
          "base_uri": "https://localhost:8080/"
        },
        "outputId": "1e530b0c-44fc-4ec1-8fd1-49d495d0d552"
      },
      "source": [
        "a.shape"
      ],
      "execution_count": 130,
      "outputs": [
        {
          "output_type": "execute_result",
          "data": {
            "text/plain": [
              "(9, 2)"
            ]
          },
          "metadata": {
            "tags": []
          },
          "execution_count": 130
        }
      ]
    },
    {
      "cell_type": "code",
      "metadata": {
        "colab": {
          "base_uri": "https://localhost:8080/"
        },
        "id": "ooII7N6UDWe0",
        "outputId": "2897b26b-670f-4ed0-de29-f2045d81a9d9"
      },
      "source": [
        "np.reshape(a,(18,1)) #not required"
      ],
      "execution_count": 131,
      "outputs": [
        {
          "output_type": "execute_result",
          "data": {
            "text/plain": [
              "array([[ 1.52560273],\n",
              "       [-0.1298488 ],\n",
              "       [-0.4226508 ],\n",
              "       [-1.2003313 ],\n",
              "       [ 8.5153438 ],\n",
              "       [ 7.02349438],\n",
              "       [ 2.09728368],\n",
              "       [-0.24465132],\n",
              "       [-0.98608769],\n",
              "       [-0.75123246],\n",
              "       [ 1.37297554],\n",
              "       [-0.37673308],\n",
              "       [-0.88469208],\n",
              "       [-0.11155199],\n",
              "       [ 0.32308641],\n",
              "       [-1.23774128],\n",
              "       [ 1.37297554],\n",
              "       [-0.37673308]])"
            ]
          },
          "metadata": {
            "tags": []
          },
          "execution_count": 131
        }
      ]
    },
    {
      "cell_type": "code",
      "metadata": {
        "id": "g21bvPRYDL9k",
        "colab": {
          "base_uri": "https://localhost:8080/",
          "height": 284
        },
        "outputId": "505afaad-454d-4940-e70f-07ebcff96b18"
      },
      "source": [
        "a=np.reshape(a,(9,2))\n",
        "\n",
        "plt.imshow(a)"
      ],
      "execution_count": 132,
      "outputs": [
        {
          "output_type": "execute_result",
          "data": {
            "text/plain": [
              "<matplotlib.image.AxesImage at 0x7fe9e1549bd0>"
            ]
          },
          "metadata": {
            "tags": []
          },
          "execution_count": 132
        },
        {
          "output_type": "display_data",
          "data": {
            "image/png": "[encoded data removed]",
            "text/plain": [
              "<Figure size 432x288 with 1 Axes>"
            ]
          },
          "metadata": {
            "tags": [],
            "needs_background": "light"
          }
        }
      ]
    },
    {
      "cell_type": "code",
      "metadata": {
        "id": "OplNpNQVr0S2"
      },
      "source": [
        "desired_num = 2000\n",
        "mosaic_list_of_images =[]\n",
        "mosaic_label = []\n",
        "fore_idx=[]\n",
        "for j in range(desired_num):\n",
        "    np.random.seed(j)\n",
        "    fg_class  = np.random.randint(0,3)\n",
        "    fg_idx = np.random.randint(0,9)\n",
        "    a = []\n",
        "    for i in range(9):\n",
        "        if i == fg_idx:\n",
        "            b = np.random.choice(np.where(idx[fg_class]==True)[0],size=1)\n",
        "            a.append(x[b])\n",
        "#             print(\"foreground \"+str(fg_class)+\" present at \" + str(fg_idx))\n",
        "        else:\n",
        "            bg_class = np.random.randint(3,10)\n",
        "            b = np.random.choice(np.where(idx[bg_class]==True)[0],size=1)\n",
        "            a.append(x[b])\n",
        "#             print(\"background \"+str(bg_class)+\" present at \" + str(i))\n",
        "    a = np.concatenate(a,axis=0)\n",
        "    mosaic_list_of_images.append(a)\n",
        "    mosaic_label.append(fg_class)\n",
        "    fore_idx.append(fg_idx)"
      ],
      "execution_count": 133,
      "outputs": []
    },
    {
      "cell_type": "code",
      "metadata": {
        "id": "dwZVmmRBr0S8"
      },
      "source": [
        "# mosaic_list_of_images = np.concatenate(mosaic_list_of_images,axis=1).T\n"
      ],
      "execution_count": 134,
      "outputs": []
    },
    {
      "cell_type": "code",
      "metadata": {
        "colab": {
          "base_uri": "https://localhost:8080/"
        },
        "id": "OoxzYI-ur0S_",
        "outputId": "2ea25da6-6208-4e7a-8827-3a5d71eac6cc"
      },
      "source": [
        "len(mosaic_list_of_images), mosaic_list_of_images[0]"
      ],
      "execution_count": 135,
      "outputs": [
        {
          "output_type": "execute_result",
          "data": {
            "text/plain": [
              "(2000, array([[-1.62022144,  0.11407722],\n",
              "        [ 0.50044544,  1.71315143],\n",
              "        [-0.72603666, -0.68240088],\n",
              "        [ 0.34070696,  0.0288995 ],\n",
              "        [ 0.71631136, -0.14262169],\n",
              "        [ 8.2380912 ,  5.87796794],\n",
              "        [ 1.24086849, -0.14745404],\n",
              "        [ 0.70237352,  0.29618561],\n",
              "        [ 0.22554429,  0.19892312]]))"
            ]
          },
          "metadata": {
            "tags": []
          },
          "execution_count": 135
        }
      ]
    },
    {
      "cell_type": "code",
      "metadata": {
        "colab": {
          "base_uri": "https://localhost:8080/"
        },
        "id": "Nbefu9LEnMu1",
        "outputId": "8a5e2c55-024c-4d8a-a8fe-8352737a63b7"
      },
      "source": [
        "mosaic_list_of_images_reshaped = np.reshape(mosaic_list_of_images, (2000,9,2))\n",
        "mean_train = np.mean(mosaic_list_of_images_reshaped[0:1000], axis=0, keepdims= True)\n",
        "print(mean_train.shape, mean_train)\n",
        "std_train = np.std(mosaic_list_of_images_reshaped[0:1000], axis=0, keepdims= True)\n",
        "print(std_train.shape, std_train)\n",
        "\n"
      ],
      "execution_count": 136,
      "outputs": [
        {
          "output_type": "stream",
          "text": [
            "(1, 9, 2) [[[1.04701735 0.79026777]\n",
            "  [0.99547395 0.83600726]\n",
            "  [0.97749982 0.73679887]\n",
            "  [1.00822732 0.77856176]\n",
            "  [0.90516311 0.66827389]\n",
            "  [0.91422466 0.67599088]\n",
            "  [0.98464597 0.71921967]\n",
            "  [0.92614737 0.71352293]\n",
            "  [0.92165627 0.69056608]]]\n",
            "(1, 9, 2) [[[2.85278682 2.24907562]\n",
            "  [2.85326479 2.25621769]\n",
            "  [2.84794039 2.26546119]\n",
            "  [2.8808435  2.2856376 ]\n",
            "  [2.73527328 2.15939348]\n",
            "  [2.77350541 2.20945159]\n",
            "  [2.78075744 2.1967366 ]\n",
            "  [2.76777997 2.25477549]\n",
            "  [2.70067785 2.16831973]]]\n"
          ],
          "name": "stdout"
        }
      ]
    },
    {
      "cell_type": "code",
      "metadata": {
        "id": "yldL3sUvnMsE"
      },
      "source": [
        "mosaic_list_of_images = ( mosaic_list_of_images_reshaped - mean_train ) / std_train"
      ],
      "execution_count": 137,
      "outputs": []
    },
    {
      "cell_type": "code",
      "metadata": {
        "colab": {
          "base_uri": "https://localhost:8080/"
        },
        "id": "qWboEmnwnX_r",
        "outputId": "134a70d2-3a91-4509-e13d-0968452a7e53"
      },
      "source": [
        "print(np.mean(mosaic_list_of_images[0:1000], axis=0, keepdims= True))\n",
        "\n",
        "print(np.std(mosaic_list_of_images[0:1000], axis=0, keepdims= True))"
      ],
      "execution_count": 138,
      "outputs": [
        {
          "output_type": "stream",
          "text": [
            "[[[-2.73336909e-16 -5.42899059e-17]\n",
            "  [-8.75965966e-17 -4.74731365e-16]\n",
            "  [-2.23099317e-16 -4.38538095e-16]\n",
            "  [ 2.81996648e-16  3.13804538e-16]\n",
            "  [ 1.55875313e-16 -2.43360887e-16]\n",
            "  [ 2.44249065e-16  3.76143561e-16]\n",
            "  [ 2.61318744e-17  6.72129019e-16]\n",
            "  [ 2.93209901e-16  2.67619260e-16]\n",
            "  [ 1.47132306e-16 -3.11972670e-17]]]\n",
            "[[[1. 1.]\n",
            "  [1. 1.]\n",
            "  [1. 1.]\n",
            "  [1. 1.]\n",
            "  [1. 1.]\n",
            "  [1. 1.]\n",
            "  [1. 1.]\n",
            "  [1. 1.]\n",
            "  [1. 1.]]]\n"
          ],
          "name": "stdout"
        }
      ]
    },
    {
      "cell_type": "code",
      "metadata": {
        "colab": {
          "base_uri": "https://localhost:8080/"
        },
        "id": "88zCElC_naib",
        "outputId": "322a6bac-5a26-439a-e97e-00fcefc88f6b"
      },
      "source": [
        "print(np.mean(mosaic_list_of_images[1000:2000], axis=0, keepdims= True))\n",
        "\n",
        "print(np.std(mosaic_list_of_images[1000:2000], axis=0, keepdims= True))"
      ],
      "execution_count": 139,
      "outputs": [
        {
          "output_type": "stream",
          "text": [
            "[[[-0.02016807 -0.02119273]\n",
            "  [ 0.01601034 -0.01376   ]\n",
            "  [-0.00274628  0.00311453]\n",
            "  [ 0.00413155 -0.00944241]\n",
            "  [-0.0502883  -0.03638878]\n",
            "  [-0.00938825  0.01935467]\n",
            "  [-0.00108587  0.00761862]\n",
            "  [-0.03241195 -0.05409312]\n",
            "  [-0.03516761 -0.01676287]]]\n",
            "[[[0.98740625 0.99103505]\n",
            "  [1.03274344 1.01777537]\n",
            "  [0.9960355  0.99079995]\n",
            "  [0.99570229 0.99596594]\n",
            "  [0.96262172 0.97223987]\n",
            "  [1.01993176 1.00476581]\n",
            "  [1.03373143 1.02810669]\n",
            "  [0.97171713 0.93887409]\n",
            "  [1.00935444 0.99404134]]]\n"
          ],
          "name": "stdout"
        }
      ]
    },
    {
      "cell_type": "code",
      "metadata": {
        "colab": {
          "base_uri": "https://localhost:8080/"
        },
        "id": "3DE8AXVAngEj",
        "outputId": "dd6705f6-4765-4d28-b130-2343320390e1"
      },
      "source": [
        "mosaic_list_of_images.shape"
      ],
      "execution_count": 140,
      "outputs": [
        {
          "output_type": "execute_result",
          "data": {
            "text/plain": [
              "(2000, 9, 2)"
            ]
          },
          "metadata": {
            "tags": []
          },
          "execution_count": 140
        }
      ]
    },
    {
      "cell_type": "code",
      "metadata": {
        "id": "iPoIwbMHx44n"
      },
      "source": [
        "class MosaicDataset(Dataset):\n",
        "  \"\"\"MosaicDataset dataset.\"\"\"\n",
        "\n",
        "  def __init__(self, mosaic_list_of_images, mosaic_label, fore_idx):\n",
        "    \"\"\"\n",
        "      Args:\n",
        "        csv_file (string): Path to the csv file with annotations.\n",
        "        root_dir (string): Directory with all the images.\n",
        "        transform (callable, optional): Optional transform to be applied\n",
        "            on a sample.\n",
        "    \"\"\"\n",
        "    self.mosaic = mosaic_list_of_images\n",
        "    self.label = mosaic_label\n",
        "    self.fore_idx = fore_idx\n",
        "\n",
        "  def __len__(self):\n",
        "    return len(self.label)\n",
        "\n",
        "  def __getitem__(self, idx):\n",
        "    return self.mosaic[idx] , self.label[idx], self.fore_idx[idx]\n",
        "\n"
      ],
      "execution_count": 141,
      "outputs": []
    },
    {
      "cell_type": "code",
      "metadata": {
        "id": "fOPAJQJeW8Ah"
      },
      "source": [
        "batch = 250\n",
        "msd1 = MosaicDataset(mosaic_list_of_images[0:1000], mosaic_label[0:1000] , fore_idx[0:1000])\n",
        "train_loader = DataLoader( msd1 ,batch_size= batch ,shuffle=True)"
      ],
      "execution_count": 142,
      "outputs": []
    },
    {
      "cell_type": "code",
      "metadata": {
        "id": "qjNiQgxZW8bA"
      },
      "source": [
        "batch = 250\n",
        "msd2 = MosaicDataset(mosaic_list_of_images[1000:2000], mosaic_label[1000:2000] , fore_idx[1000:2000])\n",
        "test_loader = DataLoader( msd2 ,batch_size= batch ,shuffle=True)"
      ],
      "execution_count": 143,
      "outputs": []
    },
    {
      "cell_type": "code",
      "metadata": {
        "id": "30ZAjix3x8CM"
      },
      "source": [
        "class Focus(nn.Module):\n",
        "  def __init__(self):\n",
        "    super(Focus, self).__init__()\n",
        "\n",
        "    self.fc1 = nn.Linear(2, 50, bias=False)\n",
        "    self.fc2 = nn.Linear(50, 10, bias=False)\n",
        "    self.fc3 = nn.Linear(10, 1, bias=False)\n",
        "    torch.nn.init.xavier_normal_(self.fc1.weight)\n",
        "    torch.nn.init.xavier_normal_(self.fc2.weight)\n",
        "    torch.nn.init.xavier_normal_(self.fc3.weight)\n",
        "\n",
        "  def forward(self,z):  #y is avg image #z batch of list of 9 images\n",
        "    y = torch.zeros([batch,2], dtype=torch.float64)\n",
        "    x = torch.zeros([batch,9],dtype=torch.float64)\n",
        "    y = y.to(\"cuda\")\n",
        "    x = x.to(\"cuda\")\n",
        "    # print(x.shape, z.shape)\n",
        "    for i in range(9):\n",
        "      # print(z[:,i].shape)\n",
        "      # print(self.helper(z[:,i])[:,0].shape)\n",
        "      x[:,i] = self.helper(z[:,i])[:,0]\n",
        "    # print(x.shape, z.shape)\n",
        "    x = F.softmax(x,dim=1)\n",
        "    # print(x.shape, z.shape)\n",
        "    # x1 = x[:,0]\n",
        "    # print(torch.mul(x[:,0],z[:,0]).shape)\n",
        "\n",
        "    for i in range(9):            \n",
        "      # x1 = x[:,i]          \n",
        "      y = y + torch.mul(x[:,i,None],z[:,i])\n",
        "\n",
        "    # print(x.shape, y.shape)\n",
        "    return x, y\n",
        "    \n",
        "  def helper(self, x):\n",
        "    x = x.view(-1, 2)\n",
        "    x = F.relu(self.fc1(x))\n",
        "    x = F.relu(self.fc2(x))\n",
        "    x = (self.fc3(x))\n",
        "\n",
        "    return x"
      ],
      "execution_count": 144,
      "outputs": []
    },
    {
      "cell_type": "code",
      "metadata": {
        "id": "0dYXnywAD-4l"
      },
      "source": [
        "class Classification(nn.Module):\n",
        "  def __init__(self):\n",
        "    super(Classification, self).__init__()\n",
        "    self.fc1 = nn.Linear(2, 50)\n",
        "    self.fc2 = nn.Linear(50, 10)\n",
        "    self.fc3 = nn.Linear(10, 3)\n",
        "    torch.nn.init.xavier_normal_(self.fc1.weight)\n",
        "    torch.nn.init.zeros_(self.fc1.bias)\n",
        "    torch.nn.init.xavier_normal_(self.fc2.weight)\n",
        "    torch.nn.init.zeros_(self.fc2.bias)\n",
        "    torch.nn.init.xavier_normal_(self.fc3.weight)\n",
        "    torch.nn.init.zeros_(self.fc3.bias)\n",
        "\n",
        "\n",
        "  def forward(self, x):\n",
        "    x = x.view(-1, 2)\n",
        "    x = F.relu(self.fc1(x))\n",
        "    x = F.relu(self.fc2(x))\n",
        "    x = (self.fc3(x))\n",
        "    return x"
      ],
      "execution_count": 145,
      "outputs": []
    },
    {
      "cell_type": "code",
      "metadata": {
        "id": "lSa6O9f6XNf4"
      },
      "source": [
        "torch.manual_seed(12)\n",
        "focus_net = Focus().double()\n",
        "focus_net = focus_net.to(\"cuda\")"
      ],
      "execution_count": 146,
      "outputs": []
    },
    {
      "cell_type": "code",
      "metadata": {
        "id": "36k3H2G-XO9A"
      },
      "source": [
        "torch.manual_seed(12)\n",
        "classify = Classification().double()\n",
        "classify = classify.to(\"cuda\")"
      ],
      "execution_count": 147,
      "outputs": []
    },
    {
      "cell_type": "code",
      "metadata": {
        "colab": {
          "base_uri": "https://localhost:8080/"
        },
        "id": "rAB45FsX6Ji2",
        "outputId": "489645bf-9b36-4436-b63e-1fdf5e8ff73a"
      },
      "source": [
        "focus_net.fc2.weight.shape,focus_net.fc3.weight.shape"
      ],
      "execution_count": 148,
      "outputs": [
        {
          "output_type": "execute_result",
          "data": {
            "text/plain": [
              "(torch.Size([10, 50]), torch.Size([1, 10]))"
            ]
          },
          "metadata": {
            "tags": []
          },
          "execution_count": 148
        }
      ]
    },
    {
      "cell_type": "code",
      "metadata": {
        "colab": {
          "base_uri": "https://localhost:8080/"
        },
        "id": "mkuyH4bv6J8r",
        "outputId": "256974f2-95b3-4073-d847-03df0ee978bb"
      },
      "source": [
        "focus_net.fc2.weight.data[5:,:] = focus_net.fc2.weight.data[:5,:] #torch.nn.Parameter(torch.tensor([last_layer]) )\n",
        "focus_net.fc2.weight[:5,:], focus_net.fc2.weight[5:,:] "
      ],
      "execution_count": 149,
      "outputs": [
        {
          "output_type": "execute_result",
          "data": {
            "text/plain": [
              "(tensor([[-0.0763,  0.0132, -0.1227,  0.2448,  0.0136, -0.0487, -0.1882,  0.0876,\n",
              "           0.1659,  0.0856,  0.1779,  0.3298,  0.0887,  0.3872, -0.2173,  0.2168,\n",
              "           0.0783, -0.1261, -0.0764,  0.3249, -0.1999, -0.0140, -0.1793,  0.0633,\n",
              "          -0.2684,  0.1349, -0.2653, -0.1134,  0.1838, -0.0892,  0.1525, -0.1057,\n",
              "          -0.0990, -0.0077, -0.0525, -0.0534, -0.1624,  0.0694, -0.2615, -0.0667,\n",
              "           0.0815,  0.4189, -0.1598, -0.0236, -0.0663,  0.0154,  0.1333,  0.2649,\n",
              "           0.1634,  0.2552],\n",
              "         [-0.4056,  0.0755, -0.1859, -0.0354, -0.1684, -0.0200, -0.2163,  0.2237,\n",
              "           0.0981, -0.0859, -0.1096,  0.0791, -0.2052, -0.2820, -0.1441, -0.0497,\n",
              "           0.1114,  0.3464, -0.0281, -0.2101,  0.0642, -0.0475, -0.3500, -0.0388,\n",
              "           0.1481,  0.1041,  0.0558, -0.3711, -0.0478,  0.2248,  0.0255,  0.1203,\n",
              "           0.0967, -0.1136, -0.2587,  0.2233, -0.0160,  0.1349,  0.1989, -0.2758,\n",
              "          -0.1123,  0.0931, -0.0575, -0.0828,  0.2524, -0.1149, -0.0566,  0.1111,\n",
              "           0.0685, -0.0065],\n",
              "         [ 0.1091,  0.0417, -0.0694, -0.2976, -0.0265,  0.1831,  0.2966,  0.1349,\n",
              "           0.1786, -0.1312,  0.1446, -0.2316, -0.0199, -0.0781,  0.0792,  0.0629,\n",
              "           0.0736,  0.2197, -0.1694, -0.0978, -0.0942,  0.0640,  0.1799,  0.0495,\n",
              "           0.3483, -0.2643,  0.0919, -0.1637,  0.0492,  0.1445,  0.0263, -0.0447,\n",
              "           0.1301,  0.2495,  0.1423, -0.1674, -0.2786, -0.2013,  0.0160,  0.3034,\n",
              "          -0.1267, -0.1498, -0.1753,  0.0573,  0.1035, -0.2375, -0.1292,  0.0595,\n",
              "          -0.2166,  0.0211],\n",
              "         [-0.2312, -0.1164, -0.2560, -0.0886, -0.2474,  0.0891, -0.1076, -0.2193,\n",
              "           0.0762, -0.2020, -0.0789, -0.0549, -0.1837, -0.1156, -0.0132, -0.2952,\n",
              "           0.2050,  0.5399,  0.0764, -0.1084,  0.1171,  0.3685,  0.1433, -0.0428,\n",
              "          -0.3675,  0.1724,  0.0684, -0.2218,  0.0645, -0.1736, -0.2278,  0.1142,\n",
              "           0.2070,  0.0545, -0.1782, -0.0776, -0.1571,  0.0699,  0.1024,  0.4644,\n",
              "          -0.2043,  0.2036, -0.1708, -0.0280,  0.0850,  0.2511, -0.0630,  0.1023,\n",
              "          -0.0996, -0.1564],\n",
              "         [-0.2191,  0.1422, -0.1139,  0.1335,  0.2386,  0.2592, -0.1407, -0.2389,\n",
              "          -0.0678,  0.1425,  0.1440,  0.0379,  0.1629,  0.2089, -0.0586, -0.0600,\n",
              "           0.2269, -0.1127,  0.1253, -0.2588,  0.0539,  0.0196,  0.0839,  0.0079,\n",
              "          -0.2208,  0.2555,  0.3884, -0.3805,  0.0746,  0.1456, -0.3297, -0.1060,\n",
              "           0.0422,  0.0710,  0.0992,  0.1431,  0.6623,  0.2000,  0.0478, -0.1368,\n",
              "           0.2620, -0.1792, -0.1971,  0.0660,  0.1914,  0.1435, -0.0923,  0.0295,\n",
              "          -0.2049, -0.1789]], device='cuda:0', dtype=torch.float64,\n",
              "        grad_fn=<SliceBackward>),\n",
              " tensor([[-0.0763,  0.0132, -0.1227,  0.2448,  0.0136, -0.0487, -0.1882,  0.0876,\n",
              "           0.1659,  0.0856,  0.1779,  0.3298,  0.0887,  0.3872, -0.2173,  0.2168,\n",
              "           0.0783, -0.1261, -0.0764,  0.3249, -0.1999, -0.0140, -0.1793,  0.0633,\n",
              "          -0.2684,  0.1349, -0.2653, -0.1134,  0.1838, -0.0892,  0.1525, -0.1057,\n",
              "          -0.0990, -0.0077, -0.0525, -0.0534, -0.1624,  0.0694, -0.2615, -0.0667,\n",
              "           0.0815,  0.4189, -0.1598, -0.0236, -0.0663,  0.0154,  0.1333,  0.2649,\n",
              "           0.1634,  0.2552],\n",
              "         [-0.4056,  0.0755, -0.1859, -0.0354, -0.1684, -0.0200, -0.2163,  0.2237,\n",
              "           0.0981, -0.0859, -0.1096,  0.0791, -0.2052, -0.2820, -0.1441, -0.0497,\n",
              "           0.1114,  0.3464, -0.0281, -0.2101,  0.0642, -0.0475, -0.3500, -0.0388,\n",
              "           0.1481,  0.1041,  0.0558, -0.3711, -0.0478,  0.2248,  0.0255,  0.1203,\n",
              "           0.0967, -0.1136, -0.2587,  0.2233, -0.0160,  0.1349,  0.1989, -0.2758,\n",
              "          -0.1123,  0.0931, -0.0575, -0.0828,  0.2524, -0.1149, -0.0566,  0.1111,\n",
              "           0.0685, -0.0065],\n",
              "         [ 0.1091,  0.0417, -0.0694, -0.2976, -0.0265,  0.1831,  0.2966,  0.1349,\n",
              "           0.1786, -0.1312,  0.1446, -0.2316, -0.0199, -0.0781,  0.0792,  0.0629,\n",
              "           0.0736,  0.2197, -0.1694, -0.0978, -0.0942,  0.0640,  0.1799,  0.0495,\n",
              "           0.3483, -0.2643,  0.0919, -0.1637,  0.0492,  0.1445,  0.0263, -0.0447,\n",
              "           0.1301,  0.2495,  0.1423, -0.1674, -0.2786, -0.2013,  0.0160,  0.3034,\n",
              "          -0.1267, -0.1498, -0.1753,  0.0573,  0.1035, -0.2375, -0.1292,  0.0595,\n",
              "          -0.2166,  0.0211],\n",
              "         [-0.2312, -0.1164, -0.2560, -0.0886, -0.2474,  0.0891, -0.1076, -0.2193,\n",
              "           0.0762, -0.2020, -0.0789, -0.0549, -0.1837, -0.1156, -0.0132, -0.2952,\n",
              "           0.2050,  0.5399,  0.0764, -0.1084,  0.1171,  0.3685,  0.1433, -0.0428,\n",
              "          -0.3675,  0.1724,  0.0684, -0.2218,  0.0645, -0.1736, -0.2278,  0.1142,\n",
              "           0.2070,  0.0545, -0.1782, -0.0776, -0.1571,  0.0699,  0.1024,  0.4644,\n",
              "          -0.2043,  0.2036, -0.1708, -0.0280,  0.0850,  0.2511, -0.0630,  0.1023,\n",
              "          -0.0996, -0.1564],\n",
              "         [-0.2191,  0.1422, -0.1139,  0.1335,  0.2386,  0.2592, -0.1407, -0.2389,\n",
              "          -0.0678,  0.1425,  0.1440,  0.0379,  0.1629,  0.2089, -0.0586, -0.0600,\n",
              "           0.2269, -0.1127,  0.1253, -0.2588,  0.0539,  0.0196,  0.0839,  0.0079,\n",
              "          -0.2208,  0.2555,  0.3884, -0.3805,  0.0746,  0.1456, -0.3297, -0.1060,\n",
              "           0.0422,  0.0710,  0.0992,  0.1431,  0.6623,  0.2000,  0.0478, -0.1368,\n",
              "           0.2620, -0.1792, -0.1971,  0.0660,  0.1914,  0.1435, -0.0923,  0.0295,\n",
              "          -0.2049, -0.1789]], device='cuda:0', dtype=torch.float64,\n",
              "        grad_fn=<SliceBackward>))"
            ]
          },
          "metadata": {
            "tags": []
          },
          "execution_count": 149
        }
      ]
    },
    {
      "cell_type": "code",
      "metadata": {
        "colab": {
          "base_uri": "https://localhost:8080/"
        },
        "id": "MetfNe8c6LLb",
        "outputId": "186ad31a-e7cd-4bd9-f373-0a0730114c2b"
      },
      "source": [
        "focus_net.fc3.weight.data[:,5:] = -focus_net.fc3.weight.data[:,:5] #torch.nn.Parameter(torch.tensor([last_layer]) )\n",
        "focus_net.fc3.weight"
      ],
      "execution_count": 150,
      "outputs": [
        {
          "output_type": "execute_result",
          "data": {
            "text/plain": [
              "Parameter containing:\n",
              "tensor([[-0.4898,  0.1933, -0.2547, -0.1798, -0.2616,  0.4898, -0.1933,  0.2547,\n",
              "          0.1798,  0.2616]], device='cuda:0', dtype=torch.float64,\n",
              "       requires_grad=True)"
            ]
          },
          "metadata": {
            "tags": []
          },
          "execution_count": 150
        }
      ]
    },
    {
      "cell_type": "code",
      "metadata": {
        "id": "lN7HCOE46MvM"
      },
      "source": [
        "focus_net = focus_net.double().to(\"cuda\")"
      ],
      "execution_count": 151,
      "outputs": []
    },
    {
      "cell_type": "code",
      "metadata": {
        "colab": {
          "base_uri": "https://localhost:8080/"
        },
        "id": "hOJ8NP14n6Eb",
        "outputId": "9e631eaa-e654-4450-94a6-f058fa66984f"
      },
      "source": [
        "focus_net.helper( torch.randn((1,9,2)).double().to(\"cuda\") )"
      ],
      "execution_count": 152,
      "outputs": [
        {
          "output_type": "execute_result",
          "data": {
            "text/plain": [
              "tensor([[0.0000e+00],\n",
              "        [0.0000e+00],\n",
              "        [0.0000e+00],\n",
              "        [8.6736e-18],\n",
              "        [0.0000e+00],\n",
              "        [1.7347e-18],\n",
              "        [0.0000e+00],\n",
              "        [0.0000e+00],\n",
              "        [2.0817e-17]], device='cuda:0', dtype=torch.float64,\n",
              "       grad_fn=<MmBackward>)"
            ]
          },
          "metadata": {
            "tags": []
          },
          "execution_count": 152
        }
      ]
    },
    {
      "cell_type": "code",
      "metadata": {
        "colab": {
          "base_uri": "https://localhost:8080/"
        },
        "id": "estYkNt8oKhL",
        "outputId": "ace9b56e-417d-47d4-8eff-51c5389ef3c7"
      },
      "source": [
        "focus_net.fc1.weight"
      ],
      "execution_count": 153,
      "outputs": [
        {
          "output_type": "execute_result",
          "data": {
            "text/plain": [
              "Parameter containing:\n",
              "tensor([[ 0.0083, -0.2445],\n",
              "        [ 0.1332,  0.0802],\n",
              "        [ 0.1737,  0.3714],\n",
              "        [ 0.3591,  0.4165],\n",
              "        [-0.1227, -0.2131],\n",
              "        [-0.2118, -0.3591],\n",
              "        [ 0.0649,  0.0291],\n",
              "        [-0.1700,  0.4524],\n",
              "        [ 0.1073,  0.1546],\n",
              "        [-0.0755, -0.1721],\n",
              "        [-0.0719,  0.0759],\n",
              "        [ 0.0165, -0.3907],\n",
              "        [ 0.1875, -0.1575],\n",
              "        [-0.2269,  0.0497],\n",
              "        [ 0.0298,  0.0528],\n",
              "        [-0.1749,  0.0342],\n",
              "        [ 0.1303,  0.0789],\n",
              "        [ 0.1228, -0.1428],\n",
              "        [ 0.0864, -0.2877],\n",
              "        [ 0.4234, -0.0417],\n",
              "        [ 0.2168, -0.4608],\n",
              "        [-0.1639,  0.0735],\n",
              "        [-0.0553,  0.0390],\n",
              "        [ 0.1689, -0.1499],\n",
              "        [ 0.2123,  0.1888],\n",
              "        [ 0.2409, -0.0100],\n",
              "        [-0.2100,  0.1096],\n",
              "        [-0.2697, -0.0508],\n",
              "        [ 0.0882,  0.1932],\n",
              "        [ 0.1018, -0.0531],\n",
              "        [ 0.0788,  0.0289],\n",
              "        [-0.1424, -0.2366],\n",
              "        [-0.1353, -0.1328],\n",
              "        [ 0.2861, -0.0959],\n",
              "        [-0.0158, -0.1987],\n",
              "        [-0.0296, -0.0995],\n",
              "        [-0.1291, -0.1520],\n",
              "        [-0.0529,  0.2451],\n",
              "        [ 0.1563,  0.2044],\n",
              "        [ 0.2117, -0.0437],\n",
              "        [ 0.1460,  0.1351],\n",
              "        [-0.1584, -0.0613],\n",
              "        [-0.0090,  0.0823],\n",
              "        [-0.0520, -0.2655],\n",
              "        [ 0.1826, -0.0446],\n",
              "        [ 0.0966, -0.0908],\n",
              "        [-0.3714,  0.0571],\n",
              "        [ 0.3428,  0.0068],\n",
              "        [ 0.0859,  0.1727],\n",
              "        [ 0.0149,  0.0172]], device='cuda:0', dtype=torch.float64,\n",
              "       requires_grad=True)"
            ]
          },
          "metadata": {
            "tags": []
          },
          "execution_count": 153
        }
      ]
    },
    {
      "cell_type": "code",
      "metadata": {
        "colab": {
          "base_uri": "https://localhost:8080/"
        },
        "id": "TNA0bvAeoEpU",
        "outputId": "a7592272-a86c-4a5e-915f-0f04c9ba50de"
      },
      "source": [
        "classify.fc1.weight, classify.fc1.bias, classify.fc1.weight.shape"
      ],
      "execution_count": 154,
      "outputs": [
        {
          "output_type": "execute_result",
          "data": {
            "text/plain": [
              "(Parameter containing:\n",
              " tensor([[-0.0613,  0.2164],\n",
              "         [-0.0953,  0.1494],\n",
              "         [-0.1151, -0.0352],\n",
              "         [ 0.0861,  0.1468],\n",
              "         [ 0.1764,  0.0064],\n",
              "         [ 0.3295, -0.0229],\n",
              "         [ 0.1412,  0.0129],\n",
              "         [ 0.0870, -0.1923],\n",
              "         [ 0.1262, -0.0090],\n",
              "         [ 0.0823, -0.0520],\n",
              "         [-0.2655,  0.1826],\n",
              "         [-0.0446,  0.0966],\n",
              "         [ 0.0981, -0.3714],\n",
              "         [ 0.0571,  0.3428],\n",
              "         [ 0.0068,  0.0859],\n",
              "         [ 0.1727,  0.0149],\n",
              "         [-0.2057, -0.0820],\n",
              "         [ 0.0142, -0.1318],\n",
              "         [ 0.2629,  0.0146],\n",
              "         [-0.0523, -0.2022],\n",
              "         [-0.0810,  0.1783],\n",
              "         [ 0.0920,  0.1911],\n",
              "         [ 0.3542,  0.0953],\n",
              "         [ 0.4159, -0.2334],\n",
              "         [ 0.0363,  0.0841],\n",
              "         [-0.1354, -0.0821],\n",
              "         [ 0.3490, -0.2147],\n",
              "         [-0.0150, -0.1926],\n",
              "         [ 0.1216, -0.2883],\n",
              "         [ 0.1449, -0.2849],\n",
              "         [-0.1218,  0.1974],\n",
              "         [-0.0958,  0.1638],\n",
              "         [-0.1725, -0.1064],\n",
              "         [-0.0082, -0.0564],\n",
              "         [-0.0573, -0.1745],\n",
              "         [ 0.0746, -0.2809],\n",
              "         [-0.3306,  0.0876],\n",
              "         [ 0.4500, -0.1716],\n",
              "         [-0.0253, -0.0712],\n",
              "         [ 0.0165,  0.1432],\n",
              "         [-0.0515,  0.1756],\n",
              "         [ 0.2741, -0.4357],\n",
              "         [ 0.3721, -0.0302],\n",
              "         [-0.2256,  0.0690],\n",
              "         [-0.0510, -0.2862],\n",
              "         [-0.0119, -0.0211],\n",
              "         [ 0.1118,  0.0599],\n",
              "         [-0.3986, -0.0513],\n",
              "         [ 0.2415,  0.0874],\n",
              "         [-0.2672,  0.1087]], device='cuda:0', dtype=torch.float64,\n",
              "        requires_grad=True), Parameter containing:\n",
              " tensor([0., 0., 0., 0., 0., 0., 0., 0., 0., 0., 0., 0., 0., 0., 0., 0., 0., 0., 0., 0., 0., 0., 0., 0.,\n",
              "         0., 0., 0., 0., 0., 0., 0., 0., 0., 0., 0., 0., 0., 0., 0., 0., 0., 0., 0., 0., 0., 0., 0., 0.,\n",
              "         0., 0.], device='cuda:0', dtype=torch.float64, requires_grad=True), torch.Size([50, 2]))"
            ]
          },
          "metadata": {
            "tags": []
          },
          "execution_count": 154
        }
      ]
    },
    {
      "cell_type": "code",
      "metadata": {
        "id": "7MHBbL7FXRQk"
      },
      "source": [
        "import torch.optim as optim\n",
        "criterion = nn.CrossEntropyLoss()\n",
        "optimizer_classify = optim.Adam(classify.parameters(), lr=0.01 ) #, momentum=0.9)\n",
        "optimizer_focus = optim.Adam(focus_net.parameters(), lr=0.01 ) #, momentum=0.9)"
      ],
      "execution_count": 155,
      "outputs": []
    },
    {
      "cell_type": "code",
      "metadata": {
        "id": "pjD2VZuV9Ed4"
      },
      "source": [
        "col1=[]\n",
        "col2=[]\n",
        "col3=[]\n",
        "col4=[]\n",
        "col5=[]\n",
        "col6=[]\n",
        "col7=[]\n",
        "col8=[]\n",
        "col9=[]\n",
        "col10=[]\n",
        "col11=[]\n",
        "col12=[]\n",
        "col13=[]"
      ],
      "execution_count": 156,
      "outputs": []
    },
    {
      "cell_type": "code",
      "metadata": {
        "id": "uALi25pmzQHV",
        "colab": {
          "base_uri": "https://localhost:8080/"
        },
        "outputId": "923fe48d-61af-4aaf-dd11-e2f7a380b7ef"
      },
      "source": [
        "correct = 0\n",
        "total = 0\n",
        "count = 0\n",
        "flag = 1\n",
        "focus_true_pred_true =0\n",
        "focus_false_pred_true =0\n",
        "focus_true_pred_false =0\n",
        "focus_false_pred_false =0\n",
        "\n",
        "argmax_more_than_half = 0\n",
        "argmax_less_than_half =0\n",
        "\n",
        "with torch.no_grad():\n",
        "  for data in train_loader:\n",
        "    inputs, labels , fore_idx = data\n",
        "    inputs = inputs.double()\n",
        "    inputs, labels , fore_idx = inputs.to(\"cuda\"),labels.to(\"cuda\"), fore_idx.to(\"cuda\")\n",
        "    alphas, avg_images = focus_net(inputs)\n",
        "    outputs = classify(avg_images)\n",
        "    # print(outputs.shape)\n",
        "    _, predicted = torch.max(outputs.data, 1)\n",
        "    # print(predicted.shape)\n",
        "\n",
        "    for j in range(labels.size(0)):\n",
        "      count += 1\n",
        "      focus = torch.argmax(alphas[j])\n",
        "      if alphas[j][focus] >= 0.5 :\n",
        "        argmax_more_than_half += 1\n",
        "      else:\n",
        "        argmax_less_than_half += 1\n",
        "\n",
        "      # print(focus, fore_idx[j], predicted[j])\n",
        "      if(focus == fore_idx[j] and predicted[j] == labels[j]):\n",
        "          focus_true_pred_true += 1\n",
        "      elif(focus != fore_idx[j] and predicted[j] == labels[j]):\n",
        "        focus_false_pred_true += 1\n",
        "      elif(focus == fore_idx[j] and predicted[j] != labels[j]):\n",
        "        focus_true_pred_false += 1\n",
        "      elif(focus != fore_idx[j] and predicted[j] != labels[j]):\n",
        "        focus_false_pred_false += 1\n",
        "\n",
        "    total += labels.size(0)\n",
        "    correct += (predicted == labels).sum().item()\n",
        "\n",
        "print('Accuracy of the network on the 1000 train images: %d %%' % ( 100 * correct / total))\n",
        "print(\"total correct\", correct)\n",
        "print(\"total train set images\", total)\n",
        "\n",
        "print(\"focus_true_pred_true %d =============> FTPT : %d %%\" % (focus_true_pred_true , (100 * focus_true_pred_true / total) ) )\n",
        "print(\"focus_false_pred_true %d =============> FFPT : %d %%\" % (focus_false_pred_true, (100 * focus_false_pred_true / total) ) )\n",
        "print(\"focus_true_pred_false %d =============> FTPF : %d %%\" %( focus_true_pred_false , ( 100 * focus_true_pred_false / total) ) )\n",
        "print(\"focus_false_pred_false %d =============> FFPF : %d %%\" % (focus_false_pred_false, ( 100 * focus_false_pred_false / total) ) )\n",
        "\n",
        "print(\"argmax_more_than_half ==================> \",argmax_more_than_half)\n",
        "print(\"argmax_less_than_half ==================> \",argmax_less_than_half)\n",
        "print(count)\n",
        "\n",
        "print(\"=\"*100)\n",
        "\n",
        "col1.append(0)\n",
        "col2.append(argmax_more_than_half)\n",
        "col3.append(argmax_less_than_half)\n",
        "col4.append(focus_true_pred_true)\n",
        "col5.append(focus_false_pred_true)\n",
        "col6.append(focus_true_pred_false)\n",
        "col7.append(focus_false_pred_false)"
      ],
      "execution_count": 157,
      "outputs": [
        {
          "output_type": "stream",
          "text": [
            "Accuracy of the network on the 1000 train images: 37 %\n",
            "total correct 377\n",
            "total train set images 1000\n",
            "focus_true_pred_true 43 =============> FTPT : 4 %\n",
            "focus_false_pred_true 334 =============> FFPT : 33 %\n",
            "focus_true_pred_false 77 =============> FTPF : 7 %\n",
            "focus_false_pred_false 546 =============> FFPF : 54 %\n",
            "argmax_more_than_half ==================>  0\n",
            "argmax_less_than_half ==================>  1000\n",
            "1000\n",
            "====================================================================================================\n"
          ],
          "name": "stdout"
        }
      ]
    },
    {
      "cell_type": "code",
      "metadata": {
        "id": "4vmNprlPzTjP",
        "colab": {
          "base_uri": "https://localhost:8080/"
        },
        "outputId": "11b542c8-ea2d-4532-d86b-a1c8f8d2f43b"
      },
      "source": [
        "correct = 0\n",
        "total = 0\n",
        "count = 0\n",
        "flag = 1\n",
        "focus_true_pred_true =0\n",
        "focus_false_pred_true =0\n",
        "focus_true_pred_false =0\n",
        "focus_false_pred_false =0\n",
        "\n",
        "argmax_more_than_half = 0\n",
        "argmax_less_than_half =0\n",
        "\n",
        "with torch.no_grad():\n",
        "  for data in test_loader:\n",
        "    inputs, labels , fore_idx = data\n",
        "    inputs = inputs.double()\n",
        "    inputs, labels , fore_idx = inputs.to(\"cuda\"),labels.to(\"cuda\"), fore_idx.to(\"cuda\")\n",
        "    alphas, avg_images = focus_net(inputs)\n",
        "    outputs = classify(avg_images)\n",
        "\n",
        "    _, predicted = torch.max(outputs.data, 1)\n",
        "\n",
        "    for j in range(labels.size(0)):\n",
        "      focus = torch.argmax(alphas[j])\n",
        "      if alphas[j][focus] >= 0.5 :\n",
        "        argmax_more_than_half += 1\n",
        "      else:\n",
        "        argmax_less_than_half += 1\n",
        "\n",
        "      if(focus == fore_idx[j] and predicted[j] == labels[j]):\n",
        "          focus_true_pred_true += 1\n",
        "      elif(focus != fore_idx[j] and predicted[j] == labels[j]):\n",
        "        focus_false_pred_true += 1\n",
        "      elif(focus == fore_idx[j] and predicted[j] != labels[j]):\n",
        "        focus_true_pred_false += 1\n",
        "      elif(focus != fore_idx[j] and predicted[j] != labels[j]):\n",
        "        focus_false_pred_false += 1\n",
        "\n",
        "    total += labels.size(0)\n",
        "    correct += (predicted == labels).sum().item()\n",
        "\n",
        "print('Accuracy of the network on the 1000 test images: %d %%' % (\n",
        "    100 * correct / total))\n",
        "print(\"total correct\", correct)\n",
        "print(\"total train set images\", total)\n",
        "\n",
        "print(\"focus_true_pred_true %d =============> FTPT : %d %%\" % (focus_true_pred_true , (100 * focus_true_pred_true / total) ) )\n",
        "print(\"focus_false_pred_true %d =============> FFPT : %d %%\" % (focus_false_pred_true, (100 * focus_false_pred_true / total) ) )\n",
        "print(\"focus_true_pred_false %d =============> FTPF : %d %%\" %( focus_true_pred_false , ( 100 * focus_true_pred_false / total) ) )\n",
        "print(\"focus_false_pred_false %d =============> FFPF : %d %%\" % (focus_false_pred_false, ( 100 * focus_false_pred_false / total) ) )\n",
        "\n",
        "print(\"argmax_more_than_half ==================> \",argmax_more_than_half)\n",
        "print(\"argmax_less_than_half ==================> \",argmax_less_than_half)\n",
        "col8.append(argmax_more_than_half)\n",
        "col9.append(argmax_less_than_half)\n",
        "col10.append(focus_true_pred_true)\n",
        "col11.append(focus_false_pred_true)\n",
        "col12.append(focus_true_pred_false)\n",
        "col13.append(focus_false_pred_false)"
      ],
      "execution_count": 158,
      "outputs": [
        {
          "output_type": "stream",
          "text": [
            "Accuracy of the network on the 1000 test images: 34 %\n",
            "total correct 342\n",
            "total train set images 1000\n",
            "focus_true_pred_true 37 =============> FTPT : 3 %\n",
            "focus_false_pred_true 305 =============> FFPT : 30 %\n",
            "focus_true_pred_false 79 =============> FTPF : 7 %\n",
            "focus_false_pred_false 579 =============> FFPF : 57 %\n",
            "argmax_more_than_half ==================>  0\n",
            "argmax_less_than_half ==================>  1000\n"
          ],
          "name": "stdout"
        }
      ]
    },
    {
      "cell_type": "code",
      "metadata": {
        "id": "Yl41sE8vFERk",
        "colab": {
          "base_uri": "https://localhost:8080/"
        },
        "outputId": "924b9a52-db35-4da3-f07e-8d24a07e9aa9"
      },
      "source": [
        "nos_epochs = 1000\n",
        "focus_true_pred_true =0\n",
        "focus_false_pred_true =0\n",
        "focus_true_pred_false =0\n",
        "focus_false_pred_false =0\n",
        "\n",
        "argmax_more_than_half = 0\n",
        "argmax_less_than_half =0\n",
        "\n",
        "\n",
        "for epoch in range(nos_epochs):  # loop over the dataset multiple times\n",
        "\n",
        "  focus_true_pred_true =0\n",
        "  focus_false_pred_true =0\n",
        "  focus_true_pred_false =0\n",
        "  focus_false_pred_false =0\n",
        "  \n",
        "  argmax_more_than_half = 0\n",
        "  argmax_less_than_half =0\n",
        "  \n",
        "  running_loss = 0.0\n",
        "  epoch_loss = []\n",
        "  cnt=0\n",
        "\n",
        "  iteration = desired_num // batch\n",
        "  \n",
        "  #training data set\n",
        "  \n",
        "  for i, data in  enumerate(train_loader):\n",
        "    inputs , labels , fore_idx = data\n",
        "    inputs, labels = inputs.to(\"cuda\"), labels.to(\"cuda\")\n",
        "    inputs = inputs.double()\n",
        "    # zero the parameter gradients\n",
        "    \n",
        "    optimizer_focus.zero_grad()\n",
        "    optimizer_classify.zero_grad()\n",
        "    \n",
        "    alphas, avg_images = focus_net(inputs)\n",
        "    outputs = classify(avg_images)\n",
        "\n",
        "    _, predicted = torch.max(outputs.data, 1)\n",
        "#     print(outputs)\n",
        "#     print(outputs.shape,labels.shape , torch.argmax(outputs, dim=1))\n",
        "\n",
        "    loss = criterion(outputs, labels) \n",
        "    loss.backward()\n",
        "    optimizer_focus.step()\n",
        "    optimizer_classify.step()\n",
        "\n",
        "    running_loss += loss.item()\n",
        "    mini = 3\n",
        "    if cnt % mini == mini-1:    # print every 40 mini-batches\n",
        "      print('[%d, %5d] loss: %.3f' %(epoch + 1, cnt + 1, running_loss / mini))\n",
        "      epoch_loss.append(running_loss/mini)\n",
        "      running_loss = 0.0\n",
        "    cnt=cnt+1\n",
        "    \n",
        "    if epoch % 5 == 0:\n",
        "      for j in range (batch):\n",
        "        focus = torch.argmax(alphas[j])\n",
        "\n",
        "        if(alphas[j][focus] >= 0.5):\n",
        "          argmax_more_than_half +=1\n",
        "        else:\n",
        "          argmax_less_than_half +=1\n",
        "\n",
        "        if(focus == fore_idx[j] and predicted[j] == labels[j]):\n",
        "          focus_true_pred_true += 1\n",
        "\n",
        "        elif(focus != fore_idx[j] and predicted[j] == labels[j]):\n",
        "          focus_false_pred_true +=1\n",
        "\n",
        "        elif(focus == fore_idx[j] and predicted[j] != labels[j]):\n",
        "          focus_true_pred_false +=1\n",
        "\n",
        "        elif(focus != fore_idx[j] and predicted[j] != labels[j]):\n",
        "          focus_false_pred_false +=1\n",
        "\n",
        "  if(np.mean(epoch_loss) <= 0.001):\n",
        "      break;\n",
        "\n",
        "  if epoch % 5 == 0:\n",
        "    col1.append(epoch + 1)\n",
        "    col2.append(argmax_more_than_half)\n",
        "    col3.append(argmax_less_than_half)\n",
        "    col4.append(focus_true_pred_true)\n",
        "    col5.append(focus_false_pred_true)\n",
        "    col6.append(focus_true_pred_false)\n",
        "    col7.append(focus_false_pred_false)\n",
        "    # print(\"=\"*20)\n",
        "    # print(\"Train FTPT : \", col4)\n",
        "    # print(\"Train FFPT : \", col5)\n",
        "    #************************************************************************\n",
        "    #testing data set  \n",
        "    # focus_net.eval()\n",
        "    with torch.no_grad():\n",
        "      focus_true_pred_true =0\n",
        "      focus_false_pred_true =0\n",
        "      focus_true_pred_false =0\n",
        "      focus_false_pred_false =0\n",
        "\n",
        "      argmax_more_than_half = 0\n",
        "      argmax_less_than_half =0\n",
        "      for data in test_loader:\n",
        "        inputs, labels , fore_idx = data\n",
        "        inputs = inputs.double()\n",
        "        inputs, labels = inputs.to(\"cuda\"), labels.to(\"cuda\")\n",
        "        alphas, avg_images = focus_net(inputs)\n",
        "        outputs = classify(avg_images)\n",
        "        _, predicted = torch.max(outputs.data, 1)\n",
        "\n",
        "        for j in range (batch):\n",
        "          focus = torch.argmax(alphas[j])\n",
        "\n",
        "          if(alphas[j][focus] >= 0.5):\n",
        "            argmax_more_than_half +=1\n",
        "          else:\n",
        "            argmax_less_than_half +=1\n",
        "\n",
        "          if(focus == fore_idx[j] and predicted[j] == labels[j]):\n",
        "            focus_true_pred_true += 1\n",
        "\n",
        "          elif(focus != fore_idx[j] and predicted[j] == labels[j]):\n",
        "            focus_false_pred_true +=1\n",
        "\n",
        "          elif(focus == fore_idx[j] and predicted[j] != labels[j]):\n",
        "            focus_true_pred_false +=1\n",
        "\n",
        "          elif(focus != fore_idx[j] and predicted[j] != labels[j]):\n",
        "            focus_false_pred_false +=1\n",
        "      \n",
        "    col8.append(argmax_more_than_half)\n",
        "    col9.append(argmax_less_than_half)\n",
        "    col10.append(focus_true_pred_true)\n",
        "    col11.append(focus_false_pred_true)\n",
        "    col12.append(focus_true_pred_false)\n",
        "    col13.append(focus_false_pred_false)\n",
        "    # print(\"Test FTPT : \", col10)\n",
        "    # print(\"Test FFPT : \", col11)\n",
        "    # print(\"=\"*20)\n",
        "    \n",
        "print('Finished Training')"
      ],
      "execution_count": 159,
      "outputs": [
        {
          "output_type": "stream",
          "text": [
            "[1,     3] loss: 1.090\n",
            "[2,     3] loss: 1.052\n",
            "[3,     3] loss: 0.989\n",
            "[4,     3] loss: 0.892\n",
            "[5,     3] loss: 0.769\n",
            "[6,     3] loss: 0.666\n",
            "[7,     3] loss: 0.569\n",
            "[8,     3] loss: 0.491\n",
            "[9,     3] loss: 0.435\n",
            "[10,     3] loss: 0.407\n",
            "[11,     3] loss: 0.381\n",
            "[12,     3] loss: 0.347\n",
            "[13,     3] loss: 0.366\n",
            "[14,     3] loss: 0.345\n",
            "[15,     3] loss: 0.319\n",
            "[16,     3] loss: 0.319\n",
            "[17,     3] loss: 0.286\n",
            "[18,     3] loss: 0.298\n",
            "[19,     3] loss: 0.295\n",
            "[20,     3] loss: 0.299\n",
            "[21,     3] loss: 0.268\n",
            "[22,     3] loss: 0.288\n",
            "[23,     3] loss: 0.269\n",
            "[24,     3] loss: 0.278\n",
            "[25,     3] loss: 0.290\n",
            "[26,     3] loss: 0.321\n",
            "[27,     3] loss: 0.289\n",
            "[28,     3] loss: 0.279\n",
            "[29,     3] loss: 0.276\n",
            "[30,     3] loss: 0.278\n",
            "[31,     3] loss: 0.277\n",
            "[32,     3] loss: 0.248\n",
            "[33,     3] loss: 0.279\n",
            "[34,     3] loss: 0.265\n",
            "[35,     3] loss: 0.302\n",
            "[36,     3] loss: 0.276\n",
            "[37,     3] loss: 0.292\n",
            "[38,     3] loss: 0.276\n",
            "[39,     3] loss: 0.265\n",
            "[40,     3] loss: 0.268\n",
            "[41,     3] loss: 0.264\n",
            "[42,     3] loss: 0.256\n",
            "[43,     3] loss: 0.247\n",
            "[44,     3] loss: 0.288\n",
            "[45,     3] loss: 0.252\n",
            "[46,     3] loss: 0.280\n",
            "[47,     3] loss: 0.256\n",
            "[48,     3] loss: 0.275\n",
            "[49,     3] loss: 0.273\n",
            "[50,     3] loss: 0.259\n",
            "[51,     3] loss: 0.283\n",
            "[52,     3] loss: 0.253\n",
            "[53,     3] loss: 0.259\n",
            "[54,     3] loss: 0.259\n",
            "[55,     3] loss: 0.257\n",
            "[56,     3] loss: 0.268\n",
            "[57,     3] loss: 0.266\n",
            "[58,     3] loss: 0.270\n",
            "[59,     3] loss: 0.285\n",
            "[60,     3] loss: 0.271\n",
            "[61,     3] loss: 0.305\n",
            "[62,     3] loss: 0.282\n",
            "[63,     3] loss: 0.254\n",
            "[64,     3] loss: 0.276\n",
            "[65,     3] loss: 0.280\n",
            "[66,     3] loss: 0.272\n",
            "[67,     3] loss: 0.305\n",
            "[68,     3] loss: 0.258\n",
            "[69,     3] loss: 0.269\n",
            "[70,     3] loss: 0.289\n",
            "[71,     3] loss: 0.269\n",
            "[72,     3] loss: 0.272\n",
            "[73,     3] loss: 0.254\n",
            "[74,     3] loss: 0.281\n",
            "[75,     3] loss: 0.258\n",
            "[76,     3] loss: 0.255\n",
            "[77,     3] loss: 0.258\n",
            "[78,     3] loss: 0.260\n",
            "[79,     3] loss: 0.264\n",
            "[80,     3] loss: 0.269\n",
            "[81,     3] loss: 0.258\n",
            "[82,     3] loss: 0.274\n",
            "[83,     3] loss: 0.271\n",
            "[84,     3] loss: 0.252\n",
            "[85,     3] loss: 0.257\n",
            "[86,     3] loss: 0.263\n",
            "[87,     3] loss: 0.252\n",
            "[88,     3] loss: 0.256\n",
            "[89,     3] loss: 0.260\n",
            "[90,     3] loss: 0.267\n",
            "[91,     3] loss: 0.261\n",
            "[92,     3] loss: 0.238\n",
            "[93,     3] loss: 0.281\n",
            "[94,     3] loss: 0.275\n",
            "[95,     3] loss: 0.255\n",
            "[96,     3] loss: 0.267\n",
            "[97,     3] loss: 0.265\n",
            "[98,     3] loss: 0.257\n",
            "[99,     3] loss: 0.284\n",
            "[100,     3] loss: 0.241\n",
            "[101,     3] loss: 0.261\n",
            "[102,     3] loss: 0.262\n",
            "[103,     3] loss: 0.274\n",
            "[104,     3] loss: 0.248\n",
            "[105,     3] loss: 0.261\n",
            "[106,     3] loss: 0.231\n",
            "[107,     3] loss: 0.266\n",
            "[108,     3] loss: 0.259\n",
            "[109,     3] loss: 0.254\n",
            "[110,     3] loss: 0.247\n",
            "[111,     3] loss: 0.274\n",
            "[112,     3] loss: 0.278\n",
            "[113,     3] loss: 0.277\n",
            "[114,     3] loss: 0.260\n",
            "[115,     3] loss: 0.242\n",
            "[116,     3] loss: 0.256\n",
            "[117,     3] loss: 0.256\n",
            "[118,     3] loss: 0.258\n",
            "[119,     3] loss: 0.278\n",
            "[120,     3] loss: 0.232\n",
            "[121,     3] loss: 0.270\n",
            "[122,     3] loss: 0.246\n",
            "[123,     3] loss: 0.253\n",
            "[124,     3] loss: 0.278\n",
            "[125,     3] loss: 0.246\n",
            "[126,     3] loss: 0.249\n",
            "[127,     3] loss: 0.278\n",
            "[128,     3] loss: 0.273\n",
            "[129,     3] loss: 0.249\n",
            "[130,     3] loss: 0.260\n",
            "[131,     3] loss: 0.236\n",
            "[132,     3] loss: 0.243\n",
            "[133,     3] loss: 0.260\n",
            "[134,     3] loss: 0.265\n",
            "[135,     3] loss: 0.227\n",
            "[136,     3] loss: 0.281\n",
            "[137,     3] loss: 0.261\n",
            "[138,     3] loss: 0.246\n",
            "[139,     3] loss: 0.258\n",
            "[140,     3] loss: 0.259\n",
            "[141,     3] loss: 0.245\n",
            "[142,     3] loss: 0.265\n",
            "[143,     3] loss: 0.253\n",
            "[144,     3] loss: 0.263\n",
            "[145,     3] loss: 0.246\n",
            "[146,     3] loss: 0.273\n",
            "[147,     3] loss: 0.265\n",
            "[148,     3] loss: 0.252\n",
            "[149,     3] loss: 0.266\n",
            "[150,     3] loss: 0.250\n",
            "[151,     3] loss: 0.244\n",
            "[152,     3] loss: 0.266\n",
            "[153,     3] loss: 0.268\n",
            "[154,     3] loss: 0.300\n",
            "[155,     3] loss: 0.291\n",
            "[156,     3] loss: 0.292\n",
            "[157,     3] loss: 0.272\n",
            "[158,     3] loss: 0.270\n",
            "[159,     3] loss: 0.243\n",
            "[160,     3] loss: 0.290\n",
            "[161,     3] loss: 0.267\n",
            "[162,     3] loss: 0.257\n",
            "[163,     3] loss: 0.262\n",
            "[164,     3] loss: 0.262\n",
            "[165,     3] loss: 0.263\n",
            "[166,     3] loss: 0.258\n",
            "[167,     3] loss: 0.245\n",
            "[168,     3] loss: 0.257\n",
            "[169,     3] loss: 0.259\n",
            "[170,     3] loss: 0.261\n",
            "[171,     3] loss: 0.262\n",
            "[172,     3] loss: 0.265\n",
            "[173,     3] loss: 0.260\n",
            "[174,     3] loss: 0.257\n",
            "[175,     3] loss: 0.239\n",
            "[176,     3] loss: 0.246\n",
            "[177,     3] loss: 0.291\n",
            "[178,     3] loss: 0.264\n",
            "[179,     3] loss: 0.263\n",
            "[180,     3] loss: 0.307\n",
            "[181,     3] loss: 0.285\n",
            "[182,     3] loss: 0.269\n",
            "[183,     3] loss: 0.279\n",
            "[184,     3] loss: 0.278\n",
            "[185,     3] loss: 0.278\n",
            "[186,     3] loss: 0.277\n",
            "[187,     3] loss: 0.279\n",
            "[188,     3] loss: 0.258\n",
            "[189,     3] loss: 0.272\n",
            "[190,     3] loss: 0.274\n",
            "[191,     3] loss: 0.267\n",
            "[192,     3] loss: 0.257\n",
            "[193,     3] loss: 0.302\n",
            "[194,     3] loss: 0.289\n",
            "[195,     3] loss: 0.273\n",
            "[196,     3] loss: 0.261\n",
            "[197,     3] loss: 0.273\n",
            "[198,     3] loss: 0.257\n",
            "[199,     3] loss: 0.258\n",
            "[200,     3] loss: 0.262\n",
            "[201,     3] loss: 0.272\n",
            "[202,     3] loss: 0.256\n",
            "[203,     3] loss: 0.233\n",
            "[204,     3] loss: 0.246\n",
            "[205,     3] loss: 0.262\n",
            "[206,     3] loss: 0.261\n",
            "[207,     3] loss: 0.256\n",
            "[208,     3] loss: 0.255\n",
            "[209,     3] loss: 0.249\n",
            "[210,     3] loss: 0.283\n",
            "[211,     3] loss: 0.277\n",
            "[212,     3] loss: 0.280\n",
            "[213,     3] loss: 0.268\n",
            "[214,     3] loss: 0.250\n",
            "[215,     3] loss: 0.234\n",
            "[216,     3] loss: 0.259\n",
            "[217,     3] loss: 0.239\n",
            "[218,     3] loss: 0.246\n",
            "[219,     3] loss: 0.246\n",
            "[220,     3] loss: 0.251\n",
            "[221,     3] loss: 0.253\n",
            "[222,     3] loss: 0.266\n",
            "[223,     3] loss: 0.266\n",
            "[224,     3] loss: 0.266\n",
            "[225,     3] loss: 0.248\n",
            "[226,     3] loss: 0.276\n",
            "[227,     3] loss: 0.247\n",
            "[228,     3] loss: 0.270\n",
            "[229,     3] loss: 0.253\n",
            "[230,     3] loss: 0.253\n",
            "[231,     3] loss: 0.254\n",
            "[232,     3] loss: 0.259\n",
            "[233,     3] loss: 0.249\n",
            "[234,     3] loss: 0.276\n",
            "[235,     3] loss: 0.270\n",
            "[236,     3] loss: 0.243\n",
            "[237,     3] loss: 0.276\n",
            "[238,     3] loss: 0.289\n",
            "[239,     3] loss: 0.289\n",
            "[240,     3] loss: 0.295\n",
            "[241,     3] loss: 0.282\n",
            "[242,     3] loss: 0.271\n",
            "[243,     3] loss: 0.269\n",
            "[244,     3] loss: 0.281\n",
            "[245,     3] loss: 0.260\n",
            "[246,     3] loss: 0.242\n",
            "[247,     3] loss: 0.260\n",
            "[248,     3] loss: 0.255\n",
            "[249,     3] loss: 0.268\n",
            "[250,     3] loss: 0.251\n",
            "[251,     3] loss: 0.277\n",
            "[252,     3] loss: 0.249\n",
            "[253,     3] loss: 0.255\n",
            "[254,     3] loss: 0.279\n",
            "[255,     3] loss: 0.242\n",
            "[256,     3] loss: 0.250\n",
            "[257,     3] loss: 0.259\n",
            "[258,     3] loss: 0.246\n",
            "[259,     3] loss: 0.266\n",
            "[260,     3] loss: 0.247\n",
            "[261,     3] loss: 0.269\n",
            "[262,     3] loss: 0.268\n",
            "[263,     3] loss: 0.248\n",
            "[264,     3] loss: 0.256\n",
            "[265,     3] loss: 0.247\n",
            "[266,     3] loss: 0.255\n",
            "[267,     3] loss: 0.261\n",
            "[268,     3] loss: 0.237\n",
            "[269,     3] loss: 0.257\n",
            "[270,     3] loss: 0.238\n",
            "[271,     3] loss: 0.264\n",
            "[272,     3] loss: 0.250\n",
            "[273,     3] loss: 0.246\n",
            "[274,     3] loss: 0.231\n",
            "[275,     3] loss: 0.251\n",
            "[276,     3] loss: 0.271\n",
            "[277,     3] loss: 0.240\n",
            "[278,     3] loss: 0.225\n",
            "[279,     3] loss: 0.227\n",
            "[280,     3] loss: 0.244\n",
            "[281,     3] loss: 0.266\n",
            "[282,     3] loss: 0.229\n",
            "[283,     3] loss: 0.253\n",
            "[284,     3] loss: 0.251\n",
            "[285,     3] loss: 0.251\n",
            "[286,     3] loss: 0.244\n",
            "[287,     3] loss: 0.272\n",
            "[288,     3] loss: 0.258\n",
            "[289,     3] loss: 0.253\n",
            "[290,     3] loss: 0.241\n",
            "[291,     3] loss: 0.267\n",
            "[292,     3] loss: 0.252\n",
            "[293,     3] loss: 0.271\n",
            "[294,     3] loss: 0.246\n",
            "[295,     3] loss: 0.247\n",
            "[296,     3] loss: 0.260\n",
            "[297,     3] loss: 0.255\n",
            "[298,     3] loss: 0.269\n",
            "[299,     3] loss: 0.267\n",
            "[300,     3] loss: 0.267\n",
            "[301,     3] loss: 0.273\n",
            "[302,     3] loss: 0.260\n",
            "[303,     3] loss: 0.251\n",
            "[304,     3] loss: 0.256\n",
            "[305,     3] loss: 0.258\n",
            "[306,     3] loss: 0.261\n",
            "[307,     3] loss: 0.251\n",
            "[308,     3] loss: 0.291\n",
            "[309,     3] loss: 0.267\n",
            "[310,     3] loss: 0.279\n",
            "[311,     3] loss: 0.262\n",
            "[312,     3] loss: 0.285\n",
            "[313,     3] loss: 0.288\n",
            "[314,     3] loss: 0.269\n",
            "[315,     3] loss: 0.280\n",
            "[316,     3] loss: 0.273\n",
            "[317,     3] loss: 0.275\n",
            "[318,     3] loss: 0.256\n",
            "[319,     3] loss: 0.251\n",
            "[320,     3] loss: 0.253\n",
            "[321,     3] loss: 0.250\n",
            "[322,     3] loss: 0.278\n",
            "[323,     3] loss: 0.284\n",
            "[324,     3] loss: 0.250\n",
            "[325,     3] loss: 0.250\n",
            "[326,     3] loss: 0.252\n",
            "[327,     3] loss: 0.251\n",
            "[328,     3] loss: 0.239\n",
            "[329,     3] loss: 0.252\n",
            "[330,     3] loss: 0.254\n",
            "[331,     3] loss: 0.267\n",
            "[332,     3] loss: 0.264\n",
            "[333,     3] loss: 0.235\n",
            "[334,     3] loss: 0.235\n",
            "[335,     3] loss: 0.240\n",
            "[336,     3] loss: 0.256\n",
            "[337,     3] loss: 0.247\n",
            "[338,     3] loss: 0.255\n",
            "[339,     3] loss: 0.254\n",
            "[340,     3] loss: 0.231\n",
            "[341,     3] loss: 0.251\n",
            "[342,     3] loss: 0.247\n",
            "[343,     3] loss: 0.241\n",
            "[344,     3] loss: 0.255\n",
            "[345,     3] loss: 0.243\n",
            "[346,     3] loss: 0.283\n",
            "[347,     3] loss: 0.272\n",
            "[348,     3] loss: 0.258\n",
            "[349,     3] loss: 0.262\n",
            "[350,     3] loss: 0.272\n",
            "[351,     3] loss: 0.240\n",
            "[352,     3] loss: 0.256\n",
            "[353,     3] loss: 0.273\n",
            "[354,     3] loss: 0.269\n",
            "[355,     3] loss: 0.298\n",
            "[356,     3] loss: 0.260\n",
            "[357,     3] loss: 0.266\n",
            "[358,     3] loss: 0.259\n",
            "[359,     3] loss: 0.286\n",
            "[360,     3] loss: 0.250\n",
            "[361,     3] loss: 0.251\n",
            "[362,     3] loss: 0.260\n",
            "[363,     3] loss: 0.255\n",
            "[364,     3] loss: 0.255\n",
            "[365,     3] loss: 0.239\n",
            "[366,     3] loss: 0.245\n",
            "[367,     3] loss: 0.243\n",
            "[368,     3] loss: 0.260\n",
            "[369,     3] loss: 0.259\n",
            "[370,     3] loss: 0.252\n",
            "[371,     3] loss: 0.264\n",
            "[372,     3] loss: 0.272\n",
            "[373,     3] loss: 0.269\n",
            "[374,     3] loss: 0.265\n",
            "[375,     3] loss: 0.265\n",
            "[376,     3] loss: 0.256\n",
            "[377,     3] loss: 0.253\n",
            "[378,     3] loss: 0.243\n",
            "[379,     3] loss: 0.250\n",
            "[380,     3] loss: 0.262\n",
            "[381,     3] loss: 0.259\n",
            "[382,     3] loss: 0.263\n",
            "[383,     3] loss: 0.254\n",
            "[384,     3] loss: 0.254\n",
            "[385,     3] loss: 0.256\n",
            "[386,     3] loss: 0.236\n",
            "[387,     3] loss: 0.261\n",
            "[388,     3] loss: 0.244\n",
            "[389,     3] loss: 0.269\n",
            "[390,     3] loss: 0.249\n",
            "[391,     3] loss: 0.267\n",
            "[392,     3] loss: 0.260\n",
            "[393,     3] loss: 0.252\n",
            "[394,     3] loss: 0.267\n",
            "[395,     3] loss: 0.233\n",
            "[396,     3] loss: 0.254\n",
            "[397,     3] loss: 0.264\n",
            "[398,     3] loss: 0.259\n",
            "[399,     3] loss: 0.254\n",
            "[400,     3] loss: 0.251\n",
            "[401,     3] loss: 0.244\n",
            "[402,     3] loss: 0.260\n",
            "[403,     3] loss: 0.245\n",
            "[404,     3] loss: 0.240\n",
            "[405,     3] loss: 0.252\n",
            "[406,     3] loss: 0.265\n",
            "[407,     3] loss: 0.275\n",
            "[408,     3] loss: 0.266\n",
            "[409,     3] loss: 0.244\n",
            "[410,     3] loss: 0.242\n",
            "[411,     3] loss: 0.233\n",
            "[412,     3] loss: 0.252\n",
            "[413,     3] loss: 0.250\n",
            "[414,     3] loss: 0.245\n",
            "[415,     3] loss: 0.270\n",
            "[416,     3] loss: 0.267\n",
            "[417,     3] loss: 0.263\n",
            "[418,     3] loss: 0.275\n",
            "[419,     3] loss: 0.270\n",
            "[420,     3] loss: 0.289\n",
            "[421,     3] loss: 0.317\n",
            "[422,     3] loss: 0.276\n",
            "[423,     3] loss: 0.264\n",
            "[424,     3] loss: 0.282\n",
            "[425,     3] loss: 0.256\n",
            "[426,     3] loss: 0.235\n",
            "[427,     3] loss: 0.238\n",
            "[428,     3] loss: 0.257\n",
            "[429,     3] loss: 0.250\n",
            "[430,     3] loss: 0.272\n",
            "[431,     3] loss: 0.259\n",
            "[432,     3] loss: 0.263\n",
            "[433,     3] loss: 0.264\n",
            "[434,     3] loss: 0.258\n",
            "[435,     3] loss: 0.263\n",
            "[436,     3] loss: 0.259\n",
            "[437,     3] loss: 0.262\n",
            "[438,     3] loss: 0.258\n",
            "[439,     3] loss: 0.238\n",
            "[440,     3] loss: 0.271\n",
            "[441,     3] loss: 0.241\n",
            "[442,     3] loss: 0.226\n",
            "[443,     3] loss: 0.258\n",
            "[444,     3] loss: 0.251\n",
            "[445,     3] loss: 0.249\n",
            "[446,     3] loss: 0.222\n",
            "[447,     3] loss: 0.260\n",
            "[448,     3] loss: 0.251\n",
            "[449,     3] loss: 0.241\n",
            "[450,     3] loss: 0.249\n",
            "[451,     3] loss: 0.255\n",
            "[452,     3] loss: 0.263\n",
            "[453,     3] loss: 0.266\n",
            "[454,     3] loss: 0.278\n",
            "[455,     3] loss: 0.260\n",
            "[456,     3] loss: 0.254\n",
            "[457,     3] loss: 0.252\n",
            "[458,     3] loss: 0.252\n",
            "[459,     3] loss: 0.236\n",
            "[460,     3] loss: 0.264\n",
            "[461,     3] loss: 0.262\n",
            "[462,     3] loss: 0.261\n",
            "[463,     3] loss: 0.236\n",
            "[464,     3] loss: 0.236\n",
            "[465,     3] loss: 0.250\n",
            "[466,     3] loss: 0.264\n",
            "[467,     3] loss: 0.242\n",
            "[468,     3] loss: 0.236\n",
            "[469,     3] loss: 0.240\n",
            "[470,     3] loss: 0.264\n",
            "[471,     3] loss: 0.248\n",
            "[472,     3] loss: 0.253\n",
            "[473,     3] loss: 0.259\n",
            "[474,     3] loss: 0.264\n",
            "[475,     3] loss: 0.246\n",
            "[476,     3] loss: 0.232\n",
            "[477,     3] loss: 0.243\n",
            "[478,     3] loss: 0.253\n",
            "[479,     3] loss: 0.255\n",
            "[480,     3] loss: 0.253\n",
            "[481,     3] loss: 0.270\n",
            "[482,     3] loss: 0.261\n",
            "[483,     3] loss: 0.257\n",
            "[484,     3] loss: 0.279\n",
            "[485,     3] loss: 0.249\n",
            "[486,     3] loss: 0.270\n",
            "[487,     3] loss: 0.257\n",
            "[488,     3] loss: 0.242\n",
            "[489,     3] loss: 0.260\n",
            "[490,     3] loss: 0.260\n",
            "[491,     3] loss: 0.264\n",
            "[492,     3] loss: 0.244\n",
            "[493,     3] loss: 0.264\n",
            "[494,     3] loss: 0.263\n",
            "[495,     3] loss: 0.266\n",
            "[496,     3] loss: 0.249\n",
            "[497,     3] loss: 0.230\n",
            "[498,     3] loss: 0.246\n",
            "[499,     3] loss: 0.264\n",
            "[500,     3] loss: 0.250\n",
            "[501,     3] loss: 0.261\n",
            "[502,     3] loss: 0.247\n",
            "[503,     3] loss: 0.258\n",
            "[504,     3] loss: 0.269\n",
            "[505,     3] loss: 0.255\n",
            "[506,     3] loss: 0.258\n",
            "[507,     3] loss: 0.260\n",
            "[508,     3] loss: 0.271\n",
            "[509,     3] loss: 0.257\n",
            "[510,     3] loss: 0.241\n",
            "[511,     3] loss: 0.256\n",
            "[512,     3] loss: 0.250\n",
            "[513,     3] loss: 0.291\n",
            "[514,     3] loss: 0.273\n",
            "[515,     3] loss: 0.301\n",
            "[516,     3] loss: 0.264\n",
            "[517,     3] loss: 0.307\n",
            "[518,     3] loss: 0.265\n",
            "[519,     3] loss: 0.266\n",
            "[520,     3] loss: 0.287\n",
            "[521,     3] loss: 0.269\n",
            "[522,     3] loss: 0.250\n",
            "[523,     3] loss: 0.279\n",
            "[524,     3] loss: 0.264\n",
            "[525,     3] loss: 0.253\n",
            "[526,     3] loss: 0.273\n",
            "[527,     3] loss: 0.238\n",
            "[528,     3] loss: 0.233\n",
            "[529,     3] loss: 0.246\n",
            "[530,     3] loss: 0.238\n",
            "[531,     3] loss: 0.250\n",
            "[532,     3] loss: 0.266\n",
            "[533,     3] loss: 0.271\n",
            "[534,     3] loss: 0.281\n",
            "[535,     3] loss: 0.254\n",
            "[536,     3] loss: 0.245\n",
            "[537,     3] loss: 0.243\n",
            "[538,     3] loss: 0.264\n",
            "[539,     3] loss: 0.257\n",
            "[540,     3] loss: 0.248\n",
            "[541,     3] loss: 0.270\n",
            "[542,     3] loss: 0.243\n",
            "[543,     3] loss: 0.245\n",
            "[544,     3] loss: 0.222\n",
            "[545,     3] loss: 0.251\n",
            "[546,     3] loss: 0.258\n",
            "[547,     3] loss: 0.248\n",
            "[548,     3] loss: 0.259\n",
            "[549,     3] loss: 0.259\n",
            "[550,     3] loss: 0.233\n",
            "[551,     3] loss: 0.255\n",
            "[552,     3] loss: 0.246\n",
            "[553,     3] loss: 0.252\n",
            "[554,     3] loss: 0.255\n",
            "[555,     3] loss: 0.259\n",
            "[556,     3] loss: 0.255\n",
            "[557,     3] loss: 0.255\n",
            "[558,     3] loss: 0.247\n",
            "[559,     3] loss: 0.263\n",
            "[560,     3] loss: 0.266\n",
            "[561,     3] loss: 0.256\n",
            "[562,     3] loss: 0.252\n",
            "[563,     3] loss: 0.257\n",
            "[564,     3] loss: 0.259\n",
            "[565,     3] loss: 0.233\n",
            "[566,     3] loss: 0.247\n",
            "[567,     3] loss: 0.245\n",
            "[568,     3] loss: 0.252\n",
            "[569,     3] loss: 0.268\n",
            "[570,     3] loss: 0.252\n",
            "[571,     3] loss: 0.267\n",
            "[572,     3] loss: 0.266\n",
            "[573,     3] loss: 0.291\n",
            "[574,     3] loss: 0.292\n",
            "[575,     3] loss: 0.299\n",
            "[576,     3] loss: 0.250\n",
            "[577,     3] loss: 0.286\n",
            "[578,     3] loss: 0.271\n",
            "[579,     3] loss: 0.263\n",
            "[580,     3] loss: 0.246\n",
            "[581,     3] loss: 0.253\n",
            "[582,     3] loss: 0.263\n",
            "[583,     3] loss: 0.246\n",
            "[584,     3] loss: 0.255\n",
            "[585,     3] loss: 0.263\n",
            "[586,     3] loss: 0.232\n",
            "[587,     3] loss: 0.249\n",
            "[588,     3] loss: 0.247\n",
            "[589,     3] loss: 0.241\n",
            "[590,     3] loss: 0.249\n",
            "[591,     3] loss: 0.257\n",
            "[592,     3] loss: 0.244\n",
            "[593,     3] loss: 0.225\n",
            "[594,     3] loss: 0.251\n",
            "[595,     3] loss: 0.246\n",
            "[596,     3] loss: 0.247\n",
            "[597,     3] loss: 0.253\n",
            "[598,     3] loss: 0.268\n",
            "[599,     3] loss: 0.244\n",
            "[600,     3] loss: 0.246\n",
            "[601,     3] loss: 0.235\n",
            "[602,     3] loss: 0.257\n",
            "[603,     3] loss: 0.245\n",
            "[604,     3] loss: 0.249\n",
            "[605,     3] loss: 0.246\n",
            "[606,     3] loss: 0.230\n",
            "[607,     3] loss: 0.270\n",
            "[608,     3] loss: 0.253\n",
            "[609,     3] loss: 0.273\n",
            "[610,     3] loss: 0.251\n",
            "[611,     3] loss: 0.257\n",
            "[612,     3] loss: 0.261\n",
            "[613,     3] loss: 0.239\n",
            "[614,     3] loss: 0.255\n",
            "[615,     3] loss: 0.240\n",
            "[616,     3] loss: 0.245\n",
            "[617,     3] loss: 0.246\n",
            "[618,     3] loss: 0.254\n",
            "[619,     3] loss: 0.267\n",
            "[620,     3] loss: 0.248\n",
            "[621,     3] loss: 0.267\n",
            "[622,     3] loss: 0.274\n",
            "[623,     3] loss: 0.258\n",
            "[624,     3] loss: 0.270\n",
            "[625,     3] loss: 0.312\n",
            "[626,     3] loss: 0.312\n",
            "[627,     3] loss: 0.285\n",
            "[628,     3] loss: 0.289\n",
            "[629,     3] loss: 0.266\n",
            "[630,     3] loss: 0.267\n",
            "[631,     3] loss: 0.257\n",
            "[632,     3] loss: 0.248\n",
            "[633,     3] loss: 0.252\n",
            "[634,     3] loss: 0.244\n",
            "[635,     3] loss: 0.246\n",
            "[636,     3] loss: 0.243\n",
            "[637,     3] loss: 0.233\n",
            "[638,     3] loss: 0.238\n",
            "[639,     3] loss: 0.232\n",
            "[640,     3] loss: 0.239\n",
            "[641,     3] loss: 0.251\n",
            "[642,     3] loss: 0.243\n",
            "[643,     3] loss: 0.269\n",
            "[644,     3] loss: 0.263\n",
            "[645,     3] loss: 0.279\n",
            "[646,     3] loss: 0.249\n",
            "[647,     3] loss: 0.257\n",
            "[648,     3] loss: 0.247\n",
            "[649,     3] loss: 0.244\n",
            "[650,     3] loss: 0.241\n",
            "[651,     3] loss: 0.267\n",
            "[652,     3] loss: 0.244\n",
            "[653,     3] loss: 0.258\n",
            "[654,     3] loss: 0.254\n",
            "[655,     3] loss: 0.261\n",
            "[656,     3] loss: 0.256\n",
            "[657,     3] loss: 0.257\n",
            "[658,     3] loss: 0.265\n",
            "[659,     3] loss: 0.290\n",
            "[660,     3] loss: 0.277\n",
            "[661,     3] loss: 0.265\n",
            "[662,     3] loss: 0.261\n",
            "[663,     3] loss: 0.269\n",
            "[664,     3] loss: 0.261\n",
            "[665,     3] loss: 0.259\n",
            "[666,     3] loss: 0.252\n",
            "[667,     3] loss: 0.238\n",
            "[668,     3] loss: 0.232\n",
            "[669,     3] loss: 0.281\n",
            "[670,     3] loss: 0.224\n",
            "[671,     3] loss: 0.244\n",
            "[672,     3] loss: 0.260\n",
            "[673,     3] loss: 0.264\n",
            "[674,     3] loss: 0.239\n",
            "[675,     3] loss: 0.268\n",
            "[676,     3] loss: 0.260\n",
            "[677,     3] loss: 0.228\n",
            "[678,     3] loss: 0.247\n",
            "[679,     3] loss: 0.258\n",
            "[680,     3] loss: 0.250\n",
            "[681,     3] loss: 0.245\n",
            "[682,     3] loss: 0.240\n",
            "[683,     3] loss: 0.254\n",
            "[684,     3] loss: 0.240\n",
            "[685,     3] loss: 0.251\n",
            "[686,     3] loss: 0.270\n",
            "[687,     3] loss: 0.264\n",
            "[688,     3] loss: 0.271\n",
            "[689,     3] loss: 0.259\n",
            "[690,     3] loss: 0.243\n",
            "[691,     3] loss: 0.240\n",
            "[692,     3] loss: 0.239\n",
            "[693,     3] loss: 0.241\n",
            "[694,     3] loss: 0.248\n",
            "[695,     3] loss: 0.266\n",
            "[696,     3] loss: 0.270\n",
            "[697,     3] loss: 0.264\n",
            "[698,     3] loss: 0.278\n",
            "[699,     3] loss: 0.244\n",
            "[700,     3] loss: 0.237\n",
            "[701,     3] loss: 0.273\n",
            "[702,     3] loss: 0.252\n",
            "[703,     3] loss: 0.263\n",
            "[704,     3] loss: 0.249\n",
            "[705,     3] loss: 0.245\n",
            "[706,     3] loss: 0.245\n",
            "[707,     3] loss: 0.245\n",
            "[708,     3] loss: 0.261\n",
            "[709,     3] loss: 0.277\n",
            "[710,     3] loss: 0.273\n",
            "[711,     3] loss: 0.258\n",
            "[712,     3] loss: 0.271\n",
            "[713,     3] loss: 0.258\n",
            "[714,     3] loss: 0.268\n",
            "[715,     3] loss: 0.276\n",
            "[716,     3] loss: 0.244\n",
            "[717,     3] loss: 0.248\n",
            "[718,     3] loss: 0.276\n",
            "[719,     3] loss: 0.269\n",
            "[720,     3] loss: 0.242\n",
            "[721,     3] loss: 0.268\n",
            "[722,     3] loss: 0.242\n",
            "[723,     3] loss: 0.253\n",
            "[724,     3] loss: 0.260\n",
            "[725,     3] loss: 0.252\n",
            "[726,     3] loss: 0.241\n",
            "[727,     3] loss: 0.243\n",
            "[728,     3] loss: 0.256\n",
            "[729,     3] loss: 0.249\n",
            "[730,     3] loss: 0.258\n",
            "[731,     3] loss: 0.255\n",
            "[732,     3] loss: 0.254\n",
            "[733,     3] loss: 0.246\n",
            "[734,     3] loss: 0.251\n",
            "[735,     3] loss: 0.258\n",
            "[736,     3] loss: 0.267\n",
            "[737,     3] loss: 0.234\n",
            "[738,     3] loss: 0.270\n",
            "[739,     3] loss: 0.251\n",
            "[740,     3] loss: 0.268\n",
            "[741,     3] loss: 0.235\n",
            "[742,     3] loss: 0.248\n",
            "[743,     3] loss: 0.254\n",
            "[744,     3] loss: 0.271\n",
            "[745,     3] loss: 0.281\n",
            "[746,     3] loss: 0.257\n",
            "[747,     3] loss: 0.239\n",
            "[748,     3] loss: 0.270\n",
            "[749,     3] loss: 0.235\n",
            "[750,     3] loss: 0.260\n",
            "[751,     3] loss: 0.270\n",
            "[752,     3] loss: 0.242\n",
            "[753,     3] loss: 0.234\n",
            "[754,     3] loss: 0.245\n",
            "[755,     3] loss: 0.282\n",
            "[756,     3] loss: 0.252\n",
            "[757,     3] loss: 0.244\n",
            "[758,     3] loss: 0.243\n",
            "[759,     3] loss: 0.259\n",
            "[760,     3] loss: 0.261\n",
            "[761,     3] loss: 0.274\n",
            "[762,     3] loss: 0.239\n",
            "[763,     3] loss: 0.239\n",
            "[764,     3] loss: 0.223\n",
            "[765,     3] loss: 0.238\n",
            "[766,     3] loss: 0.258\n",
            "[767,     3] loss: 0.247\n",
            "[768,     3] loss: 0.266\n",
            "[769,     3] loss: 0.261\n",
            "[770,     3] loss: 0.260\n",
            "[771,     3] loss: 0.248\n",
            "[772,     3] loss: 0.249\n",
            "[773,     3] loss: 0.252\n",
            "[774,     3] loss: 0.252\n",
            "[775,     3] loss: 0.258\n",
            "[776,     3] loss: 0.256\n",
            "[777,     3] loss: 0.263\n",
            "[778,     3] loss: 0.253\n",
            "[779,     3] loss: 0.237\n",
            "[780,     3] loss: 0.240\n",
            "[781,     3] loss: 0.253\n",
            "[782,     3] loss: 0.241\n",
            "[783,     3] loss: 0.242\n",
            "[784,     3] loss: 0.259\n",
            "[785,     3] loss: 0.244\n",
            "[786,     3] loss: 0.251\n",
            "[787,     3] loss: 0.233\n",
            "[788,     3] loss: 0.234\n",
            "[789,     3] loss: 0.234\n",
            "[790,     3] loss: 0.262\n",
            "[791,     3] loss: 0.270\n",
            "[792,     3] loss: 0.254\n",
            "[793,     3] loss: 0.276\n",
            "[794,     3] loss: 0.256\n",
            "[795,     3] loss: 0.274\n",
            "[796,     3] loss: 0.271\n",
            "[797,     3] loss: 0.236\n",
            "[798,     3] loss: 0.244\n",
            "[799,     3] loss: 0.233\n",
            "[800,     3] loss: 0.265\n",
            "[801,     3] loss: 0.269\n",
            "[802,     3] loss: 0.260\n",
            "[803,     3] loss: 0.243\n",
            "[804,     3] loss: 0.248\n",
            "[805,     3] loss: 0.263\n",
            "[806,     3] loss: 0.263\n",
            "[807,     3] loss: 0.258\n",
            "[808,     3] loss: 0.244\n",
            "[809,     3] loss: 0.248\n",
            "[810,     3] loss: 0.262\n",
            "[811,     3] loss: 0.255\n",
            "[812,     3] loss: 0.237\n",
            "[813,     3] loss: 0.227\n",
            "[814,     3] loss: 0.261\n",
            "[815,     3] loss: 0.252\n",
            "[816,     3] loss: 0.257\n",
            "[817,     3] loss: 0.241\n",
            "[818,     3] loss: 0.250\n",
            "[819,     3] loss: 0.249\n",
            "[820,     3] loss: 0.250\n",
            "[821,     3] loss: 0.248\n",
            "[822,     3] loss: 0.249\n",
            "[823,     3] loss: 0.254\n",
            "[824,     3] loss: 0.267\n",
            "[825,     3] loss: 0.252\n",
            "[826,     3] loss: 0.269\n",
            "[827,     3] loss: 0.278\n",
            "[828,     3] loss: 0.280\n",
            "[829,     3] loss: 0.274\n",
            "[830,     3] loss: 0.249\n",
            "[831,     3] loss: 0.254\n",
            "[832,     3] loss: 0.247\n",
            "[833,     3] loss: 0.267\n",
            "[834,     3] loss: 0.247\n",
            "[835,     3] loss: 0.266\n",
            "[836,     3] loss: 0.257\n",
            "[837,     3] loss: 0.254\n",
            "[838,     3] loss: 0.255\n",
            "[839,     3] loss: 0.258\n",
            "[840,     3] loss: 0.234\n",
            "[841,     3] loss: 0.245\n",
            "[842,     3] loss: 0.251\n",
            "[843,     3] loss: 0.251\n",
            "[844,     3] loss: 0.272\n",
            "[845,     3] loss: 0.255\n",
            "[846,     3] loss: 0.232\n",
            "[847,     3] loss: 0.253\n",
            "[848,     3] loss: 0.253\n",
            "[849,     3] loss: 0.241\n",
            "[850,     3] loss: 0.270\n",
            "[851,     3] loss: 0.256\n",
            "[852,     3] loss: 0.266\n",
            "[853,     3] loss: 0.226\n",
            "[854,     3] loss: 0.248\n",
            "[855,     3] loss: 0.242\n",
            "[856,     3] loss: 0.236\n",
            "[857,     3] loss: 0.250\n",
            "[858,     3] loss: 0.236\n",
            "[859,     3] loss: 0.235\n",
            "[860,     3] loss: 0.244\n",
            "[861,     3] loss: 0.261\n",
            "[862,     3] loss: 0.246\n",
            "[863,     3] loss: 0.243\n",
            "[864,     3] loss: 0.240\n",
            "[865,     3] loss: 0.246\n",
            "[866,     3] loss: 0.236\n",
            "[867,     3] loss: 0.251\n",
            "[868,     3] loss: 0.245\n",
            "[869,     3] loss: 0.251\n",
            "[870,     3] loss: 0.250\n",
            "[871,     3] loss: 0.244\n",
            "[872,     3] loss: 0.244\n",
            "[873,     3] loss: 0.261\n",
            "[874,     3] loss: 0.267\n",
            "[875,     3] loss: 0.253\n",
            "[876,     3] loss: 0.262\n",
            "[877,     3] loss: 0.264\n",
            "[878,     3] loss: 0.243\n",
            "[879,     3] loss: 0.247\n",
            "[880,     3] loss: 0.250\n",
            "[881,     3] loss: 0.250\n",
            "[882,     3] loss: 0.245\n",
            "[883,     3] loss: 0.242\n",
            "[884,     3] loss: 0.257\n",
            "[885,     3] loss: 0.255\n",
            "[886,     3] loss: 0.229\n",
            "[887,     3] loss: 0.237\n",
            "[888,     3] loss: 0.255\n",
            "[889,     3] loss: 0.258\n",
            "[890,     3] loss: 0.241\n",
            "[891,     3] loss: 0.267\n",
            "[892,     3] loss: 0.245\n",
            "[893,     3] loss: 0.255\n",
            "[894,     3] loss: 0.261\n",
            "[895,     3] loss: 0.302\n",
            "[896,     3] loss: 0.265\n",
            "[897,     3] loss: 0.249\n",
            "[898,     3] loss: 0.250\n",
            "[899,     3] loss: 0.254\n",
            "[900,     3] loss: 0.257\n",
            "[901,     3] loss: 0.254\n",
            "[902,     3] loss: 0.263\n",
            "[903,     3] loss: 0.266\n",
            "[904,     3] loss: 0.251\n",
            "[905,     3] loss: 0.232\n",
            "[906,     3] loss: 0.236\n",
            "[907,     3] loss: 0.244\n",
            "[908,     3] loss: 0.238\n",
            "[909,     3] loss: 0.276\n",
            "[910,     3] loss: 0.269\n",
            "[911,     3] loss: 0.259\n",
            "[912,     3] loss: 0.268\n",
            "[913,     3] loss: 0.244\n",
            "[914,     3] loss: 0.263\n",
            "[915,     3] loss: 0.245\n",
            "[916,     3] loss: 0.254\n",
            "[917,     3] loss: 0.243\n",
            "[918,     3] loss: 0.252\n",
            "[919,     3] loss: 0.250\n",
            "[920,     3] loss: 0.253\n",
            "[921,     3] loss: 0.234\n",
            "[922,     3] loss: 0.249\n",
            "[923,     3] loss: 0.238\n",
            "[924,     3] loss: 0.268\n",
            "[925,     3] loss: 0.267\n",
            "[926,     3] loss: 0.250\n",
            "[927,     3] loss: 0.241\n",
            "[928,     3] loss: 0.260\n",
            "[929,     3] loss: 0.258\n",
            "[930,     3] loss: 0.246\n",
            "[931,     3] loss: 0.278\n",
            "[932,     3] loss: 0.239\n",
            "[933,     3] loss: 0.248\n",
            "[934,     3] loss: 0.261\n",
            "[935,     3] loss: 0.258\n",
            "[936,     3] loss: 0.260\n",
            "[937,     3] loss: 0.252\n",
            "[938,     3] loss: 0.246\n",
            "[939,     3] loss: 0.255\n",
            "[940,     3] loss: 0.236\n",
            "[941,     3] loss: 0.258\n",
            "[942,     3] loss: 0.257\n",
            "[943,     3] loss: 0.260\n",
            "[944,     3] loss: 0.252\n",
            "[945,     3] loss: 0.250\n",
            "[946,     3] loss: 0.263\n",
            "[947,     3] loss: 0.242\n",
            "[948,     3] loss: 0.240\n",
            "[949,     3] loss: 0.259\n",
            "[950,     3] loss: 0.274\n",
            "[951,     3] loss: 0.269\n",
            "[952,     3] loss: 0.256\n",
            "[953,     3] loss: 0.252\n",
            "[954,     3] loss: 0.266\n",
            "[955,     3] loss: 0.237\n",
            "[956,     3] loss: 0.286\n",
            "[957,     3] loss: 0.257\n",
            "[958,     3] loss: 0.238\n",
            "[959,     3] loss: 0.239\n",
            "[960,     3] loss: 0.256\n",
            "[961,     3] loss: 0.253\n",
            "[962,     3] loss: 0.252\n",
            "[963,     3] loss: 0.237\n",
            "[964,     3] loss: 0.238\n",
            "[965,     3] loss: 0.257\n",
            "[966,     3] loss: 0.241\n",
            "[967,     3] loss: 0.233\n",
            "[968,     3] loss: 0.263\n",
            "[969,     3] loss: 0.258\n",
            "[970,     3] loss: 0.261\n",
            "[971,     3] loss: 0.267\n",
            "[972,     3] loss: 0.251\n",
            "[973,     3] loss: 0.246\n",
            "[974,     3] loss: 0.260\n",
            "[975,     3] loss: 0.256\n",
            "[976,     3] loss: 0.294\n",
            "[977,     3] loss: 0.282\n",
            "[978,     3] loss: 0.276\n",
            "[979,     3] loss: 0.251\n",
            "[980,     3] loss: 0.246\n",
            "[981,     3] loss: 0.270\n",
            "[982,     3] loss: 0.242\n",
            "[983,     3] loss: 0.252\n",
            "[984,     3] loss: 0.261\n",
            "[985,     3] loss: 0.246\n",
            "[986,     3] loss: 0.254\n",
            "[987,     3] loss: 0.240\n",
            "[988,     3] loss: 0.240\n",
            "[989,     3] loss: 0.226\n",
            "[990,     3] loss: 0.243\n",
            "[991,     3] loss: 0.244\n",
            "[992,     3] loss: 0.242\n",
            "[993,     3] loss: 0.251\n",
            "[994,     3] loss: 0.241\n",
            "[995,     3] loss: 0.252\n",
            "[996,     3] loss: 0.245\n",
            "[997,     3] loss: 0.249\n",
            "[998,     3] loss: 0.251\n",
            "[999,     3] loss: 0.274\n",
            "[1000,     3] loss: 0.261\n",
            "Finished Training\n"
          ],
          "name": "stdout"
        }
      ]
    },
    {
      "cell_type": "code",
      "metadata": {
        "id": "5gQoPST5zW2t"
      },
      "source": [
        "df_train = pd.DataFrame()\n",
        "df_test = pd.DataFrame()"
      ],
      "execution_count": 160,
      "outputs": []
    },
    {
      "cell_type": "code",
      "metadata": {
        "id": "In76SYH_zZHV"
      },
      "source": [
        "columns = [\"epochs\", \"argmax > 0.5\" ,\"argmax < 0.5\", \"focus_true_pred_true\", \"focus_false_pred_true\", \"focus_true_pred_false\", \"focus_false_pred_false\" ]"
      ],
      "execution_count": 161,
      "outputs": []
    },
    {
      "cell_type": "code",
      "metadata": {
        "id": "BS4HtOHEzZ0E"
      },
      "source": [
        "df_train[columns[0]] = col1\n",
        "df_train[columns[1]] = col2\n",
        "df_train[columns[2]] = col3\n",
        "df_train[columns[3]] = col4\n",
        "df_train[columns[4]] = col5\n",
        "df_train[columns[5]] = col6\n",
        "df_train[columns[6]] = col7\n",
        "\n",
        "df_test[columns[0]] = col1\n",
        "df_test[columns[1]] = col8\n",
        "df_test[columns[2]] = col9\n",
        "df_test[columns[3]] = col10\n",
        "df_test[columns[4]] = col11\n",
        "df_test[columns[5]] = col12\n",
        "df_test[columns[6]] = col13"
      ],
      "execution_count": 162,
      "outputs": []
    },
    {
      "cell_type": "code",
      "metadata": {
        "id": "1UbTkfLUINTI",
        "colab": {
          "base_uri": "https://localhost:8080/",
          "height": 424
        },
        "outputId": "21710a98-53ab-4a2c-e7a6-4097ad3c6aa0"
      },
      "source": [
        "df_train"
      ],
      "execution_count": 163,
      "outputs": [
        {
          "output_type": "execute_result",
          "data": {
            "text/html": [
              "<div>\n",
              "<style scoped>\n",
              "    .dataframe tbody tr th:only-of-type {\n",
              "        vertical-align: middle;\n",
              "    }\n",
              "\n",
              "    .dataframe tbody tr th {\n",
              "        vertical-align: top;\n",
              "    }\n",
              "\n",
              "    .dataframe thead th {\n",
              "        text-align: right;\n",
              "    }\n",
              "</style>\n",
              "<table border=\"1\" class=\"dataframe\">\n",
              "  <thead>\n",
              "    <tr style=\"text-align: right;\">\n",
              "      <th></th>\n",
              "      <th>epochs</th>\n",
              "      <th>argmax &gt; 0.5</th>\n",
              "      <th>argmax &lt; 0.5</th>\n",
              "      <th>focus_true_pred_true</th>\n",
              "      <th>focus_false_pred_true</th>\n",
              "      <th>focus_true_pred_false</th>\n",
              "      <th>focus_false_pred_false</th>\n",
              "    </tr>\n",
              "  </thead>\n",
              "  <tbody>\n",
              "    <tr>\n",
              "      <th>0</th>\n",
              "      <td>0</td>\n",
              "      <td>0</td>\n",
              "      <td>1000</td>\n",
              "      <td>43</td>\n",
              "      <td>334</td>\n",
              "      <td>77</td>\n",
              "      <td>546</td>\n",
              "    </tr>\n",
              "    <tr>\n",
              "      <th>1</th>\n",
              "      <td>1</td>\n",
              "      <td>0</td>\n",
              "      <td>1000</td>\n",
              "      <td>320</td>\n",
              "      <td>86</td>\n",
              "      <td>460</td>\n",
              "      <td>134</td>\n",
              "    </tr>\n",
              "    <tr>\n",
              "      <th>2</th>\n",
              "      <td>6</td>\n",
              "      <td>302</td>\n",
              "      <td>698</td>\n",
              "      <td>798</td>\n",
              "      <td>0</td>\n",
              "      <td>202</td>\n",
              "      <td>0</td>\n",
              "    </tr>\n",
              "    <tr>\n",
              "      <th>3</th>\n",
              "      <td>11</td>\n",
              "      <td>1000</td>\n",
              "      <td>0</td>\n",
              "      <td>851</td>\n",
              "      <td>0</td>\n",
              "      <td>149</td>\n",
              "      <td>0</td>\n",
              "    </tr>\n",
              "    <tr>\n",
              "      <th>4</th>\n",
              "      <td>16</td>\n",
              "      <td>1000</td>\n",
              "      <td>0</td>\n",
              "      <td>885</td>\n",
              "      <td>0</td>\n",
              "      <td>115</td>\n",
              "      <td>0</td>\n",
              "    </tr>\n",
              "    <tr>\n",
              "      <th>...</th>\n",
              "      <td>...</td>\n",
              "      <td>...</td>\n",
              "      <td>...</td>\n",
              "      <td>...</td>\n",
              "      <td>...</td>\n",
              "      <td>...</td>\n",
              "      <td>...</td>\n",
              "    </tr>\n",
              "    <tr>\n",
              "      <th>196</th>\n",
              "      <td>976</td>\n",
              "      <td>1000</td>\n",
              "      <td>0</td>\n",
              "      <td>883</td>\n",
              "      <td>0</td>\n",
              "      <td>117</td>\n",
              "      <td>0</td>\n",
              "    </tr>\n",
              "    <tr>\n",
              "      <th>197</th>\n",
              "      <td>981</td>\n",
              "      <td>1000</td>\n",
              "      <td>0</td>\n",
              "      <td>895</td>\n",
              "      <td>0</td>\n",
              "      <td>105</td>\n",
              "      <td>0</td>\n",
              "    </tr>\n",
              "    <tr>\n",
              "      <th>198</th>\n",
              "      <td>986</td>\n",
              "      <td>1000</td>\n",
              "      <td>0</td>\n",
              "      <td>901</td>\n",
              "      <td>0</td>\n",
              "      <td>99</td>\n",
              "      <td>0</td>\n",
              "    </tr>\n",
              "    <tr>\n",
              "      <th>199</th>\n",
              "      <td>991</td>\n",
              "      <td>1000</td>\n",
              "      <td>0</td>\n",
              "      <td>901</td>\n",
              "      <td>0</td>\n",
              "      <td>99</td>\n",
              "      <td>0</td>\n",
              "    </tr>\n",
              "    <tr>\n",
              "      <th>200</th>\n",
              "      <td>996</td>\n",
              "      <td>1000</td>\n",
              "      <td>0</td>\n",
              "      <td>904</td>\n",
              "      <td>0</td>\n",
              "      <td>96</td>\n",
              "      <td>0</td>\n",
              "    </tr>\n",
              "  </tbody>\n",
              "</table>\n",
              "<p>201 rows × 7 columns</p>\n",
              "</div>"
            ],
            "text/plain": [
              "     epochs  argmax > 0.5  ...  focus_true_pred_false  focus_false_pred_false\n",
              "0         0             0  ...                     77                     546\n",
              "1         1             0  ...                    460                     134\n",
              "2         6           302  ...                    202                       0\n",
              "3        11          1000  ...                    149                       0\n",
              "4        16          1000  ...                    115                       0\n",
              "..      ...           ...  ...                    ...                     ...\n",
              "196     976          1000  ...                    117                       0\n",
              "197     981          1000  ...                    105                       0\n",
              "198     986          1000  ...                     99                       0\n",
              "199     991          1000  ...                     99                       0\n",
              "200     996          1000  ...                     96                       0\n",
              "\n",
              "[201 rows x 7 columns]"
            ]
          },
          "metadata": {
            "tags": []
          },
          "execution_count": 163
        }
      ]
    },
    {
      "cell_type": "code",
      "metadata": {
        "colab": {
          "base_uri": "https://localhost:8080/",
          "height": 573
        },
        "id": "xyna3USAeKZ9",
        "outputId": "ac2093a8-a9d4-4352-a0ba-b0839ecc7457"
      },
      "source": [
        "# plt.figure(12,12)\n",
        "plt.plot(col1,col2, label='argmax > 0.5')\n",
        "plt.plot(col1,col3, label='argmax < 0.5')\n",
        "\n",
        "plt.legend(loc='center left', bbox_to_anchor=(1, 0.5))\n",
        "plt.xlabel(\"epochs\")\n",
        "plt.ylabel(\"training data\")\n",
        "plt.title(\"On Training set\")\n",
        "plt.show()\n",
        "\n",
        "plt.plot(col1,col4, label =\"focus_true_pred_true \")\n",
        "plt.plot(col1,col5, label =\"focus_false_pred_true \")\n",
        "plt.plot(col1,col6, label =\"focus_true_pred_false \")\n",
        "plt.plot(col1,col7, label =\"focus_false_pred_false \")\n",
        "plt.title(\"On Training set\")\n",
        "plt.legend(loc='center left', bbox_to_anchor=(1, 0.5))\n",
        "plt.xlabel(\"epochs\")\n",
        "plt.ylabel(\"training data\")\n",
        "plt.show()"
      ],
      "execution_count": 164,
      "outputs": [
        {
          "output_type": "display_data",
          "data": {
            "image/png": "[encoded data removed]",
            "text/plain": [
              "<Figure size 432x288 with 1 Axes>"
            ]
          },
          "metadata": {
            "tags": [],
            "needs_background": "light"
          }
        },
        {
          "output_type": "display_data",
          "data": {
            "image/png": "[encoded data removed]",
            "text/plain": [
              "<Figure size 432x288 with 1 Axes>"
            ]
          },
          "metadata": {
            "tags": [],
            "needs_background": "light"
          }
        }
      ]
    },
    {
      "cell_type": "code",
      "metadata": {
        "colab": {
          "base_uri": "https://localhost:8080/",
          "height": 354
        },
        "id": "5lhODjqGoSxL",
        "outputId": "ad9cb191-7303-4167-938a-2e6d2979d531"
      },
      "source": [
        "plt.figure(figsize=(6,5))\n",
        "plt.plot(col1,np.array(col4)/10, label =\"FTPT\")\n",
        "plt.plot(col1,np.array(col5)/10, label =\"FFPT\")\n",
        "plt.plot(col1,np.array(col6)/10, label =\"FTPF\")\n",
        "plt.plot(col1,np.array(col7)/10, label =\"FFPF\")\n",
        "plt.title(\"Dataset3 - SDC On Train set\")\n",
        "plt.grid()\n",
        "# plt.legend(loc='center left', bbox_to_anchor=(1, 0.5))\n",
        "# plt.legend(loc='upper right')\n",
        "plt.legend()\n",
        "plt.xlabel(\"epochs\", fontsize=14, fontweight = 'bold')\n",
        "plt.ylabel(\"percentage train data\", fontsize=14, fontweight = 'bold')\n",
        "plt.savefig(path+\"ds3_train.png\", bbox_inches=\"tight\")\n",
        "plt.savefig(path+\"ds3_train.pdf\", bbox_inches=\"tight\")\n",
        "plt.savefig(\"ds3_train.png\", bbox_inches=\"tight\")\n",
        "plt.savefig(\"ds3_train.pdf\", bbox_inches=\"tight\")\n",
        "plt.show()"
      ],
      "execution_count": 174,
      "outputs": [
        {
          "output_type": "display_data",
          "data": {
            "image/png": "[encoded data removed]",
            "text/plain": [
              "<Figure size 432x360 with 1 Axes>"
            ]
          },
          "metadata": {
            "tags": [],
            "needs_background": "light"
          }
        }
      ]
    },
    {
      "cell_type": "code",
      "metadata": {
        "colab": {
          "base_uri": "https://localhost:8080/",
          "height": 424
        },
        "id": "hrb68lvueMA-",
        "outputId": "b89176da-a787-4694-fbf5-087ca1a8e285"
      },
      "source": [
        "df_test"
      ],
      "execution_count": 166,
      "outputs": [
        {
          "output_type": "execute_result",
          "data": {
            "text/html": [
              "<div>\n",
              "<style scoped>\n",
              "    .dataframe tbody tr th:only-of-type {\n",
              "        vertical-align: middle;\n",
              "    }\n",
              "\n",
              "    .dataframe tbody tr th {\n",
              "        vertical-align: top;\n",
              "    }\n",
              "\n",
              "    .dataframe thead th {\n",
              "        text-align: right;\n",
              "    }\n",
              "</style>\n",
              "<table border=\"1\" class=\"dataframe\">\n",
              "  <thead>\n",
              "    <tr style=\"text-align: right;\">\n",
              "      <th></th>\n",
              "      <th>epochs</th>\n",
              "      <th>argmax &gt; 0.5</th>\n",
              "      <th>argmax &lt; 0.5</th>\n",
              "      <th>focus_true_pred_true</th>\n",
              "      <th>focus_false_pred_true</th>\n",
              "      <th>focus_true_pred_false</th>\n",
              "      <th>focus_false_pred_false</th>\n",
              "    </tr>\n",
              "  </thead>\n",
              "  <tbody>\n",
              "    <tr>\n",
              "      <th>0</th>\n",
              "      <td>0</td>\n",
              "      <td>0</td>\n",
              "      <td>1000</td>\n",
              "      <td>37</td>\n",
              "      <td>305</td>\n",
              "      <td>79</td>\n",
              "      <td>579</td>\n",
              "    </tr>\n",
              "    <tr>\n",
              "      <th>1</th>\n",
              "      <td>1</td>\n",
              "      <td>0</td>\n",
              "      <td>1000</td>\n",
              "      <td>403</td>\n",
              "      <td>0</td>\n",
              "      <td>597</td>\n",
              "      <td>0</td>\n",
              "    </tr>\n",
              "    <tr>\n",
              "      <th>2</th>\n",
              "      <td>6</td>\n",
              "      <td>377</td>\n",
              "      <td>623</td>\n",
              "      <td>821</td>\n",
              "      <td>0</td>\n",
              "      <td>179</td>\n",
              "      <td>0</td>\n",
              "    </tr>\n",
              "    <tr>\n",
              "      <th>3</th>\n",
              "      <td>11</td>\n",
              "      <td>995</td>\n",
              "      <td>5</td>\n",
              "      <td>876</td>\n",
              "      <td>0</td>\n",
              "      <td>124</td>\n",
              "      <td>0</td>\n",
              "    </tr>\n",
              "    <tr>\n",
              "      <th>4</th>\n",
              "      <td>16</td>\n",
              "      <td>1000</td>\n",
              "      <td>0</td>\n",
              "      <td>890</td>\n",
              "      <td>0</td>\n",
              "      <td>110</td>\n",
              "      <td>0</td>\n",
              "    </tr>\n",
              "    <tr>\n",
              "      <th>...</th>\n",
              "      <td>...</td>\n",
              "      <td>...</td>\n",
              "      <td>...</td>\n",
              "      <td>...</td>\n",
              "      <td>...</td>\n",
              "      <td>...</td>\n",
              "      <td>...</td>\n",
              "    </tr>\n",
              "    <tr>\n",
              "      <th>196</th>\n",
              "      <td>976</td>\n",
              "      <td>1000</td>\n",
              "      <td>0</td>\n",
              "      <td>878</td>\n",
              "      <td>0</td>\n",
              "      <td>122</td>\n",
              "      <td>0</td>\n",
              "    </tr>\n",
              "    <tr>\n",
              "      <th>197</th>\n",
              "      <td>981</td>\n",
              "      <td>1000</td>\n",
              "      <td>0</td>\n",
              "      <td>891</td>\n",
              "      <td>0</td>\n",
              "      <td>109</td>\n",
              "      <td>0</td>\n",
              "    </tr>\n",
              "    <tr>\n",
              "      <th>198</th>\n",
              "      <td>986</td>\n",
              "      <td>1000</td>\n",
              "      <td>0</td>\n",
              "      <td>887</td>\n",
              "      <td>0</td>\n",
              "      <td>113</td>\n",
              "      <td>0</td>\n",
              "    </tr>\n",
              "    <tr>\n",
              "      <th>199</th>\n",
              "      <td>991</td>\n",
              "      <td>1000</td>\n",
              "      <td>0</td>\n",
              "      <td>889</td>\n",
              "      <td>0</td>\n",
              "      <td>111</td>\n",
              "      <td>0</td>\n",
              "    </tr>\n",
              "    <tr>\n",
              "      <th>200</th>\n",
              "      <td>996</td>\n",
              "      <td>1000</td>\n",
              "      <td>0</td>\n",
              "      <td>888</td>\n",
              "      <td>0</td>\n",
              "      <td>112</td>\n",
              "      <td>0</td>\n",
              "    </tr>\n",
              "  </tbody>\n",
              "</table>\n",
              "<p>201 rows × 7 columns</p>\n",
              "</div>"
            ],
            "text/plain": [
              "     epochs  argmax > 0.5  ...  focus_true_pred_false  focus_false_pred_false\n",
              "0         0             0  ...                     79                     579\n",
              "1         1             0  ...                    597                       0\n",
              "2         6           377  ...                    179                       0\n",
              "3        11           995  ...                    124                       0\n",
              "4        16          1000  ...                    110                       0\n",
              "..      ...           ...  ...                    ...                     ...\n",
              "196     976          1000  ...                    122                       0\n",
              "197     981          1000  ...                    109                       0\n",
              "198     986          1000  ...                    113                       0\n",
              "199     991          1000  ...                    111                       0\n",
              "200     996          1000  ...                    112                       0\n",
              "\n",
              "[201 rows x 7 columns]"
            ]
          },
          "metadata": {
            "tags": []
          },
          "execution_count": 166
        }
      ]
    },
    {
      "cell_type": "code",
      "metadata": {
        "colab": {
          "base_uri": "https://localhost:8080/",
          "height": 573
        },
        "id": "qR5SnitGeNMN",
        "outputId": "4c6db061-4a6e-4f88-9913-b08e0136dc20"
      },
      "source": [
        "# plt.figure(12,12)\n",
        "plt.plot(col1,col8, label='argmax > 0.5')\n",
        "plt.plot(col1,col9, label='argmax < 0.5')\n",
        "\n",
        "plt.legend(loc='center left', bbox_to_anchor=(1, 0.5))\n",
        "plt.xlabel(\"epochs\")\n",
        "plt.ylabel(\"Testing data\")\n",
        "plt.title(\"On Testing set\")\n",
        "plt.show()\n",
        "\n",
        "plt.plot(col1,col10, label =\"focus_true_pred_true \")\n",
        "plt.plot(col1,col11, label =\"focus_false_pred_true \")\n",
        "plt.plot(col1,col12, label =\"focus_true_pred_false \")\n",
        "plt.plot(col1,col13, label =\"focus_false_pred_false \")\n",
        "plt.title(\"On Testing set\")\n",
        "plt.legend(loc='center left', bbox_to_anchor=(1, 0.5))\n",
        "plt.xlabel(\"epochs\")\n",
        "plt.ylabel(\"Testing data\")\n",
        "plt.show()"
      ],
      "execution_count": 167,
      "outputs": [
        {
          "output_type": "display_data",
          "data": {
            "image/png": "[encoded data removed]",
            "text/plain": [
              "<Figure size 432x288 with 1 Axes>"
            ]
          },
          "metadata": {
            "tags": [],
            "needs_background": "light"
          }
        },
        {
          "output_type": "display_data",
          "data": {
            "image/png": "[encoded data removed]",
            "text/plain": [
              "<Figure size 432x288 with 1 Axes>"
            ]
          },
          "metadata": {
            "tags": [],
            "needs_background": "light"
          }
        }
      ]
    },
    {
      "cell_type": "code",
      "metadata": {
        "colab": {
          "base_uri": "https://localhost:8080/",
          "height": 354
        },
        "id": "vwP4uAKyoaq7",
        "outputId": "3732f8cf-ce6d-4e2e-ae7f-c95e028237a0"
      },
      "source": [
        "plt.figure(figsize=(6,5))\n",
        "plt.plot(col1,np.array(col10)/10, label =\"FTPT\")\n",
        "plt.plot(col1,np.array(col11)/10, label =\"FFPT\")\n",
        "plt.plot(col1,np.array(col12)/10, label =\"FTPF\")\n",
        "plt.plot(col1,np.array(col13)/10, label =\"FFPF\")\n",
        "plt.title(\"Dataset3 - SDC On Test set\")\n",
        "plt.grid()\n",
        "# plt.legend(loc='center left', bbox_to_anchor=(1, 0.5))\n",
        "# plt.legend(loc='upper right')\n",
        "plt.legend()\n",
        "plt.xlabel(\"epochs\", fontsize=14, fontweight = 'bold')\n",
        "plt.ylabel(\"percentage test data\", fontsize=14, fontweight = 'bold')\n",
        "plt.savefig(path+\"ds3_test.png\", bbox_inches=\"tight\")\n",
        "plt.savefig(path+\"ds3_test.pdf\", bbox_inches=\"tight\")\n",
        "plt.savefig(\"ds3_test.png\", bbox_inches=\"tight\")\n",
        "plt.savefig(\"ds3_test.pdf\", bbox_inches=\"tight\")\n",
        "plt.show()"
      ],
      "execution_count": 175,
      "outputs": [
        {
          "output_type": "display_data",
          "data": {
            "image/png": "[encoded data removed]",
            "text/plain": [
              "<Figure size 432x360 with 1 Axes>"
            ]
          },
          "metadata": {
            "tags": [],
            "needs_background": "light"
          }
        }
      ]
    },
    {
      "cell_type": "code",
      "metadata": {
        "colab": {
          "base_uri": "https://localhost:8080/"
        },
        "id": "TGrzYDWxeO6m",
        "outputId": "ed355e38-3b6a-4581-c428-902c3a1c7587"
      },
      "source": [
        "correct = 0\n",
        "total = 0\n",
        "count = 0\n",
        "flag = 1\n",
        "focus_true_pred_true =0\n",
        "focus_false_pred_true =0\n",
        "focus_true_pred_false =0\n",
        "focus_false_pred_false =0\n",
        "\n",
        "argmax_more_than_half = 0\n",
        "argmax_less_than_half =0\n",
        "\n",
        "with torch.no_grad():\n",
        "  for data in train_loader:\n",
        "    inputs, labels , fore_idx = data\n",
        "    inputs = inputs.double()\n",
        "    inputs, labels , fore_idx = inputs.to(\"cuda\"),labels.to(\"cuda\"), fore_idx.to(\"cuda\")\n",
        "    alphas, avg_images = focus_net(inputs)\n",
        "    outputs = classify(avg_images)\n",
        "\n",
        "    _, predicted = torch.max(outputs.data, 1)\n",
        "\n",
        "    for j in range(labels.size(0)):\n",
        "      focus = torch.argmax(alphas[j])\n",
        "      if alphas[j][focus] >= 0.5 :\n",
        "        argmax_more_than_half += 1\n",
        "      else:\n",
        "        argmax_less_than_half += 1\n",
        "\n",
        "      if(focus == fore_idx[j] and predicted[j] == labels[j]):\n",
        "          focus_true_pred_true += 1\n",
        "      elif(focus != fore_idx[j] and predicted[j] == labels[j]):\n",
        "        focus_false_pred_true += 1\n",
        "      elif(focus == fore_idx[j] and predicted[j] != labels[j]):\n",
        "        focus_true_pred_false += 1\n",
        "      elif(focus != fore_idx[j] and predicted[j] != labels[j]):\n",
        "        focus_false_pred_false += 1\n",
        "\n",
        "    total += labels.size(0)\n",
        "    correct += (predicted == labels).sum().item()\n",
        "\n",
        "print('Accuracy of the network on the 1000 train images: %d %%' % (\n",
        "    100 * correct / total))\n",
        "print(\"total correct\", correct)\n",
        "print(\"total train set images\", total)\n",
        "\n",
        "print(\"focus_true_pred_true %d =============> FTPT : %d %%\" % (focus_true_pred_true , (100 * focus_true_pred_true / total) ) )\n",
        "print(\"focus_false_pred_true %d =============> FFPT : %d %%\" % (focus_false_pred_true, (100 * focus_false_pred_true / total) ) )\n",
        "print(\"focus_true_pred_false %d =============> FTPF : %d %%\" %( focus_true_pred_false , ( 100 * focus_true_pred_false / total) ) )\n",
        "print(\"focus_false_pred_false %d =============> FFPF : %d %%\" % (focus_false_pred_false, ( 100 * focus_false_pred_false / total) ) )\n",
        "\n",
        "print(\"argmax_more_than_half ==================> \",argmax_more_than_half)\n",
        "print(\"argmax_less_than_half ==================> \",argmax_less_than_half)"
      ],
      "execution_count": 169,
      "outputs": [
        {
          "output_type": "stream",
          "text": [
            "Accuracy of the network on the 1000 train images: 89 %\n",
            "total correct 890\n",
            "total train set images 1000\n",
            "focus_true_pred_true 890 =============> FTPT : 89 %\n",
            "focus_false_pred_true 0 =============> FFPT : 0 %\n",
            "focus_true_pred_false 110 =============> FTPF : 11 %\n",
            "focus_false_pred_false 0 =============> FFPF : 0 %\n",
            "argmax_more_than_half ==================>  1000\n",
            "argmax_less_than_half ==================>  0\n"
          ],
          "name": "stdout"
        }
      ]
    },
    {
      "cell_type": "code",
      "metadata": {
        "colab": {
          "base_uri": "https://localhost:8080/"
        },
        "id": "67_H9pkCeQNs",
        "outputId": "9263c6bf-8bc8-4885-87e5-300af26d4633"
      },
      "source": [
        "correct = 0\n",
        "total = 0\n",
        "count = 0\n",
        "flag = 1\n",
        "focus_true_pred_true =0\n",
        "focus_false_pred_true =0\n",
        "focus_true_pred_false =0\n",
        "focus_false_pred_false =0\n",
        "\n",
        "argmax_more_than_half = 0\n",
        "argmax_less_than_half =0\n",
        "\n",
        "with torch.no_grad():\n",
        "  for data in test_loader:\n",
        "    inputs, labels , fore_idx = data\n",
        "    inputs = inputs.double()\n",
        "    inputs, labels , fore_idx = inputs.to(\"cuda\"),labels.to(\"cuda\"), fore_idx.to(\"cuda\")\n",
        "    alphas, avg_images = focus_net(inputs)\n",
        "    outputs = classify(avg_images)\n",
        "\n",
        "    _, predicted = torch.max(outputs.data, 1)\n",
        "\n",
        "    for j in range(labels.size(0)):\n",
        "      focus = torch.argmax(alphas[j])\n",
        "      if alphas[j][focus] >= 0.5 :\n",
        "        argmax_more_than_half += 1\n",
        "      else:\n",
        "        argmax_less_than_half += 1\n",
        "\n",
        "      if(focus == fore_idx[j] and predicted[j] == labels[j]):\n",
        "          focus_true_pred_true += 1\n",
        "      elif(focus != fore_idx[j] and predicted[j] == labels[j]):\n",
        "        focus_false_pred_true += 1\n",
        "      elif(focus == fore_idx[j] and predicted[j] != labels[j]):\n",
        "        focus_true_pred_false += 1\n",
        "      elif(focus != fore_idx[j] and predicted[j] != labels[j]):\n",
        "        focus_false_pred_false += 1\n",
        "\n",
        "    total += labels.size(0)\n",
        "    correct += (predicted == labels).sum().item()\n",
        "\n",
        "print('Accuracy of the network on the 1000 test images: %d %%' % (\n",
        "    100 * correct / total))\n",
        "print(\"total correct\", correct)\n",
        "print(\"total train set images\", total)\n",
        "\n",
        "print(\"focus_true_pred_true %d =============> FTPT : %d %%\" % (focus_true_pred_true , (100 * focus_true_pred_true / total) ) )\n",
        "print(\"focus_false_pred_true %d =============> FFPT : %d %%\" % (focus_false_pred_true, (100 * focus_false_pred_true / total) ) )\n",
        "print(\"focus_true_pred_false %d =============> FTPF : %d %%\" %( focus_true_pred_false , ( 100 * focus_true_pred_false / total) ) )\n",
        "print(\"focus_false_pred_false %d =============> FFPF : %d %%\" % (focus_false_pred_false, ( 100 * focus_false_pred_false / total) ) )\n",
        "\n",
        "print(\"argmax_more_than_half ==================> \",argmax_more_than_half)\n",
        "print(\"argmax_less_than_half ==================> \",argmax_less_than_half)"
      ],
      "execution_count": 170,
      "outputs": [
        {
          "output_type": "stream",
          "text": [
            "Accuracy of the network on the 1000 test images: 88 %\n",
            "total correct 885\n",
            "total train set images 1000\n",
            "focus_true_pred_true 885 =============> FTPT : 88 %\n",
            "focus_false_pred_true 0 =============> FFPT : 0 %\n",
            "focus_true_pred_false 115 =============> FTPF : 11 %\n",
            "focus_false_pred_false 0 =============> FFPF : 0 %\n",
            "argmax_more_than_half ==================>  1000\n",
            "argmax_less_than_half ==================>  0\n"
          ],
          "name": "stdout"
        }
      ]
    },
    {
      "cell_type": "code",
      "metadata": {
        "colab": {
          "base_uri": "https://localhost:8080/"
        },
        "id": "jhvhkEAyeRpt",
        "outputId": "c6189de4-82bf-49b2-d731-39047967af32"
      },
      "source": [
        "correct = 0\n",
        "total = 0\n",
        "\n",
        "with torch.no_grad():\n",
        "  for data in train_loader:\n",
        "    inputs, labels , fore_idx = data\n",
        "    inputs = inputs.double()\n",
        "    inputs, labels = inputs.to(\"cuda\"), labels.to(\"cuda\")\n",
        "    alphas, avg_images = focus_net(inputs)\n",
        "    outputs = classify(avg_images)\n",
        "\n",
        "    _, predicted = torch.max(outputs.data, 1)\n",
        "\n",
        "    total += labels.size(0)\n",
        "    correct += (predicted == labels).sum().item()\n",
        "\n",
        "print('Accuracy of the network on the 1000 train images: %d %%' % ( 100 * correct / total))\n",
        "print(\"total correct\", correct)\n",
        "print(\"total train set images\", total)"
      ],
      "execution_count": 171,
      "outputs": [
        {
          "output_type": "stream",
          "text": [
            "Accuracy of the network on the 1000 train images: 89 %\n",
            "total correct 890\n",
            "total train set images 1000\n"
          ],
          "name": "stdout"
        }
      ]
    },
    {
      "cell_type": "code",
      "metadata": {
        "colab": {
          "base_uri": "https://localhost:8080/"
        },
        "id": "OKcmpKwGeS8M",
        "outputId": "01a07624-4d61-4705-94ae-a2806f96dc49"
      },
      "source": [
        "correct = 0\n",
        "total = 0\n",
        "\n",
        "with torch.no_grad():\n",
        "  for data in test_loader:\n",
        "    inputs, labels , fore_idx = data\n",
        "    inputs = inputs.double()\n",
        "    inputs, labels = inputs.to(\"cuda\"), labels.to(\"cuda\")\n",
        "    alphas, avg_images = focus_net(inputs)\n",
        "    outputs = classify(avg_images)\n",
        "\n",
        "    _, predicted = torch.max(outputs.data, 1)\n",
        "\n",
        "    total += labels.size(0)\n",
        "    correct += (predicted == labels).sum().item()\n",
        "\n",
        "print('Accuracy of the network on the 1000 test images: %d %%' % ( 100 * correct / total))\n",
        "print(\"total correct\", correct)\n",
        "print(\"total train set images\", total)"
      ],
      "execution_count": 172,
      "outputs": [
        {
          "output_type": "stream",
          "text": [
            "Accuracy of the network on the 1000 test images: 88 %\n",
            "total correct 885\n",
            "total train set images 1000\n"
          ],
          "name": "stdout"
        }
      ]
    },
    {
      "cell_type": "code",
      "metadata": {
        "id": "xlalQug_egcl"
      },
      "source": [
        ""
      ],
      "execution_count": 172,
      "outputs": []
    }
  ]
}