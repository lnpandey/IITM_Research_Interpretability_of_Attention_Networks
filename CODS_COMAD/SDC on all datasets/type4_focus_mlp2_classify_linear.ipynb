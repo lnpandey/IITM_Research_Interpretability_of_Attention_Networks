{
  "nbformat": 4,
  "nbformat_minor": 0,
  "metadata": {
    "accelerator": "GPU",
    "colab": {
      "name": "type4_focus_mlp2_classify_linear.ipynb",
      "provenance": [],
      "collapsed_sections": []
    },
    "kernelspec": {
      "display_name": "Python 3",
      "language": "python",
      "name": "python3"
    },
    "language_info": {
      "codemirror_mode": {
        "name": "ipython",
        "version": 3
      },
      "file_extension": ".py",
      "mimetype": "text/x-python",
      "name": "python",
      "nbconvert_exporter": "python",
      "pygments_lexer": "ipython3",
      "version": "3.6.5"
    }
  },
  "cells": [
    {
      "cell_type": "code",
      "metadata": {
        "colab": {
          "base_uri": "https://localhost:8080/"
        },
        "id": "PVO3ASMSm8Bx",
        "outputId": "f688f872-da4f-4a2e-8f5a-022bd4088fe3"
      },
      "source": [
        "from google.colab import drive\n",
        "drive.mount('/content/drive')"
      ],
      "execution_count": 173,
      "outputs": [
        {
          "output_type": "stream",
          "text": [
            "Drive already mounted at /content/drive; to attempt to forcibly remount, call drive.mount(\"/content/drive\", force_remount=True).\n"
          ],
          "name": "stdout"
        }
      ]
    },
    {
      "cell_type": "code",
      "metadata": {
        "id": "uLrd5bwInAd1"
      },
      "source": [
        "path=\"/content/drive/MyDrive/Research/cods_comad_plots/SDC/dataset_4/\""
      ],
      "execution_count": 174,
      "outputs": []
    },
    {
      "cell_type": "code",
      "metadata": {
        "colab": {
          "base_uri": "https://localhost:8080/"
        },
        "id": "N2_J4Rw2r0SQ",
        "outputId": "5128f2e3-c99a-4b0b-e90e-220d02aaabb7"
      },
      "source": [
        "import numpy as np\n",
        "import pandas as pd\n",
        "from matplotlib import pyplot as plt\n",
        "from tqdm import tqdm\n",
        "%matplotlib inline\n",
        "from torch.utils.data import Dataset, DataLoader\n",
        "import torch\n",
        "import torchvision\n",
        "\n",
        "import torch.nn as nn\n",
        "import torch.optim as optim\n",
        "from torch.nn import functional as F\n",
        "device = torch.device(\"cuda\" if torch.cuda.is_available() else \"cpu\")\n",
        "print(device)"
      ],
      "execution_count": 175,
      "outputs": [
        {
          "output_type": "stream",
          "text": [
            "cuda\n"
          ],
          "name": "stdout"
        }
      ]
    },
    {
      "cell_type": "markdown",
      "metadata": {
        "id": "F6fjud_Fr0Sa"
      },
      "source": [
        "# Generate dataset"
      ]
    },
    {
      "cell_type": "code",
      "metadata": {
        "colab": {
          "base_uri": "https://localhost:8080/"
        },
        "id": "CqdXHO0Cr0Sd",
        "outputId": "f7728dc4-b908-4e17-b17c-615a0a704ccf"
      },
      "source": [
        "np.random.seed(12)\n",
        "y = np.random.randint(0,10,5000)\n",
        "idx= []\n",
        "for i in range(10):\n",
        "    print(i,sum(y==i))\n",
        "    idx.append(y==i)"
      ],
      "execution_count": 176,
      "outputs": [
        {
          "output_type": "stream",
          "text": [
            "0 530\n",
            "1 463\n",
            "2 494\n",
            "3 517\n",
            "4 488\n",
            "5 497\n",
            "6 493\n",
            "7 507\n",
            "8 492\n",
            "9 519\n"
          ],
          "name": "stdout"
        }
      ]
    },
    {
      "cell_type": "code",
      "metadata": {
        "id": "ddhXyODwr0Sk"
      },
      "source": [
        "x = np.zeros((5000,2))"
      ],
      "execution_count": 177,
      "outputs": []
    },
    {
      "cell_type": "code",
      "metadata": {
        "id": "DyV3N2DIr0Sp"
      },
      "source": [
        "np.random.seed(12)\n",
        "x[idx[0],:] = np.random.multivariate_normal(mean = [4,6.5],cov=[[0.01,0],[0,0.01]],size=sum(idx[0]))\n",
        "x[idx[1],:] = np.random.multivariate_normal(mean = [5.5,6],cov=[[0.01,0],[0,0.01]],size=sum(idx[1]))\n",
        "x[idx[2],:] = np.random.multivariate_normal(mean = [4.5,4.5],cov=[[0.01,0],[0,0.01]],size=sum(idx[2]))\n",
        "x[idx[3],:] = np.random.multivariate_normal(mean = [3,3.5],cov=[[0.01,0],[0,0.01]],size=sum(idx[3]))\n",
        "x[idx[4],:] = np.random.multivariate_normal(mean = [2.5,5.5],cov=[[0.01,0],[0,0.01]],size=sum(idx[4]))\n",
        "x[idx[5],:] = np.random.multivariate_normal(mean = [3.5,8],cov=[[0.01,0],[0,0.01]],size=sum(idx[5]))\n",
        "x[idx[6],:] = np.random.multivariate_normal(mean = [5.5,8],cov=[[0.01,0],[0,0.01]],size=sum(idx[6]))\n",
        "x[idx[7],:] = np.random.multivariate_normal(mean = [7,6.5],cov=[[0.01,0],[0,0.01]],size=sum(idx[7]))\n",
        "x[idx[8],:] = np.random.multivariate_normal(mean = [6.5,4.5],cov=[[0.01,0],[0,0.01]],size=sum(idx[8]))\n",
        "x[idx[9],:] = np.random.multivariate_normal(mean = [5,3],cov=[[0.01,0],[0,0.01]],size=sum(idx[9]))"
      ],
      "execution_count": 178,
      "outputs": []
    },
    {
      "cell_type": "code",
      "metadata": {
        "colab": {
          "base_uri": "https://localhost:8080/"
        },
        "id": "qh1mDScsU07I",
        "outputId": "66b06c9c-4099-474a-9ee3-8fdd57ef7b11"
      },
      "source": [
        "x[idx[0]][0], x[idx[5]][5] "
      ],
      "execution_count": 179,
      "outputs": [
        {
          "output_type": "execute_result",
          "data": {
            "text/plain": [
              "(array([4.04729858, 6.43185741]), array([3.4612816 , 8.00144771]))"
            ]
          },
          "metadata": {
            "tags": []
          },
          "execution_count": 179
        }
      ]
    },
    {
      "cell_type": "code",
      "metadata": {
        "colab": {
          "base_uri": "https://localhost:8080/",
          "height": 284
        },
        "id": "9Vr5ErQ_wSrV",
        "outputId": "bd9d9a6c-7d44-4788-a570-97d0a60fc248"
      },
      "source": [
        "for i in range(10):\n",
        "    plt.scatter(x[idx[i],0],x[idx[i],1],label=\"class_\"+str(i))\n",
        "plt.legend(loc='center left', bbox_to_anchor=(1, 0.5))"
      ],
      "execution_count": 180,
      "outputs": [
        {
          "output_type": "execute_result",
          "data": {
            "text/plain": [
              "<matplotlib.legend.Legend at 0x7fbc60ed3990>"
            ]
          },
          "metadata": {
            "tags": []
          },
          "execution_count": 180
        },
        {
          "output_type": "display_data",
          "data": {
            "image/png": "[encoded data removed]",
            "text/plain": [
              "<Figure size 432x288 with 1 Axes>"
            ]
          },
          "metadata": {
            "tags": [],
            "needs_background": "light"
          }
        }
      ]
    },
    {
      "cell_type": "code",
      "metadata": {
        "id": "NG-3RpffwU_i",
        "colab": {
          "base_uri": "https://localhost:8080/"
        },
        "outputId": "641eb0d9-6536-46a2-e207-1ca22946d13a"
      },
      "source": [
        "bg_idx = [ np.where(idx[3] == True)[0], \n",
        "          np.where(idx[4] == True)[0], \n",
        "          np.where(idx[5] == True)[0],\n",
        "          np.where(idx[6] == True)[0], \n",
        "          np.where(idx[7] == True)[0], \n",
        "          np.where(idx[8] == True)[0],\n",
        "          np.where(idx[9] == True)[0]]\n",
        "\n",
        "bg_idx = np.concatenate(bg_idx, axis = 0)\n",
        "bg_idx.shape"
      ],
      "execution_count": 181,
      "outputs": [
        {
          "output_type": "execute_result",
          "data": {
            "text/plain": [
              "(3513,)"
            ]
          },
          "metadata": {
            "tags": []
          },
          "execution_count": 181
        }
      ]
    },
    {
      "cell_type": "code",
      "metadata": {
        "colab": {
          "base_uri": "https://localhost:8080/"
        },
        "id": "_0JKKUdwoo9b",
        "outputId": "2ec29bb0-fa01-4515-f6cd-ad5e51006260"
      },
      "source": [
        "np.unique(bg_idx).shape"
      ],
      "execution_count": 182,
      "outputs": [
        {
          "output_type": "execute_result",
          "data": {
            "text/plain": [
              "(3513,)"
            ]
          },
          "metadata": {
            "tags": []
          },
          "execution_count": 182
        }
      ]
    },
    {
      "cell_type": "code",
      "metadata": {
        "id": "6LA5i3Droo60"
      },
      "source": [
        "x = x - np.mean(x[bg_idx], axis = 0, keepdims = True)\n"
      ],
      "execution_count": 183,
      "outputs": []
    },
    {
      "cell_type": "code",
      "metadata": {
        "colab": {
          "base_uri": "https://localhost:8080/"
        },
        "id": "s5tfCDfHoo3-",
        "outputId": "691d97e4-bd9c-42b8-a659-7fdacda09c92"
      },
      "source": [
        "np.mean(x[bg_idx], axis = 0, keepdims = True), np.mean(x, axis = 0, keepdims = True)"
      ],
      "execution_count": 184,
      "outputs": [
        {
          "output_type": "execute_result",
          "data": {
            "text/plain": [
              "(array([[-3.94054906e-15, -1.42341147e-15]]),\n",
              " array([[-0.02477713,  0.03899959]]))"
            ]
          },
          "metadata": {
            "tags": []
          },
          "execution_count": 184
        }
      ]
    },
    {
      "cell_type": "code",
      "metadata": {
        "id": "TpSAZtqzoo1F"
      },
      "source": [
        "x = x/np.std(x[bg_idx], axis = 0, keepdims = True)"
      ],
      "execution_count": 185,
      "outputs": []
    },
    {
      "cell_type": "code",
      "metadata": {
        "colab": {
          "base_uri": "https://localhost:8080/"
        },
        "id": "NsrCmT8IovQv",
        "outputId": "c8d72a6b-7455-44d8-f028-e7cc0ae7fb78"
      },
      "source": [
        "np.std(x[bg_idx], axis = 0, keepdims = True), np.std(x, axis = 0, keepdims = True)"
      ],
      "execution_count": 186,
      "outputs": [
        {
          "output_type": "execute_result",
          "data": {
            "text/plain": [
              "(array([[1., 1.]]), array([[0.86429775, 0.8750994 ]]))"
            ]
          },
          "metadata": {
            "tags": []
          },
          "execution_count": 186
        }
      ]
    },
    {
      "cell_type": "code",
      "metadata": {
        "colab": {
          "base_uri": "https://localhost:8080/",
          "height": 284
        },
        "id": "hJ8Jm7YUr0St",
        "outputId": "a0d01544-6cd6-4142-f0cd-cb33eaf8f5bf"
      },
      "source": [
        "for i in range(10):\n",
        "    plt.scatter(x[idx[i],0],x[idx[i],1],label=\"class_\"+str(i))\n",
        "plt.legend(loc='center left', bbox_to_anchor=(1, 0.5))"
      ],
      "execution_count": 187,
      "outputs": [
        {
          "output_type": "execute_result",
          "data": {
            "text/plain": [
              "<matplotlib.legend.Legend at 0x7fbc60e330d0>"
            ]
          },
          "metadata": {
            "tags": []
          },
          "execution_count": 187
        },
        {
          "output_type": "display_data",
          "data": {
            "image/png": "[encoded data removed]",
            "text/plain": [
              "<Figure size 432x288 with 1 Axes>"
            ]
          },
          "metadata": {
            "tags": [],
            "needs_background": "light"
          }
        }
      ]
    },
    {
      "cell_type": "code",
      "metadata": {
        "id": "3lMBZEHNBlF2"
      },
      "source": [
        "foreground_classes = {'class_0','class_1', 'class_2'}\n",
        "\n",
        "background_classes = {'class_3','class_4', 'class_5', 'class_6','class_7', 'class_8', 'class_9'}"
      ],
      "execution_count": 188,
      "outputs": []
    },
    {
      "cell_type": "code",
      "metadata": {
        "colab": {
          "base_uri": "https://localhost:8080/"
        },
        "id": "blRbGZHeCwXU",
        "outputId": "9ddcd3ed-75ab-4966-b026-d9c0dc35996f"
      },
      "source": [
        "fg_class  = np.random.randint(0,3)\n",
        "fg_idx = np.random.randint(0,9)\n",
        "\n",
        "a = []\n",
        "for i in range(9):\n",
        "    if i == fg_idx:\n",
        "        b = np.random.choice(np.where(idx[fg_class]==True)[0],size=1)\n",
        "        a.append(x[b])\n",
        "        print(\"foreground \"+str(fg_class)+\" present at \" + str(fg_idx))\n",
        "    else:\n",
        "        bg_class = np.random.randint(3,10)\n",
        "        b = np.random.choice(np.where(idx[bg_class]==True)[0],size=1)\n",
        "        a.append(x[b])\n",
        "        print(\"background \"+str(bg_class)+\" present at \" + str(i))\n",
        "a = np.concatenate(a,axis=0)\n",
        "print(a.shape)\n",
        "\n",
        "print(fg_class , fg_idx)"
      ],
      "execution_count": 189,
      "outputs": [
        {
          "output_type": "stream",
          "text": [
            "background 5 present at 0\n",
            "background 6 present at 1\n",
            "foreground 2 present at 2\n",
            "background 5 present at 3\n",
            "background 3 present at 4\n",
            "background 5 present at 5\n",
            "background 7 present at 6\n",
            "background 6 present at 7\n",
            "background 5 present at 8\n",
            "(9, 2)\n",
            "2 2\n"
          ],
          "name": "stdout"
        }
      ]
    },
    {
      "cell_type": "code",
      "metadata": {
        "id": "Y43sWeX7C15F",
        "colab": {
          "base_uri": "https://localhost:8080/"
        },
        "outputId": "6d763bce-ede5-4222-f5c3-d11b04556f7d"
      },
      "source": [
        "a.shape"
      ],
      "execution_count": 190,
      "outputs": [
        {
          "output_type": "execute_result",
          "data": {
            "text/plain": [
              "(9, 2)"
            ]
          },
          "metadata": {
            "tags": []
          },
          "execution_count": 190
        }
      ]
    },
    {
      "cell_type": "code",
      "metadata": {
        "colab": {
          "base_uri": "https://localhost:8080/"
        },
        "id": "ooII7N6UDWe0",
        "outputId": "b0354449-eb21-4186-ebc4-8680632c31ae"
      },
      "source": [
        "np.reshape(a,(18,1)) #not required"
      ],
      "execution_count": 191,
      "outputs": [
        {
          "output_type": "execute_result",
          "data": {
            "text/plain": [
              "array([[-0.75222128],\n",
              "       [ 1.29671369],\n",
              "       [ 0.42676916],\n",
              "       [ 1.30247133],\n",
              "       [-0.11686808],\n",
              "       [-0.56478963],\n",
              "       [-0.67891371],\n",
              "       [ 1.27937091],\n",
              "       [-0.99259119],\n",
              "       [-1.18031499],\n",
              "       [-0.77179291],\n",
              "       [ 1.25941783],\n",
              "       [ 1.29283021],\n",
              "       [ 0.50509151],\n",
              "       [ 0.52239625],\n",
              "       [ 1.29681995],\n",
              "       [-0.77179291],\n",
              "       [ 1.25941783]])"
            ]
          },
          "metadata": {
            "tags": []
          },
          "execution_count": 191
        }
      ]
    },
    {
      "cell_type": "code",
      "metadata": {
        "id": "g21bvPRYDL9k",
        "colab": {
          "base_uri": "https://localhost:8080/",
          "height": 284
        },
        "outputId": "fd0faba8-cc9f-4b34-bb16-db550bc77c37"
      },
      "source": [
        "a=np.reshape(a,(9,2))\n",
        "\n",
        "plt.imshow(a)"
      ],
      "execution_count": 192,
      "outputs": [
        {
          "output_type": "execute_result",
          "data": {
            "text/plain": [
              "<matplotlib.image.AxesImage at 0x7fbc618f7ad0>"
            ]
          },
          "metadata": {
            "tags": []
          },
          "execution_count": 192
        },
        {
          "output_type": "display_data",
          "data": {
            "image/png": "[encoded data removed]",
            "text/plain": [
              "<Figure size 432x288 with 1 Axes>"
            ]
          },
          "metadata": {
            "tags": [],
            "needs_background": "light"
          }
        }
      ]
    },
    {
      "cell_type": "code",
      "metadata": {
        "id": "OplNpNQVr0S2"
      },
      "source": [
        "desired_num = 2000\n",
        "mosaic_list_of_images =[]\n",
        "mosaic_label = []\n",
        "fore_idx=[]\n",
        "for j in range(desired_num):\n",
        "    np.random.seed(j)\n",
        "    fg_class  = np.random.randint(0,3)\n",
        "    fg_idx = np.random.randint(0,9)\n",
        "    a = []\n",
        "    for i in range(9):\n",
        "        if i == fg_idx:\n",
        "            b = np.random.choice(np.where(idx[fg_class]==True)[0],size=1)\n",
        "            a.append(x[b])\n",
        "#             print(\"foreground \"+str(fg_class)+\" present at \" + str(fg_idx))\n",
        "        else:\n",
        "            bg_class = np.random.randint(3,10)\n",
        "            b = np.random.choice(np.where(idx[bg_class]==True)[0],size=1)\n",
        "            a.append(x[b])\n",
        "#             print(\"background \"+str(bg_class)+\" present at \" + str(i))\n",
        "    a = np.concatenate(a,axis=0)\n",
        "    mosaic_list_of_images.append(a)\n",
        "    mosaic_label.append(fg_class)\n",
        "    fore_idx.append(fg_idx)"
      ],
      "execution_count": 193,
      "outputs": []
    },
    {
      "cell_type": "code",
      "metadata": {
        "id": "dwZVmmRBr0S8"
      },
      "source": [
        "# mosaic_list_of_images = np.concatenate(mosaic_list_of_images,axis=1).T\n"
      ],
      "execution_count": 194,
      "outputs": []
    },
    {
      "cell_type": "code",
      "metadata": {
        "colab": {
          "base_uri": "https://localhost:8080/"
        },
        "id": "OoxzYI-ur0S_",
        "outputId": "1dd2a73f-29cb-429f-a853-0a6ee96c1e18"
      },
      "source": [
        "len(mosaic_list_of_images), mosaic_list_of_images[0]"
      ],
      "execution_count": 195,
      "outputs": [
        {
          "output_type": "execute_result",
          "data": {
            "text/plain": [
              "(2000, array([[-1.07390719, -1.04959598],\n",
              "        [-1.30547943, -0.083791  ],\n",
              "        [ 1.10227457, -0.5565904 ],\n",
              "        [ 1.44996512,  0.52630897],\n",
              "        [ 0.18635473, -1.38666417],\n",
              "        [-0.36332091,  0.57254869],\n",
              "        [-0.78873321,  1.29405413],\n",
              "        [ 0.18456746, -1.32037523],\n",
              "        [ 0.12342288, -1.3350683 ]]))"
            ]
          },
          "metadata": {
            "tags": []
          },
          "execution_count": 195
        }
      ]
    },
    {
      "cell_type": "code",
      "metadata": {
        "colab": {
          "base_uri": "https://localhost:8080/"
        },
        "id": "Nbefu9LEnMu1",
        "outputId": "2f27002c-3489-4bbd-8349-2dc913fefb92"
      },
      "source": [
        "mosaic_list_of_images_reshaped = np.reshape(mosaic_list_of_images, (2000,9,2))\n",
        "mean_train = np.mean(mosaic_list_of_images_reshaped[0:1000], axis=0, keepdims= True)\n",
        "print(mean_train.shape, mean_train)\n",
        "std_train = np.std(mosaic_list_of_images_reshaped[0:1000], axis=0, keepdims= True)\n",
        "print(std_train.shape, std_train)\n",
        "\n"
      ],
      "execution_count": 196,
      "outputs": [
        {
          "output_type": "stream",
          "text": [
            "(1, 9, 2) [[[-0.00091134 -0.01372674]\n",
            "  [-0.02877574 -0.02152043]\n",
            "  [-0.00520837  0.06547125]\n",
            "  [-0.03554394  0.01373602]\n",
            "  [ 0.01552498  0.02695976]\n",
            "  [-0.00171322  0.01521314]\n",
            "  [-0.02198112  0.02614936]\n",
            "  [ 0.01290764  0.01348389]\n",
            "  [-0.03380197  0.0474266 ]]]\n",
            "(1, 9, 2) [[[0.94245893 0.95536707]\n",
            "  [0.96740227 0.93523879]\n",
            "  [0.95860262 0.95172886]\n",
            "  [0.94864166 0.94684499]\n",
            "  [0.95614031 0.9540087 ]\n",
            "  [0.94202831 0.96314958]\n",
            "  [0.95067679 0.96181555]\n",
            "  [0.96332572 0.94482655]\n",
            "  [0.95814854 0.95413414]]]\n"
          ],
          "name": "stdout"
        }
      ]
    },
    {
      "cell_type": "code",
      "metadata": {
        "id": "yldL3sUvnMsE"
      },
      "source": [
        "mosaic_list_of_images = ( mosaic_list_of_images_reshaped - mean_train ) / std_train"
      ],
      "execution_count": 197,
      "outputs": []
    },
    {
      "cell_type": "code",
      "metadata": {
        "colab": {
          "base_uri": "https://localhost:8080/"
        },
        "id": "qWboEmnwnX_r",
        "outputId": "d563bf47-4b95-4b56-923c-05a9c721e646"
      },
      "source": [
        "print(np.mean(mosaic_list_of_images[0:1000], axis=0, keepdims= True))\n",
        "\n",
        "print(np.std(mosaic_list_of_images[0:1000], axis=0, keepdims= True))"
      ],
      "execution_count": 198,
      "outputs": [
        {
          "output_type": "stream",
          "text": [
            "[[[ 4.19664303e-17  8.26491653e-17]\n",
            "  [ 2.22044605e-18  8.81517082e-17]\n",
            "  [-2.73114864e-17  8.91786645e-17]\n",
            "  [ 3.08642001e-17  1.55431223e-17]\n",
            "  [ 1.37667655e-17  6.35047570e-17]\n",
            "  [-1.07136522e-17 -1.33226763e-18]\n",
            "  [-1.17683641e-17  6.90558721e-17]\n",
            "  [ 2.10942375e-17  3.48610030e-17]\n",
            "  [ 5.71764858e-18  5.99520433e-18]]]\n",
            "[[[1. 1.]\n",
            "  [1. 1.]\n",
            "  [1. 1.]\n",
            "  [1. 1.]\n",
            "  [1. 1.]\n",
            "  [1. 1.]\n",
            "  [1. 1.]\n",
            "  [1. 1.]\n",
            "  [1. 1.]]]\n"
          ],
          "name": "stdout"
        }
      ]
    },
    {
      "cell_type": "code",
      "metadata": {
        "colab": {
          "base_uri": "https://localhost:8080/"
        },
        "id": "88zCElC_naib",
        "outputId": "abb26866-f9e8-4451-c416-275b5058fcdb"
      },
      "source": [
        "print(np.mean(mosaic_list_of_images[1000:2000], axis=0, keepdims= True))\n",
        "\n",
        "print(np.std(mosaic_list_of_images[1000:2000], axis=0, keepdims= True))"
      ],
      "execution_count": 199,
      "outputs": [
        {
          "output_type": "stream",
          "text": [
            "[[[-0.00435687  0.01956028]\n",
            "  [-0.00276658  0.04369773]\n",
            "  [-0.03595604 -0.01508983]\n",
            "  [ 0.05742033  0.03936944]\n",
            "  [-0.06289439 -0.07380817]\n",
            "  [-0.01345213  0.01845823]\n",
            "  [ 0.02320087  0.00698361]\n",
            "  [-0.04835101 -0.03809661]\n",
            "  [ 0.01004234 -0.05191196]]]\n",
            "[[[1.01381802 0.98870217]\n",
            "  [0.97608663 1.01079165]\n",
            "  [0.99343711 0.99770581]\n",
            "  [1.01611941 0.98141548]\n",
            "  [0.98713646 1.02611697]\n",
            "  [1.02006813 0.9833436 ]\n",
            "  [1.00259577 0.99301369]\n",
            "  [0.97836287 1.03467242]\n",
            "  [0.99287618 1.00493266]]]\n"
          ],
          "name": "stdout"
        }
      ]
    },
    {
      "cell_type": "code",
      "metadata": {
        "colab": {
          "base_uri": "https://localhost:8080/"
        },
        "id": "3DE8AXVAngEj",
        "outputId": "446c398f-b9e8-4aea-b9c2-f95c940a5f5a"
      },
      "source": [
        "mosaic_list_of_images.shape"
      ],
      "execution_count": 200,
      "outputs": [
        {
          "output_type": "execute_result",
          "data": {
            "text/plain": [
              "(2000, 9, 2)"
            ]
          },
          "metadata": {
            "tags": []
          },
          "execution_count": 200
        }
      ]
    },
    {
      "cell_type": "code",
      "metadata": {
        "id": "iPoIwbMHx44n"
      },
      "source": [
        "class MosaicDataset(Dataset):\n",
        "  \"\"\"MosaicDataset dataset.\"\"\"\n",
        "\n",
        "  def __init__(self, mosaic_list_of_images, mosaic_label, fore_idx):\n",
        "    \"\"\"\n",
        "      Args:\n",
        "        csv_file (string): Path to the csv file with annotations.\n",
        "        root_dir (string): Directory with all the images.\n",
        "        transform (callable, optional): Optional transform to be applied\n",
        "            on a sample.\n",
        "    \"\"\"\n",
        "    self.mosaic = mosaic_list_of_images\n",
        "    self.label = mosaic_label\n",
        "    self.fore_idx = fore_idx\n",
        "\n",
        "  def __len__(self):\n",
        "    return len(self.label)\n",
        "\n",
        "  def __getitem__(self, idx):\n",
        "    return self.mosaic[idx] , self.label[idx], self.fore_idx[idx]\n",
        "\n"
      ],
      "execution_count": 201,
      "outputs": []
    },
    {
      "cell_type": "code",
      "metadata": {
        "id": "fOPAJQJeW8Ah"
      },
      "source": [
        "batch = 250\n",
        "msd1 = MosaicDataset(mosaic_list_of_images[0:1000], mosaic_label[0:1000] , fore_idx[0:1000])\n",
        "train_loader = DataLoader( msd1 ,batch_size= batch ,shuffle=True)"
      ],
      "execution_count": 202,
      "outputs": []
    },
    {
      "cell_type": "code",
      "metadata": {
        "id": "qjNiQgxZW8bA"
      },
      "source": [
        "batch = 250\n",
        "msd2 = MosaicDataset(mosaic_list_of_images[1000:2000], mosaic_label[1000:2000] , fore_idx[1000:2000])\n",
        "test_loader = DataLoader( msd2 ,batch_size= batch ,shuffle=True)"
      ],
      "execution_count": 203,
      "outputs": []
    },
    {
      "cell_type": "code",
      "metadata": {
        "id": "30ZAjix3x8CM"
      },
      "source": [
        "class Focus(nn.Module):\n",
        "  def __init__(self):\n",
        "    super(Focus, self).__init__()\n",
        "\n",
        "    self.fc1 = nn.Linear(2, 50, bias=False)\n",
        "    self.fc2 = nn.Linear(50, 10, bias=False)\n",
        "    self.fc3 = nn.Linear(10, 1, bias=False)\n",
        "    torch.nn.init.xavier_normal_(self.fc1.weight)\n",
        "    torch.nn.init.xavier_normal_(self.fc2.weight)\n",
        "    torch.nn.init.xavier_normal_(self.fc3.weight)\n",
        "\n",
        "  def forward(self,z):  #y is avg image #z batch of list of 9 images\n",
        "    y = torch.zeros([batch,2], dtype=torch.float64)\n",
        "    x = torch.zeros([batch,9],dtype=torch.float64)\n",
        "    y = y.to(\"cuda\")\n",
        "    x = x.to(\"cuda\")\n",
        "    # print(x.shape, z.shape)\n",
        "    for i in range(9):\n",
        "      # print(z[:,i].shape)\n",
        "      # print(self.helper(z[:,i])[:,0].shape)\n",
        "      x[:,i] = self.helper(z[:,i])[:,0]\n",
        "    # print(x.shape, z.shape)\n",
        "    x = F.softmax(x,dim=1)\n",
        "    # print(x.shape, z.shape)\n",
        "    # x1 = x[:,0]\n",
        "    # print(torch.mul(x[:,0],z[:,0]).shape)\n",
        "\n",
        "    for i in range(9):            \n",
        "      # x1 = x[:,i]          \n",
        "      y = y + torch.mul(x[:,i,None],z[:,i])\n",
        "\n",
        "    # print(x.shape, y.shape)\n",
        "    return x, y\n",
        "    \n",
        "  def helper(self, x):\n",
        "    x = x.view(-1, 2)\n",
        "    x = F.relu(self.fc1(x))\n",
        "    x = F.relu(self.fc2(x))\n",
        "    x = (self.fc3(x))\n",
        "\n",
        "    return x"
      ],
      "execution_count": 204,
      "outputs": []
    },
    {
      "cell_type": "code",
      "metadata": {
        "id": "0dYXnywAD-4l"
      },
      "source": [
        "class Classification(nn.Module):\n",
        "  def __init__(self):\n",
        "    super(Classification, self).__init__()\n",
        "    self.fc1 = nn.Linear(2, 3)\n",
        "    torch.nn.init.xavier_normal_(self.fc1.weight)\n",
        "    torch.nn.init.zeros_(self.fc1.bias)\n",
        "\n",
        "\n",
        "  def forward(self, x):\n",
        "    x = x.view(-1, 2)\n",
        "    x = self.fc1(x)\n",
        "    # print(x.shape)\n",
        "    return x"
      ],
      "execution_count": 205,
      "outputs": []
    },
    {
      "cell_type": "code",
      "metadata": {
        "id": "lSa6O9f6XNf4"
      },
      "source": [
        "torch.manual_seed(12)\n",
        "focus_net = Focus().double()\n",
        "focus_net = focus_net.to(\"cuda\")"
      ],
      "execution_count": 206,
      "outputs": []
    },
    {
      "cell_type": "code",
      "metadata": {
        "id": "36k3H2G-XO9A"
      },
      "source": [
        "torch.manual_seed(12)\n",
        "classify = Classification().double()\n",
        "classify = classify.to(\"cuda\")"
      ],
      "execution_count": 207,
      "outputs": []
    },
    {
      "cell_type": "code",
      "metadata": {
        "colab": {
          "base_uri": "https://localhost:8080/"
        },
        "id": "8YOK5c78-FU0",
        "outputId": "c2824de9-292d-4145-ff5b-ece7ce53dd32"
      },
      "source": [
        "focus_net.fc2.weight.shape,focus_net.fc3.weight.shape"
      ],
      "execution_count": 208,
      "outputs": [
        {
          "output_type": "execute_result",
          "data": {
            "text/plain": [
              "(torch.Size([10, 50]), torch.Size([1, 10]))"
            ]
          },
          "metadata": {
            "tags": []
          },
          "execution_count": 208
        }
      ]
    },
    {
      "cell_type": "code",
      "metadata": {
        "colab": {
          "base_uri": "https://localhost:8080/"
        },
        "id": "rdiAa4eB-FLc",
        "outputId": "79b87416-c5cc-4cfd-bae9-ea849dbfb567"
      },
      "source": [
        "focus_net.fc2.weight.data[5:,:] = focus_net.fc2.weight.data[:5,:] #torch.nn.Parameter(torch.tensor([last_layer]) )\n",
        "focus_net.fc2.weight[:5,:], focus_net.fc2.weight[5:,:] "
      ],
      "execution_count": 209,
      "outputs": [
        {
          "output_type": "execute_result",
          "data": {
            "text/plain": [
              "(tensor([[-0.0763,  0.0132, -0.1227,  0.2448,  0.0136, -0.0487, -0.1882,  0.0876,\n",
              "           0.1659,  0.0856,  0.1779,  0.3298,  0.0887,  0.3872, -0.2173,  0.2168,\n",
              "           0.0783, -0.1261, -0.0764,  0.3249, -0.1999, -0.0140, -0.1793,  0.0633,\n",
              "          -0.2684,  0.1349, -0.2653, -0.1134,  0.1838, -0.0892,  0.1525, -0.1057,\n",
              "          -0.0990, -0.0077, -0.0525, -0.0534, -0.1624,  0.0694, -0.2615, -0.0667,\n",
              "           0.0815,  0.4189, -0.1598, -0.0236, -0.0663,  0.0154,  0.1333,  0.2649,\n",
              "           0.1634,  0.2552],\n",
              "         [-0.4056,  0.0755, -0.1859, -0.0354, -0.1684, -0.0200, -0.2163,  0.2237,\n",
              "           0.0981, -0.0859, -0.1096,  0.0791, -0.2052, -0.2820, -0.1441, -0.0497,\n",
              "           0.1114,  0.3464, -0.0281, -0.2101,  0.0642, -0.0475, -0.3500, -0.0388,\n",
              "           0.1481,  0.1041,  0.0558, -0.3711, -0.0478,  0.2248,  0.0255,  0.1203,\n",
              "           0.0967, -0.1136, -0.2587,  0.2233, -0.0160,  0.1349,  0.1989, -0.2758,\n",
              "          -0.1123,  0.0931, -0.0575, -0.0828,  0.2524, -0.1149, -0.0566,  0.1111,\n",
              "           0.0685, -0.0065],\n",
              "         [ 0.1091,  0.0417, -0.0694, -0.2976, -0.0265,  0.1831,  0.2966,  0.1349,\n",
              "           0.1786, -0.1312,  0.1446, -0.2316, -0.0199, -0.0781,  0.0792,  0.0629,\n",
              "           0.0736,  0.2197, -0.1694, -0.0978, -0.0942,  0.0640,  0.1799,  0.0495,\n",
              "           0.3483, -0.2643,  0.0919, -0.1637,  0.0492,  0.1445,  0.0263, -0.0447,\n",
              "           0.1301,  0.2495,  0.1423, -0.1674, -0.2786, -0.2013,  0.0160,  0.3034,\n",
              "          -0.1267, -0.1498, -0.1753,  0.0573,  0.1035, -0.2375, -0.1292,  0.0595,\n",
              "          -0.2166,  0.0211],\n",
              "         [-0.2312, -0.1164, -0.2560, -0.0886, -0.2474,  0.0891, -0.1076, -0.2193,\n",
              "           0.0762, -0.2020, -0.0789, -0.0549, -0.1837, -0.1156, -0.0132, -0.2952,\n",
              "           0.2050,  0.5399,  0.0764, -0.1084,  0.1171,  0.3685,  0.1433, -0.0428,\n",
              "          -0.3675,  0.1724,  0.0684, -0.2218,  0.0645, -0.1736, -0.2278,  0.1142,\n",
              "           0.2070,  0.0545, -0.1782, -0.0776, -0.1571,  0.0699,  0.1024,  0.4644,\n",
              "          -0.2043,  0.2036, -0.1708, -0.0280,  0.0850,  0.2511, -0.0630,  0.1023,\n",
              "          -0.0996, -0.1564],\n",
              "         [-0.2191,  0.1422, -0.1139,  0.1335,  0.2386,  0.2592, -0.1407, -0.2389,\n",
              "          -0.0678,  0.1425,  0.1440,  0.0379,  0.1629,  0.2089, -0.0586, -0.0600,\n",
              "           0.2269, -0.1127,  0.1253, -0.2588,  0.0539,  0.0196,  0.0839,  0.0079,\n",
              "          -0.2208,  0.2555,  0.3884, -0.3805,  0.0746,  0.1456, -0.3297, -0.1060,\n",
              "           0.0422,  0.0710,  0.0992,  0.1431,  0.6623,  0.2000,  0.0478, -0.1368,\n",
              "           0.2620, -0.1792, -0.1971,  0.0660,  0.1914,  0.1435, -0.0923,  0.0295,\n",
              "          -0.2049, -0.1789]], device='cuda:0', dtype=torch.float64,\n",
              "        grad_fn=<SliceBackward>),\n",
              " tensor([[-0.0763,  0.0132, -0.1227,  0.2448,  0.0136, -0.0487, -0.1882,  0.0876,\n",
              "           0.1659,  0.0856,  0.1779,  0.3298,  0.0887,  0.3872, -0.2173,  0.2168,\n",
              "           0.0783, -0.1261, -0.0764,  0.3249, -0.1999, -0.0140, -0.1793,  0.0633,\n",
              "          -0.2684,  0.1349, -0.2653, -0.1134,  0.1838, -0.0892,  0.1525, -0.1057,\n",
              "          -0.0990, -0.0077, -0.0525, -0.0534, -0.1624,  0.0694, -0.2615, -0.0667,\n",
              "           0.0815,  0.4189, -0.1598, -0.0236, -0.0663,  0.0154,  0.1333,  0.2649,\n",
              "           0.1634,  0.2552],\n",
              "         [-0.4056,  0.0755, -0.1859, -0.0354, -0.1684, -0.0200, -0.2163,  0.2237,\n",
              "           0.0981, -0.0859, -0.1096,  0.0791, -0.2052, -0.2820, -0.1441, -0.0497,\n",
              "           0.1114,  0.3464, -0.0281, -0.2101,  0.0642, -0.0475, -0.3500, -0.0388,\n",
              "           0.1481,  0.1041,  0.0558, -0.3711, -0.0478,  0.2248,  0.0255,  0.1203,\n",
              "           0.0967, -0.1136, -0.2587,  0.2233, -0.0160,  0.1349,  0.1989, -0.2758,\n",
              "          -0.1123,  0.0931, -0.0575, -0.0828,  0.2524, -0.1149, -0.0566,  0.1111,\n",
              "           0.0685, -0.0065],\n",
              "         [ 0.1091,  0.0417, -0.0694, -0.2976, -0.0265,  0.1831,  0.2966,  0.1349,\n",
              "           0.1786, -0.1312,  0.1446, -0.2316, -0.0199, -0.0781,  0.0792,  0.0629,\n",
              "           0.0736,  0.2197, -0.1694, -0.0978, -0.0942,  0.0640,  0.1799,  0.0495,\n",
              "           0.3483, -0.2643,  0.0919, -0.1637,  0.0492,  0.1445,  0.0263, -0.0447,\n",
              "           0.1301,  0.2495,  0.1423, -0.1674, -0.2786, -0.2013,  0.0160,  0.3034,\n",
              "          -0.1267, -0.1498, -0.1753,  0.0573,  0.1035, -0.2375, -0.1292,  0.0595,\n",
              "          -0.2166,  0.0211],\n",
              "         [-0.2312, -0.1164, -0.2560, -0.0886, -0.2474,  0.0891, -0.1076, -0.2193,\n",
              "           0.0762, -0.2020, -0.0789, -0.0549, -0.1837, -0.1156, -0.0132, -0.2952,\n",
              "           0.2050,  0.5399,  0.0764, -0.1084,  0.1171,  0.3685,  0.1433, -0.0428,\n",
              "          -0.3675,  0.1724,  0.0684, -0.2218,  0.0645, -0.1736, -0.2278,  0.1142,\n",
              "           0.2070,  0.0545, -0.1782, -0.0776, -0.1571,  0.0699,  0.1024,  0.4644,\n",
              "          -0.2043,  0.2036, -0.1708, -0.0280,  0.0850,  0.2511, -0.0630,  0.1023,\n",
              "          -0.0996, -0.1564],\n",
              "         [-0.2191,  0.1422, -0.1139,  0.1335,  0.2386,  0.2592, -0.1407, -0.2389,\n",
              "          -0.0678,  0.1425,  0.1440,  0.0379,  0.1629,  0.2089, -0.0586, -0.0600,\n",
              "           0.2269, -0.1127,  0.1253, -0.2588,  0.0539,  0.0196,  0.0839,  0.0079,\n",
              "          -0.2208,  0.2555,  0.3884, -0.3805,  0.0746,  0.1456, -0.3297, -0.1060,\n",
              "           0.0422,  0.0710,  0.0992,  0.1431,  0.6623,  0.2000,  0.0478, -0.1368,\n",
              "           0.2620, -0.1792, -0.1971,  0.0660,  0.1914,  0.1435, -0.0923,  0.0295,\n",
              "          -0.2049, -0.1789]], device='cuda:0', dtype=torch.float64,\n",
              "        grad_fn=<SliceBackward>))"
            ]
          },
          "metadata": {
            "tags": []
          },
          "execution_count": 209
        }
      ]
    },
    {
      "cell_type": "code",
      "metadata": {
        "colab": {
          "base_uri": "https://localhost:8080/"
        },
        "id": "8Yauag0c-IK6",
        "outputId": "d94208aa-7405-45db-b5c5-28b30407b563"
      },
      "source": [
        "focus_net.fc3.weight.data[:,5:] = -focus_net.fc3.weight.data[:,:5] #torch.nn.Parameter(torch.tensor([last_layer]) )\n",
        "focus_net.fc3.weight"
      ],
      "execution_count": 210,
      "outputs": [
        {
          "output_type": "execute_result",
          "data": {
            "text/plain": [
              "Parameter containing:\n",
              "tensor([[-0.4898,  0.1933, -0.2547, -0.1798, -0.2616,  0.4898, -0.1933,  0.2547,\n",
              "          0.1798,  0.2616]], device='cuda:0', dtype=torch.float64,\n",
              "       requires_grad=True)"
            ]
          },
          "metadata": {
            "tags": []
          },
          "execution_count": 210
        }
      ]
    },
    {
      "cell_type": "code",
      "metadata": {
        "id": "ql_2Bz9E-J5y"
      },
      "source": [
        "focus_net = focus_net.double().to(\"cuda\")"
      ],
      "execution_count": 211,
      "outputs": []
    },
    {
      "cell_type": "code",
      "metadata": {
        "colab": {
          "base_uri": "https://localhost:8080/"
        },
        "id": "hOJ8NP14n6Eb",
        "outputId": "8965aaca-4763-4a51-bccd-725c0c956810"
      },
      "source": [
        "focus_net.helper( torch.randn((1,9,2)).double().to(\"cuda\") )"
      ],
      "execution_count": 212,
      "outputs": [
        {
          "output_type": "execute_result",
          "data": {
            "text/plain": [
              "tensor([[ 0.0000e+00],\n",
              "        [ 0.0000e+00],\n",
              "        [ 5.2042e-18],\n",
              "        [ 0.0000e+00],\n",
              "        [-1.3878e-17],\n",
              "        [-3.4694e-18],\n",
              "        [ 0.0000e+00],\n",
              "        [ 0.0000e+00],\n",
              "        [ 0.0000e+00]], device='cuda:0', dtype=torch.float64,\n",
              "       grad_fn=<MmBackward>)"
            ]
          },
          "metadata": {
            "tags": []
          },
          "execution_count": 212
        }
      ]
    },
    {
      "cell_type": "code",
      "metadata": {
        "colab": {
          "base_uri": "https://localhost:8080/"
        },
        "id": "estYkNt8oKhL",
        "outputId": "a3cf4e38-7774-4998-8df1-7b13f1270cdc"
      },
      "source": [
        "focus_net.fc1.weight"
      ],
      "execution_count": 213,
      "outputs": [
        {
          "output_type": "execute_result",
          "data": {
            "text/plain": [
              "Parameter containing:\n",
              "tensor([[ 0.0083, -0.2445],\n",
              "        [ 0.1332,  0.0802],\n",
              "        [ 0.1737,  0.3714],\n",
              "        [ 0.3591,  0.4165],\n",
              "        [-0.1227, -0.2131],\n",
              "        [-0.2118, -0.3591],\n",
              "        [ 0.0649,  0.0291],\n",
              "        [-0.1700,  0.4524],\n",
              "        [ 0.1073,  0.1546],\n",
              "        [-0.0755, -0.1721],\n",
              "        [-0.0719,  0.0759],\n",
              "        [ 0.0165, -0.3907],\n",
              "        [ 0.1875, -0.1575],\n",
              "        [-0.2269,  0.0497],\n",
              "        [ 0.0298,  0.0528],\n",
              "        [-0.1749,  0.0342],\n",
              "        [ 0.1303,  0.0789],\n",
              "        [ 0.1228, -0.1428],\n",
              "        [ 0.0864, -0.2877],\n",
              "        [ 0.4234, -0.0417],\n",
              "        [ 0.2168, -0.4608],\n",
              "        [-0.1639,  0.0735],\n",
              "        [-0.0553,  0.0390],\n",
              "        [ 0.1689, -0.1499],\n",
              "        [ 0.2123,  0.1888],\n",
              "        [ 0.2409, -0.0100],\n",
              "        [-0.2100,  0.1096],\n",
              "        [-0.2697, -0.0508],\n",
              "        [ 0.0882,  0.1932],\n",
              "        [ 0.1018, -0.0531],\n",
              "        [ 0.0788,  0.0289],\n",
              "        [-0.1424, -0.2366],\n",
              "        [-0.1353, -0.1328],\n",
              "        [ 0.2861, -0.0959],\n",
              "        [-0.0158, -0.1987],\n",
              "        [-0.0296, -0.0995],\n",
              "        [-0.1291, -0.1520],\n",
              "        [-0.0529,  0.2451],\n",
              "        [ 0.1563,  0.2044],\n",
              "        [ 0.2117, -0.0437],\n",
              "        [ 0.1460,  0.1351],\n",
              "        [-0.1584, -0.0613],\n",
              "        [-0.0090,  0.0823],\n",
              "        [-0.0520, -0.2655],\n",
              "        [ 0.1826, -0.0446],\n",
              "        [ 0.0966, -0.0908],\n",
              "        [-0.3714,  0.0571],\n",
              "        [ 0.3428,  0.0068],\n",
              "        [ 0.0859,  0.1727],\n",
              "        [ 0.0149,  0.0172]], device='cuda:0', dtype=torch.float64,\n",
              "       requires_grad=True)"
            ]
          },
          "metadata": {
            "tags": []
          },
          "execution_count": 213
        }
      ]
    },
    {
      "cell_type": "code",
      "metadata": {
        "colab": {
          "base_uri": "https://localhost:8080/"
        },
        "id": "TNA0bvAeoEpU",
        "outputId": "679bd2ce-7398-434d-a8f3-7257a782ecdd"
      },
      "source": [
        "classify.fc1.weight, classify.fc1.bias, classify.fc1.weight.shape"
      ],
      "execution_count": 214,
      "outputs": [
        {
          "output_type": "execute_result",
          "data": {
            "text/plain": [
              "(Parameter containing:\n",
              " tensor([[ 0.1491, -0.7950],\n",
              "         [ 0.0844,  0.0302],\n",
              "         [ 0.0211, -0.8157]], device='cuda:0', dtype=torch.float64,\n",
              "        requires_grad=True), Parameter containing:\n",
              " tensor([0., 0., 0.], device='cuda:0', dtype=torch.float64, requires_grad=True), torch.Size([3, 2]))"
            ]
          },
          "metadata": {
            "tags": []
          },
          "execution_count": 214
        }
      ]
    },
    {
      "cell_type": "code",
      "metadata": {
        "id": "7MHBbL7FXRQk"
      },
      "source": [
        "import torch.optim as optim\n",
        "criterion = nn.CrossEntropyLoss()\n",
        "optimizer_classify = optim.Adam(classify.parameters(), lr=0.01 ) #, momentum=0.9)\n",
        "optimizer_focus = optim.Adam(focus_net.parameters(), lr=0.01 ) #, momentum=0.9)"
      ],
      "execution_count": 215,
      "outputs": []
    },
    {
      "cell_type": "code",
      "metadata": {
        "id": "pjD2VZuV9Ed4"
      },
      "source": [
        "col1=[]\n",
        "col2=[]\n",
        "col3=[]\n",
        "col4=[]\n",
        "col5=[]\n",
        "col6=[]\n",
        "col7=[]\n",
        "col8=[]\n",
        "col9=[]\n",
        "col10=[]\n",
        "col11=[]\n",
        "col12=[]\n",
        "col13=[]"
      ],
      "execution_count": 216,
      "outputs": []
    },
    {
      "cell_type": "code",
      "metadata": {
        "id": "uALi25pmzQHV",
        "colab": {
          "base_uri": "https://localhost:8080/"
        },
        "outputId": "fe8df0c9-47fe-40d0-ef1c-cb6130b4a1aa"
      },
      "source": [
        "correct = 0\n",
        "total = 0\n",
        "count = 0\n",
        "flag = 1\n",
        "focus_true_pred_true =0\n",
        "focus_false_pred_true =0\n",
        "focus_true_pred_false =0\n",
        "focus_false_pred_false =0\n",
        "\n",
        "argmax_more_than_half = 0\n",
        "argmax_less_than_half =0\n",
        "\n",
        "with torch.no_grad():\n",
        "  for data in train_loader:\n",
        "    inputs, labels , fore_idx = data\n",
        "    inputs = inputs.double()\n",
        "    inputs, labels , fore_idx = inputs.to(\"cuda\"),labels.to(\"cuda\"), fore_idx.to(\"cuda\")\n",
        "    alphas, avg_images = focus_net(inputs)\n",
        "    outputs = classify(avg_images)\n",
        "    # print(outputs.shape)\n",
        "    _, predicted = torch.max(outputs.data, 1)\n",
        "    # print(predicted.shape)\n",
        "\n",
        "    for j in range(labels.size(0)):\n",
        "      count += 1\n",
        "      focus = torch.argmax(alphas[j])\n",
        "      if alphas[j][focus] >= 0.5 :\n",
        "        argmax_more_than_half += 1\n",
        "      else:\n",
        "        argmax_less_than_half += 1\n",
        "\n",
        "      # print(focus, fore_idx[j], predicted[j])\n",
        "      if(focus == fore_idx[j] and predicted[j] == labels[j]):\n",
        "          focus_true_pred_true += 1\n",
        "      elif(focus != fore_idx[j] and predicted[j] == labels[j]):\n",
        "        focus_false_pred_true += 1\n",
        "      elif(focus == fore_idx[j] and predicted[j] != labels[j]):\n",
        "        focus_true_pred_false += 1\n",
        "      elif(focus != fore_idx[j] and predicted[j] != labels[j]):\n",
        "        focus_false_pred_false += 1\n",
        "\n",
        "    total += labels.size(0)\n",
        "    correct += (predicted == labels).sum().item()\n",
        "\n",
        "print('Accuracy of the network on the 1000 train images: %d %%' % ( 100 * correct / total))\n",
        "print(\"total correct\", correct)\n",
        "print(\"total train set images\", total)\n",
        "\n",
        "print(\"focus_true_pred_true %d =============> FTPT : %d %%\" % (focus_true_pred_true , (100 * focus_true_pred_true / total) ) )\n",
        "print(\"focus_false_pred_true %d =============> FFPT : %d %%\" % (focus_false_pred_true, (100 * focus_false_pred_true / total) ) )\n",
        "print(\"focus_true_pred_false %d =============> FTPF : %d %%\" %( focus_true_pred_false , ( 100 * focus_true_pred_false / total) ) )\n",
        "print(\"focus_false_pred_false %d =============> FFPF : %d %%\" % (focus_false_pred_false, ( 100 * focus_false_pred_false / total) ) )\n",
        "\n",
        "print(\"argmax_more_than_half ==================> \",argmax_more_than_half)\n",
        "print(\"argmax_less_than_half ==================> \",argmax_less_than_half)\n",
        "print(count)\n",
        "\n",
        "print(\"=\"*100)\n",
        "\n",
        "col1.append(0)\n",
        "col2.append(argmax_more_than_half)\n",
        "col3.append(argmax_less_than_half)\n",
        "col4.append(focus_true_pred_true)\n",
        "col5.append(focus_false_pred_true)\n",
        "col6.append(focus_true_pred_false)\n",
        "col7.append(focus_false_pred_false)"
      ],
      "execution_count": 217,
      "outputs": [
        {
          "output_type": "stream",
          "text": [
            "Accuracy of the network on the 1000 train images: 37 %\n",
            "total correct 370\n",
            "total train set images 1000\n",
            "focus_true_pred_true 45 =============> FTPT : 4 %\n",
            "focus_false_pred_true 325 =============> FFPT : 32 %\n",
            "focus_true_pred_false 75 =============> FTPF : 7 %\n",
            "focus_false_pred_false 555 =============> FFPF : 55 %\n",
            "argmax_more_than_half ==================>  0\n",
            "argmax_less_than_half ==================>  1000\n",
            "1000\n",
            "====================================================================================================\n"
          ],
          "name": "stdout"
        }
      ]
    },
    {
      "cell_type": "code",
      "metadata": {
        "id": "4vmNprlPzTjP",
        "colab": {
          "base_uri": "https://localhost:8080/"
        },
        "outputId": "d682804f-24e2-4b26-ddc3-799a834d2624"
      },
      "source": [
        "correct = 0\n",
        "total = 0\n",
        "count = 0\n",
        "flag = 1\n",
        "focus_true_pred_true =0\n",
        "focus_false_pred_true =0\n",
        "focus_true_pred_false =0\n",
        "focus_false_pred_false =0\n",
        "\n",
        "argmax_more_than_half = 0\n",
        "argmax_less_than_half =0\n",
        "\n",
        "with torch.no_grad():\n",
        "  for data in test_loader:\n",
        "    inputs, labels , fore_idx = data\n",
        "    inputs = inputs.double()\n",
        "    inputs, labels , fore_idx = inputs.to(\"cuda\"),labels.to(\"cuda\"), fore_idx.to(\"cuda\")\n",
        "    alphas, avg_images = focus_net(inputs)\n",
        "    outputs = classify(avg_images)\n",
        "\n",
        "    _, predicted = torch.max(outputs.data, 1)\n",
        "\n",
        "    for j in range(labels.size(0)):\n",
        "      focus = torch.argmax(alphas[j])\n",
        "      if alphas[j][focus] >= 0.5 :\n",
        "        argmax_more_than_half += 1\n",
        "      else:\n",
        "        argmax_less_than_half += 1\n",
        "\n",
        "      if(focus == fore_idx[j] and predicted[j] == labels[j]):\n",
        "          focus_true_pred_true += 1\n",
        "      elif(focus != fore_idx[j] and predicted[j] == labels[j]):\n",
        "        focus_false_pred_true += 1\n",
        "      elif(focus == fore_idx[j] and predicted[j] != labels[j]):\n",
        "        focus_true_pred_false += 1\n",
        "      elif(focus != fore_idx[j] and predicted[j] != labels[j]):\n",
        "        focus_false_pred_false += 1\n",
        "\n",
        "    total += labels.size(0)\n",
        "    correct += (predicted == labels).sum().item()\n",
        "\n",
        "print('Accuracy of the network on the 1000 test images: %d %%' % (\n",
        "    100 * correct / total))\n",
        "print(\"total correct\", correct)\n",
        "print(\"total train set images\", total)\n",
        "\n",
        "print(\"focus_true_pred_true %d =============> FTPT : %d %%\" % (focus_true_pred_true , (100 * focus_true_pred_true / total) ) )\n",
        "print(\"focus_false_pred_true %d =============> FFPT : %d %%\" % (focus_false_pred_true, (100 * focus_false_pred_true / total) ) )\n",
        "print(\"focus_true_pred_false %d =============> FTPF : %d %%\" %( focus_true_pred_false , ( 100 * focus_true_pred_false / total) ) )\n",
        "print(\"focus_false_pred_false %d =============> FFPF : %d %%\" % (focus_false_pred_false, ( 100 * focus_false_pred_false / total) ) )\n",
        "\n",
        "print(\"argmax_more_than_half ==================> \",argmax_more_than_half)\n",
        "print(\"argmax_less_than_half ==================> \",argmax_less_than_half)\n",
        "col8.append(argmax_more_than_half)\n",
        "col9.append(argmax_less_than_half)\n",
        "col10.append(focus_true_pred_true)\n",
        "col11.append(focus_false_pred_true)\n",
        "col12.append(focus_true_pred_false)\n",
        "col13.append(focus_false_pred_false)"
      ],
      "execution_count": 218,
      "outputs": [
        {
          "output_type": "stream",
          "text": [
            "Accuracy of the network on the 1000 test images: 35 %\n",
            "total correct 359\n",
            "total train set images 1000\n",
            "focus_true_pred_true 35 =============> FTPT : 3 %\n",
            "focus_false_pred_true 324 =============> FFPT : 32 %\n",
            "focus_true_pred_false 81 =============> FTPF : 8 %\n",
            "focus_false_pred_false 560 =============> FFPF : 56 %\n",
            "argmax_more_than_half ==================>  0\n",
            "argmax_less_than_half ==================>  1000\n"
          ],
          "name": "stdout"
        }
      ]
    },
    {
      "cell_type": "code",
      "metadata": {
        "id": "Yl41sE8vFERk",
        "colab": {
          "base_uri": "https://localhost:8080/"
        },
        "outputId": "18610844-beb7-4471-ccdb-bceee1083d4f"
      },
      "source": [
        "nos_epochs = 1000\n",
        "focus_true_pred_true =0\n",
        "focus_false_pred_true =0\n",
        "focus_true_pred_false =0\n",
        "focus_false_pred_false =0\n",
        "\n",
        "argmax_more_than_half = 0\n",
        "argmax_less_than_half =0\n",
        "\n",
        "\n",
        "for epoch in range(nos_epochs):  # loop over the dataset multiple times\n",
        "\n",
        "  focus_true_pred_true =0\n",
        "  focus_false_pred_true =0\n",
        "  focus_true_pred_false =0\n",
        "  focus_false_pred_false =0\n",
        "  \n",
        "  argmax_more_than_half = 0\n",
        "  argmax_less_than_half =0\n",
        "  \n",
        "  running_loss = 0.0\n",
        "  epoch_loss = []\n",
        "  cnt=0\n",
        "\n",
        "  iteration = desired_num // batch\n",
        "  \n",
        "  #training data set\n",
        "  \n",
        "  for i, data in  enumerate(train_loader):\n",
        "    inputs , labels , fore_idx = data\n",
        "    inputs, labels = inputs.to(\"cuda\"), labels.to(\"cuda\")\n",
        "    inputs = inputs.double()\n",
        "    # zero the parameter gradients\n",
        "    \n",
        "    optimizer_focus.zero_grad()\n",
        "    optimizer_classify.zero_grad()\n",
        "    \n",
        "    alphas, avg_images = focus_net(inputs)\n",
        "    outputs = classify(avg_images)\n",
        "\n",
        "    _, predicted = torch.max(outputs.data, 1)\n",
        "#     print(outputs)\n",
        "#     print(outputs.shape,labels.shape , torch.argmax(outputs, dim=1))\n",
        "\n",
        "    loss = criterion(outputs, labels) \n",
        "    loss.backward()\n",
        "    optimizer_focus.step()\n",
        "    optimizer_classify.step()\n",
        "\n",
        "    running_loss += loss.item()\n",
        "    mini = 3\n",
        "    if cnt % mini == mini-1:    # print every 40 mini-batches\n",
        "      print('[%d, %5d] loss: %.3f' %(epoch + 1, cnt + 1, running_loss / mini))\n",
        "      epoch_loss.append(running_loss/mini)\n",
        "      running_loss = 0.0\n",
        "    cnt=cnt+1\n",
        "    \n",
        "    if epoch % 5 == 0:\n",
        "      for j in range (batch):\n",
        "        focus = torch.argmax(alphas[j])\n",
        "\n",
        "        if(alphas[j][focus] >= 0.5):\n",
        "          argmax_more_than_half +=1\n",
        "        else:\n",
        "          argmax_less_than_half +=1\n",
        "\n",
        "        if(focus == fore_idx[j] and predicted[j] == labels[j]):\n",
        "          focus_true_pred_true += 1\n",
        "\n",
        "        elif(focus != fore_idx[j] and predicted[j] == labels[j]):\n",
        "          focus_false_pred_true +=1\n",
        "\n",
        "        elif(focus == fore_idx[j] and predicted[j] != labels[j]):\n",
        "          focus_true_pred_false +=1\n",
        "\n",
        "        elif(focus != fore_idx[j] and predicted[j] != labels[j]):\n",
        "          focus_false_pred_false +=1\n",
        "\n",
        "  if(np.mean(epoch_loss) <= 0.001):\n",
        "      break;\n",
        "\n",
        "  if epoch % 5 == 0:\n",
        "    col1.append(epoch + 1)\n",
        "    col2.append(argmax_more_than_half)\n",
        "    col3.append(argmax_less_than_half)\n",
        "    col4.append(focus_true_pred_true)\n",
        "    col5.append(focus_false_pred_true)\n",
        "    col6.append(focus_true_pred_false)\n",
        "    col7.append(focus_false_pred_false)\n",
        "    # print(\"=\"*20)\n",
        "    # print(\"Train FTPT : \", col4)\n",
        "    # print(\"Train FFPT : \", col5)\n",
        "    #************************************************************************\n",
        "    #testing data set  \n",
        "    # focus_net.eval()\n",
        "    with torch.no_grad():\n",
        "      focus_true_pred_true =0\n",
        "      focus_false_pred_true =0\n",
        "      focus_true_pred_false =0\n",
        "      focus_false_pred_false =0\n",
        "\n",
        "      argmax_more_than_half = 0\n",
        "      argmax_less_than_half =0\n",
        "      for data in test_loader:\n",
        "        inputs, labels , fore_idx = data\n",
        "        inputs = inputs.double()\n",
        "        inputs, labels = inputs.to(\"cuda\"), labels.to(\"cuda\")\n",
        "        alphas, avg_images = focus_net(inputs)\n",
        "        outputs = classify(avg_images)\n",
        "        _, predicted = torch.max(outputs.data, 1)\n",
        "\n",
        "        for j in range (batch):\n",
        "          focus = torch.argmax(alphas[j])\n",
        "\n",
        "          if(alphas[j][focus] >= 0.5):\n",
        "            argmax_more_than_half +=1\n",
        "          else:\n",
        "            argmax_less_than_half +=1\n",
        "\n",
        "          if(focus == fore_idx[j] and predicted[j] == labels[j]):\n",
        "            focus_true_pred_true += 1\n",
        "\n",
        "          elif(focus != fore_idx[j] and predicted[j] == labels[j]):\n",
        "            focus_false_pred_true +=1\n",
        "\n",
        "          elif(focus == fore_idx[j] and predicted[j] != labels[j]):\n",
        "            focus_true_pred_false +=1\n",
        "\n",
        "          elif(focus != fore_idx[j] and predicted[j] != labels[j]):\n",
        "            focus_false_pred_false +=1\n",
        "      \n",
        "    col8.append(argmax_more_than_half)\n",
        "    col9.append(argmax_less_than_half)\n",
        "    col10.append(focus_true_pred_true)\n",
        "    col11.append(focus_false_pred_true)\n",
        "    col12.append(focus_true_pred_false)\n",
        "    col13.append(focus_false_pred_false)\n",
        "    # print(\"Test FTPT : \", col10)\n",
        "    # print(\"Test FFPT : \", col11)\n",
        "    # print(\"=\"*20)\n",
        "    \n",
        "print('Finished Training')"
      ],
      "execution_count": 219,
      "outputs": [
        {
          "output_type": "stream",
          "text": [
            "[1,     3] loss: 1.099\n",
            "[2,     3] loss: 1.097\n",
            "[3,     3] loss: 1.090\n",
            "[4,     3] loss: 1.087\n",
            "[5,     3] loss: 1.084\n",
            "[6,     3] loss: 1.077\n",
            "[7,     3] loss: 1.072\n",
            "[8,     3] loss: 1.054\n",
            "[9,     3] loss: 1.024\n",
            "[10,     3] loss: 0.977\n",
            "[11,     3] loss: 0.895\n",
            "[12,     3] loss: 0.812\n",
            "[13,     3] loss: 0.749\n",
            "[14,     3] loss: 0.702\n",
            "[15,     3] loss: 0.666\n",
            "[16,     3] loss: 0.632\n",
            "[17,     3] loss: 0.604\n",
            "[18,     3] loss: 0.574\n",
            "[19,     3] loss: 0.548\n",
            "[20,     3] loss: 0.522\n",
            "[21,     3] loss: 0.496\n",
            "[22,     3] loss: 0.480\n",
            "[23,     3] loss: 0.460\n",
            "[24,     3] loss: 0.443\n",
            "[25,     3] loss: 0.424\n",
            "[26,     3] loss: 0.409\n",
            "[27,     3] loss: 0.394\n",
            "[28,     3] loss: 0.380\n",
            "[29,     3] loss: 0.365\n",
            "[30,     3] loss: 0.353\n",
            "[31,     3] loss: 0.341\n",
            "[32,     3] loss: 0.332\n",
            "[33,     3] loss: 0.319\n",
            "[34,     3] loss: 0.310\n",
            "[35,     3] loss: 0.301\n",
            "[36,     3] loss: 0.292\n",
            "[37,     3] loss: 0.282\n",
            "[38,     3] loss: 0.273\n",
            "[39,     3] loss: 0.267\n",
            "[40,     3] loss: 0.259\n",
            "[41,     3] loss: 0.252\n",
            "[42,     3] loss: 0.243\n",
            "[43,     3] loss: 0.237\n",
            "[44,     3] loss: 0.229\n",
            "[45,     3] loss: 0.226\n",
            "[46,     3] loss: 0.220\n",
            "[47,     3] loss: 0.214\n",
            "[48,     3] loss: 0.207\n",
            "[49,     3] loss: 0.203\n",
            "[50,     3] loss: 0.199\n",
            "[51,     3] loss: 0.194\n",
            "[52,     3] loss: 0.189\n",
            "[53,     3] loss: 0.184\n",
            "[54,     3] loss: 0.180\n",
            "[55,     3] loss: 0.176\n",
            "[56,     3] loss: 0.171\n",
            "[57,     3] loss: 0.169\n",
            "[58,     3] loss: 0.166\n",
            "[59,     3] loss: 0.161\n",
            "[60,     3] loss: 0.158\n",
            "[61,     3] loss: 0.154\n",
            "[62,     3] loss: 0.151\n",
            "[63,     3] loss: 0.147\n",
            "[64,     3] loss: 0.145\n",
            "[65,     3] loss: 0.142\n",
            "[66,     3] loss: 0.139\n",
            "[67,     3] loss: 0.136\n",
            "[68,     3] loss: 0.135\n",
            "[69,     3] loss: 0.130\n",
            "[70,     3] loss: 0.129\n",
            "[71,     3] loss: 0.126\n",
            "[72,     3] loss: 0.124\n",
            "[73,     3] loss: 0.121\n",
            "[74,     3] loss: 0.119\n",
            "[75,     3] loss: 0.116\n",
            "[76,     3] loss: 0.115\n",
            "[77,     3] loss: 0.112\n",
            "[78,     3] loss: 0.112\n",
            "[79,     3] loss: 0.110\n",
            "[80,     3] loss: 0.107\n",
            "[81,     3] loss: 0.106\n",
            "[82,     3] loss: 0.104\n",
            "[83,     3] loss: 0.101\n",
            "[84,     3] loss: 0.100\n",
            "[85,     3] loss: 0.099\n",
            "[86,     3] loss: 0.097\n",
            "[87,     3] loss: 0.095\n",
            "[88,     3] loss: 0.093\n",
            "[89,     3] loss: 0.093\n",
            "[90,     3] loss: 0.091\n",
            "[91,     3] loss: 0.090\n",
            "[92,     3] loss: 0.089\n",
            "[93,     3] loss: 0.087\n",
            "[94,     3] loss: 0.086\n",
            "[95,     3] loss: 0.085\n",
            "[96,     3] loss: 0.083\n",
            "[97,     3] loss: 0.082\n",
            "[98,     3] loss: 0.080\n",
            "[99,     3] loss: 0.080\n",
            "[100,     3] loss: 0.078\n",
            "[101,     3] loss: 0.077\n",
            "[102,     3] loss: 0.077\n",
            "[103,     3] loss: 0.075\n",
            "[104,     3] loss: 0.074\n",
            "[105,     3] loss: 0.074\n",
            "[106,     3] loss: 0.072\n",
            "[107,     3] loss: 0.071\n",
            "[108,     3] loss: 0.070\n",
            "[109,     3] loss: 0.069\n",
            "[110,     3] loss: 0.069\n",
            "[111,     3] loss: 0.067\n",
            "[112,     3] loss: 0.067\n",
            "[113,     3] loss: 0.065\n",
            "[114,     3] loss: 0.065\n",
            "[115,     3] loss: 0.064\n",
            "[116,     3] loss: 0.064\n",
            "[117,     3] loss: 0.062\n",
            "[118,     3] loss: 0.063\n",
            "[119,     3] loss: 0.060\n",
            "[120,     3] loss: 0.061\n",
            "[121,     3] loss: 0.060\n",
            "[122,     3] loss: 0.059\n",
            "[123,     3] loss: 0.059\n",
            "[124,     3] loss: 0.058\n",
            "[125,     3] loss: 0.057\n",
            "[126,     3] loss: 0.057\n",
            "[127,     3] loss: 0.056\n",
            "[128,     3] loss: 0.055\n",
            "[129,     3] loss: 0.054\n",
            "[130,     3] loss: 0.054\n",
            "[131,     3] loss: 0.053\n",
            "[132,     3] loss: 0.053\n",
            "[133,     3] loss: 0.052\n",
            "[134,     3] loss: 0.051\n",
            "[135,     3] loss: 0.051\n",
            "[136,     3] loss: 0.051\n",
            "[137,     3] loss: 0.050\n",
            "[138,     3] loss: 0.049\n",
            "[139,     3] loss: 0.048\n",
            "[140,     3] loss: 0.048\n",
            "[141,     3] loss: 0.048\n",
            "[142,     3] loss: 0.047\n",
            "[143,     3] loss: 0.047\n",
            "[144,     3] loss: 0.046\n",
            "[145,     3] loss: 0.046\n",
            "[146,     3] loss: 0.045\n",
            "[147,     3] loss: 0.045\n",
            "[148,     3] loss: 0.044\n",
            "[149,     3] loss: 0.044\n",
            "[150,     3] loss: 0.044\n",
            "[151,     3] loss: 0.043\n",
            "[152,     3] loss: 0.043\n",
            "[153,     3] loss: 0.042\n",
            "[154,     3] loss: 0.042\n",
            "[155,     3] loss: 0.041\n",
            "[156,     3] loss: 0.041\n",
            "[157,     3] loss: 0.041\n",
            "[158,     3] loss: 0.040\n",
            "[159,     3] loss: 0.040\n",
            "[160,     3] loss: 0.040\n",
            "[161,     3] loss: 0.039\n",
            "[162,     3] loss: 0.038\n",
            "[163,     3] loss: 0.038\n",
            "[164,     3] loss: 0.038\n",
            "[165,     3] loss: 0.038\n",
            "[166,     3] loss: 0.037\n",
            "[167,     3] loss: 0.037\n",
            "[168,     3] loss: 0.037\n",
            "[169,     3] loss: 0.036\n",
            "[170,     3] loss: 0.036\n",
            "[171,     3] loss: 0.036\n",
            "[172,     3] loss: 0.035\n",
            "[173,     3] loss: 0.035\n",
            "[174,     3] loss: 0.035\n",
            "[175,     3] loss: 0.034\n",
            "[176,     3] loss: 0.033\n",
            "[177,     3] loss: 0.034\n",
            "[178,     3] loss: 0.033\n",
            "[179,     3] loss: 0.033\n",
            "[180,     3] loss: 0.033\n",
            "[181,     3] loss: 0.033\n",
            "[182,     3] loss: 0.033\n",
            "[183,     3] loss: 0.032\n",
            "[184,     3] loss: 0.032\n",
            "[185,     3] loss: 0.032\n",
            "[186,     3] loss: 0.031\n",
            "[187,     3] loss: 0.031\n",
            "[188,     3] loss: 0.031\n",
            "[189,     3] loss: 0.031\n",
            "[190,     3] loss: 0.030\n",
            "[191,     3] loss: 0.030\n",
            "[192,     3] loss: 0.030\n",
            "[193,     3] loss: 0.029\n",
            "[194,     3] loss: 0.029\n",
            "[195,     3] loss: 0.029\n",
            "[196,     3] loss: 0.029\n",
            "[197,     3] loss: 0.029\n",
            "[198,     3] loss: 0.029\n",
            "[199,     3] loss: 0.028\n",
            "[200,     3] loss: 0.028\n",
            "[201,     3] loss: 0.027\n",
            "[202,     3] loss: 0.027\n",
            "[203,     3] loss: 0.027\n",
            "[204,     3] loss: 0.027\n",
            "[205,     3] loss: 0.027\n",
            "[206,     3] loss: 0.027\n",
            "[207,     3] loss: 0.026\n",
            "[208,     3] loss: 0.026\n",
            "[209,     3] loss: 0.026\n",
            "[210,     3] loss: 0.025\n",
            "[211,     3] loss: 0.025\n",
            "[212,     3] loss: 0.026\n",
            "[213,     3] loss: 0.025\n",
            "[214,     3] loss: 0.025\n",
            "[215,     3] loss: 0.025\n",
            "[216,     3] loss: 0.025\n",
            "[217,     3] loss: 0.025\n",
            "[218,     3] loss: 0.025\n",
            "[219,     3] loss: 0.024\n",
            "[220,     3] loss: 0.024\n",
            "[221,     3] loss: 0.024\n",
            "[222,     3] loss: 0.024\n",
            "[223,     3] loss: 0.023\n",
            "[224,     3] loss: 0.024\n",
            "[225,     3] loss: 0.024\n",
            "[226,     3] loss: 0.023\n",
            "[227,     3] loss: 0.023\n",
            "[228,     3] loss: 0.023\n",
            "[229,     3] loss: 0.023\n",
            "[230,     3] loss: 0.023\n",
            "[231,     3] loss: 0.022\n",
            "[232,     3] loss: 0.022\n",
            "[233,     3] loss: 0.022\n",
            "[234,     3] loss: 0.022\n",
            "[235,     3] loss: 0.022\n",
            "[236,     3] loss: 0.022\n",
            "[237,     3] loss: 0.021\n",
            "[238,     3] loss: 0.021\n",
            "[239,     3] loss: 0.021\n",
            "[240,     3] loss: 0.021\n",
            "[241,     3] loss: 0.021\n",
            "[242,     3] loss: 0.020\n",
            "[243,     3] loss: 0.021\n",
            "[244,     3] loss: 0.021\n",
            "[245,     3] loss: 0.021\n",
            "[246,     3] loss: 0.020\n",
            "[247,     3] loss: 0.020\n",
            "[248,     3] loss: 0.020\n",
            "[249,     3] loss: 0.020\n",
            "[250,     3] loss: 0.020\n",
            "[251,     3] loss: 0.019\n",
            "[252,     3] loss: 0.019\n",
            "[253,     3] loss: 0.019\n",
            "[254,     3] loss: 0.019\n",
            "[255,     3] loss: 0.019\n",
            "[256,     3] loss: 0.019\n",
            "[257,     3] loss: 0.019\n",
            "[258,     3] loss: 0.018\n",
            "[259,     3] loss: 0.019\n",
            "[260,     3] loss: 0.018\n",
            "[261,     3] loss: 0.018\n",
            "[262,     3] loss: 0.019\n",
            "[263,     3] loss: 0.018\n",
            "[264,     3] loss: 0.018\n",
            "[265,     3] loss: 0.018\n",
            "[266,     3] loss: 0.018\n",
            "[267,     3] loss: 0.018\n",
            "[268,     3] loss: 0.017\n",
            "[269,     3] loss: 0.018\n",
            "[270,     3] loss: 0.018\n",
            "[271,     3] loss: 0.017\n",
            "[272,     3] loss: 0.017\n",
            "[273,     3] loss: 0.017\n",
            "[274,     3] loss: 0.017\n",
            "[275,     3] loss: 0.017\n",
            "[276,     3] loss: 0.017\n",
            "[277,     3] loss: 0.017\n",
            "[278,     3] loss: 0.016\n",
            "[279,     3] loss: 0.016\n",
            "[280,     3] loss: 0.016\n",
            "[281,     3] loss: 0.016\n",
            "[282,     3] loss: 0.016\n",
            "[283,     3] loss: 0.016\n",
            "[284,     3] loss: 0.016\n",
            "[285,     3] loss: 0.016\n",
            "[286,     3] loss: 0.015\n",
            "[287,     3] loss: 0.016\n",
            "[288,     3] loss: 0.016\n",
            "[289,     3] loss: 0.015\n",
            "[290,     3] loss: 0.015\n",
            "[291,     3] loss: 0.015\n",
            "[292,     3] loss: 0.015\n",
            "[293,     3] loss: 0.015\n",
            "[294,     3] loss: 0.015\n",
            "[295,     3] loss: 0.015\n",
            "[296,     3] loss: 0.015\n",
            "[297,     3] loss: 0.015\n",
            "[298,     3] loss: 0.015\n",
            "[299,     3] loss: 0.015\n",
            "[300,     3] loss: 0.015\n",
            "[301,     3] loss: 0.015\n",
            "[302,     3] loss: 0.014\n",
            "[303,     3] loss: 0.014\n",
            "[304,     3] loss: 0.014\n",
            "[305,     3] loss: 0.014\n",
            "[306,     3] loss: 0.014\n",
            "[307,     3] loss: 0.014\n",
            "[308,     3] loss: 0.014\n",
            "[309,     3] loss: 0.014\n",
            "[310,     3] loss: 0.014\n",
            "[311,     3] loss: 0.014\n",
            "[312,     3] loss: 0.014\n",
            "[313,     3] loss: 0.014\n",
            "[314,     3] loss: 0.013\n",
            "[315,     3] loss: 0.013\n",
            "[316,     3] loss: 0.013\n",
            "[317,     3] loss: 0.013\n",
            "[318,     3] loss: 0.013\n",
            "[319,     3] loss: 0.013\n",
            "[320,     3] loss: 0.013\n",
            "[321,     3] loss: 0.013\n",
            "[322,     3] loss: 0.013\n",
            "[323,     3] loss: 0.013\n",
            "[324,     3] loss: 0.013\n",
            "[325,     3] loss: 0.013\n",
            "[326,     3] loss: 0.013\n",
            "[327,     3] loss: 0.013\n",
            "[328,     3] loss: 0.012\n",
            "[329,     3] loss: 0.012\n",
            "[330,     3] loss: 0.012\n",
            "[331,     3] loss: 0.012\n",
            "[332,     3] loss: 0.012\n",
            "[333,     3] loss: 0.012\n",
            "[334,     3] loss: 0.012\n",
            "[335,     3] loss: 0.012\n",
            "[336,     3] loss: 0.012\n",
            "[337,     3] loss: 0.012\n",
            "[338,     3] loss: 0.012\n",
            "[339,     3] loss: 0.012\n",
            "[340,     3] loss: 0.012\n",
            "[341,     3] loss: 0.012\n",
            "[342,     3] loss: 0.012\n",
            "[343,     3] loss: 0.011\n",
            "[344,     3] loss: 0.012\n",
            "[345,     3] loss: 0.012\n",
            "[346,     3] loss: 0.012\n",
            "[347,     3] loss: 0.012\n",
            "[348,     3] loss: 0.011\n",
            "[349,     3] loss: 0.011\n",
            "[350,     3] loss: 0.011\n",
            "[351,     3] loss: 0.011\n",
            "[352,     3] loss: 0.011\n",
            "[353,     3] loss: 0.011\n",
            "[354,     3] loss: 0.011\n",
            "[355,     3] loss: 0.011\n",
            "[356,     3] loss: 0.011\n",
            "[357,     3] loss: 0.011\n",
            "[358,     3] loss: 0.011\n",
            "[359,     3] loss: 0.011\n",
            "[360,     3] loss: 0.011\n",
            "[361,     3] loss: 0.011\n",
            "[362,     3] loss: 0.011\n",
            "[363,     3] loss: 0.011\n",
            "[364,     3] loss: 0.010\n",
            "[365,     3] loss: 0.011\n",
            "[366,     3] loss: 0.011\n",
            "[367,     3] loss: 0.011\n",
            "[368,     3] loss: 0.010\n",
            "[369,     3] loss: 0.010\n",
            "[370,     3] loss: 0.010\n",
            "[371,     3] loss: 0.010\n",
            "[372,     3] loss: 0.010\n",
            "[373,     3] loss: 0.010\n",
            "[374,     3] loss: 0.010\n",
            "[375,     3] loss: 0.010\n",
            "[376,     3] loss: 0.010\n",
            "[377,     3] loss: 0.010\n",
            "[378,     3] loss: 0.010\n",
            "[379,     3] loss: 0.010\n",
            "[380,     3] loss: 0.010\n",
            "[381,     3] loss: 0.010\n",
            "[382,     3] loss: 0.009\n",
            "[383,     3] loss: 0.010\n",
            "[384,     3] loss: 0.010\n",
            "[385,     3] loss: 0.010\n",
            "[386,     3] loss: 0.009\n",
            "[387,     3] loss: 0.010\n",
            "[388,     3] loss: 0.009\n",
            "[389,     3] loss: 0.009\n",
            "[390,     3] loss: 0.009\n",
            "[391,     3] loss: 0.010\n",
            "[392,     3] loss: 0.009\n",
            "[393,     3] loss: 0.009\n",
            "[394,     3] loss: 0.009\n",
            "[395,     3] loss: 0.009\n",
            "[396,     3] loss: 0.009\n",
            "[397,     3] loss: 0.009\n",
            "[398,     3] loss: 0.009\n",
            "[399,     3] loss: 0.009\n",
            "[400,     3] loss: 0.009\n",
            "[401,     3] loss: 0.009\n",
            "[402,     3] loss: 0.009\n",
            "[403,     3] loss: 0.009\n",
            "[404,     3] loss: 0.009\n",
            "[405,     3] loss: 0.009\n",
            "[406,     3] loss: 0.009\n",
            "[407,     3] loss: 0.009\n",
            "[408,     3] loss: 0.009\n",
            "[409,     3] loss: 0.009\n",
            "[410,     3] loss: 0.009\n",
            "[411,     3] loss: 0.009\n",
            "[412,     3] loss: 0.008\n",
            "[413,     3] loss: 0.009\n",
            "[414,     3] loss: 0.008\n",
            "[415,     3] loss: 0.009\n",
            "[416,     3] loss: 0.008\n",
            "[417,     3] loss: 0.009\n",
            "[418,     3] loss: 0.008\n",
            "[419,     3] loss: 0.008\n",
            "[420,     3] loss: 0.008\n",
            "[421,     3] loss: 0.008\n",
            "[422,     3] loss: 0.008\n",
            "[423,     3] loss: 0.008\n",
            "[424,     3] loss: 0.008\n",
            "[425,     3] loss: 0.008\n",
            "[426,     3] loss: 0.008\n",
            "[427,     3] loss: 0.008\n",
            "[428,     3] loss: 0.008\n",
            "[429,     3] loss: 0.008\n",
            "[430,     3] loss: 0.008\n",
            "[431,     3] loss: 0.008\n",
            "[432,     3] loss: 0.008\n",
            "[433,     3] loss: 0.008\n",
            "[434,     3] loss: 0.008\n",
            "[435,     3] loss: 0.008\n",
            "[436,     3] loss: 0.008\n",
            "[437,     3] loss: 0.008\n",
            "[438,     3] loss: 0.008\n",
            "[439,     3] loss: 0.008\n",
            "[440,     3] loss: 0.008\n",
            "[441,     3] loss: 0.008\n",
            "[442,     3] loss: 0.008\n",
            "[443,     3] loss: 0.008\n",
            "[444,     3] loss: 0.008\n",
            "[445,     3] loss: 0.008\n",
            "[446,     3] loss: 0.007\n",
            "[447,     3] loss: 0.008\n",
            "[448,     3] loss: 0.008\n",
            "[449,     3] loss: 0.007\n",
            "[450,     3] loss: 0.007\n",
            "[451,     3] loss: 0.007\n",
            "[452,     3] loss: 0.007\n",
            "[453,     3] loss: 0.007\n",
            "[454,     3] loss: 0.007\n",
            "[455,     3] loss: 0.007\n",
            "[456,     3] loss: 0.007\n",
            "[457,     3] loss: 0.007\n",
            "[458,     3] loss: 0.007\n",
            "[459,     3] loss: 0.007\n",
            "[460,     3] loss: 0.007\n",
            "[461,     3] loss: 0.007\n",
            "[462,     3] loss: 0.007\n",
            "[463,     3] loss: 0.007\n",
            "[464,     3] loss: 0.007\n",
            "[465,     3] loss: 0.007\n",
            "[466,     3] loss: 0.007\n",
            "[467,     3] loss: 0.007\n",
            "[468,     3] loss: 0.007\n",
            "[469,     3] loss: 0.007\n",
            "[470,     3] loss: 0.007\n",
            "[471,     3] loss: 0.007\n",
            "[472,     3] loss: 0.007\n",
            "[473,     3] loss: 0.007\n",
            "[474,     3] loss: 0.007\n",
            "[475,     3] loss: 0.007\n",
            "[476,     3] loss: 0.007\n",
            "[477,     3] loss: 0.007\n",
            "[478,     3] loss: 0.006\n",
            "[479,     3] loss: 0.007\n",
            "[480,     3] loss: 0.007\n",
            "[481,     3] loss: 0.007\n",
            "[482,     3] loss: 0.006\n",
            "[483,     3] loss: 0.006\n",
            "[484,     3] loss: 0.007\n",
            "[485,     3] loss: 0.006\n",
            "[486,     3] loss: 0.006\n",
            "[487,     3] loss: 0.007\n",
            "[488,     3] loss: 0.006\n",
            "[489,     3] loss: 0.006\n",
            "[490,     3] loss: 0.006\n",
            "[491,     3] loss: 0.006\n",
            "[492,     3] loss: 0.006\n",
            "[493,     3] loss: 0.006\n",
            "[494,     3] loss: 0.006\n",
            "[495,     3] loss: 0.006\n",
            "[496,     3] loss: 0.006\n",
            "[497,     3] loss: 0.006\n",
            "[498,     3] loss: 0.006\n",
            "[499,     3] loss: 0.006\n",
            "[500,     3] loss: 0.006\n",
            "[501,     3] loss: 0.006\n",
            "[502,     3] loss: 0.006\n",
            "[503,     3] loss: 0.006\n",
            "[504,     3] loss: 0.006\n",
            "[505,     3] loss: 0.006\n",
            "[506,     3] loss: 0.006\n",
            "[507,     3] loss: 0.006\n",
            "[508,     3] loss: 0.006\n",
            "[509,     3] loss: 0.006\n",
            "[510,     3] loss: 0.006\n",
            "[511,     3] loss: 0.006\n",
            "[512,     3] loss: 0.006\n",
            "[513,     3] loss: 0.006\n",
            "[514,     3] loss: 0.006\n",
            "[515,     3] loss: 0.006\n",
            "[516,     3] loss: 0.006\n",
            "[517,     3] loss: 0.006\n",
            "[518,     3] loss: 0.006\n",
            "[519,     3] loss: 0.006\n",
            "[520,     3] loss: 0.006\n",
            "[521,     3] loss: 0.006\n",
            "[522,     3] loss: 0.006\n",
            "[523,     3] loss: 0.006\n",
            "[524,     3] loss: 0.006\n",
            "[525,     3] loss: 0.006\n",
            "[526,     3] loss: 0.006\n",
            "[527,     3] loss: 0.006\n",
            "[528,     3] loss: 0.005\n",
            "[529,     3] loss: 0.006\n",
            "[530,     3] loss: 0.005\n",
            "[531,     3] loss: 0.005\n",
            "[532,     3] loss: 0.005\n",
            "[533,     3] loss: 0.005\n",
            "[534,     3] loss: 0.005\n",
            "[535,     3] loss: 0.005\n",
            "[536,     3] loss: 0.005\n",
            "[537,     3] loss: 0.005\n",
            "[538,     3] loss: 0.005\n",
            "[539,     3] loss: 0.005\n",
            "[540,     3] loss: 0.005\n",
            "[541,     3] loss: 0.005\n",
            "[542,     3] loss: 0.005\n",
            "[543,     3] loss: 0.005\n",
            "[544,     3] loss: 0.005\n",
            "[545,     3] loss: 0.005\n",
            "[546,     3] loss: 0.005\n",
            "[547,     3] loss: 0.005\n",
            "[548,     3] loss: 0.005\n",
            "[549,     3] loss: 0.005\n",
            "[550,     3] loss: 0.005\n",
            "[551,     3] loss: 0.005\n",
            "[552,     3] loss: 0.005\n",
            "[553,     3] loss: 0.005\n",
            "[554,     3] loss: 0.005\n",
            "[555,     3] loss: 0.005\n",
            "[556,     3] loss: 0.005\n",
            "[557,     3] loss: 0.005\n",
            "[558,     3] loss: 0.005\n",
            "[559,     3] loss: 0.005\n",
            "[560,     3] loss: 0.005\n",
            "[561,     3] loss: 0.005\n",
            "[562,     3] loss: 0.005\n",
            "[563,     3] loss: 0.005\n",
            "[564,     3] loss: 0.005\n",
            "[565,     3] loss: 0.005\n",
            "[566,     3] loss: 0.005\n",
            "[567,     3] loss: 0.005\n",
            "[568,     3] loss: 0.005\n",
            "[569,     3] loss: 0.005\n",
            "[570,     3] loss: 0.005\n",
            "[571,     3] loss: 0.005\n",
            "[572,     3] loss: 0.005\n",
            "[573,     3] loss: 0.005\n",
            "[574,     3] loss: 0.005\n",
            "[575,     3] loss: 0.005\n",
            "[576,     3] loss: 0.005\n",
            "[577,     3] loss: 0.005\n",
            "[578,     3] loss: 0.005\n",
            "[579,     3] loss: 0.005\n",
            "[580,     3] loss: 0.005\n",
            "[581,     3] loss: 0.005\n",
            "[582,     3] loss: 0.004\n",
            "[583,     3] loss: 0.004\n",
            "[584,     3] loss: 0.005\n",
            "[585,     3] loss: 0.005\n",
            "[586,     3] loss: 0.005\n",
            "[587,     3] loss: 0.005\n",
            "[588,     3] loss: 0.004\n",
            "[589,     3] loss: 0.005\n",
            "[590,     3] loss: 0.004\n",
            "[591,     3] loss: 0.005\n",
            "[592,     3] loss: 0.004\n",
            "[593,     3] loss: 0.004\n",
            "[594,     3] loss: 0.004\n",
            "[595,     3] loss: 0.004\n",
            "[596,     3] loss: 0.004\n",
            "[597,     3] loss: 0.004\n",
            "[598,     3] loss: 0.004\n",
            "[599,     3] loss: 0.004\n",
            "[600,     3] loss: 0.004\n",
            "[601,     3] loss: 0.004\n",
            "[602,     3] loss: 0.004\n",
            "[603,     3] loss: 0.004\n",
            "[604,     3] loss: 0.004\n",
            "[605,     3] loss: 0.004\n",
            "[606,     3] loss: 0.004\n",
            "[607,     3] loss: 0.004\n",
            "[608,     3] loss: 0.004\n",
            "[609,     3] loss: 0.004\n",
            "[610,     3] loss: 0.004\n",
            "[611,     3] loss: 0.004\n",
            "[612,     3] loss: 0.004\n",
            "[613,     3] loss: 0.004\n",
            "[614,     3] loss: 0.004\n",
            "[615,     3] loss: 0.004\n",
            "[616,     3] loss: 0.004\n",
            "[617,     3] loss: 0.004\n",
            "[618,     3] loss: 0.004\n",
            "[619,     3] loss: 0.004\n",
            "[620,     3] loss: 0.004\n",
            "[621,     3] loss: 0.004\n",
            "[622,     3] loss: 0.004\n",
            "[623,     3] loss: 0.004\n",
            "[624,     3] loss: 0.004\n",
            "[625,     3] loss: 0.004\n",
            "[626,     3] loss: 0.004\n",
            "[627,     3] loss: 0.004\n",
            "[628,     3] loss: 0.004\n",
            "[629,     3] loss: 0.004\n",
            "[630,     3] loss: 0.004\n",
            "[631,     3] loss: 0.004\n",
            "[632,     3] loss: 0.004\n",
            "[633,     3] loss: 0.004\n",
            "[634,     3] loss: 0.004\n",
            "[635,     3] loss: 0.004\n",
            "[636,     3] loss: 0.004\n",
            "[637,     3] loss: 0.004\n",
            "[638,     3] loss: 0.004\n",
            "[639,     3] loss: 0.004\n",
            "[640,     3] loss: 0.004\n",
            "[641,     3] loss: 0.004\n",
            "[642,     3] loss: 0.004\n",
            "[643,     3] loss: 0.004\n",
            "[644,     3] loss: 0.004\n",
            "[645,     3] loss: 0.004\n",
            "[646,     3] loss: 0.004\n",
            "[647,     3] loss: 0.004\n",
            "[648,     3] loss: 0.004\n",
            "[649,     3] loss: 0.004\n",
            "[650,     3] loss: 0.004\n",
            "[651,     3] loss: 0.004\n",
            "[652,     3] loss: 0.004\n",
            "[653,     3] loss: 0.004\n",
            "[654,     3] loss: 0.004\n",
            "[655,     3] loss: 0.004\n",
            "[656,     3] loss: 0.004\n",
            "[657,     3] loss: 0.004\n",
            "[658,     3] loss: 0.004\n",
            "[659,     3] loss: 0.004\n",
            "[660,     3] loss: 0.004\n",
            "[661,     3] loss: 0.004\n",
            "[662,     3] loss: 0.004\n",
            "[663,     3] loss: 0.004\n",
            "[664,     3] loss: 0.004\n",
            "[665,     3] loss: 0.004\n",
            "[666,     3] loss: 0.003\n",
            "[667,     3] loss: 0.003\n",
            "[668,     3] loss: 0.004\n",
            "[669,     3] loss: 0.003\n",
            "[670,     3] loss: 0.003\n",
            "[671,     3] loss: 0.003\n",
            "[672,     3] loss: 0.003\n",
            "[673,     3] loss: 0.003\n",
            "[674,     3] loss: 0.003\n",
            "[675,     3] loss: 0.003\n",
            "[676,     3] loss: 0.003\n",
            "[677,     3] loss: 0.003\n",
            "[678,     3] loss: 0.003\n",
            "[679,     3] loss: 0.003\n",
            "[680,     3] loss: 0.003\n",
            "[681,     3] loss: 0.003\n",
            "[682,     3] loss: 0.003\n",
            "[683,     3] loss: 0.003\n",
            "[684,     3] loss: 0.003\n",
            "[685,     3] loss: 0.003\n",
            "[686,     3] loss: 0.003\n",
            "[687,     3] loss: 0.003\n",
            "[688,     3] loss: 0.003\n",
            "[689,     3] loss: 0.003\n",
            "[690,     3] loss: 0.003\n",
            "[691,     3] loss: 0.003\n",
            "[692,     3] loss: 0.003\n",
            "[693,     3] loss: 0.003\n",
            "[694,     3] loss: 0.003\n",
            "[695,     3] loss: 0.003\n",
            "[696,     3] loss: 0.003\n",
            "[697,     3] loss: 0.003\n",
            "[698,     3] loss: 0.003\n",
            "[699,     3] loss: 0.003\n",
            "[700,     3] loss: 0.003\n",
            "[701,     3] loss: 0.003\n",
            "[702,     3] loss: 0.003\n",
            "[703,     3] loss: 0.003\n",
            "[704,     3] loss: 0.003\n",
            "[705,     3] loss: 0.003\n",
            "[706,     3] loss: 0.003\n",
            "[707,     3] loss: 0.003\n",
            "[708,     3] loss: 0.003\n",
            "[709,     3] loss: 0.003\n",
            "[710,     3] loss: 0.003\n",
            "[711,     3] loss: 0.003\n",
            "[712,     3] loss: 0.003\n",
            "[713,     3] loss: 0.003\n",
            "[714,     3] loss: 0.003\n",
            "[715,     3] loss: 0.003\n",
            "[716,     3] loss: 0.003\n",
            "[717,     3] loss: 0.003\n",
            "[718,     3] loss: 0.003\n",
            "[719,     3] loss: 0.003\n",
            "[720,     3] loss: 0.003\n",
            "[721,     3] loss: 0.003\n",
            "[722,     3] loss: 0.003\n",
            "[723,     3] loss: 0.003\n",
            "[724,     3] loss: 0.003\n",
            "[725,     3] loss: 0.003\n",
            "[726,     3] loss: 0.003\n",
            "[727,     3] loss: 0.003\n",
            "[728,     3] loss: 0.003\n",
            "[729,     3] loss: 0.003\n",
            "[730,     3] loss: 0.003\n",
            "[731,     3] loss: 0.003\n",
            "[732,     3] loss: 0.003\n",
            "[733,     3] loss: 0.003\n",
            "[734,     3] loss: 0.003\n",
            "[735,     3] loss: 0.003\n",
            "[736,     3] loss: 0.003\n",
            "[737,     3] loss: 0.003\n",
            "[738,     3] loss: 0.003\n",
            "[739,     3] loss: 0.003\n",
            "[740,     3] loss: 0.003\n",
            "[741,     3] loss: 0.003\n",
            "[742,     3] loss: 0.003\n",
            "[743,     3] loss: 0.003\n",
            "[744,     3] loss: 0.003\n",
            "[745,     3] loss: 0.003\n",
            "[746,     3] loss: 0.003\n",
            "[747,     3] loss: 0.003\n",
            "[748,     3] loss: 0.003\n",
            "[749,     3] loss: 0.003\n",
            "[750,     3] loss: 0.003\n",
            "[751,     3] loss: 0.003\n",
            "[752,     3] loss: 0.003\n",
            "[753,     3] loss: 0.003\n",
            "[754,     3] loss: 0.003\n",
            "[755,     3] loss: 0.003\n",
            "[756,     3] loss: 0.003\n",
            "[757,     3] loss: 0.003\n",
            "[758,     3] loss: 0.003\n",
            "[759,     3] loss: 0.003\n",
            "[760,     3] loss: 0.003\n",
            "[761,     3] loss: 0.003\n",
            "[762,     3] loss: 0.003\n",
            "[763,     3] loss: 0.003\n",
            "[764,     3] loss: 0.003\n",
            "[765,     3] loss: 0.003\n",
            "[766,     3] loss: 0.003\n",
            "[767,     3] loss: 0.003\n",
            "[768,     3] loss: 0.003\n",
            "[769,     3] loss: 0.003\n",
            "[770,     3] loss: 0.003\n",
            "[771,     3] loss: 0.003\n",
            "[772,     3] loss: 0.003\n",
            "[773,     3] loss: 0.003\n",
            "[774,     3] loss: 0.003\n",
            "[775,     3] loss: 0.003\n",
            "[776,     3] loss: 0.003\n",
            "[777,     3] loss: 0.003\n",
            "[778,     3] loss: 0.003\n",
            "[779,     3] loss: 0.002\n",
            "[780,     3] loss: 0.003\n",
            "[781,     3] loss: 0.003\n",
            "[782,     3] loss: 0.003\n",
            "[783,     3] loss: 0.003\n",
            "[784,     3] loss: 0.002\n",
            "[785,     3] loss: 0.002\n",
            "[786,     3] loss: 0.003\n",
            "[787,     3] loss: 0.003\n",
            "[788,     3] loss: 0.003\n",
            "[789,     3] loss: 0.002\n",
            "[790,     3] loss: 0.002\n",
            "[791,     3] loss: 0.002\n",
            "[792,     3] loss: 0.002\n",
            "[793,     3] loss: 0.002\n",
            "[794,     3] loss: 0.002\n",
            "[795,     3] loss: 0.002\n",
            "[796,     3] loss: 0.002\n",
            "[797,     3] loss: 0.002\n",
            "[798,     3] loss: 0.002\n",
            "[799,     3] loss: 0.002\n",
            "[800,     3] loss: 0.002\n",
            "[801,     3] loss: 0.002\n",
            "[802,     3] loss: 0.002\n",
            "[803,     3] loss: 0.002\n",
            "[804,     3] loss: 0.002\n",
            "[805,     3] loss: 0.002\n",
            "[806,     3] loss: 0.002\n",
            "[807,     3] loss: 0.002\n",
            "[808,     3] loss: 0.002\n",
            "[809,     3] loss: 0.002\n",
            "[810,     3] loss: 0.002\n",
            "[811,     3] loss: 0.002\n",
            "[812,     3] loss: 0.002\n",
            "[813,     3] loss: 0.002\n",
            "[814,     3] loss: 0.002\n",
            "[815,     3] loss: 0.002\n",
            "[816,     3] loss: 0.002\n",
            "[817,     3] loss: 0.002\n",
            "[818,     3] loss: 0.002\n",
            "[819,     3] loss: 0.002\n",
            "[820,     3] loss: 0.002\n",
            "[821,     3] loss: 0.002\n",
            "[822,     3] loss: 0.002\n",
            "[823,     3] loss: 0.002\n",
            "[824,     3] loss: 0.002\n",
            "[825,     3] loss: 0.002\n",
            "[826,     3] loss: 0.002\n",
            "[827,     3] loss: 0.002\n",
            "[828,     3] loss: 0.002\n",
            "[829,     3] loss: 0.002\n",
            "[830,     3] loss: 0.002\n",
            "[831,     3] loss: 0.002\n",
            "[832,     3] loss: 0.002\n",
            "[833,     3] loss: 0.002\n",
            "[834,     3] loss: 0.002\n",
            "[835,     3] loss: 0.002\n",
            "[836,     3] loss: 0.002\n",
            "[837,     3] loss: 0.002\n",
            "[838,     3] loss: 0.002\n",
            "[839,     3] loss: 0.002\n",
            "[840,     3] loss: 0.002\n",
            "[841,     3] loss: 0.002\n",
            "[842,     3] loss: 0.002\n",
            "[843,     3] loss: 0.002\n",
            "[844,     3] loss: 0.002\n",
            "[845,     3] loss: 0.002\n",
            "[846,     3] loss: 0.002\n",
            "[847,     3] loss: 0.002\n",
            "[848,     3] loss: 0.002\n",
            "[849,     3] loss: 0.002\n",
            "[850,     3] loss: 0.002\n",
            "[851,     3] loss: 0.002\n",
            "[852,     3] loss: 0.002\n",
            "[853,     3] loss: 0.002\n",
            "[854,     3] loss: 0.002\n",
            "[855,     3] loss: 0.002\n",
            "[856,     3] loss: 0.002\n",
            "[857,     3] loss: 0.002\n",
            "[858,     3] loss: 0.002\n",
            "[859,     3] loss: 0.002\n",
            "[860,     3] loss: 0.002\n",
            "[861,     3] loss: 0.002\n",
            "[862,     3] loss: 0.002\n",
            "[863,     3] loss: 0.002\n",
            "[864,     3] loss: 0.002\n",
            "[865,     3] loss: 0.002\n",
            "[866,     3] loss: 0.002\n",
            "[867,     3] loss: 0.002\n",
            "[868,     3] loss: 0.002\n",
            "[869,     3] loss: 0.002\n",
            "[870,     3] loss: 0.002\n",
            "[871,     3] loss: 0.002\n",
            "[872,     3] loss: 0.002\n",
            "[873,     3] loss: 0.002\n",
            "[874,     3] loss: 0.002\n",
            "[875,     3] loss: 0.002\n",
            "[876,     3] loss: 0.002\n",
            "[877,     3] loss: 0.002\n",
            "[878,     3] loss: 0.002\n",
            "[879,     3] loss: 0.002\n",
            "[880,     3] loss: 0.002\n",
            "[881,     3] loss: 0.002\n",
            "[882,     3] loss: 0.002\n",
            "[883,     3] loss: 0.002\n",
            "[884,     3] loss: 0.002\n",
            "[885,     3] loss: 0.002\n",
            "[886,     3] loss: 0.002\n",
            "[887,     3] loss: 0.002\n",
            "[888,     3] loss: 0.002\n",
            "[889,     3] loss: 0.002\n",
            "[890,     3] loss: 0.002\n",
            "[891,     3] loss: 0.002\n",
            "[892,     3] loss: 0.002\n",
            "[893,     3] loss: 0.002\n",
            "[894,     3] loss: 0.002\n",
            "[895,     3] loss: 0.002\n",
            "[896,     3] loss: 0.002\n",
            "[897,     3] loss: 0.002\n",
            "[898,     3] loss: 0.002\n",
            "[899,     3] loss: 0.002\n",
            "[900,     3] loss: 0.002\n",
            "[901,     3] loss: 0.002\n",
            "[902,     3] loss: 0.002\n",
            "[903,     3] loss: 0.002\n",
            "[904,     3] loss: 0.002\n",
            "[905,     3] loss: 0.002\n",
            "[906,     3] loss: 0.002\n",
            "[907,     3] loss: 0.002\n",
            "[908,     3] loss: 0.002\n",
            "[909,     3] loss: 0.002\n",
            "[910,     3] loss: 0.002\n",
            "[911,     3] loss: 0.002\n",
            "[912,     3] loss: 0.002\n",
            "[913,     3] loss: 0.002\n",
            "[914,     3] loss: 0.002\n",
            "[915,     3] loss: 0.002\n",
            "[916,     3] loss: 0.002\n",
            "[917,     3] loss: 0.002\n",
            "[918,     3] loss: 0.002\n",
            "[919,     3] loss: 0.002\n",
            "[920,     3] loss: 0.002\n",
            "[921,     3] loss: 0.002\n",
            "[922,     3] loss: 0.002\n",
            "[923,     3] loss: 0.002\n",
            "[924,     3] loss: 0.002\n",
            "[925,     3] loss: 0.002\n",
            "[926,     3] loss: 0.002\n",
            "[927,     3] loss: 0.002\n",
            "[928,     3] loss: 0.002\n",
            "[929,     3] loss: 0.002\n",
            "[930,     3] loss: 0.002\n",
            "[931,     3] loss: 0.002\n",
            "[932,     3] loss: 0.002\n",
            "[933,     3] loss: 0.002\n",
            "[934,     3] loss: 0.002\n",
            "[935,     3] loss: 0.002\n",
            "[936,     3] loss: 0.002\n",
            "[937,     3] loss: 0.002\n",
            "[938,     3] loss: 0.002\n",
            "[939,     3] loss: 0.002\n",
            "[940,     3] loss: 0.002\n",
            "[941,     3] loss: 0.002\n",
            "[942,     3] loss: 0.002\n",
            "[943,     3] loss: 0.002\n",
            "[944,     3] loss: 0.002\n",
            "[945,     3] loss: 0.002\n",
            "[946,     3] loss: 0.002\n",
            "[947,     3] loss: 0.002\n",
            "[948,     3] loss: 0.002\n",
            "[949,     3] loss: 0.002\n",
            "[950,     3] loss: 0.002\n",
            "[951,     3] loss: 0.002\n",
            "[952,     3] loss: 0.002\n",
            "[953,     3] loss: 0.002\n",
            "[954,     3] loss: 0.002\n",
            "[955,     3] loss: 0.002\n",
            "[956,     3] loss: 0.002\n",
            "[957,     3] loss: 0.002\n",
            "[958,     3] loss: 0.002\n",
            "[959,     3] loss: 0.002\n",
            "[960,     3] loss: 0.002\n",
            "[961,     3] loss: 0.002\n",
            "[962,     3] loss: 0.002\n",
            "[963,     3] loss: 0.002\n",
            "[964,     3] loss: 0.002\n",
            "[965,     3] loss: 0.002\n",
            "[966,     3] loss: 0.002\n",
            "[967,     3] loss: 0.002\n",
            "[968,     3] loss: 0.002\n",
            "[969,     3] loss: 0.002\n",
            "[970,     3] loss: 0.002\n",
            "[971,     3] loss: 0.002\n",
            "[972,     3] loss: 0.002\n",
            "[973,     3] loss: 0.002\n",
            "[974,     3] loss: 0.002\n",
            "[975,     3] loss: 0.001\n",
            "[976,     3] loss: 0.002\n",
            "[977,     3] loss: 0.002\n",
            "[978,     3] loss: 0.002\n",
            "[979,     3] loss: 0.002\n",
            "[980,     3] loss: 0.002\n",
            "[981,     3] loss: 0.002\n",
            "[982,     3] loss: 0.002\n",
            "[983,     3] loss: 0.001\n",
            "[984,     3] loss: 0.002\n",
            "[985,     3] loss: 0.002\n",
            "[986,     3] loss: 0.002\n",
            "[987,     3] loss: 0.001\n",
            "[988,     3] loss: 0.001\n",
            "[989,     3] loss: 0.001\n",
            "[990,     3] loss: 0.001\n",
            "[991,     3] loss: 0.002\n",
            "[992,     3] loss: 0.002\n",
            "[993,     3] loss: 0.001\n",
            "[994,     3] loss: 0.001\n",
            "[995,     3] loss: 0.001\n",
            "[996,     3] loss: 0.001\n",
            "[997,     3] loss: 0.001\n",
            "[998,     3] loss: 0.002\n",
            "[999,     3] loss: 0.002\n",
            "[1000,     3] loss: 0.001\n",
            "Finished Training\n"
          ],
          "name": "stdout"
        }
      ]
    },
    {
      "cell_type": "code",
      "metadata": {
        "id": "5gQoPST5zW2t"
      },
      "source": [
        "df_train = pd.DataFrame()\n",
        "df_test = pd.DataFrame()"
      ],
      "execution_count": 220,
      "outputs": []
    },
    {
      "cell_type": "code",
      "metadata": {
        "id": "In76SYH_zZHV"
      },
      "source": [
        "columns = [\"epochs\", \"argmax > 0.5\" ,\"argmax < 0.5\", \"focus_true_pred_true\", \"focus_false_pred_true\", \"focus_true_pred_false\", \"focus_false_pred_false\" ]"
      ],
      "execution_count": 221,
      "outputs": []
    },
    {
      "cell_type": "code",
      "metadata": {
        "id": "BS4HtOHEzZ0E"
      },
      "source": [
        "df_train[columns[0]] = col1\n",
        "df_train[columns[1]] = col2\n",
        "df_train[columns[2]] = col3\n",
        "df_train[columns[3]] = col4\n",
        "df_train[columns[4]] = col5\n",
        "df_train[columns[5]] = col6\n",
        "df_train[columns[6]] = col7\n",
        "\n",
        "df_test[columns[0]] = col1\n",
        "df_test[columns[1]] = col8\n",
        "df_test[columns[2]] = col9\n",
        "df_test[columns[3]] = col10\n",
        "df_test[columns[4]] = col11\n",
        "df_test[columns[5]] = col12\n",
        "df_test[columns[6]] = col13"
      ],
      "execution_count": 222,
      "outputs": []
    },
    {
      "cell_type": "code",
      "metadata": {
        "id": "1UbTkfLUINTI",
        "colab": {
          "base_uri": "https://localhost:8080/",
          "height": 424
        },
        "outputId": "23fa3cb7-dbe8-461a-fb5f-166a99977579"
      },
      "source": [
        "df_train"
      ],
      "execution_count": 223,
      "outputs": [
        {
          "output_type": "execute_result",
          "data": {
            "text/html": [
              "<div>\n",
              "<style scoped>\n",
              "    .dataframe tbody tr th:only-of-type {\n",
              "        vertical-align: middle;\n",
              "    }\n",
              "\n",
              "    .dataframe tbody tr th {\n",
              "        vertical-align: top;\n",
              "    }\n",
              "\n",
              "    .dataframe thead th {\n",
              "        text-align: right;\n",
              "    }\n",
              "</style>\n",
              "<table border=\"1\" class=\"dataframe\">\n",
              "  <thead>\n",
              "    <tr style=\"text-align: right;\">\n",
              "      <th></th>\n",
              "      <th>epochs</th>\n",
              "      <th>argmax &gt; 0.5</th>\n",
              "      <th>argmax &lt; 0.5</th>\n",
              "      <th>focus_true_pred_true</th>\n",
              "      <th>focus_false_pred_true</th>\n",
              "      <th>focus_true_pred_false</th>\n",
              "      <th>focus_false_pred_false</th>\n",
              "    </tr>\n",
              "  </thead>\n",
              "  <tbody>\n",
              "    <tr>\n",
              "      <th>0</th>\n",
              "      <td>0</td>\n",
              "      <td>0</td>\n",
              "      <td>1000</td>\n",
              "      <td>45</td>\n",
              "      <td>325</td>\n",
              "      <td>75</td>\n",
              "      <td>555</td>\n",
              "    </tr>\n",
              "    <tr>\n",
              "      <th>1</th>\n",
              "      <td>1</td>\n",
              "      <td>0</td>\n",
              "      <td>1000</td>\n",
              "      <td>19</td>\n",
              "      <td>338</td>\n",
              "      <td>26</td>\n",
              "      <td>617</td>\n",
              "    </tr>\n",
              "    <tr>\n",
              "      <th>2</th>\n",
              "      <td>6</td>\n",
              "      <td>0</td>\n",
              "      <td>1000</td>\n",
              "      <td>419</td>\n",
              "      <td>0</td>\n",
              "      <td>581</td>\n",
              "      <td>0</td>\n",
              "    </tr>\n",
              "    <tr>\n",
              "      <th>3</th>\n",
              "      <td>11</td>\n",
              "      <td>986</td>\n",
              "      <td>14</td>\n",
              "      <td>876</td>\n",
              "      <td>0</td>\n",
              "      <td>124</td>\n",
              "      <td>0</td>\n",
              "    </tr>\n",
              "    <tr>\n",
              "      <th>4</th>\n",
              "      <td>16</td>\n",
              "      <td>1000</td>\n",
              "      <td>0</td>\n",
              "      <td>1000</td>\n",
              "      <td>0</td>\n",
              "      <td>0</td>\n",
              "      <td>0</td>\n",
              "    </tr>\n",
              "    <tr>\n",
              "      <th>...</th>\n",
              "      <td>...</td>\n",
              "      <td>...</td>\n",
              "      <td>...</td>\n",
              "      <td>...</td>\n",
              "      <td>...</td>\n",
              "      <td>...</td>\n",
              "      <td>...</td>\n",
              "    </tr>\n",
              "    <tr>\n",
              "      <th>196</th>\n",
              "      <td>976</td>\n",
              "      <td>1000</td>\n",
              "      <td>0</td>\n",
              "      <td>1000</td>\n",
              "      <td>0</td>\n",
              "      <td>0</td>\n",
              "      <td>0</td>\n",
              "    </tr>\n",
              "    <tr>\n",
              "      <th>197</th>\n",
              "      <td>981</td>\n",
              "      <td>1000</td>\n",
              "      <td>0</td>\n",
              "      <td>1000</td>\n",
              "      <td>0</td>\n",
              "      <td>0</td>\n",
              "      <td>0</td>\n",
              "    </tr>\n",
              "    <tr>\n",
              "      <th>198</th>\n",
              "      <td>986</td>\n",
              "      <td>1000</td>\n",
              "      <td>0</td>\n",
              "      <td>1000</td>\n",
              "      <td>0</td>\n",
              "      <td>0</td>\n",
              "      <td>0</td>\n",
              "    </tr>\n",
              "    <tr>\n",
              "      <th>199</th>\n",
              "      <td>991</td>\n",
              "      <td>1000</td>\n",
              "      <td>0</td>\n",
              "      <td>1000</td>\n",
              "      <td>0</td>\n",
              "      <td>0</td>\n",
              "      <td>0</td>\n",
              "    </tr>\n",
              "    <tr>\n",
              "      <th>200</th>\n",
              "      <td>996</td>\n",
              "      <td>1000</td>\n",
              "      <td>0</td>\n",
              "      <td>1000</td>\n",
              "      <td>0</td>\n",
              "      <td>0</td>\n",
              "      <td>0</td>\n",
              "    </tr>\n",
              "  </tbody>\n",
              "</table>\n",
              "<p>201 rows × 7 columns</p>\n",
              "</div>"
            ],
            "text/plain": [
              "     epochs  argmax > 0.5  ...  focus_true_pred_false  focus_false_pred_false\n",
              "0         0             0  ...                     75                     555\n",
              "1         1             0  ...                     26                     617\n",
              "2         6             0  ...                    581                       0\n",
              "3        11           986  ...                    124                       0\n",
              "4        16          1000  ...                      0                       0\n",
              "..      ...           ...  ...                    ...                     ...\n",
              "196     976          1000  ...                      0                       0\n",
              "197     981          1000  ...                      0                       0\n",
              "198     986          1000  ...                      0                       0\n",
              "199     991          1000  ...                      0                       0\n",
              "200     996          1000  ...                      0                       0\n",
              "\n",
              "[201 rows x 7 columns]"
            ]
          },
          "metadata": {
            "tags": []
          },
          "execution_count": 223
        }
      ]
    },
    {
      "cell_type": "code",
      "metadata": {
        "colab": {
          "base_uri": "https://localhost:8080/",
          "height": 573
        },
        "id": "xyna3USAeKZ9",
        "outputId": "dd9e8371-f5f3-474b-9b20-72762eed3e91"
      },
      "source": [
        "# plt.figure(12,12)\n",
        "plt.plot(col1,col2, label='argmax > 0.5')\n",
        "plt.plot(col1,col3, label='argmax < 0.5')\n",
        "\n",
        "plt.legend(loc='center left', bbox_to_anchor=(1, 0.5))\n",
        "plt.xlabel(\"epochs\")\n",
        "plt.ylabel(\"training data\")\n",
        "plt.title(\"On Training set\")\n",
        "plt.show()\n",
        "\n",
        "plt.plot(col1,col4, label =\"focus_true_pred_true \")\n",
        "plt.plot(col1,col5, label =\"focus_false_pred_true \")\n",
        "plt.plot(col1,col6, label =\"focus_true_pred_false \")\n",
        "plt.plot(col1,col7, label =\"focus_false_pred_false \")\n",
        "plt.title(\"On Training set\")\n",
        "plt.legend(loc='center left', bbox_to_anchor=(1, 0.5))\n",
        "plt.xlabel(\"epochs\")\n",
        "plt.ylabel(\"training data\")\n",
        "plt.show()"
      ],
      "execution_count": 224,
      "outputs": [
        {
          "output_type": "display_data",
          "data": {
            "image/png": "[encoded data removed]",
            "text/plain": [
              "<Figure size 432x288 with 1 Axes>"
            ]
          },
          "metadata": {
            "tags": [],
            "needs_background": "light"
          }
        },
        {
          "output_type": "display_data",
          "data": {
            "image/png": "[encoded data removed]",
            "text/plain": [
              "<Figure size 432x288 with 1 Axes>"
            ]
          },
          "metadata": {
            "tags": [],
            "needs_background": "light"
          }
        }
      ]
    },
    {
      "cell_type": "code",
      "metadata": {
        "colab": {
          "base_uri": "https://localhost:8080/",
          "height": 354
        },
        "id": "5lhODjqGoSxL",
        "outputId": "b101316e-0471-4078-96fe-c9afd3faf7d6"
      },
      "source": [
        "plt.figure(figsize=(6,5))\n",
        "plt.plot(col1,np.array(col4)/10, label =\"FTPT\")\n",
        "plt.plot(col1,np.array(col5)/10, label =\"FFPT\")\n",
        "plt.plot(col1,np.array(col6)/10, label =\"FTPF\")\n",
        "plt.plot(col1,np.array(col7)/10, label =\"FFPF\")\n",
        "plt.title(\"Dataset4 - SDC On Train set\")\n",
        "plt.grid()\n",
        "# plt.legend(loc='center left', bbox_to_anchor=(1, 0.5))\n",
        "plt.legend() #loc='upper right')\n",
        "plt.xlabel(\"epochs\", fontsize=14, fontweight = 'bold')\n",
        "plt.ylabel(\"percentage train data\", fontsize=14, fontweight = 'bold')\n",
        "plt.savefig(path+\"ds4_train.png\", bbox_inches=\"tight\")\n",
        "plt.savefig(path+\"ds4_train.pdf\", bbox_inches=\"tight\")\n",
        "plt.savefig(\"ds4_train.png\", bbox_inches=\"tight\")\n",
        "plt.savefig(\"ds4_train.pdf\", bbox_inches=\"tight\")\n",
        "plt.show()"
      ],
      "execution_count": 225,
      "outputs": [
        {
          "output_type": "display_data",
          "data": {
            "image/png": "[encoded data removed]",
            "text/plain": [
              "<Figure size 432x360 with 1 Axes>"
            ]
          },
          "metadata": {
            "tags": [],
            "needs_background": "light"
          }
        }
      ]
    },
    {
      "cell_type": "code",
      "metadata": {
        "colab": {
          "base_uri": "https://localhost:8080/",
          "height": 424
        },
        "id": "hrb68lvueMA-",
        "outputId": "8f90b0bc-0584-4b95-de90-fbf1edff8d2d"
      },
      "source": [
        "df_test"
      ],
      "execution_count": 226,
      "outputs": [
        {
          "output_type": "execute_result",
          "data": {
            "text/html": [
              "<div>\n",
              "<style scoped>\n",
              "    .dataframe tbody tr th:only-of-type {\n",
              "        vertical-align: middle;\n",
              "    }\n",
              "\n",
              "    .dataframe tbody tr th {\n",
              "        vertical-align: top;\n",
              "    }\n",
              "\n",
              "    .dataframe thead th {\n",
              "        text-align: right;\n",
              "    }\n",
              "</style>\n",
              "<table border=\"1\" class=\"dataframe\">\n",
              "  <thead>\n",
              "    <tr style=\"text-align: right;\">\n",
              "      <th></th>\n",
              "      <th>epochs</th>\n",
              "      <th>argmax &gt; 0.5</th>\n",
              "      <th>argmax &lt; 0.5</th>\n",
              "      <th>focus_true_pred_true</th>\n",
              "      <th>focus_false_pred_true</th>\n",
              "      <th>focus_true_pred_false</th>\n",
              "      <th>focus_false_pred_false</th>\n",
              "    </tr>\n",
              "  </thead>\n",
              "  <tbody>\n",
              "    <tr>\n",
              "      <th>0</th>\n",
              "      <td>0</td>\n",
              "      <td>0</td>\n",
              "      <td>1000</td>\n",
              "      <td>35</td>\n",
              "      <td>324</td>\n",
              "      <td>81</td>\n",
              "      <td>560</td>\n",
              "    </tr>\n",
              "    <tr>\n",
              "      <th>1</th>\n",
              "      <td>1</td>\n",
              "      <td>0</td>\n",
              "      <td>1000</td>\n",
              "      <td>5</td>\n",
              "      <td>347</td>\n",
              "      <td>24</td>\n",
              "      <td>624</td>\n",
              "    </tr>\n",
              "    <tr>\n",
              "      <th>2</th>\n",
              "      <td>6</td>\n",
              "      <td>0</td>\n",
              "      <td>1000</td>\n",
              "      <td>399</td>\n",
              "      <td>0</td>\n",
              "      <td>601</td>\n",
              "      <td>0</td>\n",
              "    </tr>\n",
              "    <tr>\n",
              "      <th>3</th>\n",
              "      <td>11</td>\n",
              "      <td>1000</td>\n",
              "      <td>0</td>\n",
              "      <td>939</td>\n",
              "      <td>0</td>\n",
              "      <td>61</td>\n",
              "      <td>0</td>\n",
              "    </tr>\n",
              "    <tr>\n",
              "      <th>4</th>\n",
              "      <td>16</td>\n",
              "      <td>1000</td>\n",
              "      <td>0</td>\n",
              "      <td>1000</td>\n",
              "      <td>0</td>\n",
              "      <td>0</td>\n",
              "      <td>0</td>\n",
              "    </tr>\n",
              "    <tr>\n",
              "      <th>...</th>\n",
              "      <td>...</td>\n",
              "      <td>...</td>\n",
              "      <td>...</td>\n",
              "      <td>...</td>\n",
              "      <td>...</td>\n",
              "      <td>...</td>\n",
              "      <td>...</td>\n",
              "    </tr>\n",
              "    <tr>\n",
              "      <th>196</th>\n",
              "      <td>976</td>\n",
              "      <td>1000</td>\n",
              "      <td>0</td>\n",
              "      <td>1000</td>\n",
              "      <td>0</td>\n",
              "      <td>0</td>\n",
              "      <td>0</td>\n",
              "    </tr>\n",
              "    <tr>\n",
              "      <th>197</th>\n",
              "      <td>981</td>\n",
              "      <td>1000</td>\n",
              "      <td>0</td>\n",
              "      <td>1000</td>\n",
              "      <td>0</td>\n",
              "      <td>0</td>\n",
              "      <td>0</td>\n",
              "    </tr>\n",
              "    <tr>\n",
              "      <th>198</th>\n",
              "      <td>986</td>\n",
              "      <td>1000</td>\n",
              "      <td>0</td>\n",
              "      <td>1000</td>\n",
              "      <td>0</td>\n",
              "      <td>0</td>\n",
              "      <td>0</td>\n",
              "    </tr>\n",
              "    <tr>\n",
              "      <th>199</th>\n",
              "      <td>991</td>\n",
              "      <td>1000</td>\n",
              "      <td>0</td>\n",
              "      <td>1000</td>\n",
              "      <td>0</td>\n",
              "      <td>0</td>\n",
              "      <td>0</td>\n",
              "    </tr>\n",
              "    <tr>\n",
              "      <th>200</th>\n",
              "      <td>996</td>\n",
              "      <td>1000</td>\n",
              "      <td>0</td>\n",
              "      <td>1000</td>\n",
              "      <td>0</td>\n",
              "      <td>0</td>\n",
              "      <td>0</td>\n",
              "    </tr>\n",
              "  </tbody>\n",
              "</table>\n",
              "<p>201 rows × 7 columns</p>\n",
              "</div>"
            ],
            "text/plain": [
              "     epochs  argmax > 0.5  ...  focus_true_pred_false  focus_false_pred_false\n",
              "0         0             0  ...                     81                     560\n",
              "1         1             0  ...                     24                     624\n",
              "2         6             0  ...                    601                       0\n",
              "3        11          1000  ...                     61                       0\n",
              "4        16          1000  ...                      0                       0\n",
              "..      ...           ...  ...                    ...                     ...\n",
              "196     976          1000  ...                      0                       0\n",
              "197     981          1000  ...                      0                       0\n",
              "198     986          1000  ...                      0                       0\n",
              "199     991          1000  ...                      0                       0\n",
              "200     996          1000  ...                      0                       0\n",
              "\n",
              "[201 rows x 7 columns]"
            ]
          },
          "metadata": {
            "tags": []
          },
          "execution_count": 226
        }
      ]
    },
    {
      "cell_type": "code",
      "metadata": {
        "colab": {
          "base_uri": "https://localhost:8080/",
          "height": 573
        },
        "id": "qR5SnitGeNMN",
        "outputId": "90b69060-c378-45e8-f553-61bab484fcc7"
      },
      "source": [
        "# plt.figure(12,12)\n",
        "plt.plot(col1,col8, label='argmax > 0.5')\n",
        "plt.plot(col1,col9, label='argmax < 0.5')\n",
        "\n",
        "plt.legend(loc='center left', bbox_to_anchor=(1, 0.5))\n",
        "plt.xlabel(\"epochs\")\n",
        "plt.ylabel(\"Testing data\")\n",
        "plt.title(\"On Testing set\")\n",
        "plt.show()\n",
        "\n",
        "plt.plot(col1,col10, label =\"focus_true_pred_true \")\n",
        "plt.plot(col1,col11, label =\"focus_false_pred_true \")\n",
        "plt.plot(col1,col12, label =\"focus_true_pred_false \")\n",
        "plt.plot(col1,col13, label =\"focus_false_pred_false \")\n",
        "plt.title(\"On Testing set\")\n",
        "plt.legend(loc='center left', bbox_to_anchor=(1, 0.5))\n",
        "plt.xlabel(\"epochs\")\n",
        "plt.ylabel(\"Testing data\")\n",
        "plt.show()"
      ],
      "execution_count": 227,
      "outputs": [
        {
          "output_type": "display_data",
          "data": {
            "image/png": "[encoded data removed]",
            "text/plain": [
              "<Figure size 432x288 with 1 Axes>"
            ]
          },
          "metadata": {
            "tags": [],
            "needs_background": "light"
          }
        },
        {
          "output_type": "display_data",
          "data": {
            "image/png": "[encoded data removed]",
            "text/plain": [
              "<Figure size 432x288 with 1 Axes>"
            ]
          },
          "metadata": {
            "tags": [],
            "needs_background": "light"
          }
        }
      ]
    },
    {
      "cell_type": "code",
      "metadata": {
        "colab": {
          "base_uri": "https://localhost:8080/",
          "height": 354
        },
        "id": "vwP4uAKyoaq7",
        "outputId": "ab086bf2-d688-4523-dca1-1412c03aafa2"
      },
      "source": [
        "plt.figure(figsize=(6,5))\n",
        "plt.plot(col1,np.array(col10)/10, label =\"FTPT\")\n",
        "plt.plot(col1,np.array(col11)/10, label =\"FFPT\")\n",
        "plt.plot(col1,np.array(col12)/10, label =\"FTPF\")\n",
        "plt.plot(col1,np.array(col13)/10, label =\"FFPF\")\n",
        "plt.title(\"Dataset4 - SDC On Test set\")\n",
        "plt.grid()\n",
        "# plt.legend(loc='center left', bbox_to_anchor=(1, 0.5))\n",
        "plt.legend() #loc='upper right')\n",
        "plt.xlabel(\"epochs\", fontsize=14, fontweight = 'bold')\n",
        "plt.ylabel(\"percentage test data\", fontsize=14, fontweight = 'bold')\n",
        "plt.savefig(path+\"ds4_test.png\", bbox_inches=\"tight\")\n",
        "plt.savefig(path+\"ds4_test.pdf\", bbox_inches=\"tight\")\n",
        "plt.savefig(\"ds4_test.png\", bbox_inches=\"tight\")\n",
        "plt.savefig(\"ds4_test.pdf\", bbox_inches=\"tight\")\n",
        "plt.show()"
      ],
      "execution_count": 228,
      "outputs": [
        {
          "output_type": "display_data",
          "data": {
            "image/png": "[encoded data removed]",
            "text/plain": [
              "<Figure size 432x360 with 1 Axes>"
            ]
          },
          "metadata": {
            "tags": [],
            "needs_background": "light"
          }
        }
      ]
    },
    {
      "cell_type": "code",
      "metadata": {
        "colab": {
          "base_uri": "https://localhost:8080/"
        },
        "id": "TGrzYDWxeO6m",
        "outputId": "37a61ea2-c6ac-4646-d742-37bd6261e8ae"
      },
      "source": [
        "correct = 0\n",
        "total = 0\n",
        "count = 0\n",
        "flag = 1\n",
        "focus_true_pred_true =0\n",
        "focus_false_pred_true =0\n",
        "focus_true_pred_false =0\n",
        "focus_false_pred_false =0\n",
        "\n",
        "argmax_more_than_half = 0\n",
        "argmax_less_than_half =0\n",
        "\n",
        "with torch.no_grad():\n",
        "  for data in train_loader:\n",
        "    inputs, labels , fore_idx = data\n",
        "    inputs = inputs.double()\n",
        "    inputs, labels , fore_idx = inputs.to(\"cuda\"),labels.to(\"cuda\"), fore_idx.to(\"cuda\")\n",
        "    alphas, avg_images = focus_net(inputs)\n",
        "    outputs = classify(avg_images)\n",
        "\n",
        "    _, predicted = torch.max(outputs.data, 1)\n",
        "\n",
        "    for j in range(labels.size(0)):\n",
        "      focus = torch.argmax(alphas[j])\n",
        "      if alphas[j][focus] >= 0.5 :\n",
        "        argmax_more_than_half += 1\n",
        "      else:\n",
        "        argmax_less_than_half += 1\n",
        "\n",
        "      if(focus == fore_idx[j] and predicted[j] == labels[j]):\n",
        "          focus_true_pred_true += 1\n",
        "      elif(focus != fore_idx[j] and predicted[j] == labels[j]):\n",
        "        focus_false_pred_true += 1\n",
        "      elif(focus == fore_idx[j] and predicted[j] != labels[j]):\n",
        "        focus_true_pred_false += 1\n",
        "      elif(focus != fore_idx[j] and predicted[j] != labels[j]):\n",
        "        focus_false_pred_false += 1\n",
        "\n",
        "    total += labels.size(0)\n",
        "    correct += (predicted == labels).sum().item()\n",
        "\n",
        "print('Accuracy of the network on the 1000 train images: %d %%' % (\n",
        "    100 * correct / total))\n",
        "print(\"total correct\", correct)\n",
        "print(\"total train set images\", total)\n",
        "\n",
        "print(\"focus_true_pred_true %d =============> FTPT : %d %%\" % (focus_true_pred_true , (100 * focus_true_pred_true / total) ) )\n",
        "print(\"focus_false_pred_true %d =============> FFPT : %d %%\" % (focus_false_pred_true, (100 * focus_false_pred_true / total) ) )\n",
        "print(\"focus_true_pred_false %d =============> FTPF : %d %%\" %( focus_true_pred_false , ( 100 * focus_true_pred_false / total) ) )\n",
        "print(\"focus_false_pred_false %d =============> FFPF : %d %%\" % (focus_false_pred_false, ( 100 * focus_false_pred_false / total) ) )\n",
        "\n",
        "print(\"argmax_more_than_half ==================> \",argmax_more_than_half)\n",
        "print(\"argmax_less_than_half ==================> \",argmax_less_than_half)"
      ],
      "execution_count": 229,
      "outputs": [
        {
          "output_type": "stream",
          "text": [
            "Accuracy of the network on the 1000 train images: 100 %\n",
            "total correct 1000\n",
            "total train set images 1000\n",
            "focus_true_pred_true 1000 =============> FTPT : 100 %\n",
            "focus_false_pred_true 0 =============> FFPT : 0 %\n",
            "focus_true_pred_false 0 =============> FTPF : 0 %\n",
            "focus_false_pred_false 0 =============> FFPF : 0 %\n",
            "argmax_more_than_half ==================>  1000\n",
            "argmax_less_than_half ==================>  0\n"
          ],
          "name": "stdout"
        }
      ]
    },
    {
      "cell_type": "code",
      "metadata": {
        "colab": {
          "base_uri": "https://localhost:8080/"
        },
        "id": "67_H9pkCeQNs",
        "outputId": "f5f696b2-7daa-481e-aae8-14edf9f270c3"
      },
      "source": [
        "correct = 0\n",
        "total = 0\n",
        "count = 0\n",
        "flag = 1\n",
        "focus_true_pred_true =0\n",
        "focus_false_pred_true =0\n",
        "focus_true_pred_false =0\n",
        "focus_false_pred_false =0\n",
        "\n",
        "argmax_more_than_half = 0\n",
        "argmax_less_than_half =0\n",
        "\n",
        "with torch.no_grad():\n",
        "  for data in test_loader:\n",
        "    inputs, labels , fore_idx = data\n",
        "    inputs = inputs.double()\n",
        "    inputs, labels , fore_idx = inputs.to(\"cuda\"),labels.to(\"cuda\"), fore_idx.to(\"cuda\")\n",
        "    alphas, avg_images = focus_net(inputs)\n",
        "    outputs = classify(avg_images)\n",
        "\n",
        "    _, predicted = torch.max(outputs.data, 1)\n",
        "\n",
        "    for j in range(labels.size(0)):\n",
        "      focus = torch.argmax(alphas[j])\n",
        "      if alphas[j][focus] >= 0.5 :\n",
        "        argmax_more_than_half += 1\n",
        "      else:\n",
        "        argmax_less_than_half += 1\n",
        "\n",
        "      if(focus == fore_idx[j] and predicted[j] == labels[j]):\n",
        "          focus_true_pred_true += 1\n",
        "      elif(focus != fore_idx[j] and predicted[j] == labels[j]):\n",
        "        focus_false_pred_true += 1\n",
        "      elif(focus == fore_idx[j] and predicted[j] != labels[j]):\n",
        "        focus_true_pred_false += 1\n",
        "      elif(focus != fore_idx[j] and predicted[j] != labels[j]):\n",
        "        focus_false_pred_false += 1\n",
        "\n",
        "    total += labels.size(0)\n",
        "    correct += (predicted == labels).sum().item()\n",
        "\n",
        "print('Accuracy of the network on the 1000 test images: %d %%' % (\n",
        "    100 * correct / total))\n",
        "print(\"total correct\", correct)\n",
        "print(\"total train set images\", total)\n",
        "\n",
        "print(\"focus_true_pred_true %d =============> FTPT : %d %%\" % (focus_true_pred_true , (100 * focus_true_pred_true / total) ) )\n",
        "print(\"focus_false_pred_true %d =============> FFPT : %d %%\" % (focus_false_pred_true, (100 * focus_false_pred_true / total) ) )\n",
        "print(\"focus_true_pred_false %d =============> FTPF : %d %%\" %( focus_true_pred_false , ( 100 * focus_true_pred_false / total) ) )\n",
        "print(\"focus_false_pred_false %d =============> FFPF : %d %%\" % (focus_false_pred_false, ( 100 * focus_false_pred_false / total) ) )\n",
        "\n",
        "print(\"argmax_more_than_half ==================> \",argmax_more_than_half)\n",
        "print(\"argmax_less_than_half ==================> \",argmax_less_than_half)"
      ],
      "execution_count": 230,
      "outputs": [
        {
          "output_type": "stream",
          "text": [
            "Accuracy of the network on the 1000 test images: 100 %\n",
            "total correct 1000\n",
            "total train set images 1000\n",
            "focus_true_pred_true 1000 =============> FTPT : 100 %\n",
            "focus_false_pred_true 0 =============> FFPT : 0 %\n",
            "focus_true_pred_false 0 =============> FTPF : 0 %\n",
            "focus_false_pred_false 0 =============> FFPF : 0 %\n",
            "argmax_more_than_half ==================>  1000\n",
            "argmax_less_than_half ==================>  0\n"
          ],
          "name": "stdout"
        }
      ]
    },
    {
      "cell_type": "code",
      "metadata": {
        "colab": {
          "base_uri": "https://localhost:8080/"
        },
        "id": "jhvhkEAyeRpt",
        "outputId": "051943c1-01d6-46d4-db12-251d1a7d4270"
      },
      "source": [
        "correct = 0\n",
        "total = 0\n",
        "\n",
        "with torch.no_grad():\n",
        "  for data in train_loader:\n",
        "    inputs, labels , fore_idx = data\n",
        "    inputs = inputs.double()\n",
        "    inputs, labels = inputs.to(\"cuda\"), labels.to(\"cuda\")\n",
        "    alphas, avg_images = focus_net(inputs)\n",
        "    outputs = classify(avg_images)\n",
        "\n",
        "    _, predicted = torch.max(outputs.data, 1)\n",
        "\n",
        "    total += labels.size(0)\n",
        "    correct += (predicted == labels).sum().item()\n",
        "\n",
        "print('Accuracy of the network on the 1000 train images: %d %%' % ( 100 * correct / total))\n",
        "print(\"total correct\", correct)\n",
        "print(\"total train set images\", total)"
      ],
      "execution_count": 231,
      "outputs": [
        {
          "output_type": "stream",
          "text": [
            "Accuracy of the network on the 1000 train images: 100 %\n",
            "total correct 1000\n",
            "total train set images 1000\n"
          ],
          "name": "stdout"
        }
      ]
    },
    {
      "cell_type": "code",
      "metadata": {
        "colab": {
          "base_uri": "https://localhost:8080/"
        },
        "id": "OKcmpKwGeS8M",
        "outputId": "ff14fcb2-9bd1-4954-88fe-c80eb019561a"
      },
      "source": [
        "correct = 0\n",
        "total = 0\n",
        "\n",
        "with torch.no_grad():\n",
        "  for data in test_loader:\n",
        "    inputs, labels , fore_idx = data\n",
        "    inputs = inputs.double()\n",
        "    inputs, labels = inputs.to(\"cuda\"), labels.to(\"cuda\")\n",
        "    alphas, avg_images = focus_net(inputs)\n",
        "    outputs = classify(avg_images)\n",
        "\n",
        "    _, predicted = torch.max(outputs.data, 1)\n",
        "\n",
        "    total += labels.size(0)\n",
        "    correct += (predicted == labels).sum().item()\n",
        "\n",
        "print('Accuracy of the network on the 1000 test images: %d %%' % ( 100 * correct / total))\n",
        "print(\"total correct\", correct)\n",
        "print(\"total train set images\", total)"
      ],
      "execution_count": 232,
      "outputs": [
        {
          "output_type": "stream",
          "text": [
            "Accuracy of the network on the 1000 test images: 100 %\n",
            "total correct 1000\n",
            "total train set images 1000\n"
          ],
          "name": "stdout"
        }
      ]
    },
    {
      "cell_type": "code",
      "metadata": {
        "id": "xlalQug_egcl"
      },
      "source": [
        ""
      ],
      "execution_count": 232,
      "outputs": []
    }
  ]
}