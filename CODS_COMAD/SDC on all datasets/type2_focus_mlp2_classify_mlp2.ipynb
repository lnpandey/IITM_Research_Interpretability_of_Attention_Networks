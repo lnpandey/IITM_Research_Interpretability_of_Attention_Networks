{
  "nbformat": 4,
  "nbformat_minor": 0,
  "metadata": {
    "accelerator": "GPU",
    "colab": {
      "name": "type2_focus_mlp2_classify_mlp2.ipynb",
      "provenance": [],
      "collapsed_sections": []
    },
    "kernelspec": {
      "display_name": "Python 3",
      "language": "python",
      "name": "python3"
    },
    "language_info": {
      "codemirror_mode": {
        "name": "ipython",
        "version": 3
      },
      "file_extension": ".py",
      "mimetype": "text/x-python",
      "name": "python",
      "nbconvert_exporter": "python",
      "pygments_lexer": "ipython3",
      "version": "3.6.5"
    }
  },
  "cells": [
    {
      "cell_type": "code",
      "metadata": {
        "colab": {
          "base_uri": "https://localhost:8080/"
        },
        "id": "PVO3ASMSm8Bx",
        "outputId": "e2fde265-a8ca-4e8e-d771-d04b2cc8ad2a"
      },
      "source": [
        "from google.colab import drive\n",
        "drive.mount('/content/drive')"
      ],
      "execution_count": 310,
      "outputs": [
        {
          "output_type": "stream",
          "text": [
            "Drive already mounted at /content/drive; to attempt to forcibly remount, call drive.mount(\"/content/drive\", force_remount=True).\n"
          ],
          "name": "stdout"
        }
      ]
    },
    {
      "cell_type": "code",
      "metadata": {
        "id": "uLrd5bwInAd1"
      },
      "source": [
        "path=\"/content/drive/MyDrive/Research/cods_comad_plots/SDC/dataset_2/\""
      ],
      "execution_count": 311,
      "outputs": []
    },
    {
      "cell_type": "code",
      "metadata": {
        "colab": {
          "base_uri": "https://localhost:8080/"
        },
        "id": "N2_J4Rw2r0SQ",
        "outputId": "64ab3804-5039-486d-f256-c15d8a4b1773"
      },
      "source": [
        "import numpy as np\n",
        "import pandas as pd\n",
        "from matplotlib import pyplot as plt\n",
        "from tqdm import tqdm\n",
        "%matplotlib inline\n",
        "from torch.utils.data import Dataset, DataLoader\n",
        "import torch\n",
        "import torchvision\n",
        "\n",
        "import torch.nn as nn\n",
        "import torch.optim as optim\n",
        "from torch.nn import functional as F\n",
        "device = torch.device(\"cuda\" if torch.cuda.is_available() else \"cpu\")\n",
        "print(device)"
      ],
      "execution_count": 312,
      "outputs": [
        {
          "output_type": "stream",
          "text": [
            "cuda\n"
          ],
          "name": "stdout"
        }
      ]
    },
    {
      "cell_type": "markdown",
      "metadata": {
        "id": "F6fjud_Fr0Sa"
      },
      "source": [
        "# Generate dataset"
      ]
    },
    {
      "cell_type": "code",
      "metadata": {
        "colab": {
          "base_uri": "https://localhost:8080/"
        },
        "id": "CqdXHO0Cr0Sd",
        "outputId": "25c0a83b-24ac-468a-debd-7973fde6daac"
      },
      "source": [
        "np.random.seed(12)\n",
        "y = np.random.randint(0,10,5000)\n",
        "idx= []\n",
        "for i in range(10):\n",
        "    print(i,sum(y==i))\n",
        "    idx.append(y==i)"
      ],
      "execution_count": 313,
      "outputs": [
        {
          "output_type": "stream",
          "text": [
            "0 530\n",
            "1 463\n",
            "2 494\n",
            "3 517\n",
            "4 488\n",
            "5 497\n",
            "6 493\n",
            "7 507\n",
            "8 492\n",
            "9 519\n"
          ],
          "name": "stdout"
        }
      ]
    },
    {
      "cell_type": "code",
      "metadata": {
        "id": "ddhXyODwr0Sk"
      },
      "source": [
        "x = np.zeros((5000,2))"
      ],
      "execution_count": 314,
      "outputs": []
    },
    {
      "cell_type": "code",
      "metadata": {
        "id": "DyV3N2DIr0Sp"
      },
      "source": [
        "np.random.seed(12)\n",
        "x[idx[0],:] = np.random.multivariate_normal(mean = [5,5],cov=[[0.1,0],[0,0.1]],size=sum(idx[0]))\n",
        "x[idx[1],:] = np.random.multivariate_normal(mean = [-6,7],cov=[[0.1,0],[0,0.1]],size=sum(idx[1]))\n",
        "x[idx[2],:] = np.random.multivariate_normal(mean = [-5,-4],cov=[[0.1,0],[0,0.1]],size=sum(idx[2]))\n",
        "x[idx[3],:] = np.random.multivariate_normal(mean = [-1,0],cov=[[0.1,0],[0,0.1]],size=sum(idx[3]))\n",
        "x[idx[4],:] = np.random.multivariate_normal(mean = [0,2],cov=[[0.1,0],[0,0.1]],size=sum(idx[4]))\n",
        "x[idx[5],:] = np.random.multivariate_normal(mean = [1,0],cov=[[0.1,0],[0,0.1]],size=sum(idx[5]))\n",
        "x[idx[6],:] = np.random.multivariate_normal(mean = [0,-1],cov=[[0.1,0],[0,0.1]],size=sum(idx[6]))\n",
        "x[idx[7],:] = np.random.multivariate_normal(mean = [0,0],cov=[[0.1,0],[0,0.1]],size=sum(idx[7]))\n",
        "x[idx[8],:] = np.random.multivariate_normal(mean = [-0.5,-0.5],cov=[[0.1,0],[0,0.1]],size=sum(idx[8]))\n",
        "x[idx[9],:] = np.random.multivariate_normal(mean = [0.4,0.2],cov=[[0.1,0],[0,0.1]],size=sum(idx[9]))"
      ],
      "execution_count": 315,
      "outputs": []
    },
    {
      "cell_type": "code",
      "metadata": {
        "colab": {
          "base_uri": "https://localhost:8080/"
        },
        "id": "qh1mDScsU07I",
        "outputId": "f50e96b0-62cd-4e73-afeb-7948bbe355f5"
      },
      "source": [
        "x[idx[0]][0], x[idx[5]][5] "
      ],
      "execution_count": 316,
      "outputs": [
        {
          "output_type": "execute_result",
          "data": {
            "text/plain": [
              "(array([5.14957125, 4.78451422]), array([0.87756167, 0.00457805]))"
            ]
          },
          "metadata": {
            "tags": []
          },
          "execution_count": 316
        }
      ]
    },
    {
      "cell_type": "code",
      "metadata": {
        "colab": {
          "base_uri": "https://localhost:8080/",
          "height": 284
        },
        "id": "9Vr5ErQ_wSrV",
        "outputId": "88277bbc-886a-46e6-af0f-9ce4d268873b"
      },
      "source": [
        "for i in range(10):\n",
        "    plt.scatter(x[idx[i],0],x[idx[i],1],label=\"class_\"+str(i))\n",
        "plt.legend(loc='center left', bbox_to_anchor=(1, 0.5))"
      ],
      "execution_count": 317,
      "outputs": [
        {
          "output_type": "execute_result",
          "data": {
            "text/plain": [
              "<matplotlib.legend.Legend at 0x7fe721aebb10>"
            ]
          },
          "metadata": {
            "tags": []
          },
          "execution_count": 317
        },
        {
          "output_type": "display_data",
          "data": {
            "image/png": "[encoded data removed]",
            "text/plain": [
              "<Figure size 432x288 with 1 Axes>"
            ]
          },
          "metadata": {
            "tags": [],
            "needs_background": "light"
          }
        }
      ]
    },
    {
      "cell_type": "code",
      "metadata": {
        "id": "NG-3RpffwU_i",
        "colab": {
          "base_uri": "https://localhost:8080/"
        },
        "outputId": "db326c17-9c84-47d7-f828-b706f6db08f2"
      },
      "source": [
        "bg_idx = [ np.where(idx[3] == True)[0], \n",
        "          np.where(idx[4] == True)[0], \n",
        "          np.where(idx[5] == True)[0],\n",
        "          np.where(idx[6] == True)[0], \n",
        "          np.where(idx[7] == True)[0], \n",
        "          np.where(idx[8] == True)[0],\n",
        "          np.where(idx[9] == True)[0]]\n",
        "\n",
        "bg_idx = np.concatenate(bg_idx, axis = 0)\n",
        "bg_idx.shape"
      ],
      "execution_count": 318,
      "outputs": [
        {
          "output_type": "execute_result",
          "data": {
            "text/plain": [
              "(3513,)"
            ]
          },
          "metadata": {
            "tags": []
          },
          "execution_count": 318
        }
      ]
    },
    {
      "cell_type": "code",
      "metadata": {
        "colab": {
          "base_uri": "https://localhost:8080/"
        },
        "id": "_0JKKUdwoo9b",
        "outputId": "6826b45a-617a-428d-e0ce-298c92c02bd9"
      },
      "source": [
        "np.unique(bg_idx).shape"
      ],
      "execution_count": 319,
      "outputs": [
        {
          "output_type": "execute_result",
          "data": {
            "text/plain": [
              "(3513,)"
            ]
          },
          "metadata": {
            "tags": []
          },
          "execution_count": 319
        }
      ]
    },
    {
      "cell_type": "code",
      "metadata": {
        "id": "6LA5i3Droo60"
      },
      "source": [
        "x = x - np.mean(x[bg_idx], axis = 0, keepdims = True)\n"
      ],
      "execution_count": 320,
      "outputs": []
    },
    {
      "cell_type": "code",
      "metadata": {
        "colab": {
          "base_uri": "https://localhost:8080/"
        },
        "id": "s5tfCDfHoo3-",
        "outputId": "37c2c410-4239-4e6c-b645-aa799b42ad4c"
      },
      "source": [
        "np.mean(x[bg_idx], axis = 0, keepdims = True), np.mean(x, axis = 0, keepdims = True)"
      ],
      "execution_count": 321,
      "outputs": [
        {
          "output_type": "execute_result",
          "data": {
            "text/plain": [
              "(array([[-1.04275003e-16,  6.74571889e-17]]),\n",
              " array([[-0.51598033,  0.75072644]]))"
            ]
          },
          "metadata": {
            "tags": []
          },
          "execution_count": 321
        }
      ]
    },
    {
      "cell_type": "code",
      "metadata": {
        "id": "TpSAZtqzoo1F"
      },
      "source": [
        "x = x/np.std(x[bg_idx], axis = 0, keepdims = True)"
      ],
      "execution_count": 322,
      "outputs": []
    },
    {
      "cell_type": "code",
      "metadata": {
        "colab": {
          "base_uri": "https://localhost:8080/"
        },
        "id": "NsrCmT8IovQv",
        "outputId": "a4c57228-14aa-45b2-ba01-9990b9c8a60f"
      },
      "source": [
        "np.std(x[bg_idx], axis = 0, keepdims = True), np.std(x, axis = 0, keepdims = True)"
      ],
      "execution_count": 323,
      "outputs": [
        {
          "output_type": "execute_result",
          "data": {
            "text/plain": [
              "(array([[1., 1.]]), array([[4.44326012, 3.25965767]]))"
            ]
          },
          "metadata": {
            "tags": []
          },
          "execution_count": 323
        }
      ]
    },
    {
      "cell_type": "code",
      "metadata": {
        "colab": {
          "base_uri": "https://localhost:8080/",
          "height": 284
        },
        "id": "hJ8Jm7YUr0St",
        "outputId": "eefcc402-9c3c-4f6e-e048-b3524cddf821"
      },
      "source": [
        "for i in range(10):\n",
        "    plt.scatter(x[idx[i],0],x[idx[i],1],label=\"class_\"+str(i))\n",
        "plt.legend(loc='center left', bbox_to_anchor=(1, 0.5))"
      ],
      "execution_count": 324,
      "outputs": [
        {
          "output_type": "execute_result",
          "data": {
            "text/plain": [
              "<matplotlib.legend.Legend at 0x7fe721bf8c10>"
            ]
          },
          "metadata": {
            "tags": []
          },
          "execution_count": 324
        },
        {
          "output_type": "display_data",
          "data": {
            "image/png": "[encoded data removed]",
            "text/plain": [
              "<Figure size 432x288 with 1 Axes>"
            ]
          },
          "metadata": {
            "tags": [],
            "needs_background": "light"
          }
        }
      ]
    },
    {
      "cell_type": "code",
      "metadata": {
        "id": "3lMBZEHNBlF2"
      },
      "source": [
        "foreground_classes = {'class_0','class_1', 'class_2'}\n",
        "\n",
        "background_classes = {'class_3','class_4', 'class_5', 'class_6','class_7', 'class_8', 'class_9'}"
      ],
      "execution_count": 325,
      "outputs": []
    },
    {
      "cell_type": "code",
      "metadata": {
        "colab": {
          "base_uri": "https://localhost:8080/"
        },
        "id": "blRbGZHeCwXU",
        "outputId": "a4dadee6-1264-4e20-8176-6a93db0e32d9"
      },
      "source": [
        "fg_class  = np.random.randint(0,3)\n",
        "fg_idx = np.random.randint(0,9)\n",
        "\n",
        "a = []\n",
        "for i in range(9):\n",
        "    if i == fg_idx:\n",
        "        b = np.random.choice(np.where(idx[fg_class]==True)[0],size=1)\n",
        "        a.append(x[b])\n",
        "        print(\"foreground \"+str(fg_class)+\" present at \" + str(fg_idx))\n",
        "    else:\n",
        "        bg_class = np.random.randint(3,10)\n",
        "        b = np.random.choice(np.where(idx[bg_class]==True)[0],size=1)\n",
        "        a.append(x[b])\n",
        "        print(\"background \"+str(bg_class)+\" present at \" + str(i))\n",
        "a = np.concatenate(a,axis=0)\n",
        "print(a.shape)\n",
        "\n",
        "print(fg_class , fg_idx)"
      ],
      "execution_count": 326,
      "outputs": [
        {
          "output_type": "stream",
          "text": [
            "background 5 present at 0\n",
            "background 6 present at 1\n",
            "foreground 2 present at 2\n",
            "background 5 present at 3\n",
            "background 3 present at 4\n",
            "background 5 present at 5\n",
            "background 7 present at 6\n",
            "background 6 present at 7\n",
            "background 5 present at 8\n",
            "(9, 2)\n",
            "2 2\n"
          ],
          "name": "stdout"
        }
      ]
    },
    {
      "cell_type": "code",
      "metadata": {
        "id": "Y43sWeX7C15F",
        "colab": {
          "base_uri": "https://localhost:8080/"
        },
        "outputId": "6a9ef7aa-ff44-4ac9-bca6-02686a267a33"
      },
      "source": [
        "a.shape"
      ],
      "execution_count": 327,
      "outputs": [
        {
          "output_type": "execute_result",
          "data": {
            "text/plain": [
              "(9, 2)"
            ]
          },
          "metadata": {
            "tags": []
          },
          "execution_count": 327
        }
      ]
    },
    {
      "cell_type": "code",
      "metadata": {
        "colab": {
          "base_uri": "https://localhost:8080/"
        },
        "id": "ooII7N6UDWe0",
        "outputId": "2f2bf9a8-10a4-44dc-ecfb-4a3cd08881aa"
      },
      "source": [
        "np.reshape(a,(18,1)) #not required"
      ],
      "execution_count": 328,
      "outputs": [
        {
          "output_type": "execute_result",
          "data": {
            "text/plain": [
              "array([[ 1.52560273],\n",
              "       [-0.1298488 ],\n",
              "       [-0.4226508 ],\n",
              "       [-1.2003313 ],\n",
              "       [-7.45778013],\n",
              "       [-4.61676213],\n",
              "       [ 2.09728368],\n",
              "       [-0.24465132],\n",
              "       [-0.98608769],\n",
              "       [-0.75123246],\n",
              "       [ 1.37297554],\n",
              "       [-0.37673308],\n",
              "       [-0.88469208],\n",
              "       [-0.11155199],\n",
              "       [ 0.32308641],\n",
              "       [-1.23774128],\n",
              "       [ 1.37297554],\n",
              "       [-0.37673308]])"
            ]
          },
          "metadata": {
            "tags": []
          },
          "execution_count": 328
        }
      ]
    },
    {
      "cell_type": "code",
      "metadata": {
        "id": "g21bvPRYDL9k",
        "colab": {
          "base_uri": "https://localhost:8080/",
          "height": 284
        },
        "outputId": "aeb49cd5-f18f-4e50-fbab-91eb9d331e22"
      },
      "source": [
        "a=np.reshape(a,(9,2))\n",
        "\n",
        "plt.imshow(a)"
      ],
      "execution_count": 329,
      "outputs": [
        {
          "output_type": "execute_result",
          "data": {
            "text/plain": [
              "<matplotlib.image.AxesImage at 0x7fe721926c50>"
            ]
          },
          "metadata": {
            "tags": []
          },
          "execution_count": 329
        },
        {
          "output_type": "display_data",
          "data": {
            "image/png": "[encoded data removed]",
            "text/plain": [
              "<Figure size 432x288 with 1 Axes>"
            ]
          },
          "metadata": {
            "tags": [],
            "needs_background": "light"
          }
        }
      ]
    },
    {
      "cell_type": "code",
      "metadata": {
        "id": "OplNpNQVr0S2"
      },
      "source": [
        "desired_num = 2000\n",
        "mosaic_list_of_images =[]\n",
        "mosaic_label = []\n",
        "fore_idx=[]\n",
        "for j in range(desired_num):\n",
        "    np.random.seed(j)\n",
        "    fg_class  = np.random.randint(0,3)\n",
        "    fg_idx = np.random.randint(0,9)\n",
        "    a = []\n",
        "    for i in range(9):\n",
        "        if i == fg_idx:\n",
        "            b = np.random.choice(np.where(idx[fg_class]==True)[0],size=1)\n",
        "            a.append(x[b])\n",
        "#             print(\"foreground \"+str(fg_class)+\" present at \" + str(fg_idx))\n",
        "        else:\n",
        "            bg_class = np.random.randint(3,10)\n",
        "            b = np.random.choice(np.where(idx[bg_class]==True)[0],size=1)\n",
        "            a.append(x[b])\n",
        "#             print(\"background \"+str(bg_class)+\" present at \" + str(i))\n",
        "    a = np.concatenate(a,axis=0)\n",
        "    mosaic_list_of_images.append(a)\n",
        "    mosaic_label.append(fg_class)\n",
        "    fore_idx.append(fg_idx)"
      ],
      "execution_count": 330,
      "outputs": []
    },
    {
      "cell_type": "code",
      "metadata": {
        "id": "dwZVmmRBr0S8"
      },
      "source": [
        "# mosaic_list_of_images = np.concatenate(mosaic_list_of_images,axis=1).T\n"
      ],
      "execution_count": 331,
      "outputs": []
    },
    {
      "cell_type": "code",
      "metadata": {
        "colab": {
          "base_uri": "https://localhost:8080/"
        },
        "id": "OoxzYI-ur0S_",
        "outputId": "33d23ce0-2387-4a89-e30e-78af88709262"
      },
      "source": [
        "len(mosaic_list_of_images), mosaic_list_of_images[0]"
      ],
      "execution_count": 332,
      "outputs": [
        {
          "output_type": "execute_result",
          "data": {
            "text/plain": [
              "(2000, array([[-1.62022144,  0.11407722],\n",
              "        [ 0.50044544,  1.71315143],\n",
              "        [-0.72603666, -0.68240088],\n",
              "        [ 0.34070696,  0.0288995 ],\n",
              "        [ 0.71631136, -0.14262169],\n",
              "        [ 8.2380912 ,  5.87796794],\n",
              "        [ 1.24086849, -0.14745404],\n",
              "        [ 0.70237352,  0.29618561],\n",
              "        [ 0.22554429,  0.19892312]]))"
            ]
          },
          "metadata": {
            "tags": []
          },
          "execution_count": 332
        }
      ]
    },
    {
      "cell_type": "code",
      "metadata": {
        "colab": {
          "base_uri": "https://localhost:8080/"
        },
        "id": "Nbefu9LEnMu1",
        "outputId": "481ac2b4-d1cf-4afc-cf8d-456e602f9c59"
      },
      "source": [
        "mosaic_list_of_images_reshaped = np.reshape(mosaic_list_of_images, (2000,9,2))\n",
        "mean_train = np.mean(mosaic_list_of_images_reshaped[0:1000], axis=0, keepdims= True)\n",
        "print(mean_train.shape, mean_train)\n",
        "std_train = np.std(mosaic_list_of_images_reshaped[0:1000], axis=0, keepdims= True)\n",
        "print(std_train.shape, std_train)\n",
        "\n"
      ],
      "execution_count": 333,
      "outputs": [
        {
          "output_type": "stream",
          "text": [
            "(1, 9, 2) [[[-0.21714132  0.38784747]\n",
            "  [-0.43297971  0.34268211]\n",
            "  [-0.44639009  0.31885823]\n",
            "  [-0.30613259  0.35396955]\n",
            "  [-0.24261994  0.4227199 ]\n",
            "  [-0.42979963  0.41713374]\n",
            "  [-0.25441208  0.37832645]\n",
            "  [-0.44982316  0.22962084]\n",
            "  [-0.30827427  0.29867745]]]\n",
            "(1, 9, 2) [[[2.93462304 2.22797009]\n",
            "  [2.88047329 2.21817614]\n",
            "  [2.90549127 2.23852991]\n",
            "  [2.94868277 2.27311622]\n",
            "  [2.83149681 2.19451747]\n",
            "  [2.86263234 2.26585386]\n",
            "  [2.8419391  2.20592702]\n",
            "  [2.80058063 2.18972076]\n",
            "  [2.78333746 2.14393697]]]\n"
          ],
          "name": "stdout"
        }
      ]
    },
    {
      "cell_type": "code",
      "metadata": {
        "id": "yldL3sUvnMsE"
      },
      "source": [
        "mosaic_list_of_images = ( mosaic_list_of_images_reshaped - mean_train ) / std_train"
      ],
      "execution_count": 334,
      "outputs": []
    },
    {
      "cell_type": "code",
      "metadata": {
        "colab": {
          "base_uri": "https://localhost:8080/"
        },
        "id": "qWboEmnwnX_r",
        "outputId": "34cf0f64-103e-4277-d185-c007cd898739"
      },
      "source": [
        "print(np.mean(mosaic_list_of_images[0:1000], axis=0, keepdims= True))\n",
        "\n",
        "print(np.std(mosaic_list_of_images[0:1000], axis=0, keepdims= True))"
      ],
      "execution_count": 335,
      "outputs": [
        {
          "output_type": "stream",
          "text": [
            "[[[-7.34134975e-18  8.32667268e-18]\n",
            "  [ 6.76680934e-17  2.45914400e-16]\n",
            "  [ 1.49824597e-16  4.11892742e-17]\n",
            "  [-1.07025500e-16  1.61731739e-16]\n",
            "  [ 1.11577414e-17  1.44551038e-16]\n",
            "  [-3.14415161e-16 -2.14495088e-16]\n",
            "  [ 2.29316566e-16  1.64424030e-16]\n",
            "  [-1.17794663e-16 -6.52533583e-17]\n",
            "  [-8.82072193e-17  1.02667874e-16]]]\n",
            "[[[1. 1.]\n",
            "  [1. 1.]\n",
            "  [1. 1.]\n",
            "  [1. 1.]\n",
            "  [1. 1.]\n",
            "  [1. 1.]\n",
            "  [1. 1.]\n",
            "  [1. 1.]\n",
            "  [1. 1.]]]\n"
          ],
          "name": "stdout"
        }
      ]
    },
    {
      "cell_type": "code",
      "metadata": {
        "colab": {
          "base_uri": "https://localhost:8080/"
        },
        "id": "88zCElC_naib",
        "outputId": "97e924f2-9193-45b3-98bd-95400874758c"
      },
      "source": [
        "print(np.mean(mosaic_list_of_images[1000:2000], axis=0, keepdims= True))\n",
        "\n",
        "print(np.std(mosaic_list_of_images[1000:2000], axis=0, keepdims= True))"
      ],
      "execution_count": 336,
      "outputs": [
        {
          "output_type": "stream",
          "text": [
            "[[[ 0.00294388 -0.00621726]\n",
            "  [ 0.00556068  0.01524104]\n",
            "  [ 0.05149839  0.01578047]\n",
            "  [ 0.03344327 -0.00071585]\n",
            "  [-0.02037319 -0.10122538]\n",
            "  [ 0.00126667 -0.05427176]\n",
            "  [-0.029165   -0.01879717]\n",
            "  [ 0.09588911 -0.00228841]\n",
            "  [-0.00624885  0.01613987]]]\n",
            "[[[0.99688735 0.99272447]\n",
            "  [1.03629691 1.03710502]\n",
            "  [1.00204592 0.99531625]\n",
            "  [1.00549132 0.9912515 ]\n",
            "  [0.94366752 0.91843211]\n",
            "  [1.0001332  0.96506657]\n",
            "  [1.03609342 1.01570984]\n",
            "  [0.96575394 0.94100913]\n",
            "  [0.99168852 1.00538574]]]\n"
          ],
          "name": "stdout"
        }
      ]
    },
    {
      "cell_type": "code",
      "metadata": {
        "colab": {
          "base_uri": "https://localhost:8080/"
        },
        "id": "3DE8AXVAngEj",
        "outputId": "d7883363-4343-49b6-8d35-6457ef3d348d"
      },
      "source": [
        "mosaic_list_of_images.shape"
      ],
      "execution_count": 337,
      "outputs": [
        {
          "output_type": "execute_result",
          "data": {
            "text/plain": [
              "(2000, 9, 2)"
            ]
          },
          "metadata": {
            "tags": []
          },
          "execution_count": 337
        }
      ]
    },
    {
      "cell_type": "code",
      "metadata": {
        "id": "iPoIwbMHx44n"
      },
      "source": [
        "class MosaicDataset(Dataset):\n",
        "  \"\"\"MosaicDataset dataset.\"\"\"\n",
        "\n",
        "  def __init__(self, mosaic_list_of_images, mosaic_label, fore_idx):\n",
        "    \"\"\"\n",
        "      Args:\n",
        "        csv_file (string): Path to the csv file with annotations.\n",
        "        root_dir (string): Directory with all the images.\n",
        "        transform (callable, optional): Optional transform to be applied\n",
        "            on a sample.\n",
        "    \"\"\"\n",
        "    self.mosaic = mosaic_list_of_images\n",
        "    self.label = mosaic_label\n",
        "    self.fore_idx = fore_idx\n",
        "\n",
        "  def __len__(self):\n",
        "    return len(self.label)\n",
        "\n",
        "  def __getitem__(self, idx):\n",
        "    return self.mosaic[idx] , self.label[idx], self.fore_idx[idx]\n",
        "\n"
      ],
      "execution_count": 338,
      "outputs": []
    },
    {
      "cell_type": "code",
      "metadata": {
        "id": "fOPAJQJeW8Ah"
      },
      "source": [
        "batch = 250\n",
        "msd1 = MosaicDataset(mosaic_list_of_images[0:1000], mosaic_label[0:1000] , fore_idx[0:1000])\n",
        "train_loader = DataLoader( msd1 ,batch_size= batch ,shuffle=True)"
      ],
      "execution_count": 339,
      "outputs": []
    },
    {
      "cell_type": "code",
      "metadata": {
        "id": "qjNiQgxZW8bA"
      },
      "source": [
        "batch = 250\n",
        "msd2 = MosaicDataset(mosaic_list_of_images[1000:2000], mosaic_label[1000:2000] , fore_idx[1000:2000])\n",
        "test_loader = DataLoader( msd2 ,batch_size= batch ,shuffle=True)"
      ],
      "execution_count": 340,
      "outputs": []
    },
    {
      "cell_type": "code",
      "metadata": {
        "id": "30ZAjix3x8CM"
      },
      "source": [
        "class Focus(nn.Module):\n",
        "  def __init__(self):\n",
        "    super(Focus, self).__init__()\n",
        "\n",
        "    self.fc1 = nn.Linear(2, 50, bias=False)\n",
        "    self.fc2 = nn.Linear(50, 10, bias=False)\n",
        "    self.fc3 = nn.Linear(10, 1, bias=False)\n",
        "    torch.nn.init.xavier_normal_(self.fc1.weight)\n",
        "    torch.nn.init.xavier_normal_(self.fc2.weight)\n",
        "    torch.nn.init.xavier_normal_(self.fc3.weight)\n",
        "\n",
        "  def forward(self,z):  #y is avg image #z batch of list of 9 images\n",
        "    y = torch.zeros([batch,2], dtype=torch.float64)\n",
        "    x = torch.zeros([batch,9],dtype=torch.float64)\n",
        "    y = y.to(\"cuda\")\n",
        "    x = x.to(\"cuda\")\n",
        "    # print(x.shape, z.shape)\n",
        "    for i in range(9):\n",
        "      # print(z[:,i].shape)\n",
        "      # print(self.helper(z[:,i])[:,0].shape)\n",
        "      x[:,i] = self.helper(z[:,i])[:,0]\n",
        "    # print(x.shape, z.shape)\n",
        "    x = F.softmax(x,dim=1)\n",
        "    # print(x.shape, z.shape)\n",
        "    # x1 = x[:,0]\n",
        "    # print(torch.mul(x[:,0],z[:,0]).shape)\n",
        "\n",
        "    for i in range(9):            \n",
        "      # x1 = x[:,i]          \n",
        "      y = y + torch.mul(x[:,i,None],z[:,i])\n",
        "\n",
        "    # print(x.shape, y.shape)\n",
        "    return x, y\n",
        "    \n",
        "  def helper(self, x):\n",
        "    x = x.view(-1, 2)\n",
        "    x = F.relu(self.fc1(x))\n",
        "    x = F.relu(self.fc2(x))\n",
        "    x = (self.fc3(x))\n",
        "\n",
        "    return x"
      ],
      "execution_count": 341,
      "outputs": []
    },
    {
      "cell_type": "code",
      "metadata": {
        "id": "0dYXnywAD-4l"
      },
      "source": [
        "class Classification(nn.Module):\n",
        "  def __init__(self):\n",
        "    super(Classification, self).__init__()\n",
        "    self.fc1 = nn.Linear(2, 50)\n",
        "    self.fc2 = nn.Linear(50, 10)\n",
        "    self.fc3 = nn.Linear(10, 3)\n",
        "    torch.nn.init.xavier_normal_(self.fc1.weight)\n",
        "    torch.nn.init.zeros_(self.fc1.bias)\n",
        "    torch.nn.init.xavier_normal_(self.fc2.weight)\n",
        "    torch.nn.init.zeros_(self.fc2.bias)\n",
        "    torch.nn.init.xavier_normal_(self.fc3.weight)\n",
        "    torch.nn.init.zeros_(self.fc3.bias)\n",
        "\n",
        "\n",
        "  def forward(self, x):\n",
        "    x = x.view(-1, 2)\n",
        "    x = F.relu(self.fc1(x))\n",
        "    x = F.relu(self.fc2(x))\n",
        "    x = (self.fc3(x))\n",
        "    return x"
      ],
      "execution_count": 342,
      "outputs": []
    },
    {
      "cell_type": "code",
      "metadata": {
        "id": "lSa6O9f6XNf4"
      },
      "source": [
        "torch.manual_seed(12)\n",
        "focus_net = Focus().double()\n",
        "focus_net = focus_net.to(\"cuda\")"
      ],
      "execution_count": 343,
      "outputs": []
    },
    {
      "cell_type": "code",
      "metadata": {
        "id": "36k3H2G-XO9A"
      },
      "source": [
        "torch.manual_seed(12)\n",
        "classify = Classification().double()\n",
        "classify = classify.to(\"cuda\")"
      ],
      "execution_count": 344,
      "outputs": []
    },
    {
      "cell_type": "code",
      "metadata": {
        "colab": {
          "base_uri": "https://localhost:8080/"
        },
        "id": "SWwehLBVqjf8",
        "outputId": "0629baf8-96a1-4dde-eb6d-4bc3f705e793"
      },
      "source": [
        "focus_net.fc2.weight.shape,focus_net.fc3.weight.shape"
      ],
      "execution_count": 345,
      "outputs": [
        {
          "output_type": "execute_result",
          "data": {
            "text/plain": [
              "(torch.Size([10, 50]), torch.Size([1, 10]))"
            ]
          },
          "metadata": {
            "tags": []
          },
          "execution_count": 345
        }
      ]
    },
    {
      "cell_type": "code",
      "metadata": {
        "colab": {
          "base_uri": "https://localhost:8080/"
        },
        "id": "FEauuTrOqmGp",
        "outputId": "f167b4ad-211e-42ce-97c8-4b8244bcd260"
      },
      "source": [
        "focus_net.fc2.weight.data[5:,:] = focus_net.fc2.weight.data[:5,:] #torch.nn.Parameter(torch.tensor([last_layer]) )\n",
        "focus_net.fc2.weight[:5,:], focus_net.fc2.weight[5:,:] "
      ],
      "execution_count": 346,
      "outputs": [
        {
          "output_type": "execute_result",
          "data": {
            "text/plain": [
              "(tensor([[-0.0763,  0.0132, -0.1227,  0.2448,  0.0136, -0.0487, -0.1882,  0.0876,\n",
              "           0.1659,  0.0856,  0.1779,  0.3298,  0.0887,  0.3872, -0.2173,  0.2168,\n",
              "           0.0783, -0.1261, -0.0764,  0.3249, -0.1999, -0.0140, -0.1793,  0.0633,\n",
              "          -0.2684,  0.1349, -0.2653, -0.1134,  0.1838, -0.0892,  0.1525, -0.1057,\n",
              "          -0.0990, -0.0077, -0.0525, -0.0534, -0.1624,  0.0694, -0.2615, -0.0667,\n",
              "           0.0815,  0.4189, -0.1598, -0.0236, -0.0663,  0.0154,  0.1333,  0.2649,\n",
              "           0.1634,  0.2552],\n",
              "         [-0.4056,  0.0755, -0.1859, -0.0354, -0.1684, -0.0200, -0.2163,  0.2237,\n",
              "           0.0981, -0.0859, -0.1096,  0.0791, -0.2052, -0.2820, -0.1441, -0.0497,\n",
              "           0.1114,  0.3464, -0.0281, -0.2101,  0.0642, -0.0475, -0.3500, -0.0388,\n",
              "           0.1481,  0.1041,  0.0558, -0.3711, -0.0478,  0.2248,  0.0255,  0.1203,\n",
              "           0.0967, -0.1136, -0.2587,  0.2233, -0.0160,  0.1349,  0.1989, -0.2758,\n",
              "          -0.1123,  0.0931, -0.0575, -0.0828,  0.2524, -0.1149, -0.0566,  0.1111,\n",
              "           0.0685, -0.0065],\n",
              "         [ 0.1091,  0.0417, -0.0694, -0.2976, -0.0265,  0.1831,  0.2966,  0.1349,\n",
              "           0.1786, -0.1312,  0.1446, -0.2316, -0.0199, -0.0781,  0.0792,  0.0629,\n",
              "           0.0736,  0.2197, -0.1694, -0.0978, -0.0942,  0.0640,  0.1799,  0.0495,\n",
              "           0.3483, -0.2643,  0.0919, -0.1637,  0.0492,  0.1445,  0.0263, -0.0447,\n",
              "           0.1301,  0.2495,  0.1423, -0.1674, -0.2786, -0.2013,  0.0160,  0.3034,\n",
              "          -0.1267, -0.1498, -0.1753,  0.0573,  0.1035, -0.2375, -0.1292,  0.0595,\n",
              "          -0.2166,  0.0211],\n",
              "         [-0.2312, -0.1164, -0.2560, -0.0886, -0.2474,  0.0891, -0.1076, -0.2193,\n",
              "           0.0762, -0.2020, -0.0789, -0.0549, -0.1837, -0.1156, -0.0132, -0.2952,\n",
              "           0.2050,  0.5399,  0.0764, -0.1084,  0.1171,  0.3685,  0.1433, -0.0428,\n",
              "          -0.3675,  0.1724,  0.0684, -0.2218,  0.0645, -0.1736, -0.2278,  0.1142,\n",
              "           0.2070,  0.0545, -0.1782, -0.0776, -0.1571,  0.0699,  0.1024,  0.4644,\n",
              "          -0.2043,  0.2036, -0.1708, -0.0280,  0.0850,  0.2511, -0.0630,  0.1023,\n",
              "          -0.0996, -0.1564],\n",
              "         [-0.2191,  0.1422, -0.1139,  0.1335,  0.2386,  0.2592, -0.1407, -0.2389,\n",
              "          -0.0678,  0.1425,  0.1440,  0.0379,  0.1629,  0.2089, -0.0586, -0.0600,\n",
              "           0.2269, -0.1127,  0.1253, -0.2588,  0.0539,  0.0196,  0.0839,  0.0079,\n",
              "          -0.2208,  0.2555,  0.3884, -0.3805,  0.0746,  0.1456, -0.3297, -0.1060,\n",
              "           0.0422,  0.0710,  0.0992,  0.1431,  0.6623,  0.2000,  0.0478, -0.1368,\n",
              "           0.2620, -0.1792, -0.1971,  0.0660,  0.1914,  0.1435, -0.0923,  0.0295,\n",
              "          -0.2049, -0.1789]], device='cuda:0', dtype=torch.float64,\n",
              "        grad_fn=<SliceBackward>),\n",
              " tensor([[-0.0763,  0.0132, -0.1227,  0.2448,  0.0136, -0.0487, -0.1882,  0.0876,\n",
              "           0.1659,  0.0856,  0.1779,  0.3298,  0.0887,  0.3872, -0.2173,  0.2168,\n",
              "           0.0783, -0.1261, -0.0764,  0.3249, -0.1999, -0.0140, -0.1793,  0.0633,\n",
              "          -0.2684,  0.1349, -0.2653, -0.1134,  0.1838, -0.0892,  0.1525, -0.1057,\n",
              "          -0.0990, -0.0077, -0.0525, -0.0534, -0.1624,  0.0694, -0.2615, -0.0667,\n",
              "           0.0815,  0.4189, -0.1598, -0.0236, -0.0663,  0.0154,  0.1333,  0.2649,\n",
              "           0.1634,  0.2552],\n",
              "         [-0.4056,  0.0755, -0.1859, -0.0354, -0.1684, -0.0200, -0.2163,  0.2237,\n",
              "           0.0981, -0.0859, -0.1096,  0.0791, -0.2052, -0.2820, -0.1441, -0.0497,\n",
              "           0.1114,  0.3464, -0.0281, -0.2101,  0.0642, -0.0475, -0.3500, -0.0388,\n",
              "           0.1481,  0.1041,  0.0558, -0.3711, -0.0478,  0.2248,  0.0255,  0.1203,\n",
              "           0.0967, -0.1136, -0.2587,  0.2233, -0.0160,  0.1349,  0.1989, -0.2758,\n",
              "          -0.1123,  0.0931, -0.0575, -0.0828,  0.2524, -0.1149, -0.0566,  0.1111,\n",
              "           0.0685, -0.0065],\n",
              "         [ 0.1091,  0.0417, -0.0694, -0.2976, -0.0265,  0.1831,  0.2966,  0.1349,\n",
              "           0.1786, -0.1312,  0.1446, -0.2316, -0.0199, -0.0781,  0.0792,  0.0629,\n",
              "           0.0736,  0.2197, -0.1694, -0.0978, -0.0942,  0.0640,  0.1799,  0.0495,\n",
              "           0.3483, -0.2643,  0.0919, -0.1637,  0.0492,  0.1445,  0.0263, -0.0447,\n",
              "           0.1301,  0.2495,  0.1423, -0.1674, -0.2786, -0.2013,  0.0160,  0.3034,\n",
              "          -0.1267, -0.1498, -0.1753,  0.0573,  0.1035, -0.2375, -0.1292,  0.0595,\n",
              "          -0.2166,  0.0211],\n",
              "         [-0.2312, -0.1164, -0.2560, -0.0886, -0.2474,  0.0891, -0.1076, -0.2193,\n",
              "           0.0762, -0.2020, -0.0789, -0.0549, -0.1837, -0.1156, -0.0132, -0.2952,\n",
              "           0.2050,  0.5399,  0.0764, -0.1084,  0.1171,  0.3685,  0.1433, -0.0428,\n",
              "          -0.3675,  0.1724,  0.0684, -0.2218,  0.0645, -0.1736, -0.2278,  0.1142,\n",
              "           0.2070,  0.0545, -0.1782, -0.0776, -0.1571,  0.0699,  0.1024,  0.4644,\n",
              "          -0.2043,  0.2036, -0.1708, -0.0280,  0.0850,  0.2511, -0.0630,  0.1023,\n",
              "          -0.0996, -0.1564],\n",
              "         [-0.2191,  0.1422, -0.1139,  0.1335,  0.2386,  0.2592, -0.1407, -0.2389,\n",
              "          -0.0678,  0.1425,  0.1440,  0.0379,  0.1629,  0.2089, -0.0586, -0.0600,\n",
              "           0.2269, -0.1127,  0.1253, -0.2588,  0.0539,  0.0196,  0.0839,  0.0079,\n",
              "          -0.2208,  0.2555,  0.3884, -0.3805,  0.0746,  0.1456, -0.3297, -0.1060,\n",
              "           0.0422,  0.0710,  0.0992,  0.1431,  0.6623,  0.2000,  0.0478, -0.1368,\n",
              "           0.2620, -0.1792, -0.1971,  0.0660,  0.1914,  0.1435, -0.0923,  0.0295,\n",
              "          -0.2049, -0.1789]], device='cuda:0', dtype=torch.float64,\n",
              "        grad_fn=<SliceBackward>))"
            ]
          },
          "metadata": {
            "tags": []
          },
          "execution_count": 346
        }
      ]
    },
    {
      "cell_type": "code",
      "metadata": {
        "colab": {
          "base_uri": "https://localhost:8080/"
        },
        "id": "0frIhgcSql1B",
        "outputId": "66fef5f6-2d1f-46b3-d78f-d404fa1d41fd"
      },
      "source": [
        "focus_net.fc3.weight.data[:,5:] = -focus_net.fc3.weight.data[:,:5] #torch.nn.Parameter(torch.tensor([last_layer]) )\n",
        "focus_net.fc3.weight"
      ],
      "execution_count": 347,
      "outputs": [
        {
          "output_type": "execute_result",
          "data": {
            "text/plain": [
              "Parameter containing:\n",
              "tensor([[-0.4898,  0.1933, -0.2547, -0.1798, -0.2616,  0.4898, -0.1933,  0.2547,\n",
              "          0.1798,  0.2616]], device='cuda:0', dtype=torch.float64,\n",
              "       requires_grad=True)"
            ]
          },
          "metadata": {
            "tags": []
          },
          "execution_count": 347
        }
      ]
    },
    {
      "cell_type": "code",
      "metadata": {
        "id": "8EYPDrDGqr-y"
      },
      "source": [
        "focus_net = focus_net.double().to(\"cuda\")"
      ],
      "execution_count": 348,
      "outputs": []
    },
    {
      "cell_type": "code",
      "metadata": {
        "colab": {
          "base_uri": "https://localhost:8080/"
        },
        "id": "hOJ8NP14n6Eb",
        "outputId": "c06b180e-5328-45c7-83f0-80d386c34076"
      },
      "source": [
        "focus_net.helper( torch.randn((1,9,2)).double().to(\"cuda\") )"
      ],
      "execution_count": 349,
      "outputs": [
        {
          "output_type": "execute_result",
          "data": {
            "text/plain": [
              "tensor([[0.0000e+00],\n",
              "        [0.0000e+00],\n",
              "        [0.0000e+00],\n",
              "        [8.6736e-18],\n",
              "        [0.0000e+00],\n",
              "        [1.7347e-18],\n",
              "        [0.0000e+00],\n",
              "        [0.0000e+00],\n",
              "        [2.0817e-17]], device='cuda:0', dtype=torch.float64,\n",
              "       grad_fn=<MmBackward>)"
            ]
          },
          "metadata": {
            "tags": []
          },
          "execution_count": 349
        }
      ]
    },
    {
      "cell_type": "code",
      "metadata": {
        "colab": {
          "base_uri": "https://localhost:8080/"
        },
        "id": "estYkNt8oKhL",
        "outputId": "c318067d-c4fd-4202-e39c-479b47945b7d"
      },
      "source": [
        "focus_net.fc1.weight"
      ],
      "execution_count": 350,
      "outputs": [
        {
          "output_type": "execute_result",
          "data": {
            "text/plain": [
              "Parameter containing:\n",
              "tensor([[ 0.0083, -0.2445],\n",
              "        [ 0.1332,  0.0802],\n",
              "        [ 0.1737,  0.3714],\n",
              "        [ 0.3591,  0.4165],\n",
              "        [-0.1227, -0.2131],\n",
              "        [-0.2118, -0.3591],\n",
              "        [ 0.0649,  0.0291],\n",
              "        [-0.1700,  0.4524],\n",
              "        [ 0.1073,  0.1546],\n",
              "        [-0.0755, -0.1721],\n",
              "        [-0.0719,  0.0759],\n",
              "        [ 0.0165, -0.3907],\n",
              "        [ 0.1875, -0.1575],\n",
              "        [-0.2269,  0.0497],\n",
              "        [ 0.0298,  0.0528],\n",
              "        [-0.1749,  0.0342],\n",
              "        [ 0.1303,  0.0789],\n",
              "        [ 0.1228, -0.1428],\n",
              "        [ 0.0864, -0.2877],\n",
              "        [ 0.4234, -0.0417],\n",
              "        [ 0.2168, -0.4608],\n",
              "        [-0.1639,  0.0735],\n",
              "        [-0.0553,  0.0390],\n",
              "        [ 0.1689, -0.1499],\n",
              "        [ 0.2123,  0.1888],\n",
              "        [ 0.2409, -0.0100],\n",
              "        [-0.2100,  0.1096],\n",
              "        [-0.2697, -0.0508],\n",
              "        [ 0.0882,  0.1932],\n",
              "        [ 0.1018, -0.0531],\n",
              "        [ 0.0788,  0.0289],\n",
              "        [-0.1424, -0.2366],\n",
              "        [-0.1353, -0.1328],\n",
              "        [ 0.2861, -0.0959],\n",
              "        [-0.0158, -0.1987],\n",
              "        [-0.0296, -0.0995],\n",
              "        [-0.1291, -0.1520],\n",
              "        [-0.0529,  0.2451],\n",
              "        [ 0.1563,  0.2044],\n",
              "        [ 0.2117, -0.0437],\n",
              "        [ 0.1460,  0.1351],\n",
              "        [-0.1584, -0.0613],\n",
              "        [-0.0090,  0.0823],\n",
              "        [-0.0520, -0.2655],\n",
              "        [ 0.1826, -0.0446],\n",
              "        [ 0.0966, -0.0908],\n",
              "        [-0.3714,  0.0571],\n",
              "        [ 0.3428,  0.0068],\n",
              "        [ 0.0859,  0.1727],\n",
              "        [ 0.0149,  0.0172]], device='cuda:0', dtype=torch.float64,\n",
              "       requires_grad=True)"
            ]
          },
          "metadata": {
            "tags": []
          },
          "execution_count": 350
        }
      ]
    },
    {
      "cell_type": "code",
      "metadata": {
        "colab": {
          "base_uri": "https://localhost:8080/"
        },
        "id": "TNA0bvAeoEpU",
        "outputId": "a350523e-6e5f-4ffe-a77b-10deb63b1930"
      },
      "source": [
        "classify.fc1.weight, classify.fc1.bias, classify.fc1.weight.shape"
      ],
      "execution_count": 351,
      "outputs": [
        {
          "output_type": "execute_result",
          "data": {
            "text/plain": [
              "(Parameter containing:\n",
              " tensor([[-0.0613,  0.2164],\n",
              "         [-0.0953,  0.1494],\n",
              "         [-0.1151, -0.0352],\n",
              "         [ 0.0861,  0.1468],\n",
              "         [ 0.1764,  0.0064],\n",
              "         [ 0.3295, -0.0229],\n",
              "         [ 0.1412,  0.0129],\n",
              "         [ 0.0870, -0.1923],\n",
              "         [ 0.1262, -0.0090],\n",
              "         [ 0.0823, -0.0520],\n",
              "         [-0.2655,  0.1826],\n",
              "         [-0.0446,  0.0966],\n",
              "         [ 0.0981, -0.3714],\n",
              "         [ 0.0571,  0.3428],\n",
              "         [ 0.0068,  0.0859],\n",
              "         [ 0.1727,  0.0149],\n",
              "         [-0.2057, -0.0820],\n",
              "         [ 0.0142, -0.1318],\n",
              "         [ 0.2629,  0.0146],\n",
              "         [-0.0523, -0.2022],\n",
              "         [-0.0810,  0.1783],\n",
              "         [ 0.0920,  0.1911],\n",
              "         [ 0.3542,  0.0953],\n",
              "         [ 0.4159, -0.2334],\n",
              "         [ 0.0363,  0.0841],\n",
              "         [-0.1354, -0.0821],\n",
              "         [ 0.3490, -0.2147],\n",
              "         [-0.0150, -0.1926],\n",
              "         [ 0.1216, -0.2883],\n",
              "         [ 0.1449, -0.2849],\n",
              "         [-0.1218,  0.1974],\n",
              "         [-0.0958,  0.1638],\n",
              "         [-0.1725, -0.1064],\n",
              "         [-0.0082, -0.0564],\n",
              "         [-0.0573, -0.1745],\n",
              "         [ 0.0746, -0.2809],\n",
              "         [-0.3306,  0.0876],\n",
              "         [ 0.4500, -0.1716],\n",
              "         [-0.0253, -0.0712],\n",
              "         [ 0.0165,  0.1432],\n",
              "         [-0.0515,  0.1756],\n",
              "         [ 0.2741, -0.4357],\n",
              "         [ 0.3721, -0.0302],\n",
              "         [-0.2256,  0.0690],\n",
              "         [-0.0510, -0.2862],\n",
              "         [-0.0119, -0.0211],\n",
              "         [ 0.1118,  0.0599],\n",
              "         [-0.3986, -0.0513],\n",
              "         [ 0.2415,  0.0874],\n",
              "         [-0.2672,  0.1087]], device='cuda:0', dtype=torch.float64,\n",
              "        requires_grad=True), Parameter containing:\n",
              " tensor([0., 0., 0., 0., 0., 0., 0., 0., 0., 0., 0., 0., 0., 0., 0., 0., 0., 0., 0., 0., 0., 0., 0., 0.,\n",
              "         0., 0., 0., 0., 0., 0., 0., 0., 0., 0., 0., 0., 0., 0., 0., 0., 0., 0., 0., 0., 0., 0., 0., 0.,\n",
              "         0., 0.], device='cuda:0', dtype=torch.float64, requires_grad=True), torch.Size([50, 2]))"
            ]
          },
          "metadata": {
            "tags": []
          },
          "execution_count": 351
        }
      ]
    },
    {
      "cell_type": "code",
      "metadata": {
        "id": "7MHBbL7FXRQk"
      },
      "source": [
        "import torch.optim as optim\n",
        "criterion = nn.CrossEntropyLoss()\n",
        "optimizer_classify = optim.Adam(classify.parameters(), lr=0.01 ) #, momentum=0.9)\n",
        "optimizer_focus = optim.Adam(focus_net.parameters(), lr=0.01 ) #, momentum=0.9)"
      ],
      "execution_count": 352,
      "outputs": []
    },
    {
      "cell_type": "code",
      "metadata": {
        "id": "pjD2VZuV9Ed4"
      },
      "source": [
        "col1=[]\n",
        "col2=[]\n",
        "col3=[]\n",
        "col4=[]\n",
        "col5=[]\n",
        "col6=[]\n",
        "col7=[]\n",
        "col8=[]\n",
        "col9=[]\n",
        "col10=[]\n",
        "col11=[]\n",
        "col12=[]\n",
        "col13=[]"
      ],
      "execution_count": 353,
      "outputs": []
    },
    {
      "cell_type": "code",
      "metadata": {
        "id": "uALi25pmzQHV",
        "colab": {
          "base_uri": "https://localhost:8080/"
        },
        "outputId": "3a95c151-3344-44a6-a72e-c82125159a7d"
      },
      "source": [
        "correct = 0\n",
        "total = 0\n",
        "count = 0\n",
        "flag = 1\n",
        "focus_true_pred_true =0\n",
        "focus_false_pred_true =0\n",
        "focus_true_pred_false =0\n",
        "focus_false_pred_false =0\n",
        "\n",
        "argmax_more_than_half = 0\n",
        "argmax_less_than_half =0\n",
        "\n",
        "with torch.no_grad():\n",
        "  for data in train_loader:\n",
        "    inputs, labels , fore_idx = data\n",
        "    inputs = inputs.double()\n",
        "    inputs, labels , fore_idx = inputs.to(\"cuda\"),labels.to(\"cuda\"), fore_idx.to(\"cuda\")\n",
        "    alphas, avg_images = focus_net(inputs)\n",
        "    outputs = classify(avg_images)\n",
        "    # print(outputs.shape)\n",
        "    _, predicted = torch.max(outputs.data, 1)\n",
        "    # print(predicted.shape)\n",
        "\n",
        "    for j in range(labels.size(0)):\n",
        "      count += 1\n",
        "      focus = torch.argmax(alphas[j])\n",
        "      if alphas[j][focus] >= 0.5 :\n",
        "        argmax_more_than_half += 1\n",
        "      else:\n",
        "        argmax_less_than_half += 1\n",
        "\n",
        "      # print(focus, fore_idx[j], predicted[j])\n",
        "      if(focus == fore_idx[j] and predicted[j] == labels[j]):\n",
        "          focus_true_pred_true += 1\n",
        "      elif(focus != fore_idx[j] and predicted[j] == labels[j]):\n",
        "        focus_false_pred_true += 1\n",
        "      elif(focus == fore_idx[j] and predicted[j] != labels[j]):\n",
        "        focus_true_pred_false += 1\n",
        "      elif(focus != fore_idx[j] and predicted[j] != labels[j]):\n",
        "        focus_false_pred_false += 1\n",
        "\n",
        "    total += labels.size(0)\n",
        "    correct += (predicted == labels).sum().item()\n",
        "\n",
        "print('Accuracy of the network on the 1000 train images: %d %%' % ( 100 * correct / total))\n",
        "print(\"total correct\", correct)\n",
        "print(\"total train set images\", total)\n",
        "\n",
        "print(\"focus_true_pred_true %d =============> FTPT : %d %%\" % (focus_true_pred_true , (100 * focus_true_pred_true / total) ) )\n",
        "print(\"focus_false_pred_true %d =============> FFPT : %d %%\" % (focus_false_pred_true, (100 * focus_false_pred_true / total) ) )\n",
        "print(\"focus_true_pred_false %d =============> FTPF : %d %%\" %( focus_true_pred_false , ( 100 * focus_true_pred_false / total) ) )\n",
        "print(\"focus_false_pred_false %d =============> FFPF : %d %%\" % (focus_false_pred_false, ( 100 * focus_false_pred_false / total) ) )\n",
        "\n",
        "print(\"argmax_more_than_half ==================> \",argmax_more_than_half)\n",
        "print(\"argmax_less_than_half ==================> \",argmax_less_than_half)\n",
        "print(count)\n",
        "\n",
        "print(\"=\"*100)\n",
        "\n",
        "col1.append(0)\n",
        "col2.append(argmax_more_than_half)\n",
        "col3.append(argmax_less_than_half)\n",
        "col4.append(focus_true_pred_true)\n",
        "col5.append(focus_false_pred_true)\n",
        "col6.append(focus_true_pred_false)\n",
        "col7.append(focus_false_pred_false)"
      ],
      "execution_count": 354,
      "outputs": [
        {
          "output_type": "stream",
          "text": [
            "Accuracy of the network on the 1000 train images: 22 %\n",
            "total correct 225\n",
            "total train set images 1000\n",
            "focus_true_pred_true 24 =============> FTPT : 2 %\n",
            "focus_false_pred_true 201 =============> FFPT : 20 %\n",
            "focus_true_pred_false 96 =============> FTPF : 9 %\n",
            "focus_false_pred_false 679 =============> FFPF : 67 %\n",
            "argmax_more_than_half ==================>  0\n",
            "argmax_less_than_half ==================>  1000\n",
            "1000\n",
            "====================================================================================================\n"
          ],
          "name": "stdout"
        }
      ]
    },
    {
      "cell_type": "code",
      "metadata": {
        "id": "4vmNprlPzTjP",
        "colab": {
          "base_uri": "https://localhost:8080/"
        },
        "outputId": "fa62887f-5b01-426f-d74f-ffc90b428508"
      },
      "source": [
        "correct = 0\n",
        "total = 0\n",
        "count = 0\n",
        "flag = 1\n",
        "focus_true_pred_true =0\n",
        "focus_false_pred_true =0\n",
        "focus_true_pred_false =0\n",
        "focus_false_pred_false =0\n",
        "\n",
        "argmax_more_than_half = 0\n",
        "argmax_less_than_half =0\n",
        "\n",
        "with torch.no_grad():\n",
        "  for data in test_loader:\n",
        "    inputs, labels , fore_idx = data\n",
        "    inputs = inputs.double()\n",
        "    inputs, labels , fore_idx = inputs.to(\"cuda\"),labels.to(\"cuda\"), fore_idx.to(\"cuda\")\n",
        "    alphas, avg_images = focus_net(inputs)\n",
        "    outputs = classify(avg_images)\n",
        "\n",
        "    _, predicted = torch.max(outputs.data, 1)\n",
        "\n",
        "    for j in range(labels.size(0)):\n",
        "      focus = torch.argmax(alphas[j])\n",
        "      if alphas[j][focus] >= 0.5 :\n",
        "        argmax_more_than_half += 1\n",
        "      else:\n",
        "        argmax_less_than_half += 1\n",
        "\n",
        "      if(focus == fore_idx[j] and predicted[j] == labels[j]):\n",
        "          focus_true_pred_true += 1\n",
        "      elif(focus != fore_idx[j] and predicted[j] == labels[j]):\n",
        "        focus_false_pred_true += 1\n",
        "      elif(focus == fore_idx[j] and predicted[j] != labels[j]):\n",
        "        focus_true_pred_false += 1\n",
        "      elif(focus != fore_idx[j] and predicted[j] != labels[j]):\n",
        "        focus_false_pred_false += 1\n",
        "\n",
        "    total += labels.size(0)\n",
        "    correct += (predicted == labels).sum().item()\n",
        "\n",
        "print('Accuracy of the network on the 1000 test images: %d %%' % (\n",
        "    100 * correct / total))\n",
        "print(\"total correct\", correct)\n",
        "print(\"total train set images\", total)\n",
        "\n",
        "print(\"focus_true_pred_true %d =============> FTPT : %d %%\" % (focus_true_pred_true , (100 * focus_true_pred_true / total) ) )\n",
        "print(\"focus_false_pred_true %d =============> FFPT : %d %%\" % (focus_false_pred_true, (100 * focus_false_pred_true / total) ) )\n",
        "print(\"focus_true_pred_false %d =============> FTPF : %d %%\" %( focus_true_pred_false , ( 100 * focus_true_pred_false / total) ) )\n",
        "print(\"focus_false_pred_false %d =============> FFPF : %d %%\" % (focus_false_pred_false, ( 100 * focus_false_pred_false / total) ) )\n",
        "\n",
        "print(\"argmax_more_than_half ==================> \",argmax_more_than_half)\n",
        "print(\"argmax_less_than_half ==================> \",argmax_less_than_half)\n",
        "col8.append(argmax_more_than_half)\n",
        "col9.append(argmax_less_than_half)\n",
        "col10.append(focus_true_pred_true)\n",
        "col11.append(focus_false_pred_true)\n",
        "col12.append(focus_true_pred_false)\n",
        "col13.append(focus_false_pred_false)"
      ],
      "execution_count": 355,
      "outputs": [
        {
          "output_type": "stream",
          "text": [
            "Accuracy of the network on the 1000 test images: 20 %\n",
            "total correct 202\n",
            "total train set images 1000\n",
            "focus_true_pred_true 19 =============> FTPT : 1 %\n",
            "focus_false_pred_true 183 =============> FFPT : 18 %\n",
            "focus_true_pred_false 97 =============> FTPF : 9 %\n",
            "focus_false_pred_false 701 =============> FFPF : 70 %\n",
            "argmax_more_than_half ==================>  0\n",
            "argmax_less_than_half ==================>  1000\n"
          ],
          "name": "stdout"
        }
      ]
    },
    {
      "cell_type": "code",
      "metadata": {
        "id": "Yl41sE8vFERk",
        "colab": {
          "base_uri": "https://localhost:8080/"
        },
        "outputId": "8686fc20-971f-44de-d23e-bc06d92f035e"
      },
      "source": [
        "nos_epochs = 1000\n",
        "focus_true_pred_true =0\n",
        "focus_false_pred_true =0\n",
        "focus_true_pred_false =0\n",
        "focus_false_pred_false =0\n",
        "\n",
        "argmax_more_than_half = 0\n",
        "argmax_less_than_half =0\n",
        "\n",
        "\n",
        "for epoch in range(nos_epochs):  # loop over the dataset multiple times\n",
        "\n",
        "  focus_true_pred_true =0\n",
        "  focus_false_pred_true =0\n",
        "  focus_true_pred_false =0\n",
        "  focus_false_pred_false =0\n",
        "  \n",
        "  argmax_more_than_half = 0\n",
        "  argmax_less_than_half =0\n",
        "  \n",
        "  running_loss = 0.0\n",
        "  epoch_loss = []\n",
        "  cnt=0\n",
        "\n",
        "  iteration = desired_num // batch\n",
        "  \n",
        "  #training data set\n",
        "  \n",
        "  for i, data in  enumerate(train_loader):\n",
        "    inputs , labels , fore_idx = data\n",
        "    inputs, labels = inputs.to(\"cuda\"), labels.to(\"cuda\")\n",
        "    inputs = inputs.double()\n",
        "    # zero the parameter gradients\n",
        "    \n",
        "    optimizer_focus.zero_grad()\n",
        "    optimizer_classify.zero_grad()\n",
        "    \n",
        "    alphas, avg_images = focus_net(inputs)\n",
        "    outputs = classify(avg_images)\n",
        "\n",
        "    _, predicted = torch.max(outputs.data, 1)\n",
        "#     print(outputs)\n",
        "#     print(outputs.shape,labels.shape , torch.argmax(outputs, dim=1))\n",
        "\n",
        "    loss = criterion(outputs, labels) \n",
        "    loss.backward()\n",
        "    optimizer_focus.step()\n",
        "    optimizer_classify.step()\n",
        "\n",
        "    running_loss += loss.item()\n",
        "    mini = 3\n",
        "    if cnt % mini == mini-1:    # print every 40 mini-batches\n",
        "      print('[%d, %5d] loss: %.3f' %(epoch + 1, cnt + 1, running_loss / mini))\n",
        "      epoch_loss.append(running_loss/mini)\n",
        "      running_loss = 0.0\n",
        "    cnt=cnt+1\n",
        "    \n",
        "    if epoch % 5 == 0:\n",
        "      for j in range (batch):\n",
        "        focus = torch.argmax(alphas[j])\n",
        "\n",
        "        if(alphas[j][focus] >= 0.5):\n",
        "          argmax_more_than_half +=1\n",
        "        else:\n",
        "          argmax_less_than_half +=1\n",
        "\n",
        "        if(focus == fore_idx[j] and predicted[j] == labels[j]):\n",
        "          focus_true_pred_true += 1\n",
        "\n",
        "        elif(focus != fore_idx[j] and predicted[j] == labels[j]):\n",
        "          focus_false_pred_true +=1\n",
        "\n",
        "        elif(focus == fore_idx[j] and predicted[j] != labels[j]):\n",
        "          focus_true_pred_false +=1\n",
        "\n",
        "        elif(focus != fore_idx[j] and predicted[j] != labels[j]):\n",
        "          focus_false_pred_false +=1\n",
        "\n",
        "  if(np.mean(epoch_loss) <= 0.001):\n",
        "      break;\n",
        "\n",
        "  if epoch % 5 == 0:\n",
        "    col1.append(epoch + 1)\n",
        "    col2.append(argmax_more_than_half)\n",
        "    col3.append(argmax_less_than_half)\n",
        "    col4.append(focus_true_pred_true)\n",
        "    col5.append(focus_false_pred_true)\n",
        "    col6.append(focus_true_pred_false)\n",
        "    col7.append(focus_false_pred_false)\n",
        "    # print(\"=\"*20)\n",
        "    # print(\"Train FTPT : \", col4)\n",
        "    # print(\"Train FFPT : \", col5)\n",
        "    #************************************************************************\n",
        "    #testing data set  \n",
        "    # focus_net.eval()\n",
        "    with torch.no_grad():\n",
        "      focus_true_pred_true =0\n",
        "      focus_false_pred_true =0\n",
        "      focus_true_pred_false =0\n",
        "      focus_false_pred_false =0\n",
        "\n",
        "      argmax_more_than_half = 0\n",
        "      argmax_less_than_half =0\n",
        "      for data in test_loader:\n",
        "        inputs, labels , fore_idx = data\n",
        "        inputs = inputs.double()\n",
        "        inputs, labels = inputs.to(\"cuda\"), labels.to(\"cuda\")\n",
        "        alphas, avg_images = focus_net(inputs)\n",
        "        outputs = classify(avg_images)\n",
        "        _, predicted = torch.max(outputs.data, 1)\n",
        "\n",
        "        for j in range (batch):\n",
        "          focus = torch.argmax(alphas[j])\n",
        "\n",
        "          if(alphas[j][focus] >= 0.5):\n",
        "            argmax_more_than_half +=1\n",
        "          else:\n",
        "            argmax_less_than_half +=1\n",
        "\n",
        "          if(focus == fore_idx[j] and predicted[j] == labels[j]):\n",
        "            focus_true_pred_true += 1\n",
        "\n",
        "          elif(focus != fore_idx[j] and predicted[j] == labels[j]):\n",
        "            focus_false_pred_true +=1\n",
        "\n",
        "          elif(focus == fore_idx[j] and predicted[j] != labels[j]):\n",
        "            focus_true_pred_false +=1\n",
        "\n",
        "          elif(focus != fore_idx[j] and predicted[j] != labels[j]):\n",
        "            focus_false_pred_false +=1\n",
        "      \n",
        "    col8.append(argmax_more_than_half)\n",
        "    col9.append(argmax_less_than_half)\n",
        "    col10.append(focus_true_pred_true)\n",
        "    col11.append(focus_false_pred_true)\n",
        "    col12.append(focus_true_pred_false)\n",
        "    col13.append(focus_false_pred_false)\n",
        "    # print(\"Test FTPT : \", col10)\n",
        "    # print(\"Test FFPT : \", col11)\n",
        "    # print(\"=\"*20)\n",
        "    \n",
        "print('Finished Training')"
      ],
      "execution_count": 356,
      "outputs": [
        {
          "output_type": "stream",
          "text": [
            "[1,     3] loss: 1.095\n",
            "[2,     3] loss: 0.955\n",
            "[3,     3] loss: 0.700\n",
            "[4,     3] loss: 0.350\n",
            "[5,     3] loss: 0.092\n",
            "[6,     3] loss: 0.006\n",
            "[7,     3] loss: 0.000\n",
            "Finished Training\n"
          ],
          "name": "stdout"
        }
      ]
    },
    {
      "cell_type": "code",
      "metadata": {
        "id": "5gQoPST5zW2t"
      },
      "source": [
        "df_train = pd.DataFrame()\n",
        "df_test = pd.DataFrame()"
      ],
      "execution_count": 357,
      "outputs": []
    },
    {
      "cell_type": "code",
      "metadata": {
        "id": "In76SYH_zZHV"
      },
      "source": [
        "columns = [\"epochs\", \"argmax > 0.5\" ,\"argmax < 0.5\", \"focus_true_pred_true\", \"focus_false_pred_true\", \"focus_true_pred_false\", \"focus_false_pred_false\" ]"
      ],
      "execution_count": 358,
      "outputs": []
    },
    {
      "cell_type": "code",
      "metadata": {
        "id": "BS4HtOHEzZ0E"
      },
      "source": [
        "df_train[columns[0]] = col1\n",
        "df_train[columns[1]] = col2\n",
        "df_train[columns[2]] = col3\n",
        "df_train[columns[3]] = col4\n",
        "df_train[columns[4]] = col5\n",
        "df_train[columns[5]] = col6\n",
        "df_train[columns[6]] = col7\n",
        "\n",
        "df_test[columns[0]] = col1\n",
        "df_test[columns[1]] = col8\n",
        "df_test[columns[2]] = col9\n",
        "df_test[columns[3]] = col10\n",
        "df_test[columns[4]] = col11\n",
        "df_test[columns[5]] = col12\n",
        "df_test[columns[6]] = col13"
      ],
      "execution_count": 359,
      "outputs": []
    },
    {
      "cell_type": "code",
      "metadata": {
        "id": "1UbTkfLUINTI",
        "colab": {
          "base_uri": "https://localhost:8080/",
          "height": 143
        },
        "outputId": "451e5a93-44ea-41f3-ddf8-bd5c52274e29"
      },
      "source": [
        "df_train"
      ],
      "execution_count": 360,
      "outputs": [
        {
          "output_type": "execute_result",
          "data": {
            "text/html": [
              "<div>\n",
              "<style scoped>\n",
              "    .dataframe tbody tr th:only-of-type {\n",
              "        vertical-align: middle;\n",
              "    }\n",
              "\n",
              "    .dataframe tbody tr th {\n",
              "        vertical-align: top;\n",
              "    }\n",
              "\n",
              "    .dataframe thead th {\n",
              "        text-align: right;\n",
              "    }\n",
              "</style>\n",
              "<table border=\"1\" class=\"dataframe\">\n",
              "  <thead>\n",
              "    <tr style=\"text-align: right;\">\n",
              "      <th></th>\n",
              "      <th>epochs</th>\n",
              "      <th>argmax &gt; 0.5</th>\n",
              "      <th>argmax &lt; 0.5</th>\n",
              "      <th>focus_true_pred_true</th>\n",
              "      <th>focus_false_pred_true</th>\n",
              "      <th>focus_true_pred_false</th>\n",
              "      <th>focus_false_pred_false</th>\n",
              "    </tr>\n",
              "  </thead>\n",
              "  <tbody>\n",
              "    <tr>\n",
              "      <th>0</th>\n",
              "      <td>0</td>\n",
              "      <td>0</td>\n",
              "      <td>1000</td>\n",
              "      <td>24</td>\n",
              "      <td>201</td>\n",
              "      <td>96</td>\n",
              "      <td>679</td>\n",
              "    </tr>\n",
              "    <tr>\n",
              "      <th>1</th>\n",
              "      <td>1</td>\n",
              "      <td>0</td>\n",
              "      <td>1000</td>\n",
              "      <td>273</td>\n",
              "      <td>238</td>\n",
              "      <td>22</td>\n",
              "      <td>467</td>\n",
              "    </tr>\n",
              "    <tr>\n",
              "      <th>2</th>\n",
              "      <td>6</td>\n",
              "      <td>999</td>\n",
              "      <td>1</td>\n",
              "      <td>1000</td>\n",
              "      <td>0</td>\n",
              "      <td>0</td>\n",
              "      <td>0</td>\n",
              "    </tr>\n",
              "  </tbody>\n",
              "</table>\n",
              "</div>"
            ],
            "text/plain": [
              "   epochs  argmax > 0.5  ...  focus_true_pred_false  focus_false_pred_false\n",
              "0       0             0  ...                     96                     679\n",
              "1       1             0  ...                     22                     467\n",
              "2       6           999  ...                      0                       0\n",
              "\n",
              "[3 rows x 7 columns]"
            ]
          },
          "metadata": {
            "tags": []
          },
          "execution_count": 360
        }
      ]
    },
    {
      "cell_type": "code",
      "metadata": {
        "colab": {
          "base_uri": "https://localhost:8080/",
          "height": 573
        },
        "id": "xyna3USAeKZ9",
        "outputId": "e6047c7d-7d5e-4cae-c04c-88f6800413be"
      },
      "source": [
        "# plt.figure(12,12)\n",
        "plt.plot(col1,col2, label='argmax > 0.5')\n",
        "plt.plot(col1,col3, label='argmax < 0.5')\n",
        "\n",
        "plt.legend(loc='center left', bbox_to_anchor=(1, 0.5))\n",
        "plt.xlabel(\"epochs\")\n",
        "plt.ylabel(\"training data\")\n",
        "plt.title(\"On Training set\")\n",
        "plt.show()\n",
        "\n",
        "plt.plot(col1,col4, label =\"focus_true_pred_true \")\n",
        "plt.plot(col1,col5, label =\"focus_false_pred_true \")\n",
        "plt.plot(col1,col6, label =\"focus_true_pred_false \")\n",
        "plt.plot(col1,col7, label =\"focus_false_pred_false \")\n",
        "plt.title(\"On Training set\")\n",
        "plt.legend(loc='center left', bbox_to_anchor=(1, 0.5))\n",
        "plt.xlabel(\"epochs\")\n",
        "plt.ylabel(\"training data\")\n",
        "plt.show()"
      ],
      "execution_count": 361,
      "outputs": [
        {
          "output_type": "display_data",
          "data": {
            "image/png": "[encoded data removed]",
            "text/plain": [
              "<Figure size 432x288 with 1 Axes>"
            ]
          },
          "metadata": {
            "tags": [],
            "needs_background": "light"
          }
        },
        {
          "output_type": "display_data",
          "data": {
            "image/png": "[encoded data removed]",
            "text/plain": [
              "<Figure size 432x288 with 1 Axes>"
            ]
          },
          "metadata": {
            "tags": [],
            "needs_background": "light"
          }
        }
      ]
    },
    {
      "cell_type": "code",
      "metadata": {
        "colab": {
          "base_uri": "https://localhost:8080/",
          "height": 354
        },
        "id": "5lhODjqGoSxL",
        "outputId": "893c45d2-1dc5-429d-f978-64140e1de100"
      },
      "source": [
        "plt.figure(figsize=(6,5))\n",
        "plt.plot(col1,np.array(col4)/10, label =\"FTPT\")\n",
        "plt.plot(col1,np.array(col5)/10, label =\"FFPT\")\n",
        "plt.plot(col1,np.array(col6)/10, label =\"FTPF\")\n",
        "plt.plot(col1,np.array(col7)/10, label =\"FFPF\")\n",
        "plt.title(\"Dataset2 - SDC On Train set\")\n",
        "plt.grid()\n",
        "# plt.legend(loc='center left', bbox_to_anchor=(1, 0.5))\n",
        "plt.legend()\n",
        "plt.xlabel(\"epochs\", fontsize=14, fontweight = 'bold')\n",
        "plt.ylabel(\"percentage train data\", fontsize=14, fontweight = 'bold')\n",
        "plt.savefig(path+\"ds2_train.png\", bbox_inches=\"tight\")\n",
        "plt.savefig(path+\"ds2_train.pdf\", bbox_inches=\"tight\")\n",
        "plt.savefig(\"ds2_train.png\", bbox_inches=\"tight\")\n",
        "plt.savefig(\"ds2_train.pdf\", bbox_inches=\"tight\")\n",
        "plt.show()"
      ],
      "execution_count": 362,
      "outputs": [
        {
          "output_type": "display_data",
          "data": {
            "image/png": "[encoded data removed]",
            "text/plain": [
              "<Figure size 432x360 with 1 Axes>"
            ]
          },
          "metadata": {
            "tags": [],
            "needs_background": "light"
          }
        }
      ]
    },
    {
      "cell_type": "code",
      "metadata": {
        "colab": {
          "base_uri": "https://localhost:8080/",
          "height": 143
        },
        "id": "hrb68lvueMA-",
        "outputId": "48ef4860-9bdb-4fe5-8b21-82cebed352f2"
      },
      "source": [
        "df_test"
      ],
      "execution_count": 363,
      "outputs": [
        {
          "output_type": "execute_result",
          "data": {
            "text/html": [
              "<div>\n",
              "<style scoped>\n",
              "    .dataframe tbody tr th:only-of-type {\n",
              "        vertical-align: middle;\n",
              "    }\n",
              "\n",
              "    .dataframe tbody tr th {\n",
              "        vertical-align: top;\n",
              "    }\n",
              "\n",
              "    .dataframe thead th {\n",
              "        text-align: right;\n",
              "    }\n",
              "</style>\n",
              "<table border=\"1\" class=\"dataframe\">\n",
              "  <thead>\n",
              "    <tr style=\"text-align: right;\">\n",
              "      <th></th>\n",
              "      <th>epochs</th>\n",
              "      <th>argmax &gt; 0.5</th>\n",
              "      <th>argmax &lt; 0.5</th>\n",
              "      <th>focus_true_pred_true</th>\n",
              "      <th>focus_false_pred_true</th>\n",
              "      <th>focus_true_pred_false</th>\n",
              "      <th>focus_false_pred_false</th>\n",
              "    </tr>\n",
              "  </thead>\n",
              "  <tbody>\n",
              "    <tr>\n",
              "      <th>0</th>\n",
              "      <td>0</td>\n",
              "      <td>0</td>\n",
              "      <td>1000</td>\n",
              "      <td>19</td>\n",
              "      <td>183</td>\n",
              "      <td>97</td>\n",
              "      <td>701</td>\n",
              "    </tr>\n",
              "    <tr>\n",
              "      <th>1</th>\n",
              "      <td>1</td>\n",
              "      <td>0</td>\n",
              "      <td>1000</td>\n",
              "      <td>315</td>\n",
              "      <td>624</td>\n",
              "      <td>0</td>\n",
              "      <td>61</td>\n",
              "    </tr>\n",
              "    <tr>\n",
              "      <th>2</th>\n",
              "      <td>6</td>\n",
              "      <td>1000</td>\n",
              "      <td>0</td>\n",
              "      <td>1000</td>\n",
              "      <td>0</td>\n",
              "      <td>0</td>\n",
              "      <td>0</td>\n",
              "    </tr>\n",
              "  </tbody>\n",
              "</table>\n",
              "</div>"
            ],
            "text/plain": [
              "   epochs  argmax > 0.5  ...  focus_true_pred_false  focus_false_pred_false\n",
              "0       0             0  ...                     97                     701\n",
              "1       1             0  ...                      0                      61\n",
              "2       6          1000  ...                      0                       0\n",
              "\n",
              "[3 rows x 7 columns]"
            ]
          },
          "metadata": {
            "tags": []
          },
          "execution_count": 363
        }
      ]
    },
    {
      "cell_type": "code",
      "metadata": {
        "colab": {
          "base_uri": "https://localhost:8080/",
          "height": 573
        },
        "id": "qR5SnitGeNMN",
        "outputId": "e6a583cc-7a45-4c32-d9ef-a66225f00a4a"
      },
      "source": [
        "# plt.figure(12,12)\n",
        "plt.plot(col1,col8, label='argmax > 0.5')\n",
        "plt.plot(col1,col9, label='argmax < 0.5')\n",
        "\n",
        "plt.legend(loc='center left', bbox_to_anchor=(1, 0.5))\n",
        "plt.xlabel(\"epochs\")\n",
        "plt.ylabel(\"Testing data\")\n",
        "plt.title(\"On Testing set\")\n",
        "plt.show()\n",
        "\n",
        "plt.plot(col1,col10, label =\"focus_true_pred_true \")\n",
        "plt.plot(col1,col11, label =\"focus_false_pred_true \")\n",
        "plt.plot(col1,col12, label =\"focus_true_pred_false \")\n",
        "plt.plot(col1,col13, label =\"focus_false_pred_false \")\n",
        "plt.title(\"On Testing set\")\n",
        "plt.legend(loc='center left', bbox_to_anchor=(1, 0.5))\n",
        "plt.xlabel(\"epochs\")\n",
        "plt.ylabel(\"Testing data\")\n",
        "plt.show()"
      ],
      "execution_count": 364,
      "outputs": [
        {
          "output_type": "display_data",
          "data": {
            "image/png": "[encoded data removed]",
            "text/plain": [
              "<Figure size 432x288 with 1 Axes>"
            ]
          },
          "metadata": {
            "tags": [],
            "needs_background": "light"
          }
        },
        {
          "output_type": "display_data",
          "data": {
            "image/png": "[encoded data removed]",
            "text/plain": [
              "<Figure size 432x288 with 1 Axes>"
            ]
          },
          "metadata": {
            "tags": [],
            "needs_background": "light"
          }
        }
      ]
    },
    {
      "cell_type": "code",
      "metadata": {
        "colab": {
          "base_uri": "https://localhost:8080/",
          "height": 354
        },
        "id": "vwP4uAKyoaq7",
        "outputId": "c5b67c02-bfda-405b-d503-ff17a6802cf1"
      },
      "source": [
        "plt.figure(figsize=(6,5))\n",
        "plt.plot(col1,np.array(col10)/10, label =\"FTPT\")\n",
        "plt.plot(col1,np.array(col11)/10, label =\"FFPT\")\n",
        "plt.plot(col1,np.array(col12)/10, label =\"FTPF\")\n",
        "plt.plot(col1,np.array(col13)/10, label =\"FFPF\")\n",
        "plt.title(\"Dataset2 - SDC On Test set\")\n",
        "plt.grid()\n",
        "# plt.legend(loc='center left', bbox_to_anchor=(1, 0.5))\n",
        "plt.legend()\n",
        "plt.xlabel(\"epochs\", fontsize=14, fontweight = 'bold')\n",
        "plt.ylabel(\"percentage test data\", fontsize=14, fontweight = 'bold')\n",
        "plt.savefig(path+\"ds2_test.png\", bbox_inches=\"tight\")\n",
        "plt.savefig(path+\"ds2_test.pdf\", bbox_inches=\"tight\")\n",
        "plt.savefig(\"ds2_test.png\", bbox_inches=\"tight\")\n",
        "plt.savefig(\"ds2_test.pdf\", bbox_inches=\"tight\")\n",
        "plt.show()"
      ],
      "execution_count": 365,
      "outputs": [
        {
          "output_type": "display_data",
          "data": {
            "image/png": "[encoded data removed]",
            "text/plain": [
              "<Figure size 432x360 with 1 Axes>"
            ]
          },
          "metadata": {
            "tags": [],
            "needs_background": "light"
          }
        }
      ]
    },
    {
      "cell_type": "code",
      "metadata": {
        "colab": {
          "base_uri": "https://localhost:8080/"
        },
        "id": "TGrzYDWxeO6m",
        "outputId": "2d89d41d-ce03-47e0-a898-32781c650ba4"
      },
      "source": [
        "correct = 0\n",
        "total = 0\n",
        "count = 0\n",
        "flag = 1\n",
        "focus_true_pred_true =0\n",
        "focus_false_pred_true =0\n",
        "focus_true_pred_false =0\n",
        "focus_false_pred_false =0\n",
        "\n",
        "argmax_more_than_half = 0\n",
        "argmax_less_than_half =0\n",
        "\n",
        "with torch.no_grad():\n",
        "  for data in train_loader:\n",
        "    inputs, labels , fore_idx = data\n",
        "    inputs = inputs.double()\n",
        "    inputs, labels , fore_idx = inputs.to(\"cuda\"),labels.to(\"cuda\"), fore_idx.to(\"cuda\")\n",
        "    alphas, avg_images = focus_net(inputs)\n",
        "    outputs = classify(avg_images)\n",
        "\n",
        "    _, predicted = torch.max(outputs.data, 1)\n",
        "\n",
        "    for j in range(labels.size(0)):\n",
        "      focus = torch.argmax(alphas[j])\n",
        "      if alphas[j][focus] >= 0.5 :\n",
        "        argmax_more_than_half += 1\n",
        "      else:\n",
        "        argmax_less_than_half += 1\n",
        "\n",
        "      if(focus == fore_idx[j] and predicted[j] == labels[j]):\n",
        "          focus_true_pred_true += 1\n",
        "      elif(focus != fore_idx[j] and predicted[j] == labels[j]):\n",
        "        focus_false_pred_true += 1\n",
        "      elif(focus == fore_idx[j] and predicted[j] != labels[j]):\n",
        "        focus_true_pred_false += 1\n",
        "      elif(focus != fore_idx[j] and predicted[j] != labels[j]):\n",
        "        focus_false_pred_false += 1\n",
        "\n",
        "    total += labels.size(0)\n",
        "    correct += (predicted == labels).sum().item()\n",
        "\n",
        "print('Accuracy of the network on the 1000 train images: %d %%' % (\n",
        "    100 * correct / total))\n",
        "print(\"total correct\", correct)\n",
        "print(\"total train set images\", total)\n",
        "\n",
        "print(\"focus_true_pred_true %d =============> FTPT : %d %%\" % (focus_true_pred_true , (100 * focus_true_pred_true / total) ) )\n",
        "print(\"focus_false_pred_true %d =============> FFPT : %d %%\" % (focus_false_pred_true, (100 * focus_false_pred_true / total) ) )\n",
        "print(\"focus_true_pred_false %d =============> FTPF : %d %%\" %( focus_true_pred_false , ( 100 * focus_true_pred_false / total) ) )\n",
        "print(\"focus_false_pred_false %d =============> FFPF : %d %%\" % (focus_false_pred_false, ( 100 * focus_false_pred_false / total) ) )\n",
        "\n",
        "print(\"argmax_more_than_half ==================> \",argmax_more_than_half)\n",
        "print(\"argmax_less_than_half ==================> \",argmax_less_than_half)"
      ],
      "execution_count": 366,
      "outputs": [
        {
          "output_type": "stream",
          "text": [
            "Accuracy of the network on the 1000 train images: 100 %\n",
            "total correct 1000\n",
            "total train set images 1000\n",
            "focus_true_pred_true 1000 =============> FTPT : 100 %\n",
            "focus_false_pred_true 0 =============> FFPT : 0 %\n",
            "focus_true_pred_false 0 =============> FTPF : 0 %\n",
            "focus_false_pred_false 0 =============> FFPF : 0 %\n",
            "argmax_more_than_half ==================>  1000\n",
            "argmax_less_than_half ==================>  0\n"
          ],
          "name": "stdout"
        }
      ]
    },
    {
      "cell_type": "code",
      "metadata": {
        "colab": {
          "base_uri": "https://localhost:8080/"
        },
        "id": "67_H9pkCeQNs",
        "outputId": "f79c0df5-713b-468e-bd50-bad59c7768ba"
      },
      "source": [
        "correct = 0\n",
        "total = 0\n",
        "count = 0\n",
        "flag = 1\n",
        "focus_true_pred_true =0\n",
        "focus_false_pred_true =0\n",
        "focus_true_pred_false =0\n",
        "focus_false_pred_false =0\n",
        "\n",
        "argmax_more_than_half = 0\n",
        "argmax_less_than_half =0\n",
        "\n",
        "with torch.no_grad():\n",
        "  for data in test_loader:\n",
        "    inputs, labels , fore_idx = data\n",
        "    inputs = inputs.double()\n",
        "    inputs, labels , fore_idx = inputs.to(\"cuda\"),labels.to(\"cuda\"), fore_idx.to(\"cuda\")\n",
        "    alphas, avg_images = focus_net(inputs)\n",
        "    outputs = classify(avg_images)\n",
        "\n",
        "    _, predicted = torch.max(outputs.data, 1)\n",
        "\n",
        "    for j in range(labels.size(0)):\n",
        "      focus = torch.argmax(alphas[j])\n",
        "      if alphas[j][focus] >= 0.5 :\n",
        "        argmax_more_than_half += 1\n",
        "      else:\n",
        "        argmax_less_than_half += 1\n",
        "\n",
        "      if(focus == fore_idx[j] and predicted[j] == labels[j]):\n",
        "          focus_true_pred_true += 1\n",
        "      elif(focus != fore_idx[j] and predicted[j] == labels[j]):\n",
        "        focus_false_pred_true += 1\n",
        "      elif(focus == fore_idx[j] and predicted[j] != labels[j]):\n",
        "        focus_true_pred_false += 1\n",
        "      elif(focus != fore_idx[j] and predicted[j] != labels[j]):\n",
        "        focus_false_pred_false += 1\n",
        "\n",
        "    total += labels.size(0)\n",
        "    correct += (predicted == labels).sum().item()\n",
        "\n",
        "print('Accuracy of the network on the 1000 test images: %d %%' % (\n",
        "    100 * correct / total))\n",
        "print(\"total correct\", correct)\n",
        "print(\"total train set images\", total)\n",
        "\n",
        "print(\"focus_true_pred_true %d =============> FTPT : %d %%\" % (focus_true_pred_true , (100 * focus_true_pred_true / total) ) )\n",
        "print(\"focus_false_pred_true %d =============> FFPT : %d %%\" % (focus_false_pred_true, (100 * focus_false_pred_true / total) ) )\n",
        "print(\"focus_true_pred_false %d =============> FTPF : %d %%\" %( focus_true_pred_false , ( 100 * focus_true_pred_false / total) ) )\n",
        "print(\"focus_false_pred_false %d =============> FFPF : %d %%\" % (focus_false_pred_false, ( 100 * focus_false_pred_false / total) ) )\n",
        "\n",
        "print(\"argmax_more_than_half ==================> \",argmax_more_than_half)\n",
        "print(\"argmax_less_than_half ==================> \",argmax_less_than_half)"
      ],
      "execution_count": 367,
      "outputs": [
        {
          "output_type": "stream",
          "text": [
            "Accuracy of the network on the 1000 test images: 100 %\n",
            "total correct 1000\n",
            "total train set images 1000\n",
            "focus_true_pred_true 1000 =============> FTPT : 100 %\n",
            "focus_false_pred_true 0 =============> FFPT : 0 %\n",
            "focus_true_pred_false 0 =============> FTPF : 0 %\n",
            "focus_false_pred_false 0 =============> FFPF : 0 %\n",
            "argmax_more_than_half ==================>  1000\n",
            "argmax_less_than_half ==================>  0\n"
          ],
          "name": "stdout"
        }
      ]
    },
    {
      "cell_type": "code",
      "metadata": {
        "colab": {
          "base_uri": "https://localhost:8080/"
        },
        "id": "jhvhkEAyeRpt",
        "outputId": "22fbf632-3ace-4de9-effd-bc50ebaf51fc"
      },
      "source": [
        "correct = 0\n",
        "total = 0\n",
        "\n",
        "with torch.no_grad():\n",
        "  for data in train_loader:\n",
        "    inputs, labels , fore_idx = data\n",
        "    inputs = inputs.double()\n",
        "    inputs, labels = inputs.to(\"cuda\"), labels.to(\"cuda\")\n",
        "    alphas, avg_images = focus_net(inputs)\n",
        "    outputs = classify(avg_images)\n",
        "\n",
        "    _, predicted = torch.max(outputs.data, 1)\n",
        "\n",
        "    total += labels.size(0)\n",
        "    correct += (predicted == labels).sum().item()\n",
        "\n",
        "print('Accuracy of the network on the 1000 train images: %d %%' % ( 100 * correct / total))\n",
        "print(\"total correct\", correct)\n",
        "print(\"total train set images\", total)"
      ],
      "execution_count": 368,
      "outputs": [
        {
          "output_type": "stream",
          "text": [
            "Accuracy of the network on the 1000 train images: 100 %\n",
            "total correct 1000\n",
            "total train set images 1000\n"
          ],
          "name": "stdout"
        }
      ]
    },
    {
      "cell_type": "code",
      "metadata": {
        "colab": {
          "base_uri": "https://localhost:8080/"
        },
        "id": "OKcmpKwGeS8M",
        "outputId": "910a573d-414e-4f28-d3e3-3eb6d9e91349"
      },
      "source": [
        "correct = 0\n",
        "total = 0\n",
        "\n",
        "with torch.no_grad():\n",
        "  for data in test_loader:\n",
        "    inputs, labels , fore_idx = data\n",
        "    inputs = inputs.double()\n",
        "    inputs, labels = inputs.to(\"cuda\"), labels.to(\"cuda\")\n",
        "    alphas, avg_images = focus_net(inputs)\n",
        "    outputs = classify(avg_images)\n",
        "\n",
        "    _, predicted = torch.max(outputs.data, 1)\n",
        "\n",
        "    total += labels.size(0)\n",
        "    correct += (predicted == labels).sum().item()\n",
        "\n",
        "print('Accuracy of the network on the 1000 test images: %d %%' % ( 100 * correct / total))\n",
        "print(\"total correct\", correct)\n",
        "print(\"total train set images\", total)"
      ],
      "execution_count": 369,
      "outputs": [
        {
          "output_type": "stream",
          "text": [
            "Accuracy of the network on the 1000 test images: 100 %\n",
            "total correct 1000\n",
            "total train set images 1000\n"
          ],
          "name": "stdout"
        }
      ]
    },
    {
      "cell_type": "code",
      "metadata": {
        "id": "xlalQug_egcl"
      },
      "source": [
        ""
      ],
      "execution_count": 369,
      "outputs": []
    }
  ]
}