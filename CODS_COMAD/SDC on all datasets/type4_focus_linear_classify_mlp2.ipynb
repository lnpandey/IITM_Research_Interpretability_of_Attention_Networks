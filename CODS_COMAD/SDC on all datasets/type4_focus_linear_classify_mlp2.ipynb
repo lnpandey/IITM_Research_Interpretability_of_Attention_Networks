{
  "nbformat": 4,
  "nbformat_minor": 0,
  "metadata": {
    "accelerator": "GPU",
    "colab": {
      "name": "type4_focus_linear_classify_mlp2.ipynb",
      "provenance": [],
      "collapsed_sections": []
    },
    "kernelspec": {
      "display_name": "Python 3",
      "language": "python",
      "name": "python3"
    },
    "language_info": {
      "codemirror_mode": {
        "name": "ipython",
        "version": 3
      },
      "file_extension": ".py",
      "mimetype": "text/x-python",
      "name": "python",
      "nbconvert_exporter": "python",
      "pygments_lexer": "ipython3",
      "version": "3.6.5"
    }
  },
  "cells": [
    {
      "cell_type": "code",
      "metadata": {
        "colab": {
          "base_uri": "https://localhost:8080/"
        },
        "id": "PVO3ASMSm8Bx",
        "outputId": "0d73a901-7932-49d1-e651-83c9e6d797af"
      },
      "source": [
        "from google.colab import drive\n",
        "drive.mount('/content/drive')"
      ],
      "execution_count": 57,
      "outputs": [
        {
          "output_type": "stream",
          "text": [
            "Drive already mounted at /content/drive; to attempt to forcibly remount, call drive.mount(\"/content/drive\", force_remount=True).\n"
          ],
          "name": "stdout"
        }
      ]
    },
    {
      "cell_type": "code",
      "metadata": {
        "id": "uLrd5bwInAd1"
      },
      "source": [
        "path=\"/content/drive/MyDrive/Research/cods_comad_plots/SDC/dataset_4/\""
      ],
      "execution_count": 58,
      "outputs": []
    },
    {
      "cell_type": "code",
      "metadata": {
        "colab": {
          "base_uri": "https://localhost:8080/"
        },
        "id": "N2_J4Rw2r0SQ",
        "outputId": "82bd5e1e-f31e-4ce0-f845-4219e7bf2206"
      },
      "source": [
        "import numpy as np\n",
        "import pandas as pd\n",
        "from matplotlib import pyplot as plt\n",
        "from tqdm import tqdm\n",
        "%matplotlib inline\n",
        "from torch.utils.data import Dataset, DataLoader\n",
        "import torch\n",
        "import torchvision\n",
        "\n",
        "import torch.nn as nn\n",
        "import torch.optim as optim\n",
        "from torch.nn import functional as F\n",
        "device = torch.device(\"cuda\" if torch.cuda.is_available() else \"cpu\")\n",
        "print(device)"
      ],
      "execution_count": 59,
      "outputs": [
        {
          "output_type": "stream",
          "text": [
            "cuda\n"
          ],
          "name": "stdout"
        }
      ]
    },
    {
      "cell_type": "markdown",
      "metadata": {
        "id": "F6fjud_Fr0Sa"
      },
      "source": [
        "# Generate dataset"
      ]
    },
    {
      "cell_type": "code",
      "metadata": {
        "colab": {
          "base_uri": "https://localhost:8080/"
        },
        "id": "CqdXHO0Cr0Sd",
        "outputId": "7959a8bb-3fd5-427d-8d9c-8f29c9f52543"
      },
      "source": [
        "np.random.seed(12)\n",
        "y = np.random.randint(0,10,5000)\n",
        "idx= []\n",
        "for i in range(10):\n",
        "    print(i,sum(y==i))\n",
        "    idx.append(y==i)"
      ],
      "execution_count": 60,
      "outputs": [
        {
          "output_type": "stream",
          "text": [
            "0 530\n",
            "1 463\n",
            "2 494\n",
            "3 517\n",
            "4 488\n",
            "5 497\n",
            "6 493\n",
            "7 507\n",
            "8 492\n",
            "9 519\n"
          ],
          "name": "stdout"
        }
      ]
    },
    {
      "cell_type": "code",
      "metadata": {
        "id": "ddhXyODwr0Sk"
      },
      "source": [
        "x = np.zeros((5000,2))"
      ],
      "execution_count": 61,
      "outputs": []
    },
    {
      "cell_type": "code",
      "metadata": {
        "id": "DyV3N2DIr0Sp"
      },
      "source": [
        "np.random.seed(12)\n",
        "x[idx[0],:] = np.random.multivariate_normal(mean = [4,6.5],cov=[[0.01,0],[0,0.01]],size=sum(idx[0]))\n",
        "x[idx[1],:] = np.random.multivariate_normal(mean = [5.5,6],cov=[[0.01,0],[0,0.01]],size=sum(idx[1]))\n",
        "x[idx[2],:] = np.random.multivariate_normal(mean = [4.5,4.5],cov=[[0.01,0],[0,0.01]],size=sum(idx[2]))\n",
        "x[idx[3],:] = np.random.multivariate_normal(mean = [3,3.5],cov=[[0.01,0],[0,0.01]],size=sum(idx[3]))\n",
        "x[idx[4],:] = np.random.multivariate_normal(mean = [2.5,5.5],cov=[[0.01,0],[0,0.01]],size=sum(idx[4]))\n",
        "x[idx[5],:] = np.random.multivariate_normal(mean = [3.5,8],cov=[[0.01,0],[0,0.01]],size=sum(idx[5]))\n",
        "x[idx[6],:] = np.random.multivariate_normal(mean = [5.5,8],cov=[[0.01,0],[0,0.01]],size=sum(idx[6]))\n",
        "x[idx[7],:] = np.random.multivariate_normal(mean = [7,6.5],cov=[[0.01,0],[0,0.01]],size=sum(idx[7]))\n",
        "x[idx[8],:] = np.random.multivariate_normal(mean = [6.5,4.5],cov=[[0.01,0],[0,0.01]],size=sum(idx[8]))\n",
        "x[idx[9],:] = np.random.multivariate_normal(mean = [5,3],cov=[[0.01,0],[0,0.01]],size=sum(idx[9]))"
      ],
      "execution_count": 62,
      "outputs": []
    },
    {
      "cell_type": "code",
      "metadata": {
        "colab": {
          "base_uri": "https://localhost:8080/"
        },
        "id": "qh1mDScsU07I",
        "outputId": "d78f96df-7a5f-4363-b29c-1f7efae56ccb"
      },
      "source": [
        "x[idx[0]][0], x[idx[5]][5] "
      ],
      "execution_count": 63,
      "outputs": [
        {
          "output_type": "execute_result",
          "data": {
            "text/plain": [
              "(array([4.04729858, 6.43185741]), array([3.4612816 , 8.00144771]))"
            ]
          },
          "metadata": {
            "tags": []
          },
          "execution_count": 63
        }
      ]
    },
    {
      "cell_type": "code",
      "metadata": {
        "colab": {
          "base_uri": "https://localhost:8080/",
          "height": 284
        },
        "id": "9Vr5ErQ_wSrV",
        "outputId": "f37199be-f7c4-472c-e594-3ab042a71815"
      },
      "source": [
        "for i in range(10):\n",
        "    plt.scatter(x[idx[i],0],x[idx[i],1],label=\"class_\"+str(i))\n",
        "plt.legend(loc='center left', bbox_to_anchor=(1, 0.5))"
      ],
      "execution_count": 64,
      "outputs": [
        {
          "output_type": "execute_result",
          "data": {
            "text/plain": [
              "<matplotlib.legend.Legend at 0x7fbc60a5ef50>"
            ]
          },
          "metadata": {
            "tags": []
          },
          "execution_count": 64
        },
        {
          "output_type": "display_data",
          "data": {
            "image/png": "[encoded data removed]",
            "text/plain": [
              "<Figure size 432x288 with 1 Axes>"
            ]
          },
          "metadata": {
            "tags": [],
            "needs_background": "light"
          }
        }
      ]
    },
    {
      "cell_type": "code",
      "metadata": {
        "id": "NG-3RpffwU_i",
        "colab": {
          "base_uri": "https://localhost:8080/"
        },
        "outputId": "124dcadb-41e5-4537-c5bb-3b3b8881dbb4"
      },
      "source": [
        "bg_idx = [ np.where(idx[3] == True)[0], \n",
        "          np.where(idx[4] == True)[0], \n",
        "          np.where(idx[5] == True)[0],\n",
        "          np.where(idx[6] == True)[0], \n",
        "          np.where(idx[7] == True)[0], \n",
        "          np.where(idx[8] == True)[0],\n",
        "          np.where(idx[9] == True)[0]]\n",
        "\n",
        "bg_idx = np.concatenate(bg_idx, axis = 0)\n",
        "bg_idx.shape"
      ],
      "execution_count": 65,
      "outputs": [
        {
          "output_type": "execute_result",
          "data": {
            "text/plain": [
              "(3513,)"
            ]
          },
          "metadata": {
            "tags": []
          },
          "execution_count": 65
        }
      ]
    },
    {
      "cell_type": "code",
      "metadata": {
        "colab": {
          "base_uri": "https://localhost:8080/"
        },
        "id": "_0JKKUdwoo9b",
        "outputId": "b207d81f-9af3-489f-a992-0bf4d6ca54a6"
      },
      "source": [
        "np.unique(bg_idx).shape"
      ],
      "execution_count": 66,
      "outputs": [
        {
          "output_type": "execute_result",
          "data": {
            "text/plain": [
              "(3513,)"
            ]
          },
          "metadata": {
            "tags": []
          },
          "execution_count": 66
        }
      ]
    },
    {
      "cell_type": "code",
      "metadata": {
        "id": "6LA5i3Droo60"
      },
      "source": [
        "x = x - np.mean(x[bg_idx], axis = 0, keepdims = True)\n"
      ],
      "execution_count": 67,
      "outputs": []
    },
    {
      "cell_type": "code",
      "metadata": {
        "colab": {
          "base_uri": "https://localhost:8080/"
        },
        "id": "s5tfCDfHoo3-",
        "outputId": "e4ccc537-cd7e-4cd0-c904-ef2dfa1de2e4"
      },
      "source": [
        "np.mean(x[bg_idx], axis = 0, keepdims = True), np.mean(x, axis = 0, keepdims = True)"
      ],
      "execution_count": 68,
      "outputs": [
        {
          "output_type": "execute_result",
          "data": {
            "text/plain": [
              "(array([[-3.94054906e-15, -1.42341147e-15]]),\n",
              " array([[-0.02477713,  0.03899959]]))"
            ]
          },
          "metadata": {
            "tags": []
          },
          "execution_count": 68
        }
      ]
    },
    {
      "cell_type": "code",
      "metadata": {
        "id": "TpSAZtqzoo1F"
      },
      "source": [
        "x = x/np.std(x[bg_idx], axis = 0, keepdims = True)"
      ],
      "execution_count": 69,
      "outputs": []
    },
    {
      "cell_type": "code",
      "metadata": {
        "colab": {
          "base_uri": "https://localhost:8080/"
        },
        "id": "NsrCmT8IovQv",
        "outputId": "88d1e129-8e71-4d62-e7ce-078e9eabd5a9"
      },
      "source": [
        "np.std(x[bg_idx], axis = 0, keepdims = True), np.std(x, axis = 0, keepdims = True)"
      ],
      "execution_count": 70,
      "outputs": [
        {
          "output_type": "execute_result",
          "data": {
            "text/plain": [
              "(array([[1., 1.]]), array([[0.86429775, 0.8750994 ]]))"
            ]
          },
          "metadata": {
            "tags": []
          },
          "execution_count": 70
        }
      ]
    },
    {
      "cell_type": "code",
      "metadata": {
        "colab": {
          "base_uri": "https://localhost:8080/",
          "height": 284
        },
        "id": "hJ8Jm7YUr0St",
        "outputId": "286e5960-8a10-481c-a9eb-26c624af9a44"
      },
      "source": [
        "for i in range(10):\n",
        "    plt.scatter(x[idx[i],0],x[idx[i],1],label=\"class_\"+str(i))\n",
        "plt.legend(loc='center left', bbox_to_anchor=(1, 0.5))"
      ],
      "execution_count": 71,
      "outputs": [
        {
          "output_type": "execute_result",
          "data": {
            "text/plain": [
              "<matplotlib.legend.Legend at 0x7fbc609a1390>"
            ]
          },
          "metadata": {
            "tags": []
          },
          "execution_count": 71
        },
        {
          "output_type": "display_data",
          "data": {
            "image/png": "[encoded data removed]",
            "text/plain": [
              "<Figure size 432x288 with 1 Axes>"
            ]
          },
          "metadata": {
            "tags": [],
            "needs_background": "light"
          }
        }
      ]
    },
    {
      "cell_type": "code",
      "metadata": {
        "id": "3lMBZEHNBlF2"
      },
      "source": [
        "foreground_classes = {'class_0','class_1', 'class_2'}\n",
        "\n",
        "background_classes = {'class_3','class_4', 'class_5', 'class_6','class_7', 'class_8', 'class_9'}"
      ],
      "execution_count": 72,
      "outputs": []
    },
    {
      "cell_type": "code",
      "metadata": {
        "colab": {
          "base_uri": "https://localhost:8080/"
        },
        "id": "blRbGZHeCwXU",
        "outputId": "d1a886b8-2a09-4e70-ea15-adab660e672a"
      },
      "source": [
        "fg_class  = np.random.randint(0,3)\n",
        "fg_idx = np.random.randint(0,9)\n",
        "\n",
        "a = []\n",
        "for i in range(9):\n",
        "    if i == fg_idx:\n",
        "        b = np.random.choice(np.where(idx[fg_class]==True)[0],size=1)\n",
        "        a.append(x[b])\n",
        "        print(\"foreground \"+str(fg_class)+\" present at \" + str(fg_idx))\n",
        "    else:\n",
        "        bg_class = np.random.randint(3,10)\n",
        "        b = np.random.choice(np.where(idx[bg_class]==True)[0],size=1)\n",
        "        a.append(x[b])\n",
        "        print(\"background \"+str(bg_class)+\" present at \" + str(i))\n",
        "a = np.concatenate(a,axis=0)\n",
        "print(a.shape)\n",
        "\n",
        "print(fg_class , fg_idx)"
      ],
      "execution_count": 73,
      "outputs": [
        {
          "output_type": "stream",
          "text": [
            "background 5 present at 0\n",
            "background 6 present at 1\n",
            "foreground 2 present at 2\n",
            "background 5 present at 3\n",
            "background 3 present at 4\n",
            "background 5 present at 5\n",
            "background 7 present at 6\n",
            "background 6 present at 7\n",
            "background 5 present at 8\n",
            "(9, 2)\n",
            "2 2\n"
          ],
          "name": "stdout"
        }
      ]
    },
    {
      "cell_type": "code",
      "metadata": {
        "id": "Y43sWeX7C15F",
        "colab": {
          "base_uri": "https://localhost:8080/"
        },
        "outputId": "4d09aa72-bc23-4781-eda7-05a858b77688"
      },
      "source": [
        "a.shape"
      ],
      "execution_count": 74,
      "outputs": [
        {
          "output_type": "execute_result",
          "data": {
            "text/plain": [
              "(9, 2)"
            ]
          },
          "metadata": {
            "tags": []
          },
          "execution_count": 74
        }
      ]
    },
    {
      "cell_type": "code",
      "metadata": {
        "colab": {
          "base_uri": "https://localhost:8080/"
        },
        "id": "ooII7N6UDWe0",
        "outputId": "4dfd0bfc-25d0-4974-8cd6-d516d72d15d1"
      },
      "source": [
        "np.reshape(a,(18,1)) #not required"
      ],
      "execution_count": 75,
      "outputs": [
        {
          "output_type": "execute_result",
          "data": {
            "text/plain": [
              "array([[-0.75222128],\n",
              "       [ 1.29671369],\n",
              "       [ 0.42676916],\n",
              "       [ 1.30247133],\n",
              "       [-0.11686808],\n",
              "       [-0.56478963],\n",
              "       [-0.67891371],\n",
              "       [ 1.27937091],\n",
              "       [-0.99259119],\n",
              "       [-1.18031499],\n",
              "       [-0.77179291],\n",
              "       [ 1.25941783],\n",
              "       [ 1.29283021],\n",
              "       [ 0.50509151],\n",
              "       [ 0.52239625],\n",
              "       [ 1.29681995],\n",
              "       [-0.77179291],\n",
              "       [ 1.25941783]])"
            ]
          },
          "metadata": {
            "tags": []
          },
          "execution_count": 75
        }
      ]
    },
    {
      "cell_type": "code",
      "metadata": {
        "id": "g21bvPRYDL9k",
        "colab": {
          "base_uri": "https://localhost:8080/",
          "height": 284
        },
        "outputId": "a06fec39-8b3c-4f89-8729-a788171419f9"
      },
      "source": [
        "a=np.reshape(a,(9,2))\n",
        "\n",
        "plt.imshow(a)"
      ],
      "execution_count": 76,
      "outputs": [
        {
          "output_type": "execute_result",
          "data": {
            "text/plain": [
              "<matplotlib.image.AxesImage at 0x7fbc60aa8490>"
            ]
          },
          "metadata": {
            "tags": []
          },
          "execution_count": 76
        },
        {
          "output_type": "display_data",
          "data": {
            "image/png": "[encoded data removed]",
            "text/plain": [
              "<Figure size 432x288 with 1 Axes>"
            ]
          },
          "metadata": {
            "tags": [],
            "needs_background": "light"
          }
        }
      ]
    },
    {
      "cell_type": "code",
      "metadata": {
        "id": "OplNpNQVr0S2"
      },
      "source": [
        "desired_num = 2000\n",
        "mosaic_list_of_images =[]\n",
        "mosaic_label = []\n",
        "fore_idx=[]\n",
        "for j in range(desired_num):\n",
        "    np.random.seed(j)\n",
        "    fg_class  = np.random.randint(0,3)\n",
        "    fg_idx = np.random.randint(0,9)\n",
        "    a = []\n",
        "    for i in range(9):\n",
        "        if i == fg_idx:\n",
        "            b = np.random.choice(np.where(idx[fg_class]==True)[0],size=1)\n",
        "            a.append(x[b])\n",
        "#             print(\"foreground \"+str(fg_class)+\" present at \" + str(fg_idx))\n",
        "        else:\n",
        "            bg_class = np.random.randint(3,10)\n",
        "            b = np.random.choice(np.where(idx[bg_class]==True)[0],size=1)\n",
        "            a.append(x[b])\n",
        "#             print(\"background \"+str(bg_class)+\" present at \" + str(i))\n",
        "    a = np.concatenate(a,axis=0)\n",
        "    mosaic_list_of_images.append(a)\n",
        "    mosaic_label.append(fg_class)\n",
        "    fore_idx.append(fg_idx)"
      ],
      "execution_count": 77,
      "outputs": []
    },
    {
      "cell_type": "code",
      "metadata": {
        "id": "dwZVmmRBr0S8"
      },
      "source": [
        "# mosaic_list_of_images = np.concatenate(mosaic_list_of_images,axis=1).T\n"
      ],
      "execution_count": 78,
      "outputs": []
    },
    {
      "cell_type": "code",
      "metadata": {
        "colab": {
          "base_uri": "https://localhost:8080/"
        },
        "id": "OoxzYI-ur0S_",
        "outputId": "973e1739-962e-490c-8133-bee0cb64f16c"
      },
      "source": [
        "len(mosaic_list_of_images), mosaic_list_of_images[0]"
      ],
      "execution_count": 79,
      "outputs": [
        {
          "output_type": "execute_result",
          "data": {
            "text/plain": [
              "(2000, array([[-1.07390719, -1.04959598],\n",
              "        [-1.30547943, -0.083791  ],\n",
              "        [ 1.10227457, -0.5565904 ],\n",
              "        [ 1.44996512,  0.52630897],\n",
              "        [ 0.18635473, -1.38666417],\n",
              "        [-0.36332091,  0.57254869],\n",
              "        [-0.78873321,  1.29405413],\n",
              "        [ 0.18456746, -1.32037523],\n",
              "        [ 0.12342288, -1.3350683 ]]))"
            ]
          },
          "metadata": {
            "tags": []
          },
          "execution_count": 79
        }
      ]
    },
    {
      "cell_type": "code",
      "metadata": {
        "colab": {
          "base_uri": "https://localhost:8080/"
        },
        "id": "Nbefu9LEnMu1",
        "outputId": "15dc5068-21d3-4886-b24e-352e3768ca12"
      },
      "source": [
        "mosaic_list_of_images_reshaped = np.reshape(mosaic_list_of_images, (2000,9,2))\n",
        "mean_train = np.mean(mosaic_list_of_images_reshaped[0:1000], axis=0, keepdims= True)\n",
        "print(mean_train.shape, mean_train)\n",
        "std_train = np.std(mosaic_list_of_images_reshaped[0:1000], axis=0, keepdims= True)\n",
        "print(std_train.shape, std_train)\n",
        "\n"
      ],
      "execution_count": 80,
      "outputs": [
        {
          "output_type": "stream",
          "text": [
            "(1, 9, 2) [[[-0.00091134 -0.01372674]\n",
            "  [-0.02877574 -0.02152043]\n",
            "  [-0.00520837  0.06547125]\n",
            "  [-0.03554394  0.01373602]\n",
            "  [ 0.01552498  0.02695976]\n",
            "  [-0.00171322  0.01521314]\n",
            "  [-0.02198112  0.02614936]\n",
            "  [ 0.01290764  0.01348389]\n",
            "  [-0.03380197  0.0474266 ]]]\n",
            "(1, 9, 2) [[[0.94245893 0.95536707]\n",
            "  [0.96740227 0.93523879]\n",
            "  [0.95860262 0.95172886]\n",
            "  [0.94864166 0.94684499]\n",
            "  [0.95614031 0.9540087 ]\n",
            "  [0.94202831 0.96314958]\n",
            "  [0.95067679 0.96181555]\n",
            "  [0.96332572 0.94482655]\n",
            "  [0.95814854 0.95413414]]]\n"
          ],
          "name": "stdout"
        }
      ]
    },
    {
      "cell_type": "code",
      "metadata": {
        "id": "yldL3sUvnMsE"
      },
      "source": [
        "mosaic_list_of_images = ( mosaic_list_of_images_reshaped - mean_train ) / std_train"
      ],
      "execution_count": 81,
      "outputs": []
    },
    {
      "cell_type": "code",
      "metadata": {
        "colab": {
          "base_uri": "https://localhost:8080/"
        },
        "id": "qWboEmnwnX_r",
        "outputId": "b7035861-960b-4329-da30-a175de47e096"
      },
      "source": [
        "print(np.mean(mosaic_list_of_images[0:1000], axis=0, keepdims= True))\n",
        "\n",
        "print(np.std(mosaic_list_of_images[0:1000], axis=0, keepdims= True))"
      ],
      "execution_count": 82,
      "outputs": [
        {
          "output_type": "stream",
          "text": [
            "[[[ 4.19664303e-17  8.26491653e-17]\n",
            "  [ 2.22044605e-18  8.81517082e-17]\n",
            "  [-2.73114864e-17  8.91786645e-17]\n",
            "  [ 3.08642001e-17  1.55431223e-17]\n",
            "  [ 1.37667655e-17  6.35047570e-17]\n",
            "  [-1.07136522e-17 -1.33226763e-18]\n",
            "  [-1.17683641e-17  6.90558721e-17]\n",
            "  [ 2.10942375e-17  3.48610030e-17]\n",
            "  [ 5.71764858e-18  5.99520433e-18]]]\n",
            "[[[1. 1.]\n",
            "  [1. 1.]\n",
            "  [1. 1.]\n",
            "  [1. 1.]\n",
            "  [1. 1.]\n",
            "  [1. 1.]\n",
            "  [1. 1.]\n",
            "  [1. 1.]\n",
            "  [1. 1.]]]\n"
          ],
          "name": "stdout"
        }
      ]
    },
    {
      "cell_type": "code",
      "metadata": {
        "colab": {
          "base_uri": "https://localhost:8080/"
        },
        "id": "88zCElC_naib",
        "outputId": "35fb38a3-3e0c-4308-f984-84af5743a201"
      },
      "source": [
        "print(np.mean(mosaic_list_of_images[1000:2000], axis=0, keepdims= True))\n",
        "\n",
        "print(np.std(mosaic_list_of_images[1000:2000], axis=0, keepdims= True))"
      ],
      "execution_count": 83,
      "outputs": [
        {
          "output_type": "stream",
          "text": [
            "[[[-0.00435687  0.01956028]\n",
            "  [-0.00276658  0.04369773]\n",
            "  [-0.03595604 -0.01508983]\n",
            "  [ 0.05742033  0.03936944]\n",
            "  [-0.06289439 -0.07380817]\n",
            "  [-0.01345213  0.01845823]\n",
            "  [ 0.02320087  0.00698361]\n",
            "  [-0.04835101 -0.03809661]\n",
            "  [ 0.01004234 -0.05191196]]]\n",
            "[[[1.01381802 0.98870217]\n",
            "  [0.97608663 1.01079165]\n",
            "  [0.99343711 0.99770581]\n",
            "  [1.01611941 0.98141548]\n",
            "  [0.98713646 1.02611697]\n",
            "  [1.02006813 0.9833436 ]\n",
            "  [1.00259577 0.99301369]\n",
            "  [0.97836287 1.03467242]\n",
            "  [0.99287618 1.00493266]]]\n"
          ],
          "name": "stdout"
        }
      ]
    },
    {
      "cell_type": "code",
      "metadata": {
        "colab": {
          "base_uri": "https://localhost:8080/"
        },
        "id": "3DE8AXVAngEj",
        "outputId": "8d7cad0f-b92b-4769-a1ac-f901b111f553"
      },
      "source": [
        "mosaic_list_of_images.shape"
      ],
      "execution_count": 84,
      "outputs": [
        {
          "output_type": "execute_result",
          "data": {
            "text/plain": [
              "(2000, 9, 2)"
            ]
          },
          "metadata": {
            "tags": []
          },
          "execution_count": 84
        }
      ]
    },
    {
      "cell_type": "code",
      "metadata": {
        "id": "iPoIwbMHx44n"
      },
      "source": [
        "class MosaicDataset(Dataset):\n",
        "  \"\"\"MosaicDataset dataset.\"\"\"\n",
        "\n",
        "  def __init__(self, mosaic_list_of_images, mosaic_label, fore_idx):\n",
        "    \"\"\"\n",
        "      Args:\n",
        "        csv_file (string): Path to the csv file with annotations.\n",
        "        root_dir (string): Directory with all the images.\n",
        "        transform (callable, optional): Optional transform to be applied\n",
        "            on a sample.\n",
        "    \"\"\"\n",
        "    self.mosaic = mosaic_list_of_images\n",
        "    self.label = mosaic_label\n",
        "    self.fore_idx = fore_idx\n",
        "\n",
        "  def __len__(self):\n",
        "    return len(self.label)\n",
        "\n",
        "  def __getitem__(self, idx):\n",
        "    return self.mosaic[idx] , self.label[idx], self.fore_idx[idx]\n",
        "\n"
      ],
      "execution_count": 85,
      "outputs": []
    },
    {
      "cell_type": "code",
      "metadata": {
        "id": "fOPAJQJeW8Ah"
      },
      "source": [
        "batch = 250\n",
        "msd1 = MosaicDataset(mosaic_list_of_images[0:1000], mosaic_label[0:1000] , fore_idx[0:1000])\n",
        "train_loader = DataLoader( msd1 ,batch_size= batch ,shuffle=True)"
      ],
      "execution_count": 86,
      "outputs": []
    },
    {
      "cell_type": "code",
      "metadata": {
        "id": "qjNiQgxZW8bA"
      },
      "source": [
        "batch = 250\n",
        "msd2 = MosaicDataset(mosaic_list_of_images[1000:2000], mosaic_label[1000:2000] , fore_idx[1000:2000])\n",
        "test_loader = DataLoader( msd2 ,batch_size= batch ,shuffle=True)"
      ],
      "execution_count": 87,
      "outputs": []
    },
    {
      "cell_type": "code",
      "metadata": {
        "id": "30ZAjix3x8CM"
      },
      "source": [
        "class Focus(nn.Module):\n",
        "  def __init__(self):\n",
        "    super(Focus, self).__init__()\n",
        "\n",
        "    self.fc1 = nn.Linear(2, 1, bias=False)\n",
        "    torch.nn.init.zeros_(self.fc1.weight)\n",
        "    # self.fc2 = nn.Linear(50, 10)\n",
        "    # self.fc3 = nn.Linear(10, 1)\n",
        "\n",
        "  def forward(self,z):  #y is avg image #z batch of list of 9 images\n",
        "    y = torch.zeros([batch,2], dtype=torch.float64)\n",
        "    x = torch.zeros([batch,9],dtype=torch.float64)\n",
        "    y = y.to(\"cuda\")\n",
        "    x = x.to(\"cuda\")\n",
        "    # print(x.shape, z.shape)\n",
        "    for i in range(9):\n",
        "      # print(z[:,i].shape)\n",
        "      # print(self.helper(z[:,i])[:,0].shape)\n",
        "      x[:,i] = self.helper(z[:,i])[:,0]\n",
        "    # print(x.shape, z.shape)\n",
        "    x = F.softmax(x,dim=1)\n",
        "    # print(x.shape, z.shape)\n",
        "    # x1 = x[:,0]\n",
        "    # print(torch.mul(x[:,0],z[:,0]).shape)\n",
        "\n",
        "    for i in range(9):            \n",
        "      # x1 = x[:,i]          \n",
        "      y = y + torch.mul(x[:,i,None],z[:,i])\n",
        "\n",
        "    # print(x.shape, y.shape)\n",
        "    return x, y\n",
        "    \n",
        "  def helper(self, x):\n",
        "    x = x.view(-1, 2)\n",
        "    # x = F.relu(self.fc1(x))\n",
        "    # x = F.relu(self.fc2(x))\n",
        "    x = (self.fc1(x))\n",
        "\n",
        "    return x"
      ],
      "execution_count": 88,
      "outputs": []
    },
    {
      "cell_type": "code",
      "metadata": {
        "id": "0dYXnywAD-4l"
      },
      "source": [
        "class Classification(nn.Module):\n",
        "  def __init__(self):\n",
        "    super(Classification, self).__init__()\n",
        "    self.fc1 = nn.Linear(2, 50)\n",
        "    self.fc2 = nn.Linear(50, 10)\n",
        "    self.fc3 = nn.Linear(10, 3)\n",
        "    torch.nn.init.xavier_normal_(self.fc1.weight)\n",
        "    torch.nn.init.zeros_(self.fc1.bias)\n",
        "    torch.nn.init.xavier_normal_(self.fc2.weight)\n",
        "    torch.nn.init.zeros_(self.fc2.bias)\n",
        "    torch.nn.init.xavier_normal_(self.fc3.weight)\n",
        "    torch.nn.init.zeros_(self.fc3.bias)\n",
        "\n",
        "\n",
        "  def forward(self, x):\n",
        "    x = x.view(-1, 2)\n",
        "    x = F.relu(self.fc1(x))\n",
        "    x = F.relu(self.fc2(x))\n",
        "    x = (self.fc3(x))\n",
        "    return x"
      ],
      "execution_count": 89,
      "outputs": []
    },
    {
      "cell_type": "code",
      "metadata": {
        "id": "lSa6O9f6XNf4"
      },
      "source": [
        "torch.manual_seed(12)\n",
        "focus_net = Focus().double()\n",
        "focus_net = focus_net.to(\"cuda\")"
      ],
      "execution_count": 90,
      "outputs": []
    },
    {
      "cell_type": "code",
      "metadata": {
        "id": "36k3H2G-XO9A"
      },
      "source": [
        "torch.manual_seed(12)\n",
        "classify = Classification().double()\n",
        "classify = classify.to(\"cuda\")"
      ],
      "execution_count": 91,
      "outputs": []
    },
    {
      "cell_type": "code",
      "metadata": {
        "colab": {
          "base_uri": "https://localhost:8080/"
        },
        "id": "hOJ8NP14n6Eb",
        "outputId": "b037be4a-b1e5-43ab-e33d-997555ce5d86"
      },
      "source": [
        "focus_net.helper( torch.randn((1,9,2)).double().to(\"cuda\") )"
      ],
      "execution_count": 92,
      "outputs": [
        {
          "output_type": "execute_result",
          "data": {
            "text/plain": [
              "tensor([[0.],\n",
              "        [0.],\n",
              "        [0.],\n",
              "        [0.],\n",
              "        [0.],\n",
              "        [0.],\n",
              "        [0.],\n",
              "        [0.],\n",
              "        [0.]], device='cuda:0', dtype=torch.float64, grad_fn=<MmBackward>)"
            ]
          },
          "metadata": {
            "tags": []
          },
          "execution_count": 92
        }
      ]
    },
    {
      "cell_type": "code",
      "metadata": {
        "colab": {
          "base_uri": "https://localhost:8080/"
        },
        "id": "estYkNt8oKhL",
        "outputId": "5869d1c0-5c18-4406-eda7-c7c5df590232"
      },
      "source": [
        "focus_net.fc1.weight"
      ],
      "execution_count": 93,
      "outputs": [
        {
          "output_type": "execute_result",
          "data": {
            "text/plain": [
              "Parameter containing:\n",
              "tensor([[0., 0.]], device='cuda:0', dtype=torch.float64, requires_grad=True)"
            ]
          },
          "metadata": {
            "tags": []
          },
          "execution_count": 93
        }
      ]
    },
    {
      "cell_type": "code",
      "metadata": {
        "colab": {
          "base_uri": "https://localhost:8080/"
        },
        "id": "TNA0bvAeoEpU",
        "outputId": "efcacd36-7c95-4302-c61b-d36a95f2b06a"
      },
      "source": [
        "classify.fc1.weight, classify.fc1.bias, classify.fc1.weight.shape"
      ],
      "execution_count": 94,
      "outputs": [
        {
          "output_type": "execute_result",
          "data": {
            "text/plain": [
              "(Parameter containing:\n",
              " tensor([[-0.0613,  0.2164],\n",
              "         [-0.0953,  0.1494],\n",
              "         [-0.1151, -0.0352],\n",
              "         [ 0.0861,  0.1468],\n",
              "         [ 0.1764,  0.0064],\n",
              "         [ 0.3295, -0.0229],\n",
              "         [ 0.1412,  0.0129],\n",
              "         [ 0.0870, -0.1923],\n",
              "         [ 0.1262, -0.0090],\n",
              "         [ 0.0823, -0.0520],\n",
              "         [-0.2655,  0.1826],\n",
              "         [-0.0446,  0.0966],\n",
              "         [ 0.0981, -0.3714],\n",
              "         [ 0.0571,  0.3428],\n",
              "         [ 0.0068,  0.0859],\n",
              "         [ 0.1727,  0.0149],\n",
              "         [-0.2057, -0.0820],\n",
              "         [ 0.0142, -0.1318],\n",
              "         [ 0.2629,  0.0146],\n",
              "         [-0.0523, -0.2022],\n",
              "         [-0.0810,  0.1783],\n",
              "         [ 0.0920,  0.1911],\n",
              "         [ 0.3542,  0.0953],\n",
              "         [ 0.4159, -0.2334],\n",
              "         [ 0.0363,  0.0841],\n",
              "         [-0.1354, -0.0821],\n",
              "         [ 0.3490, -0.2147],\n",
              "         [-0.0150, -0.1926],\n",
              "         [ 0.1216, -0.2883],\n",
              "         [ 0.1449, -0.2849],\n",
              "         [-0.1218,  0.1974],\n",
              "         [-0.0958,  0.1638],\n",
              "         [-0.1725, -0.1064],\n",
              "         [-0.0082, -0.0564],\n",
              "         [-0.0573, -0.1745],\n",
              "         [ 0.0746, -0.2809],\n",
              "         [-0.3306,  0.0876],\n",
              "         [ 0.4500, -0.1716],\n",
              "         [-0.0253, -0.0712],\n",
              "         [ 0.0165,  0.1432],\n",
              "         [-0.0515,  0.1756],\n",
              "         [ 0.2741, -0.4357],\n",
              "         [ 0.3721, -0.0302],\n",
              "         [-0.2256,  0.0690],\n",
              "         [-0.0510, -0.2862],\n",
              "         [-0.0119, -0.0211],\n",
              "         [ 0.1118,  0.0599],\n",
              "         [-0.3986, -0.0513],\n",
              "         [ 0.2415,  0.0874],\n",
              "         [-0.2672,  0.1087]], device='cuda:0', dtype=torch.float64,\n",
              "        requires_grad=True), Parameter containing:\n",
              " tensor([0., 0., 0., 0., 0., 0., 0., 0., 0., 0., 0., 0., 0., 0., 0., 0., 0., 0., 0., 0., 0., 0., 0., 0.,\n",
              "         0., 0., 0., 0., 0., 0., 0., 0., 0., 0., 0., 0., 0., 0., 0., 0., 0., 0., 0., 0., 0., 0., 0., 0.,\n",
              "         0., 0.], device='cuda:0', dtype=torch.float64, requires_grad=True), torch.Size([50, 2]))"
            ]
          },
          "metadata": {
            "tags": []
          },
          "execution_count": 94
        }
      ]
    },
    {
      "cell_type": "code",
      "metadata": {
        "id": "7MHBbL7FXRQk"
      },
      "source": [
        "import torch.optim as optim\n",
        "criterion = nn.CrossEntropyLoss()\n",
        "optimizer_classify = optim.Adam(classify.parameters(), lr=0.01 ) #, momentum=0.9)\n",
        "optimizer_focus = optim.Adam(focus_net.parameters(), lr=0.01 ) #, momentum=0.9)"
      ],
      "execution_count": 95,
      "outputs": []
    },
    {
      "cell_type": "code",
      "metadata": {
        "id": "pjD2VZuV9Ed4"
      },
      "source": [
        "col1=[]\n",
        "col2=[]\n",
        "col3=[]\n",
        "col4=[]\n",
        "col5=[]\n",
        "col6=[]\n",
        "col7=[]\n",
        "col8=[]\n",
        "col9=[]\n",
        "col10=[]\n",
        "col11=[]\n",
        "col12=[]\n",
        "col13=[]"
      ],
      "execution_count": 96,
      "outputs": []
    },
    {
      "cell_type": "code",
      "metadata": {
        "id": "uALi25pmzQHV",
        "colab": {
          "base_uri": "https://localhost:8080/"
        },
        "outputId": "57a01816-aed1-443c-810c-5c42bf1fe133"
      },
      "source": [
        "correct = 0\n",
        "total = 0\n",
        "count = 0\n",
        "flag = 1\n",
        "focus_true_pred_true =0\n",
        "focus_false_pred_true =0\n",
        "focus_true_pred_false =0\n",
        "focus_false_pred_false =0\n",
        "\n",
        "argmax_more_than_half = 0\n",
        "argmax_less_than_half =0\n",
        "\n",
        "with torch.no_grad():\n",
        "  for data in train_loader:\n",
        "    inputs, labels , fore_idx = data\n",
        "    inputs = inputs.double()\n",
        "    inputs, labels , fore_idx = inputs.to(\"cuda\"),labels.to(\"cuda\"), fore_idx.to(\"cuda\")\n",
        "    alphas, avg_images = focus_net(inputs)\n",
        "    outputs = classify(avg_images)\n",
        "    # print(outputs.shape)\n",
        "    _, predicted = torch.max(outputs.data, 1)\n",
        "    # print(predicted.shape)\n",
        "\n",
        "    for j in range(labels.size(0)):\n",
        "      count += 1\n",
        "      focus = torch.argmax(alphas[j])\n",
        "      if alphas[j][focus] >= 0.5 :\n",
        "        argmax_more_than_half += 1\n",
        "      else:\n",
        "        argmax_less_than_half += 1\n",
        "\n",
        "      # print(focus, fore_idx[j], predicted[j])\n",
        "      if(focus == fore_idx[j] and predicted[j] == labels[j]):\n",
        "          focus_true_pred_true += 1\n",
        "      elif(focus != fore_idx[j] and predicted[j] == labels[j]):\n",
        "        focus_false_pred_true += 1\n",
        "      elif(focus == fore_idx[j] and predicted[j] != labels[j]):\n",
        "        focus_true_pred_false += 1\n",
        "      elif(focus != fore_idx[j] and predicted[j] != labels[j]):\n",
        "        focus_false_pred_false += 1\n",
        "\n",
        "    total += labels.size(0)\n",
        "    correct += (predicted == labels).sum().item()\n",
        "\n",
        "print('Accuracy of the network on the 1000 train images: %d %%' % ( 100 * correct / total))\n",
        "print(\"total correct\", correct)\n",
        "print(\"total train set images\", total)\n",
        "\n",
        "print(\"focus_true_pred_true %d =============> FTPT : %d %%\" % (focus_true_pred_true , (100 * focus_true_pred_true / total) ) )\n",
        "print(\"focus_false_pred_true %d =============> FFPT : %d %%\" % (focus_false_pred_true, (100 * focus_false_pred_true / total) ) )\n",
        "print(\"focus_true_pred_false %d =============> FTPF : %d %%\" %( focus_true_pred_false , ( 100 * focus_true_pred_false / total) ) )\n",
        "print(\"focus_false_pred_false %d =============> FFPF : %d %%\" % (focus_false_pred_false, ( 100 * focus_false_pred_false / total) ) )\n",
        "\n",
        "print(\"argmax_more_than_half ==================> \",argmax_more_than_half)\n",
        "print(\"argmax_less_than_half ==================> \",argmax_less_than_half)\n",
        "print(count)\n",
        "\n",
        "print(\"=\"*100)\n",
        "\n",
        "col1.append(0)\n",
        "col2.append(argmax_more_than_half)\n",
        "col3.append(argmax_less_than_half)\n",
        "col4.append(focus_true_pred_true)\n",
        "col5.append(focus_false_pred_true)\n",
        "col6.append(focus_true_pred_false)\n",
        "col7.append(focus_false_pred_false)"
      ],
      "execution_count": 97,
      "outputs": [
        {
          "output_type": "stream",
          "text": [
            "Accuracy of the network on the 1000 train images: 28 %\n",
            "total correct 280\n",
            "total train set images 1000\n",
            "focus_true_pred_true 30 =============> FTPT : 3 %\n",
            "focus_false_pred_true 250 =============> FFPT : 25 %\n",
            "focus_true_pred_false 90 =============> FTPF : 9 %\n",
            "focus_false_pred_false 630 =============> FFPF : 63 %\n",
            "argmax_more_than_half ==================>  0\n",
            "argmax_less_than_half ==================>  1000\n",
            "1000\n",
            "====================================================================================================\n"
          ],
          "name": "stdout"
        }
      ]
    },
    {
      "cell_type": "code",
      "metadata": {
        "id": "4vmNprlPzTjP",
        "colab": {
          "base_uri": "https://localhost:8080/"
        },
        "outputId": "a60328d0-4368-4e4c-ce40-a6368e1d3142"
      },
      "source": [
        "correct = 0\n",
        "total = 0\n",
        "count = 0\n",
        "flag = 1\n",
        "focus_true_pred_true =0\n",
        "focus_false_pred_true =0\n",
        "focus_true_pred_false =0\n",
        "focus_false_pred_false =0\n",
        "\n",
        "argmax_more_than_half = 0\n",
        "argmax_less_than_half =0\n",
        "\n",
        "with torch.no_grad():\n",
        "  for data in test_loader:\n",
        "    inputs, labels , fore_idx = data\n",
        "    inputs = inputs.double()\n",
        "    inputs, labels , fore_idx = inputs.to(\"cuda\"),labels.to(\"cuda\"), fore_idx.to(\"cuda\")\n",
        "    alphas, avg_images = focus_net(inputs)\n",
        "    outputs = classify(avg_images)\n",
        "\n",
        "    _, predicted = torch.max(outputs.data, 1)\n",
        "\n",
        "    for j in range(labels.size(0)):\n",
        "      focus = torch.argmax(alphas[j])\n",
        "      if alphas[j][focus] >= 0.5 :\n",
        "        argmax_more_than_half += 1\n",
        "      else:\n",
        "        argmax_less_than_half += 1\n",
        "\n",
        "      if(focus == fore_idx[j] and predicted[j] == labels[j]):\n",
        "          focus_true_pred_true += 1\n",
        "      elif(focus != fore_idx[j] and predicted[j] == labels[j]):\n",
        "        focus_false_pred_true += 1\n",
        "      elif(focus == fore_idx[j] and predicted[j] != labels[j]):\n",
        "        focus_true_pred_false += 1\n",
        "      elif(focus != fore_idx[j] and predicted[j] != labels[j]):\n",
        "        focus_false_pred_false += 1\n",
        "\n",
        "    total += labels.size(0)\n",
        "    correct += (predicted == labels).sum().item()\n",
        "\n",
        "print('Accuracy of the network on the 1000 test images: %d %%' % (\n",
        "    100 * correct / total))\n",
        "print(\"total correct\", correct)\n",
        "print(\"total train set images\", total)\n",
        "\n",
        "print(\"focus_true_pred_true %d =============> FTPT : %d %%\" % (focus_true_pred_true , (100 * focus_true_pred_true / total) ) )\n",
        "print(\"focus_false_pred_true %d =============> FFPT : %d %%\" % (focus_false_pred_true, (100 * focus_false_pred_true / total) ) )\n",
        "print(\"focus_true_pred_false %d =============> FTPF : %d %%\" %( focus_true_pred_false , ( 100 * focus_true_pred_false / total) ) )\n",
        "print(\"focus_false_pred_false %d =============> FFPF : %d %%\" % (focus_false_pred_false, ( 100 * focus_false_pred_false / total) ) )\n",
        "\n",
        "print(\"argmax_more_than_half ==================> \",argmax_more_than_half)\n",
        "print(\"argmax_less_than_half ==================> \",argmax_less_than_half)\n",
        "col8.append(argmax_more_than_half)\n",
        "col9.append(argmax_less_than_half)\n",
        "col10.append(focus_true_pred_true)\n",
        "col11.append(focus_false_pred_true)\n",
        "col12.append(focus_true_pred_false)\n",
        "col13.append(focus_false_pred_false)"
      ],
      "execution_count": 98,
      "outputs": [
        {
          "output_type": "stream",
          "text": [
            "Accuracy of the network on the 1000 test images: 27 %\n",
            "total correct 274\n",
            "total train set images 1000\n",
            "focus_true_pred_true 37 =============> FTPT : 3 %\n",
            "focus_false_pred_true 237 =============> FFPT : 23 %\n",
            "focus_true_pred_false 79 =============> FTPF : 7 %\n",
            "focus_false_pred_false 647 =============> FFPF : 64 %\n",
            "argmax_more_than_half ==================>  0\n",
            "argmax_less_than_half ==================>  1000\n"
          ],
          "name": "stdout"
        }
      ]
    },
    {
      "cell_type": "code",
      "metadata": {
        "id": "Yl41sE8vFERk",
        "colab": {
          "base_uri": "https://localhost:8080/"
        },
        "outputId": "5f1dfd28-3dc7-452b-ba54-fd9c78b86cb4"
      },
      "source": [
        "nos_epochs = 1000\n",
        "focus_true_pred_true =0\n",
        "focus_false_pred_true =0\n",
        "focus_true_pred_false =0\n",
        "focus_false_pred_false =0\n",
        "\n",
        "argmax_more_than_half = 0\n",
        "argmax_less_than_half =0\n",
        "\n",
        "\n",
        "for epoch in range(nos_epochs):  # loop over the dataset multiple times\n",
        "\n",
        "  focus_true_pred_true =0\n",
        "  focus_false_pred_true =0\n",
        "  focus_true_pred_false =0\n",
        "  focus_false_pred_false =0\n",
        "  \n",
        "  argmax_more_than_half = 0\n",
        "  argmax_less_than_half =0\n",
        "  \n",
        "  running_loss = 0.0\n",
        "  epoch_loss = []\n",
        "  cnt=0\n",
        "\n",
        "  iteration = desired_num // batch\n",
        "  \n",
        "  #training data set\n",
        "  \n",
        "  for i, data in  enumerate(train_loader):\n",
        "    inputs , labels , fore_idx = data\n",
        "    inputs, labels = inputs.to(\"cuda\"), labels.to(\"cuda\")\n",
        "    inputs = inputs.double()\n",
        "    # zero the parameter gradients\n",
        "    \n",
        "    optimizer_focus.zero_grad()\n",
        "    optimizer_classify.zero_grad()\n",
        "    \n",
        "    alphas, avg_images = focus_net(inputs)\n",
        "    outputs = classify(avg_images)\n",
        "\n",
        "    _, predicted = torch.max(outputs.data, 1)\n",
        "#     print(outputs)\n",
        "#     print(outputs.shape,labels.shape , torch.argmax(outputs, dim=1))\n",
        "\n",
        "    loss = criterion(outputs, labels) \n",
        "    loss.backward()\n",
        "    optimizer_focus.step()\n",
        "    optimizer_classify.step()\n",
        "\n",
        "    running_loss += loss.item()\n",
        "    mini = 3\n",
        "    if cnt % mini == mini-1:    # print every 40 mini-batches\n",
        "      print('[%d, %5d] loss: %.3f' %(epoch + 1, cnt + 1, running_loss / mini))\n",
        "      epoch_loss.append(running_loss/mini)\n",
        "      running_loss = 0.0\n",
        "    cnt=cnt+1\n",
        "    \n",
        "    if epoch % 5 == 0:\n",
        "      for j in range (batch):\n",
        "        focus = torch.argmax(alphas[j])\n",
        "\n",
        "        if(alphas[j][focus] >= 0.5):\n",
        "          argmax_more_than_half +=1\n",
        "        else:\n",
        "          argmax_less_than_half +=1\n",
        "\n",
        "        if(focus == fore_idx[j] and predicted[j] == labels[j]):\n",
        "          focus_true_pred_true += 1\n",
        "\n",
        "        elif(focus != fore_idx[j] and predicted[j] == labels[j]):\n",
        "          focus_false_pred_true +=1\n",
        "\n",
        "        elif(focus == fore_idx[j] and predicted[j] != labels[j]):\n",
        "          focus_true_pred_false +=1\n",
        "\n",
        "        elif(focus != fore_idx[j] and predicted[j] != labels[j]):\n",
        "          focus_false_pred_false +=1\n",
        "\n",
        "  if(np.mean(epoch_loss) <= 0.001):\n",
        "      break;\n",
        "\n",
        "  if epoch % 5 == 0:\n",
        "    col1.append(epoch + 1)\n",
        "    col2.append(argmax_more_than_half)\n",
        "    col3.append(argmax_less_than_half)\n",
        "    col4.append(focus_true_pred_true)\n",
        "    col5.append(focus_false_pred_true)\n",
        "    col6.append(focus_true_pred_false)\n",
        "    col7.append(focus_false_pred_false)\n",
        "    # print(\"=\"*20)\n",
        "    # print(\"Train FTPT : \", col4)\n",
        "    # print(\"Train FFPT : \", col5)\n",
        "    #************************************************************************\n",
        "    #testing data set  \n",
        "    # focus_net.eval()\n",
        "    with torch.no_grad():\n",
        "      focus_true_pred_true =0\n",
        "      focus_false_pred_true =0\n",
        "      focus_true_pred_false =0\n",
        "      focus_false_pred_false =0\n",
        "\n",
        "      argmax_more_than_half = 0\n",
        "      argmax_less_than_half =0\n",
        "      for data in test_loader:\n",
        "        inputs, labels , fore_idx = data\n",
        "        inputs = inputs.double()\n",
        "        inputs, labels = inputs.to(\"cuda\"), labels.to(\"cuda\")\n",
        "        alphas, avg_images = focus_net(inputs)\n",
        "        outputs = classify(avg_images)\n",
        "        _, predicted = torch.max(outputs.data, 1)\n",
        "\n",
        "        for j in range (batch):\n",
        "          focus = torch.argmax(alphas[j])\n",
        "\n",
        "          if(alphas[j][focus] >= 0.5):\n",
        "            argmax_more_than_half +=1\n",
        "          else:\n",
        "            argmax_less_than_half +=1\n",
        "\n",
        "          if(focus == fore_idx[j] and predicted[j] == labels[j]):\n",
        "            focus_true_pred_true += 1\n",
        "\n",
        "          elif(focus != fore_idx[j] and predicted[j] == labels[j]):\n",
        "            focus_false_pred_true +=1\n",
        "\n",
        "          elif(focus == fore_idx[j] and predicted[j] != labels[j]):\n",
        "            focus_true_pred_false +=1\n",
        "\n",
        "          elif(focus != fore_idx[j] and predicted[j] != labels[j]):\n",
        "            focus_false_pred_false +=1\n",
        "      \n",
        "    col8.append(argmax_more_than_half)\n",
        "    col9.append(argmax_less_than_half)\n",
        "    col10.append(focus_true_pred_true)\n",
        "    col11.append(focus_false_pred_true)\n",
        "    col12.append(focus_true_pred_false)\n",
        "    col13.append(focus_false_pred_false)\n",
        "    # print(\"Test FTPT : \", col10)\n",
        "    # print(\"Test FFPT : \", col11)\n",
        "    # print(\"=\"*20)\n",
        "    \n",
        "print('Finished Training')"
      ],
      "execution_count": 99,
      "outputs": [
        {
          "output_type": "stream",
          "text": [
            "[1,     3] loss: 1.092\n",
            "[2,     3] loss: 1.088\n",
            "[3,     3] loss: 1.079\n",
            "[4,     3] loss: 1.066\n",
            "[5,     3] loss: 1.068\n",
            "[6,     3] loss: 1.077\n",
            "[7,     3] loss: 1.066\n",
            "[8,     3] loss: 1.068\n",
            "[9,     3] loss: 1.072\n",
            "[10,     3] loss: 1.063\n",
            "[11,     3] loss: 1.066\n",
            "[12,     3] loss: 1.061\n",
            "[13,     3] loss: 1.062\n",
            "[14,     3] loss: 1.062\n",
            "[15,     3] loss: 1.067\n",
            "[16,     3] loss: 1.065\n",
            "[17,     3] loss: 1.067\n",
            "[18,     3] loss: 1.059\n",
            "[19,     3] loss: 1.060\n",
            "[20,     3] loss: 1.053\n",
            "[21,     3] loss: 1.054\n",
            "[22,     3] loss: 1.055\n",
            "[23,     3] loss: 1.050\n",
            "[24,     3] loss: 1.062\n",
            "[25,     3] loss: 1.059\n",
            "[26,     3] loss: 1.060\n",
            "[27,     3] loss: 1.057\n",
            "[28,     3] loss: 1.051\n",
            "[29,     3] loss: 1.061\n",
            "[30,     3] loss: 1.051\n",
            "[31,     3] loss: 1.061\n",
            "[32,     3] loss: 1.051\n",
            "[33,     3] loss: 1.067\n",
            "[34,     3] loss: 1.050\n",
            "[35,     3] loss: 1.056\n",
            "[36,     3] loss: 1.050\n",
            "[37,     3] loss: 1.055\n",
            "[38,     3] loss: 1.060\n",
            "[39,     3] loss: 1.049\n",
            "[40,     3] loss: 1.059\n",
            "[41,     3] loss: 1.061\n",
            "[42,     3] loss: 1.058\n",
            "[43,     3] loss: 1.049\n",
            "[44,     3] loss: 1.060\n",
            "[45,     3] loss: 1.049\n",
            "[46,     3] loss: 1.055\n",
            "[47,     3] loss: 1.055\n",
            "[48,     3] loss: 1.058\n",
            "[49,     3] loss: 1.052\n",
            "[50,     3] loss: 1.050\n",
            "[51,     3] loss: 1.055\n",
            "[52,     3] loss: 1.045\n",
            "[53,     3] loss: 1.053\n",
            "[54,     3] loss: 1.048\n",
            "[55,     3] loss: 1.041\n",
            "[56,     3] loss: 1.062\n",
            "[57,     3] loss: 1.050\n",
            "[58,     3] loss: 1.039\n",
            "[59,     3] loss: 1.054\n",
            "[60,     3] loss: 1.051\n",
            "[61,     3] loss: 1.048\n",
            "[62,     3] loss: 1.042\n",
            "[63,     3] loss: 1.050\n",
            "[64,     3] loss: 1.053\n",
            "[65,     3] loss: 1.047\n",
            "[66,     3] loss: 1.051\n",
            "[67,     3] loss: 1.054\n",
            "[68,     3] loss: 1.051\n",
            "[69,     3] loss: 1.051\n",
            "[70,     3] loss: 1.050\n",
            "[71,     3] loss: 1.046\n",
            "[72,     3] loss: 1.044\n",
            "[73,     3] loss: 1.052\n",
            "[74,     3] loss: 1.049\n",
            "[75,     3] loss: 1.057\n",
            "[76,     3] loss: 1.043\n",
            "[77,     3] loss: 1.055\n",
            "[78,     3] loss: 1.047\n",
            "[79,     3] loss: 1.059\n",
            "[80,     3] loss: 1.051\n",
            "[81,     3] loss: 1.049\n",
            "[82,     3] loss: 1.048\n",
            "[83,     3] loss: 1.057\n",
            "[84,     3] loss: 1.054\n",
            "[85,     3] loss: 1.055\n",
            "[86,     3] loss: 1.046\n",
            "[87,     3] loss: 1.041\n",
            "[88,     3] loss: 1.058\n",
            "[89,     3] loss: 1.035\n",
            "[90,     3] loss: 1.046\n",
            "[91,     3] loss: 1.040\n",
            "[92,     3] loss: 1.046\n",
            "[93,     3] loss: 1.049\n",
            "[94,     3] loss: 1.042\n",
            "[95,     3] loss: 1.048\n",
            "[96,     3] loss: 1.050\n",
            "[97,     3] loss: 1.043\n",
            "[98,     3] loss: 1.040\n",
            "[99,     3] loss: 1.053\n",
            "[100,     3] loss: 1.047\n",
            "[101,     3] loss: 1.038\n",
            "[102,     3] loss: 1.047\n",
            "[103,     3] loss: 1.047\n",
            "[104,     3] loss: 1.038\n",
            "[105,     3] loss: 1.043\n",
            "[106,     3] loss: 1.054\n",
            "[107,     3] loss: 1.044\n",
            "[108,     3] loss: 1.051\n",
            "[109,     3] loss: 1.043\n",
            "[110,     3] loss: 1.050\n",
            "[111,     3] loss: 1.048\n",
            "[112,     3] loss: 1.052\n",
            "[113,     3] loss: 1.044\n",
            "[114,     3] loss: 1.043\n",
            "[115,     3] loss: 1.043\n",
            "[116,     3] loss: 1.038\n",
            "[117,     3] loss: 1.040\n",
            "[118,     3] loss: 1.046\n",
            "[119,     3] loss: 1.051\n",
            "[120,     3] loss: 1.054\n",
            "[121,     3] loss: 1.040\n",
            "[122,     3] loss: 1.048\n",
            "[123,     3] loss: 1.051\n",
            "[124,     3] loss: 1.040\n",
            "[125,     3] loss: 1.052\n",
            "[126,     3] loss: 1.044\n",
            "[127,     3] loss: 1.051\n",
            "[128,     3] loss: 1.047\n",
            "[129,     3] loss: 1.041\n",
            "[130,     3] loss: 1.038\n",
            "[131,     3] loss: 1.047\n",
            "[132,     3] loss: 1.041\n",
            "[133,     3] loss: 1.047\n",
            "[134,     3] loss: 1.047\n",
            "[135,     3] loss: 1.043\n",
            "[136,     3] loss: 1.044\n",
            "[137,     3] loss: 1.043\n",
            "[138,     3] loss: 1.050\n",
            "[139,     3] loss: 1.044\n",
            "[140,     3] loss: 1.037\n",
            "[141,     3] loss: 1.035\n",
            "[142,     3] loss: 1.038\n",
            "[143,     3] loss: 1.035\n",
            "[144,     3] loss: 1.049\n",
            "[145,     3] loss: 1.055\n",
            "[146,     3] loss: 1.046\n",
            "[147,     3] loss: 1.038\n",
            "[148,     3] loss: 1.040\n",
            "[149,     3] loss: 1.034\n",
            "[150,     3] loss: 1.043\n",
            "[151,     3] loss: 1.038\n",
            "[152,     3] loss: 1.045\n",
            "[153,     3] loss: 1.054\n",
            "[154,     3] loss: 1.041\n",
            "[155,     3] loss: 1.044\n",
            "[156,     3] loss: 1.046\n",
            "[157,     3] loss: 1.040\n",
            "[158,     3] loss: 1.045\n",
            "[159,     3] loss: 1.040\n",
            "[160,     3] loss: 1.044\n",
            "[161,     3] loss: 1.036\n",
            "[162,     3] loss: 1.051\n",
            "[163,     3] loss: 1.040\n",
            "[164,     3] loss: 1.034\n",
            "[165,     3] loss: 1.040\n",
            "[166,     3] loss: 1.043\n",
            "[167,     3] loss: 1.044\n",
            "[168,     3] loss: 1.039\n",
            "[169,     3] loss: 1.034\n",
            "[170,     3] loss: 1.036\n",
            "[171,     3] loss: 1.049\n",
            "[172,     3] loss: 1.037\n",
            "[173,     3] loss: 1.044\n",
            "[174,     3] loss: 1.037\n",
            "[175,     3] loss: 1.041\n",
            "[176,     3] loss: 1.039\n",
            "[177,     3] loss: 1.027\n",
            "[178,     3] loss: 1.041\n",
            "[179,     3] loss: 1.033\n",
            "[180,     3] loss: 1.028\n",
            "[181,     3] loss: 1.048\n",
            "[182,     3] loss: 1.035\n",
            "[183,     3] loss: 1.044\n",
            "[184,     3] loss: 1.031\n",
            "[185,     3] loss: 1.041\n",
            "[186,     3] loss: 1.029\n",
            "[187,     3] loss: 1.046\n",
            "[188,     3] loss: 1.035\n",
            "[189,     3] loss: 1.047\n",
            "[190,     3] loss: 1.041\n",
            "[191,     3] loss: 1.032\n",
            "[192,     3] loss: 1.044\n",
            "[193,     3] loss: 1.039\n",
            "[194,     3] loss: 1.041\n",
            "[195,     3] loss: 1.032\n",
            "[196,     3] loss: 1.034\n",
            "[197,     3] loss: 1.038\n",
            "[198,     3] loss: 1.032\n",
            "[199,     3] loss: 1.041\n",
            "[200,     3] loss: 1.030\n",
            "[201,     3] loss: 1.031\n",
            "[202,     3] loss: 1.038\n",
            "[203,     3] loss: 1.029\n",
            "[204,     3] loss: 1.037\n",
            "[205,     3] loss: 1.032\n",
            "[206,     3] loss: 1.026\n",
            "[207,     3] loss: 1.040\n",
            "[208,     3] loss: 1.033\n",
            "[209,     3] loss: 1.038\n",
            "[210,     3] loss: 1.032\n",
            "[211,     3] loss: 1.025\n",
            "[212,     3] loss: 1.034\n",
            "[213,     3] loss: 1.033\n",
            "[214,     3] loss: 1.036\n",
            "[215,     3] loss: 1.037\n",
            "[216,     3] loss: 1.034\n",
            "[217,     3] loss: 1.023\n",
            "[218,     3] loss: 1.038\n",
            "[219,     3] loss: 1.041\n",
            "[220,     3] loss: 1.032\n",
            "[221,     3] loss: 1.038\n",
            "[222,     3] loss: 1.037\n",
            "[223,     3] loss: 1.035\n",
            "[224,     3] loss: 1.031\n",
            "[225,     3] loss: 1.028\n",
            "[226,     3] loss: 1.027\n",
            "[227,     3] loss: 1.033\n",
            "[228,     3] loss: 1.029\n",
            "[229,     3] loss: 1.031\n",
            "[230,     3] loss: 1.028\n",
            "[231,     3] loss: 1.036\n",
            "[232,     3] loss: 1.040\n",
            "[233,     3] loss: 1.035\n",
            "[234,     3] loss: 1.031\n",
            "[235,     3] loss: 1.034\n",
            "[236,     3] loss: 1.029\n",
            "[237,     3] loss: 1.028\n",
            "[238,     3] loss: 1.036\n",
            "[239,     3] loss: 1.021\n",
            "[240,     3] loss: 1.035\n",
            "[241,     3] loss: 1.027\n",
            "[242,     3] loss: 1.028\n",
            "[243,     3] loss: 1.036\n",
            "[244,     3] loss: 1.035\n",
            "[245,     3] loss: 1.026\n",
            "[246,     3] loss: 1.040\n",
            "[247,     3] loss: 1.042\n",
            "[248,     3] loss: 1.035\n",
            "[249,     3] loss: 1.033\n",
            "[250,     3] loss: 1.038\n",
            "[251,     3] loss: 1.041\n",
            "[252,     3] loss: 1.035\n",
            "[253,     3] loss: 1.035\n",
            "[254,     3] loss: 1.023\n",
            "[255,     3] loss: 1.028\n",
            "[256,     3] loss: 1.025\n",
            "[257,     3] loss: 1.033\n",
            "[258,     3] loss: 1.045\n",
            "[259,     3] loss: 1.036\n",
            "[260,     3] loss: 1.026\n",
            "[261,     3] loss: 1.034\n",
            "[262,     3] loss: 1.036\n",
            "[263,     3] loss: 1.038\n",
            "[264,     3] loss: 1.024\n",
            "[265,     3] loss: 1.012\n",
            "[266,     3] loss: 1.040\n",
            "[267,     3] loss: 1.020\n",
            "[268,     3] loss: 1.032\n",
            "[269,     3] loss: 1.032\n",
            "[270,     3] loss: 1.021\n",
            "[271,     3] loss: 1.041\n",
            "[272,     3] loss: 1.029\n",
            "[273,     3] loss: 1.039\n",
            "[274,     3] loss: 1.029\n",
            "[275,     3] loss: 1.030\n",
            "[276,     3] loss: 1.029\n",
            "[277,     3] loss: 1.025\n",
            "[278,     3] loss: 1.032\n",
            "[279,     3] loss: 1.036\n",
            "[280,     3] loss: 1.033\n",
            "[281,     3] loss: 1.029\n",
            "[282,     3] loss: 1.013\n",
            "[283,     3] loss: 1.027\n",
            "[284,     3] loss: 1.033\n",
            "[285,     3] loss: 1.027\n",
            "[286,     3] loss: 1.022\n",
            "[287,     3] loss: 1.033\n",
            "[288,     3] loss: 1.034\n",
            "[289,     3] loss: 1.039\n",
            "[290,     3] loss: 1.037\n",
            "[291,     3] loss: 1.020\n",
            "[292,     3] loss: 1.034\n",
            "[293,     3] loss: 1.020\n",
            "[294,     3] loss: 1.025\n",
            "[295,     3] loss: 1.021\n",
            "[296,     3] loss: 1.025\n",
            "[297,     3] loss: 1.025\n",
            "[298,     3] loss: 1.032\n",
            "[299,     3] loss: 1.026\n",
            "[300,     3] loss: 1.024\n",
            "[301,     3] loss: 1.022\n",
            "[302,     3] loss: 1.021\n",
            "[303,     3] loss: 1.016\n",
            "[304,     3] loss: 1.027\n",
            "[305,     3] loss: 1.031\n",
            "[306,     3] loss: 1.024\n",
            "[307,     3] loss: 1.036\n",
            "[308,     3] loss: 1.036\n",
            "[309,     3] loss: 1.027\n",
            "[310,     3] loss: 1.032\n",
            "[311,     3] loss: 1.030\n",
            "[312,     3] loss: 1.033\n",
            "[313,     3] loss: 1.027\n",
            "[314,     3] loss: 1.020\n",
            "[315,     3] loss: 1.025\n",
            "[316,     3] loss: 1.026\n",
            "[317,     3] loss: 1.026\n",
            "[318,     3] loss: 1.031\n",
            "[319,     3] loss: 1.026\n",
            "[320,     3] loss: 1.038\n",
            "[321,     3] loss: 1.018\n",
            "[322,     3] loss: 1.032\n",
            "[323,     3] loss: 1.023\n",
            "[324,     3] loss: 1.022\n",
            "[325,     3] loss: 1.014\n",
            "[326,     3] loss: 1.026\n",
            "[327,     3] loss: 1.023\n",
            "[328,     3] loss: 1.014\n",
            "[329,     3] loss: 1.027\n",
            "[330,     3] loss: 1.030\n",
            "[331,     3] loss: 1.023\n",
            "[332,     3] loss: 1.030\n",
            "[333,     3] loss: 1.025\n",
            "[334,     3] loss: 1.014\n",
            "[335,     3] loss: 1.021\n",
            "[336,     3] loss: 1.028\n",
            "[337,     3] loss: 1.036\n",
            "[338,     3] loss: 1.027\n",
            "[339,     3] loss: 1.009\n",
            "[340,     3] loss: 1.023\n",
            "[341,     3] loss: 1.038\n",
            "[342,     3] loss: 1.030\n",
            "[343,     3] loss: 1.024\n",
            "[344,     3] loss: 1.021\n",
            "[345,     3] loss: 1.032\n",
            "[346,     3] loss: 1.020\n",
            "[347,     3] loss: 1.023\n",
            "[348,     3] loss: 1.024\n",
            "[349,     3] loss: 1.019\n",
            "[350,     3] loss: 1.020\n",
            "[351,     3] loss: 1.023\n",
            "[352,     3] loss: 1.013\n",
            "[353,     3] loss: 1.019\n",
            "[354,     3] loss: 1.019\n",
            "[355,     3] loss: 1.015\n",
            "[356,     3] loss: 1.024\n",
            "[357,     3] loss: 1.019\n",
            "[358,     3] loss: 1.038\n",
            "[359,     3] loss: 1.021\n",
            "[360,     3] loss: 1.025\n",
            "[361,     3] loss: 1.021\n",
            "[362,     3] loss: 1.025\n",
            "[363,     3] loss: 1.015\n",
            "[364,     3] loss: 1.024\n",
            "[365,     3] loss: 1.024\n",
            "[366,     3] loss: 1.025\n",
            "[367,     3] loss: 1.018\n",
            "[368,     3] loss: 1.026\n",
            "[369,     3] loss: 1.023\n",
            "[370,     3] loss: 1.022\n",
            "[371,     3] loss: 1.018\n",
            "[372,     3] loss: 1.024\n",
            "[373,     3] loss: 1.017\n",
            "[374,     3] loss: 1.016\n",
            "[375,     3] loss: 1.028\n",
            "[376,     3] loss: 1.011\n",
            "[377,     3] loss: 1.031\n",
            "[378,     3] loss: 1.015\n",
            "[379,     3] loss: 1.016\n",
            "[380,     3] loss: 1.019\n",
            "[381,     3] loss: 1.010\n",
            "[382,     3] loss: 1.023\n",
            "[383,     3] loss: 1.021\n",
            "[384,     3] loss: 1.013\n",
            "[385,     3] loss: 1.023\n",
            "[386,     3] loss: 1.019\n",
            "[387,     3] loss: 1.019\n",
            "[388,     3] loss: 1.018\n",
            "[389,     3] loss: 1.011\n",
            "[390,     3] loss: 1.011\n",
            "[391,     3] loss: 1.013\n",
            "[392,     3] loss: 1.013\n",
            "[393,     3] loss: 1.020\n",
            "[394,     3] loss: 1.016\n",
            "[395,     3] loss: 1.011\n",
            "[396,     3] loss: 1.019\n",
            "[397,     3] loss: 1.013\n",
            "[398,     3] loss: 1.015\n",
            "[399,     3] loss: 1.018\n",
            "[400,     3] loss: 1.029\n",
            "[401,     3] loss: 1.030\n",
            "[402,     3] loss: 1.018\n",
            "[403,     3] loss: 1.030\n",
            "[404,     3] loss: 1.020\n",
            "[405,     3] loss: 1.025\n",
            "[406,     3] loss: 1.034\n",
            "[407,     3] loss: 1.024\n",
            "[408,     3] loss: 1.018\n",
            "[409,     3] loss: 1.007\n",
            "[410,     3] loss: 1.021\n",
            "[411,     3] loss: 1.008\n",
            "[412,     3] loss: 1.018\n",
            "[413,     3] loss: 1.020\n",
            "[414,     3] loss: 1.011\n",
            "[415,     3] loss: 1.021\n",
            "[416,     3] loss: 1.027\n",
            "[417,     3] loss: 1.019\n",
            "[418,     3] loss: 1.016\n",
            "[419,     3] loss: 1.022\n",
            "[420,     3] loss: 1.021\n",
            "[421,     3] loss: 1.013\n",
            "[422,     3] loss: 1.017\n",
            "[423,     3] loss: 1.013\n",
            "[424,     3] loss: 1.011\n",
            "[425,     3] loss: 1.008\n",
            "[426,     3] loss: 1.007\n",
            "[427,     3] loss: 1.021\n",
            "[428,     3] loss: 1.012\n",
            "[429,     3] loss: 0.999\n",
            "[430,     3] loss: 1.018\n",
            "[431,     3] loss: 1.008\n",
            "[432,     3] loss: 1.013\n",
            "[433,     3] loss: 1.017\n",
            "[434,     3] loss: 0.997\n",
            "[435,     3] loss: 1.006\n",
            "[436,     3] loss: 1.017\n",
            "[437,     3] loss: 1.001\n",
            "[438,     3] loss: 1.008\n",
            "[439,     3] loss: 1.019\n",
            "[440,     3] loss: 1.018\n",
            "[441,     3] loss: 1.013\n",
            "[442,     3] loss: 1.001\n",
            "[443,     3] loss: 1.014\n",
            "[444,     3] loss: 1.007\n",
            "[445,     3] loss: 1.020\n",
            "[446,     3] loss: 1.014\n",
            "[447,     3] loss: 1.017\n",
            "[448,     3] loss: 1.017\n",
            "[449,     3] loss: 1.013\n",
            "[450,     3] loss: 1.007\n",
            "[451,     3] loss: 1.014\n",
            "[452,     3] loss: 1.017\n",
            "[453,     3] loss: 1.013\n",
            "[454,     3] loss: 1.028\n",
            "[455,     3] loss: 1.021\n",
            "[456,     3] loss: 1.027\n",
            "[457,     3] loss: 1.012\n",
            "[458,     3] loss: 1.006\n",
            "[459,     3] loss: 1.013\n",
            "[460,     3] loss: 1.013\n",
            "[461,     3] loss: 1.007\n",
            "[462,     3] loss: 1.018\n",
            "[463,     3] loss: 1.012\n",
            "[464,     3] loss: 1.022\n",
            "[465,     3] loss: 1.006\n",
            "[466,     3] loss: 1.015\n",
            "[467,     3] loss: 1.012\n",
            "[468,     3] loss: 1.014\n",
            "[469,     3] loss: 1.012\n",
            "[470,     3] loss: 1.014\n",
            "[471,     3] loss: 1.013\n",
            "[472,     3] loss: 1.014\n",
            "[473,     3] loss: 1.017\n",
            "[474,     3] loss: 1.010\n",
            "[475,     3] loss: 1.007\n",
            "[476,     3] loss: 1.016\n",
            "[477,     3] loss: 1.015\n",
            "[478,     3] loss: 1.012\n",
            "[479,     3] loss: 1.004\n",
            "[480,     3] loss: 1.010\n",
            "[481,     3] loss: 1.016\n",
            "[482,     3] loss: 1.017\n",
            "[483,     3] loss: 1.019\n",
            "[484,     3] loss: 1.012\n",
            "[485,     3] loss: 1.002\n",
            "[486,     3] loss: 1.012\n",
            "[487,     3] loss: 1.012\n",
            "[488,     3] loss: 1.021\n",
            "[489,     3] loss: 1.007\n",
            "[490,     3] loss: 1.002\n",
            "[491,     3] loss: 1.024\n",
            "[492,     3] loss: 1.009\n",
            "[493,     3] loss: 1.012\n",
            "[494,     3] loss: 1.010\n",
            "[495,     3] loss: 1.008\n",
            "[496,     3] loss: 1.009\n",
            "[497,     3] loss: 0.993\n",
            "[498,     3] loss: 1.011\n",
            "[499,     3] loss: 1.012\n",
            "[500,     3] loss: 1.012\n",
            "[501,     3] loss: 1.006\n",
            "[502,     3] loss: 1.014\n",
            "[503,     3] loss: 0.997\n",
            "[504,     3] loss: 1.017\n",
            "[505,     3] loss: 1.020\n",
            "[506,     3] loss: 1.003\n",
            "[507,     3] loss: 1.012\n",
            "[508,     3] loss: 1.001\n",
            "[509,     3] loss: 1.012\n",
            "[510,     3] loss: 1.008\n",
            "[511,     3] loss: 1.000\n",
            "[512,     3] loss: 1.001\n",
            "[513,     3] loss: 1.003\n",
            "[514,     3] loss: 1.002\n",
            "[515,     3] loss: 1.012\n",
            "[516,     3] loss: 1.009\n",
            "[517,     3] loss: 1.009\n",
            "[518,     3] loss: 1.006\n",
            "[519,     3] loss: 1.004\n",
            "[520,     3] loss: 1.009\n",
            "[521,     3] loss: 1.020\n",
            "[522,     3] loss: 1.015\n",
            "[523,     3] loss: 1.005\n",
            "[524,     3] loss: 1.012\n",
            "[525,     3] loss: 1.003\n",
            "[526,     3] loss: 1.015\n",
            "[527,     3] loss: 1.010\n",
            "[528,     3] loss: 0.993\n",
            "[529,     3] loss: 1.004\n",
            "[530,     3] loss: 1.008\n",
            "[531,     3] loss: 1.015\n",
            "[532,     3] loss: 1.000\n",
            "[533,     3] loss: 1.007\n",
            "[534,     3] loss: 1.034\n",
            "[535,     3] loss: 1.010\n",
            "[536,     3] loss: 1.013\n",
            "[537,     3] loss: 0.997\n",
            "[538,     3] loss: 1.001\n",
            "[539,     3] loss: 1.011\n",
            "[540,     3] loss: 1.004\n",
            "[541,     3] loss: 1.002\n",
            "[542,     3] loss: 1.010\n",
            "[543,     3] loss: 1.004\n",
            "[544,     3] loss: 1.004\n",
            "[545,     3] loss: 1.008\n",
            "[546,     3] loss: 1.011\n",
            "[547,     3] loss: 1.014\n",
            "[548,     3] loss: 1.013\n",
            "[549,     3] loss: 0.991\n",
            "[550,     3] loss: 0.994\n",
            "[551,     3] loss: 1.015\n",
            "[552,     3] loss: 1.006\n",
            "[553,     3] loss: 1.003\n",
            "[554,     3] loss: 1.023\n",
            "[555,     3] loss: 1.003\n",
            "[556,     3] loss: 1.000\n",
            "[557,     3] loss: 1.011\n",
            "[558,     3] loss: 1.016\n",
            "[559,     3] loss: 1.004\n",
            "[560,     3] loss: 1.010\n",
            "[561,     3] loss: 0.997\n",
            "[562,     3] loss: 1.013\n",
            "[563,     3] loss: 0.996\n",
            "[564,     3] loss: 0.998\n",
            "[565,     3] loss: 1.001\n",
            "[566,     3] loss: 0.997\n",
            "[567,     3] loss: 1.001\n",
            "[568,     3] loss: 1.004\n",
            "[569,     3] loss: 1.011\n",
            "[570,     3] loss: 1.014\n",
            "[571,     3] loss: 1.010\n",
            "[572,     3] loss: 1.005\n",
            "[573,     3] loss: 1.011\n",
            "[574,     3] loss: 1.005\n",
            "[575,     3] loss: 1.014\n",
            "[576,     3] loss: 1.010\n",
            "[577,     3] loss: 1.006\n",
            "[578,     3] loss: 1.017\n",
            "[579,     3] loss: 1.012\n",
            "[580,     3] loss: 1.013\n",
            "[581,     3] loss: 1.002\n",
            "[582,     3] loss: 1.026\n",
            "[583,     3] loss: 1.002\n",
            "[584,     3] loss: 1.007\n",
            "[585,     3] loss: 1.020\n",
            "[586,     3] loss: 1.013\n",
            "[587,     3] loss: 1.001\n",
            "[588,     3] loss: 1.001\n",
            "[589,     3] loss: 1.001\n",
            "[590,     3] loss: 0.997\n",
            "[591,     3] loss: 1.015\n",
            "[592,     3] loss: 1.010\n",
            "[593,     3] loss: 1.000\n",
            "[594,     3] loss: 1.007\n",
            "[595,     3] loss: 1.017\n",
            "[596,     3] loss: 1.005\n",
            "[597,     3] loss: 0.996\n",
            "[598,     3] loss: 1.007\n",
            "[599,     3] loss: 0.995\n",
            "[600,     3] loss: 0.997\n",
            "[601,     3] loss: 1.006\n",
            "[602,     3] loss: 1.013\n",
            "[603,     3] loss: 1.016\n",
            "[604,     3] loss: 1.015\n",
            "[605,     3] loss: 1.004\n",
            "[606,     3] loss: 1.008\n",
            "[607,     3] loss: 1.004\n",
            "[608,     3] loss: 0.996\n",
            "[609,     3] loss: 1.009\n",
            "[610,     3] loss: 0.999\n",
            "[611,     3] loss: 1.018\n",
            "[612,     3] loss: 0.991\n",
            "[613,     3] loss: 1.010\n",
            "[614,     3] loss: 1.016\n",
            "[615,     3] loss: 1.010\n",
            "[616,     3] loss: 1.013\n",
            "[617,     3] loss: 1.010\n",
            "[618,     3] loss: 0.993\n",
            "[619,     3] loss: 0.997\n",
            "[620,     3] loss: 1.010\n",
            "[621,     3] loss: 1.000\n",
            "[622,     3] loss: 1.010\n",
            "[623,     3] loss: 0.998\n",
            "[624,     3] loss: 1.010\n",
            "[625,     3] loss: 1.003\n",
            "[626,     3] loss: 0.987\n",
            "[627,     3] loss: 1.005\n",
            "[628,     3] loss: 1.007\n",
            "[629,     3] loss: 1.007\n",
            "[630,     3] loss: 1.001\n",
            "[631,     3] loss: 0.998\n",
            "[632,     3] loss: 1.015\n",
            "[633,     3] loss: 1.014\n",
            "[634,     3] loss: 1.003\n",
            "[635,     3] loss: 1.001\n",
            "[636,     3] loss: 1.006\n",
            "[637,     3] loss: 0.992\n",
            "[638,     3] loss: 1.001\n",
            "[639,     3] loss: 0.999\n",
            "[640,     3] loss: 0.994\n",
            "[641,     3] loss: 1.001\n",
            "[642,     3] loss: 0.990\n",
            "[643,     3] loss: 0.995\n",
            "[644,     3] loss: 0.994\n",
            "[645,     3] loss: 1.013\n",
            "[646,     3] loss: 1.000\n",
            "[647,     3] loss: 0.987\n",
            "[648,     3] loss: 0.996\n",
            "[649,     3] loss: 0.989\n",
            "[650,     3] loss: 1.001\n",
            "[651,     3] loss: 0.999\n",
            "[652,     3] loss: 1.001\n",
            "[653,     3] loss: 0.996\n",
            "[654,     3] loss: 0.998\n",
            "[655,     3] loss: 0.995\n",
            "[656,     3] loss: 0.992\n",
            "[657,     3] loss: 0.992\n",
            "[658,     3] loss: 1.006\n",
            "[659,     3] loss: 1.005\n",
            "[660,     3] loss: 0.997\n",
            "[661,     3] loss: 1.005\n",
            "[662,     3] loss: 0.999\n",
            "[663,     3] loss: 1.004\n",
            "[664,     3] loss: 1.008\n",
            "[665,     3] loss: 1.011\n",
            "[666,     3] loss: 1.003\n",
            "[667,     3] loss: 0.995\n",
            "[668,     3] loss: 0.991\n",
            "[669,     3] loss: 1.010\n",
            "[670,     3] loss: 1.017\n",
            "[671,     3] loss: 1.000\n",
            "[672,     3] loss: 0.999\n",
            "[673,     3] loss: 1.006\n",
            "[674,     3] loss: 1.005\n",
            "[675,     3] loss: 1.004\n",
            "[676,     3] loss: 0.998\n",
            "[677,     3] loss: 0.992\n",
            "[678,     3] loss: 0.999\n",
            "[679,     3] loss: 1.004\n",
            "[680,     3] loss: 1.011\n",
            "[681,     3] loss: 0.993\n",
            "[682,     3] loss: 0.997\n",
            "[683,     3] loss: 1.000\n",
            "[684,     3] loss: 0.994\n",
            "[685,     3] loss: 0.996\n",
            "[686,     3] loss: 1.016\n",
            "[687,     3] loss: 1.001\n",
            "[688,     3] loss: 0.990\n",
            "[689,     3] loss: 0.989\n",
            "[690,     3] loss: 1.014\n",
            "[691,     3] loss: 0.998\n",
            "[692,     3] loss: 1.007\n",
            "[693,     3] loss: 0.990\n",
            "[694,     3] loss: 1.003\n",
            "[695,     3] loss: 0.999\n",
            "[696,     3] loss: 0.994\n",
            "[697,     3] loss: 0.994\n",
            "[698,     3] loss: 1.000\n",
            "[699,     3] loss: 0.998\n",
            "[700,     3] loss: 1.015\n",
            "[701,     3] loss: 1.002\n",
            "[702,     3] loss: 1.002\n",
            "[703,     3] loss: 0.984\n",
            "[704,     3] loss: 0.994\n",
            "[705,     3] loss: 0.999\n",
            "[706,     3] loss: 0.999\n",
            "[707,     3] loss: 1.005\n",
            "[708,     3] loss: 1.002\n",
            "[709,     3] loss: 0.995\n",
            "[710,     3] loss: 1.001\n",
            "[711,     3] loss: 1.000\n",
            "[712,     3] loss: 1.002\n",
            "[713,     3] loss: 0.998\n",
            "[714,     3] loss: 1.000\n",
            "[715,     3] loss: 0.997\n",
            "[716,     3] loss: 0.996\n",
            "[717,     3] loss: 1.001\n",
            "[718,     3] loss: 1.002\n",
            "[719,     3] loss: 0.999\n",
            "[720,     3] loss: 0.999\n",
            "[721,     3] loss: 1.010\n",
            "[722,     3] loss: 1.001\n",
            "[723,     3] loss: 1.003\n",
            "[724,     3] loss: 0.985\n",
            "[725,     3] loss: 0.995\n",
            "[726,     3] loss: 1.007\n",
            "[727,     3] loss: 0.990\n",
            "[728,     3] loss: 0.994\n",
            "[729,     3] loss: 0.990\n",
            "[730,     3] loss: 0.989\n",
            "[731,     3] loss: 1.015\n",
            "[732,     3] loss: 0.998\n",
            "[733,     3] loss: 0.974\n",
            "[734,     3] loss: 1.013\n",
            "[735,     3] loss: 1.016\n",
            "[736,     3] loss: 1.008\n",
            "[737,     3] loss: 0.991\n",
            "[738,     3] loss: 0.999\n",
            "[739,     3] loss: 1.002\n",
            "[740,     3] loss: 0.998\n",
            "[741,     3] loss: 0.999\n",
            "[742,     3] loss: 0.999\n",
            "[743,     3] loss: 0.998\n",
            "[744,     3] loss: 0.998\n",
            "[745,     3] loss: 0.993\n",
            "[746,     3] loss: 0.982\n",
            "[747,     3] loss: 0.994\n",
            "[748,     3] loss: 0.999\n",
            "[749,     3] loss: 1.004\n",
            "[750,     3] loss: 0.990\n",
            "[751,     3] loss: 1.006\n",
            "[752,     3] loss: 0.987\n",
            "[753,     3] loss: 0.993\n",
            "[754,     3] loss: 0.997\n",
            "[755,     3] loss: 0.991\n",
            "[756,     3] loss: 1.003\n",
            "[757,     3] loss: 0.985\n",
            "[758,     3] loss: 0.998\n",
            "[759,     3] loss: 0.990\n",
            "[760,     3] loss: 0.995\n",
            "[761,     3] loss: 1.007\n",
            "[762,     3] loss: 1.000\n",
            "[763,     3] loss: 1.002\n",
            "[764,     3] loss: 0.991\n",
            "[765,     3] loss: 1.005\n",
            "[766,     3] loss: 0.991\n",
            "[767,     3] loss: 1.002\n",
            "[768,     3] loss: 0.999\n",
            "[769,     3] loss: 0.990\n",
            "[770,     3] loss: 0.986\n",
            "[771,     3] loss: 0.996\n",
            "[772,     3] loss: 1.006\n",
            "[773,     3] loss: 1.003\n",
            "[774,     3] loss: 0.992\n",
            "[775,     3] loss: 0.987\n",
            "[776,     3] loss: 0.995\n",
            "[777,     3] loss: 0.994\n",
            "[778,     3] loss: 0.992\n",
            "[779,     3] loss: 0.985\n",
            "[780,     3] loss: 0.994\n",
            "[781,     3] loss: 0.996\n",
            "[782,     3] loss: 0.996\n",
            "[783,     3] loss: 0.996\n",
            "[784,     3] loss: 1.001\n",
            "[785,     3] loss: 0.994\n",
            "[786,     3] loss: 1.006\n",
            "[787,     3] loss: 0.996\n",
            "[788,     3] loss: 0.970\n",
            "[789,     3] loss: 0.992\n",
            "[790,     3] loss: 0.998\n",
            "[791,     3] loss: 0.995\n",
            "[792,     3] loss: 0.990\n",
            "[793,     3] loss: 1.005\n",
            "[794,     3] loss: 1.004\n",
            "[795,     3] loss: 0.990\n",
            "[796,     3] loss: 1.008\n",
            "[797,     3] loss: 0.988\n",
            "[798,     3] loss: 0.993\n",
            "[799,     3] loss: 0.999\n",
            "[800,     3] loss: 0.989\n",
            "[801,     3] loss: 0.997\n",
            "[802,     3] loss: 0.989\n",
            "[803,     3] loss: 0.992\n",
            "[804,     3] loss: 0.993\n",
            "[805,     3] loss: 0.993\n",
            "[806,     3] loss: 0.977\n",
            "[807,     3] loss: 0.991\n",
            "[808,     3] loss: 0.995\n",
            "[809,     3] loss: 0.991\n",
            "[810,     3] loss: 0.979\n",
            "[811,     3] loss: 1.003\n",
            "[812,     3] loss: 1.002\n",
            "[813,     3] loss: 0.981\n",
            "[814,     3] loss: 0.992\n",
            "[815,     3] loss: 0.994\n",
            "[816,     3] loss: 0.988\n",
            "[817,     3] loss: 0.982\n",
            "[818,     3] loss: 1.008\n",
            "[819,     3] loss: 0.984\n",
            "[820,     3] loss: 1.003\n",
            "[821,     3] loss: 0.984\n",
            "[822,     3] loss: 0.991\n",
            "[823,     3] loss: 0.982\n",
            "[824,     3] loss: 0.994\n",
            "[825,     3] loss: 0.992\n",
            "[826,     3] loss: 1.003\n",
            "[827,     3] loss: 0.998\n",
            "[828,     3] loss: 1.001\n",
            "[829,     3] loss: 0.977\n",
            "[830,     3] loss: 0.988\n",
            "[831,     3] loss: 0.985\n",
            "[832,     3] loss: 0.997\n",
            "[833,     3] loss: 0.989\n",
            "[834,     3] loss: 1.003\n",
            "[835,     3] loss: 0.984\n",
            "[836,     3] loss: 0.991\n",
            "[837,     3] loss: 0.988\n",
            "[838,     3] loss: 0.998\n",
            "[839,     3] loss: 1.003\n",
            "[840,     3] loss: 0.987\n",
            "[841,     3] loss: 0.987\n",
            "[842,     3] loss: 0.987\n",
            "[843,     3] loss: 0.982\n",
            "[844,     3] loss: 0.981\n",
            "[845,     3] loss: 0.997\n",
            "[846,     3] loss: 0.992\n",
            "[847,     3] loss: 0.982\n",
            "[848,     3] loss: 0.998\n",
            "[849,     3] loss: 0.999\n",
            "[850,     3] loss: 0.998\n",
            "[851,     3] loss: 1.007\n",
            "[852,     3] loss: 0.993\n",
            "[853,     3] loss: 0.992\n",
            "[854,     3] loss: 0.999\n",
            "[855,     3] loss: 0.992\n",
            "[856,     3] loss: 1.001\n",
            "[857,     3] loss: 0.989\n",
            "[858,     3] loss: 0.995\n",
            "[859,     3] loss: 0.987\n",
            "[860,     3] loss: 0.983\n",
            "[861,     3] loss: 0.983\n",
            "[862,     3] loss: 0.989\n",
            "[863,     3] loss: 0.994\n",
            "[864,     3] loss: 1.002\n",
            "[865,     3] loss: 1.001\n",
            "[866,     3] loss: 0.989\n",
            "[867,     3] loss: 0.994\n",
            "[868,     3] loss: 0.985\n",
            "[869,     3] loss: 0.995\n",
            "[870,     3] loss: 0.985\n",
            "[871,     3] loss: 0.988\n",
            "[872,     3] loss: 0.982\n",
            "[873,     3] loss: 0.995\n",
            "[874,     3] loss: 0.966\n",
            "[875,     3] loss: 0.988\n",
            "[876,     3] loss: 0.995\n",
            "[877,     3] loss: 0.993\n",
            "[878,     3] loss: 1.007\n",
            "[879,     3] loss: 0.999\n",
            "[880,     3] loss: 0.995\n",
            "[881,     3] loss: 0.987\n",
            "[882,     3] loss: 0.996\n",
            "[883,     3] loss: 0.993\n",
            "[884,     3] loss: 1.002\n",
            "[885,     3] loss: 0.992\n",
            "[886,     3] loss: 0.979\n",
            "[887,     3] loss: 0.993\n",
            "[888,     3] loss: 1.001\n",
            "[889,     3] loss: 0.980\n",
            "[890,     3] loss: 0.986\n",
            "[891,     3] loss: 0.991\n",
            "[892,     3] loss: 0.988\n",
            "[893,     3] loss: 1.009\n",
            "[894,     3] loss: 0.986\n",
            "[895,     3] loss: 1.003\n",
            "[896,     3] loss: 0.991\n",
            "[897,     3] loss: 0.981\n",
            "[898,     3] loss: 0.983\n",
            "[899,     3] loss: 0.983\n",
            "[900,     3] loss: 0.996\n",
            "[901,     3] loss: 0.984\n",
            "[902,     3] loss: 0.983\n",
            "[903,     3] loss: 0.976\n",
            "[904,     3] loss: 0.986\n",
            "[905,     3] loss: 0.996\n",
            "[906,     3] loss: 1.003\n",
            "[907,     3] loss: 0.976\n",
            "[908,     3] loss: 0.982\n",
            "[909,     3] loss: 0.995\n",
            "[910,     3] loss: 0.989\n",
            "[911,     3] loss: 0.996\n",
            "[912,     3] loss: 1.000\n",
            "[913,     3] loss: 0.998\n",
            "[914,     3] loss: 0.998\n",
            "[915,     3] loss: 1.012\n",
            "[916,     3] loss: 0.993\n",
            "[917,     3] loss: 0.991\n",
            "[918,     3] loss: 0.988\n",
            "[919,     3] loss: 0.985\n",
            "[920,     3] loss: 0.995\n",
            "[921,     3] loss: 0.981\n",
            "[922,     3] loss: 0.983\n",
            "[923,     3] loss: 0.985\n",
            "[924,     3] loss: 0.993\n",
            "[925,     3] loss: 0.989\n",
            "[926,     3] loss: 0.986\n",
            "[927,     3] loss: 0.979\n",
            "[928,     3] loss: 0.992\n",
            "[929,     3] loss: 0.983\n",
            "[930,     3] loss: 0.992\n",
            "[931,     3] loss: 0.974\n",
            "[932,     3] loss: 0.975\n",
            "[933,     3] loss: 0.992\n",
            "[934,     3] loss: 0.977\n",
            "[935,     3] loss: 0.986\n",
            "[936,     3] loss: 0.990\n",
            "[937,     3] loss: 0.989\n",
            "[938,     3] loss: 0.980\n",
            "[939,     3] loss: 0.985\n",
            "[940,     3] loss: 0.976\n",
            "[941,     3] loss: 0.991\n",
            "[942,     3] loss: 0.983\n",
            "[943,     3] loss: 0.988\n",
            "[944,     3] loss: 0.997\n",
            "[945,     3] loss: 0.973\n",
            "[946,     3] loss: 0.988\n",
            "[947,     3] loss: 0.969\n",
            "[948,     3] loss: 0.986\n",
            "[949,     3] loss: 0.987\n",
            "[950,     3] loss: 0.996\n",
            "[951,     3] loss: 0.994\n",
            "[952,     3] loss: 0.971\n",
            "[953,     3] loss: 0.980\n",
            "[954,     3] loss: 0.987\n",
            "[955,     3] loss: 0.993\n",
            "[956,     3] loss: 0.986\n",
            "[957,     3] loss: 0.991\n",
            "[958,     3] loss: 0.986\n",
            "[959,     3] loss: 0.993\n",
            "[960,     3] loss: 0.976\n",
            "[961,     3] loss: 1.001\n",
            "[962,     3] loss: 0.985\n",
            "[963,     3] loss: 0.993\n",
            "[964,     3] loss: 0.985\n",
            "[965,     3] loss: 0.993\n",
            "[966,     3] loss: 0.980\n",
            "[967,     3] loss: 0.981\n",
            "[968,     3] loss: 0.987\n",
            "[969,     3] loss: 0.978\n",
            "[970,     3] loss: 0.984\n",
            "[971,     3] loss: 0.988\n",
            "[972,     3] loss: 0.984\n",
            "[973,     3] loss: 0.973\n",
            "[974,     3] loss: 0.975\n",
            "[975,     3] loss: 1.015\n",
            "[976,     3] loss: 1.000\n",
            "[977,     3] loss: 0.993\n",
            "[978,     3] loss: 0.974\n",
            "[979,     3] loss: 0.984\n",
            "[980,     3] loss: 0.986\n",
            "[981,     3] loss: 0.977\n",
            "[982,     3] loss: 0.986\n",
            "[983,     3] loss: 0.998\n",
            "[984,     3] loss: 0.985\n",
            "[985,     3] loss: 0.991\n",
            "[986,     3] loss: 0.987\n",
            "[987,     3] loss: 0.985\n",
            "[988,     3] loss: 0.976\n",
            "[989,     3] loss: 0.982\n",
            "[990,     3] loss: 0.988\n",
            "[991,     3] loss: 1.003\n",
            "[992,     3] loss: 1.001\n",
            "[993,     3] loss: 0.975\n",
            "[994,     3] loss: 1.000\n",
            "[995,     3] loss: 0.991\n",
            "[996,     3] loss: 0.999\n",
            "[997,     3] loss: 0.985\n",
            "[998,     3] loss: 0.993\n",
            "[999,     3] loss: 0.980\n",
            "[1000,     3] loss: 0.989\n",
            "Finished Training\n"
          ],
          "name": "stdout"
        }
      ]
    },
    {
      "cell_type": "code",
      "metadata": {
        "id": "5gQoPST5zW2t"
      },
      "source": [
        "df_train = pd.DataFrame()\n",
        "df_test = pd.DataFrame()"
      ],
      "execution_count": 100,
      "outputs": []
    },
    {
      "cell_type": "code",
      "metadata": {
        "id": "In76SYH_zZHV"
      },
      "source": [
        "columns = [\"epochs\", \"argmax > 0.5\" ,\"argmax < 0.5\", \"focus_true_pred_true\", \"focus_false_pred_true\", \"focus_true_pred_false\", \"focus_false_pred_false\" ]"
      ],
      "execution_count": 101,
      "outputs": []
    },
    {
      "cell_type": "code",
      "metadata": {
        "id": "BS4HtOHEzZ0E"
      },
      "source": [
        "df_train[columns[0]] = col1\n",
        "df_train[columns[1]] = col2\n",
        "df_train[columns[2]] = col3\n",
        "df_train[columns[3]] = col4\n",
        "df_train[columns[4]] = col5\n",
        "df_train[columns[5]] = col6\n",
        "df_train[columns[6]] = col7\n",
        "\n",
        "df_test[columns[0]] = col1\n",
        "df_test[columns[1]] = col8\n",
        "df_test[columns[2]] = col9\n",
        "df_test[columns[3]] = col10\n",
        "df_test[columns[4]] = col11\n",
        "df_test[columns[5]] = col12\n",
        "df_test[columns[6]] = col13"
      ],
      "execution_count": 102,
      "outputs": []
    },
    {
      "cell_type": "code",
      "metadata": {
        "id": "1UbTkfLUINTI",
        "colab": {
          "base_uri": "https://localhost:8080/",
          "height": 424
        },
        "outputId": "ef09fc6e-25f3-4934-da5f-6fa1a16e77ba"
      },
      "source": [
        "df_train"
      ],
      "execution_count": 103,
      "outputs": [
        {
          "output_type": "execute_result",
          "data": {
            "text/html": [
              "<div>\n",
              "<style scoped>\n",
              "    .dataframe tbody tr th:only-of-type {\n",
              "        vertical-align: middle;\n",
              "    }\n",
              "\n",
              "    .dataframe tbody tr th {\n",
              "        vertical-align: top;\n",
              "    }\n",
              "\n",
              "    .dataframe thead th {\n",
              "        text-align: right;\n",
              "    }\n",
              "</style>\n",
              "<table border=\"1\" class=\"dataframe\">\n",
              "  <thead>\n",
              "    <tr style=\"text-align: right;\">\n",
              "      <th></th>\n",
              "      <th>epochs</th>\n",
              "      <th>argmax &gt; 0.5</th>\n",
              "      <th>argmax &lt; 0.5</th>\n",
              "      <th>focus_true_pred_true</th>\n",
              "      <th>focus_false_pred_true</th>\n",
              "      <th>focus_true_pred_false</th>\n",
              "      <th>focus_false_pred_false</th>\n",
              "    </tr>\n",
              "  </thead>\n",
              "  <tbody>\n",
              "    <tr>\n",
              "      <th>0</th>\n",
              "      <td>0</td>\n",
              "      <td>0</td>\n",
              "      <td>1000</td>\n",
              "      <td>30</td>\n",
              "      <td>250</td>\n",
              "      <td>90</td>\n",
              "      <td>630</td>\n",
              "    </tr>\n",
              "    <tr>\n",
              "      <th>1</th>\n",
              "      <td>1</td>\n",
              "      <td>0</td>\n",
              "      <td>1000</td>\n",
              "      <td>10</td>\n",
              "      <td>340</td>\n",
              "      <td>29</td>\n",
              "      <td>621</td>\n",
              "    </tr>\n",
              "    <tr>\n",
              "      <th>2</th>\n",
              "      <td>6</td>\n",
              "      <td>0</td>\n",
              "      <td>1000</td>\n",
              "      <td>1</td>\n",
              "      <td>419</td>\n",
              "      <td>5</td>\n",
              "      <td>575</td>\n",
              "    </tr>\n",
              "    <tr>\n",
              "      <th>3</th>\n",
              "      <td>11</td>\n",
              "      <td>0</td>\n",
              "      <td>1000</td>\n",
              "      <td>1</td>\n",
              "      <td>426</td>\n",
              "      <td>15</td>\n",
              "      <td>558</td>\n",
              "    </tr>\n",
              "    <tr>\n",
              "      <th>4</th>\n",
              "      <td>16</td>\n",
              "      <td>0</td>\n",
              "      <td>1000</td>\n",
              "      <td>1</td>\n",
              "      <td>432</td>\n",
              "      <td>16</td>\n",
              "      <td>551</td>\n",
              "    </tr>\n",
              "    <tr>\n",
              "      <th>...</th>\n",
              "      <td>...</td>\n",
              "      <td>...</td>\n",
              "      <td>...</td>\n",
              "      <td>...</td>\n",
              "      <td>...</td>\n",
              "      <td>...</td>\n",
              "      <td>...</td>\n",
              "    </tr>\n",
              "    <tr>\n",
              "      <th>196</th>\n",
              "      <td>976</td>\n",
              "      <td>0</td>\n",
              "      <td>1000</td>\n",
              "      <td>1</td>\n",
              "      <td>489</td>\n",
              "      <td>4</td>\n",
              "      <td>506</td>\n",
              "    </tr>\n",
              "    <tr>\n",
              "      <th>197</th>\n",
              "      <td>981</td>\n",
              "      <td>0</td>\n",
              "      <td>1000</td>\n",
              "      <td>2</td>\n",
              "      <td>499</td>\n",
              "      <td>4</td>\n",
              "      <td>495</td>\n",
              "    </tr>\n",
              "    <tr>\n",
              "      <th>198</th>\n",
              "      <td>986</td>\n",
              "      <td>0</td>\n",
              "      <td>1000</td>\n",
              "      <td>2</td>\n",
              "      <td>499</td>\n",
              "      <td>4</td>\n",
              "      <td>495</td>\n",
              "    </tr>\n",
              "    <tr>\n",
              "      <th>199</th>\n",
              "      <td>991</td>\n",
              "      <td>0</td>\n",
              "      <td>1000</td>\n",
              "      <td>1</td>\n",
              "      <td>502</td>\n",
              "      <td>5</td>\n",
              "      <td>492</td>\n",
              "    </tr>\n",
              "    <tr>\n",
              "      <th>200</th>\n",
              "      <td>996</td>\n",
              "      <td>0</td>\n",
              "      <td>1000</td>\n",
              "      <td>2</td>\n",
              "      <td>489</td>\n",
              "      <td>3</td>\n",
              "      <td>506</td>\n",
              "    </tr>\n",
              "  </tbody>\n",
              "</table>\n",
              "<p>201 rows × 7 columns</p>\n",
              "</div>"
            ],
            "text/plain": [
              "     epochs  argmax > 0.5  ...  focus_true_pred_false  focus_false_pred_false\n",
              "0         0             0  ...                     90                     630\n",
              "1         1             0  ...                     29                     621\n",
              "2         6             0  ...                      5                     575\n",
              "3        11             0  ...                     15                     558\n",
              "4        16             0  ...                     16                     551\n",
              "..      ...           ...  ...                    ...                     ...\n",
              "196     976             0  ...                      4                     506\n",
              "197     981             0  ...                      4                     495\n",
              "198     986             0  ...                      4                     495\n",
              "199     991             0  ...                      5                     492\n",
              "200     996             0  ...                      3                     506\n",
              "\n",
              "[201 rows x 7 columns]"
            ]
          },
          "metadata": {
            "tags": []
          },
          "execution_count": 103
        }
      ]
    },
    {
      "cell_type": "code",
      "metadata": {
        "colab": {
          "base_uri": "https://localhost:8080/",
          "height": 573
        },
        "id": "xyna3USAeKZ9",
        "outputId": "64d53427-baf9-492f-e5e6-9922cc0c4fc7"
      },
      "source": [
        "# plt.figure(12,12)\n",
        "plt.plot(col1,col2, label='argmax > 0.5')\n",
        "plt.plot(col1,col3, label='argmax < 0.5')\n",
        "\n",
        "plt.legend(loc='center left', bbox_to_anchor=(1, 0.5))\n",
        "plt.xlabel(\"epochs\")\n",
        "plt.ylabel(\"training data\")\n",
        "plt.title(\"On Training set\")\n",
        "plt.show()\n",
        "\n",
        "plt.plot(col1,col4, label =\"focus_true_pred_true \")\n",
        "plt.plot(col1,col5, label =\"focus_false_pred_true \")\n",
        "plt.plot(col1,col6, label =\"focus_true_pred_false \")\n",
        "plt.plot(col1,col7, label =\"focus_false_pred_false \")\n",
        "plt.title(\"On Training set\")\n",
        "plt.legend(loc='center left', bbox_to_anchor=(1, 0.5))\n",
        "plt.xlabel(\"epochs\")\n",
        "plt.ylabel(\"training data\")\n",
        "plt.show()"
      ],
      "execution_count": 104,
      "outputs": [
        {
          "output_type": "display_data",
          "data": {
            "image/png": "[encoded data removed]",
            "text/plain": [
              "<Figure size 432x288 with 1 Axes>"
            ]
          },
          "metadata": {
            "tags": [],
            "needs_background": "light"
          }
        },
        {
          "output_type": "display_data",
          "data": {
            "image/png": "[encoded data removed]",
            "text/plain": [
              "<Figure size 432x288 with 1 Axes>"
            ]
          },
          "metadata": {
            "tags": [],
            "needs_background": "light"
          }
        }
      ]
    },
    {
      "cell_type": "code",
      "metadata": {
        "colab": {
          "base_uri": "https://localhost:8080/",
          "height": 354
        },
        "id": "5lhODjqGoSxL",
        "outputId": "c8bbd62c-cc89-492c-a246-2aeb238344d4"
      },
      "source": [
        "plt.figure(figsize=(6,5))\n",
        "plt.plot(col1,np.array(col4)/10, label =\"FTPT\")\n",
        "plt.plot(col1,np.array(col5)/10, label =\"FFPT\")\n",
        "plt.plot(col1,np.array(col6)/10, label =\"FTPF\")\n",
        "plt.plot(col1,np.array(col7)/10, label =\"FFPF\")\n",
        "plt.title(\"Dataset4 - SDC On Train set\")\n",
        "plt.grid()\n",
        "# plt.legend(loc='center left', bbox_to_anchor=(1, 0.5))\n",
        "plt.legend() #loc='upper right')\n",
        "plt.xlabel(\"epochs\", fontsize=14, fontweight = 'bold')\n",
        "plt.ylabel(\"percentage train data\", fontsize=14, fontweight = 'bold')\n",
        "plt.savefig(path+\"ds4_train.png\", bbox_inches=\"tight\")\n",
        "plt.savefig(path+\"ds4_train.pdf\", bbox_inches=\"tight\")\n",
        "plt.savefig(\"ds4_train.png\", bbox_inches=\"tight\")\n",
        "plt.savefig(\"ds4_train.pdf\", bbox_inches=\"tight\")\n",
        "plt.show()"
      ],
      "execution_count": 105,
      "outputs": [
        {
          "output_type": "display_data",
          "data": {
            "image/png": "[encoded data removed]",
            "text/plain": [
              "<Figure size 432x360 with 1 Axes>"
            ]
          },
          "metadata": {
            "tags": [],
            "needs_background": "light"
          }
        }
      ]
    },
    {
      "cell_type": "code",
      "metadata": {
        "colab": {
          "base_uri": "https://localhost:8080/",
          "height": 424
        },
        "id": "hrb68lvueMA-",
        "outputId": "1de0b9dc-ade5-4c5f-db00-c3a47f866b3f"
      },
      "source": [
        "df_test"
      ],
      "execution_count": 106,
      "outputs": [
        {
          "output_type": "execute_result",
          "data": {
            "text/html": [
              "<div>\n",
              "<style scoped>\n",
              "    .dataframe tbody tr th:only-of-type {\n",
              "        vertical-align: middle;\n",
              "    }\n",
              "\n",
              "    .dataframe tbody tr th {\n",
              "        vertical-align: top;\n",
              "    }\n",
              "\n",
              "    .dataframe thead th {\n",
              "        text-align: right;\n",
              "    }\n",
              "</style>\n",
              "<table border=\"1\" class=\"dataframe\">\n",
              "  <thead>\n",
              "    <tr style=\"text-align: right;\">\n",
              "      <th></th>\n",
              "      <th>epochs</th>\n",
              "      <th>argmax &gt; 0.5</th>\n",
              "      <th>argmax &lt; 0.5</th>\n",
              "      <th>focus_true_pred_true</th>\n",
              "      <th>focus_false_pred_true</th>\n",
              "      <th>focus_true_pred_false</th>\n",
              "      <th>focus_false_pred_false</th>\n",
              "    </tr>\n",
              "  </thead>\n",
              "  <tbody>\n",
              "    <tr>\n",
              "      <th>0</th>\n",
              "      <td>0</td>\n",
              "      <td>0</td>\n",
              "      <td>1000</td>\n",
              "      <td>37</td>\n",
              "      <td>237</td>\n",
              "      <td>79</td>\n",
              "      <td>647</td>\n",
              "    </tr>\n",
              "    <tr>\n",
              "      <th>1</th>\n",
              "      <td>1</td>\n",
              "      <td>0</td>\n",
              "      <td>1000</td>\n",
              "      <td>0</td>\n",
              "      <td>373</td>\n",
              "      <td>29</td>\n",
              "      <td>598</td>\n",
              "    </tr>\n",
              "    <tr>\n",
              "      <th>2</th>\n",
              "      <td>6</td>\n",
              "      <td>0</td>\n",
              "      <td>1000</td>\n",
              "      <td>0</td>\n",
              "      <td>409</td>\n",
              "      <td>4</td>\n",
              "      <td>587</td>\n",
              "    </tr>\n",
              "    <tr>\n",
              "      <th>3</th>\n",
              "      <td>11</td>\n",
              "      <td>0</td>\n",
              "      <td>1000</td>\n",
              "      <td>1</td>\n",
              "      <td>404</td>\n",
              "      <td>12</td>\n",
              "      <td>583</td>\n",
              "    </tr>\n",
              "    <tr>\n",
              "      <th>4</th>\n",
              "      <td>16</td>\n",
              "      <td>0</td>\n",
              "      <td>1000</td>\n",
              "      <td>1</td>\n",
              "      <td>404</td>\n",
              "      <td>12</td>\n",
              "      <td>583</td>\n",
              "    </tr>\n",
              "    <tr>\n",
              "      <th>...</th>\n",
              "      <td>...</td>\n",
              "      <td>...</td>\n",
              "      <td>...</td>\n",
              "      <td>...</td>\n",
              "      <td>...</td>\n",
              "      <td>...</td>\n",
              "      <td>...</td>\n",
              "    </tr>\n",
              "    <tr>\n",
              "      <th>196</th>\n",
              "      <td>976</td>\n",
              "      <td>0</td>\n",
              "      <td>1000</td>\n",
              "      <td>1</td>\n",
              "      <td>376</td>\n",
              "      <td>3</td>\n",
              "      <td>620</td>\n",
              "    </tr>\n",
              "    <tr>\n",
              "      <th>197</th>\n",
              "      <td>981</td>\n",
              "      <td>0</td>\n",
              "      <td>1000</td>\n",
              "      <td>2</td>\n",
              "      <td>375</td>\n",
              "      <td>3</td>\n",
              "      <td>620</td>\n",
              "    </tr>\n",
              "    <tr>\n",
              "      <th>198</th>\n",
              "      <td>986</td>\n",
              "      <td>0</td>\n",
              "      <td>1000</td>\n",
              "      <td>3</td>\n",
              "      <td>375</td>\n",
              "      <td>3</td>\n",
              "      <td>619</td>\n",
              "    </tr>\n",
              "    <tr>\n",
              "      <th>199</th>\n",
              "      <td>991</td>\n",
              "      <td>0</td>\n",
              "      <td>1000</td>\n",
              "      <td>3</td>\n",
              "      <td>373</td>\n",
              "      <td>3</td>\n",
              "      <td>621</td>\n",
              "    </tr>\n",
              "    <tr>\n",
              "      <th>200</th>\n",
              "      <td>996</td>\n",
              "      <td>0</td>\n",
              "      <td>1000</td>\n",
              "      <td>1</td>\n",
              "      <td>376</td>\n",
              "      <td>3</td>\n",
              "      <td>620</td>\n",
              "    </tr>\n",
              "  </tbody>\n",
              "</table>\n",
              "<p>201 rows × 7 columns</p>\n",
              "</div>"
            ],
            "text/plain": [
              "     epochs  argmax > 0.5  ...  focus_true_pred_false  focus_false_pred_false\n",
              "0         0             0  ...                     79                     647\n",
              "1         1             0  ...                     29                     598\n",
              "2         6             0  ...                      4                     587\n",
              "3        11             0  ...                     12                     583\n",
              "4        16             0  ...                     12                     583\n",
              "..      ...           ...  ...                    ...                     ...\n",
              "196     976             0  ...                      3                     620\n",
              "197     981             0  ...                      3                     620\n",
              "198     986             0  ...                      3                     619\n",
              "199     991             0  ...                      3                     621\n",
              "200     996             0  ...                      3                     620\n",
              "\n",
              "[201 rows x 7 columns]"
            ]
          },
          "metadata": {
            "tags": []
          },
          "execution_count": 106
        }
      ]
    },
    {
      "cell_type": "code",
      "metadata": {
        "colab": {
          "base_uri": "https://localhost:8080/",
          "height": 573
        },
        "id": "qR5SnitGeNMN",
        "outputId": "48540495-11d0-4c6c-a31d-6d6e65952942"
      },
      "source": [
        "# plt.figure(12,12)\n",
        "plt.plot(col1,col8, label='argmax > 0.5')\n",
        "plt.plot(col1,col9, label='argmax < 0.5')\n",
        "\n",
        "plt.legend(loc='center left', bbox_to_anchor=(1, 0.5))\n",
        "plt.xlabel(\"epochs\")\n",
        "plt.ylabel(\"Testing data\")\n",
        "plt.title(\"On Testing set\")\n",
        "plt.show()\n",
        "\n",
        "plt.plot(col1,col10, label =\"focus_true_pred_true \")\n",
        "plt.plot(col1,col11, label =\"focus_false_pred_true \")\n",
        "plt.plot(col1,col12, label =\"focus_true_pred_false \")\n",
        "plt.plot(col1,col13, label =\"focus_false_pred_false \")\n",
        "plt.title(\"On Testing set\")\n",
        "plt.legend(loc='center left', bbox_to_anchor=(1, 0.5))\n",
        "plt.xlabel(\"epochs\")\n",
        "plt.ylabel(\"Testing data\")\n",
        "plt.show()"
      ],
      "execution_count": 107,
      "outputs": [
        {
          "output_type": "display_data",
          "data": {
            "image/png": "[encoded data removed]",
            "text/plain": [
              "<Figure size 432x288 with 1 Axes>"
            ]
          },
          "metadata": {
            "tags": [],
            "needs_background": "light"
          }
        },
        {
          "output_type": "display_data",
          "data": {
            "image/png": "[encoded data removed]",
            "text/plain": [
              "<Figure size 432x288 with 1 Axes>"
            ]
          },
          "metadata": {
            "tags": [],
            "needs_background": "light"
          }
        }
      ]
    },
    {
      "cell_type": "code",
      "metadata": {
        "colab": {
          "base_uri": "https://localhost:8080/",
          "height": 354
        },
        "id": "vwP4uAKyoaq7",
        "outputId": "a62eac81-bcf8-4daf-cf87-112b055764d1"
      },
      "source": [
        "plt.figure(figsize=(6,5))\n",
        "plt.plot(col1,np.array(col10)/10, label =\"FTPT\")\n",
        "plt.plot(col1,np.array(col11)/10, label =\"FFPT\")\n",
        "plt.plot(col1,np.array(col12)/10, label =\"FTPF\")\n",
        "plt.plot(col1,np.array(col13)/10, label =\"FFPF\")\n",
        "plt.title(\"Dataset4 - SDC On Test set\")\n",
        "plt.grid()\n",
        "# plt.legend(loc='center left', bbox_to_anchor=(1, 0.5))\n",
        "plt.legend() #loc='upper right')\n",
        "plt.xlabel(\"epochs\", fontsize=14, fontweight = 'bold')\n",
        "plt.ylabel(\"percentage test data\", fontsize=14, fontweight = 'bold')\n",
        "plt.savefig(path+\"ds4_test.png\", bbox_inches=\"tight\")\n",
        "plt.savefig(path+\"ds4_test.pdf\", bbox_inches=\"tight\")\n",
        "plt.savefig(\"ds4_test.png\", bbox_inches=\"tight\")\n",
        "plt.savefig(\"ds4_test.pdf\", bbox_inches=\"tight\")\n",
        "plt.show()"
      ],
      "execution_count": 108,
      "outputs": [
        {
          "output_type": "display_data",
          "data": {
            "image/png": "[encoded data removed]",
            "text/plain": [
              "<Figure size 432x360 with 1 Axes>"
            ]
          },
          "metadata": {
            "tags": [],
            "needs_background": "light"
          }
        }
      ]
    },
    {
      "cell_type": "code",
      "metadata": {
        "colab": {
          "base_uri": "https://localhost:8080/"
        },
        "id": "TGrzYDWxeO6m",
        "outputId": "baacf7c5-661c-4fe9-8261-1af059745fbb"
      },
      "source": [
        "correct = 0\n",
        "total = 0\n",
        "count = 0\n",
        "flag = 1\n",
        "focus_true_pred_true =0\n",
        "focus_false_pred_true =0\n",
        "focus_true_pred_false =0\n",
        "focus_false_pred_false =0\n",
        "\n",
        "argmax_more_than_half = 0\n",
        "argmax_less_than_half =0\n",
        "\n",
        "with torch.no_grad():\n",
        "  for data in train_loader:\n",
        "    inputs, labels , fore_idx = data\n",
        "    inputs = inputs.double()\n",
        "    inputs, labels , fore_idx = inputs.to(\"cuda\"),labels.to(\"cuda\"), fore_idx.to(\"cuda\")\n",
        "    alphas, avg_images = focus_net(inputs)\n",
        "    outputs = classify(avg_images)\n",
        "\n",
        "    _, predicted = torch.max(outputs.data, 1)\n",
        "\n",
        "    for j in range(labels.size(0)):\n",
        "      focus = torch.argmax(alphas[j])\n",
        "      if alphas[j][focus] >= 0.5 :\n",
        "        argmax_more_than_half += 1\n",
        "      else:\n",
        "        argmax_less_than_half += 1\n",
        "\n",
        "      if(focus == fore_idx[j] and predicted[j] == labels[j]):\n",
        "          focus_true_pred_true += 1\n",
        "      elif(focus != fore_idx[j] and predicted[j] == labels[j]):\n",
        "        focus_false_pred_true += 1\n",
        "      elif(focus == fore_idx[j] and predicted[j] != labels[j]):\n",
        "        focus_true_pred_false += 1\n",
        "      elif(focus != fore_idx[j] and predicted[j] != labels[j]):\n",
        "        focus_false_pred_false += 1\n",
        "\n",
        "    total += labels.size(0)\n",
        "    correct += (predicted == labels).sum().item()\n",
        "\n",
        "print('Accuracy of the network on the 1000 train images: %d %%' % (\n",
        "    100 * correct / total))\n",
        "print(\"total correct\", correct)\n",
        "print(\"total train set images\", total)\n",
        "\n",
        "print(\"focus_true_pred_true %d =============> FTPT : %d %%\" % (focus_true_pred_true , (100 * focus_true_pred_true / total) ) )\n",
        "print(\"focus_false_pred_true %d =============> FFPT : %d %%\" % (focus_false_pred_true, (100 * focus_false_pred_true / total) ) )\n",
        "print(\"focus_true_pred_false %d =============> FTPF : %d %%\" %( focus_true_pred_false , ( 100 * focus_true_pred_false / total) ) )\n",
        "print(\"focus_false_pred_false %d =============> FFPF : %d %%\" % (focus_false_pred_false, ( 100 * focus_false_pred_false / total) ) )\n",
        "\n",
        "print(\"argmax_more_than_half ==================> \",argmax_more_than_half)\n",
        "print(\"argmax_less_than_half ==================> \",argmax_less_than_half)"
      ],
      "execution_count": 109,
      "outputs": [
        {
          "output_type": "stream",
          "text": [
            "Accuracy of the network on the 1000 train images: 49 %\n",
            "total correct 498\n",
            "total train set images 1000\n",
            "focus_true_pred_true 2 =============> FTPT : 0 %\n",
            "focus_false_pred_true 496 =============> FFPT : 49 %\n",
            "focus_true_pred_false 4 =============> FTPF : 0 %\n",
            "focus_false_pred_false 498 =============> FFPF : 49 %\n",
            "argmax_more_than_half ==================>  0\n",
            "argmax_less_than_half ==================>  1000\n"
          ],
          "name": "stdout"
        }
      ]
    },
    {
      "cell_type": "code",
      "metadata": {
        "colab": {
          "base_uri": "https://localhost:8080/"
        },
        "id": "67_H9pkCeQNs",
        "outputId": "55d98f13-e1ee-4f12-f4f8-4512d6dccf5d"
      },
      "source": [
        "correct = 0\n",
        "total = 0\n",
        "count = 0\n",
        "flag = 1\n",
        "focus_true_pred_true =0\n",
        "focus_false_pred_true =0\n",
        "focus_true_pred_false =0\n",
        "focus_false_pred_false =0\n",
        "\n",
        "argmax_more_than_half = 0\n",
        "argmax_less_than_half =0\n",
        "\n",
        "with torch.no_grad():\n",
        "  for data in test_loader:\n",
        "    inputs, labels , fore_idx = data\n",
        "    inputs = inputs.double()\n",
        "    inputs, labels , fore_idx = inputs.to(\"cuda\"),labels.to(\"cuda\"), fore_idx.to(\"cuda\")\n",
        "    alphas, avg_images = focus_net(inputs)\n",
        "    outputs = classify(avg_images)\n",
        "\n",
        "    _, predicted = torch.max(outputs.data, 1)\n",
        "\n",
        "    for j in range(labels.size(0)):\n",
        "      focus = torch.argmax(alphas[j])\n",
        "      if alphas[j][focus] >= 0.5 :\n",
        "        argmax_more_than_half += 1\n",
        "      else:\n",
        "        argmax_less_than_half += 1\n",
        "\n",
        "      if(focus == fore_idx[j] and predicted[j] == labels[j]):\n",
        "          focus_true_pred_true += 1\n",
        "      elif(focus != fore_idx[j] and predicted[j] == labels[j]):\n",
        "        focus_false_pred_true += 1\n",
        "      elif(focus == fore_idx[j] and predicted[j] != labels[j]):\n",
        "        focus_true_pred_false += 1\n",
        "      elif(focus != fore_idx[j] and predicted[j] != labels[j]):\n",
        "        focus_false_pred_false += 1\n",
        "\n",
        "    total += labels.size(0)\n",
        "    correct += (predicted == labels).sum().item()\n",
        "\n",
        "print('Accuracy of the network on the 1000 test images: %d %%' % (\n",
        "    100 * correct / total))\n",
        "print(\"total correct\", correct)\n",
        "print(\"total train set images\", total)\n",
        "\n",
        "print(\"focus_true_pred_true %d =============> FTPT : %d %%\" % (focus_true_pred_true , (100 * focus_true_pred_true / total) ) )\n",
        "print(\"focus_false_pred_true %d =============> FFPT : %d %%\" % (focus_false_pred_true, (100 * focus_false_pred_true / total) ) )\n",
        "print(\"focus_true_pred_false %d =============> FTPF : %d %%\" %( focus_true_pred_false , ( 100 * focus_true_pred_false / total) ) )\n",
        "print(\"focus_false_pred_false %d =============> FFPF : %d %%\" % (focus_false_pred_false, ( 100 * focus_false_pred_false / total) ) )\n",
        "\n",
        "print(\"argmax_more_than_half ==================> \",argmax_more_than_half)\n",
        "print(\"argmax_less_than_half ==================> \",argmax_less_than_half)"
      ],
      "execution_count": 110,
      "outputs": [
        {
          "output_type": "stream",
          "text": [
            "Accuracy of the network on the 1000 test images: 38 %\n",
            "total correct 380\n",
            "total train set images 1000\n",
            "focus_true_pred_true 4 =============> FTPT : 0 %\n",
            "focus_false_pred_true 376 =============> FFPT : 37 %\n",
            "focus_true_pred_false 3 =============> FTPF : 0 %\n",
            "focus_false_pred_false 617 =============> FFPF : 61 %\n",
            "argmax_more_than_half ==================>  0\n",
            "argmax_less_than_half ==================>  1000\n"
          ],
          "name": "stdout"
        }
      ]
    },
    {
      "cell_type": "code",
      "metadata": {
        "colab": {
          "base_uri": "https://localhost:8080/"
        },
        "id": "jhvhkEAyeRpt",
        "outputId": "cc88b05c-3e38-4728-d5b2-06a48953001c"
      },
      "source": [
        "correct = 0\n",
        "total = 0\n",
        "\n",
        "with torch.no_grad():\n",
        "  for data in train_loader:\n",
        "    inputs, labels , fore_idx = data\n",
        "    inputs = inputs.double()\n",
        "    inputs, labels = inputs.to(\"cuda\"), labels.to(\"cuda\")\n",
        "    alphas, avg_images = focus_net(inputs)\n",
        "    outputs = classify(avg_images)\n",
        "\n",
        "    _, predicted = torch.max(outputs.data, 1)\n",
        "\n",
        "    total += labels.size(0)\n",
        "    correct += (predicted == labels).sum().item()\n",
        "\n",
        "print('Accuracy of the network on the 1000 train images: %d %%' % ( 100 * correct / total))\n",
        "print(\"total correct\", correct)\n",
        "print(\"total train set images\", total)"
      ],
      "execution_count": 111,
      "outputs": [
        {
          "output_type": "stream",
          "text": [
            "Accuracy of the network on the 1000 train images: 49 %\n",
            "total correct 498\n",
            "total train set images 1000\n"
          ],
          "name": "stdout"
        }
      ]
    },
    {
      "cell_type": "code",
      "metadata": {
        "colab": {
          "base_uri": "https://localhost:8080/"
        },
        "id": "OKcmpKwGeS8M",
        "outputId": "d7ee97a0-bcc5-4b05-dd08-fdb789bbbea0"
      },
      "source": [
        "correct = 0\n",
        "total = 0\n",
        "\n",
        "with torch.no_grad():\n",
        "  for data in test_loader:\n",
        "    inputs, labels , fore_idx = data\n",
        "    inputs = inputs.double()\n",
        "    inputs, labels = inputs.to(\"cuda\"), labels.to(\"cuda\")\n",
        "    alphas, avg_images = focus_net(inputs)\n",
        "    outputs = classify(avg_images)\n",
        "\n",
        "    _, predicted = torch.max(outputs.data, 1)\n",
        "\n",
        "    total += labels.size(0)\n",
        "    correct += (predicted == labels).sum().item()\n",
        "\n",
        "print('Accuracy of the network on the 1000 test images: %d %%' % ( 100 * correct / total))\n",
        "print(\"total correct\", correct)\n",
        "print(\"total train set images\", total)"
      ],
      "execution_count": 112,
      "outputs": [
        {
          "output_type": "stream",
          "text": [
            "Accuracy of the network on the 1000 test images: 38 %\n",
            "total correct 380\n",
            "total train set images 1000\n"
          ],
          "name": "stdout"
        }
      ]
    },
    {
      "cell_type": "code",
      "metadata": {
        "id": "xlalQug_egcl"
      },
      "source": [
        ""
      ],
      "execution_count": 112,
      "outputs": []
    }
  ]
}