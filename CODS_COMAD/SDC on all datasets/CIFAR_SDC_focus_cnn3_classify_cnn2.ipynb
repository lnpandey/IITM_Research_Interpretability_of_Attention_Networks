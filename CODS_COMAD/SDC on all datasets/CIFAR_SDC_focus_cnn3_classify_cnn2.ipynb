{
  "nbformat": 4,
  "nbformat_minor": 0,
  "metadata": {
    "accelerator": "GPU",
    "colab": {
      "name": "CIFAR_SDC_focus_cnn3_classify_cnn2.ipynb",
      "provenance": [],
      "collapsed_sections": [],
      "machine_shape": "hm"
    },
    "kernelspec": {
      "display_name": "Python 3",
      "language": "python",
      "name": "python3"
    },
    "language_info": {
      "codemirror_mode": {
        "name": "ipython",
        "version": 3
      },
      "file_extension": ".py",
      "mimetype": "text/x-python",
      "name": "python",
      "nbconvert_exporter": "python",
      "pygments_lexer": "ipython3",
      "version": "3.6.5"
    },
    "widgets": {
      "application/vnd.jupyter.widget-state+json": {
        "89cc66b2d22142279ac447a71ea4fd5a": {
          "model_module": "@jupyter-widgets/controls",
          "model_name": "HBoxModel",
          "state": {
            "_view_name": "HBoxView",
            "_dom_classes": [],
            "_model_name": "HBoxModel",
            "_view_module": "@jupyter-widgets/controls",
            "_model_module_version": "1.5.0",
            "_view_count": null,
            "_view_module_version": "1.5.0",
            "box_style": "",
            "layout": "IPY_MODEL_8a988f07abd5419aa70fe30464795855",
            "_model_module": "@jupyter-widgets/controls",
            "children": [
              "IPY_MODEL_3470325a21d446f2a83e7908e40fe22f",
              "IPY_MODEL_0b9bc73a799d432abdfad3123e49e4c7"
            ]
          }
        },
        "8a988f07abd5419aa70fe30464795855": {
          "model_module": "@jupyter-widgets/base",
          "model_name": "LayoutModel",
          "state": {
            "_view_name": "LayoutView",
            "grid_template_rows": null,
            "right": null,
            "justify_content": null,
            "_view_module": "@jupyter-widgets/base",
            "overflow": null,
            "_model_module_version": "1.2.0",
            "_view_count": null,
            "flex_flow": null,
            "width": null,
            "min_width": null,
            "border": null,
            "align_items": null,
            "bottom": null,
            "_model_module": "@jupyter-widgets/base",
            "top": null,
            "grid_column": null,
            "overflow_y": null,
            "overflow_x": null,
            "grid_auto_flow": null,
            "grid_area": null,
            "grid_template_columns": null,
            "flex": null,
            "_model_name": "LayoutModel",
            "justify_items": null,
            "grid_row": null,
            "max_height": null,
            "align_content": null,
            "visibility": null,
            "align_self": null,
            "height": null,
            "min_height": null,
            "padding": null,
            "grid_auto_rows": null,
            "grid_gap": null,
            "max_width": null,
            "order": null,
            "_view_module_version": "1.2.0",
            "grid_template_areas": null,
            "object_position": null,
            "object_fit": null,
            "grid_auto_columns": null,
            "margin": null,
            "display": null,
            "left": null
          }
        },
        "3470325a21d446f2a83e7908e40fe22f": {
          "model_module": "@jupyter-widgets/controls",
          "model_name": "FloatProgressModel",
          "state": {
            "_view_name": "ProgressView",
            "style": "IPY_MODEL_e5d9e92548124ec8863f1d5adcf2ab51",
            "_dom_classes": [],
            "description": "",
            "_model_name": "FloatProgressModel",
            "bar_style": "success",
            "max": 170498071,
            "_view_module": "@jupyter-widgets/controls",
            "_model_module_version": "1.5.0",
            "value": 170498071,
            "_view_count": null,
            "_view_module_version": "1.5.0",
            "orientation": "horizontal",
            "min": 0,
            "description_tooltip": null,
            "_model_module": "@jupyter-widgets/controls",
            "layout": "IPY_MODEL_7285ecf215d047f29801aff7e8a63bec"
          }
        },
        "0b9bc73a799d432abdfad3123e49e4c7": {
          "model_module": "@jupyter-widgets/controls",
          "model_name": "HTMLModel",
          "state": {
            "_view_name": "HTMLView",
            "style": "IPY_MODEL_1fc08f0148524721a5309cea2b82f2c6",
            "_dom_classes": [],
            "description": "",
            "_model_name": "HTMLModel",
            "placeholder": "​",
            "_view_module": "@jupyter-widgets/controls",
            "_model_module_version": "1.5.0",
            "value": " 170499072/? [00:07&lt;00:00, 21863977.41it/s]",
            "_view_count": null,
            "_view_module_version": "1.5.0",
            "description_tooltip": null,
            "_model_module": "@jupyter-widgets/controls",
            "layout": "IPY_MODEL_a0bc0f32dcd5430c9f5e60afb62850bf"
          }
        },
        "e5d9e92548124ec8863f1d5adcf2ab51": {
          "model_module": "@jupyter-widgets/controls",
          "model_name": "ProgressStyleModel",
          "state": {
            "_view_name": "StyleView",
            "_model_name": "ProgressStyleModel",
            "description_width": "initial",
            "_view_module": "@jupyter-widgets/base",
            "_model_module_version": "1.5.0",
            "_view_count": null,
            "_view_module_version": "1.2.0",
            "bar_color": null,
            "_model_module": "@jupyter-widgets/controls"
          }
        },
        "7285ecf215d047f29801aff7e8a63bec": {
          "model_module": "@jupyter-widgets/base",
          "model_name": "LayoutModel",
          "state": {
            "_view_name": "LayoutView",
            "grid_template_rows": null,
            "right": null,
            "justify_content": null,
            "_view_module": "@jupyter-widgets/base",
            "overflow": null,
            "_model_module_version": "1.2.0",
            "_view_count": null,
            "flex_flow": null,
            "width": null,
            "min_width": null,
            "border": null,
            "align_items": null,
            "bottom": null,
            "_model_module": "@jupyter-widgets/base",
            "top": null,
            "grid_column": null,
            "overflow_y": null,
            "overflow_x": null,
            "grid_auto_flow": null,
            "grid_area": null,
            "grid_template_columns": null,
            "flex": null,
            "_model_name": "LayoutModel",
            "justify_items": null,
            "grid_row": null,
            "max_height": null,
            "align_content": null,
            "visibility": null,
            "align_self": null,
            "height": null,
            "min_height": null,
            "padding": null,
            "grid_auto_rows": null,
            "grid_gap": null,
            "max_width": null,
            "order": null,
            "_view_module_version": "1.2.0",
            "grid_template_areas": null,
            "object_position": null,
            "object_fit": null,
            "grid_auto_columns": null,
            "margin": null,
            "display": null,
            "left": null
          }
        },
        "1fc08f0148524721a5309cea2b82f2c6": {
          "model_module": "@jupyter-widgets/controls",
          "model_name": "DescriptionStyleModel",
          "state": {
            "_view_name": "StyleView",
            "_model_name": "DescriptionStyleModel",
            "description_width": "",
            "_view_module": "@jupyter-widgets/base",
            "_model_module_version": "1.5.0",
            "_view_count": null,
            "_view_module_version": "1.2.0",
            "_model_module": "@jupyter-widgets/controls"
          }
        },
        "a0bc0f32dcd5430c9f5e60afb62850bf": {
          "model_module": "@jupyter-widgets/base",
          "model_name": "LayoutModel",
          "state": {
            "_view_name": "LayoutView",
            "grid_template_rows": null,
            "right": null,
            "justify_content": null,
            "_view_module": "@jupyter-widgets/base",
            "overflow": null,
            "_model_module_version": "1.2.0",
            "_view_count": null,
            "flex_flow": null,
            "width": null,
            "min_width": null,
            "border": null,
            "align_items": null,
            "bottom": null,
            "_model_module": "@jupyter-widgets/base",
            "top": null,
            "grid_column": null,
            "overflow_y": null,
            "overflow_x": null,
            "grid_auto_flow": null,
            "grid_area": null,
            "grid_template_columns": null,
            "flex": null,
            "_model_name": "LayoutModel",
            "justify_items": null,
            "grid_row": null,
            "max_height": null,
            "align_content": null,
            "visibility": null,
            "align_self": null,
            "height": null,
            "min_height": null,
            "padding": null,
            "grid_auto_rows": null,
            "grid_gap": null,
            "max_width": null,
            "order": null,
            "_view_module_version": "1.2.0",
            "grid_template_areas": null,
            "object_position": null,
            "object_fit": null,
            "grid_auto_columns": null,
            "margin": null,
            "display": null,
            "left": null
          }
        }
      }
    }
  },
  "cells": [
    {
      "cell_type": "code",
      "metadata": {
        "id": "JSjG64ra4aFu",
        "colab": {
          "base_uri": "https://localhost:8080/"
        },
        "outputId": "4a6a1b9d-9bf0-4b29-e651-41eb93abe859"
      },
      "source": [
        "from google.colab import drive\n",
        "drive.mount('/content/drive')"
      ],
      "execution_count": 1,
      "outputs": [
        {
          "output_type": "stream",
          "text": [
            "Mounted at /content/drive\n"
          ],
          "name": "stdout"
        }
      ]
    },
    {
      "cell_type": "code",
      "metadata": {
        "id": "3uDWznlVHuI6"
      },
      "source": [
        "path = \"/content/drive/MyDrive/Research/cods_comad_plots/sdc_task/cifar/\""
      ],
      "execution_count": 2,
      "outputs": []
    },
    {
      "cell_type": "code",
      "metadata": {
        "id": "V8-7SARDZErK"
      },
      "source": [
        "import torch.nn as nn\n",
        "import torch.nn.functional as F\n",
        "\n",
        "import pandas as pd\n",
        "import numpy as np\n",
        "import matplotlib.pyplot as plt\n",
        "\n",
        "import torch\n",
        "import torchvision\n",
        "import torchvision.transforms as transforms\n",
        "from torch.utils.data import Dataset, DataLoader\n",
        "from torchvision import transforms, utils\n",
        "\n",
        "from matplotlib import pyplot as plt\n",
        "\n",
        "import copy\n",
        "\n",
        "# Ignore warnings\n",
        "import warnings\n",
        "warnings.filterwarnings(\"ignore\")\n",
        "\n",
        "torch.backends.cudnn.deterministic = True\n",
        "torch.backends.cudnn.benchmark = False\n"
      ],
      "execution_count": 3,
      "outputs": []
    },
    {
      "cell_type": "code",
      "metadata": {
        "id": "acRFqJNrZErV",
        "colab": {
          "base_uri": "https://localhost:8080/",
          "height": 124,
          "referenced_widgets": [
            "89cc66b2d22142279ac447a71ea4fd5a",
            "8a988f07abd5419aa70fe30464795855",
            "3470325a21d446f2a83e7908e40fe22f",
            "0b9bc73a799d432abdfad3123e49e4c7",
            "e5d9e92548124ec8863f1d5adcf2ab51",
            "7285ecf215d047f29801aff7e8a63bec",
            "1fc08f0148524721a5309cea2b82f2c6",
            "a0bc0f32dcd5430c9f5e60afb62850bf"
          ]
        },
        "outputId": "e642a133-f19b-4666-b0fe-1251590f1f79"
      },
      "source": [
        "transform = transforms.Compose(\n",
        "    [transforms.ToTensor(),\n",
        "     transforms.Normalize((0.5, 0.5, 0.5), (0.5, 0.5, 0.5))])\n",
        "\n",
        "trainset = torchvision.datasets.CIFAR10(root='./data', train=True, download=True, transform=transform)\n",
        "\n",
        "\n",
        "testset = torchvision.datasets.CIFAR10(root='./data', train=False, download=True, transform=transform)\n",
        "\n",
        "trainloader = torch.utils.data.DataLoader(trainset, batch_size=10, shuffle=False)\n",
        "testloader = torch.utils.data.DataLoader(testset, batch_size=10, shuffle=False)\n",
        "\n",
        "\n",
        "classes = ('plane', 'car', 'bird', 'cat', 'deer', 'dog', 'frog', 'horse', 'ship', 'truck')\n",
        "\n",
        "foreground_classes = {'plane', 'car', 'bird'}\n",
        "\n",
        "background_classes = {'cat', 'deer', 'dog', 'frog', 'horse','ship', 'truck'}\n",
        "\n",
        "# print(type(foreground_classes))\n",
        "\n",
        "dataiter = iter(trainloader)\n",
        "background_data=[]\n",
        "background_label=[]\n",
        "foreground_data=[]\n",
        "foreground_label=[]\n",
        "batch_size=10\n",
        "\n",
        "for i in range(5000):   #5000*batch_size = 50000 data points\n",
        "  images, labels = dataiter.next()\n",
        "  for j in range(batch_size):\n",
        "    if(classes[labels[j]] in background_classes):\n",
        "      img = images[j].tolist()\n",
        "      background_data.append(img)\n",
        "      background_label.append(labels[j])\n",
        "    else:\n",
        "      img = images[j].tolist()\n",
        "      foreground_data.append(img)\n",
        "      foreground_label.append(labels[j])\n",
        "            \n",
        "foreground_data = torch.tensor(foreground_data)\n",
        "foreground_label = torch.tensor(foreground_label)\n",
        "background_data = torch.tensor(background_data)\n",
        "background_label = torch.tensor(background_label)\n",
        "    \n",
        "  "
      ],
      "execution_count": 4,
      "outputs": [
        {
          "output_type": "stream",
          "text": [
            "Downloading https://www.cs.toronto.edu/~kriz/cifar-10-python.tar.gz to ./data/cifar-10-python.tar.gz\n"
          ],
          "name": "stdout"
        },
        {
          "output_type": "display_data",
          "data": {
            "application/vnd.jupyter.widget-view+json": {
              "model_id": "89cc66b2d22142279ac447a71ea4fd5a",
              "version_minor": 0,
              "version_major": 2
            },
            "text/plain": [
              "HBox(children=(FloatProgress(value=0.0, max=170498071.0), HTML(value='')))"
            ]
          },
          "metadata": {
            "tags": []
          }
        },
        {
          "output_type": "stream",
          "text": [
            "\n",
            "Extracting ./data/cifar-10-python.tar.gz to ./data\n",
            "Files already downloaded and verified\n"
          ],
          "name": "stdout"
        }
      ]
    },
    {
      "cell_type": "code",
      "metadata": {
        "id": "mfVy58xnLkM7"
      },
      "source": [
        "fg1, fg2, fg3 = 0,1,2"
      ],
      "execution_count": 5,
      "outputs": []
    },
    {
      "cell_type": "code",
      "metadata": {
        "id": "iyyWx5g58erM"
      },
      "source": [
        "def imshow(img):\n",
        "  img = img / 2 + 0.5     # unnormalize\n",
        "  npimg = img#.numpy()\n",
        "  plt.imshow(np.transpose(npimg, (1, 2, 0)))\n",
        "  plt.show()"
      ],
      "execution_count": 6,
      "outputs": []
    },
    {
      "cell_type": "code",
      "metadata": {
        "colab": {
          "base_uri": "https://localhost:8080/"
        },
        "id": "U5w9S6xb6EFl",
        "outputId": "02e1a86a-5d6a-4c31-d193-cd46113ab2c0"
      },
      "source": [
        "foreground_data.shape, foreground_label.shape, background_data.shape, background_label.shape"
      ],
      "execution_count": 7,
      "outputs": [
        {
          "output_type": "execute_result",
          "data": {
            "text/plain": [
              "(torch.Size([15000, 3, 32, 32]),\n",
              " torch.Size([15000]),\n",
              " torch.Size([35000, 3, 32, 32]),\n",
              " torch.Size([35000]))"
            ]
          },
          "metadata": {
            "tags": []
          },
          "execution_count": 7
        }
      ]
    },
    {
      "cell_type": "code",
      "metadata": {
        "colab": {
          "base_uri": "https://localhost:8080/"
        },
        "id": "IRd6EpWM6Abq",
        "outputId": "c24c5ead-74cd-418c-9203-86c6342f95fa"
      },
      "source": [
        "val, idx = torch.max(background_data, dim=0, keepdims= True,)\n",
        "torch.abs(val)"
      ],
      "execution_count": 8,
      "outputs": [
        {
          "output_type": "execute_result",
          "data": {
            "text/plain": [
              "tensor([[[[1., 1., 1.,  ..., 1., 1., 1.],\n",
              "          [1., 1., 1.,  ..., 1., 1., 1.],\n",
              "          [1., 1., 1.,  ..., 1., 1., 1.],\n",
              "          ...,\n",
              "          [1., 1., 1.,  ..., 1., 1., 1.],\n",
              "          [1., 1., 1.,  ..., 1., 1., 1.],\n",
              "          [1., 1., 1.,  ..., 1., 1., 1.]],\n",
              "\n",
              "         [[1., 1., 1.,  ..., 1., 1., 1.],\n",
              "          [1., 1., 1.,  ..., 1., 1., 1.],\n",
              "          [1., 1., 1.,  ..., 1., 1., 1.],\n",
              "          ...,\n",
              "          [1., 1., 1.,  ..., 1., 1., 1.],\n",
              "          [1., 1., 1.,  ..., 1., 1., 1.],\n",
              "          [1., 1., 1.,  ..., 1., 1., 1.]],\n",
              "\n",
              "         [[1., 1., 1.,  ..., 1., 1., 1.],\n",
              "          [1., 1., 1.,  ..., 1., 1., 1.],\n",
              "          [1., 1., 1.,  ..., 1., 1., 1.],\n",
              "          ...,\n",
              "          [1., 1., 1.,  ..., 1., 1., 1.],\n",
              "          [1., 1., 1.,  ..., 1., 1., 1.],\n",
              "          [1., 1., 1.,  ..., 1., 1., 1.]]]])"
            ]
          },
          "metadata": {
            "tags": []
          },
          "execution_count": 8
        }
      ]
    },
    {
      "cell_type": "code",
      "metadata": {
        "id": "Sly62nHh6VJy"
      },
      "source": [
        "mean_bg = torch.mean(background_data, dim=0, keepdims= True)\n",
        "std_bg = torch.std(background_data, dim=0, keepdims= True)"
      ],
      "execution_count": 9,
      "outputs": []
    },
    {
      "cell_type": "code",
      "metadata": {
        "colab": {
          "base_uri": "https://localhost:8080/"
        },
        "id": "K89Qj57m6axj",
        "outputId": "f88eede8-b710-4390-82cc-e2295f70db73"
      },
      "source": [
        "mean_bg.shape, std_bg.shape"
      ],
      "execution_count": 10,
      "outputs": [
        {
          "output_type": "execute_result",
          "data": {
            "text/plain": [
              "(torch.Size([1, 3, 32, 32]), torch.Size([1, 3, 32, 32]))"
            ]
          },
          "metadata": {
            "tags": []
          },
          "execution_count": 10
        }
      ]
    },
    {
      "cell_type": "code",
      "metadata": {
        "id": "wGVjRbqZ6lzV"
      },
      "source": [
        "foreground_data = (foreground_data - mean_bg) / std_bg\n",
        "background_data = (background_data - mean_bg) / std_bg"
      ],
      "execution_count": 11,
      "outputs": []
    },
    {
      "cell_type": "code",
      "metadata": {
        "colab": {
          "base_uri": "https://localhost:8080/"
        },
        "id": "yxZVq5OW6o3L",
        "outputId": "1456b169-0348-47b6-b01d-eca762de3ae7"
      },
      "source": [
        "foreground_data.shape, foreground_label.shape, background_data.shape, background_label.shape"
      ],
      "execution_count": 12,
      "outputs": [
        {
          "output_type": "execute_result",
          "data": {
            "text/plain": [
              "(torch.Size([15000, 3, 32, 32]),\n",
              " torch.Size([15000]),\n",
              " torch.Size([35000, 3, 32, 32]),\n",
              " torch.Size([35000]))"
            ]
          },
          "metadata": {
            "tags": []
          },
          "execution_count": 12
        }
      ]
    },
    {
      "cell_type": "code",
      "metadata": {
        "colab": {
          "base_uri": "https://localhost:8080/"
        },
        "id": "pTrGcqI7GsBA",
        "outputId": "cc8b7ae1-855d-4608-d93a-2ae08691b146"
      },
      "source": [
        "torch.sum(torch.isnan(foreground_data)), torch.sum(torch.isnan(background_data))"
      ],
      "execution_count": 13,
      "outputs": [
        {
          "output_type": "execute_result",
          "data": {
            "text/plain": [
              "(tensor(0), tensor(0))"
            ]
          },
          "metadata": {
            "tags": []
          },
          "execution_count": 13
        }
      ]
    },
    {
      "cell_type": "code",
      "metadata": {
        "colab": {
          "base_uri": "https://localhost:8080/",
          "height": 285
        },
        "id": "fIqpbILY-BiG",
        "outputId": "1bec7652-94f9-4099-a647-5a33c011484e"
      },
      "source": [
        "imshow(foreground_data[0])"
      ],
      "execution_count": 14,
      "outputs": [
        {
          "output_type": "stream",
          "text": [
            "Clipping input data to the valid range for imshow with RGB data ([0..1] for floats or [0..255] for integers).\n"
          ],
          "name": "stderr"
        },
        {
          "output_type": "display_data",
          "data": {
            "image/png": "[encoded data removed]",
            "text/plain": [
              "<Figure size 432x288 with 1 Axes>"
            ]
          },
          "metadata": {
            "tags": [],
            "needs_background": "light"
          }
        }
      ]
    },
    {
      "cell_type": "code",
      "metadata": {
        "colab": {
          "base_uri": "https://localhost:8080/",
          "height": 285
        },
        "id": "tRvTvlVo98xz",
        "outputId": "0481c016-67c9-4fb3-f2cc-1eebf6735d2f"
      },
      "source": [
        "imshow(background_data[2])"
      ],
      "execution_count": 15,
      "outputs": [
        {
          "output_type": "stream",
          "text": [
            "Clipping input data to the valid range for imshow with RGB data ([0..1] for floats or [0..255] for integers).\n"
          ],
          "name": "stderr"
        },
        {
          "output_type": "display_data",
          "data": {
            "image/png": "[encoded data removed]",
            "text/plain": [
              "<Figure size 432x288 with 1 Axes>"
            ]
          },
          "metadata": {
            "tags": [],
            "needs_background": "light"
          }
        }
      ]
    },
    {
      "cell_type": "code",
      "metadata": {
        "id": "DAbEuMWNqIR_"
      },
      "source": [
        "def create_mosaic_img(bg_idx,fg_idx,fg): \n",
        "  \"\"\"\n",
        "  bg_idx : list of indexes of background_data[] to be used as background images in mosaic\n",
        "  fg_idx : index of image to be used as foreground image from foreground data\n",
        "  fg : at what position/index foreground image has to be stored out of 0-8\n",
        "  \"\"\"\n",
        "  image_list=[]\n",
        "  j=0\n",
        "  for i in range(9):\n",
        "    if i != fg:\n",
        "      image_list.append(background_data[bg_idx[j]])\n",
        "      j+=1\n",
        "    else: \n",
        "      image_list.append(foreground_data[fg_idx])\n",
        "      label = foreground_label[fg_idx] - fg1  # minus fg1 because our fore ground classes are fg1,fg2,fg3 but we have to store it as 0,1,2\n",
        "  #image_list = np.concatenate(image_list ,axis=0)\n",
        "  image_list = torch.stack(image_list) \n",
        "  return image_list,label"
      ],
      "execution_count": 16,
      "outputs": []
    },
    {
      "cell_type": "code",
      "metadata": {
        "id": "uW9MkktGysAp"
      },
      "source": [
        "# def create_mosaic_img(bg_idx,fg_idx,fg): \n",
        "#   \"\"\"\n",
        "#   bg_idx : list of indexes of background_data[] to be used as background images in mosaic\n",
        "#   fg_idx : index of image to be used as foreground image from foreground data\n",
        "#   fg : at what position/index foreground image has to be stored out of 0-8\n",
        "#   \"\"\"\n",
        "#   image_list=[]\n",
        "#   j=0\n",
        "#   for i in range(9):\n",
        "#     if i != fg:\n",
        "#       image_list.append(background_data[bg_idx[j]].type(\"torch.DoubleTensor\"))\n",
        "#       j+=1\n",
        "#     else: \n",
        "#       image_list.append(foreground_data[fg_idx].type(\"torch.DoubleTensor\"))\n",
        "#       label = foreground_label[fg_idx]- fg1  # minus 7 because our fore ground classes are 7,8,9 but we have to store it as 0,1,2\n",
        "#   #image_list = np.concatenate(image_list ,axis=0)\n",
        "#   image_list = torch.stack(image_list) \n",
        "#   return image_list,label"
      ],
      "execution_count": 17,
      "outputs": []
    },
    {
      "cell_type": "code",
      "metadata": {
        "id": "lWxkp87fNwnM"
      },
      "source": [
        "desired_num = 20000\n",
        "mosaic_list_of_images =[]      # list of mosaic images, each mosaic image is saved as list of 9 images\n",
        "fore_idx =[]                   # list of indexes at which foreground image is present in a mosaic image i.e from 0 to 9               \n",
        "mosaic_label=[]                # label of mosaic image = foreground class present in that mosaic\n",
        "list_set_labels = [] \n",
        "for i in range(desired_num):\n",
        "  set_idx = set()\n",
        "  np.random.seed(i)\n",
        "  bg_idx = np.random.randint(0,35000,8)\n",
        "  set_idx = set(background_label[bg_idx].tolist())\n",
        "  fg_idx = np.random.randint(0,15000)\n",
        "  set_idx.add(foreground_label[fg_idx].item())\n",
        "  fg = np.random.randint(0,9)\n",
        "  fore_idx.append(fg)\n",
        "  image_list,label = create_mosaic_img(bg_idx,fg_idx,fg)\n",
        "  mosaic_list_of_images.append(image_list)\n",
        "  mosaic_label.append(label)\n",
        "  list_set_labels.append(set_idx)"
      ],
      "execution_count": 27,
      "outputs": []
    },
    {
      "cell_type": "code",
      "metadata": {
        "colab": {
          "base_uri": "https://localhost:8080/"
        },
        "id": "V4It935z69E8",
        "outputId": "c9963f9d-2a63-4a7c-be33-69ac1aef4d68"
      },
      "source": [
        "mosaic_list_of_images_train = torch.stack(mosaic_list_of_images)\n",
        "mosaic_list_of_images_train.shape"
      ],
      "execution_count": 28,
      "outputs": [
        {
          "output_type": "execute_result",
          "data": {
            "text/plain": [
              "torch.Size([20000, 9, 3, 32, 32])"
            ]
          },
          "metadata": {
            "tags": []
          },
          "execution_count": 28
        }
      ]
    },
    {
      "cell_type": "code",
      "metadata": {
        "colab": {
          "base_uri": "https://localhost:8080/",
          "height": 285
        },
        "id": "ZQbTT2qVMPTE",
        "outputId": "63e3cfad-f19a-4d96-e393-86c45c0fb622"
      },
      "source": [
        "imshow(mosaic_list_of_images_train[0][2])"
      ],
      "execution_count": 29,
      "outputs": [
        {
          "output_type": "stream",
          "text": [
            "Clipping input data to the valid range for imshow with RGB data ([0..1] for floats or [0..255] for integers).\n"
          ],
          "name": "stderr"
        },
        {
          "output_type": "display_data",
          "data": {
            "image/png": "[encoded data removed]",
            "text/plain": [
              "<Figure size 432x288 with 1 Axes>"
            ]
          },
          "metadata": {
            "tags": [],
            "needs_background": "light"
          }
        }
      ]
    },
    {
      "cell_type": "code",
      "metadata": {
        "id": "Sc0zklISqMZX"
      },
      "source": [
        "mean_train = torch.mean(mosaic_list_of_images_train[0:10000], dim=0, keepdims= True)\n",
        "std_train = torch.std(mosaic_list_of_images_train[0:10000], dim=0, keepdims= True) \n",
        "mosaic_list_of_images_train = (mosaic_list_of_images_train - mean_train) / std_train"
      ],
      "execution_count": 30,
      "outputs": []
    },
    {
      "cell_type": "code",
      "metadata": {
        "colab": {
          "base_uri": "https://localhost:8080/",
          "height": 285
        },
        "id": "wJW7lHp97bX6",
        "outputId": "8efcc697-a58f-464a-e0f1-cf89a3d8394e"
      },
      "source": [
        "imshow(mosaic_list_of_images_train[0][2])"
      ],
      "execution_count": 31,
      "outputs": [
        {
          "output_type": "stream",
          "text": [
            "Clipping input data to the valid range for imshow with RGB data ([0..1] for floats or [0..255] for integers).\n"
          ],
          "name": "stderr"
        },
        {
          "output_type": "display_data",
          "data": {
            "image/png": "[encoded data removed]",
            "text/plain": [
              "<Figure size 432x288 with 1 Axes>"
            ]
          },
          "metadata": {
            "tags": [],
            "needs_background": "light"
          }
        }
      ]
    },
    {
      "cell_type": "code",
      "metadata": {
        "colab": {
          "base_uri": "https://localhost:8080/"
        },
        "id": "LaUSQrnBFzud",
        "outputId": "75f052d0-6ba2-4624-d351-efea3d3237ef"
      },
      "source": [
        "torch.sum(torch.isnan(mosaic_list_of_images_train))"
      ],
      "execution_count": 32,
      "outputs": [
        {
          "output_type": "execute_result",
          "data": {
            "text/plain": [
              "tensor(0)"
            ]
          },
          "metadata": {
            "tags": []
          },
          "execution_count": 32
        }
      ]
    },
    {
      "cell_type": "code",
      "metadata": {
        "id": "AJuGak6_zXgx"
      },
      "source": [
        "class MosaicDataset(Dataset):\n",
        "  \"\"\"MosaicDataset dataset.\"\"\"\n",
        "\n",
        "  def __init__(self, mosaic_list_of_images, mosaic_label, fore_idx):\n",
        "    \"\"\"\n",
        "      Args:\n",
        "        csv_file (string): Path to the csv file with annotations.\n",
        "        root_dir (string): Directory with all the images.\n",
        "        transform (callable, optional): Optional transform to be applied\n",
        "            on a sample.\n",
        "    \"\"\"\n",
        "    self.mosaic = mosaic_list_of_images\n",
        "    self.label = mosaic_label\n",
        "    self.fore_idx = fore_idx\n",
        "\n",
        "  def __len__(self):\n",
        "    return len(self.label)\n",
        "\n",
        "  def __getitem__(self, idx):\n",
        "    return self.mosaic[idx] , self.label[idx], self.fore_idx[idx]\n",
        "\n",
        "batch = 250\n",
        "msd = MosaicDataset(mosaic_list_of_images_train[0:10000], mosaic_label[0:10000] , fore_idx[0:10000])\n",
        "train_loader = DataLoader( msd,batch_size= batch ,shuffle=True)\n",
        "\n",
        "test_data = MosaicDataset(mosaic_list_of_images_train[10000:20000], mosaic_label[10000:20000] , fore_idx[10000 : 20000])\n",
        "test_loader = DataLoader( test_data,batch_size= batch ,shuffle=False)"
      ],
      "execution_count": 33,
      "outputs": []
    },
    {
      "cell_type": "code",
      "metadata": {
        "id": "SadRzWBBZEsP"
      },
      "source": [
        "class Focus(nn.Module):\n",
        "  def __init__(self):\n",
        "    super(Focus, self).__init__()\n",
        "\n",
        "    self.conv1 = nn.Conv2d(in_channels=3, out_channels=32, kernel_size=3, padding=0, bias=False)\n",
        "    self.pool = nn.MaxPool2d(2, 2)\n",
        "    self.conv2 = nn.Conv2d(in_channels=32, out_channels=64, kernel_size=3, padding=0, bias=False)\n",
        "    self.conv3 = nn.Conv2d(in_channels=64, out_channels=64, kernel_size=3, padding=0, bias=False)\n",
        "    self.fc1 = nn.Linear(1024, 512, bias=False)\n",
        "    self.fc2 = nn.Linear(512, 64, bias=False)\n",
        "    self.fc3 = nn.Linear(64, 10, bias=False)\n",
        "    self.fc4 = nn.Linear(10,1, bias=False)\n",
        "\n",
        "    torch.nn.init.xavier_normal_(self.conv1.weight)\n",
        "    torch.nn.init.xavier_normal_(self.conv2.weight)\n",
        "    torch.nn.init.xavier_normal_(self.conv3.weight)\n",
        "    torch.nn.init.xavier_normal_(self.fc1.weight)\n",
        "    torch.nn.init.xavier_normal_(self.fc2.weight)\n",
        "    torch.nn.init.xavier_normal_(self.fc3.weight)\n",
        "    torch.nn.init.xavier_normal_(self.fc4.weight)\n",
        "\n",
        "  def forward(self,z):  #y is avg image #z batch of list of 9 images\n",
        "    y = torch.zeros([batch,3, 32,32], dtype=torch.float64)\n",
        "    x = torch.zeros([batch,9],dtype=torch.float64)\n",
        "    y = y.to(\"cuda\")\n",
        "    x = x.to(\"cuda\")\n",
        "    \n",
        "    for i in range(9):\n",
        "        x[:,i] = self.helper(z[:,i])[:,0]\n",
        "\n",
        "    x = F.softmax(x,dim=1)\n",
        "\n",
        "    x1 = x[:,0]\n",
        "    torch.mul(x1[:,None,None,None],z[:,0])\n",
        "\n",
        "    for i in range(9):            \n",
        "      x1 = x[:,i]          \n",
        "      y = y + torch.mul(x1[:,None,None,None],z[:,i])\n",
        "\n",
        "    return x, y\n",
        "    \n",
        "  def helper(self, x):\n",
        "    x = self.pool(F.relu(self.conv1(x)))\n",
        "    x = self.pool(F.relu(self.conv2(x)))\n",
        "    # print(x.shape)\n",
        "    x = (F.relu(self.conv3(x)))\n",
        "    x =  x.view(x.size(0), -1)\n",
        "    # print(x.shape)\n",
        "    x = F.relu(self.fc1(x))\n",
        "    x = F.relu(self.fc2(x))\n",
        "    x = F.relu(self.fc3(x))\n",
        "    x = self.fc4(x)\n",
        "    return x"
      ],
      "execution_count": 34,
      "outputs": []
    },
    {
      "cell_type": "code",
      "metadata": {
        "id": "KoP6hoBqNJxX"
      },
      "source": [
        "class Classification(nn.Module):\n",
        "  def __init__(self):\n",
        "    super(Classification, self).__init__()\n",
        "    self.conv1 = nn.Conv2d(3, 6, 5)\n",
        "    self.pool = nn.MaxPool2d(2, 2)\n",
        "    self.conv2 = nn.Conv2d(6, 16, 5)\n",
        "    self.fc1 = nn.Linear(16 * 5 * 5, 120)\n",
        "    self.fc2 = nn.Linear(120, 84)\n",
        "    self.fc3 = nn.Linear(84, 10)\n",
        "    self.fc4 = nn.Linear(10,3)\n",
        "\n",
        "    torch.nn.init.xavier_normal_(self.conv1.weight)\n",
        "    torch.nn.init.zeros_(self.conv1.bias)\n",
        "    torch.nn.init.xavier_normal_(self.conv2.weight)\n",
        "    torch.nn.init.zeros_(self.conv2.bias)\n",
        "    torch.nn.init.xavier_normal_(self.fc1.weight)\n",
        "    torch.nn.init.zeros_(self.fc1.bias)\n",
        "    torch.nn.init.xavier_normal_(self.fc2.weight)\n",
        "    torch.nn.init.zeros_(self.fc2.bias)\n",
        "    torch.nn.init.xavier_normal_(self.fc3.weight)\n",
        "    torch.nn.init.zeros_(self.fc3.bias)\n",
        "    torch.nn.init.xavier_normal_(self.fc4.weight)\n",
        "    torch.nn.init.zeros_(self.fc4.bias)\n",
        "\n",
        "  def forward(self,z): \n",
        "    y1 = self.pool(F.relu(self.conv1(z)))\n",
        "    y1 = self.pool(F.relu(self.conv2(y1)))\n",
        "    y1 = y1.view(-1, 16 * 5 * 5)\n",
        "\n",
        "    y1 = F.relu(self.fc1(y1))\n",
        "    y1 = F.relu(self.fc2(y1))\n",
        "    y1 = F.relu(self.fc3(y1))\n",
        "    y1 = self.fc4(y1)\n",
        "    return y1 "
      ],
      "execution_count": 35,
      "outputs": []
    },
    {
      "cell_type": "code",
      "metadata": {
        "id": "1GvXR1zV5n4w"
      },
      "source": [
        "torch.manual_seed(12)\n",
        "focus_net = Focus().double()\n",
        "focus_net = focus_net.to(\"cuda\")"
      ],
      "execution_count": 52,
      "outputs": []
    },
    {
      "cell_type": "code",
      "metadata": {
        "colab": {
          "base_uri": "https://localhost:8080/"
        },
        "id": "Ka1qSbmAGclf",
        "outputId": "0e2a91c7-1685-420e-e963-d087de45fd02"
      },
      "source": [
        "focus_net.fc3.weight.shape,focus_net.fc4.weight.shape"
      ],
      "execution_count": 53,
      "outputs": [
        {
          "output_type": "execute_result",
          "data": {
            "text/plain": [
              "(torch.Size([10, 64]), torch.Size([1, 10]))"
            ]
          },
          "metadata": {
            "tags": []
          },
          "execution_count": 53
        }
      ]
    },
    {
      "cell_type": "code",
      "metadata": {
        "colab": {
          "base_uri": "https://localhost:8080/"
        },
        "id": "yo6y03w9-pi8",
        "outputId": "e35f0530-d876-4632-b1f9-5d70b506d53e"
      },
      "source": [
        "focus_net.fc3.weight.data[5:,:] = focus_net.fc3.weight.data[:5,:] #torch.nn.Parameter(torch.tensor([last_layer]) )\n",
        "(focus_net.fc3.weight[:5,:]== focus_net.fc3.weight[5:,:] )"
      ],
      "execution_count": 54,
      "outputs": [
        {
          "output_type": "execute_result",
          "data": {
            "text/plain": [
              "tensor([[True, True, True, True, True, True, True, True, True, True, True, True,\n",
              "         True, True, True, True, True, True, True, True, True, True, True, True,\n",
              "         True, True, True, True, True, True, True, True, True, True, True, True,\n",
              "         True, True, True, True, True, True, True, True, True, True, True, True,\n",
              "         True, True, True, True, True, True, True, True, True, True, True, True,\n",
              "         True, True, True, True],\n",
              "        [True, True, True, True, True, True, True, True, True, True, True, True,\n",
              "         True, True, True, True, True, True, True, True, True, True, True, True,\n",
              "         True, True, True, True, True, True, True, True, True, True, True, True,\n",
              "         True, True, True, True, True, True, True, True, True, True, True, True,\n",
              "         True, True, True, True, True, True, True, True, True, True, True, True,\n",
              "         True, True, True, True],\n",
              "        [True, True, True, True, True, True, True, True, True, True, True, True,\n",
              "         True, True, True, True, True, True, True, True, True, True, True, True,\n",
              "         True, True, True, True, True, True, True, True, True, True, True, True,\n",
              "         True, True, True, True, True, True, True, True, True, True, True, True,\n",
              "         True, True, True, True, True, True, True, True, True, True, True, True,\n",
              "         True, True, True, True],\n",
              "        [True, True, True, True, True, True, True, True, True, True, True, True,\n",
              "         True, True, True, True, True, True, True, True, True, True, True, True,\n",
              "         True, True, True, True, True, True, True, True, True, True, True, True,\n",
              "         True, True, True, True, True, True, True, True, True, True, True, True,\n",
              "         True, True, True, True, True, True, True, True, True, True, True, True,\n",
              "         True, True, True, True],\n",
              "        [True, True, True, True, True, True, True, True, True, True, True, True,\n",
              "         True, True, True, True, True, True, True, True, True, True, True, True,\n",
              "         True, True, True, True, True, True, True, True, True, True, True, True,\n",
              "         True, True, True, True, True, True, True, True, True, True, True, True,\n",
              "         True, True, True, True, True, True, True, True, True, True, True, True,\n",
              "         True, True, True, True]], device='cuda:0')"
            ]
          },
          "metadata": {
            "tags": []
          },
          "execution_count": 54
        }
      ]
    },
    {
      "cell_type": "code",
      "metadata": {
        "colab": {
          "base_uri": "https://localhost:8080/"
        },
        "id": "n60qrBoOAEmD",
        "outputId": "87f12bf9-537a-4542-b62c-40bafd9397f0"
      },
      "source": [
        "focus_net.fc4.weight.data[:,5:] = -focus_net.fc4.weight.data[:,:5] #torch.nn.Parameter(torch.tensor([last_layer]) )\n",
        "focus_net.fc4.weight"
      ],
      "execution_count": 55,
      "outputs": [
        {
          "output_type": "execute_result",
          "data": {
            "text/plain": [
              "Parameter containing:\n",
              "tensor([[ 0.3776, -0.2667,  0.4803,  0.6705, -0.1991, -0.3776,  0.2667, -0.4803,\n",
              "         -0.6705,  0.1991]], device='cuda:0', dtype=torch.float64,\n",
              "       requires_grad=True)"
            ]
          },
          "metadata": {
            "tags": []
          },
          "execution_count": 55
        }
      ]
    },
    {
      "cell_type": "code",
      "metadata": {
        "id": "s3MCpEzTDN0e"
      },
      "source": [
        "focus_net = focus_net.double().to(\"cuda\")"
      ],
      "execution_count": 56,
      "outputs": []
    },
    {
      "cell_type": "code",
      "metadata": {
        "colab": {
          "base_uri": "https://localhost:8080/"
        },
        "id": "NkgDgLkNHWIn",
        "outputId": "00b74a7f-7092-4b9c-ddab-81d41ff63f1a"
      },
      "source": [
        "focus_net.helper( torch.randn((10,3,32,32)).double().to(\"cuda\") )"
      ],
      "execution_count": 57,
      "outputs": [
        {
          "output_type": "execute_result",
          "data": {
            "text/plain": [
              "tensor([[ 0.0000e+00],\n",
              "        [-2.6021e-17],\n",
              "        [ 0.0000e+00],\n",
              "        [ 0.0000e+00],\n",
              "        [ 0.0000e+00],\n",
              "        [ 0.0000e+00],\n",
              "        [-2.7756e-17],\n",
              "        [ 0.0000e+00],\n",
              "        [-2.7756e-17],\n",
              "        [ 0.0000e+00]], device='cuda:0', dtype=torch.float64,\n",
              "       grad_fn=<MmBackward>)"
            ]
          },
          "metadata": {
            "tags": []
          },
          "execution_count": 57
        }
      ]
    },
    {
      "cell_type": "code",
      "metadata": {
        "id": "uPYplUGazU9I"
      },
      "source": [
        "torch.manual_seed(12)\n",
        "classify = Classification().double()\n",
        "classify = classify.to(\"cuda\")"
      ],
      "execution_count": 58,
      "outputs": []
    },
    {
      "cell_type": "code",
      "metadata": {
        "colab": {
          "base_uri": "https://localhost:8080/"
        },
        "id": "a4TdYFu1QXfF",
        "outputId": "2d4fafd6-5e99-404d-e151-e369b5655af2"
      },
      "source": [
        "classify.conv1.bias"
      ],
      "execution_count": 59,
      "outputs": [
        {
          "output_type": "execute_result",
          "data": {
            "text/plain": [
              "Parameter containing:\n",
              "tensor([0., 0., 0., 0., 0., 0.], device='cuda:0', dtype=torch.float64,\n",
              "       requires_grad=True)"
            ]
          },
          "metadata": {
            "tags": []
          },
          "execution_count": 59
        }
      ]
    },
    {
      "cell_type": "code",
      "metadata": {
        "colab": {
          "base_uri": "https://localhost:8080/"
        },
        "id": "z-2AmM8DEMuW",
        "outputId": "e8844c64-048f-4558-84aa-a5943491216e"
      },
      "source": [
        "classify.fc1.weight"
      ],
      "execution_count": 60,
      "outputs": [
        {
          "output_type": "execute_result",
          "data": {
            "text/plain": [
              "Parameter containing:\n",
              "tensor([[ 0.0323, -0.0305, -0.0845,  ..., -0.0374,  0.0833,  0.0080],\n",
              "        [-0.0261,  0.0081,  0.0135,  ..., -0.0489, -0.0067, -0.0081],\n",
              "        [ 0.0321,  0.1046,  0.1885,  ..., -0.1145, -0.0082,  0.0161],\n",
              "        ...,\n",
              "        [ 0.0156,  0.0441, -0.0008,  ...,  0.0455,  0.1760,  0.1299],\n",
              "        [-0.0436,  0.0293,  0.0191,  ...,  0.0078, -0.0303,  0.0708],\n",
              "        [ 0.0121,  0.0666, -0.1084,  ...,  0.0186, -0.0154,  0.0290]],\n",
              "       device='cuda:0', dtype=torch.float64, requires_grad=True)"
            ]
          },
          "metadata": {
            "tags": []
          },
          "execution_count": 60
        }
      ]
    },
    {
      "cell_type": "code",
      "metadata": {
        "colab": {
          "base_uri": "https://localhost:8080/"
        },
        "id": "XHyzydD6EP49",
        "outputId": "126525aa-3e80-46bb-8a5d-2461216faa4e"
      },
      "source": [
        "classify.fc1.bias"
      ],
      "execution_count": 61,
      "outputs": [
        {
          "output_type": "execute_result",
          "data": {
            "text/plain": [
              "Parameter containing:\n",
              "tensor([0., 0., 0., 0., 0., 0., 0., 0., 0., 0., 0., 0., 0., 0., 0., 0., 0., 0., 0., 0., 0., 0., 0., 0.,\n",
              "        0., 0., 0., 0., 0., 0., 0., 0., 0., 0., 0., 0., 0., 0., 0., 0., 0., 0., 0., 0., 0., 0., 0., 0.,\n",
              "        0., 0., 0., 0., 0., 0., 0., 0., 0., 0., 0., 0., 0., 0., 0., 0., 0., 0., 0., 0., 0., 0., 0., 0.,\n",
              "        0., 0., 0., 0., 0., 0., 0., 0., 0., 0., 0., 0., 0., 0., 0., 0., 0., 0., 0., 0., 0., 0., 0., 0.,\n",
              "        0., 0., 0., 0., 0., 0., 0., 0., 0., 0., 0., 0., 0., 0., 0., 0., 0., 0., 0., 0., 0., 0., 0., 0.],\n",
              "       device='cuda:0', dtype=torch.float64, requires_grad=True)"
            ]
          },
          "metadata": {
            "tags": []
          },
          "execution_count": 61
        }
      ]
    },
    {
      "cell_type": "code",
      "metadata": {
        "id": "n5g3geNJ5zEu"
      },
      "source": [
        "import torch.optim as optim\n",
        "criterion = nn.CrossEntropyLoss()\n",
        "optimizer_classify = optim.Adam(classify.parameters(), lr=0.001  ) #, momentum=0.9)\n",
        "optimizer_focus = optim.Adam(focus_net.parameters(), lr=0.001  ) #, momentum=0.9)"
      ],
      "execution_count": 62,
      "outputs": []
    },
    {
      "cell_type": "code",
      "metadata": {
        "id": "UAelS-DgaO9M"
      },
      "source": [
        "col1=[]\n",
        "col2=[]\n",
        "col3=[]\n",
        "col4=[]\n",
        "col5=[]\n",
        "col6=[]\n",
        "col7=[]\n",
        "col8=[]\n",
        "col9=[]\n",
        "col10=[]\n",
        "col11=[]\n",
        "col12=[]\n",
        "col13=[]"
      ],
      "execution_count": 63,
      "outputs": []
    },
    {
      "cell_type": "code",
      "metadata": {
        "id": "4ZZ-kb-aaPv7",
        "colab": {
          "base_uri": "https://localhost:8080/"
        },
        "outputId": "debe1118-8477-45ee-8889-596d9f4179e2"
      },
      "source": [
        "correct = 0\n",
        "total = 0\n",
        "count = 0\n",
        "flag = 1\n",
        "focus_true_pred_true =0\n",
        "focus_false_pred_true =0\n",
        "focus_true_pred_false =0\n",
        "focus_false_pred_false =0\n",
        "\n",
        "argmax_more_than_half = 0\n",
        "argmax_less_than_half =0\n",
        "\n",
        "with torch.no_grad():\n",
        "  for data in train_loader:\n",
        "    inputs, labels , fore_idx = data\n",
        "    inputs = inputs.double()\n",
        "    inputs, labels , fore_idx = inputs.to(\"cuda\"),labels.to(\"cuda\"), fore_idx.to(\"cuda\")\n",
        "    alphas, avg_images = focus_net(inputs)\n",
        "    # print(alphas)\n",
        "    outputs = classify(avg_images)\n",
        "\n",
        "    _, predicted = torch.max(outputs.data, 1)\n",
        "\n",
        "    for j in range(labels.size(0)):\n",
        "      count += 1\n",
        "      focus = torch.argmax(alphas[j])\n",
        "      if alphas[j][focus] >= 0.5 :\n",
        "        argmax_more_than_half += 1\n",
        "      else:\n",
        "        argmax_less_than_half += 1\n",
        "\n",
        "      if(focus == fore_idx[j] and predicted[j] == labels[j]):\n",
        "          focus_true_pred_true += 1\n",
        "      elif(focus != fore_idx[j] and predicted[j] == labels[j]):\n",
        "        focus_false_pred_true += 1\n",
        "      elif(focus == fore_idx[j] and predicted[j] != labels[j]):\n",
        "        focus_true_pred_false += 1\n",
        "      elif(focus != fore_idx[j] and predicted[j] != labels[j]):\n",
        "        focus_false_pred_false += 1\n",
        "\n",
        "    total += labels.size(0)\n",
        "    correct += (predicted == labels).sum().item()\n",
        "\n",
        "print('Accuracy of the network on the 30000 train images: %d %%' % ( 100 * correct / total))\n",
        "print(\"total correct\", correct)\n",
        "print(\"total train set images\", total)\n",
        "\n",
        "print(\"focus_true_pred_true %d =============> FTPT : %d %%\" % (focus_true_pred_true , (100 * focus_true_pred_true / total) ) )\n",
        "print(\"focus_false_pred_true %d =============> FFPT : %d %%\" % (focus_false_pred_true, (100 * focus_false_pred_true / total) ) )\n",
        "print(\"focus_true_pred_false %d =============> FTPF : %d %%\" %( focus_true_pred_false , ( 100 * focus_true_pred_false / total) ) )\n",
        "print(\"focus_false_pred_false %d =============> FFPF : %d %%\" % (focus_false_pred_false, ( 100 * focus_false_pred_false / total) ) )\n",
        "\n",
        "print(\"argmax_more_than_half ==================> \",argmax_more_than_half)\n",
        "print(\"argmax_less_than_half ==================> \",argmax_less_than_half)\n",
        "print(count)\n",
        "\n",
        "print(\"=\"*100)\n",
        "\n",
        "col1.append(0)\n",
        "col2.append(argmax_more_than_half)\n",
        "col3.append(argmax_less_than_half)\n",
        "col4.append(focus_true_pred_true)\n",
        "col5.append(focus_false_pred_true)\n",
        "col6.append(focus_true_pred_false)\n",
        "col7.append(focus_false_pred_false)"
      ],
      "execution_count": 64,
      "outputs": [
        {
          "output_type": "stream",
          "text": [
            "Accuracy of the network on the 30000 train images: 33 %\n",
            "total correct 3350\n",
            "total train set images 10000\n",
            "focus_true_pred_true 368 =============> FTPT : 3 %\n",
            "focus_false_pred_true 2982 =============> FFPT : 29 %\n",
            "focus_true_pred_false 761 =============> FTPF : 7 %\n",
            "focus_false_pred_false 5889 =============> FFPF : 58 %\n",
            "argmax_more_than_half ==================>  0\n",
            "argmax_less_than_half ==================>  10000\n",
            "10000\n",
            "====================================================================================================\n"
          ],
          "name": "stdout"
        }
      ]
    },
    {
      "cell_type": "code",
      "metadata": {
        "id": "TNd3Qz_RaPmK",
        "colab": {
          "base_uri": "https://localhost:8080/"
        },
        "outputId": "3817f949-c3d9-4437-c92b-31f365312f00"
      },
      "source": [
        "correct = 0\n",
        "total = 0\n",
        "count = 0\n",
        "flag = 1\n",
        "focus_true_pred_true =0\n",
        "focus_false_pred_true =0\n",
        "focus_true_pred_false =0\n",
        "focus_false_pred_false =0\n",
        "\n",
        "argmax_more_than_half = 0\n",
        "argmax_less_than_half =0\n",
        "\n",
        "with torch.no_grad():\n",
        "  for data in test_loader:\n",
        "    inputs, labels , fore_idx = data\n",
        "    inputs = inputs.double()\n",
        "    inputs, labels , fore_idx = inputs.to(\"cuda\"),labels.to(\"cuda\"), fore_idx.to(\"cuda\")\n",
        "    alphas, avg_images = focus_net(inputs)\n",
        "    outputs = classify(avg_images)\n",
        "\n",
        "    _, predicted = torch.max(outputs.data, 1)\n",
        "\n",
        "    for j in range(labels.size(0)):\n",
        "      focus = torch.argmax(alphas[j])\n",
        "      if alphas[j][focus] >= 0.5 :\n",
        "        argmax_more_than_half += 1\n",
        "      else:\n",
        "        argmax_less_than_half += 1\n",
        "\n",
        "      if(focus == fore_idx[j] and predicted[j] == labels[j]):\n",
        "          focus_true_pred_true += 1\n",
        "      elif(focus != fore_idx[j] and predicted[j] == labels[j]):\n",
        "        focus_false_pred_true += 1\n",
        "      elif(focus == fore_idx[j] and predicted[j] != labels[j]):\n",
        "        focus_true_pred_false += 1\n",
        "      elif(focus != fore_idx[j] and predicted[j] != labels[j]):\n",
        "        focus_false_pred_false += 1\n",
        "\n",
        "    total += labels.size(0)\n",
        "    correct += (predicted == labels).sum().item()\n",
        "\n",
        "print('Accuracy of the network on the 10000 test images: %d %%' % (\n",
        "    100 * correct / total))\n",
        "print(\"total correct\", correct)\n",
        "print(\"total train set images\", total)\n",
        "\n",
        "print(\"focus_true_pred_true %d =============> FTPT : %d %%\" % (focus_true_pred_true , (100 * focus_true_pred_true / total) ) )\n",
        "print(\"focus_false_pred_true %d =============> FFPT : %d %%\" % (focus_false_pred_true, (100 * focus_false_pred_true / total) ) )\n",
        "print(\"focus_true_pred_false %d =============> FTPF : %d %%\" %( focus_true_pred_false , ( 100 * focus_true_pred_false / total) ) )\n",
        "print(\"focus_false_pred_false %d =============> FFPF : %d %%\" % (focus_false_pred_false, ( 100 * focus_false_pred_false / total) ) )\n",
        "\n",
        "print(\"argmax_more_than_half ==================> \",argmax_more_than_half)\n",
        "print(\"argmax_less_than_half ==================> \",argmax_less_than_half)\n",
        "col8.append(argmax_more_than_half)\n",
        "col9.append(argmax_less_than_half)\n",
        "col10.append(focus_true_pred_true)\n",
        "col11.append(focus_false_pred_true)\n",
        "col12.append(focus_true_pred_false)\n",
        "col13.append(focus_false_pred_false)"
      ],
      "execution_count": 65,
      "outputs": [
        {
          "output_type": "stream",
          "text": [
            "Accuracy of the network on the 10000 test images: 33 %\n",
            "total correct 3357\n",
            "total train set images 10000\n",
            "focus_true_pred_true 393 =============> FTPT : 3 %\n",
            "focus_false_pred_true 2964 =============> FFPT : 29 %\n",
            "focus_true_pred_false 741 =============> FTPF : 7 %\n",
            "focus_false_pred_false 5902 =============> FFPF : 59 %\n",
            "argmax_more_than_half ==================>  0\n",
            "argmax_less_than_half ==================>  10000\n"
          ],
          "name": "stdout"
        }
      ]
    },
    {
      "cell_type": "code",
      "metadata": {
        "id": "tFfAJZkcZEsY",
        "colab": {
          "base_uri": "https://localhost:8080/"
        },
        "outputId": "783760e9-69a3-485c-83a7-b1fecca2bc3d"
      },
      "source": [
        "nos_epochs = 1000\n",
        "focus_true_pred_true =0\n",
        "focus_false_pred_true =0\n",
        "focus_true_pred_false =0\n",
        "focus_false_pred_false =0\n",
        "\n",
        "argmax_more_than_half = 0\n",
        "argmax_less_than_half =0\n",
        "\n",
        "\n",
        "for epoch in range(nos_epochs):  # loop over the dataset multiple times\n",
        "\n",
        "  focus_true_pred_true =0\n",
        "  focus_false_pred_true =0\n",
        "  focus_true_pred_false =0\n",
        "  focus_false_pred_false =0\n",
        "  \n",
        "  argmax_more_than_half = 0\n",
        "  argmax_less_than_half =0\n",
        "  \n",
        "  running_loss = 0.0\n",
        "  epoch_loss = []\n",
        "  cnt=0\n",
        "\n",
        "  iteration = desired_num // batch\n",
        "  \n",
        "  #training data set\n",
        "  \n",
        "  for i, data in  enumerate(train_loader):\n",
        "    inputs , labels , fore_idx = data\n",
        "    inputs, labels = inputs.to(\"cuda\"), labels.to(\"cuda\")\n",
        "    inputs = inputs.double()\n",
        "    # zero the parameter gradients\n",
        "    \n",
        "    optimizer_focus.zero_grad()\n",
        "    optimizer_classify.zero_grad()\n",
        "    \n",
        "    alphas, avg_images = focus_net(inputs)\n",
        "    outputs = classify(avg_images)\n",
        "\n",
        "    _, predicted = torch.max(outputs.data, 1)\n",
        "#     print(outputs)\n",
        "#     print(outputs.shape,labels.shape , torch.argmax(outputs, dim=1))\n",
        "\n",
        "    loss = criterion(outputs, labels) \n",
        "    loss.backward()\n",
        "    optimizer_focus.step()\n",
        "    optimizer_classify.step()\n",
        "\n",
        "    running_loss += loss.item()\n",
        "    mini = 20\n",
        "    if cnt % mini == mini-1:    # print every 40 mini-batches\n",
        "      print('[%d, %5d] loss: %.3f' %(epoch + 1, cnt + 1, running_loss / mini))\n",
        "      epoch_loss.append(running_loss/mini)\n",
        "      running_loss = 0.0\n",
        "    cnt=cnt+1\n",
        "    \n",
        "    if epoch % 5 == 0:\n",
        "      for j in range (batch):\n",
        "        focus = torch.argmax(alphas[j])\n",
        "\n",
        "        if(alphas[j][focus] >= 0.5):\n",
        "          argmax_more_than_half +=1\n",
        "        else:\n",
        "          argmax_less_than_half +=1\n",
        "\n",
        "        if(focus == fore_idx[j] and predicted[j] == labels[j]):\n",
        "          focus_true_pred_true += 1\n",
        "\n",
        "        elif(focus != fore_idx[j] and predicted[j] == labels[j]):\n",
        "          focus_false_pred_true +=1\n",
        "\n",
        "        elif(focus == fore_idx[j] and predicted[j] != labels[j]):\n",
        "          focus_true_pred_false +=1\n",
        "\n",
        "        elif(focus != fore_idx[j] and predicted[j] != labels[j]):\n",
        "          focus_false_pred_false +=1\n",
        "\n",
        "  if(np.mean(epoch_loss) <= 0.009):\n",
        "      break;\n",
        "\n",
        "  if epoch % 5 == 0:\n",
        "    col1.append(epoch + 1)\n",
        "    col2.append(argmax_more_than_half)\n",
        "    col3.append(argmax_less_than_half)\n",
        "    col4.append(focus_true_pred_true)\n",
        "    col5.append(focus_false_pred_true)\n",
        "    col6.append(focus_true_pred_false)\n",
        "    col7.append(focus_false_pred_false)\n",
        "    print(\"=\"*20)\n",
        "    print(\"Train FTPT : \", col4)\n",
        "    print(\"Train FFPT : \", col5)\n",
        "    #************************************************************************\n",
        "    #testing data set  \n",
        "    # focus_net.eval()\n",
        "    with torch.no_grad():\n",
        "      focus_true_pred_true =0\n",
        "      focus_false_pred_true =0\n",
        "      focus_true_pred_false =0\n",
        "      focus_false_pred_false =0\n",
        "\n",
        "      argmax_more_than_half = 0\n",
        "      argmax_less_than_half =0\n",
        "      for data in test_loader:\n",
        "        inputs, labels , fore_idx = data\n",
        "        inputs = inputs.double()\n",
        "        inputs, labels = inputs.to(\"cuda\"), labels.to(\"cuda\")\n",
        "        alphas, avg_images = focus_net(inputs)\n",
        "        outputs = classify(avg_images)\n",
        "        _, predicted = torch.max(outputs.data, 1)\n",
        "\n",
        "        for j in range (batch):\n",
        "          focus = torch.argmax(alphas[j])\n",
        "\n",
        "          if(alphas[j][focus] >= 0.5):\n",
        "            argmax_more_than_half +=1\n",
        "          else:\n",
        "            argmax_less_than_half +=1\n",
        "\n",
        "          if(focus == fore_idx[j] and predicted[j] == labels[j]):\n",
        "            focus_true_pred_true += 1\n",
        "\n",
        "          elif(focus != fore_idx[j] and predicted[j] == labels[j]):\n",
        "            focus_false_pred_true +=1\n",
        "\n",
        "          elif(focus == fore_idx[j] and predicted[j] != labels[j]):\n",
        "            focus_true_pred_false +=1\n",
        "\n",
        "          elif(focus != fore_idx[j] and predicted[j] != labels[j]):\n",
        "            focus_false_pred_false +=1\n",
        "      \n",
        "    col8.append(argmax_more_than_half)\n",
        "    col9.append(argmax_less_than_half)\n",
        "    col10.append(focus_true_pred_true)\n",
        "    col11.append(focus_false_pred_true)\n",
        "    col12.append(focus_true_pred_false)\n",
        "    col13.append(focus_false_pred_false)\n",
        "    print(\"Test FTPT : \", col10)\n",
        "    print(\"Test FFPT : \", col11)\n",
        "    print(\"=\"*20)\n",
        "    \n",
        "print('Finished Training')"
      ],
      "execution_count": 66,
      "outputs": [
        {
          "output_type": "stream",
          "text": [
            "[1,    20] loss: 1.088\n",
            "[1,    40] loss: 1.066\n",
            "====================\n",
            "Train FTPT :  [368, 1214]\n",
            "Train FFPT :  [2982, 2780]\n",
            "Test FTPT :  [393, 2056]\n",
            "Test FFPT :  [2964, 2316]\n",
            "====================\n",
            "[2,    20] loss: 1.035\n",
            "[2,    40] loss: 1.014\n",
            "[3,    20] loss: 0.982\n",
            "[3,    40] loss: 0.952\n",
            "[4,    20] loss: 0.899\n",
            "[4,    40] loss: 0.886\n",
            "[5,    20] loss: 0.839\n",
            "[5,    40] loss: 0.829\n",
            "[6,    20] loss: 0.792\n",
            "[6,    40] loss: 0.798\n",
            "====================\n",
            "Train FTPT :  [368, 1214, 3906]\n",
            "Train FFPT :  [2982, 2780, 2496]\n",
            "Test FTPT :  [393, 2056, 3948]\n",
            "Test FFPT :  [2964, 2316, 2045]\n",
            "====================\n",
            "[7,    20] loss: 0.754\n",
            "[7,    40] loss: 0.760\n",
            "[8,    20] loss: 0.700\n",
            "[8,    40] loss: 0.700\n",
            "[9,    20] loss: 0.688\n",
            "[9,    40] loss: 0.672\n",
            "[10,    20] loss: 0.623\n",
            "[10,    40] loss: 0.642\n",
            "[11,    20] loss: 0.569\n",
            "[11,    40] loss: 0.613\n",
            "====================\n",
            "Train FTPT :  [368, 1214, 3906, 4930]\n",
            "Train FFPT :  [2982, 2780, 2496, 2557]\n",
            "Test FTPT :  [393, 2056, 3948, 4396]\n",
            "Test FFPT :  [2964, 2316, 2045, 2326]\n",
            "====================\n",
            "[12,    20] loss: 0.531\n",
            "[12,    40] loss: 0.565\n",
            "[13,    20] loss: 0.500\n",
            "[13,    40] loss: 0.518\n",
            "[14,    20] loss: 0.482\n",
            "[14,    40] loss: 0.523\n",
            "[15,    20] loss: 0.479\n",
            "[15,    40] loss: 0.469\n",
            "[16,    20] loss: 0.442\n",
            "[16,    40] loss: 0.442\n",
            "====================\n",
            "Train FTPT :  [368, 1214, 3906, 4930, 5623]\n",
            "Train FFPT :  [2982, 2780, 2496, 2557, 2610]\n",
            "Test FTPT :  [393, 2056, 3948, 4396, 4764]\n",
            "Test FFPT :  [2964, 2316, 2045, 2326, 2119]\n",
            "====================\n",
            "[17,    20] loss: 0.412\n",
            "[17,    40] loss: 0.426\n",
            "[18,    20] loss: 0.361\n",
            "[18,    40] loss: 0.388\n",
            "[19,    20] loss: 0.349\n",
            "[19,    40] loss: 0.362\n",
            "[20,    20] loss: 0.333\n",
            "[20,    40] loss: 0.340\n",
            "[21,    20] loss: 0.301\n",
            "[21,    40] loss: 0.332\n",
            "====================\n",
            "Train FTPT :  [368, 1214, 3906, 4930, 5623, 6042]\n",
            "Train FFPT :  [2982, 2780, 2496, 2557, 2610, 2741]\n",
            "Test FTPT :  [393, 2056, 3948, 4396, 4764, 4990]\n",
            "Test FFPT :  [2964, 2316, 2045, 2326, 2119, 2087]\n",
            "====================\n",
            "[22,    20] loss: 0.278\n",
            "[22,    40] loss: 0.304\n",
            "[23,    20] loss: 0.278\n",
            "[23,    40] loss: 0.305\n",
            "[24,    20] loss: 0.254\n",
            "[24,    40] loss: 0.290\n",
            "[25,    20] loss: 0.235\n",
            "[25,    40] loss: 0.263\n",
            "[26,    20] loss: 0.223\n",
            "[26,    40] loss: 0.225\n",
            "====================\n",
            "Train FTPT :  [368, 1214, 3906, 4930, 5623, 6042, 6298]\n",
            "Train FFPT :  [2982, 2780, 2496, 2557, 2610, 2741, 2895]\n",
            "Test FTPT :  [393, 2056, 3948, 4396, 4764, 4990, 5074]\n",
            "Test FFPT :  [2964, 2316, 2045, 2326, 2119, 2087, 1992]\n",
            "====================\n",
            "[27,    20] loss: 0.212\n",
            "[27,    40] loss: 0.261\n",
            "[28,    20] loss: 0.205\n",
            "[28,    40] loss: 0.189\n",
            "[29,    20] loss: 0.167\n",
            "[29,    40] loss: 0.172\n",
            "[30,    20] loss: 0.176\n",
            "[30,    40] loss: 0.208\n",
            "[31,    20] loss: 0.166\n",
            "[31,    40] loss: 0.159\n",
            "====================\n",
            "Train FTPT :  [368, 1214, 3906, 4930, 5623, 6042, 6298, 6428]\n",
            "Train FFPT :  [2982, 2780, 2496, 2557, 2610, 2741, 2895, 2983]\n",
            "Test FTPT :  [393, 2056, 3948, 4396, 4764, 4990, 5074, 5102]\n",
            "Test FFPT :  [2964, 2316, 2045, 2326, 2119, 2087, 1992, 1957]\n",
            "====================\n",
            "[32,    20] loss: 0.144\n",
            "[32,    40] loss: 0.157\n",
            "[33,    20] loss: 0.130\n",
            "[33,    40] loss: 0.178\n",
            "[34,    20] loss: 0.137\n",
            "[34,    40] loss: 0.128\n",
            "[35,    20] loss: 0.123\n",
            "[35,    40] loss: 0.121\n",
            "[36,    20] loss: 0.095\n",
            "[36,    40] loss: 0.116\n",
            "====================\n",
            "Train FTPT :  [368, 1214, 3906, 4930, 5623, 6042, 6298, 6428, 6585]\n",
            "Train FFPT :  [2982, 2780, 2496, 2557, 2610, 2741, 2895, 2983, 3044]\n",
            "Test FTPT :  [393, 2056, 3948, 4396, 4764, 4990, 5074, 5102, 5037]\n",
            "Test FFPT :  [2964, 2316, 2045, 2326, 2119, 2087, 1992, 1957, 2066]\n",
            "====================\n",
            "[37,    20] loss: 0.127\n",
            "[37,    40] loss: 0.118\n",
            "[38,    20] loss: 0.099\n",
            "[38,    40] loss: 0.107\n",
            "[39,    20] loss: 0.092\n",
            "[39,    40] loss: 0.098\n",
            "[40,    20] loss: 0.086\n",
            "[40,    40] loss: 0.086\n",
            "[41,    20] loss: 0.069\n",
            "[41,    40] loss: 0.104\n",
            "====================\n",
            "Train FTPT :  [368, 1214, 3906, 4930, 5623, 6042, 6298, 6428, 6585, 6596]\n",
            "Train FFPT :  [2982, 2780, 2496, 2557, 2610, 2741, 2895, 2983, 3044, 3124]\n",
            "Test FTPT :  [393, 2056, 3948, 4396, 4764, 4990, 5074, 5102, 5037, 5129]\n",
            "Test FFPT :  [2964, 2316, 2045, 2326, 2119, 2087, 1992, 1957, 2066, 2001]\n",
            "====================\n",
            "[42,    20] loss: 0.082\n",
            "[42,    40] loss: 0.077\n",
            "[43,    20] loss: 0.096\n",
            "[43,    40] loss: 0.087\n",
            "[44,    20] loss: 0.077\n",
            "[44,    40] loss: 0.059\n",
            "[45,    20] loss: 0.053\n",
            "[45,    40] loss: 0.053\n",
            "[46,    20] loss: 0.048\n",
            "[46,    40] loss: 0.058\n",
            "====================\n",
            "Train FTPT :  [368, 1214, 3906, 4930, 5623, 6042, 6298, 6428, 6585, 6596, 6677]\n",
            "Train FFPT :  [2982, 2780, 2496, 2557, 2610, 2741, 2895, 2983, 3044, 3124, 3140]\n",
            "Test FTPT :  [393, 2056, 3948, 4396, 4764, 4990, 5074, 5102, 5037, 5129, 5047]\n",
            "Test FFPT :  [2964, 2316, 2045, 2326, 2119, 2087, 1992, 1957, 2066, 2001, 2148]\n",
            "====================\n",
            "[47,    20] loss: 0.058\n",
            "[47,    40] loss: 0.058\n",
            "[48,    20] loss: 0.043\n",
            "[48,    40] loss: 0.084\n",
            "[49,    20] loss: 0.068\n",
            "[49,    40] loss: 0.073\n",
            "[50,    20] loss: 0.050\n",
            "[50,    40] loss: 0.063\n",
            "[51,    20] loss: 0.055\n",
            "[51,    40] loss: 0.069\n",
            "====================\n",
            "Train FTPT :  [368, 1214, 3906, 4930, 5623, 6042, 6298, 6428, 6585, 6596, 6677, 6631]\n",
            "Train FFPT :  [2982, 2780, 2496, 2557, 2610, 2741, 2895, 2983, 3044, 3124, 3140, 3162]\n",
            "Test FTPT :  [393, 2056, 3948, 4396, 4764, 4990, 5074, 5102, 5037, 5129, 5047, 4968]\n",
            "Test FFPT :  [2964, 2316, 2045, 2326, 2119, 2087, 1992, 1957, 2066, 2001, 2148, 2124]\n",
            "====================\n",
            "[52,    20] loss: 0.072\n",
            "[52,    40] loss: 0.094\n",
            "[53,    20] loss: 0.064\n",
            "[53,    40] loss: 0.074\n",
            "[54,    20] loss: 0.069\n",
            "[54,    40] loss: 0.058\n",
            "[55,    20] loss: 0.035\n",
            "[55,    40] loss: 0.044\n",
            "[56,    20] loss: 0.027\n",
            "[56,    40] loss: 0.038\n",
            "====================\n",
            "Train FTPT :  [368, 1214, 3906, 4930, 5623, 6042, 6298, 6428, 6585, 6596, 6677, 6631, 6726]\n",
            "Train FFPT :  [2982, 2780, 2496, 2557, 2610, 2741, 2895, 2983, 3044, 3124, 3140, 3162, 3182]\n",
            "Test FTPT :  [393, 2056, 3948, 4396, 4764, 4990, 5074, 5102, 5037, 5129, 5047, 4968, 5098]\n",
            "Test FFPT :  [2964, 2316, 2045, 2326, 2119, 2087, 1992, 1957, 2066, 2001, 2148, 2124, 1966]\n",
            "====================\n",
            "[57,    20] loss: 0.038\n",
            "[57,    40] loss: 0.031\n",
            "[58,    20] loss: 0.042\n",
            "[58,    40] loss: 0.049\n",
            "[59,    20] loss: 0.045\n",
            "[59,    40] loss: 0.039\n",
            "[60,    20] loss: 0.032\n",
            "[60,    40] loss: 0.048\n",
            "[61,    20] loss: 0.034\n",
            "[61,    40] loss: 0.057\n",
            "====================\n",
            "Train FTPT :  [368, 1214, 3906, 4930, 5623, 6042, 6298, 6428, 6585, 6596, 6677, 6631, 6726, 6682]\n",
            "Train FFPT :  [2982, 2780, 2496, 2557, 2610, 2741, 2895, 2983, 3044, 3124, 3140, 3162, 3182, 3163]\n",
            "Test FTPT :  [393, 2056, 3948, 4396, 4764, 4990, 5074, 5102, 5037, 5129, 5047, 4968, 5098, 4976]\n",
            "Test FFPT :  [2964, 2316, 2045, 2326, 2119, 2087, 1992, 1957, 2066, 2001, 2148, 2124, 1966, 2139]\n",
            "====================\n",
            "[62,    20] loss: 0.067\n",
            "[62,    40] loss: 0.057\n",
            "[63,    20] loss: 0.039\n",
            "[63,    40] loss: 0.037\n",
            "[64,    20] loss: 0.028\n",
            "[64,    40] loss: 0.024\n",
            "[65,    20] loss: 0.028\n",
            "[65,    40] loss: 0.037\n",
            "[66,    20] loss: 0.026\n",
            "[66,    40] loss: 0.026\n",
            "====================\n",
            "Train FTPT :  [368, 1214, 3906, 4930, 5623, 6042, 6298, 6428, 6585, 6596, 6677, 6631, 6726, 6682, 6723]\n",
            "Train FFPT :  [2982, 2780, 2496, 2557, 2610, 2741, 2895, 2983, 3044, 3124, 3140, 3162, 3182, 3163, 3208]\n",
            "Test FTPT :  [393, 2056, 3948, 4396, 4764, 4990, 5074, 5102, 5037, 5129, 5047, 4968, 5098, 4976, 5188]\n",
            "Test FFPT :  [2964, 2316, 2045, 2326, 2119, 2087, 1992, 1957, 2066, 2001, 2148, 2124, 1966, 2139, 1973]\n",
            "====================\n",
            "[67,    20] loss: 0.019\n",
            "[67,    40] loss: 0.019\n",
            "[68,    20] loss: 0.023\n",
            "[68,    40] loss: 0.024\n",
            "[69,    20] loss: 0.037\n",
            "[69,    40] loss: 0.066\n",
            "[70,    20] loss: 0.060\n",
            "[70,    40] loss: 0.064\n",
            "[71,    20] loss: 0.042\n",
            "[71,    40] loss: 0.032\n",
            "====================\n",
            "Train FTPT :  [368, 1214, 3906, 4930, 5623, 6042, 6298, 6428, 6585, 6596, 6677, 6631, 6726, 6682, 6723, 6682]\n",
            "Train FFPT :  [2982, 2780, 2496, 2557, 2610, 2741, 2895, 2983, 3044, 3124, 3140, 3162, 3182, 3163, 3208, 3199]\n",
            "Test FTPT :  [393, 2056, 3948, 4396, 4764, 4990, 5074, 5102, 5037, 5129, 5047, 4968, 5098, 4976, 5188, 5144]\n",
            "Test FFPT :  [2964, 2316, 2045, 2326, 2119, 2087, 1992, 1957, 2066, 2001, 2148, 2124, 1966, 2139, 1973, 2027]\n",
            "====================\n",
            "[72,    20] loss: 0.023\n",
            "[72,    40] loss: 0.031\n",
            "[73,    20] loss: 0.028\n",
            "[73,    40] loss: 0.033\n",
            "[74,    20] loss: 0.022\n",
            "[74,    40] loss: 0.017\n",
            "[75,    20] loss: 0.012\n",
            "[75,    40] loss: 0.018\n",
            "[76,    20] loss: 0.021\n",
            "[76,    40] loss: 0.027\n",
            "====================\n",
            "Train FTPT :  [368, 1214, 3906, 4930, 5623, 6042, 6298, 6428, 6585, 6596, 6677, 6631, 6726, 6682, 6723, 6682, 6804]\n",
            "Train FFPT :  [2982, 2780, 2496, 2557, 2610, 2741, 2895, 2983, 3044, 3124, 3140, 3162, 3182, 3163, 3208, 3199, 3131]\n",
            "Test FTPT :  [393, 2056, 3948, 4396, 4764, 4990, 5074, 5102, 5037, 5129, 5047, 4968, 5098, 4976, 5188, 5144, 5178]\n",
            "Test FFPT :  [2964, 2316, 2045, 2326, 2119, 2087, 1992, 1957, 2066, 2001, 2148, 2124, 1966, 2139, 1973, 2027, 1956]\n",
            "====================\n",
            "[77,    20] loss: 0.017\n",
            "[77,    40] loss: 0.017\n",
            "[78,    20] loss: 0.026\n",
            "[78,    40] loss: 0.030\n",
            "[79,    20] loss: 0.026\n",
            "[79,    40] loss: 0.063\n",
            "[80,    20] loss: 0.101\n",
            "[80,    40] loss: 0.123\n",
            "[81,    20] loss: 0.066\n",
            "[81,    40] loss: 0.048\n",
            "====================\n",
            "Train FTPT :  [368, 1214, 3906, 4930, 5623, 6042, 6298, 6428, 6585, 6596, 6677, 6631, 6726, 6682, 6723, 6682, 6804, 6681]\n",
            "Train FFPT :  [2982, 2780, 2496, 2557, 2610, 2741, 2895, 2983, 3044, 3124, 3140, 3162, 3182, 3163, 3208, 3199, 3131, 3134]\n",
            "Test FTPT :  [393, 2056, 3948, 4396, 4764, 4990, 5074, 5102, 5037, 5129, 5047, 4968, 5098, 4976, 5188, 5144, 5178, 5228]\n",
            "Test FFPT :  [2964, 2316, 2045, 2326, 2119, 2087, 1992, 1957, 2066, 2001, 2148, 2124, 1966, 2139, 1973, 2027, 1956, 1918]\n",
            "====================\n",
            "[82,    20] loss: 0.031\n",
            "[82,    40] loss: 0.034\n",
            "[83,    20] loss: 0.015\n",
            "[83,    40] loss: 0.017\n",
            "[84,    20] loss: 0.018\n",
            "[84,    40] loss: 0.027\n",
            "[85,    20] loss: 0.012\n",
            "[85,    40] loss: 0.009\n",
            "[86,    20] loss: 0.005\n",
            "[86,    40] loss: 0.008\n",
            "Finished Training\n"
          ],
          "name": "stdout"
        }
      ]
    },
    {
      "cell_type": "code",
      "metadata": {
        "id": "tSKphM888Y5o"
      },
      "source": [
        "df_train = pd.DataFrame()\n",
        "df_test = pd.DataFrame()"
      ],
      "execution_count": 67,
      "outputs": []
    },
    {
      "cell_type": "code",
      "metadata": {
        "id": "DLRp_W600EVm"
      },
      "source": [
        "columns = [\"epochs\", \"argmax > 0.5\" ,\"argmax < 0.5\", \"focus_true_pred_true\", \"focus_false_pred_true\", \"focus_true_pred_false\", \"focus_false_pred_false\" ]"
      ],
      "execution_count": 68,
      "outputs": []
    },
    {
      "cell_type": "code",
      "metadata": {
        "id": "FrWoEGXZ8cBO"
      },
      "source": [
        "df_train[columns[0]] = col1\n",
        "df_train[columns[1]] = col2\n",
        "df_train[columns[2]] = col3\n",
        "df_train[columns[3]] = col4\n",
        "df_train[columns[4]] = col5\n",
        "df_train[columns[5]] = col6\n",
        "df_train[columns[6]] = col7\n",
        "\n",
        "df_test[columns[0]] = col1\n",
        "df_test[columns[1]] = col8\n",
        "df_test[columns[2]] = col9\n",
        "df_test[columns[3]] = col10\n",
        "df_test[columns[4]] = col11\n",
        "df_test[columns[5]] = col12\n",
        "df_test[columns[6]] = col13"
      ],
      "execution_count": 69,
      "outputs": []
    },
    {
      "cell_type": "code",
      "metadata": {
        "id": "RGJoMFcK8eTe",
        "colab": {
          "base_uri": "https://localhost:8080/",
          "height": 614
        },
        "outputId": "372f4f72-3030-430d-f2b7-75ad3a74f08c"
      },
      "source": [
        "df_train"
      ],
      "execution_count": 70,
      "outputs": [
        {
          "output_type": "execute_result",
          "data": {
            "text/html": [
              "<div>\n",
              "<style scoped>\n",
              "    .dataframe tbody tr th:only-of-type {\n",
              "        vertical-align: middle;\n",
              "    }\n",
              "\n",
              "    .dataframe tbody tr th {\n",
              "        vertical-align: top;\n",
              "    }\n",
              "\n",
              "    .dataframe thead th {\n",
              "        text-align: right;\n",
              "    }\n",
              "</style>\n",
              "<table border=\"1\" class=\"dataframe\">\n",
              "  <thead>\n",
              "    <tr style=\"text-align: right;\">\n",
              "      <th></th>\n",
              "      <th>epochs</th>\n",
              "      <th>argmax &gt; 0.5</th>\n",
              "      <th>argmax &lt; 0.5</th>\n",
              "      <th>focus_true_pred_true</th>\n",
              "      <th>focus_false_pred_true</th>\n",
              "      <th>focus_true_pred_false</th>\n",
              "      <th>focus_false_pred_false</th>\n",
              "    </tr>\n",
              "  </thead>\n",
              "  <tbody>\n",
              "    <tr>\n",
              "      <th>0</th>\n",
              "      <td>0</td>\n",
              "      <td>0</td>\n",
              "      <td>10000</td>\n",
              "      <td>368</td>\n",
              "      <td>2982</td>\n",
              "      <td>761</td>\n",
              "      <td>5889</td>\n",
              "    </tr>\n",
              "    <tr>\n",
              "      <th>1</th>\n",
              "      <td>1</td>\n",
              "      <td>567</td>\n",
              "      <td>9433</td>\n",
              "      <td>1214</td>\n",
              "      <td>2780</td>\n",
              "      <td>886</td>\n",
              "      <td>5120</td>\n",
              "    </tr>\n",
              "    <tr>\n",
              "      <th>2</th>\n",
              "      <td>6</td>\n",
              "      <td>4966</td>\n",
              "      <td>5034</td>\n",
              "      <td>3906</td>\n",
              "      <td>2496</td>\n",
              "      <td>950</td>\n",
              "      <td>2648</td>\n",
              "    </tr>\n",
              "    <tr>\n",
              "      <th>3</th>\n",
              "      <td>11</td>\n",
              "      <td>5764</td>\n",
              "      <td>4236</td>\n",
              "      <td>4930</td>\n",
              "      <td>2557</td>\n",
              "      <td>720</td>\n",
              "      <td>1793</td>\n",
              "    </tr>\n",
              "    <tr>\n",
              "      <th>4</th>\n",
              "      <td>16</td>\n",
              "      <td>6331</td>\n",
              "      <td>3669</td>\n",
              "      <td>5623</td>\n",
              "      <td>2610</td>\n",
              "      <td>487</td>\n",
              "      <td>1280</td>\n",
              "    </tr>\n",
              "    <tr>\n",
              "      <th>5</th>\n",
              "      <td>21</td>\n",
              "      <td>6827</td>\n",
              "      <td>3173</td>\n",
              "      <td>6042</td>\n",
              "      <td>2741</td>\n",
              "      <td>312</td>\n",
              "      <td>905</td>\n",
              "    </tr>\n",
              "    <tr>\n",
              "      <th>6</th>\n",
              "      <td>26</td>\n",
              "      <td>7001</td>\n",
              "      <td>2999</td>\n",
              "      <td>6298</td>\n",
              "      <td>2895</td>\n",
              "      <td>181</td>\n",
              "      <td>626</td>\n",
              "    </tr>\n",
              "    <tr>\n",
              "      <th>7</th>\n",
              "      <td>31</td>\n",
              "      <td>6932</td>\n",
              "      <td>3068</td>\n",
              "      <td>6428</td>\n",
              "      <td>2983</td>\n",
              "      <td>147</td>\n",
              "      <td>442</td>\n",
              "    </tr>\n",
              "    <tr>\n",
              "      <th>8</th>\n",
              "      <td>36</td>\n",
              "      <td>6810</td>\n",
              "      <td>3190</td>\n",
              "      <td>6585</td>\n",
              "      <td>3044</td>\n",
              "      <td>88</td>\n",
              "      <td>283</td>\n",
              "    </tr>\n",
              "    <tr>\n",
              "      <th>9</th>\n",
              "      <td>41</td>\n",
              "      <td>6928</td>\n",
              "      <td>3072</td>\n",
              "      <td>6596</td>\n",
              "      <td>3124</td>\n",
              "      <td>59</td>\n",
              "      <td>221</td>\n",
              "    </tr>\n",
              "    <tr>\n",
              "      <th>10</th>\n",
              "      <td>46</td>\n",
              "      <td>6902</td>\n",
              "      <td>3098</td>\n",
              "      <td>6677</td>\n",
              "      <td>3140</td>\n",
              "      <td>54</td>\n",
              "      <td>129</td>\n",
              "    </tr>\n",
              "    <tr>\n",
              "      <th>11</th>\n",
              "      <td>51</td>\n",
              "      <td>6774</td>\n",
              "      <td>3226</td>\n",
              "      <td>6631</td>\n",
              "      <td>3162</td>\n",
              "      <td>63</td>\n",
              "      <td>144</td>\n",
              "    </tr>\n",
              "    <tr>\n",
              "      <th>12</th>\n",
              "      <td>56</td>\n",
              "      <td>6782</td>\n",
              "      <td>3218</td>\n",
              "      <td>6726</td>\n",
              "      <td>3182</td>\n",
              "      <td>20</td>\n",
              "      <td>72</td>\n",
              "    </tr>\n",
              "    <tr>\n",
              "      <th>13</th>\n",
              "      <td>61</td>\n",
              "      <td>6717</td>\n",
              "      <td>3283</td>\n",
              "      <td>6682</td>\n",
              "      <td>3163</td>\n",
              "      <td>43</td>\n",
              "      <td>112</td>\n",
              "    </tr>\n",
              "    <tr>\n",
              "      <th>14</th>\n",
              "      <td>66</td>\n",
              "      <td>6678</td>\n",
              "      <td>3322</td>\n",
              "      <td>6723</td>\n",
              "      <td>3208</td>\n",
              "      <td>16</td>\n",
              "      <td>53</td>\n",
              "    </tr>\n",
              "    <tr>\n",
              "      <th>15</th>\n",
              "      <td>71</td>\n",
              "      <td>6711</td>\n",
              "      <td>3289</td>\n",
              "      <td>6682</td>\n",
              "      <td>3199</td>\n",
              "      <td>31</td>\n",
              "      <td>88</td>\n",
              "    </tr>\n",
              "    <tr>\n",
              "      <th>16</th>\n",
              "      <td>76</td>\n",
              "      <td>6788</td>\n",
              "      <td>3212</td>\n",
              "      <td>6804</td>\n",
              "      <td>3131</td>\n",
              "      <td>21</td>\n",
              "      <td>44</td>\n",
              "    </tr>\n",
              "    <tr>\n",
              "      <th>17</th>\n",
              "      <td>81</td>\n",
              "      <td>6653</td>\n",
              "      <td>3347</td>\n",
              "      <td>6681</td>\n",
              "      <td>3134</td>\n",
              "      <td>56</td>\n",
              "      <td>129</td>\n",
              "    </tr>\n",
              "  </tbody>\n",
              "</table>\n",
              "</div>"
            ],
            "text/plain": [
              "    epochs  argmax > 0.5  ...  focus_true_pred_false  focus_false_pred_false\n",
              "0        0             0  ...                    761                    5889\n",
              "1        1           567  ...                    886                    5120\n",
              "2        6          4966  ...                    950                    2648\n",
              "3       11          5764  ...                    720                    1793\n",
              "4       16          6331  ...                    487                    1280\n",
              "5       21          6827  ...                    312                     905\n",
              "6       26          7001  ...                    181                     626\n",
              "7       31          6932  ...                    147                     442\n",
              "8       36          6810  ...                     88                     283\n",
              "9       41          6928  ...                     59                     221\n",
              "10      46          6902  ...                     54                     129\n",
              "11      51          6774  ...                     63                     144\n",
              "12      56          6782  ...                     20                      72\n",
              "13      61          6717  ...                     43                     112\n",
              "14      66          6678  ...                     16                      53\n",
              "15      71          6711  ...                     31                      88\n",
              "16      76          6788  ...                     21                      44\n",
              "17      81          6653  ...                     56                     129\n",
              "\n",
              "[18 rows x 7 columns]"
            ]
          },
          "metadata": {
            "tags": []
          },
          "execution_count": 70
        }
      ]
    },
    {
      "cell_type": "code",
      "metadata": {
        "id": "Ei9HVQBZ8gn4",
        "colab": {
          "base_uri": "https://localhost:8080/",
          "height": 295
        },
        "outputId": "e8cdc8dd-f19b-490c-f4f4-e381de09e7c7"
      },
      "source": [
        "# plt.figure(12,12)\n",
        "plt.plot(col1,col2, label='argmax > 0.5')\n",
        "plt.plot(col1,col3, label='argmax < 0.5')\n",
        "\n",
        "plt.legend(loc='center left', bbox_to_anchor=(1, 0.5))\n",
        "plt.xlabel(\"epochs\")\n",
        "plt.ylabel(\"training data\")\n",
        "plt.title(\"On Training set\")\n",
        "plt.show()\n",
        "\n"
      ],
      "execution_count": 71,
      "outputs": [
        {
          "output_type": "display_data",
          "data": {
            "image/png": "[encoded data removed]",
            "text/plain": [
              "<Figure size 432x288 with 1 Axes>"
            ]
          },
          "metadata": {
            "tags": [],
            "needs_background": "light"
          }
        }
      ]
    },
    {
      "cell_type": "code",
      "metadata": {
        "id": "kbjPGiB_ID4-",
        "colab": {
          "base_uri": "https://localhost:8080/",
          "height": 354
        },
        "outputId": "2f0fab61-44dd-421b-9e2d-c602a20c1a8c"
      },
      "source": [
        "plt.figure(figsize=(6,5))\n",
        "plt.plot(col1,np.array(col4)/100, label =\"FTPT\")\n",
        "plt.plot(col1,np.array(col5)/100, label =\"FFPT\")\n",
        "plt.plot(col1,np.array(col6)/100, label =\"FTPF\")\n",
        "plt.plot(col1,np.array(col7)/100, label =\"FFPF\")\n",
        "plt.title(\"CIFAR - SDC On Train set\")\n",
        "plt.grid()\n",
        "# plt.legend(loc='center left', bbox_to_anchor=(1, 0.5))\n",
        "plt.legend()\n",
        "plt.xlabel(\"epochs\", fontsize=14, fontweight = 'bold')\n",
        "plt.ylabel(\"percentage train data\", fontsize=14, fontweight = 'bold')\n",
        "plt.savefig(path+\"cifar_train.png\", bbox_inches=\"tight\")\n",
        "plt.savefig(path+\"cifar_train.pdf\", bbox_inches=\"tight\")\n",
        "plt.savefig(\"cifar_train.png\", bbox_inches=\"tight\")\n",
        "plt.savefig(\"cifar_train.pdf\", bbox_inches=\"tight\")\n",
        "plt.show()"
      ],
      "execution_count": 81,
      "outputs": [
        {
          "output_type": "display_data",
          "data": {
            "image/png": "[encoded data removed]",
            "text/plain": [
              "<Figure size 432x360 with 1 Axes>"
            ]
          },
          "metadata": {
            "tags": [],
            "needs_background": "light"
          }
        }
      ]
    },
    {
      "cell_type": "code",
      "metadata": {
        "id": "_QKYVO8i8ivA",
        "colab": {
          "base_uri": "https://localhost:8080/",
          "height": 614
        },
        "outputId": "796e6b92-4297-4d9a-9512-cf8c7cf8e7e4"
      },
      "source": [
        "df_test"
      ],
      "execution_count": 73,
      "outputs": [
        {
          "output_type": "execute_result",
          "data": {
            "text/html": [
              "<div>\n",
              "<style scoped>\n",
              "    .dataframe tbody tr th:only-of-type {\n",
              "        vertical-align: middle;\n",
              "    }\n",
              "\n",
              "    .dataframe tbody tr th {\n",
              "        vertical-align: top;\n",
              "    }\n",
              "\n",
              "    .dataframe thead th {\n",
              "        text-align: right;\n",
              "    }\n",
              "</style>\n",
              "<table border=\"1\" class=\"dataframe\">\n",
              "  <thead>\n",
              "    <tr style=\"text-align: right;\">\n",
              "      <th></th>\n",
              "      <th>epochs</th>\n",
              "      <th>argmax &gt; 0.5</th>\n",
              "      <th>argmax &lt; 0.5</th>\n",
              "      <th>focus_true_pred_true</th>\n",
              "      <th>focus_false_pred_true</th>\n",
              "      <th>focus_true_pred_false</th>\n",
              "      <th>focus_false_pred_false</th>\n",
              "    </tr>\n",
              "  </thead>\n",
              "  <tbody>\n",
              "    <tr>\n",
              "      <th>0</th>\n",
              "      <td>0</td>\n",
              "      <td>0</td>\n",
              "      <td>10000</td>\n",
              "      <td>393</td>\n",
              "      <td>2964</td>\n",
              "      <td>741</td>\n",
              "      <td>5902</td>\n",
              "    </tr>\n",
              "    <tr>\n",
              "      <th>1</th>\n",
              "      <td>1</td>\n",
              "      <td>1689</td>\n",
              "      <td>8311</td>\n",
              "      <td>2056</td>\n",
              "      <td>2316</td>\n",
              "      <td>949</td>\n",
              "      <td>4679</td>\n",
              "    </tr>\n",
              "    <tr>\n",
              "      <th>2</th>\n",
              "      <td>6</td>\n",
              "      <td>5722</td>\n",
              "      <td>4278</td>\n",
              "      <td>3948</td>\n",
              "      <td>2045</td>\n",
              "      <td>940</td>\n",
              "      <td>3067</td>\n",
              "    </tr>\n",
              "    <tr>\n",
              "      <th>3</th>\n",
              "      <td>11</td>\n",
              "      <td>6127</td>\n",
              "      <td>3873</td>\n",
              "      <td>4396</td>\n",
              "      <td>2326</td>\n",
              "      <td>922</td>\n",
              "      <td>2356</td>\n",
              "    </tr>\n",
              "    <tr>\n",
              "      <th>4</th>\n",
              "      <td>16</td>\n",
              "      <td>6430</td>\n",
              "      <td>3570</td>\n",
              "      <td>4764</td>\n",
              "      <td>2119</td>\n",
              "      <td>914</td>\n",
              "      <td>2203</td>\n",
              "    </tr>\n",
              "    <tr>\n",
              "      <th>5</th>\n",
              "      <td>21</td>\n",
              "      <td>6576</td>\n",
              "      <td>3424</td>\n",
              "      <td>4990</td>\n",
              "      <td>2087</td>\n",
              "      <td>763</td>\n",
              "      <td>2160</td>\n",
              "    </tr>\n",
              "    <tr>\n",
              "      <th>6</th>\n",
              "      <td>26</td>\n",
              "      <td>6083</td>\n",
              "      <td>3917</td>\n",
              "      <td>5074</td>\n",
              "      <td>1992</td>\n",
              "      <td>810</td>\n",
              "      <td>2124</td>\n",
              "    </tr>\n",
              "    <tr>\n",
              "      <th>7</th>\n",
              "      <td>31</td>\n",
              "      <td>6643</td>\n",
              "      <td>3357</td>\n",
              "      <td>5102</td>\n",
              "      <td>1957</td>\n",
              "      <td>768</td>\n",
              "      <td>2173</td>\n",
              "    </tr>\n",
              "    <tr>\n",
              "      <th>8</th>\n",
              "      <td>36</td>\n",
              "      <td>5891</td>\n",
              "      <td>4109</td>\n",
              "      <td>5037</td>\n",
              "      <td>2066</td>\n",
              "      <td>789</td>\n",
              "      <td>2108</td>\n",
              "    </tr>\n",
              "    <tr>\n",
              "      <th>9</th>\n",
              "      <td>41</td>\n",
              "      <td>6362</td>\n",
              "      <td>3638</td>\n",
              "      <td>5129</td>\n",
              "      <td>2001</td>\n",
              "      <td>750</td>\n",
              "      <td>2120</td>\n",
              "    </tr>\n",
              "    <tr>\n",
              "      <th>10</th>\n",
              "      <td>46</td>\n",
              "      <td>5634</td>\n",
              "      <td>4366</td>\n",
              "      <td>5047</td>\n",
              "      <td>2148</td>\n",
              "      <td>880</td>\n",
              "      <td>1925</td>\n",
              "    </tr>\n",
              "    <tr>\n",
              "      <th>11</th>\n",
              "      <td>51</td>\n",
              "      <td>5303</td>\n",
              "      <td>4697</td>\n",
              "      <td>4968</td>\n",
              "      <td>2124</td>\n",
              "      <td>899</td>\n",
              "      <td>2009</td>\n",
              "    </tr>\n",
              "    <tr>\n",
              "      <th>12</th>\n",
              "      <td>56</td>\n",
              "      <td>5912</td>\n",
              "      <td>4088</td>\n",
              "      <td>5098</td>\n",
              "      <td>1966</td>\n",
              "      <td>735</td>\n",
              "      <td>2201</td>\n",
              "    </tr>\n",
              "    <tr>\n",
              "      <th>13</th>\n",
              "      <td>61</td>\n",
              "      <td>5594</td>\n",
              "      <td>4406</td>\n",
              "      <td>4976</td>\n",
              "      <td>2139</td>\n",
              "      <td>937</td>\n",
              "      <td>1948</td>\n",
              "    </tr>\n",
              "    <tr>\n",
              "      <th>14</th>\n",
              "      <td>66</td>\n",
              "      <td>6083</td>\n",
              "      <td>3917</td>\n",
              "      <td>5188</td>\n",
              "      <td>1973</td>\n",
              "      <td>768</td>\n",
              "      <td>2071</td>\n",
              "    </tr>\n",
              "    <tr>\n",
              "      <th>15</th>\n",
              "      <td>71</td>\n",
              "      <td>6006</td>\n",
              "      <td>3994</td>\n",
              "      <td>5144</td>\n",
              "      <td>2027</td>\n",
              "      <td>800</td>\n",
              "      <td>2029</td>\n",
              "    </tr>\n",
              "    <tr>\n",
              "      <th>16</th>\n",
              "      <td>76</td>\n",
              "      <td>5637</td>\n",
              "      <td>4363</td>\n",
              "      <td>5178</td>\n",
              "      <td>1956</td>\n",
              "      <td>817</td>\n",
              "      <td>2049</td>\n",
              "    </tr>\n",
              "    <tr>\n",
              "      <th>17</th>\n",
              "      <td>81</td>\n",
              "      <td>6629</td>\n",
              "      <td>3371</td>\n",
              "      <td>5228</td>\n",
              "      <td>1918</td>\n",
              "      <td>741</td>\n",
              "      <td>2113</td>\n",
              "    </tr>\n",
              "  </tbody>\n",
              "</table>\n",
              "</div>"
            ],
            "text/plain": [
              "    epochs  argmax > 0.5  ...  focus_true_pred_false  focus_false_pred_false\n",
              "0        0             0  ...                    741                    5902\n",
              "1        1          1689  ...                    949                    4679\n",
              "2        6          5722  ...                    940                    3067\n",
              "3       11          6127  ...                    922                    2356\n",
              "4       16          6430  ...                    914                    2203\n",
              "5       21          6576  ...                    763                    2160\n",
              "6       26          6083  ...                    810                    2124\n",
              "7       31          6643  ...                    768                    2173\n",
              "8       36          5891  ...                    789                    2108\n",
              "9       41          6362  ...                    750                    2120\n",
              "10      46          5634  ...                    880                    1925\n",
              "11      51          5303  ...                    899                    2009\n",
              "12      56          5912  ...                    735                    2201\n",
              "13      61          5594  ...                    937                    1948\n",
              "14      66          6083  ...                    768                    2071\n",
              "15      71          6006  ...                    800                    2029\n",
              "16      76          5637  ...                    817                    2049\n",
              "17      81          6629  ...                    741                    2113\n",
              "\n",
              "[18 rows x 7 columns]"
            ]
          },
          "metadata": {
            "tags": []
          },
          "execution_count": 73
        }
      ]
    },
    {
      "cell_type": "code",
      "metadata": {
        "id": "aRlpgnjy8k1n",
        "colab": {
          "base_uri": "https://localhost:8080/",
          "height": 295
        },
        "outputId": "6d1b3a9e-b4e4-4bec-afaf-50f33961080b"
      },
      "source": [
        "# plt.figure(12,12)\n",
        "plt.plot(col1,col8, label='argmax > 0.5')\n",
        "plt.plot(col1,col9, label='argmax < 0.5')\n",
        "\n",
        "plt.legend(loc='center left', bbox_to_anchor=(1, 0.5))\n",
        "plt.xlabel(\"epochs\")\n",
        "plt.ylabel(\"Testing data\")\n",
        "plt.title(\"On Testing set\")\n",
        "plt.show()\n",
        "\n"
      ],
      "execution_count": 74,
      "outputs": [
        {
          "output_type": "display_data",
          "data": {
            "image/png": "[encoded data removed]",
            "text/plain": [
              "<Figure size 432x288 with 1 Axes>"
            ]
          },
          "metadata": {
            "tags": [],
            "needs_background": "light"
          }
        }
      ]
    },
    {
      "cell_type": "code",
      "metadata": {
        "id": "_AJZlN5NJyQB",
        "colab": {
          "base_uri": "https://localhost:8080/",
          "height": 354
        },
        "outputId": "1486008e-4d35-432c-c3d0-e7e1041d8869"
      },
      "source": [
        "plt.figure(figsize=(6,5))\n",
        "plt.plot(col1,np.array(col10)/100, label =\"FTPT\")\n",
        "plt.plot(col1,np.array(col11)/100, label =\"FFPT\")\n",
        "plt.plot(col1,np.array(col12)/100, label =\"FTPF\")\n",
        "plt.plot(col1,np.array(col13)/100, label =\"FFPF\")\n",
        "plt.title(\"CIFAR - SDC On Test set\")\n",
        "plt.grid()\n",
        "# plt.legend(loc='center left', bbox_to_anchor=(1, 0.5))\n",
        "plt.legend()\n",
        "plt.xlabel(\"epochs\", fontsize=14, fontweight = 'bold')\n",
        "plt.ylabel(\"percentage test data\", fontsize=14, fontweight = 'bold')\n",
        "plt.savefig(path+\"cifar_test.png\", bbox_inches=\"tight\")\n",
        "plt.savefig(path+\"cifar_test.pdf\", bbox_inches=\"tight\")\n",
        "plt.savefig(\"cifar_test.png\", bbox_inches=\"tight\")\n",
        "plt.savefig(\"cifar_test.pdf\", bbox_inches=\"tight\")\n",
        "plt.show()"
      ],
      "execution_count": 82,
      "outputs": [
        {
          "output_type": "display_data",
          "data": {
            "image/png": "[encoded data removed]",
            "text/plain": [
              "<Figure size 432x360 with 1 Axes>"
            ]
          },
          "metadata": {
            "tags": [],
            "needs_background": "light"
          }
        }
      ]
    },
    {
      "cell_type": "code",
      "metadata": {
        "id": "WoV2bwMki5h9",
        "colab": {
          "base_uri": "https://localhost:8080/"
        },
        "outputId": "c0fad679-31be-4e12-aefb-280b8d9d02ac"
      },
      "source": [
        "correct = 0\n",
        "total = 0\n",
        "count = 0\n",
        "flag = 1\n",
        "focus_true_pred_true =0\n",
        "focus_false_pred_true =0\n",
        "focus_true_pred_false =0\n",
        "focus_false_pred_false =0\n",
        "\n",
        "argmax_more_than_half = 0\n",
        "argmax_less_than_half =0\n",
        "\n",
        "with torch.no_grad():\n",
        "  for data in train_loader:\n",
        "    inputs, labels , fore_idx = data\n",
        "    inputs = inputs.double()\n",
        "    inputs, labels , fore_idx = inputs.to(\"cuda\"),labels.to(\"cuda\"), fore_idx.to(\"cuda\")\n",
        "    alphas, avg_images = focus_net(inputs)\n",
        "    outputs = classify(avg_images)\n",
        "\n",
        "    _, predicted = torch.max(outputs.data, 1)\n",
        "\n",
        "    for j in range(labels.size(0)):\n",
        "      focus = torch.argmax(alphas[j])\n",
        "      if alphas[j][focus] >= 0.5 :\n",
        "        argmax_more_than_half += 1\n",
        "      else:\n",
        "        argmax_less_than_half += 1\n",
        "\n",
        "      if(focus == fore_idx[j] and predicted[j] == labels[j]):\n",
        "          focus_true_pred_true += 1\n",
        "      elif(focus != fore_idx[j] and predicted[j] == labels[j]):\n",
        "        focus_false_pred_true += 1\n",
        "      elif(focus == fore_idx[j] and predicted[j] != labels[j]):\n",
        "        focus_true_pred_false += 1\n",
        "      elif(focus != fore_idx[j] and predicted[j] != labels[j]):\n",
        "        focus_false_pred_false += 1\n",
        "\n",
        "    total += labels.size(0)\n",
        "    correct += (predicted == labels).sum().item()\n",
        "\n",
        "print('Accuracy of the network on the 30000 train images: %d %%' % (\n",
        "    100 * correct / total))\n",
        "print(\"total correct\", correct)\n",
        "print(\"total train set images\", total)\n",
        "\n",
        "print(\"focus_true_pred_true %d =============> FTPT : %d %%\" % (focus_true_pred_true , (100 * focus_true_pred_true / total) ) )\n",
        "print(\"focus_false_pred_true %d =============> FFPT : %d %%\" % (focus_false_pred_true, (100 * focus_false_pred_true / total) ) )\n",
        "print(\"focus_true_pred_false %d =============> FTPF : %d %%\" %( focus_true_pred_false , ( 100 * focus_true_pred_false / total) ) )\n",
        "print(\"focus_false_pred_false %d =============> FFPF : %d %%\" % (focus_false_pred_false, ( 100 * focus_false_pred_false / total) ) )\n",
        "\n",
        "print(\"argmax_more_than_half ==================> \",argmax_more_than_half)\n",
        "print(\"argmax_less_than_half ==================> \",argmax_less_than_half)"
      ],
      "execution_count": 76,
      "outputs": [
        {
          "output_type": "stream",
          "text": [
            "Accuracy of the network on the 30000 train images: 99 %\n",
            "total correct 9981\n",
            "total train set images 10000\n",
            "focus_true_pred_true 6786 =============> FTPT : 67 %\n",
            "focus_false_pred_true 3195 =============> FFPT : 31 %\n",
            "focus_true_pred_false 2 =============> FTPF : 0 %\n",
            "focus_false_pred_false 17 =============> FFPF : 0 %\n",
            "argmax_more_than_half ==================>  6741\n",
            "argmax_less_than_half ==================>  3259\n"
          ],
          "name": "stdout"
        }
      ]
    },
    {
      "cell_type": "code",
      "metadata": {
        "id": "Mjt9XLf6jF50",
        "colab": {
          "base_uri": "https://localhost:8080/"
        },
        "outputId": "5f936ed1-6acf-481d-9d4a-7b3f2c1c7bed"
      },
      "source": [
        "correct = 0\n",
        "total = 0\n",
        "count = 0\n",
        "flag = 1\n",
        "focus_true_pred_true =0\n",
        "focus_false_pred_true =0\n",
        "focus_true_pred_false =0\n",
        "focus_false_pred_false =0\n",
        "\n",
        "argmax_more_than_half = 0\n",
        "argmax_less_than_half =0\n",
        "\n",
        "with torch.no_grad():\n",
        "  for data in test_loader:\n",
        "    inputs, labels , fore_idx = data\n",
        "    inputs = inputs.double()\n",
        "    inputs, labels , fore_idx = inputs.to(\"cuda\"),labels.to(\"cuda\"), fore_idx.to(\"cuda\")\n",
        "    alphas, avg_images = focus_net(inputs)\n",
        "    outputs = classify(avg_images)\n",
        "\n",
        "    _, predicted = torch.max(outputs.data, 1)\n",
        "\n",
        "    for j in range(labels.size(0)):\n",
        "      focus = torch.argmax(alphas[j])\n",
        "      if alphas[j][focus] >= 0.5 :\n",
        "        argmax_more_than_half += 1\n",
        "      else:\n",
        "        argmax_less_than_half += 1\n",
        "\n",
        "      if(focus == fore_idx[j] and predicted[j] == labels[j]):\n",
        "          focus_true_pred_true += 1\n",
        "      elif(focus != fore_idx[j] and predicted[j] == labels[j]):\n",
        "        focus_false_pred_true += 1\n",
        "      elif(focus == fore_idx[j] and predicted[j] != labels[j]):\n",
        "        focus_true_pred_false += 1\n",
        "      elif(focus != fore_idx[j] and predicted[j] != labels[j]):\n",
        "        focus_false_pred_false += 1\n",
        "\n",
        "    total += labels.size(0)\n",
        "    correct += (predicted == labels).sum().item()\n",
        "\n",
        "print('Accuracy of the network on the 10000 test images: %d %%' % (\n",
        "    100 * correct / total))\n",
        "print(\"total correct\", correct)\n",
        "print(\"total train set images\", total)\n",
        "\n",
        "print(\"focus_true_pred_true %d =============> FTPT : %d %%\" % (focus_true_pred_true , (100 * focus_true_pred_true / total) ) )\n",
        "print(\"focus_false_pred_true %d =============> FFPT : %d %%\" % (focus_false_pred_true, (100 * focus_false_pred_true / total) ) )\n",
        "print(\"focus_true_pred_false %d =============> FTPF : %d %%\" %( focus_true_pred_false , ( 100 * focus_true_pred_false / total) ) )\n",
        "print(\"focus_false_pred_false %d =============> FFPF : %d %%\" % (focus_false_pred_false, ( 100 * focus_false_pred_false / total) ) )\n",
        "\n",
        "print(\"argmax_more_than_half ==================> \",argmax_more_than_half)\n",
        "print(\"argmax_less_than_half ==================> \",argmax_less_than_half)"
      ],
      "execution_count": 77,
      "outputs": [
        {
          "output_type": "stream",
          "text": [
            "Accuracy of the network on the 10000 test images: 72 %\n",
            "total correct 7202\n",
            "total train set images 10000\n",
            "focus_true_pred_true 5239 =============> FTPT : 52 %\n",
            "focus_false_pred_true 1963 =============> FFPT : 19 %\n",
            "focus_true_pred_false 767 =============> FTPF : 7 %\n",
            "focus_false_pred_false 2031 =============> FFPF : 20 %\n",
            "argmax_more_than_half ==================>  5902\n",
            "argmax_less_than_half ==================>  4098\n"
          ],
          "name": "stdout"
        }
      ]
    },
    {
      "cell_type": "code",
      "metadata": {
        "id": "iJEMJnUI9FP2",
        "colab": {
          "base_uri": "https://localhost:8080/"
        },
        "outputId": "a08c92ca-8793-42fb-beee-614f93d97b58"
      },
      "source": [
        "correct = 0\n",
        "total = 0\n",
        "\n",
        "with torch.no_grad():\n",
        "  for data in train_loader:\n",
        "    inputs, labels , fore_idx = data\n",
        "    inputs = inputs.double()\n",
        "    inputs, labels = inputs.to(\"cuda\"), labels.to(\"cuda\")\n",
        "    alphas, avg_images = focus_net(inputs)\n",
        "    outputs = classify(avg_images)\n",
        "\n",
        "    _, predicted = torch.max(outputs.data, 1)\n",
        "\n",
        "    total += labels.size(0)\n",
        "    correct += (predicted == labels).sum().item()\n",
        "\n",
        "print('Accuracy of the network on the 30000 train images: %d %%' % ( 100 * correct / total))\n",
        "print(\"total correct\", correct)\n",
        "print(\"total train set images\", total)"
      ],
      "execution_count": 78,
      "outputs": [
        {
          "output_type": "stream",
          "text": [
            "Accuracy of the network on the 30000 train images: 99 %\n",
            "total correct 9981\n",
            "total train set images 10000\n"
          ],
          "name": "stdout"
        }
      ]
    },
    {
      "cell_type": "code",
      "metadata": {
        "id": "an7qmNLB-Ilb",
        "colab": {
          "base_uri": "https://localhost:8080/"
        },
        "outputId": "695df06b-546e-4b16-fd93-2397a4fc44b6"
      },
      "source": [
        "correct = 0\n",
        "total = 0\n",
        "\n",
        "with torch.no_grad():\n",
        "  for data in test_loader:\n",
        "    inputs, labels , fore_idx = data\n",
        "    inputs = inputs.double()\n",
        "    inputs, labels = inputs.to(\"cuda\"), labels.to(\"cuda\")\n",
        "    alphas, avg_images = focus_net(inputs)\n",
        "    outputs = classify(avg_images)\n",
        "\n",
        "    _, predicted = torch.max(outputs.data, 1)\n",
        "\n",
        "    total += labels.size(0)\n",
        "    correct += (predicted == labels).sum().item()\n",
        "\n",
        "print('Accuracy of the network on the 10000 test images: %d %%' % ( 100 * correct / total))\n",
        "print(\"total correct\", correct)\n",
        "print(\"total train set images\", total)"
      ],
      "execution_count": 79,
      "outputs": [
        {
          "output_type": "stream",
          "text": [
            "Accuracy of the network on the 10000 test images: 72 %\n",
            "total correct 7202\n",
            "total train set images 10000\n"
          ],
          "name": "stdout"
        }
      ]
    },
    {
      "cell_type": "code",
      "metadata": {
        "id": "725MVVfLS3et"
      },
      "source": [
        ""
      ],
      "execution_count": 79,
      "outputs": []
    }
  ]
}