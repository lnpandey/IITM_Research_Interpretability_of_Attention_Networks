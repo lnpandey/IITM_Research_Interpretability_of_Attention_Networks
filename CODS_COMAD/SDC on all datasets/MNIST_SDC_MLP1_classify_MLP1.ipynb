{
  "nbformat": 4,
  "nbformat_minor": 0,
  "metadata": {
    "accelerator": "GPU",
    "colab": {
      "name": "MNIST_SDC_MLP1_classify_MLP1.ipynb",
      "provenance": [],
      "collapsed_sections": [],
      "machine_shape": "hm"
    },
    "kernelspec": {
      "display_name": "Python 3",
      "language": "python",
      "name": "python3"
    },
    "language_info": {
      "codemirror_mode": {
        "name": "ipython",
        "version": 3
      },
      "file_extension": ".py",
      "mimetype": "text/x-python",
      "name": "python",
      "nbconvert_exporter": "python",
      "pygments_lexer": "ipython3",
      "version": "3.6.5"
    }
  },
  "cells": [
    {
      "cell_type": "code",
      "metadata": {
        "id": "JSjG64ra4aFu",
        "colab": {
          "base_uri": "https://localhost:8080/"
        },
        "outputId": "7a0cb1dc-ef1e-4461-f9b5-bc0827283519"
      },
      "source": [
        "from google.colab import drive\n",
        "drive.mount('/content/drive')"
      ],
      "execution_count": 1,
      "outputs": [
        {
          "output_type": "stream",
          "text": [
            "Drive already mounted at /content/drive; to attempt to forcibly remount, call drive.mount(\"/content/drive\", force_remount=True).\n"
          ],
          "name": "stdout"
        }
      ]
    },
    {
      "cell_type": "code",
      "metadata": {
        "id": "3uDWznlVHuI6"
      },
      "source": [
        "path = \"/content/drive/MyDrive/Research/cods_comad_plots/sdc_task/mnist/\""
      ],
      "execution_count": 2,
      "outputs": []
    },
    {
      "cell_type": "code",
      "metadata": {
        "id": "V8-7SARDZErK"
      },
      "source": [
        "import torch.nn as nn\n",
        "import torch.nn.functional as F\n",
        "\n",
        "import pandas as pd\n",
        "import numpy as np\n",
        "import matplotlib.pyplot as plt\n",
        "\n",
        "import torch\n",
        "import torchvision\n",
        "import torchvision.transforms as transforms\n",
        "from torch.utils.data import Dataset, DataLoader\n",
        "from torchvision import transforms, utils\n",
        "\n",
        "from matplotlib import pyplot as plt\n",
        "\n",
        "import copy\n",
        "\n",
        "# Ignore warnings\n",
        "import warnings\n",
        "warnings.filterwarnings(\"ignore\")\n"
      ],
      "execution_count": 3,
      "outputs": []
    },
    {
      "cell_type": "code",
      "metadata": {
        "id": "acRFqJNrZErV"
      },
      "source": [
        "transform = transforms.Compose(\n",
        "    [transforms.ToTensor(),\n",
        "     transforms.Normalize((0.5), (0.5))])\n",
        "\n",
        "trainset = torchvision.datasets.MNIST(root='./data', train=True, download=True, transform=transform)\n",
        "\n",
        "\n",
        "testset = torchvision.datasets.MNIST(root='./data', train=False, download=True, transform=transform)"
      ],
      "execution_count": 4,
      "outputs": []
    },
    {
      "cell_type": "code",
      "metadata": {
        "id": "gh5DXuAV1tp5",
        "colab": {
          "base_uri": "https://localhost:8080/"
        },
        "outputId": "3b2d6ca4-d83e-4580-c513-558e0da68f3e"
      },
      "source": [
        "classes = ('zero','one','two','three','four','five','six','seven','eight','nine')\n",
        "\n",
        "foreground_classes = {'zero','one'}\n",
        "fg_used = '01'\n",
        "fg1, fg2 = 0,1\n",
        "\n",
        "\n",
        "all_classes = {'zero','one','two','three','four','five','six','seven','eight','nine'}\n",
        "background_classes = all_classes - foreground_classes\n",
        "background_classes"
      ],
      "execution_count": 5,
      "outputs": [
        {
          "output_type": "execute_result",
          "data": {
            "text/plain": [
              "{'eight', 'five', 'four', 'nine', 'seven', 'six', 'three', 'two'}"
            ]
          },
          "metadata": {
            "tags": []
          },
          "execution_count": 5
        }
      ]
    },
    {
      "cell_type": "code",
      "metadata": {
        "id": "Xbr_H78mp_Of"
      },
      "source": [
        "trainloader = torch.utils.data.DataLoader(trainset, batch_size=10, shuffle = False)\n",
        "testloader = torch.utils.data.DataLoader(testset, batch_size=10, shuffle = False)"
      ],
      "execution_count": 6,
      "outputs": []
    },
    {
      "cell_type": "code",
      "metadata": {
        "id": "V_JUhwCeZErk"
      },
      "source": [
        "dataiter = iter(trainloader)\n",
        "background_data=[]\n",
        "background_label=[]\n",
        "foreground_data=[]\n",
        "foreground_label=[]\n",
        "batch_size=10\n",
        "\n",
        "for i in range(6000):\n",
        "  images, labels = dataiter.next()\n",
        "  for j in range(batch_size):\n",
        "    if(classes[labels[j]] in background_classes):\n",
        "      img = images[j].tolist()\n",
        "      background_data.append(img)\n",
        "      background_label.append(labels[j])\n",
        "    else:\n",
        "      img = images[j].tolist()\n",
        "      foreground_data.append(img)\n",
        "      foreground_label.append(labels[j])\n",
        "            \n",
        "foreground_data = torch.tensor(foreground_data)\n",
        "foreground_label = torch.tensor(foreground_label)\n",
        "background_data = torch.tensor(background_data)\n",
        "background_label = torch.tensor(background_label)"
      ],
      "execution_count": 7,
      "outputs": []
    },
    {
      "cell_type": "code",
      "metadata": {
        "id": "iyyWx5g58erM"
      },
      "source": [
        "def imshow(img):\n",
        "  img = img / 2 + 0.5     # unnormalize\n",
        "  npimg = img#.numpy()\n",
        "  plt.imshow(np.reshape(npimg, (28,28)))\n",
        "  plt.show()"
      ],
      "execution_count": 8,
      "outputs": []
    },
    {
      "cell_type": "code",
      "metadata": {
        "colab": {
          "base_uri": "https://localhost:8080/"
        },
        "id": "U5w9S6xb6EFl",
        "outputId": "537e7aa1-7e02-43f4-b04e-0a87bf275f07"
      },
      "source": [
        "foreground_data.shape, foreground_label.shape, background_data.shape, background_label.shape"
      ],
      "execution_count": 9,
      "outputs": [
        {
          "output_type": "execute_result",
          "data": {
            "text/plain": [
              "(torch.Size([12665, 1, 28, 28]),\n",
              " torch.Size([12665]),\n",
              " torch.Size([47335, 1, 28, 28]),\n",
              " torch.Size([47335]))"
            ]
          },
          "metadata": {
            "tags": []
          },
          "execution_count": 9
        }
      ]
    },
    {
      "cell_type": "code",
      "metadata": {
        "colab": {
          "base_uri": "https://localhost:8080/"
        },
        "id": "IRd6EpWM6Abq",
        "outputId": "95c79e09-c5d9-4291-d7a8-d18d52c05969"
      },
      "source": [
        "val, idx = torch.max(background_data, dim=0, keepdims= True,)\n",
        "torch.abs(val)"
      ],
      "execution_count": 10,
      "outputs": [
        {
          "output_type": "execute_result",
          "data": {
            "text/plain": [
              "tensor([[[[1.0000, 1.0000, 1.0000, 1.0000, 1.0000, 1.0000, 1.0000, 1.0000,\n",
              "           1.0000, 1.0000, 1.0000, 1.0000, 0.0902, 0.9922, 0.6941, 0.9294,\n",
              "           1.0000, 1.0000, 1.0000, 1.0000, 1.0000, 1.0000, 1.0000, 1.0000,\n",
              "           1.0000, 1.0000, 1.0000, 1.0000],\n",
              "          [1.0000, 1.0000, 1.0000, 1.0000, 0.8745, 0.6314, 0.2314, 0.9922,\n",
              "           1.0000, 0.9922, 1.0000, 1.0000, 1.0000, 1.0000, 1.0000, 1.0000,\n",
              "           1.0000, 1.0000, 1.0000, 1.0000, 0.9137, 1.0000, 0.4431, 0.5451,\n",
              "           1.0000, 1.0000, 1.0000, 1.0000],\n",
              "          [1.0000, 1.0000, 0.4980, 0.8980, 0.0510, 0.5137, 0.8353, 1.0000,\n",
              "           1.0000, 1.0000, 1.0000, 1.0000, 1.0000, 1.0000, 1.0000, 1.0000,\n",
              "           1.0000, 1.0000, 1.0000, 1.0000, 1.0000, 1.0000, 1.0000, 1.0000,\n",
              "           1.0000, 0.2941, 1.0000, 1.0000],\n",
              "          [1.0000, 1.0000, 0.1059, 0.2078, 0.2549, 1.0000, 1.0000, 1.0000,\n",
              "           1.0000, 1.0000, 1.0000, 1.0000, 1.0000, 1.0000, 1.0000, 1.0000,\n",
              "           1.0000, 1.0000, 1.0000, 1.0000, 1.0000, 1.0000, 1.0000, 1.0000,\n",
              "           1.0000, 0.5059, 0.0510, 1.0000],\n",
              "          [1.0000, 0.7020, 0.6000, 0.2078, 0.9922, 1.0000, 1.0000, 1.0000,\n",
              "           1.0000, 1.0000, 1.0000, 1.0000, 1.0000, 1.0000, 1.0000, 1.0000,\n",
              "           1.0000, 1.0000, 1.0000, 1.0000, 1.0000, 1.0000, 1.0000, 1.0000,\n",
              "           1.0000, 0.9922, 0.7333, 0.5059],\n",
              "          [1.0000, 1.0000, 0.2549, 1.0000, 1.0000, 1.0000, 1.0000, 1.0000,\n",
              "           1.0000, 1.0000, 1.0000, 1.0000, 1.0000, 1.0000, 1.0000, 1.0000,\n",
              "           1.0000, 1.0000, 1.0000, 1.0000, 1.0000, 1.0000, 1.0000, 1.0000,\n",
              "           1.0000, 1.0000, 1.0000, 0.2706],\n",
              "          [1.0000, 0.9451, 0.6471, 1.0000, 1.0000, 1.0000, 1.0000, 1.0000,\n",
              "           1.0000, 1.0000, 1.0000, 1.0000, 1.0000, 1.0000, 1.0000, 1.0000,\n",
              "           1.0000, 1.0000, 1.0000, 1.0000, 1.0000, 1.0000, 1.0000, 1.0000,\n",
              "           1.0000, 1.0000, 0.9922, 0.9843],\n",
              "          [0.6314, 0.4980, 1.0000, 1.0000, 1.0000, 1.0000, 1.0000, 1.0000,\n",
              "           1.0000, 1.0000, 1.0000, 1.0000, 1.0000, 1.0000, 1.0000, 1.0000,\n",
              "           1.0000, 1.0000, 1.0000, 1.0000, 1.0000, 1.0000, 1.0000, 1.0000,\n",
              "           1.0000, 1.0000, 1.0000, 0.9843],\n",
              "          [0.4980, 0.9765, 1.0000, 1.0000, 1.0000, 1.0000, 1.0000, 1.0000,\n",
              "           1.0000, 1.0000, 1.0000, 1.0000, 1.0000, 1.0000, 1.0000, 1.0000,\n",
              "           1.0000, 1.0000, 1.0000, 1.0000, 1.0000, 1.0000, 1.0000, 1.0000,\n",
              "           1.0000, 1.0000, 0.9922, 0.7333],\n",
              "          [0.4431, 0.9922, 1.0000, 1.0000, 1.0000, 1.0000, 1.0000, 1.0000,\n",
              "           1.0000, 1.0000, 1.0000, 1.0000, 1.0000, 1.0000, 1.0000, 1.0000,\n",
              "           1.0000, 1.0000, 1.0000, 1.0000, 1.0000, 1.0000, 1.0000, 1.0000,\n",
              "           1.0000, 1.0000, 1.0000, 0.7255],\n",
              "          [0.6784, 1.0000, 1.0000, 1.0000, 1.0000, 1.0000, 1.0000, 1.0000,\n",
              "           1.0000, 1.0000, 1.0000, 1.0000, 1.0000, 1.0000, 1.0000, 1.0000,\n",
              "           1.0000, 1.0000, 1.0000, 1.0000, 1.0000, 1.0000, 1.0000, 1.0000,\n",
              "           1.0000, 1.0000, 0.9922, 0.5922],\n",
              "          [0.1765, 1.0000, 1.0000, 1.0000, 1.0000, 1.0000, 1.0000, 1.0000,\n",
              "           1.0000, 1.0000, 1.0000, 1.0000, 1.0000, 1.0000, 1.0000, 1.0000,\n",
              "           1.0000, 1.0000, 1.0000, 1.0000, 1.0000, 1.0000, 1.0000, 1.0000,\n",
              "           1.0000, 1.0000, 0.9843, 0.0275],\n",
              "          [0.2784, 1.0000, 1.0000, 1.0000, 1.0000, 1.0000, 1.0000, 1.0000,\n",
              "           1.0000, 1.0000, 1.0000, 1.0000, 1.0000, 1.0000, 1.0000, 1.0000,\n",
              "           1.0000, 1.0000, 1.0000, 1.0000, 1.0000, 1.0000, 1.0000, 1.0000,\n",
              "           1.0000, 0.9922, 0.9765, 0.1922],\n",
              "          [1.0000, 0.9843, 1.0000, 1.0000, 1.0000, 1.0000, 1.0000, 1.0000,\n",
              "           1.0000, 1.0000, 1.0000, 1.0000, 1.0000, 1.0000, 1.0000, 1.0000,\n",
              "           1.0000, 1.0000, 1.0000, 1.0000, 1.0000, 1.0000, 1.0000, 1.0000,\n",
              "           1.0000, 0.9922, 0.9765, 0.9373],\n",
              "          [0.1137, 0.4745, 0.9922, 1.0000, 1.0000, 1.0000, 1.0000, 1.0000,\n",
              "           1.0000, 1.0000, 1.0000, 1.0000, 1.0000, 1.0000, 1.0000, 1.0000,\n",
              "           1.0000, 1.0000, 1.0000, 1.0000, 1.0000, 1.0000, 1.0000, 1.0000,\n",
              "           1.0000, 1.0000, 0.9922, 0.5922],\n",
              "          [0.7098, 0.7725, 0.9922, 1.0000, 1.0000, 1.0000, 1.0000, 1.0000,\n",
              "           1.0000, 1.0000, 1.0000, 1.0000, 1.0000, 1.0000, 1.0000, 1.0000,\n",
              "           1.0000, 1.0000, 1.0000, 1.0000, 1.0000, 1.0000, 1.0000, 1.0000,\n",
              "           1.0000, 1.0000, 1.0000, 0.4902],\n",
              "          [0.6863, 0.1608, 0.9922, 1.0000, 1.0000, 1.0000, 1.0000, 1.0000,\n",
              "           1.0000, 1.0000, 1.0000, 1.0000, 1.0000, 1.0000, 1.0000, 1.0000,\n",
              "           1.0000, 1.0000, 1.0000, 1.0000, 1.0000, 1.0000, 1.0000, 1.0000,\n",
              "           1.0000, 1.0000, 0.9922, 0.7490],\n",
              "          [1.0000, 0.0431, 0.9922, 1.0000, 1.0000, 1.0000, 1.0000, 1.0000,\n",
              "           1.0000, 1.0000, 1.0000, 1.0000, 1.0000, 1.0000, 1.0000, 1.0000,\n",
              "           1.0000, 1.0000, 1.0000, 1.0000, 1.0000, 1.0000, 1.0000, 1.0000,\n",
              "           1.0000, 1.0000, 0.9843, 0.2000],\n",
              "          [0.5294, 0.5451, 1.0000, 1.0000, 1.0000, 1.0000, 1.0000, 1.0000,\n",
              "           1.0000, 1.0000, 1.0000, 1.0000, 1.0000, 1.0000, 1.0000, 1.0000,\n",
              "           1.0000, 1.0000, 1.0000, 1.0000, 1.0000, 1.0000, 1.0000, 1.0000,\n",
              "           1.0000, 1.0000, 1.0000, 0.2000],\n",
              "          [1.0000, 0.3020, 1.0000, 1.0000, 1.0000, 1.0000, 1.0000, 1.0000,\n",
              "           1.0000, 1.0000, 1.0000, 1.0000, 1.0000, 1.0000, 1.0000, 1.0000,\n",
              "           1.0000, 1.0000, 1.0000, 1.0000, 1.0000, 1.0000, 1.0000, 1.0000,\n",
              "           1.0000, 1.0000, 0.9843, 0.0039],\n",
              "          [1.0000, 0.4510, 1.0000, 1.0000, 1.0000, 1.0000, 1.0000, 1.0000,\n",
              "           1.0000, 1.0000, 1.0000, 1.0000, 1.0000, 1.0000, 1.0000, 1.0000,\n",
              "           1.0000, 1.0000, 1.0000, 1.0000, 1.0000, 1.0000, 1.0000, 1.0000,\n",
              "           1.0000, 1.0000, 1.0000, 0.6078],\n",
              "          [1.0000, 0.4510, 1.0000, 1.0000, 1.0000, 1.0000, 1.0000, 1.0000,\n",
              "           1.0000, 1.0000, 1.0000, 1.0000, 1.0000, 1.0000, 1.0000, 1.0000,\n",
              "           1.0000, 1.0000, 1.0000, 1.0000, 1.0000, 1.0000, 1.0000, 1.0000,\n",
              "           1.0000, 1.0000, 0.9765, 1.0000],\n",
              "          [1.0000, 0.7020, 1.0000, 1.0000, 1.0000, 1.0000, 1.0000, 1.0000,\n",
              "           1.0000, 1.0000, 1.0000, 1.0000, 1.0000, 1.0000, 1.0000, 1.0000,\n",
              "           1.0000, 1.0000, 1.0000, 1.0000, 1.0000, 1.0000, 1.0000, 1.0000,\n",
              "           1.0000, 0.9922, 0.0745, 1.0000],\n",
              "          [1.0000, 1.0000, 0.7020, 1.0000, 1.0000, 1.0000, 1.0000, 1.0000,\n",
              "           1.0000, 1.0000, 1.0000, 1.0000, 1.0000, 1.0000, 1.0000, 1.0000,\n",
              "           1.0000, 1.0000, 1.0000, 1.0000, 1.0000, 1.0000, 1.0000, 1.0000,\n",
              "           1.0000, 0.9922, 0.3412, 1.0000],\n",
              "          [1.0000, 1.0000, 0.9843, 0.9843, 1.0000, 1.0000, 1.0000, 1.0000,\n",
              "           1.0000, 1.0000, 1.0000, 1.0000, 1.0000, 1.0000, 1.0000, 1.0000,\n",
              "           1.0000, 1.0000, 1.0000, 1.0000, 1.0000, 1.0000, 1.0000, 1.0000,\n",
              "           0.9922, 0.9765, 0.2314, 1.0000],\n",
              "          [1.0000, 1.0000, 0.6706, 0.9922, 1.0000, 1.0000, 1.0000, 1.0000,\n",
              "           1.0000, 1.0000, 1.0000, 1.0000, 1.0000, 1.0000, 1.0000, 1.0000,\n",
              "           1.0000, 1.0000, 1.0000, 1.0000, 1.0000, 1.0000, 1.0000, 1.0000,\n",
              "           0.9843, 0.0039, 0.1843, 1.0000],\n",
              "          [1.0000, 1.0000, 1.0000, 0.7020, 1.0000, 1.0000, 1.0000, 1.0000,\n",
              "           1.0000, 1.0000, 1.0000, 1.0000, 1.0000, 1.0000, 1.0000, 1.0000,\n",
              "           1.0000, 1.0000, 1.0000, 1.0000, 1.0000, 1.0000, 1.0000, 0.0745,\n",
              "           0.7804, 0.5373, 1.0000, 1.0000],\n",
              "          [1.0000, 1.0000, 1.0000, 1.0000, 0.2627, 0.9765, 0.9216, 0.9922,\n",
              "           0.9922, 1.0000, 1.0000, 1.0000, 1.0000, 1.0000, 1.0000, 1.0000,\n",
              "           1.0000, 1.0000, 0.9922, 0.9922, 0.9843, 0.9843, 0.9922, 0.5137,\n",
              "           1.0000, 1.0000, 1.0000, 1.0000]]]])"
            ]
          },
          "metadata": {
            "tags": []
          },
          "execution_count": 10
        }
      ]
    },
    {
      "cell_type": "code",
      "metadata": {
        "id": "Sly62nHh6VJy"
      },
      "source": [
        "mean_bg = torch.mean(background_data, dim=0, keepdims= True)\n",
        "std_bg, _ = torch.max(background_data, dim=0, keepdims= True)"
      ],
      "execution_count": 11,
      "outputs": []
    },
    {
      "cell_type": "code",
      "metadata": {
        "colab": {
          "base_uri": "https://localhost:8080/"
        },
        "id": "K89Qj57m6axj",
        "outputId": "558fc756-3c6d-475a-946a-442188093b60"
      },
      "source": [
        "mean_bg.shape, std_bg.shape"
      ],
      "execution_count": 12,
      "outputs": [
        {
          "output_type": "execute_result",
          "data": {
            "text/plain": [
              "(torch.Size([1, 1, 28, 28]), torch.Size([1, 1, 28, 28]))"
            ]
          },
          "metadata": {
            "tags": []
          },
          "execution_count": 12
        }
      ]
    },
    {
      "cell_type": "code",
      "metadata": {
        "id": "wGVjRbqZ6lzV"
      },
      "source": [
        "foreground_data = (foreground_data - mean_bg) / std_bg\n",
        "background_data = (background_data - mean_bg) / std_bg"
      ],
      "execution_count": 13,
      "outputs": []
    },
    {
      "cell_type": "code",
      "metadata": {
        "colab": {
          "base_uri": "https://localhost:8080/"
        },
        "id": "yxZVq5OW6o3L",
        "outputId": "24cfcc67-6ff3-4a1b-be78-4e0cb0a5f3b8"
      },
      "source": [
        "foreground_data.shape, foreground_label.shape, background_data.shape, background_label.shape"
      ],
      "execution_count": 14,
      "outputs": [
        {
          "output_type": "execute_result",
          "data": {
            "text/plain": [
              "(torch.Size([12665, 1, 28, 28]),\n",
              " torch.Size([12665]),\n",
              " torch.Size([47335, 1, 28, 28]),\n",
              " torch.Size([47335]))"
            ]
          },
          "metadata": {
            "tags": []
          },
          "execution_count": 14
        }
      ]
    },
    {
      "cell_type": "code",
      "metadata": {
        "colab": {
          "base_uri": "https://localhost:8080/"
        },
        "id": "pTrGcqI7GsBA",
        "outputId": "93b066d9-bc42-4eee-cdc7-2d36ab30fdda"
      },
      "source": [
        "torch.sum(torch.isnan(foreground_data)), torch.sum(torch.isnan(background_data))"
      ],
      "execution_count": 15,
      "outputs": [
        {
          "output_type": "execute_result",
          "data": {
            "text/plain": [
              "(tensor(0), tensor(0))"
            ]
          },
          "metadata": {
            "tags": []
          },
          "execution_count": 15
        }
      ]
    },
    {
      "cell_type": "code",
      "metadata": {
        "colab": {
          "base_uri": "https://localhost:8080/",
          "height": 265
        },
        "id": "fIqpbILY-BiG",
        "outputId": "cf154e62-a554-404f-c5bf-22be9468ff13"
      },
      "source": [
        "imshow(foreground_data[0])"
      ],
      "execution_count": 16,
      "outputs": [
        {
          "output_type": "display_data",
          "data": {
            "image/png": "[encoded data removed]",
            "text/plain": [
              "<Figure size 432x288 with 1 Axes>"
            ]
          },
          "metadata": {
            "tags": [],
            "needs_background": "light"
          }
        }
      ]
    },
    {
      "cell_type": "code",
      "metadata": {
        "colab": {
          "base_uri": "https://localhost:8080/",
          "height": 265
        },
        "id": "tRvTvlVo98xz",
        "outputId": "101f0096-4964-4eec-a231-14488e97ce87"
      },
      "source": [
        "imshow(background_data[0])"
      ],
      "execution_count": 17,
      "outputs": [
        {
          "output_type": "display_data",
          "data": {
            "image/png": "[encoded data removed]",
            "text/plain": [
              "<Figure size 432x288 with 1 Axes>"
            ]
          },
          "metadata": {
            "tags": [],
            "needs_background": "light"
          }
        }
      ]
    },
    {
      "cell_type": "code",
      "metadata": {
        "id": "DAbEuMWNqIR_"
      },
      "source": [
        "def create_mosaic_img(bg_idx,fg_idx,fg): \n",
        "  \"\"\"\n",
        "  bg_idx : list of indexes of background_data[] to be used as background images in mosaic\n",
        "  fg_idx : index of image to be used as foreground image from foreground data\n",
        "  fg : at what position/index foreground image has to be stored out of 0-8\n",
        "  \"\"\"\n",
        "  image_list=[]\n",
        "  j=0\n",
        "  for i in range(9):\n",
        "    if i != fg:\n",
        "      image_list.append(background_data[bg_idx[j]])\n",
        "      j+=1\n",
        "    else: \n",
        "      image_list.append(foreground_data[fg_idx])\n",
        "      label = foreground_label[fg_idx] - fg1  # minus fg1 because our fore ground classes are fg1,fg2,fg3 but we have to store it as 0,1,2\n",
        "  #image_list = np.concatenate(image_list ,axis=0)\n",
        "  image_list = torch.stack(image_list) \n",
        "  return image_list,label"
      ],
      "execution_count": 18,
      "outputs": []
    },
    {
      "cell_type": "code",
      "metadata": {
        "id": "uW9MkktGysAp"
      },
      "source": [
        "# def create_mosaic_img(bg_idx,fg_idx,fg): \n",
        "#   \"\"\"\n",
        "#   bg_idx : list of indexes of background_data[] to be used as background images in mosaic\n",
        "#   fg_idx : index of image to be used as foreground image from foreground data\n",
        "#   fg : at what position/index foreground image has to be stored out of 0-8\n",
        "#   \"\"\"\n",
        "#   image_list=[]\n",
        "#   j=0\n",
        "#   for i in range(9):\n",
        "#     if i != fg:\n",
        "#       image_list.append(background_data[bg_idx[j]].type(\"torch.DoubleTensor\"))\n",
        "#       j+=1\n",
        "#     else: \n",
        "#       image_list.append(foreground_data[fg_idx].type(\"torch.DoubleTensor\"))\n",
        "#       label = foreground_label[fg_idx]- fg1  # minus 7 because our fore ground classes are 7,8,9 but we have to store it as 0,1,2\n",
        "#   #image_list = np.concatenate(image_list ,axis=0)\n",
        "#   image_list = torch.stack(image_list) \n",
        "#   return image_list,label"
      ],
      "execution_count": 19,
      "outputs": []
    },
    {
      "cell_type": "code",
      "metadata": {
        "id": "lWxkp87fNwnM"
      },
      "source": [
        "desired_num = 40000\n",
        "mosaic_list_of_images =[]      # list of mosaic images, each mosaic image is saved as list of 9 images\n",
        "fore_idx =[]                   # list of indexes at which foreground image is present in a mosaic image i.e from 0 to 9               \n",
        "mosaic_label=[]                # label of mosaic image = foreground class present in that mosaic\n",
        "list_set_labels = [] \n",
        "for i in range(desired_num):\n",
        "  set_idx = set()\n",
        "  np.random.seed(i)\n",
        "  bg_idx = np.random.randint(0,47335,8)\n",
        "  set_idx = set(background_label[bg_idx].tolist())\n",
        "  fg_idx = np.random.randint(0,12665)\n",
        "  set_idx.add(foreground_label[fg_idx].item())\n",
        "  fg = np.random.randint(0,9)\n",
        "  fore_idx.append(fg)\n",
        "  image_list,label = create_mosaic_img(bg_idx,fg_idx,fg)\n",
        "  mosaic_list_of_images.append(image_list)\n",
        "  mosaic_label.append(label)\n",
        "  list_set_labels.append(set_idx)"
      ],
      "execution_count": 20,
      "outputs": []
    },
    {
      "cell_type": "code",
      "metadata": {
        "colab": {
          "base_uri": "https://localhost:8080/"
        },
        "id": "V4It935z69E8",
        "outputId": "aec19b3d-c6f0-4add-fb2a-c4ca556ef40f"
      },
      "source": [
        "mosaic_list_of_images_train = torch.stack(mosaic_list_of_images)\n",
        "mosaic_list_of_images_train.shape"
      ],
      "execution_count": 21,
      "outputs": [
        {
          "output_type": "execute_result",
          "data": {
            "text/plain": [
              "torch.Size([40000, 9, 1, 28, 28])"
            ]
          },
          "metadata": {
            "tags": []
          },
          "execution_count": 21
        }
      ]
    },
    {
      "cell_type": "code",
      "metadata": {
        "id": "Sc0zklISqMZX"
      },
      "source": [
        "mean_train = torch.mean(mosaic_list_of_images_train[0:30000], dim=0, keepdims= True)\n",
        "std_train, _ = torch.max(mosaic_list_of_images_train[0:30000], dim=0, keepdims= True) \n",
        "\n",
        "mosaic_list_of_images_train = (mosaic_list_of_images_train - mean_train) # / std_train"
      ],
      "execution_count": 22,
      "outputs": []
    },
    {
      "cell_type": "code",
      "metadata": {
        "colab": {
          "base_uri": "https://localhost:8080/",
          "height": 265
        },
        "id": "wJW7lHp97bX6",
        "outputId": "9023f9e8-3192-449b-d9d9-f5fdef82a11e"
      },
      "source": [
        "imshow(mosaic_list_of_images_train[0][2])"
      ],
      "execution_count": 23,
      "outputs": [
        {
          "output_type": "display_data",
          "data": {
            "image/png": "[encoded data removed]",
            "text/plain": [
              "<Figure size 432x288 with 1 Axes>"
            ]
          },
          "metadata": {
            "tags": [],
            "needs_background": "light"
          }
        }
      ]
    },
    {
      "cell_type": "code",
      "metadata": {
        "colab": {
          "base_uri": "https://localhost:8080/"
        },
        "id": "LaUSQrnBFzud",
        "outputId": "2bf2b320-7c90-4b3d-9725-cd760b46125f"
      },
      "source": [
        "torch.sum(torch.isnan(mosaic_list_of_images_train))"
      ],
      "execution_count": 24,
      "outputs": [
        {
          "output_type": "execute_result",
          "data": {
            "text/plain": [
              "tensor(0)"
            ]
          },
          "metadata": {
            "tags": []
          },
          "execution_count": 24
        }
      ]
    },
    {
      "cell_type": "code",
      "metadata": {
        "id": "AJuGak6_zXgx"
      },
      "source": [
        "class MosaicDataset(Dataset):\n",
        "  \"\"\"MosaicDataset dataset.\"\"\"\n",
        "\n",
        "  def __init__(self, mosaic_list_of_images, mosaic_label, fore_idx):\n",
        "    \"\"\"\n",
        "      Args:\n",
        "        csv_file (string): Path to the csv file with annotations.\n",
        "        root_dir (string): Directory with all the images.\n",
        "        transform (callable, optional): Optional transform to be applied\n",
        "            on a sample.\n",
        "    \"\"\"\n",
        "    self.mosaic = mosaic_list_of_images\n",
        "    self.label = mosaic_label\n",
        "    self.fore_idx = fore_idx\n",
        "\n",
        "  def __len__(self):\n",
        "    return len(self.label)\n",
        "\n",
        "  def __getitem__(self, idx):\n",
        "    return self.mosaic[idx] , self.label[idx], self.fore_idx[idx]\n",
        "\n",
        "batch = 250\n",
        "msd = MosaicDataset(mosaic_list_of_images_train[0:30000], mosaic_label[0:30000] , fore_idx[0:30000])\n",
        "train_loader = DataLoader( msd,batch_size= batch ,shuffle=True)\n",
        "\n",
        "test_data = MosaicDataset(mosaic_list_of_images_train[30000:40000], mosaic_label[30000:40000] , fore_idx[30000 : 40000])\n",
        "test_loader = DataLoader( test_data,batch_size= batch ,shuffle=False)"
      ],
      "execution_count": 25,
      "outputs": []
    },
    {
      "cell_type": "code",
      "metadata": {
        "id": "SadRzWBBZEsP"
      },
      "source": [
        "class Focus(nn.Module):\n",
        "  def __init__(self):\n",
        "    super(Focus, self).__init__()\n",
        "\n",
        "    self.fc1 = nn.Linear(28*28, 64)\n",
        "    self.fc2 = nn.Linear(64, 1, bias=False)\n",
        "\n",
        "  def forward(self,z):  #y is avg image #z batch of list of 9 images\n",
        "    y = torch.zeros([batch,1, 28,28], dtype=torch.float64)\n",
        "    x = torch.zeros([batch,9],dtype=torch.float64)\n",
        "    y = y.to(\"cuda\")\n",
        "    x = x.to(\"cuda\")\n",
        "    \n",
        "    for i in range(9):\n",
        "      # print(z[:,i].shape)\n",
        "      # print(self.helper(z[:,i])[:,0].shape)\n",
        "      x[:,i] = self.helper(z[:,i])[:,0]\n",
        "\n",
        "    x = F.softmax(x,dim=1)\n",
        "\n",
        "    x1 = x[:,0]\n",
        "    torch.mul(x1[:,None,None,None],z[:,0])\n",
        "\n",
        "    for i in range(9):            \n",
        "      x1 = x[:,i]          \n",
        "      y = y + torch.mul(x1[:,None,None,None],z[:,i])\n",
        "\n",
        "    return x, y\n",
        "    \n",
        "  def helper(self, x):\n",
        "    x = x.view(-1, 28*28)\n",
        "    x = F.relu(self.fc1(x))\n",
        "    x = (self.fc2(x))\n",
        "\n",
        "    return x"
      ],
      "execution_count": 26,
      "outputs": []
    },
    {
      "cell_type": "code",
      "metadata": {
        "id": "KoP6hoBqNJxX"
      },
      "source": [
        "class Classification(nn.Module):\n",
        "  def __init__(self):\n",
        "    super(Classification, self).__init__()\n",
        "    self.fc1 = nn.Linear(28*28, 64)\n",
        "    torch.nn.init.xavier_normal_(self.fc1.weight)\n",
        "    torch.nn.init.zeros_(self.fc1.bias)\n",
        "    self.fc2 = nn.Linear(64, 2)\n",
        "    torch.nn.init.xavier_normal_(self.fc2.weight)\n",
        "    torch.nn.init.zeros_(self.fc2.bias)\n",
        "\n",
        "  def forward(self, x):\n",
        "    x = x.view(-1, 28*28)\n",
        "    x = F.relu(self.fc1(x))\n",
        "    x = (self.fc2(x))\n",
        "    return x"
      ],
      "execution_count": 27,
      "outputs": []
    },
    {
      "cell_type": "code",
      "metadata": {
        "id": "1GvXR1zV5n4w"
      },
      "source": [
        "torch.manual_seed(12)\n",
        "focus_net = Focus().double()\n",
        "focus_net = focus_net.to(\"cuda\")"
      ],
      "execution_count": 28,
      "outputs": []
    },
    {
      "cell_type": "code",
      "metadata": {
        "colab": {
          "base_uri": "https://localhost:8080/"
        },
        "id": "yo6y03w9-pi8",
        "outputId": "bf37f05b-1c97-4170-ef0e-644bd46c3c14"
      },
      "source": [
        "focus_net.fc2.weight.shape, focus_net.fc2.weight"
      ],
      "execution_count": 29,
      "outputs": [
        {
          "output_type": "execute_result",
          "data": {
            "text/plain": [
              "(torch.Size([1, 64]), Parameter containing:\n",
              " tensor([[-0.1195,  0.0552,  0.1103,  0.0621, -0.1188, -0.1127, -0.0294, -0.1039,\n",
              "           0.1079, -0.1092, -0.0060,  0.0100, -0.0964, -0.0636,  0.1017, -0.1010,\n",
              "          -0.0704,  0.0696, -0.1104, -0.0011, -0.0905,  0.0992,  0.1203,  0.0427,\n",
              "           0.0692, -0.0661,  0.0420,  0.1207, -0.1193, -0.0618, -0.0441,  0.0230,\n",
              "           0.0308,  0.0053, -0.0978, -0.0259,  0.0700,  0.0668,  0.0182,  0.1014,\n",
              "          -0.0903,  0.0741, -0.0096,  0.0563,  0.0198, -0.0141, -0.0639, -0.0400,\n",
              "          -0.0537,  0.0711,  0.0725, -0.0829, -0.0067,  0.0057,  0.0560,  0.0320,\n",
              "          -0.1015,  0.0172, -0.0804,  0.0885, -0.1045,  0.0156, -0.0087,  0.0753]],\n",
              "        device='cuda:0', dtype=torch.float64, requires_grad=True))"
            ]
          },
          "metadata": {
            "tags": []
          },
          "execution_count": 29
        }
      ]
    },
    {
      "cell_type": "code",
      "metadata": {
        "id": "n60qrBoOAEmD"
      },
      "source": [
        "last_layer = [-0.1195,  0.0552,  0.1103,  0.0621, -0.1188, -0.1127, -0.0294, -0.1039,\n",
        "           0.1079, -0.1092, -0.0060,  0.0100, -0.0964, -0.0636,  0.1017, -0.1010,\n",
        "          -0.0704,  0.0696, -0.1104, -0.0011, -0.0905,  0.0992,  0.1203,  0.0427,\n",
        "           0.0692, -0.0661,  0.0420,  0.1207, -0.1193, -0.0618, -0.0441,  0.0230,\n",
        "           0.0308,  0.0053, -0.0978, -0.0259,  0.0700,  0.0668,  0.0182,  0.1014,\n",
        "          -0.0903,  0.0741, -0.0096,  0.0563,  0.0198, -0.0141, -0.0639, -0.0400,\n",
        "          -0.0537,  0.0711,  0.0725, -0.0829, -0.0067,  0.0057,  0.0560,  0.0320,\n",
        "          -0.1015,  0.0172, -0.0804,  0.0885, -0.1045,  0.0156, -0.0087,  0.0753]\n",
        "\n",
        "length = len(last_layer)"
      ],
      "execution_count": 30,
      "outputs": []
    },
    {
      "cell_type": "code",
      "metadata": {
        "id": "ok2ooIRVBS1n"
      },
      "source": [
        "for i in range(length):\n",
        "  if i >= length/2:\n",
        "    last_layer[i] = -1*last_layer[i]"
      ],
      "execution_count": 31,
      "outputs": []
    },
    {
      "cell_type": "code",
      "metadata": {
        "colab": {
          "base_uri": "https://localhost:8080/"
        },
        "id": "JicwLybpAVTc",
        "outputId": "c84fa5c7-4ec2-43ef-a50d-49bed2bd1238"
      },
      "source": [
        "focus_net.fc2.weight = torch.nn.Parameter(torch.tensor([last_layer]) )\n",
        "focus_net.fc2.weight"
      ],
      "execution_count": 32,
      "outputs": [
        {
          "output_type": "execute_result",
          "data": {
            "text/plain": [
              "Parameter containing:\n",
              "tensor([[-0.1195,  0.0552,  0.1103,  0.0621, -0.1188, -0.1127, -0.0294, -0.1039,\n",
              "          0.1079, -0.1092, -0.0060,  0.0100, -0.0964, -0.0636,  0.1017, -0.1010,\n",
              "         -0.0704,  0.0696, -0.1104, -0.0011, -0.0905,  0.0992,  0.1203,  0.0427,\n",
              "          0.0692, -0.0661,  0.0420,  0.1207, -0.1193, -0.0618, -0.0441,  0.0230,\n",
              "         -0.0308, -0.0053,  0.0978,  0.0259, -0.0700, -0.0668, -0.0182, -0.1014,\n",
              "          0.0903, -0.0741,  0.0096, -0.0563, -0.0198,  0.0141,  0.0639,  0.0400,\n",
              "          0.0537, -0.0711, -0.0725,  0.0829,  0.0067, -0.0057, -0.0560, -0.0320,\n",
              "          0.1015, -0.0172,  0.0804, -0.0885,  0.1045, -0.0156,  0.0087, -0.0753]],\n",
              "       requires_grad=True)"
            ]
          },
          "metadata": {
            "tags": []
          },
          "execution_count": 32
        }
      ]
    },
    {
      "cell_type": "code",
      "metadata": {
        "id": "s3MCpEzTDN0e"
      },
      "source": [
        "focus_net = focus_net.double().to(\"cuda\")"
      ],
      "execution_count": 33,
      "outputs": []
    },
    {
      "cell_type": "code",
      "metadata": {
        "id": "uPYplUGazU9I"
      },
      "source": [
        "torch.manual_seed(12)\n",
        "classify = Classification().double()\n",
        "classify = classify.to(\"cuda\")"
      ],
      "execution_count": 34,
      "outputs": []
    },
    {
      "cell_type": "code",
      "metadata": {
        "colab": {
          "base_uri": "https://localhost:8080/"
        },
        "id": "z-2AmM8DEMuW",
        "outputId": "1f7b6be3-2388-4feb-8948-8e69421d9efc"
      },
      "source": [
        "classify.fc1.weight"
      ],
      "execution_count": 35,
      "outputs": [
        {
          "output_type": "execute_result",
          "data": {
            "text/plain": [
              "Parameter containing:\n",
              "tensor([[ 0.0093,  0.0715, -0.1143,  ..., -0.0034,  0.0399,  0.0292],\n",
              "        [ 0.0545, -0.0046,  0.0053,  ...,  0.1022, -0.0313, -0.0127],\n",
              "        [ 0.0338,  0.0841,  0.0809,  ...,  0.0496, -0.0089, -0.0250],\n",
              "        ...,\n",
              "        [-0.0423,  0.0739,  0.0554,  ...,  0.0720, -0.0275, -0.0050],\n",
              "        [ 0.0048, -0.0103,  0.0593,  ..., -0.0069,  0.0688, -0.0496],\n",
              "        [ 0.0427, -0.0443,  0.0951,  ..., -0.0164,  0.0072,  0.0409]],\n",
              "       device='cuda:0', dtype=torch.float64, requires_grad=True)"
            ]
          },
          "metadata": {
            "tags": []
          },
          "execution_count": 35
        }
      ]
    },
    {
      "cell_type": "code",
      "metadata": {
        "colab": {
          "base_uri": "https://localhost:8080/"
        },
        "id": "XHyzydD6EP49",
        "outputId": "e3847a83-334c-4cb8-a773-4548bc96ac20"
      },
      "source": [
        "classify.fc1.bias"
      ],
      "execution_count": 36,
      "outputs": [
        {
          "output_type": "execute_result",
          "data": {
            "text/plain": [
              "Parameter containing:\n",
              "tensor([0., 0., 0., 0., 0., 0., 0., 0., 0., 0., 0., 0., 0., 0., 0., 0., 0., 0., 0., 0., 0., 0., 0., 0.,\n",
              "        0., 0., 0., 0., 0., 0., 0., 0., 0., 0., 0., 0., 0., 0., 0., 0., 0., 0., 0., 0., 0., 0., 0., 0.,\n",
              "        0., 0., 0., 0., 0., 0., 0., 0., 0., 0., 0., 0., 0., 0., 0., 0.],\n",
              "       device='cuda:0', dtype=torch.float64, requires_grad=True)"
            ]
          },
          "metadata": {
            "tags": []
          },
          "execution_count": 36
        }
      ]
    },
    {
      "cell_type": "code",
      "metadata": {
        "id": "n5g3geNJ5zEu"
      },
      "source": [
        "import torch.optim as optim\n",
        "criterion = nn.CrossEntropyLoss()\n",
        "optimizer_classify = optim.SGD(classify.parameters(), lr=0.01, momentum=0.9)\n",
        "optimizer_focus = optim.SGD(focus_net.parameters(), lr=0.01, momentum=0.9)"
      ],
      "execution_count": 37,
      "outputs": []
    },
    {
      "cell_type": "code",
      "metadata": {
        "id": "UAelS-DgaO9M"
      },
      "source": [
        "col1=[]\n",
        "col2=[]\n",
        "col3=[]\n",
        "col4=[]\n",
        "col5=[]\n",
        "col6=[]\n",
        "col7=[]\n",
        "col8=[]\n",
        "col9=[]\n",
        "col10=[]\n",
        "col11=[]\n",
        "col12=[]\n",
        "col13=[]"
      ],
      "execution_count": 38,
      "outputs": []
    },
    {
      "cell_type": "code",
      "metadata": {
        "id": "4ZZ-kb-aaPv7",
        "colab": {
          "base_uri": "https://localhost:8080/"
        },
        "outputId": "2fe9261a-7921-4385-dfca-51c7645ec108"
      },
      "source": [
        "correct = 0\n",
        "total = 0\n",
        "count = 0\n",
        "flag = 1\n",
        "focus_true_pred_true =0\n",
        "focus_false_pred_true =0\n",
        "focus_true_pred_false =0\n",
        "focus_false_pred_false =0\n",
        "\n",
        "argmax_more_than_half = 0\n",
        "argmax_less_than_half =0\n",
        "\n",
        "with torch.no_grad():\n",
        "  for data in train_loader:\n",
        "    inputs, labels , fore_idx = data\n",
        "    inputs = inputs.double()\n",
        "    inputs, labels , fore_idx = inputs.to(\"cuda\"),labels.to(\"cuda\"), fore_idx.to(\"cuda\")\n",
        "    alphas, avg_images = focus_net(inputs)\n",
        "    outputs = classify(avg_images)\n",
        "\n",
        "    _, predicted = torch.max(outputs.data, 1)\n",
        "\n",
        "    for j in range(labels.size(0)):\n",
        "      count += 1\n",
        "      focus = torch.argmax(alphas[j])\n",
        "      if alphas[j][focus] >= 0.5 :\n",
        "        argmax_more_than_half += 1\n",
        "      else:\n",
        "        argmax_less_than_half += 1\n",
        "\n",
        "      if(focus == fore_idx[j] and predicted[j] == labels[j]):\n",
        "          focus_true_pred_true += 1\n",
        "      elif(focus != fore_idx[j] and predicted[j] == labels[j]):\n",
        "        focus_false_pred_true += 1\n",
        "      elif(focus == fore_idx[j] and predicted[j] != labels[j]):\n",
        "        focus_true_pred_false += 1\n",
        "      elif(focus != fore_idx[j] and predicted[j] != labels[j]):\n",
        "        focus_false_pred_false += 1\n",
        "\n",
        "    total += labels.size(0)\n",
        "    correct += (predicted == labels).sum().item()\n",
        "\n",
        "print('Accuracy of the network on the 30000 train images: %d %%' % ( 100 * correct / total))\n",
        "print(\"total correct\", correct)\n",
        "print(\"total train set images\", total)\n",
        "\n",
        "print(\"focus_true_pred_true %d =============> FTPT : %d %%\" % (focus_true_pred_true , (100 * focus_true_pred_true / total) ) )\n",
        "print(\"focus_false_pred_true %d =============> FFPT : %d %%\" % (focus_false_pred_true, (100 * focus_false_pred_true / total) ) )\n",
        "print(\"focus_true_pred_false %d =============> FTPF : %d %%\" %( focus_true_pred_false , ( 100 * focus_true_pred_false / total) ) )\n",
        "print(\"focus_false_pred_false %d =============> FFPF : %d %%\" % (focus_false_pred_false, ( 100 * focus_false_pred_false / total) ) )\n",
        "\n",
        "print(\"argmax_more_than_half ==================> \",argmax_more_than_half)\n",
        "print(\"argmax_less_than_half ==================> \",argmax_less_than_half)\n",
        "print(count)\n",
        "\n",
        "print(\"=\"*100)\n",
        "\n",
        "col1.append(0)\n",
        "col2.append(argmax_more_than_half)\n",
        "col3.append(argmax_less_than_half)\n",
        "col4.append(focus_true_pred_true)\n",
        "col5.append(focus_false_pred_true)\n",
        "col6.append(focus_true_pred_false)\n",
        "col7.append(focus_false_pred_false)"
      ],
      "execution_count": 39,
      "outputs": [
        {
          "output_type": "stream",
          "text": [
            "Accuracy of the network on the 30000 train images: 50 %\n",
            "total correct 15082\n",
            "total train set images 30000\n",
            "focus_true_pred_true 2289 =============> FTPT : 7 %\n",
            "focus_false_pred_true 12793 =============> FFPT : 42 %\n",
            "focus_true_pred_false 1961 =============> FTPF : 6 %\n",
            "focus_false_pred_false 12957 =============> FFPF : 43 %\n",
            "argmax_more_than_half ==================>  0\n",
            "argmax_less_than_half ==================>  30000\n",
            "30000\n",
            "====================================================================================================\n"
          ],
          "name": "stdout"
        }
      ]
    },
    {
      "cell_type": "code",
      "metadata": {
        "id": "TNd3Qz_RaPmK",
        "colab": {
          "base_uri": "https://localhost:8080/"
        },
        "outputId": "949f8a1b-8c22-4343-d6ca-c30db6baa980"
      },
      "source": [
        "correct = 0\n",
        "total = 0\n",
        "count = 0\n",
        "flag = 1\n",
        "focus_true_pred_true =0\n",
        "focus_false_pred_true =0\n",
        "focus_true_pred_false =0\n",
        "focus_false_pred_false =0\n",
        "\n",
        "argmax_more_than_half = 0\n",
        "argmax_less_than_half =0\n",
        "\n",
        "with torch.no_grad():\n",
        "  for data in test_loader:\n",
        "    inputs, labels , fore_idx = data\n",
        "    inputs = inputs.double()\n",
        "    inputs, labels , fore_idx = inputs.to(\"cuda\"),labels.to(\"cuda\"), fore_idx.to(\"cuda\")\n",
        "    alphas, avg_images = focus_net(inputs)\n",
        "    outputs = classify(avg_images)\n",
        "\n",
        "    _, predicted = torch.max(outputs.data, 1)\n",
        "\n",
        "    for j in range(labels.size(0)):\n",
        "      focus = torch.argmax(alphas[j])\n",
        "      if alphas[j][focus] >= 0.5 :\n",
        "        argmax_more_than_half += 1\n",
        "      else:\n",
        "        argmax_less_than_half += 1\n",
        "\n",
        "      if(focus == fore_idx[j] and predicted[j] == labels[j]):\n",
        "          focus_true_pred_true += 1\n",
        "      elif(focus != fore_idx[j] and predicted[j] == labels[j]):\n",
        "        focus_false_pred_true += 1\n",
        "      elif(focus == fore_idx[j] and predicted[j] != labels[j]):\n",
        "        focus_true_pred_false += 1\n",
        "      elif(focus != fore_idx[j] and predicted[j] != labels[j]):\n",
        "        focus_false_pred_false += 1\n",
        "\n",
        "    total += labels.size(0)\n",
        "    correct += (predicted == labels).sum().item()\n",
        "\n",
        "print('Accuracy of the network on the 10000 test images: %d %%' % (\n",
        "    100 * correct / total))\n",
        "print(\"total correct\", correct)\n",
        "print(\"total train set images\", total)\n",
        "\n",
        "print(\"focus_true_pred_true %d =============> FTPT : %d %%\" % (focus_true_pred_true , (100 * focus_true_pred_true / total) ) )\n",
        "print(\"focus_false_pred_true %d =============> FFPT : %d %%\" % (focus_false_pred_true, (100 * focus_false_pred_true / total) ) )\n",
        "print(\"focus_true_pred_false %d =============> FTPF : %d %%\" %( focus_true_pred_false , ( 100 * focus_true_pred_false / total) ) )\n",
        "print(\"focus_false_pred_false %d =============> FFPF : %d %%\" % (focus_false_pred_false, ( 100 * focus_false_pred_false / total) ) )\n",
        "\n",
        "print(\"argmax_more_than_half ==================> \",argmax_more_than_half)\n",
        "print(\"argmax_less_than_half ==================> \",argmax_less_than_half)\n",
        "col8.append(argmax_more_than_half)\n",
        "col9.append(argmax_less_than_half)\n",
        "col10.append(focus_true_pred_true)\n",
        "col11.append(focus_false_pred_true)\n",
        "col12.append(focus_true_pred_false)\n",
        "col13.append(focus_false_pred_false)"
      ],
      "execution_count": 40,
      "outputs": [
        {
          "output_type": "stream",
          "text": [
            "Accuracy of the network on the 10000 test images: 50 %\n",
            "total correct 5058\n",
            "total train set images 10000\n",
            "focus_true_pred_true 797 =============> FTPT : 7 %\n",
            "focus_false_pred_true 4261 =============> FFPT : 42 %\n",
            "focus_true_pred_false 640 =============> FTPF : 6 %\n",
            "focus_false_pred_false 4302 =============> FFPF : 43 %\n",
            "argmax_more_than_half ==================>  0\n",
            "argmax_less_than_half ==================>  10000\n"
          ],
          "name": "stdout"
        }
      ]
    },
    {
      "cell_type": "code",
      "metadata": {
        "id": "tFfAJZkcZEsY",
        "colab": {
          "base_uri": "https://localhost:8080/"
        },
        "outputId": "1fc0f677-5ac8-4373-9099-ab88af048e85"
      },
      "source": [
        "nos_epochs = 1000\n",
        "focus_true_pred_true =0\n",
        "focus_false_pred_true =0\n",
        "focus_true_pred_false =0\n",
        "focus_false_pred_false =0\n",
        "\n",
        "argmax_more_than_half = 0\n",
        "argmax_less_than_half =0\n",
        "\n",
        "\n",
        "for epoch in range(nos_epochs):  # loop over the dataset multiple times\n",
        "\n",
        "  focus_true_pred_true =0\n",
        "  focus_false_pred_true =0\n",
        "  focus_true_pred_false =0\n",
        "  focus_false_pred_false =0\n",
        "  \n",
        "  argmax_more_than_half = 0\n",
        "  argmax_less_than_half =0\n",
        "  \n",
        "  running_loss = 0.0\n",
        "  epoch_loss = []\n",
        "  cnt=0\n",
        "\n",
        "  iteration = desired_num // batch\n",
        "  \n",
        "  #training data set\n",
        "  \n",
        "  for i, data in  enumerate(train_loader):\n",
        "    inputs , labels , fore_idx = data\n",
        "    inputs, labels = inputs.to(\"cuda\"), labels.to(\"cuda\")\n",
        "    inputs = inputs.double()\n",
        "    # zero the parameter gradients\n",
        "    \n",
        "    optimizer_focus.zero_grad()\n",
        "    optimizer_classify.zero_grad()\n",
        "    \n",
        "    alphas, avg_images = focus_net(inputs)\n",
        "    outputs = classify(avg_images)\n",
        "\n",
        "    _, predicted = torch.max(outputs.data, 1)\n",
        "#     print(outputs)\n",
        "#     print(outputs.shape,labels.shape , torch.argmax(outputs, dim=1))\n",
        "\n",
        "    loss = criterion(outputs, labels) \n",
        "    loss.backward()\n",
        "    optimizer_focus.step()\n",
        "    optimizer_classify.step()\n",
        "\n",
        "    running_loss += loss.item()\n",
        "    mini = 60\n",
        "    if cnt % mini == mini-1:    # print every 40 mini-batches\n",
        "      print('[%d, %5d] loss: %.3f' %(epoch + 1, cnt + 1, running_loss / mini))\n",
        "      epoch_loss.append(running_loss/mini)\n",
        "      running_loss = 0.0\n",
        "    cnt=cnt+1\n",
        "    \n",
        "    if epoch % 5 == 0:\n",
        "      for j in range (batch):\n",
        "        focus = torch.argmax(alphas[j])\n",
        "\n",
        "        if(alphas[j][focus] >= 0.5):\n",
        "          argmax_more_than_half +=1\n",
        "        else:\n",
        "          argmax_less_than_half +=1\n",
        "\n",
        "        if(focus == fore_idx[j] and predicted[j] == labels[j]):\n",
        "          focus_true_pred_true += 1\n",
        "\n",
        "        elif(focus != fore_idx[j] and predicted[j] == labels[j]):\n",
        "          focus_false_pred_true +=1\n",
        "\n",
        "        elif(focus == fore_idx[j] and predicted[j] != labels[j]):\n",
        "          focus_true_pred_false +=1\n",
        "\n",
        "        elif(focus != fore_idx[j] and predicted[j] != labels[j]):\n",
        "          focus_false_pred_false +=1\n",
        "\n",
        "  if(np.mean(epoch_loss) <= 0.001):\n",
        "      break;\n",
        "\n",
        "  if epoch % 5 == 0:\n",
        "    col1.append(epoch + 1)\n",
        "    col2.append(argmax_more_than_half)\n",
        "    col3.append(argmax_less_than_half)\n",
        "    col4.append(focus_true_pred_true)\n",
        "    col5.append(focus_false_pred_true)\n",
        "    col6.append(focus_true_pred_false)\n",
        "    col7.append(focus_false_pred_false)\n",
        "    print(\"=\"*20)\n",
        "    print(\"Train FTPT : \", col4)\n",
        "    print(\"Train FFPT : \", col5)\n",
        "    #************************************************************************\n",
        "    #testing data set  \n",
        "    # focus_net.eval()\n",
        "    with torch.no_grad():\n",
        "      focus_true_pred_true =0\n",
        "      focus_false_pred_true =0\n",
        "      focus_true_pred_false =0\n",
        "      focus_false_pred_false =0\n",
        "\n",
        "      argmax_more_than_half = 0\n",
        "      argmax_less_than_half =0\n",
        "      for data in test_loader:\n",
        "        inputs, labels , fore_idx = data\n",
        "        inputs = inputs.double()\n",
        "        inputs, labels = inputs.to(\"cuda\"), labels.to(\"cuda\")\n",
        "        alphas, avg_images = focus_net(inputs)\n",
        "        outputs = classify(avg_images)\n",
        "        _, predicted = torch.max(outputs.data, 1)\n",
        "\n",
        "        for j in range (batch):\n",
        "          focus = torch.argmax(alphas[j])\n",
        "\n",
        "          if(alphas[j][focus] >= 0.5):\n",
        "            argmax_more_than_half +=1\n",
        "          else:\n",
        "            argmax_less_than_half +=1\n",
        "\n",
        "          if(focus == fore_idx[j] and predicted[j] == labels[j]):\n",
        "            focus_true_pred_true += 1\n",
        "\n",
        "          elif(focus != fore_idx[j] and predicted[j] == labels[j]):\n",
        "            focus_false_pred_true +=1\n",
        "\n",
        "          elif(focus == fore_idx[j] and predicted[j] != labels[j]):\n",
        "            focus_true_pred_false +=1\n",
        "\n",
        "          elif(focus != fore_idx[j] and predicted[j] != labels[j]):\n",
        "            focus_false_pred_false +=1\n",
        "      \n",
        "    col8.append(argmax_more_than_half)\n",
        "    col9.append(argmax_less_than_half)\n",
        "    col10.append(focus_true_pred_true)\n",
        "    col11.append(focus_false_pred_true)\n",
        "    col12.append(focus_true_pred_false)\n",
        "    col13.append(focus_false_pred_false)\n",
        "    print(\"Test FTPT : \", col10)\n",
        "    print(\"Test FFPT : \", col11)\n",
        "    print(\"=\"*20)\n",
        "    \n",
        "print('Finished Training')"
      ],
      "execution_count": 41,
      "outputs": [
        {
          "output_type": "stream",
          "text": [
            "[1,    60] loss: 0.350\n",
            "[1,   120] loss: 0.059\n",
            "====================\n",
            "Train FTPT :  [2289, 22554]\n",
            "Train FFPT :  [12793, 4777]\n",
            "Test FTPT :  [797, 9502]\n",
            "Test FFPT :  [4261, 314]\n",
            "====================\n",
            "[2,    60] loss: 0.039\n",
            "[2,   120] loss: 0.034\n",
            "[3,    60] loss: 0.026\n",
            "[3,   120] loss: 0.027\n",
            "[4,    60] loss: 0.021\n",
            "[4,   120] loss: 0.021\n",
            "[5,    60] loss: 0.017\n",
            "[5,   120] loss: 0.017\n",
            "[6,    60] loss: 0.015\n",
            "[6,   120] loss: 0.013\n",
            "====================\n",
            "Train FTPT :  [2289, 22554, 29509]\n",
            "Train FFPT :  [12793, 4777, 347]\n",
            "Test FTPT :  [797, 9502, 9840]\n",
            "Test FFPT :  [4261, 314, 94]\n",
            "====================\n",
            "[7,    60] loss: 0.013\n",
            "[7,   120] loss: 0.011\n",
            "[8,    60] loss: 0.010\n",
            "[8,   120] loss: 0.010\n",
            "[9,    60] loss: 0.009\n",
            "[9,   120] loss: 0.008\n",
            "[10,    60] loss: 0.007\n",
            "[10,   120] loss: 0.008\n",
            "[11,    60] loss: 0.007\n",
            "[11,   120] loss: 0.006\n",
            "====================\n",
            "Train FTPT :  [2289, 22554, 29509, 29675]\n",
            "Train FFPT :  [12793, 4777, 347, 258]\n",
            "Test FTPT :  [797, 9502, 9840, 9880]\n",
            "Test FFPT :  [4261, 314, 94, 76]\n",
            "====================\n",
            "[12,    60] loss: 0.007\n",
            "[12,   120] loss: 0.005\n",
            "[13,    60] loss: 0.004\n",
            "[13,   120] loss: 0.006\n",
            "[14,    60] loss: 0.004\n",
            "[14,   120] loss: 0.004\n",
            "[15,    60] loss: 0.004\n",
            "[15,   120] loss: 0.004\n",
            "[16,    60] loss: 0.003\n",
            "[16,   120] loss: 0.004\n",
            "====================\n",
            "Train FTPT :  [2289, 22554, 29509, 29675, 29731]\n",
            "Train FFPT :  [12793, 4777, 347, 258, 245]\n",
            "Test FTPT :  [797, 9502, 9840, 9880, 9884]\n",
            "Test FFPT :  [4261, 314, 94, 76, 82]\n",
            "====================\n",
            "[17,    60] loss: 0.003\n",
            "[17,   120] loss: 0.003\n",
            "[18,    60] loss: 0.003\n",
            "[18,   120] loss: 0.003\n",
            "[19,    60] loss: 0.002\n",
            "[19,   120] loss: 0.003\n",
            "[20,    60] loss: 0.002\n",
            "[20,   120] loss: 0.003\n",
            "[21,    60] loss: 0.002\n",
            "[21,   120] loss: 0.002\n",
            "====================\n",
            "Train FTPT :  [2289, 22554, 29509, 29675, 29731, 29760]\n",
            "Train FFPT :  [12793, 4777, 347, 258, 245, 226]\n",
            "Test FTPT :  [797, 9502, 9840, 9880, 9884, 9896]\n",
            "Test FFPT :  [4261, 314, 94, 76, 82, 72]\n",
            "====================\n",
            "[22,    60] loss: 0.002\n",
            "[22,   120] loss: 0.002\n",
            "[23,    60] loss: 0.001\n",
            "[23,   120] loss: 0.002\n",
            "[24,    60] loss: 0.002\n",
            "[24,   120] loss: 0.001\n",
            "[25,    60] loss: 0.002\n",
            "[25,   120] loss: 0.001\n",
            "[26,    60] loss: 0.002\n",
            "[26,   120] loss: 0.001\n",
            "====================\n",
            "Train FTPT :  [2289, 22554, 29509, 29675, 29731, 29760, 29769]\n",
            "Train FFPT :  [12793, 4777, 347, 258, 245, 226, 221]\n",
            "Test FTPT :  [797, 9502, 9840, 9880, 9884, 9896, 9900]\n",
            "Test FFPT :  [4261, 314, 94, 76, 82, 72, 67]\n",
            "====================\n",
            "[27,    60] loss: 0.001\n",
            "[27,   120] loss: 0.001\n",
            "[28,    60] loss: 0.001\n",
            "[28,   120] loss: 0.001\n",
            "[29,    60] loss: 0.001\n",
            "[29,   120] loss: 0.001\n",
            "[30,    60] loss: 0.001\n",
            "[30,   120] loss: 0.001\n",
            "Finished Training\n"
          ],
          "name": "stdout"
        }
      ]
    },
    {
      "cell_type": "code",
      "metadata": {
        "id": "tSKphM888Y5o"
      },
      "source": [
        "df_train = pd.DataFrame()\n",
        "df_test = pd.DataFrame()"
      ],
      "execution_count": 42,
      "outputs": []
    },
    {
      "cell_type": "code",
      "metadata": {
        "id": "DLRp_W600EVm"
      },
      "source": [
        "columns = [\"epochs\", \"argmax > 0.5\" ,\"argmax < 0.5\", \"focus_true_pred_true\", \"focus_false_pred_true\", \"focus_true_pred_false\", \"focus_false_pred_false\" ]"
      ],
      "execution_count": 43,
      "outputs": []
    },
    {
      "cell_type": "code",
      "metadata": {
        "id": "FrWoEGXZ8cBO"
      },
      "source": [
        "df_train[columns[0]] = col1\n",
        "df_train[columns[1]] = col2\n",
        "df_train[columns[2]] = col3\n",
        "df_train[columns[3]] = col4\n",
        "df_train[columns[4]] = col5\n",
        "df_train[columns[5]] = col6\n",
        "df_train[columns[6]] = col7\n",
        "\n",
        "df_test[columns[0]] = col1\n",
        "df_test[columns[1]] = col8\n",
        "df_test[columns[2]] = col9\n",
        "df_test[columns[3]] = col10\n",
        "df_test[columns[4]] = col11\n",
        "df_test[columns[5]] = col12\n",
        "df_test[columns[6]] = col13"
      ],
      "execution_count": 44,
      "outputs": []
    },
    {
      "cell_type": "code",
      "metadata": {
        "id": "RGJoMFcK8eTe",
        "colab": {
          "base_uri": "https://localhost:8080/",
          "height": 269
        },
        "outputId": "4b8bdaa9-9cb3-459b-cedd-40257575c8e1"
      },
      "source": [
        "df_train"
      ],
      "execution_count": 45,
      "outputs": [
        {
          "output_type": "execute_result",
          "data": {
            "text/html": [
              "<div>\n",
              "<style scoped>\n",
              "    .dataframe tbody tr th:only-of-type {\n",
              "        vertical-align: middle;\n",
              "    }\n",
              "\n",
              "    .dataframe tbody tr th {\n",
              "        vertical-align: top;\n",
              "    }\n",
              "\n",
              "    .dataframe thead th {\n",
              "        text-align: right;\n",
              "    }\n",
              "</style>\n",
              "<table border=\"1\" class=\"dataframe\">\n",
              "  <thead>\n",
              "    <tr style=\"text-align: right;\">\n",
              "      <th></th>\n",
              "      <th>epochs</th>\n",
              "      <th>argmax &gt; 0.5</th>\n",
              "      <th>argmax &lt; 0.5</th>\n",
              "      <th>focus_true_pred_true</th>\n",
              "      <th>focus_false_pred_true</th>\n",
              "      <th>focus_true_pred_false</th>\n",
              "      <th>focus_false_pred_false</th>\n",
              "    </tr>\n",
              "  </thead>\n",
              "  <tbody>\n",
              "    <tr>\n",
              "      <th>0</th>\n",
              "      <td>0</td>\n",
              "      <td>0</td>\n",
              "      <td>30000</td>\n",
              "      <td>2289</td>\n",
              "      <td>12793</td>\n",
              "      <td>1961</td>\n",
              "      <td>12957</td>\n",
              "    </tr>\n",
              "    <tr>\n",
              "      <th>1</th>\n",
              "      <td>1</td>\n",
              "      <td>14051</td>\n",
              "      <td>15949</td>\n",
              "      <td>22554</td>\n",
              "      <td>4777</td>\n",
              "      <td>570</td>\n",
              "      <td>2099</td>\n",
              "    </tr>\n",
              "    <tr>\n",
              "      <th>2</th>\n",
              "      <td>6</td>\n",
              "      <td>28509</td>\n",
              "      <td>1491</td>\n",
              "      <td>29509</td>\n",
              "      <td>347</td>\n",
              "      <td>59</td>\n",
              "      <td>85</td>\n",
              "    </tr>\n",
              "    <tr>\n",
              "      <th>3</th>\n",
              "      <td>11</td>\n",
              "      <td>29086</td>\n",
              "      <td>914</td>\n",
              "      <td>29675</td>\n",
              "      <td>258</td>\n",
              "      <td>32</td>\n",
              "      <td>35</td>\n",
              "    </tr>\n",
              "    <tr>\n",
              "      <th>4</th>\n",
              "      <td>16</td>\n",
              "      <td>29364</td>\n",
              "      <td>636</td>\n",
              "      <td>29731</td>\n",
              "      <td>245</td>\n",
              "      <td>18</td>\n",
              "      <td>6</td>\n",
              "    </tr>\n",
              "    <tr>\n",
              "      <th>5</th>\n",
              "      <td>21</td>\n",
              "      <td>29488</td>\n",
              "      <td>512</td>\n",
              "      <td>29760</td>\n",
              "      <td>226</td>\n",
              "      <td>9</td>\n",
              "      <td>5</td>\n",
              "    </tr>\n",
              "    <tr>\n",
              "      <th>6</th>\n",
              "      <td>26</td>\n",
              "      <td>29561</td>\n",
              "      <td>439</td>\n",
              "      <td>29769</td>\n",
              "      <td>221</td>\n",
              "      <td>5</td>\n",
              "      <td>5</td>\n",
              "    </tr>\n",
              "  </tbody>\n",
              "</table>\n",
              "</div>"
            ],
            "text/plain": [
              "   epochs  argmax > 0.5  ...  focus_true_pred_false  focus_false_pred_false\n",
              "0       0             0  ...                   1961                   12957\n",
              "1       1         14051  ...                    570                    2099\n",
              "2       6         28509  ...                     59                      85\n",
              "3      11         29086  ...                     32                      35\n",
              "4      16         29364  ...                     18                       6\n",
              "5      21         29488  ...                      9                       5\n",
              "6      26         29561  ...                      5                       5\n",
              "\n",
              "[7 rows x 7 columns]"
            ]
          },
          "metadata": {
            "tags": []
          },
          "execution_count": 45
        }
      ]
    },
    {
      "cell_type": "code",
      "metadata": {
        "id": "Ei9HVQBZ8gn4",
        "colab": {
          "base_uri": "https://localhost:8080/",
          "height": 295
        },
        "outputId": "a860b43c-37a0-4ffd-ad1e-55cc4fd84c1a"
      },
      "source": [
        "# plt.figure(12,12)\n",
        "plt.plot(col1,col2, label='argmax > 0.5')\n",
        "plt.plot(col1,col3, label='argmax < 0.5')\n",
        "\n",
        "plt.legend(loc='center left', bbox_to_anchor=(1, 0.5))\n",
        "plt.xlabel(\"epochs\")\n",
        "plt.ylabel(\"training data\")\n",
        "plt.title(\"On Training set\")\n",
        "plt.show()\n",
        "\n"
      ],
      "execution_count": 46,
      "outputs": [
        {
          "output_type": "display_data",
          "data": {
            "image/png": "[encoded data removed]",
            "text/plain": [
              "<Figure size 432x288 with 1 Axes>"
            ]
          },
          "metadata": {
            "tags": [],
            "needs_background": "light"
          }
        }
      ]
    },
    {
      "cell_type": "code",
      "metadata": {
        "colab": {
          "base_uri": "https://localhost:8080/",
          "height": 354
        },
        "id": "kbjPGiB_ID4-",
        "outputId": "6cf58627-da85-4125-87db-37376f9fcdb5"
      },
      "source": [
        "plt.figure(figsize=(6,5))\n",
        "plt.plot(col1,np.array(col4)/300, label =\"FTPT\")\n",
        "plt.plot(col1,np.array(col5)/300, label =\"FFPT\")\n",
        "plt.plot(col1,np.array(col6)/300, label =\"FTPF\")\n",
        "plt.plot(col1,np.array(col7)/300, label =\"FFPF\")\n",
        "plt.title(\"MNIST - SDC On Train set\")\n",
        "plt.grid()\n",
        "# plt.legend(loc='center left', bbox_to_anchor=(1, 0.5))\n",
        "plt.legend()\n",
        "plt.xlabel(\"epochs\", fontsize=14, fontweight = 'bold')\n",
        "plt.ylabel(\"percentage train data\", fontsize=14, fontweight = 'bold')\n",
        "plt.savefig(path+\"mnist_train.png\", bbox_inches=\"tight\")\n",
        "plt.savefig(path+\"mnist_train.pdf\", bbox_inches=\"tight\")\n",
        "plt.savefig(\"mnist_train.png\", bbox_inches=\"tight\")\n",
        "plt.savefig(\"mnist_train.pdf\", bbox_inches=\"tight\")\n",
        "plt.show()"
      ],
      "execution_count": 47,
      "outputs": [
        {
          "output_type": "display_data",
          "data": {
            "image/png": "[encoded data removed]",
            "text/plain": [
              "<Figure size 432x360 with 1 Axes>"
            ]
          },
          "metadata": {
            "tags": [],
            "needs_background": "light"
          }
        }
      ]
    },
    {
      "cell_type": "code",
      "metadata": {
        "id": "_QKYVO8i8ivA",
        "colab": {
          "base_uri": "https://localhost:8080/",
          "height": 269
        },
        "outputId": "48459f52-b057-4f10-ae27-a66d0818df74"
      },
      "source": [
        "df_test"
      ],
      "execution_count": 48,
      "outputs": [
        {
          "output_type": "execute_result",
          "data": {
            "text/html": [
              "<div>\n",
              "<style scoped>\n",
              "    .dataframe tbody tr th:only-of-type {\n",
              "        vertical-align: middle;\n",
              "    }\n",
              "\n",
              "    .dataframe tbody tr th {\n",
              "        vertical-align: top;\n",
              "    }\n",
              "\n",
              "    .dataframe thead th {\n",
              "        text-align: right;\n",
              "    }\n",
              "</style>\n",
              "<table border=\"1\" class=\"dataframe\">\n",
              "  <thead>\n",
              "    <tr style=\"text-align: right;\">\n",
              "      <th></th>\n",
              "      <th>epochs</th>\n",
              "      <th>argmax &gt; 0.5</th>\n",
              "      <th>argmax &lt; 0.5</th>\n",
              "      <th>focus_true_pred_true</th>\n",
              "      <th>focus_false_pred_true</th>\n",
              "      <th>focus_true_pred_false</th>\n",
              "      <th>focus_false_pred_false</th>\n",
              "    </tr>\n",
              "  </thead>\n",
              "  <tbody>\n",
              "    <tr>\n",
              "      <th>0</th>\n",
              "      <td>0</td>\n",
              "      <td>0</td>\n",
              "      <td>10000</td>\n",
              "      <td>797</td>\n",
              "      <td>4261</td>\n",
              "      <td>640</td>\n",
              "      <td>4302</td>\n",
              "    </tr>\n",
              "    <tr>\n",
              "      <th>1</th>\n",
              "      <td>1</td>\n",
              "      <td>8320</td>\n",
              "      <td>1680</td>\n",
              "      <td>9502</td>\n",
              "      <td>314</td>\n",
              "      <td>61</td>\n",
              "      <td>123</td>\n",
              "    </tr>\n",
              "    <tr>\n",
              "      <th>2</th>\n",
              "      <td>6</td>\n",
              "      <td>9550</td>\n",
              "      <td>450</td>\n",
              "      <td>9840</td>\n",
              "      <td>94</td>\n",
              "      <td>29</td>\n",
              "      <td>37</td>\n",
              "    </tr>\n",
              "    <tr>\n",
              "      <th>3</th>\n",
              "      <td>11</td>\n",
              "      <td>9690</td>\n",
              "      <td>310</td>\n",
              "      <td>9880</td>\n",
              "      <td>76</td>\n",
              "      <td>16</td>\n",
              "      <td>28</td>\n",
              "    </tr>\n",
              "    <tr>\n",
              "      <th>4</th>\n",
              "      <td>16</td>\n",
              "      <td>9755</td>\n",
              "      <td>245</td>\n",
              "      <td>9884</td>\n",
              "      <td>82</td>\n",
              "      <td>11</td>\n",
              "      <td>23</td>\n",
              "    </tr>\n",
              "    <tr>\n",
              "      <th>5</th>\n",
              "      <td>21</td>\n",
              "      <td>9791</td>\n",
              "      <td>209</td>\n",
              "      <td>9896</td>\n",
              "      <td>72</td>\n",
              "      <td>11</td>\n",
              "      <td>21</td>\n",
              "    </tr>\n",
              "    <tr>\n",
              "      <th>6</th>\n",
              "      <td>26</td>\n",
              "      <td>9822</td>\n",
              "      <td>178</td>\n",
              "      <td>9900</td>\n",
              "      <td>67</td>\n",
              "      <td>10</td>\n",
              "      <td>23</td>\n",
              "    </tr>\n",
              "  </tbody>\n",
              "</table>\n",
              "</div>"
            ],
            "text/plain": [
              "   epochs  argmax > 0.5  ...  focus_true_pred_false  focus_false_pred_false\n",
              "0       0             0  ...                    640                    4302\n",
              "1       1          8320  ...                     61                     123\n",
              "2       6          9550  ...                     29                      37\n",
              "3      11          9690  ...                     16                      28\n",
              "4      16          9755  ...                     11                      23\n",
              "5      21          9791  ...                     11                      21\n",
              "6      26          9822  ...                     10                      23\n",
              "\n",
              "[7 rows x 7 columns]"
            ]
          },
          "metadata": {
            "tags": []
          },
          "execution_count": 48
        }
      ]
    },
    {
      "cell_type": "code",
      "metadata": {
        "id": "aRlpgnjy8k1n",
        "colab": {
          "base_uri": "https://localhost:8080/",
          "height": 295
        },
        "outputId": "854c8cde-4532-4855-cea7-12a4b437bfb1"
      },
      "source": [
        "# plt.figure(12,12)\n",
        "plt.plot(col1,col8, label='argmax > 0.5')\n",
        "plt.plot(col1,col9, label='argmax < 0.5')\n",
        "\n",
        "plt.legend(loc='center left', bbox_to_anchor=(1, 0.5))\n",
        "plt.xlabel(\"epochs\")\n",
        "plt.ylabel(\"Testing data\")\n",
        "plt.title(\"On Testing set\")\n",
        "plt.show()\n",
        "\n"
      ],
      "execution_count": 49,
      "outputs": [
        {
          "output_type": "display_data",
          "data": {
            "image/png": "[encoded data removed]",
            "text/plain": [
              "<Figure size 432x288 with 1 Axes>"
            ]
          },
          "metadata": {
            "tags": [],
            "needs_background": "light"
          }
        }
      ]
    },
    {
      "cell_type": "code",
      "metadata": {
        "colab": {
          "base_uri": "https://localhost:8080/",
          "height": 354
        },
        "id": "_AJZlN5NJyQB",
        "outputId": "13f47eee-e935-48b8-d958-e57aa36b6db4"
      },
      "source": [
        "plt.figure(figsize=(6,5))\n",
        "plt.plot(col1,np.array(col10)/100, label =\"FTPT\")\n",
        "plt.plot(col1,np.array(col11)/100, label =\"FFPT\")\n",
        "plt.plot(col1,np.array(col12)/100, label =\"FTPF\")\n",
        "plt.plot(col1,np.array(col13)/100, label =\"FFPF\")\n",
        "plt.title(\"MNIST - SDC On Test set\")\n",
        "plt.grid()\n",
        "# plt.legend(loc='center left', bbox_to_anchor=(1, 0.5))\n",
        "plt.legend()\n",
        "plt.xlabel(\"epochs\", fontsize=14, fontweight = 'bold')\n",
        "plt.ylabel(\"percentage test data\", fontsize=14, fontweight = 'bold')\n",
        "plt.savefig(path+\"mnist_test.png\", bbox_inches=\"tight\")\n",
        "plt.savefig(path+\"mnist_test.pdf\", bbox_inches=\"tight\")\n",
        "plt.savefig(\"mnist_test.png\", bbox_inches=\"tight\")\n",
        "plt.savefig(\"mnist_test.pdf\", bbox_inches=\"tight\")\n",
        "plt.show()"
      ],
      "execution_count": 50,
      "outputs": [
        {
          "output_type": "display_data",
          "data": {
            "image/png": "[encoded data removed]",
            "text/plain": [
              "<Figure size 432x360 with 1 Axes>"
            ]
          },
          "metadata": {
            "tags": [],
            "needs_background": "light"
          }
        }
      ]
    },
    {
      "cell_type": "code",
      "metadata": {
        "id": "WoV2bwMki5h9",
        "colab": {
          "base_uri": "https://localhost:8080/"
        },
        "outputId": "8c005db6-79dd-4f53-bcbb-6acb8a8b4dc1"
      },
      "source": [
        "correct = 0\n",
        "total = 0\n",
        "count = 0\n",
        "flag = 1\n",
        "focus_true_pred_true =0\n",
        "focus_false_pred_true =0\n",
        "focus_true_pred_false =0\n",
        "focus_false_pred_false =0\n",
        "\n",
        "argmax_more_than_half = 0\n",
        "argmax_less_than_half =0\n",
        "\n",
        "with torch.no_grad():\n",
        "  for data in train_loader:\n",
        "    inputs, labels , fore_idx = data\n",
        "    inputs = inputs.double()\n",
        "    inputs, labels , fore_idx = inputs.to(\"cuda\"),labels.to(\"cuda\"), fore_idx.to(\"cuda\")\n",
        "    alphas, avg_images = focus_net(inputs)\n",
        "    outputs = classify(avg_images)\n",
        "\n",
        "    _, predicted = torch.max(outputs.data, 1)\n",
        "\n",
        "    for j in range(labels.size(0)):\n",
        "      focus = torch.argmax(alphas[j])\n",
        "      if alphas[j][focus] >= 0.5 :\n",
        "        argmax_more_than_half += 1\n",
        "      else:\n",
        "        argmax_less_than_half += 1\n",
        "\n",
        "      if(focus == fore_idx[j] and predicted[j] == labels[j]):\n",
        "          focus_true_pred_true += 1\n",
        "      elif(focus != fore_idx[j] and predicted[j] == labels[j]):\n",
        "        focus_false_pred_true += 1\n",
        "      elif(focus == fore_idx[j] and predicted[j] != labels[j]):\n",
        "        focus_true_pred_false += 1\n",
        "      elif(focus != fore_idx[j] and predicted[j] != labels[j]):\n",
        "        focus_false_pred_false += 1\n",
        "\n",
        "    total += labels.size(0)\n",
        "    correct += (predicted == labels).sum().item()\n",
        "\n",
        "print('Accuracy of the network on the 30000 train images: %d %%' % (\n",
        "    100 * correct / total))\n",
        "print(\"total correct\", correct)\n",
        "print(\"total train set images\", total)\n",
        "\n",
        "print(\"focus_true_pred_true %d =============> FTPT : %d %%\" % (focus_true_pred_true , (100 * focus_true_pred_true / total) ) )\n",
        "print(\"focus_false_pred_true %d =============> FFPT : %d %%\" % (focus_false_pred_true, (100 * focus_false_pred_true / total) ) )\n",
        "print(\"focus_true_pred_false %d =============> FTPF : %d %%\" %( focus_true_pred_false , ( 100 * focus_true_pred_false / total) ) )\n",
        "print(\"focus_false_pred_false %d =============> FFPF : %d %%\" % (focus_false_pred_false, ( 100 * focus_false_pred_false / total) ) )\n",
        "\n",
        "print(\"argmax_more_than_half ==================> \",argmax_more_than_half)\n",
        "print(\"argmax_less_than_half ==================> \",argmax_less_than_half)"
      ],
      "execution_count": 51,
      "outputs": [
        {
          "output_type": "stream",
          "text": [
            "Accuracy of the network on the 30000 train images: 99 %\n",
            "total correct 29994\n",
            "total train set images 30000\n",
            "focus_true_pred_true 29780 =============> FTPT : 99 %\n",
            "focus_false_pred_true 214 =============> FFPT : 0 %\n",
            "focus_true_pred_false 4 =============> FTPF : 0 %\n",
            "focus_false_pred_false 2 =============> FFPF : 0 %\n",
            "argmax_more_than_half ==================>  29603\n",
            "argmax_less_than_half ==================>  397\n"
          ],
          "name": "stdout"
        }
      ]
    },
    {
      "cell_type": "code",
      "metadata": {
        "id": "Mjt9XLf6jF50",
        "colab": {
          "base_uri": "https://localhost:8080/"
        },
        "outputId": "dd9eeb66-1c95-402f-f380-d0b1212e540a"
      },
      "source": [
        "correct = 0\n",
        "total = 0\n",
        "count = 0\n",
        "flag = 1\n",
        "focus_true_pred_true =0\n",
        "focus_false_pred_true =0\n",
        "focus_true_pred_false =0\n",
        "focus_false_pred_false =0\n",
        "\n",
        "argmax_more_than_half = 0\n",
        "argmax_less_than_half =0\n",
        "\n",
        "with torch.no_grad():\n",
        "  for data in test_loader:\n",
        "    inputs, labels , fore_idx = data\n",
        "    inputs = inputs.double()\n",
        "    inputs, labels , fore_idx = inputs.to(\"cuda\"),labels.to(\"cuda\"), fore_idx.to(\"cuda\")\n",
        "    alphas, avg_images = focus_net(inputs)\n",
        "    outputs = classify(avg_images)\n",
        "\n",
        "    _, predicted = torch.max(outputs.data, 1)\n",
        "\n",
        "    for j in range(labels.size(0)):\n",
        "      focus = torch.argmax(alphas[j])\n",
        "      if alphas[j][focus] >= 0.5 :\n",
        "        argmax_more_than_half += 1\n",
        "      else:\n",
        "        argmax_less_than_half += 1\n",
        "\n",
        "      if(focus == fore_idx[j] and predicted[j] == labels[j]):\n",
        "          focus_true_pred_true += 1\n",
        "      elif(focus != fore_idx[j] and predicted[j] == labels[j]):\n",
        "        focus_false_pred_true += 1\n",
        "      elif(focus == fore_idx[j] and predicted[j] != labels[j]):\n",
        "        focus_true_pred_false += 1\n",
        "      elif(focus != fore_idx[j] and predicted[j] != labels[j]):\n",
        "        focus_false_pred_false += 1\n",
        "\n",
        "    total += labels.size(0)\n",
        "    correct += (predicted == labels).sum().item()\n",
        "\n",
        "print('Accuracy of the network on the 10000 test images: %d %%' % (\n",
        "    100 * correct / total))\n",
        "print(\"total correct\", correct)\n",
        "print(\"total train set images\", total)\n",
        "\n",
        "print(\"focus_true_pred_true %d =============> FTPT : %d %%\" % (focus_true_pred_true , (100 * focus_true_pred_true / total) ) )\n",
        "print(\"focus_false_pred_true %d =============> FFPT : %d %%\" % (focus_false_pred_true, (100 * focus_false_pred_true / total) ) )\n",
        "print(\"focus_true_pred_false %d =============> FTPF : %d %%\" %( focus_true_pred_false , ( 100 * focus_true_pred_false / total) ) )\n",
        "print(\"focus_false_pred_false %d =============> FFPF : %d %%\" % (focus_false_pred_false, ( 100 * focus_false_pred_false / total) ) )\n",
        "\n",
        "print(\"argmax_more_than_half ==================> \",argmax_more_than_half)\n",
        "print(\"argmax_less_than_half ==================> \",argmax_less_than_half)"
      ],
      "execution_count": 52,
      "outputs": [
        {
          "output_type": "stream",
          "text": [
            "Accuracy of the network on the 10000 test images: 99 %\n",
            "total correct 9968\n",
            "total train set images 10000\n",
            "focus_true_pred_true 9897 =============> FTPT : 98 %\n",
            "focus_false_pred_true 71 =============> FFPT : 0 %\n",
            "focus_true_pred_false 10 =============> FTPF : 0 %\n",
            "focus_false_pred_false 22 =============> FFPF : 0 %\n",
            "argmax_more_than_half ==================>  9843\n",
            "argmax_less_than_half ==================>  157\n"
          ],
          "name": "stdout"
        }
      ]
    },
    {
      "cell_type": "code",
      "metadata": {
        "id": "iJEMJnUI9FP2",
        "colab": {
          "base_uri": "https://localhost:8080/"
        },
        "outputId": "06969d78-6719-4d2d-c38d-5e4e76b948a5"
      },
      "source": [
        "correct = 0\n",
        "total = 0\n",
        "\n",
        "with torch.no_grad():\n",
        "  for data in train_loader:\n",
        "    inputs, labels , fore_idx = data\n",
        "    inputs = inputs.double()\n",
        "    inputs, labels = inputs.to(\"cuda\"), labels.to(\"cuda\")\n",
        "    alphas, avg_images = focus_net(inputs)\n",
        "    outputs = classify(avg_images)\n",
        "\n",
        "    _, predicted = torch.max(outputs.data, 1)\n",
        "\n",
        "    total += labels.size(0)\n",
        "    correct += (predicted == labels).sum().item()\n",
        "\n",
        "print('Accuracy of the network on the 30000 train images: %d %%' % ( 100 * correct / total))\n",
        "print(\"total correct\", correct)\n",
        "print(\"total train set images\", total)"
      ],
      "execution_count": 53,
      "outputs": [
        {
          "output_type": "stream",
          "text": [
            "Accuracy of the network on the 30000 train images: 99 %\n",
            "total correct 29994\n",
            "total train set images 30000\n"
          ],
          "name": "stdout"
        }
      ]
    },
    {
      "cell_type": "code",
      "metadata": {
        "id": "an7qmNLB-Ilb",
        "colab": {
          "base_uri": "https://localhost:8080/"
        },
        "outputId": "1b9a22e2-ded2-4ac2-8f01-2120b3052c9f"
      },
      "source": [
        "correct = 0\n",
        "total = 0\n",
        "\n",
        "with torch.no_grad():\n",
        "  for data in test_loader:\n",
        "    inputs, labels , fore_idx = data\n",
        "    inputs = inputs.double()\n",
        "    inputs, labels = inputs.to(\"cuda\"), labels.to(\"cuda\")\n",
        "    alphas, avg_images = focus_net(inputs)\n",
        "    outputs = classify(avg_images)\n",
        "\n",
        "    _, predicted = torch.max(outputs.data, 1)\n",
        "\n",
        "    total += labels.size(0)\n",
        "    correct += (predicted == labels).sum().item()\n",
        "\n",
        "print('Accuracy of the network on the 10000 test images: %d %%' % ( 100 * correct / total))\n",
        "print(\"total correct\", correct)\n",
        "print(\"total train set images\", total)"
      ],
      "execution_count": 54,
      "outputs": [
        {
          "output_type": "stream",
          "text": [
            "Accuracy of the network on the 10000 test images: 99 %\n",
            "total correct 9968\n",
            "total train set images 10000\n"
          ],
          "name": "stdout"
        }
      ]
    },
    {
      "cell_type": "code",
      "metadata": {
        "id": "725MVVfLS3et"
      },
      "source": [
        ""
      ],
      "execution_count": 54,
      "outputs": []
    }
  ]
}