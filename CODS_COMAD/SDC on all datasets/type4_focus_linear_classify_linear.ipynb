{
  "nbformat": 4,
  "nbformat_minor": 0,
  "metadata": {
    "accelerator": "GPU",
    "colab": {
      "name": "type4_focus_linear_classify_linear.ipynb",
      "provenance": [],
      "collapsed_sections": []
    },
    "kernelspec": {
      "display_name": "Python 3",
      "language": "python",
      "name": "python3"
    },
    "language_info": {
      "codemirror_mode": {
        "name": "ipython",
        "version": 3
      },
      "file_extension": ".py",
      "mimetype": "text/x-python",
      "name": "python",
      "nbconvert_exporter": "python",
      "pygments_lexer": "ipython3",
      "version": "3.6.5"
    }
  },
  "cells": [
    {
      "cell_type": "code",
      "metadata": {
        "colab": {
          "base_uri": "https://localhost:8080/"
        },
        "id": "PVO3ASMSm8Bx",
        "outputId": "3668dd9c-c5e6-4f5c-edd3-544bc1e6d077"
      },
      "source": [
        "from google.colab import drive\n",
        "drive.mount('/content/drive')"
      ],
      "execution_count": 1,
      "outputs": [
        {
          "output_type": "stream",
          "text": [
            "Mounted at /content/drive\n"
          ],
          "name": "stdout"
        }
      ]
    },
    {
      "cell_type": "code",
      "metadata": {
        "id": "uLrd5bwInAd1"
      },
      "source": [
        "path=\"/content/drive/MyDrive/Research/cods_comad_plots/SDC/dataset_4/\""
      ],
      "execution_count": 2,
      "outputs": []
    },
    {
      "cell_type": "code",
      "metadata": {
        "colab": {
          "base_uri": "https://localhost:8080/"
        },
        "id": "N2_J4Rw2r0SQ",
        "outputId": "e66b4c3b-d8f9-44e0-df4f-59dbc7269c57"
      },
      "source": [
        "import numpy as np\n",
        "import pandas as pd\n",
        "from matplotlib import pyplot as plt\n",
        "from tqdm import tqdm\n",
        "%matplotlib inline\n",
        "from torch.utils.data import Dataset, DataLoader\n",
        "import torch\n",
        "import torchvision\n",
        "\n",
        "import torch.nn as nn\n",
        "import torch.optim as optim\n",
        "from torch.nn import functional as F\n",
        "device = torch.device(\"cuda\" if torch.cuda.is_available() else \"cpu\")\n",
        "print(device)"
      ],
      "execution_count": 3,
      "outputs": [
        {
          "output_type": "stream",
          "text": [
            "cuda\n"
          ],
          "name": "stdout"
        }
      ]
    },
    {
      "cell_type": "markdown",
      "metadata": {
        "id": "F6fjud_Fr0Sa"
      },
      "source": [
        "# Generate dataset"
      ]
    },
    {
      "cell_type": "code",
      "metadata": {
        "colab": {
          "base_uri": "https://localhost:8080/"
        },
        "id": "CqdXHO0Cr0Sd",
        "outputId": "be8bf807-b022-4712-898c-f80c569fdda7"
      },
      "source": [
        "np.random.seed(12)\n",
        "y = np.random.randint(0,10,5000)\n",
        "idx= []\n",
        "for i in range(10):\n",
        "    print(i,sum(y==i))\n",
        "    idx.append(y==i)"
      ],
      "execution_count": 4,
      "outputs": [
        {
          "output_type": "stream",
          "text": [
            "0 530\n",
            "1 463\n",
            "2 494\n",
            "3 517\n",
            "4 488\n",
            "5 497\n",
            "6 493\n",
            "7 507\n",
            "8 492\n",
            "9 519\n"
          ],
          "name": "stdout"
        }
      ]
    },
    {
      "cell_type": "code",
      "metadata": {
        "id": "ddhXyODwr0Sk"
      },
      "source": [
        "x = np.zeros((5000,2))"
      ],
      "execution_count": 5,
      "outputs": []
    },
    {
      "cell_type": "code",
      "metadata": {
        "id": "DyV3N2DIr0Sp"
      },
      "source": [
        "np.random.seed(12)\n",
        "x[idx[0],:] = np.random.multivariate_normal(mean = [4,6.5],cov=[[0.01,0],[0,0.01]],size=sum(idx[0]))\n",
        "x[idx[1],:] = np.random.multivariate_normal(mean = [5.5,6],cov=[[0.01,0],[0,0.01]],size=sum(idx[1]))\n",
        "x[idx[2],:] = np.random.multivariate_normal(mean = [4.5,4.5],cov=[[0.01,0],[0,0.01]],size=sum(idx[2]))\n",
        "x[idx[3],:] = np.random.multivariate_normal(mean = [3,3.5],cov=[[0.01,0],[0,0.01]],size=sum(idx[3]))\n",
        "x[idx[4],:] = np.random.multivariate_normal(mean = [2.5,5.5],cov=[[0.01,0],[0,0.01]],size=sum(idx[4]))\n",
        "x[idx[5],:] = np.random.multivariate_normal(mean = [3.5,8],cov=[[0.01,0],[0,0.01]],size=sum(idx[5]))\n",
        "x[idx[6],:] = np.random.multivariate_normal(mean = [5.5,8],cov=[[0.01,0],[0,0.01]],size=sum(idx[6]))\n",
        "x[idx[7],:] = np.random.multivariate_normal(mean = [7,6.5],cov=[[0.01,0],[0,0.01]],size=sum(idx[7]))\n",
        "x[idx[8],:] = np.random.multivariate_normal(mean = [6.5,4.5],cov=[[0.01,0],[0,0.01]],size=sum(idx[8]))\n",
        "x[idx[9],:] = np.random.multivariate_normal(mean = [5,3],cov=[[0.01,0],[0,0.01]],size=sum(idx[9]))"
      ],
      "execution_count": 6,
      "outputs": []
    },
    {
      "cell_type": "code",
      "metadata": {
        "colab": {
          "base_uri": "https://localhost:8080/"
        },
        "id": "qh1mDScsU07I",
        "outputId": "7fb99a8e-c2a9-4ef3-a608-9ba56ba8e7b4"
      },
      "source": [
        "x[idx[0]][0], x[idx[5]][5] "
      ],
      "execution_count": 7,
      "outputs": [
        {
          "output_type": "execute_result",
          "data": {
            "text/plain": [
              "(array([4.04729858, 6.43185741]), array([3.4612816 , 8.00144771]))"
            ]
          },
          "metadata": {
            "tags": []
          },
          "execution_count": 7
        }
      ]
    },
    {
      "cell_type": "code",
      "metadata": {
        "colab": {
          "base_uri": "https://localhost:8080/",
          "height": 284
        },
        "id": "9Vr5ErQ_wSrV",
        "outputId": "d4161888-d2f7-4833-89e4-55ffc792a8de"
      },
      "source": [
        "for i in range(10):\n",
        "    plt.scatter(x[idx[i],0],x[idx[i],1],label=\"class_\"+str(i))\n",
        "plt.legend(loc='center left', bbox_to_anchor=(1, 0.5))"
      ],
      "execution_count": 8,
      "outputs": [
        {
          "output_type": "execute_result",
          "data": {
            "text/plain": [
              "<matplotlib.legend.Legend at 0x7fbc62196890>"
            ]
          },
          "metadata": {
            "tags": []
          },
          "execution_count": 8
        },
        {
          "output_type": "display_data",
          "data": {
            "image/png": "[encoded data removed]",
            "text/plain": [
              "<Figure size 432x288 with 1 Axes>"
            ]
          },
          "metadata": {
            "tags": [],
            "needs_background": "light"
          }
        }
      ]
    },
    {
      "cell_type": "code",
      "metadata": {
        "id": "NG-3RpffwU_i",
        "colab": {
          "base_uri": "https://localhost:8080/"
        },
        "outputId": "58419c8c-df2b-41ac-8877-64d2ca27259c"
      },
      "source": [
        "bg_idx = [ np.where(idx[3] == True)[0], \n",
        "          np.where(idx[4] == True)[0], \n",
        "          np.where(idx[5] == True)[0],\n",
        "          np.where(idx[6] == True)[0], \n",
        "          np.where(idx[7] == True)[0], \n",
        "          np.where(idx[8] == True)[0],\n",
        "          np.where(idx[9] == True)[0]]\n",
        "\n",
        "bg_idx = np.concatenate(bg_idx, axis = 0)\n",
        "bg_idx.shape"
      ],
      "execution_count": 9,
      "outputs": [
        {
          "output_type": "execute_result",
          "data": {
            "text/plain": [
              "(3513,)"
            ]
          },
          "metadata": {
            "tags": []
          },
          "execution_count": 9
        }
      ]
    },
    {
      "cell_type": "code",
      "metadata": {
        "colab": {
          "base_uri": "https://localhost:8080/"
        },
        "id": "_0JKKUdwoo9b",
        "outputId": "e9dcaaf0-659a-4df0-b033-583c6303127f"
      },
      "source": [
        "np.unique(bg_idx).shape"
      ],
      "execution_count": 10,
      "outputs": [
        {
          "output_type": "execute_result",
          "data": {
            "text/plain": [
              "(3513,)"
            ]
          },
          "metadata": {
            "tags": []
          },
          "execution_count": 10
        }
      ]
    },
    {
      "cell_type": "code",
      "metadata": {
        "id": "6LA5i3Droo60"
      },
      "source": [
        "x = x - np.mean(x[bg_idx], axis = 0, keepdims = True)\n"
      ],
      "execution_count": 11,
      "outputs": []
    },
    {
      "cell_type": "code",
      "metadata": {
        "colab": {
          "base_uri": "https://localhost:8080/"
        },
        "id": "s5tfCDfHoo3-",
        "outputId": "28f6bd02-6982-4868-d27a-f52829f48d8b"
      },
      "source": [
        "np.mean(x[bg_idx], axis = 0, keepdims = True), np.mean(x, axis = 0, keepdims = True)"
      ],
      "execution_count": 12,
      "outputs": [
        {
          "output_type": "execute_result",
          "data": {
            "text/plain": [
              "(array([[-3.94054906e-15, -1.42341147e-15]]),\n",
              " array([[-0.02477713,  0.03899959]]))"
            ]
          },
          "metadata": {
            "tags": []
          },
          "execution_count": 12
        }
      ]
    },
    {
      "cell_type": "code",
      "metadata": {
        "id": "TpSAZtqzoo1F"
      },
      "source": [
        "x = x/np.std(x[bg_idx], axis = 0, keepdims = True)"
      ],
      "execution_count": 13,
      "outputs": []
    },
    {
      "cell_type": "code",
      "metadata": {
        "colab": {
          "base_uri": "https://localhost:8080/"
        },
        "id": "NsrCmT8IovQv",
        "outputId": "1e8bac86-7b3e-4f5a-ed6e-7b8a7d8a7427"
      },
      "source": [
        "np.std(x[bg_idx], axis = 0, keepdims = True), np.std(x, axis = 0, keepdims = True)"
      ],
      "execution_count": 14,
      "outputs": [
        {
          "output_type": "execute_result",
          "data": {
            "text/plain": [
              "(array([[1., 1.]]), array([[0.86429775, 0.8750994 ]]))"
            ]
          },
          "metadata": {
            "tags": []
          },
          "execution_count": 14
        }
      ]
    },
    {
      "cell_type": "code",
      "metadata": {
        "colab": {
          "base_uri": "https://localhost:8080/",
          "height": 284
        },
        "id": "hJ8Jm7YUr0St",
        "outputId": "a50918c8-a59a-493e-fa04-d8b9b2590f03"
      },
      "source": [
        "for i in range(10):\n",
        "    plt.scatter(x[idx[i],0],x[idx[i],1],label=\"class_\"+str(i))\n",
        "plt.legend(loc='center left', bbox_to_anchor=(1, 0.5))"
      ],
      "execution_count": 15,
      "outputs": [
        {
          "output_type": "execute_result",
          "data": {
            "text/plain": [
              "<matplotlib.legend.Legend at 0x7fbc62105f10>"
            ]
          },
          "metadata": {
            "tags": []
          },
          "execution_count": 15
        },
        {
          "output_type": "display_data",
          "data": {
            "image/png": "[encoded data removed]",
            "text/plain": [
              "<Figure size 432x288 with 1 Axes>"
            ]
          },
          "metadata": {
            "tags": [],
            "needs_background": "light"
          }
        }
      ]
    },
    {
      "cell_type": "code",
      "metadata": {
        "id": "3lMBZEHNBlF2"
      },
      "source": [
        "foreground_classes = {'class_0','class_1', 'class_2'}\n",
        "\n",
        "background_classes = {'class_3','class_4', 'class_5', 'class_6','class_7', 'class_8', 'class_9'}"
      ],
      "execution_count": 16,
      "outputs": []
    },
    {
      "cell_type": "code",
      "metadata": {
        "colab": {
          "base_uri": "https://localhost:8080/"
        },
        "id": "blRbGZHeCwXU",
        "outputId": "531cda2e-798c-4884-add6-79371aaaf1bd"
      },
      "source": [
        "fg_class  = np.random.randint(0,3)\n",
        "fg_idx = np.random.randint(0,9)\n",
        "\n",
        "a = []\n",
        "for i in range(9):\n",
        "    if i == fg_idx:\n",
        "        b = np.random.choice(np.where(idx[fg_class]==True)[0],size=1)\n",
        "        a.append(x[b])\n",
        "        print(\"foreground \"+str(fg_class)+\" present at \" + str(fg_idx))\n",
        "    else:\n",
        "        bg_class = np.random.randint(3,10)\n",
        "        b = np.random.choice(np.where(idx[bg_class]==True)[0],size=1)\n",
        "        a.append(x[b])\n",
        "        print(\"background \"+str(bg_class)+\" present at \" + str(i))\n",
        "a = np.concatenate(a,axis=0)\n",
        "print(a.shape)\n",
        "\n",
        "print(fg_class , fg_idx)"
      ],
      "execution_count": 17,
      "outputs": [
        {
          "output_type": "stream",
          "text": [
            "background 5 present at 0\n",
            "background 6 present at 1\n",
            "foreground 2 present at 2\n",
            "background 5 present at 3\n",
            "background 3 present at 4\n",
            "background 5 present at 5\n",
            "background 7 present at 6\n",
            "background 6 present at 7\n",
            "background 5 present at 8\n",
            "(9, 2)\n",
            "2 2\n"
          ],
          "name": "stdout"
        }
      ]
    },
    {
      "cell_type": "code",
      "metadata": {
        "id": "Y43sWeX7C15F",
        "colab": {
          "base_uri": "https://localhost:8080/"
        },
        "outputId": "7971202d-8e99-4926-ef4b-8625418716f2"
      },
      "source": [
        "a.shape"
      ],
      "execution_count": 18,
      "outputs": [
        {
          "output_type": "execute_result",
          "data": {
            "text/plain": [
              "(9, 2)"
            ]
          },
          "metadata": {
            "tags": []
          },
          "execution_count": 18
        }
      ]
    },
    {
      "cell_type": "code",
      "metadata": {
        "colab": {
          "base_uri": "https://localhost:8080/"
        },
        "id": "ooII7N6UDWe0",
        "outputId": "115db9f4-b81a-4a36-8301-02642dc16b85"
      },
      "source": [
        "np.reshape(a,(18,1)) #not required"
      ],
      "execution_count": 19,
      "outputs": [
        {
          "output_type": "execute_result",
          "data": {
            "text/plain": [
              "array([[-0.75222128],\n",
              "       [ 1.29671369],\n",
              "       [ 0.42676916],\n",
              "       [ 1.30247133],\n",
              "       [-0.11686808],\n",
              "       [-0.56478963],\n",
              "       [-0.67891371],\n",
              "       [ 1.27937091],\n",
              "       [-0.99259119],\n",
              "       [-1.18031499],\n",
              "       [-0.77179291],\n",
              "       [ 1.25941783],\n",
              "       [ 1.29283021],\n",
              "       [ 0.50509151],\n",
              "       [ 0.52239625],\n",
              "       [ 1.29681995],\n",
              "       [-0.77179291],\n",
              "       [ 1.25941783]])"
            ]
          },
          "metadata": {
            "tags": []
          },
          "execution_count": 19
        }
      ]
    },
    {
      "cell_type": "code",
      "metadata": {
        "id": "g21bvPRYDL9k",
        "colab": {
          "base_uri": "https://localhost:8080/",
          "height": 284
        },
        "outputId": "bf6c25c9-a229-4dcf-e184-7dd9cb30147b"
      },
      "source": [
        "a=np.reshape(a,(9,2))\n",
        "\n",
        "plt.imshow(a)"
      ],
      "execution_count": 20,
      "outputs": [
        {
          "output_type": "execute_result",
          "data": {
            "text/plain": [
              "<matplotlib.image.AxesImage at 0x7fbc61bd49d0>"
            ]
          },
          "metadata": {
            "tags": []
          },
          "execution_count": 20
        },
        {
          "output_type": "display_data",
          "data": {
            "image/png": "[encoded data removed]",
            "text/plain": [
              "<Figure size 432x288 with 1 Axes>"
            ]
          },
          "metadata": {
            "tags": [],
            "needs_background": "light"
          }
        }
      ]
    },
    {
      "cell_type": "code",
      "metadata": {
        "id": "OplNpNQVr0S2"
      },
      "source": [
        "desired_num = 2000\n",
        "mosaic_list_of_images =[]\n",
        "mosaic_label = []\n",
        "fore_idx=[]\n",
        "for j in range(desired_num):\n",
        "    np.random.seed(j)\n",
        "    fg_class  = np.random.randint(0,3)\n",
        "    fg_idx = np.random.randint(0,9)\n",
        "    a = []\n",
        "    for i in range(9):\n",
        "        if i == fg_idx:\n",
        "            b = np.random.choice(np.where(idx[fg_class]==True)[0],size=1)\n",
        "            a.append(x[b])\n",
        "#             print(\"foreground \"+str(fg_class)+\" present at \" + str(fg_idx))\n",
        "        else:\n",
        "            bg_class = np.random.randint(3,10)\n",
        "            b = np.random.choice(np.where(idx[bg_class]==True)[0],size=1)\n",
        "            a.append(x[b])\n",
        "#             print(\"background \"+str(bg_class)+\" present at \" + str(i))\n",
        "    a = np.concatenate(a,axis=0)\n",
        "    mosaic_list_of_images.append(a)\n",
        "    mosaic_label.append(fg_class)\n",
        "    fore_idx.append(fg_idx)"
      ],
      "execution_count": 21,
      "outputs": []
    },
    {
      "cell_type": "code",
      "metadata": {
        "id": "dwZVmmRBr0S8"
      },
      "source": [
        "# mosaic_list_of_images = np.concatenate(mosaic_list_of_images,axis=1).T\n"
      ],
      "execution_count": 22,
      "outputs": []
    },
    {
      "cell_type": "code",
      "metadata": {
        "colab": {
          "base_uri": "https://localhost:8080/"
        },
        "id": "OoxzYI-ur0S_",
        "outputId": "5f9224ab-3d44-4868-85be-f098a12107ab"
      },
      "source": [
        "len(mosaic_list_of_images), mosaic_list_of_images[0]"
      ],
      "execution_count": 23,
      "outputs": [
        {
          "output_type": "execute_result",
          "data": {
            "text/plain": [
              "(2000, array([[-1.07390719, -1.04959598],\n",
              "        [-1.30547943, -0.083791  ],\n",
              "        [ 1.10227457, -0.5565904 ],\n",
              "        [ 1.44996512,  0.52630897],\n",
              "        [ 0.18635473, -1.38666417],\n",
              "        [-0.36332091,  0.57254869],\n",
              "        [-0.78873321,  1.29405413],\n",
              "        [ 0.18456746, -1.32037523],\n",
              "        [ 0.12342288, -1.3350683 ]]))"
            ]
          },
          "metadata": {
            "tags": []
          },
          "execution_count": 23
        }
      ]
    },
    {
      "cell_type": "code",
      "metadata": {
        "colab": {
          "base_uri": "https://localhost:8080/"
        },
        "id": "Nbefu9LEnMu1",
        "outputId": "7b599e36-c65f-424e-cf5f-e9bb060100e8"
      },
      "source": [
        "mosaic_list_of_images_reshaped = np.reshape(mosaic_list_of_images, (2000,9,2))\n",
        "mean_train = np.mean(mosaic_list_of_images_reshaped[0:1000], axis=0, keepdims= True)\n",
        "print(mean_train.shape, mean_train)\n",
        "std_train = np.std(mosaic_list_of_images_reshaped[0:1000], axis=0, keepdims= True)\n",
        "print(std_train.shape, std_train)\n",
        "\n"
      ],
      "execution_count": 24,
      "outputs": [
        {
          "output_type": "stream",
          "text": [
            "(1, 9, 2) [[[-0.00091134 -0.01372674]\n",
            "  [-0.02877574 -0.02152043]\n",
            "  [-0.00520837  0.06547125]\n",
            "  [-0.03554394  0.01373602]\n",
            "  [ 0.01552498  0.02695976]\n",
            "  [-0.00171322  0.01521314]\n",
            "  [-0.02198112  0.02614936]\n",
            "  [ 0.01290764  0.01348389]\n",
            "  [-0.03380197  0.0474266 ]]]\n",
            "(1, 9, 2) [[[0.94245893 0.95536707]\n",
            "  [0.96740227 0.93523879]\n",
            "  [0.95860262 0.95172886]\n",
            "  [0.94864166 0.94684499]\n",
            "  [0.95614031 0.9540087 ]\n",
            "  [0.94202831 0.96314958]\n",
            "  [0.95067679 0.96181555]\n",
            "  [0.96332572 0.94482655]\n",
            "  [0.95814854 0.95413414]]]\n"
          ],
          "name": "stdout"
        }
      ]
    },
    {
      "cell_type": "code",
      "metadata": {
        "id": "yldL3sUvnMsE"
      },
      "source": [
        "mosaic_list_of_images = ( mosaic_list_of_images_reshaped - mean_train ) / std_train"
      ],
      "execution_count": 25,
      "outputs": []
    },
    {
      "cell_type": "code",
      "metadata": {
        "colab": {
          "base_uri": "https://localhost:8080/"
        },
        "id": "qWboEmnwnX_r",
        "outputId": "4103872b-da24-435e-bfc4-7e4854c3071a"
      },
      "source": [
        "print(np.mean(mosaic_list_of_images[0:1000], axis=0, keepdims= True))\n",
        "\n",
        "print(np.std(mosaic_list_of_images[0:1000], axis=0, keepdims= True))"
      ],
      "execution_count": 26,
      "outputs": [
        {
          "output_type": "stream",
          "text": [
            "[[[ 4.19664303e-17  8.26491653e-17]\n",
            "  [ 2.22044605e-18  8.81517082e-17]\n",
            "  [-2.73114864e-17  8.91786645e-17]\n",
            "  [ 3.08642001e-17  1.55431223e-17]\n",
            "  [ 1.37667655e-17  6.35047570e-17]\n",
            "  [-1.07136522e-17 -1.33226763e-18]\n",
            "  [-1.17683641e-17  6.90558721e-17]\n",
            "  [ 2.10942375e-17  3.48610030e-17]\n",
            "  [ 5.71764858e-18  5.99520433e-18]]]\n",
            "[[[1. 1.]\n",
            "  [1. 1.]\n",
            "  [1. 1.]\n",
            "  [1. 1.]\n",
            "  [1. 1.]\n",
            "  [1. 1.]\n",
            "  [1. 1.]\n",
            "  [1. 1.]\n",
            "  [1. 1.]]]\n"
          ],
          "name": "stdout"
        }
      ]
    },
    {
      "cell_type": "code",
      "metadata": {
        "colab": {
          "base_uri": "https://localhost:8080/"
        },
        "id": "88zCElC_naib",
        "outputId": "a1644fe9-d5ac-4976-86b8-929d6675c62d"
      },
      "source": [
        "print(np.mean(mosaic_list_of_images[1000:2000], axis=0, keepdims= True))\n",
        "\n",
        "print(np.std(mosaic_list_of_images[1000:2000], axis=0, keepdims= True))"
      ],
      "execution_count": 27,
      "outputs": [
        {
          "output_type": "stream",
          "text": [
            "[[[-0.00435687  0.01956028]\n",
            "  [-0.00276658  0.04369773]\n",
            "  [-0.03595604 -0.01508983]\n",
            "  [ 0.05742033  0.03936944]\n",
            "  [-0.06289439 -0.07380817]\n",
            "  [-0.01345213  0.01845823]\n",
            "  [ 0.02320087  0.00698361]\n",
            "  [-0.04835101 -0.03809661]\n",
            "  [ 0.01004234 -0.05191196]]]\n",
            "[[[1.01381802 0.98870217]\n",
            "  [0.97608663 1.01079165]\n",
            "  [0.99343711 0.99770581]\n",
            "  [1.01611941 0.98141548]\n",
            "  [0.98713646 1.02611697]\n",
            "  [1.02006813 0.9833436 ]\n",
            "  [1.00259577 0.99301369]\n",
            "  [0.97836287 1.03467242]\n",
            "  [0.99287618 1.00493266]]]\n"
          ],
          "name": "stdout"
        }
      ]
    },
    {
      "cell_type": "code",
      "metadata": {
        "colab": {
          "base_uri": "https://localhost:8080/"
        },
        "id": "3DE8AXVAngEj",
        "outputId": "2f0f1b34-2103-4e7d-c9dd-b144d22028e4"
      },
      "source": [
        "mosaic_list_of_images.shape"
      ],
      "execution_count": 28,
      "outputs": [
        {
          "output_type": "execute_result",
          "data": {
            "text/plain": [
              "(2000, 9, 2)"
            ]
          },
          "metadata": {
            "tags": []
          },
          "execution_count": 28
        }
      ]
    },
    {
      "cell_type": "code",
      "metadata": {
        "id": "iPoIwbMHx44n"
      },
      "source": [
        "class MosaicDataset(Dataset):\n",
        "  \"\"\"MosaicDataset dataset.\"\"\"\n",
        "\n",
        "  def __init__(self, mosaic_list_of_images, mosaic_label, fore_idx):\n",
        "    \"\"\"\n",
        "      Args:\n",
        "        csv_file (string): Path to the csv file with annotations.\n",
        "        root_dir (string): Directory with all the images.\n",
        "        transform (callable, optional): Optional transform to be applied\n",
        "            on a sample.\n",
        "    \"\"\"\n",
        "    self.mosaic = mosaic_list_of_images\n",
        "    self.label = mosaic_label\n",
        "    self.fore_idx = fore_idx\n",
        "\n",
        "  def __len__(self):\n",
        "    return len(self.label)\n",
        "\n",
        "  def __getitem__(self, idx):\n",
        "    return self.mosaic[idx] , self.label[idx], self.fore_idx[idx]\n",
        "\n"
      ],
      "execution_count": 29,
      "outputs": []
    },
    {
      "cell_type": "code",
      "metadata": {
        "id": "fOPAJQJeW8Ah"
      },
      "source": [
        "batch = 250\n",
        "msd1 = MosaicDataset(mosaic_list_of_images[0:1000], mosaic_label[0:1000] , fore_idx[0:1000])\n",
        "train_loader = DataLoader( msd1 ,batch_size= batch ,shuffle=True)"
      ],
      "execution_count": 30,
      "outputs": []
    },
    {
      "cell_type": "code",
      "metadata": {
        "id": "qjNiQgxZW8bA"
      },
      "source": [
        "batch = 250\n",
        "msd2 = MosaicDataset(mosaic_list_of_images[1000:2000], mosaic_label[1000:2000] , fore_idx[1000:2000])\n",
        "test_loader = DataLoader( msd2 ,batch_size= batch ,shuffle=True)"
      ],
      "execution_count": 31,
      "outputs": []
    },
    {
      "cell_type": "code",
      "metadata": {
        "id": "30ZAjix3x8CM"
      },
      "source": [
        "class Focus(nn.Module):\n",
        "  def __init__(self):\n",
        "    super(Focus, self).__init__()\n",
        "\n",
        "    self.fc1 = nn.Linear(2, 1, bias=False)\n",
        "    torch.nn.init.zeros_(self.fc1.weight)\n",
        "    # self.fc2 = nn.Linear(50, 10)\n",
        "    # self.fc3 = nn.Linear(10, 1)\n",
        "\n",
        "  def forward(self,z):  #y is avg image #z batch of list of 9 images\n",
        "    y = torch.zeros([batch,2], dtype=torch.float64)\n",
        "    x = torch.zeros([batch,9],dtype=torch.float64)\n",
        "    y = y.to(\"cuda\")\n",
        "    x = x.to(\"cuda\")\n",
        "    # print(x.shape, z.shape)\n",
        "    for i in range(9):\n",
        "      # print(z[:,i].shape)\n",
        "      # print(self.helper(z[:,i])[:,0].shape)\n",
        "      x[:,i] = self.helper(z[:,i])[:,0]\n",
        "    # print(x.shape, z.shape)\n",
        "    x = F.softmax(x,dim=1)\n",
        "    # print(x.shape, z.shape)\n",
        "    # x1 = x[:,0]\n",
        "    # print(torch.mul(x[:,0],z[:,0]).shape)\n",
        "\n",
        "    for i in range(9):            \n",
        "      # x1 = x[:,i]          \n",
        "      y = y + torch.mul(x[:,i,None],z[:,i])\n",
        "\n",
        "    # print(x.shape, y.shape)\n",
        "    return x, y\n",
        "    \n",
        "  def helper(self, x):\n",
        "    x = x.view(-1, 2)\n",
        "    # x = F.relu(self.fc1(x))\n",
        "    # x = F.relu(self.fc2(x))\n",
        "    x = (self.fc1(x))\n",
        "\n",
        "    return x"
      ],
      "execution_count": 32,
      "outputs": []
    },
    {
      "cell_type": "code",
      "metadata": {
        "id": "0dYXnywAD-4l"
      },
      "source": [
        "class Classification(nn.Module):\n",
        "  def __init__(self):\n",
        "    super(Classification, self).__init__()\n",
        "    self.fc1 = nn.Linear(2, 3)\n",
        "    torch.nn.init.xavier_normal_(self.fc1.weight)\n",
        "    torch.nn.init.zeros_(self.fc1.bias)\n",
        "\n",
        "\n",
        "  def forward(self, x):\n",
        "    x = x.view(-1, 2)\n",
        "    x = self.fc1(x)\n",
        "    # print(x.shape)\n",
        "    return x"
      ],
      "execution_count": 33,
      "outputs": []
    },
    {
      "cell_type": "code",
      "metadata": {
        "id": "lSa6O9f6XNf4"
      },
      "source": [
        "torch.manual_seed(12)\n",
        "focus_net = Focus().double()\n",
        "focus_net = focus_net.to(\"cuda\")"
      ],
      "execution_count": 34,
      "outputs": []
    },
    {
      "cell_type": "code",
      "metadata": {
        "id": "36k3H2G-XO9A"
      },
      "source": [
        "torch.manual_seed(12)\n",
        "classify = Classification().double()\n",
        "classify = classify.to(\"cuda\")"
      ],
      "execution_count": 35,
      "outputs": []
    },
    {
      "cell_type": "code",
      "metadata": {
        "colab": {
          "base_uri": "https://localhost:8080/"
        },
        "id": "hOJ8NP14n6Eb",
        "outputId": "ec015359-73f8-45fb-a9da-9ae7ab4964f5"
      },
      "source": [
        "focus_net.helper( torch.randn((1,9,2)).double().to(\"cuda\") )"
      ],
      "execution_count": 36,
      "outputs": [
        {
          "output_type": "execute_result",
          "data": {
            "text/plain": [
              "tensor([[0.],\n",
              "        [0.],\n",
              "        [0.],\n",
              "        [0.],\n",
              "        [0.],\n",
              "        [0.],\n",
              "        [0.],\n",
              "        [0.],\n",
              "        [0.]], device='cuda:0', dtype=torch.float64, grad_fn=<MmBackward>)"
            ]
          },
          "metadata": {
            "tags": []
          },
          "execution_count": 36
        }
      ]
    },
    {
      "cell_type": "code",
      "metadata": {
        "colab": {
          "base_uri": "https://localhost:8080/"
        },
        "id": "estYkNt8oKhL",
        "outputId": "7ab9ec9d-d5a6-4c93-e8e2-f7cf70deacc4"
      },
      "source": [
        "focus_net.fc1.weight"
      ],
      "execution_count": 37,
      "outputs": [
        {
          "output_type": "execute_result",
          "data": {
            "text/plain": [
              "Parameter containing:\n",
              "tensor([[0., 0.]], device='cuda:0', dtype=torch.float64, requires_grad=True)"
            ]
          },
          "metadata": {
            "tags": []
          },
          "execution_count": 37
        }
      ]
    },
    {
      "cell_type": "code",
      "metadata": {
        "colab": {
          "base_uri": "https://localhost:8080/"
        },
        "id": "TNA0bvAeoEpU",
        "outputId": "74128812-8c09-4c98-de00-c5df42d7ce60"
      },
      "source": [
        "classify.fc1.weight, classify.fc1.bias, classify.fc1.weight.shape"
      ],
      "execution_count": 38,
      "outputs": [
        {
          "output_type": "execute_result",
          "data": {
            "text/plain": [
              "(Parameter containing:\n",
              " tensor([[ 0.1491, -0.7950],\n",
              "         [ 0.0844,  0.0302],\n",
              "         [ 0.0211, -0.8157]], device='cuda:0', dtype=torch.float64,\n",
              "        requires_grad=True), Parameter containing:\n",
              " tensor([0., 0., 0.], device='cuda:0', dtype=torch.float64, requires_grad=True), torch.Size([3, 2]))"
            ]
          },
          "metadata": {
            "tags": []
          },
          "execution_count": 38
        }
      ]
    },
    {
      "cell_type": "code",
      "metadata": {
        "id": "7MHBbL7FXRQk"
      },
      "source": [
        "import torch.optim as optim\n",
        "criterion = nn.CrossEntropyLoss()\n",
        "optimizer_classify = optim.Adam(classify.parameters(), lr=0.01 ) #, momentum=0.9)\n",
        "optimizer_focus = optim.Adam(focus_net.parameters(), lr=0.01 ) #, momentum=0.9)"
      ],
      "execution_count": 39,
      "outputs": []
    },
    {
      "cell_type": "code",
      "metadata": {
        "id": "pjD2VZuV9Ed4"
      },
      "source": [
        "col1=[]\n",
        "col2=[]\n",
        "col3=[]\n",
        "col4=[]\n",
        "col5=[]\n",
        "col6=[]\n",
        "col7=[]\n",
        "col8=[]\n",
        "col9=[]\n",
        "col10=[]\n",
        "col11=[]\n",
        "col12=[]\n",
        "col13=[]"
      ],
      "execution_count": 40,
      "outputs": []
    },
    {
      "cell_type": "code",
      "metadata": {
        "id": "uALi25pmzQHV",
        "colab": {
          "base_uri": "https://localhost:8080/"
        },
        "outputId": "b00cfbb4-1d76-4126-c6b4-498eb59aba8e"
      },
      "source": [
        "correct = 0\n",
        "total = 0\n",
        "count = 0\n",
        "flag = 1\n",
        "focus_true_pred_true =0\n",
        "focus_false_pred_true =0\n",
        "focus_true_pred_false =0\n",
        "focus_false_pred_false =0\n",
        "\n",
        "argmax_more_than_half = 0\n",
        "argmax_less_than_half =0\n",
        "\n",
        "with torch.no_grad():\n",
        "  for data in train_loader:\n",
        "    inputs, labels , fore_idx = data\n",
        "    inputs = inputs.double()\n",
        "    inputs, labels , fore_idx = inputs.to(\"cuda\"),labels.to(\"cuda\"), fore_idx.to(\"cuda\")\n",
        "    alphas, avg_images = focus_net(inputs)\n",
        "    outputs = classify(avg_images)\n",
        "    # print(outputs.shape)\n",
        "    _, predicted = torch.max(outputs.data, 1)\n",
        "    # print(predicted.shape)\n",
        "\n",
        "    for j in range(labels.size(0)):\n",
        "      count += 1\n",
        "      focus = torch.argmax(alphas[j])\n",
        "      if alphas[j][focus] >= 0.5 :\n",
        "        argmax_more_than_half += 1\n",
        "      else:\n",
        "        argmax_less_than_half += 1\n",
        "\n",
        "      # print(focus, fore_idx[j], predicted[j])\n",
        "      if(focus == fore_idx[j] and predicted[j] == labels[j]):\n",
        "          focus_true_pred_true += 1\n",
        "      elif(focus != fore_idx[j] and predicted[j] == labels[j]):\n",
        "        focus_false_pred_true += 1\n",
        "      elif(focus == fore_idx[j] and predicted[j] != labels[j]):\n",
        "        focus_true_pred_false += 1\n",
        "      elif(focus != fore_idx[j] and predicted[j] != labels[j]):\n",
        "        focus_false_pred_false += 1\n",
        "\n",
        "    total += labels.size(0)\n",
        "    correct += (predicted == labels).sum().item()\n",
        "\n",
        "print('Accuracy of the network on the 1000 train images: %d %%' % ( 100 * correct / total))\n",
        "print(\"total correct\", correct)\n",
        "print(\"total train set images\", total)\n",
        "\n",
        "print(\"focus_true_pred_true %d =============> FTPT : %d %%\" % (focus_true_pred_true , (100 * focus_true_pred_true / total) ) )\n",
        "print(\"focus_false_pred_true %d =============> FFPT : %d %%\" % (focus_false_pred_true, (100 * focus_false_pred_true / total) ) )\n",
        "print(\"focus_true_pred_false %d =============> FTPF : %d %%\" %( focus_true_pred_false , ( 100 * focus_true_pred_false / total) ) )\n",
        "print(\"focus_false_pred_false %d =============> FFPF : %d %%\" % (focus_false_pred_false, ( 100 * focus_false_pred_false / total) ) )\n",
        "\n",
        "print(\"argmax_more_than_half ==================> \",argmax_more_than_half)\n",
        "print(\"argmax_less_than_half ==================> \",argmax_less_than_half)\n",
        "print(count)\n",
        "\n",
        "print(\"=\"*100)\n",
        "\n",
        "col1.append(0)\n",
        "col2.append(argmax_more_than_half)\n",
        "col3.append(argmax_less_than_half)\n",
        "col4.append(focus_true_pred_true)\n",
        "col5.append(focus_false_pred_true)\n",
        "col6.append(focus_true_pred_false)\n",
        "col7.append(focus_false_pred_false)"
      ],
      "execution_count": 41,
      "outputs": [
        {
          "output_type": "stream",
          "text": [
            "Accuracy of the network on the 1000 train images: 37 %\n",
            "total correct 370\n",
            "total train set images 1000\n",
            "focus_true_pred_true 45 =============> FTPT : 4 %\n",
            "focus_false_pred_true 325 =============> FFPT : 32 %\n",
            "focus_true_pred_false 75 =============> FTPF : 7 %\n",
            "focus_false_pred_false 555 =============> FFPF : 55 %\n",
            "argmax_more_than_half ==================>  0\n",
            "argmax_less_than_half ==================>  1000\n",
            "1000\n",
            "====================================================================================================\n"
          ],
          "name": "stdout"
        }
      ]
    },
    {
      "cell_type": "code",
      "metadata": {
        "id": "4vmNprlPzTjP",
        "colab": {
          "base_uri": "https://localhost:8080/"
        },
        "outputId": "9869bfef-040d-4266-bade-dfd1452ef818"
      },
      "source": [
        "correct = 0\n",
        "total = 0\n",
        "count = 0\n",
        "flag = 1\n",
        "focus_true_pred_true =0\n",
        "focus_false_pred_true =0\n",
        "focus_true_pred_false =0\n",
        "focus_false_pred_false =0\n",
        "\n",
        "argmax_more_than_half = 0\n",
        "argmax_less_than_half =0\n",
        "\n",
        "with torch.no_grad():\n",
        "  for data in test_loader:\n",
        "    inputs, labels , fore_idx = data\n",
        "    inputs = inputs.double()\n",
        "    inputs, labels , fore_idx = inputs.to(\"cuda\"),labels.to(\"cuda\"), fore_idx.to(\"cuda\")\n",
        "    alphas, avg_images = focus_net(inputs)\n",
        "    outputs = classify(avg_images)\n",
        "\n",
        "    _, predicted = torch.max(outputs.data, 1)\n",
        "\n",
        "    for j in range(labels.size(0)):\n",
        "      focus = torch.argmax(alphas[j])\n",
        "      if alphas[j][focus] >= 0.5 :\n",
        "        argmax_more_than_half += 1\n",
        "      else:\n",
        "        argmax_less_than_half += 1\n",
        "\n",
        "      if(focus == fore_idx[j] and predicted[j] == labels[j]):\n",
        "          focus_true_pred_true += 1\n",
        "      elif(focus != fore_idx[j] and predicted[j] == labels[j]):\n",
        "        focus_false_pred_true += 1\n",
        "      elif(focus == fore_idx[j] and predicted[j] != labels[j]):\n",
        "        focus_true_pred_false += 1\n",
        "      elif(focus != fore_idx[j] and predicted[j] != labels[j]):\n",
        "        focus_false_pred_false += 1\n",
        "\n",
        "    total += labels.size(0)\n",
        "    correct += (predicted == labels).sum().item()\n",
        "\n",
        "print('Accuracy of the network on the 1000 test images: %d %%' % (\n",
        "    100 * correct / total))\n",
        "print(\"total correct\", correct)\n",
        "print(\"total train set images\", total)\n",
        "\n",
        "print(\"focus_true_pred_true %d =============> FTPT : %d %%\" % (focus_true_pred_true , (100 * focus_true_pred_true / total) ) )\n",
        "print(\"focus_false_pred_true %d =============> FFPT : %d %%\" % (focus_false_pred_true, (100 * focus_false_pred_true / total) ) )\n",
        "print(\"focus_true_pred_false %d =============> FTPF : %d %%\" %( focus_true_pred_false , ( 100 * focus_true_pred_false / total) ) )\n",
        "print(\"focus_false_pred_false %d =============> FFPF : %d %%\" % (focus_false_pred_false, ( 100 * focus_false_pred_false / total) ) )\n",
        "\n",
        "print(\"argmax_more_than_half ==================> \",argmax_more_than_half)\n",
        "print(\"argmax_less_than_half ==================> \",argmax_less_than_half)\n",
        "col8.append(argmax_more_than_half)\n",
        "col9.append(argmax_less_than_half)\n",
        "col10.append(focus_true_pred_true)\n",
        "col11.append(focus_false_pred_true)\n",
        "col12.append(focus_true_pred_false)\n",
        "col13.append(focus_false_pred_false)"
      ],
      "execution_count": 42,
      "outputs": [
        {
          "output_type": "stream",
          "text": [
            "Accuracy of the network on the 1000 test images: 35 %\n",
            "total correct 359\n",
            "total train set images 1000\n",
            "focus_true_pred_true 35 =============> FTPT : 3 %\n",
            "focus_false_pred_true 324 =============> FFPT : 32 %\n",
            "focus_true_pred_false 81 =============> FTPF : 8 %\n",
            "focus_false_pred_false 560 =============> FFPF : 56 %\n",
            "argmax_more_than_half ==================>  0\n",
            "argmax_less_than_half ==================>  1000\n"
          ],
          "name": "stdout"
        }
      ]
    },
    {
      "cell_type": "code",
      "metadata": {
        "id": "Yl41sE8vFERk",
        "colab": {
          "base_uri": "https://localhost:8080/"
        },
        "outputId": "0cfb7565-15a9-4ff7-cdc6-f047eae4a8dc"
      },
      "source": [
        "nos_epochs = 1000\n",
        "focus_true_pred_true =0\n",
        "focus_false_pred_true =0\n",
        "focus_true_pred_false =0\n",
        "focus_false_pred_false =0\n",
        "\n",
        "argmax_more_than_half = 0\n",
        "argmax_less_than_half =0\n",
        "\n",
        "\n",
        "for epoch in range(nos_epochs):  # loop over the dataset multiple times\n",
        "\n",
        "  focus_true_pred_true =0\n",
        "  focus_false_pred_true =0\n",
        "  focus_true_pred_false =0\n",
        "  focus_false_pred_false =0\n",
        "  \n",
        "  argmax_more_than_half = 0\n",
        "  argmax_less_than_half =0\n",
        "  \n",
        "  running_loss = 0.0\n",
        "  epoch_loss = []\n",
        "  cnt=0\n",
        "\n",
        "  iteration = desired_num // batch\n",
        "  \n",
        "  #training data set\n",
        "  \n",
        "  for i, data in  enumerate(train_loader):\n",
        "    inputs , labels , fore_idx = data\n",
        "    inputs, labels = inputs.to(\"cuda\"), labels.to(\"cuda\")\n",
        "    inputs = inputs.double()\n",
        "    # zero the parameter gradients\n",
        "    \n",
        "    optimizer_focus.zero_grad()\n",
        "    optimizer_classify.zero_grad()\n",
        "    \n",
        "    alphas, avg_images = focus_net(inputs)\n",
        "    outputs = classify(avg_images)\n",
        "\n",
        "    _, predicted = torch.max(outputs.data, 1)\n",
        "#     print(outputs)\n",
        "#     print(outputs.shape,labels.shape , torch.argmax(outputs, dim=1))\n",
        "\n",
        "    loss = criterion(outputs, labels) \n",
        "    loss.backward()\n",
        "    optimizer_focus.step()\n",
        "    optimizer_classify.step()\n",
        "\n",
        "    running_loss += loss.item()\n",
        "    mini = 3\n",
        "    if cnt % mini == mini-1:    # print every 40 mini-batches\n",
        "      print('[%d, %5d] loss: %.3f' %(epoch + 1, cnt + 1, running_loss / mini))\n",
        "      epoch_loss.append(running_loss/mini)\n",
        "      running_loss = 0.0\n",
        "    cnt=cnt+1\n",
        "    \n",
        "    if epoch % 5 == 0:\n",
        "      for j in range (batch):\n",
        "        focus = torch.argmax(alphas[j])\n",
        "\n",
        "        if(alphas[j][focus] >= 0.5):\n",
        "          argmax_more_than_half +=1\n",
        "        else:\n",
        "          argmax_less_than_half +=1\n",
        "\n",
        "        if(focus == fore_idx[j] and predicted[j] == labels[j]):\n",
        "          focus_true_pred_true += 1\n",
        "\n",
        "        elif(focus != fore_idx[j] and predicted[j] == labels[j]):\n",
        "          focus_false_pred_true +=1\n",
        "\n",
        "        elif(focus == fore_idx[j] and predicted[j] != labels[j]):\n",
        "          focus_true_pred_false +=1\n",
        "\n",
        "        elif(focus != fore_idx[j] and predicted[j] != labels[j]):\n",
        "          focus_false_pred_false +=1\n",
        "\n",
        "  if(np.mean(epoch_loss) <= 0.001):\n",
        "      break;\n",
        "\n",
        "  if epoch % 5 == 0:\n",
        "    col1.append(epoch + 1)\n",
        "    col2.append(argmax_more_than_half)\n",
        "    col3.append(argmax_less_than_half)\n",
        "    col4.append(focus_true_pred_true)\n",
        "    col5.append(focus_false_pred_true)\n",
        "    col6.append(focus_true_pred_false)\n",
        "    col7.append(focus_false_pred_false)\n",
        "    # print(\"=\"*20)\n",
        "    # print(\"Train FTPT : \", col4)\n",
        "    # print(\"Train FFPT : \", col5)\n",
        "    #************************************************************************\n",
        "    #testing data set  \n",
        "    # focus_net.eval()\n",
        "    with torch.no_grad():\n",
        "      focus_true_pred_true =0\n",
        "      focus_false_pred_true =0\n",
        "      focus_true_pred_false =0\n",
        "      focus_false_pred_false =0\n",
        "\n",
        "      argmax_more_than_half = 0\n",
        "      argmax_less_than_half =0\n",
        "      for data in test_loader:\n",
        "        inputs, labels , fore_idx = data\n",
        "        inputs = inputs.double()\n",
        "        inputs, labels = inputs.to(\"cuda\"), labels.to(\"cuda\")\n",
        "        alphas, avg_images = focus_net(inputs)\n",
        "        outputs = classify(avg_images)\n",
        "        _, predicted = torch.max(outputs.data, 1)\n",
        "\n",
        "        for j in range (batch):\n",
        "          focus = torch.argmax(alphas[j])\n",
        "\n",
        "          if(alphas[j][focus] >= 0.5):\n",
        "            argmax_more_than_half +=1\n",
        "          else:\n",
        "            argmax_less_than_half +=1\n",
        "\n",
        "          if(focus == fore_idx[j] and predicted[j] == labels[j]):\n",
        "            focus_true_pred_true += 1\n",
        "\n",
        "          elif(focus != fore_idx[j] and predicted[j] == labels[j]):\n",
        "            focus_false_pred_true +=1\n",
        "\n",
        "          elif(focus == fore_idx[j] and predicted[j] != labels[j]):\n",
        "            focus_true_pred_false +=1\n",
        "\n",
        "          elif(focus != fore_idx[j] and predicted[j] != labels[j]):\n",
        "            focus_false_pred_false +=1\n",
        "      \n",
        "    col8.append(argmax_more_than_half)\n",
        "    col9.append(argmax_less_than_half)\n",
        "    col10.append(focus_true_pred_true)\n",
        "    col11.append(focus_false_pred_true)\n",
        "    col12.append(focus_true_pred_false)\n",
        "    col13.append(focus_false_pred_false)\n",
        "    # print(\"Test FTPT : \", col10)\n",
        "    # print(\"Test FFPT : \", col11)\n",
        "    # print(\"=\"*20)\n",
        "    \n",
        "print('Finished Training')"
      ],
      "execution_count": 43,
      "outputs": [
        {
          "output_type": "stream",
          "text": [
            "[1,     3] loss: 1.099\n",
            "[2,     3] loss: 1.096\n",
            "[3,     3] loss: 1.091\n",
            "[4,     3] loss: 1.090\n",
            "[5,     3] loss: 1.088\n",
            "[6,     3] loss: 1.084\n",
            "[7,     3] loss: 1.086\n",
            "[8,     3] loss: 1.081\n",
            "[9,     3] loss: 1.078\n",
            "[10,     3] loss: 1.079\n",
            "[11,     3] loss: 1.075\n",
            "[12,     3] loss: 1.076\n",
            "[13,     3] loss: 1.075\n",
            "[14,     3] loss: 1.072\n",
            "[15,     3] loss: 1.074\n",
            "[16,     3] loss: 1.068\n",
            "[17,     3] loss: 1.077\n",
            "[18,     3] loss: 1.074\n",
            "[19,     3] loss: 1.070\n",
            "[20,     3] loss: 1.074\n",
            "[21,     3] loss: 1.067\n",
            "[22,     3] loss: 1.073\n",
            "[23,     3] loss: 1.074\n",
            "[24,     3] loss: 1.073\n",
            "[25,     3] loss: 1.077\n",
            "[26,     3] loss: 1.071\n",
            "[27,     3] loss: 1.067\n",
            "[28,     3] loss: 1.064\n",
            "[29,     3] loss: 1.071\n",
            "[30,     3] loss: 1.080\n",
            "[31,     3] loss: 1.070\n",
            "[32,     3] loss: 1.073\n",
            "[33,     3] loss: 1.068\n",
            "[34,     3] loss: 1.067\n",
            "[35,     3] loss: 1.067\n",
            "[36,     3] loss: 1.066\n",
            "[37,     3] loss: 1.071\n",
            "[38,     3] loss: 1.070\n",
            "[39,     3] loss: 1.071\n",
            "[40,     3] loss: 1.073\n",
            "[41,     3] loss: 1.076\n",
            "[42,     3] loss: 1.069\n",
            "[43,     3] loss: 1.069\n",
            "[44,     3] loss: 1.063\n",
            "[45,     3] loss: 1.073\n",
            "[46,     3] loss: 1.072\n",
            "[47,     3] loss: 1.066\n",
            "[48,     3] loss: 1.078\n",
            "[49,     3] loss: 1.070\n",
            "[50,     3] loss: 1.078\n",
            "[51,     3] loss: 1.070\n",
            "[52,     3] loss: 1.074\n",
            "[53,     3] loss: 1.063\n",
            "[54,     3] loss: 1.074\n",
            "[55,     3] loss: 1.067\n",
            "[56,     3] loss: 1.069\n",
            "[57,     3] loss: 1.065\n",
            "[58,     3] loss: 1.077\n",
            "[59,     3] loss: 1.073\n",
            "[60,     3] loss: 1.072\n",
            "[61,     3] loss: 1.079\n",
            "[62,     3] loss: 1.067\n",
            "[63,     3] loss: 1.068\n",
            "[64,     3] loss: 1.070\n",
            "[65,     3] loss: 1.075\n",
            "[66,     3] loss: 1.071\n",
            "[67,     3] loss: 1.070\n",
            "[68,     3] loss: 1.069\n",
            "[69,     3] loss: 1.069\n",
            "[70,     3] loss: 1.073\n",
            "[71,     3] loss: 1.067\n",
            "[72,     3] loss: 1.065\n",
            "[73,     3] loss: 1.074\n",
            "[74,     3] loss: 1.073\n",
            "[75,     3] loss: 1.074\n",
            "[76,     3] loss: 1.075\n",
            "[77,     3] loss: 1.073\n",
            "[78,     3] loss: 1.069\n",
            "[79,     3] loss: 1.074\n",
            "[80,     3] loss: 1.078\n",
            "[81,     3] loss: 1.071\n",
            "[82,     3] loss: 1.077\n",
            "[83,     3] loss: 1.078\n",
            "[84,     3] loss: 1.070\n",
            "[85,     3] loss: 1.066\n",
            "[86,     3] loss: 1.072\n",
            "[87,     3] loss: 1.075\n",
            "[88,     3] loss: 1.064\n",
            "[89,     3] loss: 1.074\n",
            "[90,     3] loss: 1.065\n",
            "[91,     3] loss: 1.067\n",
            "[92,     3] loss: 1.070\n",
            "[93,     3] loss: 1.077\n",
            "[94,     3] loss: 1.075\n",
            "[95,     3] loss: 1.071\n",
            "[96,     3] loss: 1.076\n",
            "[97,     3] loss: 1.077\n",
            "[98,     3] loss: 1.077\n",
            "[99,     3] loss: 1.066\n",
            "[100,     3] loss: 1.074\n",
            "[101,     3] loss: 1.073\n",
            "[102,     3] loss: 1.081\n",
            "[103,     3] loss: 1.073\n",
            "[104,     3] loss: 1.067\n",
            "[105,     3] loss: 1.069\n",
            "[106,     3] loss: 1.071\n",
            "[107,     3] loss: 1.066\n",
            "[108,     3] loss: 1.077\n",
            "[109,     3] loss: 1.076\n",
            "[110,     3] loss: 1.063\n",
            "[111,     3] loss: 1.073\n",
            "[112,     3] loss: 1.076\n",
            "[113,     3] loss: 1.070\n",
            "[114,     3] loss: 1.068\n",
            "[115,     3] loss: 1.072\n",
            "[116,     3] loss: 1.067\n",
            "[117,     3] loss: 1.072\n",
            "[118,     3] loss: 1.074\n",
            "[119,     3] loss: 1.072\n",
            "[120,     3] loss: 1.079\n",
            "[121,     3] loss: 1.070\n",
            "[122,     3] loss: 1.079\n",
            "[123,     3] loss: 1.069\n",
            "[124,     3] loss: 1.072\n",
            "[125,     3] loss: 1.073\n",
            "[126,     3] loss: 1.066\n",
            "[127,     3] loss: 1.066\n",
            "[128,     3] loss: 1.068\n",
            "[129,     3] loss: 1.071\n",
            "[130,     3] loss: 1.077\n",
            "[131,     3] loss: 1.071\n",
            "[132,     3] loss: 1.072\n",
            "[133,     3] loss: 1.071\n",
            "[134,     3] loss: 1.069\n",
            "[135,     3] loss: 1.071\n",
            "[136,     3] loss: 1.078\n",
            "[137,     3] loss: 1.068\n",
            "[138,     3] loss: 1.067\n",
            "[139,     3] loss: 1.066\n",
            "[140,     3] loss: 1.067\n",
            "[141,     3] loss: 1.070\n",
            "[142,     3] loss: 1.064\n",
            "[143,     3] loss: 1.078\n",
            "[144,     3] loss: 1.071\n",
            "[145,     3] loss: 1.067\n",
            "[146,     3] loss: 1.062\n",
            "[147,     3] loss: 1.071\n",
            "[148,     3] loss: 1.070\n",
            "[149,     3] loss: 1.067\n",
            "[150,     3] loss: 1.077\n",
            "[151,     3] loss: 1.071\n",
            "[152,     3] loss: 1.068\n",
            "[153,     3] loss: 1.074\n",
            "[154,     3] loss: 1.077\n",
            "[155,     3] loss: 1.065\n",
            "[156,     3] loss: 1.070\n",
            "[157,     3] loss: 1.067\n",
            "[158,     3] loss: 1.070\n",
            "[159,     3] loss: 1.070\n",
            "[160,     3] loss: 1.071\n",
            "[161,     3] loss: 1.081\n",
            "[162,     3] loss: 1.069\n",
            "[163,     3] loss: 1.066\n",
            "[164,     3] loss: 1.074\n",
            "[165,     3] loss: 1.070\n",
            "[166,     3] loss: 1.073\n",
            "[167,     3] loss: 1.071\n",
            "[168,     3] loss: 1.058\n",
            "[169,     3] loss: 1.068\n",
            "[170,     3] loss: 1.077\n",
            "[171,     3] loss: 1.066\n",
            "[172,     3] loss: 1.071\n",
            "[173,     3] loss: 1.069\n",
            "[174,     3] loss: 1.074\n",
            "[175,     3] loss: 1.073\n",
            "[176,     3] loss: 1.072\n",
            "[177,     3] loss: 1.067\n",
            "[178,     3] loss: 1.068\n",
            "[179,     3] loss: 1.077\n",
            "[180,     3] loss: 1.069\n",
            "[181,     3] loss: 1.068\n",
            "[182,     3] loss: 1.069\n",
            "[183,     3] loss: 1.065\n",
            "[184,     3] loss: 1.065\n",
            "[185,     3] loss: 1.068\n",
            "[186,     3] loss: 1.073\n",
            "[187,     3] loss: 1.069\n",
            "[188,     3] loss: 1.072\n",
            "[189,     3] loss: 1.076\n",
            "[190,     3] loss: 1.067\n",
            "[191,     3] loss: 1.070\n",
            "[192,     3] loss: 1.075\n",
            "[193,     3] loss: 1.074\n",
            "[194,     3] loss: 1.072\n",
            "[195,     3] loss: 1.069\n",
            "[196,     3] loss: 1.073\n",
            "[197,     3] loss: 1.072\n",
            "[198,     3] loss: 1.073\n",
            "[199,     3] loss: 1.063\n",
            "[200,     3] loss: 1.077\n",
            "[201,     3] loss: 1.066\n",
            "[202,     3] loss: 1.078\n",
            "[203,     3] loss: 1.075\n",
            "[204,     3] loss: 1.067\n",
            "[205,     3] loss: 1.068\n",
            "[206,     3] loss: 1.073\n",
            "[207,     3] loss: 1.072\n",
            "[208,     3] loss: 1.077\n",
            "[209,     3] loss: 1.069\n",
            "[210,     3] loss: 1.072\n",
            "[211,     3] loss: 1.059\n",
            "[212,     3] loss: 1.066\n",
            "[213,     3] loss: 1.076\n",
            "[214,     3] loss: 1.071\n",
            "[215,     3] loss: 1.071\n",
            "[216,     3] loss: 1.069\n",
            "[217,     3] loss: 1.068\n",
            "[218,     3] loss: 1.067\n",
            "[219,     3] loss: 1.064\n",
            "[220,     3] loss: 1.066\n",
            "[221,     3] loss: 1.073\n",
            "[222,     3] loss: 1.080\n",
            "[223,     3] loss: 1.080\n",
            "[224,     3] loss: 1.067\n",
            "[225,     3] loss: 1.071\n",
            "[226,     3] loss: 1.070\n",
            "[227,     3] loss: 1.069\n",
            "[228,     3] loss: 1.077\n",
            "[229,     3] loss: 1.074\n",
            "[230,     3] loss: 1.065\n",
            "[231,     3] loss: 1.072\n",
            "[232,     3] loss: 1.070\n",
            "[233,     3] loss: 1.074\n",
            "[234,     3] loss: 1.072\n",
            "[235,     3] loss: 1.069\n",
            "[236,     3] loss: 1.074\n",
            "[237,     3] loss: 1.071\n",
            "[238,     3] loss: 1.071\n",
            "[239,     3] loss: 1.065\n",
            "[240,     3] loss: 1.072\n",
            "[241,     3] loss: 1.074\n",
            "[242,     3] loss: 1.075\n",
            "[243,     3] loss: 1.066\n",
            "[244,     3] loss: 1.066\n",
            "[245,     3] loss: 1.079\n",
            "[246,     3] loss: 1.070\n",
            "[247,     3] loss: 1.070\n",
            "[248,     3] loss: 1.067\n",
            "[249,     3] loss: 1.077\n",
            "[250,     3] loss: 1.074\n",
            "[251,     3] loss: 1.070\n",
            "[252,     3] loss: 1.071\n",
            "[253,     3] loss: 1.059\n",
            "[254,     3] loss: 1.073\n",
            "[255,     3] loss: 1.073\n",
            "[256,     3] loss: 1.064\n",
            "[257,     3] loss: 1.077\n",
            "[258,     3] loss: 1.068\n",
            "[259,     3] loss: 1.070\n",
            "[260,     3] loss: 1.068\n",
            "[261,     3] loss: 1.075\n",
            "[262,     3] loss: 1.067\n",
            "[263,     3] loss: 1.072\n",
            "[264,     3] loss: 1.068\n",
            "[265,     3] loss: 1.067\n",
            "[266,     3] loss: 1.074\n",
            "[267,     3] loss: 1.076\n",
            "[268,     3] loss: 1.070\n",
            "[269,     3] loss: 1.075\n",
            "[270,     3] loss: 1.073\n",
            "[271,     3] loss: 1.070\n",
            "[272,     3] loss: 1.072\n",
            "[273,     3] loss: 1.072\n",
            "[274,     3] loss: 1.074\n",
            "[275,     3] loss: 1.076\n",
            "[276,     3] loss: 1.074\n",
            "[277,     3] loss: 1.072\n",
            "[278,     3] loss: 1.073\n",
            "[279,     3] loss: 1.076\n",
            "[280,     3] loss: 1.071\n",
            "[281,     3] loss: 1.068\n",
            "[282,     3] loss: 1.076\n",
            "[283,     3] loss: 1.071\n",
            "[284,     3] loss: 1.072\n",
            "[285,     3] loss: 1.074\n",
            "[286,     3] loss: 1.065\n",
            "[287,     3] loss: 1.076\n",
            "[288,     3] loss: 1.075\n",
            "[289,     3] loss: 1.067\n",
            "[290,     3] loss: 1.064\n",
            "[291,     3] loss: 1.071\n",
            "[292,     3] loss: 1.069\n",
            "[293,     3] loss: 1.081\n",
            "[294,     3] loss: 1.065\n",
            "[295,     3] loss: 1.067\n",
            "[296,     3] loss: 1.063\n",
            "[297,     3] loss: 1.080\n",
            "[298,     3] loss: 1.081\n",
            "[299,     3] loss: 1.069\n",
            "[300,     3] loss: 1.072\n",
            "[301,     3] loss: 1.070\n",
            "[302,     3] loss: 1.074\n",
            "[303,     3] loss: 1.073\n",
            "[304,     3] loss: 1.069\n",
            "[305,     3] loss: 1.068\n",
            "[306,     3] loss: 1.074\n",
            "[307,     3] loss: 1.067\n",
            "[308,     3] loss: 1.070\n",
            "[309,     3] loss: 1.072\n",
            "[310,     3] loss: 1.076\n",
            "[311,     3] loss: 1.069\n",
            "[312,     3] loss: 1.074\n",
            "[313,     3] loss: 1.060\n",
            "[314,     3] loss: 1.073\n",
            "[315,     3] loss: 1.068\n",
            "[316,     3] loss: 1.062\n",
            "[317,     3] loss: 1.065\n",
            "[318,     3] loss: 1.071\n",
            "[319,     3] loss: 1.077\n",
            "[320,     3] loss: 1.071\n",
            "[321,     3] loss: 1.079\n",
            "[322,     3] loss: 1.071\n",
            "[323,     3] loss: 1.064\n",
            "[324,     3] loss: 1.064\n",
            "[325,     3] loss: 1.068\n",
            "[326,     3] loss: 1.076\n",
            "[327,     3] loss: 1.080\n",
            "[328,     3] loss: 1.067\n",
            "[329,     3] loss: 1.073\n",
            "[330,     3] loss: 1.065\n",
            "[331,     3] loss: 1.067\n",
            "[332,     3] loss: 1.078\n",
            "[333,     3] loss: 1.064\n",
            "[334,     3] loss: 1.075\n",
            "[335,     3] loss: 1.071\n",
            "[336,     3] loss: 1.075\n",
            "[337,     3] loss: 1.075\n",
            "[338,     3] loss: 1.074\n",
            "[339,     3] loss: 1.073\n",
            "[340,     3] loss: 1.074\n",
            "[341,     3] loss: 1.071\n",
            "[342,     3] loss: 1.069\n",
            "[343,     3] loss: 1.072\n",
            "[344,     3] loss: 1.068\n",
            "[345,     3] loss: 1.071\n",
            "[346,     3] loss: 1.075\n",
            "[347,     3] loss: 1.069\n",
            "[348,     3] loss: 1.066\n",
            "[349,     3] loss: 1.076\n",
            "[350,     3] loss: 1.071\n",
            "[351,     3] loss: 1.071\n",
            "[352,     3] loss: 1.075\n",
            "[353,     3] loss: 1.069\n",
            "[354,     3] loss: 1.072\n",
            "[355,     3] loss: 1.076\n",
            "[356,     3] loss: 1.068\n",
            "[357,     3] loss: 1.067\n",
            "[358,     3] loss: 1.072\n",
            "[359,     3] loss: 1.071\n",
            "[360,     3] loss: 1.064\n",
            "[361,     3] loss: 1.068\n",
            "[362,     3] loss: 1.074\n",
            "[363,     3] loss: 1.071\n",
            "[364,     3] loss: 1.074\n",
            "[365,     3] loss: 1.072\n",
            "[366,     3] loss: 1.075\n",
            "[367,     3] loss: 1.069\n",
            "[368,     3] loss: 1.067\n",
            "[369,     3] loss: 1.074\n",
            "[370,     3] loss: 1.076\n",
            "[371,     3] loss: 1.069\n",
            "[372,     3] loss: 1.073\n",
            "[373,     3] loss: 1.067\n",
            "[374,     3] loss: 1.068\n",
            "[375,     3] loss: 1.069\n",
            "[376,     3] loss: 1.067\n",
            "[377,     3] loss: 1.076\n",
            "[378,     3] loss: 1.069\n",
            "[379,     3] loss: 1.073\n",
            "[380,     3] loss: 1.071\n",
            "[381,     3] loss: 1.078\n",
            "[382,     3] loss: 1.066\n",
            "[383,     3] loss: 1.071\n",
            "[384,     3] loss: 1.075\n",
            "[385,     3] loss: 1.074\n",
            "[386,     3] loss: 1.078\n",
            "[387,     3] loss: 1.071\n",
            "[388,     3] loss: 1.076\n",
            "[389,     3] loss: 1.069\n",
            "[390,     3] loss: 1.073\n",
            "[391,     3] loss: 1.069\n",
            "[392,     3] loss: 1.069\n",
            "[393,     3] loss: 1.064\n",
            "[394,     3] loss: 1.074\n",
            "[395,     3] loss: 1.073\n",
            "[396,     3] loss: 1.066\n",
            "[397,     3] loss: 1.069\n",
            "[398,     3] loss: 1.073\n",
            "[399,     3] loss: 1.070\n",
            "[400,     3] loss: 1.066\n",
            "[401,     3] loss: 1.069\n",
            "[402,     3] loss: 1.066\n",
            "[403,     3] loss: 1.070\n",
            "[404,     3] loss: 1.072\n",
            "[405,     3] loss: 1.070\n",
            "[406,     3] loss: 1.076\n",
            "[407,     3] loss: 1.066\n",
            "[408,     3] loss: 1.072\n",
            "[409,     3] loss: 1.069\n",
            "[410,     3] loss: 1.064\n",
            "[411,     3] loss: 1.077\n",
            "[412,     3] loss: 1.069\n",
            "[413,     3] loss: 1.065\n",
            "[414,     3] loss: 1.076\n",
            "[415,     3] loss: 1.069\n",
            "[416,     3] loss: 1.066\n",
            "[417,     3] loss: 1.066\n",
            "[418,     3] loss: 1.066\n",
            "[419,     3] loss: 1.069\n",
            "[420,     3] loss: 1.070\n",
            "[421,     3] loss: 1.066\n",
            "[422,     3] loss: 1.064\n",
            "[423,     3] loss: 1.070\n",
            "[424,     3] loss: 1.066\n",
            "[425,     3] loss: 1.074\n",
            "[426,     3] loss: 1.073\n",
            "[427,     3] loss: 1.064\n",
            "[428,     3] loss: 1.066\n",
            "[429,     3] loss: 1.061\n",
            "[430,     3] loss: 1.070\n",
            "[431,     3] loss: 1.072\n",
            "[432,     3] loss: 1.081\n",
            "[433,     3] loss: 1.071\n",
            "[434,     3] loss: 1.070\n",
            "[435,     3] loss: 1.067\n",
            "[436,     3] loss: 1.079\n",
            "[437,     3] loss: 1.083\n",
            "[438,     3] loss: 1.068\n",
            "[439,     3] loss: 1.074\n",
            "[440,     3] loss: 1.063\n",
            "[441,     3] loss: 1.069\n",
            "[442,     3] loss: 1.066\n",
            "[443,     3] loss: 1.078\n",
            "[444,     3] loss: 1.068\n",
            "[445,     3] loss: 1.072\n",
            "[446,     3] loss: 1.069\n",
            "[447,     3] loss: 1.069\n",
            "[448,     3] loss: 1.070\n",
            "[449,     3] loss: 1.078\n",
            "[450,     3] loss: 1.073\n",
            "[451,     3] loss: 1.065\n",
            "[452,     3] loss: 1.069\n",
            "[453,     3] loss: 1.072\n",
            "[454,     3] loss: 1.077\n",
            "[455,     3] loss: 1.075\n",
            "[456,     3] loss: 1.077\n",
            "[457,     3] loss: 1.075\n",
            "[458,     3] loss: 1.065\n",
            "[459,     3] loss: 1.064\n",
            "[460,     3] loss: 1.079\n",
            "[461,     3] loss: 1.080\n",
            "[462,     3] loss: 1.067\n",
            "[463,     3] loss: 1.076\n",
            "[464,     3] loss: 1.075\n",
            "[465,     3] loss: 1.069\n",
            "[466,     3] loss: 1.080\n",
            "[467,     3] loss: 1.074\n",
            "[468,     3] loss: 1.071\n",
            "[469,     3] loss: 1.069\n",
            "[470,     3] loss: 1.075\n",
            "[471,     3] loss: 1.068\n",
            "[472,     3] loss: 1.068\n",
            "[473,     3] loss: 1.067\n",
            "[474,     3] loss: 1.069\n",
            "[475,     3] loss: 1.066\n",
            "[476,     3] loss: 1.072\n",
            "[477,     3] loss: 1.071\n",
            "[478,     3] loss: 1.067\n",
            "[479,     3] loss: 1.079\n",
            "[480,     3] loss: 1.067\n",
            "[481,     3] loss: 1.077\n",
            "[482,     3] loss: 1.065\n",
            "[483,     3] loss: 1.068\n",
            "[484,     3] loss: 1.066\n",
            "[485,     3] loss: 1.073\n",
            "[486,     3] loss: 1.070\n",
            "[487,     3] loss: 1.076\n",
            "[488,     3] loss: 1.076\n",
            "[489,     3] loss: 1.066\n",
            "[490,     3] loss: 1.069\n",
            "[491,     3] loss: 1.070\n",
            "[492,     3] loss: 1.065\n",
            "[493,     3] loss: 1.069\n",
            "[494,     3] loss: 1.069\n",
            "[495,     3] loss: 1.070\n",
            "[496,     3] loss: 1.076\n",
            "[497,     3] loss: 1.070\n",
            "[498,     3] loss: 1.076\n",
            "[499,     3] loss: 1.076\n",
            "[500,     3] loss: 1.070\n",
            "[501,     3] loss: 1.074\n",
            "[502,     3] loss: 1.072\n",
            "[503,     3] loss: 1.074\n",
            "[504,     3] loss: 1.075\n",
            "[505,     3] loss: 1.074\n",
            "[506,     3] loss: 1.069\n",
            "[507,     3] loss: 1.074\n",
            "[508,     3] loss: 1.080\n",
            "[509,     3] loss: 1.070\n",
            "[510,     3] loss: 1.065\n",
            "[511,     3] loss: 1.076\n",
            "[512,     3] loss: 1.075\n",
            "[513,     3] loss: 1.069\n",
            "[514,     3] loss: 1.073\n",
            "[515,     3] loss: 1.065\n",
            "[516,     3] loss: 1.076\n",
            "[517,     3] loss: 1.073\n",
            "[518,     3] loss: 1.064\n",
            "[519,     3] loss: 1.069\n",
            "[520,     3] loss: 1.070\n",
            "[521,     3] loss: 1.068\n",
            "[522,     3] loss: 1.074\n",
            "[523,     3] loss: 1.077\n",
            "[524,     3] loss: 1.075\n",
            "[525,     3] loss: 1.068\n",
            "[526,     3] loss: 1.074\n",
            "[527,     3] loss: 1.067\n",
            "[528,     3] loss: 1.071\n",
            "[529,     3] loss: 1.075\n",
            "[530,     3] loss: 1.081\n",
            "[531,     3] loss: 1.078\n",
            "[532,     3] loss: 1.065\n",
            "[533,     3] loss: 1.064\n",
            "[534,     3] loss: 1.071\n",
            "[535,     3] loss: 1.071\n",
            "[536,     3] loss: 1.077\n",
            "[537,     3] loss: 1.074\n",
            "[538,     3] loss: 1.067\n",
            "[539,     3] loss: 1.076\n",
            "[540,     3] loss: 1.063\n",
            "[541,     3] loss: 1.067\n",
            "[542,     3] loss: 1.075\n",
            "[543,     3] loss: 1.076\n",
            "[544,     3] loss: 1.072\n",
            "[545,     3] loss: 1.069\n",
            "[546,     3] loss: 1.071\n",
            "[547,     3] loss: 1.067\n",
            "[548,     3] loss: 1.065\n",
            "[549,     3] loss: 1.075\n",
            "[550,     3] loss: 1.074\n",
            "[551,     3] loss: 1.075\n",
            "[552,     3] loss: 1.072\n",
            "[553,     3] loss: 1.077\n",
            "[554,     3] loss: 1.065\n",
            "[555,     3] loss: 1.070\n",
            "[556,     3] loss: 1.069\n",
            "[557,     3] loss: 1.068\n",
            "[558,     3] loss: 1.070\n",
            "[559,     3] loss: 1.071\n",
            "[560,     3] loss: 1.071\n",
            "[561,     3] loss: 1.071\n",
            "[562,     3] loss: 1.074\n",
            "[563,     3] loss: 1.066\n",
            "[564,     3] loss: 1.070\n",
            "[565,     3] loss: 1.067\n",
            "[566,     3] loss: 1.068\n",
            "[567,     3] loss: 1.069\n",
            "[568,     3] loss: 1.068\n",
            "[569,     3] loss: 1.070\n",
            "[570,     3] loss: 1.076\n",
            "[571,     3] loss: 1.073\n",
            "[572,     3] loss: 1.073\n",
            "[573,     3] loss: 1.071\n",
            "[574,     3] loss: 1.068\n",
            "[575,     3] loss: 1.074\n",
            "[576,     3] loss: 1.078\n",
            "[577,     3] loss: 1.075\n",
            "[578,     3] loss: 1.064\n",
            "[579,     3] loss: 1.071\n",
            "[580,     3] loss: 1.068\n",
            "[581,     3] loss: 1.073\n",
            "[582,     3] loss: 1.072\n",
            "[583,     3] loss: 1.070\n",
            "[584,     3] loss: 1.078\n",
            "[585,     3] loss: 1.068\n",
            "[586,     3] loss: 1.066\n",
            "[587,     3] loss: 1.072\n",
            "[588,     3] loss: 1.067\n",
            "[589,     3] loss: 1.071\n",
            "[590,     3] loss: 1.069\n",
            "[591,     3] loss: 1.069\n",
            "[592,     3] loss: 1.071\n",
            "[593,     3] loss: 1.068\n",
            "[594,     3] loss: 1.065\n",
            "[595,     3] loss: 1.072\n",
            "[596,     3] loss: 1.071\n",
            "[597,     3] loss: 1.072\n",
            "[598,     3] loss: 1.075\n",
            "[599,     3] loss: 1.063\n",
            "[600,     3] loss: 1.067\n",
            "[601,     3] loss: 1.066\n",
            "[602,     3] loss: 1.065\n",
            "[603,     3] loss: 1.074\n",
            "[604,     3] loss: 1.073\n",
            "[605,     3] loss: 1.069\n",
            "[606,     3] loss: 1.069\n",
            "[607,     3] loss: 1.066\n",
            "[608,     3] loss: 1.069\n",
            "[609,     3] loss: 1.077\n",
            "[610,     3] loss: 1.076\n",
            "[611,     3] loss: 1.074\n",
            "[612,     3] loss: 1.065\n",
            "[613,     3] loss: 1.068\n",
            "[614,     3] loss: 1.066\n",
            "[615,     3] loss: 1.072\n",
            "[616,     3] loss: 1.071\n",
            "[617,     3] loss: 1.076\n",
            "[618,     3] loss: 1.075\n",
            "[619,     3] loss: 1.070\n",
            "[620,     3] loss: 1.074\n",
            "[621,     3] loss: 1.068\n",
            "[622,     3] loss: 1.078\n",
            "[623,     3] loss: 1.071\n",
            "[624,     3] loss: 1.067\n",
            "[625,     3] loss: 1.079\n",
            "[626,     3] loss: 1.068\n",
            "[627,     3] loss: 1.078\n",
            "[628,     3] loss: 1.070\n",
            "[629,     3] loss: 1.066\n",
            "[630,     3] loss: 1.074\n",
            "[631,     3] loss: 1.064\n",
            "[632,     3] loss: 1.067\n",
            "[633,     3] loss: 1.081\n",
            "[634,     3] loss: 1.067\n",
            "[635,     3] loss: 1.073\n",
            "[636,     3] loss: 1.066\n",
            "[637,     3] loss: 1.073\n",
            "[638,     3] loss: 1.071\n",
            "[639,     3] loss: 1.072\n",
            "[640,     3] loss: 1.076\n",
            "[641,     3] loss: 1.072\n",
            "[642,     3] loss: 1.074\n",
            "[643,     3] loss: 1.070\n",
            "[644,     3] loss: 1.078\n",
            "[645,     3] loss: 1.074\n",
            "[646,     3] loss: 1.070\n",
            "[647,     3] loss: 1.067\n",
            "[648,     3] loss: 1.073\n",
            "[649,     3] loss: 1.074\n",
            "[650,     3] loss: 1.068\n",
            "[651,     3] loss: 1.070\n",
            "[652,     3] loss: 1.076\n",
            "[653,     3] loss: 1.070\n",
            "[654,     3] loss: 1.078\n",
            "[655,     3] loss: 1.077\n",
            "[656,     3] loss: 1.071\n",
            "[657,     3] loss: 1.070\n",
            "[658,     3] loss: 1.074\n",
            "[659,     3] loss: 1.075\n",
            "[660,     3] loss: 1.077\n",
            "[661,     3] loss: 1.068\n",
            "[662,     3] loss: 1.076\n",
            "[663,     3] loss: 1.073\n",
            "[664,     3] loss: 1.060\n",
            "[665,     3] loss: 1.061\n",
            "[666,     3] loss: 1.066\n",
            "[667,     3] loss: 1.070\n",
            "[668,     3] loss: 1.072\n",
            "[669,     3] loss: 1.073\n",
            "[670,     3] loss: 1.072\n",
            "[671,     3] loss: 1.070\n",
            "[672,     3] loss: 1.070\n",
            "[673,     3] loss: 1.065\n",
            "[674,     3] loss: 1.080\n",
            "[675,     3] loss: 1.073\n",
            "[676,     3] loss: 1.074\n",
            "[677,     3] loss: 1.075\n",
            "[678,     3] loss: 1.063\n",
            "[679,     3] loss: 1.072\n",
            "[680,     3] loss: 1.072\n",
            "[681,     3] loss: 1.069\n",
            "[682,     3] loss: 1.068\n",
            "[683,     3] loss: 1.073\n",
            "[684,     3] loss: 1.071\n",
            "[685,     3] loss: 1.072\n",
            "[686,     3] loss: 1.077\n",
            "[687,     3] loss: 1.072\n",
            "[688,     3] loss: 1.067\n",
            "[689,     3] loss: 1.069\n",
            "[690,     3] loss: 1.069\n",
            "[691,     3] loss: 1.077\n",
            "[692,     3] loss: 1.069\n",
            "[693,     3] loss: 1.072\n",
            "[694,     3] loss: 1.070\n",
            "[695,     3] loss: 1.073\n",
            "[696,     3] loss: 1.072\n",
            "[697,     3] loss: 1.073\n",
            "[698,     3] loss: 1.070\n",
            "[699,     3] loss: 1.070\n",
            "[700,     3] loss: 1.073\n",
            "[701,     3] loss: 1.068\n",
            "[702,     3] loss: 1.072\n",
            "[703,     3] loss: 1.070\n",
            "[704,     3] loss: 1.064\n",
            "[705,     3] loss: 1.070\n",
            "[706,     3] loss: 1.068\n",
            "[707,     3] loss: 1.068\n",
            "[708,     3] loss: 1.070\n",
            "[709,     3] loss: 1.062\n",
            "[710,     3] loss: 1.063\n",
            "[711,     3] loss: 1.065\n",
            "[712,     3] loss: 1.069\n",
            "[713,     3] loss: 1.069\n",
            "[714,     3] loss: 1.078\n",
            "[715,     3] loss: 1.078\n",
            "[716,     3] loss: 1.070\n",
            "[717,     3] loss: 1.070\n",
            "[718,     3] loss: 1.064\n",
            "[719,     3] loss: 1.076\n",
            "[720,     3] loss: 1.065\n",
            "[721,     3] loss: 1.074\n",
            "[722,     3] loss: 1.077\n",
            "[723,     3] loss: 1.071\n",
            "[724,     3] loss: 1.064\n",
            "[725,     3] loss: 1.070\n",
            "[726,     3] loss: 1.069\n",
            "[727,     3] loss: 1.071\n",
            "[728,     3] loss: 1.071\n",
            "[729,     3] loss: 1.070\n",
            "[730,     3] loss: 1.074\n",
            "[731,     3] loss: 1.074\n",
            "[732,     3] loss: 1.068\n",
            "[733,     3] loss: 1.074\n",
            "[734,     3] loss: 1.068\n",
            "[735,     3] loss: 1.065\n",
            "[736,     3] loss: 1.074\n",
            "[737,     3] loss: 1.070\n",
            "[738,     3] loss: 1.071\n",
            "[739,     3] loss: 1.069\n",
            "[740,     3] loss: 1.066\n",
            "[741,     3] loss: 1.074\n",
            "[742,     3] loss: 1.071\n",
            "[743,     3] loss: 1.062\n",
            "[744,     3] loss: 1.075\n",
            "[745,     3] loss: 1.080\n",
            "[746,     3] loss: 1.077\n",
            "[747,     3] loss: 1.064\n",
            "[748,     3] loss: 1.077\n",
            "[749,     3] loss: 1.067\n",
            "[750,     3] loss: 1.076\n",
            "[751,     3] loss: 1.074\n",
            "[752,     3] loss: 1.069\n",
            "[753,     3] loss: 1.065\n",
            "[754,     3] loss: 1.065\n",
            "[755,     3] loss: 1.068\n",
            "[756,     3] loss: 1.071\n",
            "[757,     3] loss: 1.072\n",
            "[758,     3] loss: 1.071\n",
            "[759,     3] loss: 1.068\n",
            "[760,     3] loss: 1.066\n",
            "[761,     3] loss: 1.073\n",
            "[762,     3] loss: 1.075\n",
            "[763,     3] loss: 1.076\n",
            "[764,     3] loss: 1.072\n",
            "[765,     3] loss: 1.075\n",
            "[766,     3] loss: 1.077\n",
            "[767,     3] loss: 1.071\n",
            "[768,     3] loss: 1.067\n",
            "[769,     3] loss: 1.079\n",
            "[770,     3] loss: 1.070\n",
            "[771,     3] loss: 1.076\n",
            "[772,     3] loss: 1.071\n",
            "[773,     3] loss: 1.069\n",
            "[774,     3] loss: 1.075\n",
            "[775,     3] loss: 1.062\n",
            "[776,     3] loss: 1.076\n",
            "[777,     3] loss: 1.073\n",
            "[778,     3] loss: 1.069\n",
            "[779,     3] loss: 1.073\n",
            "[780,     3] loss: 1.078\n",
            "[781,     3] loss: 1.075\n",
            "[782,     3] loss: 1.074\n",
            "[783,     3] loss: 1.078\n",
            "[784,     3] loss: 1.076\n",
            "[785,     3] loss: 1.066\n",
            "[786,     3] loss: 1.074\n",
            "[787,     3] loss: 1.068\n",
            "[788,     3] loss: 1.073\n",
            "[789,     3] loss: 1.073\n",
            "[790,     3] loss: 1.067\n",
            "[791,     3] loss: 1.071\n",
            "[792,     3] loss: 1.076\n",
            "[793,     3] loss: 1.065\n",
            "[794,     3] loss: 1.074\n",
            "[795,     3] loss: 1.064\n",
            "[796,     3] loss: 1.071\n",
            "[797,     3] loss: 1.064\n",
            "[798,     3] loss: 1.064\n",
            "[799,     3] loss: 1.065\n",
            "[800,     3] loss: 1.074\n",
            "[801,     3] loss: 1.071\n",
            "[802,     3] loss: 1.074\n",
            "[803,     3] loss: 1.071\n",
            "[804,     3] loss: 1.072\n",
            "[805,     3] loss: 1.075\n",
            "[806,     3] loss: 1.071\n",
            "[807,     3] loss: 1.069\n",
            "[808,     3] loss: 1.067\n",
            "[809,     3] loss: 1.069\n",
            "[810,     3] loss: 1.070\n",
            "[811,     3] loss: 1.074\n",
            "[812,     3] loss: 1.064\n",
            "[813,     3] loss: 1.069\n",
            "[814,     3] loss: 1.070\n",
            "[815,     3] loss: 1.069\n",
            "[816,     3] loss: 1.065\n",
            "[817,     3] loss: 1.079\n",
            "[818,     3] loss: 1.077\n",
            "[819,     3] loss: 1.073\n",
            "[820,     3] loss: 1.070\n",
            "[821,     3] loss: 1.071\n",
            "[822,     3] loss: 1.077\n",
            "[823,     3] loss: 1.072\n",
            "[824,     3] loss: 1.072\n",
            "[825,     3] loss: 1.064\n",
            "[826,     3] loss: 1.068\n",
            "[827,     3] loss: 1.066\n",
            "[828,     3] loss: 1.072\n",
            "[829,     3] loss: 1.075\n",
            "[830,     3] loss: 1.071\n",
            "[831,     3] loss: 1.079\n",
            "[832,     3] loss: 1.064\n",
            "[833,     3] loss: 1.077\n",
            "[834,     3] loss: 1.068\n",
            "[835,     3] loss: 1.075\n",
            "[836,     3] loss: 1.070\n",
            "[837,     3] loss: 1.065\n",
            "[838,     3] loss: 1.071\n",
            "[839,     3] loss: 1.076\n",
            "[840,     3] loss: 1.070\n",
            "[841,     3] loss: 1.071\n",
            "[842,     3] loss: 1.075\n",
            "[843,     3] loss: 1.077\n",
            "[844,     3] loss: 1.075\n",
            "[845,     3] loss: 1.070\n",
            "[846,     3] loss: 1.077\n",
            "[847,     3] loss: 1.068\n",
            "[848,     3] loss: 1.067\n",
            "[849,     3] loss: 1.063\n",
            "[850,     3] loss: 1.066\n",
            "[851,     3] loss: 1.068\n",
            "[852,     3] loss: 1.072\n",
            "[853,     3] loss: 1.075\n",
            "[854,     3] loss: 1.073\n",
            "[855,     3] loss: 1.070\n",
            "[856,     3] loss: 1.069\n",
            "[857,     3] loss: 1.069\n",
            "[858,     3] loss: 1.073\n",
            "[859,     3] loss: 1.064\n",
            "[860,     3] loss: 1.071\n",
            "[861,     3] loss: 1.067\n",
            "[862,     3] loss: 1.072\n",
            "[863,     3] loss: 1.073\n",
            "[864,     3] loss: 1.069\n",
            "[865,     3] loss: 1.081\n",
            "[866,     3] loss: 1.071\n",
            "[867,     3] loss: 1.068\n",
            "[868,     3] loss: 1.070\n",
            "[869,     3] loss: 1.076\n",
            "[870,     3] loss: 1.073\n",
            "[871,     3] loss: 1.066\n",
            "[872,     3] loss: 1.067\n",
            "[873,     3] loss: 1.073\n",
            "[874,     3] loss: 1.075\n",
            "[875,     3] loss: 1.074\n",
            "[876,     3] loss: 1.069\n",
            "[877,     3] loss: 1.068\n",
            "[878,     3] loss: 1.070\n",
            "[879,     3] loss: 1.073\n",
            "[880,     3] loss: 1.070\n",
            "[881,     3] loss: 1.065\n",
            "[882,     3] loss: 1.070\n",
            "[883,     3] loss: 1.067\n",
            "[884,     3] loss: 1.074\n",
            "[885,     3] loss: 1.068\n",
            "[886,     3] loss: 1.066\n",
            "[887,     3] loss: 1.069\n",
            "[888,     3] loss: 1.065\n",
            "[889,     3] loss: 1.071\n",
            "[890,     3] loss: 1.066\n",
            "[891,     3] loss: 1.069\n",
            "[892,     3] loss: 1.079\n",
            "[893,     3] loss: 1.073\n",
            "[894,     3] loss: 1.071\n",
            "[895,     3] loss: 1.068\n",
            "[896,     3] loss: 1.068\n",
            "[897,     3] loss: 1.068\n",
            "[898,     3] loss: 1.071\n",
            "[899,     3] loss: 1.071\n",
            "[900,     3] loss: 1.068\n",
            "[901,     3] loss: 1.074\n",
            "[902,     3] loss: 1.077\n",
            "[903,     3] loss: 1.065\n",
            "[904,     3] loss: 1.065\n",
            "[905,     3] loss: 1.070\n",
            "[906,     3] loss: 1.077\n",
            "[907,     3] loss: 1.074\n",
            "[908,     3] loss: 1.070\n",
            "[909,     3] loss: 1.070\n",
            "[910,     3] loss: 1.072\n",
            "[911,     3] loss: 1.073\n",
            "[912,     3] loss: 1.076\n",
            "[913,     3] loss: 1.066\n",
            "[914,     3] loss: 1.075\n",
            "[915,     3] loss: 1.067\n",
            "[916,     3] loss: 1.067\n",
            "[917,     3] loss: 1.080\n",
            "[918,     3] loss: 1.067\n",
            "[919,     3] loss: 1.069\n",
            "[920,     3] loss: 1.079\n",
            "[921,     3] loss: 1.071\n",
            "[922,     3] loss: 1.073\n",
            "[923,     3] loss: 1.077\n",
            "[924,     3] loss: 1.075\n",
            "[925,     3] loss: 1.077\n",
            "[926,     3] loss: 1.063\n",
            "[927,     3] loss: 1.073\n",
            "[928,     3] loss: 1.073\n",
            "[929,     3] loss: 1.071\n",
            "[930,     3] loss: 1.068\n",
            "[931,     3] loss: 1.067\n",
            "[932,     3] loss: 1.068\n",
            "[933,     3] loss: 1.080\n",
            "[934,     3] loss: 1.075\n",
            "[935,     3] loss: 1.076\n",
            "[936,     3] loss: 1.070\n",
            "[937,     3] loss: 1.059\n",
            "[938,     3] loss: 1.070\n",
            "[939,     3] loss: 1.068\n",
            "[940,     3] loss: 1.068\n",
            "[941,     3] loss: 1.070\n",
            "[942,     3] loss: 1.078\n",
            "[943,     3] loss: 1.064\n",
            "[944,     3] loss: 1.077\n",
            "[945,     3] loss: 1.072\n",
            "[946,     3] loss: 1.065\n",
            "[947,     3] loss: 1.069\n",
            "[948,     3] loss: 1.066\n",
            "[949,     3] loss: 1.074\n",
            "[950,     3] loss: 1.067\n",
            "[951,     3] loss: 1.071\n",
            "[952,     3] loss: 1.065\n",
            "[953,     3] loss: 1.071\n",
            "[954,     3] loss: 1.072\n",
            "[955,     3] loss: 1.068\n",
            "[956,     3] loss: 1.074\n",
            "[957,     3] loss: 1.074\n",
            "[958,     3] loss: 1.070\n",
            "[959,     3] loss: 1.070\n",
            "[960,     3] loss: 1.071\n",
            "[961,     3] loss: 1.074\n",
            "[962,     3] loss: 1.073\n",
            "[963,     3] loss: 1.073\n",
            "[964,     3] loss: 1.074\n",
            "[965,     3] loss: 1.079\n",
            "[966,     3] loss: 1.071\n",
            "[967,     3] loss: 1.074\n",
            "[968,     3] loss: 1.073\n",
            "[969,     3] loss: 1.071\n",
            "[970,     3] loss: 1.070\n",
            "[971,     3] loss: 1.075\n",
            "[972,     3] loss: 1.066\n",
            "[973,     3] loss: 1.064\n",
            "[974,     3] loss: 1.067\n",
            "[975,     3] loss: 1.069\n",
            "[976,     3] loss: 1.076\n",
            "[977,     3] loss: 1.070\n",
            "[978,     3] loss: 1.073\n",
            "[979,     3] loss: 1.062\n",
            "[980,     3] loss: 1.064\n",
            "[981,     3] loss: 1.070\n",
            "[982,     3] loss: 1.068\n",
            "[983,     3] loss: 1.068\n",
            "[984,     3] loss: 1.057\n",
            "[985,     3] loss: 1.071\n",
            "[986,     3] loss: 1.069\n",
            "[987,     3] loss: 1.071\n",
            "[988,     3] loss: 1.069\n",
            "[989,     3] loss: 1.073\n",
            "[990,     3] loss: 1.078\n",
            "[991,     3] loss: 1.073\n",
            "[992,     3] loss: 1.063\n",
            "[993,     3] loss: 1.072\n",
            "[994,     3] loss: 1.058\n",
            "[995,     3] loss: 1.082\n",
            "[996,     3] loss: 1.072\n",
            "[997,     3] loss: 1.072\n",
            "[998,     3] loss: 1.066\n",
            "[999,     3] loss: 1.068\n",
            "[1000,     3] loss: 1.075\n",
            "Finished Training\n"
          ],
          "name": "stdout"
        }
      ]
    },
    {
      "cell_type": "code",
      "metadata": {
        "id": "5gQoPST5zW2t"
      },
      "source": [
        "df_train = pd.DataFrame()\n",
        "df_test = pd.DataFrame()"
      ],
      "execution_count": 44,
      "outputs": []
    },
    {
      "cell_type": "code",
      "metadata": {
        "id": "In76SYH_zZHV"
      },
      "source": [
        "columns = [\"epochs\", \"argmax > 0.5\" ,\"argmax < 0.5\", \"focus_true_pred_true\", \"focus_false_pred_true\", \"focus_true_pred_false\", \"focus_false_pred_false\" ]"
      ],
      "execution_count": 45,
      "outputs": []
    },
    {
      "cell_type": "code",
      "metadata": {
        "id": "BS4HtOHEzZ0E"
      },
      "source": [
        "df_train[columns[0]] = col1\n",
        "df_train[columns[1]] = col2\n",
        "df_train[columns[2]] = col3\n",
        "df_train[columns[3]] = col4\n",
        "df_train[columns[4]] = col5\n",
        "df_train[columns[5]] = col6\n",
        "df_train[columns[6]] = col7\n",
        "\n",
        "df_test[columns[0]] = col1\n",
        "df_test[columns[1]] = col8\n",
        "df_test[columns[2]] = col9\n",
        "df_test[columns[3]] = col10\n",
        "df_test[columns[4]] = col11\n",
        "df_test[columns[5]] = col12\n",
        "df_test[columns[6]] = col13"
      ],
      "execution_count": 46,
      "outputs": []
    },
    {
      "cell_type": "code",
      "metadata": {
        "id": "1UbTkfLUINTI",
        "colab": {
          "base_uri": "https://localhost:8080/",
          "height": 424
        },
        "outputId": "74d279fa-dba8-41a3-c5e6-a67a62c2f3ff"
      },
      "source": [
        "df_train"
      ],
      "execution_count": 47,
      "outputs": [
        {
          "output_type": "execute_result",
          "data": {
            "text/html": [
              "<div>\n",
              "<style scoped>\n",
              "    .dataframe tbody tr th:only-of-type {\n",
              "        vertical-align: middle;\n",
              "    }\n",
              "\n",
              "    .dataframe tbody tr th {\n",
              "        vertical-align: top;\n",
              "    }\n",
              "\n",
              "    .dataframe thead th {\n",
              "        text-align: right;\n",
              "    }\n",
              "</style>\n",
              "<table border=\"1\" class=\"dataframe\">\n",
              "  <thead>\n",
              "    <tr style=\"text-align: right;\">\n",
              "      <th></th>\n",
              "      <th>epochs</th>\n",
              "      <th>argmax &gt; 0.5</th>\n",
              "      <th>argmax &lt; 0.5</th>\n",
              "      <th>focus_true_pred_true</th>\n",
              "      <th>focus_false_pred_true</th>\n",
              "      <th>focus_true_pred_false</th>\n",
              "      <th>focus_false_pred_false</th>\n",
              "    </tr>\n",
              "  </thead>\n",
              "  <tbody>\n",
              "    <tr>\n",
              "      <th>0</th>\n",
              "      <td>0</td>\n",
              "      <td>0</td>\n",
              "      <td>1000</td>\n",
              "      <td>45</td>\n",
              "      <td>325</td>\n",
              "      <td>75</td>\n",
              "      <td>555</td>\n",
              "    </tr>\n",
              "    <tr>\n",
              "      <th>1</th>\n",
              "      <td>1</td>\n",
              "      <td>0</td>\n",
              "      <td>1000</td>\n",
              "      <td>22</td>\n",
              "      <td>339</td>\n",
              "      <td>22</td>\n",
              "      <td>617</td>\n",
              "    </tr>\n",
              "    <tr>\n",
              "      <th>2</th>\n",
              "      <td>6</td>\n",
              "      <td>0</td>\n",
              "      <td>1000</td>\n",
              "      <td>9</td>\n",
              "      <td>387</td>\n",
              "      <td>6</td>\n",
              "      <td>598</td>\n",
              "    </tr>\n",
              "    <tr>\n",
              "      <th>3</th>\n",
              "      <td>11</td>\n",
              "      <td>0</td>\n",
              "      <td>1000</td>\n",
              "      <td>1</td>\n",
              "      <td>409</td>\n",
              "      <td>10</td>\n",
              "      <td>580</td>\n",
              "    </tr>\n",
              "    <tr>\n",
              "      <th>4</th>\n",
              "      <td>16</td>\n",
              "      <td>0</td>\n",
              "      <td>1000</td>\n",
              "      <td>1</td>\n",
              "      <td>422</td>\n",
              "      <td>7</td>\n",
              "      <td>570</td>\n",
              "    </tr>\n",
              "    <tr>\n",
              "      <th>...</th>\n",
              "      <td>...</td>\n",
              "      <td>...</td>\n",
              "      <td>...</td>\n",
              "      <td>...</td>\n",
              "      <td>...</td>\n",
              "      <td>...</td>\n",
              "      <td>...</td>\n",
              "    </tr>\n",
              "    <tr>\n",
              "      <th>196</th>\n",
              "      <td>976</td>\n",
              "      <td>0</td>\n",
              "      <td>1000</td>\n",
              "      <td>0</td>\n",
              "      <td>405</td>\n",
              "      <td>5</td>\n",
              "      <td>590</td>\n",
              "    </tr>\n",
              "    <tr>\n",
              "      <th>197</th>\n",
              "      <td>981</td>\n",
              "      <td>0</td>\n",
              "      <td>1000</td>\n",
              "      <td>0</td>\n",
              "      <td>407</td>\n",
              "      <td>5</td>\n",
              "      <td>588</td>\n",
              "    </tr>\n",
              "    <tr>\n",
              "      <th>198</th>\n",
              "      <td>986</td>\n",
              "      <td>0</td>\n",
              "      <td>1000</td>\n",
              "      <td>0</td>\n",
              "      <td>405</td>\n",
              "      <td>5</td>\n",
              "      <td>590</td>\n",
              "    </tr>\n",
              "    <tr>\n",
              "      <th>199</th>\n",
              "      <td>991</td>\n",
              "      <td>0</td>\n",
              "      <td>1000</td>\n",
              "      <td>0</td>\n",
              "      <td>405</td>\n",
              "      <td>5</td>\n",
              "      <td>590</td>\n",
              "    </tr>\n",
              "    <tr>\n",
              "      <th>200</th>\n",
              "      <td>996</td>\n",
              "      <td>0</td>\n",
              "      <td>1000</td>\n",
              "      <td>0</td>\n",
              "      <td>404</td>\n",
              "      <td>5</td>\n",
              "      <td>591</td>\n",
              "    </tr>\n",
              "  </tbody>\n",
              "</table>\n",
              "<p>201 rows × 7 columns</p>\n",
              "</div>"
            ],
            "text/plain": [
              "     epochs  argmax > 0.5  ...  focus_true_pred_false  focus_false_pred_false\n",
              "0         0             0  ...                     75                     555\n",
              "1         1             0  ...                     22                     617\n",
              "2         6             0  ...                      6                     598\n",
              "3        11             0  ...                     10                     580\n",
              "4        16             0  ...                      7                     570\n",
              "..      ...           ...  ...                    ...                     ...\n",
              "196     976             0  ...                      5                     590\n",
              "197     981             0  ...                      5                     588\n",
              "198     986             0  ...                      5                     590\n",
              "199     991             0  ...                      5                     590\n",
              "200     996             0  ...                      5                     591\n",
              "\n",
              "[201 rows x 7 columns]"
            ]
          },
          "metadata": {
            "tags": []
          },
          "execution_count": 47
        }
      ]
    },
    {
      "cell_type": "code",
      "metadata": {
        "colab": {
          "base_uri": "https://localhost:8080/",
          "height": 573
        },
        "id": "xyna3USAeKZ9",
        "outputId": "1460ba45-627a-4111-ede6-0d73e6a4e962"
      },
      "source": [
        "# plt.figure(12,12)\n",
        "plt.plot(col1,col2, label='argmax > 0.5')\n",
        "plt.plot(col1,col3, label='argmax < 0.5')\n",
        "\n",
        "plt.legend(loc='center left', bbox_to_anchor=(1, 0.5))\n",
        "plt.xlabel(\"epochs\")\n",
        "plt.ylabel(\"training data\")\n",
        "plt.title(\"On Training set\")\n",
        "plt.show()\n",
        "\n",
        "plt.plot(col1,col4, label =\"focus_true_pred_true \")\n",
        "plt.plot(col1,col5, label =\"focus_false_pred_true \")\n",
        "plt.plot(col1,col6, label =\"focus_true_pred_false \")\n",
        "plt.plot(col1,col7, label =\"focus_false_pred_false \")\n",
        "plt.title(\"On Training set\")\n",
        "plt.legend(loc='center left', bbox_to_anchor=(1, 0.5))\n",
        "plt.xlabel(\"epochs\")\n",
        "plt.ylabel(\"training data\")\n",
        "plt.show()"
      ],
      "execution_count": 48,
      "outputs": [
        {
          "output_type": "display_data",
          "data": {
            "image/png": "[encoded data removed]",
            "text/plain": [
              "<Figure size 432x288 with 1 Axes>"
            ]
          },
          "metadata": {
            "tags": [],
            "needs_background": "light"
          }
        },
        {
          "output_type": "display_data",
          "data": {
            "image/png": "[encoded data removed]",
            "text/plain": [
              "<Figure size 432x288 with 1 Axes>"
            ]
          },
          "metadata": {
            "tags": [],
            "needs_background": "light"
          }
        }
      ]
    },
    {
      "cell_type": "code",
      "metadata": {
        "colab": {
          "base_uri": "https://localhost:8080/",
          "height": 354
        },
        "id": "5lhODjqGoSxL",
        "outputId": "30d81ec0-00e3-4883-bf09-28bd2229147c"
      },
      "source": [
        "plt.figure(figsize=(6,5))\n",
        "plt.plot(col1,np.array(col4)/10, label =\"FTPT\")\n",
        "plt.plot(col1,np.array(col5)/10, label =\"FFPT\")\n",
        "plt.plot(col1,np.array(col6)/10, label =\"FTPF\")\n",
        "plt.plot(col1,np.array(col7)/10, label =\"FFPF\")\n",
        "plt.title(\"Dataset4 - SDC On Train set\")\n",
        "plt.grid()\n",
        "# plt.legend(loc='center left', bbox_to_anchor=(1, 0.5))\n",
        "plt.legend() #loc='upper right')\n",
        "plt.xlabel(\"epochs\", fontsize=14, fontweight = 'bold')\n",
        "plt.ylabel(\"percentage train data\", fontsize=14, fontweight = 'bold')\n",
        "plt.savefig(path+\"ds4_train.png\", bbox_inches=\"tight\")\n",
        "plt.savefig(path+\"ds4_train.pdf\", bbox_inches=\"tight\")\n",
        "plt.savefig(\"ds4_train.png\", bbox_inches=\"tight\")\n",
        "plt.savefig(\"ds4_train.pdf\", bbox_inches=\"tight\")\n",
        "plt.show()"
      ],
      "execution_count": 49,
      "outputs": [
        {
          "output_type": "display_data",
          "data": {
            "image/png": "[encoded data removed]",
            "text/plain": [
              "<Figure size 432x360 with 1 Axes>"
            ]
          },
          "metadata": {
            "tags": [],
            "needs_background": "light"
          }
        }
      ]
    },
    {
      "cell_type": "code",
      "metadata": {
        "colab": {
          "base_uri": "https://localhost:8080/",
          "height": 424
        },
        "id": "hrb68lvueMA-",
        "outputId": "e7e65a50-1c87-42f9-ad49-fa94eb0810ab"
      },
      "source": [
        "df_test"
      ],
      "execution_count": 50,
      "outputs": [
        {
          "output_type": "execute_result",
          "data": {
            "text/html": [
              "<div>\n",
              "<style scoped>\n",
              "    .dataframe tbody tr th:only-of-type {\n",
              "        vertical-align: middle;\n",
              "    }\n",
              "\n",
              "    .dataframe tbody tr th {\n",
              "        vertical-align: top;\n",
              "    }\n",
              "\n",
              "    .dataframe thead th {\n",
              "        text-align: right;\n",
              "    }\n",
              "</style>\n",
              "<table border=\"1\" class=\"dataframe\">\n",
              "  <thead>\n",
              "    <tr style=\"text-align: right;\">\n",
              "      <th></th>\n",
              "      <th>epochs</th>\n",
              "      <th>argmax &gt; 0.5</th>\n",
              "      <th>argmax &lt; 0.5</th>\n",
              "      <th>focus_true_pred_true</th>\n",
              "      <th>focus_false_pred_true</th>\n",
              "      <th>focus_true_pred_false</th>\n",
              "      <th>focus_false_pred_false</th>\n",
              "    </tr>\n",
              "  </thead>\n",
              "  <tbody>\n",
              "    <tr>\n",
              "      <th>0</th>\n",
              "      <td>0</td>\n",
              "      <td>0</td>\n",
              "      <td>1000</td>\n",
              "      <td>35</td>\n",
              "      <td>324</td>\n",
              "      <td>81</td>\n",
              "      <td>560</td>\n",
              "    </tr>\n",
              "    <tr>\n",
              "      <th>1</th>\n",
              "      <td>1</td>\n",
              "      <td>0</td>\n",
              "      <td>1000</td>\n",
              "      <td>2</td>\n",
              "      <td>366</td>\n",
              "      <td>5</td>\n",
              "      <td>627</td>\n",
              "    </tr>\n",
              "    <tr>\n",
              "      <th>2</th>\n",
              "      <td>6</td>\n",
              "      <td>0</td>\n",
              "      <td>1000</td>\n",
              "      <td>9</td>\n",
              "      <td>358</td>\n",
              "      <td>13</td>\n",
              "      <td>620</td>\n",
              "    </tr>\n",
              "    <tr>\n",
              "      <th>3</th>\n",
              "      <td>11</td>\n",
              "      <td>0</td>\n",
              "      <td>1000</td>\n",
              "      <td>2</td>\n",
              "      <td>385</td>\n",
              "      <td>7</td>\n",
              "      <td>606</td>\n",
              "    </tr>\n",
              "    <tr>\n",
              "      <th>4</th>\n",
              "      <td>16</td>\n",
              "      <td>0</td>\n",
              "      <td>1000</td>\n",
              "      <td>3</td>\n",
              "      <td>400</td>\n",
              "      <td>2</td>\n",
              "      <td>595</td>\n",
              "    </tr>\n",
              "    <tr>\n",
              "      <th>...</th>\n",
              "      <td>...</td>\n",
              "      <td>...</td>\n",
              "      <td>...</td>\n",
              "      <td>...</td>\n",
              "      <td>...</td>\n",
              "      <td>...</td>\n",
              "      <td>...</td>\n",
              "    </tr>\n",
              "    <tr>\n",
              "      <th>196</th>\n",
              "      <td>976</td>\n",
              "      <td>0</td>\n",
              "      <td>1000</td>\n",
              "      <td>0</td>\n",
              "      <td>411</td>\n",
              "      <td>4</td>\n",
              "      <td>585</td>\n",
              "    </tr>\n",
              "    <tr>\n",
              "      <th>197</th>\n",
              "      <td>981</td>\n",
              "      <td>0</td>\n",
              "      <td>1000</td>\n",
              "      <td>0</td>\n",
              "      <td>407</td>\n",
              "      <td>4</td>\n",
              "      <td>589</td>\n",
              "    </tr>\n",
              "    <tr>\n",
              "      <th>198</th>\n",
              "      <td>986</td>\n",
              "      <td>0</td>\n",
              "      <td>1000</td>\n",
              "      <td>0</td>\n",
              "      <td>406</td>\n",
              "      <td>4</td>\n",
              "      <td>590</td>\n",
              "    </tr>\n",
              "    <tr>\n",
              "      <th>199</th>\n",
              "      <td>991</td>\n",
              "      <td>0</td>\n",
              "      <td>1000</td>\n",
              "      <td>0</td>\n",
              "      <td>407</td>\n",
              "      <td>4</td>\n",
              "      <td>589</td>\n",
              "    </tr>\n",
              "    <tr>\n",
              "      <th>200</th>\n",
              "      <td>996</td>\n",
              "      <td>0</td>\n",
              "      <td>1000</td>\n",
              "      <td>0</td>\n",
              "      <td>409</td>\n",
              "      <td>4</td>\n",
              "      <td>587</td>\n",
              "    </tr>\n",
              "  </tbody>\n",
              "</table>\n",
              "<p>201 rows × 7 columns</p>\n",
              "</div>"
            ],
            "text/plain": [
              "     epochs  argmax > 0.5  ...  focus_true_pred_false  focus_false_pred_false\n",
              "0         0             0  ...                     81                     560\n",
              "1         1             0  ...                      5                     627\n",
              "2         6             0  ...                     13                     620\n",
              "3        11             0  ...                      7                     606\n",
              "4        16             0  ...                      2                     595\n",
              "..      ...           ...  ...                    ...                     ...\n",
              "196     976             0  ...                      4                     585\n",
              "197     981             0  ...                      4                     589\n",
              "198     986             0  ...                      4                     590\n",
              "199     991             0  ...                      4                     589\n",
              "200     996             0  ...                      4                     587\n",
              "\n",
              "[201 rows x 7 columns]"
            ]
          },
          "metadata": {
            "tags": []
          },
          "execution_count": 50
        }
      ]
    },
    {
      "cell_type": "code",
      "metadata": {
        "colab": {
          "base_uri": "https://localhost:8080/",
          "height": 573
        },
        "id": "qR5SnitGeNMN",
        "outputId": "6f005526-cde3-4ab1-980a-388ea8af229b"
      },
      "source": [
        "# plt.figure(12,12)\n",
        "plt.plot(col1,col8, label='argmax > 0.5')\n",
        "plt.plot(col1,col9, label='argmax < 0.5')\n",
        "\n",
        "plt.legend(loc='center left', bbox_to_anchor=(1, 0.5))\n",
        "plt.xlabel(\"epochs\")\n",
        "plt.ylabel(\"Testing data\")\n",
        "plt.title(\"On Testing set\")\n",
        "plt.show()\n",
        "\n",
        "plt.plot(col1,col10, label =\"focus_true_pred_true \")\n",
        "plt.plot(col1,col11, label =\"focus_false_pred_true \")\n",
        "plt.plot(col1,col12, label =\"focus_true_pred_false \")\n",
        "plt.plot(col1,col13, label =\"focus_false_pred_false \")\n",
        "plt.title(\"On Testing set\")\n",
        "plt.legend(loc='center left', bbox_to_anchor=(1, 0.5))\n",
        "plt.xlabel(\"epochs\")\n",
        "plt.ylabel(\"Testing data\")\n",
        "plt.show()"
      ],
      "execution_count": 51,
      "outputs": [
        {
          "output_type": "display_data",
          "data": {
            "image/png": "[encoded data removed]",
            "text/plain": [
              "<Figure size 432x288 with 1 Axes>"
            ]
          },
          "metadata": {
            "tags": [],
            "needs_background": "light"
          }
        },
        {
          "output_type": "display_data",
          "data": {
            "image/png": "[encoded data removed]",
            "text/plain": [
              "<Figure size 432x288 with 1 Axes>"
            ]
          },
          "metadata": {
            "tags": [],
            "needs_background": "light"
          }
        }
      ]
    },
    {
      "cell_type": "code",
      "metadata": {
        "colab": {
          "base_uri": "https://localhost:8080/",
          "height": 354
        },
        "id": "vwP4uAKyoaq7",
        "outputId": "6a069b58-1604-436d-df53-6b173dfb964d"
      },
      "source": [
        "plt.figure(figsize=(6,5))\n",
        "plt.plot(col1,np.array(col10)/10, label =\"FTPT\")\n",
        "plt.plot(col1,np.array(col11)/10, label =\"FFPT\")\n",
        "plt.plot(col1,np.array(col12)/10, label =\"FTPF\")\n",
        "plt.plot(col1,np.array(col13)/10, label =\"FFPF\")\n",
        "plt.title(\"Dataset4 - SDC On Test set\")\n",
        "plt.grid()\n",
        "# plt.legend(loc='center left', bbox_to_anchor=(1, 0.5))\n",
        "plt.legend() #loc='upper right')\n",
        "plt.xlabel(\"epochs\", fontsize=14, fontweight = 'bold')\n",
        "plt.ylabel(\"percentage test data\", fontsize=14, fontweight = 'bold')\n",
        "plt.savefig(path+\"ds4_test.png\", bbox_inches=\"tight\")\n",
        "plt.savefig(path+\"ds4_test.pdf\", bbox_inches=\"tight\")\n",
        "plt.savefig(\"ds4_test.png\", bbox_inches=\"tight\")\n",
        "plt.savefig(\"ds4_test.pdf\", bbox_inches=\"tight\")\n",
        "plt.show()"
      ],
      "execution_count": 52,
      "outputs": [
        {
          "output_type": "display_data",
          "data": {
            "image/png": "[encoded data removed]",
            "text/plain": [
              "<Figure size 432x360 with 1 Axes>"
            ]
          },
          "metadata": {
            "tags": [],
            "needs_background": "light"
          }
        }
      ]
    },
    {
      "cell_type": "code",
      "metadata": {
        "colab": {
          "base_uri": "https://localhost:8080/"
        },
        "id": "TGrzYDWxeO6m",
        "outputId": "ad718dd3-c239-4287-c775-c5b79af342e1"
      },
      "source": [
        "correct = 0\n",
        "total = 0\n",
        "count = 0\n",
        "flag = 1\n",
        "focus_true_pred_true =0\n",
        "focus_false_pred_true =0\n",
        "focus_true_pred_false =0\n",
        "focus_false_pred_false =0\n",
        "\n",
        "argmax_more_than_half = 0\n",
        "argmax_less_than_half =0\n",
        "\n",
        "with torch.no_grad():\n",
        "  for data in train_loader:\n",
        "    inputs, labels , fore_idx = data\n",
        "    inputs = inputs.double()\n",
        "    inputs, labels , fore_idx = inputs.to(\"cuda\"),labels.to(\"cuda\"), fore_idx.to(\"cuda\")\n",
        "    alphas, avg_images = focus_net(inputs)\n",
        "    outputs = classify(avg_images)\n",
        "\n",
        "    _, predicted = torch.max(outputs.data, 1)\n",
        "\n",
        "    for j in range(labels.size(0)):\n",
        "      focus = torch.argmax(alphas[j])\n",
        "      if alphas[j][focus] >= 0.5 :\n",
        "        argmax_more_than_half += 1\n",
        "      else:\n",
        "        argmax_less_than_half += 1\n",
        "\n",
        "      if(focus == fore_idx[j] and predicted[j] == labels[j]):\n",
        "          focus_true_pred_true += 1\n",
        "      elif(focus != fore_idx[j] and predicted[j] == labels[j]):\n",
        "        focus_false_pred_true += 1\n",
        "      elif(focus == fore_idx[j] and predicted[j] != labels[j]):\n",
        "        focus_true_pred_false += 1\n",
        "      elif(focus != fore_idx[j] and predicted[j] != labels[j]):\n",
        "        focus_false_pred_false += 1\n",
        "\n",
        "    total += labels.size(0)\n",
        "    correct += (predicted == labels).sum().item()\n",
        "\n",
        "print('Accuracy of the network on the 1000 train images: %d %%' % (\n",
        "    100 * correct / total))\n",
        "print(\"total correct\", correct)\n",
        "print(\"total train set images\", total)\n",
        "\n",
        "print(\"focus_true_pred_true %d =============> FTPT : %d %%\" % (focus_true_pred_true , (100 * focus_true_pred_true / total) ) )\n",
        "print(\"focus_false_pred_true %d =============> FFPT : %d %%\" % (focus_false_pred_true, (100 * focus_false_pred_true / total) ) )\n",
        "print(\"focus_true_pred_false %d =============> FTPF : %d %%\" %( focus_true_pred_false , ( 100 * focus_true_pred_false / total) ) )\n",
        "print(\"focus_false_pred_false %d =============> FFPF : %d %%\" % (focus_false_pred_false, ( 100 * focus_false_pred_false / total) ) )\n",
        "\n",
        "print(\"argmax_more_than_half ==================> \",argmax_more_than_half)\n",
        "print(\"argmax_less_than_half ==================> \",argmax_less_than_half)"
      ],
      "execution_count": 53,
      "outputs": [
        {
          "output_type": "stream",
          "text": [
            "Accuracy of the network on the 1000 train images: 40 %\n",
            "total correct 403\n",
            "total train set images 1000\n",
            "focus_true_pred_true 0 =============> FTPT : 0 %\n",
            "focus_false_pred_true 403 =============> FFPT : 40 %\n",
            "focus_true_pred_false 5 =============> FTPF : 0 %\n",
            "focus_false_pred_false 592 =============> FFPF : 59 %\n",
            "argmax_more_than_half ==================>  0\n",
            "argmax_less_than_half ==================>  1000\n"
          ],
          "name": "stdout"
        }
      ]
    },
    {
      "cell_type": "code",
      "metadata": {
        "colab": {
          "base_uri": "https://localhost:8080/"
        },
        "id": "67_H9pkCeQNs",
        "outputId": "4bd4ac52-935a-448d-a94b-c2b5c4c87a10"
      },
      "source": [
        "correct = 0\n",
        "total = 0\n",
        "count = 0\n",
        "flag = 1\n",
        "focus_true_pred_true =0\n",
        "focus_false_pred_true =0\n",
        "focus_true_pred_false =0\n",
        "focus_false_pred_false =0\n",
        "\n",
        "argmax_more_than_half = 0\n",
        "argmax_less_than_half =0\n",
        "\n",
        "with torch.no_grad():\n",
        "  for data in test_loader:\n",
        "    inputs, labels , fore_idx = data\n",
        "    inputs = inputs.double()\n",
        "    inputs, labels , fore_idx = inputs.to(\"cuda\"),labels.to(\"cuda\"), fore_idx.to(\"cuda\")\n",
        "    alphas, avg_images = focus_net(inputs)\n",
        "    outputs = classify(avg_images)\n",
        "\n",
        "    _, predicted = torch.max(outputs.data, 1)\n",
        "\n",
        "    for j in range(labels.size(0)):\n",
        "      focus = torch.argmax(alphas[j])\n",
        "      if alphas[j][focus] >= 0.5 :\n",
        "        argmax_more_than_half += 1\n",
        "      else:\n",
        "        argmax_less_than_half += 1\n",
        "\n",
        "      if(focus == fore_idx[j] and predicted[j] == labels[j]):\n",
        "          focus_true_pred_true += 1\n",
        "      elif(focus != fore_idx[j] and predicted[j] == labels[j]):\n",
        "        focus_false_pred_true += 1\n",
        "      elif(focus == fore_idx[j] and predicted[j] != labels[j]):\n",
        "        focus_true_pred_false += 1\n",
        "      elif(focus != fore_idx[j] and predicted[j] != labels[j]):\n",
        "        focus_false_pred_false += 1\n",
        "\n",
        "    total += labels.size(0)\n",
        "    correct += (predicted == labels).sum().item()\n",
        "\n",
        "print('Accuracy of the network on the 1000 test images: %d %%' % (\n",
        "    100 * correct / total))\n",
        "print(\"total correct\", correct)\n",
        "print(\"total train set images\", total)\n",
        "\n",
        "print(\"focus_true_pred_true %d =============> FTPT : %d %%\" % (focus_true_pred_true , (100 * focus_true_pred_true / total) ) )\n",
        "print(\"focus_false_pred_true %d =============> FFPT : %d %%\" % (focus_false_pred_true, (100 * focus_false_pred_true / total) ) )\n",
        "print(\"focus_true_pred_false %d =============> FTPF : %d %%\" %( focus_true_pred_false , ( 100 * focus_true_pred_false / total) ) )\n",
        "print(\"focus_false_pred_false %d =============> FFPF : %d %%\" % (focus_false_pred_false, ( 100 * focus_false_pred_false / total) ) )\n",
        "\n",
        "print(\"argmax_more_than_half ==================> \",argmax_more_than_half)\n",
        "print(\"argmax_less_than_half ==================> \",argmax_less_than_half)"
      ],
      "execution_count": 54,
      "outputs": [
        {
          "output_type": "stream",
          "text": [
            "Accuracy of the network on the 1000 test images: 41 %\n",
            "total correct 410\n",
            "total train set images 1000\n",
            "focus_true_pred_true 0 =============> FTPT : 0 %\n",
            "focus_false_pred_true 410 =============> FFPT : 41 %\n",
            "focus_true_pred_false 4 =============> FTPF : 0 %\n",
            "focus_false_pred_false 586 =============> FFPF : 58 %\n",
            "argmax_more_than_half ==================>  0\n",
            "argmax_less_than_half ==================>  1000\n"
          ],
          "name": "stdout"
        }
      ]
    },
    {
      "cell_type": "code",
      "metadata": {
        "colab": {
          "base_uri": "https://localhost:8080/"
        },
        "id": "jhvhkEAyeRpt",
        "outputId": "085e5709-dd26-463a-fae4-972996dbcaed"
      },
      "source": [
        "correct = 0\n",
        "total = 0\n",
        "\n",
        "with torch.no_grad():\n",
        "  for data in train_loader:\n",
        "    inputs, labels , fore_idx = data\n",
        "    inputs = inputs.double()\n",
        "    inputs, labels = inputs.to(\"cuda\"), labels.to(\"cuda\")\n",
        "    alphas, avg_images = focus_net(inputs)\n",
        "    outputs = classify(avg_images)\n",
        "\n",
        "    _, predicted = torch.max(outputs.data, 1)\n",
        "\n",
        "    total += labels.size(0)\n",
        "    correct += (predicted == labels).sum().item()\n",
        "\n",
        "print('Accuracy of the network on the 1000 train images: %d %%' % ( 100 * correct / total))\n",
        "print(\"total correct\", correct)\n",
        "print(\"total train set images\", total)"
      ],
      "execution_count": 55,
      "outputs": [
        {
          "output_type": "stream",
          "text": [
            "Accuracy of the network on the 1000 train images: 40 %\n",
            "total correct 403\n",
            "total train set images 1000\n"
          ],
          "name": "stdout"
        }
      ]
    },
    {
      "cell_type": "code",
      "metadata": {
        "colab": {
          "base_uri": "https://localhost:8080/"
        },
        "id": "OKcmpKwGeS8M",
        "outputId": "0dcb52e6-a049-48e4-9b73-bfd8669170fc"
      },
      "source": [
        "correct = 0\n",
        "total = 0\n",
        "\n",
        "with torch.no_grad():\n",
        "  for data in test_loader:\n",
        "    inputs, labels , fore_idx = data\n",
        "    inputs = inputs.double()\n",
        "    inputs, labels = inputs.to(\"cuda\"), labels.to(\"cuda\")\n",
        "    alphas, avg_images = focus_net(inputs)\n",
        "    outputs = classify(avg_images)\n",
        "\n",
        "    _, predicted = torch.max(outputs.data, 1)\n",
        "\n",
        "    total += labels.size(0)\n",
        "    correct += (predicted == labels).sum().item()\n",
        "\n",
        "print('Accuracy of the network on the 1000 test images: %d %%' % ( 100 * correct / total))\n",
        "print(\"total correct\", correct)\n",
        "print(\"total train set images\", total)"
      ],
      "execution_count": 56,
      "outputs": [
        {
          "output_type": "stream",
          "text": [
            "Accuracy of the network on the 1000 test images: 41 %\n",
            "total correct 410\n",
            "total train set images 1000\n"
          ],
          "name": "stdout"
        }
      ]
    },
    {
      "cell_type": "code",
      "metadata": {
        "id": "xlalQug_egcl"
      },
      "source": [
        ""
      ],
      "execution_count": null,
      "outputs": []
    }
  ]
}