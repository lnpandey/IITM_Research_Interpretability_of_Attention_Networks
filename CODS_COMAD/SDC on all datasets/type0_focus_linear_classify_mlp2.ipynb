{
  "nbformat": 4,
  "nbformat_minor": 0,
  "metadata": {
    "accelerator": "GPU",
    "colab": {
      "name": "type0_focus_linear_classify_mlp2.ipynb",
      "provenance": [],
      "collapsed_sections": []
    },
    "kernelspec": {
      "display_name": "Python 3",
      "language": "python",
      "name": "python3"
    },
    "language_info": {
      "codemirror_mode": {
        "name": "ipython",
        "version": 3
      },
      "file_extension": ".py",
      "mimetype": "text/x-python",
      "name": "python",
      "nbconvert_exporter": "python",
      "pygments_lexer": "ipython3",
      "version": "3.6.5"
    }
  },
  "cells": [
    {
      "cell_type": "code",
      "metadata": {
        "colab": {
          "base_uri": "https://localhost:8080/"
        },
        "id": "N2_J4Rw2r0SQ",
        "outputId": "625b90f2-3ac4-4306-ffbf-43d0883b452e"
      },
      "source": [
        "import numpy as np\n",
        "import pandas as pd\n",
        "from matplotlib import pyplot as plt\n",
        "from tqdm import tqdm\n",
        "%matplotlib inline\n",
        "from torch.utils.data import Dataset, DataLoader\n",
        "import torch\n",
        "import torchvision\n",
        "\n",
        "import torch.nn as nn\n",
        "import torch.optim as optim\n",
        "from torch.nn import functional as F\n",
        "device = torch.device(\"cuda\" if torch.cuda.is_available() else \"cpu\")\n",
        "print(device)"
      ],
      "execution_count": 1,
      "outputs": [
        {
          "output_type": "stream",
          "text": [
            "cuda\n"
          ],
          "name": "stdout"
        }
      ]
    },
    {
      "cell_type": "markdown",
      "metadata": {
        "id": "F6fjud_Fr0Sa"
      },
      "source": [
        "# Generate dataset"
      ]
    },
    {
      "cell_type": "code",
      "metadata": {
        "colab": {
          "base_uri": "https://localhost:8080/"
        },
        "id": "CqdXHO0Cr0Sd",
        "outputId": "3064aaff-c9d6-467a-8435-3e3930f730e2"
      },
      "source": [
        "y = np.random.randint(0,3,500)\n",
        "idx= []\n",
        "for i in range(3):\n",
        "    print(i,sum(y==i))\n",
        "    idx.append(y==i)"
      ],
      "execution_count": 2,
      "outputs": [
        {
          "output_type": "stream",
          "text": [
            "0 170\n",
            "1 153\n",
            "2 177\n"
          ],
          "name": "stdout"
        }
      ]
    },
    {
      "cell_type": "code",
      "metadata": {
        "id": "ddhXyODwr0Sk"
      },
      "source": [
        "x = np.zeros((500,))"
      ],
      "execution_count": 3,
      "outputs": []
    },
    {
      "cell_type": "code",
      "metadata": {
        "id": "DyV3N2DIr0Sp"
      },
      "source": [
        "np.random.seed(12)\n",
        "x[idx[0]] = np.random.uniform(low =-1,high =0,size= sum(idx[0]))\n",
        "x[idx[1]] = np.random.uniform(low =0,high =1,size= sum(idx[1]))\n",
        "x[idx[2]] = np.random.uniform(low =2,high =3,size= sum(idx[2]))"
      ],
      "execution_count": 4,
      "outputs": []
    },
    {
      "cell_type": "code",
      "metadata": {
        "colab": {
          "base_uri": "https://localhost:8080/"
        },
        "id": "qh1mDScsU07I",
        "outputId": "1b6957b2-0050-43f2-b7e6-6846d5d77c94"
      },
      "source": [
        "x[idx[0]][0], x[idx[2]][5] "
      ],
      "execution_count": 5,
      "outputs": [
        {
          "output_type": "execute_result",
          "data": {
            "text/plain": [
              "(-0.8458371576203276, 2.1642984799024068)"
            ]
          },
          "metadata": {
            "tags": []
          },
          "execution_count": 5
        }
      ]
    },
    {
      "cell_type": "code",
      "metadata": {
        "colab": {
          "base_uri": "https://localhost:8080/"
        },
        "id": "9Vr5ErQ_wSrV",
        "outputId": "b6c7b3ad-3f8f-49a0-cae4-7a906e178789"
      },
      "source": [
        "print(x.shape,y.shape)"
      ],
      "execution_count": 6,
      "outputs": [
        {
          "output_type": "stream",
          "text": [
            "(500,) (500,)\n"
          ],
          "name": "stdout"
        }
      ]
    },
    {
      "cell_type": "code",
      "metadata": {
        "id": "NG-3RpffwU_i"
      },
      "source": [
        "idx= []\n",
        "for i in range(3):\n",
        "  idx.append(y==i)"
      ],
      "execution_count": 7,
      "outputs": []
    },
    {
      "cell_type": "code",
      "metadata": {
        "colab": {
          "base_uri": "https://localhost:8080/",
          "height": 284
        },
        "id": "hJ8Jm7YUr0St",
        "outputId": "df947aea-7a10-427d-dcc6-362db2cf9c57"
      },
      "source": [
        "for i in range(3):\n",
        "    y= np.zeros(x[idx[i]].shape[0])\n",
        "    plt.scatter(x[idx[i]],y,label=\"class_\"+str(i))\n",
        "plt.legend()"
      ],
      "execution_count": 8,
      "outputs": [
        {
          "output_type": "execute_result",
          "data": {
            "text/plain": [
              "<matplotlib.legend.Legend at 0x7f0c4775a3d0>"
            ]
          },
          "metadata": {
            "tags": []
          },
          "execution_count": 8
        },
        {
          "output_type": "display_data",
          "data": {
            "image/png": "[encoded data removed]",
            "text/plain": [
              "<Figure size 432x288 with 1 Axes>"
            ]
          },
          "metadata": {
            "tags": [],
            "needs_background": "light"
          }
        }
      ]
    },
    {
      "cell_type": "code",
      "metadata": {
        "colab": {
          "base_uri": "https://localhost:8080/"
        },
        "id": "3lMBZEHNBlF2",
        "outputId": "b85c95df-c615-49f0-8f08-4c7950f5e475"
      },
      "source": [
        "bg_idx = [ np.where(idx[2] == True)[0]]\n",
        "\n",
        "bg_idx = np.concatenate(bg_idx, axis = 0)\n",
        "bg_idx.shape"
      ],
      "execution_count": 9,
      "outputs": [
        {
          "output_type": "execute_result",
          "data": {
            "text/plain": [
              "(177,)"
            ]
          },
          "metadata": {
            "tags": []
          },
          "execution_count": 9
        }
      ]
    },
    {
      "cell_type": "code",
      "metadata": {
        "colab": {
          "base_uri": "https://localhost:8080/"
        },
        "id": "blRbGZHeCwXU",
        "outputId": "a8c1e91f-dd68-44f9-c10b-75d8e4a1d8b9"
      },
      "source": [
        "np.unique(bg_idx).shape"
      ],
      "execution_count": 10,
      "outputs": [
        {
          "output_type": "execute_result",
          "data": {
            "text/plain": [
              "(177,)"
            ]
          },
          "metadata": {
            "tags": []
          },
          "execution_count": 10
        }
      ]
    },
    {
      "cell_type": "code",
      "metadata": {
        "id": "Y43sWeX7C15F"
      },
      "source": [
        "x = x - np.mean(x[bg_idx], axis = 0, keepdims = True)\n"
      ],
      "execution_count": 11,
      "outputs": []
    },
    {
      "cell_type": "code",
      "metadata": {
        "colab": {
          "base_uri": "https://localhost:8080/"
        },
        "id": "ooII7N6UDWe0",
        "outputId": "65506bc0-797d-4628-a50c-2da8341d8dae"
      },
      "source": [
        "np.mean(x[bg_idx], axis = 0, keepdims = True), np.mean(x, axis = 0, keepdims = True)"
      ],
      "execution_count": 12,
      "outputs": [
        {
          "output_type": "execute_result",
          "data": {
            "text/plain": [
              "(array([-9.53411863e-17]), array([-1.65042867]))"
            ]
          },
          "metadata": {
            "tags": []
          },
          "execution_count": 12
        }
      ]
    },
    {
      "cell_type": "code",
      "metadata": {
        "id": "g21bvPRYDL9k"
      },
      "source": [
        "x = x/np.std(x[bg_idx], axis = 0, keepdims = True)"
      ],
      "execution_count": 13,
      "outputs": []
    },
    {
      "cell_type": "code",
      "metadata": {
        "colab": {
          "base_uri": "https://localhost:8080/"
        },
        "id": "GtFvIeHsDZJk",
        "outputId": "6e3ecabe-edb4-4cc9-f7d0-57c4d21b7ba3"
      },
      "source": [
        "np.std(x[bg_idx], axis = 0, keepdims = True), np.std(x, axis = 0, keepdims = True)"
      ],
      "execution_count": 14,
      "outputs": [
        {
          "output_type": "execute_result",
          "data": {
            "text/plain": [
              "(array([1.]), array([4.38390103]))"
            ]
          },
          "metadata": {
            "tags": []
          },
          "execution_count": 14
        }
      ]
    },
    {
      "cell_type": "code",
      "metadata": {
        "colab": {
          "base_uri": "https://localhost:8080/",
          "height": 284
        },
        "id": "8-VLhUfDDeHt",
        "outputId": "66da6627-bb9b-4cc3-f1ce-aa3444580d76"
      },
      "source": [
        "for i in range(3):\n",
        "    y= np.zeros(x[idx[i]].shape[0])\n",
        "    plt.scatter(x[idx[i]],y,label=\"class_\"+str(i))\n",
        "plt.legend()"
      ],
      "execution_count": 15,
      "outputs": [
        {
          "output_type": "execute_result",
          "data": {
            "text/plain": [
              "<matplotlib.legend.Legend at 0x7f0c471f7cd0>"
            ]
          },
          "metadata": {
            "tags": []
          },
          "execution_count": 15
        },
        {
          "output_type": "display_data",
          "data": {
            "image/png": "[encoded data removed]",
            "text/plain": [
              "<Figure size 432x288 with 1 Axes>"
            ]
          },
          "metadata": {
            "tags": [],
            "needs_background": "light"
          }
        }
      ]
    },
    {
      "cell_type": "code",
      "metadata": {
        "id": "UfFHcZJOr0Sz"
      },
      "source": [
        "foreground_classes = {'class_0','class_1' }\n",
        "\n",
        "background_classes = {'class_2'}"
      ],
      "execution_count": 16,
      "outputs": []
    },
    {
      "cell_type": "code",
      "metadata": {
        "colab": {
          "base_uri": "https://localhost:8080/"
        },
        "id": "OplNpNQVr0S2",
        "outputId": "98c9b452-699f-4f0a-c3f2-441122343e9f"
      },
      "source": [
        "fg_class  = np.random.randint(0,2)\n",
        "fg_idx = np.random.randint(0,9)\n",
        "\n",
        "a = []\n",
        "for i in range(9):\n",
        "    if i == fg_idx:\n",
        "        b = np.random.choice(np.where(idx[fg_class]==True)[0],size=1)\n",
        "        a.append(x[b])\n",
        "        print(\"foreground \"+str(fg_class)+\" present at \" + str(fg_idx))\n",
        "    else:\n",
        "        bg_class = np.random.randint(2,3)\n",
        "        b = np.random.choice(np.where(idx[bg_class]==True)[0],size=1)\n",
        "        a.append(x[b])\n",
        "        print(\"background \"+str(bg_class)+\" present at \" + str(i))\n",
        "a = np.concatenate(a,axis=0)\n",
        "print(a.shape)\n",
        "\n",
        "print(fg_class , fg_idx)"
      ],
      "execution_count": 17,
      "outputs": [
        {
          "output_type": "stream",
          "text": [
            "background 2 present at 0\n",
            "background 2 present at 1\n",
            "background 2 present at 2\n",
            "background 2 present at 3\n",
            "background 2 present at 4\n",
            "background 2 present at 5\n",
            "background 2 present at 6\n",
            "background 2 present at 7\n",
            "foreground 1 present at 8\n",
            "(9,)\n",
            "1 8\n"
          ],
          "name": "stdout"
        }
      ]
    },
    {
      "cell_type": "code",
      "metadata": {
        "colab": {
          "base_uri": "https://localhost:8080/"
        },
        "id": "dwZVmmRBr0S8",
        "outputId": "913fc32a-1780-4a70-c062-0c42721ffec5"
      },
      "source": [
        "a.shape"
      ],
      "execution_count": 18,
      "outputs": [
        {
          "output_type": "execute_result",
          "data": {
            "text/plain": [
              "(9,)"
            ]
          },
          "metadata": {
            "tags": []
          },
          "execution_count": 18
        }
      ]
    },
    {
      "cell_type": "code",
      "metadata": {
        "colab": {
          "base_uri": "https://localhost:8080/"
        },
        "id": "OoxzYI-ur0S_",
        "outputId": "447c3c91-ed22-400d-f355-4665a0286444"
      },
      "source": [
        "np.reshape(a,(9,1))"
      ],
      "execution_count": 19,
      "outputs": [
        {
          "output_type": "execute_result",
          "data": {
            "text/plain": [
              "array([[-0.88422113],\n",
              "       [-1.54249642],\n",
              "       [ 0.38795682],\n",
              "       [-1.32306279],\n",
              "       [ 0.14713602],\n",
              "       [-1.06112197],\n",
              "       [ 1.09322434],\n",
              "       [ 0.14713602],\n",
              "       [-5.08438429]])"
            ]
          },
          "metadata": {
            "tags": []
          },
          "execution_count": 19
        }
      ]
    },
    {
      "cell_type": "code",
      "metadata": {
        "id": "y4ruI0cxr0TE"
      },
      "source": [
        "a=np.reshape(a,(3,3))"
      ],
      "execution_count": 20,
      "outputs": []
    },
    {
      "cell_type": "code",
      "metadata": {
        "colab": {
          "base_uri": "https://localhost:8080/",
          "height": 288
        },
        "id": "RTUTFhJIr0TI",
        "outputId": "1f1d84ee-af50-456d-997c-f59279151e8d"
      },
      "source": [
        "plt.imshow(a)"
      ],
      "execution_count": 21,
      "outputs": [
        {
          "output_type": "execute_result",
          "data": {
            "text/plain": [
              "<matplotlib.image.AxesImage at 0x7f0c471bf450>"
            ]
          },
          "metadata": {
            "tags": []
          },
          "execution_count": 21
        },
        {
          "output_type": "display_data",
          "data": {
            "image/png": "[encoded data removed]",
            "text/plain": [
              "<Figure size 432x288 with 1 Axes>"
            ]
          },
          "metadata": {
            "tags": [],
            "needs_background": "light"
          }
        }
      ]
    },
    {
      "cell_type": "code",
      "metadata": {
        "id": "jqbvfbwVr0TN"
      },
      "source": [
        "desired_num = 2000\n",
        "mosaic_list_of_images =[]\n",
        "mosaic_label = []\n",
        "fore_idx=[]\n",
        "for j in range(desired_num):\n",
        "    np.random.seed(j)\n",
        "    fg_class  = np.random.randint(0,2)\n",
        "    fg_idx = 0\n",
        "    a = []\n",
        "    for i in range(9):\n",
        "        if i == fg_idx:\n",
        "            b = np.random.choice(np.where(idx[fg_class]==True)[0],size=1)\n",
        "            a.append(x[b])\n",
        "#             print(\"foreground \"+str(fg_class)+\" present at \" + str(fg_idx))\n",
        "        else:\n",
        "            bg_class = np.random.randint(2,3)\n",
        "            b = np.random.choice(np.where(idx[bg_class]==True)[0],size=1)\n",
        "            a.append(x[b])\n",
        "#             print(\"background \"+str(bg_class)+\" present at \" + str(i))\n",
        "    a = np.concatenate(a,axis=0)\n",
        "    mosaic_list_of_images.append(np.reshape(a,(9,1)))\n",
        "    mosaic_label.append(fg_class)\n",
        "    fore_idx.append(fg_idx)"
      ],
      "execution_count": 22,
      "outputs": []
    },
    {
      "cell_type": "code",
      "metadata": {
        "id": "BOsFmWfMr0TR"
      },
      "source": [
        "mosaic_list_of_images = np.concatenate(mosaic_list_of_images,axis=1).T\n"
      ],
      "execution_count": 23,
      "outputs": []
    },
    {
      "cell_type": "code",
      "metadata": {
        "colab": {
          "base_uri": "https://localhost:8080/"
        },
        "id": "2aIPMgLXNiXW",
        "outputId": "570ca0cb-af1c-4c5d-c809-74f9027cdf42"
      },
      "source": [
        "mosaic_list_of_images.shape, mosaic_list_of_images[0]"
      ],
      "execution_count": 24,
      "outputs": [
        {
          "output_type": "execute_result",
          "data": {
            "text/plain": [
              "((2000, 9), array([-10.45233238,  -0.41205232,  -0.2304803 ,   1.20825699,\n",
              "         -1.06112197,  -0.52117449,   0.79684277,   1.10225864,\n",
              "          1.34027337]))"
            ]
          },
          "metadata": {
            "tags": []
          },
          "execution_count": 24
        }
      ]
    },
    {
      "cell_type": "code",
      "metadata": {
        "colab": {
          "base_uri": "https://localhost:8080/"
        },
        "id": "A3qcsbbzPfRG",
        "outputId": "0f9431e5-77c1-4e92-a7ea-6814f2a3b7ea"
      },
      "source": [
        "for j in range(9):\n",
        "  print(mosaic_list_of_images[0][j])\n",
        "  "
      ],
      "execution_count": 25,
      "outputs": [
        {
          "output_type": "stream",
          "text": [
            "-10.452332381919646\n",
            "-0.41205231669044057\n",
            "-0.23048030257382682\n",
            "1.208256989645829\n",
            "-1.0611219740318574\n",
            "-0.5211744864394691\n",
            "0.7968427723780335\n",
            "1.1022586374383458\n",
            "1.3402733717801159\n"
          ],
          "name": "stdout"
        }
      ]
    },
    {
      "cell_type": "code",
      "metadata": {
        "id": "iPoIwbMHx44n"
      },
      "source": [
        "class MosaicDataset(Dataset):\n",
        "  \"\"\"MosaicDataset dataset.\"\"\"\n",
        "\n",
        "  def __init__(self, mosaic_list_of_images, mosaic_label, fore_idx):\n",
        "    \"\"\"\n",
        "      Args:\n",
        "        csv_file (string): Path to the csv file with annotations.\n",
        "        root_dir (string): Directory with all the images.\n",
        "        transform (callable, optional): Optional transform to be applied\n",
        "            on a sample.\n",
        "    \"\"\"\n",
        "    self.mosaic = mosaic_list_of_images\n",
        "    self.label = mosaic_label\n",
        "    self.fore_idx = fore_idx\n",
        "\n",
        "  def __len__(self):\n",
        "    return len(self.label)\n",
        "\n",
        "  def __getitem__(self, idx):\n",
        "    return self.mosaic[idx] , self.label[idx], self.fore_idx[idx]\n",
        "\n"
      ],
      "execution_count": 26,
      "outputs": []
    },
    {
      "cell_type": "code",
      "metadata": {
        "id": "fOPAJQJeW8Ah"
      },
      "source": [
        "batch = 250\n",
        "msd1 = MosaicDataset(mosaic_list_of_images[0:1000], mosaic_label[0:1000] , fore_idx[0:1000])\n",
        "train_loader = DataLoader( msd1 ,batch_size= batch ,shuffle=True)"
      ],
      "execution_count": 27,
      "outputs": []
    },
    {
      "cell_type": "code",
      "metadata": {
        "id": "qjNiQgxZW8bA"
      },
      "source": [
        "batch = 250\n",
        "msd2 = MosaicDataset(mosaic_list_of_images[1000:2000], mosaic_label[1000:2000] , fore_idx[1000:2000])\n",
        "test_loader = DataLoader( msd2 ,batch_size= batch ,shuffle=True)"
      ],
      "execution_count": 28,
      "outputs": []
    },
    {
      "cell_type": "code",
      "metadata": {
        "id": "30ZAjix3x8CM"
      },
      "source": [
        "class Focus(nn.Module):\n",
        "  def __init__(self):\n",
        "    super(Focus, self).__init__()\n",
        "\n",
        "    self.fc1 = nn.Linear(1, 1)\n",
        "    # self.fc2 = nn.Linear(2, 1)\n",
        "\n",
        "  def forward(self,z):  #y is avg image #z batch of list of 9 images\n",
        "    y = torch.zeros([batch], dtype=torch.float64)\n",
        "    x = torch.zeros([batch,9],dtype=torch.float64)\n",
        "    y = y.to(\"cuda\")\n",
        "    x = x.to(\"cuda\")\n",
        "    # print(x.shape, z.shape)\n",
        "    for i in range(9):\n",
        "      # print(z[:,i].shape)\n",
        "      # print(self.helper(z[:,i])[:,0].shape)\n",
        "      x[:,i] = self.helper(z[:,i])[:,0]\n",
        "    # print(x.shape, z.shape)\n",
        "    x = F.softmax(x,dim=1)\n",
        "    # print(x.shape, z.shape)\n",
        "    # x1 = x[:,0]\n",
        "    # print(torch.mul(x[:,0],z[:,0]).shape)\n",
        "\n",
        "    for i in range(9):            \n",
        "      # x1 = x[:,i]          \n",
        "      y = y + torch.mul(x[:,i],z[:,i])\n",
        "\n",
        "    # print(x.shape, y.shape)\n",
        "    return x, y\n",
        "    \n",
        "  def helper(self, x):\n",
        "    x = x.view(-1, 1)\n",
        "    # x = F.relu(self.fc1(x))\n",
        "    x = (self.fc1(x))\n",
        "\n",
        "    return x"
      ],
      "execution_count": 50,
      "outputs": []
    },
    {
      "cell_type": "code",
      "metadata": {
        "id": "0dYXnywAD-4l"
      },
      "source": [
        "class Classification(nn.Module):\n",
        "  def __init__(self):\n",
        "    super(Classification, self).__init__()\n",
        "    self.fc1 = nn.Linear(1, 50)\n",
        "    self.fc2 = nn.Linear(50, 10)\n",
        "    self.fc3 = nn.Linear(10, 2)\n",
        "\n",
        "\n",
        "  def forward(self, x):\n",
        "    x = x.view(-1, 1)\n",
        "    x = F.relu(self.fc1(x))\n",
        "    x = F.relu(self.fc2(x))\n",
        "    x = (self.fc3(x))\n",
        "    return x"
      ],
      "execution_count": 51,
      "outputs": []
    },
    {
      "cell_type": "code",
      "metadata": {
        "id": "r4Tg1pV3Wj8C"
      },
      "source": [
        "# test_images =[]        #list of mosaic images, each mosaic image is saved as laist of 9 images\n",
        "# fore_idx_test =[]                   #list of indexes at which foreground image is present in a mosaic image                \n",
        "# test_label=[]                # label of mosaic image = foreground class present in that mosaic\n",
        "# for i in range(10000):\n",
        "#   bg_idx = np.random.randint(0,47335,8)\n",
        "#   fg_idx = np.random.randint(0,12665)\n",
        "#   fg = np.random.randint(0,9)\n",
        "#   fore_idx_test.append(fg)\n",
        "#   image_list,label = create_mosaic_img(bg_idx,fg_idx,fg)\n",
        "#   test_images.append(image_list)\n",
        "#   test_label.append(label)"
      ],
      "execution_count": 52,
      "outputs": []
    },
    {
      "cell_type": "code",
      "metadata": {
        "id": "lSa6O9f6XNf4"
      },
      "source": [
        "torch.manual_seed(12)\n",
        "focus_net = Focus().double()\n",
        "focus_net = focus_net.to(\"cuda\")"
      ],
      "execution_count": 53,
      "outputs": []
    },
    {
      "cell_type": "code",
      "metadata": {
        "id": "36k3H2G-XO9A"
      },
      "source": [
        "torch.manual_seed(12)\n",
        "classify = Classification().double()\n",
        "classify = classify.to(\"cuda\")"
      ],
      "execution_count": 54,
      "outputs": []
    },
    {
      "cell_type": "code",
      "metadata": {
        "id": "7MHBbL7FXRQk"
      },
      "source": [
        "import torch.optim as optim\n",
        "criterion = nn.CrossEntropyLoss()\n",
        "optimizer_classify = optim.SGD(classify.parameters(), lr=0.01, momentum=0.9)\n",
        "optimizer_focus = optim.SGD(focus_net.parameters(), lr=0.01, momentum=0.9)"
      ],
      "execution_count": 55,
      "outputs": []
    },
    {
      "cell_type": "code",
      "metadata": {
        "id": "pjD2VZuV9Ed4"
      },
      "source": [
        "col1=[]\n",
        "col2=[]\n",
        "col3=[]\n",
        "col4=[]\n",
        "col5=[]\n",
        "col6=[]\n",
        "col7=[]\n",
        "col8=[]\n",
        "col9=[]\n",
        "col10=[]\n",
        "col11=[]\n",
        "col12=[]\n",
        "col13=[]"
      ],
      "execution_count": 56,
      "outputs": []
    },
    {
      "cell_type": "code",
      "metadata": {
        "id": "uALi25pmzQHV",
        "colab": {
          "base_uri": "https://localhost:8080/"
        },
        "outputId": "930c25dc-7481-4695-dc74-62d8d7585126"
      },
      "source": [
        "correct = 0\n",
        "total = 0\n",
        "count = 0\n",
        "flag = 1\n",
        "focus_true_pred_true =0\n",
        "focus_false_pred_true =0\n",
        "focus_true_pred_false =0\n",
        "focus_false_pred_false =0\n",
        "\n",
        "argmax_more_than_half = 0\n",
        "argmax_less_than_half =0\n",
        "\n",
        "with torch.no_grad():\n",
        "  for data in train_loader:\n",
        "    inputs, labels , fore_idx = data\n",
        "    inputs = inputs.double()\n",
        "    inputs, labels , fore_idx = inputs.to(\"cuda\"),labels.to(\"cuda\"), fore_idx.to(\"cuda\")\n",
        "    alphas, avg_images = focus_net(inputs)\n",
        "    outputs = classify(avg_images)\n",
        "    # print(outputs.shape)\n",
        "    _, predicted = torch.max(outputs.data, 1)\n",
        "    # print(predicted.shape)\n",
        "\n",
        "    for j in range(labels.size(0)):\n",
        "      count += 1\n",
        "      focus = torch.argmax(alphas[j])\n",
        "      if alphas[j][focus] >= 0.5 :\n",
        "        argmax_more_than_half += 1\n",
        "      else:\n",
        "        argmax_less_than_half += 1\n",
        "\n",
        "      # print(focus, fore_idx[j], predicted[j])\n",
        "      if(focus == fore_idx[j] and predicted[j] == labels[j]):\n",
        "          focus_true_pred_true += 1\n",
        "      elif(focus != fore_idx[j] and predicted[j] == labels[j]):\n",
        "        focus_false_pred_true += 1\n",
        "      elif(focus == fore_idx[j] and predicted[j] != labels[j]):\n",
        "        focus_true_pred_false += 1\n",
        "      elif(focus != fore_idx[j] and predicted[j] != labels[j]):\n",
        "        focus_false_pred_false += 1\n",
        "\n",
        "    total += labels.size(0)\n",
        "    correct += (predicted == labels).sum().item()\n",
        "\n",
        "print('Accuracy of the network on the 1000 train images: %d %%' % ( 100 * correct / total))\n",
        "print(\"total correct\", correct)\n",
        "print(\"total train set images\", total)\n",
        "\n",
        "print(\"focus_true_pred_true %d =============> FTPT : %d %%\" % (focus_true_pred_true , (100 * focus_true_pred_true / total) ) )\n",
        "print(\"focus_false_pred_true %d =============> FFPT : %d %%\" % (focus_false_pred_true, (100 * focus_false_pred_true / total) ) )\n",
        "print(\"focus_true_pred_false %d =============> FTPF : %d %%\" %( focus_true_pred_false , ( 100 * focus_true_pred_false / total) ) )\n",
        "print(\"focus_false_pred_false %d =============> FFPF : %d %%\" % (focus_false_pred_false, ( 100 * focus_false_pred_false / total) ) )\n",
        "\n",
        "print(\"argmax_more_than_half ==================> \",argmax_more_than_half)\n",
        "print(\"argmax_less_than_half ==================> \",argmax_less_than_half)\n",
        "print(count)\n",
        "\n",
        "print(\"=\"*100)\n",
        "\n",
        "col1.append(0)\n",
        "col2.append(argmax_more_than_half)\n",
        "col3.append(argmax_less_than_half)\n",
        "col4.append(focus_true_pred_true)\n",
        "col5.append(focus_false_pred_true)\n",
        "col6.append(focus_true_pred_false)\n",
        "col7.append(focus_false_pred_false)"
      ],
      "execution_count": 57,
      "outputs": [
        {
          "output_type": "stream",
          "text": [
            "Accuracy of the network on the 1000 train images: 49 %\n",
            "total correct 493\n",
            "total train set images 1000\n",
            "focus_true_pred_true 493 =============> FTPT : 49 %\n",
            "focus_false_pred_true 0 =============> FFPT : 0 %\n",
            "focus_true_pred_false 507 =============> FTPF : 50 %\n",
            "focus_false_pred_false 0 =============> FFPF : 0 %\n",
            "argmax_more_than_half ==================>  0\n",
            "argmax_less_than_half ==================>  1000\n",
            "1000\n",
            "====================================================================================================\n"
          ],
          "name": "stdout"
        }
      ]
    },
    {
      "cell_type": "code",
      "metadata": {
        "id": "4vmNprlPzTjP",
        "colab": {
          "base_uri": "https://localhost:8080/"
        },
        "outputId": "0b62b317-8a4c-4b84-f94a-0815962f6007"
      },
      "source": [
        "correct = 0\n",
        "total = 0\n",
        "count = 0\n",
        "flag = 1\n",
        "focus_true_pred_true =0\n",
        "focus_false_pred_true =0\n",
        "focus_true_pred_false =0\n",
        "focus_false_pred_false =0\n",
        "\n",
        "argmax_more_than_half = 0\n",
        "argmax_less_than_half =0\n",
        "\n",
        "with torch.no_grad():\n",
        "  for data in test_loader:\n",
        "    inputs, labels , fore_idx = data\n",
        "    inputs = inputs.double()\n",
        "    inputs, labels , fore_idx = inputs.to(\"cuda\"),labels.to(\"cuda\"), fore_idx.to(\"cuda\")\n",
        "    alphas, avg_images = focus_net(inputs)\n",
        "    outputs = classify(avg_images)\n",
        "\n",
        "    _, predicted = torch.max(outputs.data, 1)\n",
        "\n",
        "    for j in range(labels.size(0)):\n",
        "      focus = torch.argmax(alphas[j])\n",
        "      if alphas[j][focus] >= 0.5 :\n",
        "        argmax_more_than_half += 1\n",
        "      else:\n",
        "        argmax_less_than_half += 1\n",
        "\n",
        "      if(focus == fore_idx[j] and predicted[j] == labels[j]):\n",
        "          focus_true_pred_true += 1\n",
        "      elif(focus != fore_idx[j] and predicted[j] == labels[j]):\n",
        "        focus_false_pred_true += 1\n",
        "      elif(focus == fore_idx[j] and predicted[j] != labels[j]):\n",
        "        focus_true_pred_false += 1\n",
        "      elif(focus != fore_idx[j] and predicted[j] != labels[j]):\n",
        "        focus_false_pred_false += 1\n",
        "\n",
        "    total += labels.size(0)\n",
        "    correct += (predicted == labels).sum().item()\n",
        "\n",
        "print('Accuracy of the network on the 1000 test images: %d %%' % (\n",
        "    100 * correct / total))\n",
        "print(\"total correct\", correct)\n",
        "print(\"total train set images\", total)\n",
        "\n",
        "print(\"focus_true_pred_true %d =============> FTPT : %d %%\" % (focus_true_pred_true , (100 * focus_true_pred_true / total) ) )\n",
        "print(\"focus_false_pred_true %d =============> FFPT : %d %%\" % (focus_false_pred_true, (100 * focus_false_pred_true / total) ) )\n",
        "print(\"focus_true_pred_false %d =============> FTPF : %d %%\" %( focus_true_pred_false , ( 100 * focus_true_pred_false / total) ) )\n",
        "print(\"focus_false_pred_false %d =============> FFPF : %d %%\" % (focus_false_pred_false, ( 100 * focus_false_pred_false / total) ) )\n",
        "\n",
        "print(\"argmax_more_than_half ==================> \",argmax_more_than_half)\n",
        "print(\"argmax_less_than_half ==================> \",argmax_less_than_half)\n",
        "col8.append(argmax_more_than_half)\n",
        "col9.append(argmax_less_than_half)\n",
        "col10.append(focus_true_pred_true)\n",
        "col11.append(focus_false_pred_true)\n",
        "col12.append(focus_true_pred_false)\n",
        "col13.append(focus_false_pred_false)"
      ],
      "execution_count": 58,
      "outputs": [
        {
          "output_type": "stream",
          "text": [
            "Accuracy of the network on the 1000 test images: 51 %\n",
            "total correct 519\n",
            "total train set images 1000\n",
            "focus_true_pred_true 519 =============> FTPT : 51 %\n",
            "focus_false_pred_true 0 =============> FFPT : 0 %\n",
            "focus_true_pred_false 481 =============> FTPF : 48 %\n",
            "focus_false_pred_false 0 =============> FFPF : 0 %\n",
            "argmax_more_than_half ==================>  0\n",
            "argmax_less_than_half ==================>  1000\n"
          ],
          "name": "stdout"
        }
      ]
    },
    {
      "cell_type": "code",
      "metadata": {
        "id": "Yl41sE8vFERk",
        "colab": {
          "base_uri": "https://localhost:8080/"
        },
        "outputId": "b21fe6dd-4cb8-46a6-dd4f-ee7adcccf6b6"
      },
      "source": [
        "nos_epochs = 1000\n",
        "focus_true_pred_true =0\n",
        "focus_false_pred_true =0\n",
        "focus_true_pred_false =0\n",
        "focus_false_pred_false =0\n",
        "\n",
        "argmax_more_than_half = 0\n",
        "argmax_less_than_half =0\n",
        "\n",
        "\n",
        "for epoch in range(nos_epochs):  # loop over the dataset multiple times\n",
        "\n",
        "  focus_true_pred_true =0\n",
        "  focus_false_pred_true =0\n",
        "  focus_true_pred_false =0\n",
        "  focus_false_pred_false =0\n",
        "  \n",
        "  argmax_more_than_half = 0\n",
        "  argmax_less_than_half =0\n",
        "  \n",
        "  running_loss = 0.0\n",
        "  epoch_loss = []\n",
        "  cnt=0\n",
        "\n",
        "  iteration = desired_num // batch\n",
        "  \n",
        "  #training data set\n",
        "  \n",
        "  for i, data in  enumerate(train_loader):\n",
        "    inputs , labels , fore_idx = data\n",
        "    inputs, labels = inputs.to(\"cuda\"), labels.to(\"cuda\")\n",
        "    inputs = inputs.double()\n",
        "    # zero the parameter gradients\n",
        "    \n",
        "    optimizer_focus.zero_grad()\n",
        "    optimizer_classify.zero_grad()\n",
        "    \n",
        "    alphas, avg_images = focus_net(inputs)\n",
        "    outputs = classify(avg_images)\n",
        "\n",
        "    _, predicted = torch.max(outputs.data, 1)\n",
        "#     print(outputs)\n",
        "#     print(outputs.shape,labels.shape , torch.argmax(outputs, dim=1))\n",
        "\n",
        "    loss = criterion(outputs, labels) \n",
        "    loss.backward()\n",
        "    optimizer_focus.step()\n",
        "    optimizer_classify.step()\n",
        "\n",
        "    running_loss += loss.item()\n",
        "    mini = 3\n",
        "    if cnt % mini == mini-1:    # print every 40 mini-batches\n",
        "      print('[%d, %5d] loss: %.3f' %(epoch + 1, cnt + 1, running_loss / mini))\n",
        "      epoch_loss.append(running_loss/mini)\n",
        "      running_loss = 0.0\n",
        "    cnt=cnt+1\n",
        "    \n",
        "    if epoch % 5 == 0:\n",
        "      for j in range (batch):\n",
        "        focus = torch.argmax(alphas[j])\n",
        "\n",
        "        if(alphas[j][focus] >= 0.5):\n",
        "          argmax_more_than_half +=1\n",
        "        else:\n",
        "          argmax_less_than_half +=1\n",
        "\n",
        "        if(focus == fore_idx[j] and predicted[j] == labels[j]):\n",
        "          focus_true_pred_true += 1\n",
        "\n",
        "        elif(focus != fore_idx[j] and predicted[j] == labels[j]):\n",
        "          focus_false_pred_true +=1\n",
        "\n",
        "        elif(focus == fore_idx[j] and predicted[j] != labels[j]):\n",
        "          focus_true_pred_false +=1\n",
        "\n",
        "        elif(focus != fore_idx[j] and predicted[j] != labels[j]):\n",
        "          focus_false_pred_false +=1\n",
        "\n",
        "  if(np.mean(epoch_loss) <= 0.001):\n",
        "      break;\n",
        "\n",
        "  if epoch % 5 == 0:\n",
        "    col1.append(epoch + 1)\n",
        "    col2.append(argmax_more_than_half)\n",
        "    col3.append(argmax_less_than_half)\n",
        "    col4.append(focus_true_pred_true)\n",
        "    col5.append(focus_false_pred_true)\n",
        "    col6.append(focus_true_pred_false)\n",
        "    col7.append(focus_false_pred_false)\n",
        "    # print(\"=\"*20)\n",
        "    # print(\"Train FTPT : \", col4)\n",
        "    # print(\"Train FFPT : \", col5)\n",
        "    #************************************************************************\n",
        "    #testing data set  \n",
        "    # focus_net.eval()\n",
        "    with torch.no_grad():\n",
        "      focus_true_pred_true =0\n",
        "      focus_false_pred_true =0\n",
        "      focus_true_pred_false =0\n",
        "      focus_false_pred_false =0\n",
        "\n",
        "      argmax_more_than_half = 0\n",
        "      argmax_less_than_half =0\n",
        "      for data in test_loader:\n",
        "        inputs, labels , fore_idx = data\n",
        "        inputs = inputs.double()\n",
        "        inputs, labels = inputs.to(\"cuda\"), labels.to(\"cuda\")\n",
        "        alphas, avg_images = focus_net(inputs)\n",
        "        outputs = classify(avg_images)\n",
        "        _, predicted = torch.max(outputs.data, 1)\n",
        "\n",
        "        for j in range (batch):\n",
        "          focus = torch.argmax(alphas[j])\n",
        "\n",
        "          if(alphas[j][focus] >= 0.5):\n",
        "            argmax_more_than_half +=1\n",
        "          else:\n",
        "            argmax_less_than_half +=1\n",
        "\n",
        "          if(focus == fore_idx[j] and predicted[j] == labels[j]):\n",
        "            focus_true_pred_true += 1\n",
        "\n",
        "          elif(focus != fore_idx[j] and predicted[j] == labels[j]):\n",
        "            focus_false_pred_true +=1\n",
        "\n",
        "          elif(focus == fore_idx[j] and predicted[j] != labels[j]):\n",
        "            focus_true_pred_false +=1\n",
        "\n",
        "          elif(focus != fore_idx[j] and predicted[j] != labels[j]):\n",
        "            focus_false_pred_false +=1\n",
        "      \n",
        "    col8.append(argmax_more_than_half)\n",
        "    col9.append(argmax_less_than_half)\n",
        "    col10.append(focus_true_pred_true)\n",
        "    col11.append(focus_false_pred_true)\n",
        "    col12.append(focus_true_pred_false)\n",
        "    col13.append(focus_false_pred_false)\n",
        "    # print(\"Test FTPT : \", col10)\n",
        "    # print(\"Test FFPT : \", col11)\n",
        "    # print(\"=\"*20)\n",
        "    \n",
        "print('Finished Training')"
      ],
      "execution_count": 59,
      "outputs": [
        {
          "output_type": "stream",
          "text": [
            "[1,     3] loss: 0.691\n",
            "[2,     3] loss: 0.670\n",
            "[3,     3] loss: 0.625\n",
            "[4,     3] loss: 0.558\n",
            "[5,     3] loss: 0.505\n",
            "[6,     3] loss: 0.439\n",
            "[7,     3] loss: 0.381\n",
            "[8,     3] loss: 0.313\n",
            "[9,     3] loss: 0.264\n",
            "[10,     3] loss: 0.221\n",
            "[11,     3] loss: 0.190\n",
            "[12,     3] loss: 0.165\n",
            "[13,     3] loss: 0.150\n",
            "[14,     3] loss: 0.132\n",
            "[15,     3] loss: 0.126\n",
            "[16,     3] loss: 0.122\n",
            "[17,     3] loss: 0.106\n",
            "[18,     3] loss: 0.103\n",
            "[19,     3] loss: 0.101\n",
            "[20,     3] loss: 0.093\n",
            "[21,     3] loss: 0.089\n",
            "[22,     3] loss: 0.080\n",
            "[23,     3] loss: 0.082\n",
            "[24,     3] loss: 0.076\n",
            "[25,     3] loss: 0.079\n",
            "[26,     3] loss: 0.073\n",
            "[27,     3] loss: 0.075\n",
            "[28,     3] loss: 0.075\n",
            "[29,     3] loss: 0.097\n",
            "[30,     3] loss: 0.093\n",
            "[31,     3] loss: 0.084\n",
            "[32,     3] loss: 0.069\n",
            "[33,     3] loss: 0.081\n",
            "[34,     3] loss: 0.088\n",
            "[35,     3] loss: 0.083\n",
            "[36,     3] loss: 0.067\n",
            "[37,     3] loss: 0.066\n",
            "[38,     3] loss: 0.068\n",
            "[39,     3] loss: 0.084\n",
            "[40,     3] loss: 0.088\n",
            "[41,     3] loss: 0.073\n",
            "[42,     3] loss: 0.061\n",
            "[43,     3] loss: 0.057\n",
            "[44,     3] loss: 0.052\n",
            "[45,     3] loss: 0.073\n",
            "[46,     3] loss: 0.079\n",
            "[47,     3] loss: 0.084\n",
            "[48,     3] loss: 0.056\n",
            "[49,     3] loss: 0.057\n",
            "[50,     3] loss: 0.052\n",
            "[51,     3] loss: 0.052\n",
            "[52,     3] loss: 0.051\n",
            "[53,     3] loss: 0.062\n",
            "[54,     3] loss: 0.109\n",
            "[55,     3] loss: 0.101\n",
            "[56,     3] loss: 0.139\n",
            "[57,     3] loss: 0.127\n",
            "[58,     3] loss: 0.125\n",
            "[59,     3] loss: 0.087\n",
            "[60,     3] loss: 0.070\n",
            "[61,     3] loss: 0.057\n",
            "[62,     3] loss: 0.067\n",
            "[63,     3] loss: 0.084\n",
            "[64,     3] loss: 0.092\n",
            "[65,     3] loss: 0.125\n",
            "[66,     3] loss: 0.110\n",
            "[67,     3] loss: 0.116\n",
            "[68,     3] loss: 0.088\n",
            "[69,     3] loss: 0.084\n",
            "[70,     3] loss: 0.058\n",
            "[71,     3] loss: 0.049\n",
            "[72,     3] loss: 0.052\n",
            "[73,     3] loss: 0.062\n",
            "[74,     3] loss: 0.057\n",
            "[75,     3] loss: 0.050\n",
            "[76,     3] loss: 0.129\n",
            "[77,     3] loss: 0.107\n",
            "[78,     3] loss: 0.082\n",
            "[79,     3] loss: 0.070\n",
            "[80,     3] loss: 0.073\n",
            "[81,     3] loss: 0.064\n",
            "[82,     3] loss: 0.094\n",
            "[83,     3] loss: 0.080\n",
            "[84,     3] loss: 0.099\n",
            "[85,     3] loss: 0.067\n",
            "[86,     3] loss: 0.063\n",
            "[87,     3] loss: 0.068\n",
            "[88,     3] loss: 0.065\n",
            "[89,     3] loss: 0.070\n",
            "[90,     3] loss: 0.058\n",
            "[91,     3] loss: 0.066\n",
            "[92,     3] loss: 0.081\n",
            "[93,     3] loss: 0.069\n",
            "[94,     3] loss: 0.060\n",
            "[95,     3] loss: 0.049\n",
            "[96,     3] loss: 0.044\n",
            "[97,     3] loss: 0.054\n",
            "[98,     3] loss: 0.057\n",
            "[99,     3] loss: 0.061\n",
            "[100,     3] loss: 0.066\n",
            "[101,     3] loss: 0.079\n",
            "[102,     3] loss: 0.119\n",
            "[103,     3] loss: 0.192\n",
            "[104,     3] loss: 0.121\n",
            "[105,     3] loss: 0.062\n",
            "[106,     3] loss: 0.058\n",
            "[107,     3] loss: 0.053\n",
            "[108,     3] loss: 0.045\n",
            "[109,     3] loss: 0.060\n",
            "[110,     3] loss: 0.053\n",
            "[111,     3] loss: 0.063\n",
            "[112,     3] loss: 0.051\n",
            "[113,     3] loss: 0.059\n",
            "[114,     3] loss: 0.048\n",
            "[115,     3] loss: 0.037\n",
            "[116,     3] loss: 0.040\n",
            "[117,     3] loss: 0.032\n",
            "[118,     3] loss: 0.037\n",
            "[119,     3] loss: 0.055\n",
            "[120,     3] loss: 0.166\n",
            "[121,     3] loss: 0.161\n",
            "[122,     3] loss: 0.051\n",
            "[123,     3] loss: 0.065\n",
            "[124,     3] loss: 0.055\n",
            "[125,     3] loss: 0.044\n",
            "[126,     3] loss: 0.050\n",
            "[127,     3] loss: 0.070\n",
            "[128,     3] loss: 0.074\n",
            "[129,     3] loss: 0.152\n",
            "[130,     3] loss: 0.147\n",
            "[131,     3] loss: 0.139\n",
            "[132,     3] loss: 0.065\n",
            "[133,     3] loss: 0.041\n",
            "[134,     3] loss: 0.041\n",
            "[135,     3] loss: 0.038\n",
            "[136,     3] loss: 0.042\n",
            "[137,     3] loss: 0.038\n",
            "[138,     3] loss: 0.073\n",
            "[139,     3] loss: 0.051\n",
            "[140,     3] loss: 0.040\n",
            "[141,     3] loss: 0.043\n",
            "[142,     3] loss: 0.061\n",
            "[143,     3] loss: 0.064\n",
            "[144,     3] loss: 0.110\n",
            "[145,     3] loss: 0.116\n",
            "[146,     3] loss: 0.050\n",
            "[147,     3] loss: 0.065\n",
            "[148,     3] loss: 0.073\n",
            "[149,     3] loss: 0.067\n",
            "[150,     3] loss: 0.053\n",
            "[151,     3] loss: 0.040\n",
            "[152,     3] loss: 0.047\n",
            "[153,     3] loss: 0.036\n",
            "[154,     3] loss: 0.062\n",
            "[155,     3] loss: 0.060\n",
            "[156,     3] loss: 0.074\n",
            "[157,     3] loss: 0.042\n",
            "[158,     3] loss: 0.041\n",
            "[159,     3] loss: 0.038\n",
            "[160,     3] loss: 0.048\n",
            "[161,     3] loss: 0.053\n",
            "[162,     3] loss: 0.064\n",
            "[163,     3] loss: 0.039\n",
            "[164,     3] loss: 0.039\n",
            "[165,     3] loss: 0.030\n",
            "[166,     3] loss: 0.034\n",
            "[167,     3] loss: 0.042\n",
            "[168,     3] loss: 0.028\n",
            "[169,     3] loss: 0.036\n",
            "[170,     3] loss: 0.038\n",
            "[171,     3] loss: 0.040\n",
            "[172,     3] loss: 0.032\n",
            "[173,     3] loss: 0.033\n",
            "[174,     3] loss: 0.039\n",
            "[175,     3] loss: 0.034\n",
            "[176,     3] loss: 0.031\n",
            "[177,     3] loss: 0.026\n",
            "[178,     3] loss: 0.039\n",
            "[179,     3] loss: 0.092\n",
            "[180,     3] loss: 0.074\n",
            "[181,     3] loss: 0.044\n",
            "[182,     3] loss: 0.105\n",
            "[183,     3] loss: 0.065\n",
            "[184,     3] loss: 0.050\n",
            "[185,     3] loss: 0.048\n",
            "[186,     3] loss: 0.060\n",
            "[187,     3] loss: 0.070\n",
            "[188,     3] loss: 0.047\n",
            "[189,     3] loss: 0.040\n",
            "[190,     3] loss: 0.041\n",
            "[191,     3] loss: 0.036\n",
            "[192,     3] loss: 0.037\n",
            "[193,     3] loss: 0.039\n",
            "[194,     3] loss: 0.031\n",
            "[195,     3] loss: 0.042\n",
            "[196,     3] loss: 0.053\n",
            "[197,     3] loss: 0.032\n",
            "[198,     3] loss: 0.042\n",
            "[199,     3] loss: 0.038\n",
            "[200,     3] loss: 0.062\n",
            "[201,     3] loss: 0.079\n",
            "[202,     3] loss: 0.056\n",
            "[203,     3] loss: 0.043\n",
            "[204,     3] loss: 0.048\n",
            "[205,     3] loss: 0.080\n",
            "[206,     3] loss: 0.084\n",
            "[207,     3] loss: 0.102\n",
            "[208,     3] loss: 0.053\n",
            "[209,     3] loss: 0.051\n",
            "[210,     3] loss: 0.044\n",
            "[211,     3] loss: 0.049\n",
            "[212,     3] loss: 0.041\n",
            "[213,     3] loss: 0.050\n",
            "[214,     3] loss: 0.046\n",
            "[215,     3] loss: 0.053\n",
            "[216,     3] loss: 0.040\n",
            "[217,     3] loss: 0.031\n",
            "[218,     3] loss: 0.044\n",
            "[219,     3] loss: 0.034\n",
            "[220,     3] loss: 0.040\n",
            "[221,     3] loss: 0.041\n",
            "[222,     3] loss: 0.041\n",
            "[223,     3] loss: 0.039\n",
            "[224,     3] loss: 0.052\n",
            "[225,     3] loss: 0.029\n",
            "[226,     3] loss: 0.039\n",
            "[227,     3] loss: 0.030\n",
            "[228,     3] loss: 0.024\n",
            "[229,     3] loss: 0.051\n",
            "[230,     3] loss: 0.264\n",
            "[231,     3] loss: 0.216\n",
            "[232,     3] loss: 0.153\n",
            "[233,     3] loss: 0.117\n",
            "[234,     3] loss: 0.099\n",
            "[235,     3] loss: 0.041\n",
            "[236,     3] loss: 0.033\n",
            "[237,     3] loss: 0.055\n",
            "[238,     3] loss: 0.042\n",
            "[239,     3] loss: 0.037\n",
            "[240,     3] loss: 0.032\n",
            "[241,     3] loss: 0.039\n",
            "[242,     3] loss: 0.034\n",
            "[243,     3] loss: 0.030\n",
            "[244,     3] loss: 0.032\n",
            "[245,     3] loss: 0.032\n",
            "[246,     3] loss: 0.032\n",
            "[247,     3] loss: 0.039\n",
            "[248,     3] loss: 0.034\n",
            "[249,     3] loss: 0.056\n",
            "[250,     3] loss: 0.088\n",
            "[251,     3] loss: 0.086\n",
            "[252,     3] loss: 0.173\n",
            "[253,     3] loss: 0.141\n",
            "[254,     3] loss: 0.216\n",
            "[255,     3] loss: 0.309\n",
            "[256,     3] loss: 0.294\n",
            "[257,     3] loss: 0.119\n",
            "[258,     3] loss: 0.163\n",
            "[259,     3] loss: 0.159\n",
            "[260,     3] loss: 0.074\n",
            "[261,     3] loss: 0.053\n",
            "[262,     3] loss: 0.047\n",
            "[263,     3] loss: 0.045\n",
            "[264,     3] loss: 0.046\n",
            "[265,     3] loss: 0.048\n",
            "[266,     3] loss: 0.047\n",
            "[267,     3] loss: 0.071\n",
            "[268,     3] loss: 0.073\n",
            "[269,     3] loss: 0.079\n",
            "[270,     3] loss: 0.075\n",
            "[271,     3] loss: 0.092\n",
            "[272,     3] loss: 0.053\n",
            "[273,     3] loss: 0.067\n",
            "[274,     3] loss: 0.048\n",
            "[275,     3] loss: 0.035\n",
            "[276,     3] loss: 0.031\n",
            "[277,     3] loss: 0.031\n",
            "[278,     3] loss: 0.040\n",
            "[279,     3] loss: 0.037\n",
            "[280,     3] loss: 0.038\n",
            "[281,     3] loss: 0.046\n",
            "[282,     3] loss: 0.038\n",
            "[283,     3] loss: 0.034\n",
            "[284,     3] loss: 0.042\n",
            "[285,     3] loss: 0.034\n",
            "[286,     3] loss: 0.031\n",
            "[287,     3] loss: 0.027\n",
            "[288,     3] loss: 0.027\n",
            "[289,     3] loss: 0.054\n",
            "[290,     3] loss: 0.124\n",
            "[291,     3] loss: 0.087\n",
            "[292,     3] loss: 0.084\n",
            "[293,     3] loss: 0.072\n",
            "[294,     3] loss: 0.043\n",
            "[295,     3] loss: 0.042\n",
            "[296,     3] loss: 0.054\n",
            "[297,     3] loss: 0.038\n",
            "[298,     3] loss: 0.043\n",
            "[299,     3] loss: 0.047\n",
            "[300,     3] loss: 0.042\n",
            "[301,     3] loss: 0.055\n",
            "[302,     3] loss: 0.044\n",
            "[303,     3] loss: 0.037\n",
            "[304,     3] loss: 0.031\n",
            "[305,     3] loss: 0.029\n",
            "[306,     3] loss: 0.033\n",
            "[307,     3] loss: 0.032\n",
            "[308,     3] loss: 0.037\n",
            "[309,     3] loss: 0.037\n",
            "[310,     3] loss: 0.034\n",
            "[311,     3] loss: 0.051\n",
            "[312,     3] loss: 0.059\n",
            "[313,     3] loss: 0.058\n",
            "[314,     3] loss: 0.055\n",
            "[315,     3] loss: 0.049\n",
            "[316,     3] loss: 0.061\n",
            "[317,     3] loss: 0.037\n",
            "[318,     3] loss: 0.037\n",
            "[319,     3] loss: 0.044\n",
            "[320,     3] loss: 0.045\n",
            "[321,     3] loss: 0.057\n",
            "[322,     3] loss: 0.070\n",
            "[323,     3] loss: 0.051\n",
            "[324,     3] loss: 0.041\n",
            "[325,     3] loss: 0.024\n",
            "[326,     3] loss: 0.036\n",
            "[327,     3] loss: 0.027\n",
            "[328,     3] loss: 0.031\n",
            "[329,     3] loss: 0.031\n",
            "[330,     3] loss: 0.047\n",
            "[331,     3] loss: 0.030\n",
            "[332,     3] loss: 0.027\n",
            "[333,     3] loss: 0.049\n",
            "[334,     3] loss: 0.050\n",
            "[335,     3] loss: 0.079\n",
            "[336,     3] loss: 0.085\n",
            "[337,     3] loss: 0.069\n",
            "[338,     3] loss: 0.076\n",
            "[339,     3] loss: 0.057\n",
            "[340,     3] loss: 0.062\n",
            "[341,     3] loss: 0.039\n",
            "[342,     3] loss: 0.039\n",
            "[343,     3] loss: 0.034\n",
            "[344,     3] loss: 0.029\n",
            "[345,     3] loss: 0.035\n",
            "[346,     3] loss: 0.037\n",
            "[347,     3] loss: 0.036\n",
            "[348,     3] loss: 0.032\n",
            "[349,     3] loss: 0.030\n",
            "[350,     3] loss: 0.028\n",
            "[351,     3] loss: 0.028\n",
            "[352,     3] loss: 0.035\n",
            "[353,     3] loss: 0.029\n",
            "[354,     3] loss: 0.035\n",
            "[355,     3] loss: 0.043\n",
            "[356,     3] loss: 0.038\n",
            "[357,     3] loss: 0.027\n",
            "[358,     3] loss: 0.028\n",
            "[359,     3] loss: 0.035\n",
            "[360,     3] loss: 0.029\n",
            "[361,     3] loss: 0.025\n",
            "[362,     3] loss: 0.033\n",
            "[363,     3] loss: 0.023\n",
            "[364,     3] loss: 0.036\n",
            "[365,     3] loss: 0.029\n",
            "[366,     3] loss: 0.024\n",
            "[367,     3] loss: 0.033\n",
            "[368,     3] loss: 0.024\n",
            "[369,     3] loss: 0.034\n",
            "[370,     3] loss: 0.082\n",
            "[371,     3] loss: 0.077\n",
            "[372,     3] loss: 0.105\n",
            "[373,     3] loss: 0.093\n",
            "[374,     3] loss: 0.090\n",
            "[375,     3] loss: 0.074\n",
            "[376,     3] loss: 0.122\n",
            "[377,     3] loss: 0.165\n",
            "[378,     3] loss: 0.066\n",
            "[379,     3] loss: 0.067\n",
            "[380,     3] loss: 0.061\n",
            "[381,     3] loss: 0.029\n",
            "[382,     3] loss: 0.034\n",
            "[383,     3] loss: 0.033\n",
            "[384,     3] loss: 0.040\n",
            "[385,     3] loss: 0.047\n",
            "[386,     3] loss: 0.068\n",
            "[387,     3] loss: 0.099\n",
            "[388,     3] loss: 0.071\n",
            "[389,     3] loss: 0.058\n",
            "[390,     3] loss: 0.084\n",
            "[391,     3] loss: 0.072\n",
            "[392,     3] loss: 0.092\n",
            "[393,     3] loss: 0.079\n",
            "[394,     3] loss: 0.181\n",
            "[395,     3] loss: 0.134\n",
            "[396,     3] loss: 0.124\n",
            "[397,     3] loss: 0.124\n",
            "[398,     3] loss: 0.073\n",
            "[399,     3] loss: 0.068\n",
            "[400,     3] loss: 0.041\n",
            "[401,     3] loss: 0.033\n",
            "[402,     3] loss: 0.032\n",
            "[403,     3] loss: 0.031\n",
            "[404,     3] loss: 0.038\n",
            "[405,     3] loss: 0.035\n",
            "[406,     3] loss: 0.029\n",
            "[407,     3] loss: 0.034\n",
            "[408,     3] loss: 0.033\n",
            "[409,     3] loss: 0.034\n",
            "[410,     3] loss: 0.026\n",
            "[411,     3] loss: 0.036\n",
            "[412,     3] loss: 0.026\n",
            "[413,     3] loss: 0.025\n",
            "[414,     3] loss: 0.030\n",
            "[415,     3] loss: 0.031\n",
            "[416,     3] loss: 0.030\n",
            "[417,     3] loss: 0.042\n",
            "[418,     3] loss: 0.035\n",
            "[419,     3] loss: 0.041\n",
            "[420,     3] loss: 0.028\n",
            "[421,     3] loss: 0.026\n",
            "[422,     3] loss: 0.028\n",
            "[423,     3] loss: 0.024\n",
            "[424,     3] loss: 0.025\n",
            "[425,     3] loss: 0.030\n",
            "[426,     3] loss: 0.034\n",
            "[427,     3] loss: 0.038\n",
            "[428,     3] loss: 0.046\n",
            "[429,     3] loss: 0.054\n",
            "[430,     3] loss: 0.046\n",
            "[431,     3] loss: 0.061\n",
            "[432,     3] loss: 0.065\n",
            "[433,     3] loss: 0.069\n",
            "[434,     3] loss: 0.045\n",
            "[435,     3] loss: 0.065\n",
            "[436,     3] loss: 0.061\n",
            "[437,     3] loss: 0.095\n",
            "[438,     3] loss: 0.083\n",
            "[439,     3] loss: 0.109\n",
            "[440,     3] loss: 0.065\n",
            "[441,     3] loss: 0.067\n",
            "[442,     3] loss: 0.048\n",
            "[443,     3] loss: 0.028\n",
            "[444,     3] loss: 0.028\n",
            "[445,     3] loss: 0.028\n",
            "[446,     3] loss: 0.031\n",
            "[447,     3] loss: 0.032\n",
            "[448,     3] loss: 0.029\n",
            "[449,     3] loss: 0.051\n",
            "[450,     3] loss: 0.036\n",
            "[451,     3] loss: 0.034\n",
            "[452,     3] loss: 0.034\n",
            "[453,     3] loss: 0.033\n",
            "[454,     3] loss: 0.036\n",
            "[455,     3] loss: 0.045\n",
            "[456,     3] loss: 0.030\n",
            "[457,     3] loss: 0.036\n",
            "[458,     3] loss: 0.047\n",
            "[459,     3] loss: 0.046\n",
            "[460,     3] loss: 0.028\n",
            "[461,     3] loss: 0.026\n",
            "[462,     3] loss: 0.028\n",
            "[463,     3] loss: 0.042\n",
            "[464,     3] loss: 0.042\n",
            "[465,     3] loss: 0.050\n",
            "[466,     3] loss: 0.052\n",
            "[467,     3] loss: 0.049\n",
            "[468,     3] loss: 0.043\n",
            "[469,     3] loss: 0.070\n",
            "[470,     3] loss: 0.035\n",
            "[471,     3] loss: 0.045\n",
            "[472,     3] loss: 0.046\n",
            "[473,     3] loss: 0.051\n",
            "[474,     3] loss: 0.094\n",
            "[475,     3] loss: 0.107\n",
            "[476,     3] loss: 0.119\n",
            "[477,     3] loss: 0.132\n",
            "[478,     3] loss: 0.114\n",
            "[479,     3] loss: 0.089\n",
            "[480,     3] loss: 0.047\n",
            "[481,     3] loss: 0.031\n",
            "[482,     3] loss: 0.031\n",
            "[483,     3] loss: 0.037\n",
            "[484,     3] loss: 0.032\n",
            "[485,     3] loss: 0.032\n",
            "[486,     3] loss: 0.030\n",
            "[487,     3] loss: 0.031\n",
            "[488,     3] loss: 0.033\n",
            "[489,     3] loss: 0.031\n",
            "[490,     3] loss: 0.026\n",
            "[491,     3] loss: 0.034\n",
            "[492,     3] loss: 0.029\n",
            "[493,     3] loss: 0.033\n",
            "[494,     3] loss: 0.038\n",
            "[495,     3] loss: 0.024\n",
            "[496,     3] loss: 0.029\n",
            "[497,     3] loss: 0.032\n",
            "[498,     3] loss: 0.037\n",
            "[499,     3] loss: 0.038\n",
            "[500,     3] loss: 0.025\n",
            "[501,     3] loss: 0.029\n",
            "[502,     3] loss: 0.050\n",
            "[503,     3] loss: 0.055\n",
            "[504,     3] loss: 0.033\n",
            "[505,     3] loss: 0.025\n",
            "[506,     3] loss: 0.024\n",
            "[507,     3] loss: 0.025\n",
            "[508,     3] loss: 0.028\n",
            "[509,     3] loss: 0.034\n",
            "[510,     3] loss: 0.071\n",
            "[511,     3] loss: 0.046\n",
            "[512,     3] loss: 0.033\n",
            "[513,     3] loss: 0.022\n",
            "[514,     3] loss: 0.026\n",
            "[515,     3] loss: 0.032\n",
            "[516,     3] loss: 0.032\n",
            "[517,     3] loss: 0.027\n",
            "[518,     3] loss: 0.028\n",
            "[519,     3] loss: 0.022\n",
            "[520,     3] loss: 0.036\n",
            "[521,     3] loss: 0.040\n",
            "[522,     3] loss: 0.081\n",
            "[523,     3] loss: 0.055\n",
            "[524,     3] loss: 0.056\n",
            "[525,     3] loss: 0.039\n",
            "[526,     3] loss: 0.027\n",
            "[527,     3] loss: 0.020\n",
            "[528,     3] loss: 0.029\n",
            "[529,     3] loss: 0.024\n",
            "[530,     3] loss: 0.042\n",
            "[531,     3] loss: 0.052\n",
            "[532,     3] loss: 0.032\n",
            "[533,     3] loss: 0.041\n",
            "[534,     3] loss: 0.034\n",
            "[535,     3] loss: 0.026\n",
            "[536,     3] loss: 0.024\n",
            "[537,     3] loss: 0.027\n",
            "[538,     3] loss: 0.029\n",
            "[539,     3] loss: 0.029\n",
            "[540,     3] loss: 0.031\n",
            "[541,     3] loss: 0.049\n",
            "[542,     3] loss: 0.045\n",
            "[543,     3] loss: 0.033\n",
            "[544,     3] loss: 0.025\n",
            "[545,     3] loss: 0.032\n",
            "[546,     3] loss: 0.034\n",
            "[547,     3] loss: 0.035\n",
            "[548,     3] loss: 0.026\n",
            "[549,     3] loss: 0.022\n",
            "[550,     3] loss: 0.027\n",
            "[551,     3] loss: 0.035\n",
            "[552,     3] loss: 0.035\n",
            "[553,     3] loss: 0.027\n",
            "[554,     3] loss: 0.028\n",
            "[555,     3] loss: 0.034\n",
            "[556,     3] loss: 0.043\n",
            "[557,     3] loss: 0.046\n",
            "[558,     3] loss: 0.025\n",
            "[559,     3] loss: 0.037\n",
            "[560,     3] loss: 0.038\n",
            "[561,     3] loss: 0.040\n",
            "[562,     3] loss: 0.048\n",
            "[563,     3] loss: 0.029\n",
            "[564,     3] loss: 0.032\n",
            "[565,     3] loss: 0.034\n",
            "[566,     3] loss: 0.033\n",
            "[567,     3] loss: 0.025\n",
            "[568,     3] loss: 0.025\n",
            "[569,     3] loss: 0.034\n",
            "[570,     3] loss: 0.064\n",
            "[571,     3] loss: 0.049\n",
            "[572,     3] loss: 0.051\n",
            "[573,     3] loss: 0.085\n",
            "[574,     3] loss: 0.090\n",
            "[575,     3] loss: 0.302\n",
            "[576,     3] loss: 0.134\n",
            "[577,     3] loss: 0.083\n",
            "[578,     3] loss: 0.067\n",
            "[579,     3] loss: 0.058\n",
            "[580,     3] loss: 0.096\n",
            "[581,     3] loss: 0.106\n",
            "[582,     3] loss: 0.034\n",
            "[583,     3] loss: 0.041\n",
            "[584,     3] loss: 0.057\n",
            "[585,     3] loss: 0.050\n",
            "[586,     3] loss: 0.069\n",
            "[587,     3] loss: 0.039\n",
            "[588,     3] loss: 0.053\n",
            "[589,     3] loss: 0.036\n",
            "[590,     3] loss: 0.068\n",
            "[591,     3] loss: 0.062\n",
            "[592,     3] loss: 0.071\n",
            "[593,     3] loss: 0.049\n",
            "[594,     3] loss: 0.075\n",
            "[595,     3] loss: 0.050\n",
            "[596,     3] loss: 0.045\n",
            "[597,     3] loss: 0.036\n",
            "[598,     3] loss: 0.026\n",
            "[599,     3] loss: 0.041\n",
            "[600,     3] loss: 0.049\n",
            "[601,     3] loss: 0.043\n",
            "[602,     3] loss: 0.042\n",
            "[603,     3] loss: 0.028\n",
            "[604,     3] loss: 0.025\n",
            "[605,     3] loss: 0.031\n",
            "[606,     3] loss: 0.025\n",
            "[607,     3] loss: 0.023\n",
            "[608,     3] loss: 0.032\n",
            "[609,     3] loss: 0.025\n",
            "[610,     3] loss: 0.029\n",
            "[611,     3] loss: 0.045\n",
            "[612,     3] loss: 0.079\n",
            "[613,     3] loss: 0.058\n",
            "[614,     3] loss: 0.070\n",
            "[615,     3] loss: 0.043\n",
            "[616,     3] loss: 0.021\n",
            "[617,     3] loss: 0.034\n",
            "[618,     3] loss: 0.039\n",
            "[619,     3] loss: 0.027\n",
            "[620,     3] loss: 0.048\n",
            "[621,     3] loss: 0.054\n",
            "[622,     3] loss: 0.035\n",
            "[623,     3] loss: 0.025\n",
            "[624,     3] loss: 0.028\n",
            "[625,     3] loss: 0.032\n",
            "[626,     3] loss: 0.025\n",
            "[627,     3] loss: 0.024\n",
            "[628,     3] loss: 0.031\n",
            "[629,     3] loss: 0.026\n",
            "[630,     3] loss: 0.024\n",
            "[631,     3] loss: 0.036\n",
            "[632,     3] loss: 0.027\n",
            "[633,     3] loss: 0.024\n",
            "[634,     3] loss: 0.023\n",
            "[635,     3] loss: 0.045\n",
            "[636,     3] loss: 0.044\n",
            "[637,     3] loss: 0.038\n",
            "[638,     3] loss: 0.049\n",
            "[639,     3] loss: 0.029\n",
            "[640,     3] loss: 0.023\n",
            "[641,     3] loss: 0.027\n",
            "[642,     3] loss: 0.043\n",
            "[643,     3] loss: 0.028\n",
            "[644,     3] loss: 0.028\n",
            "[645,     3] loss: 0.025\n",
            "[646,     3] loss: 0.029\n",
            "[647,     3] loss: 0.029\n",
            "[648,     3] loss: 0.030\n",
            "[649,     3] loss: 0.028\n",
            "[650,     3] loss: 0.020\n",
            "[651,     3] loss: 0.022\n",
            "[652,     3] loss: 0.022\n",
            "[653,     3] loss: 0.024\n",
            "[654,     3] loss: 0.019\n",
            "[655,     3] loss: 0.023\n",
            "[656,     3] loss: 0.021\n",
            "[657,     3] loss: 0.025\n",
            "[658,     3] loss: 0.024\n",
            "[659,     3] loss: 0.033\n",
            "[660,     3] loss: 0.048\n",
            "[661,     3] loss: 0.058\n",
            "[662,     3] loss: 0.056\n",
            "[663,     3] loss: 0.027\n",
            "[664,     3] loss: 0.029\n",
            "[665,     3] loss: 0.017\n",
            "[666,     3] loss: 0.030\n",
            "[667,     3] loss: 0.026\n",
            "[668,     3] loss: 0.027\n",
            "[669,     3] loss: 0.024\n",
            "[670,     3] loss: 0.027\n",
            "[671,     3] loss: 0.024\n",
            "[672,     3] loss: 0.019\n",
            "[673,     3] loss: 0.021\n",
            "[674,     3] loss: 0.020\n",
            "[675,     3] loss: 0.025\n",
            "[676,     3] loss: 0.018\n",
            "[677,     3] loss: 0.022\n",
            "[678,     3] loss: 0.024\n",
            "[679,     3] loss: 0.030\n",
            "[680,     3] loss: 0.048\n",
            "[681,     3] loss: 0.046\n",
            "[682,     3] loss: 0.023\n",
            "[683,     3] loss: 0.030\n",
            "[684,     3] loss: 0.028\n",
            "[685,     3] loss: 0.026\n",
            "[686,     3] loss: 0.025\n",
            "[687,     3] loss: 0.031\n",
            "[688,     3] loss: 0.037\n",
            "[689,     3] loss: 0.029\n",
            "[690,     3] loss: 0.022\n",
            "[691,     3] loss: 0.024\n",
            "[692,     3] loss: 0.026\n",
            "[693,     3] loss: 0.028\n",
            "[694,     3] loss: 0.025\n",
            "[695,     3] loss: 0.027\n",
            "[696,     3] loss: 0.023\n",
            "[697,     3] loss: 0.024\n",
            "[698,     3] loss: 0.019\n",
            "[699,     3] loss: 0.021\n",
            "[700,     3] loss: 0.022\n",
            "[701,     3] loss: 0.023\n",
            "[702,     3] loss: 0.018\n",
            "[703,     3] loss: 0.022\n",
            "[704,     3] loss: 0.044\n",
            "[705,     3] loss: 0.028\n",
            "[706,     3] loss: 0.031\n",
            "[707,     3] loss: 0.030\n",
            "[708,     3] loss: 0.021\n",
            "[709,     3] loss: 0.023\n",
            "[710,     3] loss: 0.026\n",
            "[711,     3] loss: 0.027\n",
            "[712,     3] loss: 0.034\n",
            "[713,     3] loss: 0.049\n",
            "[714,     3] loss: 0.040\n",
            "[715,     3] loss: 0.034\n",
            "[716,     3] loss: 0.034\n",
            "[717,     3] loss: 0.036\n",
            "[718,     3] loss: 0.042\n",
            "[719,     3] loss: 0.043\n",
            "[720,     3] loss: 0.043\n",
            "[721,     3] loss: 0.068\n",
            "[722,     3] loss: 0.052\n",
            "[723,     3] loss: 0.041\n",
            "[724,     3] loss: 0.030\n",
            "[725,     3] loss: 0.049\n",
            "[726,     3] loss: 0.032\n",
            "[727,     3] loss: 0.027\n",
            "[728,     3] loss: 0.032\n",
            "[729,     3] loss: 0.029\n",
            "[730,     3] loss: 0.031\n",
            "[731,     3] loss: 0.040\n",
            "[732,     3] loss: 0.022\n",
            "[733,     3] loss: 0.024\n",
            "[734,     3] loss: 0.028\n",
            "[735,     3] loss: 0.029\n",
            "[736,     3] loss: 0.025\n",
            "[737,     3] loss: 0.022\n",
            "[738,     3] loss: 0.030\n",
            "[739,     3] loss: 0.021\n",
            "[740,     3] loss: 0.023\n",
            "[741,     3] loss: 0.021\n",
            "[742,     3] loss: 0.023\n",
            "[743,     3] loss: 0.021\n",
            "[744,     3] loss: 0.021\n",
            "[745,     3] loss: 0.015\n",
            "[746,     3] loss: 0.026\n",
            "[747,     3] loss: 0.019\n",
            "[748,     3] loss: 0.025\n",
            "[749,     3] loss: 0.018\n",
            "[750,     3] loss: 0.020\n",
            "[751,     3] loss: 0.016\n",
            "[752,     3] loss: 0.021\n",
            "[753,     3] loss: 0.022\n",
            "[754,     3] loss: 0.024\n",
            "[755,     3] loss: 0.019\n",
            "[756,     3] loss: 0.021\n",
            "[757,     3] loss: 0.021\n",
            "[758,     3] loss: 0.020\n",
            "[759,     3] loss: 0.020\n",
            "[760,     3] loss: 0.018\n",
            "[761,     3] loss: 0.023\n",
            "[762,     3] loss: 0.020\n",
            "[763,     3] loss: 0.019\n",
            "[764,     3] loss: 0.018\n",
            "[765,     3] loss: 0.016\n",
            "[766,     3] loss: 0.032\n",
            "[767,     3] loss: 0.036\n",
            "[768,     3] loss: 0.021\n",
            "[769,     3] loss: 0.025\n",
            "[770,     3] loss: 0.020\n",
            "[771,     3] loss: 0.019\n",
            "[772,     3] loss: 0.025\n",
            "[773,     3] loss: 0.021\n",
            "[774,     3] loss: 0.039\n",
            "[775,     3] loss: 0.038\n",
            "[776,     3] loss: 0.042\n",
            "[777,     3] loss: 0.035\n",
            "[778,     3] loss: 0.044\n",
            "[779,     3] loss: 0.034\n",
            "[780,     3] loss: 0.052\n",
            "[781,     3] loss: 0.031\n",
            "[782,     3] loss: 0.040\n",
            "[783,     3] loss: 0.029\n",
            "[784,     3] loss: 0.022\n",
            "[785,     3] loss: 0.029\n",
            "[786,     3] loss: 0.024\n",
            "[787,     3] loss: 0.039\n",
            "[788,     3] loss: 0.073\n",
            "[789,     3] loss: 0.049\n",
            "[790,     3] loss: 0.071\n",
            "[791,     3] loss: 0.106\n",
            "[792,     3] loss: 0.078\n",
            "[793,     3] loss: 0.089\n",
            "[794,     3] loss: 0.080\n",
            "[795,     3] loss: 0.058\n",
            "[796,     3] loss: 0.097\n",
            "[797,     3] loss: 0.058\n",
            "[798,     3] loss: 0.032\n",
            "[799,     3] loss: 0.047\n",
            "[800,     3] loss: 0.046\n",
            "[801,     3] loss: 0.052\n",
            "[802,     3] loss: 0.054\n",
            "[803,     3] loss: 0.039\n",
            "[804,     3] loss: 0.022\n",
            "[805,     3] loss: 0.030\n",
            "[806,     3] loss: 0.038\n",
            "[807,     3] loss: 0.022\n",
            "[808,     3] loss: 0.026\n",
            "[809,     3] loss: 0.034\n",
            "[810,     3] loss: 0.025\n",
            "[811,     3] loss: 0.023\n",
            "[812,     3] loss: 0.024\n",
            "[813,     3] loss: 0.019\n",
            "[814,     3] loss: 0.020\n",
            "[815,     3] loss: 0.020\n",
            "[816,     3] loss: 0.023\n",
            "[817,     3] loss: 0.023\n",
            "[818,     3] loss: 0.051\n",
            "[819,     3] loss: 0.033\n",
            "[820,     3] loss: 0.049\n",
            "[821,     3] loss: 0.033\n",
            "[822,     3] loss: 0.025\n",
            "[823,     3] loss: 0.020\n",
            "[824,     3] loss: 0.030\n",
            "[825,     3] loss: 0.027\n",
            "[826,     3] loss: 0.032\n",
            "[827,     3] loss: 0.032\n",
            "[828,     3] loss: 0.053\n",
            "[829,     3] loss: 0.038\n",
            "[830,     3] loss: 0.067\n",
            "[831,     3] loss: 0.054\n",
            "[832,     3] loss: 0.065\n",
            "[833,     3] loss: 0.073\n",
            "[834,     3] loss: 0.043\n",
            "[835,     3] loss: 0.028\n",
            "[836,     3] loss: 0.042\n",
            "[837,     3] loss: 0.039\n",
            "[838,     3] loss: 0.044\n",
            "[839,     3] loss: 0.037\n",
            "[840,     3] loss: 0.028\n",
            "[841,     3] loss: 0.029\n",
            "[842,     3] loss: 0.022\n",
            "[843,     3] loss: 0.018\n",
            "[844,     3] loss: 0.018\n",
            "[845,     3] loss: 0.020\n",
            "[846,     3] loss: 0.016\n",
            "[847,     3] loss: 0.019\n",
            "[848,     3] loss: 0.012\n",
            "[849,     3] loss: 0.020\n",
            "[850,     3] loss: 0.023\n",
            "[851,     3] loss: 0.030\n",
            "[852,     3] loss: 0.030\n",
            "[853,     3] loss: 0.024\n",
            "[854,     3] loss: 0.021\n",
            "[855,     3] loss: 0.030\n",
            "[856,     3] loss: 0.027\n",
            "[857,     3] loss: 0.021\n",
            "[858,     3] loss: 0.024\n",
            "[859,     3] loss: 0.023\n",
            "[860,     3] loss: 0.030\n",
            "[861,     3] loss: 0.027\n",
            "[862,     3] loss: 0.022\n",
            "[863,     3] loss: 0.026\n",
            "[864,     3] loss: 0.023\n",
            "[865,     3] loss: 0.021\n",
            "[866,     3] loss: 0.023\n",
            "[867,     3] loss: 0.020\n",
            "[868,     3] loss: 0.023\n",
            "[869,     3] loss: 0.029\n",
            "[870,     3] loss: 0.023\n",
            "[871,     3] loss: 0.036\n",
            "[872,     3] loss: 0.028\n",
            "[873,     3] loss: 0.025\n",
            "[874,     3] loss: 0.019\n",
            "[875,     3] loss: 0.020\n",
            "[876,     3] loss: 0.017\n",
            "[877,     3] loss: 0.029\n",
            "[878,     3] loss: 0.026\n",
            "[879,     3] loss: 0.027\n",
            "[880,     3] loss: 0.040\n",
            "[881,     3] loss: 0.031\n",
            "[882,     3] loss: 0.027\n",
            "[883,     3] loss: 0.023\n",
            "[884,     3] loss: 0.017\n",
            "[885,     3] loss: 0.021\n",
            "[886,     3] loss: 0.024\n",
            "[887,     3] loss: 0.029\n",
            "[888,     3] loss: 0.029\n",
            "[889,     3] loss: 0.020\n",
            "[890,     3] loss: 0.016\n",
            "[891,     3] loss: 0.040\n",
            "[892,     3] loss: 0.038\n",
            "[893,     3] loss: 0.041\n",
            "[894,     3] loss: 0.029\n",
            "[895,     3] loss: 0.027\n",
            "[896,     3] loss: 0.032\n",
            "[897,     3] loss: 0.029\n",
            "[898,     3] loss: 0.025\n",
            "[899,     3] loss: 0.024\n",
            "[900,     3] loss: 0.033\n",
            "[901,     3] loss: 0.024\n",
            "[902,     3] loss: 0.028\n",
            "[903,     3] loss: 0.031\n",
            "[904,     3] loss: 0.023\n",
            "[905,     3] loss: 0.018\n",
            "[906,     3] loss: 0.018\n",
            "[907,     3] loss: 0.020\n",
            "[908,     3] loss: 0.018\n",
            "[909,     3] loss: 0.021\n",
            "[910,     3] loss: 0.039\n",
            "[911,     3] loss: 0.041\n",
            "[912,     3] loss: 0.060\n",
            "[913,     3] loss: 0.067\n",
            "[914,     3] loss: 0.141\n",
            "[915,     3] loss: 0.113\n",
            "[916,     3] loss: 0.122\n",
            "[917,     3] loss: 0.035\n",
            "[918,     3] loss: 0.032\n",
            "[919,     3] loss: 0.040\n",
            "[920,     3] loss: 0.043\n",
            "[921,     3] loss: 0.060\n",
            "[922,     3] loss: 0.150\n",
            "[923,     3] loss: 0.092\n",
            "[924,     3] loss: 0.049\n",
            "[925,     3] loss: 0.047\n",
            "[926,     3] loss: 0.045\n",
            "[927,     3] loss: 0.029\n",
            "[928,     3] loss: 0.026\n",
            "[929,     3] loss: 0.041\n",
            "[930,     3] loss: 0.044\n",
            "[931,     3] loss: 0.040\n",
            "[932,     3] loss: 0.030\n",
            "[933,     3] loss: 0.036\n",
            "[934,     3] loss: 0.036\n",
            "[935,     3] loss: 0.052\n",
            "[936,     3] loss: 0.128\n",
            "[937,     3] loss: 0.125\n",
            "[938,     3] loss: 0.125\n",
            "[939,     3] loss: 0.134\n",
            "[940,     3] loss: 0.100\n",
            "[941,     3] loss: 0.083\n",
            "[942,     3] loss: 0.080\n",
            "[943,     3] loss: 0.070\n",
            "[944,     3] loss: 0.052\n",
            "[945,     3] loss: 0.036\n",
            "[946,     3] loss: 0.027\n",
            "[947,     3] loss: 0.026\n",
            "[948,     3] loss: 0.025\n",
            "[949,     3] loss: 0.029\n",
            "[950,     3] loss: 0.024\n",
            "[951,     3] loss: 0.029\n",
            "[952,     3] loss: 0.033\n",
            "[953,     3] loss: 0.039\n",
            "[954,     3] loss: 0.076\n",
            "[955,     3] loss: 0.124\n",
            "[956,     3] loss: 0.089\n",
            "[957,     3] loss: 0.077\n",
            "[958,     3] loss: 0.064\n",
            "[959,     3] loss: 0.060\n",
            "[960,     3] loss: 0.044\n",
            "[961,     3] loss: 0.045\n",
            "[962,     3] loss: 0.040\n",
            "[963,     3] loss: 0.046\n",
            "[964,     3] loss: 0.038\n",
            "[965,     3] loss: 0.022\n",
            "[966,     3] loss: 0.026\n",
            "[967,     3] loss: 0.022\n",
            "[968,     3] loss: 0.019\n",
            "[969,     3] loss: 0.021\n",
            "[970,     3] loss: 0.020\n",
            "[971,     3] loss: 0.021\n",
            "[972,     3] loss: 0.021\n",
            "[973,     3] loss: 0.019\n",
            "[974,     3] loss: 0.023\n",
            "[975,     3] loss: 0.027\n",
            "[976,     3] loss: 0.027\n",
            "[977,     3] loss: 0.027\n",
            "[978,     3] loss: 0.027\n",
            "[979,     3] loss: 0.029\n",
            "[980,     3] loss: 0.031\n",
            "[981,     3] loss: 0.038\n",
            "[982,     3] loss: 0.033\n",
            "[983,     3] loss: 0.028\n",
            "[984,     3] loss: 0.041\n",
            "[985,     3] loss: 0.032\n",
            "[986,     3] loss: 0.033\n",
            "[987,     3] loss: 0.022\n",
            "[988,     3] loss: 0.022\n",
            "[989,     3] loss: 0.023\n",
            "[990,     3] loss: 0.019\n",
            "[991,     3] loss: 0.021\n",
            "[992,     3] loss: 0.019\n",
            "[993,     3] loss: 0.022\n",
            "[994,     3] loss: 0.021\n",
            "[995,     3] loss: 0.020\n",
            "[996,     3] loss: 0.025\n",
            "[997,     3] loss: 0.026\n",
            "[998,     3] loss: 0.025\n",
            "[999,     3] loss: 0.016\n",
            "[1000,     3] loss: 0.024\n",
            "Finished Training\n"
          ],
          "name": "stdout"
        }
      ]
    },
    {
      "cell_type": "code",
      "metadata": {
        "id": "5gQoPST5zW2t"
      },
      "source": [
        "df_train = pd.DataFrame()\n",
        "df_test = pd.DataFrame()"
      ],
      "execution_count": 60,
      "outputs": []
    },
    {
      "cell_type": "code",
      "metadata": {
        "id": "In76SYH_zZHV"
      },
      "source": [
        "columns = [\"epochs\", \"argmax > 0.5\" ,\"argmax < 0.5\", \"focus_true_pred_true\", \"focus_false_pred_true\", \"focus_true_pred_false\", \"focus_false_pred_false\" ]"
      ],
      "execution_count": 61,
      "outputs": []
    },
    {
      "cell_type": "code",
      "metadata": {
        "id": "BS4HtOHEzZ0E"
      },
      "source": [
        "df_train[columns[0]] = col1\n",
        "df_train[columns[1]] = col2\n",
        "df_train[columns[2]] = col3\n",
        "df_train[columns[3]] = col4\n",
        "df_train[columns[4]] = col5\n",
        "df_train[columns[5]] = col6\n",
        "df_train[columns[6]] = col7\n",
        "\n",
        "df_test[columns[0]] = col1\n",
        "df_test[columns[1]] = col8\n",
        "df_test[columns[2]] = col9\n",
        "df_test[columns[3]] = col10\n",
        "df_test[columns[4]] = col11\n",
        "df_test[columns[5]] = col12\n",
        "df_test[columns[6]] = col13"
      ],
      "execution_count": 62,
      "outputs": []
    },
    {
      "cell_type": "code",
      "metadata": {
        "id": "1UbTkfLUINTI",
        "colab": {
          "base_uri": "https://localhost:8080/",
          "height": 424
        },
        "outputId": "37ee1c94-26dd-4158-8ca6-58d539a54765"
      },
      "source": [
        "df_train"
      ],
      "execution_count": 63,
      "outputs": [
        {
          "output_type": "execute_result",
          "data": {
            "text/html": [
              "<div>\n",
              "<style scoped>\n",
              "    .dataframe tbody tr th:only-of-type {\n",
              "        vertical-align: middle;\n",
              "    }\n",
              "\n",
              "    .dataframe tbody tr th {\n",
              "        vertical-align: top;\n",
              "    }\n",
              "\n",
              "    .dataframe thead th {\n",
              "        text-align: right;\n",
              "    }\n",
              "</style>\n",
              "<table border=\"1\" class=\"dataframe\">\n",
              "  <thead>\n",
              "    <tr style=\"text-align: right;\">\n",
              "      <th></th>\n",
              "      <th>epochs</th>\n",
              "      <th>argmax &gt; 0.5</th>\n",
              "      <th>argmax &lt; 0.5</th>\n",
              "      <th>focus_true_pred_true</th>\n",
              "      <th>focus_false_pred_true</th>\n",
              "      <th>focus_true_pred_false</th>\n",
              "      <th>focus_false_pred_false</th>\n",
              "    </tr>\n",
              "  </thead>\n",
              "  <tbody>\n",
              "    <tr>\n",
              "      <th>0</th>\n",
              "      <td>0</td>\n",
              "      <td>0</td>\n",
              "      <td>1000</td>\n",
              "      <td>493</td>\n",
              "      <td>0</td>\n",
              "      <td>507</td>\n",
              "      <td>0</td>\n",
              "    </tr>\n",
              "    <tr>\n",
              "      <th>1</th>\n",
              "      <td>1</td>\n",
              "      <td>0</td>\n",
              "      <td>1000</td>\n",
              "      <td>493</td>\n",
              "      <td>0</td>\n",
              "      <td>507</td>\n",
              "      <td>0</td>\n",
              "    </tr>\n",
              "    <tr>\n",
              "      <th>2</th>\n",
              "      <td>6</td>\n",
              "      <td>621</td>\n",
              "      <td>379</td>\n",
              "      <td>838</td>\n",
              "      <td>0</td>\n",
              "      <td>162</td>\n",
              "      <td>0</td>\n",
              "    </tr>\n",
              "    <tr>\n",
              "      <th>3</th>\n",
              "      <td>11</td>\n",
              "      <td>560</td>\n",
              "      <td>440</td>\n",
              "      <td>987</td>\n",
              "      <td>0</td>\n",
              "      <td>13</td>\n",
              "      <td>0</td>\n",
              "    </tr>\n",
              "    <tr>\n",
              "      <th>4</th>\n",
              "      <td>16</td>\n",
              "      <td>620</td>\n",
              "      <td>380</td>\n",
              "      <td>978</td>\n",
              "      <td>0</td>\n",
              "      <td>22</td>\n",
              "      <td>0</td>\n",
              "    </tr>\n",
              "    <tr>\n",
              "      <th>...</th>\n",
              "      <td>...</td>\n",
              "      <td>...</td>\n",
              "      <td>...</td>\n",
              "      <td>...</td>\n",
              "      <td>...</td>\n",
              "      <td>...</td>\n",
              "      <td>...</td>\n",
              "    </tr>\n",
              "    <tr>\n",
              "      <th>196</th>\n",
              "      <td>976</td>\n",
              "      <td>1000</td>\n",
              "      <td>0</td>\n",
              "      <td>992</td>\n",
              "      <td>0</td>\n",
              "      <td>8</td>\n",
              "      <td>0</td>\n",
              "    </tr>\n",
              "    <tr>\n",
              "      <th>197</th>\n",
              "      <td>981</td>\n",
              "      <td>1000</td>\n",
              "      <td>0</td>\n",
              "      <td>989</td>\n",
              "      <td>0</td>\n",
              "      <td>11</td>\n",
              "      <td>0</td>\n",
              "    </tr>\n",
              "    <tr>\n",
              "      <th>198</th>\n",
              "      <td>986</td>\n",
              "      <td>1000</td>\n",
              "      <td>0</td>\n",
              "      <td>987</td>\n",
              "      <td>0</td>\n",
              "      <td>13</td>\n",
              "      <td>0</td>\n",
              "    </tr>\n",
              "    <tr>\n",
              "      <th>199</th>\n",
              "      <td>991</td>\n",
              "      <td>1000</td>\n",
              "      <td>0</td>\n",
              "      <td>996</td>\n",
              "      <td>0</td>\n",
              "      <td>4</td>\n",
              "      <td>0</td>\n",
              "    </tr>\n",
              "    <tr>\n",
              "      <th>200</th>\n",
              "      <td>996</td>\n",
              "      <td>1000</td>\n",
              "      <td>0</td>\n",
              "      <td>989</td>\n",
              "      <td>0</td>\n",
              "      <td>11</td>\n",
              "      <td>0</td>\n",
              "    </tr>\n",
              "  </tbody>\n",
              "</table>\n",
              "<p>201 rows × 7 columns</p>\n",
              "</div>"
            ],
            "text/plain": [
              "     epochs  argmax > 0.5  ...  focus_true_pred_false  focus_false_pred_false\n",
              "0         0             0  ...                    507                       0\n",
              "1         1             0  ...                    507                       0\n",
              "2         6           621  ...                    162                       0\n",
              "3        11           560  ...                     13                       0\n",
              "4        16           620  ...                     22                       0\n",
              "..      ...           ...  ...                    ...                     ...\n",
              "196     976          1000  ...                      8                       0\n",
              "197     981          1000  ...                     11                       0\n",
              "198     986          1000  ...                     13                       0\n",
              "199     991          1000  ...                      4                       0\n",
              "200     996          1000  ...                     11                       0\n",
              "\n",
              "[201 rows x 7 columns]"
            ]
          },
          "metadata": {
            "tags": []
          },
          "execution_count": 63
        }
      ]
    },
    {
      "cell_type": "code",
      "metadata": {
        "colab": {
          "base_uri": "https://localhost:8080/",
          "height": 573
        },
        "id": "xyna3USAeKZ9",
        "outputId": "7ca9b33b-0d1f-4a56-9e7a-039c95f6e942"
      },
      "source": [
        "# plt.figure(12,12)\n",
        "plt.plot(col1,col2, label='argmax > 0.5')\n",
        "plt.plot(col1,col3, label='argmax < 0.5')\n",
        "\n",
        "plt.legend(loc='center left', bbox_to_anchor=(1, 0.5))\n",
        "plt.xlabel(\"epochs\")\n",
        "plt.ylabel(\"training data\")\n",
        "plt.title(\"On Training set\")\n",
        "plt.show()\n",
        "\n",
        "plt.plot(col1,col4, label =\"focus_true_pred_true \")\n",
        "plt.plot(col1,col5, label =\"focus_false_pred_true \")\n",
        "plt.plot(col1,col6, label =\"focus_true_pred_false \")\n",
        "plt.plot(col1,col7, label =\"focus_false_pred_false \")\n",
        "plt.title(\"On Training set\")\n",
        "plt.legend(loc='center left', bbox_to_anchor=(1, 0.5))\n",
        "plt.xlabel(\"epochs\")\n",
        "plt.ylabel(\"training data\")\n",
        "plt.show()"
      ],
      "execution_count": 64,
      "outputs": [
        {
          "output_type": "display_data",
          "data": {
            "image/png": "[encoded data removed]",
            "text/plain": [
              "<Figure size 432x288 with 1 Axes>"
            ]
          },
          "metadata": {
            "tags": [],
            "needs_background": "light"
          }
        },
        {
          "output_type": "display_data",
          "data": {
            "image/png": "[encoded data removed]",
            "text/plain": [
              "<Figure size 432x288 with 1 Axes>"
            ]
          },
          "metadata": {
            "tags": [],
            "needs_background": "light"
          }
        }
      ]
    },
    {
      "cell_type": "code",
      "metadata": {
        "colab": {
          "base_uri": "https://localhost:8080/",
          "height": 424
        },
        "id": "hrb68lvueMA-",
        "outputId": "dc62bea6-5ff6-4780-d0b4-2847a278a314"
      },
      "source": [
        "df_test"
      ],
      "execution_count": 65,
      "outputs": [
        {
          "output_type": "execute_result",
          "data": {
            "text/html": [
              "<div>\n",
              "<style scoped>\n",
              "    .dataframe tbody tr th:only-of-type {\n",
              "        vertical-align: middle;\n",
              "    }\n",
              "\n",
              "    .dataframe tbody tr th {\n",
              "        vertical-align: top;\n",
              "    }\n",
              "\n",
              "    .dataframe thead th {\n",
              "        text-align: right;\n",
              "    }\n",
              "</style>\n",
              "<table border=\"1\" class=\"dataframe\">\n",
              "  <thead>\n",
              "    <tr style=\"text-align: right;\">\n",
              "      <th></th>\n",
              "      <th>epochs</th>\n",
              "      <th>argmax &gt; 0.5</th>\n",
              "      <th>argmax &lt; 0.5</th>\n",
              "      <th>focus_true_pred_true</th>\n",
              "      <th>focus_false_pred_true</th>\n",
              "      <th>focus_true_pred_false</th>\n",
              "      <th>focus_false_pred_false</th>\n",
              "    </tr>\n",
              "  </thead>\n",
              "  <tbody>\n",
              "    <tr>\n",
              "      <th>0</th>\n",
              "      <td>0</td>\n",
              "      <td>0</td>\n",
              "      <td>1000</td>\n",
              "      <td>519</td>\n",
              "      <td>0</td>\n",
              "      <td>481</td>\n",
              "      <td>0</td>\n",
              "    </tr>\n",
              "    <tr>\n",
              "      <th>1</th>\n",
              "      <td>1</td>\n",
              "      <td>0</td>\n",
              "      <td>1000</td>\n",
              "      <td>519</td>\n",
              "      <td>0</td>\n",
              "      <td>481</td>\n",
              "      <td>0</td>\n",
              "    </tr>\n",
              "    <tr>\n",
              "      <th>2</th>\n",
              "      <td>6</td>\n",
              "      <td>684</td>\n",
              "      <td>316</td>\n",
              "      <td>878</td>\n",
              "      <td>0</td>\n",
              "      <td>122</td>\n",
              "      <td>0</td>\n",
              "    </tr>\n",
              "    <tr>\n",
              "      <th>3</th>\n",
              "      <td>11</td>\n",
              "      <td>618</td>\n",
              "      <td>382</td>\n",
              "      <td>989</td>\n",
              "      <td>0</td>\n",
              "      <td>11</td>\n",
              "      <td>0</td>\n",
              "    </tr>\n",
              "    <tr>\n",
              "      <th>4</th>\n",
              "      <td>16</td>\n",
              "      <td>634</td>\n",
              "      <td>366</td>\n",
              "      <td>990</td>\n",
              "      <td>0</td>\n",
              "      <td>10</td>\n",
              "      <td>0</td>\n",
              "    </tr>\n",
              "    <tr>\n",
              "      <th>...</th>\n",
              "      <td>...</td>\n",
              "      <td>...</td>\n",
              "      <td>...</td>\n",
              "      <td>...</td>\n",
              "      <td>...</td>\n",
              "      <td>...</td>\n",
              "      <td>...</td>\n",
              "    </tr>\n",
              "    <tr>\n",
              "      <th>196</th>\n",
              "      <td>976</td>\n",
              "      <td>1000</td>\n",
              "      <td>0</td>\n",
              "      <td>991</td>\n",
              "      <td>0</td>\n",
              "      <td>9</td>\n",
              "      <td>0</td>\n",
              "    </tr>\n",
              "    <tr>\n",
              "      <th>197</th>\n",
              "      <td>981</td>\n",
              "      <td>1000</td>\n",
              "      <td>0</td>\n",
              "      <td>979</td>\n",
              "      <td>0</td>\n",
              "      <td>21</td>\n",
              "      <td>0</td>\n",
              "    </tr>\n",
              "    <tr>\n",
              "      <th>198</th>\n",
              "      <td>986</td>\n",
              "      <td>1000</td>\n",
              "      <td>0</td>\n",
              "      <td>991</td>\n",
              "      <td>0</td>\n",
              "      <td>9</td>\n",
              "      <td>0</td>\n",
              "    </tr>\n",
              "    <tr>\n",
              "      <th>199</th>\n",
              "      <td>991</td>\n",
              "      <td>1000</td>\n",
              "      <td>0</td>\n",
              "      <td>992</td>\n",
              "      <td>0</td>\n",
              "      <td>8</td>\n",
              "      <td>0</td>\n",
              "    </tr>\n",
              "    <tr>\n",
              "      <th>200</th>\n",
              "      <td>996</td>\n",
              "      <td>1000</td>\n",
              "      <td>0</td>\n",
              "      <td>991</td>\n",
              "      <td>0</td>\n",
              "      <td>9</td>\n",
              "      <td>0</td>\n",
              "    </tr>\n",
              "  </tbody>\n",
              "</table>\n",
              "<p>201 rows × 7 columns</p>\n",
              "</div>"
            ],
            "text/plain": [
              "     epochs  argmax > 0.5  ...  focus_true_pred_false  focus_false_pred_false\n",
              "0         0             0  ...                    481                       0\n",
              "1         1             0  ...                    481                       0\n",
              "2         6           684  ...                    122                       0\n",
              "3        11           618  ...                     11                       0\n",
              "4        16           634  ...                     10                       0\n",
              "..      ...           ...  ...                    ...                     ...\n",
              "196     976          1000  ...                      9                       0\n",
              "197     981          1000  ...                     21                       0\n",
              "198     986          1000  ...                      9                       0\n",
              "199     991          1000  ...                      8                       0\n",
              "200     996          1000  ...                      9                       0\n",
              "\n",
              "[201 rows x 7 columns]"
            ]
          },
          "metadata": {
            "tags": []
          },
          "execution_count": 65
        }
      ]
    },
    {
      "cell_type": "code",
      "metadata": {
        "colab": {
          "base_uri": "https://localhost:8080/",
          "height": 573
        },
        "id": "qR5SnitGeNMN",
        "outputId": "27d3283d-0e3f-446a-ec4e-d69183591064"
      },
      "source": [
        "# plt.figure(12,12)\n",
        "plt.plot(col1,col8, label='argmax > 0.5')\n",
        "plt.plot(col1,col9, label='argmax < 0.5')\n",
        "\n",
        "plt.legend(loc='center left', bbox_to_anchor=(1, 0.5))\n",
        "plt.xlabel(\"epochs\")\n",
        "plt.ylabel(\"Testing data\")\n",
        "plt.title(\"On Testing set\")\n",
        "plt.show()\n",
        "\n",
        "plt.plot(col1,col10, label =\"focus_true_pred_true \")\n",
        "plt.plot(col1,col11, label =\"focus_false_pred_true \")\n",
        "plt.plot(col1,col12, label =\"focus_true_pred_false \")\n",
        "plt.plot(col1,col13, label =\"focus_false_pred_false \")\n",
        "plt.title(\"On Testing set\")\n",
        "plt.legend(loc='center left', bbox_to_anchor=(1, 0.5))\n",
        "plt.xlabel(\"epochs\")\n",
        "plt.ylabel(\"Testing data\")\n",
        "plt.show()"
      ],
      "execution_count": 66,
      "outputs": [
        {
          "output_type": "display_data",
          "data": {
            "image/png": "[encoded data removed]",
            "text/plain": [
              "<Figure size 432x288 with 1 Axes>"
            ]
          },
          "metadata": {
            "tags": [],
            "needs_background": "light"
          }
        },
        {
          "output_type": "display_data",
          "data": {
            "image/png": "[encoded data removed]",
            "text/plain": [
              "<Figure size 432x288 with 1 Axes>"
            ]
          },
          "metadata": {
            "tags": [],
            "needs_background": "light"
          }
        }
      ]
    },
    {
      "cell_type": "code",
      "metadata": {
        "colab": {
          "base_uri": "https://localhost:8080/"
        },
        "id": "TGrzYDWxeO6m",
        "outputId": "81b3abaa-dde8-49c4-b8d0-a3e0e561ae18"
      },
      "source": [
        "correct = 0\n",
        "total = 0\n",
        "count = 0\n",
        "flag = 1\n",
        "focus_true_pred_true =0\n",
        "focus_false_pred_true =0\n",
        "focus_true_pred_false =0\n",
        "focus_false_pred_false =0\n",
        "\n",
        "argmax_more_than_half = 0\n",
        "argmax_less_than_half =0\n",
        "\n",
        "with torch.no_grad():\n",
        "  for data in train_loader:\n",
        "    inputs, labels , fore_idx = data\n",
        "    inputs = inputs.double()\n",
        "    inputs, labels , fore_idx = inputs.to(\"cuda\"),labels.to(\"cuda\"), fore_idx.to(\"cuda\")\n",
        "    alphas, avg_images = focus_net(inputs)\n",
        "    outputs = classify(avg_images)\n",
        "\n",
        "    _, predicted = torch.max(outputs.data, 1)\n",
        "\n",
        "    for j in range(labels.size(0)):\n",
        "      focus = torch.argmax(alphas[j])\n",
        "      if alphas[j][focus] >= 0.5 :\n",
        "        argmax_more_than_half += 1\n",
        "      else:\n",
        "        argmax_less_than_half += 1\n",
        "\n",
        "      if(focus == fore_idx[j] and predicted[j] == labels[j]):\n",
        "          focus_true_pred_true += 1\n",
        "      elif(focus != fore_idx[j] and predicted[j] == labels[j]):\n",
        "        focus_false_pred_true += 1\n",
        "      elif(focus == fore_idx[j] and predicted[j] != labels[j]):\n",
        "        focus_true_pred_false += 1\n",
        "      elif(focus != fore_idx[j] and predicted[j] != labels[j]):\n",
        "        focus_false_pred_false += 1\n",
        "\n",
        "    total += labels.size(0)\n",
        "    correct += (predicted == labels).sum().item()\n",
        "\n",
        "print('Accuracy of the network on the 30000 train images: %d %%' % (\n",
        "    100 * correct / total))\n",
        "print(\"total correct\", correct)\n",
        "print(\"total train set images\", total)\n",
        "\n",
        "print(\"focus_true_pred_true %d =============> FTPT : %d %%\" % (focus_true_pred_true , (100 * focus_true_pred_true / total) ) )\n",
        "print(\"focus_false_pred_true %d =============> FFPT : %d %%\" % (focus_false_pred_true, (100 * focus_false_pred_true / total) ) )\n",
        "print(\"focus_true_pred_false %d =============> FTPF : %d %%\" %( focus_true_pred_false , ( 100 * focus_true_pred_false / total) ) )\n",
        "print(\"focus_false_pred_false %d =============> FFPF : %d %%\" % (focus_false_pred_false, ( 100 * focus_false_pred_false / total) ) )\n",
        "\n",
        "print(\"argmax_more_than_half ==================> \",argmax_more_than_half)\n",
        "print(\"argmax_less_than_half ==================> \",argmax_less_than_half)"
      ],
      "execution_count": 67,
      "outputs": [
        {
          "output_type": "stream",
          "text": [
            "Accuracy of the network on the 30000 train images: 98 %\n",
            "total correct 988\n",
            "total train set images 1000\n",
            "focus_true_pred_true 988 =============> FTPT : 98 %\n",
            "focus_false_pred_true 0 =============> FFPT : 0 %\n",
            "focus_true_pred_false 12 =============> FTPF : 1 %\n",
            "focus_false_pred_false 0 =============> FFPF : 0 %\n",
            "argmax_more_than_half ==================>  1000\n",
            "argmax_less_than_half ==================>  0\n"
          ],
          "name": "stdout"
        }
      ]
    },
    {
      "cell_type": "code",
      "metadata": {
        "colab": {
          "base_uri": "https://localhost:8080/"
        },
        "id": "67_H9pkCeQNs",
        "outputId": "352b6158-9be6-43a5-b646-9498bfda04c9"
      },
      "source": [
        "correct = 0\n",
        "total = 0\n",
        "count = 0\n",
        "flag = 1\n",
        "focus_true_pred_true =0\n",
        "focus_false_pred_true =0\n",
        "focus_true_pred_false =0\n",
        "focus_false_pred_false =0\n",
        "\n",
        "argmax_more_than_half = 0\n",
        "argmax_less_than_half =0\n",
        "\n",
        "with torch.no_grad():\n",
        "  for data in test_loader:\n",
        "    inputs, labels , fore_idx = data\n",
        "    inputs = inputs.double()\n",
        "    inputs, labels , fore_idx = inputs.to(\"cuda\"),labels.to(\"cuda\"), fore_idx.to(\"cuda\")\n",
        "    alphas, avg_images = focus_net(inputs)\n",
        "    outputs = classify(avg_images)\n",
        "\n",
        "    _, predicted = torch.max(outputs.data, 1)\n",
        "\n",
        "    for j in range(labels.size(0)):\n",
        "      focus = torch.argmax(alphas[j])\n",
        "      if alphas[j][focus] >= 0.5 :\n",
        "        argmax_more_than_half += 1\n",
        "      else:\n",
        "        argmax_less_than_half += 1\n",
        "\n",
        "      if(focus == fore_idx[j] and predicted[j] == labels[j]):\n",
        "          focus_true_pred_true += 1\n",
        "      elif(focus != fore_idx[j] and predicted[j] == labels[j]):\n",
        "        focus_false_pred_true += 1\n",
        "      elif(focus == fore_idx[j] and predicted[j] != labels[j]):\n",
        "        focus_true_pred_false += 1\n",
        "      elif(focus != fore_idx[j] and predicted[j] != labels[j]):\n",
        "        focus_false_pred_false += 1\n",
        "\n",
        "    total += labels.size(0)\n",
        "    correct += (predicted == labels).sum().item()\n",
        "\n",
        "print('Accuracy of the network on the 10000 test images: %d %%' % (\n",
        "    100 * correct / total))\n",
        "print(\"total correct\", correct)\n",
        "print(\"total train set images\", total)\n",
        "\n",
        "print(\"focus_true_pred_true %d =============> FTPT : %d %%\" % (focus_true_pred_true , (100 * focus_true_pred_true / total) ) )\n",
        "print(\"focus_false_pred_true %d =============> FFPT : %d %%\" % (focus_false_pred_true, (100 * focus_false_pred_true / total) ) )\n",
        "print(\"focus_true_pred_false %d =============> FTPF : %d %%\" %( focus_true_pred_false , ( 100 * focus_true_pred_false / total) ) )\n",
        "print(\"focus_false_pred_false %d =============> FFPF : %d %%\" % (focus_false_pred_false, ( 100 * focus_false_pred_false / total) ) )\n",
        "\n",
        "print(\"argmax_more_than_half ==================> \",argmax_more_than_half)\n",
        "print(\"argmax_less_than_half ==================> \",argmax_less_than_half)"
      ],
      "execution_count": 68,
      "outputs": [
        {
          "output_type": "stream",
          "text": [
            "Accuracy of the network on the 10000 test images: 98 %\n",
            "total correct 986\n",
            "total train set images 1000\n",
            "focus_true_pred_true 986 =============> FTPT : 98 %\n",
            "focus_false_pred_true 0 =============> FFPT : 0 %\n",
            "focus_true_pred_false 14 =============> FTPF : 1 %\n",
            "focus_false_pred_false 0 =============> FFPF : 0 %\n",
            "argmax_more_than_half ==================>  1000\n",
            "argmax_less_than_half ==================>  0\n"
          ],
          "name": "stdout"
        }
      ]
    },
    {
      "cell_type": "code",
      "metadata": {
        "colab": {
          "base_uri": "https://localhost:8080/"
        },
        "id": "jhvhkEAyeRpt",
        "outputId": "d57cb38f-b09e-4820-a89b-bc7c97d3b7fb"
      },
      "source": [
        "correct = 0\n",
        "total = 0\n",
        "\n",
        "with torch.no_grad():\n",
        "  for data in train_loader:\n",
        "    inputs, labels , fore_idx = data\n",
        "    inputs = inputs.double()\n",
        "    inputs, labels = inputs.to(\"cuda\"), labels.to(\"cuda\")\n",
        "    alphas, avg_images = focus_net(inputs)\n",
        "    outputs = classify(avg_images)\n",
        "\n",
        "    _, predicted = torch.max(outputs.data, 1)\n",
        "\n",
        "    total += labels.size(0)\n",
        "    correct += (predicted == labels).sum().item()\n",
        "\n",
        "print('Accuracy of the network on the 30000 train images: %d %%' % ( 100 * correct / total))\n",
        "print(\"total correct\", correct)\n",
        "print(\"total train set images\", total)"
      ],
      "execution_count": 69,
      "outputs": [
        {
          "output_type": "stream",
          "text": [
            "Accuracy of the network on the 30000 train images: 98 %\n",
            "total correct 988\n",
            "total train set images 1000\n"
          ],
          "name": "stdout"
        }
      ]
    },
    {
      "cell_type": "code",
      "metadata": {
        "colab": {
          "base_uri": "https://localhost:8080/"
        },
        "id": "OKcmpKwGeS8M",
        "outputId": "b8b020ae-38a3-400a-dc31-b4937f27d2cf"
      },
      "source": [
        "correct = 0\n",
        "total = 0\n",
        "\n",
        "with torch.no_grad():\n",
        "  for data in test_loader:\n",
        "    inputs, labels , fore_idx = data\n",
        "    inputs = inputs.double()\n",
        "    inputs, labels = inputs.to(\"cuda\"), labels.to(\"cuda\")\n",
        "    alphas, avg_images = focus_net(inputs)\n",
        "    outputs = classify(avg_images)\n",
        "\n",
        "    _, predicted = torch.max(outputs.data, 1)\n",
        "\n",
        "    total += labels.size(0)\n",
        "    correct += (predicted == labels).sum().item()\n",
        "\n",
        "print('Accuracy of the network on the 10000 test images: %d %%' % ( 100 * correct / total))\n",
        "print(\"total correct\", correct)\n",
        "print(\"total train set images\", total)"
      ],
      "execution_count": 70,
      "outputs": [
        {
          "output_type": "stream",
          "text": [
            "Accuracy of the network on the 10000 test images: 98 %\n",
            "total correct 986\n",
            "total train set images 1000\n"
          ],
          "name": "stdout"
        }
      ]
    },
    {
      "cell_type": "code",
      "metadata": {
        "id": "xlalQug_egcl"
      },
      "source": [
        ""
      ],
      "execution_count": 70,
      "outputs": []
    }
  ]
}