{
  "nbformat": 4,
  "nbformat_minor": 0,
  "metadata": {
    "accelerator": "GPU",
    "colab": {
      "name": "type0_focus_linear_classify_mlp2.ipynb",
      "provenance": [],
      "collapsed_sections": []
    },
    "kernelspec": {
      "display_name": "Python 3",
      "language": "python",
      "name": "python3"
    },
    "language_info": {
      "codemirror_mode": {
        "name": "ipython",
        "version": 3
      },
      "file_extension": ".py",
      "mimetype": "text/x-python",
      "name": "python",
      "nbconvert_exporter": "python",
      "pygments_lexer": "ipython3",
      "version": "3.6.5"
    }
  },
  "cells": [
    {
      "cell_type": "code",
      "metadata": {
        "colab": {
          "base_uri": "https://localhost:8080/"
        },
        "id": "0vlCAi2JLSzD",
        "outputId": "868d0dfe-ee29-43f1-c748-84d888607fe1"
      },
      "source": [
        "from google.colab import drive\n",
        "drive.mount('/content/drive')"
      ],
      "execution_count": 1,
      "outputs": [
        {
          "output_type": "stream",
          "text": [
            "Drive already mounted at /content/drive; to attempt to forcibly remount, call drive.mount(\"/content/drive\", force_remount=True).\n"
          ],
          "name": "stdout"
        }
      ]
    },
    {
      "cell_type": "code",
      "metadata": {
        "id": "PiPNZm1iTgHy"
      },
      "source": [
        "path=\"/content/drive/MyDrive/Research/cods_comad_plots/SDC/dataset_1/\""
      ],
      "execution_count": 2,
      "outputs": []
    },
    {
      "cell_type": "code",
      "metadata": {
        "colab": {
          "base_uri": "https://localhost:8080/"
        },
        "id": "N2_J4Rw2r0SQ",
        "outputId": "c9671e33-2bd4-4c20-b4bf-4c7b28171280"
      },
      "source": [
        "import numpy as np\n",
        "import pandas as pd\n",
        "from matplotlib import pyplot as plt\n",
        "from tqdm import tqdm\n",
        "%matplotlib inline\n",
        "from torch.utils.data import Dataset, DataLoader\n",
        "import torch\n",
        "import torchvision\n",
        "\n",
        "import torch.nn as nn\n",
        "import torch.optim as optim\n",
        "from torch.nn import functional as F\n",
        "device = torch.device(\"cuda\" if torch.cuda.is_available() else \"cpu\")\n",
        "print(device)"
      ],
      "execution_count": 3,
      "outputs": [
        {
          "output_type": "stream",
          "text": [
            "cuda\n"
          ],
          "name": "stdout"
        }
      ]
    },
    {
      "cell_type": "markdown",
      "metadata": {
        "id": "F6fjud_Fr0Sa"
      },
      "source": [
        "# Generate dataset"
      ]
    },
    {
      "cell_type": "code",
      "metadata": {
        "colab": {
          "base_uri": "https://localhost:8080/"
        },
        "id": "CqdXHO0Cr0Sd",
        "outputId": "2c2a0b82-1b02-4982-e8d5-bb2408ab6526"
      },
      "source": [
        "y = np.random.randint(0,3,500)\n",
        "idx= []\n",
        "for i in range(3):\n",
        "    print(i,sum(y==i))\n",
        "    idx.append(y==i)"
      ],
      "execution_count": 4,
      "outputs": [
        {
          "output_type": "stream",
          "text": [
            "0 173\n",
            "1 173\n",
            "2 154\n"
          ],
          "name": "stdout"
        }
      ]
    },
    {
      "cell_type": "code",
      "metadata": {
        "id": "ddhXyODwr0Sk"
      },
      "source": [
        "x = np.zeros((500,))"
      ],
      "execution_count": 5,
      "outputs": []
    },
    {
      "cell_type": "code",
      "metadata": {
        "id": "DyV3N2DIr0Sp"
      },
      "source": [
        "np.random.seed(12)\n",
        "x[idx[0]] = np.random.uniform(low =-1,high =0,size= sum(idx[0]))\n",
        "x[idx[1]] = np.random.uniform(low =0,high =1,size= sum(idx[1]))\n",
        "x[idx[2]] = np.random.uniform(low =2,high =3,size= sum(idx[2]))"
      ],
      "execution_count": 6,
      "outputs": []
    },
    {
      "cell_type": "code",
      "metadata": {
        "colab": {
          "base_uri": "https://localhost:8080/"
        },
        "id": "qh1mDScsU07I",
        "outputId": "363fee7c-a050-47bb-f3bc-a231d6bf1555"
      },
      "source": [
        "x[idx[0]][0], x[idx[2]][5] "
      ],
      "execution_count": 7,
      "outputs": [
        {
          "output_type": "execute_result",
          "data": {
            "text/plain": [
              "(-0.8458371576203276, 2.652362264031975)"
            ]
          },
          "metadata": {
            "tags": []
          },
          "execution_count": 7
        }
      ]
    },
    {
      "cell_type": "code",
      "metadata": {
        "colab": {
          "base_uri": "https://localhost:8080/"
        },
        "id": "9Vr5ErQ_wSrV",
        "outputId": "05f71928-d9a4-4393-aaec-0c77d9e5bf01"
      },
      "source": [
        "print(x.shape,y.shape)"
      ],
      "execution_count": 8,
      "outputs": [
        {
          "output_type": "stream",
          "text": [
            "(500,) (500,)\n"
          ],
          "name": "stdout"
        }
      ]
    },
    {
      "cell_type": "code",
      "metadata": {
        "id": "NG-3RpffwU_i"
      },
      "source": [
        "idx= []\n",
        "for i in range(3):\n",
        "  idx.append(y==i)"
      ],
      "execution_count": 9,
      "outputs": []
    },
    {
      "cell_type": "code",
      "metadata": {
        "colab": {
          "base_uri": "https://localhost:8080/",
          "height": 284
        },
        "id": "hJ8Jm7YUr0St",
        "outputId": "015ff43f-12f3-4fd7-8228-30af9e25cab4"
      },
      "source": [
        "for i in range(3):\n",
        "    y= np.zeros(x[idx[i]].shape[0])\n",
        "    plt.scatter(x[idx[i]],y,label=\"class_\"+str(i))\n",
        "plt.legend()"
      ],
      "execution_count": 10,
      "outputs": [
        {
          "output_type": "execute_result",
          "data": {
            "text/plain": [
              "<matplotlib.legend.Legend at 0x7f4dfc8a4d90>"
            ]
          },
          "metadata": {
            "tags": []
          },
          "execution_count": 10
        },
        {
          "output_type": "display_data",
          "data": {
            "image/png": "[encoded data removed]",
            "text/plain": [
              "<Figure size 432x288 with 1 Axes>"
            ]
          },
          "metadata": {
            "tags": [],
            "needs_background": "light"
          }
        }
      ]
    },
    {
      "cell_type": "code",
      "metadata": {
        "colab": {
          "base_uri": "https://localhost:8080/"
        },
        "id": "3lMBZEHNBlF2",
        "outputId": "6f9ab45a-aec4-4ab4-c799-c8d8382073e7"
      },
      "source": [
        "bg_idx = [ np.where(idx[2] == True)[0]]\n",
        "\n",
        "bg_idx = np.concatenate(bg_idx, axis = 0)\n",
        "bg_idx.shape"
      ],
      "execution_count": 11,
      "outputs": [
        {
          "output_type": "execute_result",
          "data": {
            "text/plain": [
              "(154,)"
            ]
          },
          "metadata": {
            "tags": []
          },
          "execution_count": 11
        }
      ]
    },
    {
      "cell_type": "code",
      "metadata": {
        "colab": {
          "base_uri": "https://localhost:8080/"
        },
        "id": "blRbGZHeCwXU",
        "outputId": "788114e6-ca93-4866-f164-1dced6f2f79d"
      },
      "source": [
        "np.unique(bg_idx).shape"
      ],
      "execution_count": 12,
      "outputs": [
        {
          "output_type": "execute_result",
          "data": {
            "text/plain": [
              "(154,)"
            ]
          },
          "metadata": {
            "tags": []
          },
          "execution_count": 12
        }
      ]
    },
    {
      "cell_type": "code",
      "metadata": {
        "id": "Y43sWeX7C15F"
      },
      "source": [
        "x = x - np.mean(x[bg_idx], axis = 0, keepdims = True)\n"
      ],
      "execution_count": 13,
      "outputs": []
    },
    {
      "cell_type": "code",
      "metadata": {
        "colab": {
          "base_uri": "https://localhost:8080/"
        },
        "id": "ooII7N6UDWe0",
        "outputId": "333fa2a5-80d3-4ace-a70b-5ef1666d9b2b"
      },
      "source": [
        "np.mean(x[bg_idx], axis = 0, keepdims = True), np.mean(x, axis = 0, keepdims = True)"
      ],
      "execution_count": 14,
      "outputs": [
        {
          "output_type": "execute_result",
          "data": {
            "text/plain": [
              "(array([5.96925107e-16]), array([-1.76079542]))"
            ]
          },
          "metadata": {
            "tags": []
          },
          "execution_count": 14
        }
      ]
    },
    {
      "cell_type": "code",
      "metadata": {
        "id": "g21bvPRYDL9k"
      },
      "source": [
        "x = x/np.std(x[bg_idx], axis = 0, keepdims = True)"
      ],
      "execution_count": 15,
      "outputs": []
    },
    {
      "cell_type": "code",
      "metadata": {
        "colab": {
          "base_uri": "https://localhost:8080/"
        },
        "id": "GtFvIeHsDZJk",
        "outputId": "8d628f7b-7301-4f65-b1ec-fa5dc1093265"
      },
      "source": [
        "np.std(x[bg_idx], axis = 0, keepdims = True), np.std(x, axis = 0, keepdims = True)"
      ],
      "execution_count": 16,
      "outputs": [
        {
          "output_type": "execute_result",
          "data": {
            "text/plain": [
              "(array([1.]), array([4.32376018]))"
            ]
          },
          "metadata": {
            "tags": []
          },
          "execution_count": 16
        }
      ]
    },
    {
      "cell_type": "code",
      "metadata": {
        "colab": {
          "base_uri": "https://localhost:8080/",
          "height": 284
        },
        "id": "8-VLhUfDDeHt",
        "outputId": "e3fe33cc-842f-44c3-d3da-2be333f44527"
      },
      "source": [
        "for i in range(3):\n",
        "    y= np.zeros(x[idx[i]].shape[0])\n",
        "    plt.scatter(x[idx[i]],y,label=\"class_\"+str(i))\n",
        "plt.legend()"
      ],
      "execution_count": 17,
      "outputs": [
        {
          "output_type": "execute_result",
          "data": {
            "text/plain": [
              "<matplotlib.legend.Legend at 0x7f4dfc37ebd0>"
            ]
          },
          "metadata": {
            "tags": []
          },
          "execution_count": 17
        },
        {
          "output_type": "display_data",
          "data": {
            "image/png": "[encoded data removed]",
            "text/plain": [
              "<Figure size 432x288 with 1 Axes>"
            ]
          },
          "metadata": {
            "tags": [],
            "needs_background": "light"
          }
        }
      ]
    },
    {
      "cell_type": "code",
      "metadata": {
        "id": "UfFHcZJOr0Sz"
      },
      "source": [
        "foreground_classes = {'class_0','class_1' }\n",
        "\n",
        "background_classes = {'class_2'}"
      ],
      "execution_count": 18,
      "outputs": []
    },
    {
      "cell_type": "code",
      "metadata": {
        "colab": {
          "base_uri": "https://localhost:8080/"
        },
        "id": "OplNpNQVr0S2",
        "outputId": "57ddccb8-e353-4514-ddee-990998b9839c"
      },
      "source": [
        "fg_class  = np.random.randint(0,2)\n",
        "fg_idx = np.random.randint(0,9)\n",
        "\n",
        "a = []\n",
        "for i in range(9):\n",
        "    if i == fg_idx:\n",
        "        b = np.random.choice(np.where(idx[fg_class]==True)[0],size=1)\n",
        "        a.append(x[b])\n",
        "        print(\"foreground \"+str(fg_class)+\" present at \" + str(fg_idx))\n",
        "    else:\n",
        "        bg_class = np.random.randint(2,3)\n",
        "        b = np.random.choice(np.where(idx[bg_class]==True)[0],size=1)\n",
        "        a.append(x[b])\n",
        "        print(\"background \"+str(bg_class)+\" present at \" + str(i))\n",
        "a = np.concatenate(a,axis=0)\n",
        "print(a.shape)\n",
        "\n",
        "print(fg_class , fg_idx)"
      ],
      "execution_count": 19,
      "outputs": [
        {
          "output_type": "stream",
          "text": [
            "background 2 present at 0\n",
            "background 2 present at 1\n",
            "background 2 present at 2\n",
            "background 2 present at 3\n",
            "background 2 present at 4\n",
            "background 2 present at 5\n",
            "background 2 present at 6\n",
            "background 2 present at 7\n",
            "foreground 1 present at 8\n",
            "(9,)\n",
            "1 8\n"
          ],
          "name": "stdout"
        }
      ]
    },
    {
      "cell_type": "code",
      "metadata": {
        "colab": {
          "base_uri": "https://localhost:8080/"
        },
        "id": "dwZVmmRBr0S8",
        "outputId": "be40e5c8-639d-45f3-ec6c-7e2b0f2d89d5"
      },
      "source": [
        "a.shape"
      ],
      "execution_count": 20,
      "outputs": [
        {
          "output_type": "execute_result",
          "data": {
            "text/plain": [
              "(9,)"
            ]
          },
          "metadata": {
            "tags": []
          },
          "execution_count": 20
        }
      ]
    },
    {
      "cell_type": "code",
      "metadata": {
        "colab": {
          "base_uri": "https://localhost:8080/"
        },
        "id": "OoxzYI-ur0S_",
        "outputId": "efe71c78-19e2-486c-e9d0-4517f4032a16"
      },
      "source": [
        "np.reshape(a,(9,1))"
      ],
      "execution_count": 21,
      "outputs": [
        {
          "output_type": "execute_result",
          "data": {
            "text/plain": [
              "array([[ 1.37337769],\n",
              "       [ 0.95862311],\n",
              "       [-0.46020342],\n",
              "       [-0.83815419],\n",
              "       [ 1.11032054],\n",
              "       [ 1.17875096],\n",
              "       [ 0.15176552],\n",
              "       [ 1.11032054],\n",
              "       [-5.92653481]])"
            ]
          },
          "metadata": {
            "tags": []
          },
          "execution_count": 21
        }
      ]
    },
    {
      "cell_type": "code",
      "metadata": {
        "id": "y4ruI0cxr0TE"
      },
      "source": [
        "a=np.reshape(a,(3,3))"
      ],
      "execution_count": 22,
      "outputs": []
    },
    {
      "cell_type": "code",
      "metadata": {
        "colab": {
          "base_uri": "https://localhost:8080/",
          "height": 288
        },
        "id": "RTUTFhJIr0TI",
        "outputId": "14e49448-55f1-46eb-b39b-3871cb7065bc"
      },
      "source": [
        "plt.imshow(a)"
      ],
      "execution_count": 23,
      "outputs": [
        {
          "output_type": "execute_result",
          "data": {
            "text/plain": [
              "<matplotlib.image.AxesImage at 0x7f4dfc378310>"
            ]
          },
          "metadata": {
            "tags": []
          },
          "execution_count": 23
        },
        {
          "output_type": "display_data",
          "data": {
            "image/png": "[encoded data removed]",
            "text/plain": [
              "<Figure size 432x288 with 1 Axes>"
            ]
          },
          "metadata": {
            "tags": [],
            "needs_background": "light"
          }
        }
      ]
    },
    {
      "cell_type": "code",
      "metadata": {
        "id": "jqbvfbwVr0TN"
      },
      "source": [
        "desired_num = 2000\n",
        "mosaic_list_of_images =[]\n",
        "mosaic_label = []\n",
        "fore_idx=[]\n",
        "for j in range(desired_num):\n",
        "    np.random.seed(j)\n",
        "    fg_class  = np.random.randint(0,2)\n",
        "    fg_idx = np.random.randint(0,9)\n",
        "    a = []\n",
        "    for i in range(9):\n",
        "        if i == fg_idx:\n",
        "            b = np.random.choice(np.where(idx[fg_class]==True)[0],size=1)\n",
        "            a.append(x[b])\n",
        "#             print(\"foreground \"+str(fg_class)+\" present at \" + str(fg_idx))\n",
        "        else:\n",
        "            bg_class = np.random.randint(2,3)\n",
        "            b = np.random.choice(np.where(idx[bg_class]==True)[0],size=1)\n",
        "            a.append(x[b])\n",
        "#             print(\"background \"+str(bg_class)+\" present at \" + str(i))\n",
        "    a = np.concatenate(a,axis=0)\n",
        "    mosaic_list_of_images.append(np.reshape(a,(9,1)))\n",
        "    mosaic_label.append(fg_class)\n",
        "    fore_idx.append(fg_idx)"
      ],
      "execution_count": 24,
      "outputs": []
    },
    {
      "cell_type": "code",
      "metadata": {
        "id": "BOsFmWfMr0TR"
      },
      "source": [
        "mosaic_list_of_images = np.concatenate(mosaic_list_of_images,axis=1).T\n"
      ],
      "execution_count": 25,
      "outputs": []
    },
    {
      "cell_type": "code",
      "metadata": {
        "colab": {
          "base_uri": "https://localhost:8080/"
        },
        "id": "2aIPMgLXNiXW",
        "outputId": "ddd6160d-5226-47bd-b0f0-3293360f68b2"
      },
      "source": [
        "mosaic_list_of_images.shape, mosaic_list_of_images[0]"
      ],
      "execution_count": 26,
      "outputs": [
        {
          "output_type": "execute_result",
          "data": {
            "text/plain": [
              "((2000, 9), array([ -0.19914287,  -0.40007008,   1.17875096,   1.37001379,\n",
              "          0.1077745 , -10.8404474 ,   0.19345192,   1.36393897,\n",
              "         -1.30875302]))"
            ]
          },
          "metadata": {
            "tags": []
          },
          "execution_count": 26
        }
      ]
    },
    {
      "cell_type": "code",
      "metadata": {
        "colab": {
          "base_uri": "https://localhost:8080/"
        },
        "id": "A3qcsbbzPfRG",
        "outputId": "23b723b2-6b24-46ac-b7d1-28a02baeb18e"
      },
      "source": [
        "for j in range(9):\n",
        "  print(mosaic_list_of_images[0][j])\n",
        "  "
      ],
      "execution_count": 27,
      "outputs": [
        {
          "output_type": "stream",
          "text": [
            "-0.19914286686163277\n",
            "-0.4000700817648633\n",
            "1.1787509590068428\n",
            "1.3700137892000297\n",
            "0.10777449912050141\n",
            "-10.840447399356693\n",
            "0.19345192491314023\n",
            "1.3639389674787383\n",
            "-1.308753024146608\n"
          ],
          "name": "stdout"
        }
      ]
    },
    {
      "cell_type": "code",
      "metadata": {
        "colab": {
          "base_uri": "https://localhost:8080/"
        },
        "id": "7HDWKHbjLE3g",
        "outputId": "72dcf7f5-67b8-4be7-80be-2a51190da814"
      },
      "source": [
        "mosaic_list_of_images_reshaped = np.reshape(mosaic_list_of_images, (2000,9,1))\n",
        "mean_train = np.mean(mosaic_list_of_images_reshaped[0:1000], axis=0, keepdims= True)\n",
        "print(mean_train.shape, mean_train)\n",
        "std_train = np.std(mosaic_list_of_images_reshaped[0:1000], axis=0, keepdims= True)\n",
        "print(std_train.shape, std_train)\n",
        "\n"
      ],
      "execution_count": 28,
      "outputs": [
        {
          "output_type": "stream",
          "text": [
            "(1, 9, 1) [[[-1.07252504]\n",
            "  [-0.97996842]\n",
            "  [-0.90467253]\n",
            "  [-1.06811249]\n",
            "  [-0.85460987]\n",
            "  [-0.83599898]\n",
            "  [-1.01166583]\n",
            "  [-1.02731163]\n",
            "  [-0.89550586]]]\n",
            "(1, 9, 1) [[[3.0861819 ]\n",
            "  [2.92446719]\n",
            "  [2.9003667 ]\n",
            "  [3.07849803]\n",
            "  [2.80805251]\n",
            "  [2.7655755 ]\n",
            "  [2.9459505 ]\n",
            "  [2.94745863]\n",
            "  [2.73544141]]]\n"
          ],
          "name": "stdout"
        }
      ]
    },
    {
      "cell_type": "code",
      "metadata": {
        "id": "Aasl-OcVLQ7u"
      },
      "source": [
        "mosaic_list_of_images = ( mosaic_list_of_images_reshaped - mean_train ) / std_train"
      ],
      "execution_count": 29,
      "outputs": []
    },
    {
      "cell_type": "code",
      "metadata": {
        "colab": {
          "base_uri": "https://localhost:8080/"
        },
        "id": "9Y-svfwaLpJe",
        "outputId": "8d0b7a8b-fa81-4604-9582-b6c22c78b024"
      },
      "source": [
        "print(np.mean(mosaic_list_of_images[0:1000], axis=0, keepdims= True))\n",
        "\n",
        "print(np.std(mosaic_list_of_images[0:1000], axis=0, keepdims= True))"
      ],
      "execution_count": 30,
      "outputs": [
        {
          "output_type": "stream",
          "text": [
            "[[[ 4.88498131e-17]\n",
            "  [-7.10542736e-18]\n",
            "  [ 0.00000000e+00]\n",
            "  [-3.55271368e-18]\n",
            "  [ 3.90798505e-17]\n",
            "  [ 2.84217094e-17]\n",
            "  [-5.24025268e-17]\n",
            "  [-4.88498131e-17]\n",
            "  [-3.55271368e-18]]]\n",
            "[[[1.]\n",
            "  [1.]\n",
            "  [1.]\n",
            "  [1.]\n",
            "  [1.]\n",
            "  [1.]\n",
            "  [1.]\n",
            "  [1.]\n",
            "  [1.]]]\n"
          ],
          "name": "stdout"
        }
      ]
    },
    {
      "cell_type": "code",
      "metadata": {
        "colab": {
          "base_uri": "https://localhost:8080/"
        },
        "id": "zVLxFMtqLwgV",
        "outputId": "fed09301-2eb5-4c2c-8e77-47e6c82a3f97"
      },
      "source": [
        "print(np.mean(mosaic_list_of_images[1000:2000], axis=0, keepdims= True))\n",
        "\n",
        "print(np.std(mosaic_list_of_images[1000:2000], axis=0, keepdims= True))"
      ],
      "execution_count": 31,
      "outputs": [
        {
          "output_type": "stream",
          "text": [
            "[[[ 0.00761152]\n",
            "  [-0.02000767]\n",
            "  [-0.03239546]\n",
            "  [-0.00857384]\n",
            "  [ 0.02245144]\n",
            "  [-0.00776563]\n",
            "  [ 0.03948941]\n",
            "  [ 0.01536153]\n",
            "  [ 0.03931008]]]\n",
            "[[[1.00882259]\n",
            "  [1.05220767]\n",
            "  [1.07372526]\n",
            "  [0.98505595]\n",
            "  [0.96792516]\n",
            "  [1.03080031]\n",
            "  [1.00193195]\n",
            "  [1.01378938]\n",
            "  [0.98408275]]]\n"
          ],
          "name": "stdout"
        }
      ]
    },
    {
      "cell_type": "code",
      "metadata": {
        "id": "oAracFJiL0z9"
      },
      "source": [
        "mosaic_list_of_images = np.reshape(mosaic_list_of_images, (2000,9))"
      ],
      "execution_count": 32,
      "outputs": []
    },
    {
      "cell_type": "code",
      "metadata": {
        "colab": {
          "base_uri": "https://localhost:8080/"
        },
        "id": "T1rNMOt0RqcD",
        "outputId": "738e4bde-f2a7-4d4c-afe4-31c788f5053a"
      },
      "source": [
        "for j in range(9):\n",
        "  print(mosaic_list_of_images[0][j])\n",
        "  "
      ],
      "execution_count": 33,
      "outputs": [
        {
          "output_type": "stream",
          "text": [
            "0.28299763408955303\n",
            "0.1982919634002554\n",
            "0.7183310587574828\n",
            "0.7919856547860872\n",
            "0.3427230676059463\n",
            "-3.6174924295818047\n",
            "0.40907603566169237\n",
            "0.8112923379247969\n",
            "-0.15107147270691063\n"
          ],
          "name": "stdout"
        }
      ]
    },
    {
      "cell_type": "code",
      "metadata": {
        "id": "iPoIwbMHx44n"
      },
      "source": [
        "class MosaicDataset(Dataset):\n",
        "  \"\"\"MosaicDataset dataset.\"\"\"\n",
        "\n",
        "  def __init__(self, mosaic_list_of_images, mosaic_label, fore_idx):\n",
        "    \"\"\"\n",
        "      Args:\n",
        "        csv_file (string): Path to the csv file with annotations.\n",
        "        root_dir (string): Directory with all the images.\n",
        "        transform (callable, optional): Optional transform to be applied\n",
        "            on a sample.\n",
        "    \"\"\"\n",
        "    self.mosaic = mosaic_list_of_images\n",
        "    self.label = mosaic_label\n",
        "    self.fore_idx = fore_idx\n",
        "\n",
        "  def __len__(self):\n",
        "    return len(self.label)\n",
        "\n",
        "  def __getitem__(self, idx):\n",
        "    return self.mosaic[idx] , self.label[idx], self.fore_idx[idx]\n",
        "\n"
      ],
      "execution_count": 34,
      "outputs": []
    },
    {
      "cell_type": "code",
      "metadata": {
        "id": "fOPAJQJeW8Ah"
      },
      "source": [
        "batch = 250\n",
        "msd1 = MosaicDataset(mosaic_list_of_images[0:1000], mosaic_label[0:1000] , fore_idx[0:1000])\n",
        "train_loader = DataLoader( msd1 ,batch_size= batch ,shuffle=True)"
      ],
      "execution_count": 35,
      "outputs": []
    },
    {
      "cell_type": "code",
      "metadata": {
        "id": "qjNiQgxZW8bA"
      },
      "source": [
        "batch = 250\n",
        "msd2 = MosaicDataset(mosaic_list_of_images[1000:2000], mosaic_label[1000:2000] , fore_idx[1000:2000])\n",
        "test_loader = DataLoader( msd2 ,batch_size= batch ,shuffle=True)"
      ],
      "execution_count": 36,
      "outputs": []
    },
    {
      "cell_type": "code",
      "metadata": {
        "id": "30ZAjix3x8CM"
      },
      "source": [
        "class Focus(nn.Module):\n",
        "  def __init__(self):\n",
        "    super(Focus, self).__init__()\n",
        "\n",
        "    self.fc1 = nn.Linear(1, 1, bias=False)\n",
        "    torch.nn.init.zeros_(self.fc1.weight)\n",
        "    # self.fc2 = nn.Linear(2, 1)\n",
        "\n",
        "  def forward(self,z):  #y is avg image #z batch of list of 9 images\n",
        "    y = torch.zeros([batch], dtype=torch.float64)\n",
        "    x = torch.zeros([batch,9],dtype=torch.float64)\n",
        "    y = y.to(\"cuda\")\n",
        "    x = x.to(\"cuda\")\n",
        "    # print(x.shape, z.shape)\n",
        "    for i in range(9):\n",
        "      # print(z[:,i].shape)\n",
        "      # print(self.helper(z[:,i])[:,0].shape)\n",
        "      x[:,i] = self.helper(z[:,i])[:,0]\n",
        "    # print(x.shape, z.shape)\n",
        "    x = F.softmax(x,dim=1)\n",
        "    # print(x.shape, z.shape)\n",
        "    # x1 = x[:,0]\n",
        "    # print(torch.mul(x[:,0],z[:,0]).shape)\n",
        "\n",
        "    for i in range(9):            \n",
        "      # x1 = x[:,i]          \n",
        "      y = y + torch.mul(x[:,i],z[:,i])\n",
        "\n",
        "    # print(x.shape, y.shape)\n",
        "    return x, y\n",
        "    \n",
        "  def helper(self, x):\n",
        "    x = x.view(-1, 1)\n",
        "    # x = F.relu(self.fc1(x))\n",
        "    x = (self.fc1(x))\n",
        "\n",
        "    return x"
      ],
      "execution_count": 37,
      "outputs": []
    },
    {
      "cell_type": "code",
      "metadata": {
        "id": "Cp80BhxUU85S"
      },
      "source": [
        "class Classification(nn.Module):\n",
        "  def __init__(self):\n",
        "    super(Classification, self).__init__()\n",
        "    self.fc1 = nn.Linear(1, 50)\n",
        "    self.fc2 = nn.Linear(50, 10)\n",
        "    self.fc3 = nn.Linear(10, 2)\n",
        "    torch.nn.init.xavier_normal_(self.fc1.weight)\n",
        "    torch.nn.init.zeros_(self.fc1.bias)\n",
        "    torch.nn.init.xavier_normal_(self.fc2.weight)\n",
        "    torch.nn.init.zeros_(self.fc2.bias)\n",
        "    torch.nn.init.xavier_normal_(self.fc3.weight)\n",
        "    torch.nn.init.zeros_(self.fc3.bias)\n",
        "\n",
        "\n",
        "  def forward(self, x):\n",
        "    x = x.view(-1, 1)\n",
        "    x = F.relu(self.fc1(x))\n",
        "    x = F.relu(self.fc2(x))\n",
        "    x = (self.fc3(x))\n",
        "    return x"
      ],
      "execution_count": 38,
      "outputs": []
    },
    {
      "cell_type": "code",
      "metadata": {
        "id": "r4Tg1pV3Wj8C"
      },
      "source": [
        "# test_images =[]        #list of mosaic images, each mosaic image is saved as laist of 9 images\n",
        "# fore_idx_test =[]                   #list of indexes at which foreground image is present in a mosaic image                \n",
        "# test_label=[]                # label of mosaic image = foreground class present in that mosaic\n",
        "# for i in range(10000):\n",
        "#   bg_idx = np.random.randint(0,47335,8)\n",
        "#   fg_idx = np.random.randint(0,12665)\n",
        "#   fg = np.random.randint(0,9)\n",
        "#   fore_idx_test.append(fg)\n",
        "#   image_list,label = create_mosaic_img(bg_idx,fg_idx,fg)\n",
        "#   test_images.append(image_list)\n",
        "#   test_label.append(label)"
      ],
      "execution_count": 39,
      "outputs": []
    },
    {
      "cell_type": "code",
      "metadata": {
        "id": "lSa6O9f6XNf4"
      },
      "source": [
        "torch.manual_seed(12)\n",
        "focus_net = Focus().double()\n",
        "focus_net = focus_net.to(\"cuda\")"
      ],
      "execution_count": 40,
      "outputs": []
    },
    {
      "cell_type": "code",
      "metadata": {
        "id": "36k3H2G-XO9A"
      },
      "source": [
        "torch.manual_seed(12)\n",
        "classify = Classification().double()\n",
        "classify = classify.to(\"cuda\")"
      ],
      "execution_count": 41,
      "outputs": []
    },
    {
      "cell_type": "code",
      "metadata": {
        "colab": {
          "base_uri": "https://localhost:8080/"
        },
        "id": "keukAZmENLGW",
        "outputId": "ab8e0722-ab3e-4f2b-fed6-ba723e19c3c5"
      },
      "source": [
        "focus_net.fc1.weight, focus_net.fc1.weight.shape"
      ],
      "execution_count": 42,
      "outputs": [
        {
          "output_type": "execute_result",
          "data": {
            "text/plain": [
              "(Parameter containing:\n",
              " tensor([[0.]], device='cuda:0', dtype=torch.float64, requires_grad=True),\n",
              " torch.Size([1, 1]))"
            ]
          },
          "metadata": {
            "tags": []
          },
          "execution_count": 42
        }
      ]
    },
    {
      "cell_type": "code",
      "metadata": {
        "colab": {
          "base_uri": "https://localhost:8080/"
        },
        "id": "JcCdNcVJNLgd",
        "outputId": "3b3d8ad8-f0d9-4d3f-9852-0ce5c5643d6e"
      },
      "source": [
        "classify.fc1.weight, classify.fc1.bias, classify.fc1.weight.shape"
      ],
      "execution_count": 43,
      "outputs": [
        {
          "output_type": "execute_result",
          "data": {
            "text/plain": [
              "(Parameter containing:\n",
              " tensor([[ 0.0167],\n",
              "         [-0.3945],\n",
              "         [-0.1101],\n",
              "         [ 0.3760],\n",
              "         [-0.2691],\n",
              "         [-0.0475],\n",
              "         [ 0.1475],\n",
              "         [-0.0451],\n",
              "         [-0.1766],\n",
              "         [ 0.0345],\n",
              "         [-0.0474],\n",
              "         [-0.1443],\n",
              "         [ 0.1473],\n",
              "         [ 0.2130],\n",
              "         [ 0.1529],\n",
              "         [-0.0771],\n",
              "         [ 0.4276],\n",
              "         [-0.0421],\n",
              "         [-0.1185],\n",
              "         [-0.2604],\n",
              "         [-0.3282],\n",
              "         [ 0.2025],\n",
              "         [-0.4305],\n",
              "         [ 0.1285],\n",
              "         [ 0.1706],\n",
              "         [-0.1513],\n",
              "         [ 0.0023],\n",
              "         [-0.2234],\n",
              "         [-0.2057],\n",
              "         [ 0.0482],\n",
              "         [ 0.0546],\n",
              "         [ 0.1859],\n",
              "         [-0.2723],\n",
              "         [-0.0513],\n",
              "         [ 0.0089],\n",
              "         [-0.0849],\n",
              "         [-0.1263],\n",
              "         [-0.1122],\n",
              "         [-0.1499],\n",
              "         [ 0.0398],\n",
              "         [-0.0070],\n",
              "         [-0.1511],\n",
              "         [ 0.2758],\n",
              "         [-0.2683],\n",
              "         [ 0.5113],\n",
              "         [ 0.1282],\n",
              "         [ 0.0423],\n",
              "         [-0.1871],\n",
              "         [ 0.1577],\n",
              "         [ 0.2064]], device='cuda:0', dtype=torch.float64, requires_grad=True),\n",
              " Parameter containing:\n",
              " tensor([0., 0., 0., 0., 0., 0., 0., 0., 0., 0., 0., 0., 0., 0., 0., 0., 0., 0., 0., 0., 0., 0., 0., 0.,\n",
              "         0., 0., 0., 0., 0., 0., 0., 0., 0., 0., 0., 0., 0., 0., 0., 0., 0., 0., 0., 0., 0., 0., 0., 0.,\n",
              "         0., 0.], device='cuda:0', dtype=torch.float64, requires_grad=True),\n",
              " torch.Size([50, 1]))"
            ]
          },
          "metadata": {
            "tags": []
          },
          "execution_count": 43
        }
      ]
    },
    {
      "cell_type": "code",
      "metadata": {
        "id": "7MHBbL7FXRQk"
      },
      "source": [
        "import torch.optim as optim\n",
        "criterion = nn.CrossEntropyLoss()\n",
        "optimizer_classify = optim.Adam(classify.parameters(), lr=0.01 ) #, momentum=0.9)\n",
        "optimizer_focus = optim.Adam(focus_net.parameters(), lr=0.01 ) #, momentum=0.9)"
      ],
      "execution_count": 44,
      "outputs": []
    },
    {
      "cell_type": "code",
      "metadata": {
        "id": "pjD2VZuV9Ed4"
      },
      "source": [
        "col1=[]\n",
        "col2=[]\n",
        "col3=[]\n",
        "col4=[]\n",
        "col5=[]\n",
        "col6=[]\n",
        "col7=[]\n",
        "col8=[]\n",
        "col9=[]\n",
        "col10=[]\n",
        "col11=[]\n",
        "col12=[]\n",
        "col13=[]"
      ],
      "execution_count": 45,
      "outputs": []
    },
    {
      "cell_type": "code",
      "metadata": {
        "id": "uALi25pmzQHV",
        "colab": {
          "base_uri": "https://localhost:8080/"
        },
        "outputId": "97ad5266-b9cb-41ea-ef92-c0157494aa10"
      },
      "source": [
        "correct = 0\n",
        "total = 0\n",
        "count = 0\n",
        "flag = 1\n",
        "focus_true_pred_true =0\n",
        "focus_false_pred_true =0\n",
        "focus_true_pred_false =0\n",
        "focus_false_pred_false =0\n",
        "\n",
        "argmax_more_than_half = 0\n",
        "argmax_less_than_half =0\n",
        "\n",
        "with torch.no_grad():\n",
        "  for data in train_loader:\n",
        "    inputs, labels , fore_idx = data\n",
        "    inputs = inputs.double()\n",
        "    inputs, labels , fore_idx = inputs.to(\"cuda\"),labels.to(\"cuda\"), fore_idx.to(\"cuda\")\n",
        "    alphas, avg_images = focus_net(inputs)\n",
        "    outputs = classify(avg_images)\n",
        "    # print(outputs.shape)\n",
        "    _, predicted = torch.max(outputs.data, 1)\n",
        "    # print(predicted.shape)\n",
        "\n",
        "    for j in range(labels.size(0)):\n",
        "      count += 1\n",
        "      focus = torch.argmax(alphas[j])\n",
        "      if alphas[j][focus] >= 0.5 :\n",
        "        argmax_more_than_half += 1\n",
        "      else:\n",
        "        argmax_less_than_half += 1\n",
        "\n",
        "      # print(focus, fore_idx[j], predicted[j])\n",
        "      if(focus == fore_idx[j] and predicted[j] == labels[j]):\n",
        "          focus_true_pred_true += 1\n",
        "      elif(focus != fore_idx[j] and predicted[j] == labels[j]):\n",
        "        focus_false_pred_true += 1\n",
        "      elif(focus == fore_idx[j] and predicted[j] != labels[j]):\n",
        "        focus_true_pred_false += 1\n",
        "      elif(focus != fore_idx[j] and predicted[j] != labels[j]):\n",
        "        focus_false_pred_false += 1\n",
        "\n",
        "    total += labels.size(0)\n",
        "    correct += (predicted == labels).sum().item()\n",
        "\n",
        "print('Accuracy of the network on the 1000 train images: %d %%' % ( 100 * correct / total))\n",
        "print(\"total correct\", correct)\n",
        "print(\"total train set images\", total)\n",
        "\n",
        "print(\"focus_true_pred_true %d =============> FTPT : %d %%\" % (focus_true_pred_true , (100 * focus_true_pred_true / total) ) )\n",
        "print(\"focus_false_pred_true %d =============> FFPT : %d %%\" % (focus_false_pred_true, (100 * focus_false_pred_true / total) ) )\n",
        "print(\"focus_true_pred_false %d =============> FTPF : %d %%\" %( focus_true_pred_false , ( 100 * focus_true_pred_false / total) ) )\n",
        "print(\"focus_false_pred_false %d =============> FFPF : %d %%\" % (focus_false_pred_false, ( 100 * focus_false_pred_false / total) ) )\n",
        "\n",
        "print(\"argmax_more_than_half ==================> \",argmax_more_than_half)\n",
        "print(\"argmax_less_than_half ==================> \",argmax_less_than_half)\n",
        "print(count)\n",
        "\n",
        "print(\"=\"*100)\n",
        "\n",
        "col1.append(0)\n",
        "col2.append(argmax_more_than_half)\n",
        "col3.append(argmax_less_than_half)\n",
        "col4.append(focus_true_pred_true)\n",
        "col5.append(focus_false_pred_true)\n",
        "col6.append(focus_true_pred_false)\n",
        "col7.append(focus_false_pred_false)"
      ],
      "execution_count": 46,
      "outputs": [
        {
          "output_type": "stream",
          "text": [
            "Accuracy of the network on the 1000 train images: 31 %\n",
            "total correct 313\n",
            "total train set images 1000\n",
            "focus_true_pred_true 45 =============> FTPT : 4 %\n",
            "focus_false_pred_true 268 =============> FFPT : 26 %\n",
            "focus_true_pred_false 74 =============> FTPF : 7 %\n",
            "focus_false_pred_false 613 =============> FFPF : 61 %\n",
            "argmax_more_than_half ==================>  0\n",
            "argmax_less_than_half ==================>  1000\n",
            "1000\n",
            "====================================================================================================\n"
          ],
          "name": "stdout"
        }
      ]
    },
    {
      "cell_type": "code",
      "metadata": {
        "id": "4vmNprlPzTjP",
        "colab": {
          "base_uri": "https://localhost:8080/"
        },
        "outputId": "571c191c-c60d-4c58-ffa1-dc9270ff33a3"
      },
      "source": [
        "correct = 0\n",
        "total = 0\n",
        "count = 0\n",
        "flag = 1\n",
        "focus_true_pred_true =0\n",
        "focus_false_pred_true =0\n",
        "focus_true_pred_false =0\n",
        "focus_false_pred_false =0\n",
        "\n",
        "argmax_more_than_half = 0\n",
        "argmax_less_than_half =0\n",
        "\n",
        "with torch.no_grad():\n",
        "  for data in test_loader:\n",
        "    inputs, labels , fore_idx = data\n",
        "    inputs = inputs.double()\n",
        "    inputs, labels , fore_idx = inputs.to(\"cuda\"),labels.to(\"cuda\"), fore_idx.to(\"cuda\")\n",
        "    alphas, avg_images = focus_net(inputs)\n",
        "    outputs = classify(avg_images)\n",
        "\n",
        "    _, predicted = torch.max(outputs.data, 1)\n",
        "\n",
        "    for j in range(labels.size(0)):\n",
        "      focus = torch.argmax(alphas[j])\n",
        "      if alphas[j][focus] >= 0.5 :\n",
        "        argmax_more_than_half += 1\n",
        "      else:\n",
        "        argmax_less_than_half += 1\n",
        "\n",
        "      if(focus == fore_idx[j] and predicted[j] == labels[j]):\n",
        "          focus_true_pred_true += 1\n",
        "      elif(focus != fore_idx[j] and predicted[j] == labels[j]):\n",
        "        focus_false_pred_true += 1\n",
        "      elif(focus == fore_idx[j] and predicted[j] != labels[j]):\n",
        "        focus_true_pred_false += 1\n",
        "      elif(focus != fore_idx[j] and predicted[j] != labels[j]):\n",
        "        focus_false_pred_false += 1\n",
        "\n",
        "    total += labels.size(0)\n",
        "    correct += (predicted == labels).sum().item()\n",
        "\n",
        "print('Accuracy of the network on the 1000 test images: %d %%' % (\n",
        "    100 * correct / total))\n",
        "print(\"total correct\", correct)\n",
        "print(\"total train set images\", total)\n",
        "\n",
        "print(\"focus_true_pred_true %d =============> FTPT : %d %%\" % (focus_true_pred_true , (100 * focus_true_pred_true / total) ) )\n",
        "print(\"focus_false_pred_true %d =============> FFPT : %d %%\" % (focus_false_pred_true, (100 * focus_false_pred_true / total) ) )\n",
        "print(\"focus_true_pred_false %d =============> FTPF : %d %%\" %( focus_true_pred_false , ( 100 * focus_true_pred_false / total) ) )\n",
        "print(\"focus_false_pred_false %d =============> FFPF : %d %%\" % (focus_false_pred_false, ( 100 * focus_false_pred_false / total) ) )\n",
        "\n",
        "print(\"argmax_more_than_half ==================> \",argmax_more_than_half)\n",
        "print(\"argmax_less_than_half ==================> \",argmax_less_than_half)\n",
        "col8.append(argmax_more_than_half)\n",
        "col9.append(argmax_less_than_half)\n",
        "col10.append(focus_true_pred_true)\n",
        "col11.append(focus_false_pred_true)\n",
        "col12.append(focus_true_pred_false)\n",
        "col13.append(focus_false_pred_false)"
      ],
      "execution_count": 47,
      "outputs": [
        {
          "output_type": "stream",
          "text": [
            "Accuracy of the network on the 1000 test images: 27 %\n",
            "total correct 278\n",
            "total train set images 1000\n",
            "focus_true_pred_true 41 =============> FTPT : 4 %\n",
            "focus_false_pred_true 237 =============> FFPT : 23 %\n",
            "focus_true_pred_false 81 =============> FTPF : 8 %\n",
            "focus_false_pred_false 641 =============> FFPF : 64 %\n",
            "argmax_more_than_half ==================>  0\n",
            "argmax_less_than_half ==================>  1000\n"
          ],
          "name": "stdout"
        }
      ]
    },
    {
      "cell_type": "code",
      "metadata": {
        "id": "Yl41sE8vFERk",
        "colab": {
          "base_uri": "https://localhost:8080/"
        },
        "outputId": "4bca06b0-a92e-4f62-e754-14603011f349"
      },
      "source": [
        "nos_epochs = 1000\n",
        "focus_true_pred_true =0\n",
        "focus_false_pred_true =0\n",
        "focus_true_pred_false =0\n",
        "focus_false_pred_false =0\n",
        "\n",
        "argmax_more_than_half = 0\n",
        "argmax_less_than_half =0\n",
        "\n",
        "\n",
        "for epoch in range(nos_epochs):  # loop over the dataset multiple times\n",
        "\n",
        "  focus_true_pred_true =0\n",
        "  focus_false_pred_true =0\n",
        "  focus_true_pred_false =0\n",
        "  focus_false_pred_false =0\n",
        "  \n",
        "  argmax_more_than_half = 0\n",
        "  argmax_less_than_half =0\n",
        "  \n",
        "  running_loss = 0.0\n",
        "  epoch_loss = []\n",
        "  cnt=0\n",
        "\n",
        "  iteration = desired_num // batch\n",
        "  \n",
        "  #training data set\n",
        "  \n",
        "  for i, data in  enumerate(train_loader):\n",
        "    inputs , labels , fore_idx = data\n",
        "    inputs, labels = inputs.to(\"cuda\"), labels.to(\"cuda\")\n",
        "    inputs = inputs.double()\n",
        "    # zero the parameter gradients\n",
        "    \n",
        "    optimizer_focus.zero_grad()\n",
        "    optimizer_classify.zero_grad()\n",
        "    \n",
        "    alphas, avg_images = focus_net(inputs)\n",
        "    outputs = classify(avg_images)\n",
        "\n",
        "    _, predicted = torch.max(outputs.data, 1)\n",
        "#     print(outputs)\n",
        "#     print(outputs.shape,labels.shape , torch.argmax(outputs, dim=1))\n",
        "\n",
        "    loss = criterion(outputs, labels) \n",
        "    loss.backward()\n",
        "    optimizer_focus.step()\n",
        "    optimizer_classify.step()\n",
        "\n",
        "    running_loss += loss.item()\n",
        "    mini = 3\n",
        "    if cnt % mini == mini-1:    # print every 40 mini-batches\n",
        "      print('[%d, %5d] loss: %.3f' %(epoch + 1, cnt + 1, running_loss / mini))\n",
        "      epoch_loss.append(running_loss/mini)\n",
        "      running_loss = 0.0\n",
        "    cnt=cnt+1\n",
        "    \n",
        "    if epoch % 5 == 0:\n",
        "      for j in range (batch):\n",
        "        focus = torch.argmax(alphas[j])\n",
        "\n",
        "        if(alphas[j][focus] >= 0.5):\n",
        "          argmax_more_than_half +=1\n",
        "        else:\n",
        "          argmax_less_than_half +=1\n",
        "\n",
        "        if(focus == fore_idx[j] and predicted[j] == labels[j]):\n",
        "          focus_true_pred_true += 1\n",
        "\n",
        "        elif(focus != fore_idx[j] and predicted[j] == labels[j]):\n",
        "          focus_false_pred_true +=1\n",
        "\n",
        "        elif(focus == fore_idx[j] and predicted[j] != labels[j]):\n",
        "          focus_true_pred_false +=1\n",
        "\n",
        "        elif(focus != fore_idx[j] and predicted[j] != labels[j]):\n",
        "          focus_false_pred_false +=1\n",
        "\n",
        "  if(np.mean(epoch_loss) <= 0.001):\n",
        "      break;\n",
        "\n",
        "  if epoch % 5 == 0:\n",
        "    col1.append(epoch + 1)\n",
        "    col2.append(argmax_more_than_half)\n",
        "    col3.append(argmax_less_than_half)\n",
        "    col4.append(focus_true_pred_true)\n",
        "    col5.append(focus_false_pred_true)\n",
        "    col6.append(focus_true_pred_false)\n",
        "    col7.append(focus_false_pred_false)\n",
        "    # print(\"=\"*20)\n",
        "    # print(\"Train FTPT : \", col4)\n",
        "    # print(\"Train FFPT : \", col5)\n",
        "    #************************************************************************\n",
        "    #testing data set  \n",
        "    # focus_net.eval()\n",
        "    with torch.no_grad():\n",
        "      focus_true_pred_true =0\n",
        "      focus_false_pred_true =0\n",
        "      focus_true_pred_false =0\n",
        "      focus_false_pred_false =0\n",
        "\n",
        "      argmax_more_than_half = 0\n",
        "      argmax_less_than_half =0\n",
        "      for data in test_loader:\n",
        "        inputs, labels , fore_idx = data\n",
        "        inputs = inputs.double()\n",
        "        inputs, labels = inputs.to(\"cuda\"), labels.to(\"cuda\")\n",
        "        alphas, avg_images = focus_net(inputs)\n",
        "        outputs = classify(avg_images)\n",
        "        _, predicted = torch.max(outputs.data, 1)\n",
        "\n",
        "        for j in range (batch):\n",
        "          focus = torch.argmax(alphas[j])\n",
        "\n",
        "          if(alphas[j][focus] >= 0.5):\n",
        "            argmax_more_than_half +=1\n",
        "          else:\n",
        "            argmax_less_than_half +=1\n",
        "\n",
        "          if(focus == fore_idx[j] and predicted[j] == labels[j]):\n",
        "            focus_true_pred_true += 1\n",
        "\n",
        "          elif(focus != fore_idx[j] and predicted[j] == labels[j]):\n",
        "            focus_false_pred_true +=1\n",
        "\n",
        "          elif(focus == fore_idx[j] and predicted[j] != labels[j]):\n",
        "            focus_true_pred_false +=1\n",
        "\n",
        "          elif(focus != fore_idx[j] and predicted[j] != labels[j]):\n",
        "            focus_false_pred_false +=1\n",
        "      \n",
        "    col8.append(argmax_more_than_half)\n",
        "    col9.append(argmax_less_than_half)\n",
        "    col10.append(focus_true_pred_true)\n",
        "    col11.append(focus_false_pred_true)\n",
        "    col12.append(focus_true_pred_false)\n",
        "    col13.append(focus_false_pred_false)\n",
        "    # print(\"Test FTPT : \", col10)\n",
        "    # print(\"Test FFPT : \", col11)\n",
        "    # print(\"=\"*20)\n",
        "    \n",
        "print('Finished Training')"
      ],
      "execution_count": 48,
      "outputs": [
        {
          "output_type": "stream",
          "text": [
            "[1,     3] loss: 0.685\n",
            "[2,     3] loss: 0.650\n",
            "[3,     3] loss: 0.601\n",
            "[4,     3] loss: 0.518\n",
            "[5,     3] loss: 0.436\n",
            "[6,     3] loss: 0.329\n",
            "[7,     3] loss: 0.277\n",
            "[8,     3] loss: 0.215\n",
            "[9,     3] loss: 0.180\n",
            "[10,     3] loss: 0.183\n",
            "[11,     3] loss: 0.158\n",
            "[12,     3] loss: 0.117\n",
            "[13,     3] loss: 0.136\n",
            "[14,     3] loss: 0.131\n",
            "[15,     3] loss: 0.119\n",
            "[16,     3] loss: 0.128\n",
            "[17,     3] loss: 0.128\n",
            "[18,     3] loss: 0.119\n",
            "[19,     3] loss: 0.130\n",
            "[20,     3] loss: 0.116\n",
            "[21,     3] loss: 0.122\n",
            "[22,     3] loss: 0.126\n",
            "[23,     3] loss: 0.130\n",
            "[24,     3] loss: 0.125\n",
            "[25,     3] loss: 0.120\n",
            "[26,     3] loss: 0.113\n",
            "[27,     3] loss: 0.108\n",
            "[28,     3] loss: 0.107\n",
            "[29,     3] loss: 0.107\n",
            "[30,     3] loss: 0.116\n",
            "[31,     3] loss: 0.108\n",
            "[32,     3] loss: 0.121\n",
            "[33,     3] loss: 0.108\n",
            "[34,     3] loss: 0.120\n",
            "[35,     3] loss: 0.105\n",
            "[36,     3] loss: 0.110\n",
            "[37,     3] loss: 0.116\n",
            "[38,     3] loss: 0.110\n",
            "[39,     3] loss: 0.103\n",
            "[40,     3] loss: 0.101\n",
            "[41,     3] loss: 0.116\n",
            "[42,     3] loss: 0.110\n",
            "[43,     3] loss: 0.115\n",
            "[44,     3] loss: 0.111\n",
            "[45,     3] loss: 0.117\n",
            "[46,     3] loss: 0.102\n",
            "[47,     3] loss: 0.125\n",
            "[48,     3] loss: 0.100\n",
            "[49,     3] loss: 0.117\n",
            "[50,     3] loss: 0.098\n",
            "[51,     3] loss: 0.110\n",
            "[52,     3] loss: 0.107\n",
            "[53,     3] loss: 0.112\n",
            "[54,     3] loss: 0.113\n",
            "[55,     3] loss: 0.108\n",
            "[56,     3] loss: 0.110\n",
            "[57,     3] loss: 0.106\n",
            "[58,     3] loss: 0.111\n",
            "[59,     3] loss: 0.100\n",
            "[60,     3] loss: 0.103\n",
            "[61,     3] loss: 0.108\n",
            "[62,     3] loss: 0.104\n",
            "[63,     3] loss: 0.116\n",
            "[64,     3] loss: 0.106\n",
            "[65,     3] loss: 0.100\n",
            "[66,     3] loss: 0.099\n",
            "[67,     3] loss: 0.111\n",
            "[68,     3] loss: 0.102\n",
            "[69,     3] loss: 0.108\n",
            "[70,     3] loss: 0.110\n",
            "[71,     3] loss: 0.106\n",
            "[72,     3] loss: 0.104\n",
            "[73,     3] loss: 0.108\n",
            "[74,     3] loss: 0.107\n",
            "[75,     3] loss: 0.102\n",
            "[76,     3] loss: 0.103\n",
            "[77,     3] loss: 0.107\n",
            "[78,     3] loss: 0.098\n",
            "[79,     3] loss: 0.120\n",
            "[80,     3] loss: 0.113\n",
            "[81,     3] loss: 0.111\n",
            "[82,     3] loss: 0.119\n",
            "[83,     3] loss: 0.116\n",
            "[84,     3] loss: 0.107\n",
            "[85,     3] loss: 0.100\n",
            "[86,     3] loss: 0.103\n",
            "[87,     3] loss: 0.111\n",
            "[88,     3] loss: 0.102\n",
            "[89,     3] loss: 0.115\n",
            "[90,     3] loss: 0.105\n",
            "[91,     3] loss: 0.111\n",
            "[92,     3] loss: 0.113\n",
            "[93,     3] loss: 0.110\n",
            "[94,     3] loss: 0.107\n",
            "[95,     3] loss: 0.101\n",
            "[96,     3] loss: 0.096\n",
            "[97,     3] loss: 0.113\n",
            "[98,     3] loss: 0.111\n",
            "[99,     3] loss: 0.108\n",
            "[100,     3] loss: 0.106\n",
            "[101,     3] loss: 0.104\n",
            "[102,     3] loss: 0.108\n",
            "[103,     3] loss: 0.107\n",
            "[104,     3] loss: 0.098\n",
            "[105,     3] loss: 0.107\n",
            "[106,     3] loss: 0.108\n",
            "[107,     3] loss: 0.104\n",
            "[108,     3] loss: 0.106\n",
            "[109,     3] loss: 0.110\n",
            "[110,     3] loss: 0.107\n",
            "[111,     3] loss: 0.106\n",
            "[112,     3] loss: 0.113\n",
            "[113,     3] loss: 0.110\n",
            "[114,     3] loss: 0.115\n",
            "[115,     3] loss: 0.101\n",
            "[116,     3] loss: 0.102\n",
            "[117,     3] loss: 0.102\n",
            "[118,     3] loss: 0.109\n",
            "[119,     3] loss: 0.094\n",
            "[120,     3] loss: 0.121\n",
            "[121,     3] loss: 0.113\n",
            "[122,     3] loss: 0.100\n",
            "[123,     3] loss: 0.107\n",
            "[124,     3] loss: 0.102\n",
            "[125,     3] loss: 0.113\n",
            "[126,     3] loss: 0.103\n",
            "[127,     3] loss: 0.115\n",
            "[128,     3] loss: 0.108\n",
            "[129,     3] loss: 0.109\n",
            "[130,     3] loss: 0.101\n",
            "[131,     3] loss: 0.114\n",
            "[132,     3] loss: 0.104\n",
            "[133,     3] loss: 0.111\n",
            "[134,     3] loss: 0.113\n",
            "[135,     3] loss: 0.109\n",
            "[136,     3] loss: 0.116\n",
            "[137,     3] loss: 0.097\n",
            "[138,     3] loss: 0.114\n",
            "[139,     3] loss: 0.098\n",
            "[140,     3] loss: 0.109\n",
            "[141,     3] loss: 0.108\n",
            "[142,     3] loss: 0.103\n",
            "[143,     3] loss: 0.102\n",
            "[144,     3] loss: 0.117\n",
            "[145,     3] loss: 0.105\n",
            "[146,     3] loss: 0.092\n",
            "[147,     3] loss: 0.108\n",
            "[148,     3] loss: 0.107\n",
            "[149,     3] loss: 0.104\n",
            "[150,     3] loss: 0.112\n",
            "[151,     3] loss: 0.108\n",
            "[152,     3] loss: 0.102\n",
            "[153,     3] loss: 0.113\n",
            "[154,     3] loss: 0.109\n",
            "[155,     3] loss: 0.094\n",
            "[156,     3] loss: 0.107\n",
            "[157,     3] loss: 0.111\n",
            "[158,     3] loss: 0.108\n",
            "[159,     3] loss: 0.109\n",
            "[160,     3] loss: 0.099\n",
            "[161,     3] loss: 0.114\n",
            "[162,     3] loss: 0.100\n",
            "[163,     3] loss: 0.102\n",
            "[164,     3] loss: 0.109\n",
            "[165,     3] loss: 0.093\n",
            "[166,     3] loss: 0.115\n",
            "[167,     3] loss: 0.101\n",
            "[168,     3] loss: 0.096\n",
            "[169,     3] loss: 0.113\n",
            "[170,     3] loss: 0.111\n",
            "[171,     3] loss: 0.102\n",
            "[172,     3] loss: 0.101\n",
            "[173,     3] loss: 0.114\n",
            "[174,     3] loss: 0.101\n",
            "[175,     3] loss: 0.105\n",
            "[176,     3] loss: 0.106\n",
            "[177,     3] loss: 0.114\n",
            "[178,     3] loss: 0.108\n",
            "[179,     3] loss: 0.093\n",
            "[180,     3] loss: 0.119\n",
            "[181,     3] loss: 0.092\n",
            "[182,     3] loss: 0.114\n",
            "[183,     3] loss: 0.103\n",
            "[184,     3] loss: 0.101\n",
            "[185,     3] loss: 0.093\n",
            "[186,     3] loss: 0.108\n",
            "[187,     3] loss: 0.111\n",
            "[188,     3] loss: 0.104\n",
            "[189,     3] loss: 0.095\n",
            "[190,     3] loss: 0.103\n",
            "[191,     3] loss: 0.103\n",
            "[192,     3] loss: 0.110\n",
            "[193,     3] loss: 0.099\n",
            "[194,     3] loss: 0.106\n",
            "[195,     3] loss: 0.092\n",
            "[196,     3] loss: 0.102\n",
            "[197,     3] loss: 0.104\n",
            "[198,     3] loss: 0.110\n",
            "[199,     3] loss: 0.110\n",
            "[200,     3] loss: 0.099\n",
            "[201,     3] loss: 0.109\n",
            "[202,     3] loss: 0.108\n",
            "[203,     3] loss: 0.101\n",
            "[204,     3] loss: 0.099\n",
            "[205,     3] loss: 0.109\n",
            "[206,     3] loss: 0.116\n",
            "[207,     3] loss: 0.108\n",
            "[208,     3] loss: 0.111\n",
            "[209,     3] loss: 0.099\n",
            "[210,     3] loss: 0.108\n",
            "[211,     3] loss: 0.110\n",
            "[212,     3] loss: 0.108\n",
            "[213,     3] loss: 0.106\n",
            "[214,     3] loss: 0.105\n",
            "[215,     3] loss: 0.092\n",
            "[216,     3] loss: 0.103\n",
            "[217,     3] loss: 0.108\n",
            "[218,     3] loss: 0.097\n",
            "[219,     3] loss: 0.108\n",
            "[220,     3] loss: 0.116\n",
            "[221,     3] loss: 0.093\n",
            "[222,     3] loss: 0.113\n",
            "[223,     3] loss: 0.097\n",
            "[224,     3] loss: 0.104\n",
            "[225,     3] loss: 0.115\n",
            "[226,     3] loss: 0.118\n",
            "[227,     3] loss: 0.110\n",
            "[228,     3] loss: 0.097\n",
            "[229,     3] loss: 0.107\n",
            "[230,     3] loss: 0.104\n",
            "[231,     3] loss: 0.100\n",
            "[232,     3] loss: 0.111\n",
            "[233,     3] loss: 0.105\n",
            "[234,     3] loss: 0.097\n",
            "[235,     3] loss: 0.101\n",
            "[236,     3] loss: 0.104\n",
            "[237,     3] loss: 0.104\n",
            "[238,     3] loss: 0.107\n",
            "[239,     3] loss: 0.103\n",
            "[240,     3] loss: 0.110\n",
            "[241,     3] loss: 0.097\n",
            "[242,     3] loss: 0.102\n",
            "[243,     3] loss: 0.109\n",
            "[244,     3] loss: 0.100\n",
            "[245,     3] loss: 0.108\n",
            "[246,     3] loss: 0.103\n",
            "[247,     3] loss: 0.116\n",
            "[248,     3] loss: 0.099\n",
            "[249,     3] loss: 0.098\n",
            "[250,     3] loss: 0.108\n",
            "[251,     3] loss: 0.103\n",
            "[252,     3] loss: 0.108\n",
            "[253,     3] loss: 0.106\n",
            "[254,     3] loss: 0.096\n",
            "[255,     3] loss: 0.121\n",
            "[256,     3] loss: 0.101\n",
            "[257,     3] loss: 0.096\n",
            "[258,     3] loss: 0.101\n",
            "[259,     3] loss: 0.105\n",
            "[260,     3] loss: 0.111\n",
            "[261,     3] loss: 0.105\n",
            "[262,     3] loss: 0.099\n",
            "[263,     3] loss: 0.112\n",
            "[264,     3] loss: 0.091\n",
            "[265,     3] loss: 0.108\n",
            "[266,     3] loss: 0.099\n",
            "[267,     3] loss: 0.106\n",
            "[268,     3] loss: 0.106\n",
            "[269,     3] loss: 0.103\n",
            "[270,     3] loss: 0.091\n",
            "[271,     3] loss: 0.115\n",
            "[272,     3] loss: 0.106\n",
            "[273,     3] loss: 0.100\n",
            "[274,     3] loss: 0.101\n",
            "[275,     3] loss: 0.093\n",
            "[276,     3] loss: 0.097\n",
            "[277,     3] loss: 0.101\n",
            "[278,     3] loss: 0.115\n",
            "[279,     3] loss: 0.094\n",
            "[280,     3] loss: 0.103\n",
            "[281,     3] loss: 0.100\n",
            "[282,     3] loss: 0.109\n",
            "[283,     3] loss: 0.104\n",
            "[284,     3] loss: 0.118\n",
            "[285,     3] loss: 0.119\n",
            "[286,     3] loss: 0.098\n",
            "[287,     3] loss: 0.105\n",
            "[288,     3] loss: 0.114\n",
            "[289,     3] loss: 0.111\n",
            "[290,     3] loss: 0.107\n",
            "[291,     3] loss: 0.097\n",
            "[292,     3] loss: 0.102\n",
            "[293,     3] loss: 0.106\n",
            "[294,     3] loss: 0.114\n",
            "[295,     3] loss: 0.114\n",
            "[296,     3] loss: 0.102\n",
            "[297,     3] loss: 0.107\n",
            "[298,     3] loss: 0.092\n",
            "[299,     3] loss: 0.105\n",
            "[300,     3] loss: 0.097\n",
            "[301,     3] loss: 0.100\n",
            "[302,     3] loss: 0.102\n",
            "[303,     3] loss: 0.105\n",
            "[304,     3] loss: 0.110\n",
            "[305,     3] loss: 0.104\n",
            "[306,     3] loss: 0.103\n",
            "[307,     3] loss: 0.105\n",
            "[308,     3] loss: 0.107\n",
            "[309,     3] loss: 0.107\n",
            "[310,     3] loss: 0.104\n",
            "[311,     3] loss: 0.103\n",
            "[312,     3] loss: 0.107\n",
            "[313,     3] loss: 0.105\n",
            "[314,     3] loss: 0.102\n",
            "[315,     3] loss: 0.102\n",
            "[316,     3] loss: 0.104\n",
            "[317,     3] loss: 0.097\n",
            "[318,     3] loss: 0.098\n",
            "[319,     3] loss: 0.105\n",
            "[320,     3] loss: 0.103\n",
            "[321,     3] loss: 0.099\n",
            "[322,     3] loss: 0.107\n",
            "[323,     3] loss: 0.112\n",
            "[324,     3] loss: 0.100\n",
            "[325,     3] loss: 0.112\n",
            "[326,     3] loss: 0.098\n",
            "[327,     3] loss: 0.101\n",
            "[328,     3] loss: 0.084\n",
            "[329,     3] loss: 0.106\n",
            "[330,     3] loss: 0.107\n",
            "[331,     3] loss: 0.106\n",
            "[332,     3] loss: 0.097\n",
            "[333,     3] loss: 0.104\n",
            "[334,     3] loss: 0.103\n",
            "[335,     3] loss: 0.096\n",
            "[336,     3] loss: 0.107\n",
            "[337,     3] loss: 0.113\n",
            "[338,     3] loss: 0.099\n",
            "[339,     3] loss: 0.098\n",
            "[340,     3] loss: 0.101\n",
            "[341,     3] loss: 0.109\n",
            "[342,     3] loss: 0.098\n",
            "[343,     3] loss: 0.103\n",
            "[344,     3] loss: 0.089\n",
            "[345,     3] loss: 0.101\n",
            "[346,     3] loss: 0.097\n",
            "[347,     3] loss: 0.104\n",
            "[348,     3] loss: 0.102\n",
            "[349,     3] loss: 0.097\n",
            "[350,     3] loss: 0.104\n",
            "[351,     3] loss: 0.101\n",
            "[352,     3] loss: 0.103\n",
            "[353,     3] loss: 0.114\n",
            "[354,     3] loss: 0.105\n",
            "[355,     3] loss: 0.113\n",
            "[356,     3] loss: 0.105\n",
            "[357,     3] loss: 0.100\n",
            "[358,     3] loss: 0.094\n",
            "[359,     3] loss: 0.101\n",
            "[360,     3] loss: 0.102\n",
            "[361,     3] loss: 0.112\n",
            "[362,     3] loss: 0.099\n",
            "[363,     3] loss: 0.105\n",
            "[364,     3] loss: 0.111\n",
            "[365,     3] loss: 0.102\n",
            "[366,     3] loss: 0.106\n",
            "[367,     3] loss: 0.110\n",
            "[368,     3] loss: 0.102\n",
            "[369,     3] loss: 0.099\n",
            "[370,     3] loss: 0.099\n",
            "[371,     3] loss: 0.092\n",
            "[372,     3] loss: 0.099\n",
            "[373,     3] loss: 0.099\n",
            "[374,     3] loss: 0.103\n",
            "[375,     3] loss: 0.098\n",
            "[376,     3] loss: 0.108\n",
            "[377,     3] loss: 0.109\n",
            "[378,     3] loss: 0.104\n",
            "[379,     3] loss: 0.103\n",
            "[380,     3] loss: 0.096\n",
            "[381,     3] loss: 0.099\n",
            "[382,     3] loss: 0.098\n",
            "[383,     3] loss: 0.107\n",
            "[384,     3] loss: 0.114\n",
            "[385,     3] loss: 0.099\n",
            "[386,     3] loss: 0.105\n",
            "[387,     3] loss: 0.102\n",
            "[388,     3] loss: 0.110\n",
            "[389,     3] loss: 0.108\n",
            "[390,     3] loss: 0.101\n",
            "[391,     3] loss: 0.115\n",
            "[392,     3] loss: 0.098\n",
            "[393,     3] loss: 0.098\n",
            "[394,     3] loss: 0.104\n",
            "[395,     3] loss: 0.100\n",
            "[396,     3] loss: 0.109\n",
            "[397,     3] loss: 0.101\n",
            "[398,     3] loss: 0.099\n",
            "[399,     3] loss: 0.113\n",
            "[400,     3] loss: 0.102\n",
            "[401,     3] loss: 0.105\n",
            "[402,     3] loss: 0.108\n",
            "[403,     3] loss: 0.108\n",
            "[404,     3] loss: 0.101\n",
            "[405,     3] loss: 0.091\n",
            "[406,     3] loss: 0.107\n",
            "[407,     3] loss: 0.103\n",
            "[408,     3] loss: 0.106\n",
            "[409,     3] loss: 0.111\n",
            "[410,     3] loss: 0.106\n",
            "[411,     3] loss: 0.098\n",
            "[412,     3] loss: 0.109\n",
            "[413,     3] loss: 0.103\n",
            "[414,     3] loss: 0.094\n",
            "[415,     3] loss: 0.104\n",
            "[416,     3] loss: 0.112\n",
            "[417,     3] loss: 0.103\n",
            "[418,     3] loss: 0.104\n",
            "[419,     3] loss: 0.103\n",
            "[420,     3] loss: 0.107\n",
            "[421,     3] loss: 0.101\n",
            "[422,     3] loss: 0.103\n",
            "[423,     3] loss: 0.103\n",
            "[424,     3] loss: 0.100\n",
            "[425,     3] loss: 0.112\n",
            "[426,     3] loss: 0.098\n",
            "[427,     3] loss: 0.105\n",
            "[428,     3] loss: 0.118\n",
            "[429,     3] loss: 0.108\n",
            "[430,     3] loss: 0.107\n",
            "[431,     3] loss: 0.116\n",
            "[432,     3] loss: 0.100\n",
            "[433,     3] loss: 0.105\n",
            "[434,     3] loss: 0.089\n",
            "[435,     3] loss: 0.103\n",
            "[436,     3] loss: 0.096\n",
            "[437,     3] loss: 0.107\n",
            "[438,     3] loss: 0.101\n",
            "[439,     3] loss: 0.101\n",
            "[440,     3] loss: 0.105\n",
            "[441,     3] loss: 0.104\n",
            "[442,     3] loss: 0.119\n",
            "[443,     3] loss: 0.109\n",
            "[444,     3] loss: 0.096\n",
            "[445,     3] loss: 0.096\n",
            "[446,     3] loss: 0.108\n",
            "[447,     3] loss: 0.109\n",
            "[448,     3] loss: 0.095\n",
            "[449,     3] loss: 0.109\n",
            "[450,     3] loss: 0.093\n",
            "[451,     3] loss: 0.100\n",
            "[452,     3] loss: 0.100\n",
            "[453,     3] loss: 0.100\n",
            "[454,     3] loss: 0.108\n",
            "[455,     3] loss: 0.108\n",
            "[456,     3] loss: 0.108\n",
            "[457,     3] loss: 0.107\n",
            "[458,     3] loss: 0.103\n",
            "[459,     3] loss: 0.098\n",
            "[460,     3] loss: 0.104\n",
            "[461,     3] loss: 0.096\n",
            "[462,     3] loss: 0.100\n",
            "[463,     3] loss: 0.104\n",
            "[464,     3] loss: 0.107\n",
            "[465,     3] loss: 0.097\n",
            "[466,     3] loss: 0.107\n",
            "[467,     3] loss: 0.107\n",
            "[468,     3] loss: 0.113\n",
            "[469,     3] loss: 0.105\n",
            "[470,     3] loss: 0.099\n",
            "[471,     3] loss: 0.088\n",
            "[472,     3] loss: 0.105\n",
            "[473,     3] loss: 0.105\n",
            "[474,     3] loss: 0.114\n",
            "[475,     3] loss: 0.105\n",
            "[476,     3] loss: 0.109\n",
            "[477,     3] loss: 0.092\n",
            "[478,     3] loss: 0.096\n",
            "[479,     3] loss: 0.101\n",
            "[480,     3] loss: 0.095\n",
            "[481,     3] loss: 0.104\n",
            "[482,     3] loss: 0.093\n",
            "[483,     3] loss: 0.101\n",
            "[484,     3] loss: 0.100\n",
            "[485,     3] loss: 0.103\n",
            "[486,     3] loss: 0.101\n",
            "[487,     3] loss: 0.105\n",
            "[488,     3] loss: 0.099\n",
            "[489,     3] loss: 0.099\n",
            "[490,     3] loss: 0.093\n",
            "[491,     3] loss: 0.097\n",
            "[492,     3] loss: 0.095\n",
            "[493,     3] loss: 0.108\n",
            "[494,     3] loss: 0.105\n",
            "[495,     3] loss: 0.096\n",
            "[496,     3] loss: 0.104\n",
            "[497,     3] loss: 0.096\n",
            "[498,     3] loss: 0.104\n",
            "[499,     3] loss: 0.101\n",
            "[500,     3] loss: 0.092\n",
            "[501,     3] loss: 0.105\n",
            "[502,     3] loss: 0.112\n",
            "[503,     3] loss: 0.101\n",
            "[504,     3] loss: 0.102\n",
            "[505,     3] loss: 0.111\n",
            "[506,     3] loss: 0.104\n",
            "[507,     3] loss: 0.111\n",
            "[508,     3] loss: 0.100\n",
            "[509,     3] loss: 0.101\n",
            "[510,     3] loss: 0.116\n",
            "[511,     3] loss: 0.097\n",
            "[512,     3] loss: 0.111\n",
            "[513,     3] loss: 0.091\n",
            "[514,     3] loss: 0.107\n",
            "[515,     3] loss: 0.101\n",
            "[516,     3] loss: 0.101\n",
            "[517,     3] loss: 0.112\n",
            "[518,     3] loss: 0.110\n",
            "[519,     3] loss: 0.091\n",
            "[520,     3] loss: 0.114\n",
            "[521,     3] loss: 0.093\n",
            "[522,     3] loss: 0.097\n",
            "[523,     3] loss: 0.101\n",
            "[524,     3] loss: 0.101\n",
            "[525,     3] loss: 0.100\n",
            "[526,     3] loss: 0.116\n",
            "[527,     3] loss: 0.088\n",
            "[528,     3] loss: 0.103\n",
            "[529,     3] loss: 0.103\n",
            "[530,     3] loss: 0.112\n",
            "[531,     3] loss: 0.105\n",
            "[532,     3] loss: 0.103\n",
            "[533,     3] loss: 0.115\n",
            "[534,     3] loss: 0.097\n",
            "[535,     3] loss: 0.106\n",
            "[536,     3] loss: 0.104\n",
            "[537,     3] loss: 0.106\n",
            "[538,     3] loss: 0.112\n",
            "[539,     3] loss: 0.093\n",
            "[540,     3] loss: 0.112\n",
            "[541,     3] loss: 0.115\n",
            "[542,     3] loss: 0.103\n",
            "[543,     3] loss: 0.110\n",
            "[544,     3] loss: 0.109\n",
            "[545,     3] loss: 0.112\n",
            "[546,     3] loss: 0.107\n",
            "[547,     3] loss: 0.093\n",
            "[548,     3] loss: 0.111\n",
            "[549,     3] loss: 0.097\n",
            "[550,     3] loss: 0.108\n",
            "[551,     3] loss: 0.095\n",
            "[552,     3] loss: 0.102\n",
            "[553,     3] loss: 0.099\n",
            "[554,     3] loss: 0.099\n",
            "[555,     3] loss: 0.110\n",
            "[556,     3] loss: 0.096\n",
            "[557,     3] loss: 0.102\n",
            "[558,     3] loss: 0.109\n",
            "[559,     3] loss: 0.112\n",
            "[560,     3] loss: 0.102\n",
            "[561,     3] loss: 0.097\n",
            "[562,     3] loss: 0.095\n",
            "[563,     3] loss: 0.100\n",
            "[564,     3] loss: 0.104\n",
            "[565,     3] loss: 0.105\n",
            "[566,     3] loss: 0.102\n",
            "[567,     3] loss: 0.098\n",
            "[568,     3] loss: 0.095\n",
            "[569,     3] loss: 0.101\n",
            "[570,     3] loss: 0.102\n",
            "[571,     3] loss: 0.107\n",
            "[572,     3] loss: 0.096\n",
            "[573,     3] loss: 0.097\n",
            "[574,     3] loss: 0.099\n",
            "[575,     3] loss: 0.098\n",
            "[576,     3] loss: 0.111\n",
            "[577,     3] loss: 0.109\n",
            "[578,     3] loss: 0.114\n",
            "[579,     3] loss: 0.104\n",
            "[580,     3] loss: 0.110\n",
            "[581,     3] loss: 0.106\n",
            "[582,     3] loss: 0.098\n",
            "[583,     3] loss: 0.103\n",
            "[584,     3] loss: 0.101\n",
            "[585,     3] loss: 0.103\n",
            "[586,     3] loss: 0.092\n",
            "[587,     3] loss: 0.101\n",
            "[588,     3] loss: 0.107\n",
            "[589,     3] loss: 0.103\n",
            "[590,     3] loss: 0.098\n",
            "[591,     3] loss: 0.103\n",
            "[592,     3] loss: 0.103\n",
            "[593,     3] loss: 0.111\n",
            "[594,     3] loss: 0.098\n",
            "[595,     3] loss: 0.107\n",
            "[596,     3] loss: 0.101\n",
            "[597,     3] loss: 0.107\n",
            "[598,     3] loss: 0.098\n",
            "[599,     3] loss: 0.100\n",
            "[600,     3] loss: 0.102\n",
            "[601,     3] loss: 0.103\n",
            "[602,     3] loss: 0.105\n",
            "[603,     3] loss: 0.109\n",
            "[604,     3] loss: 0.102\n",
            "[605,     3] loss: 0.102\n",
            "[606,     3] loss: 0.095\n",
            "[607,     3] loss: 0.113\n",
            "[608,     3] loss: 0.109\n",
            "[609,     3] loss: 0.106\n",
            "[610,     3] loss: 0.092\n",
            "[611,     3] loss: 0.102\n",
            "[612,     3] loss: 0.094\n",
            "[613,     3] loss: 0.115\n",
            "[614,     3] loss: 0.093\n",
            "[615,     3] loss: 0.095\n",
            "[616,     3] loss: 0.095\n",
            "[617,     3] loss: 0.115\n",
            "[618,     3] loss: 0.113\n",
            "[619,     3] loss: 0.105\n",
            "[620,     3] loss: 0.104\n",
            "[621,     3] loss: 0.097\n",
            "[622,     3] loss: 0.106\n",
            "[623,     3] loss: 0.098\n",
            "[624,     3] loss: 0.099\n",
            "[625,     3] loss: 0.104\n",
            "[626,     3] loss: 0.112\n",
            "[627,     3] loss: 0.102\n",
            "[628,     3] loss: 0.100\n",
            "[629,     3] loss: 0.109\n",
            "[630,     3] loss: 0.110\n",
            "[631,     3] loss: 0.107\n",
            "[632,     3] loss: 0.096\n",
            "[633,     3] loss: 0.100\n",
            "[634,     3] loss: 0.102\n",
            "[635,     3] loss: 0.112\n",
            "[636,     3] loss: 0.106\n",
            "[637,     3] loss: 0.100\n",
            "[638,     3] loss: 0.108\n",
            "[639,     3] loss: 0.100\n",
            "[640,     3] loss: 0.100\n",
            "[641,     3] loss: 0.100\n",
            "[642,     3] loss: 0.104\n",
            "[643,     3] loss: 0.105\n",
            "[644,     3] loss: 0.101\n",
            "[645,     3] loss: 0.097\n",
            "[646,     3] loss: 0.101\n",
            "[647,     3] loss: 0.108\n",
            "[648,     3] loss: 0.103\n",
            "[649,     3] loss: 0.093\n",
            "[650,     3] loss: 0.105\n",
            "[651,     3] loss: 0.101\n",
            "[652,     3] loss: 0.105\n",
            "[653,     3] loss: 0.100\n",
            "[654,     3] loss: 0.112\n",
            "[655,     3] loss: 0.100\n",
            "[656,     3] loss: 0.106\n",
            "[657,     3] loss: 0.106\n",
            "[658,     3] loss: 0.105\n",
            "[659,     3] loss: 0.096\n",
            "[660,     3] loss: 0.097\n",
            "[661,     3] loss: 0.096\n",
            "[662,     3] loss: 0.106\n",
            "[663,     3] loss: 0.093\n",
            "[664,     3] loss: 0.109\n",
            "[665,     3] loss: 0.106\n",
            "[666,     3] loss: 0.100\n",
            "[667,     3] loss: 0.110\n",
            "[668,     3] loss: 0.100\n",
            "[669,     3] loss: 0.107\n",
            "[670,     3] loss: 0.085\n",
            "[671,     3] loss: 0.102\n",
            "[672,     3] loss: 0.103\n",
            "[673,     3] loss: 0.094\n",
            "[674,     3] loss: 0.100\n",
            "[675,     3] loss: 0.107\n",
            "[676,     3] loss: 0.094\n",
            "[677,     3] loss: 0.114\n",
            "[678,     3] loss: 0.103\n",
            "[679,     3] loss: 0.097\n",
            "[680,     3] loss: 0.109\n",
            "[681,     3] loss: 0.113\n",
            "[682,     3] loss: 0.102\n",
            "[683,     3] loss: 0.107\n",
            "[684,     3] loss: 0.100\n",
            "[685,     3] loss: 0.094\n",
            "[686,     3] loss: 0.103\n",
            "[687,     3] loss: 0.094\n",
            "[688,     3] loss: 0.098\n",
            "[689,     3] loss: 0.110\n",
            "[690,     3] loss: 0.100\n",
            "[691,     3] loss: 0.103\n",
            "[692,     3] loss: 0.104\n",
            "[693,     3] loss: 0.104\n",
            "[694,     3] loss: 0.103\n",
            "[695,     3] loss: 0.091\n",
            "[696,     3] loss: 0.108\n",
            "[697,     3] loss: 0.106\n",
            "[698,     3] loss: 0.094\n",
            "[699,     3] loss: 0.103\n",
            "[700,     3] loss: 0.107\n",
            "[701,     3] loss: 0.096\n",
            "[702,     3] loss: 0.100\n",
            "[703,     3] loss: 0.099\n",
            "[704,     3] loss: 0.104\n",
            "[705,     3] loss: 0.107\n",
            "[706,     3] loss: 0.098\n",
            "[707,     3] loss: 0.110\n",
            "[708,     3] loss: 0.100\n",
            "[709,     3] loss: 0.107\n",
            "[710,     3] loss: 0.099\n",
            "[711,     3] loss: 0.106\n",
            "[712,     3] loss: 0.106\n",
            "[713,     3] loss: 0.093\n",
            "[714,     3] loss: 0.114\n",
            "[715,     3] loss: 0.104\n",
            "[716,     3] loss: 0.097\n",
            "[717,     3] loss: 0.103\n",
            "[718,     3] loss: 0.098\n",
            "[719,     3] loss: 0.097\n",
            "[720,     3] loss: 0.092\n",
            "[721,     3] loss: 0.099\n",
            "[722,     3] loss: 0.115\n",
            "[723,     3] loss: 0.111\n",
            "[724,     3] loss: 0.099\n",
            "[725,     3] loss: 0.101\n",
            "[726,     3] loss: 0.106\n",
            "[727,     3] loss: 0.098\n",
            "[728,     3] loss: 0.108\n",
            "[729,     3] loss: 0.099\n",
            "[730,     3] loss: 0.101\n",
            "[731,     3] loss: 0.101\n",
            "[732,     3] loss: 0.091\n",
            "[733,     3] loss: 0.103\n",
            "[734,     3] loss: 0.103\n",
            "[735,     3] loss: 0.091\n",
            "[736,     3] loss: 0.111\n",
            "[737,     3] loss: 0.101\n",
            "[738,     3] loss: 0.099\n",
            "[739,     3] loss: 0.107\n",
            "[740,     3] loss: 0.097\n",
            "[741,     3] loss: 0.109\n",
            "[742,     3] loss: 0.110\n",
            "[743,     3] loss: 0.100\n",
            "[744,     3] loss: 0.100\n",
            "[745,     3] loss: 0.098\n",
            "[746,     3] loss: 0.101\n",
            "[747,     3] loss: 0.092\n",
            "[748,     3] loss: 0.099\n",
            "[749,     3] loss: 0.096\n",
            "[750,     3] loss: 0.108\n",
            "[751,     3] loss: 0.092\n",
            "[752,     3] loss: 0.103\n",
            "[753,     3] loss: 0.096\n",
            "[754,     3] loss: 0.099\n",
            "[755,     3] loss: 0.095\n",
            "[756,     3] loss: 0.102\n",
            "[757,     3] loss: 0.102\n",
            "[758,     3] loss: 0.102\n",
            "[759,     3] loss: 0.096\n",
            "[760,     3] loss: 0.105\n",
            "[761,     3] loss: 0.111\n",
            "[762,     3] loss: 0.100\n",
            "[763,     3] loss: 0.098\n",
            "[764,     3] loss: 0.101\n",
            "[765,     3] loss: 0.095\n",
            "[766,     3] loss: 0.098\n",
            "[767,     3] loss: 0.107\n",
            "[768,     3] loss: 0.099\n",
            "[769,     3] loss: 0.111\n",
            "[770,     3] loss: 0.100\n",
            "[771,     3] loss: 0.109\n",
            "[772,     3] loss: 0.094\n",
            "[773,     3] loss: 0.098\n",
            "[774,     3] loss: 0.091\n",
            "[775,     3] loss: 0.098\n",
            "[776,     3] loss: 0.092\n",
            "[777,     3] loss: 0.108\n",
            "[778,     3] loss: 0.098\n",
            "[779,     3] loss: 0.101\n",
            "[780,     3] loss: 0.103\n",
            "[781,     3] loss: 0.089\n",
            "[782,     3] loss: 0.106\n",
            "[783,     3] loss: 0.093\n",
            "[784,     3] loss: 0.096\n",
            "[785,     3] loss: 0.099\n",
            "[786,     3] loss: 0.100\n",
            "[787,     3] loss: 0.099\n",
            "[788,     3] loss: 0.102\n",
            "[789,     3] loss: 0.102\n",
            "[790,     3] loss: 0.104\n",
            "[791,     3] loss: 0.104\n",
            "[792,     3] loss: 0.104\n",
            "[793,     3] loss: 0.096\n",
            "[794,     3] loss: 0.096\n",
            "[795,     3] loss: 0.098\n",
            "[796,     3] loss: 0.089\n",
            "[797,     3] loss: 0.095\n",
            "[798,     3] loss: 0.096\n",
            "[799,     3] loss: 0.103\n",
            "[800,     3] loss: 0.094\n",
            "[801,     3] loss: 0.105\n",
            "[802,     3] loss: 0.103\n",
            "[803,     3] loss: 0.090\n",
            "[804,     3] loss: 0.097\n",
            "[805,     3] loss: 0.104\n",
            "[806,     3] loss: 0.107\n",
            "[807,     3] loss: 0.089\n",
            "[808,     3] loss: 0.105\n",
            "[809,     3] loss: 0.090\n",
            "[810,     3] loss: 0.096\n",
            "[811,     3] loss: 0.090\n",
            "[812,     3] loss: 0.096\n",
            "[813,     3] loss: 0.104\n",
            "[814,     3] loss: 0.107\n",
            "[815,     3] loss: 0.098\n",
            "[816,     3] loss: 0.094\n",
            "[817,     3] loss: 0.096\n",
            "[818,     3] loss: 0.105\n",
            "[819,     3] loss: 0.098\n",
            "[820,     3] loss: 0.102\n",
            "[821,     3] loss: 0.100\n",
            "[822,     3] loss: 0.095\n",
            "[823,     3] loss: 0.091\n",
            "[824,     3] loss: 0.093\n",
            "[825,     3] loss: 0.104\n",
            "[826,     3] loss: 0.094\n",
            "[827,     3] loss: 0.100\n",
            "[828,     3] loss: 0.094\n",
            "[829,     3] loss: 0.100\n",
            "[830,     3] loss: 0.098\n",
            "[831,     3] loss: 0.105\n",
            "[832,     3] loss: 0.095\n",
            "[833,     3] loss: 0.096\n",
            "[834,     3] loss: 0.107\n",
            "[835,     3] loss: 0.107\n",
            "[836,     3] loss: 0.099\n",
            "[837,     3] loss: 0.094\n",
            "[838,     3] loss: 0.104\n",
            "[839,     3] loss: 0.112\n",
            "[840,     3] loss: 0.093\n",
            "[841,     3] loss: 0.088\n",
            "[842,     3] loss: 0.100\n",
            "[843,     3] loss: 0.109\n",
            "[844,     3] loss: 0.094\n",
            "[845,     3] loss: 0.102\n",
            "[846,     3] loss: 0.095\n",
            "[847,     3] loss: 0.097\n",
            "[848,     3] loss: 0.101\n",
            "[849,     3] loss: 0.101\n",
            "[850,     3] loss: 0.103\n",
            "[851,     3] loss: 0.082\n",
            "[852,     3] loss: 0.095\n",
            "[853,     3] loss: 0.095\n",
            "[854,     3] loss: 0.099\n",
            "[855,     3] loss: 0.099\n",
            "[856,     3] loss: 0.101\n",
            "[857,     3] loss: 0.098\n",
            "[858,     3] loss: 0.099\n",
            "[859,     3] loss: 0.097\n",
            "[860,     3] loss: 0.091\n",
            "[861,     3] loss: 0.092\n",
            "[862,     3] loss: 0.099\n",
            "[863,     3] loss: 0.095\n",
            "[864,     3] loss: 0.094\n",
            "[865,     3] loss: 0.100\n",
            "[866,     3] loss: 0.095\n",
            "[867,     3] loss: 0.098\n",
            "[868,     3] loss: 0.094\n",
            "[869,     3] loss: 0.097\n",
            "[870,     3] loss: 0.092\n",
            "[871,     3] loss: 0.096\n",
            "[872,     3] loss: 0.097\n",
            "[873,     3] loss: 0.087\n",
            "[874,     3] loss: 0.102\n",
            "[875,     3] loss: 0.103\n",
            "[876,     3] loss: 0.110\n",
            "[877,     3] loss: 0.095\n",
            "[878,     3] loss: 0.097\n",
            "[879,     3] loss: 0.093\n",
            "[880,     3] loss: 0.098\n",
            "[881,     3] loss: 0.097\n",
            "[882,     3] loss: 0.099\n",
            "[883,     3] loss: 0.092\n",
            "[884,     3] loss: 0.099\n",
            "[885,     3] loss: 0.100\n",
            "[886,     3] loss: 0.101\n",
            "[887,     3] loss: 0.100\n",
            "[888,     3] loss: 0.102\n",
            "[889,     3] loss: 0.106\n",
            "[890,     3] loss: 0.106\n",
            "[891,     3] loss: 0.104\n",
            "[892,     3] loss: 0.093\n",
            "[893,     3] loss: 0.093\n",
            "[894,     3] loss: 0.106\n",
            "[895,     3] loss: 0.093\n",
            "[896,     3] loss: 0.100\n",
            "[897,     3] loss: 0.096\n",
            "[898,     3] loss: 0.096\n",
            "[899,     3] loss: 0.106\n",
            "[900,     3] loss: 0.101\n",
            "[901,     3] loss: 0.090\n",
            "[902,     3] loss: 0.094\n",
            "[903,     3] loss: 0.091\n",
            "[904,     3] loss: 0.099\n",
            "[905,     3] loss: 0.096\n",
            "[906,     3] loss: 0.089\n",
            "[907,     3] loss: 0.094\n",
            "[908,     3] loss: 0.100\n",
            "[909,     3] loss: 0.098\n",
            "[910,     3] loss: 0.106\n",
            "[911,     3] loss: 0.101\n",
            "[912,     3] loss: 0.097\n",
            "[913,     3] loss: 0.101\n",
            "[914,     3] loss: 0.104\n",
            "[915,     3] loss: 0.097\n",
            "[916,     3] loss: 0.104\n",
            "[917,     3] loss: 0.093\n",
            "[918,     3] loss: 0.093\n",
            "[919,     3] loss: 0.097\n",
            "[920,     3] loss: 0.104\n",
            "[921,     3] loss: 0.108\n",
            "[922,     3] loss: 0.099\n",
            "[923,     3] loss: 0.103\n",
            "[924,     3] loss: 0.104\n",
            "[925,     3] loss: 0.098\n",
            "[926,     3] loss: 0.103\n",
            "[927,     3] loss: 0.099\n",
            "[928,     3] loss: 0.098\n",
            "[929,     3] loss: 0.104\n",
            "[930,     3] loss: 0.100\n",
            "[931,     3] loss: 0.098\n",
            "[932,     3] loss: 0.106\n",
            "[933,     3] loss: 0.100\n",
            "[934,     3] loss: 0.097\n",
            "[935,     3] loss: 0.100\n",
            "[936,     3] loss: 0.091\n",
            "[937,     3] loss: 0.099\n",
            "[938,     3] loss: 0.094\n",
            "[939,     3] loss: 0.105\n",
            "[940,     3] loss: 0.099\n",
            "[941,     3] loss: 0.101\n",
            "[942,     3] loss: 0.100\n",
            "[943,     3] loss: 0.087\n",
            "[944,     3] loss: 0.104\n",
            "[945,     3] loss: 0.100\n",
            "[946,     3] loss: 0.097\n",
            "[947,     3] loss: 0.096\n",
            "[948,     3] loss: 0.097\n",
            "[949,     3] loss: 0.094\n",
            "[950,     3] loss: 0.101\n",
            "[951,     3] loss: 0.097\n",
            "[952,     3] loss: 0.087\n",
            "[953,     3] loss: 0.094\n",
            "[954,     3] loss: 0.096\n",
            "[955,     3] loss: 0.103\n",
            "[956,     3] loss: 0.099\n",
            "[957,     3] loss: 0.106\n",
            "[958,     3] loss: 0.096\n",
            "[959,     3] loss: 0.089\n",
            "[960,     3] loss: 0.092\n",
            "[961,     3] loss: 0.097\n",
            "[962,     3] loss: 0.093\n",
            "[963,     3] loss: 0.092\n",
            "[964,     3] loss: 0.107\n",
            "[965,     3] loss: 0.102\n",
            "[966,     3] loss: 0.093\n",
            "[967,     3] loss: 0.107\n",
            "[968,     3] loss: 0.104\n",
            "[969,     3] loss: 0.102\n",
            "[970,     3] loss: 0.086\n",
            "[971,     3] loss: 0.109\n",
            "[972,     3] loss: 0.107\n",
            "[973,     3] loss: 0.091\n",
            "[974,     3] loss: 0.104\n",
            "[975,     3] loss: 0.101\n",
            "[976,     3] loss: 0.101\n",
            "[977,     3] loss: 0.109\n",
            "[978,     3] loss: 0.099\n",
            "[979,     3] loss: 0.101\n",
            "[980,     3] loss: 0.097\n",
            "[981,     3] loss: 0.098\n",
            "[982,     3] loss: 0.096\n",
            "[983,     3] loss: 0.095\n",
            "[984,     3] loss: 0.092\n",
            "[985,     3] loss: 0.103\n",
            "[986,     3] loss: 0.093\n",
            "[987,     3] loss: 0.099\n",
            "[988,     3] loss: 0.097\n",
            "[989,     3] loss: 0.101\n",
            "[990,     3] loss: 0.101\n",
            "[991,     3] loss: 0.097\n",
            "[992,     3] loss: 0.093\n",
            "[993,     3] loss: 0.088\n",
            "[994,     3] loss: 0.104\n",
            "[995,     3] loss: 0.105\n",
            "[996,     3] loss: 0.094\n",
            "[997,     3] loss: 0.103\n",
            "[998,     3] loss: 0.095\n",
            "[999,     3] loss: 0.105\n",
            "[1000,     3] loss: 0.099\n",
            "Finished Training\n"
          ],
          "name": "stdout"
        }
      ]
    },
    {
      "cell_type": "code",
      "metadata": {
        "id": "5gQoPST5zW2t"
      },
      "source": [
        "df_train = pd.DataFrame()\n",
        "df_test = pd.DataFrame()"
      ],
      "execution_count": 49,
      "outputs": []
    },
    {
      "cell_type": "code",
      "metadata": {
        "id": "In76SYH_zZHV"
      },
      "source": [
        "columns = [\"epochs\", \"argmax > 0.5\" ,\"argmax < 0.5\", \"focus_true_pred_true\", \"focus_false_pred_true\", \"focus_true_pred_false\", \"focus_false_pred_false\" ]"
      ],
      "execution_count": 50,
      "outputs": []
    },
    {
      "cell_type": "code",
      "metadata": {
        "id": "BS4HtOHEzZ0E"
      },
      "source": [
        "df_train[columns[0]] = col1\n",
        "df_train[columns[1]] = col2\n",
        "df_train[columns[2]] = col3\n",
        "df_train[columns[3]] = col4\n",
        "df_train[columns[4]] = col5\n",
        "df_train[columns[5]] = col6\n",
        "df_train[columns[6]] = col7\n",
        "\n",
        "df_test[columns[0]] = col1\n",
        "df_test[columns[1]] = col8\n",
        "df_test[columns[2]] = col9\n",
        "df_test[columns[3]] = col10\n",
        "df_test[columns[4]] = col11\n",
        "df_test[columns[5]] = col12\n",
        "df_test[columns[6]] = col13"
      ],
      "execution_count": 51,
      "outputs": []
    },
    {
      "cell_type": "code",
      "metadata": {
        "id": "1UbTkfLUINTI",
        "colab": {
          "base_uri": "https://localhost:8080/",
          "height": 424
        },
        "outputId": "64f572ab-9ae6-4188-9273-d81fac46127f"
      },
      "source": [
        "df_train"
      ],
      "execution_count": 52,
      "outputs": [
        {
          "output_type": "execute_result",
          "data": {
            "text/html": [
              "<div>\n",
              "<style scoped>\n",
              "    .dataframe tbody tr th:only-of-type {\n",
              "        vertical-align: middle;\n",
              "    }\n",
              "\n",
              "    .dataframe tbody tr th {\n",
              "        vertical-align: top;\n",
              "    }\n",
              "\n",
              "    .dataframe thead th {\n",
              "        text-align: right;\n",
              "    }\n",
              "</style>\n",
              "<table border=\"1\" class=\"dataframe\">\n",
              "  <thead>\n",
              "    <tr style=\"text-align: right;\">\n",
              "      <th></th>\n",
              "      <th>epochs</th>\n",
              "      <th>argmax &gt; 0.5</th>\n",
              "      <th>argmax &lt; 0.5</th>\n",
              "      <th>focus_true_pred_true</th>\n",
              "      <th>focus_false_pred_true</th>\n",
              "      <th>focus_true_pred_false</th>\n",
              "      <th>focus_false_pred_false</th>\n",
              "    </tr>\n",
              "  </thead>\n",
              "  <tbody>\n",
              "    <tr>\n",
              "      <th>0</th>\n",
              "      <td>0</td>\n",
              "      <td>0</td>\n",
              "      <td>1000</td>\n",
              "      <td>45</td>\n",
              "      <td>268</td>\n",
              "      <td>74</td>\n",
              "      <td>613</td>\n",
              "    </tr>\n",
              "    <tr>\n",
              "      <th>1</th>\n",
              "      <td>1</td>\n",
              "      <td>0</td>\n",
              "      <td>1000</td>\n",
              "      <td>174</td>\n",
              "      <td>395</td>\n",
              "      <td>105</td>\n",
              "      <td>326</td>\n",
              "    </tr>\n",
              "    <tr>\n",
              "      <th>2</th>\n",
              "      <td>6</td>\n",
              "      <td>0</td>\n",
              "      <td>1000</td>\n",
              "      <td>873</td>\n",
              "      <td>0</td>\n",
              "      <td>127</td>\n",
              "      <td>0</td>\n",
              "    </tr>\n",
              "    <tr>\n",
              "      <th>3</th>\n",
              "      <td>11</td>\n",
              "      <td>0</td>\n",
              "      <td>1000</td>\n",
              "      <td>931</td>\n",
              "      <td>0</td>\n",
              "      <td>69</td>\n",
              "      <td>0</td>\n",
              "    </tr>\n",
              "    <tr>\n",
              "      <th>4</th>\n",
              "      <td>16</td>\n",
              "      <td>5</td>\n",
              "      <td>995</td>\n",
              "      <td>943</td>\n",
              "      <td>0</td>\n",
              "      <td>57</td>\n",
              "      <td>0</td>\n",
              "    </tr>\n",
              "    <tr>\n",
              "      <th>...</th>\n",
              "      <td>...</td>\n",
              "      <td>...</td>\n",
              "      <td>...</td>\n",
              "      <td>...</td>\n",
              "      <td>...</td>\n",
              "      <td>...</td>\n",
              "      <td>...</td>\n",
              "    </tr>\n",
              "    <tr>\n",
              "      <th>196</th>\n",
              "      <td>976</td>\n",
              "      <td>510</td>\n",
              "      <td>490</td>\n",
              "      <td>942</td>\n",
              "      <td>0</td>\n",
              "      <td>58</td>\n",
              "      <td>0</td>\n",
              "    </tr>\n",
              "    <tr>\n",
              "      <th>197</th>\n",
              "      <td>981</td>\n",
              "      <td>508</td>\n",
              "      <td>492</td>\n",
              "      <td>951</td>\n",
              "      <td>0</td>\n",
              "      <td>49</td>\n",
              "      <td>0</td>\n",
              "    </tr>\n",
              "    <tr>\n",
              "      <th>198</th>\n",
              "      <td>986</td>\n",
              "      <td>504</td>\n",
              "      <td>496</td>\n",
              "      <td>953</td>\n",
              "      <td>0</td>\n",
              "      <td>47</td>\n",
              "      <td>0</td>\n",
              "    </tr>\n",
              "    <tr>\n",
              "      <th>199</th>\n",
              "      <td>991</td>\n",
              "      <td>503</td>\n",
              "      <td>497</td>\n",
              "      <td>949</td>\n",
              "      <td>0</td>\n",
              "      <td>51</td>\n",
              "      <td>0</td>\n",
              "    </tr>\n",
              "    <tr>\n",
              "      <th>200</th>\n",
              "      <td>996</td>\n",
              "      <td>497</td>\n",
              "      <td>503</td>\n",
              "      <td>950</td>\n",
              "      <td>0</td>\n",
              "      <td>50</td>\n",
              "      <td>0</td>\n",
              "    </tr>\n",
              "  </tbody>\n",
              "</table>\n",
              "<p>201 rows × 7 columns</p>\n",
              "</div>"
            ],
            "text/plain": [
              "     epochs  argmax > 0.5  ...  focus_true_pred_false  focus_false_pred_false\n",
              "0         0             0  ...                     74                     613\n",
              "1         1             0  ...                    105                     326\n",
              "2         6             0  ...                    127                       0\n",
              "3        11             0  ...                     69                       0\n",
              "4        16             5  ...                     57                       0\n",
              "..      ...           ...  ...                    ...                     ...\n",
              "196     976           510  ...                     58                       0\n",
              "197     981           508  ...                     49                       0\n",
              "198     986           504  ...                     47                       0\n",
              "199     991           503  ...                     51                       0\n",
              "200     996           497  ...                     50                       0\n",
              "\n",
              "[201 rows x 7 columns]"
            ]
          },
          "metadata": {
            "tags": []
          },
          "execution_count": 52
        }
      ]
    },
    {
      "cell_type": "code",
      "metadata": {
        "colab": {
          "base_uri": "https://localhost:8080/",
          "height": 573
        },
        "id": "xyna3USAeKZ9",
        "outputId": "653f7e94-9a86-4a10-bc1e-55384b52de35"
      },
      "source": [
        "# plt.figure(12,12)\n",
        "plt.plot(col1,col2, label='argmax > 0.5')\n",
        "plt.plot(col1,col3, label='argmax < 0.5')\n",
        "\n",
        "plt.legend(loc='center left', bbox_to_anchor=(1, 0.5))\n",
        "plt.xlabel(\"epochs\")\n",
        "plt.ylabel(\"training data\")\n",
        "plt.title(\"On Training set\")\n",
        "plt.show()\n",
        "\n",
        "plt.plot(col1,col4, label =\"focus_true_pred_true \")\n",
        "plt.plot(col1,col5, label =\"focus_false_pred_true \")\n",
        "plt.plot(col1,col6, label =\"focus_true_pred_false \")\n",
        "plt.plot(col1,col7, label =\"focus_false_pred_false \")\n",
        "plt.title(\"On Training set\")\n",
        "plt.legend(loc='center left', bbox_to_anchor=(1, 0.5))\n",
        "plt.xlabel(\"epochs\")\n",
        "plt.ylabel(\"training data\")\n",
        "plt.show()"
      ],
      "execution_count": 53,
      "outputs": [
        {
          "output_type": "display_data",
          "data": {
            "image/png": "[encoded data removed]",
            "text/plain": [
              "<Figure size 432x288 with 1 Axes>"
            ]
          },
          "metadata": {
            "tags": [],
            "needs_background": "light"
          }
        },
        {
          "output_type": "display_data",
          "data": {
            "image/png": "[encoded data removed]",
            "text/plain": [
              "<Figure size 432x288 with 1 Axes>"
            ]
          },
          "metadata": {
            "tags": [],
            "needs_background": "light"
          }
        }
      ]
    },
    {
      "cell_type": "code",
      "metadata": {
        "colab": {
          "base_uri": "https://localhost:8080/",
          "height": 354
        },
        "id": "YU0LC2_JSzhT",
        "outputId": "0f7bf337-706b-41a5-9d65-630064d3edff"
      },
      "source": [
        "plt.figure(figsize=(6,5))\n",
        "plt.plot(col1,np.array(col4)/10, label =\"FTPT\")\n",
        "plt.plot(col1,np.array(col5)/10, label =\"FFPT\")\n",
        "plt.plot(col1,np.array(col6)/10, label =\"FTPF\")\n",
        "plt.plot(col1,np.array(col7)/10, label =\"FFPF\")\n",
        "plt.title(\"Dataset1 - SDC On Train set\")\n",
        "plt.grid()\n",
        "# plt.legend(loc='center left', bbox_to_anchor=(1, 0.5))\n",
        "plt.legend()\n",
        "plt.xlabel(\"epochs\", fontsize=14, fontweight = 'bold')\n",
        "plt.ylabel(\"percentage train data\", fontsize=14, fontweight = 'bold')\n",
        "plt.savefig(path+\"ds1_train.png\", bbox_inches=\"tight\")\n",
        "plt.savefig(path+\"ds1_train.pdf\", bbox_inches=\"tight\")\n",
        "plt.savefig(\"ds1_train.png\", bbox_inches=\"tight\")\n",
        "plt.savefig(\"ds1_train.pdf\", bbox_inches=\"tight\")\n",
        "plt.show()"
      ],
      "execution_count": 54,
      "outputs": [
        {
          "output_type": "display_data",
          "data": {
            "image/png": "[encoded data removed]",
            "text/plain": [
              "<Figure size 432x360 with 1 Axes>"
            ]
          },
          "metadata": {
            "tags": [],
            "needs_background": "light"
          }
        }
      ]
    },
    {
      "cell_type": "code",
      "metadata": {
        "colab": {
          "base_uri": "https://localhost:8080/",
          "height": 424
        },
        "id": "hrb68lvueMA-",
        "outputId": "b8d801c7-f341-45e9-bb67-188c1f4ebc68"
      },
      "source": [
        "df_test"
      ],
      "execution_count": 55,
      "outputs": [
        {
          "output_type": "execute_result",
          "data": {
            "text/html": [
              "<div>\n",
              "<style scoped>\n",
              "    .dataframe tbody tr th:only-of-type {\n",
              "        vertical-align: middle;\n",
              "    }\n",
              "\n",
              "    .dataframe tbody tr th {\n",
              "        vertical-align: top;\n",
              "    }\n",
              "\n",
              "    .dataframe thead th {\n",
              "        text-align: right;\n",
              "    }\n",
              "</style>\n",
              "<table border=\"1\" class=\"dataframe\">\n",
              "  <thead>\n",
              "    <tr style=\"text-align: right;\">\n",
              "      <th></th>\n",
              "      <th>epochs</th>\n",
              "      <th>argmax &gt; 0.5</th>\n",
              "      <th>argmax &lt; 0.5</th>\n",
              "      <th>focus_true_pred_true</th>\n",
              "      <th>focus_false_pred_true</th>\n",
              "      <th>focus_true_pred_false</th>\n",
              "      <th>focus_false_pred_false</th>\n",
              "    </tr>\n",
              "  </thead>\n",
              "  <tbody>\n",
              "    <tr>\n",
              "      <th>0</th>\n",
              "      <td>0</td>\n",
              "      <td>0</td>\n",
              "      <td>1000</td>\n",
              "      <td>41</td>\n",
              "      <td>237</td>\n",
              "      <td>81</td>\n",
              "      <td>641</td>\n",
              "    </tr>\n",
              "    <tr>\n",
              "      <th>1</th>\n",
              "      <td>1</td>\n",
              "      <td>0</td>\n",
              "      <td>1000</td>\n",
              "      <td>691</td>\n",
              "      <td>0</td>\n",
              "      <td>309</td>\n",
              "      <td>0</td>\n",
              "    </tr>\n",
              "    <tr>\n",
              "      <th>2</th>\n",
              "      <td>6</td>\n",
              "      <td>0</td>\n",
              "      <td>1000</td>\n",
              "      <td>881</td>\n",
              "      <td>0</td>\n",
              "      <td>119</td>\n",
              "      <td>0</td>\n",
              "    </tr>\n",
              "    <tr>\n",
              "      <th>3</th>\n",
              "      <td>11</td>\n",
              "      <td>0</td>\n",
              "      <td>1000</td>\n",
              "      <td>935</td>\n",
              "      <td>0</td>\n",
              "      <td>65</td>\n",
              "      <td>0</td>\n",
              "    </tr>\n",
              "    <tr>\n",
              "      <th>4</th>\n",
              "      <td>16</td>\n",
              "      <td>7</td>\n",
              "      <td>993</td>\n",
              "      <td>936</td>\n",
              "      <td>0</td>\n",
              "      <td>64</td>\n",
              "      <td>0</td>\n",
              "    </tr>\n",
              "    <tr>\n",
              "      <th>...</th>\n",
              "      <td>...</td>\n",
              "      <td>...</td>\n",
              "      <td>...</td>\n",
              "      <td>...</td>\n",
              "      <td>...</td>\n",
              "      <td>...</td>\n",
              "      <td>...</td>\n",
              "    </tr>\n",
              "    <tr>\n",
              "      <th>196</th>\n",
              "      <td>976</td>\n",
              "      <td>537</td>\n",
              "      <td>463</td>\n",
              "      <td>934</td>\n",
              "      <td>0</td>\n",
              "      <td>66</td>\n",
              "      <td>0</td>\n",
              "    </tr>\n",
              "    <tr>\n",
              "      <th>197</th>\n",
              "      <td>981</td>\n",
              "      <td>541</td>\n",
              "      <td>459</td>\n",
              "      <td>939</td>\n",
              "      <td>0</td>\n",
              "      <td>61</td>\n",
              "      <td>0</td>\n",
              "    </tr>\n",
              "    <tr>\n",
              "      <th>198</th>\n",
              "      <td>986</td>\n",
              "      <td>537</td>\n",
              "      <td>463</td>\n",
              "      <td>944</td>\n",
              "      <td>0</td>\n",
              "      <td>56</td>\n",
              "      <td>0</td>\n",
              "    </tr>\n",
              "    <tr>\n",
              "      <th>199</th>\n",
              "      <td>991</td>\n",
              "      <td>534</td>\n",
              "      <td>466</td>\n",
              "      <td>943</td>\n",
              "      <td>0</td>\n",
              "      <td>57</td>\n",
              "      <td>0</td>\n",
              "    </tr>\n",
              "    <tr>\n",
              "      <th>200</th>\n",
              "      <td>996</td>\n",
              "      <td>531</td>\n",
              "      <td>469</td>\n",
              "      <td>950</td>\n",
              "      <td>0</td>\n",
              "      <td>50</td>\n",
              "      <td>0</td>\n",
              "    </tr>\n",
              "  </tbody>\n",
              "</table>\n",
              "<p>201 rows × 7 columns</p>\n",
              "</div>"
            ],
            "text/plain": [
              "     epochs  argmax > 0.5  ...  focus_true_pred_false  focus_false_pred_false\n",
              "0         0             0  ...                     81                     641\n",
              "1         1             0  ...                    309                       0\n",
              "2         6             0  ...                    119                       0\n",
              "3        11             0  ...                     65                       0\n",
              "4        16             7  ...                     64                       0\n",
              "..      ...           ...  ...                    ...                     ...\n",
              "196     976           537  ...                     66                       0\n",
              "197     981           541  ...                     61                       0\n",
              "198     986           537  ...                     56                       0\n",
              "199     991           534  ...                     57                       0\n",
              "200     996           531  ...                     50                       0\n",
              "\n",
              "[201 rows x 7 columns]"
            ]
          },
          "metadata": {
            "tags": []
          },
          "execution_count": 55
        }
      ]
    },
    {
      "cell_type": "code",
      "metadata": {
        "colab": {
          "base_uri": "https://localhost:8080/",
          "height": 573
        },
        "id": "qR5SnitGeNMN",
        "outputId": "e3c001ff-fb7d-4570-c7b8-51aa5e598f6a"
      },
      "source": [
        "# plt.figure(12,12)\n",
        "plt.plot(col1,col8, label='argmax > 0.5')\n",
        "plt.plot(col1,col9, label='argmax < 0.5')\n",
        "\n",
        "plt.legend(loc='center left', bbox_to_anchor=(1, 0.5))\n",
        "plt.xlabel(\"epochs\")\n",
        "plt.ylabel(\"Testing data\")\n",
        "plt.title(\"On Testing set\")\n",
        "plt.show()\n",
        "\n",
        "plt.plot(col1,col10, label =\"focus_true_pred_true \")\n",
        "plt.plot(col1,col11, label =\"focus_false_pred_true \")\n",
        "plt.plot(col1,col12, label =\"focus_true_pred_false \")\n",
        "plt.plot(col1,col13, label =\"focus_false_pred_false \")\n",
        "plt.title(\"On Testing set\")\n",
        "plt.legend(loc='center left', bbox_to_anchor=(1, 0.5))\n",
        "plt.xlabel(\"epochs\")\n",
        "plt.ylabel(\"Testing data\")\n",
        "plt.show()"
      ],
      "execution_count": 56,
      "outputs": [
        {
          "output_type": "display_data",
          "data": {
            "image/png": "[encoded data removed]",
            "text/plain": [
              "<Figure size 432x288 with 1 Axes>"
            ]
          },
          "metadata": {
            "tags": [],
            "needs_background": "light"
          }
        },
        {
          "output_type": "display_data",
          "data": {
            "image/png": "[encoded data removed]",
            "text/plain": [
              "<Figure size 432x288 with 1 Axes>"
            ]
          },
          "metadata": {
            "tags": [],
            "needs_background": "light"
          }
        }
      ]
    },
    {
      "cell_type": "code",
      "metadata": {
        "colab": {
          "base_uri": "https://localhost:8080/",
          "height": 354
        },
        "id": "CPFqF3MdUC6D",
        "outputId": "ffb9894b-1253-4c8c-a25d-cea65a42d521"
      },
      "source": [
        "plt.figure(figsize=(6,5))\n",
        "plt.plot(col1,np.array(col10)/10, label =\"FTPT\")\n",
        "plt.plot(col1,np.array(col11)/10, label =\"FFPT\")\n",
        "plt.plot(col1,np.array(col12)/10, label =\"FTPF\")\n",
        "plt.plot(col1,np.array(col13)/10, label =\"FFPF\")\n",
        "plt.title(\"Dataset1 - SDC On Test set\")\n",
        "plt.grid()\n",
        "# plt.legend(loc='center left', bbox_to_anchor=(1, 0.5))\n",
        "plt.legend()\n",
        "plt.xlabel(\"epochs\", fontsize=14, fontweight = 'bold')\n",
        "plt.ylabel(\"percentage test data\", fontsize=14, fontweight = 'bold')\n",
        "plt.savefig(path+\"ds1_test.png\", bbox_inches=\"tight\")\n",
        "plt.savefig(path+\"ds1_test.pdf\", bbox_inches=\"tight\")\n",
        "plt.savefig(\"ds1_test.png\", bbox_inches=\"tight\")\n",
        "plt.savefig(\"ds1_test.pdf\", bbox_inches=\"tight\")\n",
        "plt.show()"
      ],
      "execution_count": 57,
      "outputs": [
        {
          "output_type": "display_data",
          "data": {
            "image/png": "[encoded data removed]",
            "text/plain": [
              "<Figure size 432x360 with 1 Axes>"
            ]
          },
          "metadata": {
            "tags": [],
            "needs_background": "light"
          }
        }
      ]
    },
    {
      "cell_type": "code",
      "metadata": {
        "colab": {
          "base_uri": "https://localhost:8080/"
        },
        "id": "TGrzYDWxeO6m",
        "outputId": "aee8a125-d21b-4454-96f7-ab6ee25c7e27"
      },
      "source": [
        "correct = 0\n",
        "total = 0\n",
        "count = 0\n",
        "flag = 1\n",
        "focus_true_pred_true =0\n",
        "focus_false_pred_true =0\n",
        "focus_true_pred_false =0\n",
        "focus_false_pred_false =0\n",
        "\n",
        "argmax_more_than_half = 0\n",
        "argmax_less_than_half =0\n",
        "\n",
        "with torch.no_grad():\n",
        "  for data in train_loader:\n",
        "    inputs, labels , fore_idx = data\n",
        "    inputs = inputs.double()\n",
        "    inputs, labels , fore_idx = inputs.to(\"cuda\"),labels.to(\"cuda\"), fore_idx.to(\"cuda\")\n",
        "    alphas, avg_images = focus_net(inputs)\n",
        "    outputs = classify(avg_images)\n",
        "\n",
        "    _, predicted = torch.max(outputs.data, 1)\n",
        "\n",
        "    for j in range(labels.size(0)):\n",
        "      focus = torch.argmax(alphas[j])\n",
        "      if alphas[j][focus] >= 0.5 :\n",
        "        argmax_more_than_half += 1\n",
        "      else:\n",
        "        argmax_less_than_half += 1\n",
        "\n",
        "      if(focus == fore_idx[j] and predicted[j] == labels[j]):\n",
        "          focus_true_pred_true += 1\n",
        "      elif(focus != fore_idx[j] and predicted[j] == labels[j]):\n",
        "        focus_false_pred_true += 1\n",
        "      elif(focus == fore_idx[j] and predicted[j] != labels[j]):\n",
        "        focus_true_pred_false += 1\n",
        "      elif(focus != fore_idx[j] and predicted[j] != labels[j]):\n",
        "        focus_false_pred_false += 1\n",
        "\n",
        "    total += labels.size(0)\n",
        "    correct += (predicted == labels).sum().item()\n",
        "\n",
        "print('Accuracy of the network on the 1000 train images: %d %%' % (\n",
        "    100 * correct / total))\n",
        "print(\"total correct\", correct)\n",
        "print(\"total train set images\", total)\n",
        "\n",
        "print(\"focus_true_pred_true %d =============> FTPT : %d %%\" % (focus_true_pred_true , (100 * focus_true_pred_true / total) ) )\n",
        "print(\"focus_false_pred_true %d =============> FFPT : %d %%\" % (focus_false_pred_true, (100 * focus_false_pred_true / total) ) )\n",
        "print(\"focus_true_pred_false %d =============> FTPF : %d %%\" %( focus_true_pred_false , ( 100 * focus_true_pred_false / total) ) )\n",
        "print(\"focus_false_pred_false %d =============> FFPF : %d %%\" % (focus_false_pred_false, ( 100 * focus_false_pred_false / total) ) )\n",
        "\n",
        "print(\"argmax_more_than_half ==================> \",argmax_more_than_half)\n",
        "print(\"argmax_less_than_half ==================> \",argmax_less_than_half)"
      ],
      "execution_count": 62,
      "outputs": [
        {
          "output_type": "stream",
          "text": [
            "Accuracy of the network on the 1000 train images: 94 %\n",
            "total correct 945\n",
            "total train set images 1000\n",
            "focus_true_pred_true 945 =============> FTPT : 94 %\n",
            "focus_false_pred_true 0 =============> FFPT : 0 %\n",
            "focus_true_pred_false 55 =============> FTPF : 5 %\n",
            "focus_false_pred_false 0 =============> FFPF : 0 %\n",
            "argmax_more_than_half ==================>  513\n",
            "argmax_less_than_half ==================>  487\n"
          ],
          "name": "stdout"
        }
      ]
    },
    {
      "cell_type": "code",
      "metadata": {
        "colab": {
          "base_uri": "https://localhost:8080/"
        },
        "id": "67_H9pkCeQNs",
        "outputId": "72ec3ddc-d0e8-47d1-8c5e-62a66591ed19"
      },
      "source": [
        "correct = 0\n",
        "total = 0\n",
        "count = 0\n",
        "flag = 1\n",
        "focus_true_pred_true =0\n",
        "focus_false_pred_true =0\n",
        "focus_true_pred_false =0\n",
        "focus_false_pred_false =0\n",
        "\n",
        "argmax_more_than_half = 0\n",
        "argmax_less_than_half =0\n",
        "\n",
        "with torch.no_grad():\n",
        "  for data in test_loader:\n",
        "    inputs, labels , fore_idx = data\n",
        "    inputs = inputs.double()\n",
        "    inputs, labels , fore_idx = inputs.to(\"cuda\"),labels.to(\"cuda\"), fore_idx.to(\"cuda\")\n",
        "    alphas, avg_images = focus_net(inputs)\n",
        "    outputs = classify(avg_images)\n",
        "\n",
        "    _, predicted = torch.max(outputs.data, 1)\n",
        "\n",
        "    for j in range(labels.size(0)):\n",
        "      focus = torch.argmax(alphas[j])\n",
        "      if alphas[j][focus] >= 0.5 :\n",
        "        argmax_more_than_half += 1\n",
        "      else:\n",
        "        argmax_less_than_half += 1\n",
        "\n",
        "      if(focus == fore_idx[j] and predicted[j] == labels[j]):\n",
        "          focus_true_pred_true += 1\n",
        "      elif(focus != fore_idx[j] and predicted[j] == labels[j]):\n",
        "        focus_false_pred_true += 1\n",
        "      elif(focus == fore_idx[j] and predicted[j] != labels[j]):\n",
        "        focus_true_pred_false += 1\n",
        "      elif(focus != fore_idx[j] and predicted[j] != labels[j]):\n",
        "        focus_false_pred_false += 1\n",
        "\n",
        "    total += labels.size(0)\n",
        "    correct += (predicted == labels).sum().item()\n",
        "\n",
        "print('Accuracy of the network on the 1000 test images: %d %%' % (\n",
        "    100 * correct / total))\n",
        "print(\"total correct\", correct)\n",
        "print(\"total train set images\", total)\n",
        "\n",
        "print(\"focus_true_pred_true %d =============> FTPT : %d %%\" % (focus_true_pred_true , (100 * focus_true_pred_true / total) ) )\n",
        "print(\"focus_false_pred_true %d =============> FFPT : %d %%\" % (focus_false_pred_true, (100 * focus_false_pred_true / total) ) )\n",
        "print(\"focus_true_pred_false %d =============> FTPF : %d %%\" %( focus_true_pred_false , ( 100 * focus_true_pred_false / total) ) )\n",
        "print(\"focus_false_pred_false %d =============> FFPF : %d %%\" % (focus_false_pred_false, ( 100 * focus_false_pred_false / total) ) )\n",
        "\n",
        "print(\"argmax_more_than_half ==================> \",argmax_more_than_half)\n",
        "print(\"argmax_less_than_half ==================> \",argmax_less_than_half)"
      ],
      "execution_count": 63,
      "outputs": [
        {
          "output_type": "stream",
          "text": [
            "Accuracy of the network on the 1000 test images: 93 %\n",
            "total correct 934\n",
            "total train set images 1000\n",
            "focus_true_pred_true 934 =============> FTPT : 93 %\n",
            "focus_false_pred_true 0 =============> FFPT : 0 %\n",
            "focus_true_pred_false 66 =============> FTPF : 6 %\n",
            "focus_false_pred_false 0 =============> FFPF : 0 %\n",
            "argmax_more_than_half ==================>  545\n",
            "argmax_less_than_half ==================>  455\n"
          ],
          "name": "stdout"
        }
      ]
    },
    {
      "cell_type": "code",
      "metadata": {
        "colab": {
          "base_uri": "https://localhost:8080/"
        },
        "id": "jhvhkEAyeRpt",
        "outputId": "86983508-2457-4f76-b60e-4de884027c9c"
      },
      "source": [
        "correct = 0\n",
        "total = 0\n",
        "\n",
        "with torch.no_grad():\n",
        "  for data in train_loader:\n",
        "    inputs, labels , fore_idx = data\n",
        "    inputs = inputs.double()\n",
        "    inputs, labels = inputs.to(\"cuda\"), labels.to(\"cuda\")\n",
        "    alphas, avg_images = focus_net(inputs)\n",
        "    outputs = classify(avg_images)\n",
        "\n",
        "    _, predicted = torch.max(outputs.data, 1)\n",
        "\n",
        "    total += labels.size(0)\n",
        "    correct += (predicted == labels).sum().item()\n",
        "\n",
        "print('Accuracy of the network on the 1000 train images: %d %%' % ( 100 * correct / total))\n",
        "print(\"total correct\", correct)\n",
        "print(\"total train set images\", total)"
      ],
      "execution_count": 64,
      "outputs": [
        {
          "output_type": "stream",
          "text": [
            "Accuracy of the network on the 1000 train images: 94 %\n",
            "total correct 945\n",
            "total train set images 1000\n"
          ],
          "name": "stdout"
        }
      ]
    },
    {
      "cell_type": "code",
      "metadata": {
        "colab": {
          "base_uri": "https://localhost:8080/"
        },
        "id": "OKcmpKwGeS8M",
        "outputId": "2ccf4b74-f190-4399-9c49-e3963777ea69"
      },
      "source": [
        "correct = 0\n",
        "total = 0\n",
        "\n",
        "with torch.no_grad():\n",
        "  for data in test_loader:\n",
        "    inputs, labels , fore_idx = data\n",
        "    inputs = inputs.double()\n",
        "    inputs, labels = inputs.to(\"cuda\"), labels.to(\"cuda\")\n",
        "    alphas, avg_images = focus_net(inputs)\n",
        "    outputs = classify(avg_images)\n",
        "\n",
        "    _, predicted = torch.max(outputs.data, 1)\n",
        "\n",
        "    total += labels.size(0)\n",
        "    correct += (predicted == labels).sum().item()\n",
        "\n",
        "print('Accuracy of the network on the 1000 test images: %d %%' % ( 100 * correct / total))\n",
        "print(\"total correct\", correct)\n",
        "print(\"total train set images\", total)"
      ],
      "execution_count": 65,
      "outputs": [
        {
          "output_type": "stream",
          "text": [
            "Accuracy of the network on the 1000 test images: 93 %\n",
            "total correct 934\n",
            "total train set images 1000\n"
          ],
          "name": "stdout"
        }
      ]
    },
    {
      "cell_type": "code",
      "metadata": {
        "id": "xlalQug_egcl"
      },
      "source": [
        ""
      ],
      "execution_count": 61,
      "outputs": []
    }
  ]
}