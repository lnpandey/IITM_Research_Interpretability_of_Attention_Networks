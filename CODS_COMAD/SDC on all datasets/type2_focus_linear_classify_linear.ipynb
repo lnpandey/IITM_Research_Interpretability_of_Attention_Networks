{
  "nbformat": 4,
  "nbformat_minor": 0,
  "metadata": {
    "accelerator": "GPU",
    "colab": {
      "name": "type2_focus_linear_classify_linear.ipynb",
      "provenance": [],
      "collapsed_sections": []
    },
    "kernelspec": {
      "display_name": "Python 3",
      "language": "python",
      "name": "python3"
    },
    "language_info": {
      "codemirror_mode": {
        "name": "ipython",
        "version": 3
      },
      "file_extension": ".py",
      "mimetype": "text/x-python",
      "name": "python",
      "nbconvert_exporter": "python",
      "pygments_lexer": "ipython3",
      "version": "3.6.5"
    }
  },
  "cells": [
    {
      "cell_type": "code",
      "metadata": {
        "colab": {
          "base_uri": "https://localhost:8080/"
        },
        "id": "PVO3ASMSm8Bx",
        "outputId": "f081bd9e-d432-4b7b-9144-3e917efdf5be"
      },
      "source": [
        "from google.colab import drive\n",
        "drive.mount('/content/drive')"
      ],
      "execution_count": 1,
      "outputs": [
        {
          "output_type": "stream",
          "text": [
            "Mounted at /content/drive\n"
          ],
          "name": "stdout"
        }
      ]
    },
    {
      "cell_type": "code",
      "metadata": {
        "id": "uLrd5bwInAd1"
      },
      "source": [
        "path=\"/content/drive/MyDrive/Research/cods_comad_plots/SDC/dataset_2/\""
      ],
      "execution_count": 2,
      "outputs": []
    },
    {
      "cell_type": "code",
      "metadata": {
        "colab": {
          "base_uri": "https://localhost:8080/"
        },
        "id": "N2_J4Rw2r0SQ",
        "outputId": "6ca540b1-c1fb-4240-b557-0c51dc4d3cb4"
      },
      "source": [
        "import numpy as np\n",
        "import pandas as pd\n",
        "from matplotlib import pyplot as plt\n",
        "from tqdm import tqdm\n",
        "%matplotlib inline\n",
        "from torch.utils.data import Dataset, DataLoader\n",
        "import torch\n",
        "import torchvision\n",
        "\n",
        "import torch.nn as nn\n",
        "import torch.optim as optim\n",
        "from torch.nn import functional as F\n",
        "device = torch.device(\"cuda\" if torch.cuda.is_available() else \"cpu\")\n",
        "print(device)"
      ],
      "execution_count": 3,
      "outputs": [
        {
          "output_type": "stream",
          "text": [
            "cuda\n"
          ],
          "name": "stdout"
        }
      ]
    },
    {
      "cell_type": "markdown",
      "metadata": {
        "id": "F6fjud_Fr0Sa"
      },
      "source": [
        "# Generate dataset"
      ]
    },
    {
      "cell_type": "code",
      "metadata": {
        "colab": {
          "base_uri": "https://localhost:8080/"
        },
        "id": "CqdXHO0Cr0Sd",
        "outputId": "7cb79d94-9cfc-415a-af2b-81715d9f5037"
      },
      "source": [
        "np.random.seed(12)\n",
        "y = np.random.randint(0,10,5000)\n",
        "idx= []\n",
        "for i in range(10):\n",
        "    print(i,sum(y==i))\n",
        "    idx.append(y==i)"
      ],
      "execution_count": 4,
      "outputs": [
        {
          "output_type": "stream",
          "text": [
            "0 530\n",
            "1 463\n",
            "2 494\n",
            "3 517\n",
            "4 488\n",
            "5 497\n",
            "6 493\n",
            "7 507\n",
            "8 492\n",
            "9 519\n"
          ],
          "name": "stdout"
        }
      ]
    },
    {
      "cell_type": "code",
      "metadata": {
        "id": "ddhXyODwr0Sk"
      },
      "source": [
        "x = np.zeros((5000,2))"
      ],
      "execution_count": 5,
      "outputs": []
    },
    {
      "cell_type": "code",
      "metadata": {
        "id": "DyV3N2DIr0Sp"
      },
      "source": [
        "np.random.seed(12)\n",
        "x[idx[0],:] = np.random.multivariate_normal(mean = [5,5],cov=[[0.1,0],[0,0.1]],size=sum(idx[0]))\n",
        "x[idx[1],:] = np.random.multivariate_normal(mean = [-6,7],cov=[[0.1,0],[0,0.1]],size=sum(idx[1]))\n",
        "x[idx[2],:] = np.random.multivariate_normal(mean = [-5,-4],cov=[[0.1,0],[0,0.1]],size=sum(idx[2]))\n",
        "x[idx[3],:] = np.random.multivariate_normal(mean = [-1,0],cov=[[0.1,0],[0,0.1]],size=sum(idx[3]))\n",
        "x[idx[4],:] = np.random.multivariate_normal(mean = [0,2],cov=[[0.1,0],[0,0.1]],size=sum(idx[4]))\n",
        "x[idx[5],:] = np.random.multivariate_normal(mean = [1,0],cov=[[0.1,0],[0,0.1]],size=sum(idx[5]))\n",
        "x[idx[6],:] = np.random.multivariate_normal(mean = [0,-1],cov=[[0.1,0],[0,0.1]],size=sum(idx[6]))\n",
        "x[idx[7],:] = np.random.multivariate_normal(mean = [0,0],cov=[[0.1,0],[0,0.1]],size=sum(idx[7]))\n",
        "x[idx[8],:] = np.random.multivariate_normal(mean = [-0.5,-0.5],cov=[[0.1,0],[0,0.1]],size=sum(idx[8]))\n",
        "x[idx[9],:] = np.random.multivariate_normal(mean = [0.4,0.2],cov=[[0.1,0],[0,0.1]],size=sum(idx[9]))"
      ],
      "execution_count": 6,
      "outputs": []
    },
    {
      "cell_type": "code",
      "metadata": {
        "colab": {
          "base_uri": "https://localhost:8080/"
        },
        "id": "qh1mDScsU07I",
        "outputId": "2d6f98b8-1c1f-4376-fdfc-b879d3eec32d"
      },
      "source": [
        "x[idx[0]][0], x[idx[5]][5] "
      ],
      "execution_count": 7,
      "outputs": [
        {
          "output_type": "execute_result",
          "data": {
            "text/plain": [
              "(array([5.14957125, 4.78451422]), array([0.87756167, 0.00457805]))"
            ]
          },
          "metadata": {
            "tags": []
          },
          "execution_count": 7
        }
      ]
    },
    {
      "cell_type": "code",
      "metadata": {
        "colab": {
          "base_uri": "https://localhost:8080/",
          "height": 284
        },
        "id": "9Vr5ErQ_wSrV",
        "outputId": "404709d2-4f14-4af9-e1da-6544d1ba01ca"
      },
      "source": [
        "for i in range(10):\n",
        "    plt.scatter(x[idx[i],0],x[idx[i],1],label=\"class_\"+str(i))\n",
        "plt.legend(loc='center left', bbox_to_anchor=(1, 0.5))"
      ],
      "execution_count": 8,
      "outputs": [
        {
          "output_type": "execute_result",
          "data": {
            "text/plain": [
              "<matplotlib.legend.Legend at 0x7fb8b87ffc10>"
            ]
          },
          "metadata": {
            "tags": []
          },
          "execution_count": 8
        },
        {
          "output_type": "display_data",
          "data": {
            "image/png": "[encoded data removed]",
            "text/plain": [
              "<Figure size 432x288 with 1 Axes>"
            ]
          },
          "metadata": {
            "tags": [],
            "needs_background": "light"
          }
        }
      ]
    },
    {
      "cell_type": "code",
      "metadata": {
        "id": "NG-3RpffwU_i",
        "colab": {
          "base_uri": "https://localhost:8080/"
        },
        "outputId": "8f5b93eb-e85e-4595-8a3d-3d565e60020a"
      },
      "source": [
        "bg_idx = [ np.where(idx[3] == True)[0], \n",
        "          np.where(idx[4] == True)[0], \n",
        "          np.where(idx[5] == True)[0],\n",
        "          np.where(idx[6] == True)[0], \n",
        "          np.where(idx[7] == True)[0], \n",
        "          np.where(idx[8] == True)[0],\n",
        "          np.where(idx[9] == True)[0]]\n",
        "\n",
        "bg_idx = np.concatenate(bg_idx, axis = 0)\n",
        "bg_idx.shape"
      ],
      "execution_count": 9,
      "outputs": [
        {
          "output_type": "execute_result",
          "data": {
            "text/plain": [
              "(3513,)"
            ]
          },
          "metadata": {
            "tags": []
          },
          "execution_count": 9
        }
      ]
    },
    {
      "cell_type": "code",
      "metadata": {
        "colab": {
          "base_uri": "https://localhost:8080/"
        },
        "id": "_0JKKUdwoo9b",
        "outputId": "65f22bd8-a56e-43fc-e5dd-81195c76ebb6"
      },
      "source": [
        "np.unique(bg_idx).shape"
      ],
      "execution_count": 10,
      "outputs": [
        {
          "output_type": "execute_result",
          "data": {
            "text/plain": [
              "(3513,)"
            ]
          },
          "metadata": {
            "tags": []
          },
          "execution_count": 10
        }
      ]
    },
    {
      "cell_type": "code",
      "metadata": {
        "id": "6LA5i3Droo60"
      },
      "source": [
        "x = x - np.mean(x[bg_idx], axis = 0, keepdims = True)\n"
      ],
      "execution_count": 11,
      "outputs": []
    },
    {
      "cell_type": "code",
      "metadata": {
        "colab": {
          "base_uri": "https://localhost:8080/"
        },
        "id": "s5tfCDfHoo3-",
        "outputId": "c3e88035-2457-498b-9967-bb0144d5b1f7"
      },
      "source": [
        "np.mean(x[bg_idx], axis = 0, keepdims = True), np.mean(x, axis = 0, keepdims = True)"
      ],
      "execution_count": 12,
      "outputs": [
        {
          "output_type": "execute_result",
          "data": {
            "text/plain": [
              "(array([[-1.04275003e-16,  6.74571889e-17]]),\n",
              " array([[-0.51598033,  0.75072644]]))"
            ]
          },
          "metadata": {
            "tags": []
          },
          "execution_count": 12
        }
      ]
    },
    {
      "cell_type": "code",
      "metadata": {
        "id": "TpSAZtqzoo1F"
      },
      "source": [
        "x = x/np.std(x[bg_idx], axis = 0, keepdims = True)"
      ],
      "execution_count": 13,
      "outputs": []
    },
    {
      "cell_type": "code",
      "metadata": {
        "colab": {
          "base_uri": "https://localhost:8080/"
        },
        "id": "NsrCmT8IovQv",
        "outputId": "61e4962e-c3c7-411f-a04a-75e35c2e2e04"
      },
      "source": [
        "np.std(x[bg_idx], axis = 0, keepdims = True), np.std(x, axis = 0, keepdims = True)"
      ],
      "execution_count": 14,
      "outputs": [
        {
          "output_type": "execute_result",
          "data": {
            "text/plain": [
              "(array([[1., 1.]]), array([[4.44326012, 3.25965767]]))"
            ]
          },
          "metadata": {
            "tags": []
          },
          "execution_count": 14
        }
      ]
    },
    {
      "cell_type": "code",
      "metadata": {
        "colab": {
          "base_uri": "https://localhost:8080/",
          "height": 284
        },
        "id": "hJ8Jm7YUr0St",
        "outputId": "265b9508-bca7-43a8-b3b9-8493125c85d8"
      },
      "source": [
        "for i in range(10):\n",
        "    plt.scatter(x[idx[i],0],x[idx[i],1],label=\"class_\"+str(i))\n",
        "plt.legend(loc='center left', bbox_to_anchor=(1, 0.5))"
      ],
      "execution_count": 15,
      "outputs": [
        {
          "output_type": "execute_result",
          "data": {
            "text/plain": [
              "<matplotlib.legend.Legend at 0x7fb8b57b4950>"
            ]
          },
          "metadata": {
            "tags": []
          },
          "execution_count": 15
        },
        {
          "output_type": "display_data",
          "data": {
            "image/png": "[encoded data removed]",
            "text/plain": [
              "<Figure size 432x288 with 1 Axes>"
            ]
          },
          "metadata": {
            "tags": [],
            "needs_background": "light"
          }
        }
      ]
    },
    {
      "cell_type": "code",
      "metadata": {
        "id": "3lMBZEHNBlF2"
      },
      "source": [
        "foreground_classes = {'class_0','class_1', 'class_2'}\n",
        "\n",
        "background_classes = {'class_3','class_4', 'class_5', 'class_6','class_7', 'class_8', 'class_9'}"
      ],
      "execution_count": 16,
      "outputs": []
    },
    {
      "cell_type": "code",
      "metadata": {
        "colab": {
          "base_uri": "https://localhost:8080/"
        },
        "id": "blRbGZHeCwXU",
        "outputId": "4ac15a36-f044-4d19-a61c-020c5bd8214a"
      },
      "source": [
        "fg_class  = np.random.randint(0,3)\n",
        "fg_idx = np.random.randint(0,9)\n",
        "\n",
        "a = []\n",
        "for i in range(9):\n",
        "    if i == fg_idx:\n",
        "        b = np.random.choice(np.where(idx[fg_class]==True)[0],size=1)\n",
        "        a.append(x[b])\n",
        "        print(\"foreground \"+str(fg_class)+\" present at \" + str(fg_idx))\n",
        "    else:\n",
        "        bg_class = np.random.randint(3,10)\n",
        "        b = np.random.choice(np.where(idx[bg_class]==True)[0],size=1)\n",
        "        a.append(x[b])\n",
        "        print(\"background \"+str(bg_class)+\" present at \" + str(i))\n",
        "a = np.concatenate(a,axis=0)\n",
        "print(a.shape)\n",
        "\n",
        "print(fg_class , fg_idx)"
      ],
      "execution_count": 17,
      "outputs": [
        {
          "output_type": "stream",
          "text": [
            "background 5 present at 0\n",
            "background 6 present at 1\n",
            "foreground 2 present at 2\n",
            "background 5 present at 3\n",
            "background 3 present at 4\n",
            "background 5 present at 5\n",
            "background 7 present at 6\n",
            "background 6 present at 7\n",
            "background 5 present at 8\n",
            "(9, 2)\n",
            "2 2\n"
          ],
          "name": "stdout"
        }
      ]
    },
    {
      "cell_type": "code",
      "metadata": {
        "id": "Y43sWeX7C15F",
        "colab": {
          "base_uri": "https://localhost:8080/"
        },
        "outputId": "89df84f3-fa1d-48c8-cc99-88096510ebb6"
      },
      "source": [
        "a.shape"
      ],
      "execution_count": 18,
      "outputs": [
        {
          "output_type": "execute_result",
          "data": {
            "text/plain": [
              "(9, 2)"
            ]
          },
          "metadata": {
            "tags": []
          },
          "execution_count": 18
        }
      ]
    },
    {
      "cell_type": "code",
      "metadata": {
        "colab": {
          "base_uri": "https://localhost:8080/"
        },
        "id": "ooII7N6UDWe0",
        "outputId": "00d0fa5a-ba5a-487a-d539-c1cce1221746"
      },
      "source": [
        "np.reshape(a,(18,1)) #not required"
      ],
      "execution_count": 19,
      "outputs": [
        {
          "output_type": "execute_result",
          "data": {
            "text/plain": [
              "array([[ 1.52560273],\n",
              "       [-0.1298488 ],\n",
              "       [-0.4226508 ],\n",
              "       [-1.2003313 ],\n",
              "       [-7.45778013],\n",
              "       [-4.61676213],\n",
              "       [ 2.09728368],\n",
              "       [-0.24465132],\n",
              "       [-0.98608769],\n",
              "       [-0.75123246],\n",
              "       [ 1.37297554],\n",
              "       [-0.37673308],\n",
              "       [-0.88469208],\n",
              "       [-0.11155199],\n",
              "       [ 0.32308641],\n",
              "       [-1.23774128],\n",
              "       [ 1.37297554],\n",
              "       [-0.37673308]])"
            ]
          },
          "metadata": {
            "tags": []
          },
          "execution_count": 19
        }
      ]
    },
    {
      "cell_type": "code",
      "metadata": {
        "id": "g21bvPRYDL9k",
        "colab": {
          "base_uri": "https://localhost:8080/",
          "height": 284
        },
        "outputId": "3124d00b-8b16-4183-aef0-0ad6e8412fa8"
      },
      "source": [
        "a=np.reshape(a,(9,2))\n",
        "\n",
        "plt.imshow(a)"
      ],
      "execution_count": 20,
      "outputs": [
        {
          "output_type": "execute_result",
          "data": {
            "text/plain": [
              "<matplotlib.image.AxesImage at 0x7fb8b520e3d0>"
            ]
          },
          "metadata": {
            "tags": []
          },
          "execution_count": 20
        },
        {
          "output_type": "display_data",
          "data": {
            "image/png": "[encoded data removed]",
            "text/plain": [
              "<Figure size 432x288 with 1 Axes>"
            ]
          },
          "metadata": {
            "tags": [],
            "needs_background": "light"
          }
        }
      ]
    },
    {
      "cell_type": "code",
      "metadata": {
        "id": "OplNpNQVr0S2"
      },
      "source": [
        "desired_num = 2000\n",
        "mosaic_list_of_images =[]\n",
        "mosaic_label = []\n",
        "fore_idx=[]\n",
        "for j in range(desired_num):\n",
        "    np.random.seed(j)\n",
        "    fg_class  = np.random.randint(0,3)\n",
        "    fg_idx = np.random.randint(0,9)\n",
        "    a = []\n",
        "    for i in range(9):\n",
        "        if i == fg_idx:\n",
        "            b = np.random.choice(np.where(idx[fg_class]==True)[0],size=1)\n",
        "            a.append(x[b])\n",
        "#             print(\"foreground \"+str(fg_class)+\" present at \" + str(fg_idx))\n",
        "        else:\n",
        "            bg_class = np.random.randint(3,10)\n",
        "            b = np.random.choice(np.where(idx[bg_class]==True)[0],size=1)\n",
        "            a.append(x[b])\n",
        "#             print(\"background \"+str(bg_class)+\" present at \" + str(i))\n",
        "    a = np.concatenate(a,axis=0)\n",
        "    mosaic_list_of_images.append(a)\n",
        "    mosaic_label.append(fg_class)\n",
        "    fore_idx.append(fg_idx)"
      ],
      "execution_count": 21,
      "outputs": []
    },
    {
      "cell_type": "code",
      "metadata": {
        "id": "dwZVmmRBr0S8"
      },
      "source": [
        "# mosaic_list_of_images = np.concatenate(mosaic_list_of_images,axis=1).T\n"
      ],
      "execution_count": 22,
      "outputs": []
    },
    {
      "cell_type": "code",
      "metadata": {
        "colab": {
          "base_uri": "https://localhost:8080/"
        },
        "id": "OoxzYI-ur0S_",
        "outputId": "87e18c5c-1759-4667-f217-9920cea4a408"
      },
      "source": [
        "len(mosaic_list_of_images), mosaic_list_of_images[0]"
      ],
      "execution_count": 23,
      "outputs": [
        {
          "output_type": "execute_result",
          "data": {
            "text/plain": [
              "(2000, array([[-1.62022144,  0.11407722],\n",
              "        [ 0.50044544,  1.71315143],\n",
              "        [-0.72603666, -0.68240088],\n",
              "        [ 0.34070696,  0.0288995 ],\n",
              "        [ 0.71631136, -0.14262169],\n",
              "        [ 8.2380912 ,  5.87796794],\n",
              "        [ 1.24086849, -0.14745404],\n",
              "        [ 0.70237352,  0.29618561],\n",
              "        [ 0.22554429,  0.19892312]]))"
            ]
          },
          "metadata": {
            "tags": []
          },
          "execution_count": 23
        }
      ]
    },
    {
      "cell_type": "code",
      "metadata": {
        "colab": {
          "base_uri": "https://localhost:8080/"
        },
        "id": "Nbefu9LEnMu1",
        "outputId": "384f6f32-0532-4610-ef44-9a2fa35f5467"
      },
      "source": [
        "mosaic_list_of_images_reshaped = np.reshape(mosaic_list_of_images, (2000,9,2))\n",
        "mean_train = np.mean(mosaic_list_of_images_reshaped[0:1000], axis=0, keepdims= True)\n",
        "print(mean_train.shape, mean_train)\n",
        "std_train = np.std(mosaic_list_of_images_reshaped[0:1000], axis=0, keepdims= True)\n",
        "print(std_train.shape, std_train)\n",
        "\n"
      ],
      "execution_count": 24,
      "outputs": [
        {
          "output_type": "stream",
          "text": [
            "(1, 9, 2) [[[-0.21714132  0.38784747]\n",
            "  [-0.43297971  0.34268211]\n",
            "  [-0.44639009  0.31885823]\n",
            "  [-0.30613259  0.35396955]\n",
            "  [-0.24261994  0.4227199 ]\n",
            "  [-0.42979963  0.41713374]\n",
            "  [-0.25441208  0.37832645]\n",
            "  [-0.44982316  0.22962084]\n",
            "  [-0.30827427  0.29867745]]]\n",
            "(1, 9, 2) [[[2.93462304 2.22797009]\n",
            "  [2.88047329 2.21817614]\n",
            "  [2.90549127 2.23852991]\n",
            "  [2.94868277 2.27311622]\n",
            "  [2.83149681 2.19451747]\n",
            "  [2.86263234 2.26585386]\n",
            "  [2.8419391  2.20592702]\n",
            "  [2.80058063 2.18972076]\n",
            "  [2.78333746 2.14393697]]]\n"
          ],
          "name": "stdout"
        }
      ]
    },
    {
      "cell_type": "code",
      "metadata": {
        "id": "yldL3sUvnMsE"
      },
      "source": [
        "mosaic_list_of_images = ( mosaic_list_of_images_reshaped - mean_train ) / std_train"
      ],
      "execution_count": 25,
      "outputs": []
    },
    {
      "cell_type": "code",
      "metadata": {
        "colab": {
          "base_uri": "https://localhost:8080/"
        },
        "id": "qWboEmnwnX_r",
        "outputId": "6dfebc2b-868d-4d09-aa3f-1393ad3ec9ee"
      },
      "source": [
        "print(np.mean(mosaic_list_of_images[0:1000], axis=0, keepdims= True))\n",
        "\n",
        "print(np.std(mosaic_list_of_images[0:1000], axis=0, keepdims= True))"
      ],
      "execution_count": 26,
      "outputs": [
        {
          "output_type": "stream",
          "text": [
            "[[[-7.34134975e-18  8.32667268e-18]\n",
            "  [ 6.76680934e-17  2.45914400e-16]\n",
            "  [ 1.49824597e-16  4.11892742e-17]\n",
            "  [-1.07025500e-16  1.61731739e-16]\n",
            "  [ 1.11577414e-17  1.44551038e-16]\n",
            "  [-3.14415161e-16 -2.14495088e-16]\n",
            "  [ 2.29316566e-16  1.64424030e-16]\n",
            "  [-1.17794663e-16 -6.52533583e-17]\n",
            "  [-8.82072193e-17  1.02667874e-16]]]\n",
            "[[[1. 1.]\n",
            "  [1. 1.]\n",
            "  [1. 1.]\n",
            "  [1. 1.]\n",
            "  [1. 1.]\n",
            "  [1. 1.]\n",
            "  [1. 1.]\n",
            "  [1. 1.]\n",
            "  [1. 1.]]]\n"
          ],
          "name": "stdout"
        }
      ]
    },
    {
      "cell_type": "code",
      "metadata": {
        "colab": {
          "base_uri": "https://localhost:8080/"
        },
        "id": "88zCElC_naib",
        "outputId": "8342e392-8c7e-4dae-fe21-68aed4a52023"
      },
      "source": [
        "print(np.mean(mosaic_list_of_images[1000:2000], axis=0, keepdims= True))\n",
        "\n",
        "print(np.std(mosaic_list_of_images[1000:2000], axis=0, keepdims= True))"
      ],
      "execution_count": 27,
      "outputs": [
        {
          "output_type": "stream",
          "text": [
            "[[[ 0.00294388 -0.00621726]\n",
            "  [ 0.00556068  0.01524104]\n",
            "  [ 0.05149839  0.01578047]\n",
            "  [ 0.03344327 -0.00071585]\n",
            "  [-0.02037319 -0.10122538]\n",
            "  [ 0.00126667 -0.05427176]\n",
            "  [-0.029165   -0.01879717]\n",
            "  [ 0.09588911 -0.00228841]\n",
            "  [-0.00624885  0.01613987]]]\n",
            "[[[0.99688735 0.99272447]\n",
            "  [1.03629691 1.03710502]\n",
            "  [1.00204592 0.99531625]\n",
            "  [1.00549132 0.9912515 ]\n",
            "  [0.94366752 0.91843211]\n",
            "  [1.0001332  0.96506657]\n",
            "  [1.03609342 1.01570984]\n",
            "  [0.96575394 0.94100913]\n",
            "  [0.99168852 1.00538574]]]\n"
          ],
          "name": "stdout"
        }
      ]
    },
    {
      "cell_type": "code",
      "metadata": {
        "colab": {
          "base_uri": "https://localhost:8080/"
        },
        "id": "3DE8AXVAngEj",
        "outputId": "9d937c3b-22c9-4acf-f54d-19af6afbef6a"
      },
      "source": [
        "mosaic_list_of_images.shape"
      ],
      "execution_count": 28,
      "outputs": [
        {
          "output_type": "execute_result",
          "data": {
            "text/plain": [
              "(2000, 9, 2)"
            ]
          },
          "metadata": {
            "tags": []
          },
          "execution_count": 28
        }
      ]
    },
    {
      "cell_type": "code",
      "metadata": {
        "id": "iPoIwbMHx44n"
      },
      "source": [
        "class MosaicDataset(Dataset):\n",
        "  \"\"\"MosaicDataset dataset.\"\"\"\n",
        "\n",
        "  def __init__(self, mosaic_list_of_images, mosaic_label, fore_idx):\n",
        "    \"\"\"\n",
        "      Args:\n",
        "        csv_file (string): Path to the csv file with annotations.\n",
        "        root_dir (string): Directory with all the images.\n",
        "        transform (callable, optional): Optional transform to be applied\n",
        "            on a sample.\n",
        "    \"\"\"\n",
        "    self.mosaic = mosaic_list_of_images\n",
        "    self.label = mosaic_label\n",
        "    self.fore_idx = fore_idx\n",
        "\n",
        "  def __len__(self):\n",
        "    return len(self.label)\n",
        "\n",
        "  def __getitem__(self, idx):\n",
        "    return self.mosaic[idx] , self.label[idx], self.fore_idx[idx]\n",
        "\n"
      ],
      "execution_count": 29,
      "outputs": []
    },
    {
      "cell_type": "code",
      "metadata": {
        "id": "fOPAJQJeW8Ah"
      },
      "source": [
        "batch = 250\n",
        "msd1 = MosaicDataset(mosaic_list_of_images[0:1000], mosaic_label[0:1000] , fore_idx[0:1000])\n",
        "train_loader = DataLoader( msd1 ,batch_size= batch ,shuffle=True)"
      ],
      "execution_count": 30,
      "outputs": []
    },
    {
      "cell_type": "code",
      "metadata": {
        "id": "qjNiQgxZW8bA"
      },
      "source": [
        "batch = 250\n",
        "msd2 = MosaicDataset(mosaic_list_of_images[1000:2000], mosaic_label[1000:2000] , fore_idx[1000:2000])\n",
        "test_loader = DataLoader( msd2 ,batch_size= batch ,shuffle=True)"
      ],
      "execution_count": 31,
      "outputs": []
    },
    {
      "cell_type": "code",
      "metadata": {
        "id": "30ZAjix3x8CM"
      },
      "source": [
        "class Focus(nn.Module):\n",
        "  def __init__(self):\n",
        "    super(Focus, self).__init__()\n",
        "\n",
        "    self.fc1 = nn.Linear(2, 1, bias=False)\n",
        "    torch.nn.init.zeros_(self.fc1.weight)\n",
        "    # self.fc2 = nn.Linear(50, 10)\n",
        "    # self.fc3 = nn.Linear(10, 1)\n",
        "\n",
        "  def forward(self,z):  #y is avg image #z batch of list of 9 images\n",
        "    y = torch.zeros([batch,2], dtype=torch.float64)\n",
        "    x = torch.zeros([batch,9],dtype=torch.float64)\n",
        "    y = y.to(\"cuda\")\n",
        "    x = x.to(\"cuda\")\n",
        "    # print(x.shape, z.shape)\n",
        "    for i in range(9):\n",
        "      # print(z[:,i].shape)\n",
        "      # print(self.helper(z[:,i])[:,0].shape)\n",
        "      x[:,i] = self.helper(z[:,i])[:,0]\n",
        "    # print(x.shape, z.shape)\n",
        "    x = F.softmax(x,dim=1)\n",
        "    # print(x.shape, z.shape)\n",
        "    # x1 = x[:,0]\n",
        "    # print(torch.mul(x[:,0],z[:,0]).shape)\n",
        "\n",
        "    for i in range(9):            \n",
        "      # x1 = x[:,i]          \n",
        "      y = y + torch.mul(x[:,i,None],z[:,i])\n",
        "\n",
        "    # print(x.shape, y.shape)\n",
        "    return x, y\n",
        "    \n",
        "  def helper(self, x):\n",
        "    x = x.view(-1, 2)\n",
        "    # x = F.relu(self.fc1(x))\n",
        "    # x = F.relu(self.fc2(x))\n",
        "    x = (self.fc1(x))\n",
        "\n",
        "    return x"
      ],
      "execution_count": 32,
      "outputs": []
    },
    {
      "cell_type": "code",
      "metadata": {
        "id": "0dYXnywAD-4l"
      },
      "source": [
        "class Classification(nn.Module):\n",
        "  def __init__(self):\n",
        "    super(Classification, self).__init__()\n",
        "    self.fc1 = nn.Linear(2, 3)\n",
        "    torch.nn.init.xavier_normal_(self.fc1.weight)\n",
        "    torch.nn.init.zeros_(self.fc1.bias)\n",
        "\n",
        "\n",
        "  def forward(self, x):\n",
        "    x = x.view(-1, 2)\n",
        "    x = self.fc1(x)\n",
        "    # print(x.shape)\n",
        "    return x"
      ],
      "execution_count": 33,
      "outputs": []
    },
    {
      "cell_type": "code",
      "metadata": {
        "id": "lSa6O9f6XNf4"
      },
      "source": [
        "torch.manual_seed(12)\n",
        "focus_net = Focus().double()\n",
        "focus_net = focus_net.to(\"cuda\")"
      ],
      "execution_count": 34,
      "outputs": []
    },
    {
      "cell_type": "code",
      "metadata": {
        "id": "36k3H2G-XO9A"
      },
      "source": [
        "torch.manual_seed(12)\n",
        "classify = Classification().double()\n",
        "classify = classify.to(\"cuda\")"
      ],
      "execution_count": 35,
      "outputs": []
    },
    {
      "cell_type": "code",
      "metadata": {
        "colab": {
          "base_uri": "https://localhost:8080/"
        },
        "id": "hOJ8NP14n6Eb",
        "outputId": "081ab1e9-87d0-49d0-f8eb-febc72fcce28"
      },
      "source": [
        "focus_net.helper( torch.randn((1,9,2)).double().to(\"cuda\") )"
      ],
      "execution_count": 36,
      "outputs": [
        {
          "output_type": "execute_result",
          "data": {
            "text/plain": [
              "tensor([[0.],\n",
              "        [0.],\n",
              "        [0.],\n",
              "        [0.],\n",
              "        [0.],\n",
              "        [0.],\n",
              "        [0.],\n",
              "        [0.],\n",
              "        [0.]], device='cuda:0', dtype=torch.float64, grad_fn=<MmBackward>)"
            ]
          },
          "metadata": {
            "tags": []
          },
          "execution_count": 36
        }
      ]
    },
    {
      "cell_type": "code",
      "metadata": {
        "colab": {
          "base_uri": "https://localhost:8080/"
        },
        "id": "estYkNt8oKhL",
        "outputId": "c2ed0576-6cc3-464f-906a-92a8790f08c5"
      },
      "source": [
        "focus_net.fc1.weight"
      ],
      "execution_count": 37,
      "outputs": [
        {
          "output_type": "execute_result",
          "data": {
            "text/plain": [
              "Parameter containing:\n",
              "tensor([[0., 0.]], device='cuda:0', dtype=torch.float64, requires_grad=True)"
            ]
          },
          "metadata": {
            "tags": []
          },
          "execution_count": 37
        }
      ]
    },
    {
      "cell_type": "code",
      "metadata": {
        "colab": {
          "base_uri": "https://localhost:8080/"
        },
        "id": "TNA0bvAeoEpU",
        "outputId": "0e546b8f-951f-4235-fd42-2868061b9298"
      },
      "source": [
        "classify.fc1.weight, classify.fc1.bias, classify.fc1.weight.shape"
      ],
      "execution_count": 38,
      "outputs": [
        {
          "output_type": "execute_result",
          "data": {
            "text/plain": [
              "(Parameter containing:\n",
              " tensor([[ 0.1491, -0.7950],\n",
              "         [ 0.0844,  0.0302],\n",
              "         [ 0.0211, -0.8157]], device='cuda:0', dtype=torch.float64,\n",
              "        requires_grad=True), Parameter containing:\n",
              " tensor([0., 0., 0.], device='cuda:0', dtype=torch.float64, requires_grad=True), torch.Size([3, 2]))"
            ]
          },
          "metadata": {
            "tags": []
          },
          "execution_count": 38
        }
      ]
    },
    {
      "cell_type": "code",
      "metadata": {
        "id": "7MHBbL7FXRQk"
      },
      "source": [
        "import torch.optim as optim\n",
        "criterion = nn.CrossEntropyLoss()\n",
        "optimizer_classify = optim.Adam(classify.parameters(), lr=0.01 ) #, momentum=0.9)\n",
        "optimizer_focus = optim.Adam(focus_net.parameters(), lr=0.01 ) #, momentum=0.9)"
      ],
      "execution_count": 39,
      "outputs": []
    },
    {
      "cell_type": "code",
      "metadata": {
        "id": "pjD2VZuV9Ed4"
      },
      "source": [
        "col1=[]\n",
        "col2=[]\n",
        "col3=[]\n",
        "col4=[]\n",
        "col5=[]\n",
        "col6=[]\n",
        "col7=[]\n",
        "col8=[]\n",
        "col9=[]\n",
        "col10=[]\n",
        "col11=[]\n",
        "col12=[]\n",
        "col13=[]"
      ],
      "execution_count": 40,
      "outputs": []
    },
    {
      "cell_type": "code",
      "metadata": {
        "id": "uALi25pmzQHV",
        "colab": {
          "base_uri": "https://localhost:8080/"
        },
        "outputId": "e8224ab8-2d43-4bf0-f3c1-6279510bf4f3"
      },
      "source": [
        "correct = 0\n",
        "total = 0\n",
        "count = 0\n",
        "flag = 1\n",
        "focus_true_pred_true =0\n",
        "focus_false_pred_true =0\n",
        "focus_true_pred_false =0\n",
        "focus_false_pred_false =0\n",
        "\n",
        "argmax_more_than_half = 0\n",
        "argmax_less_than_half =0\n",
        "\n",
        "with torch.no_grad():\n",
        "  for data in train_loader:\n",
        "    inputs, labels , fore_idx = data\n",
        "    inputs = inputs.double()\n",
        "    inputs, labels , fore_idx = inputs.to(\"cuda\"),labels.to(\"cuda\"), fore_idx.to(\"cuda\")\n",
        "    alphas, avg_images = focus_net(inputs)\n",
        "    outputs = classify(avg_images)\n",
        "    # print(outputs.shape)\n",
        "    _, predicted = torch.max(outputs.data, 1)\n",
        "    # print(predicted.shape)\n",
        "\n",
        "    for j in range(labels.size(0)):\n",
        "      count += 1\n",
        "      focus = torch.argmax(alphas[j])\n",
        "      if alphas[j][focus] >= 0.5 :\n",
        "        argmax_more_than_half += 1\n",
        "      else:\n",
        "        argmax_less_than_half += 1\n",
        "\n",
        "      # print(focus, fore_idx[j], predicted[j])\n",
        "      if(focus == fore_idx[j] and predicted[j] == labels[j]):\n",
        "          focus_true_pred_true += 1\n",
        "      elif(focus != fore_idx[j] and predicted[j] == labels[j]):\n",
        "        focus_false_pred_true += 1\n",
        "      elif(focus == fore_idx[j] and predicted[j] != labels[j]):\n",
        "        focus_true_pred_false += 1\n",
        "      elif(focus != fore_idx[j] and predicted[j] != labels[j]):\n",
        "        focus_false_pred_false += 1\n",
        "\n",
        "    total += labels.size(0)\n",
        "    correct += (predicted == labels).sum().item()\n",
        "\n",
        "print('Accuracy of the network on the 1000 train images: %d %%' % ( 100 * correct / total))\n",
        "print(\"total correct\", correct)\n",
        "print(\"total train set images\", total)\n",
        "\n",
        "print(\"focus_true_pred_true %d =============> FTPT : %d %%\" % (focus_true_pred_true , (100 * focus_true_pred_true / total) ) )\n",
        "print(\"focus_false_pred_true %d =============> FFPT : %d %%\" % (focus_false_pred_true, (100 * focus_false_pred_true / total) ) )\n",
        "print(\"focus_true_pred_false %d =============> FTPF : %d %%\" %( focus_true_pred_false , ( 100 * focus_true_pred_false / total) ) )\n",
        "print(\"focus_false_pred_false %d =============> FFPF : %d %%\" % (focus_false_pred_false, ( 100 * focus_false_pred_false / total) ) )\n",
        "\n",
        "print(\"argmax_more_than_half ==================> \",argmax_more_than_half)\n",
        "print(\"argmax_less_than_half ==================> \",argmax_less_than_half)\n",
        "print(count)\n",
        "\n",
        "print(\"=\"*100)\n",
        "\n",
        "col1.append(0)\n",
        "col2.append(argmax_more_than_half)\n",
        "col3.append(argmax_less_than_half)\n",
        "col4.append(focus_true_pred_true)\n",
        "col5.append(focus_false_pred_true)\n",
        "col6.append(focus_true_pred_false)\n",
        "col7.append(focus_false_pred_false)"
      ],
      "execution_count": 41,
      "outputs": [
        {
          "output_type": "stream",
          "text": [
            "Accuracy of the network on the 1000 train images: 75 %\n",
            "total correct 753\n",
            "total train set images 1000\n",
            "focus_true_pred_true 81 =============> FTPT : 8 %\n",
            "focus_false_pred_true 672 =============> FFPT : 67 %\n",
            "focus_true_pred_false 39 =============> FTPF : 3 %\n",
            "focus_false_pred_false 208 =============> FFPF : 20 %\n",
            "argmax_more_than_half ==================>  0\n",
            "argmax_less_than_half ==================>  1000\n",
            "1000\n",
            "====================================================================================================\n"
          ],
          "name": "stdout"
        }
      ]
    },
    {
      "cell_type": "code",
      "metadata": {
        "id": "4vmNprlPzTjP",
        "colab": {
          "base_uri": "https://localhost:8080/"
        },
        "outputId": "702fe364-3102-4926-a219-384b27bc070a"
      },
      "source": [
        "correct = 0\n",
        "total = 0\n",
        "count = 0\n",
        "flag = 1\n",
        "focus_true_pred_true =0\n",
        "focus_false_pred_true =0\n",
        "focus_true_pred_false =0\n",
        "focus_false_pred_false =0\n",
        "\n",
        "argmax_more_than_half = 0\n",
        "argmax_less_than_half =0\n",
        "\n",
        "with torch.no_grad():\n",
        "  for data in test_loader:\n",
        "    inputs, labels , fore_idx = data\n",
        "    inputs = inputs.double()\n",
        "    inputs, labels , fore_idx = inputs.to(\"cuda\"),labels.to(\"cuda\"), fore_idx.to(\"cuda\")\n",
        "    alphas, avg_images = focus_net(inputs)\n",
        "    outputs = classify(avg_images)\n",
        "\n",
        "    _, predicted = torch.max(outputs.data, 1)\n",
        "\n",
        "    for j in range(labels.size(0)):\n",
        "      focus = torch.argmax(alphas[j])\n",
        "      if alphas[j][focus] >= 0.5 :\n",
        "        argmax_more_than_half += 1\n",
        "      else:\n",
        "        argmax_less_than_half += 1\n",
        "\n",
        "      if(focus == fore_idx[j] and predicted[j] == labels[j]):\n",
        "          focus_true_pred_true += 1\n",
        "      elif(focus != fore_idx[j] and predicted[j] == labels[j]):\n",
        "        focus_false_pred_true += 1\n",
        "      elif(focus == fore_idx[j] and predicted[j] != labels[j]):\n",
        "        focus_true_pred_false += 1\n",
        "      elif(focus != fore_idx[j] and predicted[j] != labels[j]):\n",
        "        focus_false_pred_false += 1\n",
        "\n",
        "    total += labels.size(0)\n",
        "    correct += (predicted == labels).sum().item()\n",
        "\n",
        "print('Accuracy of the network on the 1000 test images: %d %%' % (\n",
        "    100 * correct / total))\n",
        "print(\"total correct\", correct)\n",
        "print(\"total train set images\", total)\n",
        "\n",
        "print(\"focus_true_pred_true %d =============> FTPT : %d %%\" % (focus_true_pred_true , (100 * focus_true_pred_true / total) ) )\n",
        "print(\"focus_false_pred_true %d =============> FFPT : %d %%\" % (focus_false_pred_true, (100 * focus_false_pred_true / total) ) )\n",
        "print(\"focus_true_pred_false %d =============> FTPF : %d %%\" %( focus_true_pred_false , ( 100 * focus_true_pred_false / total) ) )\n",
        "print(\"focus_false_pred_false %d =============> FFPF : %d %%\" % (focus_false_pred_false, ( 100 * focus_false_pred_false / total) ) )\n",
        "\n",
        "print(\"argmax_more_than_half ==================> \",argmax_more_than_half)\n",
        "print(\"argmax_less_than_half ==================> \",argmax_less_than_half)\n",
        "col8.append(argmax_more_than_half)\n",
        "col9.append(argmax_less_than_half)\n",
        "col10.append(focus_true_pred_true)\n",
        "col11.append(focus_false_pred_true)\n",
        "col12.append(focus_true_pred_false)\n",
        "col13.append(focus_false_pred_false)"
      ],
      "execution_count": 42,
      "outputs": [
        {
          "output_type": "stream",
          "text": [
            "Accuracy of the network on the 1000 test images: 71 %\n",
            "total correct 713\n",
            "total train set images 1000\n",
            "focus_true_pred_true 80 =============> FTPT : 8 %\n",
            "focus_false_pred_true 633 =============> FFPT : 63 %\n",
            "focus_true_pred_false 36 =============> FTPF : 3 %\n",
            "focus_false_pred_false 251 =============> FFPF : 25 %\n",
            "argmax_more_than_half ==================>  0\n",
            "argmax_less_than_half ==================>  1000\n"
          ],
          "name": "stdout"
        }
      ]
    },
    {
      "cell_type": "code",
      "metadata": {
        "id": "Yl41sE8vFERk",
        "colab": {
          "base_uri": "https://localhost:8080/"
        },
        "outputId": "e7180f75-4e3c-40fd-dc06-3a9a0c212927"
      },
      "source": [
        "nos_epochs = 1000\n",
        "focus_true_pred_true =0\n",
        "focus_false_pred_true =0\n",
        "focus_true_pred_false =0\n",
        "focus_false_pred_false =0\n",
        "\n",
        "argmax_more_than_half = 0\n",
        "argmax_less_than_half =0\n",
        "\n",
        "\n",
        "for epoch in range(nos_epochs):  # loop over the dataset multiple times\n",
        "\n",
        "  focus_true_pred_true =0\n",
        "  focus_false_pred_true =0\n",
        "  focus_true_pred_false =0\n",
        "  focus_false_pred_false =0\n",
        "  \n",
        "  argmax_more_than_half = 0\n",
        "  argmax_less_than_half =0\n",
        "  \n",
        "  running_loss = 0.0\n",
        "  epoch_loss = []\n",
        "  cnt=0\n",
        "\n",
        "  iteration = desired_num // batch\n",
        "  \n",
        "  #training data set\n",
        "  \n",
        "  for i, data in  enumerate(train_loader):\n",
        "    inputs , labels , fore_idx = data\n",
        "    inputs, labels = inputs.to(\"cuda\"), labels.to(\"cuda\")\n",
        "    inputs = inputs.double()\n",
        "    # zero the parameter gradients\n",
        "    \n",
        "    optimizer_focus.zero_grad()\n",
        "    optimizer_classify.zero_grad()\n",
        "    \n",
        "    alphas, avg_images = focus_net(inputs)\n",
        "    outputs = classify(avg_images)\n",
        "\n",
        "    _, predicted = torch.max(outputs.data, 1)\n",
        "#     print(outputs)\n",
        "#     print(outputs.shape,labels.shape , torch.argmax(outputs, dim=1))\n",
        "\n",
        "    loss = criterion(outputs, labels) \n",
        "    loss.backward()\n",
        "    optimizer_focus.step()\n",
        "    optimizer_classify.step()\n",
        "\n",
        "    running_loss += loss.item()\n",
        "    mini = 3\n",
        "    if cnt % mini == mini-1:    # print every 40 mini-batches\n",
        "      print('[%d, %5d] loss: %.3f' %(epoch + 1, cnt + 1, running_loss / mini))\n",
        "      epoch_loss.append(running_loss/mini)\n",
        "      running_loss = 0.0\n",
        "    cnt=cnt+1\n",
        "    \n",
        "    if epoch % 5 == 0:\n",
        "      for j in range (batch):\n",
        "        focus = torch.argmax(alphas[j])\n",
        "\n",
        "        if(alphas[j][focus] >= 0.5):\n",
        "          argmax_more_than_half +=1\n",
        "        else:\n",
        "          argmax_less_than_half +=1\n",
        "\n",
        "        if(focus == fore_idx[j] and predicted[j] == labels[j]):\n",
        "          focus_true_pred_true += 1\n",
        "\n",
        "        elif(focus != fore_idx[j] and predicted[j] == labels[j]):\n",
        "          focus_false_pred_true +=1\n",
        "\n",
        "        elif(focus == fore_idx[j] and predicted[j] != labels[j]):\n",
        "          focus_true_pred_false +=1\n",
        "\n",
        "        elif(focus != fore_idx[j] and predicted[j] != labels[j]):\n",
        "          focus_false_pred_false +=1\n",
        "\n",
        "  if(np.mean(epoch_loss) <= 0.001):\n",
        "      break;\n",
        "\n",
        "  if epoch % 5 == 0:\n",
        "    col1.append(epoch + 1)\n",
        "    col2.append(argmax_more_than_half)\n",
        "    col3.append(argmax_less_than_half)\n",
        "    col4.append(focus_true_pred_true)\n",
        "    col5.append(focus_false_pred_true)\n",
        "    col6.append(focus_true_pred_false)\n",
        "    col7.append(focus_false_pred_false)\n",
        "    # print(\"=\"*20)\n",
        "    # print(\"Train FTPT : \", col4)\n",
        "    # print(\"Train FFPT : \", col5)\n",
        "    #************************************************************************\n",
        "    #testing data set  \n",
        "    # focus_net.eval()\n",
        "    with torch.no_grad():\n",
        "      focus_true_pred_true =0\n",
        "      focus_false_pred_true =0\n",
        "      focus_true_pred_false =0\n",
        "      focus_false_pred_false =0\n",
        "\n",
        "      argmax_more_than_half = 0\n",
        "      argmax_less_than_half =0\n",
        "      for data in test_loader:\n",
        "        inputs, labels , fore_idx = data\n",
        "        inputs = inputs.double()\n",
        "        inputs, labels = inputs.to(\"cuda\"), labels.to(\"cuda\")\n",
        "        alphas, avg_images = focus_net(inputs)\n",
        "        outputs = classify(avg_images)\n",
        "        _, predicted = torch.max(outputs.data, 1)\n",
        "\n",
        "        for j in range (batch):\n",
        "          focus = torch.argmax(alphas[j])\n",
        "\n",
        "          if(alphas[j][focus] >= 0.5):\n",
        "            argmax_more_than_half +=1\n",
        "          else:\n",
        "            argmax_less_than_half +=1\n",
        "\n",
        "          if(focus == fore_idx[j] and predicted[j] == labels[j]):\n",
        "            focus_true_pred_true += 1\n",
        "\n",
        "          elif(focus != fore_idx[j] and predicted[j] == labels[j]):\n",
        "            focus_false_pred_true +=1\n",
        "\n",
        "          elif(focus == fore_idx[j] and predicted[j] != labels[j]):\n",
        "            focus_true_pred_false +=1\n",
        "\n",
        "          elif(focus != fore_idx[j] and predicted[j] != labels[j]):\n",
        "            focus_false_pred_false +=1\n",
        "      \n",
        "    col8.append(argmax_more_than_half)\n",
        "    col9.append(argmax_less_than_half)\n",
        "    col10.append(focus_true_pred_true)\n",
        "    col11.append(focus_false_pred_true)\n",
        "    col12.append(focus_true_pred_false)\n",
        "    col13.append(focus_false_pred_false)\n",
        "    # print(\"Test FTPT : \", col10)\n",
        "    # print(\"Test FFPT : \", col11)\n",
        "    # print(\"=\"*20)\n",
        "    \n",
        "print('Finished Training')"
      ],
      "execution_count": 43,
      "outputs": [
        {
          "output_type": "stream",
          "text": [
            "[1,     3] loss: 1.013\n",
            "[2,     3] loss: 0.974\n",
            "[3,     3] loss: 0.930\n",
            "[4,     3] loss: 0.879\n",
            "[5,     3] loss: 0.811\n",
            "[6,     3] loss: 0.753\n",
            "[7,     3] loss: 0.683\n",
            "[8,     3] loss: 0.629\n",
            "[9,     3] loss: 0.589\n",
            "[10,     3] loss: 0.540\n",
            "[11,     3] loss: 0.503\n",
            "[12,     3] loss: 0.473\n",
            "[13,     3] loss: 0.444\n",
            "[14,     3] loss: 0.422\n",
            "[15,     3] loss: 0.394\n",
            "[16,     3] loss: 0.373\n",
            "[17,     3] loss: 0.373\n",
            "[18,     3] loss: 0.349\n",
            "[19,     3] loss: 0.327\n",
            "[20,     3] loss: 0.315\n",
            "[21,     3] loss: 0.286\n",
            "[22,     3] loss: 0.285\n",
            "[23,     3] loss: 0.265\n",
            "[24,     3] loss: 0.253\n",
            "[25,     3] loss: 0.239\n",
            "[26,     3] loss: 0.223\n",
            "[27,     3] loss: 0.217\n",
            "[28,     3] loss: 0.200\n",
            "[29,     3] loss: 0.182\n",
            "[30,     3] loss: 0.171\n",
            "[31,     3] loss: 0.160\n",
            "[32,     3] loss: 0.151\n",
            "[33,     3] loss: 0.139\n",
            "[34,     3] loss: 0.128\n",
            "[35,     3] loss: 0.125\n",
            "[36,     3] loss: 0.118\n",
            "[37,     3] loss: 0.108\n",
            "[38,     3] loss: 0.101\n",
            "[39,     3] loss: 0.095\n",
            "[40,     3] loss: 0.091\n",
            "[41,     3] loss: 0.086\n",
            "[42,     3] loss: 0.081\n",
            "[43,     3] loss: 0.077\n",
            "[44,     3] loss: 0.073\n",
            "[45,     3] loss: 0.071\n",
            "[46,     3] loss: 0.070\n",
            "[47,     3] loss: 0.065\n",
            "[48,     3] loss: 0.061\n",
            "[49,     3] loss: 0.059\n",
            "[50,     3] loss: 0.058\n",
            "[51,     3] loss: 0.056\n",
            "[52,     3] loss: 0.053\n",
            "[53,     3] loss: 0.050\n",
            "[54,     3] loss: 0.050\n",
            "[55,     3] loss: 0.047\n",
            "[56,     3] loss: 0.047\n",
            "[57,     3] loss: 0.044\n",
            "[58,     3] loss: 0.045\n",
            "[59,     3] loss: 0.041\n",
            "[60,     3] loss: 0.040\n",
            "[61,     3] loss: 0.040\n",
            "[62,     3] loss: 0.038\n",
            "[63,     3] loss: 0.036\n",
            "[64,     3] loss: 0.036\n",
            "[65,     3] loss: 0.035\n",
            "[66,     3] loss: 0.034\n",
            "[67,     3] loss: 0.033\n",
            "[68,     3] loss: 0.032\n",
            "[69,     3] loss: 0.030\n",
            "[70,     3] loss: 0.030\n",
            "[71,     3] loss: 0.028\n",
            "[72,     3] loss: 0.029\n",
            "[73,     3] loss: 0.028\n",
            "[74,     3] loss: 0.027\n",
            "[75,     3] loss: 0.025\n",
            "[76,     3] loss: 0.027\n",
            "[77,     3] loss: 0.026\n",
            "[78,     3] loss: 0.025\n",
            "[79,     3] loss: 0.024\n",
            "[80,     3] loss: 0.024\n",
            "[81,     3] loss: 0.022\n",
            "[82,     3] loss: 0.023\n",
            "[83,     3] loss: 0.023\n",
            "[84,     3] loss: 0.021\n",
            "[85,     3] loss: 0.022\n",
            "[86,     3] loss: 0.021\n",
            "[87,     3] loss: 0.020\n",
            "[88,     3] loss: 0.019\n",
            "[89,     3] loss: 0.020\n",
            "[90,     3] loss: 0.019\n",
            "[91,     3] loss: 0.019\n",
            "[92,     3] loss: 0.019\n",
            "[93,     3] loss: 0.019\n",
            "[94,     3] loss: 0.018\n",
            "[95,     3] loss: 0.018\n",
            "[96,     3] loss: 0.017\n",
            "[97,     3] loss: 0.017\n",
            "[98,     3] loss: 0.017\n",
            "[99,     3] loss: 0.017\n",
            "[100,     3] loss: 0.016\n",
            "[101,     3] loss: 0.015\n",
            "[102,     3] loss: 0.016\n",
            "[103,     3] loss: 0.015\n",
            "[104,     3] loss: 0.014\n",
            "[105,     3] loss: 0.015\n",
            "[106,     3] loss: 0.015\n",
            "[107,     3] loss: 0.015\n",
            "[108,     3] loss: 0.014\n",
            "[109,     3] loss: 0.014\n",
            "[110,     3] loss: 0.014\n",
            "[111,     3] loss: 0.013\n",
            "[112,     3] loss: 0.013\n",
            "[113,     3] loss: 0.013\n",
            "[114,     3] loss: 0.014\n",
            "[115,     3] loss: 0.013\n",
            "[116,     3] loss: 0.013\n",
            "[117,     3] loss: 0.012\n",
            "[118,     3] loss: 0.013\n",
            "[119,     3] loss: 0.012\n",
            "[120,     3] loss: 0.012\n",
            "[121,     3] loss: 0.012\n",
            "[122,     3] loss: 0.012\n",
            "[123,     3] loss: 0.012\n",
            "[124,     3] loss: 0.011\n",
            "[125,     3] loss: 0.011\n",
            "[126,     3] loss: 0.011\n",
            "[127,     3] loss: 0.011\n",
            "[128,     3] loss: 0.011\n",
            "[129,     3] loss: 0.010\n",
            "[130,     3] loss: 0.011\n",
            "[131,     3] loss: 0.011\n",
            "[132,     3] loss: 0.011\n",
            "[133,     3] loss: 0.010\n",
            "[134,     3] loss: 0.010\n",
            "[135,     3] loss: 0.010\n",
            "[136,     3] loss: 0.010\n",
            "[137,     3] loss: 0.010\n",
            "[138,     3] loss: 0.010\n",
            "[139,     3] loss: 0.009\n",
            "[140,     3] loss: 0.009\n",
            "[141,     3] loss: 0.009\n",
            "[142,     3] loss: 0.009\n",
            "[143,     3] loss: 0.009\n",
            "[144,     3] loss: 0.009\n",
            "[145,     3] loss: 0.009\n",
            "[146,     3] loss: 0.009\n",
            "[147,     3] loss: 0.009\n",
            "[148,     3] loss: 0.008\n",
            "[149,     3] loss: 0.008\n",
            "[150,     3] loss: 0.008\n",
            "[151,     3] loss: 0.008\n",
            "[152,     3] loss: 0.008\n",
            "[153,     3] loss: 0.008\n",
            "[154,     3] loss: 0.008\n",
            "[155,     3] loss: 0.008\n",
            "[156,     3] loss: 0.008\n",
            "[157,     3] loss: 0.008\n",
            "[158,     3] loss: 0.007\n",
            "[159,     3] loss: 0.007\n",
            "[160,     3] loss: 0.007\n",
            "[161,     3] loss: 0.007\n",
            "[162,     3] loss: 0.008\n",
            "[163,     3] loss: 0.007\n",
            "[164,     3] loss: 0.007\n",
            "[165,     3] loss: 0.007\n",
            "[166,     3] loss: 0.007\n",
            "[167,     3] loss: 0.007\n",
            "[168,     3] loss: 0.007\n",
            "[169,     3] loss: 0.007\n",
            "[170,     3] loss: 0.007\n",
            "[171,     3] loss: 0.007\n",
            "[172,     3] loss: 0.007\n",
            "[173,     3] loss: 0.007\n",
            "[174,     3] loss: 0.007\n",
            "[175,     3] loss: 0.006\n",
            "[176,     3] loss: 0.007\n",
            "[177,     3] loss: 0.006\n",
            "[178,     3] loss: 0.006\n",
            "[179,     3] loss: 0.006\n",
            "[180,     3] loss: 0.006\n",
            "[181,     3] loss: 0.006\n",
            "[182,     3] loss: 0.006\n",
            "[183,     3] loss: 0.006\n",
            "[184,     3] loss: 0.006\n",
            "[185,     3] loss: 0.006\n",
            "[186,     3] loss: 0.006\n",
            "[187,     3] loss: 0.006\n",
            "[188,     3] loss: 0.006\n",
            "[189,     3] loss: 0.006\n",
            "[190,     3] loss: 0.006\n",
            "[191,     3] loss: 0.006\n",
            "[192,     3] loss: 0.005\n",
            "[193,     3] loss: 0.006\n",
            "[194,     3] loss: 0.006\n",
            "[195,     3] loss: 0.005\n",
            "[196,     3] loss: 0.006\n",
            "[197,     3] loss: 0.005\n",
            "[198,     3] loss: 0.005\n",
            "[199,     3] loss: 0.005\n",
            "[200,     3] loss: 0.005\n",
            "[201,     3] loss: 0.005\n",
            "[202,     3] loss: 0.005\n",
            "[203,     3] loss: 0.005\n",
            "[204,     3] loss: 0.005\n",
            "[205,     3] loss: 0.005\n",
            "[206,     3] loss: 0.005\n",
            "[207,     3] loss: 0.005\n",
            "[208,     3] loss: 0.005\n",
            "[209,     3] loss: 0.005\n",
            "[210,     3] loss: 0.005\n",
            "[211,     3] loss: 0.005\n",
            "[212,     3] loss: 0.005\n",
            "[213,     3] loss: 0.005\n",
            "[214,     3] loss: 0.005\n",
            "[215,     3] loss: 0.005\n",
            "[216,     3] loss: 0.005\n",
            "[217,     3] loss: 0.005\n",
            "[218,     3] loss: 0.004\n",
            "[219,     3] loss: 0.004\n",
            "[220,     3] loss: 0.004\n",
            "[221,     3] loss: 0.004\n",
            "[222,     3] loss: 0.004\n",
            "[223,     3] loss: 0.004\n",
            "[224,     3] loss: 0.005\n",
            "[225,     3] loss: 0.004\n",
            "[226,     3] loss: 0.004\n",
            "[227,     3] loss: 0.004\n",
            "[228,     3] loss: 0.004\n",
            "[229,     3] loss: 0.004\n",
            "[230,     3] loss: 0.004\n",
            "[231,     3] loss: 0.004\n",
            "[232,     3] loss: 0.004\n",
            "[233,     3] loss: 0.004\n",
            "[234,     3] loss: 0.004\n",
            "[235,     3] loss: 0.004\n",
            "[236,     3] loss: 0.004\n",
            "[237,     3] loss: 0.004\n",
            "[238,     3] loss: 0.004\n",
            "[239,     3] loss: 0.004\n",
            "[240,     3] loss: 0.004\n",
            "[241,     3] loss: 0.004\n",
            "[242,     3] loss: 0.004\n",
            "[243,     3] loss: 0.004\n",
            "[244,     3] loss: 0.004\n",
            "[245,     3] loss: 0.004\n",
            "[246,     3] loss: 0.004\n",
            "[247,     3] loss: 0.004\n",
            "[248,     3] loss: 0.004\n",
            "[249,     3] loss: 0.004\n",
            "[250,     3] loss: 0.004\n",
            "[251,     3] loss: 0.004\n",
            "[252,     3] loss: 0.004\n",
            "[253,     3] loss: 0.003\n",
            "[254,     3] loss: 0.004\n",
            "[255,     3] loss: 0.004\n",
            "[256,     3] loss: 0.004\n",
            "[257,     3] loss: 0.004\n",
            "[258,     3] loss: 0.003\n",
            "[259,     3] loss: 0.004\n",
            "[260,     3] loss: 0.003\n",
            "[261,     3] loss: 0.003\n",
            "[262,     3] loss: 0.003\n",
            "[263,     3] loss: 0.003\n",
            "[264,     3] loss: 0.003\n",
            "[265,     3] loss: 0.003\n",
            "[266,     3] loss: 0.003\n",
            "[267,     3] loss: 0.003\n",
            "[268,     3] loss: 0.003\n",
            "[269,     3] loss: 0.003\n",
            "[270,     3] loss: 0.003\n",
            "[271,     3] loss: 0.003\n",
            "[272,     3] loss: 0.003\n",
            "[273,     3] loss: 0.003\n",
            "[274,     3] loss: 0.003\n",
            "[275,     3] loss: 0.003\n",
            "[276,     3] loss: 0.003\n",
            "[277,     3] loss: 0.003\n",
            "[278,     3] loss: 0.003\n",
            "[279,     3] loss: 0.003\n",
            "[280,     3] loss: 0.003\n",
            "[281,     3] loss: 0.003\n",
            "[282,     3] loss: 0.003\n",
            "[283,     3] loss: 0.003\n",
            "[284,     3] loss: 0.003\n",
            "[285,     3] loss: 0.003\n",
            "[286,     3] loss: 0.003\n",
            "[287,     3] loss: 0.003\n",
            "[288,     3] loss: 0.003\n",
            "[289,     3] loss: 0.003\n",
            "[290,     3] loss: 0.003\n",
            "[291,     3] loss: 0.003\n",
            "[292,     3] loss: 0.003\n",
            "[293,     3] loss: 0.003\n",
            "[294,     3] loss: 0.003\n",
            "[295,     3] loss: 0.003\n",
            "[296,     3] loss: 0.003\n",
            "[297,     3] loss: 0.003\n",
            "[298,     3] loss: 0.003\n",
            "[299,     3] loss: 0.003\n",
            "[300,     3] loss: 0.003\n",
            "[301,     3] loss: 0.003\n",
            "[302,     3] loss: 0.003\n",
            "[303,     3] loss: 0.003\n",
            "[304,     3] loss: 0.003\n",
            "[305,     3] loss: 0.003\n",
            "[306,     3] loss: 0.003\n",
            "[307,     3] loss: 0.003\n",
            "[308,     3] loss: 0.003\n",
            "[309,     3] loss: 0.003\n",
            "[310,     3] loss: 0.003\n",
            "[311,     3] loss: 0.003\n",
            "[312,     3] loss: 0.003\n",
            "[313,     3] loss: 0.003\n",
            "[314,     3] loss: 0.002\n",
            "[315,     3] loss: 0.002\n",
            "[316,     3] loss: 0.002\n",
            "[317,     3] loss: 0.002\n",
            "[318,     3] loss: 0.002\n",
            "[319,     3] loss: 0.002\n",
            "[320,     3] loss: 0.002\n",
            "[321,     3] loss: 0.002\n",
            "[322,     3] loss: 0.002\n",
            "[323,     3] loss: 0.002\n",
            "[324,     3] loss: 0.002\n",
            "[325,     3] loss: 0.002\n",
            "[326,     3] loss: 0.002\n",
            "[327,     3] loss: 0.002\n",
            "[328,     3] loss: 0.002\n",
            "[329,     3] loss: 0.002\n",
            "[330,     3] loss: 0.002\n",
            "[331,     3] loss: 0.002\n",
            "[332,     3] loss: 0.002\n",
            "[333,     3] loss: 0.002\n",
            "[334,     3] loss: 0.002\n",
            "[335,     3] loss: 0.002\n",
            "[336,     3] loss: 0.002\n",
            "[337,     3] loss: 0.002\n",
            "[338,     3] loss: 0.002\n",
            "[339,     3] loss: 0.002\n",
            "[340,     3] loss: 0.002\n",
            "[341,     3] loss: 0.002\n",
            "[342,     3] loss: 0.002\n",
            "[343,     3] loss: 0.002\n",
            "[344,     3] loss: 0.002\n",
            "[345,     3] loss: 0.002\n",
            "[346,     3] loss: 0.002\n",
            "[347,     3] loss: 0.002\n",
            "[348,     3] loss: 0.002\n",
            "[349,     3] loss: 0.002\n",
            "[350,     3] loss: 0.002\n",
            "[351,     3] loss: 0.002\n",
            "[352,     3] loss: 0.002\n",
            "[353,     3] loss: 0.002\n",
            "[354,     3] loss: 0.002\n",
            "[355,     3] loss: 0.002\n",
            "[356,     3] loss: 0.002\n",
            "[357,     3] loss: 0.002\n",
            "[358,     3] loss: 0.002\n",
            "[359,     3] loss: 0.002\n",
            "[360,     3] loss: 0.002\n",
            "[361,     3] loss: 0.002\n",
            "[362,     3] loss: 0.002\n",
            "[363,     3] loss: 0.002\n",
            "[364,     3] loss: 0.002\n",
            "[365,     3] loss: 0.002\n",
            "[366,     3] loss: 0.002\n",
            "[367,     3] loss: 0.002\n",
            "[368,     3] loss: 0.002\n",
            "[369,     3] loss: 0.002\n",
            "[370,     3] loss: 0.002\n",
            "[371,     3] loss: 0.002\n",
            "[372,     3] loss: 0.002\n",
            "[373,     3] loss: 0.002\n",
            "[374,     3] loss: 0.002\n",
            "[375,     3] loss: 0.002\n",
            "[376,     3] loss: 0.002\n",
            "[377,     3] loss: 0.002\n",
            "[378,     3] loss: 0.002\n",
            "[379,     3] loss: 0.002\n",
            "[380,     3] loss: 0.002\n",
            "[381,     3] loss: 0.002\n",
            "[382,     3] loss: 0.002\n",
            "[383,     3] loss: 0.002\n",
            "[384,     3] loss: 0.002\n",
            "[385,     3] loss: 0.002\n",
            "[386,     3] loss: 0.002\n",
            "[387,     3] loss: 0.002\n",
            "[388,     3] loss: 0.002\n",
            "[389,     3] loss: 0.002\n",
            "[390,     3] loss: 0.002\n",
            "[391,     3] loss: 0.002\n",
            "[392,     3] loss: 0.002\n",
            "[393,     3] loss: 0.002\n",
            "[394,     3] loss: 0.002\n",
            "[395,     3] loss: 0.002\n",
            "[396,     3] loss: 0.002\n",
            "[397,     3] loss: 0.002\n",
            "[398,     3] loss: 0.002\n",
            "[399,     3] loss: 0.002\n",
            "[400,     3] loss: 0.002\n",
            "[401,     3] loss: 0.002\n",
            "[402,     3] loss: 0.002\n",
            "[403,     3] loss: 0.002\n",
            "[404,     3] loss: 0.002\n",
            "[405,     3] loss: 0.002\n",
            "[406,     3] loss: 0.002\n",
            "[407,     3] loss: 0.002\n",
            "[408,     3] loss: 0.002\n",
            "[409,     3] loss: 0.002\n",
            "[410,     3] loss: 0.002\n",
            "[411,     3] loss: 0.002\n",
            "[412,     3] loss: 0.002\n",
            "[413,     3] loss: 0.002\n",
            "[414,     3] loss: 0.002\n",
            "[415,     3] loss: 0.002\n",
            "[416,     3] loss: 0.002\n",
            "[417,     3] loss: 0.002\n",
            "[418,     3] loss: 0.002\n",
            "[419,     3] loss: 0.002\n",
            "[420,     3] loss: 0.002\n",
            "[421,     3] loss: 0.001\n",
            "[422,     3] loss: 0.001\n",
            "[423,     3] loss: 0.001\n",
            "[424,     3] loss: 0.002\n",
            "[425,     3] loss: 0.001\n",
            "[426,     3] loss: 0.001\n",
            "[427,     3] loss: 0.002\n",
            "[428,     3] loss: 0.001\n",
            "[429,     3] loss: 0.001\n",
            "[430,     3] loss: 0.001\n",
            "[431,     3] loss: 0.001\n",
            "[432,     3] loss: 0.001\n",
            "[433,     3] loss: 0.001\n",
            "[434,     3] loss: 0.001\n",
            "[435,     3] loss: 0.001\n",
            "[436,     3] loss: 0.001\n",
            "[437,     3] loss: 0.001\n",
            "[438,     3] loss: 0.001\n",
            "[439,     3] loss: 0.001\n",
            "[440,     3] loss: 0.001\n",
            "[441,     3] loss: 0.001\n",
            "[442,     3] loss: 0.001\n",
            "[443,     3] loss: 0.001\n",
            "[444,     3] loss: 0.001\n",
            "[445,     3] loss: 0.001\n",
            "[446,     3] loss: 0.001\n",
            "[447,     3] loss: 0.001\n",
            "[448,     3] loss: 0.001\n",
            "[449,     3] loss: 0.001\n",
            "[450,     3] loss: 0.001\n",
            "[451,     3] loss: 0.001\n",
            "[452,     3] loss: 0.001\n",
            "[453,     3] loss: 0.001\n",
            "[454,     3] loss: 0.001\n",
            "[455,     3] loss: 0.001\n",
            "[456,     3] loss: 0.001\n",
            "[457,     3] loss: 0.001\n",
            "[458,     3] loss: 0.001\n",
            "[459,     3] loss: 0.001\n",
            "[460,     3] loss: 0.001\n",
            "[461,     3] loss: 0.001\n",
            "[462,     3] loss: 0.001\n",
            "[463,     3] loss: 0.001\n",
            "[464,     3] loss: 0.001\n",
            "[465,     3] loss: 0.001\n",
            "[466,     3] loss: 0.001\n",
            "[467,     3] loss: 0.001\n",
            "[468,     3] loss: 0.001\n",
            "[469,     3] loss: 0.001\n",
            "[470,     3] loss: 0.001\n",
            "[471,     3] loss: 0.001\n",
            "[472,     3] loss: 0.001\n",
            "[473,     3] loss: 0.001\n",
            "[474,     3] loss: 0.001\n",
            "[475,     3] loss: 0.001\n",
            "[476,     3] loss: 0.001\n",
            "[477,     3] loss: 0.001\n",
            "[478,     3] loss: 0.001\n",
            "[479,     3] loss: 0.001\n",
            "[480,     3] loss: 0.001\n",
            "[481,     3] loss: 0.001\n",
            "[482,     3] loss: 0.001\n",
            "[483,     3] loss: 0.001\n",
            "[484,     3] loss: 0.001\n",
            "[485,     3] loss: 0.001\n",
            "[486,     3] loss: 0.001\n",
            "[487,     3] loss: 0.001\n",
            "[488,     3] loss: 0.001\n",
            "[489,     3] loss: 0.001\n",
            "[490,     3] loss: 0.001\n",
            "[491,     3] loss: 0.001\n",
            "[492,     3] loss: 0.001\n",
            "[493,     3] loss: 0.001\n",
            "[494,     3] loss: 0.001\n",
            "[495,     3] loss: 0.001\n",
            "[496,     3] loss: 0.001\n",
            "[497,     3] loss: 0.001\n",
            "[498,     3] loss: 0.001\n",
            "[499,     3] loss: 0.001\n",
            "[500,     3] loss: 0.001\n",
            "[501,     3] loss: 0.001\n",
            "[502,     3] loss: 0.001\n",
            "[503,     3] loss: 0.001\n",
            "[504,     3] loss: 0.001\n",
            "[505,     3] loss: 0.001\n",
            "[506,     3] loss: 0.001\n",
            "[507,     3] loss: 0.001\n",
            "[508,     3] loss: 0.001\n",
            "[509,     3] loss: 0.001\n",
            "[510,     3] loss: 0.001\n",
            "[511,     3] loss: 0.001\n",
            "[512,     3] loss: 0.001\n",
            "[513,     3] loss: 0.001\n",
            "[514,     3] loss: 0.001\n",
            "[515,     3] loss: 0.001\n",
            "[516,     3] loss: 0.001\n",
            "[517,     3] loss: 0.001\n",
            "[518,     3] loss: 0.001\n",
            "[519,     3] loss: 0.001\n",
            "[520,     3] loss: 0.001\n",
            "[521,     3] loss: 0.001\n",
            "[522,     3] loss: 0.001\n",
            "[523,     3] loss: 0.001\n",
            "[524,     3] loss: 0.001\n",
            "[525,     3] loss: 0.001\n",
            "[526,     3] loss: 0.001\n",
            "[527,     3] loss: 0.001\n",
            "Finished Training\n"
          ],
          "name": "stdout"
        }
      ]
    },
    {
      "cell_type": "code",
      "metadata": {
        "id": "5gQoPST5zW2t"
      },
      "source": [
        "df_train = pd.DataFrame()\n",
        "df_test = pd.DataFrame()"
      ],
      "execution_count": 44,
      "outputs": []
    },
    {
      "cell_type": "code",
      "metadata": {
        "id": "In76SYH_zZHV"
      },
      "source": [
        "columns = [\"epochs\", \"argmax > 0.5\" ,\"argmax < 0.5\", \"focus_true_pred_true\", \"focus_false_pred_true\", \"focus_true_pred_false\", \"focus_false_pred_false\" ]"
      ],
      "execution_count": 45,
      "outputs": []
    },
    {
      "cell_type": "code",
      "metadata": {
        "id": "BS4HtOHEzZ0E"
      },
      "source": [
        "df_train[columns[0]] = col1\n",
        "df_train[columns[1]] = col2\n",
        "df_train[columns[2]] = col3\n",
        "df_train[columns[3]] = col4\n",
        "df_train[columns[4]] = col5\n",
        "df_train[columns[5]] = col6\n",
        "df_train[columns[6]] = col7\n",
        "\n",
        "df_test[columns[0]] = col1\n",
        "df_test[columns[1]] = col8\n",
        "df_test[columns[2]] = col9\n",
        "df_test[columns[3]] = col10\n",
        "df_test[columns[4]] = col11\n",
        "df_test[columns[5]] = col12\n",
        "df_test[columns[6]] = col13"
      ],
      "execution_count": 46,
      "outputs": []
    },
    {
      "cell_type": "code",
      "metadata": {
        "id": "1UbTkfLUINTI",
        "colab": {
          "base_uri": "https://localhost:8080/",
          "height": 424
        },
        "outputId": "110be2b2-52dc-45fc-c9c1-e14ec2c6c246"
      },
      "source": [
        "df_train"
      ],
      "execution_count": 47,
      "outputs": [
        {
          "output_type": "execute_result",
          "data": {
            "text/html": [
              "<div>\n",
              "<style scoped>\n",
              "    .dataframe tbody tr th:only-of-type {\n",
              "        vertical-align: middle;\n",
              "    }\n",
              "\n",
              "    .dataframe tbody tr th {\n",
              "        vertical-align: top;\n",
              "    }\n",
              "\n",
              "    .dataframe thead th {\n",
              "        text-align: right;\n",
              "    }\n",
              "</style>\n",
              "<table border=\"1\" class=\"dataframe\">\n",
              "  <thead>\n",
              "    <tr style=\"text-align: right;\">\n",
              "      <th></th>\n",
              "      <th>epochs</th>\n",
              "      <th>argmax &gt; 0.5</th>\n",
              "      <th>argmax &lt; 0.5</th>\n",
              "      <th>focus_true_pred_true</th>\n",
              "      <th>focus_false_pred_true</th>\n",
              "      <th>focus_true_pred_false</th>\n",
              "      <th>focus_false_pred_false</th>\n",
              "    </tr>\n",
              "  </thead>\n",
              "  <tbody>\n",
              "    <tr>\n",
              "      <th>0</th>\n",
              "      <td>0</td>\n",
              "      <td>0</td>\n",
              "      <td>1000</td>\n",
              "      <td>81</td>\n",
              "      <td>672</td>\n",
              "      <td>39</td>\n",
              "      <td>208</td>\n",
              "    </tr>\n",
              "    <tr>\n",
              "      <th>1</th>\n",
              "      <td>1</td>\n",
              "      <td>0</td>\n",
              "      <td>1000</td>\n",
              "      <td>349</td>\n",
              "      <td>394</td>\n",
              "      <td>18</td>\n",
              "      <td>239</td>\n",
              "    </tr>\n",
              "    <tr>\n",
              "      <th>2</th>\n",
              "      <td>6</td>\n",
              "      <td>0</td>\n",
              "      <td>1000</td>\n",
              "      <td>434</td>\n",
              "      <td>477</td>\n",
              "      <td>0</td>\n",
              "      <td>89</td>\n",
              "    </tr>\n",
              "    <tr>\n",
              "      <th>3</th>\n",
              "      <td>11</td>\n",
              "      <td>355</td>\n",
              "      <td>645</td>\n",
              "      <td>448</td>\n",
              "      <td>547</td>\n",
              "      <td>0</td>\n",
              "      <td>5</td>\n",
              "    </tr>\n",
              "    <tr>\n",
              "      <th>4</th>\n",
              "      <td>16</td>\n",
              "      <td>355</td>\n",
              "      <td>645</td>\n",
              "      <td>567</td>\n",
              "      <td>426</td>\n",
              "      <td>0</td>\n",
              "      <td>7</td>\n",
              "    </tr>\n",
              "    <tr>\n",
              "      <th>...</th>\n",
              "      <td>...</td>\n",
              "      <td>...</td>\n",
              "      <td>...</td>\n",
              "      <td>...</td>\n",
              "      <td>...</td>\n",
              "      <td>...</td>\n",
              "      <td>...</td>\n",
              "    </tr>\n",
              "    <tr>\n",
              "      <th>102</th>\n",
              "      <td>506</td>\n",
              "      <td>686</td>\n",
              "      <td>314</td>\n",
              "      <td>686</td>\n",
              "      <td>314</td>\n",
              "      <td>0</td>\n",
              "      <td>0</td>\n",
              "    </tr>\n",
              "    <tr>\n",
              "      <th>103</th>\n",
              "      <td>511</td>\n",
              "      <td>686</td>\n",
              "      <td>314</td>\n",
              "      <td>686</td>\n",
              "      <td>314</td>\n",
              "      <td>0</td>\n",
              "      <td>0</td>\n",
              "    </tr>\n",
              "    <tr>\n",
              "      <th>104</th>\n",
              "      <td>516</td>\n",
              "      <td>686</td>\n",
              "      <td>314</td>\n",
              "      <td>686</td>\n",
              "      <td>314</td>\n",
              "      <td>0</td>\n",
              "      <td>0</td>\n",
              "    </tr>\n",
              "    <tr>\n",
              "      <th>105</th>\n",
              "      <td>521</td>\n",
              "      <td>686</td>\n",
              "      <td>314</td>\n",
              "      <td>686</td>\n",
              "      <td>314</td>\n",
              "      <td>0</td>\n",
              "      <td>0</td>\n",
              "    </tr>\n",
              "    <tr>\n",
              "      <th>106</th>\n",
              "      <td>526</td>\n",
              "      <td>686</td>\n",
              "      <td>314</td>\n",
              "      <td>686</td>\n",
              "      <td>314</td>\n",
              "      <td>0</td>\n",
              "      <td>0</td>\n",
              "    </tr>\n",
              "  </tbody>\n",
              "</table>\n",
              "<p>107 rows × 7 columns</p>\n",
              "</div>"
            ],
            "text/plain": [
              "     epochs  argmax > 0.5  ...  focus_true_pred_false  focus_false_pred_false\n",
              "0         0             0  ...                     39                     208\n",
              "1         1             0  ...                     18                     239\n",
              "2         6             0  ...                      0                      89\n",
              "3        11           355  ...                      0                       5\n",
              "4        16           355  ...                      0                       7\n",
              "..      ...           ...  ...                    ...                     ...\n",
              "102     506           686  ...                      0                       0\n",
              "103     511           686  ...                      0                       0\n",
              "104     516           686  ...                      0                       0\n",
              "105     521           686  ...                      0                       0\n",
              "106     526           686  ...                      0                       0\n",
              "\n",
              "[107 rows x 7 columns]"
            ]
          },
          "metadata": {
            "tags": []
          },
          "execution_count": 47
        }
      ]
    },
    {
      "cell_type": "code",
      "metadata": {
        "colab": {
          "base_uri": "https://localhost:8080/",
          "height": 573
        },
        "id": "xyna3USAeKZ9",
        "outputId": "1eddc3c0-3f8a-4b37-a2ab-3f71c266a324"
      },
      "source": [
        "# plt.figure(12,12)\n",
        "plt.plot(col1,col2, label='argmax > 0.5')\n",
        "plt.plot(col1,col3, label='argmax < 0.5')\n",
        "\n",
        "plt.legend(loc='center left', bbox_to_anchor=(1, 0.5))\n",
        "plt.xlabel(\"epochs\")\n",
        "plt.ylabel(\"training data\")\n",
        "plt.title(\"On Training set\")\n",
        "plt.show()\n",
        "\n",
        "plt.plot(col1,col4, label =\"focus_true_pred_true \")\n",
        "plt.plot(col1,col5, label =\"focus_false_pred_true \")\n",
        "plt.plot(col1,col6, label =\"focus_true_pred_false \")\n",
        "plt.plot(col1,col7, label =\"focus_false_pred_false \")\n",
        "plt.title(\"On Training set\")\n",
        "plt.legend(loc='center left', bbox_to_anchor=(1, 0.5))\n",
        "plt.xlabel(\"epochs\")\n",
        "plt.ylabel(\"training data\")\n",
        "plt.show()"
      ],
      "execution_count": 48,
      "outputs": [
        {
          "output_type": "display_data",
          "data": {
            "image/png": "[encoded data removed]",
            "text/plain": [
              "<Figure size 432x288 with 1 Axes>"
            ]
          },
          "metadata": {
            "tags": [],
            "needs_background": "light"
          }
        },
        {
          "output_type": "display_data",
          "data": {
            "image/png": "[encoded data removed]",
            "text/plain": [
              "<Figure size 432x288 with 1 Axes>"
            ]
          },
          "metadata": {
            "tags": [],
            "needs_background": "light"
          }
        }
      ]
    },
    {
      "cell_type": "code",
      "metadata": {
        "colab": {
          "base_uri": "https://localhost:8080/",
          "height": 354
        },
        "id": "5lhODjqGoSxL",
        "outputId": "6f85f81e-f349-40e6-f80b-871b4462a528"
      },
      "source": [
        "plt.figure(figsize=(6,5))\n",
        "plt.plot(col1,np.array(col4)/10, label =\"FTPT\")\n",
        "plt.plot(col1,np.array(col5)/10, label =\"FFPT\")\n",
        "plt.plot(col1,np.array(col6)/10, label =\"FTPF\")\n",
        "plt.plot(col1,np.array(col7)/10, label =\"FFPF\")\n",
        "plt.title(\"Dataset2 - SDC On Train set\")\n",
        "plt.grid()\n",
        "# plt.legend(loc='center left', bbox_to_anchor=(1, 0.5))\n",
        "plt.legend(loc='upper right')\n",
        "plt.xlabel(\"epochs\", fontsize=14, fontweight = 'bold')\n",
        "plt.ylabel(\"percentage train data\", fontsize=14, fontweight = 'bold')\n",
        "plt.savefig(path+\"ds2_train.png\", bbox_inches=\"tight\")\n",
        "plt.savefig(path+\"ds2_train.pdf\", bbox_inches=\"tight\")\n",
        "plt.savefig(\"ds2_train.png\", bbox_inches=\"tight\")\n",
        "plt.savefig(\"ds2_train.pdf\", bbox_inches=\"tight\")\n",
        "plt.show()"
      ],
      "execution_count": 61,
      "outputs": [
        {
          "output_type": "display_data",
          "data": {
            "image/png": "[encoded data removed]",
            "text/plain": [
              "<Figure size 432x360 with 1 Axes>"
            ]
          },
          "metadata": {
            "tags": [],
            "needs_background": "light"
          }
        }
      ]
    },
    {
      "cell_type": "code",
      "metadata": {
        "colab": {
          "base_uri": "https://localhost:8080/",
          "height": 424
        },
        "id": "hrb68lvueMA-",
        "outputId": "0832e7ba-0e3c-478f-d3d8-7210051149f7"
      },
      "source": [
        "df_test"
      ],
      "execution_count": 50,
      "outputs": [
        {
          "output_type": "execute_result",
          "data": {
            "text/html": [
              "<div>\n",
              "<style scoped>\n",
              "    .dataframe tbody tr th:only-of-type {\n",
              "        vertical-align: middle;\n",
              "    }\n",
              "\n",
              "    .dataframe tbody tr th {\n",
              "        vertical-align: top;\n",
              "    }\n",
              "\n",
              "    .dataframe thead th {\n",
              "        text-align: right;\n",
              "    }\n",
              "</style>\n",
              "<table border=\"1\" class=\"dataframe\">\n",
              "  <thead>\n",
              "    <tr style=\"text-align: right;\">\n",
              "      <th></th>\n",
              "      <th>epochs</th>\n",
              "      <th>argmax &gt; 0.5</th>\n",
              "      <th>argmax &lt; 0.5</th>\n",
              "      <th>focus_true_pred_true</th>\n",
              "      <th>focus_false_pred_true</th>\n",
              "      <th>focus_true_pred_false</th>\n",
              "      <th>focus_false_pred_false</th>\n",
              "    </tr>\n",
              "  </thead>\n",
              "  <tbody>\n",
              "    <tr>\n",
              "      <th>0</th>\n",
              "      <td>0</td>\n",
              "      <td>0</td>\n",
              "      <td>1000</td>\n",
              "      <td>80</td>\n",
              "      <td>633</td>\n",
              "      <td>36</td>\n",
              "      <td>251</td>\n",
              "    </tr>\n",
              "    <tr>\n",
              "      <th>1</th>\n",
              "      <td>1</td>\n",
              "      <td>0</td>\n",
              "      <td>1000</td>\n",
              "      <td>390</td>\n",
              "      <td>344</td>\n",
              "      <td>1</td>\n",
              "      <td>265</td>\n",
              "    </tr>\n",
              "    <tr>\n",
              "      <th>2</th>\n",
              "      <td>6</td>\n",
              "      <td>0</td>\n",
              "      <td>1000</td>\n",
              "      <td>384</td>\n",
              "      <td>562</td>\n",
              "      <td>0</td>\n",
              "      <td>54</td>\n",
              "    </tr>\n",
              "    <tr>\n",
              "      <th>3</th>\n",
              "      <td>11</td>\n",
              "      <td>315</td>\n",
              "      <td>685</td>\n",
              "      <td>410</td>\n",
              "      <td>584</td>\n",
              "      <td>0</td>\n",
              "      <td>6</td>\n",
              "    </tr>\n",
              "    <tr>\n",
              "      <th>4</th>\n",
              "      <td>16</td>\n",
              "      <td>315</td>\n",
              "      <td>685</td>\n",
              "      <td>544</td>\n",
              "      <td>444</td>\n",
              "      <td>0</td>\n",
              "      <td>12</td>\n",
              "    </tr>\n",
              "    <tr>\n",
              "      <th>...</th>\n",
              "      <td>...</td>\n",
              "      <td>...</td>\n",
              "      <td>...</td>\n",
              "      <td>...</td>\n",
              "      <td>...</td>\n",
              "      <td>...</td>\n",
              "      <td>...</td>\n",
              "    </tr>\n",
              "    <tr>\n",
              "      <th>102</th>\n",
              "      <td>506</td>\n",
              "      <td>645</td>\n",
              "      <td>355</td>\n",
              "      <td>645</td>\n",
              "      <td>355</td>\n",
              "      <td>0</td>\n",
              "      <td>0</td>\n",
              "    </tr>\n",
              "    <tr>\n",
              "      <th>103</th>\n",
              "      <td>511</td>\n",
              "      <td>645</td>\n",
              "      <td>355</td>\n",
              "      <td>645</td>\n",
              "      <td>355</td>\n",
              "      <td>0</td>\n",
              "      <td>0</td>\n",
              "    </tr>\n",
              "    <tr>\n",
              "      <th>104</th>\n",
              "      <td>516</td>\n",
              "      <td>645</td>\n",
              "      <td>355</td>\n",
              "      <td>645</td>\n",
              "      <td>355</td>\n",
              "      <td>0</td>\n",
              "      <td>0</td>\n",
              "    </tr>\n",
              "    <tr>\n",
              "      <th>105</th>\n",
              "      <td>521</td>\n",
              "      <td>645</td>\n",
              "      <td>355</td>\n",
              "      <td>645</td>\n",
              "      <td>355</td>\n",
              "      <td>0</td>\n",
              "      <td>0</td>\n",
              "    </tr>\n",
              "    <tr>\n",
              "      <th>106</th>\n",
              "      <td>526</td>\n",
              "      <td>645</td>\n",
              "      <td>355</td>\n",
              "      <td>645</td>\n",
              "      <td>355</td>\n",
              "      <td>0</td>\n",
              "      <td>0</td>\n",
              "    </tr>\n",
              "  </tbody>\n",
              "</table>\n",
              "<p>107 rows × 7 columns</p>\n",
              "</div>"
            ],
            "text/plain": [
              "     epochs  argmax > 0.5  ...  focus_true_pred_false  focus_false_pred_false\n",
              "0         0             0  ...                     36                     251\n",
              "1         1             0  ...                      1                     265\n",
              "2         6             0  ...                      0                      54\n",
              "3        11           315  ...                      0                       6\n",
              "4        16           315  ...                      0                      12\n",
              "..      ...           ...  ...                    ...                     ...\n",
              "102     506           645  ...                      0                       0\n",
              "103     511           645  ...                      0                       0\n",
              "104     516           645  ...                      0                       0\n",
              "105     521           645  ...                      0                       0\n",
              "106     526           645  ...                      0                       0\n",
              "\n",
              "[107 rows x 7 columns]"
            ]
          },
          "metadata": {
            "tags": []
          },
          "execution_count": 50
        }
      ]
    },
    {
      "cell_type": "code",
      "metadata": {
        "colab": {
          "base_uri": "https://localhost:8080/",
          "height": 573
        },
        "id": "qR5SnitGeNMN",
        "outputId": "d404aa15-aab9-4211-d209-a7a95e98565c"
      },
      "source": [
        "# plt.figure(12,12)\n",
        "plt.plot(col1,col8, label='argmax > 0.5')\n",
        "plt.plot(col1,col9, label='argmax < 0.5')\n",
        "\n",
        "plt.legend(loc='center left', bbox_to_anchor=(1, 0.5))\n",
        "plt.xlabel(\"epochs\")\n",
        "plt.ylabel(\"Testing data\")\n",
        "plt.title(\"On Testing set\")\n",
        "plt.show()\n",
        "\n",
        "plt.plot(col1,col10, label =\"focus_true_pred_true \")\n",
        "plt.plot(col1,col11, label =\"focus_false_pred_true \")\n",
        "plt.plot(col1,col12, label =\"focus_true_pred_false \")\n",
        "plt.plot(col1,col13, label =\"focus_false_pred_false \")\n",
        "plt.title(\"On Testing set\")\n",
        "plt.legend(loc='center left', bbox_to_anchor=(1, 0.5))\n",
        "plt.xlabel(\"epochs\")\n",
        "plt.ylabel(\"Testing data\")\n",
        "plt.show()"
      ],
      "execution_count": 51,
      "outputs": [
        {
          "output_type": "display_data",
          "data": {
            "image/png": "[encoded data removed]",
            "text/plain": [
              "<Figure size 432x288 with 1 Axes>"
            ]
          },
          "metadata": {
            "tags": [],
            "needs_background": "light"
          }
        },
        {
          "output_type": "display_data",
          "data": {
            "image/png": "[encoded data removed]",
            "text/plain": [
              "<Figure size 432x288 with 1 Axes>"
            ]
          },
          "metadata": {
            "tags": [],
            "needs_background": "light"
          }
        }
      ]
    },
    {
      "cell_type": "code",
      "metadata": {
        "colab": {
          "base_uri": "https://localhost:8080/",
          "height": 354
        },
        "id": "vwP4uAKyoaq7",
        "outputId": "844ec731-63cf-464d-fd25-28f8974dad66"
      },
      "source": [
        "plt.figure(figsize=(6,5))\n",
        "plt.plot(col1,np.array(col10)/10, label =\"FTPT\")\n",
        "plt.plot(col1,np.array(col11)/10, label =\"FFPT\")\n",
        "plt.plot(col1,np.array(col12)/10, label =\"FTPF\")\n",
        "plt.plot(col1,np.array(col13)/10, label =\"FFPF\")\n",
        "plt.title(\"Dataset2 - SDC On Test set\")\n",
        "plt.grid()\n",
        "# plt.legend(loc='center left', bbox_to_anchor=(1, 0.5))\n",
        "plt.legend(loc='upper right')\n",
        "plt.xlabel(\"epochs\", fontsize=14, fontweight = 'bold')\n",
        "plt.ylabel(\"percentage test data\", fontsize=14, fontweight = 'bold')\n",
        "plt.savefig(path+\"ds2_test.png\", bbox_inches=\"tight\")\n",
        "plt.savefig(path+\"ds2_test.pdf\", bbox_inches=\"tight\")\n",
        "plt.savefig(\"ds2_test.png\", bbox_inches=\"tight\")\n",
        "plt.savefig(\"ds2_test.pdf\", bbox_inches=\"tight\")\n",
        "plt.show()"
      ],
      "execution_count": 62,
      "outputs": [
        {
          "output_type": "display_data",
          "data": {
            "image/png": "[encoded data removed]",
            "text/plain": [
              "<Figure size 432x360 with 1 Axes>"
            ]
          },
          "metadata": {
            "tags": [],
            "needs_background": "light"
          }
        }
      ]
    },
    {
      "cell_type": "code",
      "metadata": {
        "colab": {
          "base_uri": "https://localhost:8080/"
        },
        "id": "TGrzYDWxeO6m",
        "outputId": "cdd84444-97f1-404f-b871-02f82c2f6821"
      },
      "source": [
        "correct = 0\n",
        "total = 0\n",
        "count = 0\n",
        "flag = 1\n",
        "focus_true_pred_true =0\n",
        "focus_false_pred_true =0\n",
        "focus_true_pred_false =0\n",
        "focus_false_pred_false =0\n",
        "\n",
        "argmax_more_than_half = 0\n",
        "argmax_less_than_half =0\n",
        "\n",
        "with torch.no_grad():\n",
        "  for data in train_loader:\n",
        "    inputs, labels , fore_idx = data\n",
        "    inputs = inputs.double()\n",
        "    inputs, labels , fore_idx = inputs.to(\"cuda\"),labels.to(\"cuda\"), fore_idx.to(\"cuda\")\n",
        "    alphas, avg_images = focus_net(inputs)\n",
        "    outputs = classify(avg_images)\n",
        "\n",
        "    _, predicted = torch.max(outputs.data, 1)\n",
        "\n",
        "    for j in range(labels.size(0)):\n",
        "      focus = torch.argmax(alphas[j])\n",
        "      if alphas[j][focus] >= 0.5 :\n",
        "        argmax_more_than_half += 1\n",
        "      else:\n",
        "        argmax_less_than_half += 1\n",
        "\n",
        "      if(focus == fore_idx[j] and predicted[j] == labels[j]):\n",
        "          focus_true_pred_true += 1\n",
        "      elif(focus != fore_idx[j] and predicted[j] == labels[j]):\n",
        "        focus_false_pred_true += 1\n",
        "      elif(focus == fore_idx[j] and predicted[j] != labels[j]):\n",
        "        focus_true_pred_false += 1\n",
        "      elif(focus != fore_idx[j] and predicted[j] != labels[j]):\n",
        "        focus_false_pred_false += 1\n",
        "\n",
        "    total += labels.size(0)\n",
        "    correct += (predicted == labels).sum().item()\n",
        "\n",
        "print('Accuracy of the network on the 1000 train images: %d %%' % (\n",
        "    100 * correct / total))\n",
        "print(\"total correct\", correct)\n",
        "print(\"total train set images\", total)\n",
        "\n",
        "print(\"focus_true_pred_true %d =============> FTPT : %d %%\" % (focus_true_pred_true , (100 * focus_true_pred_true / total) ) )\n",
        "print(\"focus_false_pred_true %d =============> FFPT : %d %%\" % (focus_false_pred_true, (100 * focus_false_pred_true / total) ) )\n",
        "print(\"focus_true_pred_false %d =============> FTPF : %d %%\" %( focus_true_pred_false , ( 100 * focus_true_pred_false / total) ) )\n",
        "print(\"focus_false_pred_false %d =============> FFPF : %d %%\" % (focus_false_pred_false, ( 100 * focus_false_pred_false / total) ) )\n",
        "\n",
        "print(\"argmax_more_than_half ==================> \",argmax_more_than_half)\n",
        "print(\"argmax_less_than_half ==================> \",argmax_less_than_half)"
      ],
      "execution_count": 53,
      "outputs": [
        {
          "output_type": "stream",
          "text": [
            "Accuracy of the network on the 1000 train images: 100 %\n",
            "total correct 1000\n",
            "total train set images 1000\n",
            "focus_true_pred_true 686 =============> FTPT : 68 %\n",
            "focus_false_pred_true 314 =============> FFPT : 31 %\n",
            "focus_true_pred_false 0 =============> FTPF : 0 %\n",
            "focus_false_pred_false 0 =============> FFPF : 0 %\n",
            "argmax_more_than_half ==================>  686\n",
            "argmax_less_than_half ==================>  314\n"
          ],
          "name": "stdout"
        }
      ]
    },
    {
      "cell_type": "code",
      "metadata": {
        "colab": {
          "base_uri": "https://localhost:8080/"
        },
        "id": "67_H9pkCeQNs",
        "outputId": "678ae43c-c2b8-4fa3-8f18-c28febcaf63d"
      },
      "source": [
        "correct = 0\n",
        "total = 0\n",
        "count = 0\n",
        "flag = 1\n",
        "focus_true_pred_true =0\n",
        "focus_false_pred_true =0\n",
        "focus_true_pred_false =0\n",
        "focus_false_pred_false =0\n",
        "\n",
        "argmax_more_than_half = 0\n",
        "argmax_less_than_half =0\n",
        "\n",
        "with torch.no_grad():\n",
        "  for data in test_loader:\n",
        "    inputs, labels , fore_idx = data\n",
        "    inputs = inputs.double()\n",
        "    inputs, labels , fore_idx = inputs.to(\"cuda\"),labels.to(\"cuda\"), fore_idx.to(\"cuda\")\n",
        "    alphas, avg_images = focus_net(inputs)\n",
        "    outputs = classify(avg_images)\n",
        "\n",
        "    _, predicted = torch.max(outputs.data, 1)\n",
        "\n",
        "    for j in range(labels.size(0)):\n",
        "      focus = torch.argmax(alphas[j])\n",
        "      if alphas[j][focus] >= 0.5 :\n",
        "        argmax_more_than_half += 1\n",
        "      else:\n",
        "        argmax_less_than_half += 1\n",
        "\n",
        "      if(focus == fore_idx[j] and predicted[j] == labels[j]):\n",
        "          focus_true_pred_true += 1\n",
        "      elif(focus != fore_idx[j] and predicted[j] == labels[j]):\n",
        "        focus_false_pred_true += 1\n",
        "      elif(focus == fore_idx[j] and predicted[j] != labels[j]):\n",
        "        focus_true_pred_false += 1\n",
        "      elif(focus != fore_idx[j] and predicted[j] != labels[j]):\n",
        "        focus_false_pred_false += 1\n",
        "\n",
        "    total += labels.size(0)\n",
        "    correct += (predicted == labels).sum().item()\n",
        "\n",
        "print('Accuracy of the network on the 1000 test images: %d %%' % (\n",
        "    100 * correct / total))\n",
        "print(\"total correct\", correct)\n",
        "print(\"total train set images\", total)\n",
        "\n",
        "print(\"focus_true_pred_true %d =============> FTPT : %d %%\" % (focus_true_pred_true , (100 * focus_true_pred_true / total) ) )\n",
        "print(\"focus_false_pred_true %d =============> FFPT : %d %%\" % (focus_false_pred_true, (100 * focus_false_pred_true / total) ) )\n",
        "print(\"focus_true_pred_false %d =============> FTPF : %d %%\" %( focus_true_pred_false , ( 100 * focus_true_pred_false / total) ) )\n",
        "print(\"focus_false_pred_false %d =============> FFPF : %d %%\" % (focus_false_pred_false, ( 100 * focus_false_pred_false / total) ) )\n",
        "\n",
        "print(\"argmax_more_than_half ==================> \",argmax_more_than_half)\n",
        "print(\"argmax_less_than_half ==================> \",argmax_less_than_half)"
      ],
      "execution_count": 54,
      "outputs": [
        {
          "output_type": "stream",
          "text": [
            "Accuracy of the network on the 1000 test images: 100 %\n",
            "total correct 1000\n",
            "total train set images 1000\n",
            "focus_true_pred_true 645 =============> FTPT : 64 %\n",
            "focus_false_pred_true 355 =============> FFPT : 35 %\n",
            "focus_true_pred_false 0 =============> FTPF : 0 %\n",
            "focus_false_pred_false 0 =============> FFPF : 0 %\n",
            "argmax_more_than_half ==================>  645\n",
            "argmax_less_than_half ==================>  355\n"
          ],
          "name": "stdout"
        }
      ]
    },
    {
      "cell_type": "code",
      "metadata": {
        "colab": {
          "base_uri": "https://localhost:8080/"
        },
        "id": "jhvhkEAyeRpt",
        "outputId": "459441c5-3bd8-4a3e-965f-4be7c30c9965"
      },
      "source": [
        "correct = 0\n",
        "total = 0\n",
        "\n",
        "with torch.no_grad():\n",
        "  for data in train_loader:\n",
        "    inputs, labels , fore_idx = data\n",
        "    inputs = inputs.double()\n",
        "    inputs, labels = inputs.to(\"cuda\"), labels.to(\"cuda\")\n",
        "    alphas, avg_images = focus_net(inputs)\n",
        "    outputs = classify(avg_images)\n",
        "\n",
        "    _, predicted = torch.max(outputs.data, 1)\n",
        "\n",
        "    total += labels.size(0)\n",
        "    correct += (predicted == labels).sum().item()\n",
        "\n",
        "print('Accuracy of the network on the 1000 train images: %d %%' % ( 100 * correct / total))\n",
        "print(\"total correct\", correct)\n",
        "print(\"total train set images\", total)"
      ],
      "execution_count": 55,
      "outputs": [
        {
          "output_type": "stream",
          "text": [
            "Accuracy of the network on the 1000 train images: 100 %\n",
            "total correct 1000\n",
            "total train set images 1000\n"
          ],
          "name": "stdout"
        }
      ]
    },
    {
      "cell_type": "code",
      "metadata": {
        "colab": {
          "base_uri": "https://localhost:8080/"
        },
        "id": "OKcmpKwGeS8M",
        "outputId": "38796728-56b9-4cab-c663-398bb6208972"
      },
      "source": [
        "correct = 0\n",
        "total = 0\n",
        "\n",
        "with torch.no_grad():\n",
        "  for data in test_loader:\n",
        "    inputs, labels , fore_idx = data\n",
        "    inputs = inputs.double()\n",
        "    inputs, labels = inputs.to(\"cuda\"), labels.to(\"cuda\")\n",
        "    alphas, avg_images = focus_net(inputs)\n",
        "    outputs = classify(avg_images)\n",
        "\n",
        "    _, predicted = torch.max(outputs.data, 1)\n",
        "\n",
        "    total += labels.size(0)\n",
        "    correct += (predicted == labels).sum().item()\n",
        "\n",
        "print('Accuracy of the network on the 1000 test images: %d %%' % ( 100 * correct / total))\n",
        "print(\"total correct\", correct)\n",
        "print(\"total train set images\", total)"
      ],
      "execution_count": 56,
      "outputs": [
        {
          "output_type": "stream",
          "text": [
            "Accuracy of the network on the 1000 test images: 100 %\n",
            "total correct 1000\n",
            "total train set images 1000\n"
          ],
          "name": "stdout"
        }
      ]
    },
    {
      "cell_type": "code",
      "metadata": {
        "id": "xlalQug_egcl"
      },
      "source": [
        ""
      ],
      "execution_count": 56,
      "outputs": []
    }
  ]
}