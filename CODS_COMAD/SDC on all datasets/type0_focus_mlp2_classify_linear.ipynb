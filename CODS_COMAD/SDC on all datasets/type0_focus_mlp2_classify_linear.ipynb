{
  "nbformat": 4,
  "nbformat_minor": 0,
  "metadata": {
    "accelerator": "GPU",
    "colab": {
      "name": "type0_focus_mlp2_classify_linear.ipynb",
      "provenance": [],
      "collapsed_sections": []
    },
    "kernelspec": {
      "display_name": "Python 3",
      "language": "python",
      "name": "python3"
    },
    "language_info": {
      "codemirror_mode": {
        "name": "ipython",
        "version": 3
      },
      "file_extension": ".py",
      "mimetype": "text/x-python",
      "name": "python",
      "nbconvert_exporter": "python",
      "pygments_lexer": "ipython3",
      "version": "3.6.5"
    }
  },
  "cells": [
    {
      "cell_type": "code",
      "metadata": {
        "colab": {
          "base_uri": "https://localhost:8080/"
        },
        "id": "0vlCAi2JLSzD",
        "outputId": "6eb16257-5181-4773-c59c-e02af35241ac"
      },
      "source": [
        "from google.colab import drive\n",
        "drive.mount('/content/drive')"
      ],
      "execution_count": 1,
      "outputs": [
        {
          "output_type": "stream",
          "text": [
            "Mounted at /content/drive\n"
          ],
          "name": "stdout"
        }
      ]
    },
    {
      "cell_type": "code",
      "metadata": {
        "id": "PiPNZm1iTgHy"
      },
      "source": [
        "path=\"/content/drive/MyDrive/Research/cods_comad_plots/SDC/dataset_1/\""
      ],
      "execution_count": 2,
      "outputs": []
    },
    {
      "cell_type": "code",
      "metadata": {
        "colab": {
          "base_uri": "https://localhost:8080/"
        },
        "id": "N2_J4Rw2r0SQ",
        "outputId": "5c3821ed-b7ff-4b26-c34d-c1d2f9619711"
      },
      "source": [
        "import numpy as np\n",
        "import pandas as pd\n",
        "from matplotlib import pyplot as plt\n",
        "from tqdm import tqdm\n",
        "%matplotlib inline\n",
        "from torch.utils.data import Dataset, DataLoader\n",
        "import torch\n",
        "import torchvision\n",
        "\n",
        "import torch.nn as nn\n",
        "import torch.optim as optim\n",
        "from torch.nn import functional as F\n",
        "device = torch.device(\"cuda\" if torch.cuda.is_available() else \"cpu\")\n",
        "print(device)"
      ],
      "execution_count": 3,
      "outputs": [
        {
          "output_type": "stream",
          "text": [
            "cuda\n"
          ],
          "name": "stdout"
        }
      ]
    },
    {
      "cell_type": "markdown",
      "metadata": {
        "id": "F6fjud_Fr0Sa"
      },
      "source": [
        "# Generate dataset"
      ]
    },
    {
      "cell_type": "code",
      "metadata": {
        "colab": {
          "base_uri": "https://localhost:8080/"
        },
        "id": "CqdXHO0Cr0Sd",
        "outputId": "f27b8e12-b964-41d3-fd44-1eb4639e0419"
      },
      "source": [
        "y = np.random.randint(0,3,500)\n",
        "idx= []\n",
        "for i in range(3):\n",
        "    print(i,sum(y==i))\n",
        "    idx.append(y==i)"
      ],
      "execution_count": 4,
      "outputs": [
        {
          "output_type": "stream",
          "text": [
            "0 183\n",
            "1 153\n",
            "2 164\n"
          ],
          "name": "stdout"
        }
      ]
    },
    {
      "cell_type": "code",
      "metadata": {
        "id": "ddhXyODwr0Sk"
      },
      "source": [
        "x = np.zeros((500,))"
      ],
      "execution_count": 5,
      "outputs": []
    },
    {
      "cell_type": "code",
      "metadata": {
        "id": "DyV3N2DIr0Sp"
      },
      "source": [
        "np.random.seed(12)\n",
        "x[idx[0]] = np.random.uniform(low =-1,high =0,size= sum(idx[0]))\n",
        "x[idx[1]] = np.random.uniform(low =0,high =1,size= sum(idx[1]))\n",
        "x[idx[2]] = np.random.uniform(low =2,high =3,size= sum(idx[2]))"
      ],
      "execution_count": 6,
      "outputs": []
    },
    {
      "cell_type": "code",
      "metadata": {
        "colab": {
          "base_uri": "https://localhost:8080/"
        },
        "id": "qh1mDScsU07I",
        "outputId": "611067f0-2146-4d2b-aeea-571695d21637"
      },
      "source": [
        "x[idx[0]][0], x[idx[2]][5] "
      ],
      "execution_count": 7,
      "outputs": [
        {
          "output_type": "execute_result",
          "data": {
            "text/plain": [
              "(-0.8458371576203276, 2.811020665849667)"
            ]
          },
          "metadata": {
            "tags": []
          },
          "execution_count": 7
        }
      ]
    },
    {
      "cell_type": "code",
      "metadata": {
        "colab": {
          "base_uri": "https://localhost:8080/"
        },
        "id": "9Vr5ErQ_wSrV",
        "outputId": "ba335de2-9fc5-49f1-a219-9d6600e522da"
      },
      "source": [
        "print(x.shape,y.shape)"
      ],
      "execution_count": 8,
      "outputs": [
        {
          "output_type": "stream",
          "text": [
            "(500,) (500,)\n"
          ],
          "name": "stdout"
        }
      ]
    },
    {
      "cell_type": "code",
      "metadata": {
        "id": "NG-3RpffwU_i"
      },
      "source": [
        "idx= []\n",
        "for i in range(3):\n",
        "  idx.append(y==i)"
      ],
      "execution_count": 9,
      "outputs": []
    },
    {
      "cell_type": "code",
      "metadata": {
        "colab": {
          "base_uri": "https://localhost:8080/",
          "height": 284
        },
        "id": "hJ8Jm7YUr0St",
        "outputId": "a70abfcf-140b-4fa1-f445-79ea87c306c2"
      },
      "source": [
        "for i in range(3):\n",
        "    y= np.zeros(x[idx[i]].shape[0])\n",
        "    plt.scatter(x[idx[i]],y,label=\"class_\"+str(i))\n",
        "plt.legend()"
      ],
      "execution_count": 10,
      "outputs": [
        {
          "output_type": "execute_result",
          "data": {
            "text/plain": [
              "<matplotlib.legend.Legend at 0x7feeda4bdc50>"
            ]
          },
          "metadata": {
            "tags": []
          },
          "execution_count": 10
        },
        {
          "output_type": "display_data",
          "data": {
            "image/png": "[encoded data removed]",
            "text/plain": [
              "<Figure size 432x288 with 1 Axes>"
            ]
          },
          "metadata": {
            "tags": [],
            "needs_background": "light"
          }
        }
      ]
    },
    {
      "cell_type": "code",
      "metadata": {
        "colab": {
          "base_uri": "https://localhost:8080/"
        },
        "id": "3lMBZEHNBlF2",
        "outputId": "3687d6cf-d5cf-4238-ed1a-2b681c2119dc"
      },
      "source": [
        "bg_idx = [ np.where(idx[2] == True)[0]]\n",
        "\n",
        "bg_idx = np.concatenate(bg_idx, axis = 0)\n",
        "bg_idx.shape"
      ],
      "execution_count": 11,
      "outputs": [
        {
          "output_type": "execute_result",
          "data": {
            "text/plain": [
              "(164,)"
            ]
          },
          "metadata": {
            "tags": []
          },
          "execution_count": 11
        }
      ]
    },
    {
      "cell_type": "code",
      "metadata": {
        "colab": {
          "base_uri": "https://localhost:8080/"
        },
        "id": "blRbGZHeCwXU",
        "outputId": "288eab7d-3083-465e-8503-c11ca2b1ea09"
      },
      "source": [
        "np.unique(bg_idx).shape"
      ],
      "execution_count": 12,
      "outputs": [
        {
          "output_type": "execute_result",
          "data": {
            "text/plain": [
              "(164,)"
            ]
          },
          "metadata": {
            "tags": []
          },
          "execution_count": 12
        }
      ]
    },
    {
      "cell_type": "code",
      "metadata": {
        "id": "Y43sWeX7C15F"
      },
      "source": [
        "x = x - np.mean(x[bg_idx], axis = 0, keepdims = True)\n"
      ],
      "execution_count": 13,
      "outputs": []
    },
    {
      "cell_type": "code",
      "metadata": {
        "colab": {
          "base_uri": "https://localhost:8080/"
        },
        "id": "ooII7N6UDWe0",
        "outputId": "5a6d1e95-cacd-4368-c0bb-65899b0080f6"
      },
      "source": [
        "np.mean(x[bg_idx], axis = 0, keepdims = True), np.mean(x, axis = 0, keepdims = True)"
      ],
      "execution_count": 14,
      "outputs": [
        {
          "output_type": "execute_result",
          "data": {
            "text/plain": [
              "(array([3.22235463e-16]), array([-1.72912611]))"
            ]
          },
          "metadata": {
            "tags": []
          },
          "execution_count": 14
        }
      ]
    },
    {
      "cell_type": "code",
      "metadata": {
        "id": "g21bvPRYDL9k"
      },
      "source": [
        "x = x/np.std(x[bg_idx], axis = 0, keepdims = True)"
      ],
      "execution_count": 15,
      "outputs": []
    },
    {
      "cell_type": "code",
      "metadata": {
        "colab": {
          "base_uri": "https://localhost:8080/"
        },
        "id": "GtFvIeHsDZJk",
        "outputId": "d27d5839-8471-45fe-e180-385bf47cb821"
      },
      "source": [
        "np.std(x[bg_idx], axis = 0, keepdims = True), np.std(x, axis = 0, keepdims = True)"
      ],
      "execution_count": 16,
      "outputs": [
        {
          "output_type": "execute_result",
          "data": {
            "text/plain": [
              "(array([1.]), array([4.41879479]))"
            ]
          },
          "metadata": {
            "tags": []
          },
          "execution_count": 16
        }
      ]
    },
    {
      "cell_type": "code",
      "metadata": {
        "colab": {
          "base_uri": "https://localhost:8080/",
          "height": 284
        },
        "id": "8-VLhUfDDeHt",
        "outputId": "518cf502-6608-4b36-a79c-e48f6dd528cf"
      },
      "source": [
        "for i in range(3):\n",
        "    y= np.zeros(x[idx[i]].shape[0])\n",
        "    plt.scatter(x[idx[i]],y,label=\"class_\"+str(i))\n",
        "plt.legend()"
      ],
      "execution_count": 17,
      "outputs": [
        {
          "output_type": "execute_result",
          "data": {
            "text/plain": [
              "<matplotlib.legend.Legend at 0x7feeda428d90>"
            ]
          },
          "metadata": {
            "tags": []
          },
          "execution_count": 17
        },
        {
          "output_type": "display_data",
          "data": {
            "image/png": "[encoded data removed]",
            "text/plain": [
              "<Figure size 432x288 with 1 Axes>"
            ]
          },
          "metadata": {
            "tags": [],
            "needs_background": "light"
          }
        }
      ]
    },
    {
      "cell_type": "code",
      "metadata": {
        "id": "UfFHcZJOr0Sz"
      },
      "source": [
        "foreground_classes = {'class_0','class_1' }\n",
        "\n",
        "background_classes = {'class_2'}"
      ],
      "execution_count": 18,
      "outputs": []
    },
    {
      "cell_type": "code",
      "metadata": {
        "colab": {
          "base_uri": "https://localhost:8080/"
        },
        "id": "OplNpNQVr0S2",
        "outputId": "6d81aa52-8326-4b35-ed8a-0a605a3ce4bb"
      },
      "source": [
        "fg_class  = np.random.randint(0,2)\n",
        "fg_idx = np.random.randint(0,9)\n",
        "\n",
        "a = []\n",
        "for i in range(9):\n",
        "    if i == fg_idx:\n",
        "        b = np.random.choice(np.where(idx[fg_class]==True)[0],size=1)\n",
        "        a.append(x[b])\n",
        "        print(\"foreground \"+str(fg_class)+\" present at \" + str(fg_idx))\n",
        "    else:\n",
        "        bg_class = np.random.randint(2,3)\n",
        "        b = np.random.choice(np.where(idx[bg_class]==True)[0],size=1)\n",
        "        a.append(x[b])\n",
        "        print(\"background \"+str(bg_class)+\" present at \" + str(i))\n",
        "a = np.concatenate(a,axis=0)\n",
        "print(a.shape)\n",
        "\n",
        "print(fg_class , fg_idx)"
      ],
      "execution_count": 19,
      "outputs": [
        {
          "output_type": "stream",
          "text": [
            "background 2 present at 0\n",
            "background 2 present at 1\n",
            "background 2 present at 2\n",
            "background 2 present at 3\n",
            "background 2 present at 4\n",
            "background 2 present at 5\n",
            "background 2 present at 6\n",
            "background 2 present at 7\n",
            "foreground 1 present at 8\n",
            "(9,)\n",
            "1 8\n"
          ],
          "name": "stdout"
        }
      ]
    },
    {
      "cell_type": "code",
      "metadata": {
        "colab": {
          "base_uri": "https://localhost:8080/"
        },
        "id": "dwZVmmRBr0S8",
        "outputId": "f8a745d5-4c8e-4d2c-9897-28310d7e6f78"
      },
      "source": [
        "a.shape"
      ],
      "execution_count": 20,
      "outputs": [
        {
          "output_type": "execute_result",
          "data": {
            "text/plain": [
              "(9,)"
            ]
          },
          "metadata": {
            "tags": []
          },
          "execution_count": 20
        }
      ]
    },
    {
      "cell_type": "code",
      "metadata": {
        "colab": {
          "base_uri": "https://localhost:8080/"
        },
        "id": "OoxzYI-ur0S_",
        "outputId": "ee1db3e1-8253-403e-cbdb-056b56c99f8f"
      },
      "source": [
        "np.reshape(a,(9,1))"
      ],
      "execution_count": 21,
      "outputs": [
        {
          "output_type": "execute_result",
          "data": {
            "text/plain": [
              "array([[ 1.00701028],\n",
              "       [ 0.66939146],\n",
              "       [-0.39361375],\n",
              "       [ 1.39882508],\n",
              "       [ 1.32556583],\n",
              "       [-1.73554086],\n",
              "       [ 1.48129968],\n",
              "       [ 1.32556583],\n",
              "       [-5.84690873]])"
            ]
          },
          "metadata": {
            "tags": []
          },
          "execution_count": 21
        }
      ]
    },
    {
      "cell_type": "code",
      "metadata": {
        "id": "y4ruI0cxr0TE"
      },
      "source": [
        "a=np.reshape(a,(3,3))"
      ],
      "execution_count": 22,
      "outputs": []
    },
    {
      "cell_type": "code",
      "metadata": {
        "colab": {
          "base_uri": "https://localhost:8080/",
          "height": 288
        },
        "id": "RTUTFhJIr0TI",
        "outputId": "14e65fc1-ff56-4c0f-f358-e907c36f2d54"
      },
      "source": [
        "plt.imshow(a)"
      ],
      "execution_count": 23,
      "outputs": [
        {
          "output_type": "execute_result",
          "data": {
            "text/plain": [
              "<matplotlib.image.AxesImage at 0x7feed9f655d0>"
            ]
          },
          "metadata": {
            "tags": []
          },
          "execution_count": 23
        },
        {
          "output_type": "display_data",
          "data": {
            "image/png": "[encoded data removed]",
            "text/plain": [
              "<Figure size 432x288 with 1 Axes>"
            ]
          },
          "metadata": {
            "tags": [],
            "needs_background": "light"
          }
        }
      ]
    },
    {
      "cell_type": "code",
      "metadata": {
        "id": "jqbvfbwVr0TN"
      },
      "source": [
        "desired_num = 2000\n",
        "mosaic_list_of_images =[]\n",
        "mosaic_label = []\n",
        "fore_idx=[]\n",
        "for j in range(desired_num):\n",
        "    np.random.seed(j)\n",
        "    fg_class  = np.random.randint(0,2)\n",
        "    fg_idx = np.random.randint(0,9)\n",
        "    a = []\n",
        "    for i in range(9):\n",
        "        if i == fg_idx:\n",
        "            b = np.random.choice(np.where(idx[fg_class]==True)[0],size=1)\n",
        "            a.append(x[b])\n",
        "#             print(\"foreground \"+str(fg_class)+\" present at \" + str(fg_idx))\n",
        "        else:\n",
        "            bg_class = np.random.randint(2,3)\n",
        "            b = np.random.choice(np.where(idx[bg_class]==True)[0],size=1)\n",
        "            a.append(x[b])\n",
        "#             print(\"background \"+str(bg_class)+\" present at \" + str(i))\n",
        "    a = np.concatenate(a,axis=0)\n",
        "    mosaic_list_of_images.append(np.reshape(a,(9,1)))\n",
        "    mosaic_label.append(fg_class)\n",
        "    fore_idx.append(fg_idx)"
      ],
      "execution_count": 24,
      "outputs": []
    },
    {
      "cell_type": "code",
      "metadata": {
        "id": "BOsFmWfMr0TR"
      },
      "source": [
        "mosaic_list_of_images = np.concatenate(mosaic_list_of_images,axis=1).T\n"
      ],
      "execution_count": 25,
      "outputs": []
    },
    {
      "cell_type": "code",
      "metadata": {
        "colab": {
          "base_uri": "https://localhost:8080/"
        },
        "id": "2aIPMgLXNiXW",
        "outputId": "9688dc7a-824b-4878-f31c-b8376ab3070d"
      },
      "source": [
        "mosaic_list_of_images.shape, mosaic_list_of_images[0]"
      ],
      "execution_count": 26,
      "outputs": [
        {
          "output_type": "execute_result",
          "data": {
            "text/plain": [
              "((2000, 9), array([  0.14373962,  -0.51227606,  -1.73554086,  -0.80829257,\n",
              "          1.5079035 , -10.8098018 ,  -1.0566589 ,   0.76129323,\n",
              "         -1.07921244]))"
            ]
          },
          "metadata": {
            "tags": []
          },
          "execution_count": 26
        }
      ]
    },
    {
      "cell_type": "code",
      "metadata": {
        "colab": {
          "base_uri": "https://localhost:8080/"
        },
        "id": "A3qcsbbzPfRG",
        "outputId": "27e96d4f-8f89-4329-88fe-1e21c695383d"
      },
      "source": [
        "for j in range(9):\n",
        "  print(mosaic_list_of_images[0][j])\n",
        "  "
      ],
      "execution_count": 27,
      "outputs": [
        {
          "output_type": "stream",
          "text": [
            "0.14373962142087574\n",
            "-0.5122760616498472\n",
            "-1.7355408636735452\n",
            "-0.8082925749794377\n",
            "1.507903498326674\n",
            "-10.809801804230135\n",
            "-1.0566588965996457\n",
            "0.7612932340097739\n",
            "-1.0792124372654752\n"
          ],
          "name": "stdout"
        }
      ]
    },
    {
      "cell_type": "code",
      "metadata": {
        "colab": {
          "base_uri": "https://localhost:8080/"
        },
        "id": "7HDWKHbjLE3g",
        "outputId": "ca7a77f3-1619-4881-8499-8b47a005f05b"
      },
      "source": [
        "mosaic_list_of_images_reshaped = np.reshape(mosaic_list_of_images, (2000,9,1))\n",
        "mean_train = np.mean(mosaic_list_of_images_reshaped[0:1000], axis=0, keepdims= True)\n",
        "print(mean_train.shape, mean_train)\n",
        "std_train = np.std(mosaic_list_of_images_reshaped[0:1000], axis=0, keepdims= True)\n",
        "print(std_train.shape, std_train)\n",
        "\n"
      ],
      "execution_count": 28,
      "outputs": [
        {
          "output_type": "stream",
          "text": [
            "(1, 9, 1) [[[-1.11716168]\n",
            "  [-0.94632417]\n",
            "  [-0.95261006]\n",
            "  [-1.01499935]\n",
            "  [-0.87568579]\n",
            "  [-0.8379138 ]\n",
            "  [-0.96847173]\n",
            "  [-0.97664824]\n",
            "  [-0.8812735 ]]]\n",
            "(1, 9, 1) [[[3.05854802]\n",
            "  [2.90129771]\n",
            "  [2.93263626]\n",
            "  [3.02888238]\n",
            "  [2.78945641]\n",
            "  [2.76782301]\n",
            "  [2.96197455]\n",
            "  [2.96160432]\n",
            "  [2.7641203 ]]]\n"
          ],
          "name": "stdout"
        }
      ]
    },
    {
      "cell_type": "code",
      "metadata": {
        "id": "Aasl-OcVLQ7u"
      },
      "source": [
        "mosaic_list_of_images = ( mosaic_list_of_images_reshaped - mean_train ) / std_train"
      ],
      "execution_count": 29,
      "outputs": []
    },
    {
      "cell_type": "code",
      "metadata": {
        "colab": {
          "base_uri": "https://localhost:8080/"
        },
        "id": "9Y-svfwaLpJe",
        "outputId": "2169aca2-c882-4b48-8cc1-b0492c0072d6"
      },
      "source": [
        "print(np.mean(mosaic_list_of_images[0:1000], axis=0, keepdims= True))\n",
        "\n",
        "print(np.std(mosaic_list_of_images[0:1000], axis=0, keepdims= True))"
      ],
      "execution_count": 30,
      "outputs": [
        {
          "output_type": "stream",
          "text": [
            "[[[ 5.86197757e-17]\n",
            "  [-2.84217094e-17]\n",
            "  [-1.42108547e-17]\n",
            "  [ 7.99360578e-18]\n",
            "  [-4.97379915e-17]\n",
            "  [-1.77635684e-17]\n",
            "  [-1.59872116e-17]\n",
            "  [-1.15463195e-17]\n",
            "  [ 3.10862447e-18]]]\n",
            "[[[1.]\n",
            "  [1.]\n",
            "  [1.]\n",
            "  [1.]\n",
            "  [1.]\n",
            "  [1.]\n",
            "  [1.]\n",
            "  [1.]\n",
            "  [1.]]]\n"
          ],
          "name": "stdout"
        }
      ]
    },
    {
      "cell_type": "code",
      "metadata": {
        "colab": {
          "base_uri": "https://localhost:8080/"
        },
        "id": "zVLxFMtqLwgV",
        "outputId": "94e84bec-910d-425a-fea0-0fdc17e063ac"
      },
      "source": [
        "print(np.mean(mosaic_list_of_images[1000:2000], axis=0, keepdims= True))\n",
        "\n",
        "print(np.std(mosaic_list_of_images[1000:2000], axis=0, keepdims= True))"
      ],
      "execution_count": 31,
      "outputs": [
        {
          "output_type": "stream",
          "text": [
            "[[[ 0.01070294]\n",
            "  [-0.04943751]\n",
            "  [-0.01522278]\n",
            "  [-0.02012406]\n",
            "  [ 0.00326878]\n",
            "  [ 0.00095135]\n",
            "  [ 0.0155996 ]\n",
            "  [ 0.00702045]\n",
            "  [ 0.01313321]]]\n",
            "[[[1.0021502 ]\n",
            "  [1.06392367]\n",
            "  [1.05609879]\n",
            "  [1.01259044]\n",
            "  [0.97252722]\n",
            "  [1.01488829]\n",
            "  [0.99880401]\n",
            "  [1.0193559 ]\n",
            "  [0.98613045]]]\n"
          ],
          "name": "stdout"
        }
      ]
    },
    {
      "cell_type": "code",
      "metadata": {
        "id": "oAracFJiL0z9"
      },
      "source": [
        "mosaic_list_of_images = np.reshape(mosaic_list_of_images, (2000,9))"
      ],
      "execution_count": 32,
      "outputs": []
    },
    {
      "cell_type": "code",
      "metadata": {
        "colab": {
          "base_uri": "https://localhost:8080/"
        },
        "id": "T1rNMOt0RqcD",
        "outputId": "0cbe438a-4e2b-4e69-e9fd-4a8b54203420"
      },
      "source": [
        "for j in range(9):\n",
        "  print(mosaic_list_of_images[0][j])\n",
        "  "
      ],
      "execution_count": 33,
      "outputs": [
        {
          "output_type": "stream",
          "text": [
            "0.41225486644498793\n",
            "0.1496048163340327\n",
            "-0.26697167292189955\n",
            "0.06824523147996459\n",
            "0.8544995667739939\n",
            "-3.6027910646906913\n",
            "-0.029773101224053605\n",
            "0.5868243313809893\n",
            "-0.07161010156508607\n"
          ],
          "name": "stdout"
        }
      ]
    },
    {
      "cell_type": "code",
      "metadata": {
        "id": "iPoIwbMHx44n"
      },
      "source": [
        "class MosaicDataset(Dataset):\n",
        "  \"\"\"MosaicDataset dataset.\"\"\"\n",
        "\n",
        "  def __init__(self, mosaic_list_of_images, mosaic_label, fore_idx):\n",
        "    \"\"\"\n",
        "      Args:\n",
        "        csv_file (string): Path to the csv file with annotations.\n",
        "        root_dir (string): Directory with all the images.\n",
        "        transform (callable, optional): Optional transform to be applied\n",
        "            on a sample.\n",
        "    \"\"\"\n",
        "    self.mosaic = mosaic_list_of_images\n",
        "    self.label = mosaic_label\n",
        "    self.fore_idx = fore_idx\n",
        "\n",
        "  def __len__(self):\n",
        "    return len(self.label)\n",
        "\n",
        "  def __getitem__(self, idx):\n",
        "    return self.mosaic[idx] , self.label[idx], self.fore_idx[idx]\n",
        "\n"
      ],
      "execution_count": 34,
      "outputs": []
    },
    {
      "cell_type": "code",
      "metadata": {
        "id": "fOPAJQJeW8Ah"
      },
      "source": [
        "batch = 250\n",
        "msd1 = MosaicDataset(mosaic_list_of_images[0:1000], mosaic_label[0:1000] , fore_idx[0:1000])\n",
        "train_loader = DataLoader( msd1 ,batch_size= batch ,shuffle=True)"
      ],
      "execution_count": 35,
      "outputs": []
    },
    {
      "cell_type": "code",
      "metadata": {
        "id": "qjNiQgxZW8bA"
      },
      "source": [
        "batch = 250\n",
        "msd2 = MosaicDataset(mosaic_list_of_images[1000:2000], mosaic_label[1000:2000] , fore_idx[1000:2000])\n",
        "test_loader = DataLoader( msd2 ,batch_size= batch ,shuffle=True)"
      ],
      "execution_count": 36,
      "outputs": []
    },
    {
      "cell_type": "code",
      "metadata": {
        "id": "30ZAjix3x8CM"
      },
      "source": [
        "class Focus(nn.Module):\n",
        "  def __init__(self):\n",
        "    super(Focus, self).__init__()\n",
        "\n",
        "    self.fc1 = nn.Linear(1, 50, bias=False)\n",
        "    self.fc2 = nn.Linear(50, 10, bias=False)\n",
        "    self.fc3 = nn.Linear(10, 1, bias=False)\n",
        "    torch.nn.init.xavier_normal_(self.fc1.weight)\n",
        "    torch.nn.init.xavier_normal_(self.fc2.weight)\n",
        "    torch.nn.init.xavier_normal_(self.fc3.weight)\n",
        "\n",
        "  def forward(self,z):  #y is avg image #z batch of list of 9 images\n",
        "    y = torch.zeros([batch], dtype=torch.float64)\n",
        "    x = torch.zeros([batch,9],dtype=torch.float64)\n",
        "    y = y.to(\"cuda\")\n",
        "    x = x.to(\"cuda\")\n",
        "    # print(x.shape, z.shape)\n",
        "    for i in range(9):\n",
        "      # print(z[:,i].shape)\n",
        "      # print(self.helper(z[:,i])[:,0].shape)\n",
        "      x[:,i] = self.helper(z[:,i])[:,0]\n",
        "    # print(x.shape, z.shape)\n",
        "    x = F.softmax(x,dim=1)\n",
        "    # print(x.shape, z.shape)\n",
        "    # x1 = x[:,0]\n",
        "    # print(torch.mul(x[:,0],z[:,0]).shape)\n",
        "\n",
        "    for i in range(9):            \n",
        "      # x1 = x[:,i]          \n",
        "      y = y + torch.mul(x[:,i],z[:,i])\n",
        "\n",
        "    # print(x.shape, y.shape)\n",
        "    return x, y\n",
        "    \n",
        "  def helper(self, x):\n",
        "    x = x.view(-1, 1)\n",
        "    x = F.relu(self.fc1(x))\n",
        "    x = F.relu(self.fc2(x))\n",
        "    x = (self.fc3(x))\n",
        "\n",
        "    return x"
      ],
      "execution_count": 37,
      "outputs": []
    },
    {
      "cell_type": "code",
      "metadata": {
        "id": "0dYXnywAD-4l"
      },
      "source": [
        "class Classification(nn.Module):\n",
        "  def __init__(self):\n",
        "    super(Classification, self).__init__()\n",
        "    self.fc1 = nn.Linear(1, 2)\n",
        "    torch.nn.init.xavier_normal_(self.fc1.weight)\n",
        "    torch.nn.init.zeros_(self.fc1.bias)\n",
        "\n",
        "  def forward(self, x):\n",
        "    x = x.view(-1, 1)\n",
        "    x = self.fc1(x)\n",
        "    # print(x.shape)\n",
        "    return x"
      ],
      "execution_count": 38,
      "outputs": []
    },
    {
      "cell_type": "code",
      "metadata": {
        "id": "lSa6O9f6XNf4"
      },
      "source": [
        "torch.manual_seed(12)\n",
        "focus_net = Focus().double()\n",
        "focus_net = focus_net.to(\"cuda\")"
      ],
      "execution_count": 39,
      "outputs": []
    },
    {
      "cell_type": "code",
      "metadata": {
        "id": "36k3H2G-XO9A"
      },
      "source": [
        "torch.manual_seed(12)\n",
        "classify = Classification().double()\n",
        "classify = classify.to(\"cuda\")"
      ],
      "execution_count": 40,
      "outputs": []
    },
    {
      "cell_type": "code",
      "metadata": {
        "colab": {
          "base_uri": "https://localhost:8080/"
        },
        "id": "keukAZmENLGW",
        "outputId": "b711f7f3-861c-43e3-a9a5-bd8062f4516d"
      },
      "source": [
        "focus_net.fc2.weight.shape,focus_net.fc3.weight.shape"
      ],
      "execution_count": 41,
      "outputs": [
        {
          "output_type": "execute_result",
          "data": {
            "text/plain": [
              "(torch.Size([10, 50]), torch.Size([1, 10]))"
            ]
          },
          "metadata": {
            "tags": []
          },
          "execution_count": 41
        }
      ]
    },
    {
      "cell_type": "code",
      "metadata": {
        "colab": {
          "base_uri": "https://localhost:8080/"
        },
        "id": "MTQwdlLmXRGq",
        "outputId": "bb0e030d-8893-401e-be5e-e365c7b53805"
      },
      "source": [
        "focus_net.fc2.weight.data[5:,:] = focus_net.fc2.weight.data[:5,:] #torch.nn.Parameter(torch.tensor([last_layer]) )\n",
        "focus_net.fc2.weight[:5,:], focus_net.fc2.weight[5:,:] "
      ],
      "execution_count": 42,
      "outputs": [
        {
          "output_type": "execute_result",
          "data": {
            "text/plain": [
              "(tensor([[ 0.0999,  0.1440, -0.0703, -0.1602, -0.0669,  0.0706,  0.0154, -0.3637,\n",
              "           0.1746, -0.1467, -0.2112,  0.0463,  0.0277,  0.0492, -0.1628,  0.0318,\n",
              "           0.1213,  0.0735,  0.1143, -0.1329,  0.0804, -0.2678,  0.3942, -0.0388,\n",
              "           0.2018, -0.4290, -0.1526,  0.0684, -0.0515,  0.0363,  0.1573, -0.1395,\n",
              "           0.1976,  0.1758,  0.2243, -0.0093, -0.1955,  0.1020, -0.2511, -0.0473,\n",
              "           0.0821,  0.1799,  0.0948, -0.0494,  0.0733,  0.0269, -0.1326, -0.2202,\n",
              "          -0.1260, -0.1236],\n",
              "         [ 0.2664, -0.0893, -0.0147, -0.1850, -0.0275, -0.0926, -0.1202, -0.1415,\n",
              "          -0.0493,  0.2282,  0.1455,  0.1903,  0.1970, -0.0407,  0.1359,  0.1258,\n",
              "          -0.1475, -0.0571,  0.2014, -0.0887,  0.1391, -0.1072,  0.0156,  0.2544,\n",
              "          -0.0308,  0.1642,  0.0060,  0.3068, -0.0213,  0.1315, -0.1678, -0.0501,\n",
              "           0.2659,  0.1175, -0.0084,  0.0766, -0.0484, -0.2472,  0.1049,  0.0803,\n",
              "           0.2398,  0.0914, -0.3457,  0.0532,  0.3191,  0.0063,  0.0525,  0.1213,\n",
              "          -0.0100, -0.1915],\n",
              "         [-0.0763,  0.0132, -0.1227,  0.2448,  0.0456, -0.0903, -0.0394, -0.0754,\n",
              "           0.1659,  0.0856,  0.1779,  0.3298, -0.0636,  0.1086, -0.2386,  0.0338,\n",
              "           0.0783, -0.1261, -0.0764,  0.3249, -0.1141,  0.0958, -0.1024,  0.1132,\n",
              "          -0.2684,  0.1349, -0.2653, -0.1134, -0.1224,  0.2631, -0.0280, -0.1605,\n",
              "          -0.0990, -0.0077, -0.0525, -0.0534,  0.1307,  0.1300, -0.1787, -0.3077,\n",
              "           0.0815,  0.4189, -0.1598, -0.0236, -0.2345,  0.0381, -0.1103, -0.0479,\n",
              "           0.1634,  0.2552],\n",
              "         [-0.4056,  0.0755, -0.0041,  0.0301, -0.1572, -0.1431, -0.2163,  0.2237,\n",
              "           0.0981, -0.0859,  0.2268,  0.1461,  0.2191, -0.2861, -0.1441, -0.0497,\n",
              "           0.1114,  0.3464,  0.0846, -0.0637,  0.1422, -0.0872, -0.3500, -0.0388,\n",
              "           0.1481,  0.1041, -0.0940, -0.2430, -0.2897, -0.1058,  0.0255,  0.1203,\n",
              "           0.0967, -0.1136, -0.1315, -0.1202, -0.2615,  0.1049,  0.1989, -0.2758,\n",
              "          -0.1123,  0.0931, -0.2243,  0.0071, -0.0605,  0.2807, -0.0566,  0.1111,\n",
              "           0.0685, -0.0065],\n",
              "         [ 0.0263,  0.4376,  0.1282, -0.2588, -0.0265,  0.1831,  0.2966,  0.1349,\n",
              "           0.0643,  0.1575, -0.1441, -0.2185, -0.0199, -0.0781,  0.0792,  0.0629,\n",
              "          -0.0878, -0.2867,  0.0711,  0.1192, -0.0942,  0.0640,  0.1799,  0.0495,\n",
              "          -0.0985, -0.0698, -0.1864, -0.1906,  0.0492,  0.1445,  0.0263, -0.0447,\n",
              "           0.0812, -0.3555, -0.0410,  0.1909, -0.2786, -0.2013,  0.0160,  0.3034,\n",
              "          -0.3228, -0.4020, -0.3063, -0.1860,  0.1035, -0.2375, -0.1292,  0.0595,\n",
              "          -0.1885, -0.0437]], device='cuda:0', dtype=torch.float64,\n",
              "        grad_fn=<SliceBackward>),\n",
              " tensor([[ 0.0999,  0.1440, -0.0703, -0.1602, -0.0669,  0.0706,  0.0154, -0.3637,\n",
              "           0.1746, -0.1467, -0.2112,  0.0463,  0.0277,  0.0492, -0.1628,  0.0318,\n",
              "           0.1213,  0.0735,  0.1143, -0.1329,  0.0804, -0.2678,  0.3942, -0.0388,\n",
              "           0.2018, -0.4290, -0.1526,  0.0684, -0.0515,  0.0363,  0.1573, -0.1395,\n",
              "           0.1976,  0.1758,  0.2243, -0.0093, -0.1955,  0.1020, -0.2511, -0.0473,\n",
              "           0.0821,  0.1799,  0.0948, -0.0494,  0.0733,  0.0269, -0.1326, -0.2202,\n",
              "          -0.1260, -0.1236],\n",
              "         [ 0.2664, -0.0893, -0.0147, -0.1850, -0.0275, -0.0926, -0.1202, -0.1415,\n",
              "          -0.0493,  0.2282,  0.1455,  0.1903,  0.1970, -0.0407,  0.1359,  0.1258,\n",
              "          -0.1475, -0.0571,  0.2014, -0.0887,  0.1391, -0.1072,  0.0156,  0.2544,\n",
              "          -0.0308,  0.1642,  0.0060,  0.3068, -0.0213,  0.1315, -0.1678, -0.0501,\n",
              "           0.2659,  0.1175, -0.0084,  0.0766, -0.0484, -0.2472,  0.1049,  0.0803,\n",
              "           0.2398,  0.0914, -0.3457,  0.0532,  0.3191,  0.0063,  0.0525,  0.1213,\n",
              "          -0.0100, -0.1915],\n",
              "         [-0.0763,  0.0132, -0.1227,  0.2448,  0.0456, -0.0903, -0.0394, -0.0754,\n",
              "           0.1659,  0.0856,  0.1779,  0.3298, -0.0636,  0.1086, -0.2386,  0.0338,\n",
              "           0.0783, -0.1261, -0.0764,  0.3249, -0.1141,  0.0958, -0.1024,  0.1132,\n",
              "          -0.2684,  0.1349, -0.2653, -0.1134, -0.1224,  0.2631, -0.0280, -0.1605,\n",
              "          -0.0990, -0.0077, -0.0525, -0.0534,  0.1307,  0.1300, -0.1787, -0.3077,\n",
              "           0.0815,  0.4189, -0.1598, -0.0236, -0.2345,  0.0381, -0.1103, -0.0479,\n",
              "           0.1634,  0.2552],\n",
              "         [-0.4056,  0.0755, -0.0041,  0.0301, -0.1572, -0.1431, -0.2163,  0.2237,\n",
              "           0.0981, -0.0859,  0.2268,  0.1461,  0.2191, -0.2861, -0.1441, -0.0497,\n",
              "           0.1114,  0.3464,  0.0846, -0.0637,  0.1422, -0.0872, -0.3500, -0.0388,\n",
              "           0.1481,  0.1041, -0.0940, -0.2430, -0.2897, -0.1058,  0.0255,  0.1203,\n",
              "           0.0967, -0.1136, -0.1315, -0.1202, -0.2615,  0.1049,  0.1989, -0.2758,\n",
              "          -0.1123,  0.0931, -0.2243,  0.0071, -0.0605,  0.2807, -0.0566,  0.1111,\n",
              "           0.0685, -0.0065],\n",
              "         [ 0.0263,  0.4376,  0.1282, -0.2588, -0.0265,  0.1831,  0.2966,  0.1349,\n",
              "           0.0643,  0.1575, -0.1441, -0.2185, -0.0199, -0.0781,  0.0792,  0.0629,\n",
              "          -0.0878, -0.2867,  0.0711,  0.1192, -0.0942,  0.0640,  0.1799,  0.0495,\n",
              "          -0.0985, -0.0698, -0.1864, -0.1906,  0.0492,  0.1445,  0.0263, -0.0447,\n",
              "           0.0812, -0.3555, -0.0410,  0.1909, -0.2786, -0.2013,  0.0160,  0.3034,\n",
              "          -0.3228, -0.4020, -0.3063, -0.1860,  0.1035, -0.2375, -0.1292,  0.0595,\n",
              "          -0.1885, -0.0437]], device='cuda:0', dtype=torch.float64,\n",
              "        grad_fn=<SliceBackward>))"
            ]
          },
          "metadata": {
            "tags": []
          },
          "execution_count": 42
        }
      ]
    },
    {
      "cell_type": "code",
      "metadata": {
        "colab": {
          "base_uri": "https://localhost:8080/"
        },
        "id": "zotTL0n7i4Re",
        "outputId": "6febc68a-4d2c-4458-8a87-f16e5cd952a1"
      },
      "source": [
        "focus_net.fc3.weight.data[:,5:] = -focus_net.fc3.weight.data[:,:5] #torch.nn.Parameter(torch.tensor([last_layer]) )\n",
        "focus_net.fc3.weight"
      ],
      "execution_count": 43,
      "outputs": [
        {
          "output_type": "execute_result",
          "data": {
            "text/plain": [
              "Parameter containing:\n",
              "tensor([[ 0.7016,  0.4126, -0.0122,  0.3040,  0.6114, -0.7016, -0.4126,  0.0122,\n",
              "         -0.3040, -0.6114]], device='cuda:0', dtype=torch.float64,\n",
              "       requires_grad=True)"
            ]
          },
          "metadata": {
            "tags": []
          },
          "execution_count": 43
        }
      ]
    },
    {
      "cell_type": "code",
      "metadata": {
        "id": "oV1GoVd7jSw9"
      },
      "source": [
        "focus_net = focus_net.double().to(\"cuda\")"
      ],
      "execution_count": 44,
      "outputs": []
    },
    {
      "cell_type": "code",
      "metadata": {
        "colab": {
          "base_uri": "https://localhost:8080/"
        },
        "id": "cl90A0cWjWEH",
        "outputId": "ee964144-274f-4b41-8c4c-8c52e692e60f"
      },
      "source": [
        "focus_net.helper( torch.randn((1,9,1)).double().to(\"cuda\") )"
      ],
      "execution_count": 47,
      "outputs": [
        {
          "output_type": "execute_result",
          "data": {
            "text/plain": [
              "tensor([[ 6.5052e-19],\n",
              "        [-2.1684e-19],\n",
              "        [ 6.9389e-18],\n",
              "        [-1.4095e-18],\n",
              "        [ 5.4210e-19],\n",
              "        [-3.4694e-18],\n",
              "        [ 5.2042e-18],\n",
              "        [-1.4095e-18],\n",
              "        [-3.4694e-18]], device='cuda:0', dtype=torch.float64,\n",
              "       grad_fn=<MmBackward>)"
            ]
          },
          "metadata": {
            "tags": []
          },
          "execution_count": 47
        }
      ]
    },
    {
      "cell_type": "code",
      "metadata": {
        "colab": {
          "base_uri": "https://localhost:8080/"
        },
        "id": "JcCdNcVJNLgd",
        "outputId": "9cc76b9e-0828-4fc3-a9ed-786e43a140cf"
      },
      "source": [
        "classify.fc1.weight, classify.fc1.bias, classify.fc1.weight.shape"
      ],
      "execution_count": 48,
      "outputs": [
        {
          "output_type": "execute_result",
          "data": {
            "text/plain": [
              "(Parameter containing:\n",
              " tensor([[-0.0446],\n",
              "         [ 0.3687]], device='cuda:0', dtype=torch.float64, requires_grad=True),\n",
              " Parameter containing:\n",
              " tensor([0., 0.], device='cuda:0', dtype=torch.float64, requires_grad=True),\n",
              " torch.Size([2, 1]))"
            ]
          },
          "metadata": {
            "tags": []
          },
          "execution_count": 48
        }
      ]
    },
    {
      "cell_type": "code",
      "metadata": {
        "id": "7MHBbL7FXRQk"
      },
      "source": [
        "import torch.optim as optim\n",
        "criterion = nn.CrossEntropyLoss()\n",
        "optimizer_classify = optim.Adam(classify.parameters(), lr=0.01 ) #, momentum=0.9)\n",
        "optimizer_focus = optim.Adam(focus_net.parameters(), lr=0.01 ) #, momentum=0.9)"
      ],
      "execution_count": 49,
      "outputs": []
    },
    {
      "cell_type": "code",
      "metadata": {
        "id": "pjD2VZuV9Ed4"
      },
      "source": [
        "col1=[]\n",
        "col2=[]\n",
        "col3=[]\n",
        "col4=[]\n",
        "col5=[]\n",
        "col6=[]\n",
        "col7=[]\n",
        "col8=[]\n",
        "col9=[]\n",
        "col10=[]\n",
        "col11=[]\n",
        "col12=[]\n",
        "col13=[]"
      ],
      "execution_count": 50,
      "outputs": []
    },
    {
      "cell_type": "code",
      "metadata": {
        "id": "uALi25pmzQHV",
        "colab": {
          "base_uri": "https://localhost:8080/"
        },
        "outputId": "832508eb-df5c-46d7-8cb7-fecf5147dac9"
      },
      "source": [
        "correct = 0\n",
        "total = 0\n",
        "count = 0\n",
        "flag = 1\n",
        "focus_true_pred_true =0\n",
        "focus_false_pred_true =0\n",
        "focus_true_pred_false =0\n",
        "focus_false_pred_false =0\n",
        "\n",
        "argmax_more_than_half = 0\n",
        "argmax_less_than_half =0\n",
        "\n",
        "with torch.no_grad():\n",
        "  for data in train_loader:\n",
        "    inputs, labels , fore_idx = data\n",
        "    inputs = inputs.double()\n",
        "    inputs, labels , fore_idx = inputs.to(\"cuda\"),labels.to(\"cuda\"), fore_idx.to(\"cuda\")\n",
        "    alphas, avg_images = focus_net(inputs)\n",
        "    outputs = classify(avg_images)\n",
        "    # print(outputs.shape)\n",
        "    _, predicted = torch.max(outputs.data, 1)\n",
        "    # print(predicted.shape)\n",
        "\n",
        "    for j in range(labels.size(0)):\n",
        "      count += 1\n",
        "      focus = torch.argmax(alphas[j])\n",
        "      if alphas[j][focus] >= 0.5 :\n",
        "        argmax_more_than_half += 1\n",
        "      else:\n",
        "        argmax_less_than_half += 1\n",
        "\n",
        "      # print(focus, fore_idx[j], predicted[j])\n",
        "      if(focus == fore_idx[j] and predicted[j] == labels[j]):\n",
        "          focus_true_pred_true += 1\n",
        "      elif(focus != fore_idx[j] and predicted[j] == labels[j]):\n",
        "        focus_false_pred_true += 1\n",
        "      elif(focus == fore_idx[j] and predicted[j] != labels[j]):\n",
        "        focus_true_pred_false += 1\n",
        "      elif(focus != fore_idx[j] and predicted[j] != labels[j]):\n",
        "        focus_false_pred_false += 1\n",
        "\n",
        "    total += labels.size(0)\n",
        "    correct += (predicted == labels).sum().item()\n",
        "\n",
        "print('Accuracy of the network on the 1000 train images: %d %%' % ( 100 * correct / total))\n",
        "print(\"total correct\", correct)\n",
        "print(\"total train set images\", total)\n",
        "\n",
        "print(\"focus_true_pred_true %d =============> FTPT : %d %%\" % (focus_true_pred_true , (100 * focus_true_pred_true / total) ) )\n",
        "print(\"focus_false_pred_true %d =============> FFPT : %d %%\" % (focus_false_pred_true, (100 * focus_false_pred_true / total) ) )\n",
        "print(\"focus_true_pred_false %d =============> FTPF : %d %%\" %( focus_true_pred_false , ( 100 * focus_true_pred_false / total) ) )\n",
        "print(\"focus_false_pred_false %d =============> FFPF : %d %%\" % (focus_false_pred_false, ( 100 * focus_false_pred_false / total) ) )\n",
        "\n",
        "print(\"argmax_more_than_half ==================> \",argmax_more_than_half)\n",
        "print(\"argmax_less_than_half ==================> \",argmax_less_than_half)\n",
        "print(count)\n",
        "\n",
        "print(\"=\"*100)\n",
        "\n",
        "col1.append(0)\n",
        "col2.append(argmax_more_than_half)\n",
        "col3.append(argmax_less_than_half)\n",
        "col4.append(focus_true_pred_true)\n",
        "col5.append(focus_false_pred_true)\n",
        "col6.append(focus_true_pred_false)\n",
        "col7.append(focus_false_pred_false)"
      ],
      "execution_count": 51,
      "outputs": [
        {
          "output_type": "stream",
          "text": [
            "Accuracy of the network on the 1000 train images: 70 %\n",
            "total correct 701\n",
            "total train set images 1000\n",
            "focus_true_pred_true 80 =============> FTPT : 8 %\n",
            "focus_false_pred_true 621 =============> FFPT : 62 %\n",
            "focus_true_pred_false 39 =============> FTPF : 3 %\n",
            "focus_false_pred_false 260 =============> FFPF : 26 %\n",
            "argmax_more_than_half ==================>  0\n",
            "argmax_less_than_half ==================>  1000\n",
            "1000\n",
            "====================================================================================================\n"
          ],
          "name": "stdout"
        }
      ]
    },
    {
      "cell_type": "code",
      "metadata": {
        "id": "4vmNprlPzTjP",
        "colab": {
          "base_uri": "https://localhost:8080/"
        },
        "outputId": "a0090efa-0c20-4039-ef17-dea955d89d9e"
      },
      "source": [
        "correct = 0\n",
        "total = 0\n",
        "count = 0\n",
        "flag = 1\n",
        "focus_true_pred_true =0\n",
        "focus_false_pred_true =0\n",
        "focus_true_pred_false =0\n",
        "focus_false_pred_false =0\n",
        "\n",
        "argmax_more_than_half = 0\n",
        "argmax_less_than_half =0\n",
        "\n",
        "with torch.no_grad():\n",
        "  for data in test_loader:\n",
        "    inputs, labels , fore_idx = data\n",
        "    inputs = inputs.double()\n",
        "    inputs, labels , fore_idx = inputs.to(\"cuda\"),labels.to(\"cuda\"), fore_idx.to(\"cuda\")\n",
        "    alphas, avg_images = focus_net(inputs)\n",
        "    outputs = classify(avg_images)\n",
        "\n",
        "    _, predicted = torch.max(outputs.data, 1)\n",
        "\n",
        "    for j in range(labels.size(0)):\n",
        "      focus = torch.argmax(alphas[j])\n",
        "      if alphas[j][focus] >= 0.5 :\n",
        "        argmax_more_than_half += 1\n",
        "      else:\n",
        "        argmax_less_than_half += 1\n",
        "\n",
        "      if(focus == fore_idx[j] and predicted[j] == labels[j]):\n",
        "          focus_true_pred_true += 1\n",
        "      elif(focus != fore_idx[j] and predicted[j] == labels[j]):\n",
        "        focus_false_pred_true += 1\n",
        "      elif(focus == fore_idx[j] and predicted[j] != labels[j]):\n",
        "        focus_true_pred_false += 1\n",
        "      elif(focus != fore_idx[j] and predicted[j] != labels[j]):\n",
        "        focus_false_pred_false += 1\n",
        "\n",
        "    total += labels.size(0)\n",
        "    correct += (predicted == labels).sum().item()\n",
        "\n",
        "print('Accuracy of the network on the 1000 test images: %d %%' % (\n",
        "    100 * correct / total))\n",
        "print(\"total correct\", correct)\n",
        "print(\"total train set images\", total)\n",
        "\n",
        "print(\"focus_true_pred_true %d =============> FTPT : %d %%\" % (focus_true_pred_true , (100 * focus_true_pred_true / total) ) )\n",
        "print(\"focus_false_pred_true %d =============> FFPT : %d %%\" % (focus_false_pred_true, (100 * focus_false_pred_true / total) ) )\n",
        "print(\"focus_true_pred_false %d =============> FTPF : %d %%\" %( focus_true_pred_false , ( 100 * focus_true_pred_false / total) ) )\n",
        "print(\"focus_false_pred_false %d =============> FFPF : %d %%\" % (focus_false_pred_false, ( 100 * focus_false_pred_false / total) ) )\n",
        "\n",
        "print(\"argmax_more_than_half ==================> \",argmax_more_than_half)\n",
        "print(\"argmax_less_than_half ==================> \",argmax_less_than_half)\n",
        "col8.append(argmax_more_than_half)\n",
        "col9.append(argmax_less_than_half)\n",
        "col10.append(focus_true_pred_true)\n",
        "col11.append(focus_false_pred_true)\n",
        "col12.append(focus_true_pred_false)\n",
        "col13.append(focus_false_pred_false)"
      ],
      "execution_count": 52,
      "outputs": [
        {
          "output_type": "stream",
          "text": [
            "Accuracy of the network on the 1000 test images: 70 %\n",
            "total correct 700\n",
            "total train set images 1000\n",
            "focus_true_pred_true 84 =============> FTPT : 8 %\n",
            "focus_false_pred_true 616 =============> FFPT : 61 %\n",
            "focus_true_pred_false 38 =============> FTPF : 3 %\n",
            "focus_false_pred_false 262 =============> FFPF : 26 %\n",
            "argmax_more_than_half ==================>  0\n",
            "argmax_less_than_half ==================>  1000\n"
          ],
          "name": "stdout"
        }
      ]
    },
    {
      "cell_type": "code",
      "metadata": {
        "id": "Yl41sE8vFERk",
        "colab": {
          "base_uri": "https://localhost:8080/"
        },
        "outputId": "228218cc-3407-4f43-9f0c-3185e903b10c"
      },
      "source": [
        "nos_epochs = 1000\n",
        "focus_true_pred_true =0\n",
        "focus_false_pred_true =0\n",
        "focus_true_pred_false =0\n",
        "focus_false_pred_false =0\n",
        "\n",
        "argmax_more_than_half = 0\n",
        "argmax_less_than_half =0\n",
        "\n",
        "\n",
        "for epoch in range(nos_epochs):  # loop over the dataset multiple times\n",
        "\n",
        "  focus_true_pred_true =0\n",
        "  focus_false_pred_true =0\n",
        "  focus_true_pred_false =0\n",
        "  focus_false_pred_false =0\n",
        "  \n",
        "  argmax_more_than_half = 0\n",
        "  argmax_less_than_half =0\n",
        "  \n",
        "  running_loss = 0.0\n",
        "  epoch_loss = []\n",
        "  cnt=0\n",
        "\n",
        "  iteration = desired_num // batch\n",
        "  \n",
        "  #training data set\n",
        "  \n",
        "  for i, data in  enumerate(train_loader):\n",
        "    inputs , labels , fore_idx = data\n",
        "    inputs, labels = inputs.to(\"cuda\"), labels.to(\"cuda\")\n",
        "    inputs = inputs.double()\n",
        "    # zero the parameter gradients\n",
        "    \n",
        "    optimizer_focus.zero_grad()\n",
        "    optimizer_classify.zero_grad()\n",
        "    \n",
        "    alphas, avg_images = focus_net(inputs)\n",
        "    outputs = classify(avg_images)\n",
        "\n",
        "    _, predicted = torch.max(outputs.data, 1)\n",
        "#     print(outputs)\n",
        "#     print(outputs.shape,labels.shape , torch.argmax(outputs, dim=1))\n",
        "\n",
        "    loss = criterion(outputs, labels) \n",
        "    loss.backward()\n",
        "    optimizer_focus.step()\n",
        "    optimizer_classify.step()\n",
        "\n",
        "    running_loss += loss.item()\n",
        "    mini = 3\n",
        "    if cnt % mini == mini-1:    # print every 40 mini-batches\n",
        "      print('[%d, %5d] loss: %.3f' %(epoch + 1, cnt + 1, running_loss / mini))\n",
        "      epoch_loss.append(running_loss/mini)\n",
        "      running_loss = 0.0\n",
        "    cnt=cnt+1\n",
        "    \n",
        "    if epoch % 5 == 0:\n",
        "      for j in range (batch):\n",
        "        focus = torch.argmax(alphas[j])\n",
        "\n",
        "        if(alphas[j][focus] >= 0.5):\n",
        "          argmax_more_than_half +=1\n",
        "        else:\n",
        "          argmax_less_than_half +=1\n",
        "\n",
        "        if(focus == fore_idx[j] and predicted[j] == labels[j]):\n",
        "          focus_true_pred_true += 1\n",
        "\n",
        "        elif(focus != fore_idx[j] and predicted[j] == labels[j]):\n",
        "          focus_false_pred_true +=1\n",
        "\n",
        "        elif(focus == fore_idx[j] and predicted[j] != labels[j]):\n",
        "          focus_true_pred_false +=1\n",
        "\n",
        "        elif(focus != fore_idx[j] and predicted[j] != labels[j]):\n",
        "          focus_false_pred_false +=1\n",
        "\n",
        "  if(np.mean(epoch_loss) <= 0.001):\n",
        "      break;\n",
        "\n",
        "  if epoch % 5 == 0:\n",
        "    col1.append(epoch + 1)\n",
        "    col2.append(argmax_more_than_half)\n",
        "    col3.append(argmax_less_than_half)\n",
        "    col4.append(focus_true_pred_true)\n",
        "    col5.append(focus_false_pred_true)\n",
        "    col6.append(focus_true_pred_false)\n",
        "    col7.append(focus_false_pred_false)\n",
        "    # print(\"=\"*20)\n",
        "    # print(\"Train FTPT : \", col4)\n",
        "    # print(\"Train FFPT : \", col5)\n",
        "    #************************************************************************\n",
        "    #testing data set  \n",
        "    # focus_net.eval()\n",
        "    with torch.no_grad():\n",
        "      focus_true_pred_true =0\n",
        "      focus_false_pred_true =0\n",
        "      focus_true_pred_false =0\n",
        "      focus_false_pred_false =0\n",
        "\n",
        "      argmax_more_than_half = 0\n",
        "      argmax_less_than_half =0\n",
        "      for data in test_loader:\n",
        "        inputs, labels , fore_idx = data\n",
        "        inputs = inputs.double()\n",
        "        inputs, labels = inputs.to(\"cuda\"), labels.to(\"cuda\")\n",
        "        alphas, avg_images = focus_net(inputs)\n",
        "        outputs = classify(avg_images)\n",
        "        _, predicted = torch.max(outputs.data, 1)\n",
        "\n",
        "        for j in range (batch):\n",
        "          focus = torch.argmax(alphas[j])\n",
        "\n",
        "          if(alphas[j][focus] >= 0.5):\n",
        "            argmax_more_than_half +=1\n",
        "          else:\n",
        "            argmax_less_than_half +=1\n",
        "\n",
        "          if(focus == fore_idx[j] and predicted[j] == labels[j]):\n",
        "            focus_true_pred_true += 1\n",
        "\n",
        "          elif(focus != fore_idx[j] and predicted[j] == labels[j]):\n",
        "            focus_false_pred_true +=1\n",
        "\n",
        "          elif(focus == fore_idx[j] and predicted[j] != labels[j]):\n",
        "            focus_true_pred_false +=1\n",
        "\n",
        "          elif(focus != fore_idx[j] and predicted[j] != labels[j]):\n",
        "            focus_false_pred_false +=1\n",
        "      \n",
        "    col8.append(argmax_more_than_half)\n",
        "    col9.append(argmax_less_than_half)\n",
        "    col10.append(focus_true_pred_true)\n",
        "    col11.append(focus_false_pred_true)\n",
        "    col12.append(focus_true_pred_false)\n",
        "    col13.append(focus_false_pred_false)\n",
        "    # print(\"Test FTPT : \", col10)\n",
        "    # print(\"Test FFPT : \", col11)\n",
        "    # print(\"=\"*20)\n",
        "    \n",
        "print('Finished Training')"
      ],
      "execution_count": 53,
      "outputs": [
        {
          "output_type": "stream",
          "text": [
            "[1,     3] loss: 0.674\n",
            "[2,     3] loss: 0.635\n",
            "[3,     3] loss: 0.592\n",
            "[4,     3] loss: 0.589\n",
            "[5,     3] loss: 0.551\n",
            "[6,     3] loss: 0.542\n",
            "[7,     3] loss: 0.528\n",
            "[8,     3] loss: 0.517\n",
            "[9,     3] loss: 0.490\n",
            "[10,     3] loss: 0.485\n",
            "[11,     3] loss: 0.473\n",
            "[12,     3] loss: 0.457\n",
            "[13,     3] loss: 0.445\n",
            "[14,     3] loss: 0.428\n",
            "[15,     3] loss: 0.396\n",
            "[16,     3] loss: 0.371\n",
            "[17,     3] loss: 0.344\n",
            "[18,     3] loss: 0.322\n",
            "[19,     3] loss: 0.307\n",
            "[20,     3] loss: 0.300\n",
            "[21,     3] loss: 0.288\n",
            "[22,     3] loss: 0.270\n",
            "[23,     3] loss: 0.264\n",
            "[24,     3] loss: 0.269\n",
            "[25,     3] loss: 0.259\n",
            "[26,     3] loss: 0.246\n",
            "[27,     3] loss: 0.245\n",
            "[28,     3] loss: 0.253\n",
            "[29,     3] loss: 0.263\n",
            "[30,     3] loss: 0.238\n",
            "[31,     3] loss: 0.245\n",
            "[32,     3] loss: 0.250\n",
            "[33,     3] loss: 0.240\n",
            "[34,     3] loss: 0.245\n",
            "[35,     3] loss: 0.243\n",
            "[36,     3] loss: 0.235\n",
            "[37,     3] loss: 0.249\n",
            "[38,     3] loss: 0.234\n",
            "[39,     3] loss: 0.237\n",
            "[40,     3] loss: 0.215\n",
            "[41,     3] loss: 0.224\n",
            "[42,     3] loss: 0.233\n",
            "[43,     3] loss: 0.210\n",
            "[44,     3] loss: 0.227\n",
            "[45,     3] loss: 0.238\n",
            "[46,     3] loss: 0.217\n",
            "[47,     3] loss: 0.216\n",
            "[48,     3] loss: 0.232\n",
            "[49,     3] loss: 0.212\n",
            "[50,     3] loss: 0.229\n",
            "[51,     3] loss: 0.223\n",
            "[52,     3] loss: 0.212\n",
            "[53,     3] loss: 0.211\n",
            "[54,     3] loss: 0.213\n",
            "[55,     3] loss: 0.209\n",
            "[56,     3] loss: 0.211\n",
            "[57,     3] loss: 0.219\n",
            "[58,     3] loss: 0.218\n",
            "[59,     3] loss: 0.224\n",
            "[60,     3] loss: 0.208\n",
            "[61,     3] loss: 0.207\n",
            "[62,     3] loss: 0.200\n",
            "[63,     3] loss: 0.218\n",
            "[64,     3] loss: 0.205\n",
            "[65,     3] loss: 0.209\n",
            "[66,     3] loss: 0.210\n",
            "[67,     3] loss: 0.206\n",
            "[68,     3] loss: 0.215\n",
            "[69,     3] loss: 0.216\n",
            "[70,     3] loss: 0.201\n",
            "[71,     3] loss: 0.213\n",
            "[72,     3] loss: 0.203\n",
            "[73,     3] loss: 0.223\n",
            "[74,     3] loss: 0.205\n",
            "[75,     3] loss: 0.212\n",
            "[76,     3] loss: 0.209\n",
            "[77,     3] loss: 0.207\n",
            "[78,     3] loss: 0.202\n",
            "[79,     3] loss: 0.205\n",
            "[80,     3] loss: 0.215\n",
            "[81,     3] loss: 0.210\n",
            "[82,     3] loss: 0.208\n",
            "[83,     3] loss: 0.214\n",
            "[84,     3] loss: 0.200\n",
            "[85,     3] loss: 0.186\n",
            "[86,     3] loss: 0.193\n",
            "[87,     3] loss: 0.203\n",
            "[88,     3] loss: 0.206\n",
            "[89,     3] loss: 0.203\n",
            "[90,     3] loss: 0.210\n",
            "[91,     3] loss: 0.184\n",
            "[92,     3] loss: 0.199\n",
            "[93,     3] loss: 0.203\n",
            "[94,     3] loss: 0.183\n",
            "[95,     3] loss: 0.209\n",
            "[96,     3] loss: 0.201\n",
            "[97,     3] loss: 0.199\n",
            "[98,     3] loss: 0.193\n",
            "[99,     3] loss: 0.198\n",
            "[100,     3] loss: 0.189\n",
            "[101,     3] loss: 0.206\n",
            "[102,     3] loss: 0.205\n",
            "[103,     3] loss: 0.184\n",
            "[104,     3] loss: 0.203\n",
            "[105,     3] loss: 0.193\n",
            "[106,     3] loss: 0.205\n",
            "[107,     3] loss: 0.191\n",
            "[108,     3] loss: 0.200\n",
            "[109,     3] loss: 0.196\n",
            "[110,     3] loss: 0.206\n",
            "[111,     3] loss: 0.201\n",
            "[112,     3] loss: 0.192\n",
            "[113,     3] loss: 0.188\n",
            "[114,     3] loss: 0.194\n",
            "[115,     3] loss: 0.190\n",
            "[116,     3] loss: 0.183\n",
            "[117,     3] loss: 0.203\n",
            "[118,     3] loss: 0.196\n",
            "[119,     3] loss: 0.199\n",
            "[120,     3] loss: 0.207\n",
            "[121,     3] loss: 0.185\n",
            "[122,     3] loss: 0.196\n",
            "[123,     3] loss: 0.191\n",
            "[124,     3] loss: 0.194\n",
            "[125,     3] loss: 0.186\n",
            "[126,     3] loss: 0.193\n",
            "[127,     3] loss: 0.196\n",
            "[128,     3] loss: 0.190\n",
            "[129,     3] loss: 0.192\n",
            "[130,     3] loss: 0.201\n",
            "[131,     3] loss: 0.190\n",
            "[132,     3] loss: 0.196\n",
            "[133,     3] loss: 0.195\n",
            "[134,     3] loss: 0.190\n",
            "[135,     3] loss: 0.192\n",
            "[136,     3] loss: 0.183\n",
            "[137,     3] loss: 0.182\n",
            "[138,     3] loss: 0.191\n",
            "[139,     3] loss: 0.180\n",
            "[140,     3] loss: 0.187\n",
            "[141,     3] loss: 0.184\n",
            "[142,     3] loss: 0.172\n",
            "[143,     3] loss: 0.195\n",
            "[144,     3] loss: 0.182\n",
            "[145,     3] loss: 0.179\n",
            "[146,     3] loss: 0.178\n",
            "[147,     3] loss: 0.182\n",
            "[148,     3] loss: 0.189\n",
            "[149,     3] loss: 0.183\n",
            "[150,     3] loss: 0.189\n",
            "[151,     3] loss: 0.179\n",
            "[152,     3] loss: 0.193\n",
            "[153,     3] loss: 0.195\n",
            "[154,     3] loss: 0.182\n",
            "[155,     3] loss: 0.182\n",
            "[156,     3] loss: 0.180\n",
            "[157,     3] loss: 0.188\n",
            "[158,     3] loss: 0.189\n",
            "[159,     3] loss: 0.182\n",
            "[160,     3] loss: 0.185\n",
            "[161,     3] loss: 0.176\n",
            "[162,     3] loss: 0.188\n",
            "[163,     3] loss: 0.197\n",
            "[164,     3] loss: 0.188\n",
            "[165,     3] loss: 0.170\n",
            "[166,     3] loss: 0.181\n",
            "[167,     3] loss: 0.179\n",
            "[168,     3] loss: 0.173\n",
            "[169,     3] loss: 0.162\n",
            "[170,     3] loss: 0.190\n",
            "[171,     3] loss: 0.181\n",
            "[172,     3] loss: 0.184\n",
            "[173,     3] loss: 0.178\n",
            "[174,     3] loss: 0.180\n",
            "[175,     3] loss: 0.176\n",
            "[176,     3] loss: 0.200\n",
            "[177,     3] loss: 0.181\n",
            "[178,     3] loss: 0.183\n",
            "[179,     3] loss: 0.181\n",
            "[180,     3] loss: 0.177\n",
            "[181,     3] loss: 0.173\n",
            "[182,     3] loss: 0.178\n",
            "[183,     3] loss: 0.176\n",
            "[184,     3] loss: 0.176\n",
            "[185,     3] loss: 0.178\n",
            "[186,     3] loss: 0.170\n",
            "[187,     3] loss: 0.178\n",
            "[188,     3] loss: 0.184\n",
            "[189,     3] loss: 0.166\n",
            "[190,     3] loss: 0.166\n",
            "[191,     3] loss: 0.181\n",
            "[192,     3] loss: 0.181\n",
            "[193,     3] loss: 0.177\n",
            "[194,     3] loss: 0.173\n",
            "[195,     3] loss: 0.179\n",
            "[196,     3] loss: 0.177\n",
            "[197,     3] loss: 0.172\n",
            "[198,     3] loss: 0.173\n",
            "[199,     3] loss: 0.166\n",
            "[200,     3] loss: 0.174\n",
            "[201,     3] loss: 0.174\n",
            "[202,     3] loss: 0.174\n",
            "[203,     3] loss: 0.170\n",
            "[204,     3] loss: 0.163\n",
            "[205,     3] loss: 0.174\n",
            "[206,     3] loss: 0.184\n",
            "[207,     3] loss: 0.174\n",
            "[208,     3] loss: 0.164\n",
            "[209,     3] loss: 0.171\n",
            "[210,     3] loss: 0.170\n",
            "[211,     3] loss: 0.173\n",
            "[212,     3] loss: 0.172\n",
            "[213,     3] loss: 0.182\n",
            "[214,     3] loss: 0.153\n",
            "[215,     3] loss: 0.175\n",
            "[216,     3] loss: 0.179\n",
            "[217,     3] loss: 0.171\n",
            "[218,     3] loss: 0.179\n",
            "[219,     3] loss: 0.169\n",
            "[220,     3] loss: 0.165\n",
            "[221,     3] loss: 0.174\n",
            "[222,     3] loss: 0.170\n",
            "[223,     3] loss: 0.170\n",
            "[224,     3] loss: 0.161\n",
            "[225,     3] loss: 0.174\n",
            "[226,     3] loss: 0.177\n",
            "[227,     3] loss: 0.178\n",
            "[228,     3] loss: 0.171\n",
            "[229,     3] loss: 0.169\n",
            "[230,     3] loss: 0.164\n",
            "[231,     3] loss: 0.169\n",
            "[232,     3] loss: 0.161\n",
            "[233,     3] loss: 0.164\n",
            "[234,     3] loss: 0.159\n",
            "[235,     3] loss: 0.172\n",
            "[236,     3] loss: 0.165\n",
            "[237,     3] loss: 0.156\n",
            "[238,     3] loss: 0.166\n",
            "[239,     3] loss: 0.166\n",
            "[240,     3] loss: 0.171\n",
            "[241,     3] loss: 0.168\n",
            "[242,     3] loss: 0.170\n",
            "[243,     3] loss: 0.168\n",
            "[244,     3] loss: 0.167\n",
            "[245,     3] loss: 0.159\n",
            "[246,     3] loss: 0.165\n",
            "[247,     3] loss: 0.170\n",
            "[248,     3] loss: 0.155\n",
            "[249,     3] loss: 0.163\n",
            "[250,     3] loss: 0.168\n",
            "[251,     3] loss: 0.168\n",
            "[252,     3] loss: 0.168\n",
            "[253,     3] loss: 0.164\n",
            "[254,     3] loss: 0.165\n",
            "[255,     3] loss: 0.165\n",
            "[256,     3] loss: 0.161\n",
            "[257,     3] loss: 0.173\n",
            "[258,     3] loss: 0.173\n",
            "[259,     3] loss: 0.175\n",
            "[260,     3] loss: 0.157\n",
            "[261,     3] loss: 0.169\n",
            "[262,     3] loss: 0.159\n",
            "[263,     3] loss: 0.159\n",
            "[264,     3] loss: 0.168\n",
            "[265,     3] loss: 0.164\n",
            "[266,     3] loss: 0.156\n",
            "[267,     3] loss: 0.153\n",
            "[268,     3] loss: 0.159\n",
            "[269,     3] loss: 0.158\n",
            "[270,     3] loss: 0.156\n",
            "[271,     3] loss: 0.175\n",
            "[272,     3] loss: 0.165\n",
            "[273,     3] loss: 0.149\n",
            "[274,     3] loss: 0.154\n",
            "[275,     3] loss: 0.154\n",
            "[276,     3] loss: 0.160\n",
            "[277,     3] loss: 0.142\n",
            "[278,     3] loss: 0.151\n",
            "[279,     3] loss: 0.164\n",
            "[280,     3] loss: 0.153\n",
            "[281,     3] loss: 0.166\n",
            "[282,     3] loss: 0.146\n",
            "[283,     3] loss: 0.157\n",
            "[284,     3] loss: 0.156\n",
            "[285,     3] loss: 0.162\n",
            "[286,     3] loss: 0.157\n",
            "[287,     3] loss: 0.157\n",
            "[288,     3] loss: 0.160\n",
            "[289,     3] loss: 0.168\n",
            "[290,     3] loss: 0.154\n",
            "[291,     3] loss: 0.164\n",
            "[292,     3] loss: 0.169\n",
            "[293,     3] loss: 0.166\n",
            "[294,     3] loss: 0.161\n",
            "[295,     3] loss: 0.165\n",
            "[296,     3] loss: 0.162\n",
            "[297,     3] loss: 0.160\n",
            "[298,     3] loss: 0.155\n",
            "[299,     3] loss: 0.156\n",
            "[300,     3] loss: 0.161\n",
            "[301,     3] loss: 0.171\n",
            "[302,     3] loss: 0.159\n",
            "[303,     3] loss: 0.162\n",
            "[304,     3] loss: 0.161\n",
            "[305,     3] loss: 0.151\n",
            "[306,     3] loss: 0.161\n",
            "[307,     3] loss: 0.143\n",
            "[308,     3] loss: 0.143\n",
            "[309,     3] loss: 0.159\n",
            "[310,     3] loss: 0.166\n",
            "[311,     3] loss: 0.150\n",
            "[312,     3] loss: 0.163\n",
            "[313,     3] loss: 0.163\n",
            "[314,     3] loss: 0.156\n",
            "[315,     3] loss: 0.156\n",
            "[316,     3] loss: 0.165\n",
            "[317,     3] loss: 0.158\n",
            "[318,     3] loss: 0.157\n",
            "[319,     3] loss: 0.166\n",
            "[320,     3] loss: 0.168\n",
            "[321,     3] loss: 0.157\n",
            "[322,     3] loss: 0.154\n",
            "[323,     3] loss: 0.138\n",
            "[324,     3] loss: 0.156\n",
            "[325,     3] loss: 0.163\n",
            "[326,     3] loss: 0.162\n",
            "[327,     3] loss: 0.156\n",
            "[328,     3] loss: 0.155\n",
            "[329,     3] loss: 0.149\n",
            "[330,     3] loss: 0.155\n",
            "[331,     3] loss: 0.156\n",
            "[332,     3] loss: 0.151\n",
            "[333,     3] loss: 0.158\n",
            "[334,     3] loss: 0.149\n",
            "[335,     3] loss: 0.153\n",
            "[336,     3] loss: 0.147\n",
            "[337,     3] loss: 0.160\n",
            "[338,     3] loss: 0.155\n",
            "[339,     3] loss: 0.155\n",
            "[340,     3] loss: 0.148\n",
            "[341,     3] loss: 0.151\n",
            "[342,     3] loss: 0.157\n",
            "[343,     3] loss: 0.146\n",
            "[344,     3] loss: 0.148\n",
            "[345,     3] loss: 0.150\n",
            "[346,     3] loss: 0.146\n",
            "[347,     3] loss: 0.140\n",
            "[348,     3] loss: 0.153\n",
            "[349,     3] loss: 0.161\n",
            "[350,     3] loss: 0.157\n",
            "[351,     3] loss: 0.140\n",
            "[352,     3] loss: 0.153\n",
            "[353,     3] loss: 0.149\n",
            "[354,     3] loss: 0.147\n",
            "[355,     3] loss: 0.150\n",
            "[356,     3] loss: 0.151\n",
            "[357,     3] loss: 0.148\n",
            "[358,     3] loss: 0.154\n",
            "[359,     3] loss: 0.158\n",
            "[360,     3] loss: 0.145\n",
            "[361,     3] loss: 0.153\n",
            "[362,     3] loss: 0.150\n",
            "[363,     3] loss: 0.150\n",
            "[364,     3] loss: 0.155\n",
            "[365,     3] loss: 0.142\n",
            "[366,     3] loss: 0.150\n",
            "[367,     3] loss: 0.156\n",
            "[368,     3] loss: 0.144\n",
            "[369,     3] loss: 0.148\n",
            "[370,     3] loss: 0.154\n",
            "[371,     3] loss: 0.158\n",
            "[372,     3] loss: 0.156\n",
            "[373,     3] loss: 0.151\n",
            "[374,     3] loss: 0.156\n",
            "[375,     3] loss: 0.156\n",
            "[376,     3] loss: 0.139\n",
            "[377,     3] loss: 0.153\n",
            "[378,     3] loss: 0.159\n",
            "[379,     3] loss: 0.150\n",
            "[380,     3] loss: 0.160\n",
            "[381,     3] loss: 0.165\n",
            "[382,     3] loss: 0.136\n",
            "[383,     3] loss: 0.139\n",
            "[384,     3] loss: 0.148\n",
            "[385,     3] loss: 0.149\n",
            "[386,     3] loss: 0.141\n",
            "[387,     3] loss: 0.148\n",
            "[388,     3] loss: 0.147\n",
            "[389,     3] loss: 0.150\n",
            "[390,     3] loss: 0.139\n",
            "[391,     3] loss: 0.154\n",
            "[392,     3] loss: 0.154\n",
            "[393,     3] loss: 0.138\n",
            "[394,     3] loss: 0.159\n",
            "[395,     3] loss: 0.147\n",
            "[396,     3] loss: 0.145\n",
            "[397,     3] loss: 0.145\n",
            "[398,     3] loss: 0.150\n",
            "[399,     3] loss: 0.158\n",
            "[400,     3] loss: 0.146\n",
            "[401,     3] loss: 0.147\n",
            "[402,     3] loss: 0.152\n",
            "[403,     3] loss: 0.143\n",
            "[404,     3] loss: 0.137\n",
            "[405,     3] loss: 0.142\n",
            "[406,     3] loss: 0.148\n",
            "[407,     3] loss: 0.143\n",
            "[408,     3] loss: 0.147\n",
            "[409,     3] loss: 0.147\n",
            "[410,     3] loss: 0.144\n",
            "[411,     3] loss: 0.149\n",
            "[412,     3] loss: 0.155\n",
            "[413,     3] loss: 0.146\n",
            "[414,     3] loss: 0.150\n",
            "[415,     3] loss: 0.142\n",
            "[416,     3] loss: 0.148\n",
            "[417,     3] loss: 0.150\n",
            "[418,     3] loss: 0.133\n",
            "[419,     3] loss: 0.145\n",
            "[420,     3] loss: 0.140\n",
            "[421,     3] loss: 0.145\n",
            "[422,     3] loss: 0.145\n",
            "[423,     3] loss: 0.137\n",
            "[424,     3] loss: 0.148\n",
            "[425,     3] loss: 0.149\n",
            "[426,     3] loss: 0.140\n",
            "[427,     3] loss: 0.143\n",
            "[428,     3] loss: 0.149\n",
            "[429,     3] loss: 0.142\n",
            "[430,     3] loss: 0.147\n",
            "[431,     3] loss: 0.153\n",
            "[432,     3] loss: 0.148\n",
            "[433,     3] loss: 0.145\n",
            "[434,     3] loss: 0.141\n",
            "[435,     3] loss: 0.136\n",
            "[436,     3] loss: 0.140\n",
            "[437,     3] loss: 0.152\n",
            "[438,     3] loss: 0.141\n",
            "[439,     3] loss: 0.143\n",
            "[440,     3] loss: 0.149\n",
            "[441,     3] loss: 0.148\n",
            "[442,     3] loss: 0.149\n",
            "[443,     3] loss: 0.153\n",
            "[444,     3] loss: 0.148\n",
            "[445,     3] loss: 0.149\n",
            "[446,     3] loss: 0.140\n",
            "[447,     3] loss: 0.144\n",
            "[448,     3] loss: 0.144\n",
            "[449,     3] loss: 0.140\n",
            "[450,     3] loss: 0.148\n",
            "[451,     3] loss: 0.152\n",
            "[452,     3] loss: 0.147\n",
            "[453,     3] loss: 0.136\n",
            "[454,     3] loss: 0.146\n",
            "[455,     3] loss: 0.144\n",
            "[456,     3] loss: 0.131\n",
            "[457,     3] loss: 0.131\n",
            "[458,     3] loss: 0.152\n",
            "[459,     3] loss: 0.144\n",
            "[460,     3] loss: 0.140\n",
            "[461,     3] loss: 0.140\n",
            "[462,     3] loss: 0.133\n",
            "[463,     3] loss: 0.150\n",
            "[464,     3] loss: 0.147\n",
            "[465,     3] loss: 0.144\n",
            "[466,     3] loss: 0.129\n",
            "[467,     3] loss: 0.147\n",
            "[468,     3] loss: 0.134\n",
            "[469,     3] loss: 0.148\n",
            "[470,     3] loss: 0.140\n",
            "[471,     3] loss: 0.137\n",
            "[472,     3] loss: 0.134\n",
            "[473,     3] loss: 0.136\n",
            "[474,     3] loss: 0.137\n",
            "[475,     3] loss: 0.144\n",
            "[476,     3] loss: 0.137\n",
            "[477,     3] loss: 0.139\n",
            "[478,     3] loss: 0.134\n",
            "[479,     3] loss: 0.145\n",
            "[480,     3] loss: 0.141\n",
            "[481,     3] loss: 0.138\n",
            "[482,     3] loss: 0.141\n",
            "[483,     3] loss: 0.136\n",
            "[484,     3] loss: 0.143\n",
            "[485,     3] loss: 0.138\n",
            "[486,     3] loss: 0.136\n",
            "[487,     3] loss: 0.142\n",
            "[488,     3] loss: 0.140\n",
            "[489,     3] loss: 0.141\n",
            "[490,     3] loss: 0.138\n",
            "[491,     3] loss: 0.143\n",
            "[492,     3] loss: 0.143\n",
            "[493,     3] loss: 0.142\n",
            "[494,     3] loss: 0.144\n",
            "[495,     3] loss: 0.129\n",
            "[496,     3] loss: 0.130\n",
            "[497,     3] loss: 0.128\n",
            "[498,     3] loss: 0.139\n",
            "[499,     3] loss: 0.136\n",
            "[500,     3] loss: 0.141\n",
            "[501,     3] loss: 0.150\n",
            "[502,     3] loss: 0.136\n",
            "[503,     3] loss: 0.137\n",
            "[504,     3] loss: 0.133\n",
            "[505,     3] loss: 0.141\n",
            "[506,     3] loss: 0.140\n",
            "[507,     3] loss: 0.136\n",
            "[508,     3] loss: 0.140\n",
            "[509,     3] loss: 0.138\n",
            "[510,     3] loss: 0.140\n",
            "[511,     3] loss: 0.137\n",
            "[512,     3] loss: 0.137\n",
            "[513,     3] loss: 0.149\n",
            "[514,     3] loss: 0.150\n",
            "[515,     3] loss: 0.144\n",
            "[516,     3] loss: 0.143\n",
            "[517,     3] loss: 0.151\n",
            "[518,     3] loss: 0.139\n",
            "[519,     3] loss: 0.141\n",
            "[520,     3] loss: 0.134\n",
            "[521,     3] loss: 0.145\n",
            "[522,     3] loss: 0.138\n",
            "[523,     3] loss: 0.139\n",
            "[524,     3] loss: 0.137\n",
            "[525,     3] loss: 0.136\n",
            "[526,     3] loss: 0.134\n",
            "[527,     3] loss: 0.131\n",
            "[528,     3] loss: 0.129\n",
            "[529,     3] loss: 0.144\n",
            "[530,     3] loss: 0.134\n",
            "[531,     3] loss: 0.139\n",
            "[532,     3] loss: 0.129\n",
            "[533,     3] loss: 0.124\n",
            "[534,     3] loss: 0.136\n",
            "[535,     3] loss: 0.142\n",
            "[536,     3] loss: 0.142\n",
            "[537,     3] loss: 0.138\n",
            "[538,     3] loss: 0.137\n",
            "[539,     3] loss: 0.136\n",
            "[540,     3] loss: 0.132\n",
            "[541,     3] loss: 0.136\n",
            "[542,     3] loss: 0.136\n",
            "[543,     3] loss: 0.134\n",
            "[544,     3] loss: 0.139\n",
            "[545,     3] loss: 0.137\n",
            "[546,     3] loss: 0.137\n",
            "[547,     3] loss: 0.137\n",
            "[548,     3] loss: 0.133\n",
            "[549,     3] loss: 0.138\n",
            "[550,     3] loss: 0.145\n",
            "[551,     3] loss: 0.144\n",
            "[552,     3] loss: 0.134\n",
            "[553,     3] loss: 0.139\n",
            "[554,     3] loss: 0.135\n",
            "[555,     3] loss: 0.135\n",
            "[556,     3] loss: 0.126\n",
            "[557,     3] loss: 0.126\n",
            "[558,     3] loss: 0.138\n",
            "[559,     3] loss: 0.138\n",
            "[560,     3] loss: 0.129\n",
            "[561,     3] loss: 0.135\n",
            "[562,     3] loss: 0.128\n",
            "[563,     3] loss: 0.132\n",
            "[564,     3] loss: 0.141\n",
            "[565,     3] loss: 0.141\n",
            "[566,     3] loss: 0.135\n",
            "[567,     3] loss: 0.130\n",
            "[568,     3] loss: 0.132\n",
            "[569,     3] loss: 0.129\n",
            "[570,     3] loss: 0.140\n",
            "[571,     3] loss: 0.127\n",
            "[572,     3] loss: 0.139\n",
            "[573,     3] loss: 0.127\n",
            "[574,     3] loss: 0.144\n",
            "[575,     3] loss: 0.136\n",
            "[576,     3] loss: 0.138\n",
            "[577,     3] loss: 0.134\n",
            "[578,     3] loss: 0.134\n",
            "[579,     3] loss: 0.129\n",
            "[580,     3] loss: 0.140\n",
            "[581,     3] loss: 0.138\n",
            "[582,     3] loss: 0.127\n",
            "[583,     3] loss: 0.136\n",
            "[584,     3] loss: 0.131\n",
            "[585,     3] loss: 0.129\n",
            "[586,     3] loss: 0.135\n",
            "[587,     3] loss: 0.129\n",
            "[588,     3] loss: 0.126\n",
            "[589,     3] loss: 0.135\n",
            "[590,     3] loss: 0.134\n",
            "[591,     3] loss: 0.136\n",
            "[592,     3] loss: 0.133\n",
            "[593,     3] loss: 0.130\n",
            "[594,     3] loss: 0.133\n",
            "[595,     3] loss: 0.142\n",
            "[596,     3] loss: 0.132\n",
            "[597,     3] loss: 0.122\n",
            "[598,     3] loss: 0.125\n",
            "[599,     3] loss: 0.148\n",
            "[600,     3] loss: 0.131\n",
            "[601,     3] loss: 0.133\n",
            "[602,     3] loss: 0.132\n",
            "[603,     3] loss: 0.133\n",
            "[604,     3] loss: 0.136\n",
            "[605,     3] loss: 0.135\n",
            "[606,     3] loss: 0.132\n",
            "[607,     3] loss: 0.133\n",
            "[608,     3] loss: 0.130\n",
            "[609,     3] loss: 0.129\n",
            "[610,     3] loss: 0.141\n",
            "[611,     3] loss: 0.128\n",
            "[612,     3] loss: 0.126\n",
            "[613,     3] loss: 0.133\n",
            "[614,     3] loss: 0.129\n",
            "[615,     3] loss: 0.136\n",
            "[616,     3] loss: 0.147\n",
            "[617,     3] loss: 0.124\n",
            "[618,     3] loss: 0.133\n",
            "[619,     3] loss: 0.130\n",
            "[620,     3] loss: 0.128\n",
            "[621,     3] loss: 0.124\n",
            "[622,     3] loss: 0.127\n",
            "[623,     3] loss: 0.123\n",
            "[624,     3] loss: 0.129\n",
            "[625,     3] loss: 0.134\n",
            "[626,     3] loss: 0.124\n",
            "[627,     3] loss: 0.129\n",
            "[628,     3] loss: 0.124\n",
            "[629,     3] loss: 0.134\n",
            "[630,     3] loss: 0.130\n",
            "[631,     3] loss: 0.125\n",
            "[632,     3] loss: 0.123\n",
            "[633,     3] loss: 0.127\n",
            "[634,     3] loss: 0.121\n",
            "[635,     3] loss: 0.136\n",
            "[636,     3] loss: 0.138\n",
            "[637,     3] loss: 0.135\n",
            "[638,     3] loss: 0.130\n",
            "[639,     3] loss: 0.135\n",
            "[640,     3] loss: 0.129\n",
            "[641,     3] loss: 0.140\n",
            "[642,     3] loss: 0.129\n",
            "[643,     3] loss: 0.140\n",
            "[644,     3] loss: 0.133\n",
            "[645,     3] loss: 0.125\n",
            "[646,     3] loss: 0.132\n",
            "[647,     3] loss: 0.126\n",
            "[648,     3] loss: 0.133\n",
            "[649,     3] loss: 0.134\n",
            "[650,     3] loss: 0.135\n",
            "[651,     3] loss: 0.137\n",
            "[652,     3] loss: 0.133\n",
            "[653,     3] loss: 0.130\n",
            "[654,     3] loss: 0.134\n",
            "[655,     3] loss: 0.138\n",
            "[656,     3] loss: 0.128\n",
            "[657,     3] loss: 0.136\n",
            "[658,     3] loss: 0.137\n",
            "[659,     3] loss: 0.130\n",
            "[660,     3] loss: 0.123\n",
            "[661,     3] loss: 0.128\n",
            "[662,     3] loss: 0.137\n",
            "[663,     3] loss: 0.124\n",
            "[664,     3] loss: 0.127\n",
            "[665,     3] loss: 0.122\n",
            "[666,     3] loss: 0.132\n",
            "[667,     3] loss: 0.144\n",
            "[668,     3] loss: 0.131\n",
            "[669,     3] loss: 0.122\n",
            "[670,     3] loss: 0.130\n",
            "[671,     3] loss: 0.125\n",
            "[672,     3] loss: 0.139\n",
            "[673,     3] loss: 0.134\n",
            "[674,     3] loss: 0.117\n",
            "[675,     3] loss: 0.130\n",
            "[676,     3] loss: 0.136\n",
            "[677,     3] loss: 0.129\n",
            "[678,     3] loss: 0.125\n",
            "[679,     3] loss: 0.120\n",
            "[680,     3] loss: 0.135\n",
            "[681,     3] loss: 0.133\n",
            "[682,     3] loss: 0.125\n",
            "[683,     3] loss: 0.133\n",
            "[684,     3] loss: 0.131\n",
            "[685,     3] loss: 0.124\n",
            "[686,     3] loss: 0.126\n",
            "[687,     3] loss: 0.123\n",
            "[688,     3] loss: 0.128\n",
            "[689,     3] loss: 0.120\n",
            "[690,     3] loss: 0.125\n",
            "[691,     3] loss: 0.126\n",
            "[692,     3] loss: 0.131\n",
            "[693,     3] loss: 0.130\n",
            "[694,     3] loss: 0.129\n",
            "[695,     3] loss: 0.125\n",
            "[696,     3] loss: 0.127\n",
            "[697,     3] loss: 0.129\n",
            "[698,     3] loss: 0.115\n",
            "[699,     3] loss: 0.133\n",
            "[700,     3] loss: 0.119\n",
            "[701,     3] loss: 0.137\n",
            "[702,     3] loss: 0.124\n",
            "[703,     3] loss: 0.132\n",
            "[704,     3] loss: 0.130\n",
            "[705,     3] loss: 0.128\n",
            "[706,     3] loss: 0.121\n",
            "[707,     3] loss: 0.135\n",
            "[708,     3] loss: 0.129\n",
            "[709,     3] loss: 0.125\n",
            "[710,     3] loss: 0.115\n",
            "[711,     3] loss: 0.126\n",
            "[712,     3] loss: 0.122\n",
            "[713,     3] loss: 0.126\n",
            "[714,     3] loss: 0.123\n",
            "[715,     3] loss: 0.118\n",
            "[716,     3] loss: 0.126\n",
            "[717,     3] loss: 0.135\n",
            "[718,     3] loss: 0.126\n",
            "[719,     3] loss: 0.131\n",
            "[720,     3] loss: 0.124\n",
            "[721,     3] loss: 0.128\n",
            "[722,     3] loss: 0.125\n",
            "[723,     3] loss: 0.121\n",
            "[724,     3] loss: 0.126\n",
            "[725,     3] loss: 0.122\n",
            "[726,     3] loss: 0.133\n",
            "[727,     3] loss: 0.129\n",
            "[728,     3] loss: 0.131\n",
            "[729,     3] loss: 0.125\n",
            "[730,     3] loss: 0.125\n",
            "[731,     3] loss: 0.127\n",
            "[732,     3] loss: 0.131\n",
            "[733,     3] loss: 0.119\n",
            "[734,     3] loss: 0.126\n",
            "[735,     3] loss: 0.119\n",
            "[736,     3] loss: 0.137\n",
            "[737,     3] loss: 0.121\n",
            "[738,     3] loss: 0.120\n",
            "[739,     3] loss: 0.126\n",
            "[740,     3] loss: 0.130\n",
            "[741,     3] loss: 0.113\n",
            "[742,     3] loss: 0.123\n",
            "[743,     3] loss: 0.120\n",
            "[744,     3] loss: 0.130\n",
            "[745,     3] loss: 0.121\n",
            "[746,     3] loss: 0.123\n",
            "[747,     3] loss: 0.129\n",
            "[748,     3] loss: 0.126\n",
            "[749,     3] loss: 0.129\n",
            "[750,     3] loss: 0.120\n",
            "[751,     3] loss: 0.117\n",
            "[752,     3] loss: 0.134\n",
            "[753,     3] loss: 0.128\n",
            "[754,     3] loss: 0.124\n",
            "[755,     3] loss: 0.123\n",
            "[756,     3] loss: 0.125\n",
            "[757,     3] loss: 0.120\n",
            "[758,     3] loss: 0.120\n",
            "[759,     3] loss: 0.129\n",
            "[760,     3] loss: 0.118\n",
            "[761,     3] loss: 0.126\n",
            "[762,     3] loss: 0.127\n",
            "[763,     3] loss: 0.131\n",
            "[764,     3] loss: 0.125\n",
            "[765,     3] loss: 0.126\n",
            "[766,     3] loss: 0.116\n",
            "[767,     3] loss: 0.117\n",
            "[768,     3] loss: 0.128\n",
            "[769,     3] loss: 0.124\n",
            "[770,     3] loss: 0.128\n",
            "[771,     3] loss: 0.132\n",
            "[772,     3] loss: 0.127\n",
            "[773,     3] loss: 0.127\n",
            "[774,     3] loss: 0.119\n",
            "[775,     3] loss: 0.130\n",
            "[776,     3] loss: 0.122\n",
            "[777,     3] loss: 0.133\n",
            "[778,     3] loss: 0.128\n",
            "[779,     3] loss: 0.123\n",
            "[780,     3] loss: 0.125\n",
            "[781,     3] loss: 0.125\n",
            "[782,     3] loss: 0.129\n",
            "[783,     3] loss: 0.128\n",
            "[784,     3] loss: 0.125\n",
            "[785,     3] loss: 0.122\n",
            "[786,     3] loss: 0.127\n",
            "[787,     3] loss: 0.123\n",
            "[788,     3] loss: 0.121\n",
            "[789,     3] loss: 0.119\n",
            "[790,     3] loss: 0.119\n",
            "[791,     3] loss: 0.115\n",
            "[792,     3] loss: 0.118\n",
            "[793,     3] loss: 0.124\n",
            "[794,     3] loss: 0.117\n",
            "[795,     3] loss: 0.122\n",
            "[796,     3] loss: 0.132\n",
            "[797,     3] loss: 0.117\n",
            "[798,     3] loss: 0.121\n",
            "[799,     3] loss: 0.125\n",
            "[800,     3] loss: 0.128\n",
            "[801,     3] loss: 0.120\n",
            "[802,     3] loss: 0.125\n",
            "[803,     3] loss: 0.120\n",
            "[804,     3] loss: 0.131\n",
            "[805,     3] loss: 0.121\n",
            "[806,     3] loss: 0.111\n",
            "[807,     3] loss: 0.127\n",
            "[808,     3] loss: 0.126\n",
            "[809,     3] loss: 0.124\n",
            "[810,     3] loss: 0.121\n",
            "[811,     3] loss: 0.125\n",
            "[812,     3] loss: 0.119\n",
            "[813,     3] loss: 0.121\n",
            "[814,     3] loss: 0.120\n",
            "[815,     3] loss: 0.122\n",
            "[816,     3] loss: 0.121\n",
            "[817,     3] loss: 0.128\n",
            "[818,     3] loss: 0.117\n",
            "[819,     3] loss: 0.117\n",
            "[820,     3] loss: 0.123\n",
            "[821,     3] loss: 0.121\n",
            "[822,     3] loss: 0.120\n",
            "[823,     3] loss: 0.125\n",
            "[824,     3] loss: 0.126\n",
            "[825,     3] loss: 0.123\n",
            "[826,     3] loss: 0.118\n",
            "[827,     3] loss: 0.124\n",
            "[828,     3] loss: 0.117\n",
            "[829,     3] loss: 0.127\n",
            "[830,     3] loss: 0.120\n",
            "[831,     3] loss: 0.121\n",
            "[832,     3] loss: 0.126\n",
            "[833,     3] loss: 0.118\n",
            "[834,     3] loss: 0.127\n",
            "[835,     3] loss: 0.118\n",
            "[836,     3] loss: 0.121\n",
            "[837,     3] loss: 0.124\n",
            "[838,     3] loss: 0.121\n",
            "[839,     3] loss: 0.124\n",
            "[840,     3] loss: 0.116\n",
            "[841,     3] loss: 0.115\n",
            "[842,     3] loss: 0.116\n",
            "[843,     3] loss: 0.121\n",
            "[844,     3] loss: 0.125\n",
            "[845,     3] loss: 0.125\n",
            "[846,     3] loss: 0.119\n",
            "[847,     3] loss: 0.126\n",
            "[848,     3] loss: 0.122\n",
            "[849,     3] loss: 0.116\n",
            "[850,     3] loss: 0.123\n",
            "[851,     3] loss: 0.121\n",
            "[852,     3] loss: 0.121\n",
            "[853,     3] loss: 0.123\n",
            "[854,     3] loss: 0.110\n",
            "[855,     3] loss: 0.122\n",
            "[856,     3] loss: 0.122\n",
            "[857,     3] loss: 0.118\n",
            "[858,     3] loss: 0.116\n",
            "[859,     3] loss: 0.112\n",
            "[860,     3] loss: 0.110\n",
            "[861,     3] loss: 0.120\n",
            "[862,     3] loss: 0.116\n",
            "[863,     3] loss: 0.119\n",
            "[864,     3] loss: 0.122\n",
            "[865,     3] loss: 0.123\n",
            "[866,     3] loss: 0.121\n",
            "[867,     3] loss: 0.117\n",
            "[868,     3] loss: 0.115\n",
            "[869,     3] loss: 0.118\n",
            "[870,     3] loss: 0.117\n",
            "[871,     3] loss: 0.115\n",
            "[872,     3] loss: 0.119\n",
            "[873,     3] loss: 0.113\n",
            "[874,     3] loss: 0.114\n",
            "[875,     3] loss: 0.121\n",
            "[876,     3] loss: 0.111\n",
            "[877,     3] loss: 0.112\n",
            "[878,     3] loss: 0.119\n",
            "[879,     3] loss: 0.115\n",
            "[880,     3] loss: 0.115\n",
            "[881,     3] loss: 0.116\n",
            "[882,     3] loss: 0.115\n",
            "[883,     3] loss: 0.118\n",
            "[884,     3] loss: 0.124\n",
            "[885,     3] loss: 0.108\n",
            "[886,     3] loss: 0.116\n",
            "[887,     3] loss: 0.116\n",
            "[888,     3] loss: 0.105\n",
            "[889,     3] loss: 0.108\n",
            "[890,     3] loss: 0.107\n",
            "[891,     3] loss: 0.114\n",
            "[892,     3] loss: 0.115\n",
            "[893,     3] loss: 0.117\n",
            "[894,     3] loss: 0.117\n",
            "[895,     3] loss: 0.108\n",
            "[896,     3] loss: 0.114\n",
            "[897,     3] loss: 0.109\n",
            "[898,     3] loss: 0.111\n",
            "[899,     3] loss: 0.115\n",
            "[900,     3] loss: 0.108\n",
            "[901,     3] loss: 0.108\n",
            "[902,     3] loss: 0.107\n",
            "[903,     3] loss: 0.101\n",
            "[904,     3] loss: 0.114\n",
            "[905,     3] loss: 0.111\n",
            "[906,     3] loss: 0.105\n",
            "[907,     3] loss: 0.113\n",
            "[908,     3] loss: 0.110\n",
            "[909,     3] loss: 0.100\n",
            "[910,     3] loss: 0.115\n",
            "[911,     3] loss: 0.110\n",
            "[912,     3] loss: 0.106\n",
            "[913,     3] loss: 0.107\n",
            "[914,     3] loss: 0.110\n",
            "[915,     3] loss: 0.109\n",
            "[916,     3] loss: 0.113\n",
            "[917,     3] loss: 0.114\n",
            "[918,     3] loss: 0.096\n",
            "[919,     3] loss: 0.111\n",
            "[920,     3] loss: 0.110\n",
            "[921,     3] loss: 0.109\n",
            "[922,     3] loss: 0.115\n",
            "[923,     3] loss: 0.112\n",
            "[924,     3] loss: 0.101\n",
            "[925,     3] loss: 0.100\n",
            "[926,     3] loss: 0.115\n",
            "[927,     3] loss: 0.109\n",
            "[928,     3] loss: 0.104\n",
            "[929,     3] loss: 0.113\n",
            "[930,     3] loss: 0.102\n",
            "[931,     3] loss: 0.110\n",
            "[932,     3] loss: 0.109\n",
            "[933,     3] loss: 0.106\n",
            "[934,     3] loss: 0.108\n",
            "[935,     3] loss: 0.108\n",
            "[936,     3] loss: 0.110\n",
            "[937,     3] loss: 0.111\n",
            "[938,     3] loss: 0.110\n",
            "[939,     3] loss: 0.105\n",
            "[940,     3] loss: 0.107\n",
            "[941,     3] loss: 0.107\n",
            "[942,     3] loss: 0.106\n",
            "[943,     3] loss: 0.109\n",
            "[944,     3] loss: 0.109\n",
            "[945,     3] loss: 0.103\n",
            "[946,     3] loss: 0.117\n",
            "[947,     3] loss: 0.100\n",
            "[948,     3] loss: 0.114\n",
            "[949,     3] loss: 0.105\n",
            "[950,     3] loss: 0.109\n",
            "[951,     3] loss: 0.100\n",
            "[952,     3] loss: 0.112\n",
            "[953,     3] loss: 0.097\n",
            "[954,     3] loss: 0.113\n",
            "[955,     3] loss: 0.117\n",
            "[956,     3] loss: 0.102\n",
            "[957,     3] loss: 0.110\n",
            "[958,     3] loss: 0.113\n",
            "[959,     3] loss: 0.109\n",
            "[960,     3] loss: 0.103\n",
            "[961,     3] loss: 0.111\n",
            "[962,     3] loss: 0.106\n",
            "[963,     3] loss: 0.111\n",
            "[964,     3] loss: 0.102\n",
            "[965,     3] loss: 0.101\n",
            "[966,     3] loss: 0.114\n",
            "[967,     3] loss: 0.100\n",
            "[968,     3] loss: 0.115\n",
            "[969,     3] loss: 0.114\n",
            "[970,     3] loss: 0.104\n",
            "[971,     3] loss: 0.113\n",
            "[972,     3] loss: 0.107\n",
            "[973,     3] loss: 0.101\n",
            "[974,     3] loss: 0.105\n",
            "[975,     3] loss: 0.112\n",
            "[976,     3] loss: 0.106\n",
            "[977,     3] loss: 0.111\n",
            "[978,     3] loss: 0.111\n",
            "[979,     3] loss: 0.100\n",
            "[980,     3] loss: 0.104\n",
            "[981,     3] loss: 0.105\n",
            "[982,     3] loss: 0.109\n",
            "[983,     3] loss: 0.103\n",
            "[984,     3] loss: 0.107\n",
            "[985,     3] loss: 0.112\n",
            "[986,     3] loss: 0.118\n",
            "[987,     3] loss: 0.100\n",
            "[988,     3] loss: 0.101\n",
            "[989,     3] loss: 0.116\n",
            "[990,     3] loss: 0.101\n",
            "[991,     3] loss: 0.108\n",
            "[992,     3] loss: 0.105\n",
            "[993,     3] loss: 0.100\n",
            "[994,     3] loss: 0.105\n",
            "[995,     3] loss: 0.102\n",
            "[996,     3] loss: 0.111\n",
            "[997,     3] loss: 0.104\n",
            "[998,     3] loss: 0.103\n",
            "[999,     3] loss: 0.117\n",
            "[1000,     3] loss: 0.099\n",
            "Finished Training\n"
          ],
          "name": "stdout"
        }
      ]
    },
    {
      "cell_type": "code",
      "metadata": {
        "id": "5gQoPST5zW2t"
      },
      "source": [
        "df_train = pd.DataFrame()\n",
        "df_test = pd.DataFrame()"
      ],
      "execution_count": 54,
      "outputs": []
    },
    {
      "cell_type": "code",
      "metadata": {
        "id": "In76SYH_zZHV"
      },
      "source": [
        "columns = [\"epochs\", \"argmax > 0.5\" ,\"argmax < 0.5\", \"focus_true_pred_true\", \"focus_false_pred_true\", \"focus_true_pred_false\", \"focus_false_pred_false\" ]"
      ],
      "execution_count": 55,
      "outputs": []
    },
    {
      "cell_type": "code",
      "metadata": {
        "id": "BS4HtOHEzZ0E"
      },
      "source": [
        "df_train[columns[0]] = col1\n",
        "df_train[columns[1]] = col2\n",
        "df_train[columns[2]] = col3\n",
        "df_train[columns[3]] = col4\n",
        "df_train[columns[4]] = col5\n",
        "df_train[columns[5]] = col6\n",
        "df_train[columns[6]] = col7\n",
        "\n",
        "df_test[columns[0]] = col1\n",
        "df_test[columns[1]] = col8\n",
        "df_test[columns[2]] = col9\n",
        "df_test[columns[3]] = col10\n",
        "df_test[columns[4]] = col11\n",
        "df_test[columns[5]] = col12\n",
        "df_test[columns[6]] = col13"
      ],
      "execution_count": 56,
      "outputs": []
    },
    {
      "cell_type": "code",
      "metadata": {
        "id": "1UbTkfLUINTI",
        "colab": {
          "base_uri": "https://localhost:8080/",
          "height": 424
        },
        "outputId": "c493bdc6-907f-4bd6-a064-c4cc2158f8a1"
      },
      "source": [
        "df_train"
      ],
      "execution_count": 57,
      "outputs": [
        {
          "output_type": "execute_result",
          "data": {
            "text/html": [
              "<div>\n",
              "<style scoped>\n",
              "    .dataframe tbody tr th:only-of-type {\n",
              "        vertical-align: middle;\n",
              "    }\n",
              "\n",
              "    .dataframe tbody tr th {\n",
              "        vertical-align: top;\n",
              "    }\n",
              "\n",
              "    .dataframe thead th {\n",
              "        text-align: right;\n",
              "    }\n",
              "</style>\n",
              "<table border=\"1\" class=\"dataframe\">\n",
              "  <thead>\n",
              "    <tr style=\"text-align: right;\">\n",
              "      <th></th>\n",
              "      <th>epochs</th>\n",
              "      <th>argmax &gt; 0.5</th>\n",
              "      <th>argmax &lt; 0.5</th>\n",
              "      <th>focus_true_pred_true</th>\n",
              "      <th>focus_false_pred_true</th>\n",
              "      <th>focus_true_pred_false</th>\n",
              "      <th>focus_false_pred_false</th>\n",
              "    </tr>\n",
              "  </thead>\n",
              "  <tbody>\n",
              "    <tr>\n",
              "      <th>0</th>\n",
              "      <td>0</td>\n",
              "      <td>0</td>\n",
              "      <td>1000</td>\n",
              "      <td>80</td>\n",
              "      <td>621</td>\n",
              "      <td>39</td>\n",
              "      <td>260</td>\n",
              "    </tr>\n",
              "    <tr>\n",
              "      <th>1</th>\n",
              "      <td>1</td>\n",
              "      <td>0</td>\n",
              "      <td>1000</td>\n",
              "      <td>620</td>\n",
              "      <td>152</td>\n",
              "      <td>161</td>\n",
              "      <td>67</td>\n",
              "    </tr>\n",
              "    <tr>\n",
              "      <th>2</th>\n",
              "      <td>6</td>\n",
              "      <td>401</td>\n",
              "      <td>599</td>\n",
              "      <td>764</td>\n",
              "      <td>0</td>\n",
              "      <td>236</td>\n",
              "      <td>0</td>\n",
              "    </tr>\n",
              "    <tr>\n",
              "      <th>3</th>\n",
              "      <td>11</td>\n",
              "      <td>508</td>\n",
              "      <td>492</td>\n",
              "      <td>821</td>\n",
              "      <td>0</td>\n",
              "      <td>179</td>\n",
              "      <td>0</td>\n",
              "    </tr>\n",
              "    <tr>\n",
              "      <th>4</th>\n",
              "      <td>16</td>\n",
              "      <td>451</td>\n",
              "      <td>549</td>\n",
              "      <td>859</td>\n",
              "      <td>58</td>\n",
              "      <td>83</td>\n",
              "      <td>0</td>\n",
              "    </tr>\n",
              "    <tr>\n",
              "      <th>...</th>\n",
              "      <td>...</td>\n",
              "      <td>...</td>\n",
              "      <td>...</td>\n",
              "      <td>...</td>\n",
              "      <td>...</td>\n",
              "      <td>...</td>\n",
              "      <td>...</td>\n",
              "    </tr>\n",
              "    <tr>\n",
              "      <th>196</th>\n",
              "      <td>976</td>\n",
              "      <td>954</td>\n",
              "      <td>46</td>\n",
              "      <td>951</td>\n",
              "      <td>0</td>\n",
              "      <td>49</td>\n",
              "      <td>0</td>\n",
              "    </tr>\n",
              "    <tr>\n",
              "      <th>197</th>\n",
              "      <td>981</td>\n",
              "      <td>949</td>\n",
              "      <td>51</td>\n",
              "      <td>949</td>\n",
              "      <td>0</td>\n",
              "      <td>51</td>\n",
              "      <td>0</td>\n",
              "    </tr>\n",
              "    <tr>\n",
              "      <th>198</th>\n",
              "      <td>986</td>\n",
              "      <td>913</td>\n",
              "      <td>87</td>\n",
              "      <td>944</td>\n",
              "      <td>0</td>\n",
              "      <td>56</td>\n",
              "      <td>0</td>\n",
              "    </tr>\n",
              "    <tr>\n",
              "      <th>199</th>\n",
              "      <td>991</td>\n",
              "      <td>942</td>\n",
              "      <td>58</td>\n",
              "      <td>949</td>\n",
              "      <td>0</td>\n",
              "      <td>51</td>\n",
              "      <td>0</td>\n",
              "    </tr>\n",
              "    <tr>\n",
              "      <th>200</th>\n",
              "      <td>996</td>\n",
              "      <td>940</td>\n",
              "      <td>60</td>\n",
              "      <td>954</td>\n",
              "      <td>0</td>\n",
              "      <td>46</td>\n",
              "      <td>0</td>\n",
              "    </tr>\n",
              "  </tbody>\n",
              "</table>\n",
              "<p>201 rows × 7 columns</p>\n",
              "</div>"
            ],
            "text/plain": [
              "     epochs  argmax > 0.5  ...  focus_true_pred_false  focus_false_pred_false\n",
              "0         0             0  ...                     39                     260\n",
              "1         1             0  ...                    161                      67\n",
              "2         6           401  ...                    236                       0\n",
              "3        11           508  ...                    179                       0\n",
              "4        16           451  ...                     83                       0\n",
              "..      ...           ...  ...                    ...                     ...\n",
              "196     976           954  ...                     49                       0\n",
              "197     981           949  ...                     51                       0\n",
              "198     986           913  ...                     56                       0\n",
              "199     991           942  ...                     51                       0\n",
              "200     996           940  ...                     46                       0\n",
              "\n",
              "[201 rows x 7 columns]"
            ]
          },
          "metadata": {
            "tags": []
          },
          "execution_count": 57
        }
      ]
    },
    {
      "cell_type": "code",
      "metadata": {
        "colab": {
          "base_uri": "https://localhost:8080/",
          "height": 573
        },
        "id": "xyna3USAeKZ9",
        "outputId": "9cde22c3-2b93-4f85-9442-d37dd66eb96e"
      },
      "source": [
        "# plt.figure(12,12)\n",
        "plt.plot(col1,col2, label='argmax > 0.5')\n",
        "plt.plot(col1,col3, label='argmax < 0.5')\n",
        "\n",
        "plt.legend(loc='center left', bbox_to_anchor=(1, 0.5))\n",
        "plt.xlabel(\"epochs\")\n",
        "plt.ylabel(\"training data\")\n",
        "plt.title(\"On Training set\")\n",
        "plt.show()\n",
        "\n",
        "plt.plot(col1,col4, label =\"focus_true_pred_true \")\n",
        "plt.plot(col1,col5, label =\"focus_false_pred_true \")\n",
        "plt.plot(col1,col6, label =\"focus_true_pred_false \")\n",
        "plt.plot(col1,col7, label =\"focus_false_pred_false \")\n",
        "plt.title(\"On Training set\")\n",
        "plt.legend(loc='center left', bbox_to_anchor=(1, 0.5))\n",
        "plt.xlabel(\"epochs\")\n",
        "plt.ylabel(\"training data\")\n",
        "plt.show()"
      ],
      "execution_count": 58,
      "outputs": [
        {
          "output_type": "display_data",
          "data": {
            "image/png": "[encoded data removed]",
            "text/plain": [
              "<Figure size 432x288 with 1 Axes>"
            ]
          },
          "metadata": {
            "tags": [],
            "needs_background": "light"
          }
        },
        {
          "output_type": "display_data",
          "data": {
            "image/png": "[encoded data removed]",
            "text/plain": [
              "<Figure size 432x288 with 1 Axes>"
            ]
          },
          "metadata": {
            "tags": [],
            "needs_background": "light"
          }
        }
      ]
    },
    {
      "cell_type": "code",
      "metadata": {
        "colab": {
          "base_uri": "https://localhost:8080/",
          "height": 354
        },
        "id": "YU0LC2_JSzhT",
        "outputId": "daada4fe-b31f-4097-b6f6-302243a70e92"
      },
      "source": [
        "plt.figure(figsize=(6,5))\n",
        "plt.plot(col1,np.array(col4)/10, label =\"FTPT\")\n",
        "plt.plot(col1,np.array(col5)/10, label =\"FFPT\")\n",
        "plt.plot(col1,np.array(col6)/10, label =\"FTPF\")\n",
        "plt.plot(col1,np.array(col7)/10, label =\"FFPF\")\n",
        "plt.title(\"Dataset1 - SDC On Train set\")\n",
        "plt.grid()\n",
        "# plt.legend(loc='center left', bbox_to_anchor=(1, 0.5))\n",
        "plt.legend()\n",
        "plt.xlabel(\"epochs\", fontsize=14, fontweight = 'bold')\n",
        "plt.ylabel(\"percentage train data\", fontsize=14, fontweight = 'bold')\n",
        "plt.savefig(path+\"ds1_train.png\", bbox_inches=\"tight\")\n",
        "plt.savefig(path+\"ds1_train.pdf\", bbox_inches=\"tight\")\n",
        "plt.savefig(\"ds1_train.png\", bbox_inches=\"tight\")\n",
        "plt.savefig(\"ds1_train.pdf\", bbox_inches=\"tight\")\n",
        "plt.show()"
      ],
      "execution_count": 59,
      "outputs": [
        {
          "output_type": "display_data",
          "data": {
            "image/png": "[encoded data removed]",
            "text/plain": [
              "<Figure size 432x360 with 1 Axes>"
            ]
          },
          "metadata": {
            "tags": [],
            "needs_background": "light"
          }
        }
      ]
    },
    {
      "cell_type": "code",
      "metadata": {
        "colab": {
          "base_uri": "https://localhost:8080/",
          "height": 424
        },
        "id": "hrb68lvueMA-",
        "outputId": "b3c29854-45fd-40db-ea11-4595af02fe84"
      },
      "source": [
        "df_test"
      ],
      "execution_count": 60,
      "outputs": [
        {
          "output_type": "execute_result",
          "data": {
            "text/html": [
              "<div>\n",
              "<style scoped>\n",
              "    .dataframe tbody tr th:only-of-type {\n",
              "        vertical-align: middle;\n",
              "    }\n",
              "\n",
              "    .dataframe tbody tr th {\n",
              "        vertical-align: top;\n",
              "    }\n",
              "\n",
              "    .dataframe thead th {\n",
              "        text-align: right;\n",
              "    }\n",
              "</style>\n",
              "<table border=\"1\" class=\"dataframe\">\n",
              "  <thead>\n",
              "    <tr style=\"text-align: right;\">\n",
              "      <th></th>\n",
              "      <th>epochs</th>\n",
              "      <th>argmax &gt; 0.5</th>\n",
              "      <th>argmax &lt; 0.5</th>\n",
              "      <th>focus_true_pred_true</th>\n",
              "      <th>focus_false_pred_true</th>\n",
              "      <th>focus_true_pred_false</th>\n",
              "      <th>focus_false_pred_false</th>\n",
              "    </tr>\n",
              "  </thead>\n",
              "  <tbody>\n",
              "    <tr>\n",
              "      <th>0</th>\n",
              "      <td>0</td>\n",
              "      <td>0</td>\n",
              "      <td>1000</td>\n",
              "      <td>84</td>\n",
              "      <td>616</td>\n",
              "      <td>38</td>\n",
              "      <td>262</td>\n",
              "    </tr>\n",
              "    <tr>\n",
              "      <th>1</th>\n",
              "      <td>1</td>\n",
              "      <td>0</td>\n",
              "      <td>1000</td>\n",
              "      <td>758</td>\n",
              "      <td>0</td>\n",
              "      <td>242</td>\n",
              "      <td>0</td>\n",
              "    </tr>\n",
              "    <tr>\n",
              "      <th>2</th>\n",
              "      <td>6</td>\n",
              "      <td>425</td>\n",
              "      <td>575</td>\n",
              "      <td>777</td>\n",
              "      <td>0</td>\n",
              "      <td>223</td>\n",
              "      <td>0</td>\n",
              "    </tr>\n",
              "    <tr>\n",
              "      <th>3</th>\n",
              "      <td>11</td>\n",
              "      <td>585</td>\n",
              "      <td>415</td>\n",
              "      <td>806</td>\n",
              "      <td>0</td>\n",
              "      <td>194</td>\n",
              "      <td>0</td>\n",
              "    </tr>\n",
              "    <tr>\n",
              "      <th>4</th>\n",
              "      <td>16</td>\n",
              "      <td>574</td>\n",
              "      <td>426</td>\n",
              "      <td>843</td>\n",
              "      <td>58</td>\n",
              "      <td>99</td>\n",
              "      <td>0</td>\n",
              "    </tr>\n",
              "    <tr>\n",
              "      <th>...</th>\n",
              "      <td>...</td>\n",
              "      <td>...</td>\n",
              "      <td>...</td>\n",
              "      <td>...</td>\n",
              "      <td>...</td>\n",
              "      <td>...</td>\n",
              "      <td>...</td>\n",
              "    </tr>\n",
              "    <tr>\n",
              "      <th>196</th>\n",
              "      <td>976</td>\n",
              "      <td>937</td>\n",
              "      <td>63</td>\n",
              "      <td>952</td>\n",
              "      <td>0</td>\n",
              "      <td>48</td>\n",
              "      <td>0</td>\n",
              "    </tr>\n",
              "    <tr>\n",
              "      <th>197</th>\n",
              "      <td>981</td>\n",
              "      <td>931</td>\n",
              "      <td>69</td>\n",
              "      <td>949</td>\n",
              "      <td>0</td>\n",
              "      <td>51</td>\n",
              "      <td>0</td>\n",
              "    </tr>\n",
              "    <tr>\n",
              "      <th>198</th>\n",
              "      <td>986</td>\n",
              "      <td>926</td>\n",
              "      <td>74</td>\n",
              "      <td>949</td>\n",
              "      <td>0</td>\n",
              "      <td>51</td>\n",
              "      <td>0</td>\n",
              "    </tr>\n",
              "    <tr>\n",
              "      <th>199</th>\n",
              "      <td>991</td>\n",
              "      <td>942</td>\n",
              "      <td>58</td>\n",
              "      <td>950</td>\n",
              "      <td>0</td>\n",
              "      <td>50</td>\n",
              "      <td>0</td>\n",
              "    </tr>\n",
              "    <tr>\n",
              "      <th>200</th>\n",
              "      <td>996</td>\n",
              "      <td>931</td>\n",
              "      <td>69</td>\n",
              "      <td>953</td>\n",
              "      <td>0</td>\n",
              "      <td>47</td>\n",
              "      <td>0</td>\n",
              "    </tr>\n",
              "  </tbody>\n",
              "</table>\n",
              "<p>201 rows × 7 columns</p>\n",
              "</div>"
            ],
            "text/plain": [
              "     epochs  argmax > 0.5  ...  focus_true_pred_false  focus_false_pred_false\n",
              "0         0             0  ...                     38                     262\n",
              "1         1             0  ...                    242                       0\n",
              "2         6           425  ...                    223                       0\n",
              "3        11           585  ...                    194                       0\n",
              "4        16           574  ...                     99                       0\n",
              "..      ...           ...  ...                    ...                     ...\n",
              "196     976           937  ...                     48                       0\n",
              "197     981           931  ...                     51                       0\n",
              "198     986           926  ...                     51                       0\n",
              "199     991           942  ...                     50                       0\n",
              "200     996           931  ...                     47                       0\n",
              "\n",
              "[201 rows x 7 columns]"
            ]
          },
          "metadata": {
            "tags": []
          },
          "execution_count": 60
        }
      ]
    },
    {
      "cell_type": "code",
      "metadata": {
        "colab": {
          "base_uri": "https://localhost:8080/",
          "height": 573
        },
        "id": "qR5SnitGeNMN",
        "outputId": "966fb4fb-f96c-43e0-89f6-3fde426810df"
      },
      "source": [
        "# plt.figure(12,12)\n",
        "plt.plot(col1,col8, label='argmax > 0.5')\n",
        "plt.plot(col1,col9, label='argmax < 0.5')\n",
        "\n",
        "plt.legend(loc='center left', bbox_to_anchor=(1, 0.5))\n",
        "plt.xlabel(\"epochs\")\n",
        "plt.ylabel(\"Testing data\")\n",
        "plt.title(\"On Testing set\")\n",
        "plt.show()\n",
        "\n",
        "plt.plot(col1,col10, label =\"focus_true_pred_true \")\n",
        "plt.plot(col1,col11, label =\"focus_false_pred_true \")\n",
        "plt.plot(col1,col12, label =\"focus_true_pred_false \")\n",
        "plt.plot(col1,col13, label =\"focus_false_pred_false \")\n",
        "plt.title(\"On Testing set\")\n",
        "plt.legend(loc='center left', bbox_to_anchor=(1, 0.5))\n",
        "plt.xlabel(\"epochs\")\n",
        "plt.ylabel(\"Testing data\")\n",
        "plt.show()"
      ],
      "execution_count": 61,
      "outputs": [
        {
          "output_type": "display_data",
          "data": {
            "image/png": "[encoded data removed]",
            "text/plain": [
              "<Figure size 432x288 with 1 Axes>"
            ]
          },
          "metadata": {
            "tags": [],
            "needs_background": "light"
          }
        },
        {
          "output_type": "display_data",
          "data": {
            "image/png": "[encoded data removed]",
            "text/plain": [
              "<Figure size 432x288 with 1 Axes>"
            ]
          },
          "metadata": {
            "tags": [],
            "needs_background": "light"
          }
        }
      ]
    },
    {
      "cell_type": "code",
      "metadata": {
        "colab": {
          "base_uri": "https://localhost:8080/",
          "height": 354
        },
        "id": "CPFqF3MdUC6D",
        "outputId": "a2e1fb52-3e9d-499b-a0ec-b8bc94431d0d"
      },
      "source": [
        "plt.figure(figsize=(6,5))\n",
        "plt.plot(col1,np.array(col10)/10, label =\"FTPT\")\n",
        "plt.plot(col1,np.array(col11)/10, label =\"FFPT\")\n",
        "plt.plot(col1,np.array(col12)/10, label =\"FTPF\")\n",
        "plt.plot(col1,np.array(col13)/10, label =\"FFPF\")\n",
        "plt.title(\"Dataset1 - SDC On Test set\")\n",
        "plt.grid()\n",
        "# plt.legend(loc='center left', bbox_to_anchor=(1, 0.5))\n",
        "plt.legend()\n",
        "plt.xlabel(\"epochs\", fontsize=14, fontweight = 'bold')\n",
        "plt.ylabel(\"percentage test data\", fontsize=14, fontweight = 'bold')\n",
        "plt.savefig(path+\"ds1_test.png\", bbox_inches=\"tight\")\n",
        "plt.savefig(path+\"ds1_test.pdf\", bbox_inches=\"tight\")\n",
        "plt.savefig(\"ds1_test.png\", bbox_inches=\"tight\")\n",
        "plt.savefig(\"ds1_test.pdf\", bbox_inches=\"tight\")\n",
        "plt.show()"
      ],
      "execution_count": 62,
      "outputs": [
        {
          "output_type": "display_data",
          "data": {
            "image/png": "[encoded data removed]",
            "text/plain": [
              "<Figure size 432x360 with 1 Axes>"
            ]
          },
          "metadata": {
            "tags": [],
            "needs_background": "light"
          }
        }
      ]
    },
    {
      "cell_type": "code",
      "metadata": {
        "colab": {
          "base_uri": "https://localhost:8080/"
        },
        "id": "TGrzYDWxeO6m",
        "outputId": "208fa3fb-4447-4138-db91-aa9ad9f73dd8"
      },
      "source": [
        "correct = 0\n",
        "total = 0\n",
        "count = 0\n",
        "flag = 1\n",
        "focus_true_pred_true =0\n",
        "focus_false_pred_true =0\n",
        "focus_true_pred_false =0\n",
        "focus_false_pred_false =0\n",
        "\n",
        "argmax_more_than_half = 0\n",
        "argmax_less_than_half =0\n",
        "\n",
        "with torch.no_grad():\n",
        "  for data in train_loader:\n",
        "    inputs, labels , fore_idx = data\n",
        "    inputs = inputs.double()\n",
        "    inputs, labels , fore_idx = inputs.to(\"cuda\"),labels.to(\"cuda\"), fore_idx.to(\"cuda\")\n",
        "    alphas, avg_images = focus_net(inputs)\n",
        "    outputs = classify(avg_images)\n",
        "\n",
        "    _, predicted = torch.max(outputs.data, 1)\n",
        "\n",
        "    for j in range(labels.size(0)):\n",
        "      focus = torch.argmax(alphas[j])\n",
        "      if alphas[j][focus] >= 0.5 :\n",
        "        argmax_more_than_half += 1\n",
        "      else:\n",
        "        argmax_less_than_half += 1\n",
        "\n",
        "      if(focus == fore_idx[j] and predicted[j] == labels[j]):\n",
        "          focus_true_pred_true += 1\n",
        "      elif(focus != fore_idx[j] and predicted[j] == labels[j]):\n",
        "        focus_false_pred_true += 1\n",
        "      elif(focus == fore_idx[j] and predicted[j] != labels[j]):\n",
        "        focus_true_pred_false += 1\n",
        "      elif(focus != fore_idx[j] and predicted[j] != labels[j]):\n",
        "        focus_false_pred_false += 1\n",
        "\n",
        "    total += labels.size(0)\n",
        "    correct += (predicted == labels).sum().item()\n",
        "\n",
        "print('Accuracy of the network on the 1000 train images: %d %%' % (\n",
        "    100 * correct / total))\n",
        "print(\"total correct\", correct)\n",
        "print(\"total train set images\", total)\n",
        "\n",
        "print(\"focus_true_pred_true %d =============> FTPT : %d %%\" % (focus_true_pred_true , (100 * focus_true_pred_true / total) ) )\n",
        "print(\"focus_false_pred_true %d =============> FFPT : %d %%\" % (focus_false_pred_true, (100 * focus_false_pred_true / total) ) )\n",
        "print(\"focus_true_pred_false %d =============> FTPF : %d %%\" %( focus_true_pred_false , ( 100 * focus_true_pred_false / total) ) )\n",
        "print(\"focus_false_pred_false %d =============> FFPF : %d %%\" % (focus_false_pred_false, ( 100 * focus_false_pred_false / total) ) )\n",
        "\n",
        "print(\"argmax_more_than_half ==================> \",argmax_more_than_half)\n",
        "print(\"argmax_less_than_half ==================> \",argmax_less_than_half)"
      ],
      "execution_count": 63,
      "outputs": [
        {
          "output_type": "stream",
          "text": [
            "Accuracy of the network on the 1000 train images: 94 %\n",
            "total correct 949\n",
            "total train set images 1000\n",
            "focus_true_pred_true 949 =============> FTPT : 94 %\n",
            "focus_false_pred_true 0 =============> FFPT : 0 %\n",
            "focus_true_pred_false 51 =============> FTPF : 5 %\n",
            "focus_false_pred_false 0 =============> FFPF : 0 %\n",
            "argmax_more_than_half ==================>  925\n",
            "argmax_less_than_half ==================>  75\n"
          ],
          "name": "stdout"
        }
      ]
    },
    {
      "cell_type": "code",
      "metadata": {
        "colab": {
          "base_uri": "https://localhost:8080/"
        },
        "id": "67_H9pkCeQNs",
        "outputId": "34527b63-2dd6-4056-a83b-df408db3e855"
      },
      "source": [
        "correct = 0\n",
        "total = 0\n",
        "count = 0\n",
        "flag = 1\n",
        "focus_true_pred_true =0\n",
        "focus_false_pred_true =0\n",
        "focus_true_pred_false =0\n",
        "focus_false_pred_false =0\n",
        "\n",
        "argmax_more_than_half = 0\n",
        "argmax_less_than_half =0\n",
        "\n",
        "with torch.no_grad():\n",
        "  for data in test_loader:\n",
        "    inputs, labels , fore_idx = data\n",
        "    inputs = inputs.double()\n",
        "    inputs, labels , fore_idx = inputs.to(\"cuda\"),labels.to(\"cuda\"), fore_idx.to(\"cuda\")\n",
        "    alphas, avg_images = focus_net(inputs)\n",
        "    outputs = classify(avg_images)\n",
        "\n",
        "    _, predicted = torch.max(outputs.data, 1)\n",
        "\n",
        "    for j in range(labels.size(0)):\n",
        "      focus = torch.argmax(alphas[j])\n",
        "      if alphas[j][focus] >= 0.5 :\n",
        "        argmax_more_than_half += 1\n",
        "      else:\n",
        "        argmax_less_than_half += 1\n",
        "\n",
        "      if(focus == fore_idx[j] and predicted[j] == labels[j]):\n",
        "          focus_true_pred_true += 1\n",
        "      elif(focus != fore_idx[j] and predicted[j] == labels[j]):\n",
        "        focus_false_pred_true += 1\n",
        "      elif(focus == fore_idx[j] and predicted[j] != labels[j]):\n",
        "        focus_true_pred_false += 1\n",
        "      elif(focus != fore_idx[j] and predicted[j] != labels[j]):\n",
        "        focus_false_pred_false += 1\n",
        "\n",
        "    total += labels.size(0)\n",
        "    correct += (predicted == labels).sum().item()\n",
        "\n",
        "print('Accuracy of the network on the 1000 test images: %d %%' % (\n",
        "    100 * correct / total))\n",
        "print(\"total correct\", correct)\n",
        "print(\"total train set images\", total)\n",
        "\n",
        "print(\"focus_true_pred_true %d =============> FTPT : %d %%\" % (focus_true_pred_true , (100 * focus_true_pred_true / total) ) )\n",
        "print(\"focus_false_pred_true %d =============> FFPT : %d %%\" % (focus_false_pred_true, (100 * focus_false_pred_true / total) ) )\n",
        "print(\"focus_true_pred_false %d =============> FTPF : %d %%\" %( focus_true_pred_false , ( 100 * focus_true_pred_false / total) ) )\n",
        "print(\"focus_false_pred_false %d =============> FFPF : %d %%\" % (focus_false_pred_false, ( 100 * focus_false_pred_false / total) ) )\n",
        "\n",
        "print(\"argmax_more_than_half ==================> \",argmax_more_than_half)\n",
        "print(\"argmax_less_than_half ==================> \",argmax_less_than_half)"
      ],
      "execution_count": 64,
      "outputs": [
        {
          "output_type": "stream",
          "text": [
            "Accuracy of the network on the 1000 test images: 94 %\n",
            "total correct 948\n",
            "total train set images 1000\n",
            "focus_true_pred_true 948 =============> FTPT : 94 %\n",
            "focus_false_pred_true 0 =============> FFPT : 0 %\n",
            "focus_true_pred_false 52 =============> FTPF : 5 %\n",
            "focus_false_pred_false 0 =============> FFPF : 0 %\n",
            "argmax_more_than_half ==================>  928\n",
            "argmax_less_than_half ==================>  72\n"
          ],
          "name": "stdout"
        }
      ]
    },
    {
      "cell_type": "code",
      "metadata": {
        "colab": {
          "base_uri": "https://localhost:8080/"
        },
        "id": "jhvhkEAyeRpt",
        "outputId": "e53ed7b6-8d55-4c75-9e2b-7a77462257fe"
      },
      "source": [
        "correct = 0\n",
        "total = 0\n",
        "\n",
        "with torch.no_grad():\n",
        "  for data in train_loader:\n",
        "    inputs, labels , fore_idx = data\n",
        "    inputs = inputs.double()\n",
        "    inputs, labels = inputs.to(\"cuda\"), labels.to(\"cuda\")\n",
        "    alphas, avg_images = focus_net(inputs)\n",
        "    outputs = classify(avg_images)\n",
        "\n",
        "    _, predicted = torch.max(outputs.data, 1)\n",
        "\n",
        "    total += labels.size(0)\n",
        "    correct += (predicted == labels).sum().item()\n",
        "\n",
        "print('Accuracy of the network on the 1000 train images: %d %%' % ( 100 * correct / total))\n",
        "print(\"total correct\", correct)\n",
        "print(\"total train set images\", total)"
      ],
      "execution_count": 65,
      "outputs": [
        {
          "output_type": "stream",
          "text": [
            "Accuracy of the network on the 1000 train images: 94 %\n",
            "total correct 949\n",
            "total train set images 1000\n"
          ],
          "name": "stdout"
        }
      ]
    },
    {
      "cell_type": "code",
      "metadata": {
        "colab": {
          "base_uri": "https://localhost:8080/"
        },
        "id": "OKcmpKwGeS8M",
        "outputId": "6b1ac5dd-3355-4751-f4dd-5ff52c588ff2"
      },
      "source": [
        "correct = 0\n",
        "total = 0\n",
        "\n",
        "with torch.no_grad():\n",
        "  for data in test_loader:\n",
        "    inputs, labels , fore_idx = data\n",
        "    inputs = inputs.double()\n",
        "    inputs, labels = inputs.to(\"cuda\"), labels.to(\"cuda\")\n",
        "    alphas, avg_images = focus_net(inputs)\n",
        "    outputs = classify(avg_images)\n",
        "\n",
        "    _, predicted = torch.max(outputs.data, 1)\n",
        "\n",
        "    total += labels.size(0)\n",
        "    correct += (predicted == labels).sum().item()\n",
        "\n",
        "print('Accuracy of the network on the 1000 test images: %d %%' % ( 100 * correct / total))\n",
        "print(\"total correct\", correct)\n",
        "print(\"total train set images\", total)"
      ],
      "execution_count": 66,
      "outputs": [
        {
          "output_type": "stream",
          "text": [
            "Accuracy of the network on the 1000 test images: 94 %\n",
            "total correct 948\n",
            "total train set images 1000\n"
          ],
          "name": "stdout"
        }
      ]
    },
    {
      "cell_type": "code",
      "metadata": {
        "id": "xlalQug_egcl"
      },
      "source": [
        ""
      ],
      "execution_count": 66,
      "outputs": []
    }
  ]
}