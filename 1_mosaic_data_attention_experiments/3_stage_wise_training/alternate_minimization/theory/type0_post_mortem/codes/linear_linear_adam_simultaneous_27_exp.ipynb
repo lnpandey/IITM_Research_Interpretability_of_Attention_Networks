{
  "nbformat": 4,
  "nbformat_minor": 0,
  "metadata": {
    "accelerator": "GPU",
    "colab": {
      "name": "linear_linear_adam_simultaneous_27_exp.ipynb",
      "provenance": [],
      "collapsed_sections": []
    },
    "kernelspec": {
      "display_name": "Python 3",
      "language": "python",
      "name": "python3"
    },
    "language_info": {
      "codemirror_mode": {
        "name": "ipython",
        "version": 3
      },
      "file_extension": ".py",
      "mimetype": "text/x-python",
      "name": "python",
      "nbconvert_exporter": "python",
      "pygments_lexer": "ipython3",
      "version": "3.6.5"
    }
  },
  "cells": [
    {
      "cell_type": "code",
      "metadata": {
        "colab": {
          "base_uri": "https://localhost:8080/"
        },
        "id": "N2_J4Rw2r0SQ",
        "outputId": "483082fd-0b1c-4dac-c627-8908fa5ce879"
      },
      "source": [
        "import numpy as np\n",
        "import pandas as pd\n",
        "from matplotlib import pyplot as plt\n",
        "from tqdm import tqdm\n",
        "%matplotlib inline\n",
        "from torch.utils.data import Dataset, DataLoader\n",
        "import torch\n",
        "import torchvision\n",
        "\n",
        "import torch.nn as nn\n",
        "import torch.optim as optim\n",
        "from torch.nn import functional as F\n",
        "device = torch.device(\"cuda\" if torch.cuda.is_available() else \"cpu\")\n",
        "print(device)"
      ],
      "execution_count": 1,
      "outputs": [
        {
          "output_type": "stream",
          "text": [
            "cuda\n"
          ],
          "name": "stdout"
        }
      ]
    },
    {
      "cell_type": "markdown",
      "metadata": {
        "id": "F6fjud_Fr0Sa"
      },
      "source": [
        "# Generate dataset"
      ]
    },
    {
      "cell_type": "code",
      "metadata": {
        "colab": {
          "base_uri": "https://localhost:8080/"
        },
        "id": "CqdXHO0Cr0Sd",
        "outputId": "bc024be5-2645-47db-f01e-0e69c03df20e"
      },
      "source": [
        "y = np.random.randint(0,3,500)\n",
        "idx= []\n",
        "for i in range(3):\n",
        "    print(i,sum(y==i))\n",
        "    idx.append(y==i)"
      ],
      "execution_count": 2,
      "outputs": [
        {
          "output_type": "stream",
          "text": [
            "0 167\n",
            "1 166\n",
            "2 167\n"
          ],
          "name": "stdout"
        }
      ]
    },
    {
      "cell_type": "code",
      "metadata": {
        "id": "ddhXyODwr0Sk"
      },
      "source": [
        "x = np.zeros((500,))"
      ],
      "execution_count": 3,
      "outputs": []
    },
    {
      "cell_type": "code",
      "metadata": {
        "id": "DyV3N2DIr0Sp"
      },
      "source": [
        "np.random.seed(12)\n",
        "x[idx[0]] = np.random.uniform(low =-1,high =0,size= sum(idx[0]))\n",
        "x[idx[1]] = np.random.uniform(low =0,high =1,size= sum(idx[1]))\n",
        "x[idx[2]] = np.random.uniform(low =2,high =3,size= sum(idx[2]))"
      ],
      "execution_count": 4,
      "outputs": []
    },
    {
      "cell_type": "code",
      "metadata": {
        "colab": {
          "base_uri": "https://localhost:8080/"
        },
        "id": "qh1mDScsU07I",
        "outputId": "e5d0d98a-5a6e-4f41-a88c-de1e821fcdb8"
      },
      "source": [
        "x[idx[0]][0], x[idx[2]][5] "
      ],
      "execution_count": 5,
      "outputs": [
        {
          "output_type": "execute_result",
          "data": {
            "text/plain": [
              "(-0.8458371576203276, 2.2252632537156383)"
            ]
          },
          "metadata": {
            "tags": []
          },
          "execution_count": 5
        }
      ]
    },
    {
      "cell_type": "code",
      "metadata": {
        "colab": {
          "base_uri": "https://localhost:8080/"
        },
        "id": "9Vr5ErQ_wSrV",
        "outputId": "d5ee1c89-d606-4f6d-a55a-77a9a2d10b60"
      },
      "source": [
        "print(x.shape,y.shape)"
      ],
      "execution_count": 6,
      "outputs": [
        {
          "output_type": "stream",
          "text": [
            "(500,) (500,)\n"
          ],
          "name": "stdout"
        }
      ]
    },
    {
      "cell_type": "code",
      "metadata": {
        "id": "NG-3RpffwU_i"
      },
      "source": [
        "idx= []\n",
        "for i in range(3):\n",
        "  idx.append(y==i)"
      ],
      "execution_count": 7,
      "outputs": []
    },
    {
      "cell_type": "code",
      "metadata": {
        "colab": {
          "base_uri": "https://localhost:8080/",
          "height": 284
        },
        "id": "hJ8Jm7YUr0St",
        "outputId": "67878209-0b28-4f53-a658-31f07679b5ce"
      },
      "source": [
        "for i in range(3):\n",
        "    y= np.zeros(x[idx[i]].shape[0])\n",
        "    plt.scatter(x[idx[i]],y,label=\"class_\"+str(i))\n",
        "plt.legend()"
      ],
      "execution_count": 8,
      "outputs": [
        {
          "output_type": "execute_result",
          "data": {
            "text/plain": [
              "<matplotlib.legend.Legend at 0x7f23b42a8710>"
            ]
          },
          "metadata": {
            "tags": []
          },
          "execution_count": 8
        },
        {
          "output_type": "display_data",
          "data": {
            "image/png": "[encoded data removed]",
            "text/plain": [
              "<Figure size 432x288 with 1 Axes>"
            ]
          },
          "metadata": {
            "tags": [],
            "needs_background": "light"
          }
        }
      ]
    },
    {
      "cell_type": "code",
      "metadata": {
        "colab": {
          "base_uri": "https://localhost:8080/"
        },
        "id": "3lMBZEHNBlF2",
        "outputId": "f6617aac-79a0-48bf-cc63-33968860a8ed"
      },
      "source": [
        "bg_idx = [ np.where(idx[2] == True)[0]]\n",
        "\n",
        "bg_idx = np.concatenate(bg_idx, axis = 0)\n",
        "bg_idx.shape"
      ],
      "execution_count": 9,
      "outputs": [
        {
          "output_type": "execute_result",
          "data": {
            "text/plain": [
              "(167,)"
            ]
          },
          "metadata": {
            "tags": []
          },
          "execution_count": 9
        }
      ]
    },
    {
      "cell_type": "code",
      "metadata": {
        "colab": {
          "base_uri": "https://localhost:8080/"
        },
        "id": "blRbGZHeCwXU",
        "outputId": "9c8dc17d-e4ca-4f28-833b-f3cdd0f26b48"
      },
      "source": [
        "np.unique(bg_idx).shape"
      ],
      "execution_count": 10,
      "outputs": [
        {
          "output_type": "execute_result",
          "data": {
            "text/plain": [
              "(167,)"
            ]
          },
          "metadata": {
            "tags": []
          },
          "execution_count": 10
        }
      ]
    },
    {
      "cell_type": "code",
      "metadata": {
        "id": "Y43sWeX7C15F"
      },
      "source": [
        "x = x - np.mean(x[bg_idx], axis = 0, keepdims = True)\n"
      ],
      "execution_count": 11,
      "outputs": []
    },
    {
      "cell_type": "code",
      "metadata": {
        "colab": {
          "base_uri": "https://localhost:8080/"
        },
        "id": "ooII7N6UDWe0",
        "outputId": "3092a01e-60db-4bbc-d36b-7796f257d23a"
      },
      "source": [
        "np.mean(x[bg_idx], axis = 0, keepdims = True), np.mean(x, axis = 0, keepdims = True)"
      ],
      "execution_count": 12,
      "outputs": [
        {
          "output_type": "execute_result",
          "data": {
            "text/plain": [
              "(array([7.17988543e-17]), array([-1.68308742]))"
            ]
          },
          "metadata": {
            "tags": []
          },
          "execution_count": 12
        }
      ]
    },
    {
      "cell_type": "code",
      "metadata": {
        "id": "g21bvPRYDL9k"
      },
      "source": [
        "x = x/np.std(x[bg_idx], axis = 0, keepdims = True)"
      ],
      "execution_count": 13,
      "outputs": []
    },
    {
      "cell_type": "code",
      "metadata": {
        "colab": {
          "base_uri": "https://localhost:8080/"
        },
        "id": "GtFvIeHsDZJk",
        "outputId": "17bc975e-e20d-41da-c1ad-0a04b55d99a6"
      },
      "source": [
        "np.std(x[bg_idx], axis = 0, keepdims = True), np.std(x, axis = 0, keepdims = True)"
      ],
      "execution_count": 14,
      "outputs": [
        {
          "output_type": "execute_result",
          "data": {
            "text/plain": [
              "(array([1.]), array([4.32711436]))"
            ]
          },
          "metadata": {
            "tags": []
          },
          "execution_count": 14
        }
      ]
    },
    {
      "cell_type": "code",
      "metadata": {
        "colab": {
          "base_uri": "https://localhost:8080/",
          "height": 284
        },
        "id": "8-VLhUfDDeHt",
        "outputId": "5db6c574-f747-449f-eb6f-0f6ba9f3abac"
      },
      "source": [
        "for i in range(3):\n",
        "    y= np.zeros(x[idx[i]].shape[0])\n",
        "    plt.scatter(x[idx[i]],y,label=\"class_\"+str(i))\n",
        "plt.legend()"
      ],
      "execution_count": 15,
      "outputs": [
        {
          "output_type": "execute_result",
          "data": {
            "text/plain": [
              "<matplotlib.legend.Legend at 0x7f23b3d75110>"
            ]
          },
          "metadata": {
            "tags": []
          },
          "execution_count": 15
        },
        {
          "output_type": "display_data",
          "data": {
            "image/png": "[encoded data removed]",
            "text/plain": [
              "<Figure size 432x288 with 1 Axes>"
            ]
          },
          "metadata": {
            "tags": [],
            "needs_background": "light"
          }
        }
      ]
    },
    {
      "cell_type": "code",
      "metadata": {
        "id": "UfFHcZJOr0Sz"
      },
      "source": [
        "foreground_classes = {'class_0','class_1' }\n",
        "\n",
        "background_classes = {'class_2'}"
      ],
      "execution_count": 16,
      "outputs": []
    },
    {
      "cell_type": "code",
      "metadata": {
        "colab": {
          "base_uri": "https://localhost:8080/"
        },
        "id": "OplNpNQVr0S2",
        "outputId": "4b95d754-be39-4099-e909-eb829a38a7d7"
      },
      "source": [
        "fg_class  = np.random.randint(0,2)\n",
        "fg_idx = np.random.randint(0,9)\n",
        "\n",
        "a = []\n",
        "for i in range(9):\n",
        "    if i == fg_idx:\n",
        "        b = np.random.choice(np.where(idx[fg_class]==True)[0],size=1)\n",
        "        a.append(x[b])\n",
        "        print(\"foreground \"+str(fg_class)+\" present at \" + str(fg_idx))\n",
        "    else:\n",
        "        bg_class = np.random.randint(2,3)\n",
        "        b = np.random.choice(np.where(idx[bg_class]==True)[0],size=1)\n",
        "        a.append(x[b])\n",
        "        print(\"background \"+str(bg_class)+\" present at \" + str(i))\n",
        "a = np.concatenate(a,axis=0)\n",
        "print(a.shape)\n",
        "\n",
        "print(fg_class , fg_idx)"
      ],
      "execution_count": 17,
      "outputs": [
        {
          "output_type": "stream",
          "text": [
            "background 2 present at 0\n",
            "background 2 present at 1\n",
            "background 2 present at 2\n",
            "background 2 present at 3\n",
            "background 2 present at 4\n",
            "background 2 present at 5\n",
            "background 2 present at 6\n",
            "background 2 present at 7\n",
            "foreground 1 present at 8\n",
            "(9,)\n",
            "1 8\n"
          ],
          "name": "stdout"
        }
      ]
    },
    {
      "cell_type": "code",
      "metadata": {
        "colab": {
          "base_uri": "https://localhost:8080/"
        },
        "id": "dwZVmmRBr0S8",
        "outputId": "d09ac7f0-dd73-4239-c61f-450196446764"
      },
      "source": [
        "a.shape"
      ],
      "execution_count": 18,
      "outputs": [
        {
          "output_type": "execute_result",
          "data": {
            "text/plain": [
              "(9,)"
            ]
          },
          "metadata": {
            "tags": []
          },
          "execution_count": 18
        }
      ]
    },
    {
      "cell_type": "code",
      "metadata": {
        "colab": {
          "base_uri": "https://localhost:8080/"
        },
        "id": "OoxzYI-ur0S_",
        "outputId": "24fbbaa1-1765-4f15-f1b5-1d9fb3bf822f"
      },
      "source": [
        "np.reshape(a,(9,1))"
      ],
      "execution_count": 19,
      "outputs": [
        {
          "output_type": "execute_result",
          "data": {
            "text/plain": [
              "array([[-0.02667998],\n",
              "       [ 0.14684259],\n",
              "       [ 1.37848801],\n",
              "       [ 0.419546  ],\n",
              "       [ 1.27408564],\n",
              "       [-0.90359503],\n",
              "       [-0.68478824],\n",
              "       [ 1.27408564],\n",
              "       [-8.06954111]])"
            ]
          },
          "metadata": {
            "tags": []
          },
          "execution_count": 19
        }
      ]
    },
    {
      "cell_type": "code",
      "metadata": {
        "id": "y4ruI0cxr0TE"
      },
      "source": [
        "a=np.reshape(a,(3,3))"
      ],
      "execution_count": 20,
      "outputs": []
    },
    {
      "cell_type": "code",
      "metadata": {
        "colab": {
          "base_uri": "https://localhost:8080/",
          "height": 288
        },
        "id": "RTUTFhJIr0TI",
        "outputId": "93075cd3-be33-4881-ccd1-95d6d63c3c72"
      },
      "source": [
        "plt.imshow(a)"
      ],
      "execution_count": 21,
      "outputs": [
        {
          "output_type": "execute_result",
          "data": {
            "text/plain": [
              "<matplotlib.image.AxesImage at 0x7f23b3d75b50>"
            ]
          },
          "metadata": {
            "tags": []
          },
          "execution_count": 21
        },
        {
          "output_type": "display_data",
          "data": {
            "image/png": "[encoded data removed]",
            "text/plain": [
              "<Figure size 432x288 with 1 Axes>"
            ]
          },
          "metadata": {
            "tags": [],
            "needs_background": "light"
          }
        }
      ]
    },
    {
      "cell_type": "code",
      "metadata": {
        "id": "jqbvfbwVr0TN"
      },
      "source": [
        "desired_num = 2000\n",
        "mosaic_list_of_images =[]\n",
        "mosaic_label = []\n",
        "fore_idx=[]\n",
        "for j in range(desired_num):\n",
        "    np.random.seed(j)\n",
        "    fg_class  = np.random.randint(0,2)\n",
        "    fg_idx = 0\n",
        "    a = []\n",
        "    for i in range(9):\n",
        "        if i == fg_idx:\n",
        "            b = np.random.choice(np.where(idx[fg_class]==True)[0],size=1)\n",
        "            a.append(x[b])\n",
        "#             print(\"foreground \"+str(fg_class)+\" present at \" + str(fg_idx))\n",
        "        else:\n",
        "            bg_class = np.random.randint(2,3)\n",
        "            b = np.random.choice(np.where(idx[bg_class]==True)[0],size=1)\n",
        "            a.append(x[b])\n",
        "#             print(\"background \"+str(bg_class)+\" present at \" + str(i))\n",
        "    a = np.concatenate(a,axis=0)\n",
        "    mosaic_list_of_images.append(np.reshape(a,(9,1)))\n",
        "    mosaic_label.append(fg_class)\n",
        "    fore_idx.append(fg_idx)"
      ],
      "execution_count": 22,
      "outputs": []
    },
    {
      "cell_type": "code",
      "metadata": {
        "id": "BOsFmWfMr0TR"
      },
      "source": [
        "mosaic_list_of_images = np.concatenate(mosaic_list_of_images,axis=1).T\n"
      ],
      "execution_count": 23,
      "outputs": []
    },
    {
      "cell_type": "code",
      "metadata": {
        "colab": {
          "base_uri": "https://localhost:8080/"
        },
        "id": "2aIPMgLXNiXW",
        "outputId": "fe06a269-be94-4f63-e44a-791f0be94aed"
      },
      "source": [
        "mosaic_list_of_images.shape, mosaic_list_of_images[0]"
      ],
      "execution_count": 24,
      "outputs": [
        {
          "output_type": "execute_result",
          "data": {
            "text/plain": [
              "((2000, 9), array([-10.52117516,   1.30506863,   0.52441591,   1.04161499,\n",
              "         -0.90359503,   1.39692569,  -0.28550801,  -1.17213902,\n",
              "          0.14909581]))"
            ]
          },
          "metadata": {
            "tags": []
          },
          "execution_count": 24
        }
      ]
    },
    {
      "cell_type": "code",
      "metadata": {
        "colab": {
          "base_uri": "https://localhost:8080/"
        },
        "id": "A3qcsbbzPfRG",
        "outputId": "7af54152-a97f-4bc6-fbd8-f193b07ed307"
      },
      "source": [
        "for j in range(9):\n",
        "  print(mosaic_list_of_images[0][j])\n",
        "  "
      ],
      "execution_count": 25,
      "outputs": [
        {
          "output_type": "stream",
          "text": [
            "-10.52117516172382\n",
            "1.3050686326842567\n",
            "0.5244159096640372\n",
            "1.0416149919208415\n",
            "-0.9035950289622539\n",
            "1.3969256896593936\n",
            "-0.285508009030342\n",
            "-1.172139015736176\n",
            "0.14909580785370755\n"
          ],
          "name": "stdout"
        }
      ]
    },
    {
      "cell_type": "code",
      "metadata": {
        "id": "iPoIwbMHx44n"
      },
      "source": [
        "class MosaicDataset(Dataset):\n",
        "  \"\"\"MosaicDataset dataset.\"\"\"\n",
        "\n",
        "  def __init__(self, mosaic_list_of_images, mosaic_label, fore_idx):\n",
        "    \"\"\"\n",
        "      Args:\n",
        "        csv_file (string): Path to the csv file with annotations.\n",
        "        root_dir (string): Directory with all the images.\n",
        "        transform (callable, optional): Optional transform to be applied\n",
        "            on a sample.\n",
        "    \"\"\"\n",
        "    self.mosaic = mosaic_list_of_images\n",
        "    self.label = mosaic_label\n",
        "    self.fore_idx = fore_idx\n",
        "\n",
        "  def __len__(self):\n",
        "    return len(self.label)\n",
        "\n",
        "  def __getitem__(self, idx):\n",
        "    return self.mosaic[idx] , self.label[idx], self.fore_idx[idx]\n",
        "\n"
      ],
      "execution_count": 26,
      "outputs": []
    },
    {
      "cell_type": "code",
      "metadata": {
        "id": "fOPAJQJeW8Ah"
      },
      "source": [
        "batch = 250\n",
        "msd1 = MosaicDataset(mosaic_list_of_images[0:1000], mosaic_label[0:1000] , fore_idx[0:1000])\n",
        "train_loader = DataLoader( msd1 ,batch_size= batch ,shuffle=True)"
      ],
      "execution_count": 27,
      "outputs": []
    },
    {
      "cell_type": "code",
      "metadata": {
        "id": "qjNiQgxZW8bA"
      },
      "source": [
        "batch = 250\n",
        "msd2 = MosaicDataset(mosaic_list_of_images[1000:2000], mosaic_label[1000:2000] , fore_idx[1000:2000])\n",
        "test_loader = DataLoader( msd2 ,batch_size= batch ,shuffle=True)"
      ],
      "execution_count": 28,
      "outputs": []
    },
    {
      "cell_type": "code",
      "metadata": {
        "id": "30ZAjix3x8CM"
      },
      "source": [
        "class Focus(nn.Module):\n",
        "  def __init__(self):\n",
        "    super(Focus, self).__init__()\n",
        "\n",
        "    self.fc1 = nn.Linear(1, 1, bias= False)\n",
        "    # self.fc2 = nn.Linear(2, 1)\n",
        "\n",
        "  def forward(self,z):  #y is avg image #z batch of list of 9 images\n",
        "    y = torch.zeros([batch], dtype=torch.float64)\n",
        "    x = torch.zeros([batch,9],dtype=torch.float64)\n",
        "    y = y.to(\"cuda\")\n",
        "    x = x.to(\"cuda\")\n",
        "    # print(x.shape, z.shape)\n",
        "    for i in range(9):\n",
        "      # print(z[:,i].shape)\n",
        "      # print(self.helper(z[:,i])[:,0].shape)\n",
        "      x[:,i] = self.helper(z[:,i])[:,0]\n",
        "    # print(x.shape, z.shape)\n",
        "    x = F.softmax(x,dim=1)\n",
        "    # print(x.shape, z.shape)\n",
        "    # x1 = x[:,0]\n",
        "    # print(torch.mul(x[:,0],z[:,0]).shape)\n",
        "\n",
        "    for i in range(9):            \n",
        "      # x1 = x[:,i]          \n",
        "      y = y + torch.mul(x[:,i],z[:,i])\n",
        "\n",
        "    # print(x.shape, y.shape)\n",
        "    return x, y\n",
        "    \n",
        "  def helper(self, x):\n",
        "    x = x.view(-1, 1)\n",
        "    # x = F.relu(self.fc1(x))\n",
        "    x = (self.fc1(x))\n",
        "\n",
        "    return x"
      ],
      "execution_count": 29,
      "outputs": []
    },
    {
      "cell_type": "code",
      "metadata": {
        "id": "0dYXnywAD-4l"
      },
      "source": [
        "class Classification(nn.Module):\n",
        "  def __init__(self):\n",
        "    super(Classification, self).__init__()\n",
        "    self.fc1 = nn.Linear(1, 1)\n",
        "\n",
        "\n",
        "  def forward(self, x):\n",
        "    x = x.view(-1, 1)\n",
        "    x = self.fc1(x)\n",
        "    # print(x.shape)\n",
        "    return x"
      ],
      "execution_count": 30,
      "outputs": []
    },
    {
      "cell_type": "code",
      "metadata": {
        "id": "Yl41sE8vFERk"
      },
      "source": [
        "import torch.optim as optim\n",
        "\n",
        "def train(train_loader, test_loader, focus_net, classify):    \n",
        "  criterion = nn.BCEWithLogitsLoss()\n",
        "  optimizer_classify = optim.Adam(classify.parameters(), lr=0.01 ) #, momentum=0.9)\n",
        "  optimizer_focus = optim.Adam(focus_net.parameters(), lr=0.01 ) #, momentum=0.9)\n",
        "\n",
        "  print('-'*50)\n",
        "  print(focus_net.fc1.weight, classify.fc1.weight, classify.fc1.bias)\n",
        "  nos_epochs = 1000\n",
        "  loss_ret=0.0\n",
        "  for epoch in range(nos_epochs):  # loop over the dataset multiple times\n",
        "    \n",
        "    running_loss = 0.0\n",
        "    epoch_loss = []\n",
        "    cnt=0\n",
        "\n",
        "    iteration = desired_num // batch\n",
        "    \n",
        "    #training data set\n",
        "    \n",
        "    for i, data in  enumerate(train_loader):\n",
        "      inputs , labels , fore_idx = data\n",
        "      inputs, labels = inputs.to(\"cuda\"), labels.to(\"cuda\")\n",
        "      inputs = inputs.double()\n",
        "      labels = labels.float()\n",
        "      # zero the parameter gradients\n",
        "      \n",
        "      optimizer_focus.zero_grad()\n",
        "      optimizer_classify.zero_grad()\n",
        "      \n",
        "      alphas, avg_images = focus_net(inputs)\n",
        "      outputs = classify(avg_images)\n",
        "\n",
        "      predicted = np.round(torch.sigmoid(outputs.data).cpu().numpy())\n",
        "      # print(predicted.shape)\n",
        "      # print(outputs.shape,labels.shape)\n",
        "      # print(outputs)\n",
        "      # print(labels)\n",
        "      loss = criterion(outputs[:,0], labels) \n",
        "      loss.backward()\n",
        "      optimizer_focus.step()\n",
        "      optimizer_classify.step()\n",
        "\n",
        "      running_loss += loss.item()\n",
        "      # mini = 3\n",
        "      # if cnt % mini == mini-1 :    # print every 40 mini-batches\n",
        "      epoch_loss.append(running_loss)\n",
        "      running_loss = 0.0\n",
        "      cnt=cnt+1\n",
        "    loss_ret = np.mean(epoch_loss)\n",
        "    if(epoch%200==0):\n",
        "      print('[%d, %5d] loss: %.3f' %(epoch + 1, cnt + 1, np.mean(epoch_loss)))\n",
        "    if(np.mean(epoch_loss) <= 0.001):\n",
        "        break;\n",
        "\n",
        "  with torch.no_grad():\n",
        "    focus_true_pred_true =0\n",
        "    focus_false_pred_true =0\n",
        "    focus_true_pred_false =0\n",
        "    focus_false_pred_false =0\n",
        "\n",
        "    argmax_more_than_half = 0\n",
        "    argmax_less_than_half =0\n",
        "    for data in test_loader:\n",
        "      inputs, labels , fore_idx = data\n",
        "      inputs = inputs.double()\n",
        "      inputs, labels = inputs.to(\"cuda\"), labels.to(\"cuda\")\n",
        "      alphas, avg_images = focus_net(inputs)\n",
        "      outputs = classify(avg_images)\n",
        "      predicted = np.round(torch.sigmoid(outputs.data).cpu().numpy())\n",
        "\n",
        "      for j in range (batch):\n",
        "        focus = torch.argmax(alphas[j])\n",
        "\n",
        "        if(alphas[j][focus] >= 0.5):\n",
        "          argmax_more_than_half +=1\n",
        "        else:\n",
        "          argmax_less_than_half +=1\n",
        "\n",
        "        if(focus == fore_idx[j] and predicted[j] == labels[j].item()):\n",
        "          focus_true_pred_true += 1\n",
        "\n",
        "        elif(focus != fore_idx[j] and predicted[j] == labels[j].item()):\n",
        "          focus_false_pred_true +=1\n",
        "\n",
        "        elif(focus == fore_idx[j] and predicted[j] != labels[j].item()):\n",
        "          focus_true_pred_false +=1\n",
        "\n",
        "        elif(focus != fore_idx[j] and predicted[j] != labels[j].item()):\n",
        "          focus_false_pred_false +=1\n",
        "\n",
        "  print('Finished Training')  \n",
        "  return loss_ret, argmax_more_than_half/10, focus_true_pred_true/10, focus_false_pred_true/10, focus_true_pred_false/10 , focus_false_pred_false/10, focus_net.fc1.weight.item(), classify.fc1.weight.item(), classify.fc1.bias.item()\n",
        "    \n"
      ],
      "execution_count": 31,
      "outputs": []
    },
    {
      "cell_type": "code",
      "metadata": {
        "id": "fd7ScJj9g6rl"
      },
      "source": [
        "a = [-0.1, 0.0, 0.1]\n",
        "b = [-0.1, 0.0, 0.1]\n",
        "c = [-0.1, 0.0, 0.1]"
      ],
      "execution_count": 32,
      "outputs": []
    },
    {
      "cell_type": "code",
      "metadata": {
        "id": "b0rXlZZfUK3B"
      },
      "source": [
        "# torch.manual_seed(12)\n",
        "# focus_net = Focus().double()\n",
        "# focus_net.fc1.weight = torch.nn.Parameter(torch.tensor(np.array([[0.0]])))\n",
        "# torch.manual_seed(12)\n",
        "# classify = Classification().double()\n",
        "# classify.fc1.weight = torch.nn.Parameter(torch.tensor(np.array([[0.0]])))\n",
        "# classify.fc1.bias = torch.nn.Parameter(torch.tensor(np.array([0.0])))\n",
        "# focus_net = focus_net.to(\"cuda\")\n",
        "# classify = classify.to(\"cuda\")\n",
        "# # print(\"--\"*40,\"a,b,c = \",a[i],b[j],c[k])\n",
        "# print(focus_net.fc1.weight, classify.fc1.weight, classify.fc1.bias)"
      ],
      "execution_count": 33,
      "outputs": []
    },
    {
      "cell_type": "code",
      "metadata": {
        "id": "cIzudMBEuFQl"
      },
      "source": [
        "# np.round(focus_net.fc1.weight.item(),3), np.round(99.3, 3)"
      ],
      "execution_count": 34,
      "outputs": []
    },
    {
      "cell_type": "code",
      "metadata": {
        "id": "PEXvq7EWUck2"
      },
      "source": [
        "# train(train_loader, test_loader, focus_net, classify)"
      ],
      "execution_count": 35,
      "outputs": []
    },
    {
      "cell_type": "code",
      "metadata": {
        "colab": {
          "base_uri": "https://localhost:8080/"
        },
        "id": "zo5QyZobhHpM",
        "outputId": "9bfea9e9-94f5-477b-aa7d-5bd05bfdb8d3"
      },
      "source": [
        "all_loss=[]\n",
        "all_alphas_more_than_half=[]\n",
        "all_ftpt=[]\n",
        "all_ffpt=[]\n",
        "all_ftpf = []\n",
        "all_ffpf= []\n",
        "init_a = []\n",
        "init_b = []\n",
        "init_c = []\n",
        "final_a=[]\n",
        "final_b = []\n",
        "final_c = []\n",
        "\n",
        "for i in range(3):\n",
        "  for j in range(3):\n",
        "    for k in range(3):\n",
        "      torch.manual_seed(12)\n",
        "      focus_net = Focus().double()\n",
        "      focus_net.fc1.weight = torch.nn.Parameter(torch.tensor(np.array([[a[i]]])))\n",
        "      torch.manual_seed(12)\n",
        "      classify = Classification().double()\n",
        "      classify.fc1.weight = torch.nn.Parameter(torch.tensor(np.array([[b[j]]])))\n",
        "      classify.fc1.bias = torch.nn.Parameter(torch.tensor(np.array([c[k]])))\n",
        "      focus_net = focus_net.to(\"cuda\")\n",
        "      classify = classify.to(\"cuda\")\n",
        "      print(\"--\"*40,\"a,b,c = \",a[i],b[j],c[k])\n",
        "      cost, alpha_per, ftpt, ffpt, ftpf, ffpf, f_a, f_b, f_c = train(train_loader, test_loader, focus_net, classify)\n",
        "      print(cost, alpha_per, ftpt, ffpt, ftpf, ffpf)\n",
        "      init_a.append(a[i])\n",
        "      init_b.append(b[j])\n",
        "      init_c.append(c[k])\n",
        "      final_a.append(np.round(f_a,3))\n",
        "      final_b.append(np.round(f_b,3))\n",
        "      final_c.append(np.round(f_c,3))\n",
        "      all_loss.append(np.round(cost,3))\n",
        "      all_alphas_more_than_half.append(alpha_per)\n",
        "      all_ftpt.append(ftpt)\n",
        "      all_ffpt.append(ffpt)\n",
        "      all_ftpf.append(ftpf)\n",
        "      all_ffpf.append(ffpf)\n",
        "\n"
      ],
      "execution_count": 36,
      "outputs": [
        {
          "output_type": "stream",
          "text": [
            "-------------------------------------------------------------------------------- a,b,c =  -0.1 -0.1 -0.1\n",
            "--------------------------------------------------\n",
            "Parameter containing:\n",
            "tensor([[-0.1000]], device='cuda:0', dtype=torch.float64, requires_grad=True) Parameter containing:\n",
            "tensor([[-0.1000]], device='cuda:0', dtype=torch.float64, requires_grad=True) Parameter containing:\n",
            "tensor([-0.1000], device='cuda:0', dtype=torch.float64, requires_grad=True)\n",
            "[1,     5] loss: 0.716\n",
            "[201,     5] loss: 0.198\n",
            "[401,     5] loss: 0.131\n",
            "[601,     5] loss: 0.102\n",
            "[801,     5] loss: 0.085\n",
            "Finished Training\n",
            "0.07343695685267448 65.4 99.6 0.0 0.4 0.0\n",
            "-------------------------------------------------------------------------------- a,b,c =  -0.1 -0.1 0.0\n",
            "--------------------------------------------------\n",
            "Parameter containing:\n",
            "tensor([[-0.1000]], device='cuda:0', dtype=torch.float64, requires_grad=True) Parameter containing:\n",
            "tensor([[-0.1000]], device='cuda:0', dtype=torch.float64, requires_grad=True) Parameter containing:\n",
            "tensor([0.], device='cuda:0', dtype=torch.float64, requires_grad=True)\n",
            "[1,     5] loss: 0.717\n",
            "[201,     5] loss: 0.198\n",
            "[401,     5] loss: 0.130\n",
            "[601,     5] loss: 0.101\n",
            "[801,     5] loss: 0.085\n",
            "Finished Training\n",
            "0.07335146237164736 65.4 99.6 0.0 0.4 0.0\n",
            "-------------------------------------------------------------------------------- a,b,c =  -0.1 -0.1 0.1\n",
            "--------------------------------------------------\n",
            "Parameter containing:\n",
            "tensor([[-0.1000]], device='cuda:0', dtype=torch.float64, requires_grad=True) Parameter containing:\n",
            "tensor([[-0.1000]], device='cuda:0', dtype=torch.float64, requires_grad=True) Parameter containing:\n",
            "tensor([0.1000], device='cuda:0', dtype=torch.float64, requires_grad=True)\n",
            "[1,     5] loss: 0.722\n",
            "[201,     5] loss: 0.198\n",
            "[401,     5] loss: 0.131\n",
            "[601,     5] loss: 0.102\n",
            "[801,     5] loss: 0.085\n",
            "Finished Training\n",
            "0.0733950799331069 65.4 99.6 0.0 0.4 0.0\n",
            "-------------------------------------------------------------------------------- a,b,c =  -0.1 0.0 -0.1\n",
            "--------------------------------------------------\n",
            "Parameter containing:\n",
            "tensor([[-0.1000]], device='cuda:0', dtype=torch.float64, requires_grad=True) Parameter containing:\n",
            "tensor([[0.]], device='cuda:0', dtype=torch.float64, requires_grad=True) Parameter containing:\n",
            "tensor([-0.1000], device='cuda:0', dtype=torch.float64, requires_grad=True)\n",
            "[1,     5] loss: 0.691\n",
            "[201,     5] loss: 0.205\n",
            "[401,     5] loss: 0.134\n",
            "[601,     5] loss: 0.104\n",
            "[801,     5] loss: 0.087\n",
            "Finished Training\n",
            "0.07493563648313284 65.4 99.6 0.0 0.4 0.0\n",
            "-------------------------------------------------------------------------------- a,b,c =  -0.1 0.0 0.0\n",
            "--------------------------------------------------\n",
            "Parameter containing:\n",
            "tensor([[-0.1000]], device='cuda:0', dtype=torch.float64, requires_grad=True) Parameter containing:\n",
            "tensor([[0.]], device='cuda:0', dtype=torch.float64, requires_grad=True) Parameter containing:\n",
            "tensor([0.], device='cuda:0', dtype=torch.float64, requires_grad=True)\n",
            "[1,     5] loss: 0.689\n",
            "[201,     5] loss: 0.202\n",
            "[401,     5] loss: 0.133\n",
            "[601,     5] loss: 0.103\n",
            "[801,     5] loss: 0.086\n",
            "Finished Training\n",
            "0.07438671309500933 65.4 99.6 0.0 0.4 0.0\n",
            "-------------------------------------------------------------------------------- a,b,c =  -0.1 0.0 0.1\n",
            "--------------------------------------------------\n",
            "Parameter containing:\n",
            "tensor([[-0.1000]], device='cuda:0', dtype=torch.float64, requires_grad=True) Parameter containing:\n",
            "tensor([[0.]], device='cuda:0', dtype=torch.float64, requires_grad=True) Parameter containing:\n",
            "tensor([0.1000], device='cuda:0', dtype=torch.float64, requires_grad=True)\n",
            "[1,     5] loss: 0.688\n",
            "[201,     5] loss: 0.201\n",
            "[401,     5] loss: 0.133\n",
            "[601,     5] loss: 0.103\n",
            "[801,     5] loss: 0.086\n",
            "Finished Training\n",
            "0.0741899125277996 65.4 99.6 0.0 0.4 0.0\n",
            "-------------------------------------------------------------------------------- a,b,c =  -0.1 0.1 -0.1\n",
            "--------------------------------------------------\n",
            "Parameter containing:\n",
            "tensor([[-0.1000]], device='cuda:0', dtype=torch.float64, requires_grad=True) Parameter containing:\n",
            "tensor([[0.1000]], device='cuda:0', dtype=torch.float64, requires_grad=True) Parameter containing:\n",
            "tensor([-0.1000], device='cuda:0', dtype=torch.float64, requires_grad=True)\n",
            "[1,     5] loss: 0.672\n",
            "[201,     5] loss: 0.208\n",
            "[401,     5] loss: 0.136\n",
            "[601,     5] loss: 0.105\n",
            "[801,     5] loss: 0.088\n",
            "Finished Training\n",
            "0.07559128105640411 65.3 99.6 0.0 0.4 0.0\n",
            "-------------------------------------------------------------------------------- a,b,c =  -0.1 0.1 0.0\n",
            "--------------------------------------------------\n",
            "Parameter containing:\n",
            "tensor([[-0.1000]], device='cuda:0', dtype=torch.float64, requires_grad=True) Parameter containing:\n",
            "tensor([[0.1000]], device='cuda:0', dtype=torch.float64, requires_grad=True) Parameter containing:\n",
            "tensor([0.], device='cuda:0', dtype=torch.float64, requires_grad=True)\n",
            "[1,     5] loss: 0.664\n",
            "[201,     5] loss: 0.204\n",
            "[401,     5] loss: 0.134\n",
            "[601,     5] loss: 0.104\n",
            "[801,     5] loss: 0.087\n",
            "Finished Training\n",
            "0.07492445223033428 65.4 99.6 0.0 0.4 0.0\n",
            "-------------------------------------------------------------------------------- a,b,c =  -0.1 0.1 0.1\n",
            "--------------------------------------------------\n",
            "Parameter containing:\n",
            "tensor([[-0.1000]], device='cuda:0', dtype=torch.float64, requires_grad=True) Parameter containing:\n",
            "tensor([[0.1000]], device='cuda:0', dtype=torch.float64, requires_grad=True) Parameter containing:\n",
            "tensor([0.1000], device='cuda:0', dtype=torch.float64, requires_grad=True)\n",
            "[1,     5] loss: 0.658\n",
            "[201,     5] loss: 0.201\n",
            "[401,     5] loss: 0.133\n",
            "[601,     5] loss: 0.103\n",
            "[801,     5] loss: 0.086\n",
            "Finished Training\n",
            "0.07425812166184187 65.4 99.6 0.0 0.4 0.0\n",
            "-------------------------------------------------------------------------------- a,b,c =  0.0 -0.1 -0.1\n",
            "--------------------------------------------------\n",
            "Parameter containing:\n",
            "tensor([[0.]], device='cuda:0', dtype=torch.float64, requires_grad=True) Parameter containing:\n",
            "tensor([[-0.1000]], device='cuda:0', dtype=torch.float64, requires_grad=True) Parameter containing:\n",
            "tensor([-0.1000], device='cuda:0', dtype=torch.float64, requires_grad=True)\n",
            "[1,     5] loss: 0.699\n",
            "[201,     5] loss: 0.684\n",
            "[401,     5] loss: 0.684\n",
            "[601,     5] loss: 0.684\n",
            "[801,     5] loss: 0.684\n",
            "Finished Training\n",
            "0.6844055950641632 0.0 0.0 54.9 0.0 45.1\n",
            "-------------------------------------------------------------------------------- a,b,c =  0.0 -0.1 0.0\n",
            "--------------------------------------------------\n",
            "Parameter containing:\n",
            "tensor([[0.]], device='cuda:0', dtype=torch.float64, requires_grad=True) Parameter containing:\n",
            "tensor([[-0.1000]], device='cuda:0', dtype=torch.float64, requires_grad=True) Parameter containing:\n",
            "tensor([0.], device='cuda:0', dtype=torch.float64, requires_grad=True)\n",
            "[1,     5] loss: 0.699\n",
            "[201,     5] loss: 0.684\n",
            "[401,     5] loss: 0.684\n",
            "[601,     5] loss: 0.684\n",
            "[801,     5] loss: 0.684\n",
            "Finished Training\n",
            "0.6844056099653244 0.0 0.0 54.9 0.0 45.1\n",
            "-------------------------------------------------------------------------------- a,b,c =  0.0 -0.1 0.1\n",
            "--------------------------------------------------\n",
            "Parameter containing:\n",
            "tensor([[0.]], device='cuda:0', dtype=torch.float64, requires_grad=True) Parameter containing:\n",
            "tensor([[-0.1000]], device='cuda:0', dtype=torch.float64, requires_grad=True) Parameter containing:\n",
            "tensor([0.1000], device='cuda:0', dtype=torch.float64, requires_grad=True)\n",
            "[1,     5] loss: 0.701\n",
            "[201,     5] loss: 0.684\n",
            "[401,     5] loss: 0.684\n",
            "[601,     5] loss: 0.684\n",
            "[801,     5] loss: 0.684\n",
            "Finished Training\n",
            "0.6844055652618408 0.0 0.0 54.9 0.0 45.1\n",
            "-------------------------------------------------------------------------------- a,b,c =  0.0 0.0 -0.1\n",
            "--------------------------------------------------\n",
            "Parameter containing:\n",
            "tensor([[0.]], device='cuda:0', dtype=torch.float64, requires_grad=True) Parameter containing:\n",
            "tensor([[0.]], device='cuda:0', dtype=torch.float64, requires_grad=True) Parameter containing:\n",
            "tensor([-0.1000], device='cuda:0', dtype=torch.float64, requires_grad=True)\n",
            "[1,     5] loss: 0.694\n",
            "[201,     5] loss: 0.204\n",
            "[401,     5] loss: 0.134\n",
            "[601,     5] loss: 0.104\n",
            "[801,     5] loss: 0.086\n",
            "Finished Training\n",
            "0.07471069786697626 65.4 99.6 0.0 0.4 0.0\n",
            "-------------------------------------------------------------------------------- a,b,c =  0.0 0.0 0.0\n",
            "--------------------------------------------------\n",
            "Parameter containing:\n",
            "tensor([[0.]], device='cuda:0', dtype=torch.float64, requires_grad=True) Parameter containing:\n",
            "tensor([[0.]], device='cuda:0', dtype=torch.float64, requires_grad=True) Parameter containing:\n",
            "tensor([0.], device='cuda:0', dtype=torch.float64, requires_grad=True)\n",
            "[1,     5] loss: 0.692\n",
            "[201,     5] loss: 0.202\n",
            "[401,     5] loss: 0.133\n",
            "[601,     5] loss: 0.103\n",
            "[801,     5] loss: 0.086\n",
            "Finished Training\n",
            "0.07432696782052517 65.4 99.6 0.0 0.4 0.0\n",
            "-------------------------------------------------------------------------------- a,b,c =  0.0 0.0 0.1\n",
            "--------------------------------------------------\n",
            "Parameter containing:\n",
            "tensor([[0.]], device='cuda:0', dtype=torch.float64, requires_grad=True) Parameter containing:\n",
            "tensor([[0.]], device='cuda:0', dtype=torch.float64, requires_grad=True) Parameter containing:\n",
            "tensor([0.1000], device='cuda:0', dtype=torch.float64, requires_grad=True)\n",
            "[1,     5] loss: 0.692\n",
            "[201,     5] loss: 0.202\n",
            "[401,     5] loss: 0.133\n",
            "[601,     5] loss: 0.103\n",
            "[801,     5] loss: 0.086\n",
            "Finished Training\n",
            "0.07430021092295647 65.4 99.6 0.0 0.4 0.0\n",
            "-------------------------------------------------------------------------------- a,b,c =  0.0 0.1 -0.1\n",
            "--------------------------------------------------\n",
            "Parameter containing:\n",
            "tensor([[0.]], device='cuda:0', dtype=torch.float64, requires_grad=True) Parameter containing:\n",
            "tensor([[0.1000]], device='cuda:0', dtype=torch.float64, requires_grad=True) Parameter containing:\n",
            "tensor([-0.1000], device='cuda:0', dtype=torch.float64, requires_grad=True)\n",
            "[1,     5] loss: 0.688\n",
            "[201,     5] loss: 0.206\n",
            "[401,     5] loss: 0.135\n",
            "[601,     5] loss: 0.105\n",
            "[801,     5] loss: 0.087\n",
            "Finished Training\n",
            "0.07514900714159012 65.4 99.6 0.0 0.4 0.0\n",
            "-------------------------------------------------------------------------------- a,b,c =  0.0 0.1 0.0\n",
            "--------------------------------------------------\n",
            "Parameter containing:\n",
            "tensor([[0.]], device='cuda:0', dtype=torch.float64, requires_grad=True) Parameter containing:\n",
            "tensor([[0.1000]], device='cuda:0', dtype=torch.float64, requires_grad=True) Parameter containing:\n",
            "tensor([0.], device='cuda:0', dtype=torch.float64, requires_grad=True)\n",
            "[1,     5] loss: 0.684\n",
            "[201,     5] loss: 0.203\n",
            "[401,     5] loss: 0.133\n",
            "[601,     5] loss: 0.103\n",
            "[801,     5] loss: 0.086\n",
            "Finished Training\n",
            "0.0745458509773016 65.4 99.6 0.0 0.4 0.0\n",
            "-------------------------------------------------------------------------------- a,b,c =  0.0 0.1 0.1\n",
            "--------------------------------------------------\n",
            "Parameter containing:\n",
            "tensor([[0.]], device='cuda:0', dtype=torch.float64, requires_grad=True) Parameter containing:\n",
            "tensor([[0.1000]], device='cuda:0', dtype=torch.float64, requires_grad=True) Parameter containing:\n",
            "tensor([0.1000], device='cuda:0', dtype=torch.float64, requires_grad=True)\n",
            "[1,     5] loss: 0.681\n",
            "[201,     5] loss: 0.200\n",
            "[401,     5] loss: 0.132\n",
            "[601,     5] loss: 0.103\n",
            "[801,     5] loss: 0.086\n",
            "Finished Training\n",
            "0.07410846184939146 65.4 99.6 0.0 0.4 0.0\n",
            "-------------------------------------------------------------------------------- a,b,c =  0.1 -0.1 -0.1\n",
            "--------------------------------------------------\n",
            "Parameter containing:\n",
            "tensor([[0.1000]], device='cuda:0', dtype=torch.float64, requires_grad=True) Parameter containing:\n",
            "tensor([[-0.1000]], device='cuda:0', dtype=torch.float64, requires_grad=True) Parameter containing:\n",
            "tensor([-0.1000], device='cuda:0', dtype=torch.float64, requires_grad=True)\n",
            "[1,     5] loss: 0.693\n",
            "[201,     5] loss: 0.684\n",
            "[401,     5] loss: 0.684\n",
            "[601,     5] loss: 0.684\n",
            "[801,     5] loss: 0.684\n",
            "Finished Training\n",
            "0.6844056397676468 0.0 0.0 54.9 0.0 45.1\n",
            "-------------------------------------------------------------------------------- a,b,c =  0.1 -0.1 0.0\n",
            "--------------------------------------------------\n",
            "Parameter containing:\n",
            "tensor([[0.1000]], device='cuda:0', dtype=torch.float64, requires_grad=True) Parameter containing:\n",
            "tensor([[-0.1000]], device='cuda:0', dtype=torch.float64, requires_grad=True) Parameter containing:\n",
            "tensor([0.], device='cuda:0', dtype=torch.float64, requires_grad=True)\n",
            "[1,     5] loss: 0.693\n",
            "[201,     5] loss: 0.684\n",
            "[401,     5] loss: 0.684\n",
            "[601,     5] loss: 0.684\n",
            "[801,     5] loss: 0.684\n",
            "Finished Training\n",
            "0.6844056397676468 0.0 0.0 54.9 0.0 45.1\n",
            "-------------------------------------------------------------------------------- a,b,c =  0.1 -0.1 0.1\n",
            "--------------------------------------------------\n",
            "Parameter containing:\n",
            "tensor([[0.1000]], device='cuda:0', dtype=torch.float64, requires_grad=True) Parameter containing:\n",
            "tensor([[-0.1000]], device='cuda:0', dtype=torch.float64, requires_grad=True) Parameter containing:\n",
            "tensor([0.1000], device='cuda:0', dtype=torch.float64, requires_grad=True)\n",
            "[1,     5] loss: 0.693\n",
            "[201,     5] loss: 0.684\n",
            "[401,     5] loss: 0.684\n",
            "[601,     5] loss: 0.684\n",
            "[801,     5] loss: 0.684\n",
            "Finished Training\n",
            "0.6844055950641632 0.0 0.0 54.9 0.0 45.1\n",
            "-------------------------------------------------------------------------------- a,b,c =  0.1 0.0 -0.1\n",
            "--------------------------------------------------\n",
            "Parameter containing:\n",
            "tensor([[0.1000]], device='cuda:0', dtype=torch.float64, requires_grad=True) Parameter containing:\n",
            "tensor([[0.]], device='cuda:0', dtype=torch.float64, requires_grad=True) Parameter containing:\n",
            "tensor([-0.1000], device='cuda:0', dtype=torch.float64, requires_grad=True)\n",
            "[1,     5] loss: 0.695\n",
            "[201,     5] loss: 0.684\n",
            "[401,     5] loss: 0.684\n",
            "[601,     5] loss: 0.684\n",
            "[801,     5] loss: 0.684\n",
            "Finished Training\n",
            "0.6844056099653244 0.0 0.0 54.9 0.0 45.1\n",
            "-------------------------------------------------------------------------------- a,b,c =  0.1 0.0 0.0\n",
            "--------------------------------------------------\n",
            "Parameter containing:\n",
            "tensor([[0.1000]], device='cuda:0', dtype=torch.float64, requires_grad=True) Parameter containing:\n",
            "tensor([[0.]], device='cuda:0', dtype=torch.float64, requires_grad=True) Parameter containing:\n",
            "tensor([0.], device='cuda:0', dtype=torch.float64, requires_grad=True)\n",
            "[1,     5] loss: 0.693\n",
            "[201,     5] loss: 0.684\n",
            "[401,     5] loss: 0.684\n",
            "[601,     5] loss: 0.684\n",
            "[801,     5] loss: 0.684\n",
            "Finished Training\n",
            "0.6844056099653244 0.0 0.0 54.9 0.0 45.1\n",
            "-------------------------------------------------------------------------------- a,b,c =  0.1 0.0 0.1\n",
            "--------------------------------------------------\n",
            "Parameter containing:\n",
            "tensor([[0.1000]], device='cuda:0', dtype=torch.float64, requires_grad=True) Parameter containing:\n",
            "tensor([[0.]], device='cuda:0', dtype=torch.float64, requires_grad=True) Parameter containing:\n",
            "tensor([0.1000], device='cuda:0', dtype=torch.float64, requires_grad=True)\n",
            "[1,     5] loss: 0.694\n",
            "[201,     5] loss: 0.684\n",
            "[401,     5] loss: 0.684\n",
            "[601,     5] loss: 0.684\n",
            "[801,     5] loss: 0.684\n",
            "Finished Training\n",
            "0.6844056099653244 0.0 0.0 54.9 0.0 45.1\n",
            "-------------------------------------------------------------------------------- a,b,c =  0.1 0.1 -0.1\n",
            "--------------------------------------------------\n",
            "Parameter containing:\n",
            "tensor([[0.1000]], device='cuda:0', dtype=torch.float64, requires_grad=True) Parameter containing:\n",
            "tensor([[0.1000]], device='cuda:0', dtype=torch.float64, requires_grad=True) Parameter containing:\n",
            "tensor([-0.1000], device='cuda:0', dtype=torch.float64, requires_grad=True)\n",
            "[1,     5] loss: 0.695\n",
            "[201,     5] loss: 0.202\n",
            "[401,     5] loss: 0.133\n",
            "[601,     5] loss: 0.103\n",
            "[801,     5] loss: 0.086\n",
            "Finished Training\n",
            "0.0743880569934845 65.4 99.6 0.0 0.4 0.0\n",
            "-------------------------------------------------------------------------------- a,b,c =  0.1 0.1 0.0\n",
            "--------------------------------------------------\n",
            "Parameter containing:\n",
            "tensor([[0.1000]], device='cuda:0', dtype=torch.float64, requires_grad=True) Parameter containing:\n",
            "tensor([[0.1000]], device='cuda:0', dtype=torch.float64, requires_grad=True) Parameter containing:\n",
            "tensor([0.], device='cuda:0', dtype=torch.float64, requires_grad=True)\n",
            "[1,     5] loss: 0.693\n",
            "[201,     5] loss: 0.201\n",
            "[401,     5] loss: 0.132\n",
            "[601,     5] loss: 0.103\n",
            "[801,     5] loss: 0.086\n",
            "Finished Training\n",
            "0.074157590046525 65.4 99.6 0.0 0.4 0.0\n",
            "-------------------------------------------------------------------------------- a,b,c =  0.1 0.1 0.1\n",
            "--------------------------------------------------\n",
            "Parameter containing:\n",
            "tensor([[0.1000]], device='cuda:0', dtype=torch.float64, requires_grad=True) Parameter containing:\n",
            "tensor([[0.1000]], device='cuda:0', dtype=torch.float64, requires_grad=True) Parameter containing:\n",
            "tensor([0.1000], device='cuda:0', dtype=torch.float64, requires_grad=True)\n",
            "[1,     5] loss: 0.693\n",
            "[201,     5] loss: 0.201\n",
            "[401,     5] loss: 0.132\n",
            "[601,     5] loss: 0.103\n",
            "[801,     5] loss: 0.086\n",
            "Finished Training\n",
            "0.07417884282767773 65.4 99.6 0.0 0.4 0.0\n"
          ],
          "name": "stdout"
        }
      ]
    },
    {
      "cell_type": "code",
      "metadata": {
        "id": "5gQoPST5zW2t"
      },
      "source": [
        "# df_train = pd.DataFrame()\n",
        "df_test = pd.DataFrame()"
      ],
      "execution_count": 37,
      "outputs": []
    },
    {
      "cell_type": "code",
      "metadata": {
        "id": "In76SYH_zZHV"
      },
      "source": [
        "columns = [\"init_a\", \"init_b\", \"init_c\", \"final_a\", \"final_b\", \"final_c\", \"train_loss\", \"argmax > 0.5\" , \"ftpt\", \"ffpt\", \"ftpf\", \"ffpf\" ]"
      ],
      "execution_count": 38,
      "outputs": []
    },
    {
      "cell_type": "code",
      "metadata": {
        "id": "BS4HtOHEzZ0E"
      },
      "source": [
        "df_test[columns[0]] = init_a\n",
        "df_test[columns[1]] = init_b\n",
        "df_test[columns[2]] = init_c\n",
        "df_test[columns[3]] = final_a\n",
        "df_test[columns[4]] = final_b\n",
        "df_test[columns[5]] = final_c\n",
        "df_test[columns[6]] = all_loss\n",
        "df_test[columns[7]] = all_alphas_more_than_half\n",
        "df_test[columns[8]] = all_ftpt\n",
        "df_test[columns[9]] = all_ffpt\n",
        "df_test[columns[10]] = all_ftpf\n",
        "df_test[columns[11]] = all_ffpf"
      ],
      "execution_count": 39,
      "outputs": []
    },
    {
      "cell_type": "code",
      "metadata": {
        "id": "1UbTkfLUINTI",
        "colab": {
          "base_uri": "https://localhost:8080/",
          "height": 896
        },
        "outputId": "6ff79360-2163-4518-e95e-061d6fbec425"
      },
      "source": [
        "df_test"
      ],
      "execution_count": 40,
      "outputs": [
        {
          "output_type": "execute_result",
          "data": {
            "text/html": [
              "<div>\n",
              "<style scoped>\n",
              "    .dataframe tbody tr th:only-of-type {\n",
              "        vertical-align: middle;\n",
              "    }\n",
              "\n",
              "    .dataframe tbody tr th {\n",
              "        vertical-align: top;\n",
              "    }\n",
              "\n",
              "    .dataframe thead th {\n",
              "        text-align: right;\n",
              "    }\n",
              "</style>\n",
              "<table border=\"1\" class=\"dataframe\">\n",
              "  <thead>\n",
              "    <tr style=\"text-align: right;\">\n",
              "      <th></th>\n",
              "      <th>init_a</th>\n",
              "      <th>init_b</th>\n",
              "      <th>init_c</th>\n",
              "      <th>final_a</th>\n",
              "      <th>final_b</th>\n",
              "      <th>final_c</th>\n",
              "      <th>train_loss</th>\n",
              "      <th>argmax &gt; 0.5</th>\n",
              "      <th>ftpt</th>\n",
              "      <th>ffpt</th>\n",
              "      <th>ftpf</th>\n",
              "      <th>ffpf</th>\n",
              "    </tr>\n",
              "  </thead>\n",
              "  <tbody>\n",
              "    <tr>\n",
              "      <th>0</th>\n",
              "      <td>-0.1</td>\n",
              "      <td>-0.1</td>\n",
              "      <td>-0.1</td>\n",
              "      <td>-0.279</td>\n",
              "      <td>3.184</td>\n",
              "      <td>15.309</td>\n",
              "      <td>0.073</td>\n",
              "      <td>65.4</td>\n",
              "      <td>99.6</td>\n",
              "      <td>0.0</td>\n",
              "      <td>0.4</td>\n",
              "      <td>0.0</td>\n",
              "    </tr>\n",
              "    <tr>\n",
              "      <th>1</th>\n",
              "      <td>-0.1</td>\n",
              "      <td>-0.1</td>\n",
              "      <td>0.0</td>\n",
              "      <td>-0.279</td>\n",
              "      <td>3.187</td>\n",
              "      <td>15.327</td>\n",
              "      <td>0.073</td>\n",
              "      <td>65.4</td>\n",
              "      <td>99.6</td>\n",
              "      <td>0.0</td>\n",
              "      <td>0.4</td>\n",
              "      <td>0.0</td>\n",
              "    </tr>\n",
              "    <tr>\n",
              "      <th>2</th>\n",
              "      <td>-0.1</td>\n",
              "      <td>-0.1</td>\n",
              "      <td>0.1</td>\n",
              "      <td>-0.279</td>\n",
              "      <td>3.185</td>\n",
              "      <td>15.318</td>\n",
              "      <td>0.073</td>\n",
              "      <td>65.4</td>\n",
              "      <td>99.6</td>\n",
              "      <td>0.0</td>\n",
              "      <td>0.4</td>\n",
              "      <td>0.0</td>\n",
              "    </tr>\n",
              "    <tr>\n",
              "      <th>3</th>\n",
              "      <td>-0.1</td>\n",
              "      <td>0.0</td>\n",
              "      <td>-0.1</td>\n",
              "      <td>-0.278</td>\n",
              "      <td>3.124</td>\n",
              "      <td>15.006</td>\n",
              "      <td>0.075</td>\n",
              "      <td>65.4</td>\n",
              "      <td>99.6</td>\n",
              "      <td>0.0</td>\n",
              "      <td>0.4</td>\n",
              "      <td>0.0</td>\n",
              "    </tr>\n",
              "    <tr>\n",
              "      <th>4</th>\n",
              "      <td>-0.1</td>\n",
              "      <td>0.0</td>\n",
              "      <td>0.0</td>\n",
              "      <td>-0.279</td>\n",
              "      <td>3.145</td>\n",
              "      <td>15.116</td>\n",
              "      <td>0.074</td>\n",
              "      <td>65.4</td>\n",
              "      <td>99.6</td>\n",
              "      <td>0.0</td>\n",
              "      <td>0.4</td>\n",
              "      <td>0.0</td>\n",
              "    </tr>\n",
              "    <tr>\n",
              "      <th>5</th>\n",
              "      <td>-0.1</td>\n",
              "      <td>0.0</td>\n",
              "      <td>0.1</td>\n",
              "      <td>-0.279</td>\n",
              "      <td>3.153</td>\n",
              "      <td>15.156</td>\n",
              "      <td>0.074</td>\n",
              "      <td>65.4</td>\n",
              "      <td>99.6</td>\n",
              "      <td>0.0</td>\n",
              "      <td>0.4</td>\n",
              "      <td>0.0</td>\n",
              "    </tr>\n",
              "    <tr>\n",
              "      <th>6</th>\n",
              "      <td>-0.1</td>\n",
              "      <td>0.1</td>\n",
              "      <td>-0.1</td>\n",
              "      <td>-0.278</td>\n",
              "      <td>3.099</td>\n",
              "      <td>14.876</td>\n",
              "      <td>0.076</td>\n",
              "      <td>65.3</td>\n",
              "      <td>99.6</td>\n",
              "      <td>0.0</td>\n",
              "      <td>0.4</td>\n",
              "      <td>0.0</td>\n",
              "    </tr>\n",
              "    <tr>\n",
              "      <th>7</th>\n",
              "      <td>-0.1</td>\n",
              "      <td>0.1</td>\n",
              "      <td>0.0</td>\n",
              "      <td>-0.278</td>\n",
              "      <td>3.125</td>\n",
              "      <td>15.007</td>\n",
              "      <td>0.075</td>\n",
              "      <td>65.4</td>\n",
              "      <td>99.6</td>\n",
              "      <td>0.0</td>\n",
              "      <td>0.4</td>\n",
              "      <td>0.0</td>\n",
              "    </tr>\n",
              "    <tr>\n",
              "      <th>8</th>\n",
              "      <td>-0.1</td>\n",
              "      <td>0.1</td>\n",
              "      <td>0.1</td>\n",
              "      <td>-0.279</td>\n",
              "      <td>3.151</td>\n",
              "      <td>15.141</td>\n",
              "      <td>0.074</td>\n",
              "      <td>65.4</td>\n",
              "      <td>99.6</td>\n",
              "      <td>0.0</td>\n",
              "      <td>0.4</td>\n",
              "      <td>0.0</td>\n",
              "    </tr>\n",
              "    <tr>\n",
              "      <th>9</th>\n",
              "      <td>0.0</td>\n",
              "      <td>-0.1</td>\n",
              "      <td>-0.1</td>\n",
              "      <td>0.252</td>\n",
              "      <td>-0.766</td>\n",
              "      <td>0.095</td>\n",
              "      <td>0.684</td>\n",
              "      <td>0.0</td>\n",
              "      <td>0.0</td>\n",
              "      <td>54.9</td>\n",
              "      <td>0.0</td>\n",
              "      <td>45.1</td>\n",
              "    </tr>\n",
              "    <tr>\n",
              "      <th>10</th>\n",
              "      <td>0.0</td>\n",
              "      <td>-0.1</td>\n",
              "      <td>0.0</td>\n",
              "      <td>0.252</td>\n",
              "      <td>-0.766</td>\n",
              "      <td>0.095</td>\n",
              "      <td>0.684</td>\n",
              "      <td>0.0</td>\n",
              "      <td>0.0</td>\n",
              "      <td>54.9</td>\n",
              "      <td>0.0</td>\n",
              "      <td>45.1</td>\n",
              "    </tr>\n",
              "    <tr>\n",
              "      <th>11</th>\n",
              "      <td>0.0</td>\n",
              "      <td>-0.1</td>\n",
              "      <td>0.1</td>\n",
              "      <td>0.252</td>\n",
              "      <td>-0.766</td>\n",
              "      <td>0.095</td>\n",
              "      <td>0.684</td>\n",
              "      <td>0.0</td>\n",
              "      <td>0.0</td>\n",
              "      <td>54.9</td>\n",
              "      <td>0.0</td>\n",
              "      <td>45.1</td>\n",
              "    </tr>\n",
              "    <tr>\n",
              "      <th>12</th>\n",
              "      <td>0.0</td>\n",
              "      <td>0.0</td>\n",
              "      <td>-0.1</td>\n",
              "      <td>-0.278</td>\n",
              "      <td>3.133</td>\n",
              "      <td>15.050</td>\n",
              "      <td>0.075</td>\n",
              "      <td>65.4</td>\n",
              "      <td>99.6</td>\n",
              "      <td>0.0</td>\n",
              "      <td>0.4</td>\n",
              "      <td>0.0</td>\n",
              "    </tr>\n",
              "    <tr>\n",
              "      <th>13</th>\n",
              "      <td>0.0</td>\n",
              "      <td>0.0</td>\n",
              "      <td>0.0</td>\n",
              "      <td>-0.279</td>\n",
              "      <td>3.148</td>\n",
              "      <td>15.127</td>\n",
              "      <td>0.074</td>\n",
              "      <td>65.4</td>\n",
              "      <td>99.6</td>\n",
              "      <td>0.0</td>\n",
              "      <td>0.4</td>\n",
              "      <td>0.0</td>\n",
              "    </tr>\n",
              "    <tr>\n",
              "      <th>14</th>\n",
              "      <td>0.0</td>\n",
              "      <td>0.0</td>\n",
              "      <td>0.1</td>\n",
              "      <td>-0.279</td>\n",
              "      <td>3.149</td>\n",
              "      <td>15.133</td>\n",
              "      <td>0.074</td>\n",
              "      <td>65.4</td>\n",
              "      <td>99.6</td>\n",
              "      <td>0.0</td>\n",
              "      <td>0.4</td>\n",
              "      <td>0.0</td>\n",
              "    </tr>\n",
              "    <tr>\n",
              "      <th>15</th>\n",
              "      <td>0.0</td>\n",
              "      <td>0.1</td>\n",
              "      <td>-0.1</td>\n",
              "      <td>-0.278</td>\n",
              "      <td>3.116</td>\n",
              "      <td>14.963</td>\n",
              "      <td>0.075</td>\n",
              "      <td>65.4</td>\n",
              "      <td>99.6</td>\n",
              "      <td>0.0</td>\n",
              "      <td>0.4</td>\n",
              "      <td>0.0</td>\n",
              "    </tr>\n",
              "    <tr>\n",
              "      <th>16</th>\n",
              "      <td>0.0</td>\n",
              "      <td>0.1</td>\n",
              "      <td>0.0</td>\n",
              "      <td>-0.278</td>\n",
              "      <td>3.140</td>\n",
              "      <td>15.083</td>\n",
              "      <td>0.075</td>\n",
              "      <td>65.4</td>\n",
              "      <td>99.6</td>\n",
              "      <td>0.0</td>\n",
              "      <td>0.4</td>\n",
              "      <td>0.0</td>\n",
              "    </tr>\n",
              "    <tr>\n",
              "      <th>17</th>\n",
              "      <td>0.0</td>\n",
              "      <td>0.1</td>\n",
              "      <td>0.1</td>\n",
              "      <td>-0.279</td>\n",
              "      <td>3.157</td>\n",
              "      <td>15.171</td>\n",
              "      <td>0.074</td>\n",
              "      <td>65.4</td>\n",
              "      <td>99.6</td>\n",
              "      <td>0.0</td>\n",
              "      <td>0.4</td>\n",
              "      <td>0.0</td>\n",
              "    </tr>\n",
              "    <tr>\n",
              "      <th>18</th>\n",
              "      <td>0.1</td>\n",
              "      <td>-0.1</td>\n",
              "      <td>-0.1</td>\n",
              "      <td>0.252</td>\n",
              "      <td>-0.766</td>\n",
              "      <td>0.095</td>\n",
              "      <td>0.684</td>\n",
              "      <td>0.0</td>\n",
              "      <td>0.0</td>\n",
              "      <td>54.9</td>\n",
              "      <td>0.0</td>\n",
              "      <td>45.1</td>\n",
              "    </tr>\n",
              "    <tr>\n",
              "      <th>19</th>\n",
              "      <td>0.1</td>\n",
              "      <td>-0.1</td>\n",
              "      <td>0.0</td>\n",
              "      <td>0.252</td>\n",
              "      <td>-0.766</td>\n",
              "      <td>0.095</td>\n",
              "      <td>0.684</td>\n",
              "      <td>0.0</td>\n",
              "      <td>0.0</td>\n",
              "      <td>54.9</td>\n",
              "      <td>0.0</td>\n",
              "      <td>45.1</td>\n",
              "    </tr>\n",
              "    <tr>\n",
              "      <th>20</th>\n",
              "      <td>0.1</td>\n",
              "      <td>-0.1</td>\n",
              "      <td>0.1</td>\n",
              "      <td>0.252</td>\n",
              "      <td>-0.766</td>\n",
              "      <td>0.095</td>\n",
              "      <td>0.684</td>\n",
              "      <td>0.0</td>\n",
              "      <td>0.0</td>\n",
              "      <td>54.9</td>\n",
              "      <td>0.0</td>\n",
              "      <td>45.1</td>\n",
              "    </tr>\n",
              "    <tr>\n",
              "      <th>21</th>\n",
              "      <td>0.1</td>\n",
              "      <td>0.0</td>\n",
              "      <td>-0.1</td>\n",
              "      <td>0.252</td>\n",
              "      <td>-0.766</td>\n",
              "      <td>0.095</td>\n",
              "      <td>0.684</td>\n",
              "      <td>0.0</td>\n",
              "      <td>0.0</td>\n",
              "      <td>54.9</td>\n",
              "      <td>0.0</td>\n",
              "      <td>45.1</td>\n",
              "    </tr>\n",
              "    <tr>\n",
              "      <th>22</th>\n",
              "      <td>0.1</td>\n",
              "      <td>0.0</td>\n",
              "      <td>0.0</td>\n",
              "      <td>0.252</td>\n",
              "      <td>-0.766</td>\n",
              "      <td>0.095</td>\n",
              "      <td>0.684</td>\n",
              "      <td>0.0</td>\n",
              "      <td>0.0</td>\n",
              "      <td>54.9</td>\n",
              "      <td>0.0</td>\n",
              "      <td>45.1</td>\n",
              "    </tr>\n",
              "    <tr>\n",
              "      <th>23</th>\n",
              "      <td>0.1</td>\n",
              "      <td>0.0</td>\n",
              "      <td>0.1</td>\n",
              "      <td>0.252</td>\n",
              "      <td>-0.766</td>\n",
              "      <td>0.095</td>\n",
              "      <td>0.684</td>\n",
              "      <td>0.0</td>\n",
              "      <td>0.0</td>\n",
              "      <td>54.9</td>\n",
              "      <td>0.0</td>\n",
              "      <td>45.1</td>\n",
              "    </tr>\n",
              "    <tr>\n",
              "      <th>24</th>\n",
              "      <td>0.1</td>\n",
              "      <td>0.1</td>\n",
              "      <td>-0.1</td>\n",
              "      <td>-0.279</td>\n",
              "      <td>3.146</td>\n",
              "      <td>15.115</td>\n",
              "      <td>0.074</td>\n",
              "      <td>65.4</td>\n",
              "      <td>99.6</td>\n",
              "      <td>0.0</td>\n",
              "      <td>0.4</td>\n",
              "      <td>0.0</td>\n",
              "    </tr>\n",
              "    <tr>\n",
              "      <th>25</th>\n",
              "      <td>0.1</td>\n",
              "      <td>0.1</td>\n",
              "      <td>0.0</td>\n",
              "      <td>-0.279</td>\n",
              "      <td>3.155</td>\n",
              "      <td>15.161</td>\n",
              "      <td>0.074</td>\n",
              "      <td>65.4</td>\n",
              "      <td>99.6</td>\n",
              "      <td>0.0</td>\n",
              "      <td>0.4</td>\n",
              "      <td>0.0</td>\n",
              "    </tr>\n",
              "    <tr>\n",
              "      <th>26</th>\n",
              "      <td>0.1</td>\n",
              "      <td>0.1</td>\n",
              "      <td>0.1</td>\n",
              "      <td>-0.279</td>\n",
              "      <td>3.155</td>\n",
              "      <td>15.157</td>\n",
              "      <td>0.074</td>\n",
              "      <td>65.4</td>\n",
              "      <td>99.6</td>\n",
              "      <td>0.0</td>\n",
              "      <td>0.4</td>\n",
              "      <td>0.0</td>\n",
              "    </tr>\n",
              "  </tbody>\n",
              "</table>\n",
              "</div>"
            ],
            "text/plain": [
              "    init_a  init_b  init_c  final_a  ...  ftpt  ffpt  ftpf  ffpf\n",
              "0     -0.1    -0.1    -0.1   -0.279  ...  99.6   0.0   0.4   0.0\n",
              "1     -0.1    -0.1     0.0   -0.279  ...  99.6   0.0   0.4   0.0\n",
              "2     -0.1    -0.1     0.1   -0.279  ...  99.6   0.0   0.4   0.0\n",
              "3     -0.1     0.0    -0.1   -0.278  ...  99.6   0.0   0.4   0.0\n",
              "4     -0.1     0.0     0.0   -0.279  ...  99.6   0.0   0.4   0.0\n",
              "5     -0.1     0.0     0.1   -0.279  ...  99.6   0.0   0.4   0.0\n",
              "6     -0.1     0.1    -0.1   -0.278  ...  99.6   0.0   0.4   0.0\n",
              "7     -0.1     0.1     0.0   -0.278  ...  99.6   0.0   0.4   0.0\n",
              "8     -0.1     0.1     0.1   -0.279  ...  99.6   0.0   0.4   0.0\n",
              "9      0.0    -0.1    -0.1    0.252  ...   0.0  54.9   0.0  45.1\n",
              "10     0.0    -0.1     0.0    0.252  ...   0.0  54.9   0.0  45.1\n",
              "11     0.0    -0.1     0.1    0.252  ...   0.0  54.9   0.0  45.1\n",
              "12     0.0     0.0    -0.1   -0.278  ...  99.6   0.0   0.4   0.0\n",
              "13     0.0     0.0     0.0   -0.279  ...  99.6   0.0   0.4   0.0\n",
              "14     0.0     0.0     0.1   -0.279  ...  99.6   0.0   0.4   0.0\n",
              "15     0.0     0.1    -0.1   -0.278  ...  99.6   0.0   0.4   0.0\n",
              "16     0.0     0.1     0.0   -0.278  ...  99.6   0.0   0.4   0.0\n",
              "17     0.0     0.1     0.1   -0.279  ...  99.6   0.0   0.4   0.0\n",
              "18     0.1    -0.1    -0.1    0.252  ...   0.0  54.9   0.0  45.1\n",
              "19     0.1    -0.1     0.0    0.252  ...   0.0  54.9   0.0  45.1\n",
              "20     0.1    -0.1     0.1    0.252  ...   0.0  54.9   0.0  45.1\n",
              "21     0.1     0.0    -0.1    0.252  ...   0.0  54.9   0.0  45.1\n",
              "22     0.1     0.0     0.0    0.252  ...   0.0  54.9   0.0  45.1\n",
              "23     0.1     0.0     0.1    0.252  ...   0.0  54.9   0.0  45.1\n",
              "24     0.1     0.1    -0.1   -0.279  ...  99.6   0.0   0.4   0.0\n",
              "25     0.1     0.1     0.0   -0.279  ...  99.6   0.0   0.4   0.0\n",
              "26     0.1     0.1     0.1   -0.279  ...  99.6   0.0   0.4   0.0\n",
              "\n",
              "[27 rows x 12 columns]"
            ]
          },
          "metadata": {
            "tags": []
          },
          "execution_count": 40
        }
      ]
    },
    {
      "cell_type": "code",
      "metadata": {
        "id": "1m2PyeaJcO7H"
      },
      "source": [
        "df_test.to_csv(\"linear_linear_simultaneous.csv\")"
      ],
      "execution_count": 41,
      "outputs": []
    },
    {
      "cell_type": "code",
      "metadata": {
        "id": "8mipCcN0cdXO"
      },
      "source": [
        ""
      ],
      "execution_count": 41,
      "outputs": []
    }
  ]
}