{
  "nbformat": 4,
  "nbformat_minor": 0,
  "metadata": {
    "accelerator": "GPU",
    "colab": {
      "name": "linear_linear_adam_simultaneous_27_exp.ipynb",
      "provenance": [],
      "collapsed_sections": []
    },
    "kernelspec": {
      "display_name": "Python 3",
      "language": "python",
      "name": "python3"
    },
    "language_info": {
      "codemirror_mode": {
        "name": "ipython",
        "version": 3
      },
      "file_extension": ".py",
      "mimetype": "text/x-python",
      "name": "python",
      "nbconvert_exporter": "python",
      "pygments_lexer": "ipython3",
      "version": "3.6.5"
    }
  },
  "cells": [
    {
      "cell_type": "code",
      "metadata": {
        "colab": {
          "base_uri": "https://localhost:8080/"
        },
        "id": "N2_J4Rw2r0SQ",
        "outputId": "cb647704-5c23-46e6-bbf8-e97b365dea4e"
      },
      "source": [
        "import numpy as np\n",
        "import pandas as pd\n",
        "from matplotlib import pyplot as plt\n",
        "from tqdm import tqdm\n",
        "%matplotlib inline\n",
        "from torch.utils.data import Dataset, DataLoader\n",
        "import torch\n",
        "import torchvision\n",
        "\n",
        "import torch.nn as nn\n",
        "import torch.optim as optim\n",
        "from torch.nn import functional as F\n",
        "device = torch.device(\"cuda\" if torch.cuda.is_available() else \"cpu\")\n",
        "print(device)\n",
        "\n",
        "torch.backends.cudnn.deterministic = True\n",
        "torch.backends.cudnn.benchmark = False"
      ],
      "execution_count": 1,
      "outputs": [
        {
          "output_type": "stream",
          "text": [
            "cuda\n"
          ],
          "name": "stdout"
        }
      ]
    },
    {
      "cell_type": "markdown",
      "metadata": {
        "id": "F6fjud_Fr0Sa"
      },
      "source": [
        "# Generate dataset"
      ]
    },
    {
      "cell_type": "code",
      "metadata": {
        "colab": {
          "base_uri": "https://localhost:8080/"
        },
        "id": "CqdXHO0Cr0Sd",
        "outputId": "87989796-17b1-49cc-c923-292483a9eb96"
      },
      "source": [
        "np.random.seed(12)\n",
        "y = np.random.randint(0,3,500)\n",
        "idx= []\n",
        "for i in range(3):\n",
        "    print(i,sum(y==i))\n",
        "    idx.append(y==i)"
      ],
      "execution_count": 4,
      "outputs": [
        {
          "output_type": "stream",
          "text": [
            "0 174\n",
            "1 163\n",
            "2 163\n"
          ],
          "name": "stdout"
        }
      ]
    },
    {
      "cell_type": "code",
      "metadata": {
        "id": "ddhXyODwr0Sk"
      },
      "source": [
        "x = np.zeros((500,))"
      ],
      "execution_count": 5,
      "outputs": []
    },
    {
      "cell_type": "code",
      "metadata": {
        "id": "DyV3N2DIr0Sp"
      },
      "source": [
        "np.random.seed(12)\n",
        "x[idx[0]] = np.random.uniform(low =-1,high =0,size= sum(idx[0]))\n",
        "x[idx[1]] = np.random.uniform(low =0,high =1,size= sum(idx[1]))\n",
        "x[idx[2]] = np.random.uniform(low =2,high =3,size= sum(idx[2]))"
      ],
      "execution_count": 6,
      "outputs": []
    },
    {
      "cell_type": "code",
      "metadata": {
        "colab": {
          "base_uri": "https://localhost:8080/"
        },
        "id": "qh1mDScsU07I",
        "outputId": "2f527c4f-4bf1-4c6c-cf2d-adadd615d396"
      },
      "source": [
        "x[idx[0]][0], x[idx[2]][5] "
      ],
      "execution_count": 7,
      "outputs": [
        {
          "output_type": "execute_result",
          "data": {
            "text/plain": [
              "(-0.8458371576203276, 2.2459800877058114)"
            ]
          },
          "metadata": {
            "tags": []
          },
          "execution_count": 7
        }
      ]
    },
    {
      "cell_type": "code",
      "metadata": {
        "colab": {
          "base_uri": "https://localhost:8080/"
        },
        "id": "9Vr5ErQ_wSrV",
        "outputId": "df25824a-4cc0-46d3-8745-1ee0c61fb43a"
      },
      "source": [
        "print(x.shape,y.shape)"
      ],
      "execution_count": 8,
      "outputs": [
        {
          "output_type": "stream",
          "text": [
            "(500,) (500,)\n"
          ],
          "name": "stdout"
        }
      ]
    },
    {
      "cell_type": "code",
      "metadata": {
        "id": "NG-3RpffwU_i"
      },
      "source": [
        "idx= []\n",
        "for i in range(3):\n",
        "  idx.append(y==i)"
      ],
      "execution_count": 9,
      "outputs": []
    },
    {
      "cell_type": "code",
      "metadata": {
        "colab": {
          "base_uri": "https://localhost:8080/",
          "height": 284
        },
        "id": "hJ8Jm7YUr0St",
        "outputId": "3a55b4fe-494f-4daa-f0df-e2bb8797abdd"
      },
      "source": [
        "for i in range(3):\n",
        "    y= np.zeros(x[idx[i]].shape[0])\n",
        "    plt.scatter(x[idx[i]],y,label=\"class_\"+str(i))\n",
        "plt.legend()"
      ],
      "execution_count": 10,
      "outputs": [
        {
          "output_type": "execute_result",
          "data": {
            "text/plain": [
              "<matplotlib.legend.Legend at 0x7efee443b790>"
            ]
          },
          "metadata": {
            "tags": []
          },
          "execution_count": 10
        },
        {
          "output_type": "display_data",
          "data": {
            "image/png": "[encoded data removed]",
            "text/plain": [
              "<Figure size 432x288 with 1 Axes>"
            ]
          },
          "metadata": {
            "tags": [],
            "needs_background": "light"
          }
        }
      ]
    },
    {
      "cell_type": "code",
      "metadata": {
        "colab": {
          "base_uri": "https://localhost:8080/"
        },
        "id": "3lMBZEHNBlF2",
        "outputId": "cf535b9e-95ef-470a-d534-efedcca9f98e"
      },
      "source": [
        "bg_idx = [ np.where(idx[2] == True)[0]]\n",
        "\n",
        "bg_idx = np.concatenate(bg_idx, axis = 0)\n",
        "bg_idx.shape"
      ],
      "execution_count": 11,
      "outputs": [
        {
          "output_type": "execute_result",
          "data": {
            "text/plain": [
              "(163,)"
            ]
          },
          "metadata": {
            "tags": []
          },
          "execution_count": 11
        }
      ]
    },
    {
      "cell_type": "code",
      "metadata": {
        "colab": {
          "base_uri": "https://localhost:8080/"
        },
        "id": "blRbGZHeCwXU",
        "outputId": "697d39f1-e39e-4d66-a172-d18c3a9165e7"
      },
      "source": [
        "np.unique(bg_idx).shape"
      ],
      "execution_count": 12,
      "outputs": [
        {
          "output_type": "execute_result",
          "data": {
            "text/plain": [
              "(163,)"
            ]
          },
          "metadata": {
            "tags": []
          },
          "execution_count": 12
        }
      ]
    },
    {
      "cell_type": "code",
      "metadata": {
        "id": "Y43sWeX7C15F"
      },
      "source": [
        "x = x - np.mean(x[bg_idx], axis = 0, keepdims = True)\n"
      ],
      "execution_count": 13,
      "outputs": []
    },
    {
      "cell_type": "code",
      "metadata": {
        "colab": {
          "base_uri": "https://localhost:8080/"
        },
        "id": "ooII7N6UDWe0",
        "outputId": "0adef6ea-c5ef-456a-cc5f-1793adaf3be6"
      },
      "source": [
        "np.mean(x[bg_idx], axis = 0, keepdims = True), np.mean(x, axis = 0, keepdims = True)"
      ],
      "execution_count": 14,
      "outputs": [
        {
          "output_type": "execute_result",
          "data": {
            "text/plain": [
              "(array([-1.00805526e-16]), array([-1.7163962]))"
            ]
          },
          "metadata": {
            "tags": []
          },
          "execution_count": 14
        }
      ]
    },
    {
      "cell_type": "code",
      "metadata": {
        "id": "g21bvPRYDL9k"
      },
      "source": [
        "x = x/np.std(x[bg_idx], axis = 0, keepdims = True)"
      ],
      "execution_count": 15,
      "outputs": []
    },
    {
      "cell_type": "code",
      "metadata": {
        "colab": {
          "base_uri": "https://localhost:8080/"
        },
        "id": "GtFvIeHsDZJk",
        "outputId": "0c3f5206-e4fb-46cb-ab9e-5a00e83c74f5"
      },
      "source": [
        "np.std(x[bg_idx], axis = 0, keepdims = True), np.std(x, axis = 0, keepdims = True)"
      ],
      "execution_count": 16,
      "outputs": [
        {
          "output_type": "execute_result",
          "data": {
            "text/plain": [
              "(array([1.]), array([4.37808847]))"
            ]
          },
          "metadata": {
            "tags": []
          },
          "execution_count": 16
        }
      ]
    },
    {
      "cell_type": "code",
      "metadata": {
        "colab": {
          "base_uri": "https://localhost:8080/",
          "height": 284
        },
        "id": "8-VLhUfDDeHt",
        "outputId": "6d856e11-4134-4881-92d2-0a36db907555"
      },
      "source": [
        "for i in range(3):\n",
        "    y= np.zeros(x[idx[i]].shape[0])\n",
        "    plt.scatter(x[idx[i]],y,label=\"class_\"+str(i))\n",
        "plt.legend()"
      ],
      "execution_count": 17,
      "outputs": [
        {
          "output_type": "execute_result",
          "data": {
            "text/plain": [
              "<matplotlib.legend.Legend at 0x7efee3f04450>"
            ]
          },
          "metadata": {
            "tags": []
          },
          "execution_count": 17
        },
        {
          "output_type": "display_data",
          "data": {
            "image/png": "[encoded data removed]",
            "text/plain": [
              "<Figure size 432x288 with 1 Axes>"
            ]
          },
          "metadata": {
            "tags": [],
            "needs_background": "light"
          }
        }
      ]
    },
    {
      "cell_type": "code",
      "metadata": {
        "id": "UfFHcZJOr0Sz"
      },
      "source": [
        "foreground_classes = {'class_0','class_1' }\n",
        "\n",
        "background_classes = {'class_2'}"
      ],
      "execution_count": 18,
      "outputs": []
    },
    {
      "cell_type": "code",
      "metadata": {
        "colab": {
          "base_uri": "https://localhost:8080/"
        },
        "id": "OplNpNQVr0S2",
        "outputId": "f3472549-8e24-419c-ead6-ff219b0430a1"
      },
      "source": [
        "fg_class  = np.random.randint(0,2)\n",
        "fg_idx = np.random.randint(0,9)\n",
        "\n",
        "a = []\n",
        "for i in range(9):\n",
        "    if i == fg_idx:\n",
        "        b = np.random.choice(np.where(idx[fg_class]==True)[0],size=1)\n",
        "        a.append(x[b])\n",
        "        print(\"foreground \"+str(fg_class)+\" present at \" + str(fg_idx))\n",
        "    else:\n",
        "        bg_class = np.random.randint(2,3)\n",
        "        b = np.random.choice(np.where(idx[bg_class]==True)[0],size=1)\n",
        "        a.append(x[b])\n",
        "        print(\"background \"+str(bg_class)+\" present at \" + str(i))\n",
        "a = np.concatenate(a,axis=0)\n",
        "print(a.shape)\n",
        "\n",
        "print(fg_class , fg_idx)"
      ],
      "execution_count": 19,
      "outputs": [
        {
          "output_type": "stream",
          "text": [
            "background 2 present at 0\n",
            "background 2 present at 1\n",
            "background 2 present at 2\n",
            "background 2 present at 3\n",
            "background 2 present at 4\n",
            "background 2 present at 5\n",
            "background 2 present at 6\n",
            "background 2 present at 7\n",
            "foreground 1 present at 8\n",
            "(9,)\n",
            "1 8\n"
          ],
          "name": "stdout"
        }
      ]
    },
    {
      "cell_type": "code",
      "metadata": {
        "colab": {
          "base_uri": "https://localhost:8080/"
        },
        "id": "dwZVmmRBr0S8",
        "outputId": "d66bb5cb-6c8d-406e-f352-266535044788"
      },
      "source": [
        "a.shape"
      ],
      "execution_count": 20,
      "outputs": [
        {
          "output_type": "execute_result",
          "data": {
            "text/plain": [
              "(9,)"
            ]
          },
          "metadata": {
            "tags": []
          },
          "execution_count": 20
        }
      ]
    },
    {
      "cell_type": "code",
      "metadata": {
        "colab": {
          "base_uri": "https://localhost:8080/"
        },
        "id": "OoxzYI-ur0S_",
        "outputId": "787c3d1e-ee82-4441-b936-1f1fe4787533"
      },
      "source": [
        "np.reshape(a,(9,1))"
      ],
      "execution_count": 21,
      "outputs": [
        {
          "output_type": "execute_result",
          "data": {
            "text/plain": [
              "array([[-0.80241043],\n",
              "       [ 1.00228507],\n",
              "       [-0.81132988],\n",
              "       [ 1.2774409 ],\n",
              "       [ 0.57398646],\n",
              "       [-0.91850331],\n",
              "       [ 0.6600648 ],\n",
              "       [ 0.57398646],\n",
              "       [-7.63155537]])"
            ]
          },
          "metadata": {
            "tags": []
          },
          "execution_count": 21
        }
      ]
    },
    {
      "cell_type": "code",
      "metadata": {
        "id": "y4ruI0cxr0TE"
      },
      "source": [
        "a=np.reshape(a,(3,3))"
      ],
      "execution_count": 22,
      "outputs": []
    },
    {
      "cell_type": "code",
      "metadata": {
        "colab": {
          "base_uri": "https://localhost:8080/",
          "height": 288
        },
        "id": "RTUTFhJIr0TI",
        "outputId": "e3d377d9-a4dc-4687-a4d6-e05f6187ba96"
      },
      "source": [
        "plt.imshow(a)"
      ],
      "execution_count": 23,
      "outputs": [
        {
          "output_type": "execute_result",
          "data": {
            "text/plain": [
              "<matplotlib.image.AxesImage at 0x7efee3ea0f10>"
            ]
          },
          "metadata": {
            "tags": []
          },
          "execution_count": 23
        },
        {
          "output_type": "display_data",
          "data": {
            "image/png": "[encoded data removed]",
            "text/plain": [
              "<Figure size 432x288 with 1 Axes>"
            ]
          },
          "metadata": {
            "tags": [],
            "needs_background": "light"
          }
        }
      ]
    },
    {
      "cell_type": "code",
      "metadata": {
        "id": "jqbvfbwVr0TN"
      },
      "source": [
        "desired_num = 2000\n",
        "mosaic_list_of_images =[]\n",
        "mosaic_label = []\n",
        "fore_idx=[]\n",
        "for j in range(desired_num):\n",
        "    np.random.seed(j)\n",
        "    fg_class  = np.random.randint(0,2)\n",
        "    fg_idx = 0\n",
        "    a = []\n",
        "    for i in range(9):\n",
        "        if i == fg_idx:\n",
        "            b = np.random.choice(np.where(idx[fg_class]==True)[0],size=1)\n",
        "            a.append(x[b])\n",
        "#             print(\"foreground \"+str(fg_class)+\" present at \" + str(fg_idx))\n",
        "        else:\n",
        "            bg_class = np.random.randint(2,3)\n",
        "            b = np.random.choice(np.where(idx[bg_class]==True)[0],size=1)\n",
        "            a.append(x[b])\n",
        "#             print(\"background \"+str(bg_class)+\" present at \" + str(i))\n",
        "    a = np.concatenate(a,axis=0)\n",
        "    mosaic_list_of_images.append(np.reshape(a,(9,1)))\n",
        "    mosaic_label.append(fg_class)\n",
        "    fore_idx.append(fg_idx)"
      ],
      "execution_count": 24,
      "outputs": []
    },
    {
      "cell_type": "code",
      "metadata": {
        "id": "BOsFmWfMr0TR"
      },
      "source": [
        "mosaic_list_of_images = np.concatenate(mosaic_list_of_images,axis=1).T\n"
      ],
      "execution_count": 25,
      "outputs": []
    },
    {
      "cell_type": "code",
      "metadata": {
        "colab": {
          "base_uri": "https://localhost:8080/"
        },
        "id": "2aIPMgLXNiXW",
        "outputId": "21983dda-acb3-4863-98e4-42505882e352"
      },
      "source": [
        "mosaic_list_of_images.shape, mosaic_list_of_images[0]"
      ],
      "execution_count": 26,
      "outputs": [
        {
          "output_type": "execute_result",
          "data": {
            "text/plain": [
              "((2000, 9), array([-10.62460519,   1.43580093,   0.13695373,  -0.4252276 ,\n",
              "         -0.91850331,  -0.12909751,  -1.73154424,   0.75582313,\n",
              "          0.6640638 ]))"
            ]
          },
          "metadata": {
            "tags": []
          },
          "execution_count": 26
        }
      ]
    },
    {
      "cell_type": "code",
      "metadata": {
        "colab": {
          "base_uri": "https://localhost:8080/"
        },
        "id": "A3qcsbbzPfRG",
        "outputId": "a1d3e2cb-4065-4341-993c-daade80f3cef"
      },
      "source": [
        "for j in range(9):\n",
        "  print(mosaic_list_of_images[0][j])\n",
        "  "
      ],
      "execution_count": 27,
      "outputs": [
        {
          "output_type": "stream",
          "text": [
            "-10.624605191016078\n",
            "1.4358009314866034\n",
            "0.13695372724012772\n",
            "-0.4252275951078302\n",
            "-0.9185033095974854\n",
            "-0.12909750858981067\n",
            "-1.7315442430857817\n",
            "0.7558231343879587\n",
            "0.6640638025673503\n"
          ],
          "name": "stdout"
        }
      ]
    },
    {
      "cell_type": "code",
      "metadata": {
        "id": "iPoIwbMHx44n"
      },
      "source": [
        "class MosaicDataset(Dataset):\n",
        "  \"\"\"MosaicDataset dataset.\"\"\"\n",
        "\n",
        "  def __init__(self, mosaic_list_of_images, mosaic_label, fore_idx):\n",
        "    \"\"\"\n",
        "      Args:\n",
        "        csv_file (string): Path to the csv file with annotations.\n",
        "        root_dir (string): Directory with all the images.\n",
        "        transform (callable, optional): Optional transform to be applied\n",
        "            on a sample.\n",
        "    \"\"\"\n",
        "    self.mosaic = mosaic_list_of_images\n",
        "    self.label = mosaic_label\n",
        "    self.fore_idx = fore_idx\n",
        "\n",
        "  def __len__(self):\n",
        "    return len(self.label)\n",
        "\n",
        "  def __getitem__(self, idx):\n",
        "    return self.mosaic[idx] , self.label[idx], self.fore_idx[idx]\n",
        "\n"
      ],
      "execution_count": 28,
      "outputs": []
    },
    {
      "cell_type": "code",
      "metadata": {
        "id": "fOPAJQJeW8Ah"
      },
      "source": [
        "batch = 250\n",
        "msd1 = MosaicDataset(mosaic_list_of_images[0:1000], mosaic_label[0:1000] , fore_idx[0:1000])\n",
        "train_loader = DataLoader( msd1 ,batch_size= batch ,shuffle=True)"
      ],
      "execution_count": 29,
      "outputs": []
    },
    {
      "cell_type": "code",
      "metadata": {
        "id": "qjNiQgxZW8bA"
      },
      "source": [
        "batch = 250\n",
        "msd2 = MosaicDataset(mosaic_list_of_images[1000:2000], mosaic_label[1000:2000] , fore_idx[1000:2000])\n",
        "test_loader = DataLoader( msd2 ,batch_size= batch ,shuffle=True)"
      ],
      "execution_count": 30,
      "outputs": []
    },
    {
      "cell_type": "code",
      "metadata": {
        "id": "30ZAjix3x8CM"
      },
      "source": [
        "class Focus(nn.Module):\n",
        "  def __init__(self):\n",
        "    super(Focus, self).__init__()\n",
        "\n",
        "    self.fc1 = nn.Linear(1, 1, bias= False)\n",
        "    # self.fc2 = nn.Linear(2, 1)\n",
        "\n",
        "  def forward(self,z):  #y is avg image #z batch of list of 9 images\n",
        "    y = torch.zeros([batch], dtype=torch.float64)\n",
        "    x = torch.zeros([batch,9],dtype=torch.float64)\n",
        "    y = y.to(\"cuda\")\n",
        "    x = x.to(\"cuda\")\n",
        "    # print(x.shape, z.shape)\n",
        "    for i in range(9):\n",
        "      # print(z[:,i].shape)\n",
        "      # print(self.helper(z[:,i])[:,0].shape)\n",
        "      x[:,i] = self.helper(z[:,i])[:,0]\n",
        "    # print(x.shape, z.shape)\n",
        "    x = F.softmax(x,dim=1)\n",
        "    # print(x.shape, z.shape)\n",
        "    # x1 = x[:,0]\n",
        "    # print(torch.mul(x[:,0],z[:,0]).shape)\n",
        "\n",
        "    for i in range(9):            \n",
        "      # x1 = x[:,i]          \n",
        "      y = y + torch.mul(x[:,i],z[:,i])\n",
        "\n",
        "    # print(x.shape, y.shape)\n",
        "    return x, y\n",
        "    \n",
        "  def helper(self, x):\n",
        "    x = x.view(-1, 1)\n",
        "    # x = F.relu(self.fc1(x))\n",
        "    x = (self.fc1(x))\n",
        "\n",
        "    return x"
      ],
      "execution_count": 31,
      "outputs": []
    },
    {
      "cell_type": "code",
      "metadata": {
        "id": "0dYXnywAD-4l"
      },
      "source": [
        "class Classification(nn.Module):\n",
        "  def __init__(self):\n",
        "    super(Classification, self).__init__()\n",
        "    self.fc1 = nn.Linear(1, 1)\n",
        "\n",
        "\n",
        "  def forward(self, x):\n",
        "    x = x.view(-1, 1)\n",
        "    x = self.fc1(x)\n",
        "    # print(x.shape)\n",
        "    return x"
      ],
      "execution_count": 32,
      "outputs": []
    },
    {
      "cell_type": "code",
      "metadata": {
        "id": "Yl41sE8vFERk"
      },
      "source": [
        "import torch.optim as optim\n",
        "\n",
        "def train(train_loader, test_loader, focus_net, classify):    \n",
        "  criterion = nn.BCEWithLogitsLoss()\n",
        "  optimizer_classify = optim.Adam(classify.parameters(), lr=0.01 ) #, momentum=0.9)\n",
        "  optimizer_focus = optim.Adam(focus_net.parameters(), lr=0.01 ) #, momentum=0.9)\n",
        "\n",
        "  print('-'*50)\n",
        "  print(focus_net.fc1.weight, classify.fc1.weight, classify.fc1.bias)\n",
        "  nos_epochs = 1000\n",
        "  loss_ret=0.0\n",
        "  for epoch in range(nos_epochs):  # loop over the dataset multiple times\n",
        "    \n",
        "    running_loss = 0.0\n",
        "    epoch_loss = []\n",
        "    cnt=0\n",
        "\n",
        "    iteration = desired_num // batch\n",
        "    \n",
        "    #training data set\n",
        "    \n",
        "    for i, data in  enumerate(train_loader):\n",
        "      inputs , labels , fore_idx = data\n",
        "      inputs, labels = inputs.to(\"cuda\"), labels.to(\"cuda\")\n",
        "      inputs = inputs.double()\n",
        "      labels = labels.float()\n",
        "      # zero the parameter gradients\n",
        "      \n",
        "      optimizer_focus.zero_grad()\n",
        "      optimizer_classify.zero_grad()\n",
        "      \n",
        "      alphas, avg_images = focus_net(inputs)\n",
        "      outputs = classify(avg_images)\n",
        "\n",
        "      predicted = np.round(torch.sigmoid(outputs.data).cpu().numpy())\n",
        "      # print(predicted.shape)\n",
        "      # print(outputs.shape,labels.shape)\n",
        "      # print(outputs)\n",
        "      # print(labels)\n",
        "      loss = criterion(outputs[:,0], labels) \n",
        "      loss.backward()\n",
        "      optimizer_focus.step()\n",
        "      optimizer_classify.step()\n",
        "\n",
        "      running_loss += loss.item()\n",
        "      # mini = 3\n",
        "      # if cnt % mini == mini-1 :    # print every 40 mini-batches\n",
        "      epoch_loss.append(running_loss)\n",
        "      running_loss = 0.0\n",
        "      cnt=cnt+1\n",
        "    loss_ret = np.mean(epoch_loss)\n",
        "    if(epoch%200==0):\n",
        "      print('[%d, %5d] loss: %.3f' %(epoch + 1, cnt + 1, np.mean(epoch_loss)))\n",
        "    if(np.mean(epoch_loss) <= 0.001):\n",
        "        break;\n",
        "\n",
        "  with torch.no_grad():\n",
        "    focus_true_pred_true =0\n",
        "    focus_false_pred_true =0\n",
        "    focus_true_pred_false =0\n",
        "    focus_false_pred_false =0\n",
        "\n",
        "    argmax_more_than_half = 0\n",
        "    argmax_less_than_half =0\n",
        "    for data in test_loader:\n",
        "      inputs, labels , fore_idx = data\n",
        "      inputs = inputs.double()\n",
        "      inputs, labels = inputs.to(\"cuda\"), labels.to(\"cuda\")\n",
        "      alphas, avg_images = focus_net(inputs)\n",
        "      outputs = classify(avg_images)\n",
        "      predicted = np.round(torch.sigmoid(outputs.data).cpu().numpy())\n",
        "\n",
        "      for j in range (batch):\n",
        "        focus = torch.argmax(alphas[j])\n",
        "\n",
        "        if(alphas[j][focus] >= 0.5):\n",
        "          argmax_more_than_half +=1\n",
        "        else:\n",
        "          argmax_less_than_half +=1\n",
        "\n",
        "        if(focus == fore_idx[j] and predicted[j] == labels[j].item()):\n",
        "          focus_true_pred_true += 1\n",
        "\n",
        "        elif(focus != fore_idx[j] and predicted[j] == labels[j].item()):\n",
        "          focus_false_pred_true +=1\n",
        "\n",
        "        elif(focus == fore_idx[j] and predicted[j] != labels[j].item()):\n",
        "          focus_true_pred_false +=1\n",
        "\n",
        "        elif(focus != fore_idx[j] and predicted[j] != labels[j].item()):\n",
        "          focus_false_pred_false +=1\n",
        "\n",
        "  print('Finished Training')  \n",
        "  return loss_ret, argmax_more_than_half/10, focus_true_pred_true/10, focus_false_pred_true/10, focus_true_pred_false/10 , focus_false_pred_false/10, focus_net.fc1.weight.item(), classify.fc1.weight.item(), classify.fc1.bias.item()\n",
        "    \n"
      ],
      "execution_count": 33,
      "outputs": []
    },
    {
      "cell_type": "code",
      "metadata": {
        "id": "fd7ScJj9g6rl"
      },
      "source": [
        "a = [-0.1, 0.0, 0.1]\n",
        "b = [-0.1, 0.0, 0.1]\n",
        "c = [-0.1, 0.0, 0.1]"
      ],
      "execution_count": 34,
      "outputs": []
    },
    {
      "cell_type": "code",
      "metadata": {
        "id": "b0rXlZZfUK3B"
      },
      "source": [
        "# torch.manual_seed(12)\n",
        "# focus_net = Focus().double()\n",
        "# focus_net.fc1.weight = torch.nn.Parameter(torch.tensor(np.array([[0.0]])))\n",
        "# torch.manual_seed(12)\n",
        "# classify = Classification().double()\n",
        "# classify.fc1.weight = torch.nn.Parameter(torch.tensor(np.array([[0.0]])))\n",
        "# classify.fc1.bias = torch.nn.Parameter(torch.tensor(np.array([0.0])))\n",
        "# focus_net = focus_net.to(\"cuda\")\n",
        "# classify = classify.to(\"cuda\")\n",
        "# # print(\"--\"*40,\"a,b,c = \",a[i],b[j],c[k])\n",
        "# print(focus_net.fc1.weight, classify.fc1.weight, classify.fc1.bias)"
      ],
      "execution_count": 35,
      "outputs": []
    },
    {
      "cell_type": "code",
      "metadata": {
        "id": "cIzudMBEuFQl"
      },
      "source": [
        "# np.round(focus_net.fc1.weight.item(),3), np.round(99.3, 3)"
      ],
      "execution_count": 36,
      "outputs": []
    },
    {
      "cell_type": "code",
      "metadata": {
        "id": "PEXvq7EWUck2"
      },
      "source": [
        "# train(train_loader, test_loader, focus_net, classify)"
      ],
      "execution_count": 37,
      "outputs": []
    },
    {
      "cell_type": "code",
      "metadata": {
        "colab": {
          "base_uri": "https://localhost:8080/"
        },
        "id": "zo5QyZobhHpM",
        "outputId": "b3138dd7-1580-4a86-d488-8e6077e9ddff"
      },
      "source": [
        "all_loss=[]\n",
        "all_alphas_more_than_half=[]\n",
        "all_ftpt=[]\n",
        "all_ffpt=[]\n",
        "all_ftpf = []\n",
        "all_ffpf= []\n",
        "init_a = []\n",
        "init_b = []\n",
        "init_c = []\n",
        "final_a=[]\n",
        "final_b = []\n",
        "final_c = []\n",
        "\n",
        "for i in range(3):\n",
        "  for j in range(3):\n",
        "    for k in range(3):\n",
        "      torch.manual_seed(12)\n",
        "      focus_net = Focus().double()\n",
        "      focus_net.fc1.weight = torch.nn.Parameter(torch.tensor(np.array([[a[i]]])))\n",
        "      torch.manual_seed(12)\n",
        "      classify = Classification().double()\n",
        "      classify.fc1.weight = torch.nn.Parameter(torch.tensor(np.array([[b[j]]])))\n",
        "      classify.fc1.bias = torch.nn.Parameter(torch.tensor(np.array([c[k]])))\n",
        "      focus_net = focus_net.to(\"cuda\")\n",
        "      classify = classify.to(\"cuda\")\n",
        "      print(\"--\"*40,\"a,b,c = \",a[i],b[j],c[k])\n",
        "      cost, alpha_per, ftpt, ffpt, ftpf, ffpf, f_a, f_b, f_c = train(train_loader, test_loader, focus_net, classify)\n",
        "      print(cost, alpha_per, ftpt, ffpt, ftpf, ffpf)\n",
        "      init_a.append(a[i])\n",
        "      init_b.append(b[j])\n",
        "      init_c.append(c[k])\n",
        "      final_a.append(np.round(f_a,3))\n",
        "      final_b.append(np.round(f_b,3))\n",
        "      final_c.append(np.round(f_c,3))\n",
        "      all_loss.append(np.round(cost,3))\n",
        "      all_alphas_more_than_half.append(alpha_per)\n",
        "      all_ftpt.append(ftpt)\n",
        "      all_ffpt.append(ffpt)\n",
        "      all_ftpf.append(ftpf)\n",
        "      all_ffpf.append(ffpf)\n",
        "\n"
      ],
      "execution_count": 38,
      "outputs": [
        {
          "output_type": "stream",
          "text": [
            "-------------------------------------------------------------------------------- a,b,c =  -0.1 -0.1 -0.1\n",
            "--------------------------------------------------\n",
            "Parameter containing:\n",
            "tensor([[-0.1000]], device='cuda:0', dtype=torch.float64, requires_grad=True) Parameter containing:\n",
            "tensor([[-0.1000]], device='cuda:0', dtype=torch.float64, requires_grad=True) Parameter containing:\n",
            "tensor([-0.1000], device='cuda:0', dtype=torch.float64, requires_grad=True)\n",
            "[1,     5] loss: 0.718\n",
            "[201,     5] loss: 0.190\n",
            "[401,     5] loss: 0.124\n",
            "[601,     5] loss: 0.096\n",
            "[801,     5] loss: 0.079\n",
            "Finished Training\n",
            "0.06691071949899197 55.6 100.0 0.0 0.0 0.0\n",
            "-------------------------------------------------------------------------------- a,b,c =  -0.1 -0.1 0.0\n",
            "--------------------------------------------------\n",
            "Parameter containing:\n",
            "tensor([[-0.1000]], device='cuda:0', dtype=torch.float64, requires_grad=True) Parameter containing:\n",
            "tensor([[-0.1000]], device='cuda:0', dtype=torch.float64, requires_grad=True) Parameter containing:\n",
            "tensor([0.], device='cuda:0', dtype=torch.float64, requires_grad=True)\n",
            "[1,     5] loss: 0.720\n",
            "[201,     5] loss: 0.189\n",
            "[401,     5] loss: 0.123\n",
            "[601,     5] loss: 0.095\n",
            "[801,     5] loss: 0.079\n",
            "Finished Training\n",
            "0.06682517938315868 55.6 100.0 0.0 0.0 0.0\n",
            "-------------------------------------------------------------------------------- a,b,c =  -0.1 -0.1 0.1\n",
            "--------------------------------------------------\n",
            "Parameter containing:\n",
            "tensor([[-0.1000]], device='cuda:0', dtype=torch.float64, requires_grad=True) Parameter containing:\n",
            "tensor([[-0.1000]], device='cuda:0', dtype=torch.float64, requires_grad=True) Parameter containing:\n",
            "tensor([0.1000], device='cuda:0', dtype=torch.float64, requires_grad=True)\n",
            "[1,     5] loss: 0.724\n",
            "[201,     5] loss: 0.190\n",
            "[401,     5] loss: 0.124\n",
            "[601,     5] loss: 0.096\n",
            "[801,     5] loss: 0.079\n",
            "Finished Training\n",
            "0.06686902046203613 55.6 100.0 0.0 0.0 0.0\n",
            "-------------------------------------------------------------------------------- a,b,c =  -0.1 0.0 -0.1\n",
            "--------------------------------------------------\n",
            "Parameter containing:\n",
            "tensor([[-0.1000]], device='cuda:0', dtype=torch.float64, requires_grad=True) Parameter containing:\n",
            "tensor([[0.]], device='cuda:0', dtype=torch.float64, requires_grad=True) Parameter containing:\n",
            "tensor([-0.1000], device='cuda:0', dtype=torch.float64, requires_grad=True)\n",
            "[1,     5] loss: 0.691\n",
            "[201,     5] loss: 0.197\n",
            "[401,     5] loss: 0.127\n",
            "[601,     5] loss: 0.098\n",
            "[801,     5] loss: 0.081\n",
            "Finished Training\n",
            "0.06836719438433647 55.6 100.0 0.0 0.0 0.0\n",
            "-------------------------------------------------------------------------------- a,b,c =  -0.1 0.0 0.0\n",
            "--------------------------------------------------\n",
            "Parameter containing:\n",
            "tensor([[-0.1000]], device='cuda:0', dtype=torch.float64, requires_grad=True) Parameter containing:\n",
            "tensor([[0.]], device='cuda:0', dtype=torch.float64, requires_grad=True) Parameter containing:\n",
            "tensor([0.], device='cuda:0', dtype=torch.float64, requires_grad=True)\n",
            "[1,     5] loss: 0.688\n",
            "[201,     5] loss: 0.194\n",
            "[401,     5] loss: 0.126\n",
            "[601,     5] loss: 0.097\n",
            "[801,     5] loss: 0.080\n",
            "Finished Training\n",
            "0.06781388074159622 55.6 100.0 0.0 0.0 0.0\n",
            "-------------------------------------------------------------------------------- a,b,c =  -0.1 0.0 0.1\n",
            "--------------------------------------------------\n",
            "Parameter containing:\n",
            "tensor([[-0.1000]], device='cuda:0', dtype=torch.float64, requires_grad=True) Parameter containing:\n",
            "tensor([[0.]], device='cuda:0', dtype=torch.float64, requires_grad=True) Parameter containing:\n",
            "tensor([0.1000], device='cuda:0', dtype=torch.float64, requires_grad=True)\n",
            "[1,     5] loss: 0.688\n",
            "[201,     5] loss: 0.193\n",
            "[401,     5] loss: 0.125\n",
            "[601,     5] loss: 0.097\n",
            "[801,     5] loss: 0.080\n",
            "Finished Training\n",
            "0.06761322822421789 55.7 100.0 0.0 0.0 0.0\n",
            "-------------------------------------------------------------------------------- a,b,c =  -0.1 0.1 -0.1\n",
            "--------------------------------------------------\n",
            "Parameter containing:\n",
            "tensor([[-0.1000]], device='cuda:0', dtype=torch.float64, requires_grad=True) Parameter containing:\n",
            "tensor([[0.1000]], device='cuda:0', dtype=torch.float64, requires_grad=True) Parameter containing:\n",
            "tensor([-0.1000], device='cuda:0', dtype=torch.float64, requires_grad=True)\n",
            "[1,     5] loss: 0.670\n",
            "[201,     5] loss: 0.200\n",
            "[401,     5] loss: 0.129\n",
            "[601,     5] loss: 0.099\n",
            "[801,     5] loss: 0.081\n",
            "Finished Training\n",
            "0.06904213689267635 55.4 100.0 0.0 0.0 0.0\n",
            "-------------------------------------------------------------------------------- a,b,c =  -0.1 0.1 0.0\n",
            "--------------------------------------------------\n",
            "Parameter containing:\n",
            "tensor([[-0.1000]], device='cuda:0', dtype=torch.float64, requires_grad=True) Parameter containing:\n",
            "tensor([[0.1000]], device='cuda:0', dtype=torch.float64, requires_grad=True) Parameter containing:\n",
            "tensor([0.], device='cuda:0', dtype=torch.float64, requires_grad=True)\n",
            "[1,     5] loss: 0.662\n",
            "[201,     5] loss: 0.196\n",
            "[401,     5] loss: 0.127\n",
            "[601,     5] loss: 0.098\n",
            "[801,     5] loss: 0.081\n",
            "Finished Training\n",
            "0.06836522743105888 55.4 100.0 0.0 0.0 0.0\n",
            "-------------------------------------------------------------------------------- a,b,c =  -0.1 0.1 0.1\n",
            "--------------------------------------------------\n",
            "Parameter containing:\n",
            "tensor([[-0.1000]], device='cuda:0', dtype=torch.float64, requires_grad=True) Parameter containing:\n",
            "tensor([[0.1000]], device='cuda:0', dtype=torch.float64, requires_grad=True) Parameter containing:\n",
            "tensor([0.1000], device='cuda:0', dtype=torch.float64, requires_grad=True)\n",
            "[1,     5] loss: 0.656\n",
            "[201,     5] loss: 0.193\n",
            "[401,     5] loss: 0.125\n",
            "[601,     5] loss: 0.097\n",
            "[801,     5] loss: 0.080\n",
            "Finished Training\n",
            "0.06769031193107367 55.6 100.0 0.0 0.0 0.0\n",
            "-------------------------------------------------------------------------------- a,b,c =  0.0 -0.1 -0.1\n",
            "--------------------------------------------------\n",
            "Parameter containing:\n",
            "tensor([[0.]], device='cuda:0', dtype=torch.float64, requires_grad=True) Parameter containing:\n",
            "tensor([[-0.1000]], device='cuda:0', dtype=torch.float64, requires_grad=True) Parameter containing:\n",
            "tensor([-0.1000], device='cuda:0', dtype=torch.float64, requires_grad=True)\n",
            "[1,     5] loss: 0.700\n",
            "[201,     5] loss: 0.190\n",
            "[401,     5] loss: 0.124\n",
            "[601,     5] loss: 0.096\n",
            "[801,     5] loss: 0.079\n",
            "Finished Training\n",
            "0.06686716340482235 55.6 100.0 0.0 0.0 0.0\n",
            "-------------------------------------------------------------------------------- a,b,c =  0.0 -0.1 0.0\n",
            "--------------------------------------------------\n",
            "Parameter containing:\n",
            "tensor([[0.]], device='cuda:0', dtype=torch.float64, requires_grad=True) Parameter containing:\n",
            "tensor([[-0.1000]], device='cuda:0', dtype=torch.float64, requires_grad=True) Parameter containing:\n",
            "tensor([0.], device='cuda:0', dtype=torch.float64, requires_grad=True)\n",
            "[1,     5] loss: 0.700\n",
            "[201,     5] loss: 0.190\n",
            "[401,     5] loss: 0.123\n",
            "[601,     5] loss: 0.095\n",
            "[801,     5] loss: 0.079\n",
            "Finished Training\n",
            "0.06679703202098608 55.6 100.0 0.0 0.0 0.0\n",
            "-------------------------------------------------------------------------------- a,b,c =  0.0 -0.1 0.1\n",
            "--------------------------------------------------\n",
            "Parameter containing:\n",
            "tensor([[0.]], device='cuda:0', dtype=torch.float64, requires_grad=True) Parameter containing:\n",
            "tensor([[-0.1000]], device='cuda:0', dtype=torch.float64, requires_grad=True) Parameter containing:\n",
            "tensor([0.1000], device='cuda:0', dtype=torch.float64, requires_grad=True)\n",
            "[1,     5] loss: 0.702\n",
            "[201,     5] loss: 0.190\n",
            "[401,     5] loss: 0.123\n",
            "[601,     5] loss: 0.095\n",
            "[801,     5] loss: 0.079\n",
            "Finished Training\n",
            "0.0667605483904481 55.6 100.0 0.0 0.0 0.0\n",
            "-------------------------------------------------------------------------------- a,b,c =  0.0 0.0 -0.1\n",
            "--------------------------------------------------\n",
            "Parameter containing:\n",
            "tensor([[0.]], device='cuda:0', dtype=torch.float64, requires_grad=True) Parameter containing:\n",
            "tensor([[0.]], device='cuda:0', dtype=torch.float64, requires_grad=True) Parameter containing:\n",
            "tensor([-0.1000], device='cuda:0', dtype=torch.float64, requires_grad=True)\n",
            "[1,     5] loss: 0.693\n",
            "[201,     5] loss: 0.195\n",
            "[401,     5] loss: 0.127\n",
            "[601,     5] loss: 0.098\n",
            "[801,     5] loss: 0.080\n",
            "Finished Training\n",
            "0.06816288270056248 55.5 100.0 0.0 0.0 0.0\n",
            "-------------------------------------------------------------------------------- a,b,c =  0.0 0.0 0.0\n",
            "--------------------------------------------------\n",
            "Parameter containing:\n",
            "tensor([[0.]], device='cuda:0', dtype=torch.float64, requires_grad=True) Parameter containing:\n",
            "tensor([[0.]], device='cuda:0', dtype=torch.float64, requires_grad=True) Parameter containing:\n",
            "tensor([0.], device='cuda:0', dtype=torch.float64, requires_grad=True)\n",
            "[1,     5] loss: 0.692\n",
            "[201,     5] loss: 0.193\n",
            "[401,     5] loss: 0.126\n",
            "[601,     5] loss: 0.097\n",
            "[801,     5] loss: 0.080\n",
            "Finished Training\n",
            "0.06776118744164705 55.6 100.0 0.0 0.0 0.0\n",
            "-------------------------------------------------------------------------------- a,b,c =  0.0 0.0 0.1\n",
            "--------------------------------------------------\n",
            "Parameter containing:\n",
            "tensor([[0.]], device='cuda:0', dtype=torch.float64, requires_grad=True) Parameter containing:\n",
            "tensor([[0.]], device='cuda:0', dtype=torch.float64, requires_grad=True) Parameter containing:\n",
            "tensor([0.1000], device='cuda:0', dtype=torch.float64, requires_grad=True)\n",
            "[1,     5] loss: 0.692\n",
            "[201,     5] loss: 0.193\n",
            "[401,     5] loss: 0.126\n",
            "[601,     5] loss: 0.097\n",
            "[801,     5] loss: 0.080\n",
            "Finished Training\n",
            "0.06772794760763645 55.6 100.0 0.0 0.0 0.0\n",
            "-------------------------------------------------------------------------------- a,b,c =  0.0 0.1 -0.1\n",
            "--------------------------------------------------\n",
            "Parameter containing:\n",
            "tensor([[0.]], device='cuda:0', dtype=torch.float64, requires_grad=True) Parameter containing:\n",
            "tensor([[0.1000]], device='cuda:0', dtype=torch.float64, requires_grad=True) Parameter containing:\n",
            "tensor([-0.1000], device='cuda:0', dtype=torch.float64, requires_grad=True)\n",
            "[1,     5] loss: 0.686\n",
            "[201,     5] loss: 0.198\n",
            "[401,     5] loss: 0.128\n",
            "[601,     5] loss: 0.099\n",
            "[801,     5] loss: 0.081\n",
            "Finished Training\n",
            "0.06863593496382236 55.4 100.0 0.0 0.0 0.0\n",
            "-------------------------------------------------------------------------------- a,b,c =  0.0 0.1 0.0\n",
            "--------------------------------------------------\n",
            "Parameter containing:\n",
            "tensor([[0.]], device='cuda:0', dtype=torch.float64, requires_grad=True) Parameter containing:\n",
            "tensor([[0.1000]], device='cuda:0', dtype=torch.float64, requires_grad=True) Parameter containing:\n",
            "tensor([0.], device='cuda:0', dtype=torch.float64, requires_grad=True)\n",
            "[1,     5] loss: 0.682\n",
            "[201,     5] loss: 0.194\n",
            "[401,     5] loss: 0.126\n",
            "[601,     5] loss: 0.097\n",
            "[801,     5] loss: 0.080\n",
            "Finished Training\n",
            "0.06800359766930342 55.4 100.0 0.0 0.0 0.0\n",
            "-------------------------------------------------------------------------------- a,b,c =  0.0 0.1 0.1\n",
            "--------------------------------------------------\n",
            "Parameter containing:\n",
            "tensor([[0.]], device='cuda:0', dtype=torch.float64, requires_grad=True) Parameter containing:\n",
            "tensor([[0.1000]], device='cuda:0', dtype=torch.float64, requires_grad=True) Parameter containing:\n",
            "tensor([0.1000], device='cuda:0', dtype=torch.float64, requires_grad=True)\n",
            "[1,     5] loss: 0.680\n",
            "[201,     5] loss: 0.192\n",
            "[401,     5] loss: 0.125\n",
            "[601,     5] loss: 0.097\n",
            "[801,     5] loss: 0.080\n",
            "Finished Training\n",
            "0.067543163895607 55.5 100.0 0.0 0.0 0.0\n",
            "-------------------------------------------------------------------------------- a,b,c =  0.1 -0.1 -0.1\n",
            "--------------------------------------------------\n",
            "Parameter containing:\n",
            "tensor([[0.1000]], device='cuda:0', dtype=torch.float64, requires_grad=True) Parameter containing:\n",
            "tensor([[-0.1000]], device='cuda:0', dtype=torch.float64, requires_grad=True) Parameter containing:\n",
            "tensor([-0.1000], device='cuda:0', dtype=torch.float64, requires_grad=True)\n",
            "[1,     5] loss: 0.695\n",
            "[201,     5] loss: 0.692\n",
            "[401,     5] loss: 0.692\n",
            "[601,     5] loss: 0.692\n",
            "[801,     5] loss: 0.692\n",
            "Finished Training\n",
            "0.691774994134903 0.0 0.0 53.5 0.0 46.5\n",
            "-------------------------------------------------------------------------------- a,b,c =  0.1 -0.1 0.0\n",
            "--------------------------------------------------\n",
            "Parameter containing:\n",
            "tensor([[0.1000]], device='cuda:0', dtype=torch.float64, requires_grad=True) Parameter containing:\n",
            "tensor([[-0.1000]], device='cuda:0', dtype=torch.float64, requires_grad=True) Parameter containing:\n",
            "tensor([0.], device='cuda:0', dtype=torch.float64, requires_grad=True)\n",
            "[1,     5] loss: 0.694\n",
            "[201,     5] loss: 0.692\n",
            "[401,     5] loss: 0.692\n",
            "[601,     5] loss: 0.692\n",
            "[801,     5] loss: 0.692\n",
            "Finished Training\n",
            "0.691774994134903 0.0 0.0 53.5 0.0 46.5\n",
            "-------------------------------------------------------------------------------- a,b,c =  0.1 -0.1 0.1\n",
            "--------------------------------------------------\n",
            "Parameter containing:\n",
            "tensor([[0.1000]], device='cuda:0', dtype=torch.float64, requires_grad=True) Parameter containing:\n",
            "tensor([[-0.1000]], device='cuda:0', dtype=torch.float64, requires_grad=True) Parameter containing:\n",
            "tensor([0.1000], device='cuda:0', dtype=torch.float64, requires_grad=True)\n",
            "[1,     5] loss: 0.695\n",
            "[201,     5] loss: 0.692\n",
            "[401,     5] loss: 0.692\n",
            "[601,     5] loss: 0.692\n",
            "[801,     5] loss: 0.692\n",
            "Finished Training\n",
            "0.6917750239372253 0.0 0.0 53.5 0.0 46.5\n",
            "-------------------------------------------------------------------------------- a,b,c =  0.1 0.0 -0.1\n",
            "--------------------------------------------------\n",
            "Parameter containing:\n",
            "tensor([[0.1000]], device='cuda:0', dtype=torch.float64, requires_grad=True) Parameter containing:\n",
            "tensor([[0.]], device='cuda:0', dtype=torch.float64, requires_grad=True) Parameter containing:\n",
            "tensor([-0.1000], device='cuda:0', dtype=torch.float64, requires_grad=True)\n",
            "[1,     5] loss: 0.695\n",
            "[201,     5] loss: 0.692\n",
            "[401,     5] loss: 0.692\n",
            "[601,     5] loss: 0.692\n",
            "[801,     5] loss: 0.692\n",
            "Finished Training\n",
            "0.6917750239372253 0.0 0.0 53.5 0.0 46.5\n",
            "-------------------------------------------------------------------------------- a,b,c =  0.1 0.0 0.0\n",
            "--------------------------------------------------\n",
            "Parameter containing:\n",
            "tensor([[0.1000]], device='cuda:0', dtype=torch.float64, requires_grad=True) Parameter containing:\n",
            "tensor([[0.]], device='cuda:0', dtype=torch.float64, requires_grad=True) Parameter containing:\n",
            "tensor([0.], device='cuda:0', dtype=torch.float64, requires_grad=True)\n",
            "[1,     5] loss: 0.693\n",
            "[201,     5] loss: 0.193\n",
            "[401,     5] loss: 0.125\n",
            "[601,     5] loss: 0.097\n",
            "[801,     5] loss: 0.080\n",
            "Finished Training\n",
            "0.06763469334691763 55.5 100.0 0.0 0.0 0.0\n",
            "-------------------------------------------------------------------------------- a,b,c =  0.1 0.0 0.1\n",
            "--------------------------------------------------\n",
            "Parameter containing:\n",
            "tensor([[0.1000]], device='cuda:0', dtype=torch.float64, requires_grad=True) Parameter containing:\n",
            "tensor([[0.]], device='cuda:0', dtype=torch.float64, requires_grad=True) Parameter containing:\n",
            "tensor([0.1000], device='cuda:0', dtype=torch.float64, requires_grad=True)\n",
            "[1,     5] loss: 0.693\n",
            "[201,     5] loss: 0.193\n",
            "[401,     5] loss: 0.126\n",
            "[601,     5] loss: 0.097\n",
            "[801,     5] loss: 0.080\n",
            "Finished Training\n",
            "0.06770370621234179 55.5 100.0 0.0 0.0 0.0\n",
            "-------------------------------------------------------------------------------- a,b,c =  0.1 0.1 -0.1\n",
            "--------------------------------------------------\n",
            "Parameter containing:\n",
            "tensor([[0.1000]], device='cuda:0', dtype=torch.float64, requires_grad=True) Parameter containing:\n",
            "tensor([[0.1000]], device='cuda:0', dtype=torch.float64, requires_grad=True) Parameter containing:\n",
            "tensor([-0.1000], device='cuda:0', dtype=torch.float64, requires_grad=True)\n",
            "[1,     5] loss: 0.694\n",
            "[201,     5] loss: 0.194\n",
            "[401,     5] loss: 0.126\n",
            "[601,     5] loss: 0.097\n",
            "[801,     5] loss: 0.080\n",
            "Finished Training\n",
            "0.06796899624168873 55.4 100.0 0.0 0.0 0.0\n",
            "-------------------------------------------------------------------------------- a,b,c =  0.1 0.1 0.0\n",
            "--------------------------------------------------\n",
            "Parameter containing:\n",
            "tensor([[0.1000]], device='cuda:0', dtype=torch.float64, requires_grad=True) Parameter containing:\n",
            "tensor([[0.1000]], device='cuda:0', dtype=torch.float64, requires_grad=True) Parameter containing:\n",
            "tensor([0.], device='cuda:0', dtype=torch.float64, requires_grad=True)\n",
            "[1,     5] loss: 0.692\n",
            "[201,     5] loss: 0.193\n",
            "[401,     5] loss: 0.125\n",
            "[601,     5] loss: 0.097\n",
            "[801,     5] loss: 0.080\n",
            "Finished Training\n",
            "0.06765762995928526 55.4 100.0 0.0 0.0 0.0\n",
            "-------------------------------------------------------------------------------- a,b,c =  0.1 0.1 0.1\n",
            "--------------------------------------------------\n",
            "Parameter containing:\n",
            "tensor([[0.1000]], device='cuda:0', dtype=torch.float64, requires_grad=True) Parameter containing:\n",
            "tensor([[0.1000]], device='cuda:0', dtype=torch.float64, requires_grad=True) Parameter containing:\n",
            "tensor([0.1000], device='cuda:0', dtype=torch.float64, requires_grad=True)\n",
            "[1,     5] loss: 0.691\n",
            "[201,     5] loss: 0.192\n",
            "[401,     5] loss: 0.125\n",
            "[601,     5] loss: 0.097\n",
            "[801,     5] loss: 0.080\n",
            "Finished Training\n",
            "0.06762342434376478 55.4 100.0 0.0 0.0 0.0\n"
          ],
          "name": "stdout"
        }
      ]
    },
    {
      "cell_type": "code",
      "metadata": {
        "id": "5gQoPST5zW2t"
      },
      "source": [
        "# df_train = pd.DataFrame()\n",
        "df_test = pd.DataFrame()"
      ],
      "execution_count": 39,
      "outputs": []
    },
    {
      "cell_type": "code",
      "metadata": {
        "id": "In76SYH_zZHV"
      },
      "source": [
        "columns = [\"init_a\", \"init_b\", \"init_c\", \"final_a\", \"final_b\", \"final_c\", \"train_loss\", \"argmax > 0.5\" , \"ftpt\", \"ffpt\", \"ftpf\", \"ffpf\" ]"
      ],
      "execution_count": 40,
      "outputs": []
    },
    {
      "cell_type": "code",
      "metadata": {
        "id": "BS4HtOHEzZ0E"
      },
      "source": [
        "df_test[columns[0]] = init_a\n",
        "df_test[columns[1]] = init_b\n",
        "df_test[columns[2]] = init_c\n",
        "df_test[columns[3]] = final_a\n",
        "df_test[columns[4]] = final_b\n",
        "df_test[columns[5]] = final_c\n",
        "df_test[columns[6]] = all_loss\n",
        "df_test[columns[7]] = all_alphas_more_than_half\n",
        "df_test[columns[8]] = all_ftpt\n",
        "df_test[columns[9]] = all_ffpt\n",
        "df_test[columns[10]] = all_ftpf\n",
        "df_test[columns[11]] = all_ffpf"
      ],
      "execution_count": 41,
      "outputs": []
    },
    {
      "cell_type": "code",
      "metadata": {
        "colab": {
          "base_uri": "https://localhost:8080/",
          "height": 896
        },
        "id": "tlaNFbwNGfju",
        "outputId": "34528290-7250-4b5c-8d47-8fadd7180f28"
      },
      "source": [
        "df_test"
      ],
      "execution_count": 42,
      "outputs": [
        {
          "output_type": "execute_result",
          "data": {
            "text/html": [
              "<div>\n",
              "<style scoped>\n",
              "    .dataframe tbody tr th:only-of-type {\n",
              "        vertical-align: middle;\n",
              "    }\n",
              "\n",
              "    .dataframe tbody tr th {\n",
              "        vertical-align: top;\n",
              "    }\n",
              "\n",
              "    .dataframe thead th {\n",
              "        text-align: right;\n",
              "    }\n",
              "</style>\n",
              "<table border=\"1\" class=\"dataframe\">\n",
              "  <thead>\n",
              "    <tr style=\"text-align: right;\">\n",
              "      <th></th>\n",
              "      <th>init_a</th>\n",
              "      <th>init_b</th>\n",
              "      <th>init_c</th>\n",
              "      <th>final_a</th>\n",
              "      <th>final_b</th>\n",
              "      <th>final_c</th>\n",
              "      <th>train_loss</th>\n",
              "      <th>argmax &gt; 0.5</th>\n",
              "      <th>ftpt</th>\n",
              "      <th>ffpt</th>\n",
              "      <th>ftpf</th>\n",
              "      <th>ffpf</th>\n",
              "    </tr>\n",
              "  </thead>\n",
              "  <tbody>\n",
              "    <tr>\n",
              "      <th>0</th>\n",
              "      <td>-0.1</td>\n",
              "      <td>-0.1</td>\n",
              "      <td>-0.1</td>\n",
              "      <td>-0.256</td>\n",
              "      <td>3.368</td>\n",
              "      <td>15.120</td>\n",
              "      <td>0.067</td>\n",
              "      <td>55.6</td>\n",
              "      <td>100.0</td>\n",
              "      <td>0.0</td>\n",
              "      <td>0.0</td>\n",
              "      <td>0.0</td>\n",
              "    </tr>\n",
              "    <tr>\n",
              "      <th>1</th>\n",
              "      <td>-0.1</td>\n",
              "      <td>-0.1</td>\n",
              "      <td>0.0</td>\n",
              "      <td>-0.256</td>\n",
              "      <td>3.371</td>\n",
              "      <td>15.138</td>\n",
              "      <td>0.067</td>\n",
              "      <td>55.6</td>\n",
              "      <td>100.0</td>\n",
              "      <td>0.0</td>\n",
              "      <td>0.0</td>\n",
              "      <td>0.0</td>\n",
              "    </tr>\n",
              "    <tr>\n",
              "      <th>2</th>\n",
              "      <td>-0.1</td>\n",
              "      <td>-0.1</td>\n",
              "      <td>0.1</td>\n",
              "      <td>-0.256</td>\n",
              "      <td>3.369</td>\n",
              "      <td>15.129</td>\n",
              "      <td>0.067</td>\n",
              "      <td>55.6</td>\n",
              "      <td>100.0</td>\n",
              "      <td>0.0</td>\n",
              "      <td>0.0</td>\n",
              "      <td>0.0</td>\n",
              "    </tr>\n",
              "    <tr>\n",
              "      <th>3</th>\n",
              "      <td>-0.1</td>\n",
              "      <td>0.0</td>\n",
              "      <td>-0.1</td>\n",
              "      <td>-0.256</td>\n",
              "      <td>3.303</td>\n",
              "      <td>14.823</td>\n",
              "      <td>0.068</td>\n",
              "      <td>55.6</td>\n",
              "      <td>100.0</td>\n",
              "      <td>0.0</td>\n",
              "      <td>0.0</td>\n",
              "      <td>0.0</td>\n",
              "    </tr>\n",
              "    <tr>\n",
              "      <th>4</th>\n",
              "      <td>-0.1</td>\n",
              "      <td>0.0</td>\n",
              "      <td>0.0</td>\n",
              "      <td>-0.256</td>\n",
              "      <td>3.327</td>\n",
              "      <td>14.935</td>\n",
              "      <td>0.068</td>\n",
              "      <td>55.6</td>\n",
              "      <td>100.0</td>\n",
              "      <td>0.0</td>\n",
              "      <td>0.0</td>\n",
              "      <td>0.0</td>\n",
              "    </tr>\n",
              "    <tr>\n",
              "      <th>5</th>\n",
              "      <td>-0.1</td>\n",
              "      <td>0.0</td>\n",
              "      <td>0.1</td>\n",
              "      <td>-0.256</td>\n",
              "      <td>3.335</td>\n",
              "      <td>14.976</td>\n",
              "      <td>0.068</td>\n",
              "      <td>55.7</td>\n",
              "      <td>100.0</td>\n",
              "      <td>0.0</td>\n",
              "      <td>0.0</td>\n",
              "      <td>0.0</td>\n",
              "    </tr>\n",
              "    <tr>\n",
              "      <th>6</th>\n",
              "      <td>-0.1</td>\n",
              "      <td>0.1</td>\n",
              "      <td>-0.1</td>\n",
              "      <td>-0.255</td>\n",
              "      <td>3.276</td>\n",
              "      <td>14.688</td>\n",
              "      <td>0.069</td>\n",
              "      <td>55.4</td>\n",
              "      <td>100.0</td>\n",
              "      <td>0.0</td>\n",
              "      <td>0.0</td>\n",
              "      <td>0.0</td>\n",
              "    </tr>\n",
              "    <tr>\n",
              "      <th>7</th>\n",
              "      <td>-0.1</td>\n",
              "      <td>0.1</td>\n",
              "      <td>0.0</td>\n",
              "      <td>-0.255</td>\n",
              "      <td>3.305</td>\n",
              "      <td>14.822</td>\n",
              "      <td>0.068</td>\n",
              "      <td>55.4</td>\n",
              "      <td>100.0</td>\n",
              "      <td>0.0</td>\n",
              "      <td>0.0</td>\n",
              "      <td>0.0</td>\n",
              "    </tr>\n",
              "    <tr>\n",
              "      <th>8</th>\n",
              "      <td>-0.1</td>\n",
              "      <td>0.1</td>\n",
              "      <td>0.1</td>\n",
              "      <td>-0.255</td>\n",
              "      <td>3.334</td>\n",
              "      <td>14.959</td>\n",
              "      <td>0.068</td>\n",
              "      <td>55.6</td>\n",
              "      <td>100.0</td>\n",
              "      <td>0.0</td>\n",
              "      <td>0.0</td>\n",
              "      <td>0.0</td>\n",
              "    </tr>\n",
              "    <tr>\n",
              "      <th>9</th>\n",
              "      <td>0.0</td>\n",
              "      <td>-0.1</td>\n",
              "      <td>-0.1</td>\n",
              "      <td>-0.256</td>\n",
              "      <td>3.370</td>\n",
              "      <td>15.129</td>\n",
              "      <td>0.067</td>\n",
              "      <td>55.6</td>\n",
              "      <td>100.0</td>\n",
              "      <td>0.0</td>\n",
              "      <td>0.0</td>\n",
              "      <td>0.0</td>\n",
              "    </tr>\n",
              "    <tr>\n",
              "      <th>10</th>\n",
              "      <td>0.0</td>\n",
              "      <td>-0.1</td>\n",
              "      <td>0.0</td>\n",
              "      <td>-0.256</td>\n",
              "      <td>3.373</td>\n",
              "      <td>15.143</td>\n",
              "      <td>0.067</td>\n",
              "      <td>55.6</td>\n",
              "      <td>100.0</td>\n",
              "      <td>0.0</td>\n",
              "      <td>0.0</td>\n",
              "      <td>0.0</td>\n",
              "    </tr>\n",
              "    <tr>\n",
              "      <th>11</th>\n",
              "      <td>0.0</td>\n",
              "      <td>-0.1</td>\n",
              "      <td>0.1</td>\n",
              "      <td>-0.256</td>\n",
              "      <td>3.375</td>\n",
              "      <td>15.151</td>\n",
              "      <td>0.067</td>\n",
              "      <td>55.6</td>\n",
              "      <td>100.0</td>\n",
              "      <td>0.0</td>\n",
              "      <td>0.0</td>\n",
              "      <td>0.0</td>\n",
              "    </tr>\n",
              "    <tr>\n",
              "      <th>12</th>\n",
              "      <td>0.0</td>\n",
              "      <td>0.0</td>\n",
              "      <td>-0.1</td>\n",
              "      <td>-0.255</td>\n",
              "      <td>3.313</td>\n",
              "      <td>14.863</td>\n",
              "      <td>0.068</td>\n",
              "      <td>55.5</td>\n",
              "      <td>100.0</td>\n",
              "      <td>0.0</td>\n",
              "      <td>0.0</td>\n",
              "      <td>0.0</td>\n",
              "    </tr>\n",
              "    <tr>\n",
              "      <th>13</th>\n",
              "      <td>0.0</td>\n",
              "      <td>0.0</td>\n",
              "      <td>0.0</td>\n",
              "      <td>-0.256</td>\n",
              "      <td>3.330</td>\n",
              "      <td>14.944</td>\n",
              "      <td>0.068</td>\n",
              "      <td>55.6</td>\n",
              "      <td>100.0</td>\n",
              "      <td>0.0</td>\n",
              "      <td>0.0</td>\n",
              "      <td>0.0</td>\n",
              "    </tr>\n",
              "    <tr>\n",
              "      <th>14</th>\n",
              "      <td>0.0</td>\n",
              "      <td>0.0</td>\n",
              "      <td>0.1</td>\n",
              "      <td>-0.256</td>\n",
              "      <td>3.332</td>\n",
              "      <td>14.951</td>\n",
              "      <td>0.068</td>\n",
              "      <td>55.6</td>\n",
              "      <td>100.0</td>\n",
              "      <td>0.0</td>\n",
              "      <td>0.0</td>\n",
              "      <td>0.0</td>\n",
              "    </tr>\n",
              "    <tr>\n",
              "      <th>15</th>\n",
              "      <td>0.0</td>\n",
              "      <td>0.1</td>\n",
              "      <td>-0.1</td>\n",
              "      <td>-0.255</td>\n",
              "      <td>3.293</td>\n",
              "      <td>14.768</td>\n",
              "      <td>0.069</td>\n",
              "      <td>55.4</td>\n",
              "      <td>100.0</td>\n",
              "      <td>0.0</td>\n",
              "      <td>0.0</td>\n",
              "      <td>0.0</td>\n",
              "    </tr>\n",
              "    <tr>\n",
              "      <th>16</th>\n",
              "      <td>0.0</td>\n",
              "      <td>0.1</td>\n",
              "      <td>0.0</td>\n",
              "      <td>-0.255</td>\n",
              "      <td>3.321</td>\n",
              "      <td>14.895</td>\n",
              "      <td>0.068</td>\n",
              "      <td>55.4</td>\n",
              "      <td>100.0</td>\n",
              "      <td>0.0</td>\n",
              "      <td>0.0</td>\n",
              "      <td>0.0</td>\n",
              "    </tr>\n",
              "    <tr>\n",
              "      <th>17</th>\n",
              "      <td>0.0</td>\n",
              "      <td>0.1</td>\n",
              "      <td>0.1</td>\n",
              "      <td>-0.255</td>\n",
              "      <td>3.341</td>\n",
              "      <td>14.988</td>\n",
              "      <td>0.068</td>\n",
              "      <td>55.5</td>\n",
              "      <td>100.0</td>\n",
              "      <td>0.0</td>\n",
              "      <td>0.0</td>\n",
              "      <td>0.0</td>\n",
              "    </tr>\n",
              "    <tr>\n",
              "      <th>18</th>\n",
              "      <td>0.1</td>\n",
              "      <td>-0.1</td>\n",
              "      <td>-0.1</td>\n",
              "      <td>0.251</td>\n",
              "      <td>-0.284</td>\n",
              "      <td>0.045</td>\n",
              "      <td>0.692</td>\n",
              "      <td>0.0</td>\n",
              "      <td>0.0</td>\n",
              "      <td>53.5</td>\n",
              "      <td>0.0</td>\n",
              "      <td>46.5</td>\n",
              "    </tr>\n",
              "    <tr>\n",
              "      <th>19</th>\n",
              "      <td>0.1</td>\n",
              "      <td>-0.1</td>\n",
              "      <td>0.0</td>\n",
              "      <td>0.251</td>\n",
              "      <td>-0.284</td>\n",
              "      <td>0.045</td>\n",
              "      <td>0.692</td>\n",
              "      <td>0.0</td>\n",
              "      <td>0.0</td>\n",
              "      <td>53.5</td>\n",
              "      <td>0.0</td>\n",
              "      <td>46.5</td>\n",
              "    </tr>\n",
              "    <tr>\n",
              "      <th>20</th>\n",
              "      <td>0.1</td>\n",
              "      <td>-0.1</td>\n",
              "      <td>0.1</td>\n",
              "      <td>0.251</td>\n",
              "      <td>-0.284</td>\n",
              "      <td>0.045</td>\n",
              "      <td>0.692</td>\n",
              "      <td>0.0</td>\n",
              "      <td>0.0</td>\n",
              "      <td>53.5</td>\n",
              "      <td>0.0</td>\n",
              "      <td>46.5</td>\n",
              "    </tr>\n",
              "    <tr>\n",
              "      <th>21</th>\n",
              "      <td>0.1</td>\n",
              "      <td>0.0</td>\n",
              "      <td>-0.1</td>\n",
              "      <td>0.251</td>\n",
              "      <td>-0.284</td>\n",
              "      <td>0.045</td>\n",
              "      <td>0.692</td>\n",
              "      <td>0.0</td>\n",
              "      <td>0.0</td>\n",
              "      <td>53.5</td>\n",
              "      <td>0.0</td>\n",
              "      <td>46.5</td>\n",
              "    </tr>\n",
              "    <tr>\n",
              "      <th>22</th>\n",
              "      <td>0.1</td>\n",
              "      <td>0.0</td>\n",
              "      <td>0.0</td>\n",
              "      <td>-0.255</td>\n",
              "      <td>3.337</td>\n",
              "      <td>14.970</td>\n",
              "      <td>0.068</td>\n",
              "      <td>55.5</td>\n",
              "      <td>100.0</td>\n",
              "      <td>0.0</td>\n",
              "      <td>0.0</td>\n",
              "      <td>0.0</td>\n",
              "    </tr>\n",
              "    <tr>\n",
              "      <th>23</th>\n",
              "      <td>0.1</td>\n",
              "      <td>0.0</td>\n",
              "      <td>0.1</td>\n",
              "      <td>-0.255</td>\n",
              "      <td>3.334</td>\n",
              "      <td>14.956</td>\n",
              "      <td>0.068</td>\n",
              "      <td>55.5</td>\n",
              "      <td>100.0</td>\n",
              "      <td>0.0</td>\n",
              "      <td>0.0</td>\n",
              "      <td>0.0</td>\n",
              "    </tr>\n",
              "    <tr>\n",
              "      <th>24</th>\n",
              "      <td>0.1</td>\n",
              "      <td>0.1</td>\n",
              "      <td>-0.1</td>\n",
              "      <td>-0.255</td>\n",
              "      <td>3.322</td>\n",
              "      <td>14.902</td>\n",
              "      <td>0.068</td>\n",
              "      <td>55.4</td>\n",
              "      <td>100.0</td>\n",
              "      <td>0.0</td>\n",
              "      <td>0.0</td>\n",
              "      <td>0.0</td>\n",
              "    </tr>\n",
              "    <tr>\n",
              "      <th>25</th>\n",
              "      <td>0.1</td>\n",
              "      <td>0.1</td>\n",
              "      <td>0.0</td>\n",
              "      <td>-0.255</td>\n",
              "      <td>3.336</td>\n",
              "      <td>14.965</td>\n",
              "      <td>0.068</td>\n",
              "      <td>55.4</td>\n",
              "      <td>100.0</td>\n",
              "      <td>0.0</td>\n",
              "      <td>0.0</td>\n",
              "      <td>0.0</td>\n",
              "    </tr>\n",
              "    <tr>\n",
              "      <th>26</th>\n",
              "      <td>0.1</td>\n",
              "      <td>0.1</td>\n",
              "      <td>0.1</td>\n",
              "      <td>-0.255</td>\n",
              "      <td>3.338</td>\n",
              "      <td>14.972</td>\n",
              "      <td>0.068</td>\n",
              "      <td>55.4</td>\n",
              "      <td>100.0</td>\n",
              "      <td>0.0</td>\n",
              "      <td>0.0</td>\n",
              "      <td>0.0</td>\n",
              "    </tr>\n",
              "  </tbody>\n",
              "</table>\n",
              "</div>"
            ],
            "text/plain": [
              "    init_a  init_b  init_c  final_a  ...   ftpt  ffpt  ftpf  ffpf\n",
              "0     -0.1    -0.1    -0.1   -0.256  ...  100.0   0.0   0.0   0.0\n",
              "1     -0.1    -0.1     0.0   -0.256  ...  100.0   0.0   0.0   0.0\n",
              "2     -0.1    -0.1     0.1   -0.256  ...  100.0   0.0   0.0   0.0\n",
              "3     -0.1     0.0    -0.1   -0.256  ...  100.0   0.0   0.0   0.0\n",
              "4     -0.1     0.0     0.0   -0.256  ...  100.0   0.0   0.0   0.0\n",
              "5     -0.1     0.0     0.1   -0.256  ...  100.0   0.0   0.0   0.0\n",
              "6     -0.1     0.1    -0.1   -0.255  ...  100.0   0.0   0.0   0.0\n",
              "7     -0.1     0.1     0.0   -0.255  ...  100.0   0.0   0.0   0.0\n",
              "8     -0.1     0.1     0.1   -0.255  ...  100.0   0.0   0.0   0.0\n",
              "9      0.0    -0.1    -0.1   -0.256  ...  100.0   0.0   0.0   0.0\n",
              "10     0.0    -0.1     0.0   -0.256  ...  100.0   0.0   0.0   0.0\n",
              "11     0.0    -0.1     0.1   -0.256  ...  100.0   0.0   0.0   0.0\n",
              "12     0.0     0.0    -0.1   -0.255  ...  100.0   0.0   0.0   0.0\n",
              "13     0.0     0.0     0.0   -0.256  ...  100.0   0.0   0.0   0.0\n",
              "14     0.0     0.0     0.1   -0.256  ...  100.0   0.0   0.0   0.0\n",
              "15     0.0     0.1    -0.1   -0.255  ...  100.0   0.0   0.0   0.0\n",
              "16     0.0     0.1     0.0   -0.255  ...  100.0   0.0   0.0   0.0\n",
              "17     0.0     0.1     0.1   -0.255  ...  100.0   0.0   0.0   0.0\n",
              "18     0.1    -0.1    -0.1    0.251  ...    0.0  53.5   0.0  46.5\n",
              "19     0.1    -0.1     0.0    0.251  ...    0.0  53.5   0.0  46.5\n",
              "20     0.1    -0.1     0.1    0.251  ...    0.0  53.5   0.0  46.5\n",
              "21     0.1     0.0    -0.1    0.251  ...    0.0  53.5   0.0  46.5\n",
              "22     0.1     0.0     0.0   -0.255  ...  100.0   0.0   0.0   0.0\n",
              "23     0.1     0.0     0.1   -0.255  ...  100.0   0.0   0.0   0.0\n",
              "24     0.1     0.1    -0.1   -0.255  ...  100.0   0.0   0.0   0.0\n",
              "25     0.1     0.1     0.0   -0.255  ...  100.0   0.0   0.0   0.0\n",
              "26     0.1     0.1     0.1   -0.255  ...  100.0   0.0   0.0   0.0\n",
              "\n",
              "[27 rows x 12 columns]"
            ]
          },
          "metadata": {
            "tags": []
          },
          "execution_count": 42
        }
      ]
    },
    {
      "cell_type": "code",
      "metadata": {
        "id": "1m2PyeaJcO7H"
      },
      "source": [
        "df_test.to_csv(\"linear_linear_simultaneous.csv\")"
      ],
      "execution_count": 44,
      "outputs": []
    },
    {
      "cell_type": "code",
      "metadata": {
        "id": "8mipCcN0cdXO"
      },
      "source": [
        ""
      ],
      "execution_count": 41,
      "outputs": []
    }
  ]
}