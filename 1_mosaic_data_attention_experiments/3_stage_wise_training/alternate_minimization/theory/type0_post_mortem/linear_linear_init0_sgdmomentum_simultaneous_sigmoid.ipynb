{
  "nbformat": 4,
  "nbformat_minor": 0,
  "metadata": {
    "accelerator": "GPU",
    "colab": {
      "name": "type0_focus_linear_classify_linear.ipynb",
      "provenance": [],
      "collapsed_sections": []
    },
    "kernelspec": {
      "display_name": "Python 3",
      "language": "python",
      "name": "python3"
    },
    "language_info": {
      "codemirror_mode": {
        "name": "ipython",
        "version": 3
      },
      "file_extension": ".py",
      "mimetype": "text/x-python",
      "name": "python",
      "nbconvert_exporter": "python",
      "pygments_lexer": "ipython3",
      "version": "3.6.5"
    }
  },
  "cells": [
    {
      "cell_type": "code",
      "metadata": {
        "colab": {
          "base_uri": "https://localhost:8080/"
        },
        "id": "N2_J4Rw2r0SQ",
        "outputId": "2bd245e6-7765-4426-be8b-fb033282f044"
      },
      "source": [
        "import numpy as np\n",
        "import pandas as pd\n",
        "from matplotlib import pyplot as plt\n",
        "from tqdm import tqdm\n",
        "%matplotlib inline\n",
        "from torch.utils.data import Dataset, DataLoader\n",
        "import torch\n",
        "import torchvision\n",
        "\n",
        "import torch.nn as nn\n",
        "import torch.optim as optim\n",
        "from torch.nn import functional as F\n",
        "device = torch.device(\"cuda\" if torch.cuda.is_available() else \"cpu\")\n",
        "print(device)"
      ],
      "execution_count": 56,
      "outputs": [
        {
          "output_type": "stream",
          "text": [
            "cuda\n"
          ],
          "name": "stdout"
        }
      ]
    },
    {
      "cell_type": "markdown",
      "metadata": {
        "id": "F6fjud_Fr0Sa"
      },
      "source": [
        "# Generate dataset"
      ]
    },
    {
      "cell_type": "code",
      "metadata": {
        "colab": {
          "base_uri": "https://localhost:8080/"
        },
        "id": "CqdXHO0Cr0Sd",
        "outputId": "423688d0-c839-47b3-933b-c0d5cc3bc318"
      },
      "source": [
        "y = np.random.randint(0,3,500)\n",
        "idx= []\n",
        "for i in range(3):\n",
        "    print(i,sum(y==i))\n",
        "    idx.append(y==i)"
      ],
      "execution_count": 57,
      "outputs": [
        {
          "output_type": "stream",
          "text": [
            "0 160\n",
            "1 165\n",
            "2 175\n"
          ],
          "name": "stdout"
        }
      ]
    },
    {
      "cell_type": "code",
      "metadata": {
        "id": "ddhXyODwr0Sk"
      },
      "source": [
        "x = np.zeros((500,))"
      ],
      "execution_count": 58,
      "outputs": []
    },
    {
      "cell_type": "code",
      "metadata": {
        "id": "DyV3N2DIr0Sp"
      },
      "source": [
        "np.random.seed(12)\n",
        "x[idx[0]] = np.random.uniform(low =-1,high =0,size= sum(idx[0]))\n",
        "x[idx[1]] = np.random.uniform(low =0,high =1,size= sum(idx[1]))\n",
        "x[idx[2]] = np.random.uniform(low =2,high =3,size= sum(idx[2]))"
      ],
      "execution_count": 59,
      "outputs": []
    },
    {
      "cell_type": "code",
      "metadata": {
        "colab": {
          "base_uri": "https://localhost:8080/"
        },
        "id": "qh1mDScsU07I",
        "outputId": "9296f374-64f0-4025-a375-c9f3a8dacf94"
      },
      "source": [
        "x[idx[0]][0], x[idx[2]][5] "
      ],
      "execution_count": 60,
      "outputs": [
        {
          "output_type": "execute_result",
          "data": {
            "text/plain": [
              "(-0.8458371576203276, 2.3773011594614126)"
            ]
          },
          "metadata": {
            "tags": []
          },
          "execution_count": 60
        }
      ]
    },
    {
      "cell_type": "code",
      "metadata": {
        "colab": {
          "base_uri": "https://localhost:8080/"
        },
        "id": "9Vr5ErQ_wSrV",
        "outputId": "9f8c0314-d2aa-417b-9df3-9df7570431bd"
      },
      "source": [
        "print(x.shape,y.shape)"
      ],
      "execution_count": 61,
      "outputs": [
        {
          "output_type": "stream",
          "text": [
            "(500,) (500,)\n"
          ],
          "name": "stdout"
        }
      ]
    },
    {
      "cell_type": "code",
      "metadata": {
        "id": "NG-3RpffwU_i"
      },
      "source": [
        "idx= []\n",
        "for i in range(3):\n",
        "  idx.append(y==i)"
      ],
      "execution_count": 62,
      "outputs": []
    },
    {
      "cell_type": "code",
      "metadata": {
        "colab": {
          "base_uri": "https://localhost:8080/",
          "height": 284
        },
        "id": "hJ8Jm7YUr0St",
        "outputId": "ffc4f8b6-09ea-49fe-db2f-bf597e8bce13"
      },
      "source": [
        "for i in range(3):\n",
        "    y= np.zeros(x[idx[i]].shape[0])\n",
        "    plt.scatter(x[idx[i]],y,label=\"class_\"+str(i))\n",
        "plt.legend()"
      ],
      "execution_count": 63,
      "outputs": [
        {
          "output_type": "execute_result",
          "data": {
            "text/plain": [
              "<matplotlib.legend.Legend at 0x7f02d76b4050>"
            ]
          },
          "metadata": {
            "tags": []
          },
          "execution_count": 63
        },
        {
          "output_type": "display_data",
          "data": {
            "image/png": "[encoded data removed]",
            "text/plain": [
              "<Figure size 432x288 with 1 Axes>"
            ]
          },
          "metadata": {
            "tags": [],
            "needs_background": "light"
          }
        }
      ]
    },
    {
      "cell_type": "code",
      "metadata": {
        "colab": {
          "base_uri": "https://localhost:8080/"
        },
        "id": "3lMBZEHNBlF2",
        "outputId": "df383af9-8a65-4c63-ae27-f2a237ff8552"
      },
      "source": [
        "bg_idx = [ np.where(idx[2] == True)[0]]\n",
        "\n",
        "bg_idx = np.concatenate(bg_idx, axis = 0)\n",
        "bg_idx.shape"
      ],
      "execution_count": 64,
      "outputs": [
        {
          "output_type": "execute_result",
          "data": {
            "text/plain": [
              "(175,)"
            ]
          },
          "metadata": {
            "tags": []
          },
          "execution_count": 64
        }
      ]
    },
    {
      "cell_type": "code",
      "metadata": {
        "colab": {
          "base_uri": "https://localhost:8080/"
        },
        "id": "blRbGZHeCwXU",
        "outputId": "dd7146c2-0031-48a8-a8cb-b5abc76aa572"
      },
      "source": [
        "np.unique(bg_idx).shape"
      ],
      "execution_count": 65,
      "outputs": [
        {
          "output_type": "execute_result",
          "data": {
            "text/plain": [
              "(175,)"
            ]
          },
          "metadata": {
            "tags": []
          },
          "execution_count": 65
        }
      ]
    },
    {
      "cell_type": "code",
      "metadata": {
        "id": "Y43sWeX7C15F"
      },
      "source": [
        "x = x - np.mean(x[bg_idx], axis = 0, keepdims = True)\n"
      ],
      "execution_count": 66,
      "outputs": []
    },
    {
      "cell_type": "code",
      "metadata": {
        "colab": {
          "base_uri": "https://localhost:8080/"
        },
        "id": "ooII7N6UDWe0",
        "outputId": "c90cf993-ffba-4eb9-d2f8-0904b7f9d839"
      },
      "source": [
        "np.mean(x[bg_idx], axis = 0, keepdims = True), np.mean(x, axis = 0, keepdims = True)"
      ],
      "execution_count": 67,
      "outputs": [
        {
          "output_type": "execute_result",
          "data": {
            "text/plain": [
              "(array([-4.82153999e-17]), array([-1.63429327]))"
            ]
          },
          "metadata": {
            "tags": []
          },
          "execution_count": 67
        }
      ]
    },
    {
      "cell_type": "code",
      "metadata": {
        "id": "g21bvPRYDL9k"
      },
      "source": [
        "x = x/np.std(x[bg_idx], axis = 0, keepdims = True)"
      ],
      "execution_count": 68,
      "outputs": []
    },
    {
      "cell_type": "code",
      "metadata": {
        "colab": {
          "base_uri": "https://localhost:8080/"
        },
        "id": "GtFvIeHsDZJk",
        "outputId": "ec2903c6-a963-4cf9-9e7c-c0020f4a3808"
      },
      "source": [
        "np.std(x[bg_idx], axis = 0, keepdims = True), np.std(x, axis = 0, keepdims = True)"
      ],
      "execution_count": 69,
      "outputs": [
        {
          "output_type": "execute_result",
          "data": {
            "text/plain": [
              "(array([1.]), array([4.33146331]))"
            ]
          },
          "metadata": {
            "tags": []
          },
          "execution_count": 69
        }
      ]
    },
    {
      "cell_type": "code",
      "metadata": {
        "colab": {
          "base_uri": "https://localhost:8080/",
          "height": 284
        },
        "id": "8-VLhUfDDeHt",
        "outputId": "025c2a92-007a-4340-f15f-d2da284a552d"
      },
      "source": [
        "for i in range(3):\n",
        "    y= np.zeros(x[idx[i]].shape[0])\n",
        "    plt.scatter(x[idx[i]],y,label=\"class_\"+str(i))\n",
        "plt.legend()"
      ],
      "execution_count": 70,
      "outputs": [
        {
          "output_type": "execute_result",
          "data": {
            "text/plain": [
              "<matplotlib.legend.Legend at 0x7f02d7647090>"
            ]
          },
          "metadata": {
            "tags": []
          },
          "execution_count": 70
        },
        {
          "output_type": "display_data",
          "data": {
            "image/png": "[encoded data removed]",
            "text/plain": [
              "<Figure size 432x288 with 1 Axes>"
            ]
          },
          "metadata": {
            "tags": [],
            "needs_background": "light"
          }
        }
      ]
    },
    {
      "cell_type": "code",
      "metadata": {
        "id": "UfFHcZJOr0Sz"
      },
      "source": [
        "foreground_classes = {'class_0','class_1' }\n",
        "\n",
        "background_classes = {'class_2'}"
      ],
      "execution_count": 71,
      "outputs": []
    },
    {
      "cell_type": "code",
      "metadata": {
        "colab": {
          "base_uri": "https://localhost:8080/"
        },
        "id": "OplNpNQVr0S2",
        "outputId": "2ca4e5de-058f-4016-a467-dc35cb8fced9"
      },
      "source": [
        "fg_class  = np.random.randint(0,2)\n",
        "fg_idx = np.random.randint(0,9)\n",
        "\n",
        "a = []\n",
        "for i in range(9):\n",
        "    if i == fg_idx:\n",
        "        b = np.random.choice(np.where(idx[fg_class]==True)[0],size=1)\n",
        "        a.append(x[b])\n",
        "        print(\"foreground \"+str(fg_class)+\" present at \" + str(fg_idx))\n",
        "    else:\n",
        "        bg_class = np.random.randint(2,3)\n",
        "        b = np.random.choice(np.where(idx[bg_class]==True)[0],size=1)\n",
        "        a.append(x[b])\n",
        "        print(\"background \"+str(bg_class)+\" present at \" + str(i))\n",
        "a = np.concatenate(a,axis=0)\n",
        "print(a.shape)\n",
        "\n",
        "print(fg_class , fg_idx)"
      ],
      "execution_count": 72,
      "outputs": [
        {
          "output_type": "stream",
          "text": [
            "background 2 present at 0\n",
            "background 2 present at 1\n",
            "background 2 present at 2\n",
            "background 2 present at 3\n",
            "background 2 present at 4\n",
            "background 2 present at 5\n",
            "background 2 present at 6\n",
            "background 2 present at 7\n",
            "foreground 1 present at 8\n",
            "(9,)\n",
            "1 8\n"
          ],
          "name": "stdout"
        }
      ]
    },
    {
      "cell_type": "code",
      "metadata": {
        "colab": {
          "base_uri": "https://localhost:8080/"
        },
        "id": "dwZVmmRBr0S8",
        "outputId": "a9e0fb0b-10f4-4033-8028-4339b0cbc84d"
      },
      "source": [
        "a.shape"
      ],
      "execution_count": 73,
      "outputs": [
        {
          "output_type": "execute_result",
          "data": {
            "text/plain": [
              "(9,)"
            ]
          },
          "metadata": {
            "tags": []
          },
          "execution_count": 73
        }
      ]
    },
    {
      "cell_type": "code",
      "metadata": {
        "colab": {
          "base_uri": "https://localhost:8080/"
        },
        "id": "OoxzYI-ur0S_",
        "outputId": "34b6b1b9-2b4f-4d70-f31f-13147bd4e4b2"
      },
      "source": [
        "np.reshape(a,(9,1))"
      ],
      "execution_count": 74,
      "outputs": [
        {
          "output_type": "execute_result",
          "data": {
            "text/plain": [
              "array([[-1.15794364],\n",
              "       [ 0.58697946],\n",
              "       [-1.69452431],\n",
              "       [-1.29318477],\n",
              "       [-0.67262115],\n",
              "       [ 1.59854334],\n",
              "       [-0.38598503],\n",
              "       [-0.67262115],\n",
              "       [-6.65351041]])"
            ]
          },
          "metadata": {
            "tags": []
          },
          "execution_count": 74
        }
      ]
    },
    {
      "cell_type": "code",
      "metadata": {
        "id": "y4ruI0cxr0TE"
      },
      "source": [
        "a=np.reshape(a,(3,3))"
      ],
      "execution_count": 75,
      "outputs": []
    },
    {
      "cell_type": "code",
      "metadata": {
        "colab": {
          "base_uri": "https://localhost:8080/",
          "height": 288
        },
        "id": "RTUTFhJIr0TI",
        "outputId": "b8e8f4e3-cc87-489d-bdb4-c0e102a8e51d"
      },
      "source": [
        "plt.imshow(a)"
      ],
      "execution_count": 76,
      "outputs": [
        {
          "output_type": "execute_result",
          "data": {
            "text/plain": [
              "<matplotlib.image.AxesImage at 0x7f02d754add0>"
            ]
          },
          "metadata": {
            "tags": []
          },
          "execution_count": 76
        },
        {
          "output_type": "display_data",
          "data": {
            "image/png": "[encoded data removed]",
            "text/plain": [
              "<Figure size 432x288 with 1 Axes>"
            ]
          },
          "metadata": {
            "tags": [],
            "needs_background": "light"
          }
        }
      ]
    },
    {
      "cell_type": "code",
      "metadata": {
        "id": "jqbvfbwVr0TN"
      },
      "source": [
        "desired_num = 2000\n",
        "mosaic_list_of_images =[]\n",
        "mosaic_label = []\n",
        "fore_idx=[]\n",
        "for j in range(desired_num):\n",
        "    np.random.seed(j)\n",
        "    fg_class  = np.random.randint(0,2)\n",
        "    fg_idx = 0\n",
        "    a = []\n",
        "    for i in range(9):\n",
        "        if i == fg_idx:\n",
        "            b = np.random.choice(np.where(idx[fg_class]==True)[0],size=1)\n",
        "            a.append(x[b])\n",
        "#             print(\"foreground \"+str(fg_class)+\" present at \" + str(fg_idx))\n",
        "        else:\n",
        "            bg_class = np.random.randint(2,3)\n",
        "            b = np.random.choice(np.where(idx[bg_class]==True)[0],size=1)\n",
        "            a.append(x[b])\n",
        "#             print(\"background \"+str(bg_class)+\" present at \" + str(i))\n",
        "    a = np.concatenate(a,axis=0)\n",
        "    mosaic_list_of_images.append(np.reshape(a,(9,1)))\n",
        "    mosaic_label.append(fg_class)\n",
        "    fore_idx.append(fg_idx)"
      ],
      "execution_count": 77,
      "outputs": []
    },
    {
      "cell_type": "code",
      "metadata": {
        "id": "BOsFmWfMr0TR"
      },
      "source": [
        "mosaic_list_of_images = np.concatenate(mosaic_list_of_images,axis=1).T\n"
      ],
      "execution_count": 78,
      "outputs": []
    },
    {
      "cell_type": "code",
      "metadata": {
        "colab": {
          "base_uri": "https://localhost:8080/"
        },
        "id": "2aIPMgLXNiXW",
        "outputId": "64cfd241-f570-45d8-ec57-32108108e657"
      },
      "source": [
        "mosaic_list_of_images.shape, mosaic_list_of_images[0]"
      ],
      "execution_count": 79,
      "outputs": [
        {
          "output_type": "execute_result",
          "data": {
            "text/plain": [
              "((2000, 9), array([-10.46807047,   1.05650048,   1.27810018,  -0.01725184,\n",
              "          1.59854334,  -0.88637981,  -0.4593889 ,  -1.53162822,\n",
              "          1.32266184]))"
            ]
          },
          "metadata": {
            "tags": []
          },
          "execution_count": 79
        }
      ]
    },
    {
      "cell_type": "code",
      "metadata": {
        "colab": {
          "base_uri": "https://localhost:8080/"
        },
        "id": "A3qcsbbzPfRG",
        "outputId": "989d2371-b895-4520-c835-2f4dad2ba0d8"
      },
      "source": [
        "for j in range(9):\n",
        "  print(mosaic_list_of_images[0][j])\n",
        "  "
      ],
      "execution_count": 80,
      "outputs": [
        {
          "output_type": "stream",
          "text": [
            "-10.468070470054734\n",
            "1.0565004769628443\n",
            "1.278100178112481\n",
            "-0.017251837431010407\n",
            "1.598543342240201\n",
            "-0.8863798117059832\n",
            "-0.45938889515789527\n",
            "-1.531628222899254\n",
            "1.3226618426278711\n"
          ],
          "name": "stdout"
        }
      ]
    },
    {
      "cell_type": "code",
      "metadata": {
        "id": "iPoIwbMHx44n"
      },
      "source": [
        "class MosaicDataset(Dataset):\n",
        "  \"\"\"MosaicDataset dataset.\"\"\"\n",
        "\n",
        "  def __init__(self, mosaic_list_of_images, mosaic_label, fore_idx):\n",
        "    \"\"\"\n",
        "      Args:\n",
        "        csv_file (string): Path to the csv file with annotations.\n",
        "        root_dir (string): Directory with all the images.\n",
        "        transform (callable, optional): Optional transform to be applied\n",
        "            on a sample.\n",
        "    \"\"\"\n",
        "    self.mosaic = mosaic_list_of_images\n",
        "    self.label = mosaic_label\n",
        "    self.fore_idx = fore_idx\n",
        "\n",
        "  def __len__(self):\n",
        "    return len(self.label)\n",
        "\n",
        "  def __getitem__(self, idx):\n",
        "    return self.mosaic[idx] , self.label[idx], self.fore_idx[idx]\n",
        "\n"
      ],
      "execution_count": 81,
      "outputs": []
    },
    {
      "cell_type": "code",
      "metadata": {
        "id": "fOPAJQJeW8Ah"
      },
      "source": [
        "batch = 250\n",
        "msd1 = MosaicDataset(mosaic_list_of_images[0:1000], mosaic_label[0:1000] , fore_idx[0:1000])\n",
        "train_loader = DataLoader( msd1 ,batch_size= batch ,shuffle=True)"
      ],
      "execution_count": 82,
      "outputs": []
    },
    {
      "cell_type": "code",
      "metadata": {
        "id": "qjNiQgxZW8bA"
      },
      "source": [
        "batch = 250\n",
        "msd2 = MosaicDataset(mosaic_list_of_images[1000:2000], mosaic_label[1000:2000] , fore_idx[1000:2000])\n",
        "test_loader = DataLoader( msd2 ,batch_size= batch ,shuffle=True)"
      ],
      "execution_count": 83,
      "outputs": []
    },
    {
      "cell_type": "code",
      "metadata": {
        "id": "30ZAjix3x8CM"
      },
      "source": [
        "class Focus(nn.Module):\n",
        "  def __init__(self):\n",
        "    super(Focus, self).__init__()\n",
        "\n",
        "    self.fc1 = nn.Linear(1, 1)\n",
        "    # self.fc2 = nn.Linear(2, 1)\n",
        "\n",
        "  def forward(self,z):  #y is avg image #z batch of list of 9 images\n",
        "    y = torch.zeros([batch], dtype=torch.float64)\n",
        "    x = torch.zeros([batch,9],dtype=torch.float64)\n",
        "    y = y.to(\"cuda\")\n",
        "    x = x.to(\"cuda\")\n",
        "    # print(x.shape, z.shape)\n",
        "    for i in range(9):\n",
        "      # print(z[:,i].shape)\n",
        "      # print(self.helper(z[:,i])[:,0].shape)\n",
        "      x[:,i] = self.helper(z[:,i])[:,0]\n",
        "    # print(x.shape, z.shape)\n",
        "    x = F.softmax(x,dim=1)\n",
        "    # print(x.shape, z.shape)\n",
        "    # x1 = x[:,0]\n",
        "    # print(torch.mul(x[:,0],z[:,0]).shape)\n",
        "\n",
        "    for i in range(9):            \n",
        "      # x1 = x[:,i]          \n",
        "      y = y + torch.mul(x[:,i],z[:,i])\n",
        "\n",
        "    # print(x.shape, y.shape)\n",
        "    return x, y\n",
        "    \n",
        "  def helper(self, x):\n",
        "    x = x.view(-1, 1)\n",
        "    # x = F.relu(self.fc1(x))\n",
        "    x = (self.fc1(x))\n",
        "\n",
        "    return x"
      ],
      "execution_count": 84,
      "outputs": []
    },
    {
      "cell_type": "code",
      "metadata": {
        "id": "0dYXnywAD-4l"
      },
      "source": [
        "class Classification(nn.Module):\n",
        "  def __init__(self):\n",
        "    super(Classification, self).__init__()\n",
        "    self.fc1 = nn.Linear(1, 1)\n",
        "\n",
        "\n",
        "  def forward(self, x):\n",
        "    x = x.view(-1, 1)\n",
        "    x = self.fc1(x)\n",
        "    # print(x.shape)\n",
        "    return x"
      ],
      "execution_count": 85,
      "outputs": []
    },
    {
      "cell_type": "code",
      "metadata": {
        "id": "lSa6O9f6XNf4"
      },
      "source": [
        "torch.manual_seed(12)\n",
        "focus_net = Focus().double()\n",
        "focus_net = focus_net.to(\"cuda\")"
      ],
      "execution_count": 86,
      "outputs": []
    },
    {
      "cell_type": "code",
      "metadata": {
        "id": "36k3H2G-XO9A"
      },
      "source": [
        "torch.manual_seed(12)\n",
        "classify = Classification().double()\n",
        "classify = classify.to(\"cuda\")"
      ],
      "execution_count": 87,
      "outputs": []
    },
    {
      "cell_type": "code",
      "metadata": {
        "colab": {
          "base_uri": "https://localhost:8080/"
        },
        "id": "GzLu85nt8cus",
        "outputId": "c64aa091-8fd1-488f-a032-f923ea8569e0"
      },
      "source": [
        "focus_net.fc1.weight, focus_net.fc1.bias"
      ],
      "execution_count": 88,
      "outputs": [
        {
          "output_type": "execute_result",
          "data": {
            "text/plain": [
              "(Parameter containing:\n",
              " tensor([[-0.0686]], device='cuda:0', dtype=torch.float64, requires_grad=True),\n",
              " Parameter containing:\n",
              " tensor([-0.5345], device='cuda:0', dtype=torch.float64, requires_grad=True))"
            ]
          },
          "metadata": {
            "tags": []
          },
          "execution_count": 88
        }
      ]
    },
    {
      "cell_type": "code",
      "metadata": {
        "colab": {
          "base_uri": "https://localhost:8080/"
        },
        "id": "MUKu6yYJ8xpa",
        "outputId": "cf4a60d9-a98f-4c4f-8b42-44efde6901c6"
      },
      "source": [
        "classify.fc1.weight, classify.fc1.bias"
      ],
      "execution_count": 89,
      "outputs": [
        {
          "output_type": "execute_result",
          "data": {
            "text/plain": [
              "(Parameter containing:\n",
              " tensor([[-0.0686]], device='cuda:0', dtype=torch.float64, requires_grad=True),\n",
              " Parameter containing:\n",
              " tensor([-0.5345], device='cuda:0', dtype=torch.float64, requires_grad=True))"
            ]
          },
          "metadata": {
            "tags": []
          },
          "execution_count": 89
        }
      ]
    },
    {
      "cell_type": "code",
      "metadata": {
        "colab": {
          "base_uri": "https://localhost:8080/"
        },
        "id": "HT6wtLO0-OMd",
        "outputId": "71bccb7a-0445-4138-ecfa-4934012819c7"
      },
      "source": [
        "focus_net.fc1.weight = torch.nn.Parameter(torch.tensor(np.array([[0.0]])))\n",
        "focus_net.fc1.bias = torch.nn.Parameter(torch.tensor(np.array([0.0])))\n",
        "focus_net.fc1.weight, focus_net.fc1.bias"
      ],
      "execution_count": 90,
      "outputs": [
        {
          "output_type": "execute_result",
          "data": {
            "text/plain": [
              "(Parameter containing:\n",
              " tensor([[0.]], dtype=torch.float64, requires_grad=True), Parameter containing:\n",
              " tensor([0.], dtype=torch.float64, requires_grad=True))"
            ]
          },
          "metadata": {
            "tags": []
          },
          "execution_count": 90
        }
      ]
    },
    {
      "cell_type": "code",
      "metadata": {
        "colab": {
          "base_uri": "https://localhost:8080/"
        },
        "id": "KGH49klt_ch8",
        "outputId": "afeffb79-a2c4-4a41-a17d-9eef89f92dc2"
      },
      "source": [
        "classify.fc1.weight = torch.nn.Parameter(torch.tensor(np.array([[0.0]])))\n",
        "classify.fc1.bias = torch.nn.Parameter(torch.tensor(np.array([0.0])))\n",
        "classify.fc1.weight, classify.fc1.bias"
      ],
      "execution_count": 91,
      "outputs": [
        {
          "output_type": "execute_result",
          "data": {
            "text/plain": [
              "(Parameter containing:\n",
              " tensor([[0.]], dtype=torch.float64, requires_grad=True), Parameter containing:\n",
              " tensor([0.], dtype=torch.float64, requires_grad=True))"
            ]
          },
          "metadata": {
            "tags": []
          },
          "execution_count": 91
        }
      ]
    },
    {
      "cell_type": "code",
      "metadata": {
        "id": "ONl0V5-X_tAe"
      },
      "source": [
        "focus_net = focus_net.to(\"cuda\")\n",
        "classify = classify.to(\"cuda\")"
      ],
      "execution_count": 92,
      "outputs": []
    },
    {
      "cell_type": "code",
      "metadata": {
        "colab": {
          "base_uri": "https://localhost:8080/"
        },
        "id": "khp-OpLJ_y9L",
        "outputId": "958711a0-be24-47a9-fd27-3f0c5b77f3a0"
      },
      "source": [
        "focus_net.fc1.weight, focus_net.fc1.bias"
      ],
      "execution_count": 93,
      "outputs": [
        {
          "output_type": "execute_result",
          "data": {
            "text/plain": [
              "(Parameter containing:\n",
              " tensor([[0.]], device='cuda:0', dtype=torch.float64, requires_grad=True),\n",
              " Parameter containing:\n",
              " tensor([0.], device='cuda:0', dtype=torch.float64, requires_grad=True))"
            ]
          },
          "metadata": {
            "tags": []
          },
          "execution_count": 93
        }
      ]
    },
    {
      "cell_type": "code",
      "metadata": {
        "colab": {
          "base_uri": "https://localhost:8080/"
        },
        "id": "BE4i-PU__1yM",
        "outputId": "7e4b8310-d314-4b10-b063-cf183c340dde"
      },
      "source": [
        "classify.fc1.weight, classify.fc1.bias"
      ],
      "execution_count": 94,
      "outputs": [
        {
          "output_type": "execute_result",
          "data": {
            "text/plain": [
              "(Parameter containing:\n",
              " tensor([[0.]], device='cuda:0', dtype=torch.float64, requires_grad=True),\n",
              " Parameter containing:\n",
              " tensor([0.], device='cuda:0', dtype=torch.float64, requires_grad=True))"
            ]
          },
          "metadata": {
            "tags": []
          },
          "execution_count": 94
        }
      ]
    },
    {
      "cell_type": "code",
      "metadata": {
        "id": "7MHBbL7FXRQk"
      },
      "source": [
        "import torch.optim as optim\n",
        "criterion = nn.BCEWithLogitsLoss()\n",
        "optimizer_classify = optim.SGD(classify.parameters(), lr=0.01, momentum=0.9)\n",
        "optimizer_focus = optim.SGD(focus_net.parameters(), lr=0.01, momentum=0.9)\n",
        "\n",
        "# optimizer_classify = optim.Adam(classify.parameters(), lr=0.01)\n",
        "# optimizer_focus = optim.Adam(focus_net.parameters(), lr=0.01)"
      ],
      "execution_count": 95,
      "outputs": []
    },
    {
      "cell_type": "code",
      "metadata": {
        "id": "pjD2VZuV9Ed4"
      },
      "source": [
        "col1=[]\n",
        "col2=[]\n",
        "col3=[]\n",
        "col4=[]\n",
        "col5=[]\n",
        "col6=[]\n",
        "col7=[]\n",
        "col8=[]\n",
        "col9=[]\n",
        "col10=[]\n",
        "col11=[]\n",
        "col12=[]\n",
        "col13=[]"
      ],
      "execution_count": 96,
      "outputs": []
    },
    {
      "cell_type": "code",
      "metadata": {
        "id": "uALi25pmzQHV",
        "colab": {
          "base_uri": "https://localhost:8080/"
        },
        "outputId": "3b159352-e53d-4ba9-bbd2-1714e036f696"
      },
      "source": [
        "correct = 0\n",
        "total = 0\n",
        "count = 0\n",
        "flag = 1\n",
        "focus_true_pred_true =0\n",
        "focus_false_pred_true =0\n",
        "focus_true_pred_false =0\n",
        "focus_false_pred_false =0\n",
        "\n",
        "argmax_more_than_half = 0\n",
        "argmax_less_than_half =0\n",
        "\n",
        "with torch.no_grad():\n",
        "  for data in train_loader:\n",
        "    inputs, labels , fore_idx = data\n",
        "    inputs = inputs.double()\n",
        "    inputs, labels , fore_idx = inputs.to(\"cuda\"),labels.to(\"cuda\"), fore_idx.to(\"cuda\")\n",
        "    alphas, avg_images = focus_net(inputs)\n",
        "    outputs = classify(avg_images)\n",
        "    # print(outputs.shape)\n",
        "    predicted = np.round(torch.sigmoid(outputs.data).cpu().numpy())\n",
        "    # print(predicted.shape)\n",
        "\n",
        "    for j in range(labels.size(0)):\n",
        "      count += 1\n",
        "      focus = torch.argmax(alphas[j])\n",
        "      if alphas[j][focus] >= 0.5 :\n",
        "        argmax_more_than_half += 1\n",
        "      else:\n",
        "        argmax_less_than_half += 1\n",
        "\n",
        "      # print(focus, fore_idx[j], predicted[j])\n",
        "      if(focus == fore_idx[j] and predicted[j] == labels[j].item()):\n",
        "          focus_true_pred_true += 1\n",
        "      elif(focus != fore_idx[j] and predicted[j] == labels[j].item()):\n",
        "        focus_false_pred_true += 1\n",
        "      elif(focus == fore_idx[j] and predicted[j] != labels[j].item()):\n",
        "        focus_true_pred_false += 1\n",
        "      elif(focus != fore_idx[j] and predicted[j] != labels[j].item()):\n",
        "        focus_false_pred_false += 1\n",
        "\n",
        "    total += labels.size(0)\n",
        "    correct += np.sum( np.concatenate(predicted,axis=0)== labels.cpu().numpy() )\n",
        "\n",
        "print('Accuracy of the network on the 1000 train images: %d %%' % ( 100 * correct / total))\n",
        "print(\"total correct\", correct)\n",
        "print(\"total train set images\", total)\n",
        "\n",
        "print(\"focus_true_pred_true %d =============> FTPT : %d %%\" % (focus_true_pred_true , (100 * focus_true_pred_true / total) ) )\n",
        "print(\"focus_false_pred_true %d =============> FFPT : %d %%\" % (focus_false_pred_true, (100 * focus_false_pred_true / total) ) )\n",
        "print(\"focus_true_pred_false %d =============> FTPF : %d %%\" %( focus_true_pred_false , ( 100 * focus_true_pred_false / total) ) )\n",
        "print(\"focus_false_pred_false %d =============> FFPF : %d %%\" % (focus_false_pred_false, ( 100 * focus_false_pred_false / total) ) )\n",
        "\n",
        "print(\"argmax_more_than_half ==================> \",argmax_more_than_half)\n",
        "print(\"argmax_less_than_half ==================> \",argmax_less_than_half)\n",
        "print(count)\n",
        "\n",
        "print(\"=\"*100)\n",
        "\n",
        "col1.append(0)\n",
        "col2.append(argmax_more_than_half)\n",
        "col3.append(argmax_less_than_half)\n",
        "col4.append(focus_true_pred_true)\n",
        "col5.append(focus_false_pred_true)\n",
        "col6.append(focus_true_pred_false)\n",
        "col7.append(focus_false_pred_false)"
      ],
      "execution_count": 97,
      "outputs": [
        {
          "output_type": "stream",
          "text": [
            "Accuracy of the network on the 1000 train images: 49 %\n",
            "total correct 493\n",
            "total train set images 1000\n",
            "focus_true_pred_true 493 =============> FTPT : 49 %\n",
            "focus_false_pred_true 0 =============> FFPT : 0 %\n",
            "focus_true_pred_false 507 =============> FTPF : 50 %\n",
            "focus_false_pred_false 0 =============> FFPF : 0 %\n",
            "argmax_more_than_half ==================>  0\n",
            "argmax_less_than_half ==================>  1000\n",
            "1000\n",
            "====================================================================================================\n"
          ],
          "name": "stdout"
        }
      ]
    },
    {
      "cell_type": "code",
      "metadata": {
        "id": "4vmNprlPzTjP",
        "colab": {
          "base_uri": "https://localhost:8080/"
        },
        "outputId": "6df06f24-59d2-44a7-b3c1-93a32fdd1527"
      },
      "source": [
        "correct = 0\n",
        "total = 0\n",
        "count = 0\n",
        "flag = 1\n",
        "focus_true_pred_true =0\n",
        "focus_false_pred_true =0\n",
        "focus_true_pred_false =0\n",
        "focus_false_pred_false =0\n",
        "\n",
        "argmax_more_than_half = 0\n",
        "argmax_less_than_half =0\n",
        "\n",
        "with torch.no_grad():\n",
        "  for data in test_loader:\n",
        "    inputs, labels , fore_idx = data\n",
        "    inputs = inputs.double()\n",
        "    inputs, labels , fore_idx = inputs.to(\"cuda\"),labels.to(\"cuda\"), fore_idx.to(\"cuda\")\n",
        "    alphas, avg_images = focus_net(inputs)\n",
        "    outputs = classify(avg_images)\n",
        "\n",
        "    predicted = np.round(torch.sigmoid(outputs.data).cpu().numpy())\n",
        "\n",
        "    for j in range(labels.size(0)):\n",
        "      focus = torch.argmax(alphas[j])\n",
        "      if alphas[j][focus] >= 0.5 :\n",
        "        argmax_more_than_half += 1\n",
        "      else:\n",
        "        argmax_less_than_half += 1\n",
        "\n",
        "      if(focus == fore_idx[j] and predicted[j] == labels[j].item()):\n",
        "          focus_true_pred_true += 1\n",
        "      elif(focus != fore_idx[j] and predicted[j] == labels[j].item()):\n",
        "        focus_false_pred_true += 1\n",
        "      elif(focus == fore_idx[j] and predicted[j] != labels[j].item()):\n",
        "        focus_true_pred_false += 1\n",
        "      elif(focus != fore_idx[j] and predicted[j] != labels[j].item()):\n",
        "        focus_false_pred_false += 1\n",
        "\n",
        "    total += labels.size(0)\n",
        "    correct += np.sum( np.concatenate(predicted,axis=0)== labels.cpu().numpy() )\n",
        "\n",
        "print('Accuracy of the network on the 1000 test images: %d %%' % (\n",
        "    100 * correct / total))\n",
        "print(\"total correct\", correct)\n",
        "print(\"total train set images\", total)\n",
        "\n",
        "print(\"focus_true_pred_true %d =============> FTPT : %d %%\" % (focus_true_pred_true , (100 * focus_true_pred_true / total) ) )\n",
        "print(\"focus_false_pred_true %d =============> FFPT : %d %%\" % (focus_false_pred_true, (100 * focus_false_pred_true / total) ) )\n",
        "print(\"focus_true_pred_false %d =============> FTPF : %d %%\" %( focus_true_pred_false , ( 100 * focus_true_pred_false / total) ) )\n",
        "print(\"focus_false_pred_false %d =============> FFPF : %d %%\" % (focus_false_pred_false, ( 100 * focus_false_pred_false / total) ) )\n",
        "\n",
        "print(\"argmax_more_than_half ==================> \",argmax_more_than_half)\n",
        "print(\"argmax_less_than_half ==================> \",argmax_less_than_half)\n",
        "col8.append(argmax_more_than_half)\n",
        "col9.append(argmax_less_than_half)\n",
        "col10.append(focus_true_pred_true)\n",
        "col11.append(focus_false_pred_true)\n",
        "col12.append(focus_true_pred_false)\n",
        "col13.append(focus_false_pred_false)"
      ],
      "execution_count": 98,
      "outputs": [
        {
          "output_type": "stream",
          "text": [
            "Accuracy of the network on the 1000 test images: 51 %\n",
            "total correct 519\n",
            "total train set images 1000\n",
            "focus_true_pred_true 519 =============> FTPT : 51 %\n",
            "focus_false_pred_true 0 =============> FFPT : 0 %\n",
            "focus_true_pred_false 481 =============> FTPF : 48 %\n",
            "focus_false_pred_false 0 =============> FFPF : 0 %\n",
            "argmax_more_than_half ==================>  0\n",
            "argmax_less_than_half ==================>  1000\n"
          ],
          "name": "stdout"
        }
      ]
    },
    {
      "cell_type": "code",
      "metadata": {
        "id": "Yl41sE8vFERk",
        "colab": {
          "base_uri": "https://localhost:8080/"
        },
        "outputId": "0a43cb5d-885b-46ac-b260-3ba4d5007ff4"
      },
      "source": [
        "nos_epochs = 1000\n",
        "focus_true_pred_true =0\n",
        "focus_false_pred_true =0\n",
        "focus_true_pred_false =0\n",
        "focus_false_pred_false =0\n",
        "\n",
        "argmax_more_than_half = 0\n",
        "argmax_less_than_half =0\n",
        "\n",
        "\n",
        "for epoch in range(nos_epochs):  # loop over the dataset multiple times\n",
        "\n",
        "  focus_true_pred_true =0\n",
        "  focus_false_pred_true =0\n",
        "  focus_true_pred_false =0\n",
        "  focus_false_pred_false =0\n",
        "  \n",
        "  argmax_more_than_half = 0\n",
        "  argmax_less_than_half =0\n",
        "  \n",
        "  running_loss = 0.0\n",
        "  epoch_loss = []\n",
        "  cnt=0\n",
        "\n",
        "  iteration = desired_num // batch\n",
        "  \n",
        "  #training data set\n",
        "  \n",
        "  for i, data in  enumerate(train_loader):\n",
        "    inputs , labels , fore_idx = data\n",
        "    inputs, labels = inputs.to(\"cuda\"), labels.to(\"cuda\")\n",
        "    inputs = inputs.double()\n",
        "    labels = labels.float()\n",
        "    # zero the parameter gradients\n",
        "    \n",
        "    optimizer_focus.zero_grad()\n",
        "    optimizer_classify.zero_grad()\n",
        "    \n",
        "    alphas, avg_images = focus_net(inputs)\n",
        "    outputs = classify(avg_images)\n",
        "\n",
        "    predicted = np.round(torch.sigmoid(outputs.data).cpu().numpy())\n",
        "    # print(predicted.shape)\n",
        "    # print(outputs.shape,labels.shape)\n",
        "    # print(outputs)\n",
        "    # print(labels)\n",
        "    loss = criterion(outputs[:,0], labels) \n",
        "    loss.backward()\n",
        "    optimizer_focus.step()\n",
        "    optimizer_classify.step()\n",
        "\n",
        "    running_loss += loss.item()\n",
        "    mini = 3\n",
        "    if cnt % mini == mini-1:    # print every 40 mini-batches\n",
        "      print('[%d, %5d] loss: %.3f' %(epoch + 1, cnt + 1, running_loss / mini))\n",
        "      epoch_loss.append(running_loss/mini)\n",
        "      running_loss = 0.0\n",
        "    cnt=cnt+1\n",
        "    \n",
        "    if epoch % 5 == 0:\n",
        "      for j in range (batch):\n",
        "        focus = torch.argmax(alphas[j])\n",
        "\n",
        "        if(alphas[j][focus] >= 0.5):\n",
        "          argmax_more_than_half +=1\n",
        "        else:\n",
        "          argmax_less_than_half +=1\n",
        "\n",
        "        if(focus == fore_idx[j] and predicted[j] == labels[j].item()):\n",
        "          focus_true_pred_true += 1\n",
        "\n",
        "        elif(focus != fore_idx[j] and predicted[j] == labels[j].item()):\n",
        "          focus_false_pred_true +=1\n",
        "\n",
        "        elif(focus == fore_idx[j] and predicted[j] != labels[j].item()):\n",
        "          focus_true_pred_false +=1\n",
        "\n",
        "        elif(focus != fore_idx[j] and predicted[j] != labels[j].item()):\n",
        "          focus_false_pred_false +=1\n",
        "\n",
        "  if(np.mean(epoch_loss) <= 0.001):\n",
        "      break;\n",
        "\n",
        "  if epoch % 5 == 0:\n",
        "    col1.append(epoch + 1)\n",
        "    col2.append(argmax_more_than_half)\n",
        "    col3.append(argmax_less_than_half)\n",
        "    col4.append(focus_true_pred_true)\n",
        "    col5.append(focus_false_pred_true)\n",
        "    col6.append(focus_true_pred_false)\n",
        "    col7.append(focus_false_pred_false)\n",
        "    # print(\"=\"*20)\n",
        "    # print(\"Train FTPT : \", col4)\n",
        "    # print(\"Train FFPT : \", col5)\n",
        "    #************************************************************************\n",
        "    #testing data set  \n",
        "    # focus_net.eval()\n",
        "    with torch.no_grad():\n",
        "      focus_true_pred_true =0\n",
        "      focus_false_pred_true =0\n",
        "      focus_true_pred_false =0\n",
        "      focus_false_pred_false =0\n",
        "\n",
        "      argmax_more_than_half = 0\n",
        "      argmax_less_than_half =0\n",
        "      for data in test_loader:\n",
        "        inputs, labels , fore_idx = data\n",
        "        inputs = inputs.double()\n",
        "        inputs, labels = inputs.to(\"cuda\"), labels.to(\"cuda\")\n",
        "        alphas, avg_images = focus_net(inputs)\n",
        "        outputs = classify(avg_images)\n",
        "        predicted = np.round(torch.sigmoid(outputs.data).cpu().numpy())\n",
        "\n",
        "        for j in range (batch):\n",
        "          focus = torch.argmax(alphas[j])\n",
        "\n",
        "          if(alphas[j][focus] >= 0.5):\n",
        "            argmax_more_than_half +=1\n",
        "          else:\n",
        "            argmax_less_than_half +=1\n",
        "\n",
        "          if(focus == fore_idx[j] and predicted[j] == labels[j].item()):\n",
        "            focus_true_pred_true += 1\n",
        "\n",
        "          elif(focus != fore_idx[j] and predicted[j] == labels[j].item()):\n",
        "            focus_false_pred_true +=1\n",
        "\n",
        "          elif(focus == fore_idx[j] and predicted[j] != labels[j].item()):\n",
        "            focus_true_pred_false +=1\n",
        "\n",
        "          elif(focus != fore_idx[j] and predicted[j] != labels[j].item()):\n",
        "            focus_false_pred_false +=1\n",
        "      \n",
        "    col8.append(argmax_more_than_half)\n",
        "    col9.append(argmax_less_than_half)\n",
        "    col10.append(focus_true_pred_true)\n",
        "    col11.append(focus_false_pred_true)\n",
        "    col12.append(focus_true_pred_false)\n",
        "    col13.append(focus_false_pred_false)\n",
        "    # print(\"Test FTPT : \", col10)\n",
        "    # print(\"Test FFPT : \", col11)\n",
        "    # print(\"=\"*20)\n",
        "    \n",
        "print('Finished Training')"
      ],
      "execution_count": 99,
      "outputs": [
        {
          "output_type": "stream",
          "text": [
            "[1,     3] loss: 0.693\n",
            "[2,     3] loss: 0.692\n",
            "[3,     3] loss: 0.691\n",
            "[4,     3] loss: 0.689\n",
            "[5,     3] loss: 0.687\n",
            "[6,     3] loss: 0.681\n",
            "[7,     3] loss: 0.669\n",
            "[8,     3] loss: 0.642\n",
            "[9,     3] loss: 0.634\n",
            "[10,     3] loss: 0.626\n",
            "[11,     3] loss: 0.624\n",
            "[12,     3] loss: 0.608\n",
            "[13,     3] loss: 0.597\n",
            "[14,     3] loss: 0.592\n",
            "[15,     3] loss: 0.595\n",
            "[16,     3] loss: 0.576\n",
            "[17,     3] loss: 0.565\n",
            "[18,     3] loss: 0.556\n",
            "[19,     3] loss: 0.552\n",
            "[20,     3] loss: 0.546\n",
            "[21,     3] loss: 0.532\n",
            "[22,     3] loss: 0.530\n",
            "[23,     3] loss: 0.529\n",
            "[24,     3] loss: 0.517\n",
            "[25,     3] loss: 0.505\n",
            "[26,     3] loss: 0.509\n",
            "[27,     3] loss: 0.502\n",
            "[28,     3] loss: 0.498\n",
            "[29,     3] loss: 0.482\n",
            "[30,     3] loss: 0.476\n",
            "[31,     3] loss: 0.481\n",
            "[32,     3] loss: 0.471\n",
            "[33,     3] loss: 0.467\n",
            "[34,     3] loss: 0.464\n",
            "[35,     3] loss: 0.459\n",
            "[36,     3] loss: 0.451\n",
            "[37,     3] loss: 0.447\n",
            "[38,     3] loss: 0.443\n",
            "[39,     3] loss: 0.428\n",
            "[40,     3] loss: 0.427\n",
            "[41,     3] loss: 0.429\n",
            "[42,     3] loss: 0.421\n",
            "[43,     3] loss: 0.425\n",
            "[44,     3] loss: 0.418\n",
            "[45,     3] loss: 0.413\n",
            "[46,     3] loss: 0.410\n",
            "[47,     3] loss: 0.411\n",
            "[48,     3] loss: 0.396\n",
            "[49,     3] loss: 0.396\n",
            "[50,     3] loss: 0.391\n",
            "[51,     3] loss: 0.384\n",
            "[52,     3] loss: 0.393\n",
            "[53,     3] loss: 0.379\n",
            "[54,     3] loss: 0.380\n",
            "[55,     3] loss: 0.379\n",
            "[56,     3] loss: 0.377\n",
            "[57,     3] loss: 0.372\n",
            "[58,     3] loss: 0.369\n",
            "[59,     3] loss: 0.360\n",
            "[60,     3] loss: 0.367\n",
            "[61,     3] loss: 0.359\n",
            "[62,     3] loss: 0.358\n",
            "[63,     3] loss: 0.353\n",
            "[64,     3] loss: 0.353\n",
            "[65,     3] loss: 0.352\n",
            "[66,     3] loss: 0.343\n",
            "[67,     3] loss: 0.347\n",
            "[68,     3] loss: 0.339\n",
            "[69,     3] loss: 0.343\n",
            "[70,     3] loss: 0.337\n",
            "[71,     3] loss: 0.335\n",
            "[72,     3] loss: 0.328\n",
            "[73,     3] loss: 0.332\n",
            "[74,     3] loss: 0.334\n",
            "[75,     3] loss: 0.327\n",
            "[76,     3] loss: 0.323\n",
            "[77,     3] loss: 0.329\n",
            "[78,     3] loss: 0.322\n",
            "[79,     3] loss: 0.311\n",
            "[80,     3] loss: 0.315\n",
            "[81,     3] loss: 0.313\n",
            "[82,     3] loss: 0.308\n",
            "[83,     3] loss: 0.315\n",
            "[84,     3] loss: 0.306\n",
            "[85,     3] loss: 0.310\n",
            "[86,     3] loss: 0.304\n",
            "[87,     3] loss: 0.302\n",
            "[88,     3] loss: 0.308\n",
            "[89,     3] loss: 0.301\n",
            "[90,     3] loss: 0.297\n",
            "[91,     3] loss: 0.293\n",
            "[92,     3] loss: 0.295\n",
            "[93,     3] loss: 0.295\n",
            "[94,     3] loss: 0.300\n",
            "[95,     3] loss: 0.285\n",
            "[96,     3] loss: 0.292\n",
            "[97,     3] loss: 0.295\n",
            "[98,     3] loss: 0.293\n",
            "[99,     3] loss: 0.285\n",
            "[100,     3] loss: 0.289\n",
            "[101,     3] loss: 0.289\n",
            "[102,     3] loss: 0.282\n",
            "[103,     3] loss: 0.286\n",
            "[104,     3] loss: 0.278\n",
            "[105,     3] loss: 0.280\n",
            "[106,     3] loss: 0.278\n",
            "[107,     3] loss: 0.278\n",
            "[108,     3] loss: 0.270\n",
            "[109,     3] loss: 0.276\n",
            "[110,     3] loss: 0.272\n",
            "[111,     3] loss: 0.265\n",
            "[112,     3] loss: 0.268\n",
            "[113,     3] loss: 0.265\n",
            "[114,     3] loss: 0.271\n",
            "[115,     3] loss: 0.270\n",
            "[116,     3] loss: 0.267\n",
            "[117,     3] loss: 0.264\n",
            "[118,     3] loss: 0.267\n",
            "[119,     3] loss: 0.260\n",
            "[120,     3] loss: 0.258\n",
            "[121,     3] loss: 0.253\n",
            "[122,     3] loss: 0.260\n",
            "[123,     3] loss: 0.255\n",
            "[124,     3] loss: 0.257\n",
            "[125,     3] loss: 0.256\n",
            "[126,     3] loss: 0.254\n",
            "[127,     3] loss: 0.252\n",
            "[128,     3] loss: 0.253\n",
            "[129,     3] loss: 0.255\n",
            "[130,     3] loss: 0.256\n",
            "[131,     3] loss: 0.248\n",
            "[132,     3] loss: 0.246\n",
            "[133,     3] loss: 0.247\n",
            "[134,     3] loss: 0.243\n",
            "[135,     3] loss: 0.248\n",
            "[136,     3] loss: 0.245\n",
            "[137,     3] loss: 0.243\n",
            "[138,     3] loss: 0.240\n",
            "[139,     3] loss: 0.242\n",
            "[140,     3] loss: 0.239\n",
            "[141,     3] loss: 0.237\n",
            "[142,     3] loss: 0.240\n",
            "[143,     3] loss: 0.240\n",
            "[144,     3] loss: 0.244\n",
            "[145,     3] loss: 0.239\n",
            "[146,     3] loss: 0.236\n",
            "[147,     3] loss: 0.239\n",
            "[148,     3] loss: 0.237\n",
            "[149,     3] loss: 0.240\n",
            "[150,     3] loss: 0.241\n",
            "[151,     3] loss: 0.240\n",
            "[152,     3] loss: 0.240\n",
            "[153,     3] loss: 0.236\n",
            "[154,     3] loss: 0.229\n",
            "[155,     3] loss: 0.237\n",
            "[156,     3] loss: 0.234\n",
            "[157,     3] loss: 0.225\n",
            "[158,     3] loss: 0.227\n",
            "[159,     3] loss: 0.223\n",
            "[160,     3] loss: 0.225\n",
            "[161,     3] loss: 0.234\n",
            "[162,     3] loss: 0.224\n",
            "[163,     3] loss: 0.221\n",
            "[164,     3] loss: 0.228\n",
            "[165,     3] loss: 0.225\n",
            "[166,     3] loss: 0.226\n",
            "[167,     3] loss: 0.221\n",
            "[168,     3] loss: 0.218\n",
            "[169,     3] loss: 0.223\n",
            "[170,     3] loss: 0.226\n",
            "[171,     3] loss: 0.220\n",
            "[172,     3] loss: 0.216\n",
            "[173,     3] loss: 0.221\n",
            "[174,     3] loss: 0.219\n",
            "[175,     3] loss: 0.216\n",
            "[176,     3] loss: 0.213\n",
            "[177,     3] loss: 0.225\n",
            "[178,     3] loss: 0.218\n",
            "[179,     3] loss: 0.211\n",
            "[180,     3] loss: 0.214\n",
            "[181,     3] loss: 0.206\n",
            "[182,     3] loss: 0.217\n",
            "[183,     3] loss: 0.215\n",
            "[184,     3] loss: 0.214\n",
            "[185,     3] loss: 0.211\n",
            "[186,     3] loss: 0.215\n",
            "[187,     3] loss: 0.214\n",
            "[188,     3] loss: 0.205\n",
            "[189,     3] loss: 0.208\n",
            "[190,     3] loss: 0.204\n",
            "[191,     3] loss: 0.210\n",
            "[192,     3] loss: 0.211\n",
            "[193,     3] loss: 0.217\n",
            "[194,     3] loss: 0.216\n",
            "[195,     3] loss: 0.215\n",
            "[196,     3] loss: 0.209\n",
            "[197,     3] loss: 0.201\n",
            "[198,     3] loss: 0.214\n",
            "[199,     3] loss: 0.204\n",
            "[200,     3] loss: 0.202\n",
            "[201,     3] loss: 0.202\n",
            "[202,     3] loss: 0.205\n",
            "[203,     3] loss: 0.201\n",
            "[204,     3] loss: 0.198\n",
            "[205,     3] loss: 0.203\n",
            "[206,     3] loss: 0.200\n",
            "[207,     3] loss: 0.209\n",
            "[208,     3] loss: 0.203\n",
            "[209,     3] loss: 0.200\n",
            "[210,     3] loss: 0.197\n",
            "[211,     3] loss: 0.206\n",
            "[212,     3] loss: 0.195\n",
            "[213,     3] loss: 0.200\n",
            "[214,     3] loss: 0.200\n",
            "[215,     3] loss: 0.189\n",
            "[216,     3] loss: 0.191\n",
            "[217,     3] loss: 0.197\n",
            "[218,     3] loss: 0.199\n",
            "[219,     3] loss: 0.195\n",
            "[220,     3] loss: 0.197\n",
            "[221,     3] loss: 0.198\n",
            "[222,     3] loss: 0.192\n",
            "[223,     3] loss: 0.194\n",
            "[224,     3] loss: 0.194\n",
            "[225,     3] loss: 0.194\n",
            "[226,     3] loss: 0.189\n",
            "[227,     3] loss: 0.194\n",
            "[228,     3] loss: 0.193\n",
            "[229,     3] loss: 0.188\n",
            "[230,     3] loss: 0.190\n",
            "[231,     3] loss: 0.184\n",
            "[232,     3] loss: 0.187\n",
            "[233,     3] loss: 0.192\n",
            "[234,     3] loss: 0.190\n",
            "[235,     3] loss: 0.191\n",
            "[236,     3] loss: 0.189\n",
            "[237,     3] loss: 0.186\n",
            "[238,     3] loss: 0.189\n",
            "[239,     3] loss: 0.191\n",
            "[240,     3] loss: 0.191\n",
            "[241,     3] loss: 0.190\n",
            "[242,     3] loss: 0.184\n",
            "[243,     3] loss: 0.184\n",
            "[244,     3] loss: 0.190\n",
            "[245,     3] loss: 0.187\n",
            "[246,     3] loss: 0.186\n",
            "[247,     3] loss: 0.188\n",
            "[248,     3] loss: 0.183\n",
            "[249,     3] loss: 0.187\n",
            "[250,     3] loss: 0.184\n",
            "[251,     3] loss: 0.186\n",
            "[252,     3] loss: 0.182\n",
            "[253,     3] loss: 0.189\n",
            "[254,     3] loss: 0.182\n",
            "[255,     3] loss: 0.187\n",
            "[256,     3] loss: 0.179\n",
            "[257,     3] loss: 0.188\n",
            "[258,     3] loss: 0.188\n",
            "[259,     3] loss: 0.182\n",
            "[260,     3] loss: 0.196\n",
            "[261,     3] loss: 0.190\n",
            "[262,     3] loss: 0.177\n",
            "[263,     3] loss: 0.176\n",
            "[264,     3] loss: 0.181\n",
            "[265,     3] loss: 0.178\n",
            "[266,     3] loss: 0.174\n",
            "[267,     3] loss: 0.177\n",
            "[268,     3] loss: 0.187\n",
            "[269,     3] loss: 0.180\n",
            "[270,     3] loss: 0.180\n",
            "[271,     3] loss: 0.175\n",
            "[272,     3] loss: 0.181\n",
            "[273,     3] loss: 0.174\n",
            "[274,     3] loss: 0.182\n",
            "[275,     3] loss: 0.177\n",
            "[276,     3] loss: 0.176\n",
            "[277,     3] loss: 0.176\n",
            "[278,     3] loss: 0.180\n",
            "[279,     3] loss: 0.176\n",
            "[280,     3] loss: 0.178\n",
            "[281,     3] loss: 0.171\n",
            "[282,     3] loss: 0.170\n",
            "[283,     3] loss: 0.185\n",
            "[284,     3] loss: 0.182\n",
            "[285,     3] loss: 0.179\n",
            "[286,     3] loss: 0.175\n",
            "[287,     3] loss: 0.177\n",
            "[288,     3] loss: 0.177\n",
            "[289,     3] loss: 0.172\n",
            "[290,     3] loss: 0.173\n",
            "[291,     3] loss: 0.177\n",
            "[292,     3] loss: 0.172\n",
            "[293,     3] loss: 0.170\n",
            "[294,     3] loss: 0.167\n",
            "[295,     3] loss: 0.171\n",
            "[296,     3] loss: 0.177\n",
            "[297,     3] loss: 0.176\n",
            "[298,     3] loss: 0.169\n",
            "[299,     3] loss: 0.168\n",
            "[300,     3] loss: 0.172\n",
            "[301,     3] loss: 0.170\n",
            "[302,     3] loss: 0.168\n",
            "[303,     3] loss: 0.175\n",
            "[304,     3] loss: 0.171\n",
            "[305,     3] loss: 0.165\n",
            "[306,     3] loss: 0.168\n",
            "[307,     3] loss: 0.166\n",
            "[308,     3] loss: 0.167\n",
            "[309,     3] loss: 0.164\n",
            "[310,     3] loss: 0.166\n",
            "[311,     3] loss: 0.168\n",
            "[312,     3] loss: 0.170\n",
            "[313,     3] loss: 0.170\n",
            "[314,     3] loss: 0.173\n",
            "[315,     3] loss: 0.165\n",
            "[316,     3] loss: 0.169\n",
            "[317,     3] loss: 0.165\n",
            "[318,     3] loss: 0.166\n",
            "[319,     3] loss: 0.166\n",
            "[320,     3] loss: 0.161\n",
            "[321,     3] loss: 0.167\n",
            "[322,     3] loss: 0.166\n",
            "[323,     3] loss: 0.171\n",
            "[324,     3] loss: 0.161\n",
            "[325,     3] loss: 0.168\n",
            "[326,     3] loss: 0.159\n",
            "[327,     3] loss: 0.163\n",
            "[328,     3] loss: 0.168\n",
            "[329,     3] loss: 0.168\n",
            "[330,     3] loss: 0.163\n",
            "[331,     3] loss: 0.162\n",
            "[332,     3] loss: 0.160\n",
            "[333,     3] loss: 0.165\n",
            "[334,     3] loss: 0.163\n",
            "[335,     3] loss: 0.166\n",
            "[336,     3] loss: 0.161\n",
            "[337,     3] loss: 0.166\n",
            "[338,     3] loss: 0.159\n",
            "[339,     3] loss: 0.165\n",
            "[340,     3] loss: 0.165\n",
            "[341,     3] loss: 0.155\n",
            "[342,     3] loss: 0.163\n",
            "[343,     3] loss: 0.165\n",
            "[344,     3] loss: 0.163\n",
            "[345,     3] loss: 0.156\n",
            "[346,     3] loss: 0.159\n",
            "[347,     3] loss: 0.166\n",
            "[348,     3] loss: 0.161\n",
            "[349,     3] loss: 0.159\n",
            "[350,     3] loss: 0.158\n",
            "[351,     3] loss: 0.156\n",
            "[352,     3] loss: 0.164\n",
            "[353,     3] loss: 0.157\n",
            "[354,     3] loss: 0.160\n",
            "[355,     3] loss: 0.159\n",
            "[356,     3] loss: 0.161\n",
            "[357,     3] loss: 0.153\n",
            "[358,     3] loss: 0.156\n",
            "[359,     3] loss: 0.159\n",
            "[360,     3] loss: 0.160\n",
            "[361,     3] loss: 0.153\n",
            "[362,     3] loss: 0.160\n",
            "[363,     3] loss: 0.156\n",
            "[364,     3] loss: 0.160\n",
            "[365,     3] loss: 0.155\n",
            "[366,     3] loss: 0.157\n",
            "[367,     3] loss: 0.156\n",
            "[368,     3] loss: 0.150\n",
            "[369,     3] loss: 0.152\n",
            "[370,     3] loss: 0.151\n",
            "[371,     3] loss: 0.157\n",
            "[372,     3] loss: 0.154\n",
            "[373,     3] loss: 0.161\n",
            "[374,     3] loss: 0.151\n",
            "[375,     3] loss: 0.160\n",
            "[376,     3] loss: 0.152\n",
            "[377,     3] loss: 0.148\n",
            "[378,     3] loss: 0.152\n",
            "[379,     3] loss: 0.154\n",
            "[380,     3] loss: 0.153\n",
            "[381,     3] loss: 0.157\n",
            "[382,     3] loss: 0.154\n",
            "[383,     3] loss: 0.155\n",
            "[384,     3] loss: 0.152\n",
            "[385,     3] loss: 0.155\n",
            "[386,     3] loss: 0.157\n",
            "[387,     3] loss: 0.157\n",
            "[388,     3] loss: 0.161\n",
            "[389,     3] loss: 0.156\n",
            "[390,     3] loss: 0.157\n",
            "[391,     3] loss: 0.155\n",
            "[392,     3] loss: 0.155\n",
            "[393,     3] loss: 0.148\n",
            "[394,     3] loss: 0.151\n",
            "[395,     3] loss: 0.151\n",
            "[396,     3] loss: 0.151\n",
            "[397,     3] loss: 0.157\n",
            "[398,     3] loss: 0.148\n",
            "[399,     3] loss: 0.155\n",
            "[400,     3] loss: 0.155\n",
            "[401,     3] loss: 0.151\n",
            "[402,     3] loss: 0.152\n",
            "[403,     3] loss: 0.154\n",
            "[404,     3] loss: 0.150\n",
            "[405,     3] loss: 0.152\n",
            "[406,     3] loss: 0.153\n",
            "[407,     3] loss: 0.154\n",
            "[408,     3] loss: 0.155\n",
            "[409,     3] loss: 0.149\n",
            "[410,     3] loss: 0.148\n",
            "[411,     3] loss: 0.146\n",
            "[412,     3] loss: 0.149\n",
            "[413,     3] loss: 0.154\n",
            "[414,     3] loss: 0.151\n",
            "[415,     3] loss: 0.149\n",
            "[416,     3] loss: 0.150\n",
            "[417,     3] loss: 0.153\n",
            "[418,     3] loss: 0.153\n",
            "[419,     3] loss: 0.147\n",
            "[420,     3] loss: 0.147\n",
            "[421,     3] loss: 0.150\n",
            "[422,     3] loss: 0.152\n",
            "[423,     3] loss: 0.159\n",
            "[424,     3] loss: 0.149\n",
            "[425,     3] loss: 0.146\n",
            "[426,     3] loss: 0.144\n",
            "[427,     3] loss: 0.146\n",
            "[428,     3] loss: 0.153\n",
            "[429,     3] loss: 0.152\n",
            "[430,     3] loss: 0.145\n",
            "[431,     3] loss: 0.151\n",
            "[432,     3] loss: 0.158\n",
            "[433,     3] loss: 0.149\n",
            "[434,     3] loss: 0.150\n",
            "[435,     3] loss: 0.145\n",
            "[436,     3] loss: 0.150\n",
            "[437,     3] loss: 0.151\n",
            "[438,     3] loss: 0.143\n",
            "[439,     3] loss: 0.150\n",
            "[440,     3] loss: 0.148\n",
            "[441,     3] loss: 0.146\n",
            "[442,     3] loss: 0.158\n",
            "[443,     3] loss: 0.148\n",
            "[444,     3] loss: 0.151\n",
            "[445,     3] loss: 0.153\n",
            "[446,     3] loss: 0.151\n",
            "[447,     3] loss: 0.142\n",
            "[448,     3] loss: 0.143\n",
            "[449,     3] loss: 0.147\n",
            "[450,     3] loss: 0.151\n",
            "[451,     3] loss: 0.151\n",
            "[452,     3] loss: 0.152\n",
            "[453,     3] loss: 0.152\n",
            "[454,     3] loss: 0.146\n",
            "[455,     3] loss: 0.146\n",
            "[456,     3] loss: 0.147\n",
            "[457,     3] loss: 0.147\n",
            "[458,     3] loss: 0.144\n",
            "[459,     3] loss: 0.147\n",
            "[460,     3] loss: 0.140\n",
            "[461,     3] loss: 0.145\n",
            "[462,     3] loss: 0.143\n",
            "[463,     3] loss: 0.141\n",
            "[464,     3] loss: 0.144\n",
            "[465,     3] loss: 0.143\n",
            "[466,     3] loss: 0.141\n",
            "[467,     3] loss: 0.146\n",
            "[468,     3] loss: 0.144\n",
            "[469,     3] loss: 0.146\n",
            "[470,     3] loss: 0.145\n",
            "[471,     3] loss: 0.142\n",
            "[472,     3] loss: 0.143\n",
            "[473,     3] loss: 0.142\n",
            "[474,     3] loss: 0.157\n",
            "[475,     3] loss: 0.154\n",
            "[476,     3] loss: 0.147\n",
            "[477,     3] loss: 0.144\n",
            "[478,     3] loss: 0.135\n",
            "[479,     3] loss: 0.131\n",
            "[480,     3] loss: 0.142\n",
            "[481,     3] loss: 0.140\n",
            "[482,     3] loss: 0.136\n",
            "[483,     3] loss: 0.139\n",
            "[484,     3] loss: 0.143\n",
            "[485,     3] loss: 0.137\n",
            "[486,     3] loss: 0.142\n",
            "[487,     3] loss: 0.144\n",
            "[488,     3] loss: 0.145\n",
            "[489,     3] loss: 0.142\n",
            "[490,     3] loss: 0.137\n",
            "[491,     3] loss: 0.134\n",
            "[492,     3] loss: 0.140\n",
            "[493,     3] loss: 0.139\n",
            "[494,     3] loss: 0.147\n",
            "[495,     3] loss: 0.138\n",
            "[496,     3] loss: 0.138\n",
            "[497,     3] loss: 0.142\n",
            "[498,     3] loss: 0.140\n",
            "[499,     3] loss: 0.138\n",
            "[500,     3] loss: 0.140\n",
            "[501,     3] loss: 0.136\n",
            "[502,     3] loss: 0.132\n",
            "[503,     3] loss: 0.136\n",
            "[504,     3] loss: 0.140\n",
            "[505,     3] loss: 0.136\n",
            "[506,     3] loss: 0.142\n",
            "[507,     3] loss: 0.138\n",
            "[508,     3] loss: 0.141\n",
            "[509,     3] loss: 0.131\n",
            "[510,     3] loss: 0.135\n",
            "[511,     3] loss: 0.138\n",
            "[512,     3] loss: 0.135\n",
            "[513,     3] loss: 0.132\n",
            "[514,     3] loss: 0.143\n",
            "[515,     3] loss: 0.135\n",
            "[516,     3] loss: 0.134\n",
            "[517,     3] loss: 0.140\n",
            "[518,     3] loss: 0.138\n",
            "[519,     3] loss: 0.141\n",
            "[520,     3] loss: 0.143\n",
            "[521,     3] loss: 0.140\n",
            "[522,     3] loss: 0.134\n",
            "[523,     3] loss: 0.133\n",
            "[524,     3] loss: 0.142\n",
            "[525,     3] loss: 0.135\n",
            "[526,     3] loss: 0.137\n",
            "[527,     3] loss: 0.136\n",
            "[528,     3] loss: 0.140\n",
            "[529,     3] loss: 0.143\n",
            "[530,     3] loss: 0.140\n",
            "[531,     3] loss: 0.142\n",
            "[532,     3] loss: 0.142\n",
            "[533,     3] loss: 0.146\n",
            "[534,     3] loss: 0.141\n",
            "[535,     3] loss: 0.136\n",
            "[536,     3] loss: 0.144\n",
            "[537,     3] loss: 0.136\n",
            "[538,     3] loss: 0.128\n",
            "[539,     3] loss: 0.133\n",
            "[540,     3] loss: 0.141\n",
            "[541,     3] loss: 0.145\n",
            "[542,     3] loss: 0.133\n",
            "[543,     3] loss: 0.141\n",
            "[544,     3] loss: 0.139\n",
            "[545,     3] loss: 0.131\n",
            "[546,     3] loss: 0.131\n",
            "[547,     3] loss: 0.138\n",
            "[548,     3] loss: 0.137\n",
            "[549,     3] loss: 0.137\n",
            "[550,     3] loss: 0.133\n",
            "[551,     3] loss: 0.137\n",
            "[552,     3] loss: 0.129\n",
            "[553,     3] loss: 0.130\n",
            "[554,     3] loss: 0.133\n",
            "[555,     3] loss: 0.133\n",
            "[556,     3] loss: 0.138\n",
            "[557,     3] loss: 0.138\n",
            "[558,     3] loss: 0.136\n",
            "[559,     3] loss: 0.135\n",
            "[560,     3] loss: 0.129\n",
            "[561,     3] loss: 0.144\n",
            "[562,     3] loss: 0.135\n",
            "[563,     3] loss: 0.138\n",
            "[564,     3] loss: 0.132\n",
            "[565,     3] loss: 0.130\n",
            "[566,     3] loss: 0.143\n",
            "[567,     3] loss: 0.136\n",
            "[568,     3] loss: 0.137\n",
            "[569,     3] loss: 0.127\n",
            "[570,     3] loss: 0.132\n",
            "[571,     3] loss: 0.133\n",
            "[572,     3] loss: 0.138\n",
            "[573,     3] loss: 0.132\n",
            "[574,     3] loss: 0.128\n",
            "[575,     3] loss: 0.131\n",
            "[576,     3] loss: 0.130\n",
            "[577,     3] loss: 0.131\n",
            "[578,     3] loss: 0.136\n",
            "[579,     3] loss: 0.127\n",
            "[580,     3] loss: 0.133\n",
            "[581,     3] loss: 0.136\n",
            "[582,     3] loss: 0.130\n",
            "[583,     3] loss: 0.127\n",
            "[584,     3] loss: 0.132\n",
            "[585,     3] loss: 0.136\n",
            "[586,     3] loss: 0.129\n",
            "[587,     3] loss: 0.130\n",
            "[588,     3] loss: 0.128\n",
            "[589,     3] loss: 0.128\n",
            "[590,     3] loss: 0.131\n",
            "[591,     3] loss: 0.125\n",
            "[592,     3] loss: 0.133\n",
            "[593,     3] loss: 0.139\n",
            "[594,     3] loss: 0.122\n",
            "[595,     3] loss: 0.127\n",
            "[596,     3] loss: 0.129\n",
            "[597,     3] loss: 0.132\n",
            "[598,     3] loss: 0.125\n",
            "[599,     3] loss: 0.132\n",
            "[600,     3] loss: 0.130\n",
            "[601,     3] loss: 0.135\n",
            "[602,     3] loss: 0.137\n",
            "[603,     3] loss: 0.126\n",
            "[604,     3] loss: 0.127\n",
            "[605,     3] loss: 0.141\n",
            "[606,     3] loss: 0.141\n",
            "[607,     3] loss: 0.132\n",
            "[608,     3] loss: 0.123\n",
            "[609,     3] loss: 0.129\n",
            "[610,     3] loss: 0.125\n",
            "[611,     3] loss: 0.132\n",
            "[612,     3] loss: 0.131\n",
            "[613,     3] loss: 0.132\n",
            "[614,     3] loss: 0.130\n",
            "[615,     3] loss: 0.128\n",
            "[616,     3] loss: 0.122\n",
            "[617,     3] loss: 0.124\n",
            "[618,     3] loss: 0.131\n",
            "[619,     3] loss: 0.133\n",
            "[620,     3] loss: 0.125\n",
            "[621,     3] loss: 0.126\n",
            "[622,     3] loss: 0.129\n",
            "[623,     3] loss: 0.127\n",
            "[624,     3] loss: 0.125\n",
            "[625,     3] loss: 0.129\n",
            "[626,     3] loss: 0.121\n",
            "[627,     3] loss: 0.133\n",
            "[628,     3] loss: 0.134\n",
            "[629,     3] loss: 0.123\n",
            "[630,     3] loss: 0.126\n",
            "[631,     3] loss: 0.128\n",
            "[632,     3] loss: 0.132\n",
            "[633,     3] loss: 0.124\n",
            "[634,     3] loss: 0.122\n",
            "[635,     3] loss: 0.126\n",
            "[636,     3] loss: 0.129\n",
            "[637,     3] loss: 0.127\n",
            "[638,     3] loss: 0.127\n",
            "[639,     3] loss: 0.130\n",
            "[640,     3] loss: 0.119\n",
            "[641,     3] loss: 0.128\n",
            "[642,     3] loss: 0.124\n",
            "[643,     3] loss: 0.125\n",
            "[644,     3] loss: 0.132\n",
            "[645,     3] loss: 0.124\n",
            "[646,     3] loss: 0.122\n",
            "[647,     3] loss: 0.121\n",
            "[648,     3] loss: 0.131\n",
            "[649,     3] loss: 0.131\n",
            "[650,     3] loss: 0.129\n",
            "[651,     3] loss: 0.128\n",
            "[652,     3] loss: 0.138\n",
            "[653,     3] loss: 0.144\n",
            "[654,     3] loss: 0.136\n",
            "[655,     3] loss: 0.130\n",
            "[656,     3] loss: 0.128\n",
            "[657,     3] loss: 0.131\n",
            "[658,     3] loss: 0.122\n",
            "[659,     3] loss: 0.125\n",
            "[660,     3] loss: 0.127\n",
            "[661,     3] loss: 0.127\n",
            "[662,     3] loss: 0.134\n",
            "[663,     3] loss: 0.135\n",
            "[664,     3] loss: 0.123\n",
            "[665,     3] loss: 0.125\n",
            "[666,     3] loss: 0.130\n",
            "[667,     3] loss: 0.125\n",
            "[668,     3] loss: 0.127\n",
            "[669,     3] loss: 0.129\n",
            "[670,     3] loss: 0.130\n",
            "[671,     3] loss: 0.121\n",
            "[672,     3] loss: 0.127\n",
            "[673,     3] loss: 0.127\n",
            "[674,     3] loss: 0.125\n",
            "[675,     3] loss: 0.122\n",
            "[676,     3] loss: 0.128\n",
            "[677,     3] loss: 0.127\n",
            "[678,     3] loss: 0.124\n",
            "[679,     3] loss: 0.118\n",
            "[680,     3] loss: 0.130\n",
            "[681,     3] loss: 0.124\n",
            "[682,     3] loss: 0.120\n",
            "[683,     3] loss: 0.130\n",
            "[684,     3] loss: 0.127\n",
            "[685,     3] loss: 0.123\n",
            "[686,     3] loss: 0.125\n",
            "[687,     3] loss: 0.131\n",
            "[688,     3] loss: 0.125\n",
            "[689,     3] loss: 0.121\n",
            "[690,     3] loss: 0.123\n",
            "[691,     3] loss: 0.116\n",
            "[692,     3] loss: 0.119\n",
            "[693,     3] loss: 0.124\n",
            "[694,     3] loss: 0.125\n",
            "[695,     3] loss: 0.128\n",
            "[696,     3] loss: 0.124\n",
            "[697,     3] loss: 0.122\n",
            "[698,     3] loss: 0.136\n",
            "[699,     3] loss: 0.129\n",
            "[700,     3] loss: 0.127\n",
            "[701,     3] loss: 0.125\n",
            "[702,     3] loss: 0.119\n",
            "[703,     3] loss: 0.119\n",
            "[704,     3] loss: 0.120\n",
            "[705,     3] loss: 0.122\n",
            "[706,     3] loss: 0.121\n",
            "[707,     3] loss: 0.129\n",
            "[708,     3] loss: 0.119\n",
            "[709,     3] loss: 0.123\n",
            "[710,     3] loss: 0.117\n",
            "[711,     3] loss: 0.118\n",
            "[712,     3] loss: 0.123\n",
            "[713,     3] loss: 0.122\n",
            "[714,     3] loss: 0.122\n",
            "[715,     3] loss: 0.123\n",
            "[716,     3] loss: 0.116\n",
            "[717,     3] loss: 0.121\n",
            "[718,     3] loss: 0.125\n",
            "[719,     3] loss: 0.129\n",
            "[720,     3] loss: 0.116\n",
            "[721,     3] loss: 0.126\n",
            "[722,     3] loss: 0.116\n",
            "[723,     3] loss: 0.119\n",
            "[724,     3] loss: 0.118\n",
            "[725,     3] loss: 0.124\n",
            "[726,     3] loss: 0.119\n",
            "[727,     3] loss: 0.129\n",
            "[728,     3] loss: 0.119\n",
            "[729,     3] loss: 0.124\n",
            "[730,     3] loss: 0.124\n",
            "[731,     3] loss: 0.126\n",
            "[732,     3] loss: 0.133\n",
            "[733,     3] loss: 0.119\n",
            "[734,     3] loss: 0.125\n",
            "[735,     3] loss: 0.127\n",
            "[736,     3] loss: 0.129\n",
            "[737,     3] loss: 0.122\n",
            "[738,     3] loss: 0.125\n",
            "[739,     3] loss: 0.120\n",
            "[740,     3] loss: 0.124\n",
            "[741,     3] loss: 0.121\n",
            "[742,     3] loss: 0.113\n",
            "[743,     3] loss: 0.119\n",
            "[744,     3] loss: 0.118\n",
            "[745,     3] loss: 0.131\n",
            "[746,     3] loss: 0.131\n",
            "[747,     3] loss: 0.119\n",
            "[748,     3] loss: 0.123\n",
            "[749,     3] loss: 0.119\n",
            "[750,     3] loss: 0.116\n",
            "[751,     3] loss: 0.115\n",
            "[752,     3] loss: 0.120\n",
            "[753,     3] loss: 0.116\n",
            "[754,     3] loss: 0.122\n",
            "[755,     3] loss: 0.118\n",
            "[756,     3] loss: 0.131\n",
            "[757,     3] loss: 0.120\n",
            "[758,     3] loss: 0.118\n",
            "[759,     3] loss: 0.117\n",
            "[760,     3] loss: 0.118\n",
            "[761,     3] loss: 0.118\n",
            "[762,     3] loss: 0.115\n",
            "[763,     3] loss: 0.113\n",
            "[764,     3] loss: 0.120\n",
            "[765,     3] loss: 0.118\n",
            "[766,     3] loss: 0.118\n",
            "[767,     3] loss: 0.116\n",
            "[768,     3] loss: 0.125\n",
            "[769,     3] loss: 0.129\n",
            "[770,     3] loss: 0.117\n",
            "[771,     3] loss: 0.124\n",
            "[772,     3] loss: 0.118\n",
            "[773,     3] loss: 0.117\n",
            "[774,     3] loss: 0.123\n",
            "[775,     3] loss: 0.111\n",
            "[776,     3] loss: 0.117\n",
            "[777,     3] loss: 0.119\n",
            "[778,     3] loss: 0.115\n",
            "[779,     3] loss: 0.115\n",
            "[780,     3] loss: 0.109\n",
            "[781,     3] loss: 0.119\n",
            "[782,     3] loss: 0.119\n",
            "[783,     3] loss: 0.120\n",
            "[784,     3] loss: 0.119\n",
            "[785,     3] loss: 0.118\n",
            "[786,     3] loss: 0.120\n",
            "[787,     3] loss: 0.121\n",
            "[788,     3] loss: 0.121\n",
            "[789,     3] loss: 0.117\n",
            "[790,     3] loss: 0.113\n",
            "[791,     3] loss: 0.115\n",
            "[792,     3] loss: 0.117\n",
            "[793,     3] loss: 0.121\n",
            "[794,     3] loss: 0.115\n",
            "[795,     3] loss: 0.118\n",
            "[796,     3] loss: 0.117\n",
            "[797,     3] loss: 0.114\n",
            "[798,     3] loss: 0.120\n",
            "[799,     3] loss: 0.117\n",
            "[800,     3] loss: 0.112\n",
            "[801,     3] loss: 0.113\n",
            "[802,     3] loss: 0.112\n",
            "[803,     3] loss: 0.118\n",
            "[804,     3] loss: 0.115\n",
            "[805,     3] loss: 0.115\n",
            "[806,     3] loss: 0.118\n",
            "[807,     3] loss: 0.115\n",
            "[808,     3] loss: 0.115\n",
            "[809,     3] loss: 0.117\n",
            "[810,     3] loss: 0.116\n",
            "[811,     3] loss: 0.114\n",
            "[812,     3] loss: 0.116\n",
            "[813,     3] loss: 0.111\n",
            "[814,     3] loss: 0.110\n",
            "[815,     3] loss: 0.113\n",
            "[816,     3] loss: 0.115\n",
            "[817,     3] loss: 0.116\n",
            "[818,     3] loss: 0.110\n",
            "[819,     3] loss: 0.116\n",
            "[820,     3] loss: 0.114\n",
            "[821,     3] loss: 0.112\n",
            "[822,     3] loss: 0.117\n",
            "[823,     3] loss: 0.114\n",
            "[824,     3] loss: 0.108\n",
            "[825,     3] loss: 0.113\n",
            "[826,     3] loss: 0.113\n",
            "[827,     3] loss: 0.108\n",
            "[828,     3] loss: 0.115\n",
            "[829,     3] loss: 0.112\n",
            "[830,     3] loss: 0.114\n",
            "[831,     3] loss: 0.112\n",
            "[832,     3] loss: 0.117\n",
            "[833,     3] loss: 0.114\n",
            "[834,     3] loss: 0.114\n",
            "[835,     3] loss: 0.107\n",
            "[836,     3] loss: 0.115\n",
            "[837,     3] loss: 0.112\n",
            "[838,     3] loss: 0.115\n",
            "[839,     3] loss: 0.122\n",
            "[840,     3] loss: 0.120\n",
            "[841,     3] loss: 0.113\n",
            "[842,     3] loss: 0.115\n",
            "[843,     3] loss: 0.122\n",
            "[844,     3] loss: 0.110\n",
            "[845,     3] loss: 0.113\n",
            "[846,     3] loss: 0.113\n",
            "[847,     3] loss: 0.113\n",
            "[848,     3] loss: 0.122\n",
            "[849,     3] loss: 0.122\n",
            "[850,     3] loss: 0.120\n",
            "[851,     3] loss: 0.116\n",
            "[852,     3] loss: 0.113\n",
            "[853,     3] loss: 0.111\n",
            "[854,     3] loss: 0.110\n",
            "[855,     3] loss: 0.114\n",
            "[856,     3] loss: 0.117\n",
            "[857,     3] loss: 0.112\n",
            "[858,     3] loss: 0.115\n",
            "[859,     3] loss: 0.110\n",
            "[860,     3] loss: 0.110\n",
            "[861,     3] loss: 0.109\n",
            "[862,     3] loss: 0.105\n",
            "[863,     3] loss: 0.112\n",
            "[864,     3] loss: 0.115\n",
            "[865,     3] loss: 0.115\n",
            "[866,     3] loss: 0.112\n",
            "[867,     3] loss: 0.111\n",
            "[868,     3] loss: 0.111\n",
            "[869,     3] loss: 0.113\n",
            "[870,     3] loss: 0.116\n",
            "[871,     3] loss: 0.110\n",
            "[872,     3] loss: 0.108\n",
            "[873,     3] loss: 0.119\n",
            "[874,     3] loss: 0.124\n",
            "[875,     3] loss: 0.109\n",
            "[876,     3] loss: 0.123\n",
            "[877,     3] loss: 0.136\n",
            "[878,     3] loss: 0.135\n",
            "[879,     3] loss: 0.132\n",
            "[880,     3] loss: 0.119\n",
            "[881,     3] loss: 0.125\n",
            "[882,     3] loss: 0.118\n",
            "[883,     3] loss: 0.113\n",
            "[884,     3] loss: 0.111\n",
            "[885,     3] loss: 0.115\n",
            "[886,     3] loss: 0.116\n",
            "[887,     3] loss: 0.109\n",
            "[888,     3] loss: 0.123\n",
            "[889,     3] loss: 0.113\n",
            "[890,     3] loss: 0.116\n",
            "[891,     3] loss: 0.114\n",
            "[892,     3] loss: 0.117\n",
            "[893,     3] loss: 0.119\n",
            "[894,     3] loss: 0.107\n",
            "[895,     3] loss: 0.113\n",
            "[896,     3] loss: 0.106\n",
            "[897,     3] loss: 0.112\n",
            "[898,     3] loss: 0.110\n",
            "[899,     3] loss: 0.120\n",
            "[900,     3] loss: 0.108\n",
            "[901,     3] loss: 0.107\n",
            "[902,     3] loss: 0.116\n",
            "[903,     3] loss: 0.111\n",
            "[904,     3] loss: 0.114\n",
            "[905,     3] loss: 0.106\n",
            "[906,     3] loss: 0.118\n",
            "[907,     3] loss: 0.117\n",
            "[908,     3] loss: 0.111\n",
            "[909,     3] loss: 0.114\n",
            "[910,     3] loss: 0.110\n",
            "[911,     3] loss: 0.114\n",
            "[912,     3] loss: 0.116\n",
            "[913,     3] loss: 0.116\n",
            "[914,     3] loss: 0.118\n",
            "[915,     3] loss: 0.111\n",
            "[916,     3] loss: 0.113\n",
            "[917,     3] loss: 0.112\n",
            "[918,     3] loss: 0.113\n",
            "[919,     3] loss: 0.116\n",
            "[920,     3] loss: 0.108\n",
            "[921,     3] loss: 0.102\n",
            "[922,     3] loss: 0.112\n",
            "[923,     3] loss: 0.126\n",
            "[924,     3] loss: 0.125\n",
            "[925,     3] loss: 0.117\n",
            "[926,     3] loss: 0.115\n",
            "[927,     3] loss: 0.113\n",
            "[928,     3] loss: 0.109\n",
            "[929,     3] loss: 0.115\n",
            "[930,     3] loss: 0.112\n",
            "[931,     3] loss: 0.105\n",
            "[932,     3] loss: 0.110\n",
            "[933,     3] loss: 0.113\n",
            "[934,     3] loss: 0.108\n",
            "[935,     3] loss: 0.111\n",
            "[936,     3] loss: 0.110\n",
            "[937,     3] loss: 0.115\n",
            "[938,     3] loss: 0.110\n",
            "[939,     3] loss: 0.111\n",
            "[940,     3] loss: 0.114\n",
            "[941,     3] loss: 0.116\n",
            "[942,     3] loss: 0.109\n",
            "[943,     3] loss: 0.112\n",
            "[944,     3] loss: 0.118\n",
            "[945,     3] loss: 0.112\n",
            "[946,     3] loss: 0.121\n",
            "[947,     3] loss: 0.117\n",
            "[948,     3] loss: 0.115\n",
            "[949,     3] loss: 0.110\n",
            "[950,     3] loss: 0.101\n",
            "[951,     3] loss: 0.111\n",
            "[952,     3] loss: 0.106\n",
            "[953,     3] loss: 0.109\n",
            "[954,     3] loss: 0.109\n",
            "[955,     3] loss: 0.103\n",
            "[956,     3] loss: 0.099\n",
            "[957,     3] loss: 0.110\n",
            "[958,     3] loss: 0.109\n",
            "[959,     3] loss: 0.106\n",
            "[960,     3] loss: 0.111\n",
            "[961,     3] loss: 0.109\n",
            "[962,     3] loss: 0.106\n",
            "[963,     3] loss: 0.108\n",
            "[964,     3] loss: 0.106\n",
            "[965,     3] loss: 0.115\n",
            "[966,     3] loss: 0.121\n",
            "[967,     3] loss: 0.111\n",
            "[968,     3] loss: 0.113\n",
            "[969,     3] loss: 0.109\n",
            "[970,     3] loss: 0.102\n",
            "[971,     3] loss: 0.108\n",
            "[972,     3] loss: 0.110\n",
            "[973,     3] loss: 0.111\n",
            "[974,     3] loss: 0.106\n",
            "[975,     3] loss: 0.110\n",
            "[976,     3] loss: 0.108\n",
            "[977,     3] loss: 0.109\n",
            "[978,     3] loss: 0.109\n",
            "[979,     3] loss: 0.108\n",
            "[980,     3] loss: 0.102\n",
            "[981,     3] loss: 0.107\n",
            "[982,     3] loss: 0.114\n",
            "[983,     3] loss: 0.103\n",
            "[984,     3] loss: 0.103\n",
            "[985,     3] loss: 0.107\n",
            "[986,     3] loss: 0.097\n",
            "[987,     3] loss: 0.099\n",
            "[988,     3] loss: 0.102\n",
            "[989,     3] loss: 0.104\n",
            "[990,     3] loss: 0.107\n",
            "[991,     3] loss: 0.113\n",
            "[992,     3] loss: 0.108\n",
            "[993,     3] loss: 0.111\n",
            "[994,     3] loss: 0.104\n",
            "[995,     3] loss: 0.107\n",
            "[996,     3] loss: 0.109\n",
            "[997,     3] loss: 0.104\n",
            "[998,     3] loss: 0.106\n",
            "[999,     3] loss: 0.107\n",
            "[1000,     3] loss: 0.114\n",
            "Finished Training\n"
          ],
          "name": "stdout"
        }
      ]
    },
    {
      "cell_type": "code",
      "metadata": {
        "id": "5gQoPST5zW2t"
      },
      "source": [
        "df_train = pd.DataFrame()\n",
        "df_test = pd.DataFrame()"
      ],
      "execution_count": 100,
      "outputs": []
    },
    {
      "cell_type": "code",
      "metadata": {
        "id": "In76SYH_zZHV"
      },
      "source": [
        "columns = [\"epochs\", \"argmax > 0.5\" ,\"argmax < 0.5\", \"focus_true_pred_true\", \"focus_false_pred_true\", \"focus_true_pred_false\", \"focus_false_pred_false\" ]"
      ],
      "execution_count": 101,
      "outputs": []
    },
    {
      "cell_type": "code",
      "metadata": {
        "id": "BS4HtOHEzZ0E"
      },
      "source": [
        "df_train[columns[0]] = col1\n",
        "df_train[columns[1]] = col2\n",
        "df_train[columns[2]] = col3\n",
        "df_train[columns[3]] = col4\n",
        "df_train[columns[4]] = col5\n",
        "df_train[columns[5]] = col6\n",
        "df_train[columns[6]] = col7\n",
        "\n",
        "df_test[columns[0]] = col1\n",
        "df_test[columns[1]] = col8\n",
        "df_test[columns[2]] = col9\n",
        "df_test[columns[3]] = col10\n",
        "df_test[columns[4]] = col11\n",
        "df_test[columns[5]] = col12\n",
        "df_test[columns[6]] = col13"
      ],
      "execution_count": 102,
      "outputs": []
    },
    {
      "cell_type": "code",
      "metadata": {
        "id": "1UbTkfLUINTI",
        "colab": {
          "base_uri": "https://localhost:8080/",
          "height": 424
        },
        "outputId": "228b8c86-1ab5-4a8f-a125-2056d4e94db0"
      },
      "source": [
        "df_train"
      ],
      "execution_count": 103,
      "outputs": [
        {
          "output_type": "execute_result",
          "data": {
            "text/html": [
              "<div>\n",
              "<style scoped>\n",
              "    .dataframe tbody tr th:only-of-type {\n",
              "        vertical-align: middle;\n",
              "    }\n",
              "\n",
              "    .dataframe tbody tr th {\n",
              "        vertical-align: top;\n",
              "    }\n",
              "\n",
              "    .dataframe thead th {\n",
              "        text-align: right;\n",
              "    }\n",
              "</style>\n",
              "<table border=\"1\" class=\"dataframe\">\n",
              "  <thead>\n",
              "    <tr style=\"text-align: right;\">\n",
              "      <th></th>\n",
              "      <th>epochs</th>\n",
              "      <th>argmax &gt; 0.5</th>\n",
              "      <th>argmax &lt; 0.5</th>\n",
              "      <th>focus_true_pred_true</th>\n",
              "      <th>focus_false_pred_true</th>\n",
              "      <th>focus_true_pred_false</th>\n",
              "      <th>focus_false_pred_false</th>\n",
              "    </tr>\n",
              "  </thead>\n",
              "  <tbody>\n",
              "    <tr>\n",
              "      <th>0</th>\n",
              "      <td>0</td>\n",
              "      <td>0</td>\n",
              "      <td>1000</td>\n",
              "      <td>493</td>\n",
              "      <td>0</td>\n",
              "      <td>507</td>\n",
              "      <td>0</td>\n",
              "    </tr>\n",
              "    <tr>\n",
              "      <th>1</th>\n",
              "      <td>1</td>\n",
              "      <td>0</td>\n",
              "      <td>1000</td>\n",
              "      <td>506</td>\n",
              "      <td>0</td>\n",
              "      <td>494</td>\n",
              "      <td>0</td>\n",
              "    </tr>\n",
              "    <tr>\n",
              "      <th>2</th>\n",
              "      <td>6</td>\n",
              "      <td>0</td>\n",
              "      <td>1000</td>\n",
              "      <td>494</td>\n",
              "      <td>0</td>\n",
              "      <td>506</td>\n",
              "      <td>0</td>\n",
              "    </tr>\n",
              "    <tr>\n",
              "      <th>3</th>\n",
              "      <td>11</td>\n",
              "      <td>483</td>\n",
              "      <td>517</td>\n",
              "      <td>493</td>\n",
              "      <td>0</td>\n",
              "      <td>507</td>\n",
              "      <td>0</td>\n",
              "    </tr>\n",
              "    <tr>\n",
              "      <th>4</th>\n",
              "      <td>16</td>\n",
              "      <td>614</td>\n",
              "      <td>386</td>\n",
              "      <td>544</td>\n",
              "      <td>0</td>\n",
              "      <td>456</td>\n",
              "      <td>0</td>\n",
              "    </tr>\n",
              "    <tr>\n",
              "      <th>...</th>\n",
              "      <td>...</td>\n",
              "      <td>...</td>\n",
              "      <td>...</td>\n",
              "      <td>...</td>\n",
              "      <td>...</td>\n",
              "      <td>...</td>\n",
              "      <td>...</td>\n",
              "    </tr>\n",
              "    <tr>\n",
              "      <th>196</th>\n",
              "      <td>976</td>\n",
              "      <td>611</td>\n",
              "      <td>389</td>\n",
              "      <td>991</td>\n",
              "      <td>0</td>\n",
              "      <td>9</td>\n",
              "      <td>0</td>\n",
              "    </tr>\n",
              "    <tr>\n",
              "      <th>197</th>\n",
              "      <td>981</td>\n",
              "      <td>633</td>\n",
              "      <td>367</td>\n",
              "      <td>988</td>\n",
              "      <td>0</td>\n",
              "      <td>12</td>\n",
              "      <td>0</td>\n",
              "    </tr>\n",
              "    <tr>\n",
              "      <th>198</th>\n",
              "      <td>986</td>\n",
              "      <td>615</td>\n",
              "      <td>385</td>\n",
              "      <td>999</td>\n",
              "      <td>0</td>\n",
              "      <td>1</td>\n",
              "      <td>0</td>\n",
              "    </tr>\n",
              "    <tr>\n",
              "      <th>199</th>\n",
              "      <td>991</td>\n",
              "      <td>591</td>\n",
              "      <td>409</td>\n",
              "      <td>984</td>\n",
              "      <td>0</td>\n",
              "      <td>16</td>\n",
              "      <td>0</td>\n",
              "    </tr>\n",
              "    <tr>\n",
              "      <th>200</th>\n",
              "      <td>996</td>\n",
              "      <td>617</td>\n",
              "      <td>383</td>\n",
              "      <td>996</td>\n",
              "      <td>0</td>\n",
              "      <td>4</td>\n",
              "      <td>0</td>\n",
              "    </tr>\n",
              "  </tbody>\n",
              "</table>\n",
              "<p>201 rows × 7 columns</p>\n",
              "</div>"
            ],
            "text/plain": [
              "     epochs  argmax > 0.5  ...  focus_true_pred_false  focus_false_pred_false\n",
              "0         0             0  ...                    507                       0\n",
              "1         1             0  ...                    494                       0\n",
              "2         6             0  ...                    506                       0\n",
              "3        11           483  ...                    507                       0\n",
              "4        16           614  ...                    456                       0\n",
              "..      ...           ...  ...                    ...                     ...\n",
              "196     976           611  ...                      9                       0\n",
              "197     981           633  ...                     12                       0\n",
              "198     986           615  ...                      1                       0\n",
              "199     991           591  ...                     16                       0\n",
              "200     996           617  ...                      4                       0\n",
              "\n",
              "[201 rows x 7 columns]"
            ]
          },
          "metadata": {
            "tags": []
          },
          "execution_count": 103
        }
      ]
    },
    {
      "cell_type": "code",
      "metadata": {
        "colab": {
          "base_uri": "https://localhost:8080/",
          "height": 573
        },
        "id": "xyna3USAeKZ9",
        "outputId": "b69c8a91-7b9a-4dba-b3bb-a26f96518d3b"
      },
      "source": [
        "# plt.figure(12,12)\n",
        "plt.plot(col1,np.array(col2)/10, label='argmax > 0.5')\n",
        "plt.plot(col1,np.array(col3)/10, label='argmax < 0.5')\n",
        "\n",
        "plt.legend(loc='center left', bbox_to_anchor=(1, 0.5))\n",
        "plt.xlabel(\"epochs\")\n",
        "plt.ylabel(\"training data\")\n",
        "plt.title(\"On Training set\")\n",
        "plt.show()\n",
        "\n",
        "plt.plot(col1,np.array(col4)/10, label =\"focus_true_pred_true \")\n",
        "plt.plot(col1,np.array(col5)/10, label =\"focus_false_pred_true \")\n",
        "plt.plot(col1,np.array(col6)/10, label =\"focus_true_pred_false \")\n",
        "plt.plot(col1,np.array(col7)/10, label =\"focus_false_pred_false \")\n",
        "plt.title(\"On Training set\")\n",
        "plt.legend(loc='center left', bbox_to_anchor=(1, 0.5))\n",
        "plt.xlabel(\"epochs\")\n",
        "plt.ylabel(\"training data\")\n",
        "plt.show()"
      ],
      "execution_count": 104,
      "outputs": [
        {
          "output_type": "display_data",
          "data": {
            "image/png": "[encoded data removed]",
            "text/plain": [
              "<Figure size 432x288 with 1 Axes>"
            ]
          },
          "metadata": {
            "tags": [],
            "needs_background": "light"
          }
        },
        {
          "output_type": "display_data",
          "data": {
            "image/png": "[encoded data removed]",
            "text/plain": [
              "<Figure size 432x288 with 1 Axes>"
            ]
          },
          "metadata": {
            "tags": [],
            "needs_background": "light"
          }
        }
      ]
    },
    {
      "cell_type": "code",
      "metadata": {
        "colab": {
          "base_uri": "https://localhost:8080/",
          "height": 424
        },
        "id": "hrb68lvueMA-",
        "outputId": "6d5f6634-415f-4bea-c913-2d2d66030e58"
      },
      "source": [
        "df_test"
      ],
      "execution_count": 105,
      "outputs": [
        {
          "output_type": "execute_result",
          "data": {
            "text/html": [
              "<div>\n",
              "<style scoped>\n",
              "    .dataframe tbody tr th:only-of-type {\n",
              "        vertical-align: middle;\n",
              "    }\n",
              "\n",
              "    .dataframe tbody tr th {\n",
              "        vertical-align: top;\n",
              "    }\n",
              "\n",
              "    .dataframe thead th {\n",
              "        text-align: right;\n",
              "    }\n",
              "</style>\n",
              "<table border=\"1\" class=\"dataframe\">\n",
              "  <thead>\n",
              "    <tr style=\"text-align: right;\">\n",
              "      <th></th>\n",
              "      <th>epochs</th>\n",
              "      <th>argmax &gt; 0.5</th>\n",
              "      <th>argmax &lt; 0.5</th>\n",
              "      <th>focus_true_pred_true</th>\n",
              "      <th>focus_false_pred_true</th>\n",
              "      <th>focus_true_pred_false</th>\n",
              "      <th>focus_false_pred_false</th>\n",
              "    </tr>\n",
              "  </thead>\n",
              "  <tbody>\n",
              "    <tr>\n",
              "      <th>0</th>\n",
              "      <td>0</td>\n",
              "      <td>0</td>\n",
              "      <td>1000</td>\n",
              "      <td>519</td>\n",
              "      <td>0</td>\n",
              "      <td>481</td>\n",
              "      <td>0</td>\n",
              "    </tr>\n",
              "    <tr>\n",
              "      <th>1</th>\n",
              "      <td>1</td>\n",
              "      <td>0</td>\n",
              "      <td>1000</td>\n",
              "      <td>532</td>\n",
              "      <td>0</td>\n",
              "      <td>468</td>\n",
              "      <td>0</td>\n",
              "    </tr>\n",
              "    <tr>\n",
              "      <th>2</th>\n",
              "      <td>6</td>\n",
              "      <td>0</td>\n",
              "      <td>1000</td>\n",
              "      <td>519</td>\n",
              "      <td>0</td>\n",
              "      <td>481</td>\n",
              "      <td>0</td>\n",
              "    </tr>\n",
              "    <tr>\n",
              "      <th>3</th>\n",
              "      <td>11</td>\n",
              "      <td>480</td>\n",
              "      <td>520</td>\n",
              "      <td>519</td>\n",
              "      <td>0</td>\n",
              "      <td>481</td>\n",
              "      <td>0</td>\n",
              "    </tr>\n",
              "    <tr>\n",
              "      <th>4</th>\n",
              "      <td>16</td>\n",
              "      <td>617</td>\n",
              "      <td>383</td>\n",
              "      <td>610</td>\n",
              "      <td>0</td>\n",
              "      <td>390</td>\n",
              "      <td>0</td>\n",
              "    </tr>\n",
              "    <tr>\n",
              "      <th>...</th>\n",
              "      <td>...</td>\n",
              "      <td>...</td>\n",
              "      <td>...</td>\n",
              "      <td>...</td>\n",
              "      <td>...</td>\n",
              "      <td>...</td>\n",
              "      <td>...</td>\n",
              "    </tr>\n",
              "    <tr>\n",
              "      <th>196</th>\n",
              "      <td>976</td>\n",
              "      <td>648</td>\n",
              "      <td>352</td>\n",
              "      <td>998</td>\n",
              "      <td>0</td>\n",
              "      <td>2</td>\n",
              "      <td>0</td>\n",
              "    </tr>\n",
              "    <tr>\n",
              "      <th>197</th>\n",
              "      <td>981</td>\n",
              "      <td>584</td>\n",
              "      <td>416</td>\n",
              "      <td>976</td>\n",
              "      <td>0</td>\n",
              "      <td>24</td>\n",
              "      <td>0</td>\n",
              "    </tr>\n",
              "    <tr>\n",
              "      <th>198</th>\n",
              "      <td>986</td>\n",
              "      <td>615</td>\n",
              "      <td>385</td>\n",
              "      <td>992</td>\n",
              "      <td>0</td>\n",
              "      <td>8</td>\n",
              "      <td>0</td>\n",
              "    </tr>\n",
              "    <tr>\n",
              "      <th>199</th>\n",
              "      <td>991</td>\n",
              "      <td>685</td>\n",
              "      <td>315</td>\n",
              "      <td>981</td>\n",
              "      <td>0</td>\n",
              "      <td>19</td>\n",
              "      <td>0</td>\n",
              "    </tr>\n",
              "    <tr>\n",
              "      <th>200</th>\n",
              "      <td>996</td>\n",
              "      <td>634</td>\n",
              "      <td>366</td>\n",
              "      <td>999</td>\n",
              "      <td>0</td>\n",
              "      <td>1</td>\n",
              "      <td>0</td>\n",
              "    </tr>\n",
              "  </tbody>\n",
              "</table>\n",
              "<p>201 rows × 7 columns</p>\n",
              "</div>"
            ],
            "text/plain": [
              "     epochs  argmax > 0.5  ...  focus_true_pred_false  focus_false_pred_false\n",
              "0         0             0  ...                    481                       0\n",
              "1         1             0  ...                    468                       0\n",
              "2         6             0  ...                    481                       0\n",
              "3        11           480  ...                    481                       0\n",
              "4        16           617  ...                    390                       0\n",
              "..      ...           ...  ...                    ...                     ...\n",
              "196     976           648  ...                      2                       0\n",
              "197     981           584  ...                     24                       0\n",
              "198     986           615  ...                      8                       0\n",
              "199     991           685  ...                     19                       0\n",
              "200     996           634  ...                      1                       0\n",
              "\n",
              "[201 rows x 7 columns]"
            ]
          },
          "metadata": {
            "tags": []
          },
          "execution_count": 105
        }
      ]
    },
    {
      "cell_type": "code",
      "metadata": {
        "colab": {
          "base_uri": "https://localhost:8080/",
          "height": 573
        },
        "id": "qR5SnitGeNMN",
        "outputId": "13eafbde-e0c0-47a5-c7b4-425b985e064f"
      },
      "source": [
        "# plt.figure(12,12)\n",
        "plt.plot(col1,np.array(col8)/10, label='argmax > 0.5')\n",
        "plt.plot(col1,np.array(col9)/10, label='argmax < 0.5')\n",
        "\n",
        "plt.legend(loc='center left', bbox_to_anchor=(1, 0.5))\n",
        "plt.xlabel(\"epochs\")\n",
        "plt.ylabel(\"Testing data\")\n",
        "plt.title(\"On Testing set\")\n",
        "plt.show()\n",
        "\n",
        "plt.plot(col1,np.array(col10)/10, label =\"focus_true_pred_true \")\n",
        "plt.plot(col1,np.array(col11)/10, label =\"focus_false_pred_true \")\n",
        "plt.plot(col1,np.array(col12)/10, label =\"focus_true_pred_false \")\n",
        "plt.plot(col1,np.array(col13)/10, label =\"focus_false_pred_false \")\n",
        "plt.title(\"On Testing set\")\n",
        "plt.legend(loc='center left', bbox_to_anchor=(1, 0.5))\n",
        "plt.xlabel(\"epochs\")\n",
        "plt.ylabel(\"Testing data\")\n",
        "plt.show()"
      ],
      "execution_count": 106,
      "outputs": [
        {
          "output_type": "display_data",
          "data": {
            "image/png": "[encoded data removed]",
            "text/plain": [
              "<Figure size 432x288 with 1 Axes>"
            ]
          },
          "metadata": {
            "tags": [],
            "needs_background": "light"
          }
        },
        {
          "output_type": "display_data",
          "data": {
            "image/png": "[encoded data removed]",
            "text/plain": [
              "<Figure size 432x288 with 1 Axes>"
            ]
          },
          "metadata": {
            "tags": [],
            "needs_background": "light"
          }
        }
      ]
    },
    {
      "cell_type": "code",
      "metadata": {
        "colab": {
          "base_uri": "https://localhost:8080/"
        },
        "id": "TGrzYDWxeO6m",
        "outputId": "68e1f76b-6930-42da-a272-cc227cb02491"
      },
      "source": [
        "correct = 0\n",
        "total = 0\n",
        "count = 0\n",
        "flag = 1\n",
        "focus_true_pred_true =0\n",
        "focus_false_pred_true =0\n",
        "focus_true_pred_false =0\n",
        "focus_false_pred_false =0\n",
        "\n",
        "argmax_more_than_half = 0\n",
        "argmax_less_than_half =0\n",
        "\n",
        "with torch.no_grad():\n",
        "  for data in train_loader:\n",
        "    inputs, labels , fore_idx = data\n",
        "    inputs = inputs.double()\n",
        "    \n",
        "    inputs, labels , fore_idx = inputs.to(\"cuda\"),labels.to(\"cuda\"), fore_idx.to(\"cuda\")\n",
        "    alphas, avg_images = focus_net(inputs)\n",
        "    outputs = classify(avg_images)\n",
        "\n",
        "    predicted = np.round(torch.sigmoid(outputs.data).cpu().numpy())\n",
        "\n",
        "    for j in range(labels.size(0)):\n",
        "      focus = torch.argmax(alphas[j])\n",
        "      if alphas[j][focus] >= 0.5 :\n",
        "        argmax_more_than_half += 1\n",
        "      else:\n",
        "        argmax_less_than_half += 1\n",
        "\n",
        "      if(focus == fore_idx[j] and predicted[j] == labels[j].item()):\n",
        "          focus_true_pred_true += 1\n",
        "      elif(focus != fore_idx[j] and predicted[j] == labels[j].item()):\n",
        "        focus_false_pred_true += 1\n",
        "      elif(focus == fore_idx[j] and predicted[j] != labels[j].item()):\n",
        "        focus_true_pred_false += 1\n",
        "      elif(focus != fore_idx[j] and predicted[j] != labels[j].item()):\n",
        "        focus_false_pred_false += 1\n",
        "\n",
        "    total += labels.size(0)\n",
        "    correct += np.sum( np.concatenate(predicted,axis=0)== labels.cpu().numpy() )\n",
        "\n",
        "print('Accuracy of the network on the 1000 train images: %d %%' % (\n",
        "    100 * correct / total))\n",
        "print(\"total correct\", correct)\n",
        "print(\"total train set images\", total)\n",
        "\n",
        "print(\"focus_true_pred_true %d =============> FTPT : %d %%\" % (focus_true_pred_true , (100 * focus_true_pred_true / total) ) )\n",
        "print(\"focus_false_pred_true %d =============> FFPT : %d %%\" % (focus_false_pred_true, (100 * focus_false_pred_true / total) ) )\n",
        "print(\"focus_true_pred_false %d =============> FTPF : %d %%\" %( focus_true_pred_false , ( 100 * focus_true_pred_false / total) ) )\n",
        "print(\"focus_false_pred_false %d =============> FFPF : %d %%\" % (focus_false_pred_false, ( 100 * focus_false_pred_false / total) ) )\n",
        "\n",
        "print(\"argmax_more_than_half ==================> \",argmax_more_than_half)\n",
        "print(\"argmax_less_than_half ==================> \",argmax_less_than_half)"
      ],
      "execution_count": 107,
      "outputs": [
        {
          "output_type": "stream",
          "text": [
            "Accuracy of the network on the 1000 train images: 99 %\n",
            "total correct 998\n",
            "total train set images 1000\n",
            "focus_true_pred_true 998 =============> FTPT : 99 %\n",
            "focus_false_pred_true 0 =============> FFPT : 0 %\n",
            "focus_true_pred_false 2 =============> FTPF : 0 %\n",
            "focus_false_pred_false 0 =============> FFPF : 0 %\n",
            "argmax_more_than_half ==================>  592\n",
            "argmax_less_than_half ==================>  408\n"
          ],
          "name": "stdout"
        }
      ]
    },
    {
      "cell_type": "code",
      "metadata": {
        "colab": {
          "base_uri": "https://localhost:8080/"
        },
        "id": "67_H9pkCeQNs",
        "outputId": "3eddb120-82c4-4891-9320-de12000d3b71"
      },
      "source": [
        "correct = 0\n",
        "total = 0\n",
        "count = 0\n",
        "flag = 1\n",
        "focus_true_pred_true =0\n",
        "focus_false_pred_true =0\n",
        "focus_true_pred_false =0\n",
        "focus_false_pred_false =0\n",
        "\n",
        "argmax_more_than_half = 0\n",
        "argmax_less_than_half =0\n",
        "\n",
        "with torch.no_grad():\n",
        "  for data in test_loader:\n",
        "    inputs, labels , fore_idx = data\n",
        "    inputs = inputs.double()\n",
        "    inputs, labels , fore_idx = inputs.to(\"cuda\"),labels.to(\"cuda\"), fore_idx.to(\"cuda\")\n",
        "    alphas, avg_images = focus_net(inputs)\n",
        "    outputs = classify(avg_images)\n",
        "\n",
        "    predicted = np.round(torch.sigmoid(outputs.data).cpu().numpy())\n",
        "\n",
        "    for j in range(labels.size(0)):\n",
        "      focus = torch.argmax(alphas[j])\n",
        "      if alphas[j][focus] >= 0.5 :\n",
        "        argmax_more_than_half += 1\n",
        "      else:\n",
        "        argmax_less_than_half += 1\n",
        "\n",
        "      if(focus == fore_idx[j] and predicted[j] == labels[j].item()):\n",
        "          focus_true_pred_true += 1\n",
        "      elif(focus != fore_idx[j] and predicted[j] == labels[j].item()):\n",
        "        focus_false_pred_true += 1\n",
        "      elif(focus == fore_idx[j] and predicted[j] != labels[j].item()):\n",
        "        focus_true_pred_false += 1\n",
        "      elif(focus != fore_idx[j] and predicted[j] != labels[j].item()):\n",
        "        focus_false_pred_false += 1\n",
        "\n",
        "    total += labels.size(0)\n",
        "    correct += np.sum( np.concatenate(predicted,axis=0)== labels.cpu().numpy() )\n",
        "\n",
        "print('Accuracy of the network on the 1000 test images: %d %%' % (\n",
        "    100 * correct / total))\n",
        "print(\"total correct\", correct)\n",
        "print(\"total train set images\", total)\n",
        "\n",
        "print(\"focus_true_pred_true %d =============> FTPT : %d %%\" % (focus_true_pred_true , (100 * focus_true_pred_true / total) ) )\n",
        "print(\"focus_false_pred_true %d =============> FFPT : %d %%\" % (focus_false_pred_true, (100 * focus_false_pred_true / total) ) )\n",
        "print(\"focus_true_pred_false %d =============> FTPF : %d %%\" %( focus_true_pred_false , ( 100 * focus_true_pred_false / total) ) )\n",
        "print(\"focus_false_pred_false %d =============> FFPF : %d %%\" % (focus_false_pred_false, ( 100 * focus_false_pred_false / total) ) )\n",
        "\n",
        "print(\"argmax_more_than_half ==================> \",argmax_more_than_half)\n",
        "print(\"argmax_less_than_half ==================> \",argmax_less_than_half)"
      ],
      "execution_count": 108,
      "outputs": [
        {
          "output_type": "stream",
          "text": [
            "Accuracy of the network on the 1000 test images: 99 %\n",
            "total correct 997\n",
            "total train set images 1000\n",
            "focus_true_pred_true 997 =============> FTPT : 99 %\n",
            "focus_false_pred_true 0 =============> FFPT : 0 %\n",
            "focus_true_pred_false 3 =============> FTPF : 0 %\n",
            "focus_false_pred_false 0 =============> FFPF : 0 %\n",
            "argmax_more_than_half ==================>  622\n",
            "argmax_less_than_half ==================>  378\n"
          ],
          "name": "stdout"
        }
      ]
    },
    {
      "cell_type": "code",
      "metadata": {
        "colab": {
          "base_uri": "https://localhost:8080/"
        },
        "id": "jhvhkEAyeRpt",
        "outputId": "17b922e5-500f-4e0a-d254-82493fa282d0"
      },
      "source": [
        "correct = 0\n",
        "total = 0\n",
        "\n",
        "with torch.no_grad():\n",
        "  for data in train_loader:\n",
        "    inputs, labels , fore_idx = data\n",
        "    inputs = inputs.double()\n",
        "    inputs, labels = inputs.to(\"cuda\"), labels.to(\"cuda\")\n",
        "    alphas, avg_images = focus_net(inputs)\n",
        "    outputs = classify(avg_images)\n",
        "\n",
        "    predicted = np.round(torch.sigmoid(outputs.data).cpu().numpy())\n",
        "\n",
        "    total += labels.size(0)\n",
        "    correct += np.sum( np.concatenate(predicted,axis=0)== labels.cpu().numpy() )\n",
        "\n",
        "print('Accuracy of the network on the 1000 train images: %d %%' % ( 100 * correct / total))\n",
        "print(\"total correct\", correct)\n",
        "print(\"total train set images\", total)"
      ],
      "execution_count": 109,
      "outputs": [
        {
          "output_type": "stream",
          "text": [
            "Accuracy of the network on the 1000 train images: 99 %\n",
            "total correct 998\n",
            "total train set images 1000\n"
          ],
          "name": "stdout"
        }
      ]
    },
    {
      "cell_type": "code",
      "metadata": {
        "colab": {
          "base_uri": "https://localhost:8080/"
        },
        "id": "OKcmpKwGeS8M",
        "outputId": "ff534a75-0271-4761-e987-e3f57e3b85e9"
      },
      "source": [
        "correct = 0\n",
        "total = 0\n",
        "\n",
        "with torch.no_grad():\n",
        "  for data in test_loader:\n",
        "    inputs, labels , fore_idx = data\n",
        "    inputs = inputs.double()\n",
        "    inputs, labels = inputs.to(\"cuda\"), labels.to(\"cuda\")\n",
        "    alphas, avg_images = focus_net(inputs)\n",
        "    outputs = classify(avg_images)\n",
        "\n",
        "    predicted = np.round(torch.sigmoid(outputs.data).cpu().numpy())\n",
        "\n",
        "    total += labels.size(0)\n",
        "    correct += np.sum( np.concatenate(predicted,axis=0)== labels.cpu().numpy() )\n",
        "\n",
        "print('Accuracy of the network on the 1000 test images: %d %%' % ( 100 * correct / total))\n",
        "print(\"total correct\", correct)\n",
        "print(\"total train set images\", total)"
      ],
      "execution_count": 110,
      "outputs": [
        {
          "output_type": "stream",
          "text": [
            "Accuracy of the network on the 1000 test images: 99 %\n",
            "total correct 997\n",
            "total train set images 1000\n"
          ],
          "name": "stdout"
        }
      ]
    },
    {
      "cell_type": "code",
      "metadata": {
        "colab": {
          "base_uri": "https://localhost:8080/"
        },
        "id": "knBPR1hbBocU",
        "outputId": "8b07ca60-e719-4e5b-db4e-c136ea7dd10a"
      },
      "source": [
        "focus_net.fc1.weight, focus_net.fc1.bias"
      ],
      "execution_count": 111,
      "outputs": [
        {
          "output_type": "execute_result",
          "data": {
            "text/plain": [
              "(Parameter containing:\n",
              " tensor([[-0.2738]], device='cuda:0', dtype=torch.float64, requires_grad=True),\n",
              " Parameter containing:\n",
              " tensor([8.3483e-17], device='cuda:0', dtype=torch.float64, requires_grad=True))"
            ]
          },
          "metadata": {
            "tags": []
          },
          "execution_count": 111
        }
      ]
    },
    {
      "cell_type": "code",
      "metadata": {
        "colab": {
          "base_uri": "https://localhost:8080/"
        },
        "id": "9797v3YTBocV",
        "outputId": "6d20299e-6417-4957-f244-df682c5fd702"
      },
      "source": [
        "classify.fc1.weight, classify.fc1.bias"
      ],
      "execution_count": 112,
      "outputs": [
        {
          "output_type": "execute_result",
          "data": {
            "text/plain": [
              "(Parameter containing:\n",
              " tensor([[2.1964]], device='cuda:0', dtype=torch.float64, requires_grad=True),\n",
              " Parameter containing:\n",
              " tensor([10.3322], device='cuda:0', dtype=torch.float64, requires_grad=True))"
            ]
          },
          "metadata": {
            "tags": []
          },
          "execution_count": 112
        }
      ]
    },
    {
      "cell_type": "code",
      "metadata": {
        "id": "CKbg6VysD_fu"
      },
      "source": [
        ""
      ],
      "execution_count": 112,
      "outputs": []
    }
  ]
}