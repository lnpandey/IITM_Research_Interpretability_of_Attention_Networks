{
  "nbformat": 4,
  "nbformat_minor": 0,
  "metadata": {
    "colab": {
      "name": "alternate_minimization_demo_1.ipynb",
      "provenance": [],
      "collapsed_sections": []
    },
    "kernelspec": {
      "name": "python3",
      "display_name": "Python 3"
    },
    "language_info": {
      "name": "python"
    }
  },
  "cells": [
    {
      "cell_type": "markdown",
      "metadata": {
        "id": "6SI3pji3AL4r"
      },
      "source": [
        "# import statements"
      ]
    },
    {
      "cell_type": "code",
      "metadata": {
        "id": "R26eodhdAEBF"
      },
      "source": [
        "import torch.nn.functional as F\n",
        "import torch\n",
        "import numpy as np\n",
        "from matplotlib import pyplot as plt\n",
        "%matplotlib inline\n",
        "from sklearn.metrics import log_loss\n",
        "import pandas as pd\n",
        "#from scipy.optimize import fmin"
      ],
      "execution_count": 1,
      "outputs": []
    },
    {
      "cell_type": "markdown",
      "metadata": {
        "id": "PE7kNdASAS7m"
      },
      "source": [
        "# utils"
      ]
    },
    {
      "cell_type": "code",
      "metadata": {
        "id": "vbRodIwUAGJR"
      },
      "source": [
        "def softmax(x):\n",
        "    \"\"\"Compute softmax values for each sets of scores in x.\"\"\"\n",
        "    e_x = np.exp(x - np.max(x,axis=1,keepdims=True)) \n",
        "    return e_x / np.sum(e_x,axis=1,keepdims=True)"
      ],
      "execution_count": 2,
      "outputs": []
    },
    {
      "cell_type": "code",
      "metadata": {
        "id": "UsDZefaEDJoW"
      },
      "source": [
        "def focus_(a,x):\n",
        "  \"\"\"\n",
        "  focus function parametrized by a*x\n",
        "  returns : averaged input for classification function\n",
        "  \"\"\"\n",
        "  #print(a*x)\n",
        "  out = softmax(a*x)\n",
        "  #print(out)\n",
        "  out = np.sum(out*x,axis=1)\n",
        "  return out\n",
        "\n",
        "def classification_(b,c,x):\n",
        "  \"\"\"\n",
        "  classification function parametrized by b*x + c\n",
        "  returns  : sigmoid(b*x+c)\n",
        "  \"\"\"\n",
        "  out = (b*x) + c\n",
        "  out = 1/(1+np.exp(-out))\n",
        "  return out"
      ],
      "execution_count": 3,
      "outputs": []
    },
    {
      "cell_type": "code",
      "metadata": {
        "id": "TmvMRalO3rPK"
      },
      "source": [
        "def derv_g(xhat,y,yhat):\n",
        "  \"\"\"\n",
        "  calculate derivate of log-loss with respect to b and c\n",
        "  \"\"\"\n",
        "  #print(yhat,y,yhat-y)\n",
        "  #print()\n",
        "  db = np.dot(xhat,yhat-y)/xhat.shape[0]\n",
        "  dc  = np.sum(yhat-y)/xhat.shape[0]\n",
        "  return db,dc"
      ],
      "execution_count": 4,
      "outputs": []
    },
    {
      "cell_type": "code",
      "metadata": {
        "id": "wQA_swIyPhid"
      },
      "source": [
        "def derv_f(x,xhat,y,yhat,a,b):\n",
        "  \"\"\"\n",
        "  calculate derivative of log-loss with respect to a\n",
        "  \"\"\"\n",
        "  da = np.sum((yhat-y)*b*(  ( (x[:,0] - x[:,1])* x[:,0] ) +  ( (x[:,1]- x[:,0]) * x[:,1] )   ) * (np.exp((a*x[:,0]+a*x[:,1]))/ (np.exp(a*x[:,0])+ np.exp(a*x[:,1]))**2 )) / xhat.shape[0] \n",
        "  \n",
        "  #print(  (  ( (x[:,0] - x[:,1])* x[:,0] ) +  ( (x[:,1]- x[:,0]) * x[:,1] )   ) * (np.exp((a*x[:,0]+a*x[:,1]))/ (np.exp(a*x[:,0])+ np.exp(a*x[:,1]))**2 ) )\n",
        "    \n",
        "  return da"
      ],
      "execution_count": 5,
      "outputs": []
    },
    {
      "cell_type": "code",
      "metadata": {
        "id": "YNYay5tP7c-7"
      },
      "source": [
        "def gd(w,dw):\n",
        "  \"\"\"\n",
        "  updates given parameter in negative direction of gradient\n",
        "  \"\"\"\n",
        "  eta = 0.1\n",
        "  return w - eta*dw"
      ],
      "execution_count": 6,
      "outputs": []
    },
    {
      "cell_type": "markdown",
      "metadata": {
        "id": "o0AusdtJAYlT"
      },
      "source": [
        "# m = 2"
      ]
    },
    {
      "cell_type": "code",
      "metadata": {
        "id": "bDNCAOJYYbjv"
      },
      "source": [
        "X = np.array([[3,-1],[-1,3],[1,3],[3,1]]) # mosaic data m = 2 , d= 1\n",
        "Y = np.array([0,0,1,1])"
      ],
      "execution_count": 7,
      "outputs": []
    },
    {
      "cell_type": "code",
      "metadata": {
        "id": "Jy7tSJ544mi6"
      },
      "source": [
        "def minimize_b_c(x,y,a,b,c):\n",
        "  # b = 0 \n",
        "  # c = 0 \n",
        "  \n",
        "  x_average = focus_(a,x)\n",
        "  yhat = classification_(b,c,x_average)\n",
        "  initial_loss = log_loss(y,yhat)\n",
        "\n",
        "  for i in range(1000):\n",
        "    x_average = focus_(a,x)\n",
        "    yhat = classification_(b,c,x_average)\n",
        "    if i ==0:\n",
        "      print(\"x average at 0 epoch\", x_average )\n",
        "      print(\"yhat at 0 epoch\",yhat)\n",
        "      print(\"loss at 0 epoch\",log_loss(y,yhat))\n",
        "    der_b,der_c = derv_g(x_average,y,yhat)\n",
        "    b = gd(b,der_b)\n",
        "    c = gd(c,der_c)\n",
        "    \n",
        "    \n",
        "    x_average = focus_(a,x)\n",
        "    yhat = classification_(b,c,x_average)\n",
        "    current_loss = log_loss(y,yhat) \n",
        "\n",
        "    # if current_loss<= (initial_loss)/2:\n",
        "    #   break\n",
        "  print(\"   \")\n",
        "  x_average = focus_(a,x)\n",
        "  print(\"x average\",x_average)\n",
        "  yhat = classification_(b,c,x_average) \n",
        "  print(\"Y hat\",yhat)\n",
        "  current_loss  = log_loss(y,yhat)\n",
        "\n",
        "  print(\"Loss\",current_loss,i)\n",
        "  \n",
        "  return b,c,current_loss\n",
        "\n"
      ],
      "execution_count": 36,
      "outputs": []
    },
    {
      "cell_type": "code",
      "metadata": {
        "id": "OVHCR21mboPa"
      },
      "source": [
        "def minimize_a(x,y,a,b,c):\n",
        "  # b = 0 \n",
        "  # c = 0 \n",
        "\n",
        "  x_average = focus_(a,x)\n",
        "  yhat = classification_(b,c,x_average)\n",
        "  initial_loss = log_loss(y,yhat)\n",
        "\n",
        "  for i in range(1000):\n",
        "    x_average = focus_(a,x)\n",
        "    yhat = classification_(b,c,x_average)\n",
        "    if i ==0:\n",
        "      print(\"x average at 0 epoch\", x_average )\n",
        "      print(\"yhat at 0 epoch\",yhat)\n",
        "      print(\"loss at 0 epoch\",log_loss(y,yhat))\n",
        "    der_a = derv_f(x,x_average,y,yhat,a,b)\n",
        "    a = gd(a,der_a)\n",
        "\n",
        "    x_average = focus_(a,x)\n",
        "    yhat = classification_(b,c,x_average)\n",
        "    current_loss = log_loss(y,yhat)\n",
        "    # if current_loss <= initial_loss/2:\n",
        "    #   break \n",
        "  print(\"*\"*60)\n",
        "  x_average = focus_(a,x)\n",
        "  print(\"x average\",x_average)\n",
        "  yhat = classification_(b,c,x_average) \n",
        "  print(\"Y hat\",yhat)\n",
        "  current_loss = log_loss(y,yhat)\n",
        "  print(\"Loss\",current_loss,i)\n",
        "  return a,current_loss"
      ],
      "execution_count": 37,
      "outputs": []
    },
    {
      "cell_type": "code",
      "metadata": {
        "colab": {
          "base_uri": "https://localhost:8080/"
        },
        "id": "Zat-jBpCITiC",
        "outputId": "0f186b8b-cc49-4770-c986-12e3d97b6ed6"
      },
      "source": [
        "xhat = focus_(-1,X)\n",
        "print(xhat)\n",
        "yhat = classification_(-20,0,xhat) \n",
        "print(yhat,Y)\n",
        "print(np.double(yhat[0]) )\n",
        "print(log_loss(Y,yhat))\n",
        "\n"
      ],
      "execution_count": 10,
      "outputs": [
        {
          "output_type": "stream",
          "text": [
            "[-0.92805516 -0.92805516  1.23840584  1.23840584]\n",
            "[9.99999991e-01 9.99999991e-01 1.75123130e-11 1.75123130e-11] [0 0 1 1]\n",
            "0.9999999913100898\n",
            "21.66461005410881\n"
          ],
          "name": "stdout"
        }
      ]
    },
    {
      "cell_type": "code",
      "metadata": {
        "id": "YNTH-79PJO3J",
        "colab": {
          "base_uri": "https://localhost:8080/"
        },
        "outputId": "c9774fcc-78ee-444c-c0f0-d01618508a69"
      },
      "source": [
        "# -(np.log(1-yhat[0],) +  np.log(1-yhat[1]) + np.log(yhat[2])  +  np.log(yhat[3]) ) /4\n",
        "np.linspace(-1,1,20)"
      ],
      "execution_count": 23,
      "outputs": [
        {
          "output_type": "execute_result",
          "data": {
            "text/plain": [
              "array([-1.        , -0.89473684, -0.78947368, -0.68421053, -0.57894737,\n",
              "       -0.47368421, -0.36842105, -0.26315789, -0.15789474, -0.05263158,\n",
              "        0.05263158,  0.15789474,  0.26315789,  0.36842105,  0.47368421,\n",
              "        0.57894737,  0.68421053,  0.78947368,  0.89473684,  1.        ])"
            ]
          },
          "metadata": {
            "tags": []
          },
          "execution_count": 23
        }
      ]
    },
    {
      "cell_type": "code",
      "metadata": {
        "colab": {
          "base_uri": "https://localhost:8080/"
        },
        "id": "-Kz27pwXRf2K",
        "outputId": "023734cf-786b-4aea-e551-3dc5733094f4"
      },
      "source": [
        "a = np.linspace(-1,1,20)#[-10,-5,-1,-0.68,-0.57,-0.47,-0.36,0,0.26,0.47,1,5,10]#np.linspace(-1,1,20)\n",
        "b_list = []\n",
        "c_list = []\n",
        "loss_list = []\n",
        "for a1 in a:\n",
        "  #out =focus_(a1,X)\n",
        "  #print(out)\n",
        "  b,c,loss = minimize_b_c(X,Y,a=a1,b=0,c=0)\n",
        "  b_list.append(b)\n",
        "  c_list.append(c) \n",
        "  #out= classification_(0,0,out)\n",
        "  #print(out)\n",
        "  loss_list.append(loss)\n",
        "\n"
      ],
      "execution_count": 29,
      "outputs": [
        {
          "output_type": "stream",
          "text": [
            "x average at 0 epoch [-0.92805516 -0.92805516  1.23840584  1.23840584]\n",
            "yhat at 0 epoch [0.5 0.5 0.5 0.5]\n",
            "loss at 0 epoch 0.6931471805599453\n",
            "   \n",
            "x average [-0.92805516 -0.92805516  1.23840584  1.23840584]\n",
            "Y hat [1.01673228e-04 1.01673228e-04 9.99927016e-01 9.99927016e-01]\n",
            "Loss 8.733267125773985e-05 99999\n",
            "x average at 0 epoch [-0.89140998 -0.89140998  1.28627453  1.28627453]\n",
            "yhat at 0 epoch [0.5 0.5 0.5 0.5]\n",
            "loss at 0 epoch 0.6931471805599453\n",
            "   \n",
            "x average [-0.89140998 -0.89140998  1.28627453  1.28627453]\n",
            "Y hat [1.05846000e-04 1.05846000e-04 9.99930467e-01 9.99930467e-01]\n",
            "Loss 8.769336231484768e-05 99999\n",
            "x average at 0 epoch [-0.83687469 -0.83687469  1.34188922  1.34188922]\n",
            "yhat at 0 epoch [0.5 0.5 0.5 0.5]\n",
            "loss at 0 epoch 0.6931471805599453\n",
            "   \n",
            "x average [-0.83687469 -0.83687469  1.34188922  1.34188922]\n",
            "Y hat [1.12904158e-04 1.12904158e-04 9.99933516e-01 9.99933516e-01]\n",
            "Loss 8.969845224502281e-05 99999\n",
            "x average at 0 epoch [-0.7566637  -0.7566637   1.40575014  1.40575014]\n",
            "yhat at 0 epoch [0.5 0.5 0.5 0.5]\n",
            "loss at 0 epoch 0.6931471805599453\n",
            "   \n",
            "x average [-0.7566637  -0.7566637   1.40575014  1.40575014]\n",
            "Y hat [1.24675228e-04 1.24675228e-04 9.99935438e-01 9.99935438e-01]\n",
            "Loss 9.462363716249906e-05 99999\n",
            "x average at 0 epoch [-0.64070521 -0.64070521  1.47810007  1.47810007]\n",
            "yhat at 0 epoch [0.5 0.5 0.5 0.5]\n",
            "loss at 0 epoch 0.6931471805599453\n",
            "   \n",
            "x average [-0.64070521 -0.64070521  1.47810007  1.47810007]\n",
            "Y hat [1.44375841e-04 1.44375841e-04 9.99934769e-01 9.99934769e-01]\n",
            "Loss 0.0001048094542294745 99999\n",
            "x average at 0 epoch [-0.47717872 -0.47717872  1.55882872  1.55882872]\n",
            "yhat at 0 epoch [0.5 0.5 0.5 0.5]\n",
            "loss at 0 epoch 0.6931471805599453\n",
            "   \n",
            "x average [-0.47717872 -0.47717872  1.55882872  1.55882872]\n",
            "Y hat [1.78030785e-04 1.78030785e-04 9.99928354e-01 9.99928354e-01]\n",
            "Loss 0.000124847545531352 99999\n",
            "x average at 0 epoch [-0.25446689 -0.25446689  1.64739015  1.64739015]\n",
            "yhat at 0 epoch [0.5 0.5 0.5 0.5]\n",
            "loss at 0 epoch 0.6931471805599453\n",
            "   \n",
            "x average [-0.25446689 -0.25446689  1.64739015  1.64739015]\n",
            "Y hat [2.37778055e-04 2.37778055e-04 9.99908907e-01 9.99908907e-01]\n",
            "Loss 0.00016445159825276574 99999\n",
            "x average at 0 epoch [0.03488034 0.03488034 1.74275316 1.74275316]\n",
            "yhat at 0 epoch [0.5 0.5 0.5 0.5]\n",
            "loss at 0 epoch 0.6931471805599453\n",
            "   \n",
            "x average [0.03488034 0.03488034 1.74275316 1.74275316]\n",
            "Y hat [3.50186389e-04 3.50186389e-04 9.99858370e-01 9.99858370e-01]\n",
            "Loss 0.0002459440360381142 99999\n",
            "x average at 0 epoch [0.38861041 0.38861041 1.84340445 1.84340445]\n",
            "yhat at 0 epoch [0.5 0.5 0.5 0.5]\n",
            "loss at 0 epoch 0.6931471805599453\n",
            "   \n",
            "x average [0.38861041 0.38861041 1.84340445 1.84340445]\n",
            "Y hat [5.79405167e-04 5.79405167e-04 9.99728301e-01 9.99728301e-01]\n",
            "Loss 0.00042565465022597075 99999\n",
            "x average at 0 epoch [0.79024782 0.79024782 1.94741697 1.94741697]\n",
            "yhat at 0 epoch [0.5 0.5 0.5 0.5]\n",
            "loss at 0 epoch 0.6931471805599453\n",
            "   \n",
            "x average [0.79024782 0.79024782 1.94741697 1.94741697]\n",
            "Y hat [0.00110015 0.00110015 0.99937525 0.99937525]\n",
            "Loss 0.0008628512046037942 99999\n",
            "x average at 0 epoch [1.20975218 1.20975218 2.05258303 2.05258303]\n",
            "yhat at 0 epoch [0.5 0.5 0.5 0.5]\n",
            "loss at 0 epoch 0.6931471805599453\n",
            "   \n",
            "x average [1.20975218 1.20975218 2.05258303 2.05258303]\n",
            "Y hat [0.0024704  0.0024704  0.99831072 0.99831072]\n",
            "Loss 0.002082083224425655 99999\n",
            "x average at 0 epoch [1.61138959 1.61138959 2.15659555 2.15659555]\n",
            "yhat at 0 epoch [0.5 0.5 0.5 0.5]\n",
            "loss at 0 epoch 0.6931471805599453\n",
            "   \n",
            "x average [1.61138959 1.61138959 2.15659555 2.15659555]\n",
            "Y hat [0.00694547 0.00694547 0.99446363 0.99446363]\n",
            "Loss 0.00626072910061974 99999\n",
            "x average at 0 epoch [1.96511966 1.96511966 2.25724684 2.25724684]\n",
            "yhat at 0 epoch [0.5 0.5 0.5 0.5]\n",
            "loss at 0 epoch 0.6931471805599453\n",
            "   \n",
            "x average [1.96511966 1.96511966 2.25724684 2.25724684]\n",
            "Y hat [0.02817951 0.02817951 0.97483492 0.97483492]\n",
            "Loss 0.027035649144361646 99999\n",
            "x average at 0 epoch [2.25446689 2.25446689 2.35260985 2.35260985]\n",
            "yhat at 0 epoch [0.5 0.5 0.5 0.5]\n",
            "loss at 0 epoch 0.6931471805599453\n",
            "   \n",
            "x average [2.25446689 2.25446689 2.35260985 2.35260985]\n",
            "Y hat [0.22365213 0.22365213 0.78422459 0.78422459]\n",
            "Loss 0.24810720449288215 99999\n",
            "x average at 0 epoch [2.47717872 2.47717872 2.44117128 2.44117128]\n",
            "yhat at 0 epoch [0.5 0.5 0.5 0.5]\n",
            "loss at 0 epoch 0.6931471805599453\n",
            "   \n",
            "x average [2.47717872 2.47717872 2.44117128 2.44117128]\n",
            "Y hat [0.44308272 0.44308272 0.55131495 0.55131495]\n",
            "Loss 0.5903937998794422 99999\n",
            "x average at 0 epoch [2.64070521 2.64070521 2.52189993 2.52189993]\n",
            "yhat at 0 epoch [0.5 0.5 0.5 0.5]\n",
            "loss at 0 epoch 0.6931471805599453\n",
            "   \n",
            "x average [2.64070521 2.64070521 2.52189993 2.52189993]\n",
            "Y hat [0.18934394 0.18934394 0.80292383 0.80292383]\n",
            "Loss 0.21470342031507125 99999\n",
            "x average at 0 epoch [2.7566637  2.7566637  2.59424986 2.59424986]\n",
            "yhat at 0 epoch [0.5 0.5 0.5 0.5]\n",
            "loss at 0 epoch 0.6931471805599453\n",
            "   \n",
            "x average [2.7566637  2.7566637  2.59424986 2.59424986]\n",
            "Y hat [0.11986621 0.11986621 0.87357446 0.87357446]\n",
            "Loss 0.13142162470330596 99999\n",
            "x average at 0 epoch [2.83687469 2.83687469 2.65811078 2.65811078]\n",
            "yhat at 0 epoch [0.5 0.5 0.5 0.5]\n",
            "loss at 0 epoch 0.6931471805599453\n",
            "   \n",
            "x average [2.83687469 2.83687469 2.65811078 2.65811078]\n",
            "Y hat [0.10515472 0.10515472 0.88862502 0.88862502]\n",
            "Loss 0.11459219045597935 99999\n",
            "x average at 0 epoch [2.89140998 2.89140998 2.71372547 2.71372547]\n",
            "yhat at 0 epoch [0.5 0.5 0.5 0.5]\n",
            "loss at 0 epoch 0.6931471805599453\n",
            "   \n",
            "x average [2.89140998 2.89140998 2.71372547 2.71372547]\n",
            "Y hat [0.10977856 0.10977856 0.88386875 0.88386875]\n",
            "Loss 0.11986586812718329 99999\n",
            "x average at 0 epoch [2.92805516 2.92805516 2.76159416 2.76159416]\n",
            "yhat at 0 epoch [0.5 0.5 0.5 0.5]\n",
            "loss at 0 epoch 0.6931471805599453\n",
            "   \n",
            "x average [2.92805516 2.92805516 2.76159416 2.76159416]\n",
            "Y hat [0.12625786 0.12625786 0.86699093 0.86699093]\n",
            "Loss 0.13884837318936466 99999\n"
          ],
          "name": "stdout"
        }
      ]
    },
    {
      "cell_type": "code",
      "metadata": {
        "colab": {
          "base_uri": "https://localhost:8080/",
          "height": 1000
        },
        "id": "q7DHzJ6lSpQR",
        "outputId": "99f3dabd-e359-4778-e18d-cc2815bf275a"
      },
      "source": [
        "a = np.linspace(-1,1,20)\n",
        "plt.figure(figsize=(6,5))\n",
        "plt.plot(a,loss_list,\"*-\")\n",
        "plt.grid()\n",
        "#plt.xticks(a)\n",
        "plt.xlabel(\"a\")\n",
        "plt.ylabel(\"log-loss\")\n",
        "plt.title(\"loss plot for fix value of a \")\n",
        "plt.savefig(\"loss_fixed_a.png\")\n",
        "\n",
        "plt.figure(figsize=(6,5))\n",
        "plt.plot(a,b_list,\"*-\")\n",
        "plt.grid()\n",
        "#plt.xticks(a)\n",
        "plt.xlabel(\"a\")\n",
        "plt.ylabel(\"b\")\n",
        "plt.title(\"Minimized value of b for fixed a\")\n",
        "plt.savefig(\"minimized_b_fixed_a.png\")\n",
        "\n",
        "\n",
        "plt.figure(figsize=(6,5))\n",
        "plt.plot(a,c_list,\"*-\")\n",
        "plt.grid()\n",
        "plt.xlabel(\"a\")\n",
        "plt.ylabel(\"c\")\n",
        "plt.title(\"Minimized value of c for fixed a\")\n",
        "plt.savefig(\"minimized_c_fixed_a.png\")\n",
        "\n"
      ],
      "execution_count": 30,
      "outputs": [
        {
          "output_type": "display_data",
          "data": {
            "image/png": "[encoded data removed]",
            "text/plain": [
              "<Figure size 432x360 with 1 Axes>"
            ]
          },
          "metadata": {
            "tags": [],
            "needs_background": "light"
          }
        },
        {
          "output_type": "display_data",
          "data": {
            "image/png": "[encoded data removed]",
            "text/plain": [
              "<Figure size 432x360 with 1 Axes>"
            ]
          },
          "metadata": {
            "tags": [],
            "needs_background": "light"
          }
        },
        {
          "output_type": "display_data",
          "data": {
            "image/png": "[encoded data removed]",
            "text/plain": [
              "<Figure size 432x360 with 1 Axes>"
            ]
          },
          "metadata": {
            "tags": [],
            "needs_background": "light"
          }
        }
      ]
    },
    {
      "cell_type": "code",
      "metadata": {
        "colab": {
          "base_uri": "https://localhost:8080/",
          "height": 350
        },
        "id": "2KB7PbHbRu8k",
        "outputId": "4f396aa2-63fb-4afe-f27f-0f09108275d4"
      },
      "source": [
        "loss_ = []\n",
        "bb,cc= np.meshgrid(np.arange(-21,21,0.2),np.arange(-21,21,0.2))\n",
        "b_ = bb.reshape(-1,1)\n",
        "c_ = cc.reshape(-1,1) \n",
        "a_ = 0\n",
        "x_average_ = focus_(a_,X)\n",
        "yhat_  = classification_(b_,c_,x_average_) \n",
        "#print(\"Y hat\",yhat_)\n",
        "#Y_ = np.array([list(Y)]*40000)\n",
        "for i in range(yhat_.shape[0]):\n",
        "  loss_.append(log_loss(Y,yhat_[i]))\n",
        "loss_ = np.array(loss_)#,axis=0)\n",
        "plt.figure(figsize=(6,5))\n",
        "cs = plt.contourf(b_.reshape(bb.shape),c_.reshape(cc.shape),loss_.reshape(bb.shape))\n",
        "plt.xlabel(\"b\")\n",
        "plt.ylabel(\"c\")\n",
        "plt.colorbar(cs)\n",
        "\n",
        "plt.scatter(0, 0,c=\"black\",s=100)\n",
        "plt.scatter(13.330162894370185, -19.759932454851757,c=\"r\",s=100)\n",
        "\n",
        "plt.title(\"contour plot for fixed a = \"+str(a_) )\n",
        "\n",
        "plt.savefig(\"contour_b_c_a_0.png\")\n"
      ],
      "execution_count": 12,
      "outputs": [
        {
          "output_type": "display_data",
          "data": {
            "image/png": "[encoded data removed]",
            "text/plain": [
              "<Figure size 432x360 with 2 Axes>"
            ]
          },
          "metadata": {
            "tags": [],
            "needs_background": "light"
          }
        }
      ]
    },
    {
      "cell_type": "code",
      "metadata": {
        "colab": {
          "base_uri": "https://localhost:8080/"
        },
        "id": "6JnlprwVRuy5",
        "outputId": "6fd06c7b-72e4-4e04-f43b-7e0253fb53dc"
      },
      "source": [
        "minimize_b_c(X,Y,0,0,0)"
      ],
      "execution_count": 31,
      "outputs": [
        {
          "output_type": "stream",
          "text": [
            "x average at 0 epoch [1. 1. 2. 2.]\n",
            "yhat at 0 epoch [0.5 0.5 0.5 0.5]\n",
            "loss at 0 epoch 0.6931471805599453\n",
            "   \n",
            "x average [1. 1. 2. 2.]\n",
            "Y hat [0.00161023 0.00161023 0.99899362 0.99899362]\n",
            "Loss 0.0013092026416232992 99999\n"
          ],
          "name": "stdout"
        },
        {
          "output_type": "execute_result",
          "data": {
            "text/plain": [
              "(13.330162894370185, -19.759932454851757, 0.0013092026416232992)"
            ]
          },
          "metadata": {
            "tags": []
          },
          "execution_count": 31
        }
      ]
    },
    {
      "cell_type": "code",
      "metadata": {
        "colab": {
          "base_uri": "https://localhost:8080/"
        },
        "id": "dZP_NT_DRwau",
        "outputId": "3032e1de-edac-44ed-f605-1408addc2f64"
      },
      "source": [
        "minimize_a(X,Y,0,13.33,-19.75)"
      ],
      "execution_count": 32,
      "outputs": [
        {
          "output_type": "stream",
          "text": [
            "x average at 0 epoch [1. 1. 2. 2.]\n",
            "yhat at 0 epoch [0.00162601 0.00162601 0.99900324 0.99900324]\n",
            "loss at 0 epoch 0.0013122958897518982\n",
            "************************************************************\n",
            "x average [0.8874894  0.8874894  1.97185006 1.97185006]\n",
            "Y hat [3.63355179e-04 3.63355179e-04 9.98550030e-01 9.98550030e-01]\n",
            "Loss 0.0009072217760341427 99999\n"
          ],
          "name": "stdout"
        },
        {
          "output_type": "execute_result",
          "data": {
            "text/plain": [
              "(-0.028157378467334158, 0.0009072217760341427)"
            ]
          },
          "metadata": {
            "tags": []
          },
          "execution_count": 32
        }
      ]
    },
    {
      "cell_type": "code",
      "metadata": {
        "id": "oRnaaj0jRwTM"
      },
      "source": [
        ""
      ],
      "execution_count": null,
      "outputs": []
    },
    {
      "cell_type": "markdown",
      "metadata": {
        "id": "1V38uh1KRvjB"
      },
      "source": [
        ""
      ]
    },
    {
      "cell_type": "code",
      "metadata": {
        "colab": {
          "base_uri": "https://localhost:8080/",
          "height": 295
        },
        "id": "6QwL0cW6Ag1n",
        "outputId": "a692c390-0192-4d88-dc86-34946f775bcd"
      },
      "source": [
        "a = np.linspace(-10,10,5000)\n",
        "loss = []\n",
        "for a1 in a:\n",
        "  out =focus_(a1,X)\n",
        "  #print(out)\n",
        "  out = classification_(-10,10,out)\n",
        "  #print(out)\n",
        "  loss.append(log_loss(Y,out,))\n",
        "\n",
        "plt.plot(a,loss)\n",
        "plt.xlabel(\"a\")\n",
        "plt.ylabel(\"log-loss\")\n",
        "plt.title(\"loss plot for fix value of  b and c\")\n",
        "plt.savefig(\"loss_landscape_b_n10_c_10.png\")"
      ],
      "execution_count": 33,
      "outputs": [
        {
          "output_type": "display_data",
          "data": {
            "image/png": "[encoded data removed]",
            "text/plain": [
              "<Figure size 432x288 with 1 Axes>"
            ]
          },
          "metadata": {
            "tags": [],
            "needs_background": "light"
          }
        }
      ]
    },
    {
      "cell_type": "code",
      "metadata": {
        "id": "EfVdRQ7DKb6-"
      },
      "source": [
        "# b = np.linspace(-10,10,20)\n",
        "# c = np.linspace(-10,10,20)\n",
        "# a_list = []\n",
        "# #c_list = []\n",
        "# loss_list = []\n",
        "# for b1 in b:\n",
        "#   for c1 in c:\n",
        "#     a,loss = minimize_a(X,Y,a=0,b=b1,c=c1)\n",
        "#     a_list.append(a)\n",
        "#     #c_list.append(c) \n",
        "#     #out= classification_(0,0,out)\n",
        "#     #print(out)\n",
        "#     loss_list.append(loss)"
      ],
      "execution_count": 35,
      "outputs": []
    },
    {
      "cell_type": "code",
      "metadata": {
        "colab": {
          "base_uri": "https://localhost:8080/"
        },
        "id": "Eccp6LSqV3f0",
        "outputId": "4ccfb15e-c636-4dd5-c334-9e4a54fd1368"
      },
      "source": [
        "# bb,cc= np.meshgrid(b,c)\n",
        "# len(loss_list)"
      ],
      "execution_count": null,
      "outputs": [
        {
          "output_type": "execute_result",
          "data": {
            "text/plain": [
              "400"
            ]
          },
          "metadata": {
            "tags": []
          },
          "execution_count": 15
        }
      ]
    },
    {
      "cell_type": "code",
      "metadata": {
        "id": "S4YKmlE7K6BA"
      },
      "source": [
        "# from mpl_toolkits import mplot3d\n",
        "\n",
        "\n",
        "# fig = plt.figure()\n",
        "# ax = plt.axes(projection='3d')\n",
        "\n",
        "# ax.plot3D(bb.reshape((400)),cc.reshape((400)),loss_list, 'gray')\n",
        "\n",
        "# ax.set_xlabel('b')\n",
        "# ax.set_ylabel('c')\n",
        "# ax.set_zlabel('log-loss');"
      ],
      "execution_count": 13,
      "outputs": []
    },
    {
      "cell_type": "code",
      "metadata": {
        "colab": {
          "base_uri": "https://localhost:8080/"
        },
        "id": "KIgiYiSfAgtu",
        "outputId": "a1b99e89-737a-4600-e20a-54b4b1e4b8ea"
      },
      "source": [
        "# def func_(w):  # only for m = 2\n",
        "#   return -2*(np.log(1-w[0]-w[1]) + np.log(2*(w[0]+w[1])))  # w[0 ] is b  and w[1] = c\n",
        "\n",
        "\n",
        "# fmin(func_,[2,0.1],) "
      ],
      "execution_count": null,
      "outputs": [
        {
          "output_type": "stream",
          "text": [
            "Warning: Maximum number of function evaluations has been exceeded.\n"
          ],
          "name": "stdout"
        },
        {
          "output_type": "stream",
          "text": [
            "/usr/local/lib/python3.7/dist-packages/ipykernel_launcher.py:2: RuntimeWarning: invalid value encountered in log\n",
            "  \n"
          ],
          "name": "stderr"
        },
        {
          "output_type": "execute_result",
          "data": {
            "text/plain": [
              "array([2. , 0.1])"
            ]
          },
          "metadata": {
            "tags": []
          },
          "execution_count": 85
        }
      ]
    },
    {
      "cell_type": "markdown",
      "metadata": {
        "id": "qyMjVkBih9U6"
      },
      "source": [
        "# Alternate minimization"
      ]
    },
    {
      "cell_type": "code",
      "metadata": {
        "colab": {
          "base_uri": "https://localhost:8080/"
        },
        "id": "MZQhfXHNh9CR",
        "outputId": "dab8c3b9-20e6-413c-fa13-900b65dcac83"
      },
      "source": [
        "a = 0\n",
        "b = 0\n",
        "c = 0  \n",
        "\n",
        "data = pd.DataFrame(columns=[\"sno\",\"b_c_fixed\",\"a_fixed\",\"a_value\",\"b_value\",\"c_value\",\"loss\"]) \n",
        "\n",
        "X_average = focus_(a,X)\n",
        "Yhat = classification_(b,c,X_average)\n",
        "initial_loss = log_loss(Y,Yhat)\n",
        "\n",
        "data.loc[0] = [0,True,True,a,b,c,initial_loss]\n",
        "\n",
        "\n",
        "for i in range(0,40,2):\n",
        "  print(\"Minimize b and c\")\n",
        "  b,c,loss = minimize_b_c(X,Y,a,b,c)\n",
        "  data.loc[i+1] = [i,False,True,a,b,c,loss]\n",
        "  print(\"*\"*60)\n",
        "  print(\"  \")\n",
        "  print(\"minimize a\")\n",
        "  a,loss = minimize_a(X,Y,a,b,c)\n",
        "  data.loc[i+2] = [i,True,False,a,b,c,loss]\n",
        "  print(\"  \")\n"
      ],
      "execution_count": 38,
      "outputs": [
        {
          "output_type": "stream",
          "text": [
            "Minimize b and c\n",
            "x average at 0 epoch [1. 1. 2. 2.]\n",
            "yhat at 0 epoch [0.5 0.5 0.5 0.5]\n",
            "loss at 0 epoch 0.6931471805599453\n",
            "   \n",
            "x average [1. 1. 2. 2.]\n",
            "Y hat [0.15819193 0.15819193 0.9013021  0.9013021 ]\n",
            "Loss 0.13805901079919952 999\n",
            "************************************************************\n",
            "  \n",
            "minimize a\n",
            "x average at 0 epoch [1. 1. 2. 2.]\n",
            "yhat at 0 epoch [0.15819193 0.15819193 0.9013021  0.9013021 ]\n",
            "loss at 0 epoch 0.13805901079919952\n",
            "************************************************************\n",
            "x average [0.58711758 0.58711758 1.89565555 1.89565555]\n",
            "Y hat [0.03643254 0.03643254 0.85894477 0.85894477]\n",
            "Loss 0.09458171862456452 999\n",
            "  \n",
            "Minimize b and c\n",
            "x average at 0 epoch [0.58711758 0.58711758 1.89565555 1.89565555]\n",
            "yhat at 0 epoch [0.03643254 0.03643254 0.85894477 0.85894477]\n",
            "loss at 0 epoch 0.09458171862456452\n",
            "   \n",
            "x average [0.58711758 0.58711758 1.89565555 1.89565555]\n",
            "Y hat [0.03835194 0.03835194 0.98025197 0.98025197]\n",
            "Loss 0.02952617998731775 999\n",
            "************************************************************\n",
            "  \n",
            "minimize a\n",
            "x average at 0 epoch [0.58711758 0.58711758 1.89565555 1.89565555]\n",
            "yhat at 0 epoch [0.03835194 0.03835194 0.98025197 0.98025197]\n",
            "loss at 0 epoch 0.02952617998731775\n",
            "************************************************************\n",
            "x average [0.29806339 0.29806339 1.81875098 1.81875098]\n",
            "Y hat [0.00819421 0.00819421 0.97028437 0.97028437]\n",
            "Loss 0.019197027418540284 999\n",
            "  \n",
            "Minimize b and c\n",
            "x average at 0 epoch [0.29806339 0.29806339 1.81875098 1.81875098]\n",
            "yhat at 0 epoch [0.00819421 0.00819421 0.97028437 0.97028437]\n",
            "loss at 0 epoch 0.019197027418540284\n",
            "   \n",
            "x average [0.29806339 0.29806339 1.81875098 1.81875098]\n",
            "Y hat [0.0108421  0.0108421  0.99374083 0.99374083]\n",
            "Loss 0.008590071810701469 999\n",
            "************************************************************\n",
            "  \n",
            "minimize a\n",
            "x average at 0 epoch [0.29806339 0.29806339 1.81875098 1.81875098]\n",
            "yhat at 0 epoch [0.0108421  0.0108421  0.99374083 0.99374083]\n",
            "loss at 0 epoch 0.008590071810701469\n",
            "************************************************************\n",
            "x average [0.07962349 0.07962349 1.75623316 1.75623316]\n",
            "Y hat [0.00276027 0.00276027 0.99074731 0.99074731]\n",
            "Loss 0.0060299244155226335 999\n",
            "  \n",
            "Minimize b and c\n",
            "x average at 0 epoch [0.07962349 0.07962349 1.75623316 1.75623316]\n",
            "yhat at 0 epoch [0.00276027 0.00276027 0.99074731 0.99074731]\n",
            "loss at 0 epoch 0.0060299244155226335\n",
            "   \n",
            "x average [0.07962349 0.07962349 1.75623316 1.75623316]\n",
            "Y hat [0.00323308 0.00323308 0.99638901 0.99638901]\n",
            "Loss 0.0034279213448801847 999\n",
            "************************************************************\n",
            "  \n",
            "minimize a\n",
            "x average at 0 epoch [0.07962349 0.07962349 1.75623316 1.75623316]\n",
            "yhat at 0 epoch [0.00323308 0.00323308 0.99638901 0.99638901]\n",
            "loss at 0 epoch 0.0034279213448801847\n",
            "************************************************************\n",
            "x average [-0.03861504 -0.03861504  1.71998758  1.71998758]\n",
            "Y hat [0.00145456 0.00145456 0.99538933 0.99538933]\n",
            "Loss 0.0030384751842118893 999\n",
            "  \n",
            "Minimize b and c\n",
            "x average at 0 epoch [-0.03861504 -0.03861504  1.71998758  1.71998758]\n",
            "yhat at 0 epoch [0.00145456 0.00145456 0.99538933 0.99538933]\n",
            "loss at 0 epoch 0.0030384751842118893\n",
            "   \n",
            "x average [-0.03861504 -0.03861504  1.71998758  1.71998758]\n",
            "Y hat [0.00157655 0.00157655 0.99745151 0.99745151]\n",
            "Loss 0.0020647672401198896 999\n",
            "************************************************************\n",
            "  \n",
            "minimize a\n",
            "x average at 0 epoch [-0.03861504 -0.03861504  1.71998758  1.71998758]\n",
            "yhat at 0 epoch [0.00157655 0.00157655 0.99745151 0.99745151]\n",
            "loss at 0 epoch 0.0020647672401198896\n",
            "************************************************************\n",
            "x average [-0.10686756 -0.10686756  1.69805454  1.69805454]\n",
            "Y hat [9.74129241e-04 9.74129241e-04 9.97025780e-01 9.97025780e-01]\n",
            "Loss 0.001976627715792684 999\n",
            "  \n",
            "Minimize b and c\n",
            "x average at 0 epoch [-0.10686756 -0.10686756  1.69805454  1.69805454]\n",
            "yhat at 0 epoch [9.74129241e-04 9.74129241e-04 9.97025780e-01 9.97025780e-01]\n",
            "loss at 0 epoch 0.001976627715792684\n",
            "   \n",
            "x average [-0.10686756 -0.10686756  1.69805454  1.69805454]\n",
            "Y hat [0.00102107 0.00102107 0.99804904 0.99804904]\n",
            "Loss 0.0014872253967426212 999\n",
            "************************************************************\n",
            "  \n",
            "minimize a\n",
            "x average at 0 epoch [-0.10686756 -0.10686756  1.69805454  1.69805454]\n",
            "yhat at 0 epoch [0.00102107 0.00102107 0.99804904 0.99804904]\n",
            "loss at 0 epoch 0.0014872253967426212\n",
            "************************************************************\n",
            "x average [-0.15248086 -0.15248086  1.68291053  1.68291053]\n",
            "Y hat [7.33071470e-04 7.33071470e-04 9.97822445e-01 9.97822445e-01]\n",
            "Loss 0.0014566349898941689 999\n",
            "  \n",
            "Minimize b and c\n",
            "x average at 0 epoch [-0.15248086 -0.15248086  1.68291053  1.68291053]\n",
            "yhat at 0 epoch [7.33071470e-04 7.33071470e-04 9.97822445e-01 9.97822445e-01]\n",
            "loss at 0 epoch 0.0014566349898941689\n",
            "   \n",
            "x average [-0.15248086 -0.15248086  1.68291053  1.68291053]\n",
            "Y hat [7.55616909e-04 7.55616909e-04 9.98426069e-01 9.98426069e-01]\n",
            "Loss 0.0011655369689912685 999\n",
            "************************************************************\n",
            "  \n",
            "minimize a\n",
            "x average at 0 epoch [-0.15248086 -0.15248086  1.68291053  1.68291053]\n",
            "yhat at 0 epoch [7.55616909e-04 7.55616909e-04 9.98426069e-01 9.98426069e-01]\n",
            "loss at 0 epoch 0.0011655369689912685\n",
            "************************************************************\n",
            "x average [-0.1859818  -0.1859818   1.67151125  1.67151125]\n",
            "Y hat [5.89182969e-04 5.89182969e-04 9.98287162e-01 9.98287162e-01]\n",
            "Loss 0.0011518318091945214 999\n",
            "  \n",
            "Minimize b and c\n",
            "x average at 0 epoch [-0.1859818  -0.1859818   1.67151125  1.67151125]\n",
            "yhat at 0 epoch [5.89182969e-04 5.89182969e-04 9.98287162e-01 9.98287162e-01]\n",
            "loss at 0 epoch 0.0011518318091945214\n",
            "   \n",
            "x average [-0.1859818  -0.1859818   1.67151125  1.67151125]\n",
            "Y hat [6.01526614e-04 6.01526614e-04 9.98683307e-01 9.98683307e-01]\n",
            "Loss 0.0009596339121373935 999\n",
            "************************************************************\n",
            "  \n",
            "minimize a\n",
            "x average at 0 epoch [-0.1859818  -0.1859818   1.67151125  1.67151125]\n",
            "yhat at 0 epoch [6.01526614e-04 6.01526614e-04 9.98683307e-01 9.98683307e-01]\n",
            "loss at 0 epoch 0.0009596339121373935\n",
            "************************************************************\n",
            "x average [-0.2121235  -0.2121235   1.66243967  1.66243967]\n",
            "Y hat [4.93681055e-04 4.93681055e-04 9.98589942e-01 9.98589942e-01]\n",
            "Loss 0.0009524278935439946 999\n",
            "  \n",
            "Minimize b and c\n",
            "x average at 0 epoch [-0.2121235  -0.2121235   1.66243967  1.66243967]\n",
            "yhat at 0 epoch [4.93681055e-04 4.93681055e-04 9.98589942e-01 9.98589942e-01]\n",
            "loss at 0 epoch 0.0009524278935439946\n",
            "   \n",
            "x average [-0.2121235  -0.2121235   1.66243967  1.66243967]\n",
            "Y hat [5.01025491e-04 5.01025491e-04 9.98869203e-01 9.98869203e-01]\n",
            "Loss 0.0008162937870838802 999\n",
            "************************************************************\n",
            "  \n",
            "minimize a\n",
            "x average at 0 epoch [-0.2121235  -0.2121235   1.66243967  1.66243967]\n",
            "yhat at 0 epoch [5.01025491e-04 5.01025491e-04 9.98869203e-01 9.98869203e-01]\n",
            "loss at 0 epoch 0.0008162937870838802\n",
            "************************************************************\n",
            "x average [-0.23338405 -0.23338405  1.65494043  1.65494043]\n",
            "Y hat [4.25649764e-04 4.25649764e-04 9.98802314e-01 9.98802314e-01]\n",
            "Loss 0.0008120720473911286 999\n",
            "  \n",
            "Minimize b and c\n",
            "x average at 0 epoch [-0.23338405 -0.23338405  1.65494043  1.65494043]\n",
            "yhat at 0 epoch [4.25649764e-04 4.25649764e-04 9.98802314e-01 9.98802314e-01]\n",
            "loss at 0 epoch 0.0008120720473911286\n",
            "   \n",
            "x average [-0.23338405 -0.23338405  1.65494043  1.65494043]\n",
            "Y hat [4.30267643e-04 4.30267643e-04 9.99009498e-01 9.99009498e-01]\n",
            "Loss 0.0007106766161663351 999\n",
            "************************************************************\n",
            "  \n",
            "minimize a\n",
            "x average at 0 epoch [-0.23338405 -0.23338405  1.65494043  1.65494043]\n",
            "yhat at 0 epoch [4.30267643e-04 4.30267643e-04 9.99009498e-01 9.99009498e-01]\n",
            "loss at 0 epoch 0.0007106766161663351\n",
            "************************************************************\n",
            "x average [-0.25119803 -0.25119803  1.64856846  1.64856846]\n",
            "Y hat [3.74689774e-04 3.74689774e-04 9.98959295e-01 9.98959295e-01]\n",
            "Loss 0.0007080036537024723 999\n",
            "  \n",
            "Minimize b and c\n",
            "x average at 0 epoch [-0.25119803 -0.25119803  1.64856846  1.64856846]\n",
            "yhat at 0 epoch [3.74689774e-04 3.74689774e-04 9.98959295e-01 9.98959295e-01]\n",
            "loss at 0 epoch 0.0007080036537024723\n",
            "   \n",
            "x average [-0.25119803 -0.25119803  1.64856846  1.64856846]\n",
            "Y hat [3.77702330e-04 3.77702330e-04 9.99118995e-01 9.99118995e-01]\n",
            "Loss 0.0006295833767025218 999\n",
            "************************************************************\n",
            "  \n",
            "minimize a\n",
            "x average at 0 epoch [-0.25119803 -0.25119803  1.64856846  1.64856846]\n",
            "yhat at 0 epoch [3.77702330e-04 3.77702330e-04 9.99118995e-01 9.99118995e-01]\n",
            "loss at 0 epoch 0.0006295833767025218\n",
            "************************************************************\n",
            "x average [-0.26646246 -0.26646246  1.6430414   1.6430414 ]\n",
            "Y hat [3.35060720e-04 3.35060720e-04 9.99079961e-01 9.99079961e-01]\n",
            "Loss 0.0006277894573650805 999\n",
            "  \n",
            "Minimize b and c\n",
            "x average at 0 epoch [-0.26646246 -0.26646246  1.6430414   1.6430414 ]\n",
            "yhat at 0 epoch [3.35060720e-04 3.35060720e-04 9.99079961e-01 9.99079961e-01]\n",
            "loss at 0 epoch 0.0006277894573650805\n",
            "   \n",
            "x average [-0.26646246 -0.26646246  1.6430414   1.6430414 ]\n",
            "Y hat [3.37072656e-04 3.37072656e-04 9.99206766e-01 9.99206766e-01]\n",
            "Loss 0.0005653392484361537 999\n",
            "************************************************************\n",
            "  \n",
            "minimize a\n",
            "x average at 0 epoch [-0.26646246 -0.26646246  1.6430414   1.6430414 ]\n",
            "yhat at 0 epoch [3.37072656e-04 3.37072656e-04 9.99206766e-01 9.99206766e-01]\n",
            "loss at 0 epoch 0.0005653392484361537\n",
            "************************************************************\n",
            "x average [-0.27977212 -0.27977212  1.63816964  1.63816964]\n",
            "Y hat [3.03338296e-04 3.03338296e-04 9.99175566e-01 9.99175566e-01]\n",
            "Loss 0.0005640794145504243 999\n",
            "  \n",
            "Minimize b and c\n",
            "x average at 0 epoch [-0.27977212 -0.27977212  1.63816964  1.63816964]\n",
            "yhat at 0 epoch [3.03338296e-04 3.03338296e-04 9.99175566e-01 9.99175566e-01]\n",
            "loss at 0 epoch 0.0005640794145504243\n",
            "   \n",
            "x average [-0.27977212 -0.27977212  1.63816964  1.63816964]\n",
            "Y hat [3.04698623e-04 3.04698623e-04 9.99278658e-01 9.99278658e-01]\n",
            "Loss 0.0005131734272572797 999\n",
            "************************************************************\n",
            "  \n",
            "minimize a\n",
            "x average at 0 epoch [-0.27977212 -0.27977212  1.63816964  1.63816964]\n",
            "yhat at 0 epoch [3.04698623e-04 3.04698623e-04 9.99278658e-01 9.99278658e-01]\n",
            "loss at 0 epoch 0.0005131734272572797\n",
            "************************************************************\n",
            "x average [-0.2915399  -0.2915399   1.63382012  1.63382012]\n",
            "Y hat [2.77353820e-04 2.77353820e-04 9.99253159e-01 9.99253159e-01]\n",
            "Loss 0.0005122559120954498 999\n",
            "  \n",
            "Minimize b and c\n",
            "x average at 0 epoch [-0.2915399  -0.2915399   1.63382012  1.63382012]\n",
            "yhat at 0 epoch [2.77353820e-04 2.77353820e-04 9.99253159e-01 9.99253159e-01]\n",
            "loss at 0 epoch 0.0005122559120954498\n",
            "   \n",
            "x average [-0.2915399  -0.2915399   1.63382012  1.63382012]\n",
            "Y hat [2.78274997e-04 2.78274997e-04 9.99338607e-01 9.99338607e-01]\n",
            "Loss 0.0004699629198932202 999\n",
            "************************************************************\n",
            "  \n",
            "minimize a\n",
            "x average at 0 epoch [-0.2915399  -0.2915399   1.63382012  1.63382012]\n",
            "yhat at 0 epoch [2.78274997e-04 2.78274997e-04 9.99338607e-01 9.99338607e-01]\n",
            "loss at 0 epoch 0.0004699629198932202\n",
            "************************************************************\n",
            "x average [-0.30206328 -0.30206328  1.62989601  1.62989601]\n",
            "Y hat [2.55666963e-04 2.55666963e-04 9.99317384e-01 9.99317384e-01]\n",
            "Loss 0.0004692744614547183 999\n",
            "  \n",
            "Minimize b and c\n",
            "x average at 0 epoch [-0.30206328 -0.30206328  1.62989601  1.62989601]\n",
            "yhat at 0 epoch [2.55666963e-04 2.55666963e-04 9.99317384e-01 9.99317384e-01]\n",
            "loss at 0 epoch 0.0004692744614547183\n",
            "   \n",
            "x average [-0.30206328 -0.30206328  1.62989601  1.62989601]\n",
            "Y hat [2.56283981e-04 2.56283981e-04 9.99389349e-01 9.99389349e-01]\n",
            "Loss 0.00043357709963351085 999\n",
            "************************************************************\n",
            "  \n",
            "minimize a\n",
            "x average at 0 epoch [-0.30206328 -0.30206328  1.62989601  1.62989601]\n",
            "yhat at 0 epoch [2.56283981e-04 2.56283981e-04 9.99389349e-01 9.99389349e-01]\n",
            "loss at 0 epoch 0.00043357709963351085\n",
            "************************************************************\n",
            "x average [-0.31156316 -0.31156316  1.62632478  1.62632478]\n",
            "Y hat [2.37283440e-04 2.37283440e-04 9.99371414e-01 9.99371414e-01]\n",
            "Loss 0.0004330474327042136 999\n",
            "  \n",
            "Minimize b and c\n",
            "x average at 0 epoch [-0.31156316 -0.31156316  1.62632478  1.62632478]\n",
            "yhat at 0 epoch [2.37283440e-04 2.37283440e-04 9.99371414e-01 9.99371414e-01]\n",
            "loss at 0 epoch 0.0004330474327042136\n",
            "   \n",
            "x average [-0.31156316 -0.31156316  1.62632478  1.62632478]\n",
            "Y hat [2.37685135e-04 2.37685135e-04 9.99432850e-01 9.99432850e-01]\n",
            "Loss 0.00040251228251429695 999\n",
            "************************************************************\n",
            "  \n",
            "minimize a\n",
            "x average at 0 epoch [-0.31156316 -0.31156316  1.62632478  1.62632478]\n",
            "yhat at 0 epoch [2.37685135e-04 2.37685135e-04 9.99432850e-01 9.99432850e-01]\n",
            "loss at 0 epoch 0.00040251228251429695\n",
            "************************************************************\n",
            "x average [-0.32020783 -0.32020783  1.6230507   1.6230507 ]\n",
            "Y hat [2.21494572e-04 2.21494572e-04 9.99417497e-01 9.99417497e-01]\n",
            "Loss 0.00040209600887689814 999\n",
            "  \n",
            "Minimize b and c\n",
            "x average at 0 epoch [-0.32020783 -0.32020783  1.6230507   1.6230507 ]\n",
            "yhat at 0 epoch [2.21494572e-04 2.21494572e-04 9.99417497e-01 9.99417497e-01]\n",
            "loss at 0 epoch 0.00040209600887689814\n",
            "   \n",
            "x average [-0.32020783 -0.32020783  1.6230507   1.6230507 ]\n",
            "Y hat [2.21741138e-04 2.21741138e-04 9.99470552e-01 9.99470552e-01]\n",
            "Loss 0.00037567679062072994 999\n",
            "************************************************************\n",
            "  \n",
            "minimize a\n",
            "x average at 0 epoch [-0.32020783 -0.32020783  1.6230507   1.6230507 ]\n",
            "yhat at 0 epoch [2.21741138e-04 2.21741138e-04 9.99470552e-01 9.99470552e-01]\n",
            "loss at 0 epoch 0.00037567679062072994\n",
            "************************************************************\n",
            "x average [-0.32812823 -0.32812823  1.62003011  1.62003011]\n",
            "Y hat [2.07781468e-04 2.07781468e-04 9.99457263e-01 9.99457263e-01]\n",
            "Loss 0.00037534356077149943 999\n",
            "  \n",
            "Minimize b and c\n",
            "x average at 0 epoch [-0.32812823 -0.32812823  1.62003011  1.62003011]\n",
            "yhat at 0 epoch [2.07781468e-04 2.07781468e-04 9.99457263e-01 9.99457263e-01]\n",
            "loss at 0 epoch 0.00037534356077149943\n",
            "   \n",
            "x average [-0.32812823 -0.32812823  1.62003011  1.62003011]\n",
            "Y hat [2.07914709e-04 2.07914709e-04 9.99503542e-01 9.99503542e-01]\n",
            "Loss 0.00035225880712772386 999\n",
            "************************************************************\n",
            "  \n",
            "minimize a\n",
            "x average at 0 epoch [-0.32812823 -0.32812823  1.62003011  1.62003011]\n",
            "yhat at 0 epoch [2.07914709e-04 2.07914709e-04 9.99503542e-01 9.99503542e-01]\n",
            "loss at 0 epoch 0.00035225880712772386\n",
            "************************************************************\n",
            "x average [-0.33542812 -0.33542812  1.61722814  1.61722814]\n",
            "Y hat [1.95755391e-04 1.95755391e-04 9.99491928e-01 9.99491928e-01]\n",
            "Loss 0.0003519877338482893 999\n",
            "  \n",
            "Minimize b and c\n",
            "x average at 0 epoch [-0.33542812 -0.33542812  1.61722814  1.61722814]\n",
            "yhat at 0 epoch [1.95755391e-04 1.95755391e-04 9.99491928e-01 9.99491928e-01]\n",
            "loss at 0 epoch 0.0003519877338482893\n",
            "   \n",
            "x average [-0.33542812 -0.33542812  1.61722814  1.61722814]\n",
            "Y hat [1.95804951e-04 1.95804951e-04 9.99532649e-01 9.99532649e-01]\n",
            "Loss 0.0003316420463339779 999\n",
            "************************************************************\n",
            "  \n",
            "minimize a\n",
            "x average at 0 epoch [-0.33542812 -0.33542812  1.61722814  1.61722814]\n",
            "yhat at 0 epoch [1.95804951e-04 1.95804951e-04 9.99532649e-01 9.99532649e-01]\n",
            "loss at 0 epoch 0.0003316420463339779\n",
            "************************************************************\n",
            "x average [-0.34219104 -0.34219104  1.61461655  1.61461655]\n",
            "Y hat [1.85119299e-04 1.85119299e-04 9.99522414e-01 9.99522414e-01]\n",
            "Loss 0.00033141838983782553 999\n",
            "  \n",
            "Minimize b and c\n",
            "x average at 0 epoch [-0.34219104 -0.34219104  1.61461655  1.61461655]\n",
            "yhat at 0 epoch [1.85119299e-04 1.85119299e-04 9.99522414e-01 9.99522414e-01]\n",
            "loss at 0 epoch 0.00033141838983782553\n",
            "   \n",
            "x average [-0.34219104 -0.34219104  1.61461655  1.61461655]\n",
            "Y hat [1.85106583e-04 1.85106583e-04 9.99558521e-01 9.99558521e-01]\n",
            "Loss 0.0003133501949426726 999\n",
            "************************************************************\n",
            "  \n",
            "minimize a\n",
            "x average at 0 epoch [-0.34219104 -0.34219104  1.61461655  1.61461655]\n",
            "yhat at 0 epoch [1.85106583e-04 1.85106583e-04 9.99558521e-01 9.99558521e-01]\n",
            "loss at 0 epoch 0.0003133501949426726\n",
            "************************************************************\n",
            "x average [-0.3484852  -0.3484852   1.61217213  1.61217213]\n",
            "Y hat [1.75642279e-04 1.75642279e-04 9.99549433e-01 9.99549433e-01]\n",
            "Loss 0.0003131633237074122 999\n",
            "  \n"
          ],
          "name": "stdout"
        }
      ]
    },
    {
      "cell_type": "code",
      "metadata": {
        "id": "mvxqLbXVg8nY"
      },
      "source": [
        "data.to_csv(\"data_1_1.csv\",index=False)"
      ],
      "execution_count": 39,
      "outputs": []
    },
    {
      "cell_type": "code",
      "metadata": {
        "id": "4AhJx3e7umgA"
      },
      "source": [
        ""
      ],
      "execution_count": null,
      "outputs": []
    },
    {
      "cell_type": "code",
      "metadata": {
        "colab": {
          "base_uri": "https://localhost:8080/"
        },
        "id": "x7Wsi6gdul_S",
        "outputId": "15ca644c-242c-4f8a-a077-6e884cd6f95c"
      },
      "source": [
        "a = 0\n",
        "b = 0\n",
        "c = 0  \n",
        "\n",
        "data_1 = pd.DataFrame(columns=[\"sno\",\"b_c_fixed\",\"a_fixed\",\"a_value\",\"b_value\",\"c_value\",\"loss\"]) \n",
        "\n",
        "X_average = focus_(a,X)\n",
        "Yhat = classification_(b,c,X_average)\n",
        "initial_loss = log_loss(Y,Yhat)\n",
        "\n",
        "data_1.loc[0] = [0,True,True,a,b,c,initial_loss]\n",
        "\n",
        "\n",
        "for i in range(0,40,2):\n",
        "  print(\"minimize a\")\n",
        "  a,loss = minimize_a(X,Y,a,b,c)\n",
        "  data_1.loc[i+1] = [i,True,False,a,b,c,loss]\n",
        "  print(\"*\"*60)\n",
        "  print(\"  \")\n",
        "  print(\"Minimize b and c\")\n",
        "  b,c,loss = minimize_b_c(X,Y,a,b,c)\n",
        "  data_1.loc[i+2] = [i,False,True,a,b,c,loss]\n",
        "  print(\"  \")\n"
      ],
      "execution_count": 40,
      "outputs": [
        {
          "output_type": "stream",
          "text": [
            "minimize a\n",
            "x average at 0 epoch [1. 1. 2. 2.]\n",
            "yhat at 0 epoch [0.5 0.5 0.5 0.5]\n",
            "loss at 0 epoch 0.6931471805599453\n",
            "************************************************************\n",
            "x average [1. 1. 2. 2.]\n",
            "Y hat [0.5 0.5 0.5 0.5]\n",
            "Loss 0.6931471805599453 999\n",
            "************************************************************\n",
            "  \n",
            "Minimize b and c\n",
            "x average at 0 epoch [1. 1. 2. 2.]\n",
            "yhat at 0 epoch [0.5 0.5 0.5 0.5]\n",
            "loss at 0 epoch 0.6931471805599453\n",
            "   \n",
            "x average [1. 1. 2. 2.]\n",
            "Y hat [0.15819193 0.15819193 0.9013021  0.9013021 ]\n",
            "Loss 0.13805901079919952 999\n",
            "  \n",
            "minimize a\n",
            "x average at 0 epoch [1. 1. 2. 2.]\n",
            "yhat at 0 epoch [0.15819193 0.15819193 0.9013021  0.9013021 ]\n",
            "loss at 0 epoch 0.13805901079919952\n",
            "************************************************************\n",
            "x average [0.58711758 0.58711758 1.89565555 1.89565555]\n",
            "Y hat [0.03643254 0.03643254 0.85894477 0.85894477]\n",
            "Loss 0.09458171862456452 999\n",
            "************************************************************\n",
            "  \n",
            "Minimize b and c\n",
            "x average at 0 epoch [0.58711758 0.58711758 1.89565555 1.89565555]\n",
            "yhat at 0 epoch [0.03643254 0.03643254 0.85894477 0.85894477]\n",
            "loss at 0 epoch 0.09458171862456452\n",
            "   \n",
            "x average [0.58711758 0.58711758 1.89565555 1.89565555]\n",
            "Y hat [0.03835194 0.03835194 0.98025197 0.98025197]\n",
            "Loss 0.02952617998731775 999\n",
            "  \n",
            "minimize a\n",
            "x average at 0 epoch [0.58711758 0.58711758 1.89565555 1.89565555]\n",
            "yhat at 0 epoch [0.03835194 0.03835194 0.98025197 0.98025197]\n",
            "loss at 0 epoch 0.02952617998731775\n",
            "************************************************************\n",
            "x average [0.29806339 0.29806339 1.81875098 1.81875098]\n",
            "Y hat [0.00819421 0.00819421 0.97028437 0.97028437]\n",
            "Loss 0.019197027418540284 999\n",
            "************************************************************\n",
            "  \n",
            "Minimize b and c\n",
            "x average at 0 epoch [0.29806339 0.29806339 1.81875098 1.81875098]\n",
            "yhat at 0 epoch [0.00819421 0.00819421 0.97028437 0.97028437]\n",
            "loss at 0 epoch 0.019197027418540284\n",
            "   \n",
            "x average [0.29806339 0.29806339 1.81875098 1.81875098]\n",
            "Y hat [0.0108421  0.0108421  0.99374083 0.99374083]\n",
            "Loss 0.008590071810701469 999\n",
            "  \n",
            "minimize a\n",
            "x average at 0 epoch [0.29806339 0.29806339 1.81875098 1.81875098]\n",
            "yhat at 0 epoch [0.0108421  0.0108421  0.99374083 0.99374083]\n",
            "loss at 0 epoch 0.008590071810701469\n",
            "************************************************************\n",
            "x average [0.07962349 0.07962349 1.75623316 1.75623316]\n",
            "Y hat [0.00276027 0.00276027 0.99074731 0.99074731]\n",
            "Loss 0.0060299244155226335 999\n",
            "************************************************************\n",
            "  \n",
            "Minimize b and c\n",
            "x average at 0 epoch [0.07962349 0.07962349 1.75623316 1.75623316]\n",
            "yhat at 0 epoch [0.00276027 0.00276027 0.99074731 0.99074731]\n",
            "loss at 0 epoch 0.0060299244155226335\n",
            "   \n",
            "x average [0.07962349 0.07962349 1.75623316 1.75623316]\n",
            "Y hat [0.00323308 0.00323308 0.99638901 0.99638901]\n",
            "Loss 0.0034279213448801847 999\n",
            "  \n",
            "minimize a\n",
            "x average at 0 epoch [0.07962349 0.07962349 1.75623316 1.75623316]\n",
            "yhat at 0 epoch [0.00323308 0.00323308 0.99638901 0.99638901]\n",
            "loss at 0 epoch 0.0034279213448801847\n",
            "************************************************************\n",
            "x average [-0.03861504 -0.03861504  1.71998758  1.71998758]\n",
            "Y hat [0.00145456 0.00145456 0.99538933 0.99538933]\n",
            "Loss 0.0030384751842118893 999\n",
            "************************************************************\n",
            "  \n",
            "Minimize b and c\n",
            "x average at 0 epoch [-0.03861504 -0.03861504  1.71998758  1.71998758]\n",
            "yhat at 0 epoch [0.00145456 0.00145456 0.99538933 0.99538933]\n",
            "loss at 0 epoch 0.0030384751842118893\n",
            "   \n",
            "x average [-0.03861504 -0.03861504  1.71998758  1.71998758]\n",
            "Y hat [0.00157655 0.00157655 0.99745151 0.99745151]\n",
            "Loss 0.0020647672401198896 999\n",
            "  \n",
            "minimize a\n",
            "x average at 0 epoch [-0.03861504 -0.03861504  1.71998758  1.71998758]\n",
            "yhat at 0 epoch [0.00157655 0.00157655 0.99745151 0.99745151]\n",
            "loss at 0 epoch 0.0020647672401198896\n",
            "************************************************************\n",
            "x average [-0.10686756 -0.10686756  1.69805454  1.69805454]\n",
            "Y hat [9.74129241e-04 9.74129241e-04 9.97025780e-01 9.97025780e-01]\n",
            "Loss 0.001976627715792684 999\n",
            "************************************************************\n",
            "  \n",
            "Minimize b and c\n",
            "x average at 0 epoch [-0.10686756 -0.10686756  1.69805454  1.69805454]\n",
            "yhat at 0 epoch [9.74129241e-04 9.74129241e-04 9.97025780e-01 9.97025780e-01]\n",
            "loss at 0 epoch 0.001976627715792684\n",
            "   \n",
            "x average [-0.10686756 -0.10686756  1.69805454  1.69805454]\n",
            "Y hat [0.00102107 0.00102107 0.99804904 0.99804904]\n",
            "Loss 0.0014872253967426212 999\n",
            "  \n",
            "minimize a\n",
            "x average at 0 epoch [-0.10686756 -0.10686756  1.69805454  1.69805454]\n",
            "yhat at 0 epoch [0.00102107 0.00102107 0.99804904 0.99804904]\n",
            "loss at 0 epoch 0.0014872253967426212\n",
            "************************************************************\n",
            "x average [-0.15248086 -0.15248086  1.68291053  1.68291053]\n",
            "Y hat [7.33071470e-04 7.33071470e-04 9.97822445e-01 9.97822445e-01]\n",
            "Loss 0.0014566349898941689 999\n",
            "************************************************************\n",
            "  \n",
            "Minimize b and c\n",
            "x average at 0 epoch [-0.15248086 -0.15248086  1.68291053  1.68291053]\n",
            "yhat at 0 epoch [7.33071470e-04 7.33071470e-04 9.97822445e-01 9.97822445e-01]\n",
            "loss at 0 epoch 0.0014566349898941689\n",
            "   \n",
            "x average [-0.15248086 -0.15248086  1.68291053  1.68291053]\n",
            "Y hat [7.55616909e-04 7.55616909e-04 9.98426069e-01 9.98426069e-01]\n",
            "Loss 0.0011655369689912685 999\n",
            "  \n",
            "minimize a\n",
            "x average at 0 epoch [-0.15248086 -0.15248086  1.68291053  1.68291053]\n",
            "yhat at 0 epoch [7.55616909e-04 7.55616909e-04 9.98426069e-01 9.98426069e-01]\n",
            "loss at 0 epoch 0.0011655369689912685\n",
            "************************************************************\n",
            "x average [-0.1859818  -0.1859818   1.67151125  1.67151125]\n",
            "Y hat [5.89182969e-04 5.89182969e-04 9.98287162e-01 9.98287162e-01]\n",
            "Loss 0.0011518318091945214 999\n",
            "************************************************************\n",
            "  \n",
            "Minimize b and c\n",
            "x average at 0 epoch [-0.1859818  -0.1859818   1.67151125  1.67151125]\n",
            "yhat at 0 epoch [5.89182969e-04 5.89182969e-04 9.98287162e-01 9.98287162e-01]\n",
            "loss at 0 epoch 0.0011518318091945214\n",
            "   \n",
            "x average [-0.1859818  -0.1859818   1.67151125  1.67151125]\n",
            "Y hat [6.01526614e-04 6.01526614e-04 9.98683307e-01 9.98683307e-01]\n",
            "Loss 0.0009596339121373935 999\n",
            "  \n",
            "minimize a\n",
            "x average at 0 epoch [-0.1859818  -0.1859818   1.67151125  1.67151125]\n",
            "yhat at 0 epoch [6.01526614e-04 6.01526614e-04 9.98683307e-01 9.98683307e-01]\n",
            "loss at 0 epoch 0.0009596339121373935\n",
            "************************************************************\n",
            "x average [-0.2121235  -0.2121235   1.66243967  1.66243967]\n",
            "Y hat [4.93681055e-04 4.93681055e-04 9.98589942e-01 9.98589942e-01]\n",
            "Loss 0.0009524278935439946 999\n",
            "************************************************************\n",
            "  \n",
            "Minimize b and c\n",
            "x average at 0 epoch [-0.2121235  -0.2121235   1.66243967  1.66243967]\n",
            "yhat at 0 epoch [4.93681055e-04 4.93681055e-04 9.98589942e-01 9.98589942e-01]\n",
            "loss at 0 epoch 0.0009524278935439946\n",
            "   \n",
            "x average [-0.2121235  -0.2121235   1.66243967  1.66243967]\n",
            "Y hat [5.01025491e-04 5.01025491e-04 9.98869203e-01 9.98869203e-01]\n",
            "Loss 0.0008162937870838802 999\n",
            "  \n",
            "minimize a\n",
            "x average at 0 epoch [-0.2121235  -0.2121235   1.66243967  1.66243967]\n",
            "yhat at 0 epoch [5.01025491e-04 5.01025491e-04 9.98869203e-01 9.98869203e-01]\n",
            "loss at 0 epoch 0.0008162937870838802\n",
            "************************************************************\n",
            "x average [-0.23338405 -0.23338405  1.65494043  1.65494043]\n",
            "Y hat [4.25649764e-04 4.25649764e-04 9.98802314e-01 9.98802314e-01]\n",
            "Loss 0.0008120720473911286 999\n",
            "************************************************************\n",
            "  \n",
            "Minimize b and c\n",
            "x average at 0 epoch [-0.23338405 -0.23338405  1.65494043  1.65494043]\n",
            "yhat at 0 epoch [4.25649764e-04 4.25649764e-04 9.98802314e-01 9.98802314e-01]\n",
            "loss at 0 epoch 0.0008120720473911286\n",
            "   \n",
            "x average [-0.23338405 -0.23338405  1.65494043  1.65494043]\n",
            "Y hat [4.30267643e-04 4.30267643e-04 9.99009498e-01 9.99009498e-01]\n",
            "Loss 0.0007106766161663351 999\n",
            "  \n",
            "minimize a\n",
            "x average at 0 epoch [-0.23338405 -0.23338405  1.65494043  1.65494043]\n",
            "yhat at 0 epoch [4.30267643e-04 4.30267643e-04 9.99009498e-01 9.99009498e-01]\n",
            "loss at 0 epoch 0.0007106766161663351\n",
            "************************************************************\n",
            "x average [-0.25119803 -0.25119803  1.64856846  1.64856846]\n",
            "Y hat [3.74689774e-04 3.74689774e-04 9.98959295e-01 9.98959295e-01]\n",
            "Loss 0.0007080036537024723 999\n",
            "************************************************************\n",
            "  \n",
            "Minimize b and c\n",
            "x average at 0 epoch [-0.25119803 -0.25119803  1.64856846  1.64856846]\n",
            "yhat at 0 epoch [3.74689774e-04 3.74689774e-04 9.98959295e-01 9.98959295e-01]\n",
            "loss at 0 epoch 0.0007080036537024723\n",
            "   \n",
            "x average [-0.25119803 -0.25119803  1.64856846  1.64856846]\n",
            "Y hat [3.77702330e-04 3.77702330e-04 9.99118995e-01 9.99118995e-01]\n",
            "Loss 0.0006295833767025218 999\n",
            "  \n",
            "minimize a\n",
            "x average at 0 epoch [-0.25119803 -0.25119803  1.64856846  1.64856846]\n",
            "yhat at 0 epoch [3.77702330e-04 3.77702330e-04 9.99118995e-01 9.99118995e-01]\n",
            "loss at 0 epoch 0.0006295833767025218\n",
            "************************************************************\n",
            "x average [-0.26646246 -0.26646246  1.6430414   1.6430414 ]\n",
            "Y hat [3.35060720e-04 3.35060720e-04 9.99079961e-01 9.99079961e-01]\n",
            "Loss 0.0006277894573650805 999\n",
            "************************************************************\n",
            "  \n",
            "Minimize b and c\n",
            "x average at 0 epoch [-0.26646246 -0.26646246  1.6430414   1.6430414 ]\n",
            "yhat at 0 epoch [3.35060720e-04 3.35060720e-04 9.99079961e-01 9.99079961e-01]\n",
            "loss at 0 epoch 0.0006277894573650805\n",
            "   \n",
            "x average [-0.26646246 -0.26646246  1.6430414   1.6430414 ]\n",
            "Y hat [3.37072656e-04 3.37072656e-04 9.99206766e-01 9.99206766e-01]\n",
            "Loss 0.0005653392484361537 999\n",
            "  \n",
            "minimize a\n",
            "x average at 0 epoch [-0.26646246 -0.26646246  1.6430414   1.6430414 ]\n",
            "yhat at 0 epoch [3.37072656e-04 3.37072656e-04 9.99206766e-01 9.99206766e-01]\n",
            "loss at 0 epoch 0.0005653392484361537\n",
            "************************************************************\n",
            "x average [-0.27977212 -0.27977212  1.63816964  1.63816964]\n",
            "Y hat [3.03338296e-04 3.03338296e-04 9.99175566e-01 9.99175566e-01]\n",
            "Loss 0.0005640794145504243 999\n",
            "************************************************************\n",
            "  \n",
            "Minimize b and c\n",
            "x average at 0 epoch [-0.27977212 -0.27977212  1.63816964  1.63816964]\n",
            "yhat at 0 epoch [3.03338296e-04 3.03338296e-04 9.99175566e-01 9.99175566e-01]\n",
            "loss at 0 epoch 0.0005640794145504243\n",
            "   \n",
            "x average [-0.27977212 -0.27977212  1.63816964  1.63816964]\n",
            "Y hat [3.04698623e-04 3.04698623e-04 9.99278658e-01 9.99278658e-01]\n",
            "Loss 0.0005131734272572797 999\n",
            "  \n",
            "minimize a\n",
            "x average at 0 epoch [-0.27977212 -0.27977212  1.63816964  1.63816964]\n",
            "yhat at 0 epoch [3.04698623e-04 3.04698623e-04 9.99278658e-01 9.99278658e-01]\n",
            "loss at 0 epoch 0.0005131734272572797\n",
            "************************************************************\n",
            "x average [-0.2915399  -0.2915399   1.63382012  1.63382012]\n",
            "Y hat [2.77353820e-04 2.77353820e-04 9.99253159e-01 9.99253159e-01]\n",
            "Loss 0.0005122559120954498 999\n",
            "************************************************************\n",
            "  \n",
            "Minimize b and c\n",
            "x average at 0 epoch [-0.2915399  -0.2915399   1.63382012  1.63382012]\n",
            "yhat at 0 epoch [2.77353820e-04 2.77353820e-04 9.99253159e-01 9.99253159e-01]\n",
            "loss at 0 epoch 0.0005122559120954498\n",
            "   \n",
            "x average [-0.2915399  -0.2915399   1.63382012  1.63382012]\n",
            "Y hat [2.78274997e-04 2.78274997e-04 9.99338607e-01 9.99338607e-01]\n",
            "Loss 0.0004699629198932202 999\n",
            "  \n",
            "minimize a\n",
            "x average at 0 epoch [-0.2915399  -0.2915399   1.63382012  1.63382012]\n",
            "yhat at 0 epoch [2.78274997e-04 2.78274997e-04 9.99338607e-01 9.99338607e-01]\n",
            "loss at 0 epoch 0.0004699629198932202\n",
            "************************************************************\n",
            "x average [-0.30206328 -0.30206328  1.62989601  1.62989601]\n",
            "Y hat [2.55666963e-04 2.55666963e-04 9.99317384e-01 9.99317384e-01]\n",
            "Loss 0.0004692744614547183 999\n",
            "************************************************************\n",
            "  \n",
            "Minimize b and c\n",
            "x average at 0 epoch [-0.30206328 -0.30206328  1.62989601  1.62989601]\n",
            "yhat at 0 epoch [2.55666963e-04 2.55666963e-04 9.99317384e-01 9.99317384e-01]\n",
            "loss at 0 epoch 0.0004692744614547183\n",
            "   \n",
            "x average [-0.30206328 -0.30206328  1.62989601  1.62989601]\n",
            "Y hat [2.56283981e-04 2.56283981e-04 9.99389349e-01 9.99389349e-01]\n",
            "Loss 0.00043357709963351085 999\n",
            "  \n",
            "minimize a\n",
            "x average at 0 epoch [-0.30206328 -0.30206328  1.62989601  1.62989601]\n",
            "yhat at 0 epoch [2.56283981e-04 2.56283981e-04 9.99389349e-01 9.99389349e-01]\n",
            "loss at 0 epoch 0.00043357709963351085\n",
            "************************************************************\n",
            "x average [-0.31156316 -0.31156316  1.62632478  1.62632478]\n",
            "Y hat [2.37283440e-04 2.37283440e-04 9.99371414e-01 9.99371414e-01]\n",
            "Loss 0.0004330474327042136 999\n",
            "************************************************************\n",
            "  \n",
            "Minimize b and c\n",
            "x average at 0 epoch [-0.31156316 -0.31156316  1.62632478  1.62632478]\n",
            "yhat at 0 epoch [2.37283440e-04 2.37283440e-04 9.99371414e-01 9.99371414e-01]\n",
            "loss at 0 epoch 0.0004330474327042136\n",
            "   \n",
            "x average [-0.31156316 -0.31156316  1.62632478  1.62632478]\n",
            "Y hat [2.37685135e-04 2.37685135e-04 9.99432850e-01 9.99432850e-01]\n",
            "Loss 0.00040251228251429695 999\n",
            "  \n",
            "minimize a\n",
            "x average at 0 epoch [-0.31156316 -0.31156316  1.62632478  1.62632478]\n",
            "yhat at 0 epoch [2.37685135e-04 2.37685135e-04 9.99432850e-01 9.99432850e-01]\n",
            "loss at 0 epoch 0.00040251228251429695\n",
            "************************************************************\n",
            "x average [-0.32020783 -0.32020783  1.6230507   1.6230507 ]\n",
            "Y hat [2.21494572e-04 2.21494572e-04 9.99417497e-01 9.99417497e-01]\n",
            "Loss 0.00040209600887689814 999\n",
            "************************************************************\n",
            "  \n",
            "Minimize b and c\n",
            "x average at 0 epoch [-0.32020783 -0.32020783  1.6230507   1.6230507 ]\n",
            "yhat at 0 epoch [2.21494572e-04 2.21494572e-04 9.99417497e-01 9.99417497e-01]\n",
            "loss at 0 epoch 0.00040209600887689814\n",
            "   \n",
            "x average [-0.32020783 -0.32020783  1.6230507   1.6230507 ]\n",
            "Y hat [2.21741138e-04 2.21741138e-04 9.99470552e-01 9.99470552e-01]\n",
            "Loss 0.00037567679062072994 999\n",
            "  \n",
            "minimize a\n",
            "x average at 0 epoch [-0.32020783 -0.32020783  1.6230507   1.6230507 ]\n",
            "yhat at 0 epoch [2.21741138e-04 2.21741138e-04 9.99470552e-01 9.99470552e-01]\n",
            "loss at 0 epoch 0.00037567679062072994\n",
            "************************************************************\n",
            "x average [-0.32812823 -0.32812823  1.62003011  1.62003011]\n",
            "Y hat [2.07781468e-04 2.07781468e-04 9.99457263e-01 9.99457263e-01]\n",
            "Loss 0.00037534356077149943 999\n",
            "************************************************************\n",
            "  \n",
            "Minimize b and c\n",
            "x average at 0 epoch [-0.32812823 -0.32812823  1.62003011  1.62003011]\n",
            "yhat at 0 epoch [2.07781468e-04 2.07781468e-04 9.99457263e-01 9.99457263e-01]\n",
            "loss at 0 epoch 0.00037534356077149943\n",
            "   \n",
            "x average [-0.32812823 -0.32812823  1.62003011  1.62003011]\n",
            "Y hat [2.07914709e-04 2.07914709e-04 9.99503542e-01 9.99503542e-01]\n",
            "Loss 0.00035225880712772386 999\n",
            "  \n",
            "minimize a\n",
            "x average at 0 epoch [-0.32812823 -0.32812823  1.62003011  1.62003011]\n",
            "yhat at 0 epoch [2.07914709e-04 2.07914709e-04 9.99503542e-01 9.99503542e-01]\n",
            "loss at 0 epoch 0.00035225880712772386\n",
            "************************************************************\n",
            "x average [-0.33542812 -0.33542812  1.61722814  1.61722814]\n",
            "Y hat [1.95755391e-04 1.95755391e-04 9.99491928e-01 9.99491928e-01]\n",
            "Loss 0.0003519877338482893 999\n",
            "************************************************************\n",
            "  \n",
            "Minimize b and c\n",
            "x average at 0 epoch [-0.33542812 -0.33542812  1.61722814  1.61722814]\n",
            "yhat at 0 epoch [1.95755391e-04 1.95755391e-04 9.99491928e-01 9.99491928e-01]\n",
            "loss at 0 epoch 0.0003519877338482893\n",
            "   \n",
            "x average [-0.33542812 -0.33542812  1.61722814  1.61722814]\n",
            "Y hat [1.95804951e-04 1.95804951e-04 9.99532649e-01 9.99532649e-01]\n",
            "Loss 0.0003316420463339779 999\n",
            "  \n",
            "minimize a\n",
            "x average at 0 epoch [-0.33542812 -0.33542812  1.61722814  1.61722814]\n",
            "yhat at 0 epoch [1.95804951e-04 1.95804951e-04 9.99532649e-01 9.99532649e-01]\n",
            "loss at 0 epoch 0.0003316420463339779\n",
            "************************************************************\n",
            "x average [-0.34219104 -0.34219104  1.61461655  1.61461655]\n",
            "Y hat [1.85119299e-04 1.85119299e-04 9.99522414e-01 9.99522414e-01]\n",
            "Loss 0.00033141838983782553 999\n",
            "************************************************************\n",
            "  \n",
            "Minimize b and c\n",
            "x average at 0 epoch [-0.34219104 -0.34219104  1.61461655  1.61461655]\n",
            "yhat at 0 epoch [1.85119299e-04 1.85119299e-04 9.99522414e-01 9.99522414e-01]\n",
            "loss at 0 epoch 0.00033141838983782553\n",
            "   \n",
            "x average [-0.34219104 -0.34219104  1.61461655  1.61461655]\n",
            "Y hat [1.85106583e-04 1.85106583e-04 9.99558521e-01 9.99558521e-01]\n",
            "Loss 0.0003133501949426726 999\n",
            "  \n"
          ],
          "name": "stdout"
        }
      ]
    },
    {
      "cell_type": "code",
      "metadata": {
        "id": "T8nivB_YukCJ"
      },
      "source": [
        "data_1.to_csv(\"data_1_2.csv\",index=False)"
      ],
      "execution_count": 41,
      "outputs": []
    },
    {
      "cell_type": "markdown",
      "metadata": {
        "id": "R3OFWH48BTlb"
      },
      "source": [
        "# m = 9"
      ]
    },
    {
      "cell_type": "code",
      "metadata": {
        "id": "b6Kk44HB-AC1"
      },
      "source": [
        "# X1 = np.array([[-1,3,3,3,3,3,3,3,3],[1,3,3,3,3,3,3,3,3],\n",
        "#                [3,-1,3,3,3,3,3,3,3],[3,1,3,3,3,3,3,3,3],\n",
        "#                [3,3,-1,3,3,3,3,3,3],[3,3,1,3,3,3,3,3,3],\n",
        "#                [3,3,3,-1,3,3,3,3,3],[3,3,3,1,3,3,3,3,3],\n",
        "#                [3,3,3,3,-1,3,3,3,3],[3,3,3,3,1,3,3,3,3],\n",
        "#                [3,3,3,3,3,-1,3,3,3],[3,3,3,3,3,1,3,3,3],\n",
        "#                [3,3,3,3,3,3,-1,3,3],[3,3,3,3,3,3,1,3,3],\n",
        "#                [3,3,3,3,3,3,3,-1,3],[3,3,3,3,3,3,3,1,3],\n",
        "#                [3,3,3,3,3,3,3,3,-1],[3,3,3,3,3,3,3,3,1],]) # mosaic data m = 9 , d= 1\n",
        "# Y1 = np.array([0,1,0,1,0,1,0,1,0,1,0,1,0,1,0,1,0,1])"
      ],
      "execution_count": null,
      "outputs": []
    },
    {
      "cell_type": "code",
      "metadata": {
        "id": "ZBvz3BBlE3vY"
      },
      "source": [
        ""
      ],
      "execution_count": null,
      "outputs": []
    },
    {
      "cell_type": "code",
      "metadata": {
        "id": "CRjs9A8ayCFs"
      },
      "source": [
        ""
      ],
      "execution_count": null,
      "outputs": []
    },
    {
      "cell_type": "markdown",
      "metadata": {
        "id": "mWb16RbsyDI2"
      },
      "source": [
        "# m = 50"
      ]
    },
    {
      "cell_type": "code",
      "metadata": {
        "id": "-7hre0rnyHaA"
      },
      "source": [
        "# X2 = np.ones((50,50))*3\n",
        "# idx = np.arange(0,50,1)\n",
        "# X2[idx,idx] =  -1\n",
        "\n",
        "# X3 = np.ones((50,50))*3\n",
        "# X3[idx,idx] =  1\n",
        "\n",
        "# X3 = np.concatenate((X2,X3),axis=0)\n",
        "# print(X3,X3.shape)\n",
        "\n",
        "# Y3 = np.zeros((100))\n",
        "# Y3[50:] = 1\n",
        "# print(Y3,Y3.shape)"
      ],
      "execution_count": 42,
      "outputs": []
    },
    {
      "cell_type": "code",
      "metadata": {
        "colab": {
          "base_uri": "https://localhost:8080/"
        },
        "id": "ImT5JpSPC69Q",
        "outputId": "f563eb81-4651-4257-f6fe-0e6607a57d49"
      },
      "source": [
        "a = torch.tensor([10.],requires_grad=True)\n",
        "x = torch.tensor([[3.,-1.]])\n",
        "out = torch.sum(softmax_(a*x) * x,dim=1)\n",
        "print(out)"
      ],
      "execution_count": null,
      "outputs": [
        {
          "output_type": "stream",
          "text": [
            "torch.return_types.max(\n",
            "values=tensor([[30.]], grad_fn=<MaxBackward0>),\n",
            "indices=tensor([[0]]))\n",
            "tensor([3.], grad_fn=<SumBackward1>)\n"
          ],
          "name": "stdout"
        }
      ]
    },
    {
      "cell_type": "code",
      "metadata": {
        "id": "XI-epz1AC6d6"
      },
      "source": [
        "out.backward()"
      ],
      "execution_count": null,
      "outputs": []
    },
    {
      "cell_type": "code",
      "metadata": {
        "colab": {
          "base_uri": "https://localhost:8080/"
        },
        "id": "2QptbiRRDywS",
        "outputId": "cb11568e-e78a-4f84-8294-d2006b3beaf8"
      },
      "source": [
        "a.grad"
      ],
      "execution_count": null,
      "outputs": [
        {
          "output_type": "execute_result",
          "data": {
            "text/plain": [
              "tensor([6.7974e-17])"
            ]
          },
          "metadata": {
            "tags": []
          },
          "execution_count": 63
        }
      ]
    },
    {
      "cell_type": "code",
      "metadata": {
        "colab": {
          "base_uri": "https://localhost:8080/"
        },
        "id": "Uy4tGD4EFrWJ",
        "outputId": "bdc0d643-f61c-46b8-b18d-7eba5650128a"
      },
      "source": [
        "l = ( torch.exp(a*x[0,0],) + torch.exp(a*x[0,1]) ) **2\n",
        "\n",
        "\n",
        "#print(l)\n",
        "\n",
        "\n",
        "f1 = ( ( ( x[0,0] - x[0,1] ) * torch.exp(a*x[0,0] + a*x[0,1]) ) / l  ) * x[0,0]\n",
        "\n",
        "f2 = ( ( ( x[0,1] - x[0,0] ) * torch.exp(a*x[0,0] + a*x[0,1]) ) / l  ) * x[0,1]\n",
        "print(f1.item()+f2.item())"
      ],
      "execution_count": null,
      "outputs": [
        {
          "output_type": "stream",
          "text": [
            "6.797367106130223e-17\n"
          ],
          "name": "stdout"
        }
      ]
    },
    {
      "cell_type": "code",
      "metadata": {
        "colab": {
          "base_uri": "https://localhost:8080/"
        },
        "id": "AwG1kifXHjpc",
        "outputId": "5545cd58-9ad9-4afe-bcb5-83a950d56a6b"
      },
      "source": [
        "x = np.array([[3,-1]])\n",
        "a = 10\n",
        "b = 1\n",
        "c = 0\n",
        "y = np.array([1])\n",
        "xhat = np.sum(softmax(a*x) * x,axis=1)\n",
        "print(xhat)\n",
        "yhat = classification_(b,c,xhat)"
      ],
      "execution_count": null,
      "outputs": [
        {
          "output_type": "stream",
          "text": [
            "[3.]\n"
          ],
          "name": "stdout"
        }
      ]
    },
    {
      "cell_type": "code",
      "metadata": {
        "colab": {
          "base_uri": "https://localhost:8080/"
        },
        "id": "Mp-Ymq7sSSqs",
        "outputId": "715aedfa-7680-4564-cad8-81aacf0bd9f1"
      },
      "source": [
        "derv_f(x,xhat,y,yhat,a,b)"
      ],
      "execution_count": null,
      "outputs": [
        {
          "output_type": "stream",
          "text": [
            "[6.79736681e-17]\n"
          ],
          "name": "stdout"
        },
        {
          "output_type": "execute_result",
          "data": {
            "text/plain": [
              "-3.223710561997351e-18"
            ]
          },
          "metadata": {
            "tags": []
          },
          "execution_count": 67
        }
      ]
    },
    {
      "cell_type": "code",
      "metadata": {
        "id": "RpgFYp8QVhXa"
      },
      "source": [
        ""
      ],
      "execution_count": null,
      "outputs": []
    }
  ]
}