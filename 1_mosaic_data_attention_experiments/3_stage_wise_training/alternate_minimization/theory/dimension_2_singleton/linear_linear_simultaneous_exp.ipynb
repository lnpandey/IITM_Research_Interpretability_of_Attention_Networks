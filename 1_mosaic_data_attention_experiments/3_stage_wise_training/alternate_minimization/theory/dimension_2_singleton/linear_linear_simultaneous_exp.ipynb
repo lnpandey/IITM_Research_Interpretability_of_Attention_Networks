{
  "nbformat": 4,
  "nbformat_minor": 0,
  "metadata": {
    "accelerator": "GPU",
    "colab": {
      "name": "linear_linear_simultaneous_exp.ipynb",
      "provenance": [],
      "collapsed_sections": []
    },
    "kernelspec": {
      "display_name": "Python 3",
      "language": "python",
      "name": "python3"
    },
    "language_info": {
      "codemirror_mode": {
        "name": "ipython",
        "version": 3
      },
      "file_extension": ".py",
      "mimetype": "text/x-python",
      "name": "python",
      "nbconvert_exporter": "python",
      "pygments_lexer": "ipython3",
      "version": "3.6.5"
    }
  },
  "cells": [
    {
      "cell_type": "code",
      "metadata": {
        "colab": {
          "base_uri": "https://localhost:8080/"
        },
        "id": "N2_J4Rw2r0SQ",
        "outputId": "706eef48-87e0-4aee-9ecd-aaa78e6c9f1d"
      },
      "source": [
        "import numpy as np\n",
        "import pandas as pd\n",
        "from matplotlib import pyplot as plt\n",
        "from tqdm import tqdm\n",
        "%matplotlib inline\n",
        "from torch.utils.data import Dataset, DataLoader\n",
        "import torch\n",
        "import torchvision\n",
        "\n",
        "import torch.nn as nn\n",
        "import torch.optim as optim\n",
        "from torch.nn import functional as F\n",
        "device = torch.device(\"cuda\" if torch.cuda.is_available() else \"cpu\")\n",
        "print(device)\n",
        "\n",
        "torch.backends.cudnn.deterministic = True\n",
        "torch.backends.cudnn.benchmark = False"
      ],
      "execution_count": 2,
      "outputs": [
        {
          "output_type": "stream",
          "text": [
            "cuda\n"
          ],
          "name": "stdout"
        }
      ]
    },
    {
      "cell_type": "markdown",
      "metadata": {
        "id": "F6fjud_Fr0Sa"
      },
      "source": [
        "# Generate dataset"
      ]
    },
    {
      "cell_type": "code",
      "metadata": {
        "colab": {
          "base_uri": "https://localhost:8080/",
          "height": 352
        },
        "id": "CqdXHO0Cr0Sd",
        "outputId": "acccf863-e775-4457-891d-8e6626cc0f2b"
      },
      "source": [
        "np.random.seed(12)\n",
        "y = np.random.randint(0,3,1500)\n",
        "y1 = np.random.randint(3,4,3500)\n",
        "y = np.hstack((y,y1))\n",
        "idx= []\n",
        "for i in range(4):\n",
        "    print(i,sum(y==i))\n",
        "    idx.append(y==i)\n",
        "x = np.zeros((5000,2))\n",
        "np.random.seed(12)\n",
        "x[idx[0],:] = np.random.multivariate_normal(mean = [-1,1],cov=[[0.1,0],[0,0.1]],size=sum(idx[0]))\n",
        "x[idx[1],:] = np.random.multivariate_normal(mean = [3,1],cov=[[0.1,0],[0,0.1]],size=sum(idx[1]))\n",
        "x[idx[2],:] = np.random.multivariate_normal(mean = [0.5,4],cov=[[0.1,0],[0,0.1]],size=sum(idx[2]))\n",
        "x[idx[3],:] = np.random.multivariate_normal(mean = [3.5,3.5],cov=[[0.1,0],[0,0.1]],size=sum(idx[3]))\n",
        "\n",
        "\n",
        "color = ['#1F77B4','orange', 'g','brown']\n",
        "name = [1,2,3,0]\n",
        "for i in range(4):\n",
        "  if i==3:\n",
        "    plt.scatter(x[idx[i],0],x[idx[i],1],c=color[3],label=\"D_\"+str(name[i]))\n",
        "  elif i>=4:\n",
        "    plt.scatter(x[idx[i],0],x[idx[i],1],c=color[3])\n",
        "  else:\n",
        "    plt.scatter(x[idx[i],0],x[idx[i],1],c=color[i],label=\"D_\"+str(name[i]))\n",
        "plt.legend()"
      ],
      "execution_count": 3,
      "outputs": [
        {
          "output_type": "stream",
          "text": [
            "0 522\n",
            "1 501\n",
            "2 477\n",
            "3 3500\n"
          ],
          "name": "stdout"
        },
        {
          "output_type": "execute_result",
          "data": {
            "text/plain": [
              "<matplotlib.legend.Legend at 0x7fd7f5a00910>"
            ]
          },
          "metadata": {
            "tags": []
          },
          "execution_count": 3
        },
        {
          "output_type": "display_data",
          "data": {
            "image/png": "[encoded data removed]",
            "text/plain": [
              "<Figure size 432x288 with 1 Axes>"
            ]
          },
          "metadata": {
            "tags": [],
            "needs_background": "light"
          }
        }
      ]
    },
    {
      "cell_type": "markdown",
      "metadata": {
        "id": "tDo9LVYPh6jY"
      },
      "source": [
        "# Calculate Margin using linear svm"
      ]
    },
    {
      "cell_type": "code",
      "metadata": {
        "colab": {
          "base_uri": "https://localhost:8080/",
          "height": 323
        },
        "id": "raTro-w5hSQq",
        "outputId": "61e9bba0-5cfc-435b-fd48-e7c0946e219b"
      },
      "source": [
        "from sklearn import svm\n",
        "from matplotlib import cm\n",
        "\n",
        "idx_ = np.logical_or(np.logical_or(y==0,y==1),y==2) \n",
        "Y_ = np.zeros(5000)\n",
        "Y_[~idx_] = 1 \n",
        "X_ = x\n",
        "\n",
        "\n",
        "clf = svm.SVC(kernel='linear', C=1e10)\n",
        "clf.fit(X_, Y_)\n",
        "\n",
        "# get the separating hyperplane\n",
        "w = clf.coef_[0]\n",
        "a = -w[0] / w[1]\n",
        "\n",
        "xx = np.linspace(-7, 7)\n",
        "yy = a * xx - (clf.intercept_[0]) / w[1]\n",
        "\n",
        "\n",
        "# plot the parallels to the separating hyperplane that pass through the\n",
        "# support vectors (margin away from hyperplane in direction\n",
        "# perpendicular to hyperplane). This is sqrt(1+a^2) away vertically in\n",
        "# 2-d.\n",
        "margin = 1 / np.sqrt(np.sum(clf.coef_ ** 2))\n",
        "print(margin)\n",
        "\n",
        "yy_down = yy - np.sqrt(1 + a ** 2) * margin\n",
        "yy_up = yy + np.sqrt(1 + a ** 2) * margin\n",
        "\n",
        "# plot the line, the points, and the nearest vectors to the plane\n",
        "plt.figure(1, figsize=(6, 5))\n",
        "plt.clf()\n",
        "plt.plot(xx, yy, 'k-')\n",
        "plt.plot(xx, yy_down, 'k--')\n",
        "\n",
        "plt.plot(xx, yy_up, 'k--')\n",
        "plt.scatter(clf.support_vectors_[:, 0], clf.support_vectors_[:, 1], s=80,\n",
        "            facecolors='none', zorder=10, edgecolors='k',\n",
        "            cmap=cm.get_cmap('RdBu'))\n",
        "plt.scatter(X_[:, 0], X_[:, 1], c=Y_, zorder=10, cmap=cm.get_cmap('RdBu'),\n",
        "            edgecolors='k')\n",
        "\n",
        "plt.axis('tight')\n",
        "x_min = -5\n",
        "x_max = 6.5\n",
        "y_min = 0\n",
        "y_max = 7.5\n",
        "\n",
        "YY, XX = np.meshgrid(yy, xx)\n",
        "xy = np.vstack([XX.ravel(), YY.ravel()]).T\n",
        "Z = clf.decision_function(xy).reshape(XX.shape)\n",
        "\n",
        "# Put the result into a contour plot\n",
        "plt.contourf(XX, YY, Z, cmap=cm.get_cmap('RdBu'),\n",
        "              alpha=0.5, linestyles=['-'])\n",
        "\n",
        "plt.xlim(x_min, x_max)\n",
        "plt.ylim(y_min, y_max)\n",
        "\n",
        "plt.xticks(())\n",
        "plt.yticks(())\n",
        "\n",
        "\n",
        "plt.show()\n",
        "\n",
        "\n",
        "# plt.scatter(X_[Y_==0,0],X_[Y_==0,1],c=color[0],label=\"D_\"+str(name[i]))\n",
        "\n",
        "# plt.scatter(X_[Y_==1,0],X_[Y_==1,1],c=color[3],label=\"D_\"+str(name[i]))\n",
        "\n"
      ],
      "execution_count": 4,
      "outputs": [
        {
          "output_type": "stream",
          "text": [
            "0.02126656427634795\n"
          ],
          "name": "stdout"
        },
        {
          "output_type": "display_data",
          "data": {
            "image/png": "[encoded data removed]",
            "text/plain": [
              "<Figure size 432x360 with 1 Axes>"
            ]
          },
          "metadata": {
            "tags": []
          }
        }
      ]
    },
    {
      "cell_type": "code",
      "metadata": {
        "id": "ddhXyODwr0Sk",
        "colab": {
          "base_uri": "https://localhost:8080/",
          "height": 310
        },
        "outputId": "28d13094-6f0e-4cc7-f055-b9156244f7be"
      },
      "source": [
        "bg_idx = [ np.where(idx[3] == True)[0], ]\n",
        "\n",
        "bg_idx = np.concatenate(bg_idx, axis = 0)\n",
        "x = x - np.mean(x[bg_idx], axis = 0, keepdims = True)\n",
        "x = x/np.std(x[bg_idx], axis = 0, keepdims = True)\n",
        "color = ['#1F77B4','orange', 'g','brown']\n",
        "for i in range(4):\n",
        "  if i==3:\n",
        "    plt.scatter(x[idx[i],0],x[idx[i],1],c=color[3],label=\"D_\"+str(name[i]))\n",
        "  elif i>=4:\n",
        "    plt.scatter(x[idx[i],0],x[idx[i],1],c=color[3])\n",
        "  else:\n",
        "    plt.scatter(x[idx[i],0],x[idx[i],1],c=color[i],label=\"D_\"+str(name[i]))\n",
        "plt.legend()\n",
        "plt.xticks([-10, 0, 10], fontsize=14, fontweight = 'bold')\n",
        "plt.yticks([-6, 0, 8], fontsize=14, fontweight = 'bold')\n",
        "plt.xlabel(\"X1\", fontsize=14, fontweight = 'bold')\n",
        "plt.ylabel(\"X2\" , fontsize=14, fontweight = 'bold')\n",
        "# plt.savefig(fp_cin+\"ds2_data.png\", bbox_inches=\"tight\")\n",
        "# plt.savefig(fp_cin+\"ds2_data.pdf\", bbox_inches=\"tight\")"
      ],
      "execution_count": 5,
      "outputs": [
        {
          "output_type": "execute_result",
          "data": {
            "text/plain": [
              "Text(0, 0.5, 'X2')"
            ]
          },
          "metadata": {
            "tags": []
          },
          "execution_count": 5
        },
        {
          "output_type": "display_data",
          "data": {
            "image/png": "[encoded data removed]",
            "text/plain": [
              "<Figure size 432x288 with 1 Axes>"
            ]
          },
          "metadata": {
            "tags": [],
            "needs_background": "light"
          }
        }
      ]
    },
    {
      "cell_type": "code",
      "metadata": {
        "id": "DyV3N2DIr0Sp"
      },
      "source": [
        "foreground_classes = {'class_0','class_1', 'class_2'}\n",
        "\n",
        "background_classes = {'class_3'}"
      ],
      "execution_count": 6,
      "outputs": []
    },
    {
      "cell_type": "code",
      "metadata": {
        "id": "olFCHOUBoGlf"
      },
      "source": [
        ""
      ],
      "execution_count": 6,
      "outputs": []
    },
    {
      "cell_type": "code",
      "metadata": {
        "id": "qh1mDScsU07I"
      },
      "source": [
        "desired_num = 2000\n",
        "mosaic_list_of_images =[]\n",
        "mosaic_label = []\n",
        "fore_idx=[]\n",
        "for j in range(desired_num):\n",
        "    np.random.seed(j)\n",
        "    fg_class  = np.random.randint(0,3)\n",
        "    #print(\"fg class\",fg_class)\n",
        "    fg_idx = 0\n",
        "    a = []\n",
        "    for i in range(9):\n",
        "        if i == fg_idx:\n",
        "            b = np.random.choice(np.where(idx[fg_class]==True)[0],size=1)\n",
        "            a.append(x[b])\n",
        "#             print(\"foreground \"+str(fg_class)+\" present at \" + str(fg_idx))\n",
        "        else:\n",
        "            bg_class = np.random.randint(3,4)\n",
        "            #print(\"bg_class\",bg_class)\n",
        "            b = np.random.choice(np.where(idx[bg_class]==True)[0],size=1)\n",
        "            a.append(x[b])\n",
        "#             print(\"background \"+str(bg_class)+\" present at \" + str(i))\n",
        "    a = np.concatenate(a,axis=0)\n",
        "    mosaic_list_of_images.append(np.reshape(a,(9,2)))\n",
        "    mosaic_label.append(fg_class)\n",
        "    fore_idx.append(fg_idx)"
      ],
      "execution_count": 7,
      "outputs": []
    },
    {
      "cell_type": "code",
      "metadata": {
        "id": "BOsFmWfMr0TR",
        "colab": {
          "base_uri": "https://localhost:8080/"
        },
        "outputId": "d08117a9-18ee-419c-ae43-97cc06afde43"
      },
      "source": [
        "# mosaic_list_of_images = np.concatenate(mosaic_list_of_images,axis=1).T\n",
        "\n",
        "\n",
        "mosaic_list_of_images = np.stack(mosaic_list_of_images)\n",
        "\n",
        "mosaic_list_of_images[0],\n"
      ],
      "execution_count": 8,
      "outputs": [
        {
          "output_type": "execute_result",
          "data": {
            "text/plain": [
              "(array([[-13.32311566,  -9.11995738],\n",
              "        [ -2.00169761,   0.19592321],\n",
              "        [  0.13912769,   0.55569986],\n",
              "        [ -0.33755978,  -0.67411856],\n",
              "        [ -1.75554162,   0.43329245],\n",
              "        [  0.51856397,   0.16906796],\n",
              "        [  0.25589861,  -0.16270148],\n",
              "        [ -1.69019131,   0.5946991 ],\n",
              "        [ -1.68730674,   1.10656791]]),)"
            ]
          },
          "metadata": {
            "tags": []
          },
          "execution_count": 8
        }
      ]
    },
    {
      "cell_type": "code",
      "metadata": {
        "id": "d-hngBE9x_wX"
      },
      "source": [
        "# mean_ = np.mean(mosaic_list_of_images[0:1000],axis=0,keepdims=True)\n",
        "# std_ = np.std(mosaic_list_of_images[0:1000],axis=0,keepdims=True)\n",
        "\n",
        "# mosaic_list_of_images = (mosaic_list_of_images - mean_)/std_\n",
        "mosaic_list_of_images = np.reshape(mosaic_list_of_images,(2000,18))"
      ],
      "execution_count": 9,
      "outputs": []
    },
    {
      "cell_type": "code",
      "metadata": {
        "colab": {
          "base_uri": "https://localhost:8080/"
        },
        "id": "2aIPMgLXNiXW",
        "outputId": "c2bca962-f70f-44c7-a372-cbd4f3fbca5b"
      },
      "source": [
        "mosaic_list_of_images.shape, mosaic_list_of_images[0]"
      ],
      "execution_count": 10,
      "outputs": [
        {
          "output_type": "execute_result",
          "data": {
            "text/plain": [
              "((2000, 18), array([-13.32311566,  -9.11995738,  -2.00169761,   0.19592321,\n",
              "          0.13912769,   0.55569986,  -0.33755978,  -0.67411856,\n",
              "         -1.75554162,   0.43329245,   0.51856397,   0.16906796,\n",
              "          0.25589861,  -0.16270148,  -1.69019131,   0.5946991 ,\n",
              "         -1.68730674,   1.10656791]))"
            ]
          },
          "metadata": {
            "tags": []
          },
          "execution_count": 10
        }
      ]
    },
    {
      "cell_type": "code",
      "metadata": {
        "id": "iPoIwbMHx44n"
      },
      "source": [
        "class MosaicDataset(Dataset):\n",
        "  \"\"\"MosaicDataset dataset.\"\"\"\n",
        "\n",
        "  def __init__(self, mosaic_list_of_images, mosaic_label, fore_idx):\n",
        "    \"\"\"\n",
        "      Args:\n",
        "        csv_file (string): Path to the csv file with annotations.\n",
        "        root_dir (string): Directory with all the images.\n",
        "        transform (callable, optional): Optional transform to be applied\n",
        "            on a sample.\n",
        "    \"\"\"\n",
        "    self.mosaic = mosaic_list_of_images\n",
        "    self.label = mosaic_label\n",
        "    self.fore_idx = fore_idx\n",
        "\n",
        "  def __len__(self):\n",
        "    return len(self.label)\n",
        "\n",
        "  def __getitem__(self, idx):\n",
        "    return self.mosaic[idx] , self.label[idx], self.fore_idx[idx]\n",
        "\n"
      ],
      "execution_count": 11,
      "outputs": []
    },
    {
      "cell_type": "code",
      "metadata": {
        "id": "fOPAJQJeW8Ah"
      },
      "source": [
        "batch = 1000\n",
        "msd1 = MosaicDataset(mosaic_list_of_images[0:1000], mosaic_label[0:1000] , fore_idx[0:1000])\n",
        "train_loader = DataLoader( msd1 ,batch_size= batch ,shuffle=True)"
      ],
      "execution_count": 12,
      "outputs": []
    },
    {
      "cell_type": "code",
      "metadata": {
        "id": "qjNiQgxZW8bA"
      },
      "source": [
        "batch = 1000\n",
        "msd2 = MosaicDataset(mosaic_list_of_images[1000:2000], mosaic_label[1000:2000] , fore_idx[1000:2000])\n",
        "test_loader = DataLoader( msd2 ,batch_size= batch ,shuffle=True)"
      ],
      "execution_count": 13,
      "outputs": []
    },
    {
      "cell_type": "code",
      "metadata": {
        "id": "30ZAjix3x8CM"
      },
      "source": [
        "class Focus(nn.Module):\n",
        "  def __init__(self):\n",
        "      super(Focus,self).__init__()\n",
        "      self.fc1 = nn.Linear(2,1)\n",
        "\n",
        "  def forward(self,z):\n",
        "      x = torch.zeros([batch,9],dtype=torch.float64)\n",
        "      y = torch.zeros([batch,2], dtype=torch.float64)\n",
        "      x,y = x.to(\"cuda\"),y.to(\"cuda\")\n",
        "      for i in range(9):\n",
        "          x[:,i] = self.helper(z[:,2*i:2*i+2])[:,0]\n",
        "          #print(k[:,0].shape,x[:,i].shape)\n",
        "      x = F.softmax(x,dim=1)   # alphas\n",
        "      x1 = x[:,0]\n",
        "      for i in range(9):\n",
        "          x1 = x[:,i]          \n",
        "          #print()\n",
        "          y = y+torch.mul(x1[:,None],z[:,2*i:2*i+2])\n",
        "      # print(y.shape, x.shape)\n",
        "      return x , y\n",
        "    \n",
        "  def helper(self, x):\n",
        "    x = x.view(-1, 2)\n",
        "    # x = F.relu(self.fc1(x))\n",
        "    x = (self.fc1(x))\n",
        "\n",
        "    return x"
      ],
      "execution_count": 14,
      "outputs": []
    },
    {
      "cell_type": "code",
      "metadata": {
        "id": "0dYXnywAD-4l"
      },
      "source": [
        "class Classification(nn.Module):\n",
        "  def __init__(self):\n",
        "    super(Classification, self).__init__()\n",
        "    self.fc1 = nn.Linear(2, 3)\n",
        "\n",
        "\n",
        "  def forward(self, x):\n",
        "    x = x.view(-1, 2)\n",
        "    x = self.fc1(x)\n",
        "    # print(x.shape)\n",
        "    return x"
      ],
      "execution_count": 15,
      "outputs": []
    },
    {
      "cell_type": "code",
      "metadata": {
        "id": "Yl41sE8vFERk"
      },
      "source": [
        "import torch.optim as optim\n",
        "\n",
        "def train(train_loader, test_loader, focus_net, classify):    \n",
        "  criterion = nn.CrossEntropyLoss()\n",
        "  optimizer_classify = optim.SGD(classify.parameters(), lr=0.01 , momentum=0.9)\n",
        "  optimizer_focus = optim.SGD(focus_net.parameters(), lr=0.01, momentum=0.9)\n",
        "\n",
        "  print('-'*50)\n",
        "  print(focus_net.fc1.weight, classify.fc1.weight, classify.fc1.bias)\n",
        "  nos_epochs = 1000\n",
        "  loss_ret=0.0\n",
        "  for epoch in range(nos_epochs):  # loop over the dataset multiple times\n",
        "    \n",
        "    running_loss = 0.0\n",
        "    epoch_loss = []\n",
        "    cnt=0\n",
        "\n",
        "    iteration = desired_num // batch\n",
        "    \n",
        "    #training data set\n",
        "    \n",
        "    for i, data in  enumerate(train_loader):\n",
        "      inputs , labels , fore_idx = data\n",
        "      inputs, labels = inputs.to(\"cuda\"), labels.to(\"cuda\")\n",
        "      inputs = inputs.double()\n",
        "      labels = labels\n",
        "      # zero the parameter gradients\n",
        "      \n",
        "      optimizer_focus.zero_grad()\n",
        "      optimizer_classify.zero_grad()\n",
        "      \n",
        "      alphas, avg_images = focus_net(inputs)\n",
        "      outputs = classify(avg_images)\n",
        "\n",
        "      _,predicted = torch.max(outputs.data, 1)\n",
        "      # print(predicted)\n",
        "      # print(outputs.shape,labels.shape)\n",
        "      # print(outputs)\n",
        "      # print(labels)\n",
        "      loss = criterion(outputs, labels) \n",
        "      loss.backward()\n",
        "      optimizer_focus.step()\n",
        "      optimizer_classify.step()\n",
        "\n",
        "      running_loss += loss.item()\n",
        "      # mini = 3\n",
        "      # if cnt % mini == mini-1 :    # print every 40 mini-batches\n",
        "      epoch_loss.append(running_loss)\n",
        "      running_loss = 0.0\n",
        "      cnt=cnt+1\n",
        "    loss_ret = np.mean(epoch_loss)\n",
        "    if(epoch%200==0):\n",
        "      print('[%d, %5d] loss: %.3f' %(epoch + 1, cnt + 1, np.mean(epoch_loss)))\n",
        "    if(np.mean(epoch_loss) <= 0.001):\n",
        "        break;\n",
        "\n",
        "  with torch.no_grad():\n",
        "    focus_true_pred_true =0\n",
        "    focus_false_pred_true =0\n",
        "    focus_true_pred_false =0\n",
        "    focus_false_pred_false =0\n",
        "\n",
        "    argmax_more_than_half = 0\n",
        "    argmax_less_than_half =0\n",
        "    for data in test_loader:\n",
        "      inputs, labels , fore_idx = data\n",
        "      inputs = inputs.double()\n",
        "      inputs, labels = inputs.to(\"cuda\"), labels.to(\"cuda\")\n",
        "      alphas, avg_images = focus_net(inputs)\n",
        "      outputs = classify(avg_images)\n",
        "      _,predicted = torch.max(outputs.data, 1)\n",
        "\n",
        "      for j in range (batch):\n",
        "        focus = torch.argmax(alphas[j])\n",
        "\n",
        "        if(alphas[j][focus] >= 0.5):\n",
        "          argmax_more_than_half +=1\n",
        "        else:\n",
        "          argmax_less_than_half +=1\n",
        "\n",
        "        # print(focus, fore_idx[j], predicted[j], labels[j])\n",
        "        if(focus == fore_idx[j] and predicted[j] == labels[j]):\n",
        "          focus_true_pred_true += 1\n",
        "\n",
        "        elif(focus != fore_idx[j] and predicted[j] == labels[j]):\n",
        "          focus_false_pred_true +=1\n",
        "\n",
        "        elif(focus == fore_idx[j] and predicted[j] != labels[j]):\n",
        "          focus_true_pred_false +=1\n",
        "\n",
        "        elif(focus != fore_idx[j] and predicted[j] != labels[j]):\n",
        "          focus_false_pred_false +=1\n",
        "\n",
        "  print('Finished Training')  \n",
        "  return loss_ret, argmax_more_than_half/10, focus_true_pred_true/10, focus_false_pred_true/10, focus_true_pred_false/10 , focus_false_pred_false/10, focus_net.fc1.weight, classify.fc1.weight, classify.fc1.bias\n",
        "    \n"
      ],
      "execution_count": 16,
      "outputs": []
    },
    {
      "cell_type": "code",
      "metadata": {
        "id": "b0rXlZZfUK3B",
        "colab": {
          "base_uri": "https://localhost:8080/"
        },
        "outputId": "c0536e34-4990-49e8-9273-5cf2755349b3"
      },
      "source": [
        "torch.manual_seed(12)\n",
        "focus_net = Focus().double()\n",
        "focus_net.fc1.weight = torch.nn.Parameter(torch.tensor(np.array([[0.0, 0.0]])))\n",
        "torch.manual_seed(12)\n",
        "classify = Classification().double()\n",
        "classify.fc1.weight = torch.nn.Parameter(torch.tensor(np.array([[0.0, 0.0], [0.0, 0.0], [0.0, 0.0] ])))\n",
        "classify.fc1.bias = torch.nn.Parameter(torch.tensor(np.array([0.0, 0.0, 0.0])))\n",
        "focus_net = focus_net.to(\"cuda\")\n",
        "classify = classify.to(\"cuda\")\n",
        "# print(\"--\"*40,\"a,b,c = \",a[i],b[j],c[k])\n",
        "print(focus_net.fc1.weight, classify.fc1.weight, classify.fc1.bias)"
      ],
      "execution_count": 17,
      "outputs": [
        {
          "output_type": "stream",
          "text": [
            "Parameter containing:\n",
            "tensor([[0., 0.]], device='cuda:0', dtype=torch.float64, requires_grad=True) Parameter containing:\n",
            "tensor([[0., 0.],\n",
            "        [0., 0.],\n",
            "        [0., 0.]], device='cuda:0', dtype=torch.float64, requires_grad=True) Parameter containing:\n",
            "tensor([0., 0., 0.], device='cuda:0', dtype=torch.float64, requires_grad=True)\n"
          ],
          "name": "stdout"
        }
      ]
    },
    {
      "cell_type": "code",
      "metadata": {
        "id": "PEXvq7EWUck2",
        "colab": {
          "base_uri": "https://localhost:8080/"
        },
        "outputId": "49fbcacb-b9f5-4e62-dce3-d183ab4fd9b4"
      },
      "source": [
        "cost, alpha_per, ftpt, ffpt, ftpf, ffpf, f_a, f_b, f_c = train(train_loader, test_loader, focus_net, classify)"
      ],
      "execution_count": 18,
      "outputs": [
        {
          "output_type": "stream",
          "text": [
            "--------------------------------------------------\n",
            "Parameter containing:\n",
            "tensor([[0., 0.]], device='cuda:0', dtype=torch.float64, requires_grad=True) Parameter containing:\n",
            "tensor([[0., 0.],\n",
            "        [0., 0.],\n",
            "        [0., 0.]], device='cuda:0', dtype=torch.float64, requires_grad=True) Parameter containing:\n",
            "tensor([0., 0., 0.], device='cuda:0', dtype=torch.float64, requires_grad=True)\n",
            "[1,     2] loss: 1.099\n",
            "[201,     2] loss: 0.008\n",
            "[401,     2] loss: 0.005\n",
            "[601,     2] loss: 0.004\n",
            "[801,     2] loss: 0.003\n",
            "Finished Training\n"
          ],
          "name": "stdout"
        }
      ]
    },
    {
      "cell_type": "code",
      "metadata": {
        "colab": {
          "base_uri": "https://localhost:8080/"
        },
        "id": "Q1J1dABapmwv",
        "outputId": "e6be91eb-ad84-46e5-ac30-a14dd821ca92"
      },
      "source": [
        "cost, alpha_per, ftpt, ffpt, ftpf, ffpf, f_a, f_b, f_c"
      ],
      "execution_count": 19,
      "outputs": [
        {
          "output_type": "execute_result",
          "data": {
            "text/plain": [
              "(0.00244992790566648, 100.0, 100.0, 0.0, 0.0, 0.0, Parameter containing:\n",
              " tensor([[-0.8963, -0.7067]], device='cuda:0', dtype=torch.float64,\n",
              "        requires_grad=True), Parameter containing:\n",
              " tensor([[-0.2846, -0.2525],\n",
              "         [ 1.0105, -1.4098],\n",
              "         [-0.7259,  1.6624]], device='cuda:0', dtype=torch.float64,\n",
              "        requires_grad=True), Parameter containing:\n",
              " tensor([-0.5226,  0.3213,  0.2013], device='cuda:0', dtype=torch.float64,\n",
              "        requires_grad=True))"
            ]
          },
          "metadata": {
            "tags": []
          },
          "execution_count": 19
        }
      ]
    },
    {
      "cell_type": "code",
      "metadata": {
        "colab": {
          "base_uri": "https://localhost:8080/",
          "height": 214
        },
        "id": "z6mGjfGrebBG",
        "outputId": "2c5bac3c-9a21-4087-d0f0-146902abb729"
      },
      "source": [
        "# import numpy as np\n",
        "# import matplotlib.pyplot as plt\n",
        "# from matplotlib import cm\n",
        "# from sklearn import svm\n",
        "\n",
        "# # we create 40 separable points\n",
        "# np.random.seed(0)\n",
        "# X = np.r_[np.random.randn(20, 2) - [3, 3], np.random.randn(20, 2) + [3, 3]]\n",
        "# Y = [0] * 20 + [1] * 20\n",
        "\n",
        "# # figure number\n",
        "# fignum = 1\n",
        "\n",
        "# # fit the model\n",
        "# # for name, penalty in (('unreg', 1), ('reg', 0.05)):\n",
        "\n",
        "# clf = svm.SVC(kernel='linear', C=1)\n",
        "# clf.fit(X, Y)\n",
        "\n",
        "# # get the separating hyperplane\n",
        "# w = clf.coef_[0]\n",
        "# a = -w[0] / w[1]\n",
        "# xx = np.linspace(-5, 5)\n",
        "# yy = a * xx - (clf.intercept_[0]) / w[1]\n",
        "\n",
        "# # plot the parallels to the separating hyperplane that pass through the\n",
        "# # support vectors (margin away from hyperplane in direction\n",
        "# # perpendicular to hyperplane). This is sqrt(1+a^2) away vertically in\n",
        "# # 2-d.\n",
        "# margin = 1 / np.sqrt(np.sum(clf.coef_ ** 2))\n",
        "# print(margin)\n",
        "# yy_down = yy - np.sqrt(1 + a ** 2) * margin\n",
        "# yy_up = yy + np.sqrt(1 + a ** 2) * margin\n",
        "\n",
        "# # plot the line, the points, and the nearest vectors to the plane\n",
        "# plt.figure(fignum, figsize=(4, 3))\n",
        "# plt.clf()\n",
        "# plt.plot(xx, yy, 'k-')\n",
        "# plt.plot(xx, yy_down, 'k--')\n",
        "\n",
        "# plt.plot(xx, yy_up, 'k--')\n",
        "# plt.scatter(clf.support_vectors_[:, 0], clf.support_vectors_[:, 1], s=80,\n",
        "#             facecolors='none', zorder=10, edgecolors='k',\n",
        "#             cmap=cm.get_cmap('RdBu'))\n",
        "# plt.scatter(X[:, 0], X[:, 1], c=Y, zorder=10, cmap=cm.get_cmap('RdBu'),\n",
        "#             edgecolors='k')\n",
        "\n",
        "# plt.axis('tight')\n",
        "# x_min = -4.8\n",
        "# x_max = 4.2\n",
        "# y_min = -6\n",
        "# y_max = 6\n",
        "\n",
        "# YY, XX = np.meshgrid(yy, xx)\n",
        "# xy = np.vstack([XX.ravel(), YY.ravel()]).T\n",
        "# Z = clf.decision_function(xy).reshape(XX.shape)\n",
        "\n",
        "# # Put the result into a contour plot\n",
        "# plt.contourf(XX, YY, Z, cmap=cm.get_cmap('RdBu'),\n",
        "#               alpha=0.5, linestyles=['-'])\n",
        "\n",
        "# plt.xlim(x_min, x_max)\n",
        "# plt.ylim(y_min, y_max)\n",
        "\n",
        "# plt.xticks(())\n",
        "# plt.yticks(())\n",
        "# # fignum = fignum + 1a\n",
        "\n",
        "# plt.show()"
      ],
      "execution_count": null,
      "outputs": [
        {
          "output_type": "stream",
          "text": [
            "2.295644324473828\n"
          ],
          "name": "stdout"
        },
        {
          "output_type": "display_data",
          "data": {
            "image/png": "[encoded data removed]",
            "text/plain": [
              "<Figure size 288x216 with 1 Axes>"
            ]
          },
          "metadata": {
            "tags": []
          }
        }
      ]
    },
    {
      "cell_type": "code",
      "metadata": {
        "id": "eOfYNQ5hedmj"
      },
      "source": [
        ""
      ],
      "execution_count": null,
      "outputs": []
    }
  ]
}